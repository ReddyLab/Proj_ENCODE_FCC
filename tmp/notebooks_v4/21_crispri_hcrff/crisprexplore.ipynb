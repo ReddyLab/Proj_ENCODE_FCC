{
 "cells": [
  {
   "cell_type": "code",
   "execution_count": 1,
   "metadata": {},
   "outputs": [
    {
     "name": "stdout",
     "output_type": "stream",
     "text": [
      "You are in Singularity: singularity_proj_encode_fcc \n",
      "BASE DIRECTORY (FD_BASE): /data/reddylab/Kuei \n",
      "WORK DIRECTORY (FD_WORK): /data/reddylab/Kuei/out \n",
      "CODE DIRECTORY (FD_CODE): /data/reddylab/Kuei/code \n",
      "PATH OF PROJECT (FD_PRJ): /data/reddylab/Kuei/code/Proj_CombEffect_ENCODE_FCC \n",
      "PATH OF RESULTS (FD_RES): /data/reddylab/Kuei/out/proj_combeffect_encode_fcc \n",
      "PATH OF LOG     (FD_LOG): /data/reddylab/Kuei/out/proj_combeffect_encode_fcc/log \n"
     ]
    }
   ],
   "source": [
    "suppressWarnings(suppressMessages(source(\"../config/config_sing.R\")))\n",
    "show_env()"
   ]
  },
  {
   "cell_type": "code",
   "execution_count": 2,
   "metadata": {},
   "outputs": [
    {
     "name": "stdout",
     "output_type": "stream",
     "text": [
      "[1] 20  5\n"
     ]
    },
    {
     "data": {
      "text/html": [
       "<table class=\"dataframe\">\n",
       "<caption>A tibble: 6 × 5</caption>\n",
       "<thead>\n",
       "\t<tr><th scope=col>gene</th><th scope=col>chr</th><th scope=col>strand</th><th scope=col>TSS</th><th scope=col>TES</th></tr>\n",
       "\t<tr><th scope=col>&lt;chr&gt;</th><th scope=col>&lt;chr&gt;</th><th scope=col>&lt;chr&gt;</th><th scope=col>&lt;dbl&gt;</th><th scope=col>&lt;dbl&gt;</th></tr>\n",
       "</thead>\n",
       "<tbody>\n",
       "\t<tr><td>CAPRIN1</td><td>chr11</td><td>+</td><td> 34051730</td><td> 34102610</td></tr>\n",
       "\t<tr><td>CAT    </td><td>chr11</td><td>+</td><td> 34438933</td><td> 34472060</td></tr>\n",
       "\t<tr><td>CD164  </td><td>chr6 </td><td>-</td><td>109366513</td><td>109382467</td></tr>\n",
       "\t<tr><td>ERP29  </td><td>chr12</td><td>+</td><td>112013347</td><td>112023220</td></tr>\n",
       "\t<tr><td>FADS1  </td><td>chr11</td><td>-</td><td> 61799628</td><td> 61817003</td></tr>\n",
       "\t<tr><td>FADS2  </td><td>chr11</td><td>+</td><td> 61816202</td><td> 61867354</td></tr>\n",
       "</tbody>\n",
       "</table>\n"
      ],
      "text/latex": [
       "A tibble: 6 × 5\n",
       "\\begin{tabular}{lllll}\n",
       " gene & chr & strand & TSS & TES\\\\\n",
       " <chr> & <chr> & <chr> & <dbl> & <dbl>\\\\\n",
       "\\hline\n",
       "\t CAPRIN1 & chr11 & + &  34051730 &  34102610\\\\\n",
       "\t CAT     & chr11 & + &  34438933 &  34472060\\\\\n",
       "\t CD164   & chr6  & - & 109366513 & 109382467\\\\\n",
       "\t ERP29   & chr12 & + & 112013347 & 112023220\\\\\n",
       "\t FADS1   & chr11 & - &  61799628 &  61817003\\\\\n",
       "\t FADS2   & chr11 & + &  61816202 &  61867354\\\\\n",
       "\\end{tabular}\n"
      ],
      "text/markdown": [
       "\n",
       "A tibble: 6 × 5\n",
       "\n",
       "| gene &lt;chr&gt; | chr &lt;chr&gt; | strand &lt;chr&gt; | TSS &lt;dbl&gt; | TES &lt;dbl&gt; |\n",
       "|---|---|---|---|---|\n",
       "| CAPRIN1 | chr11 | + |  34051730 |  34102610 |\n",
       "| CAT     | chr11 | + |  34438933 |  34472060 |\n",
       "| CD164   | chr6  | - | 109366513 | 109382467 |\n",
       "| ERP29   | chr12 | + | 112013347 | 112023220 |\n",
       "| FADS1   | chr11 | - |  61799628 |  61817003 |\n",
       "| FADS2   | chr11 | + |  61816202 |  61867354 |\n",
       "\n"
      ],
      "text/plain": [
       "  gene    chr   strand TSS       TES      \n",
       "1 CAPRIN1 chr11 +       34051730  34102610\n",
       "2 CAT     chr11 +       34438933  34472060\n",
       "3 CD164   chr6  -      109366513 109382467\n",
       "4 ERP29   chr12 +      112013347 112023220\n",
       "5 FADS1   chr11 -       61799628  61817003\n",
       "6 FADS2   chr11 +       61816202  61867354"
      ]
     },
     "metadata": {},
     "output_type": "display_data"
    }
   ],
   "source": [
    "fdiry = file.path(FD_RES, \"source\", \"CRISPRi_FlowFISH\")\n",
    "fname = \"K562_HCRFF_20genes_TSS_TES_coords.out\"\n",
    "fpath = file.path(fdiry, fname)\n",
    "\n",
    "dat = read_tsv(fpath, show_col_types = FALSE)\n",
    "\n",
    "dat_gene_info = dat\n",
    "print(dim(dat))\n",
    "head(dat)"
   ]
  },
  {
   "cell_type": "code",
   "execution_count": 3,
   "metadata": {},
   "outputs": [
    {
     "name": "stdout",
     "output_type": "stream",
     "text": [
      "[1] 20\n",
      " [1] \"CAPRIN1\" \"CAT\"     \"CD164\"   \"ERP29\"   \"FADS1\"   \"FADS2\"   \"FADS3\"  \n",
      " [8] \"FEN1\"    \"GATA1\"   \"HBE1\"    \"HBG1\"    \"HBG2\"    \"HBS1L\"   \"HDAC6\"  \n",
      "[15] \"LMO2\"    \"MEF2C\"   \"MYB\"     \"MYC\"     \"NMU\"     \"PVT1\"   \n"
     ]
    }
   ],
   "source": [
    "genes = dat_gene_info$gene\n",
    "print(length(genes))\n",
    "print(genes)"
   ]
  },
  {
   "cell_type": "code",
   "execution_count": 4,
   "metadata": {},
   "outputs": [
    {
     "name": "stdout",
     "output_type": "stream",
     "text": [
      "CAPRIN1 60000 17 \n",
      "CAT     60000 17 \n",
      "CD164   60001 17 \n",
      "ERP29   60000 17 \n",
      "FADS1   10000 17 \n",
      "FADS2   10000 17 \n",
      "FADS3   10000 17 \n",
      "FEN1    10000 17 \n",
      "GATA1   15335 17 \n",
      "HBE1    21170 17 \n",
      "HBG1    21170 17 \n",
      "HBG2    21170 17 \n",
      "HBS1L   21170 17 \n",
      "HDAC6   15335 17 \n",
      "LMO2    60000 17 \n",
      "MEF2C   60000 17 \n",
      "MYB     21170 17 \n",
      "MYC     51130 17 \n",
      "NMU     45500 17 \n",
      "PVT1    51130 17 \n"
     ]
    }
   ],
   "source": [
    "fdiry = file.path(FD_RES, \"source\", \"CRISPRi_FlowFISH\", \"track_bedgraph\")\n",
    "\n",
    "lst = lapply(genes, function(gene){\n",
    "    \n",
    "    ###\n",
    "    fname = paste(gene, \"HS_exp_r1.tsv.gz\", sep=\"_\")\n",
    "    fpath = file.path(fdiry, fname)\n",
    "    \n",
    "    ### read data\n",
    "    cnames = c(\"Chrom\", \"Start\", \"End\", \"Name\", \"SeqCounts\", \"Strand\", \"Guide_ID\", \n",
    "           \"Chrom_TSS\", \"Start_TSS\", \"End_TSS\", \"Strand_Gene\", \n",
    "           \"Gene_Symbol\", \n",
    "           \"Gene_ENS\", \n",
    "           \"Guide_SpacerSeq\",\n",
    "           \"Guide_Seq\",\n",
    "           \"Guide_Type\",\n",
    "           \"Notes\"\n",
    "          )\n",
    "    ctypes = cols(\n",
    "        \"Chrom\" = col_character(),\n",
    "        \"Start\" = col_integer(),\n",
    "        \"End\"   = col_integer()\n",
    "    )\n",
    "    dat = read_tsv(fpath, col_names = cnames, col_types = ctypes, show_col_types = FALSE)\n",
    "    return(dat)\n",
    "})\n",
    "names(lst) = genes\n",
    "\n",
    "lst_crispr_info = lst\n",
    "for (idx in names(lst)){\n",
    "    dat = lst[[idx]]\n",
    "    txt = format(idx, width = 7, justify = \"left\")\n",
    "    cat(txt, dim(dat), \"\\n\")\n",
    "}"
   ]
  },
  {
   "cell_type": "code",
   "execution_count": 5,
   "metadata": {},
   "outputs": [
    {
     "data": {
      "text/html": [
       "<table class=\"dataframe\">\n",
       "<caption>A tibble: 6 × 17</caption>\n",
       "<thead>\n",
       "\t<tr><th scope=col>Chrom</th><th scope=col>Start</th><th scope=col>End</th><th scope=col>Name</th><th scope=col>SeqCounts</th><th scope=col>Strand</th><th scope=col>Guide_ID</th><th scope=col>Chrom_TSS</th><th scope=col>Start_TSS</th><th scope=col>End_TSS</th><th scope=col>Strand_Gene</th><th scope=col>Gene_Symbol</th><th scope=col>Gene_ENS</th><th scope=col>Guide_SpacerSeq</th><th scope=col>Guide_Seq</th><th scope=col>Guide_Type</th><th scope=col>Notes</th></tr>\n",
       "\t<tr><th scope=col>&lt;chr&gt;</th><th scope=col>&lt;int&gt;</th><th scope=col>&lt;int&gt;</th><th scope=col>&lt;chr&gt;</th><th scope=col>&lt;dbl&gt;</th><th scope=col>&lt;chr&gt;</th><th scope=col>&lt;chr&gt;</th><th scope=col>&lt;chr&gt;</th><th scope=col>&lt;dbl&gt;</th><th scope=col>&lt;dbl&gt;</th><th scope=col>&lt;chr&gt;</th><th scope=col>&lt;chr&gt;</th><th scope=col>&lt;chr&gt;</th><th scope=col>&lt;chr&gt;</th><th scope=col>&lt;chr&gt;</th><th scope=col>&lt;chr&gt;</th><th scope=col>&lt;chr&gt;</th></tr>\n",
       "</thead>\n",
       "<tbody>\n",
       "\t<tr><td>chr11</td><td>61748850</td><td>61748853</td><td>NA|chr11:61748831-61748850:+</td><td>121</td><td>+</td><td>chr11:61748831-61748850:+</td><td>chr11</td><td>34051731</td><td>34051732</td><td>+</td><td>CAPRIN1</td><td>ENSG00000135387</td><td>CTTTACCTCCACTGTAAGGC</td><td>GCTTTACCTCCACTGTAAGGC</td><td>negative_control</td><td>STT</td></tr>\n",
       "\t<tr><td>chr11</td><td>61748851</td><td>61748854</td><td>NA|chr11:61748832-61748851:+</td><td>153</td><td>+</td><td>chr11:61748832-61748851:+</td><td>chr11</td><td>34051731</td><td>34051732</td><td>+</td><td>CAPRIN1</td><td>ENSG00000135387</td><td>TTTACCTCCACTGTAAGGCA</td><td>GTTTACCTCCACTGTAAGGCA</td><td>negative_control</td><td>STT</td></tr>\n",
       "\t<tr><td>chr11</td><td>61748971</td><td>61748974</td><td>NA|chr11:61748975-61748994:-</td><td>172</td><td>-</td><td>chr11:61748975-61748994:-</td><td>chr11</td><td>34051731</td><td>34051732</td><td>+</td><td>CAPRIN1</td><td>ENSG00000135387</td><td>CTACCGAGCCACAGTGAGTG</td><td>GCTACCGAGCCACAGTGAGTG</td><td>negative_control</td><td>STT</td></tr>\n",
       "\t<tr><td>chr11</td><td>61749002</td><td>61749005</td><td>NA|chr11:61748983-61749002:+</td><td>  3</td><td>+</td><td>chr11:61748983-61749002:+</td><td>chr11</td><td>34051731</td><td>34051732</td><td>+</td><td>CAPRIN1</td><td>ENSG00000135387</td><td>GTGGCTCGGTAGAGAAGCCA</td><td>GTGGCTCGGTAGAGAAGCCA </td><td>negative_control</td><td>STT</td></tr>\n",
       "\t<tr><td>chr11</td><td>61749033</td><td>61749036</td><td>NA|chr11:61749014-61749033:+</td><td>246</td><td>+</td><td>chr11:61749014-61749033:+</td><td>chr11</td><td>34051731</td><td>34051732</td><td>+</td><td>CAPRIN1</td><td>ENSG00000135387</td><td>GAGGACTCATCTCCATTGAT</td><td>GAGGACTCATCTCCATTGAT </td><td>negative_control</td><td>STT</td></tr>\n",
       "\t<tr><td>chr11</td><td>61749038</td><td>61749041</td><td>NA|chr11:61749042-61749061:-</td><td>851</td><td>-</td><td>chr11:61749042-61749061:-</td><td>chr11</td><td>34051731</td><td>34051732</td><td>+</td><td>CAPRIN1</td><td>ENSG00000135387</td><td>ACTTGCATACAAGGACCTAG</td><td>GACTTGCATACAAGGACCTAG</td><td>negative_control</td><td>STT</td></tr>\n",
       "</tbody>\n",
       "</table>\n"
      ],
      "text/latex": [
       "A tibble: 6 × 17\n",
       "\\begin{tabular}{lllllllllllllllll}\n",
       " Chrom & Start & End & Name & SeqCounts & Strand & Guide\\_ID & Chrom\\_TSS & Start\\_TSS & End\\_TSS & Strand\\_Gene & Gene\\_Symbol & Gene\\_ENS & Guide\\_SpacerSeq & Guide\\_Seq & Guide\\_Type & Notes\\\\\n",
       " <chr> & <int> & <int> & <chr> & <dbl> & <chr> & <chr> & <chr> & <dbl> & <dbl> & <chr> & <chr> & <chr> & <chr> & <chr> & <chr> & <chr>\\\\\n",
       "\\hline\n",
       "\t chr11 & 61748850 & 61748853 & NA\\textbar{}chr11:61748831-61748850:+ & 121 & + & chr11:61748831-61748850:+ & chr11 & 34051731 & 34051732 & + & CAPRIN1 & ENSG00000135387 & CTTTACCTCCACTGTAAGGC & GCTTTACCTCCACTGTAAGGC & negative\\_control & STT\\\\\n",
       "\t chr11 & 61748851 & 61748854 & NA\\textbar{}chr11:61748832-61748851:+ & 153 & + & chr11:61748832-61748851:+ & chr11 & 34051731 & 34051732 & + & CAPRIN1 & ENSG00000135387 & TTTACCTCCACTGTAAGGCA & GTTTACCTCCACTGTAAGGCA & negative\\_control & STT\\\\\n",
       "\t chr11 & 61748971 & 61748974 & NA\\textbar{}chr11:61748975-61748994:- & 172 & - & chr11:61748975-61748994:- & chr11 & 34051731 & 34051732 & + & CAPRIN1 & ENSG00000135387 & CTACCGAGCCACAGTGAGTG & GCTACCGAGCCACAGTGAGTG & negative\\_control & STT\\\\\n",
       "\t chr11 & 61749002 & 61749005 & NA\\textbar{}chr11:61748983-61749002:+ &   3 & + & chr11:61748983-61749002:+ & chr11 & 34051731 & 34051732 & + & CAPRIN1 & ENSG00000135387 & GTGGCTCGGTAGAGAAGCCA & GTGGCTCGGTAGAGAAGCCA  & negative\\_control & STT\\\\\n",
       "\t chr11 & 61749033 & 61749036 & NA\\textbar{}chr11:61749014-61749033:+ & 246 & + & chr11:61749014-61749033:+ & chr11 & 34051731 & 34051732 & + & CAPRIN1 & ENSG00000135387 & GAGGACTCATCTCCATTGAT & GAGGACTCATCTCCATTGAT  & negative\\_control & STT\\\\\n",
       "\t chr11 & 61749038 & 61749041 & NA\\textbar{}chr11:61749042-61749061:- & 851 & - & chr11:61749042-61749061:- & chr11 & 34051731 & 34051732 & + & CAPRIN1 & ENSG00000135387 & ACTTGCATACAAGGACCTAG & GACTTGCATACAAGGACCTAG & negative\\_control & STT\\\\\n",
       "\\end{tabular}\n"
      ],
      "text/markdown": [
       "\n",
       "A tibble: 6 × 17\n",
       "\n",
       "| Chrom &lt;chr&gt; | Start &lt;int&gt; | End &lt;int&gt; | Name &lt;chr&gt; | SeqCounts &lt;dbl&gt; | Strand &lt;chr&gt; | Guide_ID &lt;chr&gt; | Chrom_TSS &lt;chr&gt; | Start_TSS &lt;dbl&gt; | End_TSS &lt;dbl&gt; | Strand_Gene &lt;chr&gt; | Gene_Symbol &lt;chr&gt; | Gene_ENS &lt;chr&gt; | Guide_SpacerSeq &lt;chr&gt; | Guide_Seq &lt;chr&gt; | Guide_Type &lt;chr&gt; | Notes &lt;chr&gt; |\n",
       "|---|---|---|---|---|---|---|---|---|---|---|---|---|---|---|---|---|\n",
       "| chr11 | 61748850 | 61748853 | NA|chr11:61748831-61748850:+ | 121 | + | chr11:61748831-61748850:+ | chr11 | 34051731 | 34051732 | + | CAPRIN1 | ENSG00000135387 | CTTTACCTCCACTGTAAGGC | GCTTTACCTCCACTGTAAGGC | negative_control | STT |\n",
       "| chr11 | 61748851 | 61748854 | NA|chr11:61748832-61748851:+ | 153 | + | chr11:61748832-61748851:+ | chr11 | 34051731 | 34051732 | + | CAPRIN1 | ENSG00000135387 | TTTACCTCCACTGTAAGGCA | GTTTACCTCCACTGTAAGGCA | negative_control | STT |\n",
       "| chr11 | 61748971 | 61748974 | NA|chr11:61748975-61748994:- | 172 | - | chr11:61748975-61748994:- | chr11 | 34051731 | 34051732 | + | CAPRIN1 | ENSG00000135387 | CTACCGAGCCACAGTGAGTG | GCTACCGAGCCACAGTGAGTG | negative_control | STT |\n",
       "| chr11 | 61749002 | 61749005 | NA|chr11:61748983-61749002:+ |   3 | + | chr11:61748983-61749002:+ | chr11 | 34051731 | 34051732 | + | CAPRIN1 | ENSG00000135387 | GTGGCTCGGTAGAGAAGCCA | GTGGCTCGGTAGAGAAGCCA  | negative_control | STT |\n",
       "| chr11 | 61749033 | 61749036 | NA|chr11:61749014-61749033:+ | 246 | + | chr11:61749014-61749033:+ | chr11 | 34051731 | 34051732 | + | CAPRIN1 | ENSG00000135387 | GAGGACTCATCTCCATTGAT | GAGGACTCATCTCCATTGAT  | negative_control | STT |\n",
       "| chr11 | 61749038 | 61749041 | NA|chr11:61749042-61749061:- | 851 | - | chr11:61749042-61749061:- | chr11 | 34051731 | 34051732 | + | CAPRIN1 | ENSG00000135387 | ACTTGCATACAAGGACCTAG | GACTTGCATACAAGGACCTAG | negative_control | STT |\n",
       "\n"
      ],
      "text/plain": [
       "  Chrom Start    End      Name                         SeqCounts Strand\n",
       "1 chr11 61748850 61748853 NA|chr11:61748831-61748850:+ 121       +     \n",
       "2 chr11 61748851 61748854 NA|chr11:61748832-61748851:+ 153       +     \n",
       "3 chr11 61748971 61748974 NA|chr11:61748975-61748994:- 172       -     \n",
       "4 chr11 61749002 61749005 NA|chr11:61748983-61749002:+   3       +     \n",
       "5 chr11 61749033 61749036 NA|chr11:61749014-61749033:+ 246       +     \n",
       "6 chr11 61749038 61749041 NA|chr11:61749042-61749061:- 851       -     \n",
       "  Guide_ID                  Chrom_TSS Start_TSS End_TSS  Strand_Gene\n",
       "1 chr11:61748831-61748850:+ chr11     34051731  34051732 +          \n",
       "2 chr11:61748832-61748851:+ chr11     34051731  34051732 +          \n",
       "3 chr11:61748975-61748994:- chr11     34051731  34051732 +          \n",
       "4 chr11:61748983-61749002:+ chr11     34051731  34051732 +          \n",
       "5 chr11:61749014-61749033:+ chr11     34051731  34051732 +          \n",
       "6 chr11:61749042-61749061:- chr11     34051731  34051732 +          \n",
       "  Gene_Symbol Gene_ENS        Guide_SpacerSeq      Guide_Seq            \n",
       "1 CAPRIN1     ENSG00000135387 CTTTACCTCCACTGTAAGGC GCTTTACCTCCACTGTAAGGC\n",
       "2 CAPRIN1     ENSG00000135387 TTTACCTCCACTGTAAGGCA GTTTACCTCCACTGTAAGGCA\n",
       "3 CAPRIN1     ENSG00000135387 CTACCGAGCCACAGTGAGTG GCTACCGAGCCACAGTGAGTG\n",
       "4 CAPRIN1     ENSG00000135387 GTGGCTCGGTAGAGAAGCCA GTGGCTCGGTAGAGAAGCCA \n",
       "5 CAPRIN1     ENSG00000135387 GAGGACTCATCTCCATTGAT GAGGACTCATCTCCATTGAT \n",
       "6 CAPRIN1     ENSG00000135387 ACTTGCATACAAGGACCTAG GACTTGCATACAAGGACCTAG\n",
       "  Guide_Type       Notes\n",
       "1 negative_control STT  \n",
       "2 negative_control STT  \n",
       "3 negative_control STT  \n",
       "4 negative_control STT  \n",
       "5 negative_control STT  \n",
       "6 negative_control STT  "
      ]
     },
     "metadata": {},
     "output_type": "display_data"
    }
   ],
   "source": [
    "dat = lst[[1]]\n",
    "head(dat)"
   ]
  },
  {
   "cell_type": "code",
   "execution_count": 7,
   "metadata": {},
   "outputs": [],
   "source": [
    "lst = lst_crispr_info\n",
    "lst = lapply(lst, function(dat){\n",
    "    dat = dat %>% \n",
    "       dplyr::filter(Guide_Type == \"targeting\") %>%\n",
    "       dplyr::select(Chrom, Start, End)\n",
    "    return(dat)\n",
    "})"
   ]
  },
  {
   "cell_type": "code",
   "execution_count": 10,
   "metadata": {},
   "outputs": [
    {
     "data": {
      "text/html": [
       "<style>\n",
       ".list-inline {list-style: none; margin:0; padding: 0}\n",
       ".list-inline>li {display: inline-block}\n",
       ".list-inline>li:not(:last-child)::after {content: \"\\00b7\"; padding: 0 .5ex}\n",
       "</style>\n",
       "<ol class=list-inline><li>344689</li><li>3</li></ol>\n"
      ],
      "text/latex": [
       "\\begin{enumerate*}\n",
       "\\item 344689\n",
       "\\item 3\n",
       "\\end{enumerate*}\n"
      ],
      "text/markdown": [
       "1. 344689\n",
       "2. 3\n",
       "\n",
       "\n"
      ],
      "text/plain": [
       "[1] 344689      3"
      ]
     },
     "metadata": {},
     "output_type": "display_data"
    }
   ],
   "source": [
    "dat = bind_rows(lst) %>% distinct\n",
    "dim(dat)"
   ]
  },
  {
   "cell_type": "code",
   "execution_count": null,
   "metadata": {},
   "outputs": [],
   "source": []
  }
 ],
 "metadata": {
  "kernelspec": {
   "display_name": "R",
   "language": "R",
   "name": "ir"
  },
  "language_info": {
   "codemirror_mode": "r",
   "file_extension": ".r",
   "mimetype": "text/x-r-source",
   "name": "R",
   "pygments_lexer": "r",
   "version": "4.3.0"
  }
 },
 "nbformat": 4,
 "nbformat_minor": 4
}
