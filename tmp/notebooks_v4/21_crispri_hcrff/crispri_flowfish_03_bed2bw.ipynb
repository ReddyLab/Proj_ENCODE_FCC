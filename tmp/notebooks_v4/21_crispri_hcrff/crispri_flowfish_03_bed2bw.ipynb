{
 "cells": [
  {
   "cell_type": "markdown",
   "metadata": {},
   "source": [
    "**Set environment**"
   ]
  },
  {
   "cell_type": "code",
   "execution_count": 1,
   "metadata": {},
   "outputs": [
    {
     "name": "stdout",
     "output_type": "stream",
     "text": [
      "You are on Duke Server: HARDAC\n",
      "BASE DIRECTORY (FD_BASE): /data/reddylab/Kuei\n",
      "WORK DIRECTORY (FD_WORK): /data/reddylab/Kuei/out\n",
      "CODE DIRECTORY (FD_CODE): /data/reddylab/Kuei/code\n",
      "SING DIRECTORY (FD_SING): /data/reddylab/Kuei/singularity\n",
      "PATH OF PROJECT (FD_PRJ): /data/reddylab/Kuei/code/Proj_CombEffect_ENCODE_FCC\n",
      "PATH OF RESULTS (FD_RES): /data/reddylab/Kuei/out/proj_combeffect_encode_fcc\n",
      "PATH OF LOG     (FD_LOG): /data/reddylab/Kuei/out/proj_combeffect_encode_fcc/log\n",
      "\n"
     ]
    }
   ],
   "source": [
    "### set env\n",
    "source ../config/config_duke.sh\n",
    "show_env"
   ]
  },
  {
   "cell_type": "code",
   "execution_count": 2,
   "metadata": {},
   "outputs": [
    {
     "name": "stdout",
     "output_type": "stream",
     "text": [
      "\u001b[0m\u001b[38;5;34m/data/common/shared_conda_envs/ucsc/bin/bedGraphToBigWig\u001b[0m\n"
     ]
    }
   ],
   "source": [
    "FD_UCSC=/data/common/shared_conda_envs/ucsc/bin\n",
    "ls ${FD_UCSC}/bedGraphToBigWig"
   ]
  },
  {
   "cell_type": "markdown",
   "metadata": {},
   "source": [
    "**Check data**"
   ]
  },
  {
   "cell_type": "code",
   "execution_count": 8,
   "metadata": {},
   "outputs": [
    {
     "name": "stdout",
     "output_type": "stream",
     "text": [
      "20\n",
      "/data/reddylab/Kuei/out/proj_combeffect_encode_fcc/results/CRISPRi_FlowFISH/coverage/CAPRIN1_HCRFF_rAVG.log2FC_2.filtered.bed\n",
      "/data/reddylab/Kuei/out/proj_combeffect_encode_fcc/results/CRISPRi_FlowFISH/coverage/CAT_HCRFF_rAVG.log2FC_2.filtered.bed\n",
      "/data/reddylab/Kuei/out/proj_combeffect_encode_fcc/results/CRISPRi_FlowFISH/coverage/CD164_HCRFF_rAVG.log2FC_2.filtered.bed\n",
      "/data/reddylab/Kuei/out/proj_combeffect_encode_fcc/results/CRISPRi_FlowFISH/coverage/ERP29_HCRFF_rAVG.log2FC_2.filtered.bed\n",
      "/data/reddylab/Kuei/out/proj_combeffect_encode_fcc/results/CRISPRi_FlowFISH/coverage/FADS1_HCRFF_rAVG.log2FC_2.filtered.bed\n",
      "/data/reddylab/Kuei/out/proj_combeffect_encode_fcc/results/CRISPRi_FlowFISH/coverage/FADS2_HCRFF_rAVG.log2FC_2.filtered.bed\n",
      "/data/reddylab/Kuei/out/proj_combeffect_encode_fcc/results/CRISPRi_FlowFISH/coverage/FADS3_HCRFF_rAVG.log2FC_2.filtered.bed\n",
      "/data/reddylab/Kuei/out/proj_combeffect_encode_fcc/results/CRISPRi_FlowFISH/coverage/FEN1_HCRFF_rAVG.log2FC_2.filtered.bed\n",
      "/data/reddylab/Kuei/out/proj_combeffect_encode_fcc/results/CRISPRi_FlowFISH/coverage/GATA1_HCRFF_rAVG.log2FC_2.filtered.bed\n",
      "/data/reddylab/Kuei/out/proj_combeffect_encode_fcc/results/CRISPRi_FlowFISH/coverage/HBE1_HCRFF_rAVG.log2FC_2.filtered.bed\n",
      "/data/reddylab/Kuei/out/proj_combeffect_encode_fcc/results/CRISPRi_FlowFISH/coverage/HBG1_HCRFF_rAVG.log2FC_2.filtered.bed\n",
      "/data/reddylab/Kuei/out/proj_combeffect_encode_fcc/results/CRISPRi_FlowFISH/coverage/HBG2_HCRFF_rAVG.log2FC_2.filtered.bed\n",
      "/data/reddylab/Kuei/out/proj_combeffect_encode_fcc/results/CRISPRi_FlowFISH/coverage/HBS1L_HCRFF_rAVG.log2FC_2.filtered.bed\n",
      "/data/reddylab/Kuei/out/proj_combeffect_encode_fcc/results/CRISPRi_FlowFISH/coverage/HDAC6_HCRFF_rAVG.log2FC_2.filtered.bed\n",
      "/data/reddylab/Kuei/out/proj_combeffect_encode_fcc/results/CRISPRi_FlowFISH/coverage/LMO2_HCRFF_rAVG.log2FC_2.filtered.bed\n",
      "/data/reddylab/Kuei/out/proj_combeffect_encode_fcc/results/CRISPRi_FlowFISH/coverage/MEF2C_HCRFF_rAVG.log2FC_2.filtered.bed\n",
      "/data/reddylab/Kuei/out/proj_combeffect_encode_fcc/results/CRISPRi_FlowFISH/coverage/MYB_HCRFF_rAVG.log2FC_2.filtered.bed\n",
      "/data/reddylab/Kuei/out/proj_combeffect_encode_fcc/results/CRISPRi_FlowFISH/coverage/MYC_HCRFF_rAVG.log2FC_2.filtered.bed\n",
      "/data/reddylab/Kuei/out/proj_combeffect_encode_fcc/results/CRISPRi_FlowFISH/coverage/NMU_HCRFF_rAVG.log2FC_2.filtered.bed\n",
      "/data/reddylab/Kuei/out/proj_combeffect_encode_fcc/results/CRISPRi_FlowFISH/coverage/PVT1_HCRFF_rAVG.log2FC_2.filtered.bed\n"
     ]
    }
   ],
   "source": [
    "FDIRY=${FD_RES}/results/CRISPRi_FlowFISH/coverage\n",
    "\n",
    "### check: there are 20 genes\n",
    "ls ${FDIRY}/*filtered.bed* | grep -v Merge | wc -l\n",
    "\n",
    "### list out the files\n",
    "ls ${FDIRY}/*filtered.bed* | grep -v Merge"
   ]
  },
  {
   "cell_type": "markdown",
   "metadata": {},
   "source": [
    "**Test**"
   ]
  },
  {
   "cell_type": "code",
   "execution_count": 14,
   "metadata": {},
   "outputs": [
    {
     "name": "stdout",
     "output_type": "stream",
     "text": [
      "/data/reddylab/Kuei/out/proj_combeffect_encode_fcc/results/CRISPRi_FlowFISH/coverage/CAPRIN1_HCRFF_rAVG.log2FC_2.filtered.bed\n",
      "CAPRIN1_HCRFF_rAVG.log2FC_2.filtered.bed\n",
      "CAPRIN1_HCRFF_rAVG.log2FC_2.filtered\n",
      "CAPRIN1_HCRFF_rAVG.log2FC_2.filtered.bw\n"
     ]
    }
   ],
   "source": [
    "FP_BED=\"/data/reddylab/Kuei/out/proj_combeffect_encode_fcc/results/CRISPRi_FlowFISH/coverage/CAPRIN1_HCRFF_rAVG.log2FC_2.filtered.bed\"\n",
    "FN_BED=$(basename ${FP_BED})\n",
    "\n",
    "PREFIX=${FN_BED%.bed}\n",
    "FP_BWG=${PREFIX}.bw\n",
    "\n",
    "echo ${FP_BED}\n",
    "echo ${FN_BED}\n",
    "echo ${PREFIX}\n",
    "echo ${FP_BWG}"
   ]
  },
  {
   "cell_type": "code",
   "execution_count": 16,
   "metadata": {},
   "outputs": [
    {
     "name": "stdout",
     "output_type": "stream",
     "text": [
      "CAPRIN1_HCRFF_rAVG.log2FC_2.filtered.bed\n",
      "CAT_HCRFF_rAVG.log2FC_2.filtered.bed\n",
      "CD164_HCRFF_rAVG.log2FC_2.filtered.bed\n",
      "ERP29_HCRFF_rAVG.log2FC_2.filtered.bed\n",
      "FADS1_HCRFF_rAVG.log2FC_2.filtered.bed\n",
      "FADS2_HCRFF_rAVG.log2FC_2.filtered.bed\n",
      "FADS3_HCRFF_rAVG.log2FC_2.filtered.bed\n",
      "FEN1_HCRFF_rAVG.log2FC_2.filtered.bed\n",
      "GATA1_HCRFF_rAVG.log2FC_2.filtered.bed\n",
      "HBE1_HCRFF_rAVG.log2FC_2.filtered.bed\n",
      "HBG1_HCRFF_rAVG.log2FC_2.filtered.bed\n",
      "HBG2_HCRFF_rAVG.log2FC_2.filtered.bed\n",
      "HBS1L_HCRFF_rAVG.log2FC_2.filtered.bed\n",
      "HDAC6_HCRFF_rAVG.log2FC_2.filtered.bed\n",
      "LMO2_HCRFF_rAVG.log2FC_2.filtered.bed\n",
      "MEF2C_HCRFF_rAVG.log2FC_2.filtered.bed\n",
      "MYB_HCRFF_rAVG.log2FC_2.filtered.bed\n",
      "MYC_HCRFF_rAVG.log2FC_2.filtered.bed\n",
      "NMU_HCRFF_rAVG.log2FC_2.filtered.bed\n",
      "PVT1_HCRFF_rAVG.log2FC_2.filtered.bed\n"
     ]
    }
   ],
   "source": [
    "FDIRY=${FD_RES}/results/CRISPRi_FlowFISH/coverage\n",
    "\n",
    "FP_BEDS=($(ls ${FDIRY}/*filtered.bed* | grep -v Merge))\n",
    "for FP_BED in ${FP_BEDS[@]}; do\n",
    "    FN_BED=$(basename ${FP_BED})\n",
    "    echo ${FN_BED}\n",
    "done"
   ]
  },
  {
   "cell_type": "markdown",
   "metadata": {},
   "source": [
    "## Download chromosome size from UCSC"
   ]
  },
  {
   "cell_type": "code",
   "execution_count": 22,
   "metadata": {},
   "outputs": [
    {
     "name": "stdout",
     "output_type": "stream",
     "text": [
      "INFO: trying CURL  for database hg38\n",
      "url: http://hgdownload.soe.ucsc.edu/goldenPath/hg38/bigZips/hg38.chrom.sizes\n",
      "INFO: trying CURL  for database hg19\n",
      "url: http://hgdownload.soe.ucsc.edu/goldenPath/hg19/bigZips/hg19.chrom.sizes\n"
     ]
    }
   ],
   "source": [
    "${FD_UCSC}/fetchChromSizes hg38 > ${FD_RES}/source/chrom.sizes.hg38\n",
    "${FD_UCSC}/fetchChromSizes hg19 > ${FD_RES}/source/chrom.sizes.hg19"
   ]
  },
  {
   "cell_type": "markdown",
   "metadata": {},
   "source": [
    "## Convert the filtered bed files back into bigwig files"
   ]
  },
  {
   "cell_type": "code",
   "execution_count": 25,
   "metadata": {},
   "outputs": [
    {
     "name": "stdout",
     "output_type": "stream",
     "text": [
      "CAPRIN1_HCRFF_rAVG.log2FC_2.filtered\n",
      "CAT_HCRFF_rAVG.log2FC_2.filtered\n",
      "CD164_HCRFF_rAVG.log2FC_2.filtered\n",
      "ERP29_HCRFF_rAVG.log2FC_2.filtered\n",
      "FADS1_HCRFF_rAVG.log2FC_2.filtered\n",
      "FADS2_HCRFF_rAVG.log2FC_2.filtered\n",
      "FADS3_HCRFF_rAVG.log2FC_2.filtered\n",
      "FEN1_HCRFF_rAVG.log2FC_2.filtered\n",
      "GATA1_HCRFF_rAVG.log2FC_2.filtered\n",
      "HBE1_HCRFF_rAVG.log2FC_2.filtered\n",
      "HBG1_HCRFF_rAVG.log2FC_2.filtered\n",
      "HBG2_HCRFF_rAVG.log2FC_2.filtered\n",
      "HBS1L_HCRFF_rAVG.log2FC_2.filtered\n",
      "HDAC6_HCRFF_rAVG.log2FC_2.filtered\n",
      "LMO2_HCRFF_rAVG.log2FC_2.filtered\n",
      "MEF2C_HCRFF_rAVG.log2FC_2.filtered\n",
      "MYB_HCRFF_rAVG.log2FC_2.filtered\n",
      "MYC_HCRFF_rAVG.log2FC_2.filtered\n",
      "NMU_HCRFF_rAVG.log2FC_2.filtered\n",
      "PVT1_HCRFF_rAVG.log2FC_2.filtered\n"
     ]
    }
   ],
   "source": [
    "### init paths\n",
    "FP_CHR=${FD_RES}/source/chrom.sizes.hg38\n",
    "FD_BED=${FD_RES}/results/CRISPRi_FlowFISH/coverage\n",
    "FP_BEDS=($(ls ${FD_BED}/*filtered.bed* | grep -v Merge))\n",
    "\n",
    "### loop through each bed file and convert to bigwig file\n",
    "for FP_BED in ${FP_BEDS[@]}; do\n",
    "\n",
    "    ### set file path\n",
    "    FN_BED=$(basename ${FP_BED})\n",
    "    PREFIX=${FN_BED%.bed}\n",
    "    FP_BGR=${FD_BED}/${PREFIX}.bedgraph\n",
    "    FP_BWG=${FD_BED}/${PREFIX}.bw\n",
    "    \n",
    "    ### show progress\n",
    "    echo ${PREFIX}\n",
    "    \n",
    "    ### bed2bedgraph\n",
    "    cat ${FP_BED} \\\n",
    "    | awk '{printf \"%s\\t%d\\t%d\\t%2.3f\\n\" , $1,$2,$3,$5}' \\\n",
    "    | sort -k1,1 -k2,2n \\\n",
    "    > ${FP_BGR}\n",
    "    \n",
    "    ### bedgraph2bigwig\n",
    "    ${FD_UCSC}/bedGraphToBigWig ${FP_BGR} ${FP_CHR} ${FP_BWG}\n",
    "done"
   ]
  },
  {
   "cell_type": "code",
   "execution_count": 26,
   "metadata": {},
   "outputs": [
    {
     "name": "stdout",
     "output_type": "stream",
     "text": [
      "\u001b[0m\u001b[38;5;27mannotation_crispri_casa\u001b[0m    \u001b[38;5;27mKS91_K562_ASTARRseq_peak_macs_input\u001b[0m\n",
      "\u001b[38;5;27mannotation_enhancer_junke\u001b[0m  region_screened_crispri_flowfish.bed\n",
      "\u001b[38;5;27mannotation_gencode\u001b[0m         region_screened_tmpra.bed\n"
     ]
    }
   ],
   "source": [
    "FDIRY=${FD_RES}/results/region\n",
    "ls ${FDIRY}"
   ]
  },
  {
   "cell_type": "code",
   "execution_count": 27,
   "metadata": {},
   "outputs": [
    {
     "name": "stdout",
     "output_type": "stream",
     "text": [
      "chr11\t4091884\t6419310\tHBE1,HBG1,HBG2,HBS1L,MYB\n",
      "chr11\t33064196\t34664117\tCAPRIN1,CAT,LMO2\n",
      "chr11\t61788524\t61897153\tFADS1,FADS2,FADS3,FEN1\n",
      "chr12\t54300766\t54301042\tGATA1,HDAC6\n",
      "chr12\t110726151\t112325737\tERP29\n",
      "chr19\t12887110\t12887237\tGATA1,HDAC6\n",
      "chr3\t128487571\t128487937\tGATA1,HDAC6\n",
      "chr4\t55237590\t56068531\tNMU\n",
      "chr5\t87611207\t89911163\tMEF2C\n",
      "chr6\t108840570\t109828800\tCD164\n",
      "chr6\t134253831\t136927585\tHBE1,HBG1,HBG2,HBS1L,MYB\n",
      "chr8\t126736094\t128735225\tMYC,PVT1\n",
      "chrX\t48397930\t49656988\tGATA1,HDAC6\n"
     ]
    }
   ],
   "source": [
    "FDIRY=${FD_RES}/results/region\n",
    "FNAME=region_screened_crispri_flowfish.bed\n",
    "cat ${FDIRY}/${FNAME}"
   ]
  },
  {
   "cell_type": "code",
   "execution_count": 28,
   "metadata": {},
   "outputs": [
    {
     "name": "stdout",
     "output_type": "stream",
     "text": [
      "chr11\t4091884\t6419310\tHBE1,HBG1,HBG2,HBS1L,MYB\n",
      "chr11\t33064196\t34664117\tCAPRIN1,CAT,LMO2\n",
      "chr11\t61788524\t61897153\tFADS1,FADS2,FADS3,FEN1\n",
      "chr12\t54300766\t54301042\tGATA1,HDAC6\n",
      "chr12\t110726151\t112325737\tERP29\n",
      "chr19\t12887110\t12887237\tGATA1,HDAC6\n",
      "chr3\t128487571\t128487937\tGATA1,HDAC6\n",
      "chr4\t55237590\t56068531\tNMU\n",
      "chr5\t87611207\t89911163\tMEF2C\n",
      "chr6\t108840570\t109828800\tCD164\n",
      "chr6\t134253831\t136927585\tHBE1,HBG1,HBG2,HBS1L,MYB\n",
      "chr8\t126736094\t128735225\tMYC,PVT1\n",
      "chrX\t48397930\t49656988\tGATA1,HDAC6\n"
     ]
    }
   ],
   "source": [
    "FDIRY=${FD_RES}/results/region\n",
    "FNAME=region_screened_crispri_flowfish.bed\n",
    "cat ${FDIRY}/${FNAME} | sort -k1,1 -k2,2n"
   ]
  },
  {
   "cell_type": "code",
   "execution_count": 32,
   "metadata": {},
   "outputs": [
    {
     "name": "stdout",
     "output_type": "stream",
     "text": [
      "chr11\t4505501\t6505900\tHBE1\n",
      "chr11\t32869701\t34870100\tLMO2\n",
      "chr11\t61787329\t61898348\tFADS\n",
      "chr16\t10001\t1173100\tHBA2\n",
      "chr2\t59553301\t61553700\tBCL11A\n",
      "chr20\t56391301\t58391700\tRBM38\n",
      "chr8\t126735901\t128736550\tMYC\n",
      "chrX\t47785501\t49880650\tGATA1\n"
     ]
    }
   ],
   "source": [
    "FDIRY=${FD_RES}/results/region\n",
    "FNAME=region_screened_tmpra.bed\n",
    "cat ${FDIRY}/${FNAME}"
   ]
  },
  {
   "cell_type": "code",
   "execution_count": 33,
   "metadata": {},
   "outputs": [
    {
     "name": "stdout",
     "output_type": "stream",
     "text": [
      "chr11\t4505501\t6505900\tHBE1\n",
      "chr11\t32869701\t34870100\tLMO2\n",
      "chr11\t61787329\t61898348\tFADS\n",
      "chr16\t10001\t1173100\tHBA2\n",
      "chr2\t59553301\t61553700\tBCL11A\n",
      "chr20\t56391301\t58391700\tRBM38\n",
      "chr8\t126735901\t128736550\tMYC\n",
      "chrX\t47785501\t49880650\tGATA1\n"
     ]
    }
   ],
   "source": [
    "FDIRY=${FD_RES}/results/region\n",
    "FNAME=region_screened_tmpra.bed\n",
    "cat ${FDIRY}/${FNAME} | sort -k1,1 -k2,2n"
   ]
  },
  {
   "cell_type": "code",
   "execution_count": null,
   "metadata": {},
   "outputs": [],
   "source": []
  }
 ],
 "metadata": {
  "kernelspec": {
   "display_name": "Bash",
   "language": "bash",
   "name": "bash"
  },
  "language_info": {
   "codemirror_mode": "shell",
   "file_extension": ".sh",
   "mimetype": "text/x-sh",
   "name": "bash"
  }
 },
 "nbformat": 4,
 "nbformat_minor": 5
}
