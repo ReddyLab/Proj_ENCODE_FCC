{
 "cells": [
  {
   "cell_type": "markdown",
   "metadata": {},
   "source": [
    "**Set environment**"
   ]
  },
  {
   "cell_type": "code",
   "execution_count": 1,
   "metadata": {},
   "outputs": [
    {
     "name": "stdout",
     "output_type": "stream",
     "text": [
      "You are in Singularity: singularity_proj_encode_fcc \n",
      "BASE DIRECTORY (FD_BASE): /data/reddylab/Kuei \n",
      "WORK DIRECTORY (FD_WORK): /data/reddylab/Kuei/out \n",
      "CODE DIRECTORY (FD_CODE): /data/reddylab/Kuei/code \n",
      "PATH OF PROJECT (FD_PRJ): /data/reddylab/Kuei/code/Proj_CombEffect_ENCODE_FCC \n",
      "PATH OF RESULTS (FD_RES): /data/reddylab/Kuei/out/proj_combeffect_encode_fcc \n",
      "PATH OF LOG     (FD_LOG): /data/reddylab/Kuei/out/proj_combeffect_encode_fcc/log \n"
     ]
    }
   ],
   "source": [
    "suppressWarnings(suppressMessages(source(\"../config/config_sing.R\")))\n",
    "suppressWarnings(suppressMessages(library(\"GenomicRanges\")))\n",
    "show_env()"
   ]
  },
  {
   "cell_type": "markdown",
   "metadata": {},
   "source": [
    "## Import data"
   ]
  },
  {
   "cell_type": "code",
   "execution_count": 2,
   "metadata": {},
   "outputs": [
    {
     "name": "stdout",
     "output_type": "stream",
     "text": [
      "[1] 656178      6\n"
     ]
    },
    {
     "data": {
      "text/html": [
       "<table class=\"dataframe\">\n",
       "<caption>A tibble: 6 × 6</caption>\n",
       "<thead>\n",
       "\t<tr><th scope=col>Chrom</th><th scope=col>Start</th><th scope=col>End</th><th scope=col>Name</th><th scope=col>Score</th><th scope=col>Gene</th></tr>\n",
       "\t<tr><th scope=col>&lt;chr&gt;</th><th scope=col>&lt;dbl&gt;</th><th scope=col>&lt;dbl&gt;</th><th scope=col>&lt;chr&gt;</th><th scope=col>&lt;dbl&gt;</th><th scope=col>&lt;chr&gt;</th></tr>\n",
       "</thead>\n",
       "<tbody>\n",
       "\t<tr><td>chr10</td><td>100694991</td><td>100694992</td><td>id-1</td><td> 0.436247</td><td>CAPRIN1</td></tr>\n",
       "\t<tr><td>chr10</td><td>100695172</td><td>100695173</td><td>id-2</td><td>-1.057770</td><td>CAPRIN1</td></tr>\n",
       "\t<tr><td>chr10</td><td>100695184</td><td>100695185</td><td>id-3</td><td> 1.242010</td><td>CAPRIN1</td></tr>\n",
       "\t<tr><td>chr10</td><td>100695209</td><td>100695210</td><td>id-4</td><td>-0.471250</td><td>CAPRIN1</td></tr>\n",
       "\t<tr><td>chr10</td><td>100695328</td><td>100695329</td><td>id-5</td><td>-1.293510</td><td>CAPRIN1</td></tr>\n",
       "\t<tr><td>chr10</td><td>100695346</td><td>100695347</td><td>id-6</td><td> 0.928888</td><td>CAPRIN1</td></tr>\n",
       "</tbody>\n",
       "</table>\n"
      ],
      "text/latex": [
       "A tibble: 6 × 6\n",
       "\\begin{tabular}{llllll}\n",
       " Chrom & Start & End & Name & Score & Gene\\\\\n",
       " <chr> & <dbl> & <dbl> & <chr> & <dbl> & <chr>\\\\\n",
       "\\hline\n",
       "\t chr10 & 100694991 & 100694992 & id-1 &  0.436247 & CAPRIN1\\\\\n",
       "\t chr10 & 100695172 & 100695173 & id-2 & -1.057770 & CAPRIN1\\\\\n",
       "\t chr10 & 100695184 & 100695185 & id-3 &  1.242010 & CAPRIN1\\\\\n",
       "\t chr10 & 100695209 & 100695210 & id-4 & -0.471250 & CAPRIN1\\\\\n",
       "\t chr10 & 100695328 & 100695329 & id-5 & -1.293510 & CAPRIN1\\\\\n",
       "\t chr10 & 100695346 & 100695347 & id-6 &  0.928888 & CAPRIN1\\\\\n",
       "\\end{tabular}\n"
      ],
      "text/markdown": [
       "\n",
       "A tibble: 6 × 6\n",
       "\n",
       "| Chrom &lt;chr&gt; | Start &lt;dbl&gt; | End &lt;dbl&gt; | Name &lt;chr&gt; | Score &lt;dbl&gt; | Gene &lt;chr&gt; |\n",
       "|---|---|---|---|---|---|\n",
       "| chr10 | 100694991 | 100694992 | id-1 |  0.436247 | CAPRIN1 |\n",
       "| chr10 | 100695172 | 100695173 | id-2 | -1.057770 | CAPRIN1 |\n",
       "| chr10 | 100695184 | 100695185 | id-3 |  1.242010 | CAPRIN1 |\n",
       "| chr10 | 100695209 | 100695210 | id-4 | -0.471250 | CAPRIN1 |\n",
       "| chr10 | 100695328 | 100695329 | id-5 | -1.293510 | CAPRIN1 |\n",
       "| chr10 | 100695346 | 100695347 | id-6 |  0.928888 | CAPRIN1 |\n",
       "\n"
      ],
      "text/plain": [
       "  Chrom Start     End       Name Score     Gene   \n",
       "1 chr10 100694991 100694992 id-1  0.436247 CAPRIN1\n",
       "2 chr10 100695172 100695173 id-2 -1.057770 CAPRIN1\n",
       "3 chr10 100695184 100695185 id-3  1.242010 CAPRIN1\n",
       "4 chr10 100695209 100695210 id-4 -0.471250 CAPRIN1\n",
       "5 chr10 100695328 100695329 id-5 -1.293510 CAPRIN1\n",
       "6 chr10 100695346 100695347 id-6  0.928888 CAPRIN1"
      ]
     },
     "metadata": {},
     "output_type": "display_data"
    }
   ],
   "source": [
    "fdiry = file.path(FD_RES, \"results\", \"CRISPRi_FlowFISH\", \"coverage\")\n",
    "fname = \"Merge_HCRFF_rAVG.log2FC_2.bed\"\n",
    "fpath = file.path(fdiry, fname)\n",
    "\n",
    "cnames = c(\"Chrom\", \"Start\", \"End\", \"Name\", \"Score\", \"Gene\")\n",
    "dat = read_tsv(fpath, col_names = cnames, show_col_types = FALSE)\n",
    "\n",
    "dat_crispr_guides = dat\n",
    "print(dim(dat))\n",
    "head(dat)"
   ]
  },
  {
   "cell_type": "code",
   "execution_count": 3,
   "metadata": {},
   "outputs": [
    {
     "name": "stdout",
     "output_type": "stream",
     "text": [
      "[1] 610960      6\n"
     ]
    },
    {
     "data": {
      "text/html": [
       "<table class=\"dataframe\">\n",
       "<caption>A tibble: 6 × 6</caption>\n",
       "<thead>\n",
       "\t<tr><th scope=col>Chrom</th><th scope=col>Start</th><th scope=col>End</th><th scope=col>Name</th><th scope=col>Score</th><th scope=col>Gene</th></tr>\n",
       "\t<tr><th scope=col>&lt;chr&gt;</th><th scope=col>&lt;dbl&gt;</th><th scope=col>&lt;dbl&gt;</th><th scope=col>&lt;chr&gt;</th><th scope=col>&lt;dbl&gt;</th><th scope=col>&lt;chr&gt;</th></tr>\n",
       "</thead>\n",
       "<tbody>\n",
       "\t<tr><td>chr11</td><td>33064196</td><td>33064197</td><td>id-1495</td><td> 0.807624</td><td>CAPRIN1</td></tr>\n",
       "\t<tr><td>chr11</td><td>33064217</td><td>33064218</td><td>id-1496</td><td>-2.712460</td><td>CAPRIN1</td></tr>\n",
       "\t<tr><td>chr11</td><td>33064229</td><td>33064230</td><td>id-1497</td><td> 0.642045</td><td>CAPRIN1</td></tr>\n",
       "\t<tr><td>chr11</td><td>33064230</td><td>33064231</td><td>id-1498</td><td> 1.853540</td><td>CAPRIN1</td></tr>\n",
       "\t<tr><td>chr11</td><td>33064258</td><td>33064259</td><td>id-1499</td><td> 0.126467</td><td>CAPRIN1</td></tr>\n",
       "\t<tr><td>chr11</td><td>33064264</td><td>33064265</td><td>id-1500</td><td> 0.217096</td><td>CAPRIN1</td></tr>\n",
       "</tbody>\n",
       "</table>\n"
      ],
      "text/latex": [
       "A tibble: 6 × 6\n",
       "\\begin{tabular}{llllll}\n",
       " Chrom & Start & End & Name & Score & Gene\\\\\n",
       " <chr> & <dbl> & <dbl> & <chr> & <dbl> & <chr>\\\\\n",
       "\\hline\n",
       "\t chr11 & 33064196 & 33064197 & id-1495 &  0.807624 & CAPRIN1\\\\\n",
       "\t chr11 & 33064217 & 33064218 & id-1496 & -2.712460 & CAPRIN1\\\\\n",
       "\t chr11 & 33064229 & 33064230 & id-1497 &  0.642045 & CAPRIN1\\\\\n",
       "\t chr11 & 33064230 & 33064231 & id-1498 &  1.853540 & CAPRIN1\\\\\n",
       "\t chr11 & 33064258 & 33064259 & id-1499 &  0.126467 & CAPRIN1\\\\\n",
       "\t chr11 & 33064264 & 33064265 & id-1500 &  0.217096 & CAPRIN1\\\\\n",
       "\\end{tabular}\n"
      ],
      "text/markdown": [
       "\n",
       "A tibble: 6 × 6\n",
       "\n",
       "| Chrom &lt;chr&gt; | Start &lt;dbl&gt; | End &lt;dbl&gt; | Name &lt;chr&gt; | Score &lt;dbl&gt; | Gene &lt;chr&gt; |\n",
       "|---|---|---|---|---|---|\n",
       "| chr11 | 33064196 | 33064197 | id-1495 |  0.807624 | CAPRIN1 |\n",
       "| chr11 | 33064217 | 33064218 | id-1496 | -2.712460 | CAPRIN1 |\n",
       "| chr11 | 33064229 | 33064230 | id-1497 |  0.642045 | CAPRIN1 |\n",
       "| chr11 | 33064230 | 33064231 | id-1498 |  1.853540 | CAPRIN1 |\n",
       "| chr11 | 33064258 | 33064259 | id-1499 |  0.126467 | CAPRIN1 |\n",
       "| chr11 | 33064264 | 33064265 | id-1500 |  0.217096 | CAPRIN1 |\n",
       "\n"
      ],
      "text/plain": [
       "  Chrom Start    End      Name    Score     Gene   \n",
       "1 chr11 33064196 33064197 id-1495  0.807624 CAPRIN1\n",
       "2 chr11 33064217 33064218 id-1496 -2.712460 CAPRIN1\n",
       "3 chr11 33064229 33064230 id-1497  0.642045 CAPRIN1\n",
       "4 chr11 33064230 33064231 id-1498  1.853540 CAPRIN1\n",
       "5 chr11 33064258 33064259 id-1499  0.126467 CAPRIN1\n",
       "6 chr11 33064264 33064265 id-1500  0.217096 CAPRIN1"
      ]
     },
     "metadata": {},
     "output_type": "display_data"
    }
   ],
   "source": [
    "fdiry = file.path(FD_RES, \"results\", \"CRISPRi_FlowFISH\", \"coverage\")\n",
    "fname = \"Merge_HCRFF_rAVG.log2FC_2.filtered.bed\"\n",
    "fpath = file.path(fdiry, fname)\n",
    "\n",
    "cnames = c(\"Chrom\", \"Start\", \"End\", \"Name\", \"Score\", \"Gene\")\n",
    "dat = read_tsv(fpath, col_names = cnames, show_col_types = FALSE)\n",
    "\n",
    "dat_crispr_guides_filter = dat\n",
    "print(dim(dat))\n",
    "head(dat)"
   ]
  },
  {
   "cell_type": "markdown",
   "metadata": {},
   "source": [
    "**Check results**"
   ]
  },
  {
   "cell_type": "code",
   "execution_count": 8,
   "metadata": {},
   "outputs": [
    {
     "data": {
      "text/html": [
       "<table class=\"dataframe\">\n",
       "<caption>A data.frame: 20 × 22</caption>\n",
       "<thead>\n",
       "\t<tr><th scope=col>Var1</th><th scope=col>chr1</th><th scope=col>chr10</th><th scope=col>chr11</th><th scope=col>chr12</th><th scope=col>chr13</th><th scope=col>chr14</th><th scope=col>chr15</th><th scope=col>chr16</th><th scope=col>chr17</th><th scope=col>⋯</th><th scope=col>chr2</th><th scope=col>chr21</th><th scope=col>chr3</th><th scope=col>chr4</th><th scope=col>chr5</th><th scope=col>chr6</th><th scope=col>chr7</th><th scope=col>chr8</th><th scope=col>chr9</th><th scope=col>chrX</th></tr>\n",
       "\t<tr><th scope=col>&lt;fct&gt;</th><th scope=col>&lt;int&gt;</th><th scope=col>&lt;int&gt;</th><th scope=col>&lt;int&gt;</th><th scope=col>&lt;int&gt;</th><th scope=col>&lt;int&gt;</th><th scope=col>&lt;int&gt;</th><th scope=col>&lt;int&gt;</th><th scope=col>&lt;int&gt;</th><th scope=col>&lt;int&gt;</th><th scope=col>⋯</th><th scope=col>&lt;int&gt;</th><th scope=col>&lt;int&gt;</th><th scope=col>&lt;int&gt;</th><th scope=col>&lt;int&gt;</th><th scope=col>&lt;int&gt;</th><th scope=col>&lt;int&gt;</th><th scope=col>&lt;int&gt;</th><th scope=col>&lt;int&gt;</th><th scope=col>&lt;int&gt;</th><th scope=col>&lt;int&gt;</th></tr>\n",
       "</thead>\n",
       "<tbody>\n",
       "\t<tr><td>CAPRIN1</td><td> 0</td><td>1494</td><td>54529</td><td>    0</td><td> 0</td><td> 0</td><td> 0</td><td>0</td><td>0</td><td>⋯</td><td> 0</td><td> 0</td><td> 0</td><td>    0</td><td> 1472</td><td>    0</td><td> 0</td><td>    0</td><td> 0</td><td>    0</td></tr>\n",
       "\t<tr><td>CAT    </td><td> 0</td><td>1494</td><td>54529</td><td>    0</td><td> 0</td><td> 0</td><td> 0</td><td>0</td><td>0</td><td>⋯</td><td> 0</td><td> 0</td><td> 0</td><td>    0</td><td> 1472</td><td>    0</td><td> 0</td><td>    0</td><td> 0</td><td>    0</td></tr>\n",
       "\t<tr><td>CD164  </td><td>60</td><td>1552</td><td> 3074</td><td>   30</td><td>67</td><td>27</td><td>34</td><td>8</td><td>7</td><td>⋯</td><td>63</td><td>21</td><td>48</td><td>   99</td><td>   68</td><td>52243</td><td>66</td><td>   92</td><td>38</td><td>   36</td></tr>\n",
       "\t<tr><td>ERP29  </td><td> 0</td><td>1494</td><td> 2986</td><td>51429</td><td> 0</td><td> 0</td><td> 0</td><td>0</td><td>0</td><td>⋯</td><td> 0</td><td> 0</td><td> 0</td><td>    0</td><td> 1472</td><td>    0</td><td> 0</td><td>    0</td><td> 0</td><td>    0</td></tr>\n",
       "\t<tr><td>FADS1  </td><td> 0</td><td>   0</td><td> 9398</td><td>    0</td><td> 0</td><td> 0</td><td> 0</td><td>0</td><td>0</td><td>⋯</td><td> 0</td><td> 0</td><td> 0</td><td>    0</td><td>    0</td><td>    0</td><td> 0</td><td>    0</td><td> 0</td><td>    0</td></tr>\n",
       "\t<tr><td>FADS2  </td><td> 0</td><td>   0</td><td> 9398</td><td>    0</td><td> 0</td><td> 0</td><td> 0</td><td>0</td><td>0</td><td>⋯</td><td> 0</td><td> 0</td><td> 0</td><td>    0</td><td>    0</td><td>    0</td><td> 0</td><td>    0</td><td> 0</td><td>    0</td></tr>\n",
       "\t<tr><td>FADS3  </td><td> 0</td><td>   0</td><td> 9398</td><td>    0</td><td> 0</td><td> 0</td><td> 0</td><td>0</td><td>0</td><td>⋯</td><td> 0</td><td> 0</td><td> 0</td><td>    0</td><td>    0</td><td>    0</td><td> 0</td><td>    0</td><td> 0</td><td>    0</td></tr>\n",
       "\t<tr><td>FEN1   </td><td> 0</td><td>   0</td><td> 9398</td><td>    0</td><td> 0</td><td> 0</td><td> 0</td><td>0</td><td>0</td><td>⋯</td><td> 0</td><td> 0</td><td> 0</td><td>    0</td><td>    0</td><td>    0</td><td> 0</td><td>    0</td><td> 0</td><td>    0</td></tr>\n",
       "\t<tr><td>GATA1  </td><td> 0</td><td>   0</td><td>    0</td><td>    4</td><td> 0</td><td> 0</td><td> 0</td><td>0</td><td>0</td><td>⋯</td><td> 0</td><td> 0</td><td> 4</td><td>    0</td><td>    0</td><td>    0</td><td> 0</td><td>    0</td><td> 0</td><td>13720</td></tr>\n",
       "\t<tr><td>HBE1   </td><td>40</td><td>  58</td><td> 9454</td><td>   30</td><td>67</td><td>27</td><td>34</td><td>8</td><td>7</td><td>⋯</td><td>63</td><td>21</td><td>25</td><td>    0</td><td>    0</td><td>10620</td><td> 0</td><td>    0</td><td> 0</td><td>    0</td></tr>\n",
       "\t<tr><td>HBG1   </td><td>40</td><td>  58</td><td> 9454</td><td>   30</td><td>67</td><td>27</td><td>34</td><td>8</td><td>7</td><td>⋯</td><td>63</td><td>21</td><td>25</td><td>    0</td><td>    0</td><td>10620</td><td> 0</td><td>    0</td><td> 0</td><td>    0</td></tr>\n",
       "\t<tr><td>HBG2   </td><td>40</td><td>  58</td><td> 9454</td><td>   30</td><td>67</td><td>27</td><td>34</td><td>8</td><td>7</td><td>⋯</td><td>63</td><td>21</td><td>25</td><td>    0</td><td>    0</td><td>10620</td><td> 0</td><td>    0</td><td> 0</td><td>    0</td></tr>\n",
       "\t<tr><td>HBS1L  </td><td>40</td><td>  58</td><td> 9454</td><td>   30</td><td>67</td><td>27</td><td>34</td><td>8</td><td>7</td><td>⋯</td><td>63</td><td>21</td><td>25</td><td>    0</td><td>    0</td><td>10620</td><td> 0</td><td>    0</td><td> 0</td><td>    0</td></tr>\n",
       "\t<tr><td>HDAC6  </td><td> 0</td><td>   0</td><td>    0</td><td>    4</td><td> 0</td><td> 0</td><td> 0</td><td>0</td><td>0</td><td>⋯</td><td> 0</td><td> 0</td><td> 4</td><td>    0</td><td>    0</td><td>    0</td><td> 0</td><td>    0</td><td> 0</td><td>13720</td></tr>\n",
       "\t<tr><td>LMO2   </td><td> 0</td><td>1494</td><td>54529</td><td>    0</td><td> 0</td><td> 0</td><td> 0</td><td>0</td><td>0</td><td>⋯</td><td> 0</td><td> 0</td><td> 0</td><td>    0</td><td> 1472</td><td>    0</td><td> 0</td><td>    0</td><td> 0</td><td>    0</td></tr>\n",
       "\t<tr><td>MEF2C  </td><td> 0</td><td>1494</td><td> 2986</td><td>    0</td><td> 0</td><td> 0</td><td> 0</td><td>0</td><td>0</td><td>⋯</td><td> 0</td><td> 0</td><td> 0</td><td>    0</td><td>53152</td><td>    0</td><td> 0</td><td>    0</td><td> 0</td><td>    0</td></tr>\n",
       "\t<tr><td>MYB    </td><td>40</td><td>  58</td><td> 9454</td><td>   30</td><td>67</td><td>27</td><td>34</td><td>8</td><td>7</td><td>⋯</td><td>63</td><td>21</td><td>25</td><td>    0</td><td>    0</td><td>10620</td><td> 0</td><td>    0</td><td> 0</td><td>    0</td></tr>\n",
       "\t<tr><td>MYC    </td><td>60</td><td>  58</td><td>   89</td><td>   30</td><td>67</td><td>27</td><td>34</td><td>8</td><td>7</td><td>⋯</td><td>63</td><td>21</td><td>48</td><td>   99</td><td>   68</td><td>   58</td><td>66</td><td>49078</td><td>38</td><td>   36</td></tr>\n",
       "\t<tr><td>NMU    </td><td>60</td><td>1552</td><td> 3074</td><td>   30</td><td>67</td><td>27</td><td>34</td><td>8</td><td>7</td><td>⋯</td><td>63</td><td>21</td><td>48</td><td>38183</td><td>   68</td><td>   58</td><td>66</td><td>   92</td><td>38</td><td>   36</td></tr>\n",
       "\t<tr><td>PVT1   </td><td>60</td><td>  58</td><td>   89</td><td>   30</td><td>67</td><td>27</td><td>34</td><td>8</td><td>7</td><td>⋯</td><td>63</td><td>21</td><td>48</td><td>   99</td><td>   68</td><td>   58</td><td>66</td><td>49078</td><td>38</td><td>   36</td></tr>\n",
       "</tbody>\n",
       "</table>\n"
      ],
      "text/latex": [
       "A data.frame: 20 × 22\n",
       "\\begin{tabular}{lllllllllllllllllllll}\n",
       " Var1 & chr1 & chr10 & chr11 & chr12 & chr13 & chr14 & chr15 & chr16 & chr17 & ⋯ & chr2 & chr21 & chr3 & chr4 & chr5 & chr6 & chr7 & chr8 & chr9 & chrX\\\\\n",
       " <fct> & <int> & <int> & <int> & <int> & <int> & <int> & <int> & <int> & <int> & ⋯ & <int> & <int> & <int> & <int> & <int> & <int> & <int> & <int> & <int> & <int>\\\\\n",
       "\\hline\n",
       "\t CAPRIN1 &  0 & 1494 & 54529 &     0 &  0 &  0 &  0 & 0 & 0 & ⋯ &  0 &  0 &  0 &     0 &  1472 &     0 &  0 &     0 &  0 &     0\\\\\n",
       "\t CAT     &  0 & 1494 & 54529 &     0 &  0 &  0 &  0 & 0 & 0 & ⋯ &  0 &  0 &  0 &     0 &  1472 &     0 &  0 &     0 &  0 &     0\\\\\n",
       "\t CD164   & 60 & 1552 &  3074 &    30 & 67 & 27 & 34 & 8 & 7 & ⋯ & 63 & 21 & 48 &    99 &    68 & 52243 & 66 &    92 & 38 &    36\\\\\n",
       "\t ERP29   &  0 & 1494 &  2986 & 51429 &  0 &  0 &  0 & 0 & 0 & ⋯ &  0 &  0 &  0 &     0 &  1472 &     0 &  0 &     0 &  0 &     0\\\\\n",
       "\t FADS1   &  0 &    0 &  9398 &     0 &  0 &  0 &  0 & 0 & 0 & ⋯ &  0 &  0 &  0 &     0 &     0 &     0 &  0 &     0 &  0 &     0\\\\\n",
       "\t FADS2   &  0 &    0 &  9398 &     0 &  0 &  0 &  0 & 0 & 0 & ⋯ &  0 &  0 &  0 &     0 &     0 &     0 &  0 &     0 &  0 &     0\\\\\n",
       "\t FADS3   &  0 &    0 &  9398 &     0 &  0 &  0 &  0 & 0 & 0 & ⋯ &  0 &  0 &  0 &     0 &     0 &     0 &  0 &     0 &  0 &     0\\\\\n",
       "\t FEN1    &  0 &    0 &  9398 &     0 &  0 &  0 &  0 & 0 & 0 & ⋯ &  0 &  0 &  0 &     0 &     0 &     0 &  0 &     0 &  0 &     0\\\\\n",
       "\t GATA1   &  0 &    0 &     0 &     4 &  0 &  0 &  0 & 0 & 0 & ⋯ &  0 &  0 &  4 &     0 &     0 &     0 &  0 &     0 &  0 & 13720\\\\\n",
       "\t HBE1    & 40 &   58 &  9454 &    30 & 67 & 27 & 34 & 8 & 7 & ⋯ & 63 & 21 & 25 &     0 &     0 & 10620 &  0 &     0 &  0 &     0\\\\\n",
       "\t HBG1    & 40 &   58 &  9454 &    30 & 67 & 27 & 34 & 8 & 7 & ⋯ & 63 & 21 & 25 &     0 &     0 & 10620 &  0 &     0 &  0 &     0\\\\\n",
       "\t HBG2    & 40 &   58 &  9454 &    30 & 67 & 27 & 34 & 8 & 7 & ⋯ & 63 & 21 & 25 &     0 &     0 & 10620 &  0 &     0 &  0 &     0\\\\\n",
       "\t HBS1L   & 40 &   58 &  9454 &    30 & 67 & 27 & 34 & 8 & 7 & ⋯ & 63 & 21 & 25 &     0 &     0 & 10620 &  0 &     0 &  0 &     0\\\\\n",
       "\t HDAC6   &  0 &    0 &     0 &     4 &  0 &  0 &  0 & 0 & 0 & ⋯ &  0 &  0 &  4 &     0 &     0 &     0 &  0 &     0 &  0 & 13720\\\\\n",
       "\t LMO2    &  0 & 1494 & 54529 &     0 &  0 &  0 &  0 & 0 & 0 & ⋯ &  0 &  0 &  0 &     0 &  1472 &     0 &  0 &     0 &  0 &     0\\\\\n",
       "\t MEF2C   &  0 & 1494 &  2986 &     0 &  0 &  0 &  0 & 0 & 0 & ⋯ &  0 &  0 &  0 &     0 & 53152 &     0 &  0 &     0 &  0 &     0\\\\\n",
       "\t MYB     & 40 &   58 &  9454 &    30 & 67 & 27 & 34 & 8 & 7 & ⋯ & 63 & 21 & 25 &     0 &     0 & 10620 &  0 &     0 &  0 &     0\\\\\n",
       "\t MYC     & 60 &   58 &    89 &    30 & 67 & 27 & 34 & 8 & 7 & ⋯ & 63 & 21 & 48 &    99 &    68 &    58 & 66 & 49078 & 38 &    36\\\\\n",
       "\t NMU     & 60 & 1552 &  3074 &    30 & 67 & 27 & 34 & 8 & 7 & ⋯ & 63 & 21 & 48 & 38183 &    68 &    58 & 66 &    92 & 38 &    36\\\\\n",
       "\t PVT1    & 60 &   58 &    89 &    30 & 67 & 27 & 34 & 8 & 7 & ⋯ & 63 & 21 & 48 &    99 &    68 &    58 & 66 & 49078 & 38 &    36\\\\\n",
       "\\end{tabular}\n"
      ],
      "text/markdown": [
       "\n",
       "A data.frame: 20 × 22\n",
       "\n",
       "| Var1 &lt;fct&gt; | chr1 &lt;int&gt; | chr10 &lt;int&gt; | chr11 &lt;int&gt; | chr12 &lt;int&gt; | chr13 &lt;int&gt; | chr14 &lt;int&gt; | chr15 &lt;int&gt; | chr16 &lt;int&gt; | chr17 &lt;int&gt; | ⋯ ⋯ | chr2 &lt;int&gt; | chr21 &lt;int&gt; | chr3 &lt;int&gt; | chr4 &lt;int&gt; | chr5 &lt;int&gt; | chr6 &lt;int&gt; | chr7 &lt;int&gt; | chr8 &lt;int&gt; | chr9 &lt;int&gt; | chrX &lt;int&gt; |\n",
       "|---|---|---|---|---|---|---|---|---|---|---|---|---|---|---|---|---|---|---|---|---|\n",
       "| CAPRIN1 |  0 | 1494 | 54529 |     0 |  0 |  0 |  0 | 0 | 0 | ⋯ |  0 |  0 |  0 |     0 |  1472 |     0 |  0 |     0 |  0 |     0 |\n",
       "| CAT     |  0 | 1494 | 54529 |     0 |  0 |  0 |  0 | 0 | 0 | ⋯ |  0 |  0 |  0 |     0 |  1472 |     0 |  0 |     0 |  0 |     0 |\n",
       "| CD164   | 60 | 1552 |  3074 |    30 | 67 | 27 | 34 | 8 | 7 | ⋯ | 63 | 21 | 48 |    99 |    68 | 52243 | 66 |    92 | 38 |    36 |\n",
       "| ERP29   |  0 | 1494 |  2986 | 51429 |  0 |  0 |  0 | 0 | 0 | ⋯ |  0 |  0 |  0 |     0 |  1472 |     0 |  0 |     0 |  0 |     0 |\n",
       "| FADS1   |  0 |    0 |  9398 |     0 |  0 |  0 |  0 | 0 | 0 | ⋯ |  0 |  0 |  0 |     0 |     0 |     0 |  0 |     0 |  0 |     0 |\n",
       "| FADS2   |  0 |    0 |  9398 |     0 |  0 |  0 |  0 | 0 | 0 | ⋯ |  0 |  0 |  0 |     0 |     0 |     0 |  0 |     0 |  0 |     0 |\n",
       "| FADS3   |  0 |    0 |  9398 |     0 |  0 |  0 |  0 | 0 | 0 | ⋯ |  0 |  0 |  0 |     0 |     0 |     0 |  0 |     0 |  0 |     0 |\n",
       "| FEN1    |  0 |    0 |  9398 |     0 |  0 |  0 |  0 | 0 | 0 | ⋯ |  0 |  0 |  0 |     0 |     0 |     0 |  0 |     0 |  0 |     0 |\n",
       "| GATA1   |  0 |    0 |     0 |     4 |  0 |  0 |  0 | 0 | 0 | ⋯ |  0 |  0 |  4 |     0 |     0 |     0 |  0 |     0 |  0 | 13720 |\n",
       "| HBE1    | 40 |   58 |  9454 |    30 | 67 | 27 | 34 | 8 | 7 | ⋯ | 63 | 21 | 25 |     0 |     0 | 10620 |  0 |     0 |  0 |     0 |\n",
       "| HBG1    | 40 |   58 |  9454 |    30 | 67 | 27 | 34 | 8 | 7 | ⋯ | 63 | 21 | 25 |     0 |     0 | 10620 |  0 |     0 |  0 |     0 |\n",
       "| HBG2    | 40 |   58 |  9454 |    30 | 67 | 27 | 34 | 8 | 7 | ⋯ | 63 | 21 | 25 |     0 |     0 | 10620 |  0 |     0 |  0 |     0 |\n",
       "| HBS1L   | 40 |   58 |  9454 |    30 | 67 | 27 | 34 | 8 | 7 | ⋯ | 63 | 21 | 25 |     0 |     0 | 10620 |  0 |     0 |  0 |     0 |\n",
       "| HDAC6   |  0 |    0 |     0 |     4 |  0 |  0 |  0 | 0 | 0 | ⋯ |  0 |  0 |  4 |     0 |     0 |     0 |  0 |     0 |  0 | 13720 |\n",
       "| LMO2    |  0 | 1494 | 54529 |     0 |  0 |  0 |  0 | 0 | 0 | ⋯ |  0 |  0 |  0 |     0 |  1472 |     0 |  0 |     0 |  0 |     0 |\n",
       "| MEF2C   |  0 | 1494 |  2986 |     0 |  0 |  0 |  0 | 0 | 0 | ⋯ |  0 |  0 |  0 |     0 | 53152 |     0 |  0 |     0 |  0 |     0 |\n",
       "| MYB     | 40 |   58 |  9454 |    30 | 67 | 27 | 34 | 8 | 7 | ⋯ | 63 | 21 | 25 |     0 |     0 | 10620 |  0 |     0 |  0 |     0 |\n",
       "| MYC     | 60 |   58 |    89 |    30 | 67 | 27 | 34 | 8 | 7 | ⋯ | 63 | 21 | 48 |    99 |    68 |    58 | 66 | 49078 | 38 |    36 |\n",
       "| NMU     | 60 | 1552 |  3074 |    30 | 67 | 27 | 34 | 8 | 7 | ⋯ | 63 | 21 | 48 | 38183 |    68 |    58 | 66 |    92 | 38 |    36 |\n",
       "| PVT1    | 60 |   58 |    89 |    30 | 67 | 27 | 34 | 8 | 7 | ⋯ | 63 | 21 | 48 |    99 |    68 |    58 | 66 | 49078 | 38 |    36 |\n",
       "\n"
      ],
      "text/plain": [
       "   Var1    chr1 chr10 chr11 chr12 chr13 chr14 chr15 chr16 chr17 ⋯ chr2 chr21\n",
       "1  CAPRIN1  0   1494  54529     0  0     0     0    0     0     ⋯  0    0   \n",
       "2  CAT      0   1494  54529     0  0     0     0    0     0     ⋯  0    0   \n",
       "3  CD164   60   1552   3074    30 67    27    34    8     7     ⋯ 63   21   \n",
       "4  ERP29    0   1494   2986 51429  0     0     0    0     0     ⋯  0    0   \n",
       "5  FADS1    0      0   9398     0  0     0     0    0     0     ⋯  0    0   \n",
       "6  FADS2    0      0   9398     0  0     0     0    0     0     ⋯  0    0   \n",
       "7  FADS3    0      0   9398     0  0     0     0    0     0     ⋯  0    0   \n",
       "8  FEN1     0      0   9398     0  0     0     0    0     0     ⋯  0    0   \n",
       "9  GATA1    0      0      0     4  0     0     0    0     0     ⋯  0    0   \n",
       "10 HBE1    40     58   9454    30 67    27    34    8     7     ⋯ 63   21   \n",
       "11 HBG1    40     58   9454    30 67    27    34    8     7     ⋯ 63   21   \n",
       "12 HBG2    40     58   9454    30 67    27    34    8     7     ⋯ 63   21   \n",
       "13 HBS1L   40     58   9454    30 67    27    34    8     7     ⋯ 63   21   \n",
       "14 HDAC6    0      0      0     4  0     0     0    0     0     ⋯  0    0   \n",
       "15 LMO2     0   1494  54529     0  0     0     0    0     0     ⋯  0    0   \n",
       "16 MEF2C    0   1494   2986     0  0     0     0    0     0     ⋯  0    0   \n",
       "17 MYB     40     58   9454    30 67    27    34    8     7     ⋯ 63   21   \n",
       "18 MYC     60     58     89    30 67    27    34    8     7     ⋯ 63   21   \n",
       "19 NMU     60   1552   3074    30 67    27    34    8     7     ⋯ 63   21   \n",
       "20 PVT1    60     58     89    30 67    27    34    8     7     ⋯ 63   21   \n",
       "   chr3 chr4  chr5  chr6  chr7 chr8  chr9 chrX \n",
       "1   0       0  1472     0  0       0  0       0\n",
       "2   0       0  1472     0  0       0  0       0\n",
       "3  48      99    68 52243 66      92 38      36\n",
       "4   0       0  1472     0  0       0  0       0\n",
       "5   0       0     0     0  0       0  0       0\n",
       "6   0       0     0     0  0       0  0       0\n",
       "7   0       0     0     0  0       0  0       0\n",
       "8   0       0     0     0  0       0  0       0\n",
       "9   4       0     0     0  0       0  0   13720\n",
       "10 25       0     0 10620  0       0  0       0\n",
       "11 25       0     0 10620  0       0  0       0\n",
       "12 25       0     0 10620  0       0  0       0\n",
       "13 25       0     0 10620  0       0  0       0\n",
       "14  4       0     0     0  0       0  0   13720\n",
       "15  0       0  1472     0  0       0  0       0\n",
       "16  0       0 53152     0  0       0  0       0\n",
       "17 25       0     0 10620  0       0  0       0\n",
       "18 48      99    68    58 66   49078 38      36\n",
       "19 48   38183    68    58 66      92 38      36\n",
       "20 48      99    68    58 66   49078 38      36"
      ]
     },
     "metadata": {},
     "output_type": "display_data"
    }
   ],
   "source": [
    "dat = dat_crispr_guides\n",
    "res = table(dat$Gene, dat$Chrom)\n",
    "dat = data.frame(res) %>% tidyr::spread(Var2, Freq)\n",
    "dat"
   ]
  },
  {
   "cell_type": "code",
   "execution_count": 5,
   "metadata": {},
   "outputs": [
    {
     "data": {
      "text/plain": [
       "         \n",
       "          chr11 chr12 chr19  chr3  chr4  chr5  chr6  chr8  chrX\n",
       "  CAPRIN1 51543     0     0     0     0     0     0     0     0\n",
       "  CAT     51543     0     0     0     0     0     0     0     0\n",
       "  CD164       0     0     0     0     0     0 52185     0     0\n",
       "  ERP29       0 51429     0     0     0     0     0     0     0\n",
       "  FADS1    9398     0     0     0     0     0     0     0     0\n",
       "  FADS2    9398     0     0     0     0     0     0     0     0\n",
       "  FADS3    9398     0     0     0     0     0     0     0     0\n",
       "  FEN1     9398     0     0     0     0     0     0     0     0\n",
       "  GATA1       0     4     4     4     0     0     0     0 13720\n",
       "  HBE1     9365     0     0     0     0     0 10620     0     0\n",
       "  HBG1     9365     0     0     0     0     0 10620     0     0\n",
       "  HBG2     9365     0     0     0     0     0 10620     0     0\n",
       "  HBS1L    9365     0     0     0     0     0 10620     0     0\n",
       "  HDAC6       0     4     4     4     0     0     0     0 13720\n",
       "  LMO2    51543     0     0     0     0     0     0     0     0\n",
       "  MEF2C       0     0     0     0     0 51680     0     0     0\n",
       "  MYB      9365     0     0     0     0     0 10620     0     0\n",
       "  MYC         0     0     0     0     0     0     0 48986     0\n",
       "  NMU         0     0     0     0 38084     0     0     0     0\n",
       "  PVT1        0     0     0     0     0     0     0 48986     0"
      ]
     },
     "metadata": {},
     "output_type": "display_data"
    }
   ],
   "source": [
    "dat = dat_crispr_guides_filter\n",
    "table(dat$Gene, dat$Chrom)"
   ]
  },
  {
   "cell_type": "markdown",
   "metadata": {},
   "source": [
    "## Merge screened regions"
   ]
  },
  {
   "cell_type": "code",
   "execution_count": 20,
   "metadata": {},
   "outputs": [],
   "source": [
    "lst = list(\n",
    "    dat_crispr_guides,\n",
    "    dat_crispr_guides_filter\n",
    ")\n",
    "\n",
    "lst_dat_crispr_guides_total = lst"
   ]
  },
  {
   "cell_type": "markdown",
   "metadata": {},
   "source": [
    "**Create Granges object of the guides**"
   ]
  },
  {
   "cell_type": "code",
   "execution_count": 23,
   "metadata": {},
   "outputs": [],
   "source": [
    "lst = lst_dat_crispr_guides_total \n",
    "\n",
    "lst = lapply(lst, function(dat){\n",
    "    ### construct a granges object of the guides\n",
    "    grg = GRanges(\n",
    "        seqnames = dat$Chrom,\n",
    "        ranges   = IRanges(\n",
    "            start = dat$Start, \n",
    "            end   = dat$End\n",
    "        )\n",
    "    )\n",
    "    grg$Name = dat$Gene\n",
    "    return(grg)\n",
    "})\n",
    "\n",
    "lst_grg_crispr_guides_total = lst"
   ]
  },
  {
   "cell_type": "markdown",
   "metadata": {},
   "source": [
    "**Get the ranges for each gene**"
   ]
  },
  {
   "cell_type": "code",
   "execution_count": 25,
   "metadata": {},
   "outputs": [],
   "source": [
    "lst = lst_grg_crispr_guides_total\n",
    "\n",
    "lst = lapply(lst, function(grg){\n",
    "    ### get the range for each gene\n",
    "    ### since some genes are screening at the same regions\n",
    "    lst = split(grg, grg$Name)\n",
    "    lst = lapply(lst, function(grg){\n",
    "        grg = range(reduce(grg))\n",
    "        return(grg)\n",
    "    })\n",
    "    grg = unlist(as(lst, \"GRangesList\"))\n",
    "})\n",
    "\n",
    "lst_grg_crispr_guides_gene = lst"
   ]
  },
  {
   "cell_type": "markdown",
   "metadata": {},
   "source": [
    "**Get the ranges of total guides**"
   ]
  },
  {
   "cell_type": "code",
   "execution_count": 30,
   "metadata": {},
   "outputs": [],
   "source": [
    "lst = lst_grg_crispr_guides_gene\n",
    "\n",
    "lst = lapply(lst, function(grg){\n",
    "    grg = reduce(grg)\n",
    "    return(grg)\n",
    "})\n",
    "\n",
    "lst_grg_crispr_guides_reduce = lst"
   ]
  },
  {
   "cell_type": "markdown",
   "metadata": {},
   "source": [
    "**Check results**"
   ]
  },
  {
   "cell_type": "code",
   "execution_count": 31,
   "metadata": {},
   "outputs": [
    {
     "name": "stdout",
     "output_type": "stream",
     "text": [
      "=============================\n",
      "Total: 1.312356 M \n",
      "=============================\n",
      "Total: 1.22192 M \n"
     ]
    }
   ],
   "source": [
    "lst = lst_grg_crispr_guides_total\n",
    "for (grg in lst){\n",
    "    cat(\"=============================\\n\")\n",
    "    cat(\"Total:\", sum(lengths(grg))/10^6, \"M\", \"\\n\")\n",
    "}"
   ]
  },
  {
   "cell_type": "code",
   "execution_count": 32,
   "metadata": {},
   "outputs": [
    {
     "name": "stdout",
     "output_type": "stream",
     "text": [
      "=============================\n",
      "Total: 13904.41 M \n",
      "=============================\n",
      "Total: 42.47684 M \n"
     ]
    }
   ],
   "source": [
    "lst = lst_grg_crispr_guides_gene\n",
    "for (grg in lst){\n",
    "    cat(\"=============================\\n\")\n",
    "    cat(\"Total:\", sum(lengths(grg))/10^6, \"M\", \"\\n\")\n",
    "}"
   ]
  },
  {
   "cell_type": "code",
   "execution_count": 33,
   "metadata": {},
   "outputs": [
    {
     "name": "stdout",
     "output_type": "stream",
     "text": [
      "=============================\n",
      "Total: 2161.094 M \n",
      "=============================\n",
      "Total: 15.68741 M \n"
     ]
    }
   ],
   "source": [
    "lst = lst_grg_crispr_guides_reduce\n",
    "for (grg in lst){\n",
    "    cat(\"=============================\\n\")\n",
    "    cat(\"Total:\", sum(lengths(grg))/10^6, \"M\", \"\\n\")\n",
    "}"
   ]
  },
  {
   "cell_type": "code",
   "execution_count": null,
   "metadata": {},
   "outputs": [],
   "source": []
  },
  {
   "cell_type": "code",
   "execution_count": null,
   "metadata": {},
   "outputs": [],
   "source": []
  },
  {
   "cell_type": "code",
   "execution_count": null,
   "metadata": {},
   "outputs": [],
   "source": []
  },
  {
   "cell_type": "code",
   "execution_count": null,
   "metadata": {},
   "outputs": [],
   "source": []
  },
  {
   "cell_type": "code",
   "execution_count": null,
   "metadata": {},
   "outputs": [],
   "source": []
  },
  {
   "cell_type": "code",
   "execution_count": 51,
   "metadata": {},
   "outputs": [
    {
     "name": "stdout",
     "output_type": "stream",
     "text": [
      "[1] 610960\n",
      "GRanges object with 610960 ranges and 1 metadata column:\n",
      "           seqnames              ranges strand |        Name\n",
      "              <Rle>           <IRanges>  <Rle> | <character>\n",
      "       [1]    chr11   33064196-33064197      * |     CAPRIN1\n",
      "       [2]    chr11   33064217-33064218      * |     CAPRIN1\n",
      "       [3]    chr11   33064229-33064230      * |     CAPRIN1\n",
      "       [4]    chr11   33064230-33064231      * |     CAPRIN1\n",
      "       [5]    chr11   33064258-33064259      * |     CAPRIN1\n",
      "       ...      ...                 ...    ... .         ...\n",
      "  [610956]     chr8 128731456-128731457      * |        PVT1\n",
      "  [610957]     chr8 128732458-128732459      * |        PVT1\n",
      "  [610958]     chr8 128732691-128732692      * |        PVT1\n",
      "  [610959]     chr8 128733323-128733324      * |        PVT1\n",
      "  [610960]     chr8 128735224-128735225      * |        PVT1\n",
      "  -------\n",
      "  seqinfo: 9 sequences from an unspecified genome; no seqlengths\n"
     ]
    }
   ],
   "source": [
    "### construct a granges object of the guides\n",
    "dat = dat_crispr_log2fc_filter\n",
    "grg = GRanges(\n",
    "    seqnames = dat$Chrom,\n",
    "    ranges   = IRanges(\n",
    "        start = dat$Start, \n",
    "        end   = dat$End\n",
    "    )\n",
    ")\n",
    "grg$Name = dat$Gene\n",
    "\n",
    "### assign and show\n",
    "grg_guides_total = grg\n",
    "print(length(grg))\n",
    "print(grg)"
   ]
  },
  {
   "cell_type": "code",
   "execution_count": 57,
   "metadata": {},
   "outputs": [
    {
     "name": "stdout",
     "output_type": "stream",
     "text": [
      "[1] 31\n",
      "GRanges object with 31 ranges and 0 metadata columns:\n",
      "          seqnames              ranges strand\n",
      "             <Rle>           <IRanges>  <Rle>\n",
      "  CAPRIN1    chr11   33064196-34664117      *\n",
      "      CAT    chr11   33064196-34664117      *\n",
      "    CD164     chr6 108840570-109828800      *\n",
      "    ERP29    chr12 110726151-112325737      *\n",
      "    FADS1    chr11   61788524-61897153      *\n",
      "      ...      ...                 ...    ...\n",
      "      MYB    chr11     4091884-6419310      *\n",
      "      MYB     chr6 134253831-136927585      *\n",
      "      MYC     chr8 126736094-128735225      *\n",
      "      NMU     chr4   55237590-56068531      *\n",
      "     PVT1     chr8 126736094-128735225      *\n",
      "  -------\n",
      "  seqinfo: 9 sequences from an unspecified genome; no seqlengths\n"
     ]
    }
   ],
   "source": [
    "### get the range for each gene\n",
    "### since some genes are screening at the same regions\n",
    "grg = grg_guides_total\n",
    "lst = split(grg, grg$Name)\n",
    "lst = lapply(lst, function(grg){\n",
    "    grg = range(reduce(grg))\n",
    "    return(grg)\n",
    "})\n",
    "grg = unlist(as(lst, \"GRangesList\"))\n",
    "\n",
    "### assign and show\n",
    "grg_guides_gene = grg\n",
    "print(length(grg))\n",
    "print(grg)"
   ]
  },
  {
   "cell_type": "code",
   "execution_count": 58,
   "metadata": {},
   "outputs": [
    {
     "name": "stdout",
     "output_type": "stream",
     "text": [
      "[1] 13\n",
      "GRanges object with 13 ranges and 0 metadata columns:\n",
      "       seqnames              ranges strand\n",
      "          <Rle>           <IRanges>  <Rle>\n",
      "   [1]    chr11     4091884-6419310      *\n",
      "   [2]    chr11   33064196-34664117      *\n",
      "   [3]    chr11   61788524-61897153      *\n",
      "   [4]     chr6 108840570-109828800      *\n",
      "   [5]     chr6 134253831-136927585      *\n",
      "   ...      ...                 ...    ...\n",
      "   [9]     chr3 128487571-128487937      *\n",
      "  [10]     chrX   48397930-49656988      *\n",
      "  [11]     chr5   87611207-89911163      *\n",
      "  [12]     chr8 126736094-128735225      *\n",
      "  [13]     chr4   55237590-56068531      *\n",
      "  -------\n",
      "  seqinfo: 9 sequences from an unspecified genome; no seqlengths\n"
     ]
    }
   ],
   "source": [
    "### reduce the range by overlapping\n",
    "grg = grg_guides_gene\n",
    "grg = reduce(grg)\n",
    "\n",
    "### assign and show\n",
    "grg_guides_reduce = grg\n",
    "print(length(grg))\n",
    "print(grg)"
   ]
  },
  {
   "cell_type": "code",
   "execution_count": 64,
   "metadata": {},
   "outputs": [
    {
     "name": "stdout",
     "output_type": "stream",
     "text": [
      " [1] 2327427 1599922  108630  988231 2673755     277 1599587     128     367\n",
      "[10] 1259059 2299957 1999132  830942\n",
      "=============================\n",
      "Total: 15.68741 M"
     ]
    }
   ],
   "source": [
    "grg = grg_guides_reduce\n",
    "print(lengths(grg))\n",
    "cat(\"=============================\\n\")\n",
    "cat(\"Total:\", sum(lengths(grg))/10^6, \"M\")"
   ]
  },
  {
   "cell_type": "code",
   "execution_count": 101,
   "metadata": {},
   "outputs": [
    {
     "name": "stdout",
     "output_type": "stream",
     "text": [
      "=============================\n",
      "Total: 0.608668 M"
     ]
    }
   ],
   "source": [
    "grg = grg_guides_total\n",
    "grg = reduce(grg)\n",
    "cat(\"=============================\\n\")\n",
    "cat(\"Total:\", sum(lengths(grg))/10^6, \"M\")"
   ]
  },
  {
   "cell_type": "code",
   "execution_count": 84,
   "metadata": {},
   "outputs": [
    {
     "data": {
      "text/plain": [
       "GRanges object with 13 ranges and 1 metadata column:\n",
       "       seqnames              ranges strand |                   Name\n",
       "          <Rle>           <IRanges>  <Rle> |            <character>\n",
       "   [1]    chr11     4091884-6419310      * | HBE1,HBG1,HBG2,HBS1L..\n",
       "   [2]    chr11   33064196-34664117      * |       CAPRIN1,CAT,LMO2\n",
       "   [3]    chr11   61788524-61897153      * | FADS1,FADS2,FADS3,FEN1\n",
       "   [4]     chr6 108840570-109828800      * |                  CD164\n",
       "   [5]     chr6 134253831-136927585      * | HBE1,HBG1,HBG2,HBS1L..\n",
       "   ...      ...                 ...    ... .                    ...\n",
       "   [9]     chr3 128487571-128487937      * |            GATA1,HDAC6\n",
       "  [10]     chrX   48397930-49656988      * |            GATA1,HDAC6\n",
       "  [11]     chr5   87611207-89911163      * |                  MEF2C\n",
       "  [12]     chr8 126736094-128735225      * |               MYC,PVT1\n",
       "  [13]     chr4   55237590-56068531      * |                    NMU\n",
       "  -------\n",
       "  seqinfo: 9 sequences from an unspecified genome; no seqlengths"
      ]
     },
     "metadata": {},
     "output_type": "display_data"
    }
   ],
   "source": [
    "### init\n",
    "grg_query   = grg_guides_reduce\n",
    "grg_subject = grg_guides_gene\n",
    "\n",
    "### overlap, split and summarize\n",
    "res = GenomicRanges::findOverlaps(grg_query, grg_subject)\n",
    "lst = split(subjectHits(res), queryHits(res))\n",
    "lst = lapply(lst, function(idx){\n",
    "    grg = grg_subject[idx]\n",
    "    txt = sort(unique(names(grg)))\n",
    "    txt = paste(txt, collapse = \",\")\n",
    "    return(txt)\n",
    "})\n",
    "grg_query$Name = unlist(lst)\n",
    "\n",
    "grg_guides_reduce_label = grg_query\n",
    "grg_query"
   ]
  },
  {
   "cell_type": "code",
   "execution_count": 98,
   "metadata": {},
   "outputs": [
    {
     "name": "stdout",
     "output_type": "stream",
     "text": [
      "[1] 13  4\n"
     ]
    },
    {
     "data": {
      "text/html": [
       "<table class=\"dataframe\">\n",
       "<caption>A data.frame: 13 × 4</caption>\n",
       "<thead>\n",
       "\t<tr><th></th><th scope=col>Chrom</th><th scope=col>Start</th><th scope=col>End</th><th scope=col>Name</th></tr>\n",
       "\t<tr><th></th><th scope=col>&lt;chr&gt;</th><th scope=col>&lt;int&gt;</th><th scope=col>&lt;int&gt;</th><th scope=col>&lt;chr&gt;</th></tr>\n",
       "</thead>\n",
       "<tbody>\n",
       "\t<tr><th scope=row>1</th><td>chr11</td><td>  4091884</td><td>  6419310</td><td>HBE1,HBG1,HBG2,HBS1L,MYB</td></tr>\n",
       "\t<tr><th scope=row>2</th><td>chr11</td><td> 33064196</td><td> 34664117</td><td>CAPRIN1,CAT,LMO2        </td></tr>\n",
       "\t<tr><th scope=row>3</th><td>chr11</td><td> 61788524</td><td> 61897153</td><td>FADS1,FADS2,FADS3,FEN1  </td></tr>\n",
       "\t<tr><th scope=row>6</th><td>chr12</td><td> 54300766</td><td> 54301042</td><td>GATA1,HDAC6             </td></tr>\n",
       "\t<tr><th scope=row>7</th><td>chr12</td><td>110726151</td><td>112325737</td><td>ERP29                   </td></tr>\n",
       "\t<tr><th scope=row>8</th><td>chr19</td><td> 12887110</td><td> 12887237</td><td>GATA1,HDAC6             </td></tr>\n",
       "\t<tr><th scope=row>9</th><td>chr3 </td><td>128487571</td><td>128487937</td><td>GATA1,HDAC6             </td></tr>\n",
       "\t<tr><th scope=row>13</th><td>chr4 </td><td> 55237590</td><td> 56068531</td><td>NMU                     </td></tr>\n",
       "\t<tr><th scope=row>11</th><td>chr5 </td><td> 87611207</td><td> 89911163</td><td>MEF2C                   </td></tr>\n",
       "\t<tr><th scope=row>4</th><td>chr6 </td><td>108840570</td><td>109828800</td><td>CD164                   </td></tr>\n",
       "\t<tr><th scope=row>5</th><td>chr6 </td><td>134253831</td><td>136927585</td><td>HBE1,HBG1,HBG2,HBS1L,MYB</td></tr>\n",
       "\t<tr><th scope=row>12</th><td>chr8 </td><td>126736094</td><td>128735225</td><td>MYC,PVT1                </td></tr>\n",
       "\t<tr><th scope=row>10</th><td>chrX </td><td> 48397930</td><td> 49656988</td><td>GATA1,HDAC6             </td></tr>\n",
       "</tbody>\n",
       "</table>\n"
      ],
      "text/latex": [
       "A data.frame: 13 × 4\n",
       "\\begin{tabular}{r|llll}\n",
       "  & Chrom & Start & End & Name\\\\\n",
       "  & <chr> & <int> & <int> & <chr>\\\\\n",
       "\\hline\n",
       "\t1 & chr11 &   4091884 &   6419310 & HBE1,HBG1,HBG2,HBS1L,MYB\\\\\n",
       "\t2 & chr11 &  33064196 &  34664117 & CAPRIN1,CAT,LMO2        \\\\\n",
       "\t3 & chr11 &  61788524 &  61897153 & FADS1,FADS2,FADS3,FEN1  \\\\\n",
       "\t6 & chr12 &  54300766 &  54301042 & GATA1,HDAC6             \\\\\n",
       "\t7 & chr12 & 110726151 & 112325737 & ERP29                   \\\\\n",
       "\t8 & chr19 &  12887110 &  12887237 & GATA1,HDAC6             \\\\\n",
       "\t9 & chr3  & 128487571 & 128487937 & GATA1,HDAC6             \\\\\n",
       "\t13 & chr4  &  55237590 &  56068531 & NMU                     \\\\\n",
       "\t11 & chr5  &  87611207 &  89911163 & MEF2C                   \\\\\n",
       "\t4 & chr6  & 108840570 & 109828800 & CD164                   \\\\\n",
       "\t5 & chr6  & 134253831 & 136927585 & HBE1,HBG1,HBG2,HBS1L,MYB\\\\\n",
       "\t12 & chr8  & 126736094 & 128735225 & MYC,PVT1                \\\\\n",
       "\t10 & chrX  &  48397930 &  49656988 & GATA1,HDAC6             \\\\\n",
       "\\end{tabular}\n"
      ],
      "text/markdown": [
       "\n",
       "A data.frame: 13 × 4\n",
       "\n",
       "| <!--/--> | Chrom &lt;chr&gt; | Start &lt;int&gt; | End &lt;int&gt; | Name &lt;chr&gt; |\n",
       "|---|---|---|---|---|\n",
       "| 1 | chr11 |   4091884 |   6419310 | HBE1,HBG1,HBG2,HBS1L,MYB |\n",
       "| 2 | chr11 |  33064196 |  34664117 | CAPRIN1,CAT,LMO2         |\n",
       "| 3 | chr11 |  61788524 |  61897153 | FADS1,FADS2,FADS3,FEN1   |\n",
       "| 6 | chr12 |  54300766 |  54301042 | GATA1,HDAC6              |\n",
       "| 7 | chr12 | 110726151 | 112325737 | ERP29                    |\n",
       "| 8 | chr19 |  12887110 |  12887237 | GATA1,HDAC6              |\n",
       "| 9 | chr3  | 128487571 | 128487937 | GATA1,HDAC6              |\n",
       "| 13 | chr4  |  55237590 |  56068531 | NMU                      |\n",
       "| 11 | chr5  |  87611207 |  89911163 | MEF2C                    |\n",
       "| 4 | chr6  | 108840570 | 109828800 | CD164                    |\n",
       "| 5 | chr6  | 134253831 | 136927585 | HBE1,HBG1,HBG2,HBS1L,MYB |\n",
       "| 12 | chr8  | 126736094 | 128735225 | MYC,PVT1                 |\n",
       "| 10 | chrX  |  48397930 |  49656988 | GATA1,HDAC6              |\n",
       "\n"
      ],
      "text/plain": [
       "   Chrom Start     End       Name                    \n",
       "1  chr11   4091884   6419310 HBE1,HBG1,HBG2,HBS1L,MYB\n",
       "2  chr11  33064196  34664117 CAPRIN1,CAT,LMO2        \n",
       "3  chr11  61788524  61897153 FADS1,FADS2,FADS3,FEN1  \n",
       "6  chr12  54300766  54301042 GATA1,HDAC6             \n",
       "7  chr12 110726151 112325737 ERP29                   \n",
       "8  chr19  12887110  12887237 GATA1,HDAC6             \n",
       "9  chr3  128487571 128487937 GATA1,HDAC6             \n",
       "13 chr4   55237590  56068531 NMU                     \n",
       "11 chr5   87611207  89911163 MEF2C                   \n",
       "4  chr6  108840570 109828800 CD164                   \n",
       "5  chr6  134253831 136927585 HBE1,HBG1,HBG2,HBS1L,MYB\n",
       "12 chr8  126736094 128735225 MYC,PVT1                \n",
       "10 chrX   48397930  49656988 GATA1,HDAC6             "
      ]
     },
     "metadata": {},
     "output_type": "display_data"
    }
   ],
   "source": [
    "grg = grg_guides_reduce_label\n",
    "dat = data.frame(\n",
    "    Chrom = as.character(seqnames(grg)),\n",
    "    Start = start(ranges(grg)),\n",
    "    End   = end(ranges(grg)),\n",
    "    Name  = grg$Name\n",
    ")\n",
    "dat = dat %>% dplyr::arrange(Chrom, Start, End)\n",
    "\n",
    "dat_guides_reduce_label = dat\n",
    "print(dim(dat))\n",
    "dat"
   ]
  },
  {
   "cell_type": "markdown",
   "metadata": {},
   "source": [
    "## Save"
   ]
  },
  {
   "cell_type": "code",
   "execution_count": 99,
   "metadata": {},
   "outputs": [],
   "source": [
    "fdiry = file.path(FD_RES, \"results\", \"region\")\n",
    "fname = \"region_screened_crispri_flowfish.bed\"\n",
    "fpath = file.path(fdiry, fname)\n",
    "\n",
    "dat = dat_guides_reduce_label\n",
    "write_tsv(dat, fpath, col_names = FALSE)"
   ]
  },
  {
   "cell_type": "code",
   "execution_count": 69,
   "metadata": {},
   "outputs": [
    {
     "data": {
      "text/html": [
       "<style>\n",
       ".list-inline {list-style: none; margin:0; padding: 0}\n",
       ".list-inline>li {display: inline-block}\n",
       ".list-inline>li:not(:last-child)::after {content: \"\\00b7\"; padding: 0 .5ex}\n",
       "</style>\n",
       "<ol class=list-inline><li>1</li><li>1</li><li>1</li><li>1</li><li>1</li><li>2</li><li>2</li><li>2</li><li>3</li><li>3</li><li>3</li><li>3</li><li>4</li><li>5</li><li>5</li><li>5</li><li>5</li><li>5</li><li>6</li><li>6</li><li>7</li><li>8</li><li>8</li><li>9</li><li>9</li><li>10</li><li>10</li><li>11</li><li>12</li><li>12</li><li>13</li></ol>\n"
      ],
      "text/latex": [
       "\\begin{enumerate*}\n",
       "\\item 1\n",
       "\\item 1\n",
       "\\item 1\n",
       "\\item 1\n",
       "\\item 1\n",
       "\\item 2\n",
       "\\item 2\n",
       "\\item 2\n",
       "\\item 3\n",
       "\\item 3\n",
       "\\item 3\n",
       "\\item 3\n",
       "\\item 4\n",
       "\\item 5\n",
       "\\item 5\n",
       "\\item 5\n",
       "\\item 5\n",
       "\\item 5\n",
       "\\item 6\n",
       "\\item 6\n",
       "\\item 7\n",
       "\\item 8\n",
       "\\item 8\n",
       "\\item 9\n",
       "\\item 9\n",
       "\\item 10\n",
       "\\item 10\n",
       "\\item 11\n",
       "\\item 12\n",
       "\\item 12\n",
       "\\item 13\n",
       "\\end{enumerate*}\n"
      ],
      "text/markdown": [
       "1. 1\n",
       "2. 1\n",
       "3. 1\n",
       "4. 1\n",
       "5. 1\n",
       "6. 2\n",
       "7. 2\n",
       "8. 2\n",
       "9. 3\n",
       "10. 3\n",
       "11. 3\n",
       "12. 3\n",
       "13. 4\n",
       "14. 5\n",
       "15. 5\n",
       "16. 5\n",
       "17. 5\n",
       "18. 5\n",
       "19. 6\n",
       "20. 6\n",
       "21. 7\n",
       "22. 8\n",
       "23. 8\n",
       "24. 9\n",
       "25. 9\n",
       "26. 10\n",
       "27. 10\n",
       "28. 11\n",
       "29. 12\n",
       "30. 12\n",
       "31. 13\n",
       "\n",
       "\n"
      ],
      "text/plain": [
       " [1]  1  1  1  1  1  2  2  2  3  3  3  3  4  5  5  5  5  5  6  6  7  8  8  9  9\n",
       "[26] 10 10 11 12 12 13"
      ]
     },
     "metadata": {},
     "output_type": "display_data"
    }
   ],
   "source": [
    "queryHits(res)"
   ]
  },
  {
   "cell_type": "code",
   "execution_count": 73,
   "metadata": {},
   "outputs": [
    {
     "data": {
      "text/html": [
       "<style>\n",
       ".list-inline {list-style: none; margin:0; padding: 0}\n",
       ".list-inline>li {display: inline-block}\n",
       ".list-inline>li:not(:last-child)::after {content: \"\\00b7\"; padding: 0 .5ex}\n",
       "</style>\n",
       "<ol class=list-inline><li>13</li><li>15</li><li>17</li><li>19</li><li>27</li></ol>\n"
      ],
      "text/latex": [
       "\\begin{enumerate*}\n",
       "\\item 13\n",
       "\\item 15\n",
       "\\item 17\n",
       "\\item 19\n",
       "\\item 27\n",
       "\\end{enumerate*}\n"
      ],
      "text/markdown": [
       "1. 13\n",
       "2. 15\n",
       "3. 17\n",
       "4. 19\n",
       "5. 27\n",
       "\n",
       "\n"
      ],
      "text/plain": [
       "[1] 13 15 17 19 27"
      ]
     },
     "metadata": {},
     "output_type": "display_data"
    }
   ],
   "source": [
    "idx = lst[[1]]\n",
    "idx"
   ]
  },
  {
   "cell_type": "code",
   "execution_count": 74,
   "metadata": {},
   "outputs": [
    {
     "data": {
      "text/plain": [
       "GRanges object with 5 ranges and 0 metadata columns:\n",
       "        seqnames          ranges strand\n",
       "           <Rle>       <IRanges>  <Rle>\n",
       "   HBE1    chr11 4091884-6419310      *\n",
       "   HBG1    chr11 4091884-6419310      *\n",
       "   HBG2    chr11 4091884-6419310      *\n",
       "  HBS1L    chr11 4091884-6419310      *\n",
       "    MYB    chr11 4091884-6419310      *\n",
       "  -------\n",
       "  seqinfo: 9 sequences from an unspecified genome; no seqlengths"
      ]
     },
     "metadata": {},
     "output_type": "display_data"
    }
   ],
   "source": [
    "grg = grg_subject[idx]\n",
    "grg"
   ]
  },
  {
   "cell_type": "code",
   "execution_count": 78,
   "metadata": {},
   "outputs": [
    {
     "name": "stdout",
     "output_type": "stream",
     "text": [
      "[1] \"HBE1\"  \"HBG1\"  \"HBG2\"  \"HBS1L\" \"MYB\"  \n",
      "[1] \"HBE1,HBG1,HBG2,HBS1L,MYB\"\n"
     ]
    }
   ],
   "source": [
    "txt = sort(unique(names(grg)))\n",
    "print(txt)\n",
    "txt = paste(txt, collapse = \",\")\n",
    "print(txt)"
   ]
  },
  {
   "cell_type": "code",
   "execution_count": 80,
   "metadata": {},
   "outputs": [
    {
     "data": {
      "text/html": [
       "<style>\n",
       ".dl-inline {width: auto; margin:0; padding: 0}\n",
       ".dl-inline>dt, .dl-inline>dd {float: none; width: auto; display: inline-block}\n",
       ".dl-inline>dt::after {content: \":\\0020\"; padding-right: .5ex}\n",
       ".dl-inline>dt:not(:first-of-type) {padding-left: .5ex}\n",
       "</style><dl class=dl-inline><dt>1</dt><dd>'HBE1,HBG1,HBG2,HBS1L,MYB'</dd><dt>2</dt><dd>'CAPRIN1,CAT,LMO2'</dd><dt>3</dt><dd>'FADS1,FADS2,FADS3,FEN1'</dd><dt>4</dt><dd>'CD164'</dd><dt>5</dt><dd>'HBE1,HBG1,HBG2,HBS1L,MYB'</dd><dt>6</dt><dd>'GATA1,HDAC6'</dd><dt>7</dt><dd>'ERP29'</dd><dt>8</dt><dd>'GATA1,HDAC6'</dd><dt>9</dt><dd>'GATA1,HDAC6'</dd><dt>10</dt><dd>'GATA1,HDAC6'</dd><dt>11</dt><dd>'MEF2C'</dd><dt>12</dt><dd>'MYC,PVT1'</dd><dt>13</dt><dd>'NMU'</dd></dl>\n"
      ],
      "text/latex": [
       "\\begin{description*}\n",
       "\\item[1] 'HBE1,HBG1,HBG2,HBS1L,MYB'\n",
       "\\item[2] 'CAPRIN1,CAT,LMO2'\n",
       "\\item[3] 'FADS1,FADS2,FADS3,FEN1'\n",
       "\\item[4] 'CD164'\n",
       "\\item[5] 'HBE1,HBG1,HBG2,HBS1L,MYB'\n",
       "\\item[6] 'GATA1,HDAC6'\n",
       "\\item[7] 'ERP29'\n",
       "\\item[8] 'GATA1,HDAC6'\n",
       "\\item[9] 'GATA1,HDAC6'\n",
       "\\item[10] 'GATA1,HDAC6'\n",
       "\\item[11] 'MEF2C'\n",
       "\\item[12] 'MYC,PVT1'\n",
       "\\item[13] 'NMU'\n",
       "\\end{description*}\n"
      ],
      "text/markdown": [
       "1\n",
       ":   'HBE1,HBG1,HBG2,HBS1L,MYB'2\n",
       ":   'CAPRIN1,CAT,LMO2'3\n",
       ":   'FADS1,FADS2,FADS3,FEN1'4\n",
       ":   'CD164'5\n",
       ":   'HBE1,HBG1,HBG2,HBS1L,MYB'6\n",
       ":   'GATA1,HDAC6'7\n",
       ":   'ERP29'8\n",
       ":   'GATA1,HDAC6'9\n",
       ":   'GATA1,HDAC6'10\n",
       ":   'GATA1,HDAC6'11\n",
       ":   'MEF2C'12\n",
       ":   'MYC,PVT1'13\n",
       ":   'NMU'\n",
       "\n"
      ],
      "text/plain": [
       "                         1                          2 \n",
       "\"HBE1,HBG1,HBG2,HBS1L,MYB\"         \"CAPRIN1,CAT,LMO2\" \n",
       "                         3                          4 \n",
       "  \"FADS1,FADS2,FADS3,FEN1\"                    \"CD164\" \n",
       "                         5                          6 \n",
       "\"HBE1,HBG1,HBG2,HBS1L,MYB\"              \"GATA1,HDAC6\" \n",
       "                         7                          8 \n",
       "                   \"ERP29\"              \"GATA1,HDAC6\" \n",
       "                         9                         10 \n",
       "             \"GATA1,HDAC6\"              \"GATA1,HDAC6\" \n",
       "                        11                         12 \n",
       "                   \"MEF2C\"                 \"MYC,PVT1\" \n",
       "                        13 \n",
       "                     \"NMU\" "
      ]
     },
     "metadata": {},
     "output_type": "display_data"
    }
   ],
   "source": [
    "lst = split(subjectHits(res), queryHits(res))\n",
    "lst = lapply(lst, function(idx){\n",
    "    grg = grg_subject[idx]\n",
    "    txt = sort(unique(names(grg)))\n",
    "    txt = paste(txt, collapse = \",\")\n",
    "    return(txt)\n",
    "})\n",
    "unlist(lst)"
   ]
  },
  {
   "cell_type": "code",
   "execution_count": 81,
   "metadata": {},
   "outputs": [
    {
     "data": {
      "text/plain": [
       "GRanges object with 13 ranges and 1 metadata column:\n",
       "       seqnames              ranges strand |                   Name\n",
       "          <Rle>           <IRanges>  <Rle> |            <character>\n",
       "   [1]    chr11     4091884-6419310      * | HBE1,HBG1,HBG2,HBS1L..\n",
       "   [2]    chr11   33064196-34664117      * |       CAPRIN1,CAT,LMO2\n",
       "   [3]    chr11   61788524-61897153      * | FADS1,FADS2,FADS3,FEN1\n",
       "   [4]     chr6 108840570-109828800      * |                  CD164\n",
       "   [5]     chr6 134253831-136927585      * | HBE1,HBG1,HBG2,HBS1L..\n",
       "   ...      ...                 ...    ... .                    ...\n",
       "   [9]     chr3 128487571-128487937      * |            GATA1,HDAC6\n",
       "  [10]     chrX   48397930-49656988      * |            GATA1,HDAC6\n",
       "  [11]     chr5   87611207-89911163      * |                  MEF2C\n",
       "  [12]     chr8 126736094-128735225      * |               MYC,PVT1\n",
       "  [13]     chr4   55237590-56068531      * |                    NMU\n",
       "  -------\n",
       "  seqinfo: 9 sequences from an unspecified genome; no seqlengths"
      ]
     },
     "metadata": {},
     "output_type": "display_data"
    }
   ],
   "source": [
    "grg_query$Name = unlist(lst)\n",
    "grg_query"
   ]
  },
  {
   "cell_type": "code",
   "execution_count": null,
   "metadata": {},
   "outputs": [],
   "source": []
  },
  {
   "cell_type": "code",
   "execution_count": 17,
   "metadata": {},
   "outputs": [
    {
     "name": "stdout",
     "output_type": "stream",
     "text": [
      "GRanges object with 13732 ranges and 1 metadata column:\n",
      "          seqnames            ranges strand |        Name\n",
      "             <Rle>         <IRanges>  <Rle> | <character>\n",
      "      [1]    chr12 54300766-54300767      * |       GATA1\n",
      "      [2]    chr12 54300810-54300811      * |       GATA1\n",
      "      [3]    chr12 54300998-54300999      * |       GATA1\n",
      "      [4]    chr12 54301041-54301042      * |       GATA1\n",
      "      [5]    chr19 12887110-12887111      * |       GATA1\n",
      "      ...      ...               ...    ... .         ...\n",
      "  [13728]     chrX 49656944-49656945      * |       GATA1\n",
      "  [13729]     chrX 49656965-49656966      * |       GATA1\n",
      "  [13730]     chrX 49656977-49656978      * |       GATA1\n",
      "  [13731]     chrX 49656978-49656979      * |       GATA1\n",
      "  [13732]     chrX 49656987-49656988      * |       GATA1\n",
      "  -------\n",
      "  seqinfo: 9 sequences from an unspecified genome; no seqlengths\n"
     ]
    }
   ],
   "source": [
    "grg = lst[[\"GATA1\"]]\n",
    "print(grg)"
   ]
  },
  {
   "cell_type": "code",
   "execution_count": 20,
   "metadata": {},
   "outputs": [
    {
     "data": {
      "text/plain": [
       "GRanges object with 4 ranges and 0 metadata columns:\n",
       "      seqnames              ranges strand\n",
       "         <Rle>           <IRanges>  <Rle>\n",
       "  [1]    chr12   54300766-54301042      *\n",
       "  [2]    chr19   12887110-12887237      *\n",
       "  [3]     chr3 128487571-128487937      *\n",
       "  [4]     chrX   48397930-49656988      *\n",
       "  -------\n",
       "  seqinfo: 9 sequences from an unspecified genome; no seqlengths"
      ]
     },
     "metadata": {},
     "output_type": "display_data"
    }
   ],
   "source": [
    "grg = range(grg)\n",
    "grg"
   ]
  },
  {
   "cell_type": "code",
   "execution_count": 21,
   "metadata": {},
   "outputs": [
    {
     "data": {
      "text/html": [
       "<style>\n",
       ".list-inline {list-style: none; margin:0; padding: 0}\n",
       ".list-inline>li {display: inline-block}\n",
       ".list-inline>li:not(:last-child)::after {content: \"\\00b7\"; padding: 0 .5ex}\n",
       "</style>\n",
       "<ol class=list-inline><li>277</li><li>128</li><li>367</li><li>1259059</li></ol>\n"
      ],
      "text/latex": [
       "\\begin{enumerate*}\n",
       "\\item 277\n",
       "\\item 128\n",
       "\\item 367\n",
       "\\item 1259059\n",
       "\\end{enumerate*}\n"
      ],
      "text/markdown": [
       "1. 277\n",
       "2. 128\n",
       "3. 367\n",
       "4. 1259059\n",
       "\n",
       "\n"
      ],
      "text/plain": [
       "[1]     277     128     367 1259059"
      ]
     },
     "metadata": {},
     "output_type": "display_data"
    }
   ],
   "source": [
    "lengths(grg)"
   ]
  },
  {
   "cell_type": "code",
   "execution_count": 22,
   "metadata": {},
   "outputs": [
    {
     "data": {
      "text/html": [
       "1259831"
      ],
      "text/latex": [
       "1259831"
      ],
      "text/markdown": [
       "1259831"
      ],
      "text/plain": [
       "[1] 1259831"
      ]
     },
     "metadata": {},
     "output_type": "display_data"
    }
   ],
   "source": [
    "sum(lengths(grg))"
   ]
  },
  {
   "cell_type": "code",
   "execution_count": null,
   "metadata": {},
   "outputs": [],
   "source": []
  },
  {
   "cell_type": "code",
   "execution_count": null,
   "metadata": {},
   "outputs": [],
   "source": []
  },
  {
   "cell_type": "code",
   "execution_count": 23,
   "metadata": {},
   "outputs": [
    {
     "name": "stdout",
     "output_type": "stream",
     "text": [
      "[1] 610960\n",
      "GRanges object with 610960 ranges and 1 metadata column:\n",
      "           seqnames              ranges strand |        Name\n",
      "              <Rle>           <IRanges>  <Rle> | <character>\n",
      "       [1]    chr11   33064196-33064197      * |     CAPRIN1\n",
      "       [2]    chr11   33064217-33064218      * |     CAPRIN1\n",
      "       [3]    chr11   33064229-33064230      * |     CAPRIN1\n",
      "       [4]    chr11   33064230-33064231      * |     CAPRIN1\n",
      "       [5]    chr11   33064258-33064259      * |     CAPRIN1\n",
      "       ...      ...                 ...    ... .         ...\n",
      "  [610956]     chr8 128731456-128731457      * |        PVT1\n",
      "  [610957]     chr8 128732458-128732459      * |        PVT1\n",
      "  [610958]     chr8 128732691-128732692      * |        PVT1\n",
      "  [610959]     chr8 128733323-128733324      * |        PVT1\n",
      "  [610960]     chr8 128735224-128735225      * |        PVT1\n",
      "  -------\n",
      "  seqinfo: 9 sequences from an unspecified genome; no seqlengths\n"
     ]
    }
   ],
   "source": [
    "dat = dat_crispr_log2fc_filter\n",
    "grg = GRanges(\n",
    "    seqnames = dat$Chrom,\n",
    "    ranges   = IRanges(\n",
    "        start = dat$Start, \n",
    "        end   = dat$End\n",
    "    )\n",
    ")\n",
    "grg$Name = dat$Gene\n",
    "\n",
    "print(length(grg))\n",
    "print(grg)"
   ]
  },
  {
   "cell_type": "code",
   "execution_count": 34,
   "metadata": {},
   "outputs": [],
   "source": [
    "lst = split(grg, grg$Name)\n",
    "tmp = lapply(lst, function(grg){\n",
    "    grg = range(reduce(grg))\n",
    "    len = sum(lengths(grg))\n",
    "    return(len)\n",
    "})"
   ]
  },
  {
   "cell_type": "code",
   "execution_count": 35,
   "metadata": {},
   "outputs": [
    {
     "data": {
      "text/html": [
       "<dl>\n",
       "\t<dt>$CAPRIN1</dt>\n",
       "\t\t<dd>1599922</dd>\n",
       "\t<dt>$CAT</dt>\n",
       "\t\t<dd>1599922</dd>\n",
       "\t<dt>$CD164</dt>\n",
       "\t\t<dd>988231</dd>\n",
       "\t<dt>$ERP29</dt>\n",
       "\t\t<dd>1599587</dd>\n",
       "\t<dt>$FADS1</dt>\n",
       "\t\t<dd>108630</dd>\n",
       "\t<dt>$FADS2</dt>\n",
       "\t\t<dd>108630</dd>\n",
       "\t<dt>$FADS3</dt>\n",
       "\t\t<dd>108630</dd>\n",
       "\t<dt>$FEN1</dt>\n",
       "\t\t<dd>108630</dd>\n",
       "\t<dt>$GATA1</dt>\n",
       "\t\t<dd>1259831</dd>\n",
       "\t<dt>$HBE1</dt>\n",
       "\t\t<dd>5001182</dd>\n",
       "\t<dt>$HBG1</dt>\n",
       "\t\t<dd>5001182</dd>\n",
       "\t<dt>$HBG2</dt>\n",
       "\t\t<dd>5001182</dd>\n",
       "\t<dt>$HBS1L</dt>\n",
       "\t\t<dd>5001182</dd>\n",
       "\t<dt>$HDAC6</dt>\n",
       "\t\t<dd>1259831</dd>\n",
       "\t<dt>$LMO2</dt>\n",
       "\t\t<dd>1599922</dd>\n",
       "\t<dt>$MEF2C</dt>\n",
       "\t\t<dd>2299957</dd>\n",
       "\t<dt>$MYB</dt>\n",
       "\t\t<dd>5001182</dd>\n",
       "\t<dt>$MYC</dt>\n",
       "\t\t<dd>1999132</dd>\n",
       "\t<dt>$NMU</dt>\n",
       "\t\t<dd>830942</dd>\n",
       "\t<dt>$PVT1</dt>\n",
       "\t\t<dd>1999132</dd>\n",
       "</dl>\n"
      ],
      "text/latex": [
       "\\begin{description}\n",
       "\\item[\\$CAPRIN1] 1599922\n",
       "\\item[\\$CAT] 1599922\n",
       "\\item[\\$CD164] 988231\n",
       "\\item[\\$ERP29] 1599587\n",
       "\\item[\\$FADS1] 108630\n",
       "\\item[\\$FADS2] 108630\n",
       "\\item[\\$FADS3] 108630\n",
       "\\item[\\$FEN1] 108630\n",
       "\\item[\\$GATA1] 1259831\n",
       "\\item[\\$HBE1] 5001182\n",
       "\\item[\\$HBG1] 5001182\n",
       "\\item[\\$HBG2] 5001182\n",
       "\\item[\\$HBS1L] 5001182\n",
       "\\item[\\$HDAC6] 1259831\n",
       "\\item[\\$LMO2] 1599922\n",
       "\\item[\\$MEF2C] 2299957\n",
       "\\item[\\$MYB] 5001182\n",
       "\\item[\\$MYC] 1999132\n",
       "\\item[\\$NMU] 830942\n",
       "\\item[\\$PVT1] 1999132\n",
       "\\end{description}\n"
      ],
      "text/markdown": [
       "$CAPRIN1\n",
       ":   1599922\n",
       "$CAT\n",
       ":   1599922\n",
       "$CD164\n",
       ":   988231\n",
       "$ERP29\n",
       ":   1599587\n",
       "$FADS1\n",
       ":   108630\n",
       "$FADS2\n",
       ":   108630\n",
       "$FADS3\n",
       ":   108630\n",
       "$FEN1\n",
       ":   108630\n",
       "$GATA1\n",
       ":   1259831\n",
       "$HBE1\n",
       ":   5001182\n",
       "$HBG1\n",
       ":   5001182\n",
       "$HBG2\n",
       ":   5001182\n",
       "$HBS1L\n",
       ":   5001182\n",
       "$HDAC6\n",
       ":   1259831\n",
       "$LMO2\n",
       ":   1599922\n",
       "$MEF2C\n",
       ":   2299957\n",
       "$MYB\n",
       ":   5001182\n",
       "$MYC\n",
       ":   1999132\n",
       "$NMU\n",
       ":   830942\n",
       "$PVT1\n",
       ":   1999132\n",
       "\n",
       "\n"
      ],
      "text/plain": [
       "$CAPRIN1\n",
       "[1] 1599922\n",
       "\n",
       "$CAT\n",
       "[1] 1599922\n",
       "\n",
       "$CD164\n",
       "[1] 988231\n",
       "\n",
       "$ERP29\n",
       "[1] 1599587\n",
       "\n",
       "$FADS1\n",
       "[1] 108630\n",
       "\n",
       "$FADS2\n",
       "[1] 108630\n",
       "\n",
       "$FADS3\n",
       "[1] 108630\n",
       "\n",
       "$FEN1\n",
       "[1] 108630\n",
       "\n",
       "$GATA1\n",
       "[1] 1259831\n",
       "\n",
       "$HBE1\n",
       "[1] 5001182\n",
       "\n",
       "$HBG1\n",
       "[1] 5001182\n",
       "\n",
       "$HBG2\n",
       "[1] 5001182\n",
       "\n",
       "$HBS1L\n",
       "[1] 5001182\n",
       "\n",
       "$HDAC6\n",
       "[1] 1259831\n",
       "\n",
       "$LMO2\n",
       "[1] 1599922\n",
       "\n",
       "$MEF2C\n",
       "[1] 2299957\n",
       "\n",
       "$MYB\n",
       "[1] 5001182\n",
       "\n",
       "$MYC\n",
       "[1] 1999132\n",
       "\n",
       "$NMU\n",
       "[1] 830942\n",
       "\n",
       "$PVT1\n",
       "[1] 1999132\n"
      ]
     },
     "metadata": {},
     "output_type": "display_data"
    }
   ],
   "source": [
    "tmp"
   ]
  },
  {
   "cell_type": "code",
   "execution_count": null,
   "metadata": {},
   "outputs": [],
   "source": []
  },
  {
   "cell_type": "code",
   "execution_count": null,
   "metadata": {},
   "outputs": [],
   "source": []
  },
  {
   "cell_type": "code",
   "execution_count": 37,
   "metadata": {},
   "outputs": [
    {
     "data": {
      "text/plain": [
       "GRanges object with 265586 ranges and 0 metadata columns:\n",
       "           seqnames            ranges strand\n",
       "              <Rle>         <IRanges>  <Rle>\n",
       "       [1]    chr11   4091884-4091887      *\n",
       "       [2]    chr11   4091898-4091900      *\n",
       "       [3]    chr11   4091903-4091905      *\n",
       "       [4]    chr11   4091908-4091909      *\n",
       "       [5]    chr11   4091914-4091917      *\n",
       "       ...      ...               ...    ...\n",
       "  [265582]     chr4 56068423-56068424      *\n",
       "  [265583]     chr4 56068452-56068453      *\n",
       "  [265584]     chr4 56068462-56068463      *\n",
       "  [265585]     chr4 56068465-56068467      *\n",
       "  [265586]     chr4 56068530-56068531      *\n",
       "  -------\n",
       "  seqinfo: 9 sequences from an unspecified genome; no seqlengths"
      ]
     },
     "metadata": {},
     "output_type": "display_data"
    }
   ],
   "source": [
    "dat = dat_crispr_log2fc_filter\n",
    "grg = GRanges(\n",
    "    seqnames = dat$Chrom,\n",
    "    ranges   = IRanges(\n",
    "        start = dat$Start, \n",
    "        end   = dat$End\n",
    "    )\n",
    ")\n",
    "reduce(grg)"
   ]
  },
  {
   "cell_type": "code",
   "execution_count": 39,
   "metadata": {},
   "outputs": [
    {
     "data": {
      "text/html": [
       "1221920"
      ],
      "text/latex": [
       "1221920"
      ],
      "text/markdown": [
       "1221920"
      ],
      "text/plain": [
       "[1] 1221920"
      ]
     },
     "metadata": {},
     "output_type": "display_data"
    }
   ],
   "source": [
    "sum(lengths(grg))"
   ]
  },
  {
   "cell_type": "code",
   "execution_count": null,
   "metadata": {},
   "outputs": [],
   "source": []
  }
 ],
 "metadata": {
  "kernelspec": {
   "display_name": "R",
   "language": "R",
   "name": "ir"
  },
  "language_info": {
   "codemirror_mode": "r",
   "file_extension": ".r",
   "mimetype": "text/x-r-source",
   "name": "R",
   "pygments_lexer": "r",
   "version": "4.3.0"
  }
 },
 "nbformat": 4,
 "nbformat_minor": 4
}
