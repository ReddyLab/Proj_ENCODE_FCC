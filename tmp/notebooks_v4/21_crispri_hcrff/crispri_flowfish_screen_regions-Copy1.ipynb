{
 "cells": [
  {
   "cell_type": "markdown",
   "metadata": {},
   "source": [
    "**Set environment**"
   ]
  },
  {
   "cell_type": "code",
   "execution_count": 5,
   "metadata": {},
   "outputs": [
    {
     "name": "stdout",
     "output_type": "stream",
     "text": [
      "You are in Singularity: singularity_proj_combeffect \n",
      "BASE DIRECTORY (FD_BASE): /data/reddylab/Kuei \n",
      "WORK DIRECTORY (FD_WORK): /data/reddylab/Kuei/out \n",
      "CODE DIRECTORY (FD_CODE): /data/reddylab/Kuei/code \n",
      "PATH OF PROJECT (FD_PRJ): /data/reddylab/Kuei/code/Proj_CombEffect_ENCODE_FCC \n",
      "PATH OF RESULTS (FD_RES): /data/reddylab/Kuei/out/proj_combeffect_encode_fcc \n",
      "PATH OF LOG     (FD_LOG): /data/reddylab/Kuei/out/proj_combeffect_encode_fcc/log \n"
     ]
    }
   ],
   "source": [
    "suppressMessages(suppressWarnings(source(\"../config/config_sing.R\")))\n",
    "suppressMessages(suppressWarnings(library(\"rtracklayer\")))\n",
    "show_env()"
   ]
  },
  {
   "cell_type": "markdown",
   "metadata": {},
   "source": [
    "## Group 01: NMU"
   ]
  },
  {
   "cell_type": "code",
   "execution_count": 2,
   "metadata": {},
   "outputs": [
    {
     "name": "stdout",
     "output_type": "stream",
     "text": [
      "[1] 11 25\n"
     ]
    },
    {
     "data": {
      "text/html": [
       "<table class=\"dataframe\">\n",
       "<caption>A tibble: 6 × 25</caption>\n",
       "<thead>\n",
       "\t<tr><th scope=col>X1</th><th scope=col>X2</th><th scope=col>X3</th><th scope=col>X4</th><th scope=col>X5</th><th scope=col>X6</th><th scope=col>X7</th><th scope=col>X8</th><th scope=col>X9</th><th scope=col>X10</th><th scope=col>⋯</th><th scope=col>X16</th><th scope=col>X17</th><th scope=col>X18</th><th scope=col>X19</th><th scope=col>X20</th><th scope=col>X21</th><th scope=col>X22</th><th scope=col>X23</th><th scope=col>X24</th><th scope=col>X25</th></tr>\n",
       "\t<tr><th scope=col>&lt;chr&gt;</th><th scope=col>&lt;dbl&gt;</th><th scope=col>&lt;dbl&gt;</th><th scope=col>&lt;chr&gt;</th><th scope=col>&lt;dbl&gt;</th><th scope=col>&lt;chr&gt;</th><th scope=col>&lt;chr&gt;</th><th scope=col>&lt;chr&gt;</th><th scope=col>&lt;dbl&gt;</th><th scope=col>&lt;dbl&gt;</th><th scope=col>⋯</th><th scope=col>&lt;lgl&gt;</th><th scope=col>&lt;lgl&gt;</th><th scope=col>&lt;lgl&gt;</th><th scope=col>&lt;lgl&gt;</th><th scope=col>&lt;lgl&gt;</th><th scope=col>&lt;lgl&gt;</th><th scope=col>&lt;lgl&gt;</th><th scope=col>&lt;lgl&gt;</th><th scope=col>&lt;lgl&gt;</th><th scope=col>&lt;lgl&gt;</th></tr>\n",
       "</thead>\n",
       "<tbody>\n",
       "\t<tr><td>chr4</td><td>55602941</td><td>55606941</td><td>chr4:55602941-55606941:.</td><td>0.5019663</td><td>.</td><td>chr4:55602941-55606941:.</td><td>chr4</td><td>55636297</td><td>55636298</td><td>⋯</td><td>NA</td><td>NA</td><td>TRUE</td><td>NA</td><td>NA</td><td>NA</td><td>NA</td><td>NA</td><td>TRUE</td><td>NA</td></tr>\n",
       "\t<tr><td>chr4</td><td>55608941</td><td>55610941</td><td>chr4:55608941-55610941:.</td><td>0.5041968</td><td>.</td><td>chr4:55608941-55610941:.</td><td>chr4</td><td>55636297</td><td>55636298</td><td>⋯</td><td>NA</td><td>NA</td><td>TRUE</td><td>NA</td><td>NA</td><td>NA</td><td>NA</td><td>NA</td><td>TRUE</td><td>NA</td></tr>\n",
       "\t<tr><td>chr4</td><td>55611441</td><td>55613941</td><td>chr4:55611441-55613941:.</td><td>0.4248977</td><td>.</td><td>chr4:55611441-55613941:.</td><td>chr4</td><td>55636297</td><td>55636298</td><td>⋯</td><td>NA</td><td>NA</td><td>TRUE</td><td>NA</td><td>NA</td><td>NA</td><td>NA</td><td>NA</td><td>TRUE</td><td>NA</td></tr>\n",
       "\t<tr><td>chr4</td><td>55614441</td><td>55616941</td><td>chr4:55614441-55616941:.</td><td>0.6069630</td><td>.</td><td>chr4:55614441-55616941:.</td><td>chr4</td><td>55636297</td><td>55636298</td><td>⋯</td><td>NA</td><td>NA</td><td>TRUE</td><td>NA</td><td>NA</td><td>NA</td><td>NA</td><td>NA</td><td>TRUE</td><td>NA</td></tr>\n",
       "\t<tr><td>chr4</td><td>55617441</td><td>55618441</td><td>chr4:55617441-55618441:.</td><td>0.4442868</td><td>.</td><td>chr4:55617441-55618441:.</td><td>chr4</td><td>55636297</td><td>55636298</td><td>⋯</td><td>NA</td><td>NA</td><td>TRUE</td><td>NA</td><td>NA</td><td>NA</td><td>NA</td><td>NA</td><td>TRUE</td><td>NA</td></tr>\n",
       "\t<tr><td>chr4</td><td>55624941</td><td>55627441</td><td>chr4:55624941-55627441:.</td><td>0.4792917</td><td>.</td><td>chr4:55624941-55627441:.</td><td>chr4</td><td>55636297</td><td>55636298</td><td>⋯</td><td>NA</td><td>NA</td><td>TRUE</td><td>NA</td><td>NA</td><td>NA</td><td>NA</td><td>NA</td><td>TRUE</td><td>NA</td></tr>\n",
       "</tbody>\n",
       "</table>\n"
      ],
      "text/latex": [
       "A tibble: 6 × 25\n",
       "\\begin{tabular}{lllllllllllllllllllll}\n",
       " X1 & X2 & X3 & X4 & X5 & X6 & X7 & X8 & X9 & X10 & ⋯ & X16 & X17 & X18 & X19 & X20 & X21 & X22 & X23 & X24 & X25\\\\\n",
       " <chr> & <dbl> & <dbl> & <chr> & <dbl> & <chr> & <chr> & <chr> & <dbl> & <dbl> & ⋯ & <lgl> & <lgl> & <lgl> & <lgl> & <lgl> & <lgl> & <lgl> & <lgl> & <lgl> & <lgl>\\\\\n",
       "\\hline\n",
       "\t chr4 & 55602941 & 55606941 & chr4:55602941-55606941:. & 0.5019663 & . & chr4:55602941-55606941:. & chr4 & 55636297 & 55636298 & ⋯ & NA & NA & TRUE & NA & NA & NA & NA & NA & TRUE & NA\\\\\n",
       "\t chr4 & 55608941 & 55610941 & chr4:55608941-55610941:. & 0.5041968 & . & chr4:55608941-55610941:. & chr4 & 55636297 & 55636298 & ⋯ & NA & NA & TRUE & NA & NA & NA & NA & NA & TRUE & NA\\\\\n",
       "\t chr4 & 55611441 & 55613941 & chr4:55611441-55613941:. & 0.4248977 & . & chr4:55611441-55613941:. & chr4 & 55636297 & 55636298 & ⋯ & NA & NA & TRUE & NA & NA & NA & NA & NA & TRUE & NA\\\\\n",
       "\t chr4 & 55614441 & 55616941 & chr4:55614441-55616941:. & 0.6069630 & . & chr4:55614441-55616941:. & chr4 & 55636297 & 55636298 & ⋯ & NA & NA & TRUE & NA & NA & NA & NA & NA & TRUE & NA\\\\\n",
       "\t chr4 & 55617441 & 55618441 & chr4:55617441-55618441:. & 0.4442868 & . & chr4:55617441-55618441:. & chr4 & 55636297 & 55636298 & ⋯ & NA & NA & TRUE & NA & NA & NA & NA & NA & TRUE & NA\\\\\n",
       "\t chr4 & 55624941 & 55627441 & chr4:55624941-55627441:. & 0.4792917 & . & chr4:55624941-55627441:. & chr4 & 55636297 & 55636298 & ⋯ & NA & NA & TRUE & NA & NA & NA & NA & NA & TRUE & NA\\\\\n",
       "\\end{tabular}\n"
      ],
      "text/markdown": [
       "\n",
       "A tibble: 6 × 25\n",
       "\n",
       "| X1 &lt;chr&gt; | X2 &lt;dbl&gt; | X3 &lt;dbl&gt; | X4 &lt;chr&gt; | X5 &lt;dbl&gt; | X6 &lt;chr&gt; | X7 &lt;chr&gt; | X8 &lt;chr&gt; | X9 &lt;dbl&gt; | X10 &lt;dbl&gt; | ⋯ ⋯ | X16 &lt;lgl&gt; | X17 &lt;lgl&gt; | X18 &lt;lgl&gt; | X19 &lt;lgl&gt; | X20 &lt;lgl&gt; | X21 &lt;lgl&gt; | X22 &lt;lgl&gt; | X23 &lt;lgl&gt; | X24 &lt;lgl&gt; | X25 &lt;lgl&gt; |\n",
       "|---|---|---|---|---|---|---|---|---|---|---|---|---|---|---|---|---|---|---|---|---|\n",
       "| chr4 | 55602941 | 55606941 | chr4:55602941-55606941:. | 0.5019663 | . | chr4:55602941-55606941:. | chr4 | 55636297 | 55636298 | ⋯ | NA | NA | TRUE | NA | NA | NA | NA | NA | TRUE | NA |\n",
       "| chr4 | 55608941 | 55610941 | chr4:55608941-55610941:. | 0.5041968 | . | chr4:55608941-55610941:. | chr4 | 55636297 | 55636298 | ⋯ | NA | NA | TRUE | NA | NA | NA | NA | NA | TRUE | NA |\n",
       "| chr4 | 55611441 | 55613941 | chr4:55611441-55613941:. | 0.4248977 | . | chr4:55611441-55613941:. | chr4 | 55636297 | 55636298 | ⋯ | NA | NA | TRUE | NA | NA | NA | NA | NA | TRUE | NA |\n",
       "| chr4 | 55614441 | 55616941 | chr4:55614441-55616941:. | 0.6069630 | . | chr4:55614441-55616941:. | chr4 | 55636297 | 55636298 | ⋯ | NA | NA | TRUE | NA | NA | NA | NA | NA | TRUE | NA |\n",
       "| chr4 | 55617441 | 55618441 | chr4:55617441-55618441:. | 0.4442868 | . | chr4:55617441-55618441:. | chr4 | 55636297 | 55636298 | ⋯ | NA | NA | TRUE | NA | NA | NA | NA | NA | TRUE | NA |\n",
       "| chr4 | 55624941 | 55627441 | chr4:55624941-55627441:. | 0.4792917 | . | chr4:55624941-55627441:. | chr4 | 55636297 | 55636298 | ⋯ | NA | NA | TRUE | NA | NA | NA | NA | NA | TRUE | NA |\n",
       "\n"
      ],
      "text/plain": [
       "  X1   X2       X3       X4                       X5        X6\n",
       "1 chr4 55602941 55606941 chr4:55602941-55606941:. 0.5019663 . \n",
       "2 chr4 55608941 55610941 chr4:55608941-55610941:. 0.5041968 . \n",
       "3 chr4 55611441 55613941 chr4:55611441-55613941:. 0.4248977 . \n",
       "4 chr4 55614441 55616941 chr4:55614441-55616941:. 0.6069630 . \n",
       "5 chr4 55617441 55618441 chr4:55617441-55618441:. 0.4442868 . \n",
       "6 chr4 55624941 55627441 chr4:55624941-55627441:. 0.4792917 . \n",
       "  X7                       X8   X9       X10      ⋯ X16 X17 X18  X19 X20 X21\n",
       "1 chr4:55602941-55606941:. chr4 55636297 55636298 ⋯ NA  NA  TRUE NA  NA  NA \n",
       "2 chr4:55608941-55610941:. chr4 55636297 55636298 ⋯ NA  NA  TRUE NA  NA  NA \n",
       "3 chr4:55611441-55613941:. chr4 55636297 55636298 ⋯ NA  NA  TRUE NA  NA  NA \n",
       "4 chr4:55614441-55616941:. chr4 55636297 55636298 ⋯ NA  NA  TRUE NA  NA  NA \n",
       "5 chr4:55617441-55618441:. chr4 55636297 55636298 ⋯ NA  NA  TRUE NA  NA  NA \n",
       "6 chr4:55624941-55627441:. chr4 55636297 55636298 ⋯ NA  NA  TRUE NA  NA  NA \n",
       "  X22 X23 X24  X25\n",
       "1 NA  NA  TRUE NA \n",
       "2 NA  NA  TRUE NA \n",
       "3 NA  NA  TRUE NA \n",
       "4 NA  NA  TRUE NA \n",
       "5 NA  NA  TRUE NA \n",
       "6 NA  NA  TRUE NA "
      ]
     },
     "metadata": {},
     "output_type": "display_data"
    }
   ],
   "source": [
    "### set file path\n",
    "fdiry = file.path(FD_RES, \"source\", \"CRISPRi_FlowFISH\", \"casa_peak_calls\")\n",
    "fname = \"NMU_HCRFF_CASA_elem_quant.bed\"\n",
    "fpath = file.path(fdiry, fname)\n",
    "\n",
    "### read file\n",
    "dat = read_tsv(fpath, col_names = FALSE, show_col_types = FALSE)\n",
    "\n",
    "### assign and show info\n",
    "dat_crispr_peak = dat\n",
    "print(dim(dat))\n",
    "head(dat)"
   ]
  },
  {
   "cell_type": "code",
   "execution_count": 20,
   "metadata": {},
   "outputs": [
    {
     "data": {
      "text/plain": [
       "GRanges object with 43563 ranges and 1 metadata column:\n",
       "          seqnames    ranges strand |      score\n",
       "             <Rle> <IRanges>  <Rle> |  <numeric>\n",
       "      [1]     chr1  74582277      * |  0.0245143\n",
       "      [2]     chr1  74582311      * | -0.4396874\n",
       "      [3]     chr1  80526340      * |  1.1536757\n",
       "      [4]     chr1 102025741      * | -0.1152497\n",
       "      [5]     chr1 102026465      * | -0.0229528\n",
       "      ...      ...       ...    ... .        ...\n",
       "  [43559]     chrX 149651715      * |  0.3820211\n",
       "  [43560]     chrX 149652577      * | -0.0124368\n",
       "  [43561]     chrX 151921815      * | -0.4995973\n",
       "  [43562]     chrX 151922456      * | -0.3210040\n",
       "  [43563]     chrX 151922523      * |  0.3334368\n",
       "  -------\n",
       "  seqinfo: 21 sequences from an unspecified genome"
      ]
     },
     "metadata": {},
     "output_type": "display_data"
    }
   ],
   "source": [
    "### set file path\n",
    "fdiry = file.path(FD_RES, \"source\", \"CRISPRi_FlowFISH\", \"track_bigwig\")\n",
    "fname = \"NMU_HCRFF_rAVG.log2FC_2.bw\"\n",
    "fpath = file.path(fdiry, fname)\n",
    "\n",
    "\n",
    "### read file\n",
    "grg = import(fpath, format=\"BigWig\")\n",
    "\n",
    "### assign and show\n",
    "grg_crispr_track_bw = grg\n",
    "grg"
   ]
  },
  {
   "cell_type": "code",
   "execution_count": 21,
   "metadata": {},
   "outputs": [
    {
     "data": {
      "text/plain": [
       "GRanges object with 43563 ranges and 2 metadata columns:\n",
       "          seqnames    ranges strand |        name     score\n",
       "             <Rle> <IRanges>  <Rle> | <character> <numeric>\n",
       "      [1]     chr1  74582276      * |        id-1  0.024514\n",
       "      [2]     chr1  74582310      * |        id-2 -0.439687\n",
       "      [3]     chr1  80526339      * |        id-3  1.153680\n",
       "      [4]     chr1 102025740      * |        id-4 -0.115250\n",
       "      [5]     chr1 102026464      * |        id-5 -0.022953\n",
       "      ...      ...       ...    ... .         ...       ...\n",
       "  [43559]     chrX 149651714      * |    id-43559  0.382021\n",
       "  [43560]     chrX 149652576      * |    id-43560 -0.012437\n",
       "  [43561]     chrX 151921814      * |    id-43561 -0.499597\n",
       "  [43562]     chrX 151922455      * |    id-43562 -0.321004\n",
       "  [43563]     chrX 151922522      * |    id-43563  0.333437\n",
       "  -------\n",
       "  seqinfo: 21 sequences from an unspecified genome; no seqlengths"
      ]
     },
     "metadata": {},
     "output_type": "display_data"
    }
   ],
   "source": [
    "### set file path\n",
    "fdiry = file.path(FD_RES, \"result\", \"CRISPRi_FlowFISH\", \"coverage\")\n",
    "fname = \"NMU_HCRFF_rAVG.log2FC_2.bed\"\n",
    "fpath = file.path(fdiry, fname)\n",
    "\n",
    "### read file\n",
    "grg = import(fpath, format=\"BED\")\n",
    "\n",
    "### assign and show\n",
    "grg_crispr_track_bed = grg\n",
    "grg"
   ]
  },
  {
   "cell_type": "code",
   "execution_count": 22,
   "metadata": {},
   "outputs": [
    {
     "name": "stdout",
     "output_type": "stream",
     "text": [
      "[1] 43563     5\n"
     ]
    },
    {
     "data": {
      "text/html": [
       "<table class=\"dataframe\">\n",
       "<caption>A tibble: 6 × 5</caption>\n",
       "<thead>\n",
       "\t<tr><th scope=col>Chrom</th><th scope=col>Start</th><th scope=col>End</th><th scope=col>Name</th><th scope=col>Score</th></tr>\n",
       "\t<tr><th scope=col>&lt;chr&gt;</th><th scope=col>&lt;int&gt;</th><th scope=col>&lt;int&gt;</th><th scope=col>&lt;chr&gt;</th><th scope=col>&lt;dbl&gt;</th></tr>\n",
       "</thead>\n",
       "<tbody>\n",
       "\t<tr><td>chr1</td><td> 74582275</td><td> 74582276</td><td>id-1</td><td> 0.024514</td></tr>\n",
       "\t<tr><td>chr1</td><td> 74582309</td><td> 74582310</td><td>id-2</td><td>-0.439687</td></tr>\n",
       "\t<tr><td>chr1</td><td> 80526338</td><td> 80526339</td><td>id-3</td><td> 1.153680</td></tr>\n",
       "\t<tr><td>chr1</td><td>102025739</td><td>102025740</td><td>id-4</td><td>-0.115250</td></tr>\n",
       "\t<tr><td>chr1</td><td>102026463</td><td>102026464</td><td>id-5</td><td>-0.022953</td></tr>\n",
       "\t<tr><td>chr1</td><td>102522706</td><td>102522707</td><td>id-6</td><td>-0.469711</td></tr>\n",
       "</tbody>\n",
       "</table>\n"
      ],
      "text/latex": [
       "A tibble: 6 × 5\n",
       "\\begin{tabular}{lllll}\n",
       " Chrom & Start & End & Name & Score\\\\\n",
       " <chr> & <int> & <int> & <chr> & <dbl>\\\\\n",
       "\\hline\n",
       "\t chr1 &  74582275 &  74582276 & id-1 &  0.024514\\\\\n",
       "\t chr1 &  74582309 &  74582310 & id-2 & -0.439687\\\\\n",
       "\t chr1 &  80526338 &  80526339 & id-3 &  1.153680\\\\\n",
       "\t chr1 & 102025739 & 102025740 & id-4 & -0.115250\\\\\n",
       "\t chr1 & 102026463 & 102026464 & id-5 & -0.022953\\\\\n",
       "\t chr1 & 102522706 & 102522707 & id-6 & -0.469711\\\\\n",
       "\\end{tabular}\n"
      ],
      "text/markdown": [
       "\n",
       "A tibble: 6 × 5\n",
       "\n",
       "| Chrom &lt;chr&gt; | Start &lt;int&gt; | End &lt;int&gt; | Name &lt;chr&gt; | Score &lt;dbl&gt; |\n",
       "|---|---|---|---|---|\n",
       "| chr1 |  74582275 |  74582276 | id-1 |  0.024514 |\n",
       "| chr1 |  74582309 |  74582310 | id-2 | -0.439687 |\n",
       "| chr1 |  80526338 |  80526339 | id-3 |  1.153680 |\n",
       "| chr1 | 102025739 | 102025740 | id-4 | -0.115250 |\n",
       "| chr1 | 102026463 | 102026464 | id-5 | -0.022953 |\n",
       "| chr1 | 102522706 | 102522707 | id-6 | -0.469711 |\n",
       "\n"
      ],
      "text/plain": [
       "  Chrom Start     End       Name Score    \n",
       "1 chr1   74582275  74582276 id-1  0.024514\n",
       "2 chr1   74582309  74582310 id-2 -0.439687\n",
       "3 chr1   80526338  80526339 id-3  1.153680\n",
       "4 chr1  102025739 102025740 id-4 -0.115250\n",
       "5 chr1  102026463 102026464 id-5 -0.022953\n",
       "6 chr1  102522706 102522707 id-6 -0.469711"
      ]
     },
     "metadata": {},
     "output_type": "display_data"
    }
   ],
   "source": [
    "### set file path\n",
    "fdiry = file.path(FD_RES, \"result\", \"CRISPRi_FlowFISH\", \"coverage\")\n",
    "fname = \"NMU_HCRFF_rAVG.log2FC_2.bed\"\n",
    "fpath = file.path(fdiry, fname)\n",
    "\n",
    "### read file\n",
    "cnames = c(\"Chrom\", \"Start\", \"End\", \"Name\", \"Score\")\n",
    "ctypes = cols(\n",
    "    \"Chrom\" = col_character(),\n",
    "    \"Start\" = col_integer(),\n",
    "    \"End\"   = col_integer(),\n",
    "    \"Score\" = col_double()\n",
    ")\n",
    "dat = read_tsv(fpath, col_names = cnames, col_types = ctypes)\n",
    "\n",
    "### assign and show info\n",
    "dat_crispr_track = dat\n",
    "print(dim(dat))\n",
    "head(dat)"
   ]
  },
  {
   "cell_type": "code",
   "execution_count": 23,
   "metadata": {},
   "outputs": [
    {
     "data": {
      "text/plain": [
       "GRanges object with 21 ranges and 0 metadata columns:\n",
       "       seqnames             ranges strand\n",
       "          <Rle>          <IRanges>  <Rle>\n",
       "   [1]     chr1 74582277-248233869      *\n",
       "   [2]    chr10  2350911-130456456      *\n",
       "   [3]    chr11  5996387-124027721      *\n",
       "   [4]    chr12 11520060-128194750      *\n",
       "   [5]    chr13 19040912-105391551      *\n",
       "   ...      ...                ...    ...\n",
       "  [17]     chr6 47776775-142078147      *\n",
       "  [18]     chr7  9707777-156331017      *\n",
       "  [19]     chr8  4306953-139535920      *\n",
       "  [20]     chr9 24548733-103913442      *\n",
       "  [21]     chrX 14261427-151922523      *\n",
       "  -------\n",
       "  seqinfo: 21 sequences from an unspecified genome"
      ]
     },
     "metadata": {},
     "output_type": "display_data"
    }
   ],
   "source": [
    "grg = grg_crispr_track_bw\n",
    "range(grg)"
   ]
  },
  {
   "cell_type": "code",
   "execution_count": 24,
   "metadata": {},
   "outputs": [
    {
     "data": {
      "text/plain": [
       "GRanges object with 21 ranges and 0 metadata columns:\n",
       "       seqnames             ranges strand\n",
       "          <Rle>          <IRanges>  <Rle>\n",
       "   [1]     chr1 74582276-248233868      *\n",
       "   [2]    chr10  2350910-130456455      *\n",
       "   [3]    chr11  5996386-124027720      *\n",
       "   [4]    chr12 11520059-128194749      *\n",
       "   [5]    chr13 19040911-105391550      *\n",
       "   ...      ...                ...    ...\n",
       "  [17]     chr6 47776774-142078146      *\n",
       "  [18]     chr7  9707776-156331016      *\n",
       "  [19]     chr8  4306952-139535919      *\n",
       "  [20]     chr9 24548732-103913441      *\n",
       "  [21]     chrX 14261426-151922522      *\n",
       "  -------\n",
       "  seqinfo: 21 sequences from an unspecified genome; no seqlengths"
      ]
     },
     "metadata": {},
     "output_type": "display_data"
    }
   ],
   "source": [
    "grg = grg_crispr_track_bed\n",
    "range(grg)"
   ]
  },
  {
   "cell_type": "code",
   "execution_count": 16,
   "metadata": {},
   "outputs": [
    {
     "data": {
      "text/html": [
       "<table class=\"dataframe\">\n",
       "<caption>A tibble: 21 × 4</caption>\n",
       "<thead>\n",
       "\t<tr><th scope=col>Chrom</th><th scope=col>Start</th><th scope=col>End</th><th scope=col>Count</th></tr>\n",
       "\t<tr><th scope=col>&lt;chr&gt;</th><th scope=col>&lt;int&gt;</th><th scope=col>&lt;int&gt;</th><th scope=col>&lt;int&gt;</th></tr>\n",
       "</thead>\n",
       "<tbody>\n",
       "\t<tr><td>chr1 </td><td>74582275</td><td>248233868</td><td>   60</td></tr>\n",
       "\t<tr><td>chr10</td><td> 2350909</td><td>130456455</td><td> 1552</td></tr>\n",
       "\t<tr><td>chr11</td><td> 5996385</td><td>124027720</td><td> 3074</td></tr>\n",
       "\t<tr><td>chr12</td><td>11520058</td><td>128194749</td><td>   30</td></tr>\n",
       "\t<tr><td>chr13</td><td>19040910</td><td>105391550</td><td>   67</td></tr>\n",
       "\t<tr><td>chr14</td><td>27400449</td><td> 97170083</td><td>   27</td></tr>\n",
       "\t<tr><td>chr15</td><td>19960785</td><td> 87166250</td><td>   34</td></tr>\n",
       "\t<tr><td>chr16</td><td>46501260</td><td> 63965316</td><td>    8</td></tr>\n",
       "\t<tr><td>chr17</td><td>22603780</td><td> 71592262</td><td>    7</td></tr>\n",
       "\t<tr><td>chr18</td><td>29747998</td><td> 78327940</td><td>   29</td></tr>\n",
       "\t<tr><td>chr19</td><td>22909104</td><td> 22909891</td><td>    2</td></tr>\n",
       "\t<tr><td>chr2 </td><td>13724999</td><td>208919973</td><td>   63</td></tr>\n",
       "\t<tr><td>chr21</td><td>22502174</td><td> 23816077</td><td>   21</td></tr>\n",
       "\t<tr><td>chr3 </td><td> 5862433</td><td>167072305</td><td>   48</td></tr>\n",
       "\t<tr><td>chr4 </td><td> 9208187</td><td>180005322</td><td>38183</td></tr>\n",
       "\t<tr><td>chr5 </td><td> 2409769</td><td>165081179</td><td>   68</td></tr>\n",
       "\t<tr><td>chr6 </td><td>47776773</td><td>142078146</td><td>   58</td></tr>\n",
       "\t<tr><td>chr7 </td><td> 9707775</td><td>156331016</td><td>   66</td></tr>\n",
       "\t<tr><td>chr8 </td><td> 4306951</td><td>139535919</td><td>   92</td></tr>\n",
       "\t<tr><td>chr9 </td><td>24548731</td><td>103913441</td><td>   38</td></tr>\n",
       "\t<tr><td>chrX </td><td>14261425</td><td>151922522</td><td>   36</td></tr>\n",
       "</tbody>\n",
       "</table>\n"
      ],
      "text/latex": [
       "A tibble: 21 × 4\n",
       "\\begin{tabular}{llll}\n",
       " Chrom & Start & End & Count\\\\\n",
       " <chr> & <int> & <int> & <int>\\\\\n",
       "\\hline\n",
       "\t chr1  & 74582275 & 248233868 &    60\\\\\n",
       "\t chr10 &  2350909 & 130456455 &  1552\\\\\n",
       "\t chr11 &  5996385 & 124027720 &  3074\\\\\n",
       "\t chr12 & 11520058 & 128194749 &    30\\\\\n",
       "\t chr13 & 19040910 & 105391550 &    67\\\\\n",
       "\t chr14 & 27400449 &  97170083 &    27\\\\\n",
       "\t chr15 & 19960785 &  87166250 &    34\\\\\n",
       "\t chr16 & 46501260 &  63965316 &     8\\\\\n",
       "\t chr17 & 22603780 &  71592262 &     7\\\\\n",
       "\t chr18 & 29747998 &  78327940 &    29\\\\\n",
       "\t chr19 & 22909104 &  22909891 &     2\\\\\n",
       "\t chr2  & 13724999 & 208919973 &    63\\\\\n",
       "\t chr21 & 22502174 &  23816077 &    21\\\\\n",
       "\t chr3  &  5862433 & 167072305 &    48\\\\\n",
       "\t chr4  &  9208187 & 180005322 & 38183\\\\\n",
       "\t chr5  &  2409769 & 165081179 &    68\\\\\n",
       "\t chr6  & 47776773 & 142078146 &    58\\\\\n",
       "\t chr7  &  9707775 & 156331016 &    66\\\\\n",
       "\t chr8  &  4306951 & 139535919 &    92\\\\\n",
       "\t chr9  & 24548731 & 103913441 &    38\\\\\n",
       "\t chrX  & 14261425 & 151922522 &    36\\\\\n",
       "\\end{tabular}\n"
      ],
      "text/markdown": [
       "\n",
       "A tibble: 21 × 4\n",
       "\n",
       "| Chrom &lt;chr&gt; | Start &lt;int&gt; | End &lt;int&gt; | Count &lt;int&gt; |\n",
       "|---|---|---|---|\n",
       "| chr1  | 74582275 | 248233868 |    60 |\n",
       "| chr10 |  2350909 | 130456455 |  1552 |\n",
       "| chr11 |  5996385 | 124027720 |  3074 |\n",
       "| chr12 | 11520058 | 128194749 |    30 |\n",
       "| chr13 | 19040910 | 105391550 |    67 |\n",
       "| chr14 | 27400449 |  97170083 |    27 |\n",
       "| chr15 | 19960785 |  87166250 |    34 |\n",
       "| chr16 | 46501260 |  63965316 |     8 |\n",
       "| chr17 | 22603780 |  71592262 |     7 |\n",
       "| chr18 | 29747998 |  78327940 |    29 |\n",
       "| chr19 | 22909104 |  22909891 |     2 |\n",
       "| chr2  | 13724999 | 208919973 |    63 |\n",
       "| chr21 | 22502174 |  23816077 |    21 |\n",
       "| chr3  |  5862433 | 167072305 |    48 |\n",
       "| chr4  |  9208187 | 180005322 | 38183 |\n",
       "| chr5  |  2409769 | 165081179 |    68 |\n",
       "| chr6  | 47776773 | 142078146 |    58 |\n",
       "| chr7  |  9707775 | 156331016 |    66 |\n",
       "| chr8  |  4306951 | 139535919 |    92 |\n",
       "| chr9  | 24548731 | 103913441 |    38 |\n",
       "| chrX  | 14261425 | 151922522 |    36 |\n",
       "\n"
      ],
      "text/plain": [
       "   Chrom Start    End       Count\n",
       "1  chr1  74582275 248233868    60\n",
       "2  chr10  2350909 130456455  1552\n",
       "3  chr11  5996385 124027720  3074\n",
       "4  chr12 11520058 128194749    30\n",
       "5  chr13 19040910 105391550    67\n",
       "6  chr14 27400449  97170083    27\n",
       "7  chr15 19960785  87166250    34\n",
       "8  chr16 46501260  63965316     8\n",
       "9  chr17 22603780  71592262     7\n",
       "10 chr18 29747998  78327940    29\n",
       "11 chr19 22909104  22909891     2\n",
       "12 chr2  13724999 208919973    63\n",
       "13 chr21 22502174  23816077    21\n",
       "14 chr3   5862433 167072305    48\n",
       "15 chr4   9208187 180005322 38183\n",
       "16 chr5   2409769 165081179    68\n",
       "17 chr6  47776773 142078146    58\n",
       "18 chr7   9707775 156331016    66\n",
       "19 chr8   4306951 139535919    92\n",
       "20 chr9  24548731 103913441    38\n",
       "21 chrX  14261425 151922522    36"
      ]
     },
     "metadata": {},
     "output_type": "display_data"
    }
   ],
   "source": [
    "dat = dat_crispr_track\n",
    "dat = dat %>%\n",
    "    dplyr::group_by(Chrom) %>%\n",
    "    dplyr::summarise(\n",
    "        Start = min(Start),\n",
    "        End   = max(End),\n",
    "        Count = n()\n",
    "    )\n",
    "dat"
   ]
  },
  {
   "cell_type": "code",
   "execution_count": null,
   "metadata": {},
   "outputs": [],
   "source": []
  }
 ],
 "metadata": {
  "kernelspec": {
   "display_name": "R",
   "language": "R",
   "name": "ir"
  },
  "language_info": {
   "codemirror_mode": "r",
   "file_extension": ".r",
   "mimetype": "text/x-r-source",
   "name": "R",
   "pygments_lexer": "r",
   "version": "4.3.0"
  }
 },
 "nbformat": 4,
 "nbformat_minor": 4
}
