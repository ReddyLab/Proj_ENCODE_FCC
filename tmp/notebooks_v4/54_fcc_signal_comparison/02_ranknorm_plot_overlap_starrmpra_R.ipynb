{
 "cells": [
  {
   "cell_type": "markdown",
   "id": "0b54c27f-3082-427f-93a4-bb2c68cef8c2",
   "metadata": {},
   "source": [
    "**Set environment**"
   ]
  },
  {
   "cell_type": "code",
   "execution_count": 1,
   "id": "f2090b81-a416-4f94-9f1b-5e4905abad79",
   "metadata": {},
   "outputs": [
    {
     "name": "stdout",
     "output_type": "stream",
     "text": [
      "You are in Singularity: singularity_proj_encode_fcc \n",
      "BASE DIRECTORY (FD_BASE): /data/reddylab/Kuei \n",
      "WORK DIRECTORY (FD_WORK): /data/reddylab/Kuei/out \n",
      "CODE DIRECTORY (FD_CODE): /data/reddylab/Kuei/code \n",
      "PATH OF PROJECT (FD_PRJ): /data/reddylab/Kuei/code/Proj_CombEffect_ENCODE_FCC \n",
      "PATH OF RESULTS (FD_RES): /data/reddylab/Kuei/out/proj_combeffect_encode_fcc \n",
      "PATH OF LOG     (FD_LOG): /data/reddylab/Kuei/out/proj_combeffect_encode_fcc/log \n"
     ]
    }
   ],
   "source": [
    "suppressMessages(suppressWarnings(source(\"../config/config_sing.R\")))\n",
    "suppressMessages(suppressWarnings(source(\"../config/config_func.R\")))\n",
    "show_env()"
   ]
  },
  {
   "cell_type": "markdown",
   "id": "e14a83f0-fffb-4346-8bcb-f623628926e2",
   "metadata": {},
   "source": [
    "## Import data"
   ]
  },
  {
   "cell_type": "code",
   "execution_count": 16,
   "id": "bf402086-b091-4349-add4-285d45fe3cda",
   "metadata": {},
   "outputs": [
    {
     "name": "stdout",
     "output_type": "stream",
     "text": [
      "[1] 1241    6\n"
     ]
    },
    {
     "data": {
      "text/html": [
       "<table class=\"dataframe\">\n",
       "<caption>A tibble: 6 × 6</caption>\n",
       "<thead>\n",
       "\t<tr><th scope=col>Peak</th><th scope=col>ASTARR</th><th scope=col>WSTARR</th><th scope=col>TMPRA</th><th scope=col>LMPRA</th><th scope=col>Mean</th></tr>\n",
       "\t<tr><th scope=col>&lt;chr&gt;</th><th scope=col>&lt;dbl&gt;</th><th scope=col>&lt;dbl&gt;</th><th scope=col>&lt;dbl&gt;</th><th scope=col>&lt;dbl&gt;</th><th scope=col>&lt;dbl&gt;</th></tr>\n",
       "</thead>\n",
       "<tbody>\n",
       "\t<tr><td>chr11:32870601-32871324</td><td>0.12006446</td><td>0.06204674</td><td>0.1958098</td><td>0.22804190</td><td>0.1514907</td></tr>\n",
       "\t<tr><td>chr11:32874343-32875070</td><td>0.13053989</td><td>0.21434327</td><td>0.3231265</td><td>0.08098308</td><td>0.1872482</td></tr>\n",
       "\t<tr><td>chr11:32884749-32885822</td><td>0.08541499</td><td>0.26349718</td><td>0.5439162</td><td>0.78565673</td><td>0.4196213</td></tr>\n",
       "\t<tr><td>chr11:32901572-32902485</td><td>0.22320709</td><td>0.35455278</td><td>0.1571313</td><td>0.31748590</td><td>0.2630943</td></tr>\n",
       "\t<tr><td>chr11:32903491-32904506</td><td>0.52377115</td><td>0.01531023</td><td>0.2095085</td><td>0.74053183</td><td>0.3722804</td></tr>\n",
       "\t<tr><td>chr11:32910855-32912010</td><td>0.68573731</td><td>0.44641418</td><td>0.9129734</td><td>0.43755036</td><td>0.6206688</td></tr>\n",
       "</tbody>\n",
       "</table>\n"
      ],
      "text/latex": [
       "A tibble: 6 × 6\n",
       "\\begin{tabular}{llllll}\n",
       " Peak & ASTARR & WSTARR & TMPRA & LMPRA & Mean\\\\\n",
       " <chr> & <dbl> & <dbl> & <dbl> & <dbl> & <dbl>\\\\\n",
       "\\hline\n",
       "\t chr11:32870601-32871324 & 0.12006446 & 0.06204674 & 0.1958098 & 0.22804190 & 0.1514907\\\\\n",
       "\t chr11:32874343-32875070 & 0.13053989 & 0.21434327 & 0.3231265 & 0.08098308 & 0.1872482\\\\\n",
       "\t chr11:32884749-32885822 & 0.08541499 & 0.26349718 & 0.5439162 & 0.78565673 & 0.4196213\\\\\n",
       "\t chr11:32901572-32902485 & 0.22320709 & 0.35455278 & 0.1571313 & 0.31748590 & 0.2630943\\\\\n",
       "\t chr11:32903491-32904506 & 0.52377115 & 0.01531023 & 0.2095085 & 0.74053183 & 0.3722804\\\\\n",
       "\t chr11:32910855-32912010 & 0.68573731 & 0.44641418 & 0.9129734 & 0.43755036 & 0.6206688\\\\\n",
       "\\end{tabular}\n"
      ],
      "text/markdown": [
       "\n",
       "A tibble: 6 × 6\n",
       "\n",
       "| Peak &lt;chr&gt; | ASTARR &lt;dbl&gt; | WSTARR &lt;dbl&gt; | TMPRA &lt;dbl&gt; | LMPRA &lt;dbl&gt; | Mean &lt;dbl&gt; |\n",
       "|---|---|---|---|---|---|\n",
       "| chr11:32870601-32871324 | 0.12006446 | 0.06204674 | 0.1958098 | 0.22804190 | 0.1514907 |\n",
       "| chr11:32874343-32875070 | 0.13053989 | 0.21434327 | 0.3231265 | 0.08098308 | 0.1872482 |\n",
       "| chr11:32884749-32885822 | 0.08541499 | 0.26349718 | 0.5439162 | 0.78565673 | 0.4196213 |\n",
       "| chr11:32901572-32902485 | 0.22320709 | 0.35455278 | 0.1571313 | 0.31748590 | 0.2630943 |\n",
       "| chr11:32903491-32904506 | 0.52377115 | 0.01531023 | 0.2095085 | 0.74053183 | 0.3722804 |\n",
       "| chr11:32910855-32912010 | 0.68573731 | 0.44641418 | 0.9129734 | 0.43755036 | 0.6206688 |\n",
       "\n"
      ],
      "text/plain": [
       "  Peak                    ASTARR     WSTARR     TMPRA     LMPRA      Mean     \n",
       "1 chr11:32870601-32871324 0.12006446 0.06204674 0.1958098 0.22804190 0.1514907\n",
       "2 chr11:32874343-32875070 0.13053989 0.21434327 0.3231265 0.08098308 0.1872482\n",
       "3 chr11:32884749-32885822 0.08541499 0.26349718 0.5439162 0.78565673 0.4196213\n",
       "4 chr11:32901572-32902485 0.22320709 0.35455278 0.1571313 0.31748590 0.2630943\n",
       "5 chr11:32903491-32904506 0.52377115 0.01531023 0.2095085 0.74053183 0.3722804\n",
       "6 chr11:32910855-32912010 0.68573731 0.44641418 0.9129734 0.43755036 0.6206688"
      ]
     },
     "metadata": {},
     "output_type": "display_data"
    }
   ],
   "source": [
    "### set file directories\n",
    "fdiry = file.path(FD_RES, \"results\", \"comparison\")\n",
    "fname = \"result.ranknorm.starrmpra.overlap.tsv\"\n",
    "fpath = file.path(fdiry, fname)\n",
    "\n",
    "dat = read_tsv(fpath, show_col_types = FALSE)\n",
    "\n",
    "dat_peak_starrmpra_ranknorm = dat\n",
    "print(dim(dat))\n",
    "head(dat)"
   ]
  },
  {
   "cell_type": "code",
   "execution_count": 17,
   "id": "0aa08948-1a16-44d3-8ea8-0fda600b019b",
   "metadata": {},
   "outputs": [
    {
     "data": {
      "text/html": [
       "<table class=\"dataframe\">\n",
       "<caption>A tibble: 6 × 6</caption>\n",
       "<thead>\n",
       "\t<tr><th scope=col>Peak</th><th scope=col>ASTARR</th><th scope=col>WSTARR</th><th scope=col>TMPRA</th><th scope=col>LMPRA</th><th scope=col>Mean</th></tr>\n",
       "\t<tr><th scope=col>&lt;chr&gt;</th><th scope=col>&lt;dbl&gt;</th><th scope=col>&lt;dbl&gt;</th><th scope=col>&lt;dbl&gt;</th><th scope=col>&lt;dbl&gt;</th><th scope=col>&lt;dbl&gt;</th></tr>\n",
       "</thead>\n",
       "<tbody>\n",
       "\t<tr><td>chrX:48996933-48997220  </td><td>0.005640612</td><td>0.0008058018</td><td>0.0008058018</td><td>0.07252216</td><td>0.01994359</td></tr>\n",
       "\t<tr><td>chr20:56703281-56703575 </td><td>0.002417405</td><td>0.1039484287</td><td>0.0080580177</td><td>0.03223207</td><td>0.03666398</td></tr>\n",
       "\t<tr><td>chr8:128527915-128528670</td><td>0.073327961</td><td>0.0032232071</td><td>0.0975020145</td><td>0.09105560</td><td>0.06627720</td></tr>\n",
       "\t<tr><td>chr20:56716655-56717126 </td><td>0.014504432</td><td>0.1321514907</td><td>0.0233682514</td><td>0.12489927</td><td>0.07373086</td></tr>\n",
       "\t<tr><td>chr11:33818437-33819007 </td><td>0.145044319</td><td>0.0547945205</td><td>0.0257856567</td><td>0.08501209</td><td>0.07765915</td></tr>\n",
       "\t<tr><td>chr16:892329-892989     </td><td>0.022562450</td><td>0.1442385173</td><td>0.1635777599</td><td>0.01208703</td><td>0.08561644</td></tr>\n",
       "</tbody>\n",
       "</table>\n"
      ],
      "text/latex": [
       "A tibble: 6 × 6\n",
       "\\begin{tabular}{llllll}\n",
       " Peak & ASTARR & WSTARR & TMPRA & LMPRA & Mean\\\\\n",
       " <chr> & <dbl> & <dbl> & <dbl> & <dbl> & <dbl>\\\\\n",
       "\\hline\n",
       "\t chrX:48996933-48997220   & 0.005640612 & 0.0008058018 & 0.0008058018 & 0.07252216 & 0.01994359\\\\\n",
       "\t chr20:56703281-56703575  & 0.002417405 & 0.1039484287 & 0.0080580177 & 0.03223207 & 0.03666398\\\\\n",
       "\t chr8:128527915-128528670 & 0.073327961 & 0.0032232071 & 0.0975020145 & 0.09105560 & 0.06627720\\\\\n",
       "\t chr20:56716655-56717126  & 0.014504432 & 0.1321514907 & 0.0233682514 & 0.12489927 & 0.07373086\\\\\n",
       "\t chr11:33818437-33819007  & 0.145044319 & 0.0547945205 & 0.0257856567 & 0.08501209 & 0.07765915\\\\\n",
       "\t chr16:892329-892989      & 0.022562450 & 0.1442385173 & 0.1635777599 & 0.01208703 & 0.08561644\\\\\n",
       "\\end{tabular}\n"
      ],
      "text/markdown": [
       "\n",
       "A tibble: 6 × 6\n",
       "\n",
       "| Peak &lt;chr&gt; | ASTARR &lt;dbl&gt; | WSTARR &lt;dbl&gt; | TMPRA &lt;dbl&gt; | LMPRA &lt;dbl&gt; | Mean &lt;dbl&gt; |\n",
       "|---|---|---|---|---|---|\n",
       "| chrX:48996933-48997220   | 0.005640612 | 0.0008058018 | 0.0008058018 | 0.07252216 | 0.01994359 |\n",
       "| chr20:56703281-56703575  | 0.002417405 | 0.1039484287 | 0.0080580177 | 0.03223207 | 0.03666398 |\n",
       "| chr8:128527915-128528670 | 0.073327961 | 0.0032232071 | 0.0975020145 | 0.09105560 | 0.06627720 |\n",
       "| chr20:56716655-56717126  | 0.014504432 | 0.1321514907 | 0.0233682514 | 0.12489927 | 0.07373086 |\n",
       "| chr11:33818437-33819007  | 0.145044319 | 0.0547945205 | 0.0257856567 | 0.08501209 | 0.07765915 |\n",
       "| chr16:892329-892989      | 0.022562450 | 0.1442385173 | 0.1635777599 | 0.01208703 | 0.08561644 |\n",
       "\n"
      ],
      "text/plain": [
       "  Peak                     ASTARR      WSTARR       TMPRA        LMPRA     \n",
       "1 chrX:48996933-48997220   0.005640612 0.0008058018 0.0008058018 0.07252216\n",
       "2 chr20:56703281-56703575  0.002417405 0.1039484287 0.0080580177 0.03223207\n",
       "3 chr8:128527915-128528670 0.073327961 0.0032232071 0.0975020145 0.09105560\n",
       "4 chr20:56716655-56717126  0.014504432 0.1321514907 0.0233682514 0.12489927\n",
       "5 chr11:33818437-33819007  0.145044319 0.0547945205 0.0257856567 0.08501209\n",
       "6 chr16:892329-892989      0.022562450 0.1442385173 0.1635777599 0.01208703\n",
       "  Mean      \n",
       "1 0.01994359\n",
       "2 0.03666398\n",
       "3 0.06627720\n",
       "4 0.07373086\n",
       "5 0.07765915\n",
       "6 0.08561644"
      ]
     },
     "metadata": {},
     "output_type": "display_data"
    }
   ],
   "source": [
    "dat = dat_peak_starrmpra_ranknorm\n",
    "dat = dat %>% dplyr::arrange(Mean)\n",
    "\n",
    "VEC_TXT_PEAK  = dat$Peak\n",
    "VEC_TXT_ASSAY = c(\"ASTARR\", \"WSTARR\", \"TMPRA\", \"LMPRA\")\n",
    "head(dat)"
   ]
  },
  {
   "cell_type": "code",
   "execution_count": 18,
   "id": "486c63da-1e19-4b86-80ae-850d9ffb78c4",
   "metadata": {},
   "outputs": [
    {
     "name": "stdout",
     "output_type": "stream",
     "text": [
      "[1] 4964    3\n"
     ]
    },
    {
     "data": {
      "text/html": [
       "<table class=\"dataframe\">\n",
       "<caption>A tibble: 6 × 3</caption>\n",
       "<thead>\n",
       "\t<tr><th scope=col>Peak</th><th scope=col>Assay</th><th scope=col>Score</th></tr>\n",
       "\t<tr><th scope=col>&lt;fct&gt;</th><th scope=col>&lt;fct&gt;</th><th scope=col>&lt;dbl&gt;</th></tr>\n",
       "</thead>\n",
       "<tbody>\n",
       "\t<tr><td>chr11:32870601-32871324</td><td>ASTARR</td><td>0.12006446</td></tr>\n",
       "\t<tr><td>chr11:32874343-32875070</td><td>ASTARR</td><td>0.13053989</td></tr>\n",
       "\t<tr><td>chr11:32884749-32885822</td><td>ASTARR</td><td>0.08541499</td></tr>\n",
       "\t<tr><td>chr11:32901572-32902485</td><td>ASTARR</td><td>0.22320709</td></tr>\n",
       "\t<tr><td>chr11:32903491-32904506</td><td>ASTARR</td><td>0.52377115</td></tr>\n",
       "\t<tr><td>chr11:32910855-32912010</td><td>ASTARR</td><td>0.68573731</td></tr>\n",
       "</tbody>\n",
       "</table>\n"
      ],
      "text/latex": [
       "A tibble: 6 × 3\n",
       "\\begin{tabular}{lll}\n",
       " Peak & Assay & Score\\\\\n",
       " <fct> & <fct> & <dbl>\\\\\n",
       "\\hline\n",
       "\t chr11:32870601-32871324 & ASTARR & 0.12006446\\\\\n",
       "\t chr11:32874343-32875070 & ASTARR & 0.13053989\\\\\n",
       "\t chr11:32884749-32885822 & ASTARR & 0.08541499\\\\\n",
       "\t chr11:32901572-32902485 & ASTARR & 0.22320709\\\\\n",
       "\t chr11:32903491-32904506 & ASTARR & 0.52377115\\\\\n",
       "\t chr11:32910855-32912010 & ASTARR & 0.68573731\\\\\n",
       "\\end{tabular}\n"
      ],
      "text/markdown": [
       "\n",
       "A tibble: 6 × 3\n",
       "\n",
       "| Peak &lt;fct&gt; | Assay &lt;fct&gt; | Score &lt;dbl&gt; |\n",
       "|---|---|---|\n",
       "| chr11:32870601-32871324 | ASTARR | 0.12006446 |\n",
       "| chr11:32874343-32875070 | ASTARR | 0.13053989 |\n",
       "| chr11:32884749-32885822 | ASTARR | 0.08541499 |\n",
       "| chr11:32901572-32902485 | ASTARR | 0.22320709 |\n",
       "| chr11:32903491-32904506 | ASTARR | 0.52377115 |\n",
       "| chr11:32910855-32912010 | ASTARR | 0.68573731 |\n",
       "\n"
      ],
      "text/plain": [
       "  Peak                    Assay  Score     \n",
       "1 chr11:32870601-32871324 ASTARR 0.12006446\n",
       "2 chr11:32874343-32875070 ASTARR 0.13053989\n",
       "3 chr11:32884749-32885822 ASTARR 0.08541499\n",
       "4 chr11:32901572-32902485 ASTARR 0.22320709\n",
       "5 chr11:32903491-32904506 ASTARR 0.52377115\n",
       "6 chr11:32910855-32912010 ASTARR 0.68573731"
      ]
     },
     "metadata": {},
     "output_type": "display_data"
    }
   ],
   "source": [
    "dat = dat_peak_starrmpra_ranknorm\n",
    "dat = dat %>%\n",
    "    dplyr::select(-Mean) %>%\n",
    "    tidyr::gather(Assay, Score, -Peak) %>% \n",
    "    dplyr::mutate(\n",
    "        Assay = factor(Assay, levels=VEC_TXT_ASSAY),\n",
    "        Peak  = factor(Peak,  levels=VEC_TXT_PEAK),\n",
    "    )\n",
    "\n",
    "dat_score_starrmpra = dat\n",
    "print(dim(dat))\n",
    "head(dat)"
   ]
  },
  {
   "cell_type": "code",
   "execution_count": 19,
   "id": "c18b128e-9a91-47c7-91b5-b9a72a5dc7b3",
   "metadata": {},
   "outputs": [
    {
     "data": {
      "image/png": "[encoded data removed]",
      "text/plain": [
       "plot without title"
      ]
     },
     "metadata": {
      "image/png": {
       "height": 180,
       "width": 900
      }
     },
     "output_type": "display_data"
    }
   ],
   "source": [
    "theme_fill = scale_fill_gradient2(\n",
    "    low  = \"#4575b4\",\n",
    "    mid  = \"#ffffbf\",\n",
    "    high = \"#d73027\",\n",
    "    midpoint = 0.5\n",
    ")\n",
    "\n",
    "theme_text = theme(\n",
    "    axis.ticks.x = element_blank(),\n",
    "    axis.text.x  = element_blank(),\n",
    "    axis.text.y  = element_text(size = 15),\n",
    "    #axis.title.x = element_text(size = 20),\n",
    "    axis.title.x = element_blank(),\n",
    "    axis.title.y = element_blank()\n",
    ")\n",
    "\n",
    "theme_legend = theme(legend.position = \"none\")\n",
    "\n",
    "dat = dat_score_starrmpra\n",
    "\n",
    "gpt = ggplot(dat, aes(x=Peak, y=Assay, fill=Score)) +\n",
    "    geom_tile() +\n",
    "    labs(x=\"Open Chromatin Regions\") +\n",
    "    theme_cowplot() + \n",
    "    theme_text +\n",
    "    theme_fill\n",
    "\n",
    "gpt_score_starrmpra = gpt + theme(legend.position = \"none\")\n",
    "\n",
    "options(repr.plot.height=3, repr.plot.width=15)\n",
    "print(gpt)"
   ]
  },
  {
   "cell_type": "code",
   "execution_count": null,
   "id": "bb47ee6e-b7dd-4250-a3f4-436aafd6f5e3",
   "metadata": {},
   "outputs": [],
   "source": []
  }
 ],
 "metadata": {
  "kernelspec": {
   "display_name": "R",
   "language": "R",
   "name": "ir"
  },
  "language_info": {
   "codemirror_mode": "r",
   "file_extension": ".r",
   "mimetype": "text/x-r-source",
   "name": "R",
   "pygments_lexer": "r",
   "version": "4.3.1"
  }
 },
 "nbformat": 4,
 "nbformat_minor": 5
}
