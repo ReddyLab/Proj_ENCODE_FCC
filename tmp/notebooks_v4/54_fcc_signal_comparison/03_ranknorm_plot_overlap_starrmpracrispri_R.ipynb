{
 "cells": [
  {
   "cell_type": "markdown",
   "id": "85e8fa08-2bec-4fa5-b046-fc8950ba3ca0",
   "metadata": {},
   "source": [
    "**Set environment**"
   ]
  },
  {
   "cell_type": "code",
   "execution_count": 1,
   "id": "eada81b3-9357-4ced-abd9-89a6f87b1ea6",
   "metadata": {},
   "outputs": [
    {
     "name": "stdout",
     "output_type": "stream",
     "text": [
      "You are in Singularity: singularity_proj_encode_fcc \n",
      "BASE DIRECTORY (FD_BASE): /data/reddylab/Kuei \n",
      "WORK DIRECTORY (FD_WORK): /data/reddylab/Kuei/out \n",
      "CODE DIRECTORY (FD_CODE): /data/reddylab/Kuei/code \n",
      "PATH OF PROJECT (FD_PRJ): /data/reddylab/Kuei/code/Proj_CombEffect_ENCODE_FCC \n",
      "PATH OF RESULTS (FD_RES): /data/reddylab/Kuei/out/proj_combeffect_encode_fcc \n",
      "PATH OF LOG     (FD_LOG): /data/reddylab/Kuei/out/proj_combeffect_encode_fcc/log \n"
     ]
    }
   ],
   "source": [
    "suppressMessages(suppressWarnings(source(\"../config/config_sing.R\")))\n",
    "suppressMessages(suppressWarnings(source(\"../config/config_func.R\")))\n",
    "show_env()"
   ]
  },
  {
   "cell_type": "markdown",
   "id": "bbf735e3-db3f-4927-964f-87b7372b4db4",
   "metadata": {},
   "source": [
    "## Import CRISPRi-HCRFF data"
   ]
  },
  {
   "cell_type": "code",
   "execution_count": 2,
   "id": "8fd339e4-c99d-41f6-92bf-6f139356b542",
   "metadata": {},
   "outputs": [
    {
     "name": "stdout",
     "output_type": "stream",
     "text": [
      "[1] 1330    6\n"
     ]
    },
    {
     "data": {
      "text/html": [
       "<table class=\"dataframe\">\n",
       "<caption>A tibble: 6 × 6</caption>\n",
       "<thead>\n",
       "\t<tr><th scope=col>Peak</th><th scope=col>Mean</th><th scope=col>Mean_Pos</th><th scope=col>Mean_Neg</th><th scope=col>Count</th><th scope=col>Note</th></tr>\n",
       "\t<tr><th scope=col>&lt;chr&gt;</th><th scope=col>&lt;dbl&gt;</th><th scope=col>&lt;dbl&gt;</th><th scope=col>&lt;dbl&gt;</th><th scope=col>&lt;dbl&gt;</th><th scope=col>&lt;chr&gt;</th></tr>\n",
       "</thead>\n",
       "<tbody>\n",
       "\t<tr><td>chr11:33065336-33066228</td><td>-0.08308383</td><td>0.03675483</td><td>-0.2734393</td><td>138</td><td>CAPRIN1:138|CAT:138|LMO2:138</td></tr>\n",
       "\t<tr><td>chr11:33068519-33069100</td><td>-0.12006903</td><td>0.00000000</td><td>-0.1593220</td><td>159</td><td>CAPRIN1:159|CAT:159|LMO2:159</td></tr>\n",
       "\t<tr><td>chr11:33072412-33072630</td><td> 0.10643558</td><td>0.35299267</td><td>-0.1982723</td><td> 36</td><td>CAPRIN1:36|CAT:36|LMO2:36   </td></tr>\n",
       "\t<tr><td>chr11:33103533-33104120</td><td> 0.98158422</td><td>1.44209600</td><td> 0.0000000</td><td>  9</td><td>CAPRIN1:9|CAT:9|LMO2:9      </td></tr>\n",
       "\t<tr><td>chr11:33114629-33115134</td><td> 0.22095793</td><td>0.42649733</td><td> 0.0000000</td><td> 27</td><td>CAPRIN1:27|CAT:27|LMO2:27   </td></tr>\n",
       "\t<tr><td>chr11:33125296-33126416</td><td>-0.05128921</td><td>0.04323581</td><td>-0.1542515</td><td>159</td><td>CAPRIN1:159|CAT:159|LMO2:159</td></tr>\n",
       "</tbody>\n",
       "</table>\n"
      ],
      "text/latex": [
       "A tibble: 6 × 6\n",
       "\\begin{tabular}{llllll}\n",
       " Peak & Mean & Mean\\_Pos & Mean\\_Neg & Count & Note\\\\\n",
       " <chr> & <dbl> & <dbl> & <dbl> & <dbl> & <chr>\\\\\n",
       "\\hline\n",
       "\t chr11:33065336-33066228 & -0.08308383 & 0.03675483 & -0.2734393 & 138 & CAPRIN1:138\\textbar{}CAT:138\\textbar{}LMO2:138\\\\\n",
       "\t chr11:33068519-33069100 & -0.12006903 & 0.00000000 & -0.1593220 & 159 & CAPRIN1:159\\textbar{}CAT:159\\textbar{}LMO2:159\\\\\n",
       "\t chr11:33072412-33072630 &  0.10643558 & 0.35299267 & -0.1982723 &  36 & CAPRIN1:36\\textbar{}CAT:36\\textbar{}LMO2:36   \\\\\n",
       "\t chr11:33103533-33104120 &  0.98158422 & 1.44209600 &  0.0000000 &   9 & CAPRIN1:9\\textbar{}CAT:9\\textbar{}LMO2:9      \\\\\n",
       "\t chr11:33114629-33115134 &  0.22095793 & 0.42649733 &  0.0000000 &  27 & CAPRIN1:27\\textbar{}CAT:27\\textbar{}LMO2:27   \\\\\n",
       "\t chr11:33125296-33126416 & -0.05128921 & 0.04323581 & -0.1542515 & 159 & CAPRIN1:159\\textbar{}CAT:159\\textbar{}LMO2:159\\\\\n",
       "\\end{tabular}\n"
      ],
      "text/markdown": [
       "\n",
       "A tibble: 6 × 6\n",
       "\n",
       "| Peak &lt;chr&gt; | Mean &lt;dbl&gt; | Mean_Pos &lt;dbl&gt; | Mean_Neg &lt;dbl&gt; | Count &lt;dbl&gt; | Note &lt;chr&gt; |\n",
       "|---|---|---|---|---|---|\n",
       "| chr11:33065336-33066228 | -0.08308383 | 0.03675483 | -0.2734393 | 138 | CAPRIN1:138|CAT:138|LMO2:138 |\n",
       "| chr11:33068519-33069100 | -0.12006903 | 0.00000000 | -0.1593220 | 159 | CAPRIN1:159|CAT:159|LMO2:159 |\n",
       "| chr11:33072412-33072630 |  0.10643558 | 0.35299267 | -0.1982723 |  36 | CAPRIN1:36|CAT:36|LMO2:36    |\n",
       "| chr11:33103533-33104120 |  0.98158422 | 1.44209600 |  0.0000000 |   9 | CAPRIN1:9|CAT:9|LMO2:9       |\n",
       "| chr11:33114629-33115134 |  0.22095793 | 0.42649733 |  0.0000000 |  27 | CAPRIN1:27|CAT:27|LMO2:27    |\n",
       "| chr11:33125296-33126416 | -0.05128921 | 0.04323581 | -0.1542515 | 159 | CAPRIN1:159|CAT:159|LMO2:159 |\n",
       "\n"
      ],
      "text/plain": [
       "  Peak                    Mean        Mean_Pos   Mean_Neg   Count\n",
       "1 chr11:33065336-33066228 -0.08308383 0.03675483 -0.2734393 138  \n",
       "2 chr11:33068519-33069100 -0.12006903 0.00000000 -0.1593220 159  \n",
       "3 chr11:33072412-33072630  0.10643558 0.35299267 -0.1982723  36  \n",
       "4 chr11:33103533-33104120  0.98158422 1.44209600  0.0000000   9  \n",
       "5 chr11:33114629-33115134  0.22095793 0.42649733  0.0000000  27  \n",
       "6 chr11:33125296-33126416 -0.05128921 0.04323581 -0.1542515 159  \n",
       "  Note                        \n",
       "1 CAPRIN1:138|CAT:138|LMO2:138\n",
       "2 CAPRIN1:159|CAT:159|LMO2:159\n",
       "3 CAPRIN1:36|CAT:36|LMO2:36   \n",
       "4 CAPRIN1:9|CAT:9|LMO2:9      \n",
       "5 CAPRIN1:27|CAT:27|LMO2:27   \n",
       "6 CAPRIN1:159|CAT:159|LMO2:159"
      ]
     },
     "metadata": {},
     "output_type": "display_data"
    }
   ],
   "source": [
    "ASSAY   = \"CRISPRi_FlowFISH\"\n",
    "FOLDER  = \"coverage_astarrseq_peak_macs_input\"\n",
    "\n",
    "fdiry = file.path(FD_RES, \"results\", ASSAY, FOLDER, \"summary\")\n",
    "fname = \"results.summary.Merge.tsv\"\n",
    "fpath = file.path(fdiry, fname)\n",
    "\n",
    "dat = read_tsv(fpath, show_col_types = FALSE)\n",
    "\n",
    "dat_peak_score_summary_crispri_hcrff = dat\n",
    "print(dim(dat))\n",
    "head(dat)"
   ]
  },
  {
   "cell_type": "markdown",
   "id": "19768b85-f780-40dc-8732-4c7346e2ba4a",
   "metadata": {},
   "source": [
    "## Import CRIPSRi-Growth data"
   ]
  },
  {
   "cell_type": "code",
   "execution_count": 5,
   "id": "782ee587-a9bf-4d51-b58b-dc46365cb2b7",
   "metadata": {},
   "outputs": [
    {
     "name": "stdout",
     "output_type": "stream",
     "text": [
      "[1] 80288     8\n"
     ]
    },
    {
     "data": {
      "text/html": [
       "<table class=\"dataframe\">\n",
       "<caption>A tibble: 6 × 8</caption>\n",
       "<thead>\n",
       "\t<tr><th scope=col>Peak</th><th scope=col>Mean</th><th scope=col>Median</th><th scope=col>Max</th><th scope=col>Min</th><th scope=col>Count</th><th scope=col>Mean_Neg</th><th scope=col>Mean_Pos</th></tr>\n",
       "\t<tr><th scope=col>&lt;chr&gt;</th><th scope=col>&lt;dbl&gt;</th><th scope=col>&lt;dbl&gt;</th><th scope=col>&lt;dbl&gt;</th><th scope=col>&lt;dbl&gt;</th><th scope=col>&lt;dbl&gt;</th><th scope=col>&lt;dbl&gt;</th><th scope=col>&lt;dbl&gt;</th></tr>\n",
       "</thead>\n",
       "<tbody>\n",
       "\t<tr><td>chr10:100009096-100010466</td><td>-0.03786170</td><td> 0.0303830</td><td>0.526902</td><td>-0.655965</td><td>10</td><td>-0.3840866</td><td>0.3083632</td></tr>\n",
       "\t<tr><td>chr10:100045961-100046653</td><td> 0.10873570</td><td> 0.1820295</td><td>0.646953</td><td>-0.497578</td><td>10</td><td>-0.2750008</td><td>0.3645600</td></tr>\n",
       "\t<tr><td>chr10:100065094-100065486</td><td>-0.00323730</td><td>-0.0931995</td><td>1.305380</td><td>-0.677550</td><td>10</td><td>-0.3639722</td><td>0.5378650</td></tr>\n",
       "\t<tr><td>chr10:100129051-100131059</td><td>-0.26576144</td><td>-0.2617330</td><td>0.253159</td><td>-0.767330</td><td> 9</td><td>-0.4522120</td><td>0.1071397</td></tr>\n",
       "\t<tr><td>chr10:100185017-100187275</td><td>-0.01202196</td><td>-0.0613300</td><td>0.730481</td><td>-0.954435</td><td>25</td><td>-0.2790666</td><td>0.3278531</td></tr>\n",
       "\t<tr><td>chr10:100228452-100230090</td><td>-0.01822050</td><td> 0.0722880</td><td>0.446912</td><td>-0.768059</td><td>10</td><td>-0.3293750</td><td>0.1892158</td></tr>\n",
       "</tbody>\n",
       "</table>\n"
      ],
      "text/latex": [
       "A tibble: 6 × 8\n",
       "\\begin{tabular}{llllllll}\n",
       " Peak & Mean & Median & Max & Min & Count & Mean\\_Neg & Mean\\_Pos\\\\\n",
       " <chr> & <dbl> & <dbl> & <dbl> & <dbl> & <dbl> & <dbl> & <dbl>\\\\\n",
       "\\hline\n",
       "\t chr10:100009096-100010466 & -0.03786170 &  0.0303830 & 0.526902 & -0.655965 & 10 & -0.3840866 & 0.3083632\\\\\n",
       "\t chr10:100045961-100046653 &  0.10873570 &  0.1820295 & 0.646953 & -0.497578 & 10 & -0.2750008 & 0.3645600\\\\\n",
       "\t chr10:100065094-100065486 & -0.00323730 & -0.0931995 & 1.305380 & -0.677550 & 10 & -0.3639722 & 0.5378650\\\\\n",
       "\t chr10:100129051-100131059 & -0.26576144 & -0.2617330 & 0.253159 & -0.767330 &  9 & -0.4522120 & 0.1071397\\\\\n",
       "\t chr10:100185017-100187275 & -0.01202196 & -0.0613300 & 0.730481 & -0.954435 & 25 & -0.2790666 & 0.3278531\\\\\n",
       "\t chr10:100228452-100230090 & -0.01822050 &  0.0722880 & 0.446912 & -0.768059 & 10 & -0.3293750 & 0.1892158\\\\\n",
       "\\end{tabular}\n"
      ],
      "text/markdown": [
       "\n",
       "A tibble: 6 × 8\n",
       "\n",
       "| Peak &lt;chr&gt; | Mean &lt;dbl&gt; | Median &lt;dbl&gt; | Max &lt;dbl&gt; | Min &lt;dbl&gt; | Count &lt;dbl&gt; | Mean_Neg &lt;dbl&gt; | Mean_Pos &lt;dbl&gt; |\n",
       "|---|---|---|---|---|---|---|---|\n",
       "| chr10:100009096-100010466 | -0.03786170 |  0.0303830 | 0.526902 | -0.655965 | 10 | -0.3840866 | 0.3083632 |\n",
       "| chr10:100045961-100046653 |  0.10873570 |  0.1820295 | 0.646953 | -0.497578 | 10 | -0.2750008 | 0.3645600 |\n",
       "| chr10:100065094-100065486 | -0.00323730 | -0.0931995 | 1.305380 | -0.677550 | 10 | -0.3639722 | 0.5378650 |\n",
       "| chr10:100129051-100131059 | -0.26576144 | -0.2617330 | 0.253159 | -0.767330 |  9 | -0.4522120 | 0.1071397 |\n",
       "| chr10:100185017-100187275 | -0.01202196 | -0.0613300 | 0.730481 | -0.954435 | 25 | -0.2790666 | 0.3278531 |\n",
       "| chr10:100228452-100230090 | -0.01822050 |  0.0722880 | 0.446912 | -0.768059 | 10 | -0.3293750 | 0.1892158 |\n",
       "\n"
      ],
      "text/plain": [
       "  Peak                      Mean        Median     Max      Min       Count\n",
       "1 chr10:100009096-100010466 -0.03786170  0.0303830 0.526902 -0.655965 10   \n",
       "2 chr10:100045961-100046653  0.10873570  0.1820295 0.646953 -0.497578 10   \n",
       "3 chr10:100065094-100065486 -0.00323730 -0.0931995 1.305380 -0.677550 10   \n",
       "4 chr10:100129051-100131059 -0.26576144 -0.2617330 0.253159 -0.767330  9   \n",
       "5 chr10:100185017-100187275 -0.01202196 -0.0613300 0.730481 -0.954435 25   \n",
       "6 chr10:100228452-100230090 -0.01822050  0.0722880 0.446912 -0.768059 10   \n",
       "  Mean_Neg   Mean_Pos \n",
       "1 -0.3840866 0.3083632\n",
       "2 -0.2750008 0.3645600\n",
       "3 -0.3639722 0.5378650\n",
       "4 -0.4522120 0.1071397\n",
       "5 -0.2790666 0.3278531\n",
       "6 -0.3293750 0.1892158"
      ]
     },
     "metadata": {},
     "output_type": "display_data"
    }
   ],
   "source": [
    "ASSAY   = \"CRISPRi_Growth_K562_Gersbach\"\n",
    "FOLDER  = \"coverage_astarrseq_peak_macs_input\"\n",
    "\n",
    "fdiry = file.path(FD_RES, \"results\", ASSAY, FOLDER, \"summary\")\n",
    "fname = \"results.summary.tsv\"\n",
    "fpath = file.path(fdiry, fname)\n",
    "\n",
    "dat = read_tsv(fpath, show_col_types = FALSE)\n",
    "\n",
    "dat_peak_score_summary_crispri_growth = dat\n",
    "print(dim(dat))\n",
    "head(dat)"
   ]
  },
  {
   "cell_type": "markdown",
   "id": "2719d8d1-d223-4d8e-9588-fb6e2075ed6a",
   "metadata": {},
   "source": [
    "## Import ATAC"
   ]
  },
  {
   "cell_type": "code",
   "execution_count": 76,
   "id": "29b9ce17-6b58-460f-b93f-c3db3492456a",
   "metadata": {},
   "outputs": [
    {
     "name": "stdout",
     "output_type": "stream",
     "text": [
      "[1] 246852      7\n"
     ]
    },
    {
     "data": {
      "text/html": [
       "<table class=\"dataframe\">\n",
       "<caption>A tibble: 6 × 7</caption>\n",
       "<thead>\n",
       "\t<tr><th scope=col>Chrom</th><th scope=col>Start</th><th scope=col>End</th><th scope=col>Peak</th><th scope=col>Score</th><th scope=col>Assay_Type</th><th scope=col>Assay_Label</th></tr>\n",
       "\t<tr><th scope=col>&lt;chr&gt;</th><th scope=col>&lt;dbl&gt;</th><th scope=col>&lt;dbl&gt;</th><th scope=col>&lt;chr&gt;</th><th scope=col>&lt;dbl&gt;</th><th scope=col>&lt;chr&gt;</th><th scope=col>&lt;chr&gt;</th></tr>\n",
       "</thead>\n",
       "<tbody>\n",
       "\t<tr><td>chr1</td><td>10015</td><td>10442</td><td>chr1:10015-10442</td><td>1.1389501</td><td>ATAC</td><td>ATAC_Q3</td></tr>\n",
       "\t<tr><td>chr1</td><td>14253</td><td>14645</td><td>chr1:14253-14645</td><td>0.8042019</td><td>ATAC</td><td>ATAC_Q3</td></tr>\n",
       "\t<tr><td>chr1</td><td>16015</td><td>16477</td><td>chr1:16015-16477</td><td>0.9440313</td><td>ATAC</td><td>ATAC_Q3</td></tr>\n",
       "\t<tr><td>chr1</td><td>17237</td><td>17772</td><td>chr1:17237-17772</td><td>1.4967405</td><td>ATAC</td><td>ATAC_Q4</td></tr>\n",
       "\t<tr><td>chr1</td><td>28903</td><td>29613</td><td>chr1:28903-29613</td><td>1.0746061</td><td>ATAC</td><td>ATAC_Q3</td></tr>\n",
       "\t<tr><td>chr1</td><td>30803</td><td>31072</td><td>chr1:30803-31072</td><td>1.0312963</td><td>ATAC</td><td>ATAC_Q3</td></tr>\n",
       "</tbody>\n",
       "</table>\n"
      ],
      "text/latex": [
       "A tibble: 6 × 7\n",
       "\\begin{tabular}{lllllll}\n",
       " Chrom & Start & End & Peak & Score & Assay\\_Type & Assay\\_Label\\\\\n",
       " <chr> & <dbl> & <dbl> & <chr> & <dbl> & <chr> & <chr>\\\\\n",
       "\\hline\n",
       "\t chr1 & 10015 & 10442 & chr1:10015-10442 & 1.1389501 & ATAC & ATAC\\_Q3\\\\\n",
       "\t chr1 & 14253 & 14645 & chr1:14253-14645 & 0.8042019 & ATAC & ATAC\\_Q3\\\\\n",
       "\t chr1 & 16015 & 16477 & chr1:16015-16477 & 0.9440313 & ATAC & ATAC\\_Q3\\\\\n",
       "\t chr1 & 17237 & 17772 & chr1:17237-17772 & 1.4967405 & ATAC & ATAC\\_Q4\\\\\n",
       "\t chr1 & 28903 & 29613 & chr1:28903-29613 & 1.0746061 & ATAC & ATAC\\_Q3\\\\\n",
       "\t chr1 & 30803 & 31072 & chr1:30803-31072 & 1.0312963 & ATAC & ATAC\\_Q3\\\\\n",
       "\\end{tabular}\n"
      ],
      "text/markdown": [
       "\n",
       "A tibble: 6 × 7\n",
       "\n",
       "| Chrom &lt;chr&gt; | Start &lt;dbl&gt; | End &lt;dbl&gt; | Peak &lt;chr&gt; | Score &lt;dbl&gt; | Assay_Type &lt;chr&gt; | Assay_Label &lt;chr&gt; |\n",
       "|---|---|---|---|---|---|---|\n",
       "| chr1 | 10015 | 10442 | chr1:10015-10442 | 1.1389501 | ATAC | ATAC_Q3 |\n",
       "| chr1 | 14253 | 14645 | chr1:14253-14645 | 0.8042019 | ATAC | ATAC_Q3 |\n",
       "| chr1 | 16015 | 16477 | chr1:16015-16477 | 0.9440313 | ATAC | ATAC_Q3 |\n",
       "| chr1 | 17237 | 17772 | chr1:17237-17772 | 1.4967405 | ATAC | ATAC_Q4 |\n",
       "| chr1 | 28903 | 29613 | chr1:28903-29613 | 1.0746061 | ATAC | ATAC_Q3 |\n",
       "| chr1 | 30803 | 31072 | chr1:30803-31072 | 1.0312963 | ATAC | ATAC_Q3 |\n",
       "\n"
      ],
      "text/plain": [
       "  Chrom Start End   Peak             Score     Assay_Type Assay_Label\n",
       "1 chr1  10015 10442 chr1:10015-10442 1.1389501 ATAC       ATAC_Q3    \n",
       "2 chr1  14253 14645 chr1:14253-14645 0.8042019 ATAC       ATAC_Q3    \n",
       "3 chr1  16015 16477 chr1:16015-16477 0.9440313 ATAC       ATAC_Q3    \n",
       "4 chr1  17237 17772 chr1:17237-17772 1.4967405 ATAC       ATAC_Q4    \n",
       "5 chr1  28903 29613 chr1:28903-29613 1.0746061 ATAC       ATAC_Q3    \n",
       "6 chr1  30803 31072 chr1:30803-31072 1.0312963 ATAC       ATAC_Q3    "
      ]
     },
     "metadata": {},
     "output_type": "display_data"
    }
   ],
   "source": [
    "### set file paths\n",
    "fdiry  = file.path(\n",
    "    FD_RES, \n",
    "    \"results\",\n",
    "    \"region\",\n",
    "    \"KS91_K562_ASTARRseq_peak_macs_input\",\n",
    "    \"summary\"\n",
    ")\n",
    "fname = \"peak.screened.atac.quantile.tsv\"\n",
    "fpath = file.path(fdiry, fname)\n",
    "\n",
    "### read table\n",
    "dat = read_tsv(fpath, show_col_types = FALSE)\n",
    "\n",
    "###\n",
    "dat_peak_score_atac = dat\n",
    "print(dim(dat))\n",
    "head(dat)"
   ]
  },
  {
   "cell_type": "markdown",
   "id": "130594a0-faae-4822-bf3b-2d05f7aa570f",
   "metadata": {},
   "source": [
    "## Import STARRMPRA data"
   ]
  },
  {
   "cell_type": "code",
   "execution_count": 6,
   "id": "f0526da2-9ddf-4fec-a738-c644d0d67a8c",
   "metadata": {},
   "outputs": [
    {
     "name": "stdout",
     "output_type": "stream",
     "text": [
      "[1] 1241    6\n"
     ]
    },
    {
     "data": {
      "text/html": [
       "<table class=\"dataframe\">\n",
       "<caption>A tibble: 6 × 6</caption>\n",
       "<thead>\n",
       "\t<tr><th scope=col>Peak</th><th scope=col>ASTARR</th><th scope=col>WSTARR</th><th scope=col>TMPRA</th><th scope=col>LMPRA</th><th scope=col>Mean</th></tr>\n",
       "\t<tr><th scope=col>&lt;chr&gt;</th><th scope=col>&lt;dbl&gt;</th><th scope=col>&lt;dbl&gt;</th><th scope=col>&lt;dbl&gt;</th><th scope=col>&lt;dbl&gt;</th><th scope=col>&lt;dbl&gt;</th></tr>\n",
       "</thead>\n",
       "<tbody>\n",
       "\t<tr><td>chr11:32870601-32871324</td><td>0.12006446</td><td>0.06204674</td><td>0.1958098</td><td>0.22804190</td><td>0.1514907</td></tr>\n",
       "\t<tr><td>chr11:32874343-32875070</td><td>0.13053989</td><td>0.21434327</td><td>0.3231265</td><td>0.08098308</td><td>0.1872482</td></tr>\n",
       "\t<tr><td>chr11:32884749-32885822</td><td>0.08541499</td><td>0.26349718</td><td>0.5439162</td><td>0.78565673</td><td>0.4196213</td></tr>\n",
       "\t<tr><td>chr11:32901572-32902485</td><td>0.22320709</td><td>0.35455278</td><td>0.1571313</td><td>0.31748590</td><td>0.2630943</td></tr>\n",
       "\t<tr><td>chr11:32903491-32904506</td><td>0.52377115</td><td>0.01531023</td><td>0.2095085</td><td>0.74053183</td><td>0.3722804</td></tr>\n",
       "\t<tr><td>chr11:32910855-32912010</td><td>0.68573731</td><td>0.44641418</td><td>0.9129734</td><td>0.43755036</td><td>0.6206688</td></tr>\n",
       "</tbody>\n",
       "</table>\n"
      ],
      "text/latex": [
       "A tibble: 6 × 6\n",
       "\\begin{tabular}{llllll}\n",
       " Peak & ASTARR & WSTARR & TMPRA & LMPRA & Mean\\\\\n",
       " <chr> & <dbl> & <dbl> & <dbl> & <dbl> & <dbl>\\\\\n",
       "\\hline\n",
       "\t chr11:32870601-32871324 & 0.12006446 & 0.06204674 & 0.1958098 & 0.22804190 & 0.1514907\\\\\n",
       "\t chr11:32874343-32875070 & 0.13053989 & 0.21434327 & 0.3231265 & 0.08098308 & 0.1872482\\\\\n",
       "\t chr11:32884749-32885822 & 0.08541499 & 0.26349718 & 0.5439162 & 0.78565673 & 0.4196213\\\\\n",
       "\t chr11:32901572-32902485 & 0.22320709 & 0.35455278 & 0.1571313 & 0.31748590 & 0.2630943\\\\\n",
       "\t chr11:32903491-32904506 & 0.52377115 & 0.01531023 & 0.2095085 & 0.74053183 & 0.3722804\\\\\n",
       "\t chr11:32910855-32912010 & 0.68573731 & 0.44641418 & 0.9129734 & 0.43755036 & 0.6206688\\\\\n",
       "\\end{tabular}\n"
      ],
      "text/markdown": [
       "\n",
       "A tibble: 6 × 6\n",
       "\n",
       "| Peak &lt;chr&gt; | ASTARR &lt;dbl&gt; | WSTARR &lt;dbl&gt; | TMPRA &lt;dbl&gt; | LMPRA &lt;dbl&gt; | Mean &lt;dbl&gt; |\n",
       "|---|---|---|---|---|---|\n",
       "| chr11:32870601-32871324 | 0.12006446 | 0.06204674 | 0.1958098 | 0.22804190 | 0.1514907 |\n",
       "| chr11:32874343-32875070 | 0.13053989 | 0.21434327 | 0.3231265 | 0.08098308 | 0.1872482 |\n",
       "| chr11:32884749-32885822 | 0.08541499 | 0.26349718 | 0.5439162 | 0.78565673 | 0.4196213 |\n",
       "| chr11:32901572-32902485 | 0.22320709 | 0.35455278 | 0.1571313 | 0.31748590 | 0.2630943 |\n",
       "| chr11:32903491-32904506 | 0.52377115 | 0.01531023 | 0.2095085 | 0.74053183 | 0.3722804 |\n",
       "| chr11:32910855-32912010 | 0.68573731 | 0.44641418 | 0.9129734 | 0.43755036 | 0.6206688 |\n",
       "\n"
      ],
      "text/plain": [
       "  Peak                    ASTARR     WSTARR     TMPRA     LMPRA      Mean     \n",
       "1 chr11:32870601-32871324 0.12006446 0.06204674 0.1958098 0.22804190 0.1514907\n",
       "2 chr11:32874343-32875070 0.13053989 0.21434327 0.3231265 0.08098308 0.1872482\n",
       "3 chr11:32884749-32885822 0.08541499 0.26349718 0.5439162 0.78565673 0.4196213\n",
       "4 chr11:32901572-32902485 0.22320709 0.35455278 0.1571313 0.31748590 0.2630943\n",
       "5 chr11:32903491-32904506 0.52377115 0.01531023 0.2095085 0.74053183 0.3722804\n",
       "6 chr11:32910855-32912010 0.68573731 0.44641418 0.9129734 0.43755036 0.6206688"
      ]
     },
     "metadata": {},
     "output_type": "display_data"
    }
   ],
   "source": [
    "### set file directories\n",
    "fdiry = file.path(FD_RES, \"results\", \"comparison\")\n",
    "fname = \"result.ranknorm.starrmpra.overlap.tsv\"\n",
    "fpath = file.path(fdiry, fname)\n",
    "\n",
    "dat = read_tsv(fpath, show_col_types = FALSE)\n",
    "\n",
    "dat_peak_starrmpra_ranknorm = dat\n",
    "print(dim(dat))\n",
    "head(dat)"
   ]
  },
  {
   "cell_type": "markdown",
   "id": "2283e53a-9d71-4d47-b117-23d0be8161c5",
   "metadata": {},
   "source": [
    "## Setup assay and peak order"
   ]
  },
  {
   "cell_type": "code",
   "execution_count": 7,
   "id": "7f1048b5-1d61-4555-84d7-f465ca8f5f88",
   "metadata": {},
   "outputs": [
    {
     "data": {
      "text/html": [
       "<table class=\"dataframe\">\n",
       "<caption>A tibble: 6 × 6</caption>\n",
       "<thead>\n",
       "\t<tr><th scope=col>Peak</th><th scope=col>ASTARR</th><th scope=col>WSTARR</th><th scope=col>TMPRA</th><th scope=col>LMPRA</th><th scope=col>Mean</th></tr>\n",
       "\t<tr><th scope=col>&lt;chr&gt;</th><th scope=col>&lt;dbl&gt;</th><th scope=col>&lt;dbl&gt;</th><th scope=col>&lt;dbl&gt;</th><th scope=col>&lt;dbl&gt;</th><th scope=col>&lt;dbl&gt;</th></tr>\n",
       "</thead>\n",
       "<tbody>\n",
       "\t<tr><td>chrX:48996933-48997220  </td><td>0.005640612</td><td>0.0008058018</td><td>0.0008058018</td><td>0.07252216</td><td>0.01994359</td></tr>\n",
       "\t<tr><td>chr20:56703281-56703575 </td><td>0.002417405</td><td>0.1039484287</td><td>0.0080580177</td><td>0.03223207</td><td>0.03666398</td></tr>\n",
       "\t<tr><td>chr8:128527915-128528670</td><td>0.073327961</td><td>0.0032232071</td><td>0.0975020145</td><td>0.09105560</td><td>0.06627720</td></tr>\n",
       "\t<tr><td>chr20:56716655-56717126 </td><td>0.014504432</td><td>0.1321514907</td><td>0.0233682514</td><td>0.12489927</td><td>0.07373086</td></tr>\n",
       "\t<tr><td>chr11:33818437-33819007 </td><td>0.145044319</td><td>0.0547945205</td><td>0.0257856567</td><td>0.08501209</td><td>0.07765915</td></tr>\n",
       "\t<tr><td>chr16:892329-892989     </td><td>0.022562450</td><td>0.1442385173</td><td>0.1635777599</td><td>0.01208703</td><td>0.08561644</td></tr>\n",
       "</tbody>\n",
       "</table>\n"
      ],
      "text/latex": [
       "A tibble: 6 × 6\n",
       "\\begin{tabular}{llllll}\n",
       " Peak & ASTARR & WSTARR & TMPRA & LMPRA & Mean\\\\\n",
       " <chr> & <dbl> & <dbl> & <dbl> & <dbl> & <dbl>\\\\\n",
       "\\hline\n",
       "\t chrX:48996933-48997220   & 0.005640612 & 0.0008058018 & 0.0008058018 & 0.07252216 & 0.01994359\\\\\n",
       "\t chr20:56703281-56703575  & 0.002417405 & 0.1039484287 & 0.0080580177 & 0.03223207 & 0.03666398\\\\\n",
       "\t chr8:128527915-128528670 & 0.073327961 & 0.0032232071 & 0.0975020145 & 0.09105560 & 0.06627720\\\\\n",
       "\t chr20:56716655-56717126  & 0.014504432 & 0.1321514907 & 0.0233682514 & 0.12489927 & 0.07373086\\\\\n",
       "\t chr11:33818437-33819007  & 0.145044319 & 0.0547945205 & 0.0257856567 & 0.08501209 & 0.07765915\\\\\n",
       "\t chr16:892329-892989      & 0.022562450 & 0.1442385173 & 0.1635777599 & 0.01208703 & 0.08561644\\\\\n",
       "\\end{tabular}\n"
      ],
      "text/markdown": [
       "\n",
       "A tibble: 6 × 6\n",
       "\n",
       "| Peak &lt;chr&gt; | ASTARR &lt;dbl&gt; | WSTARR &lt;dbl&gt; | TMPRA &lt;dbl&gt; | LMPRA &lt;dbl&gt; | Mean &lt;dbl&gt; |\n",
       "|---|---|---|---|---|---|\n",
       "| chrX:48996933-48997220   | 0.005640612 | 0.0008058018 | 0.0008058018 | 0.07252216 | 0.01994359 |\n",
       "| chr20:56703281-56703575  | 0.002417405 | 0.1039484287 | 0.0080580177 | 0.03223207 | 0.03666398 |\n",
       "| chr8:128527915-128528670 | 0.073327961 | 0.0032232071 | 0.0975020145 | 0.09105560 | 0.06627720 |\n",
       "| chr20:56716655-56717126  | 0.014504432 | 0.1321514907 | 0.0233682514 | 0.12489927 | 0.07373086 |\n",
       "| chr11:33818437-33819007  | 0.145044319 | 0.0547945205 | 0.0257856567 | 0.08501209 | 0.07765915 |\n",
       "| chr16:892329-892989      | 0.022562450 | 0.1442385173 | 0.1635777599 | 0.01208703 | 0.08561644 |\n",
       "\n"
      ],
      "text/plain": [
       "  Peak                     ASTARR      WSTARR       TMPRA        LMPRA     \n",
       "1 chrX:48996933-48997220   0.005640612 0.0008058018 0.0008058018 0.07252216\n",
       "2 chr20:56703281-56703575  0.002417405 0.1039484287 0.0080580177 0.03223207\n",
       "3 chr8:128527915-128528670 0.073327961 0.0032232071 0.0975020145 0.09105560\n",
       "4 chr20:56716655-56717126  0.014504432 0.1321514907 0.0233682514 0.12489927\n",
       "5 chr11:33818437-33819007  0.145044319 0.0547945205 0.0257856567 0.08501209\n",
       "6 chr16:892329-892989      0.022562450 0.1442385173 0.1635777599 0.01208703\n",
       "  Mean      \n",
       "1 0.01994359\n",
       "2 0.03666398\n",
       "3 0.06627720\n",
       "4 0.07373086\n",
       "5 0.07765915\n",
       "6 0.08561644"
      ]
     },
     "metadata": {},
     "output_type": "display_data"
    }
   ],
   "source": [
    "dat = dat_peak_starrmpra_ranknorm\n",
    "dat = dat %>% dplyr::arrange(Mean)\n",
    "\n",
    "VEC_TXT_PEAK  = dat$Peak\n",
    "VEC_TXT_ASSAY = c(\"ASTARR\", \"WSTARR\", \"TMPRA\", \"LMPRA\")\n",
    "head(dat)"
   ]
  },
  {
   "cell_type": "markdown",
   "id": "09dbe053-7f80-4df8-85eb-cbd8ba96fb6f",
   "metadata": {},
   "source": [
    "## Plot STARRMPRA"
   ]
  },
  {
   "cell_type": "code",
   "execution_count": 8,
   "id": "6e221a62-a45c-4d7b-959e-ff0dc735f89f",
   "metadata": {},
   "outputs": [
    {
     "name": "stdout",
     "output_type": "stream",
     "text": [
      "[1] 4964    3\n"
     ]
    },
    {
     "data": {
      "text/html": [
       "<table class=\"dataframe\">\n",
       "<caption>A tibble: 6 × 3</caption>\n",
       "<thead>\n",
       "\t<tr><th scope=col>Peak</th><th scope=col>Assay</th><th scope=col>Score</th></tr>\n",
       "\t<tr><th scope=col>&lt;fct&gt;</th><th scope=col>&lt;fct&gt;</th><th scope=col>&lt;dbl&gt;</th></tr>\n",
       "</thead>\n",
       "<tbody>\n",
       "\t<tr><td>chr11:32870601-32871324</td><td>ASTARR</td><td>0.12006446</td></tr>\n",
       "\t<tr><td>chr11:32874343-32875070</td><td>ASTARR</td><td>0.13053989</td></tr>\n",
       "\t<tr><td>chr11:32884749-32885822</td><td>ASTARR</td><td>0.08541499</td></tr>\n",
       "\t<tr><td>chr11:32901572-32902485</td><td>ASTARR</td><td>0.22320709</td></tr>\n",
       "\t<tr><td>chr11:32903491-32904506</td><td>ASTARR</td><td>0.52377115</td></tr>\n",
       "\t<tr><td>chr11:32910855-32912010</td><td>ASTARR</td><td>0.68573731</td></tr>\n",
       "</tbody>\n",
       "</table>\n"
      ],
      "text/latex": [
       "A tibble: 6 × 3\n",
       "\\begin{tabular}{lll}\n",
       " Peak & Assay & Score\\\\\n",
       " <fct> & <fct> & <dbl>\\\\\n",
       "\\hline\n",
       "\t chr11:32870601-32871324 & ASTARR & 0.12006446\\\\\n",
       "\t chr11:32874343-32875070 & ASTARR & 0.13053989\\\\\n",
       "\t chr11:32884749-32885822 & ASTARR & 0.08541499\\\\\n",
       "\t chr11:32901572-32902485 & ASTARR & 0.22320709\\\\\n",
       "\t chr11:32903491-32904506 & ASTARR & 0.52377115\\\\\n",
       "\t chr11:32910855-32912010 & ASTARR & 0.68573731\\\\\n",
       "\\end{tabular}\n"
      ],
      "text/markdown": [
       "\n",
       "A tibble: 6 × 3\n",
       "\n",
       "| Peak &lt;fct&gt; | Assay &lt;fct&gt; | Score &lt;dbl&gt; |\n",
       "|---|---|---|\n",
       "| chr11:32870601-32871324 | ASTARR | 0.12006446 |\n",
       "| chr11:32874343-32875070 | ASTARR | 0.13053989 |\n",
       "| chr11:32884749-32885822 | ASTARR | 0.08541499 |\n",
       "| chr11:32901572-32902485 | ASTARR | 0.22320709 |\n",
       "| chr11:32903491-32904506 | ASTARR | 0.52377115 |\n",
       "| chr11:32910855-32912010 | ASTARR | 0.68573731 |\n",
       "\n"
      ],
      "text/plain": [
       "  Peak                    Assay  Score     \n",
       "1 chr11:32870601-32871324 ASTARR 0.12006446\n",
       "2 chr11:32874343-32875070 ASTARR 0.13053989\n",
       "3 chr11:32884749-32885822 ASTARR 0.08541499\n",
       "4 chr11:32901572-32902485 ASTARR 0.22320709\n",
       "5 chr11:32903491-32904506 ASTARR 0.52377115\n",
       "6 chr11:32910855-32912010 ASTARR 0.68573731"
      ]
     },
     "metadata": {},
     "output_type": "display_data"
    }
   ],
   "source": [
    "dat = dat_peak_starrmpra_ranknorm\n",
    "dat = dat %>%\n",
    "    dplyr::select(-Mean) %>%\n",
    "    tidyr::gather(Assay, Score, -Peak) %>% \n",
    "    dplyr::mutate(\n",
    "        Assay = factor(Assay, levels=VEC_TXT_ASSAY),\n",
    "        Peak  = factor(Peak,  levels=VEC_TXT_PEAK),\n",
    "    )\n",
    "\n",
    "dat_score_starrmpra = dat\n",
    "print(dim(dat))\n",
    "head(dat)"
   ]
  },
  {
   "cell_type": "code",
   "execution_count": 9,
   "id": "8bb10f90-f236-4bdb-9b74-a7702c575560",
   "metadata": {},
   "outputs": [
    {
     "data": {
      "image/png": "[encoded data removed]",
      "text/plain": [
       "plot without title"
      ]
     },
     "metadata": {
      "image/png": {
       "height": 180,
       "width": 900
      }
     },
     "output_type": "display_data"
    }
   ],
   "source": [
    "theme_fill = scale_fill_gradient2(\n",
    "    low  = \"#4575b4\",\n",
    "    mid  = \"#ffffbf\",\n",
    "    high = \"#d73027\",\n",
    "    midpoint = 0.5\n",
    ")\n",
    "\n",
    "theme_text = theme(\n",
    "    axis.ticks.x = element_blank(),\n",
    "    axis.text.x  = element_blank(),\n",
    "    axis.text.y  = element_text(size = 15),\n",
    "    #axis.title.x = element_text(size = 20),\n",
    "    axis.title.x = element_blank(),\n",
    "    axis.title.y = element_blank()\n",
    ")\n",
    "\n",
    "theme_legend = theme(legend.position = \"none\")\n",
    "\n",
    "dat = dat_score_starrmpra\n",
    "\n",
    "gpt = ggplot(dat, aes(x=Peak, y=Assay, fill=Score)) +\n",
    "    geom_tile() +\n",
    "    labs(x=\"Open Chromatin Regions\") +\n",
    "    theme_cowplot() + \n",
    "    theme_text +\n",
    "    theme_fill\n",
    "\n",
    "gpt_score_starrmpra = gpt + theme(legend.position = \"none\")\n",
    "\n",
    "options(repr.plot.height=3, repr.plot.width=15)\n",
    "print(gpt)"
   ]
  },
  {
   "cell_type": "markdown",
   "id": "ac9c2abe-38e1-4c8a-9514-f2ebd3e65c78",
   "metadata": {},
   "source": [
    "## Plot: STARR/MPRA + Ranknorm (Mean)"
   ]
  },
  {
   "cell_type": "code",
   "execution_count": 11,
   "id": "286b1a08-deb6-4a76-8fd3-2defaf5efad0",
   "metadata": {},
   "outputs": [
    {
     "name": "stdout",
     "output_type": "stream",
     "text": [
      "[1] 1241    2\n"
     ]
    },
    {
     "data": {
      "text/html": [
       "<table class=\"dataframe\">\n",
       "<caption>A tibble: 3 × 2</caption>\n",
       "<thead>\n",
       "\t<tr><th scope=col>Peak</th><th scope=col>Mean</th></tr>\n",
       "\t<tr><th scope=col>&lt;fct&gt;</th><th scope=col>&lt;dbl&gt;</th></tr>\n",
       "</thead>\n",
       "<tbody>\n",
       "\t<tr><td>chr11:32870601-32871324</td><td>0.1514907</td></tr>\n",
       "\t<tr><td>chr11:32874343-32875070</td><td>0.1872482</td></tr>\n",
       "\t<tr><td>chr11:32884749-32885822</td><td>0.4196213</td></tr>\n",
       "</tbody>\n",
       "</table>\n"
      ],
      "text/latex": [
       "A tibble: 3 × 2\n",
       "\\begin{tabular}{ll}\n",
       " Peak & Mean\\\\\n",
       " <fct> & <dbl>\\\\\n",
       "\\hline\n",
       "\t chr11:32870601-32871324 & 0.1514907\\\\\n",
       "\t chr11:32874343-32875070 & 0.1872482\\\\\n",
       "\t chr11:32884749-32885822 & 0.4196213\\\\\n",
       "\\end{tabular}\n"
      ],
      "text/markdown": [
       "\n",
       "A tibble: 3 × 2\n",
       "\n",
       "| Peak &lt;fct&gt; | Mean &lt;dbl&gt; |\n",
       "|---|---|\n",
       "| chr11:32870601-32871324 | 0.1514907 |\n",
       "| chr11:32874343-32875070 | 0.1872482 |\n",
       "| chr11:32884749-32885822 | 0.4196213 |\n",
       "\n"
      ],
      "text/plain": [
       "  Peak                    Mean     \n",
       "1 chr11:32870601-32871324 0.1514907\n",
       "2 chr11:32874343-32875070 0.1872482\n",
       "3 chr11:32884749-32885822 0.4196213"
      ]
     },
     "metadata": {},
     "output_type": "display_data"
    }
   ],
   "source": [
    "dat = dat_peak_starrmpra_ranknorm\n",
    "dat = dat %>% \n",
    "    dplyr::select(Peak, Mean) %>%\n",
    "    dplyr::mutate(Peak = factor(Peak, levels=VEC_TXT_PEAK))\n",
    "\n",
    "dat_score_starrmpra_mean = dat\n",
    "print(dim(dat))\n",
    "head(dat, 3)"
   ]
  },
  {
   "cell_type": "markdown",
   "id": "16b39d74-a11d-45a3-8e78-cb3714252a0a",
   "metadata": {},
   "source": [
    "## Plot CRISPRi-HCRFF"
   ]
  },
  {
   "cell_type": "code",
   "execution_count": 13,
   "id": "bcadf2b6-2dbf-4bff-b3ef-71452cfcb2e7",
   "metadata": {},
   "outputs": [
    {
     "data": {
      "image/png": "[encoded data removed]",
      "text/plain": [
       "plot without title"
      ]
     },
     "metadata": {
      "image/png": {
       "height": 180,
       "width": 900
      }
     },
     "output_type": "display_data"
    }
   ],
   "source": [
    "theme_text = theme(\n",
    "    axis.ticks.x = element_blank(),\n",
    "    axis.text.x  = element_blank(),\n",
    "    #axis.text.x  = element_text(size = 2, angle=90),\n",
    "    axis.text.y  = element_text(size = 15),\n",
    "    axis.title.x = element_blank(),\n",
    "    axis.title.y = element_blank(),\n",
    "    plot.title = element_text(face = \"plain\", size = 17)\n",
    "    #axis.title.y = element_text(size = 15)\n",
    ")\n",
    "\n",
    "theme_legend = theme(legend.position = \"none\")\n",
    "\n",
    "dat = dat_score_starrmpra_mean\n",
    "\n",
    "gpt = ggplot(dat, aes(x=Peak, y=Mean)) + \n",
    "    geom_bar(stat=\"identity\", position=\"identity\", fill=\"grey30\", width = 2) + \n",
    "    #geom_point() +\n",
    "    labs(title = \"RankNorm (Mean)\") +\n",
    "    theme_cowplot() + \n",
    "    theme_text +\n",
    "    theme_legend\n",
    "\n",
    "gpt_score_starrmpra_mean = gpt\n",
    "\n",
    "options(repr.plot.height=3, repr.plot.width=15)\n",
    "print(gpt)"
   ]
  },
  {
   "cell_type": "code",
   "execution_count": 15,
   "id": "32286f53-361c-4d57-9121-19d30f33e71f",
   "metadata": {},
   "outputs": [
    {
     "data": {
      "image/png": "[encoded data removed]",
      "text/plain": [
       "plot without title"
      ]
     },
     "metadata": {
      "image/png": {
       "height": 300,
       "width": 900
      }
     },
     "output_type": "display_data"
    }
   ],
   "source": [
    "options(repr.plot.height=5, repr.plot.width=15)\n",
    "plot_grid(\n",
    "    gpt_score_starrmpra_mean,\n",
    "    gpt_score_starrmpra,\n",
    "    ncol  = 1,\n",
    "    align = \"v\",\n",
    "    rel_heights = c(2, 3))"
   ]
  },
  {
   "cell_type": "markdown",
   "id": "b376c97f-1c0c-443e-bde5-c20ed532082a",
   "metadata": {},
   "source": [
    "## Plot: CRISPRi-HCRFF"
   ]
  },
  {
   "cell_type": "code",
   "execution_count": 56,
   "id": "d2cac3a9-2eeb-49b0-9aa0-0af672e52142",
   "metadata": {},
   "outputs": [
    {
     "name": "stdout",
     "output_type": "stream",
     "text": [
      "[1] 1330    6\n",
      "\n",
      " 1  2  3  4  5  6 \n",
      " 6 11  5  7  9 13 \n",
      "\n",
      "1185 1228 1325 1330 1785 2115 \n",
      "   1    1    1    1    1    1 \n"
     ]
    },
    {
     "data": {
      "text/html": [
       "<table class=\"dataframe\">\n",
       "<caption>A tibble: 3 × 6</caption>\n",
       "<thead>\n",
       "\t<tr><th scope=col>Peak</th><th scope=col>Mean</th><th scope=col>Mean_Pos</th><th scope=col>Mean_Neg</th><th scope=col>Count</th><th scope=col>Note</th></tr>\n",
       "\t<tr><th scope=col>&lt;chr&gt;</th><th scope=col>&lt;dbl&gt;</th><th scope=col>&lt;dbl&gt;</th><th scope=col>&lt;dbl&gt;</th><th scope=col>&lt;dbl&gt;</th><th scope=col>&lt;chr&gt;</th></tr>\n",
       "</thead>\n",
       "<tbody>\n",
       "\t<tr><td>chr11:33065336-33066228</td><td>-0.08308383</td><td>0.03675483</td><td>-0.2734393</td><td>138</td><td>CAPRIN1:138|CAT:138|LMO2:138</td></tr>\n",
       "\t<tr><td>chr11:33068519-33069100</td><td>-0.12006903</td><td>0.00000000</td><td>-0.1593220</td><td>159</td><td>CAPRIN1:159|CAT:159|LMO2:159</td></tr>\n",
       "\t<tr><td>chr11:33072412-33072630</td><td> 0.10643558</td><td>0.35299267</td><td>-0.1982723</td><td> 36</td><td>CAPRIN1:36|CAT:36|LMO2:36   </td></tr>\n",
       "</tbody>\n",
       "</table>\n"
      ],
      "text/latex": [
       "A tibble: 3 × 6\n",
       "\\begin{tabular}{llllll}\n",
       " Peak & Mean & Mean\\_Pos & Mean\\_Neg & Count & Note\\\\\n",
       " <chr> & <dbl> & <dbl> & <dbl> & <dbl> & <chr>\\\\\n",
       "\\hline\n",
       "\t chr11:33065336-33066228 & -0.08308383 & 0.03675483 & -0.2734393 & 138 & CAPRIN1:138\\textbar{}CAT:138\\textbar{}LMO2:138\\\\\n",
       "\t chr11:33068519-33069100 & -0.12006903 & 0.00000000 & -0.1593220 & 159 & CAPRIN1:159\\textbar{}CAT:159\\textbar{}LMO2:159\\\\\n",
       "\t chr11:33072412-33072630 &  0.10643558 & 0.35299267 & -0.1982723 &  36 & CAPRIN1:36\\textbar{}CAT:36\\textbar{}LMO2:36   \\\\\n",
       "\\end{tabular}\n"
      ],
      "text/markdown": [
       "\n",
       "A tibble: 3 × 6\n",
       "\n",
       "| Peak &lt;chr&gt; | Mean &lt;dbl&gt; | Mean_Pos &lt;dbl&gt; | Mean_Neg &lt;dbl&gt; | Count &lt;dbl&gt; | Note &lt;chr&gt; |\n",
       "|---|---|---|---|---|---|\n",
       "| chr11:33065336-33066228 | -0.08308383 | 0.03675483 | -0.2734393 | 138 | CAPRIN1:138|CAT:138|LMO2:138 |\n",
       "| chr11:33068519-33069100 | -0.12006903 | 0.00000000 | -0.1593220 | 159 | CAPRIN1:159|CAT:159|LMO2:159 |\n",
       "| chr11:33072412-33072630 |  0.10643558 | 0.35299267 | -0.1982723 |  36 | CAPRIN1:36|CAT:36|LMO2:36    |\n",
       "\n"
      ],
      "text/plain": [
       "  Peak                    Mean        Mean_Pos   Mean_Neg   Count\n",
       "1 chr11:33065336-33066228 -0.08308383 0.03675483 -0.2734393 138  \n",
       "2 chr11:33068519-33069100 -0.12006903 0.00000000 -0.1593220 159  \n",
       "3 chr11:33072412-33072630  0.10643558 0.35299267 -0.1982723  36  \n",
       "  Note                        \n",
       "1 CAPRIN1:138|CAT:138|LMO2:138\n",
       "2 CAPRIN1:159|CAT:159|LMO2:159\n",
       "3 CAPRIN1:36|CAT:36|LMO2:36   "
      ]
     },
     "metadata": {},
     "output_type": "display_data"
    }
   ],
   "source": [
    "dat = dat_peak_score_summary_crispri_hcrff\n",
    "res = table(dat$Count)\n",
    "\n",
    "print(dim(dat))\n",
    "print(head(res))\n",
    "print(tail(res))\n",
    "head(dat, 3)"
   ]
  },
  {
   "cell_type": "code",
   "execution_count": 57,
   "id": "76c6c878-3dc0-49bd-a2dc-edcae197c0e6",
   "metadata": {},
   "outputs": [
    {
     "name": "stdout",
     "output_type": "stream",
     "text": [
      "[1] 1301    6\n",
      "\n",
      " 5  6  7  8  9 10 \n",
      " 9 13  9 12 12 13 \n"
     ]
    },
    {
     "data": {
      "text/html": [
       "<table class=\"dataframe\">\n",
       "<caption>A tibble: 3 × 6</caption>\n",
       "<thead>\n",
       "\t<tr><th scope=col>Peak</th><th scope=col>Mean</th><th scope=col>Mean_Pos</th><th scope=col>Mean_Neg</th><th scope=col>Count</th><th scope=col>Note</th></tr>\n",
       "\t<tr><th scope=col>&lt;chr&gt;</th><th scope=col>&lt;dbl&gt;</th><th scope=col>&lt;dbl&gt;</th><th scope=col>&lt;dbl&gt;</th><th scope=col>&lt;dbl&gt;</th><th scope=col>&lt;chr&gt;</th></tr>\n",
       "</thead>\n",
       "<tbody>\n",
       "\t<tr><td>chr11:33065336-33066228</td><td>-0.08308383</td><td>0.03675483</td><td>-0.2734393</td><td>138</td><td>CAPRIN1:138|CAT:138|LMO2:138</td></tr>\n",
       "\t<tr><td>chr11:33068519-33069100</td><td>-0.12006903</td><td>0.00000000</td><td>-0.1593220</td><td>159</td><td>CAPRIN1:159|CAT:159|LMO2:159</td></tr>\n",
       "\t<tr><td>chr11:33072412-33072630</td><td> 0.10643558</td><td>0.35299267</td><td>-0.1982723</td><td> 36</td><td>CAPRIN1:36|CAT:36|LMO2:36   </td></tr>\n",
       "</tbody>\n",
       "</table>\n"
      ],
      "text/latex": [
       "A tibble: 3 × 6\n",
       "\\begin{tabular}{llllll}\n",
       " Peak & Mean & Mean\\_Pos & Mean\\_Neg & Count & Note\\\\\n",
       " <chr> & <dbl> & <dbl> & <dbl> & <dbl> & <chr>\\\\\n",
       "\\hline\n",
       "\t chr11:33065336-33066228 & -0.08308383 & 0.03675483 & -0.2734393 & 138 & CAPRIN1:138\\textbar{}CAT:138\\textbar{}LMO2:138\\\\\n",
       "\t chr11:33068519-33069100 & -0.12006903 & 0.00000000 & -0.1593220 & 159 & CAPRIN1:159\\textbar{}CAT:159\\textbar{}LMO2:159\\\\\n",
       "\t chr11:33072412-33072630 &  0.10643558 & 0.35299267 & -0.1982723 &  36 & CAPRIN1:36\\textbar{}CAT:36\\textbar{}LMO2:36   \\\\\n",
       "\\end{tabular}\n"
      ],
      "text/markdown": [
       "\n",
       "A tibble: 3 × 6\n",
       "\n",
       "| Peak &lt;chr&gt; | Mean &lt;dbl&gt; | Mean_Pos &lt;dbl&gt; | Mean_Neg &lt;dbl&gt; | Count &lt;dbl&gt; | Note &lt;chr&gt; |\n",
       "|---|---|---|---|---|---|\n",
       "| chr11:33065336-33066228 | -0.08308383 | 0.03675483 | -0.2734393 | 138 | CAPRIN1:138|CAT:138|LMO2:138 |\n",
       "| chr11:33068519-33069100 | -0.12006903 | 0.00000000 | -0.1593220 | 159 | CAPRIN1:159|CAT:159|LMO2:159 |\n",
       "| chr11:33072412-33072630 |  0.10643558 | 0.35299267 | -0.1982723 |  36 | CAPRIN1:36|CAT:36|LMO2:36    |\n",
       "\n"
      ],
      "text/plain": [
       "  Peak                    Mean        Mean_Pos   Mean_Neg   Count\n",
       "1 chr11:33065336-33066228 -0.08308383 0.03675483 -0.2734393 138  \n",
       "2 chr11:33068519-33069100 -0.12006903 0.00000000 -0.1593220 159  \n",
       "3 chr11:33072412-33072630  0.10643558 0.35299267 -0.1982723  36  \n",
       "  Note                        \n",
       "1 CAPRIN1:138|CAT:138|LMO2:138\n",
       "2 CAPRIN1:159|CAT:159|LMO2:159\n",
       "3 CAPRIN1:36|CAT:36|LMO2:36   "
      ]
     },
     "metadata": {},
     "output_type": "display_data"
    }
   ],
   "source": [
    "dat = dat_peak_score_summary_crispri_hcrff\n",
    "dat = dat %>% dplyr::filter(Count >= 3)\n",
    "res = table(dat$Count)\n",
    "\n",
    "dat_peak_score_summary_crispri_hcrff_filter = dat\n",
    "print(dim(dat))\n",
    "print(head(res))\n",
    "head(dat, 3)"
   ]
  },
  {
   "cell_type": "code",
   "execution_count": 89,
   "id": "c890f4f7-288c-4355-a170-f134967cd2c0",
   "metadata": {},
   "outputs": [
    {
     "name": "stdout",
     "output_type": "stream",
     "text": [
      "vec\n",
      " 6  8  9 10 12 14 \n",
      " 4  2  2  4  2  6 \n",
      "[1] 2482    3\n"
     ]
    },
    {
     "data": {
      "text/html": [
       "<table class=\"dataframe\">\n",
       "<caption>A data.frame: 6 × 3</caption>\n",
       "<thead>\n",
       "\t<tr><th></th><th scope=col>Peak</th><th scope=col>Group</th><th scope=col>Score</th></tr>\n",
       "\t<tr><th></th><th scope=col>&lt;fct&gt;</th><th scope=col>&lt;chr&gt;</th><th scope=col>&lt;dbl&gt;</th></tr>\n",
       "</thead>\n",
       "<tbody>\n",
       "\t<tr><th scope=row>1</th><td>chrX:48996933-48997220  </td><td>Mean_Pos</td><td>0.00000000</td></tr>\n",
       "\t<tr><th scope=row>2</th><td>chr20:56703281-56703575 </td><td>Mean_Pos</td><td>0.00000000</td></tr>\n",
       "\t<tr><th scope=row>3</th><td>chr8:128527915-128528670</td><td>Mean_Pos</td><td>0.08696992</td></tr>\n",
       "\t<tr><th scope=row>4</th><td>chr20:56716655-56717126 </td><td>Mean_Pos</td><td>0.00000000</td></tr>\n",
       "\t<tr><th scope=row>5</th><td>chr11:33818437-33819007 </td><td>Mean_Pos</td><td>0.08456256</td></tr>\n",
       "\t<tr><th scope=row>6</th><td>chr16:892329-892989     </td><td>Mean_Pos</td><td>0.00000000</td></tr>\n",
       "</tbody>\n",
       "</table>\n"
      ],
      "text/latex": [
       "A data.frame: 6 × 3\n",
       "\\begin{tabular}{r|lll}\n",
       "  & Peak & Group & Score\\\\\n",
       "  & <fct> & <chr> & <dbl>\\\\\n",
       "\\hline\n",
       "\t1 & chrX:48996933-48997220   & Mean\\_Pos & 0.00000000\\\\\n",
       "\t2 & chr20:56703281-56703575  & Mean\\_Pos & 0.00000000\\\\\n",
       "\t3 & chr8:128527915-128528670 & Mean\\_Pos & 0.08696992\\\\\n",
       "\t4 & chr20:56716655-56717126  & Mean\\_Pos & 0.00000000\\\\\n",
       "\t5 & chr11:33818437-33819007  & Mean\\_Pos & 0.08456256\\\\\n",
       "\t6 & chr16:892329-892989      & Mean\\_Pos & 0.00000000\\\\\n",
       "\\end{tabular}\n"
      ],
      "text/markdown": [
       "\n",
       "A data.frame: 6 × 3\n",
       "\n",
       "| <!--/--> | Peak &lt;fct&gt; | Group &lt;chr&gt; | Score &lt;dbl&gt; |\n",
       "|---|---|---|---|\n",
       "| 1 | chrX:48996933-48997220   | Mean_Pos | 0.00000000 |\n",
       "| 2 | chr20:56703281-56703575  | Mean_Pos | 0.00000000 |\n",
       "| 3 | chr8:128527915-128528670 | Mean_Pos | 0.08696992 |\n",
       "| 4 | chr20:56716655-56717126  | Mean_Pos | 0.00000000 |\n",
       "| 5 | chr11:33818437-33819007  | Mean_Pos | 0.08456256 |\n",
       "| 6 | chr16:892329-892989      | Mean_Pos | 0.00000000 |\n",
       "\n"
      ],
      "text/plain": [
       "  Peak                     Group    Score     \n",
       "1 chrX:48996933-48997220   Mean_Pos 0.00000000\n",
       "2 chr20:56703281-56703575  Mean_Pos 0.00000000\n",
       "3 chr8:128527915-128528670 Mean_Pos 0.08696992\n",
       "4 chr20:56716655-56717126  Mean_Pos 0.00000000\n",
       "5 chr11:33818437-33819007  Mean_Pos 0.08456256\n",
       "6 chr16:892329-892989      Mean_Pos 0.00000000"
      ]
     },
     "metadata": {},
     "output_type": "display_data"
    }
   ],
   "source": [
    "dat = data.frame(Peak = VEC_TXT_PEAK)\n",
    "dat = dplyr::left_join(\n",
    "    dat,\n",
    "    dat_peak_score_summary_crispri_hcrff_filter,\n",
    "    by=\"Peak\"\n",
    ")\n",
    "\n",
    "dat = dat %>% \n",
    "    dplyr::select(Peak, Mean_Pos, Mean_Neg) %>%\n",
    "    tidyr::gather(Group, Score, -Peak) %>%\n",
    "    dplyr::mutate(Peak = factor(Peak,  levels=VEC_TXT_PEAK)) %>%\n",
    "    replace(is.na(.), 0)\n",
    "\n",
    "dat_score_crispri_hcrff = dat\n",
    "print(head(res))\n",
    "print(dim(dat))\n",
    "head(dat)"
   ]
  },
  {
   "cell_type": "code",
   "execution_count": 90,
   "id": "94fe9a38-62f0-40f2-bc01-92df1d1af767",
   "metadata": {},
   "outputs": [
    {
     "data": {
      "image/png": "[encoded data removed]",
      "text/plain": [
       "plot without title"
      ]
     },
     "metadata": {
      "image/png": {
       "height": 180,
       "width": 900
      }
     },
     "output_type": "display_data"
    }
   ],
   "source": [
    "theme_fill = scale_fill_manual(\n",
    "    values = c(\n",
    "        \"Mean_Pos\"=\"#e31a1c\", \n",
    "        \"Mean_Neg\"=\"#1f78b4\")\n",
    ")\n",
    "\n",
    "theme_text = theme(\n",
    "    axis.ticks.x = element_blank(),\n",
    "    axis.text.x  = element_blank(),\n",
    "    axis.text.y  = element_text(size = 15),\n",
    "    axis.title.x = element_blank(),\n",
    "    axis.title.y = element_blank(),\n",
    "    plot.title = element_text(face = \"plain\", size = 17)\n",
    "    #axis.title.y = element_text(size = 15)\n",
    ")\n",
    "\n",
    "theme_legend = theme(legend.position = \"none\")\n",
    "\n",
    "dat = dat_score_crispri_hcrff\n",
    "\n",
    "gpt = ggplot(dat, aes(x=Peak, y=Score, fill=Group)) + \n",
    "    #geom_bar(stat=\"identity\", position=\"identity\") + \n",
    "    geom_col(width=2, position=\"identity\") + \n",
    "    labs(title = \"CRISPRi-HCRFF\") +\n",
    "    theme_cowplot() + \n",
    "    theme_text +\n",
    "    theme_fill +\n",
    "    theme_legend\n",
    "\n",
    "gpt_score_crispri_hcrff = gpt\n",
    "\n",
    "options(repr.plot.height=3, repr.plot.width=15)\n",
    "print(gpt)"
   ]
  },
  {
   "cell_type": "markdown",
   "id": "cae6d909-5bf5-414c-a32c-abacf7f79de4",
   "metadata": {},
   "source": [
    "## Plot: CRISPRi-Growth"
   ]
  },
  {
   "cell_type": "code",
   "execution_count": 91,
   "id": "def67bee-acff-4626-9d0d-30c5d2384f86",
   "metadata": {},
   "outputs": [
    {
     "name": "stdout",
     "output_type": "stream",
     "text": [
      "[1] 80288     8\n",
      "\n",
      "   1    2    3    4    5    6 \n",
      " 536  620  808  946 1199 1566 \n",
      "\n",
      "42 47 48 49 50 69 \n",
      " 1  1  1  1  2  1 \n"
     ]
    },
    {
     "data": {
      "text/html": [
       "<table class=\"dataframe\">\n",
       "<caption>A tibble: 3 × 8</caption>\n",
       "<thead>\n",
       "\t<tr><th scope=col>Peak</th><th scope=col>Mean</th><th scope=col>Median</th><th scope=col>Max</th><th scope=col>Min</th><th scope=col>Count</th><th scope=col>Mean_Neg</th><th scope=col>Mean_Pos</th></tr>\n",
       "\t<tr><th scope=col>&lt;chr&gt;</th><th scope=col>&lt;dbl&gt;</th><th scope=col>&lt;dbl&gt;</th><th scope=col>&lt;dbl&gt;</th><th scope=col>&lt;dbl&gt;</th><th scope=col>&lt;dbl&gt;</th><th scope=col>&lt;dbl&gt;</th><th scope=col>&lt;dbl&gt;</th></tr>\n",
       "</thead>\n",
       "<tbody>\n",
       "\t<tr><td>chr10:100009096-100010466</td><td>-0.0378617</td><td> 0.0303830</td><td>0.526902</td><td>-0.655965</td><td>10</td><td>-0.3840866</td><td>0.3083632</td></tr>\n",
       "\t<tr><td>chr10:100045961-100046653</td><td> 0.1087357</td><td> 0.1820295</td><td>0.646953</td><td>-0.497578</td><td>10</td><td>-0.2750008</td><td>0.3645600</td></tr>\n",
       "\t<tr><td>chr10:100065094-100065486</td><td>-0.0032373</td><td>-0.0931995</td><td>1.305380</td><td>-0.677550</td><td>10</td><td>-0.3639722</td><td>0.5378650</td></tr>\n",
       "</tbody>\n",
       "</table>\n"
      ],
      "text/latex": [
       "A tibble: 3 × 8\n",
       "\\begin{tabular}{llllllll}\n",
       " Peak & Mean & Median & Max & Min & Count & Mean\\_Neg & Mean\\_Pos\\\\\n",
       " <chr> & <dbl> & <dbl> & <dbl> & <dbl> & <dbl> & <dbl> & <dbl>\\\\\n",
       "\\hline\n",
       "\t chr10:100009096-100010466 & -0.0378617 &  0.0303830 & 0.526902 & -0.655965 & 10 & -0.3840866 & 0.3083632\\\\\n",
       "\t chr10:100045961-100046653 &  0.1087357 &  0.1820295 & 0.646953 & -0.497578 & 10 & -0.2750008 & 0.3645600\\\\\n",
       "\t chr10:100065094-100065486 & -0.0032373 & -0.0931995 & 1.305380 & -0.677550 & 10 & -0.3639722 & 0.5378650\\\\\n",
       "\\end{tabular}\n"
      ],
      "text/markdown": [
       "\n",
       "A tibble: 3 × 8\n",
       "\n",
       "| Peak &lt;chr&gt; | Mean &lt;dbl&gt; | Median &lt;dbl&gt; | Max &lt;dbl&gt; | Min &lt;dbl&gt; | Count &lt;dbl&gt; | Mean_Neg &lt;dbl&gt; | Mean_Pos &lt;dbl&gt; |\n",
       "|---|---|---|---|---|---|---|---|\n",
       "| chr10:100009096-100010466 | -0.0378617 |  0.0303830 | 0.526902 | -0.655965 | 10 | -0.3840866 | 0.3083632 |\n",
       "| chr10:100045961-100046653 |  0.1087357 |  0.1820295 | 0.646953 | -0.497578 | 10 | -0.2750008 | 0.3645600 |\n",
       "| chr10:100065094-100065486 | -0.0032373 | -0.0931995 | 1.305380 | -0.677550 | 10 | -0.3639722 | 0.5378650 |\n",
       "\n"
      ],
      "text/plain": [
       "  Peak                      Mean       Median     Max      Min       Count\n",
       "1 chr10:100009096-100010466 -0.0378617  0.0303830 0.526902 -0.655965 10   \n",
       "2 chr10:100045961-100046653  0.1087357  0.1820295 0.646953 -0.497578 10   \n",
       "3 chr10:100065094-100065486 -0.0032373 -0.0931995 1.305380 -0.677550 10   \n",
       "  Mean_Neg   Mean_Pos \n",
       "1 -0.3840866 0.3083632\n",
       "2 -0.2750008 0.3645600\n",
       "3 -0.3639722 0.5378650"
      ]
     },
     "metadata": {},
     "output_type": "display_data"
    }
   ],
   "source": [
    "dat = dat_peak_score_summary_crispri_growth\n",
    "res = table(dat$Count)\n",
    "\n",
    "print(dim(dat))\n",
    "print(head(res))\n",
    "print(tail(res))\n",
    "head(dat, 3)"
   ]
  },
  {
   "cell_type": "code",
   "execution_count": 92,
   "id": "d916cea1-14cd-45e1-8866-162c6c695771",
   "metadata": {},
   "outputs": [
    {
     "name": "stdout",
     "output_type": "stream",
     "text": [
      "[1] 77378     8\n",
      "\n",
      "    5     6     7     8     9    10 \n",
      " 1199  1566  1927  2946  7620 54280 \n"
     ]
    },
    {
     "data": {
      "text/html": [
       "<table class=\"dataframe\">\n",
       "<caption>A tibble: 3 × 8</caption>\n",
       "<thead>\n",
       "\t<tr><th scope=col>Peak</th><th scope=col>Mean</th><th scope=col>Median</th><th scope=col>Max</th><th scope=col>Min</th><th scope=col>Count</th><th scope=col>Mean_Neg</th><th scope=col>Mean_Pos</th></tr>\n",
       "\t<tr><th scope=col>&lt;chr&gt;</th><th scope=col>&lt;dbl&gt;</th><th scope=col>&lt;dbl&gt;</th><th scope=col>&lt;dbl&gt;</th><th scope=col>&lt;dbl&gt;</th><th scope=col>&lt;dbl&gt;</th><th scope=col>&lt;dbl&gt;</th><th scope=col>&lt;dbl&gt;</th></tr>\n",
       "</thead>\n",
       "<tbody>\n",
       "\t<tr><td>chr10:100009096-100010466</td><td>-0.0378617</td><td> 0.0303830</td><td>0.526902</td><td>-0.655965</td><td>10</td><td>-0.3840866</td><td>0.3083632</td></tr>\n",
       "\t<tr><td>chr10:100045961-100046653</td><td> 0.1087357</td><td> 0.1820295</td><td>0.646953</td><td>-0.497578</td><td>10</td><td>-0.2750008</td><td>0.3645600</td></tr>\n",
       "\t<tr><td>chr10:100065094-100065486</td><td>-0.0032373</td><td>-0.0931995</td><td>1.305380</td><td>-0.677550</td><td>10</td><td>-0.3639722</td><td>0.5378650</td></tr>\n",
       "</tbody>\n",
       "</table>\n"
      ],
      "text/latex": [
       "A tibble: 3 × 8\n",
       "\\begin{tabular}{llllllll}\n",
       " Peak & Mean & Median & Max & Min & Count & Mean\\_Neg & Mean\\_Pos\\\\\n",
       " <chr> & <dbl> & <dbl> & <dbl> & <dbl> & <dbl> & <dbl> & <dbl>\\\\\n",
       "\\hline\n",
       "\t chr10:100009096-100010466 & -0.0378617 &  0.0303830 & 0.526902 & -0.655965 & 10 & -0.3840866 & 0.3083632\\\\\n",
       "\t chr10:100045961-100046653 &  0.1087357 &  0.1820295 & 0.646953 & -0.497578 & 10 & -0.2750008 & 0.3645600\\\\\n",
       "\t chr10:100065094-100065486 & -0.0032373 & -0.0931995 & 1.305380 & -0.677550 & 10 & -0.3639722 & 0.5378650\\\\\n",
       "\\end{tabular}\n"
      ],
      "text/markdown": [
       "\n",
       "A tibble: 3 × 8\n",
       "\n",
       "| Peak &lt;chr&gt; | Mean &lt;dbl&gt; | Median &lt;dbl&gt; | Max &lt;dbl&gt; | Min &lt;dbl&gt; | Count &lt;dbl&gt; | Mean_Neg &lt;dbl&gt; | Mean_Pos &lt;dbl&gt; |\n",
       "|---|---|---|---|---|---|---|---|\n",
       "| chr10:100009096-100010466 | -0.0378617 |  0.0303830 | 0.526902 | -0.655965 | 10 | -0.3840866 | 0.3083632 |\n",
       "| chr10:100045961-100046653 |  0.1087357 |  0.1820295 | 0.646953 | -0.497578 | 10 | -0.2750008 | 0.3645600 |\n",
       "| chr10:100065094-100065486 | -0.0032373 | -0.0931995 | 1.305380 | -0.677550 | 10 | -0.3639722 | 0.5378650 |\n",
       "\n"
      ],
      "text/plain": [
       "  Peak                      Mean       Median     Max      Min       Count\n",
       "1 chr10:100009096-100010466 -0.0378617  0.0303830 0.526902 -0.655965 10   \n",
       "2 chr10:100045961-100046653  0.1087357  0.1820295 0.646953 -0.497578 10   \n",
       "3 chr10:100065094-100065486 -0.0032373 -0.0931995 1.305380 -0.677550 10   \n",
       "  Mean_Neg   Mean_Pos \n",
       "1 -0.3840866 0.3083632\n",
       "2 -0.2750008 0.3645600\n",
       "3 -0.3639722 0.5378650"
      ]
     },
     "metadata": {},
     "output_type": "display_data"
    }
   ],
   "source": [
    "dat = dat_peak_score_summary_crispri_growth\n",
    "dat = dat %>% dplyr::filter(Count >= 5)\n",
    "res = table(dat$Count)\n",
    "\n",
    "dat_peak_score_summary_crispri_growth_filter = dat\n",
    "print(dim(dat))\n",
    "print(head(res))\n",
    "head(dat, 3)"
   ]
  },
  {
   "cell_type": "code",
   "execution_count": 93,
   "id": "fd0670fe-a7a4-4622-bd48-2bc8fee96cc4",
   "metadata": {},
   "outputs": [
    {
     "name": "stdout",
     "output_type": "stream",
     "text": [
      "[1] 1241    3\n"
     ]
    },
    {
     "data": {
      "text/html": [
       "<table class=\"dataframe\">\n",
       "<caption>A data.frame: 6 × 3</caption>\n",
       "<thead>\n",
       "\t<tr><th></th><th scope=col>Peak</th><th scope=col>Group</th><th scope=col>Score</th></tr>\n",
       "\t<tr><th></th><th scope=col>&lt;fct&gt;</th><th scope=col>&lt;chr&gt;</th><th scope=col>&lt;dbl&gt;</th></tr>\n",
       "</thead>\n",
       "<tbody>\n",
       "\t<tr><th scope=row>1</th><td>chrX:48996933-48997220  </td><td>Mean</td><td> 0.1123736</td></tr>\n",
       "\t<tr><th scope=row>2</th><td>chr20:56703281-56703575 </td><td>Mean</td><td> 0.0000000</td></tr>\n",
       "\t<tr><th scope=row>3</th><td>chr8:128527915-128528670</td><td>Mean</td><td> 0.0000000</td></tr>\n",
       "\t<tr><th scope=row>4</th><td>chr20:56716655-56717126 </td><td>Mean</td><td> 0.0000000</td></tr>\n",
       "\t<tr><th scope=row>5</th><td>chr11:33818437-33819007 </td><td>Mean</td><td> 0.0000000</td></tr>\n",
       "\t<tr><th scope=row>6</th><td>chr16:892329-892989     </td><td>Mean</td><td>-0.1562426</td></tr>\n",
       "</tbody>\n",
       "</table>\n"
      ],
      "text/latex": [
       "A data.frame: 6 × 3\n",
       "\\begin{tabular}{r|lll}\n",
       "  & Peak & Group & Score\\\\\n",
       "  & <fct> & <chr> & <dbl>\\\\\n",
       "\\hline\n",
       "\t1 & chrX:48996933-48997220   & Mean &  0.1123736\\\\\n",
       "\t2 & chr20:56703281-56703575  & Mean &  0.0000000\\\\\n",
       "\t3 & chr8:128527915-128528670 & Mean &  0.0000000\\\\\n",
       "\t4 & chr20:56716655-56717126  & Mean &  0.0000000\\\\\n",
       "\t5 & chr11:33818437-33819007  & Mean &  0.0000000\\\\\n",
       "\t6 & chr16:892329-892989      & Mean & -0.1562426\\\\\n",
       "\\end{tabular}\n"
      ],
      "text/markdown": [
       "\n",
       "A data.frame: 6 × 3\n",
       "\n",
       "| <!--/--> | Peak &lt;fct&gt; | Group &lt;chr&gt; | Score &lt;dbl&gt; |\n",
       "|---|---|---|---|\n",
       "| 1 | chrX:48996933-48997220   | Mean |  0.1123736 |\n",
       "| 2 | chr20:56703281-56703575  | Mean |  0.0000000 |\n",
       "| 3 | chr8:128527915-128528670 | Mean |  0.0000000 |\n",
       "| 4 | chr20:56716655-56717126  | Mean |  0.0000000 |\n",
       "| 5 | chr11:33818437-33819007  | Mean |  0.0000000 |\n",
       "| 6 | chr16:892329-892989      | Mean | -0.1562426 |\n",
       "\n"
      ],
      "text/plain": [
       "  Peak                     Group Score     \n",
       "1 chrX:48996933-48997220   Mean   0.1123736\n",
       "2 chr20:56703281-56703575  Mean   0.0000000\n",
       "3 chr8:128527915-128528670 Mean   0.0000000\n",
       "4 chr20:56716655-56717126  Mean   0.0000000\n",
       "5 chr11:33818437-33819007  Mean   0.0000000\n",
       "6 chr16:892329-892989      Mean  -0.1562426"
      ]
     },
     "metadata": {},
     "output_type": "display_data"
    }
   ],
   "source": [
    "dat = data.frame(Peak = VEC_TXT_PEAK)\n",
    "dat = dplyr::left_join(\n",
    "    dat,\n",
    "    dat_peak_score_summary_crispri_growth_filter,\n",
    "    by=\"Peak\"\n",
    ")\n",
    "dat = dat %>% \n",
    "    dplyr::select(Peak, Mean) %>%\n",
    "    tidyr::gather(Group, Score, -Peak) %>%\n",
    "    dplyr::mutate(Peak = factor(Peak,  levels=VEC_TXT_PEAK)) %>%\n",
    "    replace(is.na(.), 0)\n",
    "\n",
    "dat_score_crispri_growth = dat\n",
    "print(dim(dat))\n",
    "head(dat)"
   ]
  },
  {
   "cell_type": "code",
   "execution_count": 94,
   "id": "8b48ce8c-9e9a-4333-86e1-b7c890353787",
   "metadata": {},
   "outputs": [
    {
     "data": {
      "image/png": "[encoded data removed]",
      "text/plain": [
       "plot without title"
      ]
     },
     "metadata": {
      "image/png": {
       "height": 180,
       "width": 900
      }
     },
     "output_type": "display_data"
    }
   ],
   "source": [
    "theme_text = theme(\n",
    "    axis.ticks.x = element_blank(),\n",
    "    axis.text.x  = element_blank(),\n",
    "    axis.text.y  = element_text(size = 15),\n",
    "    axis.title.x = element_blank(),\n",
    "    axis.title.y = element_blank(),\n",
    "    plot.title = element_text(face = \"plain\", size = 17)\n",
    "    #axis.title.y = element_text(size = 15)\n",
    ")\n",
    "\n",
    "theme_legend = theme(legend.position = \"none\")\n",
    "\n",
    "dat = dat_score_crispri_growth\n",
    "\n",
    "gpt = ggplot(dat, aes(x=Peak, y=Score)) + \n",
    "    geom_col(width=2, position=\"identity\") +\n",
    "    labs(title = \"CRISPRi-Growth\") +\n",
    "    theme_cowplot() + \n",
    "    theme_text +\n",
    "    theme_legend\n",
    "\n",
    "gpt_score_crispri_growth = gpt\n",
    "\n",
    "options(repr.plot.height=3, repr.plot.width=15)\n",
    "print(gpt)"
   ]
  },
  {
   "cell_type": "markdown",
   "id": "cf040941-57be-4643-95cf-1adbefd06734",
   "metadata": {},
   "source": [
    "## Plot: STARR/MPRA + ATAC"
   ]
  },
  {
   "cell_type": "code",
   "execution_count": 95,
   "id": "201d0c45-031d-4326-99c8-c8a17adb0940",
   "metadata": {},
   "outputs": [
    {
     "data": {
      "text/html": [
       "<table class=\"dataframe\">\n",
       "<caption>A tibble: 3 × 7</caption>\n",
       "<thead>\n",
       "\t<tr><th scope=col>Chrom</th><th scope=col>Start</th><th scope=col>End</th><th scope=col>Peak</th><th scope=col>Score</th><th scope=col>Assay_Type</th><th scope=col>Assay_Label</th></tr>\n",
       "\t<tr><th scope=col>&lt;chr&gt;</th><th scope=col>&lt;dbl&gt;</th><th scope=col>&lt;dbl&gt;</th><th scope=col>&lt;chr&gt;</th><th scope=col>&lt;dbl&gt;</th><th scope=col>&lt;chr&gt;</th><th scope=col>&lt;chr&gt;</th></tr>\n",
       "</thead>\n",
       "<tbody>\n",
       "\t<tr><td>chr1</td><td>10015</td><td>10442</td><td>chr1:10015-10442</td><td>1.1389501</td><td>ATAC</td><td>ATAC_Q3</td></tr>\n",
       "\t<tr><td>chr1</td><td>14253</td><td>14645</td><td>chr1:14253-14645</td><td>0.8042019</td><td>ATAC</td><td>ATAC_Q3</td></tr>\n",
       "\t<tr><td>chr1</td><td>16015</td><td>16477</td><td>chr1:16015-16477</td><td>0.9440313</td><td>ATAC</td><td>ATAC_Q3</td></tr>\n",
       "</tbody>\n",
       "</table>\n"
      ],
      "text/latex": [
       "A tibble: 3 × 7\n",
       "\\begin{tabular}{lllllll}\n",
       " Chrom & Start & End & Peak & Score & Assay\\_Type & Assay\\_Label\\\\\n",
       " <chr> & <dbl> & <dbl> & <chr> & <dbl> & <chr> & <chr>\\\\\n",
       "\\hline\n",
       "\t chr1 & 10015 & 10442 & chr1:10015-10442 & 1.1389501 & ATAC & ATAC\\_Q3\\\\\n",
       "\t chr1 & 14253 & 14645 & chr1:14253-14645 & 0.8042019 & ATAC & ATAC\\_Q3\\\\\n",
       "\t chr1 & 16015 & 16477 & chr1:16015-16477 & 0.9440313 & ATAC & ATAC\\_Q3\\\\\n",
       "\\end{tabular}\n"
      ],
      "text/markdown": [
       "\n",
       "A tibble: 3 × 7\n",
       "\n",
       "| Chrom &lt;chr&gt; | Start &lt;dbl&gt; | End &lt;dbl&gt; | Peak &lt;chr&gt; | Score &lt;dbl&gt; | Assay_Type &lt;chr&gt; | Assay_Label &lt;chr&gt; |\n",
       "|---|---|---|---|---|---|---|\n",
       "| chr1 | 10015 | 10442 | chr1:10015-10442 | 1.1389501 | ATAC | ATAC_Q3 |\n",
       "| chr1 | 14253 | 14645 | chr1:14253-14645 | 0.8042019 | ATAC | ATAC_Q3 |\n",
       "| chr1 | 16015 | 16477 | chr1:16015-16477 | 0.9440313 | ATAC | ATAC_Q3 |\n",
       "\n"
      ],
      "text/plain": [
       "  Chrom Start End   Peak             Score     Assay_Type Assay_Label\n",
       "1 chr1  10015 10442 chr1:10015-10442 1.1389501 ATAC       ATAC_Q3    \n",
       "2 chr1  14253 14645 chr1:14253-14645 0.8042019 ATAC       ATAC_Q3    \n",
       "3 chr1  16015 16477 chr1:16015-16477 0.9440313 ATAC       ATAC_Q3    "
      ]
     },
     "metadata": {},
     "output_type": "display_data"
    }
   ],
   "source": [
    "dat = dat_peak_score_atac\n",
    "head(dat, 3)"
   ]
  },
  {
   "cell_type": "code",
   "execution_count": 96,
   "id": "414f4d73-1868-4485-b4db-764e8bb2e185",
   "metadata": {},
   "outputs": [
    {
     "name": "stdout",
     "output_type": "stream",
     "text": [
      "[1] 1241    3\n"
     ]
    },
    {
     "data": {
      "text/html": [
       "<table class=\"dataframe\">\n",
       "<caption>A data.frame: 6 × 3</caption>\n",
       "<thead>\n",
       "\t<tr><th></th><th scope=col>Peak</th><th scope=col>Group</th><th scope=col>Score</th></tr>\n",
       "\t<tr><th></th><th scope=col>&lt;fct&gt;</th><th scope=col>&lt;chr&gt;</th><th scope=col>&lt;dbl&gt;</th></tr>\n",
       "</thead>\n",
       "<tbody>\n",
       "\t<tr><th scope=row>1</th><td>chrX:48996933-48997220  </td><td>Score</td><td>1.0878595</td></tr>\n",
       "\t<tr><th scope=row>2</th><td>chr20:56703281-56703575 </td><td>Score</td><td>0.5617701</td></tr>\n",
       "\t<tr><th scope=row>3</th><td>chr8:128527915-128528670</td><td>Score</td><td>0.6969228</td></tr>\n",
       "\t<tr><th scope=row>4</th><td>chr20:56716655-56717126 </td><td>Score</td><td>0.6336090</td></tr>\n",
       "\t<tr><th scope=row>5</th><td>chr11:33818437-33819007 </td><td>Score</td><td>0.6255499</td></tr>\n",
       "\t<tr><th scope=row>6</th><td>chr16:892329-892989     </td><td>Score</td><td>1.3727786</td></tr>\n",
       "</tbody>\n",
       "</table>\n"
      ],
      "text/latex": [
       "A data.frame: 6 × 3\n",
       "\\begin{tabular}{r|lll}\n",
       "  & Peak & Group & Score\\\\\n",
       "  & <fct> & <chr> & <dbl>\\\\\n",
       "\\hline\n",
       "\t1 & chrX:48996933-48997220   & Score & 1.0878595\\\\\n",
       "\t2 & chr20:56703281-56703575  & Score & 0.5617701\\\\\n",
       "\t3 & chr8:128527915-128528670 & Score & 0.6969228\\\\\n",
       "\t4 & chr20:56716655-56717126  & Score & 0.6336090\\\\\n",
       "\t5 & chr11:33818437-33819007  & Score & 0.6255499\\\\\n",
       "\t6 & chr16:892329-892989      & Score & 1.3727786\\\\\n",
       "\\end{tabular}\n"
      ],
      "text/markdown": [
       "\n",
       "A data.frame: 6 × 3\n",
       "\n",
       "| <!--/--> | Peak &lt;fct&gt; | Group &lt;chr&gt; | Score &lt;dbl&gt; |\n",
       "|---|---|---|---|\n",
       "| 1 | chrX:48996933-48997220   | Score | 1.0878595 |\n",
       "| 2 | chr20:56703281-56703575  | Score | 0.5617701 |\n",
       "| 3 | chr8:128527915-128528670 | Score | 0.6969228 |\n",
       "| 4 | chr20:56716655-56717126  | Score | 0.6336090 |\n",
       "| 5 | chr11:33818437-33819007  | Score | 0.6255499 |\n",
       "| 6 | chr16:892329-892989      | Score | 1.3727786 |\n",
       "\n"
      ],
      "text/plain": [
       "  Peak                     Group Score    \n",
       "1 chrX:48996933-48997220   Score 1.0878595\n",
       "2 chr20:56703281-56703575  Score 0.5617701\n",
       "3 chr8:128527915-128528670 Score 0.6969228\n",
       "4 chr20:56716655-56717126  Score 0.6336090\n",
       "5 chr11:33818437-33819007  Score 0.6255499\n",
       "6 chr16:892329-892989      Score 1.3727786"
      ]
     },
     "metadata": {},
     "output_type": "display_data"
    }
   ],
   "source": [
    "dat = data.frame(Peak = VEC_TXT_PEAK)\n",
    "dat = dplyr::left_join(\n",
    "    dat,\n",
    "    dat_peak_score_atac,\n",
    "    by=\"Peak\"\n",
    ")\n",
    "dat = dat %>% \n",
    "    dplyr::select(Peak, Score) %>%\n",
    "    tidyr::gather(Group, Score, -Peak) %>%\n",
    "    dplyr::mutate(Peak = factor(Peak,  levels=VEC_TXT_PEAK)) %>%\n",
    "    replace(is.na(.), 0)\n",
    "\n",
    "dat_score_atac = dat\n",
    "print(dim(dat))\n",
    "head(dat)"
   ]
  },
  {
   "cell_type": "code",
   "execution_count": 97,
   "id": "e4dd047c-5fd2-4b19-82a8-e0e5ce47e07c",
   "metadata": {},
   "outputs": [
    {
     "data": {
      "image/png": "[encoded data removed]",
      "text/plain": [
       "plot without title"
      ]
     },
     "metadata": {
      "image/png": {
       "height": 180,
       "width": 900
      }
     },
     "output_type": "display_data"
    }
   ],
   "source": [
    "theme_text = theme(\n",
    "    axis.ticks.x = element_blank(),\n",
    "    axis.text.x  = element_blank(),\n",
    "    axis.text.y  = element_text(size = 15),\n",
    "    axis.title.x = element_blank(),\n",
    "    axis.title.y = element_blank(),\n",
    "    plot.title = element_text(face = \"plain\", size = 17)\n",
    "    #axis.title.y = element_text(size = 15)\n",
    ")\n",
    "\n",
    "theme_legend = theme(legend.position = \"none\")\n",
    "\n",
    "dat = dat_score_atac\n",
    "\n",
    "gpt = ggplot(dat, aes(x=Peak, y=Score)) + \n",
    "    geom_col(width=2, position=\"identity\") +\n",
    "    labs(title = \"ATAC\") +\n",
    "    theme_cowplot() + \n",
    "    theme_text +\n",
    "    theme_legend\n",
    "\n",
    "gpt_score_atac = gpt\n",
    "\n",
    "options(repr.plot.height=3, repr.plot.width=15)\n",
    "print(gpt)"
   ]
  },
  {
   "cell_type": "code",
   "execution_count": null,
   "id": "89f0d2a2-f858-423c-bdba-75783f544fcb",
   "metadata": {},
   "outputs": [],
   "source": []
  },
  {
   "cell_type": "code",
   "execution_count": null,
   "id": "a6021263-6763-46cc-9630-96c8419251ee",
   "metadata": {},
   "outputs": [],
   "source": []
  },
  {
   "cell_type": "code",
   "execution_count": null,
   "id": "bb9c1b83-34fd-49ee-96ce-7e63d78f66c4",
   "metadata": {},
   "outputs": [],
   "source": []
  }
 ],
 "metadata": {
  "kernelspec": {
   "display_name": "R",
   "language": "R",
   "name": "ir"
  },
  "language_info": {
   "codemirror_mode": "r",
   "file_extension": ".r",
   "mimetype": "text/x-r-source",
   "name": "R",
   "pygments_lexer": "r",
   "version": "4.3.1"
  }
 },
 "nbformat": 4,
 "nbformat_minor": 5
}
