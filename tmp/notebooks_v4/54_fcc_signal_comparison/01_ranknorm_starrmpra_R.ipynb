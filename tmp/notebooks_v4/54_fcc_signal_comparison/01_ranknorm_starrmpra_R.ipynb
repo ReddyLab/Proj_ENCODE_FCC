{
 "cells": [
  {
   "cell_type": "markdown",
   "id": "89f1615a-a165-4be1-98b4-160ab1179f5a",
   "metadata": {},
   "source": [
    "**Set environment**"
   ]
  },
  {
   "cell_type": "code",
   "execution_count": 2,
   "id": "250550f4-5c17-4aec-a69f-eb2e532a1d9f",
   "metadata": {},
   "outputs": [
    {
     "name": "stdout",
     "output_type": "stream",
     "text": [
      "You are in Singularity: singularity_proj_encode_fcc \n",
      "BASE DIRECTORY (FD_BASE): /data/reddylab/Kuei \n",
      "WORK DIRECTORY (FD_WORK): /data/reddylab/Kuei/out \n",
      "CODE DIRECTORY (FD_CODE): /data/reddylab/Kuei/code \n",
      "PATH OF PROJECT (FD_PRJ): /data/reddylab/Kuei/code/Proj_CombEffect_ENCODE_FCC \n",
      "PATH OF RESULTS (FD_RES): /data/reddylab/Kuei/out/proj_combeffect_encode_fcc \n",
      "PATH OF LOG     (FD_LOG): /data/reddylab/Kuei/out/proj_combeffect_encode_fcc/log \n"
     ]
    }
   ],
   "source": [
    "suppressMessages(suppressWarnings(source(\"../config/config_sing.R\")))\n",
    "suppressMessages(suppressWarnings(source(\"../config/config_func.R\")))\n",
    "show_env()"
   ]
  },
  {
   "cell_type": "markdown",
   "id": "2c1e5332-5b33-4f33-93f0-acebcc5830f3",
   "metadata": {},
   "source": [
    "## Import data"
   ]
  },
  {
   "cell_type": "code",
   "execution_count": 28,
   "id": "3d8cafac-3952-4941-ac73-1c47bf28ced5",
   "metadata": {},
   "outputs": [
    {
     "name": "stdout",
     "output_type": "stream",
     "text": [
      "\n",
      "               ASTARR        CRISPRi-Growth         CRISPRi-HCRFF \n",
      "               246850                 80288                  1330 \n",
      " ENCODE-E2G_Benchmark ENCODE-E2G_Prediction                 LMPRA \n",
      "                 3007                 84129                 68420 \n",
      "                TMPRA                WSTARR \n",
      "                 1722                246688 \n",
      "[1] 732434      7\n"
     ]
    },
    {
     "data": {
      "text/html": [
       "<table class=\"dataframe\">\n",
       "<caption>A tibble: 6 × 7</caption>\n",
       "<thead>\n",
       "\t<tr><th scope=col>Chrom</th><th scope=col>Start</th><th scope=col>End</th><th scope=col>Peak</th><th scope=col>Score</th><th scope=col>Assay_Type</th><th scope=col>Assay_Label</th></tr>\n",
       "\t<tr><th scope=col>&lt;chr&gt;</th><th scope=col>&lt;dbl&gt;</th><th scope=col>&lt;dbl&gt;</th><th scope=col>&lt;chr&gt;</th><th scope=col>&lt;dbl&gt;</th><th scope=col>&lt;chr&gt;</th><th scope=col>&lt;chr&gt;</th></tr>\n",
       "</thead>\n",
       "<tbody>\n",
       "\t<tr><td>chr1</td><td>100006256</td><td>100006880</td><td>chr1:100006256-100006880</td><td>-0.01311792</td><td>ASTARR</td><td>ASTARR_T</td></tr>\n",
       "\t<tr><td>chr1</td><td>100010437</td><td>100010915</td><td>chr1:100010437-100010915</td><td>-0.80687947</td><td>ASTARR</td><td>ASTARR_T</td></tr>\n",
       "\t<tr><td>chr1</td><td> 10002087</td><td> 10003910</td><td>chr1:10002087-10003910  </td><td>-0.34892859</td><td>ASTARR</td><td>ASTARR_T</td></tr>\n",
       "\t<tr><td>chr1</td><td>100021298</td><td>100021629</td><td>chr1:100021298-100021629</td><td>-1.03799571</td><td>ASTARR</td><td>ASTARR_T</td></tr>\n",
       "\t<tr><td>chr1</td><td>100023727</td><td>100023976</td><td>chr1:100023727-100023976</td><td>-0.19100207</td><td>ASTARR</td><td>ASTARR_T</td></tr>\n",
       "\t<tr><td>chr1</td><td>100027983</td><td>100029702</td><td>chr1:100027983-100029702</td><td>-0.18001582</td><td>ASTARR</td><td>ASTARR_T</td></tr>\n",
       "</tbody>\n",
       "</table>\n"
      ],
      "text/latex": [
       "A tibble: 6 × 7\n",
       "\\begin{tabular}{lllllll}\n",
       " Chrom & Start & End & Peak & Score & Assay\\_Type & Assay\\_Label\\\\\n",
       " <chr> & <dbl> & <dbl> & <chr> & <dbl> & <chr> & <chr>\\\\\n",
       "\\hline\n",
       "\t chr1 & 100006256 & 100006880 & chr1:100006256-100006880 & -0.01311792 & ASTARR & ASTARR\\_T\\\\\n",
       "\t chr1 & 100010437 & 100010915 & chr1:100010437-100010915 & -0.80687947 & ASTARR & ASTARR\\_T\\\\\n",
       "\t chr1 &  10002087 &  10003910 & chr1:10002087-10003910   & -0.34892859 & ASTARR & ASTARR\\_T\\\\\n",
       "\t chr1 & 100021298 & 100021629 & chr1:100021298-100021629 & -1.03799571 & ASTARR & ASTARR\\_T\\\\\n",
       "\t chr1 & 100023727 & 100023976 & chr1:100023727-100023976 & -0.19100207 & ASTARR & ASTARR\\_T\\\\\n",
       "\t chr1 & 100027983 & 100029702 & chr1:100027983-100029702 & -0.18001582 & ASTARR & ASTARR\\_T\\\\\n",
       "\\end{tabular}\n"
      ],
      "text/markdown": [
       "\n",
       "A tibble: 6 × 7\n",
       "\n",
       "| Chrom &lt;chr&gt; | Start &lt;dbl&gt; | End &lt;dbl&gt; | Peak &lt;chr&gt; | Score &lt;dbl&gt; | Assay_Type &lt;chr&gt; | Assay_Label &lt;chr&gt; |\n",
       "|---|---|---|---|---|---|---|\n",
       "| chr1 | 100006256 | 100006880 | chr1:100006256-100006880 | -0.01311792 | ASTARR | ASTARR_T |\n",
       "| chr1 | 100010437 | 100010915 | chr1:100010437-100010915 | -0.80687947 | ASTARR | ASTARR_T |\n",
       "| chr1 |  10002087 |  10003910 | chr1:10002087-10003910   | -0.34892859 | ASTARR | ASTARR_T |\n",
       "| chr1 | 100021298 | 100021629 | chr1:100021298-100021629 | -1.03799571 | ASTARR | ASTARR_T |\n",
       "| chr1 | 100023727 | 100023976 | chr1:100023727-100023976 | -0.19100207 | ASTARR | ASTARR_T |\n",
       "| chr1 | 100027983 | 100029702 | chr1:100027983-100029702 | -0.18001582 | ASTARR | ASTARR_T |\n",
       "\n"
      ],
      "text/plain": [
       "  Chrom Start     End       Peak                     Score       Assay_Type\n",
       "1 chr1  100006256 100006880 chr1:100006256-100006880 -0.01311792 ASTARR    \n",
       "2 chr1  100010437 100010915 chr1:100010437-100010915 -0.80687947 ASTARR    \n",
       "3 chr1   10002087  10003910 chr1:10002087-10003910   -0.34892859 ASTARR    \n",
       "4 chr1  100021298 100021629 chr1:100021298-100021629 -1.03799571 ASTARR    \n",
       "5 chr1  100023727 100023976 chr1:100023727-100023976 -0.19100207 ASTARR    \n",
       "6 chr1  100027983 100029702 chr1:100027983-100029702 -0.18001582 ASTARR    \n",
       "  Assay_Label\n",
       "1 ASTARR_T   \n",
       "2 ASTARR_T   \n",
       "3 ASTARR_T   \n",
       "4 ASTARR_T   \n",
       "5 ASTARR_T   \n",
       "6 ASTARR_T   "
      ]
     },
     "metadata": {},
     "output_type": "display_data"
    }
   ],
   "source": [
    "### set file paths\n",
    "fdiry  = file.path(\n",
    "    FD_RES, \n",
    "    \"results\",\n",
    "    \"region\",\n",
    "    \"KS91_K562_ASTARRseq_peak_macs_input\",\n",
    "    \"summary\"\n",
    ")\n",
    "fname = paste(\"peak\", \"screened\", \"fcc\", \"total\", \"tsv\", sep = \".\")\n",
    "fpath = file.path(fdiry, fname)\n",
    "\n",
    "### read table\n",
    "dat = read_tsv(fpath, show_col_types = FALSE)\n",
    "\n",
    "###\n",
    "dat_peak_screened = dat\n",
    "print(table(dat$Assay_Type))\n",
    "print(dim(dat))\n",
    "head(dat)"
   ]
  },
  {
   "cell_type": "code",
   "execution_count": 6,
   "id": "76b5be67-a439-493b-aa6f-61e6602fdbb6",
   "metadata": {},
   "outputs": [
    {
     "name": "stdout",
     "output_type": "stream",
     "text": [
      "[1] 563680      8\n"
     ]
    },
    {
     "data": {
      "text/html": [
       "<table class=\"dataframe\">\n",
       "<caption>A tibble: 6 × 8</caption>\n",
       "<thead>\n",
       "\t<tr><th scope=col>Chrom</th><th scope=col>Start</th><th scope=col>End</th><th scope=col>Peak</th><th scope=col>Score</th><th scope=col>Assay_Type</th><th scope=col>Assay_Label</th><th scope=col>Assay</th></tr>\n",
       "\t<tr><th scope=col>&lt;chr&gt;</th><th scope=col>&lt;dbl&gt;</th><th scope=col>&lt;dbl&gt;</th><th scope=col>&lt;chr&gt;</th><th scope=col>&lt;dbl&gt;</th><th scope=col>&lt;chr&gt;</th><th scope=col>&lt;chr&gt;</th><th scope=col>&lt;chr&gt;</th></tr>\n",
       "</thead>\n",
       "<tbody>\n",
       "\t<tr><td>chr1</td><td>100006256</td><td>100006880</td><td>chr1:100006256-100006880</td><td>-0.01311792</td><td>ASTARR</td><td>ASTARR_T</td><td>ASTARR</td></tr>\n",
       "\t<tr><td>chr1</td><td>100010437</td><td>100010915</td><td>chr1:100010437-100010915</td><td>-0.80687947</td><td>ASTARR</td><td>ASTARR_T</td><td>ASTARR</td></tr>\n",
       "\t<tr><td>chr1</td><td> 10002087</td><td> 10003910</td><td>chr1:10002087-10003910  </td><td>-0.34892859</td><td>ASTARR</td><td>ASTARR_T</td><td>ASTARR</td></tr>\n",
       "\t<tr><td>chr1</td><td>100021298</td><td>100021629</td><td>chr1:100021298-100021629</td><td>-1.03799571</td><td>ASTARR</td><td>ASTARR_T</td><td>ASTARR</td></tr>\n",
       "\t<tr><td>chr1</td><td>100023727</td><td>100023976</td><td>chr1:100023727-100023976</td><td>-0.19100207</td><td>ASTARR</td><td>ASTARR_T</td><td>ASTARR</td></tr>\n",
       "\t<tr><td>chr1</td><td>100027983</td><td>100029702</td><td>chr1:100027983-100029702</td><td>-0.18001582</td><td>ASTARR</td><td>ASTARR_T</td><td>ASTARR</td></tr>\n",
       "</tbody>\n",
       "</table>\n"
      ],
      "text/latex": [
       "A tibble: 6 × 8\n",
       "\\begin{tabular}{llllllll}\n",
       " Chrom & Start & End & Peak & Score & Assay\\_Type & Assay\\_Label & Assay\\\\\n",
       " <chr> & <dbl> & <dbl> & <chr> & <dbl> & <chr> & <chr> & <chr>\\\\\n",
       "\\hline\n",
       "\t chr1 & 100006256 & 100006880 & chr1:100006256-100006880 & -0.01311792 & ASTARR & ASTARR\\_T & ASTARR\\\\\n",
       "\t chr1 & 100010437 & 100010915 & chr1:100010437-100010915 & -0.80687947 & ASTARR & ASTARR\\_T & ASTARR\\\\\n",
       "\t chr1 &  10002087 &  10003910 & chr1:10002087-10003910   & -0.34892859 & ASTARR & ASTARR\\_T & ASTARR\\\\\n",
       "\t chr1 & 100021298 & 100021629 & chr1:100021298-100021629 & -1.03799571 & ASTARR & ASTARR\\_T & ASTARR\\\\\n",
       "\t chr1 & 100023727 & 100023976 & chr1:100023727-100023976 & -0.19100207 & ASTARR & ASTARR\\_T & ASTARR\\\\\n",
       "\t chr1 & 100027983 & 100029702 & chr1:100027983-100029702 & -0.18001582 & ASTARR & ASTARR\\_T & ASTARR\\\\\n",
       "\\end{tabular}\n"
      ],
      "text/markdown": [
       "\n",
       "A tibble: 6 × 8\n",
       "\n",
       "| Chrom &lt;chr&gt; | Start &lt;dbl&gt; | End &lt;dbl&gt; | Peak &lt;chr&gt; | Score &lt;dbl&gt; | Assay_Type &lt;chr&gt; | Assay_Label &lt;chr&gt; | Assay &lt;chr&gt; |\n",
       "|---|---|---|---|---|---|---|---|\n",
       "| chr1 | 100006256 | 100006880 | chr1:100006256-100006880 | -0.01311792 | ASTARR | ASTARR_T | ASTARR |\n",
       "| chr1 | 100010437 | 100010915 | chr1:100010437-100010915 | -0.80687947 | ASTARR | ASTARR_T | ASTARR |\n",
       "| chr1 |  10002087 |  10003910 | chr1:10002087-10003910   | -0.34892859 | ASTARR | ASTARR_T | ASTARR |\n",
       "| chr1 | 100021298 | 100021629 | chr1:100021298-100021629 | -1.03799571 | ASTARR | ASTARR_T | ASTARR |\n",
       "| chr1 | 100023727 | 100023976 | chr1:100023727-100023976 | -0.19100207 | ASTARR | ASTARR_T | ASTARR |\n",
       "| chr1 | 100027983 | 100029702 | chr1:100027983-100029702 | -0.18001582 | ASTARR | ASTARR_T | ASTARR |\n",
       "\n"
      ],
      "text/plain": [
       "  Chrom Start     End       Peak                     Score       Assay_Type\n",
       "1 chr1  100006256 100006880 chr1:100006256-100006880 -0.01311792 ASTARR    \n",
       "2 chr1  100010437 100010915 chr1:100010437-100010915 -0.80687947 ASTARR    \n",
       "3 chr1   10002087  10003910 chr1:10002087-10003910   -0.34892859 ASTARR    \n",
       "4 chr1  100021298 100021629 chr1:100021298-100021629 -1.03799571 ASTARR    \n",
       "5 chr1  100023727 100023976 chr1:100023727-100023976 -0.19100207 ASTARR    \n",
       "6 chr1  100027983 100029702 chr1:100027983-100029702 -0.18001582 ASTARR    \n",
       "  Assay_Label Assay \n",
       "1 ASTARR_T    ASTARR\n",
       "2 ASTARR_T    ASTARR\n",
       "3 ASTARR_T    ASTARR\n",
       "4 ASTARR_T    ASTARR\n",
       "5 ASTARR_T    ASTARR\n",
       "6 ASTARR_T    ASTARR"
      ]
     },
     "metadata": {},
     "output_type": "display_data"
    }
   ],
   "source": [
    "dat = dat_peak_screened\n",
    "vec = c(\"ASTARR\", \"WSTARR\", \"TMPRA\", \"LMPRA\")\n",
    "dat = dat %>% dplyr::filter(Assay_Type %in% vec) %>% dplyr::mutate(Assay = Assay_Type)\n",
    "\n",
    "dat_peak_screened_starrmpra = dat\n",
    "print(dim(dat))\n",
    "head(dat)"
   ]
  },
  {
   "cell_type": "markdown",
   "id": "921b9ef8-c56c-466c-8145-7e3e79e90517",
   "metadata": {},
   "source": [
    "## Arrange: convert data from tidy to wide"
   ]
  },
  {
   "cell_type": "code",
   "execution_count": 18,
   "id": "75bd8c25-665e-4e86-88c0-5144d0578fae",
   "metadata": {},
   "outputs": [
    {
     "name": "stdout",
     "output_type": "stream",
     "text": [
      "[1] 1241    5\n"
     ]
    },
    {
     "data": {
      "text/html": [
       "<table class=\"dataframe\">\n",
       "<caption>A tibble: 6 × 5</caption>\n",
       "<thead>\n",
       "\t<tr><th scope=col>Peak</th><th scope=col>ASTARR</th><th scope=col>WSTARR</th><th scope=col>TMPRA</th><th scope=col>LMPRA</th></tr>\n",
       "\t<tr><th scope=col>&lt;chr&gt;</th><th scope=col>&lt;dbl&gt;</th><th scope=col>&lt;dbl&gt;</th><th scope=col>&lt;dbl&gt;</th><th scope=col>&lt;dbl&gt;</th></tr>\n",
       "</thead>\n",
       "<tbody>\n",
       "\t<tr><td>chr11:32870601-32871324</td><td>-0.56726545</td><td>-0.45442671</td><td>-0.7592992</td><td>-0.3215166</td></tr>\n",
       "\t<tr><td>chr11:32874343-32875070</td><td>-0.54920178</td><td>-0.23994680</td><td>-0.4159155</td><td>-0.8170978</td></tr>\n",
       "\t<tr><td>chr11:32884749-32885822</td><td>-0.66011484</td><td>-0.17415901</td><td> 0.2420861</td><td> 1.3800391</td></tr>\n",
       "\t<tr><td>chr11:32901572-32902485</td><td>-0.38438377</td><td>-0.09841904</td><td>-0.8541150</td><td>-0.1454310</td></tr>\n",
       "\t<tr><td>chr11:32903491-32904506</td><td>-0.05446687</td><td>-0.68078185</td><td>-0.7215339</td><td> 1.1180286</td></tr>\n",
       "\t<tr><td>chr11:32910855-32912010</td><td> 0.17567189</td><td>-0.01956657</td><td> 2.3515025</td><td> 0.1459271</td></tr>\n",
       "</tbody>\n",
       "</table>\n"
      ],
      "text/latex": [
       "A tibble: 6 × 5\n",
       "\\begin{tabular}{lllll}\n",
       " Peak & ASTARR & WSTARR & TMPRA & LMPRA\\\\\n",
       " <chr> & <dbl> & <dbl> & <dbl> & <dbl>\\\\\n",
       "\\hline\n",
       "\t chr11:32870601-32871324 & -0.56726545 & -0.45442671 & -0.7592992 & -0.3215166\\\\\n",
       "\t chr11:32874343-32875070 & -0.54920178 & -0.23994680 & -0.4159155 & -0.8170978\\\\\n",
       "\t chr11:32884749-32885822 & -0.66011484 & -0.17415901 &  0.2420861 &  1.3800391\\\\\n",
       "\t chr11:32901572-32902485 & -0.38438377 & -0.09841904 & -0.8541150 & -0.1454310\\\\\n",
       "\t chr11:32903491-32904506 & -0.05446687 & -0.68078185 & -0.7215339 &  1.1180286\\\\\n",
       "\t chr11:32910855-32912010 &  0.17567189 & -0.01956657 &  2.3515025 &  0.1459271\\\\\n",
       "\\end{tabular}\n"
      ],
      "text/markdown": [
       "\n",
       "A tibble: 6 × 5\n",
       "\n",
       "| Peak &lt;chr&gt; | ASTARR &lt;dbl&gt; | WSTARR &lt;dbl&gt; | TMPRA &lt;dbl&gt; | LMPRA &lt;dbl&gt; |\n",
       "|---|---|---|---|---|\n",
       "| chr11:32870601-32871324 | -0.56726545 | -0.45442671 | -0.7592992 | -0.3215166 |\n",
       "| chr11:32874343-32875070 | -0.54920178 | -0.23994680 | -0.4159155 | -0.8170978 |\n",
       "| chr11:32884749-32885822 | -0.66011484 | -0.17415901 |  0.2420861 |  1.3800391 |\n",
       "| chr11:32901572-32902485 | -0.38438377 | -0.09841904 | -0.8541150 | -0.1454310 |\n",
       "| chr11:32903491-32904506 | -0.05446687 | -0.68078185 | -0.7215339 |  1.1180286 |\n",
       "| chr11:32910855-32912010 |  0.17567189 | -0.01956657 |  2.3515025 |  0.1459271 |\n",
       "\n"
      ],
      "text/plain": [
       "  Peak                    ASTARR      WSTARR      TMPRA      LMPRA     \n",
       "1 chr11:32870601-32871324 -0.56726545 -0.45442671 -0.7592992 -0.3215166\n",
       "2 chr11:32874343-32875070 -0.54920178 -0.23994680 -0.4159155 -0.8170978\n",
       "3 chr11:32884749-32885822 -0.66011484 -0.17415901  0.2420861  1.3800391\n",
       "4 chr11:32901572-32902485 -0.38438377 -0.09841904 -0.8541150 -0.1454310\n",
       "5 chr11:32903491-32904506 -0.05446687 -0.68078185 -0.7215339  1.1180286\n",
       "6 chr11:32910855-32912010  0.17567189 -0.01956657  2.3515025  0.1459271"
      ]
     },
     "metadata": {},
     "output_type": "display_data"
    }
   ],
   "source": [
    "dat = dat_peak_screened_starrmpra\n",
    "dat = dat %>%\n",
    "    dplyr::select(Assay, Peak, Score) %>%\n",
    "    tidyr::spread(Assay, Score) %>%\n",
    "    dplyr::select(Peak, ASTARR, WSTARR, TMPRA, LMPRA) %>%\n",
    "    na.omit\n",
    "\n",
    "### assign and show\n",
    "dat_peak_score = dat\n",
    "print(dim(dat))\n",
    "head(dat)"
   ]
  },
  {
   "cell_type": "markdown",
   "id": "0b809ae1-4b40-4d96-87f8-334221d1f40c",
   "metadata": {},
   "source": [
    "## Rank normalization"
   ]
  },
  {
   "cell_type": "code",
   "execution_count": 19,
   "id": "29356f23-394e-46af-aabc-b3aa1552f0e1",
   "metadata": {},
   "outputs": [],
   "source": [
    "fun_ranknorm = function(x){\n",
    "    return(rank(x)/length(x))\n",
    "}"
   ]
  },
  {
   "cell_type": "code",
   "execution_count": 25,
   "id": "f995b268-5e74-489f-ad0e-2ddef9ef5282",
   "metadata": {},
   "outputs": [
    {
     "data": {
      "text/html": [
       "<table class=\"dataframe\">\n",
       "<caption>A tibble: 6 × 6</caption>\n",
       "<thead>\n",
       "\t<tr><th scope=col>Peak</th><th scope=col>ASTARR</th><th scope=col>WSTARR</th><th scope=col>TMPRA</th><th scope=col>LMPRA</th><th scope=col>Mean</th></tr>\n",
       "\t<tr><th scope=col>&lt;chr&gt;</th><th scope=col>&lt;dbl&gt;</th><th scope=col>&lt;dbl&gt;</th><th scope=col>&lt;dbl&gt;</th><th scope=col>&lt;dbl&gt;</th><th scope=col>&lt;dbl&gt;</th></tr>\n",
       "</thead>\n",
       "<tbody>\n",
       "\t<tr><td>chr11:32870601-32871324</td><td>0.12006446</td><td>0.06204674</td><td>0.1958098</td><td>0.22804190</td><td>0.1514907</td></tr>\n",
       "\t<tr><td>chr11:32874343-32875070</td><td>0.13053989</td><td>0.21434327</td><td>0.3231265</td><td>0.08098308</td><td>0.1872482</td></tr>\n",
       "\t<tr><td>chr11:32884749-32885822</td><td>0.08541499</td><td>0.26349718</td><td>0.5439162</td><td>0.78565673</td><td>0.4196213</td></tr>\n",
       "\t<tr><td>chr11:32901572-32902485</td><td>0.22320709</td><td>0.35455278</td><td>0.1571313</td><td>0.31748590</td><td>0.2630943</td></tr>\n",
       "\t<tr><td>chr11:32903491-32904506</td><td>0.52377115</td><td>0.01531023</td><td>0.2095085</td><td>0.74053183</td><td>0.3722804</td></tr>\n",
       "\t<tr><td>chr11:32910855-32912010</td><td>0.68573731</td><td>0.44641418</td><td>0.9129734</td><td>0.43755036</td><td>0.6206688</td></tr>\n",
       "</tbody>\n",
       "</table>\n"
      ],
      "text/latex": [
       "A tibble: 6 × 6\n",
       "\\begin{tabular}{llllll}\n",
       " Peak & ASTARR & WSTARR & TMPRA & LMPRA & Mean\\\\\n",
       " <chr> & <dbl> & <dbl> & <dbl> & <dbl> & <dbl>\\\\\n",
       "\\hline\n",
       "\t chr11:32870601-32871324 & 0.12006446 & 0.06204674 & 0.1958098 & 0.22804190 & 0.1514907\\\\\n",
       "\t chr11:32874343-32875070 & 0.13053989 & 0.21434327 & 0.3231265 & 0.08098308 & 0.1872482\\\\\n",
       "\t chr11:32884749-32885822 & 0.08541499 & 0.26349718 & 0.5439162 & 0.78565673 & 0.4196213\\\\\n",
       "\t chr11:32901572-32902485 & 0.22320709 & 0.35455278 & 0.1571313 & 0.31748590 & 0.2630943\\\\\n",
       "\t chr11:32903491-32904506 & 0.52377115 & 0.01531023 & 0.2095085 & 0.74053183 & 0.3722804\\\\\n",
       "\t chr11:32910855-32912010 & 0.68573731 & 0.44641418 & 0.9129734 & 0.43755036 & 0.6206688\\\\\n",
       "\\end{tabular}\n"
      ],
      "text/markdown": [
       "\n",
       "A tibble: 6 × 6\n",
       "\n",
       "| Peak &lt;chr&gt; | ASTARR &lt;dbl&gt; | WSTARR &lt;dbl&gt; | TMPRA &lt;dbl&gt; | LMPRA &lt;dbl&gt; | Mean &lt;dbl&gt; |\n",
       "|---|---|---|---|---|---|\n",
       "| chr11:32870601-32871324 | 0.12006446 | 0.06204674 | 0.1958098 | 0.22804190 | 0.1514907 |\n",
       "| chr11:32874343-32875070 | 0.13053989 | 0.21434327 | 0.3231265 | 0.08098308 | 0.1872482 |\n",
       "| chr11:32884749-32885822 | 0.08541499 | 0.26349718 | 0.5439162 | 0.78565673 | 0.4196213 |\n",
       "| chr11:32901572-32902485 | 0.22320709 | 0.35455278 | 0.1571313 | 0.31748590 | 0.2630943 |\n",
       "| chr11:32903491-32904506 | 0.52377115 | 0.01531023 | 0.2095085 | 0.74053183 | 0.3722804 |\n",
       "| chr11:32910855-32912010 | 0.68573731 | 0.44641418 | 0.9129734 | 0.43755036 | 0.6206688 |\n",
       "\n"
      ],
      "text/plain": [
       "  Peak                    ASTARR     WSTARR     TMPRA     LMPRA      Mean     \n",
       "1 chr11:32870601-32871324 0.12006446 0.06204674 0.1958098 0.22804190 0.1514907\n",
       "2 chr11:32874343-32875070 0.13053989 0.21434327 0.3231265 0.08098308 0.1872482\n",
       "3 chr11:32884749-32885822 0.08541499 0.26349718 0.5439162 0.78565673 0.4196213\n",
       "4 chr11:32901572-32902485 0.22320709 0.35455278 0.1571313 0.31748590 0.2630943\n",
       "5 chr11:32903491-32904506 0.52377115 0.01531023 0.2095085 0.74053183 0.3722804\n",
       "6 chr11:32910855-32912010 0.68573731 0.44641418 0.9129734 0.43755036 0.6206688"
      ]
     },
     "metadata": {},
     "output_type": "display_data"
    }
   ],
   "source": [
    "dat = dat_peak_score\n",
    "dat = dat %>% \n",
    "    dplyr::mutate(across(2:5, fun_ranknorm)) %>% \n",
    "    dplyr::rowwise() %>%\n",
    "    dplyr::mutate(Mean = mean(c(ASTARR, WSTARR, TMPRA, LMPRA))) %>%\n",
    "    dplyr::ungroup()\n",
    "\n",
    "dat_peak_ranknorm = dat\n",
    "head(dat)"
   ]
  },
  {
   "cell_type": "markdown",
   "id": "6ed19160-bf5f-4741-b1b4-7f4161c912bd",
   "metadata": {},
   "source": [
    "## Save table"
   ]
  },
  {
   "cell_type": "code",
   "execution_count": 26,
   "id": "edba27b6-cc89-4954-ac35-5095886b3687",
   "metadata": {},
   "outputs": [
    {
     "name": "stdout",
     "output_type": "stream",
     "text": [
      "[1] \"/data/reddylab/Kuei/out/proj_combeffect_encode_fcc/results/comparison/result.score.starrmpra.tsv\"\n"
     ]
    }
   ],
   "source": [
    "### set file directories\n",
    "fdiry = file.path(FD_RES, \"results\", \"comparison\")\n",
    "fname = \"result.score.starrmpra.tsv\"\n",
    "fpath = file.path(fdiry, fname)\n",
    "print(fpath)\n",
    "\n",
    "dat = dat_peak_score\n",
    "write_tsv(dat, fpath)"
   ]
  },
  {
   "cell_type": "code",
   "execution_count": 27,
   "id": "2c4e04ce-f3db-45f1-a29e-e0bb6f4f27f1",
   "metadata": {},
   "outputs": [
    {
     "name": "stdout",
     "output_type": "stream",
     "text": [
      "[1] \"/data/reddylab/Kuei/out/proj_combeffect_encode_fcc/results/comparison/result.ranknorm.starrmpra.overlap.tsv\"\n"
     ]
    }
   ],
   "source": [
    "### set file directories\n",
    "fdiry = file.path(FD_RES, \"results\", \"comparison\")\n",
    "fname = \"result.ranknorm.starrmpra.overlap.tsv\"\n",
    "fpath = file.path(fdiry, fname)\n",
    "print(fpath)\n",
    "\n",
    "dat = dat_peak_ranknorm\n",
    "write_tsv(dat, fpath)"
   ]
  },
  {
   "cell_type": "code",
   "execution_count": null,
   "id": "835b4bd0-f14e-4775-b213-c67bd2cc070c",
   "metadata": {},
   "outputs": [],
   "source": []
  }
 ],
 "metadata": {
  "kernelspec": {
   "display_name": "R",
   "language": "R",
   "name": "ir"
  },
  "language_info": {
   "codemirror_mode": "r",
   "file_extension": ".r",
   "mimetype": "text/x-r-source",
   "name": "R",
   "pygments_lexer": "r",
   "version": "4.3.1"
  }
 },
 "nbformat": 4,
 "nbformat_minor": 5
}
