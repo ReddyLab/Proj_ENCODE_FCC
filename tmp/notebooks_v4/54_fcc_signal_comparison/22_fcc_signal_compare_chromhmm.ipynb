{
 "cells": [
  {
   "cell_type": "markdown",
   "id": "e8646d35-0af4-4ca9-9dd1-8be9877dccf1",
   "metadata": {},
   "source": [
    "**Set environment**"
   ]
  },
  {
   "cell_type": "code",
   "execution_count": 1,
   "id": "77743751-1a69-4495-b6a3-17dfe4a88679",
   "metadata": {},
   "outputs": [
    {
     "name": "stdout",
     "output_type": "stream",
     "text": [
      "You are in Singularity: singularity_proj_encode_fcc \n",
      "BASE DIRECTORY (FD_BASE): /data/reddylab/Kuei \n",
      "WORK DIRECTORY (FD_WORK): /data/reddylab/Kuei/out \n",
      "CODE DIRECTORY (FD_CODE): /data/reddylab/Kuei/code \n",
      "PATH OF PROJECT (FD_PRJ): /data/reddylab/Kuei/code/Proj_CombEffect_ENCODE_FCC \n",
      "PATH OF RESULTS (FD_RES): /data/reddylab/Kuei/out/proj_combeffect_encode_fcc \n",
      "PATH OF LOG     (FD_LOG): /data/reddylab/Kuei/out/proj_combeffect_encode_fcc/log \n"
     ]
    }
   ],
   "source": [
    "suppressWarnings(suppressMessages(source(\"../config/config_sing.R\")))\n",
    "show_env()"
   ]
  },
  {
   "cell_type": "markdown",
   "id": "4c1016d6-ad37-4206-a866-e8eaa4772f11",
   "metadata": {},
   "source": [
    "## Import FCC data"
   ]
  },
  {
   "cell_type": "code",
   "execution_count": 2,
   "id": "d3b5df54-4551-4fa0-a61a-50c5e96a7494",
   "metadata": {},
   "outputs": [
    {
     "name": "stdout",
     "output_type": "stream",
     "text": [
      "[1] 732434      7\n"
     ]
    },
    {
     "data": {
      "text/html": [
       "<table class=\"dataframe\">\n",
       "<caption>A tibble: 6 × 7</caption>\n",
       "<thead>\n",
       "\t<tr><th scope=col>Chrom</th><th scope=col>Start</th><th scope=col>End</th><th scope=col>Peak</th><th scope=col>Score</th><th scope=col>Assay_Type</th><th scope=col>Assay_Label</th></tr>\n",
       "\t<tr><th scope=col>&lt;chr&gt;</th><th scope=col>&lt;dbl&gt;</th><th scope=col>&lt;dbl&gt;</th><th scope=col>&lt;chr&gt;</th><th scope=col>&lt;dbl&gt;</th><th scope=col>&lt;chr&gt;</th><th scope=col>&lt;chr&gt;</th></tr>\n",
       "</thead>\n",
       "<tbody>\n",
       "\t<tr><td>chr1</td><td>100006256</td><td>100006880</td><td>chr1:100006256-100006880</td><td>-0.01311792</td><td>ASTARR</td><td>ASTARR_T</td></tr>\n",
       "\t<tr><td>chr1</td><td>100010437</td><td>100010915</td><td>chr1:100010437-100010915</td><td>-0.80687947</td><td>ASTARR</td><td>ASTARR_T</td></tr>\n",
       "\t<tr><td>chr1</td><td> 10002087</td><td> 10003910</td><td>chr1:10002087-10003910  </td><td>-0.34892859</td><td>ASTARR</td><td>ASTARR_T</td></tr>\n",
       "\t<tr><td>chr1</td><td>100021298</td><td>100021629</td><td>chr1:100021298-100021629</td><td>-1.03799571</td><td>ASTARR</td><td>ASTARR_T</td></tr>\n",
       "\t<tr><td>chr1</td><td>100023727</td><td>100023976</td><td>chr1:100023727-100023976</td><td>-0.19100207</td><td>ASTARR</td><td>ASTARR_T</td></tr>\n",
       "\t<tr><td>chr1</td><td>100027983</td><td>100029702</td><td>chr1:100027983-100029702</td><td>-0.18001582</td><td>ASTARR</td><td>ASTARR_T</td></tr>\n",
       "</tbody>\n",
       "</table>\n"
      ],
      "text/latex": [
       "A tibble: 6 × 7\n",
       "\\begin{tabular}{lllllll}\n",
       " Chrom & Start & End & Peak & Score & Assay\\_Type & Assay\\_Label\\\\\n",
       " <chr> & <dbl> & <dbl> & <chr> & <dbl> & <chr> & <chr>\\\\\n",
       "\\hline\n",
       "\t chr1 & 100006256 & 100006880 & chr1:100006256-100006880 & -0.01311792 & ASTARR & ASTARR\\_T\\\\\n",
       "\t chr1 & 100010437 & 100010915 & chr1:100010437-100010915 & -0.80687947 & ASTARR & ASTARR\\_T\\\\\n",
       "\t chr1 &  10002087 &  10003910 & chr1:10002087-10003910   & -0.34892859 & ASTARR & ASTARR\\_T\\\\\n",
       "\t chr1 & 100021298 & 100021629 & chr1:100021298-100021629 & -1.03799571 & ASTARR & ASTARR\\_T\\\\\n",
       "\t chr1 & 100023727 & 100023976 & chr1:100023727-100023976 & -0.19100207 & ASTARR & ASTARR\\_T\\\\\n",
       "\t chr1 & 100027983 & 100029702 & chr1:100027983-100029702 & -0.18001582 & ASTARR & ASTARR\\_T\\\\\n",
       "\\end{tabular}\n"
      ],
      "text/markdown": [
       "\n",
       "A tibble: 6 × 7\n",
       "\n",
       "| Chrom &lt;chr&gt; | Start &lt;dbl&gt; | End &lt;dbl&gt; | Peak &lt;chr&gt; | Score &lt;dbl&gt; | Assay_Type &lt;chr&gt; | Assay_Label &lt;chr&gt; |\n",
       "|---|---|---|---|---|---|---|\n",
       "| chr1 | 100006256 | 100006880 | chr1:100006256-100006880 | -0.01311792 | ASTARR | ASTARR_T |\n",
       "| chr1 | 100010437 | 100010915 | chr1:100010437-100010915 | -0.80687947 | ASTARR | ASTARR_T |\n",
       "| chr1 |  10002087 |  10003910 | chr1:10002087-10003910   | -0.34892859 | ASTARR | ASTARR_T |\n",
       "| chr1 | 100021298 | 100021629 | chr1:100021298-100021629 | -1.03799571 | ASTARR | ASTARR_T |\n",
       "| chr1 | 100023727 | 100023976 | chr1:100023727-100023976 | -0.19100207 | ASTARR | ASTARR_T |\n",
       "| chr1 | 100027983 | 100029702 | chr1:100027983-100029702 | -0.18001582 | ASTARR | ASTARR_T |\n",
       "\n"
      ],
      "text/plain": [
       "  Chrom Start     End       Peak                     Score       Assay_Type\n",
       "1 chr1  100006256 100006880 chr1:100006256-100006880 -0.01311792 ASTARR    \n",
       "2 chr1  100010437 100010915 chr1:100010437-100010915 -0.80687947 ASTARR    \n",
       "3 chr1   10002087  10003910 chr1:10002087-10003910   -0.34892859 ASTARR    \n",
       "4 chr1  100021298 100021629 chr1:100021298-100021629 -1.03799571 ASTARR    \n",
       "5 chr1  100023727 100023976 chr1:100023727-100023976 -0.19100207 ASTARR    \n",
       "6 chr1  100027983 100029702 chr1:100027983-100029702 -0.18001582 ASTARR    \n",
       "  Assay_Label\n",
       "1 ASTARR_T   \n",
       "2 ASTARR_T   \n",
       "3 ASTARR_T   \n",
       "4 ASTARR_T   \n",
       "5 ASTARR_T   \n",
       "6 ASTARR_T   "
      ]
     },
     "metadata": {},
     "output_type": "display_data"
    }
   ],
   "source": [
    "fdiry = file.path(FD_RES, \"results\", \"region\", \"KS91_K562_ASTARRseq_peak_macs_input\", \"summary\")\n",
    "fname = \"peak.screened.fcc.total.tsv\"\n",
    "fpath = file.path(fdiry, fname)\n",
    "\n",
    "dat = read_tsv(fpath, show_col_types=FALSE)\n",
    "\n",
    "dat_peak_atac_fcc_total = dat\n",
    "print(dim(dat))\n",
    "head(dat)"
   ]
  },
  {
   "cell_type": "code",
   "execution_count": 3,
   "id": "7dd12779-a09b-40a7-bfc4-ce0f95c623ef",
   "metadata": {},
   "outputs": [
    {
     "name": "stdout",
     "output_type": "stream",
     "text": [
      "[1] 262805      7\n"
     ]
    },
    {
     "data": {
      "text/html": [
       "<table class=\"dataframe\">\n",
       "<caption>A tibble: 6 × 7</caption>\n",
       "<thead>\n",
       "\t<tr><th scope=col>Peak</th><th scope=col>Annotation</th><th scope=col>Label</th><th scope=col>Count</th><th scope=col>Region</th><th scope=col>Score</th><th scope=col>Note</th></tr>\n",
       "\t<tr><th scope=col>&lt;chr&gt;</th><th scope=col>&lt;chr&gt;</th><th scope=col>&lt;chr&gt;</th><th scope=col>&lt;dbl&gt;</th><th scope=col>&lt;chr&gt;</th><th scope=col>&lt;dbl&gt;</th><th scope=col>&lt;chr&gt;</th></tr>\n",
       "</thead>\n",
       "<tbody>\n",
       "\t<tr><td>chr1:10015-10442</td><td>ChromHMM</td><td>Quies</td><td>1</td><td>chr1:0-16000     </td><td>1</td><td>Quies</td></tr>\n",
       "\t<tr><td>chr1:14253-14645</td><td>ChromHMM</td><td>Quies</td><td>1</td><td>chr1:0-16000     </td><td>1</td><td>Quies</td></tr>\n",
       "\t<tr><td>chr1:16015-16477</td><td>ChromHMM</td><td>TxWk </td><td>1</td><td>chr1:16000-16200 </td><td>1</td><td>TxWk </td></tr>\n",
       "\t<tr><td>chr1:17237-17772</td><td>ChromHMM</td><td>TxWk </td><td>1</td><td>chr1:17400-17600 </td><td>1</td><td>TxWk </td></tr>\n",
       "\t<tr><td>chr1:28903-29613</td><td>ChromHMM</td><td>Quies</td><td>1</td><td>chr1:17600-118400</td><td>1</td><td>Quies</td></tr>\n",
       "\t<tr><td>chr1:30803-31072</td><td>ChromHMM</td><td>Quies</td><td>1</td><td>chr1:17600-118400</td><td>1</td><td>Quies</td></tr>\n",
       "</tbody>\n",
       "</table>\n"
      ],
      "text/latex": [
       "A tibble: 6 × 7\n",
       "\\begin{tabular}{lllllll}\n",
       " Peak & Annotation & Label & Count & Region & Score & Note\\\\\n",
       " <chr> & <chr> & <chr> & <dbl> & <chr> & <dbl> & <chr>\\\\\n",
       "\\hline\n",
       "\t chr1:10015-10442 & ChromHMM & Quies & 1 & chr1:0-16000      & 1 & Quies\\\\\n",
       "\t chr1:14253-14645 & ChromHMM & Quies & 1 & chr1:0-16000      & 1 & Quies\\\\\n",
       "\t chr1:16015-16477 & ChromHMM & TxWk  & 1 & chr1:16000-16200  & 1 & TxWk \\\\\n",
       "\t chr1:17237-17772 & ChromHMM & TxWk  & 1 & chr1:17400-17600  & 1 & TxWk \\\\\n",
       "\t chr1:28903-29613 & ChromHMM & Quies & 1 & chr1:17600-118400 & 1 & Quies\\\\\n",
       "\t chr1:30803-31072 & ChromHMM & Quies & 1 & chr1:17600-118400 & 1 & Quies\\\\\n",
       "\\end{tabular}\n"
      ],
      "text/markdown": [
       "\n",
       "A tibble: 6 × 7\n",
       "\n",
       "| Peak &lt;chr&gt; | Annotation &lt;chr&gt; | Label &lt;chr&gt; | Count &lt;dbl&gt; | Region &lt;chr&gt; | Score &lt;dbl&gt; | Note &lt;chr&gt; |\n",
       "|---|---|---|---|---|---|---|\n",
       "| chr1:10015-10442 | ChromHMM | Quies | 1 | chr1:0-16000      | 1 | Quies |\n",
       "| chr1:14253-14645 | ChromHMM | Quies | 1 | chr1:0-16000      | 1 | Quies |\n",
       "| chr1:16015-16477 | ChromHMM | TxWk  | 1 | chr1:16000-16200  | 1 | TxWk  |\n",
       "| chr1:17237-17772 | ChromHMM | TxWk  | 1 | chr1:17400-17600  | 1 | TxWk  |\n",
       "| chr1:28903-29613 | ChromHMM | Quies | 1 | chr1:17600-118400 | 1 | Quies |\n",
       "| chr1:30803-31072 | ChromHMM | Quies | 1 | chr1:17600-118400 | 1 | Quies |\n",
       "\n"
      ],
      "text/plain": [
       "  Peak             Annotation Label Count Region            Score Note \n",
       "1 chr1:10015-10442 ChromHMM   Quies 1     chr1:0-16000      1     Quies\n",
       "2 chr1:14253-14645 ChromHMM   Quies 1     chr1:0-16000      1     Quies\n",
       "3 chr1:16015-16477 ChromHMM   TxWk  1     chr1:16000-16200  1     TxWk \n",
       "4 chr1:17237-17772 ChromHMM   TxWk  1     chr1:17400-17600  1     TxWk \n",
       "5 chr1:28903-29613 ChromHMM   Quies 1     chr1:17600-118400 1     Quies\n",
       "6 chr1:30803-31072 ChromHMM   Quies 1     chr1:17600-118400 1     Quies"
      ]
     },
     "metadata": {},
     "output_type": "display_data"
    }
   ],
   "source": [
    "fdiry = file.path(FD_RES, \"results\", \"region\", \"KS91_K562_ASTARRseq_peak_macs_input\", \"summary\")\n",
    "fname = \"peak.summary.chromHMM.tsv\"\n",
    "fpath = file.path(fdiry, fname)\n",
    "\n",
    "dat = read_tsv(fpath, show_col_types = FALSE)\n",
    "\n",
    "dat_peak_atac_annotation = dat\n",
    "print(dim(dat))\n",
    "head(dat)"
   ]
  },
  {
   "cell_type": "markdown",
   "id": "323f58a6-d438-4197-9458-1df146e0b798",
   "metadata": {},
   "source": [
    "## Scale and arrange"
   ]
  },
  {
   "cell_type": "markdown",
   "id": "0beaf320-8b80-45e2-8861-3c5f45b0ce2e",
   "metadata": {},
   "source": [
    "**Score**"
   ]
  },
  {
   "cell_type": "code",
   "execution_count": 4,
   "id": "ab3fd2f2-7d14-45a1-a0fc-f7d52dc29989",
   "metadata": {},
   "outputs": [
    {
     "name": "stdout",
     "output_type": "stream",
     "text": [
      "[1] 732434      8\n"
     ]
    },
    {
     "data": {
      "text/html": [
       "<table class=\"dataframe\">\n",
       "<caption>A grouped_df: 6 × 8</caption>\n",
       "<thead>\n",
       "\t<tr><th scope=col>Chrom</th><th scope=col>Start</th><th scope=col>End</th><th scope=col>Peak</th><th scope=col>Score</th><th scope=col>Assay_Type</th><th scope=col>Assay_Label</th><th scope=col>ZScore</th></tr>\n",
       "\t<tr><th scope=col>&lt;chr&gt;</th><th scope=col>&lt;dbl&gt;</th><th scope=col>&lt;dbl&gt;</th><th scope=col>&lt;chr&gt;</th><th scope=col>&lt;dbl&gt;</th><th scope=col>&lt;chr&gt;</th><th scope=col>&lt;chr&gt;</th><th scope=col>&lt;dbl[,1]&gt;</th></tr>\n",
       "</thead>\n",
       "<tbody>\n",
       "\t<tr><td>chr1</td><td>100006256</td><td>100006880</td><td>chr1:100006256-100006880</td><td>-0.01311792</td><td>ASTARR</td><td>ASTARR_T</td><td>-0.1144482</td></tr>\n",
       "\t<tr><td>chr1</td><td>100010437</td><td>100010915</td><td>chr1:100010437-100010915</td><td>-0.80687947</td><td>ASTARR</td><td>ASTARR_T</td><td>-1.3754998</td></tr>\n",
       "\t<tr><td>chr1</td><td> 10002087</td><td> 10003910</td><td>chr1:10002087-10003910  </td><td>-0.34892859</td><td>ASTARR</td><td>ASTARR_T</td><td>-0.6479517</td></tr>\n",
       "\t<tr><td>chr1</td><td>100021298</td><td>100021629</td><td>chr1:100021298-100021629</td><td>-1.03799571</td><td>ASTARR</td><td>ASTARR_T</td><td>-1.7426750</td></tr>\n",
       "\t<tr><td>chr1</td><td>100023727</td><td>100023976</td><td>chr1:100023727-100023976</td><td>-0.19100207</td><td>ASTARR</td><td>ASTARR_T</td><td>-0.3970533</td></tr>\n",
       "\t<tr><td>chr1</td><td>100027983</td><td>100029702</td><td>chr1:100027983-100029702</td><td>-0.18001582</td><td>ASTARR</td><td>ASTARR_T</td><td>-0.3795994</td></tr>\n",
       "</tbody>\n",
       "</table>\n"
      ],
      "text/latex": [
       "A grouped\\_df: 6 × 8\n",
       "\\begin{tabular}{llllllll}\n",
       " Chrom & Start & End & Peak & Score & Assay\\_Type & Assay\\_Label & ZScore\\\\\n",
       " <chr> & <dbl> & <dbl> & <chr> & <dbl> & <chr> & <chr> & <dbl{[},1{]}>\\\\\n",
       "\\hline\n",
       "\t chr1 & 100006256 & 100006880 & chr1:100006256-100006880 & -0.01311792 & ASTARR & ASTARR\\_T & -0.1144482\\\\\n",
       "\t chr1 & 100010437 & 100010915 & chr1:100010437-100010915 & -0.80687947 & ASTARR & ASTARR\\_T & -1.3754998\\\\\n",
       "\t chr1 &  10002087 &  10003910 & chr1:10002087-10003910   & -0.34892859 & ASTARR & ASTARR\\_T & -0.6479517\\\\\n",
       "\t chr1 & 100021298 & 100021629 & chr1:100021298-100021629 & -1.03799571 & ASTARR & ASTARR\\_T & -1.7426750\\\\\n",
       "\t chr1 & 100023727 & 100023976 & chr1:100023727-100023976 & -0.19100207 & ASTARR & ASTARR\\_T & -0.3970533\\\\\n",
       "\t chr1 & 100027983 & 100029702 & chr1:100027983-100029702 & -0.18001582 & ASTARR & ASTARR\\_T & -0.3795994\\\\\n",
       "\\end{tabular}\n"
      ],
      "text/markdown": [
       "\n",
       "A grouped_df: 6 × 8\n",
       "\n",
       "| Chrom &lt;chr&gt; | Start &lt;dbl&gt; | End &lt;dbl&gt; | Peak &lt;chr&gt; | Score &lt;dbl&gt; | Assay_Type &lt;chr&gt; | Assay_Label &lt;chr&gt; | ZScore &lt;dbl[,1]&gt; |\n",
       "|---|---|---|---|---|---|---|---|\n",
       "| chr1 | 100006256 | 100006880 | chr1:100006256-100006880 | -0.01311792 | ASTARR | ASTARR_T | -0.1144482 |\n",
       "| chr1 | 100010437 | 100010915 | chr1:100010437-100010915 | -0.80687947 | ASTARR | ASTARR_T | -1.3754998 |\n",
       "| chr1 |  10002087 |  10003910 | chr1:10002087-10003910   | -0.34892859 | ASTARR | ASTARR_T | -0.6479517 |\n",
       "| chr1 | 100021298 | 100021629 | chr1:100021298-100021629 | -1.03799571 | ASTARR | ASTARR_T | -1.7426750 |\n",
       "| chr1 | 100023727 | 100023976 | chr1:100023727-100023976 | -0.19100207 | ASTARR | ASTARR_T | -0.3970533 |\n",
       "| chr1 | 100027983 | 100029702 | chr1:100027983-100029702 | -0.18001582 | ASTARR | ASTARR_T | -0.3795994 |\n",
       "\n"
      ],
      "text/plain": [
       "  Chrom Start     End       Peak                     Score       Assay_Type\n",
       "1 chr1  100006256 100006880 chr1:100006256-100006880 -0.01311792 ASTARR    \n",
       "2 chr1  100010437 100010915 chr1:100010437-100010915 -0.80687947 ASTARR    \n",
       "3 chr1   10002087  10003910 chr1:10002087-10003910   -0.34892859 ASTARR    \n",
       "4 chr1  100021298 100021629 chr1:100021298-100021629 -1.03799571 ASTARR    \n",
       "5 chr1  100023727 100023976 chr1:100023727-100023976 -0.19100207 ASTARR    \n",
       "6 chr1  100027983 100029702 chr1:100027983-100029702 -0.18001582 ASTARR    \n",
       "  Assay_Label ZScore    \n",
       "1 ASTARR_T    -0.1144482\n",
       "2 ASTARR_T    -1.3754998\n",
       "3 ASTARR_T    -0.6479517\n",
       "4 ASTARR_T    -1.7426750\n",
       "5 ASTARR_T    -0.3970533\n",
       "6 ASTARR_T    -0.3795994"
      ]
     },
     "metadata": {},
     "output_type": "display_data"
    }
   ],
   "source": [
    "dat = dat_peak_atac_fcc_total\n",
    "dat = dat %>% \n",
    "    dplyr::group_by(Assay_Type) %>%\n",
    "    dplyr::mutate(ZScore = scale(Score))\n",
    "\n",
    "dat_peak_score = dat\n",
    "print(dim(dat))\n",
    "head(dat)"
   ]
  },
  {
   "cell_type": "markdown",
   "id": "ebcd8962-f9cd-4a58-bf87-bfcf909bb77e",
   "metadata": {},
   "source": [
    "**Annotation**"
   ]
  },
  {
   "cell_type": "code",
   "execution_count": 5,
   "id": "83adf071-b0f5-4a69-8e82-fdd033e26bea",
   "metadata": {},
   "outputs": [
    {
     "name": "stdout",
     "output_type": "stream",
     "text": [
      "[1] 262805      2\n"
     ]
    },
    {
     "data": {
      "text/html": [
       "<table class=\"dataframe\">\n",
       "<caption>A tibble: 6 × 2</caption>\n",
       "<thead>\n",
       "\t<tr><th scope=col>Peak</th><th scope=col>Label</th></tr>\n",
       "\t<tr><th scope=col>&lt;chr&gt;</th><th scope=col>&lt;chr&gt;</th></tr>\n",
       "</thead>\n",
       "<tbody>\n",
       "\t<tr><td>chr1:10015-10442</td><td>Quiescent         </td></tr>\n",
       "\t<tr><td>chr1:14253-14645</td><td>Quiescent         </td></tr>\n",
       "\t<tr><td>chr1:16015-16477</td><td>Weak transcription</td></tr>\n",
       "\t<tr><td>chr1:17237-17772</td><td>Weak transcription</td></tr>\n",
       "\t<tr><td>chr1:28903-29613</td><td>Quiescent         </td></tr>\n",
       "\t<tr><td>chr1:30803-31072</td><td>Quiescent         </td></tr>\n",
       "</tbody>\n",
       "</table>\n"
      ],
      "text/latex": [
       "A tibble: 6 × 2\n",
       "\\begin{tabular}{ll}\n",
       " Peak & Label\\\\\n",
       " <chr> & <chr>\\\\\n",
       "\\hline\n",
       "\t chr1:10015-10442 & Quiescent         \\\\\n",
       "\t chr1:14253-14645 & Quiescent         \\\\\n",
       "\t chr1:16015-16477 & Weak transcription\\\\\n",
       "\t chr1:17237-17772 & Weak transcription\\\\\n",
       "\t chr1:28903-29613 & Quiescent         \\\\\n",
       "\t chr1:30803-31072 & Quiescent         \\\\\n",
       "\\end{tabular}\n"
      ],
      "text/markdown": [
       "\n",
       "A tibble: 6 × 2\n",
       "\n",
       "| Peak &lt;chr&gt; | Label &lt;chr&gt; |\n",
       "|---|---|\n",
       "| chr1:10015-10442 | Quiescent          |\n",
       "| chr1:14253-14645 | Quiescent          |\n",
       "| chr1:16015-16477 | Weak transcription |\n",
       "| chr1:17237-17772 | Weak transcription |\n",
       "| chr1:28903-29613 | Quiescent          |\n",
       "| chr1:30803-31072 | Quiescent          |\n",
       "\n"
      ],
      "text/plain": [
       "  Peak             Label             \n",
       "1 chr1:10015-10442 Quiescent         \n",
       "2 chr1:14253-14645 Quiescent         \n",
       "3 chr1:16015-16477 Weak transcription\n",
       "4 chr1:17237-17772 Weak transcription\n",
       "5 chr1:28903-29613 Quiescent         \n",
       "6 chr1:30803-31072 Quiescent         "
      ]
     },
     "metadata": {},
     "output_type": "display_data"
    }
   ],
   "source": [
    "vec_txt_label = c(\n",
    "    \"Tss\"        = \"Active TSS\", \n",
    "    \"TssFlnk\"    = \"Flanking TSS\", \n",
    "    \"TssFlnkD\"   = \"Flanking TSS\", \n",
    "    \"TssFlnkU\"   = \"Flanking TSS\", \n",
    "    \"Enh1\"       = \"Enhancer\", \n",
    "    \"Enh2\"       = \"Enhancer\", \n",
    "    \"EnhG1\"      = \"Enhancer in gene\", \n",
    "    \"EnhG2\"      = \"Enhancer in gene\", \n",
    "    \"Tx\"         = \"Transcription\",\n",
    "    \"TxWk\"       = \"Weak transcription\", \n",
    "    \"Biv\"        = \"Bivalent\",\n",
    "    \"ReprPC\"     = \"Repressed by Polycomb\", \n",
    "    \"ZNF/Rpts\"   = \"ZNF genes repeats\",\n",
    "    \"Quies\"      = \"Quiescent\", \n",
    "    \"Het\"        = \"Heterochromatin\")\n",
    "\n",
    "dat = dat_peak_atac_annotation\n",
    "vec = vec_txt_label\n",
    "\n",
    "dat = dat %>% dplyr::mutate(Label = dplyr::recode(Label, !!!vec))\n",
    "dat = dat %>% dplyr::select(Peak, Label)\n",
    "\n",
    "dat_peak_annot = dat\n",
    "print(dim(dat))\n",
    "head(dat)"
   ]
  },
  {
   "cell_type": "markdown",
   "id": "5d764025-c496-470d-b98a-8a45f1867228",
   "metadata": {},
   "source": [
    "**Merge**"
   ]
  },
  {
   "cell_type": "code",
   "execution_count": 6,
   "id": "44d7d30c-d236-4e1f-a270-0eebc07cdc59",
   "metadata": {},
   "outputs": [
    {
     "name": "stdout",
     "output_type": "stream",
     "text": [
      "[1] 846160      4\n"
     ]
    },
    {
     "data": {
      "text/html": [
       "<table class=\"dataframe\">\n",
       "<caption>A grouped_df: 6 × 4</caption>\n",
       "<thead>\n",
       "\t<tr><th scope=col>Peak</th><th scope=col>ZScore</th><th scope=col>Assay_Type</th><th scope=col>Label</th></tr>\n",
       "\t<tr><th scope=col>&lt;chr&gt;</th><th scope=col>&lt;dbl[,1]&gt;</th><th scope=col>&lt;chr&gt;</th><th scope=col>&lt;chr&gt;</th></tr>\n",
       "</thead>\n",
       "<tbody>\n",
       "\t<tr><td>chr1:100006256-100006880</td><td>-0.1144482</td><td>ASTARR</td><td>Quiescent            </td></tr>\n",
       "\t<tr><td>chr1:100010437-100010915</td><td>-1.3754998</td><td>ASTARR</td><td>Quiescent            </td></tr>\n",
       "\t<tr><td>chr1:10002087-10003910  </td><td>-0.6479517</td><td>ASTARR</td><td>Repressed by Polycomb</td></tr>\n",
       "\t<tr><td>chr1:100021298-100021629</td><td>-1.7426750</td><td>ASTARR</td><td>Quiescent            </td></tr>\n",
       "\t<tr><td>chr1:100023727-100023976</td><td>-0.3970533</td><td>ASTARR</td><td>Quiescent            </td></tr>\n",
       "\t<tr><td>chr1:100027983-100029702</td><td>-0.3795994</td><td>ASTARR</td><td>Quiescent            </td></tr>\n",
       "</tbody>\n",
       "</table>\n"
      ],
      "text/latex": [
       "A grouped\\_df: 6 × 4\n",
       "\\begin{tabular}{llll}\n",
       " Peak & ZScore & Assay\\_Type & Label\\\\\n",
       " <chr> & <dbl{[},1{]}> & <chr> & <chr>\\\\\n",
       "\\hline\n",
       "\t chr1:100006256-100006880 & -0.1144482 & ASTARR & Quiescent            \\\\\n",
       "\t chr1:100010437-100010915 & -1.3754998 & ASTARR & Quiescent            \\\\\n",
       "\t chr1:10002087-10003910   & -0.6479517 & ASTARR & Repressed by Polycomb\\\\\n",
       "\t chr1:100021298-100021629 & -1.7426750 & ASTARR & Quiescent            \\\\\n",
       "\t chr1:100023727-100023976 & -0.3970533 & ASTARR & Quiescent            \\\\\n",
       "\t chr1:100027983-100029702 & -0.3795994 & ASTARR & Quiescent            \\\\\n",
       "\\end{tabular}\n"
      ],
      "text/markdown": [
       "\n",
       "A grouped_df: 6 × 4\n",
       "\n",
       "| Peak &lt;chr&gt; | ZScore &lt;dbl[,1]&gt; | Assay_Type &lt;chr&gt; | Label &lt;chr&gt; |\n",
       "|---|---|---|---|\n",
       "| chr1:100006256-100006880 | -0.1144482 | ASTARR | Quiescent             |\n",
       "| chr1:100010437-100010915 | -1.3754998 | ASTARR | Quiescent             |\n",
       "| chr1:10002087-10003910   | -0.6479517 | ASTARR | Repressed by Polycomb |\n",
       "| chr1:100021298-100021629 | -1.7426750 | ASTARR | Quiescent             |\n",
       "| chr1:100023727-100023976 | -0.3970533 | ASTARR | Quiescent             |\n",
       "| chr1:100027983-100029702 | -0.3795994 | ASTARR | Quiescent             |\n",
       "\n"
      ],
      "text/plain": [
       "  Peak                     ZScore     Assay_Type Label                \n",
       "1 chr1:100006256-100006880 -0.1144482 ASTARR     Quiescent            \n",
       "2 chr1:100010437-100010915 -1.3754998 ASTARR     Quiescent            \n",
       "3 chr1:10002087-10003910   -0.6479517 ASTARR     Repressed by Polycomb\n",
       "4 chr1:100021298-100021629 -1.7426750 ASTARR     Quiescent            \n",
       "5 chr1:100023727-100023976 -0.3970533 ASTARR     Quiescent            \n",
       "6 chr1:100027983-100029702 -0.3795994 ASTARR     Quiescent            "
      ]
     },
     "metadata": {},
     "output_type": "display_data"
    }
   ],
   "source": [
    "dat = dat_peak_score\n",
    "dat = dat %>% \n",
    "    dplyr::left_join(dat_peak_annot, by=\"Peak\", relationship=\"many-to-many\") %>%\n",
    "    dplyr::select(Peak, ZScore, Assay_Type, Label) %>%\n",
    "    dplyr::mutate(Label = ifelse(is.na(Label), \"None\", Label))\n",
    "\n",
    "### assign and show\n",
    "dat_peak_score_label = dat\n",
    "print(dim(dat))\n",
    "head(dat)"
   ]
  },
  {
   "cell_type": "markdown",
   "id": "8bba4823-9750-4a46-90d2-5c1185810724",
   "metadata": {},
   "source": [
    "**Check**"
   ]
  },
  {
   "cell_type": "code",
   "execution_count": 7,
   "id": "d9306270-0456-4fe0-87bb-b8c950d70117",
   "metadata": {},
   "outputs": [
    {
     "data": {
      "text/html": [
       "<table class=\"dataframe\">\n",
       "<caption>A tibble: 8 × 3</caption>\n",
       "<thead>\n",
       "\t<tr><th scope=col>Assay_Type</th><th scope=col>Mean</th><th scope=col>Var</th></tr>\n",
       "\t<tr><th scope=col>&lt;chr&gt;</th><th scope=col>&lt;dbl&gt;</th><th scope=col>&lt;dbl[,1]&gt;</th></tr>\n",
       "</thead>\n",
       "<tbody>\n",
       "\t<tr><td>ASTARR               </td><td> 2.419471e-17</td><td>1</td></tr>\n",
       "\t<tr><td>CRISPRi-Growth       </td><td> 7.708293e-18</td><td>1</td></tr>\n",
       "\t<tr><td>CRISPRi-HCRFF        </td><td>-9.224380e-20</td><td>1</td></tr>\n",
       "\t<tr><td>ENCODE-E2G_Benchmark </td><td>-8.636538e-18</td><td>1</td></tr>\n",
       "\t<tr><td>ENCODE-E2G_Prediction</td><td>-1.331934e-17</td><td>1</td></tr>\n",
       "\t<tr><td>LMPRA                </td><td>-3.392632e-17</td><td>1</td></tr>\n",
       "\t<tr><td>TMPRA                </td><td> 2.561034e-17</td><td>1</td></tr>\n",
       "\t<tr><td>WSTARR               </td><td> 7.705577e-18</td><td>1</td></tr>\n",
       "</tbody>\n",
       "</table>\n"
      ],
      "text/latex": [
       "A tibble: 8 × 3\n",
       "\\begin{tabular}{lll}\n",
       " Assay\\_Type & Mean & Var\\\\\n",
       " <chr> & <dbl> & <dbl{[},1{]}>\\\\\n",
       "\\hline\n",
       "\t ASTARR                &  2.419471e-17 & 1\\\\\n",
       "\t CRISPRi-Growth        &  7.708293e-18 & 1\\\\\n",
       "\t CRISPRi-HCRFF         & -9.224380e-20 & 1\\\\\n",
       "\t ENCODE-E2G\\_Benchmark  & -8.636538e-18 & 1\\\\\n",
       "\t ENCODE-E2G\\_Prediction & -1.331934e-17 & 1\\\\\n",
       "\t LMPRA                 & -3.392632e-17 & 1\\\\\n",
       "\t TMPRA                 &  2.561034e-17 & 1\\\\\n",
       "\t WSTARR                &  7.705577e-18 & 1\\\\\n",
       "\\end{tabular}\n"
      ],
      "text/markdown": [
       "\n",
       "A tibble: 8 × 3\n",
       "\n",
       "| Assay_Type &lt;chr&gt; | Mean &lt;dbl&gt; | Var &lt;dbl[,1]&gt; |\n",
       "|---|---|---|\n",
       "| ASTARR                |  2.419471e-17 | 1 |\n",
       "| CRISPRi-Growth        |  7.708293e-18 | 1 |\n",
       "| CRISPRi-HCRFF         | -9.224380e-20 | 1 |\n",
       "| ENCODE-E2G_Benchmark  | -8.636538e-18 | 1 |\n",
       "| ENCODE-E2G_Prediction | -1.331934e-17 | 1 |\n",
       "| LMPRA                 | -3.392632e-17 | 1 |\n",
       "| TMPRA                 |  2.561034e-17 | 1 |\n",
       "| WSTARR                |  7.705577e-18 | 1 |\n",
       "\n"
      ],
      "text/plain": [
       "  Assay_Type            Mean          Var\n",
       "1 ASTARR                 2.419471e-17 1  \n",
       "2 CRISPRi-Growth         7.708293e-18 1  \n",
       "3 CRISPRi-HCRFF         -9.224380e-20 1  \n",
       "4 ENCODE-E2G_Benchmark  -8.636538e-18 1  \n",
       "5 ENCODE-E2G_Prediction -1.331934e-17 1  \n",
       "6 LMPRA                 -3.392632e-17 1  \n",
       "7 TMPRA                  2.561034e-17 1  \n",
       "8 WSTARR                 7.705577e-18 1  "
      ]
     },
     "metadata": {},
     "output_type": "display_data"
    }
   ],
   "source": [
    "dat = dat_peak_score\n",
    "dat = dat %>% \n",
    "    dplyr::group_by(Assay_Type) %>% \n",
    "    dplyr::summarize(\n",
    "        Mean = mean(ZScore), \n",
    "        Var = var(ZScore),\n",
    "        .groups = \"drop\"\n",
    "    )\n",
    "dat"
   ]
  },
  {
   "cell_type": "code",
   "execution_count": null,
   "id": "f2f6623f-6b5b-4e9a-8d2e-2ae2fa024fed",
   "metadata": {},
   "outputs": [],
   "source": []
  },
  {
   "cell_type": "code",
   "execution_count": null,
   "id": "68328c44-ab83-49a3-a5d5-6fd5a1e29785",
   "metadata": {},
   "outputs": [],
   "source": []
  },
  {
   "cell_type": "code",
   "execution_count": null,
   "id": "2604ed56-8317-43ba-b044-8047f35989dd",
   "metadata": {},
   "outputs": [],
   "source": []
  },
  {
   "cell_type": "code",
   "execution_count": 8,
   "id": "d153abcf-1c20-43db-b4f7-433d744e16b7",
   "metadata": {},
   "outputs": [],
   "source": [
    "fun_bstrap_interveral = function(vec_num, fun = `mean`, num_iteration = 1000, num_seed = 123){\n",
    "    ### init\n",
    "    set.seed(num_seed)\n",
    "    \n",
    "    ### column: num_iteraction\n",
    "    ### row:    length(vec_num)\n",
    "    mat = replicate(\n",
    "        num_iteration,\n",
    "        sample(vec_num, replace = TRUE)\n",
    "    )\n",
    "\n",
    "    vec = apply(mat, 2, fun)\n",
    "    res = quantile(vec, probs = c(0, 0.025, 0.25, 0.5, 0.75, 0.975, 1))\n",
    "    res = c(res, mean(vec))\n",
    "    names(res) = c(\"Min\", \"Ci95_Lw\", \"Q1\", \"Q2\", \"Q3\", \"Ci95_Up\", \"Max\", \"Mean\")\n",
    "    return(res)\n",
    "}"
   ]
  },
  {
   "cell_type": "code",
   "execution_count": 9,
   "id": "3cc2064d-58ab-48b0-b682-f3be7cdc3b5c",
   "metadata": {},
   "outputs": [
    {
     "data": {
      "text/html": [
       "<table class=\"dataframe\">\n",
       "<caption>A tibble: 6 × 10</caption>\n",
       "<thead>\n",
       "\t<tr><th scope=col>Assay_Type</th><th scope=col>Labels</th><th scope=col>Min</th><th scope=col>Ci95_Lw</th><th scope=col>Q1</th><th scope=col>Q2</th><th scope=col>Q3</th><th scope=col>Ci95_Up</th><th scope=col>Max</th><th scope=col>Mean</th></tr>\n",
       "\t<tr><th scope=col>&lt;chr&gt;</th><th scope=col>&lt;chr&gt;</th><th scope=col>&lt;dbl&gt;</th><th scope=col>&lt;dbl&gt;</th><th scope=col>&lt;dbl&gt;</th><th scope=col>&lt;dbl&gt;</th><th scope=col>&lt;dbl&gt;</th><th scope=col>&lt;dbl&gt;</th><th scope=col>&lt;dbl&gt;</th><th scope=col>&lt;dbl&gt;</th></tr>\n",
       "</thead>\n",
       "<tbody>\n",
       "\t<tr><td>ASTARR</td><td>Active TSS      </td><td> 0.6544483</td><td> 0.6698423</td><td> 0.68434331</td><td> 0.69217180</td><td> 0.69987254</td><td> 0.71508587</td><td> 0.73180009</td><td> 0.69220961</td></tr>\n",
       "\t<tr><td>ASTARR</td><td>Bivalent        </td><td>-0.4578212</td><td>-0.4445108</td><td>-0.43521376</td><td>-0.43004229</td><td>-0.42462984</td><td>-0.41433259</td><td>-0.40503444</td><td>-0.42991183</td></tr>\n",
       "\t<tr><td>ASTARR</td><td>Enhancer        </td><td> 0.9196870</td><td> 0.9264180</td><td> 0.93732119</td><td> 0.94247013</td><td> 0.94797521</td><td> 0.95899346</td><td> 0.96623693</td><td> 0.94257255</td></tr>\n",
       "\t<tr><td>ASTARR</td><td>Enhancer in gene</td><td>-0.1679541</td><td>-0.1543910</td><td>-0.14426616</td><td>-0.13696693</td><td>-0.13021500</td><td>-0.11799573</td><td>-0.10638820</td><td>-0.13701262</td></tr>\n",
       "\t<tr><td>ASTARR</td><td>Flanking TSS    </td><td> 0.1232442</td><td> 0.1323432</td><td> 0.14242199</td><td> 0.14833024</td><td> 0.15387801</td><td> 0.16418945</td><td> 0.17445957</td><td> 0.14828712</td></tr>\n",
       "\t<tr><td>ASTARR</td><td>Heterochromatin </td><td>-0.1232127</td><td>-0.1090275</td><td>-0.08433915</td><td>-0.07164078</td><td>-0.05847417</td><td>-0.03507649</td><td>-0.01741124</td><td>-0.07160558</td></tr>\n",
       "</tbody>\n",
       "</table>\n"
      ],
      "text/latex": [
       "A tibble: 6 × 10\n",
       "\\begin{tabular}{llllllllll}\n",
       " Assay\\_Type & Labels & Min & Ci95\\_Lw & Q1 & Q2 & Q3 & Ci95\\_Up & Max & Mean\\\\\n",
       " <chr> & <chr> & <dbl> & <dbl> & <dbl> & <dbl> & <dbl> & <dbl> & <dbl> & <dbl>\\\\\n",
       "\\hline\n",
       "\t ASTARR & Active TSS       &  0.6544483 &  0.6698423 &  0.68434331 &  0.69217180 &  0.69987254 &  0.71508587 &  0.73180009 &  0.69220961\\\\\n",
       "\t ASTARR & Bivalent         & -0.4578212 & -0.4445108 & -0.43521376 & -0.43004229 & -0.42462984 & -0.41433259 & -0.40503444 & -0.42991183\\\\\n",
       "\t ASTARR & Enhancer         &  0.9196870 &  0.9264180 &  0.93732119 &  0.94247013 &  0.94797521 &  0.95899346 &  0.96623693 &  0.94257255\\\\\n",
       "\t ASTARR & Enhancer in gene & -0.1679541 & -0.1543910 & -0.14426616 & -0.13696693 & -0.13021500 & -0.11799573 & -0.10638820 & -0.13701262\\\\\n",
       "\t ASTARR & Flanking TSS     &  0.1232442 &  0.1323432 &  0.14242199 &  0.14833024 &  0.15387801 &  0.16418945 &  0.17445957 &  0.14828712\\\\\n",
       "\t ASTARR & Heterochromatin  & -0.1232127 & -0.1090275 & -0.08433915 & -0.07164078 & -0.05847417 & -0.03507649 & -0.01741124 & -0.07160558\\\\\n",
       "\\end{tabular}\n"
      ],
      "text/markdown": [
       "\n",
       "A tibble: 6 × 10\n",
       "\n",
       "| Assay_Type &lt;chr&gt; | Labels &lt;chr&gt; | Min &lt;dbl&gt; | Ci95_Lw &lt;dbl&gt; | Q1 &lt;dbl&gt; | Q2 &lt;dbl&gt; | Q3 &lt;dbl&gt; | Ci95_Up &lt;dbl&gt; | Max &lt;dbl&gt; | Mean &lt;dbl&gt; |\n",
       "|---|---|---|---|---|---|---|---|---|---|\n",
       "| ASTARR | Active TSS       |  0.6544483 |  0.6698423 |  0.68434331 |  0.69217180 |  0.69987254 |  0.71508587 |  0.73180009 |  0.69220961 |\n",
       "| ASTARR | Bivalent         | -0.4578212 | -0.4445108 | -0.43521376 | -0.43004229 | -0.42462984 | -0.41433259 | -0.40503444 | -0.42991183 |\n",
       "| ASTARR | Enhancer         |  0.9196870 |  0.9264180 |  0.93732119 |  0.94247013 |  0.94797521 |  0.95899346 |  0.96623693 |  0.94257255 |\n",
       "| ASTARR | Enhancer in gene | -0.1679541 | -0.1543910 | -0.14426616 | -0.13696693 | -0.13021500 | -0.11799573 | -0.10638820 | -0.13701262 |\n",
       "| ASTARR | Flanking TSS     |  0.1232442 |  0.1323432 |  0.14242199 |  0.14833024 |  0.15387801 |  0.16418945 |  0.17445957 |  0.14828712 |\n",
       "| ASTARR | Heterochromatin  | -0.1232127 | -0.1090275 | -0.08433915 | -0.07164078 | -0.05847417 | -0.03507649 | -0.01741124 | -0.07160558 |\n",
       "\n"
      ],
      "text/plain": [
       "  Assay_Type Labels           Min        Ci95_Lw    Q1          Q2         \n",
       "1 ASTARR     Active TSS        0.6544483  0.6698423  0.68434331  0.69217180\n",
       "2 ASTARR     Bivalent         -0.4578212 -0.4445108 -0.43521376 -0.43004229\n",
       "3 ASTARR     Enhancer          0.9196870  0.9264180  0.93732119  0.94247013\n",
       "4 ASTARR     Enhancer in gene -0.1679541 -0.1543910 -0.14426616 -0.13696693\n",
       "5 ASTARR     Flanking TSS      0.1232442  0.1323432  0.14242199  0.14833024\n",
       "6 ASTARR     Heterochromatin  -0.1232127 -0.1090275 -0.08433915 -0.07164078\n",
       "  Q3          Ci95_Up     Max         Mean       \n",
       "1  0.69987254  0.71508587  0.73180009  0.69220961\n",
       "2 -0.42462984 -0.41433259 -0.40503444 -0.42991183\n",
       "3  0.94797521  0.95899346  0.96623693  0.94257255\n",
       "4 -0.13021500 -0.11799573 -0.10638820 -0.13701262\n",
       "5  0.15387801  0.16418945  0.17445957  0.14828712\n",
       "6 -0.05847417 -0.03507649 -0.01741124 -0.07160558"
      ]
     },
     "metadata": {},
     "output_type": "display_data"
    }
   ],
   "source": [
    "dat = dat_peak_score_label\n",
    "\n",
    "lst = split(dat, dat$Assay_Type)\n",
    "lst = lapply(lst, function(dat){\n",
    "    lst_inner = split(dat$ZScore, dat$Label)\n",
    "    lst_inner = lapply(lst_inner, fun_bstrap_interveral)\n",
    "    dat = bind_rows(lst_inner, .id = \"Labels\")\n",
    "    return(dat)\n",
    "})\n",
    "\n",
    "dat = bind_rows(lst, .id = \"Assay_Type\")\n",
    "dat_peak_score_summary = dat\n",
    "head(dat)"
   ]
  },
  {
   "cell_type": "code",
   "execution_count": 10,
   "id": "2f31d2b4-c40a-421a-a058-050611f29b76",
   "metadata": {},
   "outputs": [
    {
     "data": {
      "text/plain": [
       "\n",
       "           Active TSS              Bivalent              Enhancer \n",
       "                    8                     8                     8 \n",
       "     Enhancer in gene          Flanking TSS       Heterochromatin \n",
       "                    8                     8                     8 \n",
       "                 None             Quiescent Repressed by Polycomb \n",
       "                    8                     8                     8 \n",
       "        Transcription    Weak transcription     ZNF genes repeats \n",
       "                    8                     8                     8 "
      ]
     },
     "metadata": {},
     "output_type": "display_data"
    }
   ],
   "source": [
    "dat = dat_peak_score_summary\n",
    "table(dat$Labels)"
   ]
  },
  {
   "cell_type": "code",
   "execution_count": null,
   "id": "527a71f5-aff2-4664-a9ab-d3398bce126a",
   "metadata": {},
   "outputs": [],
   "source": []
  },
  {
   "cell_type": "code",
   "execution_count": null,
   "id": "3fc41f77-ec13-4e7f-ac08-ad720f330260",
   "metadata": {},
   "outputs": [],
   "source": []
  },
  {
   "cell_type": "code",
   "execution_count": null,
   "id": "82d2b53f-f3d1-4ddf-8881-e8c10883cc32",
   "metadata": {},
   "outputs": [],
   "source": []
  },
  {
   "cell_type": "code",
   "execution_count": 12,
   "id": "899a9407-57b1-48bd-9415-5c49f98abbff",
   "metadata": {},
   "outputs": [
    {
     "data": {
      "image/png": "[encoded data removed]",
      "text/plain": [
       "plot without title"
      ]
     },
     "metadata": {
      "image/png": {
       "height": 420,
       "width": 780
      }
     },
     "output_type": "display_data"
    }
   ],
   "source": [
    "vec_txt_assay = c(\"ASTARR\", \"WSTARR\", \"TMPRA\", \"LMPRA\", \"CRISPRi-HCRFF\", \"CRISPRi-Growth\")\n",
    "\n",
    "vec_txt_label = c(\n",
    "    \"Active TSS\", \n",
    "    \"Flanking TSS\", \n",
    "    \"Enhancer\", \n",
    "    \"Enhancer in gene\", \n",
    "    \"Transcription\",\n",
    "    \"Weak transcription\", \n",
    "    \"ZNF genes repeats\",\n",
    "    \"Bivalent\",  \n",
    "    \"Repressed by Polycomb\", \n",
    "    \"Heterochromatin\",\n",
    "    \"Quiescent\",\n",
    "    \"None\"\n",
    ")\n",
    "\n",
    "vec_txt_color = c(\n",
    "    \"ASTARR\" = \"#fb8072\", \n",
    "    \"WSTARR\" = \"#80b1d3\", \n",
    "    \"TMPRA\"  = \"#8dd3c7\", \n",
    "    \"LMPRA\"  = \"#ff7f00\",\n",
    "    \"CRISPRi-HCRFF\"  = \"#e78ac3\", \n",
    "    \"CRISPRi-Growth\" = \"#6a3d9a\")\n",
    "\n",
    "dat = dat_peak_score_summary\n",
    "dat = dat %>% \n",
    "    dplyr::filter(Assay_Type %in% vec_txt_assay) %>%\n",
    "    dplyr::filter(Labels     %in% vec_txt_label) %>%\n",
    "    dplyr::mutate(\n",
    "        Labels     = factor(Labels,     levels=rev(vec_txt_label)),\n",
    "        Assay_Type = factor(Assay_Type, levels=vec_txt_assay)\n",
    "    )\n",
    "\n",
    "gpt = ggplot(dat) + \n",
    "    geom_col(\n",
    "        aes(\n",
    "            x     = Labels, \n",
    "            y     = Mean,\n",
    "            group = Assay_Type,\n",
    "            color = Assay_Type\n",
    "        ),\n",
    "        position = \"dodge\",\n",
    "        fill = \"white\",\n",
    "        linewidth = 1\n",
    "    ) +\n",
    "    geom_errorbar(\n",
    "        aes(\n",
    "            x     = Labels, \n",
    "            ymin  = Ci95_Lw, \n",
    "            ymax  = Ci95_Up,\n",
    "            group = Assay_Type, \n",
    "            color = Assay_Type\n",
    "           ), \n",
    "        width = 0.2,\n",
    "        linewidth  = 1\n",
    "    ) +\n",
    "    geom_hline(yintercept = 0, color=\"black\", size = 1) +\n",
    "    geom_hline(yintercept = c(1, 0.5, -0.5), color=\"grey70\") +\n",
    "    labs(x=\"\", y=\"Z Score\") +\n",
    "    scale_color_manual(values = vec_txt_color) +\n",
    "    theme_cowplot() +\n",
    "    coord_flip() +\n",
    "    facet_wrap(~Assay_Type, nrow=2) +\n",
    "    theme(legend.position = \"None\")\n",
    "\n",
    "options(repr.plot.height=7, repr.plot.width = 13)\n",
    "print(gpt)"
   ]
  },
  {
   "cell_type": "code",
   "execution_count": null,
   "id": "f21d81a6-bfc8-4aed-8576-e76572394d86",
   "metadata": {},
   "outputs": [],
   "source": []
  }
 ],
 "metadata": {
  "kernelspec": {
   "display_name": "R",
   "language": "R",
   "name": "ir"
  },
  "language_info": {
   "codemirror_mode": "r",
   "file_extension": ".r",
   "mimetype": "text/x-r-source",
   "name": "R",
   "pygments_lexer": "r",
   "version": "4.3.1"
  }
 },
 "nbformat": 4,
 "nbformat_minor": 5
}
