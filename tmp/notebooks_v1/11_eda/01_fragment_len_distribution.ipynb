{
 "cells": [
  {
   "cell_type": "code",
   "execution_count": 1,
   "id": "399de9a7-753f-42eb-a475-ae5b857ee2b0",
   "metadata": {},
   "outputs": [
    {
     "name": "stdout",
     "output_type": "stream",
     "text": [
      "You are in singularity_proj_encode_fcc \n",
      "BASE DIRECTORY:     /mount/work \n",
      "PATH OF SOURCE:     /mount/work/source \n",
      "PATH OF EXECUTABLE: /mount/work/exe \n",
      "PATH OF ANNOTATION: /mount/work/annotation \n",
      "PATH OF PROJECT:    /mount/project \n",
      "PATH OF RESULTS:    /mount/work/out/proj_combeffect_encode_fcc \n"
     ]
    }
   ],
   "source": [
    "suppressMessages(source(\"../config_sing.R\"))"
   ]
  },
  {
   "cell_type": "code",
   "execution_count": 15,
   "id": "9eb10569-0f2d-4eb8-86c8-edfec9a932e7",
   "metadata": {},
   "outputs": [
    {
     "data": {
      "text/html": [
       "<style>\n",
       ".list-inline {list-style: none; margin:0; padding: 0}\n",
       ".list-inline>li {display: inline-block}\n",
       ".list-inline>li:not(:last-child)::after {content: \"\\00b7\"; padding: 0 .5ex}\n",
       "</style>\n",
       "<ol class=list-inline><li>'library_size.txt'</li><li>'Tile_K562_20210130.GATA1.unstranded.bed'</li></ol>\n"
      ],
      "text/latex": [
       "\\begin{enumerate*}\n",
       "\\item 'library\\_size.txt'\n",
       "\\item 'Tile\\_K562\\_20210130.GATA1.unstranded.bed'\n",
       "\\end{enumerate*}\n"
      ],
      "text/markdown": [
       "1. 'library_size.txt'\n",
       "2. 'Tile_K562_20210130.GATA1.unstranded.bed'\n",
       "\n",
       "\n"
      ],
      "text/plain": [
       "[1] \"library_size.txt\"                       \n",
       "[2] \"Tile_K562_20210130.GATA1.unstranded.bed\""
      ]
     },
     "metadata": {},
     "output_type": "display_data"
    }
   ],
   "source": [
    "fdiry = file.path(FD_RES, \"Tewhey_K562_TileMPRA\", \"fragment\")\n",
    "dir(fdiry)"
   ]
  },
  {
   "cell_type": "code",
   "execution_count": 16,
   "id": "09eaa399-16ac-4efd-9b8a-aefce9d0d8b1",
   "metadata": {},
   "outputs": [],
   "source": [
    "### init: file directory\n",
    "fdiry = file.path(FD_RES, \"Tewhey_K562_TileMPRA\", \"fragment\")\n",
    "fname = \"Tile_K562_20210130.GATA1.unstranded.bed\"\n",
    "fpath = file.path(fdiry, fname)\n",
    "\n",
    "### init: data type\n",
    "cnames = c(\"Chrom\", \"Start\", \"End\", \"Name\")\n",
    "ctypes = c(col_character(), col_integer(), col_integer(), col_character())\n",
    "\n",
    "### read data\n",
    "dat = read_tsv(\n",
    "    fpath, \n",
    "    col_types = ctypes, \n",
    "    col_names = cnames)\n",
    "dat = dat %>% mutate(Length = End - Start)\n",
    "dat_mpra = dat"
   ]
  },
  {
   "cell_type": "code",
   "execution_count": 17,
   "id": "12b2b667-85ee-4291-b495-9cb5990c00e8",
   "metadata": {},
   "outputs": [
    {
     "data": {
      "text/html": [
       "<table class=\"dataframe\">\n",
       "<caption>A tibble: 6 × 5</caption>\n",
       "<thead>\n",
       "\t<tr><th scope=col>Chrom</th><th scope=col>Start</th><th scope=col>End</th><th scope=col>Name</th><th scope=col>Length</th></tr>\n",
       "\t<tr><th scope=col>&lt;chr&gt;</th><th scope=col>&lt;dbl&gt;</th><th scope=col>&lt;dbl&gt;</th><th scope=col>&lt;chr&gt;</th><th scope=col>&lt;dbl&gt;</th></tr>\n",
       "</thead>\n",
       "<tbody>\n",
       "\t<tr><td>chrX</td><td>47786401</td><td>47786600</td><td>X:47786401-47786600</td><td>199</td></tr>\n",
       "\t<tr><td>chrX</td><td>47786451</td><td>47786650</td><td>X:47786451-47786650</td><td>199</td></tr>\n",
       "\t<tr><td>chrX</td><td>47786501</td><td>47786700</td><td>X:47786501-47786700</td><td>199</td></tr>\n",
       "\t<tr><td>chrX</td><td>47786551</td><td>47786750</td><td>X:47786551-47786750</td><td>199</td></tr>\n",
       "\t<tr><td>chrX</td><td>47786601</td><td>47786800</td><td>X:47786601-47786800</td><td>199</td></tr>\n",
       "\t<tr><td>chrX</td><td>47786651</td><td>47786850</td><td>X:47786651-47786850</td><td>199</td></tr>\n",
       "</tbody>\n",
       "</table>\n"
      ],
      "text/latex": [
       "A tibble: 6 × 5\n",
       "\\begin{tabular}{lllll}\n",
       " Chrom & Start & End & Name & Length\\\\\n",
       " <chr> & <dbl> & <dbl> & <chr> & <dbl>\\\\\n",
       "\\hline\n",
       "\t chrX & 47786401 & 47786600 & X:47786401-47786600 & 199\\\\\n",
       "\t chrX & 47786451 & 47786650 & X:47786451-47786650 & 199\\\\\n",
       "\t chrX & 47786501 & 47786700 & X:47786501-47786700 & 199\\\\\n",
       "\t chrX & 47786551 & 47786750 & X:47786551-47786750 & 199\\\\\n",
       "\t chrX & 47786601 & 47786800 & X:47786601-47786800 & 199\\\\\n",
       "\t chrX & 47786651 & 47786850 & X:47786651-47786850 & 199\\\\\n",
       "\\end{tabular}\n"
      ],
      "text/markdown": [
       "\n",
       "A tibble: 6 × 5\n",
       "\n",
       "| Chrom &lt;chr&gt; | Start &lt;dbl&gt; | End &lt;dbl&gt; | Name &lt;chr&gt; | Length &lt;dbl&gt; |\n",
       "|---|---|---|---|---|\n",
       "| chrX | 47786401 | 47786600 | X:47786401-47786600 | 199 |\n",
       "| chrX | 47786451 | 47786650 | X:47786451-47786650 | 199 |\n",
       "| chrX | 47786501 | 47786700 | X:47786501-47786700 | 199 |\n",
       "| chrX | 47786551 | 47786750 | X:47786551-47786750 | 199 |\n",
       "| chrX | 47786601 | 47786800 | X:47786601-47786800 | 199 |\n",
       "| chrX | 47786651 | 47786850 | X:47786651-47786850 | 199 |\n",
       "\n"
      ],
      "text/plain": [
       "  Chrom Start    End      Name                Length\n",
       "1 chrX  47786401 47786600 X:47786401-47786600 199   \n",
       "2 chrX  47786451 47786650 X:47786451-47786650 199   \n",
       "3 chrX  47786501 47786700 X:47786501-47786700 199   \n",
       "4 chrX  47786551 47786750 X:47786551-47786750 199   \n",
       "5 chrX  47786601 47786800 X:47786601-47786800 199   \n",
       "6 chrX  47786651 47786850 X:47786651-47786850 199   "
      ]
     },
     "metadata": {},
     "output_type": "display_data"
    }
   ],
   "source": [
    "head(dat_mpra)"
   ]
  },
  {
   "cell_type": "code",
   "execution_count": 11,
   "id": "bb728d3e-547b-46f5-987e-401d4dc26e04",
   "metadata": {},
   "outputs": [
    {
     "data": {
      "text/html": [
       "<style>\n",
       ".list-inline {list-style: none; margin:0; padding: 0}\n",
       ".list-inline>li {display: inline-block}\n",
       ".list-inline>li:not(:last-child)::after {content: \"\\00b7\"; padding: 0 .5ex}\n",
       "</style>\n",
       "<ol class=list-inline><li>'KS91_K562_hg38_ASTARRseq_Input_rep1.GATA1.unstranded.dedups.bed'</li><li>'KS91_K562_hg38_ASTARRseq_Input_rep2.GATA1.unstranded.dedups.bed'</li><li>'KS91_K562_hg38_ASTARRseq_Input_rep3.GATA1.unstranded.dedups.bed'</li><li>'KS91_K562_hg38_ASTARRseq_Input_rep4.GATA1.unstranded.dedups.bed'</li><li>'KS91_K562_hg38_ASTARRseq_Input_rep5.GATA1.unstranded.dedups.bed'</li><li>'KS91_K562_hg38_ASTARRseq_Input_rep6.GATA1.unstranded.dedups.bed'</li><li>'KS91_K562_hg38_ASTARRseq_Output_rep1.GATA1.unstranded.bed'</li><li>'KS91_K562_hg38_ASTARRseq_Output_rep2.GATA1.unstranded.bed'</li><li>'KS91_K562_hg38_ASTARRseq_Output_rep3.GATA1.unstranded.bed'</li><li>'KS91_K562_hg38_ASTARRseq_Output_rep4.GATA1.unstranded.bed'</li><li>'library_size.tsv'</li><li>'library_size.txt'</li></ol>\n"
      ],
      "text/latex": [
       "\\begin{enumerate*}\n",
       "\\item 'KS91\\_K562\\_hg38\\_ASTARRseq\\_Input\\_rep1.GATA1.unstranded.dedups.bed'\n",
       "\\item 'KS91\\_K562\\_hg38\\_ASTARRseq\\_Input\\_rep2.GATA1.unstranded.dedups.bed'\n",
       "\\item 'KS91\\_K562\\_hg38\\_ASTARRseq\\_Input\\_rep3.GATA1.unstranded.dedups.bed'\n",
       "\\item 'KS91\\_K562\\_hg38\\_ASTARRseq\\_Input\\_rep4.GATA1.unstranded.dedups.bed'\n",
       "\\item 'KS91\\_K562\\_hg38\\_ASTARRseq\\_Input\\_rep5.GATA1.unstranded.dedups.bed'\n",
       "\\item 'KS91\\_K562\\_hg38\\_ASTARRseq\\_Input\\_rep6.GATA1.unstranded.dedups.bed'\n",
       "\\item 'KS91\\_K562\\_hg38\\_ASTARRseq\\_Output\\_rep1.GATA1.unstranded.bed'\n",
       "\\item 'KS91\\_K562\\_hg38\\_ASTARRseq\\_Output\\_rep2.GATA1.unstranded.bed'\n",
       "\\item 'KS91\\_K562\\_hg38\\_ASTARRseq\\_Output\\_rep3.GATA1.unstranded.bed'\n",
       "\\item 'KS91\\_K562\\_hg38\\_ASTARRseq\\_Output\\_rep4.GATA1.unstranded.bed'\n",
       "\\item 'library\\_size.tsv'\n",
       "\\item 'library\\_size.txt'\n",
       "\\end{enumerate*}\n"
      ],
      "text/markdown": [
       "1. 'KS91_K562_hg38_ASTARRseq_Input_rep1.GATA1.unstranded.dedups.bed'\n",
       "2. 'KS91_K562_hg38_ASTARRseq_Input_rep2.GATA1.unstranded.dedups.bed'\n",
       "3. 'KS91_K562_hg38_ASTARRseq_Input_rep3.GATA1.unstranded.dedups.bed'\n",
       "4. 'KS91_K562_hg38_ASTARRseq_Input_rep4.GATA1.unstranded.dedups.bed'\n",
       "5. 'KS91_K562_hg38_ASTARRseq_Input_rep5.GATA1.unstranded.dedups.bed'\n",
       "6. 'KS91_K562_hg38_ASTARRseq_Input_rep6.GATA1.unstranded.dedups.bed'\n",
       "7. 'KS91_K562_hg38_ASTARRseq_Output_rep1.GATA1.unstranded.bed'\n",
       "8. 'KS91_K562_hg38_ASTARRseq_Output_rep2.GATA1.unstranded.bed'\n",
       "9. 'KS91_K562_hg38_ASTARRseq_Output_rep3.GATA1.unstranded.bed'\n",
       "10. 'KS91_K562_hg38_ASTARRseq_Output_rep4.GATA1.unstranded.bed'\n",
       "11. 'library_size.tsv'\n",
       "12. 'library_size.txt'\n",
       "\n",
       "\n"
      ],
      "text/plain": [
       " [1] \"KS91_K562_hg38_ASTARRseq_Input_rep1.GATA1.unstranded.dedups.bed\"\n",
       " [2] \"KS91_K562_hg38_ASTARRseq_Input_rep2.GATA1.unstranded.dedups.bed\"\n",
       " [3] \"KS91_K562_hg38_ASTARRseq_Input_rep3.GATA1.unstranded.dedups.bed\"\n",
       " [4] \"KS91_K562_hg38_ASTARRseq_Input_rep4.GATA1.unstranded.dedups.bed\"\n",
       " [5] \"KS91_K562_hg38_ASTARRseq_Input_rep5.GATA1.unstranded.dedups.bed\"\n",
       " [6] \"KS91_K562_hg38_ASTARRseq_Input_rep6.GATA1.unstranded.dedups.bed\"\n",
       " [7] \"KS91_K562_hg38_ASTARRseq_Output_rep1.GATA1.unstranded.bed\"      \n",
       " [8] \"KS91_K562_hg38_ASTARRseq_Output_rep2.GATA1.unstranded.bed\"      \n",
       " [9] \"KS91_K562_hg38_ASTARRseq_Output_rep3.GATA1.unstranded.bed\"      \n",
       "[10] \"KS91_K562_hg38_ASTARRseq_Output_rep4.GATA1.unstranded.bed\"      \n",
       "[11] \"library_size.tsv\"                                               \n",
       "[12] \"library_size.txt\"                                               "
      ]
     },
     "metadata": {},
     "output_type": "display_data"
    }
   ],
   "source": [
    "fdiry = file.path(FD_RES, \"KS91_K562_ASTARRseq\", \"fragment\")\n",
    "dir(fdiry)"
   ]
  },
  {
   "cell_type": "code",
   "execution_count": 38,
   "id": "ab531610-7803-46b6-964a-c95dc79a32b9",
   "metadata": {},
   "outputs": [
    {
     "data": {
      "text/html": [
       "<table class=\"dataframe\">\n",
       "<caption>A tibble: 6 × 5</caption>\n",
       "<thead>\n",
       "\t<tr><th scope=col>Chrom</th><th scope=col>Start</th><th scope=col>End</th><th scope=col>Name</th><th scope=col>Length</th></tr>\n",
       "\t<tr><th scope=col>&lt;chr&gt;</th><th scope=col>&lt;dbl&gt;</th><th scope=col>&lt;dbl&gt;</th><th scope=col>&lt;chr&gt;</th><th scope=col>&lt;dbl&gt;</th></tr>\n",
       "</thead>\n",
       "<tbody>\n",
       "\t<tr><td>chrX</td><td>47787165</td><td>47787363</td><td>chrX_47787165_47787363</td><td>198</td></tr>\n",
       "\t<tr><td>chrX</td><td>47787557</td><td>47787773</td><td>chrX_47787557_47787773</td><td>216</td></tr>\n",
       "\t<tr><td>chrX</td><td>47787593</td><td>47787783</td><td>chrX_47787593_47787783</td><td>190</td></tr>\n",
       "\t<tr><td>chrX</td><td>47787598</td><td>47787772</td><td>chrX_47787598_47787772</td><td>174</td></tr>\n",
       "\t<tr><td>chrX</td><td>47787661</td><td>47788058</td><td>chrX_47787661_47788058</td><td>397</td></tr>\n",
       "\t<tr><td>chrX</td><td>47787743</td><td>47787849</td><td>chrX_47787743_47787849</td><td>106</td></tr>\n",
       "</tbody>\n",
       "</table>\n"
      ],
      "text/latex": [
       "A tibble: 6 × 5\n",
       "\\begin{tabular}{lllll}\n",
       " Chrom & Start & End & Name & Length\\\\\n",
       " <chr> & <dbl> & <dbl> & <chr> & <dbl>\\\\\n",
       "\\hline\n",
       "\t chrX & 47787165 & 47787363 & chrX\\_47787165\\_47787363 & 198\\\\\n",
       "\t chrX & 47787557 & 47787773 & chrX\\_47787557\\_47787773 & 216\\\\\n",
       "\t chrX & 47787593 & 47787783 & chrX\\_47787593\\_47787783 & 190\\\\\n",
       "\t chrX & 47787598 & 47787772 & chrX\\_47787598\\_47787772 & 174\\\\\n",
       "\t chrX & 47787661 & 47788058 & chrX\\_47787661\\_47788058 & 397\\\\\n",
       "\t chrX & 47787743 & 47787849 & chrX\\_47787743\\_47787849 & 106\\\\\n",
       "\\end{tabular}\n"
      ],
      "text/markdown": [
       "\n",
       "A tibble: 6 × 5\n",
       "\n",
       "| Chrom &lt;chr&gt; | Start &lt;dbl&gt; | End &lt;dbl&gt; | Name &lt;chr&gt; | Length &lt;dbl&gt; |\n",
       "|---|---|---|---|---|\n",
       "| chrX | 47787165 | 47787363 | chrX_47787165_47787363 | 198 |\n",
       "| chrX | 47787557 | 47787773 | chrX_47787557_47787773 | 216 |\n",
       "| chrX | 47787593 | 47787783 | chrX_47787593_47787783 | 190 |\n",
       "| chrX | 47787598 | 47787772 | chrX_47787598_47787772 | 174 |\n",
       "| chrX | 47787661 | 47788058 | chrX_47787661_47788058 | 397 |\n",
       "| chrX | 47787743 | 47787849 | chrX_47787743_47787849 | 106 |\n",
       "\n"
      ],
      "text/plain": [
       "  Chrom Start    End      Name                   Length\n",
       "1 chrX  47787165 47787363 chrX_47787165_47787363 198   \n",
       "2 chrX  47787557 47787773 chrX_47787557_47787773 216   \n",
       "3 chrX  47787593 47787783 chrX_47787593_47787783 190   \n",
       "4 chrX  47787598 47787772 chrX_47787598_47787772 174   \n",
       "5 chrX  47787661 47788058 chrX_47787661_47788058 397   \n",
       "6 chrX  47787743 47787849 chrX_47787743_47787849 106   "
      ]
     },
     "metadata": {},
     "output_type": "display_data"
    }
   ],
   "source": [
    "### init: file directory\n",
    "fdiry = file.path(FD_RES, \"KS91_K562_ASTARRseq\", \"fragment\")\n",
    "fname = \"KS91_K562_hg38_ASTARRseq_Input_rep1.GATA1.unstranded.dedups.bed\"\n",
    "fpath = file.path(fdiry, fname)\n",
    "\n",
    "### init: data type\n",
    "cnames = c(\"Chrom\", \"Start\", \"End\", \"Name\")\n",
    "ctypes = c(col_character(), col_integer(), col_integer(), col_character())\n",
    "\n",
    "### read data\n",
    "dat = read_tsv(\n",
    "    fpath, \n",
    "    col_types = ctypes, \n",
    "    col_names = cnames)\n",
    "dat = dat %>% mutate(Length = End - Start)\n",
    "dat_astarr_inp = dat\n",
    "head(dat_astarr_inp)"
   ]
  },
  {
   "cell_type": "code",
   "execution_count": 39,
   "id": "4bb35300-865c-4b85-afef-98dcc3491da4",
   "metadata": {},
   "outputs": [
    {
     "data": {
      "text/html": [
       "<table class=\"dataframe\">\n",
       "<caption>A tibble: 6 × 5</caption>\n",
       "<thead>\n",
       "\t<tr><th scope=col>Chrom</th><th scope=col>Start</th><th scope=col>End</th><th scope=col>Name</th><th scope=col>Length</th></tr>\n",
       "\t<tr><th scope=col>&lt;chr&gt;</th><th scope=col>&lt;dbl&gt;</th><th scope=col>&lt;dbl&gt;</th><th scope=col>&lt;chr&gt;</th><th scope=col>&lt;dbl&gt;</th></tr>\n",
       "</thead>\n",
       "<tbody>\n",
       "\t<tr><td>chrX</td><td>47787189</td><td>47787363</td><td>chrX_47787189_47787363</td><td>174</td></tr>\n",
       "\t<tr><td>chrX</td><td>47787189</td><td>47787363</td><td>chrX_47787189_47787363</td><td>174</td></tr>\n",
       "\t<tr><td>chrX</td><td>47787189</td><td>47787363</td><td>chrX_47787189_47787363</td><td>174</td></tr>\n",
       "\t<tr><td>chrX</td><td>47787189</td><td>47787363</td><td>chrX_47787189_47787363</td><td>174</td></tr>\n",
       "\t<tr><td>chrX</td><td>47787189</td><td>47787363</td><td>chrX_47787189_47787363</td><td>174</td></tr>\n",
       "\t<tr><td>chrX</td><td>47787189</td><td>47787363</td><td>chrX_47787189_47787363</td><td>174</td></tr>\n",
       "</tbody>\n",
       "</table>\n"
      ],
      "text/latex": [
       "A tibble: 6 × 5\n",
       "\\begin{tabular}{lllll}\n",
       " Chrom & Start & End & Name & Length\\\\\n",
       " <chr> & <dbl> & <dbl> & <chr> & <dbl>\\\\\n",
       "\\hline\n",
       "\t chrX & 47787189 & 47787363 & chrX\\_47787189\\_47787363 & 174\\\\\n",
       "\t chrX & 47787189 & 47787363 & chrX\\_47787189\\_47787363 & 174\\\\\n",
       "\t chrX & 47787189 & 47787363 & chrX\\_47787189\\_47787363 & 174\\\\\n",
       "\t chrX & 47787189 & 47787363 & chrX\\_47787189\\_47787363 & 174\\\\\n",
       "\t chrX & 47787189 & 47787363 & chrX\\_47787189\\_47787363 & 174\\\\\n",
       "\t chrX & 47787189 & 47787363 & chrX\\_47787189\\_47787363 & 174\\\\\n",
       "\\end{tabular}\n"
      ],
      "text/markdown": [
       "\n",
       "A tibble: 6 × 5\n",
       "\n",
       "| Chrom &lt;chr&gt; | Start &lt;dbl&gt; | End &lt;dbl&gt; | Name &lt;chr&gt; | Length &lt;dbl&gt; |\n",
       "|---|---|---|---|---|\n",
       "| chrX | 47787189 | 47787363 | chrX_47787189_47787363 | 174 |\n",
       "| chrX | 47787189 | 47787363 | chrX_47787189_47787363 | 174 |\n",
       "| chrX | 47787189 | 47787363 | chrX_47787189_47787363 | 174 |\n",
       "| chrX | 47787189 | 47787363 | chrX_47787189_47787363 | 174 |\n",
       "| chrX | 47787189 | 47787363 | chrX_47787189_47787363 | 174 |\n",
       "| chrX | 47787189 | 47787363 | chrX_47787189_47787363 | 174 |\n",
       "\n"
      ],
      "text/plain": [
       "  Chrom Start    End      Name                   Length\n",
       "1 chrX  47787189 47787363 chrX_47787189_47787363 174   \n",
       "2 chrX  47787189 47787363 chrX_47787189_47787363 174   \n",
       "3 chrX  47787189 47787363 chrX_47787189_47787363 174   \n",
       "4 chrX  47787189 47787363 chrX_47787189_47787363 174   \n",
       "5 chrX  47787189 47787363 chrX_47787189_47787363 174   \n",
       "6 chrX  47787189 47787363 chrX_47787189_47787363 174   "
      ]
     },
     "metadata": {},
     "output_type": "display_data"
    }
   ],
   "source": [
    "### init: file directory\n",
    "fdiry = file.path(FD_RES, \"KS91_K562_ASTARRseq\", \"fragment\")\n",
    "fname = \"KS91_K562_hg38_ASTARRseq_Output_rep1.GATA1.unstranded.bed\"\n",
    "fpath = file.path(fdiry, fname)\n",
    "\n",
    "### init: data type\n",
    "cnames = c(\"Chrom\", \"Start\", \"End\", \"Name\")\n",
    "ctypes = c(col_character(), col_integer(), col_integer(), col_character())\n",
    "\n",
    "### read data\n",
    "dat = read_tsv(\n",
    "    fpath, \n",
    "    col_types = ctypes, \n",
    "    col_names = cnames)\n",
    "dat = dat %>% mutate(Length = End - Start)\n",
    "dat_astarr_out = dat\n",
    "head(dat_astarr_out)"
   ]
  },
  {
   "cell_type": "code",
   "execution_count": 40,
   "id": "3da312a3-2549-4423-b10f-55bfd03d6a6d",
   "metadata": {},
   "outputs": [
    {
     "name": "stderr",
     "output_type": "stream",
     "text": [
      "Warning message:\n",
      "“Removed 91 rows containing non-finite values (stat_bin).”\n",
      "Warning message:\n",
      "“Removed 2 rows containing missing values (geom_bar).”\n"
     ]
    },
    {
     "data": {
      "image/png": "[encoded data removed]",
      "text/plain": [
       "plot without title"
      ]
     },
     "metadata": {
      "image/png": {
       "height": 300,
       "width": 600
      }
     },
     "output_type": "display_data"
    }
   ],
   "source": [
    "dat = dat_astarr_inp\n",
    "gpt = ggplot(dat, aes(x=Length)) + \n",
    "    geom_histogram(bins=50) + \n",
    "    geom_vline(xintercept = 199, size=1, color=\"red\") + \n",
    "    theme_cowplot() + \n",
    "    xlim(0, 1000) +\n",
    "    labs(x=\"Length\", y=\"Count\", title=\"Fragment length distribution of ATAC-STARR-seq (Input; rep1)\")\n",
    "\n",
    "options(repr.plot.width=10, repr.plot.height=5)\n",
    "print(gpt)"
   ]
  },
  {
   "cell_type": "code",
   "execution_count": 41,
   "id": "b4a80269-6fba-4ba9-9144-d0e91e6d1f54",
   "metadata": {},
   "outputs": [
    {
     "name": "stderr",
     "output_type": "stream",
     "text": [
      "Warning message:\n",
      "“Removed 95 rows containing non-finite values (stat_bin).”\n",
      "Warning message:\n",
      "“Removed 2 rows containing missing values (geom_bar).”\n"
     ]
    },
    {
     "data": {
      "image/png": "[encoded data removed]",
      "text/plain": [
       "plot without title"
      ]
     },
     "metadata": {
      "image/png": {
       "height": 300,
       "width": 600
      }
     },
     "output_type": "display_data"
    }
   ],
   "source": [
    "dat = dat_astarr_out\n",
    "gpt = ggplot(dat, aes(x=Length)) + \n",
    "    geom_histogram(bins=50) + \n",
    "    geom_vline(xintercept = 199, size=1, color=\"red\") + \n",
    "    theme_cowplot() + \n",
    "    xlim(0, 1000) +\n",
    "    labs(x=\"Length\", y=\"Count\", title=\"Fragment length distribution of ATAC-STARR-seq (Output; rep1)\")\n",
    "\n",
    "options(repr.plot.width=10, repr.plot.height=5)\n",
    "print(gpt)"
   ]
  },
  {
   "cell_type": "code",
   "execution_count": null,
   "id": "0526bbab-ac9f-43ad-a2de-811d919b2086",
   "metadata": {},
   "outputs": [],
   "source": []
  }
 ],
 "metadata": {
  "kernelspec": {
   "display_name": "R",
   "language": "R",
   "name": "ir"
  },
  "language_info": {
   "codemirror_mode": "r",
   "file_extension": ".r",
   "mimetype": "text/x-r-source",
   "name": "R",
   "pygments_lexer": "r",
   "version": "4.1.3"
  }
 },
 "nbformat": 4,
 "nbformat_minor": 5
}
