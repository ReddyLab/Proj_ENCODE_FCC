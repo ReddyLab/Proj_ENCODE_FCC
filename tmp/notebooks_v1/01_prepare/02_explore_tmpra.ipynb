{
 "cells": [
  {
   "cell_type": "code",
   "execution_count": 1,
   "id": "bfbf5ccf-fb66-49ba-8cd9-bb862b8cd90a",
   "metadata": {},
   "outputs": [
    {
     "name": "stdout",
     "output_type": "stream",
     "text": [
      "You are on Duke Server: HARDAC\n",
      "BASE DIRECTORY:     /gpfs/fs1/data/reddylab/Kuei\n",
      "PATH OF SOURCE:     /gpfs/fs1/data/reddylab/Kuei/source\n",
      "PATH OF EXECUTABLE: /gpfs/fs1/data/reddylab/Kuei/exe\n",
      "PATH OF ANNOTATION: /gpfs/fs1/data/reddylab/Kuei/annotation\n",
      "PATH OF PROJECT:    /gpfs/fs1/data/reddylab/Kuei/GitRepo/Proj_CombEffect_ENCODE_FCC/notebooks\n",
      "PATH OF RESULTS:    /gpfs/fs1/data/reddylab/Kuei/out/proj_combeffect_encode_fcc\n",
      "\n"
     ]
    }
   ],
   "source": [
    "source ../config_duke.sh; show_env"
   ]
  },
  {
   "cell_type": "markdown",
   "id": "6ad7c5f4-5c69-4fd8-a971-df5fa9137c3c",
   "metadata": {},
   "source": [
    "## Source folder for Tiling MPRA data from Tewhey lab"
   ]
  },
  {
   "cell_type": "code",
   "execution_count": 2,
   "id": "21501fb0-d8e9-4a01-8728-45c10a98d28d",
   "metadata": {},
   "outputs": [
    {
     "name": "stdout",
     "output_type": "stream",
     "text": [
      "\u001b[0m\u001b[38;5;27mA001_K562_wstarrseq_fragments\u001b[0m\n",
      "\u001b[38;5;27mannotation_cCREs\u001b[0m\n",
      "\u001b[38;5;27mannotation_remap2022\u001b[0m\n",
      "\u001b[38;5;27mKS91_K562_astarrseq_fragments_220510\u001b[0m\n",
      "\u001b[38;5;27mKS91_K562_astarrseq_peak_macs\u001b[0m\n",
      "\u001b[38;5;27mMPRA\u001b[0m\n",
      "Readme.md\n",
      "\u001b[38;5;27mTewhey_MPRA\u001b[0m\n",
      "\u001b[38;5;27mtmp\u001b[0m\n"
     ]
    }
   ],
   "source": [
    "ls -1 ${FD_RES}/source"
   ]
  },
  {
   "cell_type": "code",
   "execution_count": 3,
   "id": "09d90c3e-97d0-4462-9991-47d37cc7bde6",
   "metadata": {},
   "outputs": [
    {
     "name": "stdout",
     "output_type": "stream",
     "text": [
      "\u001b[0m\u001b[38;5;27mtiling_counts\u001b[0m\n"
     ]
    }
   ],
   "source": [
    "ls -1 ${FD_RES}/source/Tewhey_MPRA"
   ]
  },
  {
   "cell_type": "code",
   "execution_count": 5,
   "id": "6c0e67d4-0477-4005-8017-a3690058ec83",
   "metadata": {},
   "outputs": [
    {
     "name": "stdout",
     "output_type": "stream",
     "text": [
      "\u001b[0m\u001b[38;5;27msyn22348180\u001b[0m\n",
      "\u001b[38;5;27msyn26435687\u001b[0m\n"
     ]
    }
   ],
   "source": [
    "ls -1 ${FD_RES}/source/MPRA"
   ]
  },
  {
   "cell_type": "code",
   "execution_count": 8,
   "id": "8ed41c1a-fa1b-431f-b00e-a4926bf1f037",
   "metadata": {},
   "outputs": [
    {
     "name": "stdout",
     "output_type": "stream",
     "text": [
      "/gpfs/fs1/data/reddylab/Kuei/out/proj_combeffect_encode_fcc/source/MPRA/syn22348180:\n",
      "BODA_round1_HepG2_Neon_20200904.bed\n",
      "BODA_round1_HepG2_Neon_20200904.hg38.txt\n",
      "BODA_round1_HepG2_Neon_20200904.liftOver_unmapped.bed\n",
      "BODA_round1_K562_20200904.bed\n",
      "BODA_round1_K562_20200904.hg38.txt\n",
      "BODA_round1_K562_20200904.liftOver_unmapped.bed\n",
      "BODA_round1_SKNSH_20200904.bed\n",
      "BODA_round1_SKNSH_20200904.hg38.txt\n",
      "BODA_round1_SKNSH_20200904.liftOver_unmapped.bed\n",
      "FADS_Tile_K562_K562_20200905.bed\n",
      "FADS_Tile_K562_K562_20200905.hg38.txt\n",
      "\u001b[0m\u001b[38;5;27mGATA_MYC_20210127_common_raw_format\u001b[0m\n",
      "GATA_MYC_CommonControl_complete.collapsed.fa\n",
      "GATA_MYC_CommonControl_complete.collapsed.readme\n",
      "GATA_MYC_common_controls.attributes\n",
      "GATA-MYC_Tile_K562_Counts_20210130.out\n",
      "GATA-MYC_Tile_K562_K562_20210130.hg38.bed\n",
      "GATA-MYC_Tile_K562_NormCounts_20210130.out\n",
      "OL43_BC-Counts_20210127.cond\n",
      "OL43_BC-Counts_20210127.out\n",
      "SYNAPSE_METADATA_MANIFEST.tsv\n",
      "\n",
      "/gpfs/fs1/data/reddylab/Kuei/out/proj_combeffect_encode_fcc/source/MPRA/syn26435687:\n",
      "ENCFF348WYK.Ahituv.lentiMPRA.MYC.bed\n",
      "ENCFF348WYK.bed\n",
      "ENCFF348WYK.GATA1.bed\n",
      "ENCFF348WYK.MYC.bed\n",
      "GATA-MYC_Tile_K562_K562_20210130.hg38.bed\n",
      "GATA-MYC_Tile_K562_K562_20210130.hg38.cleaned.bed\n",
      "GATA-MYC_Tile_K562_K562_20210130.hg38.cleaned.GATA1.bed\n",
      "GATA-MYC_Tile_K562_K562_20210130.hg38.cleaned.MYC.bed\n",
      "\u001b[38;5;27mold\u001b[0m\n",
      "SYNAPSE_METADATA_MANIFEST.tsv\n"
     ]
    }
   ],
   "source": [
    "ls -1 ${FD_RES}/source/MPRA/*"
   ]
  },
  {
   "cell_type": "markdown",
   "id": "e074e618-35f6-4749-9a3c-2b3c02ffcded",
   "metadata": {},
   "source": [
    "## Fragments of TMPRA"
   ]
  },
  {
   "cell_type": "code",
   "execution_count": 9,
   "id": "92355b98-a971-47b6-82a0-c57b092d918c",
   "metadata": {},
   "outputs": [],
   "source": [
    "FDIRY=${FD_RES}/source/MPRA/syn26435687"
   ]
  },
  {
   "cell_type": "markdown",
   "id": "afc77436-ca95-4e33-b956-cb02b29c608d",
   "metadata": {},
   "source": [
    "**Region: GATA1**"
   ]
  },
  {
   "cell_type": "code",
   "execution_count": 10,
   "id": "f812c3d3-1dd7-4934-a369-2a7703beb72b",
   "metadata": {},
   "outputs": [
    {
     "name": "stdout",
     "output_type": "stream",
     "text": [
      "chrX\t47786401\t47786600\tX:47786401-47786600\t.\t+\t2.30593934460149\t2117.78684083014\t10474.868702612\t112.11265261617\t110.931130790033\t0.102147903305184\n",
      "chrX\t47786451\t47786650\tX:47786451-47786650\t.\t+\t0.783056057422144\t1386.00739237509\t2387.11896574661\t11.3173883956403\t10.6425168461249\t0.113307047070907\n",
      "chrX\t47786501\t47786700\tX:47786501-47786700\t.\t+\t-0.128731962724311\t1955.62553108109\t1788.23614005802\t0.845069660219201\t0.628722618349189\t0.0878596785422427\n",
      "chrX\t47786551\t47786750\tX:47786551-47786750\t.\t+\t0.588295148181817\t2388.99664261419\t3591.26381774846\t11.2404554080035\t10.5666788666818\t0.0854366059937647\n",
      "chrX\t47786601\t47786800\tX:47786601-47786800\t.\t+\t0.0667001449192146\t2102.91633517956\t2202.38454860936\t0.309589962802377\t0.21047015199996\t0.096677408925751\n"
     ]
    }
   ],
   "source": [
    "FNAME=GATA-MYC_Tile_K562_K562_20210130.hg38.cleaned.GATA1.bed\n",
    "head -5 ${FDIRY}/${FNAME}"
   ]
  },
  {
   "cell_type": "markdown",
   "id": "258d7863-64c0-4d49-8137-1a28b152c8cc",
   "metadata": {},
   "source": [
    "**Region: MYC**"
   ]
  },
  {
   "cell_type": "code",
   "execution_count": null,
   "id": "9474a00e-2fbe-4a40-ade2-3bf7eb5c7dc7",
   "metadata": {},
   "outputs": [],
   "source": []
  },
  {
   "cell_type": "markdown",
   "id": "d30f5d07-7715-4e19-97d5-77d859d4e8b9",
   "metadata": {},
   "source": [
    "**Region: FADS**"
   ]
  },
  {
   "cell_type": "code",
   "execution_count": null,
   "id": "c7949b32-b558-474a-adbf-2154252556e7",
   "metadata": {},
   "outputs": [],
   "source": []
  }
 ],
 "metadata": {
  "kernelspec": {
   "display_name": "Bash",
   "language": "bash",
   "name": "bash"
  },
  "language_info": {
   "codemirror_mode": "shell",
   "file_extension": ".sh",
   "mimetype": "text/x-sh",
   "name": "bash"
  }
 },
 "nbformat": 4,
 "nbformat_minor": 5
}
