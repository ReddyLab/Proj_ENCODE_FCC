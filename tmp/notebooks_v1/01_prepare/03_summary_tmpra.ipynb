{
 "cells": [
  {
   "cell_type": "markdown",
   "id": "5b14506b",
   "metadata": {},
   "source": [
    "**Set environment**"
   ]
  },
  {
   "cell_type": "code",
   "execution_count": 1,
   "id": "0c41d737",
   "metadata": {},
   "outputs": [
    {
     "name": "stdout",
     "output_type": "stream",
     "text": [
      "You are in Singularity: singularity_proj_combeffect \n",
      "BASE DIRECTORY:     /mount/work \n",
      "PATH OF SOURCE:     /mount/work/source \n",
      "PATH OF EXECUTABLE: /mount/work/exe \n",
      "PATH OF ANNOTATION: /mount/work/annotation \n",
      "PATH OF PROJECT:    /mount/project \n",
      "PATH OF RESULTS:    /mount/work/out/proj_combeffect_encode_fcc \n"
     ]
    }
   ],
   "source": [
    "suppressMessages(suppressWarnings(source(\"../config_sing.R\")))\n",
    "show_env()"
   ]
  },
  {
   "cell_type": "markdown",
   "id": "8add2d48",
   "metadata": {},
   "source": [
    "## Import Tiling MPRA data"
   ]
  },
  {
   "cell_type": "markdown",
   "id": "069f5f6e",
   "metadata": {},
   "source": [
    "**Region: GATA1**"
   ]
  },
  {
   "cell_type": "code",
   "execution_count": 6,
   "id": "c7da3cc9",
   "metadata": {},
   "outputs": [
    {
     "name": "stdout",
     "output_type": "stream",
     "text": [
      "[1] 52312    12\n"
     ]
    },
    {
     "data": {
      "text/html": [
       "<table class=\"dataframe\">\n",
       "<caption>A tibble: 6 × 12</caption>\n",
       "<thead>\n",
       "\t<tr><th scope=col>Chrom</th><th scope=col>Start</th><th scope=col>End</th><th scope=col>ID</th><th scope=col>Score</th><th scope=col>Strand</th><th scope=col>log2fc</th><th scope=col>Input_Count</th><th scope=col>Output_Count</th><th scope=col>log10pval</th><th scope=col>log10fdr</th><th scope=col>lfc-se</th></tr>\n",
       "\t<tr><th scope=col>&lt;chr&gt;</th><th scope=col>&lt;dbl&gt;</th><th scope=col>&lt;dbl&gt;</th><th scope=col>&lt;chr&gt;</th><th scope=col>&lt;chr&gt;</th><th scope=col>&lt;chr&gt;</th><th scope=col>&lt;dbl&gt;</th><th scope=col>&lt;dbl&gt;</th><th scope=col>&lt;dbl&gt;</th><th scope=col>&lt;dbl&gt;</th><th scope=col>&lt;dbl&gt;</th><th scope=col>&lt;dbl&gt;</th></tr>\n",
       "</thead>\n",
       "<tbody>\n",
       "\t<tr><td>chrX</td><td>47786401</td><td>47786600</td><td>X:47786401-47786600</td><td>.</td><td>+</td><td> 2.30593934</td><td>2117.787</td><td>10474.869</td><td>112.1126526</td><td>110.93113079</td><td>0.10214790</td></tr>\n",
       "\t<tr><td>chrX</td><td>47786451</td><td>47786650</td><td>X:47786451-47786650</td><td>.</td><td>+</td><td> 0.78305606</td><td>1386.007</td><td> 2387.119</td><td> 11.3173884</td><td> 10.64251685</td><td>0.11330705</td></tr>\n",
       "\t<tr><td>chrX</td><td>47786501</td><td>47786700</td><td>X:47786501-47786700</td><td>.</td><td>+</td><td>-0.12873196</td><td>1955.626</td><td> 1788.236</td><td>  0.8450697</td><td>  0.62872262</td><td>0.08785968</td></tr>\n",
       "\t<tr><td>chrX</td><td>47786551</td><td>47786750</td><td>X:47786551-47786750</td><td>.</td><td>+</td><td> 0.58829515</td><td>2388.997</td><td> 3591.264</td><td> 11.2404554</td><td> 10.56667887</td><td>0.08543661</td></tr>\n",
       "\t<tr><td>chrX</td><td>47786601</td><td>47786800</td><td>X:47786601-47786800</td><td>.</td><td>+</td><td> 0.06670014</td><td>2102.916</td><td> 2202.385</td><td>  0.3095900</td><td>  0.21047015</td><td>0.09667741</td></tr>\n",
       "\t<tr><td>chrX</td><td>47786651</td><td>47786850</td><td>X:47786651-47786850</td><td>.</td><td>+</td><td>-0.02967703</td><td>1571.259</td><td> 1537.475</td><td>  0.1009399</td><td>  0.06453099</td><td>0.11287406</td></tr>\n",
       "</tbody>\n",
       "</table>\n"
      ],
      "text/latex": [
       "A tibble: 6 × 12\n",
       "\\begin{tabular}{llllllllllll}\n",
       " Chrom & Start & End & ID & Score & Strand & log2fc & Input\\_Count & Output\\_Count & log10pval & log10fdr & lfc-se\\\\\n",
       " <chr> & <dbl> & <dbl> & <chr> & <chr> & <chr> & <dbl> & <dbl> & <dbl> & <dbl> & <dbl> & <dbl>\\\\\n",
       "\\hline\n",
       "\t chrX & 47786401 & 47786600 & X:47786401-47786600 & . & + &  2.30593934 & 2117.787 & 10474.869 & 112.1126526 & 110.93113079 & 0.10214790\\\\\n",
       "\t chrX & 47786451 & 47786650 & X:47786451-47786650 & . & + &  0.78305606 & 1386.007 &  2387.119 &  11.3173884 &  10.64251685 & 0.11330705\\\\\n",
       "\t chrX & 47786501 & 47786700 & X:47786501-47786700 & . & + & -0.12873196 & 1955.626 &  1788.236 &   0.8450697 &   0.62872262 & 0.08785968\\\\\n",
       "\t chrX & 47786551 & 47786750 & X:47786551-47786750 & . & + &  0.58829515 & 2388.997 &  3591.264 &  11.2404554 &  10.56667887 & 0.08543661\\\\\n",
       "\t chrX & 47786601 & 47786800 & X:47786601-47786800 & . & + &  0.06670014 & 2102.916 &  2202.385 &   0.3095900 &   0.21047015 & 0.09667741\\\\\n",
       "\t chrX & 47786651 & 47786850 & X:47786651-47786850 & . & + & -0.02967703 & 1571.259 &  1537.475 &   0.1009399 &   0.06453099 & 0.11287406\\\\\n",
       "\\end{tabular}\n"
      ],
      "text/markdown": [
       "\n",
       "A tibble: 6 × 12\n",
       "\n",
       "| Chrom &lt;chr&gt; | Start &lt;dbl&gt; | End &lt;dbl&gt; | ID &lt;chr&gt; | Score &lt;chr&gt; | Strand &lt;chr&gt; | log2fc &lt;dbl&gt; | Input_Count &lt;dbl&gt; | Output_Count &lt;dbl&gt; | log10pval &lt;dbl&gt; | log10fdr &lt;dbl&gt; | lfc-se &lt;dbl&gt; |\n",
       "|---|---|---|---|---|---|---|---|---|---|---|---|\n",
       "| chrX | 47786401 | 47786600 | X:47786401-47786600 | . | + |  2.30593934 | 2117.787 | 10474.869 | 112.1126526 | 110.93113079 | 0.10214790 |\n",
       "| chrX | 47786451 | 47786650 | X:47786451-47786650 | . | + |  0.78305606 | 1386.007 |  2387.119 |  11.3173884 |  10.64251685 | 0.11330705 |\n",
       "| chrX | 47786501 | 47786700 | X:47786501-47786700 | . | + | -0.12873196 | 1955.626 |  1788.236 |   0.8450697 |   0.62872262 | 0.08785968 |\n",
       "| chrX | 47786551 | 47786750 | X:47786551-47786750 | . | + |  0.58829515 | 2388.997 |  3591.264 |  11.2404554 |  10.56667887 | 0.08543661 |\n",
       "| chrX | 47786601 | 47786800 | X:47786601-47786800 | . | + |  0.06670014 | 2102.916 |  2202.385 |   0.3095900 |   0.21047015 | 0.09667741 |\n",
       "| chrX | 47786651 | 47786850 | X:47786651-47786850 | . | + | -0.02967703 | 1571.259 |  1537.475 |   0.1009399 |   0.06453099 | 0.11287406 |\n",
       "\n"
      ],
      "text/plain": [
       "  Chrom Start    End      ID                  Score Strand log2fc     \n",
       "1 chrX  47786401 47786600 X:47786401-47786600 .     +       2.30593934\n",
       "2 chrX  47786451 47786650 X:47786451-47786650 .     +       0.78305606\n",
       "3 chrX  47786501 47786700 X:47786501-47786700 .     +      -0.12873196\n",
       "4 chrX  47786551 47786750 X:47786551-47786750 .     +       0.58829515\n",
       "5 chrX  47786601 47786800 X:47786601-47786800 .     +       0.06670014\n",
       "6 chrX  47786651 47786850 X:47786651-47786850 .     +      -0.02967703\n",
       "  Input_Count Output_Count log10pval   log10fdr     lfc-se    \n",
       "1 2117.787    10474.869    112.1126526 110.93113079 0.10214790\n",
       "2 1386.007     2387.119     11.3173884  10.64251685 0.11330705\n",
       "3 1955.626     1788.236      0.8450697   0.62872262 0.08785968\n",
       "4 2388.997     3591.264     11.2404554  10.56667887 0.08543661\n",
       "5 2102.916     2202.385      0.3095900   0.21047015 0.09667741\n",
       "6 1571.259     1537.475      0.1009399   0.06453099 0.11287406"
      ]
     },
     "metadata": {},
     "output_type": "display_data"
    }
   ],
   "source": [
    "### init: set file directory and path\n",
    "fdiry = file.path(FD_RES, \"source\", \"syn26435687\")\n",
    "fname = \"GATA-MYC_Tile_K562_K562_20210130.hg38.cleaned.GATA1.bed\"\n",
    "fpath = file.path(fdiry, fname)\n",
    "\n",
    "### init: set column names\n",
    "cnames = c(\"Chrom\", \"Start\", \"End\", \"ID\", \"Score\", \"Strand\", \n",
    "           \"log2fc\", \"Input_Count\", \"Output_Count\", \n",
    "           \"log10pval\", \"log10fdr\", \"lfc-se\")\n",
    "\n",
    "### import data\n",
    "dat = read_tsv(fpath, col_names = cnames, show_col_types = FALSE)\n",
    "\n",
    "### assign\n",
    "dat_tmpra_gata1 = dat\n",
    "print(dim(dat_tmpra_gata1))\n",
    "head(dat_tmpra_gata1)"
   ]
  },
  {
   "cell_type": "markdown",
   "id": "7bbeb6f1",
   "metadata": {},
   "source": [
    "**Region: MYC**"
   ]
  },
  {
   "cell_type": "code",
   "execution_count": 7,
   "id": "d98ad8b0",
   "metadata": {},
   "outputs": [
    {
     "name": "stdout",
     "output_type": "stream",
     "text": [
      "[1] 41898    12\n"
     ]
    },
    {
     "data": {
      "text/html": [
       "<table class=\"dataframe\">\n",
       "<caption>A tibble: 6 × 12</caption>\n",
       "<thead>\n",
       "\t<tr><th scope=col>Chrom</th><th scope=col>Start</th><th scope=col>End</th><th scope=col>ID</th><th scope=col>Score</th><th scope=col>Strand</th><th scope=col>log2fc</th><th scope=col>Input_Count</th><th scope=col>Output_Count</th><th scope=col>log10pval</th><th scope=col>log10fdr</th><th scope=col>lfc-se</th></tr>\n",
       "\t<tr><th scope=col>&lt;chr&gt;</th><th scope=col>&lt;dbl&gt;</th><th scope=col>&lt;dbl&gt;</th><th scope=col>&lt;chr&gt;</th><th scope=col>&lt;chr&gt;</th><th scope=col>&lt;chr&gt;</th><th scope=col>&lt;dbl&gt;</th><th scope=col>&lt;dbl&gt;</th><th scope=col>&lt;dbl&gt;</th><th scope=col>&lt;dbl&gt;</th><th scope=col>&lt;dbl&gt;</th><th scope=col>&lt;dbl&gt;</th></tr>\n",
       "</thead>\n",
       "<tbody>\n",
       "\t<tr><td>chr8</td><td>126735901</td><td>126736100</td><td>8:126735901-126736100</td><td>.</td><td>+</td><td> 3.2160073</td><td>889.8700</td><td>8270.0812</td><td>284.9689198</td><td>283.4609266</td><td>0.08903507</td></tr>\n",
       "\t<tr><td>chr8</td><td>126735951</td><td>126736150</td><td>8:126735951-126736150</td><td>.</td><td>+</td><td> 2.7418446</td><td>125.8346</td><td> 840.9388</td><td>113.6888331</td><td>112.5014934</td><td>0.12060331</td></tr>\n",
       "\t<tr><td>chr8</td><td>126736001</td><td>126736200</td><td>8:126736001-126736200</td><td>.</td><td>+</td><td> 2.9727423</td><td>510.3155</td><td>4005.3567</td><td>184.5772002</td><td>183.2318991</td><td>0.10239769</td></tr>\n",
       "\t<tr><td>chr8</td><td>126736051</td><td>126736250</td><td>8:126736051-126736250</td><td>.</td><td>+</td><td> 0.5182375</td><td>702.5493</td><td>1005.3594</td><td>  5.5903406</td><td>  5.0334324</td><td>0.11020176</td></tr>\n",
       "\t<tr><td>chr8</td><td>126736101</td><td>126736300</td><td>8:126736101-126736300</td><td>.</td><td>+</td><td> 0.8541811</td><td>551.0831</td><td> 995.4698</td><td> 14.4458053</td><td> 13.7295763</td><td>0.10855385</td></tr>\n",
       "\t<tr><td>chr8</td><td>126736151</td><td>126736350</td><td>8:126736151-126736350</td><td>.</td><td>+</td><td>-0.1705365</td><td>916.6257</td><td> 814.0604</td><td>  0.8691763</td><td>  0.6486783</td><td>0.11414081</td></tr>\n",
       "</tbody>\n",
       "</table>\n"
      ],
      "text/latex": [
       "A tibble: 6 × 12\n",
       "\\begin{tabular}{llllllllllll}\n",
       " Chrom & Start & End & ID & Score & Strand & log2fc & Input\\_Count & Output\\_Count & log10pval & log10fdr & lfc-se\\\\\n",
       " <chr> & <dbl> & <dbl> & <chr> & <chr> & <chr> & <dbl> & <dbl> & <dbl> & <dbl> & <dbl> & <dbl>\\\\\n",
       "\\hline\n",
       "\t chr8 & 126735901 & 126736100 & 8:126735901-126736100 & . & + &  3.2160073 & 889.8700 & 8270.0812 & 284.9689198 & 283.4609266 & 0.08903507\\\\\n",
       "\t chr8 & 126735951 & 126736150 & 8:126735951-126736150 & . & + &  2.7418446 & 125.8346 &  840.9388 & 113.6888331 & 112.5014934 & 0.12060331\\\\\n",
       "\t chr8 & 126736001 & 126736200 & 8:126736001-126736200 & . & + &  2.9727423 & 510.3155 & 4005.3567 & 184.5772002 & 183.2318991 & 0.10239769\\\\\n",
       "\t chr8 & 126736051 & 126736250 & 8:126736051-126736250 & . & + &  0.5182375 & 702.5493 & 1005.3594 &   5.5903406 &   5.0334324 & 0.11020176\\\\\n",
       "\t chr8 & 126736101 & 126736300 & 8:126736101-126736300 & . & + &  0.8541811 & 551.0831 &  995.4698 &  14.4458053 &  13.7295763 & 0.10855385\\\\\n",
       "\t chr8 & 126736151 & 126736350 & 8:126736151-126736350 & . & + & -0.1705365 & 916.6257 &  814.0604 &   0.8691763 &   0.6486783 & 0.11414081\\\\\n",
       "\\end{tabular}\n"
      ],
      "text/markdown": [
       "\n",
       "A tibble: 6 × 12\n",
       "\n",
       "| Chrom &lt;chr&gt; | Start &lt;dbl&gt; | End &lt;dbl&gt; | ID &lt;chr&gt; | Score &lt;chr&gt; | Strand &lt;chr&gt; | log2fc &lt;dbl&gt; | Input_Count &lt;dbl&gt; | Output_Count &lt;dbl&gt; | log10pval &lt;dbl&gt; | log10fdr &lt;dbl&gt; | lfc-se &lt;dbl&gt; |\n",
       "|---|---|---|---|---|---|---|---|---|---|---|---|\n",
       "| chr8 | 126735901 | 126736100 | 8:126735901-126736100 | . | + |  3.2160073 | 889.8700 | 8270.0812 | 284.9689198 | 283.4609266 | 0.08903507 |\n",
       "| chr8 | 126735951 | 126736150 | 8:126735951-126736150 | . | + |  2.7418446 | 125.8346 |  840.9388 | 113.6888331 | 112.5014934 | 0.12060331 |\n",
       "| chr8 | 126736001 | 126736200 | 8:126736001-126736200 | . | + |  2.9727423 | 510.3155 | 4005.3567 | 184.5772002 | 183.2318991 | 0.10239769 |\n",
       "| chr8 | 126736051 | 126736250 | 8:126736051-126736250 | . | + |  0.5182375 | 702.5493 | 1005.3594 |   5.5903406 |   5.0334324 | 0.11020176 |\n",
       "| chr8 | 126736101 | 126736300 | 8:126736101-126736300 | . | + |  0.8541811 | 551.0831 |  995.4698 |  14.4458053 |  13.7295763 | 0.10855385 |\n",
       "| chr8 | 126736151 | 126736350 | 8:126736151-126736350 | . | + | -0.1705365 | 916.6257 |  814.0604 |   0.8691763 |   0.6486783 | 0.11414081 |\n",
       "\n"
      ],
      "text/plain": [
       "  Chrom Start     End       ID                    Score Strand log2fc    \n",
       "1 chr8  126735901 126736100 8:126735901-126736100 .     +       3.2160073\n",
       "2 chr8  126735951 126736150 8:126735951-126736150 .     +       2.7418446\n",
       "3 chr8  126736001 126736200 8:126736001-126736200 .     +       2.9727423\n",
       "4 chr8  126736051 126736250 8:126736051-126736250 .     +       0.5182375\n",
       "5 chr8  126736101 126736300 8:126736101-126736300 .     +       0.8541811\n",
       "6 chr8  126736151 126736350 8:126736151-126736350 .     +      -0.1705365\n",
       "  Input_Count Output_Count log10pval   log10fdr    lfc-se    \n",
       "1 889.8700    8270.0812    284.9689198 283.4609266 0.08903507\n",
       "2 125.8346     840.9388    113.6888331 112.5014934 0.12060331\n",
       "3 510.3155    4005.3567    184.5772002 183.2318991 0.10239769\n",
       "4 702.5493    1005.3594      5.5903406   5.0334324 0.11020176\n",
       "5 551.0831     995.4698     14.4458053  13.7295763 0.10855385\n",
       "6 916.6257     814.0604      0.8691763   0.6486783 0.11414081"
      ]
     },
     "metadata": {},
     "output_type": "display_data"
    }
   ],
   "source": [
    "### init: set file directory and path\n",
    "fdiry = file.path(FD_RES, \"source\", \"syn26435687\")\n",
    "fname = \"GATA-MYC_Tile_K562_K562_20210130.hg38.cleaned.MYC.bed\"\n",
    "fpath = file.path(fdiry, fname)\n",
    "\n",
    "### init: set column names\n",
    "cnames = c(\"Chrom\", \"Start\", \"End\", \"ID\", \"Score\", \"Strand\", \n",
    "           \"log2fc\", \"Input_Count\", \"Output_Count\", \n",
    "           \"log10pval\", \"log10fdr\", \"lfc-se\")\n",
    "\n",
    "### import data\n",
    "dat = read_tsv(fpath, col_names = cnames, show_col_types = FALSE)\n",
    "#dat = dat %>% mutate(Loc = (Start + End) / 2)\n",
    "\n",
    "### assign\n",
    "dat_tmpra_myc = dat\n",
    "print(dim(dat_tmpra_myc))\n",
    "head(dat_tmpra_myc)"
   ]
  },
  {
   "cell_type": "markdown",
   "id": "a11d4c38",
   "metadata": {},
   "source": [
    "**Region: FADS**"
   ]
  },
  {
   "cell_type": "code",
   "execution_count": 2,
   "id": "68c5b246",
   "metadata": {},
   "outputs": [
    {
     "name": "stdout",
     "output_type": "stream",
     "text": [
      "[1] 57010    15\n"
     ]
    },
    {
     "data": {
      "text/html": [
       "<table class=\"dataframe\">\n",
       "<caption>A tibble: 6 × 15</caption>\n",
       "<thead>\n",
       "\t<tr><th scope=col>chr</th><th scope=col>start</th><th scope=col>stop</th><th scope=col>id</th><th scope=col>score</th><th scope=col>strand</th><th scope=col>log2fc</th><th scope=col>input-count</th><th scope=col>output-count</th><th scope=col>log10pval</th><th scope=col>log10fdr</th><th scope=col>lfc-se</th><th scope=col>cigar</th><th scope=col>md-tag</th><th scope=col>project</th></tr>\n",
       "\t<tr><th scope=col>&lt;dbl&gt;</th><th scope=col>&lt;dbl&gt;</th><th scope=col>&lt;dbl&gt;</th><th scope=col>&lt;chr&gt;</th><th scope=col>&lt;chr&gt;</th><th scope=col>&lt;chr&gt;</th><th scope=col>&lt;dbl&gt;</th><th scope=col>&lt;dbl&gt;</th><th scope=col>&lt;dbl&gt;</th><th scope=col>&lt;dbl&gt;</th><th scope=col>&lt;dbl&gt;</th><th scope=col>&lt;dbl&gt;</th><th scope=col>&lt;chr&gt;</th><th scope=col>&lt;chr&gt;</th><th scope=col>&lt;chr&gt;</th></tr>\n",
       "</thead>\n",
       "<tbody>\n",
       "\t<tr><td>11</td><td>61554801</td><td>61555000</td><td>11:61554801-61555000   </td><td>.</td><td>+</td><td>-0.8576390</td><td>539.0699</td><td>297.7152</td><td>0.9314836</td><td>0.43422007</td><td>0.5472744</td><td>200=</td><td>200</td><td>Tiles</td></tr>\n",
       "\t<tr><td>11</td><td>61554801</td><td>61555000</td><td>11:61554801-61555000_RC</td><td>.</td><td>-</td><td>-0.8816736</td><td>325.8447</td><td>176.7425</td><td>0.6629859</td><td>0.24698506</td><td>0.7145996</td><td>200=</td><td>200</td><td>Tiles</td></tr>\n",
       "\t<tr><td>11</td><td>61554806</td><td>61555005</td><td>11:61554806-61555005   </td><td>.</td><td>+</td><td>-0.7791248</td><td>609.2923</td><td>355.0390</td><td>0.8632774</td><td>0.38343441</td><td>0.5239386</td><td>200=</td><td>200</td><td>Tiles</td></tr>\n",
       "\t<tr><td>11</td><td>61554806</td><td>61555005</td><td>11:61554806-61555005_RC</td><td>.</td><td>-</td><td>-0.8319054</td><td>336.9266</td><td>189.0981</td><td>0.2785033</td><td>0.06727408</td><td>1.3138630</td><td>200=</td><td>200</td><td>Tiles</td></tr>\n",
       "\t<tr><td>11</td><td>61554811</td><td>61555010</td><td>11:61554811-61555010   </td><td>.</td><td>+</td><td>-0.3964017</td><td>643.6583</td><td>489.5357</td><td>0.2609375</td><td>0.06229715</td><td>0.6604212</td><td>200=</td><td>200</td><td>Tiles</td></tr>\n",
       "\t<tr><td>11</td><td>61554811</td><td>61555010</td><td>11:61554811-61555010_RC</td><td>.</td><td>-</td><td>-0.3913234</td><td>310.1877</td><td>236.2906</td><td>0.1807929</td><td>0.04025238</td><td>0.8881207</td><td>200=</td><td>200</td><td>Tiles</td></tr>\n",
       "</tbody>\n",
       "</table>\n"
      ],
      "text/latex": [
       "A tibble: 6 × 15\n",
       "\\begin{tabular}{lllllllllllllll}\n",
       " chr & start & stop & id & score & strand & log2fc & input-count & output-count & log10pval & log10fdr & lfc-se & cigar & md-tag & project\\\\\n",
       " <dbl> & <dbl> & <dbl> & <chr> & <chr> & <chr> & <dbl> & <dbl> & <dbl> & <dbl> & <dbl> & <dbl> & <chr> & <chr> & <chr>\\\\\n",
       "\\hline\n",
       "\t 11 & 61554801 & 61555000 & 11:61554801-61555000    & . & + & -0.8576390 & 539.0699 & 297.7152 & 0.9314836 & 0.43422007 & 0.5472744 & 200= & 200 & Tiles\\\\\n",
       "\t 11 & 61554801 & 61555000 & 11:61554801-61555000\\_RC & . & - & -0.8816736 & 325.8447 & 176.7425 & 0.6629859 & 0.24698506 & 0.7145996 & 200= & 200 & Tiles\\\\\n",
       "\t 11 & 61554806 & 61555005 & 11:61554806-61555005    & . & + & -0.7791248 & 609.2923 & 355.0390 & 0.8632774 & 0.38343441 & 0.5239386 & 200= & 200 & Tiles\\\\\n",
       "\t 11 & 61554806 & 61555005 & 11:61554806-61555005\\_RC & . & - & -0.8319054 & 336.9266 & 189.0981 & 0.2785033 & 0.06727408 & 1.3138630 & 200= & 200 & Tiles\\\\\n",
       "\t 11 & 61554811 & 61555010 & 11:61554811-61555010    & . & + & -0.3964017 & 643.6583 & 489.5357 & 0.2609375 & 0.06229715 & 0.6604212 & 200= & 200 & Tiles\\\\\n",
       "\t 11 & 61554811 & 61555010 & 11:61554811-61555010\\_RC & . & - & -0.3913234 & 310.1877 & 236.2906 & 0.1807929 & 0.04025238 & 0.8881207 & 200= & 200 & Tiles\\\\\n",
       "\\end{tabular}\n"
      ],
      "text/markdown": [
       "\n",
       "A tibble: 6 × 15\n",
       "\n",
       "| chr &lt;dbl&gt; | start &lt;dbl&gt; | stop &lt;dbl&gt; | id &lt;chr&gt; | score &lt;chr&gt; | strand &lt;chr&gt; | log2fc &lt;dbl&gt; | input-count &lt;dbl&gt; | output-count &lt;dbl&gt; | log10pval &lt;dbl&gt; | log10fdr &lt;dbl&gt; | lfc-se &lt;dbl&gt; | cigar &lt;chr&gt; | md-tag &lt;chr&gt; | project &lt;chr&gt; |\n",
       "|---|---|---|---|---|---|---|---|---|---|---|---|---|---|---|\n",
       "| 11 | 61554801 | 61555000 | 11:61554801-61555000    | . | + | -0.8576390 | 539.0699 | 297.7152 | 0.9314836 | 0.43422007 | 0.5472744 | 200= | 200 | Tiles |\n",
       "| 11 | 61554801 | 61555000 | 11:61554801-61555000_RC | . | - | -0.8816736 | 325.8447 | 176.7425 | 0.6629859 | 0.24698506 | 0.7145996 | 200= | 200 | Tiles |\n",
       "| 11 | 61554806 | 61555005 | 11:61554806-61555005    | . | + | -0.7791248 | 609.2923 | 355.0390 | 0.8632774 | 0.38343441 | 0.5239386 | 200= | 200 | Tiles |\n",
       "| 11 | 61554806 | 61555005 | 11:61554806-61555005_RC | . | - | -0.8319054 | 336.9266 | 189.0981 | 0.2785033 | 0.06727408 | 1.3138630 | 200= | 200 | Tiles |\n",
       "| 11 | 61554811 | 61555010 | 11:61554811-61555010    | . | + | -0.3964017 | 643.6583 | 489.5357 | 0.2609375 | 0.06229715 | 0.6604212 | 200= | 200 | Tiles |\n",
       "| 11 | 61554811 | 61555010 | 11:61554811-61555010_RC | . | - | -0.3913234 | 310.1877 | 236.2906 | 0.1807929 | 0.04025238 | 0.8881207 | 200= | 200 | Tiles |\n",
       "\n"
      ],
      "text/plain": [
       "  chr start    stop     id                      score strand log2fc    \n",
       "1 11  61554801 61555000 11:61554801-61555000    .     +      -0.8576390\n",
       "2 11  61554801 61555000 11:61554801-61555000_RC .     -      -0.8816736\n",
       "3 11  61554806 61555005 11:61554806-61555005    .     +      -0.7791248\n",
       "4 11  61554806 61555005 11:61554806-61555005_RC .     -      -0.8319054\n",
       "5 11  61554811 61555010 11:61554811-61555010    .     +      -0.3964017\n",
       "6 11  61554811 61555010 11:61554811-61555010_RC .     -      -0.3913234\n",
       "  input-count output-count log10pval log10fdr   lfc-se    cigar md-tag project\n",
       "1 539.0699    297.7152     0.9314836 0.43422007 0.5472744 200=  200    Tiles  \n",
       "2 325.8447    176.7425     0.6629859 0.24698506 0.7145996 200=  200    Tiles  \n",
       "3 609.2923    355.0390     0.8632774 0.38343441 0.5239386 200=  200    Tiles  \n",
       "4 336.9266    189.0981     0.2785033 0.06727408 1.3138630 200=  200    Tiles  \n",
       "5 643.6583    489.5357     0.2609375 0.06229715 0.6604212 200=  200    Tiles  \n",
       "6 310.1877    236.2906     0.1807929 0.04025238 0.8881207 200=  200    Tiles  "
      ]
     },
     "metadata": {},
     "output_type": "display_data"
    }
   ],
   "source": [
    "### init: set file directory and path\n",
    "fdiry = file.path(FD_RES, \"source\", \"syn22348180\")\n",
    "fname = \"FADS_Tile_K562_K562_20200905.bed\"\n",
    "fpath = file.path(fdiry, fname)\n",
    "\n",
    "### import data\n",
    "dat = read_tsv(fpath, show_col_types = FALSE)\n",
    "\n",
    "### assign\n",
    "dat_tmpra_fads_v1 = dat\n",
    "print(dim(dat))\n",
    "head(dat)"
   ]
  },
  {
   "cell_type": "code",
   "execution_count": 3,
   "id": "70f6ae2f",
   "metadata": {},
   "outputs": [
    {
     "name": "stdout",
     "output_type": "stream",
     "text": [
      "[1] 57010    15\n"
     ]
    },
    {
     "data": {
      "text/html": [
       "<table class=\"dataframe\">\n",
       "<caption>A tibble: 6 × 15</caption>\n",
       "<thead>\n",
       "\t<tr><th scope=col>chr</th><th scope=col>start</th><th scope=col>stop</th><th scope=col>id</th><th scope=col>score</th><th scope=col>strand</th><th scope=col>log2fc</th><th scope=col>input-count</th><th scope=col>output-count</th><th scope=col>log10pval</th><th scope=col>log10fdr</th><th scope=col>lfc-se</th><th scope=col>cigar</th><th scope=col>md-tag</th><th scope=col>project</th></tr>\n",
       "\t<tr><th scope=col>&lt;chr&gt;</th><th scope=col>&lt;dbl&gt;</th><th scope=col>&lt;dbl&gt;</th><th scope=col>&lt;chr&gt;</th><th scope=col>&lt;chr&gt;</th><th scope=col>&lt;chr&gt;</th><th scope=col>&lt;dbl&gt;</th><th scope=col>&lt;dbl&gt;</th><th scope=col>&lt;dbl&gt;</th><th scope=col>&lt;dbl&gt;</th><th scope=col>&lt;dbl&gt;</th><th scope=col>&lt;dbl&gt;</th><th scope=col>&lt;chr&gt;</th><th scope=col>&lt;chr&gt;</th><th scope=col>&lt;chr&gt;</th></tr>\n",
       "</thead>\n",
       "<tbody>\n",
       "\t<tr><td>chr11</td><td>61787329</td><td>61787528</td><td>11:61554801-61555000   </td><td>.</td><td>+</td><td>-0.8576390</td><td>539.0699</td><td>297.7152</td><td>0.9314836</td><td>0.43422007</td><td>0.5472744</td><td>200=</td><td>200</td><td>Tiles</td></tr>\n",
       "\t<tr><td>chr11</td><td>61787329</td><td>61787528</td><td>11:61554801-61555000_RC</td><td>.</td><td>-</td><td>-0.8816736</td><td>325.8447</td><td>176.7425</td><td>0.6629859</td><td>0.24698506</td><td>0.7145996</td><td>200=</td><td>200</td><td>Tiles</td></tr>\n",
       "\t<tr><td>chr11</td><td>61787334</td><td>61787533</td><td>11:61554806-61555005   </td><td>.</td><td>+</td><td>-0.7791248</td><td>609.2923</td><td>355.0390</td><td>0.8632774</td><td>0.38343441</td><td>0.5239386</td><td>200=</td><td>200</td><td>Tiles</td></tr>\n",
       "\t<tr><td>chr11</td><td>61787334</td><td>61787533</td><td>11:61554806-61555005_RC</td><td>.</td><td>-</td><td>-0.8319054</td><td>336.9266</td><td>189.0981</td><td>0.2785033</td><td>0.06727408</td><td>1.3138630</td><td>200=</td><td>200</td><td>Tiles</td></tr>\n",
       "\t<tr><td>chr11</td><td>61787339</td><td>61787538</td><td>11:61554811-61555010   </td><td>.</td><td>+</td><td>-0.3964017</td><td>643.6583</td><td>489.5357</td><td>0.2609375</td><td>0.06229715</td><td>0.6604212</td><td>200=</td><td>200</td><td>Tiles</td></tr>\n",
       "\t<tr><td>chr11</td><td>61787339</td><td>61787538</td><td>11:61554811-61555010_RC</td><td>.</td><td>-</td><td>-0.3913234</td><td>310.1877</td><td>236.2906</td><td>0.1807929</td><td>0.04025238</td><td>0.8881207</td><td>200=</td><td>200</td><td>Tiles</td></tr>\n",
       "</tbody>\n",
       "</table>\n"
      ],
      "text/latex": [
       "A tibble: 6 × 15\n",
       "\\begin{tabular}{lllllllllllllll}\n",
       " chr & start & stop & id & score & strand & log2fc & input-count & output-count & log10pval & log10fdr & lfc-se & cigar & md-tag & project\\\\\n",
       " <chr> & <dbl> & <dbl> & <chr> & <chr> & <chr> & <dbl> & <dbl> & <dbl> & <dbl> & <dbl> & <dbl> & <chr> & <chr> & <chr>\\\\\n",
       "\\hline\n",
       "\t chr11 & 61787329 & 61787528 & 11:61554801-61555000    & . & + & -0.8576390 & 539.0699 & 297.7152 & 0.9314836 & 0.43422007 & 0.5472744 & 200= & 200 & Tiles\\\\\n",
       "\t chr11 & 61787329 & 61787528 & 11:61554801-61555000\\_RC & . & - & -0.8816736 & 325.8447 & 176.7425 & 0.6629859 & 0.24698506 & 0.7145996 & 200= & 200 & Tiles\\\\\n",
       "\t chr11 & 61787334 & 61787533 & 11:61554806-61555005    & . & + & -0.7791248 & 609.2923 & 355.0390 & 0.8632774 & 0.38343441 & 0.5239386 & 200= & 200 & Tiles\\\\\n",
       "\t chr11 & 61787334 & 61787533 & 11:61554806-61555005\\_RC & . & - & -0.8319054 & 336.9266 & 189.0981 & 0.2785033 & 0.06727408 & 1.3138630 & 200= & 200 & Tiles\\\\\n",
       "\t chr11 & 61787339 & 61787538 & 11:61554811-61555010    & . & + & -0.3964017 & 643.6583 & 489.5357 & 0.2609375 & 0.06229715 & 0.6604212 & 200= & 200 & Tiles\\\\\n",
       "\t chr11 & 61787339 & 61787538 & 11:61554811-61555010\\_RC & . & - & -0.3913234 & 310.1877 & 236.2906 & 0.1807929 & 0.04025238 & 0.8881207 & 200= & 200 & Tiles\\\\\n",
       "\\end{tabular}\n"
      ],
      "text/markdown": [
       "\n",
       "A tibble: 6 × 15\n",
       "\n",
       "| chr &lt;chr&gt; | start &lt;dbl&gt; | stop &lt;dbl&gt; | id &lt;chr&gt; | score &lt;chr&gt; | strand &lt;chr&gt; | log2fc &lt;dbl&gt; | input-count &lt;dbl&gt; | output-count &lt;dbl&gt; | log10pval &lt;dbl&gt; | log10fdr &lt;dbl&gt; | lfc-se &lt;dbl&gt; | cigar &lt;chr&gt; | md-tag &lt;chr&gt; | project &lt;chr&gt; |\n",
       "|---|---|---|---|---|---|---|---|---|---|---|---|---|---|---|\n",
       "| chr11 | 61787329 | 61787528 | 11:61554801-61555000    | . | + | -0.8576390 | 539.0699 | 297.7152 | 0.9314836 | 0.43422007 | 0.5472744 | 200= | 200 | Tiles |\n",
       "| chr11 | 61787329 | 61787528 | 11:61554801-61555000_RC | . | - | -0.8816736 | 325.8447 | 176.7425 | 0.6629859 | 0.24698506 | 0.7145996 | 200= | 200 | Tiles |\n",
       "| chr11 | 61787334 | 61787533 | 11:61554806-61555005    | . | + | -0.7791248 | 609.2923 | 355.0390 | 0.8632774 | 0.38343441 | 0.5239386 | 200= | 200 | Tiles |\n",
       "| chr11 | 61787334 | 61787533 | 11:61554806-61555005_RC | . | - | -0.8319054 | 336.9266 | 189.0981 | 0.2785033 | 0.06727408 | 1.3138630 | 200= | 200 | Tiles |\n",
       "| chr11 | 61787339 | 61787538 | 11:61554811-61555010    | . | + | -0.3964017 | 643.6583 | 489.5357 | 0.2609375 | 0.06229715 | 0.6604212 | 200= | 200 | Tiles |\n",
       "| chr11 | 61787339 | 61787538 | 11:61554811-61555010_RC | . | - | -0.3913234 | 310.1877 | 236.2906 | 0.1807929 | 0.04025238 | 0.8881207 | 200= | 200 | Tiles |\n",
       "\n"
      ],
      "text/plain": [
       "  chr   start    stop     id                      score strand log2fc    \n",
       "1 chr11 61787329 61787528 11:61554801-61555000    .     +      -0.8576390\n",
       "2 chr11 61787329 61787528 11:61554801-61555000_RC .     -      -0.8816736\n",
       "3 chr11 61787334 61787533 11:61554806-61555005    .     +      -0.7791248\n",
       "4 chr11 61787334 61787533 11:61554806-61555005_RC .     -      -0.8319054\n",
       "5 chr11 61787339 61787538 11:61554811-61555010    .     +      -0.3964017\n",
       "6 chr11 61787339 61787538 11:61554811-61555010_RC .     -      -0.3913234\n",
       "  input-count output-count log10pval log10fdr   lfc-se    cigar md-tag project\n",
       "1 539.0699    297.7152     0.9314836 0.43422007 0.5472744 200=  200    Tiles  \n",
       "2 325.8447    176.7425     0.6629859 0.24698506 0.7145996 200=  200    Tiles  \n",
       "3 609.2923    355.0390     0.8632774 0.38343441 0.5239386 200=  200    Tiles  \n",
       "4 336.9266    189.0981     0.2785033 0.06727408 1.3138630 200=  200    Tiles  \n",
       "5 643.6583    489.5357     0.2609375 0.06229715 0.6604212 200=  200    Tiles  \n",
       "6 310.1877    236.2906     0.1807929 0.04025238 0.8881207 200=  200    Tiles  "
      ]
     },
     "metadata": {},
     "output_type": "display_data"
    }
   ],
   "source": [
    "### init: set file directory and path\n",
    "fdiry = file.path(FD_RES, \"source\", \"syn22348180\")\n",
    "fname = \"FADS_Tile_K562_K562_20200905.hg38.txt\"\n",
    "fpath = file.path(fdiry, fname)\n",
    "\n",
    "### import data\n",
    "dat = read_tsv(fpath, show_col_types = FALSE)\n",
    "\n",
    "### assign\n",
    "dat_tmpra_fads_v2 = dat\n",
    "print(dim(dat))\n",
    "head(dat)"
   ]
  },
  {
   "cell_type": "markdown",
   "id": "29323e64",
   "metadata": {},
   "source": [
    "**Check**"
   ]
  },
  {
   "cell_type": "code",
   "execution_count": 9,
   "id": "8231f655",
   "metadata": {},
   "outputs": [
    {
     "name": "stdout",
     "output_type": "stream",
     "text": [
      "           \n",
      "                1     2     3     4     5     6     7     8     9    10    11\n",
      "  emVarCtrl     0     2     0     6     0     2     2     4     4     2     0\n",
      "  expCtrl       0     1     0     0     0     1     0     1     1     1     0\n",
      "  negCtrl      16     7    17     5    11    10     9     6     8     6    14\n",
      "  SNV           0     0     0     0     0     0     0     0     0     0 12432\n",
      "  Tiles         0     0     0     0     0     0     0     0     0     0 44330\n",
      "           \n",
      "               12    13    14    15    16    17    18    19    20    21    22\n",
      "  emVarCtrl     4     2     0     8     2    16     2    16     0     0     8\n",
      "  expCtrl       0     0     2     1     2     4     0     2     2     0     0\n",
      "  negCtrl       6     3     8     3     4     3     6     5     1     1     1\n",
      "  SNV           0     0     0     0     0     0     0     0     0     0     0\n",
      "  Tiles         0     0     0     0     0     0     0     0     0     0     0\n"
     ]
    }
   ],
   "source": [
    "dat = dat_tmpra_fads_v1\n",
    "print(table(dat$project, dat$chr))"
   ]
  },
  {
   "cell_type": "code",
   "execution_count": 10,
   "id": "2154a89d",
   "metadata": {},
   "outputs": [
    {
     "name": "stdout",
     "output_type": "stream",
     "text": [
      "           \n",
      "             chr1 chr10 chr11 chr12 chr13 chr14 chr15 chr16 chr17 chr18 chr19\n",
      "  emVarCtrl     0     2     0     4     2     0     8     2    16     2    16\n",
      "  expCtrl       0     1     0     0     0     2     1     2     4     0     2\n",
      "  negCtrl      16     6    14     6     3     8     3     4     3     6     5\n",
      "  SNV           0     0 12432     0     0     0     0     0     0     0     0\n",
      "  Tiles         0     0 44330     0     0     0     0     0     0     0     0\n",
      "           \n",
      "             chr2 chr20 chr21 chr22  chr3  chr4  chr5  chr6  chr7  chr8  chr9\n",
      "  emVarCtrl     2     0     0     8     0     6     0     2     2     4     4\n",
      "  expCtrl       1     2     0     0     0     0     0     1     0     1     1\n",
      "  negCtrl       7     1     1     1    17     5    11    10     9     6     8\n",
      "  SNV           0     0     0     0     0     0     0     0     0     0     0\n",
      "  Tiles         0     0     0     0     0     0     0     0     0     0     0\n"
     ]
    }
   ],
   "source": [
    "dat = dat_tmpra_fads_v2\n",
    "print(table(dat$project, dat$chr))"
   ]
  },
  {
   "cell_type": "markdown",
   "id": "654ca401",
   "metadata": {},
   "source": [
    "## Input zero"
   ]
  },
  {
   "cell_type": "code",
   "execution_count": 11,
   "id": "df662395",
   "metadata": {},
   "outputs": [
    {
     "data": {
      "text/html": [
       "<table class=\"dataframe\">\n",
       "<caption>A spec_tbl_df: 14 × 12</caption>\n",
       "<thead>\n",
       "\t<tr><th scope=col>Chrom</th><th scope=col>Start</th><th scope=col>End</th><th scope=col>ID</th><th scope=col>Score</th><th scope=col>Strand</th><th scope=col>log2fc</th><th scope=col>Input_Count</th><th scope=col>Output_Count</th><th scope=col>log10pval</th><th scope=col>log10fdr</th><th scope=col>lfc-se</th></tr>\n",
       "\t<tr><th scope=col>&lt;chr&gt;</th><th scope=col>&lt;dbl&gt;</th><th scope=col>&lt;dbl&gt;</th><th scope=col>&lt;chr&gt;</th><th scope=col>&lt;chr&gt;</th><th scope=col>&lt;chr&gt;</th><th scope=col>&lt;dbl&gt;</th><th scope=col>&lt;dbl&gt;</th><th scope=col>&lt;dbl&gt;</th><th scope=col>&lt;dbl&gt;</th><th scope=col>&lt;dbl&gt;</th><th scope=col>&lt;dbl&gt;</th></tr>\n",
       "</thead>\n",
       "<tbody>\n",
       "\t<tr><td>chrX</td><td>47927001</td><td>47927200</td><td>X:47927001-47927200</td><td>.</td><td>+</td><td>5.068603</td><td>0</td><td> 4.2278942</td><td> 2.6595333</td><td> 2.2380199</td><td>1.654696</td></tr>\n",
       "\t<tr><td>chrX</td><td>47943401</td><td>47943600</td><td>X:47943401-47943600</td><td>.</td><td>+</td><td>4.343176</td><td>0</td><td> 2.6859533</td><td> 1.6726051</td><td> 1.3388774</td><td>1.885483</td></tr>\n",
       "\t<tr><td>chrX</td><td>47985951</td><td>47986150</td><td>X:47985951-47986150</td><td>.</td><td>+</td><td>2.416875</td><td>0</td><td> 0.6224711</td><td> 0.3526610</td><td> 0.2420383</td><td>3.157120</td></tr>\n",
       "\t<tr><td>chrX</td><td>48126501</td><td>48126700</td><td>X:48126501-48126700</td><td>.</td><td>+</td><td>3.149121</td><td>0</td><td> 1.1806591</td><td> 0.6350719</td><td> 0.4591993</td><td>2.633069</td></tr>\n",
       "\t<tr><td>chrX</td><td>48225701</td><td>48225900</td><td>X:48225701-48225900</td><td>.</td><td>+</td><td>3.723151</td><td>0</td><td> 1.6470938</td><td> 1.0912746</td><td> 0.8332311</td><td>2.134032</td></tr>\n",
       "\t<tr><td>chrX</td><td>48364201</td><td>48364400</td><td>X:48364201-48364400</td><td>.</td><td>+</td><td>2.646124</td><td>0</td><td> 0.7133872</td><td> 0.3965438</td><td> 0.2741806</td><td>3.152688</td></tr>\n",
       "\t<tr><td>chrX</td><td>48598611</td><td>48598810</td><td>X:48598611-48598810</td><td>.</td><td>+</td><td>3.278170</td><td>0</td><td> 1.1889787</td><td> 0.6813001</td><td> 0.4958346</td><td>2.605362</td></tr>\n",
       "\t<tr><td>chrX</td><td>48782951</td><td>48783150</td><td>X:48782951-48783150</td><td>.</td><td>+</td><td>8.178405</td><td>0</td><td>37.2283048</td><td>15.4114753</td><td>14.6848613</td><td>1.004430</td></tr>\n",
       "\t<tr><td>chrX</td><td>48835401</td><td>48835600</td><td>X:48835401-48835600</td><td>.</td><td>+</td><td>3.759029</td><td>0</td><td> 1.6645702</td><td> 0.9732406</td><td> 0.7344058</td><td>2.327870</td></tr>\n",
       "\t<tr><td>chrX</td><td>48957171</td><td>48957370</td><td>X:48957171-48957370</td><td>.</td><td>+</td><td>6.148774</td><td>0</td><td> 9.1696369</td><td> 5.9950613</td><td> 5.4261970</td><td>1.257572</td></tr>\n",
       "\t<tr><td>chrX</td><td>48980371</td><td>48980570</td><td>X:48980371-48980570</td><td>.</td><td>+</td><td>3.566948</td><td>0</td><td> 1.5742121</td><td> 0.8684731</td><td> 0.6481449</td><td>2.388712</td></tr>\n",
       "\t<tr><td>chrX</td><td>49156271</td><td>49156470</td><td>X:49156271-49156470</td><td>.</td><td>+</td><td>7.340011</td><td>0</td><td>21.0131015</td><td> 9.8850902</td><td> 9.2319454</td><td>1.142088</td></tr>\n",
       "\t<tr><td>chrX</td><td>49547851</td><td>49548050</td><td>X:49547851-49548050</td><td>.</td><td>+</td><td>3.278170</td><td>0</td><td> 1.1889787</td><td> 0.6813001</td><td> 0.4958346</td><td>2.605362</td></tr>\n",
       "\t<tr><td>chrX</td><td>49586151</td><td>49586350</td><td>X:49586151-49586350</td><td>.</td><td>+</td><td>2.416222</td><td>0</td><td> 0.7871061</td><td> 0.3702683</td><td> 0.2546234</td><td>3.037319</td></tr>\n",
       "</tbody>\n",
       "</table>\n"
      ],
      "text/latex": [
       "A spec\\_tbl\\_df: 14 × 12\n",
       "\\begin{tabular}{llllllllllll}\n",
       " Chrom & Start & End & ID & Score & Strand & log2fc & Input\\_Count & Output\\_Count & log10pval & log10fdr & lfc-se\\\\\n",
       " <chr> & <dbl> & <dbl> & <chr> & <chr> & <chr> & <dbl> & <dbl> & <dbl> & <dbl> & <dbl> & <dbl>\\\\\n",
       "\\hline\n",
       "\t chrX & 47927001 & 47927200 & X:47927001-47927200 & . & + & 5.068603 & 0 &  4.2278942 &  2.6595333 &  2.2380199 & 1.654696\\\\\n",
       "\t chrX & 47943401 & 47943600 & X:47943401-47943600 & . & + & 4.343176 & 0 &  2.6859533 &  1.6726051 &  1.3388774 & 1.885483\\\\\n",
       "\t chrX & 47985951 & 47986150 & X:47985951-47986150 & . & + & 2.416875 & 0 &  0.6224711 &  0.3526610 &  0.2420383 & 3.157120\\\\\n",
       "\t chrX & 48126501 & 48126700 & X:48126501-48126700 & . & + & 3.149121 & 0 &  1.1806591 &  0.6350719 &  0.4591993 & 2.633069\\\\\n",
       "\t chrX & 48225701 & 48225900 & X:48225701-48225900 & . & + & 3.723151 & 0 &  1.6470938 &  1.0912746 &  0.8332311 & 2.134032\\\\\n",
       "\t chrX & 48364201 & 48364400 & X:48364201-48364400 & . & + & 2.646124 & 0 &  0.7133872 &  0.3965438 &  0.2741806 & 3.152688\\\\\n",
       "\t chrX & 48598611 & 48598810 & X:48598611-48598810 & . & + & 3.278170 & 0 &  1.1889787 &  0.6813001 &  0.4958346 & 2.605362\\\\\n",
       "\t chrX & 48782951 & 48783150 & X:48782951-48783150 & . & + & 8.178405 & 0 & 37.2283048 & 15.4114753 & 14.6848613 & 1.004430\\\\\n",
       "\t chrX & 48835401 & 48835600 & X:48835401-48835600 & . & + & 3.759029 & 0 &  1.6645702 &  0.9732406 &  0.7344058 & 2.327870\\\\\n",
       "\t chrX & 48957171 & 48957370 & X:48957171-48957370 & . & + & 6.148774 & 0 &  9.1696369 &  5.9950613 &  5.4261970 & 1.257572\\\\\n",
       "\t chrX & 48980371 & 48980570 & X:48980371-48980570 & . & + & 3.566948 & 0 &  1.5742121 &  0.8684731 &  0.6481449 & 2.388712\\\\\n",
       "\t chrX & 49156271 & 49156470 & X:49156271-49156470 & . & + & 7.340011 & 0 & 21.0131015 &  9.8850902 &  9.2319454 & 1.142088\\\\\n",
       "\t chrX & 49547851 & 49548050 & X:49547851-49548050 & . & + & 3.278170 & 0 &  1.1889787 &  0.6813001 &  0.4958346 & 2.605362\\\\\n",
       "\t chrX & 49586151 & 49586350 & X:49586151-49586350 & . & + & 2.416222 & 0 &  0.7871061 &  0.3702683 &  0.2546234 & 3.037319\\\\\n",
       "\\end{tabular}\n"
      ],
      "text/markdown": [
       "\n",
       "A spec_tbl_df: 14 × 12\n",
       "\n",
       "| Chrom &lt;chr&gt; | Start &lt;dbl&gt; | End &lt;dbl&gt; | ID &lt;chr&gt; | Score &lt;chr&gt; | Strand &lt;chr&gt; | log2fc &lt;dbl&gt; | Input_Count &lt;dbl&gt; | Output_Count &lt;dbl&gt; | log10pval &lt;dbl&gt; | log10fdr &lt;dbl&gt; | lfc-se &lt;dbl&gt; |\n",
       "|---|---|---|---|---|---|---|---|---|---|---|---|\n",
       "| chrX | 47927001 | 47927200 | X:47927001-47927200 | . | + | 5.068603 | 0 |  4.2278942 |  2.6595333 |  2.2380199 | 1.654696 |\n",
       "| chrX | 47943401 | 47943600 | X:47943401-47943600 | . | + | 4.343176 | 0 |  2.6859533 |  1.6726051 |  1.3388774 | 1.885483 |\n",
       "| chrX | 47985951 | 47986150 | X:47985951-47986150 | . | + | 2.416875 | 0 |  0.6224711 |  0.3526610 |  0.2420383 | 3.157120 |\n",
       "| chrX | 48126501 | 48126700 | X:48126501-48126700 | . | + | 3.149121 | 0 |  1.1806591 |  0.6350719 |  0.4591993 | 2.633069 |\n",
       "| chrX | 48225701 | 48225900 | X:48225701-48225900 | . | + | 3.723151 | 0 |  1.6470938 |  1.0912746 |  0.8332311 | 2.134032 |\n",
       "| chrX | 48364201 | 48364400 | X:48364201-48364400 | . | + | 2.646124 | 0 |  0.7133872 |  0.3965438 |  0.2741806 | 3.152688 |\n",
       "| chrX | 48598611 | 48598810 | X:48598611-48598810 | . | + | 3.278170 | 0 |  1.1889787 |  0.6813001 |  0.4958346 | 2.605362 |\n",
       "| chrX | 48782951 | 48783150 | X:48782951-48783150 | . | + | 8.178405 | 0 | 37.2283048 | 15.4114753 | 14.6848613 | 1.004430 |\n",
       "| chrX | 48835401 | 48835600 | X:48835401-48835600 | . | + | 3.759029 | 0 |  1.6645702 |  0.9732406 |  0.7344058 | 2.327870 |\n",
       "| chrX | 48957171 | 48957370 | X:48957171-48957370 | . | + | 6.148774 | 0 |  9.1696369 |  5.9950613 |  5.4261970 | 1.257572 |\n",
       "| chrX | 48980371 | 48980570 | X:48980371-48980570 | . | + | 3.566948 | 0 |  1.5742121 |  0.8684731 |  0.6481449 | 2.388712 |\n",
       "| chrX | 49156271 | 49156470 | X:49156271-49156470 | . | + | 7.340011 | 0 | 21.0131015 |  9.8850902 |  9.2319454 | 1.142088 |\n",
       "| chrX | 49547851 | 49548050 | X:49547851-49548050 | . | + | 3.278170 | 0 |  1.1889787 |  0.6813001 |  0.4958346 | 2.605362 |\n",
       "| chrX | 49586151 | 49586350 | X:49586151-49586350 | . | + | 2.416222 | 0 |  0.7871061 |  0.3702683 |  0.2546234 | 3.037319 |\n",
       "\n"
      ],
      "text/plain": [
       "   Chrom Start    End      ID                  Score Strand log2fc  \n",
       "1  chrX  47927001 47927200 X:47927001-47927200 .     +      5.068603\n",
       "2  chrX  47943401 47943600 X:47943401-47943600 .     +      4.343176\n",
       "3  chrX  47985951 47986150 X:47985951-47986150 .     +      2.416875\n",
       "4  chrX  48126501 48126700 X:48126501-48126700 .     +      3.149121\n",
       "5  chrX  48225701 48225900 X:48225701-48225900 .     +      3.723151\n",
       "6  chrX  48364201 48364400 X:48364201-48364400 .     +      2.646124\n",
       "7  chrX  48598611 48598810 X:48598611-48598810 .     +      3.278170\n",
       "8  chrX  48782951 48783150 X:48782951-48783150 .     +      8.178405\n",
       "9  chrX  48835401 48835600 X:48835401-48835600 .     +      3.759029\n",
       "10 chrX  48957171 48957370 X:48957171-48957370 .     +      6.148774\n",
       "11 chrX  48980371 48980570 X:48980371-48980570 .     +      3.566948\n",
       "12 chrX  49156271 49156470 X:49156271-49156470 .     +      7.340011\n",
       "13 chrX  49547851 49548050 X:49547851-49548050 .     +      3.278170\n",
       "14 chrX  49586151 49586350 X:49586151-49586350 .     +      2.416222\n",
       "   Input_Count Output_Count log10pval  log10fdr   lfc-se  \n",
       "1  0            4.2278942    2.6595333  2.2380199 1.654696\n",
       "2  0            2.6859533    1.6726051  1.3388774 1.885483\n",
       "3  0            0.6224711    0.3526610  0.2420383 3.157120\n",
       "4  0            1.1806591    0.6350719  0.4591993 2.633069\n",
       "5  0            1.6470938    1.0912746  0.8332311 2.134032\n",
       "6  0            0.7133872    0.3965438  0.2741806 3.152688\n",
       "7  0            1.1889787    0.6813001  0.4958346 2.605362\n",
       "8  0           37.2283048   15.4114753 14.6848613 1.004430\n",
       "9  0            1.6645702    0.9732406  0.7344058 2.327870\n",
       "10 0            9.1696369    5.9950613  5.4261970 1.257572\n",
       "11 0            1.5742121    0.8684731  0.6481449 2.388712\n",
       "12 0           21.0131015    9.8850902  9.2319454 1.142088\n",
       "13 0            1.1889787    0.6813001  0.4958346 2.605362\n",
       "14 0            0.7871061    0.3702683  0.2546234 3.037319"
      ]
     },
     "metadata": {},
     "output_type": "display_data"
    }
   ],
   "source": [
    "dat_tmpra_gata1 %>% dplyr::filter(Input_Count == 0)"
   ]
  },
  {
   "cell_type": "markdown",
   "id": "e2ca6c83",
   "metadata": {},
   "source": [
    "## Input NA"
   ]
  },
  {
   "cell_type": "code",
   "execution_count": 13,
   "id": "58814c7b",
   "metadata": {},
   "outputs": [
    {
     "data": {
      "text/html": [
       "<style>\n",
       ".list-inline {list-style: none; margin:0; padding: 0}\n",
       ".list-inline>li {display: inline-block}\n",
       ".list-inline>li:not(:last-child)::after {content: \"\\00b7\"; padding: 0 .5ex}\n",
       "</style>\n",
       "<ol class=list-inline><li>0</li><li>12</li></ol>\n"
      ],
      "text/latex": [
       "\\begin{enumerate*}\n",
       "\\item 0\n",
       "\\item 12\n",
       "\\end{enumerate*}\n"
      ],
      "text/markdown": [
       "1. 0\n",
       "2. 12\n",
       "\n",
       "\n"
      ],
      "text/plain": [
       "[1]  0 12"
      ]
     },
     "metadata": {},
     "output_type": "display_data"
    }
   ],
   "source": [
    "dat = dat_tmpra_gata1 %>% dplyr::filter(is.na(Input_Count))\n",
    "dim(dat)"
   ]
  },
  {
   "cell_type": "code",
   "execution_count": 14,
   "id": "cdb809c9",
   "metadata": {},
   "outputs": [
    {
     "data": {
      "text/html": [
       "<style>\n",
       ".list-inline {list-style: none; margin:0; padding: 0}\n",
       ".list-inline>li {display: inline-block}\n",
       ".list-inline>li:not(:last-child)::after {content: \"\\00b7\"; padding: 0 .5ex}\n",
       "</style>\n",
       "<ol class=list-inline><li>0</li><li>12</li></ol>\n"
      ],
      "text/latex": [
       "\\begin{enumerate*}\n",
       "\\item 0\n",
       "\\item 12\n",
       "\\end{enumerate*}\n"
      ],
      "text/markdown": [
       "1. 0\n",
       "2. 12\n",
       "\n",
       "\n"
      ],
      "text/plain": [
       "[1]  0 12"
      ]
     },
     "metadata": {},
     "output_type": "display_data"
    }
   ],
   "source": [
    "dat = dat_tmpra_myc %>% dplyr::filter(is.na(Input_Count))\n",
    "dim(dat)"
   ]
  },
  {
   "cell_type": "code",
   "execution_count": 17,
   "id": "7ffedff4",
   "metadata": {},
   "outputs": [
    {
     "data": {
      "text/html": [
       "<style>\n",
       ".list-inline {list-style: none; margin:0; padding: 0}\n",
       ".list-inline>li {display: inline-block}\n",
       ".list-inline>li:not(:last-child)::after {content: \"\\00b7\"; padding: 0 .5ex}\n",
       "</style>\n",
       "<ol class=list-inline><li>539</li><li>15</li></ol>\n"
      ],
      "text/latex": [
       "\\begin{enumerate*}\n",
       "\\item 539\n",
       "\\item 15\n",
       "\\end{enumerate*}\n"
      ],
      "text/markdown": [
       "1. 539\n",
       "2. 15\n",
       "\n",
       "\n"
      ],
      "text/plain": [
       "[1] 539  15"
      ]
     },
     "metadata": {},
     "output_type": "display_data"
    }
   ],
   "source": [
    "dat = dat_tmpra_fads_v2 %>% dplyr::filter(is.na(`input-count`))\n",
    "dim(dat)"
   ]
  },
  {
   "cell_type": "code",
   "execution_count": 18,
   "id": "4f5c8501",
   "metadata": {},
   "outputs": [
    {
     "data": {
      "text/html": [
       "<style>\n",
       ".list-inline {list-style: none; margin:0; padding: 0}\n",
       ".list-inline>li {display: inline-block}\n",
       ".list-inline>li:not(:last-child)::after {content: \"\\00b7\"; padding: 0 .5ex}\n",
       "</style>\n",
       "<ol class=list-inline><li>539</li><li>15</li></ol>\n"
      ],
      "text/latex": [
       "\\begin{enumerate*}\n",
       "\\item 539\n",
       "\\item 15\n",
       "\\end{enumerate*}\n"
      ],
      "text/markdown": [
       "1. 539\n",
       "2. 15\n",
       "\n",
       "\n"
      ],
      "text/plain": [
       "[1] 539  15"
      ]
     },
     "metadata": {},
     "output_type": "display_data"
    }
   ],
   "source": [
    "dat = dat_tmpra_fads_v2 %>% dplyr::filter(is.na(`output-count`))\n",
    "dim(dat)"
   ]
  },
  {
   "cell_type": "code",
   "execution_count": 19,
   "id": "9659419d",
   "metadata": {},
   "outputs": [
    {
     "data": {
      "text/html": [
       "<style>\n",
       ".list-inline {list-style: none; margin:0; padding: 0}\n",
       ".list-inline>li {display: inline-block}\n",
       ".list-inline>li:not(:last-child)::after {content: \"\\00b7\"; padding: 0 .5ex}\n",
       "</style>\n",
       "<ol class=list-inline><li>539</li><li>15</li></ol>\n"
      ],
      "text/latex": [
       "\\begin{enumerate*}\n",
       "\\item 539\n",
       "\\item 15\n",
       "\\end{enumerate*}\n"
      ],
      "text/markdown": [
       "1. 539\n",
       "2. 15\n",
       "\n",
       "\n"
      ],
      "text/plain": [
       "[1] 539  15"
      ]
     },
     "metadata": {},
     "output_type": "display_data"
    }
   ],
   "source": [
    "dat = dat_tmpra_fads_v2 %>% dplyr::filter(is.na(log2fc))\n",
    "dim(dat)"
   ]
  },
  {
   "cell_type": "code",
   "execution_count": null,
   "id": "77464f6d",
   "metadata": {},
   "outputs": [],
   "source": []
  }
 ],
 "metadata": {
  "kernelspec": {
   "display_name": "R (alex_py3)",
   "language": "R",
   "name": "ir_alex_py3"
  },
  "language_info": {
   "codemirror_mode": "r",
   "file_extension": ".r",
   "mimetype": "text/x-r-source",
   "name": "R",
   "pygments_lexer": "r",
   "version": "3.6.2"
  }
 },
 "nbformat": 4,
 "nbformat_minor": 5
}
