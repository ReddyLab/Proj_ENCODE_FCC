{
 "cells": [
  {
   "cell_type": "markdown",
   "id": "850600dd-2144-4ff6-b385-4c8af07a20af",
   "metadata": {},
   "source": [
    "**set environment**"
   ]
  },
  {
   "cell_type": "code",
   "execution_count": 1,
   "id": "64460166-0960-4b53-b68b-53d7a4a1b3dc",
   "metadata": {},
   "outputs": [
    {
     "name": "stdout",
     "output_type": "stream",
     "text": [
      "You are on Duke Server: HARDAC\n",
      "BASE DIRECTORY:     /gpfs/fs1/data/reddylab/Kuei\n",
      "PATH OF SOURCE:     /gpfs/fs1/data/reddylab/Kuei/source\n",
      "PATH OF EXECUTABLE: /gpfs/fs1/data/reddylab/Kuei/exe\n",
      "PATH OF ANNOTATION: /gpfs/fs1/data/reddylab/Kuei/annotation\n",
      "PATH OF PROJECT:    /gpfs/fs1/data/reddylab/Kuei/GitRepo/Proj_CombEffect_ENCODE_FCC/notebooks\n",
      "PATH OF RESULTS:    /gpfs/fs1/data/reddylab/Kuei/out/proj_combeffect_encode_fcc\n",
      "\n"
     ]
    }
   ],
   "source": [
    "source ../config_duke.sh\n",
    "show_env"
   ]
  },
  {
   "cell_type": "markdown",
   "id": "2c085138-f5ed-487c-abe1-539222a925e2",
   "metadata": {},
   "source": [
    "## Alex folder for ENCODE FCC Capstone data"
   ]
  },
  {
   "cell_type": "code",
   "execution_count": 32,
   "id": "cad27a99-939c-4489-91d4-dfe7b793b531",
   "metadata": {},
   "outputs": [
    {
     "name": "stdout",
     "output_type": "stream",
     "text": [
      "\u001b[0m\u001b[38;5;27mdata\u001b[0m                   \u001b[38;5;9mENCFF664QBK.fasta.gz\u001b[0m  \u001b[38;5;27mresults\u001b[0m\n",
      "\u001b[38;5;9mdata.myc_gata1.tar.gz\u001b[0m  \u001b[38;5;27mlogs\u001b[0m                  wrangle_MYC_GATA1_data.ipynb\n"
     ]
    }
   ],
   "source": [
    "FD_ALEX=${FD_RLAB}/Alex/encode4_duke/ipynbs/jamborees/20211025_MPRA_STARR_Jamboree\n",
    "ls ${FD_ALEX}"
   ]
  },
  {
   "cell_type": "code",
   "execution_count": 33,
   "id": "08086fe8-56b8-43a9-a39e-acd4b6c02201",
   "metadata": {},
   "outputs": [
    {
     "name": "stdout",
     "output_type": "stream",
     "text": [
      "\u001b[0m\u001b[38;5;27mfads\u001b[0m  \u001b[38;5;27mgata1_myc\u001b[0m\n"
     ]
    }
   ],
   "source": [
    "FD_ALEX=${FD_RLAB}/Alex/encode4_duke/ipynbs/jamborees/20211025_MPRA_STARR_Jamboree/data\n",
    "ls ${FD_ALEX}"
   ]
  },
  {
   "cell_type": "code",
   "execution_count": 34,
   "id": "31ddbcc9-2493-484d-a024-6d5f55df6c49",
   "metadata": {},
   "outputs": [
    {
     "name": "stdout",
     "output_type": "stream",
     "text": [
      "\u001b[0m\u001b[38;5;27mmpra\u001b[0m  \u001b[38;5;27mstarrseq\u001b[0m\n"
     ]
    }
   ],
   "source": [
    "ls ${FD_ALEX}/gata1_myc"
   ]
  },
  {
   "cell_type": "code",
   "execution_count": 35,
   "id": "b53ab87b-7990-4c1e-b6e0-d8ece694fd1e",
   "metadata": {},
   "outputs": [
    {
     "name": "stdout",
     "output_type": "stream",
     "text": [
      "\u001b[0m\u001b[38;5;27mmpra\u001b[0m  \u001b[38;5;27mstarrseq\u001b[0m\n"
     ]
    }
   ],
   "source": [
    "ls ${FD_ALEX}/fads"
   ]
  },
  {
   "cell_type": "markdown",
   "id": "c03cad2b-8488-4a09-b924-587e2a8f4dbe",
   "metadata": {},
   "source": [
    "**STARR-seq**"
   ]
  },
  {
   "cell_type": "code",
   "execution_count": 36,
   "id": "ea58ef9b-667f-4232-8cc6-c800ea73bd07",
   "metadata": {},
   "outputs": [
    {
     "name": "stdout",
     "output_type": "stream",
     "text": [
      "\u001b[0m\u001b[38;5;27mbams\u001b[0m  bams.manifest.tsv  foo  \u001b[38;5;27mfragments\u001b[0m  fragments.manifest.tsv\n"
     ]
    }
   ],
   "source": [
    "ls ${FD_ALEX}/gata1_myc/starrseq"
   ]
  },
  {
   "cell_type": "code",
   "execution_count": 37,
   "id": "7d852c5a-c0ba-40c6-96da-b99f18ce0829",
   "metadata": {},
   "outputs": [
    {
     "name": "stdout",
     "output_type": "stream",
     "text": [
      "\u001b[0m\u001b[38;5;27mbams\u001b[0m  \u001b[38;5;27mfragments\u001b[0m\n"
     ]
    }
   ],
   "source": [
    "ls ${FD_ALEX}/fads/starrseq"
   ]
  },
  {
   "cell_type": "code",
   "execution_count": 38,
   "id": "30d1d089-1360-4daa-943f-52abe2c6e5d7",
   "metadata": {
    "tags": []
   },
   "outputs": [
    {
     "name": "stdout",
     "output_type": "stream",
     "text": [
      "A001.K562.starrseq.GATA1.stranded.counts.txt\n",
      "A001.K562.starrseq.GATA1.unstranded.counts.txt\n",
      "A001.K562.starrseq.input.rep1.GATA1.fragment_counts.stranded.bed\n",
      "A001.K562.starrseq.input.rep1.GATA1.fragment_counts.unstranded.bed\n",
      "A001.K562.starrseq.input.rep1.MYC.fragment_counts.stranded.bed\n",
      "A001.K562.starrseq.input.rep1.MYC.fragment_counts.unstranded.bed\n",
      "A001.K562.starrseq.input.rep2.GATA1.fragment_counts.stranded.bed\n",
      "A001.K562.starrseq.input.rep2.GATA1.fragment_counts.unstranded.bed\n",
      "A001.K562.starrseq.input.rep2.MYC.fragment_counts.stranded.bed\n",
      "A001.K562.starrseq.input.rep2.MYC.fragment_counts.unstranded.bed\n",
      "A001.K562.starrseq.input.rep3.GATA1.fragment_counts.stranded.bed\n",
      "A001.K562.starrseq.input.rep3.GATA1.fragment_counts.unstranded.bed\n",
      "A001.K562.starrseq.input.rep3.MYC.fragment_counts.stranded.bed\n",
      "A001.K562.starrseq.input.rep3.MYC.fragment_counts.unstranded.bed\n",
      "A001.K562.starrseq.input.rep4.GATA1.fragment_counts.stranded.bed\n",
      "A001.K562.starrseq.input.rep4.GATA1.fragment_counts.unstranded.bed\n",
      "A001.K562.starrseq.input.rep4.MYC.fragment_counts.stranded.bed\n",
      "A001.K562.starrseq.input.rep4.MYC.fragment_counts.unstranded.bed\n",
      "A001.K562.starrseq.MYC.stranded.counts.txt\n",
      "A001.K562.starrseq.MYC.unstranded.counts.txt\n",
      "A001.K562.starrseq.output.rep1.GATA1.fragment_counts.stranded.bed\n",
      "A001.K562.starrseq.output.rep1.GATA1.fragment_counts.unstranded.bed\n",
      "A001.K562.starrseq.output.rep1.MYC.fragment_counts.stranded.bed\n",
      "A001.K562.starrseq.output.rep1.MYC.fragment_counts.unstranded.bed\n",
      "A001.K562.starrseq.output.rep2.GATA1.fragment_counts.stranded.bed\n",
      "A001.K562.starrseq.output.rep2.GATA1.fragment_counts.unstranded.bed\n",
      "A001.K562.starrseq.output.rep2.MYC.fragment_counts.stranded.bed\n",
      "A001.K562.starrseq.output.rep2.MYC.fragment_counts.unstranded.bed\n",
      "A001.K562.starrseq.output.rep3.GATA1.fragment_counts.stranded.bed\n",
      "A001.K562.starrseq.output.rep3.GATA1.fragment_counts.unstranded.bed\n",
      "A001.K562.starrseq.output.rep3.MYC.fragment_counts.stranded.bed\n",
      "A001.K562.starrseq.output.rep3.MYC.fragment_counts.unstranded.bed\n",
      "control_HCT116_MCF-7_A549_white.GATA1.fragment_counts.stranded.bed\n",
      "control_HCT116_MCF-7_A549_white.GATA1.fragment_counts.unstranded.bed\n",
      "control_HCT116_MCF-7_A549_white.MYC.fragment_counts.stranded.bed\n",
      "control_HCT116_MCF-7_A549_white.MYC.fragment_counts.unstranded.bed\n",
      "control_HepG2_K562_white.GATA1.fragment_counts.stranded.bed\n",
      "control_HepG2_K562_white.GATA1.fragment_counts.unstranded.bed\n",
      "control_HepG2_K562_white.MYC.fragment_counts.stranded.bed\n",
      "control_HepG2_K562_white.MYC.fragment_counts.unstranded.bed\n",
      "KS91_K562_hg38_ASTARRseq.GATA1.stranded.counts.txt\n",
      "KS91_K562_hg38_ASTARRseq.GATA1.unstranded.counts.txt\n",
      "KS91_K562_hg38_ASTARRseq_Input_rep1.masked.dups_marked.GATA1.fragment_counts.stranded.bed\n",
      "KS91_K562_hg38_ASTARRseq_Input_rep1.masked.dups_marked.GATA1.fragment_counts.unstranded.bed\n",
      "KS91_K562_hg38_ASTARRseq_Input_rep1.masked.dups_marked.MYC.fragment_counts.stranded.bed\n",
      "KS91_K562_hg38_ASTARRseq_Input_rep1.masked.dups_marked.MYC.fragment_counts.unstranded.bed\n",
      "KS91_K562_hg38_ASTARRseq_Input_rep1.masked.dups_marked.sorted.GATA1.fragment_counts.stranded.bed\n",
      "KS91_K562_hg38_ASTARRseq_Input_rep1.masked.dups_marked.sorted.GATA1.fragment_counts.unstranded.bed\n",
      "KS91_K562_hg38_ASTARRseq_Input_rep1.masked.dups_marked.sorted.MYC.fragment_counts.stranded.bed\n",
      "KS91_K562_hg38_ASTARRseq_Input_rep1.masked.dups_marked.sorted.MYC.fragment_counts.unstranded.bed\n",
      "KS91_K562_hg38_ASTARRseq_Input_rep2.masked.dups_marked.GATA1.fragment_counts.stranded.bed\n",
      "KS91_K562_hg38_ASTARRseq_Input_rep2.masked.dups_marked.GATA1.fragment_counts.unstranded.bed\n",
      "KS91_K562_hg38_ASTARRseq_Input_rep2.masked.dups_marked.MYC.fragment_counts.stranded.bed\n",
      "KS91_K562_hg38_ASTARRseq_Input_rep2.masked.dups_marked.MYC.fragment_counts.unstranded.bed\n",
      "KS91_K562_hg38_ASTARRseq_Input_rep2.masked.dups_marked.sorted.GATA1.fragment_counts.stranded.bed\n",
      "KS91_K562_hg38_ASTARRseq_Input_rep2.masked.dups_marked.sorted.GATA1.fragment_counts.unstranded.bed\n",
      "KS91_K562_hg38_ASTARRseq_Input_rep2.masked.dups_marked.sorted.MYC.fragment_counts.stranded.bed\n",
      "KS91_K562_hg38_ASTARRseq_Input_rep2.masked.dups_marked.sorted.MYC.fragment_counts.unstranded.bed\n",
      "KS91_K562_hg38_ASTARRseq_Input_rep3.masked.dups_marked.GATA1.fragment_counts.stranded.bed\n",
      "KS91_K562_hg38_ASTARRseq_Input_rep3.masked.dups_marked.GATA1.fragment_counts.unstranded.bed\n",
      "KS91_K562_hg38_ASTARRseq_Input_rep3.masked.dups_marked.MYC.fragment_counts.stranded.bed\n",
      "KS91_K562_hg38_ASTARRseq_Input_rep3.masked.dups_marked.MYC.fragment_counts.unstranded.bed\n",
      "KS91_K562_hg38_ASTARRseq_Input_rep3.masked.dups_marked.sorted.GATA1.fragment_counts.stranded.bed\n",
      "KS91_K562_hg38_ASTARRseq_Input_rep3.masked.dups_marked.sorted.GATA1.fragment_counts.unstranded.bed\n",
      "KS91_K562_hg38_ASTARRseq_Input_rep3.masked.dups_marked.sorted.MYC.fragment_counts.stranded.bed\n",
      "KS91_K562_hg38_ASTARRseq_Input_rep3.masked.dups_marked.sorted.MYC.fragment_counts.unstranded.bed\n",
      "KS91_K562_hg38_ASTARRseq_Input_rep4.masked.dups_marked.GATA1.fragment_counts.stranded.bed\n",
      "KS91_K562_hg38_ASTARRseq_Input_rep4.masked.dups_marked.GATA1.fragment_counts.unstranded.bed\n",
      "KS91_K562_hg38_ASTARRseq_Input_rep4.masked.dups_marked.MYC.fragment_counts.stranded.bed\n",
      "KS91_K562_hg38_ASTARRseq_Input_rep4.masked.dups_marked.MYC.fragment_counts.unstranded.bed\n",
      "KS91_K562_hg38_ASTARRseq_Input_rep4.masked.dups_marked.sorted.GATA1.fragment_counts.stranded.bed\n",
      "KS91_K562_hg38_ASTARRseq_Input_rep4.masked.dups_marked.sorted.GATA1.fragment_counts.unstranded.bed\n",
      "KS91_K562_hg38_ASTARRseq_Input_rep4.masked.dups_marked.sorted.MYC.fragment_counts.stranded.bed\n",
      "KS91_K562_hg38_ASTARRseq_Input_rep4.masked.dups_marked.sorted.MYC.fragment_counts.unstranded.bed\n",
      "KS91_K562_hg38_ASTARRseq_Input_rep5.masked.dups_marked.GATA1.fragment_counts.stranded.bed\n",
      "KS91_K562_hg38_ASTARRseq_Input_rep5.masked.dups_marked.GATA1.fragment_counts.unstranded.bed\n",
      "KS91_K562_hg38_ASTARRseq_Input_rep5.masked.dups_marked.MYC.fragment_counts.stranded.bed\n",
      "KS91_K562_hg38_ASTARRseq_Input_rep5.masked.dups_marked.MYC.fragment_counts.unstranded.bed\n",
      "KS91_K562_hg38_ASTARRseq_Input_rep5.masked.dups_marked.sorted.GATA1.fragment_counts.stranded.bed\n",
      "KS91_K562_hg38_ASTARRseq_Input_rep5.masked.dups_marked.sorted.GATA1.fragment_counts.unstranded.bed\n",
      "KS91_K562_hg38_ASTARRseq_Input_rep5.masked.dups_marked.sorted.MYC.fragment_counts.stranded.bed\n",
      "KS91_K562_hg38_ASTARRseq_Input_rep5.masked.dups_marked.sorted.MYC.fragment_counts.unstranded.bed\n",
      "KS91_K562_hg38_ASTARRseq_Input_rep6.masked.dups_marked.GATA1.fragment_counts.stranded.bed\n",
      "KS91_K562_hg38_ASTARRseq_Input_rep6.masked.dups_marked.GATA1.fragment_counts.unstranded.bed\n",
      "KS91_K562_hg38_ASTARRseq_Input_rep6.masked.dups_marked.MYC.fragment_counts.stranded.bed\n",
      "KS91_K562_hg38_ASTARRseq_Input_rep6.masked.dups_marked.MYC.fragment_counts.unstranded.bed\n",
      "KS91_K562_hg38_ASTARRseq_Input_rep6.masked.dups_marked.sorted.GATA1.fragment_counts.stranded.bed\n",
      "KS91_K562_hg38_ASTARRseq_Input_rep6.masked.dups_marked.sorted.GATA1.fragment_counts.unstranded.bed\n",
      "KS91_K562_hg38_ASTARRseq_Input_rep6.masked.dups_marked.sorted.MYC.fragment_counts.stranded.bed\n",
      "KS91_K562_hg38_ASTARRseq_Input_rep6.masked.dups_marked.sorted.MYC.fragment_counts.unstranded.bed\n",
      "KS91_K562_hg38_ASTARRseq.MYC.stranded.counts.txt\n",
      "KS91_K562_hg38_ASTARRseq.MYC.unstranded.counts.txt\n",
      "KS91_K562_hg38_ASTARRseq_Output_rep1.f3q10.sorted.with_umis.dups_marked.GATA1.fragment_counts.stranded.bed\n",
      "KS91_K562_hg38_ASTARRseq_Output_rep1.f3q10.sorted.with_umis.dups_marked.GATA1.fragment_counts.unstranded.bed\n",
      "KS91_K562_hg38_ASTARRseq_Output_rep1.f3q10.sorted.with_umis.dups_marked.MYC.fragment_counts.stranded.bed\n",
      "KS91_K562_hg38_ASTARRseq_Output_rep1.f3q10.sorted.with_umis.dups_marked.MYC.fragment_counts.unstranded.bed\n",
      "KS91_K562_hg38_ASTARRseq_Output_rep2.f3q10.sorted.with_umis.dups_marked.GATA1.fragment_counts.stranded.bed\n",
      "KS91_K562_hg38_ASTARRseq_Output_rep2.f3q10.sorted.with_umis.dups_marked.GATA1.fragment_counts.unstranded.bed\n",
      "KS91_K562_hg38_ASTARRseq_Output_rep2.f3q10.sorted.with_umis.dups_marked.MYC.fragment_counts.stranded.bed\n",
      "KS91_K562_hg38_ASTARRseq_Output_rep2.f3q10.sorted.with_umis.dups_marked.MYC.fragment_counts.unstranded.bed\n",
      "KS91_K562_hg38_ASTARRseq_Output_rep3.f3q10.sorted.with_umis.dups_marked.GATA1.fragment_counts.stranded.bed\n",
      "KS91_K562_hg38_ASTARRseq_Output_rep3.f3q10.sorted.with_umis.dups_marked.GATA1.fragment_counts.unstranded.bed\n",
      "KS91_K562_hg38_ASTARRseq_Output_rep3.f3q10.sorted.with_umis.dups_marked.MYC.fragment_counts.stranded.bed\n",
      "KS91_K562_hg38_ASTARRseq_Output_rep3.f3q10.sorted.with_umis.dups_marked.MYC.fragment_counts.unstranded.bed\n",
      "KS91_K562_hg38_ASTARRseq_Output_rep4.f3q10.sorted.with_umis.dups_marked.GATA1.fragment_counts.stranded.bed\n",
      "KS91_K562_hg38_ASTARRseq_Output_rep4.f3q10.sorted.with_umis.dups_marked.GATA1.fragment_counts.unstranded.bed\n",
      "KS91_K562_hg38_ASTARRseq_Output_rep4.f3q10.sorted.with_umis.dups_marked.MYC.fragment_counts.stranded.bed\n",
      "KS91_K562_hg38_ASTARRseq_Output_rep4.f3q10.sorted.with_umis.dups_marked.MYC.fragment_counts.unstranded.bed\n",
      "KW.K562.starrseq.GATA1.stranded.counts.txt\n",
      "KW.K562.starrseq.GATA1.unstranded.counts.txt\n",
      "KW.K562.starrseq.input.rep1.GATA1.fragment_counts.stranded.bed\n",
      "KW.K562.starrseq.input.rep1.GATA1.fragment_counts.unstranded.bed\n",
      "KW.K562.starrseq.input.rep1.MYC.fragment_counts.stranded.bed\n",
      "KW.K562.starrseq.input.rep1.MYC.fragment_counts.unstranded.bed\n",
      "KW.K562.starrseq.MYC.stranded.counts.txt\n",
      "KW.K562.starrseq.MYC.unstranded.counts.txt\n",
      "KW.K562.starrseq.output.rep1.GATA1.fragment_counts.stranded.bed\n",
      "KW.K562.starrseq.output.rep1.GATA1.fragment_counts.unstranded.bed\n",
      "KW.K562.starrseq.output.rep1.MYC.fragment_counts.stranded.bed\n",
      "KW.K562.starrseq.output.rep1.MYC.fragment_counts.unstranded.bed\n",
      "KW.K562.starrseq.output.rep2.GATA1.fragment_counts.stranded.bed\n",
      "KW.K562.starrseq.output.rep2.GATA1.fragment_counts.unstranded.bed\n",
      "KW.K562.starrseq.output.rep2.MYC.fragment_counts.stranded.bed\n",
      "KW.K562.starrseq.output.rep2.MYC.fragment_counts.unstranded.bed\n"
     ]
    }
   ],
   "source": [
    "ls ${FD_ALEX}/gata1_myc/starrseq/fragments"
   ]
  },
  {
   "cell_type": "code",
   "execution_count": 39,
   "id": "2ad79978-97f4-4d6b-a0e7-049feb2eca9a",
   "metadata": {
    "tags": []
   },
   "outputs": [
    {
     "name": "stdout",
     "output_type": "stream",
     "text": [
      "KS91_K562_hg38_ASTARRseq.FADS.stranded.counts.txt\n",
      "KS91_K562_hg38_ASTARRseq.FADS.unstranded.counts.txt\n",
      "KS91_K562_hg38_ASTARRseq_Input_rep1.masked.dups_marked.sorted.FADS.fragment_counts.stranded.bed\n",
      "KS91_K562_hg38_ASTARRseq_Input_rep1.masked.dups_marked.sorted.FADS.fragment_counts.unstranded.bed\n",
      "KS91_K562_hg38_ASTARRseq_Input_rep2.masked.dups_marked.sorted.FADS.fragment_counts.stranded.bed\n",
      "KS91_K562_hg38_ASTARRseq_Input_rep2.masked.dups_marked.sorted.FADS.fragment_counts.unstranded.bed\n",
      "KS91_K562_hg38_ASTARRseq_Input_rep3.masked.dups_marked.sorted.FADS.fragment_counts.stranded.bed\n",
      "KS91_K562_hg38_ASTARRseq_Input_rep3.masked.dups_marked.sorted.FADS.fragment_counts.unstranded.bed\n",
      "KS91_K562_hg38_ASTARRseq_Input_rep4.masked.dups_marked.sorted.FADS.fragment_counts.stranded.bed\n",
      "KS91_K562_hg38_ASTARRseq_Input_rep4.masked.dups_marked.sorted.FADS.fragment_counts.unstranded.bed\n",
      "KS91_K562_hg38_ASTARRseq_Input_rep5.masked.dups_marked.sorted.FADS.fragment_counts.stranded.bed\n",
      "KS91_K562_hg38_ASTARRseq_Input_rep5.masked.dups_marked.sorted.FADS.fragment_counts.unstranded.bed\n",
      "KS91_K562_hg38_ASTARRseq_Input_rep6.masked.dups_marked.sorted.FADS.fragment_counts.stranded.bed\n",
      "KS91_K562_hg38_ASTARRseq_Input_rep6.masked.dups_marked.sorted.FADS.fragment_counts.unstranded.bed\n",
      "KS91_K562_hg38_ASTARRseq_Output_rep1.f3q10.sorted.with_umis.dups_marked.FADS.fragment_counts.stranded.bed\n",
      "KS91_K562_hg38_ASTARRseq_Output_rep1.f3q10.sorted.with_umis.dups_marked.FADS.fragment_counts.unstranded.bed\n",
      "KS91_K562_hg38_ASTARRseq_Output_rep2.f3q10.sorted.with_umis.dups_marked.FADS.fragment_counts.stranded.bed\n",
      "KS91_K562_hg38_ASTARRseq_Output_rep2.f3q10.sorted.with_umis.dups_marked.FADS.fragment_counts.unstranded.bed\n",
      "KS91_K562_hg38_ASTARRseq_Output_rep3.f3q10.sorted.with_umis.dups_marked.FADS.fragment_counts.stranded.bed\n",
      "KS91_K562_hg38_ASTARRseq_Output_rep3.f3q10.sorted.with_umis.dups_marked.FADS.fragment_counts.unstranded.bed\n",
      "KS91_K562_hg38_ASTARRseq_Output_rep4.f3q10.sorted.with_umis.dups_marked.FADS.fragment_counts.stranded.bed\n",
      "KS91_K562_hg38_ASTARRseq_Output_rep4.f3q10.sorted.with_umis.dups_marked.FADS.fragment_counts.unstranded.bed\n"
     ]
    }
   ],
   "source": [
    "ls ${FD_ALEX}/fads/starrseq/fragments"
   ]
  },
  {
   "cell_type": "markdown",
   "id": "3c4fb28c-50d4-4d09-b60e-23f1a9feb91f",
   "metadata": {},
   "source": [
    "## Data of Kari's Whole-Genome STARR-seq fragments"
   ]
  },
  {
   "cell_type": "code",
   "execution_count": 30,
   "id": "0ef726ef-6d52-48f9-ab85-91157ce94e5b",
   "metadata": {},
   "outputs": [
    {
     "name": "stdout",
     "output_type": "stream",
     "text": [
      "A001.K562.starrseq.GATA1.stranded.counts.txt\n",
      "A001.K562.starrseq.GATA1.unstranded.counts.txt\n",
      "A001.K562.starrseq.input.rep1.GATA1.fragment_counts.stranded.bed\n",
      "A001.K562.starrseq.input.rep1.GATA1.fragment_counts.unstranded.bed\n",
      "A001.K562.starrseq.input.rep1.MYC.fragment_counts.stranded.bed\n",
      "A001.K562.starrseq.input.rep1.MYC.fragment_counts.unstranded.bed\n",
      "A001.K562.starrseq.input.rep2.GATA1.fragment_counts.stranded.bed\n",
      "A001.K562.starrseq.input.rep2.GATA1.fragment_counts.unstranded.bed\n",
      "A001.K562.starrseq.input.rep2.MYC.fragment_counts.stranded.bed\n",
      "A001.K562.starrseq.input.rep2.MYC.fragment_counts.unstranded.bed\n",
      "A001.K562.starrseq.input.rep3.GATA1.fragment_counts.stranded.bed\n",
      "A001.K562.starrseq.input.rep3.GATA1.fragment_counts.unstranded.bed\n",
      "A001.K562.starrseq.input.rep3.MYC.fragment_counts.stranded.bed\n",
      "A001.K562.starrseq.input.rep3.MYC.fragment_counts.unstranded.bed\n",
      "A001.K562.starrseq.input.rep4.GATA1.fragment_counts.stranded.bed\n",
      "A001.K562.starrseq.input.rep4.GATA1.fragment_counts.unstranded.bed\n",
      "A001.K562.starrseq.input.rep4.MYC.fragment_counts.stranded.bed\n",
      "A001.K562.starrseq.input.rep4.MYC.fragment_counts.unstranded.bed\n",
      "A001.K562.starrseq.MYC.stranded.counts.txt\n",
      "A001.K562.starrseq.MYC.unstranded.counts.txt\n",
      "A001.K562.starrseq.output.rep1.GATA1.fragment_counts.stranded.bed\n",
      "A001.K562.starrseq.output.rep1.GATA1.fragment_counts.unstranded.bed\n",
      "A001.K562.starrseq.output.rep1.MYC.fragment_counts.stranded.bed\n",
      "A001.K562.starrseq.output.rep1.MYC.fragment_counts.unstranded.bed\n",
      "A001.K562.starrseq.output.rep2.GATA1.fragment_counts.stranded.bed\n",
      "A001.K562.starrseq.output.rep2.GATA1.fragment_counts.unstranded.bed\n",
      "A001.K562.starrseq.output.rep2.MYC.fragment_counts.stranded.bed\n",
      "A001.K562.starrseq.output.rep2.MYC.fragment_counts.unstranded.bed\n",
      "A001.K562.starrseq.output.rep3.GATA1.fragment_counts.stranded.bed\n",
      "A001.K562.starrseq.output.rep3.GATA1.fragment_counts.unstranded.bed\n",
      "A001.K562.starrseq.output.rep3.MYC.fragment_counts.stranded.bed\n",
      "A001.K562.starrseq.output.rep3.MYC.fragment_counts.unstranded.bed\n"
     ]
    }
   ],
   "source": [
    "FD_ALEX=${FD_RLAB}/Alex/encode4_duke/ipynbs/jamborees/20211025_MPRA_STARR_Jamboree/data/gata1_myc/starrseq/fragments\n",
    "ls ${FD_ALEX}/A001.K562* | xargs -n1 basename"
   ]
  },
  {
   "cell_type": "markdown",
   "id": "821f2b14-0a41-4989-bae7-106790da0d3b",
   "metadata": {},
   "source": [
    "**Check data generated time**"
   ]
  },
  {
   "cell_type": "code",
   "execution_count": 31,
   "id": "306a10f8-1042-4029-b7db-79018255ac28",
   "metadata": {},
   "outputs": [
    {
     "name": "stdout",
     "output_type": "stream",
     "text": [
      "2021-11-02 17:57:38.037958252 -0400 ‘/gpfs/fs1/data/reddylab/Alex/encode4_duke/ipynbs/jamborees/20211025_MPRA_STARR_Jamboree/data/gata1_myc/starrseq/fragments/A001.K562.starrseq.GATA1.stranded.counts.txt’\n",
      "2021-11-02 17:57:30.966008503 -0400 ‘/gpfs/fs1/data/reddylab/Alex/encode4_duke/ipynbs/jamborees/20211025_MPRA_STARR_Jamboree/data/gata1_myc/starrseq/fragments/A001.K562.starrseq.GATA1.unstranded.counts.txt’\n",
      "2021-11-02 13:28:03.924386868 -0400 ‘/gpfs/fs1/data/reddylab/Alex/encode4_duke/ipynbs/jamborees/20211025_MPRA_STARR_Jamboree/data/gata1_myc/starrseq/fragments/A001.K562.starrseq.input.rep1.GATA1.fragment_counts.stranded.bed’\n",
      "2021-11-02 15:43:58.030062455 -0400 ‘/gpfs/fs1/data/reddylab/Alex/encode4_duke/ipynbs/jamborees/20211025_MPRA_STARR_Jamboree/data/gata1_myc/starrseq/fragments/A001.K562.starrseq.input.rep1.GATA1.fragment_counts.unstranded.bed’\n",
      "2021-11-02 13:28:04.915287170 -0400 ‘/gpfs/fs1/data/reddylab/Alex/encode4_duke/ipynbs/jamborees/20211025_MPRA_STARR_Jamboree/data/gata1_myc/starrseq/fragments/A001.K562.starrseq.input.rep1.MYC.fragment_counts.stranded.bed’\n",
      "2021-11-02 15:43:58.247120025 -0400 ‘/gpfs/fs1/data/reddylab/Alex/encode4_duke/ipynbs/jamborees/20211025_MPRA_STARR_Jamboree/data/gata1_myc/starrseq/fragments/A001.K562.starrseq.input.rep1.MYC.fragment_counts.unstranded.bed’\n",
      "2021-11-02 13:28:08.241586463 -0400 ‘/gpfs/fs1/data/reddylab/Alex/encode4_duke/ipynbs/jamborees/20211025_MPRA_STARR_Jamboree/data/gata1_myc/starrseq/fragments/A001.K562.starrseq.input.rep2.GATA1.fragment_counts.stranded.bed’\n",
      "2021-11-02 15:43:58.908411616 -0400 ‘/gpfs/fs1/data/reddylab/Alex/encode4_duke/ipynbs/jamborees/20211025_MPRA_STARR_Jamboree/data/gata1_myc/starrseq/fragments/A001.K562.starrseq.input.rep2.GATA1.fragment_counts.unstranded.bed’\n",
      "2021-11-02 13:28:12.311982310 -0400 ‘/gpfs/fs1/data/reddylab/Alex/encode4_duke/ipynbs/jamborees/20211025_MPRA_STARR_Jamboree/data/gata1_myc/starrseq/fragments/A001.K562.starrseq.input.rep2.MYC.fragment_counts.stranded.bed’\n",
      "2021-11-02 15:43:59.782314120 -0400 ‘/gpfs/fs1/data/reddylab/Alex/encode4_duke/ipynbs/jamborees/20211025_MPRA_STARR_Jamboree/data/gata1_myc/starrseq/fragments/A001.K562.starrseq.input.rep2.MYC.fragment_counts.unstranded.bed’\n",
      "2021-11-02 13:28:15.850536292 -0400 ‘/gpfs/fs1/data/reddylab/Alex/encode4_duke/ipynbs/jamborees/20211025_MPRA_STARR_Jamboree/data/gata1_myc/starrseq/fragments/A001.K562.starrseq.input.rep3.GATA1.fragment_counts.stranded.bed’\n",
      "2021-11-02 15:44:00.498722547 -0400 ‘/gpfs/fs1/data/reddylab/Alex/encode4_duke/ipynbs/jamborees/20211025_MPRA_STARR_Jamboree/data/gata1_myc/starrseq/fragments/A001.K562.starrseq.input.rep3.GATA1.fragment_counts.unstranded.bed’\n",
      "2021-11-02 13:28:20.146957692 -0400 ‘/gpfs/fs1/data/reddylab/Alex/encode4_duke/ipynbs/jamborees/20211025_MPRA_STARR_Jamboree/data/gata1_myc/starrseq/fragments/A001.K562.starrseq.input.rep3.MYC.fragment_counts.stranded.bed’\n",
      "2021-11-02 15:44:01.417252817 -0400 ‘/gpfs/fs1/data/reddylab/Alex/encode4_duke/ipynbs/jamborees/20211025_MPRA_STARR_Jamboree/data/gata1_myc/starrseq/fragments/A001.K562.starrseq.input.rep3.MYC.fragment_counts.unstranded.bed’\n",
      "2021-11-02 13:28:23.798203047 -0400 ‘/gpfs/fs1/data/reddylab/Alex/encode4_duke/ipynbs/jamborees/20211025_MPRA_STARR_Jamboree/data/gata1_myc/starrseq/fragments/A001.K562.starrseq.input.rep4.GATA1.fragment_counts.stranded.bed’\n",
      "2021-11-02 15:44:02.181990303 -0400 ‘/gpfs/fs1/data/reddylab/Alex/encode4_duke/ipynbs/jamborees/20211025_MPRA_STARR_Jamboree/data/gata1_myc/starrseq/fragments/A001.K562.starrseq.input.rep4.GATA1.fragment_counts.unstranded.bed’\n",
      "2021-11-02 13:28:28.220647573 -0400 ‘/gpfs/fs1/data/reddylab/Alex/encode4_duke/ipynbs/jamborees/20211025_MPRA_STARR_Jamboree/data/gata1_myc/starrseq/fragments/A001.K562.starrseq.input.rep4.MYC.fragment_counts.stranded.bed’\n",
      "2021-11-02 15:44:03.142302953 -0400 ‘/gpfs/fs1/data/reddylab/Alex/encode4_duke/ipynbs/jamborees/20211025_MPRA_STARR_Jamboree/data/gata1_myc/starrseq/fragments/A001.K562.starrseq.input.rep4.MYC.fragment_counts.unstranded.bed’\n",
      "2021-11-02 17:57:22.437496607 -0400 ‘/gpfs/fs1/data/reddylab/Alex/encode4_duke/ipynbs/jamborees/20211025_MPRA_STARR_Jamboree/data/gata1_myc/starrseq/fragments/A001.K562.starrseq.MYC.stranded.counts.txt’\n",
      "2021-11-02 17:57:13.421491731 -0400 ‘/gpfs/fs1/data/reddylab/Alex/encode4_duke/ipynbs/jamborees/20211025_MPRA_STARR_Jamboree/data/gata1_myc/starrseq/fragments/A001.K562.starrseq.MYC.unstranded.counts.txt’\n",
      "2021-11-02 13:28:41.808372986 -0400 ‘/gpfs/fs1/data/reddylab/Alex/encode4_duke/ipynbs/jamborees/20211025_MPRA_STARR_Jamboree/data/gata1_myc/starrseq/fragments/A001.K562.starrseq.output.rep1.GATA1.fragment_counts.stranded.bed’\n",
      "2021-11-02 15:44:05.407610459 -0400 ‘/gpfs/fs1/data/reddylab/Alex/encode4_duke/ipynbs/jamborees/20211025_MPRA_STARR_Jamboree/data/gata1_myc/starrseq/fragments/A001.K562.starrseq.output.rep1.GATA1.fragment_counts.unstranded.bed’\n",
      "2021-11-02 13:28:58.456719986 -0400 ‘/gpfs/fs1/data/reddylab/Alex/encode4_duke/ipynbs/jamborees/20211025_MPRA_STARR_Jamboree/data/gata1_myc/starrseq/fragments/A001.K562.starrseq.output.rep1.MYC.fragment_counts.stranded.bed’\n",
      "2021-11-02 15:44:08.222028470 -0400 ‘/gpfs/fs1/data/reddylab/Alex/encode4_duke/ipynbs/jamborees/20211025_MPRA_STARR_Jamboree/data/gata1_myc/starrseq/fragments/A001.K562.starrseq.output.rep1.MYC.fragment_counts.unstranded.bed’\n",
      "2021-11-02 13:29:04.566740627 -0400 ‘/gpfs/fs1/data/reddylab/Alex/encode4_duke/ipynbs/jamborees/20211025_MPRA_STARR_Jamboree/data/gata1_myc/starrseq/fragments/A001.K562.starrseq.output.rep2.GATA1.fragment_counts.stranded.bed’\n",
      "2021-11-02 15:44:09.366066150 -0400 ‘/gpfs/fs1/data/reddylab/Alex/encode4_duke/ipynbs/jamborees/20211025_MPRA_STARR_Jamboree/data/gata1_myc/starrseq/fragments/A001.K562.starrseq.output.rep2.GATA1.fragment_counts.unstranded.bed’\n",
      "2021-11-02 13:29:11.529550558 -0400 ‘/gpfs/fs1/data/reddylab/Alex/encode4_duke/ipynbs/jamborees/20211025_MPRA_STARR_Jamboree/data/gata1_myc/starrseq/fragments/A001.K562.starrseq.output.rep2.MYC.fragment_counts.stranded.bed’\n",
      "2021-11-02 15:44:10.771404791 -0400 ‘/gpfs/fs1/data/reddylab/Alex/encode4_duke/ipynbs/jamborees/20211025_MPRA_STARR_Jamboree/data/gata1_myc/starrseq/fragments/A001.K562.starrseq.output.rep2.MYC.fragment_counts.unstranded.bed’\n",
      "2021-11-02 13:29:17.575360923 -0400 ‘/gpfs/fs1/data/reddylab/Alex/encode4_duke/ipynbs/jamborees/20211025_MPRA_STARR_Jamboree/data/gata1_myc/starrseq/fragments/A001.K562.starrseq.output.rep3.GATA1.fragment_counts.stranded.bed’\n",
      "2021-11-02 15:44:11.922383953 -0400 ‘/gpfs/fs1/data/reddylab/Alex/encode4_duke/ipynbs/jamborees/20211025_MPRA_STARR_Jamboree/data/gata1_myc/starrseq/fragments/A001.K562.starrseq.output.rep3.GATA1.fragment_counts.unstranded.bed’\n",
      "2021-11-02 13:29:24.578366105 -0400 ‘/gpfs/fs1/data/reddylab/Alex/encode4_duke/ipynbs/jamborees/20211025_MPRA_STARR_Jamboree/data/gata1_myc/starrseq/fragments/A001.K562.starrseq.output.rep3.MYC.fragment_counts.stranded.bed’\n",
      "2021-11-02 15:44:13.371341627 -0400 ‘/gpfs/fs1/data/reddylab/Alex/encode4_duke/ipynbs/jamborees/20211025_MPRA_STARR_Jamboree/data/gata1_myc/starrseq/fragments/A001.K562.starrseq.output.rep3.MYC.fragment_counts.unstranded.bed’\n"
     ]
    }
   ],
   "source": [
    "FD_ALEX=${FD_RLAB}/Alex/encode4_duke/ipynbs/jamborees/20211025_MPRA_STARR_Jamboree/data/gata1_myc/starrseq/fragments\n",
    "stat -c \"%y %N\" ${FD_ALEX}/A001.K562*"
   ]
  },
  {
   "cell_type": "markdown",
   "id": "bef0a85a-cdbe-49f4-ba1b-c2539a4b5adf",
   "metadata": {},
   "source": [
    "## Copy Data"
   ]
  },
  {
   "cell_type": "code",
   "execution_count": 43,
   "id": "dc62c35f-4040-4a75-a692-22323e32ab34",
   "metadata": {},
   "outputs": [],
   "source": [
    "mkdir -p ${FD_RES}/source/A001_K562_wstarrseq_fragments\n",
    "\n",
    "FD_ALEX=${FD_RLAB}/Alex/encode4_duke/ipynbs/jamborees/20211025_MPRA_STARR_Jamboree/data/\n",
    "cp ${FD_ALEX}/gata1_myc/starrseq/fragments/A001.K562* ${FD_RES}/source/A001_K562_wstarrseq_fragments"
   ]
  },
  {
   "cell_type": "code",
   "execution_count": 44,
   "id": "3e2d23ff-e22f-4bee-9046-0a8fefcc4cf1",
   "metadata": {},
   "outputs": [
    {
     "name": "stdout",
     "output_type": "stream",
     "text": [
      "A001.K562.starrseq.GATA1.stranded.counts.txt\n",
      "A001.K562.starrseq.GATA1.unstranded.counts.txt\n",
      "A001.K562.starrseq.input.rep1.GATA1.fragment_counts.stranded.bed\n",
      "A001.K562.starrseq.input.rep1.GATA1.fragment_counts.unstranded.bed\n",
      "A001.K562.starrseq.input.rep1.MYC.fragment_counts.stranded.bed\n",
      "A001.K562.starrseq.input.rep1.MYC.fragment_counts.unstranded.bed\n",
      "A001.K562.starrseq.input.rep2.GATA1.fragment_counts.stranded.bed\n",
      "A001.K562.starrseq.input.rep2.GATA1.fragment_counts.unstranded.bed\n",
      "A001.K562.starrseq.input.rep2.MYC.fragment_counts.stranded.bed\n",
      "A001.K562.starrseq.input.rep2.MYC.fragment_counts.unstranded.bed\n",
      "A001.K562.starrseq.input.rep3.GATA1.fragment_counts.stranded.bed\n",
      "A001.K562.starrseq.input.rep3.GATA1.fragment_counts.unstranded.bed\n",
      "A001.K562.starrseq.input.rep3.MYC.fragment_counts.stranded.bed\n",
      "A001.K562.starrseq.input.rep3.MYC.fragment_counts.unstranded.bed\n",
      "A001.K562.starrseq.input.rep4.GATA1.fragment_counts.stranded.bed\n",
      "A001.K562.starrseq.input.rep4.GATA1.fragment_counts.unstranded.bed\n",
      "A001.K562.starrseq.input.rep4.MYC.fragment_counts.stranded.bed\n",
      "A001.K562.starrseq.input.rep4.MYC.fragment_counts.unstranded.bed\n",
      "A001.K562.starrseq.MYC.stranded.counts.txt\n",
      "A001.K562.starrseq.MYC.unstranded.counts.txt\n",
      "A001.K562.starrseq.output.rep1.GATA1.fragment_counts.stranded.bed\n",
      "A001.K562.starrseq.output.rep1.GATA1.fragment_counts.unstranded.bed\n",
      "A001.K562.starrseq.output.rep1.MYC.fragment_counts.stranded.bed\n",
      "A001.K562.starrseq.output.rep1.MYC.fragment_counts.unstranded.bed\n",
      "A001.K562.starrseq.output.rep2.GATA1.fragment_counts.stranded.bed\n",
      "A001.K562.starrseq.output.rep2.GATA1.fragment_counts.unstranded.bed\n",
      "A001.K562.starrseq.output.rep2.MYC.fragment_counts.stranded.bed\n",
      "A001.K562.starrseq.output.rep2.MYC.fragment_counts.unstranded.bed\n",
      "A001.K562.starrseq.output.rep3.GATA1.fragment_counts.stranded.bed\n",
      "A001.K562.starrseq.output.rep3.GATA1.fragment_counts.unstranded.bed\n",
      "A001.K562.starrseq.output.rep3.MYC.fragment_counts.stranded.bed\n",
      "A001.K562.starrseq.output.rep3.MYC.fragment_counts.unstranded.bed\n"
     ]
    }
   ],
   "source": [
    "ls ${FD_RES}/source/A001_K562_wstarrseq_fragments"
   ]
  }
 ],
 "metadata": {
  "kernelspec": {
   "display_name": "Bash",
   "language": "bash",
   "name": "bash"
  },
  "language_info": {
   "codemirror_mode": "shell",
   "file_extension": ".sh",
   "mimetype": "text/x-sh",
   "name": "bash"
  }
 },
 "nbformat": 4,
 "nbformat_minor": 5
}
