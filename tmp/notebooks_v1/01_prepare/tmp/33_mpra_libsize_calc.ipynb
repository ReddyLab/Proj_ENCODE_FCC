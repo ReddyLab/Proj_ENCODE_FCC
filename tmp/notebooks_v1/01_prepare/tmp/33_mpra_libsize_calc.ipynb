{
 "cells": [
  {
   "cell_type": "markdown",
   "id": "0a9c8859-d040-4d0b-81dc-97d94722a918",
   "metadata": {},
   "source": [
    "**Set environment**"
   ]
  },
  {
   "cell_type": "code",
   "execution_count": 1,
   "id": "e0265eb1-9119-47d7-9f24-329c04bcbf39",
   "metadata": {},
   "outputs": [
    {
     "name": "stdout",
     "output_type": "stream",
     "text": [
      "You are on Duke Server: HARDAC\n",
      "BASE DIRECTORY:     /gpfs/fs1/data/reddylab/Kuei\n",
      "PATH OF SOURCE:     /gpfs/fs1/data/reddylab/Kuei/source\n",
      "PATH OF EXECUTABLE: /gpfs/fs1/data/reddylab/Kuei/exe\n",
      "PATH OF ANNOTATION: /gpfs/fs1/data/reddylab/Kuei/annotation\n",
      "PATH OF PROJECT:    /gpfs/fs1/data/reddylab/Kuei/GitRepo/Proj_ENCODE_FCC/notebooks\n",
      "PATH OF RESULTS:    /gpfs/fs1/data/reddylab/Kuei/out/proj_encode_fcc\n",
      "\n"
     ]
    }
   ],
   "source": [
    "source ../config_duke.sh -v"
   ]
  },
  {
   "cell_type": "code",
   "execution_count": 2,
   "id": "d4f0cb6b-553a-4dd8-94aa-abc16fb1e4f3",
   "metadata": {},
   "outputs": [
    {
     "name": "stdout",
     "output_type": "stream",
     "text": [
      "\u001b[0m\u001b[38;5;27mKS91_K562_ASTARRseq\u001b[0m  \u001b[38;5;27mlog\u001b[0m  \u001b[38;5;27msource\u001b[0m  \u001b[38;5;27mTewhey_K562_TileMPRA\u001b[0m\n"
     ]
    }
   ],
   "source": [
    "ls ${FD_RES}"
   ]
  },
  {
   "cell_type": "code",
   "execution_count": 3,
   "id": "88b1522e-5759-4147-aa4a-523762ebb4a3",
   "metadata": {},
   "outputs": [
    {
     "name": "stdout",
     "output_type": "stream",
     "text": [
      "Tile_K562_20210130.GATA1.unstranded.bed\n"
     ]
    }
   ],
   "source": [
    "ls ${FD_RES}/Tewhey_K562_TileMPRA/fragment"
   ]
  },
  {
   "cell_type": "code",
   "execution_count": 4,
   "id": "3d2de5e4-242d-4b85-8342-8d8d2e19eed6",
   "metadata": {},
   "outputs": [],
   "source": [
    "wc -l ${FD_RES}/Tewhey_K562_TileMPRA/fragment/*.bed |\\\n",
    "    sed 's/^ *//g' |\\\n",
    "    sed 's/[ ]+/[ ]/g' |\\\n",
    "    sed 's/[ ]/\\t/g' > ${FD_RES}/Tewhey_K562_TileMPRA/fragment/library_size.txt"
   ]
  },
  {
   "cell_type": "code",
   "execution_count": 5,
   "id": "b56e9d0b-0257-4655-b1f1-e054a9e9ad48",
   "metadata": {},
   "outputs": [
    {
     "name": "stdout",
     "output_type": "stream",
     "text": [
      "52312\t/gpfs/fs1/data/reddylab/Kuei/out/proj_encode_fcc/Tewhey_K562_TileMPRA/fragment/Tile_K562_20210130.GATA1.unstranded.bed\n"
     ]
    }
   ],
   "source": [
    "cat ${FD_RES}/Tewhey_K562_TileMPRA/fragment/library_size.txt"
   ]
  },
  {
   "cell_type": "code",
   "execution_count": null,
   "id": "3b81de80-bab9-47e5-bee0-c65fe4327a1e",
   "metadata": {},
   "outputs": [],
   "source": []
  }
 ],
 "metadata": {
  "kernelspec": {
   "display_name": "Bash",
   "language": "bash",
   "name": "bash"
  },
  "language_info": {
   "codemirror_mode": "shell",
   "file_extension": ".sh",
   "mimetype": "text/x-sh",
   "name": "bash"
  }
 },
 "nbformat": 4,
 "nbformat_minor": 5
}
