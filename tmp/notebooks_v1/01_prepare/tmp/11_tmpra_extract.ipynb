{
 "cells": [
  {
   "cell_type": "markdown",
   "id": "410a5b13-3cf0-4f0a-b0e3-0eb6864e6c75",
   "metadata": {},
   "source": [
    "**Set environment**"
   ]
  },
  {
   "cell_type": "code",
   "execution_count": 1,
   "id": "5277f352-12e5-4d95-bc96-f05e7e27946b",
   "metadata": {},
   "outputs": [
    {
     "name": "stdout",
     "output_type": "stream",
     "text": [
      "You are on Duke Server: HARDAC\n",
      "BASE DIRECTORY:     /gpfs/fs1/data/reddylab/Kuei\n",
      "PATH OF SOURCE:     /gpfs/fs1/data/reddylab/Kuei/source\n",
      "PATH OF EXECUTABLE: /gpfs/fs1/data/reddylab/Kuei/exe\n",
      "PATH OF ANNOTATION: /gpfs/fs1/data/reddylab/Kuei/annotation\n",
      "PATH OF PROJECT:    /gpfs/fs1/data/reddylab/Kuei/GitRepo/Proj_CombEffect_ENCODE_FCC/notebooks\n",
      "PATH OF RESULTS:    /gpfs/fs1/data/reddylab/Kuei/out/proj_combeffect_encode_fcc\n",
      "\n"
     ]
    }
   ],
   "source": [
    "source ../config_duke.sh; show_env"
   ]
  },
  {
   "cell_type": "markdown",
   "id": "0800ef7a-6de0-491b-a7a1-aee9a00923e7",
   "metadata": {},
   "source": [
    "## View Tiling MPRA data"
   ]
  },
  {
   "cell_type": "code",
   "execution_count": 2,
   "id": "baa1f12d-61dc-4118-8fcf-f754ce1760c5",
   "metadata": {},
   "outputs": [
    {
     "name": "stdout",
     "output_type": "stream",
     "text": [
      "chr\tstart\tstop\tid\tscore\tstrand\tlog2fc\tinput-count\toutput-count\tlog10pval\tlog10fdr\tlfc-se\n",
      "1\tNA\tNA\t1:10437778:C:T:R:wC\t.\t+\t2.38642090193675\t883.092934703281\t4616.08256005733\t106.737138191871\t105.572680362196\t0.108372623188431\n",
      "1\tNA\tNA\t1:10451799:C:T:R:wC\t.\t+\t0.163269738241717\t404.448967317715\t452.617975315935\t0.695386164226944\t0.506974721975921\t0.127869739155127\n"
     ]
    }
   ],
   "source": [
    "FDIRY=${FD_RES}/source/syn26435687\n",
    "FNAME=GATA-MYC_Tile_K562_K562_20210130.hg38.bed\n",
    "head -3 ${FDIRY}/${FNAME}"
   ]
  },
  {
   "cell_type": "markdown",
   "id": "c339d8c1-7977-4b24-bdbf-edc4d156e7a2",
   "metadata": {},
   "source": [
    "**Region: GATA1**"
   ]
  },
  {
   "cell_type": "code",
   "execution_count": 3,
   "id": "c1eda86b-e07e-4e84-a4c7-eab0d3aa7ec6",
   "metadata": {},
   "outputs": [
    {
     "name": "stdout",
     "output_type": "stream",
     "text": [
      "chrX\t47786401\t47786600\tX:47786401-47786600\t.\t+\t2.30593934460149\t2117.78684083014\t10474.868702612\t112.11265261617\t110.931130790033\t0.102147903305184\n",
      "chrX\t47786451\t47786650\tX:47786451-47786650\t.\t+\t0.783056057422144\t1386.00739237509\t2387.11896574661\t11.3173883956403\t10.6425168461249\t0.113307047070907\n",
      "chrX\t47786501\t47786700\tX:47786501-47786700\t.\t+\t-0.128731962724311\t1955.62553108109\t1788.23614005802\t0.845069660219201\t0.628722618349189\t0.0878596785422427\n",
      "chrX\t47786551\t47786750\tX:47786551-47786750\t.\t+\t0.588295148181817\t2388.99664261419\t3591.26381774846\t11.2404554080035\t10.5666788666818\t0.0854366059937647\n",
      "chrX\t47786601\t47786800\tX:47786601-47786800\t.\t+\t0.0667001449192146\t2102.91633517956\t2202.38454860936\t0.309589962802377\t0.21047015199996\t0.096677408925751\n"
     ]
    }
   ],
   "source": [
    "FDIRY=${FD_RES}/source/syn26435687\n",
    "FNAME=GATA-MYC_Tile_K562_K562_20210130.hg38.cleaned.GATA1.bed\n",
    "head -5 ${FDIRY}/${FNAME}"
   ]
  },
  {
   "cell_type": "markdown",
   "id": "d70e2386-9b40-4f61-aafb-ab30c49ff9dc",
   "metadata": {},
   "source": [
    "**Region: MYC**"
   ]
  },
  {
   "cell_type": "code",
   "execution_count": 4,
   "id": "d151f760-cca5-4999-8625-682b3139ffc2",
   "metadata": {},
   "outputs": [
    {
     "name": "stdout",
     "output_type": "stream",
     "text": [
      "chr8\t126735901\t126736100\t8:126735901-126736100\t.\t+\t3.2160073089731\t889.870007626957\t8270.0812492101\t284.968919800667\t283.460926583012\t0.0890350708144434\n",
      "chr8\t126735951\t126736150\t8:126735951-126736150\t.\t+\t2.7418446306345\t125.834560461689\t840.938846837603\t113.688833083897\t112.501493383409\t0.12060330887403\n",
      "chr8\t126736001\t126736200\t8:126736001-126736200\t.\t+\t2.97274231280755\t510.315518509142\t4005.35667727079\t184.577200225273\t183.231899086814\t0.102397694468983\n",
      "chr8\t126736051\t126736250\t8:126736051-126736250\t.\t+\t0.518237538807382\t702.549323072363\t1005.35942223587\t5.59034059223642\t5.03343239300409\t0.110201760903996\n",
      "chr8\t126736101\t126736300\t8:126736101-126736300\t.\t+\t0.854181054733534\t551.083056684629\t995.469820297553\t14.4458053269591\t13.7295762580818\t0.108553853362847\n"
     ]
    }
   ],
   "source": [
    "FDIRY=${FD_RES}/source/syn26435687\n",
    "FNAME=GATA-MYC_Tile_K562_K562_20210130.hg38.cleaned.MYC.bed\n",
    "head -5 ${FDIRY}/${FNAME}"
   ]
  },
  {
   "cell_type": "markdown",
   "id": "c4cd3757-3e6a-4de3-950c-854869442854",
   "metadata": {},
   "source": [
    "**Region: FADS**"
   ]
  },
  {
   "cell_type": "code",
   "execution_count": 5,
   "id": "173b553e-0f7e-4edd-add5-e6a29ef86234",
   "metadata": {},
   "outputs": [
    {
     "name": "stdout",
     "output_type": "stream",
     "text": [
      "chr\tstart\tstop\tid\tscore\tstrand\tlog2fc\tinput-count\toutput-count\tlog10pval\tlog10fdr\tlfc-se\tcigar\tmd-tag\tproject\n",
      "11\t61554801\t61555000\t11:61554801-61555000\t.\t+\t-0.85763898433268\t539.06986501396\t297.715189120701\t0.931483643269041\t0.434220074327503\t0.547274403273541\t200=\t200\tTiles\n",
      "11\t61554801\t61555000\t11:61554801-61555000_RC\t.\t-\t-0.881673566105872\t325.844662728475\t176.742458595972\t0.662985926208364\t0.246985056545332\t0.714599633819389\t200=\t200\tTiles\n",
      "11\t61554806\t61555005\t11:61554806-61555005\t.\t+\t-0.779124828017293\t609.292251213609\t355.039015219307\t0.863277358508061\t0.383434414853537\t0.52393863052786\t200=\t200\tTiles\n",
      "11\t61554806\t61555005\t11:61554806-61555005_RC\t.\t-\t-0.831905443335537\t336.926589204788\t189.098087771129\t0.278503265787216\t0.0672740754748282\t1.31386301202738\t200=\t200\tTiles\n"
     ]
    }
   ],
   "source": [
    "FDIRY=${FD_RES}/source/syn22348180\n",
    "FNAME=FADS_Tile_K562_K562_20200905.bed\n",
    "head -5 ${FDIRY}/${FNAME}"
   ]
  },
  {
   "cell_type": "markdown",
   "id": "a311c17a-fd21-444e-981b-6dc02c8913a6",
   "metadata": {},
   "source": [
    "## Extract fragment"
   ]
  },
  {
   "cell_type": "code",
   "execution_count": 16,
   "id": "8a4454b6-e2bb-42e6-b683-4df8e39ed1c9",
   "metadata": {},
   "outputs": [
    {
     "name": "stdout",
     "output_type": "stream",
     "text": [
      "chrX\t47786401\t47786600\tX:47786401-47786600\t.\t+\n",
      "chrX\t47786451\t47786650\tX:47786451-47786650\t.\t+\n",
      "chrX\t47786501\t47786700\tX:47786501-47786700\t.\t+\n",
      "chrX\t47786551\t47786750\tX:47786551-47786750\t.\t+\n",
      "chrX\t47786601\t47786800\tX:47786601-47786800\t.\t+\n",
      "chrX\t47786651\t47786850\tX:47786651-47786850\t.\t+\n",
      "chrX\t47786701\t47786900\tX:47786701-47786900\t.\t+\n",
      "chrX\t47786751\t47786950\tX:47786751-47786950\t.\t+\n",
      "chrX\t47786801\t47787000\tX:47786801-47787000\t.\t+\n",
      "chrX\t47786851\t47787050\tX:47786851-47787050\t.\t+\n"
     ]
    }
   ],
   "source": [
    "FDIRY=${FD_RES}/source/syn26435687\n",
    "FNAME=GATA-MYC_Tile_K562_K562_20210130.hg38.cleaned.GATA1.bed\n",
    "FP_INP=${FDIRY}/${FNAME}\n",
    "\n",
    "FDIRY=${FD_RES}/Tewhey_K562_TileMPRA/fragment\n",
    "FNAME=Tile_K562_hg38_20210130.GATA1.bed\n",
    "FP_OUT=${FDIRY}/${FNAME}\n",
    "\n",
    "cat ${FP_INP} | awk -v OFS='\\t' {'print $1, $2, $3, $4, $5, $6'} > ${FP_OUT}\n",
    "head ${FP_OUT}"
   ]
  },
  {
   "cell_type": "code",
   "execution_count": 18,
   "id": "6c1ecac8-8a89-4ab3-aa37-adf44941eabd",
   "metadata": {},
   "outputs": [
    {
     "name": "stdout",
     "output_type": "stream",
     "text": [
      "chr8\t126735901\t126736100\t8:126735901-126736100\t.\t+\n",
      "chr8\t126735951\t126736150\t8:126735951-126736150\t.\t+\n",
      "chr8\t126736001\t126736200\t8:126736001-126736200\t.\t+\n",
      "chr8\t126736051\t126736250\t8:126736051-126736250\t.\t+\n",
      "chr8\t126736101\t126736300\t8:126736101-126736300\t.\t+\n",
      "chr8\t126736151\t126736350\t8:126736151-126736350\t.\t+\n",
      "chr8\t126736201\t126736400\t8:126736201-126736400\t.\t+\n",
      "chr8\t126736251\t126736450\t8:126736251-126736450\t.\t+\n",
      "chr8\t126736301\t126736500\t8:126736301-126736500\t.\t+\n",
      "chr8\t126736351\t126736550\t8:126736351-126736550\t.\t+\n"
     ]
    }
   ],
   "source": [
    "FDIRY=${FD_RES}/source/syn26435687\n",
    "FNAME=GATA-MYC_Tile_K562_K562_20210130.hg38.cleaned.MYC.bed\n",
    "FP_INP=${FDIRY}/${FNAME}\n",
    "\n",
    "FDIRY=${FD_RES}/Tewhey_K562_TileMPRA/fragment\n",
    "FNAME=Tile_K562_hg38_20210130.MYC.bed\n",
    "FP_OUT=${FDIRY}/${FNAME}\n",
    "\n",
    "cat ${FP_INP} | awk -v OFS='\\t' {'print $1, $2, $3, $4, $5, $6'} > ${FP_OUT}\n",
    "head ${FP_OUT}"
   ]
  },
  {
   "cell_type": "code",
   "execution_count": 19,
   "id": "b0add682-e2c3-475a-a76e-7c4581a279ce",
   "metadata": {},
   "outputs": [
    {
     "name": "stdout",
     "output_type": "stream",
     "text": [
      "chr11\t61554801\t61555000\t11:61554801-61555000\t.\t+\n",
      "chr11\t61554801\t61555000\t11:61554801-61555000_RC\t.\t-\n",
      "chr11\t61554806\t61555005\t11:61554806-61555005\t.\t+\n",
      "chr11\t61554806\t61555005\t11:61554806-61555005_RC\t.\t-\n",
      "chr11\t61554811\t61555010\t11:61554811-61555010\t.\t+\n",
      "chr11\t61554811\t61555010\t11:61554811-61555010_RC\t.\t-\n",
      "chr11\t61554816\t61555015\t11:61554816-61555015\t.\t+\n",
      "chr11\t61554816\t61555015\t11:61554816-61555015_RC\t.\t-\n",
      "chr11\t61554821\t61555020\t11:61554821-61555020\t.\t+\n",
      "chr11\t61554821\t61555020\t11:61554821-61555020_RC\t.\t-\n"
     ]
    }
   ],
   "source": [
    "FDIRY=${FD_RES}/source/syn22348180\n",
    "FNAME=FADS_Tile_K562_K562_20200905.bed\n",
    "FP_INP=${FDIRY}/${FNAME}\n",
    "\n",
    "FDIRY=${FD_RES}/Tewhey_K562_TileMPRA/fragment\n",
    "FNAME=Tile_K562_hg38_20200905.FADS.bed\n",
    "FP_OUT=${FDIRY}/${FNAME}\n",
    "\n",
    "cat ${FP_INP} |\\\n",
    "    tail -n +2 |\\\n",
    "    awk -v OFS='\\t' {'$1=\"chr\"$1; print $1, $2, $3, $4, $5, $6'} > ${FP_OUT}\n",
    "head ${FP_OUT}"
   ]
  },
  {
   "cell_type": "markdown",
   "id": "84a8d349-1868-4f77-9a65-1790ac61c81d",
   "metadata": {},
   "source": [
    "## Count"
   ]
  },
  {
   "cell_type": "markdown",
   "id": "15f27f7b-06d8-410a-96a1-eaa7257f23e3",
   "metadata": {},
   "source": [
    "**GATA1**"
   ]
  },
  {
   "cell_type": "code",
   "execution_count": 6,
   "id": "c23799f5-9b1b-4b9d-a8f8-65f207aebb7c",
   "metadata": {},
   "outputs": [
    {
     "name": "stdout",
     "output_type": "stream",
     "text": [
      "chrX\t47786401\t47786600\tX:47786401-47786600\t.\t+\t2.30593934460149\t2117.78684083014\t10474.868702612\t112.11265261617\t110.931130790033\t0.102147903305184\n",
      "chrX\t47786451\t47786650\tX:47786451-47786650\t.\t+\t0.783056057422144\t1386.00739237509\t2387.11896574661\t11.3173883956403\t10.6425168461249\t0.113307047070907\n",
      "chrX\t47786501\t47786700\tX:47786501-47786700\t.\t+\t-0.128731962724311\t1955.62553108109\t1788.23614005802\t0.845069660219201\t0.628722618349189\t0.0878596785422427\n",
      "chrX\t47786551\t47786750\tX:47786551-47786750\t.\t+\t0.588295148181817\t2388.99664261419\t3591.26381774846\t11.2404554080035\t10.5666788666818\t0.0854366059937647\n",
      "chrX\t47786601\t47786800\tX:47786601-47786800\t.\t+\t0.0667001449192146\t2102.91633517956\t2202.38454860936\t0.309589962802377\t0.21047015199996\t0.096677408925751\n",
      "chrX\t47786651\t47786850\tX:47786651-47786850\t.\t+\t-0.0296770285855712\t1571.25883312174\t1537.47500511577\t0.10093990529751\t0.0645309864135248\t0.11287405577848\n",
      "chrX\t47786701\t47786900\tX:47786701-47786900\t.\t+\t-0.14075229487499\t1203.48578659625\t1091.84377528483\t0.825108335723858\t0.612237990840887\t0.0976771932403185\n",
      "chrX\t47786751\t47786950\tX:47786751-47786950\t.\t+\t-0.0885922350756983\t353.512101989425\t332.442633189546\t0.253160744492879\t0.1696398049799\t0.151330371648385\n",
      "chrX\t47786801\t47787000\tX:47786801-47787000\t.\t+\t0.0391523438172218\t579.598940974745\t594.330606996562\t0.0990177524483432\t0.0632252218092235\t0.151540085938414\n",
      "chrX\t47786851\t47787050\tX:47786851-47787050\t.\t+\t-0.180031837594759\t1441.753500779\t1272.18932724085\t0.993521192614518\t0.751361305586954\t0.109935692261477\n"
     ]
    }
   ],
   "source": [
    "FDIRY=${FD_RES}/source/syn26435687\n",
    "FNAME=GATA-MYC_Tile_K562_K562_20210130.hg38.cleaned.GATA1.bed\n",
    "FP_INP=${FDIRY}/${FNAME}\n",
    "\n",
    "FDIRY=${FD_RES}/Tewhey_K562_TileMPRA/count\n",
    "FNAME=Tile_K562_hg38_20210130.GATA1.stranded_pos.bed\n",
    "FP_OUT=${FDIRY}/${FNAME}\n",
    "\n",
    "cp ${FP_INP} ${FP_OUT}\n",
    "head ${FP_OUT}"
   ]
  },
  {
   "cell_type": "markdown",
   "id": "767e1cca-dfbe-4659-823b-3d54478a0cba",
   "metadata": {},
   "source": [
    "**MYC**"
   ]
  },
  {
   "cell_type": "code",
   "execution_count": 7,
   "id": "7b97cb03-3e72-4f32-9598-959d637d70a1",
   "metadata": {},
   "outputs": [
    {
     "name": "stdout",
     "output_type": "stream",
     "text": [
      "chr8\t126735901\t126736100\t8:126735901-126736100\t.\t+\t3.2160073089731\t889.870007626957\t8270.0812492101\t284.968919800667\t283.460926583012\t0.0890350708144434\n",
      "chr8\t126735951\t126736150\t8:126735951-126736150\t.\t+\t2.7418446306345\t125.834560461689\t840.938846837603\t113.688833083897\t112.501493383409\t0.12060330887403\n",
      "chr8\t126736001\t126736200\t8:126736001-126736200\t.\t+\t2.97274231280755\t510.315518509142\t4005.35667727079\t184.577200225273\t183.231899086814\t0.102397694468983\n",
      "chr8\t126736051\t126736250\t8:126736051-126736250\t.\t+\t0.518237538807382\t702.549323072363\t1005.35942223587\t5.59034059223642\t5.03343239300409\t0.110201760903996\n",
      "chr8\t126736101\t126736300\t8:126736101-126736300\t.\t+\t0.854181054733534\t551.083056684629\t995.469820297553\t14.4458053269591\t13.7295762580818\t0.108553853362847\n",
      "chr8\t126736151\t126736350\t8:126736151-126736350\t.\t+\t-0.170536518919497\t916.625712816023\t814.060406737518\t0.869176270302198\t0.648678251321294\t0.114140812593879\n",
      "chr8\t126736201\t126736400\t8:126736201-126736400\t.\t+\t-0.228389349286036\t252.295210997601\t215.270243875253\t0.631792435759102\t0.456673166036636\t0.191682206789696\n",
      "chr8\t126736251\t126736450\t8:126736251-126736450\t.\t+\t-0.282547596063233\t206.33956338419\t169.445419693817\t0.854670352603126\t0.636650338189754\t0.191330787603918\n",
      "chr8\t126736301\t126736500\t8:126736301-126736500\t.\t+\t0.341850449719078\t225.170969884281\t284.651952860765\t1.22819243176126\t0.950092596669581\t0.181139132639869\n",
      "chr8\t126736351\t126736550\t8:126736351-126736550\t.\t+\t0.340369413983315\t588.097277025173\t745.181174540557\t2.54673138133352\t2.13394881164837\t0.114042632145658\n"
     ]
    }
   ],
   "source": [
    "FDIRY=${FD_RES}/source/syn26435687\n",
    "FNAME=GATA-MYC_Tile_K562_K562_20210130.hg38.cleaned.MYC.bed\n",
    "FP_INP=${FDIRY}/${FNAME}\n",
    "\n",
    "FDIRY=${FD_RES}/Tewhey_K562_TileMPRA/count\n",
    "FNAME=Tile_K562_hg38_20210130.MYC.stranded_pos.bed\n",
    "FP_OUT=${FDIRY}/${FNAME}\n",
    "\n",
    "cp ${FP_INP} ${FP_OUT}\n",
    "head ${FP_OUT}"
   ]
  },
  {
   "cell_type": "markdown",
   "id": "6ed5e29e-166a-46b0-90b0-c14fae0cf1b9",
   "metadata": {},
   "source": [
    "**FADS**"
   ]
  },
  {
   "cell_type": "code",
   "execution_count": 9,
   "id": "13a3ab20-35aa-4062-87ea-b7201b793847",
   "metadata": {},
   "outputs": [],
   "source": [
    "FDIRY=${FD_RES}/source/syn22348180\n",
    "FNAME=FADS_Tile_K562_K562_20200905.bed\n",
    "FP_INP=${FDIRY}/${FNAME}\n",
    "\n",
    "FDIRY=${FD_RES}/Tewhey_K562_TileMPRA/count\n",
    "FNAME=Tile_K562_hg38_20210130.MYC.unstranded.bed\n",
    "FP_OUT=${FDIRY}/${FNAME}\n",
    "\n",
    "FDIRY=${FD_RES}/Tewhey_K562_TileMPRA/count\n",
    "FNAME=Tile_K562_hg38_20210130.MYC.stranded_pos.bed\n",
    "FP_OUT=${FDIRY}/${FNAME}\n",
    "\n",
    "FDIRY=${FD_RES}/Tewhey_K562_TileMPRA/count\n",
    "FNAME=Tile_K562_hg38_20210130.MYC.stranded_neg.bed\n",
    "FP_OUT=${FDIRY}/${FNAME}"
   ]
  },
  {
   "cell_type": "code",
   "execution_count": null,
   "id": "ce1ceff4-20ba-4ef4-9c12-5cf23b23ea9e",
   "metadata": {},
   "outputs": [],
   "source": [
    "head ${FP_INP} |\\\n",
    "    cut -f 1-12 |\\\n",
    "    tail -n +2 |\\"
   ]
  },
  {
   "cell_type": "code",
   "execution_count": 10,
   "id": "e8f9b31a-ad44-4c22-88ed-c5169d9cb399",
   "metadata": {},
   "outputs": [
    {
     "name": "stdout",
     "output_type": "stream",
     "text": [
      "chr11\t61554801\t61555000\t11:61554801-61555000\t.\t+\n",
      "chr11\t61554801\t61555000\t11:61554801-61555000_RC\t.\t-\n",
      "chr11\t61554806\t61555005\t11:61554806-61555005\t.\t+\n",
      "chr11\t61554806\t61555005\t11:61554806-61555005_RC\t.\t-\n",
      "chr11\t61554811\t61555010\t11:61554811-61555010\t.\t+\n",
      "chr11\t61554811\t61555010\t11:61554811-61555010_RC\t.\t-\n",
      "chr11\t61554816\t61555015\t11:61554816-61555015\t.\t+\n",
      "chr11\t61554816\t61555015\t11:61554816-61555015_RC\t.\t-\n",
      "chr11\t61554821\t61555020\t11:61554821-61555020\t.\t+\n"
     ]
    }
   ],
   "source": [
    "head ${FP_INP} |\\\n",
    "    tail -n +2 |\\\n",
    "    awk -v OFS='\\t' {'$1=\"chr\"$1; print $1, $2, $3, $4, $5, $6'}"
   ]
  },
  {
   "cell_type": "code",
   "execution_count": null,
   "id": "f8d7e263-e87a-4831-b621-3b200e1b45a1",
   "metadata": {},
   "outputs": [],
   "source": [
    "FDIRY=${FD_RES}/source/syn22348180\n",
    "FNAME=FADS_Tile_K562_K562_20200905.bed\n",
    "FP_INP=${FDIRY}/${FNAME}\n",
    "\n",
    "FDIRY=${FD_RES}/Tewhey_K562_TileMPRA/fragment\n",
    "FNAME=Tile_K562_hg38_20200905.FADS.bed\n",
    "FP_OUT=${FDIRY}/${FNAME}\n",
    "\n",
    "cat ${FP_INP} |\\\n",
    "    tail -n +2 |\\\n",
    "    awk -v OFS='\\t' {'$1=\"chr\"$1; print $1, $2, $3, $4, $5, $6'} > ${FP_OUT}\n",
    "head ${FP_OUT}"
   ]
  }
 ],
 "metadata": {
  "kernelspec": {
   "display_name": "Bash",
   "language": "bash",
   "name": "bash"
  },
  "language_info": {
   "codemirror_mode": "shell",
   "file_extension": ".sh",
   "mimetype": "text/x-sh",
   "name": "bash"
  }
 },
 "nbformat": 4,
 "nbformat_minor": 5
}
