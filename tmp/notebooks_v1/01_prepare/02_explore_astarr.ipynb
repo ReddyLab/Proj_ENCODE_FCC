{
 "cells": [
  {
   "cell_type": "markdown",
   "id": "0b8a3f80-baf5-45d6-a6e6-8799ab9c6b4f",
   "metadata": {},
   "source": [
    "**Set environment**"
   ]
  },
  {
   "cell_type": "code",
   "execution_count": 1,
   "id": "d51646e9",
   "metadata": {},
   "outputs": [
    {
     "name": "stdout",
     "output_type": "stream",
     "text": [
      "You are on Duke Server: HARDAC\n",
      "BASE DIRECTORY:     /gpfs/fs1/data/reddylab/Kuei\n",
      "PATH OF SOURCE:     /gpfs/fs1/data/reddylab/Kuei/source\n",
      "PATH OF EXECUTABLE: /gpfs/fs1/data/reddylab/Kuei/exe\n",
      "PATH OF ANNOTATION: /gpfs/fs1/data/reddylab/Kuei/annotation\n",
      "PATH OF PROJECT:    /gpfs/fs1/data/reddylab/Kuei/GitRepo/Proj_CombEffect_ENCODE_FCC/notebooks\n",
      "PATH OF RESULTS:    /gpfs/fs1/data/reddylab/Kuei/out/proj_combeffect_encode_fcc\n",
      "\n"
     ]
    }
   ],
   "source": [
    "source ../config_duke.sh; show_env"
   ]
  },
  {
   "cell_type": "markdown",
   "id": "b737f877-6b43-4611-b21c-ecdbc047da5c",
   "metadata": {},
   "source": [
    "## Source folder for ASTARR"
   ]
  },
  {
   "cell_type": "code",
   "execution_count": 4,
   "id": "49d31df9-9843-471f-91f7-1d80da93d002",
   "metadata": {},
   "outputs": [
    {
     "name": "stdout",
     "output_type": "stream",
     "text": [
      "\u001b[0m\u001b[38;5;27mA001_K562_wstarrseq_fragments\u001b[0m\n",
      "\u001b[38;5;27mannotation_cCREs\u001b[0m\n",
      "\u001b[38;5;27mannotation_remap2022\u001b[0m\n",
      "\u001b[38;5;27mKS91_K562_astarrseq_fragments_220510\u001b[0m\n",
      "\u001b[38;5;27mKS91_K562_astarrseq_peak_macs\u001b[0m\n",
      "\u001b[38;5;27mMPRA\u001b[0m\n",
      "Readme.md\n",
      "\u001b[38;5;27mTewhey_MPRA\u001b[0m\n",
      "\u001b[38;5;27mtmp\u001b[0m\n"
     ]
    }
   ],
   "source": [
    "ls -1 ${FD_RES}/source"
   ]
  },
  {
   "cell_type": "code",
   "execution_count": 5,
   "id": "f28e07c3-320d-4496-b323-f46c175b5daf",
   "metadata": {},
   "outputs": [
    {
     "name": "stdout",
     "output_type": "stream",
     "text": [
      "KS91_K562_hg38_ASTARRseq_Input_rep1.masked.dups_marked.sorted.FADS.fragment_counts.stranded.bed\n",
      "KS91_K562_hg38_ASTARRseq_Input_rep1.masked.dups_marked.sorted.FADS.fragment_counts.unstranded.bed\n",
      "KS91_K562_hg38_ASTARRseq_Input_rep1.masked.dups_marked.sorted.GATA1.fragment_counts.stranded.bed\n",
      "KS91_K562_hg38_ASTARRseq_Input_rep1.masked.dups_marked.sorted.GATA1.fragment_counts.unstranded.bed\n",
      "KS91_K562_hg38_ASTARRseq_Input_rep1.masked.dups_marked.sorted.MYC.fragment_counts.stranded.bed\n",
      "KS91_K562_hg38_ASTARRseq_Input_rep1.masked.dups_marked.sorted.MYC.fragment_counts.unstranded.bed\n",
      "KS91_K562_hg38_ASTARRseq_Input_rep2.masked.dups_marked.sorted.FADS.fragment_counts.stranded.bed\n",
      "KS91_K562_hg38_ASTARRseq_Input_rep2.masked.dups_marked.sorted.FADS.fragment_counts.unstranded.bed\n",
      "KS91_K562_hg38_ASTARRseq_Input_rep2.masked.dups_marked.sorted.GATA1.fragment_counts.stranded.bed\n",
      "KS91_K562_hg38_ASTARRseq_Input_rep2.masked.dups_marked.sorted.GATA1.fragment_counts.unstranded.bed\n",
      "KS91_K562_hg38_ASTARRseq_Input_rep2.masked.dups_marked.sorted.MYC.fragment_counts.stranded.bed\n",
      "KS91_K562_hg38_ASTARRseq_Input_rep2.masked.dups_marked.sorted.MYC.fragment_counts.unstranded.bed\n",
      "KS91_K562_hg38_ASTARRseq_Input_rep3.masked.dups_marked.sorted.FADS.fragment_counts.stranded.bed\n",
      "KS91_K562_hg38_ASTARRseq_Input_rep3.masked.dups_marked.sorted.FADS.fragment_counts.unstranded.bed\n",
      "KS91_K562_hg38_ASTARRseq_Input_rep3.masked.dups_marked.sorted.GATA1.fragment_counts.stranded.bed\n",
      "KS91_K562_hg38_ASTARRseq_Input_rep3.masked.dups_marked.sorted.GATA1.fragment_counts.unstranded.bed\n",
      "KS91_K562_hg38_ASTARRseq_Input_rep3.masked.dups_marked.sorted.MYC.fragment_counts.stranded.bed\n",
      "KS91_K562_hg38_ASTARRseq_Input_rep3.masked.dups_marked.sorted.MYC.fragment_counts.unstranded.bed\n",
      "KS91_K562_hg38_ASTARRseq_Input_rep4.masked.dups_marked.sorted.FADS.fragment_counts.stranded.bed\n",
      "KS91_K562_hg38_ASTARRseq_Input_rep4.masked.dups_marked.sorted.FADS.fragment_counts.unstranded.bed\n",
      "KS91_K562_hg38_ASTARRseq_Input_rep4.masked.dups_marked.sorted.GATA1.fragment_counts.stranded.bed\n",
      "KS91_K562_hg38_ASTARRseq_Input_rep4.masked.dups_marked.sorted.GATA1.fragment_counts.unstranded.bed\n",
      "KS91_K562_hg38_ASTARRseq_Input_rep4.masked.dups_marked.sorted.MYC.fragment_counts.stranded.bed\n",
      "KS91_K562_hg38_ASTARRseq_Input_rep4.masked.dups_marked.sorted.MYC.fragment_counts.unstranded.bed\n",
      "KS91_K562_hg38_ASTARRseq_Input_rep5.masked.dups_marked.sorted.FADS.fragment_counts.stranded.bed\n",
      "KS91_K562_hg38_ASTARRseq_Input_rep5.masked.dups_marked.sorted.FADS.fragment_counts.unstranded.bed\n",
      "KS91_K562_hg38_ASTARRseq_Input_rep5.masked.dups_marked.sorted.GATA1.fragment_counts.stranded.bed\n",
      "KS91_K562_hg38_ASTARRseq_Input_rep5.masked.dups_marked.sorted.GATA1.fragment_counts.unstranded.bed\n",
      "KS91_K562_hg38_ASTARRseq_Input_rep5.masked.dups_marked.sorted.MYC.fragment_counts.stranded.bed\n",
      "KS91_K562_hg38_ASTARRseq_Input_rep5.masked.dups_marked.sorted.MYC.fragment_counts.unstranded.bed\n",
      "KS91_K562_hg38_ASTARRseq_Input_rep6.masked.dups_marked.sorted.FADS.fragment_counts.stranded.bed\n",
      "KS91_K562_hg38_ASTARRseq_Input_rep6.masked.dups_marked.sorted.FADS.fragment_counts.unstranded.bed\n",
      "KS91_K562_hg38_ASTARRseq_Input_rep6.masked.dups_marked.sorted.GATA1.fragment_counts.stranded.bed\n",
      "KS91_K562_hg38_ASTARRseq_Input_rep6.masked.dups_marked.sorted.GATA1.fragment_counts.unstranded.bed\n",
      "KS91_K562_hg38_ASTARRseq_Input_rep6.masked.dups_marked.sorted.MYC.fragment_counts.stranded.bed\n",
      "KS91_K562_hg38_ASTARRseq_Input_rep6.masked.dups_marked.sorted.MYC.fragment_counts.unstranded.bed\n",
      "KS91_K562_hg38_ASTARRseq_Output_rep1.f3q10.sorted.with_umis.dups_marked.FADS.fragment_counts.stranded.bed\n",
      "KS91_K562_hg38_ASTARRseq_Output_rep1.f3q10.sorted.with_umis.dups_marked.FADS.fragment_counts.unstranded.bed\n",
      "KS91_K562_hg38_ASTARRseq_Output_rep1.f3q10.sorted.with_umis.dups_marked.GATA1.fragment_counts.stranded.bed\n",
      "KS91_K562_hg38_ASTARRseq_Output_rep1.f3q10.sorted.with_umis.dups_marked.GATA1.fragment_counts.unstranded.bed\n",
      "KS91_K562_hg38_ASTARRseq_Output_rep1.f3q10.sorted.with_umis.dups_marked.MYC.fragment_counts.stranded.bed\n",
      "KS91_K562_hg38_ASTARRseq_Output_rep1.f3q10.sorted.with_umis.dups_marked.MYC.fragment_counts.unstranded.bed\n",
      "KS91_K562_hg38_ASTARRseq_Output_rep2.f3q10.sorted.with_umis.dups_marked.FADS.fragment_counts.stranded.bed\n",
      "KS91_K562_hg38_ASTARRseq_Output_rep2.f3q10.sorted.with_umis.dups_marked.FADS.fragment_counts.unstranded.bed\n",
      "KS91_K562_hg38_ASTARRseq_Output_rep2.f3q10.sorted.with_umis.dups_marked.GATA1.fragment_counts.stranded.bed\n",
      "KS91_K562_hg38_ASTARRseq_Output_rep2.f3q10.sorted.with_umis.dups_marked.GATA1.fragment_counts.unstranded.bed\n",
      "KS91_K562_hg38_ASTARRseq_Output_rep2.f3q10.sorted.with_umis.dups_marked.MYC.fragment_counts.stranded.bed\n",
      "KS91_K562_hg38_ASTARRseq_Output_rep2.f3q10.sorted.with_umis.dups_marked.MYC.fragment_counts.unstranded.bed\n",
      "KS91_K562_hg38_ASTARRseq_Output_rep3.f3q10.sorted.with_umis.dups_marked.FADS.fragment_counts.stranded.bed\n",
      "KS91_K562_hg38_ASTARRseq_Output_rep3.f3q10.sorted.with_umis.dups_marked.FADS.fragment_counts.unstranded.bed\n",
      "KS91_K562_hg38_ASTARRseq_Output_rep3.f3q10.sorted.with_umis.dups_marked.GATA1.fragment_counts.stranded.bed\n",
      "KS91_K562_hg38_ASTARRseq_Output_rep3.f3q10.sorted.with_umis.dups_marked.GATA1.fragment_counts.unstranded.bed\n",
      "KS91_K562_hg38_ASTARRseq_Output_rep3.f3q10.sorted.with_umis.dups_marked.MYC.fragment_counts.stranded.bed\n",
      "KS91_K562_hg38_ASTARRseq_Output_rep3.f3q10.sorted.with_umis.dups_marked.MYC.fragment_counts.unstranded.bed\n",
      "KS91_K562_hg38_ASTARRseq_Output_rep4.f3q10.sorted.with_umis.dups_marked.FADS.fragment_counts.stranded.bed\n",
      "KS91_K562_hg38_ASTARRseq_Output_rep4.f3q10.sorted.with_umis.dups_marked.FADS.fragment_counts.unstranded.bed\n",
      "KS91_K562_hg38_ASTARRseq_Output_rep4.f3q10.sorted.with_umis.dups_marked.GATA1.fragment_counts.stranded.bed\n",
      "KS91_K562_hg38_ASTARRseq_Output_rep4.f3q10.sorted.with_umis.dups_marked.GATA1.fragment_counts.unstranded.bed\n",
      "KS91_K562_hg38_ASTARRseq_Output_rep4.f3q10.sorted.with_umis.dups_marked.MYC.fragment_counts.stranded.bed\n",
      "KS91_K562_hg38_ASTARRseq_Output_rep4.f3q10.sorted.with_umis.dups_marked.MYC.fragment_counts.unstranded.bed\n"
     ]
    }
   ],
   "source": [
    "ls -1 ${FD_RES}/source/KS91_K562_astarrseq_fragments_220510"
   ]
  },
  {
   "cell_type": "markdown",
   "id": "fe248638-03d9-4f79-859e-a012ed076864",
   "metadata": {},
   "source": [
    "## Fragments of ASTARR"
   ]
  },
  {
   "cell_type": "code",
   "execution_count": 6,
   "id": "17e86453-bf04-4e57-a39f-a80aed67c805",
   "metadata": {},
   "outputs": [],
   "source": [
    "FDIRY=${FD_RES}/source/KS91_K562_astarrseq_fragments_220510"
   ]
  },
  {
   "cell_type": "markdown",
   "id": "3d6d638e-0188-45f6-ae62-7977894714e2",
   "metadata": {},
   "source": [
    "**Region: GATA1**"
   ]
  },
  {
   "cell_type": "code",
   "execution_count": 7,
   "id": "ee8585dd-7702-4f8e-b21b-fd04e3382ba8",
   "metadata": {},
   "outputs": [
    {
     "name": "stdout",
     "output_type": "stream",
     "text": [
      "chrX\t47787165\t47787363\tchrX_47787165_47787363\t1\t.\n",
      "chrX\t47787557\t47787773\tchrX_47787557_47787773\t2\t.\n",
      "chrX\t47787593\t47787783\tchrX_47787593_47787783\t1\t.\n",
      "chrX\t47787598\t47787772\tchrX_47787598_47787772\t1\t.\n",
      "chrX\t47787661\t47788058\tchrX_47787661_47788058\t3\t.\n",
      "chrX\t47787743\t47787849\tchrX_47787743_47787849\t2\t.\n",
      "chrX\t47787998\t47788231\tchrX_47787998_47788231\t1\t.\n",
      "chrX\t47788008\t47788157\tchrX_47788008_47788157\t1\t.\n",
      "chrX\t47788008\t47788181\tchrX_47788008_47788181\t1\t.\n",
      "chrX\t47788140\t47788547\tchrX_47788140_47788547\t1\t.\n"
     ]
    }
   ],
   "source": [
    "FNAME=KS91_K562_hg38_ASTARRseq_Input_rep1.masked.dups_marked.sorted.GATA1.fragment_counts.unstranded.bed\n",
    "head ${FDIRY}/${FNAME}"
   ]
  },
  {
   "cell_type": "code",
   "execution_count": 10,
   "id": "38144007-f839-43da-9ac0-72e12a6bc348",
   "metadata": {},
   "outputs": [
    {
     "name": "stdout",
     "output_type": "stream",
     "text": [
      "chrX\t47787189\t47787363\tchrX_47787189_47787363\t6\t.\n",
      "chrX\t47788545\t47789154\tchrX_47788545_47789154\t6\t.\n",
      "chrX\t47788659\t47788978\tchrX_47788659_47788978\t4\t.\n",
      "chrX\t47788659\t47788979\tchrX_47788659_47788979\t18\t.\n",
      "chrX\t47788660\t47788978\tchrX_47788660_47788978\t1\t.\n",
      "chrX\t47788662\t47788979\tchrX_47788662_47788979\t1\t.\n",
      "chrX\t47788970\t47789151\tchrX_47788970_47789151\t9\t.\n",
      "chrX\t47789145\t47789362\tchrX_47789145_47789362\t1\t.\n",
      "chrX\t47789145\t47789363\tchrX_47789145_47789363\t62\t.\n",
      "chrX\t47789176\t47789447\tchrX_47789176_47789447\t1\t.\n"
     ]
    }
   ],
   "source": [
    "FNAME=KS91_K562_hg38_ASTARRseq_Output_rep1.f3q10.sorted.with_umis.dups_marked.GATA1.fragment_counts.unstranded.bed\n",
    "head ${FDIRY}/${FNAME}"
   ]
  },
  {
   "cell_type": "markdown",
   "id": "40876a77-0a63-452e-87e3-175a263574c6",
   "metadata": {},
   "source": [
    "**Region: MYC**"
   ]
  },
  {
   "cell_type": "code",
   "execution_count": 8,
   "id": "62062567-587a-4017-9e57-cf63ea89bba8",
   "metadata": {},
   "outputs": [
    {
     "name": "stdout",
     "output_type": "stream",
     "text": [
      "chr8\t126735990\t126736404\tchr8_126735990_126736404\t1\t.\n",
      "chr8\t126736004\t126736113\tchr8_126736004_126736113\t1\t.\n",
      "chr8\t126736010\t126736129\tchr8_126736010_126736129\t2\t.\n",
      "chr8\t126736025\t126736241\tchr8_126736025_126736241\t1\t.\n",
      "chr8\t126736083\t126736313\tchr8_126736083_126736313\t1\t.\n",
      "chr8\t126736084\t126736273\tchr8_126736084_126736273\t1\t.\n",
      "chr8\t126736091\t126736259\tchr8_126736091_126736259\t3\t.\n",
      "chr8\t126736091\t126736273\tchr8_126736091_126736273\t2\t.\n",
      "chr8\t126736094\t126736199\tchr8_126736094_126736199\t1\t.\n",
      "chr8\t126736094\t126736231\tchr8_126736094_126736231\t1\t.\n"
     ]
    }
   ],
   "source": [
    "FNAME=KS91_K562_hg38_ASTARRseq_Input_rep1.masked.dups_marked.sorted.MYC.fragment_counts.unstranded.bed\n",
    "head ${FDIRY}/${FNAME}"
   ]
  },
  {
   "cell_type": "code",
   "execution_count": 11,
   "id": "aee973ff-9937-429c-a5ba-3f994f046f00",
   "metadata": {},
   "outputs": [
    {
     "name": "stdout",
     "output_type": "stream",
     "text": [
      "chr8\t126736089\t126736257\tchr8_126736089_126736257\t1\t.\n",
      "chr8\t126736089\t126736258\tchr8_126736089_126736258\t3\t.\n",
      "chr8\t126736089\t126736259\tchr8_126736089_126736259\t37\t.\n",
      "chr8\t126736090\t126736259\tchr8_126736090_126736259\t1\t.\n",
      "chr8\t126737300\t126737484\tchr8_126737300_126737484\t1\t.\n",
      "chr8\t126738475\t126738663\tchr8_126738475_126738663\t77\t.\n",
      "chr8\t126738476\t126738663\tchr8_126738476_126738663\t1\t.\n",
      "chr8\t126738477\t126738663\tchr8_126738477_126738663\t2\t.\n",
      "chr8\t126738538\t126738949\tchr8_126738538_126738949\t2\t.\n",
      "chr8\t126738538\t126738950\tchr8_126738538_126738950\t13\t.\n"
     ]
    }
   ],
   "source": [
    "FNAME=KS91_K562_hg38_ASTARRseq_Output_rep1.f3q10.sorted.with_umis.dups_marked.MYC.fragment_counts.unstranded.bed\n",
    "head ${FDIRY}/${FNAME}"
   ]
  },
  {
   "cell_type": "markdown",
   "id": "82370e40-933c-4e49-811f-d5e43e95a50a",
   "metadata": {},
   "source": [
    "**Region: FADS**"
   ]
  },
  {
   "cell_type": "code",
   "execution_count": 9,
   "id": "c443a5cb-4da9-4202-970e-6c1b4dc954f4",
   "metadata": {},
   "outputs": [
    {
     "name": "stdout",
     "output_type": "stream",
     "text": [
      "chr11\t61787228\t61787382\tchr11_61787228_61787382\t7\t.\n",
      "chr11\t61787230\t61787628\tchr11_61787230_61787628\t3\t.\n",
      "chr11\t61787234\t61787471\tchr11_61787234_61787471\t1\t.\n",
      "chr11\t61787235\t61787407\tchr11_61787235_61787407\t1\t.\n",
      "chr11\t61787235\t61787461\tchr11_61787235_61787461\t1\t.\n",
      "chr11\t61787236\t61787388\tchr11_61787236_61787388\t1\t.\n",
      "chr11\t61787236\t61787474\tchr11_61787236_61787474\t1\t.\n",
      "chr11\t61787236\t61787512\tchr11_61787236_61787512\t2\t.\n",
      "chr11\t61787240\t61787548\tchr11_61787240_61787548\t1\t.\n",
      "chr11\t61787241\t61787798\tchr11_61787241_61787798\t1\t.\n"
     ]
    }
   ],
   "source": [
    "FNAME=KS91_K562_hg38_ASTARRseq_Input_rep1.masked.dups_marked.sorted.FADS.fragment_counts.unstranded.bed\n",
    "head ${FDIRY}/${FNAME}"
   ]
  },
  {
   "cell_type": "code",
   "execution_count": 12,
   "id": "cd3c9bcd-bc5f-4b99-b716-8207457cdeec",
   "metadata": {},
   "outputs": [
    {
     "name": "stdout",
     "output_type": "stream",
     "text": [
      "chr11\t61787383\t61787556\tchr11_61787383_61787556\t1\t.\n",
      "chr11\t61787522\t61787637\tchr11_61787522_61787637\t1\t.\n",
      "chr11\t61787522\t61787638\tchr11_61787522_61787638\t55\t.\n",
      "chr11\t61787523\t61787636\tchr11_61787523_61787636\t1\t.\n",
      "chr11\t61787523\t61787638\tchr11_61787523_61787638\t1\t.\n",
      "chr11\t61787809\t61788073\tchr11_61787809_61788073\t1\t.\n",
      "chr11\t61787809\t61788074\tchr11_61787809_61788074\t1\t.\n",
      "chr11\t61787809\t61788075\tchr11_61787809_61788075\t55\t.\n",
      "chr11\t61787810\t61788075\tchr11_61787810_61788075\t1\t.\n",
      "chr11\t61787814\t61787996\tchr11_61787814_61787996\t1\t.\n"
     ]
    }
   ],
   "source": [
    "FNAME=KS91_K562_hg38_ASTARRseq_Output_rep1.f3q10.sorted.with_umis.dups_marked.FADS.fragment_counts.unstranded.bed\n",
    "head ${FDIRY}/${FNAME}"
   ]
  },
  {
   "cell_type": "code",
   "execution_count": null,
   "id": "8eb90552-9fd2-42bf-9dc9-c2f231cc1f04",
   "metadata": {},
   "outputs": [],
   "source": []
  }
 ],
 "metadata": {
  "kernelspec": {
   "display_name": "Bash",
   "language": "bash",
   "name": "bash"
  },
  "language_info": {
   "codemirror_mode": "shell",
   "file_extension": ".sh",
   "mimetype": "text/x-sh",
   "name": "bash"
  }
 },
 "nbformat": 4,
 "nbformat_minor": 5
}
