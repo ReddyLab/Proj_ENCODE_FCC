{
 "cells": [
  {
   "cell_type": "markdown",
   "id": "520ba9e9-c287-434b-ad15-a343c266f77e",
   "metadata": {},
   "source": [
    "**Set environment**"
   ]
  },
  {
   "cell_type": "code",
   "execution_count": 1,
   "id": "b14a6257-e93a-408b-a040-1806d87a4dc1",
   "metadata": {},
   "outputs": [
    {
     "name": "stdout",
     "output_type": "stream",
     "text": [
      "You are on Duke Server: HARDAC\n",
      "BASE DIRECTORY:     /gpfs/fs1/data/reddylab/Kuei\n",
      "PATH OF SOURCE:     /gpfs/fs1/data/reddylab/Kuei/source\n",
      "PATH OF EXECUTABLE: /gpfs/fs1/data/reddylab/Kuei/exe\n",
      "PATH OF ANNOTATION: /gpfs/fs1/data/reddylab/Kuei/annotation\n",
      "PATH OF PROJECT:    /gpfs/fs1/data/reddylab/Kuei/GitRepo/Proj_CombEffect_ENCODE_FCC/notebooks\n",
      "PATH OF RESULTS:    /gpfs/fs1/data/reddylab/Kuei/out/proj_combeffect_encode_fcc\n",
      "\n"
     ]
    }
   ],
   "source": [
    "source ../config_duke.sh; show_env"
   ]
  },
  {
   "cell_type": "markdown",
   "id": "72bd7e61-5ea1-45da-ba6b-5aba2ecbb9c4",
   "metadata": {},
   "source": [
    "## Source folder for WSTARR"
   ]
  },
  {
   "cell_type": "code",
   "execution_count": 2,
   "id": "43955745-952c-4b48-b586-b0485c7d6bab",
   "metadata": {},
   "outputs": [
    {
     "name": "stdout",
     "output_type": "stream",
     "text": [
      "\u001b[0m\u001b[38;5;27mA001_K562_wstarrseq_fragments\u001b[0m\n",
      "\u001b[38;5;27mannotation_cCREs\u001b[0m\n",
      "\u001b[38;5;27mannotation_remap2022\u001b[0m\n",
      "\u001b[38;5;27mKS91_K562_astarrseq_fragments_220510\u001b[0m\n",
      "\u001b[38;5;27mKS91_K562_astarrseq_peak_macs\u001b[0m\n",
      "\u001b[38;5;27mMPRA\u001b[0m\n",
      "Readme.md\n",
      "\u001b[38;5;27mTewhey_MPRA\u001b[0m\n",
      "\u001b[38;5;27mtmp\u001b[0m\n"
     ]
    }
   ],
   "source": [
    "ls -1 ${FD_RES}/source"
   ]
  },
  {
   "cell_type": "code",
   "execution_count": 3,
   "id": "928ef7fd-6fab-4e0c-832c-55fd6ed46044",
   "metadata": {},
   "outputs": [
    {
     "name": "stdout",
     "output_type": "stream",
     "text": [
      "A001.K562.starrseq.GATA1.stranded.counts.txt\n",
      "A001.K562.starrseq.GATA1.unstranded.counts.txt\n",
      "A001.K562.starrseq.input.rep1.GATA1.fragment_counts.stranded.bed\n",
      "A001.K562.starrseq.input.rep1.GATA1.fragment_counts.unstranded.bed\n",
      "A001.K562.starrseq.input.rep1.MYC.fragment_counts.stranded.bed\n",
      "A001.K562.starrseq.input.rep1.MYC.fragment_counts.unstranded.bed\n",
      "A001.K562.starrseq.input.rep2.GATA1.fragment_counts.stranded.bed\n",
      "A001.K562.starrseq.input.rep2.GATA1.fragment_counts.unstranded.bed\n",
      "A001.K562.starrseq.input.rep2.MYC.fragment_counts.stranded.bed\n",
      "A001.K562.starrseq.input.rep2.MYC.fragment_counts.unstranded.bed\n",
      "A001.K562.starrseq.input.rep3.GATA1.fragment_counts.stranded.bed\n",
      "A001.K562.starrseq.input.rep3.GATA1.fragment_counts.unstranded.bed\n",
      "A001.K562.starrseq.input.rep3.MYC.fragment_counts.stranded.bed\n",
      "A001.K562.starrseq.input.rep3.MYC.fragment_counts.unstranded.bed\n",
      "A001.K562.starrseq.input.rep4.GATA1.fragment_counts.stranded.bed\n",
      "A001.K562.starrseq.input.rep4.GATA1.fragment_counts.unstranded.bed\n",
      "A001.K562.starrseq.input.rep4.MYC.fragment_counts.stranded.bed\n",
      "A001.K562.starrseq.input.rep4.MYC.fragment_counts.unstranded.bed\n",
      "A001.K562.starrseq.MYC.stranded.counts.txt\n",
      "A001.K562.starrseq.MYC.unstranded.counts.txt\n",
      "A001.K562.starrseq.output.rep1.GATA1.fragment_counts.stranded.bed\n",
      "A001.K562.starrseq.output.rep1.GATA1.fragment_counts.unstranded.bed\n",
      "A001.K562.starrseq.output.rep1.MYC.fragment_counts.stranded.bed\n",
      "A001.K562.starrseq.output.rep1.MYC.fragment_counts.unstranded.bed\n",
      "A001.K562.starrseq.output.rep2.GATA1.fragment_counts.stranded.bed\n",
      "A001.K562.starrseq.output.rep2.GATA1.fragment_counts.unstranded.bed\n",
      "A001.K562.starrseq.output.rep2.MYC.fragment_counts.stranded.bed\n",
      "A001.K562.starrseq.output.rep2.MYC.fragment_counts.unstranded.bed\n",
      "A001.K562.starrseq.output.rep3.GATA1.fragment_counts.stranded.bed\n",
      "A001.K562.starrseq.output.rep3.GATA1.fragment_counts.unstranded.bed\n",
      "A001.K562.starrseq.output.rep3.MYC.fragment_counts.stranded.bed\n",
      "A001.K562.starrseq.output.rep3.MYC.fragment_counts.unstranded.bed\n"
     ]
    }
   ],
   "source": [
    "ls -1 ${FD_RES}/source/A001_K562_wstarrseq_fragments"
   ]
  },
  {
   "cell_type": "markdown",
   "id": "fcf7b2be-5ca9-45a3-9dc7-313cbb9d1e3b",
   "metadata": {},
   "source": [
    "## Fragments of WSTARR"
   ]
  },
  {
   "cell_type": "code",
   "execution_count": 4,
   "id": "d031df5f-c28e-4e73-9191-99cd1a4ec8da",
   "metadata": {},
   "outputs": [],
   "source": [
    "FDIRY=${FD_RES}/source/A001_K562_wstarrseq_fragments"
   ]
  },
  {
   "cell_type": "markdown",
   "id": "32da04f3-acf7-4344-a9a1-197268e5fe74",
   "metadata": {},
   "source": [
    "**Region: GATA1**"
   ]
  },
  {
   "cell_type": "code",
   "execution_count": 10,
   "id": "d570fc02-dd70-4143-b909-e30a638be2ae",
   "metadata": {},
   "outputs": [
    {
     "name": "stdout",
     "output_type": "stream",
     "text": [
      "chrX\t47787533\t47787772\tchrX_47787533_47787772\t1\t.\n",
      "chrX\t47787569\t47787735\tchrX_47787569_47787735\t1\t.\n",
      "chrX\t47787714\t47788125\tchrX_47787714_47788125\t1\t.\n"
     ]
    }
   ],
   "source": [
    "FNAME=A001.K562.starrseq.input.rep1.GATA1.fragment_counts.unstranded.bed\n",
    "head -3 ${FDIRY}/${FNAME}"
   ]
  },
  {
   "cell_type": "code",
   "execution_count": 11,
   "id": "197ec7f1-4f70-41f8-85b6-5bcd25a0765c",
   "metadata": {},
   "outputs": [
    {
     "name": "stdout",
     "output_type": "stream",
     "text": [
      "chrX\t47787192\t47787770\tchrX_47787192_47787770\t1\t.\n",
      "chrX\t47787291\t47787629\tchrX_47787291_47787629\t1\t.\n",
      "chrX\t47787387\t47787777\tchrX_47787387_47787777\t1\t.\n"
     ]
    }
   ],
   "source": [
    "FNAME=A001.K562.starrseq.output.rep1.GATA1.fragment_counts.unstranded.bed\n",
    "head -3 ${FDIRY}/${FNAME}"
   ]
  },
  {
   "cell_type": "code",
   "execution_count": 12,
   "id": "82164184-4c81-4929-b23a-e04910464646",
   "metadata": {},
   "outputs": [
    {
     "name": "stdout",
     "output_type": "stream",
     "text": [
      "chrX\t47787533\t47787772\tchrX_47787533_47787772_+\t1\t+\n",
      "chrX\t47787569\t47787735\tchrX_47787569_47787735_+\t1\t+\n",
      "chrX\t47787714\t47788125\tchrX_47787714_47788125_-\t1\t-\n"
     ]
    }
   ],
   "source": [
    "FNAME=A001.K562.starrseq.input.rep1.GATA1.fragment_counts.stranded.bed\n",
    "head -3 ${FDIRY}/${FNAME}"
   ]
  },
  {
   "cell_type": "code",
   "execution_count": 13,
   "id": "6a1d070d-14d7-4c8c-987e-5212329700c8",
   "metadata": {},
   "outputs": [
    {
     "name": "stdout",
     "output_type": "stream",
     "text": [
      "chrX\t47787192\t47787770\tchrX_47787192_47787770_+\t1\t+\n",
      "chrX\t47787291\t47787629\tchrX_47787291_47787629_-\t1\t-\n",
      "chrX\t47787387\t47787777\tchrX_47787387_47787777_+\t1\t+\n"
     ]
    }
   ],
   "source": [
    "FNAME=A001.K562.starrseq.output.rep1.GATA1.fragment_counts.stranded.bed\n",
    "head -3 ${FDIRY}/${FNAME}"
   ]
  },
  {
   "cell_type": "markdown",
   "id": "8a7933f1-743c-4a4b-abd6-b747d7dce75f",
   "metadata": {},
   "source": [
    "**Region: MYC**"
   ]
  },
  {
   "cell_type": "code",
   "execution_count": 14,
   "id": "8bd8dc19-3fe3-4589-8bb6-e80ea82b3817",
   "metadata": {},
   "outputs": [
    {
     "name": "stdout",
     "output_type": "stream",
     "text": [
      "chr8\t126736069\t126736518\tchr8_126736069_126736518\t1\t.\n",
      "chr8\t126736096\t126736559\tchr8_126736096_126736559\t1\t.\n",
      "chr8\t126736430\t126736781\tchr8_126736430_126736781\t1\t.\n"
     ]
    }
   ],
   "source": [
    "FNAME=A001.K562.starrseq.input.rep1.MYC.fragment_counts.unstranded.bed\n",
    "head -3 ${FDIRY}/${FNAME}"
   ]
  },
  {
   "cell_type": "code",
   "execution_count": 15,
   "id": "8dcc64b9-9240-4a83-9a1c-5fefd1c55904",
   "metadata": {},
   "outputs": [
    {
     "name": "stdout",
     "output_type": "stream",
     "text": [
      "chr8\t126735996\t126736411\tchr8_126735996_126736411\t1\t.\n",
      "chr8\t126736045\t126736620\tchr8_126736045_126736620\t1\t.\n",
      "chr8\t126736051\t126736570\tchr8_126736051_126736570\t1\t.\n"
     ]
    }
   ],
   "source": [
    "FNAME=A001.K562.starrseq.output.rep1.MYC.fragment_counts.unstranded.bed\n",
    "head -3 ${FDIRY}/${FNAME}"
   ]
  },
  {
   "cell_type": "code",
   "execution_count": 16,
   "id": "43243ddf-542b-4883-9e3f-da3ccbd81c8a",
   "metadata": {},
   "outputs": [
    {
     "name": "stdout",
     "output_type": "stream",
     "text": [
      "chr8\t126736069\t126736518\tchr8_126736069_126736518_+\t1\t+\n",
      "chr8\t126736096\t126736559\tchr8_126736096_126736559_-\t1\t-\n",
      "chr8\t126736430\t126736781\tchr8_126736430_126736781_+\t1\t+\n"
     ]
    }
   ],
   "source": [
    "FNAME=A001.K562.starrseq.input.rep1.MYC.fragment_counts.stranded.bed\n",
    "head -3 ${FDIRY}/${FNAME}"
   ]
  },
  {
   "cell_type": "code",
   "execution_count": 17,
   "id": "46b8266e-a933-4e6c-b317-6b0a173c88df",
   "metadata": {},
   "outputs": [
    {
     "name": "stdout",
     "output_type": "stream",
     "text": [
      "chr8\t126735996\t126736411\tchr8_126735996_126736411_-\t1\t-\n",
      "chr8\t126736045\t126736620\tchr8_126736045_126736620_+\t1\t+\n",
      "chr8\t126736051\t126736570\tchr8_126736051_126736570_-\t1\t-\n"
     ]
    }
   ],
   "source": [
    "FNAME=A001.K562.starrseq.output.rep1.MYC.fragment_counts.stranded.bed\n",
    "head -3 ${FDIRY}/${FNAME}"
   ]
  },
  {
   "cell_type": "code",
   "execution_count": null,
   "id": "445a85a8-e197-4b0b-8d2c-3c1bb45ee3a3",
   "metadata": {},
   "outputs": [],
   "source": []
  }
 ],
 "metadata": {
  "kernelspec": {
   "display_name": "Bash",
   "language": "bash",
   "name": "bash"
  },
  "language_info": {
   "codemirror_mode": "shell",
   "file_extension": ".sh",
   "mimetype": "text/x-sh",
   "name": "bash"
  }
 },
 "nbformat": 4,
 "nbformat_minor": 5
}
