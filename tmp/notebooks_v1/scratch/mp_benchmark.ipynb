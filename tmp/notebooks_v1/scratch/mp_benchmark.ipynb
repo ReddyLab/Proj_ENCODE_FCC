{
 "cells": [
  {
   "cell_type": "markdown",
   "id": "7ee1f935-c962-41ac-8260-5a4269d0d1d0",
   "metadata": {},
   "source": [
    "**Set environment**"
   ]
  },
  {
   "cell_type": "code",
   "execution_count": 1,
   "id": "1a78f65e-137d-4054-8441-57827089f513",
   "metadata": {},
   "outputs": [
    {
     "name": "stdout",
     "output_type": "stream",
     "text": [
      "You are on Duke Server: DCC\n",
      "BASE DIRECTORY:     /work/kk319\n",
      "PATH OF SOURCE:     /hpc/group/reddylab/Kuei/source\n",
      "PATH OF EXECUTABLE: /hpc/group/reddylab/Kuei/exe\n",
      "PATH OF ANNOTATION: /hpc/group/reddylab/Kuei/annotation\n",
      "PATH OF PROJECT:    /hpc/home/kk319/GitRepo/Proj_CombEffect_ENCODE_FCC/notebooks\n",
      "PATH OF RESULTS:    /work/kk319/out/proj_combeffect_encode_fcc\n",
      "\n"
     ]
    }
   ],
   "source": [
    "source ../config_duke.sh -v"
   ]
  },
  {
   "cell_type": "code",
   "execution_count": 8,
   "id": "c08a9dfb-280d-4ba6-8148-ca0694e6fac4",
   "metadata": {},
   "outputs": [
    {
     "name": "stdout",
     "output_type": "stream",
     "text": [
      "Submitted batch job 2487301\n"
     ]
    }
   ],
   "source": [
    "sbatch -p ${NODE} \\\n",
    "    -n 20 \\\n",
    "    --mem 8G \\\n",
    "    -o ${FD_LOG}/mp_benchmark.txt \\\n",
    "    <<'EOF'\n",
    "#!/bin/bash\n",
    "### set directories & global variables\n",
    "source ../config_duke.sh\n",
    "\n",
    "### print start message\n",
    "timer_start=`date +%s`\n",
    "echo \"Slurm Array Index: \" ${SLURM_ARRAY_TASK_ID}\n",
    "echo \"Time Stamp:        \" $(date +\"%m-%d-%y+%T\")\n",
    "echo\n",
    "\n",
    "### execution\n",
    "${FD_PRJ}/sing_proj_encode_fcc.sh python mp_benchmark.py\n",
    "\n",
    "### print end message\n",
    "timer=`date +%s`\n",
    "runtime=$(echo \"${timer} - ${timer_start}\" | bc -l)\n",
    "echo\n",
    "echo 'Done!'\n",
    "echo \"Run Time: $(displaytime ${runtime})\"\n",
    "\n",
    "EOF"
   ]
  },
  {
   "cell_type": "code",
   "execution_count": 9,
   "id": "5ef707e2-1e7d-464d-8121-5a5e1049b7ce",
   "metadata": {},
   "outputs": [
    {
     "name": "stdout",
     "output_type": "stream",
     "text": [
      "Slurm Array Index: \n",
      "Time Stamp:         04-17-22+20:00:03\n",
      "\n",
      "\n",
      "Parallel processing with 54 cores\n",
      "Sum of primes below 100000 is 454396537\n",
      "Sum of primes below 200000 is 1709600813\n",
      "Sum of primes below 300000 is 3709507114\n",
      "Sum of primes below 400000 is 6458901531\n",
      "Sum of primes below 500000 is 9914236195\n",
      "Sum of primes below 600000 is 14071826345\n",
      "Sum of primes below 700000 is 18910286312\n",
      "Sum of primes below 800000 is 24465663438\n",
      "Sum of primes below 900000 is 30689332265\n",
      "Time elapsed:  5.311699628829956 s\n",
      "\n",
      "Serial processing\n",
      "100000: 454396537\n",
      "200000: 1709600813\n",
      "300000: 3709507114\n",
      "400000: 6458901531\n",
      "500000: 9914236195\n",
      "600000: 14071826345\n",
      "700000: 18910286312\n",
      "800000: 24465663438\n",
      "900000: 30689332265\n",
      "Time elapsed:  21.01042604446411 s\n",
      "\n",
      "Done!\n",
      "Run Time: 30 seconds\n"
     ]
    }
   ],
   "source": [
    "cat ${FD_LOG}/mp_benchmark.txt"
   ]
  },
  {
   "cell_type": "code",
   "execution_count": 7,
   "id": "3b5991e9-278a-434f-bbe2-69d59034b7cf",
   "metadata": {},
   "outputs": [
    {
     "name": "stdout",
     "output_type": "stream",
     "text": [
      "Slurm Array Index: \n",
      "Time Stamp:         04-17-22+19:58:43\n",
      "\n",
      "\n",
      "Parallel processing with 16 cores\n",
      "Sum of primes below 100000 is 454396537\n",
      "Sum of primes below 200000 is 1709600813\n",
      "Sum of primes below 300000 is 3709507114\n",
      "Sum of primes below 400000 is 6458901531\n",
      "Sum of primes below 500000 is 9914236195\n",
      "Sum of primes below 600000 is 14071826345\n",
      "Sum of primes below 700000 is 18910286312\n",
      "Sum of primes below 800000 is 24465663438\n",
      "Sum of primes below 900000 is 30689332265\n",
      "Time elapsed:  12.682986974716187 s\n",
      "\n",
      "Serial processing\n",
      "100000: 454396537\n",
      "200000: 1709600813\n",
      "300000: 3709507114\n",
      "400000: 6458901531\n",
      "500000: 9914236195\n",
      "600000: 14071826345\n",
      "700000: 18910286312\n",
      "800000: 24465663438\n",
      "900000: 30689332265\n",
      "Time elapsed:  23.313191413879395 s\n",
      "\n",
      "Done!\n",
      "Run Time: 40 seconds\n"
     ]
    }
   ],
   "source": [
    "cat ${FD_LOG}/mp_benchmark.txt"
   ]
  },
  {
   "cell_type": "code",
   "execution_count": 5,
   "id": "2bbe9e91-2362-43f7-a9ad-c9e2806bc5f2",
   "metadata": {},
   "outputs": [
    {
     "name": "stdout",
     "output_type": "stream",
     "text": [
      "Slurm Array Index: \n",
      "Time Stamp:         04-17-22+19:53:02\n",
      "\n",
      "\n",
      "Parallel processing with 46 cores\n",
      "Sum of primes below 100000 is 454396537\n",
      "Sum of primes below 200000 is 1709600813\n",
      "Sum of primes below 300000 is 3709507114\n",
      "Sum of primes below 400000 is 6458901531\n",
      "Sum of primes below 500000 is 9914236195\n",
      "Sum of primes below 600000 is 14071826345\n",
      "Sum of primes below 700000 is 18910286312\n",
      "Sum of primes below 800000 is 24465663438\n",
      "Sum of primes below 900000 is 30689332265\n",
      "Time elapsed:  41.43776297569275 s\n",
      "\n",
      "Serial processing\n",
      "100000: 454396537\n",
      "200000: 1709600813\n",
      "300000: 3709507114\n",
      "400000: 6458901531\n",
      "500000: 9914236195\n",
      "600000: 14071826345\n",
      "700000: 18910286312\n",
      "800000: 24465663438\n",
      "900000: 30689332265\n",
      "Time elapsed:  27.326711177825928 s\n",
      "\n",
      "Done!\n",
      "Run Time: 1 minutes and 9 seconds\n"
     ]
    }
   ],
   "source": [
    "cat ${FD_LOG}/mp_benchmark.txt"
   ]
  },
  {
   "cell_type": "code",
   "execution_count": null,
   "id": "f1b331a9-1a5d-4ee6-aec6-ecd9920b8820",
   "metadata": {},
   "outputs": [],
   "source": []
  }
 ],
 "metadata": {
  "kernelspec": {
   "display_name": "Bash",
   "language": "bash",
   "name": "bash"
  },
  "language_info": {
   "codemirror_mode": "shell",
   "file_extension": ".sh",
   "mimetype": "text/x-sh",
   "name": "bash"
  }
 },
 "nbformat": 4,
 "nbformat_minor": 5
}
