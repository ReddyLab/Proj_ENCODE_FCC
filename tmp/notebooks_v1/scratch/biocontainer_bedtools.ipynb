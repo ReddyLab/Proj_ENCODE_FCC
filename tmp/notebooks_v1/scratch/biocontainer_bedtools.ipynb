{
 "cells": [
  {
   "cell_type": "code",
   "execution_count": 1,
   "id": "5de7e71d-68c9-4404-8169-c9569effc5c4",
   "metadata": {},
   "outputs": [
    {
     "name": "stdout",
     "output_type": "stream",
     "text": [
      "You are on Duke Server: HARDAC\n",
      "BASE DIRECTORY:     /gpfs/fs1/data/reddylab/Kuei\n",
      "PATH OF SOURCE:     /gpfs/fs1/data/reddylab/Kuei/source\n",
      "PATH OF EXECUTABLE: /gpfs/fs1/data/reddylab/Kuei/exe\n",
      "PATH OF ANNOTATION: /gpfs/fs1/data/reddylab/Kuei/annotation\n",
      "PATH OF PROJECT:    /gpfs/fs1/data/reddylab/Kuei/GitRepo/Proj_CombEffect_ENCODE_FCC/notebooks\n",
      "PATH OF RESULTS:    /gpfs/fs1/data/reddylab/Kuei/out/proj_combeffect_encode_fcc\n",
      "\n"
     ]
    }
   ],
   "source": [
    "source ../config_duke.sh\n",
    "show_env"
   ]
  },
  {
   "cell_type": "code",
   "execution_count": 2,
   "id": "9de2e6f5-daf7-4cb9-b89e-631bb31f4107",
   "metadata": {},
   "outputs": [
    {
     "name": "stdout",
     "output_type": "stream",
     "text": [
      "/gpfs/fs1/data/reddylab/Kuei/singularity\n"
     ]
    }
   ],
   "source": [
    "echo ${FD_SING}"
   ]
  },
  {
   "cell_type": "code",
   "execution_count": 3,
   "id": "7a96dfc0-e904-42ce-94cb-e58d44e4b4a9",
   "metadata": {},
   "outputs": [
    {
     "name": "stdout",
     "output_type": "stream",
     "text": [
      "\u001b[0m\u001b[38;5;27mbiocontainer\u001b[0m                           \u001b[38;5;34msingularity_proj_combeffect.sif\u001b[0m\n",
      "\u001b[38;5;27mhome\u001b[0m                                   \u001b[38;5;34msingularity_scipy_scratch.sif\u001b[0m\n",
      "\u001b[38;5;27mrstudio_tmp\u001b[0m                            singularity_tensorflow_scratch.sif\n",
      "\u001b[38;5;34msingularity_doc.sif\u001b[0m                    \u001b[38;5;34msingularity_test.sif\u001b[0m\n",
      "singularity-example.sif                \u001b[38;5;34msingularity_tidyverse_scratch.sif\u001b[0m\n",
      "singularity_proj_combeffect_model.sif  \u001b[38;5;34msingularity_tidyverse.sif\u001b[0m\n"
     ]
    }
   ],
   "source": [
    "ls ${FD_SING}"
   ]
  },
  {
   "cell_type": "code",
   "execution_count": 4,
   "id": "317190ad-5af9-4e95-9fd7-a299dfc9a654",
   "metadata": {},
   "outputs": [
    {
     "name": "stdout",
     "output_type": "stream",
     "text": [
      "\u001b[0m\u001b[38;5;34mbedtools:2.30.0--h468198e_3\u001b[0m  \u001b[38;5;34mdeeptools:3.5.1--py_0\u001b[0m\n"
     ]
    }
   ],
   "source": [
    "ls ${FD_SING}/biocontainer"
   ]
  },
  {
   "cell_type": "code",
   "execution_count": 5,
   "id": "43c05a1a-d59d-4e87-af70-9691aecd13ea",
   "metadata": {},
   "outputs": [
    {
     "name": "stdout",
     "output_type": "stream",
     "text": [
      "\u001b[0m\u001b[38;5;34mbedtools\u001b[0m  \u001b[38;5;34mdeeptools\u001b[0m  \u001b[38;5;34mhogs\u001b[0m  \u001b[38;5;34mmonitor.sh\u001b[0m  \u001b[38;5;34mwatching.sh\u001b[0m\n"
     ]
    }
   ],
   "source": [
    "ls ${FD_BIN}"
   ]
  },
  {
   "cell_type": "code",
   "execution_count": 6,
   "id": "131d3381-17e8-4082-bd45-7244dde203ce",
   "metadata": {},
   "outputs": [
    {
     "name": "stdout",
     "output_type": "stream",
     "text": [
      "#!/bin/bash\n",
      "\n",
      "########################################\n",
      "### Wrapper of bedtools container\n",
      "########################################\n",
      "\n",
      "IMAGE=/gpfs/fs1/data/reddylab/Kuei/singularity/biocontainer/bedtools:2.30.0--h468198e_3\n",
      "\n",
      "CMD=\"bedtools\"\n",
      "ARGS=\"$@\"\n",
      "\n",
      "singularity exec ${IMAGE} ${CMD} ${ARGS}\n",
      "\n"
     ]
    }
   ],
   "source": [
    "cat ${FD_BIN}/bedtools"
   ]
  },
  {
   "cell_type": "markdown",
   "id": "5197dfcb-3f5f-41ae-8fae-632f9edac889",
   "metadata": {},
   "source": [
    "## Test"
   ]
  },
  {
   "cell_type": "markdown",
   "id": "7fa09d8d-12a6-4cfe-9aa3-286c9dc3923b",
   "metadata": {},
   "source": [
    "```\n",
    "export PATH=\"/data/reddylab/Kuei/bin:$PATH\"\n",
    "```"
   ]
  },
  {
   "cell_type": "code",
   "execution_count": 7,
   "id": "9690ae5d-391c-4fb1-8614-f56aed84311e",
   "metadata": {},
   "outputs": [
    {
     "name": "stdout",
     "output_type": "stream",
     "text": [
      "bedtools is a powerful toolset for genome arithmetic.\n",
      "\n",
      "Version:   v2.30.0\n",
      "About:     developed in the quinlanlab.org and by many contributors worldwide.\n",
      "Docs:      http://bedtools.readthedocs.io/\n",
      "Code:      https://github.com/arq5x/bedtools2\n",
      "Mail:      https://groups.google.com/forum/#!forum/bedtools-discuss\n",
      "\n",
      "Usage:     bedtools <subcommand> [options]\n",
      "\n",
      "The bedtools sub-commands include:\n",
      "\n",
      "[ Genome arithmetic ]\n",
      "    intersect     Find overlapping intervals in various ways.\n",
      "    window        Find overlapping intervals within a window around an interval.\n",
      "    closest       Find the closest, potentially non-overlapping interval.\n",
      "    coverage      Compute the coverage over defined intervals.\n",
      "    map           Apply a function to a column for each overlapping interval.\n",
      "    genomecov     Compute the coverage over an entire genome.\n",
      "    merge         Combine overlapping/nearby intervals into a single interval.\n",
      "    cluster       Cluster (but don't merge) overlapping/nearby intervals.\n",
      "    complement    Extract intervals _not_ represented by an interval file.\n",
      "    shift         Adjust the position of intervals.\n",
      "    subtract      Remove intervals based on overlaps b/w two files.\n",
      "    slop          Adjust the size of intervals.\n",
      "    flank         Create new intervals from the flanks of existing intervals.\n",
      "    sort          Order the intervals in a file.\n",
      "    random        Generate random intervals in a genome.\n",
      "    shuffle       Randomly redistribute intervals in a genome.\n",
      "    sample        Sample random records from file using reservoir sampling.\n",
      "    spacing       Report the gap lengths between intervals in a file.\n",
      "    annotate      Annotate coverage of features from multiple files.\n",
      "\n",
      "[ Multi-way file comparisons ]\n",
      "    multiinter    Identifies common intervals among multiple interval files.\n",
      "    unionbedg     Combines coverage intervals from multiple BEDGRAPH files.\n",
      "\n",
      "[ Paired-end manipulation ]\n",
      "    pairtobed     Find pairs that overlap intervals in various ways.\n",
      "    pairtopair    Find pairs that overlap other pairs in various ways.\n",
      "\n",
      "[ Format conversion ]\n",
      "    bamtobed      Convert BAM alignments to BED (& other) formats.\n",
      "    bedtobam      Convert intervals to BAM records.\n",
      "    bamtofastq    Convert BAM records to FASTQ records.\n",
      "    bedpetobam    Convert BEDPE intervals to BAM records.\n",
      "    bed12tobed6   Breaks BED12 intervals into discrete BED6 intervals.\n",
      "\n",
      "[ Fasta manipulation ]\n",
      "    getfasta      Use intervals to extract sequences from a FASTA file.\n",
      "    maskfasta     Use intervals to mask sequences from a FASTA file.\n",
      "    nuc           Profile the nucleotide content of intervals in a FASTA file.\n",
      "\n",
      "[ BAM focused tools ]\n",
      "    multicov      Counts coverage from multiple BAMs at specific intervals.\n",
      "    tag           Tag BAM alignments based on overlaps with interval files.\n",
      "\n",
      "[ Statistical relationships ]\n",
      "    jaccard       Calculate the Jaccard statistic b/w two sets of intervals.\n",
      "    reldist       Calculate the distribution of relative distances b/w two files.\n",
      "    fisher        Calculate Fisher statistic b/w two feature files.\n",
      "\n",
      "[ Miscellaneous tools ]\n",
      "    overlap       Computes the amount of overlap from two intervals.\n",
      "    igv           Create an IGV snapshot batch script.\n",
      "    links         Create a HTML page of links to UCSC locations.\n",
      "    makewindows   Make interval \"windows\" across a genome.\n",
      "    groupby       Group by common cols. & summarize oth. cols. (~ SQL \"groupBy\")\n",
      "    expand        Replicate lines based on lists of values in columns.\n",
      "    split         Split a file into multiple files with equal records or base pairs.\n",
      "    summary       Statistical summary of intervals in a file.\n",
      "\n",
      "[ General Parameters ]\n",
      "     --cram-ref    Reference used by a CRAM input\n",
      "\n",
      "[ General help ]\n",
      "    --help        Print this help menu.\n",
      "    --version     What version of bedtools are you using?.\n",
      "    --contact     Feature requests, bugs, mailing lists, etc.\n",
      "\n"
     ]
    }
   ],
   "source": [
    "bedtools"
   ]
  },
  {
   "cell_type": "code",
   "execution_count": 8,
   "id": "fa66f125-82b2-4d77-b062-69261df043a0",
   "metadata": {},
   "outputs": [
    {
     "name": "stdout",
     "output_type": "stream",
     "text": [
      "/data/reddylab/Kuei/bin/bedtools\n"
     ]
    }
   ],
   "source": [
    "which bedtools"
   ]
  },
  {
   "cell_type": "code",
   "execution_count": 10,
   "id": "004291c3-6aa0-46ba-b713-5d97097dcd7f",
   "metadata": {},
   "outputs": [
    {
     "name": "stdout",
     "output_type": "stream",
     "text": [
      "bedtools v2.30.0\n"
     ]
    }
   ],
   "source": [
    "bedtools -version"
   ]
  },
  {
   "cell_type": "code",
   "execution_count": 11,
   "id": "206f87bd-d2c5-4ca2-a346-de9183344581",
   "metadata": {},
   "outputs": [
    {
     "name": "stdout",
     "output_type": "stream",
     "text": [
      "/gpfs/fs1/data/reddylab/Kuei/bin/bedtools\n"
     ]
    }
   ],
   "source": [
    "which bedtools"
   ]
  },
  {
   "cell_type": "code",
   "execution_count": 9,
   "id": "8832500e-e356-4d66-bed2-4f37f58471e1",
   "metadata": {},
   "outputs": [],
   "source": [
    "TAB=\"$(printf '\\t')\""
   ]
  },
  {
   "cell_type": "code",
   "execution_count": 10,
   "id": "4459038d-cf52-48eb-82d1-1436fc35cb1f",
   "metadata": {},
   "outputs": [],
   "source": [
    "cat > A.bed << EOF\n",
    "chr1${TAB}05${TAB}50\n",
    "EOF\n",
    "\n",
    "cat > B.bed << EOF\n",
    "chr1${TAB}10${TAB}20\n",
    "chr1${TAB}15${TAB}40\n",
    "EOF"
   ]
  },
  {
   "cell_type": "code",
   "execution_count": 11,
   "id": "b562ff65-691a-406e-824d-2242cc26cdf4",
   "metadata": {},
   "outputs": [
    {
     "name": "stdout",
     "output_type": "stream",
     "text": [
      "chr1\t05\t50\n"
     ]
    }
   ],
   "source": [
    "### region\n",
    "cat A.bed"
   ]
  },
  {
   "cell_type": "code",
   "execution_count": 12,
   "id": "523817a6-16b3-4ceb-bb6f-79d15a3c3c5d",
   "metadata": {},
   "outputs": [
    {
     "name": "stdout",
     "output_type": "stream",
     "text": [
      "chr1\t10\t20\n",
      "chr1\t15\t40\n"
     ]
    }
   ],
   "source": [
    "### fragments\n",
    "cat B.bed"
   ]
  },
  {
   "cell_type": "code",
   "execution_count": 15,
   "id": "af070168-2348-41d6-9c0e-31c664f9b156",
   "metadata": {},
   "outputs": [
    {
     "name": "stdout",
     "output_type": "stream",
     "text": [
      "Error: Unable to open file ./A.bed. Exiting.\n"
     ]
    },
    {
     "ename": "",
     "evalue": "1",
     "output_type": "error",
     "traceback": []
    }
   ],
   "source": [
    "bedtools coverage -a ./A.bed -b ./B.bed -d"
   ]
  },
  {
   "cell_type": "code",
   "execution_count": 14,
   "id": "42897a14-9060-40f7-91a6-711edd441046",
   "metadata": {},
   "outputs": [
    {
     "name": "stdout",
     "output_type": "stream",
     "text": [
      "A.bed                        granges_test.ipynb      R_slice_window.ipynb\n",
      "\u001b[0m\u001b[38;5;27mAlex\u001b[0m                         heredoc_sing.ipynb      rtracklayer_export.ipynb\n",
      "B.bed                        heredoc_tested.ipynb    sbatch_heredoc.txt\n",
      "bedtools_coverage.ipynb      ipywidget_embed.ipynb   search_alex_code.ipynb\n",
      "bedtools_coverage_sum.ipynb  ipywidget_test.ipynb    Sing_heredoc.ipynb\n",
      "bedtools_intersect.ipynb     mp_benchmark.ipynb      sing_heredoc.txt\n",
      "biocontainer_bedtools.ipynb  mp_benchmark.py         test.bed\n",
      "\u001b[38;5;9mC.bed.gz\u001b[0m                     plotly_r.ipynb          test.bw\n",
      "colors_R.ipynb               plotly_slider_py.ipynb  \u001b[38;5;34mtest.sh\u001b[0m\n",
      "ggvis_slider.ipynb           R_bins_barplot.ipynb    tmp_frag_gc.ipynb\n"
     ]
    }
   ],
   "source": [
    "ls"
   ]
  },
  {
   "cell_type": "code",
   "execution_count": null,
   "id": "961e6f86-adae-40de-a075-692a1a7347b0",
   "metadata": {},
   "outputs": [],
   "source": []
  }
 ],
 "metadata": {
  "kernelspec": {
   "display_name": "Bash",
   "language": "bash",
   "name": "bash"
  },
  "language_info": {
   "codemirror_mode": "shell",
   "file_extension": ".sh",
   "mimetype": "text/x-sh",
   "name": "bash"
  }
 },
 "nbformat": 4,
 "nbformat_minor": 5
}
