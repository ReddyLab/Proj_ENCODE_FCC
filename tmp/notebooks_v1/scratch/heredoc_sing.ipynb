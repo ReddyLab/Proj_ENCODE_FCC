{
 "cells": [
  {
   "cell_type": "code",
   "execution_count": 1,
   "id": "627f4e57-42b3-4122-8979-409e19197df5",
   "metadata": {},
   "outputs": [
    {
     "name": "stdout",
     "output_type": "stream",
     "text": [
      "You are on Duke Server: HARDAC\n",
      "BASE DIRECTORY:     /gpfs/fs1/data/reddylab/Kuei\n",
      "PATH OF SOURCE:     /gpfs/fs1/data/reddylab/Kuei/source\n",
      "PATH OF EXECUTABLE: /gpfs/fs1/data/reddylab/Kuei/exe\n",
      "PATH OF ANNOTATION: /gpfs/fs1/data/reddylab/Kuei/annotation\n",
      "PATH OF PROJECT:    /gpfs/fs1/data/reddylab/Kuei/GitRepo/Proj_CombEffect_ENCODE_FCC/notebooks\n",
      "PATH OF RESULTS:    /gpfs/fs1/data/reddylab/Kuei/out/proj_combeffect_encode_fcc\n",
      "\n"
     ]
    }
   ],
   "source": [
    "source ../config_duke.sh; show_env"
   ]
  },
  {
   "cell_type": "code",
   "execution_count": 3,
   "id": "82615756-96c3-495b-8daa-ffa2167e652f",
   "metadata": {},
   "outputs": [
    {
     "name": "stdout",
     "output_type": "stream",
     "text": [
      "#!/bin/bash\n",
      "\n",
      "\n",
      "echo ${BASH_SOURCE[0]}\n",
      "### get file path\n",
      "### Stackoverflow: how-can-i-get-the-source-directory-of-a-bash-script-from-within-the-script-itself\n",
      "SCRIPT_DIR=\"$( cd \"$( dirname \"${BASH_SOURCE[0]}\" )\" &> /dev/null && pwd )\"\n",
      "source ${SCRIPT_DIR}/config_duke.sh\n",
      "\n",
      "### execute\n",
      "singularity exec \\\n",
      "    -H ${PWD}:/home \\\n",
      "    -B ${FD_WORK}:/mount/work \\\n",
      "    -B ${FD_PRJ}:/mount/project \\\n",
      "    -B ${FD_RLAB}:/mount/reddylab \\\n",
      "    \"$@\"\n",
      "\n"
     ]
    }
   ],
   "source": [
    "cat ${FD_PRJ}/sing_proj_encode_fcc.sh"
   ]
  },
  {
   "cell_type": "code",
   "execution_count": 4,
   "id": "73faaad1-ca82-450d-ab39-92e71bf96432",
   "metadata": {},
   "outputs": [
    {
     "name": "stdout",
     "output_type": "stream",
     "text": [
      "/gpfs/fs1/data/reddylab/Kuei/singularity/singularity_proj_combeffect.sif\n"
     ]
    }
   ],
   "source": [
    "echo ${FP_SIF}"
   ]
  },
  {
   "cell_type": "code",
   "execution_count": 5,
   "id": "d98e30c7-bfb4-4bf0-ae22-7bac02c2fe74",
   "metadata": {},
   "outputs": [
    {
     "name": "stdout",
     "output_type": "stream",
     "text": [
      "/gpfs/fs1/data/reddylab/Kuei/GitRepo/Proj_CombEffect_ENCODE_FCC/notebooks/sing_proj_encode_fcc.sh\n",
      "X:\n",
      "Y: 20\n"
     ]
    }
   ],
   "source": [
    "X=10\n",
    "${FD_PRJ}/sing_proj_encode_fcc.sh ${FP_SIF} /bin/bash << 'EOF'\n",
    "    Y=20\n",
    "    echo X: ${X}\n",
    "    echo Y: ${Y}\n",
    "EOF"
   ]
  },
  {
   "cell_type": "code",
   "execution_count": 6,
   "id": "d8378846-17d4-45f1-a459-d7ae57e2b671",
   "metadata": {},
   "outputs": [
    {
     "name": "stdout",
     "output_type": "stream",
     "text": [
      "/gpfs/fs1/data/reddylab/Kuei/GitRepo/Proj_CombEffect_ENCODE_FCC/notebooks/sing_proj_encode_fcc.sh\n",
      "X: 10\n",
      "Y: 20\n"
     ]
    }
   ],
   "source": [
    "X=10\n",
    "${FD_PRJ}/sing_proj_encode_fcc.sh --env X=${X} ${FP_SIF} /bin/bash << 'EOF'\n",
    "    Y=20\n",
    "    echo X: ${X}\n",
    "    echo Y: ${Y}\n",
    "EOF"
   ]
  },
  {
   "cell_type": "code",
   "execution_count": 7,
   "id": "b1c33d91-e46b-4af9-8a57-423613082b4d",
   "metadata": {},
   "outputs": [
    {
     "name": "stdout",
     "output_type": "stream",
     "text": [
      "/gpfs/fs1/data/reddylab/Kuei/GitRepo/Proj_CombEffect_ENCODE_FCC/notebooks/sing_proj_encode_fcc.sh\n",
      "X: 10\n",
      "Y: 20\n",
      "Z: 10\n"
     ]
    }
   ],
   "source": [
    "X=10\n",
    "Z=50\n",
    "${FD_PRJ}/sing_proj_encode_fcc.sh --env X=${X} --env Z=${X} ${FP_SIF} /bin/bash << 'EOF'\n",
    "    Y=20\n",
    "    echo X: ${X}\n",
    "    echo Y: ${Y}\n",
    "    echo Z: ${Z}\n",
    "EOF"
   ]
  },
  {
   "cell_type": "code",
   "execution_count": 5,
   "id": "16616cad-34cd-4d74-875f-d24c6f10bbf5",
   "metadata": {},
   "outputs": [
    {
     "name": "stdout",
     "output_type": "stream",
     "text": [
      "/gpfs/fs1/data/reddylab/Kuei/GitRepo/Proj_CombEffect_ENCODE_FCC/notebooks/sing_proj_encode_fcc.sh\n",
      "KS91_K562_ASTARRseq   log\t\t    source\n",
      "Tewhey_K562_TileMPRA  regulatory_landscape  track_compare\n"
     ]
    }
   ],
   "source": [
    "${FD_PRJ}/sing_proj_encode_fcc.sh ${FP_SIF} /bin/bash << 'EOF'\n",
    "    source /mount/project/config_sing.sh\n",
    "    ls ${FD_RES}\n",
    "EOF"
   ]
  },
  {
   "cell_type": "code",
   "execution_count": null,
   "id": "7c14f5ea-3441-4b07-95cf-ddee21e77ae0",
   "metadata": {},
   "outputs": [],
   "source": []
  }
 ],
 "metadata": {
  "kernelspec": {
   "display_name": "Bash",
   "language": "bash",
   "name": "bash"
  },
  "language_info": {
   "codemirror_mode": "shell",
   "file_extension": ".sh",
   "mimetype": "text/x-sh",
   "name": "bash"
  }
 },
 "nbformat": 4,
 "nbformat_minor": 5
}
