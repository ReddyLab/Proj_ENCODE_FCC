{
 "cells": [
  {
   "cell_type": "code",
   "execution_count": 1,
   "id": "17ecffe2",
   "metadata": {},
   "outputs": [
    {
     "name": "stdout",
     "output_type": "stream",
     "text": [
      "You are in: Singularity | singularity_proj_combeffect\n",
      "    BASE DIRECTORY:     /mount/work\n",
      "    PATH OF SOURCE:     /mount/work/source\n",
      "    PATH OF EXECUTABLE: /mount/work/exe\n",
      "    PATH OF ANNOTATION: /mount/work/annotation\n",
      "    PATH OF PROJECT:    /mount/project\n",
      "    PATH OF RESULTS:    /mount/work/out/proj_combeffect_encode_fcc\n",
      "\n",
      "Library imported:\n",
      "    numpy, pandas, matplotlib.pyplot\n",
      "    os, sys, time, gzip, glob\n",
      "\n"
     ]
    }
   ],
   "source": [
    "### basic\n",
    "import sys\n",
    "sys.path.append('../')\n",
    "from config_sing import *\n",
    "show_env()"
   ]
  },
  {
   "cell_type": "code",
   "execution_count": 3,
   "id": "15764d80",
   "metadata": {},
   "outputs": [
    {
     "data": {
      "text/plain": [
       "'/mount/work/out/proj_combeffect_encode_fcc/KS91_K562_ASTARRseq/database'"
      ]
     },
     "execution_count": 3,
     "metadata": {},
     "output_type": "execute_result"
    }
   ],
   "source": [
    "fdiry = os.path.join(FD_RES, \"KS91_K562_ASTARRseq\", 'database')\n",
    "fdiry"
   ]
  },
  {
   "cell_type": "code",
   "execution_count": 4,
   "id": "daae6664",
   "metadata": {},
   "outputs": [
    {
     "name": "stdout",
     "output_type": "stream",
     "text": [
      " fragment_astarr_gata1.db  'fragment_astarr_gata1.db?mode=ro'\n"
     ]
    }
   ],
   "source": [
    "!ls '/mount/work/out/proj_combeffect_encode_fcc/KS91_K562_ASTARRseq/database'"
   ]
  },
  {
   "cell_type": "code",
   "execution_count": 2,
   "id": "f0b76969",
   "metadata": {},
   "outputs": [
    {
     "name": "stdout",
     "output_type": "stream",
     "text": [
      "['Input_rep1' 'Input_rep2' 'Input_rep3' 'Input_rep4' 'Input_rep5'\n",
      " 'Input_rep6' 'Output_rep1' 'Output_rep2' 'Output_rep3' 'Output_rep4']\n",
      "['Input' 'Input' 'Input' 'Input' 'Input' 'Input' 'Output' 'Output'\n",
      " 'Output' 'Output']\n"
     ]
    }
   ],
   "source": [
    "### specific tools\n",
    "from collections import defaultdict\n",
    "from functools import reduce\n",
    "import itertools as it\n",
    "import math\n",
    "import random\n",
    "import sqlite3\n",
    "# https://stackoverflow.com/questions/49456158/integer-in-python-pandas-becomes-blob-binary-in-sqlite\n",
    "sqlite3.register_adapter(np.int64, lambda val: int(val))\n",
    "sqlite3.register_adapter(np.int32, lambda val: int(val))\n",
    "\n",
    "### file path of fragment database\n",
    "fdiry = os.path.join(FD_RES, \"KS91_K562_ASTARRseq\", 'database')\n",
    "fname = \"fragment_astarr_gata1.db\"\n",
    "FPATH_DB_ASTARR_GATA1 = os.path.join(fdiry, fname)\n",
    "\n",
    "fdiry = os.path.join(FD_RES, \"KS91_K562_ASTARRseq\", 'database')\n",
    "fname = \"fragment_astarr_gata1.db\"\n",
    "FPATH_DB_ASTARR_GATA1 = os.path.join(fdiry, fname)\n",
    "\n",
    "\n",
    "fdiry = os.path.join(FD_RES, \"Tewhey_K562_TileMPRA\", 'database')\n",
    "fname = \"fragment_tilempra_gata1.db\"\n",
    "FPATH_DB_TMPRA = os.path.join(fdiry, fname)\n",
    "\n",
    "FPATHS_DB = [FPATH_DB_ASTARR, FPATH_DB_TMPRA]\n",
    "\n",
    "### samples of ATAC-STARR-seq\n",
    "fun = np.core.defchararray.add\n",
    "\n",
    "idx = np.arange(1,6+1).astype(\"str\")\n",
    "SAMPLES_INP = reduce(fun, [\"Input_rep\",   idx])\n",
    "\n",
    "idx = np.arange(1,4+1).astype(\"str\")\n",
    "SAMPLES_OUT = reduce(fun, [\"Output_rep\",  idx])\n",
    "\n",
    "SAMPLES = np.concatenate([SAMPLES_INP, SAMPLES_OUT])\n",
    "GROUPS  = np.r_[\n",
    "    np.repeat(\"Input\",  len(SAMPLES_INP)),\n",
    "    np.repeat(\"Output\", len(SAMPLES_OUT))\n",
    "]\n",
    "\n",
    "print(SAMPLES)\n",
    "print(GROUPS)"
   ]
  },
  {
   "cell_type": "code",
   "execution_count": null,
   "id": "dc0c91ab",
   "metadata": {},
   "outputs": [],
   "source": []
  },
  {
   "cell_type": "code",
   "execution_count": null,
   "id": "882f66fa",
   "metadata": {},
   "outputs": [],
   "source": []
  },
  {
   "cell_type": "code",
   "execution_count": null,
   "id": "4da258bb",
   "metadata": {},
   "outputs": [],
   "source": []
  },
  {
   "cell_type": "code",
   "execution_count": null,
   "id": "81e22fb3",
   "metadata": {},
   "outputs": [],
   "source": []
  },
  {
   "cell_type": "code",
   "execution_count": null,
   "id": "66d8b4eb",
   "metadata": {},
   "outputs": [],
   "source": []
  },
  {
   "cell_type": "code",
   "execution_count": null,
   "id": "0650f4bc",
   "metadata": {},
   "outputs": [],
   "source": []
  },
  {
   "cell_type": "code",
   "execution_count": null,
   "id": "635967bc",
   "metadata": {},
   "outputs": [],
   "source": [
    "### https://stackoverflow.com/questions/12581437/python-random-sample-with-a-generator-iterable-iterator\n",
    "def iter_sample_fast(iterable, samplesize):\n",
    "    \n",
    "    ### init\n",
    "    results = []\n",
    "    iterator = iter(iterable)\n",
    "    \n",
    "    ### Fill in the first samplesize elements:\n",
    "    try:\n",
    "        for _ in range(samplesize):\n",
    "            results.append(next(iterator))\n",
    "    except StopIteration:\n",
    "        ### return everything if samplesize > len(iterable)\n",
    "        random.shuffle(results)\n",
    "        return results\n",
    "    \n",
    "    ### continue iterating through the elements and update the list\n",
    "    random.shuffle(results)  # Randomize their positions\n",
    "    for i, v in enumerate(iterator, samplesize):\n",
    "        r = random.randint(0, i)\n",
    "        if r < samplesize:\n",
    "            results[r] = v  # at a decreasing rate, replace random items\n",
    "    return results"
   ]
  },
  {
   "cell_type": "code",
   "execution_count": null,
   "id": "c6e751d3",
   "metadata": {},
   "outputs": [],
   "source": [
    "def get_frag_astarr(sample, start=None, end=None, fpath_db = FPATH_DB_ASTARR):\n",
    "    \"\"\"sample fragments from ATAC-STARR-seq with probability proportion to count\"\"\"\n",
    "    ### set query\n",
    "    if (start is None) and (end is None):\n",
    "        query  = f\"\"\"\n",
    "            SELECT Cnt.fragment, Cnt.sample, Frg.pct_gc, Cnt.count\n",
    "            FROM   Count    Cnt\n",
    "            JOIN   Fragment Frg\n",
    "            ON     Cnt.fragment = Frg.fragment\n",
    "            WHERE  Cnt.sample = '{sample}'\n",
    "            \"\"\"\n",
    "    else:\n",
    "        query  = f\"\"\"\n",
    "            SELECT Cnt.fragment, Cnt.sample, Frg.pct_gc, Cnt.count\n",
    "            FROM   Count    Cnt\n",
    "            JOIN   Fragment Frg\n",
    "            ON     Cnt.fragment = Frg.fragment\n",
    "            WHERE  Cnt.sample = '{sample}' AND \n",
    "                   Frg.start >= '{start}'  AND \n",
    "                   Frg.end   <= '{end}'\n",
    "            \"\"\"\n",
    "    \n",
    "    fpath_db = \"file:\" + fpath_db + \"?mode=ro\"\n",
    "    with sqlite3.connect(fpath_db, uri=True) as conn:\n",
    "        ### query the fragment annotations\n",
    "        cursor = conn.cursor()\n",
    "        cursor = cursor.execute(query)\n",
    "        rows   = cursor\n",
    "        \n",
    "        ### generate fragments\n",
    "        for row in rows:\n",
    "            ### parse info\n",
    "            frg, sample, pct_gc, count = row\n",
    "            yield row\n",
    "            \n",
    "            ### repeat the each fragment based on its count\n",
    "            #for _ in range(count):\n",
    "            #    yield row    \n",
    "                \n",
    "def get_frag_tmpra(start=None, end=None, fpath_db = FPATH_DB_TMPRA):\n",
    "    \"\"\"sample fragments from TileMPRA with probability proportion to fold change\"\"\"\n",
    "    ### set query\n",
    "    if (start is None) and (end is None):\n",
    "        query  = \"\"\"\n",
    "            SELECT Cnt.fragment, Frg.pct_gc, Cnt.count_input, Cnt.count_output, Cnt.log2fc \n",
    "            FROM   Count Cnt\n",
    "            JOIN   Fragment Frg\n",
    "            ON     Cnt.fragment = Frg.fragment\n",
    "            \"\"\"\n",
    "    else:\n",
    "        query  = f\"\"\"\n",
    "            SELECT Cnt.fragment, Frg.pct_gc, Cnt.count_input, Cnt.count_output, Cnt.log2fc \n",
    "            FROM   Count    Cnt\n",
    "            JOIN   Fragment Frg\n",
    "            ON     Cnt.fragment = Frg.fragment\n",
    "            WHERE  Frg.start >= '{start}' AND \n",
    "                   Frg.end   <= '{end}'\n",
    "            \"\"\"\n",
    "        \n",
    "    fpath_db = \"file:\" + fpath_db + \"?mode=ro\"\n",
    "    with sqlite3.connect(fpath_db, uri=True) as conn:\n",
    "        ### query the fragment annotations\n",
    "        cursor = conn.cursor()\n",
    "        cursor = cursor.execute(query)\n",
    "        rows   = cursor\n",
    "\n",
    "        ### generate fragments\n",
    "        for row in rows:\n",
    "            ### parse info\n",
    "            frg, pct_gc, inp, out, log2fc = row\n",
    "            yield row\n",
    "            \n",
    "            ### repeat the each fragment based on its ratio\n",
    "            #ratio = np.exp2(log2fc)\n",
    "            #count = np.ceil(ratio).astype(np.int)\n",
    "            #for _ in range(count):\n",
    "            #    yield row"
   ]
  }
 ],
 "metadata": {
  "kernelspec": {
   "display_name": "Python 3",
   "language": "python",
   "name": "python3"
  },
  "language_info": {
   "codemirror_mode": {
    "name": "ipython",
    "version": 3
   },
   "file_extension": ".py",
   "mimetype": "text/x-python",
   "name": "python",
   "nbconvert_exporter": "python",
   "pygments_lexer": "ipython3",
   "version": "3.7.6"
  }
 },
 "nbformat": 4,
 "nbformat_minor": 5
}
