{
 "cells": [
  {
   "cell_type": "markdown",
   "metadata": {},
   "source": [
    "**Set environment**"
   ]
  },
  {
   "cell_type": "code",
   "execution_count": 1,
   "metadata": {},
   "outputs": [
    {
     "name": "stdout",
     "output_type": "stream",
     "text": [
      "You are on Duke Server: HARDAC\n",
      "BASE DIRECTORY:     /gpfs/fs1/data/reddylab/Kuei\n",
      "PATH OF SOURCE:     /gpfs/fs1/data/reddylab/Kuei/source\n",
      "PATH OF EXECUTABLE: /gpfs/fs1/data/reddylab/Kuei/exe\n",
      "PATH OF ANNOTATION: /gpfs/fs1/data/reddylab/Kuei/annotation\n",
      "PATH OF PROJECT:    /gpfs/fs1/data/reddylab/Kuei/GitRepo/Proj_ENCODE_FCC/notebooks\n",
      "PATH OF RESULTS:    /gpfs/fs1/data/reddylab/Kuei/out/proj_encode_fcc\n",
      "\n"
     ]
    }
   ],
   "source": [
    "source ../config_duke.sh -v"
   ]
  },
  {
   "cell_type": "markdown",
   "metadata": {},
   "source": [
    "**Check data**"
   ]
  },
  {
   "cell_type": "code",
   "execution_count": 2,
   "metadata": {},
   "outputs": [
    {
     "name": "stdout",
     "output_type": "stream",
     "text": [
      "\u001b[0m\u001b[38;5;9mKS91_K562_hg38_ASTARRseq_Input_rep1.GATA1.unstranded.dedups.perbase.tsv.gz\u001b[0m\n",
      "\u001b[38;5;9mKS91_K562_hg38_ASTARRseq_Input_rep2.GATA1.unstranded.dedups.perbase.tsv.gz\u001b[0m\n",
      "\u001b[38;5;9mKS91_K562_hg38_ASTARRseq_Input_rep3.GATA1.unstranded.dedups.perbase.tsv.gz\u001b[0m\n",
      "\u001b[38;5;9mKS91_K562_hg38_ASTARRseq_Input_rep4.GATA1.unstranded.dedups.perbase.tsv.gz\u001b[0m\n",
      "\u001b[38;5;9mKS91_K562_hg38_ASTARRseq_Input_rep5.GATA1.unstranded.dedups.perbase.tsv.gz\u001b[0m\n",
      "\u001b[38;5;9mKS91_K562_hg38_ASTARRseq_Input_rep6.GATA1.unstranded.dedups.perbase.tsv.gz\u001b[0m\n",
      "\u001b[38;5;9mKS91_K562_hg38_ASTARRseq_Output_rep1.GATA1.unstranded.perbase.tsv.gz\u001b[0m\n",
      "\u001b[38;5;9mKS91_K562_hg38_ASTARRseq_Output_rep2.GATA1.unstranded.perbase.tsv.gz\u001b[0m\n",
      "\u001b[38;5;9mKS91_K562_hg38_ASTARRseq_Output_rep3.GATA1.unstranded.perbase.tsv.gz\u001b[0m\n",
      "\u001b[38;5;9mKS91_K562_hg38_ASTARRseq_Output_rep4.GATA1.unstranded.perbase.tsv.gz\u001b[0m\n",
      "region_GATA1.bed\n"
     ]
    }
   ],
   "source": [
    "ls ${FD_RES}/KS91_K562_ASTARRseq/coverage"
   ]
  },
  {
   "cell_type": "code",
   "execution_count": 3,
   "metadata": {},
   "outputs": [
    {
     "name": "stdout",
     "output_type": "stream",
     "text": [
      "chrX\t47786400\t0\n",
      "chrX\t47786401\t0\n",
      "chrX\t47786402\t0\n",
      "chrX\t47786403\t0\n",
      "chrX\t47786404\t0\n",
      "chrX\t47786405\t0\n",
      "chrX\t47786406\t0\n",
      "chrX\t47786407\t0\n",
      "chrX\t47786408\t0\n",
      "chrX\t47786409\t0\n",
      "\n",
      "gzip: stdout: Broken pipe\n"
     ]
    }
   ],
   "source": [
    "FDIRY=\"${FD_RES}/KS91_K562_ASTARRseq/coverage\"\n",
    "FNAME=\"KS91_K562_hg38_ASTARRseq_Input_rep1.GATA1.unstranded.dedups.perbase.tsv.gz\"\n",
    "zcat ${FDIRY}/${FNAME} | head"
   ]
  },
  {
   "cell_type": "markdown",
   "metadata": {},
   "source": [
    "## RUN"
   ]
  },
  {
   "cell_type": "code",
   "execution_count": 10,
   "metadata": {},
   "outputs": [
    {
     "name": "stdout",
     "output_type": "stream",
     "text": [
      "Submitted batch job 27860374\n"
     ]
    }
   ],
   "source": [
    "sbatch -p ${NODE} \\\n",
    "    --mem 10G \\\n",
    "    -o ${FD_LOG}/ASTARR_database_gata1_coverage.txt \\\n",
    "    <<'EOF'\n",
    "#!/bin/bash\n",
    "### set directories & global variables\n",
    "source ../config_duke.sh\n",
    "\n",
    "### print start message\n",
    "timer_start=`date +%s`\n",
    "echo \"Slurm Array Index: \" ${SLURM_ARRAY_TASK_ID}\n",
    "echo \"Time Stamp:        \" $(date +\"%m-%d-%y+%T\")\n",
    "echo\n",
    "\n",
    "### execution\n",
    "${FD_PRJ}/sing_proj_encode_fcc.sh python astarr_gata1_table_coverage.py\n",
    "\n",
    "### print end message\n",
    "timer=`date +%s`\n",
    "runtime=$(echo \"${timer} - ${timer_start}\" | bc -l)\n",
    "echo\n",
    "echo 'Done!'\n",
    "echo \"Run Time: $(displaytime ${runtime})\"\n",
    "\n",
    "EOF"
   ]
  },
  {
   "cell_type": "markdown",
   "metadata": {},
   "source": [
    "**Check results**"
   ]
  },
  {
   "cell_type": "code",
   "execution_count": 11,
   "metadata": {},
   "outputs": [
    {
     "name": "stdout",
     "output_type": "stream",
     "text": [
      "Slurm Array Index: \n",
      "Time Stamp:         03-28-22+14:25:58\n",
      "\n",
      "You are on Duke Server: Singularity: Proj ENCODE FCC\n",
      "BASE DIRECTORY:     /mount/work\n",
      "PATH OF SOURCE:     /mount/work/source\n",
      "PATH OF EXECUTABLE: /mount/work/exe\n",
      "PATH OF ANNOTATION: /mount/work/annotation\n",
      "PATH OF PROJECT:    /mount/project\n",
      "PATH OF RESULTS:    /mount/work/out/proj_encode_fcc\n",
      "\n",
      "Global variables:\n",
      "Database:        /mount/work/out/proj_encode_fcc/KS91_K562_ASTARRseq/database/fragment_astarr_gata1.db\n",
      "Table directory: /mount/work/out/proj_encode_fcc/KS91_K562_ASTARRseq/coverage\n",
      "\n",
      "/mount/work/out/proj_encode_fcc/KS91_K562_ASTARRseq/coverage/KS91_K562_hg38_ASTARRseq_Input_rep1.GATA1.unstranded.dedups.perbase.tsv.gz\n",
      "# Rows: 2000349\n",
      "/mount/work/out/proj_encode_fcc/KS91_K562_ASTARRseq/coverage/KS91_K562_hg38_ASTARRseq_Input_rep2.GATA1.unstranded.dedups.perbase.tsv.gz\n",
      "# Rows: 2000349\n",
      "/mount/work/out/proj_encode_fcc/KS91_K562_ASTARRseq/coverage/KS91_K562_hg38_ASTARRseq_Input_rep3.GATA1.unstranded.dedups.perbase.tsv.gz\n",
      "# Rows: 2000349\n",
      "/mount/work/out/proj_encode_fcc/KS91_K562_ASTARRseq/coverage/KS91_K562_hg38_ASTARRseq_Input_rep4.GATA1.unstranded.dedups.perbase.tsv.gz\n",
      "# Rows: 2000349\n",
      "/mount/work/out/proj_encode_fcc/KS91_K562_ASTARRseq/coverage/KS91_K562_hg38_ASTARRseq_Input_rep5.GATA1.unstranded.dedups.perbase.tsv.gz\n",
      "# Rows: 2000349\n",
      "/mount/work/out/proj_encode_fcc/KS91_K562_ASTARRseq/coverage/KS91_K562_hg38_ASTARRseq_Output_rep1.GATA1.unstranded.perbase.tsv.gz\n",
      "# Rows: 2000349\n",
      "/mount/work/out/proj_encode_fcc/KS91_K562_ASTARRseq/coverage/KS91_K562_hg38_ASTARRseq_Output_rep2.GATA1.unstranded.perbase.tsv.gz\n",
      "# Rows: 2000349\n",
      "/mount/work/out/proj_encode_fcc/KS91_K562_ASTARRseq/coverage/KS91_K562_hg38_ASTARRseq_Output_rep3.GATA1.unstranded.perbase.tsv.gz\n",
      "# Rows: 2000349\n",
      "/mount/work/out/proj_encode_fcc/KS91_K562_ASTARRseq/coverage/KS91_K562_hg38_ASTARRseq_Output_rep4.GATA1.unstranded.perbase.tsv.gz\n",
      "# Rows: 2000349\n",
      "\n",
      "# Rows (Total): 18003141\n",
      "Create index...\n",
      "Done!\n",
      "\n",
      "#Rows Table: [(18003141,)]\n",
      "Show the first 10 lines in the table:\n",
      "('chrX', 47786401, 0, 'Input_rep1')\n",
      "('chrX', 47786402, 0, 'Input_rep1')\n",
      "('chrX', 47786403, 0, 'Input_rep1')\n",
      "('chrX', 47786404, 0, 'Input_rep1')\n",
      "('chrX', 47786405, 0, 'Input_rep1')\n",
      "('chrX', 47786406, 0, 'Input_rep1')\n",
      "('chrX', 47786407, 0, 'Input_rep1')\n",
      "('chrX', 47786408, 0, 'Input_rep1')\n",
      "('chrX', 47786409, 0, 'Input_rep1')\n",
      "('chrX', 47786410, 0, 'Input_rep1')\n",
      "\n",
      "Done!\n",
      "Run Time: 2 minutes and 16 seconds\n"
     ]
    }
   ],
   "source": [
    "cat ${FD_LOG}/ASTARR_database_gata1_coverage.txt"
   ]
  },
  {
   "cell_type": "code",
   "execution_count": null,
   "metadata": {},
   "outputs": [],
   "source": []
  }
 ],
 "metadata": {
  "kernelspec": {
   "display_name": "Bash",
   "language": "bash",
   "name": "bash"
  },
  "language_info": {
   "codemirror_mode": "shell",
   "file_extension": ".sh",
   "mimetype": "text/x-sh",
   "name": "bash"
  }
 },
 "nbformat": 4,
 "nbformat_minor": 4
}
