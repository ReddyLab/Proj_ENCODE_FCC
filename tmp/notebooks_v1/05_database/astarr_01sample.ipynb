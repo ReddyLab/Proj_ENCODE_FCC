{
 "cells": [
  {
   "cell_type": "markdown",
   "id": "599ae617",
   "metadata": {},
   "source": [
    "**Set environment**"
   ]
  },
  {
   "cell_type": "code",
   "execution_count": 1,
   "id": "11aa726d",
   "metadata": {},
   "outputs": [
    {
     "name": "stdout",
     "output_type": "stream",
     "text": [
      "You are on Duke Server: Singularity: Proj ENCODE FCC\n",
      "BASE DIRECTORY:     /mount/work\n",
      "PATH OF SOURCE:     /mount/work/source\n",
      "PATH OF EXECUTABLE: /mount/work/exe\n",
      "PATH OF ANNOTATION: /mount/work/annotation\n",
      "PATH OF PROJECT:    /mount/project\n",
      "PATH OF RESULTS:    /mount/work/out/proj_encode_fcc\n",
      "\n"
     ]
    }
   ],
   "source": [
    "### basic\n",
    "import sys\n",
    "sys.path.append('../')\n",
    "from config_sing import *\n",
    "\n",
    "### specific tools\n",
    "import sqlite3\n",
    "# https://stackoverflow.com/questions/49456158/integer-in-python-pandas-becomes-blob-binary-in-sqlite\n",
    "sqlite3.register_adapter(np.int64, lambda val: int(val))\n",
    "sqlite3.register_adapter(np.int32, lambda val: int(val))\n",
    "\n",
    "### global variables\n",
    "fdiry = os.path.join(FD_RES, \"KS91_K562_ASTARRseq\", 'database')\n",
    "fname = \"fragment_astarr_gata1.db\"\n",
    "FPATH_DB = os.path.join(fdiry, fname)"
   ]
  },
  {
   "cell_type": "markdown",
   "id": "ddd409ea",
   "metadata": {},
   "source": [
    "## Sample information"
   ]
  },
  {
   "cell_type": "code",
   "execution_count": 2,
   "id": "2486f4eb",
   "metadata": {},
   "outputs": [
    {
     "name": "stdout",
     "output_type": "stream",
     "text": [
      "Sample       object\n",
      "Group        object\n",
      "Replicate    object\n",
      "Size          int64\n",
      "dtype: object\n"
     ]
    },
    {
     "data": {
      "text/html": [
       "<div>\n",
       "<style scoped>\n",
       "    .dataframe tbody tr th:only-of-type {\n",
       "        vertical-align: middle;\n",
       "    }\n",
       "\n",
       "    .dataframe tbody tr th {\n",
       "        vertical-align: top;\n",
       "    }\n",
       "\n",
       "    .dataframe thead th {\n",
       "        text-align: right;\n",
       "    }\n",
       "</style>\n",
       "<table border=\"1\" class=\"dataframe\">\n",
       "  <thead>\n",
       "    <tr style=\"text-align: right;\">\n",
       "      <th></th>\n",
       "      <th>Sample</th>\n",
       "      <th>Group</th>\n",
       "      <th>Replicate</th>\n",
       "      <th>Size</th>\n",
       "    </tr>\n",
       "  </thead>\n",
       "  <tbody>\n",
       "    <tr>\n",
       "      <th>0</th>\n",
       "      <td>Input_rep1</td>\n",
       "      <td>Input</td>\n",
       "      <td>rep1</td>\n",
       "      <td>358823</td>\n",
       "    </tr>\n",
       "    <tr>\n",
       "      <th>1</th>\n",
       "      <td>Input_rep2</td>\n",
       "      <td>Input</td>\n",
       "      <td>rep2</td>\n",
       "      <td>461577</td>\n",
       "    </tr>\n",
       "    <tr>\n",
       "      <th>2</th>\n",
       "      <td>Input_rep3</td>\n",
       "      <td>Input</td>\n",
       "      <td>rep3</td>\n",
       "      <td>496229</td>\n",
       "    </tr>\n",
       "    <tr>\n",
       "      <th>3</th>\n",
       "      <td>Input_rep4</td>\n",
       "      <td>Input</td>\n",
       "      <td>rep4</td>\n",
       "      <td>464845</td>\n",
       "    </tr>\n",
       "    <tr>\n",
       "      <th>4</th>\n",
       "      <td>Input_rep5</td>\n",
       "      <td>Input</td>\n",
       "      <td>rep5</td>\n",
       "      <td>454013</td>\n",
       "    </tr>\n",
       "  </tbody>\n",
       "</table>\n",
       "</div>"
      ],
      "text/plain": [
       "       Sample  Group Replicate    Size\n",
       "0  Input_rep1  Input      rep1  358823\n",
       "1  Input_rep2  Input      rep2  461577\n",
       "2  Input_rep3  Input      rep3  496229\n",
       "3  Input_rep4  Input      rep4  464845\n",
       "4  Input_rep5  Input      rep5  454013"
      ]
     },
     "execution_count": 2,
     "metadata": {},
     "output_type": "execute_result"
    }
   ],
   "source": [
    "fdiry = os.path.join(FD_RES, \"KS91_K562_ASTARRseq\", \"fragment\")\n",
    "fname = \"library_size.tsv\"\n",
    "fpath = os.path.join(fdiry, fname)\n",
    "\n",
    "dat_sam = pd.read_table(fpath)\n",
    "print(dat_sam.dtypes)\n",
    "dat_sam.head()"
   ]
  },
  {
   "cell_type": "code",
   "execution_count": 3,
   "id": "4762a5e4",
   "metadata": {},
   "outputs": [
    {
     "data": {
      "text/plain": [
       "rec.array([('Input_rep1', 'Input', 'rep1', 358823),\n",
       "           ('Input_rep2', 'Input', 'rep2', 461577),\n",
       "           ('Input_rep3', 'Input', 'rep3', 496229),\n",
       "           ('Input_rep4', 'Input', 'rep4', 464845),\n",
       "           ('Input_rep5', 'Input', 'rep5', 454013),\n",
       "           ('Input_rep6', 'Input', 'rep6', 409058),\n",
       "           ('Output_rep1', 'Output', 'rep1', 505724),\n",
       "           ('Output_rep2', 'Output', 'rep2', 686033),\n",
       "           ('Output_rep3', 'Output', 'rep3', 441621),\n",
       "           ('Output_rep4', 'Output', 'rep4', 739000)],\n",
       "          dtype=[('Sample', 'O'), ('Group', 'O'), ('Replicate', 'O'), ('Size', '<i8')])"
      ]
     },
     "execution_count": 3,
     "metadata": {},
     "output_type": "execute_result"
    }
   ],
   "source": [
    "dat_sam.to_records(index=False)"
   ]
  },
  {
   "cell_type": "markdown",
   "id": "23eff6e9",
   "metadata": {},
   "source": [
    "## create table and schema"
   ]
  },
  {
   "cell_type": "code",
   "execution_count": 6,
   "id": "1896c6a9",
   "metadata": {},
   "outputs": [],
   "source": [
    "query_reset = (\"DROP TABLE IF EXISTS Sample\")\n",
    "\n",
    "query_table = (\"\"\"CREATE TABLE IF NOT EXISTS Sample(\n",
    "    sample    TEXT PRIMARY KEY, \n",
    "    treatment TEXT,\n",
    "    replicate TEXT,\n",
    "    size      INTEGER\n",
    ");\"\"\")\n",
    "\n",
    "query_insert = (\"INSERT INTO Sample (sample, treatment, replicate, size) VALUES (?, ?, ?, ?)\")"
   ]
  },
  {
   "cell_type": "code",
   "execution_count": 7,
   "id": "a8d63ca8",
   "metadata": {},
   "outputs": [
    {
     "name": "stdout",
     "output_type": "stream",
     "text": [
      "('Input_rep1', 'Input', 'rep1', 358823)\n",
      "('Input_rep2', 'Input', 'rep2', 461577)\n",
      "('Input_rep3', 'Input', 'rep3', 496229)\n",
      "('Input_rep4', 'Input', 'rep4', 464845)\n",
      "('Input_rep5', 'Input', 'rep5', 454013)\n",
      "('Input_rep6', 'Input', 'rep6', 409058)\n",
      "('Output_rep1', 'Output', 'rep1', 505724)\n",
      "('Output_rep2', 'Output', 'rep2', 686033)\n",
      "('Output_rep3', 'Output', 'rep3', 441621)\n",
      "('Output_rep4', 'Output', 'rep4', 739000)\n"
     ]
    }
   ],
   "source": [
    "fpath_db = FPATH_DB\n",
    "with sqlite3.connect(fpath_db) as conn:\n",
    "    ### reset\n",
    "    cursor = conn.cursor()\n",
    "    query  = query_reset\n",
    "    cursor = cursor.execute(query)\n",
    "    \n",
    "    ### create table\n",
    "    query  = query_table\n",
    "    cursor = cursor.execute(query)\n",
    "    \n",
    "    ### insert values\n",
    "    rows   = dat_sam.to_records(index=False)\n",
    "    query  = query_insert\n",
    "    cursor = cursor.executemany(query, rows)\n",
    "    \n",
    "    ### show that the table is created\n",
    "    cursor = cursor.execute(\"SELECT * FROM Sample\")\n",
    "    for row in cursor.fetchall():\n",
    "        print(row)"
   ]
  },
  {
   "cell_type": "markdown",
   "id": "65a1cf4f",
   "metadata": {},
   "source": [
    "## Scratch"
   ]
  },
  {
   "cell_type": "code",
   "execution_count": 2,
   "id": "e899b42a",
   "metadata": {},
   "outputs": [
    {
     "name": "stdout",
     "output_type": "stream",
     "text": [
      "['Input_rep1' 'Input_rep2' 'Input_rep3' 'Input_rep4' 'Input_rep5'\n",
      " 'Output_rep1' 'Output_rep2' 'Output_rep3' 'Output_rep4']\n"
     ]
    }
   ],
   "source": [
    "from functools import reduce\n",
    "fun = np.core.defchararray.add\n",
    "idx = np.arange(1,6).astype(\"str\")\n",
    "INPUT = reduce(fun, [\"Input_rep\", idx])\n",
    "\n",
    "idx = np.arange(1,5).astype(\"str\")\n",
    "OUTPUT = reduce(fun, [\"Output_rep\", idx])\n",
    "\n",
    "SAMPLES = np.concatenate([INPUT, OUTPUT])\n",
    "print(SAMPLES)"
   ]
  },
  {
   "cell_type": "code",
   "execution_count": 3,
   "id": "948a893c",
   "metadata": {},
   "outputs": [
    {
     "name": "stdout",
     "output_type": "stream",
     "text": [
      "/mount/work/out/proj_encode_fcc/KS91_K562_ASTARRseq/fragment_nuc/KS91_K562_hg38_ASTARRseq*Input_rep1*GATA1*.bed.gz\n"
     ]
    },
    {
     "data": {
      "text/plain": [
       "['/mount/work/out/proj_encode_fcc/KS91_K562_ASTARRseq/fragment_nuc/KS91_K562_hg38_ASTARRseq_Input_rep1.GATA1.unstranded.dedups.bed.gz']"
      ]
     },
     "execution_count": 3,
     "metadata": {},
     "output_type": "execute_result"
    }
   ],
   "source": [
    "sample = \"Input_rep1\"\n",
    "fdiry  = os.path.join(FD_RES, \"KS91_K562_ASTARRseq\", \"fragment_nuc\")\n",
    "fname  = f\"KS91_K562_hg38_ASTARRseq*{sample}*GATA1*.bed.gz\"\n",
    "fglob  = os.path.join(fdiry, fname)\n",
    "print(fglob)\n",
    "glob.glob(fglob)"
   ]
  },
  {
   "cell_type": "code",
   "execution_count": 6,
   "id": "af375b5e",
   "metadata": {},
   "outputs": [
    {
     "data": {
      "text/plain": [
       "'/mount/work/out/proj_encode_fcc'"
      ]
     },
     "execution_count": 6,
     "metadata": {},
     "output_type": "execute_result"
    }
   ],
   "source": [
    "os.path.join(FD_RES"
   ]
  },
  {
   "cell_type": "code",
   "execution_count": 14,
   "id": "c9828d04",
   "metadata": {},
   "outputs": [
    {
     "data": {
      "text/plain": [
       "'/mount/work/out/proj_encode_fcc'"
      ]
     },
     "execution_count": 14,
     "metadata": {},
     "output_type": "execute_result"
    }
   ],
   "source": [
    "FD_RES"
   ]
  },
  {
   "cell_type": "code",
   "execution_count": 13,
   "id": "67b1bf89",
   "metadata": {},
   "outputs": [
    {
     "ename": "FileNotFoundError",
     "evalue": "[Errno 2] No such file or directory: '/mount/work/out/proj_encode_fcc/KS91_K562_ASTARRseq'",
     "output_type": "error",
     "traceback": [
      "\u001b[0;31m---------------------------------------------------------------------------\u001b[0m",
      "\u001b[0;31mFileNotFoundError\u001b[0m                         Traceback (most recent call last)",
      "\u001b[0;32m/tmp/ipykernel_27127/1015965247.py\u001b[0m in \u001b[0;36m<module>\u001b[0;34m\u001b[0m\n\u001b[1;32m      1\u001b[0m \u001b[0mfdiry\u001b[0m  \u001b[0;34m=\u001b[0m \u001b[0mos\u001b[0m\u001b[0;34m.\u001b[0m\u001b[0mpath\u001b[0m\u001b[0;34m.\u001b[0m\u001b[0mjoin\u001b[0m\u001b[0;34m(\u001b[0m\u001b[0mFD_RES\u001b[0m\u001b[0;34m,\u001b[0m \u001b[0;34m\"KS91_K562_ASTARRseq\"\u001b[0m\u001b[0;34m)\u001b[0m\u001b[0;34m\u001b[0m\u001b[0;34m\u001b[0m\u001b[0m\n\u001b[0;32m----> 2\u001b[0;31m \u001b[0mos\u001b[0m\u001b[0;34m.\u001b[0m\u001b[0mlistdir\u001b[0m\u001b[0;34m(\u001b[0m\u001b[0mfdiry\u001b[0m\u001b[0;34m)\u001b[0m\u001b[0;34m\u001b[0m\u001b[0;34m\u001b[0m\u001b[0m\n\u001b[0m",
      "\u001b[0;31mFileNotFoundError\u001b[0m: [Errno 2] No such file or directory: '/mount/work/out/proj_encode_fcc/KS91_K562_ASTARRseq'"
     ]
    }
   ],
   "source": [
    "fdiry = os.path.join(FD_RES, \"KS91_K562_ASTARRseq\")\n",
    "os.listdir(fdiry)"
   ]
  },
  {
   "cell_type": "code",
   "execution_count": null,
   "id": "d5715b86",
   "metadata": {},
   "outputs": [],
   "source": []
  }
 ],
 "metadata": {
  "kernelspec": {
   "display_name": "Python 3 (ipykernel)",
   "language": "python",
   "name": "python3"
  },
  "language_info": {
   "codemirror_mode": {
    "name": "ipython",
    "version": 3
   },
   "file_extension": ".py",
   "mimetype": "text/x-python",
   "name": "python",
   "nbconvert_exporter": "python",
   "pygments_lexer": "ipython3",
   "version": "3.7.4"
  }
 },
 "nbformat": 4,
 "nbformat_minor": 5
}
