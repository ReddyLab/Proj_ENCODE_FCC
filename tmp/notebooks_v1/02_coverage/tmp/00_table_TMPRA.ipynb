{
 "cells": [
  {
   "cell_type": "code",
   "execution_count": 6,
   "id": "341811c5",
   "metadata": {},
   "outputs": [
    {
     "name": "stdout",
     "output_type": "stream",
     "text": [
      "You are in Singularity: singularity_proj_combeffect \n",
      "BASE DIRECTORY:     /mount/work \n",
      "PATH OF SOURCE:     /mount/work/source \n",
      "PATH OF EXECUTABLE: /mount/work/exe \n",
      "PATH OF ANNOTATION: /mount/work/annotation \n",
      "PATH OF PROJECT:    /mount/project \n",
      "PATH OF RESULTS:    /mount/work/out/proj_combeffect_encode_fcc \n"
     ]
    }
   ],
   "source": [
    "suppressMessages(source(\"../config_sing.R\"))\n",
    "show_env()"
   ]
  },
  {
   "cell_type": "markdown",
   "id": "9edb1307",
   "metadata": {},
   "source": [
    "## Import"
   ]
  },
  {
   "cell_type": "code",
   "execution_count": 7,
   "id": "d8302481",
   "metadata": {},
   "outputs": [],
   "source": [
    "### init: set column names\n",
    "cnames = c(\"Chrom\", \"Start\", \"End\", \"ID\", \"Score\", \"Strand\", \n",
    "           \"log2fc\", \"Input_Count\", \"Output_Count\", \n",
    "           \"log10pval\", \"log10fdr\", \"lfc-se\")"
   ]
  },
  {
   "cell_type": "code",
   "execution_count": 15,
   "id": "91713e72",
   "metadata": {},
   "outputs": [
    {
     "name": "stdout",
     "output_type": "stream",
     "text": [
      "[1] 52312    12\n"
     ]
    },
    {
     "data": {
      "text/html": [
       "<table class=\"dataframe\">\n",
       "<caption>A tibble: 6 × 12</caption>\n",
       "<thead>\n",
       "\t<tr><th scope=col>Chrom</th><th scope=col>Start</th><th scope=col>End</th><th scope=col>ID</th><th scope=col>Score</th><th scope=col>Strand</th><th scope=col>log2fc</th><th scope=col>Input_Count</th><th scope=col>Output_Count</th><th scope=col>log10pval</th><th scope=col>log10fdr</th><th scope=col>lfc-se</th></tr>\n",
       "\t<tr><th scope=col>&lt;chr&gt;</th><th scope=col>&lt;dbl&gt;</th><th scope=col>&lt;dbl&gt;</th><th scope=col>&lt;chr&gt;</th><th scope=col>&lt;chr&gt;</th><th scope=col>&lt;chr&gt;</th><th scope=col>&lt;dbl&gt;</th><th scope=col>&lt;dbl&gt;</th><th scope=col>&lt;dbl&gt;</th><th scope=col>&lt;dbl&gt;</th><th scope=col>&lt;dbl&gt;</th><th scope=col>&lt;dbl&gt;</th></tr>\n",
       "</thead>\n",
       "<tbody>\n",
       "\t<tr><td>chrX</td><td>47786401</td><td>47786600</td><td>X:47786401-47786600</td><td>.</td><td>+</td><td> 2.30593934</td><td>2117.787</td><td>10474.869</td><td>112.1126526</td><td>110.93113079</td><td>0.10214790</td></tr>\n",
       "\t<tr><td>chrX</td><td>47786451</td><td>47786650</td><td>X:47786451-47786650</td><td>.</td><td>+</td><td> 0.78305606</td><td>1386.007</td><td> 2387.119</td><td> 11.3173884</td><td> 10.64251685</td><td>0.11330705</td></tr>\n",
       "\t<tr><td>chrX</td><td>47786501</td><td>47786700</td><td>X:47786501-47786700</td><td>.</td><td>+</td><td>-0.12873196</td><td>1955.626</td><td> 1788.236</td><td>  0.8450697</td><td>  0.62872262</td><td>0.08785968</td></tr>\n",
       "\t<tr><td>chrX</td><td>47786551</td><td>47786750</td><td>X:47786551-47786750</td><td>.</td><td>+</td><td> 0.58829515</td><td>2388.997</td><td> 3591.264</td><td> 11.2404554</td><td> 10.56667887</td><td>0.08543661</td></tr>\n",
       "\t<tr><td>chrX</td><td>47786601</td><td>47786800</td><td>X:47786601-47786800</td><td>.</td><td>+</td><td> 0.06670014</td><td>2102.916</td><td> 2202.385</td><td>  0.3095900</td><td>  0.21047015</td><td>0.09667741</td></tr>\n",
       "\t<tr><td>chrX</td><td>47786651</td><td>47786850</td><td>X:47786651-47786850</td><td>.</td><td>+</td><td>-0.02967703</td><td>1571.259</td><td> 1537.475</td><td>  0.1009399</td><td>  0.06453099</td><td>0.11287406</td></tr>\n",
       "</tbody>\n",
       "</table>\n"
      ],
      "text/latex": [
       "A tibble: 6 × 12\n",
       "\\begin{tabular}{llllllllllll}\n",
       " Chrom & Start & End & ID & Score & Strand & log2fc & Input\\_Count & Output\\_Count & log10pval & log10fdr & lfc-se\\\\\n",
       " <chr> & <dbl> & <dbl> & <chr> & <chr> & <chr> & <dbl> & <dbl> & <dbl> & <dbl> & <dbl> & <dbl>\\\\\n",
       "\\hline\n",
       "\t chrX & 47786401 & 47786600 & X:47786401-47786600 & . & + &  2.30593934 & 2117.787 & 10474.869 & 112.1126526 & 110.93113079 & 0.10214790\\\\\n",
       "\t chrX & 47786451 & 47786650 & X:47786451-47786650 & . & + &  0.78305606 & 1386.007 &  2387.119 &  11.3173884 &  10.64251685 & 0.11330705\\\\\n",
       "\t chrX & 47786501 & 47786700 & X:47786501-47786700 & . & + & -0.12873196 & 1955.626 &  1788.236 &   0.8450697 &   0.62872262 & 0.08785968\\\\\n",
       "\t chrX & 47786551 & 47786750 & X:47786551-47786750 & . & + &  0.58829515 & 2388.997 &  3591.264 &  11.2404554 &  10.56667887 & 0.08543661\\\\\n",
       "\t chrX & 47786601 & 47786800 & X:47786601-47786800 & . & + &  0.06670014 & 2102.916 &  2202.385 &   0.3095900 &   0.21047015 & 0.09667741\\\\\n",
       "\t chrX & 47786651 & 47786850 & X:47786651-47786850 & . & + & -0.02967703 & 1571.259 &  1537.475 &   0.1009399 &   0.06453099 & 0.11287406\\\\\n",
       "\\end{tabular}\n"
      ],
      "text/markdown": [
       "\n",
       "A tibble: 6 × 12\n",
       "\n",
       "| Chrom &lt;chr&gt; | Start &lt;dbl&gt; | End &lt;dbl&gt; | ID &lt;chr&gt; | Score &lt;chr&gt; | Strand &lt;chr&gt; | log2fc &lt;dbl&gt; | Input_Count &lt;dbl&gt; | Output_Count &lt;dbl&gt; | log10pval &lt;dbl&gt; | log10fdr &lt;dbl&gt; | lfc-se &lt;dbl&gt; |\n",
       "|---|---|---|---|---|---|---|---|---|---|---|---|\n",
       "| chrX | 47786401 | 47786600 | X:47786401-47786600 | . | + |  2.30593934 | 2117.787 | 10474.869 | 112.1126526 | 110.93113079 | 0.10214790 |\n",
       "| chrX | 47786451 | 47786650 | X:47786451-47786650 | . | + |  0.78305606 | 1386.007 |  2387.119 |  11.3173884 |  10.64251685 | 0.11330705 |\n",
       "| chrX | 47786501 | 47786700 | X:47786501-47786700 | . | + | -0.12873196 | 1955.626 |  1788.236 |   0.8450697 |   0.62872262 | 0.08785968 |\n",
       "| chrX | 47786551 | 47786750 | X:47786551-47786750 | . | + |  0.58829515 | 2388.997 |  3591.264 |  11.2404554 |  10.56667887 | 0.08543661 |\n",
       "| chrX | 47786601 | 47786800 | X:47786601-47786800 | . | + |  0.06670014 | 2102.916 |  2202.385 |   0.3095900 |   0.21047015 | 0.09667741 |\n",
       "| chrX | 47786651 | 47786850 | X:47786651-47786850 | . | + | -0.02967703 | 1571.259 |  1537.475 |   0.1009399 |   0.06453099 | 0.11287406 |\n",
       "\n"
      ],
      "text/plain": [
       "  Chrom Start    End      ID                  Score Strand log2fc     \n",
       "1 chrX  47786401 47786600 X:47786401-47786600 .     +       2.30593934\n",
       "2 chrX  47786451 47786650 X:47786451-47786650 .     +       0.78305606\n",
       "3 chrX  47786501 47786700 X:47786501-47786700 .     +      -0.12873196\n",
       "4 chrX  47786551 47786750 X:47786551-47786750 .     +       0.58829515\n",
       "5 chrX  47786601 47786800 X:47786601-47786800 .     +       0.06670014\n",
       "6 chrX  47786651 47786850 X:47786651-47786850 .     +      -0.02967703\n",
       "  Input_Count Output_Count log10pval   log10fdr     lfc-se    \n",
       "1 2117.787    10474.869    112.1126526 110.93113079 0.10214790\n",
       "2 1386.007     2387.119     11.3173884  10.64251685 0.11330705\n",
       "3 1955.626     1788.236      0.8450697   0.62872262 0.08785968\n",
       "4 2388.997     3591.264     11.2404554  10.56667887 0.08543661\n",
       "5 2102.916     2202.385      0.3095900   0.21047015 0.09667741\n",
       "6 1571.259     1537.475      0.1009399   0.06453099 0.11287406"
      ]
     },
     "metadata": {},
     "output_type": "display_data"
    }
   ],
   "source": [
    "### init: set file directory and path\n",
    "fdiry = file.path(FD_RES, \"Tewhey_K562_TileMPRA\", \"count\")\n",
    "fname = \"Tile_K562_hg38_20210130.GATA1.bed\"\n",
    "fpath = file.path(fdiry, fname)\n",
    "\n",
    "### import data\n",
    "dat = read_tsv(fpath, col_names = cnames, show_col_types = FALSE)\n",
    "\n",
    "### assign\n",
    "dat_tmpra_gata1 = dat\n",
    "print(dim(dat))\n",
    "head(dat)"
   ]
  },
  {
   "cell_type": "code",
   "execution_count": 16,
   "id": "d6bf39fc",
   "metadata": {},
   "outputs": [
    {
     "name": "stdout",
     "output_type": "stream",
     "text": [
      "[1] 41898    12\n"
     ]
    },
    {
     "data": {
      "text/html": [
       "<table class=\"dataframe\">\n",
       "<caption>A tibble: 6 × 12</caption>\n",
       "<thead>\n",
       "\t<tr><th scope=col>Chrom</th><th scope=col>Start</th><th scope=col>End</th><th scope=col>ID</th><th scope=col>Score</th><th scope=col>Strand</th><th scope=col>log2fc</th><th scope=col>Input_Count</th><th scope=col>Output_Count</th><th scope=col>log10pval</th><th scope=col>log10fdr</th><th scope=col>lfc-se</th></tr>\n",
       "\t<tr><th scope=col>&lt;chr&gt;</th><th scope=col>&lt;dbl&gt;</th><th scope=col>&lt;dbl&gt;</th><th scope=col>&lt;chr&gt;</th><th scope=col>&lt;chr&gt;</th><th scope=col>&lt;chr&gt;</th><th scope=col>&lt;dbl&gt;</th><th scope=col>&lt;dbl&gt;</th><th scope=col>&lt;dbl&gt;</th><th scope=col>&lt;dbl&gt;</th><th scope=col>&lt;dbl&gt;</th><th scope=col>&lt;dbl&gt;</th></tr>\n",
       "</thead>\n",
       "<tbody>\n",
       "\t<tr><td>chr8</td><td>126735901</td><td>126736100</td><td>8:126735901-126736100</td><td>.</td><td>+</td><td> 3.2160073</td><td>889.8700</td><td>8270.0812</td><td>284.9689198</td><td>283.4609266</td><td>0.08903507</td></tr>\n",
       "\t<tr><td>chr8</td><td>126735951</td><td>126736150</td><td>8:126735951-126736150</td><td>.</td><td>+</td><td> 2.7418446</td><td>125.8346</td><td> 840.9388</td><td>113.6888331</td><td>112.5014934</td><td>0.12060331</td></tr>\n",
       "\t<tr><td>chr8</td><td>126736001</td><td>126736200</td><td>8:126736001-126736200</td><td>.</td><td>+</td><td> 2.9727423</td><td>510.3155</td><td>4005.3567</td><td>184.5772002</td><td>183.2318991</td><td>0.10239769</td></tr>\n",
       "\t<tr><td>chr8</td><td>126736051</td><td>126736250</td><td>8:126736051-126736250</td><td>.</td><td>+</td><td> 0.5182375</td><td>702.5493</td><td>1005.3594</td><td>  5.5903406</td><td>  5.0334324</td><td>0.11020176</td></tr>\n",
       "\t<tr><td>chr8</td><td>126736101</td><td>126736300</td><td>8:126736101-126736300</td><td>.</td><td>+</td><td> 0.8541811</td><td>551.0831</td><td> 995.4698</td><td> 14.4458053</td><td> 13.7295763</td><td>0.10855385</td></tr>\n",
       "\t<tr><td>chr8</td><td>126736151</td><td>126736350</td><td>8:126736151-126736350</td><td>.</td><td>+</td><td>-0.1705365</td><td>916.6257</td><td> 814.0604</td><td>  0.8691763</td><td>  0.6486783</td><td>0.11414081</td></tr>\n",
       "</tbody>\n",
       "</table>\n"
      ],
      "text/latex": [
       "A tibble: 6 × 12\n",
       "\\begin{tabular}{llllllllllll}\n",
       " Chrom & Start & End & ID & Score & Strand & log2fc & Input\\_Count & Output\\_Count & log10pval & log10fdr & lfc-se\\\\\n",
       " <chr> & <dbl> & <dbl> & <chr> & <chr> & <chr> & <dbl> & <dbl> & <dbl> & <dbl> & <dbl> & <dbl>\\\\\n",
       "\\hline\n",
       "\t chr8 & 126735901 & 126736100 & 8:126735901-126736100 & . & + &  3.2160073 & 889.8700 & 8270.0812 & 284.9689198 & 283.4609266 & 0.08903507\\\\\n",
       "\t chr8 & 126735951 & 126736150 & 8:126735951-126736150 & . & + &  2.7418446 & 125.8346 &  840.9388 & 113.6888331 & 112.5014934 & 0.12060331\\\\\n",
       "\t chr8 & 126736001 & 126736200 & 8:126736001-126736200 & . & + &  2.9727423 & 510.3155 & 4005.3567 & 184.5772002 & 183.2318991 & 0.10239769\\\\\n",
       "\t chr8 & 126736051 & 126736250 & 8:126736051-126736250 & . & + &  0.5182375 & 702.5493 & 1005.3594 &   5.5903406 &   5.0334324 & 0.11020176\\\\\n",
       "\t chr8 & 126736101 & 126736300 & 8:126736101-126736300 & . & + &  0.8541811 & 551.0831 &  995.4698 &  14.4458053 &  13.7295763 & 0.10855385\\\\\n",
       "\t chr8 & 126736151 & 126736350 & 8:126736151-126736350 & . & + & -0.1705365 & 916.6257 &  814.0604 &   0.8691763 &   0.6486783 & 0.11414081\\\\\n",
       "\\end{tabular}\n"
      ],
      "text/markdown": [
       "\n",
       "A tibble: 6 × 12\n",
       "\n",
       "| Chrom &lt;chr&gt; | Start &lt;dbl&gt; | End &lt;dbl&gt; | ID &lt;chr&gt; | Score &lt;chr&gt; | Strand &lt;chr&gt; | log2fc &lt;dbl&gt; | Input_Count &lt;dbl&gt; | Output_Count &lt;dbl&gt; | log10pval &lt;dbl&gt; | log10fdr &lt;dbl&gt; | lfc-se &lt;dbl&gt; |\n",
       "|---|---|---|---|---|---|---|---|---|---|---|---|\n",
       "| chr8 | 126735901 | 126736100 | 8:126735901-126736100 | . | + |  3.2160073 | 889.8700 | 8270.0812 | 284.9689198 | 283.4609266 | 0.08903507 |\n",
       "| chr8 | 126735951 | 126736150 | 8:126735951-126736150 | . | + |  2.7418446 | 125.8346 |  840.9388 | 113.6888331 | 112.5014934 | 0.12060331 |\n",
       "| chr8 | 126736001 | 126736200 | 8:126736001-126736200 | . | + |  2.9727423 | 510.3155 | 4005.3567 | 184.5772002 | 183.2318991 | 0.10239769 |\n",
       "| chr8 | 126736051 | 126736250 | 8:126736051-126736250 | . | + |  0.5182375 | 702.5493 | 1005.3594 |   5.5903406 |   5.0334324 | 0.11020176 |\n",
       "| chr8 | 126736101 | 126736300 | 8:126736101-126736300 | . | + |  0.8541811 | 551.0831 |  995.4698 |  14.4458053 |  13.7295763 | 0.10855385 |\n",
       "| chr8 | 126736151 | 126736350 | 8:126736151-126736350 | . | + | -0.1705365 | 916.6257 |  814.0604 |   0.8691763 |   0.6486783 | 0.11414081 |\n",
       "\n"
      ],
      "text/plain": [
       "  Chrom Start     End       ID                    Score Strand log2fc    \n",
       "1 chr8  126735901 126736100 8:126735901-126736100 .     +       3.2160073\n",
       "2 chr8  126735951 126736150 8:126735951-126736150 .     +       2.7418446\n",
       "3 chr8  126736001 126736200 8:126736001-126736200 .     +       2.9727423\n",
       "4 chr8  126736051 126736250 8:126736051-126736250 .     +       0.5182375\n",
       "5 chr8  126736101 126736300 8:126736101-126736300 .     +       0.8541811\n",
       "6 chr8  126736151 126736350 8:126736151-126736350 .     +      -0.1705365\n",
       "  Input_Count Output_Count log10pval   log10fdr    lfc-se    \n",
       "1 889.8700    8270.0812    284.9689198 283.4609266 0.08903507\n",
       "2 125.8346     840.9388    113.6888331 112.5014934 0.12060331\n",
       "3 510.3155    4005.3567    184.5772002 183.2318991 0.10239769\n",
       "4 702.5493    1005.3594      5.5903406   5.0334324 0.11020176\n",
       "5 551.0831     995.4698     14.4458053  13.7295763 0.10855385\n",
       "6 916.6257     814.0604      0.8691763   0.6486783 0.11414081"
      ]
     },
     "metadata": {},
     "output_type": "display_data"
    }
   ],
   "source": [
    "### init: set file directory and path\n",
    "fdiry = file.path(FD_RES, \"Tewhey_K562_TileMPRA\", \"count\")\n",
    "fname = \"Tile_K562_hg38_20210130.MYC.bed\"\n",
    "fpath = file.path(fdiry, fname)\n",
    "\n",
    "### import data\n",
    "dat = read_tsv(fpath, col_names = cnames, show_col_types = FALSE)\n",
    "\n",
    "### assign\n",
    "dat_tmpra_myc = dat\n",
    "print(dim(dat))\n",
    "head(dat)"
   ]
  },
  {
   "cell_type": "markdown",
   "id": "835521e0",
   "metadata": {},
   "source": [
    "## explore"
   ]
  },
  {
   "cell_type": "markdown",
   "id": "389eebee",
   "metadata": {},
   "source": [
    "`chrX:47786401-49786750`"
   ]
  },
  {
   "cell_type": "code",
   "execution_count": 19,
   "id": "90caeb07",
   "metadata": {},
   "outputs": [
    {
     "name": "stdout",
     "output_type": "stream",
     "text": [
      "[1] \"chrX\"\n",
      "[1] 47786401 49786551\n",
      "[1] 47786600 49786750\n"
     ]
    }
   ],
   "source": [
    "dat = dat_tmpra_gata1\n",
    "print(unique(dat$Chrom))\n",
    "print(range(dat$Start))\n",
    "print(range(dat$End))"
   ]
  },
  {
   "cell_type": "markdown",
   "id": "e660af00",
   "metadata": {},
   "source": [
    "`chr8:126735901-128736250`"
   ]
  },
  {
   "cell_type": "code",
   "execution_count": 20,
   "id": "9b35b20e",
   "metadata": {},
   "outputs": [
    {
     "name": "stdout",
     "output_type": "stream",
     "text": [
      "[1] \"chr8\"\n",
      "[1] 126735901 128736051\n",
      "[1] 126736100 128736250\n"
     ]
    }
   ],
   "source": [
    "dat = dat_tmpra_myc\n",
    "print(unique(dat$Chrom))\n",
    "print(range(dat$Start))\n",
    "print(range(dat$End))"
   ]
  },
  {
   "cell_type": "code",
   "execution_count": 23,
   "id": "87d698bd",
   "metadata": {},
   "outputs": [
    {
     "name": "stdout",
     "output_type": "stream",
     "text": [
      "[1] 52312    12\n"
     ]
    },
    {
     "data": {
      "text/html": [
       "<table class=\"dataframe\">\n",
       "<caption>A tibble: 6 × 12</caption>\n",
       "<thead>\n",
       "\t<tr><th scope=col>Chrom</th><th scope=col>Start</th><th scope=col>End</th><th scope=col>ID</th><th scope=col>Score</th><th scope=col>Strand</th><th scope=col>log2fc</th><th scope=col>Input_Count</th><th scope=col>Output_Count</th><th scope=col>log10pval</th><th scope=col>log10fdr</th><th scope=col>lfc-se</th></tr>\n",
       "\t<tr><th scope=col>&lt;chr&gt;</th><th scope=col>&lt;dbl&gt;</th><th scope=col>&lt;dbl&gt;</th><th scope=col>&lt;chr&gt;</th><th scope=col>&lt;chr&gt;</th><th scope=col>&lt;chr&gt;</th><th scope=col>&lt;dbl&gt;</th><th scope=col>&lt;dbl&gt;</th><th scope=col>&lt;dbl&gt;</th><th scope=col>&lt;dbl&gt;</th><th scope=col>&lt;dbl&gt;</th><th scope=col>&lt;dbl&gt;</th></tr>\n",
       "</thead>\n",
       "<tbody>\n",
       "\t<tr><td>chrX</td><td>47786401</td><td>47786600</td><td>X:47786401-47786600</td><td>.</td><td>+</td><td> 2.30593934</td><td>2117.787</td><td>10474.869</td><td>112.1126526</td><td>110.93113079</td><td>0.10214790</td></tr>\n",
       "\t<tr><td>chrX</td><td>47786451</td><td>47786650</td><td>X:47786451-47786650</td><td>.</td><td>+</td><td> 0.78305606</td><td>1386.007</td><td> 2387.119</td><td> 11.3173884</td><td> 10.64251685</td><td>0.11330705</td></tr>\n",
       "\t<tr><td>chrX</td><td>47786501</td><td>47786700</td><td>X:47786501-47786700</td><td>.</td><td>+</td><td>-0.12873196</td><td>1955.626</td><td> 1788.236</td><td>  0.8450697</td><td>  0.62872262</td><td>0.08785968</td></tr>\n",
       "\t<tr><td>chrX</td><td>47786551</td><td>47786750</td><td>X:47786551-47786750</td><td>.</td><td>+</td><td> 0.58829515</td><td>2388.997</td><td> 3591.264</td><td> 11.2404554</td><td> 10.56667887</td><td>0.08543661</td></tr>\n",
       "\t<tr><td>chrX</td><td>47786601</td><td>47786800</td><td>X:47786601-47786800</td><td>.</td><td>+</td><td> 0.06670014</td><td>2102.916</td><td> 2202.385</td><td>  0.3095900</td><td>  0.21047015</td><td>0.09667741</td></tr>\n",
       "\t<tr><td>chrX</td><td>47786651</td><td>47786850</td><td>X:47786651-47786850</td><td>.</td><td>+</td><td>-0.02967703</td><td>1571.259</td><td> 1537.475</td><td>  0.1009399</td><td>  0.06453099</td><td>0.11287406</td></tr>\n",
       "</tbody>\n",
       "</table>\n"
      ],
      "text/latex": [
       "A tibble: 6 × 12\n",
       "\\begin{tabular}{llllllllllll}\n",
       " Chrom & Start & End & ID & Score & Strand & log2fc & Input\\_Count & Output\\_Count & log10pval & log10fdr & lfc-se\\\\\n",
       " <chr> & <dbl> & <dbl> & <chr> & <chr> & <chr> & <dbl> & <dbl> & <dbl> & <dbl> & <dbl> & <dbl>\\\\\n",
       "\\hline\n",
       "\t chrX & 47786401 & 47786600 & X:47786401-47786600 & . & + &  2.30593934 & 2117.787 & 10474.869 & 112.1126526 & 110.93113079 & 0.10214790\\\\\n",
       "\t chrX & 47786451 & 47786650 & X:47786451-47786650 & . & + &  0.78305606 & 1386.007 &  2387.119 &  11.3173884 &  10.64251685 & 0.11330705\\\\\n",
       "\t chrX & 47786501 & 47786700 & X:47786501-47786700 & . & + & -0.12873196 & 1955.626 &  1788.236 &   0.8450697 &   0.62872262 & 0.08785968\\\\\n",
       "\t chrX & 47786551 & 47786750 & X:47786551-47786750 & . & + &  0.58829515 & 2388.997 &  3591.264 &  11.2404554 &  10.56667887 & 0.08543661\\\\\n",
       "\t chrX & 47786601 & 47786800 & X:47786601-47786800 & . & + &  0.06670014 & 2102.916 &  2202.385 &   0.3095900 &   0.21047015 & 0.09667741\\\\\n",
       "\t chrX & 47786651 & 47786850 & X:47786651-47786850 & . & + & -0.02967703 & 1571.259 &  1537.475 &   0.1009399 &   0.06453099 & 0.11287406\\\\\n",
       "\\end{tabular}\n"
      ],
      "text/markdown": [
       "\n",
       "A tibble: 6 × 12\n",
       "\n",
       "| Chrom &lt;chr&gt; | Start &lt;dbl&gt; | End &lt;dbl&gt; | ID &lt;chr&gt; | Score &lt;chr&gt; | Strand &lt;chr&gt; | log2fc &lt;dbl&gt; | Input_Count &lt;dbl&gt; | Output_Count &lt;dbl&gt; | log10pval &lt;dbl&gt; | log10fdr &lt;dbl&gt; | lfc-se &lt;dbl&gt; |\n",
       "|---|---|---|---|---|---|---|---|---|---|---|---|\n",
       "| chrX | 47786401 | 47786600 | X:47786401-47786600 | . | + |  2.30593934 | 2117.787 | 10474.869 | 112.1126526 | 110.93113079 | 0.10214790 |\n",
       "| chrX | 47786451 | 47786650 | X:47786451-47786650 | . | + |  0.78305606 | 1386.007 |  2387.119 |  11.3173884 |  10.64251685 | 0.11330705 |\n",
       "| chrX | 47786501 | 47786700 | X:47786501-47786700 | . | + | -0.12873196 | 1955.626 |  1788.236 |   0.8450697 |   0.62872262 | 0.08785968 |\n",
       "| chrX | 47786551 | 47786750 | X:47786551-47786750 | . | + |  0.58829515 | 2388.997 |  3591.264 |  11.2404554 |  10.56667887 | 0.08543661 |\n",
       "| chrX | 47786601 | 47786800 | X:47786601-47786800 | . | + |  0.06670014 | 2102.916 |  2202.385 |   0.3095900 |   0.21047015 | 0.09667741 |\n",
       "| chrX | 47786651 | 47786850 | X:47786651-47786850 | . | + | -0.02967703 | 1571.259 |  1537.475 |   0.1009399 |   0.06453099 | 0.11287406 |\n",
       "\n"
      ],
      "text/plain": [
       "  Chrom Start    End      ID                  Score Strand log2fc     \n",
       "1 chrX  47786401 47786600 X:47786401-47786600 .     +       2.30593934\n",
       "2 chrX  47786451 47786650 X:47786451-47786650 .     +       0.78305606\n",
       "3 chrX  47786501 47786700 X:47786501-47786700 .     +      -0.12873196\n",
       "4 chrX  47786551 47786750 X:47786551-47786750 .     +       0.58829515\n",
       "5 chrX  47786601 47786800 X:47786601-47786800 .     +       0.06670014\n",
       "6 chrX  47786651 47786850 X:47786651-47786850 .     +      -0.02967703\n",
       "  Input_Count Output_Count log10pval   log10fdr     lfc-se    \n",
       "1 2117.787    10474.869    112.1126526 110.93113079 0.10214790\n",
       "2 1386.007     2387.119     11.3173884  10.64251685 0.11330705\n",
       "3 1955.626     1788.236      0.8450697   0.62872262 0.08785968\n",
       "4 2388.997     3591.264     11.2404554  10.56667887 0.08543661\n",
       "5 2102.916     2202.385      0.3095900   0.21047015 0.09667741\n",
       "6 1571.259     1537.475      0.1009399   0.06453099 0.11287406"
      ]
     },
     "metadata": {},
     "output_type": "display_data"
    }
   ],
   "source": [
    "### init: set file directory and path\n",
    "fdiry = file.path(FD_RES, \"Tewhey_K562_TileMPRA\", \"count\")\n",
    "fname = \"Tile_K562_20210130.GATA1.unstranded.bed\"\n",
    "fpath = file.path(fdiry, fname)\n",
    "\n",
    "### init: set column names\n",
    "cnames = c(\"Chrom\", \"Start\", \"End\", \"ID\", \"Score\", \"Strand\", \n",
    "           \"log2fc\", \"Input_Count\", \"Output_Count\", \n",
    "           \"log10pval\", \"log10fdr\", \"lfc-se\")\n",
    "\n",
    "### import data\n",
    "dat = read_tsv(fpath, col_names = cnames, show_col_types = FALSE)\n",
    "#dat = dat %>% mutate(Loc = (Start + End) / 2)\n",
    "\n",
    "### assign\n",
    "dat_mpra = dat\n",
    "print(dim(dat_mpra))\n",
    "head(dat_mpra)"
   ]
  },
  {
   "cell_type": "code",
   "execution_count": 24,
   "id": "6f275d17",
   "metadata": {},
   "outputs": [
    {
     "data": {
      "text/html": [
       "2.30630280126393"
      ],
      "text/latex": [
       "2.30630280126393"
      ],
      "text/markdown": [
       "2.30630280126393"
      ],
      "text/plain": [
       "[1] 2.306303"
      ]
     },
     "metadata": {},
     "output_type": "display_data"
    }
   ],
   "source": [
    "log2(10474.869/2117.787)"
   ]
  },
  {
   "cell_type": "code",
   "execution_count": 25,
   "id": "aff57053",
   "metadata": {},
   "outputs": [],
   "source": [
    "val1 = dat_mpra$log2fc\n",
    "val2 = log2(dat_mpra$Output_Count / dat_mpra$Input_Count)\n",
    "x = val1 - val2"
   ]
  },
  {
   "cell_type": "code",
   "execution_count": 29,
   "id": "38ea29a4",
   "metadata": {},
   "outputs": [
    {
     "name": "stderr",
     "output_type": "stream",
     "text": [
      "Warning message:\n",
      "“Removed 1554 rows containing non-finite values (stat_bin).”\n",
      "Warning message:\n",
      "“Removed 2 rows containing missing values (geom_bar).”\n"
     ]
    },
    {
     "data": {
      "image/png": "[encoded data removed]",
      "text/plain": [
       "plot without title"
      ]
     },
     "metadata": {
      "image/png": {
       "height": 300,
       "width": 600
      }
     },
     "output_type": "display_data"
    }
   ],
   "source": [
    "options(repr.plot.height=5, repr.plot.width=10)\n",
    "qplot(x, binwidth = 0.0001) + xlim(-0.01, 0.01) + theme_cowplot() + labs(title=\"Distribution of differences\")"
   ]
  },
  {
   "cell_type": "code",
   "execution_count": 31,
   "id": "12c93925",
   "metadata": {},
   "outputs": [
    {
     "data": {
      "text/html": [
       "5.40186736965783"
      ],
      "text/latex": [
       "5.40186736965783"
      ],
      "text/markdown": [
       "5.40186736965783"
      ],
      "text/plain": [
       "[1] 5.401867"
      ]
     },
     "metadata": {},
     "output_type": "display_data"
    }
   ],
   "source": [
    "log2(4.2278942 / 0.1)"
   ]
  },
  {
   "cell_type": "code",
   "execution_count": 35,
   "id": "071b5e01",
   "metadata": {},
   "outputs": [
    {
     "data": {
      "image/png": "[encoded data removed]",
      "text/plain": [
       "plot without title"
      ]
     },
     "metadata": {
      "image/png": {
       "height": 300,
       "width": 600
      }
     },
     "output_type": "display_data"
    }
   ],
   "source": [
    "qplot(dat_mpra$Input_Count, binwidth = 1) + theme_cowplot()"
   ]
  },
  {
   "cell_type": "code",
   "execution_count": 20,
   "id": "64de6a1c",
   "metadata": {},
   "outputs": [
    {
     "data": {
      "text/html": [
       "<table class=\"dataframe\">\n",
       "<caption>A spec_tbl_df: 14 × 12</caption>\n",
       "<thead>\n",
       "\t<tr><th scope=col>Chrom</th><th scope=col>Start</th><th scope=col>End</th><th scope=col>ID</th><th scope=col>Score</th><th scope=col>Strand</th><th scope=col>log2fc</th><th scope=col>Input_Count</th><th scope=col>Output_Count</th><th scope=col>log10pval</th><th scope=col>log10fdr</th><th scope=col>lfc-se</th></tr>\n",
       "\t<tr><th scope=col>&lt;chr&gt;</th><th scope=col>&lt;dbl&gt;</th><th scope=col>&lt;dbl&gt;</th><th scope=col>&lt;chr&gt;</th><th scope=col>&lt;chr&gt;</th><th scope=col>&lt;chr&gt;</th><th scope=col>&lt;dbl&gt;</th><th scope=col>&lt;dbl&gt;</th><th scope=col>&lt;dbl&gt;</th><th scope=col>&lt;dbl&gt;</th><th scope=col>&lt;dbl&gt;</th><th scope=col>&lt;dbl&gt;</th></tr>\n",
       "</thead>\n",
       "<tbody>\n",
       "\t<tr><td>chrX</td><td>47927001</td><td>47927200</td><td>X:47927001-47927200</td><td>.</td><td>+</td><td>5.068603</td><td>0</td><td> 4.2278942</td><td> 2.6595333</td><td> 2.2380199</td><td>1.654696</td></tr>\n",
       "\t<tr><td>chrX</td><td>47943401</td><td>47943600</td><td>X:47943401-47943600</td><td>.</td><td>+</td><td>4.343176</td><td>0</td><td> 2.6859533</td><td> 1.6726051</td><td> 1.3388774</td><td>1.885483</td></tr>\n",
       "\t<tr><td>chrX</td><td>47985951</td><td>47986150</td><td>X:47985951-47986150</td><td>.</td><td>+</td><td>2.416875</td><td>0</td><td> 0.6224711</td><td> 0.3526610</td><td> 0.2420383</td><td>3.157120</td></tr>\n",
       "\t<tr><td>chrX</td><td>48126501</td><td>48126700</td><td>X:48126501-48126700</td><td>.</td><td>+</td><td>3.149121</td><td>0</td><td> 1.1806591</td><td> 0.6350719</td><td> 0.4591993</td><td>2.633069</td></tr>\n",
       "\t<tr><td>chrX</td><td>48225701</td><td>48225900</td><td>X:48225701-48225900</td><td>.</td><td>+</td><td>3.723151</td><td>0</td><td> 1.6470938</td><td> 1.0912746</td><td> 0.8332311</td><td>2.134032</td></tr>\n",
       "\t<tr><td>chrX</td><td>48364201</td><td>48364400</td><td>X:48364201-48364400</td><td>.</td><td>+</td><td>2.646124</td><td>0</td><td> 0.7133872</td><td> 0.3965438</td><td> 0.2741806</td><td>3.152688</td></tr>\n",
       "\t<tr><td>chrX</td><td>48598611</td><td>48598810</td><td>X:48598611-48598810</td><td>.</td><td>+</td><td>3.278170</td><td>0</td><td> 1.1889787</td><td> 0.6813001</td><td> 0.4958346</td><td>2.605362</td></tr>\n",
       "\t<tr><td>chrX</td><td>48782951</td><td>48783150</td><td>X:48782951-48783150</td><td>.</td><td>+</td><td>8.178405</td><td>0</td><td>37.2283048</td><td>15.4114753</td><td>14.6848613</td><td>1.004430</td></tr>\n",
       "\t<tr><td>chrX</td><td>48835401</td><td>48835600</td><td>X:48835401-48835600</td><td>.</td><td>+</td><td>3.759029</td><td>0</td><td> 1.6645702</td><td> 0.9732406</td><td> 0.7344058</td><td>2.327870</td></tr>\n",
       "\t<tr><td>chrX</td><td>48957171</td><td>48957370</td><td>X:48957171-48957370</td><td>.</td><td>+</td><td>6.148774</td><td>0</td><td> 9.1696369</td><td> 5.9950613</td><td> 5.4261970</td><td>1.257572</td></tr>\n",
       "\t<tr><td>chrX</td><td>48980371</td><td>48980570</td><td>X:48980371-48980570</td><td>.</td><td>+</td><td>3.566948</td><td>0</td><td> 1.5742121</td><td> 0.8684731</td><td> 0.6481449</td><td>2.388712</td></tr>\n",
       "\t<tr><td>chrX</td><td>49156271</td><td>49156470</td><td>X:49156271-49156470</td><td>.</td><td>+</td><td>7.340011</td><td>0</td><td>21.0131015</td><td> 9.8850902</td><td> 9.2319454</td><td>1.142088</td></tr>\n",
       "\t<tr><td>chrX</td><td>49547851</td><td>49548050</td><td>X:49547851-49548050</td><td>.</td><td>+</td><td>3.278170</td><td>0</td><td> 1.1889787</td><td> 0.6813001</td><td> 0.4958346</td><td>2.605362</td></tr>\n",
       "\t<tr><td>chrX</td><td>49586151</td><td>49586350</td><td>X:49586151-49586350</td><td>.</td><td>+</td><td>2.416222</td><td>0</td><td> 0.7871061</td><td> 0.3702683</td><td> 0.2546234</td><td>3.037319</td></tr>\n",
       "</tbody>\n",
       "</table>\n"
      ],
      "text/latex": [
       "A spec\\_tbl\\_df: 14 × 12\n",
       "\\begin{tabular}{llllllllllll}\n",
       " Chrom & Start & End & ID & Score & Strand & log2fc & Input\\_Count & Output\\_Count & log10pval & log10fdr & lfc-se\\\\\n",
       " <chr> & <dbl> & <dbl> & <chr> & <chr> & <chr> & <dbl> & <dbl> & <dbl> & <dbl> & <dbl> & <dbl>\\\\\n",
       "\\hline\n",
       "\t chrX & 47927001 & 47927200 & X:47927001-47927200 & . & + & 5.068603 & 0 &  4.2278942 &  2.6595333 &  2.2380199 & 1.654696\\\\\n",
       "\t chrX & 47943401 & 47943600 & X:47943401-47943600 & . & + & 4.343176 & 0 &  2.6859533 &  1.6726051 &  1.3388774 & 1.885483\\\\\n",
       "\t chrX & 47985951 & 47986150 & X:47985951-47986150 & . & + & 2.416875 & 0 &  0.6224711 &  0.3526610 &  0.2420383 & 3.157120\\\\\n",
       "\t chrX & 48126501 & 48126700 & X:48126501-48126700 & . & + & 3.149121 & 0 &  1.1806591 &  0.6350719 &  0.4591993 & 2.633069\\\\\n",
       "\t chrX & 48225701 & 48225900 & X:48225701-48225900 & . & + & 3.723151 & 0 &  1.6470938 &  1.0912746 &  0.8332311 & 2.134032\\\\\n",
       "\t chrX & 48364201 & 48364400 & X:48364201-48364400 & . & + & 2.646124 & 0 &  0.7133872 &  0.3965438 &  0.2741806 & 3.152688\\\\\n",
       "\t chrX & 48598611 & 48598810 & X:48598611-48598810 & . & + & 3.278170 & 0 &  1.1889787 &  0.6813001 &  0.4958346 & 2.605362\\\\\n",
       "\t chrX & 48782951 & 48783150 & X:48782951-48783150 & . & + & 8.178405 & 0 & 37.2283048 & 15.4114753 & 14.6848613 & 1.004430\\\\\n",
       "\t chrX & 48835401 & 48835600 & X:48835401-48835600 & . & + & 3.759029 & 0 &  1.6645702 &  0.9732406 &  0.7344058 & 2.327870\\\\\n",
       "\t chrX & 48957171 & 48957370 & X:48957171-48957370 & . & + & 6.148774 & 0 &  9.1696369 &  5.9950613 &  5.4261970 & 1.257572\\\\\n",
       "\t chrX & 48980371 & 48980570 & X:48980371-48980570 & . & + & 3.566948 & 0 &  1.5742121 &  0.8684731 &  0.6481449 & 2.388712\\\\\n",
       "\t chrX & 49156271 & 49156470 & X:49156271-49156470 & . & + & 7.340011 & 0 & 21.0131015 &  9.8850902 &  9.2319454 & 1.142088\\\\\n",
       "\t chrX & 49547851 & 49548050 & X:49547851-49548050 & . & + & 3.278170 & 0 &  1.1889787 &  0.6813001 &  0.4958346 & 2.605362\\\\\n",
       "\t chrX & 49586151 & 49586350 & X:49586151-49586350 & . & + & 2.416222 & 0 &  0.7871061 &  0.3702683 &  0.2546234 & 3.037319\\\\\n",
       "\\end{tabular}\n"
      ],
      "text/markdown": [
       "\n",
       "A spec_tbl_df: 14 × 12\n",
       "\n",
       "| Chrom &lt;chr&gt; | Start &lt;dbl&gt; | End &lt;dbl&gt; | ID &lt;chr&gt; | Score &lt;chr&gt; | Strand &lt;chr&gt; | log2fc &lt;dbl&gt; | Input_Count &lt;dbl&gt; | Output_Count &lt;dbl&gt; | log10pval &lt;dbl&gt; | log10fdr &lt;dbl&gt; | lfc-se &lt;dbl&gt; |\n",
       "|---|---|---|---|---|---|---|---|---|---|---|---|\n",
       "| chrX | 47927001 | 47927200 | X:47927001-47927200 | . | + | 5.068603 | 0 |  4.2278942 |  2.6595333 |  2.2380199 | 1.654696 |\n",
       "| chrX | 47943401 | 47943600 | X:47943401-47943600 | . | + | 4.343176 | 0 |  2.6859533 |  1.6726051 |  1.3388774 | 1.885483 |\n",
       "| chrX | 47985951 | 47986150 | X:47985951-47986150 | . | + | 2.416875 | 0 |  0.6224711 |  0.3526610 |  0.2420383 | 3.157120 |\n",
       "| chrX | 48126501 | 48126700 | X:48126501-48126700 | . | + | 3.149121 | 0 |  1.1806591 |  0.6350719 |  0.4591993 | 2.633069 |\n",
       "| chrX | 48225701 | 48225900 | X:48225701-48225900 | . | + | 3.723151 | 0 |  1.6470938 |  1.0912746 |  0.8332311 | 2.134032 |\n",
       "| chrX | 48364201 | 48364400 | X:48364201-48364400 | . | + | 2.646124 | 0 |  0.7133872 |  0.3965438 |  0.2741806 | 3.152688 |\n",
       "| chrX | 48598611 | 48598810 | X:48598611-48598810 | . | + | 3.278170 | 0 |  1.1889787 |  0.6813001 |  0.4958346 | 2.605362 |\n",
       "| chrX | 48782951 | 48783150 | X:48782951-48783150 | . | + | 8.178405 | 0 | 37.2283048 | 15.4114753 | 14.6848613 | 1.004430 |\n",
       "| chrX | 48835401 | 48835600 | X:48835401-48835600 | . | + | 3.759029 | 0 |  1.6645702 |  0.9732406 |  0.7344058 | 2.327870 |\n",
       "| chrX | 48957171 | 48957370 | X:48957171-48957370 | . | + | 6.148774 | 0 |  9.1696369 |  5.9950613 |  5.4261970 | 1.257572 |\n",
       "| chrX | 48980371 | 48980570 | X:48980371-48980570 | . | + | 3.566948 | 0 |  1.5742121 |  0.8684731 |  0.6481449 | 2.388712 |\n",
       "| chrX | 49156271 | 49156470 | X:49156271-49156470 | . | + | 7.340011 | 0 | 21.0131015 |  9.8850902 |  9.2319454 | 1.142088 |\n",
       "| chrX | 49547851 | 49548050 | X:49547851-49548050 | . | + | 3.278170 | 0 |  1.1889787 |  0.6813001 |  0.4958346 | 2.605362 |\n",
       "| chrX | 49586151 | 49586350 | X:49586151-49586350 | . | + | 2.416222 | 0 |  0.7871061 |  0.3702683 |  0.2546234 | 3.037319 |\n",
       "\n"
      ],
      "text/plain": [
       "   Chrom Start    End      ID                  Score Strand log2fc  \n",
       "1  chrX  47927001 47927200 X:47927001-47927200 .     +      5.068603\n",
       "2  chrX  47943401 47943600 X:47943401-47943600 .     +      4.343176\n",
       "3  chrX  47985951 47986150 X:47985951-47986150 .     +      2.416875\n",
       "4  chrX  48126501 48126700 X:48126501-48126700 .     +      3.149121\n",
       "5  chrX  48225701 48225900 X:48225701-48225900 .     +      3.723151\n",
       "6  chrX  48364201 48364400 X:48364201-48364400 .     +      2.646124\n",
       "7  chrX  48598611 48598810 X:48598611-48598810 .     +      3.278170\n",
       "8  chrX  48782951 48783150 X:48782951-48783150 .     +      8.178405\n",
       "9  chrX  48835401 48835600 X:48835401-48835600 .     +      3.759029\n",
       "10 chrX  48957171 48957370 X:48957171-48957370 .     +      6.148774\n",
       "11 chrX  48980371 48980570 X:48980371-48980570 .     +      3.566948\n",
       "12 chrX  49156271 49156470 X:49156271-49156470 .     +      7.340011\n",
       "13 chrX  49547851 49548050 X:49547851-49548050 .     +      3.278170\n",
       "14 chrX  49586151 49586350 X:49586151-49586350 .     +      2.416222\n",
       "   Input_Count Output_Count log10pval  log10fdr   lfc-se  \n",
       "1  0            4.2278942    2.6595333  2.2380199 1.654696\n",
       "2  0            2.6859533    1.6726051  1.3388774 1.885483\n",
       "3  0            0.6224711    0.3526610  0.2420383 3.157120\n",
       "4  0            1.1806591    0.6350719  0.4591993 2.633069\n",
       "5  0            1.6470938    1.0912746  0.8332311 2.134032\n",
       "6  0            0.7133872    0.3965438  0.2741806 3.152688\n",
       "7  0            1.1889787    0.6813001  0.4958346 2.605362\n",
       "8  0           37.2283048   15.4114753 14.6848613 1.004430\n",
       "9  0            1.6645702    0.9732406  0.7344058 2.327870\n",
       "10 0            9.1696369    5.9950613  5.4261970 1.257572\n",
       "11 0            1.5742121    0.8684731  0.6481449 2.388712\n",
       "12 0           21.0131015    9.8850902  9.2319454 1.142088\n",
       "13 0            1.1889787    0.6813001  0.4958346 2.605362\n",
       "14 0            0.7871061    0.3702683  0.2546234 3.037319"
      ]
     },
     "metadata": {},
     "output_type": "display_data"
    }
   ],
   "source": [
    "dat_mpra %>% dplyr::filter(Input_Count == 0)"
   ]
  },
  {
   "cell_type": "code",
   "execution_count": 32,
   "id": "91f413fe",
   "metadata": {},
   "outputs": [
    {
     "data": {
      "text/html": [
       "<table class=\"dataframe\">\n",
       "<caption>A spec_tbl_df: 77 × 12</caption>\n",
       "<thead>\n",
       "\t<tr><th scope=col>Chrom</th><th scope=col>Start</th><th scope=col>End</th><th scope=col>ID</th><th scope=col>Score</th><th scope=col>Strand</th><th scope=col>log2fc</th><th scope=col>Input_Count</th><th scope=col>Output_Count</th><th scope=col>log10pval</th><th scope=col>log10fdr</th><th scope=col>lfc-se</th></tr>\n",
       "\t<tr><th scope=col>&lt;chr&gt;</th><th scope=col>&lt;dbl&gt;</th><th scope=col>&lt;dbl&gt;</th><th scope=col>&lt;chr&gt;</th><th scope=col>&lt;chr&gt;</th><th scope=col>&lt;chr&gt;</th><th scope=col>&lt;dbl&gt;</th><th scope=col>&lt;dbl&gt;</th><th scope=col>&lt;dbl&gt;</th><th scope=col>&lt;dbl&gt;</th><th scope=col>&lt;dbl&gt;</th><th scope=col>&lt;dbl&gt;</th></tr>\n",
       "</thead>\n",
       "<tbody>\n",
       "\t<tr><td>chrX</td><td>47790801</td><td>47791000</td><td>X:47790801-47791000</td><td>.</td><td>+</td><td> 0.07335075</td><td>0.2833579</td><td>0</td><td>0.008116185</td><td>0.004977905</td><td>3.160747</td></tr>\n",
       "\t<tr><td>chrX</td><td>47790851</td><td>47791050</td><td>X:47790851-47791050</td><td>.</td><td>+</td><td> 0.07335075</td><td>0.2805319</td><td>0</td><td>0.008116185</td><td>0.004977905</td><td>3.160747</td></tr>\n",
       "\t<tr><td>chrX</td><td>47813651</td><td>47813850</td><td>X:47813651-47813850</td><td>.</td><td>+</td><td>-3.01402138</td><td>2.4364958</td><td>0</td><td>0.491601038</td><td>0.346375605</td><td>3.045906</td></tr>\n",
       "\t<tr><td>chrX</td><td>47814151</td><td>47814350</td><td>X:47814151-47814350</td><td>.</td><td>+</td><td>-1.18646424</td><td>0.6846483</td><td>0</td><td>0.153962451</td><td>0.100133938</td><td>3.095596</td></tr>\n",
       "\t<tr><td>chrX</td><td>47814201</td><td>47814400</td><td>X:47814201-47814400</td><td>.</td><td>+</td><td> 0.65042011</td><td>0.1309741</td><td>0</td><td>0.077294068</td><td>0.049143424</td><td>3.160747</td></tr>\n",
       "\t<tr><td>chrX</td><td>47830901</td><td>47831100</td><td>X:47830901-47831100</td><td>.</td><td>+</td><td> 0.65042011</td><td>0.1409000</td><td>0</td><td>0.077294068</td><td>0.049143424</td><td>3.160747</td></tr>\n",
       "\t<tr><td>chrX</td><td>47835251</td><td>47835450</td><td>X:47835251-47835450</td><td>.</td><td>+</td><td> 0.07335075</td><td>0.2718741</td><td>0</td><td>0.008116185</td><td>0.004977905</td><td>3.160747</td></tr>\n",
       "\t<tr><td>chrX</td><td>47858151</td><td>47858350</td><td>X:47858151-47858350</td><td>.</td><td>+</td><td>-2.47218117</td><td>1.6722530</td><td>0</td><td>0.378446520</td><td>0.260536637</td><td>3.054851</td></tr>\n",
       "\t<tr><td>chrX</td><td>47903651</td><td>47903850</td><td>X:47903651-47903850</td><td>.</td><td>+</td><td>-2.13895812</td><td>1.3239407</td><td>0</td><td>0.314374867</td><td>0.213761374</td><td>3.062253</td></tr>\n",
       "\t<tr><td>chrX</td><td>47905101</td><td>47905300</td><td>X:47905101-47905300</td><td>.</td><td>+</td><td>-0.51148542</td><td>0.4312869</td><td>0</td><td>0.060256419</td><td>0.037801370</td><td>3.136263</td></tr>\n",
       "\t<tr><td>chrX</td><td>47909701</td><td>47909900</td><td>X:47909701-47909900</td><td>.</td><td>+</td><td> 0.65042011</td><td>0.1479290</td><td>0</td><td>0.077294068</td><td>0.049143424</td><td>3.160747</td></tr>\n",
       "\t<tr><td>chrX</td><td>47947001</td><td>47947200</td><td>X:47947001-47947200</td><td>.</td><td>+</td><td>-1.68373147</td><td>0.9676833</td><td>0</td><td>0.233541350</td><td>0.155611379</td><td>3.075524</td></tr>\n",
       "\t<tr><td>chrX</td><td>48050651</td><td>48050850</td><td>X:48050651-48050850</td><td>.</td><td>+</td><td>-2.20958760</td><td>1.3939307</td><td>0</td><td>0.327607460</td><td>0.223464100</td><td>3.060540</td></tr>\n",
       "\t<tr><td>chrX</td><td>48050801</td><td>48051000</td><td>X:48050801-48051000</td><td>.</td><td>+</td><td>-2.46878630</td><td>1.6681602</td><td>0</td><td>0.377772696</td><td>0.260085380</td><td>3.054918</td></tr>\n",
       "\t<tr><td>chrX</td><td>48055951</td><td>48056150</td><td>X:48055951-48056150</td><td>.</td><td>+</td><td>-1.66000651</td><td>0.9507284</td><td>0</td><td>0.229538796</td><td>0.152815420</td><td>3.076335</td></tr>\n",
       "\t<tr><td>chrX</td><td>48079801</td><td>48080000</td><td>X:48079801-48080000</td><td>.</td><td>+</td><td>-1.64017578</td><td>0.9366705</td><td>0</td><td>0.226209119</td><td>0.150455291</td><td>3.077023</td></tr>\n",
       "\t<tr><td>chrX</td><td>48115601</td><td>48115800</td><td>X:48115601-48115800</td><td>.</td><td>+</td><td> 0.65042011</td><td>0.1409000</td><td>0</td><td>0.077294068</td><td>0.049143424</td><td>3.160747</td></tr>\n",
       "\t<tr><td>chrX</td><td>48148451</td><td>48148650</td><td>X:48148451-48148650</td><td>.</td><td>+</td><td> 0.65042011</td><td>0.1380740</td><td>0</td><td>0.077294068</td><td>0.049143424</td><td>3.160747</td></tr>\n",
       "\t<tr><td>chrX</td><td>48163301</td><td>48163500</td><td>X:48163301-48163500</td><td>.</td><td>+</td><td>-3.66223287</td><td>3.8167722</td><td>0</td><td>0.641798285</td><td>0.464653585</td><td>3.038785</td></tr>\n",
       "\t<tr><td>chrX</td><td>48207951</td><td>48208150</td><td>X:48207951-48208150</td><td>.</td><td>+</td><td> 0.65042011</td><td>0.1309741</td><td>0</td><td>0.077294068</td><td>0.049143424</td><td>3.160747</td></tr>\n",
       "\t<tr><td>chrX</td><td>48312201</td><td>48312400</td><td>X:48312201-48312400</td><td>.</td><td>+</td><td>-3.67364534</td><td>3.8475623</td><td>0</td><td>0.644589205</td><td>0.466842049</td><td>3.038686</td></tr>\n",
       "\t<tr><td>chrX</td><td>48326001</td><td>48326200</td><td>X:48326001-48326200</td><td>.</td><td>+</td><td>-2.09408829</td><td>1.2883896</td><td>0</td><td>0.306065244</td><td>0.207840134</td><td>3.063385</td></tr>\n",
       "\t<tr><td>chrX</td><td>48378751</td><td>48378950</td><td>X:48378751-48378950</td><td>.</td><td>+</td><td>-1.19226477</td><td>0.6876539</td><td>0</td><td>0.154838766</td><td>0.100767611</td><td>3.095321</td></tr>\n",
       "\t<tr><td>chrX</td><td>48378801</td><td>48379000</td><td>X:48378801-48379000</td><td>.</td><td>+</td><td> 0.07335075</td><td>0.2958580</td><td>0</td><td>0.008116185</td><td>0.004977905</td><td>3.160747</td></tr>\n",
       "\t<tr><td>chrX</td><td>48382851</td><td>48383050</td><td>X:48382851-48383050</td><td>.</td><td>+</td><td> 0.65042011</td><td>0.1380740</td><td>0</td><td>0.077294068</td><td>0.049143424</td><td>3.160747</td></tr>\n",
       "\t<tr><td>chrX</td><td>48382901</td><td>48383100</td><td>X:48382901-48383100</td><td>.</td><td>+</td><td> 0.07335075</td><td>0.2849158</td><td>0</td><td>0.008116185</td><td>0.004977905</td><td>3.160747</td></tr>\n",
       "\t<tr><td>chrX</td><td>48391101</td><td>48391300</td><td>X:48391101-48391300</td><td>.</td><td>+</td><td> 0.65042011</td><td>0.1380740</td><td>0</td><td>0.077294068</td><td>0.049143424</td><td>3.160747</td></tr>\n",
       "\t<tr><td>chrX</td><td>48391401</td><td>48391600</td><td>X:48391401-48391600</td><td>.</td><td>+</td><td> 0.65042011</td><td>0.1409000</td><td>0</td><td>0.077294068</td><td>0.049143424</td><td>3.160747</td></tr>\n",
       "\t<tr><td>chrX</td><td>48403751</td><td>48403950</td><td>X:48403751-48403950</td><td>.</td><td>+</td><td>-2.71209730</td><td>1.9756830</td><td>0</td><td>0.427170460</td><td>0.297329292</td><td>3.050477</td></tr>\n",
       "\t<tr><td>chrX</td><td>48438101</td><td>48438300</td><td>X:48438101-48438300</td><td>.</td><td>+</td><td> 0.07335075</td><td>0.2958580</td><td>0</td><td>0.008116185</td><td>0.004977905</td><td>3.160747</td></tr>\n",
       "\t<tr><td>⋮</td><td>⋮</td><td>⋮</td><td>⋮</td><td>⋮</td><td>⋮</td><td>⋮</td><td>⋮</td><td>⋮</td><td>⋮</td><td>⋮</td><td>⋮</td></tr>\n",
       "\t<tr><td>chrX</td><td>48862331</td><td>48862530</td><td>X:48862331-48862530</td><td>.</td><td>+</td><td>-2.37605781</td><td> 1.5658058</td><td>0</td><td>0.359535754</td><td>0.246990506</td><td>3.056815</td></tr>\n",
       "\t<tr><td>chrX</td><td>48871751</td><td>48871950</td><td>X:48871751-48871950</td><td>.</td><td>+</td><td>-3.60479182</td><td> 3.6676851</td><td>0</td><td>0.627828541</td><td>0.453409066</td><td>3.039295</td></tr>\n",
       "\t<tr><td>chrX</td><td>48872201</td><td>48872400</td><td>X:48872201-48872400</td><td>.</td><td>+</td><td>-3.27615868</td><td> 2.9195939</td><td>0</td><td>0.550379098</td><td>0.392456521</td><td>3.042639</td></tr>\n",
       "\t<tr><td>chrX</td><td>48873551</td><td>48873750</td><td>X:48873551-48873750</td><td>.</td><td>+</td><td>-3.56548543</td><td> 3.5672225</td><td>0</td><td>0.618343561</td><td>0.445736991</td><td>3.039656</td></tr>\n",
       "\t<tr><td>chrX</td><td>48880601</td><td>48880800</td><td>X:48880601-48880800</td><td>.</td><td>+</td><td>-2.51727643</td><td> 1.7275030</td><td>0</td><td>0.387438458</td><td>0.267151326</td><td>3.053973</td></tr>\n",
       "\t<tr><td>chrX</td><td>48887901</td><td>48888100</td><td>X:48887901-48888100</td><td>.</td><td>+</td><td>-1.39014724</td><td> 0.7858445</td><td>0</td><td>0.185466125</td><td>0.121799347</td><td>3.086548</td></tr>\n",
       "\t<tr><td>chrX</td><td>48939621</td><td>48939820</td><td>X:48939621-48939820</td><td>.</td><td>+</td><td> 0.65042011</td><td> 0.1380740</td><td>0</td><td>0.077294068</td><td>0.049143424</td><td>3.160747</td></tr>\n",
       "\t<tr><td>chrX</td><td>48939691</td><td>48939890</td><td>X:48939691-48939890</td><td>.</td><td>+</td><td>-1.91069444</td><td> 1.1341569</td><td>0</td><td>0.272881635</td><td>0.183820465</td><td>3.068392</td></tr>\n",
       "\t<tr><td>chrX</td><td>48939711</td><td>48939910</td><td>X:48939711-48939910</td><td>.</td><td>+</td><td>-2.91542335</td><td> 2.2750882</td><td>0</td><td>0.470176895</td><td>0.330364808</td><td>3.047296</td></tr>\n",
       "\t<tr><td>chrX</td><td>48971561</td><td>48971760</td><td>X:48971561-48971760</td><td>.</td><td>+</td><td> 0.65042011</td><td> 0.1479290</td><td>0</td><td>0.077294068</td><td>0.049143424</td><td>3.160747</td></tr>\n",
       "\t<tr><td>chrX</td><td>49043061</td><td>49043260</td><td>X:49043061-49043260</td><td>.</td><td>+</td><td>-0.89217874</td><td> 0.5594349</td><td>0</td><td>0.111099050</td><td>0.071600713</td><td>3.111084</td></tr>\n",
       "\t<tr><td>chrX</td><td>49136151</td><td>49136350</td><td>X:49136151-49136350</td><td>.</td><td>+</td><td>-2.69591744</td><td> 1.9528949</td><td>0</td><td>0.423815867</td><td>0.294817206</td><td>3.050750</td></tr>\n",
       "\t<tr><td>chrX</td><td>49156751</td><td>49156950</td><td>X:49156751-49156950</td><td>.</td><td>+</td><td>-2.02735518</td><td> 1.2270183</td><td>0</td><td>0.293845579</td><td>0.199024379</td><td>3.065135</td></tr>\n",
       "\t<tr><td>chrX</td><td>49156791</td><td>49156990</td><td>X:49156791-49156990</td><td>.</td><td>+</td><td> 0.07335075</td><td> 0.2833579</td><td>0</td><td>0.008116185</td><td>0.004977905</td><td>3.160747</td></tr>\n",
       "\t<tr><td>chrX</td><td>49156821</td><td>49157020</td><td>X:49156821-49157020</td><td>.</td><td>+</td><td>-1.71222705</td><td> 0.9881478</td><td>0</td><td>0.238376150</td><td>0.158972679</td><td>3.074567</td></tr>\n",
       "\t<tr><td>chrX</td><td>49191931</td><td>49192130</td><td>X:49191931-49192130</td><td>.</td><td>+</td><td>-0.86309576</td><td> 0.5468639</td><td>0</td><td>0.107032340</td><td>0.068652356</td><td>3.112788</td></tr>\n",
       "\t<tr><td>chrX</td><td>49253201</td><td>49253400</td><td>X:49253201-49253400</td><td>.</td><td>+</td><td>-1.82515088</td><td> 1.0648185</td><td>0</td><td>0.257830401</td><td>0.172768395</td><td>3.070951</td></tr>\n",
       "\t<tr><td>chrX</td><td>49318601</td><td>49318800</td><td>X:49318601-49318800</td><td>.</td><td>+</td><td> 0.65042011</td><td> 0.1380740</td><td>0</td><td>0.077294068</td><td>0.049143424</td><td>3.160747</td></tr>\n",
       "\t<tr><td>chrX</td><td>49318651</td><td>49318850</td><td>X:49318651-49318850</td><td>.</td><td>+</td><td> 0.65042011</td><td> 0.1424579</td><td>0</td><td>0.077294068</td><td>0.049143424</td><td>3.160747</td></tr>\n",
       "\t<tr><td>chrX</td><td>49334451</td><td>49334650</td><td>X:49334451-49334650</td><td>.</td><td>+</td><td> 0.65042011</td><td> 0.1309741</td><td>0</td><td>0.077294068</td><td>0.049143424</td><td>3.160747</td></tr>\n",
       "\t<tr><td>chrX</td><td>49344001</td><td>49344200</td><td>X:49344001-49344200</td><td>.</td><td>+</td><td> 0.65042011</td><td> 0.1309741</td><td>0</td><td>0.077294068</td><td>0.049143424</td><td>3.160747</td></tr>\n",
       "\t<tr><td>chrX</td><td>49586051</td><td>49586250</td><td>X:49586051-49586250</td><td>.</td><td>+</td><td>-2.08577683</td><td> 1.2805631</td><td>0</td><td>0.304534261</td><td>0.206762854</td><td>3.063599</td></tr>\n",
       "\t<tr><td>chrX</td><td>49703701</td><td>49703900</td><td>X:49703701-49703900</td><td>.</td><td>+</td><td>-5.12084719</td><td>10.4882157</td><td>0</td><td>1.040473528</td><td>0.790809812</td><td>3.030778</td></tr>\n",
       "\t<tr><td>chrX</td><td>49707351</td><td>49707550</td><td>X:49707351-49707550</td><td>.</td><td>+</td><td>-1.88891966</td><td> 1.1161148</td><td>0</td><td>0.269024675</td><td>0.181038131</td><td>3.069030</td></tr>\n",
       "\t<tr><td>chrX</td><td>49707401</td><td>49707600</td><td>X:49707401-49707600</td><td>.</td><td>+</td><td>-2.34801950</td><td> 1.5343209</td><td>0</td><td>0.354085220</td><td>0.243056113</td><td>3.057413</td></tr>\n",
       "\t<tr><td>chrX</td><td>49737651</td><td>49737850</td><td>X:49737651-49737850</td><td>.</td><td>+</td><td> 0.07335075</td><td> 0.2958580</td><td>0</td><td>0.008116185</td><td>0.004977905</td><td>3.160747</td></tr>\n",
       "\t<tr><td>chrX</td><td>49742701</td><td>49742900</td><td>X:49742701-49742900</td><td>.</td><td>+</td><td> 0.07335075</td><td> 0.2718741</td><td>0</td><td>0.008116185</td><td>0.004977905</td><td>3.160747</td></tr>\n",
       "\t<tr><td>chrX</td><td>49742801</td><td>49743000</td><td>X:49742801-49743000</td><td>.</td><td>+</td><td>-4.21328337</td><td> 5.5910541</td><td>0</td><td>0.782417406</td><td>0.577421864</td><td>3.034792</td></tr>\n",
       "\t<tr><td>chrX</td><td>49768151</td><td>49768350</td><td>X:49768151-49768350</td><td>.</td><td>+</td><td>-1.92127155</td><td> 1.1430347</td><td>0</td><td>0.274761502</td><td>0.185200746</td><td>3.068086</td></tr>\n",
       "\t<tr><td>chrX</td><td>49782251</td><td>49782450</td><td>X:49782251-49782450</td><td>.</td><td>+</td><td>-2.62109616</td><td> 1.8557988</td><td>0</td><td>0.408432420</td><td>0.283030171</td><td>3.052052</td></tr>\n",
       "</tbody>\n",
       "</table>\n"
      ],
      "text/latex": [
       "A spec\\_tbl\\_df: 77 × 12\n",
       "\\begin{tabular}{llllllllllll}\n",
       " Chrom & Start & End & ID & Score & Strand & log2fc & Input\\_Count & Output\\_Count & log10pval & log10fdr & lfc-se\\\\\n",
       " <chr> & <dbl> & <dbl> & <chr> & <chr> & <chr> & <dbl> & <dbl> & <dbl> & <dbl> & <dbl> & <dbl>\\\\\n",
       "\\hline\n",
       "\t chrX & 47790801 & 47791000 & X:47790801-47791000 & . & + &  0.07335075 & 0.2833579 & 0 & 0.008116185 & 0.004977905 & 3.160747\\\\\n",
       "\t chrX & 47790851 & 47791050 & X:47790851-47791050 & . & + &  0.07335075 & 0.2805319 & 0 & 0.008116185 & 0.004977905 & 3.160747\\\\\n",
       "\t chrX & 47813651 & 47813850 & X:47813651-47813850 & . & + & -3.01402138 & 2.4364958 & 0 & 0.491601038 & 0.346375605 & 3.045906\\\\\n",
       "\t chrX & 47814151 & 47814350 & X:47814151-47814350 & . & + & -1.18646424 & 0.6846483 & 0 & 0.153962451 & 0.100133938 & 3.095596\\\\\n",
       "\t chrX & 47814201 & 47814400 & X:47814201-47814400 & . & + &  0.65042011 & 0.1309741 & 0 & 0.077294068 & 0.049143424 & 3.160747\\\\\n",
       "\t chrX & 47830901 & 47831100 & X:47830901-47831100 & . & + &  0.65042011 & 0.1409000 & 0 & 0.077294068 & 0.049143424 & 3.160747\\\\\n",
       "\t chrX & 47835251 & 47835450 & X:47835251-47835450 & . & + &  0.07335075 & 0.2718741 & 0 & 0.008116185 & 0.004977905 & 3.160747\\\\\n",
       "\t chrX & 47858151 & 47858350 & X:47858151-47858350 & . & + & -2.47218117 & 1.6722530 & 0 & 0.378446520 & 0.260536637 & 3.054851\\\\\n",
       "\t chrX & 47903651 & 47903850 & X:47903651-47903850 & . & + & -2.13895812 & 1.3239407 & 0 & 0.314374867 & 0.213761374 & 3.062253\\\\\n",
       "\t chrX & 47905101 & 47905300 & X:47905101-47905300 & . & + & -0.51148542 & 0.4312869 & 0 & 0.060256419 & 0.037801370 & 3.136263\\\\\n",
       "\t chrX & 47909701 & 47909900 & X:47909701-47909900 & . & + &  0.65042011 & 0.1479290 & 0 & 0.077294068 & 0.049143424 & 3.160747\\\\\n",
       "\t chrX & 47947001 & 47947200 & X:47947001-47947200 & . & + & -1.68373147 & 0.9676833 & 0 & 0.233541350 & 0.155611379 & 3.075524\\\\\n",
       "\t chrX & 48050651 & 48050850 & X:48050651-48050850 & . & + & -2.20958760 & 1.3939307 & 0 & 0.327607460 & 0.223464100 & 3.060540\\\\\n",
       "\t chrX & 48050801 & 48051000 & X:48050801-48051000 & . & + & -2.46878630 & 1.6681602 & 0 & 0.377772696 & 0.260085380 & 3.054918\\\\\n",
       "\t chrX & 48055951 & 48056150 & X:48055951-48056150 & . & + & -1.66000651 & 0.9507284 & 0 & 0.229538796 & 0.152815420 & 3.076335\\\\\n",
       "\t chrX & 48079801 & 48080000 & X:48079801-48080000 & . & + & -1.64017578 & 0.9366705 & 0 & 0.226209119 & 0.150455291 & 3.077023\\\\\n",
       "\t chrX & 48115601 & 48115800 & X:48115601-48115800 & . & + &  0.65042011 & 0.1409000 & 0 & 0.077294068 & 0.049143424 & 3.160747\\\\\n",
       "\t chrX & 48148451 & 48148650 & X:48148451-48148650 & . & + &  0.65042011 & 0.1380740 & 0 & 0.077294068 & 0.049143424 & 3.160747\\\\\n",
       "\t chrX & 48163301 & 48163500 & X:48163301-48163500 & . & + & -3.66223287 & 3.8167722 & 0 & 0.641798285 & 0.464653585 & 3.038785\\\\\n",
       "\t chrX & 48207951 & 48208150 & X:48207951-48208150 & . & + &  0.65042011 & 0.1309741 & 0 & 0.077294068 & 0.049143424 & 3.160747\\\\\n",
       "\t chrX & 48312201 & 48312400 & X:48312201-48312400 & . & + & -3.67364534 & 3.8475623 & 0 & 0.644589205 & 0.466842049 & 3.038686\\\\\n",
       "\t chrX & 48326001 & 48326200 & X:48326001-48326200 & . & + & -2.09408829 & 1.2883896 & 0 & 0.306065244 & 0.207840134 & 3.063385\\\\\n",
       "\t chrX & 48378751 & 48378950 & X:48378751-48378950 & . & + & -1.19226477 & 0.6876539 & 0 & 0.154838766 & 0.100767611 & 3.095321\\\\\n",
       "\t chrX & 48378801 & 48379000 & X:48378801-48379000 & . & + &  0.07335075 & 0.2958580 & 0 & 0.008116185 & 0.004977905 & 3.160747\\\\\n",
       "\t chrX & 48382851 & 48383050 & X:48382851-48383050 & . & + &  0.65042011 & 0.1380740 & 0 & 0.077294068 & 0.049143424 & 3.160747\\\\\n",
       "\t chrX & 48382901 & 48383100 & X:48382901-48383100 & . & + &  0.07335075 & 0.2849158 & 0 & 0.008116185 & 0.004977905 & 3.160747\\\\\n",
       "\t chrX & 48391101 & 48391300 & X:48391101-48391300 & . & + &  0.65042011 & 0.1380740 & 0 & 0.077294068 & 0.049143424 & 3.160747\\\\\n",
       "\t chrX & 48391401 & 48391600 & X:48391401-48391600 & . & + &  0.65042011 & 0.1409000 & 0 & 0.077294068 & 0.049143424 & 3.160747\\\\\n",
       "\t chrX & 48403751 & 48403950 & X:48403751-48403950 & . & + & -2.71209730 & 1.9756830 & 0 & 0.427170460 & 0.297329292 & 3.050477\\\\\n",
       "\t chrX & 48438101 & 48438300 & X:48438101-48438300 & . & + &  0.07335075 & 0.2958580 & 0 & 0.008116185 & 0.004977905 & 3.160747\\\\\n",
       "\t ⋮ & ⋮ & ⋮ & ⋮ & ⋮ & ⋮ & ⋮ & ⋮ & ⋮ & ⋮ & ⋮ & ⋮\\\\\n",
       "\t chrX & 48862331 & 48862530 & X:48862331-48862530 & . & + & -2.37605781 &  1.5658058 & 0 & 0.359535754 & 0.246990506 & 3.056815\\\\\n",
       "\t chrX & 48871751 & 48871950 & X:48871751-48871950 & . & + & -3.60479182 &  3.6676851 & 0 & 0.627828541 & 0.453409066 & 3.039295\\\\\n",
       "\t chrX & 48872201 & 48872400 & X:48872201-48872400 & . & + & -3.27615868 &  2.9195939 & 0 & 0.550379098 & 0.392456521 & 3.042639\\\\\n",
       "\t chrX & 48873551 & 48873750 & X:48873551-48873750 & . & + & -3.56548543 &  3.5672225 & 0 & 0.618343561 & 0.445736991 & 3.039656\\\\\n",
       "\t chrX & 48880601 & 48880800 & X:48880601-48880800 & . & + & -2.51727643 &  1.7275030 & 0 & 0.387438458 & 0.267151326 & 3.053973\\\\\n",
       "\t chrX & 48887901 & 48888100 & X:48887901-48888100 & . & + & -1.39014724 &  0.7858445 & 0 & 0.185466125 & 0.121799347 & 3.086548\\\\\n",
       "\t chrX & 48939621 & 48939820 & X:48939621-48939820 & . & + &  0.65042011 &  0.1380740 & 0 & 0.077294068 & 0.049143424 & 3.160747\\\\\n",
       "\t chrX & 48939691 & 48939890 & X:48939691-48939890 & . & + & -1.91069444 &  1.1341569 & 0 & 0.272881635 & 0.183820465 & 3.068392\\\\\n",
       "\t chrX & 48939711 & 48939910 & X:48939711-48939910 & . & + & -2.91542335 &  2.2750882 & 0 & 0.470176895 & 0.330364808 & 3.047296\\\\\n",
       "\t chrX & 48971561 & 48971760 & X:48971561-48971760 & . & + &  0.65042011 &  0.1479290 & 0 & 0.077294068 & 0.049143424 & 3.160747\\\\\n",
       "\t chrX & 49043061 & 49043260 & X:49043061-49043260 & . & + & -0.89217874 &  0.5594349 & 0 & 0.111099050 & 0.071600713 & 3.111084\\\\\n",
       "\t chrX & 49136151 & 49136350 & X:49136151-49136350 & . & + & -2.69591744 &  1.9528949 & 0 & 0.423815867 & 0.294817206 & 3.050750\\\\\n",
       "\t chrX & 49156751 & 49156950 & X:49156751-49156950 & . & + & -2.02735518 &  1.2270183 & 0 & 0.293845579 & 0.199024379 & 3.065135\\\\\n",
       "\t chrX & 49156791 & 49156990 & X:49156791-49156990 & . & + &  0.07335075 &  0.2833579 & 0 & 0.008116185 & 0.004977905 & 3.160747\\\\\n",
       "\t chrX & 49156821 & 49157020 & X:49156821-49157020 & . & + & -1.71222705 &  0.9881478 & 0 & 0.238376150 & 0.158972679 & 3.074567\\\\\n",
       "\t chrX & 49191931 & 49192130 & X:49191931-49192130 & . & + & -0.86309576 &  0.5468639 & 0 & 0.107032340 & 0.068652356 & 3.112788\\\\\n",
       "\t chrX & 49253201 & 49253400 & X:49253201-49253400 & . & + & -1.82515088 &  1.0648185 & 0 & 0.257830401 & 0.172768395 & 3.070951\\\\\n",
       "\t chrX & 49318601 & 49318800 & X:49318601-49318800 & . & + &  0.65042011 &  0.1380740 & 0 & 0.077294068 & 0.049143424 & 3.160747\\\\\n",
       "\t chrX & 49318651 & 49318850 & X:49318651-49318850 & . & + &  0.65042011 &  0.1424579 & 0 & 0.077294068 & 0.049143424 & 3.160747\\\\\n",
       "\t chrX & 49334451 & 49334650 & X:49334451-49334650 & . & + &  0.65042011 &  0.1309741 & 0 & 0.077294068 & 0.049143424 & 3.160747\\\\\n",
       "\t chrX & 49344001 & 49344200 & X:49344001-49344200 & . & + &  0.65042011 &  0.1309741 & 0 & 0.077294068 & 0.049143424 & 3.160747\\\\\n",
       "\t chrX & 49586051 & 49586250 & X:49586051-49586250 & . & + & -2.08577683 &  1.2805631 & 0 & 0.304534261 & 0.206762854 & 3.063599\\\\\n",
       "\t chrX & 49703701 & 49703900 & X:49703701-49703900 & . & + & -5.12084719 & 10.4882157 & 0 & 1.040473528 & 0.790809812 & 3.030778\\\\\n",
       "\t chrX & 49707351 & 49707550 & X:49707351-49707550 & . & + & -1.88891966 &  1.1161148 & 0 & 0.269024675 & 0.181038131 & 3.069030\\\\\n",
       "\t chrX & 49707401 & 49707600 & X:49707401-49707600 & . & + & -2.34801950 &  1.5343209 & 0 & 0.354085220 & 0.243056113 & 3.057413\\\\\n",
       "\t chrX & 49737651 & 49737850 & X:49737651-49737850 & . & + &  0.07335075 &  0.2958580 & 0 & 0.008116185 & 0.004977905 & 3.160747\\\\\n",
       "\t chrX & 49742701 & 49742900 & X:49742701-49742900 & . & + &  0.07335075 &  0.2718741 & 0 & 0.008116185 & 0.004977905 & 3.160747\\\\\n",
       "\t chrX & 49742801 & 49743000 & X:49742801-49743000 & . & + & -4.21328337 &  5.5910541 & 0 & 0.782417406 & 0.577421864 & 3.034792\\\\\n",
       "\t chrX & 49768151 & 49768350 & X:49768151-49768350 & . & + & -1.92127155 &  1.1430347 & 0 & 0.274761502 & 0.185200746 & 3.068086\\\\\n",
       "\t chrX & 49782251 & 49782450 & X:49782251-49782450 & . & + & -2.62109616 &  1.8557988 & 0 & 0.408432420 & 0.283030171 & 3.052052\\\\\n",
       "\\end{tabular}\n"
      ],
      "text/markdown": [
       "\n",
       "A spec_tbl_df: 77 × 12\n",
       "\n",
       "| Chrom &lt;chr&gt; | Start &lt;dbl&gt; | End &lt;dbl&gt; | ID &lt;chr&gt; | Score &lt;chr&gt; | Strand &lt;chr&gt; | log2fc &lt;dbl&gt; | Input_Count &lt;dbl&gt; | Output_Count &lt;dbl&gt; | log10pval &lt;dbl&gt; | log10fdr &lt;dbl&gt; | lfc-se &lt;dbl&gt; |\n",
       "|---|---|---|---|---|---|---|---|---|---|---|---|\n",
       "| chrX | 47790801 | 47791000 | X:47790801-47791000 | . | + |  0.07335075 | 0.2833579 | 0 | 0.008116185 | 0.004977905 | 3.160747 |\n",
       "| chrX | 47790851 | 47791050 | X:47790851-47791050 | . | + |  0.07335075 | 0.2805319 | 0 | 0.008116185 | 0.004977905 | 3.160747 |\n",
       "| chrX | 47813651 | 47813850 | X:47813651-47813850 | . | + | -3.01402138 | 2.4364958 | 0 | 0.491601038 | 0.346375605 | 3.045906 |\n",
       "| chrX | 47814151 | 47814350 | X:47814151-47814350 | . | + | -1.18646424 | 0.6846483 | 0 | 0.153962451 | 0.100133938 | 3.095596 |\n",
       "| chrX | 47814201 | 47814400 | X:47814201-47814400 | . | + |  0.65042011 | 0.1309741 | 0 | 0.077294068 | 0.049143424 | 3.160747 |\n",
       "| chrX | 47830901 | 47831100 | X:47830901-47831100 | . | + |  0.65042011 | 0.1409000 | 0 | 0.077294068 | 0.049143424 | 3.160747 |\n",
       "| chrX | 47835251 | 47835450 | X:47835251-47835450 | . | + |  0.07335075 | 0.2718741 | 0 | 0.008116185 | 0.004977905 | 3.160747 |\n",
       "| chrX | 47858151 | 47858350 | X:47858151-47858350 | . | + | -2.47218117 | 1.6722530 | 0 | 0.378446520 | 0.260536637 | 3.054851 |\n",
       "| chrX | 47903651 | 47903850 | X:47903651-47903850 | . | + | -2.13895812 | 1.3239407 | 0 | 0.314374867 | 0.213761374 | 3.062253 |\n",
       "| chrX | 47905101 | 47905300 | X:47905101-47905300 | . | + | -0.51148542 | 0.4312869 | 0 | 0.060256419 | 0.037801370 | 3.136263 |\n",
       "| chrX | 47909701 | 47909900 | X:47909701-47909900 | . | + |  0.65042011 | 0.1479290 | 0 | 0.077294068 | 0.049143424 | 3.160747 |\n",
       "| chrX | 47947001 | 47947200 | X:47947001-47947200 | . | + | -1.68373147 | 0.9676833 | 0 | 0.233541350 | 0.155611379 | 3.075524 |\n",
       "| chrX | 48050651 | 48050850 | X:48050651-48050850 | . | + | -2.20958760 | 1.3939307 | 0 | 0.327607460 | 0.223464100 | 3.060540 |\n",
       "| chrX | 48050801 | 48051000 | X:48050801-48051000 | . | + | -2.46878630 | 1.6681602 | 0 | 0.377772696 | 0.260085380 | 3.054918 |\n",
       "| chrX | 48055951 | 48056150 | X:48055951-48056150 | . | + | -1.66000651 | 0.9507284 | 0 | 0.229538796 | 0.152815420 | 3.076335 |\n",
       "| chrX | 48079801 | 48080000 | X:48079801-48080000 | . | + | -1.64017578 | 0.9366705 | 0 | 0.226209119 | 0.150455291 | 3.077023 |\n",
       "| chrX | 48115601 | 48115800 | X:48115601-48115800 | . | + |  0.65042011 | 0.1409000 | 0 | 0.077294068 | 0.049143424 | 3.160747 |\n",
       "| chrX | 48148451 | 48148650 | X:48148451-48148650 | . | + |  0.65042011 | 0.1380740 | 0 | 0.077294068 | 0.049143424 | 3.160747 |\n",
       "| chrX | 48163301 | 48163500 | X:48163301-48163500 | . | + | -3.66223287 | 3.8167722 | 0 | 0.641798285 | 0.464653585 | 3.038785 |\n",
       "| chrX | 48207951 | 48208150 | X:48207951-48208150 | . | + |  0.65042011 | 0.1309741 | 0 | 0.077294068 | 0.049143424 | 3.160747 |\n",
       "| chrX | 48312201 | 48312400 | X:48312201-48312400 | . | + | -3.67364534 | 3.8475623 | 0 | 0.644589205 | 0.466842049 | 3.038686 |\n",
       "| chrX | 48326001 | 48326200 | X:48326001-48326200 | . | + | -2.09408829 | 1.2883896 | 0 | 0.306065244 | 0.207840134 | 3.063385 |\n",
       "| chrX | 48378751 | 48378950 | X:48378751-48378950 | . | + | -1.19226477 | 0.6876539 | 0 | 0.154838766 | 0.100767611 | 3.095321 |\n",
       "| chrX | 48378801 | 48379000 | X:48378801-48379000 | . | + |  0.07335075 | 0.2958580 | 0 | 0.008116185 | 0.004977905 | 3.160747 |\n",
       "| chrX | 48382851 | 48383050 | X:48382851-48383050 | . | + |  0.65042011 | 0.1380740 | 0 | 0.077294068 | 0.049143424 | 3.160747 |\n",
       "| chrX | 48382901 | 48383100 | X:48382901-48383100 | . | + |  0.07335075 | 0.2849158 | 0 | 0.008116185 | 0.004977905 | 3.160747 |\n",
       "| chrX | 48391101 | 48391300 | X:48391101-48391300 | . | + |  0.65042011 | 0.1380740 | 0 | 0.077294068 | 0.049143424 | 3.160747 |\n",
       "| chrX | 48391401 | 48391600 | X:48391401-48391600 | . | + |  0.65042011 | 0.1409000 | 0 | 0.077294068 | 0.049143424 | 3.160747 |\n",
       "| chrX | 48403751 | 48403950 | X:48403751-48403950 | . | + | -2.71209730 | 1.9756830 | 0 | 0.427170460 | 0.297329292 | 3.050477 |\n",
       "| chrX | 48438101 | 48438300 | X:48438101-48438300 | . | + |  0.07335075 | 0.2958580 | 0 | 0.008116185 | 0.004977905 | 3.160747 |\n",
       "| ⋮ | ⋮ | ⋮ | ⋮ | ⋮ | ⋮ | ⋮ | ⋮ | ⋮ | ⋮ | ⋮ | ⋮ |\n",
       "| chrX | 48862331 | 48862530 | X:48862331-48862530 | . | + | -2.37605781 |  1.5658058 | 0 | 0.359535754 | 0.246990506 | 3.056815 |\n",
       "| chrX | 48871751 | 48871950 | X:48871751-48871950 | . | + | -3.60479182 |  3.6676851 | 0 | 0.627828541 | 0.453409066 | 3.039295 |\n",
       "| chrX | 48872201 | 48872400 | X:48872201-48872400 | . | + | -3.27615868 |  2.9195939 | 0 | 0.550379098 | 0.392456521 | 3.042639 |\n",
       "| chrX | 48873551 | 48873750 | X:48873551-48873750 | . | + | -3.56548543 |  3.5672225 | 0 | 0.618343561 | 0.445736991 | 3.039656 |\n",
       "| chrX | 48880601 | 48880800 | X:48880601-48880800 | . | + | -2.51727643 |  1.7275030 | 0 | 0.387438458 | 0.267151326 | 3.053973 |\n",
       "| chrX | 48887901 | 48888100 | X:48887901-48888100 | . | + | -1.39014724 |  0.7858445 | 0 | 0.185466125 | 0.121799347 | 3.086548 |\n",
       "| chrX | 48939621 | 48939820 | X:48939621-48939820 | . | + |  0.65042011 |  0.1380740 | 0 | 0.077294068 | 0.049143424 | 3.160747 |\n",
       "| chrX | 48939691 | 48939890 | X:48939691-48939890 | . | + | -1.91069444 |  1.1341569 | 0 | 0.272881635 | 0.183820465 | 3.068392 |\n",
       "| chrX | 48939711 | 48939910 | X:48939711-48939910 | . | + | -2.91542335 |  2.2750882 | 0 | 0.470176895 | 0.330364808 | 3.047296 |\n",
       "| chrX | 48971561 | 48971760 | X:48971561-48971760 | . | + |  0.65042011 |  0.1479290 | 0 | 0.077294068 | 0.049143424 | 3.160747 |\n",
       "| chrX | 49043061 | 49043260 | X:49043061-49043260 | . | + | -0.89217874 |  0.5594349 | 0 | 0.111099050 | 0.071600713 | 3.111084 |\n",
       "| chrX | 49136151 | 49136350 | X:49136151-49136350 | . | + | -2.69591744 |  1.9528949 | 0 | 0.423815867 | 0.294817206 | 3.050750 |\n",
       "| chrX | 49156751 | 49156950 | X:49156751-49156950 | . | + | -2.02735518 |  1.2270183 | 0 | 0.293845579 | 0.199024379 | 3.065135 |\n",
       "| chrX | 49156791 | 49156990 | X:49156791-49156990 | . | + |  0.07335075 |  0.2833579 | 0 | 0.008116185 | 0.004977905 | 3.160747 |\n",
       "| chrX | 49156821 | 49157020 | X:49156821-49157020 | . | + | -1.71222705 |  0.9881478 | 0 | 0.238376150 | 0.158972679 | 3.074567 |\n",
       "| chrX | 49191931 | 49192130 | X:49191931-49192130 | . | + | -0.86309576 |  0.5468639 | 0 | 0.107032340 | 0.068652356 | 3.112788 |\n",
       "| chrX | 49253201 | 49253400 | X:49253201-49253400 | . | + | -1.82515088 |  1.0648185 | 0 | 0.257830401 | 0.172768395 | 3.070951 |\n",
       "| chrX | 49318601 | 49318800 | X:49318601-49318800 | . | + |  0.65042011 |  0.1380740 | 0 | 0.077294068 | 0.049143424 | 3.160747 |\n",
       "| chrX | 49318651 | 49318850 | X:49318651-49318850 | . | + |  0.65042011 |  0.1424579 | 0 | 0.077294068 | 0.049143424 | 3.160747 |\n",
       "| chrX | 49334451 | 49334650 | X:49334451-49334650 | . | + |  0.65042011 |  0.1309741 | 0 | 0.077294068 | 0.049143424 | 3.160747 |\n",
       "| chrX | 49344001 | 49344200 | X:49344001-49344200 | . | + |  0.65042011 |  0.1309741 | 0 | 0.077294068 | 0.049143424 | 3.160747 |\n",
       "| chrX | 49586051 | 49586250 | X:49586051-49586250 | . | + | -2.08577683 |  1.2805631 | 0 | 0.304534261 | 0.206762854 | 3.063599 |\n",
       "| chrX | 49703701 | 49703900 | X:49703701-49703900 | . | + | -5.12084719 | 10.4882157 | 0 | 1.040473528 | 0.790809812 | 3.030778 |\n",
       "| chrX | 49707351 | 49707550 | X:49707351-49707550 | . | + | -1.88891966 |  1.1161148 | 0 | 0.269024675 | 0.181038131 | 3.069030 |\n",
       "| chrX | 49707401 | 49707600 | X:49707401-49707600 | . | + | -2.34801950 |  1.5343209 | 0 | 0.354085220 | 0.243056113 | 3.057413 |\n",
       "| chrX | 49737651 | 49737850 | X:49737651-49737850 | . | + |  0.07335075 |  0.2958580 | 0 | 0.008116185 | 0.004977905 | 3.160747 |\n",
       "| chrX | 49742701 | 49742900 | X:49742701-49742900 | . | + |  0.07335075 |  0.2718741 | 0 | 0.008116185 | 0.004977905 | 3.160747 |\n",
       "| chrX | 49742801 | 49743000 | X:49742801-49743000 | . | + | -4.21328337 |  5.5910541 | 0 | 0.782417406 | 0.577421864 | 3.034792 |\n",
       "| chrX | 49768151 | 49768350 | X:49768151-49768350 | . | + | -1.92127155 |  1.1430347 | 0 | 0.274761502 | 0.185200746 | 3.068086 |\n",
       "| chrX | 49782251 | 49782450 | X:49782251-49782450 | . | + | -2.62109616 |  1.8557988 | 0 | 0.408432420 | 0.283030171 | 3.052052 |\n",
       "\n"
      ],
      "text/plain": [
       "   Chrom Start    End      ID                  Score Strand log2fc     \n",
       "1  chrX  47790801 47791000 X:47790801-47791000 .     +       0.07335075\n",
       "2  chrX  47790851 47791050 X:47790851-47791050 .     +       0.07335075\n",
       "3  chrX  47813651 47813850 X:47813651-47813850 .     +      -3.01402138\n",
       "4  chrX  47814151 47814350 X:47814151-47814350 .     +      -1.18646424\n",
       "5  chrX  47814201 47814400 X:47814201-47814400 .     +       0.65042011\n",
       "6  chrX  47830901 47831100 X:47830901-47831100 .     +       0.65042011\n",
       "7  chrX  47835251 47835450 X:47835251-47835450 .     +       0.07335075\n",
       "8  chrX  47858151 47858350 X:47858151-47858350 .     +      -2.47218117\n",
       "9  chrX  47903651 47903850 X:47903651-47903850 .     +      -2.13895812\n",
       "10 chrX  47905101 47905300 X:47905101-47905300 .     +      -0.51148542\n",
       "11 chrX  47909701 47909900 X:47909701-47909900 .     +       0.65042011\n",
       "12 chrX  47947001 47947200 X:47947001-47947200 .     +      -1.68373147\n",
       "13 chrX  48050651 48050850 X:48050651-48050850 .     +      -2.20958760\n",
       "14 chrX  48050801 48051000 X:48050801-48051000 .     +      -2.46878630\n",
       "15 chrX  48055951 48056150 X:48055951-48056150 .     +      -1.66000651\n",
       "16 chrX  48079801 48080000 X:48079801-48080000 .     +      -1.64017578\n",
       "17 chrX  48115601 48115800 X:48115601-48115800 .     +       0.65042011\n",
       "18 chrX  48148451 48148650 X:48148451-48148650 .     +       0.65042011\n",
       "19 chrX  48163301 48163500 X:48163301-48163500 .     +      -3.66223287\n",
       "20 chrX  48207951 48208150 X:48207951-48208150 .     +       0.65042011\n",
       "21 chrX  48312201 48312400 X:48312201-48312400 .     +      -3.67364534\n",
       "22 chrX  48326001 48326200 X:48326001-48326200 .     +      -2.09408829\n",
       "23 chrX  48378751 48378950 X:48378751-48378950 .     +      -1.19226477\n",
       "24 chrX  48378801 48379000 X:48378801-48379000 .     +       0.07335075\n",
       "25 chrX  48382851 48383050 X:48382851-48383050 .     +       0.65042011\n",
       "26 chrX  48382901 48383100 X:48382901-48383100 .     +       0.07335075\n",
       "27 chrX  48391101 48391300 X:48391101-48391300 .     +       0.65042011\n",
       "28 chrX  48391401 48391600 X:48391401-48391600 .     +       0.65042011\n",
       "29 chrX  48403751 48403950 X:48403751-48403950 .     +      -2.71209730\n",
       "30 chrX  48438101 48438300 X:48438101-48438300 .     +       0.07335075\n",
       "⋮  ⋮     ⋮        ⋮        ⋮                   ⋮     ⋮      ⋮          \n",
       "48 chrX  48862331 48862530 X:48862331-48862530 .     +      -2.37605781\n",
       "49 chrX  48871751 48871950 X:48871751-48871950 .     +      -3.60479182\n",
       "50 chrX  48872201 48872400 X:48872201-48872400 .     +      -3.27615868\n",
       "51 chrX  48873551 48873750 X:48873551-48873750 .     +      -3.56548543\n",
       "52 chrX  48880601 48880800 X:48880601-48880800 .     +      -2.51727643\n",
       "53 chrX  48887901 48888100 X:48887901-48888100 .     +      -1.39014724\n",
       "54 chrX  48939621 48939820 X:48939621-48939820 .     +       0.65042011\n",
       "55 chrX  48939691 48939890 X:48939691-48939890 .     +      -1.91069444\n",
       "56 chrX  48939711 48939910 X:48939711-48939910 .     +      -2.91542335\n",
       "57 chrX  48971561 48971760 X:48971561-48971760 .     +       0.65042011\n",
       "58 chrX  49043061 49043260 X:49043061-49043260 .     +      -0.89217874\n",
       "59 chrX  49136151 49136350 X:49136151-49136350 .     +      -2.69591744\n",
       "60 chrX  49156751 49156950 X:49156751-49156950 .     +      -2.02735518\n",
       "61 chrX  49156791 49156990 X:49156791-49156990 .     +       0.07335075\n",
       "62 chrX  49156821 49157020 X:49156821-49157020 .     +      -1.71222705\n",
       "63 chrX  49191931 49192130 X:49191931-49192130 .     +      -0.86309576\n",
       "64 chrX  49253201 49253400 X:49253201-49253400 .     +      -1.82515088\n",
       "65 chrX  49318601 49318800 X:49318601-49318800 .     +       0.65042011\n",
       "66 chrX  49318651 49318850 X:49318651-49318850 .     +       0.65042011\n",
       "67 chrX  49334451 49334650 X:49334451-49334650 .     +       0.65042011\n",
       "68 chrX  49344001 49344200 X:49344001-49344200 .     +       0.65042011\n",
       "69 chrX  49586051 49586250 X:49586051-49586250 .     +      -2.08577683\n",
       "70 chrX  49703701 49703900 X:49703701-49703900 .     +      -5.12084719\n",
       "71 chrX  49707351 49707550 X:49707351-49707550 .     +      -1.88891966\n",
       "72 chrX  49707401 49707600 X:49707401-49707600 .     +      -2.34801950\n",
       "73 chrX  49737651 49737850 X:49737651-49737850 .     +       0.07335075\n",
       "74 chrX  49742701 49742900 X:49742701-49742900 .     +       0.07335075\n",
       "75 chrX  49742801 49743000 X:49742801-49743000 .     +      -4.21328337\n",
       "76 chrX  49768151 49768350 X:49768151-49768350 .     +      -1.92127155\n",
       "77 chrX  49782251 49782450 X:49782251-49782450 .     +      -2.62109616\n",
       "   Input_Count Output_Count log10pval   log10fdr    lfc-se  \n",
       "1  0.2833579   0            0.008116185 0.004977905 3.160747\n",
       "2  0.2805319   0            0.008116185 0.004977905 3.160747\n",
       "3  2.4364958   0            0.491601038 0.346375605 3.045906\n",
       "4  0.6846483   0            0.153962451 0.100133938 3.095596\n",
       "5  0.1309741   0            0.077294068 0.049143424 3.160747\n",
       "6  0.1409000   0            0.077294068 0.049143424 3.160747\n",
       "7  0.2718741   0            0.008116185 0.004977905 3.160747\n",
       "8  1.6722530   0            0.378446520 0.260536637 3.054851\n",
       "9  1.3239407   0            0.314374867 0.213761374 3.062253\n",
       "10 0.4312869   0            0.060256419 0.037801370 3.136263\n",
       "11 0.1479290   0            0.077294068 0.049143424 3.160747\n",
       "12 0.9676833   0            0.233541350 0.155611379 3.075524\n",
       "13 1.3939307   0            0.327607460 0.223464100 3.060540\n",
       "14 1.6681602   0            0.377772696 0.260085380 3.054918\n",
       "15 0.9507284   0            0.229538796 0.152815420 3.076335\n",
       "16 0.9366705   0            0.226209119 0.150455291 3.077023\n",
       "17 0.1409000   0            0.077294068 0.049143424 3.160747\n",
       "18 0.1380740   0            0.077294068 0.049143424 3.160747\n",
       "19 3.8167722   0            0.641798285 0.464653585 3.038785\n",
       "20 0.1309741   0            0.077294068 0.049143424 3.160747\n",
       "21 3.8475623   0            0.644589205 0.466842049 3.038686\n",
       "22 1.2883896   0            0.306065244 0.207840134 3.063385\n",
       "23 0.6876539   0            0.154838766 0.100767611 3.095321\n",
       "24 0.2958580   0            0.008116185 0.004977905 3.160747\n",
       "25 0.1380740   0            0.077294068 0.049143424 3.160747\n",
       "26 0.2849158   0            0.008116185 0.004977905 3.160747\n",
       "27 0.1380740   0            0.077294068 0.049143424 3.160747\n",
       "28 0.1409000   0            0.077294068 0.049143424 3.160747\n",
       "29 1.9756830   0            0.427170460 0.297329292 3.050477\n",
       "30 0.2958580   0            0.008116185 0.004977905 3.160747\n",
       "⋮  ⋮           ⋮            ⋮           ⋮           ⋮       \n",
       "48  1.5658058  0            0.359535754 0.246990506 3.056815\n",
       "49  3.6676851  0            0.627828541 0.453409066 3.039295\n",
       "50  2.9195939  0            0.550379098 0.392456521 3.042639\n",
       "51  3.5672225  0            0.618343561 0.445736991 3.039656\n",
       "52  1.7275030  0            0.387438458 0.267151326 3.053973\n",
       "53  0.7858445  0            0.185466125 0.121799347 3.086548\n",
       "54  0.1380740  0            0.077294068 0.049143424 3.160747\n",
       "55  1.1341569  0            0.272881635 0.183820465 3.068392\n",
       "56  2.2750882  0            0.470176895 0.330364808 3.047296\n",
       "57  0.1479290  0            0.077294068 0.049143424 3.160747\n",
       "58  0.5594349  0            0.111099050 0.071600713 3.111084\n",
       "59  1.9528949  0            0.423815867 0.294817206 3.050750\n",
       "60  1.2270183  0            0.293845579 0.199024379 3.065135\n",
       "61  0.2833579  0            0.008116185 0.004977905 3.160747\n",
       "62  0.9881478  0            0.238376150 0.158972679 3.074567\n",
       "63  0.5468639  0            0.107032340 0.068652356 3.112788\n",
       "64  1.0648185  0            0.257830401 0.172768395 3.070951\n",
       "65  0.1380740  0            0.077294068 0.049143424 3.160747\n",
       "66  0.1424579  0            0.077294068 0.049143424 3.160747\n",
       "67  0.1309741  0            0.077294068 0.049143424 3.160747\n",
       "68  0.1309741  0            0.077294068 0.049143424 3.160747\n",
       "69  1.2805631  0            0.304534261 0.206762854 3.063599\n",
       "70 10.4882157  0            1.040473528 0.790809812 3.030778\n",
       "71  1.1161148  0            0.269024675 0.181038131 3.069030\n",
       "72  1.5343209  0            0.354085220 0.243056113 3.057413\n",
       "73  0.2958580  0            0.008116185 0.004977905 3.160747\n",
       "74  0.2718741  0            0.008116185 0.004977905 3.160747\n",
       "75  5.5910541  0            0.782417406 0.577421864 3.034792\n",
       "76  1.1430347  0            0.274761502 0.185200746 3.068086\n",
       "77  1.8557988  0            0.408432420 0.283030171 3.052052"
      ]
     },
     "metadata": {},
     "output_type": "display_data"
    }
   ],
   "source": [
    "dat_mpra %>% dplyr::filter(Output_Count == 0)"
   ]
  },
  {
   "cell_type": "code",
   "execution_count": null,
   "id": "49ed77f1",
   "metadata": {},
   "outputs": [],
   "source": []
  }
 ],
 "metadata": {
  "kernelspec": {
   "display_name": "R",
   "language": "R",
   "name": "ir"
  },
  "language_info": {
   "codemirror_mode": "r",
   "file_extension": ".r",
   "mimetype": "text/x-r-source",
   "name": "R",
   "pygments_lexer": "r",
   "version": "4.2.0"
  }
 },
 "nbformat": 4,
 "nbformat_minor": 5
}
