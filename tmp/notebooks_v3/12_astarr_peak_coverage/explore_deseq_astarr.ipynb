{
 "cells": [
  {
   "cell_type": "code",
   "execution_count": 1,
   "id": "4d20e6cf",
   "metadata": {},
   "outputs": [
    {
     "name": "stdout",
     "output_type": "stream",
     "text": [
      "You are in Singularity: singularity_proj_combeffect \n",
      "BASE DIRECTORY:     /data/reddylab/Kuei \n",
      "WORK DIRECTORY:     /data/reddylab/Kuei/out \n",
      "CODE DIRECTORY:     /data/reddylab/Kuei/code \n",
      "PATH OF SOURCE:     /data/reddylab/Kuei/source \n",
      "PATH OF EXECUTABLE: /data/reddylab/Kuei/bin \n",
      "PATH OF ANNOTATION: /data/reddylab/Kuei/annotation \n",
      "PATH OF PROJECT:    /data/reddylab/Kuei/code/Proj_CombEffect_ENCODE_FCC \n",
      "PATH OF RESULTS:    /data/reddylab/Kuei/out/proj_combeffect_encode_fcc \n"
     ]
    }
   ],
   "source": [
    "suppressMessages(suppressWarnings(source(\"../config/config_sing.R\")))\n",
    "show_env()"
   ]
  },
  {
   "cell_type": "code",
   "execution_count": 2,
   "id": "8eddede3",
   "metadata": {},
   "outputs": [
    {
     "name": "stdout",
     "output_type": "stream",
     "text": [
      "[1] \"/data/reddylab/Kuei/out/proj_combeffect_encode_fcc/results/KS91_K562_ASTARRseq/coverage_astarrseq_peak_macs_input/summary/result.Log2FC.raw.WGS.tsv\"\n"
     ]
    },
    {
     "name": "stderr",
     "output_type": "stream",
     "text": [
      "\u001b[1mRows: \u001b[22m\u001b[34m246852\u001b[39m \u001b[1mColumns: \u001b[22m\u001b[34m7\u001b[39m\n",
      "\u001b[36m──\u001b[39m \u001b[1mColumn specification\u001b[22m \u001b[36m──────────────────────────────────────────────────────────────────────\u001b[39m\n",
      "\u001b[1mDelimiter:\u001b[22m \"\\t\"\n",
      "\u001b[31mchr\u001b[39m (2): Chrom, Peak\n",
      "\u001b[32mdbl\u001b[39m (5): Start, End, Input, Output, log2FoldChange\n",
      "\n",
      "\u001b[36mℹ\u001b[39m Use `spec()` to retrieve the full column specification for this data.\n",
      "\u001b[36mℹ\u001b[39m Specify the column types or set `show_col_types = FALSE` to quiet this message.\n"
     ]
    },
    {
     "name": "stdout",
     "output_type": "stream",
     "text": [
      "[1] \"/data/reddylab/Kuei/out/proj_combeffect_encode_fcc/results/KS91_K562_ASTARRseq/coverage_astarrseq_peak_macs_input/summary/result.Log2FC.deseq.WGS.tsv\"\n"
     ]
    },
    {
     "name": "stderr",
     "output_type": "stream",
     "text": [
      "\u001b[1mRows: \u001b[22m\u001b[34m246850\u001b[39m \u001b[1mColumns: \u001b[22m\u001b[34m7\u001b[39m\n",
      "\u001b[36m──\u001b[39m \u001b[1mColumn specification\u001b[22m \u001b[36m──────────────────────────────────────────────────────────────────────\u001b[39m\n",
      "\u001b[1mDelimiter:\u001b[22m \"\\t\"\n",
      "\u001b[31mchr\u001b[39m (1): Peak\n",
      "\u001b[32mdbl\u001b[39m (6): baseMean, log2FoldChange, lfcSE, stat, pvalue, padj\n",
      "\n",
      "\u001b[36mℹ\u001b[39m Use `spec()` to retrieve the full column specification for this data.\n",
      "\u001b[36mℹ\u001b[39m Specify the column types or set `show_col_types = FALSE` to quiet this message.\n"
     ]
    }
   ],
   "source": [
    "PREFIX     = \"KS91_K562_ASTARRseq\"\n",
    "FOLDER     = \"coverage_astarrseq_peak_macs_input\"\n",
    "REGIONS    = c(\"GATA1\", \"MYC\", \"FADS\")\n",
    "PREPROCESS = c(\"raw\", \"norm\")\n",
    "\n",
    "region  = REGIONS[1]\n",
    "process = PREPROCESS[1]\n",
    "fdiry = file.path(FD_RES, \"results\", PREFIX, FOLDER, \"summary\")\n",
    "\n",
    "\n",
    "fname = \"result.Log2FC.raw.WGS.tsv\"\n",
    "fpath = file.path(fdiry, fname)\n",
    "print(fpath)\n",
    "dat_log2fc_raw = read_tsv(fpath)\n",
    "\n",
    "fname = \"result.Log2FC.deseq.WGS.tsv\"\n",
    "fpath = file.path(fdiry, fname)\n",
    "print(fpath)\n",
    "dat_log2fc_deseq = read_tsv(fpath)"
   ]
  },
  {
   "cell_type": "code",
   "execution_count": 3,
   "id": "954c7df8",
   "metadata": {},
   "outputs": [
    {
     "data": {
      "text/html": [
       "<table class=\"dataframe\">\n",
       "<caption>A tibble: 6 × 7</caption>\n",
       "<thead>\n",
       "\t<tr><th scope=col>Chrom</th><th scope=col>Start</th><th scope=col>End</th><th scope=col>Peak</th><th scope=col>Input</th><th scope=col>Output</th><th scope=col>log2FoldChange</th></tr>\n",
       "\t<tr><th scope=col>&lt;chr&gt;</th><th scope=col>&lt;dbl&gt;</th><th scope=col>&lt;dbl&gt;</th><th scope=col>&lt;chr&gt;</th><th scope=col>&lt;dbl&gt;</th><th scope=col>&lt;dbl&gt;</th><th scope=col>&lt;dbl&gt;</th></tr>\n",
       "</thead>\n",
       "<tbody>\n",
       "\t<tr><td>chr1</td><td>10015</td><td>10442</td><td>chr1_10015_10442</td><td>210.1667</td><td> 8.50</td><td>-4.627927</td></tr>\n",
       "\t<tr><td>chr1</td><td>14253</td><td>14645</td><td>chr1_14253_14645</td><td>135.8333</td><td>30.25</td><td>-2.166831</td></tr>\n",
       "\t<tr><td>chr1</td><td>16015</td><td>16477</td><td>chr1_16015_16477</td><td>188.1667</td><td>14.75</td><td>-3.673224</td></tr>\n",
       "\t<tr><td>chr1</td><td>17237</td><td>17772</td><td>chr1_17237_17772</td><td>345.8333</td><td>25.50</td><td>-3.761508</td></tr>\n",
       "\t<tr><td>chr1</td><td>28903</td><td>29613</td><td>chr1_28903_29613</td><td>328.5000</td><td>16.25</td><td>-4.337382</td></tr>\n",
       "\t<tr><td>chr1</td><td>30803</td><td>31072</td><td>chr1_30803_31072</td><td>120.6667</td><td>20.50</td><td>-2.557331</td></tr>\n",
       "</tbody>\n",
       "</table>\n"
      ],
      "text/latex": [
       "A tibble: 6 × 7\n",
       "\\begin{tabular}{lllllll}\n",
       " Chrom & Start & End & Peak & Input & Output & log2FoldChange\\\\\n",
       " <chr> & <dbl> & <dbl> & <chr> & <dbl> & <dbl> & <dbl>\\\\\n",
       "\\hline\n",
       "\t chr1 & 10015 & 10442 & chr1\\_10015\\_10442 & 210.1667 &  8.50 & -4.627927\\\\\n",
       "\t chr1 & 14253 & 14645 & chr1\\_14253\\_14645 & 135.8333 & 30.25 & -2.166831\\\\\n",
       "\t chr1 & 16015 & 16477 & chr1\\_16015\\_16477 & 188.1667 & 14.75 & -3.673224\\\\\n",
       "\t chr1 & 17237 & 17772 & chr1\\_17237\\_17772 & 345.8333 & 25.50 & -3.761508\\\\\n",
       "\t chr1 & 28903 & 29613 & chr1\\_28903\\_29613 & 328.5000 & 16.25 & -4.337382\\\\\n",
       "\t chr1 & 30803 & 31072 & chr1\\_30803\\_31072 & 120.6667 & 20.50 & -2.557331\\\\\n",
       "\\end{tabular}\n"
      ],
      "text/markdown": [
       "\n",
       "A tibble: 6 × 7\n",
       "\n",
       "| Chrom &lt;chr&gt; | Start &lt;dbl&gt; | End &lt;dbl&gt; | Peak &lt;chr&gt; | Input &lt;dbl&gt; | Output &lt;dbl&gt; | log2FoldChange &lt;dbl&gt; |\n",
       "|---|---|---|---|---|---|---|\n",
       "| chr1 | 10015 | 10442 | chr1_10015_10442 | 210.1667 |  8.50 | -4.627927 |\n",
       "| chr1 | 14253 | 14645 | chr1_14253_14645 | 135.8333 | 30.25 | -2.166831 |\n",
       "| chr1 | 16015 | 16477 | chr1_16015_16477 | 188.1667 | 14.75 | -3.673224 |\n",
       "| chr1 | 17237 | 17772 | chr1_17237_17772 | 345.8333 | 25.50 | -3.761508 |\n",
       "| chr1 | 28903 | 29613 | chr1_28903_29613 | 328.5000 | 16.25 | -4.337382 |\n",
       "| chr1 | 30803 | 31072 | chr1_30803_31072 | 120.6667 | 20.50 | -2.557331 |\n",
       "\n"
      ],
      "text/plain": [
       "  Chrom Start End   Peak             Input    Output log2FoldChange\n",
       "1 chr1  10015 10442 chr1_10015_10442 210.1667  8.50  -4.627927     \n",
       "2 chr1  14253 14645 chr1_14253_14645 135.8333 30.25  -2.166831     \n",
       "3 chr1  16015 16477 chr1_16015_16477 188.1667 14.75  -3.673224     \n",
       "4 chr1  17237 17772 chr1_17237_17772 345.8333 25.50  -3.761508     \n",
       "5 chr1  28903 29613 chr1_28903_29613 328.5000 16.25  -4.337382     \n",
       "6 chr1  30803 31072 chr1_30803_31072 120.6667 20.50  -2.557331     "
      ]
     },
     "metadata": {},
     "output_type": "display_data"
    }
   ],
   "source": [
    "head(dat_log2fc_raw)"
   ]
  },
  {
   "cell_type": "code",
   "execution_count": 4,
   "id": "305b307b",
   "metadata": {},
   "outputs": [
    {
     "data": {
      "text/html": [
       "<table class=\"dataframe\">\n",
       "<caption>A tibble: 6 × 7</caption>\n",
       "<thead>\n",
       "\t<tr><th scope=col>Peak</th><th scope=col>baseMean</th><th scope=col>log2FoldChange</th><th scope=col>lfcSE</th><th scope=col>stat</th><th scope=col>pvalue</th><th scope=col>padj</th></tr>\n",
       "\t<tr><th scope=col>&lt;chr&gt;</th><th scope=col>&lt;dbl&gt;</th><th scope=col>&lt;dbl&gt;</th><th scope=col>&lt;dbl&gt;</th><th scope=col>&lt;dbl&gt;</th><th scope=col>&lt;dbl&gt;</th><th scope=col>&lt;dbl&gt;</th></tr>\n",
       "</thead>\n",
       "<tbody>\n",
       "\t<tr><td>chr1_10015_10442</td><td> 71.40375</td><td>-2.2136128</td><td>0.2691517</td><td> -8.2244061</td><td>1.961605e-16</td><td>2.910688e-15</td></tr>\n",
       "\t<tr><td>chr1_14253_14645</td><td> 68.63035</td><td> 0.2221859</td><td>0.1534101</td><td>  1.4483134</td><td>1.475294e-01</td><td>2.178106e-01</td></tr>\n",
       "\t<tr><td>chr1_16015_16477</td><td> 71.25409</td><td>-1.2712950</td><td>0.2019628</td><td> -6.2946978</td><td>3.079993e-10</td><td>2.653010e-09</td></tr>\n",
       "\t<tr><td>chr1_17237_17772</td><td>124.03128</td><td>-1.3852891</td><td>0.1638628</td><td> -8.4539594</td><td>2.815873e-17</td><td>4.431893e-16</td></tr>\n",
       "\t<tr><td>chr1_28903_29613</td><td>113.63103</td><td>-1.9422003</td><td>0.1886131</td><td>-10.2972733</td><td>7.248681e-25</td><td>1.723665e-23</td></tr>\n",
       "\t<tr><td>chr1_30803_31072</td><td> 57.37875</td><td>-0.1332069</td><td>0.2145692</td><td> -0.6208109</td><td>5.347240e-01</td><td>6.231400e-01</td></tr>\n",
       "</tbody>\n",
       "</table>\n"
      ],
      "text/latex": [
       "A tibble: 6 × 7\n",
       "\\begin{tabular}{lllllll}\n",
       " Peak & baseMean & log2FoldChange & lfcSE & stat & pvalue & padj\\\\\n",
       " <chr> & <dbl> & <dbl> & <dbl> & <dbl> & <dbl> & <dbl>\\\\\n",
       "\\hline\n",
       "\t chr1\\_10015\\_10442 &  71.40375 & -2.2136128 & 0.2691517 &  -8.2244061 & 1.961605e-16 & 2.910688e-15\\\\\n",
       "\t chr1\\_14253\\_14645 &  68.63035 &  0.2221859 & 0.1534101 &   1.4483134 & 1.475294e-01 & 2.178106e-01\\\\\n",
       "\t chr1\\_16015\\_16477 &  71.25409 & -1.2712950 & 0.2019628 &  -6.2946978 & 3.079993e-10 & 2.653010e-09\\\\\n",
       "\t chr1\\_17237\\_17772 & 124.03128 & -1.3852891 & 0.1638628 &  -8.4539594 & 2.815873e-17 & 4.431893e-16\\\\\n",
       "\t chr1\\_28903\\_29613 & 113.63103 & -1.9422003 & 0.1886131 & -10.2972733 & 7.248681e-25 & 1.723665e-23\\\\\n",
       "\t chr1\\_30803\\_31072 &  57.37875 & -0.1332069 & 0.2145692 &  -0.6208109 & 5.347240e-01 & 6.231400e-01\\\\\n",
       "\\end{tabular}\n"
      ],
      "text/markdown": [
       "\n",
       "A tibble: 6 × 7\n",
       "\n",
       "| Peak &lt;chr&gt; | baseMean &lt;dbl&gt; | log2FoldChange &lt;dbl&gt; | lfcSE &lt;dbl&gt; | stat &lt;dbl&gt; | pvalue &lt;dbl&gt; | padj &lt;dbl&gt; |\n",
       "|---|---|---|---|---|---|---|\n",
       "| chr1_10015_10442 |  71.40375 | -2.2136128 | 0.2691517 |  -8.2244061 | 1.961605e-16 | 2.910688e-15 |\n",
       "| chr1_14253_14645 |  68.63035 |  0.2221859 | 0.1534101 |   1.4483134 | 1.475294e-01 | 2.178106e-01 |\n",
       "| chr1_16015_16477 |  71.25409 | -1.2712950 | 0.2019628 |  -6.2946978 | 3.079993e-10 | 2.653010e-09 |\n",
       "| chr1_17237_17772 | 124.03128 | -1.3852891 | 0.1638628 |  -8.4539594 | 2.815873e-17 | 4.431893e-16 |\n",
       "| chr1_28903_29613 | 113.63103 | -1.9422003 | 0.1886131 | -10.2972733 | 7.248681e-25 | 1.723665e-23 |\n",
       "| chr1_30803_31072 |  57.37875 | -0.1332069 | 0.2145692 |  -0.6208109 | 5.347240e-01 | 6.231400e-01 |\n",
       "\n"
      ],
      "text/plain": [
       "  Peak             baseMean  log2FoldChange lfcSE     stat        pvalue      \n",
       "1 chr1_10015_10442  71.40375 -2.2136128     0.2691517  -8.2244061 1.961605e-16\n",
       "2 chr1_14253_14645  68.63035  0.2221859     0.1534101   1.4483134 1.475294e-01\n",
       "3 chr1_16015_16477  71.25409 -1.2712950     0.2019628  -6.2946978 3.079993e-10\n",
       "4 chr1_17237_17772 124.03128 -1.3852891     0.1638628  -8.4539594 2.815873e-17\n",
       "5 chr1_28903_29613 113.63103 -1.9422003     0.1886131 -10.2972733 7.248681e-25\n",
       "6 chr1_30803_31072  57.37875 -0.1332069     0.2145692  -0.6208109 5.347240e-01\n",
       "  padj        \n",
       "1 2.910688e-15\n",
       "2 2.178106e-01\n",
       "3 2.653010e-09\n",
       "4 4.431893e-16\n",
       "5 1.723665e-23\n",
       "6 6.231400e-01"
      ]
     },
     "metadata": {},
     "output_type": "display_data"
    }
   ],
   "source": [
    "head(dat_log2fc_deseq)"
   ]
  },
  {
   "cell_type": "code",
   "execution_count": 10,
   "id": "ec128d82",
   "metadata": {},
   "outputs": [
    {
     "name": "stdout",
     "output_type": "stream",
     "text": [
      "[1] 246852      8\n"
     ]
    },
    {
     "data": {
      "text/html": [
       "<table class=\"dataframe\">\n",
       "<caption>A tibble: 6 × 8</caption>\n",
       "<thead>\n",
       "\t<tr><th scope=col>Chrom</th><th scope=col>Start</th><th scope=col>End</th><th scope=col>Peak</th><th scope=col>Input</th><th scope=col>Output</th><th scope=col>Log2FC_raw</th><th scope=col>Log2FC_deseq</th></tr>\n",
       "\t<tr><th scope=col>&lt;chr&gt;</th><th scope=col>&lt;dbl&gt;</th><th scope=col>&lt;dbl&gt;</th><th scope=col>&lt;chr&gt;</th><th scope=col>&lt;dbl&gt;</th><th scope=col>&lt;dbl&gt;</th><th scope=col>&lt;dbl&gt;</th><th scope=col>&lt;dbl&gt;</th></tr>\n",
       "</thead>\n",
       "<tbody>\n",
       "\t<tr><td>chr1</td><td>10015</td><td>10442</td><td>chr1_10015_10442</td><td>210.1667</td><td> 8.50</td><td>-4.627927</td><td>-2.2136128</td></tr>\n",
       "\t<tr><td>chr1</td><td>14253</td><td>14645</td><td>chr1_14253_14645</td><td>135.8333</td><td>30.25</td><td>-2.166831</td><td> 0.2221859</td></tr>\n",
       "\t<tr><td>chr1</td><td>16015</td><td>16477</td><td>chr1_16015_16477</td><td>188.1667</td><td>14.75</td><td>-3.673224</td><td>-1.2712950</td></tr>\n",
       "\t<tr><td>chr1</td><td>17237</td><td>17772</td><td>chr1_17237_17772</td><td>345.8333</td><td>25.50</td><td>-3.761508</td><td>-1.3852891</td></tr>\n",
       "\t<tr><td>chr1</td><td>28903</td><td>29613</td><td>chr1_28903_29613</td><td>328.5000</td><td>16.25</td><td>-4.337382</td><td>-1.9422003</td></tr>\n",
       "\t<tr><td>chr1</td><td>30803</td><td>31072</td><td>chr1_30803_31072</td><td>120.6667</td><td>20.50</td><td>-2.557331</td><td>-0.1332069</td></tr>\n",
       "</tbody>\n",
       "</table>\n"
      ],
      "text/latex": [
       "A tibble: 6 × 8\n",
       "\\begin{tabular}{llllllll}\n",
       " Chrom & Start & End & Peak & Input & Output & Log2FC\\_raw & Log2FC\\_deseq\\\\\n",
       " <chr> & <dbl> & <dbl> & <chr> & <dbl> & <dbl> & <dbl> & <dbl>\\\\\n",
       "\\hline\n",
       "\t chr1 & 10015 & 10442 & chr1\\_10015\\_10442 & 210.1667 &  8.50 & -4.627927 & -2.2136128\\\\\n",
       "\t chr1 & 14253 & 14645 & chr1\\_14253\\_14645 & 135.8333 & 30.25 & -2.166831 &  0.2221859\\\\\n",
       "\t chr1 & 16015 & 16477 & chr1\\_16015\\_16477 & 188.1667 & 14.75 & -3.673224 & -1.2712950\\\\\n",
       "\t chr1 & 17237 & 17772 & chr1\\_17237\\_17772 & 345.8333 & 25.50 & -3.761508 & -1.3852891\\\\\n",
       "\t chr1 & 28903 & 29613 & chr1\\_28903\\_29613 & 328.5000 & 16.25 & -4.337382 & -1.9422003\\\\\n",
       "\t chr1 & 30803 & 31072 & chr1\\_30803\\_31072 & 120.6667 & 20.50 & -2.557331 & -0.1332069\\\\\n",
       "\\end{tabular}\n"
      ],
      "text/markdown": [
       "\n",
       "A tibble: 6 × 8\n",
       "\n",
       "| Chrom &lt;chr&gt; | Start &lt;dbl&gt; | End &lt;dbl&gt; | Peak &lt;chr&gt; | Input &lt;dbl&gt; | Output &lt;dbl&gt; | Log2FC_raw &lt;dbl&gt; | Log2FC_deseq &lt;dbl&gt; |\n",
       "|---|---|---|---|---|---|---|---|\n",
       "| chr1 | 10015 | 10442 | chr1_10015_10442 | 210.1667 |  8.50 | -4.627927 | -2.2136128 |\n",
       "| chr1 | 14253 | 14645 | chr1_14253_14645 | 135.8333 | 30.25 | -2.166831 |  0.2221859 |\n",
       "| chr1 | 16015 | 16477 | chr1_16015_16477 | 188.1667 | 14.75 | -3.673224 | -1.2712950 |\n",
       "| chr1 | 17237 | 17772 | chr1_17237_17772 | 345.8333 | 25.50 | -3.761508 | -1.3852891 |\n",
       "| chr1 | 28903 | 29613 | chr1_28903_29613 | 328.5000 | 16.25 | -4.337382 | -1.9422003 |\n",
       "| chr1 | 30803 | 31072 | chr1_30803_31072 | 120.6667 | 20.50 | -2.557331 | -0.1332069 |\n",
       "\n"
      ],
      "text/plain": [
       "  Chrom Start End   Peak             Input    Output Log2FC_raw Log2FC_deseq\n",
       "1 chr1  10015 10442 chr1_10015_10442 210.1667  8.50  -4.627927  -2.2136128  \n",
       "2 chr1  14253 14645 chr1_14253_14645 135.8333 30.25  -2.166831   0.2221859  \n",
       "3 chr1  16015 16477 chr1_16015_16477 188.1667 14.75  -3.673224  -1.2712950  \n",
       "4 chr1  17237 17772 chr1_17237_17772 345.8333 25.50  -3.761508  -1.3852891  \n",
       "5 chr1  28903 29613 chr1_28903_29613 328.5000 16.25  -4.337382  -1.9422003  \n",
       "6 chr1  30803 31072 chr1_30803_31072 120.6667 20.50  -2.557331  -0.1332069  "
      ]
     },
     "metadata": {},
     "output_type": "display_data"
    }
   ],
   "source": [
    "dat1 = dat_log2fc_raw %>% dplyr::rename(Log2FC_raw = log2FoldChange)\n",
    "dat2 = dat_log2fc_deseq %>%\n",
    "    dplyr::select(Peak, log2FoldChange) %>%\n",
    "    dplyr::rename(Log2FC_deseq = log2FoldChange)\n",
    "dat = left_join(dat1, dat2, by=\"Peak\")\n",
    "print(dim(dat))\n",
    "head(dat)"
   ]
  },
  {
   "cell_type": "code",
   "execution_count": 11,
   "id": "f9dec64a",
   "metadata": {},
   "outputs": [
    {
     "data": {
      "image/png": "[encoded data removed]",
      "text/plain": [
       "plot without title"
      ]
     },
     "metadata": {
      "image/png": {
       "height": 300,
       "width": 300
      }
     },
     "output_type": "display_data"
    }
   ],
   "source": [
    "tmp = dat %>% na.omit %>% dplyr::slice_sample(n = 100000)\n",
    "gpt = ggplot(tmp, aes(x=Log2FC_raw, y=Log2FC_deseq)) +\n",
    "    geom_point(size=0.1, alpha=0.3) + \n",
    "    labs(x=\"Log2FC (Raw)\", y=\"Log2FC (DESeq2)\", title=\"ASTARR\") +\n",
    "    theme_cowplot() +\n",
    "    theme(\n",
    "        panel.grid.major = element_line(colour=\"grey90\", linewidth=0.5),\n",
    "        panel.grid.minor = element_line(colour=\"grey90\", linewidth=0.2))\n",
    "\n",
    "options(repr.plot.height=5, repr.plot.width=5)\n",
    "print(gpt)"
   ]
  },
  {
   "cell_type": "code",
   "execution_count": null,
   "id": "84709c41",
   "metadata": {},
   "outputs": [],
   "source": []
  }
 ],
 "metadata": {
  "kernelspec": {
   "display_name": "R",
   "language": "R",
   "name": "ir"
  },
  "language_info": {
   "codemirror_mode": "r",
   "file_extension": ".r",
   "mimetype": "text/x-r-source",
   "name": "R",
   "pygments_lexer": "r",
   "version": "4.2.2"
  }
 },
 "nbformat": 4,
 "nbformat_minor": 5
}
