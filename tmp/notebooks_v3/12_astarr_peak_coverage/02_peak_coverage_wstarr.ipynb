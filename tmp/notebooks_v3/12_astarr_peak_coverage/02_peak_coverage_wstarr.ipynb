{
 "cells": [
  {
   "cell_type": "markdown",
   "id": "307a6acb-3f4d-48c7-8649-ea3689c048e6",
   "metadata": {},
   "source": [
    "**Set environment**"
   ]
  },
  {
   "cell_type": "code",
   "execution_count": 1,
   "id": "2b888f07-67b0-40f8-a6d3-8b9ae7463bee",
   "metadata": {},
   "outputs": [
    {
     "name": "stdout",
     "output_type": "stream",
     "text": [
      "You are on Duke Server: HARDAC\n",
      "BASE DIRECTORY:     /data/reddylab/Kuei\n",
      "WORK DIRECTORY:     /data/reddylab/Kuei/out\n",
      "CODE DIRECTORY:     /data/reddylab/Kuei/code\n",
      "SING DIRECTORY:     /data/reddylab/Kuei/singularity\n",
      "PATH OF SOURCE:     /data/reddylab/Kuei/source\n",
      "PATH OF EXECUTABLE: /data/reddylab/Kuei/bin\n",
      "PATH OF ANNOTATION: /data/reddylab/Kuei/annotation\n",
      "PATH OF PROJECT:    /data/reddylab/Kuei/code/Proj_CombEffect_ENCODE_FCC\n",
      "PATH OF RESULTS:    /data/reddylab/Kuei/out/proj_combeffect_encode_fcc\n",
      "\n"
     ]
    }
   ],
   "source": [
    "source ../config/config_duke.sh\n",
    "source ../config/config_load_module_bedtools.sh\n",
    "show_env"
   ]
  },
  {
   "cell_type": "code",
   "execution_count": 2,
   "id": "7b54152b-4948-4cd5-8fa6-2964978a202c",
   "metadata": {},
   "outputs": [
    {
     "name": "stdout",
     "output_type": "stream",
     "text": [
      "-rw-rw-r-- 1 kk319 reddylab 5.7M Oct 17 05:28 /data/reddylab/Kuei/out/proj_combeffect_encode_fcc/region/KS91_K562_ASTARRseq_peak_macs/KS91_K562_hg38_ASTARRseq_Input.all_reps.masked.union_narrowPeak.q5.bed\n",
      "247520\n",
      "+++++++++++++++++++++++++++++++++++\n",
      "chr1\t10015\t10442\n",
      "chr1\t14253\t14645\n",
      "chr1\t16015\t16477\n",
      "chr1\t17237\t17772\n",
      "chr1\t28903\t29613\n",
      "chr1\t30803\t31072\n",
      "chr1\t101603\t101849\n",
      "chr1\t115411\t115986\n",
      "chr1\t118518\t118743\n",
      "chr1\t136071\t137429\n",
      "+++++++++++++++++++++++++++++++++++\n",
      "chrX\t155966947\t155967395\n",
      "chrX\t155971561\t155972273\n",
      "chrX\t155986274\t155987619\n",
      "chrX\t155997267\t155998045\n",
      "chrX\t156000382\t156003205\n",
      "chrX\t156009687\t156010227\n",
      "chrX\t156016391\t156016836\n",
      "chrX\t156024950\t156025593\n",
      "chrX\t156030187\t156030740\n",
      "chrY\t11215098\t11215422\n"
     ]
    }
   ],
   "source": [
    "FD_REG=${FD_RES}/region/KS91_K562_ASTARRseq_peak_macs\n",
    "FN_REG=KS91_K562_hg38_ASTARRseq_Input.all_reps.masked.union_narrowPeak.q5.bed\n",
    "ls -lh ${FD_REG}/${FN_REG}\n",
    "cat ${FD_REG}/${FN_REG} | wc -l\n",
    "echo +++++++++++++++++++++++++++++++++++\n",
    "head ${FD_REG}/${FN_REG}\n",
    "echo +++++++++++++++++++++++++++++++++++\n",
    "tail ${FD_REG}/${FN_REG}"
   ]
  },
  {
   "cell_type": "code",
   "execution_count": 3,
   "id": "b81dca41-d5d1-46d9-a339-991da4af4a10",
   "metadata": {},
   "outputs": [
    {
     "name": "stdout",
     "output_type": "stream",
     "text": [
      "\u001b[0m\u001b[38;5;27mA001_K562_WSTARRseq\u001b[0m  \u001b[38;5;27mKS91_K562_ASTARRseq\u001b[0m  \u001b[38;5;27mTewhey_K562_TileMPRA\u001b[0m\n"
     ]
    }
   ],
   "source": [
    "ls ${FD_RES}/results"
   ]
  },
  {
   "cell_type": "code",
   "execution_count": 5,
   "id": "96d0da4c-2f15-4968-92aa-883d86d61fa0",
   "metadata": {},
   "outputs": [
    {
     "name": "stdout",
     "output_type": "stream",
     "text": [
      "/data/reddylab/Kuei/out/proj_combeffect_encode_fcc/results/A001_K562_WSTARRseq/fragment_count\n",
      "A001_K562_WSTARRseq.Input.rep1.WGS.unstranded.bed.gz\n",
      "A001_K562_WSTARRseq.Input.rep2.WGS.unstranded.bed.gz\n",
      "A001_K562_WSTARRseq.Input.rep3.WGS.unstranded.bed.gz\n",
      "A001_K562_WSTARRseq.Input.rep4.WGS.unstranded.bed.gz\n",
      "A001_K562_WSTARRseq.Output.rep1.WGS.unstranded.bed.gz\n",
      "A001_K562_WSTARRseq.Output.rep2.WGS.unstranded.bed.gz\n",
      "A001_K562_WSTARRseq.Output.rep3.WGS.unstranded.bed.gz\n"
     ]
    }
   ],
   "source": [
    "PREFIX=A001_K562_WSTARRseq\n",
    "FD_INP=${FD_RES}/results/${PREFIX}/fragment_count\n",
    "\n",
    "echo ${FD_INP}\n",
    "ls ${FD_INP}/*WGS*bed.gz | xargs -n 1 basename"
   ]
  },
  {
   "cell_type": "code",
   "execution_count": 6,
   "id": "460de39a-e31a-43d6-8894-d4f04ce040cb",
   "metadata": {},
   "outputs": [
    {
     "name": "stdout",
     "output_type": "stream",
     "text": [
      "Total: 7\n"
     ]
    }
   ],
   "source": [
    "FP_INPS=($(ls ${FD_INP}/*WGS*bed.gz))\n",
    "\n",
    "echo Total: ${#FP_INPS[@]}"
   ]
  },
  {
   "cell_type": "code",
   "execution_count": 15,
   "id": "a96042ee-4167-4b37-976f-43090dab92ad",
   "metadata": {},
   "outputs": [
    {
     "name": "stdout",
     "output_type": "stream",
     "text": [
      "Submitted batch job 29423364\n"
     ]
    }
   ],
   "source": [
    "sbatch -p ${NODE} \\\n",
    "    --exclude=dl-01 \\\n",
    "    --cpus-per-task 8 \\\n",
    "    --mem 20G \\\n",
    "    --output ${FD_LOG}/coverage_astarr_peak_macs_input_wstarr.%a.txt \\\n",
    "    --array 0-6 \\\n",
    "    <<'EOF'\n",
    "#!/bin/bash\n",
    "### set directories & global variables\n",
    "source ../config/config_duke.sh\n",
    "\n",
    "### set input and output directory\n",
    "PREFIX=A001_K562_WSTARRseq\n",
    "FD_INP=${FD_RES}/results/${PREFIX}/fragment_count\n",
    "FD_OUT=${FD_RES}/results/${PREFIX}/coverage_astarrseq_peak_macs_input\n",
    "\n",
    "FP_INPS=(${FD_INP}/*WGS*bed.gz)\n",
    "FP_INP=${FP_INPS[${SLURM_ARRAY_TASK_ID}]}\n",
    "FN_INP=$(basename ${FP_INP})\n",
    "FN_OUT=${FN_INP}\n",
    "\n",
    "FD_REG=${FD_RES}/region/KS91_K562_ASTARRseq_peak_macs\n",
    "FN_REG=KS91_K562_hg38_ASTARRseq_Input.all_reps.masked.union_narrowPeak.q5.bed\n",
    "\n",
    "### print start message\n",
    "timer_start=`date +%s`\n",
    "echo \"Hostname:          \" $(hostname)\n",
    "echo \"Slurm Array Index: \" ${SLURM_ARRAY_TASK_ID}\n",
    "echo \"Time Stamp:        \" $(date +\"%m-%d-%y+%T\")\n",
    "echo\n",
    "\n",
    "### Show I/O file\n",
    "echo \"Input  file: \" ${FP_INP}\n",
    "echo\n",
    "echo \"Show the first few lines of the input file\"\n",
    "zcat  ${FP_INP} | head -n 3 \n",
    "echo\n",
    "\n",
    "echo \"Input  file: \" ${FD_REG}/${FN_REG}\n",
    "echo\n",
    "echo \"Show the first few lines of the input file\"\n",
    "cat  ${FD_REG}/${FN_REG} | head -n 3 \n",
    "echo\n",
    "echo \"Show the last few lines of the input file\"\n",
    "cat  ${FD_REG}/${FN_REG} | tail -n 3 \n",
    "echo\n",
    "\n",
    "### execute\n",
    "bedtools map \\\n",
    "    -a ${FD_REG}/${FN_REG} \\\n",
    "    -b ${FP_INP} \\\n",
    "    -o sum \\\n",
    "    -f 0.5 \\\n",
    "    -F 0.5 \\\n",
    "    -e \\\n",
    "| gzip -c \\\n",
    "> ${FD_OUT}/${FN_OUT}\n",
    "\n",
    "### Show I/O file\n",
    "echo\n",
    "echo \"Output file: \" ${FD_OUT}/${FN_OUT}\n",
    "echo\n",
    "echo \"Show the first few lines of the output file\"\n",
    "zcat ${FD_OUT}/${FN_OUT} | head -n 3\n",
    "echo\n",
    "echo \"Show the last few lines of the output file\"\n",
    "zcat ${FD_OUT}/${FN_OUT} | tail -n 3\n",
    "echo\n",
    "\n",
    "### print end message\n",
    "timer_stop=`date +%s`\n",
    "runtime=$(echo \"${timer_stop} - ${timer_start}\" | bc -l)\n",
    "echo\n",
    "echo 'Done!'\n",
    "echo \"Run Time: $(displaytime ${runtime})\"\n",
    "\n",
    "EOF"
   ]
  },
  {
   "cell_type": "code",
   "execution_count": 16,
   "id": "b1f31171-c700-457d-a6b3-c83f70a0b705",
   "metadata": {},
   "outputs": [
    {
     "name": "stdout",
     "output_type": "stream",
     "text": [
      "/data/reddylab/Kuei/out/proj_combeffect_encode_fcc/log/coverage_astarr_peak_macs_input_wstarr.0.txt\n",
      "/data/reddylab/Kuei/out/proj_combeffect_encode_fcc/log/coverage_astarr_peak_macs_input_wstarr.10.txt\n",
      "/data/reddylab/Kuei/out/proj_combeffect_encode_fcc/log/coverage_astarr_peak_macs_input_wstarr.11.txt\n",
      "/data/reddylab/Kuei/out/proj_combeffect_encode_fcc/log/coverage_astarr_peak_macs_input_wstarr.12.txt\n",
      "/data/reddylab/Kuei/out/proj_combeffect_encode_fcc/log/coverage_astarr_peak_macs_input_wstarr.13.txt\n",
      "/data/reddylab/Kuei/out/proj_combeffect_encode_fcc/log/coverage_astarr_peak_macs_input_wstarr.1.txt\n",
      "/data/reddylab/Kuei/out/proj_combeffect_encode_fcc/log/coverage_astarr_peak_macs_input_wstarr.2.txt\n",
      "/data/reddylab/Kuei/out/proj_combeffect_encode_fcc/log/coverage_astarr_peak_macs_input_wstarr.3.txt\n",
      "/data/reddylab/Kuei/out/proj_combeffect_encode_fcc/log/coverage_astarr_peak_macs_input_wstarr.4.txt\n",
      "/data/reddylab/Kuei/out/proj_combeffect_encode_fcc/log/coverage_astarr_peak_macs_input_wstarr.5.txt\n",
      "/data/reddylab/Kuei/out/proj_combeffect_encode_fcc/log/coverage_astarr_peak_macs_input_wstarr.6.txt\n",
      "/data/reddylab/Kuei/out/proj_combeffect_encode_fcc/log/coverage_astarr_peak_macs_input_wstarr.7.txt\n",
      "/data/reddylab/Kuei/out/proj_combeffect_encode_fcc/log/coverage_astarr_peak_macs_input_wstarr.8.txt\n",
      "/data/reddylab/Kuei/out/proj_combeffect_encode_fcc/log/coverage_astarr_peak_macs_input_wstarr.9.txt\n"
     ]
    }
   ],
   "source": [
    "ls ${FD_LOG}/coverage_astarr_peak_macs_input_wstarr.*.txt"
   ]
  },
  {
   "cell_type": "code",
   "execution_count": 17,
   "id": "23d3ac80-1fa2-41e7-8a12-f2063eb993e5",
   "metadata": {},
   "outputs": [
    {
     "name": "stdout",
     "output_type": "stream",
     "text": [
      "Hostname:           x1-01-4.genome.duke.edu\n",
      "Slurm Array Index:  0\n",
      "Time Stamp:         12-11-22+14:00:37\n",
      "\n",
      "Input  file:  /data/reddylab/Kuei/out/proj_combeffect_encode_fcc/results/A001_K562_WSTARRseq/fragment_count/A001_K562_WSTARRseq.Input.rep1.WGS.unstranded.bed.gz\n",
      "\n",
      "Show the first few lines of the input file\n",
      "chr1\t10335\t10549\tchr1_10335_10549\t1\t.\n",
      "chr1\t16983\t17500\tchr1_16983_17500\t1\t.\n",
      "chr1\t16985\t17499\tchr1_16985_17499\t1\t.\n",
      "\n",
      "Input  file:  /data/reddylab/Kuei/out/proj_combeffect_encode_fcc/region/KS91_K562_ASTARRseq_peak_macs/KS91_K562_hg38_ASTARRseq_Input.all_reps.masked.union_narrowPeak.q5.bed\n",
      "\n",
      "Show the first few lines of the input file\n",
      "chr1\t10015\t10442\n",
      "chr1\t14253\t14645\n",
      "chr1\t16015\t16477\n",
      "\n",
      "Show the last few lines of the input file\n",
      "chrX\t156024950\t156025593\n",
      "chrX\t156030187\t156030740\n",
      "chrY\t11215098\t11215422\n",
      "\n",
      "\n",
      "Output file:  /data/reddylab/Kuei/out/proj_combeffect_encode_fcc/results/A001_K562_WSTARRseq/coverage_astarrseq_peak_macs_input/A001_K562_WSTARRseq.Input.rep1.WGS.unstranded.bed.gz\n",
      "\n",
      "Show the first few lines of the output file\n",
      "chr1\t10015\t10442\t1\n",
      "chr1\t14253\t14645\t.\n",
      "chr1\t16015\t16477\t.\n",
      "\n",
      "Show the last few lines of the output file\n",
      "chrX\t156024950\t156025593\t2\n",
      "chrX\t156030187\t156030740\t.\n",
      "chrY\t11215098\t11215422\t.\n",
      "\n",
      "\n",
      "Done!\n",
      "Run Time: 24 seconds\n"
     ]
    }
   ],
   "source": [
    "cat ${FD_LOG}/coverage_astarr_peak_macs_input_wstarr.0.txt"
   ]
  },
  {
   "cell_type": "code",
   "execution_count": 18,
   "id": "1fa1b28f-0b9b-43e0-98b5-f739987150e4",
   "metadata": {},
   "outputs": [
    {
     "name": "stdout",
     "output_type": "stream",
     "text": [
      "Hostname:           x1-02-1.genome.duke.edu\n",
      "Slurm Array Index:  4\n",
      "Time Stamp:         12-11-22+14:00:37\n",
      "\n",
      "Input  file:  /data/reddylab/Kuei/out/proj_combeffect_encode_fcc/results/A001_K562_WSTARRseq/fragment_count/A001_K562_WSTARRseq.Output.rep1.WGS.unstranded.bed.gz\n",
      "\n",
      "Show the first few lines of the input file\n",
      "chr1\t14845\t15207\tchr1_14845_15207\t1\t.\n",
      "chr1\t15512\t16248\tchr1_15512_16248\t1\t.\n",
      "chr1\t15652\t16254\tchr1_15652_16254\t1\t.\n",
      "\n",
      "Input  file:  /data/reddylab/Kuei/out/proj_combeffect_encode_fcc/region/KS91_K562_ASTARRseq_peak_macs/KS91_K562_hg38_ASTARRseq_Input.all_reps.masked.union_narrowPeak.q5.bed\n",
      "\n",
      "Show the first few lines of the input file\n",
      "chr1\t10015\t10442\n",
      "chr1\t14253\t14645\n",
      "chr1\t16015\t16477\n",
      "\n",
      "Show the last few lines of the input file\n",
      "chrX\t156024950\t156025593\n",
      "chrX\t156030187\t156030740\n",
      "chrY\t11215098\t11215422\n",
      "\n",
      "\n",
      "Output file:  /data/reddylab/Kuei/out/proj_combeffect_encode_fcc/results/A001_K562_WSTARRseq/coverage_astarrseq_peak_macs_input/A001_K562_WSTARRseq.Output.rep1.WGS.unstranded.bed.gz\n",
      "\n",
      "Show the first few lines of the output file\n",
      "chr1\t10015\t10442\t.\n",
      "chr1\t14253\t14645\t.\n",
      "chr1\t16015\t16477\t20\n",
      "\n",
      "Show the last few lines of the output file\n",
      "chrX\t156024950\t156025593\t38\n",
      "chrX\t156030187\t156030740\t.\n",
      "chrY\t11215098\t11215422\t.\n",
      "\n",
      "\n",
      "Done!\n",
      "Run Time: 2 minutes and 16 seconds\n"
     ]
    }
   ],
   "source": [
    "cat ${FD_LOG}/coverage_astarr_peak_macs_input_wstarr.4.txt"
   ]
  },
  {
   "cell_type": "code",
   "execution_count": null,
   "id": "2aea426e-72e3-48ab-ab73-944fafface48",
   "metadata": {},
   "outputs": [],
   "source": []
  }
 ],
 "metadata": {
  "kernelspec": {
   "display_name": "Bash",
   "language": "bash",
   "name": "bash"
  },
  "language_info": {
   "codemirror_mode": "shell",
   "file_extension": ".sh",
   "mimetype": "text/x-sh",
   "name": "bash"
  }
 },
 "nbformat": 4,
 "nbformat_minor": 5
}
