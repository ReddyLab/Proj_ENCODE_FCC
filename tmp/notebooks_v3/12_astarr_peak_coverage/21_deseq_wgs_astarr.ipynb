{
 "cells": [
  {
   "cell_type": "markdown",
   "id": "9ecb6aad",
   "metadata": {},
   "source": [
    "**Set environment**"
   ]
  },
  {
   "cell_type": "code",
   "execution_count": 1,
   "id": "a327c41c",
   "metadata": {},
   "outputs": [
    {
     "name": "stdout",
     "output_type": "stream",
     "text": [
      "You are in Singularity: singularity_proj_combeffect \n",
      "BASE DIRECTORY:     /data/reddylab/Kuei \n",
      "WORK DIRECTORY:     /data/reddylab/Kuei/out \n",
      "CODE DIRECTORY:     /data/reddylab/Kuei/code \n",
      "PATH OF SOURCE:     /data/reddylab/Kuei/source \n",
      "PATH OF EXECUTABLE: /data/reddylab/Kuei/bin \n",
      "PATH OF ANNOTATION: /data/reddylab/Kuei/annotation \n",
      "PATH OF PROJECT:    /data/reddylab/Kuei/code/Proj_CombEffect_ENCODE_FCC \n",
      "PATH OF RESULTS:    /data/reddylab/Kuei/out/proj_combeffect_encode_fcc \n"
     ]
    }
   ],
   "source": [
    "suppressMessages(suppressWarnings(source(\"../config/config_sing.R\")))\n",
    "suppressMessages(suppressWarnings(library(\"DESeq2\")))\n",
    "show_env()"
   ]
  },
  {
   "cell_type": "markdown",
   "id": "6a98b702",
   "metadata": {},
   "source": [
    "## Import count matrix and metadata"
   ]
  },
  {
   "cell_type": "code",
   "execution_count": 2,
   "id": "d7d8736c",
   "metadata": {},
   "outputs": [
    {
     "name": "stderr",
     "output_type": "stream",
     "text": [
      "\u001b[1mRows: \u001b[22m\u001b[34m246852\u001b[39m \u001b[1mColumns: \u001b[22m\u001b[34m14\u001b[39m\n",
      "\u001b[36m──\u001b[39m \u001b[1mColumn specification\u001b[22m \u001b[36m──────────────────────────────────────────────────────────────────────\u001b[39m\n",
      "\u001b[1mDelimiter:\u001b[22m \"\\t\"\n",
      "\u001b[31mchr\u001b[39m  (2): Chrom, Peak\n",
      "\u001b[32mdbl\u001b[39m (12): Start, End, Input.rep1, Input.rep2, Input.rep3, Input.rep4, Input....\n",
      "\n",
      "\u001b[36mℹ\u001b[39m Use `spec()` to retrieve the full column specification for this data.\n",
      "\u001b[36mℹ\u001b[39m Specify the column types or set `show_col_types = FALSE` to quiet this message.\n",
      "\u001b[1mRows: \u001b[22m\u001b[34m10\u001b[39m \u001b[1mColumns: \u001b[22m\u001b[34m3\u001b[39m\n",
      "\u001b[36m──\u001b[39m \u001b[1mColumn specification\u001b[22m \u001b[36m──────────────────────────────────────────────────────────────────────\u001b[39m\n",
      "\u001b[1mDelimiter:\u001b[22m \"\\t\"\n",
      "\u001b[31mchr\u001b[39m (3): Sample, Group, FPath\n",
      "\n",
      "\u001b[36mℹ\u001b[39m Use `spec()` to retrieve the full column specification for this data.\n",
      "\u001b[36mℹ\u001b[39m Specify the column types or set `show_col_types = FALSE` to quiet this message.\n"
     ]
    }
   ],
   "source": [
    "PREFIX = \"KS91_K562_ASTARRseq\"\n",
    "FOLDER = \"coverage_astarrseq_peak_macs_input\"\n",
    "\n",
    "fdiry = file.path(FD_RES, \"results\", PREFIX, FOLDER, \"summary\")\n",
    "\n",
    "fname = \"matrix.raw.count.WGS.tsv\"\n",
    "fpath = file.path(fdiry, fname)\n",
    "dat_count = read_tsv(fpath)\n",
    "\n",
    "fname = \"metadata.raw.WGS.tsv\"\n",
    "fpath = file.path(fdiry, fname)\n",
    "dat_meta = read_tsv(fpath)"
   ]
  },
  {
   "cell_type": "markdown",
   "id": "470d6941",
   "metadata": {},
   "source": [
    "**Arrange count matrix and metadata**"
   ]
  },
  {
   "cell_type": "code",
   "execution_count": 3,
   "id": "09f318b1",
   "metadata": {},
   "outputs": [],
   "source": [
    "dat_col = dat_meta  %>% \n",
    "    dplyr::select(Sample, Group) %>% \n",
    "    dplyr::rename(condition = Group) %>%\n",
    "    column_to_rownames(var = \"Sample\")\n",
    "\n",
    "dat_cnt = dat_count %>% \n",
    "    dplyr::mutate(Peak = paste(Chrom, Start, End, sep = \"_\")) %>%\n",
    "    dplyr::select(-Chrom, -Start, -End) %>%\n",
    "    column_to_rownames(var = \"Peak\")\n",
    "\n",
    "dat_cnt[is.na(dat_cnt)] = 0"
   ]
  },
  {
   "cell_type": "code",
   "execution_count": 4,
   "id": "86dfe359",
   "metadata": {},
   "outputs": [
    {
     "data": {
      "text/html": [
       "<table class=\"dataframe\">\n",
       "<caption>A data.frame: 6 × 10</caption>\n",
       "<thead>\n",
       "\t<tr><th></th><th scope=col>Input.rep1</th><th scope=col>Input.rep2</th><th scope=col>Input.rep3</th><th scope=col>Input.rep4</th><th scope=col>Input.rep5</th><th scope=col>Input.rep6</th><th scope=col>Output.rep1</th><th scope=col>Output.rep2</th><th scope=col>Output.rep3</th><th scope=col>Output.rep4</th></tr>\n",
       "\t<tr><th></th><th scope=col>&lt;dbl&gt;</th><th scope=col>&lt;dbl&gt;</th><th scope=col>&lt;dbl&gt;</th><th scope=col>&lt;dbl&gt;</th><th scope=col>&lt;dbl&gt;</th><th scope=col>&lt;dbl&gt;</th><th scope=col>&lt;dbl&gt;</th><th scope=col>&lt;dbl&gt;</th><th scope=col>&lt;dbl&gt;</th><th scope=col>&lt;dbl&gt;</th></tr>\n",
       "</thead>\n",
       "<tbody>\n",
       "\t<tr><th scope=row>chr1_10015_10442</th><td>155</td><td>214</td><td>257</td><td>236</td><td>185</td><td>214</td><td> 7</td><td>12</td><td> 4</td><td>11</td></tr>\n",
       "\t<tr><th scope=row>chr1_14253_14645</th><td>110</td><td>144</td><td>160</td><td>141</td><td>130</td><td>130</td><td> 8</td><td>26</td><td>30</td><td>57</td></tr>\n",
       "\t<tr><th scope=row>chr1_16015_16477</th><td>141</td><td>208</td><td>206</td><td>190</td><td>202</td><td>182</td><td> 9</td><td> 9</td><td>18</td><td>23</td></tr>\n",
       "\t<tr><th scope=row>chr1_17237_17772</th><td>259</td><td>350</td><td>399</td><td>367</td><td>369</td><td>331</td><td> 7</td><td>13</td><td>23</td><td>59</td></tr>\n",
       "\t<tr><th scope=row>chr1_28903_29613</th><td>263</td><td>338</td><td>368</td><td>333</td><td>352</td><td>317</td><td>12</td><td>18</td><td> 3</td><td>32</td></tr>\n",
       "\t<tr><th scope=row>chr1_30803_31072</th><td> 82</td><td>115</td><td>171</td><td>136</td><td>105</td><td>115</td><td>13</td><td>22</td><td>14</td><td>33</td></tr>\n",
       "</tbody>\n",
       "</table>\n"
      ],
      "text/latex": [
       "A data.frame: 6 × 10\n",
       "\\begin{tabular}{r|llllllllll}\n",
       "  & Input.rep1 & Input.rep2 & Input.rep3 & Input.rep4 & Input.rep5 & Input.rep6 & Output.rep1 & Output.rep2 & Output.rep3 & Output.rep4\\\\\n",
       "  & <dbl> & <dbl> & <dbl> & <dbl> & <dbl> & <dbl> & <dbl> & <dbl> & <dbl> & <dbl>\\\\\n",
       "\\hline\n",
       "\tchr1\\_10015\\_10442 & 155 & 214 & 257 & 236 & 185 & 214 &  7 & 12 &  4 & 11\\\\\n",
       "\tchr1\\_14253\\_14645 & 110 & 144 & 160 & 141 & 130 & 130 &  8 & 26 & 30 & 57\\\\\n",
       "\tchr1\\_16015\\_16477 & 141 & 208 & 206 & 190 & 202 & 182 &  9 &  9 & 18 & 23\\\\\n",
       "\tchr1\\_17237\\_17772 & 259 & 350 & 399 & 367 & 369 & 331 &  7 & 13 & 23 & 59\\\\\n",
       "\tchr1\\_28903\\_29613 & 263 & 338 & 368 & 333 & 352 & 317 & 12 & 18 &  3 & 32\\\\\n",
       "\tchr1\\_30803\\_31072 &  82 & 115 & 171 & 136 & 105 & 115 & 13 & 22 & 14 & 33\\\\\n",
       "\\end{tabular}\n"
      ],
      "text/markdown": [
       "\n",
       "A data.frame: 6 × 10\n",
       "\n",
       "| <!--/--> | Input.rep1 &lt;dbl&gt; | Input.rep2 &lt;dbl&gt; | Input.rep3 &lt;dbl&gt; | Input.rep4 &lt;dbl&gt; | Input.rep5 &lt;dbl&gt; | Input.rep6 &lt;dbl&gt; | Output.rep1 &lt;dbl&gt; | Output.rep2 &lt;dbl&gt; | Output.rep3 &lt;dbl&gt; | Output.rep4 &lt;dbl&gt; |\n",
       "|---|---|---|---|---|---|---|---|---|---|---|\n",
       "| chr1_10015_10442 | 155 | 214 | 257 | 236 | 185 | 214 |  7 | 12 |  4 | 11 |\n",
       "| chr1_14253_14645 | 110 | 144 | 160 | 141 | 130 | 130 |  8 | 26 | 30 | 57 |\n",
       "| chr1_16015_16477 | 141 | 208 | 206 | 190 | 202 | 182 |  9 |  9 | 18 | 23 |\n",
       "| chr1_17237_17772 | 259 | 350 | 399 | 367 | 369 | 331 |  7 | 13 | 23 | 59 |\n",
       "| chr1_28903_29613 | 263 | 338 | 368 | 333 | 352 | 317 | 12 | 18 |  3 | 32 |\n",
       "| chr1_30803_31072 |  82 | 115 | 171 | 136 | 105 | 115 | 13 | 22 | 14 | 33 |\n",
       "\n"
      ],
      "text/plain": [
       "                 Input.rep1 Input.rep2 Input.rep3 Input.rep4 Input.rep5\n",
       "chr1_10015_10442 155        214        257        236        185       \n",
       "chr1_14253_14645 110        144        160        141        130       \n",
       "chr1_16015_16477 141        208        206        190        202       \n",
       "chr1_17237_17772 259        350        399        367        369       \n",
       "chr1_28903_29613 263        338        368        333        352       \n",
       "chr1_30803_31072  82        115        171        136        105       \n",
       "                 Input.rep6 Output.rep1 Output.rep2 Output.rep3 Output.rep4\n",
       "chr1_10015_10442 214         7          12           4          11         \n",
       "chr1_14253_14645 130         8          26          30          57         \n",
       "chr1_16015_16477 182         9           9          18          23         \n",
       "chr1_17237_17772 331         7          13          23          59         \n",
       "chr1_28903_29613 317        12          18           3          32         \n",
       "chr1_30803_31072 115        13          22          14          33         "
      ]
     },
     "metadata": {},
     "output_type": "display_data"
    }
   ],
   "source": [
    "head(dat_cnt)"
   ]
  },
  {
   "cell_type": "code",
   "execution_count": 5,
   "id": "d2327109",
   "metadata": {},
   "outputs": [
    {
     "data": {
      "text/html": [
       "<table class=\"dataframe\">\n",
       "<caption>A data.frame: 10 × 1</caption>\n",
       "<thead>\n",
       "\t<tr><th></th><th scope=col>condition</th></tr>\n",
       "\t<tr><th></th><th scope=col>&lt;chr&gt;</th></tr>\n",
       "</thead>\n",
       "<tbody>\n",
       "\t<tr><th scope=row>Input.rep1</th><td>Input </td></tr>\n",
       "\t<tr><th scope=row>Input.rep2</th><td>Input </td></tr>\n",
       "\t<tr><th scope=row>Input.rep3</th><td>Input </td></tr>\n",
       "\t<tr><th scope=row>Input.rep4</th><td>Input </td></tr>\n",
       "\t<tr><th scope=row>Input.rep5</th><td>Input </td></tr>\n",
       "\t<tr><th scope=row>Input.rep6</th><td>Input </td></tr>\n",
       "\t<tr><th scope=row>Output.rep1</th><td>Output</td></tr>\n",
       "\t<tr><th scope=row>Output.rep2</th><td>Output</td></tr>\n",
       "\t<tr><th scope=row>Output.rep3</th><td>Output</td></tr>\n",
       "\t<tr><th scope=row>Output.rep4</th><td>Output</td></tr>\n",
       "</tbody>\n",
       "</table>\n"
      ],
      "text/latex": [
       "A data.frame: 10 × 1\n",
       "\\begin{tabular}{r|l}\n",
       "  & condition\\\\\n",
       "  & <chr>\\\\\n",
       "\\hline\n",
       "\tInput.rep1 & Input \\\\\n",
       "\tInput.rep2 & Input \\\\\n",
       "\tInput.rep3 & Input \\\\\n",
       "\tInput.rep4 & Input \\\\\n",
       "\tInput.rep5 & Input \\\\\n",
       "\tInput.rep6 & Input \\\\\n",
       "\tOutput.rep1 & Output\\\\\n",
       "\tOutput.rep2 & Output\\\\\n",
       "\tOutput.rep3 & Output\\\\\n",
       "\tOutput.rep4 & Output\\\\\n",
       "\\end{tabular}\n"
      ],
      "text/markdown": [
       "\n",
       "A data.frame: 10 × 1\n",
       "\n",
       "| <!--/--> | condition &lt;chr&gt; |\n",
       "|---|---|\n",
       "| Input.rep1 | Input  |\n",
       "| Input.rep2 | Input  |\n",
       "| Input.rep3 | Input  |\n",
       "| Input.rep4 | Input  |\n",
       "| Input.rep5 | Input  |\n",
       "| Input.rep6 | Input  |\n",
       "| Output.rep1 | Output |\n",
       "| Output.rep2 | Output |\n",
       "| Output.rep3 | Output |\n",
       "| Output.rep4 | Output |\n",
       "\n"
      ],
      "text/plain": [
       "            condition\n",
       "Input.rep1  Input    \n",
       "Input.rep2  Input    \n",
       "Input.rep3  Input    \n",
       "Input.rep4  Input    \n",
       "Input.rep5  Input    \n",
       "Input.rep6  Input    \n",
       "Output.rep1 Output   \n",
       "Output.rep2 Output   \n",
       "Output.rep3 Output   \n",
       "Output.rep4 Output   "
      ]
     },
     "metadata": {},
     "output_type": "display_data"
    }
   ],
   "source": [
    "dat_col"
   ]
  },
  {
   "cell_type": "code",
   "execution_count": 6,
   "id": "388a5879",
   "metadata": {},
   "outputs": [
    {
     "name": "stdout",
     "output_type": "stream",
     "text": [
      "[1] TRUE\n",
      "[1] TRUE\n"
     ]
    }
   ],
   "source": [
    "print(all(rownames(dat_col) %in% colnames(dat_cnt)))\n",
    "print(all(rownames(dat_col) ==   colnames(dat_cnt)))"
   ]
  },
  {
   "cell_type": "markdown",
   "id": "45813b9a",
   "metadata": {},
   "source": [
    "## Run DESeq2"
   ]
  },
  {
   "cell_type": "code",
   "execution_count": 7,
   "id": "650b6d4a",
   "metadata": {},
   "outputs": [
    {
     "name": "stderr",
     "output_type": "stream",
     "text": [
      "converting counts to integer mode\n",
      "\n",
      "Warning message in DESeqDataSet(se, design = design, ignoreRank):\n",
      "“some variables in design formula are characters, converting to factors”\n"
     ]
    }
   ],
   "source": [
    "dds = DESeqDataSetFromMatrix(\n",
    "    countData = dat_cnt, \n",
    "    colData   = dat_col, \n",
    "    design    = ~condition)"
   ]
  },
  {
   "cell_type": "code",
   "execution_count": 8,
   "id": "53c58fa8",
   "metadata": {},
   "outputs": [],
   "source": [
    "### remove the peaks which have < 10 reads\n",
    "dds = dds[rowSums(counts(dds)) >= 10,]\n",
    "\n",
    "### set control condition as reference\n",
    "dds$condition <- relevel(dds$condition, ref = \"Input\")"
   ]
  },
  {
   "cell_type": "code",
   "execution_count": 9,
   "id": "be158c0c",
   "metadata": {},
   "outputs": [
    {
     "name": "stderr",
     "output_type": "stream",
     "text": [
      "estimating size factors\n",
      "\n",
      "estimating dispersions\n",
      "\n",
      "gene-wise dispersion estimates\n",
      "\n",
      "mean-dispersion relationship\n",
      "\n",
      "final dispersion estimates\n",
      "\n",
      "fitting model and testing\n",
      "\n"
     ]
    }
   ],
   "source": [
    "dds = DESeq(dds)"
   ]
  },
  {
   "cell_type": "markdown",
   "id": "d021e1e3",
   "metadata": {},
   "source": [
    "## Get results"
   ]
  },
  {
   "cell_type": "code",
   "execution_count": 10,
   "id": "9eaeab8d",
   "metadata": {},
   "outputs": [
    {
     "data": {
      "text/html": [
       "<style>\n",
       ".list-inline {list-style: none; margin:0; padding: 0}\n",
       ".list-inline>li {display: inline-block}\n",
       ".list-inline>li:not(:last-child)::after {content: \"\\00b7\"; padding: 0 .5ex}\n",
       "</style>\n",
       "<ol class=list-inline><li>'Intercept'</li><li>'condition_Output_vs_Input'</li></ol>\n"
      ],
      "text/latex": [
       "\\begin{enumerate*}\n",
       "\\item 'Intercept'\n",
       "\\item 'condition\\_Output\\_vs\\_Input'\n",
       "\\end{enumerate*}\n"
      ],
      "text/markdown": [
       "1. 'Intercept'\n",
       "2. 'condition_Output_vs_Input'\n",
       "\n",
       "\n"
      ],
      "text/plain": [
       "[1] \"Intercept\"                 \"condition_Output_vs_Input\""
      ]
     },
     "metadata": {},
     "output_type": "display_data"
    }
   ],
   "source": [
    "resultsNames(dds)"
   ]
  },
  {
   "cell_type": "code",
   "execution_count": 11,
   "id": "fd9d5095",
   "metadata": {},
   "outputs": [
    {
     "data": {
      "text/plain": [
       "log2 fold change (MLE): condition Output vs Input \n",
       "Wald test p-value: condition Output vs Input \n",
       "DataFrame with 246850 rows and 6 columns\n",
       "                          baseMean log2FoldChange     lfcSE      stat\n",
       "                         <numeric>      <numeric> <numeric> <numeric>\n",
       "chr1_10015_10442           71.4038      -2.213613  0.269152  -8.22441\n",
       "chr1_14253_14645           68.6303       0.222186  0.153410   1.44831\n",
       "chr1_16015_16477           71.2541      -1.271295  0.201963  -6.29470\n",
       "chr1_17237_17772          124.0313      -1.385289  0.163863  -8.45396\n",
       "chr1_28903_29613          113.6310      -1.942200  0.188613 -10.29727\n",
       "...                            ...            ...       ...       ...\n",
       "chrX_156000382_156003205 1532.3823       0.468703 0.0375633  12.47767\n",
       "chrX_156009687_156010227   59.3053      -1.562456 0.2365061  -6.60641\n",
       "chrX_156016391_156016836   57.0261      -3.944716 0.4857124  -8.12151\n",
       "chrX_156024950_156025593  164.6780      -0.401819 0.1139605  -3.52595\n",
       "chrX_156030187_156030740   68.7253      -3.683179 0.4071206  -9.04690\n",
       "                              pvalue        padj\n",
       "                           <numeric>   <numeric>\n",
       "chr1_10015_10442         1.96160e-16 2.91069e-15\n",
       "chr1_14253_14645         1.47529e-01 2.17811e-01\n",
       "chr1_16015_16477         3.07999e-10 2.65301e-09\n",
       "chr1_17237_17772         2.81587e-17 4.43189e-16\n",
       "chr1_28903_29613         7.24868e-25 1.72367e-23\n",
       "...                              ...         ...\n",
       "chrX_156000382_156003205 9.88426e-36 3.55261e-34\n",
       "chrX_156009687_156010227 3.93751e-11 3.74527e-10\n",
       "chrX_156016391_156016836 4.60431e-16 6.66261e-15\n",
       "chrX_156024950_156025593 4.21970e-04 1.31635e-03\n",
       "chrX_156030187_156030740 1.47084e-19 2.67087e-18"
      ]
     },
     "metadata": {},
     "output_type": "display_data"
    }
   ],
   "source": [
    "res = results(dds)\n",
    "res"
   ]
  },
  {
   "cell_type": "code",
   "execution_count": 12,
   "id": "4c0e377f",
   "metadata": {},
   "outputs": [
    {
     "data": {
      "text/html": [
       "<table class=\"dataframe\">\n",
       "<caption>A data.frame: 6 × 7</caption>\n",
       "<thead>\n",
       "\t<tr><th></th><th scope=col>Peak</th><th scope=col>baseMean</th><th scope=col>log2FoldChange</th><th scope=col>lfcSE</th><th scope=col>stat</th><th scope=col>pvalue</th><th scope=col>padj</th></tr>\n",
       "\t<tr><th></th><th scope=col>&lt;chr&gt;</th><th scope=col>&lt;dbl&gt;</th><th scope=col>&lt;dbl&gt;</th><th scope=col>&lt;dbl&gt;</th><th scope=col>&lt;dbl&gt;</th><th scope=col>&lt;dbl&gt;</th><th scope=col>&lt;dbl&gt;</th></tr>\n",
       "</thead>\n",
       "<tbody>\n",
       "\t<tr><th scope=row>1</th><td>chr1_10015_10442</td><td> 71.40375</td><td>-2.2136128</td><td>0.2691517</td><td> -8.2244061</td><td>1.961605e-16</td><td>2.910688e-15</td></tr>\n",
       "\t<tr><th scope=row>2</th><td>chr1_14253_14645</td><td> 68.63035</td><td> 0.2221859</td><td>0.1534101</td><td>  1.4483134</td><td>1.475294e-01</td><td>2.178106e-01</td></tr>\n",
       "\t<tr><th scope=row>3</th><td>chr1_16015_16477</td><td> 71.25409</td><td>-1.2712950</td><td>0.2019628</td><td> -6.2946978</td><td>3.079993e-10</td><td>2.653010e-09</td></tr>\n",
       "\t<tr><th scope=row>4</th><td>chr1_17237_17772</td><td>124.03128</td><td>-1.3852891</td><td>0.1638628</td><td> -8.4539594</td><td>2.815873e-17</td><td>4.431893e-16</td></tr>\n",
       "\t<tr><th scope=row>5</th><td>chr1_28903_29613</td><td>113.63103</td><td>-1.9422003</td><td>0.1886131</td><td>-10.2972733</td><td>7.248681e-25</td><td>1.723665e-23</td></tr>\n",
       "\t<tr><th scope=row>6</th><td>chr1_30803_31072</td><td> 57.37875</td><td>-0.1332069</td><td>0.2145692</td><td> -0.6208109</td><td>5.347240e-01</td><td>6.231400e-01</td></tr>\n",
       "</tbody>\n",
       "</table>\n"
      ],
      "text/latex": [
       "A data.frame: 6 × 7\n",
       "\\begin{tabular}{r|lllllll}\n",
       "  & Peak & baseMean & log2FoldChange & lfcSE & stat & pvalue & padj\\\\\n",
       "  & <chr> & <dbl> & <dbl> & <dbl> & <dbl> & <dbl> & <dbl>\\\\\n",
       "\\hline\n",
       "\t1 & chr1\\_10015\\_10442 &  71.40375 & -2.2136128 & 0.2691517 &  -8.2244061 & 1.961605e-16 & 2.910688e-15\\\\\n",
       "\t2 & chr1\\_14253\\_14645 &  68.63035 &  0.2221859 & 0.1534101 &   1.4483134 & 1.475294e-01 & 2.178106e-01\\\\\n",
       "\t3 & chr1\\_16015\\_16477 &  71.25409 & -1.2712950 & 0.2019628 &  -6.2946978 & 3.079993e-10 & 2.653010e-09\\\\\n",
       "\t4 & chr1\\_17237\\_17772 & 124.03128 & -1.3852891 & 0.1638628 &  -8.4539594 & 2.815873e-17 & 4.431893e-16\\\\\n",
       "\t5 & chr1\\_28903\\_29613 & 113.63103 & -1.9422003 & 0.1886131 & -10.2972733 & 7.248681e-25 & 1.723665e-23\\\\\n",
       "\t6 & chr1\\_30803\\_31072 &  57.37875 & -0.1332069 & 0.2145692 &  -0.6208109 & 5.347240e-01 & 6.231400e-01\\\\\n",
       "\\end{tabular}\n"
      ],
      "text/markdown": [
       "\n",
       "A data.frame: 6 × 7\n",
       "\n",
       "| <!--/--> | Peak &lt;chr&gt; | baseMean &lt;dbl&gt; | log2FoldChange &lt;dbl&gt; | lfcSE &lt;dbl&gt; | stat &lt;dbl&gt; | pvalue &lt;dbl&gt; | padj &lt;dbl&gt; |\n",
       "|---|---|---|---|---|---|---|---|\n",
       "| 1 | chr1_10015_10442 |  71.40375 | -2.2136128 | 0.2691517 |  -8.2244061 | 1.961605e-16 | 2.910688e-15 |\n",
       "| 2 | chr1_14253_14645 |  68.63035 |  0.2221859 | 0.1534101 |   1.4483134 | 1.475294e-01 | 2.178106e-01 |\n",
       "| 3 | chr1_16015_16477 |  71.25409 | -1.2712950 | 0.2019628 |  -6.2946978 | 3.079993e-10 | 2.653010e-09 |\n",
       "| 4 | chr1_17237_17772 | 124.03128 | -1.3852891 | 0.1638628 |  -8.4539594 | 2.815873e-17 | 4.431893e-16 |\n",
       "| 5 | chr1_28903_29613 | 113.63103 | -1.9422003 | 0.1886131 | -10.2972733 | 7.248681e-25 | 1.723665e-23 |\n",
       "| 6 | chr1_30803_31072 |  57.37875 | -0.1332069 | 0.2145692 |  -0.6208109 | 5.347240e-01 | 6.231400e-01 |\n",
       "\n"
      ],
      "text/plain": [
       "  Peak             baseMean  log2FoldChange lfcSE     stat        pvalue      \n",
       "1 chr1_10015_10442  71.40375 -2.2136128     0.2691517  -8.2244061 1.961605e-16\n",
       "2 chr1_14253_14645  68.63035  0.2221859     0.1534101   1.4483134 1.475294e-01\n",
       "3 chr1_16015_16477  71.25409 -1.2712950     0.2019628  -6.2946978 3.079993e-10\n",
       "4 chr1_17237_17772 124.03128 -1.3852891     0.1638628  -8.4539594 2.815873e-17\n",
       "5 chr1_28903_29613 113.63103 -1.9422003     0.1886131 -10.2972733 7.248681e-25\n",
       "6 chr1_30803_31072  57.37875 -0.1332069     0.2145692  -0.6208109 5.347240e-01\n",
       "  padj        \n",
       "1 2.910688e-15\n",
       "2 2.178106e-01\n",
       "3 2.653010e-09\n",
       "4 4.431893e-16\n",
       "5 1.723665e-23\n",
       "6 6.231400e-01"
      ]
     },
     "metadata": {},
     "output_type": "display_data"
    }
   ],
   "source": [
    "res = results(dds)\n",
    "res = as.data.frame(res) %>% rownames_to_column(var = \"Peak\")\n",
    "head(res)"
   ]
  },
  {
   "cell_type": "markdown",
   "id": "de9cc5e7",
   "metadata": {},
   "source": [
    "## Save results"
   ]
  },
  {
   "cell_type": "code",
   "execution_count": 13,
   "id": "5d69b2df",
   "metadata": {},
   "outputs": [
    {
     "name": "stdout",
     "output_type": "stream",
     "text": [
      "[1] \"/data/reddylab/Kuei/out/proj_combeffect_encode_fcc/results/KS91_K562_ASTARRseq/coverage_astarrseq_peak_macs_input/summary/result.Log2FC.raw.deseq.WGS.tsv\"\n"
     ]
    }
   ],
   "source": [
    "fdiry = file.path(FD_RES, \"results\", PREFIX, FOLDER, \"summary\")\n",
    "fname = \"result.Log2FC.raw.deseq.WGS.tsv\"\n",
    "fpath = file.path(fdiry, fname)\n",
    "print(fpath)\n",
    "\n",
    "write_tsv(res, fpath)"
   ]
  },
  {
   "cell_type": "code",
   "execution_count": null,
   "id": "eb441f13",
   "metadata": {},
   "outputs": [],
   "source": []
  }
 ],
 "metadata": {
  "kernelspec": {
   "display_name": "R (alex_py3)",
   "language": "R",
   "name": "ir_alex_py3"
  },
  "language_info": {
   "codemirror_mode": "r",
   "file_extension": ".r",
   "mimetype": "text/x-r-source",
   "name": "R",
   "pygments_lexer": "r",
   "version": "3.6.2"
  }
 },
 "nbformat": 4,
 "nbformat_minor": 5
}
