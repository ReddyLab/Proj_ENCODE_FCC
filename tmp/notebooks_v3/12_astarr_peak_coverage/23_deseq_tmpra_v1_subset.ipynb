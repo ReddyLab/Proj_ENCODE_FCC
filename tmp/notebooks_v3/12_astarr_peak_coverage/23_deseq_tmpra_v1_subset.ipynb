{
 "cells": [
  {
   "cell_type": "markdown",
   "id": "0f73edc7",
   "metadata": {},
   "source": [
    "**Set environment**"
   ]
  },
  {
   "cell_type": "code",
   "execution_count": 1,
   "id": "ae03cbf8",
   "metadata": {},
   "outputs": [
    {
     "name": "stdout",
     "output_type": "stream",
     "text": [
      "You are in Singularity: singularity_proj_combeffect \n",
      "BASE DIRECTORY:     /data/reddylab/Kuei \n",
      "WORK DIRECTORY:     /data/reddylab/Kuei/out \n",
      "CODE DIRECTORY:     /data/reddylab/Kuei/code \n",
      "PATH OF SOURCE:     /data/reddylab/Kuei/source \n",
      "PATH OF EXECUTABLE: /data/reddylab/Kuei/bin \n",
      "PATH OF ANNOTATION: /data/reddylab/Kuei/annotation \n",
      "PATH OF PROJECT:    /data/reddylab/Kuei/code/Proj_CombEffect_ENCODE_FCC \n",
      "PATH OF RESULTS:    /data/reddylab/Kuei/out/proj_combeffect_encode_fcc \n"
     ]
    }
   ],
   "source": [
    "suppressMessages(suppressWarnings(source(\"../config/config_sing.R\")))\n",
    "suppressMessages(suppressWarnings(library(\"DESeq2\")))\n",
    "show_env()"
   ]
  },
  {
   "cell_type": "code",
   "execution_count": 2,
   "id": "2abe9dd8",
   "metadata": {},
   "outputs": [],
   "source": [
    "PREFIX  = \"Tewhey_K562_TileMPRA\"\n",
    "FOLDER  = \"coverage_astarrseq_peak_macs_input\"\n",
    "REGIONS = c(\"GATA1\", \"MYC\", \"FADS\")\n",
    "TYPES   = c(\"raw\", \"norm\")"
   ]
  },
  {
   "cell_type": "code",
   "execution_count": 11,
   "id": "ded70641",
   "metadata": {},
   "outputs": [
    {
     "name": "stdout",
     "output_type": "stream",
     "text": [
      "\n",
      "+++++++++++++++++++++++++++++++\n",
      "Region: GATA1 \n",
      "[1] \"/data/reddylab/Kuei/out/proj_combeffect_encode_fcc/results/Tewhey_K562_TileMPRA/coverage_astarrseq_peak_macs_input/summary/matrix.raw.count.GATA1.tsv\"\n",
      "[1] \"/data/reddylab/Kuei/out/proj_combeffect_encode_fcc/results/Tewhey_K562_TileMPRA/coverage_astarrseq_peak_macs_input/summary/metadata.raw.GATA1.tsv\"\n",
      "            condition\n",
      "Input.rep1      Input\n",
      "Input.rep2      Input\n",
      "Input.rep3      Input\n",
      "Input.rep4      Input\n",
      "Input.rep5      Input\n",
      "Input.rep6      Input\n",
      "Output.rep1    Output\n",
      "Output.rep2    Output\n",
      "Output.rep3    Output\n",
      "Output.rep4    Output\n",
      "Output.rep5    Output\n",
      "                       Input.rep1 Input.rep2 Input.rep3 Input.rep4 Input.rep5\n",
      "chrX_47796208_47796828       6811       7520       7050       7354       3542\n",
      "chrX_47806139_47808167      22020      24874      22902      23825      11249\n",
      "chrX_47809119_47809445       2180       2676       2383       2398       1167\n",
      "chrX_47814810_47815443       7241       8307       7296       7542       3861\n",
      "chrX_47816459_47818070      19441      21644      20106      21086       9853\n",
      "chrX_47836113_47837157       9957      11604      10541      10802       5432\n",
      "                       Input.rep6 Output.rep1 Output.rep2 Output.rep3\n",
      "chrX_47796208_47796828       3424       19544       11613       26592\n",
      "chrX_47806139_47808167      11262       33975       24256       43990\n",
      "chrX_47809119_47809445       1199       18841       13963       23003\n",
      "chrX_47814810_47815443       3962       18557       13950       22498\n",
      "chrX_47816459_47818070      10013       59095       35658       78412\n",
      "chrX_47836113_47837157       5058      137782       90865      140845\n",
      "                       Output.rep4 Output.rep5\n",
      "chrX_47796208_47796828       20125       22423\n",
      "chrX_47806139_47808167       32303       35219\n",
      "chrX_47809119_47809445       18047       19074\n",
      "chrX_47814810_47815443       16826       18893\n",
      "chrX_47816459_47818070       51012       60721\n",
      "chrX_47836113_47837157      112907      118586\n"
     ]
    },
    {
     "name": "stderr",
     "output_type": "stream",
     "text": [
      "converting counts to integer mode\n",
      "\n",
      "Warning message in DESeqDataSet(se, design = design, ignoreRank):\n",
      "“some variables in design formula are characters, converting to factors”\n",
      "estimating size factors\n",
      "\n",
      "estimating dispersions\n",
      "\n",
      "gene-wise dispersion estimates\n",
      "\n",
      "mean-dispersion relationship\n",
      "\n",
      "final dispersion estimates\n",
      "\n",
      "fitting model and testing\n",
      "\n"
     ]
    },
    {
     "name": "stdout",
     "output_type": "stream",
     "text": [
      "[1] \"/data/reddylab/Kuei/out/proj_combeffect_encode_fcc/results/Tewhey_K562_TileMPRA/coverage_astarrseq_peak_macs_input/summary/result.Log2FC.raw.deseq.GATA1.tsv\"\n",
      "\n",
      "+++++++++++++++++++++++++++++++\n",
      "Region: MYC \n",
      "[1] \"/data/reddylab/Kuei/out/proj_combeffect_encode_fcc/results/Tewhey_K562_TileMPRA/coverage_astarrseq_peak_macs_input/summary/matrix.raw.count.MYC.tsv\"\n",
      "[1] \"/data/reddylab/Kuei/out/proj_combeffect_encode_fcc/results/Tewhey_K562_TileMPRA/coverage_astarrseq_peak_macs_input/summary/metadata.raw.MYC.tsv\"\n",
      "            condition\n",
      "Input.rep1      Input\n",
      "Input.rep2      Input\n",
      "Input.rep3      Input\n",
      "Input.rep4      Input\n",
      "Input.rep5      Input\n",
      "Input.rep6      Input\n",
      "Output.rep1    Output\n",
      "Output.rep2    Output\n",
      "Output.rep3    Output\n",
      "Output.rep4    Output\n",
      "Output.rep5    Output\n",
      "                         Input.rep1 Input.rep2 Input.rep3 Input.rep4 Input.rep5\n",
      "chr8_126778902_126779728      10372      11304      10609      11042       5318\n",
      "chr8_126782925_126783318       3076       3477       3122       3211       1563\n",
      "chr8_126804776_126805825      16184      18791      17453      17754       8529\n",
      "chr8_126817018_126817490      10013      11400      10553      10900       5157\n",
      "chr8_126820465_126821393      16573      19018      17231      17757       8703\n",
      "chr8_126824093_126824987      27649      32054      29605      29659      14783\n",
      "                         Input.rep6 Output.rep1 Output.rep2 Output.rep3\n",
      "chr8_126778902_126779728       5475       38115       23681       54377\n",
      "chr8_126782925_126783318       1614        2527        1956        3373\n",
      "chr8_126804776_126805825       8533       64484       43758       74563\n",
      "chr8_126817018_126817490       5076        7893        6257       10643\n",
      "chr8_126820465_126821393       8698       18055       14184       23932\n",
      "chr8_126824093_126824987      14827      126510       92589      128254\n",
      "                         Output.rep4 Output.rep5\n",
      "chr8_126778902_126779728       40239       43886\n",
      "chr8_126782925_126783318        2541        2906\n",
      "chr8_126804776_126805825       56099       64459\n",
      "chr8_126817018_126817490        7104        7947\n",
      "chr8_126820465_126821393       15811       17688\n",
      "chr8_126824093_126824987       99769      110112\n"
     ]
    },
    {
     "name": "stderr",
     "output_type": "stream",
     "text": [
      "converting counts to integer mode\n",
      "\n",
      "Warning message in DESeqDataSet(se, design = design, ignoreRank):\n",
      "“some variables in design formula are characters, converting to factors”\n",
      "estimating size factors\n",
      "\n",
      "estimating dispersions\n",
      "\n",
      "gene-wise dispersion estimates\n",
      "\n",
      "mean-dispersion relationship\n",
      "\n",
      "final dispersion estimates\n",
      "\n",
      "fitting model and testing\n",
      "\n"
     ]
    },
    {
     "name": "stdout",
     "output_type": "stream",
     "text": [
      "[1] \"/data/reddylab/Kuei/out/proj_combeffect_encode_fcc/results/Tewhey_K562_TileMPRA/coverage_astarrseq_peak_macs_input/summary/result.Log2FC.raw.deseq.MYC.tsv\"\n",
      "\n",
      "+++++++++++++++++++++++++++++++\n",
      "Region: FADS \n",
      "[1] \"/data/reddylab/Kuei/out/proj_combeffect_encode_fcc/results/Tewhey_K562_TileMPRA/coverage_astarrseq_peak_macs_input/summary/matrix.raw.count.FADS.tsv\"\n",
      "[1] \"/data/reddylab/Kuei/out/proj_combeffect_encode_fcc/results/Tewhey_K562_TileMPRA/coverage_astarrseq_peak_macs_input/summary/metadata.raw.FADS.tsv\"\n",
      "            condition\n",
      "Input.rep1      Input\n",
      "Input.rep2      Input\n",
      "Input.rep3      Input\n",
      "Input.rep4      Input\n",
      "Output.rep1    Output\n",
      "Output.rep2    Output\n",
      "Output.rep3    Output\n",
      "Output.rep4    Output\n",
      "                        Input.rep1 Input.rep2 Input.rep3 Input.rep4 Output.rep1\n",
      "chr11_61554569_61556228     169523      95146     151286      95053       66392\n",
      "chr11_61560645_61561556     106039      58543      94232      59762       33097\n",
      "chr11_61567108_61567997      97609      55981      87460      56409       53042\n",
      "chr11_61580592_61581826     127505      71517     116069      70970      200016\n",
      "chr11_61587170_61588742     127294      71197     114704      73073       60016\n",
      "chr11_61594868_61596571     116335      65472     105170      66387      281559\n",
      "                        Output.rep2 Output.rep3 Output.rep4\n",
      "chr11_61554569_61556228       64812      103013      113147\n",
      "chr11_61560645_61561556       31500       56698       56585\n",
      "chr11_61567108_61567997       52162       76778       81160\n",
      "chr11_61580592_61581826      224194      325643      409259\n",
      "chr11_61587170_61588742       59853       94967       96968\n",
      "chr11_61594868_61596571      269598      378514      362051\n"
     ]
    },
    {
     "name": "stderr",
     "output_type": "stream",
     "text": [
      "converting counts to integer mode\n",
      "\n",
      "Warning message in DESeqDataSet(se, design = design, ignoreRank):\n",
      "“some variables in design formula are characters, converting to factors”\n",
      "estimating size factors\n",
      "\n",
      "estimating dispersions\n",
      "\n",
      "gene-wise dispersion estimates\n",
      "\n",
      "mean-dispersion relationship\n",
      "\n",
      "final dispersion estimates\n",
      "\n",
      "fitting model and testing\n",
      "\n"
     ]
    },
    {
     "name": "stdout",
     "output_type": "stream",
     "text": [
      "[1] \"/data/reddylab/Kuei/out/proj_combeffect_encode_fcc/results/Tewhey_K562_TileMPRA/coverage_astarrseq_peak_macs_input/summary/result.Log2FC.raw.deseq.FADS.tsv\"\n"
     ]
    }
   ],
   "source": [
    "TYPE  = \"raw\"\n",
    "fdiry = file.path(FD_RES, \"results\", PREFIX, FOLDER, \"summary\")\n",
    "\n",
    "for (REGION in REGIONS){\n",
    "    ### show progress\n",
    "    cat(\"\\n+++++++++++++++++++++++++++++++\\n\")\n",
    "    cat(\"Region:\", REGION, \"\\n\")\n",
    "    flush.console()\n",
    "    \n",
    "    ### import count data\n",
    "    fname = paste(\"matrix\", TYPE, \"count\", REGION, \"tsv\", sep=\".\")\n",
    "    fpath = file.path(fdiry, fname)\n",
    "    dat_count = read_tsv(fpath, show_col_types = FALSE) %>% dplyr::select(-Type, -Region)\n",
    "    print(fpath)\n",
    "    flush.console()\n",
    "    \n",
    "    ### import metadata\n",
    "    fname = paste(\"metadata\", TYPE, REGION, \"tsv\", sep=\".\")\n",
    "    fpath = file.path(fdiry, fname)\n",
    "    dat_meta = read_tsv(fpath, show_col_types = FALSE)\n",
    "    print(fpath)\n",
    "    flush.console()\n",
    "    \n",
    "    ### Arrange count matrix and metadata\n",
    "    dat_col = dat_meta  %>% \n",
    "        dplyr::select(Sample, Group) %>% \n",
    "        dplyr::rename(condition = Group) %>%\n",
    "        column_to_rownames(var = \"Sample\")\n",
    "    print(dat_col)\n",
    "    \n",
    "    dat_cnt = dat_count %>% \n",
    "        dplyr::mutate(Peak = paste(Chrom, Start, End, sep = \"_\")) %>%\n",
    "        dplyr::select(-Chrom, -Start, -End) %>%\n",
    "        column_to_rownames(var = \"Peak\")\n",
    "    dat_cnt[is.na(dat_cnt)] = 0\n",
    "    print(head(dat_cnt))\n",
    "    \n",
    "    ### create a DDS object\n",
    "    dds = DESeqDataSetFromMatrix(\n",
    "        countData = dat_cnt, \n",
    "        colData   = dat_col, \n",
    "        design    = ~condition)\n",
    "\n",
    "    ### remove the peaks which have < 10 reads\n",
    "    dds = dds[rowSums(counts(dds)) >= 10,]\n",
    "\n",
    "    ### set control condition as reference\n",
    "    dds$condition = relevel(dds$condition, ref = \"Input\")\n",
    "\n",
    "    ### perform DDS preprocessing\n",
    "    dds = DESeq(dds, fitType = 'local')\n",
    "\n",
    "    ### extract results\n",
    "    res = results(dds)\n",
    "    res = as.data.frame(res) %>% rownames_to_column(var = \"Peak\")\n",
    "    \n",
    "    ### store results\n",
    "    fname = paste(\"result\", \"Log2FC\", TYPE, \"deseq\", REGION, \"tsv\", sep=\".\")\n",
    "    fpath = file.path(fdiry, fname)\n",
    "    write_tsv(res, fpath)\n",
    "    print(fpath)\n",
    "    flush.console()\n",
    "}"
   ]
  },
  {
   "cell_type": "code",
   "execution_count": null,
   "id": "a1bf73f2",
   "metadata": {},
   "outputs": [],
   "source": []
  },
  {
   "cell_type": "code",
   "execution_count": null,
   "id": "3530bc05",
   "metadata": {},
   "outputs": [],
   "source": []
  },
  {
   "cell_type": "code",
   "execution_count": null,
   "id": "3e197311",
   "metadata": {},
   "outputs": [],
   "source": []
  },
  {
   "cell_type": "code",
   "execution_count": null,
   "id": "39212397",
   "metadata": {},
   "outputs": [],
   "source": []
  },
  {
   "cell_type": "code",
   "execution_count": null,
   "id": "1046c9e0",
   "metadata": {},
   "outputs": [],
   "source": []
  },
  {
   "cell_type": "code",
   "execution_count": 12,
   "id": "7776c602",
   "metadata": {},
   "outputs": [],
   "source": [
    "PREFIX  = \"Tewhey_K562_TileMPRA\"\n",
    "FOLDER  = \"coverage_astarrseq_peak_macs_input\"\n",
    "REGIONS = c(\"GATA1\", \"MYC\", \"FADS\")\n",
    "PROCESS = c(\"raw\", \"norm\")\n",
    "\n",
    "region  = REGIONS[1]\n",
    "process = PROCESS[1]\n",
    "fdiry = file.path(FD_RES, \"results\", PREFIX, FOLDER, \"summary\")"
   ]
  },
  {
   "cell_type": "markdown",
   "id": "1ebbc372",
   "metadata": {},
   "source": [
    "**Arrange count matrix and metadata**"
   ]
  },
  {
   "cell_type": "code",
   "execution_count": 18,
   "id": "2471cb41",
   "metadata": {},
   "outputs": [
    {
     "name": "stderr",
     "output_type": "stream",
     "text": [
      "converting counts to integer mode\n",
      "\n",
      "Warning message in DESeqDataSet(se, design = design, ignoreRank):\n",
      "“some variables in design formula are characters, converting to factors”\n",
      "estimating size factors\n",
      "\n",
      "estimating dispersions\n",
      "\n",
      "gene-wise dispersion estimates\n",
      "\n",
      "mean-dispersion relationship\n",
      "\n",
      "final dispersion estimates\n",
      "\n",
      "fitting model and testing\n",
      "\n"
     ]
    }
   ],
   "source": [
    "### import count data\n",
    "fname = paste(\"count\", process, region, \"tsv\", sep=\".\")\n",
    "fpath = file.path(fdiry, fname)\n",
    "dat_count = read_tsv(fpath, show_col_types = FALSE)\n",
    "\n",
    "### import metadata\n",
    "fname = paste(\"metadata\", process, region, \"tsv\", sep=\".\")\n",
    "fpath = file.path(fdiry, fname)\n",
    "dat_meta = read_tsv(fpath, show_col_types = FALSE)\n",
    "\n",
    "### Arrange count matrix and metadata\n",
    "dat_col = dat_meta  %>% \n",
    "    dplyr::select(Sample, Group) %>% \n",
    "    dplyr::rename(condition = Group) %>%\n",
    "    column_to_rownames(var = \"Sample\")\n",
    "\n",
    "dat_cnt = dat_count %>% \n",
    "    dplyr::mutate(Peak = paste(Chrom, Start, End, sep = \"_\")) %>%\n",
    "    dplyr::select(-Chrom, -Start, -End) %>%\n",
    "    column_to_rownames(var = \"Peak\")\n",
    "\n",
    "dat_cnt[is.na(dat_cnt)] = 0\n",
    "\n",
    "### create a DDS object\n",
    "dds = DESeqDataSetFromMatrix(\n",
    "    countData = dat_cnt, \n",
    "    colData   = dat_col, \n",
    "    design    = ~condition)\n",
    "\n",
    "### remove the peaks which have < 10 reads\n",
    "dds = dds[rowSums(counts(dds)) >= 10,]\n",
    "\n",
    "### set control condition as reference\n",
    "dds$condition = relevel(dds$condition, ref = \"Input\")\n",
    "\n",
    "### perform DDS preprocessing\n",
    "dds = DESeq(dds, fitType = 'local')\n",
    "\n",
    "### extract results\n",
    "res = results(dds)\n",
    "res = as.data.frame(res) %>% rownames_to_column(var = \"Peak\")"
   ]
  },
  {
   "cell_type": "code",
   "execution_count": 19,
   "id": "6a6a5c86",
   "metadata": {},
   "outputs": [
    {
     "data": {
      "text/html": [
       "<table class=\"dataframe\">\n",
       "<caption>A data.frame: 6 × 7</caption>\n",
       "<thead>\n",
       "\t<tr><th></th><th scope=col>Peak</th><th scope=col>baseMean</th><th scope=col>log2FoldChange</th><th scope=col>lfcSE</th><th scope=col>stat</th><th scope=col>pvalue</th><th scope=col>padj</th></tr>\n",
       "\t<tr><th></th><th scope=col>&lt;chr&gt;</th><th scope=col>&lt;dbl&gt;</th><th scope=col>&lt;dbl&gt;</th><th scope=col>&lt;dbl&gt;</th><th scope=col>&lt;dbl&gt;</th><th scope=col>&lt;dbl&gt;</th><th scope=col>&lt;dbl&gt;</th></tr>\n",
       "</thead>\n",
       "<tbody>\n",
       "\t<tr><th scope=row>1</th><td>chrX_47796208_47796828</td><td>10513.875</td><td>0.95281868</td><td>0.08207970</td><td>11.6084570</td><td> 3.732910e-31</td><td> 4.660482e-31</td></tr>\n",
       "\t<tr><th scope=row>2</th><td>chrX_47806139_47808167</td><td>24157.939</td><td>0.02557172</td><td>0.02814903</td><td> 0.9084403</td><td> 3.636456e-01</td><td> 3.672108e-01</td></tr>\n",
       "\t<tr><th scope=row>3</th><td>chrX_47809119_47809445</td><td> 7455.885</td><td>2.43603768</td><td>0.03405452</td><td>71.5334643</td><td> 0.000000e+00</td><td> 0.000000e+00</td></tr>\n",
       "\t<tr><th scope=row>4</th><td>chrX_47814810_47815443</td><td>10298.260</td><td>0.72157768</td><td>0.02954264</td><td>24.4249592</td><td>9.289171e-132</td><td>1.594641e-131</td></tr>\n",
       "\t<tr><th scope=row>5</th><td>chrX_47816459_47818070</td><td>29919.229</td><td>0.94178695</td><td>0.05242764</td><td>17.9635575</td><td> 3.759239e-72</td><td> 5.377800e-72</td></tr>\n",
       "\t<tr><th scope=row>6</th><td>chrX_47836113_47837157</td><td>45600.703</td><td>2.97943519</td><td>0.04843894</td><td>61.5090955</td><td> 0.000000e+00</td><td> 0.000000e+00</td></tr>\n",
       "</tbody>\n",
       "</table>\n"
      ],
      "text/latex": [
       "A data.frame: 6 × 7\n",
       "\\begin{tabular}{r|lllllll}\n",
       "  & Peak & baseMean & log2FoldChange & lfcSE & stat & pvalue & padj\\\\\n",
       "  & <chr> & <dbl> & <dbl> & <dbl> & <dbl> & <dbl> & <dbl>\\\\\n",
       "\\hline\n",
       "\t1 & chrX\\_47796208\\_47796828 & 10513.875 & 0.95281868 & 0.08207970 & 11.6084570 &  3.732910e-31 &  4.660482e-31\\\\\n",
       "\t2 & chrX\\_47806139\\_47808167 & 24157.939 & 0.02557172 & 0.02814903 &  0.9084403 &  3.636456e-01 &  3.672108e-01\\\\\n",
       "\t3 & chrX\\_47809119\\_47809445 &  7455.885 & 2.43603768 & 0.03405452 & 71.5334643 &  0.000000e+00 &  0.000000e+00\\\\\n",
       "\t4 & chrX\\_47814810\\_47815443 & 10298.260 & 0.72157768 & 0.02954264 & 24.4249592 & 9.289171e-132 & 1.594641e-131\\\\\n",
       "\t5 & chrX\\_47816459\\_47818070 & 29919.229 & 0.94178695 & 0.05242764 & 17.9635575 &  3.759239e-72 &  5.377800e-72\\\\\n",
       "\t6 & chrX\\_47836113\\_47837157 & 45600.703 & 2.97943519 & 0.04843894 & 61.5090955 &  0.000000e+00 &  0.000000e+00\\\\\n",
       "\\end{tabular}\n"
      ],
      "text/markdown": [
       "\n",
       "A data.frame: 6 × 7\n",
       "\n",
       "| <!--/--> | Peak &lt;chr&gt; | baseMean &lt;dbl&gt; | log2FoldChange &lt;dbl&gt; | lfcSE &lt;dbl&gt; | stat &lt;dbl&gt; | pvalue &lt;dbl&gt; | padj &lt;dbl&gt; |\n",
       "|---|---|---|---|---|---|---|---|\n",
       "| 1 | chrX_47796208_47796828 | 10513.875 | 0.95281868 | 0.08207970 | 11.6084570 |  3.732910e-31 |  4.660482e-31 |\n",
       "| 2 | chrX_47806139_47808167 | 24157.939 | 0.02557172 | 0.02814903 |  0.9084403 |  3.636456e-01 |  3.672108e-01 |\n",
       "| 3 | chrX_47809119_47809445 |  7455.885 | 2.43603768 | 0.03405452 | 71.5334643 |  0.000000e+00 |  0.000000e+00 |\n",
       "| 4 | chrX_47814810_47815443 | 10298.260 | 0.72157768 | 0.02954264 | 24.4249592 | 9.289171e-132 | 1.594641e-131 |\n",
       "| 5 | chrX_47816459_47818070 | 29919.229 | 0.94178695 | 0.05242764 | 17.9635575 |  3.759239e-72 |  5.377800e-72 |\n",
       "| 6 | chrX_47836113_47837157 | 45600.703 | 2.97943519 | 0.04843894 | 61.5090955 |  0.000000e+00 |  0.000000e+00 |\n",
       "\n"
      ],
      "text/plain": [
       "  Peak                   baseMean  log2FoldChange lfcSE      stat      \n",
       "1 chrX_47796208_47796828 10513.875 0.95281868     0.08207970 11.6084570\n",
       "2 chrX_47806139_47808167 24157.939 0.02557172     0.02814903  0.9084403\n",
       "3 chrX_47809119_47809445  7455.885 2.43603768     0.03405452 71.5334643\n",
       "4 chrX_47814810_47815443 10298.260 0.72157768     0.02954264 24.4249592\n",
       "5 chrX_47816459_47818070 29919.229 0.94178695     0.05242764 17.9635575\n",
       "6 chrX_47836113_47837157 45600.703 2.97943519     0.04843894 61.5090955\n",
       "  pvalue        padj         \n",
       "1  3.732910e-31  4.660482e-31\n",
       "2  3.636456e-01  3.672108e-01\n",
       "3  0.000000e+00  0.000000e+00\n",
       "4 9.289171e-132 1.594641e-131\n",
       "5  3.759239e-72  5.377800e-72\n",
       "6  0.000000e+00  0.000000e+00"
      ]
     },
     "metadata": {},
     "output_type": "display_data"
    }
   ],
   "source": [
    "head(res)"
   ]
  },
  {
   "cell_type": "code",
   "execution_count": 21,
   "id": "99f4ffee",
   "metadata": {},
   "outputs": [
    {
     "name": "stdout",
     "output_type": "stream",
     "text": [
      "[1] \"/data/reddylab/Kuei/out/proj_combeffect_encode_fcc/results/Tewhey_K562_TileMPRA/coverage_astarrseq_peak_macs_input/summary/result.Log2FC.deseq.GATA1.tsv\"\n"
     ]
    }
   ],
   "source": [
    "fdiry = file.path(FD_RES, \"results\", PREFIX, FOLDER, \"summary\")\n",
    "fname = \"result.Log2FC.deseq.GATA1.tsv\"\n",
    "fpath = file.path(fdiry, fname)\n",
    "print(fpath)\n",
    "\n",
    "write_tsv(res, fpath)"
   ]
  },
  {
   "cell_type": "code",
   "execution_count": 9,
   "id": "936df328",
   "metadata": {},
   "outputs": [
    {
     "name": "stdout",
     "output_type": "stream",
     "text": [
      "[1] 206  11\n"
     ]
    },
    {
     "data": {
      "text/html": [
       "<table class=\"dataframe\">\n",
       "<caption>A data.frame: 6 × 11</caption>\n",
       "<thead>\n",
       "\t<tr><th></th><th scope=col>Input.rep1</th><th scope=col>Input.rep2</th><th scope=col>Input.rep3</th><th scope=col>Input.rep4</th><th scope=col>Input.rep5</th><th scope=col>Input.rep6</th><th scope=col>Output.rep1</th><th scope=col>Output.rep2</th><th scope=col>Output.rep3</th><th scope=col>Output.rep4</th><th scope=col>Output.rep5</th></tr>\n",
       "\t<tr><th></th><th scope=col>&lt;dbl&gt;</th><th scope=col>&lt;dbl&gt;</th><th scope=col>&lt;dbl&gt;</th><th scope=col>&lt;dbl&gt;</th><th scope=col>&lt;dbl&gt;</th><th scope=col>&lt;dbl&gt;</th><th scope=col>&lt;dbl&gt;</th><th scope=col>&lt;dbl&gt;</th><th scope=col>&lt;dbl&gt;</th><th scope=col>&lt;dbl&gt;</th><th scope=col>&lt;dbl&gt;</th></tr>\n",
       "</thead>\n",
       "<tbody>\n",
       "\t<tr><th scope=row>chrX_47796208_47796828</th><td> 6811</td><td> 7520</td><td> 7050</td><td> 7354</td><td> 3542</td><td> 3424</td><td> 19544</td><td>11613</td><td> 26592</td><td> 20125</td><td> 22423</td></tr>\n",
       "\t<tr><th scope=row>chrX_47806139_47808167</th><td>22020</td><td>24874</td><td>22902</td><td>23825</td><td>11249</td><td>11262</td><td> 33975</td><td>24256</td><td> 43990</td><td> 32303</td><td> 35219</td></tr>\n",
       "\t<tr><th scope=row>chrX_47809119_47809445</th><td> 2180</td><td> 2676</td><td> 2383</td><td> 2398</td><td> 1167</td><td> 1199</td><td> 18841</td><td>13963</td><td> 23003</td><td> 18047</td><td> 19074</td></tr>\n",
       "\t<tr><th scope=row>chrX_47814810_47815443</th><td> 7241</td><td> 8307</td><td> 7296</td><td> 7542</td><td> 3861</td><td> 3962</td><td> 18557</td><td>13950</td><td> 22498</td><td> 16826</td><td> 18893</td></tr>\n",
       "\t<tr><th scope=row>chrX_47816459_47818070</th><td>19441</td><td>21644</td><td>20106</td><td>21086</td><td> 9853</td><td>10013</td><td> 59095</td><td>35658</td><td> 78412</td><td> 51012</td><td> 60721</td></tr>\n",
       "\t<tr><th scope=row>chrX_47836113_47837157</th><td> 9957</td><td>11604</td><td>10541</td><td>10802</td><td> 5432</td><td> 5058</td><td>137782</td><td>90865</td><td>140845</td><td>112907</td><td>118586</td></tr>\n",
       "</tbody>\n",
       "</table>\n"
      ],
      "text/latex": [
       "A data.frame: 6 × 11\n",
       "\\begin{tabular}{r|lllllllllll}\n",
       "  & Input.rep1 & Input.rep2 & Input.rep3 & Input.rep4 & Input.rep5 & Input.rep6 & Output.rep1 & Output.rep2 & Output.rep3 & Output.rep4 & Output.rep5\\\\\n",
       "  & <dbl> & <dbl> & <dbl> & <dbl> & <dbl> & <dbl> & <dbl> & <dbl> & <dbl> & <dbl> & <dbl>\\\\\n",
       "\\hline\n",
       "\tchrX\\_47796208\\_47796828 &  6811 &  7520 &  7050 &  7354 &  3542 &  3424 &  19544 & 11613 &  26592 &  20125 &  22423\\\\\n",
       "\tchrX\\_47806139\\_47808167 & 22020 & 24874 & 22902 & 23825 & 11249 & 11262 &  33975 & 24256 &  43990 &  32303 &  35219\\\\\n",
       "\tchrX\\_47809119\\_47809445 &  2180 &  2676 &  2383 &  2398 &  1167 &  1199 &  18841 & 13963 &  23003 &  18047 &  19074\\\\\n",
       "\tchrX\\_47814810\\_47815443 &  7241 &  8307 &  7296 &  7542 &  3861 &  3962 &  18557 & 13950 &  22498 &  16826 &  18893\\\\\n",
       "\tchrX\\_47816459\\_47818070 & 19441 & 21644 & 20106 & 21086 &  9853 & 10013 &  59095 & 35658 &  78412 &  51012 &  60721\\\\\n",
       "\tchrX\\_47836113\\_47837157 &  9957 & 11604 & 10541 & 10802 &  5432 &  5058 & 137782 & 90865 & 140845 & 112907 & 118586\\\\\n",
       "\\end{tabular}\n"
      ],
      "text/markdown": [
       "\n",
       "A data.frame: 6 × 11\n",
       "\n",
       "| <!--/--> | Input.rep1 &lt;dbl&gt; | Input.rep2 &lt;dbl&gt; | Input.rep3 &lt;dbl&gt; | Input.rep4 &lt;dbl&gt; | Input.rep5 &lt;dbl&gt; | Input.rep6 &lt;dbl&gt; | Output.rep1 &lt;dbl&gt; | Output.rep2 &lt;dbl&gt; | Output.rep3 &lt;dbl&gt; | Output.rep4 &lt;dbl&gt; | Output.rep5 &lt;dbl&gt; |\n",
       "|---|---|---|---|---|---|---|---|---|---|---|---|\n",
       "| chrX_47796208_47796828 |  6811 |  7520 |  7050 |  7354 |  3542 |  3424 |  19544 | 11613 |  26592 |  20125 |  22423 |\n",
       "| chrX_47806139_47808167 | 22020 | 24874 | 22902 | 23825 | 11249 | 11262 |  33975 | 24256 |  43990 |  32303 |  35219 |\n",
       "| chrX_47809119_47809445 |  2180 |  2676 |  2383 |  2398 |  1167 |  1199 |  18841 | 13963 |  23003 |  18047 |  19074 |\n",
       "| chrX_47814810_47815443 |  7241 |  8307 |  7296 |  7542 |  3861 |  3962 |  18557 | 13950 |  22498 |  16826 |  18893 |\n",
       "| chrX_47816459_47818070 | 19441 | 21644 | 20106 | 21086 |  9853 | 10013 |  59095 | 35658 |  78412 |  51012 |  60721 |\n",
       "| chrX_47836113_47837157 |  9957 | 11604 | 10541 | 10802 |  5432 |  5058 | 137782 | 90865 | 140845 | 112907 | 118586 |\n",
       "\n"
      ],
      "text/plain": [
       "                       Input.rep1 Input.rep2 Input.rep3 Input.rep4 Input.rep5\n",
       "chrX_47796208_47796828  6811       7520       7050       7354       3542     \n",
       "chrX_47806139_47808167 22020      24874      22902      23825      11249     \n",
       "chrX_47809119_47809445  2180       2676       2383       2398       1167     \n",
       "chrX_47814810_47815443  7241       8307       7296       7542       3861     \n",
       "chrX_47816459_47818070 19441      21644      20106      21086       9853     \n",
       "chrX_47836113_47837157  9957      11604      10541      10802       5432     \n",
       "                       Input.rep6 Output.rep1 Output.rep2 Output.rep3\n",
       "chrX_47796208_47796828  3424       19544      11613        26592     \n",
       "chrX_47806139_47808167 11262       33975      24256        43990     \n",
       "chrX_47809119_47809445  1199       18841      13963        23003     \n",
       "chrX_47814810_47815443  3962       18557      13950        22498     \n",
       "chrX_47816459_47818070 10013       59095      35658        78412     \n",
       "chrX_47836113_47837157  5058      137782      90865       140845     \n",
       "                       Output.rep4 Output.rep5\n",
       "chrX_47796208_47796828  20125       22423     \n",
       "chrX_47806139_47808167  32303       35219     \n",
       "chrX_47809119_47809445  18047       19074     \n",
       "chrX_47814810_47815443  16826       18893     \n",
       "chrX_47816459_47818070  51012       60721     \n",
       "chrX_47836113_47837157 112907      118586     "
      ]
     },
     "metadata": {},
     "output_type": "display_data"
    }
   ],
   "source": [
    "print(dim(dat_cnt))\n",
    "head(dat_cnt)"
   ]
  },
  {
   "cell_type": "code",
   "execution_count": 10,
   "id": "561bddc4",
   "metadata": {},
   "outputs": [
    {
     "data": {
      "text/html": [
       "<table class=\"dataframe\">\n",
       "<caption>A data.frame: 11 × 1</caption>\n",
       "<thead>\n",
       "\t<tr><th></th><th scope=col>condition</th></tr>\n",
       "\t<tr><th></th><th scope=col>&lt;chr&gt;</th></tr>\n",
       "</thead>\n",
       "<tbody>\n",
       "\t<tr><th scope=row>Input.rep1</th><td>Input </td></tr>\n",
       "\t<tr><th scope=row>Input.rep2</th><td>Input </td></tr>\n",
       "\t<tr><th scope=row>Input.rep3</th><td>Input </td></tr>\n",
       "\t<tr><th scope=row>Input.rep4</th><td>Input </td></tr>\n",
       "\t<tr><th scope=row>Input.rep5</th><td>Input </td></tr>\n",
       "\t<tr><th scope=row>Input.rep6</th><td>Input </td></tr>\n",
       "\t<tr><th scope=row>Output.rep1</th><td>Output</td></tr>\n",
       "\t<tr><th scope=row>Output.rep2</th><td>Output</td></tr>\n",
       "\t<tr><th scope=row>Output.rep3</th><td>Output</td></tr>\n",
       "\t<tr><th scope=row>Output.rep4</th><td>Output</td></tr>\n",
       "\t<tr><th scope=row>Output.rep5</th><td>Output</td></tr>\n",
       "</tbody>\n",
       "</table>\n"
      ],
      "text/latex": [
       "A data.frame: 11 × 1\n",
       "\\begin{tabular}{r|l}\n",
       "  & condition\\\\\n",
       "  & <chr>\\\\\n",
       "\\hline\n",
       "\tInput.rep1 & Input \\\\\n",
       "\tInput.rep2 & Input \\\\\n",
       "\tInput.rep3 & Input \\\\\n",
       "\tInput.rep4 & Input \\\\\n",
       "\tInput.rep5 & Input \\\\\n",
       "\tInput.rep6 & Input \\\\\n",
       "\tOutput.rep1 & Output\\\\\n",
       "\tOutput.rep2 & Output\\\\\n",
       "\tOutput.rep3 & Output\\\\\n",
       "\tOutput.rep4 & Output\\\\\n",
       "\tOutput.rep5 & Output\\\\\n",
       "\\end{tabular}\n"
      ],
      "text/markdown": [
       "\n",
       "A data.frame: 11 × 1\n",
       "\n",
       "| <!--/--> | condition &lt;chr&gt; |\n",
       "|---|---|\n",
       "| Input.rep1 | Input  |\n",
       "| Input.rep2 | Input  |\n",
       "| Input.rep3 | Input  |\n",
       "| Input.rep4 | Input  |\n",
       "| Input.rep5 | Input  |\n",
       "| Input.rep6 | Input  |\n",
       "| Output.rep1 | Output |\n",
       "| Output.rep2 | Output |\n",
       "| Output.rep3 | Output |\n",
       "| Output.rep4 | Output |\n",
       "| Output.rep5 | Output |\n",
       "\n"
      ],
      "text/plain": [
       "            condition\n",
       "Input.rep1  Input    \n",
       "Input.rep2  Input    \n",
       "Input.rep3  Input    \n",
       "Input.rep4  Input    \n",
       "Input.rep5  Input    \n",
       "Input.rep6  Input    \n",
       "Output.rep1 Output   \n",
       "Output.rep2 Output   \n",
       "Output.rep3 Output   \n",
       "Output.rep4 Output   \n",
       "Output.rep5 Output   "
      ]
     },
     "metadata": {},
     "output_type": "display_data"
    }
   ],
   "source": [
    "dat_col"
   ]
  },
  {
   "cell_type": "code",
   "execution_count": 11,
   "id": "5cc6cbe1",
   "metadata": {},
   "outputs": [
    {
     "name": "stdout",
     "output_type": "stream",
     "text": [
      "[1] TRUE\n",
      "[1] TRUE\n"
     ]
    }
   ],
   "source": [
    "print(all(rownames(dat_col) %in% colnames(dat_cnt)))\n",
    "print(all(rownames(dat_col) ==   colnames(dat_cnt)))"
   ]
  },
  {
   "cell_type": "code",
   "execution_count": null,
   "id": "49db02eb",
   "metadata": {},
   "outputs": [],
   "source": []
  }
 ],
 "metadata": {
  "kernelspec": {
   "display_name": "R",
   "language": "R",
   "name": "ir"
  },
  "language_info": {
   "codemirror_mode": "r",
   "file_extension": ".r",
   "mimetype": "text/x-r-source",
   "name": "R",
   "pygments_lexer": "r",
   "version": "4.2.2"
  }
 },
 "nbformat": 4,
 "nbformat_minor": 5
}
