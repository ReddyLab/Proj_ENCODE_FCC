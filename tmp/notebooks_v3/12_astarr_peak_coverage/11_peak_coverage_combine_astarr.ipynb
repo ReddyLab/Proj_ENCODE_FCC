{
 "cells": [
  {
   "cell_type": "markdown",
   "id": "69dcd955",
   "metadata": {},
   "source": [
    "**Set environment**"
   ]
  },
  {
   "cell_type": "code",
   "execution_count": 1,
   "id": "106bc15a",
   "metadata": {},
   "outputs": [
    {
     "name": "stdout",
     "output_type": "stream",
     "text": [
      "You are in Singularity: singularity_proj_combeffect \n",
      "BASE DIRECTORY:     /data/reddylab/Kuei \n",
      "WORK DIRECTORY:     /data/reddylab/Kuei/out \n",
      "CODE DIRECTORY:     /data/reddylab/Kuei/code \n",
      "PATH OF SOURCE:     /data/reddylab/Kuei/source \n",
      "PATH OF EXECUTABLE: /data/reddylab/Kuei/bin \n",
      "PATH OF ANNOTATION: /data/reddylab/Kuei/annotation \n",
      "PATH OF PROJECT:    /data/reddylab/Kuei/code/Proj_CombEffect_ENCODE_FCC \n",
      "PATH OF RESULTS:    /data/reddylab/Kuei/out/proj_combeffect_encode_fcc \n"
     ]
    }
   ],
   "source": [
    "suppressMessages(suppressWarnings(source(\"../config/config_sing.R\")))\n",
    "show_env()"
   ]
  },
  {
   "cell_type": "markdown",
   "id": "1d447aef",
   "metadata": {},
   "source": [
    "**Helper function**"
   ]
  },
  {
   "cell_type": "code",
   "execution_count": 2,
   "id": "c991927d",
   "metadata": {},
   "outputs": [],
   "source": [
    "ASSAY  = \"KS91_K562_ASTARRseq\"\n",
    "\n",
    "GROUPS  = c(\"Input\", \"Output\")\n",
    "\n",
    "SAMPLES = c(\n",
    "    paste0(\"Input.rep\",  1:6),\n",
    "    paste0(\"Output.rep\", 1:4))\n",
    "\n",
    "CNAMES = c(\"Chrom\", \"Start\", \"End\", \"Count\")\n",
    "\n",
    "get_info = function(fpath, strings){\n",
    "    idx = str_detect(string = fpath, pattern = strings)\n",
    "    return(strings[idx])\n",
    "}\n",
    "\n",
    "get_group  = function(fpath){return(get_info(fpath, GROUPS))}\n",
    "get_sample = function(fpath){return(get_info(fpath, SAMPLES))}"
   ]
  },
  {
   "cell_type": "markdown",
   "id": "080f8dbb",
   "metadata": {},
   "source": [
    "## Get file paths and set metadata"
   ]
  },
  {
   "cell_type": "code",
   "execution_count": 3,
   "id": "fd9f754f",
   "metadata": {},
   "outputs": [
    {
     "name": "stdout",
     "output_type": "stream",
     "text": [
      "[1] \"/data/reddylab/Kuei/out/proj_combeffect_encode_fcc/results/KS91_K562_ASTARRseq/coverage_astarrseq_peak_macs_input/KS91_K562_ASTARRseq.Input.rep1.WGS.unstranded.bed.gz\"\n",
      "[1] \"Input\"\n",
      "[1] \"Input.rep1\"\n",
      "[1] \"/data/reddylab/Kuei/out/proj_combeffect_encode_fcc/results/KS91_K562_ASTARRseq/coverage_astarrseq_peak_macs_input/KS91_K562_ASTARRseq.Input.rep2.WGS.unstranded.bed.gz\"\n",
      "[1] \"Input\"\n",
      "[1] \"Input.rep2\"\n",
      "[1] \"/data/reddylab/Kuei/out/proj_combeffect_encode_fcc/results/KS91_K562_ASTARRseq/coverage_astarrseq_peak_macs_input/KS91_K562_ASTARRseq.Input.rep3.WGS.unstranded.bed.gz\"\n",
      "[1] \"Input\"\n",
      "[1] \"Input.rep3\"\n",
      "[1] \"/data/reddylab/Kuei/out/proj_combeffect_encode_fcc/results/KS91_K562_ASTARRseq/coverage_astarrseq_peak_macs_input/KS91_K562_ASTARRseq.Input.rep4.WGS.unstranded.bed.gz\"\n",
      "[1] \"Input\"\n",
      "[1] \"Input.rep4\"\n",
      "[1] \"/data/reddylab/Kuei/out/proj_combeffect_encode_fcc/results/KS91_K562_ASTARRseq/coverage_astarrseq_peak_macs_input/KS91_K562_ASTARRseq.Input.rep5.WGS.unstranded.bed.gz\"\n",
      "[1] \"Input\"\n",
      "[1] \"Input.rep5\"\n",
      "[1] \"/data/reddylab/Kuei/out/proj_combeffect_encode_fcc/results/KS91_K562_ASTARRseq/coverage_astarrseq_peak_macs_input/KS91_K562_ASTARRseq.Input.rep6.WGS.unstranded.bed.gz\"\n",
      "[1] \"Input\"\n",
      "[1] \"Input.rep6\"\n",
      "[1] \"/data/reddylab/Kuei/out/proj_combeffect_encode_fcc/results/KS91_K562_ASTARRseq/coverage_astarrseq_peak_macs_input/KS91_K562_ASTARRseq.Output.rep1.WGS.unstranded.bed.gz\"\n",
      "[1] \"Output\"\n",
      "[1] \"Output.rep1\"\n",
      "[1] \"/data/reddylab/Kuei/out/proj_combeffect_encode_fcc/results/KS91_K562_ASTARRseq/coverage_astarrseq_peak_macs_input/KS91_K562_ASTARRseq.Output.rep2.WGS.unstranded.bed.gz\"\n",
      "[1] \"Output\"\n",
      "[1] \"Output.rep2\"\n",
      "[1] \"/data/reddylab/Kuei/out/proj_combeffect_encode_fcc/results/KS91_K562_ASTARRseq/coverage_astarrseq_peak_macs_input/KS91_K562_ASTARRseq.Output.rep3.WGS.unstranded.bed.gz\"\n",
      "[1] \"Output\"\n",
      "[1] \"Output.rep3\"\n",
      "[1] \"/data/reddylab/Kuei/out/proj_combeffect_encode_fcc/results/KS91_K562_ASTARRseq/coverage_astarrseq_peak_macs_input/KS91_K562_ASTARRseq.Output.rep4.WGS.unstranded.bed.gz\"\n",
      "[1] \"Output\"\n",
      "[1] \"Output.rep4\"\n"
     ]
    }
   ],
   "source": [
    "ASSAY  = \"KS91_K562_ASTARRseq\"\n",
    "FOLDER = \"coverage_astarrseq_peak_macs_input\"\n",
    "fglob  = file.path(FD_RES, \"results\", ASSAY, FOLDER, \"*WGS*bed.gz\")\n",
    "fpaths = Sys.glob(fglob)\n",
    "for (fpath in fpaths){\n",
    "    print(fpath)\n",
    "    print(get_group(fpath))\n",
    "    print(get_sample(fpath))\n",
    "}"
   ]
  },
  {
   "cell_type": "code",
   "execution_count": 4,
   "id": "6351535b",
   "metadata": {},
   "outputs": [
    {
     "data": {
      "text/html": [
       "<table class=\"dataframe\">\n",
       "<caption>A data.frame: 10 × 3</caption>\n",
       "<thead>\n",
       "\t<tr><th></th><th scope=col>Sample</th><th scope=col>Group</th><th scope=col>FPath</th></tr>\n",
       "\t<tr><th></th><th scope=col>&lt;chr&gt;</th><th scope=col>&lt;chr&gt;</th><th scope=col>&lt;chr&gt;</th></tr>\n",
       "</thead>\n",
       "<tbody>\n",
       "\t<tr><th scope=row>Input.rep1</th><td>Input.rep1 </td><td>Input </td><td>/data/reddylab/Kuei/out/proj_combeffect_encode_fcc/results/KS91_K562_ASTARRseq/coverage_astarrseq_peak_macs_input/KS91_K562_ASTARRseq.Input.rep1.WGS.unstranded.bed.gz </td></tr>\n",
       "\t<tr><th scope=row>Input.rep2</th><td>Input.rep2 </td><td>Input </td><td>/data/reddylab/Kuei/out/proj_combeffect_encode_fcc/results/KS91_K562_ASTARRseq/coverage_astarrseq_peak_macs_input/KS91_K562_ASTARRseq.Input.rep2.WGS.unstranded.bed.gz </td></tr>\n",
       "\t<tr><th scope=row>Input.rep3</th><td>Input.rep3 </td><td>Input </td><td>/data/reddylab/Kuei/out/proj_combeffect_encode_fcc/results/KS91_K562_ASTARRseq/coverage_astarrseq_peak_macs_input/KS91_K562_ASTARRseq.Input.rep3.WGS.unstranded.bed.gz </td></tr>\n",
       "\t<tr><th scope=row>Input.rep4</th><td>Input.rep4 </td><td>Input </td><td>/data/reddylab/Kuei/out/proj_combeffect_encode_fcc/results/KS91_K562_ASTARRseq/coverage_astarrseq_peak_macs_input/KS91_K562_ASTARRseq.Input.rep4.WGS.unstranded.bed.gz </td></tr>\n",
       "\t<tr><th scope=row>Input.rep5</th><td>Input.rep5 </td><td>Input </td><td>/data/reddylab/Kuei/out/proj_combeffect_encode_fcc/results/KS91_K562_ASTARRseq/coverage_astarrseq_peak_macs_input/KS91_K562_ASTARRseq.Input.rep5.WGS.unstranded.bed.gz </td></tr>\n",
       "\t<tr><th scope=row>Input.rep6</th><td>Input.rep6 </td><td>Input </td><td>/data/reddylab/Kuei/out/proj_combeffect_encode_fcc/results/KS91_K562_ASTARRseq/coverage_astarrseq_peak_macs_input/KS91_K562_ASTARRseq.Input.rep6.WGS.unstranded.bed.gz </td></tr>\n",
       "\t<tr><th scope=row>Output.rep1</th><td>Output.rep1</td><td>Output</td><td>/data/reddylab/Kuei/out/proj_combeffect_encode_fcc/results/KS91_K562_ASTARRseq/coverage_astarrseq_peak_macs_input/KS91_K562_ASTARRseq.Output.rep1.WGS.unstranded.bed.gz</td></tr>\n",
       "\t<tr><th scope=row>Output.rep2</th><td>Output.rep2</td><td>Output</td><td>/data/reddylab/Kuei/out/proj_combeffect_encode_fcc/results/KS91_K562_ASTARRseq/coverage_astarrseq_peak_macs_input/KS91_K562_ASTARRseq.Output.rep2.WGS.unstranded.bed.gz</td></tr>\n",
       "\t<tr><th scope=row>Output.rep3</th><td>Output.rep3</td><td>Output</td><td>/data/reddylab/Kuei/out/proj_combeffect_encode_fcc/results/KS91_K562_ASTARRseq/coverage_astarrseq_peak_macs_input/KS91_K562_ASTARRseq.Output.rep3.WGS.unstranded.bed.gz</td></tr>\n",
       "\t<tr><th scope=row>Output.rep4</th><td>Output.rep4</td><td>Output</td><td>/data/reddylab/Kuei/out/proj_combeffect_encode_fcc/results/KS91_K562_ASTARRseq/coverage_astarrseq_peak_macs_input/KS91_K562_ASTARRseq.Output.rep4.WGS.unstranded.bed.gz</td></tr>\n",
       "</tbody>\n",
       "</table>\n"
      ],
      "text/latex": [
       "A data.frame: 10 × 3\n",
       "\\begin{tabular}{r|lll}\n",
       "  & Sample & Group & FPath\\\\\n",
       "  & <chr> & <chr> & <chr>\\\\\n",
       "\\hline\n",
       "\tInput.rep1 & Input.rep1  & Input  & /data/reddylab/Kuei/out/proj\\_combeffect\\_encode\\_fcc/results/KS91\\_K562\\_ASTARRseq/coverage\\_astarrseq\\_peak\\_macs\\_input/KS91\\_K562\\_ASTARRseq.Input.rep1.WGS.unstranded.bed.gz \\\\\n",
       "\tInput.rep2 & Input.rep2  & Input  & /data/reddylab/Kuei/out/proj\\_combeffect\\_encode\\_fcc/results/KS91\\_K562\\_ASTARRseq/coverage\\_astarrseq\\_peak\\_macs\\_input/KS91\\_K562\\_ASTARRseq.Input.rep2.WGS.unstranded.bed.gz \\\\\n",
       "\tInput.rep3 & Input.rep3  & Input  & /data/reddylab/Kuei/out/proj\\_combeffect\\_encode\\_fcc/results/KS91\\_K562\\_ASTARRseq/coverage\\_astarrseq\\_peak\\_macs\\_input/KS91\\_K562\\_ASTARRseq.Input.rep3.WGS.unstranded.bed.gz \\\\\n",
       "\tInput.rep4 & Input.rep4  & Input  & /data/reddylab/Kuei/out/proj\\_combeffect\\_encode\\_fcc/results/KS91\\_K562\\_ASTARRseq/coverage\\_astarrseq\\_peak\\_macs\\_input/KS91\\_K562\\_ASTARRseq.Input.rep4.WGS.unstranded.bed.gz \\\\\n",
       "\tInput.rep5 & Input.rep5  & Input  & /data/reddylab/Kuei/out/proj\\_combeffect\\_encode\\_fcc/results/KS91\\_K562\\_ASTARRseq/coverage\\_astarrseq\\_peak\\_macs\\_input/KS91\\_K562\\_ASTARRseq.Input.rep5.WGS.unstranded.bed.gz \\\\\n",
       "\tInput.rep6 & Input.rep6  & Input  & /data/reddylab/Kuei/out/proj\\_combeffect\\_encode\\_fcc/results/KS91\\_K562\\_ASTARRseq/coverage\\_astarrseq\\_peak\\_macs\\_input/KS91\\_K562\\_ASTARRseq.Input.rep6.WGS.unstranded.bed.gz \\\\\n",
       "\tOutput.rep1 & Output.rep1 & Output & /data/reddylab/Kuei/out/proj\\_combeffect\\_encode\\_fcc/results/KS91\\_K562\\_ASTARRseq/coverage\\_astarrseq\\_peak\\_macs\\_input/KS91\\_K562\\_ASTARRseq.Output.rep1.WGS.unstranded.bed.gz\\\\\n",
       "\tOutput.rep2 & Output.rep2 & Output & /data/reddylab/Kuei/out/proj\\_combeffect\\_encode\\_fcc/results/KS91\\_K562\\_ASTARRseq/coverage\\_astarrseq\\_peak\\_macs\\_input/KS91\\_K562\\_ASTARRseq.Output.rep2.WGS.unstranded.bed.gz\\\\\n",
       "\tOutput.rep3 & Output.rep3 & Output & /data/reddylab/Kuei/out/proj\\_combeffect\\_encode\\_fcc/results/KS91\\_K562\\_ASTARRseq/coverage\\_astarrseq\\_peak\\_macs\\_input/KS91\\_K562\\_ASTARRseq.Output.rep3.WGS.unstranded.bed.gz\\\\\n",
       "\tOutput.rep4 & Output.rep4 & Output & /data/reddylab/Kuei/out/proj\\_combeffect\\_encode\\_fcc/results/KS91\\_K562\\_ASTARRseq/coverage\\_astarrseq\\_peak\\_macs\\_input/KS91\\_K562\\_ASTARRseq.Output.rep4.WGS.unstranded.bed.gz\\\\\n",
       "\\end{tabular}\n"
      ],
      "text/markdown": [
       "\n",
       "A data.frame: 10 × 3\n",
       "\n",
       "| <!--/--> | Sample &lt;chr&gt; | Group &lt;chr&gt; | FPath &lt;chr&gt; |\n",
       "|---|---|---|---|\n",
       "| Input.rep1 | Input.rep1  | Input  | /data/reddylab/Kuei/out/proj_combeffect_encode_fcc/results/KS91_K562_ASTARRseq/coverage_astarrseq_peak_macs_input/KS91_K562_ASTARRseq.Input.rep1.WGS.unstranded.bed.gz  |\n",
       "| Input.rep2 | Input.rep2  | Input  | /data/reddylab/Kuei/out/proj_combeffect_encode_fcc/results/KS91_K562_ASTARRseq/coverage_astarrseq_peak_macs_input/KS91_K562_ASTARRseq.Input.rep2.WGS.unstranded.bed.gz  |\n",
       "| Input.rep3 | Input.rep3  | Input  | /data/reddylab/Kuei/out/proj_combeffect_encode_fcc/results/KS91_K562_ASTARRseq/coverage_astarrseq_peak_macs_input/KS91_K562_ASTARRseq.Input.rep3.WGS.unstranded.bed.gz  |\n",
       "| Input.rep4 | Input.rep4  | Input  | /data/reddylab/Kuei/out/proj_combeffect_encode_fcc/results/KS91_K562_ASTARRseq/coverage_astarrseq_peak_macs_input/KS91_K562_ASTARRseq.Input.rep4.WGS.unstranded.bed.gz  |\n",
       "| Input.rep5 | Input.rep5  | Input  | /data/reddylab/Kuei/out/proj_combeffect_encode_fcc/results/KS91_K562_ASTARRseq/coverage_astarrseq_peak_macs_input/KS91_K562_ASTARRseq.Input.rep5.WGS.unstranded.bed.gz  |\n",
       "| Input.rep6 | Input.rep6  | Input  | /data/reddylab/Kuei/out/proj_combeffect_encode_fcc/results/KS91_K562_ASTARRseq/coverage_astarrseq_peak_macs_input/KS91_K562_ASTARRseq.Input.rep6.WGS.unstranded.bed.gz  |\n",
       "| Output.rep1 | Output.rep1 | Output | /data/reddylab/Kuei/out/proj_combeffect_encode_fcc/results/KS91_K562_ASTARRseq/coverage_astarrseq_peak_macs_input/KS91_K562_ASTARRseq.Output.rep1.WGS.unstranded.bed.gz |\n",
       "| Output.rep2 | Output.rep2 | Output | /data/reddylab/Kuei/out/proj_combeffect_encode_fcc/results/KS91_K562_ASTARRseq/coverage_astarrseq_peak_macs_input/KS91_K562_ASTARRseq.Output.rep2.WGS.unstranded.bed.gz |\n",
       "| Output.rep3 | Output.rep3 | Output | /data/reddylab/Kuei/out/proj_combeffect_encode_fcc/results/KS91_K562_ASTARRseq/coverage_astarrseq_peak_macs_input/KS91_K562_ASTARRseq.Output.rep3.WGS.unstranded.bed.gz |\n",
       "| Output.rep4 | Output.rep4 | Output | /data/reddylab/Kuei/out/proj_combeffect_encode_fcc/results/KS91_K562_ASTARRseq/coverage_astarrseq_peak_macs_input/KS91_K562_ASTARRseq.Output.rep4.WGS.unstranded.bed.gz |\n",
       "\n"
      ],
      "text/plain": [
       "            Sample      Group \n",
       "Input.rep1  Input.rep1  Input \n",
       "Input.rep2  Input.rep2  Input \n",
       "Input.rep3  Input.rep3  Input \n",
       "Input.rep4  Input.rep4  Input \n",
       "Input.rep5  Input.rep5  Input \n",
       "Input.rep6  Input.rep6  Input \n",
       "Output.rep1 Output.rep1 Output\n",
       "Output.rep2 Output.rep2 Output\n",
       "Output.rep3 Output.rep3 Output\n",
       "Output.rep4 Output.rep4 Output\n",
       "            FPath                                                                                                                                                                  \n",
       "Input.rep1  /data/reddylab/Kuei/out/proj_combeffect_encode_fcc/results/KS91_K562_ASTARRseq/coverage_astarrseq_peak_macs_input/KS91_K562_ASTARRseq.Input.rep1.WGS.unstranded.bed.gz \n",
       "Input.rep2  /data/reddylab/Kuei/out/proj_combeffect_encode_fcc/results/KS91_K562_ASTARRseq/coverage_astarrseq_peak_macs_input/KS91_K562_ASTARRseq.Input.rep2.WGS.unstranded.bed.gz \n",
       "Input.rep3  /data/reddylab/Kuei/out/proj_combeffect_encode_fcc/results/KS91_K562_ASTARRseq/coverage_astarrseq_peak_macs_input/KS91_K562_ASTARRseq.Input.rep3.WGS.unstranded.bed.gz \n",
       "Input.rep4  /data/reddylab/Kuei/out/proj_combeffect_encode_fcc/results/KS91_K562_ASTARRseq/coverage_astarrseq_peak_macs_input/KS91_K562_ASTARRseq.Input.rep4.WGS.unstranded.bed.gz \n",
       "Input.rep5  /data/reddylab/Kuei/out/proj_combeffect_encode_fcc/results/KS91_K562_ASTARRseq/coverage_astarrseq_peak_macs_input/KS91_K562_ASTARRseq.Input.rep5.WGS.unstranded.bed.gz \n",
       "Input.rep6  /data/reddylab/Kuei/out/proj_combeffect_encode_fcc/results/KS91_K562_ASTARRseq/coverage_astarrseq_peak_macs_input/KS91_K562_ASTARRseq.Input.rep6.WGS.unstranded.bed.gz \n",
       "Output.rep1 /data/reddylab/Kuei/out/proj_combeffect_encode_fcc/results/KS91_K562_ASTARRseq/coverage_astarrseq_peak_macs_input/KS91_K562_ASTARRseq.Output.rep1.WGS.unstranded.bed.gz\n",
       "Output.rep2 /data/reddylab/Kuei/out/proj_combeffect_encode_fcc/results/KS91_K562_ASTARRseq/coverage_astarrseq_peak_macs_input/KS91_K562_ASTARRseq.Output.rep2.WGS.unstranded.bed.gz\n",
       "Output.rep3 /data/reddylab/Kuei/out/proj_combeffect_encode_fcc/results/KS91_K562_ASTARRseq/coverage_astarrseq_peak_macs_input/KS91_K562_ASTARRseq.Output.rep3.WGS.unstranded.bed.gz\n",
       "Output.rep4 /data/reddylab/Kuei/out/proj_combeffect_encode_fcc/results/KS91_K562_ASTARRseq/coverage_astarrseq_peak_macs_input/KS91_K562_ASTARRseq.Output.rep4.WGS.unstranded.bed.gz"
      ]
     },
     "metadata": {},
     "output_type": "display_data"
    }
   ],
   "source": [
    "dat_meta = data.frame(\n",
    "    Sample = sapply(fpaths, get_sample),\n",
    "    Group  = sapply(fpaths, get_group),\n",
    "    FPath  = fpaths\n",
    ")\n",
    "rownames(dat_meta) = sapply(fpaths, get_sample)\n",
    "dat_meta"
   ]
  },
  {
   "cell_type": "markdown",
   "id": "14352113",
   "metadata": {},
   "source": [
    "## Import data and arrange into count matrix"
   ]
  },
  {
   "cell_type": "code",
   "execution_count": 5,
   "id": "fe76b2ec",
   "metadata": {},
   "outputs": [
    {
     "data": {
      "text/html": [
       "<table class=\"dataframe\">\n",
       "<caption>A tibble: 6 × 14</caption>\n",
       "<thead>\n",
       "\t<tr><th scope=col>Chrom</th><th scope=col>Start</th><th scope=col>End</th><th scope=col>Peak</th><th scope=col>Input.rep1</th><th scope=col>Input.rep2</th><th scope=col>Input.rep3</th><th scope=col>Input.rep4</th><th scope=col>Input.rep5</th><th scope=col>Input.rep6</th><th scope=col>Output.rep1</th><th scope=col>Output.rep2</th><th scope=col>Output.rep3</th><th scope=col>Output.rep4</th></tr>\n",
       "\t<tr><th scope=col>&lt;chr&gt;</th><th scope=col>&lt;dbl&gt;</th><th scope=col>&lt;dbl&gt;</th><th scope=col>&lt;chr&gt;</th><th scope=col>&lt;int&gt;</th><th scope=col>&lt;int&gt;</th><th scope=col>&lt;int&gt;</th><th scope=col>&lt;int&gt;</th><th scope=col>&lt;int&gt;</th><th scope=col>&lt;int&gt;</th><th scope=col>&lt;int&gt;</th><th scope=col>&lt;int&gt;</th><th scope=col>&lt;int&gt;</th><th scope=col>&lt;int&gt;</th></tr>\n",
       "</thead>\n",
       "<tbody>\n",
       "\t<tr><td>chr1</td><td>10015</td><td>10442</td><td>chr1_10015_10442</td><td>155</td><td>214</td><td>257</td><td>236</td><td>185</td><td>214</td><td> 7</td><td>12</td><td> 4</td><td>11</td></tr>\n",
       "\t<tr><td>chr1</td><td>14253</td><td>14645</td><td>chr1_14253_14645</td><td>110</td><td>144</td><td>160</td><td>141</td><td>130</td><td>130</td><td> 8</td><td>26</td><td>30</td><td>57</td></tr>\n",
       "\t<tr><td>chr1</td><td>16015</td><td>16477</td><td>chr1_16015_16477</td><td>141</td><td>208</td><td>206</td><td>190</td><td>202</td><td>182</td><td> 9</td><td> 9</td><td>18</td><td>23</td></tr>\n",
       "\t<tr><td>chr1</td><td>17237</td><td>17772</td><td>chr1_17237_17772</td><td>259</td><td>350</td><td>399</td><td>367</td><td>369</td><td>331</td><td> 7</td><td>13</td><td>23</td><td>59</td></tr>\n",
       "\t<tr><td>chr1</td><td>28903</td><td>29613</td><td>chr1_28903_29613</td><td>263</td><td>338</td><td>368</td><td>333</td><td>352</td><td>317</td><td>12</td><td>18</td><td> 3</td><td>32</td></tr>\n",
       "\t<tr><td>chr1</td><td>30803</td><td>31072</td><td>chr1_30803_31072</td><td> 82</td><td>115</td><td>171</td><td>136</td><td>105</td><td>115</td><td>13</td><td>22</td><td>14</td><td>33</td></tr>\n",
       "</tbody>\n",
       "</table>\n"
      ],
      "text/latex": [
       "A tibble: 6 × 14\n",
       "\\begin{tabular}{llllllllllllll}\n",
       " Chrom & Start & End & Peak & Input.rep1 & Input.rep2 & Input.rep3 & Input.rep4 & Input.rep5 & Input.rep6 & Output.rep1 & Output.rep2 & Output.rep3 & Output.rep4\\\\\n",
       " <chr> & <dbl> & <dbl> & <chr> & <int> & <int> & <int> & <int> & <int> & <int> & <int> & <int> & <int> & <int>\\\\\n",
       "\\hline\n",
       "\t chr1 & 10015 & 10442 & chr1\\_10015\\_10442 & 155 & 214 & 257 & 236 & 185 & 214 &  7 & 12 &  4 & 11\\\\\n",
       "\t chr1 & 14253 & 14645 & chr1\\_14253\\_14645 & 110 & 144 & 160 & 141 & 130 & 130 &  8 & 26 & 30 & 57\\\\\n",
       "\t chr1 & 16015 & 16477 & chr1\\_16015\\_16477 & 141 & 208 & 206 & 190 & 202 & 182 &  9 &  9 & 18 & 23\\\\\n",
       "\t chr1 & 17237 & 17772 & chr1\\_17237\\_17772 & 259 & 350 & 399 & 367 & 369 & 331 &  7 & 13 & 23 & 59\\\\\n",
       "\t chr1 & 28903 & 29613 & chr1\\_28903\\_29613 & 263 & 338 & 368 & 333 & 352 & 317 & 12 & 18 &  3 & 32\\\\\n",
       "\t chr1 & 30803 & 31072 & chr1\\_30803\\_31072 &  82 & 115 & 171 & 136 & 105 & 115 & 13 & 22 & 14 & 33\\\\\n",
       "\\end{tabular}\n"
      ],
      "text/markdown": [
       "\n",
       "A tibble: 6 × 14\n",
       "\n",
       "| Chrom &lt;chr&gt; | Start &lt;dbl&gt; | End &lt;dbl&gt; | Peak &lt;chr&gt; | Input.rep1 &lt;int&gt; | Input.rep2 &lt;int&gt; | Input.rep3 &lt;int&gt; | Input.rep4 &lt;int&gt; | Input.rep5 &lt;int&gt; | Input.rep6 &lt;int&gt; | Output.rep1 &lt;int&gt; | Output.rep2 &lt;int&gt; | Output.rep3 &lt;int&gt; | Output.rep4 &lt;int&gt; |\n",
       "|---|---|---|---|---|---|---|---|---|---|---|---|---|---|\n",
       "| chr1 | 10015 | 10442 | chr1_10015_10442 | 155 | 214 | 257 | 236 | 185 | 214 |  7 | 12 |  4 | 11 |\n",
       "| chr1 | 14253 | 14645 | chr1_14253_14645 | 110 | 144 | 160 | 141 | 130 | 130 |  8 | 26 | 30 | 57 |\n",
       "| chr1 | 16015 | 16477 | chr1_16015_16477 | 141 | 208 | 206 | 190 | 202 | 182 |  9 |  9 | 18 | 23 |\n",
       "| chr1 | 17237 | 17772 | chr1_17237_17772 | 259 | 350 | 399 | 367 | 369 | 331 |  7 | 13 | 23 | 59 |\n",
       "| chr1 | 28903 | 29613 | chr1_28903_29613 | 263 | 338 | 368 | 333 | 352 | 317 | 12 | 18 |  3 | 32 |\n",
       "| chr1 | 30803 | 31072 | chr1_30803_31072 |  82 | 115 | 171 | 136 | 105 | 115 | 13 | 22 | 14 | 33 |\n",
       "\n"
      ],
      "text/plain": [
       "  Chrom Start End   Peak             Input.rep1 Input.rep2 Input.rep3\n",
       "1 chr1  10015 10442 chr1_10015_10442 155        214        257       \n",
       "2 chr1  14253 14645 chr1_14253_14645 110        144        160       \n",
       "3 chr1  16015 16477 chr1_16015_16477 141        208        206       \n",
       "4 chr1  17237 17772 chr1_17237_17772 259        350        399       \n",
       "5 chr1  28903 29613 chr1_28903_29613 263        338        368       \n",
       "6 chr1  30803 31072 chr1_30803_31072  82        115        171       \n",
       "  Input.rep4 Input.rep5 Input.rep6 Output.rep1 Output.rep2 Output.rep3\n",
       "1 236        185        214         7          12           4         \n",
       "2 141        130        130         8          26          30         \n",
       "3 190        202        182         9           9          18         \n",
       "4 367        369        331         7          13          23         \n",
       "5 333        352        317        12          18           3         \n",
       "6 136        105        115        13          22          14         \n",
       "  Output.rep4\n",
       "1 11         \n",
       "2 57         \n",
       "3 23         \n",
       "4 59         \n",
       "5 32         \n",
       "6 33         "
      ]
     },
     "metadata": {},
     "output_type": "display_data"
    }
   ],
   "source": [
    "cnames = c(\"Chrom\", \"Start\", \"End\", \"Count\")\n",
    "ctypes = c(col_character(), col_integer(), col_integer(), col_integer())\n",
    "\n",
    "lst = lapply(fpaths, function(fpath){\n",
    "    sam = get_sample(fpath)\n",
    "    dat = read_tsv(fpath, col_names = cnames, col_types = ctypes) %>% \n",
    "        dplyr::filter(Count != \".\") %>% \n",
    "        dplyr::mutate(Count  = as.integer(Count)) %>%\n",
    "        dplyr::mutate(\n",
    "            Peak   = paste(Chrom, Start, End, sep=\"_\"),\n",
    "            Sample = sam)\n",
    "    return(dat)\n",
    "})\n",
    "\n",
    "dat_count = bind_rows(lst) %>% spread(Sample, Count)\n",
    "head(dat_count)"
   ]
  },
  {
   "cell_type": "code",
   "execution_count": 9,
   "id": "245bfd74",
   "metadata": {},
   "outputs": [
    {
     "data": {
      "text/html": [
       "<table class=\"dataframe\">\n",
       "<caption>A tibble: 0 × 14</caption>\n",
       "<thead>\n",
       "\t<tr><th scope=col>Chrom</th><th scope=col>Start</th><th scope=col>End</th><th scope=col>Peak</th><th scope=col>Input.rep1</th><th scope=col>Input.rep2</th><th scope=col>Input.rep3</th><th scope=col>Input.rep4</th><th scope=col>Input.rep5</th><th scope=col>Input.rep6</th><th scope=col>Output.rep1</th><th scope=col>Output.rep2</th><th scope=col>Output.rep3</th><th scope=col>Output.rep4</th></tr>\n",
       "\t<tr><th scope=col>&lt;chr&gt;</th><th scope=col>&lt;dbl&gt;</th><th scope=col>&lt;dbl&gt;</th><th scope=col>&lt;chr&gt;</th><th scope=col>&lt;int&gt;</th><th scope=col>&lt;int&gt;</th><th scope=col>&lt;int&gt;</th><th scope=col>&lt;int&gt;</th><th scope=col>&lt;int&gt;</th><th scope=col>&lt;int&gt;</th><th scope=col>&lt;int&gt;</th><th scope=col>&lt;int&gt;</th><th scope=col>&lt;int&gt;</th><th scope=col>&lt;int&gt;</th></tr>\n",
       "</thead>\n",
       "<tbody>\n",
       "</tbody>\n",
       "</table>\n"
      ],
      "text/latex": [
       "A tibble: 0 × 14\n",
       "\\begin{tabular}{llllllllllllll}\n",
       " Chrom & Start & End & Peak & Input.rep1 & Input.rep2 & Input.rep3 & Input.rep4 & Input.rep5 & Input.rep6 & Output.rep1 & Output.rep2 & Output.rep3 & Output.rep4\\\\\n",
       " <chr> & <dbl> & <dbl> & <chr> & <int> & <int> & <int> & <int> & <int> & <int> & <int> & <int> & <int> & <int>\\\\\n",
       "\\hline\n",
       "\\end{tabular}\n"
      ],
      "text/markdown": [
       "\n",
       "A tibble: 0 × 14\n",
       "\n",
       "| Chrom &lt;chr&gt; | Start &lt;dbl&gt; | End &lt;dbl&gt; | Peak &lt;chr&gt; | Input.rep1 &lt;int&gt; | Input.rep2 &lt;int&gt; | Input.rep3 &lt;int&gt; | Input.rep4 &lt;int&gt; | Input.rep5 &lt;int&gt; | Input.rep6 &lt;int&gt; | Output.rep1 &lt;int&gt; | Output.rep2 &lt;int&gt; | Output.rep3 &lt;int&gt; | Output.rep4 &lt;int&gt; |\n",
       "|---|---|---|---|---|---|---|---|---|---|---|---|---|---|\n",
       "\n"
      ],
      "text/plain": [
       "     Chrom Start End Peak Input.rep1 Input.rep2 Input.rep3 Input.rep4\n",
       "     Input.rep5 Input.rep6 Output.rep1 Output.rep2 Output.rep3 Output.rep4"
      ]
     },
     "metadata": {},
     "output_type": "display_data"
    }
   ],
   "source": [
    "dat_count %>% dplyr::filter(is.na(Peak))"
   ]
  },
  {
   "cell_type": "code",
   "execution_count": 10,
   "id": "c63588a9",
   "metadata": {},
   "outputs": [
    {
     "data": {
      "text/html": [
       "<table class=\"dataframe\">\n",
       "<caption>A tibble: 2 × 14</caption>\n",
       "<thead>\n",
       "\t<tr><th scope=col>Chrom</th><th scope=col>Start</th><th scope=col>End</th><th scope=col>Peak</th><th scope=col>Input.rep1</th><th scope=col>Input.rep2</th><th scope=col>Input.rep3</th><th scope=col>Input.rep4</th><th scope=col>Input.rep5</th><th scope=col>Input.rep6</th><th scope=col>Output.rep1</th><th scope=col>Output.rep2</th><th scope=col>Output.rep3</th><th scope=col>Output.rep4</th></tr>\n",
       "\t<tr><th scope=col>&lt;chr&gt;</th><th scope=col>&lt;dbl&gt;</th><th scope=col>&lt;dbl&gt;</th><th scope=col>&lt;chr&gt;</th><th scope=col>&lt;int&gt;</th><th scope=col>&lt;int&gt;</th><th scope=col>&lt;int&gt;</th><th scope=col>&lt;int&gt;</th><th scope=col>&lt;int&gt;</th><th scope=col>&lt;int&gt;</th><th scope=col>&lt;int&gt;</th><th scope=col>&lt;int&gt;</th><th scope=col>&lt;int&gt;</th><th scope=col>&lt;int&gt;</th></tr>\n",
       "</thead>\n",
       "<tbody>\n",
       "\t<tr><td>chr21</td><td>8396525</td><td>8397035</td><td>chr21_8396525_8397035</td><td>NA</td><td> 1</td><td>NA</td><td>NA</td><td>NA</td><td>NA</td><td>NA</td><td>NA</td><td>NA</td><td>NA</td></tr>\n",
       "\t<tr><td>chr21</td><td>8219783</td><td>8221061</td><td>chr21_8219783_8221061</td><td>NA</td><td>NA</td><td> 1</td><td> 1</td><td> 1</td><td>NA</td><td>NA</td><td>NA</td><td> 1</td><td> 4</td></tr>\n",
       "</tbody>\n",
       "</table>\n"
      ],
      "text/latex": [
       "A tibble: 2 × 14\n",
       "\\begin{tabular}{llllllllllllll}\n",
       " Chrom & Start & End & Peak & Input.rep1 & Input.rep2 & Input.rep3 & Input.rep4 & Input.rep5 & Input.rep6 & Output.rep1 & Output.rep2 & Output.rep3 & Output.rep4\\\\\n",
       " <chr> & <dbl> & <dbl> & <chr> & <int> & <int> & <int> & <int> & <int> & <int> & <int> & <int> & <int> & <int>\\\\\n",
       "\\hline\n",
       "\t chr21 & 8396525 & 8397035 & chr21\\_8396525\\_8397035 & NA &  1 & NA & NA & NA & NA & NA & NA & NA & NA\\\\\n",
       "\t chr21 & 8219783 & 8221061 & chr21\\_8219783\\_8221061 & NA & NA &  1 &  1 &  1 & NA & NA & NA &  1 &  4\\\\\n",
       "\\end{tabular}\n"
      ],
      "text/markdown": [
       "\n",
       "A tibble: 2 × 14\n",
       "\n",
       "| Chrom &lt;chr&gt; | Start &lt;dbl&gt; | End &lt;dbl&gt; | Peak &lt;chr&gt; | Input.rep1 &lt;int&gt; | Input.rep2 &lt;int&gt; | Input.rep3 &lt;int&gt; | Input.rep4 &lt;int&gt; | Input.rep5 &lt;int&gt; | Input.rep6 &lt;int&gt; | Output.rep1 &lt;int&gt; | Output.rep2 &lt;int&gt; | Output.rep3 &lt;int&gt; | Output.rep4 &lt;int&gt; |\n",
       "|---|---|---|---|---|---|---|---|---|---|---|---|---|---|\n",
       "| chr21 | 8396525 | 8397035 | chr21_8396525_8397035 | NA |  1 | NA | NA | NA | NA | NA | NA | NA | NA |\n",
       "| chr21 | 8219783 | 8221061 | chr21_8219783_8221061 | NA | NA |  1 |  1 |  1 | NA | NA | NA |  1 |  4 |\n",
       "\n"
      ],
      "text/plain": [
       "  Chrom Start   End     Peak                  Input.rep1 Input.rep2 Input.rep3\n",
       "1 chr21 8396525 8397035 chr21_8396525_8397035 NA          1         NA        \n",
       "2 chr21 8219783 8221061 chr21_8219783_8221061 NA         NA          1        \n",
       "  Input.rep4 Input.rep5 Input.rep6 Output.rep1 Output.rep2 Output.rep3\n",
       "1 NA         NA         NA         NA          NA          NA         \n",
       "2  1          1         NA         NA          NA           1         \n",
       "  Output.rep4\n",
       "1 NA         \n",
       "2  4         "
      ]
     },
     "metadata": {},
     "output_type": "display_data"
    }
   ],
   "source": [
    "dat_count %>% dplyr::filter(is.na(Input.rep1))"
   ]
  },
  {
   "cell_type": "code",
   "execution_count": 12,
   "id": "4e2d5f05",
   "metadata": {},
   "outputs": [
    {
     "data": {
      "text/html": [
       "<table class=\"dataframe\">\n",
       "<caption>A tibble: 0 × 14</caption>\n",
       "<thead>\n",
       "\t<tr><th scope=col>Chrom</th><th scope=col>Start</th><th scope=col>End</th><th scope=col>Peak</th><th scope=col>Input.rep1</th><th scope=col>Input.rep2</th><th scope=col>Input.rep3</th><th scope=col>Input.rep4</th><th scope=col>Input.rep5</th><th scope=col>Input.rep6</th><th scope=col>Output.rep1</th><th scope=col>Output.rep2</th><th scope=col>Output.rep3</th><th scope=col>Output.rep4</th></tr>\n",
       "\t<tr><th scope=col>&lt;chr&gt;</th><th scope=col>&lt;dbl&gt;</th><th scope=col>&lt;dbl&gt;</th><th scope=col>&lt;chr&gt;</th><th scope=col>&lt;int&gt;</th><th scope=col>&lt;int&gt;</th><th scope=col>&lt;int&gt;</th><th scope=col>&lt;int&gt;</th><th scope=col>&lt;int&gt;</th><th scope=col>&lt;int&gt;</th><th scope=col>&lt;int&gt;</th><th scope=col>&lt;int&gt;</th><th scope=col>&lt;int&gt;</th><th scope=col>&lt;int&gt;</th></tr>\n",
       "</thead>\n",
       "<tbody>\n",
       "</tbody>\n",
       "</table>\n"
      ],
      "text/latex": [
       "A tibble: 0 × 14\n",
       "\\begin{tabular}{llllllllllllll}\n",
       " Chrom & Start & End & Peak & Input.rep1 & Input.rep2 & Input.rep3 & Input.rep4 & Input.rep5 & Input.rep6 & Output.rep1 & Output.rep2 & Output.rep3 & Output.rep4\\\\\n",
       " <chr> & <dbl> & <dbl> & <chr> & <int> & <int> & <int> & <int> & <int> & <int> & <int> & <int> & <int> & <int>\\\\\n",
       "\\hline\n",
       "\\end{tabular}\n"
      ],
      "text/markdown": [
       "\n",
       "A tibble: 0 × 14\n",
       "\n",
       "| Chrom &lt;chr&gt; | Start &lt;dbl&gt; | End &lt;dbl&gt; | Peak &lt;chr&gt; | Input.rep1 &lt;int&gt; | Input.rep2 &lt;int&gt; | Input.rep3 &lt;int&gt; | Input.rep4 &lt;int&gt; | Input.rep5 &lt;int&gt; | Input.rep6 &lt;int&gt; | Output.rep1 &lt;int&gt; | Output.rep2 &lt;int&gt; | Output.rep3 &lt;int&gt; | Output.rep4 &lt;int&gt; |\n",
       "|---|---|---|---|---|---|---|---|---|---|---|---|---|---|\n",
       "\n"
      ],
      "text/plain": [
       "     Chrom Start End Peak Input.rep1 Input.rep2 Input.rep3 Input.rep4\n",
       "     Input.rep5 Input.rep6 Output.rep1 Output.rep2 Output.rep3 Output.rep4"
      ]
     },
     "metadata": {},
     "output_type": "display_data"
    }
   ],
   "source": [
    "dat_count = dat_count %>% replace(is.na(.), 0)\n",
    "dat_count %>% dplyr::filter(is.na(Input.rep1))"
   ]
  },
  {
   "cell_type": "markdown",
   "id": "8abb2b33",
   "metadata": {},
   "source": [
    "## From raw count to CPM and log2FC"
   ]
  },
  {
   "cell_type": "markdown",
   "id": "d76796f5",
   "metadata": {},
   "source": [
    "**Import library size**"
   ]
  },
  {
   "cell_type": "code",
   "execution_count": 13,
   "id": "31011399",
   "metadata": {},
   "outputs": [
    {
     "data": {
      "text/html": [
       "<table class=\"dataframe\">\n",
       "<caption>A spec_tbl_df: 10 × 6</caption>\n",
       "<thead>\n",
       "\t<tr><th scope=col>Type</th><th scope=col>Region</th><th scope=col>Group</th><th scope=col>Sample</th><th scope=col>Size</th><th scope=col>FName</th></tr>\n",
       "\t<tr><th scope=col>&lt;chr&gt;</th><th scope=col>&lt;chr&gt;</th><th scope=col>&lt;chr&gt;</th><th scope=col>&lt;chr&gt;</th><th scope=col>&lt;dbl&gt;</th><th scope=col>&lt;chr&gt;</th></tr>\n",
       "</thead>\n",
       "<tbody>\n",
       "\t<tr><td>raw</td><td>WGS</td><td>Input </td><td>Input.rep1 </td><td>348695063</td><td>KS91_K562_ASTARRseq.Input.rep1.WGS.unstranded.bed.gz </td></tr>\n",
       "\t<tr><td>raw</td><td>WGS</td><td>Input </td><td>Input.rep2 </td><td>451369741</td><td>KS91_K562_ASTARRseq.Input.rep2.WGS.unstranded.bed.gz </td></tr>\n",
       "\t<tr><td>raw</td><td>WGS</td><td>Input </td><td>Input.rep3 </td><td>487579055</td><td>KS91_K562_ASTARRseq.Input.rep3.WGS.unstranded.bed.gz </td></tr>\n",
       "\t<tr><td>raw</td><td>WGS</td><td>Input </td><td>Input.rep4 </td><td>456246254</td><td>KS91_K562_ASTARRseq.Input.rep4.WGS.unstranded.bed.gz </td></tr>\n",
       "\t<tr><td>raw</td><td>WGS</td><td>Input </td><td>Input.rep5 </td><td>444268950</td><td>KS91_K562_ASTARRseq.Input.rep5.WGS.unstranded.bed.gz </td></tr>\n",
       "\t<tr><td>raw</td><td>WGS</td><td>Input </td><td>Input.rep6 </td><td>397333562</td><td>KS91_K562_ASTARRseq.Input.rep6.WGS.unstranded.bed.gz </td></tr>\n",
       "\t<tr><td>raw</td><td>WGS</td><td>Output</td><td>Output.rep1</td><td> 44103844</td><td>KS91_K562_ASTARRseq.Output.rep1.WGS.unstranded.bed.gz</td></tr>\n",
       "\t<tr><td>raw</td><td>WGS</td><td>Output</td><td>Output.rep2</td><td> 97471282</td><td>KS91_K562_ASTARRseq.Output.rep2.WGS.unstranded.bed.gz</td></tr>\n",
       "\t<tr><td>raw</td><td>WGS</td><td>Output</td><td>Output.rep3</td><td> 84103298</td><td>KS91_K562_ASTARRseq.Output.rep3.WGS.unstranded.bed.gz</td></tr>\n",
       "\t<tr><td>raw</td><td>WGS</td><td>Output</td><td>Output.rep4</td><td>183115379</td><td>KS91_K562_ASTARRseq.Output.rep4.WGS.unstranded.bed.gz</td></tr>\n",
       "</tbody>\n",
       "</table>\n"
      ],
      "text/latex": [
       "A spec\\_tbl\\_df: 10 × 6\n",
       "\\begin{tabular}{llllll}\n",
       " Type & Region & Group & Sample & Size & FName\\\\\n",
       " <chr> & <chr> & <chr> & <chr> & <dbl> & <chr>\\\\\n",
       "\\hline\n",
       "\t raw & WGS & Input  & Input.rep1  & 348695063 & KS91\\_K562\\_ASTARRseq.Input.rep1.WGS.unstranded.bed.gz \\\\\n",
       "\t raw & WGS & Input  & Input.rep2  & 451369741 & KS91\\_K562\\_ASTARRseq.Input.rep2.WGS.unstranded.bed.gz \\\\\n",
       "\t raw & WGS & Input  & Input.rep3  & 487579055 & KS91\\_K562\\_ASTARRseq.Input.rep3.WGS.unstranded.bed.gz \\\\\n",
       "\t raw & WGS & Input  & Input.rep4  & 456246254 & KS91\\_K562\\_ASTARRseq.Input.rep4.WGS.unstranded.bed.gz \\\\\n",
       "\t raw & WGS & Input  & Input.rep5  & 444268950 & KS91\\_K562\\_ASTARRseq.Input.rep5.WGS.unstranded.bed.gz \\\\\n",
       "\t raw & WGS & Input  & Input.rep6  & 397333562 & KS91\\_K562\\_ASTARRseq.Input.rep6.WGS.unstranded.bed.gz \\\\\n",
       "\t raw & WGS & Output & Output.rep1 &  44103844 & KS91\\_K562\\_ASTARRseq.Output.rep1.WGS.unstranded.bed.gz\\\\\n",
       "\t raw & WGS & Output & Output.rep2 &  97471282 & KS91\\_K562\\_ASTARRseq.Output.rep2.WGS.unstranded.bed.gz\\\\\n",
       "\t raw & WGS & Output & Output.rep3 &  84103298 & KS91\\_K562\\_ASTARRseq.Output.rep3.WGS.unstranded.bed.gz\\\\\n",
       "\t raw & WGS & Output & Output.rep4 & 183115379 & KS91\\_K562\\_ASTARRseq.Output.rep4.WGS.unstranded.bed.gz\\\\\n",
       "\\end{tabular}\n"
      ],
      "text/markdown": [
       "\n",
       "A spec_tbl_df: 10 × 6\n",
       "\n",
       "| Type &lt;chr&gt; | Region &lt;chr&gt; | Group &lt;chr&gt; | Sample &lt;chr&gt; | Size &lt;dbl&gt; | FName &lt;chr&gt; |\n",
       "|---|---|---|---|---|---|\n",
       "| raw | WGS | Input  | Input.rep1  | 348695063 | KS91_K562_ASTARRseq.Input.rep1.WGS.unstranded.bed.gz  |\n",
       "| raw | WGS | Input  | Input.rep2  | 451369741 | KS91_K562_ASTARRseq.Input.rep2.WGS.unstranded.bed.gz  |\n",
       "| raw | WGS | Input  | Input.rep3  | 487579055 | KS91_K562_ASTARRseq.Input.rep3.WGS.unstranded.bed.gz  |\n",
       "| raw | WGS | Input  | Input.rep4  | 456246254 | KS91_K562_ASTARRseq.Input.rep4.WGS.unstranded.bed.gz  |\n",
       "| raw | WGS | Input  | Input.rep5  | 444268950 | KS91_K562_ASTARRseq.Input.rep5.WGS.unstranded.bed.gz  |\n",
       "| raw | WGS | Input  | Input.rep6  | 397333562 | KS91_K562_ASTARRseq.Input.rep6.WGS.unstranded.bed.gz  |\n",
       "| raw | WGS | Output | Output.rep1 |  44103844 | KS91_K562_ASTARRseq.Output.rep1.WGS.unstranded.bed.gz |\n",
       "| raw | WGS | Output | Output.rep2 |  97471282 | KS91_K562_ASTARRseq.Output.rep2.WGS.unstranded.bed.gz |\n",
       "| raw | WGS | Output | Output.rep3 |  84103298 | KS91_K562_ASTARRseq.Output.rep3.WGS.unstranded.bed.gz |\n",
       "| raw | WGS | Output | Output.rep4 | 183115379 | KS91_K562_ASTARRseq.Output.rep4.WGS.unstranded.bed.gz |\n",
       "\n"
      ],
      "text/plain": [
       "   Type Region Group  Sample      Size     \n",
       "1  raw  WGS    Input  Input.rep1  348695063\n",
       "2  raw  WGS    Input  Input.rep2  451369741\n",
       "3  raw  WGS    Input  Input.rep3  487579055\n",
       "4  raw  WGS    Input  Input.rep4  456246254\n",
       "5  raw  WGS    Input  Input.rep5  444268950\n",
       "6  raw  WGS    Input  Input.rep6  397333562\n",
       "7  raw  WGS    Output Output.rep1  44103844\n",
       "8  raw  WGS    Output Output.rep2  97471282\n",
       "9  raw  WGS    Output Output.rep3  84103298\n",
       "10 raw  WGS    Output Output.rep4 183115379\n",
       "   FName                                                \n",
       "1  KS91_K562_ASTARRseq.Input.rep1.WGS.unstranded.bed.gz \n",
       "2  KS91_K562_ASTARRseq.Input.rep2.WGS.unstranded.bed.gz \n",
       "3  KS91_K562_ASTARRseq.Input.rep3.WGS.unstranded.bed.gz \n",
       "4  KS91_K562_ASTARRseq.Input.rep4.WGS.unstranded.bed.gz \n",
       "5  KS91_K562_ASTARRseq.Input.rep5.WGS.unstranded.bed.gz \n",
       "6  KS91_K562_ASTARRseq.Input.rep6.WGS.unstranded.bed.gz \n",
       "7  KS91_K562_ASTARRseq.Output.rep1.WGS.unstranded.bed.gz\n",
       "8  KS91_K562_ASTARRseq.Output.rep2.WGS.unstranded.bed.gz\n",
       "9  KS91_K562_ASTARRseq.Output.rep3.WGS.unstranded.bed.gz\n",
       "10 KS91_K562_ASTARRseq.Output.rep4.WGS.unstranded.bed.gz"
      ]
     },
     "metadata": {},
     "output_type": "display_data"
    }
   ],
   "source": [
    "fdiry = file.path(FD_RES, \"results\", ASSAY, \"coverage\", \"summary\")\n",
    "fname = \"library_size_summary.csv\"\n",
    "fpath = file.path(fdiry, fname)\n",
    "dat_lib = read_csv(fpath, show_col_types = FALSE)\n",
    "dat_lib = dat_lib %>% dplyr::filter(Region == \"WGS\")\n",
    "dat_lib"
   ]
  },
  {
   "cell_type": "markdown",
   "id": "17eae5cd",
   "metadata": {},
   "source": [
    "**Calculate CPM matrix and mean**"
   ]
  },
  {
   "cell_type": "code",
   "execution_count": 14,
   "id": "96ee7d4f",
   "metadata": {},
   "outputs": [],
   "source": [
    "dat = dat_count %>% \n",
    "    tidyr::gather(Sample, Count, -Chrom, -Start, -End, -Peak) %>%\n",
    "    dplyr::left_join(dat_lib, by=\"Sample\") %>%\n",
    "    dplyr::mutate(CPM = Count * 1e6 / Size)\n",
    "\n",
    "dat_cpm = dat %>% \n",
    "   dplyr::select(Chrom, Start, End, Peak, Sample, CPM) %>%\n",
    "   tidyr::spread(Sample, CPM)\n",
    "\n",
    "dat_log2fc = dat %>% \n",
    "   dplyr::group_by(Chrom, Start, End, Peak, Group) %>%\n",
    "   dplyr::summarise(CPM = mean(CPM, na.omit=TRUE), .groups=\"drop\") %>%\n",
    "   tidyr::spread(Group, CPM) %>%\n",
    "   dplyr::mutate(log2FoldChange = log2(Output) - log2(Input))"
   ]
  },
  {
   "cell_type": "code",
   "execution_count": 15,
   "id": "7607d8bc",
   "metadata": {},
   "outputs": [
    {
     "data": {
      "text/html": [
       "<table class=\"dataframe\">\n",
       "<caption>A tibble: 6 × 14</caption>\n",
       "<thead>\n",
       "\t<tr><th scope=col>Chrom</th><th scope=col>Start</th><th scope=col>End</th><th scope=col>Peak</th><th scope=col>Input.rep1</th><th scope=col>Input.rep2</th><th scope=col>Input.rep3</th><th scope=col>Input.rep4</th><th scope=col>Input.rep5</th><th scope=col>Input.rep6</th><th scope=col>Output.rep1</th><th scope=col>Output.rep2</th><th scope=col>Output.rep3</th><th scope=col>Output.rep4</th></tr>\n",
       "\t<tr><th scope=col>&lt;chr&gt;</th><th scope=col>&lt;dbl&gt;</th><th scope=col>&lt;dbl&gt;</th><th scope=col>&lt;chr&gt;</th><th scope=col>&lt;dbl&gt;</th><th scope=col>&lt;dbl&gt;</th><th scope=col>&lt;dbl&gt;</th><th scope=col>&lt;dbl&gt;</th><th scope=col>&lt;dbl&gt;</th><th scope=col>&lt;dbl&gt;</th><th scope=col>&lt;dbl&gt;</th><th scope=col>&lt;dbl&gt;</th><th scope=col>&lt;dbl&gt;</th><th scope=col>&lt;dbl&gt;</th></tr>\n",
       "</thead>\n",
       "<tbody>\n",
       "\t<tr><td>chr1</td><td>10015</td><td>10442</td><td>chr1_10015_10442</td><td>0.4445145</td><td>0.4741124</td><td>0.5270940</td><td>0.5172645</td><td>0.4164144</td><td>0.5385903</td><td>0.1587163</td><td>0.12311319</td><td>0.04756056</td><td>0.06007142</td></tr>\n",
       "\t<tr><td>chr1</td><td>14253</td><td>14645</td><td>chr1_14253_14645</td><td>0.3154619</td><td>0.3190289</td><td>0.3281519</td><td>0.3090436</td><td>0.2926155</td><td>0.3271810</td><td>0.1813901</td><td>0.26674523</td><td>0.35670420</td><td>0.31127915</td></tr>\n",
       "\t<tr><td>chr1</td><td>16015</td><td>16477</td><td>chr1_16015_16477</td><td>0.4043648</td><td>0.4608195</td><td>0.4224956</td><td>0.4164418</td><td>0.4546795</td><td>0.4580534</td><td>0.2040638</td><td>0.09233489</td><td>0.21402252</td><td>0.12560387</td></tr>\n",
       "\t<tr><td>chr1</td><td>17237</td><td>17772</td><td>chr1_17237_17772</td><td>0.7427693</td><td>0.7754175</td><td>0.8183288</td><td>0.8043902</td><td>0.8305780</td><td>0.8330532</td><td>0.1587163</td><td>0.13337262</td><td>0.27347322</td><td>0.32220123</td></tr>\n",
       "\t<tr><td>chr1</td><td>28903</td><td>29613</td><td>chr1_28903_29613</td><td>0.7542407</td><td>0.7488318</td><td>0.7547494</td><td>0.7298690</td><td>0.7923129</td><td>0.7978183</td><td>0.2720851</td><td>0.18466978</td><td>0.03567042</td><td>0.17475321</td></tr>\n",
       "\t<tr><td>chr1</td><td>30803</td><td>31072</td><td>chr1_30803_31072</td><td>0.2351625</td><td>0.2547800</td><td>0.3507124</td><td>0.2980846</td><td>0.2363433</td><td>0.2894294</td><td>0.2947589</td><td>0.22570751</td><td>0.16646196</td><td>0.18021425</td></tr>\n",
       "</tbody>\n",
       "</table>\n"
      ],
      "text/latex": [
       "A tibble: 6 × 14\n",
       "\\begin{tabular}{llllllllllllll}\n",
       " Chrom & Start & End & Peak & Input.rep1 & Input.rep2 & Input.rep3 & Input.rep4 & Input.rep5 & Input.rep6 & Output.rep1 & Output.rep2 & Output.rep3 & Output.rep4\\\\\n",
       " <chr> & <dbl> & <dbl> & <chr> & <dbl> & <dbl> & <dbl> & <dbl> & <dbl> & <dbl> & <dbl> & <dbl> & <dbl> & <dbl>\\\\\n",
       "\\hline\n",
       "\t chr1 & 10015 & 10442 & chr1\\_10015\\_10442 & 0.4445145 & 0.4741124 & 0.5270940 & 0.5172645 & 0.4164144 & 0.5385903 & 0.1587163 & 0.12311319 & 0.04756056 & 0.06007142\\\\\n",
       "\t chr1 & 14253 & 14645 & chr1\\_14253\\_14645 & 0.3154619 & 0.3190289 & 0.3281519 & 0.3090436 & 0.2926155 & 0.3271810 & 0.1813901 & 0.26674523 & 0.35670420 & 0.31127915\\\\\n",
       "\t chr1 & 16015 & 16477 & chr1\\_16015\\_16477 & 0.4043648 & 0.4608195 & 0.4224956 & 0.4164418 & 0.4546795 & 0.4580534 & 0.2040638 & 0.09233489 & 0.21402252 & 0.12560387\\\\\n",
       "\t chr1 & 17237 & 17772 & chr1\\_17237\\_17772 & 0.7427693 & 0.7754175 & 0.8183288 & 0.8043902 & 0.8305780 & 0.8330532 & 0.1587163 & 0.13337262 & 0.27347322 & 0.32220123\\\\\n",
       "\t chr1 & 28903 & 29613 & chr1\\_28903\\_29613 & 0.7542407 & 0.7488318 & 0.7547494 & 0.7298690 & 0.7923129 & 0.7978183 & 0.2720851 & 0.18466978 & 0.03567042 & 0.17475321\\\\\n",
       "\t chr1 & 30803 & 31072 & chr1\\_30803\\_31072 & 0.2351625 & 0.2547800 & 0.3507124 & 0.2980846 & 0.2363433 & 0.2894294 & 0.2947589 & 0.22570751 & 0.16646196 & 0.18021425\\\\\n",
       "\\end{tabular}\n"
      ],
      "text/markdown": [
       "\n",
       "A tibble: 6 × 14\n",
       "\n",
       "| Chrom &lt;chr&gt; | Start &lt;dbl&gt; | End &lt;dbl&gt; | Peak &lt;chr&gt; | Input.rep1 &lt;dbl&gt; | Input.rep2 &lt;dbl&gt; | Input.rep3 &lt;dbl&gt; | Input.rep4 &lt;dbl&gt; | Input.rep5 &lt;dbl&gt; | Input.rep6 &lt;dbl&gt; | Output.rep1 &lt;dbl&gt; | Output.rep2 &lt;dbl&gt; | Output.rep3 &lt;dbl&gt; | Output.rep4 &lt;dbl&gt; |\n",
       "|---|---|---|---|---|---|---|---|---|---|---|---|---|---|\n",
       "| chr1 | 10015 | 10442 | chr1_10015_10442 | 0.4445145 | 0.4741124 | 0.5270940 | 0.5172645 | 0.4164144 | 0.5385903 | 0.1587163 | 0.12311319 | 0.04756056 | 0.06007142 |\n",
       "| chr1 | 14253 | 14645 | chr1_14253_14645 | 0.3154619 | 0.3190289 | 0.3281519 | 0.3090436 | 0.2926155 | 0.3271810 | 0.1813901 | 0.26674523 | 0.35670420 | 0.31127915 |\n",
       "| chr1 | 16015 | 16477 | chr1_16015_16477 | 0.4043648 | 0.4608195 | 0.4224956 | 0.4164418 | 0.4546795 | 0.4580534 | 0.2040638 | 0.09233489 | 0.21402252 | 0.12560387 |\n",
       "| chr1 | 17237 | 17772 | chr1_17237_17772 | 0.7427693 | 0.7754175 | 0.8183288 | 0.8043902 | 0.8305780 | 0.8330532 | 0.1587163 | 0.13337262 | 0.27347322 | 0.32220123 |\n",
       "| chr1 | 28903 | 29613 | chr1_28903_29613 | 0.7542407 | 0.7488318 | 0.7547494 | 0.7298690 | 0.7923129 | 0.7978183 | 0.2720851 | 0.18466978 | 0.03567042 | 0.17475321 |\n",
       "| chr1 | 30803 | 31072 | chr1_30803_31072 | 0.2351625 | 0.2547800 | 0.3507124 | 0.2980846 | 0.2363433 | 0.2894294 | 0.2947589 | 0.22570751 | 0.16646196 | 0.18021425 |\n",
       "\n"
      ],
      "text/plain": [
       "  Chrom Start End   Peak             Input.rep1 Input.rep2 Input.rep3\n",
       "1 chr1  10015 10442 chr1_10015_10442 0.4445145  0.4741124  0.5270940 \n",
       "2 chr1  14253 14645 chr1_14253_14645 0.3154619  0.3190289  0.3281519 \n",
       "3 chr1  16015 16477 chr1_16015_16477 0.4043648  0.4608195  0.4224956 \n",
       "4 chr1  17237 17772 chr1_17237_17772 0.7427693  0.7754175  0.8183288 \n",
       "5 chr1  28903 29613 chr1_28903_29613 0.7542407  0.7488318  0.7547494 \n",
       "6 chr1  30803 31072 chr1_30803_31072 0.2351625  0.2547800  0.3507124 \n",
       "  Input.rep4 Input.rep5 Input.rep6 Output.rep1 Output.rep2 Output.rep3\n",
       "1 0.5172645  0.4164144  0.5385903  0.1587163   0.12311319  0.04756056 \n",
       "2 0.3090436  0.2926155  0.3271810  0.1813901   0.26674523  0.35670420 \n",
       "3 0.4164418  0.4546795  0.4580534  0.2040638   0.09233489  0.21402252 \n",
       "4 0.8043902  0.8305780  0.8330532  0.1587163   0.13337262  0.27347322 \n",
       "5 0.7298690  0.7923129  0.7978183  0.2720851   0.18466978  0.03567042 \n",
       "6 0.2980846  0.2363433  0.2894294  0.2947589   0.22570751  0.16646196 \n",
       "  Output.rep4\n",
       "1 0.06007142 \n",
       "2 0.31127915 \n",
       "3 0.12560387 \n",
       "4 0.32220123 \n",
       "5 0.17475321 \n",
       "6 0.18021425 "
      ]
     },
     "metadata": {},
     "output_type": "display_data"
    }
   ],
   "source": [
    "head(dat_cpm)"
   ]
  },
  {
   "cell_type": "code",
   "execution_count": 16,
   "id": "c5d86855",
   "metadata": {},
   "outputs": [
    {
     "data": {
      "text/html": [
       "<table class=\"dataframe\">\n",
       "<caption>A tibble: 6 × 7</caption>\n",
       "<thead>\n",
       "\t<tr><th scope=col>Chrom</th><th scope=col>Start</th><th scope=col>End</th><th scope=col>Peak</th><th scope=col>Input</th><th scope=col>Output</th><th scope=col>log2FoldChange</th></tr>\n",
       "\t<tr><th scope=col>&lt;chr&gt;</th><th scope=col>&lt;dbl&gt;</th><th scope=col>&lt;dbl&gt;</th><th scope=col>&lt;chr&gt;</th><th scope=col>&lt;dbl&gt;</th><th scope=col>&lt;dbl&gt;</th><th scope=col>&lt;dbl&gt;</th></tr>\n",
       "</thead>\n",
       "<tbody>\n",
       "\t<tr><td>chr1</td><td>10015</td><td>10442</td><td>chr1_10015_10442</td><td>0.4863317</td><td>0.09736537</td><td>-2.3204599</td></tr>\n",
       "\t<tr><td>chr1</td><td>14253</td><td>14645</td><td>chr1_14253_14645</td><td>0.3152472</td><td>0.27902967</td><td>-0.1760648</td></tr>\n",
       "\t<tr><td>chr1</td><td>16015</td><td>16477</td><td>chr1_16015_16477</td><td>0.4361424</td><td>0.15900628</td><td>-1.4557156</td></tr>\n",
       "\t<tr><td>chr1</td><td>17237</td><td>17772</td><td>chr1_17237_17772</td><td>0.8007562</td><td>0.22194085</td><td>-1.8511878</td></tr>\n",
       "\t<tr><td>chr1</td><td>28903</td><td>29613</td><td>chr1_28903_29613</td><td>0.7629703</td><td>0.16679463</td><td>-2.1935541</td></tr>\n",
       "\t<tr><td>chr1</td><td>30803</td><td>31072</td><td>chr1_30803_31072</td><td>0.2774187</td><td>0.21678565</td><td>-0.3557958</td></tr>\n",
       "</tbody>\n",
       "</table>\n"
      ],
      "text/latex": [
       "A tibble: 6 × 7\n",
       "\\begin{tabular}{lllllll}\n",
       " Chrom & Start & End & Peak & Input & Output & log2FoldChange\\\\\n",
       " <chr> & <dbl> & <dbl> & <chr> & <dbl> & <dbl> & <dbl>\\\\\n",
       "\\hline\n",
       "\t chr1 & 10015 & 10442 & chr1\\_10015\\_10442 & 0.4863317 & 0.09736537 & -2.3204599\\\\\n",
       "\t chr1 & 14253 & 14645 & chr1\\_14253\\_14645 & 0.3152472 & 0.27902967 & -0.1760648\\\\\n",
       "\t chr1 & 16015 & 16477 & chr1\\_16015\\_16477 & 0.4361424 & 0.15900628 & -1.4557156\\\\\n",
       "\t chr1 & 17237 & 17772 & chr1\\_17237\\_17772 & 0.8007562 & 0.22194085 & -1.8511878\\\\\n",
       "\t chr1 & 28903 & 29613 & chr1\\_28903\\_29613 & 0.7629703 & 0.16679463 & -2.1935541\\\\\n",
       "\t chr1 & 30803 & 31072 & chr1\\_30803\\_31072 & 0.2774187 & 0.21678565 & -0.3557958\\\\\n",
       "\\end{tabular}\n"
      ],
      "text/markdown": [
       "\n",
       "A tibble: 6 × 7\n",
       "\n",
       "| Chrom &lt;chr&gt; | Start &lt;dbl&gt; | End &lt;dbl&gt; | Peak &lt;chr&gt; | Input &lt;dbl&gt; | Output &lt;dbl&gt; | log2FoldChange &lt;dbl&gt; |\n",
       "|---|---|---|---|---|---|---|\n",
       "| chr1 | 10015 | 10442 | chr1_10015_10442 | 0.4863317 | 0.09736537 | -2.3204599 |\n",
       "| chr1 | 14253 | 14645 | chr1_14253_14645 | 0.3152472 | 0.27902967 | -0.1760648 |\n",
       "| chr1 | 16015 | 16477 | chr1_16015_16477 | 0.4361424 | 0.15900628 | -1.4557156 |\n",
       "| chr1 | 17237 | 17772 | chr1_17237_17772 | 0.8007562 | 0.22194085 | -1.8511878 |\n",
       "| chr1 | 28903 | 29613 | chr1_28903_29613 | 0.7629703 | 0.16679463 | -2.1935541 |\n",
       "| chr1 | 30803 | 31072 | chr1_30803_31072 | 0.2774187 | 0.21678565 | -0.3557958 |\n",
       "\n"
      ],
      "text/plain": [
       "  Chrom Start End   Peak             Input     Output     log2FoldChange\n",
       "1 chr1  10015 10442 chr1_10015_10442 0.4863317 0.09736537 -2.3204599    \n",
       "2 chr1  14253 14645 chr1_14253_14645 0.3152472 0.27902967 -0.1760648    \n",
       "3 chr1  16015 16477 chr1_16015_16477 0.4361424 0.15900628 -1.4557156    \n",
       "4 chr1  17237 17772 chr1_17237_17772 0.8007562 0.22194085 -1.8511878    \n",
       "5 chr1  28903 29613 chr1_28903_29613 0.7629703 0.16679463 -2.1935541    \n",
       "6 chr1  30803 31072 chr1_30803_31072 0.2774187 0.21678565 -0.3557958    "
      ]
     },
     "metadata": {},
     "output_type": "display_data"
    }
   ],
   "source": [
    "head(dat_log2fc)"
   ]
  },
  {
   "cell_type": "code",
   "execution_count": 17,
   "id": "6ce01c5e",
   "metadata": {},
   "outputs": [
    {
     "data": {
      "text/html": [
       "<table class=\"dataframe\">\n",
       "<caption>A tibble: 0 × 14</caption>\n",
       "<thead>\n",
       "\t<tr><th scope=col>Chrom</th><th scope=col>Start</th><th scope=col>End</th><th scope=col>Peak</th><th scope=col>Input.rep1</th><th scope=col>Input.rep2</th><th scope=col>Input.rep3</th><th scope=col>Input.rep4</th><th scope=col>Input.rep5</th><th scope=col>Input.rep6</th><th scope=col>Output.rep1</th><th scope=col>Output.rep2</th><th scope=col>Output.rep3</th><th scope=col>Output.rep4</th></tr>\n",
       "\t<tr><th scope=col>&lt;chr&gt;</th><th scope=col>&lt;dbl&gt;</th><th scope=col>&lt;dbl&gt;</th><th scope=col>&lt;chr&gt;</th><th scope=col>&lt;dbl&gt;</th><th scope=col>&lt;dbl&gt;</th><th scope=col>&lt;dbl&gt;</th><th scope=col>&lt;dbl&gt;</th><th scope=col>&lt;dbl&gt;</th><th scope=col>&lt;dbl&gt;</th><th scope=col>&lt;dbl&gt;</th><th scope=col>&lt;dbl&gt;</th><th scope=col>&lt;dbl&gt;</th><th scope=col>&lt;dbl&gt;</th></tr>\n",
       "</thead>\n",
       "<tbody>\n",
       "</tbody>\n",
       "</table>\n"
      ],
      "text/latex": [
       "A tibble: 0 × 14\n",
       "\\begin{tabular}{llllllllllllll}\n",
       " Chrom & Start & End & Peak & Input.rep1 & Input.rep2 & Input.rep3 & Input.rep4 & Input.rep5 & Input.rep6 & Output.rep1 & Output.rep2 & Output.rep3 & Output.rep4\\\\\n",
       " <chr> & <dbl> & <dbl> & <chr> & <dbl> & <dbl> & <dbl> & <dbl> & <dbl> & <dbl> & <dbl> & <dbl> & <dbl> & <dbl>\\\\\n",
       "\\hline\n",
       "\\end{tabular}\n"
      ],
      "text/markdown": [
       "\n",
       "A tibble: 0 × 14\n",
       "\n",
       "| Chrom &lt;chr&gt; | Start &lt;dbl&gt; | End &lt;dbl&gt; | Peak &lt;chr&gt; | Input.rep1 &lt;dbl&gt; | Input.rep2 &lt;dbl&gt; | Input.rep3 &lt;dbl&gt; | Input.rep4 &lt;dbl&gt; | Input.rep5 &lt;dbl&gt; | Input.rep6 &lt;dbl&gt; | Output.rep1 &lt;dbl&gt; | Output.rep2 &lt;dbl&gt; | Output.rep3 &lt;dbl&gt; | Output.rep4 &lt;dbl&gt; |\n",
       "|---|---|---|---|---|---|---|---|---|---|---|---|---|---|\n",
       "\n"
      ],
      "text/plain": [
       "     Chrom Start End Peak Input.rep1 Input.rep2 Input.rep3 Input.rep4\n",
       "     Input.rep5 Input.rep6 Output.rep1 Output.rep2 Output.rep3 Output.rep4"
      ]
     },
     "metadata": {},
     "output_type": "display_data"
    }
   ],
   "source": [
    "dat_cpm %>% dplyr::filter(is.na(Input.rep1))"
   ]
  },
  {
   "cell_type": "code",
   "execution_count": 18,
   "id": "a3d94601",
   "metadata": {},
   "outputs": [
    {
     "data": {
      "text/html": [
       "<table class=\"dataframe\">\n",
       "<caption>A tibble: 0 × 7</caption>\n",
       "<thead>\n",
       "\t<tr><th scope=col>Chrom</th><th scope=col>Start</th><th scope=col>End</th><th scope=col>Peak</th><th scope=col>Input</th><th scope=col>Output</th><th scope=col>log2FoldChange</th></tr>\n",
       "\t<tr><th scope=col>&lt;chr&gt;</th><th scope=col>&lt;dbl&gt;</th><th scope=col>&lt;dbl&gt;</th><th scope=col>&lt;chr&gt;</th><th scope=col>&lt;dbl&gt;</th><th scope=col>&lt;dbl&gt;</th><th scope=col>&lt;dbl&gt;</th></tr>\n",
       "</thead>\n",
       "<tbody>\n",
       "</tbody>\n",
       "</table>\n"
      ],
      "text/latex": [
       "A tibble: 0 × 7\n",
       "\\begin{tabular}{lllllll}\n",
       " Chrom & Start & End & Peak & Input & Output & log2FoldChange\\\\\n",
       " <chr> & <dbl> & <dbl> & <chr> & <dbl> & <dbl> & <dbl>\\\\\n",
       "\\hline\n",
       "\\end{tabular}\n"
      ],
      "text/markdown": [
       "\n",
       "A tibble: 0 × 7\n",
       "\n",
       "| Chrom &lt;chr&gt; | Start &lt;dbl&gt; | End &lt;dbl&gt; | Peak &lt;chr&gt; | Input &lt;dbl&gt; | Output &lt;dbl&gt; | log2FoldChange &lt;dbl&gt; |\n",
       "|---|---|---|---|---|---|---|\n",
       "\n"
      ],
      "text/plain": [
       "     Chrom Start End Peak Input Output log2FoldChange"
      ]
     },
     "metadata": {},
     "output_type": "display_data"
    }
   ],
   "source": [
    "dat_log2fc %>% dplyr::filter(is.na(Input))"
   ]
  },
  {
   "cell_type": "markdown",
   "id": "7b20d2e6",
   "metadata": {},
   "source": [
    "## Store the results"
   ]
  },
  {
   "cell_type": "code",
   "execution_count": 19,
   "id": "fb42db91",
   "metadata": {},
   "outputs": [],
   "source": [
    "fdiry = file.path(FD_RES, \"results\", ASSAY, FOLDER, \"summary\")\n",
    "\n",
    "fname = \"matrix.raw.count.WGS.tsv\"\n",
    "fpath = file.path(fdiry, fname)\n",
    "write_tsv(dat_count, fpath)\n",
    "\n",
    "fname = \"matrix.raw.cpm.WGS.tsv\"\n",
    "fpath = file.path(fdiry, fname)\n",
    "write_tsv(dat_cpm, fpath)\n",
    "\n",
    "fname = \"metadata.raw.WGS.tsv\"\n",
    "fpath = file.path(fdiry, fname)\n",
    "write_tsv(dat_meta, fpath)\n",
    "\n",
    "fname = \"result.Log2FC.raw.cpm.WGS.tsv\"\n",
    "fpath = file.path(fdiry, fname)\n",
    "write_tsv(dat_log2fc, fpath)"
   ]
  },
  {
   "cell_type": "code",
   "execution_count": null,
   "id": "970d8ece",
   "metadata": {},
   "outputs": [],
   "source": []
  }
 ],
 "metadata": {
  "kernelspec": {
   "display_name": "R (alex_py3)",
   "language": "R",
   "name": "ir_alex_py3"
  },
  "language_info": {
   "codemirror_mode": "r",
   "file_extension": ".r",
   "mimetype": "text/x-r-source",
   "name": "R",
   "pygments_lexer": "r",
   "version": "3.6.2"
  }
 },
 "nbformat": 4,
 "nbformat_minor": 5
}
