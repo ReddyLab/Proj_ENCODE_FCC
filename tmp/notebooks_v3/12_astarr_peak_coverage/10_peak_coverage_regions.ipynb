{
 "cells": [
  {
   "cell_type": "markdown",
   "id": "631dd3b9",
   "metadata": {},
   "source": [
    "**Set environment**"
   ]
  },
  {
   "cell_type": "code",
   "execution_count": 1,
   "id": "02f6c7c4",
   "metadata": {},
   "outputs": [
    {
     "name": "stdout",
     "output_type": "stream",
     "text": [
      "You are in Singularity: singularity_proj_combeffect \n",
      "BASE DIRECTORY:     /data/reddylab/Kuei \n",
      "WORK DIRECTORY:     /data/reddylab/Kuei/out \n",
      "CODE DIRECTORY:     /data/reddylab/Kuei/code \n",
      "PATH OF SOURCE:     /data/reddylab/Kuei/source \n",
      "PATH OF EXECUTABLE: /data/reddylab/Kuei/bin \n",
      "PATH OF ANNOTATION: /data/reddylab/Kuei/annotation \n",
      "PATH OF PROJECT:    /data/reddylab/Kuei/code/Proj_CombEffect_ENCODE_FCC \n",
      "PATH OF RESULTS:    /data/reddylab/Kuei/out/proj_combeffect_encode_fcc \n"
     ]
    }
   ],
   "source": [
    "suppressMessages(suppressWarnings(source(\"../config/config_sing.R\")))\n",
    "show_env()"
   ]
  },
  {
   "cell_type": "markdown",
   "id": "803f74c7",
   "metadata": {},
   "source": [
    "## Import all regions"
   ]
  },
  {
   "cell_type": "code",
   "execution_count": 2,
   "id": "97f21076",
   "metadata": {},
   "outputs": [
    {
     "name": "stdout",
     "output_type": "stream",
     "text": [
      "/data/reddylab/Kuei/out/proj_combeffect_encode_fcc/results/Tewhey_K562_TileMPRA/coverage_astarrseq_peak_macs_input/summary/result.Log2FC.raw.deseq.GATA1.tsv \n"
     ]
    },
    {
     "name": "stderr",
     "output_type": "stream",
     "text": [
      "\u001b[1mRows: \u001b[22m\u001b[34m206\u001b[39m \u001b[1mColumns: \u001b[22m\u001b[34m7\u001b[39m\n",
      "\u001b[36m──\u001b[39m \u001b[1mColumn specification\u001b[22m \u001b[36m──────────────────────────────────────────────────────────────────────\u001b[39m\n",
      "\u001b[1mDelimiter:\u001b[22m \"\\t\"\n",
      "\u001b[31mchr\u001b[39m (1): Peak\n",
      "\u001b[32mdbl\u001b[39m (6): baseMean, log2FoldChange, lfcSE, stat, pvalue, padj\n",
      "\n",
      "\u001b[36mℹ\u001b[39m Use `spec()` to retrieve the full column specification for this data.\n",
      "\u001b[36mℹ\u001b[39m Specify the column types or set `show_col_types = FALSE` to quiet this message.\n"
     ]
    },
    {
     "name": "stdout",
     "output_type": "stream",
     "text": [
      "\u001b[90m# A tibble: 6 × 9\u001b[39m\n",
      "  Peak            baseM…¹ log2F…²  lfcSE   stat    pvalue      padj Assay Region\n",
      "  \u001b[3m\u001b[90m<chr>\u001b[39m\u001b[23m             \u001b[3m\u001b[90m<dbl>\u001b[39m\u001b[23m   \u001b[3m\u001b[90m<dbl>\u001b[39m\u001b[23m  \u001b[3m\u001b[90m<dbl>\u001b[39m\u001b[23m  \u001b[3m\u001b[90m<dbl>\u001b[39m\u001b[23m     \u001b[3m\u001b[90m<dbl>\u001b[39m\u001b[23m     \u001b[3m\u001b[90m<dbl>\u001b[39m\u001b[23m \u001b[3m\u001b[90m<chr>\u001b[39m\u001b[23m \u001b[3m\u001b[90m<chr>\u001b[39m\u001b[23m \n",
      "\u001b[90m1\u001b[39m chrX_47796208_…  \u001b[4m1\u001b[24m\u001b[4m0\u001b[24m514.  0.953  0.082\u001b[4m1\u001b[24m 11.6   3.73\u001b[90me\u001b[39m\u001b[31m- 31\u001b[39m 4.66\u001b[90me\u001b[39m\u001b[31m- 31\u001b[39m Tewh… GATA1 \n",
      "\u001b[90m2\u001b[39m chrX_47806139_…  \u001b[4m2\u001b[24m\u001b[4m4\u001b[24m158.  0.025\u001b[4m6\u001b[24m 0.028\u001b[4m1\u001b[24m  0.908 3.64\u001b[90me\u001b[39m\u001b[31m-  1\u001b[39m 3.67\u001b[90me\u001b[39m\u001b[31m-  1\u001b[39m Tewh… GATA1 \n",
      "\u001b[90m3\u001b[39m chrX_47809119_…   \u001b[4m7\u001b[24m456.  2.44   0.034\u001b[4m1\u001b[24m 71.5   0   \u001b[90m \u001b[39m     0   \u001b[90m \u001b[39m     Tewh… GATA1 \n",
      "\u001b[90m4\u001b[39m chrX_47814810_…  \u001b[4m1\u001b[24m\u001b[4m0\u001b[24m298.  0.722  0.029\u001b[4m5\u001b[24m 24.4   9.29\u001b[90me\u001b[39m\u001b[31m-132\u001b[39m 1.59\u001b[90me\u001b[39m\u001b[31m-131\u001b[39m Tewh… GATA1 \n",
      "\u001b[90m5\u001b[39m chrX_47816459_…  \u001b[4m2\u001b[24m\u001b[4m9\u001b[24m919.  0.942  0.052\u001b[4m4\u001b[24m 18.0   3.76\u001b[90me\u001b[39m\u001b[31m- 72\u001b[39m 5.38\u001b[90me\u001b[39m\u001b[31m- 72\u001b[39m Tewh… GATA1 \n",
      "\u001b[90m6\u001b[39m chrX_47836113_…  \u001b[4m4\u001b[24m\u001b[4m5\u001b[24m601.  2.98   0.048\u001b[4m4\u001b[24m 61.5   0   \u001b[90m \u001b[39m     0   \u001b[90m \u001b[39m     Tewh… GATA1 \n",
      "\u001b[90m# … with abbreviated variable names ¹​baseMean, ²​log2FoldChange\u001b[39m\n",
      "\n",
      "/data/reddylab/Kuei/out/proj_combeffect_encode_fcc/results/Tewhey_K562_TileMPRA/coverage_astarrseq_peak_macs_input/summary/result.Log2FC.raw.deseq.MYC.tsv \n"
     ]
    },
    {
     "name": "stderr",
     "output_type": "stream",
     "text": [
      "\u001b[1mRows: \u001b[22m\u001b[34m188\u001b[39m \u001b[1mColumns: \u001b[22m\u001b[34m7\u001b[39m\n",
      "\u001b[36m──\u001b[39m \u001b[1mColumn specification\u001b[22m \u001b[36m──────────────────────────────────────────────────────────────────────\u001b[39m\n",
      "\u001b[1mDelimiter:\u001b[22m \"\\t\"\n",
      "\u001b[31mchr\u001b[39m (1): Peak\n",
      "\u001b[32mdbl\u001b[39m (6): baseMean, log2FoldChange, lfcSE, stat, pvalue, padj\n",
      "\n",
      "\u001b[36mℹ\u001b[39m Use `spec()` to retrieve the full column specification for this data.\n",
      "\u001b[36mℹ\u001b[39m Specify the column types or set `show_col_types = FALSE` to quiet this message.\n"
     ]
    },
    {
     "name": "stdout",
     "output_type": "stream",
     "text": [
      "\u001b[90m# A tibble: 6 × 9\u001b[39m\n",
      "  Peak            baseM…¹ log2F…²  lfcSE   stat    pvalue      padj Assay Region\n",
      "  \u001b[3m\u001b[90m<chr>\u001b[39m\u001b[23m             \u001b[3m\u001b[90m<dbl>\u001b[39m\u001b[23m   \u001b[3m\u001b[90m<dbl>\u001b[39m\u001b[23m  \u001b[3m\u001b[90m<dbl>\u001b[39m\u001b[23m  \u001b[3m\u001b[90m<dbl>\u001b[39m\u001b[23m     \u001b[3m\u001b[90m<dbl>\u001b[39m\u001b[23m     \u001b[3m\u001b[90m<dbl>\u001b[39m\u001b[23m \u001b[3m\u001b[90m<chr>\u001b[39m\u001b[23m \u001b[3m\u001b[90m<chr>\u001b[39m\u001b[23m \n",
      "\u001b[90m1\u001b[39m chr8_126778902…  \u001b[4m2\u001b[24m\u001b[4m1\u001b[24m735.  2.05   0.086\u001b[4m4\u001b[24m  23.7  8.49\u001b[90me\u001b[39m\u001b[31m-124\u001b[39m 2.19\u001b[90me\u001b[39m\u001b[31m-123\u001b[39m Tewh… MYC   \n",
      "\u001b[90m2\u001b[39m chr8_126782925…   \u001b[4m2\u001b[24m581. -\u001b[31m0\u001b[39m\u001b[31m.\u001b[39m\u001b[31m0\u001b[39m\u001b[31m96\u001b[4m6\u001b[24m\u001b[39m 0.039\u001b[4m6\u001b[24m  -\u001b[31m2\u001b[39m\u001b[31m.\u001b[39m\u001b[31m44\u001b[39m 1.47\u001b[90me\u001b[39m\u001b[31m-  2\u001b[39m 1.55\u001b[90me\u001b[39m\u001b[31m-  2\u001b[39m Tewh… MYC   \n",
      "\u001b[90m3\u001b[39m chr8_126804776…  \u001b[4m3\u001b[24m\u001b[4m3\u001b[24m669.  1.98   0.042\u001b[4m5\u001b[24m  46.5  0   \u001b[90m \u001b[39m     0   \u001b[90m \u001b[39m     Tewh… MYC   \n",
      "\u001b[90m4\u001b[39m chr8_126817018…   \u001b[4m8\u001b[24m156. -\u001b[31m0\u001b[39m\u001b[31m.\u001b[39m\u001b[31m237\u001b[39m  0.020\u001b[4m5\u001b[24m -\u001b[31m11\u001b[39m\u001b[31m.\u001b[39m\u001b[31m6\u001b[39m  6.83\u001b[90me\u001b[39m\u001b[31m- 31\u001b[39m 9.30\u001b[90me\u001b[39m\u001b[31m- 31\u001b[39m Tewh… MYC   \n",
      "\u001b[90m5\u001b[39m chr8_126820465…  \u001b[4m1\u001b[24m\u001b[4m5\u001b[24m556.  0.201  0.019\u001b[4m9\u001b[24m  10.1  4.96\u001b[90me\u001b[39m\u001b[31m- 24\u001b[39m 6.47\u001b[90me\u001b[39m\u001b[31m- 24\u001b[39m Tewh… MYC   \n",
      "\u001b[90m6\u001b[39m chr8_126824093…  \u001b[4m6\u001b[24m\u001b[4m1\u001b[24m285.  2.10   0.055\u001b[4m7\u001b[24m  37.6  0   \u001b[90m \u001b[39m     0   \u001b[90m \u001b[39m     Tewh… MYC   \n",
      "\u001b[90m# … with abbreviated variable names ¹​baseMean, ²​log2FoldChange\u001b[39m\n",
      "\n",
      "/data/reddylab/Kuei/out/proj_combeffect_encode_fcc/results/Tewhey_K562_TileMPRA/coverage_astarrseq_peak_macs_input/summary/result.Log2FC.raw.deseq.FADS.tsv \n"
     ]
    },
    {
     "name": "stderr",
     "output_type": "stream",
     "text": [
      "\u001b[1mRows: \u001b[22m\u001b[34m23\u001b[39m \u001b[1mColumns: \u001b[22m\u001b[34m7\u001b[39m\n",
      "\u001b[36m──\u001b[39m \u001b[1mColumn specification\u001b[22m \u001b[36m──────────────────────────────────────────────────────────────────────\u001b[39m\n",
      "\u001b[1mDelimiter:\u001b[22m \"\\t\"\n",
      "\u001b[31mchr\u001b[39m (1): Peak\n",
      "\u001b[32mdbl\u001b[39m (6): baseMean, log2FoldChange, lfcSE, stat, pvalue, padj\n",
      "\n",
      "\u001b[36mℹ\u001b[39m Use `spec()` to retrieve the full column specification for this data.\n",
      "\u001b[36mℹ\u001b[39m Specify the column types or set `show_col_types = FALSE` to quiet this message.\n"
     ]
    },
    {
     "name": "stdout",
     "output_type": "stream",
     "text": [
      "\u001b[90m# A tibble: 6 × 9\u001b[39m\n",
      "  Peak            baseM…¹ log2F…²  lfcSE   stat    pvalue      padj Assay Region\n",
      "  \u001b[3m\u001b[90m<chr>\u001b[39m\u001b[23m             \u001b[3m\u001b[90m<dbl>\u001b[39m\u001b[23m   \u001b[3m\u001b[90m<dbl>\u001b[39m\u001b[23m  \u001b[3m\u001b[90m<dbl>\u001b[39m\u001b[23m  \u001b[3m\u001b[90m<dbl>\u001b[39m\u001b[23m     \u001b[3m\u001b[90m<dbl>\u001b[39m\u001b[23m     \u001b[3m\u001b[90m<dbl>\u001b[39m\u001b[23m \u001b[3m\u001b[90m<chr>\u001b[39m\u001b[23m \u001b[3m\u001b[90m<chr>\u001b[39m\u001b[23m \n",
      "\u001b[90m1\u001b[39m chr11_61554569… \u001b[4m1\u001b[24m\u001b[4m0\u001b[24m\u001b[4m1\u001b[24m493. -\u001b[31m0\u001b[39m\u001b[31m.\u001b[39m\u001b[31m153\u001b[39m  0.020\u001b[4m1\u001b[24m  -\u001b[31m7\u001b[39m\u001b[31m.\u001b[39m\u001b[31m63\u001b[39m 2.29\u001b[90me\u001b[39m\u001b[31m- 14\u001b[39m 4.06\u001b[90me\u001b[39m\u001b[31m- 14\u001b[39m Tewh… FADS  \n",
      "\u001b[90m2\u001b[39m chr11_61560645…  \u001b[4m5\u001b[24m\u001b[4m7\u001b[24m738. -\u001b[31m0\u001b[39m\u001b[31m.\u001b[39m\u001b[31m446\u001b[39m  0.036\u001b[4m6\u001b[24m -\u001b[31m12\u001b[39m\u001b[31m.\u001b[39m\u001b[31m2\u001b[39m  3.86\u001b[90me\u001b[39m\u001b[31m- 34\u001b[39m 8.89\u001b[90me\u001b[39m\u001b[31m- 34\u001b[39m Tewh… FADS  \n",
      "\u001b[90m3\u001b[39m chr11_61567108…  \u001b[4m6\u001b[24m\u001b[4m8\u001b[24m028.  0.238  0.036\u001b[4m1\u001b[24m   6.60 4.12\u001b[90me\u001b[39m\u001b[31m- 11\u001b[39m 6.76\u001b[90me\u001b[39m\u001b[31m- 11\u001b[39m Tewh… FADS  \n",
      "\u001b[90m4\u001b[39m chr11_61580592… \u001b[4m1\u001b[24m\u001b[4m9\u001b[24m\u001b[4m9\u001b[24m510.  1.98   0.067\u001b[4m9\u001b[24m  29.2  4.10\u001b[90me\u001b[39m\u001b[31m-187\u001b[39m 4.72\u001b[90me\u001b[39m\u001b[31m-186\u001b[39m Tewh… FADS  \n",
      "\u001b[90m5\u001b[39m chr11_61587170…  \u001b[4m8\u001b[24m\u001b[4m3\u001b[24m729.  0.099\u001b[4m0\u001b[24m 0.017\u001b[4m7\u001b[24m   5.58 2.36\u001b[90me\u001b[39m\u001b[31m-  8\u001b[39m 3.62\u001b[90me\u001b[39m\u001b[31m-  8\u001b[39m Tewh… FADS  \n",
      "\u001b[90m6\u001b[39m chr11_61594868… \u001b[4m2\u001b[24m\u001b[4m2\u001b[24m\u001b[4m0\u001b[24m305.  2.31   0.088\u001b[4m8\u001b[24m  26.0  4.09\u001b[90me\u001b[39m\u001b[31m-149\u001b[39m 3.13\u001b[90me\u001b[39m\u001b[31m-148\u001b[39m Tewh… FADS  \n",
      "\u001b[90m# … with abbreviated variable names ¹​baseMean, ²​log2FoldChange\u001b[39m\n",
      "\n"
     ]
    }
   ],
   "source": [
    "ASSAY   = \"Tewhey_K562_TileMPRA\"\n",
    "REGIONS = c(\"GATA1\", \"MYC\", \"FADS\")\n",
    "TYPE    = \"raw\"\n",
    "PROCESS = \"deseq\"\n",
    "FOLDER  = \"coverage_astarrseq_peak_macs_input\"\n",
    "\n",
    "fdiry = file.path(FD_RES, \"results\", ASSAY, FOLDER, \"summary\")\n",
    "lst = lapply(REGIONS, function(REGION){\n",
    "    ### set file path\n",
    "    fname = paste(\"result\", \"Log2FC\", TYPE, PROCESS, REGION, \"tsv\", sep=\".\")\n",
    "    fpath = file.path(fdiry, fname)\n",
    "    cat(fpath, \"\\n\")\n",
    "\n",
    "    ### import data\n",
    "    dat = read_tsv(fpath) %>% dplyr::mutate(Assay = ASSAY, Region = REGION)\n",
    "    print(head(dat))\n",
    "    cat(\"\\n\")\n",
    "    return(dat)\n",
    "})\n",
    "names(lst) = REGIONS\n",
    "\n",
    "lst_log2fc_tmpra = lst\n",
    "dat_log2fc_tmpra = bind_rows(lst)"
   ]
  },
  {
   "cell_type": "code",
   "execution_count": 3,
   "id": "53d3f357",
   "metadata": {},
   "outputs": [
    {
     "data": {
      "text/html": [
       "<table class=\"dataframe\">\n",
       "<caption>A tibble: 6 × 9</caption>\n",
       "<thead>\n",
       "\t<tr><th scope=col>Peak</th><th scope=col>baseMean</th><th scope=col>log2FoldChange</th><th scope=col>lfcSE</th><th scope=col>stat</th><th scope=col>pvalue</th><th scope=col>padj</th><th scope=col>Assay</th><th scope=col>Region</th></tr>\n",
       "\t<tr><th scope=col>&lt;chr&gt;</th><th scope=col>&lt;dbl&gt;</th><th scope=col>&lt;dbl&gt;</th><th scope=col>&lt;dbl&gt;</th><th scope=col>&lt;dbl&gt;</th><th scope=col>&lt;dbl&gt;</th><th scope=col>&lt;dbl&gt;</th><th scope=col>&lt;chr&gt;</th><th scope=col>&lt;chr&gt;</th></tr>\n",
       "</thead>\n",
       "<tbody>\n",
       "\t<tr><td>chrX_47796208_47796828</td><td>10513.875</td><td>0.95281868</td><td>0.08207970</td><td>11.6084570</td><td> 3.732910e-31</td><td> 4.660482e-31</td><td>Tewhey_K562_TileMPRA</td><td>GATA1</td></tr>\n",
       "\t<tr><td>chrX_47806139_47808167</td><td>24157.939</td><td>0.02557172</td><td>0.02814903</td><td> 0.9084403</td><td> 3.636456e-01</td><td> 3.672108e-01</td><td>Tewhey_K562_TileMPRA</td><td>GATA1</td></tr>\n",
       "\t<tr><td>chrX_47809119_47809445</td><td> 7455.885</td><td>2.43603768</td><td>0.03405452</td><td>71.5334643</td><td> 0.000000e+00</td><td> 0.000000e+00</td><td>Tewhey_K562_TileMPRA</td><td>GATA1</td></tr>\n",
       "\t<tr><td>chrX_47814810_47815443</td><td>10298.260</td><td>0.72157768</td><td>0.02954264</td><td>24.4249592</td><td>9.289171e-132</td><td>1.594641e-131</td><td>Tewhey_K562_TileMPRA</td><td>GATA1</td></tr>\n",
       "\t<tr><td>chrX_47816459_47818070</td><td>29919.229</td><td>0.94178695</td><td>0.05242764</td><td>17.9635575</td><td> 3.759239e-72</td><td> 5.377800e-72</td><td>Tewhey_K562_TileMPRA</td><td>GATA1</td></tr>\n",
       "\t<tr><td>chrX_47836113_47837157</td><td>45600.703</td><td>2.97943519</td><td>0.04843894</td><td>61.5090955</td><td> 0.000000e+00</td><td> 0.000000e+00</td><td>Tewhey_K562_TileMPRA</td><td>GATA1</td></tr>\n",
       "</tbody>\n",
       "</table>\n"
      ],
      "text/latex": [
       "A tibble: 6 × 9\n",
       "\\begin{tabular}{lllllllll}\n",
       " Peak & baseMean & log2FoldChange & lfcSE & stat & pvalue & padj & Assay & Region\\\\\n",
       " <chr> & <dbl> & <dbl> & <dbl> & <dbl> & <dbl> & <dbl> & <chr> & <chr>\\\\\n",
       "\\hline\n",
       "\t chrX\\_47796208\\_47796828 & 10513.875 & 0.95281868 & 0.08207970 & 11.6084570 &  3.732910e-31 &  4.660482e-31 & Tewhey\\_K562\\_TileMPRA & GATA1\\\\\n",
       "\t chrX\\_47806139\\_47808167 & 24157.939 & 0.02557172 & 0.02814903 &  0.9084403 &  3.636456e-01 &  3.672108e-01 & Tewhey\\_K562\\_TileMPRA & GATA1\\\\\n",
       "\t chrX\\_47809119\\_47809445 &  7455.885 & 2.43603768 & 0.03405452 & 71.5334643 &  0.000000e+00 &  0.000000e+00 & Tewhey\\_K562\\_TileMPRA & GATA1\\\\\n",
       "\t chrX\\_47814810\\_47815443 & 10298.260 & 0.72157768 & 0.02954264 & 24.4249592 & 9.289171e-132 & 1.594641e-131 & Tewhey\\_K562\\_TileMPRA & GATA1\\\\\n",
       "\t chrX\\_47816459\\_47818070 & 29919.229 & 0.94178695 & 0.05242764 & 17.9635575 &  3.759239e-72 &  5.377800e-72 & Tewhey\\_K562\\_TileMPRA & GATA1\\\\\n",
       "\t chrX\\_47836113\\_47837157 & 45600.703 & 2.97943519 & 0.04843894 & 61.5090955 &  0.000000e+00 &  0.000000e+00 & Tewhey\\_K562\\_TileMPRA & GATA1\\\\\n",
       "\\end{tabular}\n"
      ],
      "text/markdown": [
       "\n",
       "A tibble: 6 × 9\n",
       "\n",
       "| Peak &lt;chr&gt; | baseMean &lt;dbl&gt; | log2FoldChange &lt;dbl&gt; | lfcSE &lt;dbl&gt; | stat &lt;dbl&gt; | pvalue &lt;dbl&gt; | padj &lt;dbl&gt; | Assay &lt;chr&gt; | Region &lt;chr&gt; |\n",
       "|---|---|---|---|---|---|---|---|---|\n",
       "| chrX_47796208_47796828 | 10513.875 | 0.95281868 | 0.08207970 | 11.6084570 |  3.732910e-31 |  4.660482e-31 | Tewhey_K562_TileMPRA | GATA1 |\n",
       "| chrX_47806139_47808167 | 24157.939 | 0.02557172 | 0.02814903 |  0.9084403 |  3.636456e-01 |  3.672108e-01 | Tewhey_K562_TileMPRA | GATA1 |\n",
       "| chrX_47809119_47809445 |  7455.885 | 2.43603768 | 0.03405452 | 71.5334643 |  0.000000e+00 |  0.000000e+00 | Tewhey_K562_TileMPRA | GATA1 |\n",
       "| chrX_47814810_47815443 | 10298.260 | 0.72157768 | 0.02954264 | 24.4249592 | 9.289171e-132 | 1.594641e-131 | Tewhey_K562_TileMPRA | GATA1 |\n",
       "| chrX_47816459_47818070 | 29919.229 | 0.94178695 | 0.05242764 | 17.9635575 |  3.759239e-72 |  5.377800e-72 | Tewhey_K562_TileMPRA | GATA1 |\n",
       "| chrX_47836113_47837157 | 45600.703 | 2.97943519 | 0.04843894 | 61.5090955 |  0.000000e+00 |  0.000000e+00 | Tewhey_K562_TileMPRA | GATA1 |\n",
       "\n"
      ],
      "text/plain": [
       "  Peak                   baseMean  log2FoldChange lfcSE      stat      \n",
       "1 chrX_47796208_47796828 10513.875 0.95281868     0.08207970 11.6084570\n",
       "2 chrX_47806139_47808167 24157.939 0.02557172     0.02814903  0.9084403\n",
       "3 chrX_47809119_47809445  7455.885 2.43603768     0.03405452 71.5334643\n",
       "4 chrX_47814810_47815443 10298.260 0.72157768     0.02954264 24.4249592\n",
       "5 chrX_47816459_47818070 29919.229 0.94178695     0.05242764 17.9635575\n",
       "6 chrX_47836113_47837157 45600.703 2.97943519     0.04843894 61.5090955\n",
       "  pvalue        padj          Assay                Region\n",
       "1  3.732910e-31  4.660482e-31 Tewhey_K562_TileMPRA GATA1 \n",
       "2  3.636456e-01  3.672108e-01 Tewhey_K562_TileMPRA GATA1 \n",
       "3  0.000000e+00  0.000000e+00 Tewhey_K562_TileMPRA GATA1 \n",
       "4 9.289171e-132 1.594641e-131 Tewhey_K562_TileMPRA GATA1 \n",
       "5  3.759239e-72  5.377800e-72 Tewhey_K562_TileMPRA GATA1 \n",
       "6  0.000000e+00  0.000000e+00 Tewhey_K562_TileMPRA GATA1 "
      ]
     },
     "metadata": {},
     "output_type": "display_data"
    }
   ],
   "source": [
    "head(dat_log2fc_tmpra)"
   ]
  },
  {
   "cell_type": "markdown",
   "id": "a4322c19",
   "metadata": {},
   "source": [
    "## Arrange the peak & region information"
   ]
  },
  {
   "cell_type": "code",
   "execution_count": 6,
   "id": "2c07a0ff",
   "metadata": {},
   "outputs": [
    {
     "name": "stdout",
     "output_type": "stream",
     "text": [
      " [1] \"chr1\"  \"chr2\"  \"chr3\"  \"chr4\"  \"chr5\"  \"chr6\"  \"chr7\"  \"chr8\"  \"chr9\" \n",
      "[10] \"chr10\" \"chr11\" \"chr12\" \"chr13\" \"chr14\" \"chr15\" \"chr16\" \"chr17\" \"chr18\"\n",
      "[19] \"chr19\" \"chr20\" \"chr21\" \"chr22\" \"chrX\"  \"chrY\" \n"
     ]
    }
   ],
   "source": [
    "CHROMS = paste0(\"chr\", c(1:22, \"X\", \"Y\"))\n",
    "print(CHROMS)"
   ]
  },
  {
   "cell_type": "code",
   "execution_count": 8,
   "id": "e49a6371",
   "metadata": {},
   "outputs": [
    {
     "name": "stdout",
     "output_type": "stream",
     "text": [
      "[1] 417   5\n"
     ]
    },
    {
     "data": {
      "text/html": [
       "<table class=\"dataframe\">\n",
       "<caption>A tibble: 6 × 5</caption>\n",
       "<thead>\n",
       "\t<tr><th scope=col>Chrom</th><th scope=col>Start</th><th scope=col>End</th><th scope=col>Peak</th><th scope=col>Region</th></tr>\n",
       "\t<tr><th scope=col>&lt;fct&gt;</th><th scope=col>&lt;int&gt;</th><th scope=col>&lt;int&gt;</th><th scope=col>&lt;chr&gt;</th><th scope=col>&lt;chr&gt;</th></tr>\n",
       "</thead>\n",
       "<tbody>\n",
       "\t<tr><td>chr8</td><td>126778902</td><td>126779728</td><td>chr8_126778902_126779728</td><td>MYC</td></tr>\n",
       "\t<tr><td>chr8</td><td>126782925</td><td>126783318</td><td>chr8_126782925_126783318</td><td>MYC</td></tr>\n",
       "\t<tr><td>chr8</td><td>126804776</td><td>126805825</td><td>chr8_126804776_126805825</td><td>MYC</td></tr>\n",
       "\t<tr><td>chr8</td><td>126817018</td><td>126817490</td><td>chr8_126817018_126817490</td><td>MYC</td></tr>\n",
       "\t<tr><td>chr8</td><td>126820465</td><td>126821393</td><td>chr8_126820465_126821393</td><td>MYC</td></tr>\n",
       "\t<tr><td>chr8</td><td>126824093</td><td>126824987</td><td>chr8_126824093_126824987</td><td>MYC</td></tr>\n",
       "</tbody>\n",
       "</table>\n"
      ],
      "text/latex": [
       "A tibble: 6 × 5\n",
       "\\begin{tabular}{lllll}\n",
       " Chrom & Start & End & Peak & Region\\\\\n",
       " <fct> & <int> & <int> & <chr> & <chr>\\\\\n",
       "\\hline\n",
       "\t chr8 & 126778902 & 126779728 & chr8\\_126778902\\_126779728 & MYC\\\\\n",
       "\t chr8 & 126782925 & 126783318 & chr8\\_126782925\\_126783318 & MYC\\\\\n",
       "\t chr8 & 126804776 & 126805825 & chr8\\_126804776\\_126805825 & MYC\\\\\n",
       "\t chr8 & 126817018 & 126817490 & chr8\\_126817018\\_126817490 & MYC\\\\\n",
       "\t chr8 & 126820465 & 126821393 & chr8\\_126820465\\_126821393 & MYC\\\\\n",
       "\t chr8 & 126824093 & 126824987 & chr8\\_126824093\\_126824987 & MYC\\\\\n",
       "\\end{tabular}\n"
      ],
      "text/markdown": [
       "\n",
       "A tibble: 6 × 5\n",
       "\n",
       "| Chrom &lt;fct&gt; | Start &lt;int&gt; | End &lt;int&gt; | Peak &lt;chr&gt; | Region &lt;chr&gt; |\n",
       "|---|---|---|---|---|\n",
       "| chr8 | 126778902 | 126779728 | chr8_126778902_126779728 | MYC |\n",
       "| chr8 | 126782925 | 126783318 | chr8_126782925_126783318 | MYC |\n",
       "| chr8 | 126804776 | 126805825 | chr8_126804776_126805825 | MYC |\n",
       "| chr8 | 126817018 | 126817490 | chr8_126817018_126817490 | MYC |\n",
       "| chr8 | 126820465 | 126821393 | chr8_126820465_126821393 | MYC |\n",
       "| chr8 | 126824093 | 126824987 | chr8_126824093_126824987 | MYC |\n",
       "\n"
      ],
      "text/plain": [
       "  Chrom Start     End       Peak                     Region\n",
       "1 chr8  126778902 126779728 chr8_126778902_126779728 MYC   \n",
       "2 chr8  126782925 126783318 chr8_126782925_126783318 MYC   \n",
       "3 chr8  126804776 126805825 chr8_126804776_126805825 MYC   \n",
       "4 chr8  126817018 126817490 chr8_126817018_126817490 MYC   \n",
       "5 chr8  126820465 126821393 chr8_126820465_126821393 MYC   \n",
       "6 chr8  126824093 126824987 chr8_126824093_126824987 MYC   "
      ]
     },
     "metadata": {},
     "output_type": "display_data"
    }
   ],
   "source": [
    "dat_region = dat_log2fc_tmpra %>% \n",
    "    tidyr::separate(col = \"Peak\", into = c(\"Chrom\", \"Start\", \"End\"), remove = FALSE) %>%\n",
    "    dplyr::select(Chrom, Start, End, Peak, Region) %>%\n",
    "    dplyr::mutate(\n",
    "        Chrom = factor(Chrom, levels = CHROMS),\n",
    "        Start = as.integer(Start),\n",
    "        End   = as.integer(End)) %>%\n",
    "    dplyr::arrange(Chrom, Start, End) %>%\n",
    "    distinct\n",
    "\n",
    "print(dim(dat_region))\n",
    "head(dat_region)"
   ]
  },
  {
   "cell_type": "markdown",
   "id": "9414fc57",
   "metadata": {},
   "source": [
    "## Store the table"
   ]
  },
  {
   "cell_type": "code",
   "execution_count": 12,
   "id": "cb581d54",
   "metadata": {},
   "outputs": [
    {
     "name": "stdout",
     "output_type": "stream",
     "text": [
      "[1] \"/data/reddylab/Kuei/out/proj_combeffect_encode_fcc/results/Tewhey_K562_TileMPRA/coverage_astarrseq_peak_macs_input/summary/peak_regions.tsv\"\n"
     ]
    }
   ],
   "source": [
    "fdiry = file.path(FD_RES, \"results\", ASSAY, FOLDER, \"summary\")\n",
    "fname = \"peak_regions.tsv\"\n",
    "fpath = file.path(fdiry, fname)\n",
    "write_tsv(dat_region, fpath)\n",
    "print(fpath)"
   ]
  }
 ],
 "metadata": {
  "kernelspec": {
   "display_name": "R",
   "language": "R",
   "name": "ir"
  },
  "language_info": {
   "codemirror_mode": "r",
   "file_extension": ".r",
   "mimetype": "text/x-r-source",
   "name": "R",
   "pygments_lexer": "r",
   "version": "4.2.2"
  }
 },
 "nbformat": 4,
 "nbformat_minor": 5
}
