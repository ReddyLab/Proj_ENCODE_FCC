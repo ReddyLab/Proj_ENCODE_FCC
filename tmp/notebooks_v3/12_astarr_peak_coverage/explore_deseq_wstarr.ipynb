{
 "cells": [
  {
   "cell_type": "code",
   "execution_count": 1,
   "id": "0e78d6c2",
   "metadata": {},
   "outputs": [
    {
     "name": "stdout",
     "output_type": "stream",
     "text": [
      "You are in Singularity: singularity_proj_combeffect \n",
      "BASE DIRECTORY:     /data/reddylab/Kuei \n",
      "WORK DIRECTORY:     /data/reddylab/Kuei/out \n",
      "CODE DIRECTORY:     /data/reddylab/Kuei/code \n",
      "PATH OF SOURCE:     /data/reddylab/Kuei/source \n",
      "PATH OF EXECUTABLE: /data/reddylab/Kuei/bin \n",
      "PATH OF ANNOTATION: /data/reddylab/Kuei/annotation \n",
      "PATH OF PROJECT:    /data/reddylab/Kuei/code/Proj_CombEffect_ENCODE_FCC \n",
      "PATH OF RESULTS:    /data/reddylab/Kuei/out/proj_combeffect_encode_fcc \n"
     ]
    }
   ],
   "source": [
    "suppressMessages(suppressWarnings(source(\"../config/config_sing.R\")))\n",
    "suppressMessages(suppressWarnings(library(\"DESeq2\")))\n",
    "show_env()"
   ]
  },
  {
   "cell_type": "code",
   "execution_count": 2,
   "id": "3251a964",
   "metadata": {},
   "outputs": [
    {
     "name": "stdout",
     "output_type": "stream",
     "text": [
      "[1] \"/data/reddylab/Kuei/out/proj_combeffect_encode_fcc/results/A001_K562_WSTARRseq/coverage_astarrseq_peak_macs_input/summary/result.Log2FC.raw.WGS.tsv\"\n"
     ]
    },
    {
     "name": "stderr",
     "output_type": "stream",
     "text": [
      "\u001b[1mRows: \u001b[22m\u001b[34m246832\u001b[39m \u001b[1mColumns: \u001b[22m\u001b[34m7\u001b[39m\n",
      "\u001b[36m──\u001b[39m \u001b[1mColumn specification\u001b[22m \u001b[36m──────────────────────────────────────────────────────────────────────\u001b[39m\n",
      "\u001b[1mDelimiter:\u001b[22m \"\\t\"\n",
      "\u001b[31mchr\u001b[39m (2): Chrom, Peak\n",
      "\u001b[32mdbl\u001b[39m (5): Start, End, Input, Output, log2FoldChange\n",
      "\n",
      "\u001b[36mℹ\u001b[39m Use `spec()` to retrieve the full column specification for this data.\n",
      "\u001b[36mℹ\u001b[39m Specify the column types or set `show_col_types = FALSE` to quiet this message.\n"
     ]
    },
    {
     "name": "stdout",
     "output_type": "stream",
     "text": [
      "[1] \"/data/reddylab/Kuei/out/proj_combeffect_encode_fcc/results/A001_K562_WSTARRseq/coverage_astarrseq_peak_macs_input/summary/result.Log2FC.deseq.WGS.tsv\"\n"
     ]
    },
    {
     "name": "stderr",
     "output_type": "stream",
     "text": [
      "\u001b[1mRows: \u001b[22m\u001b[34m246688\u001b[39m \u001b[1mColumns: \u001b[22m\u001b[34m7\u001b[39m\n",
      "\u001b[36m──\u001b[39m \u001b[1mColumn specification\u001b[22m \u001b[36m──────────────────────────────────────────────────────────────────────\u001b[39m\n",
      "\u001b[1mDelimiter:\u001b[22m \"\\t\"\n",
      "\u001b[31mchr\u001b[39m (1): Peak\n",
      "\u001b[32mdbl\u001b[39m (6): baseMean, log2FoldChange, lfcSE, stat, pvalue, padj\n",
      "\n",
      "\u001b[36mℹ\u001b[39m Use `spec()` to retrieve the full column specification for this data.\n",
      "\u001b[36mℹ\u001b[39m Specify the column types or set `show_col_types = FALSE` to quiet this message.\n"
     ]
    }
   ],
   "source": [
    "PREFIX     = \"A001_K562_WSTARRseq\"\n",
    "FOLDER     = \"coverage_astarrseq_peak_macs_input\"\n",
    "REGIONS    = c(\"GATA1\", \"MYC\", \"FADS\")\n",
    "PREPROCESS = c(\"raw\", \"norm\")\n",
    "\n",
    "region  = REGIONS[1]\n",
    "process = PREPROCESS[1]\n",
    "fdiry = file.path(FD_RES, \"results\", PREFIX, FOLDER, \"summary\")\n",
    "\n",
    "\n",
    "fname = \"result.Log2FC.raw.WGS.tsv\"\n",
    "fpath = file.path(fdiry, fname)\n",
    "print(fpath)\n",
    "dat_log2fc_raw = read_tsv(fpath)\n",
    "\n",
    "fname = \"result.Log2FC.deseq.WGS.tsv\"\n",
    "fpath = file.path(fdiry, fname)\n",
    "print(fpath)\n",
    "dat_log2fc_deseq = read_tsv(fpath)"
   ]
  },
  {
   "cell_type": "code",
   "execution_count": 3,
   "id": "d668803b",
   "metadata": {},
   "outputs": [
    {
     "data": {
      "text/html": [
       "<table class=\"dataframe\">\n",
       "<caption>A tibble: 6 × 7</caption>\n",
       "<thead>\n",
       "\t<tr><th scope=col>Chrom</th><th scope=col>Start</th><th scope=col>End</th><th scope=col>Peak</th><th scope=col>Input</th><th scope=col>Output</th><th scope=col>log2FoldChange</th></tr>\n",
       "\t<tr><th scope=col>&lt;chr&gt;</th><th scope=col>&lt;dbl&gt;</th><th scope=col>&lt;dbl&gt;</th><th scope=col>&lt;chr&gt;</th><th scope=col>&lt;dbl&gt;</th><th scope=col>&lt;dbl&gt;</th><th scope=col>&lt;dbl&gt;</th></tr>\n",
       "</thead>\n",
       "<tbody>\n",
       "\t<tr><td>chr1</td><td> 10015</td><td> 10442</td><td>chr1_10015_10442  </td><td> 1.00</td><td>       NA</td><td>       NA</td></tr>\n",
       "\t<tr><td>chr1</td><td> 17237</td><td> 17772</td><td>chr1_17237_17772  </td><td>12.25</td><td> 22.66667</td><td>0.8877905</td></tr>\n",
       "\t<tr><td>chr1</td><td>136071</td><td>137429</td><td>chr1_136071_137429</td><td> 4.50</td><td> 17.66667</td><td>1.9730330</td></tr>\n",
       "\t<tr><td>chr1</td><td>137737</td><td>139544</td><td>chr1_137737_139544</td><td>36.75</td><td>168.66667</td><td>2.1983587</td></tr>\n",
       "\t<tr><td>chr1</td><td>180982</td><td>182087</td><td>chr1_180982_182087</td><td>23.25</td><td> 73.00000</td><td>1.6506657</td></tr>\n",
       "\t<tr><td>chr1</td><td>183239</td><td>184602</td><td>chr1_183239_184602</td><td>34.25</td><td>103.00000</td><td>1.5884684</td></tr>\n",
       "</tbody>\n",
       "</table>\n"
      ],
      "text/latex": [
       "A tibble: 6 × 7\n",
       "\\begin{tabular}{lllllll}\n",
       " Chrom & Start & End & Peak & Input & Output & log2FoldChange\\\\\n",
       " <chr> & <dbl> & <dbl> & <chr> & <dbl> & <dbl> & <dbl>\\\\\n",
       "\\hline\n",
       "\t chr1 &  10015 &  10442 & chr1\\_10015\\_10442   &  1.00 &        NA &        NA\\\\\n",
       "\t chr1 &  17237 &  17772 & chr1\\_17237\\_17772   & 12.25 &  22.66667 & 0.8877905\\\\\n",
       "\t chr1 & 136071 & 137429 & chr1\\_136071\\_137429 &  4.50 &  17.66667 & 1.9730330\\\\\n",
       "\t chr1 & 137737 & 139544 & chr1\\_137737\\_139544 & 36.75 & 168.66667 & 2.1983587\\\\\n",
       "\t chr1 & 180982 & 182087 & chr1\\_180982\\_182087 & 23.25 &  73.00000 & 1.6506657\\\\\n",
       "\t chr1 & 183239 & 184602 & chr1\\_183239\\_184602 & 34.25 & 103.00000 & 1.5884684\\\\\n",
       "\\end{tabular}\n"
      ],
      "text/markdown": [
       "\n",
       "A tibble: 6 × 7\n",
       "\n",
       "| Chrom &lt;chr&gt; | Start &lt;dbl&gt; | End &lt;dbl&gt; | Peak &lt;chr&gt; | Input &lt;dbl&gt; | Output &lt;dbl&gt; | log2FoldChange &lt;dbl&gt; |\n",
       "|---|---|---|---|---|---|---|\n",
       "| chr1 |  10015 |  10442 | chr1_10015_10442   |  1.00 |        NA |        NA |\n",
       "| chr1 |  17237 |  17772 | chr1_17237_17772   | 12.25 |  22.66667 | 0.8877905 |\n",
       "| chr1 | 136071 | 137429 | chr1_136071_137429 |  4.50 |  17.66667 | 1.9730330 |\n",
       "| chr1 | 137737 | 139544 | chr1_137737_139544 | 36.75 | 168.66667 | 2.1983587 |\n",
       "| chr1 | 180982 | 182087 | chr1_180982_182087 | 23.25 |  73.00000 | 1.6506657 |\n",
       "| chr1 | 183239 | 184602 | chr1_183239_184602 | 34.25 | 103.00000 | 1.5884684 |\n",
       "\n"
      ],
      "text/plain": [
       "  Chrom Start  End    Peak               Input Output    log2FoldChange\n",
       "1 chr1   10015  10442 chr1_10015_10442    1.00        NA        NA     \n",
       "2 chr1   17237  17772 chr1_17237_17772   12.25  22.66667 0.8877905     \n",
       "3 chr1  136071 137429 chr1_136071_137429  4.50  17.66667 1.9730330     \n",
       "4 chr1  137737 139544 chr1_137737_139544 36.75 168.66667 2.1983587     \n",
       "5 chr1  180982 182087 chr1_180982_182087 23.25  73.00000 1.6506657     \n",
       "6 chr1  183239 184602 chr1_183239_184602 34.25 103.00000 1.5884684     "
      ]
     },
     "metadata": {},
     "output_type": "display_data"
    }
   ],
   "source": [
    "head(dat_log2fc_raw)"
   ]
  },
  {
   "cell_type": "code",
   "execution_count": 4,
   "id": "baf3c0a5",
   "metadata": {},
   "outputs": [
    {
     "data": {
      "text/html": [
       "<table class=\"dataframe\">\n",
       "<caption>A tibble: 6 × 7</caption>\n",
       "<thead>\n",
       "\t<tr><th scope=col>Peak</th><th scope=col>baseMean</th><th scope=col>log2FoldChange</th><th scope=col>lfcSE</th><th scope=col>stat</th><th scope=col>pvalue</th><th scope=col>padj</th></tr>\n",
       "\t<tr><th scope=col>&lt;chr&gt;</th><th scope=col>&lt;dbl&gt;</th><th scope=col>&lt;dbl&gt;</th><th scope=col>&lt;dbl&gt;</th><th scope=col>&lt;dbl&gt;</th><th scope=col>&lt;dbl&gt;</th><th scope=col>&lt;dbl&gt;</th></tr>\n",
       "</thead>\n",
       "<tbody>\n",
       "\t<tr><td>chr1_17237_17772  </td><td>15.507847</td><td>-0.55197423</td><td>0.3650312</td><td>-1.5121288</td><td>0.1305011090</td><td>0.376522564</td></tr>\n",
       "\t<tr><td>chr1_136071_137429</td><td> 8.005396</td><td> 0.42184778</td><td>0.5134014</td><td> 0.8216725</td><td>0.4112633282</td><td>         NA</td></tr>\n",
       "\t<tr><td>chr1_137737_139544</td><td>68.388785</td><td> 0.75905245</td><td>0.1909129</td><td> 3.9759105</td><td>0.0000701105</td><td>0.001384044</td></tr>\n",
       "\t<tr><td>chr1_180982_182087</td><td>35.093278</td><td> 0.19192129</td><td>0.2417529</td><td> 0.7938737</td><td>0.4272689717</td><td>0.696317984</td></tr>\n",
       "\t<tr><td>chr1_183239_184602</td><td>49.565727</td><td> 0.08374879</td><td>0.2018363</td><td> 0.4149342</td><td>0.6781900855</td><td>0.857342193</td></tr>\n",
       "\t<tr><td>chr1_186238_187159</td><td>50.450003</td><td>-0.13877450</td><td>0.2161170</td><td>-0.6421267</td><td>0.5207908905</td><td>0.763065578</td></tr>\n",
       "</tbody>\n",
       "</table>\n"
      ],
      "text/latex": [
       "A tibble: 6 × 7\n",
       "\\begin{tabular}{lllllll}\n",
       " Peak & baseMean & log2FoldChange & lfcSE & stat & pvalue & padj\\\\\n",
       " <chr> & <dbl> & <dbl> & <dbl> & <dbl> & <dbl> & <dbl>\\\\\n",
       "\\hline\n",
       "\t chr1\\_17237\\_17772   & 15.507847 & -0.55197423 & 0.3650312 & -1.5121288 & 0.1305011090 & 0.376522564\\\\\n",
       "\t chr1\\_136071\\_137429 &  8.005396 &  0.42184778 & 0.5134014 &  0.8216725 & 0.4112633282 &          NA\\\\\n",
       "\t chr1\\_137737\\_139544 & 68.388785 &  0.75905245 & 0.1909129 &  3.9759105 & 0.0000701105 & 0.001384044\\\\\n",
       "\t chr1\\_180982\\_182087 & 35.093278 &  0.19192129 & 0.2417529 &  0.7938737 & 0.4272689717 & 0.696317984\\\\\n",
       "\t chr1\\_183239\\_184602 & 49.565727 &  0.08374879 & 0.2018363 &  0.4149342 & 0.6781900855 & 0.857342193\\\\\n",
       "\t chr1\\_186238\\_187159 & 50.450003 & -0.13877450 & 0.2161170 & -0.6421267 & 0.5207908905 & 0.763065578\\\\\n",
       "\\end{tabular}\n"
      ],
      "text/markdown": [
       "\n",
       "A tibble: 6 × 7\n",
       "\n",
       "| Peak &lt;chr&gt; | baseMean &lt;dbl&gt; | log2FoldChange &lt;dbl&gt; | lfcSE &lt;dbl&gt; | stat &lt;dbl&gt; | pvalue &lt;dbl&gt; | padj &lt;dbl&gt; |\n",
       "|---|---|---|---|---|---|---|\n",
       "| chr1_17237_17772   | 15.507847 | -0.55197423 | 0.3650312 | -1.5121288 | 0.1305011090 | 0.376522564 |\n",
       "| chr1_136071_137429 |  8.005396 |  0.42184778 | 0.5134014 |  0.8216725 | 0.4112633282 |          NA |\n",
       "| chr1_137737_139544 | 68.388785 |  0.75905245 | 0.1909129 |  3.9759105 | 0.0000701105 | 0.001384044 |\n",
       "| chr1_180982_182087 | 35.093278 |  0.19192129 | 0.2417529 |  0.7938737 | 0.4272689717 | 0.696317984 |\n",
       "| chr1_183239_184602 | 49.565727 |  0.08374879 | 0.2018363 |  0.4149342 | 0.6781900855 | 0.857342193 |\n",
       "| chr1_186238_187159 | 50.450003 | -0.13877450 | 0.2161170 | -0.6421267 | 0.5207908905 | 0.763065578 |\n",
       "\n"
      ],
      "text/plain": [
       "  Peak               baseMean  log2FoldChange lfcSE     stat       pvalue      \n",
       "1 chr1_17237_17772   15.507847 -0.55197423    0.3650312 -1.5121288 0.1305011090\n",
       "2 chr1_136071_137429  8.005396  0.42184778    0.5134014  0.8216725 0.4112633282\n",
       "3 chr1_137737_139544 68.388785  0.75905245    0.1909129  3.9759105 0.0000701105\n",
       "4 chr1_180982_182087 35.093278  0.19192129    0.2417529  0.7938737 0.4272689717\n",
       "5 chr1_183239_184602 49.565727  0.08374879    0.2018363  0.4149342 0.6781900855\n",
       "6 chr1_186238_187159 50.450003 -0.13877450    0.2161170 -0.6421267 0.5207908905\n",
       "  padj       \n",
       "1 0.376522564\n",
       "2          NA\n",
       "3 0.001384044\n",
       "4 0.696317984\n",
       "5 0.857342193\n",
       "6 0.763065578"
      ]
     },
     "metadata": {},
     "output_type": "display_data"
    }
   ],
   "source": [
    "head(dat_log2fc_deseq)"
   ]
  },
  {
   "cell_type": "code",
   "execution_count": 5,
   "id": "34bf6e8f",
   "metadata": {},
   "outputs": [
    {
     "name": "stdout",
     "output_type": "stream",
     "text": [
      "[1] 246832      8\n"
     ]
    },
    {
     "data": {
      "text/html": [
       "<table class=\"dataframe\">\n",
       "<caption>A tibble: 6 × 8</caption>\n",
       "<thead>\n",
       "\t<tr><th scope=col>Chrom</th><th scope=col>Start</th><th scope=col>End</th><th scope=col>Peak</th><th scope=col>Input</th><th scope=col>Output</th><th scope=col>Log2FC_raw</th><th scope=col>Log2FC_deseq</th></tr>\n",
       "\t<tr><th scope=col>&lt;chr&gt;</th><th scope=col>&lt;dbl&gt;</th><th scope=col>&lt;dbl&gt;</th><th scope=col>&lt;chr&gt;</th><th scope=col>&lt;dbl&gt;</th><th scope=col>&lt;dbl&gt;</th><th scope=col>&lt;dbl&gt;</th><th scope=col>&lt;dbl&gt;</th></tr>\n",
       "</thead>\n",
       "<tbody>\n",
       "\t<tr><td>chr1</td><td> 10015</td><td> 10442</td><td>chr1_10015_10442  </td><td> 1.00</td><td>       NA</td><td>       NA</td><td>         NA</td></tr>\n",
       "\t<tr><td>chr1</td><td> 17237</td><td> 17772</td><td>chr1_17237_17772  </td><td>12.25</td><td> 22.66667</td><td>0.8877905</td><td>-0.55197423</td></tr>\n",
       "\t<tr><td>chr1</td><td>136071</td><td>137429</td><td>chr1_136071_137429</td><td> 4.50</td><td> 17.66667</td><td>1.9730330</td><td> 0.42184778</td></tr>\n",
       "\t<tr><td>chr1</td><td>137737</td><td>139544</td><td>chr1_137737_139544</td><td>36.75</td><td>168.66667</td><td>2.1983587</td><td> 0.75905245</td></tr>\n",
       "\t<tr><td>chr1</td><td>180982</td><td>182087</td><td>chr1_180982_182087</td><td>23.25</td><td> 73.00000</td><td>1.6506657</td><td> 0.19192129</td></tr>\n",
       "\t<tr><td>chr1</td><td>183239</td><td>184602</td><td>chr1_183239_184602</td><td>34.25</td><td>103.00000</td><td>1.5884684</td><td> 0.08374879</td></tr>\n",
       "</tbody>\n",
       "</table>\n"
      ],
      "text/latex": [
       "A tibble: 6 × 8\n",
       "\\begin{tabular}{llllllll}\n",
       " Chrom & Start & End & Peak & Input & Output & Log2FC\\_raw & Log2FC\\_deseq\\\\\n",
       " <chr> & <dbl> & <dbl> & <chr> & <dbl> & <dbl> & <dbl> & <dbl>\\\\\n",
       "\\hline\n",
       "\t chr1 &  10015 &  10442 & chr1\\_10015\\_10442   &  1.00 &        NA &        NA &          NA\\\\\n",
       "\t chr1 &  17237 &  17772 & chr1\\_17237\\_17772   & 12.25 &  22.66667 & 0.8877905 & -0.55197423\\\\\n",
       "\t chr1 & 136071 & 137429 & chr1\\_136071\\_137429 &  4.50 &  17.66667 & 1.9730330 &  0.42184778\\\\\n",
       "\t chr1 & 137737 & 139544 & chr1\\_137737\\_139544 & 36.75 & 168.66667 & 2.1983587 &  0.75905245\\\\\n",
       "\t chr1 & 180982 & 182087 & chr1\\_180982\\_182087 & 23.25 &  73.00000 & 1.6506657 &  0.19192129\\\\\n",
       "\t chr1 & 183239 & 184602 & chr1\\_183239\\_184602 & 34.25 & 103.00000 & 1.5884684 &  0.08374879\\\\\n",
       "\\end{tabular}\n"
      ],
      "text/markdown": [
       "\n",
       "A tibble: 6 × 8\n",
       "\n",
       "| Chrom &lt;chr&gt; | Start &lt;dbl&gt; | End &lt;dbl&gt; | Peak &lt;chr&gt; | Input &lt;dbl&gt; | Output &lt;dbl&gt; | Log2FC_raw &lt;dbl&gt; | Log2FC_deseq &lt;dbl&gt; |\n",
       "|---|---|---|---|---|---|---|---|\n",
       "| chr1 |  10015 |  10442 | chr1_10015_10442   |  1.00 |        NA |        NA |          NA |\n",
       "| chr1 |  17237 |  17772 | chr1_17237_17772   | 12.25 |  22.66667 | 0.8877905 | -0.55197423 |\n",
       "| chr1 | 136071 | 137429 | chr1_136071_137429 |  4.50 |  17.66667 | 1.9730330 |  0.42184778 |\n",
       "| chr1 | 137737 | 139544 | chr1_137737_139544 | 36.75 | 168.66667 | 2.1983587 |  0.75905245 |\n",
       "| chr1 | 180982 | 182087 | chr1_180982_182087 | 23.25 |  73.00000 | 1.6506657 |  0.19192129 |\n",
       "| chr1 | 183239 | 184602 | chr1_183239_184602 | 34.25 | 103.00000 | 1.5884684 |  0.08374879 |\n",
       "\n"
      ],
      "text/plain": [
       "  Chrom Start  End    Peak               Input Output    Log2FC_raw\n",
       "1 chr1   10015  10442 chr1_10015_10442    1.00        NA        NA \n",
       "2 chr1   17237  17772 chr1_17237_17772   12.25  22.66667 0.8877905 \n",
       "3 chr1  136071 137429 chr1_136071_137429  4.50  17.66667 1.9730330 \n",
       "4 chr1  137737 139544 chr1_137737_139544 36.75 168.66667 2.1983587 \n",
       "5 chr1  180982 182087 chr1_180982_182087 23.25  73.00000 1.6506657 \n",
       "6 chr1  183239 184602 chr1_183239_184602 34.25 103.00000 1.5884684 \n",
       "  Log2FC_deseq\n",
       "1          NA \n",
       "2 -0.55197423 \n",
       "3  0.42184778 \n",
       "4  0.75905245 \n",
       "5  0.19192129 \n",
       "6  0.08374879 "
      ]
     },
     "metadata": {},
     "output_type": "display_data"
    }
   ],
   "source": [
    "dat1 = dat_log2fc_raw %>% dplyr::rename(Log2FC_raw = log2FoldChange)\n",
    "dat2 = dat_log2fc_deseq %>%\n",
    "    dplyr::select(Peak, log2FoldChange) %>%\n",
    "    dplyr::rename(Log2FC_deseq = log2FoldChange)\n",
    "dat = left_join(dat1, dat2, by=\"Peak\")\n",
    "print(dim(dat))\n",
    "head(dat)"
   ]
  },
  {
   "cell_type": "code",
   "execution_count": 6,
   "id": "b881d480",
   "metadata": {},
   "outputs": [
    {
     "data": {
      "image/png": "[encoded data removed]",
      "text/plain": [
       "plot without title"
      ]
     },
     "metadata": {
      "image/png": {
       "height": 300,
       "width": 300
      }
     },
     "output_type": "display_data"
    }
   ],
   "source": [
    "tmp = dat %>% na.omit %>% dplyr::slice_sample(n = 100000)\n",
    "gpt = ggplot(tmp, aes(x=Log2FC_raw, y=Log2FC_deseq)) +\n",
    "    geom_point(size=0.1, alpha=0.3) + \n",
    "    labs(x=\"Log2FC (Raw)\", y=\"Log2FC (DESeq2)\", title=\"WSTARR\") +\n",
    "    theme_cowplot() +\n",
    "    theme(\n",
    "        panel.grid.major = element_line(colour=\"grey90\", linewidth=0.5),\n",
    "        panel.grid.minor = element_line(colour=\"grey90\", linewidth=0.2))\n",
    "\n",
    "options(repr.plot.height=5, repr.plot.width=5)\n",
    "print(gpt)"
   ]
  },
  {
   "cell_type": "code",
   "execution_count": null,
   "id": "a4a0d3a4",
   "metadata": {},
   "outputs": [],
   "source": []
  }
 ],
 "metadata": {
  "kernelspec": {
   "display_name": "R",
   "language": "R",
   "name": "ir"
  },
  "language_info": {
   "codemirror_mode": "r",
   "file_extension": ".r",
   "mimetype": "text/x-r-source",
   "name": "R",
   "pygments_lexer": "r",
   "version": "4.2.2"
  }
 },
 "nbformat": 4,
 "nbformat_minor": 5
}
