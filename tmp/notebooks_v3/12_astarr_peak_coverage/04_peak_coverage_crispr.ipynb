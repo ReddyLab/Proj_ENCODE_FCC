{
 "cells": [
  {
   "cell_type": "code",
   "execution_count": 1,
   "id": "5ef683b7-8254-42e4-afca-8273434c71d9",
   "metadata": {},
   "outputs": [
    {
     "name": "stdout",
     "output_type": "stream",
     "text": [
      "You are on Duke Server: HARDAC\n",
      "BASE DIRECTORY:     /data/reddylab/Kuei\n",
      "WORK DIRECTORY:     /data/reddylab/Kuei/out\n",
      "CODE DIRECTORY:     /data/reddylab/Kuei/code\n",
      "SING DIRECTORY:     /data/reddylab/Kuei/singularity\n",
      "PATH OF SOURCE:     /data/reddylab/Kuei/source\n",
      "PATH OF EXECUTABLE: /data/reddylab/Kuei/bin\n",
      "PATH OF ANNOTATION: /data/reddylab/Kuei/annotation\n",
      "PATH OF PROJECT:    /data/reddylab/Kuei/code/Proj_CombEffect_ENCODE_FCC\n",
      "PATH OF RESULTS:    /data/reddylab/Kuei/out/proj_combeffect_encode_fcc\n",
      "\n"
     ]
    }
   ],
   "source": [
    "source ../config/config_duke.sh\n",
    "source ../config/config_load_module_bedtools.sh\n",
    "show_env"
   ]
  },
  {
   "cell_type": "code",
   "execution_count": 2,
   "id": "34a9ccb5-2105-447d-b046-3fc5b6714c9d",
   "metadata": {},
   "outputs": [
    {
     "name": "stdout",
     "output_type": "stream",
     "text": [
      "-rw-rw-r-- 1 kk319 reddylab 5.7M Oct 17 05:28 /data/reddylab/Kuei/out/proj_combeffect_encode_fcc/region/KS91_K562_ASTARRseq_peak_macs/KS91_K562_hg38_ASTARRseq_Input.all_reps.masked.union_narrowPeak.q5.bed\n",
      "247520\n",
      "+++++++++++++++++++++++++++++++++++\n",
      "chr1\t10015\t10442\n",
      "chr1\t14253\t14645\n",
      "chr1\t16015\t16477\n",
      "chr1\t17237\t17772\n",
      "chr1\t28903\t29613\n",
      "chr1\t30803\t31072\n",
      "chr1\t101603\t101849\n",
      "chr1\t115411\t115986\n",
      "chr1\t118518\t118743\n",
      "chr1\t136071\t137429\n",
      "+++++++++++++++++++++++++++++++++++\n",
      "chrX\t155966947\t155967395\n",
      "chrX\t155971561\t155972273\n",
      "chrX\t155986274\t155987619\n",
      "chrX\t155997267\t155998045\n",
      "chrX\t156000382\t156003205\n",
      "chrX\t156009687\t156010227\n",
      "chrX\t156016391\t156016836\n",
      "chrX\t156024950\t156025593\n",
      "chrX\t156030187\t156030740\n",
      "chrY\t11215098\t11215422\n"
     ]
    }
   ],
   "source": [
    "FD_REG=${FD_RES}/region/KS91_K562_ASTARRseq_peak_macs\n",
    "FN_REG=KS91_K562_hg38_ASTARRseq_Input.all_reps.masked.union_narrowPeak.q5.bed\n",
    "ls -lh ${FD_REG}/${FN_REG}\n",
    "cat ${FD_REG}/${FN_REG} | wc -l\n",
    "echo +++++++++++++++++++++++++++++++++++\n",
    "head ${FD_REG}/${FN_REG}\n",
    "echo +++++++++++++++++++++++++++++++++++\n",
    "tail ${FD_REG}/${FN_REG}"
   ]
  },
  {
   "cell_type": "code",
   "execution_count": 12,
   "id": "e914ce39-1cce-4f38-9977-ff3137f5033d",
   "metadata": {},
   "outputs": [
    {
     "name": "stdout",
     "output_type": "stream",
     "text": [
      "CAPRIN1_HCRFF_rAVG.log2FC_2.bed  HBG1_HCRFF_rAVG.log2FC_2.bed\n",
      "CAPRIN1_HCRFF_rAVG.log2FC_2.wig  HBG1_HCRFF_rAVG.log2FC_2.wig\n",
      "CAT_HCRFF_rAVG.log2FC_2.bed      HBG2_HCRFF_rAVG.log2FC_2.bed\n",
      "CAT_HCRFF_rAVG.log2FC_2.wig      HBG2_HCRFF_rAVG.log2FC_2.wig\n",
      "CD164_HCRFF_rAVG.log2FC_2.bed    HBS1L_HCRFF_rAVG.log2FC_2.bed\n",
      "CD164_HCRFF_rAVG.log2FC_2.wig    HBS1L_HCRFF_rAVG.log2FC_2.wig\n",
      "ERP29_HCRFF_rAVG.log2FC_2.bed    HDAC6_HCRFF_rAVG.log2FC_2.bed\n",
      "ERP29_HCRFF_rAVG.log2FC_2.wig    HDAC6_HCRFF_rAVG.log2FC_2.wig\n",
      "FADS1_HCRFF_rAVG.log2FC_2.bed    LMO2_HCRFF_rAVG.log2FC_2.bed\n",
      "FADS1_HCRFF_rAVG.log2FC_2.wig    LMO2_HCRFF_rAVG.log2FC_2.wig\n",
      "FADS2_HCRFF_rAVG.log2FC_2.bed    MEF2C_HCRFF_rAVG.log2FC_2.bed\n",
      "FADS2_HCRFF_rAVG.log2FC_2.wig    MEF2C_HCRFF_rAVG.log2FC_2.wig\n",
      "FADS3_HCRFF_rAVG.log2FC_2.bed    MYB_HCRFF_rAVG.log2FC_2.bed\n",
      "FADS3_HCRFF_rAVG.log2FC_2.wig    MYB_HCRFF_rAVG.log2FC_2.wig\n",
      "FEN1_HCRFF_rAVG.log2FC_2.bed     MYC_HCRFF_rAVG.log2FC_2.bed\n",
      "FEN1_HCRFF_rAVG.log2FC_2.wig     MYC_HCRFF_rAVG.log2FC_2.wig\n",
      "GATA1_HCRFF_rAVG.log2FC_2.bed    NMU_HCRFF_rAVG.log2FC_2.bed\n",
      "GATA1_HCRFF_rAVG.log2FC_2.wig    NMU_HCRFF_rAVG.log2FC_2.wig\n",
      "HBE1_HCRFF_rAVG.log2FC_2.bed     PVT1_HCRFF_rAVG.log2FC_2.bed\n",
      "HBE1_HCRFF_rAVG.log2FC_2.wig     PVT1_HCRFF_rAVG.log2FC_2.wig\n"
     ]
    }
   ],
   "source": [
    "ls ${FD_RES}/results/CRISPR/coverage"
   ]
  },
  {
   "cell_type": "code",
   "execution_count": 13,
   "id": "80402bf7-9b3a-48eb-9e5e-62dcaacf9ecc",
   "metadata": {},
   "outputs": [
    {
     "name": "stdout",
     "output_type": "stream",
     "text": [
      "20\n",
      "CAPRIN1_HCRFF_rAVG.log2FC_2.bed\n",
      "CAT_HCRFF_rAVG.log2FC_2.bed\n",
      "CD164_HCRFF_rAVG.log2FC_2.bed\n",
      "ERP29_HCRFF_rAVG.log2FC_2.bed\n",
      "FADS1_HCRFF_rAVG.log2FC_2.bed\n",
      "FADS2_HCRFF_rAVG.log2FC_2.bed\n",
      "FADS3_HCRFF_rAVG.log2FC_2.bed\n",
      "FEN1_HCRFF_rAVG.log2FC_2.bed\n",
      "GATA1_HCRFF_rAVG.log2FC_2.bed\n",
      "HBE1_HCRFF_rAVG.log2FC_2.bed\n",
      "HBG1_HCRFF_rAVG.log2FC_2.bed\n",
      "HBG2_HCRFF_rAVG.log2FC_2.bed\n",
      "HBS1L_HCRFF_rAVG.log2FC_2.bed\n",
      "HDAC6_HCRFF_rAVG.log2FC_2.bed\n",
      "LMO2_HCRFF_rAVG.log2FC_2.bed\n",
      "MEF2C_HCRFF_rAVG.log2FC_2.bed\n",
      "MYB_HCRFF_rAVG.log2FC_2.bed\n",
      "MYC_HCRFF_rAVG.log2FC_2.bed\n",
      "NMU_HCRFF_rAVG.log2FC_2.bed\n",
      "PVT1_HCRFF_rAVG.log2FC_2.bed\n"
     ]
    }
   ],
   "source": [
    "FPATHS=$(ls ${FD_RES}/results/CRISPR/coverage/*HCRFF*bed)\n",
    "basename -a ${FPATHS} | wc -l\n",
    "basename -a ${FPATHS}"
   ]
  },
  {
   "cell_type": "code",
   "execution_count": 14,
   "id": "951d38cb-b739-4664-abab-714a6b7a9f24",
   "metadata": {},
   "outputs": [
    {
     "name": "stdout",
     "output_type": "stream",
     "text": [
      "chr12\t54300766\t54300767\tid-1\t-0.886706\n",
      "chr12\t54300810\t54300811\tid-2\t0.245072\n",
      "chr12\t54300998\t54300999\tid-3\t-0.413788\n",
      "chr12\t54301041\t54301042\tid-4\t-0.917759\n",
      "chr19\t12887110\t12887111\tid-5\t-0.402891\n",
      "chr19\t12887178\t12887179\tid-6\t-0.606933\n",
      "chr19\t12887201\t12887202\tid-7\t-0.435561\n",
      "chr19\t12887236\t12887237\tid-8\t-0.614140\n",
      "chr3\t128487571\t128487572\tid-9\t0.686450\n",
      "chr3\t128487837\t128487838\tid-10\t0.107045\n"
     ]
    }
   ],
   "source": [
    "head ${FD_RES}/results/CRISPR/coverage/GATA1_HCRFF_rAVG.log2FC_2.bed"
   ]
  },
  {
   "cell_type": "code",
   "execution_count": 18,
   "id": "82c017cb-ca97-41af-b048-5196357c9c76",
   "metadata": {},
   "outputs": [
    {
     "name": "stdout",
     "output_type": "stream",
     "text": [
      "Submitted batch job 29508862\n"
     ]
    }
   ],
   "source": [
    "sbatch -p ${NODE} \\\n",
    "    --exclude=dl-01 \\\n",
    "    --cpus-per-task 8 \\\n",
    "    --mem 8G \\\n",
    "    --output ${FD_LOG}/coverage_astarr_peak_macs_input_crispr_hcrff.%a.txt \\\n",
    "    --array 0-19 \\\n",
    "    <<'EOF'\n",
    "#!/bin/bash\n",
    "### set directories & global variables\n",
    "source ../config/config_duke.sh\n",
    "\n",
    "### set input and output directory\n",
    "ASSAY=CRISPR\n",
    "FD_INP=${FD_RES}/results/${ASSAY}/coverage\n",
    "FD_OUT=${FD_RES}/results/${ASSAY}/coverage_astarrseq_peak_macs_input\n",
    "\n",
    "FP_INPS=($(ls ${FD_RES}/results/CRISPR/coverage/*HCRFF*bed))\n",
    "FP_INP=${FP_INPS[${SLURM_ARRAY_TASK_ID}]}\n",
    "FN_INP=$(basename ${FP_INP})\n",
    "FN_OUT=${FN_INP}.gz\n",
    "FP_OUT=${FD_OUT}/${FN_OUT}\n",
    "\n",
    "FD_REG=${FD_RES}/region/KS91_K562_ASTARRseq_peak_macs\n",
    "FN_REG=KS91_K562_hg38_ASTARRseq_Input.all_reps.masked.union_narrowPeak.q5.bed\n",
    "FP_REG=${FD_REG}/${FN_REG}\n",
    "\n",
    "### print start message\n",
    "timer_start=`date +%s`\n",
    "echo \"Hostname:          \" $(hostname)\n",
    "echo \"Slurm Array Index: \" ${SLURM_ARRAY_TASK_ID}\n",
    "echo \"Time Stamp:        \" $(date +\"%m-%d-%y+%T\")\n",
    "echo\n",
    "\n",
    "### Show I/O file\n",
    "echo \"Input  file: \" ${FP_INP}\n",
    "echo\n",
    "echo \"Show the first few lines of the input file\"\n",
    "cat  ${FP_INP} | head -n 3 \n",
    "echo\n",
    "\n",
    "echo \"Input  file: \" ${FP_REG}\n",
    "echo\n",
    "echo \"Show the first few lines of the input file\"\n",
    "cat  ${FD_REG}/${FN_REG} | head -n 3 \n",
    "echo\n",
    "\n",
    "### execute\n",
    "bedtools map \\\n",
    "    -a ${FP_REG} \\\n",
    "    -b ${FP_INP} \\\n",
    "    -o mean \\\n",
    "| gzip -c \\\n",
    "> ${FP_OUT}\n",
    "\n",
    "### Show I/O file\n",
    "echo\n",
    "echo \"Output file: \" ${FD_OUT}/${FN_OUT}\n",
    "echo\n",
    "echo \"Show the first few lines of the output file\"\n",
    "zcat ${FD_OUT}/${FN_OUT} | head -n 3\n",
    "echo\n",
    "\n",
    "### print end message\n",
    "timer_stop=`date +%s`\n",
    "runtime=$(echo \"${timer_stop} - ${timer_start}\" | bc -l)\n",
    "echo\n",
    "echo 'Done!'\n",
    "echo \"Run Time: $(displaytime ${runtime})\"\n",
    "\n",
    "EOF"
   ]
  },
  {
   "cell_type": "code",
   "execution_count": 19,
   "id": "e6ba81ae-5bd1-4d93-bc78-7e568f7a762c",
   "metadata": {},
   "outputs": [
    {
     "name": "stdout",
     "output_type": "stream",
     "text": [
      "/data/reddylab/Kuei/out/proj_combeffect_encode_fcc/log/coverage_astarr_peak_macs_input_crispr_hcrff.0.txt\n",
      "/data/reddylab/Kuei/out/proj_combeffect_encode_fcc/log/coverage_astarr_peak_macs_input_crispr_hcrff.10.txt\n",
      "/data/reddylab/Kuei/out/proj_combeffect_encode_fcc/log/coverage_astarr_peak_macs_input_crispr_hcrff.11.txt\n",
      "/data/reddylab/Kuei/out/proj_combeffect_encode_fcc/log/coverage_astarr_peak_macs_input_crispr_hcrff.12.txt\n",
      "/data/reddylab/Kuei/out/proj_combeffect_encode_fcc/log/coverage_astarr_peak_macs_input_crispr_hcrff.13.txt\n",
      "/data/reddylab/Kuei/out/proj_combeffect_encode_fcc/log/coverage_astarr_peak_macs_input_crispr_hcrff.14.txt\n",
      "/data/reddylab/Kuei/out/proj_combeffect_encode_fcc/log/coverage_astarr_peak_macs_input_crispr_hcrff.15.txt\n",
      "/data/reddylab/Kuei/out/proj_combeffect_encode_fcc/log/coverage_astarr_peak_macs_input_crispr_hcrff.16.txt\n",
      "/data/reddylab/Kuei/out/proj_combeffect_encode_fcc/log/coverage_astarr_peak_macs_input_crispr_hcrff.17.txt\n",
      "/data/reddylab/Kuei/out/proj_combeffect_encode_fcc/log/coverage_astarr_peak_macs_input_crispr_hcrff.18.txt\n",
      "/data/reddylab/Kuei/out/proj_combeffect_encode_fcc/log/coverage_astarr_peak_macs_input_crispr_hcrff.19.txt\n",
      "/data/reddylab/Kuei/out/proj_combeffect_encode_fcc/log/coverage_astarr_peak_macs_input_crispr_hcrff.1.txt\n",
      "/data/reddylab/Kuei/out/proj_combeffect_encode_fcc/log/coverage_astarr_peak_macs_input_crispr_hcrff.2.txt\n",
      "/data/reddylab/Kuei/out/proj_combeffect_encode_fcc/log/coverage_astarr_peak_macs_input_crispr_hcrff.3.txt\n",
      "/data/reddylab/Kuei/out/proj_combeffect_encode_fcc/log/coverage_astarr_peak_macs_input_crispr_hcrff.4.txt\n",
      "/data/reddylab/Kuei/out/proj_combeffect_encode_fcc/log/coverage_astarr_peak_macs_input_crispr_hcrff.5.txt\n",
      "/data/reddylab/Kuei/out/proj_combeffect_encode_fcc/log/coverage_astarr_peak_macs_input_crispr_hcrff.6.txt\n",
      "/data/reddylab/Kuei/out/proj_combeffect_encode_fcc/log/coverage_astarr_peak_macs_input_crispr_hcrff.7.txt\n",
      "/data/reddylab/Kuei/out/proj_combeffect_encode_fcc/log/coverage_astarr_peak_macs_input_crispr_hcrff.8.txt\n",
      "/data/reddylab/Kuei/out/proj_combeffect_encode_fcc/log/coverage_astarr_peak_macs_input_crispr_hcrff.9.txt\n"
     ]
    }
   ],
   "source": [
    "ls ${FD_LOG}/coverage_astarr_peak_macs_input_crispr_hcrff.*.txt"
   ]
  },
  {
   "cell_type": "code",
   "execution_count": 20,
   "id": "011ecc41-a2fd-4e81-83b4-7adf415f50c4",
   "metadata": {},
   "outputs": [
    {
     "name": "stdout",
     "output_type": "stream",
     "text": [
      "Hostname:           x1-02-1.genome.duke.edu\n",
      "Slurm Array Index:  0\n",
      "Time Stamp:         02-08-23+08:40:05\n",
      "\n",
      "Input  file:  /data/reddylab/Kuei/out/proj_combeffect_encode_fcc/results/CRISPR/coverage/CAPRIN1_HCRFF_rAVG.log2FC_2.bed\n",
      "\n",
      "Show the first few lines of the input file\n",
      "chr10\t100694991\t100694992\tid-1\t0.436247\n",
      "chr10\t100695172\t100695173\tid-2\t-1.057770\n",
      "chr10\t100695184\t100695185\tid-3\t1.242010\n",
      "\n",
      "Input  file:  /data/reddylab/Kuei/out/proj_combeffect_encode_fcc/region/KS91_K562_ASTARRseq_peak_macs/KS91_K562_hg38_ASTARRseq_Input.all_reps.masked.union_narrowPeak.q5.bed\n",
      "\n",
      "Show the first few lines of the input file\n",
      "chr1\t10015\t10442\n",
      "chr1\t14253\t14645\n",
      "chr1\t16015\t16477\n",
      "\n",
      "\n",
      "Output file:  /data/reddylab/Kuei/out/proj_combeffect_encode_fcc/results/CRISPR/coverage_astarrseq_peak_macs_input/CAPRIN1_HCRFF_rAVG.log2FC_2.bed.gz\n",
      "\n",
      "Show the first few lines of the output file\n",
      "chr1\t10015\t10442\t.\n",
      "chr1\t14253\t14645\t.\n",
      "chr1\t16015\t16477\t.\n",
      "\n",
      "\n",
      "Done!\n",
      "Run Time: 1 seconds\n"
     ]
    }
   ],
   "source": [
    "cat ${FD_LOG}/coverage_astarr_peak_macs_input_crispr_hcrff.0.txt"
   ]
  },
  {
   "cell_type": "code",
   "execution_count": null,
   "id": "f4dcd994-69d1-47a5-b2b6-68de14044ee5",
   "metadata": {},
   "outputs": [],
   "source": []
  }
 ],
 "metadata": {
  "kernelspec": {
   "display_name": "Bash",
   "language": "bash",
   "name": "bash"
  },
  "language_info": {
   "codemirror_mode": "shell",
   "file_extension": ".sh",
   "mimetype": "text/x-sh",
   "name": "bash"
  }
 },
 "nbformat": 4,
 "nbformat_minor": 5
}
