{
 "cells": [
  {
   "cell_type": "markdown",
   "id": "36439cdd",
   "metadata": {},
   "source": [
    "**Set environment**"
   ]
  },
  {
   "cell_type": "code",
   "execution_count": 1,
   "id": "7af429f8",
   "metadata": {},
   "outputs": [
    {
     "name": "stdout",
     "output_type": "stream",
     "text": [
      "You are in Singularity: singularity_proj_combeffect \n",
      "BASE DIRECTORY:     /data/reddylab/Kuei \n",
      "WORK DIRECTORY:     /data/reddylab/Kuei/out \n",
      "CODE DIRECTORY:     /data/reddylab/Kuei/code \n",
      "PATH OF SOURCE:     /data/reddylab/Kuei/source \n",
      "PATH OF EXECUTABLE: /data/reddylab/Kuei/bin \n",
      "PATH OF ANNOTATION: /data/reddylab/Kuei/annotation \n",
      "PATH OF PROJECT:    /data/reddylab/Kuei/code/Proj_CombEffect_ENCODE_FCC \n",
      "PATH OF RESULTS:    /data/reddylab/Kuei/out/proj_combeffect_encode_fcc \n"
     ]
    }
   ],
   "source": [
    "suppressMessages(suppressWarnings(source(\"../config/config_sing.R\")))\n",
    "show_env()"
   ]
  },
  {
   "cell_type": "markdown",
   "id": "93bc3442",
   "metadata": {},
   "source": [
    "## Helper function"
   ]
  },
  {
   "cell_type": "code",
   "execution_count": 2,
   "id": "3c8b5a75",
   "metadata": {},
   "outputs": [],
   "source": [
    "ASSAY  = \"A001_K562_WSTARRseq\"\n",
    "\n",
    "GROUPS  = c(\"Input\", \"Output\")\n",
    "\n",
    "SAMPLES = c(\n",
    "    paste0(\"Input.rep\",  1:4),\n",
    "    paste0(\"Output.rep\", 1:3))\n",
    "\n",
    "get_info = function(fpath, strings){\n",
    "    idx = str_detect(string = fpath, pattern = strings)\n",
    "    return(strings[idx])\n",
    "}\n",
    "\n",
    "get_group  = function(fpath){return(get_info(fpath, GROUPS))}\n",
    "get_sample = function(fpath){return(get_info(fpath, SAMPLES))}"
   ]
  },
  {
   "cell_type": "markdown",
   "id": "f110aff8",
   "metadata": {},
   "source": [
    "## Get file paths and set metadata"
   ]
  },
  {
   "cell_type": "code",
   "execution_count": 3,
   "id": "79f58f4c",
   "metadata": {},
   "outputs": [
    {
     "name": "stdout",
     "output_type": "stream",
     "text": [
      "[1] \"/data/reddylab/Kuei/out/proj_combeffect_encode_fcc/results/A001_K562_WSTARRseq/coverage_astarrseq_peak_macs_input/A001_K562_WSTARRseq.Input.rep1.WGS.unstranded.bed.gz\"\n",
      "[1] \"Input\"\n",
      "[1] \"Input.rep1\"\n",
      "[1] \"/data/reddylab/Kuei/out/proj_combeffect_encode_fcc/results/A001_K562_WSTARRseq/coverage_astarrseq_peak_macs_input/A001_K562_WSTARRseq.Input.rep2.WGS.unstranded.bed.gz\"\n",
      "[1] \"Input\"\n",
      "[1] \"Input.rep2\"\n",
      "[1] \"/data/reddylab/Kuei/out/proj_combeffect_encode_fcc/results/A001_K562_WSTARRseq/coverage_astarrseq_peak_macs_input/A001_K562_WSTARRseq.Input.rep3.WGS.unstranded.bed.gz\"\n",
      "[1] \"Input\"\n",
      "[1] \"Input.rep3\"\n",
      "[1] \"/data/reddylab/Kuei/out/proj_combeffect_encode_fcc/results/A001_K562_WSTARRseq/coverage_astarrseq_peak_macs_input/A001_K562_WSTARRseq.Input.rep4.WGS.unstranded.bed.gz\"\n",
      "[1] \"Input\"\n",
      "[1] \"Input.rep4\"\n",
      "[1] \"/data/reddylab/Kuei/out/proj_combeffect_encode_fcc/results/A001_K562_WSTARRseq/coverage_astarrseq_peak_macs_input/A001_K562_WSTARRseq.Output.rep1.WGS.unstranded.bed.gz\"\n",
      "[1] \"Output\"\n",
      "[1] \"Output.rep1\"\n",
      "[1] \"/data/reddylab/Kuei/out/proj_combeffect_encode_fcc/results/A001_K562_WSTARRseq/coverage_astarrseq_peak_macs_input/A001_K562_WSTARRseq.Output.rep2.WGS.unstranded.bed.gz\"\n",
      "[1] \"Output\"\n",
      "[1] \"Output.rep2\"\n",
      "[1] \"/data/reddylab/Kuei/out/proj_combeffect_encode_fcc/results/A001_K562_WSTARRseq/coverage_astarrseq_peak_macs_input/A001_K562_WSTARRseq.Output.rep3.WGS.unstranded.bed.gz\"\n",
      "[1] \"Output\"\n",
      "[1] \"Output.rep3\"\n"
     ]
    }
   ],
   "source": [
    "ASSAY = \"A001_K562_WSTARRseq\"\n",
    "FOLDER = \"coverage_astarrseq_peak_macs_input\"\n",
    "fglob  = file.path(FD_RES, \"results\", ASSAY, FOLDER, \"*WGS*bed.gz\")\n",
    "fpaths = Sys.glob(fglob)\n",
    "for (fpath in fpaths){\n",
    "    print(fpath)\n",
    "    print(get_group(fpath))\n",
    "    print(get_sample(fpath))\n",
    "}"
   ]
  },
  {
   "cell_type": "code",
   "execution_count": 4,
   "id": "c3b93c16",
   "metadata": {},
   "outputs": [
    {
     "data": {
      "text/html": [
       "<table class=\"dataframe\">\n",
       "<caption>A data.frame: 7 × 3</caption>\n",
       "<thead>\n",
       "\t<tr><th></th><th scope=col>Sample</th><th scope=col>Group</th><th scope=col>FPath</th></tr>\n",
       "\t<tr><th></th><th scope=col>&lt;chr&gt;</th><th scope=col>&lt;chr&gt;</th><th scope=col>&lt;chr&gt;</th></tr>\n",
       "</thead>\n",
       "<tbody>\n",
       "\t<tr><th scope=row>Input.rep1</th><td>Input.rep1 </td><td>Input </td><td>/data/reddylab/Kuei/out/proj_combeffect_encode_fcc/results/A001_K562_WSTARRseq/coverage_astarrseq_peak_macs_input/A001_K562_WSTARRseq.Input.rep1.WGS.unstranded.bed.gz </td></tr>\n",
       "\t<tr><th scope=row>Input.rep2</th><td>Input.rep2 </td><td>Input </td><td>/data/reddylab/Kuei/out/proj_combeffect_encode_fcc/results/A001_K562_WSTARRseq/coverage_astarrseq_peak_macs_input/A001_K562_WSTARRseq.Input.rep2.WGS.unstranded.bed.gz </td></tr>\n",
       "\t<tr><th scope=row>Input.rep3</th><td>Input.rep3 </td><td>Input </td><td>/data/reddylab/Kuei/out/proj_combeffect_encode_fcc/results/A001_K562_WSTARRseq/coverage_astarrseq_peak_macs_input/A001_K562_WSTARRseq.Input.rep3.WGS.unstranded.bed.gz </td></tr>\n",
       "\t<tr><th scope=row>Input.rep4</th><td>Input.rep4 </td><td>Input </td><td>/data/reddylab/Kuei/out/proj_combeffect_encode_fcc/results/A001_K562_WSTARRseq/coverage_astarrseq_peak_macs_input/A001_K562_WSTARRseq.Input.rep4.WGS.unstranded.bed.gz </td></tr>\n",
       "\t<tr><th scope=row>Output.rep1</th><td>Output.rep1</td><td>Output</td><td>/data/reddylab/Kuei/out/proj_combeffect_encode_fcc/results/A001_K562_WSTARRseq/coverage_astarrseq_peak_macs_input/A001_K562_WSTARRseq.Output.rep1.WGS.unstranded.bed.gz</td></tr>\n",
       "\t<tr><th scope=row>Output.rep2</th><td>Output.rep2</td><td>Output</td><td>/data/reddylab/Kuei/out/proj_combeffect_encode_fcc/results/A001_K562_WSTARRseq/coverage_astarrseq_peak_macs_input/A001_K562_WSTARRseq.Output.rep2.WGS.unstranded.bed.gz</td></tr>\n",
       "\t<tr><th scope=row>Output.rep3</th><td>Output.rep3</td><td>Output</td><td>/data/reddylab/Kuei/out/proj_combeffect_encode_fcc/results/A001_K562_WSTARRseq/coverage_astarrseq_peak_macs_input/A001_K562_WSTARRseq.Output.rep3.WGS.unstranded.bed.gz</td></tr>\n",
       "</tbody>\n",
       "</table>\n"
      ],
      "text/latex": [
       "A data.frame: 7 × 3\n",
       "\\begin{tabular}{r|lll}\n",
       "  & Sample & Group & FPath\\\\\n",
       "  & <chr> & <chr> & <chr>\\\\\n",
       "\\hline\n",
       "\tInput.rep1 & Input.rep1  & Input  & /data/reddylab/Kuei/out/proj\\_combeffect\\_encode\\_fcc/results/A001\\_K562\\_WSTARRseq/coverage\\_astarrseq\\_peak\\_macs\\_input/A001\\_K562\\_WSTARRseq.Input.rep1.WGS.unstranded.bed.gz \\\\\n",
       "\tInput.rep2 & Input.rep2  & Input  & /data/reddylab/Kuei/out/proj\\_combeffect\\_encode\\_fcc/results/A001\\_K562\\_WSTARRseq/coverage\\_astarrseq\\_peak\\_macs\\_input/A001\\_K562\\_WSTARRseq.Input.rep2.WGS.unstranded.bed.gz \\\\\n",
       "\tInput.rep3 & Input.rep3  & Input  & /data/reddylab/Kuei/out/proj\\_combeffect\\_encode\\_fcc/results/A001\\_K562\\_WSTARRseq/coverage\\_astarrseq\\_peak\\_macs\\_input/A001\\_K562\\_WSTARRseq.Input.rep3.WGS.unstranded.bed.gz \\\\\n",
       "\tInput.rep4 & Input.rep4  & Input  & /data/reddylab/Kuei/out/proj\\_combeffect\\_encode\\_fcc/results/A001\\_K562\\_WSTARRseq/coverage\\_astarrseq\\_peak\\_macs\\_input/A001\\_K562\\_WSTARRseq.Input.rep4.WGS.unstranded.bed.gz \\\\\n",
       "\tOutput.rep1 & Output.rep1 & Output & /data/reddylab/Kuei/out/proj\\_combeffect\\_encode\\_fcc/results/A001\\_K562\\_WSTARRseq/coverage\\_astarrseq\\_peak\\_macs\\_input/A001\\_K562\\_WSTARRseq.Output.rep1.WGS.unstranded.bed.gz\\\\\n",
       "\tOutput.rep2 & Output.rep2 & Output & /data/reddylab/Kuei/out/proj\\_combeffect\\_encode\\_fcc/results/A001\\_K562\\_WSTARRseq/coverage\\_astarrseq\\_peak\\_macs\\_input/A001\\_K562\\_WSTARRseq.Output.rep2.WGS.unstranded.bed.gz\\\\\n",
       "\tOutput.rep3 & Output.rep3 & Output & /data/reddylab/Kuei/out/proj\\_combeffect\\_encode\\_fcc/results/A001\\_K562\\_WSTARRseq/coverage\\_astarrseq\\_peak\\_macs\\_input/A001\\_K562\\_WSTARRseq.Output.rep3.WGS.unstranded.bed.gz\\\\\n",
       "\\end{tabular}\n"
      ],
      "text/markdown": [
       "\n",
       "A data.frame: 7 × 3\n",
       "\n",
       "| <!--/--> | Sample &lt;chr&gt; | Group &lt;chr&gt; | FPath &lt;chr&gt; |\n",
       "|---|---|---|---|\n",
       "| Input.rep1 | Input.rep1  | Input  | /data/reddylab/Kuei/out/proj_combeffect_encode_fcc/results/A001_K562_WSTARRseq/coverage_astarrseq_peak_macs_input/A001_K562_WSTARRseq.Input.rep1.WGS.unstranded.bed.gz  |\n",
       "| Input.rep2 | Input.rep2  | Input  | /data/reddylab/Kuei/out/proj_combeffect_encode_fcc/results/A001_K562_WSTARRseq/coverage_astarrseq_peak_macs_input/A001_K562_WSTARRseq.Input.rep2.WGS.unstranded.bed.gz  |\n",
       "| Input.rep3 | Input.rep3  | Input  | /data/reddylab/Kuei/out/proj_combeffect_encode_fcc/results/A001_K562_WSTARRseq/coverage_astarrseq_peak_macs_input/A001_K562_WSTARRseq.Input.rep3.WGS.unstranded.bed.gz  |\n",
       "| Input.rep4 | Input.rep4  | Input  | /data/reddylab/Kuei/out/proj_combeffect_encode_fcc/results/A001_K562_WSTARRseq/coverage_astarrseq_peak_macs_input/A001_K562_WSTARRseq.Input.rep4.WGS.unstranded.bed.gz  |\n",
       "| Output.rep1 | Output.rep1 | Output | /data/reddylab/Kuei/out/proj_combeffect_encode_fcc/results/A001_K562_WSTARRseq/coverage_astarrseq_peak_macs_input/A001_K562_WSTARRseq.Output.rep1.WGS.unstranded.bed.gz |\n",
       "| Output.rep2 | Output.rep2 | Output | /data/reddylab/Kuei/out/proj_combeffect_encode_fcc/results/A001_K562_WSTARRseq/coverage_astarrseq_peak_macs_input/A001_K562_WSTARRseq.Output.rep2.WGS.unstranded.bed.gz |\n",
       "| Output.rep3 | Output.rep3 | Output | /data/reddylab/Kuei/out/proj_combeffect_encode_fcc/results/A001_K562_WSTARRseq/coverage_astarrseq_peak_macs_input/A001_K562_WSTARRseq.Output.rep3.WGS.unstranded.bed.gz |\n",
       "\n"
      ],
      "text/plain": [
       "            Sample      Group \n",
       "Input.rep1  Input.rep1  Input \n",
       "Input.rep2  Input.rep2  Input \n",
       "Input.rep3  Input.rep3  Input \n",
       "Input.rep4  Input.rep4  Input \n",
       "Output.rep1 Output.rep1 Output\n",
       "Output.rep2 Output.rep2 Output\n",
       "Output.rep3 Output.rep3 Output\n",
       "            FPath                                                                                                                                                                  \n",
       "Input.rep1  /data/reddylab/Kuei/out/proj_combeffect_encode_fcc/results/A001_K562_WSTARRseq/coverage_astarrseq_peak_macs_input/A001_K562_WSTARRseq.Input.rep1.WGS.unstranded.bed.gz \n",
       "Input.rep2  /data/reddylab/Kuei/out/proj_combeffect_encode_fcc/results/A001_K562_WSTARRseq/coverage_astarrseq_peak_macs_input/A001_K562_WSTARRseq.Input.rep2.WGS.unstranded.bed.gz \n",
       "Input.rep3  /data/reddylab/Kuei/out/proj_combeffect_encode_fcc/results/A001_K562_WSTARRseq/coverage_astarrseq_peak_macs_input/A001_K562_WSTARRseq.Input.rep3.WGS.unstranded.bed.gz \n",
       "Input.rep4  /data/reddylab/Kuei/out/proj_combeffect_encode_fcc/results/A001_K562_WSTARRseq/coverage_astarrseq_peak_macs_input/A001_K562_WSTARRseq.Input.rep4.WGS.unstranded.bed.gz \n",
       "Output.rep1 /data/reddylab/Kuei/out/proj_combeffect_encode_fcc/results/A001_K562_WSTARRseq/coverage_astarrseq_peak_macs_input/A001_K562_WSTARRseq.Output.rep1.WGS.unstranded.bed.gz\n",
       "Output.rep2 /data/reddylab/Kuei/out/proj_combeffect_encode_fcc/results/A001_K562_WSTARRseq/coverage_astarrseq_peak_macs_input/A001_K562_WSTARRseq.Output.rep2.WGS.unstranded.bed.gz\n",
       "Output.rep3 /data/reddylab/Kuei/out/proj_combeffect_encode_fcc/results/A001_K562_WSTARRseq/coverage_astarrseq_peak_macs_input/A001_K562_WSTARRseq.Output.rep3.WGS.unstranded.bed.gz"
      ]
     },
     "metadata": {},
     "output_type": "display_data"
    }
   ],
   "source": [
    "dat_meta = data.frame(\n",
    "    Sample = SAMPLES,\n",
    "    Group  = sapply(fpaths, get_group),\n",
    "    FPath  = fpaths\n",
    ")\n",
    "rownames(dat_meta) = SAMPLES\n",
    "dat_meta"
   ]
  },
  {
   "cell_type": "markdown",
   "id": "127afa46",
   "metadata": {},
   "source": [
    "## Import data and arrange into count matrix"
   ]
  },
  {
   "cell_type": "code",
   "execution_count": 5,
   "id": "f3357610",
   "metadata": {},
   "outputs": [
    {
     "data": {
      "text/html": [
       "<table class=\"dataframe\">\n",
       "<caption>A tibble: 6 × 11</caption>\n",
       "<thead>\n",
       "\t<tr><th scope=col>Chrom</th><th scope=col>Start</th><th scope=col>End</th><th scope=col>Peak</th><th scope=col>Input.rep1</th><th scope=col>Input.rep2</th><th scope=col>Input.rep3</th><th scope=col>Input.rep4</th><th scope=col>Output.rep1</th><th scope=col>Output.rep2</th><th scope=col>Output.rep3</th></tr>\n",
       "\t<tr><th scope=col>&lt;chr&gt;</th><th scope=col>&lt;dbl&gt;</th><th scope=col>&lt;dbl&gt;</th><th scope=col>&lt;chr&gt;</th><th scope=col>&lt;int&gt;</th><th scope=col>&lt;int&gt;</th><th scope=col>&lt;int&gt;</th><th scope=col>&lt;int&gt;</th><th scope=col>&lt;int&gt;</th><th scope=col>&lt;int&gt;</th><th scope=col>&lt;int&gt;</th></tr>\n",
       "</thead>\n",
       "<tbody>\n",
       "\t<tr><td>chr1</td><td> 10015</td><td> 10442</td><td>chr1_10015_10442  </td><td> 1</td><td> 1</td><td> 1</td><td> 1</td><td> NA</td><td> NA</td><td> NA</td></tr>\n",
       "\t<tr><td>chr1</td><td> 17237</td><td> 17772</td><td>chr1_17237_17772  </td><td> 5</td><td>12</td><td>15</td><td>17</td><td> 18</td><td> 23</td><td> 27</td></tr>\n",
       "\t<tr><td>chr1</td><td>136071</td><td>137429</td><td>chr1_136071_137429</td><td> 3</td><td> 4</td><td> 7</td><td> 4</td><td> 12</td><td> 12</td><td> 29</td></tr>\n",
       "\t<tr><td>chr1</td><td>137737</td><td>139544</td><td>chr1_137737_139544</td><td>14</td><td>40</td><td>41</td><td>52</td><td>145</td><td>144</td><td>217</td></tr>\n",
       "\t<tr><td>chr1</td><td>180982</td><td>182087</td><td>chr1_180982_182087</td><td> 8</td><td>31</td><td>26</td><td>28</td><td> 63</td><td> 57</td><td> 99</td></tr>\n",
       "\t<tr><td>chr1</td><td>183239</td><td>184602</td><td>chr1_183239_184602</td><td>12</td><td>40</td><td>36</td><td>49</td><td> 71</td><td> 75</td><td>163</td></tr>\n",
       "</tbody>\n",
       "</table>\n"
      ],
      "text/latex": [
       "A tibble: 6 × 11\n",
       "\\begin{tabular}{lllllllllll}\n",
       " Chrom & Start & End & Peak & Input.rep1 & Input.rep2 & Input.rep3 & Input.rep4 & Output.rep1 & Output.rep2 & Output.rep3\\\\\n",
       " <chr> & <dbl> & <dbl> & <chr> & <int> & <int> & <int> & <int> & <int> & <int> & <int>\\\\\n",
       "\\hline\n",
       "\t chr1 &  10015 &  10442 & chr1\\_10015\\_10442   &  1 &  1 &  1 &  1 &  NA &  NA &  NA\\\\\n",
       "\t chr1 &  17237 &  17772 & chr1\\_17237\\_17772   &  5 & 12 & 15 & 17 &  18 &  23 &  27\\\\\n",
       "\t chr1 & 136071 & 137429 & chr1\\_136071\\_137429 &  3 &  4 &  7 &  4 &  12 &  12 &  29\\\\\n",
       "\t chr1 & 137737 & 139544 & chr1\\_137737\\_139544 & 14 & 40 & 41 & 52 & 145 & 144 & 217\\\\\n",
       "\t chr1 & 180982 & 182087 & chr1\\_180982\\_182087 &  8 & 31 & 26 & 28 &  63 &  57 &  99\\\\\n",
       "\t chr1 & 183239 & 184602 & chr1\\_183239\\_184602 & 12 & 40 & 36 & 49 &  71 &  75 & 163\\\\\n",
       "\\end{tabular}\n"
      ],
      "text/markdown": [
       "\n",
       "A tibble: 6 × 11\n",
       "\n",
       "| Chrom &lt;chr&gt; | Start &lt;dbl&gt; | End &lt;dbl&gt; | Peak &lt;chr&gt; | Input.rep1 &lt;int&gt; | Input.rep2 &lt;int&gt; | Input.rep3 &lt;int&gt; | Input.rep4 &lt;int&gt; | Output.rep1 &lt;int&gt; | Output.rep2 &lt;int&gt; | Output.rep3 &lt;int&gt; |\n",
       "|---|---|---|---|---|---|---|---|---|---|---|\n",
       "| chr1 |  10015 |  10442 | chr1_10015_10442   |  1 |  1 |  1 |  1 |  NA |  NA |  NA |\n",
       "| chr1 |  17237 |  17772 | chr1_17237_17772   |  5 | 12 | 15 | 17 |  18 |  23 |  27 |\n",
       "| chr1 | 136071 | 137429 | chr1_136071_137429 |  3 |  4 |  7 |  4 |  12 |  12 |  29 |\n",
       "| chr1 | 137737 | 139544 | chr1_137737_139544 | 14 | 40 | 41 | 52 | 145 | 144 | 217 |\n",
       "| chr1 | 180982 | 182087 | chr1_180982_182087 |  8 | 31 | 26 | 28 |  63 |  57 |  99 |\n",
       "| chr1 | 183239 | 184602 | chr1_183239_184602 | 12 | 40 | 36 | 49 |  71 |  75 | 163 |\n",
       "\n"
      ],
      "text/plain": [
       "  Chrom Start  End    Peak               Input.rep1 Input.rep2 Input.rep3\n",
       "1 chr1   10015  10442 chr1_10015_10442    1          1          1        \n",
       "2 chr1   17237  17772 chr1_17237_17772    5         12         15        \n",
       "3 chr1  136071 137429 chr1_136071_137429  3          4          7        \n",
       "4 chr1  137737 139544 chr1_137737_139544 14         40         41        \n",
       "5 chr1  180982 182087 chr1_180982_182087  8         31         26        \n",
       "6 chr1  183239 184602 chr1_183239_184602 12         40         36        \n",
       "  Input.rep4 Output.rep1 Output.rep2 Output.rep3\n",
       "1  1          NA          NA          NA        \n",
       "2 17          18          23          27        \n",
       "3  4          12          12          29        \n",
       "4 52         145         144         217        \n",
       "5 28          63          57          99        \n",
       "6 49          71          75         163        "
      ]
     },
     "metadata": {},
     "output_type": "display_data"
    }
   ],
   "source": [
    "cnames = c(\"Chrom\", \"Start\", \"End\", \"Count\")\n",
    "ctypes = c(col_character(), col_integer(), col_integer(), col_integer())\n",
    "\n",
    "lst = lapply(seq_along(fpaths), function(idx){\n",
    "    fpath = fpaths[idx]\n",
    "    sam = SAMPLES[idx]\n",
    "    dat = read_tsv(fpath, col_names = cnames, col_types = ctypes) %>% \n",
    "        dplyr::filter(Count != \".\") %>% \n",
    "        dplyr::mutate(Count  = as.integer(Count)) %>%\n",
    "        dplyr::mutate(\n",
    "            Peak   = paste(Chrom, Start, End, sep=\"_\"),\n",
    "            Sample = sam)\n",
    "    return(dat)\n",
    "})\n",
    "\n",
    "dat_count = bind_rows(lst) %>% spread(Sample, Count)\n",
    "head(dat_count)"
   ]
  },
  {
   "cell_type": "code",
   "execution_count": 6,
   "id": "64a8c1ad",
   "metadata": {},
   "outputs": [
    {
     "data": {
      "text/html": [
       "<table class=\"dataframe\">\n",
       "<caption>A tibble: 0 × 11</caption>\n",
       "<thead>\n",
       "\t<tr><th scope=col>Chrom</th><th scope=col>Start</th><th scope=col>End</th><th scope=col>Peak</th><th scope=col>Input.rep1</th><th scope=col>Input.rep2</th><th scope=col>Input.rep3</th><th scope=col>Input.rep4</th><th scope=col>Output.rep1</th><th scope=col>Output.rep2</th><th scope=col>Output.rep3</th></tr>\n",
       "\t<tr><th scope=col>&lt;chr&gt;</th><th scope=col>&lt;dbl&gt;</th><th scope=col>&lt;dbl&gt;</th><th scope=col>&lt;chr&gt;</th><th scope=col>&lt;int&gt;</th><th scope=col>&lt;int&gt;</th><th scope=col>&lt;int&gt;</th><th scope=col>&lt;int&gt;</th><th scope=col>&lt;int&gt;</th><th scope=col>&lt;int&gt;</th><th scope=col>&lt;int&gt;</th></tr>\n",
       "</thead>\n",
       "<tbody>\n",
       "</tbody>\n",
       "</table>\n"
      ],
      "text/latex": [
       "A tibble: 0 × 11\n",
       "\\begin{tabular}{lllllllllll}\n",
       " Chrom & Start & End & Peak & Input.rep1 & Input.rep2 & Input.rep3 & Input.rep4 & Output.rep1 & Output.rep2 & Output.rep3\\\\\n",
       " <chr> & <dbl> & <dbl> & <chr> & <int> & <int> & <int> & <int> & <int> & <int> & <int>\\\\\n",
       "\\hline\n",
       "\\end{tabular}\n"
      ],
      "text/markdown": [
       "\n",
       "A tibble: 0 × 11\n",
       "\n",
       "| Chrom &lt;chr&gt; | Start &lt;dbl&gt; | End &lt;dbl&gt; | Peak &lt;chr&gt; | Input.rep1 &lt;int&gt; | Input.rep2 &lt;int&gt; | Input.rep3 &lt;int&gt; | Input.rep4 &lt;int&gt; | Output.rep1 &lt;int&gt; | Output.rep2 &lt;int&gt; | Output.rep3 &lt;int&gt; |\n",
       "|---|---|---|---|---|---|---|---|---|---|---|\n",
       "\n"
      ],
      "text/plain": [
       "     Chrom Start End Peak Input.rep1 Input.rep2 Input.rep3 Input.rep4\n",
       "     Output.rep1 Output.rep2 Output.rep3"
      ]
     },
     "metadata": {},
     "output_type": "display_data"
    }
   ],
   "source": [
    "dat_count %>% dplyr::filter(is.na(Peak))"
   ]
  },
  {
   "cell_type": "code",
   "execution_count": 7,
   "id": "dec7c9c4",
   "metadata": {},
   "outputs": [
    {
     "data": {
      "text/html": [
       "<table class=\"dataframe\">\n",
       "<caption>A tibble: 2082 × 11</caption>\n",
       "<thead>\n",
       "\t<tr><th scope=col>Chrom</th><th scope=col>Start</th><th scope=col>End</th><th scope=col>Peak</th><th scope=col>Input.rep1</th><th scope=col>Input.rep2</th><th scope=col>Input.rep3</th><th scope=col>Input.rep4</th><th scope=col>Output.rep1</th><th scope=col>Output.rep2</th><th scope=col>Output.rep3</th></tr>\n",
       "\t<tr><th scope=col>&lt;chr&gt;</th><th scope=col>&lt;dbl&gt;</th><th scope=col>&lt;dbl&gt;</th><th scope=col>&lt;chr&gt;</th><th scope=col>&lt;int&gt;</th><th scope=col>&lt;int&gt;</th><th scope=col>&lt;int&gt;</th><th scope=col>&lt;int&gt;</th><th scope=col>&lt;int&gt;</th><th scope=col>&lt;int&gt;</th><th scope=col>&lt;int&gt;</th></tr>\n",
       "</thead>\n",
       "<tbody>\n",
       "\t<tr><td>chr1</td><td>   16015</td><td>   16477</td><td>chr1_16015_16477      </td><td>NA</td><td> 6</td><td> 9</td><td>12</td><td>20</td><td>14</td><td>33</td></tr>\n",
       "\t<tr><td>chr1</td><td>  115411</td><td>  115986</td><td>chr1_115411_115986    </td><td>NA</td><td> 1</td><td> 2</td><td>NA</td><td> 2</td><td> 2</td><td> 8</td></tr>\n",
       "\t<tr><td>chr1</td><td>  118518</td><td>  118743</td><td>chr1_118518_118743    </td><td>NA</td><td> 1</td><td> 2</td><td>NA</td><td>NA</td><td> 3</td><td> 3</td></tr>\n",
       "\t<tr><td>chr1</td><td>  202111</td><td>  202447</td><td>chr1_202111_202447    </td><td>NA</td><td> 2</td><td> 3</td><td> 3</td><td> 3</td><td> 2</td><td> 3</td></tr>\n",
       "\t<tr><td>chr1</td><td>  811251</td><td>  811723</td><td>chr1_811251_811723    </td><td>NA</td><td> 4</td><td> 6</td><td> 6</td><td>14</td><td>14</td><td>19</td></tr>\n",
       "\t<tr><td>chr1</td><td>  892051</td><td>  892408</td><td>chr1_892051_892408    </td><td>NA</td><td> 6</td><td>12</td><td>10</td><td>10</td><td> 8</td><td>14</td></tr>\n",
       "\t<tr><td>chr1</td><td> 2687105</td><td> 2688564</td><td>chr1_2687105_2688564  </td><td>NA</td><td> 5</td><td> 8</td><td> 9</td><td>13</td><td> 8</td><td>33</td></tr>\n",
       "\t<tr><td>chr1</td><td> 2757629</td><td> 2757900</td><td>chr1_2757629_2757900  </td><td>NA</td><td> 4</td><td> 3</td><td> 2</td><td> 3</td><td> 2</td><td> 7</td></tr>\n",
       "\t<tr><td>chr1</td><td> 3643071</td><td> 3643605</td><td>chr1_3643071_3643605  </td><td>NA</td><td>30</td><td>31</td><td>37</td><td>56</td><td>61</td><td>95</td></tr>\n",
       "\t<tr><td>chr1</td><td> 7601060</td><td> 7601336</td><td>chr1_7601060_7601336  </td><td>NA</td><td>11</td><td> 7</td><td> 7</td><td>14</td><td>15</td><td>28</td></tr>\n",
       "\t<tr><td>chr1</td><td> 7909274</td><td> 7909515</td><td>chr1_7909274_7909515  </td><td>NA</td><td>11</td><td> 7</td><td> 6</td><td>11</td><td>12</td><td>18</td></tr>\n",
       "\t<tr><td>chr1</td><td> 8070097</td><td> 8070468</td><td>chr1_8070097_8070468  </td><td>NA</td><td> 3</td><td> 9</td><td> 5</td><td> 8</td><td> 5</td><td>27</td></tr>\n",
       "\t<tr><td>chr1</td><td> 8573522</td><td> 8574258</td><td>chr1_8573522_8574258  </td><td>NA</td><td>11</td><td>14</td><td>18</td><td>25</td><td>28</td><td>42</td></tr>\n",
       "\t<tr><td>chr1</td><td>10135318</td><td>10135633</td><td>chr1_10135318_10135633</td><td>NA</td><td>10</td><td>13</td><td>11</td><td>23</td><td>17</td><td>33</td></tr>\n",
       "\t<tr><td>chr1</td><td>10534631</td><td>10534912</td><td>chr1_10534631_10534912</td><td>NA</td><td>22</td><td>20</td><td>18</td><td>29</td><td>37</td><td>48</td></tr>\n",
       "\t<tr><td>chr1</td><td>11222260</td><td>11222534</td><td>chr1_11222260_11222534</td><td>NA</td><td> 2</td><td> 3</td><td> 4</td><td>13</td><td>10</td><td>17</td></tr>\n",
       "\t<tr><td>chr1</td><td>12252929</td><td>12253383</td><td>chr1_12252929_12253383</td><td>NA</td><td> 4</td><td> 7</td><td> 1</td><td>11</td><td> 6</td><td>20</td></tr>\n",
       "\t<tr><td>chr1</td><td>15351086</td><td>15351512</td><td>chr1_15351086_15351512</td><td>NA</td><td> 7</td><td>17</td><td>16</td><td>20</td><td>16</td><td>24</td></tr>\n",
       "\t<tr><td>chr1</td><td>15481055</td><td>15481351</td><td>chr1_15481055_15481351</td><td>NA</td><td>27</td><td>18</td><td>24</td><td>29</td><td>36</td><td>68</td></tr>\n",
       "\t<tr><td>chr1</td><td>15901279</td><td>15901618</td><td>chr1_15901279_15901618</td><td>NA</td><td> 5</td><td> 6</td><td> 6</td><td>16</td><td> 8</td><td>27</td></tr>\n",
       "\t<tr><td>chr1</td><td>15903482</td><td>15903705</td><td>chr1_15903482_15903705</td><td>NA</td><td>18</td><td> 8</td><td> 5</td><td>22</td><td>20</td><td>31</td></tr>\n",
       "\t<tr><td>chr1</td><td>16578219</td><td>16578944</td><td>chr1_16578219_16578944</td><td>NA</td><td> 7</td><td>11</td><td>12</td><td>15</td><td>15</td><td>37</td></tr>\n",
       "\t<tr><td>chr1</td><td>16709565</td><td>16709946</td><td>chr1_16709565_16709946</td><td>NA</td><td>10</td><td> 6</td><td>10</td><td>14</td><td> 7</td><td>31</td></tr>\n",
       "\t<tr><td>chr1</td><td>16748497</td><td>16749164</td><td>chr1_16748497_16749164</td><td>NA</td><td> 9</td><td>12</td><td> 5</td><td>13</td><td>17</td><td>28</td></tr>\n",
       "\t<tr><td>chr1</td><td>17039573</td><td>17039800</td><td>chr1_17039573_17039800</td><td>NA</td><td> 4</td><td> 2</td><td> 3</td><td> 4</td><td> 3</td><td> 8</td></tr>\n",
       "\t<tr><td>chr1</td><td>18631012</td><td>18631307</td><td>chr1_18631012_18631307</td><td>NA</td><td>14</td><td>19</td><td>13</td><td>37</td><td>41</td><td>95</td></tr>\n",
       "\t<tr><td>chr1</td><td>19532909</td><td>19533214</td><td>chr1_19532909_19533214</td><td>NA</td><td> 4</td><td>10</td><td> 1</td><td> 3</td><td> 4</td><td>14</td></tr>\n",
       "\t<tr><td>chr1</td><td>19789008</td><td>19789299</td><td>chr1_19789008_19789299</td><td>NA</td><td> 2</td><td>12</td><td> 7</td><td>11</td><td>10</td><td>24</td></tr>\n",
       "\t<tr><td>chr1</td><td>20743484</td><td>20743807</td><td>chr1_20743484_20743807</td><td>NA</td><td> 3</td><td> 1</td><td> 2</td><td> 4</td><td> 5</td><td> 6</td></tr>\n",
       "\t<tr><td>chr1</td><td>20926354</td><td>20926609</td><td>chr1_20926354_20926609</td><td>NA</td><td>20</td><td>11</td><td> 8</td><td>19</td><td>17</td><td>34</td></tr>\n",
       "\t<tr><td>⋮</td><td>⋮</td><td>⋮</td><td>⋮</td><td>⋮</td><td>⋮</td><td>⋮</td><td>⋮</td><td>⋮</td><td>⋮</td><td>⋮</td></tr>\n",
       "\t<tr><td>chr16</td><td> 32740878</td><td> 32741226</td><td>chr16_32740878_32741226  </td><td>NA</td><td>NA</td><td>NA</td><td>NA</td><td> 2</td><td>NA</td><td>NA</td></tr>\n",
       "\t<tr><td>chr19</td><td> 58604611</td><td> 58605025</td><td>chr19_58604611_58605025  </td><td>NA</td><td>NA</td><td>NA</td><td>NA</td><td> 1</td><td> 2</td><td> 7</td></tr>\n",
       "\t<tr><td>chr2 </td><td>152740678</td><td>152740972</td><td>chr2_152740678_152740972 </td><td>NA</td><td>NA</td><td>NA</td><td>NA</td><td> 1</td><td> 5</td><td> 5</td></tr>\n",
       "\t<tr><td>chr22</td><td> 21396943</td><td> 21397355</td><td>chr22_21396943_21397355  </td><td>NA</td><td>NA</td><td>NA</td><td>NA</td><td> 1</td><td> 3</td><td> 7</td></tr>\n",
       "\t<tr><td>chr5 </td><td> 71289748</td><td> 71290295</td><td>chr5_71289748_71290295   </td><td>NA</td><td>NA</td><td>NA</td><td>NA</td><td> 1</td><td> 1</td><td> 4</td></tr>\n",
       "\t<tr><td>chr7 </td><td>152877958</td><td>152878202</td><td>chr7_152877958_152878202 </td><td>NA</td><td>NA</td><td>NA</td><td>NA</td><td> 1</td><td> 1</td><td>NA</td></tr>\n",
       "\t<tr><td>chr7 </td><td>158425315</td><td>158425933</td><td>chr7_158425315_158425933 </td><td>NA</td><td>NA</td><td>NA</td><td>NA</td><td> 1</td><td>NA</td><td>NA</td></tr>\n",
       "\t<tr><td>chr8 </td><td> 12223774</td><td> 12224144</td><td>chr8_12223774_12224144   </td><td>NA</td><td>NA</td><td>NA</td><td>NA</td><td> 3</td><td> 3</td><td> 5</td></tr>\n",
       "\t<tr><td>chr9 </td><td>138225284</td><td>138225589</td><td>chr9_138225284_138225589 </td><td>NA</td><td>NA</td><td>NA</td><td>NA</td><td> 2</td><td> 2</td><td> 3</td></tr>\n",
       "\t<tr><td>chr1 </td><td>148890705</td><td>148890927</td><td>chr1_148890705_148890927 </td><td>NA</td><td>NA</td><td>NA</td><td>NA</td><td>NA</td><td> 1</td><td>NA</td></tr>\n",
       "\t<tr><td>chr1 </td><td>149260203</td><td>149260758</td><td>chr1_149260203_149260758 </td><td>NA</td><td>NA</td><td>NA</td><td>NA</td><td>NA</td><td> 2</td><td> 1</td></tr>\n",
       "\t<tr><td>chr14</td><td>105864640</td><td>105865091</td><td>chr14_105864640_105865091</td><td>NA</td><td>NA</td><td>NA</td><td>NA</td><td>NA</td><td> 1</td><td> 1</td></tr>\n",
       "\t<tr><td>chr15</td><td>101905467</td><td>101906589</td><td>chr15_101905467_101906589</td><td>NA</td><td>NA</td><td>NA</td><td>NA</td><td>NA</td><td> 3</td><td>NA</td></tr>\n",
       "\t<tr><td>chr17</td><td> 43277419</td><td> 43277832</td><td>chr17_43277419_43277832  </td><td>NA</td><td>NA</td><td>NA</td><td>NA</td><td>NA</td><td> 1</td><td>NA</td></tr>\n",
       "\t<tr><td>chr21</td><td>  8239121</td><td>  8239467</td><td>chr21_8239121_8239467    </td><td>NA</td><td>NA</td><td>NA</td><td>NA</td><td>NA</td><td> 1</td><td>NA</td></tr>\n",
       "\t<tr><td>chr21</td><td> 44143932</td><td> 44144372</td><td>chr21_44143932_44144372  </td><td>NA</td><td>NA</td><td>NA</td><td>NA</td><td>NA</td><td> 1</td><td> 7</td></tr>\n",
       "\t<tr><td>chr22</td><td> 18618941</td><td> 18619186</td><td>chr22_18618941_18619186  </td><td>NA</td><td>NA</td><td>NA</td><td>NA</td><td>NA</td><td> 1</td><td>NA</td></tr>\n",
       "\t<tr><td>chr1 </td><td>    14253</td><td>    14645</td><td>chr1_14253_14645         </td><td>NA</td><td>NA</td><td>NA</td><td>NA</td><td>NA</td><td>NA</td><td> 1</td></tr>\n",
       "\t<tr><td>chr1 </td><td> 16852718</td><td> 16853090</td><td>chr1_16852718_16853090   </td><td>NA</td><td>NA</td><td>NA</td><td>NA</td><td>NA</td><td>NA</td><td> 1</td></tr>\n",
       "\t<tr><td>chr10</td><td> 15893894</td><td> 15894232</td><td>chr10_15893894_15894232  </td><td>NA</td><td>NA</td><td>NA</td><td>NA</td><td>NA</td><td>NA</td><td> 2</td></tr>\n",
       "\t<tr><td>chr15</td><td> 85204291</td><td> 85204659</td><td>chr15_85204291_85204659  </td><td>NA</td><td>NA</td><td>NA</td><td>NA</td><td>NA</td><td>NA</td><td> 1</td></tr>\n",
       "\t<tr><td>chr15</td><td>101892600</td><td>101893647</td><td>chr15_101892600_101893647</td><td>NA</td><td>NA</td><td>NA</td><td>NA</td><td>NA</td><td>NA</td><td> 1</td></tr>\n",
       "\t<tr><td>chr17</td><td> 19196527</td><td> 19196975</td><td>chr17_19196527_19196975  </td><td>NA</td><td>NA</td><td>NA</td><td>NA</td><td>NA</td><td>NA</td><td> 2</td></tr>\n",
       "\t<tr><td>chr19</td><td> 50117489</td><td> 50117935</td><td>chr19_50117489_50117935  </td><td>NA</td><td>NA</td><td>NA</td><td>NA</td><td>NA</td><td>NA</td><td> 1</td></tr>\n",
       "\t<tr><td>chr19</td><td> 56235849</td><td> 56236109</td><td>chr19_56235849_56236109  </td><td>NA</td><td>NA</td><td>NA</td><td>NA</td><td>NA</td><td>NA</td><td> 1</td></tr>\n",
       "\t<tr><td>chr6 </td><td>  7272455</td><td>  7273324</td><td>chr6_7272455_7273324     </td><td>NA</td><td>NA</td><td>NA</td><td>NA</td><td>NA</td><td>NA</td><td> 1</td></tr>\n",
       "\t<tr><td>chr7 </td><td> 76486740</td><td> 76486973</td><td>chr7_76486740_76486973   </td><td>NA</td><td>NA</td><td>NA</td><td>NA</td><td>NA</td><td>NA</td><td> 1</td></tr>\n",
       "\t<tr><td>chr7 </td><td>152881564</td><td>152883268</td><td>chr7_152881564_152883268 </td><td>NA</td><td>NA</td><td>NA</td><td>NA</td><td>NA</td><td>NA</td><td> 1</td></tr>\n",
       "\t<tr><td>chrX </td><td>154247748</td><td>154248055</td><td>chrX_154247748_154248055 </td><td>NA</td><td>NA</td><td>NA</td><td>NA</td><td>NA</td><td>NA</td><td> 1</td></tr>\n",
       "\t<tr><td>chrX </td><td>154341384</td><td>154342046</td><td>chrX_154341384_154342046 </td><td>NA</td><td>NA</td><td>NA</td><td>NA</td><td>NA</td><td>NA</td><td> 1</td></tr>\n",
       "</tbody>\n",
       "</table>\n"
      ],
      "text/latex": [
       "A tibble: 2082 × 11\n",
       "\\begin{tabular}{lllllllllll}\n",
       " Chrom & Start & End & Peak & Input.rep1 & Input.rep2 & Input.rep3 & Input.rep4 & Output.rep1 & Output.rep2 & Output.rep3\\\\\n",
       " <chr> & <dbl> & <dbl> & <chr> & <int> & <int> & <int> & <int> & <int> & <int> & <int>\\\\\n",
       "\\hline\n",
       "\t chr1 &    16015 &    16477 & chr1\\_16015\\_16477       & NA &  6 &  9 & 12 & 20 & 14 & 33\\\\\n",
       "\t chr1 &   115411 &   115986 & chr1\\_115411\\_115986     & NA &  1 &  2 & NA &  2 &  2 &  8\\\\\n",
       "\t chr1 &   118518 &   118743 & chr1\\_118518\\_118743     & NA &  1 &  2 & NA & NA &  3 &  3\\\\\n",
       "\t chr1 &   202111 &   202447 & chr1\\_202111\\_202447     & NA &  2 &  3 &  3 &  3 &  2 &  3\\\\\n",
       "\t chr1 &   811251 &   811723 & chr1\\_811251\\_811723     & NA &  4 &  6 &  6 & 14 & 14 & 19\\\\\n",
       "\t chr1 &   892051 &   892408 & chr1\\_892051\\_892408     & NA &  6 & 12 & 10 & 10 &  8 & 14\\\\\n",
       "\t chr1 &  2687105 &  2688564 & chr1\\_2687105\\_2688564   & NA &  5 &  8 &  9 & 13 &  8 & 33\\\\\n",
       "\t chr1 &  2757629 &  2757900 & chr1\\_2757629\\_2757900   & NA &  4 &  3 &  2 &  3 &  2 &  7\\\\\n",
       "\t chr1 &  3643071 &  3643605 & chr1\\_3643071\\_3643605   & NA & 30 & 31 & 37 & 56 & 61 & 95\\\\\n",
       "\t chr1 &  7601060 &  7601336 & chr1\\_7601060\\_7601336   & NA & 11 &  7 &  7 & 14 & 15 & 28\\\\\n",
       "\t chr1 &  7909274 &  7909515 & chr1\\_7909274\\_7909515   & NA & 11 &  7 &  6 & 11 & 12 & 18\\\\\n",
       "\t chr1 &  8070097 &  8070468 & chr1\\_8070097\\_8070468   & NA &  3 &  9 &  5 &  8 &  5 & 27\\\\\n",
       "\t chr1 &  8573522 &  8574258 & chr1\\_8573522\\_8574258   & NA & 11 & 14 & 18 & 25 & 28 & 42\\\\\n",
       "\t chr1 & 10135318 & 10135633 & chr1\\_10135318\\_10135633 & NA & 10 & 13 & 11 & 23 & 17 & 33\\\\\n",
       "\t chr1 & 10534631 & 10534912 & chr1\\_10534631\\_10534912 & NA & 22 & 20 & 18 & 29 & 37 & 48\\\\\n",
       "\t chr1 & 11222260 & 11222534 & chr1\\_11222260\\_11222534 & NA &  2 &  3 &  4 & 13 & 10 & 17\\\\\n",
       "\t chr1 & 12252929 & 12253383 & chr1\\_12252929\\_12253383 & NA &  4 &  7 &  1 & 11 &  6 & 20\\\\\n",
       "\t chr1 & 15351086 & 15351512 & chr1\\_15351086\\_15351512 & NA &  7 & 17 & 16 & 20 & 16 & 24\\\\\n",
       "\t chr1 & 15481055 & 15481351 & chr1\\_15481055\\_15481351 & NA & 27 & 18 & 24 & 29 & 36 & 68\\\\\n",
       "\t chr1 & 15901279 & 15901618 & chr1\\_15901279\\_15901618 & NA &  5 &  6 &  6 & 16 &  8 & 27\\\\\n",
       "\t chr1 & 15903482 & 15903705 & chr1\\_15903482\\_15903705 & NA & 18 &  8 &  5 & 22 & 20 & 31\\\\\n",
       "\t chr1 & 16578219 & 16578944 & chr1\\_16578219\\_16578944 & NA &  7 & 11 & 12 & 15 & 15 & 37\\\\\n",
       "\t chr1 & 16709565 & 16709946 & chr1\\_16709565\\_16709946 & NA & 10 &  6 & 10 & 14 &  7 & 31\\\\\n",
       "\t chr1 & 16748497 & 16749164 & chr1\\_16748497\\_16749164 & NA &  9 & 12 &  5 & 13 & 17 & 28\\\\\n",
       "\t chr1 & 17039573 & 17039800 & chr1\\_17039573\\_17039800 & NA &  4 &  2 &  3 &  4 &  3 &  8\\\\\n",
       "\t chr1 & 18631012 & 18631307 & chr1\\_18631012\\_18631307 & NA & 14 & 19 & 13 & 37 & 41 & 95\\\\\n",
       "\t chr1 & 19532909 & 19533214 & chr1\\_19532909\\_19533214 & NA &  4 & 10 &  1 &  3 &  4 & 14\\\\\n",
       "\t chr1 & 19789008 & 19789299 & chr1\\_19789008\\_19789299 & NA &  2 & 12 &  7 & 11 & 10 & 24\\\\\n",
       "\t chr1 & 20743484 & 20743807 & chr1\\_20743484\\_20743807 & NA &  3 &  1 &  2 &  4 &  5 &  6\\\\\n",
       "\t chr1 & 20926354 & 20926609 & chr1\\_20926354\\_20926609 & NA & 20 & 11 &  8 & 19 & 17 & 34\\\\\n",
       "\t ⋮ & ⋮ & ⋮ & ⋮ & ⋮ & ⋮ & ⋮ & ⋮ & ⋮ & ⋮ & ⋮\\\\\n",
       "\t chr16 &  32740878 &  32741226 & chr16\\_32740878\\_32741226   & NA & NA & NA & NA &  2 & NA & NA\\\\\n",
       "\t chr19 &  58604611 &  58605025 & chr19\\_58604611\\_58605025   & NA & NA & NA & NA &  1 &  2 &  7\\\\\n",
       "\t chr2  & 152740678 & 152740972 & chr2\\_152740678\\_152740972  & NA & NA & NA & NA &  1 &  5 &  5\\\\\n",
       "\t chr22 &  21396943 &  21397355 & chr22\\_21396943\\_21397355   & NA & NA & NA & NA &  1 &  3 &  7\\\\\n",
       "\t chr5  &  71289748 &  71290295 & chr5\\_71289748\\_71290295    & NA & NA & NA & NA &  1 &  1 &  4\\\\\n",
       "\t chr7  & 152877958 & 152878202 & chr7\\_152877958\\_152878202  & NA & NA & NA & NA &  1 &  1 & NA\\\\\n",
       "\t chr7  & 158425315 & 158425933 & chr7\\_158425315\\_158425933  & NA & NA & NA & NA &  1 & NA & NA\\\\\n",
       "\t chr8  &  12223774 &  12224144 & chr8\\_12223774\\_12224144    & NA & NA & NA & NA &  3 &  3 &  5\\\\\n",
       "\t chr9  & 138225284 & 138225589 & chr9\\_138225284\\_138225589  & NA & NA & NA & NA &  2 &  2 &  3\\\\\n",
       "\t chr1  & 148890705 & 148890927 & chr1\\_148890705\\_148890927  & NA & NA & NA & NA & NA &  1 & NA\\\\\n",
       "\t chr1  & 149260203 & 149260758 & chr1\\_149260203\\_149260758  & NA & NA & NA & NA & NA &  2 &  1\\\\\n",
       "\t chr14 & 105864640 & 105865091 & chr14\\_105864640\\_105865091 & NA & NA & NA & NA & NA &  1 &  1\\\\\n",
       "\t chr15 & 101905467 & 101906589 & chr15\\_101905467\\_101906589 & NA & NA & NA & NA & NA &  3 & NA\\\\\n",
       "\t chr17 &  43277419 &  43277832 & chr17\\_43277419\\_43277832   & NA & NA & NA & NA & NA &  1 & NA\\\\\n",
       "\t chr21 &   8239121 &   8239467 & chr21\\_8239121\\_8239467     & NA & NA & NA & NA & NA &  1 & NA\\\\\n",
       "\t chr21 &  44143932 &  44144372 & chr21\\_44143932\\_44144372   & NA & NA & NA & NA & NA &  1 &  7\\\\\n",
       "\t chr22 &  18618941 &  18619186 & chr22\\_18618941\\_18619186   & NA & NA & NA & NA & NA &  1 & NA\\\\\n",
       "\t chr1  &     14253 &     14645 & chr1\\_14253\\_14645          & NA & NA & NA & NA & NA & NA &  1\\\\\n",
       "\t chr1  &  16852718 &  16853090 & chr1\\_16852718\\_16853090    & NA & NA & NA & NA & NA & NA &  1\\\\\n",
       "\t chr10 &  15893894 &  15894232 & chr10\\_15893894\\_15894232   & NA & NA & NA & NA & NA & NA &  2\\\\\n",
       "\t chr15 &  85204291 &  85204659 & chr15\\_85204291\\_85204659   & NA & NA & NA & NA & NA & NA &  1\\\\\n",
       "\t chr15 & 101892600 & 101893647 & chr15\\_101892600\\_101893647 & NA & NA & NA & NA & NA & NA &  1\\\\\n",
       "\t chr17 &  19196527 &  19196975 & chr17\\_19196527\\_19196975   & NA & NA & NA & NA & NA & NA &  2\\\\\n",
       "\t chr19 &  50117489 &  50117935 & chr19\\_50117489\\_50117935   & NA & NA & NA & NA & NA & NA &  1\\\\\n",
       "\t chr19 &  56235849 &  56236109 & chr19\\_56235849\\_56236109   & NA & NA & NA & NA & NA & NA &  1\\\\\n",
       "\t chr6  &   7272455 &   7273324 & chr6\\_7272455\\_7273324      & NA & NA & NA & NA & NA & NA &  1\\\\\n",
       "\t chr7  &  76486740 &  76486973 & chr7\\_76486740\\_76486973    & NA & NA & NA & NA & NA & NA &  1\\\\\n",
       "\t chr7  & 152881564 & 152883268 & chr7\\_152881564\\_152883268  & NA & NA & NA & NA & NA & NA &  1\\\\\n",
       "\t chrX  & 154247748 & 154248055 & chrX\\_154247748\\_154248055  & NA & NA & NA & NA & NA & NA &  1\\\\\n",
       "\t chrX  & 154341384 & 154342046 & chrX\\_154341384\\_154342046  & NA & NA & NA & NA & NA & NA &  1\\\\\n",
       "\\end{tabular}\n"
      ],
      "text/markdown": [
       "\n",
       "A tibble: 2082 × 11\n",
       "\n",
       "| Chrom &lt;chr&gt; | Start &lt;dbl&gt; | End &lt;dbl&gt; | Peak &lt;chr&gt; | Input.rep1 &lt;int&gt; | Input.rep2 &lt;int&gt; | Input.rep3 &lt;int&gt; | Input.rep4 &lt;int&gt; | Output.rep1 &lt;int&gt; | Output.rep2 &lt;int&gt; | Output.rep3 &lt;int&gt; |\n",
       "|---|---|---|---|---|---|---|---|---|---|---|\n",
       "| chr1 |    16015 |    16477 | chr1_16015_16477       | NA |  6 |  9 | 12 | 20 | 14 | 33 |\n",
       "| chr1 |   115411 |   115986 | chr1_115411_115986     | NA |  1 |  2 | NA |  2 |  2 |  8 |\n",
       "| chr1 |   118518 |   118743 | chr1_118518_118743     | NA |  1 |  2 | NA | NA |  3 |  3 |\n",
       "| chr1 |   202111 |   202447 | chr1_202111_202447     | NA |  2 |  3 |  3 |  3 |  2 |  3 |\n",
       "| chr1 |   811251 |   811723 | chr1_811251_811723     | NA |  4 |  6 |  6 | 14 | 14 | 19 |\n",
       "| chr1 |   892051 |   892408 | chr1_892051_892408     | NA |  6 | 12 | 10 | 10 |  8 | 14 |\n",
       "| chr1 |  2687105 |  2688564 | chr1_2687105_2688564   | NA |  5 |  8 |  9 | 13 |  8 | 33 |\n",
       "| chr1 |  2757629 |  2757900 | chr1_2757629_2757900   | NA |  4 |  3 |  2 |  3 |  2 |  7 |\n",
       "| chr1 |  3643071 |  3643605 | chr1_3643071_3643605   | NA | 30 | 31 | 37 | 56 | 61 | 95 |\n",
       "| chr1 |  7601060 |  7601336 | chr1_7601060_7601336   | NA | 11 |  7 |  7 | 14 | 15 | 28 |\n",
       "| chr1 |  7909274 |  7909515 | chr1_7909274_7909515   | NA | 11 |  7 |  6 | 11 | 12 | 18 |\n",
       "| chr1 |  8070097 |  8070468 | chr1_8070097_8070468   | NA |  3 |  9 |  5 |  8 |  5 | 27 |\n",
       "| chr1 |  8573522 |  8574258 | chr1_8573522_8574258   | NA | 11 | 14 | 18 | 25 | 28 | 42 |\n",
       "| chr1 | 10135318 | 10135633 | chr1_10135318_10135633 | NA | 10 | 13 | 11 | 23 | 17 | 33 |\n",
       "| chr1 | 10534631 | 10534912 | chr1_10534631_10534912 | NA | 22 | 20 | 18 | 29 | 37 | 48 |\n",
       "| chr1 | 11222260 | 11222534 | chr1_11222260_11222534 | NA |  2 |  3 |  4 | 13 | 10 | 17 |\n",
       "| chr1 | 12252929 | 12253383 | chr1_12252929_12253383 | NA |  4 |  7 |  1 | 11 |  6 | 20 |\n",
       "| chr1 | 15351086 | 15351512 | chr1_15351086_15351512 | NA |  7 | 17 | 16 | 20 | 16 | 24 |\n",
       "| chr1 | 15481055 | 15481351 | chr1_15481055_15481351 | NA | 27 | 18 | 24 | 29 | 36 | 68 |\n",
       "| chr1 | 15901279 | 15901618 | chr1_15901279_15901618 | NA |  5 |  6 |  6 | 16 |  8 | 27 |\n",
       "| chr1 | 15903482 | 15903705 | chr1_15903482_15903705 | NA | 18 |  8 |  5 | 22 | 20 | 31 |\n",
       "| chr1 | 16578219 | 16578944 | chr1_16578219_16578944 | NA |  7 | 11 | 12 | 15 | 15 | 37 |\n",
       "| chr1 | 16709565 | 16709946 | chr1_16709565_16709946 | NA | 10 |  6 | 10 | 14 |  7 | 31 |\n",
       "| chr1 | 16748497 | 16749164 | chr1_16748497_16749164 | NA |  9 | 12 |  5 | 13 | 17 | 28 |\n",
       "| chr1 | 17039573 | 17039800 | chr1_17039573_17039800 | NA |  4 |  2 |  3 |  4 |  3 |  8 |\n",
       "| chr1 | 18631012 | 18631307 | chr1_18631012_18631307 | NA | 14 | 19 | 13 | 37 | 41 | 95 |\n",
       "| chr1 | 19532909 | 19533214 | chr1_19532909_19533214 | NA |  4 | 10 |  1 |  3 |  4 | 14 |\n",
       "| chr1 | 19789008 | 19789299 | chr1_19789008_19789299 | NA |  2 | 12 |  7 | 11 | 10 | 24 |\n",
       "| chr1 | 20743484 | 20743807 | chr1_20743484_20743807 | NA |  3 |  1 |  2 |  4 |  5 |  6 |\n",
       "| chr1 | 20926354 | 20926609 | chr1_20926354_20926609 | NA | 20 | 11 |  8 | 19 | 17 | 34 |\n",
       "| ⋮ | ⋮ | ⋮ | ⋮ | ⋮ | ⋮ | ⋮ | ⋮ | ⋮ | ⋮ | ⋮ |\n",
       "| chr16 |  32740878 |  32741226 | chr16_32740878_32741226   | NA | NA | NA | NA |  2 | NA | NA |\n",
       "| chr19 |  58604611 |  58605025 | chr19_58604611_58605025   | NA | NA | NA | NA |  1 |  2 |  7 |\n",
       "| chr2  | 152740678 | 152740972 | chr2_152740678_152740972  | NA | NA | NA | NA |  1 |  5 |  5 |\n",
       "| chr22 |  21396943 |  21397355 | chr22_21396943_21397355   | NA | NA | NA | NA |  1 |  3 |  7 |\n",
       "| chr5  |  71289748 |  71290295 | chr5_71289748_71290295    | NA | NA | NA | NA |  1 |  1 |  4 |\n",
       "| chr7  | 152877958 | 152878202 | chr7_152877958_152878202  | NA | NA | NA | NA |  1 |  1 | NA |\n",
       "| chr7  | 158425315 | 158425933 | chr7_158425315_158425933  | NA | NA | NA | NA |  1 | NA | NA |\n",
       "| chr8  |  12223774 |  12224144 | chr8_12223774_12224144    | NA | NA | NA | NA |  3 |  3 |  5 |\n",
       "| chr9  | 138225284 | 138225589 | chr9_138225284_138225589  | NA | NA | NA | NA |  2 |  2 |  3 |\n",
       "| chr1  | 148890705 | 148890927 | chr1_148890705_148890927  | NA | NA | NA | NA | NA |  1 | NA |\n",
       "| chr1  | 149260203 | 149260758 | chr1_149260203_149260758  | NA | NA | NA | NA | NA |  2 |  1 |\n",
       "| chr14 | 105864640 | 105865091 | chr14_105864640_105865091 | NA | NA | NA | NA | NA |  1 |  1 |\n",
       "| chr15 | 101905467 | 101906589 | chr15_101905467_101906589 | NA | NA | NA | NA | NA |  3 | NA |\n",
       "| chr17 |  43277419 |  43277832 | chr17_43277419_43277832   | NA | NA | NA | NA | NA |  1 | NA |\n",
       "| chr21 |   8239121 |   8239467 | chr21_8239121_8239467     | NA | NA | NA | NA | NA |  1 | NA |\n",
       "| chr21 |  44143932 |  44144372 | chr21_44143932_44144372   | NA | NA | NA | NA | NA |  1 |  7 |\n",
       "| chr22 |  18618941 |  18619186 | chr22_18618941_18619186   | NA | NA | NA | NA | NA |  1 | NA |\n",
       "| chr1  |     14253 |     14645 | chr1_14253_14645          | NA | NA | NA | NA | NA | NA |  1 |\n",
       "| chr1  |  16852718 |  16853090 | chr1_16852718_16853090    | NA | NA | NA | NA | NA | NA |  1 |\n",
       "| chr10 |  15893894 |  15894232 | chr10_15893894_15894232   | NA | NA | NA | NA | NA | NA |  2 |\n",
       "| chr15 |  85204291 |  85204659 | chr15_85204291_85204659   | NA | NA | NA | NA | NA | NA |  1 |\n",
       "| chr15 | 101892600 | 101893647 | chr15_101892600_101893647 | NA | NA | NA | NA | NA | NA |  1 |\n",
       "| chr17 |  19196527 |  19196975 | chr17_19196527_19196975   | NA | NA | NA | NA | NA | NA |  2 |\n",
       "| chr19 |  50117489 |  50117935 | chr19_50117489_50117935   | NA | NA | NA | NA | NA | NA |  1 |\n",
       "| chr19 |  56235849 |  56236109 | chr19_56235849_56236109   | NA | NA | NA | NA | NA | NA |  1 |\n",
       "| chr6  |   7272455 |   7273324 | chr6_7272455_7273324      | NA | NA | NA | NA | NA | NA |  1 |\n",
       "| chr7  |  76486740 |  76486973 | chr7_76486740_76486973    | NA | NA | NA | NA | NA | NA |  1 |\n",
       "| chr7  | 152881564 | 152883268 | chr7_152881564_152883268  | NA | NA | NA | NA | NA | NA |  1 |\n",
       "| chrX  | 154247748 | 154248055 | chrX_154247748_154248055  | NA | NA | NA | NA | NA | NA |  1 |\n",
       "| chrX  | 154341384 | 154342046 | chrX_154341384_154342046  | NA | NA | NA | NA | NA | NA |  1 |\n",
       "\n"
      ],
      "text/plain": [
       "     Chrom Start     End       Peak                      Input.rep1 Input.rep2\n",
       "1    chr1     16015     16477  chr1_16015_16477          NA          6        \n",
       "2    chr1    115411    115986  chr1_115411_115986        NA          1        \n",
       "3    chr1    118518    118743  chr1_118518_118743        NA          1        \n",
       "4    chr1    202111    202447  chr1_202111_202447        NA          2        \n",
       "5    chr1    811251    811723  chr1_811251_811723        NA          4        \n",
       "6    chr1    892051    892408  chr1_892051_892408        NA          6        \n",
       "7    chr1   2687105   2688564  chr1_2687105_2688564      NA          5        \n",
       "8    chr1   2757629   2757900  chr1_2757629_2757900      NA          4        \n",
       "9    chr1   3643071   3643605  chr1_3643071_3643605      NA         30        \n",
       "10   chr1   7601060   7601336  chr1_7601060_7601336      NA         11        \n",
       "11   chr1   7909274   7909515  chr1_7909274_7909515      NA         11        \n",
       "12   chr1   8070097   8070468  chr1_8070097_8070468      NA          3        \n",
       "13   chr1   8573522   8574258  chr1_8573522_8574258      NA         11        \n",
       "14   chr1  10135318  10135633  chr1_10135318_10135633    NA         10        \n",
       "15   chr1  10534631  10534912  chr1_10534631_10534912    NA         22        \n",
       "16   chr1  11222260  11222534  chr1_11222260_11222534    NA          2        \n",
       "17   chr1  12252929  12253383  chr1_12252929_12253383    NA          4        \n",
       "18   chr1  15351086  15351512  chr1_15351086_15351512    NA          7        \n",
       "19   chr1  15481055  15481351  chr1_15481055_15481351    NA         27        \n",
       "20   chr1  15901279  15901618  chr1_15901279_15901618    NA          5        \n",
       "21   chr1  15903482  15903705  chr1_15903482_15903705    NA         18        \n",
       "22   chr1  16578219  16578944  chr1_16578219_16578944    NA          7        \n",
       "23   chr1  16709565  16709946  chr1_16709565_16709946    NA         10        \n",
       "24   chr1  16748497  16749164  chr1_16748497_16749164    NA          9        \n",
       "25   chr1  17039573  17039800  chr1_17039573_17039800    NA          4        \n",
       "26   chr1  18631012  18631307  chr1_18631012_18631307    NA         14        \n",
       "27   chr1  19532909  19533214  chr1_19532909_19533214    NA          4        \n",
       "28   chr1  19789008  19789299  chr1_19789008_19789299    NA          2        \n",
       "29   chr1  20743484  20743807  chr1_20743484_20743807    NA          3        \n",
       "30   chr1  20926354  20926609  chr1_20926354_20926609    NA         20        \n",
       "⋮    ⋮     ⋮         ⋮         ⋮                         ⋮          ⋮         \n",
       "2053 chr16  32740878  32741226 chr16_32740878_32741226   NA         NA        \n",
       "2054 chr19  58604611  58605025 chr19_58604611_58605025   NA         NA        \n",
       "2055 chr2  152740678 152740972 chr2_152740678_152740972  NA         NA        \n",
       "2056 chr22  21396943  21397355 chr22_21396943_21397355   NA         NA        \n",
       "2057 chr5   71289748  71290295 chr5_71289748_71290295    NA         NA        \n",
       "2058 chr7  152877958 152878202 chr7_152877958_152878202  NA         NA        \n",
       "2059 chr7  158425315 158425933 chr7_158425315_158425933  NA         NA        \n",
       "2060 chr8   12223774  12224144 chr8_12223774_12224144    NA         NA        \n",
       "2061 chr9  138225284 138225589 chr9_138225284_138225589  NA         NA        \n",
       "2062 chr1  148890705 148890927 chr1_148890705_148890927  NA         NA        \n",
       "2063 chr1  149260203 149260758 chr1_149260203_149260758  NA         NA        \n",
       "2064 chr14 105864640 105865091 chr14_105864640_105865091 NA         NA        \n",
       "2065 chr15 101905467 101906589 chr15_101905467_101906589 NA         NA        \n",
       "2066 chr17  43277419  43277832 chr17_43277419_43277832   NA         NA        \n",
       "2067 chr21   8239121   8239467 chr21_8239121_8239467     NA         NA        \n",
       "2068 chr21  44143932  44144372 chr21_44143932_44144372   NA         NA        \n",
       "2069 chr22  18618941  18619186 chr22_18618941_18619186   NA         NA        \n",
       "2070 chr1      14253     14645 chr1_14253_14645          NA         NA        \n",
       "2071 chr1   16852718  16853090 chr1_16852718_16853090    NA         NA        \n",
       "2072 chr10  15893894  15894232 chr10_15893894_15894232   NA         NA        \n",
       "2073 chr15  85204291  85204659 chr15_85204291_85204659   NA         NA        \n",
       "2074 chr15 101892600 101893647 chr15_101892600_101893647 NA         NA        \n",
       "2075 chr17  19196527  19196975 chr17_19196527_19196975   NA         NA        \n",
       "2076 chr19  50117489  50117935 chr19_50117489_50117935   NA         NA        \n",
       "2077 chr19  56235849  56236109 chr19_56235849_56236109   NA         NA        \n",
       "2078 chr6    7272455   7273324 chr6_7272455_7273324      NA         NA        \n",
       "2079 chr7   76486740  76486973 chr7_76486740_76486973    NA         NA        \n",
       "2080 chr7  152881564 152883268 chr7_152881564_152883268  NA         NA        \n",
       "2081 chrX  154247748 154248055 chrX_154247748_154248055  NA         NA        \n",
       "2082 chrX  154341384 154342046 chrX_154341384_154342046  NA         NA        \n",
       "     Input.rep3 Input.rep4 Output.rep1 Output.rep2 Output.rep3\n",
       "1     9         12         20          14          33         \n",
       "2     2         NA          2           2           8         \n",
       "3     2         NA         NA           3           3         \n",
       "4     3          3          3           2           3         \n",
       "5     6          6         14          14          19         \n",
       "6    12         10         10           8          14         \n",
       "7     8          9         13           8          33         \n",
       "8     3          2          3           2           7         \n",
       "9    31         37         56          61          95         \n",
       "10    7          7         14          15          28         \n",
       "11    7          6         11          12          18         \n",
       "12    9          5          8           5          27         \n",
       "13   14         18         25          28          42         \n",
       "14   13         11         23          17          33         \n",
       "15   20         18         29          37          48         \n",
       "16    3          4         13          10          17         \n",
       "17    7          1         11           6          20         \n",
       "18   17         16         20          16          24         \n",
       "19   18         24         29          36          68         \n",
       "20    6          6         16           8          27         \n",
       "21    8          5         22          20          31         \n",
       "22   11         12         15          15          37         \n",
       "23    6         10         14           7          31         \n",
       "24   12          5         13          17          28         \n",
       "25    2          3          4           3           8         \n",
       "26   19         13         37          41          95         \n",
       "27   10          1          3           4          14         \n",
       "28   12          7         11          10          24         \n",
       "29    1          2          4           5           6         \n",
       "30   11          8         19          17          34         \n",
       "⋮    ⋮          ⋮          ⋮           ⋮           ⋮          \n",
       "2053 NA         NA          2          NA          NA         \n",
       "2054 NA         NA          1           2           7         \n",
       "2055 NA         NA          1           5           5         \n",
       "2056 NA         NA          1           3           7         \n",
       "2057 NA         NA          1           1           4         \n",
       "2058 NA         NA          1           1          NA         \n",
       "2059 NA         NA          1          NA          NA         \n",
       "2060 NA         NA          3           3           5         \n",
       "2061 NA         NA          2           2           3         \n",
       "2062 NA         NA         NA           1          NA         \n",
       "2063 NA         NA         NA           2           1         \n",
       "2064 NA         NA         NA           1           1         \n",
       "2065 NA         NA         NA           3          NA         \n",
       "2066 NA         NA         NA           1          NA         \n",
       "2067 NA         NA         NA           1          NA         \n",
       "2068 NA         NA         NA           1           7         \n",
       "2069 NA         NA         NA           1          NA         \n",
       "2070 NA         NA         NA          NA           1         \n",
       "2071 NA         NA         NA          NA           1         \n",
       "2072 NA         NA         NA          NA           2         \n",
       "2073 NA         NA         NA          NA           1         \n",
       "2074 NA         NA         NA          NA           1         \n",
       "2075 NA         NA         NA          NA           2         \n",
       "2076 NA         NA         NA          NA           1         \n",
       "2077 NA         NA         NA          NA           1         \n",
       "2078 NA         NA         NA          NA           1         \n",
       "2079 NA         NA         NA          NA           1         \n",
       "2080 NA         NA         NA          NA           1         \n",
       "2081 NA         NA         NA          NA           1         \n",
       "2082 NA         NA         NA          NA           1         "
      ]
     },
     "metadata": {},
     "output_type": "display_data"
    }
   ],
   "source": [
    "dat_count %>% dplyr::filter(is.na(Input.rep1))"
   ]
  },
  {
   "cell_type": "code",
   "execution_count": 8,
   "id": "38fe7b7c",
   "metadata": {},
   "outputs": [
    {
     "data": {
      "text/html": [
       "<table class=\"dataframe\">\n",
       "<caption>A tibble: 0 × 11</caption>\n",
       "<thead>\n",
       "\t<tr><th scope=col>Chrom</th><th scope=col>Start</th><th scope=col>End</th><th scope=col>Peak</th><th scope=col>Input.rep1</th><th scope=col>Input.rep2</th><th scope=col>Input.rep3</th><th scope=col>Input.rep4</th><th scope=col>Output.rep1</th><th scope=col>Output.rep2</th><th scope=col>Output.rep3</th></tr>\n",
       "\t<tr><th scope=col>&lt;chr&gt;</th><th scope=col>&lt;dbl&gt;</th><th scope=col>&lt;dbl&gt;</th><th scope=col>&lt;chr&gt;</th><th scope=col>&lt;int&gt;</th><th scope=col>&lt;int&gt;</th><th scope=col>&lt;int&gt;</th><th scope=col>&lt;int&gt;</th><th scope=col>&lt;int&gt;</th><th scope=col>&lt;int&gt;</th><th scope=col>&lt;int&gt;</th></tr>\n",
       "</thead>\n",
       "<tbody>\n",
       "</tbody>\n",
       "</table>\n"
      ],
      "text/latex": [
       "A tibble: 0 × 11\n",
       "\\begin{tabular}{lllllllllll}\n",
       " Chrom & Start & End & Peak & Input.rep1 & Input.rep2 & Input.rep3 & Input.rep4 & Output.rep1 & Output.rep2 & Output.rep3\\\\\n",
       " <chr> & <dbl> & <dbl> & <chr> & <int> & <int> & <int> & <int> & <int> & <int> & <int>\\\\\n",
       "\\hline\n",
       "\\end{tabular}\n"
      ],
      "text/markdown": [
       "\n",
       "A tibble: 0 × 11\n",
       "\n",
       "| Chrom &lt;chr&gt; | Start &lt;dbl&gt; | End &lt;dbl&gt; | Peak &lt;chr&gt; | Input.rep1 &lt;int&gt; | Input.rep2 &lt;int&gt; | Input.rep3 &lt;int&gt; | Input.rep4 &lt;int&gt; | Output.rep1 &lt;int&gt; | Output.rep2 &lt;int&gt; | Output.rep3 &lt;int&gt; |\n",
       "|---|---|---|---|---|---|---|---|---|---|---|\n",
       "\n"
      ],
      "text/plain": [
       "     Chrom Start End Peak Input.rep1 Input.rep2 Input.rep3 Input.rep4\n",
       "     Output.rep1 Output.rep2 Output.rep3"
      ]
     },
     "metadata": {},
     "output_type": "display_data"
    }
   ],
   "source": [
    "dat_count = dat_count %>% replace(is.na(.), 0)\n",
    "dat_count %>% dplyr::filter(is.na(Input.rep1))"
   ]
  },
  {
   "cell_type": "markdown",
   "id": "adb91796",
   "metadata": {},
   "source": [
    "## From raw count to CPM and log2FC"
   ]
  },
  {
   "cell_type": "markdown",
   "id": "a5034073",
   "metadata": {},
   "source": [
    "**Import library size**"
   ]
  },
  {
   "cell_type": "code",
   "execution_count": 9,
   "id": "68a66f3c",
   "metadata": {},
   "outputs": [
    {
     "data": {
      "text/html": [
       "<table class=\"dataframe\">\n",
       "<caption>A spec_tbl_df: 7 × 6</caption>\n",
       "<thead>\n",
       "\t<tr><th scope=col>Type</th><th scope=col>Region</th><th scope=col>Group</th><th scope=col>Sample</th><th scope=col>Size</th><th scope=col>FName</th></tr>\n",
       "\t<tr><th scope=col>&lt;chr&gt;</th><th scope=col>&lt;chr&gt;</th><th scope=col>&lt;chr&gt;</th><th scope=col>&lt;chr&gt;</th><th scope=col>&lt;dbl&gt;</th><th scope=col>&lt;chr&gt;</th></tr>\n",
       "</thead>\n",
       "<tbody>\n",
       "\t<tr><td>raw</td><td>WGS</td><td>Input </td><td>Input.rep1 </td><td> 26908970</td><td>A001_K562_WSTARRseq.Input.rep1.WGS.unstranded.bed.gz </td></tr>\n",
       "\t<tr><td>raw</td><td>WGS</td><td>Input </td><td>Input.rep2 </td><td> 99899775</td><td>A001_K562_WSTARRseq.Input.rep2.WGS.unstranded.bed.gz </td></tr>\n",
       "\t<tr><td>raw</td><td>WGS</td><td>Input </td><td>Input.rep3 </td><td>105623984</td><td>A001_K562_WSTARRseq.Input.rep3.WGS.unstranded.bed.gz </td></tr>\n",
       "\t<tr><td>raw</td><td>WGS</td><td>Input </td><td>Input.rep4 </td><td>108635002</td><td>A001_K562_WSTARRseq.Input.rep4.WGS.unstranded.bed.gz </td></tr>\n",
       "\t<tr><td>raw</td><td>WGS</td><td>Output</td><td>Output.rep1</td><td>160349140</td><td>A001_K562_WSTARRseq.Output.rep1.WGS.unstranded.bed.gz</td></tr>\n",
       "\t<tr><td>raw</td><td>WGS</td><td>Output</td><td>Output.rep2</td><td>157326312</td><td>A001_K562_WSTARRseq.Output.rep2.WGS.unstranded.bed.gz</td></tr>\n",
       "\t<tr><td>raw</td><td>WGS</td><td>Output</td><td>Output.rep3</td><td>328185275</td><td>A001_K562_WSTARRseq.Output.rep3.WGS.unstranded.bed.gz</td></tr>\n",
       "</tbody>\n",
       "</table>\n"
      ],
      "text/latex": [
       "A spec\\_tbl\\_df: 7 × 6\n",
       "\\begin{tabular}{llllll}\n",
       " Type & Region & Group & Sample & Size & FName\\\\\n",
       " <chr> & <chr> & <chr> & <chr> & <dbl> & <chr>\\\\\n",
       "\\hline\n",
       "\t raw & WGS & Input  & Input.rep1  &  26908970 & A001\\_K562\\_WSTARRseq.Input.rep1.WGS.unstranded.bed.gz \\\\\n",
       "\t raw & WGS & Input  & Input.rep2  &  99899775 & A001\\_K562\\_WSTARRseq.Input.rep2.WGS.unstranded.bed.gz \\\\\n",
       "\t raw & WGS & Input  & Input.rep3  & 105623984 & A001\\_K562\\_WSTARRseq.Input.rep3.WGS.unstranded.bed.gz \\\\\n",
       "\t raw & WGS & Input  & Input.rep4  & 108635002 & A001\\_K562\\_WSTARRseq.Input.rep4.WGS.unstranded.bed.gz \\\\\n",
       "\t raw & WGS & Output & Output.rep1 & 160349140 & A001\\_K562\\_WSTARRseq.Output.rep1.WGS.unstranded.bed.gz\\\\\n",
       "\t raw & WGS & Output & Output.rep2 & 157326312 & A001\\_K562\\_WSTARRseq.Output.rep2.WGS.unstranded.bed.gz\\\\\n",
       "\t raw & WGS & Output & Output.rep3 & 328185275 & A001\\_K562\\_WSTARRseq.Output.rep3.WGS.unstranded.bed.gz\\\\\n",
       "\\end{tabular}\n"
      ],
      "text/markdown": [
       "\n",
       "A spec_tbl_df: 7 × 6\n",
       "\n",
       "| Type &lt;chr&gt; | Region &lt;chr&gt; | Group &lt;chr&gt; | Sample &lt;chr&gt; | Size &lt;dbl&gt; | FName &lt;chr&gt; |\n",
       "|---|---|---|---|---|---|\n",
       "| raw | WGS | Input  | Input.rep1  |  26908970 | A001_K562_WSTARRseq.Input.rep1.WGS.unstranded.bed.gz  |\n",
       "| raw | WGS | Input  | Input.rep2  |  99899775 | A001_K562_WSTARRseq.Input.rep2.WGS.unstranded.bed.gz  |\n",
       "| raw | WGS | Input  | Input.rep3  | 105623984 | A001_K562_WSTARRseq.Input.rep3.WGS.unstranded.bed.gz  |\n",
       "| raw | WGS | Input  | Input.rep4  | 108635002 | A001_K562_WSTARRseq.Input.rep4.WGS.unstranded.bed.gz  |\n",
       "| raw | WGS | Output | Output.rep1 | 160349140 | A001_K562_WSTARRseq.Output.rep1.WGS.unstranded.bed.gz |\n",
       "| raw | WGS | Output | Output.rep2 | 157326312 | A001_K562_WSTARRseq.Output.rep2.WGS.unstranded.bed.gz |\n",
       "| raw | WGS | Output | Output.rep3 | 328185275 | A001_K562_WSTARRseq.Output.rep3.WGS.unstranded.bed.gz |\n",
       "\n"
      ],
      "text/plain": [
       "  Type Region Group  Sample      Size     \n",
       "1 raw  WGS    Input  Input.rep1   26908970\n",
       "2 raw  WGS    Input  Input.rep2   99899775\n",
       "3 raw  WGS    Input  Input.rep3  105623984\n",
       "4 raw  WGS    Input  Input.rep4  108635002\n",
       "5 raw  WGS    Output Output.rep1 160349140\n",
       "6 raw  WGS    Output Output.rep2 157326312\n",
       "7 raw  WGS    Output Output.rep3 328185275\n",
       "  FName                                                \n",
       "1 A001_K562_WSTARRseq.Input.rep1.WGS.unstranded.bed.gz \n",
       "2 A001_K562_WSTARRseq.Input.rep2.WGS.unstranded.bed.gz \n",
       "3 A001_K562_WSTARRseq.Input.rep3.WGS.unstranded.bed.gz \n",
       "4 A001_K562_WSTARRseq.Input.rep4.WGS.unstranded.bed.gz \n",
       "5 A001_K562_WSTARRseq.Output.rep1.WGS.unstranded.bed.gz\n",
       "6 A001_K562_WSTARRseq.Output.rep2.WGS.unstranded.bed.gz\n",
       "7 A001_K562_WSTARRseq.Output.rep3.WGS.unstranded.bed.gz"
      ]
     },
     "metadata": {},
     "output_type": "display_data"
    }
   ],
   "source": [
    "fdiry = file.path(FD_RES, \"results\", ASSAY, \"coverage\", \"summary\")\n",
    "fname = \"library_size_summary.csv\"\n",
    "fpath = file.path(fdiry, fname)\n",
    "dat_lib = read_csv(fpath, show_col_types = FALSE)\n",
    "dat_lib = dat_lib %>% dplyr::filter(Region == \"WGS\")\n",
    "dat_lib"
   ]
  },
  {
   "cell_type": "markdown",
   "id": "baf0af32",
   "metadata": {},
   "source": [
    "**Calculate CPM matrix and mean**"
   ]
  },
  {
   "cell_type": "code",
   "execution_count": 10,
   "id": "492d9910",
   "metadata": {},
   "outputs": [],
   "source": [
    "dat = dat_count %>% \n",
    "    tidyr::gather(Sample, Count, -Chrom, -Start, -End, -Peak) %>%\n",
    "    dplyr::left_join(dat_lib, by=\"Sample\") %>%\n",
    "    dplyr::mutate(CPM = Count * 1e6 / Size)\n",
    "\n",
    "dat_cpm = dat %>% \n",
    "   dplyr::select(Chrom, Start, End, Peak, Sample, CPM) %>%\n",
    "   tidyr::spread(Sample, CPM)\n",
    "\n",
    "dat_log2fc = dat %>% \n",
    "   dplyr::group_by(Chrom, Start, End, Peak, Group) %>%\n",
    "   dplyr::summarise(CPM = mean(CPM, na.omit=TRUE), .groups=\"drop\") %>%\n",
    "   tidyr::spread(Group, CPM) %>%\n",
    "   dplyr::mutate(log2FoldChange = log2(Output) - log2(Input))"
   ]
  },
  {
   "cell_type": "code",
   "execution_count": 11,
   "id": "54294ef4",
   "metadata": {},
   "outputs": [
    {
     "data": {
      "text/html": [
       "<table class=\"dataframe\">\n",
       "<caption>A tibble: 6 × 11</caption>\n",
       "<thead>\n",
       "\t<tr><th scope=col>Chrom</th><th scope=col>Start</th><th scope=col>End</th><th scope=col>Peak</th><th scope=col>Input.rep1</th><th scope=col>Input.rep2</th><th scope=col>Input.rep3</th><th scope=col>Input.rep4</th><th scope=col>Output.rep1</th><th scope=col>Output.rep2</th><th scope=col>Output.rep3</th></tr>\n",
       "\t<tr><th scope=col>&lt;chr&gt;</th><th scope=col>&lt;dbl&gt;</th><th scope=col>&lt;dbl&gt;</th><th scope=col>&lt;chr&gt;</th><th scope=col>&lt;dbl&gt;</th><th scope=col>&lt;dbl&gt;</th><th scope=col>&lt;dbl&gt;</th><th scope=col>&lt;dbl&gt;</th><th scope=col>&lt;dbl&gt;</th><th scope=col>&lt;dbl&gt;</th><th scope=col>&lt;dbl&gt;</th></tr>\n",
       "</thead>\n",
       "<tbody>\n",
       "\t<tr><td>chr1</td><td> 10015</td><td> 10442</td><td>chr1_10015_10442  </td><td>0.03716233</td><td>0.01001003</td><td>0.009467547</td><td>0.009205136</td><td>0.0000000</td><td>0.00000000</td><td>0.00000000</td></tr>\n",
       "\t<tr><td>chr1</td><td> 17237</td><td> 17772</td><td>chr1_17237_17772  </td><td>0.18581165</td><td>0.12012039</td><td>0.142013200</td><td>0.156487317</td><td>0.1122550</td><td>0.14619296</td><td>0.08227060</td></tr>\n",
       "\t<tr><td>chr1</td><td>136071</td><td>137429</td><td>chr1_136071_137429</td><td>0.11148699</td><td>0.04004013</td><td>0.066272827</td><td>0.036820545</td><td>0.0748367</td><td>0.07627459</td><td>0.08836472</td></tr>\n",
       "\t<tr><td>chr1</td><td>137737</td><td>139544</td><td>chr1_137737_139544</td><td>0.52027261</td><td>0.40040130</td><td>0.388169414</td><td>0.478667087</td><td>0.9042768</td><td>0.91529508</td><td>0.66121187</td></tr>\n",
       "\t<tr><td>chr1</td><td>180982</td><td>182087</td><td>chr1_180982_182087</td><td>0.29729863</td><td>0.31031101</td><td>0.246156214</td><td>0.257743816</td><td>0.3928927</td><td>0.36230430</td><td>0.30165887</td></tr>\n",
       "\t<tr><td>chr1</td><td>183239</td><td>184602</td><td>chr1_183239_184602</td><td>0.44594795</td><td>0.40040130</td><td>0.340831681</td><td>0.451051679</td><td>0.4427838</td><td>0.47671619</td><td>0.49667067</td></tr>\n",
       "</tbody>\n",
       "</table>\n"
      ],
      "text/latex": [
       "A tibble: 6 × 11\n",
       "\\begin{tabular}{lllllllllll}\n",
       " Chrom & Start & End & Peak & Input.rep1 & Input.rep2 & Input.rep3 & Input.rep4 & Output.rep1 & Output.rep2 & Output.rep3\\\\\n",
       " <chr> & <dbl> & <dbl> & <chr> & <dbl> & <dbl> & <dbl> & <dbl> & <dbl> & <dbl> & <dbl>\\\\\n",
       "\\hline\n",
       "\t chr1 &  10015 &  10442 & chr1\\_10015\\_10442   & 0.03716233 & 0.01001003 & 0.009467547 & 0.009205136 & 0.0000000 & 0.00000000 & 0.00000000\\\\\n",
       "\t chr1 &  17237 &  17772 & chr1\\_17237\\_17772   & 0.18581165 & 0.12012039 & 0.142013200 & 0.156487317 & 0.1122550 & 0.14619296 & 0.08227060\\\\\n",
       "\t chr1 & 136071 & 137429 & chr1\\_136071\\_137429 & 0.11148699 & 0.04004013 & 0.066272827 & 0.036820545 & 0.0748367 & 0.07627459 & 0.08836472\\\\\n",
       "\t chr1 & 137737 & 139544 & chr1\\_137737\\_139544 & 0.52027261 & 0.40040130 & 0.388169414 & 0.478667087 & 0.9042768 & 0.91529508 & 0.66121187\\\\\n",
       "\t chr1 & 180982 & 182087 & chr1\\_180982\\_182087 & 0.29729863 & 0.31031101 & 0.246156214 & 0.257743816 & 0.3928927 & 0.36230430 & 0.30165887\\\\\n",
       "\t chr1 & 183239 & 184602 & chr1\\_183239\\_184602 & 0.44594795 & 0.40040130 & 0.340831681 & 0.451051679 & 0.4427838 & 0.47671619 & 0.49667067\\\\\n",
       "\\end{tabular}\n"
      ],
      "text/markdown": [
       "\n",
       "A tibble: 6 × 11\n",
       "\n",
       "| Chrom &lt;chr&gt; | Start &lt;dbl&gt; | End &lt;dbl&gt; | Peak &lt;chr&gt; | Input.rep1 &lt;dbl&gt; | Input.rep2 &lt;dbl&gt; | Input.rep3 &lt;dbl&gt; | Input.rep4 &lt;dbl&gt; | Output.rep1 &lt;dbl&gt; | Output.rep2 &lt;dbl&gt; | Output.rep3 &lt;dbl&gt; |\n",
       "|---|---|---|---|---|---|---|---|---|---|---|\n",
       "| chr1 |  10015 |  10442 | chr1_10015_10442   | 0.03716233 | 0.01001003 | 0.009467547 | 0.009205136 | 0.0000000 | 0.00000000 | 0.00000000 |\n",
       "| chr1 |  17237 |  17772 | chr1_17237_17772   | 0.18581165 | 0.12012039 | 0.142013200 | 0.156487317 | 0.1122550 | 0.14619296 | 0.08227060 |\n",
       "| chr1 | 136071 | 137429 | chr1_136071_137429 | 0.11148699 | 0.04004013 | 0.066272827 | 0.036820545 | 0.0748367 | 0.07627459 | 0.08836472 |\n",
       "| chr1 | 137737 | 139544 | chr1_137737_139544 | 0.52027261 | 0.40040130 | 0.388169414 | 0.478667087 | 0.9042768 | 0.91529508 | 0.66121187 |\n",
       "| chr1 | 180982 | 182087 | chr1_180982_182087 | 0.29729863 | 0.31031101 | 0.246156214 | 0.257743816 | 0.3928927 | 0.36230430 | 0.30165887 |\n",
       "| chr1 | 183239 | 184602 | chr1_183239_184602 | 0.44594795 | 0.40040130 | 0.340831681 | 0.451051679 | 0.4427838 | 0.47671619 | 0.49667067 |\n",
       "\n"
      ],
      "text/plain": [
       "  Chrom Start  End    Peak               Input.rep1 Input.rep2 Input.rep3 \n",
       "1 chr1   10015  10442 chr1_10015_10442   0.03716233 0.01001003 0.009467547\n",
       "2 chr1   17237  17772 chr1_17237_17772   0.18581165 0.12012039 0.142013200\n",
       "3 chr1  136071 137429 chr1_136071_137429 0.11148699 0.04004013 0.066272827\n",
       "4 chr1  137737 139544 chr1_137737_139544 0.52027261 0.40040130 0.388169414\n",
       "5 chr1  180982 182087 chr1_180982_182087 0.29729863 0.31031101 0.246156214\n",
       "6 chr1  183239 184602 chr1_183239_184602 0.44594795 0.40040130 0.340831681\n",
       "  Input.rep4  Output.rep1 Output.rep2 Output.rep3\n",
       "1 0.009205136 0.0000000   0.00000000  0.00000000 \n",
       "2 0.156487317 0.1122550   0.14619296  0.08227060 \n",
       "3 0.036820545 0.0748367   0.07627459  0.08836472 \n",
       "4 0.478667087 0.9042768   0.91529508  0.66121187 \n",
       "5 0.257743816 0.3928927   0.36230430  0.30165887 \n",
       "6 0.451051679 0.4427838   0.47671619  0.49667067 "
      ]
     },
     "metadata": {},
     "output_type": "display_data"
    }
   ],
   "source": [
    "head(dat_cpm)"
   ]
  },
  {
   "cell_type": "code",
   "execution_count": 12,
   "id": "3917c2ad",
   "metadata": {},
   "outputs": [
    {
     "data": {
      "text/html": [
       "<table class=\"dataframe\">\n",
       "<caption>A tibble: 6 × 7</caption>\n",
       "<thead>\n",
       "\t<tr><th scope=col>Chrom</th><th scope=col>Start</th><th scope=col>End</th><th scope=col>Peak</th><th scope=col>Input</th><th scope=col>Output</th><th scope=col>log2FoldChange</th></tr>\n",
       "\t<tr><th scope=col>&lt;chr&gt;</th><th scope=col>&lt;dbl&gt;</th><th scope=col>&lt;dbl&gt;</th><th scope=col>&lt;chr&gt;</th><th scope=col>&lt;dbl&gt;</th><th scope=col>&lt;dbl&gt;</th><th scope=col>&lt;dbl&gt;</th></tr>\n",
       "</thead>\n",
       "<tbody>\n",
       "\t<tr><td>chr1</td><td> 10015</td><td> 10442</td><td>chr1_10015_10442  </td><td>0.016461261</td><td>0.000000000</td><td>      -Inf</td></tr>\n",
       "\t<tr><td>chr1</td><td> 14253</td><td> 14645</td><td>chr1_14253_14645  </td><td>0.000000000</td><td>0.001015686</td><td>       Inf</td></tr>\n",
       "\t<tr><td>chr1</td><td> 16015</td><td> 16477</td><td>chr1_16015_16477  </td><td>0.063932438</td><td>0.104755936</td><td> 0.7124120</td></tr>\n",
       "\t<tr><td>chr1</td><td> 17237</td><td> 17772</td><td>chr1_17237_17772  </td><td>0.151108138</td><td>0.113572871</td><td>-0.4119631</td></tr>\n",
       "\t<tr><td>chr1</td><td> 28903</td><td> 29613</td><td>chr1_28903_29613  </td><td>0.002366887</td><td>0.023860007</td><td> 3.3335319</td></tr>\n",
       "\t<tr><td>chr1</td><td>101603</td><td>101849</td><td>chr1_101603_101849</td><td>0.004668171</td><td>0.005125856</td><td> 0.1349357</td></tr>\n",
       "</tbody>\n",
       "</table>\n"
      ],
      "text/latex": [
       "A tibble: 6 × 7\n",
       "\\begin{tabular}{lllllll}\n",
       " Chrom & Start & End & Peak & Input & Output & log2FoldChange\\\\\n",
       " <chr> & <dbl> & <dbl> & <chr> & <dbl> & <dbl> & <dbl>\\\\\n",
       "\\hline\n",
       "\t chr1 &  10015 &  10442 & chr1\\_10015\\_10442   & 0.016461261 & 0.000000000 &       -Inf\\\\\n",
       "\t chr1 &  14253 &  14645 & chr1\\_14253\\_14645   & 0.000000000 & 0.001015686 &        Inf\\\\\n",
       "\t chr1 &  16015 &  16477 & chr1\\_16015\\_16477   & 0.063932438 & 0.104755936 &  0.7124120\\\\\n",
       "\t chr1 &  17237 &  17772 & chr1\\_17237\\_17772   & 0.151108138 & 0.113572871 & -0.4119631\\\\\n",
       "\t chr1 &  28903 &  29613 & chr1\\_28903\\_29613   & 0.002366887 & 0.023860007 &  3.3335319\\\\\n",
       "\t chr1 & 101603 & 101849 & chr1\\_101603\\_101849 & 0.004668171 & 0.005125856 &  0.1349357\\\\\n",
       "\\end{tabular}\n"
      ],
      "text/markdown": [
       "\n",
       "A tibble: 6 × 7\n",
       "\n",
       "| Chrom &lt;chr&gt; | Start &lt;dbl&gt; | End &lt;dbl&gt; | Peak &lt;chr&gt; | Input &lt;dbl&gt; | Output &lt;dbl&gt; | log2FoldChange &lt;dbl&gt; |\n",
       "|---|---|---|---|---|---|---|\n",
       "| chr1 |  10015 |  10442 | chr1_10015_10442   | 0.016461261 | 0.000000000 |       -Inf |\n",
       "| chr1 |  14253 |  14645 | chr1_14253_14645   | 0.000000000 | 0.001015686 |        Inf |\n",
       "| chr1 |  16015 |  16477 | chr1_16015_16477   | 0.063932438 | 0.104755936 |  0.7124120 |\n",
       "| chr1 |  17237 |  17772 | chr1_17237_17772   | 0.151108138 | 0.113572871 | -0.4119631 |\n",
       "| chr1 |  28903 |  29613 | chr1_28903_29613   | 0.002366887 | 0.023860007 |  3.3335319 |\n",
       "| chr1 | 101603 | 101849 | chr1_101603_101849 | 0.004668171 | 0.005125856 |  0.1349357 |\n",
       "\n"
      ],
      "text/plain": [
       "  Chrom Start  End    Peak               Input       Output      log2FoldChange\n",
       "1 chr1   10015  10442 chr1_10015_10442   0.016461261 0.000000000       -Inf    \n",
       "2 chr1   14253  14645 chr1_14253_14645   0.000000000 0.001015686        Inf    \n",
       "3 chr1   16015  16477 chr1_16015_16477   0.063932438 0.104755936  0.7124120    \n",
       "4 chr1   17237  17772 chr1_17237_17772   0.151108138 0.113572871 -0.4119631    \n",
       "5 chr1   28903  29613 chr1_28903_29613   0.002366887 0.023860007  3.3335319    \n",
       "6 chr1  101603 101849 chr1_101603_101849 0.004668171 0.005125856  0.1349357    "
      ]
     },
     "metadata": {},
     "output_type": "display_data"
    }
   ],
   "source": [
    "head(dat_log2fc)"
   ]
  },
  {
   "cell_type": "code",
   "execution_count": 13,
   "id": "343c9b4f",
   "metadata": {},
   "outputs": [
    {
     "data": {
      "text/html": [
       "<table class=\"dataframe\">\n",
       "<caption>A tibble: 0 × 11</caption>\n",
       "<thead>\n",
       "\t<tr><th scope=col>Chrom</th><th scope=col>Start</th><th scope=col>End</th><th scope=col>Peak</th><th scope=col>Input.rep1</th><th scope=col>Input.rep2</th><th scope=col>Input.rep3</th><th scope=col>Input.rep4</th><th scope=col>Output.rep1</th><th scope=col>Output.rep2</th><th scope=col>Output.rep3</th></tr>\n",
       "\t<tr><th scope=col>&lt;chr&gt;</th><th scope=col>&lt;dbl&gt;</th><th scope=col>&lt;dbl&gt;</th><th scope=col>&lt;chr&gt;</th><th scope=col>&lt;dbl&gt;</th><th scope=col>&lt;dbl&gt;</th><th scope=col>&lt;dbl&gt;</th><th scope=col>&lt;dbl&gt;</th><th scope=col>&lt;dbl&gt;</th><th scope=col>&lt;dbl&gt;</th><th scope=col>&lt;dbl&gt;</th></tr>\n",
       "</thead>\n",
       "<tbody>\n",
       "</tbody>\n",
       "</table>\n"
      ],
      "text/latex": [
       "A tibble: 0 × 11\n",
       "\\begin{tabular}{lllllllllll}\n",
       " Chrom & Start & End & Peak & Input.rep1 & Input.rep2 & Input.rep3 & Input.rep4 & Output.rep1 & Output.rep2 & Output.rep3\\\\\n",
       " <chr> & <dbl> & <dbl> & <chr> & <dbl> & <dbl> & <dbl> & <dbl> & <dbl> & <dbl> & <dbl>\\\\\n",
       "\\hline\n",
       "\\end{tabular}\n"
      ],
      "text/markdown": [
       "\n",
       "A tibble: 0 × 11\n",
       "\n",
       "| Chrom &lt;chr&gt; | Start &lt;dbl&gt; | End &lt;dbl&gt; | Peak &lt;chr&gt; | Input.rep1 &lt;dbl&gt; | Input.rep2 &lt;dbl&gt; | Input.rep3 &lt;dbl&gt; | Input.rep4 &lt;dbl&gt; | Output.rep1 &lt;dbl&gt; | Output.rep2 &lt;dbl&gt; | Output.rep3 &lt;dbl&gt; |\n",
       "|---|---|---|---|---|---|---|---|---|---|---|\n",
       "\n"
      ],
      "text/plain": [
       "     Chrom Start End Peak Input.rep1 Input.rep2 Input.rep3 Input.rep4\n",
       "     Output.rep1 Output.rep2 Output.rep3"
      ]
     },
     "metadata": {},
     "output_type": "display_data"
    }
   ],
   "source": [
    "dat_cpm %>% dplyr::filter(is.na(Input.rep1))"
   ]
  },
  {
   "cell_type": "code",
   "execution_count": 14,
   "id": "205894ed",
   "metadata": {},
   "outputs": [
    {
     "data": {
      "text/html": [
       "<table class=\"dataframe\">\n",
       "<caption>A tibble: 0 × 7</caption>\n",
       "<thead>\n",
       "\t<tr><th scope=col>Chrom</th><th scope=col>Start</th><th scope=col>End</th><th scope=col>Peak</th><th scope=col>Input</th><th scope=col>Output</th><th scope=col>log2FoldChange</th></tr>\n",
       "\t<tr><th scope=col>&lt;chr&gt;</th><th scope=col>&lt;dbl&gt;</th><th scope=col>&lt;dbl&gt;</th><th scope=col>&lt;chr&gt;</th><th scope=col>&lt;dbl&gt;</th><th scope=col>&lt;dbl&gt;</th><th scope=col>&lt;dbl&gt;</th></tr>\n",
       "</thead>\n",
       "<tbody>\n",
       "</tbody>\n",
       "</table>\n"
      ],
      "text/latex": [
       "A tibble: 0 × 7\n",
       "\\begin{tabular}{lllllll}\n",
       " Chrom & Start & End & Peak & Input & Output & log2FoldChange\\\\\n",
       " <chr> & <dbl> & <dbl> & <chr> & <dbl> & <dbl> & <dbl>\\\\\n",
       "\\hline\n",
       "\\end{tabular}\n"
      ],
      "text/markdown": [
       "\n",
       "A tibble: 0 × 7\n",
       "\n",
       "| Chrom &lt;chr&gt; | Start &lt;dbl&gt; | End &lt;dbl&gt; | Peak &lt;chr&gt; | Input &lt;dbl&gt; | Output &lt;dbl&gt; | log2FoldChange &lt;dbl&gt; |\n",
       "|---|---|---|---|---|---|---|\n",
       "\n"
      ],
      "text/plain": [
       "     Chrom Start End Peak Input Output log2FoldChange"
      ]
     },
     "metadata": {},
     "output_type": "display_data"
    }
   ],
   "source": [
    "dat_log2fc %>% dplyr::filter(is.na(Input))"
   ]
  },
  {
   "cell_type": "markdown",
   "id": "5ebfbb7c",
   "metadata": {},
   "source": [
    "## Store the results"
   ]
  },
  {
   "cell_type": "code",
   "execution_count": 15,
   "id": "f267b942",
   "metadata": {},
   "outputs": [],
   "source": [
    "fdiry = file.path(FD_RES, \"results\", ASSAY, FOLDER, \"summary\")\n",
    "\n",
    "fname = \"matrix.raw.count.WGS.tsv\"\n",
    "fpath = file.path(fdiry, fname)\n",
    "write_tsv(dat_count, fpath)\n",
    "\n",
    "fname = \"matrix.raw.cpm.WGS.tsv\"\n",
    "fpath = file.path(fdiry, fname)\n",
    "write_tsv(dat_cpm, fpath)\n",
    "\n",
    "fname = \"metadata.raw.WGS.tsv\"\n",
    "fpath = file.path(fdiry, fname)\n",
    "write_tsv(dat_meta, fpath)\n",
    "\n",
    "fname = \"result.Log2FC.raw.cpm.WGS.tsv\"\n",
    "fpath = file.path(fdiry, fname)\n",
    "write_tsv(dat_log2fc, fpath)"
   ]
  },
  {
   "cell_type": "code",
   "execution_count": null,
   "id": "c37efc55",
   "metadata": {},
   "outputs": [],
   "source": []
  }
 ],
 "metadata": {
  "kernelspec": {
   "display_name": "R",
   "language": "R",
   "name": "ir"
  },
  "language_info": {
   "codemirror_mode": "r",
   "file_extension": ".r",
   "mimetype": "text/x-r-source",
   "name": "R",
   "pygments_lexer": "r",
   "version": "4.2.2"
  }
 },
 "nbformat": 4,
 "nbformat_minor": 5
}
