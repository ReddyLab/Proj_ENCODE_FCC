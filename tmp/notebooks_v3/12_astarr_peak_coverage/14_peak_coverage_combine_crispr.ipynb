{
 "cells": [
  {
   "cell_type": "code",
   "execution_count": 1,
   "metadata": {},
   "outputs": [
    {
     "name": "stdout",
     "output_type": "stream",
     "text": [
      "You are in Singularity: singularity_proj_combeffect \n",
      "BASE DIRECTORY:     /data/reddylab/Kuei \n",
      "WORK DIRECTORY:     /data/reddylab/Kuei/out \n",
      "CODE DIRECTORY:     /data/reddylab/Kuei/code \n",
      "PATH OF SOURCE:     /data/reddylab/Kuei/source \n",
      "PATH OF EXECUTABLE: /data/reddylab/Kuei/bin \n",
      "PATH OF ANNOTATION: /data/reddylab/Kuei/annotation \n",
      "PATH OF PROJECT:    /data/reddylab/Kuei/code/Proj_CombEffect_ENCODE_FCC \n",
      "PATH OF RESULTS:    /data/reddylab/Kuei/out/proj_combeffect_encode_fcc \n"
     ]
    }
   ],
   "source": [
    "suppressMessages(suppressWarnings(source(\"../config/config_sing.R\")))\n",
    "library(pheatmap)\n",
    "show_env()"
   ]
  },
  {
   "cell_type": "code",
   "execution_count": 2,
   "metadata": {},
   "outputs": [
    {
     "name": "stdout",
     "output_type": "stream",
     "text": [
      " [1] \"CAPRIN1_HCRFF_rAVG.log2FC_2.bed.gz\" \"CAT_HCRFF_rAVG.log2FC_2.bed.gz\"    \n",
      " [3] \"CD164_HCRFF_rAVG.log2FC_2.bed.gz\"   \"ERP29_HCRFF_rAVG.log2FC_2.bed.gz\"  \n",
      " [5] \"FADS1_HCRFF_rAVG.log2FC_2.bed.gz\"   \"FADS2_HCRFF_rAVG.log2FC_2.bed.gz\"  \n",
      " [7] \"FADS3_HCRFF_rAVG.log2FC_2.bed.gz\"   \"FEN1_HCRFF_rAVG.log2FC_2.bed.gz\"   \n",
      " [9] \"GATA1_HCRFF_rAVG.log2FC_2.bed.gz\"   \"HBE1_HCRFF_rAVG.log2FC_2.bed.gz\"   \n",
      "[11] \"HBG1_HCRFF_rAVG.log2FC_2.bed.gz\"    \"HBG2_HCRFF_rAVG.log2FC_2.bed.gz\"   \n",
      "[13] \"HBS1L_HCRFF_rAVG.log2FC_2.bed.gz\"   \"HDAC6_HCRFF_rAVG.log2FC_2.bed.gz\"  \n",
      "[15] \"LMO2_HCRFF_rAVG.log2FC_2.bed.gz\"    \"MEF2C_HCRFF_rAVG.log2FC_2.bed.gz\"  \n",
      "[17] \"MYB_HCRFF_rAVG.log2FC_2.bed.gz\"     \"MYC_HCRFF_rAVG.log2FC_2.bed.gz\"    \n",
      "[19] \"NMU_HCRFF_rAVG.log2FC_2.bed.gz\"     \"PVT1_HCRFF_rAVG.log2FC_2.bed.gz\"   \n"
     ]
    }
   ],
   "source": [
    "ASSAY  = \"CRISPR\"\n",
    "FOLDER = \"coverage_astarrseq_peak_macs_input\"\n",
    "FDIRY  = file.path(FD_RES, \"results\", ASSAY, FOLDER)\n",
    "\n",
    "fglob  = file.path(FD_RES, \"results\", ASSAY, FOLDER, \"*HCRFF*bed.gz\")\n",
    "fnames = basename(Sys.glob(fglob))\n",
    "print(fnames)"
   ]
  },
  {
   "cell_type": "code",
   "execution_count": 3,
   "metadata": {},
   "outputs": [
    {
     "data": {
      "text/html": [
       "'CAPRIN1'"
      ],
      "text/latex": [
       "'CAPRIN1'"
      ],
      "text/markdown": [
       "'CAPRIN1'"
      ],
      "text/plain": [
       "[1] \"CAPRIN1\""
      ]
     },
     "metadata": {},
     "output_type": "display_data"
    }
   ],
   "source": [
    "str_split_fixed(fnames[1], \"_\", 2)[,1]"
   ]
  },
  {
   "cell_type": "code",
   "execution_count": 4,
   "metadata": {},
   "outputs": [
    {
     "data": {
      "text/html": [
       "<table class=\"dataframe\">\n",
       "<caption>A data.frame: 20 × 2</caption>\n",
       "<thead>\n",
       "\t<tr><th scope=col>Gene</th><th scope=col>FName</th></tr>\n",
       "\t<tr><th scope=col>&lt;chr&gt;</th><th scope=col>&lt;chr&gt;</th></tr>\n",
       "</thead>\n",
       "<tbody>\n",
       "\t<tr><td>CAPRIN1</td><td>CAPRIN1_HCRFF_rAVG.log2FC_2.bed.gz</td></tr>\n",
       "\t<tr><td>CAT    </td><td>CAT_HCRFF_rAVG.log2FC_2.bed.gz    </td></tr>\n",
       "\t<tr><td>CD164  </td><td>CD164_HCRFF_rAVG.log2FC_2.bed.gz  </td></tr>\n",
       "\t<tr><td>ERP29  </td><td>ERP29_HCRFF_rAVG.log2FC_2.bed.gz  </td></tr>\n",
       "\t<tr><td>FADS1  </td><td>FADS1_HCRFF_rAVG.log2FC_2.bed.gz  </td></tr>\n",
       "\t<tr><td>FADS2  </td><td>FADS2_HCRFF_rAVG.log2FC_2.bed.gz  </td></tr>\n",
       "\t<tr><td>FADS3  </td><td>FADS3_HCRFF_rAVG.log2FC_2.bed.gz  </td></tr>\n",
       "\t<tr><td>FEN1   </td><td>FEN1_HCRFF_rAVG.log2FC_2.bed.gz   </td></tr>\n",
       "\t<tr><td>GATA1  </td><td>GATA1_HCRFF_rAVG.log2FC_2.bed.gz  </td></tr>\n",
       "\t<tr><td>HBE1   </td><td>HBE1_HCRFF_rAVG.log2FC_2.bed.gz   </td></tr>\n",
       "\t<tr><td>HBG1   </td><td>HBG1_HCRFF_rAVG.log2FC_2.bed.gz   </td></tr>\n",
       "\t<tr><td>HBG2   </td><td>HBG2_HCRFF_rAVG.log2FC_2.bed.gz   </td></tr>\n",
       "\t<tr><td>HBS1L  </td><td>HBS1L_HCRFF_rAVG.log2FC_2.bed.gz  </td></tr>\n",
       "\t<tr><td>HDAC6  </td><td>HDAC6_HCRFF_rAVG.log2FC_2.bed.gz  </td></tr>\n",
       "\t<tr><td>LMO2   </td><td>LMO2_HCRFF_rAVG.log2FC_2.bed.gz   </td></tr>\n",
       "\t<tr><td>MEF2C  </td><td>MEF2C_HCRFF_rAVG.log2FC_2.bed.gz  </td></tr>\n",
       "\t<tr><td>MYB    </td><td>MYB_HCRFF_rAVG.log2FC_2.bed.gz    </td></tr>\n",
       "\t<tr><td>MYC    </td><td>MYC_HCRFF_rAVG.log2FC_2.bed.gz    </td></tr>\n",
       "\t<tr><td>NMU    </td><td>NMU_HCRFF_rAVG.log2FC_2.bed.gz    </td></tr>\n",
       "\t<tr><td>PVT1   </td><td>PVT1_HCRFF_rAVG.log2FC_2.bed.gz   </td></tr>\n",
       "</tbody>\n",
       "</table>\n"
      ],
      "text/latex": [
       "A data.frame: 20 × 2\n",
       "\\begin{tabular}{ll}\n",
       " Gene & FName\\\\\n",
       " <chr> & <chr>\\\\\n",
       "\\hline\n",
       "\t CAPRIN1 & CAPRIN1\\_HCRFF\\_rAVG.log2FC\\_2.bed.gz\\\\\n",
       "\t CAT     & CAT\\_HCRFF\\_rAVG.log2FC\\_2.bed.gz    \\\\\n",
       "\t CD164   & CD164\\_HCRFF\\_rAVG.log2FC\\_2.bed.gz  \\\\\n",
       "\t ERP29   & ERP29\\_HCRFF\\_rAVG.log2FC\\_2.bed.gz  \\\\\n",
       "\t FADS1   & FADS1\\_HCRFF\\_rAVG.log2FC\\_2.bed.gz  \\\\\n",
       "\t FADS2   & FADS2\\_HCRFF\\_rAVG.log2FC\\_2.bed.gz  \\\\\n",
       "\t FADS3   & FADS3\\_HCRFF\\_rAVG.log2FC\\_2.bed.gz  \\\\\n",
       "\t FEN1    & FEN1\\_HCRFF\\_rAVG.log2FC\\_2.bed.gz   \\\\\n",
       "\t GATA1   & GATA1\\_HCRFF\\_rAVG.log2FC\\_2.bed.gz  \\\\\n",
       "\t HBE1    & HBE1\\_HCRFF\\_rAVG.log2FC\\_2.bed.gz   \\\\\n",
       "\t HBG1    & HBG1\\_HCRFF\\_rAVG.log2FC\\_2.bed.gz   \\\\\n",
       "\t HBG2    & HBG2\\_HCRFF\\_rAVG.log2FC\\_2.bed.gz   \\\\\n",
       "\t HBS1L   & HBS1L\\_HCRFF\\_rAVG.log2FC\\_2.bed.gz  \\\\\n",
       "\t HDAC6   & HDAC6\\_HCRFF\\_rAVG.log2FC\\_2.bed.gz  \\\\\n",
       "\t LMO2    & LMO2\\_HCRFF\\_rAVG.log2FC\\_2.bed.gz   \\\\\n",
       "\t MEF2C   & MEF2C\\_HCRFF\\_rAVG.log2FC\\_2.bed.gz  \\\\\n",
       "\t MYB     & MYB\\_HCRFF\\_rAVG.log2FC\\_2.bed.gz    \\\\\n",
       "\t MYC     & MYC\\_HCRFF\\_rAVG.log2FC\\_2.bed.gz    \\\\\n",
       "\t NMU     & NMU\\_HCRFF\\_rAVG.log2FC\\_2.bed.gz    \\\\\n",
       "\t PVT1    & PVT1\\_HCRFF\\_rAVG.log2FC\\_2.bed.gz   \\\\\n",
       "\\end{tabular}\n"
      ],
      "text/markdown": [
       "\n",
       "A data.frame: 20 × 2\n",
       "\n",
       "| Gene &lt;chr&gt; | FName &lt;chr&gt; |\n",
       "|---|---|\n",
       "| CAPRIN1 | CAPRIN1_HCRFF_rAVG.log2FC_2.bed.gz |\n",
       "| CAT     | CAT_HCRFF_rAVG.log2FC_2.bed.gz     |\n",
       "| CD164   | CD164_HCRFF_rAVG.log2FC_2.bed.gz   |\n",
       "| ERP29   | ERP29_HCRFF_rAVG.log2FC_2.bed.gz   |\n",
       "| FADS1   | FADS1_HCRFF_rAVG.log2FC_2.bed.gz   |\n",
       "| FADS2   | FADS2_HCRFF_rAVG.log2FC_2.bed.gz   |\n",
       "| FADS3   | FADS3_HCRFF_rAVG.log2FC_2.bed.gz   |\n",
       "| FEN1    | FEN1_HCRFF_rAVG.log2FC_2.bed.gz    |\n",
       "| GATA1   | GATA1_HCRFF_rAVG.log2FC_2.bed.gz   |\n",
       "| HBE1    | HBE1_HCRFF_rAVG.log2FC_2.bed.gz    |\n",
       "| HBG1    | HBG1_HCRFF_rAVG.log2FC_2.bed.gz    |\n",
       "| HBG2    | HBG2_HCRFF_rAVG.log2FC_2.bed.gz    |\n",
       "| HBS1L   | HBS1L_HCRFF_rAVG.log2FC_2.bed.gz   |\n",
       "| HDAC6   | HDAC6_HCRFF_rAVG.log2FC_2.bed.gz   |\n",
       "| LMO2    | LMO2_HCRFF_rAVG.log2FC_2.bed.gz    |\n",
       "| MEF2C   | MEF2C_HCRFF_rAVG.log2FC_2.bed.gz   |\n",
       "| MYB     | MYB_HCRFF_rAVG.log2FC_2.bed.gz     |\n",
       "| MYC     | MYC_HCRFF_rAVG.log2FC_2.bed.gz     |\n",
       "| NMU     | NMU_HCRFF_rAVG.log2FC_2.bed.gz     |\n",
       "| PVT1    | PVT1_HCRFF_rAVG.log2FC_2.bed.gz    |\n",
       "\n"
      ],
      "text/plain": [
       "   Gene    FName                             \n",
       "1  CAPRIN1 CAPRIN1_HCRFF_rAVG.log2FC_2.bed.gz\n",
       "2  CAT     CAT_HCRFF_rAVG.log2FC_2.bed.gz    \n",
       "3  CD164   CD164_HCRFF_rAVG.log2FC_2.bed.gz  \n",
       "4  ERP29   ERP29_HCRFF_rAVG.log2FC_2.bed.gz  \n",
       "5  FADS1   FADS1_HCRFF_rAVG.log2FC_2.bed.gz  \n",
       "6  FADS2   FADS2_HCRFF_rAVG.log2FC_2.bed.gz  \n",
       "7  FADS3   FADS3_HCRFF_rAVG.log2FC_2.bed.gz  \n",
       "8  FEN1    FEN1_HCRFF_rAVG.log2FC_2.bed.gz   \n",
       "9  GATA1   GATA1_HCRFF_rAVG.log2FC_2.bed.gz  \n",
       "10 HBE1    HBE1_HCRFF_rAVG.log2FC_2.bed.gz   \n",
       "11 HBG1    HBG1_HCRFF_rAVG.log2FC_2.bed.gz   \n",
       "12 HBG2    HBG2_HCRFF_rAVG.log2FC_2.bed.gz   \n",
       "13 HBS1L   HBS1L_HCRFF_rAVG.log2FC_2.bed.gz  \n",
       "14 HDAC6   HDAC6_HCRFF_rAVG.log2FC_2.bed.gz  \n",
       "15 LMO2    LMO2_HCRFF_rAVG.log2FC_2.bed.gz   \n",
       "16 MEF2C   MEF2C_HCRFF_rAVG.log2FC_2.bed.gz  \n",
       "17 MYB     MYB_HCRFF_rAVG.log2FC_2.bed.gz    \n",
       "18 MYC     MYC_HCRFF_rAVG.log2FC_2.bed.gz    \n",
       "19 NMU     NMU_HCRFF_rAVG.log2FC_2.bed.gz    \n",
       "20 PVT1    PVT1_HCRFF_rAVG.log2FC_2.bed.gz   "
      ]
     },
     "metadata": {},
     "output_type": "display_data"
    }
   ],
   "source": [
    "dat_meta = data.frame(\n",
    "    Gene  = str_split_fixed(fnames, \"_\", 2)[,1],\n",
    "    FName = fnames\n",
    ")\n",
    "dat_meta"
   ]
  },
  {
   "cell_type": "code",
   "execution_count": 5,
   "metadata": {},
   "outputs": [
    {
     "name": "stderr",
     "output_type": "stream",
     "text": [
      "\u001b[1mRows: \u001b[22m\u001b[34m247520\u001b[39m \u001b[1mColumns: \u001b[22m\u001b[34m4\u001b[39m\n",
      "\u001b[36m──\u001b[39m \u001b[1mColumn specification\u001b[22m \u001b[36m───────────────────────────────────────────────────────────\u001b[39m\n",
      "\u001b[1mDelimiter:\u001b[22m \"\\t\"\n",
      "\u001b[31mchr\u001b[39m (2): Chrom, Score\n",
      "\u001b[32mdbl\u001b[39m (2): Start, End\n",
      "\n",
      "\u001b[36mℹ\u001b[39m Use `spec()` to retrieve the full column specification for this data.\n",
      "\u001b[36mℹ\u001b[39m Specify the column types or set `show_col_types = FALSE` to quiet this message.\n"
     ]
    },
    {
     "data": {
      "text/html": [
       "<table class=\"dataframe\">\n",
       "<caption>A tibble: 6 × 4</caption>\n",
       "<thead>\n",
       "\t<tr><th scope=col>Chrom</th><th scope=col>Start</th><th scope=col>End</th><th scope=col>Score</th></tr>\n",
       "\t<tr><th scope=col>&lt;chr&gt;</th><th scope=col>&lt;dbl&gt;</th><th scope=col>&lt;dbl&gt;</th><th scope=col>&lt;chr&gt;</th></tr>\n",
       "</thead>\n",
       "<tbody>\n",
       "\t<tr><td>chr1</td><td>10015</td><td>10442</td><td>.</td></tr>\n",
       "\t<tr><td>chr1</td><td>14253</td><td>14645</td><td>.</td></tr>\n",
       "\t<tr><td>chr1</td><td>16015</td><td>16477</td><td>.</td></tr>\n",
       "\t<tr><td>chr1</td><td>17237</td><td>17772</td><td>.</td></tr>\n",
       "\t<tr><td>chr1</td><td>28903</td><td>29613</td><td>.</td></tr>\n",
       "\t<tr><td>chr1</td><td>30803</td><td>31072</td><td>.</td></tr>\n",
       "</tbody>\n",
       "</table>\n"
      ],
      "text/latex": [
       "A tibble: 6 × 4\n",
       "\\begin{tabular}{llll}\n",
       " Chrom & Start & End & Score\\\\\n",
       " <chr> & <dbl> & <dbl> & <chr>\\\\\n",
       "\\hline\n",
       "\t chr1 & 10015 & 10442 & .\\\\\n",
       "\t chr1 & 14253 & 14645 & .\\\\\n",
       "\t chr1 & 16015 & 16477 & .\\\\\n",
       "\t chr1 & 17237 & 17772 & .\\\\\n",
       "\t chr1 & 28903 & 29613 & .\\\\\n",
       "\t chr1 & 30803 & 31072 & .\\\\\n",
       "\\end{tabular}\n"
      ],
      "text/markdown": [
       "\n",
       "A tibble: 6 × 4\n",
       "\n",
       "| Chrom &lt;chr&gt; | Start &lt;dbl&gt; | End &lt;dbl&gt; | Score &lt;chr&gt; |\n",
       "|---|---|---|---|\n",
       "| chr1 | 10015 | 10442 | . |\n",
       "| chr1 | 14253 | 14645 | . |\n",
       "| chr1 | 16015 | 16477 | . |\n",
       "| chr1 | 17237 | 17772 | . |\n",
       "| chr1 | 28903 | 29613 | . |\n",
       "| chr1 | 30803 | 31072 | . |\n",
       "\n"
      ],
      "text/plain": [
       "  Chrom Start End   Score\n",
       "1 chr1  10015 10442 .    \n",
       "2 chr1  14253 14645 .    \n",
       "3 chr1  16015 16477 .    \n",
       "4 chr1  17237 17772 .    \n",
       "5 chr1  28903 29613 .    \n",
       "6 chr1  30803 31072 .    "
      ]
     },
     "metadata": {},
     "output_type": "display_data"
    }
   ],
   "source": [
    "ASSAY  = \"CRISPR\"\n",
    "FOLDER = \"coverage_astarrseq_peak_macs_input\"\n",
    "FDIRY  = file.path(FD_RES, \"results\", ASSAY, FOLDER)\n",
    "\n",
    "fglob  = file.path(FD_RES, \"results\", ASSAY, FOLDER, \"*HCRFF*bed.gz\")\n",
    "fpaths = Sys.glob(fglob)\n",
    "\n",
    "fpath = fpaths[1]\n",
    "fname = basename(fpath)\n",
    "gene  = str_split_fixed(fname, \"_\", 2)[,1]\n",
    "\n",
    "cnames = c(\"Chrom\", \"Start\", \"End\", \"Score\")\n",
    "dat = read_tsv(fpath, col_names = cnames)\n",
    "head(dat)"
   ]
  },
  {
   "cell_type": "code",
   "execution_count": 6,
   "metadata": {},
   "outputs": [
    {
     "data": {
      "text/html": [
       "<table class=\"dataframe\">\n",
       "<caption>A tibble: 6 × 4</caption>\n",
       "<thead>\n",
       "\t<tr><th scope=col>Chrom</th><th scope=col>Start</th><th scope=col>End</th><th scope=col>Score</th></tr>\n",
       "\t<tr><th scope=col>&lt;chr&gt;</th><th scope=col>&lt;dbl&gt;</th><th scope=col>&lt;dbl&gt;</th><th scope=col>&lt;chr&gt;</th></tr>\n",
       "</thead>\n",
       "<tbody>\n",
       "\t<tr><td>chr1</td><td>10015</td><td>10442</td><td>.</td></tr>\n",
       "\t<tr><td>chr1</td><td>14253</td><td>14645</td><td>.</td></tr>\n",
       "\t<tr><td>chr1</td><td>16015</td><td>16477</td><td>.</td></tr>\n",
       "\t<tr><td>chr1</td><td>17237</td><td>17772</td><td>.</td></tr>\n",
       "\t<tr><td>chr1</td><td>28903</td><td>29613</td><td>.</td></tr>\n",
       "\t<tr><td>chr1</td><td>30803</td><td>31072</td><td>.</td></tr>\n",
       "</tbody>\n",
       "</table>\n"
      ],
      "text/latex": [
       "A tibble: 6 × 4\n",
       "\\begin{tabular}{llll}\n",
       " Chrom & Start & End & Score\\\\\n",
       " <chr> & <dbl> & <dbl> & <chr>\\\\\n",
       "\\hline\n",
       "\t chr1 & 10015 & 10442 & .\\\\\n",
       "\t chr1 & 14253 & 14645 & .\\\\\n",
       "\t chr1 & 16015 & 16477 & .\\\\\n",
       "\t chr1 & 17237 & 17772 & .\\\\\n",
       "\t chr1 & 28903 & 29613 & .\\\\\n",
       "\t chr1 & 30803 & 31072 & .\\\\\n",
       "\\end{tabular}\n"
      ],
      "text/markdown": [
       "\n",
       "A tibble: 6 × 4\n",
       "\n",
       "| Chrom &lt;chr&gt; | Start &lt;dbl&gt; | End &lt;dbl&gt; | Score &lt;chr&gt; |\n",
       "|---|---|---|---|\n",
       "| chr1 | 10015 | 10442 | . |\n",
       "| chr1 | 14253 | 14645 | . |\n",
       "| chr1 | 16015 | 16477 | . |\n",
       "| chr1 | 17237 | 17772 | . |\n",
       "| chr1 | 28903 | 29613 | . |\n",
       "| chr1 | 30803 | 31072 | . |\n",
       "\n"
      ],
      "text/plain": [
       "  Chrom Start End   Score\n",
       "1 chr1  10015 10442 .    \n",
       "2 chr1  14253 14645 .    \n",
       "3 chr1  16015 16477 .    \n",
       "4 chr1  17237 17772 .    \n",
       "5 chr1  28903 29613 .    \n",
       "6 chr1  30803 31072 .    "
      ]
     },
     "metadata": {},
     "output_type": "display_data"
    }
   ],
   "source": [
    "head(dat)"
   ]
  },
  {
   "cell_type": "code",
   "execution_count": 21,
   "metadata": {},
   "outputs": [
    {
     "data": {
      "text/html": [
       "<table class=\"dataframe\">\n",
       "<caption>A tibble: 6 × 5</caption>\n",
       "<thead>\n",
       "\t<tr><th scope=col>Chrom</th><th scope=col>Start</th><th scope=col>End</th><th scope=col>Score</th><th scope=col>Gene</th></tr>\n",
       "\t<tr><th scope=col>&lt;chr&gt;</th><th scope=col>&lt;dbl&gt;</th><th scope=col>&lt;dbl&gt;</th><th scope=col>&lt;chr&gt;</th><th scope=col>&lt;chr&gt;</th></tr>\n",
       "</thead>\n",
       "<tbody>\n",
       "\t<tr><td>chr1</td><td>10015</td><td>10442</td><td>.</td><td>CAPRIN1</td></tr>\n",
       "\t<tr><td>chr1</td><td>14253</td><td>14645</td><td>.</td><td>CAPRIN1</td></tr>\n",
       "\t<tr><td>chr1</td><td>16015</td><td>16477</td><td>.</td><td>CAPRIN1</td></tr>\n",
       "\t<tr><td>chr1</td><td>17237</td><td>17772</td><td>.</td><td>CAPRIN1</td></tr>\n",
       "\t<tr><td>chr1</td><td>28903</td><td>29613</td><td>.</td><td>CAPRIN1</td></tr>\n",
       "\t<tr><td>chr1</td><td>30803</td><td>31072</td><td>.</td><td>CAPRIN1</td></tr>\n",
       "</tbody>\n",
       "</table>\n"
      ],
      "text/latex": [
       "A tibble: 6 × 5\n",
       "\\begin{tabular}{lllll}\n",
       " Chrom & Start & End & Score & Gene\\\\\n",
       " <chr> & <dbl> & <dbl> & <chr> & <chr>\\\\\n",
       "\\hline\n",
       "\t chr1 & 10015 & 10442 & . & CAPRIN1\\\\\n",
       "\t chr1 & 14253 & 14645 & . & CAPRIN1\\\\\n",
       "\t chr1 & 16015 & 16477 & . & CAPRIN1\\\\\n",
       "\t chr1 & 17237 & 17772 & . & CAPRIN1\\\\\n",
       "\t chr1 & 28903 & 29613 & . & CAPRIN1\\\\\n",
       "\t chr1 & 30803 & 31072 & . & CAPRIN1\\\\\n",
       "\\end{tabular}\n"
      ],
      "text/markdown": [
       "\n",
       "A tibble: 6 × 5\n",
       "\n",
       "| Chrom &lt;chr&gt; | Start &lt;dbl&gt; | End &lt;dbl&gt; | Score &lt;chr&gt; | Gene &lt;chr&gt; |\n",
       "|---|---|---|---|---|\n",
       "| chr1 | 10015 | 10442 | . | CAPRIN1 |\n",
       "| chr1 | 14253 | 14645 | . | CAPRIN1 |\n",
       "| chr1 | 16015 | 16477 | . | CAPRIN1 |\n",
       "| chr1 | 17237 | 17772 | . | CAPRIN1 |\n",
       "| chr1 | 28903 | 29613 | . | CAPRIN1 |\n",
       "| chr1 | 30803 | 31072 | . | CAPRIN1 |\n",
       "\n"
      ],
      "text/plain": [
       "  Chrom Start End   Score Gene   \n",
       "1 chr1  10015 10442 .     CAPRIN1\n",
       "2 chr1  14253 14645 .     CAPRIN1\n",
       "3 chr1  16015 16477 .     CAPRIN1\n",
       "4 chr1  17237 17772 .     CAPRIN1\n",
       "5 chr1  28903 29613 .     CAPRIN1\n",
       "6 chr1  30803 31072 .     CAPRIN1"
      ]
     },
     "metadata": {},
     "output_type": "display_data"
    }
   ],
   "source": [
    "ASSAY  = \"CRISPR\"\n",
    "FOLDER = \"coverage_astarrseq_peak_macs_input\"\n",
    "FDIRY  = file.path(FD_RES, \"results\", ASSAY, FOLDER)\n",
    "\n",
    "fglob  = file.path(FD_RES, \"results\", ASSAY, FOLDER, \"*HCRFF*bed.gz\")\n",
    "fpaths = Sys.glob(fglob)\n",
    "\n",
    "lst = lapply(fpaths, function(fpath){\n",
    "    fname = basename(fpath)\n",
    "    gene  = str_split_fixed(fname, \"_\", 2)[,1]\n",
    "    \n",
    "    cnames = c(\"Chrom\", \"Start\", \"End\", \"Score\")\n",
    "    dat = read_tsv(fpath, col_names = cnames, show_col_types = FALSE)\n",
    "    dat$Gene = gene\n",
    "    return(dat)\n",
    "})\n",
    "lst_dat = lst\n",
    "lst[[1]] %>% head"
   ]
  },
  {
   "cell_type": "code",
   "execution_count": 8,
   "metadata": {},
   "outputs": [
    {
     "data": {
      "text/html": [
       "<table class=\"dataframe\">\n",
       "<caption>A tibble: 6 × 6</caption>\n",
       "<thead>\n",
       "\t<tr><th scope=col>Chrom</th><th scope=col>Start</th><th scope=col>End</th><th scope=col>Score</th><th scope=col>Gene</th><th scope=col>Peak</th></tr>\n",
       "\t<tr><th scope=col>&lt;chr&gt;</th><th scope=col>&lt;dbl&gt;</th><th scope=col>&lt;dbl&gt;</th><th scope=col>&lt;dbl&gt;</th><th scope=col>&lt;chr&gt;</th><th scope=col>&lt;chr&gt;</th></tr>\n",
       "</thead>\n",
       "<tbody>\n",
       "\t<tr><td>chr10</td><td>100729027</td><td>100729908</td><td>-0.04143173</td><td>CAPRIN1</td><td>chr10_100729027_100729908</td></tr>\n",
       "\t<tr><td>chr10</td><td>100731148</td><td>100731673</td><td>-0.03527227</td><td>CAPRIN1</td><td>chr10_100731148_100731673</td></tr>\n",
       "\t<tr><td>chr10</td><td>100735439</td><td>100736071</td><td>-0.14598020</td><td>CAPRIN1</td><td>chr10_100735439_100736071</td></tr>\n",
       "\t<tr><td>chr10</td><td>100739703</td><td>100739976</td><td> 0.81755783</td><td>CAPRIN1</td><td>chr10_100739703_100739976</td></tr>\n",
       "\t<tr><td>chr10</td><td>100743327</td><td>100744629</td><td>-0.05910615</td><td>CAPRIN1</td><td>chr10_100743327_100744629</td></tr>\n",
       "\t<tr><td>chr10</td><td>100745384</td><td>100746029</td><td> 0.26605922</td><td>CAPRIN1</td><td>chr10_100745384_100746029</td></tr>\n",
       "</tbody>\n",
       "</table>\n"
      ],
      "text/latex": [
       "A tibble: 6 × 6\n",
       "\\begin{tabular}{llllll}\n",
       " Chrom & Start & End & Score & Gene & Peak\\\\\n",
       " <chr> & <dbl> & <dbl> & <dbl> & <chr> & <chr>\\\\\n",
       "\\hline\n",
       "\t chr10 & 100729027 & 100729908 & -0.04143173 & CAPRIN1 & chr10\\_100729027\\_100729908\\\\\n",
       "\t chr10 & 100731148 & 100731673 & -0.03527227 & CAPRIN1 & chr10\\_100731148\\_100731673\\\\\n",
       "\t chr10 & 100735439 & 100736071 & -0.14598020 & CAPRIN1 & chr10\\_100735439\\_100736071\\\\\n",
       "\t chr10 & 100739703 & 100739976 &  0.81755783 & CAPRIN1 & chr10\\_100739703\\_100739976\\\\\n",
       "\t chr10 & 100743327 & 100744629 & -0.05910615 & CAPRIN1 & chr10\\_100743327\\_100744629\\\\\n",
       "\t chr10 & 100745384 & 100746029 &  0.26605922 & CAPRIN1 & chr10\\_100745384\\_100746029\\\\\n",
       "\\end{tabular}\n"
      ],
      "text/markdown": [
       "\n",
       "A tibble: 6 × 6\n",
       "\n",
       "| Chrom &lt;chr&gt; | Start &lt;dbl&gt; | End &lt;dbl&gt; | Score &lt;dbl&gt; | Gene &lt;chr&gt; | Peak &lt;chr&gt; |\n",
       "|---|---|---|---|---|---|\n",
       "| chr10 | 100729027 | 100729908 | -0.04143173 | CAPRIN1 | chr10_100729027_100729908 |\n",
       "| chr10 | 100731148 | 100731673 | -0.03527227 | CAPRIN1 | chr10_100731148_100731673 |\n",
       "| chr10 | 100735439 | 100736071 | -0.14598020 | CAPRIN1 | chr10_100735439_100736071 |\n",
       "| chr10 | 100739703 | 100739976 |  0.81755783 | CAPRIN1 | chr10_100739703_100739976 |\n",
       "| chr10 | 100743327 | 100744629 | -0.05910615 | CAPRIN1 | chr10_100743327_100744629 |\n",
       "| chr10 | 100745384 | 100746029 |  0.26605922 | CAPRIN1 | chr10_100745384_100746029 |\n",
       "\n"
      ],
      "text/plain": [
       "  Chrom Start     End       Score       Gene    Peak                     \n",
       "1 chr10 100729027 100729908 -0.04143173 CAPRIN1 chr10_100729027_100729908\n",
       "2 chr10 100731148 100731673 -0.03527227 CAPRIN1 chr10_100731148_100731673\n",
       "3 chr10 100735439 100736071 -0.14598020 CAPRIN1 chr10_100735439_100736071\n",
       "4 chr10 100739703 100739976  0.81755783 CAPRIN1 chr10_100739703_100739976\n",
       "5 chr10 100743327 100744629 -0.05910615 CAPRIN1 chr10_100743327_100744629\n",
       "6 chr10 100745384 100746029  0.26605922 CAPRIN1 chr10_100745384_100746029"
      ]
     },
     "metadata": {},
     "output_type": "display_data"
    }
   ],
   "source": [
    "dat = bind_rows(lst) %>% \n",
    "    dplyr::filter(Score != \".\") %>%\n",
    "    dplyr::mutate(\n",
    "        Peak  = paste(Chrom, Start, End, sep=\"_\"),\n",
    "        Score = as.double(Score))\n",
    "head(dat)"
   ]
  },
  {
   "cell_type": "code",
   "execution_count": 9,
   "metadata": {},
   "outputs": [
    {
     "data": {
      "text/plain": [
       "     Min.   1st Qu.    Median      Mean   3rd Qu.      Max. \n",
       "-2.327500 -0.129181 -0.036783  0.006078  0.067807  5.978311 "
      ]
     },
     "metadata": {},
     "output_type": "display_data"
    }
   ],
   "source": [
    "summary(dat$Score)"
   ]
  },
  {
   "cell_type": "code",
   "execution_count": 10,
   "metadata": {},
   "outputs": [
    {
     "data": {
      "image/png": "[encoded data removed]",
      "text/plain": [
       "plot without title"
      ]
     },
     "metadata": {
      "image/png": {
       "height": 300,
       "width": 480
      }
     },
     "output_type": "display_data"
    }
   ],
   "source": [
    "dat = bind_rows(lst) %>% \n",
    "    dplyr::filter(Score != \".\") %>%\n",
    "    dplyr::mutate(\n",
    "        Peak  = paste(Chrom, Start, End, sep=\"_\"),\n",
    "        Score = as.double(Score))\n",
    "\n",
    "options(repr.plot.height=5, repr.plot.width=8)\n",
    "gpt = ggplot(dat, aes(x=Score)) + geom_histogram(bins=50) + theme_cowplot()\n",
    "print(gpt)"
   ]
  },
  {
   "cell_type": "code",
   "execution_count": 11,
   "metadata": {},
   "outputs": [
    {
     "data": {
      "image/png": "[encoded data removed]",
      "text/plain": [
       "plot without title"
      ]
     },
     "metadata": {
      "image/png": {
       "height": 600,
       "width": 420
      }
     },
     "output_type": "display_data"
    }
   ],
   "source": [
    "dat = bind_rows(lst) %>% \n",
    "    dplyr::filter(Score != \".\") %>%\n",
    "    dplyr::mutate(\n",
    "        Peak  = paste(Chrom, Start, End, sep=\"_\"),\n",
    "        Score = as.double(Score))\n",
    "\n",
    "dat = dat %>% \n",
    "    tidyr::spread(Gene, Score) %>% \n",
    "    dplyr::mutate(across(where(is.numeric), ~replace_na(.,0)))\n",
    "\n",
    "dat = dat %>% \n",
    "    dplyr::select(-Chrom, -Start, -End) %>% \n",
    "    tidyr::gather(Gene, Log2FC, -Peak)\n",
    "\n",
    "gpt = ggplot(dat, aes(x=Gene, y=Peak, fill=Log2FC)) + \n",
    "    geom_tile() + \n",
    "    scale_fill_gradient2(\n",
    "        low  = scales::muted(\"blue\"),\n",
    "        mid  = \"white\",\n",
    "        high = scales::muted(\"red\"),\n",
    "        midpoint = 0) +\n",
    "    labs(title=\"CRISPR HCRFF\") +\n",
    "    theme_cowplot() +\n",
    "    theme(\n",
    "        axis.text.x  = element_text(angle=90, vjust=0.5, hjust=1),\n",
    "        axis.text.y  = element_blank(),\n",
    "        axis.ticks.y = element_blank()\n",
    "    )\n",
    "\n",
    "options(repr.plot.height=10, repr.plot.width=7)\n",
    "print(gpt)"
   ]
  },
  {
   "cell_type": "code",
   "execution_count": 22,
   "metadata": {},
   "outputs": [
    {
     "data": {
      "text/html": [
       "<table class=\"dataframe\">\n",
       "<caption>A data.frame: 6 × 20</caption>\n",
       "<thead>\n",
       "\t<tr><th></th><th scope=col>CAPRIN1</th><th scope=col>CAT</th><th scope=col>CD164</th><th scope=col>ERP29</th><th scope=col>FADS1</th><th scope=col>FADS2</th><th scope=col>FADS3</th><th scope=col>FEN1</th><th scope=col>GATA1</th><th scope=col>HBE1</th><th scope=col>HBG1</th><th scope=col>HBG2</th><th scope=col>HBS1L</th><th scope=col>HDAC6</th><th scope=col>LMO2</th><th scope=col>MEF2C</th><th scope=col>MYB</th><th scope=col>MYC</th><th scope=col>NMU</th><th scope=col>PVT1</th></tr>\n",
       "\t<tr><th></th><th scope=col>&lt;dbl&gt;</th><th scope=col>&lt;dbl&gt;</th><th scope=col>&lt;dbl&gt;</th><th scope=col>&lt;dbl&gt;</th><th scope=col>&lt;dbl&gt;</th><th scope=col>&lt;dbl&gt;</th><th scope=col>&lt;dbl&gt;</th><th scope=col>&lt;dbl&gt;</th><th scope=col>&lt;dbl&gt;</th><th scope=col>&lt;dbl&gt;</th><th scope=col>&lt;dbl&gt;</th><th scope=col>&lt;dbl&gt;</th><th scope=col>&lt;dbl&gt;</th><th scope=col>&lt;dbl&gt;</th><th scope=col>&lt;dbl&gt;</th><th scope=col>&lt;dbl&gt;</th><th scope=col>&lt;dbl&gt;</th><th scope=col>&lt;dbl&gt;</th><th scope=col>&lt;dbl&gt;</th><th scope=col>&lt;dbl&gt;</th></tr>\n",
       "</thead>\n",
       "<tbody>\n",
       "\t<tr><th scope=row>chr10_100729027_100729908</th><td>-0.04143173</td><td>-0.22290540</td><td>-0.381589800</td><td> 0.559668467</td><td>0</td><td>0</td><td>0</td><td>0</td><td>0</td><td>0</td><td>0</td><td>0</td><td>0</td><td>0</td><td> 0.03181413</td><td>-0.46880533</td><td>0</td><td>0</td><td>-0.07762600</td><td>0</td></tr>\n",
       "\t<tr><th scope=row>chr10_100731148_100731673</th><td>-0.03527227</td><td>-0.05954518</td><td> 0.008669636</td><td> 0.003663182</td><td>0</td><td>0</td><td>0</td><td>0</td><td>0</td><td>0</td><td>0</td><td>0</td><td>0</td><td>0</td><td> 0.18322736</td><td>-0.47427727</td><td>0</td><td>0</td><td>-0.25979427</td><td>0</td></tr>\n",
       "\t<tr><th scope=row>chr10_100735439_100736071</th><td>-0.14598020</td><td>-0.09435440</td><td> 0.374631500</td><td>-0.037476400</td><td>0</td><td>0</td><td>0</td><td>0</td><td>0</td><td>0</td><td>0</td><td>0</td><td>0</td><td>0</td><td>-0.04946440</td><td>-0.44736270</td><td>0</td><td>0</td><td>-0.18364520</td><td>0</td></tr>\n",
       "\t<tr><th scope=row>chr10_100739703_100739976</th><td> 0.81755783</td><td> 0.28808567</td><td> 0.280868000</td><td>-0.001013833</td><td>0</td><td>0</td><td>0</td><td>0</td><td>0</td><td>0</td><td>0</td><td>0</td><td>0</td><td>0</td><td>-0.14688583</td><td>-0.05878650</td><td>0</td><td>0</td><td>-0.67073167</td><td>0</td></tr>\n",
       "\t<tr><th scope=row>chr10_100743327_100744629</th><td>-0.05910615</td><td>-0.50738115</td><td> 0.162006769</td><td> 0.086618731</td><td>0</td><td>0</td><td>0</td><td>0</td><td>0</td><td>0</td><td>0</td><td>0</td><td>0</td><td>0</td><td>-0.24862423</td><td> 0.12199173</td><td>0</td><td>0</td><td>-0.09793646</td><td>0</td></tr>\n",
       "\t<tr><th scope=row>chr10_100745384_100746029</th><td> 0.26605922</td><td> 0.57394611</td><td>-0.288053222</td><td>-0.110060333</td><td>0</td><td>0</td><td>0</td><td>0</td><td>0</td><td>0</td><td>0</td><td>0</td><td>0</td><td>0</td><td>-0.17959489</td><td>-0.04870378</td><td>0</td><td>0</td><td> 0.17618489</td><td>0</td></tr>\n",
       "</tbody>\n",
       "</table>\n"
      ],
      "text/latex": [
       "A data.frame: 6 × 20\n",
       "\\begin{tabular}{r|llllllllllllllllllll}\n",
       "  & CAPRIN1 & CAT & CD164 & ERP29 & FADS1 & FADS2 & FADS3 & FEN1 & GATA1 & HBE1 & HBG1 & HBG2 & HBS1L & HDAC6 & LMO2 & MEF2C & MYB & MYC & NMU & PVT1\\\\\n",
       "  & <dbl> & <dbl> & <dbl> & <dbl> & <dbl> & <dbl> & <dbl> & <dbl> & <dbl> & <dbl> & <dbl> & <dbl> & <dbl> & <dbl> & <dbl> & <dbl> & <dbl> & <dbl> & <dbl> & <dbl>\\\\\n",
       "\\hline\n",
       "\tchr10\\_100729027\\_100729908 & -0.04143173 & -0.22290540 & -0.381589800 &  0.559668467 & 0 & 0 & 0 & 0 & 0 & 0 & 0 & 0 & 0 & 0 &  0.03181413 & -0.46880533 & 0 & 0 & -0.07762600 & 0\\\\\n",
       "\tchr10\\_100731148\\_100731673 & -0.03527227 & -0.05954518 &  0.008669636 &  0.003663182 & 0 & 0 & 0 & 0 & 0 & 0 & 0 & 0 & 0 & 0 &  0.18322736 & -0.47427727 & 0 & 0 & -0.25979427 & 0\\\\\n",
       "\tchr10\\_100735439\\_100736071 & -0.14598020 & -0.09435440 &  0.374631500 & -0.037476400 & 0 & 0 & 0 & 0 & 0 & 0 & 0 & 0 & 0 & 0 & -0.04946440 & -0.44736270 & 0 & 0 & -0.18364520 & 0\\\\\n",
       "\tchr10\\_100739703\\_100739976 &  0.81755783 &  0.28808567 &  0.280868000 & -0.001013833 & 0 & 0 & 0 & 0 & 0 & 0 & 0 & 0 & 0 & 0 & -0.14688583 & -0.05878650 & 0 & 0 & -0.67073167 & 0\\\\\n",
       "\tchr10\\_100743327\\_100744629 & -0.05910615 & -0.50738115 &  0.162006769 &  0.086618731 & 0 & 0 & 0 & 0 & 0 & 0 & 0 & 0 & 0 & 0 & -0.24862423 &  0.12199173 & 0 & 0 & -0.09793646 & 0\\\\\n",
       "\tchr10\\_100745384\\_100746029 &  0.26605922 &  0.57394611 & -0.288053222 & -0.110060333 & 0 & 0 & 0 & 0 & 0 & 0 & 0 & 0 & 0 & 0 & -0.17959489 & -0.04870378 & 0 & 0 &  0.17618489 & 0\\\\\n",
       "\\end{tabular}\n"
      ],
      "text/markdown": [
       "\n",
       "A data.frame: 6 × 20\n",
       "\n",
       "| <!--/--> | CAPRIN1 &lt;dbl&gt; | CAT &lt;dbl&gt; | CD164 &lt;dbl&gt; | ERP29 &lt;dbl&gt; | FADS1 &lt;dbl&gt; | FADS2 &lt;dbl&gt; | FADS3 &lt;dbl&gt; | FEN1 &lt;dbl&gt; | GATA1 &lt;dbl&gt; | HBE1 &lt;dbl&gt; | HBG1 &lt;dbl&gt; | HBG2 &lt;dbl&gt; | HBS1L &lt;dbl&gt; | HDAC6 &lt;dbl&gt; | LMO2 &lt;dbl&gt; | MEF2C &lt;dbl&gt; | MYB &lt;dbl&gt; | MYC &lt;dbl&gt; | NMU &lt;dbl&gt; | PVT1 &lt;dbl&gt; |\n",
       "|---|---|---|---|---|---|---|---|---|---|---|---|---|---|---|---|---|---|---|---|---|\n",
       "| chr10_100729027_100729908 | -0.04143173 | -0.22290540 | -0.381589800 |  0.559668467 | 0 | 0 | 0 | 0 | 0 | 0 | 0 | 0 | 0 | 0 |  0.03181413 | -0.46880533 | 0 | 0 | -0.07762600 | 0 |\n",
       "| chr10_100731148_100731673 | -0.03527227 | -0.05954518 |  0.008669636 |  0.003663182 | 0 | 0 | 0 | 0 | 0 | 0 | 0 | 0 | 0 | 0 |  0.18322736 | -0.47427727 | 0 | 0 | -0.25979427 | 0 |\n",
       "| chr10_100735439_100736071 | -0.14598020 | -0.09435440 |  0.374631500 | -0.037476400 | 0 | 0 | 0 | 0 | 0 | 0 | 0 | 0 | 0 | 0 | -0.04946440 | -0.44736270 | 0 | 0 | -0.18364520 | 0 |\n",
       "| chr10_100739703_100739976 |  0.81755783 |  0.28808567 |  0.280868000 | -0.001013833 | 0 | 0 | 0 | 0 | 0 | 0 | 0 | 0 | 0 | 0 | -0.14688583 | -0.05878650 | 0 | 0 | -0.67073167 | 0 |\n",
       "| chr10_100743327_100744629 | -0.05910615 | -0.50738115 |  0.162006769 |  0.086618731 | 0 | 0 | 0 | 0 | 0 | 0 | 0 | 0 | 0 | 0 | -0.24862423 |  0.12199173 | 0 | 0 | -0.09793646 | 0 |\n",
       "| chr10_100745384_100746029 |  0.26605922 |  0.57394611 | -0.288053222 | -0.110060333 | 0 | 0 | 0 | 0 | 0 | 0 | 0 | 0 | 0 | 0 | -0.17959489 | -0.04870378 | 0 | 0 |  0.17618489 | 0 |\n",
       "\n"
      ],
      "text/plain": [
       "                          CAPRIN1     CAT         CD164        ERP29       \n",
       "chr10_100729027_100729908 -0.04143173 -0.22290540 -0.381589800  0.559668467\n",
       "chr10_100731148_100731673 -0.03527227 -0.05954518  0.008669636  0.003663182\n",
       "chr10_100735439_100736071 -0.14598020 -0.09435440  0.374631500 -0.037476400\n",
       "chr10_100739703_100739976  0.81755783  0.28808567  0.280868000 -0.001013833\n",
       "chr10_100743327_100744629 -0.05910615 -0.50738115  0.162006769  0.086618731\n",
       "chr10_100745384_100746029  0.26605922  0.57394611 -0.288053222 -0.110060333\n",
       "                          FADS1 FADS2 FADS3 FEN1 GATA1 HBE1 HBG1 HBG2 HBS1L\n",
       "chr10_100729027_100729908 0     0     0     0    0     0    0    0    0    \n",
       "chr10_100731148_100731673 0     0     0     0    0     0    0    0    0    \n",
       "chr10_100735439_100736071 0     0     0     0    0     0    0    0    0    \n",
       "chr10_100739703_100739976 0     0     0     0    0     0    0    0    0    \n",
       "chr10_100743327_100744629 0     0     0     0    0     0    0    0    0    \n",
       "chr10_100745384_100746029 0     0     0     0    0     0    0    0    0    \n",
       "                          HDAC6 LMO2        MEF2C       MYB MYC NMU        \n",
       "chr10_100729027_100729908 0      0.03181413 -0.46880533 0   0   -0.07762600\n",
       "chr10_100731148_100731673 0      0.18322736 -0.47427727 0   0   -0.25979427\n",
       "chr10_100735439_100736071 0     -0.04946440 -0.44736270 0   0   -0.18364520\n",
       "chr10_100739703_100739976 0     -0.14688583 -0.05878650 0   0   -0.67073167\n",
       "chr10_100743327_100744629 0     -0.24862423  0.12199173 0   0   -0.09793646\n",
       "chr10_100745384_100746029 0     -0.17959489 -0.04870378 0   0    0.17618489\n",
       "                          PVT1\n",
       "chr10_100729027_100729908 0   \n",
       "chr10_100731148_100731673 0   \n",
       "chr10_100735439_100736071 0   \n",
       "chr10_100739703_100739976 0   \n",
       "chr10_100743327_100744629 0   \n",
       "chr10_100745384_100746029 0   "
      ]
     },
     "metadata": {},
     "output_type": "display_data"
    }
   ],
   "source": [
    "lst = lst_dat\n",
    "dat = bind_rows(lst) %>% \n",
    "    dplyr::filter(Score != \".\") %>%\n",
    "    dplyr::mutate(\n",
    "        Peak  = paste(Chrom, Start, End, sep=\"_\"),\n",
    "        Score = as.double(Score))\n",
    "\n",
    "###\n",
    "dat = dat %>% \n",
    "    tidyr::spread(Gene, Score) %>% \n",
    "    dplyr::mutate(across(where(is.numeric), ~replace_na(.,0)))\n",
    "\n",
    "dat_score     = dat %>% dplyr::select(-Chrom, -Start, -End) %>% column_to_rownames(var = \"Peak\")\n",
    "head(dat_score)"
   ]
  },
  {
   "cell_type": "code",
   "execution_count": 23,
   "metadata": {},
   "outputs": [
    {
     "name": "stdout",
     "output_type": "stream",
     "text": [
      " [1] \"CAPRIN1\" \"CAT\"     \"CD164\"   \"ERP29\"   \"FADS1\"   \"FADS2\"   \"FADS3\"  \n",
      " [8] \"FEN1\"    \"GATA1\"   \"HBE1\"    \"HBG1\"    \"HBG2\"    \"HBS1L\"   \"HDAC6\"  \n",
      "[15] \"LMO2\"    \"MEF2C\"   \"MYB\"     \"MYC\"     \"NMU\"     \"PVT1\"   \n",
      "character(0)\n"
     ]
    }
   ],
   "source": [
    "genes = c(\n",
    "    \"NMU\",\n",
    "    \"MEF2C\",\n",
    "    \"CD164\",\n",
    "    \"MYB\", \"HBS1L\", \"HBG1\", \"HBG2\", \"HBE1\",\n",
    "    \"PVT1\", \"MYC\",\n",
    "    \"LMO2\", \"CAPRIN1\", \"CAT\",\n",
    "    \"FADS1\", \"FADS2\", \"FADS3\", \"FEN1\",\n",
    "    \"ERP29\",\n",
    "    \"GATA1\", \"HDAC6\"\n",
    ")\n",
    "\n",
    "dat = bind_rows(lst)\n",
    "print(unique(dat$Gene))\n",
    "print(setdiff(unique(dat$Gene), genes))"
   ]
  },
  {
   "cell_type": "markdown",
   "metadata": {},
   "source": [
    "## Save table and results"
   ]
  },
  {
   "cell_type": "code",
   "execution_count": 24,
   "metadata": {},
   "outputs": [
    {
     "data": {
      "text/html": [
       "<table class=\"dataframe\">\n",
       "<caption>A tibble: 6 × 6</caption>\n",
       "<thead>\n",
       "\t<tr><th scope=col>Peak</th><th scope=col>Chrom</th><th scope=col>Start</th><th scope=col>End</th><th scope=col>Gene</th><th scope=col>Score</th></tr>\n",
       "\t<tr><th scope=col>&lt;chr&gt;</th><th scope=col>&lt;chr&gt;</th><th scope=col>&lt;dbl&gt;</th><th scope=col>&lt;dbl&gt;</th><th scope=col>&lt;chr&gt;</th><th scope=col>&lt;dbl&gt;</th></tr>\n",
       "</thead>\n",
       "<tbody>\n",
       "\t<tr><td>chr10_100729027_100729908</td><td>chr10</td><td>100729027</td><td>100729908</td><td>CAPRIN1</td><td>-0.04143173</td></tr>\n",
       "\t<tr><td>chr10_100731148_100731673</td><td>chr10</td><td>100731148</td><td>100731673</td><td>CAPRIN1</td><td>-0.03527227</td></tr>\n",
       "\t<tr><td>chr10_100735439_100736071</td><td>chr10</td><td>100735439</td><td>100736071</td><td>CAPRIN1</td><td>-0.14598020</td></tr>\n",
       "\t<tr><td>chr10_100739703_100739976</td><td>chr10</td><td>100739703</td><td>100739976</td><td>CAPRIN1</td><td> 0.81755783</td></tr>\n",
       "\t<tr><td>chr10_100743327_100744629</td><td>chr10</td><td>100743327</td><td>100744629</td><td>CAPRIN1</td><td>-0.05910615</td></tr>\n",
       "\t<tr><td>chr10_100745384_100746029</td><td>chr10</td><td>100745384</td><td>100746029</td><td>CAPRIN1</td><td> 0.26605922</td></tr>\n",
       "</tbody>\n",
       "</table>\n"
      ],
      "text/latex": [
       "A tibble: 6 × 6\n",
       "\\begin{tabular}{llllll}\n",
       " Peak & Chrom & Start & End & Gene & Score\\\\\n",
       " <chr> & <chr> & <dbl> & <dbl> & <chr> & <dbl>\\\\\n",
       "\\hline\n",
       "\t chr10\\_100729027\\_100729908 & chr10 & 100729027 & 100729908 & CAPRIN1 & -0.04143173\\\\\n",
       "\t chr10\\_100731148\\_100731673 & chr10 & 100731148 & 100731673 & CAPRIN1 & -0.03527227\\\\\n",
       "\t chr10\\_100735439\\_100736071 & chr10 & 100735439 & 100736071 & CAPRIN1 & -0.14598020\\\\\n",
       "\t chr10\\_100739703\\_100739976 & chr10 & 100739703 & 100739976 & CAPRIN1 &  0.81755783\\\\\n",
       "\t chr10\\_100743327\\_100744629 & chr10 & 100743327 & 100744629 & CAPRIN1 & -0.05910615\\\\\n",
       "\t chr10\\_100745384\\_100746029 & chr10 & 100745384 & 100746029 & CAPRIN1 &  0.26605922\\\\\n",
       "\\end{tabular}\n"
      ],
      "text/markdown": [
       "\n",
       "A tibble: 6 × 6\n",
       "\n",
       "| Peak &lt;chr&gt; | Chrom &lt;chr&gt; | Start &lt;dbl&gt; | End &lt;dbl&gt; | Gene &lt;chr&gt; | Score &lt;dbl&gt; |\n",
       "|---|---|---|---|---|---|\n",
       "| chr10_100729027_100729908 | chr10 | 100729027 | 100729908 | CAPRIN1 | -0.04143173 |\n",
       "| chr10_100731148_100731673 | chr10 | 100731148 | 100731673 | CAPRIN1 | -0.03527227 |\n",
       "| chr10_100735439_100736071 | chr10 | 100735439 | 100736071 | CAPRIN1 | -0.14598020 |\n",
       "| chr10_100739703_100739976 | chr10 | 100739703 | 100739976 | CAPRIN1 |  0.81755783 |\n",
       "| chr10_100743327_100744629 | chr10 | 100743327 | 100744629 | CAPRIN1 | -0.05910615 |\n",
       "| chr10_100745384_100746029 | chr10 | 100745384 | 100746029 | CAPRIN1 |  0.26605922 |\n",
       "\n"
      ],
      "text/plain": [
       "  Peak                      Chrom Start     End       Gene    Score      \n",
       "1 chr10_100729027_100729908 chr10 100729027 100729908 CAPRIN1 -0.04143173\n",
       "2 chr10_100731148_100731673 chr10 100731148 100731673 CAPRIN1 -0.03527227\n",
       "3 chr10_100735439_100736071 chr10 100735439 100736071 CAPRIN1 -0.14598020\n",
       "4 chr10_100739703_100739976 chr10 100739703 100739976 CAPRIN1  0.81755783\n",
       "5 chr10_100743327_100744629 chr10 100743327 100744629 CAPRIN1 -0.05910615\n",
       "6 chr10_100745384_100746029 chr10 100745384 100746029 CAPRIN1  0.26605922"
      ]
     },
     "metadata": {},
     "output_type": "display_data"
    }
   ],
   "source": [
    "###\n",
    "lst = lst_dat\n",
    "dat = bind_rows(lst) %>% \n",
    "    dplyr::filter(Score != \".\") %>%\n",
    "    dplyr::mutate(\n",
    "        Peak  = paste(Chrom, Start, End, sep=\"_\"),\n",
    "        Score = as.double(Score)) %>%\n",
    "    dplyr::select(Peak, Chrom, Start, End, Gene, Score)\n",
    "head(dat)"
   ]
  },
  {
   "cell_type": "code",
   "execution_count": 32,
   "metadata": {},
   "outputs": [],
   "source": [
    "###\n",
    "lst = lst_dat\n",
    "dat = bind_rows(lst) %>% \n",
    "    dplyr::filter(Score != \".\") %>%\n",
    "    dplyr::mutate(\n",
    "        Peak  = paste(Chrom, Start, End, sep=\"_\"),\n",
    "        Score = as.double(Score)) %>%\n",
    "    dplyr::select(Peak, Chrom, Start, End, Gene, Score)\n",
    "\n",
    "### save\n",
    "ASSAY  = \"CRISPR\"\n",
    "FOLDER = \"coverage_astarrseq_peak_macs_input\"\n",
    "\n",
    "fdiry = file.path(FD_RES, \"results\", ASSAY, FOLDER, \"summary\")\n",
    "fname = \"result.Log2FC.hcrff.tsv\"\n",
    "fpath = file.path(fdiry, fname)\n",
    "\n",
    "write_tsv(dat, fpath)"
   ]
  },
  {
   "cell_type": "code",
   "execution_count": 26,
   "metadata": {},
   "outputs": [
    {
     "data": {
      "text/html": [
       "<table class=\"dataframe\">\n",
       "<caption>A tibble: 6 × 24</caption>\n",
       "<thead>\n",
       "\t<tr><th scope=col>Peak</th><th scope=col>Chrom</th><th scope=col>Start</th><th scope=col>End</th><th scope=col>NMU</th><th scope=col>MEF2C</th><th scope=col>CD164</th><th scope=col>MYB</th><th scope=col>HBS1L</th><th scope=col>HBG1</th><th scope=col>⋯</th><th scope=col>LMO2</th><th scope=col>CAPRIN1</th><th scope=col>CAT</th><th scope=col>FADS1</th><th scope=col>FADS2</th><th scope=col>FADS3</th><th scope=col>FEN1</th><th scope=col>ERP29</th><th scope=col>GATA1</th><th scope=col>HDAC6</th></tr>\n",
       "\t<tr><th scope=col>&lt;chr&gt;</th><th scope=col>&lt;fct&gt;</th><th scope=col>&lt;dbl&gt;</th><th scope=col>&lt;dbl&gt;</th><th scope=col>&lt;dbl&gt;</th><th scope=col>&lt;dbl&gt;</th><th scope=col>&lt;dbl&gt;</th><th scope=col>&lt;dbl&gt;</th><th scope=col>&lt;dbl&gt;</th><th scope=col>&lt;dbl&gt;</th><th scope=col>⋯</th><th scope=col>&lt;dbl&gt;</th><th scope=col>&lt;dbl&gt;</th><th scope=col>&lt;dbl&gt;</th><th scope=col>&lt;dbl&gt;</th><th scope=col>&lt;dbl&gt;</th><th scope=col>&lt;dbl&gt;</th><th scope=col>&lt;dbl&gt;</th><th scope=col>&lt;dbl&gt;</th><th scope=col>&lt;dbl&gt;</th><th scope=col>&lt;dbl&gt;</th></tr>\n",
       "</thead>\n",
       "<tbody>\n",
       "\t<tr><td>chr2_129361843_129362257</td><td>chr2</td><td>129361843</td><td>129362257</td><td> 0.57979600</td><td>0</td><td>0.134735</td><td>0.099261</td><td>-0.21383</td><td>-0.794888</td><td>⋯</td><td>0</td><td>0</td><td>0</td><td>0</td><td>0</td><td>0</td><td>0</td><td>0</td><td>0.000000</td><td> 0.000000</td></tr>\n",
       "\t<tr><td>chr3_128486843_128489642</td><td>chr3</td><td>128486843</td><td>128489642</td><td> 0.00000000</td><td>0</td><td>0.000000</td><td>0.000000</td><td> 0.00000</td><td> 0.000000</td><td>⋯</td><td>0</td><td>0</td><td>0</td><td>0</td><td>0</td><td>0</td><td>0</td><td>0</td><td>0.260774</td><td>-0.137354</td></tr>\n",
       "\t<tr><td>chr4_55270087_55270436  </td><td>chr4</td><td> 55270087</td><td> 55270436</td><td>-0.08950373</td><td>0</td><td>0.000000</td><td>0.000000</td><td> 0.00000</td><td> 0.000000</td><td>⋯</td><td>0</td><td>0</td><td>0</td><td>0</td><td>0</td><td>0</td><td>0</td><td>0</td><td>0.000000</td><td> 0.000000</td></tr>\n",
       "\t<tr><td>chr4_55293902_55294193  </td><td>chr4</td><td> 55293902</td><td> 55294193</td><td>-0.08497190</td><td>0</td><td>0.000000</td><td>0.000000</td><td> 0.00000</td><td> 0.000000</td><td>⋯</td><td>0</td><td>0</td><td>0</td><td>0</td><td>0</td><td>0</td><td>0</td><td>0</td><td>0.000000</td><td> 0.000000</td></tr>\n",
       "\t<tr><td>chr4_55296965_55297999  </td><td>chr4</td><td> 55296965</td><td> 55297999</td><td>-0.34007295</td><td>0</td><td>0.000000</td><td>0.000000</td><td> 0.00000</td><td> 0.000000</td><td>⋯</td><td>0</td><td>0</td><td>0</td><td>0</td><td>0</td><td>0</td><td>0</td><td>0</td><td>0.000000</td><td> 0.000000</td></tr>\n",
       "\t<tr><td>chr4_55312019_55312784  </td><td>chr4</td><td> 55312019</td><td> 55312784</td><td> 0.21455504</td><td>0</td><td>0.000000</td><td>0.000000</td><td> 0.00000</td><td> 0.000000</td><td>⋯</td><td>0</td><td>0</td><td>0</td><td>0</td><td>0</td><td>0</td><td>0</td><td>0</td><td>0.000000</td><td> 0.000000</td></tr>\n",
       "</tbody>\n",
       "</table>\n"
      ],
      "text/latex": [
       "A tibble: 6 × 24\n",
       "\\begin{tabular}{lllllllllllllllllllll}\n",
       " Peak & Chrom & Start & End & NMU & MEF2C & CD164 & MYB & HBS1L & HBG1 & ⋯ & LMO2 & CAPRIN1 & CAT & FADS1 & FADS2 & FADS3 & FEN1 & ERP29 & GATA1 & HDAC6\\\\\n",
       " <chr> & <fct> & <dbl> & <dbl> & <dbl> & <dbl> & <dbl> & <dbl> & <dbl> & <dbl> & ⋯ & <dbl> & <dbl> & <dbl> & <dbl> & <dbl> & <dbl> & <dbl> & <dbl> & <dbl> & <dbl>\\\\\n",
       "\\hline\n",
       "\t chr2\\_129361843\\_129362257 & chr2 & 129361843 & 129362257 &  0.57979600 & 0 & 0.134735 & 0.099261 & -0.21383 & -0.794888 & ⋯ & 0 & 0 & 0 & 0 & 0 & 0 & 0 & 0 & 0.000000 &  0.000000\\\\\n",
       "\t chr3\\_128486843\\_128489642 & chr3 & 128486843 & 128489642 &  0.00000000 & 0 & 0.000000 & 0.000000 &  0.00000 &  0.000000 & ⋯ & 0 & 0 & 0 & 0 & 0 & 0 & 0 & 0 & 0.260774 & -0.137354\\\\\n",
       "\t chr4\\_55270087\\_55270436   & chr4 &  55270087 &  55270436 & -0.08950373 & 0 & 0.000000 & 0.000000 &  0.00000 &  0.000000 & ⋯ & 0 & 0 & 0 & 0 & 0 & 0 & 0 & 0 & 0.000000 &  0.000000\\\\\n",
       "\t chr4\\_55293902\\_55294193   & chr4 &  55293902 &  55294193 & -0.08497190 & 0 & 0.000000 & 0.000000 &  0.00000 &  0.000000 & ⋯ & 0 & 0 & 0 & 0 & 0 & 0 & 0 & 0 & 0.000000 &  0.000000\\\\\n",
       "\t chr4\\_55296965\\_55297999   & chr4 &  55296965 &  55297999 & -0.34007295 & 0 & 0.000000 & 0.000000 &  0.00000 &  0.000000 & ⋯ & 0 & 0 & 0 & 0 & 0 & 0 & 0 & 0 & 0.000000 &  0.000000\\\\\n",
       "\t chr4\\_55312019\\_55312784   & chr4 &  55312019 &  55312784 &  0.21455504 & 0 & 0.000000 & 0.000000 &  0.00000 &  0.000000 & ⋯ & 0 & 0 & 0 & 0 & 0 & 0 & 0 & 0 & 0.000000 &  0.000000\\\\\n",
       "\\end{tabular}\n"
      ],
      "text/markdown": [
       "\n",
       "A tibble: 6 × 24\n",
       "\n",
       "| Peak &lt;chr&gt; | Chrom &lt;fct&gt; | Start &lt;dbl&gt; | End &lt;dbl&gt; | NMU &lt;dbl&gt; | MEF2C &lt;dbl&gt; | CD164 &lt;dbl&gt; | MYB &lt;dbl&gt; | HBS1L &lt;dbl&gt; | HBG1 &lt;dbl&gt; | ⋯ ⋯ | LMO2 &lt;dbl&gt; | CAPRIN1 &lt;dbl&gt; | CAT &lt;dbl&gt; | FADS1 &lt;dbl&gt; | FADS2 &lt;dbl&gt; | FADS3 &lt;dbl&gt; | FEN1 &lt;dbl&gt; | ERP29 &lt;dbl&gt; | GATA1 &lt;dbl&gt; | HDAC6 &lt;dbl&gt; |\n",
       "|---|---|---|---|---|---|---|---|---|---|---|---|---|---|---|---|---|---|---|---|---|\n",
       "| chr2_129361843_129362257 | chr2 | 129361843 | 129362257 |  0.57979600 | 0 | 0.134735 | 0.099261 | -0.21383 | -0.794888 | ⋯ | 0 | 0 | 0 | 0 | 0 | 0 | 0 | 0 | 0.000000 |  0.000000 |\n",
       "| chr3_128486843_128489642 | chr3 | 128486843 | 128489642 |  0.00000000 | 0 | 0.000000 | 0.000000 |  0.00000 |  0.000000 | ⋯ | 0 | 0 | 0 | 0 | 0 | 0 | 0 | 0 | 0.260774 | -0.137354 |\n",
       "| chr4_55270087_55270436   | chr4 |  55270087 |  55270436 | -0.08950373 | 0 | 0.000000 | 0.000000 |  0.00000 |  0.000000 | ⋯ | 0 | 0 | 0 | 0 | 0 | 0 | 0 | 0 | 0.000000 |  0.000000 |\n",
       "| chr4_55293902_55294193   | chr4 |  55293902 |  55294193 | -0.08497190 | 0 | 0.000000 | 0.000000 |  0.00000 |  0.000000 | ⋯ | 0 | 0 | 0 | 0 | 0 | 0 | 0 | 0 | 0.000000 |  0.000000 |\n",
       "| chr4_55296965_55297999   | chr4 |  55296965 |  55297999 | -0.34007295 | 0 | 0.000000 | 0.000000 |  0.00000 |  0.000000 | ⋯ | 0 | 0 | 0 | 0 | 0 | 0 | 0 | 0 | 0.000000 |  0.000000 |\n",
       "| chr4_55312019_55312784   | chr4 |  55312019 |  55312784 |  0.21455504 | 0 | 0.000000 | 0.000000 |  0.00000 |  0.000000 | ⋯ | 0 | 0 | 0 | 0 | 0 | 0 | 0 | 0 | 0.000000 |  0.000000 |\n",
       "\n"
      ],
      "text/plain": [
       "  Peak                     Chrom Start     End       NMU         MEF2C CD164   \n",
       "1 chr2_129361843_129362257 chr2  129361843 129362257  0.57979600 0     0.134735\n",
       "2 chr3_128486843_128489642 chr3  128486843 128489642  0.00000000 0     0.000000\n",
       "3 chr4_55270087_55270436   chr4   55270087  55270436 -0.08950373 0     0.000000\n",
       "4 chr4_55293902_55294193   chr4   55293902  55294193 -0.08497190 0     0.000000\n",
       "5 chr4_55296965_55297999   chr4   55296965  55297999 -0.34007295 0     0.000000\n",
       "6 chr4_55312019_55312784   chr4   55312019  55312784  0.21455504 0     0.000000\n",
       "  MYB      HBS1L    HBG1      ⋯ LMO2 CAPRIN1 CAT FADS1 FADS2 FADS3 FEN1 ERP29\n",
       "1 0.099261 -0.21383 -0.794888 ⋯ 0    0       0   0     0     0     0    0    \n",
       "2 0.000000  0.00000  0.000000 ⋯ 0    0       0   0     0     0     0    0    \n",
       "3 0.000000  0.00000  0.000000 ⋯ 0    0       0   0     0     0     0    0    \n",
       "4 0.000000  0.00000  0.000000 ⋯ 0    0       0   0     0     0     0    0    \n",
       "5 0.000000  0.00000  0.000000 ⋯ 0    0       0   0     0     0     0    0    \n",
       "6 0.000000  0.00000  0.000000 ⋯ 0    0       0   0     0     0     0    0    \n",
       "  GATA1    HDAC6    \n",
       "1 0.000000  0.000000\n",
       "2 0.260774 -0.137354\n",
       "3 0.000000  0.000000\n",
       "4 0.000000  0.000000\n",
       "5 0.000000  0.000000\n",
       "6 0.000000  0.000000"
      ]
     },
     "metadata": {},
     "output_type": "display_data"
    }
   ],
   "source": [
    "###\n",
    "lst = lst_dat\n",
    "dat = bind_rows(lst) %>% \n",
    "    dplyr::filter(Score != \".\") %>%\n",
    "    dplyr::mutate(\n",
    "        Peak  = paste(Chrom, Start, End, sep=\"_\"),\n",
    "        Score = as.double(Score))\n",
    "\n",
    "###\n",
    "dat = dat %>% \n",
    "    tidyr::spread(Gene, Score) %>% \n",
    "    dplyr::mutate(across(where(is.numeric), ~replace_na(.,0))) %>% \n",
    "    dplyr::select(Peak, Chrom, Start, End, !!genes)\n",
    "\n",
    "### sort by location\n",
    "CHROMS = paste0(\"chr\", c(1:22, \"X\", \"Y\"))\n",
    "dat$Chrom = factor(dat$Chrom, levels=CHROMS)\n",
    "dat = dat %>% dplyr::arrange(Chrom, Start, End)\n",
    "\n",
    "head(dat)"
   ]
  },
  {
   "cell_type": "code",
   "execution_count": 33,
   "metadata": {},
   "outputs": [],
   "source": [
    "###\n",
    "lst = lst_dat\n",
    "dat = bind_rows(lst) %>% \n",
    "    dplyr::filter(Score != \".\") %>%\n",
    "    dplyr::mutate(\n",
    "        Peak  = paste(Chrom, Start, End, sep=\"_\"),\n",
    "        Score = as.double(Score))\n",
    "\n",
    "###\n",
    "dat = dat %>% \n",
    "    tidyr::spread(Gene, Score) %>% \n",
    "    dplyr::mutate(across(where(is.numeric), ~replace_na(.,0))) %>% \n",
    "    dplyr::select(Peak, Chrom, Start, End, !!genes)\n",
    "\n",
    "### sort by location\n",
    "CHROMS = paste0(\"chr\", c(1:22, \"X\", \"Y\"))\n",
    "dat$Chrom = factor(dat$Chrom, levels=CHROMS)\n",
    "dat = dat %>% dplyr::arrange(Chrom, Start, End)\n",
    "\n",
    "###\n",
    "ASSAY  = \"CRISPR\"\n",
    "FOLDER = \"coverage_astarrseq_peak_macs_input\"\n",
    "\n",
    "fdiry = file.path(FD_RES, \"results\", ASSAY, FOLDER, \"summary\")\n",
    "fname = \"matrix.Log2FC.hcrff.tsv\"\n",
    "fpath = file.path(fdiry, fname)\n",
    "\n",
    "write_tsv(dat, fpath)"
   ]
  },
  {
   "cell_type": "code",
   "execution_count": 30,
   "metadata": {},
   "outputs": [
    {
     "data": {
      "text/html": [
       "<table class=\"dataframe\">\n",
       "<caption>A tibble: 6 × 7</caption>\n",
       "<thead>\n",
       "\t<tr><th scope=col>Peak</th><th scope=col>Chrom</th><th scope=col>Start</th><th scope=col>End</th><th scope=col>Score_mean</th><th scope=col>Score_mean_abs</th><th scope=col>N_Gene</th></tr>\n",
       "\t<tr><th scope=col>&lt;chr&gt;</th><th scope=col>&lt;chr&gt;</th><th scope=col>&lt;dbl&gt;</th><th scope=col>&lt;dbl&gt;</th><th scope=col>&lt;dbl&gt;</th><th scope=col>&lt;dbl&gt;</th><th scope=col>&lt;int&gt;</th></tr>\n",
       "</thead>\n",
       "<tbody>\n",
       "\t<tr><td>chr10_100729027_100729908</td><td>chr10</td><td>100729027</td><td>100729908</td><td>-0.08583938</td><td>0.2548344</td><td>7</td></tr>\n",
       "\t<tr><td>chr10_100731148_100731673</td><td>chr10</td><td>100731148</td><td>100731673</td><td>-0.09047555</td><td>0.1463499</td><td>7</td></tr>\n",
       "\t<tr><td>chr10_100735439_100736071</td><td>chr10</td><td>100735439</td><td>100736071</td><td>-0.08337883</td><td>0.1904164</td><td>7</td></tr>\n",
       "\t<tr><td>chr10_100739703_100739976</td><td>chr10</td><td>100739703</td><td>100739976</td><td> 0.07272767</td><td>0.3234185</td><td>7</td></tr>\n",
       "\t<tr><td>chr10_100743327_100744629</td><td>chr10</td><td>100743327</td><td>100744629</td><td>-0.07749011</td><td>0.1833807</td><td>7</td></tr>\n",
       "\t<tr><td>chr10_100745384_100746029</td><td>chr10</td><td>100745384</td><td>100746029</td><td> 0.05568257</td><td>0.2346575</td><td>7</td></tr>\n",
       "</tbody>\n",
       "</table>\n"
      ],
      "text/latex": [
       "A tibble: 6 × 7\n",
       "\\begin{tabular}{lllllll}\n",
       " Peak & Chrom & Start & End & Score\\_mean & Score\\_mean\\_abs & N\\_Gene\\\\\n",
       " <chr> & <chr> & <dbl> & <dbl> & <dbl> & <dbl> & <int>\\\\\n",
       "\\hline\n",
       "\t chr10\\_100729027\\_100729908 & chr10 & 100729027 & 100729908 & -0.08583938 & 0.2548344 & 7\\\\\n",
       "\t chr10\\_100731148\\_100731673 & chr10 & 100731148 & 100731673 & -0.09047555 & 0.1463499 & 7\\\\\n",
       "\t chr10\\_100735439\\_100736071 & chr10 & 100735439 & 100736071 & -0.08337883 & 0.1904164 & 7\\\\\n",
       "\t chr10\\_100739703\\_100739976 & chr10 & 100739703 & 100739976 &  0.07272767 & 0.3234185 & 7\\\\\n",
       "\t chr10\\_100743327\\_100744629 & chr10 & 100743327 & 100744629 & -0.07749011 & 0.1833807 & 7\\\\\n",
       "\t chr10\\_100745384\\_100746029 & chr10 & 100745384 & 100746029 &  0.05568257 & 0.2346575 & 7\\\\\n",
       "\\end{tabular}\n"
      ],
      "text/markdown": [
       "\n",
       "A tibble: 6 × 7\n",
       "\n",
       "| Peak &lt;chr&gt; | Chrom &lt;chr&gt; | Start &lt;dbl&gt; | End &lt;dbl&gt; | Score_mean &lt;dbl&gt; | Score_mean_abs &lt;dbl&gt; | N_Gene &lt;int&gt; |\n",
       "|---|---|---|---|---|---|---|\n",
       "| chr10_100729027_100729908 | chr10 | 100729027 | 100729908 | -0.08583938 | 0.2548344 | 7 |\n",
       "| chr10_100731148_100731673 | chr10 | 100731148 | 100731673 | -0.09047555 | 0.1463499 | 7 |\n",
       "| chr10_100735439_100736071 | chr10 | 100735439 | 100736071 | -0.08337883 | 0.1904164 | 7 |\n",
       "| chr10_100739703_100739976 | chr10 | 100739703 | 100739976 |  0.07272767 | 0.3234185 | 7 |\n",
       "| chr10_100743327_100744629 | chr10 | 100743327 | 100744629 | -0.07749011 | 0.1833807 | 7 |\n",
       "| chr10_100745384_100746029 | chr10 | 100745384 | 100746029 |  0.05568257 | 0.2346575 | 7 |\n",
       "\n"
      ],
      "text/plain": [
       "  Peak                      Chrom Start     End       Score_mean \n",
       "1 chr10_100729027_100729908 chr10 100729027 100729908 -0.08583938\n",
       "2 chr10_100731148_100731673 chr10 100731148 100731673 -0.09047555\n",
       "3 chr10_100735439_100736071 chr10 100735439 100736071 -0.08337883\n",
       "4 chr10_100739703_100739976 chr10 100739703 100739976  0.07272767\n",
       "5 chr10_100743327_100744629 chr10 100743327 100744629 -0.07749011\n",
       "6 chr10_100745384_100746029 chr10 100745384 100746029  0.05568257\n",
       "  Score_mean_abs N_Gene\n",
       "1 0.2548344      7     \n",
       "2 0.1463499      7     \n",
       "3 0.1904164      7     \n",
       "4 0.3234185      7     \n",
       "5 0.1833807      7     \n",
       "6 0.2346575      7     "
      ]
     },
     "metadata": {},
     "output_type": "display_data"
    }
   ],
   "source": [
    "###\n",
    "lst = lst_dat\n",
    "dat = bind_rows(lst) %>% \n",
    "    dplyr::filter(Score != \".\") %>%\n",
    "    dplyr::mutate(\n",
    "        Peak  = paste(Chrom, Start, End, sep=\"_\"),\n",
    "        Score = as.double(Score))\n",
    "\n",
    "dat = dat %>%\n",
    "    dplyr::group_by(Peak, Chrom, Start, End) %>%\n",
    "    dplyr::summarize(\n",
    "        Score_mean     = mean(Score), \n",
    "        Score_mean_abs = mean(abs(Score)), \n",
    "        N_Gene         = n(),\n",
    "        .groups = \"drop\")\n",
    "head(dat)"
   ]
  },
  {
   "cell_type": "code",
   "execution_count": 31,
   "metadata": {},
   "outputs": [
    {
     "data": {
      "text/plain": [
       "\n",
       "  1   2   3   4   5   7   9  11 \n",
       "550 295 230  24 235  20   3   1 "
      ]
     },
     "metadata": {},
     "output_type": "display_data"
    }
   ],
   "source": [
    "table(dat$N_Gene)"
   ]
  },
  {
   "cell_type": "code",
   "execution_count": 35,
   "metadata": {},
   "outputs": [],
   "source": [
    "###\n",
    "lst = lst_dat\n",
    "dat = bind_rows(lst) %>% \n",
    "    dplyr::filter(Score != \".\") %>%\n",
    "    dplyr::mutate(\n",
    "        Peak  = paste(Chrom, Start, End, sep=\"_\"),\n",
    "        Score = as.double(Score))\n",
    "\n",
    "dat = dat %>%\n",
    "    dplyr::group_by(Peak, Chrom, Start, End) %>%\n",
    "    dplyr::summarize(\n",
    "        Score_mean     = mean(Score), \n",
    "        Score_mean_abs = mean(abs(Score)), \n",
    "        N_Gene         = n(),\n",
    "        .groups = \"drop\")\n",
    "\n",
    "###\n",
    "ASSAY  = \"CRISPR\"\n",
    "FOLDER = \"coverage_astarrseq_peak_macs_input\"\n",
    "\n",
    "fdiry = file.path(FD_RES, \"results\", ASSAY, FOLDER, \"summary\")\n",
    "fname = \"result.stats.hcrff.tsv\"\n",
    "fpath = file.path(fdiry, fname)\n",
    "\n",
    "write_tsv(dat, fpath)"
   ]
  },
  {
   "cell_type": "code",
   "execution_count": null,
   "metadata": {},
   "outputs": [],
   "source": []
  },
  {
   "cell_type": "code",
   "execution_count": 27,
   "metadata": {},
   "outputs": [
    {
     "data": {
      "image/png": "[encoded data removed]",
      "text/plain": [
       "plot without title"
      ]
     },
     "metadata": {
      "image/png": {
       "height": 600,
       "width": 480
      }
     },
     "output_type": "display_data"
    }
   ],
   "source": [
    "###\n",
    "dat = bind_rows(lst) %>% \n",
    "    dplyr::filter(Score != \".\") %>%\n",
    "    dplyr::mutate(\n",
    "        Peak  = paste(Chrom, Start, End, sep=\"_\"),\n",
    "        Score = as.double(Score))\n",
    "\n",
    "###\n",
    "dat = dat %>% \n",
    "    tidyr::spread(Gene, Score) %>% \n",
    "    dplyr::mutate(across(where(is.numeric), ~replace_na(.,0))) %>% \n",
    "    dplyr::select(Peak, Chrom, Start, End, !!genes)\n",
    "\n",
    "### sort by location\n",
    "CHROMS = paste0(\"chr\", c(1:22, \"X\", \"Y\"))\n",
    "dat$Chrom = factor(dat$Chrom, levels=CHROMS)\n",
    "dat = dat %>% dplyr::arrange(Chrom, Start, End)\n",
    "\n",
    "###\n",
    "dat_annot_row = dat %>% dplyr::select(Peak, Chrom)          %>% column_to_rownames(var = \"Peak\")\n",
    "dat_score     = dat %>% dplyr::select(-Chrom, -Start, -End) %>% column_to_rownames(var = \"Peak\")\n",
    "\n",
    "###\n",
    "mat  = dat_score\n",
    "paletteLength = 50\n",
    "\n",
    "bmin = -2.5\n",
    "bmax =  6\n",
    "xmin = -2 # min(mat)\n",
    "xmax =  2 # max(mat)\n",
    "nmin = ceiling((paletteLength-1)/2)\n",
    "nmax = floor(  (paletteLength-1)/2)\n",
    "\n",
    "myColor = c(\n",
    "    \"blue\",\n",
    "    colorRampPalette(c(\"blue\", \"white\"))(nmin),\n",
    "    \"white\",\n",
    "    colorRampPalette(c(\"white\", \"red\"))(nmax),\n",
    "    \"red\"\n",
    ")\n",
    "\n",
    "myBreaks = c(\n",
    "    bmin,\n",
    "    seq(xmin, xmin/paletteLength, length.out=nmin),\n",
    "    0,\n",
    "    seq(xmax/paletteLength, xmax, length.out=nmax),\n",
    "    bmax\n",
    ")\n",
    "\n",
    "options(repr.plot.height=10, repr.plot.width=8)\n",
    "pheatmap(mat,\n",
    "         cluster_row  = FALSE,\n",
    "         cluster_cols = FALSE,\n",
    "         show_rownames = FALSE,\n",
    "         annotation_names_row = FALSE,\n",
    "         annotation_row = dat_annot_row,\n",
    "         color=myColor, \n",
    "         breaks=myBreaks)"
   ]
  },
  {
   "cell_type": "code",
   "execution_count": 18,
   "metadata": {},
   "outputs": [
    {
     "name": "stdout",
     "output_type": "stream",
     "text": [
      " [1] \"Chrom\"   \"Start\"   \"End\"     \"Peak\"    \"CAPRIN1\" \"CAT\"     \"CD164\"  \n",
      " [8] \"ERP29\"   \"FADS1\"   \"FADS2\"   \"FADS3\"   \"FEN1\"    \"GATA1\"   \"HBE1\"   \n",
      "[15] \"HBG1\"    \"HBG2\"    \"HBS1L\"   \"HDAC6\"   \"LMO2\"    \"MEF2C\"   \"MYB\"    \n",
      "[22] \"MYC\"     \"NMU\"     \"PVT1\"   \n",
      "[1] 24\n"
     ]
    }
   ],
   "source": [
    "print(names(dat))\n",
    "print(length(names(dat)))"
   ]
  },
  {
   "cell_type": "code",
   "execution_count": 20,
   "metadata": {},
   "outputs": [
    {
     "data": {
      "text/html": [
       "20"
      ],
      "text/latex": [
       "20"
      ],
      "text/markdown": [
       "20"
      ],
      "text/plain": [
       "[1] 20"
      ]
     },
     "metadata": {},
     "output_type": "display_data"
    }
   ],
   "source": [
    "genes = c(\n",
    "    \"NMU\",\n",
    "    \"MEF2C\",\n",
    "    \"CD164\",\n",
    "    \"MYB\", \"HBS1L\", \"HBG1\", \"HBG2\", \"HBE1\",\n",
    "    \"PVT1\", \"MYC\",\n",
    "    \"LMO2\", \"CAPRIN1\", \"CAT\",\n",
    "    \"FADS1\", \"FADS2\", \"FADS3\", \"FEN1\",\n",
    "    \"ERP29\",\n",
    "    \"GATA1\", \"HDAC6\"\n",
    ")\n",
    "length(genes)"
   ]
  },
  {
   "cell_type": "code",
   "execution_count": 21,
   "metadata": {},
   "outputs": [
    {
     "data": {
      "text/html": [
       "<style>\n",
       ".list-inline {list-style: none; margin:0; padding: 0}\n",
       ".list-inline>li {display: inline-block}\n",
       ".list-inline>li:not(:last-child)::after {content: \"\\00b7\"; padding: 0 .5ex}\n",
       "</style>\n",
       "<ol class=list-inline><li>'Chrom'</li><li>'Start'</li><li>'End'</li><li>'Peak'</li></ol>\n"
      ],
      "text/latex": [
       "\\begin{enumerate*}\n",
       "\\item 'Chrom'\n",
       "\\item 'Start'\n",
       "\\item 'End'\n",
       "\\item 'Peak'\n",
       "\\end{enumerate*}\n"
      ],
      "text/markdown": [
       "1. 'Chrom'\n",
       "2. 'Start'\n",
       "3. 'End'\n",
       "4. 'Peak'\n",
       "\n",
       "\n"
      ],
      "text/plain": [
       "[1] \"Chrom\" \"Start\" \"End\"   \"Peak\" "
      ]
     },
     "metadata": {},
     "output_type": "display_data"
    }
   ],
   "source": [
    "setdiff(names(dat), genes)"
   ]
  },
  {
   "cell_type": "code",
   "execution_count": 125,
   "metadata": {},
   "outputs": [
    {
     "data": {
      "image/png": "[encoded data removed]",
      "text/plain": [
       "plot without title"
      ]
     },
     "metadata": {
      "image/png": {
       "height": 600,
       "width": 480
      }
     },
     "output_type": "display_data"
    }
   ],
   "source": [
    "options(repr.plot.height=10, repr.plot.width=8)\n",
    "pheatmap(mat,\n",
    "         cluster_row  = TRUE,\n",
    "         cluster_cols = TRUE,\n",
    "         show_rownames = FALSE,\n",
    "         annotation_names_row = FALSE,\n",
    "         annotation_row = dat_annot_row,\n",
    "         color=myColor, \n",
    "         breaks=myBreaks)"
   ]
  },
  {
   "cell_type": "code",
   "execution_count": null,
   "metadata": {},
   "outputs": [],
   "source": []
  }
 ],
 "metadata": {
  "kernelspec": {
   "display_name": "R (alex_py3)",
   "language": "R",
   "name": "ir_alex_py3"
  },
  "language_info": {
   "codemirror_mode": "r",
   "file_extension": ".r",
   "mimetype": "text/x-r-source",
   "name": "R",
   "pygments_lexer": "r",
   "version": "3.6.2"
  }
 },
 "nbformat": 4,
 "nbformat_minor": 4
}
