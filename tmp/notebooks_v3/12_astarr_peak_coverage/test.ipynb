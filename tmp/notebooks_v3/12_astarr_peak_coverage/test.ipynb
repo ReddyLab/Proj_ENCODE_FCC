{
 "cells": [
  {
   "cell_type": "code",
   "execution_count": 1,
   "id": "2d605a0a",
   "metadata": {},
   "outputs": [
    {
     "name": "stdout",
     "output_type": "stream",
     "text": [
      "You are in Singularity: singularity_proj_combeffect \n",
      "BASE DIRECTORY:     /data/reddylab/Kuei \n",
      "WORK DIRECTORY:     /data/reddylab/Kuei/out \n",
      "CODE DIRECTORY:     /data/reddylab/Kuei/code \n",
      "PATH OF SOURCE:     /data/reddylab/Kuei/source \n",
      "PATH OF EXECUTABLE: /data/reddylab/Kuei/bin \n",
      "PATH OF ANNOTATION: /data/reddylab/Kuei/annotation \n",
      "PATH OF PROJECT:    /data/reddylab/Kuei/code/Proj_CombEffect_ENCODE_FCC \n",
      "PATH OF RESULTS:    /data/reddylab/Kuei/out/proj_combeffect_encode_fcc \n"
     ]
    }
   ],
   "source": [
    "suppressMessages(suppressWarnings(source(\"../config/config_sing.R\")))\n",
    "show_env()"
   ]
  },
  {
   "cell_type": "code",
   "execution_count": 19,
   "id": "f2efac03",
   "metadata": {},
   "outputs": [
    {
     "name": "stderr",
     "output_type": "stream",
     "text": [
      "\u001b[1mRows: \u001b[22m\u001b[34m814\u001b[39m \u001b[1mColumns: \u001b[22m\u001b[34m6\u001b[39m\n",
      "\u001b[36m──\u001b[39m \u001b[1mColumn specification\u001b[22m \u001b[36m──────────────────────────────────────────────────────────────────────\u001b[39m\n",
      "\u001b[1mDelimiter:\u001b[22m \"\\t\"\n",
      "\u001b[31mchr\u001b[39m (3): Chrom, Group, Region\n",
      "\u001b[32mdbl\u001b[39m (3): Start, End, Cpm\n",
      "\n",
      "\u001b[36mℹ\u001b[39m Use `spec()` to retrieve the full column specification for this data.\n",
      "\u001b[36mℹ\u001b[39m Specify the column types or set `show_col_types = FALSE` to quiet this message.\n",
      "\u001b[1mRows: \u001b[22m\u001b[34m246852\u001b[39m \u001b[1mColumns: \u001b[22m\u001b[34m3\u001b[39m\n",
      "\u001b[36m──\u001b[39m \u001b[1mColumn specification\u001b[22m \u001b[36m──────────────────────────────────────────────────────────────────────\u001b[39m\n",
      "\u001b[1mDelimiter:\u001b[22m \"\\t\"\n",
      "\u001b[31mchr\u001b[39m (1): Peak\n",
      "\u001b[32mdbl\u001b[39m (2): Input, Output\n",
      "\n",
      "\u001b[36mℹ\u001b[39m Use `spec()` to retrieve the full column specification for this data.\n",
      "\u001b[36mℹ\u001b[39m Specify the column types or set `show_col_types = FALSE` to quiet this message.\n"
     ]
    }
   ],
   "source": [
    "fdiry = file.path(FD_RES, \"results_v2\", \"KS91_K562_ASTARRseq\", \"coverage_astarrseq_peak_macs_input\", \"summary\")\n",
    "fname = \"KS91_K562_ASTARRseq_summary.unstranded.tsv\"\n",
    "fpath = file.path(fdiry, fname)\n",
    "dat_cpm = read_tsv(fpath) %>% mutate(Peak = paste(Chrom, Start, End, sep=\"_\"))\n",
    "\n",
    "fname = \"wgs_summary_cpm.tsv\"\n",
    "fpath = file.path(fdiry, fname)\n",
    "dat_sum = read_tsv(fpath) %>% separate(col = Peak, into = c(\"Chrom\", \"Start\", \"End\"), remove = FALSE)"
   ]
  },
  {
   "cell_type": "code",
   "execution_count": 20,
   "id": "41ec4e1e",
   "metadata": {},
   "outputs": [
    {
     "data": {
      "text/html": [
       "<table class=\"dataframe\">\n",
       "<caption>A tibble: 6 × 7</caption>\n",
       "<thead>\n",
       "\t<tr><th scope=col>Chrom</th><th scope=col>Start</th><th scope=col>End</th><th scope=col>Group</th><th scope=col>Region</th><th scope=col>Cpm</th><th scope=col>Peak</th></tr>\n",
       "\t<tr><th scope=col>&lt;chr&gt;</th><th scope=col>&lt;dbl&gt;</th><th scope=col>&lt;dbl&gt;</th><th scope=col>&lt;chr&gt;</th><th scope=col>&lt;chr&gt;</th><th scope=col>&lt;dbl&gt;</th><th scope=col>&lt;chr&gt;</th></tr>\n",
       "</thead>\n",
       "<tbody>\n",
       "\t<tr><td>chr11</td><td>61792068</td><td>61793464</td><td>Input </td><td>FADS</td><td> 12.9543276</td><td>chr11_61792068_61793464</td></tr>\n",
       "\t<tr><td>chr11</td><td>61792068</td><td>61793464</td><td>Output</td><td>FADS</td><td>134.7986858</td><td>chr11_61792068_61793464</td></tr>\n",
       "\t<tr><td>chr11</td><td>61800085</td><td>61801113</td><td>Input </td><td>FADS</td><td>  4.4864783</td><td>chr11_61800085_61801113</td></tr>\n",
       "\t<tr><td>chr11</td><td>61800085</td><td>61801113</td><td>Output</td><td>FADS</td><td>135.6993319</td><td>chr11_61800085_61801113</td></tr>\n",
       "\t<tr><td>chr11</td><td>61806630</td><td>61807154</td><td>Input </td><td>FADS</td><td>  0.6572702</td><td>chr11_61806630_61807154</td></tr>\n",
       "\t<tr><td>chr11</td><td>61806630</td><td>61807154</td><td>Output</td><td>FADS</td><td>  2.7640533</td><td>chr11_61806630_61807154</td></tr>\n",
       "</tbody>\n",
       "</table>\n"
      ],
      "text/latex": [
       "A tibble: 6 × 7\n",
       "\\begin{tabular}{lllllll}\n",
       " Chrom & Start & End & Group & Region & Cpm & Peak\\\\\n",
       " <chr> & <dbl> & <dbl> & <chr> & <chr> & <dbl> & <chr>\\\\\n",
       "\\hline\n",
       "\t chr11 & 61792068 & 61793464 & Input  & FADS &  12.9543276 & chr11\\_61792068\\_61793464\\\\\n",
       "\t chr11 & 61792068 & 61793464 & Output & FADS & 134.7986858 & chr11\\_61792068\\_61793464\\\\\n",
       "\t chr11 & 61800085 & 61801113 & Input  & FADS &   4.4864783 & chr11\\_61800085\\_61801113\\\\\n",
       "\t chr11 & 61800085 & 61801113 & Output & FADS & 135.6993319 & chr11\\_61800085\\_61801113\\\\\n",
       "\t chr11 & 61806630 & 61807154 & Input  & FADS &   0.6572702 & chr11\\_61806630\\_61807154\\\\\n",
       "\t chr11 & 61806630 & 61807154 & Output & FADS &   2.7640533 & chr11\\_61806630\\_61807154\\\\\n",
       "\\end{tabular}\n"
      ],
      "text/markdown": [
       "\n",
       "A tibble: 6 × 7\n",
       "\n",
       "| Chrom &lt;chr&gt; | Start &lt;dbl&gt; | End &lt;dbl&gt; | Group &lt;chr&gt; | Region &lt;chr&gt; | Cpm &lt;dbl&gt; | Peak &lt;chr&gt; |\n",
       "|---|---|---|---|---|---|---|\n",
       "| chr11 | 61792068 | 61793464 | Input  | FADS |  12.9543276 | chr11_61792068_61793464 |\n",
       "| chr11 | 61792068 | 61793464 | Output | FADS | 134.7986858 | chr11_61792068_61793464 |\n",
       "| chr11 | 61800085 | 61801113 | Input  | FADS |   4.4864783 | chr11_61800085_61801113 |\n",
       "| chr11 | 61800085 | 61801113 | Output | FADS | 135.6993319 | chr11_61800085_61801113 |\n",
       "| chr11 | 61806630 | 61807154 | Input  | FADS |   0.6572702 | chr11_61806630_61807154 |\n",
       "| chr11 | 61806630 | 61807154 | Output | FADS |   2.7640533 | chr11_61806630_61807154 |\n",
       "\n"
      ],
      "text/plain": [
       "  Chrom Start    End      Group  Region Cpm         Peak                   \n",
       "1 chr11 61792068 61793464 Input  FADS    12.9543276 chr11_61792068_61793464\n",
       "2 chr11 61792068 61793464 Output FADS   134.7986858 chr11_61792068_61793464\n",
       "3 chr11 61800085 61801113 Input  FADS     4.4864783 chr11_61800085_61801113\n",
       "4 chr11 61800085 61801113 Output FADS   135.6993319 chr11_61800085_61801113\n",
       "5 chr11 61806630 61807154 Input  FADS     0.6572702 chr11_61806630_61807154\n",
       "6 chr11 61806630 61807154 Output FADS     2.7640533 chr11_61806630_61807154"
      ]
     },
     "metadata": {},
     "output_type": "display_data"
    }
   ],
   "source": [
    "head(dat_cpm)"
   ]
  },
  {
   "cell_type": "code",
   "execution_count": 21,
   "id": "42e063f0",
   "metadata": {},
   "outputs": [
    {
     "data": {
      "text/html": [
       "<table class=\"dataframe\">\n",
       "<caption>A tibble: 6 × 6</caption>\n",
       "<thead>\n",
       "\t<tr><th scope=col>Peak</th><th scope=col>Chrom</th><th scope=col>Start</th><th scope=col>End</th><th scope=col>Input</th><th scope=col>Output</th></tr>\n",
       "\t<tr><th scope=col>&lt;chr&gt;</th><th scope=col>&lt;chr&gt;</th><th scope=col>&lt;chr&gt;</th><th scope=col>&lt;chr&gt;</th><th scope=col>&lt;dbl&gt;</th><th scope=col>&lt;dbl&gt;</th></tr>\n",
       "</thead>\n",
       "<tbody>\n",
       "\t<tr><td>chr1_10015_10442</td><td>chr1</td><td>10015</td><td>10442</td><td>0.4863317</td><td>0.09736537</td></tr>\n",
       "\t<tr><td>chr1_14253_14645</td><td>chr1</td><td>14253</td><td>14645</td><td>0.3152472</td><td>0.27902967</td></tr>\n",
       "\t<tr><td>chr1_16015_16477</td><td>chr1</td><td>16015</td><td>16477</td><td>0.4361424</td><td>0.15900628</td></tr>\n",
       "\t<tr><td>chr1_17237_17772</td><td>chr1</td><td>17237</td><td>17772</td><td>0.8007562</td><td>0.22194085</td></tr>\n",
       "\t<tr><td>chr1_28903_29613</td><td>chr1</td><td>28903</td><td>29613</td><td>0.7629703</td><td>0.16679463</td></tr>\n",
       "\t<tr><td>chr1_30803_31072</td><td>chr1</td><td>30803</td><td>31072</td><td>0.2774187</td><td>0.21678565</td></tr>\n",
       "</tbody>\n",
       "</table>\n"
      ],
      "text/latex": [
       "A tibble: 6 × 6\n",
       "\\begin{tabular}{llllll}\n",
       " Peak & Chrom & Start & End & Input & Output\\\\\n",
       " <chr> & <chr> & <chr> & <chr> & <dbl> & <dbl>\\\\\n",
       "\\hline\n",
       "\t chr1\\_10015\\_10442 & chr1 & 10015 & 10442 & 0.4863317 & 0.09736537\\\\\n",
       "\t chr1\\_14253\\_14645 & chr1 & 14253 & 14645 & 0.3152472 & 0.27902967\\\\\n",
       "\t chr1\\_16015\\_16477 & chr1 & 16015 & 16477 & 0.4361424 & 0.15900628\\\\\n",
       "\t chr1\\_17237\\_17772 & chr1 & 17237 & 17772 & 0.8007562 & 0.22194085\\\\\n",
       "\t chr1\\_28903\\_29613 & chr1 & 28903 & 29613 & 0.7629703 & 0.16679463\\\\\n",
       "\t chr1\\_30803\\_31072 & chr1 & 30803 & 31072 & 0.2774187 & 0.21678565\\\\\n",
       "\\end{tabular}\n"
      ],
      "text/markdown": [
       "\n",
       "A tibble: 6 × 6\n",
       "\n",
       "| Peak &lt;chr&gt; | Chrom &lt;chr&gt; | Start &lt;chr&gt; | End &lt;chr&gt; | Input &lt;dbl&gt; | Output &lt;dbl&gt; |\n",
       "|---|---|---|---|---|---|\n",
       "| chr1_10015_10442 | chr1 | 10015 | 10442 | 0.4863317 | 0.09736537 |\n",
       "| chr1_14253_14645 | chr1 | 14253 | 14645 | 0.3152472 | 0.27902967 |\n",
       "| chr1_16015_16477 | chr1 | 16015 | 16477 | 0.4361424 | 0.15900628 |\n",
       "| chr1_17237_17772 | chr1 | 17237 | 17772 | 0.8007562 | 0.22194085 |\n",
       "| chr1_28903_29613 | chr1 | 28903 | 29613 | 0.7629703 | 0.16679463 |\n",
       "| chr1_30803_31072 | chr1 | 30803 | 31072 | 0.2774187 | 0.21678565 |\n",
       "\n"
      ],
      "text/plain": [
       "  Peak             Chrom Start End   Input     Output    \n",
       "1 chr1_10015_10442 chr1  10015 10442 0.4863317 0.09736537\n",
       "2 chr1_14253_14645 chr1  14253 14645 0.3152472 0.27902967\n",
       "3 chr1_16015_16477 chr1  16015 16477 0.4361424 0.15900628\n",
       "4 chr1_17237_17772 chr1  17237 17772 0.8007562 0.22194085\n",
       "5 chr1_28903_29613 chr1  28903 29613 0.7629703 0.16679463\n",
       "6 chr1_30803_31072 chr1  30803 31072 0.2774187 0.21678565"
      ]
     },
     "metadata": {},
     "output_type": "display_data"
    }
   ],
   "source": [
    "head(dat_sum)"
   ]
  },
  {
   "cell_type": "code",
   "execution_count": 22,
   "id": "120cd58b",
   "metadata": {},
   "outputs": [
    {
     "data": {
      "text/html": [
       "<table class=\"dataframe\">\n",
       "<caption>A tibble: 6 × 8</caption>\n",
       "<thead>\n",
       "\t<tr><th scope=col>Chrom</th><th scope=col>Start</th><th scope=col>End</th><th scope=col>Region</th><th scope=col>Peak</th><th scope=col>Input</th><th scope=col>Output</th><th scope=col>log2FoldChange</th></tr>\n",
       "\t<tr><th scope=col>&lt;chr&gt;</th><th scope=col>&lt;dbl&gt;</th><th scope=col>&lt;dbl&gt;</th><th scope=col>&lt;chr&gt;</th><th scope=col>&lt;chr&gt;</th><th scope=col>&lt;dbl&gt;</th><th scope=col>&lt;dbl&gt;</th><th scope=col>&lt;dbl&gt;</th></tr>\n",
       "</thead>\n",
       "<tbody>\n",
       "\t<tr><td>chrX</td><td>47796208</td><td>47796828</td><td>GATA1</td><td>chrX_47796208_47796828</td><td>0.7949314</td><td>  9.904800</td><td>3.639226</td></tr>\n",
       "\t<tr><td>chrX</td><td>47806139</td><td>47808167</td><td>GATA1</td><td>chrX_47806139_47808167</td><td>1.6444201</td><td> 14.429452</td><td>3.133366</td></tr>\n",
       "\t<tr><td>chrX</td><td>47809119</td><td>47809445</td><td>GATA1</td><td>chrX_47809119_47809445</td><td>0.2519672</td><td>  1.813228</td><td>2.847253</td></tr>\n",
       "\t<tr><td>chrX</td><td>47814810</td><td>47815443</td><td>GATA1</td><td>chrX_47814810_47815443</td><td>0.7579963</td><td>  3.931249</td><td>2.374725</td></tr>\n",
       "\t<tr><td>chrX</td><td>47816459</td><td>47818070</td><td>GATA1</td><td>chrX_47816459_47818070</td><td>1.5055737</td><td> 12.849629</td><td>3.093341</td></tr>\n",
       "\t<tr><td>chrX</td><td>47836113</td><td>47837157</td><td>GATA1</td><td>chrX_47836113_47837157</td><td>6.9206893</td><td>133.943991</td><td>4.274570</td></tr>\n",
       "</tbody>\n",
       "</table>\n"
      ],
      "text/latex": [
       "A tibble: 6 × 8\n",
       "\\begin{tabular}{llllllll}\n",
       " Chrom & Start & End & Region & Peak & Input & Output & log2FoldChange\\\\\n",
       " <chr> & <dbl> & <dbl> & <chr> & <chr> & <dbl> & <dbl> & <dbl>\\\\\n",
       "\\hline\n",
       "\t chrX & 47796208 & 47796828 & GATA1 & chrX\\_47796208\\_47796828 & 0.7949314 &   9.904800 & 3.639226\\\\\n",
       "\t chrX & 47806139 & 47808167 & GATA1 & chrX\\_47806139\\_47808167 & 1.6444201 &  14.429452 & 3.133366\\\\\n",
       "\t chrX & 47809119 & 47809445 & GATA1 & chrX\\_47809119\\_47809445 & 0.2519672 &   1.813228 & 2.847253\\\\\n",
       "\t chrX & 47814810 & 47815443 & GATA1 & chrX\\_47814810\\_47815443 & 0.7579963 &   3.931249 & 2.374725\\\\\n",
       "\t chrX & 47816459 & 47818070 & GATA1 & chrX\\_47816459\\_47818070 & 1.5055737 &  12.849629 & 3.093341\\\\\n",
       "\t chrX & 47836113 & 47837157 & GATA1 & chrX\\_47836113\\_47837157 & 6.9206893 & 133.943991 & 4.274570\\\\\n",
       "\\end{tabular}\n"
      ],
      "text/markdown": [
       "\n",
       "A tibble: 6 × 8\n",
       "\n",
       "| Chrom &lt;chr&gt; | Start &lt;dbl&gt; | End &lt;dbl&gt; | Region &lt;chr&gt; | Peak &lt;chr&gt; | Input &lt;dbl&gt; | Output &lt;dbl&gt; | log2FoldChange &lt;dbl&gt; |\n",
       "|---|---|---|---|---|---|---|---|\n",
       "| chrX | 47796208 | 47796828 | GATA1 | chrX_47796208_47796828 | 0.7949314 |   9.904800 | 3.639226 |\n",
       "| chrX | 47806139 | 47808167 | GATA1 | chrX_47806139_47808167 | 1.6444201 |  14.429452 | 3.133366 |\n",
       "| chrX | 47809119 | 47809445 | GATA1 | chrX_47809119_47809445 | 0.2519672 |   1.813228 | 2.847253 |\n",
       "| chrX | 47814810 | 47815443 | GATA1 | chrX_47814810_47815443 | 0.7579963 |   3.931249 | 2.374725 |\n",
       "| chrX | 47816459 | 47818070 | GATA1 | chrX_47816459_47818070 | 1.5055737 |  12.849629 | 3.093341 |\n",
       "| chrX | 47836113 | 47837157 | GATA1 | chrX_47836113_47837157 | 6.9206893 | 133.943991 | 4.274570 |\n",
       "\n"
      ],
      "text/plain": [
       "  Chrom Start    End      Region Peak                   Input     Output    \n",
       "1 chrX  47796208 47796828 GATA1  chrX_47796208_47796828 0.7949314   9.904800\n",
       "2 chrX  47806139 47808167 GATA1  chrX_47806139_47808167 1.6444201  14.429452\n",
       "3 chrX  47809119 47809445 GATA1  chrX_47809119_47809445 0.2519672   1.813228\n",
       "4 chrX  47814810 47815443 GATA1  chrX_47814810_47815443 0.7579963   3.931249\n",
       "5 chrX  47816459 47818070 GATA1  chrX_47816459_47818070 1.5055737  12.849629\n",
       "6 chrX  47836113 47837157 GATA1  chrX_47836113_47837157 6.9206893 133.943991\n",
       "  log2FoldChange\n",
       "1 3.639226      \n",
       "2 3.133366      \n",
       "3 2.847253      \n",
       "4 2.374725      \n",
       "5 3.093341      \n",
       "6 4.274570      "
      ]
     },
     "metadata": {},
     "output_type": "display_data"
    }
   ],
   "source": [
    "dat = dat_cpm\n",
    "dat = dat %>% \n",
    "    tidyr::spread(Group, Cpm) %>%\n",
    "    dplyr::mutate(log2FoldChange = log2(Output) - log2(Input)) %>%\n",
    "    dplyr::filter(Region == \"GATA1\")\n",
    "head(dat)"
   ]
  },
  {
   "cell_type": "code",
   "execution_count": 23,
   "id": "1c3dee6c",
   "metadata": {},
   "outputs": [
    {
     "name": "stderr",
     "output_type": "stream",
     "text": [
      "Warning message in geom_histogram(stat = \"identity\"):\n",
      "“\u001b[1m\u001b[22mIgnoring unknown parameters: `binwidth`, `bins`, and `pad`”\n",
      "Warning message in geom_histogram(stat = \"identity\"):\n",
      "“\u001b[1m\u001b[22mIgnoring unknown parameters: `binwidth`, `bins`, and `pad`”\n"
     ]
    },
    {
     "data": {
      "image/png": "[encoded data removed]",
      "text/plain": [
       "plot without title"
      ]
     },
     "metadata": {
      "image/png": {
       "height": 420,
       "width": 420
      }
     },
     "output_type": "display_data"
    }
   ],
   "source": [
    "gp1 = ggplot(dat, aes(x=Input, y=Peak)) + \n",
    "    geom_histogram(stat=\"identity\") + \n",
    "    theme_cowplot() + \n",
    "    theme(axis.text.y = element_blank())\n",
    "\n",
    "gp2 = ggplot(dat, aes(x=log2FoldChange, y=Peak)) + \n",
    "    geom_histogram(stat=\"identity\") + \n",
    "    theme_cowplot() + \n",
    "    theme(axis.text.y = element_blank())\n",
    "\n",
    "plot_grid(gp1, gp2, nrow = 1, align = \"h\")"
   ]
  },
  {
   "cell_type": "code",
   "execution_count": 24,
   "id": "6cab21e2",
   "metadata": {},
   "outputs": [
    {
     "data": {
      "text/html": [
       "<table class=\"dataframe\">\n",
       "<caption>A tibble: 6 × 6</caption>\n",
       "<thead>\n",
       "\t<tr><th scope=col>Peak</th><th scope=col>Chrom</th><th scope=col>Start</th><th scope=col>End</th><th scope=col>Input</th><th scope=col>Output</th></tr>\n",
       "\t<tr><th scope=col>&lt;chr&gt;</th><th scope=col>&lt;chr&gt;</th><th scope=col>&lt;chr&gt;</th><th scope=col>&lt;chr&gt;</th><th scope=col>&lt;dbl&gt;</th><th scope=col>&lt;dbl&gt;</th></tr>\n",
       "</thead>\n",
       "<tbody>\n",
       "\t<tr><td>chrX_47796208_47796828</td><td>chrX</td><td>47796208</td><td>47796828</td><td>0.7949314</td><td> 1.4643798</td></tr>\n",
       "\t<tr><td>chrX_47806139_47808167</td><td>chrX</td><td>47806139</td><td>47808167</td><td>1.6444201</td><td> 2.0038522</td></tr>\n",
       "\t<tr><td>chrX_47809119_47809445</td><td>chrX</td><td>47809119</td><td>47809445</td><td>0.2519672</td><td> 0.2137948</td></tr>\n",
       "\t<tr><td>chrX_47814810_47815443</td><td>chrX</td><td>47814810</td><td>47815443</td><td>0.7579963</td><td> 0.5323608</td></tr>\n",
       "\t<tr><td>chrX_47816459_47818070</td><td>chrX</td><td>47816459</td><td>47818070</td><td>1.5055737</td><td> 1.9887890</td></tr>\n",
       "\t<tr><td>chrX_47836113_47837157</td><td>chrX</td><td>47836113</td><td>47837157</td><td>6.9206893</td><td>16.7769402</td></tr>\n",
       "</tbody>\n",
       "</table>\n"
      ],
      "text/latex": [
       "A tibble: 6 × 6\n",
       "\\begin{tabular}{llllll}\n",
       " Peak & Chrom & Start & End & Input & Output\\\\\n",
       " <chr> & <chr> & <chr> & <chr> & <dbl> & <dbl>\\\\\n",
       "\\hline\n",
       "\t chrX\\_47796208\\_47796828 & chrX & 47796208 & 47796828 & 0.7949314 &  1.4643798\\\\\n",
       "\t chrX\\_47806139\\_47808167 & chrX & 47806139 & 47808167 & 1.6444201 &  2.0038522\\\\\n",
       "\t chrX\\_47809119\\_47809445 & chrX & 47809119 & 47809445 & 0.2519672 &  0.2137948\\\\\n",
       "\t chrX\\_47814810\\_47815443 & chrX & 47814810 & 47815443 & 0.7579963 &  0.5323608\\\\\n",
       "\t chrX\\_47816459\\_47818070 & chrX & 47816459 & 47818070 & 1.5055737 &  1.9887890\\\\\n",
       "\t chrX\\_47836113\\_47837157 & chrX & 47836113 & 47837157 & 6.9206893 & 16.7769402\\\\\n",
       "\\end{tabular}\n"
      ],
      "text/markdown": [
       "\n",
       "A tibble: 6 × 6\n",
       "\n",
       "| Peak &lt;chr&gt; | Chrom &lt;chr&gt; | Start &lt;chr&gt; | End &lt;chr&gt; | Input &lt;dbl&gt; | Output &lt;dbl&gt; |\n",
       "|---|---|---|---|---|---|\n",
       "| chrX_47796208_47796828 | chrX | 47796208 | 47796828 | 0.7949314 |  1.4643798 |\n",
       "| chrX_47806139_47808167 | chrX | 47806139 | 47808167 | 1.6444201 |  2.0038522 |\n",
       "| chrX_47809119_47809445 | chrX | 47809119 | 47809445 | 0.2519672 |  0.2137948 |\n",
       "| chrX_47814810_47815443 | chrX | 47814810 | 47815443 | 0.7579963 |  0.5323608 |\n",
       "| chrX_47816459_47818070 | chrX | 47816459 | 47818070 | 1.5055737 |  1.9887890 |\n",
       "| chrX_47836113_47837157 | chrX | 47836113 | 47837157 | 6.9206893 | 16.7769402 |\n",
       "\n"
      ],
      "text/plain": [
       "  Peak                   Chrom Start    End      Input     Output    \n",
       "1 chrX_47796208_47796828 chrX  47796208 47796828 0.7949314  1.4643798\n",
       "2 chrX_47806139_47808167 chrX  47806139 47808167 1.6444201  2.0038522\n",
       "3 chrX_47809119_47809445 chrX  47809119 47809445 0.2519672  0.2137948\n",
       "4 chrX_47814810_47815443 chrX  47814810 47815443 0.7579963  0.5323608\n",
       "5 chrX_47816459_47818070 chrX  47816459 47818070 1.5055737  1.9887890\n",
       "6 chrX_47836113_47837157 chrX  47836113 47837157 6.9206893 16.7769402"
      ]
     },
     "metadata": {},
     "output_type": "display_data"
    }
   ],
   "source": [
    "peaks = dat$Peak\n",
    "tmp = dat_sum %>% dplyr::filter(Peak %in% peaks)\n",
    "head(tmp)"
   ]
  },
  {
   "cell_type": "code",
   "execution_count": null,
   "id": "2671ec6f",
   "metadata": {},
   "outputs": [],
   "source": []
  }
 ],
 "metadata": {
  "kernelspec": {
   "display_name": "R",
   "language": "R",
   "name": "ir"
  },
  "language_info": {
   "codemirror_mode": "r",
   "file_extension": ".r",
   "mimetype": "text/x-r-source",
   "name": "R",
   "pygments_lexer": "r",
   "version": "4.2.2"
  }
 },
 "nbformat": 4,
 "nbformat_minor": 5
}
