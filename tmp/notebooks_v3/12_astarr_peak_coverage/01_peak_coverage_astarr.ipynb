{
 "cells": [
  {
   "cell_type": "markdown",
   "id": "307a6acb-3f4d-48c7-8649-ea3689c048e6",
   "metadata": {},
   "source": [
    "**Set environment**"
   ]
  },
  {
   "cell_type": "code",
   "execution_count": 1,
   "id": "2b888f07-67b0-40f8-a6d3-8b9ae7463bee",
   "metadata": {},
   "outputs": [
    {
     "name": "stdout",
     "output_type": "stream",
     "text": [
      "You are on Duke Server: HARDAC\n",
      "BASE DIRECTORY:     /data/reddylab/Kuei\n",
      "WORK DIRECTORY:     /data/reddylab/Kuei/out\n",
      "CODE DIRECTORY:     /data/reddylab/Kuei/code\n",
      "SING DIRECTORY:     /data/reddylab/Kuei/singularity\n",
      "PATH OF SOURCE:     /data/reddylab/Kuei/source\n",
      "PATH OF EXECUTABLE: /data/reddylab/Kuei/bin\n",
      "PATH OF ANNOTATION: /data/reddylab/Kuei/annotation\n",
      "PATH OF PROJECT:    /data/reddylab/Kuei/code/Proj_CombEffect_ENCODE_FCC\n",
      "PATH OF RESULTS:    /data/reddylab/Kuei/out/proj_combeffect_encode_fcc\n",
      "\n"
     ]
    }
   ],
   "source": [
    "source ../config/config_duke.sh\n",
    "source ../config/config_load_module_bedtools.sh\n",
    "show_env"
   ]
  },
  {
   "cell_type": "code",
   "execution_count": 4,
   "id": "7b54152b-4948-4cd5-8fa6-2964978a202c",
   "metadata": {},
   "outputs": [
    {
     "name": "stdout",
     "output_type": "stream",
     "text": [
      "-rw-rw-r-- 1 kk319 reddylab 5.7M Oct 17 05:28 /data/reddylab/Kuei/out/proj_combeffect_encode_fcc/region/KS91_K562_ASTARRseq_peak_macs/KS91_K562_hg38_ASTARRseq_Input.all_reps.masked.union_narrowPeak.q5.bed\n",
      "247520\n",
      "+++++++++++++++++++++++++++++++++++\n",
      "chr1\t10015\t10442\n",
      "chr1\t14253\t14645\n",
      "chr1\t16015\t16477\n",
      "chr1\t17237\t17772\n",
      "chr1\t28903\t29613\n",
      "chr1\t30803\t31072\n",
      "chr1\t101603\t101849\n",
      "chr1\t115411\t115986\n",
      "chr1\t118518\t118743\n",
      "chr1\t136071\t137429\n",
      "+++++++++++++++++++++++++++++++++++\n",
      "chrX\t155966947\t155967395\n",
      "chrX\t155971561\t155972273\n",
      "chrX\t155986274\t155987619\n",
      "chrX\t155997267\t155998045\n",
      "chrX\t156000382\t156003205\n",
      "chrX\t156009687\t156010227\n",
      "chrX\t156016391\t156016836\n",
      "chrX\t156024950\t156025593\n",
      "chrX\t156030187\t156030740\n",
      "chrY\t11215098\t11215422\n"
     ]
    }
   ],
   "source": [
    "FD_REG=${FD_RES}/region/KS91_K562_ASTARRseq_peak_macs\n",
    "FN_REG=KS91_K562_hg38_ASTARRseq_Input.all_reps.masked.union_narrowPeak.q5.bed\n",
    "ls -lh ${FD_REG}/${FN_REG}\n",
    "cat ${FD_REG}/${FN_REG} | wc -l\n",
    "echo +++++++++++++++++++++++++++++++++++\n",
    "head ${FD_REG}/${FN_REG}\n",
    "echo +++++++++++++++++++++++++++++++++++\n",
    "tail ${FD_REG}/${FN_REG}"
   ]
  },
  {
   "cell_type": "code",
   "execution_count": 8,
   "id": "b81dca41-d5d1-46d9-a339-991da4af4a10",
   "metadata": {},
   "outputs": [
    {
     "name": "stdout",
     "output_type": "stream",
     "text": [
      "\u001b[0m\u001b[38;5;27mA001_K562_WSTARRseq\u001b[0m  \u001b[38;5;27mKS91_K562_ASTARRseq\u001b[0m  \u001b[38;5;27mTewhey_K562_TileMPRA\u001b[0m\n"
     ]
    }
   ],
   "source": [
    "ls ${FD_RES}/results"
   ]
  },
  {
   "cell_type": "code",
   "execution_count": 12,
   "id": "96d0da4c-2f15-4968-92aa-883d86d61fa0",
   "metadata": {},
   "outputs": [
    {
     "name": "stdout",
     "output_type": "stream",
     "text": [
      "/data/reddylab/Kuei/out/proj_combeffect_encode_fcc/results/KS91_K562_ASTARRseq/fragment_count\n",
      "KS91_K562_ASTARRseq.Input.rep1.FADS.unstranded.bed.gz\n",
      "KS91_K562_ASTARRseq.Input.rep1.GATA1.unstranded.bed.gz\n",
      "KS91_K562_ASTARRseq.Input.rep1.MYC.unstranded.bed.gz\n",
      "KS91_K562_ASTARRseq.Input.rep1.WGS.unstranded.bed.gz\n",
      "KS91_K562_ASTARRseq.Input.rep2.FADS.unstranded.bed.gz\n",
      "KS91_K562_ASTARRseq.Input.rep2.GATA1.unstranded.bed.gz\n",
      "KS91_K562_ASTARRseq.Input.rep2.MYC.unstranded.bed.gz\n",
      "KS91_K562_ASTARRseq.Input.rep2.WGS.unstranded.bed.gz\n",
      "KS91_K562_ASTARRseq.Input.rep3.FADS.unstranded.bed.gz\n",
      "KS91_K562_ASTARRseq.Input.rep3.GATA1.unstranded.bed.gz\n",
      "KS91_K562_ASTARRseq.Input.rep3.MYC.unstranded.bed.gz\n",
      "KS91_K562_ASTARRseq.Input.rep3.WGS.unstranded.bed.gz\n",
      "KS91_K562_ASTARRseq.Input.rep4.FADS.unstranded.bed.gz\n",
      "KS91_K562_ASTARRseq.Input.rep4.GATA1.unstranded.bed.gz\n",
      "KS91_K562_ASTARRseq.Input.rep4.MYC.unstranded.bed.gz\n",
      "KS91_K562_ASTARRseq.Input.rep4.WGS.unstranded.bed.gz\n",
      "KS91_K562_ASTARRseq.Input.rep5.FADS.unstranded.bed.gz\n",
      "KS91_K562_ASTARRseq.Input.rep5.GATA1.unstranded.bed.gz\n",
      "KS91_K562_ASTARRseq.Input.rep5.MYC.unstranded.bed.gz\n",
      "KS91_K562_ASTARRseq.Input.rep5.WGS.unstranded.bed.gz\n",
      "KS91_K562_ASTARRseq.Input.rep6.FADS.unstranded.bed.gz\n",
      "KS91_K562_ASTARRseq.Input.rep6.GATA1.unstranded.bed.gz\n",
      "KS91_K562_ASTARRseq.Input.rep6.MYC.unstranded.bed.gz\n",
      "KS91_K562_ASTARRseq.Input.rep6.WGS.unstranded.bed.gz\n",
      "KS91_K562_ASTARRseq.Output.rep1.FADS.unstranded.bed.gz\n",
      "KS91_K562_ASTARRseq.Output.rep1.GATA1.unstranded.bed.gz\n",
      "KS91_K562_ASTARRseq.Output.rep1.MYC.unstranded.bed.gz\n",
      "KS91_K562_ASTARRseq.Output.rep1.WGS.unstranded.bed.gz\n",
      "KS91_K562_ASTARRseq.Output.rep2.FADS.unstranded.bed.gz\n",
      "KS91_K562_ASTARRseq.Output.rep2.GATA1.unstranded.bed.gz\n",
      "KS91_K562_ASTARRseq.Output.rep2.MYC.unstranded.bed.gz\n",
      "KS91_K562_ASTARRseq.Output.rep2.WGS.unstranded.bed.gz\n",
      "KS91_K562_ASTARRseq.Output.rep3.FADS.unstranded.bed.gz\n",
      "KS91_K562_ASTARRseq.Output.rep3.GATA1.unstranded.bed.gz\n",
      "KS91_K562_ASTARRseq.Output.rep3.MYC.unstranded.bed.gz\n",
      "KS91_K562_ASTARRseq.Output.rep3.WGS.unstranded.bed.gz\n",
      "KS91_K562_ASTARRseq.Output.rep4.FADS.unstranded.bed.gz\n",
      "KS91_K562_ASTARRseq.Output.rep4.GATA1.unstranded.bed.gz\n",
      "KS91_K562_ASTARRseq.Output.rep4.MYC.unstranded.bed.gz\n",
      "KS91_K562_ASTARRseq.Output.rep4.WGS.unstranded.bed.gz\n"
     ]
    }
   ],
   "source": [
    "PREFIX=KS91_K562_ASTARRseq\n",
    "FD_INP=${FD_RES}/results/${PREFIX}/fragment_count\n",
    "\n",
    "echo ${FD_INP}\n",
    "ls ${FD_INP}/*.bed.gz | xargs -n 1 basename"
   ]
  },
  {
   "cell_type": "code",
   "execution_count": 14,
   "id": "460de39a-e31a-43d6-8894-d4f04ce040cb",
   "metadata": {},
   "outputs": [
    {
     "name": "stdout",
     "output_type": "stream",
     "text": [
      "Total: 40\n"
     ]
    }
   ],
   "source": [
    "FP_INPS=($(ls ${FD_INP}/*.bed.gz))\n",
    "\n",
    "echo Total: ${#FP_INPS[@]}"
   ]
  },
  {
   "cell_type": "code",
   "execution_count": 26,
   "id": "a96042ee-4167-4b37-976f-43090dab92ad",
   "metadata": {},
   "outputs": [
    {
     "name": "stdout",
     "output_type": "stream",
     "text": [
      "Submitted batch job 29423303\n"
     ]
    }
   ],
   "source": [
    "sbatch -p ${NODE} \\\n",
    "    --exclude=dl-01 \\\n",
    "    --cpus-per-task 8 \\\n",
    "    --mem 20G \\\n",
    "    --output ${FD_LOG}/coverage_astarr_peak_macs_input_astarr.%a.txt \\\n",
    "    --array 0-39 \\\n",
    "    <<'EOF'\n",
    "#!/bin/bash\n",
    "### set directories & global variables\n",
    "source ../config/config_duke.sh\n",
    "\n",
    "### set input and output directory\n",
    "PREFIX=KS91_K562_ASTARRseq\n",
    "FD_INP=${FD_RES}/results/${PREFIX}/fragment_count\n",
    "FD_OUT=${FD_RES}/results/${PREFIX}/coverage_astarrseq_peak_macs_input\n",
    "\n",
    "FP_INPS=($(ls ${FD_INP}/*.bed.gz))\n",
    "FP_INP=${FP_INPS[${SLURM_ARRAY_TASK_ID}]}\n",
    "FN_INP=$(basename ${FP_INP})\n",
    "FN_OUT=${FN_INP}\n",
    "\n",
    "FD_REG=${FD_RES}/region/KS91_K562_ASTARRseq_peak_macs\n",
    "FN_REG=KS91_K562_hg38_ASTARRseq_Input.all_reps.masked.union_narrowPeak.q5.bed\n",
    "\n",
    "### print start message\n",
    "timer_start=`date +%s`\n",
    "echo \"Hostname:          \" $(hostname)\n",
    "echo \"Slurm Array Index: \" ${SLURM_ARRAY_TASK_ID}\n",
    "echo \"Time Stamp:        \" $(date +\"%m-%d-%y+%T\")\n",
    "echo\n",
    "\n",
    "### Show I/O file\n",
    "echo \"Input  file: \" ${FP_INP}\n",
    "echo\n",
    "echo \"Show the first few lines of the input file\"\n",
    "zcat  ${FP_INP} | head -n 3 \n",
    "echo\n",
    "\n",
    "echo \"Input  file: \" ${FD_REG}/${FN_REG}\n",
    "echo\n",
    "echo \"Show the first few lines of the input file\"\n",
    "cat  ${FD_REG}/${FN_REG} | head -n 3 \n",
    "echo\n",
    "echo \"Show the last few lines of the input file\"\n",
    "cat  ${FD_REG}/${FN_REG} | tail -n 3 \n",
    "echo\n",
    "\n",
    "### execute\n",
    "bedtools map \\\n",
    "    -a ${FD_REG}/${FN_REG} \\\n",
    "    -b ${FP_INP} \\\n",
    "    -o sum \\\n",
    "    -f 0.5 \\\n",
    "    -F 0.5 \\\n",
    "    -e \\\n",
    "| gzip -c \\\n",
    "> ${FD_OUT}/${FN_OUT}\n",
    "\n",
    "### Show I/O file\n",
    "echo\n",
    "echo \"Output file: \" ${FD_OUT}/${FN_OUT}\n",
    "echo\n",
    "echo \"Show the first few lines of the output file\"\n",
    "zcat ${FD_OUT}/${FN_OUT} | head -n 3\n",
    "echo\n",
    "\n",
    "### print end message\n",
    "timer_stop=`date +%s`\n",
    "runtime=$(echo \"${timer_stop} - ${timer_start}\" | bc -l)\n",
    "echo\n",
    "echo 'Done!'\n",
    "echo \"Run Time: $(displaytime ${runtime})\"\n",
    "\n",
    "EOF"
   ]
  },
  {
   "cell_type": "code",
   "execution_count": 27,
   "id": "b1f31171-c700-457d-a6b3-c83f70a0b705",
   "metadata": {},
   "outputs": [
    {
     "name": "stdout",
     "output_type": "stream",
     "text": [
      "/data/reddylab/Kuei/out/proj_combeffect_encode_fcc/log/coverage_astarr_peak_macs_input_astarr.0.txt\n",
      "/data/reddylab/Kuei/out/proj_combeffect_encode_fcc/log/coverage_astarr_peak_macs_input_astarr.10.txt\n",
      "/data/reddylab/Kuei/out/proj_combeffect_encode_fcc/log/coverage_astarr_peak_macs_input_astarr.11.txt\n",
      "/data/reddylab/Kuei/out/proj_combeffect_encode_fcc/log/coverage_astarr_peak_macs_input_astarr.12.txt\n",
      "/data/reddylab/Kuei/out/proj_combeffect_encode_fcc/log/coverage_astarr_peak_macs_input_astarr.13.txt\n",
      "/data/reddylab/Kuei/out/proj_combeffect_encode_fcc/log/coverage_astarr_peak_macs_input_astarr.14.txt\n",
      "/data/reddylab/Kuei/out/proj_combeffect_encode_fcc/log/coverage_astarr_peak_macs_input_astarr.15.txt\n",
      "/data/reddylab/Kuei/out/proj_combeffect_encode_fcc/log/coverage_astarr_peak_macs_input_astarr.16.txt\n",
      "/data/reddylab/Kuei/out/proj_combeffect_encode_fcc/log/coverage_astarr_peak_macs_input_astarr.17.txt\n",
      "/data/reddylab/Kuei/out/proj_combeffect_encode_fcc/log/coverage_astarr_peak_macs_input_astarr.18.txt\n",
      "/data/reddylab/Kuei/out/proj_combeffect_encode_fcc/log/coverage_astarr_peak_macs_input_astarr.19.txt\n",
      "/data/reddylab/Kuei/out/proj_combeffect_encode_fcc/log/coverage_astarr_peak_macs_input_astarr.1.txt\n",
      "/data/reddylab/Kuei/out/proj_combeffect_encode_fcc/log/coverage_astarr_peak_macs_input_astarr.20.txt\n",
      "/data/reddylab/Kuei/out/proj_combeffect_encode_fcc/log/coverage_astarr_peak_macs_input_astarr.21.txt\n",
      "/data/reddylab/Kuei/out/proj_combeffect_encode_fcc/log/coverage_astarr_peak_macs_input_astarr.22.txt\n",
      "/data/reddylab/Kuei/out/proj_combeffect_encode_fcc/log/coverage_astarr_peak_macs_input_astarr.23.txt\n",
      "/data/reddylab/Kuei/out/proj_combeffect_encode_fcc/log/coverage_astarr_peak_macs_input_astarr.24.txt\n",
      "/data/reddylab/Kuei/out/proj_combeffect_encode_fcc/log/coverage_astarr_peak_macs_input_astarr.25.txt\n",
      "/data/reddylab/Kuei/out/proj_combeffect_encode_fcc/log/coverage_astarr_peak_macs_input_astarr.26.txt\n",
      "/data/reddylab/Kuei/out/proj_combeffect_encode_fcc/log/coverage_astarr_peak_macs_input_astarr.27.txt\n",
      "/data/reddylab/Kuei/out/proj_combeffect_encode_fcc/log/coverage_astarr_peak_macs_input_astarr.28.txt\n",
      "/data/reddylab/Kuei/out/proj_combeffect_encode_fcc/log/coverage_astarr_peak_macs_input_astarr.29.txt\n",
      "/data/reddylab/Kuei/out/proj_combeffect_encode_fcc/log/coverage_astarr_peak_macs_input_astarr.2.txt\n",
      "/data/reddylab/Kuei/out/proj_combeffect_encode_fcc/log/coverage_astarr_peak_macs_input_astarr.30.txt\n",
      "/data/reddylab/Kuei/out/proj_combeffect_encode_fcc/log/coverage_astarr_peak_macs_input_astarr.31.txt\n",
      "/data/reddylab/Kuei/out/proj_combeffect_encode_fcc/log/coverage_astarr_peak_macs_input_astarr.32.txt\n",
      "/data/reddylab/Kuei/out/proj_combeffect_encode_fcc/log/coverage_astarr_peak_macs_input_astarr.33.txt\n",
      "/data/reddylab/Kuei/out/proj_combeffect_encode_fcc/log/coverage_astarr_peak_macs_input_astarr.34.txt\n",
      "/data/reddylab/Kuei/out/proj_combeffect_encode_fcc/log/coverage_astarr_peak_macs_input_astarr.35.txt\n",
      "/data/reddylab/Kuei/out/proj_combeffect_encode_fcc/log/coverage_astarr_peak_macs_input_astarr.36.txt\n",
      "/data/reddylab/Kuei/out/proj_combeffect_encode_fcc/log/coverage_astarr_peak_macs_input_astarr.37.txt\n",
      "/data/reddylab/Kuei/out/proj_combeffect_encode_fcc/log/coverage_astarr_peak_macs_input_astarr.38.txt\n",
      "/data/reddylab/Kuei/out/proj_combeffect_encode_fcc/log/coverage_astarr_peak_macs_input_astarr.39.txt\n",
      "/data/reddylab/Kuei/out/proj_combeffect_encode_fcc/log/coverage_astarr_peak_macs_input_astarr.3.txt\n",
      "/data/reddylab/Kuei/out/proj_combeffect_encode_fcc/log/coverage_astarr_peak_macs_input_astarr.4.txt\n",
      "/data/reddylab/Kuei/out/proj_combeffect_encode_fcc/log/coverage_astarr_peak_macs_input_astarr.5.txt\n",
      "/data/reddylab/Kuei/out/proj_combeffect_encode_fcc/log/coverage_astarr_peak_macs_input_astarr.6.txt\n",
      "/data/reddylab/Kuei/out/proj_combeffect_encode_fcc/log/coverage_astarr_peak_macs_input_astarr.7.txt\n",
      "/data/reddylab/Kuei/out/proj_combeffect_encode_fcc/log/coverage_astarr_peak_macs_input_astarr.8.txt\n",
      "/data/reddylab/Kuei/out/proj_combeffect_encode_fcc/log/coverage_astarr_peak_macs_input_astarr.9.txt\n"
     ]
    }
   ],
   "source": [
    "ls ${FD_LOG}/coverage_astarr_peak_macs_input_astarr.*.txt"
   ]
  },
  {
   "cell_type": "code",
   "execution_count": 28,
   "id": "23d3ac80-1fa2-41e7-8a12-f2063eb993e5",
   "metadata": {},
   "outputs": [
    {
     "name": "stdout",
     "output_type": "stream",
     "text": [
      "Hostname:           x1-01-4.genome.duke.edu\n",
      "Slurm Array Index:  0\n",
      "Time Stamp:         12-11-22+13:49:37\n",
      "\n",
      "Input  file:  /data/reddylab/Kuei/out/proj_combeffect_encode_fcc/results/KS91_K562_ASTARRseq/fragment_count/KS91_K562_ASTARRseq.Input.rep1.FADS.unstranded.bed.gz\n",
      "\n",
      "Show the first few lines of the input file\n",
      "chr11\t61554341\t61554829\tchr11_61554341_61554829\t1\t.\n",
      "chr11\t61554409\t61554803\tchr11_61554409_61554803\t1\t.\n",
      "chr11\t61554409\t61555000\tchr11_61554409_61555000\t1\t.\n",
      "\n",
      "Input  file:  /data/reddylab/Kuei/out/proj_combeffect_encode_fcc/region/KS91_K562_ASTARRseq_peak_macs/KS91_K562_hg38_ASTARRseq_Input.all_reps.masked.union_narrowPeak.q5.bed\n",
      "\n",
      "Show the first few lines of the input file\n",
      "chr1\t10015\t10442\n",
      "chr1\t14253\t14645\n",
      "chr1\t16015\t16477\n",
      "\n",
      "Show the last few lines of the input file\n",
      "chrX\t156024950\t156025593\n",
      "chrX\t156030187\t156030740\n",
      "chrY\t11215098\t11215422\n",
      "\n",
      "\n",
      "Output file:  /data/reddylab/Kuei/out/proj_combeffect_encode_fcc/results/KS91_K562_ASTARRseq/coverage_astarrseq_peak_macs_input/KS91_K562_ASTARRseq.Input.rep1.FADS.unstranded.bed.gz\n",
      "\n",
      "Show the first few lines of the output file\n",
      "chr1\t10015\t10442\t.\n",
      "chr1\t14253\t14645\t.\n",
      "chr1\t16015\t16477\t.\n",
      "\n",
      "\n",
      "Done!\n",
      "Run Time: 0 seconds\n"
     ]
    }
   ],
   "source": [
    "cat ${FD_LOG}/coverage_astarr_peak_macs_input_astarr.0.txt"
   ]
  },
  {
   "cell_type": "code",
   "execution_count": 29,
   "id": "1fa1b28f-0b9b-43e0-98b5-f739987150e4",
   "metadata": {},
   "outputs": [
    {
     "name": "stdout",
     "output_type": "stream",
     "text": [
      "Hostname:           x1-02-1.genome.duke.edu\n",
      "Slurm Array Index:  3\n",
      "Time Stamp:         12-11-22+13:49:37\n",
      "\n",
      "Input  file:  /data/reddylab/Kuei/out/proj_combeffect_encode_fcc/results/KS91_K562_ASTARRseq/fragment_count/KS91_K562_ASTARRseq.Input.rep1.WGS.unstranded.bed.gz\n",
      "\n",
      "Show the first few lines of the input file\n",
      "chr1\t10001\t10143\tchr1_10001_10143\t1\t.\n",
      "chr1\t10002\t10118\tchr1_10002_10118\t1\t.\n",
      "chr1\t10002\t10131\tchr1_10002_10131\t1\t.\n",
      "\n",
      "Input  file:  /data/reddylab/Kuei/out/proj_combeffect_encode_fcc/region/KS91_K562_ASTARRseq_peak_macs/KS91_K562_hg38_ASTARRseq_Input.all_reps.masked.union_narrowPeak.q5.bed\n",
      "\n",
      "Show the first few lines of the input file\n",
      "chr1\t10015\t10442\n",
      "chr1\t14253\t14645\n",
      "chr1\t16015\t16477\n",
      "\n",
      "Show the last few lines of the input file\n",
      "chrX\t156024950\t156025593\n",
      "chrX\t156030187\t156030740\n",
      "chrY\t11215098\t11215422\n",
      "\n",
      "\n",
      "Output file:  /data/reddylab/Kuei/out/proj_combeffect_encode_fcc/results/KS91_K562_ASTARRseq/coverage_astarrseq_peak_macs_input/KS91_K562_ASTARRseq.Input.rep1.WGS.unstranded.bed.gz\n",
      "\n",
      "Show the first few lines of the output file\n",
      "chr1\t10015\t10442\t155\n",
      "chr1\t14253\t14645\t110\n",
      "chr1\t16015\t16477\t141\n",
      "\n",
      "\n",
      "Done!\n",
      "Run Time: 4 minutes and 49 seconds\n"
     ]
    }
   ],
   "source": [
    "cat ${FD_LOG}/coverage_astarr_peak_macs_input_astarr.3.txt"
   ]
  },
  {
   "cell_type": "code",
   "execution_count": 31,
   "id": "b3c85fc0-a234-470a-b55b-3954d7d24225",
   "metadata": {},
   "outputs": [
    {
     "name": "stdout",
     "output_type": "stream",
     "text": [
      "Hostname:           x1-02-3.genome.duke.edu\n",
      "Slurm Array Index:  7\n",
      "Time Stamp:         12-11-22+13:49:37\n",
      "\n",
      "Input  file:  /data/reddylab/Kuei/out/proj_combeffect_encode_fcc/results/KS91_K562_ASTARRseq/fragment_count/KS91_K562_ASTARRseq.Input.rep2.WGS.unstranded.bed.gz\n",
      "\n",
      "Show the first few lines of the input file\n",
      "chr1\t10001\t10233\tchr1_10001_10233\t1\t.\n",
      "chr1\t10001\t10351\tchr1_10001_10351\t1\t.\n",
      "chr1\t10002\t10119\tchr1_10002_10119\t1\t.\n",
      "\n",
      "Input  file:  /data/reddylab/Kuei/out/proj_combeffect_encode_fcc/region/KS91_K562_ASTARRseq_peak_macs/KS91_K562_hg38_ASTARRseq_Input.all_reps.masked.union_narrowPeak.q5.bed\n",
      "\n",
      "Show the first few lines of the input file\n",
      "chr1\t10015\t10442\n",
      "chr1\t14253\t14645\n",
      "chr1\t16015\t16477\n",
      "\n",
      "Show the last few lines of the input file\n",
      "chrX\t156024950\t156025593\n",
      "chrX\t156030187\t156030740\n",
      "chrY\t11215098\t11215422\n",
      "\n",
      "\n",
      "Output file:  /data/reddylab/Kuei/out/proj_combeffect_encode_fcc/results/KS91_K562_ASTARRseq/coverage_astarrseq_peak_macs_input/KS91_K562_ASTARRseq.Input.rep2.WGS.unstranded.bed.gz\n",
      "\n",
      "Show the first few lines of the output file\n",
      "chr1\t10015\t10442\t214\n",
      "chr1\t14253\t14645\t144\n",
      "chr1\t16015\t16477\t208\n",
      "\n",
      "\n",
      "Done!\n",
      "Run Time: 6 minutes and 11 seconds\n"
     ]
    }
   ],
   "source": [
    "cat ${FD_LOG}/coverage_astarr_peak_macs_input_astarr.7.txt"
   ]
  },
  {
   "cell_type": "code",
   "execution_count": 32,
   "id": "18a74199-e1da-4412-8f97-9205d518b0e6",
   "metadata": {},
   "outputs": [
    {
     "name": "stdout",
     "output_type": "stream",
     "text": [
      "Hostname:           x1-02-2.genome.duke.edu\n",
      "Slurm Array Index:  11\n",
      "Time Stamp:         12-11-22+13:49:37\n",
      "\n",
      "Input  file:  /data/reddylab/Kuei/out/proj_combeffect_encode_fcc/results/KS91_K562_ASTARRseq/fragment_count/KS91_K562_ASTARRseq.Input.rep3.WGS.unstranded.bed.gz\n",
      "\n",
      "Show the first few lines of the input file\n",
      "chr1\t10001\t10203\tchr1_10001_10203\t1\t.\n",
      "chr1\t10002\t10113\tchr1_10002_10113\t1\t.\n",
      "chr1\t10002\t10131\tchr1_10002_10131\t1\t.\n",
      "\n",
      "Input  file:  /data/reddylab/Kuei/out/proj_combeffect_encode_fcc/region/KS91_K562_ASTARRseq_peak_macs/KS91_K562_hg38_ASTARRseq_Input.all_reps.masked.union_narrowPeak.q5.bed\n",
      "\n",
      "Show the first few lines of the input file\n",
      "chr1\t10015\t10442\n",
      "chr1\t14253\t14645\n",
      "chr1\t16015\t16477\n",
      "\n",
      "Show the last few lines of the input file\n",
      "chrX\t156024950\t156025593\n",
      "chrX\t156030187\t156030740\n",
      "chrY\t11215098\t11215422\n",
      "\n",
      "\n",
      "Output file:  /data/reddylab/Kuei/out/proj_combeffect_encode_fcc/results/KS91_K562_ASTARRseq/coverage_astarrseq_peak_macs_input/KS91_K562_ASTARRseq.Input.rep3.WGS.unstranded.bed.gz\n",
      "\n",
      "Show the first few lines of the output file\n",
      "chr1\t10015\t10442\t257\n",
      "chr1\t14253\t14645\t160\n",
      "chr1\t16015\t16477\t206\n",
      "\n",
      "\n",
      "Done!\n",
      "Run Time: 6 minutes and 43 seconds\n"
     ]
    }
   ],
   "source": [
    "cat ${FD_LOG}/coverage_astarr_peak_macs_input_astarr.11.txt"
   ]
  },
  {
   "cell_type": "code",
   "execution_count": 33,
   "id": "a2d43166-bdde-43cf-9aa6-9b825de13db6",
   "metadata": {},
   "outputs": [
    {
     "name": "stdout",
     "output_type": "stream",
     "text": [
      "Hostname:           x1-02-2.genome.duke.edu\n",
      "Slurm Array Index:  15\n",
      "Time Stamp:         12-11-22+13:49:37\n",
      "\n",
      "Input  file:  /data/reddylab/Kuei/out/proj_combeffect_encode_fcc/results/KS91_K562_ASTARRseq/fragment_count/KS91_K562_ASTARRseq.Input.rep4.WGS.unstranded.bed.gz\n",
      "\n",
      "Show the first few lines of the input file\n",
      "chr1\t10001\t10125\tchr1_10001_10125\t1\t.\n",
      "chr1\t10001\t10326\tchr1_10001_10326\t1\t.\n",
      "chr1\t10002\t10119\tchr1_10002_10119\t1\t.\n",
      "\n",
      "Input  file:  /data/reddylab/Kuei/out/proj_combeffect_encode_fcc/region/KS91_K562_ASTARRseq_peak_macs/KS91_K562_hg38_ASTARRseq_Input.all_reps.masked.union_narrowPeak.q5.bed\n",
      "\n",
      "Show the first few lines of the input file\n",
      "chr1\t10015\t10442\n",
      "chr1\t14253\t14645\n",
      "chr1\t16015\t16477\n",
      "\n",
      "Show the last few lines of the input file\n",
      "chrX\t156024950\t156025593\n",
      "chrX\t156030187\t156030740\n",
      "chrY\t11215098\t11215422\n",
      "\n",
      "\n",
      "Output file:  /data/reddylab/Kuei/out/proj_combeffect_encode_fcc/results/KS91_K562_ASTARRseq/coverage_astarrseq_peak_macs_input/KS91_K562_ASTARRseq.Input.rep4.WGS.unstranded.bed.gz\n",
      "\n",
      "Show the first few lines of the output file\n",
      "chr1\t10015\t10442\t236\n",
      "chr1\t14253\t14645\t141\n",
      "chr1\t16015\t16477\t190\n",
      "\n",
      "\n",
      "Done!\n",
      "Run Time: 6 minutes and 11 seconds\n"
     ]
    }
   ],
   "source": [
    "cat ${FD_LOG}/coverage_astarr_peak_macs_input_astarr.15.txt"
   ]
  },
  {
   "cell_type": "code",
   "execution_count": 34,
   "id": "40c0a9c1-baa9-48ef-baa6-a76a4a7ef838",
   "metadata": {},
   "outputs": [
    {
     "name": "stdout",
     "output_type": "stream",
     "text": [
      "Hostname:           x1-02-4.genome.duke.edu\n",
      "Slurm Array Index:  19\n",
      "Time Stamp:         12-11-22+13:49:37\n",
      "\n",
      "Input  file:  /data/reddylab/Kuei/out/proj_combeffect_encode_fcc/results/KS91_K562_ASTARRseq/fragment_count/KS91_K562_ASTARRseq.Input.rep5.WGS.unstranded.bed.gz\n",
      "\n",
      "Show the first few lines of the input file\n",
      "chr1\t10001\t10119\tchr1_10001_10119\t1\t.\n",
      "chr1\t10001\t10131\tchr1_10001_10131\t1\t.\n",
      "chr1\t10001\t10215\tchr1_10001_10215\t1\t.\n",
      "\n",
      "Input  file:  /data/reddylab/Kuei/out/proj_combeffect_encode_fcc/region/KS91_K562_ASTARRseq_peak_macs/KS91_K562_hg38_ASTARRseq_Input.all_reps.masked.union_narrowPeak.q5.bed\n",
      "\n",
      "Show the first few lines of the input file\n",
      "chr1\t10015\t10442\n",
      "chr1\t14253\t14645\n",
      "chr1\t16015\t16477\n",
      "\n",
      "Show the last few lines of the input file\n",
      "chrX\t156024950\t156025593\n",
      "chrX\t156030187\t156030740\n",
      "chrY\t11215098\t11215422\n",
      "\n",
      "\n",
      "Output file:  /data/reddylab/Kuei/out/proj_combeffect_encode_fcc/results/KS91_K562_ASTARRseq/coverage_astarrseq_peak_macs_input/KS91_K562_ASTARRseq.Input.rep5.WGS.unstranded.bed.gz\n",
      "\n",
      "Show the first few lines of the output file\n",
      "chr1\t10015\t10442\t185\n",
      "chr1\t14253\t14645\t130\n",
      "chr1\t16015\t16477\t202\n",
      "\n",
      "\n",
      "Done!\n",
      "Run Time: 6 minutes and 6 seconds\n"
     ]
    }
   ],
   "source": [
    "cat ${FD_LOG}/coverage_astarr_peak_macs_input_astarr.19.txt"
   ]
  },
  {
   "cell_type": "code",
   "execution_count": 35,
   "id": "3cdc70bd-a564-45cc-b81a-83910bfce4c0",
   "metadata": {},
   "outputs": [
    {
     "name": "stdout",
     "output_type": "stream",
     "text": [
      "Hostname:           x1-03-1.genome.duke.edu\n",
      "Slurm Array Index:  23\n",
      "Time Stamp:         12-11-22+13:49:37\n",
      "\n",
      "Input  file:  /data/reddylab/Kuei/out/proj_combeffect_encode_fcc/results/KS91_K562_ASTARRseq/fragment_count/KS91_K562_ASTARRseq.Input.rep6.WGS.unstranded.bed.gz\n",
      "\n",
      "Show the first few lines of the input file\n",
      "chr1\t10001\t10119\tchr1_10001_10119\t1\t.\n",
      "chr1\t10001\t10143\tchr1_10001_10143\t1\t.\n",
      "chr1\t10002\t10119\tchr1_10002_10119\t1\t.\n",
      "\n",
      "Input  file:  /data/reddylab/Kuei/out/proj_combeffect_encode_fcc/region/KS91_K562_ASTARRseq_peak_macs/KS91_K562_hg38_ASTARRseq_Input.all_reps.masked.union_narrowPeak.q5.bed\n",
      "\n",
      "Show the first few lines of the input file\n",
      "chr1\t10015\t10442\n",
      "chr1\t14253\t14645\n",
      "chr1\t16015\t16477\n",
      "\n",
      "Show the last few lines of the input file\n",
      "chrX\t156024950\t156025593\n",
      "chrX\t156030187\t156030740\n",
      "chrY\t11215098\t11215422\n",
      "\n",
      "\n",
      "Output file:  /data/reddylab/Kuei/out/proj_combeffect_encode_fcc/results/KS91_K562_ASTARRseq/coverage_astarrseq_peak_macs_input/KS91_K562_ASTARRseq.Input.rep6.WGS.unstranded.bed.gz\n",
      "\n",
      "Show the first few lines of the output file\n",
      "chr1\t10015\t10442\t214\n",
      "chr1\t14253\t14645\t130\n",
      "chr1\t16015\t16477\t182\n",
      "\n",
      "\n",
      "Done!\n",
      "Run Time: 6 minutes and 35 seconds\n"
     ]
    }
   ],
   "source": [
    "cat ${FD_LOG}/coverage_astarr_peak_macs_input_astarr.23.txt"
   ]
  },
  {
   "cell_type": "code",
   "execution_count": 36,
   "id": "e55511b9-adbc-4fc0-837a-c7787515749e",
   "metadata": {},
   "outputs": [
    {
     "name": "stdout",
     "output_type": "stream",
     "text": [
      "Hostname:           x1-03-2.genome.duke.edu\n",
      "Slurm Array Index:  27\n",
      "Time Stamp:         12-11-22+13:49:37\n",
      "\n",
      "Input  file:  /data/reddylab/Kuei/out/proj_combeffect_encode_fcc/results/KS91_K562_ASTARRseq/fragment_count/KS91_K562_ASTARRseq.Output.rep1.WGS.unstranded.bed.gz\n",
      "\n",
      "Show the first few lines of the input file\n",
      "chr1\t10057\t10233\tchr1_10057_10233\t2\t.\n",
      "chr1\t10188\t10442\tchr1_10188_10442\t1\t.\n",
      "chr1\t10285\t10349\tchr1_10285_10349\t1\t.\n",
      "\n",
      "Input  file:  /data/reddylab/Kuei/out/proj_combeffect_encode_fcc/region/KS91_K562_ASTARRseq_peak_macs/KS91_K562_hg38_ASTARRseq_Input.all_reps.masked.union_narrowPeak.q5.bed\n",
      "\n",
      "Show the first few lines of the input file\n",
      "chr1\t10015\t10442\n",
      "chr1\t14253\t14645\n",
      "chr1\t16015\t16477\n",
      "\n",
      "Show the last few lines of the input file\n",
      "chrX\t156024950\t156025593\n",
      "chrX\t156030187\t156030740\n",
      "chrY\t11215098\t11215422\n",
      "\n",
      "\n",
      "Output file:  /data/reddylab/Kuei/out/proj_combeffect_encode_fcc/results/KS91_K562_ASTARRseq/coverage_astarrseq_peak_macs_input/KS91_K562_ASTARRseq.Output.rep1.WGS.unstranded.bed.gz\n",
      "\n",
      "Show the first few lines of the output file\n",
      "chr1\t10015\t10442\t7\n",
      "chr1\t14253\t14645\t8\n",
      "chr1\t16015\t16477\t9\n",
      "\n",
      "\n",
      "Done!\n",
      "Run Time: 31 seconds\n"
     ]
    }
   ],
   "source": [
    "cat ${FD_LOG}/coverage_astarr_peak_macs_input_astarr.27.txt"
   ]
  },
  {
   "cell_type": "code",
   "execution_count": null,
   "id": "7d89caab-bc55-4a43-924a-73d799f902f7",
   "metadata": {},
   "outputs": [],
   "source": []
  }
 ],
 "metadata": {
  "kernelspec": {
   "display_name": "Bash",
   "language": "bash",
   "name": "bash"
  },
  "language_info": {
   "codemirror_mode": "shell",
   "file_extension": ".sh",
   "mimetype": "text/x-sh",
   "name": "bash"
  }
 },
 "nbformat": 4,
 "nbformat_minor": 5
}
