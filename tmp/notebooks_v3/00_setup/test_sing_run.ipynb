{
 "cells": [
  {
   "cell_type": "code",
   "execution_count": 2,
   "id": "6dba44c5-dc20-4268-941e-f991ffb98993",
   "metadata": {},
   "outputs": [
    {
     "name": "stdout",
     "output_type": "stream",
     "text": [
      "You are on Duke Server: HARDAC\n",
      "BASE DIRECTORY:     /data/reddylab/Kuei\n",
      "WORK DIRECTORY:     /data/reddylab/Kuei/out\n",
      "CODE DIRECTORY:     /data/reddylab/Kuei/code\n",
      "SING DIRECTORY:     /data/reddylab/Kuei/singularity\n",
      "PATH OF SOURCE:     /data/reddylab/Kuei/source\n",
      "PATH OF EXECUTABLE: /data/reddylab/Kuei/bin\n",
      "PATH OF ANNOTATION: /data/reddylab/Kuei/annotation\n",
      "PATH OF PROJECT:    /data/reddylab/Kuei/code/Proj_CombEffect_ENCODE_FCC\n",
      "PATH OF RESULTS:    /data/reddylab/Kuei/out/proj_combeffect_encode_fcc\n",
      "\n"
     ]
    }
   ],
   "source": [
    "source ../config/config_duke.sh\n",
    "show_env"
   ]
  },
  {
   "cell_type": "code",
   "execution_count": 3,
   "id": "bd2eb463-7e22-4f8d-9bc3-232367e926fc",
   "metadata": {},
   "outputs": [
    {
     "name": "stdout",
     "output_type": "stream",
     "text": [
      "/data/reddylab/Kuei/code/Proj_CombEffect_ENCODE_FCC/notebooks_v3\n",
      "/data/reddylab/Kuei/out/proj_combeffect_encode_fcc\n",
      "\u001b[0m\u001b[38;5;27m01_prepare\u001b[0m\n",
      "\u001b[38;5;27m02_fragment\u001b[0m\n",
      "\u001b[38;5;27m03_coverage\u001b[0m\n",
      "\u001b[38;5;27mconfig\u001b[0m\n",
      "\u001b[38;5;34mjupyter_proj_encode_fcc.sh\u001b[0m\n",
      "\u001b[38;5;34msing_proj_encode_fcc.sh\u001b[0m\n"
     ]
    }
   ],
   "source": [
    "echo ${FD_PRJ}\n",
    "echo ${FD_RES}\n",
    "ls -1 ${FD_PRJ}"
   ]
  },
  {
   "cell_type": "code",
   "execution_count": 9,
   "id": "8f5d3796-70ba-4d80-8878-93bbc8a013b3",
   "metadata": {},
   "outputs": [],
   "source": [
    "cat > ./test_sing_run.py << 'EOF'\n",
    "\n",
    "import argparse\n",
    "import os\n",
    "\n",
    "def parse_args():\n",
    "    \"\"\"Parse arguments from command line\"\"\"\n",
    "    \n",
    "    ### set arguments\n",
    "    parser = argparse.ArgumentParser()\n",
    "    parser.add_argument('--fout', help='foo help')\n",
    "    parser.add_argument('--verbose',  action='store_true', help='foo help')\n",
    "    \n",
    "    ### parse arguments and return\n",
    "    args=parser.parse_args()\n",
    "    return args\n",
    "    \n",
    "def main(fout = None, verbose = False):\n",
    "    paths = os.listdir(fout)\n",
    "    for path in paths:\n",
    "        print(path)\n",
    "    \n",
    "if __name__ == \"__main__\":\n",
    "    args = parse_args()\n",
    "    main(**vars(args))\n",
    "    \n",
    "EOF"
   ]
  },
  {
   "cell_type": "code",
   "execution_count": 10,
   "id": "02d46379-a61d-498f-a2de-02e9442f8d68",
   "metadata": {},
   "outputs": [
    {
     "name": "stdout",
     "output_type": "stream",
     "text": [
      ".ipynb_checkpoints\n",
      "region\n",
      "log\n",
      "results\n",
      "results_v3\n",
      "source\n",
      "Readme.md\n",
      "results_v2\n"
     ]
    }
   ],
   "source": [
    "${FD_PRJ}/sing_proj_encode_fcc.sh python ./test_sing_run.py \\\n",
    "    --fout ${FD_RES} \\\n",
    "    --verbose"
   ]
  },
  {
   "cell_type": "code",
   "execution_count": 4,
   "id": "a6cad918-296a-4b8d-949e-51f42f7e0981",
   "metadata": {},
   "outputs": [
    {
     "name": "stdout",
     "output_type": "stream",
     "text": [
      "bash: Rscript: command not found\n"
     ]
    },
    {
     "ename": "",
     "evalue": "127",
     "output_type": "error",
     "traceback": []
    }
   ],
   "source": [
    "Rscript"
   ]
  },
  {
   "cell_type": "code",
   "execution_count": 3,
   "id": "d6be1278-734b-463f-be42-84615d243f01",
   "metadata": {},
   "outputs": [
    {
     "name": "stdout",
     "output_type": "stream",
     "text": [
      "$platform\n",
      "[1] \"x86_64-pc-linux-gnu\"\n",
      "\n",
      "$arch\n",
      "[1] \"x86_64\"\n",
      "\n",
      "$os\n",
      "[1] \"linux-gnu\"\n",
      "\n",
      "$system\n",
      "[1] \"x86_64, linux-gnu\"\n",
      "\n",
      "$status\n",
      "[1] \"Patched\"\n",
      "\n",
      "$major\n",
      "[1] \"4\"\n",
      "\n",
      "$minor\n",
      "[1] \"2.2\"\n",
      "\n",
      "$year\n",
      "[1] \"2022\"\n",
      "\n",
      "$month\n",
      "[1] \"11\"\n",
      "\n",
      "$day\n",
      "[1] \"10\"\n",
      "\n",
      "$`svn rev`\n",
      "[1] \"83330\"\n",
      "\n",
      "$language\n",
      "[1] \"R\"\n",
      "\n",
      "$version.string\n",
      "[1] \"R version 4.2.2 Patched (2022-11-10 r83330)\"\n",
      "\n",
      "$nickname\n",
      "[1] \"Innocent and Trusting\"\n",
      "\n"
     ]
    }
   ],
   "source": [
    "${FD_PRJ}/notebooks/sing_proj_encode_fcc.sh Rscript -e \"R.Version()\""
   ]
  },
  {
   "cell_type": "code",
   "execution_count": null,
   "id": "1502fcf8-cbd4-45e5-b58f-7d5c867e66a0",
   "metadata": {},
   "outputs": [],
   "source": []
  }
 ],
 "metadata": {
  "kernelspec": {
   "display_name": "Bash",
   "language": "bash",
   "name": "bash"
  },
  "language_info": {
   "codemirror_mode": "shell",
   "file_extension": ".sh",
   "mimetype": "text/x-sh",
   "name": "bash"
  }
 },
 "nbformat": 4,
 "nbformat_minor": 5
}
