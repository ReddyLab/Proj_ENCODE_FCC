{
 "cells": [
  {
   "cell_type": "markdown",
   "id": "4b4121f8-fd5f-4394-ab38-e34f6b12a605",
   "metadata": {},
   "source": [
    "**Set environment**"
   ]
  },
  {
   "cell_type": "code",
   "execution_count": 1,
   "id": "09ed0b91-eac9-4865-9b04-2ccc39f6f520",
   "metadata": {},
   "outputs": [
    {
     "name": "stdout",
     "output_type": "stream",
     "text": [
      "You are on Duke Server: HARDAC\n",
      "BASE DIRECTORY:     /data/reddylab/Kuei\n",
      "WORK DIRECTORY:     /data/reddylab/Kuei/out\n",
      "CODE DIRECTORY:     /data/reddylab/Kuei/code\n",
      "SING DIRECTORY:     /data/reddylab/Kuei/singularity\n",
      "PATH OF SOURCE:     /data/reddylab/Kuei/source\n",
      "PATH OF EXECUTABLE: /data/reddylab/Kuei/bin\n",
      "PATH OF ANNOTATION: /data/reddylab/Kuei/annotation\n",
      "PATH OF PROJECT:    /data/reddylab/Kuei/code/Proj_CombEffect_ENCODE_FCC\n",
      "PATH OF RESULTS:    /data/reddylab/Kuei/out/proj_combeffect_encode_fcc\n",
      "\n"
     ]
    }
   ],
   "source": [
    "source ../config/config_duke.sh\n",
    "show_env"
   ]
  },
  {
   "cell_type": "code",
   "execution_count": 2,
   "id": "475479df-5ab2-4612-8a23-63f5b37f6447",
   "metadata": {},
   "outputs": [
    {
     "name": "stdout",
     "output_type": "stream",
     "text": [
      "\u001b[0m\u001b[38;5;9mA001-input-K562-rep1.masked.dedup.fragments.counts.txt.gz\u001b[0m\n",
      "\u001b[38;5;9mA001-input-K562-rep2.masked.dedup.fragments.counts.txt.gz\u001b[0m\n",
      "\u001b[38;5;9mA001-input-K562-rep3.masked.dedup.fragments.counts.txt.gz\u001b[0m\n",
      "\u001b[38;5;9mA001-input-K562-rep4.masked.dedup.fragments.counts.txt.gz\u001b[0m\n",
      "\u001b[38;5;9mA001-K562-rep1.masked.dedup.fragments.counts.txt.gz\u001b[0m\n",
      "\u001b[38;5;9mA001-K562-rep2.masked.dedup.fragments.counts.txt.gz\u001b[0m\n",
      "\u001b[38;5;9mA001-K562-rep3.masked.dedup.fragments.counts.txt.gz\u001b[0m\n"
     ]
    }
   ],
   "source": [
    "ls ${FD_RES}/source/A001_K562_wstarrseq_fragments_wgs"
   ]
  },
  {
   "cell_type": "code",
   "execution_count": 5,
   "id": "10b28d7b-1b64-4a9b-b61d-5f3efb834096",
   "metadata": {},
   "outputs": [
    {
     "name": "stdout",
     "output_type": "stream",
     "text": [
      "1\n",
      "/data/reddylab/Kuei/out/proj_combeffect_encode_fcc/source/A001_K562_wstarrseq_fragments_wgs/A001-input-K562-rep1.masked.dedup.fragments.counts.txt.gz\n",
      "/data/reddylab/Kuei/out/proj_combeffect_encode_fcc/results/A001_K562_WSTARRseq/fragment_count/A001_K562_WSTARRseq.Input.rep1.WGS.unstranded.bed.gz\n",
      "2\n",
      "/data/reddylab/Kuei/out/proj_combeffect_encode_fcc/source/A001_K562_wstarrseq_fragments_wgs/A001-input-K562-rep2.masked.dedup.fragments.counts.txt.gz\n",
      "/data/reddylab/Kuei/out/proj_combeffect_encode_fcc/results/A001_K562_WSTARRseq/fragment_count/A001_K562_WSTARRseq.Input.rep2.WGS.unstranded.bed.gz\n",
      "3\n",
      "/data/reddylab/Kuei/out/proj_combeffect_encode_fcc/source/A001_K562_wstarrseq_fragments_wgs/A001-input-K562-rep3.masked.dedup.fragments.counts.txt.gz\n",
      "/data/reddylab/Kuei/out/proj_combeffect_encode_fcc/results/A001_K562_WSTARRseq/fragment_count/A001_K562_WSTARRseq.Input.rep3.WGS.unstranded.bed.gz\n",
      "4\n",
      "/data/reddylab/Kuei/out/proj_combeffect_encode_fcc/source/A001_K562_wstarrseq_fragments_wgs/A001-input-K562-rep4.masked.dedup.fragments.counts.txt.gz\n",
      "/data/reddylab/Kuei/out/proj_combeffect_encode_fcc/results/A001_K562_WSTARRseq/fragment_count/A001_K562_WSTARRseq.Input.rep4.WGS.unstranded.bed.gz\n"
     ]
    }
   ],
   "source": [
    "ASSAY=A001_K562_WSTARRseq\n",
    "PREFIX=A001_K562_WSTARRseq\n",
    "FOLDER=fragment_count\n",
    "GROUP=Input\n",
    "REGION=WGS\n",
    "STRAND=unstranded\n",
    "\n",
    "FD_INP=${FD_RES}/source/A001_K562_wstarrseq_fragments_wgs\n",
    "FD_OUT=${FD_RES}/results/${ASSAY}/${FOLDER}\n",
    "for IDX in {1..4}; do\n",
    "    FP_INP=$(ls ${FD_INP}/*input*rep${IDX}*)\n",
    "    FP_OUT=${FD_OUT}/${PREFIX}.${GROUP}.rep${IDX}.${REGION}.${STRAND}.bed.gz\n",
    "    cp ${FP_INP} ${FP_OUT}\n",
    "    \n",
    "    echo ${IDX}\n",
    "    echo ${FP_INP}\n",
    "    echo ${FP_OUT}\n",
    "done"
   ]
  },
  {
   "cell_type": "code",
   "execution_count": 6,
   "id": "158bf4a6-4590-4dd6-a15e-3bc4bb94a52b",
   "metadata": {},
   "outputs": [
    {
     "name": "stdout",
     "output_type": "stream",
     "text": [
      "1\n",
      "/data/reddylab/Kuei/out/proj_combeffect_encode_fcc/source/A001_K562_wstarrseq_fragments_wgs/A001-K562-rep1.masked.dedup.fragments.counts.txt.gz\n",
      "/data/reddylab/Kuei/out/proj_combeffect_encode_fcc/results/A001_K562_WSTARRseq/fragment_count/A001_K562_WSTARRseq.Output.rep1.WGS.unstranded.bed.gz\n",
      "2\n",
      "/data/reddylab/Kuei/out/proj_combeffect_encode_fcc/source/A001_K562_wstarrseq_fragments_wgs/A001-K562-rep2.masked.dedup.fragments.counts.txt.gz\n",
      "/data/reddylab/Kuei/out/proj_combeffect_encode_fcc/results/A001_K562_WSTARRseq/fragment_count/A001_K562_WSTARRseq.Output.rep2.WGS.unstranded.bed.gz\n",
      "3\n",
      "/data/reddylab/Kuei/out/proj_combeffect_encode_fcc/source/A001_K562_wstarrseq_fragments_wgs/A001-K562-rep3.masked.dedup.fragments.counts.txt.gz\n",
      "/data/reddylab/Kuei/out/proj_combeffect_encode_fcc/results/A001_K562_WSTARRseq/fragment_count/A001_K562_WSTARRseq.Output.rep3.WGS.unstranded.bed.gz\n"
     ]
    }
   ],
   "source": [
    "ASSAY=A001_K562_WSTARRseq\n",
    "PREFIX=A001_K562_WSTARRseq\n",
    "FOLDER=fragment_count\n",
    "GROUP=Output\n",
    "REGION=WGS\n",
    "STRAND=unstranded\n",
    "\n",
    "FD_INP=${FD_RES}/source/A001_K562_wstarrseq_fragments_wgs\n",
    "FD_OUT=${FD_RES}/results/${ASSAY}/${FOLDER}\n",
    "for IDX in {1..3}; do\n",
    "    FP_INP=$(ls ${FD_INP}/A001-K562-rep${IDX}*)\n",
    "    FP_OUT=${FD_OUT}/${PREFIX}.${GROUP}.rep${IDX}.${REGION}.${STRAND}.bed.gz\n",
    "    cp ${FP_INP} ${FP_OUT}\n",
    "    \n",
    "    echo ${IDX}\n",
    "    echo ${FP_INP}\n",
    "    echo ${FP_OUT}\n",
    "done"
   ]
  },
  {
   "cell_type": "code",
   "execution_count": 10,
   "id": "1d7a13fc-af34-45c2-8ced-4d6a713b4ba2",
   "metadata": {},
   "outputs": [
    {
     "name": "stdout",
     "output_type": "stream",
     "text": [
      "chr1\t10335\t10549\tchr1_10335_10549\t1\t.\n",
      "chr1\t16983\t17500\tchr1_16983_17500\t1\t.\n",
      "chr1\t16985\t17499\tchr1_16985_17499\t1\t.\n",
      "chr1\t17004\t17500\tchr1_17004_17500\t1\t.\n",
      "chr1\t17483\t17898\tchr1_17483_17898\t1\t.\n",
      "chr1\t17487\t17941\tchr1_17487_17941\t1\t.\n",
      "chr1\t33606\t33997\tchr1_33606_33997\t1\t.\n",
      "chr1\t33617\t33997\tchr1_33617_33997\t1\t.\n",
      "chr1\t38785\t39226\tchr1_38785_39226\t1\t.\n",
      "chr1\t46328\t46678\tchr1_46328_46678\t1\t.\n"
     ]
    }
   ],
   "source": [
    "FDIRY=${FD_RES}/source/A001_K562_wstarrseq_fragments_wgs\n",
    "FNAME=A001-input-K562-rep1.masked.dedup.fragments.counts.txt.gz\n",
    "zcat ${FDIRY}/${FNAME} | head"
   ]
  },
  {
   "cell_type": "code",
   "execution_count": 11,
   "id": "0344edd0-beb6-4c68-b9c9-9bba8cb738e8",
   "metadata": {},
   "outputs": [
    {
     "name": "stdout",
     "output_type": "stream",
     "text": [
      "chr1\t10335\t10549\tchr1_10335_10549\t1\t.\n",
      "chr1\t16983\t17500\tchr1_16983_17500\t1\t.\n",
      "chr1\t16985\t17499\tchr1_16985_17499\t1\t.\n",
      "chr1\t17004\t17500\tchr1_17004_17500\t1\t.\n",
      "chr1\t17483\t17898\tchr1_17483_17898\t1\t.\n",
      "chr1\t17487\t17941\tchr1_17487_17941\t1\t.\n",
      "chr1\t33606\t33997\tchr1_33606_33997\t1\t.\n",
      "chr1\t33617\t33997\tchr1_33617_33997\t1\t.\n",
      "chr1\t38785\t39226\tchr1_38785_39226\t1\t.\n",
      "chr1\t46328\t46678\tchr1_46328_46678\t1\t.\n"
     ]
    }
   ],
   "source": [
    "ASSAY=A001_K562_WSTARRseq\n",
    "PREFIX=A001_K562_WSTARRseq\n",
    "FOLDER=fragment_count\n",
    "GROUP=Input\n",
    "REPLIC=rep1\n",
    "REGION=WGS\n",
    "STRAND=unstranded\n",
    "\n",
    "FDIRY=${FD_RES}/results/${ASSAY}/${FOLDER}\n",
    "FNAME=${PREFIX}.${GROUP}.${REPLIC}.${REGION}.${STRAND}.bed.gz\n",
    "zcat ${FDIRY}/${FNAME} | head"
   ]
  },
  {
   "cell_type": "code",
   "execution_count": 12,
   "id": "ad3a88f6-ad85-49d8-b794-ad4c3d0f83b9",
   "metadata": {},
   "outputs": [
    {
     "name": "stdout",
     "output_type": "stream",
     "text": [
      "chr1\t14845\t15207\tchr1_14845_15207\t1\t.\n",
      "chr1\t15512\t16248\tchr1_15512_16248\t1\t.\n",
      "chr1\t15652\t16254\tchr1_15652_16254\t1\t.\n",
      "chr1\t15658\t16259\tchr1_15658_16259\t1\t.\n",
      "chr1\t15665\t16244\tchr1_15665_16244\t1\t.\n",
      "chr1\t15667\t16478\tchr1_15667_16478\t1\t.\n",
      "chr1\t15673\t16249\tchr1_15673_16249\t1\t.\n",
      "chr1\t15682\t16254\tchr1_15682_16254\t1\t.\n",
      "chr1\t15716\t16249\tchr1_15716_16249\t1\t.\n",
      "chr1\t15725\t16253\tchr1_15725_16253\t1\t.\n"
     ]
    }
   ],
   "source": [
    "FDIRY=${FD_RES}/source/A001_K562_wstarrseq_fragments_wgs\n",
    "FNAME=A001-K562-rep1.masked.dedup.fragments.counts.txt.gz\n",
    "zcat ${FDIRY}/${FNAME} | head"
   ]
  },
  {
   "cell_type": "code",
   "execution_count": 13,
   "id": "03d0bb0f-9288-4c3f-b010-3817a87d7487",
   "metadata": {},
   "outputs": [
    {
     "name": "stdout",
     "output_type": "stream",
     "text": [
      "chr1\t14845\t15207\tchr1_14845_15207\t1\t.\n",
      "chr1\t15512\t16248\tchr1_15512_16248\t1\t.\n",
      "chr1\t15652\t16254\tchr1_15652_16254\t1\t.\n",
      "chr1\t15658\t16259\tchr1_15658_16259\t1\t.\n",
      "chr1\t15665\t16244\tchr1_15665_16244\t1\t.\n",
      "chr1\t15667\t16478\tchr1_15667_16478\t1\t.\n",
      "chr1\t15673\t16249\tchr1_15673_16249\t1\t.\n",
      "chr1\t15682\t16254\tchr1_15682_16254\t1\t.\n",
      "chr1\t15716\t16249\tchr1_15716_16249\t1\t.\n",
      "chr1\t15725\t16253\tchr1_15725_16253\t1\t.\n"
     ]
    }
   ],
   "source": [
    "ASSAY=A001_K562_WSTARRseq\n",
    "PREFIX=A001_K562_WSTARRseq\n",
    "FOLDER=fragment_count\n",
    "GROUP=Output\n",
    "REPLIC=rep1\n",
    "REGION=WGS\n",
    "STRAND=unstranded\n",
    "\n",
    "FDIRY=${FD_RES}/results/${ASSAY}/${FOLDER}\n",
    "FNAME=${PREFIX}.${GROUP}.${REPLIC}.${REGION}.${STRAND}.bed.gz\n",
    "zcat ${FDIRY}/${FNAME} | head"
   ]
  },
  {
   "cell_type": "code",
   "execution_count": null,
   "id": "16885aa4-1c1d-4714-bced-03d486ffe898",
   "metadata": {},
   "outputs": [],
   "source": []
  }
 ],
 "metadata": {
  "kernelspec": {
   "display_name": "Bash",
   "language": "bash",
   "name": "bash"
  },
  "language_info": {
   "codemirror_mode": "shell",
   "file_extension": ".sh",
   "mimetype": "text/x-sh",
   "name": "bash"
  }
 },
 "nbformat": 4,
 "nbformat_minor": 5
}
