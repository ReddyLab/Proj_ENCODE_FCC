{
 "cells": [
  {
   "cell_type": "markdown",
   "metadata": {},
   "source": [
    "**Set environment**"
   ]
  },
  {
   "cell_type": "code",
   "execution_count": 13,
   "metadata": {},
   "outputs": [],
   "source": [
    "suppressWarnings(suppressMessages(source(\"../config/config_sing.R\")))\n",
    "suppressWarnings(suppressMessages(library(\"GenomicRanges\")))"
   ]
  },
  {
   "cell_type": "markdown",
   "metadata": {},
   "source": [
    "## Import data"
   ]
  },
  {
   "cell_type": "code",
   "execution_count": 6,
   "metadata": {},
   "outputs": [
    {
     "data": {
      "text/html": [
       "<style>\n",
       ".list-inline {list-style: none; margin:0; padding: 0}\n",
       ".list-inline>li {display: inline-block}\n",
       ".list-inline>li:not(:last-child)::after {content: \"\\00b7\"; padding: 0 .5ex}\n",
       "</style>\n",
       "<ol class=list-inline><li>'OL13_20220512.FADS.stranded_pos.bed'</li><li>'OL13_20220512.hg19.raw.stranded_pos.bed'</li><li>'OL13_20220512.hg38.raw.stranded_pos.bed'</li><li>'OL13_20220512.unlifted.raw.stranded_pos.bed'</li><li>'OL43_20221003.GATA1.stranded_pos.bed'</li><li>'OL43_20221003.hg38.raw.stranded_pos.bed'</li><li>'OL43_20221003.MYC.stranded_pos.bed'</li><li>'OL45_20220927.hg38.raw.stranded_pos.bed'</li></ol>\n"
      ],
      "text/latex": [
       "\\begin{enumerate*}\n",
       "\\item 'OL13\\_20220512.FADS.stranded\\_pos.bed'\n",
       "\\item 'OL13\\_20220512.hg19.raw.stranded\\_pos.bed'\n",
       "\\item 'OL13\\_20220512.hg38.raw.stranded\\_pos.bed'\n",
       "\\item 'OL13\\_20220512.unlifted.raw.stranded\\_pos.bed'\n",
       "\\item 'OL43\\_20221003.GATA1.stranded\\_pos.bed'\n",
       "\\item 'OL43\\_20221003.hg38.raw.stranded\\_pos.bed'\n",
       "\\item 'OL43\\_20221003.MYC.stranded\\_pos.bed'\n",
       "\\item 'OL45\\_20220927.hg38.raw.stranded\\_pos.bed'\n",
       "\\end{enumerate*}\n"
      ],
      "text/markdown": [
       "1. 'OL13_20220512.FADS.stranded_pos.bed'\n",
       "2. 'OL13_20220512.hg19.raw.stranded_pos.bed'\n",
       "3. 'OL13_20220512.hg38.raw.stranded_pos.bed'\n",
       "4. 'OL13_20220512.unlifted.raw.stranded_pos.bed'\n",
       "5. 'OL43_20221003.GATA1.stranded_pos.bed'\n",
       "6. 'OL43_20221003.hg38.raw.stranded_pos.bed'\n",
       "7. 'OL43_20221003.MYC.stranded_pos.bed'\n",
       "8. 'OL45_20220927.hg38.raw.stranded_pos.bed'\n",
       "\n",
       "\n"
      ],
      "text/plain": [
       "[1] \"OL13_20220512.FADS.stranded_pos.bed\"        \n",
       "[2] \"OL13_20220512.hg19.raw.stranded_pos.bed\"    \n",
       "[3] \"OL13_20220512.hg38.raw.stranded_pos.bed\"    \n",
       "[4] \"OL13_20220512.unlifted.raw.stranded_pos.bed\"\n",
       "[5] \"OL43_20221003.GATA1.stranded_pos.bed\"       \n",
       "[6] \"OL43_20221003.hg38.raw.stranded_pos.bed\"    \n",
       "[7] \"OL43_20221003.MYC.stranded_pos.bed\"         \n",
       "[8] \"OL45_20220927.hg38.raw.stranded_pos.bed\"    "
      ]
     },
     "metadata": {},
     "output_type": "display_data"
    }
   ],
   "source": [
    "fdiry = file.path(FD_RES, \"results\", \"Tewhey_K562_TileMPRA\", \"fragment\")\n",
    "dir(fdiry)"
   ]
  },
  {
   "cell_type": "code",
   "execution_count": 19,
   "metadata": {},
   "outputs": [
    {
     "name": "stdout",
     "output_type": "stream",
     "text": [
      "[1] 21914     6\n"
     ]
    },
    {
     "data": {
      "text/html": [
       "<table class=\"dataframe\">\n",
       "<caption>A tibble: 6 × 6</caption>\n",
       "<thead>\n",
       "\t<tr><th scope=col>Chrom</th><th scope=col>Start</th><th scope=col>End</th><th scope=col>Name</th><th scope=col>Score</th><th scope=col>Strand</th></tr>\n",
       "\t<tr><th scope=col>&lt;chr&gt;</th><th scope=col>&lt;dbl&gt;</th><th scope=col>&lt;dbl&gt;</th><th scope=col>&lt;chr&gt;</th><th scope=col>&lt;chr&gt;</th><th scope=col>&lt;chr&gt;</th></tr>\n",
       "</thead>\n",
       "<tbody>\n",
       "\t<tr><td>chr11</td><td>61787329</td><td>61787528</td><td>chr11:61554801-61555000</td><td>.</td><td>+</td></tr>\n",
       "\t<tr><td>chr11</td><td>61787334</td><td>61787533</td><td>chr11:61554806-61555005</td><td>.</td><td>+</td></tr>\n",
       "\t<tr><td>chr11</td><td>61787339</td><td>61787538</td><td>chr11:61554811-61555010</td><td>.</td><td>+</td></tr>\n",
       "\t<tr><td>chr11</td><td>61787344</td><td>61787543</td><td>chr11:61554816-61555015</td><td>.</td><td>+</td></tr>\n",
       "\t<tr><td>chr11</td><td>61787349</td><td>61787548</td><td>chr11:61554821-61555020</td><td>.</td><td>+</td></tr>\n",
       "\t<tr><td>chr11</td><td>61787354</td><td>61787553</td><td>chr11:61554826-61555025</td><td>.</td><td>+</td></tr>\n",
       "</tbody>\n",
       "</table>\n"
      ],
      "text/latex": [
       "A tibble: 6 × 6\n",
       "\\begin{tabular}{llllll}\n",
       " Chrom & Start & End & Name & Score & Strand\\\\\n",
       " <chr> & <dbl> & <dbl> & <chr> & <chr> & <chr>\\\\\n",
       "\\hline\n",
       "\t chr11 & 61787329 & 61787528 & chr11:61554801-61555000 & . & +\\\\\n",
       "\t chr11 & 61787334 & 61787533 & chr11:61554806-61555005 & . & +\\\\\n",
       "\t chr11 & 61787339 & 61787538 & chr11:61554811-61555010 & . & +\\\\\n",
       "\t chr11 & 61787344 & 61787543 & chr11:61554816-61555015 & . & +\\\\\n",
       "\t chr11 & 61787349 & 61787548 & chr11:61554821-61555020 & . & +\\\\\n",
       "\t chr11 & 61787354 & 61787553 & chr11:61554826-61555025 & . & +\\\\\n",
       "\\end{tabular}\n"
      ],
      "text/markdown": [
       "\n",
       "A tibble: 6 × 6\n",
       "\n",
       "| Chrom &lt;chr&gt; | Start &lt;dbl&gt; | End &lt;dbl&gt; | Name &lt;chr&gt; | Score &lt;chr&gt; | Strand &lt;chr&gt; |\n",
       "|---|---|---|---|---|---|\n",
       "| chr11 | 61787329 | 61787528 | chr11:61554801-61555000 | . | + |\n",
       "| chr11 | 61787334 | 61787533 | chr11:61554806-61555005 | . | + |\n",
       "| chr11 | 61787339 | 61787538 | chr11:61554811-61555010 | . | + |\n",
       "| chr11 | 61787344 | 61787543 | chr11:61554816-61555015 | . | + |\n",
       "| chr11 | 61787349 | 61787548 | chr11:61554821-61555020 | . | + |\n",
       "| chr11 | 61787354 | 61787553 | chr11:61554826-61555025 | . | + |\n",
       "\n"
      ],
      "text/plain": [
       "  Chrom Start    End      Name                    Score Strand\n",
       "1 chr11 61787329 61787528 chr11:61554801-61555000 .     +     \n",
       "2 chr11 61787334 61787533 chr11:61554806-61555005 .     +     \n",
       "3 chr11 61787339 61787538 chr11:61554811-61555010 .     +     \n",
       "4 chr11 61787344 61787543 chr11:61554816-61555015 .     +     \n",
       "5 chr11 61787349 61787548 chr11:61554821-61555020 .     +     \n",
       "6 chr11 61787354 61787553 chr11:61554826-61555025 .     +     "
      ]
     },
     "metadata": {},
     "output_type": "display_data"
    }
   ],
   "source": [
    "fdiry = file.path(FD_RES, \"results\", \"Tewhey_K562_TileMPRA\", \"fragment\")\n",
    "fname = \"OL13_20220512.hg38.raw.stranded_pos.bed\"\n",
    "fpath = file.path(fdiry, fname)\n",
    "\n",
    "cnames = c(\"Chrom\", \"Start\", \"End\", \"Name\", \"Score\", \"Strand\")\n",
    "dat = read_tsv(fpath, col_names = cnames, show_col_types = FALSE)\n",
    "\n",
    "dat_frag_tmpra_OL13 = dat\n",
    "print(dim(dat))\n",
    "head(dat)"
   ]
  },
  {
   "cell_type": "code",
   "execution_count": 20,
   "metadata": {},
   "outputs": [
    {
     "name": "stdout",
     "output_type": "stream",
     "text": [
      "[1] 96087     6\n"
     ]
    },
    {
     "data": {
      "text/html": [
       "<table class=\"dataframe\">\n",
       "<caption>A tibble: 6 × 6</caption>\n",
       "<thead>\n",
       "\t<tr><th scope=col>Chrom</th><th scope=col>Start</th><th scope=col>End</th><th scope=col>Name</th><th scope=col>Score</th><th scope=col>Strand</th></tr>\n",
       "\t<tr><th scope=col>&lt;chr&gt;</th><th scope=col>&lt;dbl&gt;</th><th scope=col>&lt;dbl&gt;</th><th scope=col>&lt;chr&gt;</th><th scope=col>&lt;chr&gt;</th><th scope=col>&lt;chr&gt;</th></tr>\n",
       "</thead>\n",
       "<tbody>\n",
       "\t<tr><td>chr8</td><td>126735901</td><td>126736100</td><td>chr8:126735901-126736100</td><td>.</td><td>+</td></tr>\n",
       "\t<tr><td>chr8</td><td>126735951</td><td>126736150</td><td>chr8:126735951-126736150</td><td>.</td><td>+</td></tr>\n",
       "\t<tr><td>chr8</td><td>126736001</td><td>126736200</td><td>chr8:126736001-126736200</td><td>.</td><td>+</td></tr>\n",
       "\t<tr><td>chr8</td><td>126736051</td><td>126736250</td><td>chr8:126736051-126736250</td><td>.</td><td>+</td></tr>\n",
       "\t<tr><td>chr8</td><td>126736101</td><td>126736300</td><td>chr8:126736101-126736300</td><td>.</td><td>+</td></tr>\n",
       "\t<tr><td>chr8</td><td>126736151</td><td>126736350</td><td>chr8:126736151-126736350</td><td>.</td><td>+</td></tr>\n",
       "</tbody>\n",
       "</table>\n"
      ],
      "text/latex": [
       "A tibble: 6 × 6\n",
       "\\begin{tabular}{llllll}\n",
       " Chrom & Start & End & Name & Score & Strand\\\\\n",
       " <chr> & <dbl> & <dbl> & <chr> & <chr> & <chr>\\\\\n",
       "\\hline\n",
       "\t chr8 & 126735901 & 126736100 & chr8:126735901-126736100 & . & +\\\\\n",
       "\t chr8 & 126735951 & 126736150 & chr8:126735951-126736150 & . & +\\\\\n",
       "\t chr8 & 126736001 & 126736200 & chr8:126736001-126736200 & . & +\\\\\n",
       "\t chr8 & 126736051 & 126736250 & chr8:126736051-126736250 & . & +\\\\\n",
       "\t chr8 & 126736101 & 126736300 & chr8:126736101-126736300 & . & +\\\\\n",
       "\t chr8 & 126736151 & 126736350 & chr8:126736151-126736350 & . & +\\\\\n",
       "\\end{tabular}\n"
      ],
      "text/markdown": [
       "\n",
       "A tibble: 6 × 6\n",
       "\n",
       "| Chrom &lt;chr&gt; | Start &lt;dbl&gt; | End &lt;dbl&gt; | Name &lt;chr&gt; | Score &lt;chr&gt; | Strand &lt;chr&gt; |\n",
       "|---|---|---|---|---|---|\n",
       "| chr8 | 126735901 | 126736100 | chr8:126735901-126736100 | . | + |\n",
       "| chr8 | 126735951 | 126736150 | chr8:126735951-126736150 | . | + |\n",
       "| chr8 | 126736001 | 126736200 | chr8:126736001-126736200 | . | + |\n",
       "| chr8 | 126736051 | 126736250 | chr8:126736051-126736250 | . | + |\n",
       "| chr8 | 126736101 | 126736300 | chr8:126736101-126736300 | . | + |\n",
       "| chr8 | 126736151 | 126736350 | chr8:126736151-126736350 | . | + |\n",
       "\n"
      ],
      "text/plain": [
       "  Chrom Start     End       Name                     Score Strand\n",
       "1 chr8  126735901 126736100 chr8:126735901-126736100 .     +     \n",
       "2 chr8  126735951 126736150 chr8:126735951-126736150 .     +     \n",
       "3 chr8  126736001 126736200 chr8:126736001-126736200 .     +     \n",
       "4 chr8  126736051 126736250 chr8:126736051-126736250 .     +     \n",
       "5 chr8  126736101 126736300 chr8:126736101-126736300 .     +     \n",
       "6 chr8  126736151 126736350 chr8:126736151-126736350 .     +     "
      ]
     },
     "metadata": {},
     "output_type": "display_data"
    }
   ],
   "source": [
    "fdiry = file.path(FD_RES, \"results\", \"Tewhey_K562_TileMPRA\", \"fragment\")\n",
    "fname = \"OL43_20221003.hg38.raw.stranded_pos.bed\"\n",
    "fpath = file.path(fdiry, fname)\n",
    "\n",
    "cnames = c(\"Chrom\", \"Start\", \"End\", \"Name\", \"Score\", \"Strand\")\n",
    "dat = read_tsv(fpath, col_names = cnames, show_col_types = FALSE)\n",
    "\n",
    "dat_frag_tmpra_OL43 = dat\n",
    "print(dim(dat))\n",
    "head(dat)"
   ]
  },
  {
   "cell_type": "code",
   "execution_count": 23,
   "metadata": {},
   "outputs": [
    {
     "name": "stdout",
     "output_type": "stream",
     "text": [
      "[1] 71200     6\n"
     ]
    },
    {
     "data": {
      "text/html": [
       "<table class=\"dataframe\">\n",
       "<caption>A tibble: 6 × 6</caption>\n",
       "<thead>\n",
       "\t<tr><th scope=col>Chrom</th><th scope=col>Start</th><th scope=col>End</th><th scope=col>Name</th><th scope=col>Score</th><th scope=col>Strand</th></tr>\n",
       "\t<tr><th scope=col>&lt;chr&gt;</th><th scope=col>&lt;dbl&gt;</th><th scope=col>&lt;dbl&gt;</th><th scope=col>&lt;chr&gt;</th><th scope=col>&lt;chr&gt;</th><th scope=col>&lt;chr&gt;</th></tr>\n",
       "</thead>\n",
       "<tbody>\n",
       "\t<tr><td>chr2</td><td>59553301</td><td>59553500</td><td>chr2:59553301-59553500</td><td>.</td><td>+</td></tr>\n",
       "\t<tr><td>chr2</td><td>59553401</td><td>59553600</td><td>chr2:59553401-59553600</td><td>.</td><td>+</td></tr>\n",
       "\t<tr><td>chr2</td><td>59553501</td><td>59553700</td><td>chr2:59553501-59553700</td><td>.</td><td>+</td></tr>\n",
       "\t<tr><td>chr2</td><td>59553601</td><td>59553800</td><td>chr2:59553601-59553800</td><td>.</td><td>+</td></tr>\n",
       "\t<tr><td>chr2</td><td>59553701</td><td>59553900</td><td>chr2:59553701-59553900</td><td>.</td><td>+</td></tr>\n",
       "\t<tr><td>chr2</td><td>59553801</td><td>59554000</td><td>chr2:59553801-59554000</td><td>.</td><td>+</td></tr>\n",
       "</tbody>\n",
       "</table>\n"
      ],
      "text/latex": [
       "A tibble: 6 × 6\n",
       "\\begin{tabular}{llllll}\n",
       " Chrom & Start & End & Name & Score & Strand\\\\\n",
       " <chr> & <dbl> & <dbl> & <chr> & <chr> & <chr>\\\\\n",
       "\\hline\n",
       "\t chr2 & 59553301 & 59553500 & chr2:59553301-59553500 & . & +\\\\\n",
       "\t chr2 & 59553401 & 59553600 & chr2:59553401-59553600 & . & +\\\\\n",
       "\t chr2 & 59553501 & 59553700 & chr2:59553501-59553700 & . & +\\\\\n",
       "\t chr2 & 59553601 & 59553800 & chr2:59553601-59553800 & . & +\\\\\n",
       "\t chr2 & 59553701 & 59553900 & chr2:59553701-59553900 & . & +\\\\\n",
       "\t chr2 & 59553801 & 59554000 & chr2:59553801-59554000 & . & +\\\\\n",
       "\\end{tabular}\n"
      ],
      "text/markdown": [
       "\n",
       "A tibble: 6 × 6\n",
       "\n",
       "| Chrom &lt;chr&gt; | Start &lt;dbl&gt; | End &lt;dbl&gt; | Name &lt;chr&gt; | Score &lt;chr&gt; | Strand &lt;chr&gt; |\n",
       "|---|---|---|---|---|---|\n",
       "| chr2 | 59553301 | 59553500 | chr2:59553301-59553500 | . | + |\n",
       "| chr2 | 59553401 | 59553600 | chr2:59553401-59553600 | . | + |\n",
       "| chr2 | 59553501 | 59553700 | chr2:59553501-59553700 | . | + |\n",
       "| chr2 | 59553601 | 59553800 | chr2:59553601-59553800 | . | + |\n",
       "| chr2 | 59553701 | 59553900 | chr2:59553701-59553900 | . | + |\n",
       "| chr2 | 59553801 | 59554000 | chr2:59553801-59554000 | . | + |\n",
       "\n"
      ],
      "text/plain": [
       "  Chrom Start    End      Name                   Score Strand\n",
       "1 chr2  59553301 59553500 chr2:59553301-59553500 .     +     \n",
       "2 chr2  59553401 59553600 chr2:59553401-59553600 .     +     \n",
       "3 chr2  59553501 59553700 chr2:59553501-59553700 .     +     \n",
       "4 chr2  59553601 59553800 chr2:59553601-59553800 .     +     \n",
       "5 chr2  59553701 59553900 chr2:59553701-59553900 .     +     \n",
       "6 chr2  59553801 59554000 chr2:59553801-59554000 .     +     "
      ]
     },
     "metadata": {},
     "output_type": "display_data"
    }
   ],
   "source": [
    "fdiry = file.path(FD_RES, \"results\", \"Tewhey_K562_TileMPRA\", \"fragment\")\n",
    "fname = \"OL45_20220927.hg38.raw.stranded_pos.bed\"\n",
    "fpath = file.path(fdiry, fname)\n",
    "\n",
    "cnames = c(\"Chrom\", \"Start\", \"End\", \"Name\", \"Score\", \"Strand\")\n",
    "dat = read_tsv(fpath, col_names = cnames, show_col_types = FALSE)\n",
    "\n",
    "dat_frag_tmpra_OL45 = dat\n",
    "print(dim(dat))\n",
    "head(dat)"
   ]
  },
  {
   "cell_type": "markdown",
   "metadata": {},
   "source": [
    "## Setup GRanges for each file"
   ]
  },
  {
   "cell_type": "code",
   "execution_count": 113,
   "metadata": {},
   "outputs": [],
   "source": [
    "dat = dat_frag_tmpra_OL13\n",
    "grg = GRanges(\n",
    "    seqnames = dat$Chrom,\n",
    "    ranges   = IRanges(\n",
    "        start = dat$Start, \n",
    "        end   = dat$End, \n",
    "        names = dat$Name\n",
    "    )) #,\n",
    "    #strand = dat$Strand,\n",
    "    #score  = dat$Score)\n",
    "\n",
    "grg_frag_tmpra_OL13 = grg"
   ]
  },
  {
   "cell_type": "code",
   "execution_count": 114,
   "metadata": {},
   "outputs": [],
   "source": [
    "dat = dat_frag_tmpra_OL43\n",
    "grg = GRanges(\n",
    "    seqnames = dat$Chrom,\n",
    "    ranges   = IRanges(\n",
    "        start = dat$Start, \n",
    "        end   = dat$End, \n",
    "        names = dat$Name\n",
    "    )) #,\n",
    "    #strand = dat$Strand,\n",
    "    #score  = dat$Score)\n",
    "\n",
    "grg_frag_tmpra_OL43 = grg"
   ]
  },
  {
   "cell_type": "code",
   "execution_count": 115,
   "metadata": {},
   "outputs": [],
   "source": [
    "dat = dat_frag_tmpra_OL45\n",
    "grg = GRanges(\n",
    "    seqnames = dat$Chrom,\n",
    "    ranges   = IRanges(\n",
    "        start = dat$Start, \n",
    "        end   = dat$End, \n",
    "        names = dat$Name\n",
    "    )) #,\n",
    "    #strand = dat$Strand,\n",
    "    #score  = dat$Score)\n",
    "\n",
    "grg_frag_tmpra_OL45 = grg"
   ]
  },
  {
   "cell_type": "markdown",
   "metadata": {},
   "source": [
    "## OL13 | FADS region"
   ]
  },
  {
   "cell_type": "code",
   "execution_count": 116,
   "metadata": {},
   "outputs": [
    {
     "data": {
      "text/plain": [
       "GRanges object with 21914 ranges and 0 metadata columns:\n",
       "                          seqnames            ranges strand\n",
       "                             <Rle>         <IRanges>  <Rle>\n",
       "  chr11:61554801-61555000    chr11 61787329-61787528      *\n",
       "  chr11:61554806-61555005    chr11 61787334-61787533      *\n",
       "  chr11:61554811-61555010    chr11 61787339-61787538      *\n",
       "  chr11:61554816-61555015    chr11 61787344-61787543      *\n",
       "  chr11:61554821-61555020    chr11 61787349-61787548      *\n",
       "                      ...      ...               ...    ...\n",
       "  chr11:61665601-61665800    chr11 61898129-61898328      *\n",
       "  chr11:61665606-61665805    chr11 61898134-61898333      *\n",
       "  chr11:61665611-61665810    chr11 61898139-61898338      *\n",
       "  chr11:61665616-61665815    chr11 61898144-61898343      *\n",
       "  chr11:61665621-61665820    chr11 61898149-61898348      *\n",
       "  -------\n",
       "  seqinfo: 1 sequence from an unspecified genome; no seqlengths"
      ]
     },
     "metadata": {},
     "output_type": "display_data"
    }
   ],
   "source": [
    "grg = grg_frag_tmpra_OL13\n",
    "grg"
   ]
  },
  {
   "cell_type": "code",
   "execution_count": 117,
   "metadata": {},
   "outputs": [
    {
     "name": "stdout",
     "output_type": "stream",
     "text": [
      "GRanges object with 1 range and 2 metadata columns:\n",
      "      seqnames            ranges strand |        Name       Score\n",
      "         <Rle>         <IRanges>  <Rle> | <character> <character>\n",
      "  [1]    chr11 61787329-61898348      * |        FADS           .\n",
      "  -------\n",
      "  seqinfo: 1 sequence from an unspecified genome; no seqlengths\n"
     ]
    }
   ],
   "source": [
    "grg = grg_frag_tmpra_OL13\n",
    "grg = GenomicRanges::reduce(grg)\n",
    "grg$Name  = \"FADS\"\n",
    "grg$Score = \".\"\n",
    "\n",
    "grg_fads  = grg\n",
    "print(grg)"
   ]
  },
  {
   "cell_type": "markdown",
   "metadata": {},
   "source": [
    "## OL43 | GATA-MYC region"
   ]
  },
  {
   "cell_type": "code",
   "execution_count": 118,
   "metadata": {},
   "outputs": [
    {
     "data": {
      "text/plain": [
       "GRanges object with 96087 ranges and 0 metadata columns:\n",
       "                           seqnames              ranges strand\n",
       "                              <Rle>           <IRanges>  <Rle>\n",
       "  chr8:126735901-126736100     chr8 126735901-126736100      *\n",
       "  chr8:126735951-126736150     chr8 126735951-126736150      *\n",
       "  chr8:126736001-126736200     chr8 126736001-126736200      *\n",
       "  chr8:126736051-126736250     chr8 126736051-126736250      *\n",
       "  chr8:126736101-126736300     chr8 126736101-126736300      *\n",
       "                       ...      ...                 ...    ...\n",
       "    chrX:49880251-49880450     chrX   49880251-49880450      *\n",
       "    chrX:49880301-49880500     chrX   49880301-49880500      *\n",
       "    chrX:49880351-49880550     chrX   49880351-49880550      *\n",
       "    chrX:49880401-49880600     chrX   49880401-49880600      *\n",
       "    chrX:49880451-49880650     chrX   49880451-49880650      *\n",
       "  -------\n",
       "  seqinfo: 2 sequences from an unspecified genome; no seqlengths"
      ]
     },
     "metadata": {},
     "output_type": "display_data"
    }
   ],
   "source": [
    "grg = grg_frag_tmpra_OL43\n",
    "grg"
   ]
  },
  {
   "cell_type": "code",
   "execution_count": 119,
   "metadata": {},
   "outputs": [
    {
     "data": {
      "text/plain": [
       "GRanges object with 7 ranges and 0 metadata columns:\n",
       "      seqnames              ranges strand\n",
       "         <Rle>           <IRanges>  <Rle>\n",
       "  [1]     chr8 126735901-127794350      *\n",
       "  [2]     chr8 127794451-128736550      *\n",
       "  [3]     chrX   47785501-48280750      *\n",
       "  [4]     chrX   48280801-48660600      *\n",
       "  [5]     chrX   48660651-48835550      *\n",
       "  [6]     chrX   48835701-49348350      *\n",
       "  [7]     chrX   49528401-49880650      *\n",
       "  -------\n",
       "  seqinfo: 2 sequences from an unspecified genome; no seqlengths"
      ]
     },
     "metadata": {},
     "output_type": "display_data"
    }
   ],
   "source": [
    "grg = grg_frag_tmpra_OL43\n",
    "grg = GenomicRanges::reduce(grg)\n",
    "grg"
   ]
  },
  {
   "cell_type": "code",
   "execution_count": 108,
   "metadata": {},
   "outputs": [
    {
     "data": {
      "text/plain": [
       "GRanges object with 2 ranges and 0 metadata columns:\n",
       "      seqnames              ranges strand\n",
       "         <Rle>           <IRanges>  <Rle>\n",
       "  [1]     chr8 126735901-128736550      +\n",
       "  [2]     chrX   47785501-49880650      +\n",
       "  -------\n",
       "  seqinfo: 2 sequences from an unspecified genome; no seqlengths"
      ]
     },
     "metadata": {},
     "output_type": "display_data"
    }
   ],
   "source": [
    "grg = grg_frag_tmpra_OL43\n",
    "grg = GenomicRanges::reduce(grg)\n",
    "grg = range(grg)\n",
    "grg \n",
    "grg"
   ]
  },
  {
   "cell_type": "code",
   "execution_count": null,
   "metadata": {},
   "outputs": [],
   "source": []
  },
  {
   "cell_type": "code",
   "execution_count": null,
   "metadata": {},
   "outputs": [],
   "source": []
  },
  {
   "cell_type": "code",
   "execution_count": 95,
   "metadata": {},
   "outputs": [
    {
     "name": "stdout",
     "output_type": "stream",
     "text": [
      "[1] 3\n"
     ]
    }
   ],
   "source": [
    "grg = grg_frag_tmpra_OL45\n",
    "grg = GenomicRanges::reduce(grg)\n",
    "lst = split(grg, grg@seqnames)\n",
    "print(length(lst))"
   ]
  },
  {
   "cell_type": "code",
   "execution_count": 89,
   "metadata": {},
   "outputs": [
    {
     "name": "stdout",
     "output_type": "stream",
     "text": [
      "GRanges object with 1 range and 0 metadata columns:\n",
      "      seqnames            ranges strand\n",
      "         <Rle>         <IRanges>  <Rle>\n",
      "  [1]     chr2 59553301-61553700      +\n",
      "  -------\n",
      "  seqinfo: 3 sequences from an unspecified genome; no seqlengths\n"
     ]
    }
   ],
   "source": [
    "grg = lst[[1]]\n",
    "print(range(grg))"
   ]
  },
  {
   "cell_type": "code",
   "execution_count": 92,
   "metadata": {},
   "outputs": [
    {
     "name": "stdout",
     "output_type": "stream",
     "text": [
      "GRanges object with 1 range and 0 metadata columns:\n",
      "      seqnames          ranges strand\n",
      "         <Rle>       <IRanges>  <Rle>\n",
      "  [1]    chr11 4505501-6505900      +\n",
      "  -------\n",
      "  seqinfo: 3 sequences from an unspecified genome; no seqlengths\n"
     ]
    }
   ],
   "source": [
    "grg = lst[[2]]\n",
    "idx = grg@ranges@start < 7000000\n",
    "grg = grg[which(idx)]\n",
    "print(range(grg))"
   ]
  },
  {
   "cell_type": "code",
   "execution_count": 93,
   "metadata": {},
   "outputs": [
    {
     "name": "stdout",
     "output_type": "stream",
     "text": [
      "GRanges object with 1 range and 0 metadata columns:\n",
      "      seqnames            ranges strand\n",
      "         <Rle>         <IRanges>  <Rle>\n",
      "  [1]    chr11 32869701-34870100      +\n",
      "  -------\n",
      "  seqinfo: 3 sequences from an unspecified genome; no seqlengths\n"
     ]
    }
   ],
   "source": [
    "grg = lst[[2]]\n",
    "idx = grg@ranges@start > 7000000\n",
    "grg = grg[which(idx)]\n",
    "print(range(grg))"
   ]
  },
  {
   "cell_type": "code",
   "execution_count": 94,
   "metadata": {},
   "outputs": [
    {
     "name": "stdout",
     "output_type": "stream",
     "text": [
      "GRanges object with 1 range and 0 metadata columns:\n",
      "      seqnames        ranges strand\n",
      "         <Rle>     <IRanges>  <Rle>\n",
      "  [1]    chr16 10001-1173100      +\n",
      "  -------\n",
      "  seqinfo: 3 sequences from an unspecified genome; no seqlengths\n"
     ]
    }
   ],
   "source": [
    "grg = lst[[3]]\n",
    "print(range(grg))"
   ]
  },
  {
   "cell_type": "code",
   "execution_count": null,
   "metadata": {},
   "outputs": [],
   "source": []
  },
  {
   "cell_type": "code",
   "execution_count": null,
   "metadata": {},
   "outputs": [],
   "source": []
  },
  {
   "cell_type": "code",
   "execution_count": 44,
   "metadata": {},
   "outputs": [
    {
     "data": {
      "text/html": [
       "<style>\n",
       ".list-inline {list-style: none; margin:0; padding: 0}\n",
       ".list-inline>li {display: inline-block}\n",
       ".list-inline>li:not(:last-child)::after {content: \"\\00b7\"; padding: 0 .5ex}\n",
       "</style>\n",
       "<ol class=list-inline><li>'seqnames'</li><li>'ranges'</li><li>'strand'</li><li>'seqinfo'</li><li>'elementMetadata'</li><li>'elementType'</li><li>'metadata'</li></ol>\n"
      ],
      "text/latex": [
       "\\begin{enumerate*}\n",
       "\\item 'seqnames'\n",
       "\\item 'ranges'\n",
       "\\item 'strand'\n",
       "\\item 'seqinfo'\n",
       "\\item 'elementMetadata'\n",
       "\\item 'elementType'\n",
       "\\item 'metadata'\n",
       "\\end{enumerate*}\n"
      ],
      "text/markdown": [
       "1. 'seqnames'\n",
       "2. 'ranges'\n",
       "3. 'strand'\n",
       "4. 'seqinfo'\n",
       "5. 'elementMetadata'\n",
       "6. 'elementType'\n",
       "7. 'metadata'\n",
       "\n",
       "\n"
      ],
      "text/plain": [
       "[1] \"seqnames\"        \"ranges\"          \"strand\"          \"seqinfo\"        \n",
       "[5] \"elementMetadata\" \"elementType\"     \"metadata\"       "
      ]
     },
     "metadata": {},
     "output_type": "display_data"
    }
   ],
   "source": [
    "slotNames(grg)"
   ]
  },
  {
   "cell_type": "code",
   "execution_count": 45,
   "metadata": {},
   "outputs": [
    {
     "data": {
      "text/plain": [
       "factor-Rle of length 87 with 3 runs\n",
       "  Lengths:    13    30    44\n",
       "  Values : chr2  chr11 chr16\n",
       "Levels(3): chr2 chr11 chr16"
      ]
     },
     "metadata": {},
     "output_type": "display_data"
    }
   ],
   "source": [
    "grg@seqnames"
   ]
  },
  {
   "cell_type": "code",
   "execution_count": 47,
   "metadata": {},
   "outputs": [],
   "source": [
    "grg = grg_frag_tmpra_OL45\n",
    "grg = GenomicRanges::reduce(grg)\n",
    "lst = split(grg, grg@seqnames)"
   ]
  },
  {
   "cell_type": "code",
   "execution_count": 88,
   "metadata": {},
   "outputs": [
    {
     "name": "stdout",
     "output_type": "stream",
     "text": [
      "GRanges object with 1 range and 0 metadata columns:\n",
      "      seqnames           ranges strand\n",
      "         <Rle>        <IRanges>  <Rle>\n",
      "  [1]    chr11 4505501-34870100      +\n",
      "  -------\n",
      "  seqinfo: 3 sequences from an unspecified genome; no seqlengths\n",
      "+++++++++++++++++++++++++\n",
      "GRanges object with 30 ranges and 0 metadata columns:\n",
      "       seqnames            ranges strand\n",
      "          <Rle>         <IRanges>  <Rle>\n",
      "   [1]    chr11   4505501-4926800      +\n",
      "   [2]    chr11   4926901-5005200      +\n",
      "   [3]    chr11   5005301-5010500      +\n",
      "   [4]    chr11   5010601-5433300      +\n",
      "   [5]    chr11   5433401-5596500      +\n",
      "   ...      ...               ...    ...\n",
      "  [26]    chr11 34037001-34046300      +\n",
      "  [27]    chr11 34046401-34209600      +\n",
      "  [28]    chr11 34209801-34687100      +\n",
      "  [29]    chr11 34687201-34743800      +\n",
      "  [30]    chr11 34743901-34870100      +\n",
      "  -------\n",
      "  seqinfo: 3 sequences from an unspecified genome; no seqlengths\n"
     ]
    }
   ],
   "source": [
    "grg = lst[[2]]\n",
    "print(range(grg))\n",
    "cat(\"+++++++++++++++++++++++++\\n\")\n",
    "print(grg)"
   ]
  },
  {
   "cell_type": "code",
   "execution_count": 72,
   "metadata": {},
   "outputs": [
    {
     "name": "stdout",
     "output_type": "stream",
     "text": [
      "GRanges object with 1 range and 0 metadata columns:\n",
      "      seqnames           ranges strand\n",
      "         <Rle>        <IRanges>  <Rle>\n",
      "  [1]    chr11 4505501-34870100      +\n",
      "  -------\n",
      "  seqinfo: 3 sequences from an unspecified genome; no seqlengths\n",
      "+++++++++++++++++++++++++\n"
     ]
    },
    {
     "data": {
      "text/plain": [
       "GRanges object with 12 ranges and 0 metadata columns:\n",
       "       seqnames          ranges strand\n",
       "          <Rle>       <IRanges>  <Rle>\n",
       "   [1]    chr11 4505501-4926800      +\n",
       "   [2]    chr11 4926901-5005200      +\n",
       "   [3]    chr11 5005301-5010500      +\n",
       "   [4]    chr11 5010601-5433300      +\n",
       "   [5]    chr11 5433401-5596500      +\n",
       "   ...      ...             ...    ...\n",
       "   [8]    chr11 5844301-6086900      +\n",
       "   [9]    chr11 6087001-6274700      +\n",
       "  [10]    chr11 6274801-6355800      +\n",
       "  [11]    chr11 6355901-6387200      +\n",
       "  [12]    chr11 6387301-6505900      +\n",
       "  -------\n",
       "  seqinfo: 3 sequences from an unspecified genome; no seqlengths"
      ]
     },
     "metadata": {},
     "output_type": "display_data"
    }
   ],
   "source": [
    "grg = lst[[2]]\n",
    "print(range(grg))\n",
    "cat(\"+++++++++++++++++++++++++\\n\")\n",
    "idx = grg@ranges@start < 7000000\n",
    "grg[which(idx)]"
   ]
  },
  {
   "cell_type": "code",
   "execution_count": 73,
   "metadata": {},
   "outputs": [
    {
     "name": "stdout",
     "output_type": "stream",
     "text": [
      "GRanges object with 1 range and 0 metadata columns:\n",
      "      seqnames           ranges strand\n",
      "         <Rle>        <IRanges>  <Rle>\n",
      "  [1]    chr11 4505501-34870100      +\n",
      "  -------\n",
      "  seqinfo: 3 sequences from an unspecified genome; no seqlengths\n",
      "+++++++++++++++++++++++++\n"
     ]
    },
    {
     "data": {
      "text/plain": [
       "GRanges object with 18 ranges and 0 metadata columns:\n",
       "       seqnames            ranges strand\n",
       "          <Rle>         <IRanges>  <Rle>\n",
       "   [1]    chr11 32869701-32893100      +\n",
       "   [2]    chr11 32893201-33163900      +\n",
       "   [3]    chr11 33164001-33257200      +\n",
       "   [4]    chr11 33257301-33376300      +\n",
       "   [5]    chr11 33376501-33422500      +\n",
       "   ...      ...               ...    ...\n",
       "  [14]    chr11 34037001-34046300      +\n",
       "  [15]    chr11 34046401-34209600      +\n",
       "  [16]    chr11 34209801-34687100      +\n",
       "  [17]    chr11 34687201-34743800      +\n",
       "  [18]    chr11 34743901-34870100      +\n",
       "  -------\n",
       "  seqinfo: 3 sequences from an unspecified genome; no seqlengths"
      ]
     },
     "metadata": {},
     "output_type": "display_data"
    }
   ],
   "source": [
    "grg = lst[[2]]\n",
    "print(range(grg))\n",
    "cat(\"+++++++++++++++++++++++++\\n\")\n",
    "idx = grg@ranges@start > 7000000\n",
    "grg[which(idx)]"
   ]
  },
  {
   "cell_type": "code",
   "execution_count": 54,
   "metadata": {},
   "outputs": [
    {
     "name": "stdout",
     "output_type": "stream",
     "text": [
      "GRanges object with 1 range and 0 metadata columns:\n",
      "      seqnames        ranges strand\n",
      "         <Rle>     <IRanges>  <Rle>\n",
      "  [1]    chr16 10001-1173100      +\n",
      "  -------\n",
      "  seqinfo: 3 sequences from an unspecified genome; no seqlengths\n",
      "+++++++++++++++++++++++++\n",
      "GRanges object with 44 ranges and 0 metadata columns:\n",
      "       seqnames          ranges strand\n",
      "          <Rle>       <IRanges>  <Rle>\n",
      "   [1]    chr16    10001-154100      +\n",
      "   [2]    chr16   154201-163400      +\n",
      "   [3]    chr16   163501-164700      +\n",
      "   [4]    chr16   165001-186100      +\n",
      "   [5]    chr16   187201-280600      +\n",
      "   ...      ...             ...    ...\n",
      "  [40]    chr16 1106701-1113900      +\n",
      "  [41]    chr16 1114101-1116900      +\n",
      "  [42]    chr16 1117001-1130800      +\n",
      "  [43]    chr16 1131001-1153000      +\n",
      "  [44]    chr16 1153501-1173100      +\n",
      "  -------\n",
      "  seqinfo: 3 sequences from an unspecified genome; no seqlengths\n"
     ]
    }
   ],
   "source": [
    "grg = lst[[3]]\n",
    "print(range(grg))\n",
    "cat(\"+++++++++++++++++++++++++\\n\")\n",
    "print(grg)"
   ]
  },
  {
   "cell_type": "code",
   "execution_count": null,
   "metadata": {},
   "outputs": [],
   "source": []
  },
  {
   "cell_type": "code",
   "execution_count": null,
   "metadata": {},
   "outputs": [],
   "source": []
  },
  {
   "cell_type": "code",
   "execution_count": null,
   "metadata": {},
   "outputs": [],
   "source": []
  },
  {
   "cell_type": "code",
   "execution_count": 57,
   "metadata": {},
   "outputs": [
    {
     "name": "stdout",
     "output_type": "stream",
     "text": [
      "[1] 247520      3\n"
     ]
    },
    {
     "data": {
      "text/html": [
       "<table class=\"dataframe\">\n",
       "<caption>A tibble: 6 × 3</caption>\n",
       "<thead>\n",
       "\t<tr><th scope=col>Chrom</th><th scope=col>Start</th><th scope=col>End</th></tr>\n",
       "\t<tr><th scope=col>&lt;chr&gt;</th><th scope=col>&lt;dbl&gt;</th><th scope=col>&lt;dbl&gt;</th></tr>\n",
       "</thead>\n",
       "<tbody>\n",
       "\t<tr><td>chr1</td><td>10015</td><td>10442</td></tr>\n",
       "\t<tr><td>chr1</td><td>14253</td><td>14645</td></tr>\n",
       "\t<tr><td>chr1</td><td>16015</td><td>16477</td></tr>\n",
       "\t<tr><td>chr1</td><td>17237</td><td>17772</td></tr>\n",
       "\t<tr><td>chr1</td><td>28903</td><td>29613</td></tr>\n",
       "\t<tr><td>chr1</td><td>30803</td><td>31072</td></tr>\n",
       "</tbody>\n",
       "</table>\n"
      ],
      "text/latex": [
       "A tibble: 6 × 3\n",
       "\\begin{tabular}{lll}\n",
       " Chrom & Start & End\\\\\n",
       " <chr> & <dbl> & <dbl>\\\\\n",
       "\\hline\n",
       "\t chr1 & 10015 & 10442\\\\\n",
       "\t chr1 & 14253 & 14645\\\\\n",
       "\t chr1 & 16015 & 16477\\\\\n",
       "\t chr1 & 17237 & 17772\\\\\n",
       "\t chr1 & 28903 & 29613\\\\\n",
       "\t chr1 & 30803 & 31072\\\\\n",
       "\\end{tabular}\n"
      ],
      "text/markdown": [
       "\n",
       "A tibble: 6 × 3\n",
       "\n",
       "| Chrom &lt;chr&gt; | Start &lt;dbl&gt; | End &lt;dbl&gt; |\n",
       "|---|---|---|\n",
       "| chr1 | 10015 | 10442 |\n",
       "| chr1 | 14253 | 14645 |\n",
       "| chr1 | 16015 | 16477 |\n",
       "| chr1 | 17237 | 17772 |\n",
       "| chr1 | 28903 | 29613 |\n",
       "| chr1 | 30803 | 31072 |\n",
       "\n"
      ],
      "text/plain": [
       "  Chrom Start End  \n",
       "1 chr1  10015 10442\n",
       "2 chr1  14253 14645\n",
       "3 chr1  16015 16477\n",
       "4 chr1  17237 17772\n",
       "5 chr1  28903 29613\n",
       "6 chr1  30803 31072"
      ]
     },
     "metadata": {},
     "output_type": "display_data"
    }
   ],
   "source": [
    "fdiry = file.path(FD_RES, \"region\", \"KS91_K562_ASTARRseq_peak_macs\")\n",
    "fname = \"KS91_K562_hg38_ASTARRseq_Input.all_reps.masked.union_narrowPeak.q5.bed\"\n",
    "fpath = file.path(fdiry, fname)\n",
    "\n",
    "cnames = c(\"Chrom\", \"Start\", \"End\")\n",
    "dat = read_tsv(fpath, col_names = cnames, show_col_types = FALSE)\n",
    "\n",
    "dat_peak_atac_wgs = dat %>% mutate(Peak = paste(Chrom, Start, End, sep=\"_\"))\n",
    "print(dim(dat))\n",
    "head(dat)"
   ]
  },
  {
   "cell_type": "code",
   "execution_count": 65,
   "metadata": {},
   "outputs": [
    {
     "data": {
      "text/plain": [
       "GRanges object with 247520 ranges and 0 metadata columns:\n",
       "           seqnames              ranges strand\n",
       "              <Rle>           <IRanges>  <Rle>\n",
       "       [1]     chr1         10015-10442      +\n",
       "       [2]     chr1         14253-14645      +\n",
       "       [3]     chr1         16015-16477      +\n",
       "       [4]     chr1         17237-17772      +\n",
       "       [5]     chr1         28903-29613      +\n",
       "       ...      ...                 ...    ...\n",
       "  [247516]     chrX 156009687-156010227      +\n",
       "  [247517]     chrX 156016391-156016836      +\n",
       "  [247518]     chrX 156024950-156025593      +\n",
       "  [247519]     chrX 156030187-156030740      +\n",
       "  [247520]     chrY   11215098-11215422      +\n",
       "  -------\n",
       "  seqinfo: 83 sequences from an unspecified genome; no seqlengths"
      ]
     },
     "metadata": {},
     "output_type": "display_data"
    }
   ],
   "source": [
    "dat = dat_peak_atac_wgs\n",
    "grg = GRanges(\n",
    "    seqnames = dat$Chrom,\n",
    "    ranges   = IRanges(\n",
    "        start = dat$Start, \n",
    "        end   = dat$End\n",
    "    ),\n",
    "    strand = \"+\"\n",
    ")\n",
    "\n",
    "grg_peak = grg\n",
    "grg"
   ]
  },
  {
   "cell_type": "code",
   "execution_count": 67,
   "metadata": {},
   "outputs": [
    {
     "name": "stdout",
     "output_type": "stream",
     "text": [
      "GRanges object with 1 range and 0 metadata columns:\n",
      "      seqnames           ranges strand\n",
      "         <Rle>        <IRanges>  <Rle>\n",
      "  [1]    chr11 4505501-34870100      +\n",
      "  -------\n",
      "  seqinfo: 3 sequences from an unspecified genome; no seqlengths\n"
     ]
    }
   ],
   "source": [
    "grg = lst[[2]]\n",
    "grg = range(grg)\n",
    "print(grg)"
   ]
  },
  {
   "cell_type": "code",
   "execution_count": 68,
   "metadata": {},
   "outputs": [
    {
     "data": {
      "text/plain": [
       "GRanges object with 2473 ranges and 0 metadata columns:\n",
       "         seqnames            ranges strand\n",
       "            <Rle>         <IRanges>  <Rle>\n",
       "     [1]    chr11   4539569-4540043      +\n",
       "     [2]    chr11   4551336-4552012      +\n",
       "     [3]    chr11   4553969-4555012      +\n",
       "     [4]    chr11   4569016-4569992      +\n",
       "     [5]    chr11   4577444-4578031      +\n",
       "     ...      ...               ...    ...\n",
       "  [2469]    chr11 34840294-34841204      +\n",
       "  [2470]    chr11 34850047-34850814      +\n",
       "  [2471]    chr11 34855682-34856135      +\n",
       "  [2472]    chr11 34867469-34867931      +\n",
       "  [2473]    chr11 34869259-34870036      +\n",
       "  -------\n",
       "  seqinfo: 83 sequences from an unspecified genome; no seqlengths"
      ]
     },
     "metadata": {},
     "output_type": "display_data"
    }
   ],
   "source": [
    "GenomicRanges::intersect(grg_peak, grg)"
   ]
  },
  {
   "cell_type": "code",
   "execution_count": null,
   "metadata": {},
   "outputs": [],
   "source": []
  },
  {
   "cell_type": "code",
   "execution_count": null,
   "metadata": {},
   "outputs": [],
   "source": []
  }
 ],
 "metadata": {
  "kernelspec": {
   "display_name": "R",
   "language": "R",
   "name": "ir"
  },
  "language_info": {
   "codemirror_mode": "r",
   "file_extension": ".r",
   "mimetype": "text/x-r-source",
   "name": "R",
   "pygments_lexer": "r",
   "version": "4.2.2"
  }
 },
 "nbformat": 4,
 "nbformat_minor": 4
}
