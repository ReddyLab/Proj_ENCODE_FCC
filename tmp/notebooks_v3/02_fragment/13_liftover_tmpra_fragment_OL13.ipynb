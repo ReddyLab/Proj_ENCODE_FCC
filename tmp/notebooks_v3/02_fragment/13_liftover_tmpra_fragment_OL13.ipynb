{
 "cells": [
  {
   "cell_type": "markdown",
   "metadata": {},
   "source": [
    "**Set environment**"
   ]
  },
  {
   "cell_type": "code",
   "execution_count": 1,
   "metadata": {},
   "outputs": [
    {
     "name": "stdout",
     "output_type": "stream",
     "text": [
      "You are on Duke Server: HARDAC\n",
      "BASE DIRECTORY:     /data/reddylab/Kuei\n",
      "WORK DIRECTORY:     /data/reddylab/Kuei/out\n",
      "CODE DIRECTORY:     /data/reddylab/Kuei/code\n",
      "SING DIRECTORY:     /data/reddylab/Kuei/singularity\n",
      "PATH OF SOURCE:     /data/reddylab/Kuei/source\n",
      "PATH OF EXECUTABLE: /data/reddylab/Kuei/bin\n",
      "PATH OF ANNOTATION: /data/reddylab/Kuei/annotation\n",
      "PATH OF PROJECT:    /data/reddylab/Kuei/code/Proj_CombEffect_ENCODE_FCC\n",
      "PATH OF RESULTS:    /data/reddylab/Kuei/out/proj_combeffect_encode_fcc\n",
      "\n"
     ]
    }
   ],
   "source": [
    "source ../config/config_duke.sh\n",
    "show_env"
   ]
  },
  {
   "cell_type": "markdown",
   "metadata": {},
   "source": [
    "**Check file paths**"
   ]
  },
  {
   "cell_type": "code",
   "execution_count": 2,
   "metadata": {},
   "outputs": [
    {
     "name": "stdout",
     "output_type": "stream",
     "text": [
      "OL13_20220512.hg19.raw.stranded_pos.bed\n"
     ]
    }
   ],
   "source": [
    "FDIRY=${FD_RES}/results/Tewhey_K562_TileMPRA/fragment\n",
    "FPATH=${FDIRY}/*hg19*\n",
    "basename ${FPATH}"
   ]
  },
  {
   "cell_type": "code",
   "execution_count": 3,
   "metadata": {},
   "outputs": [
    {
     "name": "stdout",
     "output_type": "stream",
     "text": [
      "OL13_20220512.hg19.norm.Input.mean.stranded_pos.bed\n",
      "OL13_20220512.hg19.norm.Input.rep1.stranded_pos.bed\n",
      "OL13_20220512.hg19.norm.Input.rep2.stranded_pos.bed\n",
      "OL13_20220512.hg19.norm.Input.rep3.stranded_pos.bed\n",
      "OL13_20220512.hg19.norm.Input.rep4.stranded_pos.bed\n",
      "OL13_20220512.hg19.norm.Log2FC.mean.stranded_pos.bed\n",
      "OL13_20220512.hg19.norm.Output.mean.stranded_pos.bed\n",
      "OL13_20220512.hg19.norm.Output.rep1.stranded_pos.bed\n",
      "OL13_20220512.hg19.norm.Output.rep2.stranded_pos.bed\n",
      "OL13_20220512.hg19.norm.Output.rep3.stranded_pos.bed\n",
      "OL13_20220512.hg19.norm.Output.rep4.stranded_pos.bed\n",
      "OL13_20220512.hg19.raw.Input.rep1.stranded_pos.bed\n",
      "OL13_20220512.hg19.raw.Input.rep2.stranded_pos.bed\n",
      "OL13_20220512.hg19.raw.Input.rep3.stranded_pos.bed\n",
      "OL13_20220512.hg19.raw.Input.rep4.stranded_pos.bed\n",
      "OL13_20220512.hg19.raw.Output.rep1.stranded_pos.bed\n",
      "OL13_20220512.hg19.raw.Output.rep2.stranded_pos.bed\n",
      "OL13_20220512.hg19.raw.Output.rep3.stranded_pos.bed\n",
      "OL13_20220512.hg19.raw.Output.rep4.stranded_pos.bed\n"
     ]
    }
   ],
   "source": [
    "FDIRY=${FD_RES}/results/Tewhey_K562_TileMPRA/fragment_count\n",
    "FPATHS=($(ls ${FDIRY}/*hg19*))\n",
    "basename -a ${FPATHS[@]}"
   ]
  },
  {
   "cell_type": "code",
   "execution_count": 4,
   "metadata": {},
   "outputs": [
    {
     "name": "stdout",
     "output_type": "stream",
     "text": [
      "OL13_20220512.hg19.norm.Input.mean.stranded_pos.bed\n",
      "OL13_20220512.hg38.norm.Input.mean.stranded_pos.bed\n",
      "==================\n",
      "OL13_20220512.hg19.norm.Input.rep1.stranded_pos.bed\n",
      "OL13_20220512.hg38.norm.Input.rep1.stranded_pos.bed\n",
      "==================\n",
      "OL13_20220512.hg19.norm.Input.rep2.stranded_pos.bed\n",
      "OL13_20220512.hg38.norm.Input.rep2.stranded_pos.bed\n",
      "==================\n",
      "OL13_20220512.hg19.norm.Input.rep3.stranded_pos.bed\n",
      "OL13_20220512.hg38.norm.Input.rep3.stranded_pos.bed\n",
      "==================\n",
      "OL13_20220512.hg19.norm.Input.rep4.stranded_pos.bed\n",
      "OL13_20220512.hg38.norm.Input.rep4.stranded_pos.bed\n",
      "==================\n",
      "OL13_20220512.hg19.norm.Log2FC.mean.stranded_pos.bed\n",
      "OL13_20220512.hg38.norm.Log2FC.mean.stranded_pos.bed\n",
      "==================\n",
      "OL13_20220512.hg19.norm.Output.mean.stranded_pos.bed\n",
      "OL13_20220512.hg38.norm.Output.mean.stranded_pos.bed\n",
      "==================\n",
      "OL13_20220512.hg19.norm.Output.rep1.stranded_pos.bed\n",
      "OL13_20220512.hg38.norm.Output.rep1.stranded_pos.bed\n",
      "==================\n",
      "OL13_20220512.hg19.norm.Output.rep2.stranded_pos.bed\n",
      "OL13_20220512.hg38.norm.Output.rep2.stranded_pos.bed\n",
      "==================\n",
      "OL13_20220512.hg19.norm.Output.rep3.stranded_pos.bed\n",
      "OL13_20220512.hg38.norm.Output.rep3.stranded_pos.bed\n",
      "==================\n",
      "OL13_20220512.hg19.norm.Output.rep4.stranded_pos.bed\n",
      "OL13_20220512.hg38.norm.Output.rep4.stranded_pos.bed\n",
      "==================\n",
      "OL13_20220512.hg19.raw.Input.rep1.stranded_pos.bed\n",
      "OL13_20220512.hg38.raw.Input.rep1.stranded_pos.bed\n",
      "==================\n",
      "OL13_20220512.hg19.raw.Input.rep2.stranded_pos.bed\n",
      "OL13_20220512.hg38.raw.Input.rep2.stranded_pos.bed\n",
      "==================\n",
      "OL13_20220512.hg19.raw.Input.rep3.stranded_pos.bed\n",
      "OL13_20220512.hg38.raw.Input.rep3.stranded_pos.bed\n",
      "==================\n",
      "OL13_20220512.hg19.raw.Input.rep4.stranded_pos.bed\n",
      "OL13_20220512.hg38.raw.Input.rep4.stranded_pos.bed\n",
      "==================\n",
      "OL13_20220512.hg19.raw.Output.rep1.stranded_pos.bed\n",
      "OL13_20220512.hg38.raw.Output.rep1.stranded_pos.bed\n",
      "==================\n",
      "OL13_20220512.hg19.raw.Output.rep2.stranded_pos.bed\n",
      "OL13_20220512.hg38.raw.Output.rep2.stranded_pos.bed\n",
      "==================\n",
      "OL13_20220512.hg19.raw.Output.rep3.stranded_pos.bed\n",
      "OL13_20220512.hg38.raw.Output.rep3.stranded_pos.bed\n",
      "==================\n",
      "OL13_20220512.hg19.raw.Output.rep4.stranded_pos.bed\n",
      "OL13_20220512.hg38.raw.Output.rep4.stranded_pos.bed\n",
      "==================\n"
     ]
    }
   ],
   "source": [
    "FDIRY=${FD_RES}/results/Tewhey_K562_TileMPRA/fragment_count\n",
    "FPATHS=($(ls ${FDIRY}/*hg19*))\n",
    "\n",
    "for FP_INP in ${FPATHS[@]}; do\n",
    "    FNAME=$(basename ${FP_INP})\n",
    "    echo ${FNAME}\n",
    "    echo ${FNAME/hg19/hg38}\n",
    "    echo ==================\n",
    "done"
   ]
  },
  {
   "cell_type": "markdown",
   "metadata": {},
   "source": [
    "## LiftOver from hg19 to hg38"
   ]
  },
  {
   "cell_type": "code",
   "execution_count": 5,
   "metadata": {},
   "outputs": [
    {
     "name": "stdout",
     "output_type": "stream",
     "text": [
      "\u001b[0m\u001b[38;5;34m/data/common/shared_conda_envs/ucsc/bin/liftOver\u001b[0m\n"
     ]
    }
   ],
   "source": [
    "ls /data/common/shared_conda_envs/ucsc/bin/liftOver"
   ]
  },
  {
   "cell_type": "code",
   "execution_count": 6,
   "metadata": {},
   "outputs": [
    {
     "name": "stdout",
     "output_type": "stream",
     "text": [
      "liftOver - Move annotations from one assembly to another\n",
      "usage:\n",
      "   liftOver oldFile map.chain newFile unMapped\n",
      "oldFile and newFile are in bed format by default, but can be in GFF and\n",
      "maybe eventually others with the appropriate flags below.\n",
      "The map.chain file has the old genome as the target and the new genome\n",
      "as the query.\n",
      "\n",
      "***********************************************************************\n",
      "WARNING: liftOver was only designed to work between different\n",
      "         assemblies of the same organism. It may not do what you want\n",
      "         if you are lifting between different organisms. If there has\n",
      "         been a rearrangement in one of the species, the size of the\n",
      "         region being mapped may change dramatically after mapping.\n",
      "***********************************************************************\n",
      "\n",
      "options:\n",
      "   -minMatch=0.N Minimum ratio of bases that must remap. Default 0.95\n",
      "   -gff  File is in gff/gtf format.  Note that the gff lines are converted\n",
      "         separately.  It would be good to have a separate check after this\n",
      "         that the lines that make up a gene model still make a plausible gene\n",
      "         after liftOver\n",
      "   -genePred - File is in genePred format\n",
      "   -sample - File is in sample format\n",
      "   -bedPlus=N - File is bed N+ format (i.e. first N fields conform to bed format)\n",
      "   -positions - File is in browser \"position\" format\n",
      "   -hasBin - File has bin value (used only with -bedPlus)\n",
      "   -tab - Separate by tabs rather than space (used only with -bedPlus)\n",
      "   -pslT - File is in psl format, map target side only\n",
      "   -ends=N - Lift the first and last N bases of each record and combine the\n",
      "             result. This is useful for lifting large regions like BAC end pairs.\n",
      "   -minBlocks=0.N Minimum ratio of alignment blocks or exons that must map\n",
      "                  (default 1.00)\n",
      "   -fudgeThick    (bed 12 or 12+ only) If thickStart/thickEnd is not mapped,\n",
      "                  use the closest mapped base.  Recommended if using \n",
      "                  -minBlocks.\n",
      "   -multiple               Allow multiple output regions\n",
      "   -noSerial               In -multiple mode, do not put a serial number in the 5th BED column\n",
      "   -minChainT, -minChainQ  Minimum chain size in target/query, when mapping\n",
      "                           to multiple output regions (default 0, 0)\n",
      "   -minSizeT               deprecated synonym for -minChainT (ENCODE compat.)\n",
      "   -minSizeQ               Min matching region size in query with -multiple.\n",
      "   -chainTable             Used with -multiple, format is db.tablename,\n",
      "                               to extend chains from net (preserves dups)\n",
      "   -errorHelp              Explain error messages\n",
      "\n"
     ]
    },
    {
     "ename": "",
     "evalue": "255",
     "output_type": "error",
     "traceback": []
    }
   ],
   "source": [
    "/data/common/shared_conda_envs/ucsc/bin/liftOver"
   ]
  },
  {
   "cell_type": "markdown",
   "metadata": {},
   "source": [
    "**LiftOver fragment**"
   ]
  },
  {
   "cell_type": "code",
   "execution_count": 7,
   "metadata": {},
   "outputs": [
    {
     "name": "stdout",
     "output_type": "stream",
     "text": [
      "OL13_20220512.hg19.raw.stranded_pos.bed\n",
      "OL13_20220512.hg38.raw.stranded_pos.bed\n",
      "OL13_20220512.unlifted.raw.stranded_pos.bed\n"
     ]
    }
   ],
   "source": [
    "FDIRY=${FD_RES}/results/Tewhey_K562_TileMPRA/fragment\n",
    "\n",
    "FP_INP=${FDIRY}/*hg19*\n",
    "FN_INP=$(basename ${FP_INP})\n",
    "\n",
    "FN_OUT_LIFTED=${FN_INP/hg19/hg38}\n",
    "FN_OUT_UNLIFT=${FN_INP/hg19/unlifted}\n",
    "\n",
    "echo ${FN_INP}\n",
    "echo ${FN_OUT_LIFTED}\n",
    "echo ${FN_OUT_UNLIFT}"
   ]
  },
  {
   "cell_type": "code",
   "execution_count": 8,
   "metadata": {},
   "outputs": [
    {
     "name": "stdout",
     "output_type": "stream",
     "text": [
      "Reading liftover chains\n",
      "Mapping coordinates\n"
     ]
    }
   ],
   "source": [
    "FDIRY=${FD_RES}/results/Tewhey_K562_TileMPRA/fragment\n",
    "\n",
    "FP_INP=${FDIRY}/*hg19*\n",
    "FN_INP=$(basename ${FP_INP})\n",
    "\n",
    "FN_OUT_LIFTED=${FN_INP/hg19/hg38}\n",
    "FN_OUT_UNLIFT=${FN_INP/hg19/unlifted}\n",
    "\n",
    "/data/common/shared_conda_envs/ucsc/bin/liftOver \\\n",
    "    -bedPlus=6 \\\n",
    "    ${FDIRY}/${FN_INP} \\\n",
    "    /data/reddylab/Reference_Data/Genomes/hg38/hg19ToHg38.over.chain \\\n",
    "    ${FDIRY}/${FN_OUT_LIFTED} \\\n",
    "    ${FDIRY}/${FN_OUT_UNLIFT}"
   ]
  },
  {
   "cell_type": "code",
   "execution_count": 9,
   "metadata": {},
   "outputs": [
    {
     "name": "stdout",
     "output_type": "stream",
     "text": [
      "21914 /data/reddylab/Kuei/out/proj_combeffect_encode_fcc/results/Tewhey_K562_TileMPRA/fragment/OL13_20220512.hg19.raw.stranded_pos.bed\n"
     ]
    }
   ],
   "source": [
    "wc -l ${FDIRY}/${FN_INP}"
   ]
  },
  {
   "cell_type": "code",
   "execution_count": 10,
   "metadata": {},
   "outputs": [
    {
     "name": "stdout",
     "output_type": "stream",
     "text": [
      "21914 /data/reddylab/Kuei/out/proj_combeffect_encode_fcc/results/Tewhey_K562_TileMPRA/fragment/OL13_20220512.hg38.raw.stranded_pos.bed\n"
     ]
    }
   ],
   "source": [
    "wc -l ${FDIRY}/${FN_OUT_LIFTED}"
   ]
  },
  {
   "cell_type": "code",
   "execution_count": 11,
   "metadata": {},
   "outputs": [
    {
     "name": "stdout",
     "output_type": "stream",
     "text": [
      "0 /data/reddylab/Kuei/out/proj_combeffect_encode_fcc/results/Tewhey_K562_TileMPRA/fragment/OL13_20220512.unlifted.raw.stranded_pos.bed\n"
     ]
    }
   ],
   "source": [
    "wc -l ${FDIRY}/${FN_OUT_UNLIFT}"
   ]
  },
  {
   "cell_type": "markdown",
   "metadata": {},
   "source": [
    "**LiftOver fragment count**"
   ]
  },
  {
   "cell_type": "code",
   "execution_count": 12,
   "metadata": {},
   "outputs": [
    {
     "name": "stdout",
     "output_type": "stream",
     "text": [
      "OL13_20220512.hg19.norm.Input.mean.stranded_pos.bed\n",
      "OL13_20220512.hg38.norm.Input.mean.stranded_pos.bed\n",
      "OL13_20220512.unlifted.norm.Input.mean.stranded_pos.bed\n",
      "==================\n",
      "OL13_20220512.hg19.norm.Input.rep1.stranded_pos.bed\n",
      "OL13_20220512.hg38.norm.Input.rep1.stranded_pos.bed\n",
      "OL13_20220512.unlifted.norm.Input.rep1.stranded_pos.bed\n",
      "==================\n",
      "OL13_20220512.hg19.norm.Input.rep2.stranded_pos.bed\n",
      "OL13_20220512.hg38.norm.Input.rep2.stranded_pos.bed\n",
      "OL13_20220512.unlifted.norm.Input.rep2.stranded_pos.bed\n",
      "==================\n",
      "OL13_20220512.hg19.norm.Input.rep3.stranded_pos.bed\n",
      "OL13_20220512.hg38.norm.Input.rep3.stranded_pos.bed\n",
      "OL13_20220512.unlifted.norm.Input.rep3.stranded_pos.bed\n",
      "==================\n",
      "OL13_20220512.hg19.norm.Input.rep4.stranded_pos.bed\n",
      "OL13_20220512.hg38.norm.Input.rep4.stranded_pos.bed\n",
      "OL13_20220512.unlifted.norm.Input.rep4.stranded_pos.bed\n",
      "==================\n",
      "OL13_20220512.hg19.norm.Log2FC.mean.stranded_pos.bed\n",
      "OL13_20220512.hg38.norm.Log2FC.mean.stranded_pos.bed\n",
      "OL13_20220512.unlifted.norm.Log2FC.mean.stranded_pos.bed\n",
      "==================\n",
      "OL13_20220512.hg19.norm.Output.mean.stranded_pos.bed\n",
      "OL13_20220512.hg38.norm.Output.mean.stranded_pos.bed\n",
      "OL13_20220512.unlifted.norm.Output.mean.stranded_pos.bed\n",
      "==================\n",
      "OL13_20220512.hg19.norm.Output.rep1.stranded_pos.bed\n",
      "OL13_20220512.hg38.norm.Output.rep1.stranded_pos.bed\n",
      "OL13_20220512.unlifted.norm.Output.rep1.stranded_pos.bed\n",
      "==================\n",
      "OL13_20220512.hg19.norm.Output.rep2.stranded_pos.bed\n",
      "OL13_20220512.hg38.norm.Output.rep2.stranded_pos.bed\n",
      "OL13_20220512.unlifted.norm.Output.rep2.stranded_pos.bed\n",
      "==================\n",
      "OL13_20220512.hg19.norm.Output.rep3.stranded_pos.bed\n",
      "OL13_20220512.hg38.norm.Output.rep3.stranded_pos.bed\n",
      "OL13_20220512.unlifted.norm.Output.rep3.stranded_pos.bed\n",
      "==================\n",
      "OL13_20220512.hg19.norm.Output.rep4.stranded_pos.bed\n",
      "OL13_20220512.hg38.norm.Output.rep4.stranded_pos.bed\n",
      "OL13_20220512.unlifted.norm.Output.rep4.stranded_pos.bed\n",
      "==================\n",
      "OL13_20220512.hg19.raw.Input.rep1.stranded_pos.bed\n",
      "OL13_20220512.hg38.raw.Input.rep1.stranded_pos.bed\n",
      "OL13_20220512.unlifted.raw.Input.rep1.stranded_pos.bed\n",
      "==================\n",
      "OL13_20220512.hg19.raw.Input.rep2.stranded_pos.bed\n",
      "OL13_20220512.hg38.raw.Input.rep2.stranded_pos.bed\n",
      "OL13_20220512.unlifted.raw.Input.rep2.stranded_pos.bed\n",
      "==================\n",
      "OL13_20220512.hg19.raw.Input.rep3.stranded_pos.bed\n",
      "OL13_20220512.hg38.raw.Input.rep3.stranded_pos.bed\n",
      "OL13_20220512.unlifted.raw.Input.rep3.stranded_pos.bed\n",
      "==================\n",
      "OL13_20220512.hg19.raw.Input.rep4.stranded_pos.bed\n",
      "OL13_20220512.hg38.raw.Input.rep4.stranded_pos.bed\n",
      "OL13_20220512.unlifted.raw.Input.rep4.stranded_pos.bed\n",
      "==================\n",
      "OL13_20220512.hg19.raw.Output.rep1.stranded_pos.bed\n",
      "OL13_20220512.hg38.raw.Output.rep1.stranded_pos.bed\n",
      "OL13_20220512.unlifted.raw.Output.rep1.stranded_pos.bed\n",
      "==================\n",
      "OL13_20220512.hg19.raw.Output.rep2.stranded_pos.bed\n",
      "OL13_20220512.hg38.raw.Output.rep2.stranded_pos.bed\n",
      "OL13_20220512.unlifted.raw.Output.rep2.stranded_pos.bed\n",
      "==================\n",
      "OL13_20220512.hg19.raw.Output.rep3.stranded_pos.bed\n",
      "OL13_20220512.hg38.raw.Output.rep3.stranded_pos.bed\n",
      "OL13_20220512.unlifted.raw.Output.rep3.stranded_pos.bed\n",
      "==================\n",
      "OL13_20220512.hg19.raw.Output.rep4.stranded_pos.bed\n",
      "OL13_20220512.hg38.raw.Output.rep4.stranded_pos.bed\n",
      "OL13_20220512.unlifted.raw.Output.rep4.stranded_pos.bed\n",
      "==================\n"
     ]
    }
   ],
   "source": [
    "FDIRY=${FD_RES}/results/Tewhey_K562_TileMPRA/fragment_count\n",
    "FPATHS=($(ls ${FDIRY}/*hg19*))\n",
    "\n",
    "for FP_INP in ${FPATHS[@]}; do\n",
    "    ###\n",
    "    FN_INP=$(basename ${FP_INP})\n",
    "    FN_OUT_LIFTED=${FN_INP/hg19/hg38}\n",
    "    FN_OUT_UNLIFT=${FN_INP/hg19/unlifted}\n",
    "    \n",
    "    ###\n",
    "    echo ${FN_INP}\n",
    "    echo ${FN_OUT_LIFTED}\n",
    "    echo ${FN_OUT_UNLIFT}\n",
    "    echo ==================\n",
    "done"
   ]
  },
  {
   "cell_type": "code",
   "execution_count": 14,
   "metadata": {},
   "outputs": [
    {
     "name": "stdout",
     "output_type": "stream",
     "text": [
      "Reading liftover chains\n",
      "Mapping coordinates\n",
      "\n",
      "21914 /data/reddylab/Kuei/out/proj_combeffect_encode_fcc/results/Tewhey_K562_TileMPRA/fragment_count/OL13_20220512.hg19.norm.Input.mean.stranded_pos.bed\n",
      "\n",
      "21914 /data/reddylab/Kuei/out/proj_combeffect_encode_fcc/results/Tewhey_K562_TileMPRA/fragment_count/OL13_20220512.hg38.norm.Input.mean.stranded_pos.bed\n",
      "\n",
      "0 /data/reddylab/Kuei/out/proj_combeffect_encode_fcc/results/Tewhey_K562_TileMPRA/fragment_count/OL13_20220512.unlifted.norm.Input.mean.stranded_pos.bed\n",
      "\n",
      "==================\n",
      "Reading liftover chains\n",
      "Mapping coordinates\n",
      "\n",
      "21914 /data/reddylab/Kuei/out/proj_combeffect_encode_fcc/results/Tewhey_K562_TileMPRA/fragment_count/OL13_20220512.hg19.norm.Input.rep1.stranded_pos.bed\n",
      "\n",
      "21914 /data/reddylab/Kuei/out/proj_combeffect_encode_fcc/results/Tewhey_K562_TileMPRA/fragment_count/OL13_20220512.hg38.norm.Input.rep1.stranded_pos.bed\n",
      "\n",
      "0 /data/reddylab/Kuei/out/proj_combeffect_encode_fcc/results/Tewhey_K562_TileMPRA/fragment_count/OL13_20220512.unlifted.norm.Input.rep1.stranded_pos.bed\n",
      "\n",
      "==================\n",
      "Reading liftover chains\n",
      "Mapping coordinates\n",
      "\n",
      "21914 /data/reddylab/Kuei/out/proj_combeffect_encode_fcc/results/Tewhey_K562_TileMPRA/fragment_count/OL13_20220512.hg19.norm.Input.rep2.stranded_pos.bed\n",
      "\n",
      "21914 /data/reddylab/Kuei/out/proj_combeffect_encode_fcc/results/Tewhey_K562_TileMPRA/fragment_count/OL13_20220512.hg38.norm.Input.rep2.stranded_pos.bed\n",
      "\n",
      "0 /data/reddylab/Kuei/out/proj_combeffect_encode_fcc/results/Tewhey_K562_TileMPRA/fragment_count/OL13_20220512.unlifted.norm.Input.rep2.stranded_pos.bed\n",
      "\n",
      "==================\n",
      "Reading liftover chains\n",
      "Mapping coordinates\n",
      "\n",
      "21914 /data/reddylab/Kuei/out/proj_combeffect_encode_fcc/results/Tewhey_K562_TileMPRA/fragment_count/OL13_20220512.hg19.norm.Input.rep3.stranded_pos.bed\n",
      "\n",
      "21914 /data/reddylab/Kuei/out/proj_combeffect_encode_fcc/results/Tewhey_K562_TileMPRA/fragment_count/OL13_20220512.hg38.norm.Input.rep3.stranded_pos.bed\n",
      "\n",
      "0 /data/reddylab/Kuei/out/proj_combeffect_encode_fcc/results/Tewhey_K562_TileMPRA/fragment_count/OL13_20220512.unlifted.norm.Input.rep3.stranded_pos.bed\n",
      "\n",
      "==================\n",
      "Reading liftover chains\n",
      "Mapping coordinates\n",
      "\n",
      "21914 /data/reddylab/Kuei/out/proj_combeffect_encode_fcc/results/Tewhey_K562_TileMPRA/fragment_count/OL13_20220512.hg19.norm.Input.rep4.stranded_pos.bed\n",
      "\n",
      "21914 /data/reddylab/Kuei/out/proj_combeffect_encode_fcc/results/Tewhey_K562_TileMPRA/fragment_count/OL13_20220512.hg38.norm.Input.rep4.stranded_pos.bed\n",
      "\n",
      "0 /data/reddylab/Kuei/out/proj_combeffect_encode_fcc/results/Tewhey_K562_TileMPRA/fragment_count/OL13_20220512.unlifted.norm.Input.rep4.stranded_pos.bed\n",
      "\n",
      "==================\n",
      "Reading liftover chains\n",
      "Mapping coordinates\n",
      "\n",
      "21757 /data/reddylab/Kuei/out/proj_combeffect_encode_fcc/results/Tewhey_K562_TileMPRA/fragment_count/OL13_20220512.hg19.norm.Log2FC.mean.stranded_pos.bed\n",
      "\n",
      "21757 /data/reddylab/Kuei/out/proj_combeffect_encode_fcc/results/Tewhey_K562_TileMPRA/fragment_count/OL13_20220512.hg38.norm.Log2FC.mean.stranded_pos.bed\n",
      "\n",
      "0 /data/reddylab/Kuei/out/proj_combeffect_encode_fcc/results/Tewhey_K562_TileMPRA/fragment_count/OL13_20220512.unlifted.norm.Log2FC.mean.stranded_pos.bed\n",
      "\n",
      "==================\n",
      "Reading liftover chains\n",
      "Mapping coordinates\n",
      "\n",
      "21914 /data/reddylab/Kuei/out/proj_combeffect_encode_fcc/results/Tewhey_K562_TileMPRA/fragment_count/OL13_20220512.hg19.norm.Output.mean.stranded_pos.bed\n",
      "\n",
      "21914 /data/reddylab/Kuei/out/proj_combeffect_encode_fcc/results/Tewhey_K562_TileMPRA/fragment_count/OL13_20220512.hg38.norm.Output.mean.stranded_pos.bed\n",
      "\n",
      "0 /data/reddylab/Kuei/out/proj_combeffect_encode_fcc/results/Tewhey_K562_TileMPRA/fragment_count/OL13_20220512.unlifted.norm.Output.mean.stranded_pos.bed\n",
      "\n",
      "==================\n",
      "Reading liftover chains\n",
      "Mapping coordinates\n",
      "\n",
      "21914 /data/reddylab/Kuei/out/proj_combeffect_encode_fcc/results/Tewhey_K562_TileMPRA/fragment_count/OL13_20220512.hg19.norm.Output.rep1.stranded_pos.bed\n",
      "\n",
      "21914 /data/reddylab/Kuei/out/proj_combeffect_encode_fcc/results/Tewhey_K562_TileMPRA/fragment_count/OL13_20220512.hg38.norm.Output.rep1.stranded_pos.bed\n",
      "\n",
      "0 /data/reddylab/Kuei/out/proj_combeffect_encode_fcc/results/Tewhey_K562_TileMPRA/fragment_count/OL13_20220512.unlifted.norm.Output.rep1.stranded_pos.bed\n",
      "\n",
      "==================\n",
      "Reading liftover chains\n",
      "Mapping coordinates\n",
      "\n",
      "21914 /data/reddylab/Kuei/out/proj_combeffect_encode_fcc/results/Tewhey_K562_TileMPRA/fragment_count/OL13_20220512.hg19.norm.Output.rep2.stranded_pos.bed\n",
      "\n",
      "21914 /data/reddylab/Kuei/out/proj_combeffect_encode_fcc/results/Tewhey_K562_TileMPRA/fragment_count/OL13_20220512.hg38.norm.Output.rep2.stranded_pos.bed\n",
      "\n",
      "0 /data/reddylab/Kuei/out/proj_combeffect_encode_fcc/results/Tewhey_K562_TileMPRA/fragment_count/OL13_20220512.unlifted.norm.Output.rep2.stranded_pos.bed\n",
      "\n",
      "==================\n",
      "Reading liftover chains\n",
      "Mapping coordinates\n",
      "\n",
      "21914 /data/reddylab/Kuei/out/proj_combeffect_encode_fcc/results/Tewhey_K562_TileMPRA/fragment_count/OL13_20220512.hg19.norm.Output.rep3.stranded_pos.bed\n",
      "\n",
      "21914 /data/reddylab/Kuei/out/proj_combeffect_encode_fcc/results/Tewhey_K562_TileMPRA/fragment_count/OL13_20220512.hg38.norm.Output.rep3.stranded_pos.bed\n",
      "\n",
      "0 /data/reddylab/Kuei/out/proj_combeffect_encode_fcc/results/Tewhey_K562_TileMPRA/fragment_count/OL13_20220512.unlifted.norm.Output.rep3.stranded_pos.bed\n",
      "\n",
      "==================\n",
      "Reading liftover chains\n",
      "Mapping coordinates\n",
      "\n",
      "21914 /data/reddylab/Kuei/out/proj_combeffect_encode_fcc/results/Tewhey_K562_TileMPRA/fragment_count/OL13_20220512.hg19.norm.Output.rep4.stranded_pos.bed\n",
      "\n",
      "21914 /data/reddylab/Kuei/out/proj_combeffect_encode_fcc/results/Tewhey_K562_TileMPRA/fragment_count/OL13_20220512.hg38.norm.Output.rep4.stranded_pos.bed\n",
      "\n",
      "0 /data/reddylab/Kuei/out/proj_combeffect_encode_fcc/results/Tewhey_K562_TileMPRA/fragment_count/OL13_20220512.unlifted.norm.Output.rep4.stranded_pos.bed\n",
      "\n",
      "==================\n",
      "Reading liftover chains\n",
      "Mapping coordinates\n",
      "\n",
      "21914 /data/reddylab/Kuei/out/proj_combeffect_encode_fcc/results/Tewhey_K562_TileMPRA/fragment_count/OL13_20220512.hg19.raw.Input.rep1.stranded_pos.bed\n",
      "\n",
      "21914 /data/reddylab/Kuei/out/proj_combeffect_encode_fcc/results/Tewhey_K562_TileMPRA/fragment_count/OL13_20220512.hg38.raw.Input.rep1.stranded_pos.bed\n",
      "\n",
      "0 /data/reddylab/Kuei/out/proj_combeffect_encode_fcc/results/Tewhey_K562_TileMPRA/fragment_count/OL13_20220512.unlifted.raw.Input.rep1.stranded_pos.bed\n",
      "\n",
      "==================\n",
      "Reading liftover chains\n",
      "Mapping coordinates\n",
      "\n",
      "21914 /data/reddylab/Kuei/out/proj_combeffect_encode_fcc/results/Tewhey_K562_TileMPRA/fragment_count/OL13_20220512.hg19.raw.Input.rep2.stranded_pos.bed\n",
      "\n",
      "21914 /data/reddylab/Kuei/out/proj_combeffect_encode_fcc/results/Tewhey_K562_TileMPRA/fragment_count/OL13_20220512.hg38.raw.Input.rep2.stranded_pos.bed\n",
      "\n",
      "0 /data/reddylab/Kuei/out/proj_combeffect_encode_fcc/results/Tewhey_K562_TileMPRA/fragment_count/OL13_20220512.unlifted.raw.Input.rep2.stranded_pos.bed\n",
      "\n",
      "==================\n",
      "Reading liftover chains\n",
      "Mapping coordinates\n",
      "\n",
      "21914 /data/reddylab/Kuei/out/proj_combeffect_encode_fcc/results/Tewhey_K562_TileMPRA/fragment_count/OL13_20220512.hg19.raw.Input.rep3.stranded_pos.bed\n",
      "\n",
      "21914 /data/reddylab/Kuei/out/proj_combeffect_encode_fcc/results/Tewhey_K562_TileMPRA/fragment_count/OL13_20220512.hg38.raw.Input.rep3.stranded_pos.bed\n",
      "\n",
      "0 /data/reddylab/Kuei/out/proj_combeffect_encode_fcc/results/Tewhey_K562_TileMPRA/fragment_count/OL13_20220512.unlifted.raw.Input.rep3.stranded_pos.bed\n",
      "\n",
      "==================\n",
      "Reading liftover chains\n",
      "Mapping coordinates\n",
      "\n",
      "21914 /data/reddylab/Kuei/out/proj_combeffect_encode_fcc/results/Tewhey_K562_TileMPRA/fragment_count/OL13_20220512.hg19.raw.Input.rep4.stranded_pos.bed\n",
      "\n",
      "21914 /data/reddylab/Kuei/out/proj_combeffect_encode_fcc/results/Tewhey_K562_TileMPRA/fragment_count/OL13_20220512.hg38.raw.Input.rep4.stranded_pos.bed\n",
      "\n",
      "0 /data/reddylab/Kuei/out/proj_combeffect_encode_fcc/results/Tewhey_K562_TileMPRA/fragment_count/OL13_20220512.unlifted.raw.Input.rep4.stranded_pos.bed\n",
      "\n",
      "==================\n",
      "Reading liftover chains\n",
      "Mapping coordinates\n",
      "\n",
      "21914 /data/reddylab/Kuei/out/proj_combeffect_encode_fcc/results/Tewhey_K562_TileMPRA/fragment_count/OL13_20220512.hg19.raw.Output.rep1.stranded_pos.bed\n",
      "\n",
      "21914 /data/reddylab/Kuei/out/proj_combeffect_encode_fcc/results/Tewhey_K562_TileMPRA/fragment_count/OL13_20220512.hg38.raw.Output.rep1.stranded_pos.bed\n",
      "\n",
      "0 /data/reddylab/Kuei/out/proj_combeffect_encode_fcc/results/Tewhey_K562_TileMPRA/fragment_count/OL13_20220512.unlifted.raw.Output.rep1.stranded_pos.bed\n",
      "\n",
      "==================\n",
      "Reading liftover chains\n",
      "Mapping coordinates\n",
      "\n",
      "21914 /data/reddylab/Kuei/out/proj_combeffect_encode_fcc/results/Tewhey_K562_TileMPRA/fragment_count/OL13_20220512.hg19.raw.Output.rep2.stranded_pos.bed\n",
      "\n",
      "21914 /data/reddylab/Kuei/out/proj_combeffect_encode_fcc/results/Tewhey_K562_TileMPRA/fragment_count/OL13_20220512.hg38.raw.Output.rep2.stranded_pos.bed\n",
      "\n",
      "0 /data/reddylab/Kuei/out/proj_combeffect_encode_fcc/results/Tewhey_K562_TileMPRA/fragment_count/OL13_20220512.unlifted.raw.Output.rep2.stranded_pos.bed\n",
      "\n",
      "==================\n",
      "Reading liftover chains\n",
      "Mapping coordinates\n",
      "\n",
      "21914 /data/reddylab/Kuei/out/proj_combeffect_encode_fcc/results/Tewhey_K562_TileMPRA/fragment_count/OL13_20220512.hg19.raw.Output.rep3.stranded_pos.bed\n",
      "\n",
      "21914 /data/reddylab/Kuei/out/proj_combeffect_encode_fcc/results/Tewhey_K562_TileMPRA/fragment_count/OL13_20220512.hg38.raw.Output.rep3.stranded_pos.bed\n",
      "\n",
      "0 /data/reddylab/Kuei/out/proj_combeffect_encode_fcc/results/Tewhey_K562_TileMPRA/fragment_count/OL13_20220512.unlifted.raw.Output.rep3.stranded_pos.bed\n",
      "\n",
      "==================\n",
      "Reading liftover chains\n",
      "Mapping coordinates\n",
      "\n",
      "21914 /data/reddylab/Kuei/out/proj_combeffect_encode_fcc/results/Tewhey_K562_TileMPRA/fragment_count/OL13_20220512.hg19.raw.Output.rep4.stranded_pos.bed\n",
      "\n",
      "21914 /data/reddylab/Kuei/out/proj_combeffect_encode_fcc/results/Tewhey_K562_TileMPRA/fragment_count/OL13_20220512.hg38.raw.Output.rep4.stranded_pos.bed\n",
      "\n",
      "0 /data/reddylab/Kuei/out/proj_combeffect_encode_fcc/results/Tewhey_K562_TileMPRA/fragment_count/OL13_20220512.unlifted.raw.Output.rep4.stranded_pos.bed\n",
      "\n",
      "==================\n"
     ]
    }
   ],
   "source": [
    "FDIRY=${FD_RES}/results/Tewhey_K562_TileMPRA/fragment_count\n",
    "FPATHS=($(ls ${FDIRY}/*hg19*))\n",
    "\n",
    "for FP_INP in ${FPATHS[@]}; do\n",
    "    ### setup\n",
    "    FN_INP=$(basename ${FP_INP})\n",
    "    FN_OUT_LIFTED=${FN_INP/hg19/hg38}\n",
    "    FN_OUT_UNLIFT=${FN_INP/hg19/unlifted}\n",
    "    \n",
    "    ### liftover\n",
    "    /data/common/shared_conda_envs/ucsc/bin/liftOver \\\n",
    "        -bedPlus=6 \\\n",
    "        ${FDIRY}/${FN_INP} \\\n",
    "        /data/reddylab/Reference_Data/Genomes/hg38/hg19ToHg38.over.chain \\\n",
    "        ${FDIRY}/${FN_OUT_LIFTED} \\\n",
    "        ${FDIRY}/${FN_OUT_UNLIFT}\n",
    "        \n",
    "    ### show\n",
    "    echo\n",
    "    wc -l ${FDIRY}/${FN_INP}\n",
    "    echo\n",
    "    wc -l ${FDIRY}/${FN_OUT_LIFTED}\n",
    "    echo\n",
    "    wc -l ${FDIRY}/${FN_OUT_UNLIFT}\n",
    "    echo\n",
    "    echo ==================\n",
    "done"
   ]
  },
  {
   "cell_type": "code",
   "execution_count": null,
   "metadata": {},
   "outputs": [],
   "source": []
  }
 ],
 "metadata": {
  "kernelspec": {
   "display_name": "Bash",
   "language": "bash",
   "name": "bash"
  },
  "language_info": {
   "codemirror_mode": "shell",
   "file_extension": ".sh",
   "mimetype": "text/x-sh",
   "name": "bash"
  }
 },
 "nbformat": 4,
 "nbformat_minor": 4
}
