{
 "cells": [
  {
   "cell_type": "code",
   "execution_count": 1,
   "id": "c68f3bdf-7147-431e-8695-76329ad01fed",
   "metadata": {},
   "outputs": [
    {
     "name": "stdout",
     "output_type": "stream",
     "text": [
      "You are on Duke Server: HARDAC\n",
      "BASE DIRECTORY:     /data/reddylab/Kuei\n",
      "WORK DIRECTORY:     /data/reddylab/Kuei/out\n",
      "CODE DIRECTORY:     /data/reddylab/Kuei/code\n",
      "SING DIRECTORY:     /data/reddylab/Kuei/singularity\n",
      "PATH OF SOURCE:     /data/reddylab/Kuei/source\n",
      "PATH OF EXECUTABLE: /data/reddylab/Kuei/bin\n",
      "PATH OF ANNOTATION: /data/reddylab/Kuei/annotation\n",
      "PATH OF PROJECT:    /data/reddylab/Kuei/code/Proj_CombEffect_ENCODE_FCC\n",
      "PATH OF RESULTS:    /data/reddylab/Kuei/out/proj_combeffect_encode_fcc\n",
      "\n"
     ]
    }
   ],
   "source": [
    "source ../config/config_duke.sh\n",
    "source ../config/config_load_module_bedops.sh\n",
    "show_env"
   ]
  },
  {
   "cell_type": "code",
   "execution_count": 2,
   "id": "1bf2e60f-4bd7-424f-9c69-6879bc270144",
   "metadata": {},
   "outputs": [],
   "source": [
    "FD_UCSC=/data/common/shared_conda_envs/ucsc/bin"
   ]
  },
  {
   "cell_type": "code",
   "execution_count": 7,
   "id": "ee18275a-f668-4e4f-a911-c251401156d9",
   "metadata": {},
   "outputs": [
    {
     "name": "stdout",
     "output_type": "stream",
     "text": [
      "bigWigToWig - Convert bigWig to wig.  This will keep more of the same structure of the\n",
      "original wig than bigWigToBedGraph does, but still will break up large stepped sections\n",
      "into smaller ones.\n",
      "usage:\n",
      "   bigWigToWig in.bigWig out.wig\n",
      "options:\n",
      "   -chrom=chr1 - if set restrict output to given chromosome\n",
      "   -start=N - if set, restrict output to only that over start\n",
      "   -end=N - if set, restict output to only that under end\n",
      "   -udcDir=/dir/to/cache - place to put cache for remote bigBed/bigWigs\n",
      "\n"
     ]
    },
    {
     "ename": "",
     "evalue": "255",
     "output_type": "error",
     "traceback": []
    }
   ],
   "source": [
    "${FD_UCSC}/bigWigToWig"
   ]
  },
  {
   "cell_type": "code",
   "execution_count": 9,
   "id": "3ff8defc-53b6-477f-899d-9bbf40e7a8bd",
   "metadata": {},
   "outputs": [
    {
     "name": "stdout",
     "output_type": "stream",
     "text": [
      "Error: No input is specified; please redirect or pipe in formatted data\n",
      "convert2bed\n",
      "  version:  2.4.35\n",
      "  author:   Alex Reynolds\n",
      "\n",
      "  Usage:\n",
      "\n",
      "  $ convert2bed --input=fmt [--output=fmt] [options] < input > output\n",
      "\n",
      "  Convert BAM, GFF, GTF, GVF, PSL, RepeatMasker (OUT), SAM, VCF\n",
      "  and WIG genomic formats to BED or BEDOPS Starch (compressed BED)\n",
      "\n",
      "  Input can be a regular file or standard input piped in using the\n",
      "  hyphen character ('-'):\n",
      "\n",
      "  $ some_upstream_process ... | convert2bed --input=fmt - > output\n",
      "\n",
      "  Input (required):\n",
      "\n",
      "  --input=[bam|gff|gtf|gvf|psl|rmsk|sam|vcf|wig] (-i <fmt>)\n",
      "      Genomic format of input file (required)\n",
      "\n",
      "  Output:\n",
      "\n",
      "  --output=[bed|starch] (-o <fmt>)\n",
      "      Format of output file, either BED or BEDOPS Starch (optional, default is BED)\n",
      "\n",
      "  Other processing options:\n",
      "\n",
      "  --do-not-sort (-d)\n",
      "      Do not sort BED output with sort-bed (not compatible with --output=starch)\n",
      "  --max-mem=<value> (-m <val>)\n",
      "      Sets aside <value> memory for sorting BED output. For example, <value> can\n",
      "      be 8G, 8000M or 8000000000 to specify 8 GB of memory (default is 2G)\n",
      "  --sort-tmpdir=<dir> (-r <dir>)\n",
      "      Optionally sets [dir] as temporary directory for sort data, when used in\n",
      "      conjunction with --max-mem=[value], instead of the host's operating system\n",
      "      default temporary directory\n",
      "  --starch-bzip2 (-z)\n",
      "      Used with --output=starch, the compressed output explicitly applies the bzip2\n",
      "      algorithm to compress intermediate data (default is bzip2)\n",
      "  --starch-gzip (-g)\n",
      "      Used with --output=starch, the compressed output applies gzip compression on\n",
      "      intermediate data\n",
      "  --starch-note=\"xyz...\" (-e \"xyz...\")\n",
      "      Used with --output=starch, this adds a note to the Starch archive metadata\n",
      "  --help | --help[-bam|-gff|-gtf|-gvf|-psl|-rmsk|-sam|-vcf|-wig] (-h | -h <fmt>)\n",
      "      Show general help message (or detailed help for a specified input format)\n",
      "  --version (-w)\n",
      "      Show application version\n",
      "\n"
     ]
    },
    {
     "ename": "",
     "evalue": "61",
     "output_type": "error",
     "traceback": []
    }
   ],
   "source": [
    "wig2bed"
   ]
  },
  {
   "cell_type": "code",
   "execution_count": 6,
   "id": "f5fd17bc-f10d-49ee-af78-2dd80cffcb2c",
   "metadata": {},
   "outputs": [
    {
     "name": "stdout",
     "output_type": "stream",
     "text": [
      "\u001b[0m\u001b[38;5;27mA001_K562_WSTARRseq\u001b[0m  \u001b[38;5;27mCRISPR\u001b[0m               \u001b[38;5;27mTewhey_K562_TileMPRA\u001b[0m\n",
      "\u001b[38;5;27mcomparison\u001b[0m           \u001b[38;5;27mKS91_K562_ASTARRseq\u001b[0m\n"
     ]
    }
   ],
   "source": [
    "ls ${FD_RES}/results"
   ]
  },
  {
   "cell_type": "code",
   "execution_count": 10,
   "id": "f7ce2105-e68d-48f5-8846-58dea62d21f9",
   "metadata": {},
   "outputs": [],
   "source": [
    "FD_INP=${FD_RES}/source/CRISPR\n",
    "FD_OUT=${FD_RES}/results/CRISPR"
   ]
  },
  {
   "cell_type": "code",
   "execution_count": 12,
   "id": "0f2148f0-9124-4430-a35d-6fa4d99c0ba6",
   "metadata": {},
   "outputs": [
    {
     "name": "stdout",
     "output_type": "stream",
     "text": [
      "/data/reddylab/Kuei/out/proj_combeffect_encode_fcc/source/CRISPR/CAPRIN1_HCRFF_rAVG.log2FC_2.bw\n",
      "/data/reddylab/Kuei/out/proj_combeffect_encode_fcc/source/CRISPR/CAT_HCRFF_rAVG.log2FC_2.bw\n",
      "/data/reddylab/Kuei/out/proj_combeffect_encode_fcc/source/CRISPR/CD164_HCRFF_rAVG.log2FC_2.bw\n",
      "/data/reddylab/Kuei/out/proj_combeffect_encode_fcc/source/CRISPR/CRISPRi_rAVG_log2FC_2.bw\n",
      "/data/reddylab/Kuei/out/proj_combeffect_encode_fcc/source/CRISPR/ERP29_HCRFF_rAVG.log2FC_2.bw\n",
      "/data/reddylab/Kuei/out/proj_combeffect_encode_fcc/source/CRISPR/FADS1_HCRFF_rAVG.log2FC_2.bw\n",
      "/data/reddylab/Kuei/out/proj_combeffect_encode_fcc/source/CRISPR/FADS2_HCRFF_rAVG.log2FC_2.bw\n",
      "/data/reddylab/Kuei/out/proj_combeffect_encode_fcc/source/CRISPR/FADS3_HCRFF_rAVG.log2FC_2.bw\n",
      "/data/reddylab/Kuei/out/proj_combeffect_encode_fcc/source/CRISPR/FEN1_FADS123_MPRA_tiling.Z_bp.bw\n",
      "/data/reddylab/Kuei/out/proj_combeffect_encode_fcc/source/CRISPR/FEN1_HCRFF_rAVG.log2FC_2.bw\n",
      "/data/reddylab/Kuei/out/proj_combeffect_encode_fcc/source/CRISPR/GATA1_HCRFF_rAVG.log2FC_2.bw\n",
      "/data/reddylab/Kuei/out/proj_combeffect_encode_fcc/source/CRISPR/GATA-MYC_Tile_K562_K562_20210130.hg38.Z_bp.bw\n",
      "/data/reddylab/Kuei/out/proj_combeffect_encode_fcc/source/CRISPR/HBE1_HCRFF_rAVG.log2FC_2.bw\n",
      "/data/reddylab/Kuei/out/proj_combeffect_encode_fcc/source/CRISPR/HBG1_HCRFF_rAVG.log2FC_2.bw\n",
      "/data/reddylab/Kuei/out/proj_combeffect_encode_fcc/source/CRISPR/HBG2_HCRFF_rAVG.log2FC_2.bw\n",
      "/data/reddylab/Kuei/out/proj_combeffect_encode_fcc/source/CRISPR/HBS1L_HCRFF_rAVG.log2FC_2.bw\n",
      "/data/reddylab/Kuei/out/proj_combeffect_encode_fcc/source/CRISPR/HDAC6_HCRFF_rAVG.log2FC_2.bw\n",
      "/data/reddylab/Kuei/out/proj_combeffect_encode_fcc/source/CRISPR/KS91_K562_bs5_log2ratio.bw\n",
      "/data/reddylab/Kuei/out/proj_combeffect_encode_fcc/source/CRISPR/LMO2_HCRFF_rAVG.log2FC_2.bw\n",
      "/data/reddylab/Kuei/out/proj_combeffect_encode_fcc/source/CRISPR/MEF2C_HCRFF_rAVG.log2FC_2.bw\n",
      "/data/reddylab/Kuei/out/proj_combeffect_encode_fcc/source/CRISPR/MYB_HCRFF_rAVG.log2FC_2.bw\n",
      "/data/reddylab/Kuei/out/proj_combeffect_encode_fcc/source/CRISPR/MYC_HCRFF_rAVG.log2FC_2.bw\n",
      "/data/reddylab/Kuei/out/proj_combeffect_encode_fcc/source/CRISPR/nadav_K562_MPRA_log2FC_Z_bp.bw\n",
      "/data/reddylab/Kuei/out/proj_combeffect_encode_fcc/source/CRISPR/NMU_HCRFF_rAVG.log2FC_2.bw\n",
      "/data/reddylab/Kuei/out/proj_combeffect_encode_fcc/source/CRISPR/OL45_K562_20220628.Z_bp.bw\n",
      "/data/reddylab/Kuei/out/proj_combeffect_encode_fcc/source/CRISPR/PVT1_HCRFF_rAVG.log2FC_2.bw\n"
     ]
    }
   ],
   "source": [
    "ls ${FD_INP}/*bw"
   ]
  },
  {
   "cell_type": "code",
   "execution_count": 14,
   "id": "4fbc0015-4453-4ce3-a13a-39656619cf8e",
   "metadata": {},
   "outputs": [
    {
     "name": "stdout",
     "output_type": "stream",
     "text": [
      "CAPRIN1_HCRFF_rAVG.log2FC_2.bw\n",
      "CAT_HCRFF_rAVG.log2FC_2.bw\n",
      "CD164_HCRFF_rAVG.log2FC_2.bw\n",
      "ERP29_HCRFF_rAVG.log2FC_2.bw\n",
      "FADS1_HCRFF_rAVG.log2FC_2.bw\n",
      "FADS2_HCRFF_rAVG.log2FC_2.bw\n",
      "FADS3_HCRFF_rAVG.log2FC_2.bw\n",
      "FEN1_HCRFF_rAVG.log2FC_2.bw\n",
      "GATA1_HCRFF_rAVG.log2FC_2.bw\n",
      "HBE1_HCRFF_rAVG.log2FC_2.bw\n",
      "HBG1_HCRFF_rAVG.log2FC_2.bw\n",
      "HBG2_HCRFF_rAVG.log2FC_2.bw\n",
      "HBS1L_HCRFF_rAVG.log2FC_2.bw\n",
      "HDAC6_HCRFF_rAVG.log2FC_2.bw\n",
      "LMO2_HCRFF_rAVG.log2FC_2.bw\n",
      "MEF2C_HCRFF_rAVG.log2FC_2.bw\n",
      "MYB_HCRFF_rAVG.log2FC_2.bw\n",
      "MYC_HCRFF_rAVG.log2FC_2.bw\n",
      "NMU_HCRFF_rAVG.log2FC_2.bw\n",
      "PVT1_HCRFF_rAVG.log2FC_2.bw\n"
     ]
    }
   ],
   "source": [
    "FP_INPS=$(ls ${FD_INP}/*HCRFF*bw)\n",
    "basename -a ${FP_INPS}"
   ]
  },
  {
   "cell_type": "code",
   "execution_count": 23,
   "id": "1c2f90fe-9083-46b3-81f1-01fa24f62089",
   "metadata": {
    "collapsed": true,
    "jupyter": {
     "outputs_hidden": true
    },
    "tags": []
   },
   "outputs": [
    {
     "name": "stdout",
     "output_type": "stream",
     "text": [
      "+++++++++++++++++++++++\n",
      "CAPRIN1_HCRFF_rAVG.log2FC_2.bw\n",
      "CAPRIN1_HCRFF_rAVG.log2FC_2\n",
      "CAPRIN1_HCRFF_rAVG.log2FC_2.wig\n",
      "CAPRIN1_HCRFF_rAVG.log2FC_2.bed\n",
      "\n",
      "+++++++++++++++++++++++\n",
      "CAT_HCRFF_rAVG.log2FC_2.bw\n",
      "CAT_HCRFF_rAVG.log2FC_2\n",
      "CAT_HCRFF_rAVG.log2FC_2.wig\n",
      "CAT_HCRFF_rAVG.log2FC_2.bed\n",
      "\n",
      "+++++++++++++++++++++++\n",
      "CD164_HCRFF_rAVG.log2FC_2.bw\n",
      "CD164_HCRFF_rAVG.log2FC_2\n",
      "CD164_HCRFF_rAVG.log2FC_2.wig\n",
      "CD164_HCRFF_rAVG.log2FC_2.bed\n",
      "\n",
      "+++++++++++++++++++++++\n",
      "ERP29_HCRFF_rAVG.log2FC_2.bw\n",
      "ERP29_HCRFF_rAVG.log2FC_2\n",
      "ERP29_HCRFF_rAVG.log2FC_2.wig\n",
      "ERP29_HCRFF_rAVG.log2FC_2.bed\n",
      "\n",
      "+++++++++++++++++++++++\n",
      "FADS1_HCRFF_rAVG.log2FC_2.bw\n",
      "FADS1_HCRFF_rAVG.log2FC_2\n",
      "FADS1_HCRFF_rAVG.log2FC_2.wig\n",
      "FADS1_HCRFF_rAVG.log2FC_2.bed\n",
      "\n",
      "+++++++++++++++++++++++\n",
      "FADS2_HCRFF_rAVG.log2FC_2.bw\n",
      "FADS2_HCRFF_rAVG.log2FC_2\n",
      "FADS2_HCRFF_rAVG.log2FC_2.wig\n",
      "FADS2_HCRFF_rAVG.log2FC_2.bed\n",
      "\n",
      "+++++++++++++++++++++++\n",
      "FADS3_HCRFF_rAVG.log2FC_2.bw\n",
      "FADS3_HCRFF_rAVG.log2FC_2\n",
      "FADS3_HCRFF_rAVG.log2FC_2.wig\n",
      "FADS3_HCRFF_rAVG.log2FC_2.bed\n",
      "\n",
      "+++++++++++++++++++++++\n",
      "FEN1_HCRFF_rAVG.log2FC_2.bw\n",
      "FEN1_HCRFF_rAVG.log2FC_2\n",
      "FEN1_HCRFF_rAVG.log2FC_2.wig\n",
      "FEN1_HCRFF_rAVG.log2FC_2.bed\n",
      "\n",
      "+++++++++++++++++++++++\n",
      "GATA1_HCRFF_rAVG.log2FC_2.bw\n",
      "GATA1_HCRFF_rAVG.log2FC_2\n",
      "GATA1_HCRFF_rAVG.log2FC_2.wig\n",
      "GATA1_HCRFF_rAVG.log2FC_2.bed\n",
      "\n",
      "+++++++++++++++++++++++\n",
      "HBE1_HCRFF_rAVG.log2FC_2.bw\n",
      "HBE1_HCRFF_rAVG.log2FC_2\n",
      "HBE1_HCRFF_rAVG.log2FC_2.wig\n",
      "HBE1_HCRFF_rAVG.log2FC_2.bed\n",
      "\n",
      "+++++++++++++++++++++++\n",
      "HBG1_HCRFF_rAVG.log2FC_2.bw\n",
      "HBG1_HCRFF_rAVG.log2FC_2\n",
      "HBG1_HCRFF_rAVG.log2FC_2.wig\n",
      "HBG1_HCRFF_rAVG.log2FC_2.bed\n",
      "\n",
      "+++++++++++++++++++++++\n",
      "HBG2_HCRFF_rAVG.log2FC_2.bw\n",
      "HBG2_HCRFF_rAVG.log2FC_2\n",
      "HBG2_HCRFF_rAVG.log2FC_2.wig\n",
      "HBG2_HCRFF_rAVG.log2FC_2.bed\n",
      "\n",
      "+++++++++++++++++++++++\n",
      "HBS1L_HCRFF_rAVG.log2FC_2.bw\n",
      "HBS1L_HCRFF_rAVG.log2FC_2\n",
      "HBS1L_HCRFF_rAVG.log2FC_2.wig\n",
      "HBS1L_HCRFF_rAVG.log2FC_2.bed\n",
      "\n",
      "+++++++++++++++++++++++\n",
      "HDAC6_HCRFF_rAVG.log2FC_2.bw\n",
      "HDAC6_HCRFF_rAVG.log2FC_2\n",
      "HDAC6_HCRFF_rAVG.log2FC_2.wig\n",
      "HDAC6_HCRFF_rAVG.log2FC_2.bed\n",
      "\n",
      "+++++++++++++++++++++++\n",
      "LMO2_HCRFF_rAVG.log2FC_2.bw\n",
      "LMO2_HCRFF_rAVG.log2FC_2\n",
      "LMO2_HCRFF_rAVG.log2FC_2.wig\n",
      "LMO2_HCRFF_rAVG.log2FC_2.bed\n",
      "\n",
      "+++++++++++++++++++++++\n",
      "MEF2C_HCRFF_rAVG.log2FC_2.bw\n",
      "MEF2C_HCRFF_rAVG.log2FC_2\n",
      "MEF2C_HCRFF_rAVG.log2FC_2.wig\n",
      "MEF2C_HCRFF_rAVG.log2FC_2.bed\n",
      "\n",
      "+++++++++++++++++++++++\n",
      "MYB_HCRFF_rAVG.log2FC_2.bw\n",
      "MYB_HCRFF_rAVG.log2FC_2\n",
      "MYB_HCRFF_rAVG.log2FC_2.wig\n",
      "MYB_HCRFF_rAVG.log2FC_2.bed\n",
      "\n",
      "+++++++++++++++++++++++\n",
      "MYC_HCRFF_rAVG.log2FC_2.bw\n",
      "MYC_HCRFF_rAVG.log2FC_2\n",
      "MYC_HCRFF_rAVG.log2FC_2.wig\n",
      "MYC_HCRFF_rAVG.log2FC_2.bed\n",
      "\n",
      "+++++++++++++++++++++++\n",
      "NMU_HCRFF_rAVG.log2FC_2.bw\n",
      "NMU_HCRFF_rAVG.log2FC_2\n",
      "NMU_HCRFF_rAVG.log2FC_2.wig\n",
      "NMU_HCRFF_rAVG.log2FC_2.bed\n",
      "\n",
      "+++++++++++++++++++++++\n",
      "PVT1_HCRFF_rAVG.log2FC_2.bw\n",
      "PVT1_HCRFF_rAVG.log2FC_2\n",
      "PVT1_HCRFF_rAVG.log2FC_2.wig\n",
      "PVT1_HCRFF_rAVG.log2FC_2.bed\n",
      "\n"
     ]
    }
   ],
   "source": [
    "FP_INPS=$(ls ${FD_INP}/*HCRFF*bw)\n",
    "\n",
    "for FP_INP in ${FP_INPS[@]}; do\n",
    "    FN_INP=$(basename ${FP_INP})\n",
    "    PREFIX=$(basename -s .bw ${FP_INP})\n",
    "    FN_OUT_WIG=${PREFIX}.wig\n",
    "    FN_OUT_BED=${PREFIX}.bed\n",
    "    \n",
    "    echo +++++++++++++++++++++++\n",
    "    echo ${FN_INP}\n",
    "    echo ${PREFIX}\n",
    "    echo ${FN_OUT_WIG}\n",
    "    echo ${FN_OUT_BED}\n",
    "    echo\n",
    "done"
   ]
  },
  {
   "cell_type": "code",
   "execution_count": 25,
   "id": "58ed9f31-85cf-43cd-92d3-5afbc6902533",
   "metadata": {},
   "outputs": [
    {
     "name": "stdout",
     "output_type": "stream",
     "text": [
      "+++++++++++++++++++++++\n",
      "convert CAPRIN1_HCRFF_rAVG.log2FC_2.bw to wig and then to bed file\n",
      "\n",
      "+++++++++++++++++++++++\n",
      "convert CAT_HCRFF_rAVG.log2FC_2.bw to wig and then to bed file\n",
      "\n",
      "+++++++++++++++++++++++\n",
      "convert CD164_HCRFF_rAVG.log2FC_2.bw to wig and then to bed file\n",
      "\n",
      "+++++++++++++++++++++++\n",
      "convert ERP29_HCRFF_rAVG.log2FC_2.bw to wig and then to bed file\n",
      "\n",
      "+++++++++++++++++++++++\n",
      "convert FADS1_HCRFF_rAVG.log2FC_2.bw to wig and then to bed file\n",
      "\n",
      "+++++++++++++++++++++++\n",
      "convert FADS2_HCRFF_rAVG.log2FC_2.bw to wig and then to bed file\n",
      "\n",
      "+++++++++++++++++++++++\n",
      "convert FADS3_HCRFF_rAVG.log2FC_2.bw to wig and then to bed file\n",
      "\n",
      "+++++++++++++++++++++++\n",
      "convert FEN1_HCRFF_rAVG.log2FC_2.bw to wig and then to bed file\n",
      "\n",
      "+++++++++++++++++++++++\n",
      "convert GATA1_HCRFF_rAVG.log2FC_2.bw to wig and then to bed file\n",
      "\n",
      "+++++++++++++++++++++++\n",
      "convert HBE1_HCRFF_rAVG.log2FC_2.bw to wig and then to bed file\n",
      "\n",
      "+++++++++++++++++++++++\n",
      "convert HBG1_HCRFF_rAVG.log2FC_2.bw to wig and then to bed file\n",
      "\n",
      "+++++++++++++++++++++++\n",
      "convert HBG2_HCRFF_rAVG.log2FC_2.bw to wig and then to bed file\n",
      "\n",
      "+++++++++++++++++++++++\n",
      "convert HBS1L_HCRFF_rAVG.log2FC_2.bw to wig and then to bed file\n",
      "\n",
      "+++++++++++++++++++++++\n",
      "convert HDAC6_HCRFF_rAVG.log2FC_2.bw to wig and then to bed file\n",
      "\n",
      "+++++++++++++++++++++++\n",
      "convert LMO2_HCRFF_rAVG.log2FC_2.bw to wig and then to bed file\n",
      "\n",
      "+++++++++++++++++++++++\n",
      "convert MEF2C_HCRFF_rAVG.log2FC_2.bw to wig and then to bed file\n",
      "\n",
      "+++++++++++++++++++++++\n",
      "convert MYB_HCRFF_rAVG.log2FC_2.bw to wig and then to bed file\n",
      "\n",
      "+++++++++++++++++++++++\n",
      "convert MYC_HCRFF_rAVG.log2FC_2.bw to wig and then to bed file\n",
      "\n",
      "+++++++++++++++++++++++\n",
      "convert NMU_HCRFF_rAVG.log2FC_2.bw to wig and then to bed file\n",
      "\n",
      "+++++++++++++++++++++++\n",
      "convert PVT1_HCRFF_rAVG.log2FC_2.bw to wig and then to bed file\n",
      "\n"
     ]
    }
   ],
   "source": [
    "###\n",
    "FD_INP=${FD_RES}/source/CRISPR\n",
    "FD_OUT=${FD_RES}/results/CRISPR\n",
    "FP_INPS=$(ls ${FD_INP}/*HCRFF*bw)\n",
    "\n",
    "###\n",
    "for FP_INP in ${FP_INPS[@]}; do\n",
    "    ###\n",
    "    FN_INP=$(basename ${FP_INP})\n",
    "    PREFIX=$(basename -s .bw ${FP_INP})\n",
    "    FP_OUT_WIG=${FD_OUT}/${PREFIX}.wig\n",
    "    FP_OUT_BED=${FD_OUT}/${PREFIX}.bed\n",
    "    \n",
    "    ### show progress\n",
    "    echo +++++++++++++++++++++++\n",
    "    echo \"convert ${FN_INP} to wig and then to bed file\"\n",
    "    echo\n",
    "    \n",
    "    ### convert to intermediate wig format\n",
    "    ${FD_UCSC}/bigWigToWig ${FP_INP} ${FP_OUT_WIG}\n",
    "\n",
    "    ### convert wig to bed\n",
    "    wig2bed < ${FP_OUT_WIG} > ${FP_OUT_BED}\n",
    "done"
   ]
  },
  {
   "cell_type": "code",
   "execution_count": null,
   "id": "9c1b7775-f293-4155-86e2-0ad3f3c3f282",
   "metadata": {},
   "outputs": [],
   "source": []
  }
 ],
 "metadata": {
  "kernelspec": {
   "display_name": "Bash",
   "language": "bash",
   "name": "bash"
  },
  "language_info": {
   "codemirror_mode": "shell",
   "file_extension": ".sh",
   "mimetype": "text/x-sh",
   "name": "bash"
  }
 },
 "nbformat": 4,
 "nbformat_minor": 5
}
