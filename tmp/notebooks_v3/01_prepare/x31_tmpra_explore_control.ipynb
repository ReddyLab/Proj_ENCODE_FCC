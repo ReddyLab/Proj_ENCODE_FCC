{
 "cells": [
  {
   "cell_type": "code",
   "execution_count": 1,
   "metadata": {},
   "outputs": [
    {
     "name": "stdout",
     "output_type": "stream",
     "text": [
      "You are in Singularity: singularity_proj_combeffect \n",
      "BASE DIRECTORY:     /data/reddylab/Kuei \n",
      "WORK DIRECTORY:     /data/reddylab/Kuei/out \n",
      "CODE DIRECTORY:     /data/reddylab/Kuei/code \n",
      "PATH OF SOURCE:     /data/reddylab/Kuei/source \n",
      "PATH OF EXECUTABLE: /data/reddylab/Kuei/bin \n",
      "PATH OF ANNOTATION: /data/reddylab/Kuei/annotation \n",
      "PATH OF PROJECT:    /data/reddylab/Kuei/code/Proj_CombEffect_ENCODE_FCC \n",
      "PATH OF RESULTS:    /data/reddylab/Kuei/out/proj_combeffect_encode_fcc \n"
     ]
    }
   ],
   "source": [
    "suppressMessages(suppressWarnings(source(\"../config/config_sing.R\")))\n",
    "show_env()"
   ]
  },
  {
   "cell_type": "markdown",
   "metadata": {},
   "source": [
    "## count matrix"
   ]
  },
  {
   "cell_type": "code",
   "execution_count": 2,
   "metadata": {},
   "outputs": [
    {
     "name": "stderr",
     "output_type": "stream",
     "text": [
      "\u001b[1m\u001b[22mNew names:\n",
      "\u001b[36m•\u001b[39m `` -> `...14`\n",
      "\u001b[1mRows: \u001b[22m\u001b[34m99875\u001b[39m \u001b[1mColumns: \u001b[22m\u001b[34m14\u001b[39m\n",
      "\u001b[36m──\u001b[39m \u001b[1mColumn specification\u001b[22m \u001b[36m───────────────────────────────────────────────────────────\u001b[39m\n",
      "\u001b[1mDelimiter:\u001b[22m \"\\t\"\n",
      "\u001b[31mchr\u001b[39m (5): chr, id, score, strand, project\n",
      "\u001b[32mdbl\u001b[39m (8): start, stop, log2fc, input-count, output-count, log10pval, log10fdr...\n",
      "\u001b[33mlgl\u001b[39m (1): ...14\n",
      "\n",
      "\u001b[36mℹ\u001b[39m Use `spec()` to retrieve the full column specification for this data.\n",
      "\u001b[36mℹ\u001b[39m Specify the column types or set `show_col_types = FALSE` to quiet this message.\n"
     ]
    },
    {
     "name": "stdout",
     "output_type": "stream",
     "text": [
      "[1] 99875    14\n"
     ]
    },
    {
     "data": {
      "text/html": [
       "<table class=\"dataframe\">\n",
       "<caption>A tibble: 6 × 14</caption>\n",
       "<thead>\n",
       "\t<tr><th scope=col>chr</th><th scope=col>start</th><th scope=col>stop</th><th scope=col>id</th><th scope=col>score</th><th scope=col>strand</th><th scope=col>log2fc</th><th scope=col>input-count</th><th scope=col>output-count</th><th scope=col>log10pval</th><th scope=col>log10fdr</th><th scope=col>lfc-se</th><th scope=col>project</th><th scope=col>...14</th></tr>\n",
       "\t<tr><th scope=col>&lt;chr&gt;</th><th scope=col>&lt;dbl&gt;</th><th scope=col>&lt;dbl&gt;</th><th scope=col>&lt;chr&gt;</th><th scope=col>&lt;chr&gt;</th><th scope=col>&lt;chr&gt;</th><th scope=col>&lt;dbl&gt;</th><th scope=col>&lt;dbl&gt;</th><th scope=col>&lt;dbl&gt;</th><th scope=col>&lt;dbl&gt;</th><th scope=col>&lt;dbl&gt;</th><th scope=col>&lt;dbl&gt;</th><th scope=col>&lt;chr&gt;</th><th scope=col>&lt;lgl&gt;</th></tr>\n",
       "</thead>\n",
       "<tbody>\n",
       "\t<tr><td>chr1</td><td> 10377620</td><td> 10377820</td><td>1:10437778:C:T:R:wC </td><td>.</td><td>+</td><td>2.3864208</td><td>883.1270</td><td> 4616.2761</td><td>105.4323311</td><td>104.3126694</td><td>0.10904898</td><td>ctrl_pos</td><td>NA</td></tr>\n",
       "\t<tr><td>chr1</td><td> 10391642</td><td> 10391842</td><td>1:10451799:C:T:R:wC </td><td>.</td><td>+</td><td>0.1754183</td><td>385.7977</td><td>  435.1086</td><td>  0.9976882</td><td>  0.7892488</td><td>0.10681444</td><td>ctrl_neg</td><td>NA</td></tr>\n",
       "\t<tr><td>chr1</td><td>109656005</td><td>109656205</td><td>1:110198727:C:G:R:wC</td><td>.</td><td>+</td><td>6.8943339</td><td>310.5569</td><td>36946.5245</td><td>        Inf</td><td>        Inf</td><td>0.14168132</td><td>ctrl_pos</td><td>NA</td></tr>\n",
       "\t<tr><td>chr1</td><td>110339020</td><td>110339220</td><td>1:110881742:NA:NA   </td><td>.</td><td>+</td><td>5.2288830</td><td>614.8229</td><td>23058.1543</td><td>        Inf</td><td>        Inf</td><td>0.12739918</td><td>ctrl_pos</td><td>NA</td></tr>\n",
       "\t<tr><td>chr1</td><td>111295972</td><td>111296172</td><td>1:111838694:C:T:R:wC</td><td>.</td><td>+</td><td>6.3593967</td><td>322.7563</td><td>26499.8215</td><td>        Inf</td><td>        Inf</td><td>0.11973394</td><td>ctrl_pos</td><td>NA</td></tr>\n",
       "\t<tr><td>chr1</td><td>112504342</td><td>112504542</td><td>1:113047064:NA:NA   </td><td>.</td><td>+</td><td>0.1185008</td><td>908.8158</td><td>  985.1292</td><td>  0.7989544</td><td>  0.6199606</td><td>0.08411008</td><td>ctrl_neg</td><td>NA</td></tr>\n",
       "</tbody>\n",
       "</table>\n"
      ],
      "text/latex": [
       "A tibble: 6 × 14\n",
       "\\begin{tabular}{llllllllllllll}\n",
       " chr & start & stop & id & score & strand & log2fc & input-count & output-count & log10pval & log10fdr & lfc-se & project & ...14\\\\\n",
       " <chr> & <dbl> & <dbl> & <chr> & <chr> & <chr> & <dbl> & <dbl> & <dbl> & <dbl> & <dbl> & <dbl> & <chr> & <lgl>\\\\\n",
       "\\hline\n",
       "\t chr1 &  10377620 &  10377820 & 1:10437778:C:T:R:wC  & . & + & 2.3864208 & 883.1270 &  4616.2761 & 105.4323311 & 104.3126694 & 0.10904898 & ctrl\\_pos & NA\\\\\n",
       "\t chr1 &  10391642 &  10391842 & 1:10451799:C:T:R:wC  & . & + & 0.1754183 & 385.7977 &   435.1086 &   0.9976882 &   0.7892488 & 0.10681444 & ctrl\\_neg & NA\\\\\n",
       "\t chr1 & 109656005 & 109656205 & 1:110198727:C:G:R:wC & . & + & 6.8943339 & 310.5569 & 36946.5245 &         Inf &         Inf & 0.14168132 & ctrl\\_pos & NA\\\\\n",
       "\t chr1 & 110339020 & 110339220 & 1:110881742:NA:NA    & . & + & 5.2288830 & 614.8229 & 23058.1543 &         Inf &         Inf & 0.12739918 & ctrl\\_pos & NA\\\\\n",
       "\t chr1 & 111295972 & 111296172 & 1:111838694:C:T:R:wC & . & + & 6.3593967 & 322.7563 & 26499.8215 &         Inf &         Inf & 0.11973394 & ctrl\\_pos & NA\\\\\n",
       "\t chr1 & 112504342 & 112504542 & 1:113047064:NA:NA    & . & + & 0.1185008 & 908.8158 &   985.1292 &   0.7989544 &   0.6199606 & 0.08411008 & ctrl\\_neg & NA\\\\\n",
       "\\end{tabular}\n"
      ],
      "text/markdown": [
       "\n",
       "A tibble: 6 × 14\n",
       "\n",
       "| chr &lt;chr&gt; | start &lt;dbl&gt; | stop &lt;dbl&gt; | id &lt;chr&gt; | score &lt;chr&gt; | strand &lt;chr&gt; | log2fc &lt;dbl&gt; | input-count &lt;dbl&gt; | output-count &lt;dbl&gt; | log10pval &lt;dbl&gt; | log10fdr &lt;dbl&gt; | lfc-se &lt;dbl&gt; | project &lt;chr&gt; | ...14 &lt;lgl&gt; |\n",
       "|---|---|---|---|---|---|---|---|---|---|---|---|---|---|\n",
       "| chr1 |  10377620 |  10377820 | 1:10437778:C:T:R:wC  | . | + | 2.3864208 | 883.1270 |  4616.2761 | 105.4323311 | 104.3126694 | 0.10904898 | ctrl_pos | NA |\n",
       "| chr1 |  10391642 |  10391842 | 1:10451799:C:T:R:wC  | . | + | 0.1754183 | 385.7977 |   435.1086 |   0.9976882 |   0.7892488 | 0.10681444 | ctrl_neg | NA |\n",
       "| chr1 | 109656005 | 109656205 | 1:110198727:C:G:R:wC | . | + | 6.8943339 | 310.5569 | 36946.5245 |         Inf |         Inf | 0.14168132 | ctrl_pos | NA |\n",
       "| chr1 | 110339020 | 110339220 | 1:110881742:NA:NA    | . | + | 5.2288830 | 614.8229 | 23058.1543 |         Inf |         Inf | 0.12739918 | ctrl_pos | NA |\n",
       "| chr1 | 111295972 | 111296172 | 1:111838694:C:T:R:wC | . | + | 6.3593967 | 322.7563 | 26499.8215 |         Inf |         Inf | 0.11973394 | ctrl_pos | NA |\n",
       "| chr1 | 112504342 | 112504542 | 1:113047064:NA:NA    | . | + | 0.1185008 | 908.8158 |   985.1292 |   0.7989544 |   0.6199606 | 0.08411008 | ctrl_neg | NA |\n",
       "\n"
      ],
      "text/plain": [
       "  chr  start     stop      id                   score strand log2fc   \n",
       "1 chr1  10377620  10377820 1:10437778:C:T:R:wC  .     +      2.3864208\n",
       "2 chr1  10391642  10391842 1:10451799:C:T:R:wC  .     +      0.1754183\n",
       "3 chr1 109656005 109656205 1:110198727:C:G:R:wC .     +      6.8943339\n",
       "4 chr1 110339020 110339220 1:110881742:NA:NA    .     +      5.2288830\n",
       "5 chr1 111295972 111296172 1:111838694:C:T:R:wC .     +      6.3593967\n",
       "6 chr1 112504342 112504542 1:113047064:NA:NA    .     +      0.1185008\n",
       "  input-count output-count log10pval   log10fdr    lfc-se     project  ...14\n",
       "1 883.1270     4616.2761   105.4323311 104.3126694 0.10904898 ctrl_pos NA   \n",
       "2 385.7977      435.1086     0.9976882   0.7892488 0.10681444 ctrl_neg NA   \n",
       "3 310.5569    36946.5245           Inf         Inf 0.14168132 ctrl_pos NA   \n",
       "4 614.8229    23058.1543           Inf         Inf 0.12739918 ctrl_pos NA   \n",
       "5 322.7563    26499.8215           Inf         Inf 0.11973394 ctrl_pos NA   \n",
       "6 908.8158      985.1292     0.7989544   0.6199606 0.08411008 ctrl_neg NA   "
      ]
     },
     "metadata": {},
     "output_type": "display_data"
    }
   ],
   "source": [
    "### set file directory\n",
    "fdiry = file.path(FD_RES, \"source\", \"MPRA\", \"Tewhey_TMPRA\", \"tiling_counts\")\n",
    "fname = \"OL43_K562.bed\"\n",
    "fpath = file.path(fdiry, fname)\n",
    "\n",
    "### import data\n",
    "dat = read_tsv(fpath)\n",
    "\n",
    "### show info\n",
    "dat_OL43_bed = dat\n",
    "print(dim(dat))\n",
    "head(dat)"
   ]
  },
  {
   "cell_type": "code",
   "execution_count": 3,
   "metadata": {},
   "outputs": [
    {
     "name": "stderr",
     "output_type": "stream",
     "text": [
      "\u001b[1m\u001b[22mNew names:\n",
      "\u001b[36m•\u001b[39m `` -> `...14`\n",
      "\u001b[1mRows: \u001b[22m\u001b[34m94907\u001b[39m \u001b[1mColumns: \u001b[22m\u001b[34m14\u001b[39m\n",
      "\u001b[36m──\u001b[39m \u001b[1mColumn specification\u001b[22m \u001b[36m───────────────────────────────────────────────────────────\u001b[39m\n",
      "\u001b[1mDelimiter:\u001b[22m \"\\t\"\n",
      "\u001b[31mchr\u001b[39m (5): chr, id, score, strand, project\n",
      "\u001b[32mdbl\u001b[39m (8): start, stop, log2fc, input-count, output-count, log10pval, log10fdr...\n",
      "\u001b[33mlgl\u001b[39m (1): ...14\n",
      "\n",
      "\u001b[36mℹ\u001b[39m Use `spec()` to retrieve the full column specification for this data.\n",
      "\u001b[36mℹ\u001b[39m Specify the column types or set `show_col_types = FALSE` to quiet this message.\n"
     ]
    },
    {
     "name": "stdout",
     "output_type": "stream",
     "text": [
      "[1] 94907    14\n"
     ]
    },
    {
     "data": {
      "text/html": [
       "<table class=\"dataframe\">\n",
       "<caption>A tibble: 6 × 14</caption>\n",
       "<thead>\n",
       "\t<tr><th scope=col>chr</th><th scope=col>start</th><th scope=col>stop</th><th scope=col>id</th><th scope=col>score</th><th scope=col>strand</th><th scope=col>log2fc</th><th scope=col>input-count</th><th scope=col>output-count</th><th scope=col>log10pval</th><th scope=col>log10fdr</th><th scope=col>lfc-se</th><th scope=col>project</th><th scope=col>...14</th></tr>\n",
       "\t<tr><th scope=col>&lt;chr&gt;</th><th scope=col>&lt;dbl&gt;</th><th scope=col>&lt;dbl&gt;</th><th scope=col>&lt;chr&gt;</th><th scope=col>&lt;chr&gt;</th><th scope=col>&lt;chr&gt;</th><th scope=col>&lt;dbl&gt;</th><th scope=col>&lt;dbl&gt;</th><th scope=col>&lt;dbl&gt;</th><th scope=col>&lt;dbl&gt;</th><th scope=col>&lt;dbl&gt;</th><th scope=col>&lt;dbl&gt;</th><th scope=col>&lt;chr&gt;</th><th scope=col>&lt;lgl&gt;</th></tr>\n",
       "</thead>\n",
       "<tbody>\n",
       "\t<tr><td>chr1</td><td> 10377620</td><td> 10377820</td><td>1:10437778:C:T:R:wC </td><td>.</td><td>+</td><td>2.72866254</td><td>435.0935</td><td> 2882.2589</td><td>80.42056268</td><td>79.26804236</td><td>0.1430215</td><td>ctrl_pos</td><td>NA</td></tr>\n",
       "\t<tr><td>chr1</td><td> 10391642</td><td> 10391842</td><td>1:10451799:C:T:R:wC </td><td>.</td><td>+</td><td>0.02132837</td><td>425.2694</td><td>  433.2791</td><td> 0.05943077</td><td> 0.04112316</td><td>0.1324874</td><td>ctrl_neg</td><td>NA</td></tr>\n",
       "\t<tr><td>chr1</td><td>109656005</td><td>109656205</td><td>1:110198727:C:G:R:wC</td><td>.</td><td>+</td><td>6.78034189</td><td>515.3041</td><td>56641.9395</td><td>        Inf</td><td>        Inf</td><td>0.1150093</td><td>ctrl_pos</td><td>NA</td></tr>\n",
       "\t<tr><td>chr1</td><td>110339020</td><td>110339220</td><td>1:110881742:NA:NA   </td><td>.</td><td>+</td><td>5.37326918</td><td>704.5580</td><td>29204.1611</td><td>        Inf</td><td>        Inf</td><td>0.1183570</td><td>ctrl_pos</td><td>NA</td></tr>\n",
       "\t<tr><td>chr1</td><td>111295972</td><td>111296172</td><td>1:111838694:C:T:R:wC</td><td>.</td><td>+</td><td>6.26556059</td><td>617.9661</td><td>47545.4957</td><td>        Inf</td><td>        Inf</td><td>0.1242856</td><td>ctrl_pos</td><td>NA</td></tr>\n",
       "\t<tr><td>chr1</td><td>112504342</td><td>112504542</td><td>1:113047064:NA:NA   </td><td>.</td><td>+</td><td>0.16035171</td><td>461.8867</td><td>  515.0716</td><td> 0.68814119</td><td> 0.53007439</td><td>0.1265306</td><td>ctrl_neg</td><td>NA</td></tr>\n",
       "</tbody>\n",
       "</table>\n"
      ],
      "text/latex": [
       "A tibble: 6 × 14\n",
       "\\begin{tabular}{llllllllllllll}\n",
       " chr & start & stop & id & score & strand & log2fc & input-count & output-count & log10pval & log10fdr & lfc-se & project & ...14\\\\\n",
       " <chr> & <dbl> & <dbl> & <chr> & <chr> & <chr> & <dbl> & <dbl> & <dbl> & <dbl> & <dbl> & <dbl> & <chr> & <lgl>\\\\\n",
       "\\hline\n",
       "\t chr1 &  10377620 &  10377820 & 1:10437778:C:T:R:wC  & . & + & 2.72866254 & 435.0935 &  2882.2589 & 80.42056268 & 79.26804236 & 0.1430215 & ctrl\\_pos & NA\\\\\n",
       "\t chr1 &  10391642 &  10391842 & 1:10451799:C:T:R:wC  & . & + & 0.02132837 & 425.2694 &   433.2791 &  0.05943077 &  0.04112316 & 0.1324874 & ctrl\\_neg & NA\\\\\n",
       "\t chr1 & 109656005 & 109656205 & 1:110198727:C:G:R:wC & . & + & 6.78034189 & 515.3041 & 56641.9395 &         Inf &         Inf & 0.1150093 & ctrl\\_pos & NA\\\\\n",
       "\t chr1 & 110339020 & 110339220 & 1:110881742:NA:NA    & . & + & 5.37326918 & 704.5580 & 29204.1611 &         Inf &         Inf & 0.1183570 & ctrl\\_pos & NA\\\\\n",
       "\t chr1 & 111295972 & 111296172 & 1:111838694:C:T:R:wC & . & + & 6.26556059 & 617.9661 & 47545.4957 &         Inf &         Inf & 0.1242856 & ctrl\\_pos & NA\\\\\n",
       "\t chr1 & 112504342 & 112504542 & 1:113047064:NA:NA    & . & + & 0.16035171 & 461.8867 &   515.0716 &  0.68814119 &  0.53007439 & 0.1265306 & ctrl\\_neg & NA\\\\\n",
       "\\end{tabular}\n"
      ],
      "text/markdown": [
       "\n",
       "A tibble: 6 × 14\n",
       "\n",
       "| chr &lt;chr&gt; | start &lt;dbl&gt; | stop &lt;dbl&gt; | id &lt;chr&gt; | score &lt;chr&gt; | strand &lt;chr&gt; | log2fc &lt;dbl&gt; | input-count &lt;dbl&gt; | output-count &lt;dbl&gt; | log10pval &lt;dbl&gt; | log10fdr &lt;dbl&gt; | lfc-se &lt;dbl&gt; | project &lt;chr&gt; | ...14 &lt;lgl&gt; |\n",
       "|---|---|---|---|---|---|---|---|---|---|---|---|---|---|\n",
       "| chr1 |  10377620 |  10377820 | 1:10437778:C:T:R:wC  | . | + | 2.72866254 | 435.0935 |  2882.2589 | 80.42056268 | 79.26804236 | 0.1430215 | ctrl_pos | NA |\n",
       "| chr1 |  10391642 |  10391842 | 1:10451799:C:T:R:wC  | . | + | 0.02132837 | 425.2694 |   433.2791 |  0.05943077 |  0.04112316 | 0.1324874 | ctrl_neg | NA |\n",
       "| chr1 | 109656005 | 109656205 | 1:110198727:C:G:R:wC | . | + | 6.78034189 | 515.3041 | 56641.9395 |         Inf |         Inf | 0.1150093 | ctrl_pos | NA |\n",
       "| chr1 | 110339020 | 110339220 | 1:110881742:NA:NA    | . | + | 5.37326918 | 704.5580 | 29204.1611 |         Inf |         Inf | 0.1183570 | ctrl_pos | NA |\n",
       "| chr1 | 111295972 | 111296172 | 1:111838694:C:T:R:wC | . | + | 6.26556059 | 617.9661 | 47545.4957 |         Inf |         Inf | 0.1242856 | ctrl_pos | NA |\n",
       "| chr1 | 112504342 | 112504542 | 1:113047064:NA:NA    | . | + | 0.16035171 | 461.8867 |   515.0716 |  0.68814119 |  0.53007439 | 0.1265306 | ctrl_neg | NA |\n",
       "\n"
      ],
      "text/plain": [
       "  chr  start     stop      id                   score strand log2fc    \n",
       "1 chr1  10377620  10377820 1:10437778:C:T:R:wC  .     +      2.72866254\n",
       "2 chr1  10391642  10391842 1:10451799:C:T:R:wC  .     +      0.02132837\n",
       "3 chr1 109656005 109656205 1:110198727:C:G:R:wC .     +      6.78034189\n",
       "4 chr1 110339020 110339220 1:110881742:NA:NA    .     +      5.37326918\n",
       "5 chr1 111295972 111296172 1:111838694:C:T:R:wC .     +      6.26556059\n",
       "6 chr1 112504342 112504542 1:113047064:NA:NA    .     +      0.16035171\n",
       "  input-count output-count log10pval   log10fdr    lfc-se    project  ...14\n",
       "1 435.0935     2882.2589   80.42056268 79.26804236 0.1430215 ctrl_pos NA   \n",
       "2 425.2694      433.2791    0.05943077  0.04112316 0.1324874 ctrl_neg NA   \n",
       "3 515.3041    56641.9395           Inf         Inf 0.1150093 ctrl_pos NA   \n",
       "4 704.5580    29204.1611           Inf         Inf 0.1183570 ctrl_pos NA   \n",
       "5 617.9661    47545.4957           Inf         Inf 0.1242856 ctrl_pos NA   \n",
       "6 461.8867      515.0716    0.68814119  0.53007439 0.1265306 ctrl_neg NA   "
      ]
     },
     "metadata": {},
     "output_type": "display_data"
    }
   ],
   "source": [
    "### set file directory\n",
    "fdiry = file.path(FD_RES, \"source\", \"MPRA\", \"Tewhey_TMPRA\", \"tiling_counts\")\n",
    "fname = \"OL45_K562.bed\"\n",
    "fpath = file.path(fdiry, fname)\n",
    "\n",
    "### import data\n",
    "dat = read_tsv(fpath)\n",
    "\n",
    "### show info\n",
    "dat_OL45_bed = dat\n",
    "print(dim(dat))\n",
    "head(dat)"
   ]
  },
  {
   "cell_type": "code",
   "execution_count": 4,
   "metadata": {},
   "outputs": [
    {
     "data": {
      "text/plain": [
       "   Mode    NA's \n",
       "logical   99875 "
      ]
     },
     "metadata": {},
     "output_type": "display_data"
    }
   ],
   "source": [
    "dat = dat_OL43_bed\n",
    "summary(dat$...14)"
   ]
  },
  {
   "cell_type": "code",
   "execution_count": 5,
   "metadata": {},
   "outputs": [
    {
     "data": {
      "text/plain": [
       "   Mode    NA's \n",
       "logical   94907 "
      ]
     },
     "metadata": {},
     "output_type": "display_data"
    }
   ],
   "source": [
    "dat = dat_OL45_bed\n",
    "summary(dat$...14)"
   ]
  },
  {
   "cell_type": "markdown",
   "metadata": {},
   "source": [
    "## Attributes"
   ]
  },
  {
   "cell_type": "code",
   "execution_count": 6,
   "metadata": {},
   "outputs": [
    {
     "name": "stderr",
     "output_type": "stream",
     "text": [
      "\u001b[1mRows: \u001b[22m\u001b[34m57010\u001b[39m \u001b[1mColumns: \u001b[22m\u001b[34m12\u001b[39m\n",
      "\u001b[36m──\u001b[39m \u001b[1mColumn specification\u001b[22m \u001b[36m───────────────────────────────────────────────────────────\u001b[39m\n",
      "\u001b[1mDelimiter:\u001b[22m \"\\t\"\n",
      "\u001b[31mchr\u001b[39m (8): ID, SNP, ref_allele, alt_allele, allele, window, strand, project\n",
      "\u001b[32mdbl\u001b[39m (4): chr, snp_pos, start, stop\n",
      "\n",
      "\u001b[36mℹ\u001b[39m Use `spec()` to retrieve the full column specification for this data.\n",
      "\u001b[36mℹ\u001b[39m Specify the column types or set `show_col_types = FALSE` to quiet this message.\n"
     ]
    },
    {
     "name": "stdout",
     "output_type": "stream",
     "text": [
      "[1] 57010    12\n"
     ]
    },
    {
     "data": {
      "text/html": [
       "<table class=\"dataframe\">\n",
       "<caption>A tibble: 6 × 12</caption>\n",
       "<thead>\n",
       "\t<tr><th scope=col>ID</th><th scope=col>SNP</th><th scope=col>chr</th><th scope=col>snp_pos</th><th scope=col>ref_allele</th><th scope=col>alt_allele</th><th scope=col>allele</th><th scope=col>window</th><th scope=col>strand</th><th scope=col>start</th><th scope=col>stop</th><th scope=col>project</th></tr>\n",
       "\t<tr><th scope=col>&lt;chr&gt;</th><th scope=col>&lt;chr&gt;</th><th scope=col>&lt;dbl&gt;</th><th scope=col>&lt;dbl&gt;</th><th scope=col>&lt;chr&gt;</th><th scope=col>&lt;chr&gt;</th><th scope=col>&lt;chr&gt;</th><th scope=col>&lt;chr&gt;</th><th scope=col>&lt;chr&gt;</th><th scope=col>&lt;dbl&gt;</th><th scope=col>&lt;dbl&gt;</th><th scope=col>&lt;chr&gt;</th></tr>\n",
       "</thead>\n",
       "<tbody>\n",
       "\t<tr><td>11:61554801-61555000_RC</td><td>NA</td><td>11</td><td>NA</td><td>NA</td><td>NA</td><td>NA</td><td>NA</td><td>rev</td><td>61554801</td><td>61555000</td><td>Tiles</td></tr>\n",
       "\t<tr><td>11:61554806-61555005_RC</td><td>NA</td><td>11</td><td>NA</td><td>NA</td><td>NA</td><td>NA</td><td>NA</td><td>rev</td><td>61554806</td><td>61555005</td><td>Tiles</td></tr>\n",
       "\t<tr><td>11:61554811-61555010_RC</td><td>NA</td><td>11</td><td>NA</td><td>NA</td><td>NA</td><td>NA</td><td>NA</td><td>rev</td><td>61554811</td><td>61555010</td><td>Tiles</td></tr>\n",
       "\t<tr><td>11:61554816-61555015_RC</td><td>NA</td><td>11</td><td>NA</td><td>NA</td><td>NA</td><td>NA</td><td>NA</td><td>rev</td><td>61554816</td><td>61555015</td><td>Tiles</td></tr>\n",
       "\t<tr><td>11:61554821-61555020_RC</td><td>NA</td><td>11</td><td>NA</td><td>NA</td><td>NA</td><td>NA</td><td>NA</td><td>rev</td><td>61554821</td><td>61555020</td><td>Tiles</td></tr>\n",
       "\t<tr><td>11:61554826-61555025_RC</td><td>NA</td><td>11</td><td>NA</td><td>NA</td><td>NA</td><td>NA</td><td>NA</td><td>rev</td><td>61554826</td><td>61555025</td><td>Tiles</td></tr>\n",
       "</tbody>\n",
       "</table>\n"
      ],
      "text/latex": [
       "A tibble: 6 × 12\n",
       "\\begin{tabular}{llllllllllll}\n",
       " ID & SNP & chr & snp\\_pos & ref\\_allele & alt\\_allele & allele & window & strand & start & stop & project\\\\\n",
       " <chr> & <chr> & <dbl> & <dbl> & <chr> & <chr> & <chr> & <chr> & <chr> & <dbl> & <dbl> & <chr>\\\\\n",
       "\\hline\n",
       "\t 11:61554801-61555000\\_RC & NA & 11 & NA & NA & NA & NA & NA & rev & 61554801 & 61555000 & Tiles\\\\\n",
       "\t 11:61554806-61555005\\_RC & NA & 11 & NA & NA & NA & NA & NA & rev & 61554806 & 61555005 & Tiles\\\\\n",
       "\t 11:61554811-61555010\\_RC & NA & 11 & NA & NA & NA & NA & NA & rev & 61554811 & 61555010 & Tiles\\\\\n",
       "\t 11:61554816-61555015\\_RC & NA & 11 & NA & NA & NA & NA & NA & rev & 61554816 & 61555015 & Tiles\\\\\n",
       "\t 11:61554821-61555020\\_RC & NA & 11 & NA & NA & NA & NA & NA & rev & 61554821 & 61555020 & Tiles\\\\\n",
       "\t 11:61554826-61555025\\_RC & NA & 11 & NA & NA & NA & NA & NA & rev & 61554826 & 61555025 & Tiles\\\\\n",
       "\\end{tabular}\n"
      ],
      "text/markdown": [
       "\n",
       "A tibble: 6 × 12\n",
       "\n",
       "| ID &lt;chr&gt; | SNP &lt;chr&gt; | chr &lt;dbl&gt; | snp_pos &lt;dbl&gt; | ref_allele &lt;chr&gt; | alt_allele &lt;chr&gt; | allele &lt;chr&gt; | window &lt;chr&gt; | strand &lt;chr&gt; | start &lt;dbl&gt; | stop &lt;dbl&gt; | project &lt;chr&gt; |\n",
       "|---|---|---|---|---|---|---|---|---|---|---|---|\n",
       "| 11:61554801-61555000_RC | NA | 11 | NA | NA | NA | NA | NA | rev | 61554801 | 61555000 | Tiles |\n",
       "| 11:61554806-61555005_RC | NA | 11 | NA | NA | NA | NA | NA | rev | 61554806 | 61555005 | Tiles |\n",
       "| 11:61554811-61555010_RC | NA | 11 | NA | NA | NA | NA | NA | rev | 61554811 | 61555010 | Tiles |\n",
       "| 11:61554816-61555015_RC | NA | 11 | NA | NA | NA | NA | NA | rev | 61554816 | 61555015 | Tiles |\n",
       "| 11:61554821-61555020_RC | NA | 11 | NA | NA | NA | NA | NA | rev | 61554821 | 61555020 | Tiles |\n",
       "| 11:61554826-61555025_RC | NA | 11 | NA | NA | NA | NA | NA | rev | 61554826 | 61555025 | Tiles |\n",
       "\n"
      ],
      "text/plain": [
       "  ID                      SNP chr snp_pos ref_allele alt_allele allele window\n",
       "1 11:61554801-61555000_RC NA  11  NA      NA         NA         NA     NA    \n",
       "2 11:61554806-61555005_RC NA  11  NA      NA         NA         NA     NA    \n",
       "3 11:61554811-61555010_RC NA  11  NA      NA         NA         NA     NA    \n",
       "4 11:61554816-61555015_RC NA  11  NA      NA         NA         NA     NA    \n",
       "5 11:61554821-61555020_RC NA  11  NA      NA         NA         NA     NA    \n",
       "6 11:61554826-61555025_RC NA  11  NA      NA         NA         NA     NA    \n",
       "  strand start    stop     project\n",
       "1 rev    61554801 61555000 Tiles  \n",
       "2 rev    61554806 61555005 Tiles  \n",
       "3 rev    61554811 61555010 Tiles  \n",
       "4 rev    61554816 61555015 Tiles  \n",
       "5 rev    61554821 61555020 Tiles  \n",
       "6 rev    61554826 61555025 Tiles  "
      ]
     },
     "metadata": {},
     "output_type": "display_data"
    }
   ],
   "source": [
    "### set file directory\n",
    "fdiry = file.path(FD_RES, \"source\", \"MPRA\", \"Tewhey_TMPRA\", \"tiling_counts\")\n",
    "fname = \"FADS_tile_snp.20190214.attributes\"\n",
    "fpath = file.path(fdiry, fname)\n",
    "\n",
    "### import data\n",
    "dat = read_tsv(fpath)\n",
    "\n",
    "### show info\n",
    "dat_OL13_attributes = dat\n",
    "print(dim(dat))\n",
    "head(dat)"
   ]
  },
  {
   "cell_type": "code",
   "execution_count": 7,
   "metadata": {},
   "outputs": [
    {
     "name": "stderr",
     "output_type": "stream",
     "text": [
      "\u001b[1mRows: \u001b[22m\u001b[34m99875\u001b[39m \u001b[1mColumns: \u001b[22m\u001b[34m13\u001b[39m\n",
      "\u001b[36m──\u001b[39m \u001b[1mColumn specification\u001b[22m \u001b[36m───────────────────────────────────────────────────────────\u001b[39m\n",
      "\u001b[1mDelimiter:\u001b[22m \"\\t\"\n",
      "\u001b[31mchr\u001b[39m (10): ID, SNP, chr, ref_allele, alt_allele, allele, window, strand, proj...\n",
      "\u001b[32mdbl\u001b[39m  (3): snp_pos, start, stop\n",
      "\n",
      "\u001b[36mℹ\u001b[39m Use `spec()` to retrieve the full column specification for this data.\n",
      "\u001b[36mℹ\u001b[39m Specify the column types or set `show_col_types = FALSE` to quiet this message.\n"
     ]
    },
    {
     "name": "stdout",
     "output_type": "stream",
     "text": [
      "[1] 99875    13\n"
     ]
    },
    {
     "data": {
      "text/html": [
       "<table class=\"dataframe\">\n",
       "<caption>A tibble: 6 × 13</caption>\n",
       "<thead>\n",
       "\t<tr><th scope=col>ID</th><th scope=col>SNP</th><th scope=col>chr</th><th scope=col>snp_pos</th><th scope=col>ref_allele</th><th scope=col>alt_allele</th><th scope=col>allele</th><th scope=col>window</th><th scope=col>strand</th><th scope=col>start</th><th scope=col>stop</th><th scope=col>project</th><th scope=col>haplotype</th></tr>\n",
       "\t<tr><th scope=col>&lt;chr&gt;</th><th scope=col>&lt;chr&gt;</th><th scope=col>&lt;chr&gt;</th><th scope=col>&lt;dbl&gt;</th><th scope=col>&lt;chr&gt;</th><th scope=col>&lt;chr&gt;</th><th scope=col>&lt;chr&gt;</th><th scope=col>&lt;chr&gt;</th><th scope=col>&lt;chr&gt;</th><th scope=col>&lt;dbl&gt;</th><th scope=col>&lt;dbl&gt;</th><th scope=col>&lt;chr&gt;</th><th scope=col>&lt;chr&gt;</th></tr>\n",
       "</thead>\n",
       "<tbody>\n",
       "\t<tr><td>1:10437778:C:T:R:wC </td><td>1:10437778:C:T   </td><td>1</td><td> 10437778</td><td>C </td><td>T </td><td>ref</td><td>center</td><td>fwd</td><td>NA</td><td>NA</td><td>ctrl_pos</td><td>ref</td></tr>\n",
       "\t<tr><td>1:10451799:C:T:R:wC </td><td>1:10451799:C:T   </td><td>1</td><td> 10451799</td><td>C </td><td>T </td><td>ref</td><td>center</td><td>fwd</td><td>NA</td><td>NA</td><td>ctrl_neg</td><td>ref</td></tr>\n",
       "\t<tr><td>1:110198727:C:G:R:wC</td><td>1:110198727:C:G  </td><td>1</td><td>110198727</td><td>C </td><td>G </td><td>ref</td><td>center</td><td>fwd</td><td>NA</td><td>NA</td><td>ctrl_pos</td><td>ref</td></tr>\n",
       "\t<tr><td>1:110881742:NA:NA   </td><td>1:110881742:NA:NA</td><td>1</td><td>110881742</td><td>NA</td><td>NA</td><td>NA </td><td>NA    </td><td>fwd</td><td>NA</td><td>NA</td><td>ctrl_pos</td><td>ref</td></tr>\n",
       "\t<tr><td>1:111838694:C:T:R:wC</td><td>1:111838694:C:T  </td><td>1</td><td>111838694</td><td>C </td><td>T </td><td>ref</td><td>center</td><td>fwd</td><td>NA</td><td>NA</td><td>ctrl_pos</td><td>ref</td></tr>\n",
       "\t<tr><td>1:113047064:NA:NA   </td><td>1:113047064:NA:NA</td><td>1</td><td>113047064</td><td>NA</td><td>NA</td><td>NA </td><td>NA    </td><td>fwd</td><td>NA</td><td>NA</td><td>ctrl_neg</td><td>ref</td></tr>\n",
       "</tbody>\n",
       "</table>\n"
      ],
      "text/latex": [
       "A tibble: 6 × 13\n",
       "\\begin{tabular}{lllllllllllll}\n",
       " ID & SNP & chr & snp\\_pos & ref\\_allele & alt\\_allele & allele & window & strand & start & stop & project & haplotype\\\\\n",
       " <chr> & <chr> & <chr> & <dbl> & <chr> & <chr> & <chr> & <chr> & <chr> & <dbl> & <dbl> & <chr> & <chr>\\\\\n",
       "\\hline\n",
       "\t 1:10437778:C:T:R:wC  & 1:10437778:C:T    & 1 &  10437778 & C  & T  & ref & center & fwd & NA & NA & ctrl\\_pos & ref\\\\\n",
       "\t 1:10451799:C:T:R:wC  & 1:10451799:C:T    & 1 &  10451799 & C  & T  & ref & center & fwd & NA & NA & ctrl\\_neg & ref\\\\\n",
       "\t 1:110198727:C:G:R:wC & 1:110198727:C:G   & 1 & 110198727 & C  & G  & ref & center & fwd & NA & NA & ctrl\\_pos & ref\\\\\n",
       "\t 1:110881742:NA:NA    & 1:110881742:NA:NA & 1 & 110881742 & NA & NA & NA  & NA     & fwd & NA & NA & ctrl\\_pos & ref\\\\\n",
       "\t 1:111838694:C:T:R:wC & 1:111838694:C:T   & 1 & 111838694 & C  & T  & ref & center & fwd & NA & NA & ctrl\\_pos & ref\\\\\n",
       "\t 1:113047064:NA:NA    & 1:113047064:NA:NA & 1 & 113047064 & NA & NA & NA  & NA     & fwd & NA & NA & ctrl\\_neg & ref\\\\\n",
       "\\end{tabular}\n"
      ],
      "text/markdown": [
       "\n",
       "A tibble: 6 × 13\n",
       "\n",
       "| ID &lt;chr&gt; | SNP &lt;chr&gt; | chr &lt;chr&gt; | snp_pos &lt;dbl&gt; | ref_allele &lt;chr&gt; | alt_allele &lt;chr&gt; | allele &lt;chr&gt; | window &lt;chr&gt; | strand &lt;chr&gt; | start &lt;dbl&gt; | stop &lt;dbl&gt; | project &lt;chr&gt; | haplotype &lt;chr&gt; |\n",
       "|---|---|---|---|---|---|---|---|---|---|---|---|---|\n",
       "| 1:10437778:C:T:R:wC  | 1:10437778:C:T    | 1 |  10437778 | C  | T  | ref | center | fwd | NA | NA | ctrl_pos | ref |\n",
       "| 1:10451799:C:T:R:wC  | 1:10451799:C:T    | 1 |  10451799 | C  | T  | ref | center | fwd | NA | NA | ctrl_neg | ref |\n",
       "| 1:110198727:C:G:R:wC | 1:110198727:C:G   | 1 | 110198727 | C  | G  | ref | center | fwd | NA | NA | ctrl_pos | ref |\n",
       "| 1:110881742:NA:NA    | 1:110881742:NA:NA | 1 | 110881742 | NA | NA | NA  | NA     | fwd | NA | NA | ctrl_pos | ref |\n",
       "| 1:111838694:C:T:R:wC | 1:111838694:C:T   | 1 | 111838694 | C  | T  | ref | center | fwd | NA | NA | ctrl_pos | ref |\n",
       "| 1:113047064:NA:NA    | 1:113047064:NA:NA | 1 | 113047064 | NA | NA | NA  | NA     | fwd | NA | NA | ctrl_neg | ref |\n",
       "\n"
      ],
      "text/plain": [
       "  ID                   SNP               chr snp_pos   ref_allele alt_allele\n",
       "1 1:10437778:C:T:R:wC  1:10437778:C:T    1    10437778 C          T         \n",
       "2 1:10451799:C:T:R:wC  1:10451799:C:T    1    10451799 C          T         \n",
       "3 1:110198727:C:G:R:wC 1:110198727:C:G   1   110198727 C          G         \n",
       "4 1:110881742:NA:NA    1:110881742:NA:NA 1   110881742 NA         NA        \n",
       "5 1:111838694:C:T:R:wC 1:111838694:C:T   1   111838694 C          T         \n",
       "6 1:113047064:NA:NA    1:113047064:NA:NA 1   113047064 NA         NA        \n",
       "  allele window strand start stop project  haplotype\n",
       "1 ref    center fwd    NA    NA   ctrl_pos ref      \n",
       "2 ref    center fwd    NA    NA   ctrl_neg ref      \n",
       "3 ref    center fwd    NA    NA   ctrl_pos ref      \n",
       "4 NA     NA     fwd    NA    NA   ctrl_pos ref      \n",
       "5 ref    center fwd    NA    NA   ctrl_pos ref      \n",
       "6 NA     NA     fwd    NA    NA   ctrl_neg ref      "
      ]
     },
     "metadata": {},
     "output_type": "display_data"
    }
   ],
   "source": [
    "### set file directory\n",
    "fdiry = file.path(FD_RES, \"source\", \"MPRA\", \"Tewhey_TMPRA\", \"tiling_counts\")\n",
    "fname = \"OL43.attributes\"\n",
    "fpath = file.path(fdiry, fname)\n",
    "\n",
    "### import data\n",
    "dat = read_tsv(fpath)\n",
    "\n",
    "### show info\n",
    "dat_OL43_attributes = dat\n",
    "print(dim(dat))\n",
    "head(dat)"
   ]
  },
  {
   "cell_type": "code",
   "execution_count": 8,
   "metadata": {},
   "outputs": [
    {
     "name": "stderr",
     "output_type": "stream",
     "text": [
      "\u001b[1mRows: \u001b[22m\u001b[34m94942\u001b[39m \u001b[1mColumns: \u001b[22m\u001b[34m13\u001b[39m\n",
      "\u001b[36m──\u001b[39m \u001b[1mColumn specification\u001b[22m \u001b[36m───────────────────────────────────────────────────────────\u001b[39m\n",
      "\u001b[1mDelimiter:\u001b[22m \"\\t\"\n",
      "\u001b[31mchr\u001b[39m (10): ID, SNP, chr, ref_allele, alt_allele, allele, window, strand, proj...\n",
      "\u001b[32mdbl\u001b[39m  (3): snp_pos, start, stop\n",
      "\n",
      "\u001b[36mℹ\u001b[39m Use `spec()` to retrieve the full column specification for this data.\n",
      "\u001b[36mℹ\u001b[39m Specify the column types or set `show_col_types = FALSE` to quiet this message.\n"
     ]
    },
    {
     "name": "stdout",
     "output_type": "stream",
     "text": [
      "[1] 94942    13\n"
     ]
    },
    {
     "data": {
      "text/html": [
       "<table class=\"dataframe\">\n",
       "<caption>A tibble: 6 × 13</caption>\n",
       "<thead>\n",
       "\t<tr><th scope=col>ID</th><th scope=col>SNP</th><th scope=col>chr</th><th scope=col>snp_pos</th><th scope=col>ref_allele</th><th scope=col>alt_allele</th><th scope=col>allele</th><th scope=col>window</th><th scope=col>strand</th><th scope=col>start</th><th scope=col>stop</th><th scope=col>project</th><th scope=col>haplotype</th></tr>\n",
       "\t<tr><th scope=col>&lt;chr&gt;</th><th scope=col>&lt;chr&gt;</th><th scope=col>&lt;chr&gt;</th><th scope=col>&lt;dbl&gt;</th><th scope=col>&lt;chr&gt;</th><th scope=col>&lt;chr&gt;</th><th scope=col>&lt;chr&gt;</th><th scope=col>&lt;chr&gt;</th><th scope=col>&lt;chr&gt;</th><th scope=col>&lt;dbl&gt;</th><th scope=col>&lt;dbl&gt;</th><th scope=col>&lt;chr&gt;</th><th scope=col>&lt;chr&gt;</th></tr>\n",
       "</thead>\n",
       "<tbody>\n",
       "\t<tr><td>ORF13856:870:0-200  </td><td>NA</td><td>NA</td><td>NA</td><td>NA</td><td>ref</td><td>NA</td><td>NA</td><td>fwd</td><td>NA</td><td>NA</td><td>ctrl_neg-Yu-ORF</td><td>ref</td></tr>\n",
       "\t<tr><td>ORF13856:870:100-300</td><td>NA</td><td>NA</td><td>NA</td><td>NA</td><td>ref</td><td>NA</td><td>NA</td><td>fwd</td><td>NA</td><td>NA</td><td>ctrl_neg-Yu-ORF</td><td>ref</td></tr>\n",
       "\t<tr><td>ORF13856:870:200-400</td><td>NA</td><td>NA</td><td>NA</td><td>NA</td><td>ref</td><td>NA</td><td>NA</td><td>fwd</td><td>NA</td><td>NA</td><td>ctrl_neg-Yu-ORF</td><td>ref</td></tr>\n",
       "\t<tr><td>ORF13856:870:300-500</td><td>NA</td><td>NA</td><td>NA</td><td>NA</td><td>ref</td><td>NA</td><td>NA</td><td>fwd</td><td>NA</td><td>NA</td><td>ctrl_neg-Yu-ORF</td><td>ref</td></tr>\n",
       "\t<tr><td>ORF13856:870:400-600</td><td>NA</td><td>NA</td><td>NA</td><td>NA</td><td>ref</td><td>NA</td><td>NA</td><td>fwd</td><td>NA</td><td>NA</td><td>ctrl_neg-Yu-ORF</td><td>ref</td></tr>\n",
       "\t<tr><td>ORF13856:870:500-700</td><td>NA</td><td>NA</td><td>NA</td><td>NA</td><td>ref</td><td>NA</td><td>NA</td><td>fwd</td><td>NA</td><td>NA</td><td>ctrl_neg-Yu-ORF</td><td>ref</td></tr>\n",
       "</tbody>\n",
       "</table>\n"
      ],
      "text/latex": [
       "A tibble: 6 × 13\n",
       "\\begin{tabular}{lllllllllllll}\n",
       " ID & SNP & chr & snp\\_pos & ref\\_allele & alt\\_allele & allele & window & strand & start & stop & project & haplotype\\\\\n",
       " <chr> & <chr> & <chr> & <dbl> & <chr> & <chr> & <chr> & <chr> & <chr> & <dbl> & <dbl> & <chr> & <chr>\\\\\n",
       "\\hline\n",
       "\t ORF13856:870:0-200   & NA & NA & NA & NA & ref & NA & NA & fwd & NA & NA & ctrl\\_neg-Yu-ORF & ref\\\\\n",
       "\t ORF13856:870:100-300 & NA & NA & NA & NA & ref & NA & NA & fwd & NA & NA & ctrl\\_neg-Yu-ORF & ref\\\\\n",
       "\t ORF13856:870:200-400 & NA & NA & NA & NA & ref & NA & NA & fwd & NA & NA & ctrl\\_neg-Yu-ORF & ref\\\\\n",
       "\t ORF13856:870:300-500 & NA & NA & NA & NA & ref & NA & NA & fwd & NA & NA & ctrl\\_neg-Yu-ORF & ref\\\\\n",
       "\t ORF13856:870:400-600 & NA & NA & NA & NA & ref & NA & NA & fwd & NA & NA & ctrl\\_neg-Yu-ORF & ref\\\\\n",
       "\t ORF13856:870:500-700 & NA & NA & NA & NA & ref & NA & NA & fwd & NA & NA & ctrl\\_neg-Yu-ORF & ref\\\\\n",
       "\\end{tabular}\n"
      ],
      "text/markdown": [
       "\n",
       "A tibble: 6 × 13\n",
       "\n",
       "| ID &lt;chr&gt; | SNP &lt;chr&gt; | chr &lt;chr&gt; | snp_pos &lt;dbl&gt; | ref_allele &lt;chr&gt; | alt_allele &lt;chr&gt; | allele &lt;chr&gt; | window &lt;chr&gt; | strand &lt;chr&gt; | start &lt;dbl&gt; | stop &lt;dbl&gt; | project &lt;chr&gt; | haplotype &lt;chr&gt; |\n",
       "|---|---|---|---|---|---|---|---|---|---|---|---|---|\n",
       "| ORF13856:870:0-200   | NA | NA | NA | NA | ref | NA | NA | fwd | NA | NA | ctrl_neg-Yu-ORF | ref |\n",
       "| ORF13856:870:100-300 | NA | NA | NA | NA | ref | NA | NA | fwd | NA | NA | ctrl_neg-Yu-ORF | ref |\n",
       "| ORF13856:870:200-400 | NA | NA | NA | NA | ref | NA | NA | fwd | NA | NA | ctrl_neg-Yu-ORF | ref |\n",
       "| ORF13856:870:300-500 | NA | NA | NA | NA | ref | NA | NA | fwd | NA | NA | ctrl_neg-Yu-ORF | ref |\n",
       "| ORF13856:870:400-600 | NA | NA | NA | NA | ref | NA | NA | fwd | NA | NA | ctrl_neg-Yu-ORF | ref |\n",
       "| ORF13856:870:500-700 | NA | NA | NA | NA | ref | NA | NA | fwd | NA | NA | ctrl_neg-Yu-ORF | ref |\n",
       "\n"
      ],
      "text/plain": [
       "  ID                   SNP chr snp_pos ref_allele alt_allele allele window\n",
       "1 ORF13856:870:0-200   NA  NA  NA      NA         ref        NA     NA    \n",
       "2 ORF13856:870:100-300 NA  NA  NA      NA         ref        NA     NA    \n",
       "3 ORF13856:870:200-400 NA  NA  NA      NA         ref        NA     NA    \n",
       "4 ORF13856:870:300-500 NA  NA  NA      NA         ref        NA     NA    \n",
       "5 ORF13856:870:400-600 NA  NA  NA      NA         ref        NA     NA    \n",
       "6 ORF13856:870:500-700 NA  NA  NA      NA         ref        NA     NA    \n",
       "  strand start stop project         haplotype\n",
       "1 fwd    NA    NA   ctrl_neg-Yu-ORF ref      \n",
       "2 fwd    NA    NA   ctrl_neg-Yu-ORF ref      \n",
       "3 fwd    NA    NA   ctrl_neg-Yu-ORF ref      \n",
       "4 fwd    NA    NA   ctrl_neg-Yu-ORF ref      \n",
       "5 fwd    NA    NA   ctrl_neg-Yu-ORF ref      \n",
       "6 fwd    NA    NA   ctrl_neg-Yu-ORF ref      "
      ]
     },
     "metadata": {},
     "output_type": "display_data"
    }
   ],
   "source": [
    "### set file directory\n",
    "fdiry = file.path(FD_RES, \"source\", \"MPRA\", \"Tewhey_TMPRA\", \"tiling_counts\")\n",
    "fname = \"OL45.attributes\"\n",
    "fpath = file.path(fdiry, fname)\n",
    "\n",
    "### import data\n",
    "dat = read_tsv(fpath)\n",
    "\n",
    "### show info\n",
    "dat_OL45_attributes = dat\n",
    "print(dim(dat))\n",
    "head(dat)"
   ]
  },
  {
   "cell_type": "markdown",
   "metadata": {},
   "source": [
    "## Explore: OL43, OL45"
   ]
  },
  {
   "cell_type": "code",
   "execution_count": 9,
   "metadata": {},
   "outputs": [],
   "source": [
    "lst_dat = list(\n",
    "    \"OL43\" = dat_OL43_attributes,\n",
    "    \"OL45\" = dat_OL45_attributes\n",
    ")"
   ]
  },
  {
   "cell_type": "code",
   "execution_count": 10,
   "metadata": {},
   "outputs": [
    {
     "name": "stdout",
     "output_type": "stream",
     "text": [
      "$OL43\n",
      "[1] 597  13\n",
      "\n",
      "$OL45\n",
      "[1] 625  13\n",
      "\n",
      "============================\n"
     ]
    },
    {
     "data": {
      "text/html": [
       "<dl>\n",
       "\t<dt>$OL43</dt>\n",
       "\t\t<dd><table class=\"dataframe\">\n",
       "<caption>A tibble: 6 × 13</caption>\n",
       "<thead>\n",
       "\t<tr><th scope=col>ID</th><th scope=col>SNP</th><th scope=col>chr</th><th scope=col>snp_pos</th><th scope=col>ref_allele</th><th scope=col>alt_allele</th><th scope=col>allele</th><th scope=col>window</th><th scope=col>strand</th><th scope=col>start</th><th scope=col>stop</th><th scope=col>project</th><th scope=col>haplotype</th></tr>\n",
       "\t<tr><th scope=col>&lt;chr&gt;</th><th scope=col>&lt;chr&gt;</th><th scope=col>&lt;chr&gt;</th><th scope=col>&lt;dbl&gt;</th><th scope=col>&lt;chr&gt;</th><th scope=col>&lt;chr&gt;</th><th scope=col>&lt;chr&gt;</th><th scope=col>&lt;chr&gt;</th><th scope=col>&lt;chr&gt;</th><th scope=col>&lt;dbl&gt;</th><th scope=col>&lt;dbl&gt;</th><th scope=col>&lt;chr&gt;</th><th scope=col>&lt;chr&gt;</th></tr>\n",
       "</thead>\n",
       "<tbody>\n",
       "\t<tr><td>1:10437778:C:T:R:wC </td><td>1:10437778:C:T   </td><td>1</td><td> 10437778</td><td>C </td><td>T </td><td>ref</td><td>center</td><td>fwd</td><td>NA</td><td>NA</td><td>ctrl_pos</td><td>ref</td></tr>\n",
       "\t<tr><td>1:10451799:C:T:R:wC </td><td>1:10451799:C:T   </td><td>1</td><td> 10451799</td><td>C </td><td>T </td><td>ref</td><td>center</td><td>fwd</td><td>NA</td><td>NA</td><td>ctrl_neg</td><td>ref</td></tr>\n",
       "\t<tr><td>1:110198727:C:G:R:wC</td><td>1:110198727:C:G  </td><td>1</td><td>110198727</td><td>C </td><td>G </td><td>ref</td><td>center</td><td>fwd</td><td>NA</td><td>NA</td><td>ctrl_pos</td><td>ref</td></tr>\n",
       "\t<tr><td>1:110881742:NA:NA   </td><td>1:110881742:NA:NA</td><td>1</td><td>110881742</td><td>NA</td><td>NA</td><td>NA </td><td>NA    </td><td>fwd</td><td>NA</td><td>NA</td><td>ctrl_pos</td><td>ref</td></tr>\n",
       "\t<tr><td>1:111838694:C:T:R:wC</td><td>1:111838694:C:T  </td><td>1</td><td>111838694</td><td>C </td><td>T </td><td>ref</td><td>center</td><td>fwd</td><td>NA</td><td>NA</td><td>ctrl_pos</td><td>ref</td></tr>\n",
       "\t<tr><td>1:113047064:NA:NA   </td><td>1:113047064:NA:NA</td><td>1</td><td>113047064</td><td>NA</td><td>NA</td><td>NA </td><td>NA    </td><td>fwd</td><td>NA</td><td>NA</td><td>ctrl_neg</td><td>ref</td></tr>\n",
       "</tbody>\n",
       "</table>\n",
       "</dd>\n",
       "\t<dt>$OL45</dt>\n",
       "\t\t<dd><table class=\"dataframe\">\n",
       "<caption>A tibble: 6 × 13</caption>\n",
       "<thead>\n",
       "\t<tr><th scope=col>ID</th><th scope=col>SNP</th><th scope=col>chr</th><th scope=col>snp_pos</th><th scope=col>ref_allele</th><th scope=col>alt_allele</th><th scope=col>allele</th><th scope=col>window</th><th scope=col>strand</th><th scope=col>start</th><th scope=col>stop</th><th scope=col>project</th><th scope=col>haplotype</th></tr>\n",
       "\t<tr><th scope=col>&lt;chr&gt;</th><th scope=col>&lt;chr&gt;</th><th scope=col>&lt;chr&gt;</th><th scope=col>&lt;dbl&gt;</th><th scope=col>&lt;chr&gt;</th><th scope=col>&lt;chr&gt;</th><th scope=col>&lt;chr&gt;</th><th scope=col>&lt;chr&gt;</th><th scope=col>&lt;chr&gt;</th><th scope=col>&lt;dbl&gt;</th><th scope=col>&lt;dbl&gt;</th><th scope=col>&lt;chr&gt;</th><th scope=col>&lt;chr&gt;</th></tr>\n",
       "</thead>\n",
       "<tbody>\n",
       "\t<tr><td>1:10437778:C:T:R:wC </td><td>1:10437778:C:T </td><td>1</td><td> 10437778</td><td>C</td><td>T</td><td>ref</td><td>center</td><td>fwd</td><td>NA</td><td>NA</td><td>ctrl_pos           </td><td>ref</td></tr>\n",
       "\t<tr><td>1:53246910:C:T:R:wC </td><td>1:53246910:C:T </td><td>1</td><td> 53246910</td><td>C</td><td>T</td><td>ref</td><td>center</td><td>fwd</td><td>NA</td><td>NA</td><td>ctrl_pos           </td><td>ref</td></tr>\n",
       "\t<tr><td>1:110198727:C:G:R:wC</td><td>1:110198727:C:G</td><td>1</td><td>110198727</td><td>C</td><td>G</td><td>ref</td><td>center</td><td>fwd</td><td>NA</td><td>NA</td><td>ctrl_pos           </td><td>ref</td></tr>\n",
       "\t<tr><td>1:111838694:C:T:R:wC</td><td>1:111838694:C:T</td><td>1</td><td>111838694</td><td>C</td><td>T</td><td>ref</td><td>center</td><td>fwd</td><td>NA</td><td>NA</td><td>ctrl_pos           </td><td>ref</td></tr>\n",
       "\t<tr><td>2:131079526:C:T:R:wC</td><td>2:131079526:C:T</td><td>2</td><td>131079526</td><td>C</td><td>T</td><td>ref</td><td>center</td><td>fwd</td><td>NA</td><td>NA</td><td>ctrl_emvar,ctrl_pos</td><td>ref</td></tr>\n",
       "\t<tr><td>2:75932627:T:C:R:wC </td><td>2:75932627:T:C </td><td>2</td><td> 75932627</td><td>T</td><td>C</td><td>ref</td><td>center</td><td>fwd</td><td>NA</td><td>NA</td><td>ctrl_pos           </td><td>ref</td></tr>\n",
       "</tbody>\n",
       "</table>\n",
       "</dd>\n",
       "</dl>\n"
      ],
      "text/latex": [
       "\\begin{description}\n",
       "\\item[\\$OL43] A tibble: 6 × 13\n",
       "\\begin{tabular}{lllllllllllll}\n",
       " ID & SNP & chr & snp\\_pos & ref\\_allele & alt\\_allele & allele & window & strand & start & stop & project & haplotype\\\\\n",
       " <chr> & <chr> & <chr> & <dbl> & <chr> & <chr> & <chr> & <chr> & <chr> & <dbl> & <dbl> & <chr> & <chr>\\\\\n",
       "\\hline\n",
       "\t 1:10437778:C:T:R:wC  & 1:10437778:C:T    & 1 &  10437778 & C  & T  & ref & center & fwd & NA & NA & ctrl\\_pos & ref\\\\\n",
       "\t 1:10451799:C:T:R:wC  & 1:10451799:C:T    & 1 &  10451799 & C  & T  & ref & center & fwd & NA & NA & ctrl\\_neg & ref\\\\\n",
       "\t 1:110198727:C:G:R:wC & 1:110198727:C:G   & 1 & 110198727 & C  & G  & ref & center & fwd & NA & NA & ctrl\\_pos & ref\\\\\n",
       "\t 1:110881742:NA:NA    & 1:110881742:NA:NA & 1 & 110881742 & NA & NA & NA  & NA     & fwd & NA & NA & ctrl\\_pos & ref\\\\\n",
       "\t 1:111838694:C:T:R:wC & 1:111838694:C:T   & 1 & 111838694 & C  & T  & ref & center & fwd & NA & NA & ctrl\\_pos & ref\\\\\n",
       "\t 1:113047064:NA:NA    & 1:113047064:NA:NA & 1 & 113047064 & NA & NA & NA  & NA     & fwd & NA & NA & ctrl\\_neg & ref\\\\\n",
       "\\end{tabular}\n",
       "\n",
       "\\item[\\$OL45] A tibble: 6 × 13\n",
       "\\begin{tabular}{lllllllllllll}\n",
       " ID & SNP & chr & snp\\_pos & ref\\_allele & alt\\_allele & allele & window & strand & start & stop & project & haplotype\\\\\n",
       " <chr> & <chr> & <chr> & <dbl> & <chr> & <chr> & <chr> & <chr> & <chr> & <dbl> & <dbl> & <chr> & <chr>\\\\\n",
       "\\hline\n",
       "\t 1:10437778:C:T:R:wC  & 1:10437778:C:T  & 1 &  10437778 & C & T & ref & center & fwd & NA & NA & ctrl\\_pos            & ref\\\\\n",
       "\t 1:53246910:C:T:R:wC  & 1:53246910:C:T  & 1 &  53246910 & C & T & ref & center & fwd & NA & NA & ctrl\\_pos            & ref\\\\\n",
       "\t 1:110198727:C:G:R:wC & 1:110198727:C:G & 1 & 110198727 & C & G & ref & center & fwd & NA & NA & ctrl\\_pos            & ref\\\\\n",
       "\t 1:111838694:C:T:R:wC & 1:111838694:C:T & 1 & 111838694 & C & T & ref & center & fwd & NA & NA & ctrl\\_pos            & ref\\\\\n",
       "\t 2:131079526:C:T:R:wC & 2:131079526:C:T & 2 & 131079526 & C & T & ref & center & fwd & NA & NA & ctrl\\_emvar,ctrl\\_pos & ref\\\\\n",
       "\t 2:75932627:T:C:R:wC  & 2:75932627:T:C  & 2 &  75932627 & T & C & ref & center & fwd & NA & NA & ctrl\\_pos            & ref\\\\\n",
       "\\end{tabular}\n",
       "\n",
       "\\end{description}\n"
      ],
      "text/markdown": [
       "$OL43\n",
       ":   \n",
       "A tibble: 6 × 13\n",
       "\n",
       "| ID &lt;chr&gt; | SNP &lt;chr&gt; | chr &lt;chr&gt; | snp_pos &lt;dbl&gt; | ref_allele &lt;chr&gt; | alt_allele &lt;chr&gt; | allele &lt;chr&gt; | window &lt;chr&gt; | strand &lt;chr&gt; | start &lt;dbl&gt; | stop &lt;dbl&gt; | project &lt;chr&gt; | haplotype &lt;chr&gt; |\n",
       "|---|---|---|---|---|---|---|---|---|---|---|---|---|\n",
       "| 1:10437778:C:T:R:wC  | 1:10437778:C:T    | 1 |  10437778 | C  | T  | ref | center | fwd | NA | NA | ctrl_pos | ref |\n",
       "| 1:10451799:C:T:R:wC  | 1:10451799:C:T    | 1 |  10451799 | C  | T  | ref | center | fwd | NA | NA | ctrl_neg | ref |\n",
       "| 1:110198727:C:G:R:wC | 1:110198727:C:G   | 1 | 110198727 | C  | G  | ref | center | fwd | NA | NA | ctrl_pos | ref |\n",
       "| 1:110881742:NA:NA    | 1:110881742:NA:NA | 1 | 110881742 | NA | NA | NA  | NA     | fwd | NA | NA | ctrl_pos | ref |\n",
       "| 1:111838694:C:T:R:wC | 1:111838694:C:T   | 1 | 111838694 | C  | T  | ref | center | fwd | NA | NA | ctrl_pos | ref |\n",
       "| 1:113047064:NA:NA    | 1:113047064:NA:NA | 1 | 113047064 | NA | NA | NA  | NA     | fwd | NA | NA | ctrl_neg | ref |\n",
       "\n",
       "\n",
       "$OL45\n",
       ":   \n",
       "A tibble: 6 × 13\n",
       "\n",
       "| ID &lt;chr&gt; | SNP &lt;chr&gt; | chr &lt;chr&gt; | snp_pos &lt;dbl&gt; | ref_allele &lt;chr&gt; | alt_allele &lt;chr&gt; | allele &lt;chr&gt; | window &lt;chr&gt; | strand &lt;chr&gt; | start &lt;dbl&gt; | stop &lt;dbl&gt; | project &lt;chr&gt; | haplotype &lt;chr&gt; |\n",
       "|---|---|---|---|---|---|---|---|---|---|---|---|---|\n",
       "| 1:10437778:C:T:R:wC  | 1:10437778:C:T  | 1 |  10437778 | C | T | ref | center | fwd | NA | NA | ctrl_pos            | ref |\n",
       "| 1:53246910:C:T:R:wC  | 1:53246910:C:T  | 1 |  53246910 | C | T | ref | center | fwd | NA | NA | ctrl_pos            | ref |\n",
       "| 1:110198727:C:G:R:wC | 1:110198727:C:G | 1 | 110198727 | C | G | ref | center | fwd | NA | NA | ctrl_pos            | ref |\n",
       "| 1:111838694:C:T:R:wC | 1:111838694:C:T | 1 | 111838694 | C | T | ref | center | fwd | NA | NA | ctrl_pos            | ref |\n",
       "| 2:131079526:C:T:R:wC | 2:131079526:C:T | 2 | 131079526 | C | T | ref | center | fwd | NA | NA | ctrl_emvar,ctrl_pos | ref |\n",
       "| 2:75932627:T:C:R:wC  | 2:75932627:T:C  | 2 |  75932627 | T | C | ref | center | fwd | NA | NA | ctrl_pos            | ref |\n",
       "\n",
       "\n",
       "\n",
       "\n"
      ],
      "text/plain": [
       "$OL43\n",
       "\u001b[90m# A tibble: 6 × 13\u001b[39m\n",
       "  ID        SNP   chr   snp_pos ref_a…¹ alt_a…² allele window strand start  stop\n",
       "  \u001b[3m\u001b[90m<chr>\u001b[39m\u001b[23m     \u001b[3m\u001b[90m<chr>\u001b[39m\u001b[23m \u001b[3m\u001b[90m<chr>\u001b[39m\u001b[23m   \u001b[3m\u001b[90m<dbl>\u001b[39m\u001b[23m \u001b[3m\u001b[90m<chr>\u001b[39m\u001b[23m   \u001b[3m\u001b[90m<chr>\u001b[39m\u001b[23m   \u001b[3m\u001b[90m<chr>\u001b[39m\u001b[23m  \u001b[3m\u001b[90m<chr>\u001b[39m\u001b[23m  \u001b[3m\u001b[90m<chr>\u001b[39m\u001b[23m  \u001b[3m\u001b[90m<dbl>\u001b[39m\u001b[23m \u001b[3m\u001b[90m<dbl>\u001b[39m\u001b[23m\n",
       "\u001b[90m1\u001b[39m 1:104377… 1:10… 1      1.04\u001b[90me\u001b[39m7 C       T       ref    center fwd       \u001b[31mNA\u001b[39m    \u001b[31mNA\u001b[39m\n",
       "\u001b[90m2\u001b[39m 1:104517… 1:10… 1      1.05\u001b[90me\u001b[39m7 C       T       ref    center fwd       \u001b[31mNA\u001b[39m    \u001b[31mNA\u001b[39m\n",
       "\u001b[90m3\u001b[39m 1:110198… 1:11… 1      1.10\u001b[90me\u001b[39m8 C       G       ref    center fwd       \u001b[31mNA\u001b[39m    \u001b[31mNA\u001b[39m\n",
       "\u001b[90m4\u001b[39m 1:110881… 1:11… 1      1.11\u001b[90me\u001b[39m8 \u001b[31mNA\u001b[39m      \u001b[31mNA\u001b[39m      \u001b[31mNA\u001b[39m     \u001b[31mNA\u001b[39m     fwd       \u001b[31mNA\u001b[39m    \u001b[31mNA\u001b[39m\n",
       "\u001b[90m5\u001b[39m 1:111838… 1:11… 1      1.12\u001b[90me\u001b[39m8 C       T       ref    center fwd       \u001b[31mNA\u001b[39m    \u001b[31mNA\u001b[39m\n",
       "\u001b[90m6\u001b[39m 1:113047… 1:11… 1      1.13\u001b[90me\u001b[39m8 \u001b[31mNA\u001b[39m      \u001b[31mNA\u001b[39m      \u001b[31mNA\u001b[39m     \u001b[31mNA\u001b[39m     fwd       \u001b[31mNA\u001b[39m    \u001b[31mNA\u001b[39m\n",
       "\u001b[90m# … with 2 more variables: project <chr>, haplotype <chr>, and abbreviated\u001b[39m\n",
       "\u001b[90m#   variable names ¹​ref_allele, ²​alt_allele\u001b[39m\n",
       "\n",
       "$OL45\n",
       "\u001b[90m# A tibble: 6 × 13\u001b[39m\n",
       "  ID        SNP   chr   snp_pos ref_a…¹ alt_a…² allele window strand start  stop\n",
       "  \u001b[3m\u001b[90m<chr>\u001b[39m\u001b[23m     \u001b[3m\u001b[90m<chr>\u001b[39m\u001b[23m \u001b[3m\u001b[90m<chr>\u001b[39m\u001b[23m   \u001b[3m\u001b[90m<dbl>\u001b[39m\u001b[23m \u001b[3m\u001b[90m<chr>\u001b[39m\u001b[23m   \u001b[3m\u001b[90m<chr>\u001b[39m\u001b[23m   \u001b[3m\u001b[90m<chr>\u001b[39m\u001b[23m  \u001b[3m\u001b[90m<chr>\u001b[39m\u001b[23m  \u001b[3m\u001b[90m<chr>\u001b[39m\u001b[23m  \u001b[3m\u001b[90m<dbl>\u001b[39m\u001b[23m \u001b[3m\u001b[90m<dbl>\u001b[39m\u001b[23m\n",
       "\u001b[90m1\u001b[39m 1:104377… 1:10… 1      1.04\u001b[90me\u001b[39m7 C       T       ref    center fwd       \u001b[31mNA\u001b[39m    \u001b[31mNA\u001b[39m\n",
       "\u001b[90m2\u001b[39m 1:532469… 1:53… 1      5.32\u001b[90me\u001b[39m7 C       T       ref    center fwd       \u001b[31mNA\u001b[39m    \u001b[31mNA\u001b[39m\n",
       "\u001b[90m3\u001b[39m 1:110198… 1:11… 1      1.10\u001b[90me\u001b[39m8 C       G       ref    center fwd       \u001b[31mNA\u001b[39m    \u001b[31mNA\u001b[39m\n",
       "\u001b[90m4\u001b[39m 1:111838… 1:11… 1      1.12\u001b[90me\u001b[39m8 C       T       ref    center fwd       \u001b[31mNA\u001b[39m    \u001b[31mNA\u001b[39m\n",
       "\u001b[90m5\u001b[39m 2:131079… 2:13… 2      1.31\u001b[90me\u001b[39m8 C       T       ref    center fwd       \u001b[31mNA\u001b[39m    \u001b[31mNA\u001b[39m\n",
       "\u001b[90m6\u001b[39m 2:759326… 2:75… 2      7.59\u001b[90me\u001b[39m7 T       C       ref    center fwd       \u001b[31mNA\u001b[39m    \u001b[31mNA\u001b[39m\n",
       "\u001b[90m# … with 2 more variables: project <chr>, haplotype <chr>, and abbreviated\u001b[39m\n",
       "\u001b[90m#   variable names ¹​ref_allele, ²​alt_allele\u001b[39m\n"
      ]
     },
     "metadata": {},
     "output_type": "display_data"
    }
   ],
   "source": [
    "###\n",
    "lst = lst_dat\n",
    "lst = lapply(lst, function(dat){\n",
    "    dat = dat %>% \n",
    "        dplyr::filter(str_detect(project, \"ctrl_pos|ctrl_neg\")) %>%\n",
    "        dplyr::filter(!str_detect(ID, \"Nadav|ORF\"))\n",
    "    return(dat)\n",
    "})\n",
    "\n",
    "###\n",
    "print(lapply(lst, dim))\n",
    "cat(\"============================\\n\")\n",
    "lapply(lst, head)"
   ]
  },
  {
   "cell_type": "code",
   "execution_count": 11,
   "metadata": {},
   "outputs": [
    {
     "data": {
      "text/plain": [
       "\n",
       "alt ref \n",
       " 52 279 "
      ]
     },
     "metadata": {},
     "output_type": "display_data"
    }
   ],
   "source": [
    "table(dat$allele)"
   ]
  },
  {
   "cell_type": "markdown",
   "metadata": {},
   "source": [
    "## Explore: OL13"
   ]
  },
  {
   "cell_type": "code",
   "execution_count": 12,
   "metadata": {},
   "outputs": [
    {
     "name": "stdout",
     "output_type": "stream",
     "text": [
      "[1] 57010    12\n"
     ]
    },
    {
     "data": {
      "text/html": [
       "<table class=\"dataframe\">\n",
       "<caption>A tibble: 6 × 12</caption>\n",
       "<thead>\n",
       "\t<tr><th scope=col>ID</th><th scope=col>SNP</th><th scope=col>chr</th><th scope=col>snp_pos</th><th scope=col>ref_allele</th><th scope=col>alt_allele</th><th scope=col>allele</th><th scope=col>window</th><th scope=col>strand</th><th scope=col>start</th><th scope=col>stop</th><th scope=col>project</th></tr>\n",
       "\t<tr><th scope=col>&lt;chr&gt;</th><th scope=col>&lt;chr&gt;</th><th scope=col>&lt;dbl&gt;</th><th scope=col>&lt;dbl&gt;</th><th scope=col>&lt;chr&gt;</th><th scope=col>&lt;chr&gt;</th><th scope=col>&lt;chr&gt;</th><th scope=col>&lt;chr&gt;</th><th scope=col>&lt;chr&gt;</th><th scope=col>&lt;dbl&gt;</th><th scope=col>&lt;dbl&gt;</th><th scope=col>&lt;chr&gt;</th></tr>\n",
       "</thead>\n",
       "<tbody>\n",
       "\t<tr><td>11:61554801-61555000_RC</td><td>NA</td><td>11</td><td>NA</td><td>NA</td><td>NA</td><td>NA</td><td>NA</td><td>rev</td><td>61554801</td><td>61555000</td><td>Tiles</td></tr>\n",
       "\t<tr><td>11:61554806-61555005_RC</td><td>NA</td><td>11</td><td>NA</td><td>NA</td><td>NA</td><td>NA</td><td>NA</td><td>rev</td><td>61554806</td><td>61555005</td><td>Tiles</td></tr>\n",
       "\t<tr><td>11:61554811-61555010_RC</td><td>NA</td><td>11</td><td>NA</td><td>NA</td><td>NA</td><td>NA</td><td>NA</td><td>rev</td><td>61554811</td><td>61555010</td><td>Tiles</td></tr>\n",
       "\t<tr><td>11:61554816-61555015_RC</td><td>NA</td><td>11</td><td>NA</td><td>NA</td><td>NA</td><td>NA</td><td>NA</td><td>rev</td><td>61554816</td><td>61555015</td><td>Tiles</td></tr>\n",
       "\t<tr><td>11:61554821-61555020_RC</td><td>NA</td><td>11</td><td>NA</td><td>NA</td><td>NA</td><td>NA</td><td>NA</td><td>rev</td><td>61554821</td><td>61555020</td><td>Tiles</td></tr>\n",
       "\t<tr><td>11:61554826-61555025_RC</td><td>NA</td><td>11</td><td>NA</td><td>NA</td><td>NA</td><td>NA</td><td>NA</td><td>rev</td><td>61554826</td><td>61555025</td><td>Tiles</td></tr>\n",
       "</tbody>\n",
       "</table>\n"
      ],
      "text/latex": [
       "A tibble: 6 × 12\n",
       "\\begin{tabular}{llllllllllll}\n",
       " ID & SNP & chr & snp\\_pos & ref\\_allele & alt\\_allele & allele & window & strand & start & stop & project\\\\\n",
       " <chr> & <chr> & <dbl> & <dbl> & <chr> & <chr> & <chr> & <chr> & <chr> & <dbl> & <dbl> & <chr>\\\\\n",
       "\\hline\n",
       "\t 11:61554801-61555000\\_RC & NA & 11 & NA & NA & NA & NA & NA & rev & 61554801 & 61555000 & Tiles\\\\\n",
       "\t 11:61554806-61555005\\_RC & NA & 11 & NA & NA & NA & NA & NA & rev & 61554806 & 61555005 & Tiles\\\\\n",
       "\t 11:61554811-61555010\\_RC & NA & 11 & NA & NA & NA & NA & NA & rev & 61554811 & 61555010 & Tiles\\\\\n",
       "\t 11:61554816-61555015\\_RC & NA & 11 & NA & NA & NA & NA & NA & rev & 61554816 & 61555015 & Tiles\\\\\n",
       "\t 11:61554821-61555020\\_RC & NA & 11 & NA & NA & NA & NA & NA & rev & 61554821 & 61555020 & Tiles\\\\\n",
       "\t 11:61554826-61555025\\_RC & NA & 11 & NA & NA & NA & NA & NA & rev & 61554826 & 61555025 & Tiles\\\\\n",
       "\\end{tabular}\n"
      ],
      "text/markdown": [
       "\n",
       "A tibble: 6 × 12\n",
       "\n",
       "| ID &lt;chr&gt; | SNP &lt;chr&gt; | chr &lt;dbl&gt; | snp_pos &lt;dbl&gt; | ref_allele &lt;chr&gt; | alt_allele &lt;chr&gt; | allele &lt;chr&gt; | window &lt;chr&gt; | strand &lt;chr&gt; | start &lt;dbl&gt; | stop &lt;dbl&gt; | project &lt;chr&gt; |\n",
       "|---|---|---|---|---|---|---|---|---|---|---|---|\n",
       "| 11:61554801-61555000_RC | NA | 11 | NA | NA | NA | NA | NA | rev | 61554801 | 61555000 | Tiles |\n",
       "| 11:61554806-61555005_RC | NA | 11 | NA | NA | NA | NA | NA | rev | 61554806 | 61555005 | Tiles |\n",
       "| 11:61554811-61555010_RC | NA | 11 | NA | NA | NA | NA | NA | rev | 61554811 | 61555010 | Tiles |\n",
       "| 11:61554816-61555015_RC | NA | 11 | NA | NA | NA | NA | NA | rev | 61554816 | 61555015 | Tiles |\n",
       "| 11:61554821-61555020_RC | NA | 11 | NA | NA | NA | NA | NA | rev | 61554821 | 61555020 | Tiles |\n",
       "| 11:61554826-61555025_RC | NA | 11 | NA | NA | NA | NA | NA | rev | 61554826 | 61555025 | Tiles |\n",
       "\n"
      ],
      "text/plain": [
       "  ID                      SNP chr snp_pos ref_allele alt_allele allele window\n",
       "1 11:61554801-61555000_RC NA  11  NA      NA         NA         NA     NA    \n",
       "2 11:61554806-61555005_RC NA  11  NA      NA         NA         NA     NA    \n",
       "3 11:61554811-61555010_RC NA  11  NA      NA         NA         NA     NA    \n",
       "4 11:61554816-61555015_RC NA  11  NA      NA         NA         NA     NA    \n",
       "5 11:61554821-61555020_RC NA  11  NA      NA         NA         NA     NA    \n",
       "6 11:61554826-61555025_RC NA  11  NA      NA         NA         NA     NA    \n",
       "  strand start    stop     project\n",
       "1 rev    61554801 61555000 Tiles  \n",
       "2 rev    61554806 61555005 Tiles  \n",
       "3 rev    61554811 61555010 Tiles  \n",
       "4 rev    61554816 61555015 Tiles  \n",
       "5 rev    61554821 61555020 Tiles  \n",
       "6 rev    61554826 61555025 Tiles  "
      ]
     },
     "metadata": {},
     "output_type": "display_data"
    }
   ],
   "source": [
    "dat = dat_OL13_attributes\n",
    "print(dim(dat))\n",
    "head(dat)"
   ]
  },
  {
   "cell_type": "code",
   "execution_count": 13,
   "metadata": {},
   "outputs": [
    {
     "data": {
      "text/plain": [
       "\n",
       "emVarCtrl   expCtrl   negCtrl       SNV     Tiles \n",
       "       80        18       150     12432     44330 "
      ]
     },
     "metadata": {},
     "output_type": "display_data"
    },
    {
     "data": {
      "text/plain": [
       "\n",
       " alt  ref \n",
       "6256 6424 "
      ]
     },
     "metadata": {},
     "output_type": "display_data"
    }
   ],
   "source": [
    "dat = dat_OL13_attributes\n",
    "table(dat$project)\n",
    "table(dat$allele)"
   ]
  },
  {
   "cell_type": "code",
   "execution_count": 14,
   "metadata": {},
   "outputs": [
    {
     "data": {
      "text/plain": [
       "           \n",
       "             alt  ref\n",
       "  emVarCtrl   40   40\n",
       "  expCtrl      0   18\n",
       "  negCtrl      0  150\n",
       "  SNV       6216 6216\n",
       "  Tiles        0    0"
      ]
     },
     "metadata": {},
     "output_type": "display_data"
    }
   ],
   "source": [
    "dat = dat_OL13_attributes\n",
    "table(dat$project, dat$allele)"
   ]
  },
  {
   "cell_type": "markdown",
   "metadata": {},
   "source": [
    "**Negative controls**"
   ]
  },
  {
   "cell_type": "code",
   "execution_count": 15,
   "metadata": {},
   "outputs": [
    {
     "name": "stdout",
     "output_type": "stream",
     "text": [
      "[1] 150  12\n"
     ]
    },
    {
     "data": {
      "text/html": [
       "<table class=\"dataframe\">\n",
       "<caption>A tibble: 20 × 12</caption>\n",
       "<thead>\n",
       "\t<tr><th scope=col>ID</th><th scope=col>SNP</th><th scope=col>chr</th><th scope=col>snp_pos</th><th scope=col>ref_allele</th><th scope=col>alt_allele</th><th scope=col>allele</th><th scope=col>window</th><th scope=col>strand</th><th scope=col>start</th><th scope=col>stop</th><th scope=col>project</th></tr>\n",
       "\t<tr><th scope=col>&lt;chr&gt;</th><th scope=col>&lt;chr&gt;</th><th scope=col>&lt;dbl&gt;</th><th scope=col>&lt;dbl&gt;</th><th scope=col>&lt;chr&gt;</th><th scope=col>&lt;chr&gt;</th><th scope=col>&lt;chr&gt;</th><th scope=col>&lt;chr&gt;</th><th scope=col>&lt;chr&gt;</th><th scope=col>&lt;dbl&gt;</th><th scope=col>&lt;dbl&gt;</th><th scope=col>&lt;chr&gt;</th></tr>\n",
       "</thead>\n",
       "<tbody>\n",
       "\t<tr><td>chr12:130465394:D_A</td><td>chr12:130465394:D</td><td>NA</td><td>NA</td><td>NA</td><td>NA</td><td>ref</td><td>center</td><td>fwd</td><td>NA</td><td>NA</td><td>negCtrl</td></tr>\n",
       "\t<tr><td>chr13:88534682:I_A </td><td>chr13:88534682:I </td><td>NA</td><td>NA</td><td>NA</td><td>NA</td><td>ref</td><td>center</td><td>fwd</td><td>NA</td><td>NA</td><td>negCtrl</td></tr>\n",
       "\t<tr><td>chr1:226393863:D_A </td><td>chr1:226393863:D </td><td>NA</td><td>NA</td><td>NA</td><td>NA</td><td>ref</td><td>center</td><td>fwd</td><td>NA</td><td>NA</td><td>negCtrl</td></tr>\n",
       "\t<tr><td>chr1:239122623:D_A </td><td>chr1:239122623:D </td><td>NA</td><td>NA</td><td>NA</td><td>NA</td><td>ref</td><td>center</td><td>fwd</td><td>NA</td><td>NA</td><td>negCtrl</td></tr>\n",
       "\t<tr><td>chr1:76154169:D_A  </td><td>chr1:76154169:D  </td><td>NA</td><td>NA</td><td>NA</td><td>NA</td><td>ref</td><td>center</td><td>fwd</td><td>NA</td><td>NA</td><td>negCtrl</td></tr>\n",
       "\t<tr><td>chr5:155564020:D_A </td><td>chr5:155564020:D </td><td>NA</td><td>NA</td><td>NA</td><td>NA</td><td>ref</td><td>center</td><td>fwd</td><td>NA</td><td>NA</td><td>negCtrl</td></tr>\n",
       "\t<tr><td>chr5:16350060:D_A  </td><td>chr5:16350060:D  </td><td>NA</td><td>NA</td><td>NA</td><td>NA</td><td>ref</td><td>center</td><td>fwd</td><td>NA</td><td>NA</td><td>negCtrl</td></tr>\n",
       "\t<tr><td>chr5:39611089:D_A  </td><td>chr5:39611089:D  </td><td>NA</td><td>NA</td><td>NA</td><td>NA</td><td>ref</td><td>center</td><td>fwd</td><td>NA</td><td>NA</td><td>negCtrl</td></tr>\n",
       "\t<tr><td>rs10035423_A       </td><td>rs10035423       </td><td>NA</td><td>NA</td><td>NA</td><td>NA</td><td>ref</td><td>center</td><td>fwd</td><td>NA</td><td>NA</td><td>negCtrl</td></tr>\n",
       "\t<tr><td>rs10146602_A       </td><td>rs10146602       </td><td>NA</td><td>NA</td><td>NA</td><td>NA</td><td>ref</td><td>center</td><td>fwd</td><td>NA</td><td>NA</td><td>negCtrl</td></tr>\n",
       "\t<tr><td>rs10201513_A       </td><td>rs10201513       </td><td>NA</td><td>NA</td><td>NA</td><td>NA</td><td>ref</td><td>center</td><td>fwd</td><td>NA</td><td>NA</td><td>negCtrl</td></tr>\n",
       "\t<tr><td>rs10247186_A       </td><td>rs10247186       </td><td>NA</td><td>NA</td><td>NA</td><td>NA</td><td>ref</td><td>center</td><td>fwd</td><td>NA</td><td>NA</td><td>negCtrl</td></tr>\n",
       "\t<tr><td>rs10269336_A       </td><td>rs10269336       </td><td>NA</td><td>NA</td><td>NA</td><td>NA</td><td>ref</td><td>center</td><td>fwd</td><td>NA</td><td>NA</td><td>negCtrl</td></tr>\n",
       "\t<tr><td>rs10490679_A       </td><td>rs10490679       </td><td>NA</td><td>NA</td><td>NA</td><td>NA</td><td>ref</td><td>center</td><td>fwd</td><td>NA</td><td>NA</td><td>negCtrl</td></tr>\n",
       "\t<tr><td>rs10763302_A       </td><td>rs10763302       </td><td>NA</td><td>NA</td><td>NA</td><td>NA</td><td>ref</td><td>center</td><td>fwd</td><td>NA</td><td>NA</td><td>negCtrl</td></tr>\n",
       "\t<tr><td>rs10986638_A       </td><td>rs10986638       </td><td>NA</td><td>NA</td><td>NA</td><td>NA</td><td>ref</td><td>center</td><td>fwd</td><td>NA</td><td>NA</td><td>negCtrl</td></tr>\n",
       "\t<tr><td>rs11003412_A       </td><td>rs11003412       </td><td>NA</td><td>NA</td><td>NA</td><td>NA</td><td>ref</td><td>center</td><td>fwd</td><td>NA</td><td>NA</td><td>negCtrl</td></tr>\n",
       "\t<tr><td>rs11046934_A       </td><td>rs11046934       </td><td>NA</td><td>NA</td><td>NA</td><td>NA</td><td>ref</td><td>center</td><td>fwd</td><td>NA</td><td>NA</td><td>negCtrl</td></tr>\n",
       "\t<tr><td>rs11083736_A       </td><td>rs11083736       </td><td>NA</td><td>NA</td><td>NA</td><td>NA</td><td>ref</td><td>center</td><td>fwd</td><td>NA</td><td>NA</td><td>negCtrl</td></tr>\n",
       "\t<tr><td>rs1114534_A        </td><td>rs1114534        </td><td>NA</td><td>NA</td><td>NA</td><td>NA</td><td>ref</td><td>center</td><td>fwd</td><td>NA</td><td>NA</td><td>negCtrl</td></tr>\n",
       "</tbody>\n",
       "</table>\n"
      ],
      "text/latex": [
       "A tibble: 20 × 12\n",
       "\\begin{tabular}{llllllllllll}\n",
       " ID & SNP & chr & snp\\_pos & ref\\_allele & alt\\_allele & allele & window & strand & start & stop & project\\\\\n",
       " <chr> & <chr> & <dbl> & <dbl> & <chr> & <chr> & <chr> & <chr> & <chr> & <dbl> & <dbl> & <chr>\\\\\n",
       "\\hline\n",
       "\t chr12:130465394:D\\_A & chr12:130465394:D & NA & NA & NA & NA & ref & center & fwd & NA & NA & negCtrl\\\\\n",
       "\t chr13:88534682:I\\_A  & chr13:88534682:I  & NA & NA & NA & NA & ref & center & fwd & NA & NA & negCtrl\\\\\n",
       "\t chr1:226393863:D\\_A  & chr1:226393863:D  & NA & NA & NA & NA & ref & center & fwd & NA & NA & negCtrl\\\\\n",
       "\t chr1:239122623:D\\_A  & chr1:239122623:D  & NA & NA & NA & NA & ref & center & fwd & NA & NA & negCtrl\\\\\n",
       "\t chr1:76154169:D\\_A   & chr1:76154169:D   & NA & NA & NA & NA & ref & center & fwd & NA & NA & negCtrl\\\\\n",
       "\t chr5:155564020:D\\_A  & chr5:155564020:D  & NA & NA & NA & NA & ref & center & fwd & NA & NA & negCtrl\\\\\n",
       "\t chr5:16350060:D\\_A   & chr5:16350060:D   & NA & NA & NA & NA & ref & center & fwd & NA & NA & negCtrl\\\\\n",
       "\t chr5:39611089:D\\_A   & chr5:39611089:D   & NA & NA & NA & NA & ref & center & fwd & NA & NA & negCtrl\\\\\n",
       "\t rs10035423\\_A        & rs10035423        & NA & NA & NA & NA & ref & center & fwd & NA & NA & negCtrl\\\\\n",
       "\t rs10146602\\_A        & rs10146602        & NA & NA & NA & NA & ref & center & fwd & NA & NA & negCtrl\\\\\n",
       "\t rs10201513\\_A        & rs10201513        & NA & NA & NA & NA & ref & center & fwd & NA & NA & negCtrl\\\\\n",
       "\t rs10247186\\_A        & rs10247186        & NA & NA & NA & NA & ref & center & fwd & NA & NA & negCtrl\\\\\n",
       "\t rs10269336\\_A        & rs10269336        & NA & NA & NA & NA & ref & center & fwd & NA & NA & negCtrl\\\\\n",
       "\t rs10490679\\_A        & rs10490679        & NA & NA & NA & NA & ref & center & fwd & NA & NA & negCtrl\\\\\n",
       "\t rs10763302\\_A        & rs10763302        & NA & NA & NA & NA & ref & center & fwd & NA & NA & negCtrl\\\\\n",
       "\t rs10986638\\_A        & rs10986638        & NA & NA & NA & NA & ref & center & fwd & NA & NA & negCtrl\\\\\n",
       "\t rs11003412\\_A        & rs11003412        & NA & NA & NA & NA & ref & center & fwd & NA & NA & negCtrl\\\\\n",
       "\t rs11046934\\_A        & rs11046934        & NA & NA & NA & NA & ref & center & fwd & NA & NA & negCtrl\\\\\n",
       "\t rs11083736\\_A        & rs11083736        & NA & NA & NA & NA & ref & center & fwd & NA & NA & negCtrl\\\\\n",
       "\t rs1114534\\_A         & rs1114534         & NA & NA & NA & NA & ref & center & fwd & NA & NA & negCtrl\\\\\n",
       "\\end{tabular}\n"
      ],
      "text/markdown": [
       "\n",
       "A tibble: 20 × 12\n",
       "\n",
       "| ID &lt;chr&gt; | SNP &lt;chr&gt; | chr &lt;dbl&gt; | snp_pos &lt;dbl&gt; | ref_allele &lt;chr&gt; | alt_allele &lt;chr&gt; | allele &lt;chr&gt; | window &lt;chr&gt; | strand &lt;chr&gt; | start &lt;dbl&gt; | stop &lt;dbl&gt; | project &lt;chr&gt; |\n",
       "|---|---|---|---|---|---|---|---|---|---|---|---|\n",
       "| chr12:130465394:D_A | chr12:130465394:D | NA | NA | NA | NA | ref | center | fwd | NA | NA | negCtrl |\n",
       "| chr13:88534682:I_A  | chr13:88534682:I  | NA | NA | NA | NA | ref | center | fwd | NA | NA | negCtrl |\n",
       "| chr1:226393863:D_A  | chr1:226393863:D  | NA | NA | NA | NA | ref | center | fwd | NA | NA | negCtrl |\n",
       "| chr1:239122623:D_A  | chr1:239122623:D  | NA | NA | NA | NA | ref | center | fwd | NA | NA | negCtrl |\n",
       "| chr1:76154169:D_A   | chr1:76154169:D   | NA | NA | NA | NA | ref | center | fwd | NA | NA | negCtrl |\n",
       "| chr5:155564020:D_A  | chr5:155564020:D  | NA | NA | NA | NA | ref | center | fwd | NA | NA | negCtrl |\n",
       "| chr5:16350060:D_A   | chr5:16350060:D   | NA | NA | NA | NA | ref | center | fwd | NA | NA | negCtrl |\n",
       "| chr5:39611089:D_A   | chr5:39611089:D   | NA | NA | NA | NA | ref | center | fwd | NA | NA | negCtrl |\n",
       "| rs10035423_A        | rs10035423        | NA | NA | NA | NA | ref | center | fwd | NA | NA | negCtrl |\n",
       "| rs10146602_A        | rs10146602        | NA | NA | NA | NA | ref | center | fwd | NA | NA | negCtrl |\n",
       "| rs10201513_A        | rs10201513        | NA | NA | NA | NA | ref | center | fwd | NA | NA | negCtrl |\n",
       "| rs10247186_A        | rs10247186        | NA | NA | NA | NA | ref | center | fwd | NA | NA | negCtrl |\n",
       "| rs10269336_A        | rs10269336        | NA | NA | NA | NA | ref | center | fwd | NA | NA | negCtrl |\n",
       "| rs10490679_A        | rs10490679        | NA | NA | NA | NA | ref | center | fwd | NA | NA | negCtrl |\n",
       "| rs10763302_A        | rs10763302        | NA | NA | NA | NA | ref | center | fwd | NA | NA | negCtrl |\n",
       "| rs10986638_A        | rs10986638        | NA | NA | NA | NA | ref | center | fwd | NA | NA | negCtrl |\n",
       "| rs11003412_A        | rs11003412        | NA | NA | NA | NA | ref | center | fwd | NA | NA | negCtrl |\n",
       "| rs11046934_A        | rs11046934        | NA | NA | NA | NA | ref | center | fwd | NA | NA | negCtrl |\n",
       "| rs11083736_A        | rs11083736        | NA | NA | NA | NA | ref | center | fwd | NA | NA | negCtrl |\n",
       "| rs1114534_A         | rs1114534         | NA | NA | NA | NA | ref | center | fwd | NA | NA | negCtrl |\n",
       "\n"
      ],
      "text/plain": [
       "   ID                  SNP               chr snp_pos ref_allele alt_allele\n",
       "1  chr12:130465394:D_A chr12:130465394:D NA  NA      NA         NA        \n",
       "2  chr13:88534682:I_A  chr13:88534682:I  NA  NA      NA         NA        \n",
       "3  chr1:226393863:D_A  chr1:226393863:D  NA  NA      NA         NA        \n",
       "4  chr1:239122623:D_A  chr1:239122623:D  NA  NA      NA         NA        \n",
       "5  chr1:76154169:D_A   chr1:76154169:D   NA  NA      NA         NA        \n",
       "6  chr5:155564020:D_A  chr5:155564020:D  NA  NA      NA         NA        \n",
       "7  chr5:16350060:D_A   chr5:16350060:D   NA  NA      NA         NA        \n",
       "8  chr5:39611089:D_A   chr5:39611089:D   NA  NA      NA         NA        \n",
       "9  rs10035423_A        rs10035423        NA  NA      NA         NA        \n",
       "10 rs10146602_A        rs10146602        NA  NA      NA         NA        \n",
       "11 rs10201513_A        rs10201513        NA  NA      NA         NA        \n",
       "12 rs10247186_A        rs10247186        NA  NA      NA         NA        \n",
       "13 rs10269336_A        rs10269336        NA  NA      NA         NA        \n",
       "14 rs10490679_A        rs10490679        NA  NA      NA         NA        \n",
       "15 rs10763302_A        rs10763302        NA  NA      NA         NA        \n",
       "16 rs10986638_A        rs10986638        NA  NA      NA         NA        \n",
       "17 rs11003412_A        rs11003412        NA  NA      NA         NA        \n",
       "18 rs11046934_A        rs11046934        NA  NA      NA         NA        \n",
       "19 rs11083736_A        rs11083736        NA  NA      NA         NA        \n",
       "20 rs1114534_A         rs1114534         NA  NA      NA         NA        \n",
       "   allele window strand start stop project\n",
       "1  ref    center fwd    NA    NA   negCtrl\n",
       "2  ref    center fwd    NA    NA   negCtrl\n",
       "3  ref    center fwd    NA    NA   negCtrl\n",
       "4  ref    center fwd    NA    NA   negCtrl\n",
       "5  ref    center fwd    NA    NA   negCtrl\n",
       "6  ref    center fwd    NA    NA   negCtrl\n",
       "7  ref    center fwd    NA    NA   negCtrl\n",
       "8  ref    center fwd    NA    NA   negCtrl\n",
       "9  ref    center fwd    NA    NA   negCtrl\n",
       "10 ref    center fwd    NA    NA   negCtrl\n",
       "11 ref    center fwd    NA    NA   negCtrl\n",
       "12 ref    center fwd    NA    NA   negCtrl\n",
       "13 ref    center fwd    NA    NA   negCtrl\n",
       "14 ref    center fwd    NA    NA   negCtrl\n",
       "15 ref    center fwd    NA    NA   negCtrl\n",
       "16 ref    center fwd    NA    NA   negCtrl\n",
       "17 ref    center fwd    NA    NA   negCtrl\n",
       "18 ref    center fwd    NA    NA   negCtrl\n",
       "19 ref    center fwd    NA    NA   negCtrl\n",
       "20 ref    center fwd    NA    NA   negCtrl"
      ]
     },
     "metadata": {},
     "output_type": "display_data"
    }
   ],
   "source": [
    "dat = dat_OL13_attributes\n",
    "dat = dat %>% dplyr::filter(project == \"negCtrl\")\n",
    "\n",
    "print(dim(dat))\n",
    "head(dat, 20)"
   ]
  },
  {
   "cell_type": "code",
   "execution_count": 16,
   "metadata": {},
   "outputs": [
    {
     "data": {
      "text/html": [
       "<table class=\"dataframe\">\n",
       "<caption>A tibble: 6 × 12</caption>\n",
       "<thead>\n",
       "\t<tr><th scope=col>ID</th><th scope=col>SNP</th><th scope=col>chr</th><th scope=col>snp_pos</th><th scope=col>ref_allele</th><th scope=col>alt_allele</th><th scope=col>allele</th><th scope=col>window</th><th scope=col>strand</th><th scope=col>start</th><th scope=col>stop</th><th scope=col>project</th></tr>\n",
       "\t<tr><th scope=col>&lt;chr&gt;</th><th scope=col>&lt;chr&gt;</th><th scope=col>&lt;dbl&gt;</th><th scope=col>&lt;dbl&gt;</th><th scope=col>&lt;chr&gt;</th><th scope=col>&lt;chr&gt;</th><th scope=col>&lt;chr&gt;</th><th scope=col>&lt;chr&gt;</th><th scope=col>&lt;chr&gt;</th><th scope=col>&lt;dbl&gt;</th><th scope=col>&lt;dbl&gt;</th><th scope=col>&lt;chr&gt;</th></tr>\n",
       "</thead>\n",
       "<tbody>\n",
       "\t<tr><td>rs9663401_A</td><td>rs9663401</td><td>NA</td><td>NA</td><td>NA</td><td>NA</td><td>ref</td><td>center</td><td>fwd</td><td>NA</td><td>NA</td><td>negCtrl</td></tr>\n",
       "\t<tr><td>rs9672127_A</td><td>rs9672127</td><td>NA</td><td>NA</td><td>NA</td><td>NA</td><td>ref</td><td>center</td><td>fwd</td><td>NA</td><td>NA</td><td>negCtrl</td></tr>\n",
       "\t<tr><td>rs9815834_A</td><td>rs9815834</td><td>NA</td><td>NA</td><td>NA</td><td>NA</td><td>ref</td><td>center</td><td>fwd</td><td>NA</td><td>NA</td><td>negCtrl</td></tr>\n",
       "\t<tr><td>rs9848848_A</td><td>rs9848848</td><td>NA</td><td>NA</td><td>NA</td><td>NA</td><td>ref</td><td>center</td><td>fwd</td><td>NA</td><td>NA</td><td>negCtrl</td></tr>\n",
       "\t<tr><td>rs9871549_A</td><td>rs9871549</td><td>NA</td><td>NA</td><td>NA</td><td>NA</td><td>ref</td><td>center</td><td>fwd</td><td>NA</td><td>NA</td><td>negCtrl</td></tr>\n",
       "\t<tr><td>rs9886992_A</td><td>rs9886992</td><td>NA</td><td>NA</td><td>NA</td><td>NA</td><td>ref</td><td>center</td><td>fwd</td><td>NA</td><td>NA</td><td>negCtrl</td></tr>\n",
       "</tbody>\n",
       "</table>\n"
      ],
      "text/latex": [
       "A tibble: 6 × 12\n",
       "\\begin{tabular}{llllllllllll}\n",
       " ID & SNP & chr & snp\\_pos & ref\\_allele & alt\\_allele & allele & window & strand & start & stop & project\\\\\n",
       " <chr> & <chr> & <dbl> & <dbl> & <chr> & <chr> & <chr> & <chr> & <chr> & <dbl> & <dbl> & <chr>\\\\\n",
       "\\hline\n",
       "\t rs9663401\\_A & rs9663401 & NA & NA & NA & NA & ref & center & fwd & NA & NA & negCtrl\\\\\n",
       "\t rs9672127\\_A & rs9672127 & NA & NA & NA & NA & ref & center & fwd & NA & NA & negCtrl\\\\\n",
       "\t rs9815834\\_A & rs9815834 & NA & NA & NA & NA & ref & center & fwd & NA & NA & negCtrl\\\\\n",
       "\t rs9848848\\_A & rs9848848 & NA & NA & NA & NA & ref & center & fwd & NA & NA & negCtrl\\\\\n",
       "\t rs9871549\\_A & rs9871549 & NA & NA & NA & NA & ref & center & fwd & NA & NA & negCtrl\\\\\n",
       "\t rs9886992\\_A & rs9886992 & NA & NA & NA & NA & ref & center & fwd & NA & NA & negCtrl\\\\\n",
       "\\end{tabular}\n"
      ],
      "text/markdown": [
       "\n",
       "A tibble: 6 × 12\n",
       "\n",
       "| ID &lt;chr&gt; | SNP &lt;chr&gt; | chr &lt;dbl&gt; | snp_pos &lt;dbl&gt; | ref_allele &lt;chr&gt; | alt_allele &lt;chr&gt; | allele &lt;chr&gt; | window &lt;chr&gt; | strand &lt;chr&gt; | start &lt;dbl&gt; | stop &lt;dbl&gt; | project &lt;chr&gt; |\n",
       "|---|---|---|---|---|---|---|---|---|---|---|---|\n",
       "| rs9663401_A | rs9663401 | NA | NA | NA | NA | ref | center | fwd | NA | NA | negCtrl |\n",
       "| rs9672127_A | rs9672127 | NA | NA | NA | NA | ref | center | fwd | NA | NA | negCtrl |\n",
       "| rs9815834_A | rs9815834 | NA | NA | NA | NA | ref | center | fwd | NA | NA | negCtrl |\n",
       "| rs9848848_A | rs9848848 | NA | NA | NA | NA | ref | center | fwd | NA | NA | negCtrl |\n",
       "| rs9871549_A | rs9871549 | NA | NA | NA | NA | ref | center | fwd | NA | NA | negCtrl |\n",
       "| rs9886992_A | rs9886992 | NA | NA | NA | NA | ref | center | fwd | NA | NA | negCtrl |\n",
       "\n"
      ],
      "text/plain": [
       "  ID          SNP       chr snp_pos ref_allele alt_allele allele window strand\n",
       "1 rs9663401_A rs9663401 NA  NA      NA         NA         ref    center fwd   \n",
       "2 rs9672127_A rs9672127 NA  NA      NA         NA         ref    center fwd   \n",
       "3 rs9815834_A rs9815834 NA  NA      NA         NA         ref    center fwd   \n",
       "4 rs9848848_A rs9848848 NA  NA      NA         NA         ref    center fwd   \n",
       "5 rs9871549_A rs9871549 NA  NA      NA         NA         ref    center fwd   \n",
       "6 rs9886992_A rs9886992 NA  NA      NA         NA         ref    center fwd   \n",
       "  start stop project\n",
       "1 NA    NA   negCtrl\n",
       "2 NA    NA   negCtrl\n",
       "3 NA    NA   negCtrl\n",
       "4 NA    NA   negCtrl\n",
       "5 NA    NA   negCtrl\n",
       "6 NA    NA   negCtrl"
      ]
     },
     "metadata": {},
     "output_type": "display_data"
    }
   ],
   "source": [
    "tail(dat)"
   ]
  },
  {
   "cell_type": "markdown",
   "metadata": {},
   "source": [
    "**Positive controls**"
   ]
  },
  {
   "cell_type": "code",
   "execution_count": 17,
   "metadata": {},
   "outputs": [
    {
     "name": "stdout",
     "output_type": "stream",
     "text": [
      "[1] 18 12\n"
     ]
    },
    {
     "data": {
      "text/html": [
       "<table class=\"dataframe\">\n",
       "<caption>A tibble: 18 × 12</caption>\n",
       "<thead>\n",
       "\t<tr><th scope=col>ID</th><th scope=col>SNP</th><th scope=col>chr</th><th scope=col>snp_pos</th><th scope=col>ref_allele</th><th scope=col>alt_allele</th><th scope=col>allele</th><th scope=col>window</th><th scope=col>strand</th><th scope=col>start</th><th scope=col>stop</th><th scope=col>project</th></tr>\n",
       "\t<tr><th scope=col>&lt;chr&gt;</th><th scope=col>&lt;chr&gt;</th><th scope=col>&lt;dbl&gt;</th><th scope=col>&lt;dbl&gt;</th><th scope=col>&lt;chr&gt;</th><th scope=col>&lt;chr&gt;</th><th scope=col>&lt;chr&gt;</th><th scope=col>&lt;chr&gt;</th><th scope=col>&lt;chr&gt;</th><th scope=col>&lt;dbl&gt;</th><th scope=col>&lt;dbl&gt;</th><th scope=col>&lt;chr&gt;</th></tr>\n",
       "</thead>\n",
       "<tbody>\n",
       "\t<tr><td>rs10146759_A </td><td>rs10146759 </td><td>NA</td><td>NA</td><td>NA</td><td>NA</td><td>ref</td><td>center</td><td>fwd</td><td>NA</td><td>NA</td><td>expCtrl</td></tr>\n",
       "\t<tr><td>rs112554467_A</td><td>rs112554467</td><td>NA</td><td>NA</td><td>NA</td><td>NA</td><td>ref</td><td>center</td><td>fwd</td><td>NA</td><td>NA</td><td>expCtrl</td></tr>\n",
       "\t<tr><td>rs113065267_A</td><td>rs113065267</td><td>NA</td><td>NA</td><td>NA</td><td>NA</td><td>ref</td><td>center</td><td>fwd</td><td>NA</td><td>NA</td><td>expCtrl</td></tr>\n",
       "\t<tr><td>rs113975468_A</td><td>rs113975468</td><td>NA</td><td>NA</td><td>NA</td><td>NA</td><td>ref</td><td>center</td><td>fwd</td><td>NA</td><td>NA</td><td>expCtrl</td></tr>\n",
       "\t<tr><td>rs116025516_A</td><td>rs116025516</td><td>NA</td><td>NA</td><td>NA</td><td>NA</td><td>ref</td><td>center</td><td>fwd</td><td>NA</td><td>NA</td><td>expCtrl</td></tr>\n",
       "\t<tr><td>rs11650220_A </td><td>rs11650220 </td><td>NA</td><td>NA</td><td>NA</td><td>NA</td><td>ref</td><td>center</td><td>fwd</td><td>NA</td><td>NA</td><td>expCtrl</td></tr>\n",
       "\t<tr><td>rs150914256_A</td><td>rs150914256</td><td>NA</td><td>NA</td><td>NA</td><td>NA</td><td>ref</td><td>center</td><td>fwd</td><td>NA</td><td>NA</td><td>expCtrl</td></tr>\n",
       "\t<tr><td>rs28364709_A </td><td>rs28364709 </td><td>NA</td><td>NA</td><td>NA</td><td>NA</td><td>ref</td><td>center</td><td>fwd</td><td>NA</td><td>NA</td><td>expCtrl</td></tr>\n",
       "\t<tr><td>rs28514618_A </td><td>rs28514618 </td><td>NA</td><td>NA</td><td>NA</td><td>NA</td><td>ref</td><td>center</td><td>fwd</td><td>NA</td><td>NA</td><td>expCtrl</td></tr>\n",
       "\t<tr><td>rs28640237_A </td><td>rs28640237 </td><td>NA</td><td>NA</td><td>NA</td><td>NA</td><td>ref</td><td>center</td><td>fwd</td><td>NA</td><td>NA</td><td>expCtrl</td></tr>\n",
       "\t<tr><td>rs6062371_A  </td><td>rs6062371  </td><td>NA</td><td>NA</td><td>NA</td><td>NA</td><td>ref</td><td>center</td><td>fwd</td><td>NA</td><td>NA</td><td>expCtrl</td></tr>\n",
       "\t<tr><td>rs62108166_A </td><td>rs62108166 </td><td>NA</td><td>NA</td><td>NA</td><td>NA</td><td>ref</td><td>center</td><td>fwd</td><td>NA</td><td>NA</td><td>expCtrl</td></tr>\n",
       "\t<tr><td>rs62530285_A </td><td>rs62530285 </td><td>NA</td><td>NA</td><td>NA</td><td>NA</td><td>ref</td><td>center</td><td>fwd</td><td>NA</td><td>NA</td><td>expCtrl</td></tr>\n",
       "\t<tr><td>rs6729549_A  </td><td>rs6729549  </td><td>NA</td><td>NA</td><td>NA</td><td>NA</td><td>ref</td><td>center</td><td>fwd</td><td>NA</td><td>NA</td><td>expCtrl</td></tr>\n",
       "\t<tr><td>rs7029097_A  </td><td>rs7029097  </td><td>NA</td><td>NA</td><td>NA</td><td>NA</td><td>ref</td><td>center</td><td>fwd</td><td>NA</td><td>NA</td><td>expCtrl</td></tr>\n",
       "\t<tr><td>rs72629024_A </td><td>rs72629024 </td><td>NA</td><td>NA</td><td>NA</td><td>NA</td><td>ref</td><td>center</td><td>fwd</td><td>NA</td><td>NA</td><td>expCtrl</td></tr>\n",
       "\t<tr><td>rs8055894_A  </td><td>rs8055894  </td><td>NA</td><td>NA</td><td>NA</td><td>NA</td><td>ref</td><td>center</td><td>fwd</td><td>NA</td><td>NA</td><td>expCtrl</td></tr>\n",
       "\t<tr><td>rs9749442_A  </td><td>rs9749442  </td><td>NA</td><td>NA</td><td>NA</td><td>NA</td><td>ref</td><td>center</td><td>fwd</td><td>NA</td><td>NA</td><td>expCtrl</td></tr>\n",
       "</tbody>\n",
       "</table>\n"
      ],
      "text/latex": [
       "A tibble: 18 × 12\n",
       "\\begin{tabular}{llllllllllll}\n",
       " ID & SNP & chr & snp\\_pos & ref\\_allele & alt\\_allele & allele & window & strand & start & stop & project\\\\\n",
       " <chr> & <chr> & <dbl> & <dbl> & <chr> & <chr> & <chr> & <chr> & <chr> & <dbl> & <dbl> & <chr>\\\\\n",
       "\\hline\n",
       "\t rs10146759\\_A  & rs10146759  & NA & NA & NA & NA & ref & center & fwd & NA & NA & expCtrl\\\\\n",
       "\t rs112554467\\_A & rs112554467 & NA & NA & NA & NA & ref & center & fwd & NA & NA & expCtrl\\\\\n",
       "\t rs113065267\\_A & rs113065267 & NA & NA & NA & NA & ref & center & fwd & NA & NA & expCtrl\\\\\n",
       "\t rs113975468\\_A & rs113975468 & NA & NA & NA & NA & ref & center & fwd & NA & NA & expCtrl\\\\\n",
       "\t rs116025516\\_A & rs116025516 & NA & NA & NA & NA & ref & center & fwd & NA & NA & expCtrl\\\\\n",
       "\t rs11650220\\_A  & rs11650220  & NA & NA & NA & NA & ref & center & fwd & NA & NA & expCtrl\\\\\n",
       "\t rs150914256\\_A & rs150914256 & NA & NA & NA & NA & ref & center & fwd & NA & NA & expCtrl\\\\\n",
       "\t rs28364709\\_A  & rs28364709  & NA & NA & NA & NA & ref & center & fwd & NA & NA & expCtrl\\\\\n",
       "\t rs28514618\\_A  & rs28514618  & NA & NA & NA & NA & ref & center & fwd & NA & NA & expCtrl\\\\\n",
       "\t rs28640237\\_A  & rs28640237  & NA & NA & NA & NA & ref & center & fwd & NA & NA & expCtrl\\\\\n",
       "\t rs6062371\\_A   & rs6062371   & NA & NA & NA & NA & ref & center & fwd & NA & NA & expCtrl\\\\\n",
       "\t rs62108166\\_A  & rs62108166  & NA & NA & NA & NA & ref & center & fwd & NA & NA & expCtrl\\\\\n",
       "\t rs62530285\\_A  & rs62530285  & NA & NA & NA & NA & ref & center & fwd & NA & NA & expCtrl\\\\\n",
       "\t rs6729549\\_A   & rs6729549   & NA & NA & NA & NA & ref & center & fwd & NA & NA & expCtrl\\\\\n",
       "\t rs7029097\\_A   & rs7029097   & NA & NA & NA & NA & ref & center & fwd & NA & NA & expCtrl\\\\\n",
       "\t rs72629024\\_A  & rs72629024  & NA & NA & NA & NA & ref & center & fwd & NA & NA & expCtrl\\\\\n",
       "\t rs8055894\\_A   & rs8055894   & NA & NA & NA & NA & ref & center & fwd & NA & NA & expCtrl\\\\\n",
       "\t rs9749442\\_A   & rs9749442   & NA & NA & NA & NA & ref & center & fwd & NA & NA & expCtrl\\\\\n",
       "\\end{tabular}\n"
      ],
      "text/markdown": [
       "\n",
       "A tibble: 18 × 12\n",
       "\n",
       "| ID &lt;chr&gt; | SNP &lt;chr&gt; | chr &lt;dbl&gt; | snp_pos &lt;dbl&gt; | ref_allele &lt;chr&gt; | alt_allele &lt;chr&gt; | allele &lt;chr&gt; | window &lt;chr&gt; | strand &lt;chr&gt; | start &lt;dbl&gt; | stop &lt;dbl&gt; | project &lt;chr&gt; |\n",
       "|---|---|---|---|---|---|---|---|---|---|---|---|\n",
       "| rs10146759_A  | rs10146759  | NA | NA | NA | NA | ref | center | fwd | NA | NA | expCtrl |\n",
       "| rs112554467_A | rs112554467 | NA | NA | NA | NA | ref | center | fwd | NA | NA | expCtrl |\n",
       "| rs113065267_A | rs113065267 | NA | NA | NA | NA | ref | center | fwd | NA | NA | expCtrl |\n",
       "| rs113975468_A | rs113975468 | NA | NA | NA | NA | ref | center | fwd | NA | NA | expCtrl |\n",
       "| rs116025516_A | rs116025516 | NA | NA | NA | NA | ref | center | fwd | NA | NA | expCtrl |\n",
       "| rs11650220_A  | rs11650220  | NA | NA | NA | NA | ref | center | fwd | NA | NA | expCtrl |\n",
       "| rs150914256_A | rs150914256 | NA | NA | NA | NA | ref | center | fwd | NA | NA | expCtrl |\n",
       "| rs28364709_A  | rs28364709  | NA | NA | NA | NA | ref | center | fwd | NA | NA | expCtrl |\n",
       "| rs28514618_A  | rs28514618  | NA | NA | NA | NA | ref | center | fwd | NA | NA | expCtrl |\n",
       "| rs28640237_A  | rs28640237  | NA | NA | NA | NA | ref | center | fwd | NA | NA | expCtrl |\n",
       "| rs6062371_A   | rs6062371   | NA | NA | NA | NA | ref | center | fwd | NA | NA | expCtrl |\n",
       "| rs62108166_A  | rs62108166  | NA | NA | NA | NA | ref | center | fwd | NA | NA | expCtrl |\n",
       "| rs62530285_A  | rs62530285  | NA | NA | NA | NA | ref | center | fwd | NA | NA | expCtrl |\n",
       "| rs6729549_A   | rs6729549   | NA | NA | NA | NA | ref | center | fwd | NA | NA | expCtrl |\n",
       "| rs7029097_A   | rs7029097   | NA | NA | NA | NA | ref | center | fwd | NA | NA | expCtrl |\n",
       "| rs72629024_A  | rs72629024  | NA | NA | NA | NA | ref | center | fwd | NA | NA | expCtrl |\n",
       "| rs8055894_A   | rs8055894   | NA | NA | NA | NA | ref | center | fwd | NA | NA | expCtrl |\n",
       "| rs9749442_A   | rs9749442   | NA | NA | NA | NA | ref | center | fwd | NA | NA | expCtrl |\n",
       "\n"
      ],
      "text/plain": [
       "   ID            SNP         chr snp_pos ref_allele alt_allele allele window\n",
       "1  rs10146759_A  rs10146759  NA  NA      NA         NA         ref    center\n",
       "2  rs112554467_A rs112554467 NA  NA      NA         NA         ref    center\n",
       "3  rs113065267_A rs113065267 NA  NA      NA         NA         ref    center\n",
       "4  rs113975468_A rs113975468 NA  NA      NA         NA         ref    center\n",
       "5  rs116025516_A rs116025516 NA  NA      NA         NA         ref    center\n",
       "6  rs11650220_A  rs11650220  NA  NA      NA         NA         ref    center\n",
       "7  rs150914256_A rs150914256 NA  NA      NA         NA         ref    center\n",
       "8  rs28364709_A  rs28364709  NA  NA      NA         NA         ref    center\n",
       "9  rs28514618_A  rs28514618  NA  NA      NA         NA         ref    center\n",
       "10 rs28640237_A  rs28640237  NA  NA      NA         NA         ref    center\n",
       "11 rs6062371_A   rs6062371   NA  NA      NA         NA         ref    center\n",
       "12 rs62108166_A  rs62108166  NA  NA      NA         NA         ref    center\n",
       "13 rs62530285_A  rs62530285  NA  NA      NA         NA         ref    center\n",
       "14 rs6729549_A   rs6729549   NA  NA      NA         NA         ref    center\n",
       "15 rs7029097_A   rs7029097   NA  NA      NA         NA         ref    center\n",
       "16 rs72629024_A  rs72629024  NA  NA      NA         NA         ref    center\n",
       "17 rs8055894_A   rs8055894   NA  NA      NA         NA         ref    center\n",
       "18 rs9749442_A   rs9749442   NA  NA      NA         NA         ref    center\n",
       "   strand start stop project\n",
       "1  fwd    NA    NA   expCtrl\n",
       "2  fwd    NA    NA   expCtrl\n",
       "3  fwd    NA    NA   expCtrl\n",
       "4  fwd    NA    NA   expCtrl\n",
       "5  fwd    NA    NA   expCtrl\n",
       "6  fwd    NA    NA   expCtrl\n",
       "7  fwd    NA    NA   expCtrl\n",
       "8  fwd    NA    NA   expCtrl\n",
       "9  fwd    NA    NA   expCtrl\n",
       "10 fwd    NA    NA   expCtrl\n",
       "11 fwd    NA    NA   expCtrl\n",
       "12 fwd    NA    NA   expCtrl\n",
       "13 fwd    NA    NA   expCtrl\n",
       "14 fwd    NA    NA   expCtrl\n",
       "15 fwd    NA    NA   expCtrl\n",
       "16 fwd    NA    NA   expCtrl\n",
       "17 fwd    NA    NA   expCtrl\n",
       "18 fwd    NA    NA   expCtrl"
      ]
     },
     "metadata": {},
     "output_type": "display_data"
    }
   ],
   "source": [
    "dat = dat_OL13_attributes\n",
    "dat = dat %>% dplyr::filter(project == \"expCtrl\")\n",
    "\n",
    "print(dim(dat))\n",
    "head(dat, 20)"
   ]
  },
  {
   "cell_type": "code",
   "execution_count": 18,
   "metadata": {},
   "outputs": [
    {
     "data": {
      "text/html": [
       "<table class=\"dataframe\">\n",
       "<caption>A tibble: 10 × 12</caption>\n",
       "<thead>\n",
       "\t<tr><th scope=col>ID</th><th scope=col>SNP</th><th scope=col>chr</th><th scope=col>snp_pos</th><th scope=col>ref_allele</th><th scope=col>alt_allele</th><th scope=col>allele</th><th scope=col>window</th><th scope=col>strand</th><th scope=col>start</th><th scope=col>stop</th><th scope=col>project</th></tr>\n",
       "\t<tr><th scope=col>&lt;chr&gt;</th><th scope=col>&lt;chr&gt;</th><th scope=col>&lt;dbl&gt;</th><th scope=col>&lt;dbl&gt;</th><th scope=col>&lt;chr&gt;</th><th scope=col>&lt;chr&gt;</th><th scope=col>&lt;chr&gt;</th><th scope=col>&lt;chr&gt;</th><th scope=col>&lt;chr&gt;</th><th scope=col>&lt;dbl&gt;</th><th scope=col>&lt;dbl&gt;</th><th scope=col>&lt;chr&gt;</th></tr>\n",
       "</thead>\n",
       "<tbody>\n",
       "\t<tr><td>rs28514618_A</td><td>rs28514618</td><td>NA</td><td>NA</td><td>NA</td><td>NA</td><td>ref</td><td>center</td><td>fwd</td><td>NA</td><td>NA</td><td>expCtrl</td></tr>\n",
       "\t<tr><td>rs28640237_A</td><td>rs28640237</td><td>NA</td><td>NA</td><td>NA</td><td>NA</td><td>ref</td><td>center</td><td>fwd</td><td>NA</td><td>NA</td><td>expCtrl</td></tr>\n",
       "\t<tr><td>rs6062371_A </td><td>rs6062371 </td><td>NA</td><td>NA</td><td>NA</td><td>NA</td><td>ref</td><td>center</td><td>fwd</td><td>NA</td><td>NA</td><td>expCtrl</td></tr>\n",
       "\t<tr><td>rs62108166_A</td><td>rs62108166</td><td>NA</td><td>NA</td><td>NA</td><td>NA</td><td>ref</td><td>center</td><td>fwd</td><td>NA</td><td>NA</td><td>expCtrl</td></tr>\n",
       "\t<tr><td>rs62530285_A</td><td>rs62530285</td><td>NA</td><td>NA</td><td>NA</td><td>NA</td><td>ref</td><td>center</td><td>fwd</td><td>NA</td><td>NA</td><td>expCtrl</td></tr>\n",
       "\t<tr><td>rs6729549_A </td><td>rs6729549 </td><td>NA</td><td>NA</td><td>NA</td><td>NA</td><td>ref</td><td>center</td><td>fwd</td><td>NA</td><td>NA</td><td>expCtrl</td></tr>\n",
       "\t<tr><td>rs7029097_A </td><td>rs7029097 </td><td>NA</td><td>NA</td><td>NA</td><td>NA</td><td>ref</td><td>center</td><td>fwd</td><td>NA</td><td>NA</td><td>expCtrl</td></tr>\n",
       "\t<tr><td>rs72629024_A</td><td>rs72629024</td><td>NA</td><td>NA</td><td>NA</td><td>NA</td><td>ref</td><td>center</td><td>fwd</td><td>NA</td><td>NA</td><td>expCtrl</td></tr>\n",
       "\t<tr><td>rs8055894_A </td><td>rs8055894 </td><td>NA</td><td>NA</td><td>NA</td><td>NA</td><td>ref</td><td>center</td><td>fwd</td><td>NA</td><td>NA</td><td>expCtrl</td></tr>\n",
       "\t<tr><td>rs9749442_A </td><td>rs9749442 </td><td>NA</td><td>NA</td><td>NA</td><td>NA</td><td>ref</td><td>center</td><td>fwd</td><td>NA</td><td>NA</td><td>expCtrl</td></tr>\n",
       "</tbody>\n",
       "</table>\n"
      ],
      "text/latex": [
       "A tibble: 10 × 12\n",
       "\\begin{tabular}{llllllllllll}\n",
       " ID & SNP & chr & snp\\_pos & ref\\_allele & alt\\_allele & allele & window & strand & start & stop & project\\\\\n",
       " <chr> & <chr> & <dbl> & <dbl> & <chr> & <chr> & <chr> & <chr> & <chr> & <dbl> & <dbl> & <chr>\\\\\n",
       "\\hline\n",
       "\t rs28514618\\_A & rs28514618 & NA & NA & NA & NA & ref & center & fwd & NA & NA & expCtrl\\\\\n",
       "\t rs28640237\\_A & rs28640237 & NA & NA & NA & NA & ref & center & fwd & NA & NA & expCtrl\\\\\n",
       "\t rs6062371\\_A  & rs6062371  & NA & NA & NA & NA & ref & center & fwd & NA & NA & expCtrl\\\\\n",
       "\t rs62108166\\_A & rs62108166 & NA & NA & NA & NA & ref & center & fwd & NA & NA & expCtrl\\\\\n",
       "\t rs62530285\\_A & rs62530285 & NA & NA & NA & NA & ref & center & fwd & NA & NA & expCtrl\\\\\n",
       "\t rs6729549\\_A  & rs6729549  & NA & NA & NA & NA & ref & center & fwd & NA & NA & expCtrl\\\\\n",
       "\t rs7029097\\_A  & rs7029097  & NA & NA & NA & NA & ref & center & fwd & NA & NA & expCtrl\\\\\n",
       "\t rs72629024\\_A & rs72629024 & NA & NA & NA & NA & ref & center & fwd & NA & NA & expCtrl\\\\\n",
       "\t rs8055894\\_A  & rs8055894  & NA & NA & NA & NA & ref & center & fwd & NA & NA & expCtrl\\\\\n",
       "\t rs9749442\\_A  & rs9749442  & NA & NA & NA & NA & ref & center & fwd & NA & NA & expCtrl\\\\\n",
       "\\end{tabular}\n"
      ],
      "text/markdown": [
       "\n",
       "A tibble: 10 × 12\n",
       "\n",
       "| ID &lt;chr&gt; | SNP &lt;chr&gt; | chr &lt;dbl&gt; | snp_pos &lt;dbl&gt; | ref_allele &lt;chr&gt; | alt_allele &lt;chr&gt; | allele &lt;chr&gt; | window &lt;chr&gt; | strand &lt;chr&gt; | start &lt;dbl&gt; | stop &lt;dbl&gt; | project &lt;chr&gt; |\n",
       "|---|---|---|---|---|---|---|---|---|---|---|---|\n",
       "| rs28514618_A | rs28514618 | NA | NA | NA | NA | ref | center | fwd | NA | NA | expCtrl |\n",
       "| rs28640237_A | rs28640237 | NA | NA | NA | NA | ref | center | fwd | NA | NA | expCtrl |\n",
       "| rs6062371_A  | rs6062371  | NA | NA | NA | NA | ref | center | fwd | NA | NA | expCtrl |\n",
       "| rs62108166_A | rs62108166 | NA | NA | NA | NA | ref | center | fwd | NA | NA | expCtrl |\n",
       "| rs62530285_A | rs62530285 | NA | NA | NA | NA | ref | center | fwd | NA | NA | expCtrl |\n",
       "| rs6729549_A  | rs6729549  | NA | NA | NA | NA | ref | center | fwd | NA | NA | expCtrl |\n",
       "| rs7029097_A  | rs7029097  | NA | NA | NA | NA | ref | center | fwd | NA | NA | expCtrl |\n",
       "| rs72629024_A | rs72629024 | NA | NA | NA | NA | ref | center | fwd | NA | NA | expCtrl |\n",
       "| rs8055894_A  | rs8055894  | NA | NA | NA | NA | ref | center | fwd | NA | NA | expCtrl |\n",
       "| rs9749442_A  | rs9749442  | NA | NA | NA | NA | ref | center | fwd | NA | NA | expCtrl |\n",
       "\n"
      ],
      "text/plain": [
       "   ID           SNP        chr snp_pos ref_allele alt_allele allele window\n",
       "1  rs28514618_A rs28514618 NA  NA      NA         NA         ref    center\n",
       "2  rs28640237_A rs28640237 NA  NA      NA         NA         ref    center\n",
       "3  rs6062371_A  rs6062371  NA  NA      NA         NA         ref    center\n",
       "4  rs62108166_A rs62108166 NA  NA      NA         NA         ref    center\n",
       "5  rs62530285_A rs62530285 NA  NA      NA         NA         ref    center\n",
       "6  rs6729549_A  rs6729549  NA  NA      NA         NA         ref    center\n",
       "7  rs7029097_A  rs7029097  NA  NA      NA         NA         ref    center\n",
       "8  rs72629024_A rs72629024 NA  NA      NA         NA         ref    center\n",
       "9  rs8055894_A  rs8055894  NA  NA      NA         NA         ref    center\n",
       "10 rs9749442_A  rs9749442  NA  NA      NA         NA         ref    center\n",
       "   strand start stop project\n",
       "1  fwd    NA    NA   expCtrl\n",
       "2  fwd    NA    NA   expCtrl\n",
       "3  fwd    NA    NA   expCtrl\n",
       "4  fwd    NA    NA   expCtrl\n",
       "5  fwd    NA    NA   expCtrl\n",
       "6  fwd    NA    NA   expCtrl\n",
       "7  fwd    NA    NA   expCtrl\n",
       "8  fwd    NA    NA   expCtrl\n",
       "9  fwd    NA    NA   expCtrl\n",
       "10 fwd    NA    NA   expCtrl"
      ]
     },
     "metadata": {},
     "output_type": "display_data"
    }
   ],
   "source": [
    "tail(dat, 10)"
   ]
  },
  {
   "cell_type": "markdown",
   "metadata": {},
   "source": [
    "## Test | convert rsid to genome location"
   ]
  },
  {
   "cell_type": "code",
   "execution_count": 20,
   "metadata": {},
   "outputs": [
    {
     "name": "stderr",
     "output_type": "stream",
     "text": [
      "Loading required package: BSgenome\n",
      "\n",
      "Loading required package: BiocGenerics\n",
      "\n",
      "\n",
      "Attaching package: ‘BiocGenerics’\n",
      "\n",
      "\n",
      "The following object is masked from ‘package:gridExtra’:\n",
      "\n",
      "    combine\n",
      "\n",
      "\n",
      "The following objects are masked from ‘package:dplyr’:\n",
      "\n",
      "    combine, intersect, setdiff, union\n",
      "\n",
      "\n",
      "The following objects are masked from ‘package:stats’:\n",
      "\n",
      "    IQR, mad, sd, var, xtabs\n",
      "\n",
      "\n",
      "The following objects are masked from ‘package:base’:\n",
      "\n",
      "    anyDuplicated, aperm, append, as.data.frame, basename, cbind,\n",
      "    colnames, dirname, do.call, duplicated, eval, evalq, Filter, Find,\n",
      "    get, grep, grepl, intersect, is.unsorted, lapply, Map, mapply,\n",
      "    match, mget, order, paste, pmax, pmax.int, pmin, pmin.int,\n",
      "    Position, rank, rbind, Reduce, rownames, sapply, setdiff, sort,\n",
      "    table, tapply, union, unique, unsplit, which.max, which.min\n",
      "\n",
      "\n",
      "Loading required package: S4Vectors\n",
      "\n",
      "Loading required package: stats4\n",
      "\n",
      "\n",
      "Attaching package: ‘S4Vectors’\n",
      "\n",
      "\n",
      "The following objects are masked from ‘package:dplyr’:\n",
      "\n",
      "    first, rename\n",
      "\n",
      "\n",
      "The following object is masked from ‘package:tidyr’:\n",
      "\n",
      "    expand\n",
      "\n",
      "\n",
      "The following objects are masked from ‘package:base’:\n",
      "\n",
      "    expand.grid, I, unname\n",
      "\n",
      "\n",
      "Loading required package: IRanges\n",
      "\n",
      "\n",
      "Attaching package: ‘IRanges’\n",
      "\n",
      "\n",
      "The following objects are masked from ‘package:dplyr’:\n",
      "\n",
      "    collapse, desc, slice\n",
      "\n",
      "\n",
      "The following object is masked from ‘package:purrr’:\n",
      "\n",
      "    reduce\n",
      "\n",
      "\n",
      "Loading required package: GenomeInfoDb\n",
      "\n",
      "Loading required package: GenomicRanges\n",
      "\n",
      "Loading required package: Biostrings\n",
      "\n",
      "Loading required package: XVector\n",
      "\n",
      "\n",
      "Attaching package: ‘XVector’\n",
      "\n",
      "\n",
      "The following object is masked from ‘package:purrr’:\n",
      "\n",
      "    compact\n",
      "\n",
      "\n",
      "\n",
      "Attaching package: ‘Biostrings’\n",
      "\n",
      "\n",
      "The following object is masked from ‘package:grid’:\n",
      "\n",
      "    pattern\n",
      "\n",
      "\n",
      "The following object is masked from ‘package:base’:\n",
      "\n",
      "    strsplit\n",
      "\n",
      "\n",
      "Loading required package: rtracklayer\n",
      "\n"
     ]
    }
   ],
   "source": [
    "library(SNPlocs.Hsapiens.dbSNP155.GRCh38)"
   ]
  },
  {
   "cell_type": "code",
   "execution_count": 21,
   "metadata": {},
   "outputs": [
    {
     "data": {
      "text/plain": [
       "# SNPlocs object for Homo sapiens (dbSNP Human Build 155)\n",
       "# reference genome: GRCh38.p13\n",
       "# nb of SNPs: 949021448"
      ]
     },
     "metadata": {},
     "output_type": "display_data"
    }
   ],
   "source": [
    "snps = SNPlocs.Hsapiens.dbSNP155.GRCh38\n",
    "snps"
   ]
  },
  {
   "cell_type": "code",
   "execution_count": 22,
   "metadata": {},
   "outputs": [
    {
     "data": {
      "text/plain": [
       "GRanges object with 2 ranges and 0 metadata columns:\n",
       "      seqnames    ranges strand\n",
       "         <Rle> <IRanges>  <Rle>\n",
       "  [1]        1   1-10050      *\n",
       "  [2]        2   1-10050      *\n",
       "  -------\n",
       "  seqinfo: 2 sequences from an unspecified genome; no seqlengths"
      ]
     },
     "metadata": {},
     "output_type": "display_data"
    }
   ],
   "source": [
    "grg = GRanges(c(\"1:1-10050\", \"2:1-10050\"))\n",
    "grg"
   ]
  },
  {
   "cell_type": "code",
   "execution_count": 23,
   "metadata": {},
   "outputs": [
    {
     "data": {
      "text/plain": [
       "UnstitchedGPos object with 46 positions and 2 metadata columns:\n",
       "       seqnames       pos strand |    RefSNP_id alleles_as_ambig\n",
       "          <Rle> <integer>  <Rle> |  <character>      <character>\n",
       "   [1]        1     10001      * | rs1570391677                H\n",
       "   [2]        1     10002      * | rs1570391692                M\n",
       "   [3]        1     10003      * | rs1570391694                M\n",
       "   [4]        1     10007      * | rs1639538116                B\n",
       "   [5]        1     10008      * | rs1570391698                N\n",
       "   ...      ...       ...    ... .          ...              ...\n",
       "  [42]        2     10040      * | rs1572047120                M\n",
       "  [43]        2     10041      * | rs1572047123                M\n",
       "  [44]        2     10043      * | rs1663363016                M\n",
       "  [45]        2     10049      * | rs1572047140                M\n",
       "  [46]        2     10050      * | rs1572047147                S\n",
       "  -------\n",
       "  seqinfo: 25 sequences (1 circular) from GRCh38.p13 genome"
      ]
     },
     "metadata": {},
     "output_type": "display_data"
    }
   ],
   "source": [
    "## The first call to snpsByOverlaps() takes a while. Subsequent calls are fast.\n",
    "snpsByOverlaps(snps, grg)"
   ]
  },
  {
   "cell_type": "code",
   "execution_count": 24,
   "metadata": {},
   "outputs": [
    {
     "data": {
      "text/plain": [
       "UnstitchedGPos object with 46 positions and 5 metadata columns:\n",
       "       seqnames       pos strand |    RefSNP_id alleles_as_ambig genome_compat\n",
       "          <Rle> <integer>  <Rle> |  <character>      <character>     <logical>\n",
       "   [1]        1     10001      * | rs1570391677                H          TRUE\n",
       "   [2]        1     10002      * | rs1570391692                M          TRUE\n",
       "   [3]        1     10003      * | rs1570391694                M          TRUE\n",
       "   [4]        1     10007      * | rs1639538116                B          TRUE\n",
       "   [5]        1     10008      * | rs1570391698                N          TRUE\n",
       "   ...      ...       ...    ... .          ...              ...           ...\n",
       "  [42]        2     10040      * | rs1572047120                M          TRUE\n",
       "  [43]        2     10041      * | rs1572047123                M          TRUE\n",
       "  [44]        2     10043      * | rs1663363016                M          TRUE\n",
       "  [45]        2     10049      * | rs1572047140                M          TRUE\n",
       "  [46]        2     10050      * | rs1572047147                S          TRUE\n",
       "        ref_allele     alt_alleles\n",
       "       <character> <CharacterList>\n",
       "   [1]           T             A,C\n",
       "   [2]           A               C\n",
       "   [3]           A               C\n",
       "   [4]           T             C,G\n",
       "   [5]           A           C,G,T\n",
       "   ...         ...             ...\n",
       "  [42]           C               A\n",
       "  [43]           A               C\n",
       "  [44]           C               A\n",
       "  [45]           C               A\n",
       "  [46]           C               G\n",
       "  -------\n",
       "  seqinfo: 25 sequences (1 circular) from GRCh38.p13 genome"
      ]
     },
     "metadata": {},
     "output_type": "display_data"
    }
   ],
   "source": [
    "library(BSgenome.Hsapiens.UCSC.hg38)\n",
    "genome <- BSgenome.Hsapiens.UCSC.hg38\n",
    "seqlevelsStyle(genome) <- \"NCBI\"\n",
    "\n",
    "snpsByOverlaps(snps, grg, genome=genome)"
   ]
  },
  {
   "cell_type": "markdown",
   "metadata": {},
   "source": [
    "## Test conversion from RSID to genome coordinate"
   ]
  },
  {
   "cell_type": "code",
   "execution_count": 26,
   "metadata": {},
   "outputs": [
    {
     "data": {
      "text/html": [
       "<style>\n",
       ".list-inline {list-style: none; margin:0; padding: 0}\n",
       ".list-inline>li {display: inline-block}\n",
       ".list-inline>li:not(:last-child)::after {content: \"\\00b7\"; padding: 0 .5ex}\n",
       "</style>\n",
       "<ol class=list-inline><li>'rs10146759'</li><li>'rs112554467'</li><li>'rs113065267'</li><li>'rs113975468'</li><li>'rs116025516'</li><li>'rs11650220'</li><li>'rs150914256'</li><li>'rs28364709'</li><li>'rs28514618'</li><li>'rs28640237'</li><li>'rs6062371'</li><li>'rs62108166'</li><li>'rs62530285'</li><li>'rs6729549'</li><li>'rs7029097'</li><li>'rs72629024'</li><li>'rs8055894'</li><li>'rs9749442'</li></ol>\n"
      ],
      "text/latex": [
       "\\begin{enumerate*}\n",
       "\\item 'rs10146759'\n",
       "\\item 'rs112554467'\n",
       "\\item 'rs113065267'\n",
       "\\item 'rs113975468'\n",
       "\\item 'rs116025516'\n",
       "\\item 'rs11650220'\n",
       "\\item 'rs150914256'\n",
       "\\item 'rs28364709'\n",
       "\\item 'rs28514618'\n",
       "\\item 'rs28640237'\n",
       "\\item 'rs6062371'\n",
       "\\item 'rs62108166'\n",
       "\\item 'rs62530285'\n",
       "\\item 'rs6729549'\n",
       "\\item 'rs7029097'\n",
       "\\item 'rs72629024'\n",
       "\\item 'rs8055894'\n",
       "\\item 'rs9749442'\n",
       "\\end{enumerate*}\n"
      ],
      "text/markdown": [
       "1. 'rs10146759'\n",
       "2. 'rs112554467'\n",
       "3. 'rs113065267'\n",
       "4. 'rs113975468'\n",
       "5. 'rs116025516'\n",
       "6. 'rs11650220'\n",
       "7. 'rs150914256'\n",
       "8. 'rs28364709'\n",
       "9. 'rs28514618'\n",
       "10. 'rs28640237'\n",
       "11. 'rs6062371'\n",
       "12. 'rs62108166'\n",
       "13. 'rs62530285'\n",
       "14. 'rs6729549'\n",
       "15. 'rs7029097'\n",
       "16. 'rs72629024'\n",
       "17. 'rs8055894'\n",
       "18. 'rs9749442'\n",
       "\n",
       "\n"
      ],
      "text/plain": [
       " [1] \"rs10146759\"  \"rs112554467\" \"rs113065267\" \"rs113975468\" \"rs116025516\"\n",
       " [6] \"rs11650220\"  \"rs150914256\" \"rs28364709\"  \"rs28514618\"  \"rs28640237\" \n",
       "[11] \"rs6062371\"   \"rs62108166\"  \"rs62530285\"  \"rs6729549\"   \"rs7029097\"  \n",
       "[16] \"rs72629024\"  \"rs8055894\"   \"rs9749442\"  "
      ]
     },
     "metadata": {},
     "output_type": "display_data"
    }
   ],
   "source": [
    "dat = dat_OL13_attributes\n",
    "dat = dat %>% dplyr::filter(project == \"expCtrl\")\n",
    "dat$SNP"
   ]
  },
  {
   "cell_type": "code",
   "execution_count": 27,
   "metadata": {},
   "outputs": [
    {
     "data": {
      "text/plain": [
       "# SNPlocs object for Homo sapiens (dbSNP Human Build 155)\n",
       "# reference genome: GRCh38.p13\n",
       "# nb of SNPs: 949021448"
      ]
     },
     "metadata": {},
     "output_type": "display_data"
    }
   ],
   "source": [
    "snps"
   ]
  },
  {
   "cell_type": "code",
   "execution_count": 28,
   "metadata": {},
   "outputs": [
    {
     "ename": "ERROR",
     "evalue": "Error in rowids2rowidx(user_rowids, ids, x_rowids_env, ifnotfound): SNP ids not found: rs112554467, rs113065267, rs116025516\n  \n  Use 'ifnotfound=\"drop\"' to drop them.\n",
     "output_type": "error",
     "traceback": [
      "Error in rowids2rowidx(user_rowids, ids, x_rowids_env, ifnotfound): SNP ids not found: rs112554467, rs113065267, rs116025516\n  \n  Use 'ifnotfound=\"drop\"' to drop them.\nTraceback:\n",
      "1. snpsById(snps, query)",
      "2. snpsById(snps, query)",
      "3. .local(x, ids, ...)",
      "4. rowids2rowidx(user_rowids, ids, x_rowids_env, ifnotfound)",
      "5. stop(wmsg(\"SNP ids not found: \", ids_to_show, \"\\n\\nUse 'ifnotfound=\\\"drop\\\"' to drop them.\"))"
     ]
    }
   ],
   "source": [
    "query  = dat$SNP\n",
    "result = snpsById(snps, query)"
   ]
  },
  {
   "cell_type": "code",
   "execution_count": 29,
   "metadata": {},
   "outputs": [
    {
     "ename": "ERROR",
     "evalue": "Error in eval(expr, envir, enclos): object 'result' not found\n",
     "output_type": "error",
     "traceback": [
      "Error in eval(expr, envir, enclos): object 'result' not found\nTraceback:\n"
     ]
    }
   ],
   "source": [
    "class(result)"
   ]
  },
  {
   "cell_type": "code",
   "execution_count": null,
   "metadata": {},
   "outputs": [],
   "source": []
  }
 ],
 "metadata": {
  "kernelspec": {
   "display_name": "R",
   "language": "R",
   "name": "ir"
  },
  "language_info": {
   "codemirror_mode": "r",
   "file_extension": ".r",
   "mimetype": "text/x-r-source",
   "name": "R",
   "pygments_lexer": "r",
   "version": "4.2.2"
  }
 },
 "nbformat": 4,
 "nbformat_minor": 5
}
