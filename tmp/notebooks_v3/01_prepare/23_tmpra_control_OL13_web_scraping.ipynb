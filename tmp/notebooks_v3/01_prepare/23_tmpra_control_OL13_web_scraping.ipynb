{
 "cells": [
  {
   "cell_type": "code",
   "execution_count": 3,
   "metadata": {},
   "outputs": [],
   "source": [
    "import pandas as pd\n",
    "import os\n",
    "import re\n",
    "import csv\n",
    "import time\n",
    "from urllib.request import urlopen\n",
    "\n",
    "FD_RES = \"/data/reddylab/Kuei/out/proj_combeffect_encode_fcc\""
   ]
  },
  {
   "cell_type": "markdown",
   "metadata": {},
   "source": [
    "## Test web scraping"
   ]
  },
  {
   "cell_type": "code",
   "execution_count": 7,
   "metadata": {},
   "outputs": [],
   "source": [
    "url = \"https://www.ncbi.nlm.nih.gov/snp/rs112554467\"\n",
    "page = urlopen(url)\n",
    "\n",
    "html_bytes  = page.read()\n",
    "html_string = html_bytes.decode(\"utf-8\")"
   ]
  },
  {
   "cell_type": "markdown",
   "metadata": {},
   "source": [
    "## Test mapping rsid with regex"
   ]
  },
  {
   "cell_type": "code",
   "execution_count": 8,
   "metadata": {},
   "outputs": [
    {
     "name": "stdout",
     "output_type": "stream",
     "text": [
      "<re.Match object; span=(11357, 11425), match='rs112554467 was merged into a target _blank href >\n",
      "('rs112554467', 'rs2532289')\n"
     ]
    }
   ],
   "source": [
    "pattern = '(rs[0-9]+) was merged into.*(rs[0-9]+)'\n",
    "string  = re.sub('\\W+',' ', html_string)\n",
    "\n",
    "result = re.search(pattern, string)\n",
    "print(result)\n",
    "print(result.groups())"
   ]
  },
  {
   "cell_type": "markdown",
   "metadata": {},
   "source": [
    "## Import data"
   ]
  },
  {
   "cell_type": "code",
   "execution_count": 12,
   "metadata": {},
   "outputs": [
    {
     "data": {
      "text/html": [
       "<div>\n",
       "<style scoped>\n",
       "    .dataframe tbody tr th:only-of-type {\n",
       "        vertical-align: middle;\n",
       "    }\n",
       "\n",
       "    .dataframe tbody tr th {\n",
       "        vertical-align: top;\n",
       "    }\n",
       "\n",
       "    .dataframe thead th {\n",
       "        text-align: right;\n",
       "    }\n",
       "</style>\n",
       "<table border=\"1\" class=\"dataframe\">\n",
       "  <thead>\n",
       "    <tr style=\"text-align: right;\">\n",
       "      <th></th>\n",
       "      <th>SNP</th>\n",
       "      <th>Chrom</th>\n",
       "      <th>Allele_Ref</th>\n",
       "      <th>Allele_Alt</th>\n",
       "      <th>Loc_hg19</th>\n",
       "      <th>Loc_hg38</th>\n",
       "    </tr>\n",
       "  </thead>\n",
       "  <tbody>\n",
       "    <tr>\n",
       "      <th>0</th>\n",
       "      <td>rs112554467</td>\n",
       "      <td>NaN</td>\n",
       "      <td>NaN</td>\n",
       "      <td>NaN</td>\n",
       "      <td>NaN</td>\n",
       "      <td>NaN</td>\n",
       "    </tr>\n",
       "    <tr>\n",
       "      <th>1</th>\n",
       "      <td>rs113065267</td>\n",
       "      <td>NaN</td>\n",
       "      <td>NaN</td>\n",
       "      <td>NaN</td>\n",
       "      <td>NaN</td>\n",
       "      <td>NaN</td>\n",
       "    </tr>\n",
       "    <tr>\n",
       "      <th>2</th>\n",
       "      <td>rs115014431</td>\n",
       "      <td>NaN</td>\n",
       "      <td>NaN</td>\n",
       "      <td>NaN</td>\n",
       "      <td>NaN</td>\n",
       "      <td>NaN</td>\n",
       "    </tr>\n",
       "    <tr>\n",
       "      <th>3</th>\n",
       "      <td>rs116025516</td>\n",
       "      <td>NaN</td>\n",
       "      <td>NaN</td>\n",
       "      <td>NaN</td>\n",
       "      <td>NaN</td>\n",
       "      <td>NaN</td>\n",
       "    </tr>\n",
       "    <tr>\n",
       "      <th>4</th>\n",
       "      <td>rs116100242</td>\n",
       "      <td>NaN</td>\n",
       "      <td>NaN</td>\n",
       "      <td>NaN</td>\n",
       "      <td>NaN</td>\n",
       "      <td>NaN</td>\n",
       "    </tr>\n",
       "    <tr>\n",
       "      <th>5</th>\n",
       "      <td>rs117188042</td>\n",
       "      <td>NaN</td>\n",
       "      <td>NaN</td>\n",
       "      <td>NaN</td>\n",
       "      <td>NaN</td>\n",
       "      <td>NaN</td>\n",
       "    </tr>\n",
       "    <tr>\n",
       "      <th>6</th>\n",
       "      <td>rs138272216</td>\n",
       "      <td>NaN</td>\n",
       "      <td>NaN</td>\n",
       "      <td>NaN</td>\n",
       "      <td>NaN</td>\n",
       "      <td>NaN</td>\n",
       "    </tr>\n",
       "    <tr>\n",
       "      <th>7</th>\n",
       "      <td>rs139474644</td>\n",
       "      <td>NaN</td>\n",
       "      <td>NaN</td>\n",
       "      <td>NaN</td>\n",
       "      <td>NaN</td>\n",
       "      <td>NaN</td>\n",
       "    </tr>\n",
       "    <tr>\n",
       "      <th>8</th>\n",
       "      <td>rs140535129</td>\n",
       "      <td>NaN</td>\n",
       "      <td>NaN</td>\n",
       "      <td>NaN</td>\n",
       "      <td>NaN</td>\n",
       "      <td>NaN</td>\n",
       "    </tr>\n",
       "    <tr>\n",
       "      <th>9</th>\n",
       "      <td>rs141388053</td>\n",
       "      <td>NaN</td>\n",
       "      <td>NaN</td>\n",
       "      <td>NaN</td>\n",
       "      <td>NaN</td>\n",
       "      <td>NaN</td>\n",
       "    </tr>\n",
       "    <tr>\n",
       "      <th>10</th>\n",
       "      <td>rs144392153</td>\n",
       "      <td>NaN</td>\n",
       "      <td>NaN</td>\n",
       "      <td>NaN</td>\n",
       "      <td>NaN</td>\n",
       "      <td>NaN</td>\n",
       "    </tr>\n",
       "    <tr>\n",
       "      <th>11</th>\n",
       "      <td>rs149812839</td>\n",
       "      <td>NaN</td>\n",
       "      <td>NaN</td>\n",
       "      <td>NaN</td>\n",
       "      <td>NaN</td>\n",
       "      <td>NaN</td>\n",
       "    </tr>\n",
       "    <tr>\n",
       "      <th>12</th>\n",
       "      <td>rs150242986</td>\n",
       "      <td>NaN</td>\n",
       "      <td>NaN</td>\n",
       "      <td>NaN</td>\n",
       "      <td>NaN</td>\n",
       "      <td>NaN</td>\n",
       "    </tr>\n",
       "    <tr>\n",
       "      <th>13</th>\n",
       "      <td>rs150594649</td>\n",
       "      <td>NaN</td>\n",
       "      <td>NaN</td>\n",
       "      <td>NaN</td>\n",
       "      <td>NaN</td>\n",
       "      <td>NaN</td>\n",
       "    </tr>\n",
       "  </tbody>\n",
       "</table>\n",
       "</div>"
      ],
      "text/plain": [
       "            SNP  Chrom  Allele_Ref  Allele_Alt  Loc_hg19  Loc_hg38\n",
       "0   rs112554467    NaN         NaN         NaN       NaN       NaN\n",
       "1   rs113065267    NaN         NaN         NaN       NaN       NaN\n",
       "2   rs115014431    NaN         NaN         NaN       NaN       NaN\n",
       "3   rs116025516    NaN         NaN         NaN       NaN       NaN\n",
       "4   rs116100242    NaN         NaN         NaN       NaN       NaN\n",
       "5   rs117188042    NaN         NaN         NaN       NaN       NaN\n",
       "6   rs138272216    NaN         NaN         NaN       NaN       NaN\n",
       "7   rs139474644    NaN         NaN         NaN       NaN       NaN\n",
       "8   rs140535129    NaN         NaN         NaN       NaN       NaN\n",
       "9   rs141388053    NaN         NaN         NaN       NaN       NaN\n",
       "10  rs144392153    NaN         NaN         NaN       NaN       NaN\n",
       "11  rs149812839    NaN         NaN         NaN       NaN       NaN\n",
       "12  rs150242986    NaN         NaN         NaN       NaN       NaN\n",
       "13  rs150594649    NaN         NaN         NaN       NaN       NaN"
      ]
     },
     "execution_count": 12,
     "metadata": {},
     "output_type": "execute_result"
    }
   ],
   "source": [
    "fdiry = os.path.join(FD_RES, \"region\", \"control_tmpra\")\n",
    "fname = \"snps_OL13_rsid_list_unmapped.tsv\"\n",
    "fpath = os.path.join(fdiry, fname)\n",
    "\n",
    "dat_snps_ummapped = pd.read_csv(fpath, sep=\"\\t\")\n",
    "dat_snps_ummapped"
   ]
  },
  {
   "cell_type": "markdown",
   "metadata": {},
   "source": [
    "## Mapping all remain rsid"
   ]
  },
  {
   "cell_type": "code",
   "execution_count": 13,
   "metadata": {},
   "outputs": [
    {
     "data": {
      "text/plain": [
       "0     rs112554467\n",
       "1     rs113065267\n",
       "2     rs115014431\n",
       "3     rs116025516\n",
       "4     rs116100242\n",
       "5     rs117188042\n",
       "6     rs138272216\n",
       "7     rs139474644\n",
       "8     rs140535129\n",
       "9     rs141388053\n",
       "10    rs144392153\n",
       "11    rs149812839\n",
       "12    rs150242986\n",
       "13    rs150594649\n",
       "Name: SNP, dtype: object"
      ]
     },
     "execution_count": 13,
     "metadata": {},
     "output_type": "execute_result"
    }
   ],
   "source": [
    "rsids = dat_snps_ummapped.SNP\n",
    "rsids"
   ]
  },
  {
   "cell_type": "code",
   "execution_count": 14,
   "metadata": {},
   "outputs": [
    {
     "name": "stdout",
     "output_type": "stream",
     "text": [
      "('rs112554467', 'rs2532289')\n",
      "======================\n",
      "('rs113065267', 'rs2864087')\n",
      "======================\n",
      "('rs115014431', 'rs6940956')\n",
      "======================\n",
      "('rs116025516', 'rs9260119')\n",
      "======================\n",
      "('rs116100242', 'rs1526126')\n",
      "======================\n",
      "('rs117188042', 'rs62055887')\n",
      "======================\n",
      "('rs138272216', 'rs61797307')\n",
      "======================\n",
      "('rs139474644', 'rs56392172')\n",
      "======================\n",
      "('rs140535129', 'rs62074566')\n",
      "======================\n",
      "('rs141388053', 'rs2458206')\n",
      "======================\n",
      "('rs144392153', 'rs2693353')\n",
      "======================\n",
      "('rs149812839', 'rs2906006')\n",
      "======================\n",
      "('rs150242986', 'rs61891158')\n",
      "======================\n",
      "('rs150594649', 'rs2696610')\n",
      "======================\n"
     ]
    }
   ],
   "source": [
    "pattern = '(rs[0-9]+) was merged into.*(rs[0-9]+)'\n",
    "sources = []\n",
    "targets = []\n",
    "\n",
    "for rsid in rsids:\n",
    "    ###\n",
    "    url  = \"https://www.ncbi.nlm.nih.gov/snp/\" + rsid\n",
    "    page = urlopen(url)\n",
    "    \n",
    "    ###\n",
    "    html_bytes  = page.read()\n",
    "    html_string = html_bytes.decode(\"utf-8\")\n",
    "    \n",
    "    ###\n",
    "    string = re.sub('\\W+',' ', html_string)\n",
    "    result = re.search(pattern, string)\n",
    "    \n",
    "    ###\n",
    "    if result:\n",
    "        ### show progress\n",
    "        print(result.groups())\n",
    "        print(\"======================\")\n",
    "        \n",
    "        ### save\n",
    "        sources.append(result.group(1))\n",
    "        targets.append(result.group(2))\n",
    "    else:\n",
    "        print(\"No Matches\")\n",
    "        \n",
    "    ### avoid too many request in a short time\n",
    "    time.sleep(1)"
   ]
  },
  {
   "cell_type": "code",
   "execution_count": 15,
   "metadata": {},
   "outputs": [
    {
     "name": "stdout",
     "output_type": "stream",
     "text": [
      "True rs112554467 rs112554467 rs2532289\n",
      "True rs113065267 rs113065267 rs2864087\n",
      "True rs115014431 rs115014431 rs6940956\n",
      "True rs116025516 rs116025516 rs9260119\n",
      "True rs116100242 rs116100242 rs1526126\n",
      "True rs117188042 rs117188042 rs62055887\n",
      "True rs138272216 rs138272216 rs61797307\n",
      "True rs139474644 rs139474644 rs56392172\n",
      "True rs140535129 rs140535129 rs62074566\n",
      "True rs141388053 rs141388053 rs2458206\n",
      "True rs144392153 rs144392153 rs2693353\n",
      "True rs149812839 rs149812839 rs2906006\n",
      "True rs150242986 rs150242986 rs61891158\n",
      "True rs150594649 rs150594649 rs2696610\n"
     ]
    }
   ],
   "source": [
    "for rsid1, rsid2, rsid3 in zip(rsids, sources, targets):\n",
    "    print(rsid1 == rsid2, rsid1, rsid2, rsid3)"
   ]
  },
  {
   "cell_type": "markdown",
   "metadata": {},
   "source": [
    "## Save results"
   ]
  },
  {
   "cell_type": "code",
   "execution_count": 19,
   "metadata": {},
   "outputs": [
    {
     "name": "stdout",
     "output_type": "stream",
     "text": [
      "/data/reddylab/Kuei/out/proj_combeffect_encode_fcc/region/control_tmpra/snps_OL13_rsid_mapping.csv\n"
     ]
    }
   ],
   "source": [
    "fdiry = os.path.join(FD_RES, \"region\", \"control_tmpra\")\n",
    "fname = \"snps_OL13_rsid_mapping.csv\"\n",
    "fpath = os.path.join(fdiry, fname)\n",
    "print(fpath)\n",
    "\n",
    "dat = pd.DataFrame({'SNP':sources,'RSID':targets})\n",
    "dat.to_csv(fpath, index=False)"
   ]
  },
  {
   "cell_type": "code",
   "execution_count": 20,
   "metadata": {},
   "outputs": [],
   "source": [
    "fdiry = os.path.join(FD_RES, \"region\", \"control_tmpra\")\n",
    "fname = \"snps_OL13_rsid_list_mapped.txt\"\n",
    "fpath = os.path.join(fdiry, fname)\n",
    "\n",
    "dat = pd.DataFrame({'RSID':targets})\n",
    "dat.to_csv(fpath, index=False, header=False)"
   ]
  },
  {
   "cell_type": "code",
   "execution_count": null,
   "metadata": {},
   "outputs": [],
   "source": []
  }
 ],
 "metadata": {
  "kernelspec": {
   "display_name": "Python 3",
   "language": "python",
   "name": "python3"
  },
  "language_info": {
   "codemirror_mode": {
    "name": "ipython",
    "version": 3
   },
   "file_extension": ".py",
   "mimetype": "text/x-python",
   "name": "python",
   "nbconvert_exporter": "python",
   "pygments_lexer": "ipython3",
   "version": "3.7.6"
  }
 },
 "nbformat": 4,
 "nbformat_minor": 4
}
