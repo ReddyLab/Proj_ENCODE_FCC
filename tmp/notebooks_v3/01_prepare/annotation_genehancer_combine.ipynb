{
 "cells": [
  {
   "cell_type": "code",
   "execution_count": 1,
   "id": "d2ab3b45-2df9-4220-9e07-804eeb407cc6",
   "metadata": {},
   "outputs": [
    {
     "name": "stdout",
     "output_type": "stream",
     "text": [
      "You are on Duke Server: HARDAC\n",
      "BASE DIRECTORY:     /data/reddylab/Kuei\n",
      "WORK DIRECTORY:     /data/reddylab/Kuei/out\n",
      "CODE DIRECTORY:     /data/reddylab/Kuei/code\n",
      "SING DIRECTORY:     /data/reddylab/Kuei/singularity\n",
      "PATH OF SOURCE:     /data/reddylab/Kuei/source\n",
      "PATH OF EXECUTABLE: /data/reddylab/Kuei/bin\n",
      "PATH OF ANNOTATION: /data/reddylab/Kuei/annotation\n",
      "PATH OF PROJECT:    /data/reddylab/Kuei/code/Proj_CombEffect_ENCODE_FCC\n",
      "PATH OF RESULTS:    /data/reddylab/Kuei/out/proj_combeffect_encode_fcc\n",
      "\n"
     ]
    }
   ],
   "source": [
    "### set env\n",
    "source ../config/config_duke.sh\n",
    "show_env"
   ]
  },
  {
   "cell_type": "code",
   "execution_count": 4,
   "id": "f7c03c45-f705-425a-99a2-70e0aa2c3a20",
   "metadata": {},
   "outputs": [
    {
     "name": "stdout",
     "output_type": "stream",
     "text": [
      "\u001b[0m\u001b[38;5;27mannotation_cCREs\u001b[0m           \u001b[38;5;27mannotation_genehancer\u001b[0m  \u001b[38;5;27mKS91_K562_ASTARRseq_peak_macs\u001b[0m\n",
      "\u001b[38;5;27mannotation_enhancer_junke\u001b[0m  \u001b[38;5;27mannotation_motif\u001b[0m\n",
      "\u001b[38;5;27mannotation_gencode\u001b[0m         \u001b[38;5;27mannotation_remap2022\u001b[0m\n"
     ]
    }
   ],
   "source": [
    "ls ${FD_RES}/region"
   ]
  },
  {
   "cell_type": "code",
   "execution_count": 5,
   "id": "abf7c83b-7ea0-4748-8b1d-e52cfd57493b",
   "metadata": {},
   "outputs": [
    {
     "name": "stdout",
     "output_type": "stream",
     "text": [
      "hub_3160057_GeneHancer_double_elite_hg38_chr11.bed\n",
      "hub_3160057_GeneHancer_double_elite_hg38_chr11.tsv\n",
      "hub_3160057_GeneHancer_double_elite_hg38_chr8.bed\n",
      "hub_3160057_GeneHancer_double_elite_hg38_chr8.tsv\n",
      "hub_3160057_GeneHancer_double_elite_hg38_chrX.bed\n",
      "hub_3160057_GeneHancer_double_elite_hg38_chrX.tsv\n",
      "hub_3160057_GeneHancer_hg38_chr11.bed\n",
      "hub_3160057_GeneHancer_hg38_chr11.tsv\n",
      "hub_3160057_GeneHancer_hg38_chr8.bed\n",
      "hub_3160057_GeneHancer_hg38_chr8.tsv\n",
      "hub_3160057_GeneHancer_hg38_chrX.bed\n",
      "hub_3160057_GeneHancer_hg38_chrX.tsv\n"
     ]
    }
   ],
   "source": [
    "ls ${FD_RES}/region/annotation_genehancer"
   ]
  },
  {
   "cell_type": "code",
   "execution_count": 21,
   "id": "c33a7dae-d494-4743-978d-13a6b4e7539b",
   "metadata": {},
   "outputs": [
    {
     "name": "stdout",
     "output_type": "stream",
     "text": [
      "   6080 /data/reddylab/Kuei/out/proj_combeffect_encode_fcc/region/annotation_genehancer/hub_3160057_GeneHancer_double_elite_hg38_chr11.bed\n",
      "   5254 /data/reddylab/Kuei/out/proj_combeffect_encode_fcc/region/annotation_genehancer/hub_3160057_GeneHancer_double_elite_hg38_chr8.bed\n",
      "   2099 /data/reddylab/Kuei/out/proj_combeffect_encode_fcc/region/annotation_genehancer/hub_3160057_GeneHancer_double_elite_hg38_chrX.bed\n",
      "  18707 /data/reddylab/Kuei/out/proj_combeffect_encode_fcc/region/annotation_genehancer/hub_3160057_GeneHancer_hg38_chr11.bed\n",
      "  19029 /data/reddylab/Kuei/out/proj_combeffect_encode_fcc/region/annotation_genehancer/hub_3160057_GeneHancer_hg38_chr8.bed\n",
      "  11152 /data/reddylab/Kuei/out/proj_combeffect_encode_fcc/region/annotation_genehancer/hub_3160057_GeneHancer_hg38_chrX.bed\n",
      "  62321 total\n"
     ]
    }
   ],
   "source": [
    "wc -l ${FD_RES}/region/annotation_genehancer/*.bed"
   ]
  },
  {
   "cell_type": "code",
   "execution_count": 59,
   "id": "d5f84873-71b4-4e1d-96e3-97556897addf",
   "metadata": {},
   "outputs": [
    {
     "name": "stdout",
     "output_type": "stream",
     "text": [
      "#chrom\tchromStart\tchromEnd\tname\tscore\tstrand\tthickStart\tthickEnd\treserved\tevidenceSources\telementType\teliteness\n",
      "chrX\t9800\t10200\tGH0XJ000009\t86\t.\t9800\t10200\t160,160,160\tEnsembl\tEnhancer\t-\n",
      "chrX\t23000\t23600\tGH0XJ000025\t1\t.\t23000\t23600\t192,192,192\tEnsembl\tEnhancer\t-\n",
      "chrX\t24199\t24401\tGH0XJ000024\t1\t.\t24199\t24401\t192,192,192\tEnsembl\tEnhancer\t-\n",
      "chrX\t235200\t235600\tGH0XJ000235\t1\t.\t235200\t235600\t192,192,192\tEnsembl\tEnhancer\t-\n",
      "chrX\t263000\t263200\tGH0XJ000263\t74\t.\t263000\t263200\t160,160,160\tEnsembl\tEnhancer\t-\n",
      "chrX\t264800\t265400\tGH0XJ000264\t191\t.\t264800\t265400\t95,95,95\tEnsembl\tEnhancer\t-\n",
      "chrX\t268000\t271001\tGH0XJ000267\t231\t.\t268000\t271001\t255,102,102\tEnsembl,dbSUPER\tPromoter/Enhancer\tElite\n",
      "chrX\t275199\t278801\tGH0XJ000275\t320\t.\t275199\t278801\t255,51,51\tEnsembl,dbSUPER\tPromoter/Enhancer\tElite\n",
      "chrX\t278999\t284401\tGH0XJ000278\t478\t.\t278999\t284401\t255,51,51\tEnsembl,CraniofacialAtlas,dbSUPER\tPromoter/Enhancer\tElite\n"
     ]
    }
   ],
   "source": [
    "head /data/reddylab/Kuei/out/proj_combeffect_encode_fcc/region/annotation_genehancer/hub_3160057_GeneHancer_hg38_chrX.tsv"
   ]
  },
  {
   "cell_type": "code",
   "execution_count": 56,
   "id": "3ee56571-9e8d-4fab-95ff-e2af103988b6",
   "metadata": {},
   "outputs": [
    {
     "name": "stdout",
     "output_type": "stream",
     "text": [
      "chr8\t230200\t234401\tGH08J000231\t500\t.\t230200\t234401\t204,0,0\tEPDnew,Ensembl,ENCODE(Z-Lab),CraniofacialAtlas\tPromoter/Enhancer\tElite\n",
      "chr8\t272202\t275574\tGH08J000272\t278\t.\t272202\t275574\t95,95,95\tENCODE(Z-Lab),CraniofacialAtlas\tEnhancer\tElite\n",
      "chr8\t321600\t322000\tGH08J000320\t48\t.\t321600\t322000\t160,160,160\tEnsembl,dbSUPER\tEnhancer\tElite\n",
      "chr8\t329200\t330200\tGH08J000331\t105\t.\t329200\t330200\t160,160,160\tEnsembl,dbSUPER\tEnhancer\tElite\n",
      "chr8\t354200\t354994\tGH08J000354\t182\t.\t354200\t354994\t95,95,95\tEnsembl,ENCODE(Z-Lab)\tEnhancer\tElite\n",
      "chr8\t376140\t378729\tGH08J000376\t129\t.\t376140\t378729\t255,102,102\tEnsembl,ENCODE(Z-Lab),dbSUPER\tPromoter/Enhancer\tElite\n",
      "chr8\t380001\t383781\tGH08J000381\t150\t.\t380001\t383781\t95,95,95\tEnsembl,ENCODE(Z-Lab)\tEnhancer\tElite\n",
      "chr8\t390801\t393599\tGH08J000391\t276\t.\t390801\t393599\t95,95,95\tEnsembl,ENCODE(Z-Lab),dbSUPER\tEnhancer\tElite\n",
      "chr8\t399878\t402065\tGH08J000399\t285\t.\t399878\t402065\t95,95,95\tEnsembl,ENCODE(Z-Lab),dbSUPER\tEnhancer\tElite\n",
      "chr8\t405399\t408201\tGH08J000406\t532\t.\t405399\t408201\t204,0,0\tEPDnew,Ensembl,ENCODE(Z-Lab),CraniofacialAtlas,dbSUPER\tPromoter/Enhancer\tElite\n"
     ]
    }
   ],
   "source": [
    "head /data/reddylab/Kuei/out/proj_combeffect_encode_fcc/region/annotation_genehancer/hub_3160057_GeneHancer_double_elite_hg38_chr8.bed"
   ]
  },
  {
   "cell_type": "code",
   "execution_count": 52,
   "id": "a8cad285-f5fb-4786-ad50-c798f5888c5f",
   "metadata": {},
   "outputs": [],
   "source": [
    "FDIRY=\"${FD_RES}/region/annotation_genehancer\"\n",
    "FNAME=\"hub_3160057_GeneHancer_hg38.bed\"\n",
    "FP_OUT=${FDIRY}/${FNAME}\n",
    "\n",
    "PREFIX=\"hub_3160057_GeneHancer_hg38\"\n",
    "FP_INP1=${FDIRY}/${PREFIX}_chr8.bed\n",
    "FP_INP2=${FDIRY}/${PREFIX}_chr11.bed\n",
    "FP_INP3=${FDIRY}/${PREFIX}_chrX.bed\n",
    "\n",
    "#cat ${FP_INP1} ${FP_INP2} ${FP_INP3} > ${FP_OUT}\n",
    "cat ${FP_INP1} >  ${FP_OUT}\n",
    "echo \"\"        >> ${FP_OUT}\n",
    "cat ${FP_INP2} >> ${FP_OUT}\n",
    "echo \"\"        >> ${FP_OUT}\n",
    "cat ${FP_INP3} >> ${FP_OUT}"
   ]
  },
  {
   "cell_type": "code",
   "execution_count": 53,
   "id": "f192379a-e9ac-4925-a911-78e018777819",
   "metadata": {},
   "outputs": [
    {
     "name": "stdout",
     "output_type": "stream",
     "text": [
      "chr8\t145071434\t145071584\tGH08J145071\t1\t.\t145071434\t145071584\t192,192,192\tENCODE(Z-Lab)\tEnhancer\t-\n",
      "chr8\t145074985\t145076055\tGH08J145074\t59\t.\t145074985\t145076055\t160,160,160\tENCODE(Z-Lab)\tEnhancer\t-\n",
      "chr11\t111000\t111400\tGH11J000112\t1\t.\t111000\t111400\t192,192,192\tEnsembl\tEnhancer\t-\n"
     ]
    }
   ],
   "source": [
    "head -n 19031 ${FP_OUT} | tail -n 3"
   ]
  },
  {
   "cell_type": "code",
   "execution_count": 54,
   "id": "4b4a96f0-f209-412b-84c9-b9ea4d6ea4a3",
   "metadata": {},
   "outputs": [],
   "source": [
    "FDIRY=\"${FD_RES}/region/annotation_genehancer\"\n",
    "FNAME=\"hub_3160057_GeneHancer_double_elite_hg38.bed\"\n",
    "FP_OUT=${FDIRY}/${FNAME}\n",
    "\n",
    "PREFIX=\"hub_3160057_GeneHancer_double_elite_hg38\"\n",
    "FP_INP1=${FDIRY}/${PREFIX}_chr8.bed\n",
    "FP_INP2=${FDIRY}/${PREFIX}_chr11.bed\n",
    "FP_INP3=${FDIRY}/${PREFIX}_chrX.bed\n",
    "\n",
    "#cat ${FP_INP1} ${FP_INP2} ${FP_INP3} > ${FP_OUT}\n",
    "cat ${FP_INP1} >  ${FP_OUT}\n",
    "echo \"\"        >> ${FP_OUT}\n",
    "cat ${FP_INP2} >> ${FP_OUT}\n",
    "echo \"\"        >> ${FP_OUT}\n",
    "cat ${FP_INP3} >> ${FP_OUT}"
   ]
  },
  {
   "cell_type": "code",
   "execution_count": 55,
   "id": "7b515ad0-fa03-46b3-803f-e94056a9fa52",
   "metadata": {},
   "outputs": [
    {
     "name": "stdout",
     "output_type": "stream",
     "text": [
      "chr8\t145050599\t145053801\tGH08J145052\t516\t.\t145050599\t145053801\t204,0,0\tEPDnew,Ensembl,ENCODE(Z-Lab),CraniofacialAtlas\tPromoter/Enhancer\tElite\n",
      "chr8\t145056800\t145058800\tGH08J145057\t163\t.\t145056800\t145058800\t95,95,95\tEnsembl,ENCODE(Z-Lab)\tEnhancer\tElite\n",
      "chr11\t138800\t139400\tGH11J000138\t82\t.\t138800\t139400\t255,102,102\tEPDnew,Ensembl\tPromoter/Enhancer\tElite\n"
     ]
    }
   ],
   "source": [
    "head -n 5256 ${FP_OUT} | tail -n 3"
   ]
  },
  {
   "cell_type": "code",
   "execution_count": 62,
   "id": "aba3a4c2-da68-4785-be28-342fa53f9c4a",
   "metadata": {},
   "outputs": [],
   "source": [
    "FDIRY=\"${FD_RES}/region/annotation_genehancer\"\n",
    "FNAME=\"geneHancerRegElements_hg38.bed\"\n",
    "FP_OUT=${FDIRY}/${FNAME}\n",
    "\n",
    "PREFIX=\"geneHancerRegElements_hg38\"\n",
    "FP_INP1=${FDIRY}/${PREFIX}_chr8.bed\n",
    "FP_INP2=${FDIRY}/${PREFIX}_chr11.bed\n",
    "FP_INP3=${FDIRY}/${PREFIX}_chrX.bed\n",
    "\n",
    "#cat ${FP_INP1} ${FP_INP2} ${FP_INP3} > ${FP_OUT}\n",
    "cat ${FP_INP1} >  ${FP_OUT}\n",
    "echo \"\"        >> ${FP_OUT}\n",
    "cat ${FP_INP2} >> ${FP_OUT}\n",
    "echo \"\"        >> ${FP_OUT}\n",
    "cat ${FP_INP3} >> ${FP_OUT}"
   ]
  },
  {
   "cell_type": "code",
   "execution_count": 66,
   "id": "17f6fdf0-83cb-4345-bece-3b60a78ec12d",
   "metadata": {},
   "outputs": [
    {
     "name": "stdout",
     "output_type": "stream",
     "text": [
      "/data/reddylab/Kuei/out/proj_combeffect_encode_fcc/region/annotation_genehancer/geneHancerRegElements_hg38.bed\n",
      "chr8\t90065\t91199\tGH08J000090\t1\t.\t90065\t91199\t192,192,192\tEnsembl\tEnhancer\t-\n",
      "chr8\t120400\t121400\tGH08J000120\t1\t.\t120400\t121400\t192,192,192\tEnsembl\tEnhancer\t-\n",
      "chr8\t204199\t204601\tGH08J000204\t1\t.\t204199\t204601\t192,192,192\tEnsembl\tEnhancer\t-\n",
      "chr8\t211999\t212400\tGH08J000212\t105\t.\t211999\t212400\t160,160,160\tEnsembl\tEnhancer\t-\n",
      "chr8\t214400\t215000\tGH08J000214\t36\t.\t214400\t215000\t192,192,192\tEnsembl\tEnhancer\t-\n"
     ]
    }
   ],
   "source": [
    "echo ${FP_OUT}\n",
    "head -n 5 ${FP_OUT}"
   ]
  },
  {
   "cell_type": "code",
   "execution_count": 67,
   "id": "4bd33adb-0faa-4cd1-90d2-c806efe60a9f",
   "metadata": {},
   "outputs": [],
   "source": [
    "FDIRY=\"${FD_RES}/region/annotation_genehancer\"\n",
    "FNAME=\"geneHancerRegElementsDoubleElite_hg38.bed\"\n",
    "FP_OUT=${FDIRY}/${FNAME}\n",
    "\n",
    "PREFIX=\"geneHancerRegElementsDoubleElite_hg38\"\n",
    "FP_INP1=${FDIRY}/${PREFIX}_chr8.bed\n",
    "FP_INP2=${FDIRY}/${PREFIX}_chr11.bed\n",
    "FP_INP3=${FDIRY}/${PREFIX}_chrX.bed\n",
    "\n",
    "#cat ${FP_INP1} ${FP_INP2} ${FP_INP3} > ${FP_OUT}\n",
    "cat ${FP_INP1} >  ${FP_OUT}\n",
    "echo \"\"        >> ${FP_OUT}\n",
    "cat ${FP_INP2} >> ${FP_OUT}\n",
    "echo \"\"        >> ${FP_OUT}\n",
    "cat ${FP_INP3} >> ${FP_OUT}"
   ]
  },
  {
   "cell_type": "code",
   "execution_count": 68,
   "id": "44999914-1d70-4667-9b8a-0970cf10fb77",
   "metadata": {},
   "outputs": [
    {
     "name": "stdout",
     "output_type": "stream",
     "text": [
      "/data/reddylab/Kuei/out/proj_combeffect_encode_fcc/region/annotation_genehancer/geneHancerRegElementsDoubleElite_hg38.bed\n",
      "chr8\t230999\t233601\tGH08J000231\t553\t.\t230999\t233601\t255,51,51\tENCODE(Z-Lab),EPDnew,Ensembl\tPromoter/Enhancer\tElite\n",
      "chr8\t376140\t378876\tGH08J000376\t125\t.\t376140\t378876\t160,160,160\tENCODE(Z-Lab),Ensembl,dbSUPER\tEnhancer\tElite\n",
      "chr8\t399878\t402065\tGH08J000399\t241\t.\t399878\t402065\t95,95,95\tENCODE(Z-Lab),dbSUPER\tEnhancer\tElite\n",
      "chr8\t460815\t463331\tGH08J000460\t133\t.\t460815\t463331\t160,160,160\tENCODE(Z-Lab),Ensembl\tEnhancer\tElite\n",
      "chr8\t486330\t487638\tGH08J000486\t251\t.\t486330\t487638\t95,95,95\tENCODE(Z-Lab),Ensembl\tEnhancer\tElite\n"
     ]
    }
   ],
   "source": [
    "echo ${FP_OUT}\n",
    "head -n 5 ${FP_OUT}"
   ]
  },
  {
   "cell_type": "markdown",
   "id": "f8c8938b-9dad-4445-b40f-b9db7708eca3",
   "metadata": {
    "tags": []
   },
   "source": [
    "```\n",
    "###\n",
    "FDIRY=\"${FD_RES}/region/annotation_genehancer\"\n",
    "FNAME=\"hub_3160057_GeneHancer_hg38.bed\"\n",
    "FP_OUT=${FDIRY}/${FNAME}\n",
    "\n",
    "###\n",
    "echo -n > ${FP_OUT}\n",
    "\n",
    "###\n",
    "CHROMS=(chr8 chr11 chrX)\n",
    "SUM=0\n",
    "for CHROM in ${CHROMS[@]}; do\n",
    "\n",
    "    ###\n",
    "    FNAME=\"hub_3160057_GeneHancer_hg38_${CHROM}.bed\"\n",
    "    FP_INP=${FDIRY}/${FNAME}\n",
    "    \n",
    "    ###\n",
    "    cat ${FP_INP} >> ${FP_OUT}\n",
    "    \n",
    "    ###\n",
    "    NUM=$(wc -l < ${FP_INP})\n",
    "    SUM=$((SUM + NUM))\n",
    "    wc -l ${FP_INP}\n",
    "done\n",
    "\n",
    "###\n",
    "wc -l ${FP_OUT}\n",
    "echo ${SUM}\n",
    "```"
   ]
  },
  {
   "cell_type": "markdown",
   "id": "9c32265e-64fc-44f5-9289-02911966dec3",
   "metadata": {},
   "source": [
    "```\n",
    "###\n",
    "FDIRY=\"${FD_RES}/region/annotation_genehancer\"\n",
    "FNAME=\"hub_3160057_GeneHancer_double_elite_hg38.bed\"\n",
    "FP_OUT=${FDIRY}/${FNAME}\n",
    "\n",
    "###\n",
    "echo -n > ${FP_OUT}\n",
    "\n",
    "###\n",
    "CHROMS=(chr8 chr11 chrX)\n",
    "SUM=0\n",
    "for CHROM in ${CHROMS[@]}; do\n",
    "\n",
    "    ###\n",
    "    FNAME=\"hub_3160057_GeneHancer_double_elite_hg38_${CHROM}.bed\"\n",
    "    FP_INP=${FDIRY}/${FNAME}\n",
    "    \n",
    "    ###\n",
    "    cat ${FP_INP} >> ${FP_OUT}\n",
    "    \n",
    "    ###\n",
    "    NUM=$(wc -l < ${FP_INP})\n",
    "    SUM=$((SUM + NUM))\n",
    "    wc -l ${FP_INP}\n",
    "done\n",
    "\n",
    "###\n",
    "wc -l ${FP_OUT}\n",
    "echo ${SUM}\n",
    "```"
   ]
  },
  {
   "cell_type": "code",
   "execution_count": 28,
   "id": "c9a16c6f-a65d-4f0a-8625-1d63c460c186",
   "metadata": {},
   "outputs": [
    {
     "name": "stdout",
     "output_type": "stream",
     "text": [
      "hub_3160057_GeneHancer_double_elite_hg38.bed\n",
      "hub_3160057_GeneHancer_double_elite_hg38_chr11.bed\n",
      "hub_3160057_GeneHancer_double_elite_hg38_chr11.tsv\n",
      "hub_3160057_GeneHancer_double_elite_hg38_chr8.bed\n",
      "hub_3160057_GeneHancer_double_elite_hg38_chr8.tsv\n",
      "hub_3160057_GeneHancer_double_elite_hg38_chrX.bed\n",
      "hub_3160057_GeneHancer_double_elite_hg38_chrX.tsv\n",
      "hub_3160057_GeneHancer_hg38.bed\n",
      "hub_3160057_GeneHancer_hg38_chr11.bed\n",
      "hub_3160057_GeneHancer_hg38_chr11.tsv\n",
      "hub_3160057_GeneHancer_hg38_chr8.bed\n",
      "hub_3160057_GeneHancer_hg38_chr8.tsv\n",
      "hub_3160057_GeneHancer_hg38_chrX.bed\n",
      "hub_3160057_GeneHancer_hg38_chrX.tsv\n"
     ]
    }
   ],
   "source": [
    "ls ${FD_RES}/region/annotation_genehancer"
   ]
  },
  {
   "cell_type": "code",
   "execution_count": null,
   "id": "f988fe00-cb52-4178-b8e3-f498a7ba369b",
   "metadata": {},
   "outputs": [],
   "source": []
  }
 ],
 "metadata": {
  "kernelspec": {
   "display_name": "Bash",
   "language": "bash",
   "name": "bash"
  },
  "language_info": {
   "codemirror_mode": "shell",
   "file_extension": ".sh",
   "mimetype": "text/x-sh",
   "name": "bash"
  }
 },
 "nbformat": 4,
 "nbformat_minor": 5
}
