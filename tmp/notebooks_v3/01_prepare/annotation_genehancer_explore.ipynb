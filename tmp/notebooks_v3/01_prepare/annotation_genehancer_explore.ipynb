{
 "cells": [
  {
   "cell_type": "code",
   "execution_count": 1,
   "id": "dd6ac9d4",
   "metadata": {},
   "outputs": [
    {
     "name": "stdout",
     "output_type": "stream",
     "text": [
      "You are in Singularity: singularity_proj_combeffect \n",
      "BASE DIRECTORY:     /data/reddylab/Kuei \n",
      "WORK DIRECTORY:     /data/reddylab/Kuei/out \n",
      "CODE DIRECTORY:     /data/reddylab/Kuei/code \n",
      "PATH OF SOURCE:     /data/reddylab/Kuei/source \n",
      "PATH OF EXECUTABLE: /data/reddylab/Kuei/bin \n",
      "PATH OF ANNOTATION: /data/reddylab/Kuei/annotation \n",
      "PATH OF PROJECT:    /data/reddylab/Kuei/code/Proj_CombEffect_ENCODE_FCC \n",
      "PATH OF RESULTS:    /data/reddylab/Kuei/out/proj_combeffect_encode_fcc \n"
     ]
    }
   ],
   "source": [
    "suppressMessages(suppressWarnings(source(\"../config/config_sing.R\")))\n",
    "show_env()"
   ]
  },
  {
   "cell_type": "code",
   "execution_count": 2,
   "id": "17064380",
   "metadata": {},
   "outputs": [
    {
     "name": "stdout",
     "output_type": "stream",
     "text": [
      " [1] \"hub_3160057_GeneHancer_double_elite_hg38_chr11.bed\"\n",
      " [2] \"hub_3160057_GeneHancer_double_elite_hg38_chr11.tsv\"\n",
      " [3] \"hub_3160057_GeneHancer_double_elite_hg38_chr8.bed\" \n",
      " [4] \"hub_3160057_GeneHancer_double_elite_hg38_chr8.tsv\" \n",
      " [5] \"hub_3160057_GeneHancer_double_elite_hg38_chrX.bed\" \n",
      " [6] \"hub_3160057_GeneHancer_double_elite_hg38_chrX.tsv\" \n",
      " [7] \"hub_3160057_GeneHancer_hg38_chr11.bed\"             \n",
      " [8] \"hub_3160057_GeneHancer_hg38_chr11.tsv\"             \n",
      " [9] \"hub_3160057_GeneHancer_hg38_chr8.bed\"              \n",
      "[10] \"hub_3160057_GeneHancer_hg38_chr8.tsv\"              \n",
      "[11] \"hub_3160057_GeneHancer_hg38_chrX.bed\"              \n",
      "[12] \"hub_3160057_GeneHancer_hg38_chrX.tsv\"              \n"
     ]
    }
   ],
   "source": [
    "fdiry = file.path(FD_RES, \"region\", \"annotation_genehancer\")\n",
    "print(dir(fdiry))"
   ]
  },
  {
   "cell_type": "code",
   "execution_count": 8,
   "id": "b94decb3",
   "metadata": {},
   "outputs": [
    {
     "name": "stdout",
     "output_type": "stream",
     "text": [
      "[1] 18708    12\n"
     ]
    },
    {
     "data": {
      "text/html": [
       "<table class=\"dataframe\">\n",
       "<caption>A tibble: 6 × 12</caption>\n",
       "<thead>\n",
       "\t<tr><th scope=col>chrom</th><th scope=col>chromStart</th><th scope=col>chromEnd</th><th scope=col>name</th><th scope=col>score</th><th scope=col>strand</th><th scope=col>thickStart</th><th scope=col>thickEnd</th><th scope=col>reserved</th><th scope=col>evidenceSources</th><th scope=col>elementType</th><th scope=col>eliteness</th></tr>\n",
       "\t<tr><th scope=col>&lt;chr&gt;</th><th scope=col>&lt;dbl&gt;</th><th scope=col>&lt;dbl&gt;</th><th scope=col>&lt;chr&gt;</th><th scope=col>&lt;dbl&gt;</th><th scope=col>&lt;chr&gt;</th><th scope=col>&lt;dbl&gt;</th><th scope=col>&lt;dbl&gt;</th><th scope=col>&lt;dbl&gt;</th><th scope=col>&lt;chr&gt;</th><th scope=col>&lt;chr&gt;</th><th scope=col>&lt;chr&gt;</th></tr>\n",
       "</thead>\n",
       "<tbody>\n",
       "\t<tr><td>chr11</td><td>111000</td><td>111400</td><td>GH11J000112</td><td>1</td><td>.</td><td>111000</td><td>111400</td><td>192192192</td><td>Ensembl</td><td>Enhancer</td><td>-</td></tr>\n",
       "\t<tr><td>chr11</td><td>111999</td><td>112201</td><td>GH11J000111</td><td>1</td><td>.</td><td>111999</td><td>112201</td><td>192192192</td><td>Ensembl</td><td>Enhancer</td><td>-</td></tr>\n",
       "\t<tr><td>chr11</td><td>112400</td><td>112600</td><td>GH11J000113</td><td>1</td><td>.</td><td>112400</td><td>112600</td><td>192192192</td><td>Ensembl</td><td>Enhancer</td><td>-</td></tr>\n",
       "\t<tr><td>chr11</td><td>124200</td><td>125000</td><td>GH11J000124</td><td>1</td><td>.</td><td>124200</td><td>125000</td><td>192192192</td><td>Ensembl</td><td>Enhancer</td><td>-</td></tr>\n",
       "\t<tr><td>chr11</td><td>131600</td><td>133001</td><td>GH11J000132</td><td>1</td><td>.</td><td>131600</td><td>133001</td><td>192192192</td><td>Ensembl</td><td>Enhancer</td><td>-</td></tr>\n",
       "\t<tr><td>chr11</td><td>135000</td><td>135600</td><td>GH11J000135</td><td>1</td><td>.</td><td>135000</td><td>135600</td><td>192192192</td><td>Ensembl</td><td>Enhancer</td><td>-</td></tr>\n",
       "</tbody>\n",
       "</table>\n"
      ],
      "text/latex": [
       "A tibble: 6 × 12\n",
       "\\begin{tabular}{llllllllllll}\n",
       " chrom & chromStart & chromEnd & name & score & strand & thickStart & thickEnd & reserved & evidenceSources & elementType & eliteness\\\\\n",
       " <chr> & <dbl> & <dbl> & <chr> & <dbl> & <chr> & <dbl> & <dbl> & <dbl> & <chr> & <chr> & <chr>\\\\\n",
       "\\hline\n",
       "\t chr11 & 111000 & 111400 & GH11J000112 & 1 & . & 111000 & 111400 & 192192192 & Ensembl & Enhancer & -\\\\\n",
       "\t chr11 & 111999 & 112201 & GH11J000111 & 1 & . & 111999 & 112201 & 192192192 & Ensembl & Enhancer & -\\\\\n",
       "\t chr11 & 112400 & 112600 & GH11J000113 & 1 & . & 112400 & 112600 & 192192192 & Ensembl & Enhancer & -\\\\\n",
       "\t chr11 & 124200 & 125000 & GH11J000124 & 1 & . & 124200 & 125000 & 192192192 & Ensembl & Enhancer & -\\\\\n",
       "\t chr11 & 131600 & 133001 & GH11J000132 & 1 & . & 131600 & 133001 & 192192192 & Ensembl & Enhancer & -\\\\\n",
       "\t chr11 & 135000 & 135600 & GH11J000135 & 1 & . & 135000 & 135600 & 192192192 & Ensembl & Enhancer & -\\\\\n",
       "\\end{tabular}\n"
      ],
      "text/markdown": [
       "\n",
       "A tibble: 6 × 12\n",
       "\n",
       "| chrom &lt;chr&gt; | chromStart &lt;dbl&gt; | chromEnd &lt;dbl&gt; | name &lt;chr&gt; | score &lt;dbl&gt; | strand &lt;chr&gt; | thickStart &lt;dbl&gt; | thickEnd &lt;dbl&gt; | reserved &lt;dbl&gt; | evidenceSources &lt;chr&gt; | elementType &lt;chr&gt; | eliteness &lt;chr&gt; |\n",
       "|---|---|---|---|---|---|---|---|---|---|---|---|\n",
       "| chr11 | 111000 | 111400 | GH11J000112 | 1 | . | 111000 | 111400 | 192192192 | Ensembl | Enhancer | - |\n",
       "| chr11 | 111999 | 112201 | GH11J000111 | 1 | . | 111999 | 112201 | 192192192 | Ensembl | Enhancer | - |\n",
       "| chr11 | 112400 | 112600 | GH11J000113 | 1 | . | 112400 | 112600 | 192192192 | Ensembl | Enhancer | - |\n",
       "| chr11 | 124200 | 125000 | GH11J000124 | 1 | . | 124200 | 125000 | 192192192 | Ensembl | Enhancer | - |\n",
       "| chr11 | 131600 | 133001 | GH11J000132 | 1 | . | 131600 | 133001 | 192192192 | Ensembl | Enhancer | - |\n",
       "| chr11 | 135000 | 135600 | GH11J000135 | 1 | . | 135000 | 135600 | 192192192 | Ensembl | Enhancer | - |\n",
       "\n"
      ],
      "text/plain": [
       "  chrom chromStart chromEnd name        score strand thickStart thickEnd\n",
       "1 chr11 111000     111400   GH11J000112 1     .      111000     111400  \n",
       "2 chr11 111999     112201   GH11J000111 1     .      111999     112201  \n",
       "3 chr11 112400     112600   GH11J000113 1     .      112400     112600  \n",
       "4 chr11 124200     125000   GH11J000124 1     .      124200     125000  \n",
       "5 chr11 131600     133001   GH11J000132 1     .      131600     133001  \n",
       "6 chr11 135000     135600   GH11J000135 1     .      135000     135600  \n",
       "  reserved  evidenceSources elementType eliteness\n",
       "1 192192192 Ensembl         Enhancer    -        \n",
       "2 192192192 Ensembl         Enhancer    -        \n",
       "3 192192192 Ensembl         Enhancer    -        \n",
       "4 192192192 Ensembl         Enhancer    -        \n",
       "5 192192192 Ensembl         Enhancer    -        \n",
       "6 192192192 Ensembl         Enhancer    -        "
      ]
     },
     "metadata": {},
     "output_type": "display_data"
    }
   ],
   "source": [
    "###\n",
    "fdiry = file.path(FD_RES, \"region\", \"annotation_genehancer\")\n",
    "fname = \"hub_3160057_GeneHancer_hg38_chr11.tsv\"\n",
    "fpath = file.path(fdiry, fname)\n",
    "\n",
    "###\n",
    "dat = read_tsv(fpath, show_col_types = FALSE)\n",
    "colnames(dat)[1] = \"chrom\"\n",
    "\n",
    "###\n",
    "dat_ghancer = dat\n",
    "print(dim(dat))\n",
    "head(dat)"
   ]
  },
  {
   "cell_type": "code",
   "execution_count": 9,
   "id": "c9df6786",
   "metadata": {},
   "outputs": [
    {
     "name": "stdout",
     "output_type": "stream",
     "text": [
      "[1] 6081   12\n"
     ]
    },
    {
     "data": {
      "text/html": [
       "<table class=\"dataframe\">\n",
       "<caption>A tibble: 6 × 12</caption>\n",
       "<thead>\n",
       "\t<tr><th scope=col>chrom</th><th scope=col>chromStart</th><th scope=col>chromEnd</th><th scope=col>name</th><th scope=col>score</th><th scope=col>strand</th><th scope=col>thickStart</th><th scope=col>thickEnd</th><th scope=col>reserved</th><th scope=col>evidenceSources</th><th scope=col>elementType</th><th scope=col>eliteness</th></tr>\n",
       "\t<tr><th scope=col>&lt;chr&gt;</th><th scope=col>&lt;dbl&gt;</th><th scope=col>&lt;dbl&gt;</th><th scope=col>&lt;chr&gt;</th><th scope=col>&lt;dbl&gt;</th><th scope=col>&lt;chr&gt;</th><th scope=col>&lt;dbl&gt;</th><th scope=col>&lt;dbl&gt;</th><th scope=col>&lt;dbl&gt;</th><th scope=col>&lt;chr&gt;</th><th scope=col>&lt;chr&gt;</th><th scope=col>&lt;chr&gt;</th></tr>\n",
       "</thead>\n",
       "<tbody>\n",
       "\t<tr><td>chr11</td><td>138800</td><td>139400</td><td>GH11J000138</td><td> 82</td><td>.</td><td>138800</td><td>139400</td><td>255102102</td><td>EPDnew,Ensembl                                        </td><td>Promoter/Enhancer</td><td>Elite</td></tr>\n",
       "\t<tr><td>chr11</td><td>201648</td><td>202740</td><td>GH11J000201</td><td>155</td><td>.</td><td>201648</td><td>202740</td><td>255102102</td><td>Ensembl,ENCODE(Z-Lab)                                 </td><td>Promoter/Enhancer</td><td>Elite</td></tr>\n",
       "\t<tr><td>chr11</td><td>205714</td><td>211800</td><td>GH11J000205</td><td>570</td><td>.</td><td>205714</td><td>211800</td><td>    20400</td><td>EPDnew,Ensembl,ENCODE(Z-Lab),CraniofacialAtlas,dbSUPER</td><td>Promoter/Enhancer</td><td>Elite</td></tr>\n",
       "\t<tr><td>chr11</td><td>212200</td><td>213400</td><td>GH11J000212</td><td>105</td><td>.</td><td>212200</td><td>213400</td><td>160160160</td><td>Ensembl,dbSUPER                                       </td><td>Enhancer         </td><td>Elite</td></tr>\n",
       "\t<tr><td>chr11</td><td>216984</td><td>217444</td><td>GH11J000217</td><td>157</td><td>.</td><td>216984</td><td>217444</td><td>   959595</td><td>Ensembl,dbSUPER                                       </td><td>Enhancer         </td><td>Elite</td></tr>\n",
       "\t<tr><td>chr11</td><td>221200</td><td>222259</td><td>GH11J000222</td><td>246</td><td>.</td><td>221200</td><td>222259</td><td>   959595</td><td>Ensembl,ENCODE(Z-Lab),dbSUPER                         </td><td>Enhancer         </td><td>Elite</td></tr>\n",
       "</tbody>\n",
       "</table>\n"
      ],
      "text/latex": [
       "A tibble: 6 × 12\n",
       "\\begin{tabular}{llllllllllll}\n",
       " chrom & chromStart & chromEnd & name & score & strand & thickStart & thickEnd & reserved & evidenceSources & elementType & eliteness\\\\\n",
       " <chr> & <dbl> & <dbl> & <chr> & <dbl> & <chr> & <dbl> & <dbl> & <dbl> & <chr> & <chr> & <chr>\\\\\n",
       "\\hline\n",
       "\t chr11 & 138800 & 139400 & GH11J000138 &  82 & . & 138800 & 139400 & 255102102 & EPDnew,Ensembl                                         & Promoter/Enhancer & Elite\\\\\n",
       "\t chr11 & 201648 & 202740 & GH11J000201 & 155 & . & 201648 & 202740 & 255102102 & Ensembl,ENCODE(Z-Lab)                                  & Promoter/Enhancer & Elite\\\\\n",
       "\t chr11 & 205714 & 211800 & GH11J000205 & 570 & . & 205714 & 211800 &     20400 & EPDnew,Ensembl,ENCODE(Z-Lab),CraniofacialAtlas,dbSUPER & Promoter/Enhancer & Elite\\\\\n",
       "\t chr11 & 212200 & 213400 & GH11J000212 & 105 & . & 212200 & 213400 & 160160160 & Ensembl,dbSUPER                                        & Enhancer          & Elite\\\\\n",
       "\t chr11 & 216984 & 217444 & GH11J000217 & 157 & . & 216984 & 217444 &    959595 & Ensembl,dbSUPER                                        & Enhancer          & Elite\\\\\n",
       "\t chr11 & 221200 & 222259 & GH11J000222 & 246 & . & 221200 & 222259 &    959595 & Ensembl,ENCODE(Z-Lab),dbSUPER                          & Enhancer          & Elite\\\\\n",
       "\\end{tabular}\n"
      ],
      "text/markdown": [
       "\n",
       "A tibble: 6 × 12\n",
       "\n",
       "| chrom &lt;chr&gt; | chromStart &lt;dbl&gt; | chromEnd &lt;dbl&gt; | name &lt;chr&gt; | score &lt;dbl&gt; | strand &lt;chr&gt; | thickStart &lt;dbl&gt; | thickEnd &lt;dbl&gt; | reserved &lt;dbl&gt; | evidenceSources &lt;chr&gt; | elementType &lt;chr&gt; | eliteness &lt;chr&gt; |\n",
       "|---|---|---|---|---|---|---|---|---|---|---|---|\n",
       "| chr11 | 138800 | 139400 | GH11J000138 |  82 | . | 138800 | 139400 | 255102102 | EPDnew,Ensembl                                         | Promoter/Enhancer | Elite |\n",
       "| chr11 | 201648 | 202740 | GH11J000201 | 155 | . | 201648 | 202740 | 255102102 | Ensembl,ENCODE(Z-Lab)                                  | Promoter/Enhancer | Elite |\n",
       "| chr11 | 205714 | 211800 | GH11J000205 | 570 | . | 205714 | 211800 |     20400 | EPDnew,Ensembl,ENCODE(Z-Lab),CraniofacialAtlas,dbSUPER | Promoter/Enhancer | Elite |\n",
       "| chr11 | 212200 | 213400 | GH11J000212 | 105 | . | 212200 | 213400 | 160160160 | Ensembl,dbSUPER                                        | Enhancer          | Elite |\n",
       "| chr11 | 216984 | 217444 | GH11J000217 | 157 | . | 216984 | 217444 |    959595 | Ensembl,dbSUPER                                        | Enhancer          | Elite |\n",
       "| chr11 | 221200 | 222259 | GH11J000222 | 246 | . | 221200 | 222259 |    959595 | Ensembl,ENCODE(Z-Lab),dbSUPER                          | Enhancer          | Elite |\n",
       "\n"
      ],
      "text/plain": [
       "  chrom chromStart chromEnd name        score strand thickStart thickEnd\n",
       "1 chr11 138800     139400   GH11J000138  82   .      138800     139400  \n",
       "2 chr11 201648     202740   GH11J000201 155   .      201648     202740  \n",
       "3 chr11 205714     211800   GH11J000205 570   .      205714     211800  \n",
       "4 chr11 212200     213400   GH11J000212 105   .      212200     213400  \n",
       "5 chr11 216984     217444   GH11J000217 157   .      216984     217444  \n",
       "6 chr11 221200     222259   GH11J000222 246   .      221200     222259  \n",
       "  reserved  evidenceSources                                       \n",
       "1 255102102 EPDnew,Ensembl                                        \n",
       "2 255102102 Ensembl,ENCODE(Z-Lab)                                 \n",
       "3     20400 EPDnew,Ensembl,ENCODE(Z-Lab),CraniofacialAtlas,dbSUPER\n",
       "4 160160160 Ensembl,dbSUPER                                       \n",
       "5    959595 Ensembl,dbSUPER                                       \n",
       "6    959595 Ensembl,ENCODE(Z-Lab),dbSUPER                         \n",
       "  elementType       eliteness\n",
       "1 Promoter/Enhancer Elite    \n",
       "2 Promoter/Enhancer Elite    \n",
       "3 Promoter/Enhancer Elite    \n",
       "4 Enhancer          Elite    \n",
       "5 Enhancer          Elite    \n",
       "6 Enhancer          Elite    "
      ]
     },
     "metadata": {},
     "output_type": "display_data"
    }
   ],
   "source": [
    "###\n",
    "fdiry = file.path(FD_RES, \"region\", \"annotation_genehancer\")\n",
    "fname = \"hub_3160057_GeneHancer_double_elite_hg38_chr11.tsv\"\n",
    "fpath = file.path(fdiry, fname)\n",
    "\n",
    "###\n",
    "dat = read_tsv(fpath, show_col_types = FALSE)\n",
    "colnames(dat)[1] = \"chrom\"\n",
    "\n",
    "###\n",
    "dat_ghancer_de = dat\n",
    "print(dim(dat))\n",
    "head(dat)"
   ]
  },
  {
   "cell_type": "code",
   "execution_count": 10,
   "id": "9c361d17",
   "metadata": {},
   "outputs": [
    {
     "name": "stdout",
     "output_type": "stream",
     "text": [
      "[1] 8525   12\n",
      "[1] 6081   12\n"
     ]
    }
   ],
   "source": [
    "dat1 = dat_ghancer %>% dplyr::filter(eliteness == \"Elite\")\n",
    "dat2 = dat_ghancer_de\n",
    "\n",
    "print(dim(dat1))\n",
    "print(dim(dat2))"
   ]
  },
  {
   "cell_type": "code",
   "execution_count": 7,
   "id": "1eeffff1",
   "metadata": {},
   "outputs": [
    {
     "data": {
      "text/html": [
       "<table class=\"dataframe\">\n",
       "<caption>A tibble: 6 × 12</caption>\n",
       "<thead>\n",
       "\t<tr><th scope=col>#chrom</th><th scope=col>chromStart</th><th scope=col>chromEnd</th><th scope=col>name</th><th scope=col>score</th><th scope=col>strand</th><th scope=col>thickStart</th><th scope=col>thickEnd</th><th scope=col>reserved</th><th scope=col>evidenceSources</th><th scope=col>elementType</th><th scope=col>eliteness</th></tr>\n",
       "\t<tr><th scope=col>&lt;chr&gt;</th><th scope=col>&lt;dbl&gt;</th><th scope=col>&lt;dbl&gt;</th><th scope=col>&lt;chr&gt;</th><th scope=col>&lt;dbl&gt;</th><th scope=col>&lt;chr&gt;</th><th scope=col>&lt;dbl&gt;</th><th scope=col>&lt;dbl&gt;</th><th scope=col>&lt;dbl&gt;</th><th scope=col>&lt;chr&gt;</th><th scope=col>&lt;chr&gt;</th><th scope=col>&lt;chr&gt;</th></tr>\n",
       "</thead>\n",
       "<tbody>\n",
       "\t<tr><td>chr11</td><td>138800</td><td>139400</td><td>GH11J000138</td><td> 82</td><td>.</td><td>138800</td><td>139400</td><td>255102102</td><td>EPDnew,Ensembl                                        </td><td>Promoter/Enhancer</td><td>Elite</td></tr>\n",
       "\t<tr><td>chr11</td><td>201648</td><td>202740</td><td>GH11J000201</td><td>155</td><td>.</td><td>201648</td><td>202740</td><td>255102102</td><td>Ensembl,ENCODE(Z-Lab)                                 </td><td>Promoter/Enhancer</td><td>Elite</td></tr>\n",
       "\t<tr><td>chr11</td><td>205714</td><td>211800</td><td>GH11J000205</td><td>570</td><td>.</td><td>205714</td><td>211800</td><td>    20400</td><td>EPDnew,Ensembl,ENCODE(Z-Lab),CraniofacialAtlas,dbSUPER</td><td>Promoter/Enhancer</td><td>Elite</td></tr>\n",
       "\t<tr><td>chr11</td><td>212200</td><td>213400</td><td>GH11J000212</td><td>105</td><td>.</td><td>212200</td><td>213400</td><td>160160160</td><td>Ensembl,dbSUPER                                       </td><td>Enhancer         </td><td>Elite</td></tr>\n",
       "\t<tr><td>chr11</td><td>216984</td><td>217444</td><td>GH11J000217</td><td>157</td><td>.</td><td>216984</td><td>217444</td><td>   959595</td><td>Ensembl,dbSUPER                                       </td><td>Enhancer         </td><td>Elite</td></tr>\n",
       "\t<tr><td>chr11</td><td>221200</td><td>222259</td><td>GH11J000222</td><td>246</td><td>.</td><td>221200</td><td>222259</td><td>   959595</td><td>Ensembl,ENCODE(Z-Lab),dbSUPER                         </td><td>Enhancer         </td><td>Elite</td></tr>\n",
       "</tbody>\n",
       "</table>\n"
      ],
      "text/latex": [
       "A tibble: 6 × 12\n",
       "\\begin{tabular}{llllllllllll}\n",
       " \\#chrom & chromStart & chromEnd & name & score & strand & thickStart & thickEnd & reserved & evidenceSources & elementType & eliteness\\\\\n",
       " <chr> & <dbl> & <dbl> & <chr> & <dbl> & <chr> & <dbl> & <dbl> & <dbl> & <chr> & <chr> & <chr>\\\\\n",
       "\\hline\n",
       "\t chr11 & 138800 & 139400 & GH11J000138 &  82 & . & 138800 & 139400 & 255102102 & EPDnew,Ensembl                                         & Promoter/Enhancer & Elite\\\\\n",
       "\t chr11 & 201648 & 202740 & GH11J000201 & 155 & . & 201648 & 202740 & 255102102 & Ensembl,ENCODE(Z-Lab)                                  & Promoter/Enhancer & Elite\\\\\n",
       "\t chr11 & 205714 & 211800 & GH11J000205 & 570 & . & 205714 & 211800 &     20400 & EPDnew,Ensembl,ENCODE(Z-Lab),CraniofacialAtlas,dbSUPER & Promoter/Enhancer & Elite\\\\\n",
       "\t chr11 & 212200 & 213400 & GH11J000212 & 105 & . & 212200 & 213400 & 160160160 & Ensembl,dbSUPER                                        & Enhancer          & Elite\\\\\n",
       "\t chr11 & 216984 & 217444 & GH11J000217 & 157 & . & 216984 & 217444 &    959595 & Ensembl,dbSUPER                                        & Enhancer          & Elite\\\\\n",
       "\t chr11 & 221200 & 222259 & GH11J000222 & 246 & . & 221200 & 222259 &    959595 & Ensembl,ENCODE(Z-Lab),dbSUPER                          & Enhancer          & Elite\\\\\n",
       "\\end{tabular}\n"
      ],
      "text/markdown": [
       "\n",
       "A tibble: 6 × 12\n",
       "\n",
       "| #chrom &lt;chr&gt; | chromStart &lt;dbl&gt; | chromEnd &lt;dbl&gt; | name &lt;chr&gt; | score &lt;dbl&gt; | strand &lt;chr&gt; | thickStart &lt;dbl&gt; | thickEnd &lt;dbl&gt; | reserved &lt;dbl&gt; | evidenceSources &lt;chr&gt; | elementType &lt;chr&gt; | eliteness &lt;chr&gt; |\n",
       "|---|---|---|---|---|---|---|---|---|---|---|---|\n",
       "| chr11 | 138800 | 139400 | GH11J000138 |  82 | . | 138800 | 139400 | 255102102 | EPDnew,Ensembl                                         | Promoter/Enhancer | Elite |\n",
       "| chr11 | 201648 | 202740 | GH11J000201 | 155 | . | 201648 | 202740 | 255102102 | Ensembl,ENCODE(Z-Lab)                                  | Promoter/Enhancer | Elite |\n",
       "| chr11 | 205714 | 211800 | GH11J000205 | 570 | . | 205714 | 211800 |     20400 | EPDnew,Ensembl,ENCODE(Z-Lab),CraniofacialAtlas,dbSUPER | Promoter/Enhancer | Elite |\n",
       "| chr11 | 212200 | 213400 | GH11J000212 | 105 | . | 212200 | 213400 | 160160160 | Ensembl,dbSUPER                                        | Enhancer          | Elite |\n",
       "| chr11 | 216984 | 217444 | GH11J000217 | 157 | . | 216984 | 217444 |    959595 | Ensembl,dbSUPER                                        | Enhancer          | Elite |\n",
       "| chr11 | 221200 | 222259 | GH11J000222 | 246 | . | 221200 | 222259 |    959595 | Ensembl,ENCODE(Z-Lab),dbSUPER                          | Enhancer          | Elite |\n",
       "\n"
      ],
      "text/plain": [
       "  #chrom chromStart chromEnd name        score strand thickStart thickEnd\n",
       "1 chr11  138800     139400   GH11J000138  82   .      138800     139400  \n",
       "2 chr11  201648     202740   GH11J000201 155   .      201648     202740  \n",
       "3 chr11  205714     211800   GH11J000205 570   .      205714     211800  \n",
       "4 chr11  212200     213400   GH11J000212 105   .      212200     213400  \n",
       "5 chr11  216984     217444   GH11J000217 157   .      216984     217444  \n",
       "6 chr11  221200     222259   GH11J000222 246   .      221200     222259  \n",
       "  reserved  evidenceSources                                       \n",
       "1 255102102 EPDnew,Ensembl                                        \n",
       "2 255102102 Ensembl,ENCODE(Z-Lab)                                 \n",
       "3     20400 EPDnew,Ensembl,ENCODE(Z-Lab),CraniofacialAtlas,dbSUPER\n",
       "4 160160160 Ensembl,dbSUPER                                       \n",
       "5    959595 Ensembl,dbSUPER                                       \n",
       "6    959595 Ensembl,ENCODE(Z-Lab),dbSUPER                         \n",
       "  elementType       eliteness\n",
       "1 Promoter/Enhancer Elite    \n",
       "2 Promoter/Enhancer Elite    \n",
       "3 Promoter/Enhancer Elite    \n",
       "4 Enhancer          Elite    \n",
       "5 Enhancer          Elite    \n",
       "6 Enhancer          Elite    "
      ]
     },
     "metadata": {},
     "output_type": "display_data"
    }
   ],
   "source": [
    "head(dat1)"
   ]
  },
  {
   "cell_type": "code",
   "execution_count": 11,
   "id": "dcf1f14c",
   "metadata": {},
   "outputs": [
    {
     "name": "stdout",
     "output_type": "stream",
     "text": [
      "[1] 8525    3\n",
      "[1] 6081    3\n"
     ]
    }
   ],
   "source": [
    "dat1 = dat_ghancer %>% dplyr::filter(eliteness == \"Elite\") %>% dplyr::select(chrom, chromStart, chromEnd) %>% distinct\n",
    "dat2 = dat_ghancer_de %>% dplyr::select(chrom, chromStart, chromEnd) %>% distinct\n",
    "\n",
    "print(dim(dat1))\n",
    "print(dim(dat2))"
   ]
  },
  {
   "cell_type": "code",
   "execution_count": 13,
   "id": "49720766",
   "metadata": {},
   "outputs": [
    {
     "data": {
      "text/html": [
       "TRUE"
      ],
      "text/latex": [
       "TRUE"
      ],
      "text/markdown": [
       "TRUE"
      ],
      "text/plain": [
       "[1] TRUE"
      ]
     },
     "metadata": {},
     "output_type": "display_data"
    }
   ],
   "source": [
    "dat1 = dat_ghancer %>% dplyr::filter(eliteness == \"Elite\")\n",
    "dat2 = dat_ghancer_de\n",
    "\n",
    "all(dat2$name %in% dat1$name)"
   ]
  },
  {
   "cell_type": "code",
   "execution_count": null,
   "id": "cce4662c",
   "metadata": {},
   "outputs": [],
   "source": []
  }
 ],
 "metadata": {
  "kernelspec": {
   "display_name": "R",
   "language": "R",
   "name": "ir"
  },
  "language_info": {
   "codemirror_mode": "r",
   "file_extension": ".r",
   "mimetype": "text/x-r-source",
   "name": "R",
   "pygments_lexer": "r",
   "version": "4.2.2"
  }
 },
 "nbformat": 4,
 "nbformat_minor": 5
}
