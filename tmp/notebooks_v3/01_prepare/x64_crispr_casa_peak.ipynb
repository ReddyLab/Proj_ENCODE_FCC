{
 "cells": [
  {
   "cell_type": "code",
   "execution_count": 1,
   "metadata": {},
   "outputs": [
    {
     "name": "stdout",
     "output_type": "stream",
     "text": [
      "You are in Singularity: singularity_proj_combeffect \n",
      "BASE DIRECTORY:     /data/reddylab/Kuei \n",
      "WORK DIRECTORY:     /data/reddylab/Kuei/out \n",
      "CODE DIRECTORY:     /data/reddylab/Kuei/code \n",
      "PATH OF SOURCE:     /data/reddylab/Kuei/source \n",
      "PATH OF EXECUTABLE: /data/reddylab/Kuei/bin \n",
      "PATH OF ANNOTATION: /data/reddylab/Kuei/annotation \n",
      "PATH OF PROJECT:    /data/reddylab/Kuei/code/Proj_CombEffect_ENCODE_FCC \n",
      "PATH OF RESULTS:    /data/reddylab/Kuei/out/proj_combeffect_encode_fcc \n"
     ]
    }
   ],
   "source": [
    "suppressMessages(suppressWarnings(source(\"../config/config_sing.R\")))\n",
    "show_env()"
   ]
  },
  {
   "cell_type": "code",
   "execution_count": 2,
   "metadata": {},
   "outputs": [
    {
     "data": {
      "text/html": [
       "<style>\n",
       ".list-inline {list-style: none; margin:0; padding: 0}\n",
       ".list-inline>li {display: inline-block}\n",
       ".list-inline>li:not(:last-child)::after {content: \"\\00b7\"; padding: 0 .5ex}\n",
       "</style>\n",
       "<ol class=list-inline><li>'CAPRIN1_HCRFF_CASA_elem_quant.bed'</li><li>'CAT_HCRFF_CASA_elem_quant.bed'</li><li>'CD164_HCRFF_CASA_elem_quant.bed'</li><li>'ERP29_HCRFF_CASA_elem_quant.bed'</li><li>'FADS1_HCRFF_CASA_elem_quant.bed'</li><li>'FADS2_HCRFF_CASA_elem_quant.bed'</li><li>'FADS3_HCRFF_CASA_elem_quant.bed'</li><li>'FEN1_HCRFF_CASA_elem_quant.bed'</li><li>'GATA1_HCRFF_CASA_elem_quant.bed'</li><li>'HBE1_HCRFF_CASA_elem_quant.bed'</li><li>'HBG1_HCRFF_CASA_elem_quant.bed'</li><li>'HBG2_HCRFF_CASA_elem_quant.bed'</li><li>'HBS1L_HCRFF_CASA_elem_quant.bed'</li><li>'HDAC6_HCRFF_CASA_elem_quant.bed'</li><li>'LMO2_HCRFF_CASA_elem_quant.bed'</li><li>'MEF2C_HCRFF_CASA_elem_quant.bed'</li><li>'MYB_HCRFF_CASA_elem_quant.bed'</li><li>'MYC_HCRFF_CASA_elem_quant.bed'</li><li>'NMU_HCRFF_CASA_elem_quant.bed'</li><li>'PVT1_HCRFF_CASA_elem_quant.bed'</li></ol>\n"
      ],
      "text/latex": [
       "\\begin{enumerate*}\n",
       "\\item 'CAPRIN1\\_HCRFF\\_CASA\\_elem\\_quant.bed'\n",
       "\\item 'CAT\\_HCRFF\\_CASA\\_elem\\_quant.bed'\n",
       "\\item 'CD164\\_HCRFF\\_CASA\\_elem\\_quant.bed'\n",
       "\\item 'ERP29\\_HCRFF\\_CASA\\_elem\\_quant.bed'\n",
       "\\item 'FADS1\\_HCRFF\\_CASA\\_elem\\_quant.bed'\n",
       "\\item 'FADS2\\_HCRFF\\_CASA\\_elem\\_quant.bed'\n",
       "\\item 'FADS3\\_HCRFF\\_CASA\\_elem\\_quant.bed'\n",
       "\\item 'FEN1\\_HCRFF\\_CASA\\_elem\\_quant.bed'\n",
       "\\item 'GATA1\\_HCRFF\\_CASA\\_elem\\_quant.bed'\n",
       "\\item 'HBE1\\_HCRFF\\_CASA\\_elem\\_quant.bed'\n",
       "\\item 'HBG1\\_HCRFF\\_CASA\\_elem\\_quant.bed'\n",
       "\\item 'HBG2\\_HCRFF\\_CASA\\_elem\\_quant.bed'\n",
       "\\item 'HBS1L\\_HCRFF\\_CASA\\_elem\\_quant.bed'\n",
       "\\item 'HDAC6\\_HCRFF\\_CASA\\_elem\\_quant.bed'\n",
       "\\item 'LMO2\\_HCRFF\\_CASA\\_elem\\_quant.bed'\n",
       "\\item 'MEF2C\\_HCRFF\\_CASA\\_elem\\_quant.bed'\n",
       "\\item 'MYB\\_HCRFF\\_CASA\\_elem\\_quant.bed'\n",
       "\\item 'MYC\\_HCRFF\\_CASA\\_elem\\_quant.bed'\n",
       "\\item 'NMU\\_HCRFF\\_CASA\\_elem\\_quant.bed'\n",
       "\\item 'PVT1\\_HCRFF\\_CASA\\_elem\\_quant.bed'\n",
       "\\end{enumerate*}\n"
      ],
      "text/markdown": [
       "1. 'CAPRIN1_HCRFF_CASA_elem_quant.bed'\n",
       "2. 'CAT_HCRFF_CASA_elem_quant.bed'\n",
       "3. 'CD164_HCRFF_CASA_elem_quant.bed'\n",
       "4. 'ERP29_HCRFF_CASA_elem_quant.bed'\n",
       "5. 'FADS1_HCRFF_CASA_elem_quant.bed'\n",
       "6. 'FADS2_HCRFF_CASA_elem_quant.bed'\n",
       "7. 'FADS3_HCRFF_CASA_elem_quant.bed'\n",
       "8. 'FEN1_HCRFF_CASA_elem_quant.bed'\n",
       "9. 'GATA1_HCRFF_CASA_elem_quant.bed'\n",
       "10. 'HBE1_HCRFF_CASA_elem_quant.bed'\n",
       "11. 'HBG1_HCRFF_CASA_elem_quant.bed'\n",
       "12. 'HBG2_HCRFF_CASA_elem_quant.bed'\n",
       "13. 'HBS1L_HCRFF_CASA_elem_quant.bed'\n",
       "14. 'HDAC6_HCRFF_CASA_elem_quant.bed'\n",
       "15. 'LMO2_HCRFF_CASA_elem_quant.bed'\n",
       "16. 'MEF2C_HCRFF_CASA_elem_quant.bed'\n",
       "17. 'MYB_HCRFF_CASA_elem_quant.bed'\n",
       "18. 'MYC_HCRFF_CASA_elem_quant.bed'\n",
       "19. 'NMU_HCRFF_CASA_elem_quant.bed'\n",
       "20. 'PVT1_HCRFF_CASA_elem_quant.bed'\n",
       "\n",
       "\n"
      ],
      "text/plain": [
       " [1] \"CAPRIN1_HCRFF_CASA_elem_quant.bed\" \"CAT_HCRFF_CASA_elem_quant.bed\"    \n",
       " [3] \"CD164_HCRFF_CASA_elem_quant.bed\"   \"ERP29_HCRFF_CASA_elem_quant.bed\"  \n",
       " [5] \"FADS1_HCRFF_CASA_elem_quant.bed\"   \"FADS2_HCRFF_CASA_elem_quant.bed\"  \n",
       " [7] \"FADS3_HCRFF_CASA_elem_quant.bed\"   \"FEN1_HCRFF_CASA_elem_quant.bed\"   \n",
       " [9] \"GATA1_HCRFF_CASA_elem_quant.bed\"   \"HBE1_HCRFF_CASA_elem_quant.bed\"   \n",
       "[11] \"HBG1_HCRFF_CASA_elem_quant.bed\"    \"HBG2_HCRFF_CASA_elem_quant.bed\"   \n",
       "[13] \"HBS1L_HCRFF_CASA_elem_quant.bed\"   \"HDAC6_HCRFF_CASA_elem_quant.bed\"  \n",
       "[15] \"LMO2_HCRFF_CASA_elem_quant.bed\"    \"MEF2C_HCRFF_CASA_elem_quant.bed\"  \n",
       "[17] \"MYB_HCRFF_CASA_elem_quant.bed\"     \"MYC_HCRFF_CASA_elem_quant.bed\"    \n",
       "[19] \"NMU_HCRFF_CASA_elem_quant.bed\"     \"PVT1_HCRFF_CASA_elem_quant.bed\"   "
      ]
     },
     "metadata": {},
     "output_type": "display_data"
    }
   ],
   "source": [
    "fdiry=file.path(FD_RES, \"source\", \"CRISPR\", \"casa_peak_calls\")\n",
    "dir(fdiry)"
   ]
  },
  {
   "cell_type": "code",
   "execution_count": 26,
   "metadata": {},
   "outputs": [
    {
     "name": "stdout",
     "output_type": "stream",
     "text": [
      "[1] \"CAPRIN1\"\n"
     ]
    }
   ],
   "source": [
    "fname = \"CAPRIN1_HCRFF_CASA_elem_quant.bed\"\n",
    "gene  = str_split(string = fname, pattern = \"_\", n = 2) %>% \n",
    "    unlist %>%\n",
    "    magrittr::extract(1)\n",
    "print(gene)"
   ]
  },
  {
   "cell_type": "code",
   "execution_count": 24,
   "metadata": {},
   "outputs": [
    {
     "ename": "ERROR",
     "evalue": "Error in UseMethod(\"extract\"): no applicable method for 'extract' applied to an object of class \"character\"\n",
     "output_type": "error",
     "traceback": [
      "Error in UseMethod(\"extract\"): no applicable method for 'extract' applied to an object of class \"character\"\nTraceback:\n",
      "1. extract(gene, 1)"
     ]
    }
   ],
   "source": [
    "magrittr::extract(gene, 1)"
   ]
  },
  {
   "cell_type": "code",
   "execution_count": 12,
   "metadata": {},
   "outputs": [
    {
     "name": "stdout",
     "output_type": "stream",
     "text": [
      "+++++++++++++++++++++++++\n",
      "CAPRIN1_HCRFF_CASA_elem_quant.bed \n",
      "\n",
      "\n",
      "+++++++++++++++++++++++++\n",
      "CAT_HCRFF_CASA_elem_quant.bed \n",
      "\n",
      "\n",
      "+++++++++++++++++++++++++\n",
      "CD164_HCRFF_CASA_elem_quant.bed \n",
      "\n",
      "\n",
      "+++++++++++++++++++++++++\n",
      "ERP29_HCRFF_CASA_elem_quant.bed \n",
      "\n",
      "\n",
      "+++++++++++++++++++++++++\n",
      "FADS1_HCRFF_CASA_elem_quant.bed \n",
      "\n",
      "\n",
      "+++++++++++++++++++++++++\n",
      "FADS2_HCRFF_CASA_elem_quant.bed \n",
      "\n",
      "\n",
      "+++++++++++++++++++++++++\n",
      "FADS3_HCRFF_CASA_elem_quant.bed \n",
      "\n",
      "\n",
      "+++++++++++++++++++++++++\n",
      "FEN1_HCRFF_CASA_elem_quant.bed \n",
      "\n",
      "\n",
      "+++++++++++++++++++++++++\n",
      "GATA1_HCRFF_CASA_elem_quant.bed \n",
      "\n",
      "\n",
      "+++++++++++++++++++++++++\n",
      "HBE1_HCRFF_CASA_elem_quant.bed \n",
      "\n",
      "\n",
      "+++++++++++++++++++++++++\n",
      "HBG1_HCRFF_CASA_elem_quant.bed \n",
      "\n",
      "\n",
      "+++++++++++++++++++++++++\n",
      "HBG2_HCRFF_CASA_elem_quant.bed \n",
      "\n",
      "\n",
      "+++++++++++++++++++++++++\n",
      "HBS1L_HCRFF_CASA_elem_quant.bed \n",
      "\n",
      "\n",
      "+++++++++++++++++++++++++\n",
      "HDAC6_HCRFF_CASA_elem_quant.bed \n",
      "\n",
      "\n",
      "+++++++++++++++++++++++++\n",
      "LMO2_HCRFF_CASA_elem_quant.bed \n",
      "\n",
      "\n",
      "+++++++++++++++++++++++++\n",
      "MEF2C_HCRFF_CASA_elem_quant.bed \n",
      "\n",
      "\n",
      "+++++++++++++++++++++++++\n",
      "MYB_HCRFF_CASA_elem_quant.bed \n",
      "\n",
      "\n",
      "+++++++++++++++++++++++++\n",
      "MYC_HCRFF_CASA_elem_quant.bed \n",
      "\n",
      "\n",
      "+++++++++++++++++++++++++\n",
      "NMU_HCRFF_CASA_elem_quant.bed \n",
      "\n",
      "\n",
      "+++++++++++++++++++++++++\n",
      "PVT1_HCRFF_CASA_elem_quant.bed \n",
      "\n",
      "\n"
     ]
    }
   ],
   "source": [
    "fdiry  = file.path(FD_RES, \"source\", \"CRISPR\", \"casa_peak_calls\")\n",
    "fnames = dir(fdiry)\n",
    "for (fname in fnames){\n",
    "    gene = str_split(string=fname, pattern=\"_\")\n",
    "    cat(\"+++++++++++++++++++++++++\\n\")\n",
    "    cat(fname, \"\\n\")\n",
    "    cat(\"\\n\")\n",
    "    cat(\"\\n\")\n",
    "}"
   ]
  },
  {
   "cell_type": "markdown",
   "metadata": {},
   "source": [
    "GitHub - oh-jinwoo94/ENCODE: Some useful scripts for the ENCODE CRISPR subgroup\n",
    "https://github.com/oh-jinwoo94/ENCODE\n",
    "```\n",
    "chrom\n",
    "chromStart\n",
    "chromEnd\n",
    "name\n",
    "SeqCounts\n",
    "```"
   ]
  },
  {
   "cell_type": "code",
   "execution_count": null,
   "metadata": {},
   "outputs": [],
   "source": []
  },
  {
   "cell_type": "code",
   "execution_count": 5,
   "metadata": {},
   "outputs": [
    {
     "name": "stderr",
     "output_type": "stream",
     "text": [
      "\u001b[1mRows: \u001b[22m\u001b[34m4\u001b[39m \u001b[1mColumns: \u001b[22m\u001b[34m25\u001b[39m\n",
      "\u001b[36m──\u001b[39m \u001b[1mColumn specification\u001b[22m \u001b[36m──────────────────────────────────────────────────\u001b[39m\n",
      "\u001b[1mDelimiter:\u001b[22m \"\\t\"\n",
      "\u001b[31mchr\u001b[39m  (8): X1, X4, X6, X7, X8, X11, X14, X15\n",
      "\u001b[32mdbl\u001b[39m  (5): X2, X3, X5, X9, X10\n",
      "\u001b[33mlgl\u001b[39m (12): X12, X13, X16, X17, X18, X19, X20, X21, X22, X23, X24, X25\n",
      "\n",
      "\u001b[36mℹ\u001b[39m Use `spec()` to retrieve the full column specification for this data.\n",
      "\u001b[36mℹ\u001b[39m Specify the column types or set `show_col_types = FALSE` to quiet this message.\n"
     ]
    },
    {
     "name": "stdout",
     "output_type": "stream",
     "text": [
      "[1]  4 25\n"
     ]
    },
    {
     "data": {
      "text/html": [
       "<table class=\"dataframe\">\n",
       "<caption>A tibble: 4 × 25</caption>\n",
       "<thead>\n",
       "\t<tr><th scope=col>X1</th><th scope=col>X2</th><th scope=col>X3</th><th scope=col>X4</th><th scope=col>X5</th><th scope=col>X6</th><th scope=col>X7</th><th scope=col>X8</th><th scope=col>X9</th><th scope=col>X10</th><th scope=col>⋯</th><th scope=col>X16</th><th scope=col>X17</th><th scope=col>X18</th><th scope=col>X19</th><th scope=col>X20</th><th scope=col>X21</th><th scope=col>X22</th><th scope=col>X23</th><th scope=col>X24</th><th scope=col>X25</th></tr>\n",
       "\t<tr><th scope=col>&lt;chr&gt;</th><th scope=col>&lt;dbl&gt;</th><th scope=col>&lt;dbl&gt;</th><th scope=col>&lt;chr&gt;</th><th scope=col>&lt;dbl&gt;</th><th scope=col>&lt;chr&gt;</th><th scope=col>&lt;chr&gt;</th><th scope=col>&lt;chr&gt;</th><th scope=col>&lt;dbl&gt;</th><th scope=col>&lt;dbl&gt;</th><th scope=col>⋯</th><th scope=col>&lt;lgl&gt;</th><th scope=col>&lt;lgl&gt;</th><th scope=col>&lt;lgl&gt;</th><th scope=col>&lt;lgl&gt;</th><th scope=col>&lt;lgl&gt;</th><th scope=col>&lt;lgl&gt;</th><th scope=col>&lt;lgl&gt;</th><th scope=col>&lt;lgl&gt;</th><th scope=col>&lt;lgl&gt;</th><th scope=col>&lt;lgl&gt;</th></tr>\n",
       "</thead>\n",
       "<tbody>\n",
       "\t<tr><td>chr11</td><td>33944871</td><td>33945471</td><td>chr11:33944871-33945471:.</td><td>0.8037646</td><td>.</td><td>chr11:33944871-33945471:.</td><td>chr11</td><td>34051730</td><td>34051731</td><td>⋯</td><td>NA</td><td>NA</td><td>TRUE</td><td>NA</td><td>NA</td><td>NA</td><td>NA</td><td>NA</td><td>TRUE</td><td>NA</td></tr>\n",
       "\t<tr><td>chr11</td><td>34050971</td><td>34051471</td><td>chr11:34050971-34051471:.</td><td>0.9739873</td><td>.</td><td>chr11:34050971-34051471:.</td><td>chr11</td><td>34051730</td><td>34051731</td><td>⋯</td><td>NA</td><td>NA</td><td>TRUE</td><td>NA</td><td>NA</td><td>NA</td><td>NA</td><td>NA</td><td>TRUE</td><td>NA</td></tr>\n",
       "\t<tr><td>chr11</td><td>34051571</td><td>34054171</td><td>chr11:34051571-34054171:.</td><td>2.0642907</td><td>.</td><td>chr11:34051571-34054171:.</td><td>chr11</td><td>34051730</td><td>34051731</td><td>⋯</td><td>NA</td><td>NA</td><td>TRUE</td><td>NA</td><td>NA</td><td>NA</td><td>NA</td><td>NA</td><td>TRUE</td><td>NA</td></tr>\n",
       "\t<tr><td>chr11</td><td>34085871</td><td>34086871</td><td>chr11:34085871-34086871:.</td><td>1.0092724</td><td>.</td><td>chr11:34085871-34086871:.</td><td>chr11</td><td>34051730</td><td>34051731</td><td>⋯</td><td>NA</td><td>NA</td><td>TRUE</td><td>NA</td><td>NA</td><td>NA</td><td>NA</td><td>NA</td><td>TRUE</td><td>NA</td></tr>\n",
       "</tbody>\n",
       "</table>\n"
      ],
      "text/latex": [
       "A tibble: 4 × 25\n",
       "\\begin{tabular}{lllllllllllllllllllll}\n",
       " X1 & X2 & X3 & X4 & X5 & X6 & X7 & X8 & X9 & X10 & ⋯ & X16 & X17 & X18 & X19 & X20 & X21 & X22 & X23 & X24 & X25\\\\\n",
       " <chr> & <dbl> & <dbl> & <chr> & <dbl> & <chr> & <chr> & <chr> & <dbl> & <dbl> & ⋯ & <lgl> & <lgl> & <lgl> & <lgl> & <lgl> & <lgl> & <lgl> & <lgl> & <lgl> & <lgl>\\\\\n",
       "\\hline\n",
       "\t chr11 & 33944871 & 33945471 & chr11:33944871-33945471:. & 0.8037646 & . & chr11:33944871-33945471:. & chr11 & 34051730 & 34051731 & ⋯ & NA & NA & TRUE & NA & NA & NA & NA & NA & TRUE & NA\\\\\n",
       "\t chr11 & 34050971 & 34051471 & chr11:34050971-34051471:. & 0.9739873 & . & chr11:34050971-34051471:. & chr11 & 34051730 & 34051731 & ⋯ & NA & NA & TRUE & NA & NA & NA & NA & NA & TRUE & NA\\\\\n",
       "\t chr11 & 34051571 & 34054171 & chr11:34051571-34054171:. & 2.0642907 & . & chr11:34051571-34054171:. & chr11 & 34051730 & 34051731 & ⋯ & NA & NA & TRUE & NA & NA & NA & NA & NA & TRUE & NA\\\\\n",
       "\t chr11 & 34085871 & 34086871 & chr11:34085871-34086871:. & 1.0092724 & . & chr11:34085871-34086871:. & chr11 & 34051730 & 34051731 & ⋯ & NA & NA & TRUE & NA & NA & NA & NA & NA & TRUE & NA\\\\\n",
       "\\end{tabular}\n"
      ],
      "text/markdown": [
       "\n",
       "A tibble: 4 × 25\n",
       "\n",
       "| X1 &lt;chr&gt; | X2 &lt;dbl&gt; | X3 &lt;dbl&gt; | X4 &lt;chr&gt; | X5 &lt;dbl&gt; | X6 &lt;chr&gt; | X7 &lt;chr&gt; | X8 &lt;chr&gt; | X9 &lt;dbl&gt; | X10 &lt;dbl&gt; | ⋯ ⋯ | X16 &lt;lgl&gt; | X17 &lt;lgl&gt; | X18 &lt;lgl&gt; | X19 &lt;lgl&gt; | X20 &lt;lgl&gt; | X21 &lt;lgl&gt; | X22 &lt;lgl&gt; | X23 &lt;lgl&gt; | X24 &lt;lgl&gt; | X25 &lt;lgl&gt; |\n",
       "|---|---|---|---|---|---|---|---|---|---|---|---|---|---|---|---|---|---|---|---|---|\n",
       "| chr11 | 33944871 | 33945471 | chr11:33944871-33945471:. | 0.8037646 | . | chr11:33944871-33945471:. | chr11 | 34051730 | 34051731 | ⋯ | NA | NA | TRUE | NA | NA | NA | NA | NA | TRUE | NA |\n",
       "| chr11 | 34050971 | 34051471 | chr11:34050971-34051471:. | 0.9739873 | . | chr11:34050971-34051471:. | chr11 | 34051730 | 34051731 | ⋯ | NA | NA | TRUE | NA | NA | NA | NA | NA | TRUE | NA |\n",
       "| chr11 | 34051571 | 34054171 | chr11:34051571-34054171:. | 2.0642907 | . | chr11:34051571-34054171:. | chr11 | 34051730 | 34051731 | ⋯ | NA | NA | TRUE | NA | NA | NA | NA | NA | TRUE | NA |\n",
       "| chr11 | 34085871 | 34086871 | chr11:34085871-34086871:. | 1.0092724 | . | chr11:34085871-34086871:. | chr11 | 34051730 | 34051731 | ⋯ | NA | NA | TRUE | NA | NA | NA | NA | NA | TRUE | NA |\n",
       "\n"
      ],
      "text/plain": [
       "  X1    X2       X3       X4                        X5        X6\n",
       "1 chr11 33944871 33945471 chr11:33944871-33945471:. 0.8037646 . \n",
       "2 chr11 34050971 34051471 chr11:34050971-34051471:. 0.9739873 . \n",
       "3 chr11 34051571 34054171 chr11:34051571-34054171:. 2.0642907 . \n",
       "4 chr11 34085871 34086871 chr11:34085871-34086871:. 1.0092724 . \n",
       "  X7                        X8    X9       X10      ⋯ X16 X17 X18  X19 X20 X21\n",
       "1 chr11:33944871-33945471:. chr11 34051730 34051731 ⋯ NA  NA  TRUE NA  NA  NA \n",
       "2 chr11:34050971-34051471:. chr11 34051730 34051731 ⋯ NA  NA  TRUE NA  NA  NA \n",
       "3 chr11:34051571-34054171:. chr11 34051730 34051731 ⋯ NA  NA  TRUE NA  NA  NA \n",
       "4 chr11:34085871-34086871:. chr11 34051730 34051731 ⋯ NA  NA  TRUE NA  NA  NA \n",
       "  X22 X23 X24  X25\n",
       "1 NA  NA  TRUE NA \n",
       "2 NA  NA  TRUE NA \n",
       "3 NA  NA  TRUE NA \n",
       "4 NA  NA  TRUE NA "
      ]
     },
     "metadata": {},
     "output_type": "display_data"
    }
   ],
   "source": [
    "fdiry = file.path(FD_RES, \"source\", \"CRISPR\", \"casa_peak_calls\")\n",
    "fname = \"CAPRIN1_HCRFF_CASA_elem_quant.bed\"\n",
    "fpath = file.path(fdiry, fname)\n",
    "\n",
    "\n",
    "dat = read_tsv(fpath, col_names = FALSE)\n",
    "\n",
    "dat_caprin1 = dat\n",
    "print(dim(dat))\n",
    "head(dat)"
   ]
  },
  {
   "cell_type": "code",
   "execution_count": 27,
   "metadata": {},
   "outputs": [
    {
     "name": "stderr",
     "output_type": "stream",
     "text": [
      "\u001b[1mRows: \u001b[22m\u001b[34m3\u001b[39m \u001b[1mColumns: \u001b[22m\u001b[34m25\u001b[39m\n",
      "\u001b[36m──\u001b[39m \u001b[1mColumn specification\u001b[22m \u001b[36m──────────────────────────────────────────────────\u001b[39m\n",
      "\u001b[1mDelimiter:\u001b[22m \"\\t\"\n",
      "\u001b[31mchr\u001b[39m  (8): X1, X4, X6, X7, X8, X11, X14, X15\n",
      "\u001b[32mdbl\u001b[39m  (5): X2, X3, X5, X9, X10\n",
      "\u001b[33mlgl\u001b[39m (12): X12, X13, X16, X17, X18, X19, X20, X21, X22, X23, X24, X25\n",
      "\n",
      "\u001b[36mℹ\u001b[39m Use `spec()` to retrieve the full column specification for this data.\n",
      "\u001b[36mℹ\u001b[39m Specify the column types or set `show_col_types = FALSE` to quiet this message.\n"
     ]
    },
    {
     "name": "stdout",
     "output_type": "stream",
     "text": [
      "[1]  3 25\n"
     ]
    },
    {
     "data": {
      "text/html": [
       "<table class=\"dataframe\">\n",
       "<caption>A tibble: 3 × 25</caption>\n",
       "<thead>\n",
       "\t<tr><th scope=col>X1</th><th scope=col>X2</th><th scope=col>X3</th><th scope=col>X4</th><th scope=col>X5</th><th scope=col>X6</th><th scope=col>X7</th><th scope=col>X8</th><th scope=col>X9</th><th scope=col>X10</th><th scope=col>⋯</th><th scope=col>X16</th><th scope=col>X17</th><th scope=col>X18</th><th scope=col>X19</th><th scope=col>X20</th><th scope=col>X21</th><th scope=col>X22</th><th scope=col>X23</th><th scope=col>X24</th><th scope=col>X25</th></tr>\n",
       "\t<tr><th scope=col>&lt;chr&gt;</th><th scope=col>&lt;dbl&gt;</th><th scope=col>&lt;dbl&gt;</th><th scope=col>&lt;chr&gt;</th><th scope=col>&lt;dbl&gt;</th><th scope=col>&lt;chr&gt;</th><th scope=col>&lt;chr&gt;</th><th scope=col>&lt;chr&gt;</th><th scope=col>&lt;dbl&gt;</th><th scope=col>&lt;dbl&gt;</th><th scope=col>⋯</th><th scope=col>&lt;lgl&gt;</th><th scope=col>&lt;lgl&gt;</th><th scope=col>&lt;lgl&gt;</th><th scope=col>&lt;lgl&gt;</th><th scope=col>&lt;lgl&gt;</th><th scope=col>&lt;lgl&gt;</th><th scope=col>&lt;lgl&gt;</th><th scope=col>&lt;lgl&gt;</th><th scope=col>&lt;lgl&gt;</th><th scope=col>&lt;lgl&gt;</th></tr>\n",
       "</thead>\n",
       "<tbody>\n",
       "\t<tr><td>chrX</td><td>48782597</td><td>48783497</td><td>chrX:48782597-48783497:.</td><td>2.231263</td><td>.</td><td>chrX:48782597-48783497:.</td><td>chrX</td><td>48786589</td><td>48786590</td><td>⋯</td><td>NA</td><td>NA</td><td>TRUE</td><td>NA</td><td>NA</td><td>NA</td><td>NA</td><td>NA</td><td>TRUE</td><td>NA</td></tr>\n",
       "\t<tr><td>chrX</td><td>48786097</td><td>48786997</td><td>chrX:48786097-48786997:.</td><td>3.708137</td><td>.</td><td>chrX:48786097-48786997:.</td><td>chrX</td><td>48786589</td><td>48786590</td><td>⋯</td><td>NA</td><td>NA</td><td>TRUE</td><td>NA</td><td>NA</td><td>NA</td><td>NA</td><td>NA</td><td>TRUE</td><td>NA</td></tr>\n",
       "\t<tr><td>chrX</td><td>48800197</td><td>48801297</td><td>chrX:48800197-48801297:.</td><td>2.398983</td><td>.</td><td>chrX:48800197-48801297:.</td><td>chrX</td><td>48786589</td><td>48786590</td><td>⋯</td><td>NA</td><td>NA</td><td>TRUE</td><td>NA</td><td>NA</td><td>NA</td><td>NA</td><td>NA</td><td>TRUE</td><td>NA</td></tr>\n",
       "</tbody>\n",
       "</table>\n"
      ],
      "text/latex": [
       "A tibble: 3 × 25\n",
       "\\begin{tabular}{lllllllllllllllllllll}\n",
       " X1 & X2 & X3 & X4 & X5 & X6 & X7 & X8 & X9 & X10 & ⋯ & X16 & X17 & X18 & X19 & X20 & X21 & X22 & X23 & X24 & X25\\\\\n",
       " <chr> & <dbl> & <dbl> & <chr> & <dbl> & <chr> & <chr> & <chr> & <dbl> & <dbl> & ⋯ & <lgl> & <lgl> & <lgl> & <lgl> & <lgl> & <lgl> & <lgl> & <lgl> & <lgl> & <lgl>\\\\\n",
       "\\hline\n",
       "\t chrX & 48782597 & 48783497 & chrX:48782597-48783497:. & 2.231263 & . & chrX:48782597-48783497:. & chrX & 48786589 & 48786590 & ⋯ & NA & NA & TRUE & NA & NA & NA & NA & NA & TRUE & NA\\\\\n",
       "\t chrX & 48786097 & 48786997 & chrX:48786097-48786997:. & 3.708137 & . & chrX:48786097-48786997:. & chrX & 48786589 & 48786590 & ⋯ & NA & NA & TRUE & NA & NA & NA & NA & NA & TRUE & NA\\\\\n",
       "\t chrX & 48800197 & 48801297 & chrX:48800197-48801297:. & 2.398983 & . & chrX:48800197-48801297:. & chrX & 48786589 & 48786590 & ⋯ & NA & NA & TRUE & NA & NA & NA & NA & NA & TRUE & NA\\\\\n",
       "\\end{tabular}\n"
      ],
      "text/markdown": [
       "\n",
       "A tibble: 3 × 25\n",
       "\n",
       "| X1 &lt;chr&gt; | X2 &lt;dbl&gt; | X3 &lt;dbl&gt; | X4 &lt;chr&gt; | X5 &lt;dbl&gt; | X6 &lt;chr&gt; | X7 &lt;chr&gt; | X8 &lt;chr&gt; | X9 &lt;dbl&gt; | X10 &lt;dbl&gt; | ⋯ ⋯ | X16 &lt;lgl&gt; | X17 &lt;lgl&gt; | X18 &lt;lgl&gt; | X19 &lt;lgl&gt; | X20 &lt;lgl&gt; | X21 &lt;lgl&gt; | X22 &lt;lgl&gt; | X23 &lt;lgl&gt; | X24 &lt;lgl&gt; | X25 &lt;lgl&gt; |\n",
       "|---|---|---|---|---|---|---|---|---|---|---|---|---|---|---|---|---|---|---|---|---|\n",
       "| chrX | 48782597 | 48783497 | chrX:48782597-48783497:. | 2.231263 | . | chrX:48782597-48783497:. | chrX | 48786589 | 48786590 | ⋯ | NA | NA | TRUE | NA | NA | NA | NA | NA | TRUE | NA |\n",
       "| chrX | 48786097 | 48786997 | chrX:48786097-48786997:. | 3.708137 | . | chrX:48786097-48786997:. | chrX | 48786589 | 48786590 | ⋯ | NA | NA | TRUE | NA | NA | NA | NA | NA | TRUE | NA |\n",
       "| chrX | 48800197 | 48801297 | chrX:48800197-48801297:. | 2.398983 | . | chrX:48800197-48801297:. | chrX | 48786589 | 48786590 | ⋯ | NA | NA | TRUE | NA | NA | NA | NA | NA | TRUE | NA |\n",
       "\n"
      ],
      "text/plain": [
       "  X1   X2       X3       X4                       X5       X6\n",
       "1 chrX 48782597 48783497 chrX:48782597-48783497:. 2.231263 . \n",
       "2 chrX 48786097 48786997 chrX:48786097-48786997:. 3.708137 . \n",
       "3 chrX 48800197 48801297 chrX:48800197-48801297:. 2.398983 . \n",
       "  X7                       X8   X9       X10      ⋯ X16 X17 X18  X19 X20 X21\n",
       "1 chrX:48782597-48783497:. chrX 48786589 48786590 ⋯ NA  NA  TRUE NA  NA  NA \n",
       "2 chrX:48786097-48786997:. chrX 48786589 48786590 ⋯ NA  NA  TRUE NA  NA  NA \n",
       "3 chrX:48800197-48801297:. chrX 48786589 48786590 ⋯ NA  NA  TRUE NA  NA  NA \n",
       "  X22 X23 X24  X25\n",
       "1 NA  NA  TRUE NA \n",
       "2 NA  NA  TRUE NA \n",
       "3 NA  NA  TRUE NA "
      ]
     },
     "metadata": {},
     "output_type": "display_data"
    }
   ],
   "source": [
    "fdiry = file.path(FD_RES, \"source\", \"CRISPR\", \"casa_peak_calls\")\n",
    "fname = \"GATA1_HCRFF_CASA_elem_quant.bed\"\n",
    "fpath = file.path(fdiry, fname)\n",
    "\n",
    "\n",
    "dat = read_tsv(fpath, col_names = FALSE)\n",
    "\n",
    "dat_gata = dat\n",
    "print(dim(dat))\n",
    "head(dat)"
   ]
  },
  {
   "cell_type": "code",
   "execution_count": null,
   "metadata": {},
   "outputs": [],
   "source": []
  }
 ],
 "metadata": {
  "kernelspec": {
   "display_name": "R",
   "language": "R",
   "name": "ir"
  },
  "language_info": {
   "codemirror_mode": "r",
   "file_extension": ".r",
   "mimetype": "text/x-r-source",
   "name": "R",
   "pygments_lexer": "r",
   "version": "4.2.2"
  }
 },
 "nbformat": 4,
 "nbformat_minor": 4
}
