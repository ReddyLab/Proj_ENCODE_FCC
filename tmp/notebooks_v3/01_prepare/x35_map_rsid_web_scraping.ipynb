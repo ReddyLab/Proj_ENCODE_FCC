{
 "cells": [
  {
   "cell_type": "code",
   "execution_count": 2,
   "metadata": {},
   "outputs": [],
   "source": [
    "import re\n",
    "import csv\n",
    "import time\n",
    "from urllib.request import urlopen"
   ]
  },
  {
   "cell_type": "markdown",
   "metadata": {},
   "source": [
    "## Test web scraping"
   ]
  },
  {
   "cell_type": "code",
   "execution_count": 3,
   "metadata": {},
   "outputs": [],
   "source": [
    "url = \"https://www.ncbi.nlm.nih.gov/snp/rs112554467\"\n",
    "page = urlopen(url)\n",
    "\n",
    "html_bytes  = page.read()\n",
    "html_string = html_bytes.decode(\"utf-8\")"
   ]
  },
  {
   "cell_type": "markdown",
   "metadata": {},
   "source": [
    "## Mapping rsid with regex"
   ]
  },
  {
   "cell_type": "code",
   "execution_count": 6,
   "metadata": {},
   "outputs": [
    {
     "name": "stdout",
     "output_type": "stream",
     "text": [
      "<re.Match object; span=(11357, 11425), match='rs112554467 was merged into a target _blank href >\n",
      "('rs112554467', 'rs2532289')\n"
     ]
    }
   ],
   "source": [
    "pattern = '(rs[0-9]+) was merged into.*(rs[0-9]+)'\n",
    "string  = re.sub('\\W+',' ', html_string)\n",
    "\n",
    "result = re.search(pattern, string)\n",
    "print(result)\n",
    "print(result.groups())"
   ]
  },
  {
   "cell_type": "markdown",
   "metadata": {},
   "source": [
    "## Mapping all remain rsid"
   ]
  },
  {
   "cell_type": "code",
   "execution_count": 8,
   "metadata": {},
   "outputs": [
    {
     "data": {
      "text/plain": [
       "['rs112554467',\n",
       " 'rs113065267',\n",
       " 'rs115014431',\n",
       " 'rs116025516',\n",
       " 'rs116100242',\n",
       " 'rs117188042',\n",
       " 'rs138272216',\n",
       " 'rs139474644',\n",
       " 'rs140535129',\n",
       " 'rs141388053',\n",
       " 'rs144392153',\n",
       " 'rs149812839',\n",
       " 'rs150242986',\n",
       " 'rs150594649']"
      ]
     },
     "execution_count": 8,
     "metadata": {},
     "output_type": "execute_result"
    }
   ],
   "source": [
    "rsids = ['rs112554467','rs113065267','rs115014431','rs116025516','rs116100242','rs117188042','rs138272216','rs139474644','rs140535129','rs141388053','rs144392153','rs149812839','rs150242986','rs150594649']\n",
    "rsids"
   ]
  },
  {
   "cell_type": "code",
   "execution_count": 9,
   "metadata": {},
   "outputs": [
    {
     "name": "stdout",
     "output_type": "stream",
     "text": [
      "('rs112554467', 'rs2532289')\n",
      "======================\n",
      "('rs113065267', 'rs2864087')\n",
      "======================\n",
      "('rs115014431', 'rs6940956')\n",
      "======================\n",
      "('rs116025516', 'rs9260119')\n",
      "======================\n",
      "('rs116100242', 'rs1526126')\n",
      "======================\n",
      "('rs117188042', 'rs62055887')\n",
      "======================\n",
      "('rs138272216', 'rs61797307')\n",
      "======================\n",
      "('rs139474644', 'rs56392172')\n",
      "======================\n",
      "('rs140535129', 'rs62074566')\n",
      "======================\n",
      "('rs141388053', 'rs2458206')\n",
      "======================\n",
      "('rs144392153', 'rs2693353')\n",
      "======================\n",
      "('rs149812839', 'rs2906006')\n",
      "======================\n",
      "('rs150242986', 'rs61891158')\n",
      "======================\n",
      "('rs150594649', 'rs2696610')\n",
      "======================\n"
     ]
    }
   ],
   "source": [
    "pattern = '(rs[0-9]+) was merged into.*(rs[0-9]+)'\n",
    "sources = []\n",
    "targets = []\n",
    "\n",
    "for rsid in rsids:\n",
    "    ###\n",
    "    url  = \"https://www.ncbi.nlm.nih.gov/snp/\" + rsid\n",
    "    page = urlopen(url)\n",
    "    \n",
    "    ###\n",
    "    html_bytes  = page.read()\n",
    "    html_string = html_bytes.decode(\"utf-8\")\n",
    "    \n",
    "    ###\n",
    "    string = re.sub('\\W+',' ', html_string)\n",
    "    result = re.search(pattern, string)\n",
    "    \n",
    "    ###\n",
    "    if result:\n",
    "        ### show progress\n",
    "        print(result.groups())\n",
    "        print(\"======================\")\n",
    "        \n",
    "        ### save\n",
    "        sources.append(result.group(1))\n",
    "        targets.append(result.group(2))\n",
    "    else:\n",
    "        print(\"No Matches\")\n",
    "        \n",
    "    ### avoid too many request in a short time\n",
    "    time.sleep(1)"
   ]
  },
  {
   "cell_type": "code",
   "execution_count": 10,
   "metadata": {},
   "outputs": [
    {
     "name": "stdout",
     "output_type": "stream",
     "text": [
      "True rs112554467 rs112554467 rs2532289\n",
      "True rs113065267 rs113065267 rs2864087\n",
      "True rs115014431 rs115014431 rs6940956\n",
      "True rs116025516 rs116025516 rs9260119\n",
      "True rs116100242 rs116100242 rs1526126\n",
      "True rs117188042 rs117188042 rs62055887\n",
      "True rs138272216 rs138272216 rs61797307\n",
      "True rs139474644 rs139474644 rs56392172\n",
      "True rs140535129 rs140535129 rs62074566\n",
      "True rs141388053 rs141388053 rs2458206\n",
      "True rs144392153 rs144392153 rs2693353\n",
      "True rs149812839 rs149812839 rs2906006\n",
      "True rs150242986 rs150242986 rs61891158\n",
      "True rs150594649 rs150594649 rs2696610\n"
     ]
    }
   ],
   "source": [
    "for rsid1, rsid2, rsid3 in zip(rsids, sources, targets):\n",
    "    print(rsid1 == rsid2, rsid1, rsid2, rsid3)"
   ]
  },
  {
   "cell_type": "code",
   "execution_count": 11,
   "metadata": {},
   "outputs": [
    {
     "name": "stdout",
     "output_type": "stream",
     "text": [
      "rs2532289\n",
      "rs2864087\n",
      "rs6940956\n",
      "rs9260119\n",
      "rs1526126\n",
      "rs62055887\n",
      "rs61797307\n",
      "rs56392172\n",
      "rs62074566\n",
      "rs2458206\n",
      "rs2693353\n",
      "rs2906006\n",
      "rs61891158\n",
      "rs2696610\n"
     ]
    }
   ],
   "source": [
    "for rsid in targets:\n",
    "    print(rsid)"
   ]
  },
  {
   "cell_type": "markdown",
   "metadata": {},
   "source": [
    "## Save results into table"
   ]
  },
  {
   "cell_type": "code",
   "execution_count": 12,
   "metadata": {},
   "outputs": [],
   "source": [
    "import os"
   ]
  },
  {
   "cell_type": "code",
   "execution_count": 13,
   "metadata": {},
   "outputs": [
    {
     "name": "stdout",
     "output_type": "stream",
     "text": [
      "/data/reddylab/Kuei/out/proj_combeffect_encode_fcc/region/control_tmpra/snps_OL13_rsid_mapping.csv\n"
     ]
    }
   ],
   "source": [
    "fdiry = os.path.join(\"/data/reddylab/Kuei/out/proj_combeffect_encode_fcc\", \"region\", \"control_tmpra\")\n",
    "fname = \"snps_OL13_rsid_mapping.csv\"\n",
    "fpath = os.path.join(fdiry, fname)\n",
    "print(fpath)"
   ]
  },
  {
   "cell_type": "code",
   "execution_count": 15,
   "metadata": {},
   "outputs": [
    {
     "name": "stdout",
     "output_type": "stream",
     "text": [
      "rs112554467,rs2532289\n",
      "rs113065267,rs2864087\n",
      "rs115014431,rs6940956\n",
      "rs116025516,rs9260119\n",
      "rs116100242,rs1526126\n",
      "rs117188042,rs62055887\n",
      "rs138272216,rs61797307\n",
      "rs139474644,rs56392172\n",
      "rs140535129,rs62074566\n",
      "rs141388053,rs2458206\n",
      "rs144392153,rs2693353\n",
      "rs149812839,rs2906006\n",
      "rs150242986,rs61891158\n",
      "rs150594649,rs2696610\n"
     ]
    }
   ],
   "source": [
    "for rsid1, rsid2 in zip(sources, targets):\n",
    "    row = \",\".join([rsid1, rsid2])\n",
    "    print(row)"
   ]
  },
  {
   "cell_type": "code",
   "execution_count": 17,
   "metadata": {},
   "outputs": [],
   "source": [
    "# open the file in the write mode\n",
    "with open(fpath, 'w') as file:\n",
    "    \n",
    "    # create the csv writer\n",
    "    writer = csv.writer(file)\n",
    "    \n",
    "    # write header to the csv file\n",
    "    cnames = [\"RSID_OLD\", \"RSID_NEW\"]\n",
    "    writer.writerow(cnames)\n",
    "    \n",
    "    # write to file\n",
    "    for row in zip(sources, targets):\n",
    "    \n",
    "        # write a row to the csv file\n",
    "        writer.writerow(row)"
   ]
  },
  {
   "cell_type": "code",
   "execution_count": null,
   "metadata": {},
   "outputs": [],
   "source": []
  },
  {
   "cell_type": "code",
   "execution_count": null,
   "metadata": {},
   "outputs": [],
   "source": []
  },
  {
   "cell_type": "code",
   "execution_count": 84,
   "metadata": {},
   "outputs": [],
   "source": [
    "text = 'gfgfdAAA1234ZZZuijjk'\n",
    "\n",
    "m = re.search('AAA(.+?)ZZZ', text)\n",
    "if m:\n",
    "    found = m.group(1)"
   ]
  },
  {
   "cell_type": "code",
   "execution_count": 64,
   "metadata": {},
   "outputs": [
    {
     "data": {
      "text/plain": [
       "' DOCTYPE html html lang en head meta charset UTF 8 meta http equiv X UA Compatible content IE edge Mobile properties meta name HandheldFriendly content True meta name MobileOptimized content 320 meta name viewport content width device width initial scale 1 0 Stylesheets link href snp static django_uswds uswds css uswds css rel stylesheet link rel stylesheet href snp static nwds css nwds css link rel stylesheet href snp static nwds css header css link rel stylesheet href snp static nwds css footer css link rel stylesheet href snp static nwds css form css link rel stylesheet href https maxcdn bootstrapcdn com font awesome 4 7 0 css font awesome min css title rs112554467 RefSNP Report dbSNP NCBI title Favicons link rel shortcut icon type image ico href https www ncbi nlm nih gov coreutils nwds img favicons favicon ico link rel icon type image png href https www ncbi nlm nih gov coreutils nwds img favicons favicon png 192x192 as recommended for Android http updates html5rocks com 2014 11 Support for theme color in Chrome 39 for Android link rel icon type image png sizes 192x192 href https www ncbi nlm nih gov coreutils nwds img favicons favicon 192 png 57x57 precomposed for iPhone 3GS pre 2011 iPod Touch and older Android devices link rel apple touch icon precomposed href https www ncbi nlm nih gov coreutils nwds img favicons favicon 57 png 72x72 precomposed for 1st generation iPad iPad 2 and iPad mini link rel apple touch icon precomposed sizes 72x72 href https www ncbi nlm nih gov coreutils nwds img favicons favicon 72 png 114x114 precomposed for iPhone 4 4S 5 and post 2011 iPod Touch link rel apple touch icon precomposed sizes 114x114 href https www ncbi nlm nih gov coreutils nwds img favicons favicon 114 png 144x144 precomposed for iPad 3rd and 4th generation link rel apple touch icon precomposed sizes 144x144 href https www ncbi nlm nih gov coreutils nwds img favicons favicon 144 png script src https www googleoptimize com optimize js id GTM W4SV8JN script link href https maxcdn bootstrapcdn com font awesome 4 6 1 css font awesome min css rel stylesheet type text css link href snp static snp2redesign css uswds style guide css rel stylesheet type text css link href snp static snp2redesign css jquery accessible tabs css rel stylesheet type text css link href snp static snp2redesign dist django snp2 css rel stylesheet type text css link href snp static snp2redesign css home page css rel stylesheet type text css link rel stylesheet type text css href https cdn datatables net 1 10 19 css jquery dataTables min css link href snp static snp2redesign js lib ncbi datatable css ncbi datatable scss rel stylesheet script src https code jquery com jquery 3 5 0 min js script script type text javascript src https www ncbi nlm nih gov projects sviewer js sviewer js script style type text css media print body after content url rs112554467 log print style meta name robots content index follow archive Logging params Pinger defaults meta name ncbi_app content snp2 meta name ncbi_db content snp meta name ncbi_pdid content refsnp_report meta name ncbi_phid content 322C43B94AD290850000403A4A3598F5 1 m_4 Logging params Pinger extras meta name log_category content genomes meta name log_exec_name content dj snp2 meta name log_recordtyp content merged meta name log_displayeduids content 112554467 meta name log_source_db content rs_snp2 meta name log_op content retrieve script type application ld json context http schema org type Dataset name rs112554467 description N A version Build 156 license Open Access distribution type DataDownload encodingFormat JSON contentUrl https api ncbi nlm nih gov variation v0 refsnp 112554467 about type Thing description N A sourceOrganization dbSNP datePublished September 21 2022 script head body a class usa skipnav href main_content Skip to main page content a BEGIN HEADER section class usa banner div class usa accordion header class usa banner header div class usa grid usa banner inner img src https www ncbi nlm nih gov coreutils uswds img favicons favicon 57 png alt U S flag p An official website of the United States government p button class usa accordion button usa banner button aria expanded false aria controls gov banner top span class usa banner button text Here s how you know span button div header div class usa banner content usa grid usa accordion content id gov banner top div class usa banner guidance gov usa width one half img class usa banner icon usa media_block img src https www ncbi nlm nih gov coreutils uswds img icon dot gov svg alt Dot gov div class usa media_block body p strong The gov means it s official strong br Federal government websites often end in gov or mil Before sharing sensitive information make sure you re on a federal government site p div div div class usa banner guidance ssl usa width one half img class usa banner icon usa media_block img src https www ncbi nlm nih gov coreutils uswds img icon https svg alt Https div class usa media_block body p strong The site is secure strong br The strong https strong ensures that you are connecting to the official website and that any information you provide is encrypted and transmitted securely p div div div div section div class usa overlay div header class ncbi header role banner data section Header div class usa grid div class usa width one whole div class ncbi header__logo a href https www ncbi nlm nih gov class logo aria label NCBI Logo data ga action click_image data ga label NIH NLM Logo img src https www ncbi nlm nih gov coreutils nwds img logos AgencyLogo svg alt NIH NLM Logo a div div class ncbi header__account a id account_login href https account ncbi nlm nih gov class usa button header button style display none data ga action open_menu data ga label account_menu Log in a button id account_info class header button style display none aria controls account_popup span class fa fa user aria hidden true span span class username desktop only aria hidden true id uname_short span span class sr only Show account info span button div div class ncbi popup anchor div class ncbi popup account popup id account_popup aria hidden true div class ncbi popup head button class ncbi close button data ga action close_menu data ga label account_menu span class fa fa times span span class usa sr only Close span button h4 Account h4 div div class account user info Logged in as br b span class username id uname_long username span b div div class account links ul class usa unstyled list li a id account_myncbi href myncbi class set base url data ga action click_menu_item data ga label account_myncbi Dashboard a li li a id account_pubs href myncbi collections bibliography class set base url data ga action click_menu_item data ga label account_pubs Publications a li li a id account_settings href account settings class set base url data ga action click_menu_item data ga label account_settings Account settings a li li a id account_logout href account signout class set base url data ga action click_menu_item data ga label account_logout Log out a li ul div div div div div header div role navigation aria label access keys a id nws_header_accesskey_0 href https www ncbi nlm nih gov guide browsers ncbi_accesskeys class usa sr only accesskey 0 tabindex 1 Access keys a a id nws_header_accesskey_1 href https www ncbi nlm nih gov class usa sr only accesskey 1 tabindex 1 NCBI Homepage a a id nws_header_accesskey_2 href myncbi class set base url usa sr only accesskey 2 tabindex 1 MyNCBI Homepage a a id nws_header_accesskey_3 href maincontent class usa sr only accesskey 3 tabindex 1 Main Content a a id nws_header_accesskey_4 href class usa sr only accesskey 4 tabindex 1 Main Navigation a div section data section Alerts div class ncbi alerts placeholder div section END HEADER div id main_content class ncbi base page container div class sub header div class usa grid div class usa width one half h1 a data section Header data ga action Click on data ga label dbSNP Short Genetic Variations ref section Header action Click on label dbSNP Short Genetic Variations href snp dbSNP a span class uswds gray tagline Short Genetic Variations span h1 div div class usa width one half form name submitSearchTerm class usa search action snp method get div role search label class usa sr only for search field Search for Ref SNP by id label input id search field type search name term placeholder Search for terms required required title Examples rs268 BRCA1 button type submit span class usa search submit text Search span button span id string msg Examples rs268 BRCA1 and a href snp docs entrez_help more a span a href snp advanced class advanced search Advanced search a div form div div div main class usa grid div class usa grid full div class usa row clearfix div class usa alert usa alert info div class usa alert body h3 class usa alert heading Welcome to the Reference SNP rs Report h3 p class usa alert text All alleles are reported in the a href https www ncbi nlm nih gov core assets snp docs RefSNP_orientation_updates pdf target _blank data ga action Click for forward orientation data ga category Info panel data ga label Forward orientation Forward orientation a Click on the a href variant_details id variantlink data ga action Click for variant details data ga category Info panel data ga label Forward orientation Variant Details tab a for details on Genomic Placement Gene and Amino Acid changes HGVS names are in the a href hgvs_tab id hgvslink data ga action Click for aliases tab data ga category Info panel data ga label HGVS tab HGVS tab a p div div div class usa width one half h3 Reference SNP rs Report h3 div div class usa width one half ul class utilities usa unstyled list align right li title Download in API JSON format a href https api ncbi nlm nih gov variation v0 refsnp 112554467 data section Main data ga action Click on data ga label main_download_btn ref section Main action Click on label main_download_btn i class fa fa download aria hidden true i Download a li li a class btn share fbshare aria haspopup true target _blank href https www facebook com sharer sharer php u https 3A 2F 2Fwww ncbi nlm nih gov 2Fsnp 2Frs112554467 img src snp static snp2redesign images fb png alt Share on Facebook class svg a li li a class btn share twittershare aria haspopup true target _blank href https twitter com intent tweet url https 3A 2F 2Fwww ncbi nlm nih gov 2Fsnp 2Frs112554467 img src snp static snp2redesign images twitter png alt Share on Twitter class svg a li li a class btn share gplusshare aria haspopup true target _blank href https plus google com share url https 3A 2F 2Fwww ncbi nlm nih gov 2Fsnp 2Frs112554467 img src snp static snp2redesign images gplus png alt Share on Google class svg a li li a data width 640px href main_tp data section Main data ga action Click on Tooltip data ga label main_tp class fa fa question circle ncbiPopper id mainhelp_tooltip ref section Main action Click on Tooltip label main_tp span class usa sr only Help span a li ul div div div class usa grid full clearfix div class usa width two thirds div class blue box h2 id refsnp_id rs112554467 h2 div div div class accession usa width one third p Current Build span 156 span p p Released span September 21 2022 span p div div div class summary box usa grid full div dt Organism dt dd class species_name Homo sapiens dd div div dt Status dt dd rs112554467 was merged into a target _blank href rs2532289 rs2532289 a on May 3 2012 Build 137 dd div div main div script type text javascript src https www ncbi nlm nih gov core pinger pinger js script BEGIN FOOTER footer section class icon section div id icon section header class icon section_header Follow NCBI div div class grid container container div class icon section_container a class footer icon id footer_twitter href https twitter com ncbi aria label Twitter svg data name Layer 1 xmlns http www w3 org 2000 svg viewBox 0 0 300 300 defs style cls 11 fill 737373 style defs title Twitter title path class cls 11 d M250 11 105 48c 7 3 14 13 3 25 19 27 14 8 12 4 86 8 49 8 27 11 43 17 46a78 8 78 8 0 0 1 25 9 55 39 35 39 35 0 0 0 67 35 85 111 6 111 6 0 0 1 81 41 08A39 37 39 37 0 0 0 81 47 145a39 08 39 08 0 0 1 17 8 4 92c0 17 0 33 0 5a39 32 39 32 0 0 0 31 53 38 54 39 26 39 26 0 0 1 17 75 68 39 37 39 37 0 0 0 36 72 27 3A79 07 79 07 0 0 1 56 223 34 111 31 111 31 0 0 0 116 22 241c72 3 0 111 83 59 9 111 83 111 84 0 1 71 0 3 4 1 5 09C235 62 118 54 244 84 113 37 250 11 105 48Z path svg a a class footer icon id footer_facebook href https www facebook com ncbi nlm aria label Facebook svg data name Layer 1 xmlns http www w3 org 2000 svg viewBox 0 0 300 300 title Facebook title path class cls 11 d M210 5 115 12H171 74V97 82c0 8 14 5 39 10 9 19 10h27 14V52l 39 32 12c 35 66 0 42 42 26 68 42 42 43 77v19 48H99 09v36 32h27 24v109h45 41v 109h35Z path svg a a class footer icon id footer_linkedin href https www linkedin com company ncbinlm aria label LinkedIn svg data name Layer 1 xmlns http www w3 org 2000 svg viewBox 0 0 300 300 title LinkedIn title path class cls 11 d M101 64 243 37H57 79v 114h43 85Zm 22 131 54h 26c 13 25 0 21 82 10 36 21 82 21 76 0 11 65 8 84 21 15 22 33 21 15S101 7 78 72 102 90 38C102 101 77 93 4 111 83 79 63 111 83Zm100 93 52 61A17 54 17 54 0 0 0 163 182v61 39H119 18s 51 105 23 0 114H163v13a54 33 54 33 0 0 1 34 54 12 66c26 0 44 39 18 8 44 39 55 29v58 35H198 1V182A17 54 17 54 0 0 0 180 56 164 44Z path svg a a class footer icon id footer_github href https github com ncbi aria label GitHub svg data name Layer 1 xmlns http www w3 org 2000 svg viewBox 0 0 300 300 defs style cls 11 cls 12 fill 737373 cls 11 fill rule evenodd style defs title GitHub title path class cls 11 d M151 36 47 28a105 76 105 76 0 0 0 33 43 206 1c5 28 1 7 22 2 3 7 22 5 09 0 2 52 09 10 85 14 19 69 29 42 6 4 35 63 12 48 35 63 12 48 4 81 12 22 11 74 15 47 11 74 15 47 9 59 6 56 73 6 43 73 6 43 10 61 75 16 21 10 9 16 21 10 9 9 43 16 17 24 73 11 49 30 77 8 79 1 6 83 3 69 11 5 6 71 14 14C108 57 197 1 83 88 188 83 88 147 51a40 92 40 92 0 0 1 10 9 28 39c 1 1 2 66 4 72 13 42 1 28 0 0 8 88 2 84 29 09 10 84a100 26 100 26 0 0 1 53 0C198 88 3 206 9 91 14 206 9 91 14c5 76 14 56 2 14 25 32 1 28a40 87 40 87 0 0 1 10 89 28 39c0 40 62 24 74 49 56 48 29 52 18 3 79 3 28 7 17 9 71 7 17 19 58 0 14 15 12 25 54 12 29 0 2 82 1 9 6 11 7 26 5 07A105 76 105 76 0 0 0 151 36 47 28Z path path class cls 12 d M85 66 199 12c 23 52 1 06 68 1 81 32s 1 2 1 06 95 1 59 1 06 69 1 82 33 1 21 1 07 94 1 6Zm 1 3 1 path path class cls 12 d M90 203 89c 51 47 1 49 25 2 16 49a1 61 1 61 0 0 1 31 2 19c 52 47 1 47 25 2 17 49s 82 1 72 3 2 19Zm 1 1 08 path path class cls 12 d M94 12 210c 65 46 1 71 0 2 37 91s 64 2 07 0 2 52 1 7 0 2 36 89 65 2 08 0 2 54Zm0 0 path path class cls 12 d M99 83 215 87c 58 64 1 82 47 2 72 41s 1 18 2 06 6 2 7 1 83 46 2 74 41 1 2 2 07 58 2 7Zm0 0 path path class cls 12 d M107 71 219 29c 26 82 1 45 1 2 2 64 85s 2 1 34 1 74 2 17 1 44 1 23 2 65 85 2 1 32 1 73 2 17Zm0 0 path path class cls 12 d M116 36 219 92c0 87 1 1 59 2 24 1 61s 2 29 68 2 3 1 54 1 1 59 2 26 1 61 2 28 67 2 28 1 54Zm0 0 path path class cls 12 d M124 42 218 55c 15 85 73 1 72 2 1 95s 2 37 3 2 52 1 14 73 1 75 2 2 2 37 29 2 53 1 16Zm0 0 path svg a a class footer icon id footer_blog href https ncbiinsights ncbi nlm nih gov aria label Blog svg id Layer_1 data name Layer 1 xmlns http www w3 org 2000 svg viewBox 0 0 40 40 defs style cls 1 fill 737373 style defs path class cls 1 d M14 30a4 4 0 1 1 4 4 4 4 0 0 1 4 4Zm11 3A19 19 0 0 0 7 05 15a1 1 0 0 0 1 1v3a1 1 0 0 0 93 1A14 14 0 0 1 20 33 07 1 1 0 0 0 21 34h3a1 1 0 0 0 1 1Zm9 0A28 28 0 0 0 7 6 1 1 0 0 0 6 7v3a1 1 0 0 0 1 1A23 23 0 0 1 29 33a1 1 0 0 0 1 1h3A1 1 0 0 0 34 33Z svg a div div section section class container fluid bg primary div class container pt 5 div class row mt 3 div class col lg 3 col 12 p a class text white href https www nlm nih gov socialmedia index html Connect with NLM a p ul class list inline social_media li class list inline item a href https twitter com NLM_NIH aria label Twitter target _blank rel noopener noreferrer svg version 1 1 xmlns http www w3 org 2000 svg xmlns xlink http www w3 org 1999 xlink x 0px y 0px viewBox 0 0 249 249 style enable background new 0 0 249 249 xml space preserve style type text css st20 fill FFFFFF st30 fill none stroke FFFFFF stroke width 8 stroke miterlimit 10 style title SM Twitter title g g g path class st20 d M192 9 88 1c 5 2 2 9 2 2 3 13 6 0 1c5 7 3 4 6 5 8 8 1 12 3c 5 4 3 2 11 4 5 5 17 6 6 7 c 10 5 11 2 28 1 11 7 39 2 1 2c 7 2 6 8 10 2 16 9 8 26 5c 22 3 1 1 43 1 11 7 57 2 29C58 91 6 61 8 107 9 74 116 c 4 4 0 1 8 7 1 3 12 6 3 4c0 0 1 0 0 2 0 0 4c0 13 2 9 3 24 6 22 3 27 2c 4 1 1 1 8 4 1 3 12 5 0 5c3 6 11 3 14 19 25 9 19 3 c 11 6 9 1 26 4 13 2 41 1 11 5c12 7 8 1 27 4 12 5 42 5 12 5c51 0 78 9 42 2 78 9 78 9c0 1 2 0 2 4 0 1 3 6 C182 7 97 4 189 2 93 7 192 9 88 1z path g g circle class st30 cx 124 4 cy 128 8 r 108 2 circle g svg a li li class list inline item a href https www facebook com nationallibraryofmedicine aria label Facebook rel noopener noreferrer target _blank svg version 1 1 xmlns http www w3 org 2000 svg xmlns xlink http www w3 org 1999 xlink x 0px y 0px viewBox 0 0 249 249 style enable background new 0 0 249 249 xml space preserve style type text css st10 fill FFFFFF st110 fill none stroke FFFFFF stroke width 8 stroke miterlimit 10 style title SM Facebook title g g path class st10 d M159 99 1h 24V88 4c0 5 3 3 6 2 5 7 6 2h16 8V60l 24 4 0 1c 22 1 0 26 2 16 5 26 2 27 1v12 1H90v22 5h16 9 v67 5H135v 67 5h21 7L159 99 1z path g g circle class st110 cx 123 6 cy 123 2 r 108 2 circle svg a li li class list inline item a href https www youtube com user NLMNIH aria label Youtube target _blank rel noopener noreferrer svg version 1 1 xmlns http www w3 org 2000 svg xmlns xlink http www w3 org 1999 xlink x 0px y 0px viewBox 0 0 249 249 style enable background new 0 0 249 249 xml space preserve title SM Youtube title style type text css st4 fill none stroke FFFFFF stroke width 8 stroke miterlimit 10 st5 fill FFFFFF style circle class st4 cx 124 2 cy 123 4 r 108 2 circle g transform translate 0 952 36218 path class st5 d M88 4 1037 4c 10 4 0 18 7 8 3 18 7 18 7v40 1c0 10 4 8 3 18 7 18 7 18 7h72 1c10 4 0 18 7 8 3 18 7 18 7 v 40 1c0 10 4 8 3 18 7 18 7 18 7H88 4z M115 2 1058 8l29 4 17 4l 29 4 17 4V1058 8z path g svg a li ul div div class col lg 3 col 12 p class address_footer text white National Library of Medicine br a href https www google com maps place 8600 Rockville Pike Bethesda MD 20894 38 9959508 77 101021 17z data 3m1 4b1 4m5 3m4 1s0x89b7c95e25765ddb 0x19156f88b27635b8 8m2 3d38 9959508 4d 77 0988323 class text white target _blank rel noopener noreferrer 8600 Rockville Pike br Bethesda MD 20894 a p div div class col lg 3 col 12 centered lg p a href https www nlm nih gov web_policies html class text white Web Policies a br a href https www nih gov institutes nih nih office director office communications public liaison freedom information act office class text white FOIA a br a href https www hhs gov vulnerability disclosure policy index html class text white id vdp HHS Vulnerability Disclosure a p div div class col lg 3 col 12 centered lg p a class supportLink text white href https support nlm nih gov Help a br a href https www nlm nih gov accessibility html class text white Accessibility a br a href https www nlm nih gov careers careers html class text white Careers a p div div div class row div class col lg 12 centered lg nav class bottom links ul class mt 3 li a class text white href www nlm nih gov NLM a li li a class text white href https www nih gov NIH a li li a class text white href https www hhs gov HHS a li li a class text white href https www usa gov USA gov a li ul nav div div div section footer END FOOTER javascript to inject NWDS meta tags Note value of nwds_version is updated by npm version command script type text javascript var nwds_version 1 2 0 var meta_nwds_ver document createElement meta meta_nwds_ver name ncbi_nwds_ver meta_nwds_ver content nwds_version document getElementsByTagName head 0 appendChild meta_nwds_ver var meta_nwds document createElement meta meta_nwds name ncbi_nwds meta_nwds content yes document getElementsByTagName head 0 appendChild meta_nwds var alertsUrl core alerts alerts js if typeof ncbiBaseUrl undefined alertsUrl ncbiBaseUrl alertsUrl script script type text javascript src snp static snp2redesign js lib jquery jquery min js script script src node_modules jquery dist jquery js script script type text javascript src snp static snp2redesign js seq_viewer js script script type application javascript function document ready function var tabLItemsArrowSpans li js tablist__item a span li js tablist__item click function tabLItemsArrowSpans removeClass js tablist__item has focus this children children addClass js tablist__item has focus jQuery script script type application javascript src snp static snp2redesign js lib jquery accessible tabs js script script type text javascript src snp static snp2redesign js lib ncbi datatable ncbi datatable js script script type text javascript src snp static snp2redesign js custom_functions js script script src snp static django_uswds uswds js uswds js script script src snp static snp2redesign dist app bundle js type text javascript script script src snp static nwds js nwds js type text javascript script script src snp static nwds js ncbipopup js type text javascript script script src snp static nwds js header js type text javascript script script src snp static nwds js ncbiclearbutton js type text javascript script script src snp static nwds js override uswds js type text javascript script div Software version is 2 0 1 post704 a725bbd div body html '"
      ]
     },
     "execution_count": 64,
     "metadata": {},
     "output_type": "execute_result"
    }
   ],
   "source": [
    "string"
   ]
  },
  {
   "cell_type": "code",
   "execution_count": null,
   "metadata": {},
   "outputs": [],
   "source": []
  }
 ],
 "metadata": {
  "kernelspec": {
   "display_name": "Python 3",
   "language": "python",
   "name": "python3"
  },
  "language_info": {
   "codemirror_mode": {
    "name": "ipython",
    "version": 3
   },
   "file_extension": ".py",
   "mimetype": "text/x-python",
   "name": "python",
   "nbconvert_exporter": "python",
   "pygments_lexer": "ipython3",
   "version": "3.7.6"
  }
 },
 "nbformat": 4,
 "nbformat_minor": 4
}
