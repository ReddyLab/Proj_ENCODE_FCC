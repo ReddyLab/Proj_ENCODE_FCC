{
 "cells": [
  {
   "cell_type": "markdown",
   "metadata": {},
   "source": [
    "generate file\n",
    "* snps_OL13_rsid_list_unmapped.txt"
   ]
  },
  {
   "cell_type": "code",
   "execution_count": 15,
   "metadata": {},
   "outputs": [
    {
     "name": "stdout",
     "output_type": "stream",
     "text": [
      "You are in Singularity: singularity_proj_combeffect \n",
      "BASE DIRECTORY:     /data/reddylab/Kuei \n",
      "WORK DIRECTORY:     /data/reddylab/Kuei/out \n",
      "CODE DIRECTORY:     /data/reddylab/Kuei/code \n",
      "PATH OF SOURCE:     /data/reddylab/Kuei/source \n",
      "PATH OF EXECUTABLE: /data/reddylab/Kuei/bin \n",
      "PATH OF ANNOTATION: /data/reddylab/Kuei/annotation \n",
      "PATH OF PROJECT:    /data/reddylab/Kuei/code/Proj_CombEffect_ENCODE_FCC \n",
      "PATH OF RESULTS:    /data/reddylab/Kuei/out/proj_combeffect_encode_fcc \n"
     ]
    }
   ],
   "source": [
    "suppressMessages(suppressWarnings(source(\"../config/config_sing.R\")))\n",
    "show_env()"
   ]
  },
  {
   "cell_type": "markdown",
   "metadata": {},
   "source": [
    "## Import data (SNPS)"
   ]
  },
  {
   "cell_type": "code",
   "execution_count": 16,
   "metadata": {},
   "outputs": [
    {
     "name": "stderr",
     "output_type": "stream",
     "text": [
      "\u001b[1mRows: \u001b[22m\u001b[34m198\u001b[39m \u001b[1mColumns: \u001b[22m\u001b[34m3\u001b[39m\n",
      "\u001b[36m──\u001b[39m \u001b[1mColumn specification\u001b[22m \u001b[36m───────────────────────────────────────────────────────────\u001b[39m\n",
      "\u001b[1mDelimiter:\u001b[22m \"\\t\"\n",
      "\u001b[31mchr\u001b[39m (3): Dataset, Project, SNP\n",
      "\n",
      "\u001b[36mℹ\u001b[39m Use `spec()` to retrieve the full column specification for this data.\n",
      "\u001b[36mℹ\u001b[39m Specify the column types or set `show_col_types = FALSE` to quiet this message.\n"
     ]
    },
    {
     "name": "stdout",
     "output_type": "stream",
     "text": [
      "[1] 198   3\n"
     ]
    },
    {
     "data": {
      "text/html": [
       "<table class=\"dataframe\">\n",
       "<caption>A tibble: 6 × 3</caption>\n",
       "<thead>\n",
       "\t<tr><th scope=col>Dataset</th><th scope=col>Project</th><th scope=col>SNP</th></tr>\n",
       "\t<tr><th scope=col>&lt;chr&gt;</th><th scope=col>&lt;chr&gt;</th><th scope=col>&lt;chr&gt;</th></tr>\n",
       "</thead>\n",
       "<tbody>\n",
       "\t<tr><td>OL13</td><td>negCtrl  </td><td>rs10035423</td></tr>\n",
       "\t<tr><td>OL13</td><td>emVarCtrl</td><td>rs1008917 </td></tr>\n",
       "\t<tr><td>OL13</td><td>negCtrl  </td><td>rs10146602</td></tr>\n",
       "\t<tr><td>OL13</td><td>expCtrl  </td><td>rs10146759</td></tr>\n",
       "\t<tr><td>OL13</td><td>emVarCtrl</td><td>rs1016110 </td></tr>\n",
       "\t<tr><td>OL13</td><td>negCtrl  </td><td>rs10201513</td></tr>\n",
       "</tbody>\n",
       "</table>\n"
      ],
      "text/latex": [
       "A tibble: 6 × 3\n",
       "\\begin{tabular}{lll}\n",
       " Dataset & Project & SNP\\\\\n",
       " <chr> & <chr> & <chr>\\\\\n",
       "\\hline\n",
       "\t OL13 & negCtrl   & rs10035423\\\\\n",
       "\t OL13 & emVarCtrl & rs1008917 \\\\\n",
       "\t OL13 & negCtrl   & rs10146602\\\\\n",
       "\t OL13 & expCtrl   & rs10146759\\\\\n",
       "\t OL13 & emVarCtrl & rs1016110 \\\\\n",
       "\t OL13 & negCtrl   & rs10201513\\\\\n",
       "\\end{tabular}\n"
      ],
      "text/markdown": [
       "\n",
       "A tibble: 6 × 3\n",
       "\n",
       "| Dataset &lt;chr&gt; | Project &lt;chr&gt; | SNP &lt;chr&gt; |\n",
       "|---|---|---|\n",
       "| OL13 | negCtrl   | rs10035423 |\n",
       "| OL13 | emVarCtrl | rs1008917  |\n",
       "| OL13 | negCtrl   | rs10146602 |\n",
       "| OL13 | expCtrl   | rs10146759 |\n",
       "| OL13 | emVarCtrl | rs1016110  |\n",
       "| OL13 | negCtrl   | rs10201513 |\n",
       "\n"
      ],
      "text/plain": [
       "  Dataset Project   SNP       \n",
       "1 OL13    negCtrl   rs10035423\n",
       "2 OL13    emVarCtrl rs1008917 \n",
       "3 OL13    negCtrl   rs10146602\n",
       "4 OL13    expCtrl   rs10146759\n",
       "5 OL13    emVarCtrl rs1016110 \n",
       "6 OL13    negCtrl   rs10201513"
      ]
     },
     "metadata": {},
     "output_type": "display_data"
    }
   ],
   "source": [
    "###\n",
    "fdiry = file.path(FD_RES, \"region\", \"control_tmpra\")\n",
    "fname = \"snps_OL13_rsid_info.tsv\"\n",
    "fpath = file.path(fdiry, fname)\n",
    "\n",
    "###\n",
    "dat = read_tsv(fpath)\n",
    "\n",
    "###\n",
    "dat_snps_OL13_rsid_info = dat\n",
    "print(dim(dat))\n",
    "head(dat)"
   ]
  },
  {
   "cell_type": "markdown",
   "metadata": {},
   "source": [
    "## Import query results"
   ]
  },
  {
   "cell_type": "code",
   "execution_count": 17,
   "metadata": {},
   "outputs": [
    {
     "name": "stderr",
     "output_type": "stream",
     "text": [
      "Warning message:\n",
      "“\u001b[1m\u001b[22mOne or more parsing issues, call `problems()` on your data frame for details,\n",
      "e.g.:\n",
      "  dat <- vroom(...)\n",
      "  problems(dat)”\n",
      "\u001b[1mRows: \u001b[22m\u001b[34m274\u001b[39m \u001b[1mColumns: \u001b[22m\u001b[34m8\u001b[39m\n",
      "\u001b[36m──\u001b[39m \u001b[1mColumn specification\u001b[22m \u001b[36m───────────────────────────────────────────────────────────\u001b[39m\n",
      "\u001b[1mDelimiter:\u001b[22m \"\\t\"\n",
      "\u001b[31mchr\u001b[39m (7): #CHROM, ID, REF, ALT, QUAL, FILTER, INFO\n",
      "\u001b[32mdbl\u001b[39m (1): POS\n",
      "\n",
      "\u001b[36mℹ\u001b[39m Use `spec()` to retrieve the full column specification for this data.\n",
      "\u001b[36mℹ\u001b[39m Specify the column types or set `show_col_types = FALSE` to quiet this message.\n"
     ]
    },
    {
     "name": "stdout",
     "output_type": "stream",
     "text": [
      "[1] 274   8\n"
     ]
    },
    {
     "data": {
      "text/html": [
       "<table class=\"dataframe\">\n",
       "<caption>A tibble: 6 × 8</caption>\n",
       "<thead>\n",
       "\t<tr><th scope=col>#CHROM</th><th scope=col>POS</th><th scope=col>ID</th><th scope=col>REF</th><th scope=col>ALT</th><th scope=col>QUAL</th><th scope=col>FILTER</th><th scope=col>INFO</th></tr>\n",
       "\t<tr><th scope=col>&lt;chr&gt;</th><th scope=col>&lt;dbl&gt;</th><th scope=col>&lt;chr&gt;</th><th scope=col>&lt;chr&gt;</th><th scope=col>&lt;chr&gt;</th><th scope=col>&lt;chr&gt;</th><th scope=col>&lt;chr&gt;</th><th scope=col>&lt;chr&gt;</th></tr>\n",
       "</thead>\n",
       "<tbody>\n",
       "\t<tr><td>1</td><td>10391742</td><td>rs4846217  </td><td>C   </td><td>T   </td><td>.</td><td>.</td><td>AF=0.1127076;AC=2973;AN=26378;DS=GS000010327|GS000010426|GS000010429|GS000010430|GS000010432|GS000010434|GS000011737|GS000011805|GS000011810|GS000011811|GS000011816|GS000014558|GS000014560|GS000014561|GS000014566|GS000015154|GS000015172|GS000015177|GS000015181|GS000015185|GS000015187|GS000015221|GS000015225|GS000015228|GS000015231|GS000015232|GS000015233|GS000015891|GS000015894|GS000016016|GS000016027|GS000016336|GS000016337|GS000016339|GS000016375|GS000016441|GS000016446|GS000016448|HGDP00521|HGDP00665|HGDP01284|ISB_founders-Nge3|Inova_CGI_founders-Nge3|Inova_Illumina_founders-Nge3|Malay|NA12889|NA21732|SS6004471|SSIP|UK10K|Wellderly|gonl|phase3-ACB|phase3-ASW|phase3-BEB|phase3-CDX|phase3-CEU|phase3-CHB|phase3-CLM|phase3-ESN|phase3-FIN|phase3-GBR|phase3-GIH|phase3-GWD|phase3-IBS|phase3-ITU|phase3-JPT|phase3-KHV|phase3-LWK|phase3-MSL|phase3-MXL|phase3-PEL|phase3-PJL|phase3-PUR|phase3-STU|phase3-TSI|phase3-YRI                                                                                                                   </td></tr>\n",
       "\t<tr><td>1</td><td>28364347</td><td>rs4908346  </td><td>C   </td><td>T   </td><td>.</td><td>.</td><td>AF=0.1932671;AC=5098;AN=26378;DS=DNK02|GMIAK4|HGDP00521|HGDP00665|HGDP00927|HGDP0456|Inova_Illumina_founders-Nge3|Malay|SAIF|SS6004467|SS6004470|SS6004471|SS6004473|SS6004474|SS6004475|SSIP|Saqqaq|UK10K|gonl|phase3-ACB|phase3-ASW|phase3-BEB|phase3-CDX|phase3-CEU|phase3-CHB|phase3-CHS|phase3-CLM|phase3-ESN|phase3-FIN|phase3-GBR|phase3-GIH|phase3-GWD|phase3-IBS|phase3-ITU|phase3-JPT|phase3-KHV|phase3-LWK|phase3-MSL|phase3-MXL|phase3-PEL|phase3-PJL|phase3-PUR|phase3-STU|phase3-TSI|phase3-YRI                                                                                                                                                                                                                                                                                                                                                                                                                                                                                                                                                                </td></tr>\n",
       "\t<tr><td>1</td><td>28364347</td><td>rs796493340</td><td>CA  </td><td>TG  </td><td>.</td><td>.</td><td>AF=0.0581166;AC=1533;AN=26378;END=28364348;DS=GS000009920|GS000009928|GS000009930|GS000009931|GS000009932|GS000010320|GS000010323|GS000010327|GS000010427|GS000010428|GS000010432|GS000010435|GS000010437|GS000010494|GS000011737|GS000011739|GS000011740|GS000011741|GS000011804|GS000011805|GS000011807|GS000011809|GS000011812|GS000011814|GS000011815|GS000011816|GS000012712|GS000014558|GS000014559|GS000014560|GS000014561|GS000014562|GS000014564|GS000014565|GS000014570|GS000015152|GS000015172|GS000015174|GS000015176|GS000015177|GS000015178|GS000015180|GS000015188|GS000015189|GS000015191|GS000015225|GS000015227|GS000015229|GS000015231|GS000015708|GS000015885|GS000015886|GS000015887|GS000015888|GS000015889|GS000015890|GS000015891|GS000015893|GS000015895|GS000016015|GS000016016|GS000016028|GS000016030|GS000016333|GS000016334|GS000016335|GS000016337|GS000016339|GS000016370|GS000016372|GS000016374|GS000016441|GS000016442|GS000016446|GS000016449|ISB_founders-Nge3|Inova_CGI_founders-Nge3|NA12890|NA12892|NA21732|NA21737|NA21767|Wellderly</td></tr>\n",
       "\t<tr><td>1</td><td>28364347</td><td>.          </td><td>CAAA</td><td>TGAA</td><td>.</td><td>.</td><td>AF=0.0001896;AC=5;AN=26378;END=28364350;DS=GS000012713|ISB_founders-Nge3                                                                                                                                                                                                                                                                                                                                                                                                                                                                                                                                                                                                                                                                                                                                                                                                                                                                                                                                                                                                     </td></tr>\n",
       "\t<tr><td>1</td><td>36523011</td><td>rs12060242 </td><td>G   </td><td>C   </td><td>.</td><td>.</td><td>AF=0.1185837;AC=3128;AN=26378;DS=GS000009928|GS000009932|GS000010320|GS000010323|GS000010327|GS000010328|GS000010426|GS000010430|GS000010431|GS000010432|GS000010438|GS000011738|GS000011740|GS000011806|GS000011809|GS000011811|GS000011812|GS000011814|GS000014563|GS000015186|GS000015191|GS000015225|GS000015227|GS000015232|GS000015710|GS000015885|GS000015888|GS000015890|GS000015891|GS000015892|GS000016030|GS000016032|GS000016334|GS000016335|GS000016337|GS000016339|GS000016372|GS000016374|GS000016441|GS000016443|GS000016445|GS000016448|GS000016450|HGDP00542|HGDP01307|IRG0110|ISB_founders-Nge3|Inova_CGI_founders-Nge3|Inova_Illumina_founders-Nge3|J. Craig Venter|John West|Malay|NA12891|NA7022,18|SAIF|SS6004468|SSIP|UK10K|Wellderly|gonl|phase3-ACB|phase3-ASW|phase3-BEB|phase3-CDX|phase3-CEU|phase3-CHB|phase3-CHS|phase3-CLM|phase3-ESN|phase3-FIN|phase3-GBR|phase3-GIH|phase3-GWD|phase3-IBS|phase3-ITU|phase3-KHV|phase3-LWK|phase3-MXL|phase3-PEL|phase3-PJL|phase3-PUR|phase3-STU|phase3-TSI                                              </td></tr>\n",
       "\t<tr><td>1</td><td>52838378</td><td>rs115675756</td><td>G   </td><td>A   </td><td>.</td><td>.</td><td>AF=0.0070892;AC=187;AN=26378;DS=Inova_CGI_founders-Nge3|Inova_Illumina_founders-Nge3|NA21732|SS6004475|Wellderly|phase3-ACB|phase3-ASW|phase3-ESN|phase3-GWD|phase3-LWK|phase3-MSL|phase3-PJL|phase3-PUR|phase3-YRI                                                                                                                                                                                                                                                                                                                                                                                                                                                                                                                                                                                                                                                                                                                                                                                                                                                          </td></tr>\n",
       "</tbody>\n",
       "</table>\n"
      ],
      "text/latex": [
       "A tibble: 6 × 8\n",
       "\\begin{tabular}{llllllll}\n",
       " \\#CHROM & POS & ID & REF & ALT & QUAL & FILTER & INFO\\\\\n",
       " <chr> & <dbl> & <chr> & <chr> & <chr> & <chr> & <chr> & <chr>\\\\\n",
       "\\hline\n",
       "\t 1 & 10391742 & rs4846217   & C    & T    & . & . & AF=0.1127076;AC=2973;AN=26378;DS=GS000010327\\textbar{}GS000010426\\textbar{}GS000010429\\textbar{}GS000010430\\textbar{}GS000010432\\textbar{}GS000010434\\textbar{}GS000011737\\textbar{}GS000011805\\textbar{}GS000011810\\textbar{}GS000011811\\textbar{}GS000011816\\textbar{}GS000014558\\textbar{}GS000014560\\textbar{}GS000014561\\textbar{}GS000014566\\textbar{}GS000015154\\textbar{}GS000015172\\textbar{}GS000015177\\textbar{}GS000015181\\textbar{}GS000015185\\textbar{}GS000015187\\textbar{}GS000015221\\textbar{}GS000015225\\textbar{}GS000015228\\textbar{}GS000015231\\textbar{}GS000015232\\textbar{}GS000015233\\textbar{}GS000015891\\textbar{}GS000015894\\textbar{}GS000016016\\textbar{}GS000016027\\textbar{}GS000016336\\textbar{}GS000016337\\textbar{}GS000016339\\textbar{}GS000016375\\textbar{}GS000016441\\textbar{}GS000016446\\textbar{}GS000016448\\textbar{}HGDP00521\\textbar{}HGDP00665\\textbar{}HGDP01284\\textbar{}ISB\\_founders-Nge3\\textbar{}Inova\\_CGI\\_founders-Nge3\\textbar{}Inova\\_Illumina\\_founders-Nge3\\textbar{}Malay\\textbar{}NA12889\\textbar{}NA21732\\textbar{}SS6004471\\textbar{}SSIP\\textbar{}UK10K\\textbar{}Wellderly\\textbar{}gonl\\textbar{}phase3-ACB\\textbar{}phase3-ASW\\textbar{}phase3-BEB\\textbar{}phase3-CDX\\textbar{}phase3-CEU\\textbar{}phase3-CHB\\textbar{}phase3-CLM\\textbar{}phase3-ESN\\textbar{}phase3-FIN\\textbar{}phase3-GBR\\textbar{}phase3-GIH\\textbar{}phase3-GWD\\textbar{}phase3-IBS\\textbar{}phase3-ITU\\textbar{}phase3-JPT\\textbar{}phase3-KHV\\textbar{}phase3-LWK\\textbar{}phase3-MSL\\textbar{}phase3-MXL\\textbar{}phase3-PEL\\textbar{}phase3-PJL\\textbar{}phase3-PUR\\textbar{}phase3-STU\\textbar{}phase3-TSI\\textbar{}phase3-YRI                                                                                                                   \\\\\n",
       "\t 1 & 28364347 & rs4908346   & C    & T    & . & . & AF=0.1932671;AC=5098;AN=26378;DS=DNK02\\textbar{}GMIAK4\\textbar{}HGDP00521\\textbar{}HGDP00665\\textbar{}HGDP00927\\textbar{}HGDP0456\\textbar{}Inova\\_Illumina\\_founders-Nge3\\textbar{}Malay\\textbar{}SAIF\\textbar{}SS6004467\\textbar{}SS6004470\\textbar{}SS6004471\\textbar{}SS6004473\\textbar{}SS6004474\\textbar{}SS6004475\\textbar{}SSIP\\textbar{}Saqqaq\\textbar{}UK10K\\textbar{}gonl\\textbar{}phase3-ACB\\textbar{}phase3-ASW\\textbar{}phase3-BEB\\textbar{}phase3-CDX\\textbar{}phase3-CEU\\textbar{}phase3-CHB\\textbar{}phase3-CHS\\textbar{}phase3-CLM\\textbar{}phase3-ESN\\textbar{}phase3-FIN\\textbar{}phase3-GBR\\textbar{}phase3-GIH\\textbar{}phase3-GWD\\textbar{}phase3-IBS\\textbar{}phase3-ITU\\textbar{}phase3-JPT\\textbar{}phase3-KHV\\textbar{}phase3-LWK\\textbar{}phase3-MSL\\textbar{}phase3-MXL\\textbar{}phase3-PEL\\textbar{}phase3-PJL\\textbar{}phase3-PUR\\textbar{}phase3-STU\\textbar{}phase3-TSI\\textbar{}phase3-YRI                                                                                                                                                                                                                                                                                                                                                                                                                                                                                                                                                                \\\\\n",
       "\t 1 & 28364347 & rs796493340 & CA   & TG   & . & . & AF=0.0581166;AC=1533;AN=26378;END=28364348;DS=GS000009920\\textbar{}GS000009928\\textbar{}GS000009930\\textbar{}GS000009931\\textbar{}GS000009932\\textbar{}GS000010320\\textbar{}GS000010323\\textbar{}GS000010327\\textbar{}GS000010427\\textbar{}GS000010428\\textbar{}GS000010432\\textbar{}GS000010435\\textbar{}GS000010437\\textbar{}GS000010494\\textbar{}GS000011737\\textbar{}GS000011739\\textbar{}GS000011740\\textbar{}GS000011741\\textbar{}GS000011804\\textbar{}GS000011805\\textbar{}GS000011807\\textbar{}GS000011809\\textbar{}GS000011812\\textbar{}GS000011814\\textbar{}GS000011815\\textbar{}GS000011816\\textbar{}GS000012712\\textbar{}GS000014558\\textbar{}GS000014559\\textbar{}GS000014560\\textbar{}GS000014561\\textbar{}GS000014562\\textbar{}GS000014564\\textbar{}GS000014565\\textbar{}GS000014570\\textbar{}GS000015152\\textbar{}GS000015172\\textbar{}GS000015174\\textbar{}GS000015176\\textbar{}GS000015177\\textbar{}GS000015178\\textbar{}GS000015180\\textbar{}GS000015188\\textbar{}GS000015189\\textbar{}GS000015191\\textbar{}GS000015225\\textbar{}GS000015227\\textbar{}GS000015229\\textbar{}GS000015231\\textbar{}GS000015708\\textbar{}GS000015885\\textbar{}GS000015886\\textbar{}GS000015887\\textbar{}GS000015888\\textbar{}GS000015889\\textbar{}GS000015890\\textbar{}GS000015891\\textbar{}GS000015893\\textbar{}GS000015895\\textbar{}GS000016015\\textbar{}GS000016016\\textbar{}GS000016028\\textbar{}GS000016030\\textbar{}GS000016333\\textbar{}GS000016334\\textbar{}GS000016335\\textbar{}GS000016337\\textbar{}GS000016339\\textbar{}GS000016370\\textbar{}GS000016372\\textbar{}GS000016374\\textbar{}GS000016441\\textbar{}GS000016442\\textbar{}GS000016446\\textbar{}GS000016449\\textbar{}ISB\\_founders-Nge3\\textbar{}Inova\\_CGI\\_founders-Nge3\\textbar{}NA12890\\textbar{}NA12892\\textbar{}NA21732\\textbar{}NA21737\\textbar{}NA21767\\textbar{}Wellderly\\\\\n",
       "\t 1 & 28364347 & .           & CAAA & TGAA & . & . & AF=0.0001896;AC=5;AN=26378;END=28364350;DS=GS000012713\\textbar{}ISB\\_founders-Nge3                                                                                                                                                                                                                                                                                                                                                                                                                                                                                                                                                                                                                                                                                                                                                                                                                                                                                                                                                                                                     \\\\\n",
       "\t 1 & 36523011 & rs12060242  & G    & C    & . & . & AF=0.1185837;AC=3128;AN=26378;DS=GS000009928\\textbar{}GS000009932\\textbar{}GS000010320\\textbar{}GS000010323\\textbar{}GS000010327\\textbar{}GS000010328\\textbar{}GS000010426\\textbar{}GS000010430\\textbar{}GS000010431\\textbar{}GS000010432\\textbar{}GS000010438\\textbar{}GS000011738\\textbar{}GS000011740\\textbar{}GS000011806\\textbar{}GS000011809\\textbar{}GS000011811\\textbar{}GS000011812\\textbar{}GS000011814\\textbar{}GS000014563\\textbar{}GS000015186\\textbar{}GS000015191\\textbar{}GS000015225\\textbar{}GS000015227\\textbar{}GS000015232\\textbar{}GS000015710\\textbar{}GS000015885\\textbar{}GS000015888\\textbar{}GS000015890\\textbar{}GS000015891\\textbar{}GS000015892\\textbar{}GS000016030\\textbar{}GS000016032\\textbar{}GS000016334\\textbar{}GS000016335\\textbar{}GS000016337\\textbar{}GS000016339\\textbar{}GS000016372\\textbar{}GS000016374\\textbar{}GS000016441\\textbar{}GS000016443\\textbar{}GS000016445\\textbar{}GS000016448\\textbar{}GS000016450\\textbar{}HGDP00542\\textbar{}HGDP01307\\textbar{}IRG0110\\textbar{}ISB\\_founders-Nge3\\textbar{}Inova\\_CGI\\_founders-Nge3\\textbar{}Inova\\_Illumina\\_founders-Nge3\\textbar{}J. Craig Venter\\textbar{}John West\\textbar{}Malay\\textbar{}NA12891\\textbar{}NA7022,18\\textbar{}SAIF\\textbar{}SS6004468\\textbar{}SSIP\\textbar{}UK10K\\textbar{}Wellderly\\textbar{}gonl\\textbar{}phase3-ACB\\textbar{}phase3-ASW\\textbar{}phase3-BEB\\textbar{}phase3-CDX\\textbar{}phase3-CEU\\textbar{}phase3-CHB\\textbar{}phase3-CHS\\textbar{}phase3-CLM\\textbar{}phase3-ESN\\textbar{}phase3-FIN\\textbar{}phase3-GBR\\textbar{}phase3-GIH\\textbar{}phase3-GWD\\textbar{}phase3-IBS\\textbar{}phase3-ITU\\textbar{}phase3-KHV\\textbar{}phase3-LWK\\textbar{}phase3-MXL\\textbar{}phase3-PEL\\textbar{}phase3-PJL\\textbar{}phase3-PUR\\textbar{}phase3-STU\\textbar{}phase3-TSI                                              \\\\\n",
       "\t 1 & 52838378 & rs115675756 & G    & A    & . & . & AF=0.0070892;AC=187;AN=26378;DS=Inova\\_CGI\\_founders-Nge3\\textbar{}Inova\\_Illumina\\_founders-Nge3\\textbar{}NA21732\\textbar{}SS6004475\\textbar{}Wellderly\\textbar{}phase3-ACB\\textbar{}phase3-ASW\\textbar{}phase3-ESN\\textbar{}phase3-GWD\\textbar{}phase3-LWK\\textbar{}phase3-MSL\\textbar{}phase3-PJL\\textbar{}phase3-PUR\\textbar{}phase3-YRI                                                                                                                                                                                                                                                                                                                                                                                                                                                                                                                                                                                                                                                                                                                                                                                                                                                          \\\\\n",
       "\\end{tabular}\n"
      ],
      "text/markdown": [
       "\n",
       "A tibble: 6 × 8\n",
       "\n",
       "| #CHROM &lt;chr&gt; | POS &lt;dbl&gt; | ID &lt;chr&gt; | REF &lt;chr&gt; | ALT &lt;chr&gt; | QUAL &lt;chr&gt; | FILTER &lt;chr&gt; | INFO &lt;chr&gt; |\n",
       "|---|---|---|---|---|---|---|---|\n",
       "| 1 | 10391742 | rs4846217   | C    | T    | . | . | AF=0.1127076;AC=2973;AN=26378;DS=GS000010327|GS000010426|GS000010429|GS000010430|GS000010432|GS000010434|GS000011737|GS000011805|GS000011810|GS000011811|GS000011816|GS000014558|GS000014560|GS000014561|GS000014566|GS000015154|GS000015172|GS000015177|GS000015181|GS000015185|GS000015187|GS000015221|GS000015225|GS000015228|GS000015231|GS000015232|GS000015233|GS000015891|GS000015894|GS000016016|GS000016027|GS000016336|GS000016337|GS000016339|GS000016375|GS000016441|GS000016446|GS000016448|HGDP00521|HGDP00665|HGDP01284|ISB_founders-Nge3|Inova_CGI_founders-Nge3|Inova_Illumina_founders-Nge3|Malay|NA12889|NA21732|SS6004471|SSIP|UK10K|Wellderly|gonl|phase3-ACB|phase3-ASW|phase3-BEB|phase3-CDX|phase3-CEU|phase3-CHB|phase3-CLM|phase3-ESN|phase3-FIN|phase3-GBR|phase3-GIH|phase3-GWD|phase3-IBS|phase3-ITU|phase3-JPT|phase3-KHV|phase3-LWK|phase3-MSL|phase3-MXL|phase3-PEL|phase3-PJL|phase3-PUR|phase3-STU|phase3-TSI|phase3-YRI                                                                                                                    |\n",
       "| 1 | 28364347 | rs4908346   | C    | T    | . | . | AF=0.1932671;AC=5098;AN=26378;DS=DNK02|GMIAK4|HGDP00521|HGDP00665|HGDP00927|HGDP0456|Inova_Illumina_founders-Nge3|Malay|SAIF|SS6004467|SS6004470|SS6004471|SS6004473|SS6004474|SS6004475|SSIP|Saqqaq|UK10K|gonl|phase3-ACB|phase3-ASW|phase3-BEB|phase3-CDX|phase3-CEU|phase3-CHB|phase3-CHS|phase3-CLM|phase3-ESN|phase3-FIN|phase3-GBR|phase3-GIH|phase3-GWD|phase3-IBS|phase3-ITU|phase3-JPT|phase3-KHV|phase3-LWK|phase3-MSL|phase3-MXL|phase3-PEL|phase3-PJL|phase3-PUR|phase3-STU|phase3-TSI|phase3-YRI                                                                                                                                                                                                                                                                                                                                                                                                                                                                                                                                                                 |\n",
       "| 1 | 28364347 | rs796493340 | CA   | TG   | . | . | AF=0.0581166;AC=1533;AN=26378;END=28364348;DS=GS000009920|GS000009928|GS000009930|GS000009931|GS000009932|GS000010320|GS000010323|GS000010327|GS000010427|GS000010428|GS000010432|GS000010435|GS000010437|GS000010494|GS000011737|GS000011739|GS000011740|GS000011741|GS000011804|GS000011805|GS000011807|GS000011809|GS000011812|GS000011814|GS000011815|GS000011816|GS000012712|GS000014558|GS000014559|GS000014560|GS000014561|GS000014562|GS000014564|GS000014565|GS000014570|GS000015152|GS000015172|GS000015174|GS000015176|GS000015177|GS000015178|GS000015180|GS000015188|GS000015189|GS000015191|GS000015225|GS000015227|GS000015229|GS000015231|GS000015708|GS000015885|GS000015886|GS000015887|GS000015888|GS000015889|GS000015890|GS000015891|GS000015893|GS000015895|GS000016015|GS000016016|GS000016028|GS000016030|GS000016333|GS000016334|GS000016335|GS000016337|GS000016339|GS000016370|GS000016372|GS000016374|GS000016441|GS000016442|GS000016446|GS000016449|ISB_founders-Nge3|Inova_CGI_founders-Nge3|NA12890|NA12892|NA21732|NA21737|NA21767|Wellderly |\n",
       "| 1 | 28364347 | .           | CAAA | TGAA | . | . | AF=0.0001896;AC=5;AN=26378;END=28364350;DS=GS000012713|ISB_founders-Nge3                                                                                                                                                                                                                                                                                                                                                                                                                                                                                                                                                                                                                                                                                                                                                                                                                                                                                                                                                                                                      |\n",
       "| 1 | 36523011 | rs12060242  | G    | C    | . | . | AF=0.1185837;AC=3128;AN=26378;DS=GS000009928|GS000009932|GS000010320|GS000010323|GS000010327|GS000010328|GS000010426|GS000010430|GS000010431|GS000010432|GS000010438|GS000011738|GS000011740|GS000011806|GS000011809|GS000011811|GS000011812|GS000011814|GS000014563|GS000015186|GS000015191|GS000015225|GS000015227|GS000015232|GS000015710|GS000015885|GS000015888|GS000015890|GS000015891|GS000015892|GS000016030|GS000016032|GS000016334|GS000016335|GS000016337|GS000016339|GS000016372|GS000016374|GS000016441|GS000016443|GS000016445|GS000016448|GS000016450|HGDP00542|HGDP01307|IRG0110|ISB_founders-Nge3|Inova_CGI_founders-Nge3|Inova_Illumina_founders-Nge3|J. Craig Venter|John West|Malay|NA12891|NA7022,18|SAIF|SS6004468|SSIP|UK10K|Wellderly|gonl|phase3-ACB|phase3-ASW|phase3-BEB|phase3-CDX|phase3-CEU|phase3-CHB|phase3-CHS|phase3-CLM|phase3-ESN|phase3-FIN|phase3-GBR|phase3-GIH|phase3-GWD|phase3-IBS|phase3-ITU|phase3-KHV|phase3-LWK|phase3-MXL|phase3-PEL|phase3-PJL|phase3-PUR|phase3-STU|phase3-TSI                                               |\n",
       "| 1 | 52838378 | rs115675756 | G    | A    | . | . | AF=0.0070892;AC=187;AN=26378;DS=Inova_CGI_founders-Nge3|Inova_Illumina_founders-Nge3|NA21732|SS6004475|Wellderly|phase3-ACB|phase3-ASW|phase3-ESN|phase3-GWD|phase3-LWK|phase3-MSL|phase3-PJL|phase3-PUR|phase3-YRI                                                                                                                                                                                                                                                                                                                                                                                                                                                                                                                                                                                                                                                                                                                                                                                                                                                           |\n",
       "\n"
      ],
      "text/plain": [
       "  #CHROM POS      ID          REF  ALT  QUAL FILTER\n",
       "1 1      10391742 rs4846217   C    T    .    .     \n",
       "2 1      28364347 rs4908346   C    T    .    .     \n",
       "3 1      28364347 rs796493340 CA   TG   .    .     \n",
       "4 1      28364347 .           CAAA TGAA .    .     \n",
       "5 1      36523011 rs12060242  G    C    .    .     \n",
       "6 1      52838378 rs115675756 G    A    .    .     \n",
       "  INFO                                                                                                                                                                                                                                                                                                                                                                                                                                                                                                                                                                                                                                                                                                                                                                                                                                                                                                                                                                                                                                                                         \n",
       "1 AF=0.1127076;AC=2973;AN=26378;DS=GS000010327|GS000010426|GS000010429|GS000010430|GS000010432|GS000010434|GS000011737|GS000011805|GS000011810|GS000011811|GS000011816|GS000014558|GS000014560|GS000014561|GS000014566|GS000015154|GS000015172|GS000015177|GS000015181|GS000015185|GS000015187|GS000015221|GS000015225|GS000015228|GS000015231|GS000015232|GS000015233|GS000015891|GS000015894|GS000016016|GS000016027|GS000016336|GS000016337|GS000016339|GS000016375|GS000016441|GS000016446|GS000016448|HGDP00521|HGDP00665|HGDP01284|ISB_founders-Nge3|Inova_CGI_founders-Nge3|Inova_Illumina_founders-Nge3|Malay|NA12889|NA21732|SS6004471|SSIP|UK10K|Wellderly|gonl|phase3-ACB|phase3-ASW|phase3-BEB|phase3-CDX|phase3-CEU|phase3-CHB|phase3-CLM|phase3-ESN|phase3-FIN|phase3-GBR|phase3-GIH|phase3-GWD|phase3-IBS|phase3-ITU|phase3-JPT|phase3-KHV|phase3-LWK|phase3-MSL|phase3-MXL|phase3-PEL|phase3-PJL|phase3-PUR|phase3-STU|phase3-TSI|phase3-YRI                                                                                                                   \n",
       "2 AF=0.1932671;AC=5098;AN=26378;DS=DNK02|GMIAK4|HGDP00521|HGDP00665|HGDP00927|HGDP0456|Inova_Illumina_founders-Nge3|Malay|SAIF|SS6004467|SS6004470|SS6004471|SS6004473|SS6004474|SS6004475|SSIP|Saqqaq|UK10K|gonl|phase3-ACB|phase3-ASW|phase3-BEB|phase3-CDX|phase3-CEU|phase3-CHB|phase3-CHS|phase3-CLM|phase3-ESN|phase3-FIN|phase3-GBR|phase3-GIH|phase3-GWD|phase3-IBS|phase3-ITU|phase3-JPT|phase3-KHV|phase3-LWK|phase3-MSL|phase3-MXL|phase3-PEL|phase3-PJL|phase3-PUR|phase3-STU|phase3-TSI|phase3-YRI                                                                                                                                                                                                                                                                                                                                                                                                                                                                                                                                                                \n",
       "3 AF=0.0581166;AC=1533;AN=26378;END=28364348;DS=GS000009920|GS000009928|GS000009930|GS000009931|GS000009932|GS000010320|GS000010323|GS000010327|GS000010427|GS000010428|GS000010432|GS000010435|GS000010437|GS000010494|GS000011737|GS000011739|GS000011740|GS000011741|GS000011804|GS000011805|GS000011807|GS000011809|GS000011812|GS000011814|GS000011815|GS000011816|GS000012712|GS000014558|GS000014559|GS000014560|GS000014561|GS000014562|GS000014564|GS000014565|GS000014570|GS000015152|GS000015172|GS000015174|GS000015176|GS000015177|GS000015178|GS000015180|GS000015188|GS000015189|GS000015191|GS000015225|GS000015227|GS000015229|GS000015231|GS000015708|GS000015885|GS000015886|GS000015887|GS000015888|GS000015889|GS000015890|GS000015891|GS000015893|GS000015895|GS000016015|GS000016016|GS000016028|GS000016030|GS000016333|GS000016334|GS000016335|GS000016337|GS000016339|GS000016370|GS000016372|GS000016374|GS000016441|GS000016442|GS000016446|GS000016449|ISB_founders-Nge3|Inova_CGI_founders-Nge3|NA12890|NA12892|NA21732|NA21737|NA21767|Wellderly\n",
       "4 AF=0.0001896;AC=5;AN=26378;END=28364350;DS=GS000012713|ISB_founders-Nge3                                                                                                                                                                                                                                                                                                                                                                                                                                                                                                                                                                                                                                                                                                                                                                                                                                                                                                                                                                                                     \n",
       "5 AF=0.1185837;AC=3128;AN=26378;DS=GS000009928|GS000009932|GS000010320|GS000010323|GS000010327|GS000010328|GS000010426|GS000010430|GS000010431|GS000010432|GS000010438|GS000011738|GS000011740|GS000011806|GS000011809|GS000011811|GS000011812|GS000011814|GS000014563|GS000015186|GS000015191|GS000015225|GS000015227|GS000015232|GS000015710|GS000015885|GS000015888|GS000015890|GS000015891|GS000015892|GS000016030|GS000016032|GS000016334|GS000016335|GS000016337|GS000016339|GS000016372|GS000016374|GS000016441|GS000016443|GS000016445|GS000016448|GS000016450|HGDP00542|HGDP01307|IRG0110|ISB_founders-Nge3|Inova_CGI_founders-Nge3|Inova_Illumina_founders-Nge3|J. Craig Venter|John West|Malay|NA12891|NA7022,18|SAIF|SS6004468|SSIP|UK10K|Wellderly|gonl|phase3-ACB|phase3-ASW|phase3-BEB|phase3-CDX|phase3-CEU|phase3-CHB|phase3-CHS|phase3-CLM|phase3-ESN|phase3-FIN|phase3-GBR|phase3-GIH|phase3-GWD|phase3-IBS|phase3-ITU|phase3-KHV|phase3-LWK|phase3-MXL|phase3-PEL|phase3-PJL|phase3-PUR|phase3-STU|phase3-TSI                                              \n",
       "6 AF=0.0070892;AC=187;AN=26378;DS=Inova_CGI_founders-Nge3|Inova_Illumina_founders-Nge3|NA21732|SS6004475|Wellderly|phase3-ACB|phase3-ASW|phase3-ESN|phase3-GWD|phase3-LWK|phase3-MSL|phase3-PJL|phase3-PUR|phase3-YRI                                                                                                                                                                                                                                                                                                                                                                                                                                                                                                                                                                                                                                                                                                                                                                                                                                                          "
      ]
     },
     "metadata": {},
     "output_type": "display_data"
    }
   ],
   "source": [
    "### set file directory\n",
    "fdiry = file.path(FD_RES, \"region\", \"control_tmpra\")\n",
    "fname = \"snps_OL13_rsid_query_kaviar_hg38.vcf\"\n",
    "fpath = file.path(fdiry, fname)\n",
    "\n",
    "### import data\n",
    "dat = read_tsv(fpath, comment = \"##\")\n",
    "\n",
    "### show info\n",
    "dat_snps_OL13_rsid_query_hg38 = dat\n",
    "print(dim(dat))\n",
    "head(dat)"
   ]
  },
  {
   "cell_type": "code",
   "execution_count": 18,
   "metadata": {},
   "outputs": [
    {
     "data": {
      "text/html": [
       "<table class=\"dataframe\">\n",
       "<caption>A tibble: 5 × 5</caption>\n",
       "<thead>\n",
       "\t<tr><th scope=col>row</th><th scope=col>col</th><th scope=col>expected</th><th scope=col>actual</th><th scope=col>file</th></tr>\n",
       "\t<tr><th scope=col>&lt;int&gt;</th><th scope=col>&lt;int&gt;</th><th scope=col>&lt;chr&gt;</th><th scope=col>&lt;chr&gt;</th><th scope=col>&lt;chr&gt;</th></tr>\n",
       "</thead>\n",
       "<tbody>\n",
       "\t<tr><td> 73</td><td>1</td><td>8 columns</td><td>1 columns</td><td></td></tr>\n",
       "\t<tr><td>100</td><td>1</td><td>8 columns</td><td>1 columns</td><td></td></tr>\n",
       "\t<tr><td>196</td><td>1</td><td>8 columns</td><td>1 columns</td><td></td></tr>\n",
       "\t<tr><td>247</td><td>1</td><td>8 columns</td><td>1 columns</td><td></td></tr>\n",
       "\t<tr><td>248</td><td>1</td><td>8 columns</td><td>1 columns</td><td></td></tr>\n",
       "</tbody>\n",
       "</table>\n"
      ],
      "text/latex": [
       "A tibble: 5 × 5\n",
       "\\begin{tabular}{lllll}\n",
       " row & col & expected & actual & file\\\\\n",
       " <int> & <int> & <chr> & <chr> & <chr>\\\\\n",
       "\\hline\n",
       "\t  73 & 1 & 8 columns & 1 columns & \\\\\n",
       "\t 100 & 1 & 8 columns & 1 columns & \\\\\n",
       "\t 196 & 1 & 8 columns & 1 columns & \\\\\n",
       "\t 247 & 1 & 8 columns & 1 columns & \\\\\n",
       "\t 248 & 1 & 8 columns & 1 columns & \\\\\n",
       "\\end{tabular}\n"
      ],
      "text/markdown": [
       "\n",
       "A tibble: 5 × 5\n",
       "\n",
       "| row &lt;int&gt; | col &lt;int&gt; | expected &lt;chr&gt; | actual &lt;chr&gt; | file &lt;chr&gt; |\n",
       "|---|---|---|---|---|\n",
       "|  73 | 1 | 8 columns | 1 columns | <!----> |\n",
       "| 100 | 1 | 8 columns | 1 columns | <!----> |\n",
       "| 196 | 1 | 8 columns | 1 columns | <!----> |\n",
       "| 247 | 1 | 8 columns | 1 columns | <!----> |\n",
       "| 248 | 1 | 8 columns | 1 columns | <!----> |\n",
       "\n"
      ],
      "text/plain": [
       "  row col expected  actual    file\n",
       "1  73 1   8 columns 1 columns     \n",
       "2 100 1   8 columns 1 columns     \n",
       "3 196 1   8 columns 1 columns     \n",
       "4 247 1   8 columns 1 columns     \n",
       "5 248 1   8 columns 1 columns     "
      ]
     },
     "metadata": {},
     "output_type": "display_data"
    }
   ],
   "source": [
    "problems(dat)"
   ]
  },
  {
   "cell_type": "code",
   "execution_count": 19,
   "metadata": {},
   "outputs": [
    {
     "name": "stderr",
     "output_type": "stream",
     "text": [
      "Warning message:\n",
      "“\u001b[1m\u001b[22mOne or more parsing issues, call `problems()` on your data frame for details,\n",
      "e.g.:\n",
      "  dat <- vroom(...)\n",
      "  problems(dat)”\n",
      "\u001b[1mRows: \u001b[22m\u001b[34m274\u001b[39m \u001b[1mColumns: \u001b[22m\u001b[34m8\u001b[39m\n",
      "\u001b[36m──\u001b[39m \u001b[1mColumn specification\u001b[22m \u001b[36m───────────────────────────────────────────────────────────\u001b[39m\n",
      "\u001b[1mDelimiter:\u001b[22m \"\\t\"\n",
      "\u001b[31mchr\u001b[39m (7): #CHROM, ID, REF, ALT, QUAL, FILTER, INFO\n",
      "\u001b[32mdbl\u001b[39m (1): POS\n",
      "\n",
      "\u001b[36mℹ\u001b[39m Use `spec()` to retrieve the full column specification for this data.\n",
      "\u001b[36mℹ\u001b[39m Specify the column types or set `show_col_types = FALSE` to quiet this message.\n"
     ]
    },
    {
     "name": "stdout",
     "output_type": "stream",
     "text": [
      "[1] 274   8\n"
     ]
    },
    {
     "data": {
      "text/html": [
       "<table class=\"dataframe\">\n",
       "<caption>A tibble: 6 × 8</caption>\n",
       "<thead>\n",
       "\t<tr><th scope=col>#CHROM</th><th scope=col>POS</th><th scope=col>ID</th><th scope=col>REF</th><th scope=col>ALT</th><th scope=col>QUAL</th><th scope=col>FILTER</th><th scope=col>INFO</th></tr>\n",
       "\t<tr><th scope=col>&lt;chr&gt;</th><th scope=col>&lt;dbl&gt;</th><th scope=col>&lt;chr&gt;</th><th scope=col>&lt;chr&gt;</th><th scope=col>&lt;chr&gt;</th><th scope=col>&lt;chr&gt;</th><th scope=col>&lt;chr&gt;</th><th scope=col>&lt;chr&gt;</th></tr>\n",
       "</thead>\n",
       "<tbody>\n",
       "\t<tr><td>1</td><td>10451799</td><td>rs4846217  </td><td>C   </td><td>T   </td><td>.</td><td>.</td><td>AF=0.1127076;AC=2973;AN=26378;DS=GS000010327|GS000010426|GS000010429|GS000010430|GS000010432|GS000010434|GS000011737|GS000011805|GS000011810|GS000011811|GS000011816|GS000014558|GS000014560|GS000014561|GS000014566|GS000015154|GS000015172|GS000015177|GS000015181|GS000015185|GS000015187|GS000015221|GS000015225|GS000015228|GS000015231|GS000015232|GS000015233|GS000015891|GS000015894|GS000016016|GS000016027|GS000016336|GS000016337|GS000016339|GS000016375|GS000016441|GS000016446|GS000016448|HGDP00521|HGDP00665|HGDP01284|ISB_founders-Nge3|Inova_CGI_founders-Nge3|Inova_Illumina_founders-Nge3|Malay|NA12889|NA21732|SS6004471|SSIP|UK10K|Wellderly|gonl|phase3-ACB|phase3-ASW|phase3-BEB|phase3-CDX|phase3-CEU|phase3-CHB|phase3-CLM|phase3-ESN|phase3-FIN|phase3-GBR|phase3-GIH|phase3-GWD|phase3-IBS|phase3-ITU|phase3-JPT|phase3-KHV|phase3-LWK|phase3-MSL|phase3-MXL|phase3-PEL|phase3-PJL|phase3-PUR|phase3-STU|phase3-TSI|phase3-YRI                                                                                                                   </td></tr>\n",
       "\t<tr><td>1</td><td>28690858</td><td>rs4908346  </td><td>C   </td><td>T   </td><td>.</td><td>.</td><td>AF=0.1932671;AC=5098;AN=26378;DS=DNK02|GMIAK4|HGDP00521|HGDP00665|HGDP00927|HGDP0456|Inova_Illumina_founders-Nge3|Malay|SAIF|SS6004467|SS6004470|SS6004471|SS6004473|SS6004474|SS6004475|SSIP|Saqqaq|UK10K|gonl|phase3-ACB|phase3-ASW|phase3-BEB|phase3-CDX|phase3-CEU|phase3-CHB|phase3-CHS|phase3-CLM|phase3-ESN|phase3-FIN|phase3-GBR|phase3-GIH|phase3-GWD|phase3-IBS|phase3-ITU|phase3-JPT|phase3-KHV|phase3-LWK|phase3-MSL|phase3-MXL|phase3-PEL|phase3-PJL|phase3-PUR|phase3-STU|phase3-TSI|phase3-YRI                                                                                                                                                                                                                                                                                                                                                                                                                                                                                                                                                                </td></tr>\n",
       "\t<tr><td>1</td><td>28690858</td><td>rs796493340</td><td>CA  </td><td>TG  </td><td>.</td><td>.</td><td>AF=0.0581166;AC=1533;AN=26378;END=28690859;DS=GS000009920|GS000009928|GS000009930|GS000009931|GS000009932|GS000010320|GS000010323|GS000010327|GS000010427|GS000010428|GS000010432|GS000010435|GS000010437|GS000010494|GS000011737|GS000011739|GS000011740|GS000011741|GS000011804|GS000011805|GS000011807|GS000011809|GS000011812|GS000011814|GS000011815|GS000011816|GS000012712|GS000014558|GS000014559|GS000014560|GS000014561|GS000014562|GS000014564|GS000014565|GS000014570|GS000015152|GS000015172|GS000015174|GS000015176|GS000015177|GS000015178|GS000015180|GS000015188|GS000015189|GS000015191|GS000015225|GS000015227|GS000015229|GS000015231|GS000015708|GS000015885|GS000015886|GS000015887|GS000015888|GS000015889|GS000015890|GS000015891|GS000015893|GS000015895|GS000016015|GS000016016|GS000016028|GS000016030|GS000016333|GS000016334|GS000016335|GS000016337|GS000016339|GS000016370|GS000016372|GS000016374|GS000016441|GS000016442|GS000016446|GS000016449|ISB_founders-Nge3|Inova_CGI_founders-Nge3|NA12890|NA12892|NA21732|NA21737|NA21767|Wellderly</td></tr>\n",
       "\t<tr><td>1</td><td>28690858</td><td>.          </td><td>CAAA</td><td>TGAA</td><td>.</td><td>.</td><td>AF=0.0001896;AC=5;AN=26378;END=28690861;DS=GS000012713|ISB_founders-Nge3                                                                                                                                                                                                                                                                                                                                                                                                                                                                                                                                                                                                                                                                                                                                                                                                                                                                                                                                                                                                     </td></tr>\n",
       "\t<tr><td>1</td><td>36988612</td><td>rs12060242 </td><td>G   </td><td>C   </td><td>.</td><td>.</td><td>AF=0.1185837;AC=3128;AN=26378;DS=GS000009928|GS000009932|GS000010320|GS000010323|GS000010327|GS000010328|GS000010426|GS000010430|GS000010431|GS000010432|GS000010438|GS000011738|GS000011740|GS000011806|GS000011809|GS000011811|GS000011812|GS000011814|GS000014563|GS000015186|GS000015191|GS000015225|GS000015227|GS000015232|GS000015710|GS000015885|GS000015888|GS000015890|GS000015891|GS000015892|GS000016030|GS000016032|GS000016334|GS000016335|GS000016337|GS000016339|GS000016372|GS000016374|GS000016441|GS000016443|GS000016445|GS000016448|GS000016450|HGDP00542|HGDP01307|IRG0110|ISB_founders-Nge3|Inova_CGI_founders-Nge3|Inova_Illumina_founders-Nge3|J. Craig Venter|John West|Malay|NA12891|NA7022,18|SAIF|SS6004468|SSIP|UK10K|Wellderly|gonl|phase3-ACB|phase3-ASW|phase3-BEB|phase3-CDX|phase3-CEU|phase3-CHB|phase3-CHS|phase3-CLM|phase3-ESN|phase3-FIN|phase3-GBR|phase3-GIH|phase3-GWD|phase3-IBS|phase3-ITU|phase3-KHV|phase3-LWK|phase3-MXL|phase3-PEL|phase3-PJL|phase3-PUR|phase3-STU|phase3-TSI                                              </td></tr>\n",
       "\t<tr><td>1</td><td>53304050</td><td>rs115675756</td><td>G   </td><td>A   </td><td>.</td><td>.</td><td>AF=0.0070892;AC=187;AN=26378;DS=Inova_CGI_founders-Nge3|Inova_Illumina_founders-Nge3|NA21732|SS6004475|Wellderly|phase3-ACB|phase3-ASW|phase3-ESN|phase3-GWD|phase3-LWK|phase3-MSL|phase3-PJL|phase3-PUR|phase3-YRI                                                                                                                                                                                                                                                                                                                                                                                                                                                                                                                                                                                                                                                                                                                                                                                                                                                          </td></tr>\n",
       "</tbody>\n",
       "</table>\n"
      ],
      "text/latex": [
       "A tibble: 6 × 8\n",
       "\\begin{tabular}{llllllll}\n",
       " \\#CHROM & POS & ID & REF & ALT & QUAL & FILTER & INFO\\\\\n",
       " <chr> & <dbl> & <chr> & <chr> & <chr> & <chr> & <chr> & <chr>\\\\\n",
       "\\hline\n",
       "\t 1 & 10451799 & rs4846217   & C    & T    & . & . & AF=0.1127076;AC=2973;AN=26378;DS=GS000010327\\textbar{}GS000010426\\textbar{}GS000010429\\textbar{}GS000010430\\textbar{}GS000010432\\textbar{}GS000010434\\textbar{}GS000011737\\textbar{}GS000011805\\textbar{}GS000011810\\textbar{}GS000011811\\textbar{}GS000011816\\textbar{}GS000014558\\textbar{}GS000014560\\textbar{}GS000014561\\textbar{}GS000014566\\textbar{}GS000015154\\textbar{}GS000015172\\textbar{}GS000015177\\textbar{}GS000015181\\textbar{}GS000015185\\textbar{}GS000015187\\textbar{}GS000015221\\textbar{}GS000015225\\textbar{}GS000015228\\textbar{}GS000015231\\textbar{}GS000015232\\textbar{}GS000015233\\textbar{}GS000015891\\textbar{}GS000015894\\textbar{}GS000016016\\textbar{}GS000016027\\textbar{}GS000016336\\textbar{}GS000016337\\textbar{}GS000016339\\textbar{}GS000016375\\textbar{}GS000016441\\textbar{}GS000016446\\textbar{}GS000016448\\textbar{}HGDP00521\\textbar{}HGDP00665\\textbar{}HGDP01284\\textbar{}ISB\\_founders-Nge3\\textbar{}Inova\\_CGI\\_founders-Nge3\\textbar{}Inova\\_Illumina\\_founders-Nge3\\textbar{}Malay\\textbar{}NA12889\\textbar{}NA21732\\textbar{}SS6004471\\textbar{}SSIP\\textbar{}UK10K\\textbar{}Wellderly\\textbar{}gonl\\textbar{}phase3-ACB\\textbar{}phase3-ASW\\textbar{}phase3-BEB\\textbar{}phase3-CDX\\textbar{}phase3-CEU\\textbar{}phase3-CHB\\textbar{}phase3-CLM\\textbar{}phase3-ESN\\textbar{}phase3-FIN\\textbar{}phase3-GBR\\textbar{}phase3-GIH\\textbar{}phase3-GWD\\textbar{}phase3-IBS\\textbar{}phase3-ITU\\textbar{}phase3-JPT\\textbar{}phase3-KHV\\textbar{}phase3-LWK\\textbar{}phase3-MSL\\textbar{}phase3-MXL\\textbar{}phase3-PEL\\textbar{}phase3-PJL\\textbar{}phase3-PUR\\textbar{}phase3-STU\\textbar{}phase3-TSI\\textbar{}phase3-YRI                                                                                                                   \\\\\n",
       "\t 1 & 28690858 & rs4908346   & C    & T    & . & . & AF=0.1932671;AC=5098;AN=26378;DS=DNK02\\textbar{}GMIAK4\\textbar{}HGDP00521\\textbar{}HGDP00665\\textbar{}HGDP00927\\textbar{}HGDP0456\\textbar{}Inova\\_Illumina\\_founders-Nge3\\textbar{}Malay\\textbar{}SAIF\\textbar{}SS6004467\\textbar{}SS6004470\\textbar{}SS6004471\\textbar{}SS6004473\\textbar{}SS6004474\\textbar{}SS6004475\\textbar{}SSIP\\textbar{}Saqqaq\\textbar{}UK10K\\textbar{}gonl\\textbar{}phase3-ACB\\textbar{}phase3-ASW\\textbar{}phase3-BEB\\textbar{}phase3-CDX\\textbar{}phase3-CEU\\textbar{}phase3-CHB\\textbar{}phase3-CHS\\textbar{}phase3-CLM\\textbar{}phase3-ESN\\textbar{}phase3-FIN\\textbar{}phase3-GBR\\textbar{}phase3-GIH\\textbar{}phase3-GWD\\textbar{}phase3-IBS\\textbar{}phase3-ITU\\textbar{}phase3-JPT\\textbar{}phase3-KHV\\textbar{}phase3-LWK\\textbar{}phase3-MSL\\textbar{}phase3-MXL\\textbar{}phase3-PEL\\textbar{}phase3-PJL\\textbar{}phase3-PUR\\textbar{}phase3-STU\\textbar{}phase3-TSI\\textbar{}phase3-YRI                                                                                                                                                                                                                                                                                                                                                                                                                                                                                                                                                                \\\\\n",
       "\t 1 & 28690858 & rs796493340 & CA   & TG   & . & . & AF=0.0581166;AC=1533;AN=26378;END=28690859;DS=GS000009920\\textbar{}GS000009928\\textbar{}GS000009930\\textbar{}GS000009931\\textbar{}GS000009932\\textbar{}GS000010320\\textbar{}GS000010323\\textbar{}GS000010327\\textbar{}GS000010427\\textbar{}GS000010428\\textbar{}GS000010432\\textbar{}GS000010435\\textbar{}GS000010437\\textbar{}GS000010494\\textbar{}GS000011737\\textbar{}GS000011739\\textbar{}GS000011740\\textbar{}GS000011741\\textbar{}GS000011804\\textbar{}GS000011805\\textbar{}GS000011807\\textbar{}GS000011809\\textbar{}GS000011812\\textbar{}GS000011814\\textbar{}GS000011815\\textbar{}GS000011816\\textbar{}GS000012712\\textbar{}GS000014558\\textbar{}GS000014559\\textbar{}GS000014560\\textbar{}GS000014561\\textbar{}GS000014562\\textbar{}GS000014564\\textbar{}GS000014565\\textbar{}GS000014570\\textbar{}GS000015152\\textbar{}GS000015172\\textbar{}GS000015174\\textbar{}GS000015176\\textbar{}GS000015177\\textbar{}GS000015178\\textbar{}GS000015180\\textbar{}GS000015188\\textbar{}GS000015189\\textbar{}GS000015191\\textbar{}GS000015225\\textbar{}GS000015227\\textbar{}GS000015229\\textbar{}GS000015231\\textbar{}GS000015708\\textbar{}GS000015885\\textbar{}GS000015886\\textbar{}GS000015887\\textbar{}GS000015888\\textbar{}GS000015889\\textbar{}GS000015890\\textbar{}GS000015891\\textbar{}GS000015893\\textbar{}GS000015895\\textbar{}GS000016015\\textbar{}GS000016016\\textbar{}GS000016028\\textbar{}GS000016030\\textbar{}GS000016333\\textbar{}GS000016334\\textbar{}GS000016335\\textbar{}GS000016337\\textbar{}GS000016339\\textbar{}GS000016370\\textbar{}GS000016372\\textbar{}GS000016374\\textbar{}GS000016441\\textbar{}GS000016442\\textbar{}GS000016446\\textbar{}GS000016449\\textbar{}ISB\\_founders-Nge3\\textbar{}Inova\\_CGI\\_founders-Nge3\\textbar{}NA12890\\textbar{}NA12892\\textbar{}NA21732\\textbar{}NA21737\\textbar{}NA21767\\textbar{}Wellderly\\\\\n",
       "\t 1 & 28690858 & .           & CAAA & TGAA & . & . & AF=0.0001896;AC=5;AN=26378;END=28690861;DS=GS000012713\\textbar{}ISB\\_founders-Nge3                                                                                                                                                                                                                                                                                                                                                                                                                                                                                                                                                                                                                                                                                                                                                                                                                                                                                                                                                                                                     \\\\\n",
       "\t 1 & 36988612 & rs12060242  & G    & C    & . & . & AF=0.1185837;AC=3128;AN=26378;DS=GS000009928\\textbar{}GS000009932\\textbar{}GS000010320\\textbar{}GS000010323\\textbar{}GS000010327\\textbar{}GS000010328\\textbar{}GS000010426\\textbar{}GS000010430\\textbar{}GS000010431\\textbar{}GS000010432\\textbar{}GS000010438\\textbar{}GS000011738\\textbar{}GS000011740\\textbar{}GS000011806\\textbar{}GS000011809\\textbar{}GS000011811\\textbar{}GS000011812\\textbar{}GS000011814\\textbar{}GS000014563\\textbar{}GS000015186\\textbar{}GS000015191\\textbar{}GS000015225\\textbar{}GS000015227\\textbar{}GS000015232\\textbar{}GS000015710\\textbar{}GS000015885\\textbar{}GS000015888\\textbar{}GS000015890\\textbar{}GS000015891\\textbar{}GS000015892\\textbar{}GS000016030\\textbar{}GS000016032\\textbar{}GS000016334\\textbar{}GS000016335\\textbar{}GS000016337\\textbar{}GS000016339\\textbar{}GS000016372\\textbar{}GS000016374\\textbar{}GS000016441\\textbar{}GS000016443\\textbar{}GS000016445\\textbar{}GS000016448\\textbar{}GS000016450\\textbar{}HGDP00542\\textbar{}HGDP01307\\textbar{}IRG0110\\textbar{}ISB\\_founders-Nge3\\textbar{}Inova\\_CGI\\_founders-Nge3\\textbar{}Inova\\_Illumina\\_founders-Nge3\\textbar{}J. Craig Venter\\textbar{}John West\\textbar{}Malay\\textbar{}NA12891\\textbar{}NA7022,18\\textbar{}SAIF\\textbar{}SS6004468\\textbar{}SSIP\\textbar{}UK10K\\textbar{}Wellderly\\textbar{}gonl\\textbar{}phase3-ACB\\textbar{}phase3-ASW\\textbar{}phase3-BEB\\textbar{}phase3-CDX\\textbar{}phase3-CEU\\textbar{}phase3-CHB\\textbar{}phase3-CHS\\textbar{}phase3-CLM\\textbar{}phase3-ESN\\textbar{}phase3-FIN\\textbar{}phase3-GBR\\textbar{}phase3-GIH\\textbar{}phase3-GWD\\textbar{}phase3-IBS\\textbar{}phase3-ITU\\textbar{}phase3-KHV\\textbar{}phase3-LWK\\textbar{}phase3-MXL\\textbar{}phase3-PEL\\textbar{}phase3-PJL\\textbar{}phase3-PUR\\textbar{}phase3-STU\\textbar{}phase3-TSI                                              \\\\\n",
       "\t 1 & 53304050 & rs115675756 & G    & A    & . & . & AF=0.0070892;AC=187;AN=26378;DS=Inova\\_CGI\\_founders-Nge3\\textbar{}Inova\\_Illumina\\_founders-Nge3\\textbar{}NA21732\\textbar{}SS6004475\\textbar{}Wellderly\\textbar{}phase3-ACB\\textbar{}phase3-ASW\\textbar{}phase3-ESN\\textbar{}phase3-GWD\\textbar{}phase3-LWK\\textbar{}phase3-MSL\\textbar{}phase3-PJL\\textbar{}phase3-PUR\\textbar{}phase3-YRI                                                                                                                                                                                                                                                                                                                                                                                                                                                                                                                                                                                                                                                                                                                                                                                                                                                          \\\\\n",
       "\\end{tabular}\n"
      ],
      "text/markdown": [
       "\n",
       "A tibble: 6 × 8\n",
       "\n",
       "| #CHROM &lt;chr&gt; | POS &lt;dbl&gt; | ID &lt;chr&gt; | REF &lt;chr&gt; | ALT &lt;chr&gt; | QUAL &lt;chr&gt; | FILTER &lt;chr&gt; | INFO &lt;chr&gt; |\n",
       "|---|---|---|---|---|---|---|---|\n",
       "| 1 | 10451799 | rs4846217   | C    | T    | . | . | AF=0.1127076;AC=2973;AN=26378;DS=GS000010327|GS000010426|GS000010429|GS000010430|GS000010432|GS000010434|GS000011737|GS000011805|GS000011810|GS000011811|GS000011816|GS000014558|GS000014560|GS000014561|GS000014566|GS000015154|GS000015172|GS000015177|GS000015181|GS000015185|GS000015187|GS000015221|GS000015225|GS000015228|GS000015231|GS000015232|GS000015233|GS000015891|GS000015894|GS000016016|GS000016027|GS000016336|GS000016337|GS000016339|GS000016375|GS000016441|GS000016446|GS000016448|HGDP00521|HGDP00665|HGDP01284|ISB_founders-Nge3|Inova_CGI_founders-Nge3|Inova_Illumina_founders-Nge3|Malay|NA12889|NA21732|SS6004471|SSIP|UK10K|Wellderly|gonl|phase3-ACB|phase3-ASW|phase3-BEB|phase3-CDX|phase3-CEU|phase3-CHB|phase3-CLM|phase3-ESN|phase3-FIN|phase3-GBR|phase3-GIH|phase3-GWD|phase3-IBS|phase3-ITU|phase3-JPT|phase3-KHV|phase3-LWK|phase3-MSL|phase3-MXL|phase3-PEL|phase3-PJL|phase3-PUR|phase3-STU|phase3-TSI|phase3-YRI                                                                                                                    |\n",
       "| 1 | 28690858 | rs4908346   | C    | T    | . | . | AF=0.1932671;AC=5098;AN=26378;DS=DNK02|GMIAK4|HGDP00521|HGDP00665|HGDP00927|HGDP0456|Inova_Illumina_founders-Nge3|Malay|SAIF|SS6004467|SS6004470|SS6004471|SS6004473|SS6004474|SS6004475|SSIP|Saqqaq|UK10K|gonl|phase3-ACB|phase3-ASW|phase3-BEB|phase3-CDX|phase3-CEU|phase3-CHB|phase3-CHS|phase3-CLM|phase3-ESN|phase3-FIN|phase3-GBR|phase3-GIH|phase3-GWD|phase3-IBS|phase3-ITU|phase3-JPT|phase3-KHV|phase3-LWK|phase3-MSL|phase3-MXL|phase3-PEL|phase3-PJL|phase3-PUR|phase3-STU|phase3-TSI|phase3-YRI                                                                                                                                                                                                                                                                                                                                                                                                                                                                                                                                                                 |\n",
       "| 1 | 28690858 | rs796493340 | CA   | TG   | . | . | AF=0.0581166;AC=1533;AN=26378;END=28690859;DS=GS000009920|GS000009928|GS000009930|GS000009931|GS000009932|GS000010320|GS000010323|GS000010327|GS000010427|GS000010428|GS000010432|GS000010435|GS000010437|GS000010494|GS000011737|GS000011739|GS000011740|GS000011741|GS000011804|GS000011805|GS000011807|GS000011809|GS000011812|GS000011814|GS000011815|GS000011816|GS000012712|GS000014558|GS000014559|GS000014560|GS000014561|GS000014562|GS000014564|GS000014565|GS000014570|GS000015152|GS000015172|GS000015174|GS000015176|GS000015177|GS000015178|GS000015180|GS000015188|GS000015189|GS000015191|GS000015225|GS000015227|GS000015229|GS000015231|GS000015708|GS000015885|GS000015886|GS000015887|GS000015888|GS000015889|GS000015890|GS000015891|GS000015893|GS000015895|GS000016015|GS000016016|GS000016028|GS000016030|GS000016333|GS000016334|GS000016335|GS000016337|GS000016339|GS000016370|GS000016372|GS000016374|GS000016441|GS000016442|GS000016446|GS000016449|ISB_founders-Nge3|Inova_CGI_founders-Nge3|NA12890|NA12892|NA21732|NA21737|NA21767|Wellderly |\n",
       "| 1 | 28690858 | .           | CAAA | TGAA | . | . | AF=0.0001896;AC=5;AN=26378;END=28690861;DS=GS000012713|ISB_founders-Nge3                                                                                                                                                                                                                                                                                                                                                                                                                                                                                                                                                                                                                                                                                                                                                                                                                                                                                                                                                                                                      |\n",
       "| 1 | 36988612 | rs12060242  | G    | C    | . | . | AF=0.1185837;AC=3128;AN=26378;DS=GS000009928|GS000009932|GS000010320|GS000010323|GS000010327|GS000010328|GS000010426|GS000010430|GS000010431|GS000010432|GS000010438|GS000011738|GS000011740|GS000011806|GS000011809|GS000011811|GS000011812|GS000011814|GS000014563|GS000015186|GS000015191|GS000015225|GS000015227|GS000015232|GS000015710|GS000015885|GS000015888|GS000015890|GS000015891|GS000015892|GS000016030|GS000016032|GS000016334|GS000016335|GS000016337|GS000016339|GS000016372|GS000016374|GS000016441|GS000016443|GS000016445|GS000016448|GS000016450|HGDP00542|HGDP01307|IRG0110|ISB_founders-Nge3|Inova_CGI_founders-Nge3|Inova_Illumina_founders-Nge3|J. Craig Venter|John West|Malay|NA12891|NA7022,18|SAIF|SS6004468|SSIP|UK10K|Wellderly|gonl|phase3-ACB|phase3-ASW|phase3-BEB|phase3-CDX|phase3-CEU|phase3-CHB|phase3-CHS|phase3-CLM|phase3-ESN|phase3-FIN|phase3-GBR|phase3-GIH|phase3-GWD|phase3-IBS|phase3-ITU|phase3-KHV|phase3-LWK|phase3-MXL|phase3-PEL|phase3-PJL|phase3-PUR|phase3-STU|phase3-TSI                                               |\n",
       "| 1 | 53304050 | rs115675756 | G    | A    | . | . | AF=0.0070892;AC=187;AN=26378;DS=Inova_CGI_founders-Nge3|Inova_Illumina_founders-Nge3|NA21732|SS6004475|Wellderly|phase3-ACB|phase3-ASW|phase3-ESN|phase3-GWD|phase3-LWK|phase3-MSL|phase3-PJL|phase3-PUR|phase3-YRI                                                                                                                                                                                                                                                                                                                                                                                                                                                                                                                                                                                                                                                                                                                                                                                                                                                           |\n",
       "\n"
      ],
      "text/plain": [
       "  #CHROM POS      ID          REF  ALT  QUAL FILTER\n",
       "1 1      10451799 rs4846217   C    T    .    .     \n",
       "2 1      28690858 rs4908346   C    T    .    .     \n",
       "3 1      28690858 rs796493340 CA   TG   .    .     \n",
       "4 1      28690858 .           CAAA TGAA .    .     \n",
       "5 1      36988612 rs12060242  G    C    .    .     \n",
       "6 1      53304050 rs115675756 G    A    .    .     \n",
       "  INFO                                                                                                                                                                                                                                                                                                                                                                                                                                                                                                                                                                                                                                                                                                                                                                                                                                                                                                                                                                                                                                                                         \n",
       "1 AF=0.1127076;AC=2973;AN=26378;DS=GS000010327|GS000010426|GS000010429|GS000010430|GS000010432|GS000010434|GS000011737|GS000011805|GS000011810|GS000011811|GS000011816|GS000014558|GS000014560|GS000014561|GS000014566|GS000015154|GS000015172|GS000015177|GS000015181|GS000015185|GS000015187|GS000015221|GS000015225|GS000015228|GS000015231|GS000015232|GS000015233|GS000015891|GS000015894|GS000016016|GS000016027|GS000016336|GS000016337|GS000016339|GS000016375|GS000016441|GS000016446|GS000016448|HGDP00521|HGDP00665|HGDP01284|ISB_founders-Nge3|Inova_CGI_founders-Nge3|Inova_Illumina_founders-Nge3|Malay|NA12889|NA21732|SS6004471|SSIP|UK10K|Wellderly|gonl|phase3-ACB|phase3-ASW|phase3-BEB|phase3-CDX|phase3-CEU|phase3-CHB|phase3-CLM|phase3-ESN|phase3-FIN|phase3-GBR|phase3-GIH|phase3-GWD|phase3-IBS|phase3-ITU|phase3-JPT|phase3-KHV|phase3-LWK|phase3-MSL|phase3-MXL|phase3-PEL|phase3-PJL|phase3-PUR|phase3-STU|phase3-TSI|phase3-YRI                                                                                                                   \n",
       "2 AF=0.1932671;AC=5098;AN=26378;DS=DNK02|GMIAK4|HGDP00521|HGDP00665|HGDP00927|HGDP0456|Inova_Illumina_founders-Nge3|Malay|SAIF|SS6004467|SS6004470|SS6004471|SS6004473|SS6004474|SS6004475|SSIP|Saqqaq|UK10K|gonl|phase3-ACB|phase3-ASW|phase3-BEB|phase3-CDX|phase3-CEU|phase3-CHB|phase3-CHS|phase3-CLM|phase3-ESN|phase3-FIN|phase3-GBR|phase3-GIH|phase3-GWD|phase3-IBS|phase3-ITU|phase3-JPT|phase3-KHV|phase3-LWK|phase3-MSL|phase3-MXL|phase3-PEL|phase3-PJL|phase3-PUR|phase3-STU|phase3-TSI|phase3-YRI                                                                                                                                                                                                                                                                                                                                                                                                                                                                                                                                                                \n",
       "3 AF=0.0581166;AC=1533;AN=26378;END=28690859;DS=GS000009920|GS000009928|GS000009930|GS000009931|GS000009932|GS000010320|GS000010323|GS000010327|GS000010427|GS000010428|GS000010432|GS000010435|GS000010437|GS000010494|GS000011737|GS000011739|GS000011740|GS000011741|GS000011804|GS000011805|GS000011807|GS000011809|GS000011812|GS000011814|GS000011815|GS000011816|GS000012712|GS000014558|GS000014559|GS000014560|GS000014561|GS000014562|GS000014564|GS000014565|GS000014570|GS000015152|GS000015172|GS000015174|GS000015176|GS000015177|GS000015178|GS000015180|GS000015188|GS000015189|GS000015191|GS000015225|GS000015227|GS000015229|GS000015231|GS000015708|GS000015885|GS000015886|GS000015887|GS000015888|GS000015889|GS000015890|GS000015891|GS000015893|GS000015895|GS000016015|GS000016016|GS000016028|GS000016030|GS000016333|GS000016334|GS000016335|GS000016337|GS000016339|GS000016370|GS000016372|GS000016374|GS000016441|GS000016442|GS000016446|GS000016449|ISB_founders-Nge3|Inova_CGI_founders-Nge3|NA12890|NA12892|NA21732|NA21737|NA21767|Wellderly\n",
       "4 AF=0.0001896;AC=5;AN=26378;END=28690861;DS=GS000012713|ISB_founders-Nge3                                                                                                                                                                                                                                                                                                                                                                                                                                                                                                                                                                                                                                                                                                                                                                                                                                                                                                                                                                                                     \n",
       "5 AF=0.1185837;AC=3128;AN=26378;DS=GS000009928|GS000009932|GS000010320|GS000010323|GS000010327|GS000010328|GS000010426|GS000010430|GS000010431|GS000010432|GS000010438|GS000011738|GS000011740|GS000011806|GS000011809|GS000011811|GS000011812|GS000011814|GS000014563|GS000015186|GS000015191|GS000015225|GS000015227|GS000015232|GS000015710|GS000015885|GS000015888|GS000015890|GS000015891|GS000015892|GS000016030|GS000016032|GS000016334|GS000016335|GS000016337|GS000016339|GS000016372|GS000016374|GS000016441|GS000016443|GS000016445|GS000016448|GS000016450|HGDP00542|HGDP01307|IRG0110|ISB_founders-Nge3|Inova_CGI_founders-Nge3|Inova_Illumina_founders-Nge3|J. Craig Venter|John West|Malay|NA12891|NA7022,18|SAIF|SS6004468|SSIP|UK10K|Wellderly|gonl|phase3-ACB|phase3-ASW|phase3-BEB|phase3-CDX|phase3-CEU|phase3-CHB|phase3-CHS|phase3-CLM|phase3-ESN|phase3-FIN|phase3-GBR|phase3-GIH|phase3-GWD|phase3-IBS|phase3-ITU|phase3-KHV|phase3-LWK|phase3-MXL|phase3-PEL|phase3-PJL|phase3-PUR|phase3-STU|phase3-TSI                                              \n",
       "6 AF=0.0070892;AC=187;AN=26378;DS=Inova_CGI_founders-Nge3|Inova_Illumina_founders-Nge3|NA21732|SS6004475|Wellderly|phase3-ACB|phase3-ASW|phase3-ESN|phase3-GWD|phase3-LWK|phase3-MSL|phase3-PJL|phase3-PUR|phase3-YRI                                                                                                                                                                                                                                                                                                                                                                                                                                                                                                                                                                                                                                                                                                                                                                                                                                                          "
      ]
     },
     "metadata": {},
     "output_type": "display_data"
    }
   ],
   "source": [
    "### set file directory\n",
    "fdiry = file.path(FD_RES, \"region\", \"control_tmpra\")\n",
    "fname = \"snps_OL13_rsid_query_kaviar_hg19.vcf\"\n",
    "fpath = file.path(fdiry, fname)\n",
    "\n",
    "### import data\n",
    "dat = read_tsv(fpath, comment = \"##\")\n",
    "\n",
    "### show info\n",
    "dat_snps_OL13_rsid_query_hg19 = dat\n",
    "print(dim(dat))\n",
    "head(dat)"
   ]
  },
  {
   "cell_type": "code",
   "execution_count": 20,
   "metadata": {},
   "outputs": [
    {
     "data": {
      "text/html": [
       "<table class=\"dataframe\">\n",
       "<caption>A tibble: 5 × 5</caption>\n",
       "<thead>\n",
       "\t<tr><th scope=col>row</th><th scope=col>col</th><th scope=col>expected</th><th scope=col>actual</th><th scope=col>file</th></tr>\n",
       "\t<tr><th scope=col>&lt;int&gt;</th><th scope=col>&lt;int&gt;</th><th scope=col>&lt;chr&gt;</th><th scope=col>&lt;chr&gt;</th><th scope=col>&lt;chr&gt;</th></tr>\n",
       "</thead>\n",
       "<tbody>\n",
       "\t<tr><td> 73</td><td>1</td><td>8 columns</td><td>1 columns</td><td></td></tr>\n",
       "\t<tr><td>100</td><td>1</td><td>8 columns</td><td>1 columns</td><td></td></tr>\n",
       "\t<tr><td>196</td><td>1</td><td>8 columns</td><td>1 columns</td><td></td></tr>\n",
       "\t<tr><td>247</td><td>1</td><td>8 columns</td><td>1 columns</td><td></td></tr>\n",
       "\t<tr><td>248</td><td>1</td><td>8 columns</td><td>1 columns</td><td></td></tr>\n",
       "</tbody>\n",
       "</table>\n"
      ],
      "text/latex": [
       "A tibble: 5 × 5\n",
       "\\begin{tabular}{lllll}\n",
       " row & col & expected & actual & file\\\\\n",
       " <int> & <int> & <chr> & <chr> & <chr>\\\\\n",
       "\\hline\n",
       "\t  73 & 1 & 8 columns & 1 columns & \\\\\n",
       "\t 100 & 1 & 8 columns & 1 columns & \\\\\n",
       "\t 196 & 1 & 8 columns & 1 columns & \\\\\n",
       "\t 247 & 1 & 8 columns & 1 columns & \\\\\n",
       "\t 248 & 1 & 8 columns & 1 columns & \\\\\n",
       "\\end{tabular}\n"
      ],
      "text/markdown": [
       "\n",
       "A tibble: 5 × 5\n",
       "\n",
       "| row &lt;int&gt; | col &lt;int&gt; | expected &lt;chr&gt; | actual &lt;chr&gt; | file &lt;chr&gt; |\n",
       "|---|---|---|---|---|\n",
       "|  73 | 1 | 8 columns | 1 columns | <!----> |\n",
       "| 100 | 1 | 8 columns | 1 columns | <!----> |\n",
       "| 196 | 1 | 8 columns | 1 columns | <!----> |\n",
       "| 247 | 1 | 8 columns | 1 columns | <!----> |\n",
       "| 248 | 1 | 8 columns | 1 columns | <!----> |\n",
       "\n"
      ],
      "text/plain": [
       "  row col expected  actual    file\n",
       "1  73 1   8 columns 1 columns     \n",
       "2 100 1   8 columns 1 columns     \n",
       "3 196 1   8 columns 1 columns     \n",
       "4 247 1   8 columns 1 columns     \n",
       "5 248 1   8 columns 1 columns     "
      ]
     },
     "metadata": {},
     "output_type": "display_data"
    }
   ],
   "source": [
    "problems(dat)"
   ]
  },
  {
   "cell_type": "markdown",
   "metadata": {},
   "source": [
    "## Merge"
   ]
  },
  {
   "cell_type": "code",
   "execution_count": 22,
   "metadata": {},
   "outputs": [
    {
     "data": {
      "text/html": [
       "<table class=\"dataframe\">\n",
       "<caption>A tibble: 6 × 6</caption>\n",
       "<thead>\n",
       "\t<tr><th scope=col>RSID</th><th scope=col>Chrom</th><th scope=col>Allele_Ref</th><th scope=col>Allele_Alt</th><th scope=col>Loc_hg19</th><th scope=col>Loc_hg38</th></tr>\n",
       "\t<tr><th scope=col>&lt;chr&gt;</th><th scope=col>&lt;fct&gt;</th><th scope=col>&lt;chr&gt;</th><th scope=col>&lt;chr&gt;</th><th scope=col>&lt;dbl&gt;</th><th scope=col>&lt;dbl&gt;</th></tr>\n",
       "</thead>\n",
       "<tbody>\n",
       "\t<tr><td>rs4846217  </td><td>chr1</td><td>C </td><td>T </td><td>10451799</td><td>10391742</td></tr>\n",
       "\t<tr><td>rs4908346  </td><td>chr1</td><td>C </td><td>T </td><td>28690858</td><td>28364347</td></tr>\n",
       "\t<tr><td>rs796493340</td><td>chr1</td><td>CA</td><td>TG</td><td>28690858</td><td>28364347</td></tr>\n",
       "\t<tr><td>rs12060242 </td><td>chr1</td><td>G </td><td>C </td><td>36988612</td><td>36523011</td></tr>\n",
       "\t<tr><td>rs115675756</td><td>chr1</td><td>G </td><td>A </td><td>53304050</td><td>52838378</td></tr>\n",
       "\t<tr><td>rs11163961 </td><td>chr1</td><td>C </td><td>T </td><td>76151253</td><td>75685568</td></tr>\n",
       "</tbody>\n",
       "</table>\n"
      ],
      "text/latex": [
       "A tibble: 6 × 6\n",
       "\\begin{tabular}{llllll}\n",
       " RSID & Chrom & Allele\\_Ref & Allele\\_Alt & Loc\\_hg19 & Loc\\_hg38\\\\\n",
       " <chr> & <fct> & <chr> & <chr> & <dbl> & <dbl>\\\\\n",
       "\\hline\n",
       "\t rs4846217   & chr1 & C  & T  & 10451799 & 10391742\\\\\n",
       "\t rs4908346   & chr1 & C  & T  & 28690858 & 28364347\\\\\n",
       "\t rs796493340 & chr1 & CA & TG & 28690858 & 28364347\\\\\n",
       "\t rs12060242  & chr1 & G  & C  & 36988612 & 36523011\\\\\n",
       "\t rs115675756 & chr1 & G  & A  & 53304050 & 52838378\\\\\n",
       "\t rs11163961  & chr1 & C  & T  & 76151253 & 75685568\\\\\n",
       "\\end{tabular}\n"
      ],
      "text/markdown": [
       "\n",
       "A tibble: 6 × 6\n",
       "\n",
       "| RSID &lt;chr&gt; | Chrom &lt;fct&gt; | Allele_Ref &lt;chr&gt; | Allele_Alt &lt;chr&gt; | Loc_hg19 &lt;dbl&gt; | Loc_hg38 &lt;dbl&gt; |\n",
       "|---|---|---|---|---|---|\n",
       "| rs4846217   | chr1 | C  | T  | 10451799 | 10391742 |\n",
       "| rs4908346   | chr1 | C  | T  | 28690858 | 28364347 |\n",
       "| rs796493340 | chr1 | CA | TG | 28690858 | 28364347 |\n",
       "| rs12060242  | chr1 | G  | C  | 36988612 | 36523011 |\n",
       "| rs115675756 | chr1 | G  | A  | 53304050 | 52838378 |\n",
       "| rs11163961  | chr1 | C  | T  | 76151253 | 75685568 |\n",
       "\n"
      ],
      "text/plain": [
       "  RSID        Chrom Allele_Ref Allele_Alt Loc_hg19 Loc_hg38\n",
       "1 rs4846217   chr1  C          T          10451799 10391742\n",
       "2 rs4908346   chr1  C          T          28690858 28364347\n",
       "3 rs796493340 chr1  CA         TG         28690858 28364347\n",
       "4 rs12060242  chr1  G          C          36988612 36523011\n",
       "5 rs115675756 chr1  G          A          53304050 52838378\n",
       "6 rs11163961  chr1  C          T          76151253 75685568"
      ]
     },
     "metadata": {},
     "output_type": "display_data"
    }
   ],
   "source": [
    "### init\n",
    "lst = list(\n",
    "    \"hg38\" = dat_snps_OL13_rsid_query_hg38,\n",
    "    \"hg19\" = dat_snps_OL13_rsid_query_hg19\n",
    ")\n",
    "\n",
    "### process\n",
    "lst = lapply(lst, function(dat){\n",
    "    dat = dat %>%\n",
    "        dplyr::mutate(\n",
    "            RSID     = ID,\n",
    "            Chrom    = paste0(\"chr\", `#CHROM`),\n",
    "            Loc = POS,\n",
    "            Allele_Ref = REF,\n",
    "            Allele_Alt = ALT\n",
    "        ) %>%\n",
    "        dplyr::filter(str_detect(RSID, \"rs\")) %>%\n",
    "        dplyr::select(RSID, Chrom, Loc, Allele_Ref, Allele_Alt) \n",
    "    return(dat)\n",
    "})\n",
    "\n",
    "### combine and arrange\n",
    "dat = bind_rows(lst, .id = \"Genome\")\n",
    "dat = dat %>% \n",
    "    dplyr::mutate(Genome = paste(\"Loc\", Genome, sep=\"_\")) %>% \n",
    "    dplyr::distinct() %>%\n",
    "    tidyr::spread(Genome, Loc) \n",
    "\n",
    "chroms = paste0(\"chr\", c(1:22, \"X\", \"Y\"))\n",
    "dat$Chrom = factor(dat$Chrom, levels=chroms)\n",
    "dat = dat %>% dplyr::arrange(Chrom, Loc_hg19)\n",
    "\n",
    "### assign and show\n",
    "dat_snps_OL13_rsid_query = dat\n",
    "head(dat)"
   ]
  },
  {
   "cell_type": "markdown",
   "metadata": {},
   "source": [
    "## Check if the SNPs has the correct information"
   ]
  },
  {
   "cell_type": "code",
   "execution_count": 24,
   "metadata": {},
   "outputs": [
    {
     "data": {
      "text/html": [
       "<table class=\"dataframe\">\n",
       "<caption>A tibble: 20 × 6</caption>\n",
       "<thead>\n",
       "\t<tr><th scope=col>RSID</th><th scope=col>Chrom</th><th scope=col>Allele_Ref</th><th scope=col>Allele_Alt</th><th scope=col>Loc_hg19</th><th scope=col>Loc_hg38</th></tr>\n",
       "\t<tr><th scope=col>&lt;chr&gt;</th><th scope=col>&lt;fct&gt;</th><th scope=col>&lt;chr&gt;</th><th scope=col>&lt;chr&gt;</th><th scope=col>&lt;dbl&gt;</th><th scope=col>&lt;dbl&gt;</th></tr>\n",
       "</thead>\n",
       "<tbody>\n",
       "\t<tr><td>rs1016110  </td><td>chr22</td><td>A  </td><td>C      </td><td> 42836337</td><td> 42440331</td></tr>\n",
       "\t<tr><td>rs10490679 </td><td>chr2 </td><td>A  </td><td>G      </td><td> 36497661</td><td> 36270518</td></tr>\n",
       "\t<tr><td>rs114035764</td><td>chr19</td><td>C  </td><td>T      </td><td> 52684996</td><td> 52181743</td></tr>\n",
       "\t<tr><td>rs139126   </td><td>chr22</td><td>T  </td><td>A      </td><td> 44577160</td><td> 44181280</td></tr>\n",
       "\t<tr><td>rs149201729</td><td>chr21</td><td>G  </td><td>A      </td><td> 32350413</td><td> 30978094</td></tr>\n",
       "\t<tr><td>rs1566698  </td><td>chr9 </td><td>A  </td><td>G      </td><td> 91480139</td><td> 88865224</td></tr>\n",
       "\t<tr><td>rs2216063  </td><td>chr16</td><td>G  </td><td>A      </td><td> 54387084</td><td> 54353172</td></tr>\n",
       "\t<tr><td>rs2384273  </td><td>chr10</td><td>C  </td><td>G      </td><td> 35272662</td><td> 34983734</td></tr>\n",
       "\t<tr><td>rs2850402  </td><td>chr4 </td><td>T  </td><td>C      </td><td>108065576</td><td>107144419</td></tr>\n",
       "\t<tr><td>rs2854183  </td><td>chr17</td><td>C  </td><td>T      </td><td> 61968002</td><td> 63890642</td></tr>\n",
       "\t<tr><td>rs386715665</td><td>chr7 </td><td>TGT</td><td>AGC,AGT</td><td> 89618632</td><td> 89989318</td></tr>\n",
       "\t<tr><td>rs4546732  </td><td>chr9 </td><td>A  </td><td>C      </td><td> 81584066</td><td> 78969150</td></tr>\n",
       "\t<tr><td>rs4855158  </td><td>chr3 </td><td>T  </td><td>C      </td><td> 86717820</td><td> 86668670</td></tr>\n",
       "\t<tr><td>rs62108166 </td><td>chr19</td><td>C  </td><td>T      </td><td> 13907805</td><td> 13796991</td></tr>\n",
       "\t<tr><td>rs62356690 </td><td>chr5 </td><td>C  </td><td>A      </td><td> 58387311</td><td> 59091484</td></tr>\n",
       "\t<tr><td>rs7116100  </td><td>chr11</td><td>T  </td><td>C      </td><td>111211739</td><td>111341014</td></tr>\n",
       "\t<tr><td>rs722643   </td><td>chr14</td><td>C  </td><td>T      </td><td> 92641615</td><td> 92175271</td></tr>\n",
       "\t<tr><td>rs7550949  </td><td>chr1 </td><td>C  </td><td>G      </td><td> 76166846</td><td> 75701161</td></tr>\n",
       "\t<tr><td>rs76819181 </td><td>chr9 </td><td>G  </td><td>T      </td><td> 92464255</td><td> 89762808</td></tr>\n",
       "\t<tr><td>rs9749442  </td><td>chr19</td><td>C  </td><td>G      </td><td> 58144519</td><td> 57633151</td></tr>\n",
       "</tbody>\n",
       "</table>\n"
      ],
      "text/latex": [
       "A tibble: 20 × 6\n",
       "\\begin{tabular}{llllll}\n",
       " RSID & Chrom & Allele\\_Ref & Allele\\_Alt & Loc\\_hg19 & Loc\\_hg38\\\\\n",
       " <chr> & <fct> & <chr> & <chr> & <dbl> & <dbl>\\\\\n",
       "\\hline\n",
       "\t rs1016110   & chr22 & A   & C       &  42836337 &  42440331\\\\\n",
       "\t rs10490679  & chr2  & A   & G       &  36497661 &  36270518\\\\\n",
       "\t rs114035764 & chr19 & C   & T       &  52684996 &  52181743\\\\\n",
       "\t rs139126    & chr22 & T   & A       &  44577160 &  44181280\\\\\n",
       "\t rs149201729 & chr21 & G   & A       &  32350413 &  30978094\\\\\n",
       "\t rs1566698   & chr9  & A   & G       &  91480139 &  88865224\\\\\n",
       "\t rs2216063   & chr16 & G   & A       &  54387084 &  54353172\\\\\n",
       "\t rs2384273   & chr10 & C   & G       &  35272662 &  34983734\\\\\n",
       "\t rs2850402   & chr4  & T   & C       & 108065576 & 107144419\\\\\n",
       "\t rs2854183   & chr17 & C   & T       &  61968002 &  63890642\\\\\n",
       "\t rs386715665 & chr7  & TGT & AGC,AGT &  89618632 &  89989318\\\\\n",
       "\t rs4546732   & chr9  & A   & C       &  81584066 &  78969150\\\\\n",
       "\t rs4855158   & chr3  & T   & C       &  86717820 &  86668670\\\\\n",
       "\t rs62108166  & chr19 & C   & T       &  13907805 &  13796991\\\\\n",
       "\t rs62356690  & chr5  & C   & A       &  58387311 &  59091484\\\\\n",
       "\t rs7116100   & chr11 & T   & C       & 111211739 & 111341014\\\\\n",
       "\t rs722643    & chr14 & C   & T       &  92641615 &  92175271\\\\\n",
       "\t rs7550949   & chr1  & C   & G       &  76166846 &  75701161\\\\\n",
       "\t rs76819181  & chr9  & G   & T       &  92464255 &  89762808\\\\\n",
       "\t rs9749442   & chr19 & C   & G       &  58144519 &  57633151\\\\\n",
       "\\end{tabular}\n"
      ],
      "text/markdown": [
       "\n",
       "A tibble: 20 × 6\n",
       "\n",
       "| RSID &lt;chr&gt; | Chrom &lt;fct&gt; | Allele_Ref &lt;chr&gt; | Allele_Alt &lt;chr&gt; | Loc_hg19 &lt;dbl&gt; | Loc_hg38 &lt;dbl&gt; |\n",
       "|---|---|---|---|---|---|\n",
       "| rs1016110   | chr22 | A   | C       |  42836337 |  42440331 |\n",
       "| rs10490679  | chr2  | A   | G       |  36497661 |  36270518 |\n",
       "| rs114035764 | chr19 | C   | T       |  52684996 |  52181743 |\n",
       "| rs139126    | chr22 | T   | A       |  44577160 |  44181280 |\n",
       "| rs149201729 | chr21 | G   | A       |  32350413 |  30978094 |\n",
       "| rs1566698   | chr9  | A   | G       |  91480139 |  88865224 |\n",
       "| rs2216063   | chr16 | G   | A       |  54387084 |  54353172 |\n",
       "| rs2384273   | chr10 | C   | G       |  35272662 |  34983734 |\n",
       "| rs2850402   | chr4  | T   | C       | 108065576 | 107144419 |\n",
       "| rs2854183   | chr17 | C   | T       |  61968002 |  63890642 |\n",
       "| rs386715665 | chr7  | TGT | AGC,AGT |  89618632 |  89989318 |\n",
       "| rs4546732   | chr9  | A   | C       |  81584066 |  78969150 |\n",
       "| rs4855158   | chr3  | T   | C       |  86717820 |  86668670 |\n",
       "| rs62108166  | chr19 | C   | T       |  13907805 |  13796991 |\n",
       "| rs62356690  | chr5  | C   | A       |  58387311 |  59091484 |\n",
       "| rs7116100   | chr11 | T   | C       | 111211739 | 111341014 |\n",
       "| rs722643    | chr14 | C   | T       |  92641615 |  92175271 |\n",
       "| rs7550949   | chr1  | C   | G       |  76166846 |  75701161 |\n",
       "| rs76819181  | chr9  | G   | T       |  92464255 |  89762808 |\n",
       "| rs9749442   | chr19 | C   | G       |  58144519 |  57633151 |\n",
       "\n"
      ],
      "text/plain": [
       "   RSID        Chrom Allele_Ref Allele_Alt Loc_hg19  Loc_hg38 \n",
       "1  rs1016110   chr22 A          C           42836337  42440331\n",
       "2  rs10490679  chr2  A          G           36497661  36270518\n",
       "3  rs114035764 chr19 C          T           52684996  52181743\n",
       "4  rs139126    chr22 T          A           44577160  44181280\n",
       "5  rs149201729 chr21 G          A           32350413  30978094\n",
       "6  rs1566698   chr9  A          G           91480139  88865224\n",
       "7  rs2216063   chr16 G          A           54387084  54353172\n",
       "8  rs2384273   chr10 C          G           35272662  34983734\n",
       "9  rs2850402   chr4  T          C          108065576 107144419\n",
       "10 rs2854183   chr17 C          T           61968002  63890642\n",
       "11 rs386715665 chr7  TGT        AGC,AGT     89618632  89989318\n",
       "12 rs4546732   chr9  A          C           81584066  78969150\n",
       "13 rs4855158   chr3  T          C           86717820  86668670\n",
       "14 rs62108166  chr19 C          T           13907805  13796991\n",
       "15 rs62356690  chr5  C          A           58387311  59091484\n",
       "16 rs7116100   chr11 T          C          111211739 111341014\n",
       "17 rs722643    chr14 C          T           92641615  92175271\n",
       "18 rs7550949   chr1  C          G           76166846  75701161\n",
       "19 rs76819181  chr9  G          T           92464255  89762808\n",
       "20 rs9749442   chr19 C          G           58144519  57633151"
      ]
     },
     "metadata": {},
     "output_type": "display_data"
    }
   ],
   "source": [
    "set.seed(123)\n",
    "dat = dat_snps_OL13_rsid_query\n",
    "dat = slice_sample(dat, n = 20) %>% arrange(RSID)\n",
    "dat"
   ]
  },
  {
   "cell_type": "markdown",
   "metadata": {},
   "source": [
    "- rs1016110    https://www.ncbi.nlm.nih.gov/snp/rs1016110\n",
    "    - chr22:42440331 (GRCh38.p14)\n",
    "    - A>C / A>G\n",
    "- rs10490679   https://www.ncbi.nlm.nih.gov/snp/rs10490679\n",
    "- rs114035764  https://www.ncbi.nlm.nih.gov/snp/rs114035764\n",
    "- rs139126     https://www.ncbi.nlm.nih.gov/snp/rs139126\n",
    "- rs149201729  https://www.ncbi.nlm.nih.gov/snp/rs149201729\n",
    "- rs1566698    https://www.ncbi.nlm.nih.gov/snp/rs1566698\n",
    "- rs2216063    https://www.ncbi.nlm.nih.gov/snp/rs2216063\n",
    "- rs2384273    https://www.ncbi.nlm.nih.gov/snp/rs2384273\n",
    "- rs2850402    https://www.ncbi.nlm.nih.gov/snp/rs2850402\n",
    "- rs2854183    https://www.ncbi.nlm.nih.gov/snp/rs2854183\n",
    "- rs386715665  https://www.ncbi.nlm.nih.gov/snp/rs386715665\n",
    "- rs4546732    https://www.ncbi.nlm.nih.gov/snp/rs4546732\n",
    "- rs4855158    https://www.ncbi.nlm.nih.gov/snp/rs4855158\n",
    "- rs62108166   https://www.ncbi.nlm.nih.gov/snp/rs62108166\n",
    "- rs62356690   https://www.ncbi.nlm.nih.gov/snp/rs62356690\n",
    "- rs7116100    https://www.ncbi.nlm.nih.gov/snp/rs7116100\n",
    "- rs722643     https://www.ncbi.nlm.nih.gov/snp/rs722643\n",
    "- rs7550949    https://www.ncbi.nlm.nih.gov/snp/rs7550949\n",
    "- rs76819181   https://www.ncbi.nlm.nih.gov/snp/rs76819181\n",
    "- rs9749442    https://www.ncbi.nlm.nih.gov/snp/rs9749442"
   ]
  },
  {
   "cell_type": "markdown",
   "metadata": {},
   "source": [
    "## Figure out the unmapped SNPs"
   ]
  },
  {
   "cell_type": "code",
   "execution_count": 26,
   "metadata": {},
   "outputs": [
    {
     "name": "stdout",
     "output_type": "stream",
     "text": [
      "[1] 199   6\n"
     ]
    },
    {
     "data": {
      "text/html": [
       "<table class=\"dataframe\">\n",
       "<caption>A tibble: 6 × 6</caption>\n",
       "<thead>\n",
       "\t<tr><th scope=col>SNP</th><th scope=col>Chrom</th><th scope=col>Allele_Ref</th><th scope=col>Allele_Alt</th><th scope=col>Loc_hg19</th><th scope=col>Loc_hg38</th></tr>\n",
       "\t<tr><th scope=col>&lt;chr&gt;</th><th scope=col>&lt;fct&gt;</th><th scope=col>&lt;chr&gt;</th><th scope=col>&lt;chr&gt;</th><th scope=col>&lt;dbl&gt;</th><th scope=col>&lt;dbl&gt;</th></tr>\n",
       "</thead>\n",
       "<tbody>\n",
       "\t<tr><td>rs10035423</td><td>chr5 </td><td>A</td><td>G</td><td>119306380</td><td>119970685</td></tr>\n",
       "\t<tr><td>rs1008917 </td><td>chr15</td><td>T</td><td>C</td><td> 65059651</td><td> 64767452</td></tr>\n",
       "\t<tr><td>rs10146602</td><td>chr14</td><td>T</td><td>C</td><td> 89693105</td><td> 89226761</td></tr>\n",
       "\t<tr><td>rs10146759</td><td>chr14</td><td>C</td><td>T</td><td> 24899194</td><td> 24429988</td></tr>\n",
       "\t<tr><td>rs1016110 </td><td>chr22</td><td>A</td><td>C</td><td> 42836337</td><td> 42440331</td></tr>\n",
       "\t<tr><td>rs10201513</td><td>chr2 </td><td>A</td><td>C</td><td> 88955614</td><td> 88656096</td></tr>\n",
       "</tbody>\n",
       "</table>\n"
      ],
      "text/latex": [
       "A tibble: 6 × 6\n",
       "\\begin{tabular}{llllll}\n",
       " SNP & Chrom & Allele\\_Ref & Allele\\_Alt & Loc\\_hg19 & Loc\\_hg38\\\\\n",
       " <chr> & <fct> & <chr> & <chr> & <dbl> & <dbl>\\\\\n",
       "\\hline\n",
       "\t rs10035423 & chr5  & A & G & 119306380 & 119970685\\\\\n",
       "\t rs1008917  & chr15 & T & C &  65059651 &  64767452\\\\\n",
       "\t rs10146602 & chr14 & T & C &  89693105 &  89226761\\\\\n",
       "\t rs10146759 & chr14 & C & T &  24899194 &  24429988\\\\\n",
       "\t rs1016110  & chr22 & A & C &  42836337 &  42440331\\\\\n",
       "\t rs10201513 & chr2  & A & C &  88955614 &  88656096\\\\\n",
       "\\end{tabular}\n"
      ],
      "text/markdown": [
       "\n",
       "A tibble: 6 × 6\n",
       "\n",
       "| SNP &lt;chr&gt; | Chrom &lt;fct&gt; | Allele_Ref &lt;chr&gt; | Allele_Alt &lt;chr&gt; | Loc_hg19 &lt;dbl&gt; | Loc_hg38 &lt;dbl&gt; |\n",
       "|---|---|---|---|---|---|\n",
       "| rs10035423 | chr5  | A | G | 119306380 | 119970685 |\n",
       "| rs1008917  | chr15 | T | C |  65059651 |  64767452 |\n",
       "| rs10146602 | chr14 | T | C |  89693105 |  89226761 |\n",
       "| rs10146759 | chr14 | C | T |  24899194 |  24429988 |\n",
       "| rs1016110  | chr22 | A | C |  42836337 |  42440331 |\n",
       "| rs10201513 | chr2  | A | C |  88955614 |  88656096 |\n",
       "\n"
      ],
      "text/plain": [
       "  SNP        Chrom Allele_Ref Allele_Alt Loc_hg19  Loc_hg38 \n",
       "1 rs10035423 chr5  A          G          119306380 119970685\n",
       "2 rs1008917  chr15 T          C           65059651  64767452\n",
       "3 rs10146602 chr14 T          C           89693105  89226761\n",
       "4 rs10146759 chr14 C          T           24899194  24429988\n",
       "5 rs1016110  chr22 A          C           42836337  42440331\n",
       "6 rs10201513 chr2  A          C           88955614  88656096"
      ]
     },
     "metadata": {},
     "output_type": "display_data"
    }
   ],
   "source": [
    "###\n",
    "dat = dat_snps_OL13_rsid_info\n",
    "\n",
    "###\n",
    "dat = dat %>% \n",
    "    dplyr::select(SNP) %>%\n",
    "    dplyr::left_join(dat_snps_OL13_rsid_query, by=c(\"SNP\"=\"RSID\"))\n",
    "\n",
    "###\n",
    "dat_snps_combine = dat\n",
    "print(dim(dat))\n",
    "head(dat)"
   ]
  },
  {
   "cell_type": "code",
   "execution_count": 27,
   "metadata": {},
   "outputs": [
    {
     "name": "stdout",
     "output_type": "stream",
     "text": [
      "[1] 14  6\n"
     ]
    },
    {
     "data": {
      "text/html": [
       "<table class=\"dataframe\">\n",
       "<caption>A tibble: 6 × 6</caption>\n",
       "<thead>\n",
       "\t<tr><th scope=col>SNP</th><th scope=col>Chrom</th><th scope=col>Allele_Ref</th><th scope=col>Allele_Alt</th><th scope=col>Loc_hg19</th><th scope=col>Loc_hg38</th></tr>\n",
       "\t<tr><th scope=col>&lt;chr&gt;</th><th scope=col>&lt;fct&gt;</th><th scope=col>&lt;chr&gt;</th><th scope=col>&lt;chr&gt;</th><th scope=col>&lt;dbl&gt;</th><th scope=col>&lt;dbl&gt;</th></tr>\n",
       "</thead>\n",
       "<tbody>\n",
       "\t<tr><td>rs112554467</td><td>NA</td><td>NA</td><td>NA</td><td>NA</td><td>NA</td></tr>\n",
       "\t<tr><td>rs113065267</td><td>NA</td><td>NA</td><td>NA</td><td>NA</td><td>NA</td></tr>\n",
       "\t<tr><td>rs115014431</td><td>NA</td><td>NA</td><td>NA</td><td>NA</td><td>NA</td></tr>\n",
       "\t<tr><td>rs116025516</td><td>NA</td><td>NA</td><td>NA</td><td>NA</td><td>NA</td></tr>\n",
       "\t<tr><td>rs116100242</td><td>NA</td><td>NA</td><td>NA</td><td>NA</td><td>NA</td></tr>\n",
       "\t<tr><td>rs117188042</td><td>NA</td><td>NA</td><td>NA</td><td>NA</td><td>NA</td></tr>\n",
       "</tbody>\n",
       "</table>\n"
      ],
      "text/latex": [
       "A tibble: 6 × 6\n",
       "\\begin{tabular}{llllll}\n",
       " SNP & Chrom & Allele\\_Ref & Allele\\_Alt & Loc\\_hg19 & Loc\\_hg38\\\\\n",
       " <chr> & <fct> & <chr> & <chr> & <dbl> & <dbl>\\\\\n",
       "\\hline\n",
       "\t rs112554467 & NA & NA & NA & NA & NA\\\\\n",
       "\t rs113065267 & NA & NA & NA & NA & NA\\\\\n",
       "\t rs115014431 & NA & NA & NA & NA & NA\\\\\n",
       "\t rs116025516 & NA & NA & NA & NA & NA\\\\\n",
       "\t rs116100242 & NA & NA & NA & NA & NA\\\\\n",
       "\t rs117188042 & NA & NA & NA & NA & NA\\\\\n",
       "\\end{tabular}\n"
      ],
      "text/markdown": [
       "\n",
       "A tibble: 6 × 6\n",
       "\n",
       "| SNP &lt;chr&gt; | Chrom &lt;fct&gt; | Allele_Ref &lt;chr&gt; | Allele_Alt &lt;chr&gt; | Loc_hg19 &lt;dbl&gt; | Loc_hg38 &lt;dbl&gt; |\n",
       "|---|---|---|---|---|---|\n",
       "| rs112554467 | NA | NA | NA | NA | NA |\n",
       "| rs113065267 | NA | NA | NA | NA | NA |\n",
       "| rs115014431 | NA | NA | NA | NA | NA |\n",
       "| rs116025516 | NA | NA | NA | NA | NA |\n",
       "| rs116100242 | NA | NA | NA | NA | NA |\n",
       "| rs117188042 | NA | NA | NA | NA | NA |\n",
       "\n"
      ],
      "text/plain": [
       "  SNP         Chrom Allele_Ref Allele_Alt Loc_hg19 Loc_hg38\n",
       "1 rs112554467 NA    NA         NA         NA       NA      \n",
       "2 rs113065267 NA    NA         NA         NA       NA      \n",
       "3 rs115014431 NA    NA         NA         NA       NA      \n",
       "4 rs116025516 NA    NA         NA         NA       NA      \n",
       "5 rs116100242 NA    NA         NA         NA       NA      \n",
       "6 rs117188042 NA    NA         NA         NA       NA      "
      ]
     },
     "metadata": {},
     "output_type": "display_data"
    }
   ],
   "source": [
    "dat = dat_snps_combine\n",
    "dat = dat %>% dplyr::filter(is.na(Chrom))\n",
    "\n",
    "dat_snps_ummapped = dat\n",
    "print(dim(dat))\n",
    "head(dat)"
   ]
  },
  {
   "cell_type": "markdown",
   "metadata": {},
   "source": [
    "## Store th unmapped SNPs into a list"
   ]
  },
  {
   "cell_type": "code",
   "execution_count": 28,
   "metadata": {},
   "outputs": [],
   "source": [
    "fdiry = file.path(FD_RES, \"region\", \"control_tmpra\")\n",
    "fname = \"snps_OL13_rsid_list_unmapped.tsv\"\n",
    "fpath = file.path(fdiry, fname)\n",
    "\n",
    "dat = dat_snps_ummapped \n",
    "write_tsv(dat, fpath)"
   ]
  },
  {
   "cell_type": "code",
   "execution_count": null,
   "metadata": {},
   "outputs": [],
   "source": []
  }
 ],
 "metadata": {
  "kernelspec": {
   "display_name": "R",
   "language": "R",
   "name": "ir"
  },
  "language_info": {
   "codemirror_mode": "r",
   "file_extension": ".r",
   "mimetype": "text/x-r-source",
   "name": "R",
   "pygments_lexer": "r",
   "version": "4.2.2"
  }
 },
 "nbformat": 4,
 "nbformat_minor": 4
}
