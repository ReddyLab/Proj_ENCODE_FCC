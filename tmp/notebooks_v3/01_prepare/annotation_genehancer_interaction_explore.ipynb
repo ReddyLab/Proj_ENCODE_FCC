{
 "cells": [
  {
   "cell_type": "code",
   "execution_count": 1,
   "id": "8d7739db",
   "metadata": {},
   "outputs": [
    {
     "name": "stdout",
     "output_type": "stream",
     "text": [
      "You are in Singularity: singularity_proj_combeffect \n",
      "BASE DIRECTORY:     /data/reddylab/Kuei \n",
      "WORK DIRECTORY:     /data/reddylab/Kuei/out \n",
      "CODE DIRECTORY:     /data/reddylab/Kuei/code \n",
      "PATH OF SOURCE:     /data/reddylab/Kuei/source \n",
      "PATH OF EXECUTABLE: /data/reddylab/Kuei/bin \n",
      "PATH OF ANNOTATION: /data/reddylab/Kuei/annotation \n",
      "PATH OF PROJECT:    /data/reddylab/Kuei/code/Proj_CombEffect_ENCODE_FCC \n",
      "PATH OF RESULTS:    /data/reddylab/Kuei/out/proj_combeffect_encode_fcc \n"
     ]
    }
   ],
   "source": [
    "suppressMessages(suppressWarnings(source(\"../config/config_sing.R\")))\n",
    "show_env()"
   ]
  },
  {
   "cell_type": "code",
   "execution_count": 2,
   "id": "681ca7f0",
   "metadata": {},
   "outputs": [
    {
     "name": "stdout",
     "output_type": "stream",
     "text": [
      " [1] \"geneHancerInteractions_hg38_chr11.tsv\"             \n",
      " [2] \"geneHancerInteractions_hg38_chr8.tsv\"              \n",
      " [3] \"geneHancerInteractions_hg38_chrX.tsv\"              \n",
      " [4] \"geneHancerInteractionsDoubleElite_hg38_chr11.tsv\"  \n",
      " [5] \"geneHancerInteractionsDoubleElite_hg38_chr8.tsv\"   \n",
      " [6] \"geneHancerInteractionsDoubleElite_hg38_chrX.tsv\"   \n",
      " [7] \"geneHancerRegElements_hg38_chr11.bed\"              \n",
      " [8] \"geneHancerRegElements_hg38_chr11.tsv\"              \n",
      " [9] \"geneHancerRegElements_hg38_chr8.bed\"               \n",
      "[10] \"geneHancerRegElements_hg38_chr8.tsv\"               \n",
      "[11] \"geneHancerRegElements_hg38_chrX.bed\"               \n",
      "[12] \"geneHancerRegElements_hg38_chrX.tsv\"               \n",
      "[13] \"geneHancerRegElements_hg38.bed\"                    \n",
      "[14] \"geneHancerRegElementsDoubleElite_hg38_chr11.bed\"   \n",
      "[15] \"geneHancerRegElementsDoubleElite_hg38_chr11.tsv\"   \n",
      "[16] \"geneHancerRegElementsDoubleElite_hg38_chr8.bed\"    \n",
      "[17] \"geneHancerRegElementsDoubleElite_hg38_chr8.tsv\"    \n",
      "[18] \"geneHancerRegElementsDoubleElite_hg38_chrX.bed\"    \n",
      "[19] \"geneHancerRegElementsDoubleElite_hg38_chrX.tsv\"    \n",
      "[20] \"geneHancerRegElementsDoubleElite_hg38.bed\"         \n",
      "[21] \"hub_3160057_GeneHancer_double_elite_hg38_chr11.bed\"\n",
      "[22] \"hub_3160057_GeneHancer_double_elite_hg38_chr11.tsv\"\n",
      "[23] \"hub_3160057_GeneHancer_double_elite_hg38_chr8.bed\" \n",
      "[24] \"hub_3160057_GeneHancer_double_elite_hg38_chr8.tsv\" \n",
      "[25] \"hub_3160057_GeneHancer_double_elite_hg38_chrX.bed\" \n",
      "[26] \"hub_3160057_GeneHancer_double_elite_hg38_chrX.tsv\" \n",
      "[27] \"hub_3160057_GeneHancer_double_elite_hg38.bed\"      \n",
      "[28] \"hub_3160057_GeneHancer_hg38_chr11.bed\"             \n",
      "[29] \"hub_3160057_GeneHancer_hg38_chr11.tsv\"             \n",
      "[30] \"hub_3160057_GeneHancer_hg38_chr8.bed\"              \n",
      "[31] \"hub_3160057_GeneHancer_hg38_chr8.tsv\"              \n",
      "[32] \"hub_3160057_GeneHancer_hg38_chrX.bed\"              \n",
      "[33] \"hub_3160057_GeneHancer_hg38_chrX.tsv\"              \n",
      "[34] \"hub_3160057_GeneHancer_hg38.bed\"                   \n"
     ]
    }
   ],
   "source": [
    "fdiry = file.path(FD_RES, \"region\", \"annotation_genehancer\")\n",
    "print(dir(fdiry))"
   ]
  },
  {
   "cell_type": "code",
   "execution_count": 3,
   "id": "fda7429f",
   "metadata": {},
   "outputs": [
    {
     "name": "stdout",
     "output_type": "stream",
     "text": [
      "[1] 14260    18\n"
     ]
    },
    {
     "data": {
      "text/html": [
       "<table class=\"dataframe\">\n",
       "<caption>A tibble: 6 × 18</caption>\n",
       "<thead>\n",
       "\t<tr><th scope=col>chrom</th><th scope=col>chromStart</th><th scope=col>chromEnd</th><th scope=col>name</th><th scope=col>score</th><th scope=col>value</th><th scope=col>geneAssociationMethods</th><th scope=col>color</th><th scope=col>geneHancerChrom</th><th scope=col>geneHancerStart</th><th scope=col>geneHancerEnd</th><th scope=col>geneHancerIdentifier</th><th scope=col>geneHancerStrand</th><th scope=col>geneChrom</th><th scope=col>geneStart</th><th scope=col>geneEnd</th><th scope=col>geneName</th><th scope=col>geneStrand</th></tr>\n",
       "\t<tr><th scope=col>&lt;chr&gt;</th><th scope=col>&lt;dbl&gt;</th><th scope=col>&lt;dbl&gt;</th><th scope=col>&lt;chr&gt;</th><th scope=col>&lt;dbl&gt;</th><th scope=col>&lt;dbl&gt;</th><th scope=col>&lt;chr&gt;</th><th scope=col>&lt;chr&gt;</th><th scope=col>&lt;chr&gt;</th><th scope=col>&lt;dbl&gt;</th><th scope=col>&lt;dbl&gt;</th><th scope=col>&lt;chr&gt;</th><th scope=col>&lt;chr&gt;</th><th scope=col>&lt;chr&gt;</th><th scope=col>&lt;dbl&gt;</th><th scope=col>&lt;dbl&gt;</th><th scope=col>&lt;chr&gt;</th><th scope=col>&lt;chr&gt;</th></tr>\n",
       "</thead>\n",
       "<tbody>\n",
       "\t<tr><td>chrX</td><td> 13390</td><td>253743</td><td>ENSG00000228572/GH0XJ000013</td><td>2</td><td>0.04</td><td>Distance</td><td>77,190,238</td><td>chrX</td><td> 13390</td><td> 14928</td><td>GH0XJ000013</td><td>.</td><td>chrX</td><td>253742</td><td>253743</td><td>ENSG00000228572</td><td>+</td></tr>\n",
       "\t<tr><td>chrX</td><td> 17474</td><td>253743</td><td>ENSG00000228572/GH0XJ000017</td><td>2</td><td>0.04</td><td>Distance</td><td>77,190,238</td><td>chrX</td><td> 17474</td><td> 20600</td><td>GH0XJ000017</td><td>.</td><td>chrX</td><td>253742</td><td>253743</td><td>ENSG00000228572</td><td>+</td></tr>\n",
       "\t<tr><td>chrX</td><td> 94800</td><td>253743</td><td>ENSG00000228572/GH0XJ000094</td><td>2</td><td>0.02</td><td>Distance</td><td>77,190,238</td><td>chrX</td><td> 94800</td><td> 95400</td><td>GH0XJ000094</td><td>.</td><td>chrX</td><td>253742</td><td>253743</td><td>ENSG00000228572</td><td>+</td></tr>\n",
       "\t<tr><td>chrX</td><td>225927</td><td>253743</td><td>ENSG00000228572/GH0XJ000225</td><td>2</td><td>0.06</td><td>Distance</td><td>77,190,238</td><td>chrX</td><td>225927</td><td>227643</td><td>GH0XJ000225</td><td>.</td><td>chrX</td><td>253742</td><td>253743</td><td>ENSG00000228572</td><td>+</td></tr>\n",
       "\t<tr><td>chrX</td><td>230148</td><td>253743</td><td>ENSG00000228572/GH0XJ000230</td><td>2</td><td>0.07</td><td>Distance</td><td>77,190,238</td><td>chrX</td><td>230148</td><td>233000</td><td>GH0XJ000230</td><td>.</td><td>chrX</td><td>253742</td><td>253743</td><td>ENSG00000228572</td><td>+</td></tr>\n",
       "\t<tr><td>chrX</td><td>249800</td><td>253743</td><td>ENSG00000228572/GH0XJ000249</td><td>2</td><td>0.34</td><td>Distance</td><td>77,190,238</td><td>chrX</td><td>249800</td><td>251200</td><td>GH0XJ000249</td><td>.</td><td>chrX</td><td>253742</td><td>253743</td><td>ENSG00000228572</td><td>+</td></tr>\n",
       "</tbody>\n",
       "</table>\n"
      ],
      "text/latex": [
       "A tibble: 6 × 18\n",
       "\\begin{tabular}{llllllllllllllllll}\n",
       " chrom & chromStart & chromEnd & name & score & value & geneAssociationMethods & color & geneHancerChrom & geneHancerStart & geneHancerEnd & geneHancerIdentifier & geneHancerStrand & geneChrom & geneStart & geneEnd & geneName & geneStrand\\\\\n",
       " <chr> & <dbl> & <dbl> & <chr> & <dbl> & <dbl> & <chr> & <chr> & <chr> & <dbl> & <dbl> & <chr> & <chr> & <chr> & <dbl> & <dbl> & <chr> & <chr>\\\\\n",
       "\\hline\n",
       "\t chrX &  13390 & 253743 & ENSG00000228572/GH0XJ000013 & 2 & 0.04 & Distance & 77,190,238 & chrX &  13390 &  14928 & GH0XJ000013 & . & chrX & 253742 & 253743 & ENSG00000228572 & +\\\\\n",
       "\t chrX &  17474 & 253743 & ENSG00000228572/GH0XJ000017 & 2 & 0.04 & Distance & 77,190,238 & chrX &  17474 &  20600 & GH0XJ000017 & . & chrX & 253742 & 253743 & ENSG00000228572 & +\\\\\n",
       "\t chrX &  94800 & 253743 & ENSG00000228572/GH0XJ000094 & 2 & 0.02 & Distance & 77,190,238 & chrX &  94800 &  95400 & GH0XJ000094 & . & chrX & 253742 & 253743 & ENSG00000228572 & +\\\\\n",
       "\t chrX & 225927 & 253743 & ENSG00000228572/GH0XJ000225 & 2 & 0.06 & Distance & 77,190,238 & chrX & 225927 & 227643 & GH0XJ000225 & . & chrX & 253742 & 253743 & ENSG00000228572 & +\\\\\n",
       "\t chrX & 230148 & 253743 & ENSG00000228572/GH0XJ000230 & 2 & 0.07 & Distance & 77,190,238 & chrX & 230148 & 233000 & GH0XJ000230 & . & chrX & 253742 & 253743 & ENSG00000228572 & +\\\\\n",
       "\t chrX & 249800 & 253743 & ENSG00000228572/GH0XJ000249 & 2 & 0.34 & Distance & 77,190,238 & chrX & 249800 & 251200 & GH0XJ000249 & . & chrX & 253742 & 253743 & ENSG00000228572 & +\\\\\n",
       "\\end{tabular}\n"
      ],
      "text/markdown": [
       "\n",
       "A tibble: 6 × 18\n",
       "\n",
       "| chrom &lt;chr&gt; | chromStart &lt;dbl&gt; | chromEnd &lt;dbl&gt; | name &lt;chr&gt; | score &lt;dbl&gt; | value &lt;dbl&gt; | geneAssociationMethods &lt;chr&gt; | color &lt;chr&gt; | geneHancerChrom &lt;chr&gt; | geneHancerStart &lt;dbl&gt; | geneHancerEnd &lt;dbl&gt; | geneHancerIdentifier &lt;chr&gt; | geneHancerStrand &lt;chr&gt; | geneChrom &lt;chr&gt; | geneStart &lt;dbl&gt; | geneEnd &lt;dbl&gt; | geneName &lt;chr&gt; | geneStrand &lt;chr&gt; |\n",
       "|---|---|---|---|---|---|---|---|---|---|---|---|---|---|---|---|---|---|\n",
       "| chrX |  13390 | 253743 | ENSG00000228572/GH0XJ000013 | 2 | 0.04 | Distance | 77,190,238 | chrX |  13390 |  14928 | GH0XJ000013 | . | chrX | 253742 | 253743 | ENSG00000228572 | + |\n",
       "| chrX |  17474 | 253743 | ENSG00000228572/GH0XJ000017 | 2 | 0.04 | Distance | 77,190,238 | chrX |  17474 |  20600 | GH0XJ000017 | . | chrX | 253742 | 253743 | ENSG00000228572 | + |\n",
       "| chrX |  94800 | 253743 | ENSG00000228572/GH0XJ000094 | 2 | 0.02 | Distance | 77,190,238 | chrX |  94800 |  95400 | GH0XJ000094 | . | chrX | 253742 | 253743 | ENSG00000228572 | + |\n",
       "| chrX | 225927 | 253743 | ENSG00000228572/GH0XJ000225 | 2 | 0.06 | Distance | 77,190,238 | chrX | 225927 | 227643 | GH0XJ000225 | . | chrX | 253742 | 253743 | ENSG00000228572 | + |\n",
       "| chrX | 230148 | 253743 | ENSG00000228572/GH0XJ000230 | 2 | 0.07 | Distance | 77,190,238 | chrX | 230148 | 233000 | GH0XJ000230 | . | chrX | 253742 | 253743 | ENSG00000228572 | + |\n",
       "| chrX | 249800 | 253743 | ENSG00000228572/GH0XJ000249 | 2 | 0.34 | Distance | 77,190,238 | chrX | 249800 | 251200 | GH0XJ000249 | . | chrX | 253742 | 253743 | ENSG00000228572 | + |\n",
       "\n"
      ],
      "text/plain": [
       "  chrom chromStart chromEnd name                        score value\n",
       "1 chrX   13390     253743   ENSG00000228572/GH0XJ000013 2     0.04 \n",
       "2 chrX   17474     253743   ENSG00000228572/GH0XJ000017 2     0.04 \n",
       "3 chrX   94800     253743   ENSG00000228572/GH0XJ000094 2     0.02 \n",
       "4 chrX  225927     253743   ENSG00000228572/GH0XJ000225 2     0.06 \n",
       "5 chrX  230148     253743   ENSG00000228572/GH0XJ000230 2     0.07 \n",
       "6 chrX  249800     253743   ENSG00000228572/GH0XJ000249 2     0.34 \n",
       "  geneAssociationMethods color      geneHancerChrom geneHancerStart\n",
       "1 Distance               77,190,238 chrX             13390         \n",
       "2 Distance               77,190,238 chrX             17474         \n",
       "3 Distance               77,190,238 chrX             94800         \n",
       "4 Distance               77,190,238 chrX            225927         \n",
       "5 Distance               77,190,238 chrX            230148         \n",
       "6 Distance               77,190,238 chrX            249800         \n",
       "  geneHancerEnd geneHancerIdentifier geneHancerStrand geneChrom geneStart\n",
       "1  14928        GH0XJ000013          .                chrX      253742   \n",
       "2  20600        GH0XJ000017          .                chrX      253742   \n",
       "3  95400        GH0XJ000094          .                chrX      253742   \n",
       "4 227643        GH0XJ000225          .                chrX      253742   \n",
       "5 233000        GH0XJ000230          .                chrX      253742   \n",
       "6 251200        GH0XJ000249          .                chrX      253742   \n",
       "  geneEnd geneName        geneStrand\n",
       "1 253743  ENSG00000228572 +         \n",
       "2 253743  ENSG00000228572 +         \n",
       "3 253743  ENSG00000228572 +         \n",
       "4 253743  ENSG00000228572 +         \n",
       "5 253743  ENSG00000228572 +         \n",
       "6 253743  ENSG00000228572 +         "
      ]
     },
     "metadata": {},
     "output_type": "display_data"
    }
   ],
   "source": [
    "###\n",
    "fdiry = file.path(FD_RES, \"region\", \"annotation_genehancer\")\n",
    "fname = \"geneHancerInteractions_hg38_chrX.tsv\"\n",
    "fpath = file.path(fdiry, fname)\n",
    "\n",
    "###\n",
    "dat = read_tsv(fpath, show_col_types = FALSE)\n",
    "colnames(dat)[1] = \"chrom\"\n",
    "\n",
    "###\n",
    "dat_ghancer = dat\n",
    "print(dim(dat))\n",
    "head(dat)"
   ]
  },
  {
   "cell_type": "code",
   "execution_count": 4,
   "id": "14eb8420",
   "metadata": {},
   "outputs": [
    {
     "name": "stdout",
     "output_type": "stream",
     "text": [
      "[1] 1050   18\n"
     ]
    },
    {
     "data": {
      "text/html": [
       "<table class=\"dataframe\">\n",
       "<caption>A tibble: 6 × 18</caption>\n",
       "<thead>\n",
       "\t<tr><th scope=col>chrom</th><th scope=col>chromStart</th><th scope=col>chromEnd</th><th scope=col>name</th><th scope=col>score</th><th scope=col>value</th><th scope=col>geneAssociationMethods</th><th scope=col>color</th><th scope=col>geneHancerChrom</th><th scope=col>geneHancerStart</th><th scope=col>geneHancerEnd</th><th scope=col>geneHancerIdentifier</th><th scope=col>geneHancerStrand</th><th scope=col>geneChrom</th><th scope=col>geneStart</th><th scope=col>geneEnd</th><th scope=col>geneName</th><th scope=col>geneStrand</th></tr>\n",
       "\t<tr><th scope=col>&lt;chr&gt;</th><th scope=col>&lt;dbl&gt;</th><th scope=col>&lt;dbl&gt;</th><th scope=col>&lt;chr&gt;</th><th scope=col>&lt;dbl&gt;</th><th scope=col>&lt;dbl&gt;</th><th scope=col>&lt;chr&gt;</th><th scope=col>&lt;chr&gt;</th><th scope=col>&lt;chr&gt;</th><th scope=col>&lt;dbl&gt;</th><th scope=col>&lt;dbl&gt;</th><th scope=col>&lt;chr&gt;</th><th scope=col>&lt;chr&gt;</th><th scope=col>&lt;chr&gt;</th><th scope=col>&lt;dbl&gt;</th><th scope=col>&lt;dbl&gt;</th><th scope=col>&lt;chr&gt;</th><th scope=col>&lt;chr&gt;</th></tr>\n",
       "</thead>\n",
       "<tbody>\n",
       "\t<tr><td>chrX</td><td> 319144</td><td> 374201</td><td>LINC00685/GH0XJ000373</td><td>8</td><td>15.08</td><td>C-HiC,Distance             </td><td>217,83,25</td><td>chrX</td><td> 373399</td><td> 374201</td><td>GH0XJ000373</td><td>.</td><td>chrX</td><td> 319144</td><td> 319145</td><td>LINC00685</td><td>+</td></tr>\n",
       "\t<tr><td>chrX</td><td> 319144</td><td> 372400</td><td>LINC00685/GH0XJ000372</td><td>4</td><td> 6.75</td><td>C-HiC,Distance             </td><td>217,83,25</td><td>chrX</td><td> 372000</td><td> 372400</td><td>GH0XJ000372</td><td>.</td><td>chrX</td><td> 319144</td><td> 319145</td><td>LINC00685</td><td>+</td></tr>\n",
       "\t<tr><td>chrX</td><td> 319144</td><td> 371831</td><td>LINC00685/GH0XJ000367</td><td>6</td><td> 9.95</td><td>C-HiC,Distance             </td><td>217,83,25</td><td>chrX</td><td> 367923</td><td> 371831</td><td>GH0XJ000367</td><td>.</td><td>chrX</td><td> 319144</td><td> 319145</td><td>LINC00685</td><td>+</td></tr>\n",
       "\t<tr><td>chrX</td><td>1208200</td><td>1212815</td><td>CRLF2/GH0XJ001208    </td><td>3</td><td> 2.72</td><td>eRNA_co-expression,Distance</td><td>0,114,189</td><td>chrX</td><td>1208200</td><td>1209074</td><td>GH0XJ001208</td><td>.</td><td>chrX</td><td>1212814</td><td>1212815</td><td>CRLF2    </td><td>-</td></tr>\n",
       "\t<tr><td>chrX</td><td>1212814</td><td>1250400</td><td>CRLF2/GH0XJ001247    </td><td>4</td><td> 6.33</td><td>eRNA_co-expression,Distance</td><td>0,114,189</td><td>chrX</td><td>1247967</td><td>1250400</td><td>GH0XJ001247</td><td>.</td><td>chrX</td><td>1212814</td><td>1212815</td><td>CRLF2    </td><td>-</td></tr>\n",
       "\t<tr><td>chrX</td><td>1212814</td><td>1240400</td><td>CRLF2/GH0XJ001239    </td><td>3</td><td> 3.75</td><td>eRNA_co-expression,Distance</td><td>0,114,189</td><td>chrX</td><td>1239400</td><td>1240400</td><td>GH0XJ001239</td><td>.</td><td>chrX</td><td>1212814</td><td>1212815</td><td>CRLF2    </td><td>-</td></tr>\n",
       "</tbody>\n",
       "</table>\n"
      ],
      "text/latex": [
       "A tibble: 6 × 18\n",
       "\\begin{tabular}{llllllllllllllllll}\n",
       " chrom & chromStart & chromEnd & name & score & value & geneAssociationMethods & color & geneHancerChrom & geneHancerStart & geneHancerEnd & geneHancerIdentifier & geneHancerStrand & geneChrom & geneStart & geneEnd & geneName & geneStrand\\\\\n",
       " <chr> & <dbl> & <dbl> & <chr> & <dbl> & <dbl> & <chr> & <chr> & <chr> & <dbl> & <dbl> & <chr> & <chr> & <chr> & <dbl> & <dbl> & <chr> & <chr>\\\\\n",
       "\\hline\n",
       "\t chrX &  319144 &  374201 & LINC00685/GH0XJ000373 & 8 & 15.08 & C-HiC,Distance              & 217,83,25 & chrX &  373399 &  374201 & GH0XJ000373 & . & chrX &  319144 &  319145 & LINC00685 & +\\\\\n",
       "\t chrX &  319144 &  372400 & LINC00685/GH0XJ000372 & 4 &  6.75 & C-HiC,Distance              & 217,83,25 & chrX &  372000 &  372400 & GH0XJ000372 & . & chrX &  319144 &  319145 & LINC00685 & +\\\\\n",
       "\t chrX &  319144 &  371831 & LINC00685/GH0XJ000367 & 6 &  9.95 & C-HiC,Distance              & 217,83,25 & chrX &  367923 &  371831 & GH0XJ000367 & . & chrX &  319144 &  319145 & LINC00685 & +\\\\\n",
       "\t chrX & 1208200 & 1212815 & CRLF2/GH0XJ001208     & 3 &  2.72 & eRNA\\_co-expression,Distance & 0,114,189 & chrX & 1208200 & 1209074 & GH0XJ001208 & . & chrX & 1212814 & 1212815 & CRLF2     & -\\\\\n",
       "\t chrX & 1212814 & 1250400 & CRLF2/GH0XJ001247     & 4 &  6.33 & eRNA\\_co-expression,Distance & 0,114,189 & chrX & 1247967 & 1250400 & GH0XJ001247 & . & chrX & 1212814 & 1212815 & CRLF2     & -\\\\\n",
       "\t chrX & 1212814 & 1240400 & CRLF2/GH0XJ001239     & 3 &  3.75 & eRNA\\_co-expression,Distance & 0,114,189 & chrX & 1239400 & 1240400 & GH0XJ001239 & . & chrX & 1212814 & 1212815 & CRLF2     & -\\\\\n",
       "\\end{tabular}\n"
      ],
      "text/markdown": [
       "\n",
       "A tibble: 6 × 18\n",
       "\n",
       "| chrom &lt;chr&gt; | chromStart &lt;dbl&gt; | chromEnd &lt;dbl&gt; | name &lt;chr&gt; | score &lt;dbl&gt; | value &lt;dbl&gt; | geneAssociationMethods &lt;chr&gt; | color &lt;chr&gt; | geneHancerChrom &lt;chr&gt; | geneHancerStart &lt;dbl&gt; | geneHancerEnd &lt;dbl&gt; | geneHancerIdentifier &lt;chr&gt; | geneHancerStrand &lt;chr&gt; | geneChrom &lt;chr&gt; | geneStart &lt;dbl&gt; | geneEnd &lt;dbl&gt; | geneName &lt;chr&gt; | geneStrand &lt;chr&gt; |\n",
       "|---|---|---|---|---|---|---|---|---|---|---|---|---|---|---|---|---|---|\n",
       "| chrX |  319144 |  374201 | LINC00685/GH0XJ000373 | 8 | 15.08 | C-HiC,Distance              | 217,83,25 | chrX |  373399 |  374201 | GH0XJ000373 | . | chrX |  319144 |  319145 | LINC00685 | + |\n",
       "| chrX |  319144 |  372400 | LINC00685/GH0XJ000372 | 4 |  6.75 | C-HiC,Distance              | 217,83,25 | chrX |  372000 |  372400 | GH0XJ000372 | . | chrX |  319144 |  319145 | LINC00685 | + |\n",
       "| chrX |  319144 |  371831 | LINC00685/GH0XJ000367 | 6 |  9.95 | C-HiC,Distance              | 217,83,25 | chrX |  367923 |  371831 | GH0XJ000367 | . | chrX |  319144 |  319145 | LINC00685 | + |\n",
       "| chrX | 1208200 | 1212815 | CRLF2/GH0XJ001208     | 3 |  2.72 | eRNA_co-expression,Distance | 0,114,189 | chrX | 1208200 | 1209074 | GH0XJ001208 | . | chrX | 1212814 | 1212815 | CRLF2     | - |\n",
       "| chrX | 1212814 | 1250400 | CRLF2/GH0XJ001247     | 4 |  6.33 | eRNA_co-expression,Distance | 0,114,189 | chrX | 1247967 | 1250400 | GH0XJ001247 | . | chrX | 1212814 | 1212815 | CRLF2     | - |\n",
       "| chrX | 1212814 | 1240400 | CRLF2/GH0XJ001239     | 3 |  3.75 | eRNA_co-expression,Distance | 0,114,189 | chrX | 1239400 | 1240400 | GH0XJ001239 | . | chrX | 1212814 | 1212815 | CRLF2     | - |\n",
       "\n"
      ],
      "text/plain": [
       "  chrom chromStart chromEnd name                  score value\n",
       "1 chrX   319144     374201  LINC00685/GH0XJ000373 8     15.08\n",
       "2 chrX   319144     372400  LINC00685/GH0XJ000372 4      6.75\n",
       "3 chrX   319144     371831  LINC00685/GH0XJ000367 6      9.95\n",
       "4 chrX  1208200    1212815  CRLF2/GH0XJ001208     3      2.72\n",
       "5 chrX  1212814    1250400  CRLF2/GH0XJ001247     4      6.33\n",
       "6 chrX  1212814    1240400  CRLF2/GH0XJ001239     3      3.75\n",
       "  geneAssociationMethods      color     geneHancerChrom geneHancerStart\n",
       "1 C-HiC,Distance              217,83,25 chrX             373399        \n",
       "2 C-HiC,Distance              217,83,25 chrX             372000        \n",
       "3 C-HiC,Distance              217,83,25 chrX             367923        \n",
       "4 eRNA_co-expression,Distance 0,114,189 chrX            1208200        \n",
       "5 eRNA_co-expression,Distance 0,114,189 chrX            1247967        \n",
       "6 eRNA_co-expression,Distance 0,114,189 chrX            1239400        \n",
       "  geneHancerEnd geneHancerIdentifier geneHancerStrand geneChrom geneStart\n",
       "1  374201       GH0XJ000373          .                chrX       319144  \n",
       "2  372400       GH0XJ000372          .                chrX       319144  \n",
       "3  371831       GH0XJ000367          .                chrX       319144  \n",
       "4 1209074       GH0XJ001208          .                chrX      1212814  \n",
       "5 1250400       GH0XJ001247          .                chrX      1212814  \n",
       "6 1240400       GH0XJ001239          .                chrX      1212814  \n",
       "  geneEnd geneName  geneStrand\n",
       "1  319145 LINC00685 +         \n",
       "2  319145 LINC00685 +         \n",
       "3  319145 LINC00685 +         \n",
       "4 1212815 CRLF2     -         \n",
       "5 1212815 CRLF2     -         \n",
       "6 1212815 CRLF2     -         "
      ]
     },
     "metadata": {},
     "output_type": "display_data"
    }
   ],
   "source": [
    "###\n",
    "fdiry = file.path(FD_RES, \"region\", \"annotation_genehancer\")\n",
    "fname = \"geneHancerInteractionsDoubleElite_hg38_chrX.tsv\"\n",
    "fpath = file.path(fdiry, fname)\n",
    "\n",
    "###\n",
    "dat = read_tsv(fpath, show_col_types = FALSE)\n",
    "colnames(dat)[1] = \"chrom\"\n",
    "\n",
    "###\n",
    "dat_ghancer_de = dat\n",
    "print(dim(dat))\n",
    "head(dat)"
   ]
  },
  {
   "cell_type": "code",
   "execution_count": 12,
   "id": "7c465747",
   "metadata": {},
   "outputs": [
    {
     "data": {
      "text/html": [
       "25"
      ],
      "text/latex": [
       "25"
      ],
      "text/markdown": [
       "25"
      ],
      "text/plain": [
       "[1] 25"
      ]
     },
     "metadata": {},
     "output_type": "display_data"
    }
   ],
   "source": [
    "dat = dat_ghancer\n",
    "length(unique(dat$geneAssociationMethods))"
   ]
  },
  {
   "cell_type": "code",
   "execution_count": 13,
   "id": "1773ad83",
   "metadata": {},
   "outputs": [
    {
     "data": {
      "text/html": [
       "<style>\n",
       ".list-inline {list-style: none; margin:0; padding: 0}\n",
       ".list-inline>li {display: inline-block}\n",
       ".list-inline>li:not(:last-child)::after {content: \"\\00b7\"; padding: 0 .5ex}\n",
       "</style>\n",
       "<ol class=list-inline><li>'Distance'</li><li>'C-HiC'</li><li>'TF_co-expression'</li><li>'C-HiC,Distance'</li><li>'eRNA_co-expression'</li><li>'eRNA_co-expression,Distance'</li><li>'C-HiC,eRNA_co-expression'</li><li>'C-HiC,eRNA_co-expression,Distance'</li><li>'eQTLs'</li><li>'eQTLs,Distance'</li><li>'eQTLs,eRNA_co-expression'</li><li>'eQTLs,eRNA_co-expression,Distance'</li><li>'eQTLs,C-HiC,Distance'</li><li>'eQTLs,C-HiC,eRNA_co-expression'</li><li>'eQTLs,C-HiC'</li><li>'eQTLs,TF_co-expression,Distance'</li><li>'eQTLs,TF_co-expression'</li><li>'TF_co-expression,Distance'</li><li>'eQTLs,C-HiC,eRNA_co-expression,Distance'</li><li>'C-HiC,TF_co-expression'</li><li>'eRNA_co-expression,TF_co-expression'</li><li>'eRNA_co-expression,TF_co-expression,Distance'</li><li>'C-HiC,TF_co-expression,Distance'</li><li>'eQTLs,eRNA_co-expression,TF_co-expression,Distance'</li><li>'eQTLs,C-HiC,TF_co-expression'</li></ol>\n"
      ],
      "text/latex": [
       "\\begin{enumerate*}\n",
       "\\item 'Distance'\n",
       "\\item 'C-HiC'\n",
       "\\item 'TF\\_co-expression'\n",
       "\\item 'C-HiC,Distance'\n",
       "\\item 'eRNA\\_co-expression'\n",
       "\\item 'eRNA\\_co-expression,Distance'\n",
       "\\item 'C-HiC,eRNA\\_co-expression'\n",
       "\\item 'C-HiC,eRNA\\_co-expression,Distance'\n",
       "\\item 'eQTLs'\n",
       "\\item 'eQTLs,Distance'\n",
       "\\item 'eQTLs,eRNA\\_co-expression'\n",
       "\\item 'eQTLs,eRNA\\_co-expression,Distance'\n",
       "\\item 'eQTLs,C-HiC,Distance'\n",
       "\\item 'eQTLs,C-HiC,eRNA\\_co-expression'\n",
       "\\item 'eQTLs,C-HiC'\n",
       "\\item 'eQTLs,TF\\_co-expression,Distance'\n",
       "\\item 'eQTLs,TF\\_co-expression'\n",
       "\\item 'TF\\_co-expression,Distance'\n",
       "\\item 'eQTLs,C-HiC,eRNA\\_co-expression,Distance'\n",
       "\\item 'C-HiC,TF\\_co-expression'\n",
       "\\item 'eRNA\\_co-expression,TF\\_co-expression'\n",
       "\\item 'eRNA\\_co-expression,TF\\_co-expression,Distance'\n",
       "\\item 'C-HiC,TF\\_co-expression,Distance'\n",
       "\\item 'eQTLs,eRNA\\_co-expression,TF\\_co-expression,Distance'\n",
       "\\item 'eQTLs,C-HiC,TF\\_co-expression'\n",
       "\\end{enumerate*}\n"
      ],
      "text/markdown": [
       "1. 'Distance'\n",
       "2. 'C-HiC'\n",
       "3. 'TF_co-expression'\n",
       "4. 'C-HiC,Distance'\n",
       "5. 'eRNA_co-expression'\n",
       "6. 'eRNA_co-expression,Distance'\n",
       "7. 'C-HiC,eRNA_co-expression'\n",
       "8. 'C-HiC,eRNA_co-expression,Distance'\n",
       "9. 'eQTLs'\n",
       "10. 'eQTLs,Distance'\n",
       "11. 'eQTLs,eRNA_co-expression'\n",
       "12. 'eQTLs,eRNA_co-expression,Distance'\n",
       "13. 'eQTLs,C-HiC,Distance'\n",
       "14. 'eQTLs,C-HiC,eRNA_co-expression'\n",
       "15. 'eQTLs,C-HiC'\n",
       "16. 'eQTLs,TF_co-expression,Distance'\n",
       "17. 'eQTLs,TF_co-expression'\n",
       "18. 'TF_co-expression,Distance'\n",
       "19. 'eQTLs,C-HiC,eRNA_co-expression,Distance'\n",
       "20. 'C-HiC,TF_co-expression'\n",
       "21. 'eRNA_co-expression,TF_co-expression'\n",
       "22. 'eRNA_co-expression,TF_co-expression,Distance'\n",
       "23. 'C-HiC,TF_co-expression,Distance'\n",
       "24. 'eQTLs,eRNA_co-expression,TF_co-expression,Distance'\n",
       "25. 'eQTLs,C-HiC,TF_co-expression'\n",
       "\n",
       "\n"
      ],
      "text/plain": [
       " [1] \"Distance\"                                          \n",
       " [2] \"C-HiC\"                                             \n",
       " [3] \"TF_co-expression\"                                  \n",
       " [4] \"C-HiC,Distance\"                                    \n",
       " [5] \"eRNA_co-expression\"                                \n",
       " [6] \"eRNA_co-expression,Distance\"                       \n",
       " [7] \"C-HiC,eRNA_co-expression\"                          \n",
       " [8] \"C-HiC,eRNA_co-expression,Distance\"                 \n",
       " [9] \"eQTLs\"                                             \n",
       "[10] \"eQTLs,Distance\"                                    \n",
       "[11] \"eQTLs,eRNA_co-expression\"                          \n",
       "[12] \"eQTLs,eRNA_co-expression,Distance\"                 \n",
       "[13] \"eQTLs,C-HiC,Distance\"                              \n",
       "[14] \"eQTLs,C-HiC,eRNA_co-expression\"                    \n",
       "[15] \"eQTLs,C-HiC\"                                       \n",
       "[16] \"eQTLs,TF_co-expression,Distance\"                   \n",
       "[17] \"eQTLs,TF_co-expression\"                            \n",
       "[18] \"TF_co-expression,Distance\"                         \n",
       "[19] \"eQTLs,C-HiC,eRNA_co-expression,Distance\"           \n",
       "[20] \"C-HiC,TF_co-expression\"                            \n",
       "[21] \"eRNA_co-expression,TF_co-expression\"               \n",
       "[22] \"eRNA_co-expression,TF_co-expression,Distance\"      \n",
       "[23] \"C-HiC,TF_co-expression,Distance\"                   \n",
       "[24] \"eQTLs,eRNA_co-expression,TF_co-expression,Distance\"\n",
       "[25] \"eQTLs,C-HiC,TF_co-expression\"                      "
      ]
     },
     "metadata": {},
     "output_type": "display_data"
    }
   ],
   "source": [
    "unique(dat$geneAssociationMethods)"
   ]
  },
  {
   "cell_type": "code",
   "execution_count": 19,
   "id": "909fe41c",
   "metadata": {},
   "outputs": [
    {
     "name": "stdout",
     "output_type": "stream",
     "text": [
      "[1] \"Distance\"           \"C-HiC\"              \"TF_co-expression\"  \n",
      "[4] \"eRNA_co-expression\" \"eQTLs\"             \n"
     ]
    }
   ],
   "source": [
    "x = unique(dat$geneAssociationMethods)\n",
    "x = unique(Reduce(c, str_split(x, pattern = \",\")))\n",
    "print(x)"
   ]
  },
  {
   "cell_type": "code",
   "execution_count": 5,
   "id": "2366773b",
   "metadata": {},
   "outputs": [],
   "source": [
    "### chrX: 47,785,501 - 49,880,650\n",
    "CHROM = \"chrX\"  \n",
    "START = 47785501\n",
    "END   = 49880650"
   ]
  },
  {
   "cell_type": "code",
   "execution_count": 9,
   "id": "89c0b55d",
   "metadata": {},
   "outputs": [
    {
     "name": "stdout",
     "output_type": "stream",
     "text": [
      "[1]  7 18\n"
     ]
    },
    {
     "data": {
      "text/html": [
       "<table class=\"dataframe\">\n",
       "<caption>A spec_tbl_df: 7 × 18</caption>\n",
       "<thead>\n",
       "\t<tr><th scope=col>chrom</th><th scope=col>chromStart</th><th scope=col>chromEnd</th><th scope=col>name</th><th scope=col>score</th><th scope=col>value</th><th scope=col>geneAssociationMethods</th><th scope=col>color</th><th scope=col>geneHancerChrom</th><th scope=col>geneHancerStart</th><th scope=col>geneHancerEnd</th><th scope=col>geneHancerIdentifier</th><th scope=col>geneHancerStrand</th><th scope=col>geneChrom</th><th scope=col>geneStart</th><th scope=col>geneEnd</th><th scope=col>geneName</th><th scope=col>geneStrand</th></tr>\n",
       "\t<tr><th scope=col>&lt;chr&gt;</th><th scope=col>&lt;dbl&gt;</th><th scope=col>&lt;dbl&gt;</th><th scope=col>&lt;chr&gt;</th><th scope=col>&lt;dbl&gt;</th><th scope=col>&lt;dbl&gt;</th><th scope=col>&lt;chr&gt;</th><th scope=col>&lt;chr&gt;</th><th scope=col>&lt;chr&gt;</th><th scope=col>&lt;dbl&gt;</th><th scope=col>&lt;dbl&gt;</th><th scope=col>&lt;chr&gt;</th><th scope=col>&lt;chr&gt;</th><th scope=col>&lt;chr&gt;</th><th scope=col>&lt;dbl&gt;</th><th scope=col>&lt;dbl&gt;</th><th scope=col>&lt;chr&gt;</th><th scope=col>&lt;chr&gt;</th></tr>\n",
       "</thead>\n",
       "<tbody>\n",
       "\t<tr><td>chrX</td><td>48776467</td><td>48786554</td><td>GATA1/GH0XJ048776</td><td>  2</td><td>   0.26</td><td>Distance                   </td><td>126,47,142</td><td>chrX</td><td>48776467</td><td>48777731</td><td>GH0XJ048776</td><td>.</td><td>chrX</td><td>48786553</td><td>48786554</td><td>GATA1</td><td>+</td></tr>\n",
       "\t<tr><td>chrX</td><td>48782533</td><td>48786554</td><td>GATA1/GH0XJ048782</td><td>  2</td><td>   0.83</td><td>Distance                   </td><td>126,47,142</td><td>chrX</td><td>48782533</td><td>48783734</td><td>GH0XJ048782</td><td>.</td><td>chrX</td><td>48786553</td><td>48786554</td><td>GATA1</td><td>+</td></tr>\n",
       "\t<tr><td>chrX</td><td>48785470</td><td>48788954</td><td>GATA1/GH0XJ048785</td><td>491</td><td>1205.94</td><td>eRNA_co-expression,Distance</td><td>126,47,142</td><td>chrX</td><td>48785470</td><td>48788954</td><td>GH0XJ048785</td><td>.</td><td>chrX</td><td>48786553</td><td>48786554</td><td>GATA1</td><td>+</td></tr>\n",
       "\t<tr><td>chrX</td><td>48786553</td><td>49157200</td><td>GATA1/GH0XJ049154</td><td>  3</td><td>   2.64</td><td>eRNA_co-expression         </td><td>126,47,142</td><td>chrX</td><td>49154560</td><td>49157200</td><td>GH0XJ049154</td><td>.</td><td>chrX</td><td>48786553</td><td>48786554</td><td>GATA1</td><td>+</td></tr>\n",
       "\t<tr><td>chrX</td><td>48786553</td><td>48798889</td><td>GATA1/GH0XJ048798</td><td>  2</td><td>   0.14</td><td>Distance                   </td><td>126,47,142</td><td>chrX</td><td>48798200</td><td>48798889</td><td>GH0XJ048798</td><td>.</td><td>chrX</td><td>48786553</td><td>48786554</td><td>GATA1</td><td>+</td></tr>\n",
       "\t<tr><td>chrX</td><td>48786553</td><td>48796322</td><td>GATA1/GH0XJ048793</td><td>  2</td><td>   0.53</td><td>Distance                   </td><td>126,47,142</td><td>chrX</td><td>48793761</td><td>48796322</td><td>GH0XJ048793</td><td>.</td><td>chrX</td><td>48786553</td><td>48786554</td><td>GATA1</td><td>+</td></tr>\n",
       "\t<tr><td>chrX</td><td>48786553</td><td>48789998</td><td>GATA1/GH0XJ048789</td><td>  9</td><td>  17.84</td><td>eRNA_co-expression,Distance</td><td>126,47,142</td><td>chrX</td><td>48789530</td><td>48789998</td><td>GH0XJ048789</td><td>.</td><td>chrX</td><td>48786553</td><td>48786554</td><td>GATA1</td><td>+</td></tr>\n",
       "</tbody>\n",
       "</table>\n"
      ],
      "text/latex": [
       "A spec\\_tbl\\_df: 7 × 18\n",
       "\\begin{tabular}{llllllllllllllllll}\n",
       " chrom & chromStart & chromEnd & name & score & value & geneAssociationMethods & color & geneHancerChrom & geneHancerStart & geneHancerEnd & geneHancerIdentifier & geneHancerStrand & geneChrom & geneStart & geneEnd & geneName & geneStrand\\\\\n",
       " <chr> & <dbl> & <dbl> & <chr> & <dbl> & <dbl> & <chr> & <chr> & <chr> & <dbl> & <dbl> & <chr> & <chr> & <chr> & <dbl> & <dbl> & <chr> & <chr>\\\\\n",
       "\\hline\n",
       "\t chrX & 48776467 & 48786554 & GATA1/GH0XJ048776 &   2 &    0.26 & Distance                    & 126,47,142 & chrX & 48776467 & 48777731 & GH0XJ048776 & . & chrX & 48786553 & 48786554 & GATA1 & +\\\\\n",
       "\t chrX & 48782533 & 48786554 & GATA1/GH0XJ048782 &   2 &    0.83 & Distance                    & 126,47,142 & chrX & 48782533 & 48783734 & GH0XJ048782 & . & chrX & 48786553 & 48786554 & GATA1 & +\\\\\n",
       "\t chrX & 48785470 & 48788954 & GATA1/GH0XJ048785 & 491 & 1205.94 & eRNA\\_co-expression,Distance & 126,47,142 & chrX & 48785470 & 48788954 & GH0XJ048785 & . & chrX & 48786553 & 48786554 & GATA1 & +\\\\\n",
       "\t chrX & 48786553 & 49157200 & GATA1/GH0XJ049154 &   3 &    2.64 & eRNA\\_co-expression          & 126,47,142 & chrX & 49154560 & 49157200 & GH0XJ049154 & . & chrX & 48786553 & 48786554 & GATA1 & +\\\\\n",
       "\t chrX & 48786553 & 48798889 & GATA1/GH0XJ048798 &   2 &    0.14 & Distance                    & 126,47,142 & chrX & 48798200 & 48798889 & GH0XJ048798 & . & chrX & 48786553 & 48786554 & GATA1 & +\\\\\n",
       "\t chrX & 48786553 & 48796322 & GATA1/GH0XJ048793 &   2 &    0.53 & Distance                    & 126,47,142 & chrX & 48793761 & 48796322 & GH0XJ048793 & . & chrX & 48786553 & 48786554 & GATA1 & +\\\\\n",
       "\t chrX & 48786553 & 48789998 & GATA1/GH0XJ048789 &   9 &   17.84 & eRNA\\_co-expression,Distance & 126,47,142 & chrX & 48789530 & 48789998 & GH0XJ048789 & . & chrX & 48786553 & 48786554 & GATA1 & +\\\\\n",
       "\\end{tabular}\n"
      ],
      "text/markdown": [
       "\n",
       "A spec_tbl_df: 7 × 18\n",
       "\n",
       "| chrom &lt;chr&gt; | chromStart &lt;dbl&gt; | chromEnd &lt;dbl&gt; | name &lt;chr&gt; | score &lt;dbl&gt; | value &lt;dbl&gt; | geneAssociationMethods &lt;chr&gt; | color &lt;chr&gt; | geneHancerChrom &lt;chr&gt; | geneHancerStart &lt;dbl&gt; | geneHancerEnd &lt;dbl&gt; | geneHancerIdentifier &lt;chr&gt; | geneHancerStrand &lt;chr&gt; | geneChrom &lt;chr&gt; | geneStart &lt;dbl&gt; | geneEnd &lt;dbl&gt; | geneName &lt;chr&gt; | geneStrand &lt;chr&gt; |\n",
       "|---|---|---|---|---|---|---|---|---|---|---|---|---|---|---|---|---|---|\n",
       "| chrX | 48776467 | 48786554 | GATA1/GH0XJ048776 |   2 |    0.26 | Distance                    | 126,47,142 | chrX | 48776467 | 48777731 | GH0XJ048776 | . | chrX | 48786553 | 48786554 | GATA1 | + |\n",
       "| chrX | 48782533 | 48786554 | GATA1/GH0XJ048782 |   2 |    0.83 | Distance                    | 126,47,142 | chrX | 48782533 | 48783734 | GH0XJ048782 | . | chrX | 48786553 | 48786554 | GATA1 | + |\n",
       "| chrX | 48785470 | 48788954 | GATA1/GH0XJ048785 | 491 | 1205.94 | eRNA_co-expression,Distance | 126,47,142 | chrX | 48785470 | 48788954 | GH0XJ048785 | . | chrX | 48786553 | 48786554 | GATA1 | + |\n",
       "| chrX | 48786553 | 49157200 | GATA1/GH0XJ049154 |   3 |    2.64 | eRNA_co-expression          | 126,47,142 | chrX | 49154560 | 49157200 | GH0XJ049154 | . | chrX | 48786553 | 48786554 | GATA1 | + |\n",
       "| chrX | 48786553 | 48798889 | GATA1/GH0XJ048798 |   2 |    0.14 | Distance                    | 126,47,142 | chrX | 48798200 | 48798889 | GH0XJ048798 | . | chrX | 48786553 | 48786554 | GATA1 | + |\n",
       "| chrX | 48786553 | 48796322 | GATA1/GH0XJ048793 |   2 |    0.53 | Distance                    | 126,47,142 | chrX | 48793761 | 48796322 | GH0XJ048793 | . | chrX | 48786553 | 48786554 | GATA1 | + |\n",
       "| chrX | 48786553 | 48789998 | GATA1/GH0XJ048789 |   9 |   17.84 | eRNA_co-expression,Distance | 126,47,142 | chrX | 48789530 | 48789998 | GH0XJ048789 | . | chrX | 48786553 | 48786554 | GATA1 | + |\n",
       "\n"
      ],
      "text/plain": [
       "  chrom chromStart chromEnd name              score value  \n",
       "1 chrX  48776467   48786554 GATA1/GH0XJ048776   2      0.26\n",
       "2 chrX  48782533   48786554 GATA1/GH0XJ048782   2      0.83\n",
       "3 chrX  48785470   48788954 GATA1/GH0XJ048785 491   1205.94\n",
       "4 chrX  48786553   49157200 GATA1/GH0XJ049154   3      2.64\n",
       "5 chrX  48786553   48798889 GATA1/GH0XJ048798   2      0.14\n",
       "6 chrX  48786553   48796322 GATA1/GH0XJ048793   2      0.53\n",
       "7 chrX  48786553   48789998 GATA1/GH0XJ048789   9     17.84\n",
       "  geneAssociationMethods      color      geneHancerChrom geneHancerStart\n",
       "1 Distance                    126,47,142 chrX            48776467       \n",
       "2 Distance                    126,47,142 chrX            48782533       \n",
       "3 eRNA_co-expression,Distance 126,47,142 chrX            48785470       \n",
       "4 eRNA_co-expression          126,47,142 chrX            49154560       \n",
       "5 Distance                    126,47,142 chrX            48798200       \n",
       "6 Distance                    126,47,142 chrX            48793761       \n",
       "7 eRNA_co-expression,Distance 126,47,142 chrX            48789530       \n",
       "  geneHancerEnd geneHancerIdentifier geneHancerStrand geneChrom geneStart\n",
       "1 48777731      GH0XJ048776          .                chrX      48786553 \n",
       "2 48783734      GH0XJ048782          .                chrX      48786553 \n",
       "3 48788954      GH0XJ048785          .                chrX      48786553 \n",
       "4 49157200      GH0XJ049154          .                chrX      48786553 \n",
       "5 48798889      GH0XJ048798          .                chrX      48786553 \n",
       "6 48796322      GH0XJ048793          .                chrX      48786553 \n",
       "7 48789998      GH0XJ048789          .                chrX      48786553 \n",
       "  geneEnd  geneName geneStrand\n",
       "1 48786554 GATA1    +         \n",
       "2 48786554 GATA1    +         \n",
       "3 48786554 GATA1    +         \n",
       "4 48786554 GATA1    +         \n",
       "5 48786554 GATA1    +         \n",
       "6 48786554 GATA1    +         \n",
       "7 48786554 GATA1    +         "
      ]
     },
     "metadata": {},
     "output_type": "display_data"
    }
   ],
   "source": [
    "dat = dat_ghancer\n",
    "dat = dat %>% dplyr::filter(chrom == CHROM, chromStart >= START, chromEnd <= END, geneName == \"GATA1\")\n",
    "\n",
    "dat1 = dat\n",
    "print(dim(dat))\n",
    "dat"
   ]
  },
  {
   "cell_type": "code",
   "execution_count": 10,
   "id": "183a60e1",
   "metadata": {},
   "outputs": [
    {
     "name": "stdout",
     "output_type": "stream",
     "text": [
      "[1]  2 18\n"
     ]
    },
    {
     "data": {
      "text/html": [
       "<table class=\"dataframe\">\n",
       "<caption>A spec_tbl_df: 2 × 18</caption>\n",
       "<thead>\n",
       "\t<tr><th scope=col>chrom</th><th scope=col>chromStart</th><th scope=col>chromEnd</th><th scope=col>name</th><th scope=col>score</th><th scope=col>value</th><th scope=col>geneAssociationMethods</th><th scope=col>color</th><th scope=col>geneHancerChrom</th><th scope=col>geneHancerStart</th><th scope=col>geneHancerEnd</th><th scope=col>geneHancerIdentifier</th><th scope=col>geneHancerStrand</th><th scope=col>geneChrom</th><th scope=col>geneStart</th><th scope=col>geneEnd</th><th scope=col>geneName</th><th scope=col>geneStrand</th></tr>\n",
       "\t<tr><th scope=col>&lt;chr&gt;</th><th scope=col>&lt;dbl&gt;</th><th scope=col>&lt;dbl&gt;</th><th scope=col>&lt;chr&gt;</th><th scope=col>&lt;dbl&gt;</th><th scope=col>&lt;dbl&gt;</th><th scope=col>&lt;chr&gt;</th><th scope=col>&lt;chr&gt;</th><th scope=col>&lt;chr&gt;</th><th scope=col>&lt;dbl&gt;</th><th scope=col>&lt;dbl&gt;</th><th scope=col>&lt;chr&gt;</th><th scope=col>&lt;chr&gt;</th><th scope=col>&lt;chr&gt;</th><th scope=col>&lt;dbl&gt;</th><th scope=col>&lt;dbl&gt;</th><th scope=col>&lt;chr&gt;</th><th scope=col>&lt;chr&gt;</th></tr>\n",
       "</thead>\n",
       "<tbody>\n",
       "\t<tr><td>chrX</td><td>48785470</td><td>48788954</td><td>GATA1/GH0XJ048785</td><td>491</td><td>1205.94</td><td>eRNA_co-expression,Distance</td><td>126,47,142</td><td>chrX</td><td>48785470</td><td>48788954</td><td>GH0XJ048785</td><td>.</td><td>chrX</td><td>48786553</td><td>48786554</td><td>GATA1</td><td>+</td></tr>\n",
       "\t<tr><td>chrX</td><td>48786553</td><td>48789998</td><td>GATA1/GH0XJ048789</td><td>  9</td><td>  17.84</td><td>eRNA_co-expression,Distance</td><td>126,47,142</td><td>chrX</td><td>48789530</td><td>48789998</td><td>GH0XJ048789</td><td>.</td><td>chrX</td><td>48786553</td><td>48786554</td><td>GATA1</td><td>+</td></tr>\n",
       "</tbody>\n",
       "</table>\n"
      ],
      "text/latex": [
       "A spec\\_tbl\\_df: 2 × 18\n",
       "\\begin{tabular}{llllllllllllllllll}\n",
       " chrom & chromStart & chromEnd & name & score & value & geneAssociationMethods & color & geneHancerChrom & geneHancerStart & geneHancerEnd & geneHancerIdentifier & geneHancerStrand & geneChrom & geneStart & geneEnd & geneName & geneStrand\\\\\n",
       " <chr> & <dbl> & <dbl> & <chr> & <dbl> & <dbl> & <chr> & <chr> & <chr> & <dbl> & <dbl> & <chr> & <chr> & <chr> & <dbl> & <dbl> & <chr> & <chr>\\\\\n",
       "\\hline\n",
       "\t chrX & 48785470 & 48788954 & GATA1/GH0XJ048785 & 491 & 1205.94 & eRNA\\_co-expression,Distance & 126,47,142 & chrX & 48785470 & 48788954 & GH0XJ048785 & . & chrX & 48786553 & 48786554 & GATA1 & +\\\\\n",
       "\t chrX & 48786553 & 48789998 & GATA1/GH0XJ048789 &   9 &   17.84 & eRNA\\_co-expression,Distance & 126,47,142 & chrX & 48789530 & 48789998 & GH0XJ048789 & . & chrX & 48786553 & 48786554 & GATA1 & +\\\\\n",
       "\\end{tabular}\n"
      ],
      "text/markdown": [
       "\n",
       "A spec_tbl_df: 2 × 18\n",
       "\n",
       "| chrom &lt;chr&gt; | chromStart &lt;dbl&gt; | chromEnd &lt;dbl&gt; | name &lt;chr&gt; | score &lt;dbl&gt; | value &lt;dbl&gt; | geneAssociationMethods &lt;chr&gt; | color &lt;chr&gt; | geneHancerChrom &lt;chr&gt; | geneHancerStart &lt;dbl&gt; | geneHancerEnd &lt;dbl&gt; | geneHancerIdentifier &lt;chr&gt; | geneHancerStrand &lt;chr&gt; | geneChrom &lt;chr&gt; | geneStart &lt;dbl&gt; | geneEnd &lt;dbl&gt; | geneName &lt;chr&gt; | geneStrand &lt;chr&gt; |\n",
       "|---|---|---|---|---|---|---|---|---|---|---|---|---|---|---|---|---|---|\n",
       "| chrX | 48785470 | 48788954 | GATA1/GH0XJ048785 | 491 | 1205.94 | eRNA_co-expression,Distance | 126,47,142 | chrX | 48785470 | 48788954 | GH0XJ048785 | . | chrX | 48786553 | 48786554 | GATA1 | + |\n",
       "| chrX | 48786553 | 48789998 | GATA1/GH0XJ048789 |   9 |   17.84 | eRNA_co-expression,Distance | 126,47,142 | chrX | 48789530 | 48789998 | GH0XJ048789 | . | chrX | 48786553 | 48786554 | GATA1 | + |\n",
       "\n"
      ],
      "text/plain": [
       "  chrom chromStart chromEnd name              score value  \n",
       "1 chrX  48785470   48788954 GATA1/GH0XJ048785 491   1205.94\n",
       "2 chrX  48786553   48789998 GATA1/GH0XJ048789   9     17.84\n",
       "  geneAssociationMethods      color      geneHancerChrom geneHancerStart\n",
       "1 eRNA_co-expression,Distance 126,47,142 chrX            48785470       \n",
       "2 eRNA_co-expression,Distance 126,47,142 chrX            48789530       \n",
       "  geneHancerEnd geneHancerIdentifier geneHancerStrand geneChrom geneStart\n",
       "1 48788954      GH0XJ048785          .                chrX      48786553 \n",
       "2 48789998      GH0XJ048789          .                chrX      48786553 \n",
       "  geneEnd  geneName geneStrand\n",
       "1 48786554 GATA1    +         \n",
       "2 48786554 GATA1    +         "
      ]
     },
     "metadata": {},
     "output_type": "display_data"
    }
   ],
   "source": [
    "dat = dat_ghancer_de\n",
    "dat = dat %>% dplyr::filter(chrom == CHROM, chromStart >= START, chromEnd <= END, geneName == \"GATA1\")\n",
    "\n",
    "dat2 = dat\n",
    "print(dim(dat))\n",
    "dat"
   ]
  },
  {
   "cell_type": "code",
   "execution_count": null,
   "id": "cbc5e41b",
   "metadata": {},
   "outputs": [],
   "source": []
  }
 ],
 "metadata": {
  "kernelspec": {
   "display_name": "R",
   "language": "R",
   "name": "ir"
  },
  "language_info": {
   "codemirror_mode": "r",
   "file_extension": ".r",
   "mimetype": "text/x-r-source",
   "name": "R",
   "pygments_lexer": "r",
   "version": "4.2.2"
  }
 },
 "nbformat": 4,
 "nbformat_minor": 5
}
