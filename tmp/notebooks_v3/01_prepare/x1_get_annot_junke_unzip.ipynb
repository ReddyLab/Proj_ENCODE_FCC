{
 "cells": [
  {
   "cell_type": "code",
   "execution_count": 5,
   "id": "f87beb0a-ff3c-4e10-aa66-c3b97ab683b6",
   "metadata": {},
   "outputs": [
    {
     "name": "stdout",
     "output_type": "stream",
     "text": [
      "You are on Duke Server: HARDAC\n",
      "BASE DIRECTORY:     /data/reddylab/Kuei\n",
      "WORK DIRECTORY:     /data/reddylab/Kuei/out\n",
      "CODE DIRECTORY:     /data/reddylab/Kuei/code\n",
      "SING DIRECTORY:     /data/reddylab/Kuei/singularity\n",
      "PATH OF SOURCE:     /data/reddylab/Kuei/source\n",
      "PATH OF EXECUTABLE: /data/reddylab/Kuei/bin\n",
      "PATH OF ANNOTATION: /data/reddylab/Kuei/annotation\n",
      "PATH OF PROJECT:    /data/reddylab/Kuei/code/Proj_CombEffect_ENCODE_FCC\n",
      "PATH OF RESULTS:    /data/reddylab/Kuei/out/proj_combeffect_encode_fcc\n",
      "\n"
     ]
    }
   ],
   "source": [
    "### set env\n",
    "source ../config/config_duke.sh\n",
    "show_env"
   ]
  },
  {
   "cell_type": "code",
   "execution_count": 1,
   "id": "88c3860b-f499-4e6d-a5d9-2e7a8fba1673",
   "metadata": {},
   "outputs": [
    {
     "name": "stdout",
     "output_type": "stream",
     "text": [
      "\u001b[0m\u001b[38;5;27mbin_level\u001b[0m  \u001b[38;5;27mmerged_peak\u001b[0m\n"
     ]
    }
   ],
   "source": [
    "ls /data/reddylab/Revathy/collabs/Jamborees/fcc_capstone/data/Junke_enhancer_calls_5Oct/processed"
   ]
  },
  {
   "cell_type": "code",
   "execution_count": 2,
   "id": "dc4a6ab5-466f-4688-99f2-61add72856b3",
   "metadata": {},
   "outputs": [
    {
     "name": "stdout",
     "output_type": "stream",
     "text": [
      "merged_sig_down_in_each_orientation.bed\n",
      "merged_sig_up_in_each_orientation.bed\n",
      "orientation_independent_up_regulated_peaks_intersection.bed\n",
      "orientation_independent_up_regulated_peaks_union.bed\n",
      "size_constrained_merged_sig_down_in_each_orientation.bed\n",
      "size_constrained_merged_sig_up_in_each_orientation.bed\n",
      "size_constrained_orientation_independent_up_regulated_peaks_intersection.bed\n",
      "size_constrained_orientation_independent_up_regulated_peaks_union.bed\n"
     ]
    }
   ],
   "source": [
    "ls /data/reddylab/Revathy/collabs/Jamborees/fcc_capstone/data/Junke_enhancer_calls_5Oct/processed/merged_peak"
   ]
  },
  {
   "cell_type": "code",
   "execution_count": 3,
   "id": "bf103c61-602e-45ce-b9f0-a39843d671f0",
   "metadata": {},
   "outputs": [
    {
     "name": "stdout",
     "output_type": "stream",
     "text": [
      "\u001b[0m\u001b[38;5;9mdeep_ATAC_STARR_seq.full_overlap_100bp_bin_10bp_stepSize.zip\u001b[0m\n",
      "\u001b[38;5;9mdeep_ATAC_STARR_seq.full_overlap_30bp_bin_10bp_stepSize.zip\u001b[0m\n",
      "\u001b[38;5;27mprocessed\u001b[0m\n",
      "\u001b[38;5;27mprocessed_100bp_bin\u001b[0m\n"
     ]
    }
   ],
   "source": [
    "ls /data/reddylab/Revathy/collabs/Jamborees/fcc_capstone/data/Junke_enhancer_calls_5Oct"
   ]
  },
  {
   "cell_type": "code",
   "execution_count": 4,
   "id": "5634d9a7-e131-4b05-8606-73eb47d2719f",
   "metadata": {},
   "outputs": [
    {
     "name": "stdout",
     "output_type": "stream",
     "text": [
      "UnZip 6.00 of 20 April 2009, by Info-ZIP.  Maintained by C. Spieler.  Send\n",
      "bug reports using http://www.info-zip.org/zip-bug.html; see README for details.\n",
      "\n",
      "Usage: unzip [-Z] [-opts[modifiers]] file[.zip] [list] [-x xlist] [-d exdir]\n",
      "  Default action is to extract files in list, except those in xlist, to exdir;\n",
      "  file[.zip] may be a wildcard.  -Z => ZipInfo mode (\"unzip -Z\" for usage).\n",
      "\n",
      "  -p  extract files to pipe, no messages     -l  list files (short format)\n",
      "  -f  freshen existing files, create none    -t  test compressed archive data\n",
      "  -u  update files, create if necessary      -z  display archive comment only\n",
      "  -v  list verbosely/show version info       -T  timestamp archive to latest\n",
      "  -x  exclude files that follow (in xlist)   -d  extract files into exdir\n",
      "modifiers:\n",
      "  -n  never overwrite existing files         -q  quiet mode (-qq => quieter)\n",
      "  -o  overwrite files WITHOUT prompting      -a  auto-convert any text files\n",
      "  -j  junk paths (do not make directories)   -aa treat ALL files as text\n",
      "  -U  use escapes for all non-ASCII Unicode  -UU ignore any Unicode fields\n",
      "  -C  match filenames case-insensitively     -L  make (some) names lowercase\n",
      "  -X  restore UID/GID info                   -V  retain VMS version numbers\n",
      "  -K  keep setuid/setgid/tacky permissions   -M  pipe through \"more\" pager\n",
      "  -O CHARSET  specify a character encoding for DOS, Windows and OS/2 archives\n",
      "  -I CHARSET  specify a character encoding for UNIX and other archives\n",
      "\n",
      "See \"unzip -hh\" or unzip.txt for more help.  Examples:\n",
      "  unzip data1 -x joe   => extract all files except joe from zipfile data1.zip\n",
      "  unzip -p foo | more  => send contents of foo.zip via pipe into program more\n",
      "  unzip -fo foo ReadMe => quietly replace existing ReadMe if archive file newer\n"
     ]
    }
   ],
   "source": [
    "unzip"
   ]
  },
  {
   "cell_type": "markdown",
   "id": "da367a06-4d88-471e-bca7-6c536739fd71",
   "metadata": {},
   "source": [
    "-----"
   ]
  },
  {
   "cell_type": "code",
   "execution_count": 25,
   "id": "e8bf9360-698b-40c4-99e0-eb4931a1718b",
   "metadata": {},
   "outputs": [
    {
     "name": "stdout",
     "output_type": "stream",
     "text": [
      "/data/reddylab/Kuei/out/proj_combeffect_encode_fcc/source/annotation_enhancer_junke/ATAC_STARR_deep:\n",
      "\u001b[0m\u001b[38;5;9mdeep_ATAC_STARR_seq.full_overlap_30bp_bin_10bp_stepSize.tar.gz\u001b[0m\n",
      "\u001b[38;5;9mdeep_ATAC_STARR_seq.full_overlap_30bp_bin_10bp_stepSize.zip\u001b[0m\n",
      "\n",
      "/data/reddylab/Kuei/out/proj_combeffect_encode_fcc/source/annotation_enhancer_junke/WHG_STARR_seq_TR:\n",
      "\u001b[38;5;9mWHG_STARR_seq_TR.full_overlap_30bp_bin_10bp_stepSize.tar.gz\u001b[0m\n",
      "\u001b[38;5;9mWHG_STARR_seq_TR.full_overlap_30bp_bin_10bp_stepSize.zip\u001b[0m\n"
     ]
    }
   ],
   "source": [
    "ls ${FD_RES}/source/annotation_enhancer_junke/*"
   ]
  },
  {
   "cell_type": "markdown",
   "id": "8769bf1a-8a5d-4762-a017-63615f5d4899",
   "metadata": {},
   "source": [
    "-----"
   ]
  },
  {
   "cell_type": "code",
   "execution_count": 28,
   "id": "7b454748-0b94-4715-bb13-93ca337872ab",
   "metadata": {},
   "outputs": [
    {
     "name": "stdout",
     "output_type": "stream",
     "text": [
      "\u001b[0m\u001b[38;5;9mWHG_STARR_seq_TR.full_overlap_30bp_bin_10bp_stepSize.tar.gz\u001b[0m\n",
      "\u001b[38;5;9mWHG_STARR_seq_TR.full_overlap_30bp_bin_10bp_stepSize.zip\u001b[0m\n"
     ]
    }
   ],
   "source": [
    "cd ${FD_RES}/source/annotation_enhancer_junke/WHG_STARR_seq_TR\n",
    "ls"
   ]
  },
  {
   "cell_type": "code",
   "execution_count": 29,
   "id": "a9e415d7-8aa3-4239-92b7-4a997ee7dfc7",
   "metadata": {},
   "outputs": [
    {
     "name": "stdout",
     "output_type": "stream",
     "text": [
      "Archive:  WHG_STARR_seq_TR.full_overlap_30bp_bin_10bp_stepSize.zip\n",
      "  End-of-central-directory signature not found.  Either this file is not\n",
      "  a zipfile, or it constitutes one disk of a multi-part archive.  In the\n",
      "  latter case the central directory and zipfile comment will be found on\n",
      "  the last disk(s) of this archive.\n",
      "unzip:  cannot find zipfile directory in one of WHG_STARR_seq_TR.full_overlap_30bp_bin_10bp_stepSize.zip or\n",
      "        WHG_STARR_seq_TR.full_overlap_30bp_bin_10bp_stepSize.zip.zip, and cannot find WHG_STARR_seq_TR.full_overlap_30bp_bin_10bp_stepSize.zip.ZIP, period.\n"
     ]
    },
    {
     "ename": "",
     "evalue": "9",
     "output_type": "error",
     "traceback": []
    }
   ],
   "source": [
    "unzip WHG_STARR_seq_TR.full_overlap_30bp_bin_10bp_stepSize.zip"
   ]
  },
  {
   "cell_type": "code",
   "execution_count": 30,
   "id": "a49b5d6d-d85c-4967-9d60-623b3c8f0dc6",
   "metadata": {},
   "outputs": [
    {
     "name": "stdout",
     "output_type": "stream",
     "text": [
      "WHG_STARR_seq_TR.full_overlap_30bp_bin_10bp_stepSize/\n",
      "WHG_STARR_seq_TR.full_overlap_30bp_bin_10bp_stepSize/processed/\n",
      "WHG_STARR_seq_TR.full_overlap_30bp_bin_10bp_stepSize/processed/bin_level/\n",
      "WHG_STARR_seq_TR.full_overlap_30bp_bin_10bp_stepSize/processed/bin_level/all_bin_tested_in_both_orientations.bed.gz\n",
      "WHG_STARR_seq_TR.full_overlap_30bp_bin_10bp_stepSize/processed/bin_level/inactive_bins_with_raw_count.bed.gz\n",
      "WHG_STARR_seq_TR.full_overlap_30bp_bin_10bp_stepSize/processed/bin_level/orientation_independent_significantly_up_regulated_bins.bed.gz\n",
      "WHG_STARR_seq_TR.full_overlap_30bp_bin_10bp_stepSize/processed/bin_level/significantly_down_regulated_bins_with_raw_count.bed.gz\n",
      "WHG_STARR_seq_TR.full_overlap_30bp_bin_10bp_stepSize/processed/bin_level/significantly_up_regulated_bins_with_raw_count.bed.gz\n",
      "WHG_STARR_seq_TR.full_overlap_30bp_bin_10bp_stepSize/processed/merged_peak/\n",
      "WHG_STARR_seq_TR.full_overlap_30bp_bin_10bp_stepSize/processed/merged_peak/merged_sig_down_in_each_orientation.bed.gz\n",
      "WHG_STARR_seq_TR.full_overlap_30bp_bin_10bp_stepSize/processed/merged_peak/merged_sig_up_in_each_orientation.bed.gz\n",
      "WHG_STARR_seq_TR.full_overlap_30bp_bin_10bp_stepSize/processed/merged_peak/orientation_independent_up_regulated_peaks_intersection.bed.gz\n",
      "WHG_STARR_seq_TR.full_overlap_30bp_bin_10bp_stepSize/processed/merged_peak/orientation_independent_up_regulated_peaks_union.bed.gz\n",
      "WHG_STARR_seq_TR.full_overlap_30bp_bin_10bp_stepSize/processed/merged_peak/size_constrained_merged_sig_down_in_each_orientation.bed.gz\n",
      "WHG_STARR_seq_TR.full_overlap_30bp_bin_10bp_stepSize/processed/merged_peak/size_constrained_merged_sig_up_in_each_orientation.bed.gz\n",
      "WHG_STARR_seq_TR.full_overlap_30bp_bin_10bp_stepSize/processed/merged_peak/size_constrained_orientation_independent_up_regulated_peaks_intersection.bed.gz\n",
      "WHG_STARR_seq_TR.full_overlap_30bp_bin_10bp_stepSize/processed/merged_peak/size_constrained_orientation_independent_up_regulated_peaks_union.bed.gz\n",
      "WHG_STARR_seq_TR.full_overlap_30bp_bin_10bp_stepSize/__MACOSX/\n",
      "WHG_STARR_seq_TR.full_overlap_30bp_bin_10bp_stepSize/__MACOSX/._processed\n"
     ]
    }
   ],
   "source": [
    "tar -xvzf WHG_STARR_seq_TR.full_overlap_30bp_bin_10bp_stepSize.tar.gz"
   ]
  },
  {
   "cell_type": "code",
   "execution_count": 31,
   "id": "8a54c092-d36b-45bc-860d-4c2bec57243d",
   "metadata": {},
   "outputs": [
    {
     "name": "stdout",
     "output_type": "stream",
     "text": [
      "\u001b[0m\u001b[38;5;27mWHG_STARR_seq_TR.full_overlap_30bp_bin_10bp_stepSize\u001b[0m\n",
      "\u001b[38;5;9mWHG_STARR_seq_TR.full_overlap_30bp_bin_10bp_stepSize.tar.gz\u001b[0m\n",
      "\u001b[38;5;9mWHG_STARR_seq_TR.full_overlap_30bp_bin_10bp_stepSize.zip\u001b[0m\n"
     ]
    }
   ],
   "source": [
    "ls"
   ]
  },
  {
   "cell_type": "code",
   "execution_count": 37,
   "id": "cb959d2c-050d-4a4e-b4fa-223da8401f14",
   "metadata": {},
   "outputs": [
    {
     "name": "stdout",
     "output_type": "stream",
     "text": [
      "\u001b[0m\u001b[38;5;27m__MACOSX\u001b[0m  \u001b[38;5;27mprocessed\u001b[0m\n"
     ]
    }
   ],
   "source": [
    "ls WHG_STARR_seq_TR.full_overlap_30bp_bin_10bp_stepSize"
   ]
  },
  {
   "cell_type": "code",
   "execution_count": 38,
   "id": "cef14c02-c87b-46be-bdc4-fa89fc1be00c",
   "metadata": {},
   "outputs": [
    {
     "name": "stdout",
     "output_type": "stream",
     "text": [
      "\u001b[0m\u001b[38;5;27mbin_level\u001b[0m  \u001b[38;5;27mmerged_peak\u001b[0m\n"
     ]
    }
   ],
   "source": [
    "ls WHG_STARR_seq_TR.full_overlap_30bp_bin_10bp_stepSize/processed"
   ]
  },
  {
   "cell_type": "markdown",
   "id": "79411764-691c-4866-9128-a20185944287",
   "metadata": {},
   "source": [
    "-----"
   ]
  },
  {
   "cell_type": "code",
   "execution_count": 32,
   "id": "b26dde51-e3a2-4713-8270-38059ca4ae53",
   "metadata": {},
   "outputs": [
    {
     "name": "stdout",
     "output_type": "stream",
     "text": [
      "\u001b[0m\u001b[38;5;9mdeep_ATAC_STARR_seq.full_overlap_30bp_bin_10bp_stepSize.tar.gz\u001b[0m\n",
      "\u001b[38;5;9mdeep_ATAC_STARR_seq.full_overlap_30bp_bin_10bp_stepSize.zip\u001b[0m\n"
     ]
    }
   ],
   "source": [
    "cd ${FD_RES}/source/annotation_enhancer_junke/ATAC_STARR_deep\n",
    "ls"
   ]
  },
  {
   "cell_type": "code",
   "execution_count": 33,
   "id": "d68472f5-0d64-4652-b716-2bffd67e8beb",
   "metadata": {},
   "outputs": [
    {
     "name": "stdout",
     "output_type": "stream",
     "text": [
      "deep_ATAC_STARR_seq.full_overlap_30bp_bin_10bp_stepSize/\n",
      "deep_ATAC_STARR_seq.full_overlap_30bp_bin_10bp_stepSize/processed/\n",
      "deep_ATAC_STARR_seq.full_overlap_30bp_bin_10bp_stepSize/processed/bin_level/\n",
      "deep_ATAC_STARR_seq.full_overlap_30bp_bin_10bp_stepSize/processed/bin_level/all_bin_tested_in_both_orientations.bed.gz\n",
      "deep_ATAC_STARR_seq.full_overlap_30bp_bin_10bp_stepSize/processed/bin_level/inactive_bins_with_raw_count.bed.gz\n",
      "deep_ATAC_STARR_seq.full_overlap_30bp_bin_10bp_stepSize/processed/bin_level/orientation_independent_significantly_up_regulated_bins.bed.gz\n",
      "deep_ATAC_STARR_seq.full_overlap_30bp_bin_10bp_stepSize/processed/bin_level/significantly_down_regulated_bins_with_raw_count.bed.gz\n",
      "deep_ATAC_STARR_seq.full_overlap_30bp_bin_10bp_stepSize/processed/bin_level/significantly_up_regulated_bins_with_raw_count.bed.gz\n",
      "deep_ATAC_STARR_seq.full_overlap_30bp_bin_10bp_stepSize/processed/merged_peak/\n",
      "deep_ATAC_STARR_seq.full_overlap_30bp_bin_10bp_stepSize/processed/merged_peak/merged_sig_down_in_each_orientation.bed.gz\n",
      "deep_ATAC_STARR_seq.full_overlap_30bp_bin_10bp_stepSize/processed/merged_peak/merged_sig_up_in_each_orientation.bed.gz\n",
      "deep_ATAC_STARR_seq.full_overlap_30bp_bin_10bp_stepSize/processed/merged_peak/orientation_independent_up_regulated_peaks_intersection.bed.gz\n",
      "deep_ATAC_STARR_seq.full_overlap_30bp_bin_10bp_stepSize/processed/merged_peak/orientation_independent_up_regulated_peaks_union.bed.gz\n",
      "deep_ATAC_STARR_seq.full_overlap_30bp_bin_10bp_stepSize/processed/merged_peak/size_constrained_merged_sig_down_in_each_orientation.bed.gz\n",
      "deep_ATAC_STARR_seq.full_overlap_30bp_bin_10bp_stepSize/processed/merged_peak/size_constrained_merged_sig_up_in_each_orientation.bed.gz\n",
      "deep_ATAC_STARR_seq.full_overlap_30bp_bin_10bp_stepSize/processed/merged_peak/size_constrained_orientation_independent_up_regulated_peaks_intersection.bed.gz\n",
      "deep_ATAC_STARR_seq.full_overlap_30bp_bin_10bp_stepSize/processed/merged_peak/size_constrained_orientation_independent_up_regulated_peaks_union.bed.gz\n"
     ]
    }
   ],
   "source": [
    "tar -xvzf deep_ATAC_STARR_seq.full_overlap_30bp_bin_10bp_stepSize.tar.gz"
   ]
  },
  {
   "cell_type": "code",
   "execution_count": 34,
   "id": "91de4611-7cf7-4bc0-a0de-cd2072d07515",
   "metadata": {},
   "outputs": [
    {
     "name": "stdout",
     "output_type": "stream",
     "text": [
      "\u001b[0m\u001b[38;5;27mdeep_ATAC_STARR_seq.full_overlap_30bp_bin_10bp_stepSize\u001b[0m\n",
      "\u001b[38;5;9mdeep_ATAC_STARR_seq.full_overlap_30bp_bin_10bp_stepSize.tar.gz\u001b[0m\n",
      "\u001b[38;5;9mdeep_ATAC_STARR_seq.full_overlap_30bp_bin_10bp_stepSize.zip\u001b[0m\n"
     ]
    }
   ],
   "source": [
    "ls"
   ]
  },
  {
   "cell_type": "code",
   "execution_count": 35,
   "id": "41bc7878-3eb5-4cf8-9d5f-21209b20bbec",
   "metadata": {},
   "outputs": [
    {
     "name": "stdout",
     "output_type": "stream",
     "text": [
      "\u001b[0m\u001b[38;5;27mprocessed\u001b[0m\n"
     ]
    }
   ],
   "source": [
    "ls deep_ATAC_STARR_seq.full_overlap_30bp_bin_10bp_stepSize"
   ]
  },
  {
   "cell_type": "code",
   "execution_count": 40,
   "id": "5d84dbd8-103d-490a-a821-393b0e2a8dc2",
   "metadata": {},
   "outputs": [
    {
     "name": "stdout",
     "output_type": "stream",
     "text": [
      "\u001b[0m\u001b[38;5;27mbin_level\u001b[0m  \u001b[38;5;27mmerged_peak\u001b[0m\n"
     ]
    }
   ],
   "source": [
    "ls deep_ATAC_STARR_seq.full_overlap_30bp_bin_10bp_stepSize/processed"
   ]
  },
  {
   "cell_type": "code",
   "execution_count": null,
   "id": "845bea21-f359-4392-a4d9-8c57c879964f",
   "metadata": {},
   "outputs": [],
   "source": []
  },
  {
   "cell_type": "code",
   "execution_count": null,
   "id": "c44c5547-45c6-42b9-8529-d921ce0fd521",
   "metadata": {},
   "outputs": [],
   "source": []
  },
  {
   "cell_type": "code",
   "execution_count": 22,
   "id": "40dfd389-5f98-48cd-907e-0028bfdaaf77",
   "metadata": {},
   "outputs": [
    {
     "name": "stdout",
     "output_type": "stream",
     "text": [
      "\u001b[0m\u001b[38;5;27mannotation\u001b[0m  \u001b[38;5;27mbackup\u001b[0m  \u001b[38;5;27mbin\u001b[0m  \u001b[38;5;27mcode\u001b[0m  \u001b[38;5;27mout\u001b[0m  \u001b[38;5;27msingularity\u001b[0m  \u001b[38;5;27msource\u001b[0m  \u001b[38;5;27mupload\u001b[0m  \u001b[38;5;27mvenv\u001b[0m\n"
     ]
    }
   ],
   "source": [
    "ls /data/reddylab/Kuei"
   ]
  },
  {
   "cell_type": "code",
   "execution_count": 21,
   "id": "91f3d377-ab7f-427e-9bab-981ba4113851",
   "metadata": {},
   "outputs": [],
   "source": [
    "mkdir -p /data/reddylab/Kuei/upload"
   ]
  },
  {
   "cell_type": "code",
   "execution_count": null,
   "id": "88467d62-5ad7-475a-98d1-f1325fa1e9b1",
   "metadata": {},
   "outputs": [],
   "source": []
  }
 ],
 "metadata": {
  "kernelspec": {
   "display_name": "Bash",
   "language": "bash",
   "name": "bash"
  },
  "language_info": {
   "codemirror_mode": "shell",
   "file_extension": ".sh",
   "mimetype": "text/x-sh",
   "name": "bash"
  }
 },
 "nbformat": 4,
 "nbformat_minor": 5
}
