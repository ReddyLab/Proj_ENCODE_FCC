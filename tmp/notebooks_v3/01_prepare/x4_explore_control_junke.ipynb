{
 "cells": [
  {
   "cell_type": "code",
   "execution_count": 1,
   "id": "e22b583f",
   "metadata": {},
   "outputs": [
    {
     "name": "stdout",
     "output_type": "stream",
     "text": [
      "You are in Singularity: singularity_proj_combeffect \n",
      "BASE DIRECTORY:     /data/reddylab/Kuei \n",
      "WORK DIRECTORY:     /data/reddylab/Kuei/out \n",
      "CODE DIRECTORY:     /data/reddylab/Kuei/code \n",
      "PATH OF SOURCE:     /data/reddylab/Kuei/source \n",
      "PATH OF EXECUTABLE: /data/reddylab/Kuei/bin \n",
      "PATH OF ANNOTATION: /data/reddylab/Kuei/annotation \n",
      "PATH OF PROJECT:    /data/reddylab/Kuei/code/Proj_CombEffect_ENCODE_FCC \n",
      "PATH OF RESULTS:    /data/reddylab/Kuei/out/proj_combeffect_encode_fcc \n"
     ]
    }
   ],
   "source": [
    "suppressMessages(suppressWarnings(source(\"../config/config_sing.R\")))\n",
    "show_env()"
   ]
  },
  {
   "cell_type": "code",
   "execution_count": 7,
   "id": "2d723c46",
   "metadata": {},
   "outputs": [
    {
     "name": "stderr",
     "output_type": "stream",
     "text": [
      "\u001b[1mRows: \u001b[22m\u001b[34m18612\u001b[39m \u001b[1mColumns: \u001b[22m\u001b[34m14\u001b[39m\n",
      "\u001b[36m──\u001b[39m \u001b[1mColumn specification\u001b[22m \u001b[36m──────────────────────────────────────────\u001b[39m\n",
      "\u001b[1mDelimiter:\u001b[22m \"\\t\"\n",
      "\u001b[31mchr\u001b[39m  (2): Chrom, Strand\n",
      "\u001b[32mdbl\u001b[39m (12): Start, End, Sample_1, Sample_2, Sample_3, Sample_4, Sample_5, Samp...\n",
      "\n",
      "\u001b[36mℹ\u001b[39m Use `spec()` to retrieve the full column specification for this data.\n",
      "\u001b[36mℹ\u001b[39m Specify the column types or set `show_col_types = FALSE` to quiet this message.\n"
     ]
    },
    {
     "name": "stdout",
     "output_type": "stream",
     "text": [
      "[1] 18612    14\n"
     ]
    },
    {
     "data": {
      "text/html": [
       "<table class=\"dataframe\">\n",
       "<caption>A tibble: 6 × 14</caption>\n",
       "<thead>\n",
       "\t<tr><th scope=col>Chrom</th><th scope=col>Start</th><th scope=col>End</th><th scope=col>Strand</th><th scope=col>Sample_1</th><th scope=col>Sample_2</th><th scope=col>Sample_3</th><th scope=col>Sample_4</th><th scope=col>Sample_5</th><th scope=col>Sample_6</th><th scope=col>Sample_7</th><th scope=col>Sample_8</th><th scope=col>Sample_9</th><th scope=col>Sample_10</th></tr>\n",
       "\t<tr><th scope=col>&lt;chr&gt;</th><th scope=col>&lt;dbl&gt;</th><th scope=col>&lt;dbl&gt;</th><th scope=col>&lt;chr&gt;</th><th scope=col>&lt;dbl&gt;</th><th scope=col>&lt;dbl&gt;</th><th scope=col>&lt;dbl&gt;</th><th scope=col>&lt;dbl&gt;</th><th scope=col>&lt;dbl&gt;</th><th scope=col>&lt;dbl&gt;</th><th scope=col>&lt;dbl&gt;</th><th scope=col>&lt;dbl&gt;</th><th scope=col>&lt;dbl&gt;</th><th scope=col>&lt;dbl&gt;</th></tr>\n",
       "</thead>\n",
       "<tbody>\n",
       "\t<tr><td>chr1</td><td>966531</td><td>966614</td><td>+</td><td>0</td><td>0</td><td>0</td><td>0</td><td>0</td><td>0</td><td>0</td><td>0</td><td>0</td><td>0</td></tr>\n",
       "\t<tr><td>chr1</td><td>966531</td><td>966614</td><td>-</td><td>0</td><td>0</td><td>0</td><td>0</td><td>0</td><td>0</td><td>0</td><td>0</td><td>0</td><td>0</td></tr>\n",
       "\t<tr><td>chr1</td><td>966703</td><td>966803</td><td>+</td><td>0</td><td>0</td><td>0</td><td>0</td><td>0</td><td>0</td><td>0</td><td>0</td><td>0</td><td>0</td></tr>\n",
       "\t<tr><td>chr1</td><td>966703</td><td>966803</td><td>-</td><td>0</td><td>0</td><td>0</td><td>0</td><td>0</td><td>0</td><td>0</td><td>0</td><td>0</td><td>0</td></tr>\n",
       "\t<tr><td>chr1</td><td>970276</td><td>970423</td><td>+</td><td>0</td><td>2</td><td>2</td><td>1</td><td>1</td><td>0</td><td>0</td><td>0</td><td>0</td><td>0</td></tr>\n",
       "\t<tr><td>chr1</td><td>970276</td><td>970423</td><td>-</td><td>1</td><td>2</td><td>3</td><td>2</td><td>4</td><td>2</td><td>0</td><td>0</td><td>0</td><td>0</td></tr>\n",
       "</tbody>\n",
       "</table>\n"
      ],
      "text/latex": [
       "A tibble: 6 × 14\n",
       "\\begin{tabular}{llllllllllllll}\n",
       " Chrom & Start & End & Strand & Sample\\_1 & Sample\\_2 & Sample\\_3 & Sample\\_4 & Sample\\_5 & Sample\\_6 & Sample\\_7 & Sample\\_8 & Sample\\_9 & Sample\\_10\\\\\n",
       " <chr> & <dbl> & <dbl> & <chr> & <dbl> & <dbl> & <dbl> & <dbl> & <dbl> & <dbl> & <dbl> & <dbl> & <dbl> & <dbl>\\\\\n",
       "\\hline\n",
       "\t chr1 & 966531 & 966614 & + & 0 & 0 & 0 & 0 & 0 & 0 & 0 & 0 & 0 & 0\\\\\n",
       "\t chr1 & 966531 & 966614 & - & 0 & 0 & 0 & 0 & 0 & 0 & 0 & 0 & 0 & 0\\\\\n",
       "\t chr1 & 966703 & 966803 & + & 0 & 0 & 0 & 0 & 0 & 0 & 0 & 0 & 0 & 0\\\\\n",
       "\t chr1 & 966703 & 966803 & - & 0 & 0 & 0 & 0 & 0 & 0 & 0 & 0 & 0 & 0\\\\\n",
       "\t chr1 & 970276 & 970423 & + & 0 & 2 & 2 & 1 & 1 & 0 & 0 & 0 & 0 & 0\\\\\n",
       "\t chr1 & 970276 & 970423 & - & 1 & 2 & 3 & 2 & 4 & 2 & 0 & 0 & 0 & 0\\\\\n",
       "\\end{tabular}\n"
      ],
      "text/markdown": [
       "\n",
       "A tibble: 6 × 14\n",
       "\n",
       "| Chrom &lt;chr&gt; | Start &lt;dbl&gt; | End &lt;dbl&gt; | Strand &lt;chr&gt; | Sample_1 &lt;dbl&gt; | Sample_2 &lt;dbl&gt; | Sample_3 &lt;dbl&gt; | Sample_4 &lt;dbl&gt; | Sample_5 &lt;dbl&gt; | Sample_6 &lt;dbl&gt; | Sample_7 &lt;dbl&gt; | Sample_8 &lt;dbl&gt; | Sample_9 &lt;dbl&gt; | Sample_10 &lt;dbl&gt; |\n",
       "|---|---|---|---|---|---|---|---|---|---|---|---|---|---|\n",
       "| chr1 | 966531 | 966614 | + | 0 | 0 | 0 | 0 | 0 | 0 | 0 | 0 | 0 | 0 |\n",
       "| chr1 | 966531 | 966614 | - | 0 | 0 | 0 | 0 | 0 | 0 | 0 | 0 | 0 | 0 |\n",
       "| chr1 | 966703 | 966803 | + | 0 | 0 | 0 | 0 | 0 | 0 | 0 | 0 | 0 | 0 |\n",
       "| chr1 | 966703 | 966803 | - | 0 | 0 | 0 | 0 | 0 | 0 | 0 | 0 | 0 | 0 |\n",
       "| chr1 | 970276 | 970423 | + | 0 | 2 | 2 | 1 | 1 | 0 | 0 | 0 | 0 | 0 |\n",
       "| chr1 | 970276 | 970423 | - | 1 | 2 | 3 | 2 | 4 | 2 | 0 | 0 | 0 | 0 |\n",
       "\n"
      ],
      "text/plain": [
       "  Chrom Start  End    Strand Sample_1 Sample_2 Sample_3 Sample_4 Sample_5\n",
       "1 chr1  966531 966614 +      0        0        0        0        0       \n",
       "2 chr1  966531 966614 -      0        0        0        0        0       \n",
       "3 chr1  966703 966803 +      0        0        0        0        0       \n",
       "4 chr1  966703 966803 -      0        0        0        0        0       \n",
       "5 chr1  970276 970423 +      0        2        2        1        1       \n",
       "6 chr1  970276 970423 -      1        2        3        2        4       \n",
       "  Sample_6 Sample_7 Sample_8 Sample_9 Sample_10\n",
       "1 0        0        0        0        0        \n",
       "2 0        0        0        0        0        \n",
       "3 0        0        0        0        0        \n",
       "4 0        0        0        0        0        \n",
       "5 0        0        0        0        0        \n",
       "6 2        0        0        0        0        "
      ]
     },
     "metadata": {},
     "output_type": "display_data"
    }
   ],
   "source": [
    "### set file directory\n",
    "fdiry = file.path(FD_RES, \"source\", \"negative_control_junke\")\n",
    "fname = \"deep_atac_starr_orf_ctrl_count_mat_all_sorted.bed\"\n",
    "fpath = file.path(fdiry, fname)\n",
    "\n",
    "### import data\n",
    "cnames = c(\"Chrom\", \"Start\", \"End\", \"Strand\", paste(\"Sample\", 1:10, sep=\"_\"))\n",
    "dat = read_tsv(fpath, col_names = cnames)\n",
    "\n",
    "### show info\n",
    "dat_astarr_orf = dat\n",
    "print(dim(dat))\n",
    "head(dat)"
   ]
  },
  {
   "cell_type": "code",
   "execution_count": 8,
   "id": "bde7c676",
   "metadata": {},
   "outputs": [
    {
     "name": "stderr",
     "output_type": "stream",
     "text": [
      "\u001b[1mRows: \u001b[22m\u001b[34m18612\u001b[39m \u001b[1mColumns: \u001b[22m\u001b[34m8\u001b[39m\n",
      "\u001b[36m──\u001b[39m \u001b[1mColumn specification\u001b[22m \u001b[36m──────────────────────────────────────────\u001b[39m\n",
      "\u001b[1mDelimiter:\u001b[22m \"\\t\"\n",
      "\u001b[31mchr\u001b[39m (2): Chrom, Strand\n",
      "\u001b[32mdbl\u001b[39m (6): Start, End, Sample_1, Sample_2, Sample_3, Sample_4\n",
      "\n",
      "\u001b[36mℹ\u001b[39m Use `spec()` to retrieve the full column specification for this data.\n",
      "\u001b[36mℹ\u001b[39m Specify the column types or set `show_col_types = FALSE` to quiet this message.\n"
     ]
    },
    {
     "name": "stdout",
     "output_type": "stream",
     "text": [
      "[1] 18612     8\n"
     ]
    },
    {
     "data": {
      "text/html": [
       "<table class=\"dataframe\">\n",
       "<caption>A tibble: 6 × 8</caption>\n",
       "<thead>\n",
       "\t<tr><th scope=col>Chrom</th><th scope=col>Start</th><th scope=col>End</th><th scope=col>Strand</th><th scope=col>Sample_1</th><th scope=col>Sample_2</th><th scope=col>Sample_3</th><th scope=col>Sample_4</th></tr>\n",
       "\t<tr><th scope=col>&lt;chr&gt;</th><th scope=col>&lt;dbl&gt;</th><th scope=col>&lt;dbl&gt;</th><th scope=col>&lt;chr&gt;</th><th scope=col>&lt;dbl&gt;</th><th scope=col>&lt;dbl&gt;</th><th scope=col>&lt;dbl&gt;</th><th scope=col>&lt;dbl&gt;</th></tr>\n",
       "</thead>\n",
       "<tbody>\n",
       "\t<tr><td>chr1</td><td>966531</td><td>966614</td><td>+</td><td>0</td><td>0</td><td>0</td><td>0</td></tr>\n",
       "\t<tr><td>chr1</td><td>966531</td><td>966614</td><td>-</td><td>0</td><td>0</td><td>0</td><td>0</td></tr>\n",
       "\t<tr><td>chr1</td><td>966703</td><td>966803</td><td>+</td><td>0</td><td>0</td><td>0</td><td>0</td></tr>\n",
       "\t<tr><td>chr1</td><td>966703</td><td>966803</td><td>-</td><td>0</td><td>0</td><td>0</td><td>0</td></tr>\n",
       "\t<tr><td>chr1</td><td>970276</td><td>970423</td><td>+</td><td>0</td><td>0</td><td>0</td><td>0</td></tr>\n",
       "\t<tr><td>chr1</td><td>970276</td><td>970423</td><td>-</td><td>0</td><td>0</td><td>0</td><td>0</td></tr>\n",
       "</tbody>\n",
       "</table>\n"
      ],
      "text/latex": [
       "A tibble: 6 × 8\n",
       "\\begin{tabular}{llllllll}\n",
       " Chrom & Start & End & Strand & Sample\\_1 & Sample\\_2 & Sample\\_3 & Sample\\_4\\\\\n",
       " <chr> & <dbl> & <dbl> & <chr> & <dbl> & <dbl> & <dbl> & <dbl>\\\\\n",
       "\\hline\n",
       "\t chr1 & 966531 & 966614 & + & 0 & 0 & 0 & 0\\\\\n",
       "\t chr1 & 966531 & 966614 & - & 0 & 0 & 0 & 0\\\\\n",
       "\t chr1 & 966703 & 966803 & + & 0 & 0 & 0 & 0\\\\\n",
       "\t chr1 & 966703 & 966803 & - & 0 & 0 & 0 & 0\\\\\n",
       "\t chr1 & 970276 & 970423 & + & 0 & 0 & 0 & 0\\\\\n",
       "\t chr1 & 970276 & 970423 & - & 0 & 0 & 0 & 0\\\\\n",
       "\\end{tabular}\n"
      ],
      "text/markdown": [
       "\n",
       "A tibble: 6 × 8\n",
       "\n",
       "| Chrom &lt;chr&gt; | Start &lt;dbl&gt; | End &lt;dbl&gt; | Strand &lt;chr&gt; | Sample_1 &lt;dbl&gt; | Sample_2 &lt;dbl&gt; | Sample_3 &lt;dbl&gt; | Sample_4 &lt;dbl&gt; |\n",
       "|---|---|---|---|---|---|---|---|\n",
       "| chr1 | 966531 | 966614 | + | 0 | 0 | 0 | 0 |\n",
       "| chr1 | 966531 | 966614 | - | 0 | 0 | 0 | 0 |\n",
       "| chr1 | 966703 | 966803 | + | 0 | 0 | 0 | 0 |\n",
       "| chr1 | 966703 | 966803 | - | 0 | 0 | 0 | 0 |\n",
       "| chr1 | 970276 | 970423 | + | 0 | 0 | 0 | 0 |\n",
       "| chr1 | 970276 | 970423 | - | 0 | 0 | 0 | 0 |\n",
       "\n"
      ],
      "text/plain": [
       "  Chrom Start  End    Strand Sample_1 Sample_2 Sample_3 Sample_4\n",
       "1 chr1  966531 966614 +      0        0        0        0       \n",
       "2 chr1  966531 966614 -      0        0        0        0       \n",
       "3 chr1  966703 966803 +      0        0        0        0       \n",
       "4 chr1  966703 966803 -      0        0        0        0       \n",
       "5 chr1  970276 970423 +      0        0        0        0       \n",
       "6 chr1  970276 970423 -      0        0        0        0       "
      ]
     },
     "metadata": {},
     "output_type": "display_data"
    }
   ],
   "source": [
    "### set file directory\n",
    "fdiry = file.path(FD_RES, \"source\", \"negative_control_junke\")\n",
    "fname = \"whg_starr_tr_orf_ctrl_count_mat_all_sorted.bed\"\n",
    "fpath = file.path(fdiry, fname)\n",
    "\n",
    "### import data\n",
    "cnames = c(\"Chrom\", \"Start\", \"End\", \"Strand\", paste(\"Sample\", 1:4, sep=\"_\"))\n",
    "dat = read_tsv(fpath, col_names = cnames)\n",
    "\n",
    "### show info\n",
    "dat_wstarr_orf = dat\n",
    "print(dim(dat))\n",
    "head(dat)"
   ]
  },
  {
   "cell_type": "code",
   "execution_count": 10,
   "id": "8c67c591",
   "metadata": {},
   "outputs": [
    {
     "data": {
      "text/plain": [
       "   Min. 1st Qu.  Median    Mean 3rd Qu.    Max. \n",
       "    3.0    59.0   107.0   131.3   160.0  3215.0 "
      ]
     },
     "metadata": {},
     "output_type": "display_data"
    }
   ],
   "source": [
    "dat = dat_astarr_orf\n",
    "dat = dat %>% dplyr::mutate(Length = End - Start)\n",
    "summary(dat$Length)"
   ]
  },
  {
   "cell_type": "code",
   "execution_count": 11,
   "id": "405f98f1",
   "metadata": {},
   "outputs": [
    {
     "data": {
      "text/plain": [
       "   Min. 1st Qu.  Median    Mean 3rd Qu.    Max. \n",
       "    3.0    59.0   107.0   131.3   160.0  3215.0 "
      ]
     },
     "metadata": {},
     "output_type": "display_data"
    }
   ],
   "source": [
    "dat = dat_wstarr_orf\n",
    "dat = dat %>% dplyr::mutate(Length = End - Start)\n",
    "summary(dat$Length)"
   ]
  },
  {
   "cell_type": "code",
   "execution_count": null,
   "id": "7a44e4eb",
   "metadata": {},
   "outputs": [],
   "source": []
  }
 ],
 "metadata": {
  "kernelspec": {
   "display_name": "R",
   "language": "R",
   "name": "ir"
  },
  "language_info": {
   "codemirror_mode": "r",
   "file_extension": ".r",
   "mimetype": "text/x-r-source",
   "name": "R",
   "pygments_lexer": "r",
   "version": "4.2.2"
  }
 },
 "nbformat": 4,
 "nbformat_minor": 5
}
