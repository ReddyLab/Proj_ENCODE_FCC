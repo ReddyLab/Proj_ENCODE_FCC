{
 "cells": [
  {
   "cell_type": "markdown",
   "metadata": {},
   "source": [
    "**Set environment**"
   ]
  },
  {
   "cell_type": "code",
   "execution_count": 2,
   "metadata": {},
   "outputs": [
    {
     "name": "stdout",
     "output_type": "stream",
     "text": [
      "You are in Singularity: singularity_proj_combeffect \n",
      "BASE DIRECTORY:     /data/reddylab/Kuei \n",
      "WORK DIRECTORY:     /data/reddylab/Kuei/out \n",
      "CODE DIRECTORY:     /data/reddylab/Kuei/code \n",
      "PATH OF SOURCE:     /data/reddylab/Kuei/source \n",
      "PATH OF EXECUTABLE: /data/reddylab/Kuei/bin \n",
      "PATH OF ANNOTATION: /data/reddylab/Kuei/annotation \n",
      "PATH OF PROJECT:    /data/reddylab/Kuei/code/Proj_CombEffect_ENCODE_FCC \n",
      "PATH OF RESULTS:    /data/reddylab/Kuei/out/proj_combeffect_encode_fcc \n"
     ]
    }
   ],
   "source": [
    "suppressWarnings(suppressMessages(source(\"../config/config_sing.R\")))\n",
    "show_env()"
   ]
  },
  {
   "cell_type": "markdown",
   "metadata": {},
   "source": [
    "## Import GATA1 bedgraph"
   ]
  },
  {
   "cell_type": "code",
   "execution_count": 20,
   "metadata": {},
   "outputs": [
    {
     "name": "stdout",
     "output_type": "stream",
     "text": [
      "[1] \"GATA1_HCRFF_r1.log2FC_Z.bedgraph\" \"GATA1_HCRFF_r2.log2FC_Z.bedgraph\"\n",
      "[3] \"GATA1_HS_exp_r1.tsv\"              \"GATA1_HS_exp_r1.tsv.gz\"          \n",
      "[5] \"GATA1_HS_exp_r2.tsv.gz\"           \"GATA1_LS_exp_r1.tsv.gz\"          \n",
      "[7] \"GATA1_LS_exp_r2.tsv.gz\"          \n"
     ]
    }
   ],
   "source": [
    "fdiry = file.path(FD_RES, \"source\", \"CRISPR\", \"track_bedgraph\")\n",
    "dir(fdiry) |> grep(pattern=\"GATA1\", value=TRUE) |> print()"
   ]
  },
  {
   "cell_type": "code",
   "execution_count": 4,
   "metadata": {},
   "outputs": [
    {
     "name": "stdout",
     "output_type": "stream",
     "text": [
      "[1] 13732     4\n"
     ]
    },
    {
     "data": {
      "text/html": [
       "<table class=\"dataframe\">\n",
       "<caption>A tibble: 6 × 4</caption>\n",
       "<thead>\n",
       "\t<tr><th scope=col>Chrom</th><th scope=col>Start</th><th scope=col>End</th><th scope=col>Score</th></tr>\n",
       "\t<tr><th scope=col>&lt;chr&gt;</th><th scope=col>&lt;int&gt;</th><th scope=col>&lt;int&gt;</th><th scope=col>&lt;dbl&gt;</th></tr>\n",
       "</thead>\n",
       "<tbody>\n",
       "\t<tr><td>chr12</td><td>54300767</td><td>54300767</td><td>-0.6175662</td></tr>\n",
       "\t<tr><td>chr12</td><td>54300811</td><td>54300811</td><td> 0.8494210</td></tr>\n",
       "\t<tr><td>chr12</td><td>54300999</td><td>54300999</td><td>-0.3535536</td></tr>\n",
       "\t<tr><td>chr12</td><td>54301042</td><td>54301042</td><td>-1.2634945</td></tr>\n",
       "\t<tr><td>chr19</td><td>12887111</td><td>12887111</td><td> 0.4573210</td></tr>\n",
       "\t<tr><td>chr19</td><td>12887179</td><td>12887179</td><td>-0.1476385</td></tr>\n",
       "</tbody>\n",
       "</table>\n"
      ],
      "text/latex": [
       "A tibble: 6 × 4\n",
       "\\begin{tabular}{llll}\n",
       " Chrom & Start & End & Score\\\\\n",
       " <chr> & <int> & <int> & <dbl>\\\\\n",
       "\\hline\n",
       "\t chr12 & 54300767 & 54300767 & -0.6175662\\\\\n",
       "\t chr12 & 54300811 & 54300811 &  0.8494210\\\\\n",
       "\t chr12 & 54300999 & 54300999 & -0.3535536\\\\\n",
       "\t chr12 & 54301042 & 54301042 & -1.2634945\\\\\n",
       "\t chr19 & 12887111 & 12887111 &  0.4573210\\\\\n",
       "\t chr19 & 12887179 & 12887179 & -0.1476385\\\\\n",
       "\\end{tabular}\n"
      ],
      "text/markdown": [
       "\n",
       "A tibble: 6 × 4\n",
       "\n",
       "| Chrom &lt;chr&gt; | Start &lt;int&gt; | End &lt;int&gt; | Score &lt;dbl&gt; |\n",
       "|---|---|---|---|\n",
       "| chr12 | 54300767 | 54300767 | -0.6175662 |\n",
       "| chr12 | 54300811 | 54300811 |  0.8494210 |\n",
       "| chr12 | 54300999 | 54300999 | -0.3535536 |\n",
       "| chr12 | 54301042 | 54301042 | -1.2634945 |\n",
       "| chr19 | 12887111 | 12887111 |  0.4573210 |\n",
       "| chr19 | 12887179 | 12887179 | -0.1476385 |\n",
       "\n"
      ],
      "text/plain": [
       "  Chrom Start    End      Score     \n",
       "1 chr12 54300767 54300767 -0.6175662\n",
       "2 chr12 54300811 54300811  0.8494210\n",
       "3 chr12 54300999 54300999 -0.3535536\n",
       "4 chr12 54301042 54301042 -1.2634945\n",
       "5 chr19 12887111 12887111  0.4573210\n",
       "6 chr19 12887179 12887179 -0.1476385"
      ]
     },
     "metadata": {},
     "output_type": "display_data"
    }
   ],
   "source": [
    "fdiry = file.path(FD_RES, \"source\", \"CRISPR\", \"track_bedgraph\")\n",
    "fname = \"GATA1_HCRFF_r1.log2FC_Z.bedgraph\"\n",
    "fpath = file.path(fdiry, fname)\n",
    "\n",
    "cnames = c(\"Chrom\", \"Start\", \"End\", \"Score\")\n",
    "ctypes = cols(\n",
    "    \"Chrom\" = col_character(),\n",
    "    \"Start\" = col_integer(),\n",
    "    \"End\"   = col_integer(),\n",
    "    \"Score\" = col_double()\n",
    ")\n",
    "dat = read_tsv(fpath, col_names = cnames, col_types = ctypes)\n",
    "\n",
    "dat_crispr_log2fc_r1 = dat\n",
    "print(dim(dat))\n",
    "head(dat)"
   ]
  },
  {
   "cell_type": "markdown",
   "metadata": {},
   "source": [
    "[ENCODE/guide_quant_format.txt at main · oh-jinwoo94/ENCODE · GitHub](https://github.com/oh-jinwoo94/ENCODE/blob/main/guide_quant_format.txt)"
   ]
  },
  {
   "cell_type": "code",
   "execution_count": 9,
   "metadata": {},
   "outputs": [
    {
     "name": "stdout",
     "output_type": "stream",
     "text": [
      "[1] 13732     4\n"
     ]
    },
    {
     "data": {
      "text/html": [
       "<table class=\"dataframe\">\n",
       "<caption>A tibble: 6 × 4</caption>\n",
       "<thead>\n",
       "\t<tr><th scope=col>Chrom</th><th scope=col>Start</th><th scope=col>End</th><th scope=col>Score</th></tr>\n",
       "\t<tr><th scope=col>&lt;chr&gt;</th><th scope=col>&lt;int&gt;</th><th scope=col>&lt;int&gt;</th><th scope=col>&lt;dbl&gt;</th></tr>\n",
       "</thead>\n",
       "<tbody>\n",
       "\t<tr><td>chr12</td><td>54300767</td><td>54300767</td><td>-1.1558451</td></tr>\n",
       "\t<tr><td>chr12</td><td>54300811</td><td>54300811</td><td>-0.3592771</td></tr>\n",
       "\t<tr><td>chr12</td><td>54300999</td><td>54300999</td><td>-0.4740231</td></tr>\n",
       "\t<tr><td>chr12</td><td>54301042</td><td>54301042</td><td>-0.5720225</td></tr>\n",
       "\t<tr><td>chr19</td><td>12887111</td><td>12887111</td><td>-1.2631031</td></tr>\n",
       "\t<tr><td>chr19</td><td>12887179</td><td>12887179</td><td>-1.0662271</td></tr>\n",
       "</tbody>\n",
       "</table>\n"
      ],
      "text/latex": [
       "A tibble: 6 × 4\n",
       "\\begin{tabular}{llll}\n",
       " Chrom & Start & End & Score\\\\\n",
       " <chr> & <int> & <int> & <dbl>\\\\\n",
       "\\hline\n",
       "\t chr12 & 54300767 & 54300767 & -1.1558451\\\\\n",
       "\t chr12 & 54300811 & 54300811 & -0.3592771\\\\\n",
       "\t chr12 & 54300999 & 54300999 & -0.4740231\\\\\n",
       "\t chr12 & 54301042 & 54301042 & -0.5720225\\\\\n",
       "\t chr19 & 12887111 & 12887111 & -1.2631031\\\\\n",
       "\t chr19 & 12887179 & 12887179 & -1.0662271\\\\\n",
       "\\end{tabular}\n"
      ],
      "text/markdown": [
       "\n",
       "A tibble: 6 × 4\n",
       "\n",
       "| Chrom &lt;chr&gt; | Start &lt;int&gt; | End &lt;int&gt; | Score &lt;dbl&gt; |\n",
       "|---|---|---|---|\n",
       "| chr12 | 54300767 | 54300767 | -1.1558451 |\n",
       "| chr12 | 54300811 | 54300811 | -0.3592771 |\n",
       "| chr12 | 54300999 | 54300999 | -0.4740231 |\n",
       "| chr12 | 54301042 | 54301042 | -0.5720225 |\n",
       "| chr19 | 12887111 | 12887111 | -1.2631031 |\n",
       "| chr19 | 12887179 | 12887179 | -1.0662271 |\n",
       "\n"
      ],
      "text/plain": [
       "  Chrom Start    End      Score     \n",
       "1 chr12 54300767 54300767 -1.1558451\n",
       "2 chr12 54300811 54300811 -0.3592771\n",
       "3 chr12 54300999 54300999 -0.4740231\n",
       "4 chr12 54301042 54301042 -0.5720225\n",
       "5 chr19 12887111 12887111 -1.2631031\n",
       "6 chr19 12887179 12887179 -1.0662271"
      ]
     },
     "metadata": {},
     "output_type": "display_data"
    }
   ],
   "source": [
    "fdiry = file.path(FD_RES, \"source\", \"CRISPR\", \"track_bedgraph\")\n",
    "fname = \"GATA1_HCRFF_r2.log2FC_Z.bedgraph\"\n",
    "fpath = file.path(fdiry, fname)\n",
    "\n",
    "cnames = c(\"Chrom\", \"Start\", \"End\", \"Score\")\n",
    "ctypes = cols(\n",
    "    \"Chrom\" = col_character(),\n",
    "    \"Start\" = col_integer(),\n",
    "    \"End\"   = col_integer(),\n",
    "    \"Score\" = col_double()\n",
    ")\n",
    "dat = read_tsv(fpath, col_names = cnames, col_types = ctypes)\n",
    "\n",
    "dat_crispr_log2fc_r2 = dat\n",
    "print(dim(dat))\n",
    "head(dat)"
   ]
  },
  {
   "cell_type": "markdown",
   "metadata": {},
   "source": [
    "## Import GATA1 (tsv)"
   ]
  },
  {
   "cell_type": "code",
   "execution_count": 5,
   "metadata": {},
   "outputs": [
    {
     "name": "stderr",
     "output_type": "stream",
     "text": [
      "\u001b[1mRows: \u001b[22m\u001b[34m15335\u001b[39m \u001b[1mColumns: \u001b[22m\u001b[34m17\u001b[39m\n",
      "\u001b[36m──\u001b[39m \u001b[1mColumn specification\u001b[22m \u001b[36m──────────────────────────────────────────────────\u001b[39m\n",
      "\u001b[1mDelimiter:\u001b[22m \"\\t\"\n",
      "\u001b[31mchr\u001b[39m (12): Chrom, Name, Strand, Guide_ID, Chrom_TSS, Strand_Gene, Gene_Symbol...\n",
      "\u001b[32mdbl\u001b[39m  (5): Start, End, SeqCounts, Start_TSS, End_TSS\n",
      "\n",
      "\u001b[36mℹ\u001b[39m Use `spec()` to retrieve the full column specification for this data.\n",
      "\u001b[36mℹ\u001b[39m Specify the column types or set `show_col_types = FALSE` to quiet this message.\n"
     ]
    },
    {
     "name": "stdout",
     "output_type": "stream",
     "text": [
      "[1] 15335    17\n"
     ]
    },
    {
     "data": {
      "text/html": [
       "<table class=\"dataframe\">\n",
       "<caption>A tibble: 6 × 17</caption>\n",
       "<thead>\n",
       "\t<tr><th scope=col>Chrom</th><th scope=col>Start</th><th scope=col>End</th><th scope=col>Name</th><th scope=col>SeqCounts</th><th scope=col>Strand</th><th scope=col>Guide_ID</th><th scope=col>Chrom_TSS</th><th scope=col>Start_TSS</th><th scope=col>End_TSS</th><th scope=col>Strand_Gene</th><th scope=col>Gene_Symbol</th><th scope=col>Gene_ENS</th><th scope=col>Guide_SpacerSeq</th><th scope=col>Guide_Seq</th><th scope=col>Guide_Type</th><th scope=col>Notes</th></tr>\n",
       "\t<tr><th scope=col>&lt;chr&gt;</th><th scope=col>&lt;dbl&gt;</th><th scope=col>&lt;dbl&gt;</th><th scope=col>&lt;chr&gt;</th><th scope=col>&lt;dbl&gt;</th><th scope=col>&lt;chr&gt;</th><th scope=col>&lt;chr&gt;</th><th scope=col>&lt;chr&gt;</th><th scope=col>&lt;dbl&gt;</th><th scope=col>&lt;dbl&gt;</th><th scope=col>&lt;chr&gt;</th><th scope=col>&lt;chr&gt;</th><th scope=col>&lt;chr&gt;</th><th scope=col>&lt;chr&gt;</th><th scope=col>&lt;chr&gt;</th><th scope=col>&lt;chr&gt;</th><th scope=col>&lt;chr&gt;</th></tr>\n",
       "</thead>\n",
       "<tbody>\n",
       "\t<tr><td>chr12</td><td>54300767</td><td>54300770</td><td>GATA1|chr12:54300749-54300767:+</td><td>517</td><td>+</td><td>chr12:54300749-54300767:+</td><td>chrX</td><td>48786590</td><td>48786591</td><td>+</td><td>GATA1</td><td>ENSG00000102145</td><td>GGATTCCAGTGAGATCCGAG</td><td>GGATTCCAGTGAGATCCGAG </td><td>targeting</td><td>NA</td></tr>\n",
       "\t<tr><td>chr12</td><td>54300811</td><td>54300814</td><td>GATA1|chr12:54300793-54300811:+</td><td>376</td><td>+</td><td>chr12:54300793-54300811:+</td><td>chrX</td><td>48786590</td><td>48786591</td><td>+</td><td>GATA1</td><td>ENSG00000102145</td><td>CTCCACCACAGGTGCCTGAA</td><td>GCTCCACCACAGGTGCCTGAA</td><td>targeting</td><td>NA</td></tr>\n",
       "\t<tr><td>chr12</td><td>54300999</td><td>54301002</td><td>GATA1|chr12:54300981-54300999:+</td><td>780</td><td>+</td><td>chr12:54300981-54300999:+</td><td>chrX</td><td>48786590</td><td>48786591</td><td>+</td><td>GATA1</td><td>ENSG00000102145</td><td>TGAGCACAGGAGCCCCAAGC</td><td>GTGAGCACAGGAGCCCCAAGC</td><td>targeting</td><td>NA</td></tr>\n",
       "\t<tr><td>chr12</td><td>54301042</td><td>54301045</td><td>GATA1|chr12:54301024-54301042:+</td><td>327</td><td>+</td><td>chr12:54301024-54301042:+</td><td>chrX</td><td>48786590</td><td>48786591</td><td>+</td><td>GATA1</td><td>ENSG00000102145</td><td>GGACTGAGAACTCAGGCCGA</td><td>GGACTGAGAACTCAGGCCGA </td><td>targeting</td><td>NA</td></tr>\n",
       "\t<tr><td>chr19</td><td>12887111</td><td>12887114</td><td>GATA1|chr19:12887092-12887111:+</td><td>541</td><td>+</td><td>chr19:12887092-12887111:+</td><td>chrX</td><td>48786590</td><td>48786591</td><td>+</td><td>GATA1</td><td>ENSG00000102145</td><td>CATCAGCACACTGACCGCCC</td><td>GCATCAGCACACTGACCGCCC</td><td>targeting</td><td>NA</td></tr>\n",
       "\t<tr><td>chr19</td><td>12887179</td><td>12887182</td><td>GATA1|chr19:12887160-12887179:+</td><td>838</td><td>+</td><td>chr19:12887160-12887179:+</td><td>chrX</td><td>48786590</td><td>48786591</td><td>+</td><td>GATA1</td><td>ENSG00000102145</td><td>AAGAGGAGGCTTGAGGCCCA</td><td>GAAGAGGAGGCTTGAGGCCCA</td><td>targeting</td><td>NA</td></tr>\n",
       "</tbody>\n",
       "</table>\n"
      ],
      "text/latex": [
       "A tibble: 6 × 17\n",
       "\\begin{tabular}{lllllllllllllllll}\n",
       " Chrom & Start & End & Name & SeqCounts & Strand & Guide\\_ID & Chrom\\_TSS & Start\\_TSS & End\\_TSS & Strand\\_Gene & Gene\\_Symbol & Gene\\_ENS & Guide\\_SpacerSeq & Guide\\_Seq & Guide\\_Type & Notes\\\\\n",
       " <chr> & <dbl> & <dbl> & <chr> & <dbl> & <chr> & <chr> & <chr> & <dbl> & <dbl> & <chr> & <chr> & <chr> & <chr> & <chr> & <chr> & <chr>\\\\\n",
       "\\hline\n",
       "\t chr12 & 54300767 & 54300770 & GATA1\\textbar{}chr12:54300749-54300767:+ & 517 & + & chr12:54300749-54300767:+ & chrX & 48786590 & 48786591 & + & GATA1 & ENSG00000102145 & GGATTCCAGTGAGATCCGAG & GGATTCCAGTGAGATCCGAG  & targeting & NA\\\\\n",
       "\t chr12 & 54300811 & 54300814 & GATA1\\textbar{}chr12:54300793-54300811:+ & 376 & + & chr12:54300793-54300811:+ & chrX & 48786590 & 48786591 & + & GATA1 & ENSG00000102145 & CTCCACCACAGGTGCCTGAA & GCTCCACCACAGGTGCCTGAA & targeting & NA\\\\\n",
       "\t chr12 & 54300999 & 54301002 & GATA1\\textbar{}chr12:54300981-54300999:+ & 780 & + & chr12:54300981-54300999:+ & chrX & 48786590 & 48786591 & + & GATA1 & ENSG00000102145 & TGAGCACAGGAGCCCCAAGC & GTGAGCACAGGAGCCCCAAGC & targeting & NA\\\\\n",
       "\t chr12 & 54301042 & 54301045 & GATA1\\textbar{}chr12:54301024-54301042:+ & 327 & + & chr12:54301024-54301042:+ & chrX & 48786590 & 48786591 & + & GATA1 & ENSG00000102145 & GGACTGAGAACTCAGGCCGA & GGACTGAGAACTCAGGCCGA  & targeting & NA\\\\\n",
       "\t chr19 & 12887111 & 12887114 & GATA1\\textbar{}chr19:12887092-12887111:+ & 541 & + & chr19:12887092-12887111:+ & chrX & 48786590 & 48786591 & + & GATA1 & ENSG00000102145 & CATCAGCACACTGACCGCCC & GCATCAGCACACTGACCGCCC & targeting & NA\\\\\n",
       "\t chr19 & 12887179 & 12887182 & GATA1\\textbar{}chr19:12887160-12887179:+ & 838 & + & chr19:12887160-12887179:+ & chrX & 48786590 & 48786591 & + & GATA1 & ENSG00000102145 & AAGAGGAGGCTTGAGGCCCA & GAAGAGGAGGCTTGAGGCCCA & targeting & NA\\\\\n",
       "\\end{tabular}\n"
      ],
      "text/markdown": [
       "\n",
       "A tibble: 6 × 17\n",
       "\n",
       "| Chrom &lt;chr&gt; | Start &lt;dbl&gt; | End &lt;dbl&gt; | Name &lt;chr&gt; | SeqCounts &lt;dbl&gt; | Strand &lt;chr&gt; | Guide_ID &lt;chr&gt; | Chrom_TSS &lt;chr&gt; | Start_TSS &lt;dbl&gt; | End_TSS &lt;dbl&gt; | Strand_Gene &lt;chr&gt; | Gene_Symbol &lt;chr&gt; | Gene_ENS &lt;chr&gt; | Guide_SpacerSeq &lt;chr&gt; | Guide_Seq &lt;chr&gt; | Guide_Type &lt;chr&gt; | Notes &lt;chr&gt; |\n",
       "|---|---|---|---|---|---|---|---|---|---|---|---|---|---|---|---|---|\n",
       "| chr12 | 54300767 | 54300770 | GATA1|chr12:54300749-54300767:+ | 517 | + | chr12:54300749-54300767:+ | chrX | 48786590 | 48786591 | + | GATA1 | ENSG00000102145 | GGATTCCAGTGAGATCCGAG | GGATTCCAGTGAGATCCGAG  | targeting | NA |\n",
       "| chr12 | 54300811 | 54300814 | GATA1|chr12:54300793-54300811:+ | 376 | + | chr12:54300793-54300811:+ | chrX | 48786590 | 48786591 | + | GATA1 | ENSG00000102145 | CTCCACCACAGGTGCCTGAA | GCTCCACCACAGGTGCCTGAA | targeting | NA |\n",
       "| chr12 | 54300999 | 54301002 | GATA1|chr12:54300981-54300999:+ | 780 | + | chr12:54300981-54300999:+ | chrX | 48786590 | 48786591 | + | GATA1 | ENSG00000102145 | TGAGCACAGGAGCCCCAAGC | GTGAGCACAGGAGCCCCAAGC | targeting | NA |\n",
       "| chr12 | 54301042 | 54301045 | GATA1|chr12:54301024-54301042:+ | 327 | + | chr12:54301024-54301042:+ | chrX | 48786590 | 48786591 | + | GATA1 | ENSG00000102145 | GGACTGAGAACTCAGGCCGA | GGACTGAGAACTCAGGCCGA  | targeting | NA |\n",
       "| chr19 | 12887111 | 12887114 | GATA1|chr19:12887092-12887111:+ | 541 | + | chr19:12887092-12887111:+ | chrX | 48786590 | 48786591 | + | GATA1 | ENSG00000102145 | CATCAGCACACTGACCGCCC | GCATCAGCACACTGACCGCCC | targeting | NA |\n",
       "| chr19 | 12887179 | 12887182 | GATA1|chr19:12887160-12887179:+ | 838 | + | chr19:12887160-12887179:+ | chrX | 48786590 | 48786591 | + | GATA1 | ENSG00000102145 | AAGAGGAGGCTTGAGGCCCA | GAAGAGGAGGCTTGAGGCCCA | targeting | NA |\n",
       "\n"
      ],
      "text/plain": [
       "  Chrom Start    End      Name                            SeqCounts Strand\n",
       "1 chr12 54300767 54300770 GATA1|chr12:54300749-54300767:+ 517       +     \n",
       "2 chr12 54300811 54300814 GATA1|chr12:54300793-54300811:+ 376       +     \n",
       "3 chr12 54300999 54301002 GATA1|chr12:54300981-54300999:+ 780       +     \n",
       "4 chr12 54301042 54301045 GATA1|chr12:54301024-54301042:+ 327       +     \n",
       "5 chr19 12887111 12887114 GATA1|chr19:12887092-12887111:+ 541       +     \n",
       "6 chr19 12887179 12887182 GATA1|chr19:12887160-12887179:+ 838       +     \n",
       "  Guide_ID                  Chrom_TSS Start_TSS End_TSS  Strand_Gene\n",
       "1 chr12:54300749-54300767:+ chrX      48786590  48786591 +          \n",
       "2 chr12:54300793-54300811:+ chrX      48786590  48786591 +          \n",
       "3 chr12:54300981-54300999:+ chrX      48786590  48786591 +          \n",
       "4 chr12:54301024-54301042:+ chrX      48786590  48786591 +          \n",
       "5 chr19:12887092-12887111:+ chrX      48786590  48786591 +          \n",
       "6 chr19:12887160-12887179:+ chrX      48786590  48786591 +          \n",
       "  Gene_Symbol Gene_ENS        Guide_SpacerSeq      Guide_Seq            \n",
       "1 GATA1       ENSG00000102145 GGATTCCAGTGAGATCCGAG GGATTCCAGTGAGATCCGAG \n",
       "2 GATA1       ENSG00000102145 CTCCACCACAGGTGCCTGAA GCTCCACCACAGGTGCCTGAA\n",
       "3 GATA1       ENSG00000102145 TGAGCACAGGAGCCCCAAGC GTGAGCACAGGAGCCCCAAGC\n",
       "4 GATA1       ENSG00000102145 GGACTGAGAACTCAGGCCGA GGACTGAGAACTCAGGCCGA \n",
       "5 GATA1       ENSG00000102145 CATCAGCACACTGACCGCCC GCATCAGCACACTGACCGCCC\n",
       "6 GATA1       ENSG00000102145 AAGAGGAGGCTTGAGGCCCA GAAGAGGAGGCTTGAGGCCCA\n",
       "  Guide_Type Notes\n",
       "1 targeting  NA   \n",
       "2 targeting  NA   \n",
       "3 targeting  NA   \n",
       "4 targeting  NA   \n",
       "5 targeting  NA   \n",
       "6 targeting  NA   "
      ]
     },
     "metadata": {},
     "output_type": "display_data"
    }
   ],
   "source": [
    "fdiry = file.path(FD_RES, \"source\", \"CRISPR\", \"track_bedgraph\")\n",
    "fname = \"GATA1_HS_exp_r1.tsv.gz\"\n",
    "fpath = file.path(fdiry, fname)\n",
    "\n",
    "cnames = c(\"Chrom\", \"Start\", \"End\", \"Name\", \"SeqCounts\", \"Strand\", \"Guide_ID\", \n",
    "           \"Chrom_TSS\", \"Start_TSS\", \"End_TSS\", \"Strand_Gene\", \n",
    "           \"Gene_Symbol\", \n",
    "           \"Gene_ENS\", \n",
    "           \"Guide_SpacerSeq\",\n",
    "           \"Guide_Seq\",\n",
    "           \"Guide_Type\",\n",
    "           \"Notes\"\n",
    "          )\n",
    "dat = read_tsv(fpath, col_names = cnames)\n",
    "\n",
    "dat_crispr_info_r1 = dat\n",
    "print(dim(dat))\n",
    "head(dat)"
   ]
  },
  {
   "cell_type": "code",
   "execution_count": 6,
   "metadata": {},
   "outputs": [
    {
     "name": "stderr",
     "output_type": "stream",
     "text": [
      "\u001b[1mRows: \u001b[22m\u001b[34m15335\u001b[39m \u001b[1mColumns: \u001b[22m\u001b[34m17\u001b[39m\n",
      "\u001b[36m──\u001b[39m \u001b[1mColumn specification\u001b[22m \u001b[36m──────────────────────────────────────────────────\u001b[39m\n",
      "\u001b[1mDelimiter:\u001b[22m \"\\t\"\n",
      "\u001b[31mchr\u001b[39m (12): Chrom, Name, Strand, Guide_ID, Chrom_TSS, Strand_Gene, Gene_Symbol...\n",
      "\u001b[32mdbl\u001b[39m  (5): Start, End, SeqCounts, Start_TSS, End_TSS\n",
      "\n",
      "\u001b[36mℹ\u001b[39m Use `spec()` to retrieve the full column specification for this data.\n",
      "\u001b[36mℹ\u001b[39m Specify the column types or set `show_col_types = FALSE` to quiet this message.\n"
     ]
    },
    {
     "name": "stdout",
     "output_type": "stream",
     "text": [
      "[1] 15335    17\n"
     ]
    },
    {
     "data": {
      "text/html": [
       "<table class=\"dataframe\">\n",
       "<caption>A tibble: 6 × 17</caption>\n",
       "<thead>\n",
       "\t<tr><th scope=col>Chrom</th><th scope=col>Start</th><th scope=col>End</th><th scope=col>Name</th><th scope=col>SeqCounts</th><th scope=col>Strand</th><th scope=col>Guide_ID</th><th scope=col>Chrom_TSS</th><th scope=col>Start_TSS</th><th scope=col>End_TSS</th><th scope=col>Strand_Gene</th><th scope=col>Gene_Symbol</th><th scope=col>Gene_ENS</th><th scope=col>Guide_SpacerSeq</th><th scope=col>Guide_Seq</th><th scope=col>Guide_Type</th><th scope=col>Notes</th></tr>\n",
       "\t<tr><th scope=col>&lt;chr&gt;</th><th scope=col>&lt;dbl&gt;</th><th scope=col>&lt;dbl&gt;</th><th scope=col>&lt;chr&gt;</th><th scope=col>&lt;dbl&gt;</th><th scope=col>&lt;chr&gt;</th><th scope=col>&lt;chr&gt;</th><th scope=col>&lt;chr&gt;</th><th scope=col>&lt;dbl&gt;</th><th scope=col>&lt;dbl&gt;</th><th scope=col>&lt;chr&gt;</th><th scope=col>&lt;chr&gt;</th><th scope=col>&lt;chr&gt;</th><th scope=col>&lt;chr&gt;</th><th scope=col>&lt;chr&gt;</th><th scope=col>&lt;chr&gt;</th><th scope=col>&lt;chr&gt;</th></tr>\n",
       "</thead>\n",
       "<tbody>\n",
       "\t<tr><td>chr12</td><td>54300767</td><td>54300770</td><td>GATA1|chr12:54300749-54300767:+</td><td>591</td><td>+</td><td>chr12:54300749-54300767:+</td><td>chrX</td><td>48786590</td><td>48786591</td><td>+</td><td>GATA1</td><td>ENSG00000102145</td><td>GGATTCCAGTGAGATCCGAG</td><td>GGATTCCAGTGAGATCCGAG </td><td>targeting</td><td>NA</td></tr>\n",
       "\t<tr><td>chr12</td><td>54300811</td><td>54300814</td><td>GATA1|chr12:54300793-54300811:+</td><td>499</td><td>+</td><td>chr12:54300793-54300811:+</td><td>chrX</td><td>48786590</td><td>48786591</td><td>+</td><td>GATA1</td><td>ENSG00000102145</td><td>CTCCACCACAGGTGCCTGAA</td><td>GCTCCACCACAGGTGCCTGAA</td><td>targeting</td><td>NA</td></tr>\n",
       "\t<tr><td>chr12</td><td>54300999</td><td>54301002</td><td>GATA1|chr12:54300981-54300999:+</td><td>501</td><td>+</td><td>chr12:54300981-54300999:+</td><td>chrX</td><td>48786590</td><td>48786591</td><td>+</td><td>GATA1</td><td>ENSG00000102145</td><td>TGAGCACAGGAGCCCCAAGC</td><td>GTGAGCACAGGAGCCCCAAGC</td><td>targeting</td><td>NA</td></tr>\n",
       "\t<tr><td>chr12</td><td>54301042</td><td>54301045</td><td>GATA1|chr12:54301024-54301042:+</td><td>148</td><td>+</td><td>chr12:54301024-54301042:+</td><td>chrX</td><td>48786590</td><td>48786591</td><td>+</td><td>GATA1</td><td>ENSG00000102145</td><td>GGACTGAGAACTCAGGCCGA</td><td>GGACTGAGAACTCAGGCCGA </td><td>targeting</td><td>NA</td></tr>\n",
       "\t<tr><td>chr19</td><td>12887111</td><td>12887114</td><td>GATA1|chr19:12887092-12887111:+</td><td>794</td><td>+</td><td>chr19:12887092-12887111:+</td><td>chrX</td><td>48786590</td><td>48786591</td><td>+</td><td>GATA1</td><td>ENSG00000102145</td><td>CATCAGCACACTGACCGCCC</td><td>GCATCAGCACACTGACCGCCC</td><td>targeting</td><td>NA</td></tr>\n",
       "\t<tr><td>chr19</td><td>12887179</td><td>12887182</td><td>GATA1|chr19:12887160-12887179:+</td><td>711</td><td>+</td><td>chr19:12887160-12887179:+</td><td>chrX</td><td>48786590</td><td>48786591</td><td>+</td><td>GATA1</td><td>ENSG00000102145</td><td>AAGAGGAGGCTTGAGGCCCA</td><td>GAAGAGGAGGCTTGAGGCCCA</td><td>targeting</td><td>NA</td></tr>\n",
       "</tbody>\n",
       "</table>\n"
      ],
      "text/latex": [
       "A tibble: 6 × 17\n",
       "\\begin{tabular}{lllllllllllllllll}\n",
       " Chrom & Start & End & Name & SeqCounts & Strand & Guide\\_ID & Chrom\\_TSS & Start\\_TSS & End\\_TSS & Strand\\_Gene & Gene\\_Symbol & Gene\\_ENS & Guide\\_SpacerSeq & Guide\\_Seq & Guide\\_Type & Notes\\\\\n",
       " <chr> & <dbl> & <dbl> & <chr> & <dbl> & <chr> & <chr> & <chr> & <dbl> & <dbl> & <chr> & <chr> & <chr> & <chr> & <chr> & <chr> & <chr>\\\\\n",
       "\\hline\n",
       "\t chr12 & 54300767 & 54300770 & GATA1\\textbar{}chr12:54300749-54300767:+ & 591 & + & chr12:54300749-54300767:+ & chrX & 48786590 & 48786591 & + & GATA1 & ENSG00000102145 & GGATTCCAGTGAGATCCGAG & GGATTCCAGTGAGATCCGAG  & targeting & NA\\\\\n",
       "\t chr12 & 54300811 & 54300814 & GATA1\\textbar{}chr12:54300793-54300811:+ & 499 & + & chr12:54300793-54300811:+ & chrX & 48786590 & 48786591 & + & GATA1 & ENSG00000102145 & CTCCACCACAGGTGCCTGAA & GCTCCACCACAGGTGCCTGAA & targeting & NA\\\\\n",
       "\t chr12 & 54300999 & 54301002 & GATA1\\textbar{}chr12:54300981-54300999:+ & 501 & + & chr12:54300981-54300999:+ & chrX & 48786590 & 48786591 & + & GATA1 & ENSG00000102145 & TGAGCACAGGAGCCCCAAGC & GTGAGCACAGGAGCCCCAAGC & targeting & NA\\\\\n",
       "\t chr12 & 54301042 & 54301045 & GATA1\\textbar{}chr12:54301024-54301042:+ & 148 & + & chr12:54301024-54301042:+ & chrX & 48786590 & 48786591 & + & GATA1 & ENSG00000102145 & GGACTGAGAACTCAGGCCGA & GGACTGAGAACTCAGGCCGA  & targeting & NA\\\\\n",
       "\t chr19 & 12887111 & 12887114 & GATA1\\textbar{}chr19:12887092-12887111:+ & 794 & + & chr19:12887092-12887111:+ & chrX & 48786590 & 48786591 & + & GATA1 & ENSG00000102145 & CATCAGCACACTGACCGCCC & GCATCAGCACACTGACCGCCC & targeting & NA\\\\\n",
       "\t chr19 & 12887179 & 12887182 & GATA1\\textbar{}chr19:12887160-12887179:+ & 711 & + & chr19:12887160-12887179:+ & chrX & 48786590 & 48786591 & + & GATA1 & ENSG00000102145 & AAGAGGAGGCTTGAGGCCCA & GAAGAGGAGGCTTGAGGCCCA & targeting & NA\\\\\n",
       "\\end{tabular}\n"
      ],
      "text/markdown": [
       "\n",
       "A tibble: 6 × 17\n",
       "\n",
       "| Chrom &lt;chr&gt; | Start &lt;dbl&gt; | End &lt;dbl&gt; | Name &lt;chr&gt; | SeqCounts &lt;dbl&gt; | Strand &lt;chr&gt; | Guide_ID &lt;chr&gt; | Chrom_TSS &lt;chr&gt; | Start_TSS &lt;dbl&gt; | End_TSS &lt;dbl&gt; | Strand_Gene &lt;chr&gt; | Gene_Symbol &lt;chr&gt; | Gene_ENS &lt;chr&gt; | Guide_SpacerSeq &lt;chr&gt; | Guide_Seq &lt;chr&gt; | Guide_Type &lt;chr&gt; | Notes &lt;chr&gt; |\n",
       "|---|---|---|---|---|---|---|---|---|---|---|---|---|---|---|---|---|\n",
       "| chr12 | 54300767 | 54300770 | GATA1|chr12:54300749-54300767:+ | 591 | + | chr12:54300749-54300767:+ | chrX | 48786590 | 48786591 | + | GATA1 | ENSG00000102145 | GGATTCCAGTGAGATCCGAG | GGATTCCAGTGAGATCCGAG  | targeting | NA |\n",
       "| chr12 | 54300811 | 54300814 | GATA1|chr12:54300793-54300811:+ | 499 | + | chr12:54300793-54300811:+ | chrX | 48786590 | 48786591 | + | GATA1 | ENSG00000102145 | CTCCACCACAGGTGCCTGAA | GCTCCACCACAGGTGCCTGAA | targeting | NA |\n",
       "| chr12 | 54300999 | 54301002 | GATA1|chr12:54300981-54300999:+ | 501 | + | chr12:54300981-54300999:+ | chrX | 48786590 | 48786591 | + | GATA1 | ENSG00000102145 | TGAGCACAGGAGCCCCAAGC | GTGAGCACAGGAGCCCCAAGC | targeting | NA |\n",
       "| chr12 | 54301042 | 54301045 | GATA1|chr12:54301024-54301042:+ | 148 | + | chr12:54301024-54301042:+ | chrX | 48786590 | 48786591 | + | GATA1 | ENSG00000102145 | GGACTGAGAACTCAGGCCGA | GGACTGAGAACTCAGGCCGA  | targeting | NA |\n",
       "| chr19 | 12887111 | 12887114 | GATA1|chr19:12887092-12887111:+ | 794 | + | chr19:12887092-12887111:+ | chrX | 48786590 | 48786591 | + | GATA1 | ENSG00000102145 | CATCAGCACACTGACCGCCC | GCATCAGCACACTGACCGCCC | targeting | NA |\n",
       "| chr19 | 12887179 | 12887182 | GATA1|chr19:12887160-12887179:+ | 711 | + | chr19:12887160-12887179:+ | chrX | 48786590 | 48786591 | + | GATA1 | ENSG00000102145 | AAGAGGAGGCTTGAGGCCCA | GAAGAGGAGGCTTGAGGCCCA | targeting | NA |\n",
       "\n"
      ],
      "text/plain": [
       "  Chrom Start    End      Name                            SeqCounts Strand\n",
       "1 chr12 54300767 54300770 GATA1|chr12:54300749-54300767:+ 591       +     \n",
       "2 chr12 54300811 54300814 GATA1|chr12:54300793-54300811:+ 499       +     \n",
       "3 chr12 54300999 54301002 GATA1|chr12:54300981-54300999:+ 501       +     \n",
       "4 chr12 54301042 54301045 GATA1|chr12:54301024-54301042:+ 148       +     \n",
       "5 chr19 12887111 12887114 GATA1|chr19:12887092-12887111:+ 794       +     \n",
       "6 chr19 12887179 12887182 GATA1|chr19:12887160-12887179:+ 711       +     \n",
       "  Guide_ID                  Chrom_TSS Start_TSS End_TSS  Strand_Gene\n",
       "1 chr12:54300749-54300767:+ chrX      48786590  48786591 +          \n",
       "2 chr12:54300793-54300811:+ chrX      48786590  48786591 +          \n",
       "3 chr12:54300981-54300999:+ chrX      48786590  48786591 +          \n",
       "4 chr12:54301024-54301042:+ chrX      48786590  48786591 +          \n",
       "5 chr19:12887092-12887111:+ chrX      48786590  48786591 +          \n",
       "6 chr19:12887160-12887179:+ chrX      48786590  48786591 +          \n",
       "  Gene_Symbol Gene_ENS        Guide_SpacerSeq      Guide_Seq            \n",
       "1 GATA1       ENSG00000102145 GGATTCCAGTGAGATCCGAG GGATTCCAGTGAGATCCGAG \n",
       "2 GATA1       ENSG00000102145 CTCCACCACAGGTGCCTGAA GCTCCACCACAGGTGCCTGAA\n",
       "3 GATA1       ENSG00000102145 TGAGCACAGGAGCCCCAAGC GTGAGCACAGGAGCCCCAAGC\n",
       "4 GATA1       ENSG00000102145 GGACTGAGAACTCAGGCCGA GGACTGAGAACTCAGGCCGA \n",
       "5 GATA1       ENSG00000102145 CATCAGCACACTGACCGCCC GCATCAGCACACTGACCGCCC\n",
       "6 GATA1       ENSG00000102145 AAGAGGAGGCTTGAGGCCCA GAAGAGGAGGCTTGAGGCCCA\n",
       "  Guide_Type Notes\n",
       "1 targeting  NA   \n",
       "2 targeting  NA   \n",
       "3 targeting  NA   \n",
       "4 targeting  NA   \n",
       "5 targeting  NA   \n",
       "6 targeting  NA   "
      ]
     },
     "metadata": {},
     "output_type": "display_data"
    }
   ],
   "source": [
    "fdiry = file.path(FD_RES, \"source\", \"CRISPR\", \"track_bedgraph\")\n",
    "fname = \"GATA1_HS_exp_r2.tsv.gz\"\n",
    "fpath = file.path(fdiry, fname)\n",
    "\n",
    "cnames = c(\"Chrom\", \"Start\", \"End\", \"Name\", \"SeqCounts\", \"Strand\", \"Guide_ID\", \n",
    "           \"Chrom_TSS\", \"Start_TSS\", \"End_TSS\", \"Strand_Gene\", \n",
    "           \"Gene_Symbol\", \n",
    "           \"Gene_ENS\", \n",
    "           \"Guide_SpacerSeq\",\n",
    "           \"Guide_Seq\",\n",
    "           \"Guide_Type\",\n",
    "           \"Notes\"\n",
    "          )\n",
    "dat = read_tsv(fpath, col_names = cnames)\n",
    "\n",
    "dat_crispr_info_r2 = dat\n",
    "print(dim(dat))\n",
    "head(dat)"
   ]
  },
  {
   "cell_type": "markdown",
   "metadata": {},
   "source": [
    "## Import GATA1 (bed)"
   ]
  },
  {
   "cell_type": "code",
   "execution_count": 7,
   "metadata": {},
   "outputs": [
    {
     "data": {
      "text/html": [
       "<style>\n",
       ".list-inline {list-style: none; margin:0; padding: 0}\n",
       ".list-inline>li {display: inline-block}\n",
       ".list-inline>li:not(:last-child)::after {content: \"\\00b7\"; padding: 0 .5ex}\n",
       "</style>\n",
       "<ol class=list-inline><li>'GATA1_HCRFF_rAVG.log2FC_2.bed'</li><li>'GATA1_HCRFF_rAVG.log2FC_2.wig'</li></ol>\n"
      ],
      "text/latex": [
       "\\begin{enumerate*}\n",
       "\\item 'GATA1\\_HCRFF\\_rAVG.log2FC\\_2.bed'\n",
       "\\item 'GATA1\\_HCRFF\\_rAVG.log2FC\\_2.wig'\n",
       "\\end{enumerate*}\n"
      ],
      "text/markdown": [
       "1. 'GATA1_HCRFF_rAVG.log2FC_2.bed'\n",
       "2. 'GATA1_HCRFF_rAVG.log2FC_2.wig'\n",
       "\n",
       "\n"
      ],
      "text/plain": [
       "[1] \"GATA1_HCRFF_rAVG.log2FC_2.bed\" \"GATA1_HCRFF_rAVG.log2FC_2.wig\""
      ]
     },
     "metadata": {},
     "output_type": "display_data"
    }
   ],
   "source": [
    "fdiry = file.path(FD_RES, \"results\", \"CRISPR\", \"coverage\")\n",
    "dir(fdiry) |> grep(pattern=\"GATA1\", value=TRUE)"
   ]
  },
  {
   "cell_type": "code",
   "execution_count": 8,
   "metadata": {},
   "outputs": [
    {
     "name": "stdout",
     "output_type": "stream",
     "text": [
      "[1] 13732     5\n"
     ]
    },
    {
     "data": {
      "text/html": [
       "<table class=\"dataframe\">\n",
       "<caption>A tibble: 6 × 5</caption>\n",
       "<thead>\n",
       "\t<tr><th scope=col>Chrom</th><th scope=col>Start</th><th scope=col>End</th><th scope=col>Name</th><th scope=col>Score</th></tr>\n",
       "\t<tr><th scope=col>&lt;chr&gt;</th><th scope=col>&lt;int&gt;</th><th scope=col>&lt;int&gt;</th><th scope=col>&lt;chr&gt;</th><th scope=col>&lt;dbl&gt;</th></tr>\n",
       "</thead>\n",
       "<tbody>\n",
       "\t<tr><td>chr12</td><td>54300766</td><td>54300767</td><td>id-1</td><td>-0.886706</td></tr>\n",
       "\t<tr><td>chr12</td><td>54300810</td><td>54300811</td><td>id-2</td><td> 0.245072</td></tr>\n",
       "\t<tr><td>chr12</td><td>54300998</td><td>54300999</td><td>id-3</td><td>-0.413788</td></tr>\n",
       "\t<tr><td>chr12</td><td>54301041</td><td>54301042</td><td>id-4</td><td>-0.917759</td></tr>\n",
       "\t<tr><td>chr19</td><td>12887110</td><td>12887111</td><td>id-5</td><td>-0.402891</td></tr>\n",
       "\t<tr><td>chr19</td><td>12887178</td><td>12887179</td><td>id-6</td><td>-0.606933</td></tr>\n",
       "</tbody>\n",
       "</table>\n"
      ],
      "text/latex": [
       "A tibble: 6 × 5\n",
       "\\begin{tabular}{lllll}\n",
       " Chrom & Start & End & Name & Score\\\\\n",
       " <chr> & <int> & <int> & <chr> & <dbl>\\\\\n",
       "\\hline\n",
       "\t chr12 & 54300766 & 54300767 & id-1 & -0.886706\\\\\n",
       "\t chr12 & 54300810 & 54300811 & id-2 &  0.245072\\\\\n",
       "\t chr12 & 54300998 & 54300999 & id-3 & -0.413788\\\\\n",
       "\t chr12 & 54301041 & 54301042 & id-4 & -0.917759\\\\\n",
       "\t chr19 & 12887110 & 12887111 & id-5 & -0.402891\\\\\n",
       "\t chr19 & 12887178 & 12887179 & id-6 & -0.606933\\\\\n",
       "\\end{tabular}\n"
      ],
      "text/markdown": [
       "\n",
       "A tibble: 6 × 5\n",
       "\n",
       "| Chrom &lt;chr&gt; | Start &lt;int&gt; | End &lt;int&gt; | Name &lt;chr&gt; | Score &lt;dbl&gt; |\n",
       "|---|---|---|---|---|\n",
       "| chr12 | 54300766 | 54300767 | id-1 | -0.886706 |\n",
       "| chr12 | 54300810 | 54300811 | id-2 |  0.245072 |\n",
       "| chr12 | 54300998 | 54300999 | id-3 | -0.413788 |\n",
       "| chr12 | 54301041 | 54301042 | id-4 | -0.917759 |\n",
       "| chr19 | 12887110 | 12887111 | id-5 | -0.402891 |\n",
       "| chr19 | 12887178 | 12887179 | id-6 | -0.606933 |\n",
       "\n"
      ],
      "text/plain": [
       "  Chrom Start    End      Name Score    \n",
       "1 chr12 54300766 54300767 id-1 -0.886706\n",
       "2 chr12 54300810 54300811 id-2  0.245072\n",
       "3 chr12 54300998 54300999 id-3 -0.413788\n",
       "4 chr12 54301041 54301042 id-4 -0.917759\n",
       "5 chr19 12887110 12887111 id-5 -0.402891\n",
       "6 chr19 12887178 12887179 id-6 -0.606933"
      ]
     },
     "metadata": {},
     "output_type": "display_data"
    }
   ],
   "source": [
    "fdiry = file.path(FD_RES, \"results\", \"CRISPR\", \"coverage\")\n",
    "fname = \"GATA1_HCRFF_rAVG.log2FC_2.bed\"\n",
    "fpath = file.path(fdiry, fname)\n",
    "\n",
    "cnames = c(\"Chrom\", \"Start\", \"End\", \"Name\", \"Score\")\n",
    "ctypes = cols(\n",
    "    \"Chrom\" = col_character(),\n",
    "    \"Start\" = col_integer(),\n",
    "    \"End\"   = col_integer(),\n",
    "    \"Name\"  = col_character(),\n",
    "    \"Score\" = col_double()\n",
    ")\n",
    "dat = read_tsv(fpath, col_names = cnames, col_types = ctypes)\n",
    "\n",
    "dat_crispr_log2fc = dat\n",
    "print(dim(dat))\n",
    "head(dat)"
   ]
  },
  {
   "cell_type": "markdown",
   "metadata": {},
   "source": [
    "## Testing"
   ]
  },
  {
   "cell_type": "code",
   "execution_count": 14,
   "metadata": {},
   "outputs": [
    {
     "data": {
      "text/plain": [
       "                  \n",
       "                   chr12 chr19  chr3  chrX\n",
       "  negative_control     0     0     0     0\n",
       "  targeting            4     4     4 14325"
      ]
     },
     "metadata": {},
     "output_type": "display_data"
    }
   ],
   "source": [
    "dat = dat_crispr_info_r1\n",
    "table(dat$Guide_Type, dat$Chrom)"
   ]
  },
  {
   "cell_type": "code",
   "execution_count": 19,
   "metadata": {},
   "outputs": [
    {
     "data": {
      "text/plain": [
       "                  \n",
       "                   chr12 chr19  chr3  chrX\n",
       "  negative_control     0     0     0     0\n",
       "  targeting            4     4     4 14325"
      ]
     },
     "metadata": {},
     "output_type": "display_data"
    }
   ],
   "source": [
    "dat = dat_crispr_info_r2\n",
    "table(dat$Guide_Type, dat$Chrom)"
   ]
  },
  {
   "cell_type": "code",
   "execution_count": 18,
   "metadata": {},
   "outputs": [
    {
     "data": {
      "text/plain": [
       "\n",
       "chr12 chr19  chr3  chrX \n",
       "    4     4     4 13720 "
      ]
     },
     "metadata": {},
     "output_type": "display_data"
    }
   ],
   "source": [
    "dat = dat_crispr_log2fc\n",
    "table(dat$Chrom)"
   ]
  },
  {
   "cell_type": "code",
   "execution_count": 21,
   "metadata": {},
   "outputs": [
    {
     "data": {
      "text/html": [
       "<table class=\"dataframe\">\n",
       "<caption>A spec_tbl_df: 998 × 17</caption>\n",
       "<thead>\n",
       "\t<tr><th scope=col>Chrom</th><th scope=col>Start</th><th scope=col>End</th><th scope=col>Name</th><th scope=col>SeqCounts</th><th scope=col>Strand</th><th scope=col>Guide_ID</th><th scope=col>Chrom_TSS</th><th scope=col>Start_TSS</th><th scope=col>End_TSS</th><th scope=col>Strand_Gene</th><th scope=col>Gene_Symbol</th><th scope=col>Gene_ENS</th><th scope=col>Guide_SpacerSeq</th><th scope=col>Guide_Seq</th><th scope=col>Guide_Type</th><th scope=col>Notes</th></tr>\n",
       "\t<tr><th scope=col>&lt;chr&gt;</th><th scope=col>&lt;dbl&gt;</th><th scope=col>&lt;dbl&gt;</th><th scope=col>&lt;chr&gt;</th><th scope=col>&lt;dbl&gt;</th><th scope=col>&lt;chr&gt;</th><th scope=col>&lt;chr&gt;</th><th scope=col>&lt;chr&gt;</th><th scope=col>&lt;dbl&gt;</th><th scope=col>&lt;dbl&gt;</th><th scope=col>&lt;chr&gt;</th><th scope=col>&lt;chr&gt;</th><th scope=col>&lt;chr&gt;</th><th scope=col>&lt;chr&gt;</th><th scope=col>&lt;chr&gt;</th><th scope=col>&lt;chr&gt;</th><th scope=col>&lt;chr&gt;</th></tr>\n",
       "</thead>\n",
       "<tbody>\n",
       "\t<tr><td>NA</td><td>NA</td><td>NA</td><td>NA|nt_1006</td><td> 782</td><td>NA</td><td>nt_1006</td><td>chrX</td><td>48786590</td><td>48786591</td><td>+</td><td>GATA1</td><td>ENSG00000102145</td><td>GACGCGCTGCATACGATCG </td><td>GACGCGCTGCATACGATCG </td><td>negative_control</td><td>NT</td></tr>\n",
       "\t<tr><td>NA</td><td>NA</td><td>NA</td><td>NA|nt_1007</td><td> 329</td><td>NA</td><td>nt_1007</td><td>chrX</td><td>48786590</td><td>48786591</td><td>+</td><td>GATA1</td><td>ENSG00000102145</td><td>GACGGCATGACGAGGTAGT </td><td>GACGGCATGACGAGGTAGT </td><td>negative_control</td><td>NT</td></tr>\n",
       "\t<tr><td>NA</td><td>NA</td><td>NA</td><td>NA|nt_1008</td><td> 654</td><td>NA</td><td>nt_1008</td><td>chrX</td><td>48786590</td><td>48786591</td><td>+</td><td>GATA1</td><td>ENSG00000102145</td><td>GACGGGATCTGATGGTTCA </td><td>GACGGGATCTGATGGTTCA </td><td>negative_control</td><td>NT</td></tr>\n",
       "\t<tr><td>NA</td><td>NA</td><td>NA</td><td>NA|nt_1010</td><td> 413</td><td>NA</td><td>nt_1010</td><td>chrX</td><td>48786590</td><td>48786591</td><td>+</td><td>GATA1</td><td>ENSG00000102145</td><td>GACGGGCTATAAAGCATTT </td><td>GACGGGCTATAAAGCATTT </td><td>negative_control</td><td>NT</td></tr>\n",
       "\t<tr><td>NA</td><td>NA</td><td>NA</td><td>NA|nt_1011</td><td> 167</td><td>NA</td><td>nt_1011</td><td>chrX</td><td>48786590</td><td>48786591</td><td>+</td><td>GATA1</td><td>ENSG00000102145</td><td>GACGTGGACGTTGGCGCC  </td><td>GACGTGGACGTTGGCGCC  </td><td>negative_control</td><td>NT</td></tr>\n",
       "\t<tr><td>NA</td><td>NA</td><td>NA</td><td>NA|nt_1012</td><td> 491</td><td>NA</td><td>nt_1012</td><td>chrX</td><td>48786590</td><td>48786591</td><td>+</td><td>GATA1</td><td>ENSG00000102145</td><td>GACTAAGCGCAAGCACCT  </td><td>GACTAAGCGCAAGCACCT  </td><td>negative_control</td><td>NT</td></tr>\n",
       "\t<tr><td>NA</td><td>NA</td><td>NA</td><td>NA|nt_1013</td><td> 855</td><td>NA</td><td>nt_1013</td><td>chrX</td><td>48786590</td><td>48786591</td><td>+</td><td>GATA1</td><td>ENSG00000102145</td><td>GACTAAGCGGAATGTCGAT </td><td>GACTAAGCGGAATGTCGAT </td><td>negative_control</td><td>NT</td></tr>\n",
       "\t<tr><td>NA</td><td>NA</td><td>NA</td><td>NA|nt_1014</td><td> 503</td><td>NA</td><td>nt_1014</td><td>chrX</td><td>48786590</td><td>48786591</td><td>+</td><td>GATA1</td><td>ENSG00000102145</td><td>GACTACGTTCGGTACGACT </td><td>GACTACGTTCGGTACGACT </td><td>negative_control</td><td>NT</td></tr>\n",
       "\t<tr><td>NA</td><td>NA</td><td>NA</td><td>NA|nt_1016</td><td>1149</td><td>NA</td><td>nt_1016</td><td>chrX</td><td>48786590</td><td>48786591</td><td>+</td><td>GATA1</td><td>ENSG00000102145</td><td>GACTCTGCCGGGGATCACC </td><td>GACTCTGCCGGGGATCACC </td><td>negative_control</td><td>NT</td></tr>\n",
       "\t<tr><td>NA</td><td>NA</td><td>NA</td><td>NA|nt_1019</td><td>  62</td><td>NA</td><td>nt_1019</td><td>chrX</td><td>48786590</td><td>48786591</td><td>+</td><td>GATA1</td><td>ENSG00000102145</td><td>GACTGATACAAGACTAACGT</td><td>GACTGATACAAGACTAACGT</td><td>negative_control</td><td>NT</td></tr>\n",
       "\t<tr><td>NA</td><td>NA</td><td>NA</td><td>NA|nt_1023</td><td> 307</td><td>NA</td><td>nt_1023</td><td>chrX</td><td>48786590</td><td>48786591</td><td>+</td><td>GATA1</td><td>ENSG00000102145</td><td>GACTGGAGCGAACGTTGTTG</td><td>GACTGGAGCGAACGTTGTTG</td><td>negative_control</td><td>NT</td></tr>\n",
       "\t<tr><td>NA</td><td>NA</td><td>NA</td><td>NA|nt_1024</td><td> 300</td><td>NA</td><td>nt_1024</td><td>chrX</td><td>48786590</td><td>48786591</td><td>+</td><td>GATA1</td><td>ENSG00000102145</td><td>GACTGGATGTGAATACCCG </td><td>GACTGGATGTGAATACCCG </td><td>negative_control</td><td>NT</td></tr>\n",
       "\t<tr><td>NA</td><td>NA</td><td>NA</td><td>NA|nt_1027</td><td> 476</td><td>NA</td><td>nt_1027</td><td>chrX</td><td>48786590</td><td>48786591</td><td>+</td><td>GATA1</td><td>ENSG00000102145</td><td>GACTTGGATCGCTTAATCC </td><td>GACTTGGATCGCTTAATCC </td><td>negative_control</td><td>NT</td></tr>\n",
       "\t<tr><td>NA</td><td>NA</td><td>NA</td><td>NA|nt_1028</td><td> 460</td><td>NA</td><td>nt_1028</td><td>chrX</td><td>48786590</td><td>48786591</td><td>+</td><td>GATA1</td><td>ENSG00000102145</td><td>GACTTTGCATTAATAGGTC </td><td>GACTTTGCATTAATAGGTC </td><td>negative_control</td><td>NT</td></tr>\n",
       "\t<tr><td>NA</td><td>NA</td><td>NA</td><td>NA|nt_1030</td><td> 858</td><td>NA</td><td>nt_1030</td><td>chrX</td><td>48786590</td><td>48786591</td><td>+</td><td>GATA1</td><td>ENSG00000102145</td><td>GACTTTGTCAGGCGCCGC  </td><td>GACTTTGTCAGGCGCCGC  </td><td>negative_control</td><td>NT</td></tr>\n",
       "\t<tr><td>NA</td><td>NA</td><td>NA</td><td>NA|nt_1031</td><td> 713</td><td>NA</td><td>nt_1031</td><td>chrX</td><td>48786590</td><td>48786591</td><td>+</td><td>GATA1</td><td>ENSG00000102145</td><td>GAGAACGACGGGCCTCACCC</td><td>GAGAACGACGGGCCTCACCC</td><td>negative_control</td><td>NT</td></tr>\n",
       "\t<tr><td>NA</td><td>NA</td><td>NA</td><td>NA|nt_1034</td><td> 877</td><td>NA</td><td>nt_1034</td><td>chrX</td><td>48786590</td><td>48786591</td><td>+</td><td>GATA1</td><td>ENSG00000102145</td><td>GAGAGCACGGCCAGCGAC  </td><td>GAGAGCACGGCCAGCGAC  </td><td>negative_control</td><td>NT</td></tr>\n",
       "\t<tr><td>NA</td><td>NA</td><td>NA</td><td>NA|nt_1035</td><td> 299</td><td>NA</td><td>nt_1035</td><td>chrX</td><td>48786590</td><td>48786591</td><td>+</td><td>GATA1</td><td>ENSG00000102145</td><td>GAGAGTCACACGTCCCGT  </td><td>GAGAGTCACACGTCCCGT  </td><td>negative_control</td><td>NT</td></tr>\n",
       "\t<tr><td>NA</td><td>NA</td><td>NA</td><td>NA|nt_1036</td><td> 577</td><td>NA</td><td>nt_1036</td><td>chrX</td><td>48786590</td><td>48786591</td><td>+</td><td>GATA1</td><td>ENSG00000102145</td><td>GAGATGTGGGAACTGTACT </td><td>GAGATGTGGGAACTGTACT </td><td>negative_control</td><td>NT</td></tr>\n",
       "\t<tr><td>NA</td><td>NA</td><td>NA</td><td>NA|nt_1038</td><td> 310</td><td>NA</td><td>nt_1038</td><td>chrX</td><td>48786590</td><td>48786591</td><td>+</td><td>GATA1</td><td>ENSG00000102145</td><td>GAGATTTACAAGAGATCAA </td><td>GAGATTTACAAGAGATCAA </td><td>negative_control</td><td>NT</td></tr>\n",
       "\t<tr><td>NA</td><td>NA</td><td>NA</td><td>NA|nt_1041</td><td> 631</td><td>NA</td><td>nt_1041</td><td>chrX</td><td>48786590</td><td>48786591</td><td>+</td><td>GATA1</td><td>ENSG00000102145</td><td>GAGCATGGATCCTAGGCCGC</td><td>GAGCATGGATCCTAGGCCGC</td><td>negative_control</td><td>NT</td></tr>\n",
       "\t<tr><td>NA</td><td>NA</td><td>NA</td><td>NA|nt_1042</td><td> 134</td><td>NA</td><td>nt_1042</td><td>chrX</td><td>48786590</td><td>48786591</td><td>+</td><td>GATA1</td><td>ENSG00000102145</td><td>GAGCCGGTACCGAGGAGAC </td><td>GAGCCGGTACCGAGGAGAC </td><td>negative_control</td><td>NT</td></tr>\n",
       "\t<tr><td>NA</td><td>NA</td><td>NA</td><td>NA|nt_1043</td><td>  95</td><td>NA</td><td>nt_1043</td><td>chrX</td><td>48786590</td><td>48786591</td><td>+</td><td>GATA1</td><td>ENSG00000102145</td><td>GAGCCGGTTCCTCAAACG  </td><td>GAGCCGGTTCCTCAAACG  </td><td>negative_control</td><td>NT</td></tr>\n",
       "\t<tr><td>NA</td><td>NA</td><td>NA</td><td>NA|nt_1044</td><td> 587</td><td>NA</td><td>nt_1044</td><td>chrX</td><td>48786590</td><td>48786591</td><td>+</td><td>GATA1</td><td>ENSG00000102145</td><td>GAGCCTGAGAGGGATGTGTC</td><td>GAGCCTGAGAGGGATGTGTC</td><td>negative_control</td><td>NT</td></tr>\n",
       "\t<tr><td>NA</td><td>NA</td><td>NA</td><td>NA|nt_1045</td><td> 434</td><td>NA</td><td>nt_1045</td><td>chrX</td><td>48786590</td><td>48786591</td><td>+</td><td>GATA1</td><td>ENSG00000102145</td><td>GAGCCTGCCTACCGCGGAGC</td><td>GAGCCTGCCTACCGCGGAGC</td><td>negative_control</td><td>NT</td></tr>\n",
       "\t<tr><td>NA</td><td>NA</td><td>NA</td><td>NA|nt_1046</td><td> 272</td><td>NA</td><td>nt_1046</td><td>chrX</td><td>48786590</td><td>48786591</td><td>+</td><td>GATA1</td><td>ENSG00000102145</td><td>GAGCGCGGATTGTAAGGGAT</td><td>GAGCGCGGATTGTAAGGGAT</td><td>negative_control</td><td>NT</td></tr>\n",
       "\t<tr><td>NA</td><td>NA</td><td>NA</td><td>NA|nt_1047</td><td> 599</td><td>NA</td><td>nt_1047</td><td>chrX</td><td>48786590</td><td>48786591</td><td>+</td><td>GATA1</td><td>ENSG00000102145</td><td>GAGCGCGTCAGGGCAGCAA </td><td>GAGCGCGTCAGGGCAGCAA </td><td>negative_control</td><td>NT</td></tr>\n",
       "\t<tr><td>NA</td><td>NA</td><td>NA</td><td>NA|nt_1048</td><td> 171</td><td>NA</td><td>nt_1048</td><td>chrX</td><td>48786590</td><td>48786591</td><td>+</td><td>GATA1</td><td>ENSG00000102145</td><td>GAGCGGAAACGATGGGCAG </td><td>GAGCGGAAACGATGGGCAG </td><td>negative_control</td><td>NT</td></tr>\n",
       "\t<tr><td>NA</td><td>NA</td><td>NA</td><td>NA|nt_1049</td><td> 977</td><td>NA</td><td>nt_1049</td><td>chrX</td><td>48786590</td><td>48786591</td><td>+</td><td>GATA1</td><td>ENSG00000102145</td><td>GAGCGGTCCTCGATGGGAC </td><td>GAGCGGTCCTCGATGGGAC </td><td>negative_control</td><td>NT</td></tr>\n",
       "\t<tr><td>NA</td><td>NA</td><td>NA</td><td>NA|nt_1050</td><td> 124</td><td>NA</td><td>nt_1050</td><td>chrX</td><td>48786590</td><td>48786591</td><td>+</td><td>GATA1</td><td>ENSG00000102145</td><td>GAGCGTCTTAACGTACGGG </td><td>GAGCGTCTTAACGTACGGG </td><td>negative_control</td><td>NT</td></tr>\n",
       "\t<tr><td>⋮</td><td>⋮</td><td>⋮</td><td>⋮</td><td>⋮</td><td>⋮</td><td>⋮</td><td>⋮</td><td>⋮</td><td>⋮</td><td>⋮</td><td>⋮</td><td>⋮</td><td>⋮</td><td>⋮</td><td>⋮</td><td>⋮</td></tr>\n",
       "\t<tr><td>NA</td><td>NA</td><td>NA</td><td>NA|nt_938</td><td> 179</td><td>NA</td><td>nt_938</td><td>chrX</td><td>48786590</td><td>48786591</td><td>+</td><td>GATA1</td><td>ENSG00000102145</td><td>GAAGGGGCTCACAGAACAC </td><td>GAAGGGGCTCACAGAACAC </td><td>negative_control</td><td>NT</td></tr>\n",
       "\t<tr><td>NA</td><td>NA</td><td>NA</td><td>NA|nt_941</td><td> 173</td><td>NA</td><td>nt_941</td><td>chrX</td><td>48786590</td><td>48786591</td><td>+</td><td>GATA1</td><td>ENSG00000102145</td><td>GAAGTTGGATTATTAAGCC </td><td>GAAGTTGGATTATTAAGCC </td><td>negative_control</td><td>NT</td></tr>\n",
       "\t<tr><td>NA</td><td>NA</td><td>NA</td><td>NA|nt_944</td><td> 292</td><td>NA</td><td>nt_944</td><td>chrX</td><td>48786590</td><td>48786591</td><td>+</td><td>GATA1</td><td>ENSG00000102145</td><td>GAATAACGGCGAGAGCGA  </td><td>GAATAACGGCGAGAGCGA  </td><td>negative_control</td><td>NT</td></tr>\n",
       "\t<tr><td>NA</td><td>NA</td><td>NA</td><td>NA|nt_946</td><td> 246</td><td>NA</td><td>nt_946</td><td>chrX</td><td>48786590</td><td>48786591</td><td>+</td><td>GATA1</td><td>ENSG00000102145</td><td>GAATAAGAGCGCAAATAAC </td><td>GAATAAGAGCGCAAATAAC </td><td>negative_control</td><td>NT</td></tr>\n",
       "\t<tr><td>NA</td><td>NA</td><td>NA</td><td>NA|nt_947</td><td> 102</td><td>NA</td><td>nt_947</td><td>chrX</td><td>48786590</td><td>48786591</td><td>+</td><td>GATA1</td><td>ENSG00000102145</td><td>GAATAGGAGACGCGAGAAG </td><td>GAATAGGAGACGCGAGAAG </td><td>negative_control</td><td>NT</td></tr>\n",
       "\t<tr><td>NA</td><td>NA</td><td>NA</td><td>NA|nt_948</td><td> 255</td><td>NA</td><td>nt_948</td><td>chrX</td><td>48786590</td><td>48786591</td><td>+</td><td>GATA1</td><td>ENSG00000102145</td><td>GAATAGTTGAATGCCCGGGC</td><td>GAATAGTTGAATGCCCGGGC</td><td>negative_control</td><td>NT</td></tr>\n",
       "\t<tr><td>NA</td><td>NA</td><td>NA</td><td>NA|nt_950</td><td>  63</td><td>NA</td><td>nt_950</td><td>chrX</td><td>48786590</td><td>48786591</td><td>+</td><td>GATA1</td><td>ENSG00000102145</td><td>GAATATTAGGAGCCGAATAG</td><td>GAATATTAGGAGCCGAATAG</td><td>negative_control</td><td>NT</td></tr>\n",
       "\t<tr><td>NA</td><td>NA</td><td>NA</td><td>NA|nt_953</td><td>1167</td><td>NA</td><td>nt_953</td><td>chrX</td><td>48786590</td><td>48786591</td><td>+</td><td>GATA1</td><td>ENSG00000102145</td><td>GAATCAGCCTAGGGTCGGTA</td><td>GAATCAGCCTAGGGTCGGTA</td><td>negative_control</td><td>NT</td></tr>\n",
       "\t<tr><td>NA</td><td>NA</td><td>NA</td><td>NA|nt_954</td><td> 163</td><td>NA</td><td>nt_954</td><td>chrX</td><td>48786590</td><td>48786591</td><td>+</td><td>GATA1</td><td>ENSG00000102145</td><td>GAATCATGGCATAAAGGT  </td><td>GAATCATGGCATAAAGGT  </td><td>negative_control</td><td>NT</td></tr>\n",
       "\t<tr><td>NA</td><td>NA</td><td>NA</td><td>NA|nt_955</td><td> 749</td><td>NA</td><td>nt_955</td><td>chrX</td><td>48786590</td><td>48786591</td><td>+</td><td>GATA1</td><td>ENSG00000102145</td><td>GAATCGTGGTCAGGAGTGCG</td><td>GAATCGTGGTCAGGAGTGCG</td><td>negative_control</td><td>NT</td></tr>\n",
       "\t<tr><td>NA</td><td>NA</td><td>NA</td><td>NA|nt_958</td><td> 986</td><td>NA</td><td>nt_958</td><td>chrX</td><td>48786590</td><td>48786591</td><td>+</td><td>GATA1</td><td>ENSG00000102145</td><td>GAATGTTGATAACCGCAAC </td><td>GAATGTTGATAACCGCAAC </td><td>negative_control</td><td>NT</td></tr>\n",
       "\t<tr><td>NA</td><td>NA</td><td>NA</td><td>NA|nt_959</td><td> 351</td><td>NA</td><td>nt_959</td><td>chrX</td><td>48786590</td><td>48786591</td><td>+</td><td>GATA1</td><td>ENSG00000102145</td><td>GAATTGGGGATCGGTGTTTC</td><td>GAATTGGGGATCGGTGTTTC</td><td>negative_control</td><td>NT</td></tr>\n",
       "\t<tr><td>NA</td><td>NA</td><td>NA</td><td>NA|nt_961</td><td> 469</td><td>NA</td><td>nt_961</td><td>chrX</td><td>48786590</td><td>48786591</td><td>+</td><td>GATA1</td><td>ENSG00000102145</td><td>GAATTTAGATTGAAACCAAA</td><td>GAATTTAGATTGAAACCAAA</td><td>negative_control</td><td>NT</td></tr>\n",
       "\t<tr><td>NA</td><td>NA</td><td>NA</td><td>NA|nt_964</td><td> 725</td><td>NA</td><td>nt_964</td><td>chrX</td><td>48786590</td><td>48786591</td><td>+</td><td>GATA1</td><td>ENSG00000102145</td><td>GACAAATGGATCCACGGCA </td><td>GACAAATGGATCCACGGCA </td><td>negative_control</td><td>NT</td></tr>\n",
       "\t<tr><td>NA</td><td>NA</td><td>NA</td><td>NA|nt_965</td><td> 631</td><td>NA</td><td>nt_965</td><td>chrX</td><td>48786590</td><td>48786591</td><td>+</td><td>GATA1</td><td>ENSG00000102145</td><td>GACAAATTGCAGGAGTTTGC</td><td>GACAAATTGCAGGAGTTTGC</td><td>negative_control</td><td>NT</td></tr>\n",
       "\t<tr><td>NA</td><td>NA</td><td>NA</td><td>NA|nt_970</td><td> 576</td><td>NA</td><td>nt_970</td><td>chrX</td><td>48786590</td><td>48786591</td><td>+</td><td>GATA1</td><td>ENSG00000102145</td><td>GACAGACGCCGTAGATCC  </td><td>GACAGACGCCGTAGATCC  </td><td>negative_control</td><td>NT</td></tr>\n",
       "\t<tr><td>NA</td><td>NA</td><td>NA</td><td>NA|nt_971</td><td> 597</td><td>NA</td><td>nt_971</td><td>chrX</td><td>48786590</td><td>48786591</td><td>+</td><td>GATA1</td><td>ENSG00000102145</td><td>GACAGCCTTCGGGCCGTCA </td><td>GACAGCCTTCGGGCCGTCA </td><td>negative_control</td><td>NT</td></tr>\n",
       "\t<tr><td>NA</td><td>NA</td><td>NA</td><td>NA|nt_972</td><td> 710</td><td>NA</td><td>nt_972</td><td>chrX</td><td>48786590</td><td>48786591</td><td>+</td><td>GATA1</td><td>ENSG00000102145</td><td>GACAGTTGTTCTCCGACCG </td><td>GACAGTTGTTCTCCGACCG </td><td>negative_control</td><td>NT</td></tr>\n",
       "\t<tr><td>NA</td><td>NA</td><td>NA</td><td>NA|nt_973</td><td> 408</td><td>NA</td><td>nt_973</td><td>chrX</td><td>48786590</td><td>48786591</td><td>+</td><td>GATA1</td><td>ENSG00000102145</td><td>GACATAACACGGAGGTAGA </td><td>GACATAACACGGAGGTAGA </td><td>negative_control</td><td>NT</td></tr>\n",
       "\t<tr><td>NA</td><td>NA</td><td>NA</td><td>NA|nt_974</td><td> 211</td><td>NA</td><td>nt_974</td><td>chrX</td><td>48786590</td><td>48786591</td><td>+</td><td>GATA1</td><td>ENSG00000102145</td><td>GACATAGCATCGACTCGG  </td><td>GACATAGCATCGACTCGG  </td><td>negative_control</td><td>NT</td></tr>\n",
       "\t<tr><td>NA</td><td>NA</td><td>NA</td><td>NA|nt_975</td><td> 972</td><td>NA</td><td>nt_975</td><td>chrX</td><td>48786590</td><td>48786591</td><td>+</td><td>GATA1</td><td>ENSG00000102145</td><td>GACATAGGGGCGCCTTCAG </td><td>GACATAGGGGCGCCTTCAG </td><td>negative_control</td><td>NT</td></tr>\n",
       "\t<tr><td>NA</td><td>NA</td><td>NA</td><td>NA|nt_978</td><td> 360</td><td>NA</td><td>nt_978</td><td>chrX</td><td>48786590</td><td>48786591</td><td>+</td><td>GATA1</td><td>ENSG00000102145</td><td>GACATCCGAAGTTGAAGTTA</td><td>GACATCCGAAGTTGAAGTTA</td><td>negative_control</td><td>NT</td></tr>\n",
       "\t<tr><td>NA</td><td>NA</td><td>NA</td><td>NA|nt_980</td><td> 973</td><td>NA</td><td>nt_980</td><td>chrX</td><td>48786590</td><td>48786591</td><td>+</td><td>GATA1</td><td>ENSG00000102145</td><td>GACATGAGTGGGAATTGGA </td><td>GACATGAGTGGGAATTGGA </td><td>negative_control</td><td>NT</td></tr>\n",
       "\t<tr><td>NA</td><td>NA</td><td>NA</td><td>NA|nt_984</td><td>1908</td><td>NA</td><td>nt_984</td><td>chrX</td><td>48786590</td><td>48786591</td><td>+</td><td>GATA1</td><td>ENSG00000102145</td><td>GACCGGCGCTGTGGATGTG </td><td>GACCGGCGCTGTGGATGTG </td><td>negative_control</td><td>NT</td></tr>\n",
       "\t<tr><td>NA</td><td>NA</td><td>NA</td><td>NA|nt_985</td><td> 431</td><td>NA</td><td>nt_985</td><td>chrX</td><td>48786590</td><td>48786591</td><td>+</td><td>GATA1</td><td>ENSG00000102145</td><td>GACCTACCTTAATCGTGCGC</td><td>GACCTACCTTAATCGTGCGC</td><td>negative_control</td><td>NT</td></tr>\n",
       "\t<tr><td>NA</td><td>NA</td><td>NA</td><td>NA|nt_986</td><td> 236</td><td>NA</td><td>nt_986</td><td>chrX</td><td>48786590</td><td>48786591</td><td>+</td><td>GATA1</td><td>ENSG00000102145</td><td>GACCTATACGGCCCGGGTA </td><td>GACCTATACGGCCCGGGTA </td><td>negative_control</td><td>NT</td></tr>\n",
       "\t<tr><td>NA</td><td>NA</td><td>NA</td><td>NA|nt_989</td><td> 850</td><td>NA</td><td>nt_989</td><td>chrX</td><td>48786590</td><td>48786591</td><td>+</td><td>GATA1</td><td>ENSG00000102145</td><td>GACCTGGTAATCTTGCGGAG</td><td>GACCTGGTAATCTTGCGGAG</td><td>negative_control</td><td>NT</td></tr>\n",
       "\t<tr><td>NA</td><td>NA</td><td>NA</td><td>NA|nt_990</td><td>1786</td><td>NA</td><td>nt_990</td><td>chrX</td><td>48786590</td><td>48786591</td><td>+</td><td>GATA1</td><td>ENSG00000102145</td><td>GACGAACGATGCTAAGGTG </td><td>GACGAACGATGCTAAGGTG </td><td>negative_control</td><td>NT</td></tr>\n",
       "\t<tr><td>NA</td><td>NA</td><td>NA</td><td>NA|nt_993</td><td> 611</td><td>NA</td><td>nt_993</td><td>chrX</td><td>48786590</td><td>48786591</td><td>+</td><td>GATA1</td><td>ENSG00000102145</td><td>GACGAGAGCTATCCCGCGGA</td><td>GACGAGAGCTATCCCGCGGA</td><td>negative_control</td><td>NT</td></tr>\n",
       "\t<tr><td>NA</td><td>NA</td><td>NA</td><td>NA|nt_995</td><td> 577</td><td>NA</td><td>nt_995</td><td>chrX</td><td>48786590</td><td>48786591</td><td>+</td><td>GATA1</td><td>ENSG00000102145</td><td>GACGAGATATACGCCCACC </td><td>GACGAGATATACGCCCACC </td><td>negative_control</td><td>NT</td></tr>\n",
       "</tbody>\n",
       "</table>\n"
      ],
      "text/latex": [
       "A spec\\_tbl\\_df: 998 × 17\n",
       "\\begin{tabular}{lllllllllllllllll}\n",
       " Chrom & Start & End & Name & SeqCounts & Strand & Guide\\_ID & Chrom\\_TSS & Start\\_TSS & End\\_TSS & Strand\\_Gene & Gene\\_Symbol & Gene\\_ENS & Guide\\_SpacerSeq & Guide\\_Seq & Guide\\_Type & Notes\\\\\n",
       " <chr> & <dbl> & <dbl> & <chr> & <dbl> & <chr> & <chr> & <chr> & <dbl> & <dbl> & <chr> & <chr> & <chr> & <chr> & <chr> & <chr> & <chr>\\\\\n",
       "\\hline\n",
       "\t NA & NA & NA & NA\\textbar{}nt\\_1006 &  782 & NA & nt\\_1006 & chrX & 48786590 & 48786591 & + & GATA1 & ENSG00000102145 & GACGCGCTGCATACGATCG  & GACGCGCTGCATACGATCG  & negative\\_control & NT\\\\\n",
       "\t NA & NA & NA & NA\\textbar{}nt\\_1007 &  329 & NA & nt\\_1007 & chrX & 48786590 & 48786591 & + & GATA1 & ENSG00000102145 & GACGGCATGACGAGGTAGT  & GACGGCATGACGAGGTAGT  & negative\\_control & NT\\\\\n",
       "\t NA & NA & NA & NA\\textbar{}nt\\_1008 &  654 & NA & nt\\_1008 & chrX & 48786590 & 48786591 & + & GATA1 & ENSG00000102145 & GACGGGATCTGATGGTTCA  & GACGGGATCTGATGGTTCA  & negative\\_control & NT\\\\\n",
       "\t NA & NA & NA & NA\\textbar{}nt\\_1010 &  413 & NA & nt\\_1010 & chrX & 48786590 & 48786591 & + & GATA1 & ENSG00000102145 & GACGGGCTATAAAGCATTT  & GACGGGCTATAAAGCATTT  & negative\\_control & NT\\\\\n",
       "\t NA & NA & NA & NA\\textbar{}nt\\_1011 &  167 & NA & nt\\_1011 & chrX & 48786590 & 48786591 & + & GATA1 & ENSG00000102145 & GACGTGGACGTTGGCGCC   & GACGTGGACGTTGGCGCC   & negative\\_control & NT\\\\\n",
       "\t NA & NA & NA & NA\\textbar{}nt\\_1012 &  491 & NA & nt\\_1012 & chrX & 48786590 & 48786591 & + & GATA1 & ENSG00000102145 & GACTAAGCGCAAGCACCT   & GACTAAGCGCAAGCACCT   & negative\\_control & NT\\\\\n",
       "\t NA & NA & NA & NA\\textbar{}nt\\_1013 &  855 & NA & nt\\_1013 & chrX & 48786590 & 48786591 & + & GATA1 & ENSG00000102145 & GACTAAGCGGAATGTCGAT  & GACTAAGCGGAATGTCGAT  & negative\\_control & NT\\\\\n",
       "\t NA & NA & NA & NA\\textbar{}nt\\_1014 &  503 & NA & nt\\_1014 & chrX & 48786590 & 48786591 & + & GATA1 & ENSG00000102145 & GACTACGTTCGGTACGACT  & GACTACGTTCGGTACGACT  & negative\\_control & NT\\\\\n",
       "\t NA & NA & NA & NA\\textbar{}nt\\_1016 & 1149 & NA & nt\\_1016 & chrX & 48786590 & 48786591 & + & GATA1 & ENSG00000102145 & GACTCTGCCGGGGATCACC  & GACTCTGCCGGGGATCACC  & negative\\_control & NT\\\\\n",
       "\t NA & NA & NA & NA\\textbar{}nt\\_1019 &   62 & NA & nt\\_1019 & chrX & 48786590 & 48786591 & + & GATA1 & ENSG00000102145 & GACTGATACAAGACTAACGT & GACTGATACAAGACTAACGT & negative\\_control & NT\\\\\n",
       "\t NA & NA & NA & NA\\textbar{}nt\\_1023 &  307 & NA & nt\\_1023 & chrX & 48786590 & 48786591 & + & GATA1 & ENSG00000102145 & GACTGGAGCGAACGTTGTTG & GACTGGAGCGAACGTTGTTG & negative\\_control & NT\\\\\n",
       "\t NA & NA & NA & NA\\textbar{}nt\\_1024 &  300 & NA & nt\\_1024 & chrX & 48786590 & 48786591 & + & GATA1 & ENSG00000102145 & GACTGGATGTGAATACCCG  & GACTGGATGTGAATACCCG  & negative\\_control & NT\\\\\n",
       "\t NA & NA & NA & NA\\textbar{}nt\\_1027 &  476 & NA & nt\\_1027 & chrX & 48786590 & 48786591 & + & GATA1 & ENSG00000102145 & GACTTGGATCGCTTAATCC  & GACTTGGATCGCTTAATCC  & negative\\_control & NT\\\\\n",
       "\t NA & NA & NA & NA\\textbar{}nt\\_1028 &  460 & NA & nt\\_1028 & chrX & 48786590 & 48786591 & + & GATA1 & ENSG00000102145 & GACTTTGCATTAATAGGTC  & GACTTTGCATTAATAGGTC  & negative\\_control & NT\\\\\n",
       "\t NA & NA & NA & NA\\textbar{}nt\\_1030 &  858 & NA & nt\\_1030 & chrX & 48786590 & 48786591 & + & GATA1 & ENSG00000102145 & GACTTTGTCAGGCGCCGC   & GACTTTGTCAGGCGCCGC   & negative\\_control & NT\\\\\n",
       "\t NA & NA & NA & NA\\textbar{}nt\\_1031 &  713 & NA & nt\\_1031 & chrX & 48786590 & 48786591 & + & GATA1 & ENSG00000102145 & GAGAACGACGGGCCTCACCC & GAGAACGACGGGCCTCACCC & negative\\_control & NT\\\\\n",
       "\t NA & NA & NA & NA\\textbar{}nt\\_1034 &  877 & NA & nt\\_1034 & chrX & 48786590 & 48786591 & + & GATA1 & ENSG00000102145 & GAGAGCACGGCCAGCGAC   & GAGAGCACGGCCAGCGAC   & negative\\_control & NT\\\\\n",
       "\t NA & NA & NA & NA\\textbar{}nt\\_1035 &  299 & NA & nt\\_1035 & chrX & 48786590 & 48786591 & + & GATA1 & ENSG00000102145 & GAGAGTCACACGTCCCGT   & GAGAGTCACACGTCCCGT   & negative\\_control & NT\\\\\n",
       "\t NA & NA & NA & NA\\textbar{}nt\\_1036 &  577 & NA & nt\\_1036 & chrX & 48786590 & 48786591 & + & GATA1 & ENSG00000102145 & GAGATGTGGGAACTGTACT  & GAGATGTGGGAACTGTACT  & negative\\_control & NT\\\\\n",
       "\t NA & NA & NA & NA\\textbar{}nt\\_1038 &  310 & NA & nt\\_1038 & chrX & 48786590 & 48786591 & + & GATA1 & ENSG00000102145 & GAGATTTACAAGAGATCAA  & GAGATTTACAAGAGATCAA  & negative\\_control & NT\\\\\n",
       "\t NA & NA & NA & NA\\textbar{}nt\\_1041 &  631 & NA & nt\\_1041 & chrX & 48786590 & 48786591 & + & GATA1 & ENSG00000102145 & GAGCATGGATCCTAGGCCGC & GAGCATGGATCCTAGGCCGC & negative\\_control & NT\\\\\n",
       "\t NA & NA & NA & NA\\textbar{}nt\\_1042 &  134 & NA & nt\\_1042 & chrX & 48786590 & 48786591 & + & GATA1 & ENSG00000102145 & GAGCCGGTACCGAGGAGAC  & GAGCCGGTACCGAGGAGAC  & negative\\_control & NT\\\\\n",
       "\t NA & NA & NA & NA\\textbar{}nt\\_1043 &   95 & NA & nt\\_1043 & chrX & 48786590 & 48786591 & + & GATA1 & ENSG00000102145 & GAGCCGGTTCCTCAAACG   & GAGCCGGTTCCTCAAACG   & negative\\_control & NT\\\\\n",
       "\t NA & NA & NA & NA\\textbar{}nt\\_1044 &  587 & NA & nt\\_1044 & chrX & 48786590 & 48786591 & + & GATA1 & ENSG00000102145 & GAGCCTGAGAGGGATGTGTC & GAGCCTGAGAGGGATGTGTC & negative\\_control & NT\\\\\n",
       "\t NA & NA & NA & NA\\textbar{}nt\\_1045 &  434 & NA & nt\\_1045 & chrX & 48786590 & 48786591 & + & GATA1 & ENSG00000102145 & GAGCCTGCCTACCGCGGAGC & GAGCCTGCCTACCGCGGAGC & negative\\_control & NT\\\\\n",
       "\t NA & NA & NA & NA\\textbar{}nt\\_1046 &  272 & NA & nt\\_1046 & chrX & 48786590 & 48786591 & + & GATA1 & ENSG00000102145 & GAGCGCGGATTGTAAGGGAT & GAGCGCGGATTGTAAGGGAT & negative\\_control & NT\\\\\n",
       "\t NA & NA & NA & NA\\textbar{}nt\\_1047 &  599 & NA & nt\\_1047 & chrX & 48786590 & 48786591 & + & GATA1 & ENSG00000102145 & GAGCGCGTCAGGGCAGCAA  & GAGCGCGTCAGGGCAGCAA  & negative\\_control & NT\\\\\n",
       "\t NA & NA & NA & NA\\textbar{}nt\\_1048 &  171 & NA & nt\\_1048 & chrX & 48786590 & 48786591 & + & GATA1 & ENSG00000102145 & GAGCGGAAACGATGGGCAG  & GAGCGGAAACGATGGGCAG  & negative\\_control & NT\\\\\n",
       "\t NA & NA & NA & NA\\textbar{}nt\\_1049 &  977 & NA & nt\\_1049 & chrX & 48786590 & 48786591 & + & GATA1 & ENSG00000102145 & GAGCGGTCCTCGATGGGAC  & GAGCGGTCCTCGATGGGAC  & negative\\_control & NT\\\\\n",
       "\t NA & NA & NA & NA\\textbar{}nt\\_1050 &  124 & NA & nt\\_1050 & chrX & 48786590 & 48786591 & + & GATA1 & ENSG00000102145 & GAGCGTCTTAACGTACGGG  & GAGCGTCTTAACGTACGGG  & negative\\_control & NT\\\\\n",
       "\t ⋮ & ⋮ & ⋮ & ⋮ & ⋮ & ⋮ & ⋮ & ⋮ & ⋮ & ⋮ & ⋮ & ⋮ & ⋮ & ⋮ & ⋮ & ⋮ & ⋮\\\\\n",
       "\t NA & NA & NA & NA\\textbar{}nt\\_938 &  179 & NA & nt\\_938 & chrX & 48786590 & 48786591 & + & GATA1 & ENSG00000102145 & GAAGGGGCTCACAGAACAC  & GAAGGGGCTCACAGAACAC  & negative\\_control & NT\\\\\n",
       "\t NA & NA & NA & NA\\textbar{}nt\\_941 &  173 & NA & nt\\_941 & chrX & 48786590 & 48786591 & + & GATA1 & ENSG00000102145 & GAAGTTGGATTATTAAGCC  & GAAGTTGGATTATTAAGCC  & negative\\_control & NT\\\\\n",
       "\t NA & NA & NA & NA\\textbar{}nt\\_944 &  292 & NA & nt\\_944 & chrX & 48786590 & 48786591 & + & GATA1 & ENSG00000102145 & GAATAACGGCGAGAGCGA   & GAATAACGGCGAGAGCGA   & negative\\_control & NT\\\\\n",
       "\t NA & NA & NA & NA\\textbar{}nt\\_946 &  246 & NA & nt\\_946 & chrX & 48786590 & 48786591 & + & GATA1 & ENSG00000102145 & GAATAAGAGCGCAAATAAC  & GAATAAGAGCGCAAATAAC  & negative\\_control & NT\\\\\n",
       "\t NA & NA & NA & NA\\textbar{}nt\\_947 &  102 & NA & nt\\_947 & chrX & 48786590 & 48786591 & + & GATA1 & ENSG00000102145 & GAATAGGAGACGCGAGAAG  & GAATAGGAGACGCGAGAAG  & negative\\_control & NT\\\\\n",
       "\t NA & NA & NA & NA\\textbar{}nt\\_948 &  255 & NA & nt\\_948 & chrX & 48786590 & 48786591 & + & GATA1 & ENSG00000102145 & GAATAGTTGAATGCCCGGGC & GAATAGTTGAATGCCCGGGC & negative\\_control & NT\\\\\n",
       "\t NA & NA & NA & NA\\textbar{}nt\\_950 &   63 & NA & nt\\_950 & chrX & 48786590 & 48786591 & + & GATA1 & ENSG00000102145 & GAATATTAGGAGCCGAATAG & GAATATTAGGAGCCGAATAG & negative\\_control & NT\\\\\n",
       "\t NA & NA & NA & NA\\textbar{}nt\\_953 & 1167 & NA & nt\\_953 & chrX & 48786590 & 48786591 & + & GATA1 & ENSG00000102145 & GAATCAGCCTAGGGTCGGTA & GAATCAGCCTAGGGTCGGTA & negative\\_control & NT\\\\\n",
       "\t NA & NA & NA & NA\\textbar{}nt\\_954 &  163 & NA & nt\\_954 & chrX & 48786590 & 48786591 & + & GATA1 & ENSG00000102145 & GAATCATGGCATAAAGGT   & GAATCATGGCATAAAGGT   & negative\\_control & NT\\\\\n",
       "\t NA & NA & NA & NA\\textbar{}nt\\_955 &  749 & NA & nt\\_955 & chrX & 48786590 & 48786591 & + & GATA1 & ENSG00000102145 & GAATCGTGGTCAGGAGTGCG & GAATCGTGGTCAGGAGTGCG & negative\\_control & NT\\\\\n",
       "\t NA & NA & NA & NA\\textbar{}nt\\_958 &  986 & NA & nt\\_958 & chrX & 48786590 & 48786591 & + & GATA1 & ENSG00000102145 & GAATGTTGATAACCGCAAC  & GAATGTTGATAACCGCAAC  & negative\\_control & NT\\\\\n",
       "\t NA & NA & NA & NA\\textbar{}nt\\_959 &  351 & NA & nt\\_959 & chrX & 48786590 & 48786591 & + & GATA1 & ENSG00000102145 & GAATTGGGGATCGGTGTTTC & GAATTGGGGATCGGTGTTTC & negative\\_control & NT\\\\\n",
       "\t NA & NA & NA & NA\\textbar{}nt\\_961 &  469 & NA & nt\\_961 & chrX & 48786590 & 48786591 & + & GATA1 & ENSG00000102145 & GAATTTAGATTGAAACCAAA & GAATTTAGATTGAAACCAAA & negative\\_control & NT\\\\\n",
       "\t NA & NA & NA & NA\\textbar{}nt\\_964 &  725 & NA & nt\\_964 & chrX & 48786590 & 48786591 & + & GATA1 & ENSG00000102145 & GACAAATGGATCCACGGCA  & GACAAATGGATCCACGGCA  & negative\\_control & NT\\\\\n",
       "\t NA & NA & NA & NA\\textbar{}nt\\_965 &  631 & NA & nt\\_965 & chrX & 48786590 & 48786591 & + & GATA1 & ENSG00000102145 & GACAAATTGCAGGAGTTTGC & GACAAATTGCAGGAGTTTGC & negative\\_control & NT\\\\\n",
       "\t NA & NA & NA & NA\\textbar{}nt\\_970 &  576 & NA & nt\\_970 & chrX & 48786590 & 48786591 & + & GATA1 & ENSG00000102145 & GACAGACGCCGTAGATCC   & GACAGACGCCGTAGATCC   & negative\\_control & NT\\\\\n",
       "\t NA & NA & NA & NA\\textbar{}nt\\_971 &  597 & NA & nt\\_971 & chrX & 48786590 & 48786591 & + & GATA1 & ENSG00000102145 & GACAGCCTTCGGGCCGTCA  & GACAGCCTTCGGGCCGTCA  & negative\\_control & NT\\\\\n",
       "\t NA & NA & NA & NA\\textbar{}nt\\_972 &  710 & NA & nt\\_972 & chrX & 48786590 & 48786591 & + & GATA1 & ENSG00000102145 & GACAGTTGTTCTCCGACCG  & GACAGTTGTTCTCCGACCG  & negative\\_control & NT\\\\\n",
       "\t NA & NA & NA & NA\\textbar{}nt\\_973 &  408 & NA & nt\\_973 & chrX & 48786590 & 48786591 & + & GATA1 & ENSG00000102145 & GACATAACACGGAGGTAGA  & GACATAACACGGAGGTAGA  & negative\\_control & NT\\\\\n",
       "\t NA & NA & NA & NA\\textbar{}nt\\_974 &  211 & NA & nt\\_974 & chrX & 48786590 & 48786591 & + & GATA1 & ENSG00000102145 & GACATAGCATCGACTCGG   & GACATAGCATCGACTCGG   & negative\\_control & NT\\\\\n",
       "\t NA & NA & NA & NA\\textbar{}nt\\_975 &  972 & NA & nt\\_975 & chrX & 48786590 & 48786591 & + & GATA1 & ENSG00000102145 & GACATAGGGGCGCCTTCAG  & GACATAGGGGCGCCTTCAG  & negative\\_control & NT\\\\\n",
       "\t NA & NA & NA & NA\\textbar{}nt\\_978 &  360 & NA & nt\\_978 & chrX & 48786590 & 48786591 & + & GATA1 & ENSG00000102145 & GACATCCGAAGTTGAAGTTA & GACATCCGAAGTTGAAGTTA & negative\\_control & NT\\\\\n",
       "\t NA & NA & NA & NA\\textbar{}nt\\_980 &  973 & NA & nt\\_980 & chrX & 48786590 & 48786591 & + & GATA1 & ENSG00000102145 & GACATGAGTGGGAATTGGA  & GACATGAGTGGGAATTGGA  & negative\\_control & NT\\\\\n",
       "\t NA & NA & NA & NA\\textbar{}nt\\_984 & 1908 & NA & nt\\_984 & chrX & 48786590 & 48786591 & + & GATA1 & ENSG00000102145 & GACCGGCGCTGTGGATGTG  & GACCGGCGCTGTGGATGTG  & negative\\_control & NT\\\\\n",
       "\t NA & NA & NA & NA\\textbar{}nt\\_985 &  431 & NA & nt\\_985 & chrX & 48786590 & 48786591 & + & GATA1 & ENSG00000102145 & GACCTACCTTAATCGTGCGC & GACCTACCTTAATCGTGCGC & negative\\_control & NT\\\\\n",
       "\t NA & NA & NA & NA\\textbar{}nt\\_986 &  236 & NA & nt\\_986 & chrX & 48786590 & 48786591 & + & GATA1 & ENSG00000102145 & GACCTATACGGCCCGGGTA  & GACCTATACGGCCCGGGTA  & negative\\_control & NT\\\\\n",
       "\t NA & NA & NA & NA\\textbar{}nt\\_989 &  850 & NA & nt\\_989 & chrX & 48786590 & 48786591 & + & GATA1 & ENSG00000102145 & GACCTGGTAATCTTGCGGAG & GACCTGGTAATCTTGCGGAG & negative\\_control & NT\\\\\n",
       "\t NA & NA & NA & NA\\textbar{}nt\\_990 & 1786 & NA & nt\\_990 & chrX & 48786590 & 48786591 & + & GATA1 & ENSG00000102145 & GACGAACGATGCTAAGGTG  & GACGAACGATGCTAAGGTG  & negative\\_control & NT\\\\\n",
       "\t NA & NA & NA & NA\\textbar{}nt\\_993 &  611 & NA & nt\\_993 & chrX & 48786590 & 48786591 & + & GATA1 & ENSG00000102145 & GACGAGAGCTATCCCGCGGA & GACGAGAGCTATCCCGCGGA & negative\\_control & NT\\\\\n",
       "\t NA & NA & NA & NA\\textbar{}nt\\_995 &  577 & NA & nt\\_995 & chrX & 48786590 & 48786591 & + & GATA1 & ENSG00000102145 & GACGAGATATACGCCCACC  & GACGAGATATACGCCCACC  & negative\\_control & NT\\\\\n",
       "\\end{tabular}\n"
      ],
      "text/markdown": [
       "\n",
       "A spec_tbl_df: 998 × 17\n",
       "\n",
       "| Chrom &lt;chr&gt; | Start &lt;dbl&gt; | End &lt;dbl&gt; | Name &lt;chr&gt; | SeqCounts &lt;dbl&gt; | Strand &lt;chr&gt; | Guide_ID &lt;chr&gt; | Chrom_TSS &lt;chr&gt; | Start_TSS &lt;dbl&gt; | End_TSS &lt;dbl&gt; | Strand_Gene &lt;chr&gt; | Gene_Symbol &lt;chr&gt; | Gene_ENS &lt;chr&gt; | Guide_SpacerSeq &lt;chr&gt; | Guide_Seq &lt;chr&gt; | Guide_Type &lt;chr&gt; | Notes &lt;chr&gt; |\n",
       "|---|---|---|---|---|---|---|---|---|---|---|---|---|---|---|---|---|\n",
       "| NA | NA | NA | NA|nt_1006 |  782 | NA | nt_1006 | chrX | 48786590 | 48786591 | + | GATA1 | ENSG00000102145 | GACGCGCTGCATACGATCG  | GACGCGCTGCATACGATCG  | negative_control | NT |\n",
       "| NA | NA | NA | NA|nt_1007 |  329 | NA | nt_1007 | chrX | 48786590 | 48786591 | + | GATA1 | ENSG00000102145 | GACGGCATGACGAGGTAGT  | GACGGCATGACGAGGTAGT  | negative_control | NT |\n",
       "| NA | NA | NA | NA|nt_1008 |  654 | NA | nt_1008 | chrX | 48786590 | 48786591 | + | GATA1 | ENSG00000102145 | GACGGGATCTGATGGTTCA  | GACGGGATCTGATGGTTCA  | negative_control | NT |\n",
       "| NA | NA | NA | NA|nt_1010 |  413 | NA | nt_1010 | chrX | 48786590 | 48786591 | + | GATA1 | ENSG00000102145 | GACGGGCTATAAAGCATTT  | GACGGGCTATAAAGCATTT  | negative_control | NT |\n",
       "| NA | NA | NA | NA|nt_1011 |  167 | NA | nt_1011 | chrX | 48786590 | 48786591 | + | GATA1 | ENSG00000102145 | GACGTGGACGTTGGCGCC   | GACGTGGACGTTGGCGCC   | negative_control | NT |\n",
       "| NA | NA | NA | NA|nt_1012 |  491 | NA | nt_1012 | chrX | 48786590 | 48786591 | + | GATA1 | ENSG00000102145 | GACTAAGCGCAAGCACCT   | GACTAAGCGCAAGCACCT   | negative_control | NT |\n",
       "| NA | NA | NA | NA|nt_1013 |  855 | NA | nt_1013 | chrX | 48786590 | 48786591 | + | GATA1 | ENSG00000102145 | GACTAAGCGGAATGTCGAT  | GACTAAGCGGAATGTCGAT  | negative_control | NT |\n",
       "| NA | NA | NA | NA|nt_1014 |  503 | NA | nt_1014 | chrX | 48786590 | 48786591 | + | GATA1 | ENSG00000102145 | GACTACGTTCGGTACGACT  | GACTACGTTCGGTACGACT  | negative_control | NT |\n",
       "| NA | NA | NA | NA|nt_1016 | 1149 | NA | nt_1016 | chrX | 48786590 | 48786591 | + | GATA1 | ENSG00000102145 | GACTCTGCCGGGGATCACC  | GACTCTGCCGGGGATCACC  | negative_control | NT |\n",
       "| NA | NA | NA | NA|nt_1019 |   62 | NA | nt_1019 | chrX | 48786590 | 48786591 | + | GATA1 | ENSG00000102145 | GACTGATACAAGACTAACGT | GACTGATACAAGACTAACGT | negative_control | NT |\n",
       "| NA | NA | NA | NA|nt_1023 |  307 | NA | nt_1023 | chrX | 48786590 | 48786591 | + | GATA1 | ENSG00000102145 | GACTGGAGCGAACGTTGTTG | GACTGGAGCGAACGTTGTTG | negative_control | NT |\n",
       "| NA | NA | NA | NA|nt_1024 |  300 | NA | nt_1024 | chrX | 48786590 | 48786591 | + | GATA1 | ENSG00000102145 | GACTGGATGTGAATACCCG  | GACTGGATGTGAATACCCG  | negative_control | NT |\n",
       "| NA | NA | NA | NA|nt_1027 |  476 | NA | nt_1027 | chrX | 48786590 | 48786591 | + | GATA1 | ENSG00000102145 | GACTTGGATCGCTTAATCC  | GACTTGGATCGCTTAATCC  | negative_control | NT |\n",
       "| NA | NA | NA | NA|nt_1028 |  460 | NA | nt_1028 | chrX | 48786590 | 48786591 | + | GATA1 | ENSG00000102145 | GACTTTGCATTAATAGGTC  | GACTTTGCATTAATAGGTC  | negative_control | NT |\n",
       "| NA | NA | NA | NA|nt_1030 |  858 | NA | nt_1030 | chrX | 48786590 | 48786591 | + | GATA1 | ENSG00000102145 | GACTTTGTCAGGCGCCGC   | GACTTTGTCAGGCGCCGC   | negative_control | NT |\n",
       "| NA | NA | NA | NA|nt_1031 |  713 | NA | nt_1031 | chrX | 48786590 | 48786591 | + | GATA1 | ENSG00000102145 | GAGAACGACGGGCCTCACCC | GAGAACGACGGGCCTCACCC | negative_control | NT |\n",
       "| NA | NA | NA | NA|nt_1034 |  877 | NA | nt_1034 | chrX | 48786590 | 48786591 | + | GATA1 | ENSG00000102145 | GAGAGCACGGCCAGCGAC   | GAGAGCACGGCCAGCGAC   | negative_control | NT |\n",
       "| NA | NA | NA | NA|nt_1035 |  299 | NA | nt_1035 | chrX | 48786590 | 48786591 | + | GATA1 | ENSG00000102145 | GAGAGTCACACGTCCCGT   | GAGAGTCACACGTCCCGT   | negative_control | NT |\n",
       "| NA | NA | NA | NA|nt_1036 |  577 | NA | nt_1036 | chrX | 48786590 | 48786591 | + | GATA1 | ENSG00000102145 | GAGATGTGGGAACTGTACT  | GAGATGTGGGAACTGTACT  | negative_control | NT |\n",
       "| NA | NA | NA | NA|nt_1038 |  310 | NA | nt_1038 | chrX | 48786590 | 48786591 | + | GATA1 | ENSG00000102145 | GAGATTTACAAGAGATCAA  | GAGATTTACAAGAGATCAA  | negative_control | NT |\n",
       "| NA | NA | NA | NA|nt_1041 |  631 | NA | nt_1041 | chrX | 48786590 | 48786591 | + | GATA1 | ENSG00000102145 | GAGCATGGATCCTAGGCCGC | GAGCATGGATCCTAGGCCGC | negative_control | NT |\n",
       "| NA | NA | NA | NA|nt_1042 |  134 | NA | nt_1042 | chrX | 48786590 | 48786591 | + | GATA1 | ENSG00000102145 | GAGCCGGTACCGAGGAGAC  | GAGCCGGTACCGAGGAGAC  | negative_control | NT |\n",
       "| NA | NA | NA | NA|nt_1043 |   95 | NA | nt_1043 | chrX | 48786590 | 48786591 | + | GATA1 | ENSG00000102145 | GAGCCGGTTCCTCAAACG   | GAGCCGGTTCCTCAAACG   | negative_control | NT |\n",
       "| NA | NA | NA | NA|nt_1044 |  587 | NA | nt_1044 | chrX | 48786590 | 48786591 | + | GATA1 | ENSG00000102145 | GAGCCTGAGAGGGATGTGTC | GAGCCTGAGAGGGATGTGTC | negative_control | NT |\n",
       "| NA | NA | NA | NA|nt_1045 |  434 | NA | nt_1045 | chrX | 48786590 | 48786591 | + | GATA1 | ENSG00000102145 | GAGCCTGCCTACCGCGGAGC | GAGCCTGCCTACCGCGGAGC | negative_control | NT |\n",
       "| NA | NA | NA | NA|nt_1046 |  272 | NA | nt_1046 | chrX | 48786590 | 48786591 | + | GATA1 | ENSG00000102145 | GAGCGCGGATTGTAAGGGAT | GAGCGCGGATTGTAAGGGAT | negative_control | NT |\n",
       "| NA | NA | NA | NA|nt_1047 |  599 | NA | nt_1047 | chrX | 48786590 | 48786591 | + | GATA1 | ENSG00000102145 | GAGCGCGTCAGGGCAGCAA  | GAGCGCGTCAGGGCAGCAA  | negative_control | NT |\n",
       "| NA | NA | NA | NA|nt_1048 |  171 | NA | nt_1048 | chrX | 48786590 | 48786591 | + | GATA1 | ENSG00000102145 | GAGCGGAAACGATGGGCAG  | GAGCGGAAACGATGGGCAG  | negative_control | NT |\n",
       "| NA | NA | NA | NA|nt_1049 |  977 | NA | nt_1049 | chrX | 48786590 | 48786591 | + | GATA1 | ENSG00000102145 | GAGCGGTCCTCGATGGGAC  | GAGCGGTCCTCGATGGGAC  | negative_control | NT |\n",
       "| NA | NA | NA | NA|nt_1050 |  124 | NA | nt_1050 | chrX | 48786590 | 48786591 | + | GATA1 | ENSG00000102145 | GAGCGTCTTAACGTACGGG  | GAGCGTCTTAACGTACGGG  | negative_control | NT |\n",
       "| ⋮ | ⋮ | ⋮ | ⋮ | ⋮ | ⋮ | ⋮ | ⋮ | ⋮ | ⋮ | ⋮ | ⋮ | ⋮ | ⋮ | ⋮ | ⋮ | ⋮ |\n",
       "| NA | NA | NA | NA|nt_938 |  179 | NA | nt_938 | chrX | 48786590 | 48786591 | + | GATA1 | ENSG00000102145 | GAAGGGGCTCACAGAACAC  | GAAGGGGCTCACAGAACAC  | negative_control | NT |\n",
       "| NA | NA | NA | NA|nt_941 |  173 | NA | nt_941 | chrX | 48786590 | 48786591 | + | GATA1 | ENSG00000102145 | GAAGTTGGATTATTAAGCC  | GAAGTTGGATTATTAAGCC  | negative_control | NT |\n",
       "| NA | NA | NA | NA|nt_944 |  292 | NA | nt_944 | chrX | 48786590 | 48786591 | + | GATA1 | ENSG00000102145 | GAATAACGGCGAGAGCGA   | GAATAACGGCGAGAGCGA   | negative_control | NT |\n",
       "| NA | NA | NA | NA|nt_946 |  246 | NA | nt_946 | chrX | 48786590 | 48786591 | + | GATA1 | ENSG00000102145 | GAATAAGAGCGCAAATAAC  | GAATAAGAGCGCAAATAAC  | negative_control | NT |\n",
       "| NA | NA | NA | NA|nt_947 |  102 | NA | nt_947 | chrX | 48786590 | 48786591 | + | GATA1 | ENSG00000102145 | GAATAGGAGACGCGAGAAG  | GAATAGGAGACGCGAGAAG  | negative_control | NT |\n",
       "| NA | NA | NA | NA|nt_948 |  255 | NA | nt_948 | chrX | 48786590 | 48786591 | + | GATA1 | ENSG00000102145 | GAATAGTTGAATGCCCGGGC | GAATAGTTGAATGCCCGGGC | negative_control | NT |\n",
       "| NA | NA | NA | NA|nt_950 |   63 | NA | nt_950 | chrX | 48786590 | 48786591 | + | GATA1 | ENSG00000102145 | GAATATTAGGAGCCGAATAG | GAATATTAGGAGCCGAATAG | negative_control | NT |\n",
       "| NA | NA | NA | NA|nt_953 | 1167 | NA | nt_953 | chrX | 48786590 | 48786591 | + | GATA1 | ENSG00000102145 | GAATCAGCCTAGGGTCGGTA | GAATCAGCCTAGGGTCGGTA | negative_control | NT |\n",
       "| NA | NA | NA | NA|nt_954 |  163 | NA | nt_954 | chrX | 48786590 | 48786591 | + | GATA1 | ENSG00000102145 | GAATCATGGCATAAAGGT   | GAATCATGGCATAAAGGT   | negative_control | NT |\n",
       "| NA | NA | NA | NA|nt_955 |  749 | NA | nt_955 | chrX | 48786590 | 48786591 | + | GATA1 | ENSG00000102145 | GAATCGTGGTCAGGAGTGCG | GAATCGTGGTCAGGAGTGCG | negative_control | NT |\n",
       "| NA | NA | NA | NA|nt_958 |  986 | NA | nt_958 | chrX | 48786590 | 48786591 | + | GATA1 | ENSG00000102145 | GAATGTTGATAACCGCAAC  | GAATGTTGATAACCGCAAC  | negative_control | NT |\n",
       "| NA | NA | NA | NA|nt_959 |  351 | NA | nt_959 | chrX | 48786590 | 48786591 | + | GATA1 | ENSG00000102145 | GAATTGGGGATCGGTGTTTC | GAATTGGGGATCGGTGTTTC | negative_control | NT |\n",
       "| NA | NA | NA | NA|nt_961 |  469 | NA | nt_961 | chrX | 48786590 | 48786591 | + | GATA1 | ENSG00000102145 | GAATTTAGATTGAAACCAAA | GAATTTAGATTGAAACCAAA | negative_control | NT |\n",
       "| NA | NA | NA | NA|nt_964 |  725 | NA | nt_964 | chrX | 48786590 | 48786591 | + | GATA1 | ENSG00000102145 | GACAAATGGATCCACGGCA  | GACAAATGGATCCACGGCA  | negative_control | NT |\n",
       "| NA | NA | NA | NA|nt_965 |  631 | NA | nt_965 | chrX | 48786590 | 48786591 | + | GATA1 | ENSG00000102145 | GACAAATTGCAGGAGTTTGC | GACAAATTGCAGGAGTTTGC | negative_control | NT |\n",
       "| NA | NA | NA | NA|nt_970 |  576 | NA | nt_970 | chrX | 48786590 | 48786591 | + | GATA1 | ENSG00000102145 | GACAGACGCCGTAGATCC   | GACAGACGCCGTAGATCC   | negative_control | NT |\n",
       "| NA | NA | NA | NA|nt_971 |  597 | NA | nt_971 | chrX | 48786590 | 48786591 | + | GATA1 | ENSG00000102145 | GACAGCCTTCGGGCCGTCA  | GACAGCCTTCGGGCCGTCA  | negative_control | NT |\n",
       "| NA | NA | NA | NA|nt_972 |  710 | NA | nt_972 | chrX | 48786590 | 48786591 | + | GATA1 | ENSG00000102145 | GACAGTTGTTCTCCGACCG  | GACAGTTGTTCTCCGACCG  | negative_control | NT |\n",
       "| NA | NA | NA | NA|nt_973 |  408 | NA | nt_973 | chrX | 48786590 | 48786591 | + | GATA1 | ENSG00000102145 | GACATAACACGGAGGTAGA  | GACATAACACGGAGGTAGA  | negative_control | NT |\n",
       "| NA | NA | NA | NA|nt_974 |  211 | NA | nt_974 | chrX | 48786590 | 48786591 | + | GATA1 | ENSG00000102145 | GACATAGCATCGACTCGG   | GACATAGCATCGACTCGG   | negative_control | NT |\n",
       "| NA | NA | NA | NA|nt_975 |  972 | NA | nt_975 | chrX | 48786590 | 48786591 | + | GATA1 | ENSG00000102145 | GACATAGGGGCGCCTTCAG  | GACATAGGGGCGCCTTCAG  | negative_control | NT |\n",
       "| NA | NA | NA | NA|nt_978 |  360 | NA | nt_978 | chrX | 48786590 | 48786591 | + | GATA1 | ENSG00000102145 | GACATCCGAAGTTGAAGTTA | GACATCCGAAGTTGAAGTTA | negative_control | NT |\n",
       "| NA | NA | NA | NA|nt_980 |  973 | NA | nt_980 | chrX | 48786590 | 48786591 | + | GATA1 | ENSG00000102145 | GACATGAGTGGGAATTGGA  | GACATGAGTGGGAATTGGA  | negative_control | NT |\n",
       "| NA | NA | NA | NA|nt_984 | 1908 | NA | nt_984 | chrX | 48786590 | 48786591 | + | GATA1 | ENSG00000102145 | GACCGGCGCTGTGGATGTG  | GACCGGCGCTGTGGATGTG  | negative_control | NT |\n",
       "| NA | NA | NA | NA|nt_985 |  431 | NA | nt_985 | chrX | 48786590 | 48786591 | + | GATA1 | ENSG00000102145 | GACCTACCTTAATCGTGCGC | GACCTACCTTAATCGTGCGC | negative_control | NT |\n",
       "| NA | NA | NA | NA|nt_986 |  236 | NA | nt_986 | chrX | 48786590 | 48786591 | + | GATA1 | ENSG00000102145 | GACCTATACGGCCCGGGTA  | GACCTATACGGCCCGGGTA  | negative_control | NT |\n",
       "| NA | NA | NA | NA|nt_989 |  850 | NA | nt_989 | chrX | 48786590 | 48786591 | + | GATA1 | ENSG00000102145 | GACCTGGTAATCTTGCGGAG | GACCTGGTAATCTTGCGGAG | negative_control | NT |\n",
       "| NA | NA | NA | NA|nt_990 | 1786 | NA | nt_990 | chrX | 48786590 | 48786591 | + | GATA1 | ENSG00000102145 | GACGAACGATGCTAAGGTG  | GACGAACGATGCTAAGGTG  | negative_control | NT |\n",
       "| NA | NA | NA | NA|nt_993 |  611 | NA | nt_993 | chrX | 48786590 | 48786591 | + | GATA1 | ENSG00000102145 | GACGAGAGCTATCCCGCGGA | GACGAGAGCTATCCCGCGGA | negative_control | NT |\n",
       "| NA | NA | NA | NA|nt_995 |  577 | NA | nt_995 | chrX | 48786590 | 48786591 | + | GATA1 | ENSG00000102145 | GACGAGATATACGCCCACC  | GACGAGATATACGCCCACC  | negative_control | NT |\n",
       "\n"
      ],
      "text/plain": [
       "    Chrom Start End Name       SeqCounts Strand Guide_ID Chrom_TSS Start_TSS\n",
       "1   NA    NA    NA  NA|nt_1006  782      NA     nt_1006  chrX      48786590 \n",
       "2   NA    NA    NA  NA|nt_1007  329      NA     nt_1007  chrX      48786590 \n",
       "3   NA    NA    NA  NA|nt_1008  654      NA     nt_1008  chrX      48786590 \n",
       "4   NA    NA    NA  NA|nt_1010  413      NA     nt_1010  chrX      48786590 \n",
       "5   NA    NA    NA  NA|nt_1011  167      NA     nt_1011  chrX      48786590 \n",
       "6   NA    NA    NA  NA|nt_1012  491      NA     nt_1012  chrX      48786590 \n",
       "7   NA    NA    NA  NA|nt_1013  855      NA     nt_1013  chrX      48786590 \n",
       "8   NA    NA    NA  NA|nt_1014  503      NA     nt_1014  chrX      48786590 \n",
       "9   NA    NA    NA  NA|nt_1016 1149      NA     nt_1016  chrX      48786590 \n",
       "10  NA    NA    NA  NA|nt_1019   62      NA     nt_1019  chrX      48786590 \n",
       "11  NA    NA    NA  NA|nt_1023  307      NA     nt_1023  chrX      48786590 \n",
       "12  NA    NA    NA  NA|nt_1024  300      NA     nt_1024  chrX      48786590 \n",
       "13  NA    NA    NA  NA|nt_1027  476      NA     nt_1027  chrX      48786590 \n",
       "14  NA    NA    NA  NA|nt_1028  460      NA     nt_1028  chrX      48786590 \n",
       "15  NA    NA    NA  NA|nt_1030  858      NA     nt_1030  chrX      48786590 \n",
       "16  NA    NA    NA  NA|nt_1031  713      NA     nt_1031  chrX      48786590 \n",
       "17  NA    NA    NA  NA|nt_1034  877      NA     nt_1034  chrX      48786590 \n",
       "18  NA    NA    NA  NA|nt_1035  299      NA     nt_1035  chrX      48786590 \n",
       "19  NA    NA    NA  NA|nt_1036  577      NA     nt_1036  chrX      48786590 \n",
       "20  NA    NA    NA  NA|nt_1038  310      NA     nt_1038  chrX      48786590 \n",
       "21  NA    NA    NA  NA|nt_1041  631      NA     nt_1041  chrX      48786590 \n",
       "22  NA    NA    NA  NA|nt_1042  134      NA     nt_1042  chrX      48786590 \n",
       "23  NA    NA    NA  NA|nt_1043   95      NA     nt_1043  chrX      48786590 \n",
       "24  NA    NA    NA  NA|nt_1044  587      NA     nt_1044  chrX      48786590 \n",
       "25  NA    NA    NA  NA|nt_1045  434      NA     nt_1045  chrX      48786590 \n",
       "26  NA    NA    NA  NA|nt_1046  272      NA     nt_1046  chrX      48786590 \n",
       "27  NA    NA    NA  NA|nt_1047  599      NA     nt_1047  chrX      48786590 \n",
       "28  NA    NA    NA  NA|nt_1048  171      NA     nt_1048  chrX      48786590 \n",
       "29  NA    NA    NA  NA|nt_1049  977      NA     nt_1049  chrX      48786590 \n",
       "30  NA    NA    NA  NA|nt_1050  124      NA     nt_1050  chrX      48786590 \n",
       "⋮   ⋮     ⋮     ⋮   ⋮          ⋮         ⋮      ⋮        ⋮         ⋮        \n",
       "969 NA    NA    NA  NA|nt_938   179      NA     nt_938   chrX      48786590 \n",
       "970 NA    NA    NA  NA|nt_941   173      NA     nt_941   chrX      48786590 \n",
       "971 NA    NA    NA  NA|nt_944   292      NA     nt_944   chrX      48786590 \n",
       "972 NA    NA    NA  NA|nt_946   246      NA     nt_946   chrX      48786590 \n",
       "973 NA    NA    NA  NA|nt_947   102      NA     nt_947   chrX      48786590 \n",
       "974 NA    NA    NA  NA|nt_948   255      NA     nt_948   chrX      48786590 \n",
       "975 NA    NA    NA  NA|nt_950    63      NA     nt_950   chrX      48786590 \n",
       "976 NA    NA    NA  NA|nt_953  1167      NA     nt_953   chrX      48786590 \n",
       "977 NA    NA    NA  NA|nt_954   163      NA     nt_954   chrX      48786590 \n",
       "978 NA    NA    NA  NA|nt_955   749      NA     nt_955   chrX      48786590 \n",
       "979 NA    NA    NA  NA|nt_958   986      NA     nt_958   chrX      48786590 \n",
       "980 NA    NA    NA  NA|nt_959   351      NA     nt_959   chrX      48786590 \n",
       "981 NA    NA    NA  NA|nt_961   469      NA     nt_961   chrX      48786590 \n",
       "982 NA    NA    NA  NA|nt_964   725      NA     nt_964   chrX      48786590 \n",
       "983 NA    NA    NA  NA|nt_965   631      NA     nt_965   chrX      48786590 \n",
       "984 NA    NA    NA  NA|nt_970   576      NA     nt_970   chrX      48786590 \n",
       "985 NA    NA    NA  NA|nt_971   597      NA     nt_971   chrX      48786590 \n",
       "986 NA    NA    NA  NA|nt_972   710      NA     nt_972   chrX      48786590 \n",
       "987 NA    NA    NA  NA|nt_973   408      NA     nt_973   chrX      48786590 \n",
       "988 NA    NA    NA  NA|nt_974   211      NA     nt_974   chrX      48786590 \n",
       "989 NA    NA    NA  NA|nt_975   972      NA     nt_975   chrX      48786590 \n",
       "990 NA    NA    NA  NA|nt_978   360      NA     nt_978   chrX      48786590 \n",
       "991 NA    NA    NA  NA|nt_980   973      NA     nt_980   chrX      48786590 \n",
       "992 NA    NA    NA  NA|nt_984  1908      NA     nt_984   chrX      48786590 \n",
       "993 NA    NA    NA  NA|nt_985   431      NA     nt_985   chrX      48786590 \n",
       "994 NA    NA    NA  NA|nt_986   236      NA     nt_986   chrX      48786590 \n",
       "995 NA    NA    NA  NA|nt_989   850      NA     nt_989   chrX      48786590 \n",
       "996 NA    NA    NA  NA|nt_990  1786      NA     nt_990   chrX      48786590 \n",
       "997 NA    NA    NA  NA|nt_993   611      NA     nt_993   chrX      48786590 \n",
       "998 NA    NA    NA  NA|nt_995   577      NA     nt_995   chrX      48786590 \n",
       "    End_TSS  Strand_Gene Gene_Symbol Gene_ENS        Guide_SpacerSeq     \n",
       "1   48786591 +           GATA1       ENSG00000102145 GACGCGCTGCATACGATCG \n",
       "2   48786591 +           GATA1       ENSG00000102145 GACGGCATGACGAGGTAGT \n",
       "3   48786591 +           GATA1       ENSG00000102145 GACGGGATCTGATGGTTCA \n",
       "4   48786591 +           GATA1       ENSG00000102145 GACGGGCTATAAAGCATTT \n",
       "5   48786591 +           GATA1       ENSG00000102145 GACGTGGACGTTGGCGCC  \n",
       "6   48786591 +           GATA1       ENSG00000102145 GACTAAGCGCAAGCACCT  \n",
       "7   48786591 +           GATA1       ENSG00000102145 GACTAAGCGGAATGTCGAT \n",
       "8   48786591 +           GATA1       ENSG00000102145 GACTACGTTCGGTACGACT \n",
       "9   48786591 +           GATA1       ENSG00000102145 GACTCTGCCGGGGATCACC \n",
       "10  48786591 +           GATA1       ENSG00000102145 GACTGATACAAGACTAACGT\n",
       "11  48786591 +           GATA1       ENSG00000102145 GACTGGAGCGAACGTTGTTG\n",
       "12  48786591 +           GATA1       ENSG00000102145 GACTGGATGTGAATACCCG \n",
       "13  48786591 +           GATA1       ENSG00000102145 GACTTGGATCGCTTAATCC \n",
       "14  48786591 +           GATA1       ENSG00000102145 GACTTTGCATTAATAGGTC \n",
       "15  48786591 +           GATA1       ENSG00000102145 GACTTTGTCAGGCGCCGC  \n",
       "16  48786591 +           GATA1       ENSG00000102145 GAGAACGACGGGCCTCACCC\n",
       "17  48786591 +           GATA1       ENSG00000102145 GAGAGCACGGCCAGCGAC  \n",
       "18  48786591 +           GATA1       ENSG00000102145 GAGAGTCACACGTCCCGT  \n",
       "19  48786591 +           GATA1       ENSG00000102145 GAGATGTGGGAACTGTACT \n",
       "20  48786591 +           GATA1       ENSG00000102145 GAGATTTACAAGAGATCAA \n",
       "21  48786591 +           GATA1       ENSG00000102145 GAGCATGGATCCTAGGCCGC\n",
       "22  48786591 +           GATA1       ENSG00000102145 GAGCCGGTACCGAGGAGAC \n",
       "23  48786591 +           GATA1       ENSG00000102145 GAGCCGGTTCCTCAAACG  \n",
       "24  48786591 +           GATA1       ENSG00000102145 GAGCCTGAGAGGGATGTGTC\n",
       "25  48786591 +           GATA1       ENSG00000102145 GAGCCTGCCTACCGCGGAGC\n",
       "26  48786591 +           GATA1       ENSG00000102145 GAGCGCGGATTGTAAGGGAT\n",
       "27  48786591 +           GATA1       ENSG00000102145 GAGCGCGTCAGGGCAGCAA \n",
       "28  48786591 +           GATA1       ENSG00000102145 GAGCGGAAACGATGGGCAG \n",
       "29  48786591 +           GATA1       ENSG00000102145 GAGCGGTCCTCGATGGGAC \n",
       "30  48786591 +           GATA1       ENSG00000102145 GAGCGTCTTAACGTACGGG \n",
       "⋮   ⋮        ⋮           ⋮           ⋮               ⋮                   \n",
       "969 48786591 +           GATA1       ENSG00000102145 GAAGGGGCTCACAGAACAC \n",
       "970 48786591 +           GATA1       ENSG00000102145 GAAGTTGGATTATTAAGCC \n",
       "971 48786591 +           GATA1       ENSG00000102145 GAATAACGGCGAGAGCGA  \n",
       "972 48786591 +           GATA1       ENSG00000102145 GAATAAGAGCGCAAATAAC \n",
       "973 48786591 +           GATA1       ENSG00000102145 GAATAGGAGACGCGAGAAG \n",
       "974 48786591 +           GATA1       ENSG00000102145 GAATAGTTGAATGCCCGGGC\n",
       "975 48786591 +           GATA1       ENSG00000102145 GAATATTAGGAGCCGAATAG\n",
       "976 48786591 +           GATA1       ENSG00000102145 GAATCAGCCTAGGGTCGGTA\n",
       "977 48786591 +           GATA1       ENSG00000102145 GAATCATGGCATAAAGGT  \n",
       "978 48786591 +           GATA1       ENSG00000102145 GAATCGTGGTCAGGAGTGCG\n",
       "979 48786591 +           GATA1       ENSG00000102145 GAATGTTGATAACCGCAAC \n",
       "980 48786591 +           GATA1       ENSG00000102145 GAATTGGGGATCGGTGTTTC\n",
       "981 48786591 +           GATA1       ENSG00000102145 GAATTTAGATTGAAACCAAA\n",
       "982 48786591 +           GATA1       ENSG00000102145 GACAAATGGATCCACGGCA \n",
       "983 48786591 +           GATA1       ENSG00000102145 GACAAATTGCAGGAGTTTGC\n",
       "984 48786591 +           GATA1       ENSG00000102145 GACAGACGCCGTAGATCC  \n",
       "985 48786591 +           GATA1       ENSG00000102145 GACAGCCTTCGGGCCGTCA \n",
       "986 48786591 +           GATA1       ENSG00000102145 GACAGTTGTTCTCCGACCG \n",
       "987 48786591 +           GATA1       ENSG00000102145 GACATAACACGGAGGTAGA \n",
       "988 48786591 +           GATA1       ENSG00000102145 GACATAGCATCGACTCGG  \n",
       "989 48786591 +           GATA1       ENSG00000102145 GACATAGGGGCGCCTTCAG \n",
       "990 48786591 +           GATA1       ENSG00000102145 GACATCCGAAGTTGAAGTTA\n",
       "991 48786591 +           GATA1       ENSG00000102145 GACATGAGTGGGAATTGGA \n",
       "992 48786591 +           GATA1       ENSG00000102145 GACCGGCGCTGTGGATGTG \n",
       "993 48786591 +           GATA1       ENSG00000102145 GACCTACCTTAATCGTGCGC\n",
       "994 48786591 +           GATA1       ENSG00000102145 GACCTATACGGCCCGGGTA \n",
       "995 48786591 +           GATA1       ENSG00000102145 GACCTGGTAATCTTGCGGAG\n",
       "996 48786591 +           GATA1       ENSG00000102145 GACGAACGATGCTAAGGTG \n",
       "997 48786591 +           GATA1       ENSG00000102145 GACGAGAGCTATCCCGCGGA\n",
       "998 48786591 +           GATA1       ENSG00000102145 GACGAGATATACGCCCACC \n",
       "    Guide_Seq            Guide_Type       Notes\n",
       "1   GACGCGCTGCATACGATCG  negative_control NT   \n",
       "2   GACGGCATGACGAGGTAGT  negative_control NT   \n",
       "3   GACGGGATCTGATGGTTCA  negative_control NT   \n",
       "4   GACGGGCTATAAAGCATTT  negative_control NT   \n",
       "5   GACGTGGACGTTGGCGCC   negative_control NT   \n",
       "6   GACTAAGCGCAAGCACCT   negative_control NT   \n",
       "7   GACTAAGCGGAATGTCGAT  negative_control NT   \n",
       "8   GACTACGTTCGGTACGACT  negative_control NT   \n",
       "9   GACTCTGCCGGGGATCACC  negative_control NT   \n",
       "10  GACTGATACAAGACTAACGT negative_control NT   \n",
       "11  GACTGGAGCGAACGTTGTTG negative_control NT   \n",
       "12  GACTGGATGTGAATACCCG  negative_control NT   \n",
       "13  GACTTGGATCGCTTAATCC  negative_control NT   \n",
       "14  GACTTTGCATTAATAGGTC  negative_control NT   \n",
       "15  GACTTTGTCAGGCGCCGC   negative_control NT   \n",
       "16  GAGAACGACGGGCCTCACCC negative_control NT   \n",
       "17  GAGAGCACGGCCAGCGAC   negative_control NT   \n",
       "18  GAGAGTCACACGTCCCGT   negative_control NT   \n",
       "19  GAGATGTGGGAACTGTACT  negative_control NT   \n",
       "20  GAGATTTACAAGAGATCAA  negative_control NT   \n",
       "21  GAGCATGGATCCTAGGCCGC negative_control NT   \n",
       "22  GAGCCGGTACCGAGGAGAC  negative_control NT   \n",
       "23  GAGCCGGTTCCTCAAACG   negative_control NT   \n",
       "24  GAGCCTGAGAGGGATGTGTC negative_control NT   \n",
       "25  GAGCCTGCCTACCGCGGAGC negative_control NT   \n",
       "26  GAGCGCGGATTGTAAGGGAT negative_control NT   \n",
       "27  GAGCGCGTCAGGGCAGCAA  negative_control NT   \n",
       "28  GAGCGGAAACGATGGGCAG  negative_control NT   \n",
       "29  GAGCGGTCCTCGATGGGAC  negative_control NT   \n",
       "30  GAGCGTCTTAACGTACGGG  negative_control NT   \n",
       "⋮   ⋮                    ⋮                ⋮    \n",
       "969 GAAGGGGCTCACAGAACAC  negative_control NT   \n",
       "970 GAAGTTGGATTATTAAGCC  negative_control NT   \n",
       "971 GAATAACGGCGAGAGCGA   negative_control NT   \n",
       "972 GAATAAGAGCGCAAATAAC  negative_control NT   \n",
       "973 GAATAGGAGACGCGAGAAG  negative_control NT   \n",
       "974 GAATAGTTGAATGCCCGGGC negative_control NT   \n",
       "975 GAATATTAGGAGCCGAATAG negative_control NT   \n",
       "976 GAATCAGCCTAGGGTCGGTA negative_control NT   \n",
       "977 GAATCATGGCATAAAGGT   negative_control NT   \n",
       "978 GAATCGTGGTCAGGAGTGCG negative_control NT   \n",
       "979 GAATGTTGATAACCGCAAC  negative_control NT   \n",
       "980 GAATTGGGGATCGGTGTTTC negative_control NT   \n",
       "981 GAATTTAGATTGAAACCAAA negative_control NT   \n",
       "982 GACAAATGGATCCACGGCA  negative_control NT   \n",
       "983 GACAAATTGCAGGAGTTTGC negative_control NT   \n",
       "984 GACAGACGCCGTAGATCC   negative_control NT   \n",
       "985 GACAGCCTTCGGGCCGTCA  negative_control NT   \n",
       "986 GACAGTTGTTCTCCGACCG  negative_control NT   \n",
       "987 GACATAACACGGAGGTAGA  negative_control NT   \n",
       "988 GACATAGCATCGACTCGG   negative_control NT   \n",
       "989 GACATAGGGGCGCCTTCAG  negative_control NT   \n",
       "990 GACATCCGAAGTTGAAGTTA negative_control NT   \n",
       "991 GACATGAGTGGGAATTGGA  negative_control NT   \n",
       "992 GACCGGCGCTGTGGATGTG  negative_control NT   \n",
       "993 GACCTACCTTAATCGTGCGC negative_control NT   \n",
       "994 GACCTATACGGCCCGGGTA  negative_control NT   \n",
       "995 GACCTGGTAATCTTGCGGAG negative_control NT   \n",
       "996 GACGAACGATGCTAAGGTG  negative_control NT   \n",
       "997 GACGAGAGCTATCCCGCGGA negative_control NT   \n",
       "998 GACGAGATATACGCCCACC  negative_control NT   "
      ]
     },
     "metadata": {},
     "output_type": "display_data"
    }
   ],
   "source": [
    "dat = dat_crispr_info_r1\n",
    "dat = dat %>% dplyr::filter(Guide_Type == \"negative_control\")\n",
    "dat"
   ]
  },
  {
   "cell_type": "code",
   "execution_count": 11,
   "metadata": {},
   "outputs": [
    {
     "data": {
      "text/html": [
       "<table class=\"dataframe\">\n",
       "<caption>A tibble: 6 × 17</caption>\n",
       "<thead>\n",
       "\t<tr><th scope=col>Chrom</th><th scope=col>Start</th><th scope=col>End</th><th scope=col>Name</th><th scope=col>SeqCounts</th><th scope=col>Strand</th><th scope=col>Guide_ID</th><th scope=col>Chrom_TSS</th><th scope=col>Start_TSS</th><th scope=col>End_TSS</th><th scope=col>Strand_Gene</th><th scope=col>Gene_Symbol</th><th scope=col>Gene_ENS</th><th scope=col>Guide_SpacerSeq</th><th scope=col>Guide_Seq</th><th scope=col>Guide_Type</th><th scope=col>Notes</th></tr>\n",
       "\t<tr><th scope=col>&lt;chr&gt;</th><th scope=col>&lt;dbl&gt;</th><th scope=col>&lt;dbl&gt;</th><th scope=col>&lt;chr&gt;</th><th scope=col>&lt;dbl&gt;</th><th scope=col>&lt;chr&gt;</th><th scope=col>&lt;chr&gt;</th><th scope=col>&lt;chr&gt;</th><th scope=col>&lt;dbl&gt;</th><th scope=col>&lt;dbl&gt;</th><th scope=col>&lt;chr&gt;</th><th scope=col>&lt;chr&gt;</th><th scope=col>&lt;chr&gt;</th><th scope=col>&lt;chr&gt;</th><th scope=col>&lt;chr&gt;</th><th scope=col>&lt;chr&gt;</th><th scope=col>&lt;chr&gt;</th></tr>\n",
       "</thead>\n",
       "<tbody>\n",
       "\t<tr><td>chr12</td><td>54300767</td><td>54300770</td><td>GATA1|chr12:54300749-54300767:+</td><td>517</td><td>+</td><td>chr12:54300749-54300767:+</td><td>chrX</td><td>48786590</td><td>48786591</td><td>+</td><td>GATA1</td><td>ENSG00000102145</td><td>GGATTCCAGTGAGATCCGAG</td><td>GGATTCCAGTGAGATCCGAG </td><td>targeting</td><td>NA</td></tr>\n",
       "\t<tr><td>chr12</td><td>54300811</td><td>54300814</td><td>GATA1|chr12:54300793-54300811:+</td><td>376</td><td>+</td><td>chr12:54300793-54300811:+</td><td>chrX</td><td>48786590</td><td>48786591</td><td>+</td><td>GATA1</td><td>ENSG00000102145</td><td>CTCCACCACAGGTGCCTGAA</td><td>GCTCCACCACAGGTGCCTGAA</td><td>targeting</td><td>NA</td></tr>\n",
       "\t<tr><td>chr12</td><td>54300999</td><td>54301002</td><td>GATA1|chr12:54300981-54300999:+</td><td>780</td><td>+</td><td>chr12:54300981-54300999:+</td><td>chrX</td><td>48786590</td><td>48786591</td><td>+</td><td>GATA1</td><td>ENSG00000102145</td><td>TGAGCACAGGAGCCCCAAGC</td><td>GTGAGCACAGGAGCCCCAAGC</td><td>targeting</td><td>NA</td></tr>\n",
       "\t<tr><td>chr12</td><td>54301042</td><td>54301045</td><td>GATA1|chr12:54301024-54301042:+</td><td>327</td><td>+</td><td>chr12:54301024-54301042:+</td><td>chrX</td><td>48786590</td><td>48786591</td><td>+</td><td>GATA1</td><td>ENSG00000102145</td><td>GGACTGAGAACTCAGGCCGA</td><td>GGACTGAGAACTCAGGCCGA </td><td>targeting</td><td>NA</td></tr>\n",
       "\t<tr><td>chr19</td><td>12887111</td><td>12887114</td><td>GATA1|chr19:12887092-12887111:+</td><td>541</td><td>+</td><td>chr19:12887092-12887111:+</td><td>chrX</td><td>48786590</td><td>48786591</td><td>+</td><td>GATA1</td><td>ENSG00000102145</td><td>CATCAGCACACTGACCGCCC</td><td>GCATCAGCACACTGACCGCCC</td><td>targeting</td><td>NA</td></tr>\n",
       "\t<tr><td>chr19</td><td>12887179</td><td>12887182</td><td>GATA1|chr19:12887160-12887179:+</td><td>838</td><td>+</td><td>chr19:12887160-12887179:+</td><td>chrX</td><td>48786590</td><td>48786591</td><td>+</td><td>GATA1</td><td>ENSG00000102145</td><td>AAGAGGAGGCTTGAGGCCCA</td><td>GAAGAGGAGGCTTGAGGCCCA</td><td>targeting</td><td>NA</td></tr>\n",
       "</tbody>\n",
       "</table>\n"
      ],
      "text/latex": [
       "A tibble: 6 × 17\n",
       "\\begin{tabular}{lllllllllllllllll}\n",
       " Chrom & Start & End & Name & SeqCounts & Strand & Guide\\_ID & Chrom\\_TSS & Start\\_TSS & End\\_TSS & Strand\\_Gene & Gene\\_Symbol & Gene\\_ENS & Guide\\_SpacerSeq & Guide\\_Seq & Guide\\_Type & Notes\\\\\n",
       " <chr> & <dbl> & <dbl> & <chr> & <dbl> & <chr> & <chr> & <chr> & <dbl> & <dbl> & <chr> & <chr> & <chr> & <chr> & <chr> & <chr> & <chr>\\\\\n",
       "\\hline\n",
       "\t chr12 & 54300767 & 54300770 & GATA1\\textbar{}chr12:54300749-54300767:+ & 517 & + & chr12:54300749-54300767:+ & chrX & 48786590 & 48786591 & + & GATA1 & ENSG00000102145 & GGATTCCAGTGAGATCCGAG & GGATTCCAGTGAGATCCGAG  & targeting & NA\\\\\n",
       "\t chr12 & 54300811 & 54300814 & GATA1\\textbar{}chr12:54300793-54300811:+ & 376 & + & chr12:54300793-54300811:+ & chrX & 48786590 & 48786591 & + & GATA1 & ENSG00000102145 & CTCCACCACAGGTGCCTGAA & GCTCCACCACAGGTGCCTGAA & targeting & NA\\\\\n",
       "\t chr12 & 54300999 & 54301002 & GATA1\\textbar{}chr12:54300981-54300999:+ & 780 & + & chr12:54300981-54300999:+ & chrX & 48786590 & 48786591 & + & GATA1 & ENSG00000102145 & TGAGCACAGGAGCCCCAAGC & GTGAGCACAGGAGCCCCAAGC & targeting & NA\\\\\n",
       "\t chr12 & 54301042 & 54301045 & GATA1\\textbar{}chr12:54301024-54301042:+ & 327 & + & chr12:54301024-54301042:+ & chrX & 48786590 & 48786591 & + & GATA1 & ENSG00000102145 & GGACTGAGAACTCAGGCCGA & GGACTGAGAACTCAGGCCGA  & targeting & NA\\\\\n",
       "\t chr19 & 12887111 & 12887114 & GATA1\\textbar{}chr19:12887092-12887111:+ & 541 & + & chr19:12887092-12887111:+ & chrX & 48786590 & 48786591 & + & GATA1 & ENSG00000102145 & CATCAGCACACTGACCGCCC & GCATCAGCACACTGACCGCCC & targeting & NA\\\\\n",
       "\t chr19 & 12887179 & 12887182 & GATA1\\textbar{}chr19:12887160-12887179:+ & 838 & + & chr19:12887160-12887179:+ & chrX & 48786590 & 48786591 & + & GATA1 & ENSG00000102145 & AAGAGGAGGCTTGAGGCCCA & GAAGAGGAGGCTTGAGGCCCA & targeting & NA\\\\\n",
       "\\end{tabular}\n"
      ],
      "text/markdown": [
       "\n",
       "A tibble: 6 × 17\n",
       "\n",
       "| Chrom &lt;chr&gt; | Start &lt;dbl&gt; | End &lt;dbl&gt; | Name &lt;chr&gt; | SeqCounts &lt;dbl&gt; | Strand &lt;chr&gt; | Guide_ID &lt;chr&gt; | Chrom_TSS &lt;chr&gt; | Start_TSS &lt;dbl&gt; | End_TSS &lt;dbl&gt; | Strand_Gene &lt;chr&gt; | Gene_Symbol &lt;chr&gt; | Gene_ENS &lt;chr&gt; | Guide_SpacerSeq &lt;chr&gt; | Guide_Seq &lt;chr&gt; | Guide_Type &lt;chr&gt; | Notes &lt;chr&gt; |\n",
       "|---|---|---|---|---|---|---|---|---|---|---|---|---|---|---|---|---|\n",
       "| chr12 | 54300767 | 54300770 | GATA1|chr12:54300749-54300767:+ | 517 | + | chr12:54300749-54300767:+ | chrX | 48786590 | 48786591 | + | GATA1 | ENSG00000102145 | GGATTCCAGTGAGATCCGAG | GGATTCCAGTGAGATCCGAG  | targeting | NA |\n",
       "| chr12 | 54300811 | 54300814 | GATA1|chr12:54300793-54300811:+ | 376 | + | chr12:54300793-54300811:+ | chrX | 48786590 | 48786591 | + | GATA1 | ENSG00000102145 | CTCCACCACAGGTGCCTGAA | GCTCCACCACAGGTGCCTGAA | targeting | NA |\n",
       "| chr12 | 54300999 | 54301002 | GATA1|chr12:54300981-54300999:+ | 780 | + | chr12:54300981-54300999:+ | chrX | 48786590 | 48786591 | + | GATA1 | ENSG00000102145 | TGAGCACAGGAGCCCCAAGC | GTGAGCACAGGAGCCCCAAGC | targeting | NA |\n",
       "| chr12 | 54301042 | 54301045 | GATA1|chr12:54301024-54301042:+ | 327 | + | chr12:54301024-54301042:+ | chrX | 48786590 | 48786591 | + | GATA1 | ENSG00000102145 | GGACTGAGAACTCAGGCCGA | GGACTGAGAACTCAGGCCGA  | targeting | NA |\n",
       "| chr19 | 12887111 | 12887114 | GATA1|chr19:12887092-12887111:+ | 541 | + | chr19:12887092-12887111:+ | chrX | 48786590 | 48786591 | + | GATA1 | ENSG00000102145 | CATCAGCACACTGACCGCCC | GCATCAGCACACTGACCGCCC | targeting | NA |\n",
       "| chr19 | 12887179 | 12887182 | GATA1|chr19:12887160-12887179:+ | 838 | + | chr19:12887160-12887179:+ | chrX | 48786590 | 48786591 | + | GATA1 | ENSG00000102145 | AAGAGGAGGCTTGAGGCCCA | GAAGAGGAGGCTTGAGGCCCA | targeting | NA |\n",
       "\n"
      ],
      "text/plain": [
       "  Chrom Start    End      Name                            SeqCounts Strand\n",
       "1 chr12 54300767 54300770 GATA1|chr12:54300749-54300767:+ 517       +     \n",
       "2 chr12 54300811 54300814 GATA1|chr12:54300793-54300811:+ 376       +     \n",
       "3 chr12 54300999 54301002 GATA1|chr12:54300981-54300999:+ 780       +     \n",
       "4 chr12 54301042 54301045 GATA1|chr12:54301024-54301042:+ 327       +     \n",
       "5 chr19 12887111 12887114 GATA1|chr19:12887092-12887111:+ 541       +     \n",
       "6 chr19 12887179 12887182 GATA1|chr19:12887160-12887179:+ 838       +     \n",
       "  Guide_ID                  Chrom_TSS Start_TSS End_TSS  Strand_Gene\n",
       "1 chr12:54300749-54300767:+ chrX      48786590  48786591 +          \n",
       "2 chr12:54300793-54300811:+ chrX      48786590  48786591 +          \n",
       "3 chr12:54300981-54300999:+ chrX      48786590  48786591 +          \n",
       "4 chr12:54301024-54301042:+ chrX      48786590  48786591 +          \n",
       "5 chr19:12887092-12887111:+ chrX      48786590  48786591 +          \n",
       "6 chr19:12887160-12887179:+ chrX      48786590  48786591 +          \n",
       "  Gene_Symbol Gene_ENS        Guide_SpacerSeq      Guide_Seq            \n",
       "1 GATA1       ENSG00000102145 GGATTCCAGTGAGATCCGAG GGATTCCAGTGAGATCCGAG \n",
       "2 GATA1       ENSG00000102145 CTCCACCACAGGTGCCTGAA GCTCCACCACAGGTGCCTGAA\n",
       "3 GATA1       ENSG00000102145 TGAGCACAGGAGCCCCAAGC GTGAGCACAGGAGCCCCAAGC\n",
       "4 GATA1       ENSG00000102145 GGACTGAGAACTCAGGCCGA GGACTGAGAACTCAGGCCGA \n",
       "5 GATA1       ENSG00000102145 CATCAGCACACTGACCGCCC GCATCAGCACACTGACCGCCC\n",
       "6 GATA1       ENSG00000102145 AAGAGGAGGCTTGAGGCCCA GAAGAGGAGGCTTGAGGCCCA\n",
       "  Guide_Type Notes\n",
       "1 targeting  NA   \n",
       "2 targeting  NA   \n",
       "3 targeting  NA   \n",
       "4 targeting  NA   \n",
       "5 targeting  NA   \n",
       "6 targeting  NA   "
      ]
     },
     "metadata": {},
     "output_type": "display_data"
    }
   ],
   "source": [
    "dat = dat_crispr_info_r1\n",
    "#dat = dat %>% dplyr::filter(Strand == \"+\")\n",
    "dat = head(dat)\n",
    "dat"
   ]
  },
  {
   "cell_type": "code",
   "execution_count": 26,
   "metadata": {},
   "outputs": [
    {
     "data": {
      "text/html": [
       "<table class=\"dataframe\">\n",
       "<caption>A tibble: 6 × 17</caption>\n",
       "<thead>\n",
       "\t<tr><th scope=col>Chrom</th><th scope=col>Start</th><th scope=col>End</th><th scope=col>Name</th><th scope=col>SeqCounts</th><th scope=col>Strand</th><th scope=col>Guide_ID</th><th scope=col>Chrom_TSS</th><th scope=col>Start_TSS</th><th scope=col>End_TSS</th><th scope=col>Strand_Gene</th><th scope=col>Gene_Symbol</th><th scope=col>Gene_ENS</th><th scope=col>Guide_SpacerSeq</th><th scope=col>Guide_Seq</th><th scope=col>Guide_Type</th><th scope=col>Notes</th></tr>\n",
       "\t<tr><th scope=col>&lt;chr&gt;</th><th scope=col>&lt;dbl&gt;</th><th scope=col>&lt;dbl&gt;</th><th scope=col>&lt;chr&gt;</th><th scope=col>&lt;dbl&gt;</th><th scope=col>&lt;chr&gt;</th><th scope=col>&lt;chr&gt;</th><th scope=col>&lt;chr&gt;</th><th scope=col>&lt;dbl&gt;</th><th scope=col>&lt;dbl&gt;</th><th scope=col>&lt;chr&gt;</th><th scope=col>&lt;chr&gt;</th><th scope=col>&lt;chr&gt;</th><th scope=col>&lt;chr&gt;</th><th scope=col>&lt;chr&gt;</th><th scope=col>&lt;chr&gt;</th><th scope=col>&lt;chr&gt;</th></tr>\n",
       "</thead>\n",
       "<tbody>\n",
       "\t<tr><td>chrX</td><td>48397929</td><td>48397932</td><td>GATA1|chrX:48397933-48397952:-</td><td> 592</td><td>-</td><td>chrX:48397933-48397952:-</td><td>chrX</td><td>48786590</td><td>48786591</td><td>+</td><td>GATA1</td><td>ENSG00000102145</td><td>CCAAAGTGGTACCAGAGGCC</td><td>GCCAAAGTGGTACCAGAGGCC</td><td>targeting</td><td>NA</td></tr>\n",
       "\t<tr><td>chrX</td><td>48397934</td><td>48397937</td><td>GATA1|chrX:48397938-48397957:-</td><td>1030</td><td>-</td><td>chrX:48397938-48397957:-</td><td>chrX</td><td>48786590</td><td>48786591</td><td>+</td><td>GATA1</td><td>ENSG00000102145</td><td>CAATCCCAAAGTGGTACCAG</td><td>GCAATCCCAAAGTGGTACCAG</td><td>targeting</td><td>NA</td></tr>\n",
       "\t<tr><td>chrX</td><td>48397943</td><td>48397946</td><td>GATA1|chrX:48397947-48397966:-</td><td> 204</td><td>-</td><td>chrX:48397947-48397966:-</td><td>chrX</td><td>48786590</td><td>48786591</td><td>+</td><td>GATA1</td><td>ENSG00000102145</td><td>TGTTTCATACAATCCCAAAG</td><td>GTGTTTCATACAATCCCAAAG</td><td>targeting</td><td>NA</td></tr>\n",
       "\t<tr><td>chrX</td><td>48397995</td><td>48397998</td><td>GATA1|chrX:48397999-48398018:-</td><td> 413</td><td>-</td><td>chrX:48397999-48398018:-</td><td>chrX</td><td>48786590</td><td>48786591</td><td>+</td><td>GATA1</td><td>ENSG00000102145</td><td>CTGCCCCTTTGACAGCTGTC</td><td>GCTGCCCCTTTGACAGCTGTC</td><td>targeting</td><td>NA</td></tr>\n",
       "\t<tr><td>chrX</td><td>48398086</td><td>48398089</td><td>GATA1|chrX:48398090-48398109:-</td><td> 491</td><td>-</td><td>chrX:48398090-48398109:-</td><td>chrX</td><td>48786590</td><td>48786591</td><td>+</td><td>GATA1</td><td>ENSG00000102145</td><td>ATGTAACTGACTCTCACTCC</td><td>GATGTAACTGACTCTCACTCC</td><td>targeting</td><td>NA</td></tr>\n",
       "\t<tr><td>chrX</td><td>48398171</td><td>48398174</td><td>GATA1|chrX:48398175-48398194:-</td><td> 648</td><td>-</td><td>chrX:48398175-48398194:-</td><td>chrX</td><td>48786590</td><td>48786591</td><td>+</td><td>GATA1</td><td>ENSG00000102145</td><td>GGGCCATACAGGAAACATCT</td><td>GGGCCATACAGGAAACATCT </td><td>targeting</td><td>NA</td></tr>\n",
       "</tbody>\n",
       "</table>\n"
      ],
      "text/latex": [
       "A tibble: 6 × 17\n",
       "\\begin{tabular}{lllllllllllllllll}\n",
       " Chrom & Start & End & Name & SeqCounts & Strand & Guide\\_ID & Chrom\\_TSS & Start\\_TSS & End\\_TSS & Strand\\_Gene & Gene\\_Symbol & Gene\\_ENS & Guide\\_SpacerSeq & Guide\\_Seq & Guide\\_Type & Notes\\\\\n",
       " <chr> & <dbl> & <dbl> & <chr> & <dbl> & <chr> & <chr> & <chr> & <dbl> & <dbl> & <chr> & <chr> & <chr> & <chr> & <chr> & <chr> & <chr>\\\\\n",
       "\\hline\n",
       "\t chrX & 48397929 & 48397932 & GATA1\\textbar{}chrX:48397933-48397952:- &  592 & - & chrX:48397933-48397952:- & chrX & 48786590 & 48786591 & + & GATA1 & ENSG00000102145 & CCAAAGTGGTACCAGAGGCC & GCCAAAGTGGTACCAGAGGCC & targeting & NA\\\\\n",
       "\t chrX & 48397934 & 48397937 & GATA1\\textbar{}chrX:48397938-48397957:- & 1030 & - & chrX:48397938-48397957:- & chrX & 48786590 & 48786591 & + & GATA1 & ENSG00000102145 & CAATCCCAAAGTGGTACCAG & GCAATCCCAAAGTGGTACCAG & targeting & NA\\\\\n",
       "\t chrX & 48397943 & 48397946 & GATA1\\textbar{}chrX:48397947-48397966:- &  204 & - & chrX:48397947-48397966:- & chrX & 48786590 & 48786591 & + & GATA1 & ENSG00000102145 & TGTTTCATACAATCCCAAAG & GTGTTTCATACAATCCCAAAG & targeting & NA\\\\\n",
       "\t chrX & 48397995 & 48397998 & GATA1\\textbar{}chrX:48397999-48398018:- &  413 & - & chrX:48397999-48398018:- & chrX & 48786590 & 48786591 & + & GATA1 & ENSG00000102145 & CTGCCCCTTTGACAGCTGTC & GCTGCCCCTTTGACAGCTGTC & targeting & NA\\\\\n",
       "\t chrX & 48398086 & 48398089 & GATA1\\textbar{}chrX:48398090-48398109:- &  491 & - & chrX:48398090-48398109:- & chrX & 48786590 & 48786591 & + & GATA1 & ENSG00000102145 & ATGTAACTGACTCTCACTCC & GATGTAACTGACTCTCACTCC & targeting & NA\\\\\n",
       "\t chrX & 48398171 & 48398174 & GATA1\\textbar{}chrX:48398175-48398194:- &  648 & - & chrX:48398175-48398194:- & chrX & 48786590 & 48786591 & + & GATA1 & ENSG00000102145 & GGGCCATACAGGAAACATCT & GGGCCATACAGGAAACATCT  & targeting & NA\\\\\n",
       "\\end{tabular}\n"
      ],
      "text/markdown": [
       "\n",
       "A tibble: 6 × 17\n",
       "\n",
       "| Chrom &lt;chr&gt; | Start &lt;dbl&gt; | End &lt;dbl&gt; | Name &lt;chr&gt; | SeqCounts &lt;dbl&gt; | Strand &lt;chr&gt; | Guide_ID &lt;chr&gt; | Chrom_TSS &lt;chr&gt; | Start_TSS &lt;dbl&gt; | End_TSS &lt;dbl&gt; | Strand_Gene &lt;chr&gt; | Gene_Symbol &lt;chr&gt; | Gene_ENS &lt;chr&gt; | Guide_SpacerSeq &lt;chr&gt; | Guide_Seq &lt;chr&gt; | Guide_Type &lt;chr&gt; | Notes &lt;chr&gt; |\n",
       "|---|---|---|---|---|---|---|---|---|---|---|---|---|---|---|---|---|\n",
       "| chrX | 48397929 | 48397932 | GATA1|chrX:48397933-48397952:- |  592 | - | chrX:48397933-48397952:- | chrX | 48786590 | 48786591 | + | GATA1 | ENSG00000102145 | CCAAAGTGGTACCAGAGGCC | GCCAAAGTGGTACCAGAGGCC | targeting | NA |\n",
       "| chrX | 48397934 | 48397937 | GATA1|chrX:48397938-48397957:- | 1030 | - | chrX:48397938-48397957:- | chrX | 48786590 | 48786591 | + | GATA1 | ENSG00000102145 | CAATCCCAAAGTGGTACCAG | GCAATCCCAAAGTGGTACCAG | targeting | NA |\n",
       "| chrX | 48397943 | 48397946 | GATA1|chrX:48397947-48397966:- |  204 | - | chrX:48397947-48397966:- | chrX | 48786590 | 48786591 | + | GATA1 | ENSG00000102145 | TGTTTCATACAATCCCAAAG | GTGTTTCATACAATCCCAAAG | targeting | NA |\n",
       "| chrX | 48397995 | 48397998 | GATA1|chrX:48397999-48398018:- |  413 | - | chrX:48397999-48398018:- | chrX | 48786590 | 48786591 | + | GATA1 | ENSG00000102145 | CTGCCCCTTTGACAGCTGTC | GCTGCCCCTTTGACAGCTGTC | targeting | NA |\n",
       "| chrX | 48398086 | 48398089 | GATA1|chrX:48398090-48398109:- |  491 | - | chrX:48398090-48398109:- | chrX | 48786590 | 48786591 | + | GATA1 | ENSG00000102145 | ATGTAACTGACTCTCACTCC | GATGTAACTGACTCTCACTCC | targeting | NA |\n",
       "| chrX | 48398171 | 48398174 | GATA1|chrX:48398175-48398194:- |  648 | - | chrX:48398175-48398194:- | chrX | 48786590 | 48786591 | + | GATA1 | ENSG00000102145 | GGGCCATACAGGAAACATCT | GGGCCATACAGGAAACATCT  | targeting | NA |\n",
       "\n"
      ],
      "text/plain": [
       "  Chrom Start    End      Name                           SeqCounts Strand\n",
       "1 chrX  48397929 48397932 GATA1|chrX:48397933-48397952:-  592      -     \n",
       "2 chrX  48397934 48397937 GATA1|chrX:48397938-48397957:- 1030      -     \n",
       "3 chrX  48397943 48397946 GATA1|chrX:48397947-48397966:-  204      -     \n",
       "4 chrX  48397995 48397998 GATA1|chrX:48397999-48398018:-  413      -     \n",
       "5 chrX  48398086 48398089 GATA1|chrX:48398090-48398109:-  491      -     \n",
       "6 chrX  48398171 48398174 GATA1|chrX:48398175-48398194:-  648      -     \n",
       "  Guide_ID                 Chrom_TSS Start_TSS End_TSS  Strand_Gene Gene_Symbol\n",
       "1 chrX:48397933-48397952:- chrX      48786590  48786591 +           GATA1      \n",
       "2 chrX:48397938-48397957:- chrX      48786590  48786591 +           GATA1      \n",
       "3 chrX:48397947-48397966:- chrX      48786590  48786591 +           GATA1      \n",
       "4 chrX:48397999-48398018:- chrX      48786590  48786591 +           GATA1      \n",
       "5 chrX:48398090-48398109:- chrX      48786590  48786591 +           GATA1      \n",
       "6 chrX:48398175-48398194:- chrX      48786590  48786591 +           GATA1      \n",
       "  Gene_ENS        Guide_SpacerSeq      Guide_Seq             Guide_Type Notes\n",
       "1 ENSG00000102145 CCAAAGTGGTACCAGAGGCC GCCAAAGTGGTACCAGAGGCC targeting  NA   \n",
       "2 ENSG00000102145 CAATCCCAAAGTGGTACCAG GCAATCCCAAAGTGGTACCAG targeting  NA   \n",
       "3 ENSG00000102145 TGTTTCATACAATCCCAAAG GTGTTTCATACAATCCCAAAG targeting  NA   \n",
       "4 ENSG00000102145 CTGCCCCTTTGACAGCTGTC GCTGCCCCTTTGACAGCTGTC targeting  NA   \n",
       "5 ENSG00000102145 ATGTAACTGACTCTCACTCC GATGTAACTGACTCTCACTCC targeting  NA   \n",
       "6 ENSG00000102145 GGGCCATACAGGAAACATCT GGGCCATACAGGAAACATCT  targeting  NA   "
      ]
     },
     "metadata": {},
     "output_type": "display_data"
    }
   ],
   "source": [
    "dat = dat_crispr_info_r1\n",
    "dat = dat %>% dplyr::filter(Strand == \"-\")\n",
    "dat = head(dat)\n",
    "dat"
   ]
  },
  {
   "cell_type": "code",
   "execution_count": 27,
   "metadata": {},
   "outputs": [
    {
     "data": {
      "text/html": [
       "<table class=\"dataframe\">\n",
       "<caption>A tibble: 6 × 4</caption>\n",
       "<thead>\n",
       "\t<tr><th scope=col>Chrom</th><th scope=col>Start</th><th scope=col>End</th><th scope=col>Score</th></tr>\n",
       "\t<tr><th scope=col>&lt;chr&gt;</th><th scope=col>&lt;int&gt;</th><th scope=col>&lt;int&gt;</th><th scope=col>&lt;dbl&gt;</th></tr>\n",
       "</thead>\n",
       "<tbody>\n",
       "\t<tr><td>chr12</td><td>54300767</td><td>54300767</td><td>-0.6175662</td></tr>\n",
       "\t<tr><td>chr12</td><td>54300811</td><td>54300811</td><td> 0.8494210</td></tr>\n",
       "\t<tr><td>chr12</td><td>54300999</td><td>54300999</td><td>-0.3535536</td></tr>\n",
       "\t<tr><td>chr12</td><td>54301042</td><td>54301042</td><td>-1.2634945</td></tr>\n",
       "\t<tr><td>chr19</td><td>12887111</td><td>12887111</td><td> 0.4573210</td></tr>\n",
       "\t<tr><td>chr19</td><td>12887179</td><td>12887179</td><td>-0.1476385</td></tr>\n",
       "</tbody>\n",
       "</table>\n"
      ],
      "text/latex": [
       "A tibble: 6 × 4\n",
       "\\begin{tabular}{llll}\n",
       " Chrom & Start & End & Score\\\\\n",
       " <chr> & <int> & <int> & <dbl>\\\\\n",
       "\\hline\n",
       "\t chr12 & 54300767 & 54300767 & -0.6175662\\\\\n",
       "\t chr12 & 54300811 & 54300811 &  0.8494210\\\\\n",
       "\t chr12 & 54300999 & 54300999 & -0.3535536\\\\\n",
       "\t chr12 & 54301042 & 54301042 & -1.2634945\\\\\n",
       "\t chr19 & 12887111 & 12887111 &  0.4573210\\\\\n",
       "\t chr19 & 12887179 & 12887179 & -0.1476385\\\\\n",
       "\\end{tabular}\n"
      ],
      "text/markdown": [
       "\n",
       "A tibble: 6 × 4\n",
       "\n",
       "| Chrom &lt;chr&gt; | Start &lt;int&gt; | End &lt;int&gt; | Score &lt;dbl&gt; |\n",
       "|---|---|---|---|\n",
       "| chr12 | 54300767 | 54300767 | -0.6175662 |\n",
       "| chr12 | 54300811 | 54300811 |  0.8494210 |\n",
       "| chr12 | 54300999 | 54300999 | -0.3535536 |\n",
       "| chr12 | 54301042 | 54301042 | -1.2634945 |\n",
       "| chr19 | 12887111 | 12887111 |  0.4573210 |\n",
       "| chr19 | 12887179 | 12887179 | -0.1476385 |\n",
       "\n"
      ],
      "text/plain": [
       "  Chrom Start    End      Score     \n",
       "1 chr12 54300767 54300767 -0.6175662\n",
       "2 chr12 54300811 54300811  0.8494210\n",
       "3 chr12 54300999 54300999 -0.3535536\n",
       "4 chr12 54301042 54301042 -1.2634945\n",
       "5 chr19 12887111 12887111  0.4573210\n",
       "6 chr19 12887179 12887179 -0.1476385"
      ]
     },
     "metadata": {},
     "output_type": "display_data"
    }
   ],
   "source": [
    "dat = dat_crispr_log2fc_r1\n",
    "head(dat)"
   ]
  },
  {
   "cell_type": "code",
   "execution_count": null,
   "metadata": {},
   "outputs": [],
   "source": [
    "dat = dat_crispr_info_r1"
   ]
  },
  {
   "cell_type": "code",
   "execution_count": 36,
   "metadata": {},
   "outputs": [
    {
     "data": {
      "text/html": [
       "<table class=\"dataframe\">\n",
       "<caption>A tibble: 5 × 4</caption>\n",
       "<thead>\n",
       "\t<tr><th scope=col>Guide_Type</th><th scope=col>Chrom</th><th scope=col>Start</th><th scope=col>End</th></tr>\n",
       "\t<tr><th scope=col>&lt;chr&gt;</th><th scope=col>&lt;chr&gt;</th><th scope=col>&lt;dbl&gt;</th><th scope=col>&lt;dbl&gt;</th></tr>\n",
       "</thead>\n",
       "<tbody>\n",
       "\t<tr><td>negative_control</td><td>NA   </td><td>       NA</td><td>       NA</td></tr>\n",
       "\t<tr><td>targeting       </td><td>chr12</td><td> 54300767</td><td> 54301045</td></tr>\n",
       "\t<tr><td>targeting       </td><td>chr19</td><td> 12887111</td><td> 12887240</td></tr>\n",
       "\t<tr><td>targeting       </td><td>chr3 </td><td>128487572</td><td>128487940</td></tr>\n",
       "\t<tr><td>targeting       </td><td>chrX </td><td> 48397929</td><td> 49656991</td></tr>\n",
       "</tbody>\n",
       "</table>\n"
      ],
      "text/latex": [
       "A tibble: 5 × 4\n",
       "\\begin{tabular}{llll}\n",
       " Guide\\_Type & Chrom & Start & End\\\\\n",
       " <chr> & <chr> & <dbl> & <dbl>\\\\\n",
       "\\hline\n",
       "\t negative\\_control & NA    &        NA &        NA\\\\\n",
       "\t targeting        & chr12 &  54300767 &  54301045\\\\\n",
       "\t targeting        & chr19 &  12887111 &  12887240\\\\\n",
       "\t targeting        & chr3  & 128487572 & 128487940\\\\\n",
       "\t targeting        & chrX  &  48397929 &  49656991\\\\\n",
       "\\end{tabular}\n"
      ],
      "text/markdown": [
       "\n",
       "A tibble: 5 × 4\n",
       "\n",
       "| Guide_Type &lt;chr&gt; | Chrom &lt;chr&gt; | Start &lt;dbl&gt; | End &lt;dbl&gt; |\n",
       "|---|---|---|---|\n",
       "| negative_control | NA    |        NA |        NA |\n",
       "| targeting        | chr12 |  54300767 |  54301045 |\n",
       "| targeting        | chr19 |  12887111 |  12887240 |\n",
       "| targeting        | chr3  | 128487572 | 128487940 |\n",
       "| targeting        | chrX  |  48397929 |  49656991 |\n",
       "\n"
      ],
      "text/plain": [
       "  Guide_Type       Chrom Start     End      \n",
       "1 negative_control NA           NA        NA\n",
       "2 targeting        chr12  54300767  54301045\n",
       "3 targeting        chr19  12887111  12887240\n",
       "4 targeting        chr3  128487572 128487940\n",
       "5 targeting        chrX   48397929  49656991"
      ]
     },
     "metadata": {},
     "output_type": "display_data"
    }
   ],
   "source": [
    "dat = dat_crispr_info_r1\n",
    "dat %>% \n",
    "    dplyr::group_by(Guide_Type, Chrom) %>% \n",
    "    dplyr::summarise(\n",
    "        Start   = min(Start),\n",
    "        End     = max(End),\n",
    "        .groups = \"drop\"\n",
    "    )"
   ]
  },
  {
   "cell_type": "code",
   "execution_count": null,
   "metadata": {},
   "outputs": [],
   "source": []
  }
 ],
 "metadata": {
  "kernelspec": {
   "display_name": "R (alex_py3)",
   "language": "R",
   "name": "ir_alex_py3"
  },
  "language_info": {
   "codemirror_mode": "r",
   "file_extension": ".r",
   "mimetype": "text/x-r-source",
   "name": "R",
   "pygments_lexer": "r",
   "version": "3.6.2"
  }
 },
 "nbformat": 4,
 "nbformat_minor": 4
}
