{
 "cells": [
  {
   "cell_type": "code",
   "execution_count": 1,
   "metadata": {},
   "outputs": [
    {
     "name": "stdout",
     "output_type": "stream",
     "text": [
      "You are in Singularity: singularity_proj_combeffect \n",
      "BASE DIRECTORY:     /data/reddylab/Kuei \n",
      "WORK DIRECTORY:     /data/reddylab/Kuei/out \n",
      "CODE DIRECTORY:     /data/reddylab/Kuei/code \n",
      "PATH OF SOURCE:     /data/reddylab/Kuei/source \n",
      "PATH OF EXECUTABLE: /data/reddylab/Kuei/bin \n",
      "PATH OF ANNOTATION: /data/reddylab/Kuei/annotation \n",
      "PATH OF PROJECT:    /data/reddylab/Kuei/code/Proj_CombEffect_ENCODE_FCC \n",
      "PATH OF RESULTS:    /data/reddylab/Kuei/out/proj_combeffect_encode_fcc \n"
     ]
    }
   ],
   "source": [
    "suppressMessages(suppressWarnings(source(\"../config/config_sing.R\")))\n",
    "show_env()"
   ]
  },
  {
   "cell_type": "code",
   "execution_count": 2,
   "metadata": {},
   "outputs": [
    {
     "name": "stderr",
     "output_type": "stream",
     "text": [
      "\u001b[1mRows: \u001b[22m\u001b[34m57010\u001b[39m \u001b[1mColumns: \u001b[22m\u001b[34m12\u001b[39m\n",
      "\u001b[36m──\u001b[39m \u001b[1mColumn specification\u001b[22m \u001b[36m───────────────────────────────────────────────────────────\u001b[39m\n",
      "\u001b[1mDelimiter:\u001b[22m \"\\t\"\n",
      "\u001b[31mchr\u001b[39m (8): ID, SNP, ref_allele, alt_allele, allele, window, strand, project\n",
      "\u001b[32mdbl\u001b[39m (4): chr, snp_pos, start, stop\n",
      "\n",
      "\u001b[36mℹ\u001b[39m Use `spec()` to retrieve the full column specification for this data.\n",
      "\u001b[36mℹ\u001b[39m Specify the column types or set `show_col_types = FALSE` to quiet this message.\n"
     ]
    },
    {
     "name": "stdout",
     "output_type": "stream",
     "text": [
      "[1] 57010    12\n"
     ]
    },
    {
     "data": {
      "text/html": [
       "<table class=\"dataframe\">\n",
       "<caption>A tibble: 6 × 12</caption>\n",
       "<thead>\n",
       "\t<tr><th scope=col>ID</th><th scope=col>SNP</th><th scope=col>chr</th><th scope=col>snp_pos</th><th scope=col>ref_allele</th><th scope=col>alt_allele</th><th scope=col>allele</th><th scope=col>window</th><th scope=col>strand</th><th scope=col>start</th><th scope=col>stop</th><th scope=col>project</th></tr>\n",
       "\t<tr><th scope=col>&lt;chr&gt;</th><th scope=col>&lt;chr&gt;</th><th scope=col>&lt;dbl&gt;</th><th scope=col>&lt;dbl&gt;</th><th scope=col>&lt;chr&gt;</th><th scope=col>&lt;chr&gt;</th><th scope=col>&lt;chr&gt;</th><th scope=col>&lt;chr&gt;</th><th scope=col>&lt;chr&gt;</th><th scope=col>&lt;dbl&gt;</th><th scope=col>&lt;dbl&gt;</th><th scope=col>&lt;chr&gt;</th></tr>\n",
       "</thead>\n",
       "<tbody>\n",
       "\t<tr><td>11:61554801-61555000_RC</td><td>NA</td><td>11</td><td>NA</td><td>NA</td><td>NA</td><td>NA</td><td>NA</td><td>rev</td><td>61554801</td><td>61555000</td><td>Tiles</td></tr>\n",
       "\t<tr><td>11:61554806-61555005_RC</td><td>NA</td><td>11</td><td>NA</td><td>NA</td><td>NA</td><td>NA</td><td>NA</td><td>rev</td><td>61554806</td><td>61555005</td><td>Tiles</td></tr>\n",
       "\t<tr><td>11:61554811-61555010_RC</td><td>NA</td><td>11</td><td>NA</td><td>NA</td><td>NA</td><td>NA</td><td>NA</td><td>rev</td><td>61554811</td><td>61555010</td><td>Tiles</td></tr>\n",
       "\t<tr><td>11:61554816-61555015_RC</td><td>NA</td><td>11</td><td>NA</td><td>NA</td><td>NA</td><td>NA</td><td>NA</td><td>rev</td><td>61554816</td><td>61555015</td><td>Tiles</td></tr>\n",
       "\t<tr><td>11:61554821-61555020_RC</td><td>NA</td><td>11</td><td>NA</td><td>NA</td><td>NA</td><td>NA</td><td>NA</td><td>rev</td><td>61554821</td><td>61555020</td><td>Tiles</td></tr>\n",
       "\t<tr><td>11:61554826-61555025_RC</td><td>NA</td><td>11</td><td>NA</td><td>NA</td><td>NA</td><td>NA</td><td>NA</td><td>rev</td><td>61554826</td><td>61555025</td><td>Tiles</td></tr>\n",
       "</tbody>\n",
       "</table>\n"
      ],
      "text/latex": [
       "A tibble: 6 × 12\n",
       "\\begin{tabular}{llllllllllll}\n",
       " ID & SNP & chr & snp\\_pos & ref\\_allele & alt\\_allele & allele & window & strand & start & stop & project\\\\\n",
       " <chr> & <chr> & <dbl> & <dbl> & <chr> & <chr> & <chr> & <chr> & <chr> & <dbl> & <dbl> & <chr>\\\\\n",
       "\\hline\n",
       "\t 11:61554801-61555000\\_RC & NA & 11 & NA & NA & NA & NA & NA & rev & 61554801 & 61555000 & Tiles\\\\\n",
       "\t 11:61554806-61555005\\_RC & NA & 11 & NA & NA & NA & NA & NA & rev & 61554806 & 61555005 & Tiles\\\\\n",
       "\t 11:61554811-61555010\\_RC & NA & 11 & NA & NA & NA & NA & NA & rev & 61554811 & 61555010 & Tiles\\\\\n",
       "\t 11:61554816-61555015\\_RC & NA & 11 & NA & NA & NA & NA & NA & rev & 61554816 & 61555015 & Tiles\\\\\n",
       "\t 11:61554821-61555020\\_RC & NA & 11 & NA & NA & NA & NA & NA & rev & 61554821 & 61555020 & Tiles\\\\\n",
       "\t 11:61554826-61555025\\_RC & NA & 11 & NA & NA & NA & NA & NA & rev & 61554826 & 61555025 & Tiles\\\\\n",
       "\\end{tabular}\n"
      ],
      "text/markdown": [
       "\n",
       "A tibble: 6 × 12\n",
       "\n",
       "| ID &lt;chr&gt; | SNP &lt;chr&gt; | chr &lt;dbl&gt; | snp_pos &lt;dbl&gt; | ref_allele &lt;chr&gt; | alt_allele &lt;chr&gt; | allele &lt;chr&gt; | window &lt;chr&gt; | strand &lt;chr&gt; | start &lt;dbl&gt; | stop &lt;dbl&gt; | project &lt;chr&gt; |\n",
       "|---|---|---|---|---|---|---|---|---|---|---|---|\n",
       "| 11:61554801-61555000_RC | NA | 11 | NA | NA | NA | NA | NA | rev | 61554801 | 61555000 | Tiles |\n",
       "| 11:61554806-61555005_RC | NA | 11 | NA | NA | NA | NA | NA | rev | 61554806 | 61555005 | Tiles |\n",
       "| 11:61554811-61555010_RC | NA | 11 | NA | NA | NA | NA | NA | rev | 61554811 | 61555010 | Tiles |\n",
       "| 11:61554816-61555015_RC | NA | 11 | NA | NA | NA | NA | NA | rev | 61554816 | 61555015 | Tiles |\n",
       "| 11:61554821-61555020_RC | NA | 11 | NA | NA | NA | NA | NA | rev | 61554821 | 61555020 | Tiles |\n",
       "| 11:61554826-61555025_RC | NA | 11 | NA | NA | NA | NA | NA | rev | 61554826 | 61555025 | Tiles |\n",
       "\n"
      ],
      "text/plain": [
       "  ID                      SNP chr snp_pos ref_allele alt_allele allele window\n",
       "1 11:61554801-61555000_RC NA  11  NA      NA         NA         NA     NA    \n",
       "2 11:61554806-61555005_RC NA  11  NA      NA         NA         NA     NA    \n",
       "3 11:61554811-61555010_RC NA  11  NA      NA         NA         NA     NA    \n",
       "4 11:61554816-61555015_RC NA  11  NA      NA         NA         NA     NA    \n",
       "5 11:61554821-61555020_RC NA  11  NA      NA         NA         NA     NA    \n",
       "6 11:61554826-61555025_RC NA  11  NA      NA         NA         NA     NA    \n",
       "  strand start    stop     project\n",
       "1 rev    61554801 61555000 Tiles  \n",
       "2 rev    61554806 61555005 Tiles  \n",
       "3 rev    61554811 61555010 Tiles  \n",
       "4 rev    61554816 61555015 Tiles  \n",
       "5 rev    61554821 61555020 Tiles  \n",
       "6 rev    61554826 61555025 Tiles  "
      ]
     },
     "metadata": {},
     "output_type": "display_data"
    }
   ],
   "source": [
    "### set file directory\n",
    "fdiry = file.path(FD_RES, \"source\", \"MPRA\", \"Tewhey_TMPRA\", \"tiling_counts\")\n",
    "fname = \"FADS_tile_snp.20190214.attributes\"\n",
    "fpath = file.path(fdiry, fname)\n",
    "\n",
    "### import data\n",
    "dat = read_tsv(fpath)\n",
    "\n",
    "### show info\n",
    "dat_OL13_attributes = dat\n",
    "print(dim(dat))\n",
    "head(dat)"
   ]
  },
  {
   "cell_type": "code",
   "execution_count": 7,
   "metadata": {},
   "outputs": [
    {
     "name": "stdout",
     "output_type": "stream",
     "text": [
      "[1] 198   3\n"
     ]
    },
    {
     "data": {
      "text/html": [
       "<table class=\"dataframe\">\n",
       "<caption>A tibble: 10 × 3</caption>\n",
       "<thead>\n",
       "\t<tr><th scope=col>Dataset</th><th scope=col>Project</th><th scope=col>RSID</th></tr>\n",
       "\t<tr><th scope=col>&lt;chr&gt;</th><th scope=col>&lt;chr&gt;</th><th scope=col>&lt;chr&gt;</th></tr>\n",
       "</thead>\n",
       "<tbody>\n",
       "\t<tr><td>OL13</td><td>negCtrl  </td><td>rs10035423</td></tr>\n",
       "\t<tr><td>OL13</td><td>emVarCtrl</td><td>rs1008917 </td></tr>\n",
       "\t<tr><td>OL13</td><td>negCtrl  </td><td>rs10146602</td></tr>\n",
       "\t<tr><td>OL13</td><td>expCtrl  </td><td>rs10146759</td></tr>\n",
       "\t<tr><td>OL13</td><td>emVarCtrl</td><td>rs1016110 </td></tr>\n",
       "\t<tr><td>OL13</td><td>negCtrl  </td><td>rs10201513</td></tr>\n",
       "\t<tr><td>OL13</td><td>negCtrl  </td><td>rs10247186</td></tr>\n",
       "\t<tr><td>OL13</td><td>negCtrl  </td><td>rs10269336</td></tr>\n",
       "\t<tr><td>OL13</td><td>emVarCtrl</td><td>rs10409085</td></tr>\n",
       "\t<tr><td>OL13</td><td>negCtrl  </td><td>rs10490679</td></tr>\n",
       "</tbody>\n",
       "</table>\n"
      ],
      "text/latex": [
       "A tibble: 10 × 3\n",
       "\\begin{tabular}{lll}\n",
       " Dataset & Project & RSID\\\\\n",
       " <chr> & <chr> & <chr>\\\\\n",
       "\\hline\n",
       "\t OL13 & negCtrl   & rs10035423\\\\\n",
       "\t OL13 & emVarCtrl & rs1008917 \\\\\n",
       "\t OL13 & negCtrl   & rs10146602\\\\\n",
       "\t OL13 & expCtrl   & rs10146759\\\\\n",
       "\t OL13 & emVarCtrl & rs1016110 \\\\\n",
       "\t OL13 & negCtrl   & rs10201513\\\\\n",
       "\t OL13 & negCtrl   & rs10247186\\\\\n",
       "\t OL13 & negCtrl   & rs10269336\\\\\n",
       "\t OL13 & emVarCtrl & rs10409085\\\\\n",
       "\t OL13 & negCtrl   & rs10490679\\\\\n",
       "\\end{tabular}\n"
      ],
      "text/markdown": [
       "\n",
       "A tibble: 10 × 3\n",
       "\n",
       "| Dataset &lt;chr&gt; | Project &lt;chr&gt; | RSID &lt;chr&gt; |\n",
       "|---|---|---|\n",
       "| OL13 | negCtrl   | rs10035423 |\n",
       "| OL13 | emVarCtrl | rs1008917  |\n",
       "| OL13 | negCtrl   | rs10146602 |\n",
       "| OL13 | expCtrl   | rs10146759 |\n",
       "| OL13 | emVarCtrl | rs1016110  |\n",
       "| OL13 | negCtrl   | rs10201513 |\n",
       "| OL13 | negCtrl   | rs10247186 |\n",
       "| OL13 | negCtrl   | rs10269336 |\n",
       "| OL13 | emVarCtrl | rs10409085 |\n",
       "| OL13 | negCtrl   | rs10490679 |\n",
       "\n"
      ],
      "text/plain": [
       "   Dataset Project   RSID      \n",
       "1  OL13    negCtrl   rs10035423\n",
       "2  OL13    emVarCtrl rs1008917 \n",
       "3  OL13    negCtrl   rs10146602\n",
       "4  OL13    expCtrl   rs10146759\n",
       "5  OL13    emVarCtrl rs1016110 \n",
       "6  OL13    negCtrl   rs10201513\n",
       "7  OL13    negCtrl   rs10247186\n",
       "8  OL13    negCtrl   rs10269336\n",
       "9  OL13    emVarCtrl rs10409085\n",
       "10 OL13    negCtrl   rs10490679"
      ]
     },
     "metadata": {},
     "output_type": "display_data"
    }
   ],
   "source": [
    "### init\n",
    "dat = dat_OL13_attributes\n",
    "\n",
    "### process: \n",
    "###     extract SNP rs ID\n",
    "###     rename columns and values\n",
    "dat = dat %>% \n",
    "    dplyr::filter(str_detect(SNP, \"rs\")) %>%\n",
    "    dplyr::mutate(\n",
    "        RSID    = SNP,\n",
    "        Dataset = \"OL13\",\n",
    "        Project = project) %>%\n",
    "    dplyr::select(Dataset, Project, RSID) %>%\n",
    "    distinct\n",
    "\n",
    "### assign and show\n",
    "dat_snps_OL13 = dat\n",
    "print(dim(dat))\n",
    "head(dat, 10)"
   ]
  },
  {
   "cell_type": "code",
   "execution_count": 8,
   "metadata": {},
   "outputs": [],
   "source": [
    "fdiry = file.path(FD_RES, \"region\", \"control_tmpra\")\n",
    "fname = \"snps_OL13_info.tsv\"\n",
    "fpath = file.path(fdiry, fname)\n",
    "\n",
    "dat = dat_snps_OL13\n",
    "write_tsv(dat, fpath)"
   ]
  },
  {
   "cell_type": "code",
   "execution_count": 10,
   "metadata": {},
   "outputs": [],
   "source": [
    "fdiry = file.path(FD_RES, \"region\", \"control_tmpra\")\n",
    "fname = \"snps_OL13_rsid.txt\"\n",
    "fpath = file.path(fdiry, fname)\n",
    "\n",
    "dat = dat_snps_OL13 \n",
    "dat = dat %>% dplyr::select(RSID) %>% distinct\n",
    "write_tsv(dat, fpath, col_names = FALSE)"
   ]
  },
  {
   "cell_type": "code",
   "execution_count": null,
   "metadata": {},
   "outputs": [],
   "source": []
  }
 ],
 "metadata": {
  "kernelspec": {
   "display_name": "R",
   "language": "R",
   "name": "ir"
  },
  "language_info": {
   "codemirror_mode": "r",
   "file_extension": ".r",
   "mimetype": "text/x-r-source",
   "name": "R",
   "pygments_lexer": "r",
   "version": "4.2.2"
  }
 },
 "nbformat": 4,
 "nbformat_minor": 4
}
