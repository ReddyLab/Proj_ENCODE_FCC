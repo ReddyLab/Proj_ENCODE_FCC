{
 "cells": [
  {
   "cell_type": "code",
   "execution_count": 1,
   "metadata": {},
   "outputs": [
    {
     "name": "stdout",
     "output_type": "stream",
     "text": [
      "You are in Singularity: singularity_proj_combeffect \n",
      "BASE DIRECTORY:     /data/reddylab/Kuei \n",
      "WORK DIRECTORY:     /data/reddylab/Kuei/out \n",
      "CODE DIRECTORY:     /data/reddylab/Kuei/code \n",
      "PATH OF SOURCE:     /data/reddylab/Kuei/source \n",
      "PATH OF EXECUTABLE: /data/reddylab/Kuei/bin \n",
      "PATH OF ANNOTATION: /data/reddylab/Kuei/annotation \n",
      "PATH OF PROJECT:    /data/reddylab/Kuei/code/Proj_CombEffect_ENCODE_FCC \n",
      "PATH OF RESULTS:    /data/reddylab/Kuei/out/proj_combeffect_encode_fcc \n"
     ]
    }
   ],
   "source": [
    "suppressMessages(suppressWarnings(source(\"../config/config_sing.R\")))\n",
    "show_env()"
   ]
  },
  {
   "cell_type": "markdown",
   "metadata": {},
   "source": [
    "## Count matrix"
   ]
  },
  {
   "cell_type": "code",
   "execution_count": 2,
   "metadata": {},
   "outputs": [
    {
     "name": "stderr",
     "output_type": "stream",
     "text": [
      "\u001b[1m\u001b[22mNew names:\n",
      "\u001b[36m•\u001b[39m `` -> `...14`\n",
      "\u001b[1mRows: \u001b[22m\u001b[34m99875\u001b[39m \u001b[1mColumns: \u001b[22m\u001b[34m14\u001b[39m\n",
      "\u001b[36m──\u001b[39m \u001b[1mColumn specification\u001b[22m \u001b[36m───────────────────────────────────────────────────────────\u001b[39m\n",
      "\u001b[1mDelimiter:\u001b[22m \"\\t\"\n",
      "\u001b[31mchr\u001b[39m (5): chr, id, score, strand, project\n",
      "\u001b[32mdbl\u001b[39m (8): start, stop, log2fc, input-count, output-count, log10pval, log10fdr...\n",
      "\u001b[33mlgl\u001b[39m (1): ...14\n",
      "\n",
      "\u001b[36mℹ\u001b[39m Use `spec()` to retrieve the full column specification for this data.\n",
      "\u001b[36mℹ\u001b[39m Specify the column types or set `show_col_types = FALSE` to quiet this message.\n"
     ]
    },
    {
     "name": "stdout",
     "output_type": "stream",
     "text": [
      "[1] 99875    14\n"
     ]
    },
    {
     "data": {
      "text/html": [
       "<table class=\"dataframe\">\n",
       "<caption>A tibble: 6 × 14</caption>\n",
       "<thead>\n",
       "\t<tr><th scope=col>chr</th><th scope=col>start</th><th scope=col>stop</th><th scope=col>id</th><th scope=col>score</th><th scope=col>strand</th><th scope=col>log2fc</th><th scope=col>input-count</th><th scope=col>output-count</th><th scope=col>log10pval</th><th scope=col>log10fdr</th><th scope=col>lfc-se</th><th scope=col>project</th><th scope=col>...14</th></tr>\n",
       "\t<tr><th scope=col>&lt;chr&gt;</th><th scope=col>&lt;dbl&gt;</th><th scope=col>&lt;dbl&gt;</th><th scope=col>&lt;chr&gt;</th><th scope=col>&lt;chr&gt;</th><th scope=col>&lt;chr&gt;</th><th scope=col>&lt;dbl&gt;</th><th scope=col>&lt;dbl&gt;</th><th scope=col>&lt;dbl&gt;</th><th scope=col>&lt;dbl&gt;</th><th scope=col>&lt;dbl&gt;</th><th scope=col>&lt;dbl&gt;</th><th scope=col>&lt;chr&gt;</th><th scope=col>&lt;lgl&gt;</th></tr>\n",
       "</thead>\n",
       "<tbody>\n",
       "\t<tr><td>chr1</td><td> 10377620</td><td> 10377820</td><td>1:10437778:C:T:R:wC </td><td>.</td><td>+</td><td>2.3864208</td><td>883.1270</td><td> 4616.2761</td><td>105.4323311</td><td>104.3126694</td><td>0.10904898</td><td>ctrl_pos</td><td>NA</td></tr>\n",
       "\t<tr><td>chr1</td><td> 10391642</td><td> 10391842</td><td>1:10451799:C:T:R:wC </td><td>.</td><td>+</td><td>0.1754183</td><td>385.7977</td><td>  435.1086</td><td>  0.9976882</td><td>  0.7892488</td><td>0.10681444</td><td>ctrl_neg</td><td>NA</td></tr>\n",
       "\t<tr><td>chr1</td><td>109656005</td><td>109656205</td><td>1:110198727:C:G:R:wC</td><td>.</td><td>+</td><td>6.8943339</td><td>310.5569</td><td>36946.5245</td><td>        Inf</td><td>        Inf</td><td>0.14168132</td><td>ctrl_pos</td><td>NA</td></tr>\n",
       "\t<tr><td>chr1</td><td>110339020</td><td>110339220</td><td>1:110881742:NA:NA   </td><td>.</td><td>+</td><td>5.2288830</td><td>614.8229</td><td>23058.1543</td><td>        Inf</td><td>        Inf</td><td>0.12739918</td><td>ctrl_pos</td><td>NA</td></tr>\n",
       "\t<tr><td>chr1</td><td>111295972</td><td>111296172</td><td>1:111838694:C:T:R:wC</td><td>.</td><td>+</td><td>6.3593967</td><td>322.7563</td><td>26499.8215</td><td>        Inf</td><td>        Inf</td><td>0.11973394</td><td>ctrl_pos</td><td>NA</td></tr>\n",
       "\t<tr><td>chr1</td><td>112504342</td><td>112504542</td><td>1:113047064:NA:NA   </td><td>.</td><td>+</td><td>0.1185008</td><td>908.8158</td><td>  985.1292</td><td>  0.7989544</td><td>  0.6199606</td><td>0.08411008</td><td>ctrl_neg</td><td>NA</td></tr>\n",
       "</tbody>\n",
       "</table>\n"
      ],
      "text/latex": [
       "A tibble: 6 × 14\n",
       "\\begin{tabular}{llllllllllllll}\n",
       " chr & start & stop & id & score & strand & log2fc & input-count & output-count & log10pval & log10fdr & lfc-se & project & ...14\\\\\n",
       " <chr> & <dbl> & <dbl> & <chr> & <chr> & <chr> & <dbl> & <dbl> & <dbl> & <dbl> & <dbl> & <dbl> & <chr> & <lgl>\\\\\n",
       "\\hline\n",
       "\t chr1 &  10377620 &  10377820 & 1:10437778:C:T:R:wC  & . & + & 2.3864208 & 883.1270 &  4616.2761 & 105.4323311 & 104.3126694 & 0.10904898 & ctrl\\_pos & NA\\\\\n",
       "\t chr1 &  10391642 &  10391842 & 1:10451799:C:T:R:wC  & . & + & 0.1754183 & 385.7977 &   435.1086 &   0.9976882 &   0.7892488 & 0.10681444 & ctrl\\_neg & NA\\\\\n",
       "\t chr1 & 109656005 & 109656205 & 1:110198727:C:G:R:wC & . & + & 6.8943339 & 310.5569 & 36946.5245 &         Inf &         Inf & 0.14168132 & ctrl\\_pos & NA\\\\\n",
       "\t chr1 & 110339020 & 110339220 & 1:110881742:NA:NA    & . & + & 5.2288830 & 614.8229 & 23058.1543 &         Inf &         Inf & 0.12739918 & ctrl\\_pos & NA\\\\\n",
       "\t chr1 & 111295972 & 111296172 & 1:111838694:C:T:R:wC & . & + & 6.3593967 & 322.7563 & 26499.8215 &         Inf &         Inf & 0.11973394 & ctrl\\_pos & NA\\\\\n",
       "\t chr1 & 112504342 & 112504542 & 1:113047064:NA:NA    & . & + & 0.1185008 & 908.8158 &   985.1292 &   0.7989544 &   0.6199606 & 0.08411008 & ctrl\\_neg & NA\\\\\n",
       "\\end{tabular}\n"
      ],
      "text/markdown": [
       "\n",
       "A tibble: 6 × 14\n",
       "\n",
       "| chr &lt;chr&gt; | start &lt;dbl&gt; | stop &lt;dbl&gt; | id &lt;chr&gt; | score &lt;chr&gt; | strand &lt;chr&gt; | log2fc &lt;dbl&gt; | input-count &lt;dbl&gt; | output-count &lt;dbl&gt; | log10pval &lt;dbl&gt; | log10fdr &lt;dbl&gt; | lfc-se &lt;dbl&gt; | project &lt;chr&gt; | ...14 &lt;lgl&gt; |\n",
       "|---|---|---|---|---|---|---|---|---|---|---|---|---|---|\n",
       "| chr1 |  10377620 |  10377820 | 1:10437778:C:T:R:wC  | . | + | 2.3864208 | 883.1270 |  4616.2761 | 105.4323311 | 104.3126694 | 0.10904898 | ctrl_pos | NA |\n",
       "| chr1 |  10391642 |  10391842 | 1:10451799:C:T:R:wC  | . | + | 0.1754183 | 385.7977 |   435.1086 |   0.9976882 |   0.7892488 | 0.10681444 | ctrl_neg | NA |\n",
       "| chr1 | 109656005 | 109656205 | 1:110198727:C:G:R:wC | . | + | 6.8943339 | 310.5569 | 36946.5245 |         Inf |         Inf | 0.14168132 | ctrl_pos | NA |\n",
       "| chr1 | 110339020 | 110339220 | 1:110881742:NA:NA    | . | + | 5.2288830 | 614.8229 | 23058.1543 |         Inf |         Inf | 0.12739918 | ctrl_pos | NA |\n",
       "| chr1 | 111295972 | 111296172 | 1:111838694:C:T:R:wC | . | + | 6.3593967 | 322.7563 | 26499.8215 |         Inf |         Inf | 0.11973394 | ctrl_pos | NA |\n",
       "| chr1 | 112504342 | 112504542 | 1:113047064:NA:NA    | . | + | 0.1185008 | 908.8158 |   985.1292 |   0.7989544 |   0.6199606 | 0.08411008 | ctrl_neg | NA |\n",
       "\n"
      ],
      "text/plain": [
       "  chr  start     stop      id                   score strand log2fc   \n",
       "1 chr1  10377620  10377820 1:10437778:C:T:R:wC  .     +      2.3864208\n",
       "2 chr1  10391642  10391842 1:10451799:C:T:R:wC  .     +      0.1754183\n",
       "3 chr1 109656005 109656205 1:110198727:C:G:R:wC .     +      6.8943339\n",
       "4 chr1 110339020 110339220 1:110881742:NA:NA    .     +      5.2288830\n",
       "5 chr1 111295972 111296172 1:111838694:C:T:R:wC .     +      6.3593967\n",
       "6 chr1 112504342 112504542 1:113047064:NA:NA    .     +      0.1185008\n",
       "  input-count output-count log10pval   log10fdr    lfc-se     project  ...14\n",
       "1 883.1270     4616.2761   105.4323311 104.3126694 0.10904898 ctrl_pos NA   \n",
       "2 385.7977      435.1086     0.9976882   0.7892488 0.10681444 ctrl_neg NA   \n",
       "3 310.5569    36946.5245           Inf         Inf 0.14168132 ctrl_pos NA   \n",
       "4 614.8229    23058.1543           Inf         Inf 0.12739918 ctrl_pos NA   \n",
       "5 322.7563    26499.8215           Inf         Inf 0.11973394 ctrl_pos NA   \n",
       "6 908.8158      985.1292     0.7989544   0.6199606 0.08411008 ctrl_neg NA   "
      ]
     },
     "metadata": {},
     "output_type": "display_data"
    }
   ],
   "source": [
    "### set file directory\n",
    "fdiry = file.path(FD_RES, \"source\", \"MPRA\", \"Tewhey_TMPRA\", \"tiling_counts\")\n",
    "fname = \"OL43_K562.bed\"\n",
    "fpath = file.path(fdiry, fname)\n",
    "\n",
    "### import data\n",
    "dat = read_tsv(fpath)\n",
    "\n",
    "### show info\n",
    "dat_OL43_bed = dat\n",
    "print(dim(dat))\n",
    "head(dat)"
   ]
  },
  {
   "cell_type": "code",
   "execution_count": 3,
   "metadata": {},
   "outputs": [
    {
     "name": "stderr",
     "output_type": "stream",
     "text": [
      "\u001b[1m\u001b[22mNew names:\n",
      "\u001b[36m•\u001b[39m `` -> `...14`\n",
      "\u001b[1mRows: \u001b[22m\u001b[34m94907\u001b[39m \u001b[1mColumns: \u001b[22m\u001b[34m14\u001b[39m\n",
      "\u001b[36m──\u001b[39m \u001b[1mColumn specification\u001b[22m \u001b[36m───────────────────────────────────────────────────────────\u001b[39m\n",
      "\u001b[1mDelimiter:\u001b[22m \"\\t\"\n",
      "\u001b[31mchr\u001b[39m (5): chr, id, score, strand, project\n",
      "\u001b[32mdbl\u001b[39m (8): start, stop, log2fc, input-count, output-count, log10pval, log10fdr...\n",
      "\u001b[33mlgl\u001b[39m (1): ...14\n",
      "\n",
      "\u001b[36mℹ\u001b[39m Use `spec()` to retrieve the full column specification for this data.\n",
      "\u001b[36mℹ\u001b[39m Specify the column types or set `show_col_types = FALSE` to quiet this message.\n"
     ]
    },
    {
     "name": "stdout",
     "output_type": "stream",
     "text": [
      "[1] 94907    14\n"
     ]
    },
    {
     "data": {
      "text/html": [
       "<table class=\"dataframe\">\n",
       "<caption>A tibble: 6 × 14</caption>\n",
       "<thead>\n",
       "\t<tr><th scope=col>chr</th><th scope=col>start</th><th scope=col>stop</th><th scope=col>id</th><th scope=col>score</th><th scope=col>strand</th><th scope=col>log2fc</th><th scope=col>input-count</th><th scope=col>output-count</th><th scope=col>log10pval</th><th scope=col>log10fdr</th><th scope=col>lfc-se</th><th scope=col>project</th><th scope=col>...14</th></tr>\n",
       "\t<tr><th scope=col>&lt;chr&gt;</th><th scope=col>&lt;dbl&gt;</th><th scope=col>&lt;dbl&gt;</th><th scope=col>&lt;chr&gt;</th><th scope=col>&lt;chr&gt;</th><th scope=col>&lt;chr&gt;</th><th scope=col>&lt;dbl&gt;</th><th scope=col>&lt;dbl&gt;</th><th scope=col>&lt;dbl&gt;</th><th scope=col>&lt;dbl&gt;</th><th scope=col>&lt;dbl&gt;</th><th scope=col>&lt;dbl&gt;</th><th scope=col>&lt;chr&gt;</th><th scope=col>&lt;lgl&gt;</th></tr>\n",
       "</thead>\n",
       "<tbody>\n",
       "\t<tr><td>chr1</td><td> 10377620</td><td> 10377820</td><td>1:10437778:C:T:R:wC </td><td>.</td><td>+</td><td>2.72866254</td><td>435.0935</td><td> 2882.2589</td><td>80.42056268</td><td>79.26804236</td><td>0.1430215</td><td>ctrl_pos</td><td>NA</td></tr>\n",
       "\t<tr><td>chr1</td><td> 10391642</td><td> 10391842</td><td>1:10451799:C:T:R:wC </td><td>.</td><td>+</td><td>0.02132837</td><td>425.2694</td><td>  433.2791</td><td> 0.05943077</td><td> 0.04112316</td><td>0.1324874</td><td>ctrl_neg</td><td>NA</td></tr>\n",
       "\t<tr><td>chr1</td><td>109656005</td><td>109656205</td><td>1:110198727:C:G:R:wC</td><td>.</td><td>+</td><td>6.78034189</td><td>515.3041</td><td>56641.9395</td><td>        Inf</td><td>        Inf</td><td>0.1150093</td><td>ctrl_pos</td><td>NA</td></tr>\n",
       "\t<tr><td>chr1</td><td>110339020</td><td>110339220</td><td>1:110881742:NA:NA   </td><td>.</td><td>+</td><td>5.37326918</td><td>704.5580</td><td>29204.1611</td><td>        Inf</td><td>        Inf</td><td>0.1183570</td><td>ctrl_pos</td><td>NA</td></tr>\n",
       "\t<tr><td>chr1</td><td>111295972</td><td>111296172</td><td>1:111838694:C:T:R:wC</td><td>.</td><td>+</td><td>6.26556059</td><td>617.9661</td><td>47545.4957</td><td>        Inf</td><td>        Inf</td><td>0.1242856</td><td>ctrl_pos</td><td>NA</td></tr>\n",
       "\t<tr><td>chr1</td><td>112504342</td><td>112504542</td><td>1:113047064:NA:NA   </td><td>.</td><td>+</td><td>0.16035171</td><td>461.8867</td><td>  515.0716</td><td> 0.68814119</td><td> 0.53007439</td><td>0.1265306</td><td>ctrl_neg</td><td>NA</td></tr>\n",
       "</tbody>\n",
       "</table>\n"
      ],
      "text/latex": [
       "A tibble: 6 × 14\n",
       "\\begin{tabular}{llllllllllllll}\n",
       " chr & start & stop & id & score & strand & log2fc & input-count & output-count & log10pval & log10fdr & lfc-se & project & ...14\\\\\n",
       " <chr> & <dbl> & <dbl> & <chr> & <chr> & <chr> & <dbl> & <dbl> & <dbl> & <dbl> & <dbl> & <dbl> & <chr> & <lgl>\\\\\n",
       "\\hline\n",
       "\t chr1 &  10377620 &  10377820 & 1:10437778:C:T:R:wC  & . & + & 2.72866254 & 435.0935 &  2882.2589 & 80.42056268 & 79.26804236 & 0.1430215 & ctrl\\_pos & NA\\\\\n",
       "\t chr1 &  10391642 &  10391842 & 1:10451799:C:T:R:wC  & . & + & 0.02132837 & 425.2694 &   433.2791 &  0.05943077 &  0.04112316 & 0.1324874 & ctrl\\_neg & NA\\\\\n",
       "\t chr1 & 109656005 & 109656205 & 1:110198727:C:G:R:wC & . & + & 6.78034189 & 515.3041 & 56641.9395 &         Inf &         Inf & 0.1150093 & ctrl\\_pos & NA\\\\\n",
       "\t chr1 & 110339020 & 110339220 & 1:110881742:NA:NA    & . & + & 5.37326918 & 704.5580 & 29204.1611 &         Inf &         Inf & 0.1183570 & ctrl\\_pos & NA\\\\\n",
       "\t chr1 & 111295972 & 111296172 & 1:111838694:C:T:R:wC & . & + & 6.26556059 & 617.9661 & 47545.4957 &         Inf &         Inf & 0.1242856 & ctrl\\_pos & NA\\\\\n",
       "\t chr1 & 112504342 & 112504542 & 1:113047064:NA:NA    & . & + & 0.16035171 & 461.8867 &   515.0716 &  0.68814119 &  0.53007439 & 0.1265306 & ctrl\\_neg & NA\\\\\n",
       "\\end{tabular}\n"
      ],
      "text/markdown": [
       "\n",
       "A tibble: 6 × 14\n",
       "\n",
       "| chr &lt;chr&gt; | start &lt;dbl&gt; | stop &lt;dbl&gt; | id &lt;chr&gt; | score &lt;chr&gt; | strand &lt;chr&gt; | log2fc &lt;dbl&gt; | input-count &lt;dbl&gt; | output-count &lt;dbl&gt; | log10pval &lt;dbl&gt; | log10fdr &lt;dbl&gt; | lfc-se &lt;dbl&gt; | project &lt;chr&gt; | ...14 &lt;lgl&gt; |\n",
       "|---|---|---|---|---|---|---|---|---|---|---|---|---|---|\n",
       "| chr1 |  10377620 |  10377820 | 1:10437778:C:T:R:wC  | . | + | 2.72866254 | 435.0935 |  2882.2589 | 80.42056268 | 79.26804236 | 0.1430215 | ctrl_pos | NA |\n",
       "| chr1 |  10391642 |  10391842 | 1:10451799:C:T:R:wC  | . | + | 0.02132837 | 425.2694 |   433.2791 |  0.05943077 |  0.04112316 | 0.1324874 | ctrl_neg | NA |\n",
       "| chr1 | 109656005 | 109656205 | 1:110198727:C:G:R:wC | . | + | 6.78034189 | 515.3041 | 56641.9395 |         Inf |         Inf | 0.1150093 | ctrl_pos | NA |\n",
       "| chr1 | 110339020 | 110339220 | 1:110881742:NA:NA    | . | + | 5.37326918 | 704.5580 | 29204.1611 |         Inf |         Inf | 0.1183570 | ctrl_pos | NA |\n",
       "| chr1 | 111295972 | 111296172 | 1:111838694:C:T:R:wC | . | + | 6.26556059 | 617.9661 | 47545.4957 |         Inf |         Inf | 0.1242856 | ctrl_pos | NA |\n",
       "| chr1 | 112504342 | 112504542 | 1:113047064:NA:NA    | . | + | 0.16035171 | 461.8867 |   515.0716 |  0.68814119 |  0.53007439 | 0.1265306 | ctrl_neg | NA |\n",
       "\n"
      ],
      "text/plain": [
       "  chr  start     stop      id                   score strand log2fc    \n",
       "1 chr1  10377620  10377820 1:10437778:C:T:R:wC  .     +      2.72866254\n",
       "2 chr1  10391642  10391842 1:10451799:C:T:R:wC  .     +      0.02132837\n",
       "3 chr1 109656005 109656205 1:110198727:C:G:R:wC .     +      6.78034189\n",
       "4 chr1 110339020 110339220 1:110881742:NA:NA    .     +      5.37326918\n",
       "5 chr1 111295972 111296172 1:111838694:C:T:R:wC .     +      6.26556059\n",
       "6 chr1 112504342 112504542 1:113047064:NA:NA    .     +      0.16035171\n",
       "  input-count output-count log10pval   log10fdr    lfc-se    project  ...14\n",
       "1 435.0935     2882.2589   80.42056268 79.26804236 0.1430215 ctrl_pos NA   \n",
       "2 425.2694      433.2791    0.05943077  0.04112316 0.1324874 ctrl_neg NA   \n",
       "3 515.3041    56641.9395           Inf         Inf 0.1150093 ctrl_pos NA   \n",
       "4 704.5580    29204.1611           Inf         Inf 0.1183570 ctrl_pos NA   \n",
       "5 617.9661    47545.4957           Inf         Inf 0.1242856 ctrl_pos NA   \n",
       "6 461.8867      515.0716    0.68814119  0.53007439 0.1265306 ctrl_neg NA   "
      ]
     },
     "metadata": {},
     "output_type": "display_data"
    }
   ],
   "source": [
    "### set file directory\n",
    "fdiry = file.path(FD_RES, \"source\", \"MPRA\", \"Tewhey_TMPRA\", \"tiling_counts\")\n",
    "fname = \"OL45_K562.bed\"\n",
    "fpath = file.path(fdiry, fname)\n",
    "\n",
    "### import data\n",
    "dat = read_tsv(fpath)\n",
    "\n",
    "### show info\n",
    "dat_OL45_bed = dat\n",
    "print(dim(dat))\n",
    "head(dat)"
   ]
  },
  {
   "cell_type": "markdown",
   "metadata": {},
   "source": [
    "## Attributes"
   ]
  },
  {
   "cell_type": "code",
   "execution_count": 4,
   "metadata": {},
   "outputs": [
    {
     "name": "stderr",
     "output_type": "stream",
     "text": [
      "\u001b[1mRows: \u001b[22m\u001b[34m57010\u001b[39m \u001b[1mColumns: \u001b[22m\u001b[34m12\u001b[39m\n",
      "\u001b[36m──\u001b[39m \u001b[1mColumn specification\u001b[22m \u001b[36m───────────────────────────────────────────────────────────\u001b[39m\n",
      "\u001b[1mDelimiter:\u001b[22m \"\\t\"\n",
      "\u001b[31mchr\u001b[39m (8): ID, SNP, ref_allele, alt_allele, allele, window, strand, project\n",
      "\u001b[32mdbl\u001b[39m (4): chr, snp_pos, start, stop\n",
      "\n",
      "\u001b[36mℹ\u001b[39m Use `spec()` to retrieve the full column specification for this data.\n",
      "\u001b[36mℹ\u001b[39m Specify the column types or set `show_col_types = FALSE` to quiet this message.\n"
     ]
    },
    {
     "name": "stdout",
     "output_type": "stream",
     "text": [
      "[1] 57010    12\n"
     ]
    },
    {
     "data": {
      "text/html": [
       "<table class=\"dataframe\">\n",
       "<caption>A tibble: 6 × 12</caption>\n",
       "<thead>\n",
       "\t<tr><th scope=col>ID</th><th scope=col>SNP</th><th scope=col>chr</th><th scope=col>snp_pos</th><th scope=col>ref_allele</th><th scope=col>alt_allele</th><th scope=col>allele</th><th scope=col>window</th><th scope=col>strand</th><th scope=col>start</th><th scope=col>stop</th><th scope=col>project</th></tr>\n",
       "\t<tr><th scope=col>&lt;chr&gt;</th><th scope=col>&lt;chr&gt;</th><th scope=col>&lt;dbl&gt;</th><th scope=col>&lt;dbl&gt;</th><th scope=col>&lt;chr&gt;</th><th scope=col>&lt;chr&gt;</th><th scope=col>&lt;chr&gt;</th><th scope=col>&lt;chr&gt;</th><th scope=col>&lt;chr&gt;</th><th scope=col>&lt;dbl&gt;</th><th scope=col>&lt;dbl&gt;</th><th scope=col>&lt;chr&gt;</th></tr>\n",
       "</thead>\n",
       "<tbody>\n",
       "\t<tr><td>11:61554801-61555000_RC</td><td>NA</td><td>11</td><td>NA</td><td>NA</td><td>NA</td><td>NA</td><td>NA</td><td>rev</td><td>61554801</td><td>61555000</td><td>Tiles</td></tr>\n",
       "\t<tr><td>11:61554806-61555005_RC</td><td>NA</td><td>11</td><td>NA</td><td>NA</td><td>NA</td><td>NA</td><td>NA</td><td>rev</td><td>61554806</td><td>61555005</td><td>Tiles</td></tr>\n",
       "\t<tr><td>11:61554811-61555010_RC</td><td>NA</td><td>11</td><td>NA</td><td>NA</td><td>NA</td><td>NA</td><td>NA</td><td>rev</td><td>61554811</td><td>61555010</td><td>Tiles</td></tr>\n",
       "\t<tr><td>11:61554816-61555015_RC</td><td>NA</td><td>11</td><td>NA</td><td>NA</td><td>NA</td><td>NA</td><td>NA</td><td>rev</td><td>61554816</td><td>61555015</td><td>Tiles</td></tr>\n",
       "\t<tr><td>11:61554821-61555020_RC</td><td>NA</td><td>11</td><td>NA</td><td>NA</td><td>NA</td><td>NA</td><td>NA</td><td>rev</td><td>61554821</td><td>61555020</td><td>Tiles</td></tr>\n",
       "\t<tr><td>11:61554826-61555025_RC</td><td>NA</td><td>11</td><td>NA</td><td>NA</td><td>NA</td><td>NA</td><td>NA</td><td>rev</td><td>61554826</td><td>61555025</td><td>Tiles</td></tr>\n",
       "</tbody>\n",
       "</table>\n"
      ],
      "text/latex": [
       "A tibble: 6 × 12\n",
       "\\begin{tabular}{llllllllllll}\n",
       " ID & SNP & chr & snp\\_pos & ref\\_allele & alt\\_allele & allele & window & strand & start & stop & project\\\\\n",
       " <chr> & <chr> & <dbl> & <dbl> & <chr> & <chr> & <chr> & <chr> & <chr> & <dbl> & <dbl> & <chr>\\\\\n",
       "\\hline\n",
       "\t 11:61554801-61555000\\_RC & NA & 11 & NA & NA & NA & NA & NA & rev & 61554801 & 61555000 & Tiles\\\\\n",
       "\t 11:61554806-61555005\\_RC & NA & 11 & NA & NA & NA & NA & NA & rev & 61554806 & 61555005 & Tiles\\\\\n",
       "\t 11:61554811-61555010\\_RC & NA & 11 & NA & NA & NA & NA & NA & rev & 61554811 & 61555010 & Tiles\\\\\n",
       "\t 11:61554816-61555015\\_RC & NA & 11 & NA & NA & NA & NA & NA & rev & 61554816 & 61555015 & Tiles\\\\\n",
       "\t 11:61554821-61555020\\_RC & NA & 11 & NA & NA & NA & NA & NA & rev & 61554821 & 61555020 & Tiles\\\\\n",
       "\t 11:61554826-61555025\\_RC & NA & 11 & NA & NA & NA & NA & NA & rev & 61554826 & 61555025 & Tiles\\\\\n",
       "\\end{tabular}\n"
      ],
      "text/markdown": [
       "\n",
       "A tibble: 6 × 12\n",
       "\n",
       "| ID &lt;chr&gt; | SNP &lt;chr&gt; | chr &lt;dbl&gt; | snp_pos &lt;dbl&gt; | ref_allele &lt;chr&gt; | alt_allele &lt;chr&gt; | allele &lt;chr&gt; | window &lt;chr&gt; | strand &lt;chr&gt; | start &lt;dbl&gt; | stop &lt;dbl&gt; | project &lt;chr&gt; |\n",
       "|---|---|---|---|---|---|---|---|---|---|---|---|\n",
       "| 11:61554801-61555000_RC | NA | 11 | NA | NA | NA | NA | NA | rev | 61554801 | 61555000 | Tiles |\n",
       "| 11:61554806-61555005_RC | NA | 11 | NA | NA | NA | NA | NA | rev | 61554806 | 61555005 | Tiles |\n",
       "| 11:61554811-61555010_RC | NA | 11 | NA | NA | NA | NA | NA | rev | 61554811 | 61555010 | Tiles |\n",
       "| 11:61554816-61555015_RC | NA | 11 | NA | NA | NA | NA | NA | rev | 61554816 | 61555015 | Tiles |\n",
       "| 11:61554821-61555020_RC | NA | 11 | NA | NA | NA | NA | NA | rev | 61554821 | 61555020 | Tiles |\n",
       "| 11:61554826-61555025_RC | NA | 11 | NA | NA | NA | NA | NA | rev | 61554826 | 61555025 | Tiles |\n",
       "\n"
      ],
      "text/plain": [
       "  ID                      SNP chr snp_pos ref_allele alt_allele allele window\n",
       "1 11:61554801-61555000_RC NA  11  NA      NA         NA         NA     NA    \n",
       "2 11:61554806-61555005_RC NA  11  NA      NA         NA         NA     NA    \n",
       "3 11:61554811-61555010_RC NA  11  NA      NA         NA         NA     NA    \n",
       "4 11:61554816-61555015_RC NA  11  NA      NA         NA         NA     NA    \n",
       "5 11:61554821-61555020_RC NA  11  NA      NA         NA         NA     NA    \n",
       "6 11:61554826-61555025_RC NA  11  NA      NA         NA         NA     NA    \n",
       "  strand start    stop     project\n",
       "1 rev    61554801 61555000 Tiles  \n",
       "2 rev    61554806 61555005 Tiles  \n",
       "3 rev    61554811 61555010 Tiles  \n",
       "4 rev    61554816 61555015 Tiles  \n",
       "5 rev    61554821 61555020 Tiles  \n",
       "6 rev    61554826 61555025 Tiles  "
      ]
     },
     "metadata": {},
     "output_type": "display_data"
    }
   ],
   "source": [
    "### set file directory\n",
    "fdiry = file.path(FD_RES, \"source\", \"MPRA\", \"Tewhey_TMPRA\", \"tiling_counts\")\n",
    "fname = \"FADS_tile_snp.20190214.attributes\"\n",
    "fpath = file.path(fdiry, fname)\n",
    "\n",
    "### import data\n",
    "dat = read_tsv(fpath)\n",
    "\n",
    "### show info\n",
    "dat_OL13_attributes = dat\n",
    "print(dim(dat))\n",
    "head(dat)"
   ]
  },
  {
   "cell_type": "code",
   "execution_count": 5,
   "metadata": {},
   "outputs": [
    {
     "name": "stderr",
     "output_type": "stream",
     "text": [
      "\u001b[1mRows: \u001b[22m\u001b[34m99875\u001b[39m \u001b[1mColumns: \u001b[22m\u001b[34m13\u001b[39m\n",
      "\u001b[36m──\u001b[39m \u001b[1mColumn specification\u001b[22m \u001b[36m───────────────────────────────────────────────────────────\u001b[39m\n",
      "\u001b[1mDelimiter:\u001b[22m \"\\t\"\n",
      "\u001b[31mchr\u001b[39m (10): ID, SNP, chr, ref_allele, alt_allele, allele, window, strand, proj...\n",
      "\u001b[32mdbl\u001b[39m  (3): snp_pos, start, stop\n",
      "\n",
      "\u001b[36mℹ\u001b[39m Use `spec()` to retrieve the full column specification for this data.\n",
      "\u001b[36mℹ\u001b[39m Specify the column types or set `show_col_types = FALSE` to quiet this message.\n"
     ]
    },
    {
     "name": "stdout",
     "output_type": "stream",
     "text": [
      "[1] 99875    13\n"
     ]
    },
    {
     "data": {
      "text/html": [
       "<table class=\"dataframe\">\n",
       "<caption>A tibble: 6 × 13</caption>\n",
       "<thead>\n",
       "\t<tr><th scope=col>ID</th><th scope=col>SNP</th><th scope=col>chr</th><th scope=col>snp_pos</th><th scope=col>ref_allele</th><th scope=col>alt_allele</th><th scope=col>allele</th><th scope=col>window</th><th scope=col>strand</th><th scope=col>start</th><th scope=col>stop</th><th scope=col>project</th><th scope=col>haplotype</th></tr>\n",
       "\t<tr><th scope=col>&lt;chr&gt;</th><th scope=col>&lt;chr&gt;</th><th scope=col>&lt;chr&gt;</th><th scope=col>&lt;dbl&gt;</th><th scope=col>&lt;chr&gt;</th><th scope=col>&lt;chr&gt;</th><th scope=col>&lt;chr&gt;</th><th scope=col>&lt;chr&gt;</th><th scope=col>&lt;chr&gt;</th><th scope=col>&lt;dbl&gt;</th><th scope=col>&lt;dbl&gt;</th><th scope=col>&lt;chr&gt;</th><th scope=col>&lt;chr&gt;</th></tr>\n",
       "</thead>\n",
       "<tbody>\n",
       "\t<tr><td>1:10437778:C:T:R:wC </td><td>1:10437778:C:T   </td><td>1</td><td> 10437778</td><td>C </td><td>T </td><td>ref</td><td>center</td><td>fwd</td><td>NA</td><td>NA</td><td>ctrl_pos</td><td>ref</td></tr>\n",
       "\t<tr><td>1:10451799:C:T:R:wC </td><td>1:10451799:C:T   </td><td>1</td><td> 10451799</td><td>C </td><td>T </td><td>ref</td><td>center</td><td>fwd</td><td>NA</td><td>NA</td><td>ctrl_neg</td><td>ref</td></tr>\n",
       "\t<tr><td>1:110198727:C:G:R:wC</td><td>1:110198727:C:G  </td><td>1</td><td>110198727</td><td>C </td><td>G </td><td>ref</td><td>center</td><td>fwd</td><td>NA</td><td>NA</td><td>ctrl_pos</td><td>ref</td></tr>\n",
       "\t<tr><td>1:110881742:NA:NA   </td><td>1:110881742:NA:NA</td><td>1</td><td>110881742</td><td>NA</td><td>NA</td><td>NA </td><td>NA    </td><td>fwd</td><td>NA</td><td>NA</td><td>ctrl_pos</td><td>ref</td></tr>\n",
       "\t<tr><td>1:111838694:C:T:R:wC</td><td>1:111838694:C:T  </td><td>1</td><td>111838694</td><td>C </td><td>T </td><td>ref</td><td>center</td><td>fwd</td><td>NA</td><td>NA</td><td>ctrl_pos</td><td>ref</td></tr>\n",
       "\t<tr><td>1:113047064:NA:NA   </td><td>1:113047064:NA:NA</td><td>1</td><td>113047064</td><td>NA</td><td>NA</td><td>NA </td><td>NA    </td><td>fwd</td><td>NA</td><td>NA</td><td>ctrl_neg</td><td>ref</td></tr>\n",
       "</tbody>\n",
       "</table>\n"
      ],
      "text/latex": [
       "A tibble: 6 × 13\n",
       "\\begin{tabular}{lllllllllllll}\n",
       " ID & SNP & chr & snp\\_pos & ref\\_allele & alt\\_allele & allele & window & strand & start & stop & project & haplotype\\\\\n",
       " <chr> & <chr> & <chr> & <dbl> & <chr> & <chr> & <chr> & <chr> & <chr> & <dbl> & <dbl> & <chr> & <chr>\\\\\n",
       "\\hline\n",
       "\t 1:10437778:C:T:R:wC  & 1:10437778:C:T    & 1 &  10437778 & C  & T  & ref & center & fwd & NA & NA & ctrl\\_pos & ref\\\\\n",
       "\t 1:10451799:C:T:R:wC  & 1:10451799:C:T    & 1 &  10451799 & C  & T  & ref & center & fwd & NA & NA & ctrl\\_neg & ref\\\\\n",
       "\t 1:110198727:C:G:R:wC & 1:110198727:C:G   & 1 & 110198727 & C  & G  & ref & center & fwd & NA & NA & ctrl\\_pos & ref\\\\\n",
       "\t 1:110881742:NA:NA    & 1:110881742:NA:NA & 1 & 110881742 & NA & NA & NA  & NA     & fwd & NA & NA & ctrl\\_pos & ref\\\\\n",
       "\t 1:111838694:C:T:R:wC & 1:111838694:C:T   & 1 & 111838694 & C  & T  & ref & center & fwd & NA & NA & ctrl\\_pos & ref\\\\\n",
       "\t 1:113047064:NA:NA    & 1:113047064:NA:NA & 1 & 113047064 & NA & NA & NA  & NA     & fwd & NA & NA & ctrl\\_neg & ref\\\\\n",
       "\\end{tabular}\n"
      ],
      "text/markdown": [
       "\n",
       "A tibble: 6 × 13\n",
       "\n",
       "| ID &lt;chr&gt; | SNP &lt;chr&gt; | chr &lt;chr&gt; | snp_pos &lt;dbl&gt; | ref_allele &lt;chr&gt; | alt_allele &lt;chr&gt; | allele &lt;chr&gt; | window &lt;chr&gt; | strand &lt;chr&gt; | start &lt;dbl&gt; | stop &lt;dbl&gt; | project &lt;chr&gt; | haplotype &lt;chr&gt; |\n",
       "|---|---|---|---|---|---|---|---|---|---|---|---|---|\n",
       "| 1:10437778:C:T:R:wC  | 1:10437778:C:T    | 1 |  10437778 | C  | T  | ref | center | fwd | NA | NA | ctrl_pos | ref |\n",
       "| 1:10451799:C:T:R:wC  | 1:10451799:C:T    | 1 |  10451799 | C  | T  | ref | center | fwd | NA | NA | ctrl_neg | ref |\n",
       "| 1:110198727:C:G:R:wC | 1:110198727:C:G   | 1 | 110198727 | C  | G  | ref | center | fwd | NA | NA | ctrl_pos | ref |\n",
       "| 1:110881742:NA:NA    | 1:110881742:NA:NA | 1 | 110881742 | NA | NA | NA  | NA     | fwd | NA | NA | ctrl_pos | ref |\n",
       "| 1:111838694:C:T:R:wC | 1:111838694:C:T   | 1 | 111838694 | C  | T  | ref | center | fwd | NA | NA | ctrl_pos | ref |\n",
       "| 1:113047064:NA:NA    | 1:113047064:NA:NA | 1 | 113047064 | NA | NA | NA  | NA     | fwd | NA | NA | ctrl_neg | ref |\n",
       "\n"
      ],
      "text/plain": [
       "  ID                   SNP               chr snp_pos   ref_allele alt_allele\n",
       "1 1:10437778:C:T:R:wC  1:10437778:C:T    1    10437778 C          T         \n",
       "2 1:10451799:C:T:R:wC  1:10451799:C:T    1    10451799 C          T         \n",
       "3 1:110198727:C:G:R:wC 1:110198727:C:G   1   110198727 C          G         \n",
       "4 1:110881742:NA:NA    1:110881742:NA:NA 1   110881742 NA         NA        \n",
       "5 1:111838694:C:T:R:wC 1:111838694:C:T   1   111838694 C          T         \n",
       "6 1:113047064:NA:NA    1:113047064:NA:NA 1   113047064 NA         NA        \n",
       "  allele window strand start stop project  haplotype\n",
       "1 ref    center fwd    NA    NA   ctrl_pos ref      \n",
       "2 ref    center fwd    NA    NA   ctrl_neg ref      \n",
       "3 ref    center fwd    NA    NA   ctrl_pos ref      \n",
       "4 NA     NA     fwd    NA    NA   ctrl_pos ref      \n",
       "5 ref    center fwd    NA    NA   ctrl_pos ref      \n",
       "6 NA     NA     fwd    NA    NA   ctrl_neg ref      "
      ]
     },
     "metadata": {},
     "output_type": "display_data"
    }
   ],
   "source": [
    "### set file directory\n",
    "fdiry = file.path(FD_RES, \"source\", \"MPRA\", \"Tewhey_TMPRA\", \"tiling_counts\")\n",
    "fname = \"OL43.attributes\"\n",
    "fpath = file.path(fdiry, fname)\n",
    "\n",
    "### import data\n",
    "dat = read_tsv(fpath)\n",
    "\n",
    "### show info\n",
    "dat_OL43_attributes = dat\n",
    "print(dim(dat))\n",
    "head(dat)"
   ]
  },
  {
   "cell_type": "code",
   "execution_count": 6,
   "metadata": {},
   "outputs": [
    {
     "name": "stderr",
     "output_type": "stream",
     "text": [
      "\u001b[1mRows: \u001b[22m\u001b[34m94942\u001b[39m \u001b[1mColumns: \u001b[22m\u001b[34m13\u001b[39m\n",
      "\u001b[36m──\u001b[39m \u001b[1mColumn specification\u001b[22m \u001b[36m───────────────────────────────────────────────────────────\u001b[39m\n",
      "\u001b[1mDelimiter:\u001b[22m \"\\t\"\n",
      "\u001b[31mchr\u001b[39m (10): ID, SNP, chr, ref_allele, alt_allele, allele, window, strand, proj...\n",
      "\u001b[32mdbl\u001b[39m  (3): snp_pos, start, stop\n",
      "\n",
      "\u001b[36mℹ\u001b[39m Use `spec()` to retrieve the full column specification for this data.\n",
      "\u001b[36mℹ\u001b[39m Specify the column types or set `show_col_types = FALSE` to quiet this message.\n"
     ]
    },
    {
     "name": "stdout",
     "output_type": "stream",
     "text": [
      "[1] 94942    13\n"
     ]
    },
    {
     "data": {
      "text/html": [
       "<table class=\"dataframe\">\n",
       "<caption>A tibble: 6 × 13</caption>\n",
       "<thead>\n",
       "\t<tr><th scope=col>ID</th><th scope=col>SNP</th><th scope=col>chr</th><th scope=col>snp_pos</th><th scope=col>ref_allele</th><th scope=col>alt_allele</th><th scope=col>allele</th><th scope=col>window</th><th scope=col>strand</th><th scope=col>start</th><th scope=col>stop</th><th scope=col>project</th><th scope=col>haplotype</th></tr>\n",
       "\t<tr><th scope=col>&lt;chr&gt;</th><th scope=col>&lt;chr&gt;</th><th scope=col>&lt;chr&gt;</th><th scope=col>&lt;dbl&gt;</th><th scope=col>&lt;chr&gt;</th><th scope=col>&lt;chr&gt;</th><th scope=col>&lt;chr&gt;</th><th scope=col>&lt;chr&gt;</th><th scope=col>&lt;chr&gt;</th><th scope=col>&lt;dbl&gt;</th><th scope=col>&lt;dbl&gt;</th><th scope=col>&lt;chr&gt;</th><th scope=col>&lt;chr&gt;</th></tr>\n",
       "</thead>\n",
       "<tbody>\n",
       "\t<tr><td>ORF13856:870:0-200  </td><td>NA</td><td>NA</td><td>NA</td><td>NA</td><td>ref</td><td>NA</td><td>NA</td><td>fwd</td><td>NA</td><td>NA</td><td>ctrl_neg-Yu-ORF</td><td>ref</td></tr>\n",
       "\t<tr><td>ORF13856:870:100-300</td><td>NA</td><td>NA</td><td>NA</td><td>NA</td><td>ref</td><td>NA</td><td>NA</td><td>fwd</td><td>NA</td><td>NA</td><td>ctrl_neg-Yu-ORF</td><td>ref</td></tr>\n",
       "\t<tr><td>ORF13856:870:200-400</td><td>NA</td><td>NA</td><td>NA</td><td>NA</td><td>ref</td><td>NA</td><td>NA</td><td>fwd</td><td>NA</td><td>NA</td><td>ctrl_neg-Yu-ORF</td><td>ref</td></tr>\n",
       "\t<tr><td>ORF13856:870:300-500</td><td>NA</td><td>NA</td><td>NA</td><td>NA</td><td>ref</td><td>NA</td><td>NA</td><td>fwd</td><td>NA</td><td>NA</td><td>ctrl_neg-Yu-ORF</td><td>ref</td></tr>\n",
       "\t<tr><td>ORF13856:870:400-600</td><td>NA</td><td>NA</td><td>NA</td><td>NA</td><td>ref</td><td>NA</td><td>NA</td><td>fwd</td><td>NA</td><td>NA</td><td>ctrl_neg-Yu-ORF</td><td>ref</td></tr>\n",
       "\t<tr><td>ORF13856:870:500-700</td><td>NA</td><td>NA</td><td>NA</td><td>NA</td><td>ref</td><td>NA</td><td>NA</td><td>fwd</td><td>NA</td><td>NA</td><td>ctrl_neg-Yu-ORF</td><td>ref</td></tr>\n",
       "</tbody>\n",
       "</table>\n"
      ],
      "text/latex": [
       "A tibble: 6 × 13\n",
       "\\begin{tabular}{lllllllllllll}\n",
       " ID & SNP & chr & snp\\_pos & ref\\_allele & alt\\_allele & allele & window & strand & start & stop & project & haplotype\\\\\n",
       " <chr> & <chr> & <chr> & <dbl> & <chr> & <chr> & <chr> & <chr> & <chr> & <dbl> & <dbl> & <chr> & <chr>\\\\\n",
       "\\hline\n",
       "\t ORF13856:870:0-200   & NA & NA & NA & NA & ref & NA & NA & fwd & NA & NA & ctrl\\_neg-Yu-ORF & ref\\\\\n",
       "\t ORF13856:870:100-300 & NA & NA & NA & NA & ref & NA & NA & fwd & NA & NA & ctrl\\_neg-Yu-ORF & ref\\\\\n",
       "\t ORF13856:870:200-400 & NA & NA & NA & NA & ref & NA & NA & fwd & NA & NA & ctrl\\_neg-Yu-ORF & ref\\\\\n",
       "\t ORF13856:870:300-500 & NA & NA & NA & NA & ref & NA & NA & fwd & NA & NA & ctrl\\_neg-Yu-ORF & ref\\\\\n",
       "\t ORF13856:870:400-600 & NA & NA & NA & NA & ref & NA & NA & fwd & NA & NA & ctrl\\_neg-Yu-ORF & ref\\\\\n",
       "\t ORF13856:870:500-700 & NA & NA & NA & NA & ref & NA & NA & fwd & NA & NA & ctrl\\_neg-Yu-ORF & ref\\\\\n",
       "\\end{tabular}\n"
      ],
      "text/markdown": [
       "\n",
       "A tibble: 6 × 13\n",
       "\n",
       "| ID &lt;chr&gt; | SNP &lt;chr&gt; | chr &lt;chr&gt; | snp_pos &lt;dbl&gt; | ref_allele &lt;chr&gt; | alt_allele &lt;chr&gt; | allele &lt;chr&gt; | window &lt;chr&gt; | strand &lt;chr&gt; | start &lt;dbl&gt; | stop &lt;dbl&gt; | project &lt;chr&gt; | haplotype &lt;chr&gt; |\n",
       "|---|---|---|---|---|---|---|---|---|---|---|---|---|\n",
       "| ORF13856:870:0-200   | NA | NA | NA | NA | ref | NA | NA | fwd | NA | NA | ctrl_neg-Yu-ORF | ref |\n",
       "| ORF13856:870:100-300 | NA | NA | NA | NA | ref | NA | NA | fwd | NA | NA | ctrl_neg-Yu-ORF | ref |\n",
       "| ORF13856:870:200-400 | NA | NA | NA | NA | ref | NA | NA | fwd | NA | NA | ctrl_neg-Yu-ORF | ref |\n",
       "| ORF13856:870:300-500 | NA | NA | NA | NA | ref | NA | NA | fwd | NA | NA | ctrl_neg-Yu-ORF | ref |\n",
       "| ORF13856:870:400-600 | NA | NA | NA | NA | ref | NA | NA | fwd | NA | NA | ctrl_neg-Yu-ORF | ref |\n",
       "| ORF13856:870:500-700 | NA | NA | NA | NA | ref | NA | NA | fwd | NA | NA | ctrl_neg-Yu-ORF | ref |\n",
       "\n"
      ],
      "text/plain": [
       "  ID                   SNP chr snp_pos ref_allele alt_allele allele window\n",
       "1 ORF13856:870:0-200   NA  NA  NA      NA         ref        NA     NA    \n",
       "2 ORF13856:870:100-300 NA  NA  NA      NA         ref        NA     NA    \n",
       "3 ORF13856:870:200-400 NA  NA  NA      NA         ref        NA     NA    \n",
       "4 ORF13856:870:300-500 NA  NA  NA      NA         ref        NA     NA    \n",
       "5 ORF13856:870:400-600 NA  NA  NA      NA         ref        NA     NA    \n",
       "6 ORF13856:870:500-700 NA  NA  NA      NA         ref        NA     NA    \n",
       "  strand start stop project         haplotype\n",
       "1 fwd    NA    NA   ctrl_neg-Yu-ORF ref      \n",
       "2 fwd    NA    NA   ctrl_neg-Yu-ORF ref      \n",
       "3 fwd    NA    NA   ctrl_neg-Yu-ORF ref      \n",
       "4 fwd    NA    NA   ctrl_neg-Yu-ORF ref      \n",
       "5 fwd    NA    NA   ctrl_neg-Yu-ORF ref      \n",
       "6 fwd    NA    NA   ctrl_neg-Yu-ORF ref      "
      ]
     },
     "metadata": {},
     "output_type": "display_data"
    }
   ],
   "source": [
    "### set file directory\n",
    "fdiry = file.path(FD_RES, \"source\", \"MPRA\", \"Tewhey_TMPRA\", \"tiling_counts\")\n",
    "fname = \"OL45.attributes\"\n",
    "fpath = file.path(fdiry, fname)\n",
    "\n",
    "### import data\n",
    "dat = read_tsv(fpath)\n",
    "\n",
    "### show info\n",
    "dat_OL45_attributes = dat\n",
    "print(dim(dat))\n",
    "head(dat)"
   ]
  },
  {
   "cell_type": "markdown",
   "metadata": {},
   "source": [
    "## Extract contrls for OL13"
   ]
  },
  {
   "cell_type": "code",
   "execution_count": 7,
   "metadata": {},
   "outputs": [
    {
     "data": {
      "text/html": [
       "<table class=\"dataframe\">\n",
       "<caption>A tibble: 6 × 12</caption>\n",
       "<thead>\n",
       "\t<tr><th scope=col>ID</th><th scope=col>SNP</th><th scope=col>chr</th><th scope=col>snp_pos</th><th scope=col>ref_allele</th><th scope=col>alt_allele</th><th scope=col>allele</th><th scope=col>window</th><th scope=col>strand</th><th scope=col>start</th><th scope=col>stop</th><th scope=col>project</th></tr>\n",
       "\t<tr><th scope=col>&lt;chr&gt;</th><th scope=col>&lt;chr&gt;</th><th scope=col>&lt;dbl&gt;</th><th scope=col>&lt;dbl&gt;</th><th scope=col>&lt;chr&gt;</th><th scope=col>&lt;chr&gt;</th><th scope=col>&lt;chr&gt;</th><th scope=col>&lt;chr&gt;</th><th scope=col>&lt;chr&gt;</th><th scope=col>&lt;dbl&gt;</th><th scope=col>&lt;dbl&gt;</th><th scope=col>&lt;chr&gt;</th></tr>\n",
       "</thead>\n",
       "<tbody>\n",
       "\t<tr><td>11:61554801-61555000_RC</td><td>NA</td><td>11</td><td>NA</td><td>NA</td><td>NA</td><td>NA</td><td>NA</td><td>rev</td><td>61554801</td><td>61555000</td><td>Tiles</td></tr>\n",
       "\t<tr><td>11:61554806-61555005_RC</td><td>NA</td><td>11</td><td>NA</td><td>NA</td><td>NA</td><td>NA</td><td>NA</td><td>rev</td><td>61554806</td><td>61555005</td><td>Tiles</td></tr>\n",
       "\t<tr><td>11:61554811-61555010_RC</td><td>NA</td><td>11</td><td>NA</td><td>NA</td><td>NA</td><td>NA</td><td>NA</td><td>rev</td><td>61554811</td><td>61555010</td><td>Tiles</td></tr>\n",
       "\t<tr><td>11:61554816-61555015_RC</td><td>NA</td><td>11</td><td>NA</td><td>NA</td><td>NA</td><td>NA</td><td>NA</td><td>rev</td><td>61554816</td><td>61555015</td><td>Tiles</td></tr>\n",
       "\t<tr><td>11:61554821-61555020_RC</td><td>NA</td><td>11</td><td>NA</td><td>NA</td><td>NA</td><td>NA</td><td>NA</td><td>rev</td><td>61554821</td><td>61555020</td><td>Tiles</td></tr>\n",
       "\t<tr><td>11:61554826-61555025_RC</td><td>NA</td><td>11</td><td>NA</td><td>NA</td><td>NA</td><td>NA</td><td>NA</td><td>rev</td><td>61554826</td><td>61555025</td><td>Tiles</td></tr>\n",
       "</tbody>\n",
       "</table>\n"
      ],
      "text/latex": [
       "A tibble: 6 × 12\n",
       "\\begin{tabular}{llllllllllll}\n",
       " ID & SNP & chr & snp\\_pos & ref\\_allele & alt\\_allele & allele & window & strand & start & stop & project\\\\\n",
       " <chr> & <chr> & <dbl> & <dbl> & <chr> & <chr> & <chr> & <chr> & <chr> & <dbl> & <dbl> & <chr>\\\\\n",
       "\\hline\n",
       "\t 11:61554801-61555000\\_RC & NA & 11 & NA & NA & NA & NA & NA & rev & 61554801 & 61555000 & Tiles\\\\\n",
       "\t 11:61554806-61555005\\_RC & NA & 11 & NA & NA & NA & NA & NA & rev & 61554806 & 61555005 & Tiles\\\\\n",
       "\t 11:61554811-61555010\\_RC & NA & 11 & NA & NA & NA & NA & NA & rev & 61554811 & 61555010 & Tiles\\\\\n",
       "\t 11:61554816-61555015\\_RC & NA & 11 & NA & NA & NA & NA & NA & rev & 61554816 & 61555015 & Tiles\\\\\n",
       "\t 11:61554821-61555020\\_RC & NA & 11 & NA & NA & NA & NA & NA & rev & 61554821 & 61555020 & Tiles\\\\\n",
       "\t 11:61554826-61555025\\_RC & NA & 11 & NA & NA & NA & NA & NA & rev & 61554826 & 61555025 & Tiles\\\\\n",
       "\\end{tabular}\n"
      ],
      "text/markdown": [
       "\n",
       "A tibble: 6 × 12\n",
       "\n",
       "| ID &lt;chr&gt; | SNP &lt;chr&gt; | chr &lt;dbl&gt; | snp_pos &lt;dbl&gt; | ref_allele &lt;chr&gt; | alt_allele &lt;chr&gt; | allele &lt;chr&gt; | window &lt;chr&gt; | strand &lt;chr&gt; | start &lt;dbl&gt; | stop &lt;dbl&gt; | project &lt;chr&gt; |\n",
       "|---|---|---|---|---|---|---|---|---|---|---|---|\n",
       "| 11:61554801-61555000_RC | NA | 11 | NA | NA | NA | NA | NA | rev | 61554801 | 61555000 | Tiles |\n",
       "| 11:61554806-61555005_RC | NA | 11 | NA | NA | NA | NA | NA | rev | 61554806 | 61555005 | Tiles |\n",
       "| 11:61554811-61555010_RC | NA | 11 | NA | NA | NA | NA | NA | rev | 61554811 | 61555010 | Tiles |\n",
       "| 11:61554816-61555015_RC | NA | 11 | NA | NA | NA | NA | NA | rev | 61554816 | 61555015 | Tiles |\n",
       "| 11:61554821-61555020_RC | NA | 11 | NA | NA | NA | NA | NA | rev | 61554821 | 61555020 | Tiles |\n",
       "| 11:61554826-61555025_RC | NA | 11 | NA | NA | NA | NA | NA | rev | 61554826 | 61555025 | Tiles |\n",
       "\n"
      ],
      "text/plain": [
       "  ID                      SNP chr snp_pos ref_allele alt_allele allele window\n",
       "1 11:61554801-61555000_RC NA  11  NA      NA         NA         NA     NA    \n",
       "2 11:61554806-61555005_RC NA  11  NA      NA         NA         NA     NA    \n",
       "3 11:61554811-61555010_RC NA  11  NA      NA         NA         NA     NA    \n",
       "4 11:61554816-61555015_RC NA  11  NA      NA         NA         NA     NA    \n",
       "5 11:61554821-61555020_RC NA  11  NA      NA         NA         NA     NA    \n",
       "6 11:61554826-61555025_RC NA  11  NA      NA         NA         NA     NA    \n",
       "  strand start    stop     project\n",
       "1 rev    61554801 61555000 Tiles  \n",
       "2 rev    61554806 61555005 Tiles  \n",
       "3 rev    61554811 61555010 Tiles  \n",
       "4 rev    61554816 61555015 Tiles  \n",
       "5 rev    61554821 61555020 Tiles  \n",
       "6 rev    61554826 61555025 Tiles  "
      ]
     },
     "metadata": {},
     "output_type": "display_data"
    }
   ],
   "source": [
    "dat = dat_OL13_attributes\n",
    "head(dat)"
   ]
  },
  {
   "cell_type": "code",
   "execution_count": 8,
   "metadata": {},
   "outputs": [
    {
     "name": "stdout",
     "output_type": "stream",
     "text": [
      "[1] 236   3\n"
     ]
    },
    {
     "data": {
      "text/html": [
       "<table class=\"dataframe\">\n",
       "<caption>A tibble: 10 × 3</caption>\n",
       "<thead>\n",
       "\t<tr><th scope=col>Dataset</th><th scope=col>Project</th><th scope=col>RSID</th></tr>\n",
       "\t<tr><th scope=col>&lt;chr&gt;</th><th scope=col>&lt;chr&gt;</th><th scope=col>&lt;chr&gt;</th></tr>\n",
       "</thead>\n",
       "<tbody>\n",
       "\t<tr><td>OL13</td><td>negCtrl  </td><td>rs10035423</td></tr>\n",
       "\t<tr><td>OL13</td><td>emVarCtrl</td><td>rs1008917 </td></tr>\n",
       "\t<tr><td>OL13</td><td>emVarCtrl</td><td>rs1008917 </td></tr>\n",
       "\t<tr><td>OL13</td><td>negCtrl  </td><td>rs10146602</td></tr>\n",
       "\t<tr><td>OL13</td><td>expCtrl  </td><td>rs10146759</td></tr>\n",
       "\t<tr><td>OL13</td><td>emVarCtrl</td><td>rs1016110 </td></tr>\n",
       "\t<tr><td>OL13</td><td>emVarCtrl</td><td>rs1016110 </td></tr>\n",
       "\t<tr><td>OL13</td><td>negCtrl  </td><td>rs10201513</td></tr>\n",
       "\t<tr><td>OL13</td><td>negCtrl  </td><td>rs10247186</td></tr>\n",
       "\t<tr><td>OL13</td><td>negCtrl  </td><td>rs10269336</td></tr>\n",
       "</tbody>\n",
       "</table>\n"
      ],
      "text/latex": [
       "A tibble: 10 × 3\n",
       "\\begin{tabular}{lll}\n",
       " Dataset & Project & RSID\\\\\n",
       " <chr> & <chr> & <chr>\\\\\n",
       "\\hline\n",
       "\t OL13 & negCtrl   & rs10035423\\\\\n",
       "\t OL13 & emVarCtrl & rs1008917 \\\\\n",
       "\t OL13 & emVarCtrl & rs1008917 \\\\\n",
       "\t OL13 & negCtrl   & rs10146602\\\\\n",
       "\t OL13 & expCtrl   & rs10146759\\\\\n",
       "\t OL13 & emVarCtrl & rs1016110 \\\\\n",
       "\t OL13 & emVarCtrl & rs1016110 \\\\\n",
       "\t OL13 & negCtrl   & rs10201513\\\\\n",
       "\t OL13 & negCtrl   & rs10247186\\\\\n",
       "\t OL13 & negCtrl   & rs10269336\\\\\n",
       "\\end{tabular}\n"
      ],
      "text/markdown": [
       "\n",
       "A tibble: 10 × 3\n",
       "\n",
       "| Dataset &lt;chr&gt; | Project &lt;chr&gt; | RSID &lt;chr&gt; |\n",
       "|---|---|---|\n",
       "| OL13 | negCtrl   | rs10035423 |\n",
       "| OL13 | emVarCtrl | rs1008917  |\n",
       "| OL13 | emVarCtrl | rs1008917  |\n",
       "| OL13 | negCtrl   | rs10146602 |\n",
       "| OL13 | expCtrl   | rs10146759 |\n",
       "| OL13 | emVarCtrl | rs1016110  |\n",
       "| OL13 | emVarCtrl | rs1016110  |\n",
       "| OL13 | negCtrl   | rs10201513 |\n",
       "| OL13 | negCtrl   | rs10247186 |\n",
       "| OL13 | negCtrl   | rs10269336 |\n",
       "\n"
      ],
      "text/plain": [
       "   Dataset Project   RSID      \n",
       "1  OL13    negCtrl   rs10035423\n",
       "2  OL13    emVarCtrl rs1008917 \n",
       "3  OL13    emVarCtrl rs1008917 \n",
       "4  OL13    negCtrl   rs10146602\n",
       "5  OL13    expCtrl   rs10146759\n",
       "6  OL13    emVarCtrl rs1016110 \n",
       "7  OL13    emVarCtrl rs1016110 \n",
       "8  OL13    negCtrl   rs10201513\n",
       "9  OL13    negCtrl   rs10247186\n",
       "10 OL13    negCtrl   rs10269336"
      ]
     },
     "metadata": {},
     "output_type": "display_data"
    }
   ],
   "source": [
    "### init\n",
    "dat = dat_OL13_attributes\n",
    "\n",
    "### process: \n",
    "###     extract negative and positive controls\n",
    "###     rename columns and values\n",
    "dat = dat %>% \n",
    "    #dplyr::filter(str_detect(project, \"negCtrl|expCtrl\")) %>%\n",
    "    dplyr::filter(str_detect(SNP, \"rs\")) %>%\n",
    "    dplyr::mutate(\n",
    "        RSID    = SNP,\n",
    "        Dataset = \"OL13\",\n",
    "        Project = project) %>%\n",
    "    dplyr::select(Dataset, Project, RSID)\n",
    "\n",
    "### assign and show\n",
    "dat_ctrl_OL13 = dat\n",
    "print(dim(dat))\n",
    "head(dat, 10)"
   ]
  },
  {
   "cell_type": "code",
   "execution_count": 9,
   "metadata": {},
   "outputs": [
    {
     "name": "stdout",
     "output_type": "stream",
     "text": [
      "[1] 160   3\n"
     ]
    },
    {
     "data": {
      "text/html": [
       "<table class=\"dataframe\">\n",
       "<caption>A tibble: 10 × 3</caption>\n",
       "<thead>\n",
       "\t<tr><th scope=col>Dataset</th><th scope=col>Project</th><th scope=col>RSID</th></tr>\n",
       "\t<tr><th scope=col>&lt;chr&gt;</th><th scope=col>&lt;chr&gt;</th><th scope=col>&lt;chr&gt;</th></tr>\n",
       "</thead>\n",
       "<tbody>\n",
       "\t<tr><td>OL13</td><td>ctrl_neg</td><td>rs10035423</td></tr>\n",
       "\t<tr><td>OL13</td><td>ctrl_neg</td><td>rs10146602</td></tr>\n",
       "\t<tr><td>OL13</td><td>ctrl_pos</td><td>rs10146759</td></tr>\n",
       "\t<tr><td>OL13</td><td>ctrl_neg</td><td>rs10201513</td></tr>\n",
       "\t<tr><td>OL13</td><td>ctrl_neg</td><td>rs10247186</td></tr>\n",
       "\t<tr><td>OL13</td><td>ctrl_neg</td><td>rs10269336</td></tr>\n",
       "\t<tr><td>OL13</td><td>ctrl_neg</td><td>rs10490679</td></tr>\n",
       "\t<tr><td>OL13</td><td>ctrl_neg</td><td>rs10763302</td></tr>\n",
       "\t<tr><td>OL13</td><td>ctrl_neg</td><td>rs10986638</td></tr>\n",
       "\t<tr><td>OL13</td><td>ctrl_neg</td><td>rs11003412</td></tr>\n",
       "</tbody>\n",
       "</table>\n"
      ],
      "text/latex": [
       "A tibble: 10 × 3\n",
       "\\begin{tabular}{lll}\n",
       " Dataset & Project & RSID\\\\\n",
       " <chr> & <chr> & <chr>\\\\\n",
       "\\hline\n",
       "\t OL13 & ctrl\\_neg & rs10035423\\\\\n",
       "\t OL13 & ctrl\\_neg & rs10146602\\\\\n",
       "\t OL13 & ctrl\\_pos & rs10146759\\\\\n",
       "\t OL13 & ctrl\\_neg & rs10201513\\\\\n",
       "\t OL13 & ctrl\\_neg & rs10247186\\\\\n",
       "\t OL13 & ctrl\\_neg & rs10269336\\\\\n",
       "\t OL13 & ctrl\\_neg & rs10490679\\\\\n",
       "\t OL13 & ctrl\\_neg & rs10763302\\\\\n",
       "\t OL13 & ctrl\\_neg & rs10986638\\\\\n",
       "\t OL13 & ctrl\\_neg & rs11003412\\\\\n",
       "\\end{tabular}\n"
      ],
      "text/markdown": [
       "\n",
       "A tibble: 10 × 3\n",
       "\n",
       "| Dataset &lt;chr&gt; | Project &lt;chr&gt; | RSID &lt;chr&gt; |\n",
       "|---|---|---|\n",
       "| OL13 | ctrl_neg | rs10035423 |\n",
       "| OL13 | ctrl_neg | rs10146602 |\n",
       "| OL13 | ctrl_pos | rs10146759 |\n",
       "| OL13 | ctrl_neg | rs10201513 |\n",
       "| OL13 | ctrl_neg | rs10247186 |\n",
       "| OL13 | ctrl_neg | rs10269336 |\n",
       "| OL13 | ctrl_neg | rs10490679 |\n",
       "| OL13 | ctrl_neg | rs10763302 |\n",
       "| OL13 | ctrl_neg | rs10986638 |\n",
       "| OL13 | ctrl_neg | rs11003412 |\n",
       "\n"
      ],
      "text/plain": [
       "   Dataset Project  RSID      \n",
       "1  OL13    ctrl_neg rs10035423\n",
       "2  OL13    ctrl_neg rs10146602\n",
       "3  OL13    ctrl_pos rs10146759\n",
       "4  OL13    ctrl_neg rs10201513\n",
       "5  OL13    ctrl_neg rs10247186\n",
       "6  OL13    ctrl_neg rs10269336\n",
       "7  OL13    ctrl_neg rs10490679\n",
       "8  OL13    ctrl_neg rs10763302\n",
       "9  OL13    ctrl_neg rs10986638\n",
       "10 OL13    ctrl_neg rs11003412"
      ]
     },
     "metadata": {},
     "output_type": "display_data"
    }
   ],
   "source": [
    "### init\n",
    "dat = dat_OL13_attributes\n",
    "\n",
    "### process: \n",
    "###     extract negative and positive controls\n",
    "###     rename columns and values\n",
    "dat = dat %>% \n",
    "    dplyr::filter(str_detect(project, \"negCtrl|expCtrl\")) %>%\n",
    "    dplyr::filter(str_detect(SNP, \"rs\")) %>%\n",
    "    dplyr::mutate(\n",
    "        RSID    = SNP,\n",
    "        Dataset = \"OL13\", \n",
    "        Project = ifelse(project == \"negCtrl\", \"ctrl_neg\", \"ctrl_pos\")) %>%\n",
    "    dplyr::select(Dataset, Project, RSID)\n",
    "\n",
    "### assign and show\n",
    "dat_ctrl_OL13 = dat\n",
    "print(dim(dat))\n",
    "head(dat, 10)"
   ]
  },
  {
   "cell_type": "code",
   "execution_count": 10,
   "metadata": {},
   "outputs": [],
   "source": [
    "fdiry = file.path(FD_RES, \"region\", \"control_tmpra\")\n",
    "fname = \"control_OL13_info.tsv\"\n",
    "fpath = file.path(fdiry, fname)\n",
    "\n",
    "dat = dat_ctrl_OL13\n",
    "write_tsv(dat, fpath)"
   ]
  },
  {
   "cell_type": "code",
   "execution_count": 11,
   "metadata": {},
   "outputs": [],
   "source": [
    "fdiry = file.path(FD_RES, \"region\", \"control_tmpra\")\n",
    "fname = \"control_OL13_rsid.txt\"\n",
    "fpath = file.path(fdiry, fname)\n",
    "\n",
    "dat = dat_ctrl_OL13 %>% dplyr::select(RSID)\n",
    "write_tsv(dat, fpath)"
   ]
  },
  {
   "cell_type": "markdown",
   "metadata": {},
   "source": [
    "## Extract contrls for OL43, OL45"
   ]
  },
  {
   "cell_type": "code",
   "execution_count": 17,
   "metadata": {},
   "outputs": [],
   "source": [
    "###\n",
    "lst = list(\n",
    "    \"OL43\" = dat_OL43_bed,\n",
    "    \"OL45\" = dat_OL45_bed\n",
    ")\n",
    "\n",
    "lst = lapply(lst, function(dat){\n",
    "    dat = dat %>% \n",
    "        dplyr::filter(str_detect(project, \"ctrl_pos|ctrl_neg\")) %>%\n",
    "        dplyr::filter(!str_detect(id, \"Nadav|ORF\")) %>%\n",
    "        dplyr::select(chr, start, stop, id, score, strand, project) %>%\n",
    "        tidyr::separate(\n",
    "            col   = id, \n",
    "            into  = c(\"Chrom\", \"Loc_hg19\", \"Allele_Ref\", \"Allele_Alt\"), \n",
    "            sep   = \":\",\n",
    "            extra = \"drop\") %>%\n",
    "        dplyr::mutate(\n",
    "            SNP      = paste(Chrom, Loc_hg19, Allele_Ref, Allele_Alt, sep=\":\"),\n",
    "            Chrom    = paste(\"chr\", Chrom, sep=\"\"),\n",
    "            Loc_hg38 = start + 100,\n",
    "            Project  = project) %>%\n",
    "        dplyr::select(Project, SNP, Chrom, Loc_hg19, Loc_hg38, Allele_Ref, Allele_Alt)\n",
    "    return(dat)\n",
    "})\n",
    "\n",
    "dat_ctrl = bind_rows(lst, .id = \"Dataset\")\n",
    "dat_snps = dat_ctrl %>% dplyr::filter(Allele_Ref != \"NA\")"
   ]
  },
  {
   "cell_type": "code",
   "execution_count": 18,
   "metadata": {},
   "outputs": [
    {
     "name": "stdout",
     "output_type": "stream",
     "text": [
      "[1] 1194    8\n"
     ]
    },
    {
     "data": {
      "text/html": [
       "<table class=\"dataframe\">\n",
       "<caption>A tibble: 6 × 8</caption>\n",
       "<thead>\n",
       "\t<tr><th scope=col>Dataset</th><th scope=col>Project</th><th scope=col>SNP</th><th scope=col>Chrom</th><th scope=col>Loc_hg19</th><th scope=col>Loc_hg38</th><th scope=col>Allele_Ref</th><th scope=col>Allele_Alt</th></tr>\n",
       "\t<tr><th scope=col>&lt;chr&gt;</th><th scope=col>&lt;chr&gt;</th><th scope=col>&lt;chr&gt;</th><th scope=col>&lt;chr&gt;</th><th scope=col>&lt;chr&gt;</th><th scope=col>&lt;dbl&gt;</th><th scope=col>&lt;chr&gt;</th><th scope=col>&lt;chr&gt;</th></tr>\n",
       "</thead>\n",
       "<tbody>\n",
       "\t<tr><td>OL43</td><td>ctrl_pos</td><td>1:10437778:C:T   </td><td>chr1</td><td>10437778 </td><td> 10377720</td><td>C </td><td>T </td></tr>\n",
       "\t<tr><td>OL43</td><td>ctrl_neg</td><td>1:10451799:C:T   </td><td>chr1</td><td>10451799 </td><td> 10391742</td><td>C </td><td>T </td></tr>\n",
       "\t<tr><td>OL43</td><td>ctrl_pos</td><td>1:110198727:C:G  </td><td>chr1</td><td>110198727</td><td>109656105</td><td>C </td><td>G </td></tr>\n",
       "\t<tr><td>OL43</td><td>ctrl_pos</td><td>1:110881742:NA:NA</td><td>chr1</td><td>110881742</td><td>110339120</td><td>NA</td><td>NA</td></tr>\n",
       "\t<tr><td>OL43</td><td>ctrl_pos</td><td>1:111838694:C:T  </td><td>chr1</td><td>111838694</td><td>111296072</td><td>C </td><td>T </td></tr>\n",
       "\t<tr><td>OL43</td><td>ctrl_neg</td><td>1:113047064:NA:NA</td><td>chr1</td><td>113047064</td><td>112504442</td><td>NA</td><td>NA</td></tr>\n",
       "</tbody>\n",
       "</table>\n"
      ],
      "text/latex": [
       "A tibble: 6 × 8\n",
       "\\begin{tabular}{llllllll}\n",
       " Dataset & Project & SNP & Chrom & Loc\\_hg19 & Loc\\_hg38 & Allele\\_Ref & Allele\\_Alt\\\\\n",
       " <chr> & <chr> & <chr> & <chr> & <chr> & <dbl> & <chr> & <chr>\\\\\n",
       "\\hline\n",
       "\t OL43 & ctrl\\_pos & 1:10437778:C:T    & chr1 & 10437778  &  10377720 & C  & T \\\\\n",
       "\t OL43 & ctrl\\_neg & 1:10451799:C:T    & chr1 & 10451799  &  10391742 & C  & T \\\\\n",
       "\t OL43 & ctrl\\_pos & 1:110198727:C:G   & chr1 & 110198727 & 109656105 & C  & G \\\\\n",
       "\t OL43 & ctrl\\_pos & 1:110881742:NA:NA & chr1 & 110881742 & 110339120 & NA & NA\\\\\n",
       "\t OL43 & ctrl\\_pos & 1:111838694:C:T   & chr1 & 111838694 & 111296072 & C  & T \\\\\n",
       "\t OL43 & ctrl\\_neg & 1:113047064:NA:NA & chr1 & 113047064 & 112504442 & NA & NA\\\\\n",
       "\\end{tabular}\n"
      ],
      "text/markdown": [
       "\n",
       "A tibble: 6 × 8\n",
       "\n",
       "| Dataset &lt;chr&gt; | Project &lt;chr&gt; | SNP &lt;chr&gt; | Chrom &lt;chr&gt; | Loc_hg19 &lt;chr&gt; | Loc_hg38 &lt;dbl&gt; | Allele_Ref &lt;chr&gt; | Allele_Alt &lt;chr&gt; |\n",
       "|---|---|---|---|---|---|---|---|\n",
       "| OL43 | ctrl_pos | 1:10437778:C:T    | chr1 | 10437778  |  10377720 | C  | T  |\n",
       "| OL43 | ctrl_neg | 1:10451799:C:T    | chr1 | 10451799  |  10391742 | C  | T  |\n",
       "| OL43 | ctrl_pos | 1:110198727:C:G   | chr1 | 110198727 | 109656105 | C  | G  |\n",
       "| OL43 | ctrl_pos | 1:110881742:NA:NA | chr1 | 110881742 | 110339120 | NA | NA |\n",
       "| OL43 | ctrl_pos | 1:111838694:C:T   | chr1 | 111838694 | 111296072 | C  | T  |\n",
       "| OL43 | ctrl_neg | 1:113047064:NA:NA | chr1 | 113047064 | 112504442 | NA | NA |\n",
       "\n"
      ],
      "text/plain": [
       "  Dataset Project  SNP               Chrom Loc_hg19  Loc_hg38  Allele_Ref\n",
       "1 OL43    ctrl_pos 1:10437778:C:T    chr1  10437778   10377720 C         \n",
       "2 OL43    ctrl_neg 1:10451799:C:T    chr1  10451799   10391742 C         \n",
       "3 OL43    ctrl_pos 1:110198727:C:G   chr1  110198727 109656105 C         \n",
       "4 OL43    ctrl_pos 1:110881742:NA:NA chr1  110881742 110339120 NA        \n",
       "5 OL43    ctrl_pos 1:111838694:C:T   chr1  111838694 111296072 C         \n",
       "6 OL43    ctrl_neg 1:113047064:NA:NA chr1  113047064 112504442 NA        \n",
       "  Allele_Alt\n",
       "1 T         \n",
       "2 T         \n",
       "3 G         \n",
       "4 NA        \n",
       "5 T         \n",
       "6 NA        "
      ]
     },
     "metadata": {},
     "output_type": "display_data"
    }
   ],
   "source": [
    "dat = dat_ctrl\n",
    "print(dim(dat))\n",
    "head(dat)"
   ]
  },
  {
   "cell_type": "code",
   "execution_count": 19,
   "metadata": {},
   "outputs": [
    {
     "name": "stdout",
     "output_type": "stream",
     "text": [
      "[1] 438   8\n"
     ]
    },
    {
     "data": {
      "text/html": [
       "<table class=\"dataframe\">\n",
       "<caption>A tibble: 6 × 8</caption>\n",
       "<thead>\n",
       "\t<tr><th scope=col>Dataset</th><th scope=col>Project</th><th scope=col>SNP</th><th scope=col>Chrom</th><th scope=col>Loc_hg19</th><th scope=col>Loc_hg38</th><th scope=col>Allele_Ref</th><th scope=col>Allele_Alt</th></tr>\n",
       "\t<tr><th scope=col>&lt;chr&gt;</th><th scope=col>&lt;chr&gt;</th><th scope=col>&lt;chr&gt;</th><th scope=col>&lt;chr&gt;</th><th scope=col>&lt;chr&gt;</th><th scope=col>&lt;dbl&gt;</th><th scope=col>&lt;chr&gt;</th><th scope=col>&lt;chr&gt;</th></tr>\n",
       "</thead>\n",
       "<tbody>\n",
       "\t<tr><td>OL43</td><td>ctrl_pos</td><td>1:10437778:C:T </td><td>chr1</td><td>10437778 </td><td> 10377720</td><td>C</td><td>T</td></tr>\n",
       "\t<tr><td>OL43</td><td>ctrl_neg</td><td>1:10451799:C:T </td><td>chr1</td><td>10451799 </td><td> 10391742</td><td>C</td><td>T</td></tr>\n",
       "\t<tr><td>OL43</td><td>ctrl_pos</td><td>1:110198727:C:G</td><td>chr1</td><td>110198727</td><td>109656105</td><td>C</td><td>G</td></tr>\n",
       "\t<tr><td>OL43</td><td>ctrl_pos</td><td>1:111838694:C:T</td><td>chr1</td><td>111838694</td><td>111296072</td><td>C</td><td>T</td></tr>\n",
       "\t<tr><td>OL43</td><td>ctrl_neg</td><td>1:119063648:C:T</td><td>chr1</td><td>119063648</td><td>118521025</td><td>C</td><td>T</td></tr>\n",
       "\t<tr><td>OL43</td><td>ctrl_neg</td><td>1:171893999:A:T</td><td>chr1</td><td>171893999</td><td>171924859</td><td>A</td><td>T</td></tr>\n",
       "</tbody>\n",
       "</table>\n"
      ],
      "text/latex": [
       "A tibble: 6 × 8\n",
       "\\begin{tabular}{llllllll}\n",
       " Dataset & Project & SNP & Chrom & Loc\\_hg19 & Loc\\_hg38 & Allele\\_Ref & Allele\\_Alt\\\\\n",
       " <chr> & <chr> & <chr> & <chr> & <chr> & <dbl> & <chr> & <chr>\\\\\n",
       "\\hline\n",
       "\t OL43 & ctrl\\_pos & 1:10437778:C:T  & chr1 & 10437778  &  10377720 & C & T\\\\\n",
       "\t OL43 & ctrl\\_neg & 1:10451799:C:T  & chr1 & 10451799  &  10391742 & C & T\\\\\n",
       "\t OL43 & ctrl\\_pos & 1:110198727:C:G & chr1 & 110198727 & 109656105 & C & G\\\\\n",
       "\t OL43 & ctrl\\_pos & 1:111838694:C:T & chr1 & 111838694 & 111296072 & C & T\\\\\n",
       "\t OL43 & ctrl\\_neg & 1:119063648:C:T & chr1 & 119063648 & 118521025 & C & T\\\\\n",
       "\t OL43 & ctrl\\_neg & 1:171893999:A:T & chr1 & 171893999 & 171924859 & A & T\\\\\n",
       "\\end{tabular}\n"
      ],
      "text/markdown": [
       "\n",
       "A tibble: 6 × 8\n",
       "\n",
       "| Dataset &lt;chr&gt; | Project &lt;chr&gt; | SNP &lt;chr&gt; | Chrom &lt;chr&gt; | Loc_hg19 &lt;chr&gt; | Loc_hg38 &lt;dbl&gt; | Allele_Ref &lt;chr&gt; | Allele_Alt &lt;chr&gt; |\n",
       "|---|---|---|---|---|---|---|---|\n",
       "| OL43 | ctrl_pos | 1:10437778:C:T  | chr1 | 10437778  |  10377720 | C | T |\n",
       "| OL43 | ctrl_neg | 1:10451799:C:T  | chr1 | 10451799  |  10391742 | C | T |\n",
       "| OL43 | ctrl_pos | 1:110198727:C:G | chr1 | 110198727 | 109656105 | C | G |\n",
       "| OL43 | ctrl_pos | 1:111838694:C:T | chr1 | 111838694 | 111296072 | C | T |\n",
       "| OL43 | ctrl_neg | 1:119063648:C:T | chr1 | 119063648 | 118521025 | C | T |\n",
       "| OL43 | ctrl_neg | 1:171893999:A:T | chr1 | 171893999 | 171924859 | A | T |\n",
       "\n"
      ],
      "text/plain": [
       "  Dataset Project  SNP             Chrom Loc_hg19  Loc_hg38  Allele_Ref\n",
       "1 OL43    ctrl_pos 1:10437778:C:T  chr1  10437778   10377720 C         \n",
       "2 OL43    ctrl_neg 1:10451799:C:T  chr1  10451799   10391742 C         \n",
       "3 OL43    ctrl_pos 1:110198727:C:G chr1  110198727 109656105 C         \n",
       "4 OL43    ctrl_pos 1:111838694:C:T chr1  111838694 111296072 C         \n",
       "5 OL43    ctrl_neg 1:119063648:C:T chr1  119063648 118521025 C         \n",
       "6 OL43    ctrl_neg 1:171893999:A:T chr1  171893999 171924859 A         \n",
       "  Allele_Alt\n",
       "1 T         \n",
       "2 T         \n",
       "3 G         \n",
       "4 T         \n",
       "5 T         \n",
       "6 T         "
      ]
     },
     "metadata": {},
     "output_type": "display_data"
    }
   ],
   "source": [
    "dat = dat_snps\n",
    "print(dim(dat))\n",
    "head(dat)"
   ]
  },
  {
   "cell_type": "code",
   "execution_count": 20,
   "metadata": {},
   "outputs": [
    {
     "name": "stdout",
     "output_type": "stream",
     "text": [
      "[1] TRUE\n",
      "[1] TRUE\n"
     ]
    }
   ],
   "source": [
    "dat = dat_ctrl\n",
    "print(all(dat$SNP %in% snps))\n",
    "print(all(snps %in% dat$SNP))"
   ]
  },
  {
   "cell_type": "code",
   "execution_count": 21,
   "metadata": {},
   "outputs": [],
   "source": [
    "fdiry = file.path(FD_RES, \"region\", \"control_tmpra\")\n",
    "fname = \"control_OL43_OL45_info.tsv\"\n",
    "fpath = file.path(fdiry, fname)\n",
    "\n",
    "dat = dat_ctrl\n",
    "write_tsv(dat, fpath)"
   ]
  },
  {
   "cell_type": "code",
   "execution_count": null,
   "metadata": {},
   "outputs": [],
   "source": []
  }
 ],
 "metadata": {
  "kernelspec": {
   "display_name": "R",
   "language": "R",
   "name": "ir"
  },
  "language_info": {
   "codemirror_mode": "r",
   "file_extension": ".r",
   "mimetype": "text/x-r-source",
   "name": "R",
   "pygments_lexer": "r",
   "version": "4.2.2"
  }
 },
 "nbformat": 4,
 "nbformat_minor": 4
}
