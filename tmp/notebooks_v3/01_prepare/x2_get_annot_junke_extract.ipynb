{
 "cells": [
  {
   "cell_type": "code",
   "execution_count": 1,
   "id": "8044a9ab-221f-4524-a452-b8d313460828",
   "metadata": {},
   "outputs": [
    {
     "name": "stdout",
     "output_type": "stream",
     "text": [
      "You are on Duke Server: HARDAC\n",
      "BASE DIRECTORY:     /data/reddylab/Kuei\n",
      "WORK DIRECTORY:     /data/reddylab/Kuei/out\n",
      "CODE DIRECTORY:     /data/reddylab/Kuei/code\n",
      "SING DIRECTORY:     /data/reddylab/Kuei/singularity\n",
      "PATH OF SOURCE:     /data/reddylab/Kuei/source\n",
      "PATH OF EXECUTABLE: /data/reddylab/Kuei/bin\n",
      "PATH OF ANNOTATION: /data/reddylab/Kuei/annotation\n",
      "PATH OF PROJECT:    /data/reddylab/Kuei/code/Proj_CombEffect_ENCODE_FCC\n",
      "PATH OF RESULTS:    /data/reddylab/Kuei/out/proj_combeffect_encode_fcc\n",
      "\n"
     ]
    }
   ],
   "source": [
    "### set env\n",
    "source ../config/config_duke.sh\n",
    "show_env"
   ]
  },
  {
   "cell_type": "code",
   "execution_count": 2,
   "id": "85387569-4ba7-44e5-b9cb-6ba20dbd641e",
   "metadata": {},
   "outputs": [],
   "source": [
    "FD_INP=${FD_RES}/source/annotation_enhancer_junke\n",
    "FD_OUT=${FD_RES}/region/annotation_enhancer_junke"
   ]
  },
  {
   "cell_type": "code",
   "execution_count": 33,
   "id": "1646d04b-bea4-478c-8836-e758f7026d38",
   "metadata": {},
   "outputs": [
    {
     "name": "stdout",
     "output_type": "stream",
     "text": [
      "\u001b[0m\u001b[38;5;27mWHG_STARR_seq_TR\u001b[0m\n"
     ]
    }
   ],
   "source": [
    "ls ${FD_OUT}"
   ]
  },
  {
   "cell_type": "code",
   "execution_count": 34,
   "id": "570d8965-6e06-482b-a787-c915ae9c79c6",
   "metadata": {},
   "outputs": [],
   "source": [
    "rm -rf ${FD_OUT}/WHG_STARR_seq_TR"
   ]
  },
  {
   "cell_type": "code",
   "execution_count": 3,
   "id": "abbd4de7-432e-46e7-bdab-b4e2db15ae19",
   "metadata": {},
   "outputs": [
    {
     "name": "stdout",
     "output_type": "stream",
     "text": [
      "/data/reddylab/Kuei/out/proj_combeffect_encode_fcc/source/annotation_enhancer_junke/ATAC_STARR_deep:\n",
      "\u001b[0m\u001b[38;5;27mdeep_ATAC_STARR_seq.full_overlap_30bp_bin_10bp_stepSize\u001b[0m\n",
      "\u001b[38;5;9mdeep_ATAC_STARR_seq.full_overlap_30bp_bin_10bp_stepSize.tar.gz\u001b[0m\n",
      "\u001b[38;5;9mdeep_ATAC_STARR_seq.full_overlap_30bp_bin_10bp_stepSize.zip\u001b[0m\n",
      "\n",
      "/data/reddylab/Kuei/out/proj_combeffect_encode_fcc/source/annotation_enhancer_junke/WHG_STARR_seq_TR:\n",
      "\u001b[38;5;27mWHG_STARR_seq_TR.full_overlap_30bp_bin_10bp_stepSize\u001b[0m\n",
      "\u001b[38;5;9mWHG_STARR_seq_TR.full_overlap_30bp_bin_10bp_stepSize.tar.gz\u001b[0m\n",
      "\u001b[38;5;9mWHG_STARR_seq_TR.full_overlap_30bp_bin_10bp_stepSize.zip\u001b[0m\n"
     ]
    }
   ],
   "source": [
    "ls ${FD_INP}/*"
   ]
  },
  {
   "cell_type": "code",
   "execution_count": 9,
   "id": "426155ce-6fba-45a8-a1fc-693d5330f0ec",
   "metadata": {},
   "outputs": [
    {
     "name": "stdout",
     "output_type": "stream",
     "text": [
      "\u001b[0m\u001b[38;5;34m/data/reddylab/Kuei/out/proj_combeffect_encode_fcc/source/annotation_enhancer_junke/ATAC_STARR_deep/deep_ATAC_STARR_seq.full_overlap_30bp_bin_10bp_stepSize/processed/merged_peak/orientation_independent_up_regulated_peaks_union.bed.gz\u001b[0m\u001b[K\n"
     ]
    }
   ],
   "source": [
    "FOLDER=ATAC_STARR_deep/deep_ATAC_STARR_seq.full_overlap_30bp_bin_10bp_stepSize\n",
    "ls ${FD_INP}/${FOLDER}/processed/merged_peak/orientation_independent_up_regulated_peaks_union.bed.gz"
   ]
  },
  {
   "cell_type": "code",
   "execution_count": 37,
   "id": "4a21c57b-e1c9-45bc-b134-bf2c6aa363f1",
   "metadata": {},
   "outputs": [
    {
     "name": "stdout",
     "output_type": "stream",
     "text": [
      "/data/reddylab/Kuei/out/proj_combeffect_encode_fcc/source/annotation_enhancer_junke/ATAC_STARR_deep/deep_ATAC_STARR_seq.full_overlap_30bp_bin_10bp_stepSize/processed/merged_peak/orientation_independent_up_regulated_peaks_union.bed.gz\n",
      "/data/reddylab/Kuei/out/proj_combeffect_encode_fcc/region/annotation_enhancer_junke/enhancer_junke_peak_astarr.bed.gz\n",
      "chr1\t115570\t115690\n",
      "chr1\t605280\t605300\n",
      "chr1\t605330\t605340\n",
      "chr1\t605350\t605370\n",
      "chr1\t605440\t605480\n",
      "chr1\t778380\t778500\n",
      "chr1\t778600\t778870\n",
      "chr1\t827380\t827400\n",
      "chr1\t842880\t842960\n",
      "chr1\t944400\t944440\n"
     ]
    }
   ],
   "source": [
    "FN_INP=orientation_independent_up_regulated_peaks_union.bed.gz\n",
    "FP_INP=${FD_INP}/ATAC_STARR_deep/deep_ATAC_STARR_seq.full_overlap_30bp_bin_10bp_stepSize/processed/merged_peak/${FN_INP}\n",
    "\n",
    "FN_OUT=enhancer_junke_peak_astarr.bed.gz\n",
    "FP_OUT=${FD_OUT}/${FN_OUT}\n",
    "\n",
    "echo ${FP_INP}\n",
    "echo ${FP_OUT}\n",
    "\n",
    "zcat ${FP_INP} |\\\n",
    "    cut -f1-3 |\\\n",
    "    head\n",
    "\n",
    "zcat ${FP_INP} |\\\n",
    "    cut -f1-3 |\\\n",
    "    gzip -c > ${FP_OUT}"
   ]
  },
  {
   "cell_type": "code",
   "execution_count": 39,
   "id": "f6606e31-6d49-4c04-a70a-67553ec08cd9",
   "metadata": {},
   "outputs": [
    {
     "name": "stdout",
     "output_type": "stream",
     "text": [
      "/data/reddylab/Kuei/out/proj_combeffect_encode_fcc/source/annotation_enhancer_junke/WHG_STARR_seq_TR/WHG_STARR_seq_TR.full_overlap_30bp_bin_10bp_stepSize/processed/merged_peak/orientation_independent_up_regulated_peaks_union.bed.gz\n",
      "/data/reddylab/Kuei/out/proj_combeffect_encode_fcc/region/annotation_enhancer_junke/enhancer_junke_peak_wstarr.bed.gz\n",
      "chr1\t778410\t778450\n",
      "chr1\t778460\t778820\n",
      "chr1\t778830\t778860\n",
      "chr1\t778870\t779090\n",
      "chr1\t818900\t818920\n",
      "chr1\t818940\t818960\n",
      "chr1\t827220\t827240\n",
      "chr1\t827480\t827510\n",
      "chr1\t844080\t844150\n",
      "chr1\t913130\t913170\n"
     ]
    }
   ],
   "source": [
    "FN_INP=orientation_independent_up_regulated_peaks_union.bed.gz\n",
    "FP_INP=${FD_INP}/WHG_STARR_seq_TR/WHG_STARR_seq_TR.full_overlap_30bp_bin_10bp_stepSize/processed/merged_peak/${FN_INP}\n",
    "\n",
    "FN_OUT=enhancer_junke_peak_wstarr.bed.gz\n",
    "FP_OUT=${FD_OUT}/${FN_OUT}\n",
    "\n",
    "echo ${FP_INP}\n",
    "echo ${FP_OUT}\n",
    "\n",
    "zcat ${FP_INP} |\\\n",
    "    cut -f1-3 |\\\n",
    "    head\n",
    "\n",
    "zcat ${FP_INP} |\\\n",
    "    cut -f1-3 |\\\n",
    "    gzip -c > ${FP_OUT}"
   ]
  },
  {
   "cell_type": "code",
   "execution_count": 43,
   "id": "0de8e00a-919f-4d25-9f60-b8e150c6a8d2",
   "metadata": {},
   "outputs": [
    {
     "name": "stdout",
     "output_type": "stream",
     "text": [
      "chr1\t115570\t115690\n",
      "chr1\t605280\t605300\n",
      "chr1\t605330\t605340\n",
      "chr1\t605350\t605370\n",
      "chr1\t605440\t605480\n",
      "chr1\t778380\t778500\n",
      "chr1\t778600\t778870\n",
      "chr1\t827380\t827400\n",
      "chr1\t842880\t842960\n",
      "chr1\t944400\t944440\n",
      "33916\n"
     ]
    }
   ],
   "source": [
    "FN_OUT=enhancer_junke_peak_astarr.bed.gz\n",
    "FP_OUT=${FD_OUT}/${FN_OUT}\n",
    "\n",
    "zcat ${FP_OUT} | head\n",
    "zcat ${FP_OUT} | wc -l"
   ]
  },
  {
   "cell_type": "code",
   "execution_count": 44,
   "id": "cedf0b62-5f9d-4cf9-9334-c2957fc5a59d",
   "metadata": {},
   "outputs": [
    {
     "name": "stdout",
     "output_type": "stream",
     "text": [
      "chr1\t778410\t778450\n",
      "chr1\t778460\t778820\n",
      "chr1\t778830\t778860\n",
      "chr1\t778870\t779090\n",
      "chr1\t818900\t818920\n",
      "chr1\t818940\t818960\n",
      "chr1\t827220\t827240\n",
      "chr1\t827480\t827510\n",
      "chr1\t844080\t844150\n",
      "chr1\t913130\t913170\n",
      "65809\n"
     ]
    }
   ],
   "source": [
    "FN_OUT=enhancer_junke_peak_wstarr.bed.gz\n",
    "FP_OUT=${FD_OUT}/${FN_OUT}\n",
    "\n",
    "zcat ${FP_OUT} | head\n",
    "zcat ${FP_OUT} | wc -l"
   ]
  },
  {
   "cell_type": "code",
   "execution_count": null,
   "id": "520ae6fd-1323-4df2-ba0f-3dd5d88ed8aa",
   "metadata": {},
   "outputs": [],
   "source": []
  }
 ],
 "metadata": {
  "kernelspec": {
   "display_name": "Bash",
   "language": "bash",
   "name": "bash"
  },
  "language_info": {
   "codemirror_mode": "shell",
   "file_extension": ".sh",
   "mimetype": "text/x-sh",
   "name": "bash"
  }
 },
 "nbformat": 4,
 "nbformat_minor": 5
}
