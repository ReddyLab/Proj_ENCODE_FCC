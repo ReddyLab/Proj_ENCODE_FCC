{
 "cells": [
  {
   "cell_type": "markdown",
   "id": "904e0e89",
   "metadata": {},
   "source": [
    "**Set environment**"
   ]
  },
  {
   "cell_type": "code",
   "execution_count": 1,
   "id": "b4330c07",
   "metadata": {},
   "outputs": [
    {
     "name": "stdout",
     "output_type": "stream",
     "text": [
      "You are in Singularity: singularity_proj_combeffect \n",
      "BASE DIRECTORY:     /data/reddylab/Kuei \n",
      "WORK DIRECTORY:     /data/reddylab/Kuei/out \n",
      "CODE DIRECTORY:     /data/reddylab/Kuei/code \n",
      "PATH OF SOURCE:     /data/reddylab/Kuei/source \n",
      "PATH OF EXECUTABLE: /data/reddylab/Kuei/bin \n",
      "PATH OF ANNOTATION: /data/reddylab/Kuei/annotation \n",
      "PATH OF PROJECT:    /data/reddylab/Kuei/code/Proj_CombEffect_ENCODE_FCC \n",
      "PATH OF RESULTS:    /data/reddylab/Kuei/out/proj_combeffect_encode_fcc \n"
     ]
    }
   ],
   "source": [
    "suppressMessages(suppressWarnings(source(\"../config/config_sing.R\")))\n",
    "show_env()"
   ]
  },
  {
   "cell_type": "code",
   "execution_count": 2,
   "id": "e91be37e",
   "metadata": {},
   "outputs": [
    {
     "name": "stdout",
     "output_type": "stream",
     "text": [
      "[1] \"remap2022_K562_all_macs2_hg38_v1_0.bed.gz\"\n",
      "[2] \"remap2022_K562_crm_macs2_hg38_v1_0.bed.gz\"\n",
      "[3] \"remap2022_K562_nr_macs2_hg38_v1_0.bed.gz\" \n",
      "[4] \"remap2022_SP1_nr_macs2_hg38_v1_0.bed.gz\"  \n"
     ]
    }
   ],
   "source": [
    "fdiry = file.path(FD_RES, \"region\", \"annotation_remap2022\")\n",
    "print(dir(fdiry))"
   ]
  },
  {
   "cell_type": "code",
   "execution_count": 4,
   "id": "df5ef1a9",
   "metadata": {},
   "outputs": [
    {
     "name": "stdout",
     "output_type": "stream",
     "text": [
      "[1] 9936638      10\n"
     ]
    },
    {
     "data": {
      "text/html": [
       "<table class=\"dataframe\">\n",
       "<caption>A tibble: 6 × 10</caption>\n",
       "<thead>\n",
       "\t<tr><th scope=col>Chrom</th><th scope=col>Start</th><th scope=col>End</th><th scope=col>TF</th><th scope=col>Biotype</th><th scope=col>Score</th><th scope=col>Strand</th><th scope=col>thickStart_ReMap</th><th scope=col>thickStop_ReMap</th><th scope=col>Reserved</th></tr>\n",
       "\t<tr><th scope=col>&lt;chr&gt;</th><th scope=col>&lt;dbl&gt;</th><th scope=col>&lt;dbl&gt;</th><th scope=col>&lt;chr&gt;</th><th scope=col>&lt;chr&gt;</th><th scope=col>&lt;dbl&gt;</th><th scope=col>&lt;chr&gt;</th><th scope=col>&lt;dbl&gt;</th><th scope=col>&lt;dbl&gt;</th><th scope=col>&lt;dbl&gt;</th></tr>\n",
       "</thead>\n",
       "<tbody>\n",
       "\t<tr><td>chr1</td><td>9899</td><td>10349</td><td>EP400 </td><td>K-562                     </td><td>1</td><td>.</td><td>10089</td><td>10090</td><td>102132184</td></tr>\n",
       "\t<tr><td>chr1</td><td>9901</td><td>10232</td><td>NCOA1 </td><td>K-562                     </td><td>1</td><td>.</td><td>10078</td><td>10079</td><td> 56224224</td></tr>\n",
       "\t<tr><td>chr1</td><td>9902</td><td>10328</td><td>ZBTB40</td><td>MCF-7,Hep-G2,K-562,GM12878</td><td>4</td><td>.</td><td>10093</td><td>10094</td><td>  7314946</td></tr>\n",
       "\t<tr><td>chr1</td><td>9905</td><td>10132</td><td>AFF1  </td><td>K-562                     </td><td>1</td><td>.</td><td>10088</td><td>10089</td><td>   113477</td></tr>\n",
       "\t<tr><td>chr1</td><td>9905</td><td>10288</td><td>ZNF184</td><td>K-562                     </td><td>1</td><td>.</td><td>10104</td><td>10105</td><td>157198124</td></tr>\n",
       "\t<tr><td>chr1</td><td>9907</td><td>10242</td><td>E2F8  </td><td>K-562                     </td><td>1</td><td>.</td><td>10090</td><td>10091</td><td>124224254</td></tr>\n",
       "</tbody>\n",
       "</table>\n"
      ],
      "text/latex": [
       "A tibble: 6 × 10\n",
       "\\begin{tabular}{llllllllll}\n",
       " Chrom & Start & End & TF & Biotype & Score & Strand & thickStart\\_ReMap & thickStop\\_ReMap & Reserved\\\\\n",
       " <chr> & <dbl> & <dbl> & <chr> & <chr> & <dbl> & <chr> & <dbl> & <dbl> & <dbl>\\\\\n",
       "\\hline\n",
       "\t chr1 & 9899 & 10349 & EP400  & K-562                      & 1 & . & 10089 & 10090 & 102132184\\\\\n",
       "\t chr1 & 9901 & 10232 & NCOA1  & K-562                      & 1 & . & 10078 & 10079 &  56224224\\\\\n",
       "\t chr1 & 9902 & 10328 & ZBTB40 & MCF-7,Hep-G2,K-562,GM12878 & 4 & . & 10093 & 10094 &   7314946\\\\\n",
       "\t chr1 & 9905 & 10132 & AFF1   & K-562                      & 1 & . & 10088 & 10089 &    113477\\\\\n",
       "\t chr1 & 9905 & 10288 & ZNF184 & K-562                      & 1 & . & 10104 & 10105 & 157198124\\\\\n",
       "\t chr1 & 9907 & 10242 & E2F8   & K-562                      & 1 & . & 10090 & 10091 & 124224254\\\\\n",
       "\\end{tabular}\n"
      ],
      "text/markdown": [
       "\n",
       "A tibble: 6 × 10\n",
       "\n",
       "| Chrom &lt;chr&gt; | Start &lt;dbl&gt; | End &lt;dbl&gt; | TF &lt;chr&gt; | Biotype &lt;chr&gt; | Score &lt;dbl&gt; | Strand &lt;chr&gt; | thickStart_ReMap &lt;dbl&gt; | thickStop_ReMap &lt;dbl&gt; | Reserved &lt;dbl&gt; |\n",
       "|---|---|---|---|---|---|---|---|---|---|\n",
       "| chr1 | 9899 | 10349 | EP400  | K-562                      | 1 | . | 10089 | 10090 | 102132184 |\n",
       "| chr1 | 9901 | 10232 | NCOA1  | K-562                      | 1 | . | 10078 | 10079 |  56224224 |\n",
       "| chr1 | 9902 | 10328 | ZBTB40 | MCF-7,Hep-G2,K-562,GM12878 | 4 | . | 10093 | 10094 |   7314946 |\n",
       "| chr1 | 9905 | 10132 | AFF1   | K-562                      | 1 | . | 10088 | 10089 |    113477 |\n",
       "| chr1 | 9905 | 10288 | ZNF184 | K-562                      | 1 | . | 10104 | 10105 | 157198124 |\n",
       "| chr1 | 9907 | 10242 | E2F8   | K-562                      | 1 | . | 10090 | 10091 | 124224254 |\n",
       "\n"
      ],
      "text/plain": [
       "  Chrom Start End   TF     Biotype                    Score Strand\n",
       "1 chr1  9899  10349 EP400  K-562                      1     .     \n",
       "2 chr1  9901  10232 NCOA1  K-562                      1     .     \n",
       "3 chr1  9902  10328 ZBTB40 MCF-7,Hep-G2,K-562,GM12878 4     .     \n",
       "4 chr1  9905  10132 AFF1   K-562                      1     .     \n",
       "5 chr1  9905  10288 ZNF184 K-562                      1     .     \n",
       "6 chr1  9907  10242 E2F8   K-562                      1     .     \n",
       "  thickStart_ReMap thickStop_ReMap Reserved \n",
       "1 10089            10090           102132184\n",
       "2 10078            10079            56224224\n",
       "3 10093            10094             7314946\n",
       "4 10088            10089              113477\n",
       "5 10104            10105           157198124\n",
       "6 10090            10091           124224254"
      ]
     },
     "metadata": {},
     "output_type": "display_data"
    }
   ],
   "source": [
    "### set file path\n",
    "fdiry = file.path(FD_RES, \"region\", \"annotation_remap2022\")\n",
    "fname = \"remap2022_K562_nr_macs2_hg38_v1_0.bed.gz\"\n",
    "fpath = file.path(fdiry, fname)\n",
    "\n",
    "### import data\n",
    "cnames = c(\"Chrom\", \"Start\", \"End\",\n",
    "           \"Name\", \"Score\", \"Strand\", \n",
    "           \"thickStart_ReMap\", \"thickStop_ReMap\", \"Reserved\",\n",
    "           \"Overlap\")\n",
    "dat = read_tsv(fpath, col_names = cnames, show_col_types = FALSE)\n",
    "dat = dat %>% separate(col = Name, into = c(\"TF\", \"Biotype\"), sep=\":\")\n",
    "\n",
    "### assign\n",
    "dat_peak_annot_remap = dat\n",
    "print(dim(dat))\n",
    "head(dat)"
   ]
  },
  {
   "cell_type": "code",
   "execution_count": 5,
   "id": "3cec14bd",
   "metadata": {},
   "outputs": [
    {
     "name": "stdout",
     "output_type": "stream",
     "text": [
      "[1] 413\n"
     ]
    }
   ],
   "source": [
    "dat = dat_peak_annot_remap\n",
    "print(length(unique(dat$TF)))"
   ]
  },
  {
   "cell_type": "code",
   "execution_count": 6,
   "id": "5e167f81",
   "metadata": {},
   "outputs": [
    {
     "name": "stdout",
     "output_type": "stream",
     "text": [
      "[1] 104505     10\n"
     ]
    },
    {
     "data": {
      "text/html": [
       "<table class=\"dataframe\">\n",
       "<caption>A tibble: 6 × 10</caption>\n",
       "<thead>\n",
       "\t<tr><th scope=col>Chrom</th><th scope=col>Start</th><th scope=col>End</th><th scope=col>TF</th><th scope=col>Biotype</th><th scope=col>Score</th><th scope=col>Strand</th><th scope=col>thickStart_ReMap</th><th scope=col>thickStop_ReMap</th><th scope=col>Reserved</th></tr>\n",
       "\t<tr><th scope=col>&lt;chr&gt;</th><th scope=col>&lt;dbl&gt;</th><th scope=col>&lt;dbl&gt;</th><th scope=col>&lt;chr&gt;</th><th scope=col>&lt;chr&gt;</th><th scope=col>&lt;dbl&gt;</th><th scope=col>&lt;chr&gt;</th><th scope=col>&lt;dbl&gt;</th><th scope=col>&lt;dbl&gt;</th><th scope=col>&lt;dbl&gt;</th></tr>\n",
       "</thead>\n",
       "<tbody>\n",
       "\t<tr><td>chr1</td><td>861820</td><td>861970</td><td>GATA1</td><td>K-562,CD34                             </td><td>4</td><td>.</td><td>861892</td><td>861893</td><td>2522828</td></tr>\n",
       "\t<tr><td>chr1</td><td>911271</td><td>911453</td><td>GATA1</td><td>K-562,HUDEP-2,erythroblast,CD34        </td><td>7</td><td>.</td><td>911374</td><td>911375</td><td>2522828</td></tr>\n",
       "\t<tr><td>chr1</td><td>916603</td><td>916888</td><td>GATA1</td><td>K-562,erythroid-progenitor,erythroblast</td><td>4</td><td>.</td><td>916711</td><td>916712</td><td>2522828</td></tr>\n",
       "\t<tr><td>chr1</td><td>918759</td><td>918943</td><td>GATA1</td><td>K-562                                  </td><td>1</td><td>.</td><td>918887</td><td>918888</td><td>2522828</td></tr>\n",
       "\t<tr><td>chr1</td><td>923546</td><td>923711</td><td>GATA1</td><td>K-562                                  </td><td>1</td><td>.</td><td>923600</td><td>923601</td><td>2522828</td></tr>\n",
       "\t<tr><td>chr1</td><td>936612</td><td>936808</td><td>GATA1</td><td>K-562                                  </td><td>1</td><td>.</td><td>936650</td><td>936651</td><td>2522828</td></tr>\n",
       "</tbody>\n",
       "</table>\n"
      ],
      "text/latex": [
       "A tibble: 6 × 10\n",
       "\\begin{tabular}{llllllllll}\n",
       " Chrom & Start & End & TF & Biotype & Score & Strand & thickStart\\_ReMap & thickStop\\_ReMap & Reserved\\\\\n",
       " <chr> & <dbl> & <dbl> & <chr> & <chr> & <dbl> & <chr> & <dbl> & <dbl> & <dbl>\\\\\n",
       "\\hline\n",
       "\t chr1 & 861820 & 861970 & GATA1 & K-562,CD34                              & 4 & . & 861892 & 861893 & 2522828\\\\\n",
       "\t chr1 & 911271 & 911453 & GATA1 & K-562,HUDEP-2,erythroblast,CD34         & 7 & . & 911374 & 911375 & 2522828\\\\\n",
       "\t chr1 & 916603 & 916888 & GATA1 & K-562,erythroid-progenitor,erythroblast & 4 & . & 916711 & 916712 & 2522828\\\\\n",
       "\t chr1 & 918759 & 918943 & GATA1 & K-562                                   & 1 & . & 918887 & 918888 & 2522828\\\\\n",
       "\t chr1 & 923546 & 923711 & GATA1 & K-562                                   & 1 & . & 923600 & 923601 & 2522828\\\\\n",
       "\t chr1 & 936612 & 936808 & GATA1 & K-562                                   & 1 & . & 936650 & 936651 & 2522828\\\\\n",
       "\\end{tabular}\n"
      ],
      "text/markdown": [
       "\n",
       "A tibble: 6 × 10\n",
       "\n",
       "| Chrom &lt;chr&gt; | Start &lt;dbl&gt; | End &lt;dbl&gt; | TF &lt;chr&gt; | Biotype &lt;chr&gt; | Score &lt;dbl&gt; | Strand &lt;chr&gt; | thickStart_ReMap &lt;dbl&gt; | thickStop_ReMap &lt;dbl&gt; | Reserved &lt;dbl&gt; |\n",
       "|---|---|---|---|---|---|---|---|---|---|\n",
       "| chr1 | 861820 | 861970 | GATA1 | K-562,CD34                              | 4 | . | 861892 | 861893 | 2522828 |\n",
       "| chr1 | 911271 | 911453 | GATA1 | K-562,HUDEP-2,erythroblast,CD34         | 7 | . | 911374 | 911375 | 2522828 |\n",
       "| chr1 | 916603 | 916888 | GATA1 | K-562,erythroid-progenitor,erythroblast | 4 | . | 916711 | 916712 | 2522828 |\n",
       "| chr1 | 918759 | 918943 | GATA1 | K-562                                   | 1 | . | 918887 | 918888 | 2522828 |\n",
       "| chr1 | 923546 | 923711 | GATA1 | K-562                                   | 1 | . | 923600 | 923601 | 2522828 |\n",
       "| chr1 | 936612 | 936808 | GATA1 | K-562                                   | 1 | . | 936650 | 936651 | 2522828 |\n",
       "\n"
      ],
      "text/plain": [
       "  Chrom Start  End    TF    Biotype                                 Score\n",
       "1 chr1  861820 861970 GATA1 K-562,CD34                              4    \n",
       "2 chr1  911271 911453 GATA1 K-562,HUDEP-2,erythroblast,CD34         7    \n",
       "3 chr1  916603 916888 GATA1 K-562,erythroid-progenitor,erythroblast 4    \n",
       "4 chr1  918759 918943 GATA1 K-562                                   1    \n",
       "5 chr1  923546 923711 GATA1 K-562                                   1    \n",
       "6 chr1  936612 936808 GATA1 K-562                                   1    \n",
       "  Strand thickStart_ReMap thickStop_ReMap Reserved\n",
       "1 .      861892           861893          2522828 \n",
       "2 .      911374           911375          2522828 \n",
       "3 .      916711           916712          2522828 \n",
       "4 .      918887           918888          2522828 \n",
       "5 .      923600           923601          2522828 \n",
       "6 .      936650           936651          2522828 "
      ]
     },
     "metadata": {},
     "output_type": "display_data"
    }
   ],
   "source": [
    "dat = dat_peak_annot_remap\n",
    "dat = dat %>% dplyr::filter(TF == \"GATA1\")\n",
    "\n",
    "print(dim(dat))\n",
    "head(dat)"
   ]
  },
  {
   "cell_type": "code",
   "execution_count": 7,
   "id": "e93b5acb",
   "metadata": {},
   "outputs": [
    {
     "name": "stdout",
     "output_type": "stream",
     "text": [
      "[1] 54414    10\n"
     ]
    },
    {
     "data": {
      "text/html": [
       "<table class=\"dataframe\">\n",
       "<caption>A tibble: 6 × 10</caption>\n",
       "<thead>\n",
       "\t<tr><th scope=col>Chrom</th><th scope=col>Start</th><th scope=col>End</th><th scope=col>TF</th><th scope=col>Biotype</th><th scope=col>Score</th><th scope=col>Strand</th><th scope=col>thickStart_ReMap</th><th scope=col>thickStop_ReMap</th><th scope=col>Reserved</th></tr>\n",
       "\t<tr><th scope=col>&lt;chr&gt;</th><th scope=col>&lt;dbl&gt;</th><th scope=col>&lt;dbl&gt;</th><th scope=col>&lt;chr&gt;</th><th scope=col>&lt;chr&gt;</th><th scope=col>&lt;dbl&gt;</th><th scope=col>&lt;chr&gt;</th><th scope=col>&lt;dbl&gt;</th><th scope=col>&lt;dbl&gt;</th><th scope=col>&lt;dbl&gt;</th></tr>\n",
       "</thead>\n",
       "<tbody>\n",
       "\t<tr><td>chr1</td><td>605370</td><td>605490</td><td>MYC</td><td>K-562                                                                                                                                                                                                          </td><td> 1</td><td>.</td><td>605398</td><td>605399</td><td>562856</td></tr>\n",
       "\t<tr><td>chr1</td><td>778550</td><td>778812</td><td>MYC</td><td>GM12878,Jurkat,MM1-S,K-562,BL41,SK-N-AS,MCF-7,endothelial,NCI-H2171,NB4,U2OS,U-87MG,P493-6                                                                                                                     </td><td>20</td><td>.</td><td>778678</td><td>778679</td><td>562856</td></tr>\n",
       "\t<tr><td>chr1</td><td>869807</td><td>870020</td><td>MYC</td><td>MDA-MB-453,Jurkat,MM1-S,K-562,NCI-H2171,U2OS,CD34,P493-6                                                                                                                                                       </td><td>11</td><td>.</td><td>869907</td><td>869908</td><td>562856</td></tr>\n",
       "\t<tr><td>chr1</td><td>904406</td><td>904539</td><td>MYC</td><td>MDA-MB-453,U2OS,K-562                                                                                                                                                                                          </td><td> 3</td><td>.</td><td>904459</td><td>904460</td><td>562856</td></tr>\n",
       "\t<tr><td>chr1</td><td>904666</td><td>904957</td><td>MYC</td><td>GEN2-2,K-562,BL41,NCI-H128,HFF,CUTLL1,P493-6,Raji,OVCAR-3,G-401,LNCaP,MDA-MB-453,Jurkat,MCF-7,HT-1080,U2OS,HeLa-S3,HCT-116,A-549,MM1-S,MCF-10A,BJ,NCI-H2171,endothelial,NB4,MIA-PaCa-2,U-87MG,SK-N-SH,WA01,CD34</td><td>62</td><td>.</td><td>904814</td><td>904815</td><td>562856</td></tr>\n",
       "\t<tr><td>chr1</td><td>906851</td><td>907087</td><td>MYC</td><td>MDA-MB-231,P493-6,K-562                                                                                                                                                                                        </td><td> 7</td><td>.</td><td>906998</td><td>906999</td><td>562856</td></tr>\n",
       "</tbody>\n",
       "</table>\n"
      ],
      "text/latex": [
       "A tibble: 6 × 10\n",
       "\\begin{tabular}{llllllllll}\n",
       " Chrom & Start & End & TF & Biotype & Score & Strand & thickStart\\_ReMap & thickStop\\_ReMap & Reserved\\\\\n",
       " <chr> & <dbl> & <dbl> & <chr> & <chr> & <dbl> & <chr> & <dbl> & <dbl> & <dbl>\\\\\n",
       "\\hline\n",
       "\t chr1 & 605370 & 605490 & MYC & K-562                                                                                                                                                                                                           &  1 & . & 605398 & 605399 & 562856\\\\\n",
       "\t chr1 & 778550 & 778812 & MYC & GM12878,Jurkat,MM1-S,K-562,BL41,SK-N-AS,MCF-7,endothelial,NCI-H2171,NB4,U2OS,U-87MG,P493-6                                                                                                                      & 20 & . & 778678 & 778679 & 562856\\\\\n",
       "\t chr1 & 869807 & 870020 & MYC & MDA-MB-453,Jurkat,MM1-S,K-562,NCI-H2171,U2OS,CD34,P493-6                                                                                                                                                        & 11 & . & 869907 & 869908 & 562856\\\\\n",
       "\t chr1 & 904406 & 904539 & MYC & MDA-MB-453,U2OS,K-562                                                                                                                                                                                           &  3 & . & 904459 & 904460 & 562856\\\\\n",
       "\t chr1 & 904666 & 904957 & MYC & GEN2-2,K-562,BL41,NCI-H128,HFF,CUTLL1,P493-6,Raji,OVCAR-3,G-401,LNCaP,MDA-MB-453,Jurkat,MCF-7,HT-1080,U2OS,HeLa-S3,HCT-116,A-549,MM1-S,MCF-10A,BJ,NCI-H2171,endothelial,NB4,MIA-PaCa-2,U-87MG,SK-N-SH,WA01,CD34 & 62 & . & 904814 & 904815 & 562856\\\\\n",
       "\t chr1 & 906851 & 907087 & MYC & MDA-MB-231,P493-6,K-562                                                                                                                                                                                         &  7 & . & 906998 & 906999 & 562856\\\\\n",
       "\\end{tabular}\n"
      ],
      "text/markdown": [
       "\n",
       "A tibble: 6 × 10\n",
       "\n",
       "| Chrom &lt;chr&gt; | Start &lt;dbl&gt; | End &lt;dbl&gt; | TF &lt;chr&gt; | Biotype &lt;chr&gt; | Score &lt;dbl&gt; | Strand &lt;chr&gt; | thickStart_ReMap &lt;dbl&gt; | thickStop_ReMap &lt;dbl&gt; | Reserved &lt;dbl&gt; |\n",
       "|---|---|---|---|---|---|---|---|---|---|\n",
       "| chr1 | 605370 | 605490 | MYC | K-562                                                                                                                                                                                                           |  1 | . | 605398 | 605399 | 562856 |\n",
       "| chr1 | 778550 | 778812 | MYC | GM12878,Jurkat,MM1-S,K-562,BL41,SK-N-AS,MCF-7,endothelial,NCI-H2171,NB4,U2OS,U-87MG,P493-6                                                                                                                      | 20 | . | 778678 | 778679 | 562856 |\n",
       "| chr1 | 869807 | 870020 | MYC | MDA-MB-453,Jurkat,MM1-S,K-562,NCI-H2171,U2OS,CD34,P493-6                                                                                                                                                        | 11 | . | 869907 | 869908 | 562856 |\n",
       "| chr1 | 904406 | 904539 | MYC | MDA-MB-453,U2OS,K-562                                                                                                                                                                                           |  3 | . | 904459 | 904460 | 562856 |\n",
       "| chr1 | 904666 | 904957 | MYC | GEN2-2,K-562,BL41,NCI-H128,HFF,CUTLL1,P493-6,Raji,OVCAR-3,G-401,LNCaP,MDA-MB-453,Jurkat,MCF-7,HT-1080,U2OS,HeLa-S3,HCT-116,A-549,MM1-S,MCF-10A,BJ,NCI-H2171,endothelial,NB4,MIA-PaCa-2,U-87MG,SK-N-SH,WA01,CD34 | 62 | . | 904814 | 904815 | 562856 |\n",
       "| chr1 | 906851 | 907087 | MYC | MDA-MB-231,P493-6,K-562                                                                                                                                                                                         |  7 | . | 906998 | 906999 | 562856 |\n",
       "\n"
      ],
      "text/plain": [
       "  Chrom Start  End    TF \n",
       "1 chr1  605370 605490 MYC\n",
       "2 chr1  778550 778812 MYC\n",
       "3 chr1  869807 870020 MYC\n",
       "4 chr1  904406 904539 MYC\n",
       "5 chr1  904666 904957 MYC\n",
       "6 chr1  906851 907087 MYC\n",
       "  Biotype                                                                                                                                                                                                        \n",
       "1 K-562                                                                                                                                                                                                          \n",
       "2 GM12878,Jurkat,MM1-S,K-562,BL41,SK-N-AS,MCF-7,endothelial,NCI-H2171,NB4,U2OS,U-87MG,P493-6                                                                                                                     \n",
       "3 MDA-MB-453,Jurkat,MM1-S,K-562,NCI-H2171,U2OS,CD34,P493-6                                                                                                                                                       \n",
       "4 MDA-MB-453,U2OS,K-562                                                                                                                                                                                          \n",
       "5 GEN2-2,K-562,BL41,NCI-H128,HFF,CUTLL1,P493-6,Raji,OVCAR-3,G-401,LNCaP,MDA-MB-453,Jurkat,MCF-7,HT-1080,U2OS,HeLa-S3,HCT-116,A-549,MM1-S,MCF-10A,BJ,NCI-H2171,endothelial,NB4,MIA-PaCa-2,U-87MG,SK-N-SH,WA01,CD34\n",
       "6 MDA-MB-231,P493-6,K-562                                                                                                                                                                                        \n",
       "  Score Strand thickStart_ReMap thickStop_ReMap Reserved\n",
       "1  1    .      605398           605399          562856  \n",
       "2 20    .      778678           778679          562856  \n",
       "3 11    .      869907           869908          562856  \n",
       "4  3    .      904459           904460          562856  \n",
       "5 62    .      904814           904815          562856  \n",
       "6  7    .      906998           906999          562856  "
      ]
     },
     "metadata": {},
     "output_type": "display_data"
    }
   ],
   "source": [
    "dat = dat_peak_annot_remap\n",
    "dat = dat %>% dplyr::filter(TF == \"MYC\")\n",
    "\n",
    "print(dim(dat))\n",
    "head(dat)"
   ]
  },
  {
   "cell_type": "code",
   "execution_count": 10,
   "id": "bce6dda6",
   "metadata": {},
   "outputs": [],
   "source": [
    "dat = dat_peak_annot_remap\n",
    "dat = dat %>% dplyr::filter(TF == \"GATA1\")\n",
    "\n",
    "fdiry = file.path(FD_RES, \"region\", \"annotation_remap2022\")\n",
    "fname = \"remap2022_K562_nr_macs2_hg38_v1_0.GATA1.tsv\"\n",
    "fpath = file.path(fdiry, fname)\n",
    "\n",
    "write_tsv(dat, file = fpath)"
   ]
  },
  {
   "cell_type": "code",
   "execution_count": 11,
   "id": "ffe442ea",
   "metadata": {},
   "outputs": [],
   "source": [
    "dat = dat_peak_annot_remap\n",
    "dat = dat %>% dplyr::filter(TF == \"MYC\")\n",
    "\n",
    "fdiry = file.path(FD_RES, \"region\", \"annotation_remap2022\")\n",
    "fname = \"remap2022_K562_nr_macs2_hg38_v1_0.MYC.tsv\"\n",
    "fpath = file.path(fdiry, fname)\n",
    "\n",
    "write_tsv(dat, file = fpath)"
   ]
  },
  {
   "cell_type": "code",
   "execution_count": null,
   "id": "c5d458ac",
   "metadata": {},
   "outputs": [],
   "source": []
  }
 ],
 "metadata": {
  "kernelspec": {
   "display_name": "R",
   "language": "R",
   "name": "ir"
  },
  "language_info": {
   "codemirror_mode": "r",
   "file_extension": ".r",
   "mimetype": "text/x-r-source",
   "name": "R",
   "pygments_lexer": "r",
   "version": "4.2.2"
  }
 },
 "nbformat": 4,
 "nbformat_minor": 5
}
