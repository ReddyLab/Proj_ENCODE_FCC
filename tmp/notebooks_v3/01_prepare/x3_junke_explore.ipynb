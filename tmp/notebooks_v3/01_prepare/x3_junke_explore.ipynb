{
 "cells": [
  {
   "cell_type": "code",
   "execution_count": 1,
   "id": "31a8e3cd-0041-4882-9828-1dcf85e2843a",
   "metadata": {},
   "outputs": [
    {
     "name": "stdout",
     "output_type": "stream",
     "text": [
      "You are on Duke Server: HARDAC\n",
      "BASE DIRECTORY:     /data/reddylab/Kuei\n",
      "WORK DIRECTORY:     /data/reddylab/Kuei/out\n",
      "CODE DIRECTORY:     /data/reddylab/Kuei/code\n",
      "SING DIRECTORY:     /data/reddylab/Kuei/singularity\n",
      "PATH OF SOURCE:     /data/reddylab/Kuei/source\n",
      "PATH OF EXECUTABLE: /data/reddylab/Kuei/bin\n",
      "PATH OF ANNOTATION: /data/reddylab/Kuei/annotation\n",
      "PATH OF PROJECT:    /data/reddylab/Kuei/code/Proj_CombEffect_ENCODE_FCC\n",
      "PATH OF RESULTS:    /data/reddylab/Kuei/out/proj_combeffect_encode_fcc\n",
      "\n"
     ]
    }
   ],
   "source": [
    "### set env\n",
    "source ../config/config_duke.sh\n",
    "show_env"
   ]
  },
  {
   "cell_type": "code",
   "execution_count": 2,
   "id": "6723bca9-970d-4d32-90fc-db2e31822b52",
   "metadata": {},
   "outputs": [
    {
     "name": "stdout",
     "output_type": "stream",
     "text": [
      "\u001b[0m\u001b[38;5;27mATAC_STARR_deep\u001b[0m  \u001b[38;5;27mWHG_STARR_seq_TR\u001b[0m\n"
     ]
    }
   ],
   "source": [
    "FDIRY=${FD_RES}/source/annotation_enhancer_junke\n",
    "ls ${FDIRY}"
   ]
  },
  {
   "cell_type": "code",
   "execution_count": 6,
   "id": "cec47bd7-13f9-4657-b9fe-961c4713185e",
   "metadata": {},
   "outputs": [
    {
     "name": "stdout",
     "output_type": "stream",
     "text": [
      "\u001b[0m\u001b[38;5;34mmerged_sig_down_in_each_orientation.bed.gz\u001b[0m\n",
      "\u001b[38;5;34mmerged_sig_up_in_each_orientation.bed.gz\u001b[0m\n",
      "\u001b[38;5;34morientation_independent_up_regulated_peaks_intersection.bed.gz\u001b[0m\n",
      "\u001b[38;5;34morientation_independent_up_regulated_peaks_union.bed.gz\u001b[0m\n",
      "\u001b[38;5;34msize_constrained_merged_sig_down_in_each_orientation.bed.gz\u001b[0m\n",
      "\u001b[38;5;34msize_constrained_merged_sig_up_in_each_orientation.bed.gz\u001b[0m\n",
      "\u001b[38;5;34msize_constrained_orientation_independent_up_regulated_peaks_intersection.bed.gz\u001b[0m\n",
      "\u001b[38;5;34msize_constrained_orientation_independent_up_regulated_peaks_union.bed.gz\u001b[0m\n"
     ]
    }
   ],
   "source": [
    "FDIRY=${FD_RES}/source/annotation_enhancer_junke/ATAC_STARR_deep\n",
    "FDIRY=${FDIRY}/deep_ATAC_STARR_seq.full_overlap_30bp_bin_10bp_stepSize\n",
    "FDIRY=${FDIRY}/processed/merged_peak\n",
    "ls ${FDIRY}"
   ]
  },
  {
   "cell_type": "code",
   "execution_count": 9,
   "id": "b2f25aae-fcad-4bba-93b6-dcdeeac84700",
   "metadata": {},
   "outputs": [
    {
     "name": "stdout",
     "output_type": "stream",
     "text": [
      "chr1\t115560\t115690\t.\t1.4299846052688818\t+\n",
      "chr1\t115570\t115750\t.\t1.4670052888963494\t-\n",
      "chr1\t115860\t115890\t.\t1.06561718178963\t-\n",
      "chr1\t605250\t605300\t.\t1.6075798929781968\t+\n",
      "chr1\t605280\t605340\t.\t1.6388744824927375\t-\n",
      "chr1\t605330\t605370\t.\t1.4752118670844752\t+\n",
      "chr1\t605350\t605480\t.\t1.3863005833180069\t-\n",
      "chr1\t605440\t605500\t.\t1.28126332971119\t+\n",
      "chr1\t778370\t778500\t.\t1.17418770203714\t-\n",
      "chr1\t778380\t778870\t.\t1.7849548207163675\t+\n"
     ]
    }
   ],
   "source": [
    "FDIRY=${FD_RES}/source/annotation_enhancer_junke/ATAC_STARR_deep\n",
    "FDIRY=${FDIRY}/deep_ATAC_STARR_seq.full_overlap_30bp_bin_10bp_stepSize\n",
    "FDIRY=${FDIRY}/processed/merged_peak\n",
    "FNAME=merged_sig_up_in_each_orientation.bed.gz\n",
    "FPATH=${FDIRY}/${FNAME}\n",
    "\n",
    "zcat ${FPATH} | head | cut -f 1-6"
   ]
  },
  {
   "cell_type": "code",
   "execution_count": 12,
   "id": "37fa3055-0b5d-4cd9-a68b-4c1c973ef598",
   "metadata": {},
   "outputs": [
    {
     "name": "stdout",
     "output_type": "stream",
     "text": [
      "chr1\t115570\t115690\n",
      "chr1\t778380\t778500\n",
      "chr1\t778600\t778870\n",
      "chr1\t1013020\t1013700\n",
      "chr1\t1022020\t1022150\n",
      "chr1\t1064240\t1064510\n",
      "chr1\t1344890\t1345080\n",
      "chr1\t1375300\t1375460\n",
      "chr1\t1375610\t1375750\n",
      "chr1\t1574930\t1575180\n"
     ]
    }
   ],
   "source": [
    "FDIRY=${FD_RES}/source/annotation_enhancer_junke/ATAC_STARR_deep\n",
    "FDIRY=${FDIRY}/deep_ATAC_STARR_seq.full_overlap_30bp_bin_10bp_stepSize\n",
    "FDIRY=${FDIRY}/processed/merged_peak\n",
    "FNAME=size_constrained_orientation_independent_up_regulated_peaks_union.bed.gz\n",
    "FPATH=${FDIRY}/${FNAME}\n",
    "\n",
    "zcat ${FPATH} | head | cut -f 1-3"
   ]
  },
  {
   "cell_type": "code",
   "execution_count": null,
   "id": "f92b4c64-9cc4-438d-8e00-cf899eb9de6a",
   "metadata": {},
   "outputs": [],
   "source": []
  }
 ],
 "metadata": {
  "kernelspec": {
   "display_name": "Bash",
   "language": "bash",
   "name": "bash"
  },
  "language_info": {
   "codemirror_mode": "shell",
   "file_extension": ".sh",
   "mimetype": "text/x-sh",
   "name": "bash"
  }
 },
 "nbformat": 4,
 "nbformat_minor": 5
}
