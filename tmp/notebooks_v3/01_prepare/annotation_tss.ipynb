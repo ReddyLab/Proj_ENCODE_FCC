{
 "cells": [
  {
   "cell_type": "code",
   "execution_count": 11,
   "id": "facff48d-e5eb-4dbf-adb4-2e94ec2d0f5f",
   "metadata": {},
   "outputs": [
    {
     "name": "stdout",
     "output_type": "stream",
     "text": [
      "You are on Duke Server: HARDAC\n",
      "BASE DIRECTORY:     /data/reddylab/Kuei\n",
      "WORK DIRECTORY:     /data/reddylab/Kuei/out\n",
      "CODE DIRECTORY:     /data/reddylab/Kuei/code\n",
      "SING DIRECTORY:     /data/reddylab/Kuei/singularity\n",
      "PATH OF SOURCE:     /data/reddylab/Kuei/source\n",
      "PATH OF EXECUTABLE: /data/reddylab/Kuei/bin\n",
      "PATH OF ANNOTATION: /data/reddylab/Kuei/annotation\n",
      "PATH OF PROJECT:    /data/reddylab/Kuei/code/Proj_CombEffect_ENCODE_FCC\n",
      "PATH OF RESULTS:    /data/reddylab/Kuei/out/proj_combeffect_encode_fcc\n",
      "\n"
     ]
    }
   ],
   "source": [
    "### set env\n",
    "source ../config/config_duke.sh\n",
    "show_env"
   ]
  },
  {
   "cell_type": "code",
   "execution_count": 12,
   "id": "9eca85a6-28fc-46a8-a708-9358ce8a0c7a",
   "metadata": {},
   "outputs": [],
   "source": [
    "FPATH=/data/reddylab/Reference_Data/Gencode/v42/gencode.v42.basic.annotation.tss.bed"
   ]
  },
  {
   "cell_type": "code",
   "execution_count": 13,
   "id": "fdf34c7c-70d9-47cf-9b8f-1ec51f4a0d42",
   "metadata": {},
   "outputs": [
    {
     "name": "stdout",
     "output_type": "stream",
     "text": [
      "gencode.v42.basic.annotation.genes.bed  gencode.v42.basic.annotation.tss.bed\n",
      "\u001b[0m\u001b[38;5;9mgencode.v42.basic.annotation.gtf.gz\u001b[0m\n"
     ]
    }
   ],
   "source": [
    "ls /data/reddylab/Reference_Data/Gencode/v42"
   ]
  },
  {
   "cell_type": "code",
   "execution_count": 15,
   "id": "b85173af-8872-4590-9f7b-f6c185b6bec7",
   "metadata": {},
   "outputs": [
    {
     "name": "stdout",
     "output_type": "stream",
     "text": [
      "     1    chr1      11868     11869     ENSG00000290825.1   .         +         DDX11L2   2         overlaps_pseudogene\n",
      "     2    chr1      12009     12010     ENSG00000223972.6   .         +         DDX11L1   2         HGNC:37102\n",
      "     3    chr1      29570     29571     ENSG00000227232.5   .         -         WASH7P    2         HGNC:38034\n",
      "     4    chr1      17436     17437     ENSG00000278267.1   .         -         MIR6859-1 3         HGNC:50039\n",
      "     5    chr1      29553     29554     ENSG00000243485.5   .         +         MIR1302-2HG         2         HGNC:52482\n",
      "     6    chr1      30365     30366     ENSG00000284332.1   .         +         MIR1302-2 3         HGNC:35294\n",
      "     7    chr1      36081     36082     ENSG00000237613.2   .         -         FAM138A   2         HGNC:32334\n",
      "     8    chr1      52472     52473     ENSG00000268020.3   .         +         OR4G4P    2         HGNC:14822\n",
      "     9    chr1      57597     57598     ENSG00000290826.1   .         +         ENSG00000290826     2         overlaps_pseudogene\n",
      "    10    chr1      62948     62949     ENSG00000240361.3   .         +         OR4G11P   2         HGNC:31276\n",
      "    11    chr1      65418     65419     ENSG00000186092.7   .         +         OR4F5     2         HGNC:14825\n",
      "    12    chr1      133723    133724    ENSG00000238009.6   .         -         ENSG00000238009     2         overlapping_locus\n",
      "    13    chr1      91105     91106     ENSG00000239945.1   .         -         ENSG00000239945     2         overlapping_locus\n",
      "    14    chr1      131024    131025    ENSG00000233750.3   .         +         CICP27    1         HGNC:48835\n",
      "    15    chr1      135895    135896    ENSG00000268903.1   .         -         ENSG00000268903     2         OTTHUMG00000182518.2\n",
      "    16    chr1      137965    137966    ENSG00000269981.1   .         -         ENSG00000269981     2         OTTHUMG00000182738.2\n",
      "    17    chr1      140339    140340    ENSG00000239906.1   .         -         ENSG00000239906     2         OTTHUMG00000002481.1\n",
      "    18    chr1      173862    173863    ENSG00000241860.7   .         -         ENSG00000241860     2         ncRNA_host\n",
      "    19    chr1      157887    157888    ENSG00000222623.1   .         -         RNU6-1100P          3         HGNC:48063\n",
      "    20    chr1      160445    160446    ENSG00000241599.1   .         +         ENSG00000241599     2         OTTHUMG00000002525.1\n",
      "    21    chr1      182695    182696    ENSG00000279928.2   .         +         DDX11L17  2         HGNC:55080\n",
      "    22    chr1      195411    195412    ENSG00000279457.4   .         -         WASH9P    2         HGNC:53981\n",
      "    23    chr1      187958    187959    ENSG00000273874.1   .         -         MIR6859-2 3         HGNC:49954\n",
      "    24    chr1      359681    359682    ENSG00000228463.10  .         -         ENSG00000228463     1         pseudo_consens\n",
      "    25    chr1      266854    266855    ENSG00000286448.1   .         +         ENSG00000286448     2         OTTHUMG00000194680.1\n",
      "    26    chr1      348366    348367    ENSG00000236679.2   .         -         RPL23AP24 1         HGNC:36176\n",
      "    27    chr1      358856    358857    ENSG00000236601.2   .         +         ENSG00000236601     2         OTTHUMG00000002855.3\n",
      "    28    chr1      522928    522929    ENSG00000290385.1   .         -         ENSG00000290385     2         ncRNA_host\n",
      "    29    chr1      439869    439870    ENSG00000269732.1   .         +         WBP1LP7   1         HGNC:43955\n",
      "    30    chr1      451678    451679    ENSG00000284733.2   .         -         OR4F29    2         HGNC:31275\n",
      "    31    chr1      485208    485209    ENSG00000237094.13  .         -         ENSG00000237094     2         OTTHUMG00000002857.7\n",
      "    32    chr1      487100    487101    ENSG00000233653.3   .         +         CICP7     1         HGNC:37756\n",
      "    33    chr1      493241    493242    ENSG00000250575.1   .         -         ENSG00000250575     2         overlapping_locus\n",
      "    34    chr1      516479    516480    ENSG00000278757.1   .         -         U6        3\n",
      "    35    chr1      827796    827797    ENSG00000230021.10  .         -         ENSG00000230021     2         OTTHUMG00000191652.4\n",
      "    36    chr1      587628    587629    ENSG00000235146.2   .         +         ENSG00000235146     2         OTTHUMG00000002329.1\n",
      "    37    chr1      629061    629062    ENSG00000225972.1   .         +         MTND1P23  2         HGNC:42092\n",
      "    38    chr1      629639    629640    ENSG00000225630.1   .         +         MTND2P28  2         HGNC:42129\n",
      "    39    chr1      631073    631074    ENSG00000237973.1   .         +         MTCO1P12  2         HGNC:52014\n",
      "    40    chr1      632413    632414    ENSG00000278791.1   .         -         ENSG00000278791     3\n",
      "    41    chr1      632756    632757    ENSG00000229344.1   .         +         MTCO2P12  2         HGNC:52028\n",
      "    42    chr1      633534    633535    ENSG00000240409.1   .         +         MTATP8P1  2         HGNC:44571\n",
      "    43    chr1      633695    633696    ENSG00000248527.1   .         +         MTATP6P1  2         HGNC:44575\n",
      "    44    chr1      634375    634376    ENSG00000198744.5   .         +         MTCO3P12  2         HGNC:52042\n",
      "    45    chr1      674841    674842    ENSG00000268663.1   .         +         WBP1LP6   1         HGNC:43956\n",
      "    46    chr1      686654    686655    ENSG00000284662.2   .         -         OR4F16    2         HGNC:15079\n",
      "    47    chr1      722091    722092    ENSG00000229376.3   .         +         CICP3     1         HGNC:37742\n",
      "    48    chr1      778688    778689    ENSG00000291215.1   .         -         ENSG00000291215     2         ncRNA_host\n",
      "    49    chr1      758336    758337    ENSG00000223181.1   .         -         RNU6-1199P          3         HGNC:48162\n",
      "    50    chr1      760910    760911    ENSG00000229905.1   .         +         ENSG00000229905     2         OTTHUMG00000002408.1\n"
     ]
    }
   ],
   "source": [
    "cat -n ${FPATH} | head -n 50 | expand -t 10"
   ]
  },
  {
   "cell_type": "code",
   "execution_count": 8,
   "id": "10d14a3c-43bf-40e1-a55a-9149202b06b5",
   "metadata": {},
   "outputs": [
    {
     "name": "stdout",
     "output_type": "stream",
     "text": [
      "\u001b[0m\u001b[38;5;27mannotation_cCREs\u001b[0m     \u001b[38;5;27mannotation_motif\u001b[0m      \u001b[38;5;27mKS91_K562_ASTARRseq_peak_macs\u001b[0m\n",
      "\u001b[38;5;27mannotation_genecode\u001b[0m  \u001b[38;5;27mannotation_remap2022\u001b[0m\n"
     ]
    }
   ],
   "source": [
    "ls ~/Kuei/out/proj_combeffect_encode_fcc/region"
   ]
  },
  {
   "cell_type": "code",
   "execution_count": 16,
   "id": "c0cebcb8-c657-4fe8-8142-cf8f3b78e586",
   "metadata": {},
   "outputs": [
    {
     "name": "stdout",
     "output_type": "stream",
     "text": [
      "chr1\t11868\t11869\tENSG00000290825.1\t.\t+\tDDX11L2\n",
      "chr1\t12009\t12010\tENSG00000223972.6\t.\t+\tDDX11L1\n",
      "chr1\t29570\t29571\tENSG00000227232.5\t.\t-\tWASH7P\n",
      "chr1\t17436\t17437\tENSG00000278267.1\t.\t-\tMIR6859-1\n",
      "chr1\t29553\t29554\tENSG00000243485.5\t.\t+\tMIR1302-2HG\n",
      "chr1\t30365\t30366\tENSG00000284332.1\t.\t+\tMIR1302-2\n",
      "chr1\t36081\t36082\tENSG00000237613.2\t.\t-\tFAM138A\n",
      "chr1\t52472\t52473\tENSG00000268020.3\t.\t+\tOR4G4P\n",
      "chr1\t57597\t57598\tENSG00000290826.1\t.\t+\tENSG00000290826\n",
      "chr1\t62948\t62949\tENSG00000240361.3\t.\t+\tOR4G11P\n"
     ]
    }
   ],
   "source": [
    "FPATH=/data/reddylab/Reference_Data/Gencode/v42/gencode.v42.basic.annotation.tss.bed\n",
    "cat ${FPATH} | cut -f1-7 | head"
   ]
  },
  {
   "cell_type": "code",
   "execution_count": 17,
   "id": "dc5fbf0c-ff43-4869-a29c-690a3a773722",
   "metadata": {},
   "outputs": [
    {
     "name": "stdout",
     "output_type": "stream",
     "text": [
      "/home/kk319/Kuei/out/proj_combeffect_encode_fcc/region/annotation_gencode/gencode.v42.basic.annotation.tss.bed\n",
      "chr1\t11868\t11869\tENSG00000290825.1\t.\t+\tDDX11L2\n",
      "chr1\t12009\t12010\tENSG00000223972.6\t.\t+\tDDX11L1\n",
      "chr1\t29570\t29571\tENSG00000227232.5\t.\t-\tWASH7P\n",
      "chr1\t17436\t17437\tENSG00000278267.1\t.\t-\tMIR6859-1\n",
      "chr1\t29553\t29554\tENSG00000243485.5\t.\t+\tMIR1302-2HG\n",
      "chr1\t30365\t30366\tENSG00000284332.1\t.\t+\tMIR1302-2\n",
      "chr1\t36081\t36082\tENSG00000237613.2\t.\t-\tFAM138A\n",
      "chr1\t52472\t52473\tENSG00000268020.3\t.\t+\tOR4G4P\n",
      "chr1\t57597\t57598\tENSG00000290826.1\t.\t+\tENSG00000290826\n",
      "chr1\t62948\t62949\tENSG00000240361.3\t.\t+\tOR4G11P\n"
     ]
    }
   ],
   "source": [
    "FP_INP=/data/reddylab/Reference_Data/Gencode/v42/gencode.v42.basic.annotation.tss.bed\n",
    "\n",
    "FD_OUT=~/Kuei/out/proj_combeffect_encode_fcc/region/annotation_gencode\n",
    "FN_OUT=gencode.v42.basic.annotation.tss.bed\n",
    "FP_OUT=${FD_OUT}/${FN_OUT}\n",
    "\n",
    "cat  ${FP_INP} | cut -f1-7 > ${FP_OUT}\n",
    "echo ${FP_OUT}\n",
    "head ${FP_OUT}"
   ]
  },
  {
   "cell_type": "code",
   "execution_count": null,
   "id": "96def4d3-ac31-4c07-b519-fd65974773cb",
   "metadata": {},
   "outputs": [],
   "source": []
  }
 ],
 "metadata": {
  "kernelspec": {
   "display_name": "Bash",
   "language": "bash",
   "name": "bash"
  },
  "language_info": {
   "codemirror_mode": "shell",
   "file_extension": ".sh",
   "mimetype": "text/x-sh",
   "name": "bash"
  }
 },
 "nbformat": 4,
 "nbformat_minor": 5
}
