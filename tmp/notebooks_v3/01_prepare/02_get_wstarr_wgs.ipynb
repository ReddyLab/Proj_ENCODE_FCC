{
 "cells": [
  {
   "cell_type": "markdown",
   "id": "b5d49132-b01f-4e2a-9a7a-0c4090bec756",
   "metadata": {},
   "source": [
    "**Set environment**"
   ]
  },
  {
   "cell_type": "code",
   "execution_count": 1,
   "id": "052cbadb-9590-4d11-aaa9-86d2109155d1",
   "metadata": {},
   "outputs": [
    {
     "name": "stdout",
     "output_type": "stream",
     "text": [
      "You are on Duke Server: HARDAC\n",
      "BASE DIRECTORY:     /data/reddylab/Kuei\n",
      "WORK DIRECTORY:     /data/reddylab/Kuei/out\n",
      "CODE DIRECTORY:     /data/reddylab/Kuei/code\n",
      "SING DIRECTORY:     /data/reddylab/Kuei/singularity\n",
      "PATH OF SOURCE:     /data/reddylab/Kuei/source\n",
      "PATH OF EXECUTABLE: /data/reddylab/Kuei/bin\n",
      "PATH OF ANNOTATION: /data/reddylab/Kuei/annotation\n",
      "PATH OF PROJECT:    /data/reddylab/Kuei/code/Proj_CombEffect_ENCODE_FCC\n",
      "PATH OF RESULTS:    /data/reddylab/Kuei/out/proj_combeffect_encode_fcc\n",
      "\n"
     ]
    }
   ],
   "source": [
    "source ../config/config_duke.sh\n",
    "show_env"
   ]
  },
  {
   "cell_type": "markdown",
   "id": "93c79769-dcbe-4ba7-a7bf-49f05d1aaf96",
   "metadata": {
    "tags": []
   },
   "source": [
    "## WSTARR WGS files\n",
    "```\n",
    "FD_WGS_WSTARR=/data/reddylab/Alex/encode4_duke/data/starr_seq/fragments\n",
    "FP_WGS_WSTARR=($(ls ${FD_WGS_WSTARR}/*.fragments.counts.txt.gz))\n",
    "```"
   ]
  },
  {
   "cell_type": "code",
   "execution_count": 2,
   "id": "c6fb408b-0b59-4f17-8c94-0d1dbb61a444",
   "metadata": {},
   "outputs": [
    {
     "name": "stdout",
     "output_type": "stream",
     "text": [
      "/data/reddylab/Alex/encode4_duke/data/starr_seq/fragments\n"
     ]
    }
   ],
   "source": [
    "echo ${FD_WGS_WSTARR}"
   ]
  },
  {
   "cell_type": "code",
   "execution_count": 3,
   "id": "de5387fa-7d9d-405c-92b3-ff92245109df",
   "metadata": {},
   "outputs": [
    {
     "name": "stdout",
     "output_type": "stream",
     "text": [
      "\u001b[0m\u001b[38;5;27mA001_K562_wstarrseq_fragments\u001b[0m\n",
      "\u001b[38;5;27mA001_K562_wstarrseq_fragments_wgs\u001b[0m\n",
      "\u001b[38;5;27mannotation_cCREs\u001b[0m\n",
      "\u001b[38;5;27mannotation_remap2022\u001b[0m\n",
      "\u001b[38;5;27mKS91_K562_astarrseq_fragments_220510\u001b[0m\n",
      "\u001b[38;5;27mKS91_K562_astarrseq_fragments_wgs\u001b[0m\n",
      "\u001b[38;5;27mKS91_K562_astarrseq_peak_macs\u001b[0m\n",
      "\u001b[38;5;27mMPRA\u001b[0m\n",
      "Readme.md\n",
      "\u001b[38;5;27mtmp\u001b[0m\n"
     ]
    }
   ],
   "source": [
    "ls -1 ${FD_RES}/source"
   ]
  },
  {
   "cell_type": "code",
   "execution_count": 4,
   "id": "fd1a2287-e215-4feb-b8b6-7f7791bfb4dc",
   "metadata": {},
   "outputs": [
    {
     "name": "stdout",
     "output_type": "stream",
     "text": [
      "/data/reddylab/Alex/encode4_duke/data/starr_seq/fragments/A001-input-K562-rep1.masked.dedup.fragments.counts.txt.gz\n",
      "A001-input-K562-rep1.masked.dedup.fragments.counts.txt.gz\n",
      "\n",
      "/data/reddylab/Alex/encode4_duke/data/starr_seq/fragments/A001-input-K562-rep2.masked.dedup.fragments.counts.txt.gz\n",
      "A001-input-K562-rep2.masked.dedup.fragments.counts.txt.gz\n",
      "\n",
      "/data/reddylab/Alex/encode4_duke/data/starr_seq/fragments/A001-input-K562-rep3.masked.dedup.fragments.counts.txt.gz\n",
      "A001-input-K562-rep3.masked.dedup.fragments.counts.txt.gz\n",
      "\n",
      "/data/reddylab/Alex/encode4_duke/data/starr_seq/fragments/A001-input-K562-rep4.masked.dedup.fragments.counts.txt.gz\n",
      "A001-input-K562-rep4.masked.dedup.fragments.counts.txt.gz\n",
      "\n",
      "/data/reddylab/Alex/encode4_duke/data/starr_seq/fragments/A001-K562-rep1.masked.dedup.fragments.counts.txt.gz\n",
      "A001-K562-rep1.masked.dedup.fragments.counts.txt.gz\n",
      "\n",
      "/data/reddylab/Alex/encode4_duke/data/starr_seq/fragments/A001-K562-rep2.masked.dedup.fragments.counts.txt.gz\n",
      "A001-K562-rep2.masked.dedup.fragments.counts.txt.gz\n",
      "\n",
      "/data/reddylab/Alex/encode4_duke/data/starr_seq/fragments/A001-K562-rep3.masked.dedup.fragments.counts.txt.gz\n",
      "A001-K562-rep3.masked.dedup.fragments.counts.txt.gz\n",
      "\n"
     ]
    }
   ],
   "source": [
    "FD_OUT=${FD_RES}/source/A001_K562_wstarrseq_fragments_wgs\n",
    "\n",
    "for FPATH in ${FP_WGS_WSTARR[@]}; do\n",
    "    FNAME=$(basename ${FPATH})\n",
    "    cp ${FPATH} ${FD_OUT}/${FNAME}\n",
    "    echo ${FPATH}\n",
    "    echo ${FNAME}\n",
    "    echo\n",
    "done"
   ]
  },
  {
   "cell_type": "markdown",
   "id": "0604ab8a-873d-4221-8f4f-991659105ab8",
   "metadata": {},
   "source": [
    "## Explore the files"
   ]
  },
  {
   "cell_type": "code",
   "execution_count": 5,
   "id": "ad9fa77e-4717-4e53-bfdd-e0348c04b6a0",
   "metadata": {},
   "outputs": [
    {
     "name": "stdout",
     "output_type": "stream",
     "text": [
      "/data/reddylab/Alex/encode4_duke/data/starr_seq/fragments/A001-input-K562-rep1.masked.dedup.fragments.counts.txt.gz\n",
      "\n",
      "chr1\t10335\t10549\tchr1_10335_10549\t1\t.\n",
      "chr1\t16983\t17500\tchr1_16983_17500\t1\t.\n",
      "chr1\t16985\t17499\tchr1_16985_17499\t1\t.\n",
      "chr1\t17004\t17500\tchr1_17004_17500\t1\t.\n",
      "chr1\t17483\t17898\tchr1_17483_17898\t1\t.\n",
      "chr1\t17487\t17941\tchr1_17487_17941\t1\t.\n",
      "chr1\t33606\t33997\tchr1_33606_33997\t1\t.\n",
      "chr1\t33617\t33997\tchr1_33617_33997\t1\t.\n",
      "chr1\t38785\t39226\tchr1_38785_39226\t1\t.\n",
      "chr1\t46328\t46678\tchr1_46328_46678\t1\t.\n"
     ]
    }
   ],
   "source": [
    "FPATH=${FP_WGS_WSTARR[0]}\n",
    "echo ${FPATH}\n",
    "echo\n",
    "zcat ${FPATH} | head"
   ]
  },
  {
   "cell_type": "code",
   "execution_count": null,
   "id": "3047370f-eb95-42e8-bcf0-c1d956179f8e",
   "metadata": {},
   "outputs": [],
   "source": []
  }
 ],
 "metadata": {
  "kernelspec": {
   "display_name": "Bash",
   "language": "bash",
   "name": "bash"
  },
  "language_info": {
   "codemirror_mode": "shell",
   "file_extension": ".sh",
   "mimetype": "text/x-sh",
   "name": "bash"
  }
 },
 "nbformat": 4,
 "nbformat_minor": 5
}
