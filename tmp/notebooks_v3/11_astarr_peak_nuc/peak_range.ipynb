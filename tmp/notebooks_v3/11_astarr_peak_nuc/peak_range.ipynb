{
 "cells": [
  {
   "cell_type": "code",
   "execution_count": 1,
   "id": "bee0850b",
   "metadata": {},
   "outputs": [
    {
     "name": "stdout",
     "output_type": "stream",
     "text": [
      "You are in Singularity: singularity_proj_combeffect \n",
      "BASE DIRECTORY:     /data/reddylab/Kuei \n",
      "WORK DIRECTORY:     /data/reddylab/Kuei/out \n",
      "CODE DIRECTORY:     /data/reddylab/Kuei/code \n",
      "PATH OF SOURCE:     /data/reddylab/Kuei/source \n",
      "PATH OF EXECUTABLE: /data/reddylab/Kuei/bin \n",
      "PATH OF ANNOTATION: /data/reddylab/Kuei/annotation \n",
      "PATH OF PROJECT:    /data/reddylab/Kuei/code/Proj_CombEffect_ENCODE_FCC \n",
      "PATH OF RESULTS:    /data/reddylab/Kuei/out/proj_combeffect_encode_fcc \n"
     ]
    }
   ],
   "source": [
    "suppressMessages(suppressWarnings(source(\"../config/config_sing.R\")))\n",
    "show_env()"
   ]
  },
  {
   "cell_type": "code",
   "execution_count": 5,
   "id": "fcd7068f",
   "metadata": {},
   "outputs": [
    {
     "name": "stdout",
     "output_type": "stream",
     "text": [
      "[1] 247520      4\n"
     ]
    },
    {
     "data": {
      "text/html": [
       "<table class=\"dataframe\">\n",
       "<caption>A tibble: 6 × 4</caption>\n",
       "<thead>\n",
       "\t<tr><th scope=col>Chrom</th><th scope=col>Start</th><th scope=col>End</th><th scope=col>Length</th></tr>\n",
       "\t<tr><th scope=col>&lt;chr&gt;</th><th scope=col>&lt;dbl&gt;</th><th scope=col>&lt;dbl&gt;</th><th scope=col>&lt;dbl&gt;</th></tr>\n",
       "</thead>\n",
       "<tbody>\n",
       "\t<tr><td>chr1</td><td>10015</td><td>10442</td><td>427</td></tr>\n",
       "\t<tr><td>chr1</td><td>14253</td><td>14645</td><td>392</td></tr>\n",
       "\t<tr><td>chr1</td><td>16015</td><td>16477</td><td>462</td></tr>\n",
       "\t<tr><td>chr1</td><td>17237</td><td>17772</td><td>535</td></tr>\n",
       "\t<tr><td>chr1</td><td>28903</td><td>29613</td><td>710</td></tr>\n",
       "\t<tr><td>chr1</td><td>30803</td><td>31072</td><td>269</td></tr>\n",
       "</tbody>\n",
       "</table>\n"
      ],
      "text/latex": [
       "A tibble: 6 × 4\n",
       "\\begin{tabular}{llll}\n",
       " Chrom & Start & End & Length\\\\\n",
       " <chr> & <dbl> & <dbl> & <dbl>\\\\\n",
       "\\hline\n",
       "\t chr1 & 10015 & 10442 & 427\\\\\n",
       "\t chr1 & 14253 & 14645 & 392\\\\\n",
       "\t chr1 & 16015 & 16477 & 462\\\\\n",
       "\t chr1 & 17237 & 17772 & 535\\\\\n",
       "\t chr1 & 28903 & 29613 & 710\\\\\n",
       "\t chr1 & 30803 & 31072 & 269\\\\\n",
       "\\end{tabular}\n"
      ],
      "text/markdown": [
       "\n",
       "A tibble: 6 × 4\n",
       "\n",
       "| Chrom &lt;chr&gt; | Start &lt;dbl&gt; | End &lt;dbl&gt; | Length &lt;dbl&gt; |\n",
       "|---|---|---|---|\n",
       "| chr1 | 10015 | 10442 | 427 |\n",
       "| chr1 | 14253 | 14645 | 392 |\n",
       "| chr1 | 16015 | 16477 | 462 |\n",
       "| chr1 | 17237 | 17772 | 535 |\n",
       "| chr1 | 28903 | 29613 | 710 |\n",
       "| chr1 | 30803 | 31072 | 269 |\n",
       "\n"
      ],
      "text/plain": [
       "  Chrom Start End   Length\n",
       "1 chr1  10015 10442 427   \n",
       "2 chr1  14253 14645 392   \n",
       "3 chr1  16015 16477 462   \n",
       "4 chr1  17237 17772 535   \n",
       "5 chr1  28903 29613 710   \n",
       "6 chr1  30803 31072 269   "
      ]
     },
     "metadata": {},
     "output_type": "display_data"
    }
   ],
   "source": [
    "### set file path\n",
    "fdiry = file.path(FD_RES, \"region\", \"KS91_K562_ASTARRseq_peak_macs\")\n",
    "fname = \"KS91_K562_hg38_ASTARRseq_Input.all_reps.masked.union_narrowPeak.q5.bed\"\n",
    "fpath = file.path(fdiry, fname)\n",
    "\n",
    "cnames = c(\"Chrom\", \"Start\", \"End\")\n",
    "dat = read_tsv(fpath, col_names = cnames, show_col_types = FALSE)\n",
    "dat = dat %>% mutate(Length=End-Start)\n",
    "\n",
    "### assign\n",
    "dat_peak = dat\n",
    "print(dim(dat))\n",
    "head(dat)"
   ]
  },
  {
   "cell_type": "code",
   "execution_count": 6,
   "id": "4ff66c8a",
   "metadata": {},
   "outputs": [
    {
     "data": {
      "text/plain": [
       "    Chrom               Start                End                Length      \n",
       " Length:247520      Min.   :       50   Min.   :      571   Min.   : 218.0  \n",
       " Class :character   1st Qu.: 32198891   1st Qu.: 32199271   1st Qu.: 435.0  \n",
       " Mode  :character   Median : 67062316   Median : 67063053   Median : 665.0  \n",
       "                    Mean   : 79359206   Mean   : 79360006   Mean   : 800.2  \n",
       "                    3rd Qu.:121127617   3rd Qu.:121128246   3rd Qu.:1031.0  \n",
       "                    Max.   :248945796   Max.   :248946241   Max.   :7183.0  "
      ]
     },
     "metadata": {},
     "output_type": "display_data"
    }
   ],
   "source": [
    "summary(dat_peak)"
   ]
  },
  {
   "cell_type": "code",
   "execution_count": null,
   "id": "3db7bde2",
   "metadata": {},
   "outputs": [],
   "source": []
  }
 ],
 "metadata": {
  "kernelspec": {
   "display_name": "R",
   "language": "R",
   "name": "ir"
  },
  "language_info": {
   "codemirror_mode": "r",
   "file_extension": ".r",
   "mimetype": "text/x-r-source",
   "name": "R",
   "pygments_lexer": "r",
   "version": "4.2.2"
  }
 },
 "nbformat": 4,
 "nbformat_minor": 5
}
