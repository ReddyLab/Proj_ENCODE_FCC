{
 "cells": [
  {
   "cell_type": "markdown",
   "metadata": {},
   "source": [
    "**Set environment**"
   ]
  },
  {
   "cell_type": "code",
   "execution_count": 8,
   "metadata": {},
   "outputs": [
    {
     "name": "stdout",
     "output_type": "stream",
     "text": [
      "You are in Singularity: singularity_proj_combeffect \n",
      "BASE DIRECTORY:     /data/reddylab/Kuei \n",
      "WORK DIRECTORY:     /data/reddylab/Kuei/out \n",
      "CODE DIRECTORY:     /data/reddylab/Kuei/code \n",
      "PATH OF SOURCE:     /data/reddylab/Kuei/source \n",
      "PATH OF EXECUTABLE: /data/reddylab/Kuei/bin \n",
      "PATH OF ANNOTATION: /data/reddylab/Kuei/annotation \n",
      "PATH OF PROJECT:    /data/reddylab/Kuei/code/Proj_CombEffect_ENCODE_FCC \n",
      "PATH OF RESULTS:    /data/reddylab/Kuei/out/proj_combeffect_encode_fcc \n"
     ]
    }
   ],
   "source": [
    "suppressMessages(suppressWarnings(source(\"../config/config_sing.R\")))\n",
    "show_env()"
   ]
  },
  {
   "cell_type": "markdown",
   "metadata": {},
   "source": [
    "## Import data"
   ]
  },
  {
   "cell_type": "code",
   "execution_count": 9,
   "metadata": {},
   "outputs": [],
   "source": [
    "ASSAY    = \"A001_K562_WSTARRseq\"\n",
    "FOLDER   = \"coverage_astarrseq_peak_macs_input\""
   ]
  },
  {
   "cell_type": "code",
   "execution_count": 10,
   "metadata": {},
   "outputs": [
    {
     "name": "stdout",
     "output_type": "stream",
     "text": [
      "[1] \"/data/reddylab/Kuei/out/proj_combeffect_encode_fcc/results/A001_K562_WSTARRseq/coverage_astarrseq_peak_macs_input/summary/result.Log2FC.raw.deseq.WGS.tsv\"\n",
      "[1] 246688      7\n"
     ]
    },
    {
     "data": {
      "text/html": [
       "<table class=\"dataframe\">\n",
       "<caption>A tibble: 6 × 7</caption>\n",
       "<thead>\n",
       "\t<tr><th scope=col>Peak</th><th scope=col>baseMean</th><th scope=col>log2FoldChange</th><th scope=col>lfcSE</th><th scope=col>stat</th><th scope=col>pvalue</th><th scope=col>padj</th></tr>\n",
       "\t<tr><th scope=col>&lt;chr&gt;</th><th scope=col>&lt;dbl&gt;</th><th scope=col>&lt;dbl&gt;</th><th scope=col>&lt;dbl&gt;</th><th scope=col>&lt;dbl&gt;</th><th scope=col>&lt;dbl&gt;</th><th scope=col>&lt;dbl&gt;</th></tr>\n",
       "</thead>\n",
       "<tbody>\n",
       "\t<tr><td>chr1_17237_17772  </td><td>15.507847</td><td>-0.55197423</td><td>0.3650312</td><td>-1.5121288</td><td>0.1305011090</td><td>0.376522564</td></tr>\n",
       "\t<tr><td>chr1_136071_137429</td><td> 8.005396</td><td> 0.42184778</td><td>0.5134014</td><td> 0.8216725</td><td>0.4112633282</td><td>         NA</td></tr>\n",
       "\t<tr><td>chr1_137737_139544</td><td>68.388785</td><td> 0.75905245</td><td>0.1909129</td><td> 3.9759105</td><td>0.0000701105</td><td>0.001384044</td></tr>\n",
       "\t<tr><td>chr1_180982_182087</td><td>35.093278</td><td> 0.19192129</td><td>0.2417529</td><td> 0.7938737</td><td>0.4272689717</td><td>0.696317984</td></tr>\n",
       "\t<tr><td>chr1_183239_184602</td><td>49.565727</td><td> 0.08374879</td><td>0.2018363</td><td> 0.4149342</td><td>0.6781900855</td><td>0.857342193</td></tr>\n",
       "\t<tr><td>chr1_186238_187159</td><td>50.450003</td><td>-0.13877450</td><td>0.2161170</td><td>-0.6421267</td><td>0.5207908905</td><td>0.763065578</td></tr>\n",
       "</tbody>\n",
       "</table>\n"
      ],
      "text/latex": [
       "A tibble: 6 × 7\n",
       "\\begin{tabular}{lllllll}\n",
       " Peak & baseMean & log2FoldChange & lfcSE & stat & pvalue & padj\\\\\n",
       " <chr> & <dbl> & <dbl> & <dbl> & <dbl> & <dbl> & <dbl>\\\\\n",
       "\\hline\n",
       "\t chr1\\_17237\\_17772   & 15.507847 & -0.55197423 & 0.3650312 & -1.5121288 & 0.1305011090 & 0.376522564\\\\\n",
       "\t chr1\\_136071\\_137429 &  8.005396 &  0.42184778 & 0.5134014 &  0.8216725 & 0.4112633282 &          NA\\\\\n",
       "\t chr1\\_137737\\_139544 & 68.388785 &  0.75905245 & 0.1909129 &  3.9759105 & 0.0000701105 & 0.001384044\\\\\n",
       "\t chr1\\_180982\\_182087 & 35.093278 &  0.19192129 & 0.2417529 &  0.7938737 & 0.4272689717 & 0.696317984\\\\\n",
       "\t chr1\\_183239\\_184602 & 49.565727 &  0.08374879 & 0.2018363 &  0.4149342 & 0.6781900855 & 0.857342193\\\\\n",
       "\t chr1\\_186238\\_187159 & 50.450003 & -0.13877450 & 0.2161170 & -0.6421267 & 0.5207908905 & 0.763065578\\\\\n",
       "\\end{tabular}\n"
      ],
      "text/markdown": [
       "\n",
       "A tibble: 6 × 7\n",
       "\n",
       "| Peak &lt;chr&gt; | baseMean &lt;dbl&gt; | log2FoldChange &lt;dbl&gt; | lfcSE &lt;dbl&gt; | stat &lt;dbl&gt; | pvalue &lt;dbl&gt; | padj &lt;dbl&gt; |\n",
       "|---|---|---|---|---|---|---|\n",
       "| chr1_17237_17772   | 15.507847 | -0.55197423 | 0.3650312 | -1.5121288 | 0.1305011090 | 0.376522564 |\n",
       "| chr1_136071_137429 |  8.005396 |  0.42184778 | 0.5134014 |  0.8216725 | 0.4112633282 |          NA |\n",
       "| chr1_137737_139544 | 68.388785 |  0.75905245 | 0.1909129 |  3.9759105 | 0.0000701105 | 0.001384044 |\n",
       "| chr1_180982_182087 | 35.093278 |  0.19192129 | 0.2417529 |  0.7938737 | 0.4272689717 | 0.696317984 |\n",
       "| chr1_183239_184602 | 49.565727 |  0.08374879 | 0.2018363 |  0.4149342 | 0.6781900855 | 0.857342193 |\n",
       "| chr1_186238_187159 | 50.450003 | -0.13877450 | 0.2161170 | -0.6421267 | 0.5207908905 | 0.763065578 |\n",
       "\n"
      ],
      "text/plain": [
       "  Peak               baseMean  log2FoldChange lfcSE     stat       pvalue      \n",
       "1 chr1_17237_17772   15.507847 -0.55197423    0.3650312 -1.5121288 0.1305011090\n",
       "2 chr1_136071_137429  8.005396  0.42184778    0.5134014  0.8216725 0.4112633282\n",
       "3 chr1_137737_139544 68.388785  0.75905245    0.1909129  3.9759105 0.0000701105\n",
       "4 chr1_180982_182087 35.093278  0.19192129    0.2417529  0.7938737 0.4272689717\n",
       "5 chr1_183239_184602 49.565727  0.08374879    0.2018363  0.4149342 0.6781900855\n",
       "6 chr1_186238_187159 50.450003 -0.13877450    0.2161170 -0.6421267 0.5207908905\n",
       "  padj       \n",
       "1 0.376522564\n",
       "2          NA\n",
       "3 0.001384044\n",
       "4 0.696317984\n",
       "5 0.857342193\n",
       "6 0.763065578"
      ]
     },
     "metadata": {},
     "output_type": "display_data"
    }
   ],
   "source": [
    "fdiry = file.path(FD_RES, \"results\", ASSAY, FOLDER, \"summary\")\n",
    "fname = \"result.Log2FC.raw.deseq.WGS.tsv\"\n",
    "fpath = file.path(fdiry, fname)\n",
    "print(fpath)\n",
    "\n",
    "dat = read_tsv(fpath, show_col_types = FALSE)\n",
    "\n",
    "dat_log2fc = dat\n",
    "print(dim(dat))\n",
    "head(dat)"
   ]
  },
  {
   "cell_type": "code",
   "execution_count": 11,
   "metadata": {},
   "outputs": [
    {
     "name": "stdout",
     "output_type": "stream",
     "text": [
      "[1] 1451    6\n"
     ]
    },
    {
     "data": {
      "text/html": [
       "<table class=\"dataframe\">\n",
       "<caption>A tibble: 6 × 6</caption>\n",
       "<thead>\n",
       "\t<tr><th scope=col>Peak</th><th scope=col>Chrom</th><th scope=col>Start</th><th scope=col>End</th><th scope=col>Dataset</th><th scope=col>Region</th></tr>\n",
       "\t<tr><th scope=col>&lt;chr&gt;</th><th scope=col>&lt;chr&gt;</th><th scope=col>&lt;dbl&gt;</th><th scope=col>&lt;dbl&gt;</th><th scope=col>&lt;chr&gt;</th><th scope=col>&lt;chr&gt;</th></tr>\n",
       "</thead>\n",
       "<tbody>\n",
       "\t<tr><td>chr11_61792068_61793464</td><td>chr11</td><td>61792068</td><td>61793464</td><td>OL13</td><td>FADS</td></tr>\n",
       "\t<tr><td>chr11_61800085_61801113</td><td>chr11</td><td>61800085</td><td>61801113</td><td>OL13</td><td>FADS</td></tr>\n",
       "\t<tr><td>chr11_61806630_61807154</td><td>chr11</td><td>61806630</td><td>61807154</td><td>OL13</td><td>FADS</td></tr>\n",
       "\t<tr><td>chr11_61814735_61817343</td><td>chr11</td><td>61814735</td><td>61817343</td><td>OL13</td><td>FADS</td></tr>\n",
       "\t<tr><td>chr11_61822094_61822443</td><td>chr11</td><td>61822094</td><td>61822443</td><td>OL13</td><td>FADS</td></tr>\n",
       "\t<tr><td>chr11_61825795_61826306</td><td>chr11</td><td>61825795</td><td>61826306</td><td>OL13</td><td>FADS</td></tr>\n",
       "</tbody>\n",
       "</table>\n"
      ],
      "text/latex": [
       "A tibble: 6 × 6\n",
       "\\begin{tabular}{llllll}\n",
       " Peak & Chrom & Start & End & Dataset & Region\\\\\n",
       " <chr> & <chr> & <dbl> & <dbl> & <chr> & <chr>\\\\\n",
       "\\hline\n",
       "\t chr11\\_61792068\\_61793464 & chr11 & 61792068 & 61793464 & OL13 & FADS\\\\\n",
       "\t chr11\\_61800085\\_61801113 & chr11 & 61800085 & 61801113 & OL13 & FADS\\\\\n",
       "\t chr11\\_61806630\\_61807154 & chr11 & 61806630 & 61807154 & OL13 & FADS\\\\\n",
       "\t chr11\\_61814735\\_61817343 & chr11 & 61814735 & 61817343 & OL13 & FADS\\\\\n",
       "\t chr11\\_61822094\\_61822443 & chr11 & 61822094 & 61822443 & OL13 & FADS\\\\\n",
       "\t chr11\\_61825795\\_61826306 & chr11 & 61825795 & 61826306 & OL13 & FADS\\\\\n",
       "\\end{tabular}\n"
      ],
      "text/markdown": [
       "\n",
       "A tibble: 6 × 6\n",
       "\n",
       "| Peak &lt;chr&gt; | Chrom &lt;chr&gt; | Start &lt;dbl&gt; | End &lt;dbl&gt; | Dataset &lt;chr&gt; | Region &lt;chr&gt; |\n",
       "|---|---|---|---|---|---|\n",
       "| chr11_61792068_61793464 | chr11 | 61792068 | 61793464 | OL13 | FADS |\n",
       "| chr11_61800085_61801113 | chr11 | 61800085 | 61801113 | OL13 | FADS |\n",
       "| chr11_61806630_61807154 | chr11 | 61806630 | 61807154 | OL13 | FADS |\n",
       "| chr11_61814735_61817343 | chr11 | 61814735 | 61817343 | OL13 | FADS |\n",
       "| chr11_61822094_61822443 | chr11 | 61822094 | 61822443 | OL13 | FADS |\n",
       "| chr11_61825795_61826306 | chr11 | 61825795 | 61826306 | OL13 | FADS |\n",
       "\n"
      ],
      "text/plain": [
       "  Peak                    Chrom Start    End      Dataset Region\n",
       "1 chr11_61792068_61793464 chr11 61792068 61793464 OL13    FADS  \n",
       "2 chr11_61800085_61801113 chr11 61800085 61801113 OL13    FADS  \n",
       "3 chr11_61806630_61807154 chr11 61806630 61807154 OL13    FADS  \n",
       "4 chr11_61814735_61817343 chr11 61814735 61817343 OL13    FADS  \n",
       "5 chr11_61822094_61822443 chr11 61822094 61822443 OL13    FADS  \n",
       "6 chr11_61825795_61826306 chr11 61825795 61826306 OL13    FADS  "
      ]
     },
     "metadata": {},
     "output_type": "display_data"
    }
   ],
   "source": [
    "fdiry = file.path(FD_RES, \"results\", \"comparison\")\n",
    "fname = \"dat_peaks_info.tsv\"\n",
    "fpath = file.path(fdiry, fname)\n",
    "\n",
    "dat = read_tsv(fpath, show_col_types = FALSE)\n",
    "\n",
    "###\n",
    "dat_peak_info = dat\n",
    "dat_peak      = dat %>% dplyr::select(Peak, Dataset, Region)\n",
    "print(dim(dat))\n",
    "head(dat)"
   ]
  },
  {
   "cell_type": "markdown",
   "metadata": {},
   "source": [
    "## Rank normalization"
   ]
  },
  {
   "cell_type": "code",
   "execution_count": 12,
   "metadata": {},
   "outputs": [],
   "source": [
    "fun_ranknorm = function(x){\n",
    "    return(rank(x)/length(x))\n",
    "}"
   ]
  },
  {
   "cell_type": "code",
   "execution_count": 13,
   "metadata": {},
   "outputs": [
    {
     "name": "stdout",
     "output_type": "stream",
     "text": [
      "[1] 1451   12\n"
     ]
    },
    {
     "data": {
      "text/html": [
       "<table class=\"dataframe\">\n",
       "<caption>A tibble: 6 × 12</caption>\n",
       "<thead>\n",
       "\t<tr><th scope=col>Peak</th><th scope=col>Dataset</th><th scope=col>Region</th><th scope=col>baseMean</th><th scope=col>log2FoldChange</th><th scope=col>lfcSE</th><th scope=col>stat</th><th scope=col>pvalue</th><th scope=col>padj</th><th scope=col>RankNorm_Region</th><th scope=col>RankNorm_Dataset</th><th scope=col>RankNorm_Total</th></tr>\n",
       "\t<tr><th scope=col>&lt;chr&gt;</th><th scope=col>&lt;chr&gt;</th><th scope=col>&lt;chr&gt;</th><th scope=col>&lt;dbl&gt;</th><th scope=col>&lt;dbl&gt;</th><th scope=col>&lt;dbl&gt;</th><th scope=col>&lt;dbl&gt;</th><th scope=col>&lt;dbl&gt;</th><th scope=col>&lt;dbl&gt;</th><th scope=col>&lt;dbl&gt;</th><th scope=col>&lt;dbl&gt;</th><th scope=col>&lt;dbl&gt;</th></tr>\n",
       "</thead>\n",
       "<tbody>\n",
       "\t<tr><td>chr2_61524551_61524988</td><td>OL45</td><td>BCL11A</td><td> 17.94124</td><td>-0.80352554</td><td>0.3431467</td><td>-2.3416387</td><td>1.919929e-02</td><td>1.155411e-01</td><td>0.02717391</td><td>0.01062802</td><td>0.01171606</td></tr>\n",
       "\t<tr><td>chr2_61529854_61531204</td><td>OL45</td><td>BCL11A</td><td> 41.53372</td><td> 0.05517938</td><td>0.2210035</td><td> 0.2496765</td><td>8.028375e-01</td><td>9.199271e-01</td><td>0.73913043</td><td>0.58357488</td><td>0.56443832</td></tr>\n",
       "\t<tr><td>chr2_61536312_61537087</td><td>OL45</td><td>BCL11A</td><td> 80.19413</td><td>-0.25100377</td><td>0.1657820</td><td>-1.5140588</td><td>1.300109e-01</td><td>3.757547e-01</td><td>0.40217391</td><td>0.26763285</td><td>0.24741558</td></tr>\n",
       "\t<tr><td>chr2_61537852_61539255</td><td>OL45</td><td>BCL11A</td><td>217.94586</td><td> 1.02196259</td><td>0.1123886</td><td> 9.0931155</td><td>9.624095e-20</td><td>3.609483e-17</td><td>1.00000000</td><td>0.98550725</td><td>0.98345968</td></tr>\n",
       "\t<tr><td>chr2_61545554_61545869</td><td>OL45</td><td>BCL11A</td><td> 16.46355</td><td>-0.45494185</td><td>0.3407968</td><td>-1.3349357</td><td>1.818974e-01</td><td>4.508779e-01</td><td>0.13043478</td><td>0.09661836</td><td>0.08752584</td></tr>\n",
       "\t<tr><td>chr2_61549710_61550633</td><td>OL45</td><td>BCL11A</td><td> 61.93789</td><td>-0.27116546</td><td>0.1792901</td><td>-1.5124393</td><td>1.304221e-01</td><td>3.763766e-01</td><td>0.35326087</td><td>0.24637681</td><td>0.22674018</td></tr>\n",
       "</tbody>\n",
       "</table>\n"
      ],
      "text/latex": [
       "A tibble: 6 × 12\n",
       "\\begin{tabular}{llllllllllll}\n",
       " Peak & Dataset & Region & baseMean & log2FoldChange & lfcSE & stat & pvalue & padj & RankNorm\\_Region & RankNorm\\_Dataset & RankNorm\\_Total\\\\\n",
       " <chr> & <chr> & <chr> & <dbl> & <dbl> & <dbl> & <dbl> & <dbl> & <dbl> & <dbl> & <dbl> & <dbl>\\\\\n",
       "\\hline\n",
       "\t chr2\\_61524551\\_61524988 & OL45 & BCL11A &  17.94124 & -0.80352554 & 0.3431467 & -2.3416387 & 1.919929e-02 & 1.155411e-01 & 0.02717391 & 0.01062802 & 0.01171606\\\\\n",
       "\t chr2\\_61529854\\_61531204 & OL45 & BCL11A &  41.53372 &  0.05517938 & 0.2210035 &  0.2496765 & 8.028375e-01 & 9.199271e-01 & 0.73913043 & 0.58357488 & 0.56443832\\\\\n",
       "\t chr2\\_61536312\\_61537087 & OL45 & BCL11A &  80.19413 & -0.25100377 & 0.1657820 & -1.5140588 & 1.300109e-01 & 3.757547e-01 & 0.40217391 & 0.26763285 & 0.24741558\\\\\n",
       "\t chr2\\_61537852\\_61539255 & OL45 & BCL11A & 217.94586 &  1.02196259 & 0.1123886 &  9.0931155 & 9.624095e-20 & 3.609483e-17 & 1.00000000 & 0.98550725 & 0.98345968\\\\\n",
       "\t chr2\\_61545554\\_61545869 & OL45 & BCL11A &  16.46355 & -0.45494185 & 0.3407968 & -1.3349357 & 1.818974e-01 & 4.508779e-01 & 0.13043478 & 0.09661836 & 0.08752584\\\\\n",
       "\t chr2\\_61549710\\_61550633 & OL45 & BCL11A &  61.93789 & -0.27116546 & 0.1792901 & -1.5124393 & 1.304221e-01 & 3.763766e-01 & 0.35326087 & 0.24637681 & 0.22674018\\\\\n",
       "\\end{tabular}\n"
      ],
      "text/markdown": [
       "\n",
       "A tibble: 6 × 12\n",
       "\n",
       "| Peak &lt;chr&gt; | Dataset &lt;chr&gt; | Region &lt;chr&gt; | baseMean &lt;dbl&gt; | log2FoldChange &lt;dbl&gt; | lfcSE &lt;dbl&gt; | stat &lt;dbl&gt; | pvalue &lt;dbl&gt; | padj &lt;dbl&gt; | RankNorm_Region &lt;dbl&gt; | RankNorm_Dataset &lt;dbl&gt; | RankNorm_Total &lt;dbl&gt; |\n",
       "|---|---|---|---|---|---|---|---|---|---|---|---|\n",
       "| chr2_61524551_61524988 | OL45 | BCL11A |  17.94124 | -0.80352554 | 0.3431467 | -2.3416387 | 1.919929e-02 | 1.155411e-01 | 0.02717391 | 0.01062802 | 0.01171606 |\n",
       "| chr2_61529854_61531204 | OL45 | BCL11A |  41.53372 |  0.05517938 | 0.2210035 |  0.2496765 | 8.028375e-01 | 9.199271e-01 | 0.73913043 | 0.58357488 | 0.56443832 |\n",
       "| chr2_61536312_61537087 | OL45 | BCL11A |  80.19413 | -0.25100377 | 0.1657820 | -1.5140588 | 1.300109e-01 | 3.757547e-01 | 0.40217391 | 0.26763285 | 0.24741558 |\n",
       "| chr2_61537852_61539255 | OL45 | BCL11A | 217.94586 |  1.02196259 | 0.1123886 |  9.0931155 | 9.624095e-20 | 3.609483e-17 | 1.00000000 | 0.98550725 | 0.98345968 |\n",
       "| chr2_61545554_61545869 | OL45 | BCL11A |  16.46355 | -0.45494185 | 0.3407968 | -1.3349357 | 1.818974e-01 | 4.508779e-01 | 0.13043478 | 0.09661836 | 0.08752584 |\n",
       "| chr2_61549710_61550633 | OL45 | BCL11A |  61.93789 | -0.27116546 | 0.1792901 | -1.5124393 | 1.304221e-01 | 3.763766e-01 | 0.35326087 | 0.24637681 | 0.22674018 |\n",
       "\n"
      ],
      "text/plain": [
       "  Peak                   Dataset Region baseMean  log2FoldChange lfcSE    \n",
       "1 chr2_61524551_61524988 OL45    BCL11A  17.94124 -0.80352554    0.3431467\n",
       "2 chr2_61529854_61531204 OL45    BCL11A  41.53372  0.05517938    0.2210035\n",
       "3 chr2_61536312_61537087 OL45    BCL11A  80.19413 -0.25100377    0.1657820\n",
       "4 chr2_61537852_61539255 OL45    BCL11A 217.94586  1.02196259    0.1123886\n",
       "5 chr2_61545554_61545869 OL45    BCL11A  16.46355 -0.45494185    0.3407968\n",
       "6 chr2_61549710_61550633 OL45    BCL11A  61.93789 -0.27116546    0.1792901\n",
       "  stat       pvalue       padj         RankNorm_Region RankNorm_Dataset\n",
       "1 -2.3416387 1.919929e-02 1.155411e-01 0.02717391      0.01062802      \n",
       "2  0.2496765 8.028375e-01 9.199271e-01 0.73913043      0.58357488      \n",
       "3 -1.5140588 1.300109e-01 3.757547e-01 0.40217391      0.26763285      \n",
       "4  9.0931155 9.624095e-20 3.609483e-17 1.00000000      0.98550725      \n",
       "5 -1.3349357 1.818974e-01 4.508779e-01 0.13043478      0.09661836      \n",
       "6 -1.5124393 1.304221e-01 3.763766e-01 0.35326087      0.24637681      \n",
       "  RankNorm_Total\n",
       "1 0.01171606    \n",
       "2 0.56443832    \n",
       "3 0.24741558    \n",
       "4 0.98345968    \n",
       "5 0.08752584    \n",
       "6 0.22674018    "
      ]
     },
     "metadata": {},
     "output_type": "display_data"
    }
   ],
   "source": [
    "dat = left_join(dat_peak, dat_log2fc, by=\"Peak\")\n",
    "\n",
    "dat = dat %>%\n",
    "    dplyr::group_by(Region) %>%\n",
    "    dplyr::mutate(RankNorm_Region  = fun_ranknorm(log2FoldChange)) %>%\n",
    "    dplyr::ungroup()\n",
    "\n",
    "dat = dat %>%\n",
    "    dplyr::group_by(Dataset) %>%\n",
    "    dplyr::mutate(RankNorm_Dataset = fun_ranknorm(log2FoldChange)) %>%\n",
    "    dplyr::ungroup()\n",
    "\n",
    "dat = dat %>%\n",
    "    dplyr::mutate(RankNorm_Total  = fun_ranknorm(log2FoldChange))\n",
    "\n",
    "dat_ranknorm = dat\n",
    "print(dim(dat))\n",
    "tail(dat)"
   ]
  },
  {
   "cell_type": "code",
   "execution_count": 14,
   "metadata": {},
   "outputs": [],
   "source": [
    "fdiry = file.path(FD_RES, \"results\", \"comparison\", \"comparison_global\")\n",
    "fname = \"result.ranknorm.wstarr.tsv\"\n",
    "fpath = file.path(fdiry, fname)\n",
    "\n",
    "dat = dat_ranknorm\n",
    "write_tsv(dat, fpath)"
   ]
  },
  {
   "cell_type": "code",
   "execution_count": null,
   "metadata": {},
   "outputs": [],
   "source": []
  }
 ],
 "metadata": {
  "kernelspec": {
   "display_name": "R",
   "language": "R",
   "name": "ir"
  },
  "language_info": {
   "codemirror_mode": "r",
   "file_extension": ".r",
   "mimetype": "text/x-r-source",
   "name": "R",
   "pygments_lexer": "r",
   "version": "4.2.2"
  }
 },
 "nbformat": 4,
 "nbformat_minor": 4
}
