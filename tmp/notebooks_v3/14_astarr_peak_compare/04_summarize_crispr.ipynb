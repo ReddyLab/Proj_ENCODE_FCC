{
 "cells": [
  {
   "cell_type": "code",
   "execution_count": 1,
   "metadata": {},
   "outputs": [
    {
     "name": "stdout",
     "output_type": "stream",
     "text": [
      "You are in Singularity: singularity_proj_combeffect \n",
      "BASE DIRECTORY:     /data/reddylab/Kuei \n",
      "WORK DIRECTORY:     /data/reddylab/Kuei/out \n",
      "CODE DIRECTORY:     /data/reddylab/Kuei/code \n",
      "PATH OF SOURCE:     /data/reddylab/Kuei/source \n",
      "PATH OF EXECUTABLE: /data/reddylab/Kuei/bin \n",
      "PATH OF ANNOTATION: /data/reddylab/Kuei/annotation \n",
      "PATH OF PROJECT:    /data/reddylab/Kuei/code/Proj_CombEffect_ENCODE_FCC \n",
      "PATH OF RESULTS:    /data/reddylab/Kuei/out/proj_combeffect_encode_fcc \n"
     ]
    }
   ],
   "source": [
    "suppressMessages(suppressWarnings(source(\"../config/config_sing.R\")))\n",
    "show_env()"
   ]
  },
  {
   "cell_type": "code",
   "execution_count": 2,
   "metadata": {},
   "outputs": [
    {
     "name": "stdout",
     "output_type": "stream",
     "text": [
      "[1] 1358   24\n"
     ]
    },
    {
     "data": {
      "text/html": [
       "<table class=\"dataframe\">\n",
       "<caption>A tibble: 6 × 24</caption>\n",
       "<thead>\n",
       "\t<tr><th scope=col>Peak</th><th scope=col>Chrom</th><th scope=col>Start</th><th scope=col>End</th><th scope=col>NMU</th><th scope=col>MEF2C</th><th scope=col>CD164</th><th scope=col>MYB</th><th scope=col>HBS1L</th><th scope=col>HBG1</th><th scope=col>⋯</th><th scope=col>LMO2</th><th scope=col>CAPRIN1</th><th scope=col>CAT</th><th scope=col>FADS1</th><th scope=col>FADS2</th><th scope=col>FADS3</th><th scope=col>FEN1</th><th scope=col>ERP29</th><th scope=col>GATA1</th><th scope=col>HDAC6</th></tr>\n",
       "\t<tr><th scope=col>&lt;chr&gt;</th><th scope=col>&lt;chr&gt;</th><th scope=col>&lt;dbl&gt;</th><th scope=col>&lt;dbl&gt;</th><th scope=col>&lt;dbl&gt;</th><th scope=col>&lt;dbl&gt;</th><th scope=col>&lt;dbl&gt;</th><th scope=col>&lt;dbl&gt;</th><th scope=col>&lt;dbl&gt;</th><th scope=col>&lt;dbl&gt;</th><th scope=col>⋯</th><th scope=col>&lt;dbl&gt;</th><th scope=col>&lt;dbl&gt;</th><th scope=col>&lt;dbl&gt;</th><th scope=col>&lt;dbl&gt;</th><th scope=col>&lt;dbl&gt;</th><th scope=col>&lt;dbl&gt;</th><th scope=col>&lt;dbl&gt;</th><th scope=col>&lt;dbl&gt;</th><th scope=col>&lt;dbl&gt;</th><th scope=col>&lt;dbl&gt;</th></tr>\n",
       "</thead>\n",
       "<tbody>\n",
       "\t<tr><td>chr2_129361843_129362257</td><td>chr2</td><td>129361843</td><td>129362257</td><td> 0.57979600</td><td>0</td><td>0.134735</td><td>0.099261</td><td>-0.21383</td><td>-0.794888</td><td>⋯</td><td>0</td><td>0</td><td>0</td><td>0</td><td>0</td><td>0</td><td>0</td><td>0</td><td>0.000000</td><td> 0.000000</td></tr>\n",
       "\t<tr><td>chr3_128486843_128489642</td><td>chr3</td><td>128486843</td><td>128489642</td><td> 0.00000000</td><td>0</td><td>0.000000</td><td>0.000000</td><td> 0.00000</td><td> 0.000000</td><td>⋯</td><td>0</td><td>0</td><td>0</td><td>0</td><td>0</td><td>0</td><td>0</td><td>0</td><td>0.260774</td><td>-0.137354</td></tr>\n",
       "\t<tr><td>chr4_55270087_55270436  </td><td>chr4</td><td> 55270087</td><td> 55270436</td><td>-0.08950373</td><td>0</td><td>0.000000</td><td>0.000000</td><td> 0.00000</td><td> 0.000000</td><td>⋯</td><td>0</td><td>0</td><td>0</td><td>0</td><td>0</td><td>0</td><td>0</td><td>0</td><td>0.000000</td><td> 0.000000</td></tr>\n",
       "\t<tr><td>chr4_55293902_55294193  </td><td>chr4</td><td> 55293902</td><td> 55294193</td><td>-0.08497190</td><td>0</td><td>0.000000</td><td>0.000000</td><td> 0.00000</td><td> 0.000000</td><td>⋯</td><td>0</td><td>0</td><td>0</td><td>0</td><td>0</td><td>0</td><td>0</td><td>0</td><td>0.000000</td><td> 0.000000</td></tr>\n",
       "\t<tr><td>chr4_55296965_55297999  </td><td>chr4</td><td> 55296965</td><td> 55297999</td><td>-0.34007295</td><td>0</td><td>0.000000</td><td>0.000000</td><td> 0.00000</td><td> 0.000000</td><td>⋯</td><td>0</td><td>0</td><td>0</td><td>0</td><td>0</td><td>0</td><td>0</td><td>0</td><td>0.000000</td><td> 0.000000</td></tr>\n",
       "\t<tr><td>chr4_55312019_55312784  </td><td>chr4</td><td> 55312019</td><td> 55312784</td><td> 0.21455504</td><td>0</td><td>0.000000</td><td>0.000000</td><td> 0.00000</td><td> 0.000000</td><td>⋯</td><td>0</td><td>0</td><td>0</td><td>0</td><td>0</td><td>0</td><td>0</td><td>0</td><td>0.000000</td><td> 0.000000</td></tr>\n",
       "</tbody>\n",
       "</table>\n"
      ],
      "text/latex": [
       "A tibble: 6 × 24\n",
       "\\begin{tabular}{lllllllllllllllllllll}\n",
       " Peak & Chrom & Start & End & NMU & MEF2C & CD164 & MYB & HBS1L & HBG1 & ⋯ & LMO2 & CAPRIN1 & CAT & FADS1 & FADS2 & FADS3 & FEN1 & ERP29 & GATA1 & HDAC6\\\\\n",
       " <chr> & <chr> & <dbl> & <dbl> & <dbl> & <dbl> & <dbl> & <dbl> & <dbl> & <dbl> & ⋯ & <dbl> & <dbl> & <dbl> & <dbl> & <dbl> & <dbl> & <dbl> & <dbl> & <dbl> & <dbl>\\\\\n",
       "\\hline\n",
       "\t chr2\\_129361843\\_129362257 & chr2 & 129361843 & 129362257 &  0.57979600 & 0 & 0.134735 & 0.099261 & -0.21383 & -0.794888 & ⋯ & 0 & 0 & 0 & 0 & 0 & 0 & 0 & 0 & 0.000000 &  0.000000\\\\\n",
       "\t chr3\\_128486843\\_128489642 & chr3 & 128486843 & 128489642 &  0.00000000 & 0 & 0.000000 & 0.000000 &  0.00000 &  0.000000 & ⋯ & 0 & 0 & 0 & 0 & 0 & 0 & 0 & 0 & 0.260774 & -0.137354\\\\\n",
       "\t chr4\\_55270087\\_55270436   & chr4 &  55270087 &  55270436 & -0.08950373 & 0 & 0.000000 & 0.000000 &  0.00000 &  0.000000 & ⋯ & 0 & 0 & 0 & 0 & 0 & 0 & 0 & 0 & 0.000000 &  0.000000\\\\\n",
       "\t chr4\\_55293902\\_55294193   & chr4 &  55293902 &  55294193 & -0.08497190 & 0 & 0.000000 & 0.000000 &  0.00000 &  0.000000 & ⋯ & 0 & 0 & 0 & 0 & 0 & 0 & 0 & 0 & 0.000000 &  0.000000\\\\\n",
       "\t chr4\\_55296965\\_55297999   & chr4 &  55296965 &  55297999 & -0.34007295 & 0 & 0.000000 & 0.000000 &  0.00000 &  0.000000 & ⋯ & 0 & 0 & 0 & 0 & 0 & 0 & 0 & 0 & 0.000000 &  0.000000\\\\\n",
       "\t chr4\\_55312019\\_55312784   & chr4 &  55312019 &  55312784 &  0.21455504 & 0 & 0.000000 & 0.000000 &  0.00000 &  0.000000 & ⋯ & 0 & 0 & 0 & 0 & 0 & 0 & 0 & 0 & 0.000000 &  0.000000\\\\\n",
       "\\end{tabular}\n"
      ],
      "text/markdown": [
       "\n",
       "A tibble: 6 × 24\n",
       "\n",
       "| Peak &lt;chr&gt; | Chrom &lt;chr&gt; | Start &lt;dbl&gt; | End &lt;dbl&gt; | NMU &lt;dbl&gt; | MEF2C &lt;dbl&gt; | CD164 &lt;dbl&gt; | MYB &lt;dbl&gt; | HBS1L &lt;dbl&gt; | HBG1 &lt;dbl&gt; | ⋯ ⋯ | LMO2 &lt;dbl&gt; | CAPRIN1 &lt;dbl&gt; | CAT &lt;dbl&gt; | FADS1 &lt;dbl&gt; | FADS2 &lt;dbl&gt; | FADS3 &lt;dbl&gt; | FEN1 &lt;dbl&gt; | ERP29 &lt;dbl&gt; | GATA1 &lt;dbl&gt; | HDAC6 &lt;dbl&gt; |\n",
       "|---|---|---|---|---|---|---|---|---|---|---|---|---|---|---|---|---|---|---|---|---|\n",
       "| chr2_129361843_129362257 | chr2 | 129361843 | 129362257 |  0.57979600 | 0 | 0.134735 | 0.099261 | -0.21383 | -0.794888 | ⋯ | 0 | 0 | 0 | 0 | 0 | 0 | 0 | 0 | 0.000000 |  0.000000 |\n",
       "| chr3_128486843_128489642 | chr3 | 128486843 | 128489642 |  0.00000000 | 0 | 0.000000 | 0.000000 |  0.00000 |  0.000000 | ⋯ | 0 | 0 | 0 | 0 | 0 | 0 | 0 | 0 | 0.260774 | -0.137354 |\n",
       "| chr4_55270087_55270436   | chr4 |  55270087 |  55270436 | -0.08950373 | 0 | 0.000000 | 0.000000 |  0.00000 |  0.000000 | ⋯ | 0 | 0 | 0 | 0 | 0 | 0 | 0 | 0 | 0.000000 |  0.000000 |\n",
       "| chr4_55293902_55294193   | chr4 |  55293902 |  55294193 | -0.08497190 | 0 | 0.000000 | 0.000000 |  0.00000 |  0.000000 | ⋯ | 0 | 0 | 0 | 0 | 0 | 0 | 0 | 0 | 0.000000 |  0.000000 |\n",
       "| chr4_55296965_55297999   | chr4 |  55296965 |  55297999 | -0.34007295 | 0 | 0.000000 | 0.000000 |  0.00000 |  0.000000 | ⋯ | 0 | 0 | 0 | 0 | 0 | 0 | 0 | 0 | 0.000000 |  0.000000 |\n",
       "| chr4_55312019_55312784   | chr4 |  55312019 |  55312784 |  0.21455504 | 0 | 0.000000 | 0.000000 |  0.00000 |  0.000000 | ⋯ | 0 | 0 | 0 | 0 | 0 | 0 | 0 | 0 | 0.000000 |  0.000000 |\n",
       "\n"
      ],
      "text/plain": [
       "  Peak                     Chrom Start     End       NMU         MEF2C CD164   \n",
       "1 chr2_129361843_129362257 chr2  129361843 129362257  0.57979600 0     0.134735\n",
       "2 chr3_128486843_128489642 chr3  128486843 128489642  0.00000000 0     0.000000\n",
       "3 chr4_55270087_55270436   chr4   55270087  55270436 -0.08950373 0     0.000000\n",
       "4 chr4_55293902_55294193   chr4   55293902  55294193 -0.08497190 0     0.000000\n",
       "5 chr4_55296965_55297999   chr4   55296965  55297999 -0.34007295 0     0.000000\n",
       "6 chr4_55312019_55312784   chr4   55312019  55312784  0.21455504 0     0.000000\n",
       "  MYB      HBS1L    HBG1      ⋯ LMO2 CAPRIN1 CAT FADS1 FADS2 FADS3 FEN1 ERP29\n",
       "1 0.099261 -0.21383 -0.794888 ⋯ 0    0       0   0     0     0     0    0    \n",
       "2 0.000000  0.00000  0.000000 ⋯ 0    0       0   0     0     0     0    0    \n",
       "3 0.000000  0.00000  0.000000 ⋯ 0    0       0   0     0     0     0    0    \n",
       "4 0.000000  0.00000  0.000000 ⋯ 0    0       0   0     0     0     0    0    \n",
       "5 0.000000  0.00000  0.000000 ⋯ 0    0       0   0     0     0     0    0    \n",
       "6 0.000000  0.00000  0.000000 ⋯ 0    0       0   0     0     0     0    0    \n",
       "  GATA1    HDAC6    \n",
       "1 0.000000  0.000000\n",
       "2 0.260774 -0.137354\n",
       "3 0.000000  0.000000\n",
       "4 0.000000  0.000000\n",
       "5 0.000000  0.000000\n",
       "6 0.000000  0.000000"
      ]
     },
     "metadata": {},
     "output_type": "display_data"
    }
   ],
   "source": [
    "ASSAY  = \"CRISPR\"\n",
    "FOLDER = \"coverage_astarrseq_peak_macs_input\"\n",
    "\n",
    "fdiry = file.path(FD_RES, \"results\", ASSAY, FOLDER, \"summary\")\n",
    "fname = \"result.Log2FC.hcrff.tsv\"\n",
    "fpath = file.path(fdiry, fname)\n",
    "\n",
    "dat = read_tsv(fpath, show_col_types = FALSE)\n",
    "\n",
    "dat_log2fc_crispr = dat\n",
    "print(dim(dat))\n",
    "head(dat)"
   ]
  },
  {
   "cell_type": "code",
   "execution_count": 3,
   "metadata": {},
   "outputs": [
    {
     "name": "stdout",
     "output_type": "stream",
     "text": [
      "[1] 1451    6\n"
     ]
    },
    {
     "data": {
      "text/html": [
       "<table class=\"dataframe\">\n",
       "<caption>A tibble: 6 × 6</caption>\n",
       "<thead>\n",
       "\t<tr><th scope=col>Peak</th><th scope=col>Chrom</th><th scope=col>Start</th><th scope=col>End</th><th scope=col>Dataset</th><th scope=col>Region</th></tr>\n",
       "\t<tr><th scope=col>&lt;chr&gt;</th><th scope=col>&lt;chr&gt;</th><th scope=col>&lt;dbl&gt;</th><th scope=col>&lt;dbl&gt;</th><th scope=col>&lt;chr&gt;</th><th scope=col>&lt;chr&gt;</th></tr>\n",
       "</thead>\n",
       "<tbody>\n",
       "\t<tr><td>chr11_61792068_61793464</td><td>chr11</td><td>61792068</td><td>61793464</td><td>OL13</td><td>FADS</td></tr>\n",
       "\t<tr><td>chr11_61800085_61801113</td><td>chr11</td><td>61800085</td><td>61801113</td><td>OL13</td><td>FADS</td></tr>\n",
       "\t<tr><td>chr11_61806630_61807154</td><td>chr11</td><td>61806630</td><td>61807154</td><td>OL13</td><td>FADS</td></tr>\n",
       "\t<tr><td>chr11_61814735_61817343</td><td>chr11</td><td>61814735</td><td>61817343</td><td>OL13</td><td>FADS</td></tr>\n",
       "\t<tr><td>chr11_61822094_61822443</td><td>chr11</td><td>61822094</td><td>61822443</td><td>OL13</td><td>FADS</td></tr>\n",
       "\t<tr><td>chr11_61825795_61826306</td><td>chr11</td><td>61825795</td><td>61826306</td><td>OL13</td><td>FADS</td></tr>\n",
       "</tbody>\n",
       "</table>\n"
      ],
      "text/latex": [
       "A tibble: 6 × 6\n",
       "\\begin{tabular}{llllll}\n",
       " Peak & Chrom & Start & End & Dataset & Region\\\\\n",
       " <chr> & <chr> & <dbl> & <dbl> & <chr> & <chr>\\\\\n",
       "\\hline\n",
       "\t chr11\\_61792068\\_61793464 & chr11 & 61792068 & 61793464 & OL13 & FADS\\\\\n",
       "\t chr11\\_61800085\\_61801113 & chr11 & 61800085 & 61801113 & OL13 & FADS\\\\\n",
       "\t chr11\\_61806630\\_61807154 & chr11 & 61806630 & 61807154 & OL13 & FADS\\\\\n",
       "\t chr11\\_61814735\\_61817343 & chr11 & 61814735 & 61817343 & OL13 & FADS\\\\\n",
       "\t chr11\\_61822094\\_61822443 & chr11 & 61822094 & 61822443 & OL13 & FADS\\\\\n",
       "\t chr11\\_61825795\\_61826306 & chr11 & 61825795 & 61826306 & OL13 & FADS\\\\\n",
       "\\end{tabular}\n"
      ],
      "text/markdown": [
       "\n",
       "A tibble: 6 × 6\n",
       "\n",
       "| Peak &lt;chr&gt; | Chrom &lt;chr&gt; | Start &lt;dbl&gt; | End &lt;dbl&gt; | Dataset &lt;chr&gt; | Region &lt;chr&gt; |\n",
       "|---|---|---|---|---|---|\n",
       "| chr11_61792068_61793464 | chr11 | 61792068 | 61793464 | OL13 | FADS |\n",
       "| chr11_61800085_61801113 | chr11 | 61800085 | 61801113 | OL13 | FADS |\n",
       "| chr11_61806630_61807154 | chr11 | 61806630 | 61807154 | OL13 | FADS |\n",
       "| chr11_61814735_61817343 | chr11 | 61814735 | 61817343 | OL13 | FADS |\n",
       "| chr11_61822094_61822443 | chr11 | 61822094 | 61822443 | OL13 | FADS |\n",
       "| chr11_61825795_61826306 | chr11 | 61825795 | 61826306 | OL13 | FADS |\n",
       "\n"
      ],
      "text/plain": [
       "  Peak                    Chrom Start    End      Dataset Region\n",
       "1 chr11_61792068_61793464 chr11 61792068 61793464 OL13    FADS  \n",
       "2 chr11_61800085_61801113 chr11 61800085 61801113 OL13    FADS  \n",
       "3 chr11_61806630_61807154 chr11 61806630 61807154 OL13    FADS  \n",
       "4 chr11_61814735_61817343 chr11 61814735 61817343 OL13    FADS  \n",
       "5 chr11_61822094_61822443 chr11 61822094 61822443 OL13    FADS  \n",
       "6 chr11_61825795_61826306 chr11 61825795 61826306 OL13    FADS  "
      ]
     },
     "metadata": {},
     "output_type": "display_data"
    }
   ],
   "source": [
    "fdiry = file.path(FD_RES, \"results\", \"comparison\")\n",
    "fname = \"dat_peaks_info.tsv\"\n",
    "fpath = file.path(fdiry, fname)\n",
    "\n",
    "dat = read_tsv(fpath, show_col_types = FALSE)\n",
    "\n",
    "###\n",
    "dat_peak_info = dat\n",
    "print(dim(dat))\n",
    "head(dat)"
   ]
  },
  {
   "cell_type": "code",
   "execution_count": 4,
   "metadata": {},
   "outputs": [
    {
     "data": {
      "text/html": [
       "<table class=\"dataframe\">\n",
       "<caption>A tibble: 6 × 24</caption>\n",
       "<thead>\n",
       "\t<tr><th scope=col>Peak</th><th scope=col>Chrom</th><th scope=col>Start</th><th scope=col>End</th><th scope=col>NMU</th><th scope=col>MEF2C</th><th scope=col>CD164</th><th scope=col>MYB</th><th scope=col>HBS1L</th><th scope=col>HBG1</th><th scope=col>⋯</th><th scope=col>LMO2</th><th scope=col>CAPRIN1</th><th scope=col>CAT</th><th scope=col>FADS1</th><th scope=col>FADS2</th><th scope=col>FADS3</th><th scope=col>FEN1</th><th scope=col>ERP29</th><th scope=col>GATA1</th><th scope=col>HDAC6</th></tr>\n",
       "\t<tr><th scope=col>&lt;chr&gt;</th><th scope=col>&lt;chr&gt;</th><th scope=col>&lt;dbl&gt;</th><th scope=col>&lt;dbl&gt;</th><th scope=col>&lt;dbl&gt;</th><th scope=col>&lt;dbl&gt;</th><th scope=col>&lt;dbl&gt;</th><th scope=col>&lt;dbl&gt;</th><th scope=col>&lt;dbl&gt;</th><th scope=col>&lt;dbl&gt;</th><th scope=col>⋯</th><th scope=col>&lt;dbl&gt;</th><th scope=col>&lt;dbl&gt;</th><th scope=col>&lt;dbl&gt;</th><th scope=col>&lt;dbl&gt;</th><th scope=col>&lt;dbl&gt;</th><th scope=col>&lt;dbl&gt;</th><th scope=col>&lt;dbl&gt;</th><th scope=col>&lt;dbl&gt;</th><th scope=col>&lt;dbl&gt;</th><th scope=col>&lt;dbl&gt;</th></tr>\n",
       "</thead>\n",
       "<tbody>\n",
       "\t<tr><td>chr2_129361843_129362257</td><td>chr2</td><td>129361843</td><td>129362257</td><td> 0.57979600</td><td>0</td><td>0.134735</td><td>0.099261</td><td>-0.21383</td><td>-0.794888</td><td>⋯</td><td>0</td><td>0</td><td>0</td><td>0</td><td>0</td><td>0</td><td>0</td><td>0</td><td>0.000000</td><td> 0.000000</td></tr>\n",
       "\t<tr><td>chr3_128486843_128489642</td><td>chr3</td><td>128486843</td><td>128489642</td><td> 0.00000000</td><td>0</td><td>0.000000</td><td>0.000000</td><td> 0.00000</td><td> 0.000000</td><td>⋯</td><td>0</td><td>0</td><td>0</td><td>0</td><td>0</td><td>0</td><td>0</td><td>0</td><td>0.260774</td><td>-0.137354</td></tr>\n",
       "\t<tr><td>chr4_55270087_55270436  </td><td>chr4</td><td> 55270087</td><td> 55270436</td><td>-0.08950373</td><td>0</td><td>0.000000</td><td>0.000000</td><td> 0.00000</td><td> 0.000000</td><td>⋯</td><td>0</td><td>0</td><td>0</td><td>0</td><td>0</td><td>0</td><td>0</td><td>0</td><td>0.000000</td><td> 0.000000</td></tr>\n",
       "\t<tr><td>chr4_55293902_55294193  </td><td>chr4</td><td> 55293902</td><td> 55294193</td><td>-0.08497190</td><td>0</td><td>0.000000</td><td>0.000000</td><td> 0.00000</td><td> 0.000000</td><td>⋯</td><td>0</td><td>0</td><td>0</td><td>0</td><td>0</td><td>0</td><td>0</td><td>0</td><td>0.000000</td><td> 0.000000</td></tr>\n",
       "\t<tr><td>chr4_55296965_55297999  </td><td>chr4</td><td> 55296965</td><td> 55297999</td><td>-0.34007295</td><td>0</td><td>0.000000</td><td>0.000000</td><td> 0.00000</td><td> 0.000000</td><td>⋯</td><td>0</td><td>0</td><td>0</td><td>0</td><td>0</td><td>0</td><td>0</td><td>0</td><td>0.000000</td><td> 0.000000</td></tr>\n",
       "\t<tr><td>chr4_55312019_55312784  </td><td>chr4</td><td> 55312019</td><td> 55312784</td><td> 0.21455504</td><td>0</td><td>0.000000</td><td>0.000000</td><td> 0.00000</td><td> 0.000000</td><td>⋯</td><td>0</td><td>0</td><td>0</td><td>0</td><td>0</td><td>0</td><td>0</td><td>0</td><td>0.000000</td><td> 0.000000</td></tr>\n",
       "</tbody>\n",
       "</table>\n"
      ],
      "text/latex": [
       "A tibble: 6 × 24\n",
       "\\begin{tabular}{lllllllllllllllllllll}\n",
       " Peak & Chrom & Start & End & NMU & MEF2C & CD164 & MYB & HBS1L & HBG1 & ⋯ & LMO2 & CAPRIN1 & CAT & FADS1 & FADS2 & FADS3 & FEN1 & ERP29 & GATA1 & HDAC6\\\\\n",
       " <chr> & <chr> & <dbl> & <dbl> & <dbl> & <dbl> & <dbl> & <dbl> & <dbl> & <dbl> & ⋯ & <dbl> & <dbl> & <dbl> & <dbl> & <dbl> & <dbl> & <dbl> & <dbl> & <dbl> & <dbl>\\\\\n",
       "\\hline\n",
       "\t chr2\\_129361843\\_129362257 & chr2 & 129361843 & 129362257 &  0.57979600 & 0 & 0.134735 & 0.099261 & -0.21383 & -0.794888 & ⋯ & 0 & 0 & 0 & 0 & 0 & 0 & 0 & 0 & 0.000000 &  0.000000\\\\\n",
       "\t chr3\\_128486843\\_128489642 & chr3 & 128486843 & 128489642 &  0.00000000 & 0 & 0.000000 & 0.000000 &  0.00000 &  0.000000 & ⋯ & 0 & 0 & 0 & 0 & 0 & 0 & 0 & 0 & 0.260774 & -0.137354\\\\\n",
       "\t chr4\\_55270087\\_55270436   & chr4 &  55270087 &  55270436 & -0.08950373 & 0 & 0.000000 & 0.000000 &  0.00000 &  0.000000 & ⋯ & 0 & 0 & 0 & 0 & 0 & 0 & 0 & 0 & 0.000000 &  0.000000\\\\\n",
       "\t chr4\\_55293902\\_55294193   & chr4 &  55293902 &  55294193 & -0.08497190 & 0 & 0.000000 & 0.000000 &  0.00000 &  0.000000 & ⋯ & 0 & 0 & 0 & 0 & 0 & 0 & 0 & 0 & 0.000000 &  0.000000\\\\\n",
       "\t chr4\\_55296965\\_55297999   & chr4 &  55296965 &  55297999 & -0.34007295 & 0 & 0.000000 & 0.000000 &  0.00000 &  0.000000 & ⋯ & 0 & 0 & 0 & 0 & 0 & 0 & 0 & 0 & 0.000000 &  0.000000\\\\\n",
       "\t chr4\\_55312019\\_55312784   & chr4 &  55312019 &  55312784 &  0.21455504 & 0 & 0.000000 & 0.000000 &  0.00000 &  0.000000 & ⋯ & 0 & 0 & 0 & 0 & 0 & 0 & 0 & 0 & 0.000000 &  0.000000\\\\\n",
       "\\end{tabular}\n"
      ],
      "text/markdown": [
       "\n",
       "A tibble: 6 × 24\n",
       "\n",
       "| Peak &lt;chr&gt; | Chrom &lt;chr&gt; | Start &lt;dbl&gt; | End &lt;dbl&gt; | NMU &lt;dbl&gt; | MEF2C &lt;dbl&gt; | CD164 &lt;dbl&gt; | MYB &lt;dbl&gt; | HBS1L &lt;dbl&gt; | HBG1 &lt;dbl&gt; | ⋯ ⋯ | LMO2 &lt;dbl&gt; | CAPRIN1 &lt;dbl&gt; | CAT &lt;dbl&gt; | FADS1 &lt;dbl&gt; | FADS2 &lt;dbl&gt; | FADS3 &lt;dbl&gt; | FEN1 &lt;dbl&gt; | ERP29 &lt;dbl&gt; | GATA1 &lt;dbl&gt; | HDAC6 &lt;dbl&gt; |\n",
       "|---|---|---|---|---|---|---|---|---|---|---|---|---|---|---|---|---|---|---|---|---|\n",
       "| chr2_129361843_129362257 | chr2 | 129361843 | 129362257 |  0.57979600 | 0 | 0.134735 | 0.099261 | -0.21383 | -0.794888 | ⋯ | 0 | 0 | 0 | 0 | 0 | 0 | 0 | 0 | 0.000000 |  0.000000 |\n",
       "| chr3_128486843_128489642 | chr3 | 128486843 | 128489642 |  0.00000000 | 0 | 0.000000 | 0.000000 |  0.00000 |  0.000000 | ⋯ | 0 | 0 | 0 | 0 | 0 | 0 | 0 | 0 | 0.260774 | -0.137354 |\n",
       "| chr4_55270087_55270436   | chr4 |  55270087 |  55270436 | -0.08950373 | 0 | 0.000000 | 0.000000 |  0.00000 |  0.000000 | ⋯ | 0 | 0 | 0 | 0 | 0 | 0 | 0 | 0 | 0.000000 |  0.000000 |\n",
       "| chr4_55293902_55294193   | chr4 |  55293902 |  55294193 | -0.08497190 | 0 | 0.000000 | 0.000000 |  0.00000 |  0.000000 | ⋯ | 0 | 0 | 0 | 0 | 0 | 0 | 0 | 0 | 0.000000 |  0.000000 |\n",
       "| chr4_55296965_55297999   | chr4 |  55296965 |  55297999 | -0.34007295 | 0 | 0.000000 | 0.000000 |  0.00000 |  0.000000 | ⋯ | 0 | 0 | 0 | 0 | 0 | 0 | 0 | 0 | 0.000000 |  0.000000 |\n",
       "| chr4_55312019_55312784   | chr4 |  55312019 |  55312784 |  0.21455504 | 0 | 0.000000 | 0.000000 |  0.00000 |  0.000000 | ⋯ | 0 | 0 | 0 | 0 | 0 | 0 | 0 | 0 | 0.000000 |  0.000000 |\n",
       "\n"
      ],
      "text/plain": [
       "  Peak                     Chrom Start     End       NMU         MEF2C CD164   \n",
       "1 chr2_129361843_129362257 chr2  129361843 129362257  0.57979600 0     0.134735\n",
       "2 chr3_128486843_128489642 chr3  128486843 128489642  0.00000000 0     0.000000\n",
       "3 chr4_55270087_55270436   chr4   55270087  55270436 -0.08950373 0     0.000000\n",
       "4 chr4_55293902_55294193   chr4   55293902  55294193 -0.08497190 0     0.000000\n",
       "5 chr4_55296965_55297999   chr4   55296965  55297999 -0.34007295 0     0.000000\n",
       "6 chr4_55312019_55312784   chr4   55312019  55312784  0.21455504 0     0.000000\n",
       "  MYB      HBS1L    HBG1      ⋯ LMO2 CAPRIN1 CAT FADS1 FADS2 FADS3 FEN1 ERP29\n",
       "1 0.099261 -0.21383 -0.794888 ⋯ 0    0       0   0     0     0     0    0    \n",
       "2 0.000000  0.00000  0.000000 ⋯ 0    0       0   0     0     0     0    0    \n",
       "3 0.000000  0.00000  0.000000 ⋯ 0    0       0   0     0     0     0    0    \n",
       "4 0.000000  0.00000  0.000000 ⋯ 0    0       0   0     0     0     0    0    \n",
       "5 0.000000  0.00000  0.000000 ⋯ 0    0       0   0     0     0     0    0    \n",
       "6 0.000000  0.00000  0.000000 ⋯ 0    0       0   0     0     0     0    0    \n",
       "  GATA1    HDAC6    \n",
       "1 0.000000  0.000000\n",
       "2 0.260774 -0.137354\n",
       "3 0.000000  0.000000\n",
       "4 0.000000  0.000000\n",
       "5 0.000000  0.000000\n",
       "6 0.000000  0.000000"
      ]
     },
     "metadata": {},
     "output_type": "display_data"
    }
   ],
   "source": [
    "dat = dat_log2fc_crispr\n",
    "head(dat)"
   ]
  },
  {
   "cell_type": "code",
   "execution_count": null,
   "metadata": {},
   "outputs": [],
   "source": []
  }
 ],
 "metadata": {
  "kernelspec": {
   "display_name": "R",
   "language": "R",
   "name": "ir"
  },
  "language_info": {
   "codemirror_mode": "r",
   "file_extension": ".r",
   "mimetype": "text/x-r-source",
   "name": "R",
   "pygments_lexer": "r",
   "version": "4.2.2"
  }
 },
 "nbformat": 4,
 "nbformat_minor": 4
}
