{
 "cells": [
  {
   "cell_type": "markdown",
   "metadata": {},
   "source": [
    "**Set environment**"
   ]
  },
  {
   "cell_type": "code",
   "execution_count": 1,
   "metadata": {},
   "outputs": [
    {
     "name": "stdout",
     "output_type": "stream",
     "text": [
      "You are in Singularity: singularity_proj_combeffect \n",
      "BASE DIRECTORY:     /data/reddylab/Kuei \n",
      "WORK DIRECTORY:     /data/reddylab/Kuei/out \n",
      "CODE DIRECTORY:     /data/reddylab/Kuei/code \n",
      "PATH OF SOURCE:     /data/reddylab/Kuei/source \n",
      "PATH OF EXECUTABLE: /data/reddylab/Kuei/bin \n",
      "PATH OF ANNOTATION: /data/reddylab/Kuei/annotation \n",
      "PATH OF PROJECT:    /data/reddylab/Kuei/code/Proj_CombEffect_ENCODE_FCC \n",
      "PATH OF RESULTS:    /data/reddylab/Kuei/out/proj_combeffect_encode_fcc \n"
     ]
    }
   ],
   "source": [
    "suppressMessages(suppressWarnings(source(\"../config/config_sing.R\")))\n",
    "suppressMessages(suppressWarnings(library(pheatmap)))\n",
    "show_env()"
   ]
  },
  {
   "cell_type": "markdown",
   "metadata": {},
   "source": [
    "## Import data (MPRA/STARR)"
   ]
  },
  {
   "cell_type": "code",
   "execution_count": 2,
   "metadata": {},
   "outputs": [
    {
     "name": "stdout",
     "output_type": "stream",
     "text": [
      "[1] 1451   12\n"
     ]
    },
    {
     "data": {
      "text/html": [
       "<table class=\"dataframe\">\n",
       "<caption>A tibble: 6 × 12</caption>\n",
       "<thead>\n",
       "\t<tr><th scope=col>Peak</th><th scope=col>Dataset</th><th scope=col>Region</th><th scope=col>baseMean</th><th scope=col>log2FoldChange</th><th scope=col>lfcSE</th><th scope=col>stat</th><th scope=col>pvalue</th><th scope=col>padj</th><th scope=col>RankNorm_Region</th><th scope=col>RankNorm_Dataset</th><th scope=col>RankNorm_Total</th></tr>\n",
       "\t<tr><th scope=col>&lt;chr&gt;</th><th scope=col>&lt;chr&gt;</th><th scope=col>&lt;chr&gt;</th><th scope=col>&lt;dbl&gt;</th><th scope=col>&lt;dbl&gt;</th><th scope=col>&lt;dbl&gt;</th><th scope=col>&lt;dbl&gt;</th><th scope=col>&lt;dbl&gt;</th><th scope=col>&lt;dbl&gt;</th><th scope=col>&lt;dbl&gt;</th><th scope=col>&lt;dbl&gt;</th><th scope=col>&lt;dbl&gt;</th></tr>\n",
       "</thead>\n",
       "<tbody>\n",
       "\t<tr><td>chr11_61792068_61793464</td><td>OL13</td><td>FADS</td><td>3472.98440</td><td> 0.748666194</td><td>0.07161010</td><td>10.45475686</td><td> 1.393557e-25</td><td> 3.414389e-24</td><td>0.9090909</td><td>0.9090909</td><td>0.9048932</td></tr>\n",
       "\t<tr><td>chr11_61800085_61801113</td><td>OL13</td><td>FADS</td><td>2504.35817</td><td> 2.355626346</td><td>0.07131656</td><td>33.03056598</td><td>2.958119e-239</td><td>1.768067e-236</td><td>1.0000000</td><td>1.0000000</td><td>0.9979325</td></tr>\n",
       "\t<tr><td>chr11_61806630_61807154</td><td>OL13</td><td>FADS</td><td> 129.24901</td><td>-0.153462676</td><td>0.12406305</td><td>-1.23697326</td><td> 2.160970e-01</td><td> 2.993375e-01</td><td>0.5000000</td><td>0.5000000</td><td>0.4107512</td></tr>\n",
       "\t<tr><td>chr11_61814735_61817343</td><td>OL13</td><td>FADS</td><td>6418.37321</td><td>-0.002767256</td><td>0.07157436</td><td>-0.03866267</td><td> 9.691593e-01</td><td> 9.777346e-01</td><td>0.6363636</td><td>0.6363636</td><td>0.5368711</td></tr>\n",
       "\t<tr><td>chr11_61822094_61822443</td><td>OL13</td><td>FADS</td><td>  72.62984</td><td>-0.154194788</td><td>0.15863810</td><td>-0.97199087</td><td> 3.310551e-01</td><td> 4.248422e-01</td><td>0.4545455</td><td>0.4545455</td><td>0.4093728</td></tr>\n",
       "\t<tr><td>chr11_61825795_61826306</td><td>OL13</td><td>FADS</td><td>  68.23945</td><td>-0.529289725</td><td>0.18048848</td><td>-2.93254024</td><td> 3.362013e-03</td><td> 8.329366e-03</td><td>0.2272727</td><td>0.2272727</td><td>0.1399035</td></tr>\n",
       "</tbody>\n",
       "</table>\n"
      ],
      "text/latex": [
       "A tibble: 6 × 12\n",
       "\\begin{tabular}{llllllllllll}\n",
       " Peak & Dataset & Region & baseMean & log2FoldChange & lfcSE & stat & pvalue & padj & RankNorm\\_Region & RankNorm\\_Dataset & RankNorm\\_Total\\\\\n",
       " <chr> & <chr> & <chr> & <dbl> & <dbl> & <dbl> & <dbl> & <dbl> & <dbl> & <dbl> & <dbl> & <dbl>\\\\\n",
       "\\hline\n",
       "\t chr11\\_61792068\\_61793464 & OL13 & FADS & 3472.98440 &  0.748666194 & 0.07161010 & 10.45475686 &  1.393557e-25 &  3.414389e-24 & 0.9090909 & 0.9090909 & 0.9048932\\\\\n",
       "\t chr11\\_61800085\\_61801113 & OL13 & FADS & 2504.35817 &  2.355626346 & 0.07131656 & 33.03056598 & 2.958119e-239 & 1.768067e-236 & 1.0000000 & 1.0000000 & 0.9979325\\\\\n",
       "\t chr11\\_61806630\\_61807154 & OL13 & FADS &  129.24901 & -0.153462676 & 0.12406305 & -1.23697326 &  2.160970e-01 &  2.993375e-01 & 0.5000000 & 0.5000000 & 0.4107512\\\\\n",
       "\t chr11\\_61814735\\_61817343 & OL13 & FADS & 6418.37321 & -0.002767256 & 0.07157436 & -0.03866267 &  9.691593e-01 &  9.777346e-01 & 0.6363636 & 0.6363636 & 0.5368711\\\\\n",
       "\t chr11\\_61822094\\_61822443 & OL13 & FADS &   72.62984 & -0.154194788 & 0.15863810 & -0.97199087 &  3.310551e-01 &  4.248422e-01 & 0.4545455 & 0.4545455 & 0.4093728\\\\\n",
       "\t chr11\\_61825795\\_61826306 & OL13 & FADS &   68.23945 & -0.529289725 & 0.18048848 & -2.93254024 &  3.362013e-03 &  8.329366e-03 & 0.2272727 & 0.2272727 & 0.1399035\\\\\n",
       "\\end{tabular}\n"
      ],
      "text/markdown": [
       "\n",
       "A tibble: 6 × 12\n",
       "\n",
       "| Peak &lt;chr&gt; | Dataset &lt;chr&gt; | Region &lt;chr&gt; | baseMean &lt;dbl&gt; | log2FoldChange &lt;dbl&gt; | lfcSE &lt;dbl&gt; | stat &lt;dbl&gt; | pvalue &lt;dbl&gt; | padj &lt;dbl&gt; | RankNorm_Region &lt;dbl&gt; | RankNorm_Dataset &lt;dbl&gt; | RankNorm_Total &lt;dbl&gt; |\n",
       "|---|---|---|---|---|---|---|---|---|---|---|---|\n",
       "| chr11_61792068_61793464 | OL13 | FADS | 3472.98440 |  0.748666194 | 0.07161010 | 10.45475686 |  1.393557e-25 |  3.414389e-24 | 0.9090909 | 0.9090909 | 0.9048932 |\n",
       "| chr11_61800085_61801113 | OL13 | FADS | 2504.35817 |  2.355626346 | 0.07131656 | 33.03056598 | 2.958119e-239 | 1.768067e-236 | 1.0000000 | 1.0000000 | 0.9979325 |\n",
       "| chr11_61806630_61807154 | OL13 | FADS |  129.24901 | -0.153462676 | 0.12406305 | -1.23697326 |  2.160970e-01 |  2.993375e-01 | 0.5000000 | 0.5000000 | 0.4107512 |\n",
       "| chr11_61814735_61817343 | OL13 | FADS | 6418.37321 | -0.002767256 | 0.07157436 | -0.03866267 |  9.691593e-01 |  9.777346e-01 | 0.6363636 | 0.6363636 | 0.5368711 |\n",
       "| chr11_61822094_61822443 | OL13 | FADS |   72.62984 | -0.154194788 | 0.15863810 | -0.97199087 |  3.310551e-01 |  4.248422e-01 | 0.4545455 | 0.4545455 | 0.4093728 |\n",
       "| chr11_61825795_61826306 | OL13 | FADS |   68.23945 | -0.529289725 | 0.18048848 | -2.93254024 |  3.362013e-03 |  8.329366e-03 | 0.2272727 | 0.2272727 | 0.1399035 |\n",
       "\n"
      ],
      "text/plain": [
       "  Peak                    Dataset Region baseMean   log2FoldChange lfcSE     \n",
       "1 chr11_61792068_61793464 OL13    FADS   3472.98440  0.748666194   0.07161010\n",
       "2 chr11_61800085_61801113 OL13    FADS   2504.35817  2.355626346   0.07131656\n",
       "3 chr11_61806630_61807154 OL13    FADS    129.24901 -0.153462676   0.12406305\n",
       "4 chr11_61814735_61817343 OL13    FADS   6418.37321 -0.002767256   0.07157436\n",
       "5 chr11_61822094_61822443 OL13    FADS     72.62984 -0.154194788   0.15863810\n",
       "6 chr11_61825795_61826306 OL13    FADS     68.23945 -0.529289725   0.18048848\n",
       "  stat        pvalue        padj          RankNorm_Region RankNorm_Dataset\n",
       "1 10.45475686  1.393557e-25  3.414389e-24 0.9090909       0.9090909       \n",
       "2 33.03056598 2.958119e-239 1.768067e-236 1.0000000       1.0000000       \n",
       "3 -1.23697326  2.160970e-01  2.993375e-01 0.5000000       0.5000000       \n",
       "4 -0.03866267  9.691593e-01  9.777346e-01 0.6363636       0.6363636       \n",
       "5 -0.97199087  3.310551e-01  4.248422e-01 0.4545455       0.4545455       \n",
       "6 -2.93254024  3.362013e-03  8.329366e-03 0.2272727       0.2272727       \n",
       "  RankNorm_Total\n",
       "1 0.9048932     \n",
       "2 0.9979325     \n",
       "3 0.4107512     \n",
       "4 0.5368711     \n",
       "5 0.4093728     \n",
       "6 0.1399035     "
      ]
     },
     "metadata": {},
     "output_type": "display_data"
    }
   ],
   "source": [
    "fdiry = file.path(FD_RES, \"results\", \"comparison\", \"comparison_global\")\n",
    "fname = \"result.ranknorm.astarr.tsv\"\n",
    "fpath = file.path(fdiry, fname)\n",
    "\n",
    "dat = read_tsv(fpath, show_col_types = FALSE)\n",
    "\n",
    "dat_ranknorm_astarr = dat\n",
    "print(dim(dat))\n",
    "head(dat)"
   ]
  },
  {
   "cell_type": "code",
   "execution_count": 3,
   "metadata": {},
   "outputs": [
    {
     "name": "stdout",
     "output_type": "stream",
     "text": [
      "[1] 1451   12\n"
     ]
    },
    {
     "data": {
      "text/html": [
       "<table class=\"dataframe\">\n",
       "<caption>A tibble: 6 × 12</caption>\n",
       "<thead>\n",
       "\t<tr><th scope=col>Peak</th><th scope=col>Dataset</th><th scope=col>Region</th><th scope=col>baseMean</th><th scope=col>log2FoldChange</th><th scope=col>lfcSE</th><th scope=col>stat</th><th scope=col>pvalue</th><th scope=col>padj</th><th scope=col>RankNorm_Region</th><th scope=col>RankNorm_Dataset</th><th scope=col>RankNorm_Total</th></tr>\n",
       "\t<tr><th scope=col>&lt;chr&gt;</th><th scope=col>&lt;chr&gt;</th><th scope=col>&lt;chr&gt;</th><th scope=col>&lt;dbl&gt;</th><th scope=col>&lt;dbl&gt;</th><th scope=col>&lt;dbl&gt;</th><th scope=col>&lt;dbl&gt;</th><th scope=col>&lt;dbl&gt;</th><th scope=col>&lt;dbl&gt;</th><th scope=col>&lt;dbl&gt;</th><th scope=col>&lt;dbl&gt;</th><th scope=col>&lt;dbl&gt;</th></tr>\n",
       "</thead>\n",
       "<tbody>\n",
       "\t<tr><td>chr11_61792068_61793464</td><td>OL13</td><td>FADS</td><td>160.03009</td><td> 0.8176584</td><td>0.12513520</td><td> 6.5342001</td><td>6.395039e-11</td><td>5.196479e-09</td><td>1.00000000</td><td>1.00000000</td><td>0.9682977</td></tr>\n",
       "\t<tr><td>chr11_61800085_61801113</td><td>OL13</td><td>FADS</td><td> 67.50282</td><td> 0.3110967</td><td>0.17603441</td><td> 1.7672494</td><td>7.718647e-02</td><td>2.782455e-01</td><td>0.68181818</td><td>0.68181818</td><td>0.7877326</td></tr>\n",
       "\t<tr><td>chr11_61806630_61807154</td><td>OL13</td><td>FADS</td><td> 48.45170</td><td>-0.1623581</td><td>0.20512108</td><td>-0.7915234</td><td>4.286386e-01</td><td>6.973474e-01</td><td>0.13636364</td><td>0.13636364</td><td>0.3246037</td></tr>\n",
       "\t<tr><td>chr11_61814735_61817343</td><td>OL13</td><td>FADS</td><td>385.58378</td><td> 0.4218248</td><td>0.08301986</td><td> 5.0810113</td><td>3.754307e-07</td><td>1.354692e-05</td><td>0.81818182</td><td>0.81818182</td><td>0.8587181</td></tr>\n",
       "\t<tr><td>chr11_61822094_61822443</td><td>OL13</td><td>FADS</td><td> 18.24490</td><td>-0.2329890</td><td>0.32637562</td><td>-0.7138678</td><td>4.753090e-01</td><td>7.320079e-01</td><td>0.09090909</td><td>0.09090909</td><td>0.2680910</td></tr>\n",
       "\t<tr><td>chr11_61825795_61826306</td><td>OL13</td><td>FADS</td><td> 48.35102</td><td>-0.1110675</td><td>0.20490050</td><td>-0.5420558</td><td>5.877801e-01</td><td>8.057697e-01</td><td>0.22727273</td><td>0.22727273</td><td>0.3804273</td></tr>\n",
       "</tbody>\n",
       "</table>\n"
      ],
      "text/latex": [
       "A tibble: 6 × 12\n",
       "\\begin{tabular}{llllllllllll}\n",
       " Peak & Dataset & Region & baseMean & log2FoldChange & lfcSE & stat & pvalue & padj & RankNorm\\_Region & RankNorm\\_Dataset & RankNorm\\_Total\\\\\n",
       " <chr> & <chr> & <chr> & <dbl> & <dbl> & <dbl> & <dbl> & <dbl> & <dbl> & <dbl> & <dbl> & <dbl>\\\\\n",
       "\\hline\n",
       "\t chr11\\_61792068\\_61793464 & OL13 & FADS & 160.03009 &  0.8176584 & 0.12513520 &  6.5342001 & 6.395039e-11 & 5.196479e-09 & 1.00000000 & 1.00000000 & 0.9682977\\\\\n",
       "\t chr11\\_61800085\\_61801113 & OL13 & FADS &  67.50282 &  0.3110967 & 0.17603441 &  1.7672494 & 7.718647e-02 & 2.782455e-01 & 0.68181818 & 0.68181818 & 0.7877326\\\\\n",
       "\t chr11\\_61806630\\_61807154 & OL13 & FADS &  48.45170 & -0.1623581 & 0.20512108 & -0.7915234 & 4.286386e-01 & 6.973474e-01 & 0.13636364 & 0.13636364 & 0.3246037\\\\\n",
       "\t chr11\\_61814735\\_61817343 & OL13 & FADS & 385.58378 &  0.4218248 & 0.08301986 &  5.0810113 & 3.754307e-07 & 1.354692e-05 & 0.81818182 & 0.81818182 & 0.8587181\\\\\n",
       "\t chr11\\_61822094\\_61822443 & OL13 & FADS &  18.24490 & -0.2329890 & 0.32637562 & -0.7138678 & 4.753090e-01 & 7.320079e-01 & 0.09090909 & 0.09090909 & 0.2680910\\\\\n",
       "\t chr11\\_61825795\\_61826306 & OL13 & FADS &  48.35102 & -0.1110675 & 0.20490050 & -0.5420558 & 5.877801e-01 & 8.057697e-01 & 0.22727273 & 0.22727273 & 0.3804273\\\\\n",
       "\\end{tabular}\n"
      ],
      "text/markdown": [
       "\n",
       "A tibble: 6 × 12\n",
       "\n",
       "| Peak &lt;chr&gt; | Dataset &lt;chr&gt; | Region &lt;chr&gt; | baseMean &lt;dbl&gt; | log2FoldChange &lt;dbl&gt; | lfcSE &lt;dbl&gt; | stat &lt;dbl&gt; | pvalue &lt;dbl&gt; | padj &lt;dbl&gt; | RankNorm_Region &lt;dbl&gt; | RankNorm_Dataset &lt;dbl&gt; | RankNorm_Total &lt;dbl&gt; |\n",
       "|---|---|---|---|---|---|---|---|---|---|---|---|\n",
       "| chr11_61792068_61793464 | OL13 | FADS | 160.03009 |  0.8176584 | 0.12513520 |  6.5342001 | 6.395039e-11 | 5.196479e-09 | 1.00000000 | 1.00000000 | 0.9682977 |\n",
       "| chr11_61800085_61801113 | OL13 | FADS |  67.50282 |  0.3110967 | 0.17603441 |  1.7672494 | 7.718647e-02 | 2.782455e-01 | 0.68181818 | 0.68181818 | 0.7877326 |\n",
       "| chr11_61806630_61807154 | OL13 | FADS |  48.45170 | -0.1623581 | 0.20512108 | -0.7915234 | 4.286386e-01 | 6.973474e-01 | 0.13636364 | 0.13636364 | 0.3246037 |\n",
       "| chr11_61814735_61817343 | OL13 | FADS | 385.58378 |  0.4218248 | 0.08301986 |  5.0810113 | 3.754307e-07 | 1.354692e-05 | 0.81818182 | 0.81818182 | 0.8587181 |\n",
       "| chr11_61822094_61822443 | OL13 | FADS |  18.24490 | -0.2329890 | 0.32637562 | -0.7138678 | 4.753090e-01 | 7.320079e-01 | 0.09090909 | 0.09090909 | 0.2680910 |\n",
       "| chr11_61825795_61826306 | OL13 | FADS |  48.35102 | -0.1110675 | 0.20490050 | -0.5420558 | 5.877801e-01 | 8.057697e-01 | 0.22727273 | 0.22727273 | 0.3804273 |\n",
       "\n"
      ],
      "text/plain": [
       "  Peak                    Dataset Region baseMean  log2FoldChange lfcSE     \n",
       "1 chr11_61792068_61793464 OL13    FADS   160.03009  0.8176584     0.12513520\n",
       "2 chr11_61800085_61801113 OL13    FADS    67.50282  0.3110967     0.17603441\n",
       "3 chr11_61806630_61807154 OL13    FADS    48.45170 -0.1623581     0.20512108\n",
       "4 chr11_61814735_61817343 OL13    FADS   385.58378  0.4218248     0.08301986\n",
       "5 chr11_61822094_61822443 OL13    FADS    18.24490 -0.2329890     0.32637562\n",
       "6 chr11_61825795_61826306 OL13    FADS    48.35102 -0.1110675     0.20490050\n",
       "  stat       pvalue       padj         RankNorm_Region RankNorm_Dataset\n",
       "1  6.5342001 6.395039e-11 5.196479e-09 1.00000000      1.00000000      \n",
       "2  1.7672494 7.718647e-02 2.782455e-01 0.68181818      0.68181818      \n",
       "3 -0.7915234 4.286386e-01 6.973474e-01 0.13636364      0.13636364      \n",
       "4  5.0810113 3.754307e-07 1.354692e-05 0.81818182      0.81818182      \n",
       "5 -0.7138678 4.753090e-01 7.320079e-01 0.09090909      0.09090909      \n",
       "6 -0.5420558 5.877801e-01 8.057697e-01 0.22727273      0.22727273      \n",
       "  RankNorm_Total\n",
       "1 0.9682977     \n",
       "2 0.7877326     \n",
       "3 0.3246037     \n",
       "4 0.8587181     \n",
       "5 0.2680910     \n",
       "6 0.3804273     "
      ]
     },
     "metadata": {},
     "output_type": "display_data"
    }
   ],
   "source": [
    "fdiry = file.path(FD_RES, \"results\", \"comparison\", \"comparison_global\")\n",
    "fname = \"result.ranknorm.wstarr.tsv\"\n",
    "fpath = file.path(fdiry, fname)\n",
    "\n",
    "dat = read_tsv(fpath, show_col_types = FALSE)\n",
    "\n",
    "dat_ranknorm_wstarr = dat\n",
    "print(dim(dat))\n",
    "head(dat)"
   ]
  },
  {
   "cell_type": "code",
   "execution_count": 4,
   "metadata": {},
   "outputs": [
    {
     "name": "stdout",
     "output_type": "stream",
     "text": [
      "[1] 1451   12\n"
     ]
    },
    {
     "data": {
      "text/html": [
       "<table class=\"dataframe\">\n",
       "<caption>A tibble: 6 × 12</caption>\n",
       "<thead>\n",
       "\t<tr><th scope=col>Peak</th><th scope=col>Dataset</th><th scope=col>Region</th><th scope=col>baseMean</th><th scope=col>log2FoldChange</th><th scope=col>lfcSE</th><th scope=col>stat</th><th scope=col>pvalue</th><th scope=col>padj</th><th scope=col>RankNorm_Region</th><th scope=col>RankNorm_Dataset</th><th scope=col>RankNorm_Total</th></tr>\n",
       "\t<tr><th scope=col>&lt;chr&gt;</th><th scope=col>&lt;chr&gt;</th><th scope=col>&lt;chr&gt;</th><th scope=col>&lt;dbl&gt;</th><th scope=col>&lt;dbl&gt;</th><th scope=col>&lt;dbl&gt;</th><th scope=col>&lt;dbl&gt;</th><th scope=col>&lt;dbl&gt;</th><th scope=col>&lt;dbl&gt;</th><th scope=col>&lt;dbl&gt;</th><th scope=col>&lt;dbl&gt;</th><th scope=col>&lt;dbl&gt;</th></tr>\n",
       "</thead>\n",
       "<tbody>\n",
       "\t<tr><td>chr11_61792068_61793464</td><td>OL13</td><td>FADS</td><td>260242.12</td><td> 1.6665705</td><td>0.04117109</td><td> 40.479145</td><td> 0.000000e+00</td><td> 0.000000e+00</td><td>0.81818182</td><td>0.81818182</td><td>0.83873191</td></tr>\n",
       "\t<tr><td>chr11_61800085_61801113</td><td>OL13</td><td>FADS</td><td>216437.58</td><td> 1.8554055</td><td>0.04972890</td><td> 37.310405</td><td>1.112851e-291</td><td>6.120682e-292</td><td>0.86363636</td><td>0.86363636</td><td>0.86698828</td></tr>\n",
       "\t<tr><td>chr11_61806630_61807154</td><td>OL13</td><td>FADS</td><td> 49327.33</td><td>-1.3562455</td><td>0.08825841</td><td>-15.366758</td><td> 2.735191e-53</td><td> 4.628784e-53</td><td>0.22727273</td><td>0.22727273</td><td>0.01791868</td></tr>\n",
       "\t<tr><td>chr11_61814735_61817343</td><td>OL13</td><td>FADS</td><td>682819.52</td><td> 2.5310135</td><td>0.03452518</td><td> 73.309201</td><td> 0.000000e+00</td><td> 0.000000e+00</td><td>0.95454545</td><td>0.95454545</td><td>0.92901447</td></tr>\n",
       "\t<tr><td>chr11_61822094_61822443</td><td>OL13</td><td>FADS</td><td> 20363.10</td><td>-1.7731145</td><td>0.14597377</td><td>-12.146802</td><td> 5.965339e-34</td><td> 7.719850e-34</td><td>0.04545455</td><td>0.04545455</td><td>0.00206754</td></tr>\n",
       "\t<tr><td>chr11_61825795_61826306</td><td>OL13</td><td>FADS</td><td> 29539.40</td><td>-0.3921839</td><td>0.07941651</td><td> -4.938318</td><td> 7.879932e-07</td><td> 7.879932e-07</td><td>0.50000000</td><td>0.50000000</td><td>0.35975190</td></tr>\n",
       "</tbody>\n",
       "</table>\n"
      ],
      "text/latex": [
       "A tibble: 6 × 12\n",
       "\\begin{tabular}{llllllllllll}\n",
       " Peak & Dataset & Region & baseMean & log2FoldChange & lfcSE & stat & pvalue & padj & RankNorm\\_Region & RankNorm\\_Dataset & RankNorm\\_Total\\\\\n",
       " <chr> & <chr> & <chr> & <dbl> & <dbl> & <dbl> & <dbl> & <dbl> & <dbl> & <dbl> & <dbl> & <dbl>\\\\\n",
       "\\hline\n",
       "\t chr11\\_61792068\\_61793464 & OL13 & FADS & 260242.12 &  1.6665705 & 0.04117109 &  40.479145 &  0.000000e+00 &  0.000000e+00 & 0.81818182 & 0.81818182 & 0.83873191\\\\\n",
       "\t chr11\\_61800085\\_61801113 & OL13 & FADS & 216437.58 &  1.8554055 & 0.04972890 &  37.310405 & 1.112851e-291 & 6.120682e-292 & 0.86363636 & 0.86363636 & 0.86698828\\\\\n",
       "\t chr11\\_61806630\\_61807154 & OL13 & FADS &  49327.33 & -1.3562455 & 0.08825841 & -15.366758 &  2.735191e-53 &  4.628784e-53 & 0.22727273 & 0.22727273 & 0.01791868\\\\\n",
       "\t chr11\\_61814735\\_61817343 & OL13 & FADS & 682819.52 &  2.5310135 & 0.03452518 &  73.309201 &  0.000000e+00 &  0.000000e+00 & 0.95454545 & 0.95454545 & 0.92901447\\\\\n",
       "\t chr11\\_61822094\\_61822443 & OL13 & FADS &  20363.10 & -1.7731145 & 0.14597377 & -12.146802 &  5.965339e-34 &  7.719850e-34 & 0.04545455 & 0.04545455 & 0.00206754\\\\\n",
       "\t chr11\\_61825795\\_61826306 & OL13 & FADS &  29539.40 & -0.3921839 & 0.07941651 &  -4.938318 &  7.879932e-07 &  7.879932e-07 & 0.50000000 & 0.50000000 & 0.35975190\\\\\n",
       "\\end{tabular}\n"
      ],
      "text/markdown": [
       "\n",
       "A tibble: 6 × 12\n",
       "\n",
       "| Peak &lt;chr&gt; | Dataset &lt;chr&gt; | Region &lt;chr&gt; | baseMean &lt;dbl&gt; | log2FoldChange &lt;dbl&gt; | lfcSE &lt;dbl&gt; | stat &lt;dbl&gt; | pvalue &lt;dbl&gt; | padj &lt;dbl&gt; | RankNorm_Region &lt;dbl&gt; | RankNorm_Dataset &lt;dbl&gt; | RankNorm_Total &lt;dbl&gt; |\n",
       "|---|---|---|---|---|---|---|---|---|---|---|---|\n",
       "| chr11_61792068_61793464 | OL13 | FADS | 260242.12 |  1.6665705 | 0.04117109 |  40.479145 |  0.000000e+00 |  0.000000e+00 | 0.81818182 | 0.81818182 | 0.83873191 |\n",
       "| chr11_61800085_61801113 | OL13 | FADS | 216437.58 |  1.8554055 | 0.04972890 |  37.310405 | 1.112851e-291 | 6.120682e-292 | 0.86363636 | 0.86363636 | 0.86698828 |\n",
       "| chr11_61806630_61807154 | OL13 | FADS |  49327.33 | -1.3562455 | 0.08825841 | -15.366758 |  2.735191e-53 |  4.628784e-53 | 0.22727273 | 0.22727273 | 0.01791868 |\n",
       "| chr11_61814735_61817343 | OL13 | FADS | 682819.52 |  2.5310135 | 0.03452518 |  73.309201 |  0.000000e+00 |  0.000000e+00 | 0.95454545 | 0.95454545 | 0.92901447 |\n",
       "| chr11_61822094_61822443 | OL13 | FADS |  20363.10 | -1.7731145 | 0.14597377 | -12.146802 |  5.965339e-34 |  7.719850e-34 | 0.04545455 | 0.04545455 | 0.00206754 |\n",
       "| chr11_61825795_61826306 | OL13 | FADS |  29539.40 | -0.3921839 | 0.07941651 |  -4.938318 |  7.879932e-07 |  7.879932e-07 | 0.50000000 | 0.50000000 | 0.35975190 |\n",
       "\n"
      ],
      "text/plain": [
       "  Peak                    Dataset Region baseMean  log2FoldChange lfcSE     \n",
       "1 chr11_61792068_61793464 OL13    FADS   260242.12  1.6665705     0.04117109\n",
       "2 chr11_61800085_61801113 OL13    FADS   216437.58  1.8554055     0.04972890\n",
       "3 chr11_61806630_61807154 OL13    FADS    49327.33 -1.3562455     0.08825841\n",
       "4 chr11_61814735_61817343 OL13    FADS   682819.52  2.5310135     0.03452518\n",
       "5 chr11_61822094_61822443 OL13    FADS    20363.10 -1.7731145     0.14597377\n",
       "6 chr11_61825795_61826306 OL13    FADS    29539.40 -0.3921839     0.07941651\n",
       "  stat       pvalue        padj          RankNorm_Region RankNorm_Dataset\n",
       "1  40.479145  0.000000e+00  0.000000e+00 0.81818182      0.81818182      \n",
       "2  37.310405 1.112851e-291 6.120682e-292 0.86363636      0.86363636      \n",
       "3 -15.366758  2.735191e-53  4.628784e-53 0.22727273      0.22727273      \n",
       "4  73.309201  0.000000e+00  0.000000e+00 0.95454545      0.95454545      \n",
       "5 -12.146802  5.965339e-34  7.719850e-34 0.04545455      0.04545455      \n",
       "6  -4.938318  7.879932e-07  7.879932e-07 0.50000000      0.50000000      \n",
       "  RankNorm_Total\n",
       "1 0.83873191    \n",
       "2 0.86698828    \n",
       "3 0.01791868    \n",
       "4 0.92901447    \n",
       "5 0.00206754    \n",
       "6 0.35975190    "
      ]
     },
     "metadata": {},
     "output_type": "display_data"
    }
   ],
   "source": [
    "fdiry = file.path(FD_RES, \"results\", \"comparison\", \"comparison_global\")\n",
    "fname = \"result.ranknorm.tmpra.tsv\"\n",
    "fpath = file.path(fdiry, fname)\n",
    "\n",
    "dat = read_tsv(fpath, show_col_types = FALSE)\n",
    "\n",
    "dat_ranknorm_tmpra = dat\n",
    "print(dim(dat))\n",
    "head(dat)"
   ]
  },
  {
   "cell_type": "markdown",
   "metadata": {},
   "source": [
    "## Import data (CRISPR)"
   ]
  },
  {
   "cell_type": "code",
   "execution_count": 17,
   "metadata": {},
   "outputs": [
    {
     "name": "stdout",
     "output_type": "stream",
     "text": [
      "[1] 1358   24\n"
     ]
    },
    {
     "data": {
      "text/html": [
       "<table class=\"dataframe\">\n",
       "<caption>A tibble: 6 × 24</caption>\n",
       "<thead>\n",
       "\t<tr><th scope=col>Peak</th><th scope=col>Chrom</th><th scope=col>Start</th><th scope=col>End</th><th scope=col>NMU</th><th scope=col>MEF2C</th><th scope=col>CD164</th><th scope=col>MYB</th><th scope=col>HBS1L</th><th scope=col>HBG1</th><th scope=col>⋯</th><th scope=col>LMO2</th><th scope=col>CAPRIN1</th><th scope=col>CAT</th><th scope=col>FADS1</th><th scope=col>FADS2</th><th scope=col>FADS3</th><th scope=col>FEN1</th><th scope=col>ERP29</th><th scope=col>GATA1</th><th scope=col>HDAC6</th></tr>\n",
       "\t<tr><th scope=col>&lt;chr&gt;</th><th scope=col>&lt;chr&gt;</th><th scope=col>&lt;dbl&gt;</th><th scope=col>&lt;dbl&gt;</th><th scope=col>&lt;dbl&gt;</th><th scope=col>&lt;dbl&gt;</th><th scope=col>&lt;dbl&gt;</th><th scope=col>&lt;dbl&gt;</th><th scope=col>&lt;dbl&gt;</th><th scope=col>&lt;dbl&gt;</th><th scope=col>⋯</th><th scope=col>&lt;dbl&gt;</th><th scope=col>&lt;dbl&gt;</th><th scope=col>&lt;dbl&gt;</th><th scope=col>&lt;dbl&gt;</th><th scope=col>&lt;dbl&gt;</th><th scope=col>&lt;dbl&gt;</th><th scope=col>&lt;dbl&gt;</th><th scope=col>&lt;dbl&gt;</th><th scope=col>&lt;dbl&gt;</th><th scope=col>&lt;dbl&gt;</th></tr>\n",
       "</thead>\n",
       "<tbody>\n",
       "\t<tr><td>chr2_129361843_129362257</td><td>chr2</td><td>129361843</td><td>129362257</td><td> 0.57979600</td><td>0</td><td>0.134735</td><td>0.099261</td><td>-0.21383</td><td>-0.794888</td><td>⋯</td><td>0</td><td>0</td><td>0</td><td>0</td><td>0</td><td>0</td><td>0</td><td>0</td><td>0.000000</td><td> 0.000000</td></tr>\n",
       "\t<tr><td>chr3_128486843_128489642</td><td>chr3</td><td>128486843</td><td>128489642</td><td> 0.00000000</td><td>0</td><td>0.000000</td><td>0.000000</td><td> 0.00000</td><td> 0.000000</td><td>⋯</td><td>0</td><td>0</td><td>0</td><td>0</td><td>0</td><td>0</td><td>0</td><td>0</td><td>0.260774</td><td>-0.137354</td></tr>\n",
       "\t<tr><td>chr4_55270087_55270436  </td><td>chr4</td><td> 55270087</td><td> 55270436</td><td>-0.08950373</td><td>0</td><td>0.000000</td><td>0.000000</td><td> 0.00000</td><td> 0.000000</td><td>⋯</td><td>0</td><td>0</td><td>0</td><td>0</td><td>0</td><td>0</td><td>0</td><td>0</td><td>0.000000</td><td> 0.000000</td></tr>\n",
       "\t<tr><td>chr4_55293902_55294193  </td><td>chr4</td><td> 55293902</td><td> 55294193</td><td>-0.08497190</td><td>0</td><td>0.000000</td><td>0.000000</td><td> 0.00000</td><td> 0.000000</td><td>⋯</td><td>0</td><td>0</td><td>0</td><td>0</td><td>0</td><td>0</td><td>0</td><td>0</td><td>0.000000</td><td> 0.000000</td></tr>\n",
       "\t<tr><td>chr4_55296965_55297999  </td><td>chr4</td><td> 55296965</td><td> 55297999</td><td>-0.34007295</td><td>0</td><td>0.000000</td><td>0.000000</td><td> 0.00000</td><td> 0.000000</td><td>⋯</td><td>0</td><td>0</td><td>0</td><td>0</td><td>0</td><td>0</td><td>0</td><td>0</td><td>0.000000</td><td> 0.000000</td></tr>\n",
       "\t<tr><td>chr4_55312019_55312784  </td><td>chr4</td><td> 55312019</td><td> 55312784</td><td> 0.21455504</td><td>0</td><td>0.000000</td><td>0.000000</td><td> 0.00000</td><td> 0.000000</td><td>⋯</td><td>0</td><td>0</td><td>0</td><td>0</td><td>0</td><td>0</td><td>0</td><td>0</td><td>0.000000</td><td> 0.000000</td></tr>\n",
       "</tbody>\n",
       "</table>\n"
      ],
      "text/latex": [
       "A tibble: 6 × 24\n",
       "\\begin{tabular}{lllllllllllllllllllll}\n",
       " Peak & Chrom & Start & End & NMU & MEF2C & CD164 & MYB & HBS1L & HBG1 & ⋯ & LMO2 & CAPRIN1 & CAT & FADS1 & FADS2 & FADS3 & FEN1 & ERP29 & GATA1 & HDAC6\\\\\n",
       " <chr> & <chr> & <dbl> & <dbl> & <dbl> & <dbl> & <dbl> & <dbl> & <dbl> & <dbl> & ⋯ & <dbl> & <dbl> & <dbl> & <dbl> & <dbl> & <dbl> & <dbl> & <dbl> & <dbl> & <dbl>\\\\\n",
       "\\hline\n",
       "\t chr2\\_129361843\\_129362257 & chr2 & 129361843 & 129362257 &  0.57979600 & 0 & 0.134735 & 0.099261 & -0.21383 & -0.794888 & ⋯ & 0 & 0 & 0 & 0 & 0 & 0 & 0 & 0 & 0.000000 &  0.000000\\\\\n",
       "\t chr3\\_128486843\\_128489642 & chr3 & 128486843 & 128489642 &  0.00000000 & 0 & 0.000000 & 0.000000 &  0.00000 &  0.000000 & ⋯ & 0 & 0 & 0 & 0 & 0 & 0 & 0 & 0 & 0.260774 & -0.137354\\\\\n",
       "\t chr4\\_55270087\\_55270436   & chr4 &  55270087 &  55270436 & -0.08950373 & 0 & 0.000000 & 0.000000 &  0.00000 &  0.000000 & ⋯ & 0 & 0 & 0 & 0 & 0 & 0 & 0 & 0 & 0.000000 &  0.000000\\\\\n",
       "\t chr4\\_55293902\\_55294193   & chr4 &  55293902 &  55294193 & -0.08497190 & 0 & 0.000000 & 0.000000 &  0.00000 &  0.000000 & ⋯ & 0 & 0 & 0 & 0 & 0 & 0 & 0 & 0 & 0.000000 &  0.000000\\\\\n",
       "\t chr4\\_55296965\\_55297999   & chr4 &  55296965 &  55297999 & -0.34007295 & 0 & 0.000000 & 0.000000 &  0.00000 &  0.000000 & ⋯ & 0 & 0 & 0 & 0 & 0 & 0 & 0 & 0 & 0.000000 &  0.000000\\\\\n",
       "\t chr4\\_55312019\\_55312784   & chr4 &  55312019 &  55312784 &  0.21455504 & 0 & 0.000000 & 0.000000 &  0.00000 &  0.000000 & ⋯ & 0 & 0 & 0 & 0 & 0 & 0 & 0 & 0 & 0.000000 &  0.000000\\\\\n",
       "\\end{tabular}\n"
      ],
      "text/markdown": [
       "\n",
       "A tibble: 6 × 24\n",
       "\n",
       "| Peak &lt;chr&gt; | Chrom &lt;chr&gt; | Start &lt;dbl&gt; | End &lt;dbl&gt; | NMU &lt;dbl&gt; | MEF2C &lt;dbl&gt; | CD164 &lt;dbl&gt; | MYB &lt;dbl&gt; | HBS1L &lt;dbl&gt; | HBG1 &lt;dbl&gt; | ⋯ ⋯ | LMO2 &lt;dbl&gt; | CAPRIN1 &lt;dbl&gt; | CAT &lt;dbl&gt; | FADS1 &lt;dbl&gt; | FADS2 &lt;dbl&gt; | FADS3 &lt;dbl&gt; | FEN1 &lt;dbl&gt; | ERP29 &lt;dbl&gt; | GATA1 &lt;dbl&gt; | HDAC6 &lt;dbl&gt; |\n",
       "|---|---|---|---|---|---|---|---|---|---|---|---|---|---|---|---|---|---|---|---|---|\n",
       "| chr2_129361843_129362257 | chr2 | 129361843 | 129362257 |  0.57979600 | 0 | 0.134735 | 0.099261 | -0.21383 | -0.794888 | ⋯ | 0 | 0 | 0 | 0 | 0 | 0 | 0 | 0 | 0.000000 |  0.000000 |\n",
       "| chr3_128486843_128489642 | chr3 | 128486843 | 128489642 |  0.00000000 | 0 | 0.000000 | 0.000000 |  0.00000 |  0.000000 | ⋯ | 0 | 0 | 0 | 0 | 0 | 0 | 0 | 0 | 0.260774 | -0.137354 |\n",
       "| chr4_55270087_55270436   | chr4 |  55270087 |  55270436 | -0.08950373 | 0 | 0.000000 | 0.000000 |  0.00000 |  0.000000 | ⋯ | 0 | 0 | 0 | 0 | 0 | 0 | 0 | 0 | 0.000000 |  0.000000 |\n",
       "| chr4_55293902_55294193   | chr4 |  55293902 |  55294193 | -0.08497190 | 0 | 0.000000 | 0.000000 |  0.00000 |  0.000000 | ⋯ | 0 | 0 | 0 | 0 | 0 | 0 | 0 | 0 | 0.000000 |  0.000000 |\n",
       "| chr4_55296965_55297999   | chr4 |  55296965 |  55297999 | -0.34007295 | 0 | 0.000000 | 0.000000 |  0.00000 |  0.000000 | ⋯ | 0 | 0 | 0 | 0 | 0 | 0 | 0 | 0 | 0.000000 |  0.000000 |\n",
       "| chr4_55312019_55312784   | chr4 |  55312019 |  55312784 |  0.21455504 | 0 | 0.000000 | 0.000000 |  0.00000 |  0.000000 | ⋯ | 0 | 0 | 0 | 0 | 0 | 0 | 0 | 0 | 0.000000 |  0.000000 |\n",
       "\n"
      ],
      "text/plain": [
       "  Peak                     Chrom Start     End       NMU         MEF2C CD164   \n",
       "1 chr2_129361843_129362257 chr2  129361843 129362257  0.57979600 0     0.134735\n",
       "2 chr3_128486843_128489642 chr3  128486843 128489642  0.00000000 0     0.000000\n",
       "3 chr4_55270087_55270436   chr4   55270087  55270436 -0.08950373 0     0.000000\n",
       "4 chr4_55293902_55294193   chr4   55293902  55294193 -0.08497190 0     0.000000\n",
       "5 chr4_55296965_55297999   chr4   55296965  55297999 -0.34007295 0     0.000000\n",
       "6 chr4_55312019_55312784   chr4   55312019  55312784  0.21455504 0     0.000000\n",
       "  MYB      HBS1L    HBG1      ⋯ LMO2 CAPRIN1 CAT FADS1 FADS2 FADS3 FEN1 ERP29\n",
       "1 0.099261 -0.21383 -0.794888 ⋯ 0    0       0   0     0     0     0    0    \n",
       "2 0.000000  0.00000  0.000000 ⋯ 0    0       0   0     0     0     0    0    \n",
       "3 0.000000  0.00000  0.000000 ⋯ 0    0       0   0     0     0     0    0    \n",
       "4 0.000000  0.00000  0.000000 ⋯ 0    0       0   0     0     0     0    0    \n",
       "5 0.000000  0.00000  0.000000 ⋯ 0    0       0   0     0     0     0    0    \n",
       "6 0.000000  0.00000  0.000000 ⋯ 0    0       0   0     0     0     0    0    \n",
       "  GATA1    HDAC6    \n",
       "1 0.000000  0.000000\n",
       "2 0.260774 -0.137354\n",
       "3 0.000000  0.000000\n",
       "4 0.000000  0.000000\n",
       "5 0.000000  0.000000\n",
       "6 0.000000  0.000000"
      ]
     },
     "metadata": {},
     "output_type": "display_data"
    }
   ],
   "source": [
    "ASSAY  = \"CRISPR\"\n",
    "FOLDER = \"coverage_astarrseq_peak_macs_input\"\n",
    "\n",
    "fdiry = file.path(FD_RES, \"results\", ASSAY, FOLDER, \"summary\")\n",
    "fname = \"matrix.Log2FC.hcrff.tsv\"\n",
    "fpath = file.path(fdiry, fname)\n",
    "\n",
    "dat = read_tsv(fpath, show_col_types = FALSE)\n",
    "\n",
    "dat_crispr = dat\n",
    "print(dim(dat))\n",
    "head(dat)"
   ]
  },
  {
   "cell_type": "markdown",
   "metadata": {},
   "source": [
    "## Import data (Genomic context: TF & CA)"
   ]
  },
  {
   "cell_type": "code",
   "execution_count": 6,
   "metadata": {},
   "outputs": [
    {
     "name": "stdout",
     "output_type": "stream",
     "text": [
      "[1] 4732739       6\n"
     ]
    },
    {
     "data": {
      "text/html": [
       "<table class=\"dataframe\">\n",
       "<caption>A tibble: 6 × 6</caption>\n",
       "<thead>\n",
       "\t<tr><th scope=col>Peak</th><th scope=col>Name</th><th scope=col>Count</th><th scope=col>Total</th><th scope=col>Freq</th><th scope=col>Type</th></tr>\n",
       "\t<tr><th scope=col>&lt;chr&gt;</th><th scope=col>&lt;chr&gt;</th><th scope=col>&lt;dbl&gt;</th><th scope=col>&lt;dbl&gt;</th><th scope=col>&lt;dbl&gt;</th><th scope=col>&lt;chr&gt;</th></tr>\n",
       "</thead>\n",
       "<tbody>\n",
       "\t<tr><td>chr1_100006256_100006880</td><td>TAF15</td><td>1</td><td>1</td><td>1.0000000</td><td>TF-Binding</td></tr>\n",
       "\t<tr><td>chr1_10002087_10003910  </td><td>CBX2 </td><td>1</td><td>6</td><td>0.1666667</td><td>TF-Binding</td></tr>\n",
       "\t<tr><td>chr1_10002087_10003910  </td><td>CBX8 </td><td>1</td><td>6</td><td>0.1666667</td><td>TF-Binding</td></tr>\n",
       "\t<tr><td>chr1_10002087_10003910  </td><td>CEBPB</td><td>1</td><td>6</td><td>0.1666667</td><td>TF-Binding</td></tr>\n",
       "\t<tr><td>chr1_10002087_10003910  </td><td>ETS1 </td><td>1</td><td>6</td><td>0.1666667</td><td>TF-Binding</td></tr>\n",
       "\t<tr><td>chr1_10002087_10003910  </td><td>HINFP</td><td>1</td><td>6</td><td>0.1666667</td><td>TF-Binding</td></tr>\n",
       "</tbody>\n",
       "</table>\n"
      ],
      "text/latex": [
       "A tibble: 6 × 6\n",
       "\\begin{tabular}{llllll}\n",
       " Peak & Name & Count & Total & Freq & Type\\\\\n",
       " <chr> & <chr> & <dbl> & <dbl> & <dbl> & <chr>\\\\\n",
       "\\hline\n",
       "\t chr1\\_100006256\\_100006880 & TAF15 & 1 & 1 & 1.0000000 & TF-Binding\\\\\n",
       "\t chr1\\_10002087\\_10003910   & CBX2  & 1 & 6 & 0.1666667 & TF-Binding\\\\\n",
       "\t chr1\\_10002087\\_10003910   & CBX8  & 1 & 6 & 0.1666667 & TF-Binding\\\\\n",
       "\t chr1\\_10002087\\_10003910   & CEBPB & 1 & 6 & 0.1666667 & TF-Binding\\\\\n",
       "\t chr1\\_10002087\\_10003910   & ETS1  & 1 & 6 & 0.1666667 & TF-Binding\\\\\n",
       "\t chr1\\_10002087\\_10003910   & HINFP & 1 & 6 & 0.1666667 & TF-Binding\\\\\n",
       "\\end{tabular}\n"
      ],
      "text/markdown": [
       "\n",
       "A tibble: 6 × 6\n",
       "\n",
       "| Peak &lt;chr&gt; | Name &lt;chr&gt; | Count &lt;dbl&gt; | Total &lt;dbl&gt; | Freq &lt;dbl&gt; | Type &lt;chr&gt; |\n",
       "|---|---|---|---|---|---|\n",
       "| chr1_100006256_100006880 | TAF15 | 1 | 1 | 1.0000000 | TF-Binding |\n",
       "| chr1_10002087_10003910   | CBX2  | 1 | 6 | 0.1666667 | TF-Binding |\n",
       "| chr1_10002087_10003910   | CBX8  | 1 | 6 | 0.1666667 | TF-Binding |\n",
       "| chr1_10002087_10003910   | CEBPB | 1 | 6 | 0.1666667 | TF-Binding |\n",
       "| chr1_10002087_10003910   | ETS1  | 1 | 6 | 0.1666667 | TF-Binding |\n",
       "| chr1_10002087_10003910   | HINFP | 1 | 6 | 0.1666667 | TF-Binding |\n",
       "\n"
      ],
      "text/plain": [
       "  Peak                     Name  Count Total Freq      Type      \n",
       "1 chr1_100006256_100006880 TAF15 1     1     1.0000000 TF-Binding\n",
       "2 chr1_10002087_10003910   CBX2  1     6     0.1666667 TF-Binding\n",
       "3 chr1_10002087_10003910   CBX8  1     6     0.1666667 TF-Binding\n",
       "4 chr1_10002087_10003910   CEBPB 1     6     0.1666667 TF-Binding\n",
       "5 chr1_10002087_10003910   ETS1  1     6     0.1666667 TF-Binding\n",
       "6 chr1_10002087_10003910   HINFP 1     6     0.1666667 TF-Binding"
      ]
     },
     "metadata": {},
     "output_type": "display_data"
    }
   ],
   "source": [
    "fdiry = file.path(FD_RES, \"region\", \"KS91_K562_ASTARRseq_peak_macs\")\n",
    "fname = \"KS91_K562_hg38_ASTARRseq_Input.count.remap2022_nr.tsv\"\n",
    "fpath = file.path(fdiry, fname)\n",
    "\n",
    "dat = read_tsv(fpath, show_col_types = FALSE) %>% dplyr::mutate(Type = \"TF-Binding\")\n",
    "dat_peak_count_remap = dat\n",
    "print(dim(dat))\n",
    "head(dat)"
   ]
  },
  {
   "cell_type": "code",
   "execution_count": 7,
   "metadata": {},
   "outputs": [
    {
     "name": "stdout",
     "output_type": "stream",
     "text": [
      "[1] 246852      6\n"
     ]
    },
    {
     "data": {
      "text/html": [
       "<table class=\"dataframe\">\n",
       "<caption>A tibble: 6 × 6</caption>\n",
       "<thead>\n",
       "\t<tr><th scope=col>Peak</th><th scope=col>Input</th><th scope=col>Length</th><th scope=col>Pct_GC</th><th scope=col>Residual</th><th scope=col>Score</th></tr>\n",
       "\t<tr><th scope=col>&lt;chr&gt;</th><th scope=col>&lt;dbl&gt;</th><th scope=col>&lt;dbl&gt;</th><th scope=col>&lt;dbl&gt;</th><th scope=col>&lt;dbl&gt;</th><th scope=col>&lt;dbl&gt;</th></tr>\n",
       "</thead>\n",
       "<tbody>\n",
       "\t<tr><td>chr1_10015_10442</td><td>0.4863317</td><td>427</td><td>0.522248</td><td> 0.25149985</td><td>0.1362392</td></tr>\n",
       "\t<tr><td>chr1_14253_14645</td><td>0.3152472</td><td>392</td><td>0.573980</td><td> 0.19879784</td><td>0.1357280</td></tr>\n",
       "\t<tr><td>chr1_16015_16477</td><td>0.4361424</td><td>462</td><td>0.541126</td><td> 0.08292808</td><td>0.1346040</td></tr>\n",
       "\t<tr><td>chr1_17237_17772</td><td>0.8007562</td><td>535</td><td>0.614953</td><td> 0.20062968</td><td>0.1357457</td></tr>\n",
       "\t<tr><td>chr1_28903_29613</td><td>0.7629703</td><td>710</td><td>0.759155</td><td>-0.42906879</td><td>0.1296375</td></tr>\n",
       "\t<tr><td>chr1_30803_31072</td><td>0.2774187</td><td>269</td><td>0.501859</td><td> 0.57699942</td><td>0.1393966</td></tr>\n",
       "</tbody>\n",
       "</table>\n"
      ],
      "text/latex": [
       "A tibble: 6 × 6\n",
       "\\begin{tabular}{llllll}\n",
       " Peak & Input & Length & Pct\\_GC & Residual & Score\\\\\n",
       " <chr> & <dbl> & <dbl> & <dbl> & <dbl> & <dbl>\\\\\n",
       "\\hline\n",
       "\t chr1\\_10015\\_10442 & 0.4863317 & 427 & 0.522248 &  0.25149985 & 0.1362392\\\\\n",
       "\t chr1\\_14253\\_14645 & 0.3152472 & 392 & 0.573980 &  0.19879784 & 0.1357280\\\\\n",
       "\t chr1\\_16015\\_16477 & 0.4361424 & 462 & 0.541126 &  0.08292808 & 0.1346040\\\\\n",
       "\t chr1\\_17237\\_17772 & 0.8007562 & 535 & 0.614953 &  0.20062968 & 0.1357457\\\\\n",
       "\t chr1\\_28903\\_29613 & 0.7629703 & 710 & 0.759155 & -0.42906879 & 0.1296375\\\\\n",
       "\t chr1\\_30803\\_31072 & 0.2774187 & 269 & 0.501859 &  0.57699942 & 0.1393966\\\\\n",
       "\\end{tabular}\n"
      ],
      "text/markdown": [
       "\n",
       "A tibble: 6 × 6\n",
       "\n",
       "| Peak &lt;chr&gt; | Input &lt;dbl&gt; | Length &lt;dbl&gt; | Pct_GC &lt;dbl&gt; | Residual &lt;dbl&gt; | Score &lt;dbl&gt; |\n",
       "|---|---|---|---|---|---|\n",
       "| chr1_10015_10442 | 0.4863317 | 427 | 0.522248 |  0.25149985 | 0.1362392 |\n",
       "| chr1_14253_14645 | 0.3152472 | 392 | 0.573980 |  0.19879784 | 0.1357280 |\n",
       "| chr1_16015_16477 | 0.4361424 | 462 | 0.541126 |  0.08292808 | 0.1346040 |\n",
       "| chr1_17237_17772 | 0.8007562 | 535 | 0.614953 |  0.20062968 | 0.1357457 |\n",
       "| chr1_28903_29613 | 0.7629703 | 710 | 0.759155 | -0.42906879 | 0.1296375 |\n",
       "| chr1_30803_31072 | 0.2774187 | 269 | 0.501859 |  0.57699942 | 0.1393966 |\n",
       "\n"
      ],
      "text/plain": [
       "  Peak             Input     Length Pct_GC   Residual    Score    \n",
       "1 chr1_10015_10442 0.4863317 427    0.522248  0.25149985 0.1362392\n",
       "2 chr1_14253_14645 0.3152472 392    0.573980  0.19879784 0.1357280\n",
       "3 chr1_16015_16477 0.4361424 462    0.541126  0.08292808 0.1346040\n",
       "4 chr1_17237_17772 0.8007562 535    0.614953  0.20062968 0.1357457\n",
       "5 chr1_28903_29613 0.7629703 710    0.759155 -0.42906879 0.1296375\n",
       "6 chr1_30803_31072 0.2774187 269    0.501859  0.57699942 0.1393966"
      ]
     },
     "metadata": {},
     "output_type": "display_data"
    }
   ],
   "source": [
    "ASSAY   = \"KS91_K562_ASTARRseq\"\n",
    "FOLDER  = \"coverage_astarrseq_peak_macs_input\"\n",
    "\n",
    "fdiry = file.path(FD_RES, \"results\", ASSAY, FOLDER, \"summary\")\n",
    "fname = \"result.chromatin_accessibility.WGS.tsv\"\n",
    "fpath = file.path(fdiry, fname)\n",
    "\n",
    "dat = read_tsv(fpath, show_col_types = FALSE)\n",
    "dat_chromatin_access =  dat\n",
    "print(dim(dat))\n",
    "head(dat)"
   ]
  },
  {
   "cell_type": "code",
   "execution_count": 8,
   "metadata": {},
   "outputs": [],
   "source": [
    "target = c(\"GATA1\", \"MYC\", \"LMO2\")\n",
    "tfs    = unique(dat_peak_count_remap$Name)"
   ]
  },
  {
   "cell_type": "code",
   "execution_count": 9,
   "metadata": {},
   "outputs": [
    {
     "data": {
      "text/html": [
       "TRUE"
      ],
      "text/latex": [
       "TRUE"
      ],
      "text/markdown": [
       "TRUE"
      ],
      "text/plain": [
       "[1] TRUE"
      ]
     },
     "metadata": {},
     "output_type": "display_data"
    }
   ],
   "source": [
    "any(str_detect(string = tfs, pattern = \"GATA1\"))"
   ]
  },
  {
   "cell_type": "code",
   "execution_count": 10,
   "metadata": {},
   "outputs": [
    {
     "data": {
      "text/html": [
       "TRUE"
      ],
      "text/latex": [
       "TRUE"
      ],
      "text/markdown": [
       "TRUE"
      ],
      "text/plain": [
       "[1] TRUE"
      ]
     },
     "metadata": {},
     "output_type": "display_data"
    }
   ],
   "source": [
    "any(str_detect(string = tfs, pattern = \"MYC\"))"
   ]
  },
  {
   "cell_type": "code",
   "execution_count": 11,
   "metadata": {},
   "outputs": [
    {
     "data": {
      "text/html": [
       "FALSE"
      ],
      "text/latex": [
       "FALSE"
      ],
      "text/markdown": [
       "FALSE"
      ],
      "text/plain": [
       "[1] FALSE"
      ]
     },
     "metadata": {},
     "output_type": "display_data"
    }
   ],
   "source": [
    "any(str_detect(string = tfs, pattern = \"RBT\"))"
   ]
  },
  {
   "cell_type": "code",
   "execution_count": 12,
   "metadata": {},
   "outputs": [
    {
     "data": {
      "text/html": [
       "FALSE"
      ],
      "text/latex": [
       "FALSE"
      ],
      "text/markdown": [
       "FALSE"
      ],
      "text/plain": [
       "[1] FALSE"
      ]
     },
     "metadata": {},
     "output_type": "display_data"
    }
   ],
   "source": [
    "any(str_detect(string = tfs, pattern = \"RHOM\"))"
   ]
  },
  {
   "cell_type": "markdown",
   "metadata": {},
   "source": [
    "## Import data (Peak label)"
   ]
  },
  {
   "cell_type": "code",
   "execution_count": 13,
   "metadata": {},
   "outputs": [
    {
     "name": "stdout",
     "output_type": "stream",
     "text": [
      "[1] 1451    6\n"
     ]
    },
    {
     "data": {
      "text/html": [
       "<table class=\"dataframe\">\n",
       "<caption>A tibble: 6 × 6</caption>\n",
       "<thead>\n",
       "\t<tr><th scope=col>Peak</th><th scope=col>Chrom</th><th scope=col>Start</th><th scope=col>End</th><th scope=col>Dataset</th><th scope=col>Region</th></tr>\n",
       "\t<tr><th scope=col>&lt;chr&gt;</th><th scope=col>&lt;chr&gt;</th><th scope=col>&lt;dbl&gt;</th><th scope=col>&lt;dbl&gt;</th><th scope=col>&lt;chr&gt;</th><th scope=col>&lt;chr&gt;</th></tr>\n",
       "</thead>\n",
       "<tbody>\n",
       "\t<tr><td>chr11_61792068_61793464</td><td>chr11</td><td>61792068</td><td>61793464</td><td>OL13</td><td>FADS</td></tr>\n",
       "\t<tr><td>chr11_61800085_61801113</td><td>chr11</td><td>61800085</td><td>61801113</td><td>OL13</td><td>FADS</td></tr>\n",
       "\t<tr><td>chr11_61806630_61807154</td><td>chr11</td><td>61806630</td><td>61807154</td><td>OL13</td><td>FADS</td></tr>\n",
       "\t<tr><td>chr11_61814735_61817343</td><td>chr11</td><td>61814735</td><td>61817343</td><td>OL13</td><td>FADS</td></tr>\n",
       "\t<tr><td>chr11_61822094_61822443</td><td>chr11</td><td>61822094</td><td>61822443</td><td>OL13</td><td>FADS</td></tr>\n",
       "\t<tr><td>chr11_61825795_61826306</td><td>chr11</td><td>61825795</td><td>61826306</td><td>OL13</td><td>FADS</td></tr>\n",
       "</tbody>\n",
       "</table>\n"
      ],
      "text/latex": [
       "A tibble: 6 × 6\n",
       "\\begin{tabular}{llllll}\n",
       " Peak & Chrom & Start & End & Dataset & Region\\\\\n",
       " <chr> & <chr> & <dbl> & <dbl> & <chr> & <chr>\\\\\n",
       "\\hline\n",
       "\t chr11\\_61792068\\_61793464 & chr11 & 61792068 & 61793464 & OL13 & FADS\\\\\n",
       "\t chr11\\_61800085\\_61801113 & chr11 & 61800085 & 61801113 & OL13 & FADS\\\\\n",
       "\t chr11\\_61806630\\_61807154 & chr11 & 61806630 & 61807154 & OL13 & FADS\\\\\n",
       "\t chr11\\_61814735\\_61817343 & chr11 & 61814735 & 61817343 & OL13 & FADS\\\\\n",
       "\t chr11\\_61822094\\_61822443 & chr11 & 61822094 & 61822443 & OL13 & FADS\\\\\n",
       "\t chr11\\_61825795\\_61826306 & chr11 & 61825795 & 61826306 & OL13 & FADS\\\\\n",
       "\\end{tabular}\n"
      ],
      "text/markdown": [
       "\n",
       "A tibble: 6 × 6\n",
       "\n",
       "| Peak &lt;chr&gt; | Chrom &lt;chr&gt; | Start &lt;dbl&gt; | End &lt;dbl&gt; | Dataset &lt;chr&gt; | Region &lt;chr&gt; |\n",
       "|---|---|---|---|---|---|\n",
       "| chr11_61792068_61793464 | chr11 | 61792068 | 61793464 | OL13 | FADS |\n",
       "| chr11_61800085_61801113 | chr11 | 61800085 | 61801113 | OL13 | FADS |\n",
       "| chr11_61806630_61807154 | chr11 | 61806630 | 61807154 | OL13 | FADS |\n",
       "| chr11_61814735_61817343 | chr11 | 61814735 | 61817343 | OL13 | FADS |\n",
       "| chr11_61822094_61822443 | chr11 | 61822094 | 61822443 | OL13 | FADS |\n",
       "| chr11_61825795_61826306 | chr11 | 61825795 | 61826306 | OL13 | FADS |\n",
       "\n"
      ],
      "text/plain": [
       "  Peak                    Chrom Start    End      Dataset Region\n",
       "1 chr11_61792068_61793464 chr11 61792068 61793464 OL13    FADS  \n",
       "2 chr11_61800085_61801113 chr11 61800085 61801113 OL13    FADS  \n",
       "3 chr11_61806630_61807154 chr11 61806630 61807154 OL13    FADS  \n",
       "4 chr11_61814735_61817343 chr11 61814735 61817343 OL13    FADS  \n",
       "5 chr11_61822094_61822443 chr11 61822094 61822443 OL13    FADS  \n",
       "6 chr11_61825795_61826306 chr11 61825795 61826306 OL13    FADS  "
      ]
     },
     "metadata": {},
     "output_type": "display_data"
    }
   ],
   "source": [
    "fdiry = file.path(FD_RES, \"results\", \"comparison\")\n",
    "fname = \"dat_peaks_info.tsv\"\n",
    "fpath = file.path(fdiry, fname)\n",
    "\n",
    "dat = read_tsv(fpath, show_col_types = FALSE)\n",
    "\n",
    "###\n",
    "dat_peak_info = dat\n",
    "print(dim(dat))\n",
    "head(dat)"
   ]
  },
  {
   "cell_type": "markdown",
   "metadata": {},
   "source": [
    "-----"
   ]
  },
  {
   "cell_type": "markdown",
   "metadata": {},
   "source": [
    "## Plot MPRA/STARR"
   ]
  },
  {
   "cell_type": "code",
   "execution_count": 14,
   "metadata": {},
   "outputs": [
    {
     "name": "stdout",
     "output_type": "stream",
     "text": [
      "[1] 618   3\n"
     ]
    },
    {
     "data": {
      "text/html": [
       "<table class=\"dataframe\">\n",
       "<caption>A tibble: 6 × 3</caption>\n",
       "<thead>\n",
       "\t<tr><th scope=col>Peak</th><th scope=col>Assay</th><th scope=col>Value</th></tr>\n",
       "\t<tr><th scope=col>&lt;chr&gt;</th><th scope=col>&lt;chr&gt;</th><th scope=col>&lt;dbl&gt;</th></tr>\n",
       "</thead>\n",
       "<tbody>\n",
       "\t<tr><td>chrX_47796208_47796828</td><td>ASTARR</td><td>0.9660194</td></tr>\n",
       "\t<tr><td>chrX_47806139_47808167</td><td>ASTARR</td><td>0.8543689</td></tr>\n",
       "\t<tr><td>chrX_47809119_47809445</td><td>ASTARR</td><td>0.5873786</td></tr>\n",
       "\t<tr><td>chrX_47814810_47815443</td><td>ASTARR</td><td>0.2766990</td></tr>\n",
       "\t<tr><td>chrX_47816459_47818070</td><td>ASTARR</td><td>0.9126214</td></tr>\n",
       "\t<tr><td>chrX_47836113_47837157</td><td>ASTARR</td><td>0.9902913</td></tr>\n",
       "</tbody>\n",
       "</table>\n"
      ],
      "text/latex": [
       "A tibble: 6 × 3\n",
       "\\begin{tabular}{lll}\n",
       " Peak & Assay & Value\\\\\n",
       " <chr> & <chr> & <dbl>\\\\\n",
       "\\hline\n",
       "\t chrX\\_47796208\\_47796828 & ASTARR & 0.9660194\\\\\n",
       "\t chrX\\_47806139\\_47808167 & ASTARR & 0.8543689\\\\\n",
       "\t chrX\\_47809119\\_47809445 & ASTARR & 0.5873786\\\\\n",
       "\t chrX\\_47814810\\_47815443 & ASTARR & 0.2766990\\\\\n",
       "\t chrX\\_47816459\\_47818070 & ASTARR & 0.9126214\\\\\n",
       "\t chrX\\_47836113\\_47837157 & ASTARR & 0.9902913\\\\\n",
       "\\end{tabular}\n"
      ],
      "text/markdown": [
       "\n",
       "A tibble: 6 × 3\n",
       "\n",
       "| Peak &lt;chr&gt; | Assay &lt;chr&gt; | Value &lt;dbl&gt; |\n",
       "|---|---|---|\n",
       "| chrX_47796208_47796828 | ASTARR | 0.9660194 |\n",
       "| chrX_47806139_47808167 | ASTARR | 0.8543689 |\n",
       "| chrX_47809119_47809445 | ASTARR | 0.5873786 |\n",
       "| chrX_47814810_47815443 | ASTARR | 0.2766990 |\n",
       "| chrX_47816459_47818070 | ASTARR | 0.9126214 |\n",
       "| chrX_47836113_47837157 | ASTARR | 0.9902913 |\n",
       "\n"
      ],
      "text/plain": [
       "  Peak                   Assay  Value    \n",
       "1 chrX_47796208_47796828 ASTARR 0.9660194\n",
       "2 chrX_47806139_47808167 ASTARR 0.8543689\n",
       "3 chrX_47809119_47809445 ASTARR 0.5873786\n",
       "4 chrX_47814810_47815443 ASTARR 0.2766990\n",
       "5 chrX_47816459_47818070 ASTARR 0.9126214\n",
       "6 chrX_47836113_47837157 ASTARR 0.9902913"
      ]
     },
     "metadata": {},
     "output_type": "display_data"
    }
   ],
   "source": [
    "lst = list(\n",
    "    \"ASTARR\" = dat_ranknorm_astarr,\n",
    "    \"WSTARR\" = dat_ranknorm_wstarr,\n",
    "    \"TMPRA\"  = dat_ranknorm_tmpra\n",
    ")\n",
    "\n",
    "dat = bind_rows(lst, .id = \"Assay\")\n",
    "dat = dat %>% \n",
    "    dplyr::select(Assay, Peak, Region, RankNorm_Region) %>%\n",
    "    tidyr::spread(Assay, RankNorm_Region) %>%\n",
    "    dplyr::rowwise() %>%\n",
    "    dplyr::mutate(\n",
    "        Score_mean = mean(c(ASTARR, TMPRA, WSTARR)),\n",
    "        Score_std  = sd(  c(ASTARR, TMPRA, WSTARR)))\n",
    "\n",
    "dat = dat %>% dplyr::filter(Region == \"GATA1\")\n",
    "\n",
    "peaks = dat %>% \n",
    "    dplyr::arrange(Score_mean) %>%\n",
    "    dplyr::pull(Peak)\n",
    "\n",
    "assays = c(\"ASTARR\", \"WSTARR\", \"TMPRA\")\n",
    "\n",
    "dat = dat %>% \n",
    "    dplyr::select(Peak, ASTARR, TMPRA, WSTARR) %>% \n",
    "    tidyr::gather(Assay, Value, -Peak) \n",
    "\n",
    "dat_ranknorm_gata = dat\n",
    "print(dim(dat))\n",
    "head(dat)"
   ]
  },
  {
   "cell_type": "code",
   "execution_count": 15,
   "metadata": {},
   "outputs": [
    {
     "data": {
      "image/png": "[encoded data removed]",
      "text/plain": [
       "plot without title"
      ]
     },
     "metadata": {
      "image/png": {
       "height": 300,
       "width": 900
      }
     },
     "output_type": "display_data"
    }
   ],
   "source": [
    "theme_fill = scale_fill_gradient2(\n",
    "    low  = \"#4575b4\",\n",
    "    mid  = \"#ffffbf\",\n",
    "    high = \"#d73027\",\n",
    "    midpoint = 0.5\n",
    ")\n",
    "\n",
    "theme_text = theme(\n",
    "    axis.ticks.x = element_blank(),\n",
    "    axis.text.x  = element_blank()\n",
    ")\n",
    "\n",
    "###\n",
    "dat = dat_ranknorm_gata\n",
    "dat = dat %>%\n",
    "    dplyr::mutate(\n",
    "        Peak  = factor(Peak,  levels=peaks),\n",
    "        Assay = factor(Assay, levels=assays)\n",
    "    )\n",
    "\n",
    "gpt = ggplot(dat, aes(x=Peak, y=Assay, fill=Value)) +\n",
    "    geom_tile() +\n",
    "    theme_cowplot() + \n",
    "    theme_text +\n",
    "    theme_fill\n",
    "gpt_ranknorm_gata = gpt\n",
    "\n",
    "options(repr.plot.height=5, repr.plot.width=15)\n",
    "print(gpt)"
   ]
  },
  {
   "cell_type": "markdown",
   "metadata": {},
   "source": [
    "## Plot CRISPR"
   ]
  },
  {
   "cell_type": "code",
   "execution_count": 18,
   "metadata": {},
   "outputs": [
    {
     "name": "stdout",
     "output_type": "stream",
     "text": [
      "[1] 206   7\n"
     ]
    },
    {
     "data": {
      "text/html": [
       "<table class=\"dataframe\">\n",
       "<caption>A tibble: 6 × 7</caption>\n",
       "<thead>\n",
       "\t<tr><th scope=col>Peak</th><th scope=col>Chrom</th><th scope=col>Start</th><th scope=col>End</th><th scope=col>Dataset</th><th scope=col>Region</th><th scope=col>GATA1</th></tr>\n",
       "\t<tr><th scope=col>&lt;chr&gt;</th><th scope=col>&lt;chr&gt;</th><th scope=col>&lt;dbl&gt;</th><th scope=col>&lt;dbl&gt;</th><th scope=col>&lt;chr&gt;</th><th scope=col>&lt;chr&gt;</th><th scope=col>&lt;dbl&gt;</th></tr>\n",
       "</thead>\n",
       "<tbody>\n",
       "\t<tr><td>chrX_47796208_47796828</td><td>chrX</td><td>47796208</td><td>47796828</td><td>OL43</td><td>GATA1</td><td>0</td></tr>\n",
       "\t<tr><td>chrX_47806139_47808167</td><td>chrX</td><td>47806139</td><td>47808167</td><td>OL43</td><td>GATA1</td><td>0</td></tr>\n",
       "\t<tr><td>chrX_47809119_47809445</td><td>chrX</td><td>47809119</td><td>47809445</td><td>OL43</td><td>GATA1</td><td>0</td></tr>\n",
       "\t<tr><td>chrX_47814810_47815443</td><td>chrX</td><td>47814810</td><td>47815443</td><td>OL43</td><td>GATA1</td><td>0</td></tr>\n",
       "\t<tr><td>chrX_47816459_47818070</td><td>chrX</td><td>47816459</td><td>47818070</td><td>OL43</td><td>GATA1</td><td>0</td></tr>\n",
       "\t<tr><td>chrX_47836113_47837157</td><td>chrX</td><td>47836113</td><td>47837157</td><td>OL43</td><td>GATA1</td><td>0</td></tr>\n",
       "</tbody>\n",
       "</table>\n"
      ],
      "text/latex": [
       "A tibble: 6 × 7\n",
       "\\begin{tabular}{lllllll}\n",
       " Peak & Chrom & Start & End & Dataset & Region & GATA1\\\\\n",
       " <chr> & <chr> & <dbl> & <dbl> & <chr> & <chr> & <dbl>\\\\\n",
       "\\hline\n",
       "\t chrX\\_47796208\\_47796828 & chrX & 47796208 & 47796828 & OL43 & GATA1 & 0\\\\\n",
       "\t chrX\\_47806139\\_47808167 & chrX & 47806139 & 47808167 & OL43 & GATA1 & 0\\\\\n",
       "\t chrX\\_47809119\\_47809445 & chrX & 47809119 & 47809445 & OL43 & GATA1 & 0\\\\\n",
       "\t chrX\\_47814810\\_47815443 & chrX & 47814810 & 47815443 & OL43 & GATA1 & 0\\\\\n",
       "\t chrX\\_47816459\\_47818070 & chrX & 47816459 & 47818070 & OL43 & GATA1 & 0\\\\\n",
       "\t chrX\\_47836113\\_47837157 & chrX & 47836113 & 47837157 & OL43 & GATA1 & 0\\\\\n",
       "\\end{tabular}\n"
      ],
      "text/markdown": [
       "\n",
       "A tibble: 6 × 7\n",
       "\n",
       "| Peak &lt;chr&gt; | Chrom &lt;chr&gt; | Start &lt;dbl&gt; | End &lt;dbl&gt; | Dataset &lt;chr&gt; | Region &lt;chr&gt; | GATA1 &lt;dbl&gt; |\n",
       "|---|---|---|---|---|---|---|\n",
       "| chrX_47796208_47796828 | chrX | 47796208 | 47796828 | OL43 | GATA1 | 0 |\n",
       "| chrX_47806139_47808167 | chrX | 47806139 | 47808167 | OL43 | GATA1 | 0 |\n",
       "| chrX_47809119_47809445 | chrX | 47809119 | 47809445 | OL43 | GATA1 | 0 |\n",
       "| chrX_47814810_47815443 | chrX | 47814810 | 47815443 | OL43 | GATA1 | 0 |\n",
       "| chrX_47816459_47818070 | chrX | 47816459 | 47818070 | OL43 | GATA1 | 0 |\n",
       "| chrX_47836113_47837157 | chrX | 47836113 | 47837157 | OL43 | GATA1 | 0 |\n",
       "\n"
      ],
      "text/plain": [
       "  Peak                   Chrom Start    End      Dataset Region GATA1\n",
       "1 chrX_47796208_47796828 chrX  47796208 47796828 OL43    GATA1  0    \n",
       "2 chrX_47806139_47808167 chrX  47806139 47808167 OL43    GATA1  0    \n",
       "3 chrX_47809119_47809445 chrX  47809119 47809445 OL43    GATA1  0    \n",
       "4 chrX_47814810_47815443 chrX  47814810 47815443 OL43    GATA1  0    \n",
       "5 chrX_47816459_47818070 chrX  47816459 47818070 OL43    GATA1  0    \n",
       "6 chrX_47836113_47837157 chrX  47836113 47837157 OL43    GATA1  0    "
      ]
     },
     "metadata": {},
     "output_type": "display_data"
    }
   ],
   "source": [
    "dat  = dat_crispr\n",
    "dat  = dat %>% dplyr::select(Peak, GATA1)\n",
    "dat = left_join(dat_peak_info, dat, by=c(\"Peak\")) %>% \n",
    "    dplyr::filter(Region == \"GATA1\") %>%\n",
    "    dplyr::mutate(GATA1 = ifelse(is.na(GATA1), 0, GATA1))\n",
    "\n",
    "dat_crispr_gata = dat\n",
    "print(dim(dat))\n",
    "head(dat)"
   ]
  },
  {
   "cell_type": "code",
   "execution_count": 19,
   "metadata": {},
   "outputs": [
    {
     "data": {
      "text/plain": [
       "\n",
       "FALSE  TRUE \n",
       "  110    96 "
      ]
     },
     "metadata": {},
     "output_type": "display_data"
    }
   ],
   "source": [
    "table(dat$GATA1 == 0)"
   ]
  },
  {
   "cell_type": "code",
   "execution_count": 20,
   "metadata": {},
   "outputs": [
    {
     "data": {
      "text/plain": [
       "    Min.  1st Qu.   Median     Mean  3rd Qu.     Max. \n",
       "-0.32709 -0.07167  0.00000  0.01159  0.00000  4.25101 "
      ]
     },
     "metadata": {},
     "output_type": "display_data"
    }
   ],
   "source": [
    "summary(dat$GATA1)"
   ]
  },
  {
   "cell_type": "code",
   "execution_count": 21,
   "metadata": {},
   "outputs": [
    {
     "data": {
      "image/png": "[encoded data removed]",
      "text/plain": [
       "plot without title"
      ]
     },
     "metadata": {
      "image/png": {
       "height": 300,
       "width": 900
      }
     },
     "output_type": "display_data"
    }
   ],
   "source": [
    "ggplot(dat, aes(x=GATA1)) + geom_histogram(bins=50) + theme_bw()"
   ]
  },
  {
   "cell_type": "code",
   "execution_count": 45,
   "metadata": {},
   "outputs": [
    {
     "data": {
      "image/png": "[encoded data removed]",
      "text/plain": [
       "plot without title"
      ]
     },
     "metadata": {
      "image/png": {
       "height": 120,
       "width": 1200
      }
     },
     "output_type": "display_data"
    }
   ],
   "source": [
    "bmin = -0.40\n",
    "bmax =  4.50\n",
    "\n",
    "xmin = -0.35\n",
    "xmid =  0.00\n",
    "xmax =  4.0\n",
    "\n",
    "cmin = \"#74add1\"\n",
    "cmid = \"white\"\n",
    "cmax = \"#d73027\"\n",
    "\n",
    "myColors = c(cmin, cmin, cmid, cmax, cmax)\n",
    "myBreaks = c(bmin, xmin, xmid, xmax, bmax)\n",
    "myBreaks = scales::rescale(myBreaks)\n",
    "\n",
    "dat = dat_crispr_gata\n",
    "dat = dat %>% dplyr::mutate(Peak  = factor(Peak,  levels=peaks))\n",
    "gpt = ggplot(dat, aes(x=Peak, y=Region, fill=GATA1)) +\n",
    "        geom_tile() +\n",
    "        scale_fill_gradientn(\n",
    "            colours = myColors, \n",
    "            values  = myBreaks) +\n",
    "        labs(x=\"\", y=\"\") +\n",
    "        theme_cowplot() +\n",
    "        theme(axis.text.x  = element_blank(),\n",
    "              axis.text.y  = element_text(size=30),\n",
    "              axis.ticks.x = element_blank(),\n",
    "              legend.position = \"bottom\",\n",
    "              legend.key.size = unit(1, 'cm'),\n",
    "              legend.title = element_text(size=20),\n",
    "              legend.text  = element_text(size=20))\n",
    "gpt_crispr_gata = gpt\n",
    "\n",
    "options(repr.plot.height=2, repr.plot.width=20)\n",
    "print(gpt)"
   ]
  },
  {
   "cell_type": "code",
   "execution_count": 60,
   "metadata": {},
   "outputs": [
    {
     "data": {
      "image/png": "[encoded data removed]",
      "text/plain": [
       "plot without title"
      ]
     },
     "metadata": {
      "image/png": {
       "height": 300,
       "width": 1200
      }
     },
     "output_type": "display_data"
    }
   ],
   "source": [
    "dat = dat_crispr_gata\n",
    "dat = dat %>% dplyr::mutate(Peak  = factor(Peak,  levels=peaks))\n",
    "gpt = ggplot(dat, aes(x=Peak, y=GATA1)) +\n",
    "        geom_col() +\n",
    "        labs(x=\"\", y=\"\") +\n",
    "        theme_cowplot() +\n",
    "        theme(axis.text.x  = element_blank(),\n",
    "              axis.text.y  = element_text(size=30),\n",
    "              axis.ticks.x = element_blank(),\n",
    "              legend.position = \"bottom\",\n",
    "              legend.key.size = unit(1, 'cm'),\n",
    "              legend.title = element_text(size=20),\n",
    "              legend.text  = element_text(size=20))\n",
    "gpt_crispr_gata = gpt\n",
    "\n",
    "options(repr.plot.height=5, repr.plot.width=20)\n",
    "print(gpt)"
   ]
  },
  {
   "cell_type": "markdown",
   "metadata": {},
   "source": [
    "## Plot TF binding"
   ]
  },
  {
   "cell_type": "code",
   "execution_count": 47,
   "metadata": {},
   "outputs": [
    {
     "name": "stdout",
     "output_type": "stream",
     "text": [
      "[1] 206  12\n"
     ]
    },
    {
     "data": {
      "text/html": [
       "<table class=\"dataframe\">\n",
       "<caption>A tibble: 6 × 12</caption>\n",
       "<thead>\n",
       "\t<tr><th scope=col>Peak</th><th scope=col>Chrom</th><th scope=col>Start</th><th scope=col>End</th><th scope=col>Dataset</th><th scope=col>Region</th><th scope=col>Name</th><th scope=col>Count</th><th scope=col>Total</th><th scope=col>Freq</th><th scope=col>Type</th><th scope=col>Score</th></tr>\n",
       "\t<tr><th scope=col>&lt;chr&gt;</th><th scope=col>&lt;chr&gt;</th><th scope=col>&lt;dbl&gt;</th><th scope=col>&lt;dbl&gt;</th><th scope=col>&lt;chr&gt;</th><th scope=col>&lt;chr&gt;</th><th scope=col>&lt;chr&gt;</th><th scope=col>&lt;dbl&gt;</th><th scope=col>&lt;dbl&gt;</th><th scope=col>&lt;dbl&gt;</th><th scope=col>&lt;chr&gt;</th><th scope=col>&lt;chr&gt;</th></tr>\n",
       "</thead>\n",
       "<tbody>\n",
       "\t<tr><td>chrX_47796208_47796828</td><td>chrX</td><td>47796208</td><td>47796828</td><td>OL43</td><td>GATA1</td><td>GATA1</td><td> 1</td><td> 54</td><td>0.01851852</td><td>TF-Binding</td><td>1</td></tr>\n",
       "\t<tr><td>chrX_47806139_47808167</td><td>chrX</td><td>47806139</td><td>47808167</td><td>OL43</td><td>GATA1</td><td>GATA1</td><td>NA</td><td> NA</td><td>        NA</td><td>NA        </td><td>0</td></tr>\n",
       "\t<tr><td>chrX_47809119_47809445</td><td>chrX</td><td>47809119</td><td>47809445</td><td>OL43</td><td>GATA1</td><td>GATA1</td><td>NA</td><td> NA</td><td>        NA</td><td>NA        </td><td>0</td></tr>\n",
       "\t<tr><td>chrX_47814810_47815443</td><td>chrX</td><td>47814810</td><td>47815443</td><td>OL43</td><td>GATA1</td><td>GATA1</td><td>NA</td><td> NA</td><td>        NA</td><td>NA        </td><td>0</td></tr>\n",
       "\t<tr><td>chrX_47816459_47818070</td><td>chrX</td><td>47816459</td><td>47818070</td><td>OL43</td><td>GATA1</td><td>GATA1</td><td> 2</td><td>143</td><td>0.01398601</td><td>TF-Binding</td><td>1</td></tr>\n",
       "\t<tr><td>chrX_47836113_47837157</td><td>chrX</td><td>47836113</td><td>47837157</td><td>OL43</td><td>GATA1</td><td>GATA1</td><td>NA</td><td> NA</td><td>        NA</td><td>NA        </td><td>0</td></tr>\n",
       "</tbody>\n",
       "</table>\n"
      ],
      "text/latex": [
       "A tibble: 6 × 12\n",
       "\\begin{tabular}{llllllllllll}\n",
       " Peak & Chrom & Start & End & Dataset & Region & Name & Count & Total & Freq & Type & Score\\\\\n",
       " <chr> & <chr> & <dbl> & <dbl> & <chr> & <chr> & <chr> & <dbl> & <dbl> & <dbl> & <chr> & <chr>\\\\\n",
       "\\hline\n",
       "\t chrX\\_47796208\\_47796828 & chrX & 47796208 & 47796828 & OL43 & GATA1 & GATA1 &  1 &  54 & 0.01851852 & TF-Binding & 1\\\\\n",
       "\t chrX\\_47806139\\_47808167 & chrX & 47806139 & 47808167 & OL43 & GATA1 & GATA1 & NA &  NA &         NA & NA         & 0\\\\\n",
       "\t chrX\\_47809119\\_47809445 & chrX & 47809119 & 47809445 & OL43 & GATA1 & GATA1 & NA &  NA &         NA & NA         & 0\\\\\n",
       "\t chrX\\_47814810\\_47815443 & chrX & 47814810 & 47815443 & OL43 & GATA1 & GATA1 & NA &  NA &         NA & NA         & 0\\\\\n",
       "\t chrX\\_47816459\\_47818070 & chrX & 47816459 & 47818070 & OL43 & GATA1 & GATA1 &  2 & 143 & 0.01398601 & TF-Binding & 1\\\\\n",
       "\t chrX\\_47836113\\_47837157 & chrX & 47836113 & 47837157 & OL43 & GATA1 & GATA1 & NA &  NA &         NA & NA         & 0\\\\\n",
       "\\end{tabular}\n"
      ],
      "text/markdown": [
       "\n",
       "A tibble: 6 × 12\n",
       "\n",
       "| Peak &lt;chr&gt; | Chrom &lt;chr&gt; | Start &lt;dbl&gt; | End &lt;dbl&gt; | Dataset &lt;chr&gt; | Region &lt;chr&gt; | Name &lt;chr&gt; | Count &lt;dbl&gt; | Total &lt;dbl&gt; | Freq &lt;dbl&gt; | Type &lt;chr&gt; | Score &lt;chr&gt; |\n",
       "|---|---|---|---|---|---|---|---|---|---|---|---|\n",
       "| chrX_47796208_47796828 | chrX | 47796208 | 47796828 | OL43 | GATA1 | GATA1 |  1 |  54 | 0.01851852 | TF-Binding | 1 |\n",
       "| chrX_47806139_47808167 | chrX | 47806139 | 47808167 | OL43 | GATA1 | GATA1 | NA |  NA |         NA | NA         | 0 |\n",
       "| chrX_47809119_47809445 | chrX | 47809119 | 47809445 | OL43 | GATA1 | GATA1 | NA |  NA |         NA | NA         | 0 |\n",
       "| chrX_47814810_47815443 | chrX | 47814810 | 47815443 | OL43 | GATA1 | GATA1 | NA |  NA |         NA | NA         | 0 |\n",
       "| chrX_47816459_47818070 | chrX | 47816459 | 47818070 | OL43 | GATA1 | GATA1 |  2 | 143 | 0.01398601 | TF-Binding | 1 |\n",
       "| chrX_47836113_47837157 | chrX | 47836113 | 47837157 | OL43 | GATA1 | GATA1 | NA |  NA |         NA | NA         | 0 |\n",
       "\n"
      ],
      "text/plain": [
       "  Peak                   Chrom Start    End      Dataset Region Name  Count\n",
       "1 chrX_47796208_47796828 chrX  47796208 47796828 OL43    GATA1  GATA1  1   \n",
       "2 chrX_47806139_47808167 chrX  47806139 47808167 OL43    GATA1  GATA1 NA   \n",
       "3 chrX_47809119_47809445 chrX  47809119 47809445 OL43    GATA1  GATA1 NA   \n",
       "4 chrX_47814810_47815443 chrX  47814810 47815443 OL43    GATA1  GATA1 NA   \n",
       "5 chrX_47816459_47818070 chrX  47816459 47818070 OL43    GATA1  GATA1  2   \n",
       "6 chrX_47836113_47837157 chrX  47836113 47837157 OL43    GATA1  GATA1 NA   \n",
       "  Total Freq       Type       Score\n",
       "1  54   0.01851852 TF-Binding 1    \n",
       "2  NA           NA NA         0    \n",
       "3  NA           NA NA         0    \n",
       "4  NA           NA NA         0    \n",
       "5 143   0.01398601 TF-Binding 1    \n",
       "6  NA           NA NA         0    "
      ]
     },
     "metadata": {},
     "output_type": "display_data"
    }
   ],
   "source": [
    "###\n",
    "dat = dat_peak_count_remap\n",
    "dat = dat %>% dplyr::filter(Name == \"GATA1\")\n",
    "dat = left_join(dat_peak_info, dat, by=c(\"Peak\"))\n",
    "dat = dat %>% \n",
    "    dplyr::filter(Region == \"GATA1\") %>%\n",
    "    dplyr::mutate(\n",
    "        Name  = \"GATA1\",\n",
    "        Score = ifelse(is.na(Count), \"0\", \"1\"))\n",
    "\n",
    "dat_tfbind_gata = dat\n",
    "print(dim(dat))\n",
    "head(dat)"
   ]
  },
  {
   "cell_type": "code",
   "execution_count": 61,
   "metadata": {},
   "outputs": [
    {
     "data": {
      "image/png": "[encoded data removed]",
      "text/plain": [
       "plot without title"
      ]
     },
     "metadata": {
      "image/png": {
       "height": 120,
       "width": 1200
      }
     },
     "output_type": "display_data"
    }
   ],
   "source": [
    "###\n",
    "dat = dat_tfbind_gata\n",
    "dat = dat %>% dplyr::mutate(Peak  = factor(Peak,  levels=peaks))\n",
    "gpt = ggplot(dat, aes(x=Peak, y=Name, fill=Score)) +\n",
    "        geom_tile() +\n",
    "        scale_fill_manual(values = c(\"1\" = \"black\", \"0\" = \"white\")) +\n",
    "        labs(x=\"\", y=\"\") +\n",
    "        theme_cowplot() +\n",
    "        theme(axis.text.x = element_blank(),\n",
    "              axis.text.y = element_text(size=30),\n",
    "              axis.ticks.x = element_blank(),\n",
    "              legend.position = \"bottom\",\n",
    "              legend.key.size = unit(1, 'cm'),\n",
    "              legend.title = element_text(size=20),\n",
    "              legend.text = element_text(size=20))\n",
    "\n",
    "###\n",
    "gpt_tfbind_gata = gpt\n",
    "\n",
    "###\n",
    "options(repr.plot.height=2, repr.plot.width=20)\n",
    "print(gpt)"
   ]
  },
  {
   "cell_type": "markdown",
   "metadata": {},
   "source": [
    "## Plot CA scores"
   ]
  },
  {
   "cell_type": "code",
   "execution_count": 49,
   "metadata": {},
   "outputs": [
    {
     "name": "stdout",
     "output_type": "stream",
     "text": [
      "[1] 206  12\n"
     ]
    },
    {
     "data": {
      "text/html": [
       "<table class=\"dataframe\">\n",
       "<caption>A tibble: 6 × 12</caption>\n",
       "<thead>\n",
       "\t<tr><th scope=col>Peak</th><th scope=col>Chrom</th><th scope=col>Start</th><th scope=col>End</th><th scope=col>Dataset</th><th scope=col>Region</th><th scope=col>Input</th><th scope=col>Length</th><th scope=col>Pct_GC</th><th scope=col>Residual</th><th scope=col>Score</th><th scope=col>Name</th></tr>\n",
       "\t<tr><th scope=col>&lt;chr&gt;</th><th scope=col>&lt;chr&gt;</th><th scope=col>&lt;dbl&gt;</th><th scope=col>&lt;dbl&gt;</th><th scope=col>&lt;chr&gt;</th><th scope=col>&lt;chr&gt;</th><th scope=col>&lt;dbl&gt;</th><th scope=col>&lt;dbl&gt;</th><th scope=col>&lt;dbl&gt;</th><th scope=col>&lt;dbl&gt;</th><th scope=col>&lt;dbl&gt;</th><th scope=col>&lt;chr&gt;</th></tr>\n",
       "</thead>\n",
       "<tbody>\n",
       "\t<tr><td>chrX_47796208_47796828</td><td>chrX</td><td>47796208</td><td>47796828</td><td>OL43</td><td>GATA1</td><td>0.7949314</td><td> 620</td><td>0.411290</td><td>-0.09269551</td><td>0.13290038</td><td>CA</td></tr>\n",
       "\t<tr><td>chrX_47806139_47808167</td><td>chrX</td><td>47806139</td><td>47808167</td><td>OL43</td><td>GATA1</td><td>1.6444201</td><td>2028</td><td>0.559172</td><td>-4.00556680</td><td>0.09494437</td><td>CA</td></tr>\n",
       "\t<tr><td>chrX_47809119_47809445</td><td>chrX</td><td>47809119</td><td>47809445</td><td>OL43</td><td>GATA1</td><td>0.2519672</td><td> 326</td><td>0.429448</td><td> 0.35875349</td><td>0.13727957</td><td>CA</td></tr>\n",
       "\t<tr><td>chrX_47814810_47815443</td><td>chrX</td><td>47814810</td><td>47815443</td><td>OL43</td><td>GATA1</td><td>0.7579963</td><td> 633</td><td>0.505529</td><td>-0.17360126</td><td>0.13211557</td><td>CA</td></tr>\n",
       "\t<tr><td>chrX_47816459_47818070</td><td>chrX</td><td>47816459</td><td>47818070</td><td>OL43</td><td>GATA1</td><td>1.5055737</td><td>1611</td><td>0.443203</td><td>-2.73396989</td><td>0.10727924</td><td>CA</td></tr>\n",
       "\t<tr><td>chrX_47836113_47837157</td><td>chrX</td><td>47836113</td><td>47837157</td><td>OL43</td><td>GATA1</td><td>6.9206893</td><td>1044</td><td>0.545019</td><td> 4.59894264</td><td>0.17841066</td><td>CA</td></tr>\n",
       "</tbody>\n",
       "</table>\n"
      ],
      "text/latex": [
       "A tibble: 6 × 12\n",
       "\\begin{tabular}{llllllllllll}\n",
       " Peak & Chrom & Start & End & Dataset & Region & Input & Length & Pct\\_GC & Residual & Score & Name\\\\\n",
       " <chr> & <chr> & <dbl> & <dbl> & <chr> & <chr> & <dbl> & <dbl> & <dbl> & <dbl> & <dbl> & <chr>\\\\\n",
       "\\hline\n",
       "\t chrX\\_47796208\\_47796828 & chrX & 47796208 & 47796828 & OL43 & GATA1 & 0.7949314 &  620 & 0.411290 & -0.09269551 & 0.13290038 & CA\\\\\n",
       "\t chrX\\_47806139\\_47808167 & chrX & 47806139 & 47808167 & OL43 & GATA1 & 1.6444201 & 2028 & 0.559172 & -4.00556680 & 0.09494437 & CA\\\\\n",
       "\t chrX\\_47809119\\_47809445 & chrX & 47809119 & 47809445 & OL43 & GATA1 & 0.2519672 &  326 & 0.429448 &  0.35875349 & 0.13727957 & CA\\\\\n",
       "\t chrX\\_47814810\\_47815443 & chrX & 47814810 & 47815443 & OL43 & GATA1 & 0.7579963 &  633 & 0.505529 & -0.17360126 & 0.13211557 & CA\\\\\n",
       "\t chrX\\_47816459\\_47818070 & chrX & 47816459 & 47818070 & OL43 & GATA1 & 1.5055737 & 1611 & 0.443203 & -2.73396989 & 0.10727924 & CA\\\\\n",
       "\t chrX\\_47836113\\_47837157 & chrX & 47836113 & 47837157 & OL43 & GATA1 & 6.9206893 & 1044 & 0.545019 &  4.59894264 & 0.17841066 & CA\\\\\n",
       "\\end{tabular}\n"
      ],
      "text/markdown": [
       "\n",
       "A tibble: 6 × 12\n",
       "\n",
       "| Peak &lt;chr&gt; | Chrom &lt;chr&gt; | Start &lt;dbl&gt; | End &lt;dbl&gt; | Dataset &lt;chr&gt; | Region &lt;chr&gt; | Input &lt;dbl&gt; | Length &lt;dbl&gt; | Pct_GC &lt;dbl&gt; | Residual &lt;dbl&gt; | Score &lt;dbl&gt; | Name &lt;chr&gt; |\n",
       "|---|---|---|---|---|---|---|---|---|---|---|---|\n",
       "| chrX_47796208_47796828 | chrX | 47796208 | 47796828 | OL43 | GATA1 | 0.7949314 |  620 | 0.411290 | -0.09269551 | 0.13290038 | CA |\n",
       "| chrX_47806139_47808167 | chrX | 47806139 | 47808167 | OL43 | GATA1 | 1.6444201 | 2028 | 0.559172 | -4.00556680 | 0.09494437 | CA |\n",
       "| chrX_47809119_47809445 | chrX | 47809119 | 47809445 | OL43 | GATA1 | 0.2519672 |  326 | 0.429448 |  0.35875349 | 0.13727957 | CA |\n",
       "| chrX_47814810_47815443 | chrX | 47814810 | 47815443 | OL43 | GATA1 | 0.7579963 |  633 | 0.505529 | -0.17360126 | 0.13211557 | CA |\n",
       "| chrX_47816459_47818070 | chrX | 47816459 | 47818070 | OL43 | GATA1 | 1.5055737 | 1611 | 0.443203 | -2.73396989 | 0.10727924 | CA |\n",
       "| chrX_47836113_47837157 | chrX | 47836113 | 47837157 | OL43 | GATA1 | 6.9206893 | 1044 | 0.545019 |  4.59894264 | 0.17841066 | CA |\n",
       "\n"
      ],
      "text/plain": [
       "  Peak                   Chrom Start    End      Dataset Region Input    \n",
       "1 chrX_47796208_47796828 chrX  47796208 47796828 OL43    GATA1  0.7949314\n",
       "2 chrX_47806139_47808167 chrX  47806139 47808167 OL43    GATA1  1.6444201\n",
       "3 chrX_47809119_47809445 chrX  47809119 47809445 OL43    GATA1  0.2519672\n",
       "4 chrX_47814810_47815443 chrX  47814810 47815443 OL43    GATA1  0.7579963\n",
       "5 chrX_47816459_47818070 chrX  47816459 47818070 OL43    GATA1  1.5055737\n",
       "6 chrX_47836113_47837157 chrX  47836113 47837157 OL43    GATA1  6.9206893\n",
       "  Length Pct_GC   Residual    Score      Name\n",
       "1  620   0.411290 -0.09269551 0.13290038 CA  \n",
       "2 2028   0.559172 -4.00556680 0.09494437 CA  \n",
       "3  326   0.429448  0.35875349 0.13727957 CA  \n",
       "4  633   0.505529 -0.17360126 0.13211557 CA  \n",
       "5 1611   0.443203 -2.73396989 0.10727924 CA  \n",
       "6 1044   0.545019  4.59894264 0.17841066 CA  "
      ]
     },
     "metadata": {},
     "output_type": "display_data"
    }
   ],
   "source": [
    "###\n",
    "dat = dat_chromatin_access\n",
    "dat = left_join(dat_peak_info, dat, by=c(\"Peak\"))\n",
    "dat = dat %>%\n",
    "    dplyr::mutate(Name = \"CA\") %>%\n",
    "    dplyr::filter(Region == \"GATA1\")\n",
    "dat_ca_gata = dat\n",
    "print(dim(dat))\n",
    "head(dat)"
   ]
  },
  {
   "cell_type": "code",
   "execution_count": 62,
   "metadata": {},
   "outputs": [
    {
     "data": {
      "image/png": "[encoded data removed]",
      "text/plain": [
       "plot without title"
      ]
     },
     "metadata": {
      "image/png": {
       "height": 120,
       "width": 900
      }
     },
     "output_type": "display_data"
    }
   ],
   "source": [
    "###\n",
    "dat = dat_ca_gata\n",
    "dat = dat %>% dplyr::mutate(Peak  = factor(Peak,  levels=peaks))\n",
    "\n",
    "gpt = ggplot(dat, aes(x=Peak, y=Name, fill=Score)) +\n",
    "        geom_tile() +\n",
    "        scale_fill_gradient(low = \"white\", high = \"red\") +\n",
    "        labs(x=\"\", y=\"\") +\n",
    "        theme_cowplot() +\n",
    "        theme(axis.text.x = element_blank(),\n",
    "              axis.text.y = element_text(size=30),\n",
    "              axis.ticks.x = element_blank(),\n",
    "              legend.position = \"bottom\",\n",
    "              legend.key.size = unit(1, 'cm'),\n",
    "              legend.title = element_text(size=20),\n",
    "              legend.text = element_text(size=20))\n",
    "\n",
    "###\n",
    "gpt_ca_gata = gpt\n",
    "\n",
    "###\n",
    "options(repr.plot.height=2, repr.plot.width=15)\n",
    "print(gpt)"
   ]
  },
  {
   "cell_type": "markdown",
   "metadata": {},
   "source": [
    "-----"
   ]
  },
  {
   "cell_type": "markdown",
   "metadata": {},
   "source": [
    "## Combine"
   ]
  },
  {
   "cell_type": "code",
   "execution_count": 63,
   "metadata": {},
   "outputs": [],
   "source": [
    "lst = list(\n",
    "    gpt_crispr_gata,\n",
    "    gpt_ranknorm_gata,\n",
    "    gpt_ca_gata,\n",
    "    gpt_tfbind_gata\n",
    ")\n",
    "\n",
    "lst_gpt_legend = lapply(lst, function(gpt){\n",
    "    gpt = gpt + theme(legend.position = \"right\")\n",
    "    legend = cowplot::get_legend(gpt)\n",
    "    return(legend)\n",
    "})\n",
    "\n",
    "lst_gpt = lapply(lst, function(gpt){\n",
    "    gpt = gpt + \n",
    "        labs(x=\"\", y=\"\") +\n",
    "        theme(\n",
    "            axis.text.y  = element_blank(), #element_text(size=10),\n",
    "            #axis.ticks.y = element_blank(),\n",
    "            legend.position = \"none\")\n",
    "    return(gpt)\n",
    "})\n",
    "\n",
    "#lst_gpt[[1]] = lst_gpt[[1]] + theme(axis.text.y = element_text(size=10))"
   ]
  },
  {
   "cell_type": "code",
   "execution_count": 64,
   "metadata": {},
   "outputs": [
    {
     "name": "stderr",
     "output_type": "stream",
     "text": [
      "Warning message in as_grob.default(plot):\n",
      "“Cannot convert object of class character into a grob.”\n"
     ]
    },
    {
     "data": {
      "image/png": "[encoded data removed]",
      "text/plain": [
       "plot without title"
      ]
     },
     "metadata": {
      "image/png": {
       "height": 600,
       "width": 900
      }
     },
     "output_type": "display_data"
    }
   ],
   "source": [
    "###\n",
    "options(repr.plot.height=10, repr.plot.width=15)\n",
    "plot_grid(plotlist = lst_gpt, ncol=1, aligh=\"v\", rel_heights = c(1,1,3,1))"
   ]
  },
  {
   "cell_type": "code",
   "execution_count": 37,
   "metadata": {},
   "outputs": [
    {
     "data": {
      "image/png": "[encoded data removed]",
      "text/plain": [
       "plot without title"
      ]
     },
     "metadata": {
      "image/png": {
       "height": 300,
       "width": 300
      }
     },
     "output_type": "display_data"
    }
   ],
   "source": [
    "options(repr.plot.height=5, repr.plot.width=5)\n",
    "legend = lst_gpt_legend[[1]]\n",
    "grid.draw(legend)"
   ]
  },
  {
   "cell_type": "code",
   "execution_count": 32,
   "metadata": {},
   "outputs": [
    {
     "data": {
      "image/png": "[encoded data removed]",
      "text/plain": [
       "plot without title"
      ]
     },
     "metadata": {
      "image/png": {
       "height": 300,
       "width": 300
      }
     },
     "output_type": "display_data"
    }
   ],
   "source": [
    "options(repr.plot.height=5, repr.plot.width=5)\n",
    "legend = lst_gpt_legend[[2]]\n",
    "grid.draw(legend)"
   ]
  },
  {
   "cell_type": "code",
   "execution_count": 38,
   "metadata": {},
   "outputs": [
    {
     "data": {
      "image/png": "[encoded data removed]",
      "text/plain": [
       "plot without title"
      ]
     },
     "metadata": {
      "image/png": {
       "height": 300,
       "width": 300
      }
     },
     "output_type": "display_data"
    }
   ],
   "source": [
    "options(repr.plot.height=5, repr.plot.width=5)\n",
    "legend = lst_gpt_legend[[3]]\n",
    "grid.draw(legend)"
   ]
  },
  {
   "cell_type": "code",
   "execution_count": 34,
   "metadata": {},
   "outputs": [
    {
     "data": {
      "image/png": "[encoded data removed]",
      "text/plain": [
       "plot without title"
      ]
     },
     "metadata": {
      "image/png": {
       "height": 300,
       "width": 300
      }
     },
     "output_type": "display_data"
    }
   ],
   "source": [
    "options(repr.plot.height=5, repr.plot.width=5)\n",
    "legend = lst_gpt_legend[[4]]\n",
    "grid.draw(legend)"
   ]
  },
  {
   "cell_type": "code",
   "execution_count": null,
   "metadata": {},
   "outputs": [],
   "source": []
  },
  {
   "cell_type": "code",
   "execution_count": 223,
   "metadata": {},
   "outputs": [
    {
     "data": {
      "text/html": [
       "<table class=\"dataframe\">\n",
       "<caption>A tibble: 6 × 12</caption>\n",
       "<thead>\n",
       "\t<tr><th scope=col>Peak</th><th scope=col>Chrom</th><th scope=col>Start</th><th scope=col>End</th><th scope=col>Dataset</th><th scope=col>Region</th><th scope=col>Name</th><th scope=col>Count</th><th scope=col>Total</th><th scope=col>Freq</th><th scope=col>Type</th><th scope=col>Score</th></tr>\n",
       "\t<tr><th scope=col>&lt;fct&gt;</th><th scope=col>&lt;chr&gt;</th><th scope=col>&lt;dbl&gt;</th><th scope=col>&lt;dbl&gt;</th><th scope=col>&lt;chr&gt;</th><th scope=col>&lt;chr&gt;</th><th scope=col>&lt;chr&gt;</th><th scope=col>&lt;dbl&gt;</th><th scope=col>&lt;dbl&gt;</th><th scope=col>&lt;dbl&gt;</th><th scope=col>&lt;chr&gt;</th><th scope=col>&lt;chr&gt;</th></tr>\n",
       "</thead>\n",
       "<tbody>\n",
       "\t<tr><td>chrX_48996933_48997220</td><td>chrX</td><td>48996933</td><td>48997220</td><td>OL43</td><td>GATA1</td><td>GATA1</td><td>NA</td><td>NA</td><td>NA</td><td>NA</td><td>0</td></tr>\n",
       "\t<tr><td>chrX_48817957_48818965</td><td>chrX</td><td>48817957</td><td>48818965</td><td>OL43</td><td>GATA1</td><td>GATA1</td><td>NA</td><td>NA</td><td>NA</td><td>NA</td><td>0</td></tr>\n",
       "\t<tr><td>chrX_48992940_48993554</td><td>chrX</td><td>48992940</td><td>48993554</td><td>OL43</td><td>GATA1</td><td>GATA1</td><td>NA</td><td>NA</td><td>NA</td><td>NA</td><td>0</td></tr>\n",
       "\t<tr><td>chrX_49016897_49017139</td><td>chrX</td><td>49016897</td><td>49017139</td><td>OL43</td><td>GATA1</td><td>GATA1</td><td>NA</td><td>NA</td><td>NA</td><td>NA</td><td>0</td></tr>\n",
       "\t<tr><td>chrX_49836520_49837095</td><td>chrX</td><td>49836520</td><td>49837095</td><td>OL43</td><td>GATA1</td><td>GATA1</td><td>NA</td><td>NA</td><td>NA</td><td>NA</td><td>0</td></tr>\n",
       "\t<tr><td>chrX_48747496_48747829</td><td>chrX</td><td>48747496</td><td>48747829</td><td>OL43</td><td>GATA1</td><td>GATA1</td><td>NA</td><td>NA</td><td>NA</td><td>NA</td><td>0</td></tr>\n",
       "</tbody>\n",
       "</table>\n"
      ],
      "text/latex": [
       "A tibble: 6 × 12\n",
       "\\begin{tabular}{llllllllllll}\n",
       " Peak & Chrom & Start & End & Dataset & Region & Name & Count & Total & Freq & Type & Score\\\\\n",
       " <fct> & <chr> & <dbl> & <dbl> & <chr> & <chr> & <chr> & <dbl> & <dbl> & <dbl> & <chr> & <chr>\\\\\n",
       "\\hline\n",
       "\t chrX\\_48996933\\_48997220 & chrX & 48996933 & 48997220 & OL43 & GATA1 & GATA1 & NA & NA & NA & NA & 0\\\\\n",
       "\t chrX\\_48817957\\_48818965 & chrX & 48817957 & 48818965 & OL43 & GATA1 & GATA1 & NA & NA & NA & NA & 0\\\\\n",
       "\t chrX\\_48992940\\_48993554 & chrX & 48992940 & 48993554 & OL43 & GATA1 & GATA1 & NA & NA & NA & NA & 0\\\\\n",
       "\t chrX\\_49016897\\_49017139 & chrX & 49016897 & 49017139 & OL43 & GATA1 & GATA1 & NA & NA & NA & NA & 0\\\\\n",
       "\t chrX\\_49836520\\_49837095 & chrX & 49836520 & 49837095 & OL43 & GATA1 & GATA1 & NA & NA & NA & NA & 0\\\\\n",
       "\t chrX\\_48747496\\_48747829 & chrX & 48747496 & 48747829 & OL43 & GATA1 & GATA1 & NA & NA & NA & NA & 0\\\\\n",
       "\\end{tabular}\n"
      ],
      "text/markdown": [
       "\n",
       "A tibble: 6 × 12\n",
       "\n",
       "| Peak &lt;fct&gt; | Chrom &lt;chr&gt; | Start &lt;dbl&gt; | End &lt;dbl&gt; | Dataset &lt;chr&gt; | Region &lt;chr&gt; | Name &lt;chr&gt; | Count &lt;dbl&gt; | Total &lt;dbl&gt; | Freq &lt;dbl&gt; | Type &lt;chr&gt; | Score &lt;chr&gt; |\n",
       "|---|---|---|---|---|---|---|---|---|---|---|---|\n",
       "| chrX_48996933_48997220 | chrX | 48996933 | 48997220 | OL43 | GATA1 | GATA1 | NA | NA | NA | NA | 0 |\n",
       "| chrX_48817957_48818965 | chrX | 48817957 | 48818965 | OL43 | GATA1 | GATA1 | NA | NA | NA | NA | 0 |\n",
       "| chrX_48992940_48993554 | chrX | 48992940 | 48993554 | OL43 | GATA1 | GATA1 | NA | NA | NA | NA | 0 |\n",
       "| chrX_49016897_49017139 | chrX | 49016897 | 49017139 | OL43 | GATA1 | GATA1 | NA | NA | NA | NA | 0 |\n",
       "| chrX_49836520_49837095 | chrX | 49836520 | 49837095 | OL43 | GATA1 | GATA1 | NA | NA | NA | NA | 0 |\n",
       "| chrX_48747496_48747829 | chrX | 48747496 | 48747829 | OL43 | GATA1 | GATA1 | NA | NA | NA | NA | 0 |\n",
       "\n"
      ],
      "text/plain": [
       "  Peak                   Chrom Start    End      Dataset Region Name  Count\n",
       "1 chrX_48996933_48997220 chrX  48996933 48997220 OL43    GATA1  GATA1 NA   \n",
       "2 chrX_48817957_48818965 chrX  48817957 48818965 OL43    GATA1  GATA1 NA   \n",
       "3 chrX_48992940_48993554 chrX  48992940 48993554 OL43    GATA1  GATA1 NA   \n",
       "4 chrX_49016897_49017139 chrX  49016897 49017139 OL43    GATA1  GATA1 NA   \n",
       "5 chrX_49836520_49837095 chrX  49836520 49837095 OL43    GATA1  GATA1 NA   \n",
       "6 chrX_48747496_48747829 chrX  48747496 48747829 OL43    GATA1  GATA1 NA   \n",
       "  Total Freq Type Score\n",
       "1 NA    NA   NA   0    \n",
       "2 NA    NA   NA   0    \n",
       "3 NA    NA   NA   0    \n",
       "4 NA    NA   NA   0    \n",
       "5 NA    NA   NA   0    \n",
       "6 NA    NA   NA   0    "
      ]
     },
     "metadata": {},
     "output_type": "display_data"
    }
   ],
   "source": [
    "dat = dat_tfbind_gata\n",
    "dat = dat %>% dplyr::mutate(Peak  = factor(Peak,  levels=peaks))\n",
    "dat = dat %>% dplyr::arrange(Peak)\n",
    "head(dat)"
   ]
  },
  {
   "cell_type": "code",
   "execution_count": null,
   "metadata": {},
   "outputs": [],
   "source": [
    "options(repr.plot.height=5, repr.plot.width=5)\n",
    "legend = cowplot::get_legend(gpt)\n",
    "grid.draw(legend)"
   ]
  },
  {
   "cell_type": "code",
   "execution_count": 281,
   "metadata": {},
   "outputs": [],
   "source": [
    "lst = list(\n",
    "    dat_crispr_gata,\n",
    "    dat_ranknorm_gata,\n",
    "    dat_ca_gata,\n",
    "    dat_tfbind_gata\n",
    ")\n",
    "\n",
    "lst = lapply(lst, function(dat){\n",
    "    dat = dat %>% dplyr::mutate(Peak  = factor(Peak,  levels=peaks))\n",
    "    dat = dat %>% arrange(Peak)\n",
    "    return(dat)\n",
    "})"
   ]
  },
  {
   "cell_type": "code",
   "execution_count": 282,
   "metadata": {},
   "outputs": [
    {
     "data": {
      "text/html": [
       "<ol>\n",
       "\t<li><table class=\"dataframe\">\n",
       "<caption>A tibble: 6 × 7</caption>\n",
       "<thead>\n",
       "\t<tr><th scope=col>Peak</th><th scope=col>Chrom</th><th scope=col>Start</th><th scope=col>End</th><th scope=col>Dataset</th><th scope=col>Region</th><th scope=col>GATA1</th></tr>\n",
       "\t<tr><th scope=col>&lt;fct&gt;</th><th scope=col>&lt;chr&gt;</th><th scope=col>&lt;dbl&gt;</th><th scope=col>&lt;dbl&gt;</th><th scope=col>&lt;chr&gt;</th><th scope=col>&lt;chr&gt;</th><th scope=col>&lt;dbl&gt;</th></tr>\n",
       "</thead>\n",
       "<tbody>\n",
       "\t<tr><td>chrX_48996933_48997220</td><td>chrX</td><td>48996933</td><td>48997220</td><td>OL43</td><td>GATA1</td><td>0.0000000</td></tr>\n",
       "\t<tr><td>chrX_48817957_48818965</td><td>chrX</td><td>48817957</td><td>48818965</td><td>OL43</td><td>GATA1</td><td>0.1972414</td></tr>\n",
       "\t<tr><td>chrX_48992940_48993554</td><td>chrX</td><td>48992940</td><td>48993554</td><td>OL43</td><td>GATA1</td><td>0.0000000</td></tr>\n",
       "\t<tr><td>chrX_49016897_49017139</td><td>chrX</td><td>49016897</td><td>49017139</td><td>OL43</td><td>GATA1</td><td>0.0000000</td></tr>\n",
       "\t<tr><td>chrX_49836520_49837095</td><td>chrX</td><td>49836520</td><td>49837095</td><td>OL43</td><td>GATA1</td><td>0.0000000</td></tr>\n",
       "\t<tr><td>chrX_48747496_48747829</td><td>chrX</td><td>48747496</td><td>48747829</td><td>OL43</td><td>GATA1</td><td>0.0000000</td></tr>\n",
       "</tbody>\n",
       "</table>\n",
       "</li>\n",
       "\t<li><table class=\"dataframe\">\n",
       "<caption>A tibble: 6 × 3</caption>\n",
       "<thead>\n",
       "\t<tr><th scope=col>Peak</th><th scope=col>Assay</th><th scope=col>Value</th></tr>\n",
       "\t<tr><th scope=col>&lt;fct&gt;</th><th scope=col>&lt;chr&gt;</th><th scope=col>&lt;dbl&gt;</th></tr>\n",
       "</thead>\n",
       "<tbody>\n",
       "\t<tr><td>chrX_48996933_48997220</td><td>ASTARR</td><td>0.009708738</td></tr>\n",
       "\t<tr><td>chrX_48996933_48997220</td><td>TMPRA </td><td>0.004854369</td></tr>\n",
       "\t<tr><td>chrX_48996933_48997220</td><td>WSTARR</td><td>0.004854369</td></tr>\n",
       "\t<tr><td>chrX_48817957_48818965</td><td>ASTARR</td><td>0.058252427</td></tr>\n",
       "\t<tr><td>chrX_48817957_48818965</td><td>TMPRA </td><td>0.053398058</td></tr>\n",
       "\t<tr><td>chrX_48817957_48818965</td><td>WSTARR</td><td>0.072815534</td></tr>\n",
       "</tbody>\n",
       "</table>\n",
       "</li>\n",
       "\t<li><table class=\"dataframe\">\n",
       "<caption>A tibble: 6 × 12</caption>\n",
       "<thead>\n",
       "\t<tr><th scope=col>Peak</th><th scope=col>Chrom</th><th scope=col>Start</th><th scope=col>End</th><th scope=col>Dataset</th><th scope=col>Region</th><th scope=col>Input</th><th scope=col>Length</th><th scope=col>Pct_GC</th><th scope=col>Residual</th><th scope=col>Score</th><th scope=col>Name</th></tr>\n",
       "\t<tr><th scope=col>&lt;fct&gt;</th><th scope=col>&lt;chr&gt;</th><th scope=col>&lt;dbl&gt;</th><th scope=col>&lt;dbl&gt;</th><th scope=col>&lt;chr&gt;</th><th scope=col>&lt;chr&gt;</th><th scope=col>&lt;dbl&gt;</th><th scope=col>&lt;dbl&gt;</th><th scope=col>&lt;dbl&gt;</th><th scope=col>&lt;dbl&gt;</th><th scope=col>&lt;dbl&gt;</th><th scope=col>&lt;chr&gt;</th></tr>\n",
       "</thead>\n",
       "<tbody>\n",
       "\t<tr><td>chrX_48996933_48997220</td><td>chrX</td><td>48996933</td><td>48997220</td><td>OL43</td><td>GATA1</td><td>0.3122157</td><td> 287</td><td>0.547038</td><td> 0.5509139</td><td>0.1391436</td><td>CA</td></tr>\n",
       "\t<tr><td>chrX_48817957_48818965</td><td>chrX</td><td>48817957</td><td>48818965</td><td>OL43</td><td>GATA1</td><td>0.6901286</td><td>1008</td><td>0.571429</td><td>-1.5098532</td><td>0.1191535</td><td>CA</td></tr>\n",
       "\t<tr><td>chrX_48992940_48993554</td><td>chrX</td><td>48992940</td><td>48993554</td><td>OL43</td><td>GATA1</td><td>0.3484491</td><td> 614</td><td>0.547231</td><td>-0.5188837</td><td>0.1287662</td><td>CA</td></tr>\n",
       "\t<tr><td>chrX_49016897_49017139</td><td>chrX</td><td>49016897</td><td>49017139</td><td>OL43</td><td>GATA1</td><td>0.2117991</td><td> 242</td><td>0.508264</td><td> 0.6027035</td><td>0.1396460</td><td>CA</td></tr>\n",
       "\t<tr><td>chrX_49836520_49837095</td><td>chrX</td><td>49836520</td><td>49837095</td><td>OL43</td><td>GATA1</td><td>0.3295243</td><td> 575</td><td>0.620870</td><td>-0.4058965</td><td>0.1298622</td><td>CA</td></tr>\n",
       "\t<tr><td>chrX_48747496_48747829</td><td>chrX</td><td>48747496</td><td>48747829</td><td>OL43</td><td>GATA1</td><td>0.2387570</td><td> 333</td><td>0.579580</td><td> 0.3218668</td><td>0.1369218</td><td>CA</td></tr>\n",
       "</tbody>\n",
       "</table>\n",
       "</li>\n",
       "\t<li><table class=\"dataframe\">\n",
       "<caption>A tibble: 6 × 12</caption>\n",
       "<thead>\n",
       "\t<tr><th scope=col>Peak</th><th scope=col>Chrom</th><th scope=col>Start</th><th scope=col>End</th><th scope=col>Dataset</th><th scope=col>Region</th><th scope=col>Name</th><th scope=col>Count</th><th scope=col>Total</th><th scope=col>Freq</th><th scope=col>Type</th><th scope=col>Score</th></tr>\n",
       "\t<tr><th scope=col>&lt;fct&gt;</th><th scope=col>&lt;chr&gt;</th><th scope=col>&lt;dbl&gt;</th><th scope=col>&lt;dbl&gt;</th><th scope=col>&lt;chr&gt;</th><th scope=col>&lt;chr&gt;</th><th scope=col>&lt;chr&gt;</th><th scope=col>&lt;dbl&gt;</th><th scope=col>&lt;dbl&gt;</th><th scope=col>&lt;dbl&gt;</th><th scope=col>&lt;chr&gt;</th><th scope=col>&lt;chr&gt;</th></tr>\n",
       "</thead>\n",
       "<tbody>\n",
       "\t<tr><td>chrX_48996933_48997220</td><td>chrX</td><td>48996933</td><td>48997220</td><td>OL43</td><td>GATA1</td><td>GATA1</td><td>NA</td><td>NA</td><td>NA</td><td>NA</td><td>0</td></tr>\n",
       "\t<tr><td>chrX_48817957_48818965</td><td>chrX</td><td>48817957</td><td>48818965</td><td>OL43</td><td>GATA1</td><td>GATA1</td><td>NA</td><td>NA</td><td>NA</td><td>NA</td><td>0</td></tr>\n",
       "\t<tr><td>chrX_48992940_48993554</td><td>chrX</td><td>48992940</td><td>48993554</td><td>OL43</td><td>GATA1</td><td>GATA1</td><td>NA</td><td>NA</td><td>NA</td><td>NA</td><td>0</td></tr>\n",
       "\t<tr><td>chrX_49016897_49017139</td><td>chrX</td><td>49016897</td><td>49017139</td><td>OL43</td><td>GATA1</td><td>GATA1</td><td>NA</td><td>NA</td><td>NA</td><td>NA</td><td>0</td></tr>\n",
       "\t<tr><td>chrX_49836520_49837095</td><td>chrX</td><td>49836520</td><td>49837095</td><td>OL43</td><td>GATA1</td><td>GATA1</td><td>NA</td><td>NA</td><td>NA</td><td>NA</td><td>0</td></tr>\n",
       "\t<tr><td>chrX_48747496_48747829</td><td>chrX</td><td>48747496</td><td>48747829</td><td>OL43</td><td>GATA1</td><td>GATA1</td><td>NA</td><td>NA</td><td>NA</td><td>NA</td><td>0</td></tr>\n",
       "</tbody>\n",
       "</table>\n",
       "</li>\n",
       "</ol>\n"
      ],
      "text/latex": [
       "\\begin{enumerate}\n",
       "\\item A tibble: 6 × 7\n",
       "\\begin{tabular}{lllllll}\n",
       " Peak & Chrom & Start & End & Dataset & Region & GATA1\\\\\n",
       " <fct> & <chr> & <dbl> & <dbl> & <chr> & <chr> & <dbl>\\\\\n",
       "\\hline\n",
       "\t chrX\\_48996933\\_48997220 & chrX & 48996933 & 48997220 & OL43 & GATA1 & 0.0000000\\\\\n",
       "\t chrX\\_48817957\\_48818965 & chrX & 48817957 & 48818965 & OL43 & GATA1 & 0.1972414\\\\\n",
       "\t chrX\\_48992940\\_48993554 & chrX & 48992940 & 48993554 & OL43 & GATA1 & 0.0000000\\\\\n",
       "\t chrX\\_49016897\\_49017139 & chrX & 49016897 & 49017139 & OL43 & GATA1 & 0.0000000\\\\\n",
       "\t chrX\\_49836520\\_49837095 & chrX & 49836520 & 49837095 & OL43 & GATA1 & 0.0000000\\\\\n",
       "\t chrX\\_48747496\\_48747829 & chrX & 48747496 & 48747829 & OL43 & GATA1 & 0.0000000\\\\\n",
       "\\end{tabular}\n",
       "\n",
       "\\item A tibble: 6 × 3\n",
       "\\begin{tabular}{lll}\n",
       " Peak & Assay & Value\\\\\n",
       " <fct> & <chr> & <dbl>\\\\\n",
       "\\hline\n",
       "\t chrX\\_48996933\\_48997220 & ASTARR & 0.009708738\\\\\n",
       "\t chrX\\_48996933\\_48997220 & TMPRA  & 0.004854369\\\\\n",
       "\t chrX\\_48996933\\_48997220 & WSTARR & 0.004854369\\\\\n",
       "\t chrX\\_48817957\\_48818965 & ASTARR & 0.058252427\\\\\n",
       "\t chrX\\_48817957\\_48818965 & TMPRA  & 0.053398058\\\\\n",
       "\t chrX\\_48817957\\_48818965 & WSTARR & 0.072815534\\\\\n",
       "\\end{tabular}\n",
       "\n",
       "\\item A tibble: 6 × 12\n",
       "\\begin{tabular}{llllllllllll}\n",
       " Peak & Chrom & Start & End & Dataset & Region & Input & Length & Pct\\_GC & Residual & Score & Name\\\\\n",
       " <fct> & <chr> & <dbl> & <dbl> & <chr> & <chr> & <dbl> & <dbl> & <dbl> & <dbl> & <dbl> & <chr>\\\\\n",
       "\\hline\n",
       "\t chrX\\_48996933\\_48997220 & chrX & 48996933 & 48997220 & OL43 & GATA1 & 0.3122157 &  287 & 0.547038 &  0.5509139 & 0.1391436 & CA\\\\\n",
       "\t chrX\\_48817957\\_48818965 & chrX & 48817957 & 48818965 & OL43 & GATA1 & 0.6901286 & 1008 & 0.571429 & -1.5098532 & 0.1191535 & CA\\\\\n",
       "\t chrX\\_48992940\\_48993554 & chrX & 48992940 & 48993554 & OL43 & GATA1 & 0.3484491 &  614 & 0.547231 & -0.5188837 & 0.1287662 & CA\\\\\n",
       "\t chrX\\_49016897\\_49017139 & chrX & 49016897 & 49017139 & OL43 & GATA1 & 0.2117991 &  242 & 0.508264 &  0.6027035 & 0.1396460 & CA\\\\\n",
       "\t chrX\\_49836520\\_49837095 & chrX & 49836520 & 49837095 & OL43 & GATA1 & 0.3295243 &  575 & 0.620870 & -0.4058965 & 0.1298622 & CA\\\\\n",
       "\t chrX\\_48747496\\_48747829 & chrX & 48747496 & 48747829 & OL43 & GATA1 & 0.2387570 &  333 & 0.579580 &  0.3218668 & 0.1369218 & CA\\\\\n",
       "\\end{tabular}\n",
       "\n",
       "\\item A tibble: 6 × 12\n",
       "\\begin{tabular}{llllllllllll}\n",
       " Peak & Chrom & Start & End & Dataset & Region & Name & Count & Total & Freq & Type & Score\\\\\n",
       " <fct> & <chr> & <dbl> & <dbl> & <chr> & <chr> & <chr> & <dbl> & <dbl> & <dbl> & <chr> & <chr>\\\\\n",
       "\\hline\n",
       "\t chrX\\_48996933\\_48997220 & chrX & 48996933 & 48997220 & OL43 & GATA1 & GATA1 & NA & NA & NA & NA & 0\\\\\n",
       "\t chrX\\_48817957\\_48818965 & chrX & 48817957 & 48818965 & OL43 & GATA1 & GATA1 & NA & NA & NA & NA & 0\\\\\n",
       "\t chrX\\_48992940\\_48993554 & chrX & 48992940 & 48993554 & OL43 & GATA1 & GATA1 & NA & NA & NA & NA & 0\\\\\n",
       "\t chrX\\_49016897\\_49017139 & chrX & 49016897 & 49017139 & OL43 & GATA1 & GATA1 & NA & NA & NA & NA & 0\\\\\n",
       "\t chrX\\_49836520\\_49837095 & chrX & 49836520 & 49837095 & OL43 & GATA1 & GATA1 & NA & NA & NA & NA & 0\\\\\n",
       "\t chrX\\_48747496\\_48747829 & chrX & 48747496 & 48747829 & OL43 & GATA1 & GATA1 & NA & NA & NA & NA & 0\\\\\n",
       "\\end{tabular}\n",
       "\n",
       "\\end{enumerate}\n"
      ],
      "text/markdown": [
       "1. \n",
       "A tibble: 6 × 7\n",
       "\n",
       "| Peak &lt;fct&gt; | Chrom &lt;chr&gt; | Start &lt;dbl&gt; | End &lt;dbl&gt; | Dataset &lt;chr&gt; | Region &lt;chr&gt; | GATA1 &lt;dbl&gt; |\n",
       "|---|---|---|---|---|---|---|\n",
       "| chrX_48996933_48997220 | chrX | 48996933 | 48997220 | OL43 | GATA1 | 0.0000000 |\n",
       "| chrX_48817957_48818965 | chrX | 48817957 | 48818965 | OL43 | GATA1 | 0.1972414 |\n",
       "| chrX_48992940_48993554 | chrX | 48992940 | 48993554 | OL43 | GATA1 | 0.0000000 |\n",
       "| chrX_49016897_49017139 | chrX | 49016897 | 49017139 | OL43 | GATA1 | 0.0000000 |\n",
       "| chrX_49836520_49837095 | chrX | 49836520 | 49837095 | OL43 | GATA1 | 0.0000000 |\n",
       "| chrX_48747496_48747829 | chrX | 48747496 | 48747829 | OL43 | GATA1 | 0.0000000 |\n",
       "\n",
       "\n",
       "2. \n",
       "A tibble: 6 × 3\n",
       "\n",
       "| Peak &lt;fct&gt; | Assay &lt;chr&gt; | Value &lt;dbl&gt; |\n",
       "|---|---|---|\n",
       "| chrX_48996933_48997220 | ASTARR | 0.009708738 |\n",
       "| chrX_48996933_48997220 | TMPRA  | 0.004854369 |\n",
       "| chrX_48996933_48997220 | WSTARR | 0.004854369 |\n",
       "| chrX_48817957_48818965 | ASTARR | 0.058252427 |\n",
       "| chrX_48817957_48818965 | TMPRA  | 0.053398058 |\n",
       "| chrX_48817957_48818965 | WSTARR | 0.072815534 |\n",
       "\n",
       "\n",
       "3. \n",
       "A tibble: 6 × 12\n",
       "\n",
       "| Peak &lt;fct&gt; | Chrom &lt;chr&gt; | Start &lt;dbl&gt; | End &lt;dbl&gt; | Dataset &lt;chr&gt; | Region &lt;chr&gt; | Input &lt;dbl&gt; | Length &lt;dbl&gt; | Pct_GC &lt;dbl&gt; | Residual &lt;dbl&gt; | Score &lt;dbl&gt; | Name &lt;chr&gt; |\n",
       "|---|---|---|---|---|---|---|---|---|---|---|---|\n",
       "| chrX_48996933_48997220 | chrX | 48996933 | 48997220 | OL43 | GATA1 | 0.3122157 |  287 | 0.547038 |  0.5509139 | 0.1391436 | CA |\n",
       "| chrX_48817957_48818965 | chrX | 48817957 | 48818965 | OL43 | GATA1 | 0.6901286 | 1008 | 0.571429 | -1.5098532 | 0.1191535 | CA |\n",
       "| chrX_48992940_48993554 | chrX | 48992940 | 48993554 | OL43 | GATA1 | 0.3484491 |  614 | 0.547231 | -0.5188837 | 0.1287662 | CA |\n",
       "| chrX_49016897_49017139 | chrX | 49016897 | 49017139 | OL43 | GATA1 | 0.2117991 |  242 | 0.508264 |  0.6027035 | 0.1396460 | CA |\n",
       "| chrX_49836520_49837095 | chrX | 49836520 | 49837095 | OL43 | GATA1 | 0.3295243 |  575 | 0.620870 | -0.4058965 | 0.1298622 | CA |\n",
       "| chrX_48747496_48747829 | chrX | 48747496 | 48747829 | OL43 | GATA1 | 0.2387570 |  333 | 0.579580 |  0.3218668 | 0.1369218 | CA |\n",
       "\n",
       "\n",
       "4. \n",
       "A tibble: 6 × 12\n",
       "\n",
       "| Peak &lt;fct&gt; | Chrom &lt;chr&gt; | Start &lt;dbl&gt; | End &lt;dbl&gt; | Dataset &lt;chr&gt; | Region &lt;chr&gt; | Name &lt;chr&gt; | Count &lt;dbl&gt; | Total &lt;dbl&gt; | Freq &lt;dbl&gt; | Type &lt;chr&gt; | Score &lt;chr&gt; |\n",
       "|---|---|---|---|---|---|---|---|---|---|---|---|\n",
       "| chrX_48996933_48997220 | chrX | 48996933 | 48997220 | OL43 | GATA1 | GATA1 | NA | NA | NA | NA | 0 |\n",
       "| chrX_48817957_48818965 | chrX | 48817957 | 48818965 | OL43 | GATA1 | GATA1 | NA | NA | NA | NA | 0 |\n",
       "| chrX_48992940_48993554 | chrX | 48992940 | 48993554 | OL43 | GATA1 | GATA1 | NA | NA | NA | NA | 0 |\n",
       "| chrX_49016897_49017139 | chrX | 49016897 | 49017139 | OL43 | GATA1 | GATA1 | NA | NA | NA | NA | 0 |\n",
       "| chrX_49836520_49837095 | chrX | 49836520 | 49837095 | OL43 | GATA1 | GATA1 | NA | NA | NA | NA | 0 |\n",
       "| chrX_48747496_48747829 | chrX | 48747496 | 48747829 | OL43 | GATA1 | GATA1 | NA | NA | NA | NA | 0 |\n",
       "\n",
       "\n",
       "\n",
       "\n"
      ],
      "text/plain": [
       "[[1]]\n",
       "\u001b[90m# A tibble: 6 × 7\u001b[39m\n",
       "  Peak                   Chrom    Start      End Dataset Region GATA1\n",
       "  \u001b[3m\u001b[90m<fct>\u001b[39m\u001b[23m                  \u001b[3m\u001b[90m<chr>\u001b[39m\u001b[23m    \u001b[3m\u001b[90m<dbl>\u001b[39m\u001b[23m    \u001b[3m\u001b[90m<dbl>\u001b[39m\u001b[23m \u001b[3m\u001b[90m<chr>\u001b[39m\u001b[23m   \u001b[3m\u001b[90m<chr>\u001b[39m\u001b[23m  \u001b[3m\u001b[90m<dbl>\u001b[39m\u001b[23m\n",
       "\u001b[90m1\u001b[39m chrX_48996933_48997220 chrX  48\u001b[4m9\u001b[24m\u001b[4m9\u001b[24m\u001b[4m6\u001b[24m933 48\u001b[4m9\u001b[24m\u001b[4m9\u001b[24m\u001b[4m7\u001b[24m220 OL43    GATA1  0    \n",
       "\u001b[90m2\u001b[39m chrX_48817957_48818965 chrX  48\u001b[4m8\u001b[24m\u001b[4m1\u001b[24m\u001b[4m7\u001b[24m957 48\u001b[4m8\u001b[24m\u001b[4m1\u001b[24m\u001b[4m8\u001b[24m965 OL43    GATA1  0.197\n",
       "\u001b[90m3\u001b[39m chrX_48992940_48993554 chrX  48\u001b[4m9\u001b[24m\u001b[4m9\u001b[24m\u001b[4m2\u001b[24m940 48\u001b[4m9\u001b[24m\u001b[4m9\u001b[24m\u001b[4m3\u001b[24m554 OL43    GATA1  0    \n",
       "\u001b[90m4\u001b[39m chrX_49016897_49017139 chrX  49\u001b[4m0\u001b[24m\u001b[4m1\u001b[24m\u001b[4m6\u001b[24m897 49\u001b[4m0\u001b[24m\u001b[4m1\u001b[24m\u001b[4m7\u001b[24m139 OL43    GATA1  0    \n",
       "\u001b[90m5\u001b[39m chrX_49836520_49837095 chrX  49\u001b[4m8\u001b[24m\u001b[4m3\u001b[24m\u001b[4m6\u001b[24m520 49\u001b[4m8\u001b[24m\u001b[4m3\u001b[24m\u001b[4m7\u001b[24m095 OL43    GATA1  0    \n",
       "\u001b[90m6\u001b[39m chrX_48747496_48747829 chrX  48\u001b[4m7\u001b[24m\u001b[4m4\u001b[24m\u001b[4m7\u001b[24m496 48\u001b[4m7\u001b[24m\u001b[4m4\u001b[24m\u001b[4m7\u001b[24m829 OL43    GATA1  0    \n",
       "\n",
       "[[2]]\n",
       "\u001b[90m# A tibble: 6 × 3\u001b[39m\n",
       "  Peak                   Assay    Value\n",
       "  \u001b[3m\u001b[90m<fct>\u001b[39m\u001b[23m                  \u001b[3m\u001b[90m<chr>\u001b[39m\u001b[23m    \u001b[3m\u001b[90m<dbl>\u001b[39m\u001b[23m\n",
       "\u001b[90m1\u001b[39m chrX_48996933_48997220 ASTARR 0.009\u001b[4m7\u001b[24m\u001b[4m1\u001b[24m\n",
       "\u001b[90m2\u001b[39m chrX_48996933_48997220 TMPRA  0.004\u001b[4m8\u001b[24m\u001b[4m5\u001b[24m\n",
       "\u001b[90m3\u001b[39m chrX_48996933_48997220 WSTARR 0.004\u001b[4m8\u001b[24m\u001b[4m5\u001b[24m\n",
       "\u001b[90m4\u001b[39m chrX_48817957_48818965 ASTARR 0.058\u001b[4m3\u001b[24m \n",
       "\u001b[90m5\u001b[39m chrX_48817957_48818965 TMPRA  0.053\u001b[4m4\u001b[24m \n",
       "\u001b[90m6\u001b[39m chrX_48817957_48818965 WSTARR 0.072\u001b[4m8\u001b[24m \n",
       "\n",
       "[[3]]\n",
       "\u001b[90m# A tibble: 6 × 12\u001b[39m\n",
       "  Peak      Chrom  Start    End Dataset Region Input Length Pct_GC Resid…¹ Score\n",
       "  \u001b[3m\u001b[90m<fct>\u001b[39m\u001b[23m     \u001b[3m\u001b[90m<chr>\u001b[39m\u001b[23m  \u001b[3m\u001b[90m<dbl>\u001b[39m\u001b[23m  \u001b[3m\u001b[90m<dbl>\u001b[39m\u001b[23m \u001b[3m\u001b[90m<chr>\u001b[39m\u001b[23m   \u001b[3m\u001b[90m<chr>\u001b[39m\u001b[23m  \u001b[3m\u001b[90m<dbl>\u001b[39m\u001b[23m  \u001b[3m\u001b[90m<dbl>\u001b[39m\u001b[23m  \u001b[3m\u001b[90m<dbl>\u001b[39m\u001b[23m   \u001b[3m\u001b[90m<dbl>\u001b[39m\u001b[23m \u001b[3m\u001b[90m<dbl>\u001b[39m\u001b[23m\n",
       "\u001b[90m1\u001b[39m chrX_489… chrX  4.90\u001b[90me\u001b[39m7 4.90\u001b[90me\u001b[39m7 OL43    GATA1  0.312    287  0.547   0.551 0.139\n",
       "\u001b[90m2\u001b[39m chrX_488… chrX  4.88\u001b[90me\u001b[39m7 4.88\u001b[90me\u001b[39m7 OL43    GATA1  0.690   \u001b[4m1\u001b[24m008  0.571  -\u001b[31m1\u001b[39m\u001b[31m.\u001b[39m\u001b[31m51\u001b[39m  0.119\n",
       "\u001b[90m3\u001b[39m chrX_489… chrX  4.90\u001b[90me\u001b[39m7 4.90\u001b[90me\u001b[39m7 OL43    GATA1  0.348    614  0.547  -\u001b[31m0\u001b[39m\u001b[31m.\u001b[39m\u001b[31m519\u001b[39m 0.129\n",
       "\u001b[90m4\u001b[39m chrX_490… chrX  4.90\u001b[90me\u001b[39m7 4.90\u001b[90me\u001b[39m7 OL43    GATA1  0.212    242  0.508   0.603 0.140\n",
       "\u001b[90m5\u001b[39m chrX_498… chrX  4.98\u001b[90me\u001b[39m7 4.98\u001b[90me\u001b[39m7 OL43    GATA1  0.330    575  0.621  -\u001b[31m0\u001b[39m\u001b[31m.\u001b[39m\u001b[31m406\u001b[39m 0.130\n",
       "\u001b[90m6\u001b[39m chrX_487… chrX  4.87\u001b[90me\u001b[39m7 4.87\u001b[90me\u001b[39m7 OL43    GATA1  0.239    333  0.580   0.322 0.137\n",
       "\u001b[90m# … with 1 more variable: Name <chr>, and abbreviated variable name ¹​Residual\u001b[39m\n",
       "\n",
       "[[4]]\n",
       "\u001b[90m# A tibble: 6 × 12\u001b[39m\n",
       "  Peak    Chrom  Start    End Dataset Region Name  Count Total  Freq Type  Score\n",
       "  \u001b[3m\u001b[90m<fct>\u001b[39m\u001b[23m   \u001b[3m\u001b[90m<chr>\u001b[39m\u001b[23m  \u001b[3m\u001b[90m<dbl>\u001b[39m\u001b[23m  \u001b[3m\u001b[90m<dbl>\u001b[39m\u001b[23m \u001b[3m\u001b[90m<chr>\u001b[39m\u001b[23m   \u001b[3m\u001b[90m<chr>\u001b[39m\u001b[23m  \u001b[3m\u001b[90m<chr>\u001b[39m\u001b[23m \u001b[3m\u001b[90m<dbl>\u001b[39m\u001b[23m \u001b[3m\u001b[90m<dbl>\u001b[39m\u001b[23m \u001b[3m\u001b[90m<dbl>\u001b[39m\u001b[23m \u001b[3m\u001b[90m<chr>\u001b[39m\u001b[23m \u001b[3m\u001b[90m<chr>\u001b[39m\u001b[23m\n",
       "\u001b[90m1\u001b[39m chrX_4… chrX  4.90\u001b[90me\u001b[39m7 4.90\u001b[90me\u001b[39m7 OL43    GATA1  GATA1    \u001b[31mNA\u001b[39m    \u001b[31mNA\u001b[39m    \u001b[31mNA\u001b[39m \u001b[31mNA\u001b[39m    0    \n",
       "\u001b[90m2\u001b[39m chrX_4… chrX  4.88\u001b[90me\u001b[39m7 4.88\u001b[90me\u001b[39m7 OL43    GATA1  GATA1    \u001b[31mNA\u001b[39m    \u001b[31mNA\u001b[39m    \u001b[31mNA\u001b[39m \u001b[31mNA\u001b[39m    0    \n",
       "\u001b[90m3\u001b[39m chrX_4… chrX  4.90\u001b[90me\u001b[39m7 4.90\u001b[90me\u001b[39m7 OL43    GATA1  GATA1    \u001b[31mNA\u001b[39m    \u001b[31mNA\u001b[39m    \u001b[31mNA\u001b[39m \u001b[31mNA\u001b[39m    0    \n",
       "\u001b[90m4\u001b[39m chrX_4… chrX  4.90\u001b[90me\u001b[39m7 4.90\u001b[90me\u001b[39m7 OL43    GATA1  GATA1    \u001b[31mNA\u001b[39m    \u001b[31mNA\u001b[39m    \u001b[31mNA\u001b[39m \u001b[31mNA\u001b[39m    0    \n",
       "\u001b[90m5\u001b[39m chrX_4… chrX  4.98\u001b[90me\u001b[39m7 4.98\u001b[90me\u001b[39m7 OL43    GATA1  GATA1    \u001b[31mNA\u001b[39m    \u001b[31mNA\u001b[39m    \u001b[31mNA\u001b[39m \u001b[31mNA\u001b[39m    0    \n",
       "\u001b[90m6\u001b[39m chrX_4… chrX  4.87\u001b[90me\u001b[39m7 4.87\u001b[90me\u001b[39m7 OL43    GATA1  GATA1    \u001b[31mNA\u001b[39m    \u001b[31mNA\u001b[39m    \u001b[31mNA\u001b[39m \u001b[31mNA\u001b[39m    0    \n"
      ]
     },
     "metadata": {},
     "output_type": "display_data"
    }
   ],
   "source": [
    "lapply(lst, head)"
   ]
  },
  {
   "cell_type": "code",
   "execution_count": 249,
   "metadata": {},
   "outputs": [
    {
     "data": {
      "text/html": [
       "206"
      ],
      "text/latex": [
       "206"
      ],
      "text/markdown": [
       "206"
      ],
      "text/plain": [
       "[1] 206"
      ]
     },
     "metadata": {},
     "output_type": "display_data"
    }
   ],
   "source": [
    "tmp = lapply(lst, function(dat){unique(dat$Peak)})\n",
    "tmp = Reduce(intersect, tmp)\n",
    "length(tmp)"
   ]
  },
  {
   "cell_type": "code",
   "execution_count": 250,
   "metadata": {},
   "outputs": [
    {
     "data": {
      "text/html": [
       "<ol>\n",
       "\t<li>206</li>\n",
       "\t<li>206</li>\n",
       "\t<li>206</li>\n",
       "\t<li>206</li>\n",
       "</ol>\n"
      ],
      "text/latex": [
       "\\begin{enumerate}\n",
       "\\item 206\n",
       "\\item 206\n",
       "\\item 206\n",
       "\\item 206\n",
       "\\end{enumerate}\n"
      ],
      "text/markdown": [
       "1. 206\n",
       "2. 206\n",
       "3. 206\n",
       "4. 206\n",
       "\n",
       "\n"
      ],
      "text/plain": [
       "[[1]]\n",
       "[1] 206\n",
       "\n",
       "[[2]]\n",
       "[1] 206\n",
       "\n",
       "[[3]]\n",
       "[1] 206\n",
       "\n",
       "[[4]]\n",
       "[1] 206\n"
      ]
     },
     "metadata": {},
     "output_type": "display_data"
    }
   ],
   "source": [
    "tmp = lapply(lst, function(dat){unique(dat$Peak)})\n",
    "tmp = lapply(tmp, length)\n",
    "tmp"
   ]
  },
  {
   "cell_type": "code",
   "execution_count": null,
   "metadata": {},
   "outputs": [],
   "source": []
  },
  {
   "cell_type": "code",
   "execution_count": null,
   "metadata": {},
   "outputs": [],
   "source": []
  },
  {
   "cell_type": "code",
   "execution_count": null,
   "metadata": {},
   "outputs": [],
   "source": []
  },
  {
   "cell_type": "code",
   "execution_count": null,
   "metadata": {},
   "outputs": [],
   "source": []
  },
  {
   "cell_type": "code",
   "execution_count": 10,
   "metadata": {},
   "outputs": [
    {
     "data": {
      "text/html": [
       "<table class=\"dataframe\">\n",
       "<caption>A tibble: 6 × 6</caption>\n",
       "<thead>\n",
       "\t<tr><th scope=col>Peak</th><th scope=col>Name</th><th scope=col>Count</th><th scope=col>Total</th><th scope=col>Freq</th><th scope=col>Type</th></tr>\n",
       "\t<tr><th scope=col>&lt;chr&gt;</th><th scope=col>&lt;chr&gt;</th><th scope=col>&lt;dbl&gt;</th><th scope=col>&lt;dbl&gt;</th><th scope=col>&lt;dbl&gt;</th><th scope=col>&lt;chr&gt;</th></tr>\n",
       "</thead>\n",
       "<tbody>\n",
       "\t<tr><td>chr1_100006256_100006880</td><td>TAF15</td><td>1</td><td>1</td><td>1.0000000</td><td>TF-Binding</td></tr>\n",
       "\t<tr><td>chr1_10002087_10003910  </td><td>CBX2 </td><td>1</td><td>6</td><td>0.1666667</td><td>TF-Binding</td></tr>\n",
       "\t<tr><td>chr1_10002087_10003910  </td><td>CBX8 </td><td>1</td><td>6</td><td>0.1666667</td><td>TF-Binding</td></tr>\n",
       "\t<tr><td>chr1_10002087_10003910  </td><td>CEBPB</td><td>1</td><td>6</td><td>0.1666667</td><td>TF-Binding</td></tr>\n",
       "\t<tr><td>chr1_10002087_10003910  </td><td>ETS1 </td><td>1</td><td>6</td><td>0.1666667</td><td>TF-Binding</td></tr>\n",
       "\t<tr><td>chr1_10002087_10003910  </td><td>HINFP</td><td>1</td><td>6</td><td>0.1666667</td><td>TF-Binding</td></tr>\n",
       "</tbody>\n",
       "</table>\n"
      ],
      "text/latex": [
       "A tibble: 6 × 6\n",
       "\\begin{tabular}{llllll}\n",
       " Peak & Name & Count & Total & Freq & Type\\\\\n",
       " <chr> & <chr> & <dbl> & <dbl> & <dbl> & <chr>\\\\\n",
       "\\hline\n",
       "\t chr1\\_100006256\\_100006880 & TAF15 & 1 & 1 & 1.0000000 & TF-Binding\\\\\n",
       "\t chr1\\_10002087\\_10003910   & CBX2  & 1 & 6 & 0.1666667 & TF-Binding\\\\\n",
       "\t chr1\\_10002087\\_10003910   & CBX8  & 1 & 6 & 0.1666667 & TF-Binding\\\\\n",
       "\t chr1\\_10002087\\_10003910   & CEBPB & 1 & 6 & 0.1666667 & TF-Binding\\\\\n",
       "\t chr1\\_10002087\\_10003910   & ETS1  & 1 & 6 & 0.1666667 & TF-Binding\\\\\n",
       "\t chr1\\_10002087\\_10003910   & HINFP & 1 & 6 & 0.1666667 & TF-Binding\\\\\n",
       "\\end{tabular}\n"
      ],
      "text/markdown": [
       "\n",
       "A tibble: 6 × 6\n",
       "\n",
       "| Peak &lt;chr&gt; | Name &lt;chr&gt; | Count &lt;dbl&gt; | Total &lt;dbl&gt; | Freq &lt;dbl&gt; | Type &lt;chr&gt; |\n",
       "|---|---|---|---|---|---|\n",
       "| chr1_100006256_100006880 | TAF15 | 1 | 1 | 1.0000000 | TF-Binding |\n",
       "| chr1_10002087_10003910   | CBX2  | 1 | 6 | 0.1666667 | TF-Binding |\n",
       "| chr1_10002087_10003910   | CBX8  | 1 | 6 | 0.1666667 | TF-Binding |\n",
       "| chr1_10002087_10003910   | CEBPB | 1 | 6 | 0.1666667 | TF-Binding |\n",
       "| chr1_10002087_10003910   | ETS1  | 1 | 6 | 0.1666667 | TF-Binding |\n",
       "| chr1_10002087_10003910   | HINFP | 1 | 6 | 0.1666667 | TF-Binding |\n",
       "\n"
      ],
      "text/plain": [
       "  Peak                     Name  Count Total Freq      Type      \n",
       "1 chr1_100006256_100006880 TAF15 1     1     1.0000000 TF-Binding\n",
       "2 chr1_10002087_10003910   CBX2  1     6     0.1666667 TF-Binding\n",
       "3 chr1_10002087_10003910   CBX8  1     6     0.1666667 TF-Binding\n",
       "4 chr1_10002087_10003910   CEBPB 1     6     0.1666667 TF-Binding\n",
       "5 chr1_10002087_10003910   ETS1  1     6     0.1666667 TF-Binding\n",
       "6 chr1_10002087_10003910   HINFP 1     6     0.1666667 TF-Binding"
      ]
     },
     "metadata": {},
     "output_type": "display_data"
    }
   ],
   "source": [
    "dat = dat_peak_count_remap\n",
    "head(dat)"
   ]
  },
  {
   "cell_type": "code",
   "execution_count": null,
   "metadata": {},
   "outputs": [],
   "source": [
    "lst = list(\n",
    "    \"ASTARR\" = dat_ranknorm_astarr,\n",
    "    \"WSTARR\" = dat_ranknorm_wstarr,\n",
    "    \"TMPRA\"  = dat_ranknorm_tmpra,\n",
    "    \"CRISPR\" = dat_crispr,\n",
    "    \"TF\"     = dat_peak_count_remap,\n",
    "    \"CA\"     = dat_chromatin_access\n",
    ")"
   ]
  },
  {
   "cell_type": "code",
   "execution_count": null,
   "metadata": {},
   "outputs": [],
   "source": []
  },
  {
   "cell_type": "code",
   "execution_count": null,
   "metadata": {},
   "outputs": [],
   "source": []
  },
  {
   "cell_type": "markdown",
   "metadata": {},
   "source": [
    "## Combine"
   ]
  },
  {
   "cell_type": "code",
   "execution_count": 25,
   "metadata": {},
   "outputs": [
    {
     "data": {
      "text/html": [
       "<table class=\"dataframe\">\n",
       "<caption>A tibble: 6 × 12</caption>\n",
       "<thead>\n",
       "\t<tr><th scope=col>Peak</th><th scope=col>Chrom</th><th scope=col>Start</th><th scope=col>End</th><th scope=col>Dataset</th><th scope=col>Region</th><th scope=col>Input</th><th scope=col>Length</th><th scope=col>Pct_GC</th><th scope=col>Residual</th><th scope=col>Score</th><th scope=col>Name</th></tr>\n",
       "\t<tr><th scope=col>&lt;chr&gt;</th><th scope=col>&lt;chr&gt;</th><th scope=col>&lt;dbl&gt;</th><th scope=col>&lt;dbl&gt;</th><th scope=col>&lt;chr&gt;</th><th scope=col>&lt;chr&gt;</th><th scope=col>&lt;dbl&gt;</th><th scope=col>&lt;dbl&gt;</th><th scope=col>&lt;dbl&gt;</th><th scope=col>&lt;dbl&gt;</th><th scope=col>&lt;dbl&gt;</th><th scope=col>&lt;chr&gt;</th></tr>\n",
       "</thead>\n",
       "<tbody>\n",
       "\t<tr><td>chr11_61792068_61793464</td><td>chr11</td><td>61792068</td><td>61793464</td><td>OL13</td><td>FADS</td><td>12.9543276</td><td>1396</td><td>0.598138</td><td> 9.44199098</td><td>0.2253897</td><td>CA</td></tr>\n",
       "\t<tr><td>chr11_61800085_61801113</td><td>chr11</td><td>61800085</td><td>61801113</td><td>OL13</td><td>FADS</td><td> 4.4864783</td><td>1028</td><td>0.434825</td><td> 2.21884931</td><td>0.1553230</td><td>CA</td></tr>\n",
       "\t<tr><td>chr11_61806630_61807154</td><td>chr11</td><td>61806630</td><td>61807154</td><td>OL13</td><td>FADS</td><td> 0.6572702</td><td> 524</td><td>0.509542</td><td> 0.09434966</td><td>0.1347148</td><td>CA</td></tr>\n",
       "\t<tr><td>chr11_61814735_61817343</td><td>chr11</td><td>61814735</td><td>61817343</td><td>OL13</td><td>FADS</td><td>30.5088747</td><td>2608</td><td>0.658359</td><td>22.89712030</td><td>0.3559084</td><td>CA</td></tr>\n",
       "\t<tr><td>chr11_61822094_61822443</td><td>chr11</td><td>61822094</td><td>61822443</td><td>OL13</td><td>FADS</td><td> 0.3658009</td><td> 349</td><td>0.449857</td><td> 0.39479297</td><td>0.1376292</td><td>CA</td></tr>\n",
       "\t<tr><td>chr11_61825795_61826306</td><td>chr11</td><td>61825795</td><td>61826306</td><td>OL13</td><td>FADS</td><td> 0.3813249</td><td> 511</td><td>0.518591</td><td>-0.13762505</td><td>0.1324646</td><td>CA</td></tr>\n",
       "</tbody>\n",
       "</table>\n"
      ],
      "text/latex": [
       "A tibble: 6 × 12\n",
       "\\begin{tabular}{llllllllllll}\n",
       " Peak & Chrom & Start & End & Dataset & Region & Input & Length & Pct\\_GC & Residual & Score & Name\\\\\n",
       " <chr> & <chr> & <dbl> & <dbl> & <chr> & <chr> & <dbl> & <dbl> & <dbl> & <dbl> & <dbl> & <chr>\\\\\n",
       "\\hline\n",
       "\t chr11\\_61792068\\_61793464 & chr11 & 61792068 & 61793464 & OL13 & FADS & 12.9543276 & 1396 & 0.598138 &  9.44199098 & 0.2253897 & CA\\\\\n",
       "\t chr11\\_61800085\\_61801113 & chr11 & 61800085 & 61801113 & OL13 & FADS &  4.4864783 & 1028 & 0.434825 &  2.21884931 & 0.1553230 & CA\\\\\n",
       "\t chr11\\_61806630\\_61807154 & chr11 & 61806630 & 61807154 & OL13 & FADS &  0.6572702 &  524 & 0.509542 &  0.09434966 & 0.1347148 & CA\\\\\n",
       "\t chr11\\_61814735\\_61817343 & chr11 & 61814735 & 61817343 & OL13 & FADS & 30.5088747 & 2608 & 0.658359 & 22.89712030 & 0.3559084 & CA\\\\\n",
       "\t chr11\\_61822094\\_61822443 & chr11 & 61822094 & 61822443 & OL13 & FADS &  0.3658009 &  349 & 0.449857 &  0.39479297 & 0.1376292 & CA\\\\\n",
       "\t chr11\\_61825795\\_61826306 & chr11 & 61825795 & 61826306 & OL13 & FADS &  0.3813249 &  511 & 0.518591 & -0.13762505 & 0.1324646 & CA\\\\\n",
       "\\end{tabular}\n"
      ],
      "text/markdown": [
       "\n",
       "A tibble: 6 × 12\n",
       "\n",
       "| Peak &lt;chr&gt; | Chrom &lt;chr&gt; | Start &lt;dbl&gt; | End &lt;dbl&gt; | Dataset &lt;chr&gt; | Region &lt;chr&gt; | Input &lt;dbl&gt; | Length &lt;dbl&gt; | Pct_GC &lt;dbl&gt; | Residual &lt;dbl&gt; | Score &lt;dbl&gt; | Name &lt;chr&gt; |\n",
       "|---|---|---|---|---|---|---|---|---|---|---|---|\n",
       "| chr11_61792068_61793464 | chr11 | 61792068 | 61793464 | OL13 | FADS | 12.9543276 | 1396 | 0.598138 |  9.44199098 | 0.2253897 | CA |\n",
       "| chr11_61800085_61801113 | chr11 | 61800085 | 61801113 | OL13 | FADS |  4.4864783 | 1028 | 0.434825 |  2.21884931 | 0.1553230 | CA |\n",
       "| chr11_61806630_61807154 | chr11 | 61806630 | 61807154 | OL13 | FADS |  0.6572702 |  524 | 0.509542 |  0.09434966 | 0.1347148 | CA |\n",
       "| chr11_61814735_61817343 | chr11 | 61814735 | 61817343 | OL13 | FADS | 30.5088747 | 2608 | 0.658359 | 22.89712030 | 0.3559084 | CA |\n",
       "| chr11_61822094_61822443 | chr11 | 61822094 | 61822443 | OL13 | FADS |  0.3658009 |  349 | 0.449857 |  0.39479297 | 0.1376292 | CA |\n",
       "| chr11_61825795_61826306 | chr11 | 61825795 | 61826306 | OL13 | FADS |  0.3813249 |  511 | 0.518591 | -0.13762505 | 0.1324646 | CA |\n",
       "\n"
      ],
      "text/plain": [
       "  Peak                    Chrom Start    End      Dataset Region Input     \n",
       "1 chr11_61792068_61793464 chr11 61792068 61793464 OL13    FADS   12.9543276\n",
       "2 chr11_61800085_61801113 chr11 61800085 61801113 OL13    FADS    4.4864783\n",
       "3 chr11_61806630_61807154 chr11 61806630 61807154 OL13    FADS    0.6572702\n",
       "4 chr11_61814735_61817343 chr11 61814735 61817343 OL13    FADS   30.5088747\n",
       "5 chr11_61822094_61822443 chr11 61822094 61822443 OL13    FADS    0.3658009\n",
       "6 chr11_61825795_61826306 chr11 61825795 61826306 OL13    FADS    0.3813249\n",
       "  Length Pct_GC   Residual    Score     Name\n",
       "1 1396   0.598138  9.44199098 0.2253897 CA  \n",
       "2 1028   0.434825  2.21884931 0.1553230 CA  \n",
       "3  524   0.509542  0.09434966 0.1347148 CA  \n",
       "4 2608   0.658359 22.89712030 0.3559084 CA  \n",
       "5  349   0.449857  0.39479297 0.1376292 CA  \n",
       "6  511   0.518591 -0.13762505 0.1324646 CA  "
      ]
     },
     "metadata": {},
     "output_type": "display_data"
    }
   ],
   "source": [
    "dat = dat_chromatin_access\n",
    "dat = dat %>% dplyr::mutate(Name = \"Chromatin Accessibility\")\n",
    "dat = left_join(dat_peak_info, dat, by=c(\"Peak\"))\n",
    "head(dat)"
   ]
  },
  {
   "cell_type": "code",
   "execution_count": 26,
   "metadata": {},
   "outputs": [
    {
     "data": {
      "image/png": "[encoded data removed]",
      "text/plain": [
       "plot without title"
      ]
     },
     "metadata": {
      "image/png": {
       "height": 120,
       "width": 900
      }
     },
     "output_type": "display_data"
    }
   ],
   "source": [
    "gpt = ggplot(dat, aes(x=Peak, y=Name, fill=Score)) +\n",
    "        geom_tile() +\n",
    "        scale_fill_gradient(low = \"white\", high = \"red\") +\n",
    "        labs(x=\"\", y=\"\") +\n",
    "        theme_cowplot() +\n",
    "        theme(axis.text.x = element_blank(),\n",
    "              axis.text.y = element_text(size=30),\n",
    "              axis.ticks.x = element_blank(),\n",
    "              legend.position = \"bottom\",\n",
    "              legend.key.size = unit(1, 'cm'),\n",
    "              legend.title = element_text(size=20),\n",
    "              legend.text = element_text(size=20))\n",
    "\n",
    "options(repr.plot.height=2, repr.plot.width=15)\n",
    "print(gpt)"
   ]
  },
  {
   "cell_type": "code",
   "execution_count": 30,
   "metadata": {},
   "outputs": [
    {
     "data": {
      "text/html": [
       "<table class=\"dataframe\">\n",
       "<caption>A tibble: 6 × 12</caption>\n",
       "<thead>\n",
       "\t<tr><th scope=col>Peak</th><th scope=col>Chrom</th><th scope=col>Start</th><th scope=col>End</th><th scope=col>Dataset</th><th scope=col>Region</th><th scope=col>Name</th><th scope=col>Count</th><th scope=col>Total</th><th scope=col>Freq</th><th scope=col>Type</th><th scope=col>Score</th></tr>\n",
       "\t<tr><th scope=col>&lt;chr&gt;</th><th scope=col>&lt;chr&gt;</th><th scope=col>&lt;dbl&gt;</th><th scope=col>&lt;dbl&gt;</th><th scope=col>&lt;chr&gt;</th><th scope=col>&lt;chr&gt;</th><th scope=col>&lt;chr&gt;</th><th scope=col>&lt;dbl&gt;</th><th scope=col>&lt;dbl&gt;</th><th scope=col>&lt;dbl&gt;</th><th scope=col>&lt;chr&gt;</th><th scope=col>&lt;chr&gt;</th></tr>\n",
       "</thead>\n",
       "<tbody>\n",
       "\t<tr><td>chr11_61792068_61793464</td><td>chr11</td><td>61792068</td><td>61793464</td><td>OL13</td><td>FADS</td><td>GATA1</td><td> 1</td><td>207</td><td>0.004830918</td><td>TF-Binding</td><td>1</td></tr>\n",
       "\t<tr><td>chr11_61800085_61801113</td><td>chr11</td><td>61800085</td><td>61801113</td><td>OL13</td><td>FADS</td><td>GATA1</td><td> 1</td><td>118</td><td>0.008474576</td><td>TF-Binding</td><td>1</td></tr>\n",
       "\t<tr><td>chr11_61806630_61807154</td><td>chr11</td><td>61806630</td><td>61807154</td><td>OL13</td><td>FADS</td><td>GATA1</td><td>NA</td><td> NA</td><td>         NA</td><td>NA        </td><td>0</td></tr>\n",
       "\t<tr><td>chr11_61814735_61817343</td><td>chr11</td><td>61814735</td><td>61817343</td><td>OL13</td><td>FADS</td><td>GATA1</td><td> 2</td><td>472</td><td>0.004237288</td><td>TF-Binding</td><td>1</td></tr>\n",
       "\t<tr><td>chr11_61822094_61822443</td><td>chr11</td><td>61822094</td><td>61822443</td><td>OL13</td><td>FADS</td><td>GATA1</td><td>NA</td><td> NA</td><td>         NA</td><td>NA        </td><td>0</td></tr>\n",
       "\t<tr><td>chr11_61825795_61826306</td><td>chr11</td><td>61825795</td><td>61826306</td><td>OL13</td><td>FADS</td><td>GATA1</td><td>NA</td><td> NA</td><td>         NA</td><td>NA        </td><td>0</td></tr>\n",
       "</tbody>\n",
       "</table>\n"
      ],
      "text/latex": [
       "A tibble: 6 × 12\n",
       "\\begin{tabular}{llllllllllll}\n",
       " Peak & Chrom & Start & End & Dataset & Region & Name & Count & Total & Freq & Type & Score\\\\\n",
       " <chr> & <chr> & <dbl> & <dbl> & <chr> & <chr> & <chr> & <dbl> & <dbl> & <dbl> & <chr> & <chr>\\\\\n",
       "\\hline\n",
       "\t chr11\\_61792068\\_61793464 & chr11 & 61792068 & 61793464 & OL13 & FADS & GATA1 &  1 & 207 & 0.004830918 & TF-Binding & 1\\\\\n",
       "\t chr11\\_61800085\\_61801113 & chr11 & 61800085 & 61801113 & OL13 & FADS & GATA1 &  1 & 118 & 0.008474576 & TF-Binding & 1\\\\\n",
       "\t chr11\\_61806630\\_61807154 & chr11 & 61806630 & 61807154 & OL13 & FADS & GATA1 & NA &  NA &          NA & NA         & 0\\\\\n",
       "\t chr11\\_61814735\\_61817343 & chr11 & 61814735 & 61817343 & OL13 & FADS & GATA1 &  2 & 472 & 0.004237288 & TF-Binding & 1\\\\\n",
       "\t chr11\\_61822094\\_61822443 & chr11 & 61822094 & 61822443 & OL13 & FADS & GATA1 & NA &  NA &          NA & NA         & 0\\\\\n",
       "\t chr11\\_61825795\\_61826306 & chr11 & 61825795 & 61826306 & OL13 & FADS & GATA1 & NA &  NA &          NA & NA         & 0\\\\\n",
       "\\end{tabular}\n"
      ],
      "text/markdown": [
       "\n",
       "A tibble: 6 × 12\n",
       "\n",
       "| Peak &lt;chr&gt; | Chrom &lt;chr&gt; | Start &lt;dbl&gt; | End &lt;dbl&gt; | Dataset &lt;chr&gt; | Region &lt;chr&gt; | Name &lt;chr&gt; | Count &lt;dbl&gt; | Total &lt;dbl&gt; | Freq &lt;dbl&gt; | Type &lt;chr&gt; | Score &lt;chr&gt; |\n",
       "|---|---|---|---|---|---|---|---|---|---|---|---|\n",
       "| chr11_61792068_61793464 | chr11 | 61792068 | 61793464 | OL13 | FADS | GATA1 |  1 | 207 | 0.004830918 | TF-Binding | 1 |\n",
       "| chr11_61800085_61801113 | chr11 | 61800085 | 61801113 | OL13 | FADS | GATA1 |  1 | 118 | 0.008474576 | TF-Binding | 1 |\n",
       "| chr11_61806630_61807154 | chr11 | 61806630 | 61807154 | OL13 | FADS | GATA1 | NA |  NA |          NA | NA         | 0 |\n",
       "| chr11_61814735_61817343 | chr11 | 61814735 | 61817343 | OL13 | FADS | GATA1 |  2 | 472 | 0.004237288 | TF-Binding | 1 |\n",
       "| chr11_61822094_61822443 | chr11 | 61822094 | 61822443 | OL13 | FADS | GATA1 | NA |  NA |          NA | NA         | 0 |\n",
       "| chr11_61825795_61826306 | chr11 | 61825795 | 61826306 | OL13 | FADS | GATA1 | NA |  NA |          NA | NA         | 0 |\n",
       "\n"
      ],
      "text/plain": [
       "  Peak                    Chrom Start    End      Dataset Region Name  Count\n",
       "1 chr11_61792068_61793464 chr11 61792068 61793464 OL13    FADS   GATA1  1   \n",
       "2 chr11_61800085_61801113 chr11 61800085 61801113 OL13    FADS   GATA1  1   \n",
       "3 chr11_61806630_61807154 chr11 61806630 61807154 OL13    FADS   GATA1 NA   \n",
       "4 chr11_61814735_61817343 chr11 61814735 61817343 OL13    FADS   GATA1  2   \n",
       "5 chr11_61822094_61822443 chr11 61822094 61822443 OL13    FADS   GATA1 NA   \n",
       "6 chr11_61825795_61826306 chr11 61825795 61826306 OL13    FADS   GATA1 NA   \n",
       "  Total Freq        Type       Score\n",
       "1 207   0.004830918 TF-Binding 1    \n",
       "2 118   0.008474576 TF-Binding 1    \n",
       "3  NA            NA NA         0    \n",
       "4 472   0.004237288 TF-Binding 1    \n",
       "5  NA            NA NA         0    \n",
       "6  NA            NA NA         0    "
      ]
     },
     "metadata": {},
     "output_type": "display_data"
    }
   ],
   "source": [
    "dat = dat_peak_count_remap\n",
    "dat = dat %>% dplyr::filter(Name == \"GATA1\")\n",
    "dat = left_join(dat_peak_info, dat, by=c(\"Peak\"))\n",
    "dat = dat %>% dplyr::mutate(\n",
    "    Name  = \"GATA1\",\n",
    "    Score = ifelse(is.na(Count), \"0\", \"1\"))\n",
    "head(dat)"
   ]
  },
  {
   "cell_type": "code",
   "execution_count": 33,
   "metadata": {},
   "outputs": [
    {
     "data": {
      "image/png": "[encoded data removed]",
      "text/plain": [
       "plot without title"
      ]
     },
     "metadata": {
      "image/png": {
       "height": 120,
       "width": 900
      }
     },
     "output_type": "display_data"
    }
   ],
   "source": [
    "gpt = ggplot(dat, aes(x=Peak, y=Name, fill=Score)) +\n",
    "        geom_tile() +\n",
    "        scale_fill_manual(values = c(\"1\" = \"black\", \"0\" = \"white\")) +\n",
    "        labs(x=\"\", y=\"\") +\n",
    "        theme_cowplot() +\n",
    "        theme(axis.text.x = element_blank(),\n",
    "              axis.text.y = element_text(size=30),\n",
    "              axis.ticks.x = element_blank(),\n",
    "              legend.position = \"bottom\",\n",
    "              legend.key.size = unit(1, 'cm'),\n",
    "              legend.title = element_text(size=20),\n",
    "              legend.text = element_text(size=20))\n",
    "\n",
    "options(repr.plot.height=2, repr.plot.width=15)\n",
    "print(gpt)"
   ]
  },
  {
   "cell_type": "code",
   "execution_count": 36,
   "metadata": {},
   "outputs": [
    {
     "data": {
      "text/html": [
       "<table class=\"dataframe\">\n",
       "<caption>A tibble: 6 × 7</caption>\n",
       "<thead>\n",
       "\t<tr><th scope=col>Peak</th><th scope=col>Chrom</th><th scope=col>Start</th><th scope=col>End</th><th scope=col>Dataset</th><th scope=col>Region</th><th scope=col>GATA1</th></tr>\n",
       "\t<tr><th scope=col>&lt;chr&gt;</th><th scope=col>&lt;chr&gt;</th><th scope=col>&lt;dbl&gt;</th><th scope=col>&lt;dbl&gt;</th><th scope=col>&lt;chr&gt;</th><th scope=col>&lt;chr&gt;</th><th scope=col>&lt;dbl&gt;</th></tr>\n",
       "</thead>\n",
       "<tbody>\n",
       "\t<tr><td>chr11_61792068_61793464</td><td>chr11</td><td>61792068</td><td>61793464</td><td>OL13</td><td>FADS</td><td>0</td></tr>\n",
       "\t<tr><td>chr11_61800085_61801113</td><td>chr11</td><td>61800085</td><td>61801113</td><td>OL13</td><td>FADS</td><td>0</td></tr>\n",
       "\t<tr><td>chr11_61806630_61807154</td><td>chr11</td><td>61806630</td><td>61807154</td><td>OL13</td><td>FADS</td><td>0</td></tr>\n",
       "\t<tr><td>chr11_61814735_61817343</td><td>chr11</td><td>61814735</td><td>61817343</td><td>OL13</td><td>FADS</td><td>0</td></tr>\n",
       "\t<tr><td>chr11_61822094_61822443</td><td>chr11</td><td>61822094</td><td>61822443</td><td>OL13</td><td>FADS</td><td>0</td></tr>\n",
       "\t<tr><td>chr11_61825795_61826306</td><td>chr11</td><td>61825795</td><td>61826306</td><td>OL13</td><td>FADS</td><td>0</td></tr>\n",
       "</tbody>\n",
       "</table>\n"
      ],
      "text/latex": [
       "A tibble: 6 × 7\n",
       "\\begin{tabular}{lllllll}\n",
       " Peak & Chrom & Start & End & Dataset & Region & GATA1\\\\\n",
       " <chr> & <chr> & <dbl> & <dbl> & <chr> & <chr> & <dbl>\\\\\n",
       "\\hline\n",
       "\t chr11\\_61792068\\_61793464 & chr11 & 61792068 & 61793464 & OL13 & FADS & 0\\\\\n",
       "\t chr11\\_61800085\\_61801113 & chr11 & 61800085 & 61801113 & OL13 & FADS & 0\\\\\n",
       "\t chr11\\_61806630\\_61807154 & chr11 & 61806630 & 61807154 & OL13 & FADS & 0\\\\\n",
       "\t chr11\\_61814735\\_61817343 & chr11 & 61814735 & 61817343 & OL13 & FADS & 0\\\\\n",
       "\t chr11\\_61822094\\_61822443 & chr11 & 61822094 & 61822443 & OL13 & FADS & 0\\\\\n",
       "\t chr11\\_61825795\\_61826306 & chr11 & 61825795 & 61826306 & OL13 & FADS & 0\\\\\n",
       "\\end{tabular}\n"
      ],
      "text/markdown": [
       "\n",
       "A tibble: 6 × 7\n",
       "\n",
       "| Peak &lt;chr&gt; | Chrom &lt;chr&gt; | Start &lt;dbl&gt; | End &lt;dbl&gt; | Dataset &lt;chr&gt; | Region &lt;chr&gt; | GATA1 &lt;dbl&gt; |\n",
       "|---|---|---|---|---|---|---|\n",
       "| chr11_61792068_61793464 | chr11 | 61792068 | 61793464 | OL13 | FADS | 0 |\n",
       "| chr11_61800085_61801113 | chr11 | 61800085 | 61801113 | OL13 | FADS | 0 |\n",
       "| chr11_61806630_61807154 | chr11 | 61806630 | 61807154 | OL13 | FADS | 0 |\n",
       "| chr11_61814735_61817343 | chr11 | 61814735 | 61817343 | OL13 | FADS | 0 |\n",
       "| chr11_61822094_61822443 | chr11 | 61822094 | 61822443 | OL13 | FADS | 0 |\n",
       "| chr11_61825795_61826306 | chr11 | 61825795 | 61826306 | OL13 | FADS | 0 |\n",
       "\n"
      ],
      "text/plain": [
       "  Peak                    Chrom Start    End      Dataset Region GATA1\n",
       "1 chr11_61792068_61793464 chr11 61792068 61793464 OL13    FADS   0    \n",
       "2 chr11_61800085_61801113 chr11 61800085 61801113 OL13    FADS   0    \n",
       "3 chr11_61806630_61807154 chr11 61806630 61807154 OL13    FADS   0    \n",
       "4 chr11_61814735_61817343 chr11 61814735 61817343 OL13    FADS   0    \n",
       "5 chr11_61822094_61822443 chr11 61822094 61822443 OL13    FADS   0    \n",
       "6 chr11_61825795_61826306 chr11 61825795 61826306 OL13    FADS   0    "
      ]
     },
     "metadata": {},
     "output_type": "display_data"
    }
   ],
   "source": [
    "dat  = dat_crispr\n",
    "dat  = dat %>% dplyr::select(Peak, GATA1)\n",
    "dat = left_join(dat_peak_info, dat, by=c(\"Peak\"))\n",
    "head(dat)"
   ]
  },
  {
   "cell_type": "code",
   "execution_count": null,
   "metadata": {},
   "outputs": [],
   "source": [
    " scale_colour_gradientn"
   ]
  },
  {
   "cell_type": "code",
   "execution_count": 9,
   "metadata": {},
   "outputs": [],
   "source": [
    "lst = list(\n",
    "    \"ASTARR\" = dat_ranknorm_astarr,\n",
    "    \"WSTARR\" = dat_ranknorm_wstarr,\n",
    "    \"TMPRA\"  = dat_ranknorm_tmpra\n",
    ")\n",
    "\n",
    "lst = lapply(lst, function(dat){\n",
    "    dat = inner_join(dat_peak_info, dat, by=c(\"Peak\", \"Region\", \"Dataset\"))\n",
    "})\n",
    "\n",
    "lst_dat_ranknorm = lst"
   ]
  },
  {
   "cell_type": "code",
   "execution_count": 51,
   "metadata": {},
   "outputs": [
    {
     "name": "stdout",
     "output_type": "stream",
     "text": [
      "[1] 1451    7\n"
     ]
    },
    {
     "data": {
      "text/html": [
       "<table class=\"dataframe\">\n",
       "<caption>A rowwise_df: 6 × 7</caption>\n",
       "<thead>\n",
       "\t<tr><th scope=col>Peak</th><th scope=col>Region</th><th scope=col>ASTARR</th><th scope=col>TMPRA</th><th scope=col>WSTARR</th><th scope=col>Score_mean</th><th scope=col>Score_std</th></tr>\n",
       "\t<tr><th scope=col>&lt;chr&gt;</th><th scope=col>&lt;chr&gt;</th><th scope=col>&lt;dbl&gt;</th><th scope=col>&lt;dbl&gt;</th><th scope=col>&lt;dbl&gt;</th><th scope=col>&lt;dbl&gt;</th><th scope=col>&lt;dbl&gt;</th></tr>\n",
       "</thead>\n",
       "<tbody>\n",
       "\t<tr><td>chr11_32870601_32871324</td><td>LMO2</td><td>0.09876543</td><td>0.2592593</td><td>0.13227513</td><td>0.1634333</td><td>0.08466221</td></tr>\n",
       "\t<tr><td>chr11_32874343_32875070</td><td>LMO2</td><td>0.10758377</td><td>0.4038801</td><td>0.34038801</td><td>0.2839506</td><td>0.15600243</td></tr>\n",
       "\t<tr><td>chr11_32884749_32885822</td><td>LMO2</td><td>0.06701940</td><td>0.6190476</td><td>0.39858907</td><td>0.3615520</td><td>0.27787154</td></tr>\n",
       "\t<tr><td>chr11_32892099_32894437</td><td>LMO2</td><td>0.54850088</td><td>0.7936508</td><td>0.90652557</td><td>0.7495591</td><td>0.18303956</td></tr>\n",
       "\t<tr><td>chr11_32901572_32902485</td><td>LMO2</td><td>0.20458554</td><td>0.2151675</td><td>0.50793651</td><td>0.3092299</td><td>0.17216632</td></tr>\n",
       "\t<tr><td>chr11_32903491_32904506</td><td>LMO2</td><td>0.54144621</td><td>0.2698413</td><td>0.04056437</td><td>0.2839506</td><td>0.25073882</td></tr>\n",
       "</tbody>\n",
       "</table>\n"
      ],
      "text/latex": [
       "A rowwise\\_df: 6 × 7\n",
       "\\begin{tabular}{lllllll}\n",
       " Peak & Region & ASTARR & TMPRA & WSTARR & Score\\_mean & Score\\_std\\\\\n",
       " <chr> & <chr> & <dbl> & <dbl> & <dbl> & <dbl> & <dbl>\\\\\n",
       "\\hline\n",
       "\t chr11\\_32870601\\_32871324 & LMO2 & 0.09876543 & 0.2592593 & 0.13227513 & 0.1634333 & 0.08466221\\\\\n",
       "\t chr11\\_32874343\\_32875070 & LMO2 & 0.10758377 & 0.4038801 & 0.34038801 & 0.2839506 & 0.15600243\\\\\n",
       "\t chr11\\_32884749\\_32885822 & LMO2 & 0.06701940 & 0.6190476 & 0.39858907 & 0.3615520 & 0.27787154\\\\\n",
       "\t chr11\\_32892099\\_32894437 & LMO2 & 0.54850088 & 0.7936508 & 0.90652557 & 0.7495591 & 0.18303956\\\\\n",
       "\t chr11\\_32901572\\_32902485 & LMO2 & 0.20458554 & 0.2151675 & 0.50793651 & 0.3092299 & 0.17216632\\\\\n",
       "\t chr11\\_32903491\\_32904506 & LMO2 & 0.54144621 & 0.2698413 & 0.04056437 & 0.2839506 & 0.25073882\\\\\n",
       "\\end{tabular}\n"
      ],
      "text/markdown": [
       "\n",
       "A rowwise_df: 6 × 7\n",
       "\n",
       "| Peak &lt;chr&gt; | Region &lt;chr&gt; | ASTARR &lt;dbl&gt; | TMPRA &lt;dbl&gt; | WSTARR &lt;dbl&gt; | Score_mean &lt;dbl&gt; | Score_std &lt;dbl&gt; |\n",
       "|---|---|---|---|---|---|---|\n",
       "| chr11_32870601_32871324 | LMO2 | 0.09876543 | 0.2592593 | 0.13227513 | 0.1634333 | 0.08466221 |\n",
       "| chr11_32874343_32875070 | LMO2 | 0.10758377 | 0.4038801 | 0.34038801 | 0.2839506 | 0.15600243 |\n",
       "| chr11_32884749_32885822 | LMO2 | 0.06701940 | 0.6190476 | 0.39858907 | 0.3615520 | 0.27787154 |\n",
       "| chr11_32892099_32894437 | LMO2 | 0.54850088 | 0.7936508 | 0.90652557 | 0.7495591 | 0.18303956 |\n",
       "| chr11_32901572_32902485 | LMO2 | 0.20458554 | 0.2151675 | 0.50793651 | 0.3092299 | 0.17216632 |\n",
       "| chr11_32903491_32904506 | LMO2 | 0.54144621 | 0.2698413 | 0.04056437 | 0.2839506 | 0.25073882 |\n",
       "\n"
      ],
      "text/plain": [
       "  Peak                    Region ASTARR     TMPRA     WSTARR     Score_mean\n",
       "1 chr11_32870601_32871324 LMO2   0.09876543 0.2592593 0.13227513 0.1634333 \n",
       "2 chr11_32874343_32875070 LMO2   0.10758377 0.4038801 0.34038801 0.2839506 \n",
       "3 chr11_32884749_32885822 LMO2   0.06701940 0.6190476 0.39858907 0.3615520 \n",
       "4 chr11_32892099_32894437 LMO2   0.54850088 0.7936508 0.90652557 0.7495591 \n",
       "5 chr11_32901572_32902485 LMO2   0.20458554 0.2151675 0.50793651 0.3092299 \n",
       "6 chr11_32903491_32904506 LMO2   0.54144621 0.2698413 0.04056437 0.2839506 \n",
       "  Score_std \n",
       "1 0.08466221\n",
       "2 0.15600243\n",
       "3 0.27787154\n",
       "4 0.18303956\n",
       "5 0.17216632\n",
       "6 0.25073882"
      ]
     },
     "metadata": {},
     "output_type": "display_data"
    }
   ],
   "source": [
    "lst = lst_dat\n",
    "dat = bind_rows(lst, .id = \"Assay\")\n",
    "\n",
    "dat = dat %>% \n",
    "    dplyr::select(Assay, Peak, Region, RankNorm_Region) %>%\n",
    "    tidyr::spread(Assay, RankNorm_Region)\n",
    "\n",
    "dat = dat %>%\n",
    "    dplyr::rowwise() %>%\n",
    "    dplyr::mutate(\n",
    "        Score_mean = mean(c(ASTARR, TMPRA, WSTARR)),\n",
    "        Score_std  = sd(  c(ASTARR, TMPRA, WSTARR)))\n",
    "\n",
    "dat_ranknorm = dat\n",
    "print(dim(dat))\n",
    "head(dat)"
   ]
  },
  {
   "cell_type": "markdown",
   "metadata": {},
   "source": [
    "## GATA1"
   ]
  },
  {
   "cell_type": "code",
   "execution_count": 54,
   "metadata": {},
   "outputs": [],
   "source": [
    "dat  = dat_ranknorm\n",
    "dat  = dat %>% dplyr::filter(Region == \"GATA1\")\n",
    "dat1 = dat\n",
    "\n",
    "dat  = dat_crispr\n",
    "dat  = dat %>% dplyr::select(Peak, GATA1)\n",
    "dat2 = dat\n",
    "\n",
    "dat = left_join(dat1, dat2, by=\"Peak\") %>% \n",
    "    dplyr::mutate(GATA1 = ifelse(is.na(GATA1), 0, GATA1))\n",
    "\n",
    "dat_annot_mean   = dat %>% dplyr::select(Peak, Score_mean)\n",
    "dat_annot_crispr = dat %>% dplyr::select(Peak, GATA1)\n",
    "dat_value        = dat %>% \n",
    "    dplyr::select(Peak, ASTARR, TMPRA, WSTARR) %>% \n",
    "    tidyr::gather(Assay, Value, -Peak)"
   ]
  },
  {
   "cell_type": "code",
   "execution_count": 71,
   "metadata": {},
   "outputs": [],
   "source": [
    "dat = dat_annot_mean %>% dplyr::arrange(Score_mean)\n",
    "peaks = dat$Peak"
   ]
  },
  {
   "cell_type": "code",
   "execution_count": 89,
   "metadata": {},
   "outputs": [],
   "source": [
    "theme_fill = scale_fill_gradient2(\n",
    "    low  = \"#4575b4\",\n",
    "    mid  = \"#ffffbf\",\n",
    "    high = \"#d73027\",\n",
    "    midpoint = 0.5\n",
    ")\n",
    "\n",
    "theme_text = theme(\n",
    "    axis.ticks.y = element_blank(),\n",
    "    axis.text.y  = element_blank()\n",
    ")\n",
    "\n",
    "###\n",
    "dat = dat_value\n",
    "dat = dat %>% dplyr::mutate(Peak = factor(Peak, levels = peaks))\n",
    "\n",
    "gp1 = ggplot(dat, aes(x=Assay, y=Peak, fill=Value)) +\n",
    "    geom_tile() +\n",
    "    theme_cowplot() + \n",
    "    theme_text +\n",
    "    theme_fill\n",
    "\n",
    "###\n",
    "dat = dat_annot_mean\n",
    "dat = dat %>% dplyr::mutate(Peak = factor(Peak, levels = peaks))\n",
    "\n",
    "gp2 = ggplot(dat, aes(x=Score_mean, y=Peak)) +\n",
    "    geom_col() +\n",
    "    theme_cowplot() + \n",
    "    theme_text\n",
    "\n",
    "###\n",
    "dat = dat_annot_crispr\n",
    "dat = dat %>% dplyr::mutate(Peak = factor(Peak, levels = peaks))\n",
    "\n",
    "gp3 = ggplot(dat, aes(x=GATA1, y=Peak)) +\n",
    "    geom_col() +\n",
    "    theme_cowplot() + \n",
    "    theme_text"
   ]
  },
  {
   "cell_type": "code",
   "execution_count": 91,
   "metadata": {},
   "outputs": [
    {
     "data": {
      "image/png": "[encoded data removed]",
      "text/plain": [
       "plot without title"
      ]
     },
     "metadata": {
      "image/png": {
       "height": 600,
       "width": 360
      }
     },
     "output_type": "display_data"
    }
   ],
   "source": [
    "options(repr.plot.height=10, repr.plot.width=6)\n",
    "plot_grid(gp1, gp2, gp3, nrow=1, align=\"h\", rel_widths=c(2, 1, 1))"
   ]
  },
  {
   "cell_type": "code",
   "execution_count": 49,
   "metadata": {},
   "outputs": [
    {
     "data": {
      "text/html": [
       "<table class=\"dataframe\">\n",
       "<caption>A rowwise_df: 6 × 7</caption>\n",
       "<thead>\n",
       "\t<tr><th scope=col>Peak</th><th scope=col>Region</th><th scope=col>ASTARR</th><th scope=col>TMPRA</th><th scope=col>WSTARR</th><th scope=col>Score_mean</th><th scope=col>Score_std</th></tr>\n",
       "\t<tr><th scope=col>&lt;chr&gt;</th><th scope=col>&lt;chr&gt;</th><th scope=col>&lt;dbl&gt;</th><th scope=col>&lt;dbl&gt;</th><th scope=col>&lt;dbl&gt;</th><th scope=col>&lt;dbl&gt;</th><th scope=col>&lt;dbl&gt;</th></tr>\n",
       "</thead>\n",
       "<tbody>\n",
       "\t<tr><td>chr11_32870601_32871324</td><td>LMO2</td><td>0.09876543</td><td>0.2592593</td><td>0.13227513</td><td>0.1634333</td><td>0.08466221</td></tr>\n",
       "\t<tr><td>chr11_32874343_32875070</td><td>LMO2</td><td>0.10758377</td><td>0.4038801</td><td>0.34038801</td><td>0.2839506</td><td>0.15600243</td></tr>\n",
       "\t<tr><td>chr11_32884749_32885822</td><td>LMO2</td><td>0.06701940</td><td>0.6190476</td><td>0.39858907</td><td>0.3615520</td><td>0.27787154</td></tr>\n",
       "\t<tr><td>chr11_32892099_32894437</td><td>LMO2</td><td>0.54850088</td><td>0.7936508</td><td>0.90652557</td><td>0.7495591</td><td>0.18303956</td></tr>\n",
       "\t<tr><td>chr11_32901572_32902485</td><td>LMO2</td><td>0.20458554</td><td>0.2151675</td><td>0.50793651</td><td>0.3092299</td><td>0.17216632</td></tr>\n",
       "\t<tr><td>chr11_32903491_32904506</td><td>LMO2</td><td>0.54144621</td><td>0.2698413</td><td>0.04056437</td><td>0.2839506</td><td>0.25073882</td></tr>\n",
       "</tbody>\n",
       "</table>\n"
      ],
      "text/latex": [
       "A rowwise\\_df: 6 × 7\n",
       "\\begin{tabular}{lllllll}\n",
       " Peak & Region & ASTARR & TMPRA & WSTARR & Score\\_mean & Score\\_std\\\\\n",
       " <chr> & <chr> & <dbl> & <dbl> & <dbl> & <dbl> & <dbl>\\\\\n",
       "\\hline\n",
       "\t chr11\\_32870601\\_32871324 & LMO2 & 0.09876543 & 0.2592593 & 0.13227513 & 0.1634333 & 0.08466221\\\\\n",
       "\t chr11\\_32874343\\_32875070 & LMO2 & 0.10758377 & 0.4038801 & 0.34038801 & 0.2839506 & 0.15600243\\\\\n",
       "\t chr11\\_32884749\\_32885822 & LMO2 & 0.06701940 & 0.6190476 & 0.39858907 & 0.3615520 & 0.27787154\\\\\n",
       "\t chr11\\_32892099\\_32894437 & LMO2 & 0.54850088 & 0.7936508 & 0.90652557 & 0.7495591 & 0.18303956\\\\\n",
       "\t chr11\\_32901572\\_32902485 & LMO2 & 0.20458554 & 0.2151675 & 0.50793651 & 0.3092299 & 0.17216632\\\\\n",
       "\t chr11\\_32903491\\_32904506 & LMO2 & 0.54144621 & 0.2698413 & 0.04056437 & 0.2839506 & 0.25073882\\\\\n",
       "\\end{tabular}\n"
      ],
      "text/markdown": [
       "\n",
       "A rowwise_df: 6 × 7\n",
       "\n",
       "| Peak &lt;chr&gt; | Region &lt;chr&gt; | ASTARR &lt;dbl&gt; | TMPRA &lt;dbl&gt; | WSTARR &lt;dbl&gt; | Score_mean &lt;dbl&gt; | Score_std &lt;dbl&gt; |\n",
       "|---|---|---|---|---|---|---|\n",
       "| chr11_32870601_32871324 | LMO2 | 0.09876543 | 0.2592593 | 0.13227513 | 0.1634333 | 0.08466221 |\n",
       "| chr11_32874343_32875070 | LMO2 | 0.10758377 | 0.4038801 | 0.34038801 | 0.2839506 | 0.15600243 |\n",
       "| chr11_32884749_32885822 | LMO2 | 0.06701940 | 0.6190476 | 0.39858907 | 0.3615520 | 0.27787154 |\n",
       "| chr11_32892099_32894437 | LMO2 | 0.54850088 | 0.7936508 | 0.90652557 | 0.7495591 | 0.18303956 |\n",
       "| chr11_32901572_32902485 | LMO2 | 0.20458554 | 0.2151675 | 0.50793651 | 0.3092299 | 0.17216632 |\n",
       "| chr11_32903491_32904506 | LMO2 | 0.54144621 | 0.2698413 | 0.04056437 | 0.2839506 | 0.25073882 |\n",
       "\n"
      ],
      "text/plain": [
       "  Peak                    Region ASTARR     TMPRA     WSTARR     Score_mean\n",
       "1 chr11_32870601_32871324 LMO2   0.09876543 0.2592593 0.13227513 0.1634333 \n",
       "2 chr11_32874343_32875070 LMO2   0.10758377 0.4038801 0.34038801 0.2839506 \n",
       "3 chr11_32884749_32885822 LMO2   0.06701940 0.6190476 0.39858907 0.3615520 \n",
       "4 chr11_32892099_32894437 LMO2   0.54850088 0.7936508 0.90652557 0.7495591 \n",
       "5 chr11_32901572_32902485 LMO2   0.20458554 0.2151675 0.50793651 0.3092299 \n",
       "6 chr11_32903491_32904506 LMO2   0.54144621 0.2698413 0.04056437 0.2839506 \n",
       "  Score_std \n",
       "1 0.08466221\n",
       "2 0.15600243\n",
       "3 0.27787154\n",
       "4 0.18303956\n",
       "5 0.17216632\n",
       "6 0.25073882"
      ]
     },
     "metadata": {},
     "output_type": "display_data"
    }
   ],
   "source": [
    "dat = dat_ranknorm\n",
    "dat = dat %>%\n",
    "    dplyr::rowwise() %>%\n",
    "    dplyr::mutate(\n",
    "        Score_mean = mean(c(ASTARR, TMPRA, WSTARR)),\n",
    "        Score_std  = sd(  c(ASTARR, TMPRA, WSTARR)))\n",
    "\n",
    "head(dat)"
   ]
  },
  {
   "cell_type": "code",
   "execution_count": 46,
   "metadata": {},
   "outputs": [
    {
     "name": "stdout",
     "output_type": "stream",
     "text": [
      "[1] 110   6\n"
     ]
    },
    {
     "data": {
      "text/html": [
       "<table class=\"dataframe\">\n",
       "<caption>A tibble: 6 × 6</caption>\n",
       "<thead>\n",
       "\t<tr><th scope=col>Peak</th><th scope=col>Region</th><th scope=col>ASTARR</th><th scope=col>TMPRA</th><th scope=col>WSTARR</th><th scope=col>GATA1</th></tr>\n",
       "\t<tr><th scope=col>&lt;chr&gt;</th><th scope=col>&lt;chr&gt;</th><th scope=col>&lt;dbl&gt;</th><th scope=col>&lt;dbl&gt;</th><th scope=col>&lt;dbl&gt;</th><th scope=col>&lt;dbl&gt;</th></tr>\n",
       "</thead>\n",
       "<tbody>\n",
       "\t<tr><td>chrX_48429481_48430647</td><td>GATA1</td><td>0.7233010</td><td>0.6019417</td><td>0.6165049</td><td>-0.01366071</td></tr>\n",
       "\t<tr><td>chrX_48451327_48452465</td><td>GATA1</td><td>0.3495146</td><td>0.2961165</td><td>0.2087379</td><td>-0.16183128</td></tr>\n",
       "\t<tr><td>chrX_48467398_48468803</td><td>GATA1</td><td>0.8689320</td><td>0.5291262</td><td>0.3495146</td><td>-0.05265644</td></tr>\n",
       "\t<tr><td>chrX_48469279_48469634</td><td>GATA1</td><td>0.6844660</td><td>0.5339806</td><td>0.4223301</td><td> 0.01506651</td></tr>\n",
       "\t<tr><td>chrX_48469939_48471006</td><td>GATA1</td><td>0.8106796</td><td>0.8009709</td><td>0.6456311</td><td>-0.11903969</td></tr>\n",
       "\t<tr><td>chrX_48475481_48476600</td><td>GATA1</td><td>0.9611650</td><td>0.9417476</td><td>0.9368932</td><td>-0.09526049</td></tr>\n",
       "</tbody>\n",
       "</table>\n"
      ],
      "text/latex": [
       "A tibble: 6 × 6\n",
       "\\begin{tabular}{llllll}\n",
       " Peak & Region & ASTARR & TMPRA & WSTARR & GATA1\\\\\n",
       " <chr> & <chr> & <dbl> & <dbl> & <dbl> & <dbl>\\\\\n",
       "\\hline\n",
       "\t chrX\\_48429481\\_48430647 & GATA1 & 0.7233010 & 0.6019417 & 0.6165049 & -0.01366071\\\\\n",
       "\t chrX\\_48451327\\_48452465 & GATA1 & 0.3495146 & 0.2961165 & 0.2087379 & -0.16183128\\\\\n",
       "\t chrX\\_48467398\\_48468803 & GATA1 & 0.8689320 & 0.5291262 & 0.3495146 & -0.05265644\\\\\n",
       "\t chrX\\_48469279\\_48469634 & GATA1 & 0.6844660 & 0.5339806 & 0.4223301 &  0.01506651\\\\\n",
       "\t chrX\\_48469939\\_48471006 & GATA1 & 0.8106796 & 0.8009709 & 0.6456311 & -0.11903969\\\\\n",
       "\t chrX\\_48475481\\_48476600 & GATA1 & 0.9611650 & 0.9417476 & 0.9368932 & -0.09526049\\\\\n",
       "\\end{tabular}\n"
      ],
      "text/markdown": [
       "\n",
       "A tibble: 6 × 6\n",
       "\n",
       "| Peak &lt;chr&gt; | Region &lt;chr&gt; | ASTARR &lt;dbl&gt; | TMPRA &lt;dbl&gt; | WSTARR &lt;dbl&gt; | GATA1 &lt;dbl&gt; |\n",
       "|---|---|---|---|---|---|\n",
       "| chrX_48429481_48430647 | GATA1 | 0.7233010 | 0.6019417 | 0.6165049 | -0.01366071 |\n",
       "| chrX_48451327_48452465 | GATA1 | 0.3495146 | 0.2961165 | 0.2087379 | -0.16183128 |\n",
       "| chrX_48467398_48468803 | GATA1 | 0.8689320 | 0.5291262 | 0.3495146 | -0.05265644 |\n",
       "| chrX_48469279_48469634 | GATA1 | 0.6844660 | 0.5339806 | 0.4223301 |  0.01506651 |\n",
       "| chrX_48469939_48471006 | GATA1 | 0.8106796 | 0.8009709 | 0.6456311 | -0.11903969 |\n",
       "| chrX_48475481_48476600 | GATA1 | 0.9611650 | 0.9417476 | 0.9368932 | -0.09526049 |\n",
       "\n"
      ],
      "text/plain": [
       "  Peak                   Region ASTARR    TMPRA     WSTARR    GATA1      \n",
       "1 chrX_48429481_48430647 GATA1  0.7233010 0.6019417 0.6165049 -0.01366071\n",
       "2 chrX_48451327_48452465 GATA1  0.3495146 0.2961165 0.2087379 -0.16183128\n",
       "3 chrX_48467398_48468803 GATA1  0.8689320 0.5291262 0.3495146 -0.05265644\n",
       "4 chrX_48469279_48469634 GATA1  0.6844660 0.5339806 0.4223301  0.01506651\n",
       "5 chrX_48469939_48471006 GATA1  0.8106796 0.8009709 0.6456311 -0.11903969\n",
       "6 chrX_48475481_48476600 GATA1  0.9611650 0.9417476 0.9368932 -0.09526049"
      ]
     },
     "metadata": {},
     "output_type": "display_data"
    }
   ],
   "source": [
    "dat  = dat_ranknorm\n",
    "dat  = dat %>% dplyr::filter(Region == \"GATA1\")\n",
    "dat1 = dat\n",
    "\n",
    "dat  = dat_crispr\n",
    "dat  = dat %>% dplyr::select(Peak, GATA1)\n",
    "dat2 = dat\n",
    "\n",
    "dat = left_join(dat1, dat2, by=\"Peak\") %>% na.omit\n",
    "\n",
    "dat_value = dat %>% \n",
    "    dplyr::select(Peak, ASTARR, WSTARR, TMPRA) %>%\n",
    "    column_to_rownames(\"Peak\") \n",
    "dat_annot = dat %>% \n",
    "    dplyr::select(Peak, GATA1) %>%\n",
    "    column_to_rownames(\"Peak\") \n",
    "\n",
    "print(dim(dat))\n",
    "head(dat)"
   ]
  },
  {
   "cell_type": "code",
   "execution_count": 28,
   "metadata": {},
   "outputs": [
    {
     "data": {
      "text/html": [
       "<style>\n",
       ".list-inline {list-style: none; margin:0; padding: 0}\n",
       ".list-inline>li {display: inline-block}\n",
       ".list-inline>li:not(:last-child)::after {content: \"\\00b7\"; padding: 0 .5ex}\n",
       "</style>\n",
       "<ol class=list-inline><li>-0.3270897407</li><li>4.251005128</li></ol>\n"
      ],
      "text/latex": [
       "\\begin{enumerate*}\n",
       "\\item -0.3270897407\n",
       "\\item 4.251005128\n",
       "\\end{enumerate*}\n"
      ],
      "text/markdown": [
       "1. -0.3270897407\n",
       "2. 4.251005128\n",
       "\n",
       "\n"
      ],
      "text/plain": [
       "[1] -0.3270897  4.2510051"
      ]
     },
     "metadata": {},
     "output_type": "display_data"
    }
   ],
   "source": [
    "range(dat$GATA1)"
   ]
  },
  {
   "cell_type": "code",
   "execution_count": 27,
   "metadata": {},
   "outputs": [
    {
     "data": {
      "image/png": "[encoded data removed]",
      "text/plain": [
       "plot without title"
      ]
     },
     "metadata": {
      "image/png": {
       "height": 480,
       "width": 360
      }
     },
     "output_type": "display_data"
    }
   ],
   "source": [
    "gpt = ggplot(dat, aes(x=GATA1)) + geom_histogram(bins=50) + theme_cowplot()\n",
    "\n",
    "options(repr.plot.height=8, repr.plot.width=6)\n",
    "print(gpt)"
   ]
  },
  {
   "cell_type": "code",
   "execution_count": 20,
   "metadata": {},
   "outputs": [
    {
     "data": {
      "image/png": "[encoded data removed]",
      "text/plain": [
       "plot without title"
      ]
     },
     "metadata": {
      "image/png": {
       "height": 420,
       "width": 420
      }
     },
     "output_type": "display_data"
    }
   ],
   "source": [
    "num_palette = 50\n",
    "vec_color_value = colorRampPalette(c(\"white\", \"red\"))(num_palette)\n",
    "\n",
    "options(repr.plot.height=8, repr.plot.width=6)\n",
    "pheatmap(dat,\n",
    "         cluster_row   = FALSE,\n",
    "         cluster_cols  = FALSE,\n",
    "         show_rownames = FALSE,\n",
    "         annotation_names_row = FALSE,\n",
    "         annotation_row    = dat_annot,\n",
    "         color=vec_color_value,\n",
    "         fontsize = 15)"
   ]
  },
  {
   "cell_type": "code",
   "execution_count": 44,
   "metadata": {},
   "outputs": [],
   "source": [
    "paletteLength = 50\n",
    "\n",
    "nmin = ceiling((paletteLength-1)/2)\n",
    "nmax = floor(  (paletteLength-1)/2)\n",
    "\n",
    "bmax = 0.\n",
    "bmin = \n",
    "\n",
    "xmin =  0.0 # min(mat)\n",
    "xmid =  0.5\n",
    "xmax =  1.0 # max(mat)\n",
    "\n",
    "cmin = \"#91bfdb\"\n",
    "cmid = \"#ffffbf\"\n",
    "cmax = \"#fc8d59\"\n",
    "\n",
    "myColor = c(\n",
    "    colorRampPalette(c(cmin, cmid))(nmin),\n",
    "    cmid,\n",
    "    colorRampPalette(c(cmid, cmax))(nmax)\n",
    ")\n",
    "\n",
    "myBreaks = c(\n",
    "    seq(xmin, xmid * (1-1/paletteLength), length.out=nmin),\n",
    "    xmid,\n",
    "    seq(xmid * (1+1/paletteLength), xmax, length.out=nmax)\n",
    ")"
   ]
  },
  {
   "cell_type": "code",
   "execution_count": 47,
   "metadata": {},
   "outputs": [
    {
     "data": {
      "image/png": "[encoded data removed]",
      "text/plain": [
       "plot without title"
      ]
     },
     "metadata": {
      "image/png": {
       "height": 600,
       "width": 480
      }
     },
     "output_type": "display_data"
    }
   ],
   "source": [
    "options(repr.plot.height=10, repr.plot.width=8)\n",
    "pheatmap(dat_value,\n",
    "         cluster_row  = TRUE,\n",
    "         cluster_cols = FALSE,\n",
    "         show_rownames = FALSE,\n",
    "         annotation_names_row = FALSE,\n",
    "         color=myColor, \n",
    "         breaks=myBreaks)"
   ]
  },
  {
   "cell_type": "code",
   "execution_count": 36,
   "metadata": {},
   "outputs": [
    {
     "name": "stdout",
     "output_type": "stream",
     "text": [
      "52 51 \n",
      "52 52 \n"
     ]
    }
   ],
   "source": [
    "paletteLength = 50\n",
    "\n",
    "nmin = ceiling((paletteLength-1)/2)\n",
    "nmax = floor(  (paletteLength-1)/2)\n",
    "\n",
    "bmin = -0.40\n",
    "bmax =  4.50\n",
    "xmin = -0.35 # min(mat)\n",
    "xmid =  0\n",
    "xmax =  1.0 # max(mat)\n",
    "\n",
    "cmin = \"#4575b4\"\n",
    "cmid = \"#ffffbf\"\n",
    "cmax = \"#d73027\"\n",
    "\n",
    "myColors = c(\n",
    "    cmin,\n",
    "    colorRampPalette(c(cmin, cmid))(nmin),\n",
    "    cmid,\n",
    "    colorRampPalette(c(cmid, cmax))(nmax),\n",
    "    cmax\n",
    ")\n",
    "\n",
    "myBreaks = c(\n",
    "    bmin,\n",
    "    seq(xmin, (xmid - 1/nmin), length.out=nmin),\n",
    "    xmid,\n",
    "    seq((xmid + 1/nmax), xmax, length.out=nmax),\n",
    "    bmax\n",
    ")\n",
    "\n",
    "cat(length(myColors), length(unique(myColors)), \"\\n\")\n",
    "cat(length(myBreaks), length(unique(myBreaks)), \"\\n\")"
   ]
  },
  {
   "cell_type": "code",
   "execution_count": 30,
   "metadata": {},
   "outputs": [
    {
     "data": {
      "text/html": [
       "<style>\n",
       ".list-inline {list-style: none; margin:0; padding: 0}\n",
       ".list-inline>li {display: inline-block}\n",
       ".list-inline>li:not(:last-child)::after {content: \"\\00b7\"; padding: 0 .5ex}\n",
       "</style>\n",
       "<ol class=list-inline><li>'#4575B4'</li><li>'#4C7AB4'</li><li>'#5480B4'</li><li>'#5C86B5'</li><li>'#648CB5'</li><li>'#6B91B6'</li><li>'#7397B6'</li><li>'#7B9DB7'</li><li>'#83A3B7'</li><li>'#8AA8B8'</li><li>'#92AEB8'</li><li>'#9AB4B9'</li><li>'#A2BAB9'</li><li>'#A9BFB9'</li><li>'#B1C5BA'</li><li>'#B9CBBA'</li><li>'#C1D1BB'</li><li>'#C8D6BB'</li><li>'#D0DCBC'</li><li>'#D8E2BC'</li><li>'#E0E8BD'</li><li>'#E7EDBD'</li><li>'#EFF3BE'</li><li>'#F7F9BE'</li><li>'#FFFFBF'</li><li>'#ffffbf'</li><li>'#FFFFBF'</li><li>'#FDF6B8'</li><li>'#FBEDB1'</li><li>'#F9E4AB'</li><li>'#F8DBA4'</li><li>'#F6D29D'</li><li>'#F4C997'</li><li>'#F2C090'</li><li>'#F1B78A'</li><li>'#EFAE83'</li><li>'#EDA57C'</li><li>'#EB9C76'</li><li>'#EA936F'</li><li>'#E88A69'</li><li>'#E68162'</li><li>'#E4785B'</li><li>'#E36F55'</li><li>'#E1664E'</li><li>'#DF5D48'</li><li>'#DD5341'</li><li>'#DC4B3A'</li><li>'#DA4234'</li><li>'#D8382D'</li><li>'#D73027'</li></ol>\n"
      ],
      "text/latex": [
       "\\begin{enumerate*}\n",
       "\\item '\\#4575B4'\n",
       "\\item '\\#4C7AB4'\n",
       "\\item '\\#5480B4'\n",
       "\\item '\\#5C86B5'\n",
       "\\item '\\#648CB5'\n",
       "\\item '\\#6B91B6'\n",
       "\\item '\\#7397B6'\n",
       "\\item '\\#7B9DB7'\n",
       "\\item '\\#83A3B7'\n",
       "\\item '\\#8AA8B8'\n",
       "\\item '\\#92AEB8'\n",
       "\\item '\\#9AB4B9'\n",
       "\\item '\\#A2BAB9'\n",
       "\\item '\\#A9BFB9'\n",
       "\\item '\\#B1C5BA'\n",
       "\\item '\\#B9CBBA'\n",
       "\\item '\\#C1D1BB'\n",
       "\\item '\\#C8D6BB'\n",
       "\\item '\\#D0DCBC'\n",
       "\\item '\\#D8E2BC'\n",
       "\\item '\\#E0E8BD'\n",
       "\\item '\\#E7EDBD'\n",
       "\\item '\\#EFF3BE'\n",
       "\\item '\\#F7F9BE'\n",
       "\\item '\\#FFFFBF'\n",
       "\\item '\\#ffffbf'\n",
       "\\item '\\#FFFFBF'\n",
       "\\item '\\#FDF6B8'\n",
       "\\item '\\#FBEDB1'\n",
       "\\item '\\#F9E4AB'\n",
       "\\item '\\#F8DBA4'\n",
       "\\item '\\#F6D29D'\n",
       "\\item '\\#F4C997'\n",
       "\\item '\\#F2C090'\n",
       "\\item '\\#F1B78A'\n",
       "\\item '\\#EFAE83'\n",
       "\\item '\\#EDA57C'\n",
       "\\item '\\#EB9C76'\n",
       "\\item '\\#EA936F'\n",
       "\\item '\\#E88A69'\n",
       "\\item '\\#E68162'\n",
       "\\item '\\#E4785B'\n",
       "\\item '\\#E36F55'\n",
       "\\item '\\#E1664E'\n",
       "\\item '\\#DF5D48'\n",
       "\\item '\\#DD5341'\n",
       "\\item '\\#DC4B3A'\n",
       "\\item '\\#DA4234'\n",
       "\\item '\\#D8382D'\n",
       "\\item '\\#D73027'\n",
       "\\end{enumerate*}\n"
      ],
      "text/markdown": [
       "1. '#4575B4'\n",
       "2. '#4C7AB4'\n",
       "3. '#5480B4'\n",
       "4. '#5C86B5'\n",
       "5. '#648CB5'\n",
       "6. '#6B91B6'\n",
       "7. '#7397B6'\n",
       "8. '#7B9DB7'\n",
       "9. '#83A3B7'\n",
       "10. '#8AA8B8'\n",
       "11. '#92AEB8'\n",
       "12. '#9AB4B9'\n",
       "13. '#A2BAB9'\n",
       "14. '#A9BFB9'\n",
       "15. '#B1C5BA'\n",
       "16. '#B9CBBA'\n",
       "17. '#C1D1BB'\n",
       "18. '#C8D6BB'\n",
       "19. '#D0DCBC'\n",
       "20. '#D8E2BC'\n",
       "21. '#E0E8BD'\n",
       "22. '#E7EDBD'\n",
       "23. '#EFF3BE'\n",
       "24. '#F7F9BE'\n",
       "25. '#FFFFBF'\n",
       "26. '#ffffbf'\n",
       "27. '#FFFFBF'\n",
       "28. '#FDF6B8'\n",
       "29. '#FBEDB1'\n",
       "30. '#F9E4AB'\n",
       "31. '#F8DBA4'\n",
       "32. '#F6D29D'\n",
       "33. '#F4C997'\n",
       "34. '#F2C090'\n",
       "35. '#F1B78A'\n",
       "36. '#EFAE83'\n",
       "37. '#EDA57C'\n",
       "38. '#EB9C76'\n",
       "39. '#EA936F'\n",
       "40. '#E88A69'\n",
       "41. '#E68162'\n",
       "42. '#E4785B'\n",
       "43. '#E36F55'\n",
       "44. '#E1664E'\n",
       "45. '#DF5D48'\n",
       "46. '#DD5341'\n",
       "47. '#DC4B3A'\n",
       "48. '#DA4234'\n",
       "49. '#D8382D'\n",
       "50. '#D73027'\n",
       "\n",
       "\n"
      ],
      "text/plain": [
       " [1] \"#4575B4\" \"#4C7AB4\" \"#5480B4\" \"#5C86B5\" \"#648CB5\" \"#6B91B6\" \"#7397B6\"\n",
       " [8] \"#7B9DB7\" \"#83A3B7\" \"#8AA8B8\" \"#92AEB8\" \"#9AB4B9\" \"#A2BAB9\" \"#A9BFB9\"\n",
       "[15] \"#B1C5BA\" \"#B9CBBA\" \"#C1D1BB\" \"#C8D6BB\" \"#D0DCBC\" \"#D8E2BC\" \"#E0E8BD\"\n",
       "[22] \"#E7EDBD\" \"#EFF3BE\" \"#F7F9BE\" \"#FFFFBF\" \"#ffffbf\" \"#FFFFBF\" \"#FDF6B8\"\n",
       "[29] \"#FBEDB1\" \"#F9E4AB\" \"#F8DBA4\" \"#F6D29D\" \"#F4C997\" \"#F2C090\" \"#F1B78A\"\n",
       "[36] \"#EFAE83\" \"#EDA57C\" \"#EB9C76\" \"#EA936F\" \"#E88A69\" \"#E68162\" \"#E4785B\"\n",
       "[43] \"#E36F55\" \"#E1664E\" \"#DF5D48\" \"#DD5341\" \"#DC4B3A\" \"#DA4234\" \"#D8382D\"\n",
       "[50] \"#D73027\""
      ]
     },
     "metadata": {},
     "output_type": "display_data"
    }
   ],
   "source": [
    "myColors"
   ]
  },
  {
   "cell_type": "code",
   "execution_count": 28,
   "metadata": {},
   "outputs": [
    {
     "data": {
      "text/html": [
       "<style>\n",
       ".list-inline {list-style: none; margin:0; padding: 0}\n",
       ".list-inline>li {display: inline-block}\n",
       ".list-inline>li:not(:last-child)::after {content: \"\\00b7\"; padding: 0 .5ex}\n",
       "</style>\n",
       "<ol class=list-inline><li>-0.35</li><li>-0.337083333333333</li><li>-0.324166666666667</li><li>-0.31125</li><li>-0.298333333333333</li><li>-0.285416666666667</li><li>-0.2725</li><li>-0.259583333333333</li><li>-0.246666666666667</li><li>-0.23375</li><li>-0.220833333333333</li><li>-0.207916666666667</li><li>-0.195</li><li>-0.182083333333333</li><li>-0.169166666666667</li><li>-0.15625</li><li>-0.143333333333333</li><li>-0.130416666666667</li><li>-0.1175</li><li>-0.104583333333333</li><li>-0.0916666666666667</li><li>-0.07875</li><li>-0.0658333333333333</li><li>-0.0529166666666667</li><li>-0.04</li><li>0</li><li>0.0416666666666667</li><li>0.235507246376812</li><li>0.429347826086957</li><li>0.623188405797101</li><li>0.817028985507246</li><li>1.01086956521739</li><li>1.20471014492754</li><li>1.39855072463768</li><li>1.59239130434783</li><li>1.78623188405797</li><li>1.98007246376812</li><li>2.17391304347826</li><li>2.36775362318841</li><li>2.56159420289855</li><li>2.7554347826087</li><li>2.94927536231884</li><li>3.14311594202899</li><li>3.33695652173913</li><li>3.53079710144928</li><li>3.72463768115942</li><li>3.91847826086956</li><li>4.11231884057971</li><li>4.30615942028986</li><li>4.5</li></ol>\n"
      ],
      "text/latex": [
       "\\begin{enumerate*}\n",
       "\\item -0.35\n",
       "\\item -0.337083333333333\n",
       "\\item -0.324166666666667\n",
       "\\item -0.31125\n",
       "\\item -0.298333333333333\n",
       "\\item -0.285416666666667\n",
       "\\item -0.2725\n",
       "\\item -0.259583333333333\n",
       "\\item -0.246666666666667\n",
       "\\item -0.23375\n",
       "\\item -0.220833333333333\n",
       "\\item -0.207916666666667\n",
       "\\item -0.195\n",
       "\\item -0.182083333333333\n",
       "\\item -0.169166666666667\n",
       "\\item -0.15625\n",
       "\\item -0.143333333333333\n",
       "\\item -0.130416666666667\n",
       "\\item -0.1175\n",
       "\\item -0.104583333333333\n",
       "\\item -0.0916666666666667\n",
       "\\item -0.07875\n",
       "\\item -0.0658333333333333\n",
       "\\item -0.0529166666666667\n",
       "\\item -0.04\n",
       "\\item 0\n",
       "\\item 0.0416666666666667\n",
       "\\item 0.235507246376812\n",
       "\\item 0.429347826086957\n",
       "\\item 0.623188405797101\n",
       "\\item 0.817028985507246\n",
       "\\item 1.01086956521739\n",
       "\\item 1.20471014492754\n",
       "\\item 1.39855072463768\n",
       "\\item 1.59239130434783\n",
       "\\item 1.78623188405797\n",
       "\\item 1.98007246376812\n",
       "\\item 2.17391304347826\n",
       "\\item 2.36775362318841\n",
       "\\item 2.56159420289855\n",
       "\\item 2.7554347826087\n",
       "\\item 2.94927536231884\n",
       "\\item 3.14311594202899\n",
       "\\item 3.33695652173913\n",
       "\\item 3.53079710144928\n",
       "\\item 3.72463768115942\n",
       "\\item 3.91847826086956\n",
       "\\item 4.11231884057971\n",
       "\\item 4.30615942028986\n",
       "\\item 4.5\n",
       "\\end{enumerate*}\n"
      ],
      "text/markdown": [
       "1. -0.35\n",
       "2. -0.337083333333333\n",
       "3. -0.324166666666667\n",
       "4. -0.31125\n",
       "5. -0.298333333333333\n",
       "6. -0.285416666666667\n",
       "7. -0.2725\n",
       "8. -0.259583333333333\n",
       "9. -0.246666666666667\n",
       "10. -0.23375\n",
       "11. -0.220833333333333\n",
       "12. -0.207916666666667\n",
       "13. -0.195\n",
       "14. -0.182083333333333\n",
       "15. -0.169166666666667\n",
       "16. -0.15625\n",
       "17. -0.143333333333333\n",
       "18. -0.130416666666667\n",
       "19. -0.1175\n",
       "20. -0.104583333333333\n",
       "21. -0.0916666666666667\n",
       "22. -0.07875\n",
       "23. -0.0658333333333333\n",
       "24. -0.0529166666666667\n",
       "25. -0.04\n",
       "26. 0\n",
       "27. 0.0416666666666667\n",
       "28. 0.235507246376812\n",
       "29. 0.429347826086957\n",
       "30. 0.623188405797101\n",
       "31. 0.817028985507246\n",
       "32. 1.01086956521739\n",
       "33. 1.20471014492754\n",
       "34. 1.39855072463768\n",
       "35. 1.59239130434783\n",
       "36. 1.78623188405797\n",
       "37. 1.98007246376812\n",
       "38. 2.17391304347826\n",
       "39. 2.36775362318841\n",
       "40. 2.56159420289855\n",
       "41. 2.7554347826087\n",
       "42. 2.94927536231884\n",
       "43. 3.14311594202899\n",
       "44. 3.33695652173913\n",
       "45. 3.53079710144928\n",
       "46. 3.72463768115942\n",
       "47. 3.91847826086956\n",
       "48. 4.11231884057971\n",
       "49. 4.30615942028986\n",
       "50. 4.5\n",
       "\n",
       "\n"
      ],
      "text/plain": [
       " [1] -0.35000000 -0.33708333 -0.32416667 -0.31125000 -0.29833333 -0.28541667\n",
       " [7] -0.27250000 -0.25958333 -0.24666667 -0.23375000 -0.22083333 -0.20791667\n",
       "[13] -0.19500000 -0.18208333 -0.16916667 -0.15625000 -0.14333333 -0.13041667\n",
       "[19] -0.11750000 -0.10458333 -0.09166667 -0.07875000 -0.06583333 -0.05291667\n",
       "[25] -0.04000000  0.00000000  0.04166667  0.23550725  0.42934783  0.62318841\n",
       "[31]  0.81702899  1.01086957  1.20471014  1.39855072  1.59239130  1.78623188\n",
       "[37]  1.98007246  2.17391304  2.36775362  2.56159420  2.75543478  2.94927536\n",
       "[43]  3.14311594  3.33695652  3.53079710  3.72463768  3.91847826  4.11231884\n",
       "[49]  4.30615942  4.50000000"
      ]
     },
     "metadata": {},
     "output_type": "display_data"
    }
   ],
   "source": [
    "myBreaks"
   ]
  },
  {
   "cell_type": "code",
   "execution_count": 20,
   "metadata": {},
   "outputs": [
    {
     "data": {
      "text/html": [
       "<table class=\"dataframe\">\n",
       "<caption>A tibble: 6 × 8</caption>\n",
       "<thead>\n",
       "\t<tr><th scope=col>Peak</th><th scope=col>Chrom</th><th scope=col>Start</th><th scope=col>End</th><th scope=col>Dataset</th><th scope=col>Region</th><th scope=col>Name</th><th scope=col>Value</th></tr>\n",
       "\t<tr><th scope=col>&lt;chr&gt;</th><th scope=col>&lt;chr&gt;</th><th scope=col>&lt;dbl&gt;</th><th scope=col>&lt;dbl&gt;</th><th scope=col>&lt;chr&gt;</th><th scope=col>&lt;chr&gt;</th><th scope=col>&lt;chr&gt;</th><th scope=col>&lt;dbl&gt;</th></tr>\n",
       "</thead>\n",
       "<tbody>\n",
       "\t<tr><td>chrX_47796208_47796828</td><td>chrX</td><td>47796208</td><td>47796828</td><td>OL43</td><td>GATA1</td><td>NA</td><td>NA</td></tr>\n",
       "\t<tr><td>chrX_47806139_47808167</td><td>chrX</td><td>47806139</td><td>47808167</td><td>OL43</td><td>GATA1</td><td>NA</td><td>NA</td></tr>\n",
       "\t<tr><td>chrX_47809119_47809445</td><td>chrX</td><td>47809119</td><td>47809445</td><td>OL43</td><td>GATA1</td><td>NA</td><td>NA</td></tr>\n",
       "\t<tr><td>chrX_47814810_47815443</td><td>chrX</td><td>47814810</td><td>47815443</td><td>OL43</td><td>GATA1</td><td>NA</td><td>NA</td></tr>\n",
       "\t<tr><td>chrX_47816459_47818070</td><td>chrX</td><td>47816459</td><td>47818070</td><td>OL43</td><td>GATA1</td><td>NA</td><td>NA</td></tr>\n",
       "\t<tr><td>chrX_47836113_47837157</td><td>chrX</td><td>47836113</td><td>47837157</td><td>OL43</td><td>GATA1</td><td>NA</td><td>NA</td></tr>\n",
       "</tbody>\n",
       "</table>\n"
      ],
      "text/latex": [
       "A tibble: 6 × 8\n",
       "\\begin{tabular}{llllllll}\n",
       " Peak & Chrom & Start & End & Dataset & Region & Name & Value\\\\\n",
       " <chr> & <chr> & <dbl> & <dbl> & <chr> & <chr> & <chr> & <dbl>\\\\\n",
       "\\hline\n",
       "\t chrX\\_47796208\\_47796828 & chrX & 47796208 & 47796828 & OL43 & GATA1 & NA & NA\\\\\n",
       "\t chrX\\_47806139\\_47808167 & chrX & 47806139 & 47808167 & OL43 & GATA1 & NA & NA\\\\\n",
       "\t chrX\\_47809119\\_47809445 & chrX & 47809119 & 47809445 & OL43 & GATA1 & NA & NA\\\\\n",
       "\t chrX\\_47814810\\_47815443 & chrX & 47814810 & 47815443 & OL43 & GATA1 & NA & NA\\\\\n",
       "\t chrX\\_47816459\\_47818070 & chrX & 47816459 & 47818070 & OL43 & GATA1 & NA & NA\\\\\n",
       "\t chrX\\_47836113\\_47837157 & chrX & 47836113 & 47837157 & OL43 & GATA1 & NA & NA\\\\\n",
       "\\end{tabular}\n"
      ],
      "text/markdown": [
       "\n",
       "A tibble: 6 × 8\n",
       "\n",
       "| Peak &lt;chr&gt; | Chrom &lt;chr&gt; | Start &lt;dbl&gt; | End &lt;dbl&gt; | Dataset &lt;chr&gt; | Region &lt;chr&gt; | Name &lt;chr&gt; | Value &lt;dbl&gt; |\n",
       "|---|---|---|---|---|---|---|---|\n",
       "| chrX_47796208_47796828 | chrX | 47796208 | 47796828 | OL43 | GATA1 | NA | NA |\n",
       "| chrX_47806139_47808167 | chrX | 47806139 | 47808167 | OL43 | GATA1 | NA | NA |\n",
       "| chrX_47809119_47809445 | chrX | 47809119 | 47809445 | OL43 | GATA1 | NA | NA |\n",
       "| chrX_47814810_47815443 | chrX | 47814810 | 47815443 | OL43 | GATA1 | NA | NA |\n",
       "| chrX_47816459_47818070 | chrX | 47816459 | 47818070 | OL43 | GATA1 | NA | NA |\n",
       "| chrX_47836113_47837157 | chrX | 47836113 | 47837157 | OL43 | GATA1 | NA | NA |\n",
       "\n"
      ],
      "text/plain": [
       "  Peak                   Chrom Start    End      Dataset Region Name Value\n",
       "1 chrX_47796208_47796828 chrX  47796208 47796828 OL43    GATA1  NA   NA   \n",
       "2 chrX_47806139_47808167 chrX  47806139 47808167 OL43    GATA1  NA   NA   \n",
       "3 chrX_47809119_47809445 chrX  47809119 47809445 OL43    GATA1  NA   NA   \n",
       "4 chrX_47814810_47815443 chrX  47814810 47815443 OL43    GATA1  NA   NA   \n",
       "5 chrX_47816459_47818070 chrX  47816459 47818070 OL43    GATA1  NA   NA   \n",
       "6 chrX_47836113_47837157 chrX  47836113 47837157 OL43    GATA1  NA   NA   "
      ]
     },
     "metadata": {},
     "output_type": "display_data"
    }
   ],
   "source": [
    "dat = dat_crispr\n",
    "dat = dat %>% \n",
    "    dplyr::mutate(\n",
    "        Name  = \"GATA1\",\n",
    "        Value = GATA1\n",
    "    ) %>%\n",
    "    dplyr::select(Peak, Name, Value)\n",
    "\n",
    "dat = left_join(dat_peak_info, dat, by=c(\"Peak\")) %>% \n",
    "    dplyr::filter(Region == \"GATA1\")\n",
    "head(dat)"
   ]
  },
  {
   "cell_type": "code",
   "execution_count": 48,
   "metadata": {},
   "outputs": [
    {
     "data": {
      "text/html": [
       "<table class=\"dataframe\">\n",
       "<caption>A tibble: 6 × 7</caption>\n",
       "<thead>\n",
       "\t<tr><th scope=col>Peak</th><th scope=col>Chrom</th><th scope=col>Start</th><th scope=col>End</th><th scope=col>Dataset</th><th scope=col>Region</th><th scope=col>GATA1</th></tr>\n",
       "\t<tr><th scope=col>&lt;chr&gt;</th><th scope=col>&lt;chr&gt;</th><th scope=col>&lt;dbl&gt;</th><th scope=col>&lt;dbl&gt;</th><th scope=col>&lt;chr&gt;</th><th scope=col>&lt;chr&gt;</th><th scope=col>&lt;dbl&gt;</th></tr>\n",
       "</thead>\n",
       "<tbody>\n",
       "\t<tr><td>chrX_47796208_47796828</td><td>chrX</td><td>47796208</td><td>47796828</td><td>OL43</td><td>GATA1</td><td>0</td></tr>\n",
       "\t<tr><td>chrX_47806139_47808167</td><td>chrX</td><td>47806139</td><td>47808167</td><td>OL43</td><td>GATA1</td><td>0</td></tr>\n",
       "\t<tr><td>chrX_47809119_47809445</td><td>chrX</td><td>47809119</td><td>47809445</td><td>OL43</td><td>GATA1</td><td>0</td></tr>\n",
       "\t<tr><td>chrX_47814810_47815443</td><td>chrX</td><td>47814810</td><td>47815443</td><td>OL43</td><td>GATA1</td><td>0</td></tr>\n",
       "\t<tr><td>chrX_47816459_47818070</td><td>chrX</td><td>47816459</td><td>47818070</td><td>OL43</td><td>GATA1</td><td>0</td></tr>\n",
       "\t<tr><td>chrX_47836113_47837157</td><td>chrX</td><td>47836113</td><td>47837157</td><td>OL43</td><td>GATA1</td><td>0</td></tr>\n",
       "</tbody>\n",
       "</table>\n"
      ],
      "text/latex": [
       "A tibble: 6 × 7\n",
       "\\begin{tabular}{lllllll}\n",
       " Peak & Chrom & Start & End & Dataset & Region & GATA1\\\\\n",
       " <chr> & <chr> & <dbl> & <dbl> & <chr> & <chr> & <dbl>\\\\\n",
       "\\hline\n",
       "\t chrX\\_47796208\\_47796828 & chrX & 47796208 & 47796828 & OL43 & GATA1 & 0\\\\\n",
       "\t chrX\\_47806139\\_47808167 & chrX & 47806139 & 47808167 & OL43 & GATA1 & 0\\\\\n",
       "\t chrX\\_47809119\\_47809445 & chrX & 47809119 & 47809445 & OL43 & GATA1 & 0\\\\\n",
       "\t chrX\\_47814810\\_47815443 & chrX & 47814810 & 47815443 & OL43 & GATA1 & 0\\\\\n",
       "\t chrX\\_47816459\\_47818070 & chrX & 47816459 & 47818070 & OL43 & GATA1 & 0\\\\\n",
       "\t chrX\\_47836113\\_47837157 & chrX & 47836113 & 47837157 & OL43 & GATA1 & 0\\\\\n",
       "\\end{tabular}\n"
      ],
      "text/markdown": [
       "\n",
       "A tibble: 6 × 7\n",
       "\n",
       "| Peak &lt;chr&gt; | Chrom &lt;chr&gt; | Start &lt;dbl&gt; | End &lt;dbl&gt; | Dataset &lt;chr&gt; | Region &lt;chr&gt; | GATA1 &lt;dbl&gt; |\n",
       "|---|---|---|---|---|---|---|\n",
       "| chrX_47796208_47796828 | chrX | 47796208 | 47796828 | OL43 | GATA1 | 0 |\n",
       "| chrX_47806139_47808167 | chrX | 47806139 | 47808167 | OL43 | GATA1 | 0 |\n",
       "| chrX_47809119_47809445 | chrX | 47809119 | 47809445 | OL43 | GATA1 | 0 |\n",
       "| chrX_47814810_47815443 | chrX | 47814810 | 47815443 | OL43 | GATA1 | 0 |\n",
       "| chrX_47816459_47818070 | chrX | 47816459 | 47818070 | OL43 | GATA1 | 0 |\n",
       "| chrX_47836113_47837157 | chrX | 47836113 | 47837157 | OL43 | GATA1 | 0 |\n",
       "\n"
      ],
      "text/plain": [
       "  Peak                   Chrom Start    End      Dataset Region GATA1\n",
       "1 chrX_47796208_47796828 chrX  47796208 47796828 OL43    GATA1  0    \n",
       "2 chrX_47806139_47808167 chrX  47806139 47808167 OL43    GATA1  0    \n",
       "3 chrX_47809119_47809445 chrX  47809119 47809445 OL43    GATA1  0    \n",
       "4 chrX_47814810_47815443 chrX  47814810 47815443 OL43    GATA1  0    \n",
       "5 chrX_47816459_47818070 chrX  47816459 47818070 OL43    GATA1  0    \n",
       "6 chrX_47836113_47837157 chrX  47836113 47837157 OL43    GATA1  0    "
      ]
     },
     "metadata": {},
     "output_type": "display_data"
    }
   ],
   "source": [
    "dat  = dat_crispr\n",
    "dat  = dat %>% dplyr::select(Peak, GATA1)\n",
    "dat = left_join(dat_peak_info, dat, by=c(\"Peak\")) %>% \n",
    "    dplyr::filter(Region == \"GATA1\") %>%\n",
    "    dplyr::mutate(GATA1 = ifelse(is.na(GATA1), 0, GATA1))\n",
    "head(dat)"
   ]
  },
  {
   "cell_type": "code",
   "execution_count": 49,
   "metadata": {},
   "outputs": [
    {
     "data": {
      "text/plain": [
       "    Min.  1st Qu.   Median     Mean  3rd Qu.     Max. \n",
       "-0.32709 -0.07167  0.00000  0.01159  0.00000  4.25101 "
      ]
     },
     "metadata": {},
     "output_type": "display_data"
    }
   ],
   "source": [
    "summary(dat$GATA1)"
   ]
  },
  {
   "cell_type": "code",
   "execution_count": 51,
   "metadata": {},
   "outputs": [
    {
     "data": {
      "image/png": "[encoded data removed]",
      "text/plain": [
       "plot without title"
      ]
     },
     "metadata": {
      "image/png": {
       "height": 120,
       "width": 900
      }
     },
     "output_type": "display_data"
    }
   ],
   "source": [
    "gpt = ggplot(dat, aes(x=Peak, y=Region, fill=GATA1)) +\n",
    "        geom_tile() +\n",
    "        scale_fill_gradient2() +\n",
    "        labs(x=\"\", y=\"\") +\n",
    "        theme_cowplot() +\n",
    "        theme(axis.text.x  = element_blank(),\n",
    "              axis.text.y  = element_text(size=30),\n",
    "              axis.ticks.x = element_blank(),\n",
    "              legend.position = \"bottom\",\n",
    "              legend.key.size = unit(1, 'cm'),\n",
    "              legend.title = element_text(size=20),\n",
    "              legend.text  = element_text(size=20))\n",
    "\n",
    "options(repr.plot.height=2, repr.plot.width=15)\n",
    "print(gpt)"
   ]
  },
  {
   "cell_type": "code",
   "execution_count": 68,
   "metadata": {},
   "outputs": [],
   "source": []
  },
  {
   "cell_type": "code",
   "execution_count": 69,
   "metadata": {},
   "outputs": [
    {
     "data": {
      "image/png": "[encoded data removed]",
      "text/plain": [
       "plot without title"
      ]
     },
     "metadata": {
      "image/png": {
       "height": 120,
       "width": 1200
      }
     },
     "output_type": "display_data"
    }
   ],
   "source": [
    "bmin = -0.40\n",
    "bmax =  4.50\n",
    "xmin = -0.35\n",
    "xmid =  0.00\n",
    "xmax =  1.00\n",
    "\n",
    "cmin = \"#74add1\"\n",
    "cmid = \"#ffffbf\"\n",
    "cmax = \"#d73027\"\n",
    "\n",
    "myColors = c(cmin, cmin, cmid, cmax, cmax)\n",
    "myBreaks = c(bmin, xmin, xmid, xmax, bmax)\n",
    "myBreaks = scales::rescale(myBreaks)\n",
    "\n",
    "gpt = ggplot(dat, aes(x=Peak, y=Region, fill=GATA1)) +\n",
    "        geom_tile() +\n",
    "        scale_fill_gradientn(\n",
    "            colours = myColors, \n",
    "            values  = myBreaks) +\n",
    "        labs(x=\"\", y=\"\") +\n",
    "        theme_cowplot() +\n",
    "        theme(axis.text.x  = element_blank(),\n",
    "              axis.text.y  = element_text(size=30),\n",
    "              axis.ticks.x = element_blank(),\n",
    "              legend.position = \"bottom\",\n",
    "              legend.key.size = unit(1, 'cm'),\n",
    "              legend.title = element_text(size=20),\n",
    "              legend.text  = element_text(size=20))\n",
    "\n",
    "options(repr.plot.height=2, repr.plot.width=20)\n",
    "print(gpt)"
   ]
  },
  {
   "cell_type": "code",
   "execution_count": 41,
   "metadata": {},
   "outputs": [
    {
     "data": {
      "image/png": "[encoded data removed]",
      "text/plain": [
       "plot without title"
      ]
     },
     "metadata": {
      "image/png": {
       "height": 300,
       "width": 300
      }
     },
     "output_type": "display_data"
    }
   ],
   "source": [
    "options(repr.plot.height=5, repr.plot.width=5)\n",
    "legend = cowplot::get_legend(gpt)\n",
    "grid.draw(legend)"
   ]
  },
  {
   "cell_type": "code",
   "execution_count": null,
   "metadata": {},
   "outputs": [],
   "source": []
  },
  {
   "cell_type": "code",
   "execution_count": null,
   "metadata": {},
   "outputs": [],
   "source": []
  }
 ],
 "metadata": {
  "kernelspec": {
   "display_name": "R",
   "language": "R",
   "name": "ir"
  },
  "language_info": {
   "codemirror_mode": "r",
   "file_extension": ".r",
   "mimetype": "text/x-r-source",
   "name": "R",
   "pygments_lexer": "r",
   "version": "4.2.2"
  }
 },
 "nbformat": 4,
 "nbformat_minor": 4
}
