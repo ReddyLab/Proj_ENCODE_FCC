{
 "cells": [
  {
   "cell_type": "code",
   "execution_count": 1,
   "metadata": {},
   "outputs": [
    {
     "name": "stdout",
     "output_type": "stream",
     "text": [
      "You are in Singularity: singularity_proj_combeffect \n",
      "BASE DIRECTORY:     /data/reddylab/Kuei \n",
      "WORK DIRECTORY:     /data/reddylab/Kuei/out \n",
      "CODE DIRECTORY:     /data/reddylab/Kuei/code \n",
      "PATH OF SOURCE:     /data/reddylab/Kuei/source \n",
      "PATH OF EXECUTABLE: /data/reddylab/Kuei/bin \n",
      "PATH OF ANNOTATION: /data/reddylab/Kuei/annotation \n",
      "PATH OF PROJECT:    /data/reddylab/Kuei/code/Proj_CombEffect_ENCODE_FCC \n",
      "PATH OF RESULTS:    /data/reddylab/Kuei/out/proj_combeffect_encode_fcc \n"
     ]
    }
   ],
   "source": [
    "suppressMessages(suppressWarnings(source(\"../config/config_sing.R\")))\n",
    "suppressMessages(suppressWarnings(library(pheatmap)))\n",
    "show_env()"
   ]
  },
  {
   "cell_type": "code",
   "execution_count": 2,
   "metadata": {},
   "outputs": [],
   "source": [
    "ASSAY    = \"Tewhey_K562_TileMPRA\"\n",
    "FOLDER   = \"coverage_astarrseq_peak_macs_input\"\n",
    "DATASETS = c(\"OL13\", \"OL43\", \"OL45\")\n",
    "TYPE     = \"raw\""
   ]
  },
  {
   "cell_type": "code",
   "execution_count": 3,
   "metadata": {},
   "outputs": [
    {
     "name": "stdout",
     "output_type": "stream",
     "text": [
      "[1] 1451    8\n"
     ]
    },
    {
     "data": {
      "text/html": [
       "<table class=\"dataframe\">\n",
       "<caption>A tibble: 6 × 8</caption>\n",
       "<thead>\n",
       "\t<tr><th scope=col>Peak</th><th scope=col>baseMean</th><th scope=col>log2FoldChange</th><th scope=col>lfcSE</th><th scope=col>stat</th><th scope=col>pvalue</th><th scope=col>padj</th><th scope=col>Dataset</th></tr>\n",
       "\t<tr><th scope=col>&lt;chr&gt;</th><th scope=col>&lt;dbl&gt;</th><th scope=col>&lt;dbl&gt;</th><th scope=col>&lt;dbl&gt;</th><th scope=col>&lt;dbl&gt;</th><th scope=col>&lt;dbl&gt;</th><th scope=col>&lt;dbl&gt;</th><th scope=col>&lt;chr&gt;</th></tr>\n",
       "</thead>\n",
       "<tbody>\n",
       "\t<tr><td>chr11_61792068_61793464</td><td>260242.12</td><td> 1.6665705</td><td>0.04117109</td><td> 40.479145</td><td> 0.000000e+00</td><td> 0.000000e+00</td><td>OL13</td></tr>\n",
       "\t<tr><td>chr11_61800085_61801113</td><td>216437.58</td><td> 1.8554055</td><td>0.04972890</td><td> 37.310405</td><td>1.112851e-291</td><td>6.120682e-293</td><td>OL13</td></tr>\n",
       "\t<tr><td>chr11_61806630_61807154</td><td> 49327.33</td><td>-1.3562455</td><td>0.08825841</td><td>-15.366758</td><td> 2.735191e-53</td><td> 4.628784e-53</td><td>OL13</td></tr>\n",
       "\t<tr><td>chr11_61814735_61817343</td><td>682819.52</td><td> 2.5310135</td><td>0.03452518</td><td> 73.309201</td><td> 0.000000e+00</td><td> 0.000000e+00</td><td>OL13</td></tr>\n",
       "\t<tr><td>chr11_61822094_61822443</td><td> 20363.10</td><td>-1.7731145</td><td>0.14597377</td><td>-12.146802</td><td> 5.965339e-34</td><td> 7.719850e-34</td><td>OL13</td></tr>\n",
       "\t<tr><td>chr11_61825795_61826306</td><td> 29539.40</td><td>-0.3921839</td><td>0.07941651</td><td> -4.938318</td><td> 7.879932e-07</td><td> 7.879932e-07</td><td>OL13</td></tr>\n",
       "</tbody>\n",
       "</table>\n"
      ],
      "text/latex": [
       "A tibble: 6 × 8\n",
       "\\begin{tabular}{llllllll}\n",
       " Peak & baseMean & log2FoldChange & lfcSE & stat & pvalue & padj & Dataset\\\\\n",
       " <chr> & <dbl> & <dbl> & <dbl> & <dbl> & <dbl> & <dbl> & <chr>\\\\\n",
       "\\hline\n",
       "\t chr11\\_61792068\\_61793464 & 260242.12 &  1.6665705 & 0.04117109 &  40.479145 &  0.000000e+00 &  0.000000e+00 & OL13\\\\\n",
       "\t chr11\\_61800085\\_61801113 & 216437.58 &  1.8554055 & 0.04972890 &  37.310405 & 1.112851e-291 & 6.120682e-293 & OL13\\\\\n",
       "\t chr11\\_61806630\\_61807154 &  49327.33 & -1.3562455 & 0.08825841 & -15.366758 &  2.735191e-53 &  4.628784e-53 & OL13\\\\\n",
       "\t chr11\\_61814735\\_61817343 & 682819.52 &  2.5310135 & 0.03452518 &  73.309201 &  0.000000e+00 &  0.000000e+00 & OL13\\\\\n",
       "\t chr11\\_61822094\\_61822443 &  20363.10 & -1.7731145 & 0.14597377 & -12.146802 &  5.965339e-34 &  7.719850e-34 & OL13\\\\\n",
       "\t chr11\\_61825795\\_61826306 &  29539.40 & -0.3921839 & 0.07941651 &  -4.938318 &  7.879932e-07 &  7.879932e-07 & OL13\\\\\n",
       "\\end{tabular}\n"
      ],
      "text/markdown": [
       "\n",
       "A tibble: 6 × 8\n",
       "\n",
       "| Peak &lt;chr&gt; | baseMean &lt;dbl&gt; | log2FoldChange &lt;dbl&gt; | lfcSE &lt;dbl&gt; | stat &lt;dbl&gt; | pvalue &lt;dbl&gt; | padj &lt;dbl&gt; | Dataset &lt;chr&gt; |\n",
       "|---|---|---|---|---|---|---|---|\n",
       "| chr11_61792068_61793464 | 260242.12 |  1.6665705 | 0.04117109 |  40.479145 |  0.000000e+00 |  0.000000e+00 | OL13 |\n",
       "| chr11_61800085_61801113 | 216437.58 |  1.8554055 | 0.04972890 |  37.310405 | 1.112851e-291 | 6.120682e-293 | OL13 |\n",
       "| chr11_61806630_61807154 |  49327.33 | -1.3562455 | 0.08825841 | -15.366758 |  2.735191e-53 |  4.628784e-53 | OL13 |\n",
       "| chr11_61814735_61817343 | 682819.52 |  2.5310135 | 0.03452518 |  73.309201 |  0.000000e+00 |  0.000000e+00 | OL13 |\n",
       "| chr11_61822094_61822443 |  20363.10 | -1.7731145 | 0.14597377 | -12.146802 |  5.965339e-34 |  7.719850e-34 | OL13 |\n",
       "| chr11_61825795_61826306 |  29539.40 | -0.3921839 | 0.07941651 |  -4.938318 |  7.879932e-07 |  7.879932e-07 | OL13 |\n",
       "\n"
      ],
      "text/plain": [
       "  Peak                    baseMean  log2FoldChange lfcSE      stat      \n",
       "1 chr11_61792068_61793464 260242.12  1.6665705     0.04117109  40.479145\n",
       "2 chr11_61800085_61801113 216437.58  1.8554055     0.04972890  37.310405\n",
       "3 chr11_61806630_61807154  49327.33 -1.3562455     0.08825841 -15.366758\n",
       "4 chr11_61814735_61817343 682819.52  2.5310135     0.03452518  73.309201\n",
       "5 chr11_61822094_61822443  20363.10 -1.7731145     0.14597377 -12.146802\n",
       "6 chr11_61825795_61826306  29539.40 -0.3921839     0.07941651  -4.938318\n",
       "  pvalue        padj          Dataset\n",
       "1  0.000000e+00  0.000000e+00 OL13   \n",
       "2 1.112851e-291 6.120682e-293 OL13   \n",
       "3  2.735191e-53  4.628784e-53 OL13   \n",
       "4  0.000000e+00  0.000000e+00 OL13   \n",
       "5  5.965339e-34  7.719850e-34 OL13   \n",
       "6  7.879932e-07  7.879932e-07 OL13   "
      ]
     },
     "metadata": {},
     "output_type": "display_data"
    }
   ],
   "source": [
    "###\n",
    "lst = lapply(DATASETS, function(DATASET){\n",
    "    fdiry = file.path(FD_RES, \"results\", ASSAY, FOLDER, \"summary\")\n",
    "    fname = paste(\"result\", \"Log2FC\", \"raw\", \"deseq\", DATASET, \"tsv\", sep=\".\")\n",
    "    fpath = file.path(fdiry, fname)\n",
    "    dat   = read_tsv(fpath, show_col_types = FALSE)\n",
    "    dat   = dat %>% dplyr::mutate(Dataset = DATASET)\n",
    "    return(dat)\n",
    "})\n",
    "\n",
    "###\n",
    "dat = bind_rows(lst)\n",
    "\n",
    "###\n",
    "dat_log2fc = dat\n",
    "print(dim(dat))\n",
    "head(dat)"
   ]
  },
  {
   "cell_type": "code",
   "execution_count": 61,
   "metadata": {},
   "outputs": [],
   "source": [
    "get_label = function(x_chrom, x_start, x_end){\n",
    "    ### init\n",
    "    txt     = \"Unlabeled\"\n",
    "    x_start = as.integer(x_start)\n",
    "    x_end   = as.integer(x_end)\n",
    "    \n",
    "    ### Region: chr2:59,553,301-61,553,700\n",
    "    ### Label:  BCL11A\n",
    "    if (x_chrom == \"chr2\"){\n",
    "        if ((x_start >= 59553301) && (x_end <= 61553700)){\n",
    "            txt = \"BCL11A\"\n",
    "        }\n",
    "    }\n",
    "    \n",
    "    ### Region: chr8:126,735,901-128,736,550\n",
    "    ### Label: MYC\n",
    "    if (x_chrom == \"chr8\"){\n",
    "        if ((x_start >= 126735901) && (x_end <= 128736550)){\n",
    "            txt = \"MYC\"\n",
    "        }\n",
    "    }\n",
    "    \n",
    "    ### Region: chr11:4,505,501-6,505,900\n",
    "    ### Label: HBE1\n",
    "    if (x_chrom == \"chr11\"){\n",
    "        if ((x_start >= 4505501) && (x_end <= 34870100)){\n",
    "            txt = \"HBE1\"\n",
    "        }\n",
    "    }\n",
    "    \n",
    "    ### Region: chr11:32,869,701-34,870,100\n",
    "    ### Label: LMO2\n",
    "    if (x_chrom == \"chr11\"){\n",
    "        if ((x_start >= 4505501) && (x_end <= 34870100)){\n",
    "            txt = \"LMO2\"\n",
    "        }\n",
    "    }\n",
    "                                 #61,897,731 61,898,477\n",
    "    ### Region: chr11:61,787,329-61,898,348\n",
    "    ### Label:  FADS\n",
    "    if (x_chrom == \"chr11\"){\n",
    "        if ((x_start >= 61787329) && (x_end <= 61898348)){\n",
    "            txt = \"FADS\"\n",
    "        }\n",
    "    }\n",
    "    \n",
    "    ### Region: chr16:10,001-1,173,100\n",
    "    ### Label:  HBA2\n",
    "    if (x_chrom == \"chr16\"){\n",
    "        if ((x_start >= 10001) && (x_end <= 1173100)){\n",
    "            txt = \"HBA2\"\n",
    "        }\n",
    "    }\n",
    "    \n",
    "    ### Region: chr20:56,391,301-58,391,700\n",
    "    ### Label:  RBM38\n",
    "    if (x_chrom == \"chr20\"){\n",
    "        if ((x_start >= 56391301) && (x_end <= 58391700)){\n",
    "            txt = \"RBM38\"\n",
    "        }\n",
    "    }\n",
    "    \n",
    "    ### Region: chrX:47,785,501-49,880,650\n",
    "    ### Label:  GATA1\n",
    "    if (x_chrom == \"chrX\"){\n",
    "        if ((x_start >= 47785501) && (x_end <= 49880650)){\n",
    "            txt = \"GATA1\"\n",
    "        }\n",
    "    }\n",
    "    return(txt)\n",
    "}\n",
    "\n",
    "fun_label_peak = function(xs_chrom, xs_start, xs_end, xs_dataset){\n",
    "    xs_label = sapply(seq_along(xs_chrom), function(idx){\n",
    "        x_chrom   = xs_chrom[idx]\n",
    "        x_start   = xs_start[idx]\n",
    "        x_end     = xs_end[idx]\n",
    "        x_dataset = xs_dataset[idx]\n",
    "        x_label   = get_label(x_chrom, x_start, x_end)\n",
    "        \n",
    "        if (x_dataset == \"OL13\"){\n",
    "            return(\"FADS\")\n",
    "        } else {\n",
    "            return(x_label)\n",
    "        }\n",
    "    })\n",
    "    return(xs_label)\n",
    "}"
   ]
  },
  {
   "cell_type": "code",
   "execution_count": 62,
   "metadata": {},
   "outputs": [
    {
     "name": "stdout",
     "output_type": "stream",
     "text": [
      "[1] 1451    6\n"
     ]
    },
    {
     "data": {
      "text/html": [
       "<table class=\"dataframe\">\n",
       "<caption>A tibble: 6 × 6</caption>\n",
       "<thead>\n",
       "\t<tr><th scope=col>Peak</th><th scope=col>Chrom</th><th scope=col>Start</th><th scope=col>End</th><th scope=col>Dataset</th><th scope=col>Region</th></tr>\n",
       "\t<tr><th scope=col>&lt;chr&gt;</th><th scope=col>&lt;chr&gt;</th><th scope=col>&lt;chr&gt;</th><th scope=col>&lt;chr&gt;</th><th scope=col>&lt;chr&gt;</th><th scope=col>&lt;chr&gt;</th></tr>\n",
       "</thead>\n",
       "<tbody>\n",
       "\t<tr><td>chr11_61792068_61793464</td><td>chr11</td><td>61792068</td><td>61793464</td><td>OL13</td><td>FADS</td></tr>\n",
       "\t<tr><td>chr11_61800085_61801113</td><td>chr11</td><td>61800085</td><td>61801113</td><td>OL13</td><td>FADS</td></tr>\n",
       "\t<tr><td>chr11_61806630_61807154</td><td>chr11</td><td>61806630</td><td>61807154</td><td>OL13</td><td>FADS</td></tr>\n",
       "\t<tr><td>chr11_61814735_61817343</td><td>chr11</td><td>61814735</td><td>61817343</td><td>OL13</td><td>FADS</td></tr>\n",
       "\t<tr><td>chr11_61822094_61822443</td><td>chr11</td><td>61822094</td><td>61822443</td><td>OL13</td><td>FADS</td></tr>\n",
       "\t<tr><td>chr11_61825795_61826306</td><td>chr11</td><td>61825795</td><td>61826306</td><td>OL13</td><td>FADS</td></tr>\n",
       "</tbody>\n",
       "</table>\n"
      ],
      "text/latex": [
       "A tibble: 6 × 6\n",
       "\\begin{tabular}{llllll}\n",
       " Peak & Chrom & Start & End & Dataset & Region\\\\\n",
       " <chr> & <chr> & <chr> & <chr> & <chr> & <chr>\\\\\n",
       "\\hline\n",
       "\t chr11\\_61792068\\_61793464 & chr11 & 61792068 & 61793464 & OL13 & FADS\\\\\n",
       "\t chr11\\_61800085\\_61801113 & chr11 & 61800085 & 61801113 & OL13 & FADS\\\\\n",
       "\t chr11\\_61806630\\_61807154 & chr11 & 61806630 & 61807154 & OL13 & FADS\\\\\n",
       "\t chr11\\_61814735\\_61817343 & chr11 & 61814735 & 61817343 & OL13 & FADS\\\\\n",
       "\t chr11\\_61822094\\_61822443 & chr11 & 61822094 & 61822443 & OL13 & FADS\\\\\n",
       "\t chr11\\_61825795\\_61826306 & chr11 & 61825795 & 61826306 & OL13 & FADS\\\\\n",
       "\\end{tabular}\n"
      ],
      "text/markdown": [
       "\n",
       "A tibble: 6 × 6\n",
       "\n",
       "| Peak &lt;chr&gt; | Chrom &lt;chr&gt; | Start &lt;chr&gt; | End &lt;chr&gt; | Dataset &lt;chr&gt; | Region &lt;chr&gt; |\n",
       "|---|---|---|---|---|---|\n",
       "| chr11_61792068_61793464 | chr11 | 61792068 | 61793464 | OL13 | FADS |\n",
       "| chr11_61800085_61801113 | chr11 | 61800085 | 61801113 | OL13 | FADS |\n",
       "| chr11_61806630_61807154 | chr11 | 61806630 | 61807154 | OL13 | FADS |\n",
       "| chr11_61814735_61817343 | chr11 | 61814735 | 61817343 | OL13 | FADS |\n",
       "| chr11_61822094_61822443 | chr11 | 61822094 | 61822443 | OL13 | FADS |\n",
       "| chr11_61825795_61826306 | chr11 | 61825795 | 61826306 | OL13 | FADS |\n",
       "\n"
      ],
      "text/plain": [
       "  Peak                    Chrom Start    End      Dataset Region\n",
       "1 chr11_61792068_61793464 chr11 61792068 61793464 OL13    FADS  \n",
       "2 chr11_61800085_61801113 chr11 61800085 61801113 OL13    FADS  \n",
       "3 chr11_61806630_61807154 chr11 61806630 61807154 OL13    FADS  \n",
       "4 chr11_61814735_61817343 chr11 61814735 61817343 OL13    FADS  \n",
       "5 chr11_61822094_61822443 chr11 61822094 61822443 OL13    FADS  \n",
       "6 chr11_61825795_61826306 chr11 61825795 61826306 OL13    FADS  "
      ]
     },
     "metadata": {},
     "output_type": "display_data"
    }
   ],
   "source": [
    "dat = dat_log2fc\n",
    "dat = dat %>% \n",
    "    dplyr::select(Peak, Dataset) %>%\n",
    "    tidyr::separate(Peak, into=c(\"Chrom\", \"Start\", \"End\"), remove=FALSE) %>%\n",
    "    dplyr::mutate(Region = fun_label_peak(Chrom, Start, End, Dataset))\n",
    "\n",
    "#dat$Label = fun_label_peak(dat$Chrom, dat$Start, dat$End)\n",
    "dat_peak = dat\n",
    "print(dim(dat))\n",
    "head(dat)"
   ]
  },
  {
   "cell_type": "code",
   "execution_count": 63,
   "metadata": {},
   "outputs": [
    {
     "data": {
      "text/plain": [
       "\n",
       "chr11 chr16  chr2  chr8  chrX \n",
       "  589   284   184   188   206 "
      ]
     },
     "metadata": {},
     "output_type": "display_data"
    }
   ],
   "source": [
    "dat = dat_peak\n",
    "table(dat$Chrom)"
   ]
  },
  {
   "cell_type": "code",
   "execution_count": 65,
   "metadata": {},
   "outputs": [
    {
     "data": {
      "text/plain": [
       "       \n",
       "        BCL11A FADS GATA1 HBA2 LMO2 MYC\n",
       "  chr11      0   22     0    0  567   0\n",
       "  chr16      0    0     0  284    0   0\n",
       "  chr2     184    0     0    0    0   0\n",
       "  chr8       0    0     0    0    0 188\n",
       "  chrX       0    0   206    0    0   0"
      ]
     },
     "metadata": {},
     "output_type": "display_data"
    }
   ],
   "source": [
    "dat = dat_peak\n",
    "table(dat$Chrom, dat$Region)"
   ]
  },
  {
   "cell_type": "code",
   "execution_count": 67,
   "metadata": {},
   "outputs": [
    {
     "data": {
      "text/html": [
       "<table class=\"dataframe\">\n",
       "<caption>A tibble: 0 × 6</caption>\n",
       "<thead>\n",
       "\t<tr><th scope=col>Peak</th><th scope=col>Chrom</th><th scope=col>Start</th><th scope=col>End</th><th scope=col>Dataset</th><th scope=col>Region</th></tr>\n",
       "\t<tr><th scope=col>&lt;chr&gt;</th><th scope=col>&lt;chr&gt;</th><th scope=col>&lt;chr&gt;</th><th scope=col>&lt;chr&gt;</th><th scope=col>&lt;chr&gt;</th><th scope=col>&lt;chr&gt;</th></tr>\n",
       "</thead>\n",
       "<tbody>\n",
       "</tbody>\n",
       "</table>\n"
      ],
      "text/latex": [
       "A tibble: 0 × 6\n",
       "\\begin{tabular}{llllll}\n",
       " Peak & Chrom & Start & End & Dataset & Region\\\\\n",
       " <chr> & <chr> & <chr> & <chr> & <chr> & <chr>\\\\\n",
       "\\hline\n",
       "\\end{tabular}\n"
      ],
      "text/markdown": [
       "\n",
       "A tibble: 0 × 6\n",
       "\n",
       "| Peak &lt;chr&gt; | Chrom &lt;chr&gt; | Start &lt;chr&gt; | End &lt;chr&gt; | Dataset &lt;chr&gt; | Region &lt;chr&gt; |\n",
       "|---|---|---|---|---|---|\n",
       "\n"
      ],
      "text/plain": [
       "     Peak Chrom Start End Dataset Region"
      ]
     },
     "metadata": {},
     "output_type": "display_data"
    }
   ],
   "source": [
    "dat %>% dplyr::filter(Region == \"Unlabeled\")"
   ]
  },
  {
   "cell_type": "code",
   "execution_count": 68,
   "metadata": {},
   "outputs": [
    {
     "data": {
      "text/html": [
       "<style>\n",
       ".list-inline {list-style: none; margin:0; padding: 0}\n",
       ".list-inline>li {display: inline-block}\n",
       ".list-inline>li:not(:last-child)::after {content: \"\\00b7\"; padding: 0 .5ex}\n",
       "</style>\n",
       "<ol class=list-inline><li>'comparison_global'</li><li>'comparison_local'</li><li>'dat_peaks_info.tsv'</li></ol>\n"
      ],
      "text/latex": [
       "\\begin{enumerate*}\n",
       "\\item 'comparison\\_global'\n",
       "\\item 'comparison\\_local'\n",
       "\\item 'dat\\_peaks\\_info.tsv'\n",
       "\\end{enumerate*}\n"
      ],
      "text/markdown": [
       "1. 'comparison_global'\n",
       "2. 'comparison_local'\n",
       "3. 'dat_peaks_info.tsv'\n",
       "\n",
       "\n"
      ],
      "text/plain": [
       "[1] \"comparison_global\"  \"comparison_local\"   \"dat_peaks_info.tsv\""
      ]
     },
     "metadata": {},
     "output_type": "display_data"
    }
   ],
   "source": [
    "fdiry = file.path(FD_RES, \"results\", \"comparison\")\n",
    "dir(fdiry)"
   ]
  },
  {
   "cell_type": "code",
   "execution_count": 69,
   "metadata": {},
   "outputs": [],
   "source": [
    "fdiry = file.path(FD_RES, \"results\", \"comparison\")\n",
    "fname = \"dat_peaks_info.tsv\"\n",
    "fpath = file.path(fdiry, fname)\n",
    "\n",
    "write_tsv(dat_peak, fpath)"
   ]
  },
  {
   "cell_type": "code",
   "execution_count": null,
   "metadata": {},
   "outputs": [],
   "source": []
  }
 ],
 "metadata": {
  "kernelspec": {
   "display_name": "R",
   "language": "R",
   "name": "ir"
  },
  "language_info": {
   "codemirror_mode": "r",
   "file_extension": ".r",
   "mimetype": "text/x-r-source",
   "name": "R",
   "pygments_lexer": "r",
   "version": "4.2.2"
  }
 },
 "nbformat": 4,
 "nbformat_minor": 4
}
