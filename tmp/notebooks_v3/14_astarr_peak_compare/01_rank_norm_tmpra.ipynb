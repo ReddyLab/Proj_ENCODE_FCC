{
 "cells": [
  {
   "cell_type": "markdown",
   "metadata": {},
   "source": [
    "**Set environment**"
   ]
  },
  {
   "cell_type": "code",
   "execution_count": 1,
   "metadata": {},
   "outputs": [
    {
     "name": "stdout",
     "output_type": "stream",
     "text": [
      "You are in Singularity: singularity_proj_combeffect \n",
      "BASE DIRECTORY:     /data/reddylab/Kuei \n",
      "WORK DIRECTORY:     /data/reddylab/Kuei/out \n",
      "CODE DIRECTORY:     /data/reddylab/Kuei/code \n",
      "PATH OF SOURCE:     /data/reddylab/Kuei/source \n",
      "PATH OF EXECUTABLE: /data/reddylab/Kuei/bin \n",
      "PATH OF ANNOTATION: /data/reddylab/Kuei/annotation \n",
      "PATH OF PROJECT:    /data/reddylab/Kuei/code/Proj_CombEffect_ENCODE_FCC \n",
      "PATH OF RESULTS:    /data/reddylab/Kuei/out/proj_combeffect_encode_fcc \n"
     ]
    }
   ],
   "source": [
    "suppressMessages(suppressWarnings(source(\"../config/config_sing.R\")))\n",
    "suppressMessages(suppressWarnings(library(pheatmap)))\n",
    "show_env()"
   ]
  },
  {
   "cell_type": "markdown",
   "metadata": {},
   "source": [
    "## Import log2FC"
   ]
  },
  {
   "cell_type": "code",
   "execution_count": 2,
   "metadata": {},
   "outputs": [],
   "source": [
    "ASSAY    = \"Tewhey_K562_TileMPRA\"\n",
    "FOLDER   = \"coverage_astarrseq_peak_macs_input\"\n",
    "DATASETS = c(\"OL13\", \"OL43\", \"OL45\")\n",
    "TYPE     = \"raw\""
   ]
  },
  {
   "cell_type": "code",
   "execution_count": 3,
   "metadata": {},
   "outputs": [
    {
     "name": "stdout",
     "output_type": "stream",
     "text": [
      "[1] 1451    8\n"
     ]
    },
    {
     "data": {
      "text/html": [
       "<table class=\"dataframe\">\n",
       "<caption>A tibble: 6 × 8</caption>\n",
       "<thead>\n",
       "\t<tr><th scope=col>Peak</th><th scope=col>baseMean</th><th scope=col>log2FoldChange</th><th scope=col>lfcSE</th><th scope=col>stat</th><th scope=col>pvalue</th><th scope=col>padj</th><th scope=col>Dataset</th></tr>\n",
       "\t<tr><th scope=col>&lt;chr&gt;</th><th scope=col>&lt;dbl&gt;</th><th scope=col>&lt;dbl&gt;</th><th scope=col>&lt;dbl&gt;</th><th scope=col>&lt;dbl&gt;</th><th scope=col>&lt;dbl&gt;</th><th scope=col>&lt;dbl&gt;</th><th scope=col>&lt;chr&gt;</th></tr>\n",
       "</thead>\n",
       "<tbody>\n",
       "\t<tr><td>chr11_61792068_61793464</td><td>260242.12</td><td> 1.6665705</td><td>0.04117109</td><td> 40.479145</td><td> 0.000000e+00</td><td> 0.000000e+00</td><td>OL13</td></tr>\n",
       "\t<tr><td>chr11_61800085_61801113</td><td>216437.58</td><td> 1.8554055</td><td>0.04972890</td><td> 37.310405</td><td>1.112851e-291</td><td>6.120682e-293</td><td>OL13</td></tr>\n",
       "\t<tr><td>chr11_61806630_61807154</td><td> 49327.33</td><td>-1.3562455</td><td>0.08825841</td><td>-15.366758</td><td> 2.735191e-53</td><td> 4.628784e-53</td><td>OL13</td></tr>\n",
       "\t<tr><td>chr11_61814735_61817343</td><td>682819.52</td><td> 2.5310135</td><td>0.03452518</td><td> 73.309201</td><td> 0.000000e+00</td><td> 0.000000e+00</td><td>OL13</td></tr>\n",
       "\t<tr><td>chr11_61822094_61822443</td><td> 20363.10</td><td>-1.7731145</td><td>0.14597377</td><td>-12.146802</td><td> 5.965339e-34</td><td> 7.719850e-34</td><td>OL13</td></tr>\n",
       "\t<tr><td>chr11_61825795_61826306</td><td> 29539.40</td><td>-0.3921839</td><td>0.07941651</td><td> -4.938318</td><td> 7.879932e-07</td><td> 7.879932e-07</td><td>OL13</td></tr>\n",
       "</tbody>\n",
       "</table>\n"
      ],
      "text/latex": [
       "A tibble: 6 × 8\n",
       "\\begin{tabular}{llllllll}\n",
       " Peak & baseMean & log2FoldChange & lfcSE & stat & pvalue & padj & Dataset\\\\\n",
       " <chr> & <dbl> & <dbl> & <dbl> & <dbl> & <dbl> & <dbl> & <chr>\\\\\n",
       "\\hline\n",
       "\t chr11\\_61792068\\_61793464 & 260242.12 &  1.6665705 & 0.04117109 &  40.479145 &  0.000000e+00 &  0.000000e+00 & OL13\\\\\n",
       "\t chr11\\_61800085\\_61801113 & 216437.58 &  1.8554055 & 0.04972890 &  37.310405 & 1.112851e-291 & 6.120682e-293 & OL13\\\\\n",
       "\t chr11\\_61806630\\_61807154 &  49327.33 & -1.3562455 & 0.08825841 & -15.366758 &  2.735191e-53 &  4.628784e-53 & OL13\\\\\n",
       "\t chr11\\_61814735\\_61817343 & 682819.52 &  2.5310135 & 0.03452518 &  73.309201 &  0.000000e+00 &  0.000000e+00 & OL13\\\\\n",
       "\t chr11\\_61822094\\_61822443 &  20363.10 & -1.7731145 & 0.14597377 & -12.146802 &  5.965339e-34 &  7.719850e-34 & OL13\\\\\n",
       "\t chr11\\_61825795\\_61826306 &  29539.40 & -0.3921839 & 0.07941651 &  -4.938318 &  7.879932e-07 &  7.879932e-07 & OL13\\\\\n",
       "\\end{tabular}\n"
      ],
      "text/markdown": [
       "\n",
       "A tibble: 6 × 8\n",
       "\n",
       "| Peak &lt;chr&gt; | baseMean &lt;dbl&gt; | log2FoldChange &lt;dbl&gt; | lfcSE &lt;dbl&gt; | stat &lt;dbl&gt; | pvalue &lt;dbl&gt; | padj &lt;dbl&gt; | Dataset &lt;chr&gt; |\n",
       "|---|---|---|---|---|---|---|---|\n",
       "| chr11_61792068_61793464 | 260242.12 |  1.6665705 | 0.04117109 |  40.479145 |  0.000000e+00 |  0.000000e+00 | OL13 |\n",
       "| chr11_61800085_61801113 | 216437.58 |  1.8554055 | 0.04972890 |  37.310405 | 1.112851e-291 | 6.120682e-293 | OL13 |\n",
       "| chr11_61806630_61807154 |  49327.33 | -1.3562455 | 0.08825841 | -15.366758 |  2.735191e-53 |  4.628784e-53 | OL13 |\n",
       "| chr11_61814735_61817343 | 682819.52 |  2.5310135 | 0.03452518 |  73.309201 |  0.000000e+00 |  0.000000e+00 | OL13 |\n",
       "| chr11_61822094_61822443 |  20363.10 | -1.7731145 | 0.14597377 | -12.146802 |  5.965339e-34 |  7.719850e-34 | OL13 |\n",
       "| chr11_61825795_61826306 |  29539.40 | -0.3921839 | 0.07941651 |  -4.938318 |  7.879932e-07 |  7.879932e-07 | OL13 |\n",
       "\n"
      ],
      "text/plain": [
       "  Peak                    baseMean  log2FoldChange lfcSE      stat      \n",
       "1 chr11_61792068_61793464 260242.12  1.6665705     0.04117109  40.479145\n",
       "2 chr11_61800085_61801113 216437.58  1.8554055     0.04972890  37.310405\n",
       "3 chr11_61806630_61807154  49327.33 -1.3562455     0.08825841 -15.366758\n",
       "4 chr11_61814735_61817343 682819.52  2.5310135     0.03452518  73.309201\n",
       "5 chr11_61822094_61822443  20363.10 -1.7731145     0.14597377 -12.146802\n",
       "6 chr11_61825795_61826306  29539.40 -0.3921839     0.07941651  -4.938318\n",
       "  pvalue        padj          Dataset\n",
       "1  0.000000e+00  0.000000e+00 OL13   \n",
       "2 1.112851e-291 6.120682e-293 OL13   \n",
       "3  2.735191e-53  4.628784e-53 OL13   \n",
       "4  0.000000e+00  0.000000e+00 OL13   \n",
       "5  5.965339e-34  7.719850e-34 OL13   \n",
       "6  7.879932e-07  7.879932e-07 OL13   "
      ]
     },
     "metadata": {},
     "output_type": "display_data"
    }
   ],
   "source": [
    "###\n",
    "lst = lapply(DATASETS, function(DATASET){\n",
    "    fdiry = file.path(FD_RES, \"results\", ASSAY, FOLDER, \"summary\")\n",
    "    fname = paste(\"result\", \"Log2FC\", \"raw\", \"deseq\", DATASET, \"tsv\", sep=\".\")\n",
    "    fpath = file.path(fdiry, fname)\n",
    "    dat   = read_tsv(fpath, show_col_types = FALSE)\n",
    "    dat   = dat %>% dplyr::mutate(Dataset = DATASET)\n",
    "    return(dat)\n",
    "})\n",
    "\n",
    "###\n",
    "dat = bind_rows(lst)\n",
    "\n",
    "###\n",
    "dat_log2fc = dat\n",
    "print(dim(dat))\n",
    "head(dat)"
   ]
  },
  {
   "cell_type": "code",
   "execution_count": 4,
   "metadata": {},
   "outputs": [
    {
     "name": "stdout",
     "output_type": "stream",
     "text": [
      "[1] 1451    6\n"
     ]
    },
    {
     "data": {
      "text/html": [
       "<table class=\"dataframe\">\n",
       "<caption>A tibble: 6 × 6</caption>\n",
       "<thead>\n",
       "\t<tr><th scope=col>Peak</th><th scope=col>Chrom</th><th scope=col>Start</th><th scope=col>End</th><th scope=col>Dataset</th><th scope=col>Region</th></tr>\n",
       "\t<tr><th scope=col>&lt;chr&gt;</th><th scope=col>&lt;chr&gt;</th><th scope=col>&lt;dbl&gt;</th><th scope=col>&lt;dbl&gt;</th><th scope=col>&lt;chr&gt;</th><th scope=col>&lt;chr&gt;</th></tr>\n",
       "</thead>\n",
       "<tbody>\n",
       "\t<tr><td>chr11_61792068_61793464</td><td>chr11</td><td>61792068</td><td>61793464</td><td>OL13</td><td>FADS</td></tr>\n",
       "\t<tr><td>chr11_61800085_61801113</td><td>chr11</td><td>61800085</td><td>61801113</td><td>OL13</td><td>FADS</td></tr>\n",
       "\t<tr><td>chr11_61806630_61807154</td><td>chr11</td><td>61806630</td><td>61807154</td><td>OL13</td><td>FADS</td></tr>\n",
       "\t<tr><td>chr11_61814735_61817343</td><td>chr11</td><td>61814735</td><td>61817343</td><td>OL13</td><td>FADS</td></tr>\n",
       "\t<tr><td>chr11_61822094_61822443</td><td>chr11</td><td>61822094</td><td>61822443</td><td>OL13</td><td>FADS</td></tr>\n",
       "\t<tr><td>chr11_61825795_61826306</td><td>chr11</td><td>61825795</td><td>61826306</td><td>OL13</td><td>FADS</td></tr>\n",
       "</tbody>\n",
       "</table>\n"
      ],
      "text/latex": [
       "A tibble: 6 × 6\n",
       "\\begin{tabular}{llllll}\n",
       " Peak & Chrom & Start & End & Dataset & Region\\\\\n",
       " <chr> & <chr> & <dbl> & <dbl> & <chr> & <chr>\\\\\n",
       "\\hline\n",
       "\t chr11\\_61792068\\_61793464 & chr11 & 61792068 & 61793464 & OL13 & FADS\\\\\n",
       "\t chr11\\_61800085\\_61801113 & chr11 & 61800085 & 61801113 & OL13 & FADS\\\\\n",
       "\t chr11\\_61806630\\_61807154 & chr11 & 61806630 & 61807154 & OL13 & FADS\\\\\n",
       "\t chr11\\_61814735\\_61817343 & chr11 & 61814735 & 61817343 & OL13 & FADS\\\\\n",
       "\t chr11\\_61822094\\_61822443 & chr11 & 61822094 & 61822443 & OL13 & FADS\\\\\n",
       "\t chr11\\_61825795\\_61826306 & chr11 & 61825795 & 61826306 & OL13 & FADS\\\\\n",
       "\\end{tabular}\n"
      ],
      "text/markdown": [
       "\n",
       "A tibble: 6 × 6\n",
       "\n",
       "| Peak &lt;chr&gt; | Chrom &lt;chr&gt; | Start &lt;dbl&gt; | End &lt;dbl&gt; | Dataset &lt;chr&gt; | Region &lt;chr&gt; |\n",
       "|---|---|---|---|---|---|\n",
       "| chr11_61792068_61793464 | chr11 | 61792068 | 61793464 | OL13 | FADS |\n",
       "| chr11_61800085_61801113 | chr11 | 61800085 | 61801113 | OL13 | FADS |\n",
       "| chr11_61806630_61807154 | chr11 | 61806630 | 61807154 | OL13 | FADS |\n",
       "| chr11_61814735_61817343 | chr11 | 61814735 | 61817343 | OL13 | FADS |\n",
       "| chr11_61822094_61822443 | chr11 | 61822094 | 61822443 | OL13 | FADS |\n",
       "| chr11_61825795_61826306 | chr11 | 61825795 | 61826306 | OL13 | FADS |\n",
       "\n"
      ],
      "text/plain": [
       "  Peak                    Chrom Start    End      Dataset Region\n",
       "1 chr11_61792068_61793464 chr11 61792068 61793464 OL13    FADS  \n",
       "2 chr11_61800085_61801113 chr11 61800085 61801113 OL13    FADS  \n",
       "3 chr11_61806630_61807154 chr11 61806630 61807154 OL13    FADS  \n",
       "4 chr11_61814735_61817343 chr11 61814735 61817343 OL13    FADS  \n",
       "5 chr11_61822094_61822443 chr11 61822094 61822443 OL13    FADS  \n",
       "6 chr11_61825795_61826306 chr11 61825795 61826306 OL13    FADS  "
      ]
     },
     "metadata": {},
     "output_type": "display_data"
    }
   ],
   "source": [
    "fdiry = file.path(FD_RES, \"results\", \"comparison\")\n",
    "fname = \"dat_peaks_info.tsv\"\n",
    "fpath = file.path(fdiry, fname)\n",
    "\n",
    "dat = read_tsv(fpath, show_col_types = FALSE)\n",
    "\n",
    "###\n",
    "dat_peak_info = dat\n",
    "dat_peak      = dat %>% dplyr::select(Peak, Dataset, Region)\n",
    "print(dim(dat))\n",
    "head(dat)"
   ]
  },
  {
   "cell_type": "markdown",
   "metadata": {},
   "source": [
    "## Rank norm"
   ]
  },
  {
   "cell_type": "code",
   "execution_count": 5,
   "metadata": {},
   "outputs": [],
   "source": [
    "fun_ranknorm = function(x){\n",
    "    return(rank(x)/length(x))\n",
    "}"
   ]
  },
  {
   "cell_type": "code",
   "execution_count": 6,
   "metadata": {},
   "outputs": [
    {
     "name": "stdout",
     "output_type": "stream",
     "text": [
      "[1] 1451   12\n"
     ]
    },
    {
     "data": {
      "text/html": [
       "<table class=\"dataframe\">\n",
       "<caption>A tibble: 6 × 12</caption>\n",
       "<thead>\n",
       "\t<tr><th scope=col>Peak</th><th scope=col>Dataset</th><th scope=col>Region</th><th scope=col>baseMean</th><th scope=col>log2FoldChange</th><th scope=col>lfcSE</th><th scope=col>stat</th><th scope=col>pvalue</th><th scope=col>padj</th><th scope=col>RankNorm_Region</th><th scope=col>RankNorm_Dataset</th><th scope=col>RankNorm_Total</th></tr>\n",
       "\t<tr><th scope=col>&lt;chr&gt;</th><th scope=col>&lt;chr&gt;</th><th scope=col>&lt;chr&gt;</th><th scope=col>&lt;dbl&gt;</th><th scope=col>&lt;dbl&gt;</th><th scope=col>&lt;dbl&gt;</th><th scope=col>&lt;dbl&gt;</th><th scope=col>&lt;dbl&gt;</th><th scope=col>&lt;dbl&gt;</th><th scope=col>&lt;dbl&gt;</th><th scope=col>&lt;dbl&gt;</th><th scope=col>&lt;dbl&gt;</th></tr>\n",
       "</thead>\n",
       "<tbody>\n",
       "\t<tr><td>chr2_61524551_61524988</td><td>OL45</td><td>BCL11A</td><td> 2088.957</td><td>-1.3009654</td><td>0.06373091</td><td>-20.413414</td><td>1.270903e-92</td><td>4.714638e-92</td><td>0.01630435</td><td>0.01352657</td><td>0.0241213</td></tr>\n",
       "\t<tr><td>chr2_61529854_61531204</td><td>OL45</td><td>BCL11A</td><td> 8875.031</td><td> 0.2766738</td><td>0.05305414</td><td>  5.214934</td><td>1.838829e-07</td><td>2.271107e-07</td><td>0.70652174</td><td>0.58067633</td><td>0.5789111</td></tr>\n",
       "\t<tr><td>chr2_61536312_61537087</td><td>OL45</td><td>BCL11A</td><td> 8311.507</td><td> 2.1228528</td><td>0.04971160</td><td> 42.703367</td><td>0.000000e+00</td><td>0.000000e+00</td><td>0.93478261</td><td>0.89758454</td><td>0.8904204</td></tr>\n",
       "\t<tr><td>chr2_61537852_61539255</td><td>OL45</td><td>BCL11A</td><td>84176.640</td><td> 4.2671644</td><td>0.04616342</td><td> 92.436047</td><td>0.000000e+00</td><td>0.000000e+00</td><td>0.98913043</td><td>0.98937198</td><td>0.9917298</td></tr>\n",
       "\t<tr><td>chr2_61545554_61545869</td><td>OL45</td><td>BCL11A</td><td> 2414.730</td><td>-0.9562369</td><td>0.06059907</td><td>-15.779730</td><td>4.290224e-56</td><td>1.083020e-55</td><td>0.15217391</td><td>0.12173913</td><td>0.1364576</td></tr>\n",
       "\t<tr><td>chr2_61549710_61550633</td><td>OL45</td><td>BCL11A</td><td> 4649.512</td><td>-0.8560994</td><td>0.05269804</td><td>-16.245374</td><td>2.408672e-59</td><td>6.327348e-59</td><td>0.23913043</td><td>0.16714976</td><td>0.1819435</td></tr>\n",
       "</tbody>\n",
       "</table>\n"
      ],
      "text/latex": [
       "A tibble: 6 × 12\n",
       "\\begin{tabular}{llllllllllll}\n",
       " Peak & Dataset & Region & baseMean & log2FoldChange & lfcSE & stat & pvalue & padj & RankNorm\\_Region & RankNorm\\_Dataset & RankNorm\\_Total\\\\\n",
       " <chr> & <chr> & <chr> & <dbl> & <dbl> & <dbl> & <dbl> & <dbl> & <dbl> & <dbl> & <dbl> & <dbl>\\\\\n",
       "\\hline\n",
       "\t chr2\\_61524551\\_61524988 & OL45 & BCL11A &  2088.957 & -1.3009654 & 0.06373091 & -20.413414 & 1.270903e-92 & 4.714638e-92 & 0.01630435 & 0.01352657 & 0.0241213\\\\\n",
       "\t chr2\\_61529854\\_61531204 & OL45 & BCL11A &  8875.031 &  0.2766738 & 0.05305414 &   5.214934 & 1.838829e-07 & 2.271107e-07 & 0.70652174 & 0.58067633 & 0.5789111\\\\\n",
       "\t chr2\\_61536312\\_61537087 & OL45 & BCL11A &  8311.507 &  2.1228528 & 0.04971160 &  42.703367 & 0.000000e+00 & 0.000000e+00 & 0.93478261 & 0.89758454 & 0.8904204\\\\\n",
       "\t chr2\\_61537852\\_61539255 & OL45 & BCL11A & 84176.640 &  4.2671644 & 0.04616342 &  92.436047 & 0.000000e+00 & 0.000000e+00 & 0.98913043 & 0.98937198 & 0.9917298\\\\\n",
       "\t chr2\\_61545554\\_61545869 & OL45 & BCL11A &  2414.730 & -0.9562369 & 0.06059907 & -15.779730 & 4.290224e-56 & 1.083020e-55 & 0.15217391 & 0.12173913 & 0.1364576\\\\\n",
       "\t chr2\\_61549710\\_61550633 & OL45 & BCL11A &  4649.512 & -0.8560994 & 0.05269804 & -16.245374 & 2.408672e-59 & 6.327348e-59 & 0.23913043 & 0.16714976 & 0.1819435\\\\\n",
       "\\end{tabular}\n"
      ],
      "text/markdown": [
       "\n",
       "A tibble: 6 × 12\n",
       "\n",
       "| Peak &lt;chr&gt; | Dataset &lt;chr&gt; | Region &lt;chr&gt; | baseMean &lt;dbl&gt; | log2FoldChange &lt;dbl&gt; | lfcSE &lt;dbl&gt; | stat &lt;dbl&gt; | pvalue &lt;dbl&gt; | padj &lt;dbl&gt; | RankNorm_Region &lt;dbl&gt; | RankNorm_Dataset &lt;dbl&gt; | RankNorm_Total &lt;dbl&gt; |\n",
       "|---|---|---|---|---|---|---|---|---|---|---|---|\n",
       "| chr2_61524551_61524988 | OL45 | BCL11A |  2088.957 | -1.3009654 | 0.06373091 | -20.413414 | 1.270903e-92 | 4.714638e-92 | 0.01630435 | 0.01352657 | 0.0241213 |\n",
       "| chr2_61529854_61531204 | OL45 | BCL11A |  8875.031 |  0.2766738 | 0.05305414 |   5.214934 | 1.838829e-07 | 2.271107e-07 | 0.70652174 | 0.58067633 | 0.5789111 |\n",
       "| chr2_61536312_61537087 | OL45 | BCL11A |  8311.507 |  2.1228528 | 0.04971160 |  42.703367 | 0.000000e+00 | 0.000000e+00 | 0.93478261 | 0.89758454 | 0.8904204 |\n",
       "| chr2_61537852_61539255 | OL45 | BCL11A | 84176.640 |  4.2671644 | 0.04616342 |  92.436047 | 0.000000e+00 | 0.000000e+00 | 0.98913043 | 0.98937198 | 0.9917298 |\n",
       "| chr2_61545554_61545869 | OL45 | BCL11A |  2414.730 | -0.9562369 | 0.06059907 | -15.779730 | 4.290224e-56 | 1.083020e-55 | 0.15217391 | 0.12173913 | 0.1364576 |\n",
       "| chr2_61549710_61550633 | OL45 | BCL11A |  4649.512 | -0.8560994 | 0.05269804 | -16.245374 | 2.408672e-59 | 6.327348e-59 | 0.23913043 | 0.16714976 | 0.1819435 |\n",
       "\n"
      ],
      "text/plain": [
       "  Peak                   Dataset Region baseMean  log2FoldChange lfcSE     \n",
       "1 chr2_61524551_61524988 OL45    BCL11A  2088.957 -1.3009654     0.06373091\n",
       "2 chr2_61529854_61531204 OL45    BCL11A  8875.031  0.2766738     0.05305414\n",
       "3 chr2_61536312_61537087 OL45    BCL11A  8311.507  2.1228528     0.04971160\n",
       "4 chr2_61537852_61539255 OL45    BCL11A 84176.640  4.2671644     0.04616342\n",
       "5 chr2_61545554_61545869 OL45    BCL11A  2414.730 -0.9562369     0.06059907\n",
       "6 chr2_61549710_61550633 OL45    BCL11A  4649.512 -0.8560994     0.05269804\n",
       "  stat       pvalue       padj         RankNorm_Region RankNorm_Dataset\n",
       "1 -20.413414 1.270903e-92 4.714638e-92 0.01630435      0.01352657      \n",
       "2   5.214934 1.838829e-07 2.271107e-07 0.70652174      0.58067633      \n",
       "3  42.703367 0.000000e+00 0.000000e+00 0.93478261      0.89758454      \n",
       "4  92.436047 0.000000e+00 0.000000e+00 0.98913043      0.98937198      \n",
       "5 -15.779730 4.290224e-56 1.083020e-55 0.15217391      0.12173913      \n",
       "6 -16.245374 2.408672e-59 6.327348e-59 0.23913043      0.16714976      \n",
       "  RankNorm_Total\n",
       "1 0.0241213     \n",
       "2 0.5789111     \n",
       "3 0.8904204     \n",
       "4 0.9917298     \n",
       "5 0.1364576     \n",
       "6 0.1819435     "
      ]
     },
     "metadata": {},
     "output_type": "display_data"
    }
   ],
   "source": [
    "dat = left_join(dat_peak, dat_log2fc, by=c(\"Peak\", \"Dataset\"))\n",
    "\n",
    "dat = dat %>%\n",
    "    dplyr::group_by(Region) %>%\n",
    "    dplyr::mutate(RankNorm_Region  = fun_ranknorm(log2FoldChange)) %>%\n",
    "    dplyr::ungroup()\n",
    "\n",
    "dat = dat %>%\n",
    "    dplyr::group_by(Dataset) %>%\n",
    "    dplyr::mutate(RankNorm_Dataset = fun_ranknorm(log2FoldChange)) %>%\n",
    "    dplyr::ungroup()\n",
    "\n",
    "dat = dat %>%\n",
    "    dplyr::mutate(RankNorm_Total  = fun_ranknorm(log2FoldChange))\n",
    "\n",
    "dat_ranknorm = dat\n",
    "print(dim(dat))\n",
    "tail(dat)"
   ]
  },
  {
   "cell_type": "code",
   "execution_count": 7,
   "metadata": {},
   "outputs": [],
   "source": [
    "fdiry = file.path(FD_RES, \"results\", \"comparison\", \"comparison_global\")\n",
    "fname = \"result.ranknorm.tmpra.tsv\"\n",
    "fpath = file.path(fdiry, fname)\n",
    "\n",
    "dat = dat_ranknorm\n",
    "write_tsv(dat, fpath)"
   ]
  },
  {
   "cell_type": "code",
   "execution_count": null,
   "metadata": {},
   "outputs": [],
   "source": []
  }
 ],
 "metadata": {
  "kernelspec": {
   "display_name": "R",
   "language": "R",
   "name": "ir"
  },
  "language_info": {
   "codemirror_mode": "r",
   "file_extension": ".r",
   "mimetype": "text/x-r-source",
   "name": "R",
   "pygments_lexer": "r",
   "version": "4.2.2"
  }
 },
 "nbformat": 4,
 "nbformat_minor": 4
}
