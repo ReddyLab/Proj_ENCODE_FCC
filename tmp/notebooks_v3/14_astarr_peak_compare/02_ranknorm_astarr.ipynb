{
 "cells": [
  {
   "cell_type": "markdown",
   "metadata": {},
   "source": [
    "**Set environment**"
   ]
  },
  {
   "cell_type": "code",
   "execution_count": 1,
   "metadata": {},
   "outputs": [
    {
     "name": "stdout",
     "output_type": "stream",
     "text": [
      "You are in Singularity: singularity_proj_combeffect \n",
      "BASE DIRECTORY:     /data/reddylab/Kuei \n",
      "WORK DIRECTORY:     /data/reddylab/Kuei/out \n",
      "CODE DIRECTORY:     /data/reddylab/Kuei/code \n",
      "PATH OF SOURCE:     /data/reddylab/Kuei/source \n",
      "PATH OF EXECUTABLE: /data/reddylab/Kuei/bin \n",
      "PATH OF ANNOTATION: /data/reddylab/Kuei/annotation \n",
      "PATH OF PROJECT:    /data/reddylab/Kuei/code/Proj_CombEffect_ENCODE_FCC \n",
      "PATH OF RESULTS:    /data/reddylab/Kuei/out/proj_combeffect_encode_fcc \n"
     ]
    }
   ],
   "source": [
    "suppressMessages(suppressWarnings(source(\"../config/config_sing.R\")))\n",
    "show_env()"
   ]
  },
  {
   "cell_type": "markdown",
   "metadata": {},
   "source": [
    "## Import data"
   ]
  },
  {
   "cell_type": "code",
   "execution_count": 2,
   "metadata": {},
   "outputs": [],
   "source": [
    "ASSAY    = \"KS91_K562_ASTARRseq\"\n",
    "FOLDER   = \"coverage_astarrseq_peak_macs_input\""
   ]
  },
  {
   "cell_type": "code",
   "execution_count": 3,
   "metadata": {},
   "outputs": [
    {
     "name": "stdout",
     "output_type": "stream",
     "text": [
      "[1] \"/data/reddylab/Kuei/out/proj_combeffect_encode_fcc/results/KS91_K562_ASTARRseq/coverage_astarrseq_peak_macs_input/summary/result.Log2FC.raw.deseq.WGS.tsv\"\n",
      "[1] 246850      7\n"
     ]
    },
    {
     "data": {
      "text/html": [
       "<table class=\"dataframe\">\n",
       "<caption>A tibble: 6 × 7</caption>\n",
       "<thead>\n",
       "\t<tr><th scope=col>Peak</th><th scope=col>baseMean</th><th scope=col>log2FoldChange</th><th scope=col>lfcSE</th><th scope=col>stat</th><th scope=col>pvalue</th><th scope=col>padj</th></tr>\n",
       "\t<tr><th scope=col>&lt;chr&gt;</th><th scope=col>&lt;dbl&gt;</th><th scope=col>&lt;dbl&gt;</th><th scope=col>&lt;dbl&gt;</th><th scope=col>&lt;dbl&gt;</th><th scope=col>&lt;dbl&gt;</th><th scope=col>&lt;dbl&gt;</th></tr>\n",
       "</thead>\n",
       "<tbody>\n",
       "\t<tr><td>chr1_10015_10442</td><td> 71.40375</td><td>-2.2136128</td><td>0.2691517</td><td> -8.2244061</td><td>1.961605e-16</td><td>2.910688e-15</td></tr>\n",
       "\t<tr><td>chr1_14253_14645</td><td> 68.63035</td><td> 0.2221859</td><td>0.1534101</td><td>  1.4483134</td><td>1.475294e-01</td><td>2.178106e-01</td></tr>\n",
       "\t<tr><td>chr1_16015_16477</td><td> 71.25409</td><td>-1.2712950</td><td>0.2019628</td><td> -6.2946978</td><td>3.079993e-10</td><td>2.653010e-09</td></tr>\n",
       "\t<tr><td>chr1_17237_17772</td><td>124.03128</td><td>-1.3852891</td><td>0.1638628</td><td> -8.4539594</td><td>2.815873e-17</td><td>4.431893e-16</td></tr>\n",
       "\t<tr><td>chr1_28903_29613</td><td>113.63103</td><td>-1.9422003</td><td>0.1886131</td><td>-10.2972733</td><td>7.248681e-25</td><td>1.723665e-23</td></tr>\n",
       "\t<tr><td>chr1_30803_31072</td><td> 57.37875</td><td>-0.1332069</td><td>0.2145692</td><td> -0.6208109</td><td>5.347240e-01</td><td>6.231400e-01</td></tr>\n",
       "</tbody>\n",
       "</table>\n"
      ],
      "text/latex": [
       "A tibble: 6 × 7\n",
       "\\begin{tabular}{lllllll}\n",
       " Peak & baseMean & log2FoldChange & lfcSE & stat & pvalue & padj\\\\\n",
       " <chr> & <dbl> & <dbl> & <dbl> & <dbl> & <dbl> & <dbl>\\\\\n",
       "\\hline\n",
       "\t chr1\\_10015\\_10442 &  71.40375 & -2.2136128 & 0.2691517 &  -8.2244061 & 1.961605e-16 & 2.910688e-15\\\\\n",
       "\t chr1\\_14253\\_14645 &  68.63035 &  0.2221859 & 0.1534101 &   1.4483134 & 1.475294e-01 & 2.178106e-01\\\\\n",
       "\t chr1\\_16015\\_16477 &  71.25409 & -1.2712950 & 0.2019628 &  -6.2946978 & 3.079993e-10 & 2.653010e-09\\\\\n",
       "\t chr1\\_17237\\_17772 & 124.03128 & -1.3852891 & 0.1638628 &  -8.4539594 & 2.815873e-17 & 4.431893e-16\\\\\n",
       "\t chr1\\_28903\\_29613 & 113.63103 & -1.9422003 & 0.1886131 & -10.2972733 & 7.248681e-25 & 1.723665e-23\\\\\n",
       "\t chr1\\_30803\\_31072 &  57.37875 & -0.1332069 & 0.2145692 &  -0.6208109 & 5.347240e-01 & 6.231400e-01\\\\\n",
       "\\end{tabular}\n"
      ],
      "text/markdown": [
       "\n",
       "A tibble: 6 × 7\n",
       "\n",
       "| Peak &lt;chr&gt; | baseMean &lt;dbl&gt; | log2FoldChange &lt;dbl&gt; | lfcSE &lt;dbl&gt; | stat &lt;dbl&gt; | pvalue &lt;dbl&gt; | padj &lt;dbl&gt; |\n",
       "|---|---|---|---|---|---|---|\n",
       "| chr1_10015_10442 |  71.40375 | -2.2136128 | 0.2691517 |  -8.2244061 | 1.961605e-16 | 2.910688e-15 |\n",
       "| chr1_14253_14645 |  68.63035 |  0.2221859 | 0.1534101 |   1.4483134 | 1.475294e-01 | 2.178106e-01 |\n",
       "| chr1_16015_16477 |  71.25409 | -1.2712950 | 0.2019628 |  -6.2946978 | 3.079993e-10 | 2.653010e-09 |\n",
       "| chr1_17237_17772 | 124.03128 | -1.3852891 | 0.1638628 |  -8.4539594 | 2.815873e-17 | 4.431893e-16 |\n",
       "| chr1_28903_29613 | 113.63103 | -1.9422003 | 0.1886131 | -10.2972733 | 7.248681e-25 | 1.723665e-23 |\n",
       "| chr1_30803_31072 |  57.37875 | -0.1332069 | 0.2145692 |  -0.6208109 | 5.347240e-01 | 6.231400e-01 |\n",
       "\n"
      ],
      "text/plain": [
       "  Peak             baseMean  log2FoldChange lfcSE     stat        pvalue      \n",
       "1 chr1_10015_10442  71.40375 -2.2136128     0.2691517  -8.2244061 1.961605e-16\n",
       "2 chr1_14253_14645  68.63035  0.2221859     0.1534101   1.4483134 1.475294e-01\n",
       "3 chr1_16015_16477  71.25409 -1.2712950     0.2019628  -6.2946978 3.079993e-10\n",
       "4 chr1_17237_17772 124.03128 -1.3852891     0.1638628  -8.4539594 2.815873e-17\n",
       "5 chr1_28903_29613 113.63103 -1.9422003     0.1886131 -10.2972733 7.248681e-25\n",
       "6 chr1_30803_31072  57.37875 -0.1332069     0.2145692  -0.6208109 5.347240e-01\n",
       "  padj        \n",
       "1 2.910688e-15\n",
       "2 2.178106e-01\n",
       "3 2.653010e-09\n",
       "4 4.431893e-16\n",
       "5 1.723665e-23\n",
       "6 6.231400e-01"
      ]
     },
     "metadata": {},
     "output_type": "display_data"
    }
   ],
   "source": [
    "fdiry = file.path(FD_RES, \"results\", ASSAY, FOLDER, \"summary\")\n",
    "fname = \"result.Log2FC.raw.deseq.WGS.tsv\"\n",
    "fpath = file.path(fdiry, fname)\n",
    "print(fpath)\n",
    "\n",
    "dat = read_tsv(fpath, show_col_types = FALSE)\n",
    "\n",
    "dat_log2fc = dat\n",
    "print(dim(dat))\n",
    "head(dat)"
   ]
  },
  {
   "cell_type": "code",
   "execution_count": 4,
   "metadata": {},
   "outputs": [
    {
     "name": "stdout",
     "output_type": "stream",
     "text": [
      "[1] 1451    6\n"
     ]
    },
    {
     "data": {
      "text/html": [
       "<table class=\"dataframe\">\n",
       "<caption>A tibble: 6 × 6</caption>\n",
       "<thead>\n",
       "\t<tr><th scope=col>Peak</th><th scope=col>Chrom</th><th scope=col>Start</th><th scope=col>End</th><th scope=col>Dataset</th><th scope=col>Region</th></tr>\n",
       "\t<tr><th scope=col>&lt;chr&gt;</th><th scope=col>&lt;chr&gt;</th><th scope=col>&lt;dbl&gt;</th><th scope=col>&lt;dbl&gt;</th><th scope=col>&lt;chr&gt;</th><th scope=col>&lt;chr&gt;</th></tr>\n",
       "</thead>\n",
       "<tbody>\n",
       "\t<tr><td>chr11_61792068_61793464</td><td>chr11</td><td>61792068</td><td>61793464</td><td>OL13</td><td>FADS</td></tr>\n",
       "\t<tr><td>chr11_61800085_61801113</td><td>chr11</td><td>61800085</td><td>61801113</td><td>OL13</td><td>FADS</td></tr>\n",
       "\t<tr><td>chr11_61806630_61807154</td><td>chr11</td><td>61806630</td><td>61807154</td><td>OL13</td><td>FADS</td></tr>\n",
       "\t<tr><td>chr11_61814735_61817343</td><td>chr11</td><td>61814735</td><td>61817343</td><td>OL13</td><td>FADS</td></tr>\n",
       "\t<tr><td>chr11_61822094_61822443</td><td>chr11</td><td>61822094</td><td>61822443</td><td>OL13</td><td>FADS</td></tr>\n",
       "\t<tr><td>chr11_61825795_61826306</td><td>chr11</td><td>61825795</td><td>61826306</td><td>OL13</td><td>FADS</td></tr>\n",
       "</tbody>\n",
       "</table>\n"
      ],
      "text/latex": [
       "A tibble: 6 × 6\n",
       "\\begin{tabular}{llllll}\n",
       " Peak & Chrom & Start & End & Dataset & Region\\\\\n",
       " <chr> & <chr> & <dbl> & <dbl> & <chr> & <chr>\\\\\n",
       "\\hline\n",
       "\t chr11\\_61792068\\_61793464 & chr11 & 61792068 & 61793464 & OL13 & FADS\\\\\n",
       "\t chr11\\_61800085\\_61801113 & chr11 & 61800085 & 61801113 & OL13 & FADS\\\\\n",
       "\t chr11\\_61806630\\_61807154 & chr11 & 61806630 & 61807154 & OL13 & FADS\\\\\n",
       "\t chr11\\_61814735\\_61817343 & chr11 & 61814735 & 61817343 & OL13 & FADS\\\\\n",
       "\t chr11\\_61822094\\_61822443 & chr11 & 61822094 & 61822443 & OL13 & FADS\\\\\n",
       "\t chr11\\_61825795\\_61826306 & chr11 & 61825795 & 61826306 & OL13 & FADS\\\\\n",
       "\\end{tabular}\n"
      ],
      "text/markdown": [
       "\n",
       "A tibble: 6 × 6\n",
       "\n",
       "| Peak &lt;chr&gt; | Chrom &lt;chr&gt; | Start &lt;dbl&gt; | End &lt;dbl&gt; | Dataset &lt;chr&gt; | Region &lt;chr&gt; |\n",
       "|---|---|---|---|---|---|\n",
       "| chr11_61792068_61793464 | chr11 | 61792068 | 61793464 | OL13 | FADS |\n",
       "| chr11_61800085_61801113 | chr11 | 61800085 | 61801113 | OL13 | FADS |\n",
       "| chr11_61806630_61807154 | chr11 | 61806630 | 61807154 | OL13 | FADS |\n",
       "| chr11_61814735_61817343 | chr11 | 61814735 | 61817343 | OL13 | FADS |\n",
       "| chr11_61822094_61822443 | chr11 | 61822094 | 61822443 | OL13 | FADS |\n",
       "| chr11_61825795_61826306 | chr11 | 61825795 | 61826306 | OL13 | FADS |\n",
       "\n"
      ],
      "text/plain": [
       "  Peak                    Chrom Start    End      Dataset Region\n",
       "1 chr11_61792068_61793464 chr11 61792068 61793464 OL13    FADS  \n",
       "2 chr11_61800085_61801113 chr11 61800085 61801113 OL13    FADS  \n",
       "3 chr11_61806630_61807154 chr11 61806630 61807154 OL13    FADS  \n",
       "4 chr11_61814735_61817343 chr11 61814735 61817343 OL13    FADS  \n",
       "5 chr11_61822094_61822443 chr11 61822094 61822443 OL13    FADS  \n",
       "6 chr11_61825795_61826306 chr11 61825795 61826306 OL13    FADS  "
      ]
     },
     "metadata": {},
     "output_type": "display_data"
    }
   ],
   "source": [
    "fdiry = file.path(FD_RES, \"results\", \"comparison\")\n",
    "fname = \"dat_peaks_info.tsv\"\n",
    "fpath = file.path(fdiry, fname)\n",
    "\n",
    "dat = read_tsv(fpath, show_col_types = FALSE)\n",
    "\n",
    "###\n",
    "dat_peak_info = dat\n",
    "dat_peak      = dat %>% dplyr::select(Peak, Dataset, Region)\n",
    "print(dim(dat))\n",
    "head(dat)"
   ]
  },
  {
   "cell_type": "markdown",
   "metadata": {},
   "source": [
    "## Rank normalization"
   ]
  },
  {
   "cell_type": "code",
   "execution_count": 5,
   "metadata": {},
   "outputs": [],
   "source": [
    "fun_ranknorm = function(x){\n",
    "    return(rank(x)/length(x))\n",
    "}"
   ]
  },
  {
   "cell_type": "code",
   "execution_count": 6,
   "metadata": {},
   "outputs": [
    {
     "name": "stdout",
     "output_type": "stream",
     "text": [
      "[1] 1451   12\n"
     ]
    },
    {
     "data": {
      "text/html": [
       "<table class=\"dataframe\">\n",
       "<caption>A tibble: 6 × 12</caption>\n",
       "<thead>\n",
       "\t<tr><th scope=col>Peak</th><th scope=col>Dataset</th><th scope=col>Region</th><th scope=col>baseMean</th><th scope=col>log2FoldChange</th><th scope=col>lfcSE</th><th scope=col>stat</th><th scope=col>pvalue</th><th scope=col>padj</th><th scope=col>RankNorm_Region</th><th scope=col>RankNorm_Dataset</th><th scope=col>RankNorm_Total</th></tr>\n",
       "\t<tr><th scope=col>&lt;chr&gt;</th><th scope=col>&lt;chr&gt;</th><th scope=col>&lt;chr&gt;</th><th scope=col>&lt;dbl&gt;</th><th scope=col>&lt;dbl&gt;</th><th scope=col>&lt;dbl&gt;</th><th scope=col>&lt;dbl&gt;</th><th scope=col>&lt;dbl&gt;</th><th scope=col>&lt;dbl&gt;</th><th scope=col>&lt;dbl&gt;</th><th scope=col>&lt;dbl&gt;</th><th scope=col>&lt;dbl&gt;</th></tr>\n",
       "</thead>\n",
       "<tbody>\n",
       "\t<tr><td>chr2_61524551_61524988</td><td>OL45</td><td>BCL11A</td><td>  86.96814</td><td>0.9884293</td><td>0.1778294</td><td>5.558302</td><td>2.724117e-08</td><td>1.837642e-07</td><td>0.8315217</td><td>0.9449275</td><td>0.9434873</td></tr>\n",
       "\t<tr><td>chr2_61529854_61531204</td><td>OL45</td><td>BCL11A</td><td> 291.41614</td><td>0.7922681</td><td>0.1169114</td><td>6.776653</td><td>1.229914e-11</td><td>1.231161e-10</td><td>0.6956522</td><td>0.9091787</td><td>0.9145417</td></tr>\n",
       "\t<tr><td>chr2_61536312_61537087</td><td>OL45</td><td>BCL11A</td><td>1715.53062</td><td>1.1080431</td><td>0.1827582</td><td>6.062890</td><td>1.336972e-09</td><td>1.068478e-08</td><td>0.8913043</td><td>0.9594203</td><td>0.9579600</td></tr>\n",
       "\t<tr><td>chr2_61537852_61539255</td><td>OL45</td><td>BCL11A</td><td>9063.07637</td><td>1.3395927</td><td>0.2243423</td><td>5.971199</td><td>2.355159e-09</td><td>1.827061e-08</td><td>0.9565217</td><td>0.9777778</td><td>0.9738112</td></tr>\n",
       "\t<tr><td>chr2_61545554_61545869</td><td>OL45</td><td>BCL11A</td><td>  62.54110</td><td>0.9184583</td><td>0.2287748</td><td>4.014684</td><td>5.952555e-05</td><td>2.254251e-04</td><td>0.7826087</td><td>0.9333333</td><td>0.9338387</td></tr>\n",
       "\t<tr><td>chr2_61549710_61550633</td><td>OL45</td><td>BCL11A</td><td> 119.85652</td><td>0.6213305</td><td>0.1888286</td><td>3.290446</td><td>1.000286e-03</td><td>2.841500e-03</td><td>0.5597826</td><td>0.8685990</td><td>0.8780152</td></tr>\n",
       "</tbody>\n",
       "</table>\n"
      ],
      "text/latex": [
       "A tibble: 6 × 12\n",
       "\\begin{tabular}{llllllllllll}\n",
       " Peak & Dataset & Region & baseMean & log2FoldChange & lfcSE & stat & pvalue & padj & RankNorm\\_Region & RankNorm\\_Dataset & RankNorm\\_Total\\\\\n",
       " <chr> & <chr> & <chr> & <dbl> & <dbl> & <dbl> & <dbl> & <dbl> & <dbl> & <dbl> & <dbl> & <dbl>\\\\\n",
       "\\hline\n",
       "\t chr2\\_61524551\\_61524988 & OL45 & BCL11A &   86.96814 & 0.9884293 & 0.1778294 & 5.558302 & 2.724117e-08 & 1.837642e-07 & 0.8315217 & 0.9449275 & 0.9434873\\\\\n",
       "\t chr2\\_61529854\\_61531204 & OL45 & BCL11A &  291.41614 & 0.7922681 & 0.1169114 & 6.776653 & 1.229914e-11 & 1.231161e-10 & 0.6956522 & 0.9091787 & 0.9145417\\\\\n",
       "\t chr2\\_61536312\\_61537087 & OL45 & BCL11A & 1715.53062 & 1.1080431 & 0.1827582 & 6.062890 & 1.336972e-09 & 1.068478e-08 & 0.8913043 & 0.9594203 & 0.9579600\\\\\n",
       "\t chr2\\_61537852\\_61539255 & OL45 & BCL11A & 9063.07637 & 1.3395927 & 0.2243423 & 5.971199 & 2.355159e-09 & 1.827061e-08 & 0.9565217 & 0.9777778 & 0.9738112\\\\\n",
       "\t chr2\\_61545554\\_61545869 & OL45 & BCL11A &   62.54110 & 0.9184583 & 0.2287748 & 4.014684 & 5.952555e-05 & 2.254251e-04 & 0.7826087 & 0.9333333 & 0.9338387\\\\\n",
       "\t chr2\\_61549710\\_61550633 & OL45 & BCL11A &  119.85652 & 0.6213305 & 0.1888286 & 3.290446 & 1.000286e-03 & 2.841500e-03 & 0.5597826 & 0.8685990 & 0.8780152\\\\\n",
       "\\end{tabular}\n"
      ],
      "text/markdown": [
       "\n",
       "A tibble: 6 × 12\n",
       "\n",
       "| Peak &lt;chr&gt; | Dataset &lt;chr&gt; | Region &lt;chr&gt; | baseMean &lt;dbl&gt; | log2FoldChange &lt;dbl&gt; | lfcSE &lt;dbl&gt; | stat &lt;dbl&gt; | pvalue &lt;dbl&gt; | padj &lt;dbl&gt; | RankNorm_Region &lt;dbl&gt; | RankNorm_Dataset &lt;dbl&gt; | RankNorm_Total &lt;dbl&gt; |\n",
       "|---|---|---|---|---|---|---|---|---|---|---|---|\n",
       "| chr2_61524551_61524988 | OL45 | BCL11A |   86.96814 | 0.9884293 | 0.1778294 | 5.558302 | 2.724117e-08 | 1.837642e-07 | 0.8315217 | 0.9449275 | 0.9434873 |\n",
       "| chr2_61529854_61531204 | OL45 | BCL11A |  291.41614 | 0.7922681 | 0.1169114 | 6.776653 | 1.229914e-11 | 1.231161e-10 | 0.6956522 | 0.9091787 | 0.9145417 |\n",
       "| chr2_61536312_61537087 | OL45 | BCL11A | 1715.53062 | 1.1080431 | 0.1827582 | 6.062890 | 1.336972e-09 | 1.068478e-08 | 0.8913043 | 0.9594203 | 0.9579600 |\n",
       "| chr2_61537852_61539255 | OL45 | BCL11A | 9063.07637 | 1.3395927 | 0.2243423 | 5.971199 | 2.355159e-09 | 1.827061e-08 | 0.9565217 | 0.9777778 | 0.9738112 |\n",
       "| chr2_61545554_61545869 | OL45 | BCL11A |   62.54110 | 0.9184583 | 0.2287748 | 4.014684 | 5.952555e-05 | 2.254251e-04 | 0.7826087 | 0.9333333 | 0.9338387 |\n",
       "| chr2_61549710_61550633 | OL45 | BCL11A |  119.85652 | 0.6213305 | 0.1888286 | 3.290446 | 1.000286e-03 | 2.841500e-03 | 0.5597826 | 0.8685990 | 0.8780152 |\n",
       "\n"
      ],
      "text/plain": [
       "  Peak                   Dataset Region baseMean   log2FoldChange lfcSE    \n",
       "1 chr2_61524551_61524988 OL45    BCL11A   86.96814 0.9884293      0.1778294\n",
       "2 chr2_61529854_61531204 OL45    BCL11A  291.41614 0.7922681      0.1169114\n",
       "3 chr2_61536312_61537087 OL45    BCL11A 1715.53062 1.1080431      0.1827582\n",
       "4 chr2_61537852_61539255 OL45    BCL11A 9063.07637 1.3395927      0.2243423\n",
       "5 chr2_61545554_61545869 OL45    BCL11A   62.54110 0.9184583      0.2287748\n",
       "6 chr2_61549710_61550633 OL45    BCL11A  119.85652 0.6213305      0.1888286\n",
       "  stat     pvalue       padj         RankNorm_Region RankNorm_Dataset\n",
       "1 5.558302 2.724117e-08 1.837642e-07 0.8315217       0.9449275       \n",
       "2 6.776653 1.229914e-11 1.231161e-10 0.6956522       0.9091787       \n",
       "3 6.062890 1.336972e-09 1.068478e-08 0.8913043       0.9594203       \n",
       "4 5.971199 2.355159e-09 1.827061e-08 0.9565217       0.9777778       \n",
       "5 4.014684 5.952555e-05 2.254251e-04 0.7826087       0.9333333       \n",
       "6 3.290446 1.000286e-03 2.841500e-03 0.5597826       0.8685990       \n",
       "  RankNorm_Total\n",
       "1 0.9434873     \n",
       "2 0.9145417     \n",
       "3 0.9579600     \n",
       "4 0.9738112     \n",
       "5 0.9338387     \n",
       "6 0.8780152     "
      ]
     },
     "metadata": {},
     "output_type": "display_data"
    }
   ],
   "source": [
    "dat = left_join(dat_peak, dat_log2fc, by=\"Peak\")\n",
    "\n",
    "dat = dat %>%\n",
    "    dplyr::group_by(Region) %>%\n",
    "    dplyr::mutate(RankNorm_Region  = fun_ranknorm(log2FoldChange)) %>%\n",
    "    dplyr::ungroup()\n",
    "\n",
    "dat = dat %>%\n",
    "    dplyr::group_by(Dataset) %>%\n",
    "    dplyr::mutate(RankNorm_Dataset = fun_ranknorm(log2FoldChange)) %>%\n",
    "    dplyr::ungroup()\n",
    "\n",
    "dat = dat %>%\n",
    "    dplyr::mutate(RankNorm_Total  = fun_ranknorm(log2FoldChange))\n",
    "\n",
    "dat_ranknorm = dat\n",
    "print(dim(dat))\n",
    "tail(dat)"
   ]
  },
  {
   "cell_type": "code",
   "execution_count": 7,
   "metadata": {},
   "outputs": [],
   "source": [
    "fdiry = file.path(FD_RES, \"results\", \"comparison\", \"comparison_global\")\n",
    "fname = \"result.ranknorm.astarr.tsv\"\n",
    "fpath = file.path(fdiry, fname)\n",
    "\n",
    "dat = dat_ranknorm\n",
    "write_tsv(dat, fpath)"
   ]
  },
  {
   "cell_type": "code",
   "execution_count": null,
   "metadata": {},
   "outputs": [],
   "source": []
  }
 ],
 "metadata": {
  "kernelspec": {
   "display_name": "R (alex_py3)",
   "language": "R",
   "name": "ir_alex_py3"
  },
  "language_info": {
   "codemirror_mode": "r",
   "file_extension": ".r",
   "mimetype": "text/x-r-source",
   "name": "R",
   "pygments_lexer": "r",
   "version": "3.6.2"
  }
 },
 "nbformat": 4,
 "nbformat_minor": 4
}
