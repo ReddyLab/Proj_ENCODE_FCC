{
 "cells": [
  {
   "cell_type": "code",
   "execution_count": 1,
   "id": "7965b321",
   "metadata": {},
   "outputs": [
    {
     "name": "stdout",
     "output_type": "stream",
     "text": [
      "You are in Singularity: singularity_proj_combeffect \n",
      "BASE DIRECTORY:     /data/reddylab/Kuei \n",
      "WORK DIRECTORY:     /data/reddylab/Kuei/out \n",
      "CODE DIRECTORY:     /data/reddylab/Kuei/code \n",
      "PATH OF SOURCE:     /data/reddylab/Kuei/source \n",
      "PATH OF EXECUTABLE: /data/reddylab/Kuei/bin \n",
      "PATH OF ANNOTATION: /data/reddylab/Kuei/annotation \n",
      "PATH OF PROJECT:    /data/reddylab/Kuei/code/Proj_CombEffect_ENCODE_FCC \n",
      "PATH OF RESULTS:    /data/reddylab/Kuei/out/proj_combeffect_encode_fcc \n"
     ]
    }
   ],
   "source": [
    "suppressMessages(suppressWarnings(source(\"../config/config_sing.R\")))\n",
    "show_env()"
   ]
  },
  {
   "cell_type": "code",
   "execution_count": 2,
   "id": "4b03e28d",
   "metadata": {},
   "outputs": [
    {
     "name": "stdout",
     "output_type": "stream",
     "text": [
      "[1] 246852      6\n"
     ]
    },
    {
     "data": {
      "text/html": [
       "<table class=\"dataframe\">\n",
       "<caption>A tibble: 6 × 6</caption>\n",
       "<thead>\n",
       "\t<tr><th scope=col>Peak</th><th scope=col>Input</th><th scope=col>Length</th><th scope=col>Pct_GC</th><th scope=col>Residual</th><th scope=col>Score</th></tr>\n",
       "\t<tr><th scope=col>&lt;chr&gt;</th><th scope=col>&lt;dbl&gt;</th><th scope=col>&lt;dbl&gt;</th><th scope=col>&lt;dbl&gt;</th><th scope=col>&lt;dbl&gt;</th><th scope=col>&lt;dbl&gt;</th></tr>\n",
       "</thead>\n",
       "<tbody>\n",
       "\t<tr><td>chr1_10015_10442</td><td>0.4863317</td><td>427</td><td>0.522248</td><td> 0.25149985</td><td>0.1362392</td></tr>\n",
       "\t<tr><td>chr1_14253_14645</td><td>0.3152472</td><td>392</td><td>0.573980</td><td> 0.19879784</td><td>0.1357280</td></tr>\n",
       "\t<tr><td>chr1_16015_16477</td><td>0.4361424</td><td>462</td><td>0.541126</td><td> 0.08292808</td><td>0.1346040</td></tr>\n",
       "\t<tr><td>chr1_17237_17772</td><td>0.8007562</td><td>535</td><td>0.614953</td><td> 0.20062968</td><td>0.1357457</td></tr>\n",
       "\t<tr><td>chr1_28903_29613</td><td>0.7629703</td><td>710</td><td>0.759155</td><td>-0.42906879</td><td>0.1296375</td></tr>\n",
       "\t<tr><td>chr1_30803_31072</td><td>0.2774187</td><td>269</td><td>0.501859</td><td> 0.57699942</td><td>0.1393966</td></tr>\n",
       "</tbody>\n",
       "</table>\n"
      ],
      "text/latex": [
       "A tibble: 6 × 6\n",
       "\\begin{tabular}{llllll}\n",
       " Peak & Input & Length & Pct\\_GC & Residual & Score\\\\\n",
       " <chr> & <dbl> & <dbl> & <dbl> & <dbl> & <dbl>\\\\\n",
       "\\hline\n",
       "\t chr1\\_10015\\_10442 & 0.4863317 & 427 & 0.522248 &  0.25149985 & 0.1362392\\\\\n",
       "\t chr1\\_14253\\_14645 & 0.3152472 & 392 & 0.573980 &  0.19879784 & 0.1357280\\\\\n",
       "\t chr1\\_16015\\_16477 & 0.4361424 & 462 & 0.541126 &  0.08292808 & 0.1346040\\\\\n",
       "\t chr1\\_17237\\_17772 & 0.8007562 & 535 & 0.614953 &  0.20062968 & 0.1357457\\\\\n",
       "\t chr1\\_28903\\_29613 & 0.7629703 & 710 & 0.759155 & -0.42906879 & 0.1296375\\\\\n",
       "\t chr1\\_30803\\_31072 & 0.2774187 & 269 & 0.501859 &  0.57699942 & 0.1393966\\\\\n",
       "\\end{tabular}\n"
      ],
      "text/markdown": [
       "\n",
       "A tibble: 6 × 6\n",
       "\n",
       "| Peak &lt;chr&gt; | Input &lt;dbl&gt; | Length &lt;dbl&gt; | Pct_GC &lt;dbl&gt; | Residual &lt;dbl&gt; | Score &lt;dbl&gt; |\n",
       "|---|---|---|---|---|---|\n",
       "| chr1_10015_10442 | 0.4863317 | 427 | 0.522248 |  0.25149985 | 0.1362392 |\n",
       "| chr1_14253_14645 | 0.3152472 | 392 | 0.573980 |  0.19879784 | 0.1357280 |\n",
       "| chr1_16015_16477 | 0.4361424 | 462 | 0.541126 |  0.08292808 | 0.1346040 |\n",
       "| chr1_17237_17772 | 0.8007562 | 535 | 0.614953 |  0.20062968 | 0.1357457 |\n",
       "| chr1_28903_29613 | 0.7629703 | 710 | 0.759155 | -0.42906879 | 0.1296375 |\n",
       "| chr1_30803_31072 | 0.2774187 | 269 | 0.501859 |  0.57699942 | 0.1393966 |\n",
       "\n"
      ],
      "text/plain": [
       "  Peak             Input     Length Pct_GC   Residual    Score    \n",
       "1 chr1_10015_10442 0.4863317 427    0.522248  0.25149985 0.1362392\n",
       "2 chr1_14253_14645 0.3152472 392    0.573980  0.19879784 0.1357280\n",
       "3 chr1_16015_16477 0.4361424 462    0.541126  0.08292808 0.1346040\n",
       "4 chr1_17237_17772 0.8007562 535    0.614953  0.20062968 0.1357457\n",
       "5 chr1_28903_29613 0.7629703 710    0.759155 -0.42906879 0.1296375\n",
       "6 chr1_30803_31072 0.2774187 269    0.501859  0.57699942 0.1393966"
      ]
     },
     "metadata": {},
     "output_type": "display_data"
    }
   ],
   "source": [
    "ASSAY   = \"KS91_K562_ASTARRseq\"\n",
    "FOLDER  = \"coverage_astarrseq_peak_macs_input\"\n",
    "\n",
    "fdiry = file.path(FD_RES, \"results\", ASSAY, FOLDER, \"summary\")\n",
    "fname = \"result.chromatin_accessibility.WGS.tsv\"\n",
    "fpath = file.path(fdiry, fname)\n",
    "\n",
    "dat = read_tsv(fpath, show_col_types = FALSE)\n",
    "dat_chromatin_access =  dat\n",
    "print(dim(dat))\n",
    "head(dat)"
   ]
  },
  {
   "cell_type": "code",
   "execution_count": 3,
   "id": "debce645",
   "metadata": {},
   "outputs": [
    {
     "name": "stdout",
     "output_type": "stream",
     "text": [
      "[1] 417   5\n"
     ]
    },
    {
     "data": {
      "text/html": [
       "<table class=\"dataframe\">\n",
       "<caption>A tibble: 6 × 5</caption>\n",
       "<thead>\n",
       "\t<tr><th scope=col>Chrom</th><th scope=col>Start</th><th scope=col>End</th><th scope=col>Peak</th><th scope=col>Region</th></tr>\n",
       "\t<tr><th scope=col>&lt;chr&gt;</th><th scope=col>&lt;dbl&gt;</th><th scope=col>&lt;dbl&gt;</th><th scope=col>&lt;chr&gt;</th><th scope=col>&lt;chr&gt;</th></tr>\n",
       "</thead>\n",
       "<tbody>\n",
       "\t<tr><td>chr8</td><td>126778902</td><td>126779728</td><td>chr8_126778902_126779728</td><td>MYC</td></tr>\n",
       "\t<tr><td>chr8</td><td>126782925</td><td>126783318</td><td>chr8_126782925_126783318</td><td>MYC</td></tr>\n",
       "\t<tr><td>chr8</td><td>126804776</td><td>126805825</td><td>chr8_126804776_126805825</td><td>MYC</td></tr>\n",
       "\t<tr><td>chr8</td><td>126817018</td><td>126817490</td><td>chr8_126817018_126817490</td><td>MYC</td></tr>\n",
       "\t<tr><td>chr8</td><td>126820465</td><td>126821393</td><td>chr8_126820465_126821393</td><td>MYC</td></tr>\n",
       "\t<tr><td>chr8</td><td>126824093</td><td>126824987</td><td>chr8_126824093_126824987</td><td>MYC</td></tr>\n",
       "</tbody>\n",
       "</table>\n"
      ],
      "text/latex": [
       "A tibble: 6 × 5\n",
       "\\begin{tabular}{lllll}\n",
       " Chrom & Start & End & Peak & Region\\\\\n",
       " <chr> & <dbl> & <dbl> & <chr> & <chr>\\\\\n",
       "\\hline\n",
       "\t chr8 & 126778902 & 126779728 & chr8\\_126778902\\_126779728 & MYC\\\\\n",
       "\t chr8 & 126782925 & 126783318 & chr8\\_126782925\\_126783318 & MYC\\\\\n",
       "\t chr8 & 126804776 & 126805825 & chr8\\_126804776\\_126805825 & MYC\\\\\n",
       "\t chr8 & 126817018 & 126817490 & chr8\\_126817018\\_126817490 & MYC\\\\\n",
       "\t chr8 & 126820465 & 126821393 & chr8\\_126820465\\_126821393 & MYC\\\\\n",
       "\t chr8 & 126824093 & 126824987 & chr8\\_126824093\\_126824987 & MYC\\\\\n",
       "\\end{tabular}\n"
      ],
      "text/markdown": [
       "\n",
       "A tibble: 6 × 5\n",
       "\n",
       "| Chrom &lt;chr&gt; | Start &lt;dbl&gt; | End &lt;dbl&gt; | Peak &lt;chr&gt; | Region &lt;chr&gt; |\n",
       "|---|---|---|---|---|\n",
       "| chr8 | 126778902 | 126779728 | chr8_126778902_126779728 | MYC |\n",
       "| chr8 | 126782925 | 126783318 | chr8_126782925_126783318 | MYC |\n",
       "| chr8 | 126804776 | 126805825 | chr8_126804776_126805825 | MYC |\n",
       "| chr8 | 126817018 | 126817490 | chr8_126817018_126817490 | MYC |\n",
       "| chr8 | 126820465 | 126821393 | chr8_126820465_126821393 | MYC |\n",
       "| chr8 | 126824093 | 126824987 | chr8_126824093_126824987 | MYC |\n",
       "\n"
      ],
      "text/plain": [
       "  Chrom Start     End       Peak                     Region\n",
       "1 chr8  126778902 126779728 chr8_126778902_126779728 MYC   \n",
       "2 chr8  126782925 126783318 chr8_126782925_126783318 MYC   \n",
       "3 chr8  126804776 126805825 chr8_126804776_126805825 MYC   \n",
       "4 chr8  126817018 126817490 chr8_126817018_126817490 MYC   \n",
       "5 chr8  126820465 126821393 chr8_126820465_126821393 MYC   \n",
       "6 chr8  126824093 126824987 chr8_126824093_126824987 MYC   "
      ]
     },
     "metadata": {},
     "output_type": "display_data"
    }
   ],
   "source": [
    "### set file path\n",
    "fdiry = file.path(FD_RES, \"region\", \"KS91_K562_ASTARRseq_peak_macs\")\n",
    "fname = \"KS91_K562_hg38_ASTARRseq_Input.peaks.MYC.FADS.GATA1.tsv\"\n",
    "fpath = file.path(fdiry, fname)\n",
    "\n",
    "### import data\n",
    "dat_region = read_tsv(fpath, show_col_types = FALSE)\n",
    "peaks = dat_region$Peak\n",
    "\n",
    "print(dim(dat_region))\n",
    "head(dat_region)"
   ]
  },
  {
   "cell_type": "code",
   "execution_count": 4,
   "id": "3bd0aeb1",
   "metadata": {},
   "outputs": [
    {
     "name": "stdout",
     "output_type": "stream",
     "text": [
      "[1] 0\n"
     ]
    },
    {
     "data": {
      "text/html": [
       "<table class=\"dataframe\">\n",
       "<caption>A tibble: 6 × 11</caption>\n",
       "<thead>\n",
       "\t<tr><th scope=col>Chrom</th><th scope=col>Start</th><th scope=col>End</th><th scope=col>Peak</th><th scope=col>Region</th><th scope=col>Input</th><th scope=col>Length</th><th scope=col>Pct_GC</th><th scope=col>Residual</th><th scope=col>Score</th><th scope=col>Name</th></tr>\n",
       "\t<tr><th scope=col>&lt;chr&gt;</th><th scope=col>&lt;dbl&gt;</th><th scope=col>&lt;dbl&gt;</th><th scope=col>&lt;fct&gt;</th><th scope=col>&lt;chr&gt;</th><th scope=col>&lt;dbl&gt;</th><th scope=col>&lt;dbl&gt;</th><th scope=col>&lt;dbl&gt;</th><th scope=col>&lt;dbl&gt;</th><th scope=col>&lt;dbl&gt;</th><th scope=col>&lt;chr&gt;</th></tr>\n",
       "</thead>\n",
       "<tbody>\n",
       "\t<tr><td>chr8</td><td>126778902</td><td>126779728</td><td>chr8_126778902_126779728</td><td>MYC</td><td>1.7601910</td><td> 826</td><td>0.412833</td><td> 0.17579841</td><td>0.1355049</td><td>Chromatin Accessibility</td></tr>\n",
       "\t<tr><td>chr8</td><td>126782925</td><td>126783318</td><td>chr8_126782925_126783318</td><td>MYC</td><td>0.2234409</td><td> 393</td><td>0.340967</td><td> 0.10360923</td><td>0.1348046</td><td>Chromatin Accessibility</td></tr>\n",
       "\t<tr><td>chr8</td><td>126804776</td><td>126805825</td><td>chr8_126804776_126805825</td><td>MYC</td><td>2.5906950</td><td>1049</td><td>0.526215</td><td> 0.25203655</td><td>0.1362444</td><td>Chromatin Accessibility</td></tr>\n",
       "\t<tr><td>chr8</td><td>126817018</td><td>126817490</td><td>chr8_126817018_126817490</td><td>MYC</td><td>0.4259708</td><td> 472</td><td>0.451271</td><td> 0.03893288</td><td>0.1341772</td><td>Chromatin Accessibility</td></tr>\n",
       "\t<tr><td>chr8</td><td>126820465</td><td>126821393</td><td>chr8_126820465_126821393</td><td>MYC</td><td>1.1059287</td><td> 928</td><td>0.528017</td><td>-0.82346447</td><td>0.1258117</td><td>Chromatin Accessibility</td></tr>\n",
       "\t<tr><td>chr8</td><td>126824093</td><td>126824987</td><td>chr8_126824093_126824987</td><td>MYC</td><td>0.6657159</td><td> 894</td><td>0.430649</td><td>-1.14867711</td><td>0.1226570</td><td>Chromatin Accessibility</td></tr>\n",
       "</tbody>\n",
       "</table>\n"
      ],
      "text/latex": [
       "A tibble: 6 × 11\n",
       "\\begin{tabular}{lllllllllll}\n",
       " Chrom & Start & End & Peak & Region & Input & Length & Pct\\_GC & Residual & Score & Name\\\\\n",
       " <chr> & <dbl> & <dbl> & <fct> & <chr> & <dbl> & <dbl> & <dbl> & <dbl> & <dbl> & <chr>\\\\\n",
       "\\hline\n",
       "\t chr8 & 126778902 & 126779728 & chr8\\_126778902\\_126779728 & MYC & 1.7601910 &  826 & 0.412833 &  0.17579841 & 0.1355049 & Chromatin Accessibility\\\\\n",
       "\t chr8 & 126782925 & 126783318 & chr8\\_126782925\\_126783318 & MYC & 0.2234409 &  393 & 0.340967 &  0.10360923 & 0.1348046 & Chromatin Accessibility\\\\\n",
       "\t chr8 & 126804776 & 126805825 & chr8\\_126804776\\_126805825 & MYC & 2.5906950 & 1049 & 0.526215 &  0.25203655 & 0.1362444 & Chromatin Accessibility\\\\\n",
       "\t chr8 & 126817018 & 126817490 & chr8\\_126817018\\_126817490 & MYC & 0.4259708 &  472 & 0.451271 &  0.03893288 & 0.1341772 & Chromatin Accessibility\\\\\n",
       "\t chr8 & 126820465 & 126821393 & chr8\\_126820465\\_126821393 & MYC & 1.1059287 &  928 & 0.528017 & -0.82346447 & 0.1258117 & Chromatin Accessibility\\\\\n",
       "\t chr8 & 126824093 & 126824987 & chr8\\_126824093\\_126824987 & MYC & 0.6657159 &  894 & 0.430649 & -1.14867711 & 0.1226570 & Chromatin Accessibility\\\\\n",
       "\\end{tabular}\n"
      ],
      "text/markdown": [
       "\n",
       "A tibble: 6 × 11\n",
       "\n",
       "| Chrom &lt;chr&gt; | Start &lt;dbl&gt; | End &lt;dbl&gt; | Peak &lt;fct&gt; | Region &lt;chr&gt; | Input &lt;dbl&gt; | Length &lt;dbl&gt; | Pct_GC &lt;dbl&gt; | Residual &lt;dbl&gt; | Score &lt;dbl&gt; | Name &lt;chr&gt; |\n",
       "|---|---|---|---|---|---|---|---|---|---|---|\n",
       "| chr8 | 126778902 | 126779728 | chr8_126778902_126779728 | MYC | 1.7601910 |  826 | 0.412833 |  0.17579841 | 0.1355049 | Chromatin Accessibility |\n",
       "| chr8 | 126782925 | 126783318 | chr8_126782925_126783318 | MYC | 0.2234409 |  393 | 0.340967 |  0.10360923 | 0.1348046 | Chromatin Accessibility |\n",
       "| chr8 | 126804776 | 126805825 | chr8_126804776_126805825 | MYC | 2.5906950 | 1049 | 0.526215 |  0.25203655 | 0.1362444 | Chromatin Accessibility |\n",
       "| chr8 | 126817018 | 126817490 | chr8_126817018_126817490 | MYC | 0.4259708 |  472 | 0.451271 |  0.03893288 | 0.1341772 | Chromatin Accessibility |\n",
       "| chr8 | 126820465 | 126821393 | chr8_126820465_126821393 | MYC | 1.1059287 |  928 | 0.528017 | -0.82346447 | 0.1258117 | Chromatin Accessibility |\n",
       "| chr8 | 126824093 | 126824987 | chr8_126824093_126824987 | MYC | 0.6657159 |  894 | 0.430649 | -1.14867711 | 0.1226570 | Chromatin Accessibility |\n",
       "\n"
      ],
      "text/plain": [
       "  Chrom Start     End       Peak                     Region Input     Length\n",
       "1 chr8  126778902 126779728 chr8_126778902_126779728 MYC    1.7601910  826  \n",
       "2 chr8  126782925 126783318 chr8_126782925_126783318 MYC    0.2234409  393  \n",
       "3 chr8  126804776 126805825 chr8_126804776_126805825 MYC    2.5906950 1049  \n",
       "4 chr8  126817018 126817490 chr8_126817018_126817490 MYC    0.4259708  472  \n",
       "5 chr8  126820465 126821393 chr8_126820465_126821393 MYC    1.1059287  928  \n",
       "6 chr8  126824093 126824987 chr8_126824093_126824987 MYC    0.6657159  894  \n",
       "  Pct_GC   Residual    Score     Name                   \n",
       "1 0.412833  0.17579841 0.1355049 Chromatin Accessibility\n",
       "2 0.340967  0.10360923 0.1348046 Chromatin Accessibility\n",
       "3 0.526215  0.25203655 0.1362444 Chromatin Accessibility\n",
       "4 0.451271  0.03893288 0.1341772 Chromatin Accessibility\n",
       "5 0.528017 -0.82346447 0.1258117 Chromatin Accessibility\n",
       "6 0.430649 -1.14867711 0.1226570 Chromatin Accessibility"
      ]
     },
     "metadata": {},
     "output_type": "display_data"
    }
   ],
   "source": [
    "dat = left_join(dat_region, dat_chromatin_access, by = \"Peak\")\n",
    "dat$Name = \"Chromatin Accessibility\"\n",
    "dat$Peak = factor(dat$Peak, levels=peaks)\n",
    "print(sum(is.na(dat$Score)))\n",
    "head(dat)"
   ]
  },
  {
   "cell_type": "code",
   "execution_count": 5,
   "id": "7e9049a6",
   "metadata": {},
   "outputs": [],
   "source": [
    "fdiry = file.path(FD_RES, \"results\", \"comparison\", \"comparison_global\")\n",
    "fname = \"result.chromatin_accessibility.subset.tsv\"\n",
    "fpath = file.path(fdiry, fname)\n",
    "write_tsv(dat, fpath)"
   ]
  },
  {
   "cell_type": "code",
   "execution_count": null,
   "id": "74151f2d",
   "metadata": {},
   "outputs": [],
   "source": []
  }
 ],
 "metadata": {
  "kernelspec": {
   "display_name": "R",
   "language": "R",
   "name": "ir"
  },
  "language_info": {
   "codemirror_mode": "r",
   "file_extension": ".r",
   "mimetype": "text/x-r-source",
   "name": "R",
   "pygments_lexer": "r",
   "version": "4.2.2"
  }
 },
 "nbformat": 4,
 "nbformat_minor": 5
}
