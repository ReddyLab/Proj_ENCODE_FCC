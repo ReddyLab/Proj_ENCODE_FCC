{
 "cells": [
  {
   "cell_type": "code",
   "execution_count": 1,
   "id": "6a2aa0b2",
   "metadata": {},
   "outputs": [
    {
     "name": "stdout",
     "output_type": "stream",
     "text": [
      "You are in Singularity: singularity_proj_combeffect \n",
      "BASE DIRECTORY:     /data/reddylab/Kuei \n",
      "WORK DIRECTORY:     /data/reddylab/Kuei/out \n",
      "CODE DIRECTORY:     /data/reddylab/Kuei/code \n",
      "PATH OF SOURCE:     /data/reddylab/Kuei/source \n",
      "PATH OF EXECUTABLE: /data/reddylab/Kuei/bin \n",
      "PATH OF ANNOTATION: /data/reddylab/Kuei/annotation \n",
      "PATH OF PROJECT:    /data/reddylab/Kuei/code/Proj_CombEffect_ENCODE_FCC \n",
      "PATH OF RESULTS:    /data/reddylab/Kuei/out/proj_combeffect_encode_fcc \n"
     ]
    }
   ],
   "source": [
    "suppressMessages(suppressWarnings(source(\"../config/config_sing.R\")))\n",
    "show_env()"
   ]
  },
  {
   "cell_type": "code",
   "execution_count": 2,
   "id": "e17ca352",
   "metadata": {},
   "outputs": [
    {
     "name": "stdout",
     "output_type": "stream",
     "text": [
      "[1] 120179      6\n"
     ]
    },
    {
     "data": {
      "text/html": [
       "<table class=\"dataframe\">\n",
       "<caption>A tibble: 6 × 6</caption>\n",
       "<thead>\n",
       "\t<tr><th scope=col>Peak</th><th scope=col>Name</th><th scope=col>Count</th><th scope=col>Total</th><th scope=col>Freq</th><th scope=col>Type</th></tr>\n",
       "\t<tr><th scope=col>&lt;chr&gt;</th><th scope=col>&lt;chr&gt;</th><th scope=col>&lt;dbl&gt;</th><th scope=col>&lt;dbl&gt;</th><th scope=col>&lt;dbl&gt;</th><th scope=col>&lt;chr&gt;</th></tr>\n",
       "</thead>\n",
       "<tbody>\n",
       "\t<tr><td>chr1_100027983_100029702</td><td>Low-DNase</td><td>1</td><td>1</td><td>1.0000000</td><td>CCRE</td></tr>\n",
       "\t<tr><td>chr1_100036871_100039191</td><td>Low-DNase</td><td>2</td><td>6</td><td>0.3333333</td><td>CCRE</td></tr>\n",
       "\t<tr><td>chr1_100036871_100039191</td><td>pELS     </td><td>3</td><td>6</td><td>0.5000000</td><td>CCRE</td></tr>\n",
       "\t<tr><td>chr1_100036871_100039191</td><td>PLS      </td><td>1</td><td>6</td><td>0.1666667</td><td>CCRE</td></tr>\n",
       "\t<tr><td>chr1_100048234_100048985</td><td>Low-DNase</td><td>1</td><td>1</td><td>1.0000000</td><td>CCRE</td></tr>\n",
       "\t<tr><td>chr1_100049562_100050540</td><td>Low-DNase</td><td>1</td><td>1</td><td>1.0000000</td><td>CCRE</td></tr>\n",
       "</tbody>\n",
       "</table>\n"
      ],
      "text/latex": [
       "A tibble: 6 × 6\n",
       "\\begin{tabular}{llllll}\n",
       " Peak & Name & Count & Total & Freq & Type\\\\\n",
       " <chr> & <chr> & <dbl> & <dbl> & <dbl> & <chr>\\\\\n",
       "\\hline\n",
       "\t chr1\\_100027983\\_100029702 & Low-DNase & 1 & 1 & 1.0000000 & CCRE\\\\\n",
       "\t chr1\\_100036871\\_100039191 & Low-DNase & 2 & 6 & 0.3333333 & CCRE\\\\\n",
       "\t chr1\\_100036871\\_100039191 & pELS      & 3 & 6 & 0.5000000 & CCRE\\\\\n",
       "\t chr1\\_100036871\\_100039191 & PLS       & 1 & 6 & 0.1666667 & CCRE\\\\\n",
       "\t chr1\\_100048234\\_100048985 & Low-DNase & 1 & 1 & 1.0000000 & CCRE\\\\\n",
       "\t chr1\\_100049562\\_100050540 & Low-DNase & 1 & 1 & 1.0000000 & CCRE\\\\\n",
       "\\end{tabular}\n"
      ],
      "text/markdown": [
       "\n",
       "A tibble: 6 × 6\n",
       "\n",
       "| Peak &lt;chr&gt; | Name &lt;chr&gt; | Count &lt;dbl&gt; | Total &lt;dbl&gt; | Freq &lt;dbl&gt; | Type &lt;chr&gt; |\n",
       "|---|---|---|---|---|---|\n",
       "| chr1_100027983_100029702 | Low-DNase | 1 | 1 | 1.0000000 | CCRE |\n",
       "| chr1_100036871_100039191 | Low-DNase | 2 | 6 | 0.3333333 | CCRE |\n",
       "| chr1_100036871_100039191 | pELS      | 3 | 6 | 0.5000000 | CCRE |\n",
       "| chr1_100036871_100039191 | PLS       | 1 | 6 | 0.1666667 | CCRE |\n",
       "| chr1_100048234_100048985 | Low-DNase | 1 | 1 | 1.0000000 | CCRE |\n",
       "| chr1_100049562_100050540 | Low-DNase | 1 | 1 | 1.0000000 | CCRE |\n",
       "\n"
      ],
      "text/plain": [
       "  Peak                     Name      Count Total Freq      Type\n",
       "1 chr1_100027983_100029702 Low-DNase 1     1     1.0000000 CCRE\n",
       "2 chr1_100036871_100039191 Low-DNase 2     6     0.3333333 CCRE\n",
       "3 chr1_100036871_100039191 pELS      3     6     0.5000000 CCRE\n",
       "4 chr1_100036871_100039191 PLS       1     6     0.1666667 CCRE\n",
       "5 chr1_100048234_100048985 Low-DNase 1     1     1.0000000 CCRE\n",
       "6 chr1_100049562_100050540 Low-DNase 1     1     1.0000000 CCRE"
      ]
     },
     "metadata": {},
     "output_type": "display_data"
    }
   ],
   "source": [
    "fdiry = file.path(FD_RES, \"region\", \"KS91_K562_ASTARRseq_peak_macs\")\n",
    "fname = \"KS91_K562_hg38_ASTARRseq_Input.count.ccre_all.tsv\"\n",
    "fpath = file.path(fdiry, fname)\n",
    "\n",
    "dat = read_tsv(fpath, show_col_types = FALSE) %>% dplyr::mutate(Type = \"CCRE\")\n",
    "dat_peak_count_ccre = dat\n",
    "print(dim(dat))\n",
    "head(dat)"
   ]
  },
  {
   "cell_type": "code",
   "execution_count": 3,
   "id": "66bcb4b4",
   "metadata": {},
   "outputs": [
    {
     "name": "stdout",
     "output_type": "stream",
     "text": [
      "[1] 4732739       6\n"
     ]
    },
    {
     "data": {
      "text/html": [
       "<table class=\"dataframe\">\n",
       "<caption>A tibble: 6 × 6</caption>\n",
       "<thead>\n",
       "\t<tr><th scope=col>Peak</th><th scope=col>Name</th><th scope=col>Count</th><th scope=col>Total</th><th scope=col>Freq</th><th scope=col>Type</th></tr>\n",
       "\t<tr><th scope=col>&lt;chr&gt;</th><th scope=col>&lt;chr&gt;</th><th scope=col>&lt;dbl&gt;</th><th scope=col>&lt;dbl&gt;</th><th scope=col>&lt;dbl&gt;</th><th scope=col>&lt;chr&gt;</th></tr>\n",
       "</thead>\n",
       "<tbody>\n",
       "\t<tr><td>chr1_100006256_100006880</td><td>TAF15</td><td>1</td><td>1</td><td>1.0000000</td><td>TF-Binding</td></tr>\n",
       "\t<tr><td>chr1_10002087_10003910  </td><td>CBX2 </td><td>1</td><td>6</td><td>0.1666667</td><td>TF-Binding</td></tr>\n",
       "\t<tr><td>chr1_10002087_10003910  </td><td>CBX8 </td><td>1</td><td>6</td><td>0.1666667</td><td>TF-Binding</td></tr>\n",
       "\t<tr><td>chr1_10002087_10003910  </td><td>CEBPB</td><td>1</td><td>6</td><td>0.1666667</td><td>TF-Binding</td></tr>\n",
       "\t<tr><td>chr1_10002087_10003910  </td><td>ETS1 </td><td>1</td><td>6</td><td>0.1666667</td><td>TF-Binding</td></tr>\n",
       "\t<tr><td>chr1_10002087_10003910  </td><td>HINFP</td><td>1</td><td>6</td><td>0.1666667</td><td>TF-Binding</td></tr>\n",
       "</tbody>\n",
       "</table>\n"
      ],
      "text/latex": [
       "A tibble: 6 × 6\n",
       "\\begin{tabular}{llllll}\n",
       " Peak & Name & Count & Total & Freq & Type\\\\\n",
       " <chr> & <chr> & <dbl> & <dbl> & <dbl> & <chr>\\\\\n",
       "\\hline\n",
       "\t chr1\\_100006256\\_100006880 & TAF15 & 1 & 1 & 1.0000000 & TF-Binding\\\\\n",
       "\t chr1\\_10002087\\_10003910   & CBX2  & 1 & 6 & 0.1666667 & TF-Binding\\\\\n",
       "\t chr1\\_10002087\\_10003910   & CBX8  & 1 & 6 & 0.1666667 & TF-Binding\\\\\n",
       "\t chr1\\_10002087\\_10003910   & CEBPB & 1 & 6 & 0.1666667 & TF-Binding\\\\\n",
       "\t chr1\\_10002087\\_10003910   & ETS1  & 1 & 6 & 0.1666667 & TF-Binding\\\\\n",
       "\t chr1\\_10002087\\_10003910   & HINFP & 1 & 6 & 0.1666667 & TF-Binding\\\\\n",
       "\\end{tabular}\n"
      ],
      "text/markdown": [
       "\n",
       "A tibble: 6 × 6\n",
       "\n",
       "| Peak &lt;chr&gt; | Name &lt;chr&gt; | Count &lt;dbl&gt; | Total &lt;dbl&gt; | Freq &lt;dbl&gt; | Type &lt;chr&gt; |\n",
       "|---|---|---|---|---|---|\n",
       "| chr1_100006256_100006880 | TAF15 | 1 | 1 | 1.0000000 | TF-Binding |\n",
       "| chr1_10002087_10003910   | CBX2  | 1 | 6 | 0.1666667 | TF-Binding |\n",
       "| chr1_10002087_10003910   | CBX8  | 1 | 6 | 0.1666667 | TF-Binding |\n",
       "| chr1_10002087_10003910   | CEBPB | 1 | 6 | 0.1666667 | TF-Binding |\n",
       "| chr1_10002087_10003910   | ETS1  | 1 | 6 | 0.1666667 | TF-Binding |\n",
       "| chr1_10002087_10003910   | HINFP | 1 | 6 | 0.1666667 | TF-Binding |\n",
       "\n"
      ],
      "text/plain": [
       "  Peak                     Name  Count Total Freq      Type      \n",
       "1 chr1_100006256_100006880 TAF15 1     1     1.0000000 TF-Binding\n",
       "2 chr1_10002087_10003910   CBX2  1     6     0.1666667 TF-Binding\n",
       "3 chr1_10002087_10003910   CBX8  1     6     0.1666667 TF-Binding\n",
       "4 chr1_10002087_10003910   CEBPB 1     6     0.1666667 TF-Binding\n",
       "5 chr1_10002087_10003910   ETS1  1     6     0.1666667 TF-Binding\n",
       "6 chr1_10002087_10003910   HINFP 1     6     0.1666667 TF-Binding"
      ]
     },
     "metadata": {},
     "output_type": "display_data"
    }
   ],
   "source": [
    "fdiry = file.path(FD_RES, \"region\", \"KS91_K562_ASTARRseq_peak_macs\")\n",
    "fname = \"KS91_K562_hg38_ASTARRseq_Input.count.remap2022_nr.tsv\"\n",
    "fpath = file.path(fdiry, fname)\n",
    "\n",
    "dat = read_tsv(fpath, show_col_types = FALSE) %>% dplyr::mutate(Type = \"TF-Binding\")\n",
    "dat_peak_count_remap = dat\n",
    "print(dim(dat))\n",
    "head(dat)"
   ]
  },
  {
   "cell_type": "code",
   "execution_count": 4,
   "id": "de334817",
   "metadata": {},
   "outputs": [
    {
     "name": "stdout",
     "output_type": "stream",
     "text": [
      "[1] 19001     5\n"
     ]
    },
    {
     "data": {
      "text/html": [
       "<table class=\"dataframe\">\n",
       "<caption>A tibble: 6 × 5</caption>\n",
       "<thead>\n",
       "\t<tr><th scope=col>Peak</th><th scope=col>Name</th><th scope=col>Count</th><th scope=col>Annotate</th><th scope=col>Type</th></tr>\n",
       "\t<tr><th scope=col>&lt;chr&gt;</th><th scope=col>&lt;chr&gt;</th><th scope=col>&lt;dbl&gt;</th><th scope=col>&lt;chr&gt;</th><th scope=col>&lt;chr&gt;</th></tr>\n",
       "</thead>\n",
       "<tbody>\n",
       "\t<tr><td>chr1_100036871_100039191</td><td>TSS</td><td>2</td><td>ENSG00000288826,MFSD14A</td><td>Promoter_Enhancer</td></tr>\n",
       "\t<tr><td>chr1_100098989_100100659</td><td>TSS</td><td>1</td><td>ENSG00000226952        </td><td>Promoter_Enhancer</td></tr>\n",
       "\t<tr><td>chr1_100132370_100133575</td><td>TSS</td><td>2</td><td>SASS6,TRMT13           </td><td>Promoter_Enhancer</td></tr>\n",
       "\t<tr><td>chr1_100178048_100178357</td><td>TSS</td><td>1</td><td>LRRC39                 </td><td>Promoter_Enhancer</td></tr>\n",
       "\t<tr><td>chr1_100213080_100213553</td><td>TSS</td><td>1</td><td>BRI3P1                 </td><td>Promoter_Enhancer</td></tr>\n",
       "\t<tr><td>chr1_100248889_100250320</td><td>TSS</td><td>2</td><td>DBT,ENSG00000230287    </td><td>Promoter_Enhancer</td></tr>\n",
       "</tbody>\n",
       "</table>\n"
      ],
      "text/latex": [
       "A tibble: 6 × 5\n",
       "\\begin{tabular}{lllll}\n",
       " Peak & Name & Count & Annotate & Type\\\\\n",
       " <chr> & <chr> & <dbl> & <chr> & <chr>\\\\\n",
       "\\hline\n",
       "\t chr1\\_100036871\\_100039191 & TSS & 2 & ENSG00000288826,MFSD14A & Promoter\\_Enhancer\\\\\n",
       "\t chr1\\_100098989\\_100100659 & TSS & 1 & ENSG00000226952         & Promoter\\_Enhancer\\\\\n",
       "\t chr1\\_100132370\\_100133575 & TSS & 2 & SASS6,TRMT13            & Promoter\\_Enhancer\\\\\n",
       "\t chr1\\_100178048\\_100178357 & TSS & 1 & LRRC39                  & Promoter\\_Enhancer\\\\\n",
       "\t chr1\\_100213080\\_100213553 & TSS & 1 & BRI3P1                  & Promoter\\_Enhancer\\\\\n",
       "\t chr1\\_100248889\\_100250320 & TSS & 2 & DBT,ENSG00000230287     & Promoter\\_Enhancer\\\\\n",
       "\\end{tabular}\n"
      ],
      "text/markdown": [
       "\n",
       "A tibble: 6 × 5\n",
       "\n",
       "| Peak &lt;chr&gt; | Name &lt;chr&gt; | Count &lt;dbl&gt; | Annotate &lt;chr&gt; | Type &lt;chr&gt; |\n",
       "|---|---|---|---|---|\n",
       "| chr1_100036871_100039191 | TSS | 2 | ENSG00000288826,MFSD14A | Promoter_Enhancer |\n",
       "| chr1_100098989_100100659 | TSS | 1 | ENSG00000226952         | Promoter_Enhancer |\n",
       "| chr1_100132370_100133575 | TSS | 2 | SASS6,TRMT13            | Promoter_Enhancer |\n",
       "| chr1_100178048_100178357 | TSS | 1 | LRRC39                  | Promoter_Enhancer |\n",
       "| chr1_100213080_100213553 | TSS | 1 | BRI3P1                  | Promoter_Enhancer |\n",
       "| chr1_100248889_100250320 | TSS | 2 | DBT,ENSG00000230287     | Promoter_Enhancer |\n",
       "\n"
      ],
      "text/plain": [
       "  Peak                     Name Count Annotate                Type             \n",
       "1 chr1_100036871_100039191 TSS  2     ENSG00000288826,MFSD14A Promoter_Enhancer\n",
       "2 chr1_100098989_100100659 TSS  1     ENSG00000226952         Promoter_Enhancer\n",
       "3 chr1_100132370_100133575 TSS  2     SASS6,TRMT13            Promoter_Enhancer\n",
       "4 chr1_100178048_100178357 TSS  1     LRRC39                  Promoter_Enhancer\n",
       "5 chr1_100213080_100213553 TSS  1     BRI3P1                  Promoter_Enhancer\n",
       "6 chr1_100248889_100250320 TSS  2     DBT,ENSG00000230287     Promoter_Enhancer"
      ]
     },
     "metadata": {},
     "output_type": "display_data"
    }
   ],
   "source": [
    "fdiry = file.path(FD_RES, \"region\", \"KS91_K562_ASTARRseq_peak_macs\")\n",
    "fname = \"KS91_K562_hg38_ASTARRseq_Input.count.gencode_v24_tss.tsv\"\n",
    "fpath = file.path(fdiry, fname)\n",
    "\n",
    "dat = read_tsv(fpath, show_col_types = FALSE) %>% dplyr::mutate(Type = \"Promoter_Enhancer\")\n",
    "dat_peak_count_tss = dat\n",
    "print(dim(dat))\n",
    "head(dat)"
   ]
  },
  {
   "cell_type": "code",
   "execution_count": 5,
   "id": "15595f3a",
   "metadata": {},
   "outputs": [
    {
     "name": "stdout",
     "output_type": "stream",
     "text": [
      "[1] 17120     5\n"
     ]
    },
    {
     "data": {
      "text/html": [
       "<table class=\"dataframe\">\n",
       "<caption>A tibble: 6 × 5</caption>\n",
       "<thead>\n",
       "\t<tr><th scope=col>Peak</th><th scope=col>Name</th><th scope=col>Count</th><th scope=col>Annotate</th><th scope=col>Type</th></tr>\n",
       "\t<tr><th scope=col>&lt;chr&gt;</th><th scope=col>&lt;chr&gt;</th><th scope=col>&lt;dbl&gt;</th><th scope=col>&lt;chr&gt;</th><th scope=col>&lt;chr&gt;</th></tr>\n",
       "</thead>\n",
       "<tbody>\n",
       "\t<tr><td>chr1_100036871_100039191</td><td>Enhancer_ASTARR</td><td>5</td><td>chr1_100037780_100037800,chr1_100037840_100037860,chr1_100037870_100037930,chr1_100037940_100037960,chr1_100037970_100038370</td><td>Promoter_Enhancer</td></tr>\n",
       "\t<tr><td>chr1_100132370_100133575</td><td>Enhancer_ASTARR</td><td>2</td><td>chr1_100132890_100132930,chr1_100132940_100133340                                                                           </td><td>Promoter_Enhancer</td></tr>\n",
       "\t<tr><td>chr1_100248889_100250320</td><td>Enhancer_ASTARR</td><td>1</td><td>chr1_100249570_100249860                                                                                                    </td><td>Promoter_Enhancer</td></tr>\n",
       "\t<tr><td>chr1_100265529_100267006</td><td>Enhancer_ASTARR</td><td>1</td><td>chr1_100266140_100266320                                                                                                    </td><td>Promoter_Enhancer</td></tr>\n",
       "\t<tr><td>chr1_100347294_100347528</td><td>Enhancer_ASTARR</td><td>3</td><td>chr1_100347310_100347340,chr1_100347350_100347390,chr1_100347410_100347950                                                  </td><td>Promoter_Enhancer</td></tr>\n",
       "\t<tr><td>chr1_100362724_100363401</td><td>Enhancer_ASTARR</td><td>2</td><td>chr1_100363210_100363230,chr1_100363290_100363320                                                                           </td><td>Promoter_Enhancer</td></tr>\n",
       "</tbody>\n",
       "</table>\n"
      ],
      "text/latex": [
       "A tibble: 6 × 5\n",
       "\\begin{tabular}{lllll}\n",
       " Peak & Name & Count & Annotate & Type\\\\\n",
       " <chr> & <chr> & <dbl> & <chr> & <chr>\\\\\n",
       "\\hline\n",
       "\t chr1\\_100036871\\_100039191 & Enhancer\\_ASTARR & 5 & chr1\\_100037780\\_100037800,chr1\\_100037840\\_100037860,chr1\\_100037870\\_100037930,chr1\\_100037940\\_100037960,chr1\\_100037970\\_100038370 & Promoter\\_Enhancer\\\\\n",
       "\t chr1\\_100132370\\_100133575 & Enhancer\\_ASTARR & 2 & chr1\\_100132890\\_100132930,chr1\\_100132940\\_100133340                                                                            & Promoter\\_Enhancer\\\\\n",
       "\t chr1\\_100248889\\_100250320 & Enhancer\\_ASTARR & 1 & chr1\\_100249570\\_100249860                                                                                                     & Promoter\\_Enhancer\\\\\n",
       "\t chr1\\_100265529\\_100267006 & Enhancer\\_ASTARR & 1 & chr1\\_100266140\\_100266320                                                                                                     & Promoter\\_Enhancer\\\\\n",
       "\t chr1\\_100347294\\_100347528 & Enhancer\\_ASTARR & 3 & chr1\\_100347310\\_100347340,chr1\\_100347350\\_100347390,chr1\\_100347410\\_100347950                                                   & Promoter\\_Enhancer\\\\\n",
       "\t chr1\\_100362724\\_100363401 & Enhancer\\_ASTARR & 2 & chr1\\_100363210\\_100363230,chr1\\_100363290\\_100363320                                                                            & Promoter\\_Enhancer\\\\\n",
       "\\end{tabular}\n"
      ],
      "text/markdown": [
       "\n",
       "A tibble: 6 × 5\n",
       "\n",
       "| Peak &lt;chr&gt; | Name &lt;chr&gt; | Count &lt;dbl&gt; | Annotate &lt;chr&gt; | Type &lt;chr&gt; |\n",
       "|---|---|---|---|---|\n",
       "| chr1_100036871_100039191 | Enhancer_ASTARR | 5 | chr1_100037780_100037800,chr1_100037840_100037860,chr1_100037870_100037930,chr1_100037940_100037960,chr1_100037970_100038370 | Promoter_Enhancer |\n",
       "| chr1_100132370_100133575 | Enhancer_ASTARR | 2 | chr1_100132890_100132930,chr1_100132940_100133340                                                                            | Promoter_Enhancer |\n",
       "| chr1_100248889_100250320 | Enhancer_ASTARR | 1 | chr1_100249570_100249860                                                                                                     | Promoter_Enhancer |\n",
       "| chr1_100265529_100267006 | Enhancer_ASTARR | 1 | chr1_100266140_100266320                                                                                                     | Promoter_Enhancer |\n",
       "| chr1_100347294_100347528 | Enhancer_ASTARR | 3 | chr1_100347310_100347340,chr1_100347350_100347390,chr1_100347410_100347950                                                   | Promoter_Enhancer |\n",
       "| chr1_100362724_100363401 | Enhancer_ASTARR | 2 | chr1_100363210_100363230,chr1_100363290_100363320                                                                            | Promoter_Enhancer |\n",
       "\n"
      ],
      "text/plain": [
       "  Peak                     Name            Count\n",
       "1 chr1_100036871_100039191 Enhancer_ASTARR 5    \n",
       "2 chr1_100132370_100133575 Enhancer_ASTARR 2    \n",
       "3 chr1_100248889_100250320 Enhancer_ASTARR 1    \n",
       "4 chr1_100265529_100267006 Enhancer_ASTARR 1    \n",
       "5 chr1_100347294_100347528 Enhancer_ASTARR 3    \n",
       "6 chr1_100362724_100363401 Enhancer_ASTARR 2    \n",
       "  Annotate                                                                                                                    \n",
       "1 chr1_100037780_100037800,chr1_100037840_100037860,chr1_100037870_100037930,chr1_100037940_100037960,chr1_100037970_100038370\n",
       "2 chr1_100132890_100132930,chr1_100132940_100133340                                                                           \n",
       "3 chr1_100249570_100249860                                                                                                    \n",
       "4 chr1_100266140_100266320                                                                                                    \n",
       "5 chr1_100347310_100347340,chr1_100347350_100347390,chr1_100347410_100347950                                                  \n",
       "6 chr1_100363210_100363230,chr1_100363290_100363320                                                                           \n",
       "  Type             \n",
       "1 Promoter_Enhancer\n",
       "2 Promoter_Enhancer\n",
       "3 Promoter_Enhancer\n",
       "4 Promoter_Enhancer\n",
       "5 Promoter_Enhancer\n",
       "6 Promoter_Enhancer"
      ]
     },
     "metadata": {},
     "output_type": "display_data"
    }
   ],
   "source": [
    "fdiry = file.path(FD_RES, \"region\", \"KS91_K562_ASTARRseq_peak_macs\")\n",
    "fname = \"KS91_K562_hg38_ASTARRseq_Input.count.enhancer_junke_peak_astarr.tsv\"\n",
    "fpath = file.path(fdiry, fname)\n",
    "\n",
    "dat = read_tsv(fpath, show_col_types = FALSE) %>% dplyr::mutate(Type = \"Promoter_Enhancer\")\n",
    "dat_peak_count_enhancer_junke_astarr = dat\n",
    "print(dim(dat))\n",
    "head(dat)"
   ]
  },
  {
   "cell_type": "code",
   "execution_count": 6,
   "id": "38485a2e",
   "metadata": {},
   "outputs": [
    {
     "name": "stdout",
     "output_type": "stream",
     "text": [
      "[1] 20688     5\n"
     ]
    },
    {
     "data": {
      "text/html": [
       "<table class=\"dataframe\">\n",
       "<caption>A tibble: 6 × 5</caption>\n",
       "<thead>\n",
       "\t<tr><th scope=col>Peak</th><th scope=col>Name</th><th scope=col>Count</th><th scope=col>Annotate</th><th scope=col>Type</th></tr>\n",
       "\t<tr><th scope=col>&lt;chr&gt;</th><th scope=col>&lt;chr&gt;</th><th scope=col>&lt;dbl&gt;</th><th scope=col>&lt;chr&gt;</th><th scope=col>&lt;chr&gt;</th></tr>\n",
       "</thead>\n",
       "<tbody>\n",
       "\t<tr><td>chr1_100036871_100039191</td><td>Enhancer_WSTARR</td><td>3</td><td>chr1_100037860_100037890,chr1_100038040_100038330,chr1_100038340_100038360</td><td>Promoter_Enhancer</td></tr>\n",
       "\t<tr><td>chr1_100132370_100133575</td><td>Enhancer_WSTARR</td><td>2</td><td>chr1_100132760_100132980,chr1_100133020_100133340                         </td><td>Promoter_Enhancer</td></tr>\n",
       "\t<tr><td>chr1_100265529_100267006</td><td>Enhancer_WSTARR</td><td>2</td><td>chr1_100266060_100266090,chr1_100266100_100266240                         </td><td>Promoter_Enhancer</td></tr>\n",
       "\t<tr><td>chr1_10032426_10033768  </td><td>Enhancer_WSTARR</td><td>2</td><td>chr1_10032730_10033020,chr1_10033200_10033250                             </td><td>Promoter_Enhancer</td></tr>\n",
       "\t<tr><td>chr1_1006485_1006802    </td><td>Enhancer_WSTARR</td><td>1</td><td>chr1_1006380_1006740                                                      </td><td>Promoter_Enhancer</td></tr>\n",
       "\t<tr><td>chr1_100682254_100682739</td><td>Enhancer_WSTARR</td><td>2</td><td>chr1_100682420_100682440,chr1_100682460_100682480                         </td><td>Promoter_Enhancer</td></tr>\n",
       "</tbody>\n",
       "</table>\n"
      ],
      "text/latex": [
       "A tibble: 6 × 5\n",
       "\\begin{tabular}{lllll}\n",
       " Peak & Name & Count & Annotate & Type\\\\\n",
       " <chr> & <chr> & <dbl> & <chr> & <chr>\\\\\n",
       "\\hline\n",
       "\t chr1\\_100036871\\_100039191 & Enhancer\\_WSTARR & 3 & chr1\\_100037860\\_100037890,chr1\\_100038040\\_100038330,chr1\\_100038340\\_100038360 & Promoter\\_Enhancer\\\\\n",
       "\t chr1\\_100132370\\_100133575 & Enhancer\\_WSTARR & 2 & chr1\\_100132760\\_100132980,chr1\\_100133020\\_100133340                          & Promoter\\_Enhancer\\\\\n",
       "\t chr1\\_100265529\\_100267006 & Enhancer\\_WSTARR & 2 & chr1\\_100266060\\_100266090,chr1\\_100266100\\_100266240                          & Promoter\\_Enhancer\\\\\n",
       "\t chr1\\_10032426\\_10033768   & Enhancer\\_WSTARR & 2 & chr1\\_10032730\\_10033020,chr1\\_10033200\\_10033250                              & Promoter\\_Enhancer\\\\\n",
       "\t chr1\\_1006485\\_1006802     & Enhancer\\_WSTARR & 1 & chr1\\_1006380\\_1006740                                                       & Promoter\\_Enhancer\\\\\n",
       "\t chr1\\_100682254\\_100682739 & Enhancer\\_WSTARR & 2 & chr1\\_100682420\\_100682440,chr1\\_100682460\\_100682480                          & Promoter\\_Enhancer\\\\\n",
       "\\end{tabular}\n"
      ],
      "text/markdown": [
       "\n",
       "A tibble: 6 × 5\n",
       "\n",
       "| Peak &lt;chr&gt; | Name &lt;chr&gt; | Count &lt;dbl&gt; | Annotate &lt;chr&gt; | Type &lt;chr&gt; |\n",
       "|---|---|---|---|---|\n",
       "| chr1_100036871_100039191 | Enhancer_WSTARR | 3 | chr1_100037860_100037890,chr1_100038040_100038330,chr1_100038340_100038360 | Promoter_Enhancer |\n",
       "| chr1_100132370_100133575 | Enhancer_WSTARR | 2 | chr1_100132760_100132980,chr1_100133020_100133340                          | Promoter_Enhancer |\n",
       "| chr1_100265529_100267006 | Enhancer_WSTARR | 2 | chr1_100266060_100266090,chr1_100266100_100266240                          | Promoter_Enhancer |\n",
       "| chr1_10032426_10033768   | Enhancer_WSTARR | 2 | chr1_10032730_10033020,chr1_10033200_10033250                              | Promoter_Enhancer |\n",
       "| chr1_1006485_1006802     | Enhancer_WSTARR | 1 | chr1_1006380_1006740                                                       | Promoter_Enhancer |\n",
       "| chr1_100682254_100682739 | Enhancer_WSTARR | 2 | chr1_100682420_100682440,chr1_100682460_100682480                          | Promoter_Enhancer |\n",
       "\n"
      ],
      "text/plain": [
       "  Peak                     Name            Count\n",
       "1 chr1_100036871_100039191 Enhancer_WSTARR 3    \n",
       "2 chr1_100132370_100133575 Enhancer_WSTARR 2    \n",
       "3 chr1_100265529_100267006 Enhancer_WSTARR 2    \n",
       "4 chr1_10032426_10033768   Enhancer_WSTARR 2    \n",
       "5 chr1_1006485_1006802     Enhancer_WSTARR 1    \n",
       "6 chr1_100682254_100682739 Enhancer_WSTARR 2    \n",
       "  Annotate                                                                  \n",
       "1 chr1_100037860_100037890,chr1_100038040_100038330,chr1_100038340_100038360\n",
       "2 chr1_100132760_100132980,chr1_100133020_100133340                         \n",
       "3 chr1_100266060_100266090,chr1_100266100_100266240                         \n",
       "4 chr1_10032730_10033020,chr1_10033200_10033250                             \n",
       "5 chr1_1006380_1006740                                                      \n",
       "6 chr1_100682420_100682440,chr1_100682460_100682480                         \n",
       "  Type             \n",
       "1 Promoter_Enhancer\n",
       "2 Promoter_Enhancer\n",
       "3 Promoter_Enhancer\n",
       "4 Promoter_Enhancer\n",
       "5 Promoter_Enhancer\n",
       "6 Promoter_Enhancer"
      ]
     },
     "metadata": {},
     "output_type": "display_data"
    }
   ],
   "source": [
    "fdiry = file.path(FD_RES, \"region\", \"KS91_K562_ASTARRseq_peak_macs\")\n",
    "fname = \"KS91_K562_hg38_ASTARRseq_Input.count.enhancer_junke_peak_wstarr.tsv\"\n",
    "fpath = file.path(fdiry, fname)\n",
    "\n",
    "dat = read_tsv(fpath, show_col_types = FALSE) %>% dplyr::mutate(Type = \"Promoter_Enhancer\")\n",
    "dat_peak_count_enhancer_junke_wstarr = dat\n",
    "print(dim(dat))\n",
    "head(dat)"
   ]
  },
  {
   "cell_type": "code",
   "execution_count": 7,
   "id": "2eaae07b",
   "metadata": {},
   "outputs": [
    {
     "name": "stdout",
     "output_type": "stream",
     "text": [
      "[1] 246852      6\n"
     ]
    },
    {
     "data": {
      "text/html": [
       "<table class=\"dataframe\">\n",
       "<caption>A tibble: 6 × 6</caption>\n",
       "<thead>\n",
       "\t<tr><th scope=col>Peak</th><th scope=col>Input</th><th scope=col>Length</th><th scope=col>Pct_GC</th><th scope=col>Residual</th><th scope=col>Score</th></tr>\n",
       "\t<tr><th scope=col>&lt;chr&gt;</th><th scope=col>&lt;dbl&gt;</th><th scope=col>&lt;dbl&gt;</th><th scope=col>&lt;dbl&gt;</th><th scope=col>&lt;dbl&gt;</th><th scope=col>&lt;dbl&gt;</th></tr>\n",
       "</thead>\n",
       "<tbody>\n",
       "\t<tr><td>chr1_10015_10442</td><td>0.4863317</td><td>427</td><td>0.522248</td><td> 0.08297762</td><td>0.1314508</td></tr>\n",
       "\t<tr><td>chr1_14253_14645</td><td>0.3152472</td><td>392</td><td>0.573980</td><td>-0.44147281</td><td>0.1263620</td></tr>\n",
       "\t<tr><td>chr1_16015_16477</td><td>0.4361424</td><td>462</td><td>0.541126</td><td>-0.24624327</td><td>0.1282563</td></tr>\n",
       "\t<tr><td>chr1_17237_17772</td><td>0.8007562</td><td>535</td><td>0.614953</td><td>-0.77217689</td><td>0.1231530</td></tr>\n",
       "\t<tr><td>chr1_28903_29613</td><td>0.7629703</td><td>710</td><td>0.759155</td><td>-2.65124736</td><td>0.1049199</td></tr>\n",
       "\t<tr><td>chr1_30803_31072</td><td>0.2774187</td><td>269</td><td>0.501859</td><td> 0.55304742</td><td>0.1360121</td></tr>\n",
       "</tbody>\n",
       "</table>\n"
      ],
      "text/latex": [
       "A tibble: 6 × 6\n",
       "\\begin{tabular}{llllll}\n",
       " Peak & Input & Length & Pct\\_GC & Residual & Score\\\\\n",
       " <chr> & <dbl> & <dbl> & <dbl> & <dbl> & <dbl>\\\\\n",
       "\\hline\n",
       "\t chr1\\_10015\\_10442 & 0.4863317 & 427 & 0.522248 &  0.08297762 & 0.1314508\\\\\n",
       "\t chr1\\_14253\\_14645 & 0.3152472 & 392 & 0.573980 & -0.44147281 & 0.1263620\\\\\n",
       "\t chr1\\_16015\\_16477 & 0.4361424 & 462 & 0.541126 & -0.24624327 & 0.1282563\\\\\n",
       "\t chr1\\_17237\\_17772 & 0.8007562 & 535 & 0.614953 & -0.77217689 & 0.1231530\\\\\n",
       "\t chr1\\_28903\\_29613 & 0.7629703 & 710 & 0.759155 & -2.65124736 & 0.1049199\\\\\n",
       "\t chr1\\_30803\\_31072 & 0.2774187 & 269 & 0.501859 &  0.55304742 & 0.1360121\\\\\n",
       "\\end{tabular}\n"
      ],
      "text/markdown": [
       "\n",
       "A tibble: 6 × 6\n",
       "\n",
       "| Peak &lt;chr&gt; | Input &lt;dbl&gt; | Length &lt;dbl&gt; | Pct_GC &lt;dbl&gt; | Residual &lt;dbl&gt; | Score &lt;dbl&gt; |\n",
       "|---|---|---|---|---|---|\n",
       "| chr1_10015_10442 | 0.4863317 | 427 | 0.522248 |  0.08297762 | 0.1314508 |\n",
       "| chr1_14253_14645 | 0.3152472 | 392 | 0.573980 | -0.44147281 | 0.1263620 |\n",
       "| chr1_16015_16477 | 0.4361424 | 462 | 0.541126 | -0.24624327 | 0.1282563 |\n",
       "| chr1_17237_17772 | 0.8007562 | 535 | 0.614953 | -0.77217689 | 0.1231530 |\n",
       "| chr1_28903_29613 | 0.7629703 | 710 | 0.759155 | -2.65124736 | 0.1049199 |\n",
       "| chr1_30803_31072 | 0.2774187 | 269 | 0.501859 |  0.55304742 | 0.1360121 |\n",
       "\n"
      ],
      "text/plain": [
       "  Peak             Input     Length Pct_GC   Residual    Score    \n",
       "1 chr1_10015_10442 0.4863317 427    0.522248  0.08297762 0.1314508\n",
       "2 chr1_14253_14645 0.3152472 392    0.573980 -0.44147281 0.1263620\n",
       "3 chr1_16015_16477 0.4361424 462    0.541126 -0.24624327 0.1282563\n",
       "4 chr1_17237_17772 0.8007562 535    0.614953 -0.77217689 0.1231530\n",
       "5 chr1_28903_29613 0.7629703 710    0.759155 -2.65124736 0.1049199\n",
       "6 chr1_30803_31072 0.2774187 269    0.501859  0.55304742 0.1360121"
      ]
     },
     "metadata": {},
     "output_type": "display_data"
    }
   ],
   "source": [
    "ASSAY   = \"KS91_K562_ASTARRseq\"\n",
    "FOLDER  = \"coverage_astarrseq_peak_macs_input\"\n",
    "\n",
    "fdiry = file.path(FD_RES, \"results\", ASSAY, FOLDER, \"summary\")\n",
    "fname = \"result.chromatin_accessibility.WGS.tsv\"\n",
    "fpath = file.path(fdiry, fname)\n",
    "\n",
    "dat = read_tsv(fpath, show_col_types = FALSE)\n",
    "dat_chromatin_access =  dat\n",
    "print(dim(dat))\n",
    "head(dat)"
   ]
  },
  {
   "cell_type": "code",
   "execution_count": 8,
   "id": "8e16bb19",
   "metadata": {},
   "outputs": [
    {
     "name": "stdout",
     "output_type": "stream",
     "text": [
      "[1] 417   5\n"
     ]
    },
    {
     "data": {
      "text/html": [
       "<table class=\"dataframe\">\n",
       "<caption>A tibble: 6 × 5</caption>\n",
       "<thead>\n",
       "\t<tr><th scope=col>Chrom</th><th scope=col>Start</th><th scope=col>End</th><th scope=col>Peak</th><th scope=col>Region</th></tr>\n",
       "\t<tr><th scope=col>&lt;chr&gt;</th><th scope=col>&lt;dbl&gt;</th><th scope=col>&lt;dbl&gt;</th><th scope=col>&lt;chr&gt;</th><th scope=col>&lt;chr&gt;</th></tr>\n",
       "</thead>\n",
       "<tbody>\n",
       "\t<tr><td>chr8</td><td>126778902</td><td>126779728</td><td>chr8_126778902_126779728</td><td>MYC</td></tr>\n",
       "\t<tr><td>chr8</td><td>126782925</td><td>126783318</td><td>chr8_126782925_126783318</td><td>MYC</td></tr>\n",
       "\t<tr><td>chr8</td><td>126804776</td><td>126805825</td><td>chr8_126804776_126805825</td><td>MYC</td></tr>\n",
       "\t<tr><td>chr8</td><td>126817018</td><td>126817490</td><td>chr8_126817018_126817490</td><td>MYC</td></tr>\n",
       "\t<tr><td>chr8</td><td>126820465</td><td>126821393</td><td>chr8_126820465_126821393</td><td>MYC</td></tr>\n",
       "\t<tr><td>chr8</td><td>126824093</td><td>126824987</td><td>chr8_126824093_126824987</td><td>MYC</td></tr>\n",
       "</tbody>\n",
       "</table>\n"
      ],
      "text/latex": [
       "A tibble: 6 × 5\n",
       "\\begin{tabular}{lllll}\n",
       " Chrom & Start & End & Peak & Region\\\\\n",
       " <chr> & <dbl> & <dbl> & <chr> & <chr>\\\\\n",
       "\\hline\n",
       "\t chr8 & 126778902 & 126779728 & chr8\\_126778902\\_126779728 & MYC\\\\\n",
       "\t chr8 & 126782925 & 126783318 & chr8\\_126782925\\_126783318 & MYC\\\\\n",
       "\t chr8 & 126804776 & 126805825 & chr8\\_126804776\\_126805825 & MYC\\\\\n",
       "\t chr8 & 126817018 & 126817490 & chr8\\_126817018\\_126817490 & MYC\\\\\n",
       "\t chr8 & 126820465 & 126821393 & chr8\\_126820465\\_126821393 & MYC\\\\\n",
       "\t chr8 & 126824093 & 126824987 & chr8\\_126824093\\_126824987 & MYC\\\\\n",
       "\\end{tabular}\n"
      ],
      "text/markdown": [
       "\n",
       "A tibble: 6 × 5\n",
       "\n",
       "| Chrom &lt;chr&gt; | Start &lt;dbl&gt; | End &lt;dbl&gt; | Peak &lt;chr&gt; | Region &lt;chr&gt; |\n",
       "|---|---|---|---|---|\n",
       "| chr8 | 126778902 | 126779728 | chr8_126778902_126779728 | MYC |\n",
       "| chr8 | 126782925 | 126783318 | chr8_126782925_126783318 | MYC |\n",
       "| chr8 | 126804776 | 126805825 | chr8_126804776_126805825 | MYC |\n",
       "| chr8 | 126817018 | 126817490 | chr8_126817018_126817490 | MYC |\n",
       "| chr8 | 126820465 | 126821393 | chr8_126820465_126821393 | MYC |\n",
       "| chr8 | 126824093 | 126824987 | chr8_126824093_126824987 | MYC |\n",
       "\n"
      ],
      "text/plain": [
       "  Chrom Start     End       Peak                     Region\n",
       "1 chr8  126778902 126779728 chr8_126778902_126779728 MYC   \n",
       "2 chr8  126782925 126783318 chr8_126782925_126783318 MYC   \n",
       "3 chr8  126804776 126805825 chr8_126804776_126805825 MYC   \n",
       "4 chr8  126817018 126817490 chr8_126817018_126817490 MYC   \n",
       "5 chr8  126820465 126821393 chr8_126820465_126821393 MYC   \n",
       "6 chr8  126824093 126824987 chr8_126824093_126824987 MYC   "
      ]
     },
     "metadata": {},
     "output_type": "display_data"
    }
   ],
   "source": [
    "### set file path\n",
    "fdiry = file.path(FD_RES, \"region\", \"KS91_K562_ASTARRseq_peak_macs\")\n",
    "fname = \"KS91_K562_hg38_ASTARRseq_Input.peaks.MYC.FADS.GATA1.tsv\"\n",
    "fpath = file.path(fdiry, fname)\n",
    "\n",
    "### import data\n",
    "dat_region = read_tsv(fpath, show_col_types = FALSE)\n",
    "peaks = dat_region$Peak\n",
    "\n",
    "print(dim(dat_region))\n",
    "head(dat_region)"
   ]
  },
  {
   "cell_type": "markdown",
   "id": "5dfa7289",
   "metadata": {},
   "source": [
    "## Subset ReMap TF binding data"
   ]
  },
  {
   "cell_type": "code",
   "execution_count": 9,
   "id": "a52376d5",
   "metadata": {},
   "outputs": [
    {
     "name": "stdout",
     "output_type": "stream",
     "text": [
      "[1] 346205      6\n"
     ]
    },
    {
     "data": {
      "text/html": [
       "<table class=\"dataframe\">\n",
       "<caption>A tibble: 6 × 6</caption>\n",
       "<thead>\n",
       "\t<tr><th scope=col>Peak</th><th scope=col>Name</th><th scope=col>Count</th><th scope=col>Total</th><th scope=col>Freq</th><th scope=col>Type</th></tr>\n",
       "\t<tr><th scope=col>&lt;chr&gt;</th><th scope=col>&lt;chr&gt;</th><th scope=col>&lt;dbl&gt;</th><th scope=col>&lt;dbl&gt;</th><th scope=col>&lt;dbl&gt;</th><th scope=col>&lt;chr&gt;</th></tr>\n",
       "</thead>\n",
       "<tbody>\n",
       "\t<tr><td>chr1_100027983_100029702</td><td>GATA1 </td><td>1</td><td>  9</td><td>0.111111111</td><td>TF-Binding</td></tr>\n",
       "\t<tr><td>chr1_100036871_100039191</td><td>GATA1 </td><td>1</td><td>237</td><td>0.004219409</td><td>TF-Binding</td></tr>\n",
       "\t<tr><td>chr1_100036871_100039191</td><td>JUN   </td><td>1</td><td>237</td><td>0.004219409</td><td>TF-Binding</td></tr>\n",
       "\t<tr><td>chr1_100036871_100039191</td><td>JUND  </td><td>1</td><td>237</td><td>0.004219409</td><td>TF-Binding</td></tr>\n",
       "\t<tr><td>chr1_100036871_100039191</td><td>NFE2L2</td><td>1</td><td>237</td><td>0.004219409</td><td>TF-Binding</td></tr>\n",
       "\t<tr><td>chr1_100036871_100039191</td><td>NFYA  </td><td>1</td><td>237</td><td>0.004219409</td><td>TF-Binding</td></tr>\n",
       "</tbody>\n",
       "</table>\n"
      ],
      "text/latex": [
       "A tibble: 6 × 6\n",
       "\\begin{tabular}{llllll}\n",
       " Peak & Name & Count & Total & Freq & Type\\\\\n",
       " <chr> & <chr> & <dbl> & <dbl> & <dbl> & <chr>\\\\\n",
       "\\hline\n",
       "\t chr1\\_100027983\\_100029702 & GATA1  & 1 &   9 & 0.111111111 & TF-Binding\\\\\n",
       "\t chr1\\_100036871\\_100039191 & GATA1  & 1 & 237 & 0.004219409 & TF-Binding\\\\\n",
       "\t chr1\\_100036871\\_100039191 & JUN    & 1 & 237 & 0.004219409 & TF-Binding\\\\\n",
       "\t chr1\\_100036871\\_100039191 & JUND   & 1 & 237 & 0.004219409 & TF-Binding\\\\\n",
       "\t chr1\\_100036871\\_100039191 & NFE2L2 & 1 & 237 & 0.004219409 & TF-Binding\\\\\n",
       "\t chr1\\_100036871\\_100039191 & NFYA   & 1 & 237 & 0.004219409 & TF-Binding\\\\\n",
       "\\end{tabular}\n"
      ],
      "text/markdown": [
       "\n",
       "A tibble: 6 × 6\n",
       "\n",
       "| Peak &lt;chr&gt; | Name &lt;chr&gt; | Count &lt;dbl&gt; | Total &lt;dbl&gt; | Freq &lt;dbl&gt; | Type &lt;chr&gt; |\n",
       "|---|---|---|---|---|---|\n",
       "| chr1_100027983_100029702 | GATA1  | 1 |   9 | 0.111111111 | TF-Binding |\n",
       "| chr1_100036871_100039191 | GATA1  | 1 | 237 | 0.004219409 | TF-Binding |\n",
       "| chr1_100036871_100039191 | JUN    | 1 | 237 | 0.004219409 | TF-Binding |\n",
       "| chr1_100036871_100039191 | JUND   | 1 | 237 | 0.004219409 | TF-Binding |\n",
       "| chr1_100036871_100039191 | NFE2L2 | 1 | 237 | 0.004219409 | TF-Binding |\n",
       "| chr1_100036871_100039191 | NFYA   | 1 | 237 | 0.004219409 | TF-Binding |\n",
       "\n"
      ],
      "text/plain": [
       "  Peak                     Name   Count Total Freq        Type      \n",
       "1 chr1_100027983_100029702 GATA1  1       9   0.111111111 TF-Binding\n",
       "2 chr1_100036871_100039191 GATA1  1     237   0.004219409 TF-Binding\n",
       "3 chr1_100036871_100039191 JUN    1     237   0.004219409 TF-Binding\n",
       "4 chr1_100036871_100039191 JUND   1     237   0.004219409 TF-Binding\n",
       "5 chr1_100036871_100039191 NFE2L2 1     237   0.004219409 TF-Binding\n",
       "6 chr1_100036871_100039191 NFYA   1     237   0.004219409 TF-Binding"
      ]
     },
     "metadata": {},
     "output_type": "display_data"
    }
   ],
   "source": [
    "TFs = c(\"SP1\", \"ELK1\", \"NRF1\", \"NFY\", \"GATA1\", \"NFE2\", \"FOS\", \"JUN\", \"YY1\")\n",
    "patterns = paste0(\"^\", TFs)\n",
    "patterns = paste(patterns, collapse = '|')\n",
    "dat = dat_peak_count_remap %>% dplyr::filter(str_detect(Name, patterns))\n",
    "dat_peak_count_remap_sub = dat\n",
    "print(dim(dat))\n",
    "head(dat)"
   ]
  },
  {
   "cell_type": "code",
   "execution_count": 10,
   "id": "1b2dde7d",
   "metadata": {},
   "outputs": [],
   "source": [
    "lst = list(\n",
    "    dat_peak_count_ccre, \n",
    "    dat_peak_count_remap_sub, \n",
    "    dat_peak_count_tss, \n",
    "    dat_peak_count_enhancer_junke_astarr, \n",
    "    dat_peak_count_enhancer_junke_wstarr)\n",
    "\n",
    "lst = lapply(lst, function(dat){\n",
    "    dat = dat %>% \n",
    "        dplyr::select(Peak, Name) %>% \n",
    "        mutate(Label = 1) %>% \n",
    "        spread(Name, Label)\n",
    "    \n",
    "    dat = left_join(dat_region, dat, by = \"Peak\")\n",
    "    dat = replace(dat, is.na(dat), 0)\n",
    "    \n",
    "    dat = dat %>% \n",
    "        gather(Name, Label, -Chrom, -Start, -End, -Peak, -Region) %>%\n",
    "        mutate(Label = as.character(Label))\n",
    "    return(dat)\n",
    "})"
   ]
  },
  {
   "cell_type": "code",
   "execution_count": 11,
   "id": "12ea826d",
   "metadata": {},
   "outputs": [],
   "source": [
    "fdiry = file.path(FD_RES, \"results\", \"comparison\", \"comparison_global\")\n",
    "fname = \"List_combine_Annotation.RDS\"\n",
    "fpath = file.path(fdiry, fname)\n",
    "saveRDS(lst, fpath)"
   ]
  },
  {
   "cell_type": "code",
   "execution_count": 12,
   "id": "f8e68ae1",
   "metadata": {},
   "outputs": [
    {
     "name": "stdout",
     "output_type": "stream",
     "text": [
      "[1] 0\n"
     ]
    },
    {
     "data": {
      "text/html": [
       "<table class=\"dataframe\">\n",
       "<caption>A tibble: 6 × 11</caption>\n",
       "<thead>\n",
       "\t<tr><th scope=col>Chrom</th><th scope=col>Start</th><th scope=col>End</th><th scope=col>Peak</th><th scope=col>Region</th><th scope=col>Input</th><th scope=col>Length</th><th scope=col>Pct_GC</th><th scope=col>Residual</th><th scope=col>Score</th><th scope=col>Name</th></tr>\n",
       "\t<tr><th scope=col>&lt;chr&gt;</th><th scope=col>&lt;dbl&gt;</th><th scope=col>&lt;dbl&gt;</th><th scope=col>&lt;fct&gt;</th><th scope=col>&lt;chr&gt;</th><th scope=col>&lt;dbl&gt;</th><th scope=col>&lt;dbl&gt;</th><th scope=col>&lt;dbl&gt;</th><th scope=col>&lt;dbl&gt;</th><th scope=col>&lt;dbl&gt;</th><th scope=col>&lt;chr&gt;</th></tr>\n",
       "</thead>\n",
       "<tbody>\n",
       "\t<tr><td>chr8</td><td>126778902</td><td>126779728</td><td>chr8_126778902_126779728</td><td>MYC</td><td>1.7601910</td><td> 826</td><td>0.412833</td><td> 1.0832767</td><td>0.1411570</td><td>Chromatin Accessibility</td></tr>\n",
       "\t<tr><td>chr8</td><td>126782925</td><td>126783318</td><td>chr8_126782925_126783318</td><td>MYC</td><td>0.2234409</td><td> 393</td><td>0.340967</td><td> 1.5504912</td><td>0.1456905</td><td>Chromatin Accessibility</td></tr>\n",
       "\t<tr><td>chr8</td><td>126804776</td><td>126805825</td><td>chr8_126804776_126805825</td><td>MYC</td><td>2.5906950</td><td>1049</td><td>0.526215</td><td> 0.1977288</td><td>0.1325643</td><td>Chromatin Accessibility</td></tr>\n",
       "\t<tr><td>chr8</td><td>126817018</td><td>126817490</td><td>chr8_126817018_126817490</td><td>MYC</td><td>0.4259708</td><td> 472</td><td>0.451271</td><td> 0.5169287</td><td>0.1356616</td><td>Chromatin Accessibility</td></tr>\n",
       "\t<tr><td>chr8</td><td>126820465</td><td>126821393</td><td>chr8_126820465_126821393</td><td>MYC</td><td>1.1059287</td><td> 928</td><td>0.528017</td><td>-0.9230415</td><td>0.1216892</td><td>Chromatin Accessibility</td></tr>\n",
       "\t<tr><td>chr8</td><td>126824093</td><td>126824987</td><td>chr8_126824093_126824987</td><td>MYC</td><td>0.6657159</td><td> 894</td><td>0.430649</td><td>-0.3843919</td><td>0.1269158</td><td>Chromatin Accessibility</td></tr>\n",
       "</tbody>\n",
       "</table>\n"
      ],
      "text/latex": [
       "A tibble: 6 × 11\n",
       "\\begin{tabular}{lllllllllll}\n",
       " Chrom & Start & End & Peak & Region & Input & Length & Pct\\_GC & Residual & Score & Name\\\\\n",
       " <chr> & <dbl> & <dbl> & <fct> & <chr> & <dbl> & <dbl> & <dbl> & <dbl> & <dbl> & <chr>\\\\\n",
       "\\hline\n",
       "\t chr8 & 126778902 & 126779728 & chr8\\_126778902\\_126779728 & MYC & 1.7601910 &  826 & 0.412833 &  1.0832767 & 0.1411570 & Chromatin Accessibility\\\\\n",
       "\t chr8 & 126782925 & 126783318 & chr8\\_126782925\\_126783318 & MYC & 0.2234409 &  393 & 0.340967 &  1.5504912 & 0.1456905 & Chromatin Accessibility\\\\\n",
       "\t chr8 & 126804776 & 126805825 & chr8\\_126804776\\_126805825 & MYC & 2.5906950 & 1049 & 0.526215 &  0.1977288 & 0.1325643 & Chromatin Accessibility\\\\\n",
       "\t chr8 & 126817018 & 126817490 & chr8\\_126817018\\_126817490 & MYC & 0.4259708 &  472 & 0.451271 &  0.5169287 & 0.1356616 & Chromatin Accessibility\\\\\n",
       "\t chr8 & 126820465 & 126821393 & chr8\\_126820465\\_126821393 & MYC & 1.1059287 &  928 & 0.528017 & -0.9230415 & 0.1216892 & Chromatin Accessibility\\\\\n",
       "\t chr8 & 126824093 & 126824987 & chr8\\_126824093\\_126824987 & MYC & 0.6657159 &  894 & 0.430649 & -0.3843919 & 0.1269158 & Chromatin Accessibility\\\\\n",
       "\\end{tabular}\n"
      ],
      "text/markdown": [
       "\n",
       "A tibble: 6 × 11\n",
       "\n",
       "| Chrom &lt;chr&gt; | Start &lt;dbl&gt; | End &lt;dbl&gt; | Peak &lt;fct&gt; | Region &lt;chr&gt; | Input &lt;dbl&gt; | Length &lt;dbl&gt; | Pct_GC &lt;dbl&gt; | Residual &lt;dbl&gt; | Score &lt;dbl&gt; | Name &lt;chr&gt; |\n",
       "|---|---|---|---|---|---|---|---|---|---|---|\n",
       "| chr8 | 126778902 | 126779728 | chr8_126778902_126779728 | MYC | 1.7601910 |  826 | 0.412833 |  1.0832767 | 0.1411570 | Chromatin Accessibility |\n",
       "| chr8 | 126782925 | 126783318 | chr8_126782925_126783318 | MYC | 0.2234409 |  393 | 0.340967 |  1.5504912 | 0.1456905 | Chromatin Accessibility |\n",
       "| chr8 | 126804776 | 126805825 | chr8_126804776_126805825 | MYC | 2.5906950 | 1049 | 0.526215 |  0.1977288 | 0.1325643 | Chromatin Accessibility |\n",
       "| chr8 | 126817018 | 126817490 | chr8_126817018_126817490 | MYC | 0.4259708 |  472 | 0.451271 |  0.5169287 | 0.1356616 | Chromatin Accessibility |\n",
       "| chr8 | 126820465 | 126821393 | chr8_126820465_126821393 | MYC | 1.1059287 |  928 | 0.528017 | -0.9230415 | 0.1216892 | Chromatin Accessibility |\n",
       "| chr8 | 126824093 | 126824987 | chr8_126824093_126824987 | MYC | 0.6657159 |  894 | 0.430649 | -0.3843919 | 0.1269158 | Chromatin Accessibility |\n",
       "\n"
      ],
      "text/plain": [
       "  Chrom Start     End       Peak                     Region Input     Length\n",
       "1 chr8  126778902 126779728 chr8_126778902_126779728 MYC    1.7601910  826  \n",
       "2 chr8  126782925 126783318 chr8_126782925_126783318 MYC    0.2234409  393  \n",
       "3 chr8  126804776 126805825 chr8_126804776_126805825 MYC    2.5906950 1049  \n",
       "4 chr8  126817018 126817490 chr8_126817018_126817490 MYC    0.4259708  472  \n",
       "5 chr8  126820465 126821393 chr8_126820465_126821393 MYC    1.1059287  928  \n",
       "6 chr8  126824093 126824987 chr8_126824093_126824987 MYC    0.6657159  894  \n",
       "  Pct_GC   Residual   Score     Name                   \n",
       "1 0.412833  1.0832767 0.1411570 Chromatin Accessibility\n",
       "2 0.340967  1.5504912 0.1456905 Chromatin Accessibility\n",
       "3 0.526215  0.1977288 0.1325643 Chromatin Accessibility\n",
       "4 0.451271  0.5169287 0.1356616 Chromatin Accessibility\n",
       "5 0.528017 -0.9230415 0.1216892 Chromatin Accessibility\n",
       "6 0.430649 -0.3843919 0.1269158 Chromatin Accessibility"
      ]
     },
     "metadata": {},
     "output_type": "display_data"
    }
   ],
   "source": [
    "dat = left_join(dat_region, dat_chromatin_access, by = \"Peak\")\n",
    "dat$Name = \"Chromatin Accessibility\"\n",
    "dat$Peak = factor(dat$Peak, levels=peaks)\n",
    "print(sum(is.na(dat$Score)))\n",
    "head(dat)"
   ]
  },
  {
   "cell_type": "code",
   "execution_count": 13,
   "id": "0557683a",
   "metadata": {},
   "outputs": [],
   "source": [
    "fdiry = file.path(FD_RES, \"results\", \"comparison\", \"comparison_global\")\n",
    "fname = \"result.chromatin_accessibility.subset.tsv\"\n",
    "fpath = file.path(fdiry, fname)\n",
    "write_tsv(dat, fpath)"
   ]
  },
  {
   "cell_type": "code",
   "execution_count": null,
   "id": "f46da470",
   "metadata": {},
   "outputs": [],
   "source": []
  }
 ],
 "metadata": {
  "kernelspec": {
   "display_name": "R",
   "language": "R",
   "name": "ir"
  },
  "language_info": {
   "codemirror_mode": "r",
   "file_extension": ".r",
   "mimetype": "text/x-r-source",
   "name": "R",
   "pygments_lexer": "r",
   "version": "4.2.2"
  }
 },
 "nbformat": 4,
 "nbformat_minor": 5
}
