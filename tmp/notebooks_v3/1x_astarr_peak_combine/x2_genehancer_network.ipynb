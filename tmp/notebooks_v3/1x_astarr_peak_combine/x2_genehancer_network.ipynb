{
 "cells": [
  {
   "cell_type": "code",
   "execution_count": 1,
   "id": "34cfa630",
   "metadata": {},
   "outputs": [
    {
     "name": "stdout",
     "output_type": "stream",
     "text": [
      "You are in Singularity: singularity_proj_combeffect \n",
      "BASE DIRECTORY:     /data/reddylab/Kuei \n",
      "WORK DIRECTORY:     /data/reddylab/Kuei/out \n",
      "CODE DIRECTORY:     /data/reddylab/Kuei/code \n",
      "PATH OF SOURCE:     /data/reddylab/Kuei/source \n",
      "PATH OF EXECUTABLE: /data/reddylab/Kuei/bin \n",
      "PATH OF ANNOTATION: /data/reddylab/Kuei/annotation \n",
      "PATH OF PROJECT:    /data/reddylab/Kuei/code/Proj_CombEffect_ENCODE_FCC \n",
      "PATH OF RESULTS:    /data/reddylab/Kuei/out/proj_combeffect_encode_fcc \n"
     ]
    }
   ],
   "source": [
    "suppressMessages(suppressWarnings(source(\"../config/config_sing.R\")))\n",
    "suppressMessages(suppressWarnings(library(\"rtracklayer\")))\n",
    "show_env()"
   ]
  },
  {
   "cell_type": "code",
   "execution_count": 2,
   "id": "f7ffd95d",
   "metadata": {},
   "outputs": [
    {
     "name": "stdout",
     "output_type": "stream",
     "text": [
      "[1] 5794   12\n"
     ]
    },
    {
     "data": {
      "text/html": [
       "<table class=\"dataframe\">\n",
       "<caption>A tibble: 6 × 12</caption>\n",
       "<thead>\n",
       "\t<tr><th scope=col>Chrom</th><th scope=col>Start</th><th scope=col>End</th><th scope=col>name</th><th scope=col>score</th><th scope=col>strand</th><th scope=col>thickStart</th><th scope=col>thickEnd</th><th scope=col>reserved</th><th scope=col>evidenceSources</th><th scope=col>elementType</th><th scope=col>eliteness</th></tr>\n",
       "\t<tr><th scope=col>&lt;chr&gt;</th><th scope=col>&lt;dbl&gt;</th><th scope=col>&lt;dbl&gt;</th><th scope=col>&lt;chr&gt;</th><th scope=col>&lt;dbl&gt;</th><th scope=col>&lt;chr&gt;</th><th scope=col>&lt;dbl&gt;</th><th scope=col>&lt;dbl&gt;</th><th scope=col>&lt;dbl&gt;</th><th scope=col>&lt;chr&gt;</th><th scope=col>&lt;chr&gt;</th><th scope=col>&lt;chr&gt;</th></tr>\n",
       "</thead>\n",
       "<tbody>\n",
       "\t<tr><td>chrX</td><td> 13390</td><td> 14928</td><td>GH0XJ000013</td><td>137</td><td>.</td><td> 13390</td><td> 14928</td><td>160160160</td><td>Ensembl</td><td>Enhancer</td><td>-</td></tr>\n",
       "\t<tr><td>chrX</td><td> 17474</td><td> 20600</td><td>GH0XJ000017</td><td> 99</td><td>.</td><td> 17474</td><td> 20600</td><td>160160160</td><td>Ensembl</td><td>Enhancer</td><td>-</td></tr>\n",
       "\t<tr><td>chrX</td><td> 94800</td><td> 95400</td><td>GH0XJ000094</td><td>  1</td><td>.</td><td> 94800</td><td> 95400</td><td>192192192</td><td>Ensembl</td><td>Enhancer</td><td>-</td></tr>\n",
       "\t<tr><td>chrX</td><td>225927</td><td>227643</td><td>GH0XJ000225</td><td>  1</td><td>.</td><td>225927</td><td>227643</td><td>192192192</td><td>Ensembl</td><td>Enhancer</td><td>-</td></tr>\n",
       "\t<tr><td>chrX</td><td>230148</td><td>233000</td><td>GH0XJ000230</td><td>  1</td><td>.</td><td>230148</td><td>233000</td><td>192192192</td><td>Ensembl</td><td>Enhancer</td><td>-</td></tr>\n",
       "\t<tr><td>chrX</td><td>249800</td><td>251200</td><td>GH0XJ000249</td><td> 82</td><td>.</td><td>249800</td><td>251200</td><td>160160160</td><td>Ensembl</td><td>Enhancer</td><td>-</td></tr>\n",
       "</tbody>\n",
       "</table>\n"
      ],
      "text/latex": [
       "A tibble: 6 × 12\n",
       "\\begin{tabular}{llllllllllll}\n",
       " Chrom & Start & End & name & score & strand & thickStart & thickEnd & reserved & evidenceSources & elementType & eliteness\\\\\n",
       " <chr> & <dbl> & <dbl> & <chr> & <dbl> & <chr> & <dbl> & <dbl> & <dbl> & <chr> & <chr> & <chr>\\\\\n",
       "\\hline\n",
       "\t chrX &  13390 &  14928 & GH0XJ000013 & 137 & . &  13390 &  14928 & 160160160 & Ensembl & Enhancer & -\\\\\n",
       "\t chrX &  17474 &  20600 & GH0XJ000017 &  99 & . &  17474 &  20600 & 160160160 & Ensembl & Enhancer & -\\\\\n",
       "\t chrX &  94800 &  95400 & GH0XJ000094 &   1 & . &  94800 &  95400 & 192192192 & Ensembl & Enhancer & -\\\\\n",
       "\t chrX & 225927 & 227643 & GH0XJ000225 &   1 & . & 225927 & 227643 & 192192192 & Ensembl & Enhancer & -\\\\\n",
       "\t chrX & 230148 & 233000 & GH0XJ000230 &   1 & . & 230148 & 233000 & 192192192 & Ensembl & Enhancer & -\\\\\n",
       "\t chrX & 249800 & 251200 & GH0XJ000249 &  82 & . & 249800 & 251200 & 160160160 & Ensembl & Enhancer & -\\\\\n",
       "\\end{tabular}\n"
      ],
      "text/markdown": [
       "\n",
       "A tibble: 6 × 12\n",
       "\n",
       "| Chrom &lt;chr&gt; | Start &lt;dbl&gt; | End &lt;dbl&gt; | name &lt;chr&gt; | score &lt;dbl&gt; | strand &lt;chr&gt; | thickStart &lt;dbl&gt; | thickEnd &lt;dbl&gt; | reserved &lt;dbl&gt; | evidenceSources &lt;chr&gt; | elementType &lt;chr&gt; | eliteness &lt;chr&gt; |\n",
       "|---|---|---|---|---|---|---|---|---|---|---|---|\n",
       "| chrX |  13390 |  14928 | GH0XJ000013 | 137 | . |  13390 |  14928 | 160160160 | Ensembl | Enhancer | - |\n",
       "| chrX |  17474 |  20600 | GH0XJ000017 |  99 | . |  17474 |  20600 | 160160160 | Ensembl | Enhancer | - |\n",
       "| chrX |  94800 |  95400 | GH0XJ000094 |   1 | . |  94800 |  95400 | 192192192 | Ensembl | Enhancer | - |\n",
       "| chrX | 225927 | 227643 | GH0XJ000225 |   1 | . | 225927 | 227643 | 192192192 | Ensembl | Enhancer | - |\n",
       "| chrX | 230148 | 233000 | GH0XJ000230 |   1 | . | 230148 | 233000 | 192192192 | Ensembl | Enhancer | - |\n",
       "| chrX | 249800 | 251200 | GH0XJ000249 |  82 | . | 249800 | 251200 | 160160160 | Ensembl | Enhancer | - |\n",
       "\n"
      ],
      "text/plain": [
       "  Chrom Start  End    name        score strand thickStart thickEnd reserved \n",
       "1 chrX   13390  14928 GH0XJ000013 137   .       13390      14928   160160160\n",
       "2 chrX   17474  20600 GH0XJ000017  99   .       17474      20600   160160160\n",
       "3 chrX   94800  95400 GH0XJ000094   1   .       94800      95400   192192192\n",
       "4 chrX  225927 227643 GH0XJ000225   1   .      225927     227643   192192192\n",
       "5 chrX  230148 233000 GH0XJ000230   1   .      230148     233000   192192192\n",
       "6 chrX  249800 251200 GH0XJ000249  82   .      249800     251200   160160160\n",
       "  evidenceSources elementType eliteness\n",
       "1 Ensembl         Enhancer    -        \n",
       "2 Ensembl         Enhancer    -        \n",
       "3 Ensembl         Enhancer    -        \n",
       "4 Ensembl         Enhancer    -        \n",
       "5 Ensembl         Enhancer    -        \n",
       "6 Ensembl         Enhancer    -        "
      ]
     },
     "metadata": {},
     "output_type": "display_data"
    }
   ],
   "source": [
    "###\n",
    "fdiry = file.path(FD_RES, \"region\", \"annotation_genehancer_ucsc_202301Jan\")\n",
    "fname = \"geneHancerRegElements_hg38_chrX.tsv\"\n",
    "fpath = file.path(fdiry, fname)\n",
    "\n",
    "###\n",
    "dat = read_tsv(fpath, show_col_types = FALSE)\n",
    "colnames(dat)[1:3] = c(\"Chrom\", \"Start\", \"End\")\n",
    "\n",
    "###\n",
    "dat_ghancer_reg = dat\n",
    "print(dim(dat))\n",
    "head(dat)"
   ]
  },
  {
   "cell_type": "code",
   "execution_count": 3,
   "id": "caf73cfa",
   "metadata": {},
   "outputs": [
    {
     "name": "stdout",
     "output_type": "stream",
     "text": [
      "[1] 14260    18\n"
     ]
    },
    {
     "data": {
      "text/html": [
       "<table class=\"dataframe\">\n",
       "<caption>A tibble: 6 × 18</caption>\n",
       "<thead>\n",
       "\t<tr><th scope=col>Chrom</th><th scope=col>Start</th><th scope=col>End</th><th scope=col>name</th><th scope=col>score</th><th scope=col>value</th><th scope=col>geneAssociationMethods</th><th scope=col>color</th><th scope=col>geneHancerChrom</th><th scope=col>geneHancerStart</th><th scope=col>geneHancerEnd</th><th scope=col>geneHancerIdentifier</th><th scope=col>geneHancerStrand</th><th scope=col>geneChrom</th><th scope=col>geneStart</th><th scope=col>geneEnd</th><th scope=col>geneName</th><th scope=col>geneStrand</th></tr>\n",
       "\t<tr><th scope=col>&lt;chr&gt;</th><th scope=col>&lt;dbl&gt;</th><th scope=col>&lt;dbl&gt;</th><th scope=col>&lt;chr&gt;</th><th scope=col>&lt;dbl&gt;</th><th scope=col>&lt;dbl&gt;</th><th scope=col>&lt;chr&gt;</th><th scope=col>&lt;chr&gt;</th><th scope=col>&lt;chr&gt;</th><th scope=col>&lt;dbl&gt;</th><th scope=col>&lt;dbl&gt;</th><th scope=col>&lt;chr&gt;</th><th scope=col>&lt;chr&gt;</th><th scope=col>&lt;chr&gt;</th><th scope=col>&lt;dbl&gt;</th><th scope=col>&lt;dbl&gt;</th><th scope=col>&lt;chr&gt;</th><th scope=col>&lt;chr&gt;</th></tr>\n",
       "</thead>\n",
       "<tbody>\n",
       "\t<tr><td>chrX</td><td> 13390</td><td>253743</td><td>ENSG00000228572/GH0XJ000013</td><td>2</td><td>0.04</td><td>Distance</td><td>77,190,238</td><td>chrX</td><td> 13390</td><td> 14928</td><td>GH0XJ000013</td><td>.</td><td>chrX</td><td>253742</td><td>253743</td><td>ENSG00000228572</td><td>+</td></tr>\n",
       "\t<tr><td>chrX</td><td> 17474</td><td>253743</td><td>ENSG00000228572/GH0XJ000017</td><td>2</td><td>0.04</td><td>Distance</td><td>77,190,238</td><td>chrX</td><td> 17474</td><td> 20600</td><td>GH0XJ000017</td><td>.</td><td>chrX</td><td>253742</td><td>253743</td><td>ENSG00000228572</td><td>+</td></tr>\n",
       "\t<tr><td>chrX</td><td> 94800</td><td>253743</td><td>ENSG00000228572/GH0XJ000094</td><td>2</td><td>0.02</td><td>Distance</td><td>77,190,238</td><td>chrX</td><td> 94800</td><td> 95400</td><td>GH0XJ000094</td><td>.</td><td>chrX</td><td>253742</td><td>253743</td><td>ENSG00000228572</td><td>+</td></tr>\n",
       "\t<tr><td>chrX</td><td>225927</td><td>253743</td><td>ENSG00000228572/GH0XJ000225</td><td>2</td><td>0.06</td><td>Distance</td><td>77,190,238</td><td>chrX</td><td>225927</td><td>227643</td><td>GH0XJ000225</td><td>.</td><td>chrX</td><td>253742</td><td>253743</td><td>ENSG00000228572</td><td>+</td></tr>\n",
       "\t<tr><td>chrX</td><td>230148</td><td>253743</td><td>ENSG00000228572/GH0XJ000230</td><td>2</td><td>0.07</td><td>Distance</td><td>77,190,238</td><td>chrX</td><td>230148</td><td>233000</td><td>GH0XJ000230</td><td>.</td><td>chrX</td><td>253742</td><td>253743</td><td>ENSG00000228572</td><td>+</td></tr>\n",
       "\t<tr><td>chrX</td><td>249800</td><td>253743</td><td>ENSG00000228572/GH0XJ000249</td><td>2</td><td>0.34</td><td>Distance</td><td>77,190,238</td><td>chrX</td><td>249800</td><td>251200</td><td>GH0XJ000249</td><td>.</td><td>chrX</td><td>253742</td><td>253743</td><td>ENSG00000228572</td><td>+</td></tr>\n",
       "</tbody>\n",
       "</table>\n"
      ],
      "text/latex": [
       "A tibble: 6 × 18\n",
       "\\begin{tabular}{llllllllllllllllll}\n",
       " Chrom & Start & End & name & score & value & geneAssociationMethods & color & geneHancerChrom & geneHancerStart & geneHancerEnd & geneHancerIdentifier & geneHancerStrand & geneChrom & geneStart & geneEnd & geneName & geneStrand\\\\\n",
       " <chr> & <dbl> & <dbl> & <chr> & <dbl> & <dbl> & <chr> & <chr> & <chr> & <dbl> & <dbl> & <chr> & <chr> & <chr> & <dbl> & <dbl> & <chr> & <chr>\\\\\n",
       "\\hline\n",
       "\t chrX &  13390 & 253743 & ENSG00000228572/GH0XJ000013 & 2 & 0.04 & Distance & 77,190,238 & chrX &  13390 &  14928 & GH0XJ000013 & . & chrX & 253742 & 253743 & ENSG00000228572 & +\\\\\n",
       "\t chrX &  17474 & 253743 & ENSG00000228572/GH0XJ000017 & 2 & 0.04 & Distance & 77,190,238 & chrX &  17474 &  20600 & GH0XJ000017 & . & chrX & 253742 & 253743 & ENSG00000228572 & +\\\\\n",
       "\t chrX &  94800 & 253743 & ENSG00000228572/GH0XJ000094 & 2 & 0.02 & Distance & 77,190,238 & chrX &  94800 &  95400 & GH0XJ000094 & . & chrX & 253742 & 253743 & ENSG00000228572 & +\\\\\n",
       "\t chrX & 225927 & 253743 & ENSG00000228572/GH0XJ000225 & 2 & 0.06 & Distance & 77,190,238 & chrX & 225927 & 227643 & GH0XJ000225 & . & chrX & 253742 & 253743 & ENSG00000228572 & +\\\\\n",
       "\t chrX & 230148 & 253743 & ENSG00000228572/GH0XJ000230 & 2 & 0.07 & Distance & 77,190,238 & chrX & 230148 & 233000 & GH0XJ000230 & . & chrX & 253742 & 253743 & ENSG00000228572 & +\\\\\n",
       "\t chrX & 249800 & 253743 & ENSG00000228572/GH0XJ000249 & 2 & 0.34 & Distance & 77,190,238 & chrX & 249800 & 251200 & GH0XJ000249 & . & chrX & 253742 & 253743 & ENSG00000228572 & +\\\\\n",
       "\\end{tabular}\n"
      ],
      "text/markdown": [
       "\n",
       "A tibble: 6 × 18\n",
       "\n",
       "| Chrom &lt;chr&gt; | Start &lt;dbl&gt; | End &lt;dbl&gt; | name &lt;chr&gt; | score &lt;dbl&gt; | value &lt;dbl&gt; | geneAssociationMethods &lt;chr&gt; | color &lt;chr&gt; | geneHancerChrom &lt;chr&gt; | geneHancerStart &lt;dbl&gt; | geneHancerEnd &lt;dbl&gt; | geneHancerIdentifier &lt;chr&gt; | geneHancerStrand &lt;chr&gt; | geneChrom &lt;chr&gt; | geneStart &lt;dbl&gt; | geneEnd &lt;dbl&gt; | geneName &lt;chr&gt; | geneStrand &lt;chr&gt; |\n",
       "|---|---|---|---|---|---|---|---|---|---|---|---|---|---|---|---|---|---|\n",
       "| chrX |  13390 | 253743 | ENSG00000228572/GH0XJ000013 | 2 | 0.04 | Distance | 77,190,238 | chrX |  13390 |  14928 | GH0XJ000013 | . | chrX | 253742 | 253743 | ENSG00000228572 | + |\n",
       "| chrX |  17474 | 253743 | ENSG00000228572/GH0XJ000017 | 2 | 0.04 | Distance | 77,190,238 | chrX |  17474 |  20600 | GH0XJ000017 | . | chrX | 253742 | 253743 | ENSG00000228572 | + |\n",
       "| chrX |  94800 | 253743 | ENSG00000228572/GH0XJ000094 | 2 | 0.02 | Distance | 77,190,238 | chrX |  94800 |  95400 | GH0XJ000094 | . | chrX | 253742 | 253743 | ENSG00000228572 | + |\n",
       "| chrX | 225927 | 253743 | ENSG00000228572/GH0XJ000225 | 2 | 0.06 | Distance | 77,190,238 | chrX | 225927 | 227643 | GH0XJ000225 | . | chrX | 253742 | 253743 | ENSG00000228572 | + |\n",
       "| chrX | 230148 | 253743 | ENSG00000228572/GH0XJ000230 | 2 | 0.07 | Distance | 77,190,238 | chrX | 230148 | 233000 | GH0XJ000230 | . | chrX | 253742 | 253743 | ENSG00000228572 | + |\n",
       "| chrX | 249800 | 253743 | ENSG00000228572/GH0XJ000249 | 2 | 0.34 | Distance | 77,190,238 | chrX | 249800 | 251200 | GH0XJ000249 | . | chrX | 253742 | 253743 | ENSG00000228572 | + |\n",
       "\n"
      ],
      "text/plain": [
       "  Chrom Start  End    name                        score value\n",
       "1 chrX   13390 253743 ENSG00000228572/GH0XJ000013 2     0.04 \n",
       "2 chrX   17474 253743 ENSG00000228572/GH0XJ000017 2     0.04 \n",
       "3 chrX   94800 253743 ENSG00000228572/GH0XJ000094 2     0.02 \n",
       "4 chrX  225927 253743 ENSG00000228572/GH0XJ000225 2     0.06 \n",
       "5 chrX  230148 253743 ENSG00000228572/GH0XJ000230 2     0.07 \n",
       "6 chrX  249800 253743 ENSG00000228572/GH0XJ000249 2     0.34 \n",
       "  geneAssociationMethods color      geneHancerChrom geneHancerStart\n",
       "1 Distance               77,190,238 chrX             13390         \n",
       "2 Distance               77,190,238 chrX             17474         \n",
       "3 Distance               77,190,238 chrX             94800         \n",
       "4 Distance               77,190,238 chrX            225927         \n",
       "5 Distance               77,190,238 chrX            230148         \n",
       "6 Distance               77,190,238 chrX            249800         \n",
       "  geneHancerEnd geneHancerIdentifier geneHancerStrand geneChrom geneStart\n",
       "1  14928        GH0XJ000013          .                chrX      253742   \n",
       "2  20600        GH0XJ000017          .                chrX      253742   \n",
       "3  95400        GH0XJ000094          .                chrX      253742   \n",
       "4 227643        GH0XJ000225          .                chrX      253742   \n",
       "5 233000        GH0XJ000230          .                chrX      253742   \n",
       "6 251200        GH0XJ000249          .                chrX      253742   \n",
       "  geneEnd geneName        geneStrand\n",
       "1 253743  ENSG00000228572 +         \n",
       "2 253743  ENSG00000228572 +         \n",
       "3 253743  ENSG00000228572 +         \n",
       "4 253743  ENSG00000228572 +         \n",
       "5 253743  ENSG00000228572 +         \n",
       "6 253743  ENSG00000228572 +         "
      ]
     },
     "metadata": {},
     "output_type": "display_data"
    }
   ],
   "source": [
    "###\n",
    "fdiry = file.path(FD_RES, \"region\", \"annotation_genehancer_ucsc_202301Jan\")\n",
    "fname = \"geneHancerInteractions_hg38_chrX.tsv\"\n",
    "fpath = file.path(fdiry, fname)\n",
    "\n",
    "###\n",
    "dat = read_tsv(fpath, show_col_types = FALSE)\n",
    "colnames(dat)[1:3] = c(\"Chrom\", \"Start\", \"End\")\n",
    "\n",
    "###\n",
    "dat_ghancer_int = dat\n",
    "print(dim(dat))\n",
    "head(dat)"
   ]
  },
  {
   "cell_type": "code",
   "execution_count": 5,
   "id": "30bfdf13",
   "metadata": {},
   "outputs": [],
   "source": [
    "dat_node = data.frame(Node = unique(c(dat_ghancer_reg$name, dat_ghancer_int$geneName)))\n",
    "dat_edge = dat_ghancer_int %>% dplyr::select(geneHancerIdentifier, geneName)"
   ]
  },
  {
   "cell_type": "code",
   "execution_count": 7,
   "id": "df0e232c",
   "metadata": {},
   "outputs": [
    {
     "name": "stdout",
     "output_type": "stream",
     "text": [
      "[1] 7830    1\n",
      "         Node\n",
      "1 GH0XJ000013\n",
      "2 GH0XJ000017\n",
      "3 GH0XJ000094\n",
      "4 GH0XJ000225\n",
      "5 GH0XJ000230\n",
      "6 GH0XJ000249\n",
      "                Node\n",
      "7825           SPRY3\n",
      "7826         ELOCP24\n",
      "7827           VAMP7\n",
      "7828 ENSG00000270726\n",
      "7829          WASIR1\n",
      "7830        DDX11L16\n"
     ]
    }
   ],
   "source": [
    "print(dim(dat_node))\n",
    "print(head(dat_node))\n",
    "print(tail(dat_node))"
   ]
  },
  {
   "cell_type": "code",
   "execution_count": 8,
   "id": "82195814",
   "metadata": {},
   "outputs": [
    {
     "name": "stdout",
     "output_type": "stream",
     "text": [
      "[1] 14260     2\n",
      "\u001b[90m# A tibble: 6 × 2\u001b[39m\n",
      "  geneHancerIdentifier geneName       \n",
      "  \u001b[3m\u001b[90m<chr>\u001b[39m\u001b[23m                \u001b[3m\u001b[90m<chr>\u001b[39m\u001b[23m          \n",
      "\u001b[90m1\u001b[39m GH0XJ000013          ENSG00000228572\n",
      "\u001b[90m2\u001b[39m GH0XJ000017          ENSG00000228572\n",
      "\u001b[90m3\u001b[39m GH0XJ000094          ENSG00000228572\n",
      "\u001b[90m4\u001b[39m GH0XJ000225          ENSG00000228572\n",
      "\u001b[90m5\u001b[39m GH0XJ000230          ENSG00000228572\n",
      "\u001b[90m6\u001b[39m GH0XJ000249          ENSG00000228572\n",
      "\u001b[90m# A tibble: 6 × 2\u001b[39m\n",
      "  geneHancerIdentifier geneName       \n",
      "  \u001b[3m\u001b[90m<chr>\u001b[39m\u001b[23m                \u001b[3m\u001b[90m<chr>\u001b[39m\u001b[23m          \n",
      "\u001b[90m1\u001b[39m GH0XJ155958          VAMP7          \n",
      "\u001b[90m2\u001b[39m GH0XJ155958          ELOCP24        \n",
      "\u001b[90m3\u001b[39m GH0XJ156016          ENSG00000270726\n",
      "\u001b[90m4\u001b[39m GH0XJ156016          WASIR1         \n",
      "\u001b[90m5\u001b[39m GH0XJ156026          WASH6P         \n",
      "\u001b[90m6\u001b[39m GH0XJ156026          DDX11L16       \n"
     ]
    }
   ],
   "source": [
    "dat = dat_edge\n",
    "print(dim(dat))\n",
    "print(head(dat))\n",
    "print(tail(dat))"
   ]
  },
  {
   "cell_type": "code",
   "execution_count": 9,
   "id": "81fff8bf",
   "metadata": {},
   "outputs": [],
   "source": [
    "###\n",
    "fdiry = file.path(FD_RES, \"region\", \"annotation_genehancer_ucsc_202301Jan\")\n",
    "fname = \"node_chrX.tsv\"\n",
    "fpath = file.path(fdiry, fname)\n",
    "\n",
    "write_tsv(dat_node, fpath)"
   ]
  },
  {
   "cell_type": "code",
   "execution_count": 10,
   "id": "cdb44a32",
   "metadata": {},
   "outputs": [],
   "source": [
    "fdiry = file.path(FD_RES, \"region\", \"annotation_genehancer_ucsc_202301Jan\")\n",
    "fname = \"edge_chrX.tsv\"\n",
    "fpath = file.path(fdiry, fname)\n",
    "\n",
    "write_tsv(dat_edge, fpath)"
   ]
  },
  {
   "cell_type": "code",
   "execution_count": null,
   "id": "a692854d",
   "metadata": {},
   "outputs": [],
   "source": []
  }
 ],
 "metadata": {
  "kernelspec": {
   "display_name": "R",
   "language": "R",
   "name": "ir"
  },
  "language_info": {
   "codemirror_mode": "r",
   "file_extension": ".r",
   "mimetype": "text/x-r-source",
   "name": "R",
   "pygments_lexer": "r",
   "version": "4.2.2"
  }
 },
 "nbformat": 4,
 "nbformat_minor": 5
}
