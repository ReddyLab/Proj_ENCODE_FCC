{
 "cells": [
  {
   "cell_type": "code",
   "execution_count": 1,
   "id": "deac89b5",
   "metadata": {},
   "outputs": [
    {
     "name": "stdout",
     "output_type": "stream",
     "text": [
      "You are in Singularity: singularity_proj_combeffect \n",
      "BASE DIRECTORY:     /data/reddylab/Kuei \n",
      "WORK DIRECTORY:     /data/reddylab/Kuei/out \n",
      "CODE DIRECTORY:     /data/reddylab/Kuei/code \n",
      "PATH OF SOURCE:     /data/reddylab/Kuei/source \n",
      "PATH OF EXECUTABLE: /data/reddylab/Kuei/bin \n",
      "PATH OF ANNOTATION: /data/reddylab/Kuei/annotation \n",
      "PATH OF PROJECT:    /data/reddylab/Kuei/code/Proj_CombEffect_ENCODE_FCC \n",
      "PATH OF RESULTS:    /data/reddylab/Kuei/out/proj_combeffect_encode_fcc \n"
     ]
    }
   ],
   "source": [
    "suppressMessages(suppressWarnings(source(\"../config/config_sing.R\")))\n",
    "show_env()"
   ]
  },
  {
   "cell_type": "code",
   "execution_count": 2,
   "id": "4ddc74a9",
   "metadata": {},
   "outputs": [
    {
     "name": "stdout",
     "output_type": "stream",
     "text": [
      " \n",
      "\n",
      "Chrom Start End Peak Region Name Label \n",
      "\n",
      "[1] 4587    7\n",
      "\u001b[90m# A tibble: 3 × 7\u001b[39m\n",
      "  Chrom     Start       End Peak                     Region Name           Label\n",
      "  \u001b[3m\u001b[90m<chr>\u001b[39m\u001b[23m     \u001b[3m\u001b[90m<dbl>\u001b[39m\u001b[23m     \u001b[3m\u001b[90m<dbl>\u001b[39m\u001b[23m \u001b[3m\u001b[90m<chr>\u001b[39m\u001b[23m                    \u001b[3m\u001b[90m<chr>\u001b[39m\u001b[23m  \u001b[3m\u001b[90m<chr>\u001b[39m\u001b[23m          \u001b[3m\u001b[90m<chr>\u001b[39m\u001b[23m\n",
      "\u001b[90m1\u001b[39m chr8  126\u001b[4m7\u001b[24m\u001b[4m7\u001b[24m\u001b[4m8\u001b[24m902 126\u001b[4m7\u001b[24m\u001b[4m7\u001b[24m\u001b[4m9\u001b[24m728 chr8_126778902_126779728 MYC    CTCF-only,CTC… 0    \n",
      "\u001b[90m2\u001b[39m chr8  126\u001b[4m7\u001b[24m\u001b[4m8\u001b[24m\u001b[4m2\u001b[24m925 126\u001b[4m7\u001b[24m\u001b[4m8\u001b[24m\u001b[4m3\u001b[24m318 chr8_126782925_126783318 MYC    CTCF-only,CTC… 0    \n",
      "\u001b[90m3\u001b[39m chr8  126\u001b[4m8\u001b[24m\u001b[4m0\u001b[24m\u001b[4m4\u001b[24m776 126\u001b[4m8\u001b[24m\u001b[4m0\u001b[24m\u001b[4m5\u001b[24m825 chr8_126804776_126805825 MYC    CTCF-only,CTC… 0    \n",
      "\n",
      "[1] 6255    7\n",
      "\u001b[90m# A tibble: 3 × 7\u001b[39m\n",
      "  Chrom     Start       End Peak                     Region Name  Label\n",
      "  \u001b[3m\u001b[90m<chr>\u001b[39m\u001b[23m     \u001b[3m\u001b[90m<dbl>\u001b[39m\u001b[23m     \u001b[3m\u001b[90m<dbl>\u001b[39m\u001b[23m \u001b[3m\u001b[90m<chr>\u001b[39m\u001b[23m                    \u001b[3m\u001b[90m<chr>\u001b[39m\u001b[23m  \u001b[3m\u001b[90m<chr>\u001b[39m\u001b[23m \u001b[3m\u001b[90m<chr>\u001b[39m\u001b[23m\n",
      "\u001b[90m1\u001b[39m chr8  126\u001b[4m7\u001b[24m\u001b[4m7\u001b[24m\u001b[4m8\u001b[24m902 126\u001b[4m7\u001b[24m\u001b[4m7\u001b[24m\u001b[4m9\u001b[24m728 chr8_126778902_126779728 MYC    ELK1  0    \n",
      "\u001b[90m2\u001b[39m chr8  126\u001b[4m7\u001b[24m\u001b[4m8\u001b[24m\u001b[4m2\u001b[24m925 126\u001b[4m7\u001b[24m\u001b[4m8\u001b[24m\u001b[4m3\u001b[24m318 chr8_126782925_126783318 MYC    ELK1  0    \n",
      "\u001b[90m3\u001b[39m chr8  126\u001b[4m8\u001b[24m\u001b[4m0\u001b[24m\u001b[4m4\u001b[24m776 126\u001b[4m8\u001b[24m\u001b[4m0\u001b[24m\u001b[4m5\u001b[24m825 chr8_126804776_126805825 MYC    ELK1  0    \n",
      "\n",
      "[1] 417   7\n",
      "\u001b[90m# A tibble: 3 × 7\u001b[39m\n",
      "  Chrom     Start       End Peak                     Region Name  Label\n",
      "  \u001b[3m\u001b[90m<chr>\u001b[39m\u001b[23m     \u001b[3m\u001b[90m<dbl>\u001b[39m\u001b[23m     \u001b[3m\u001b[90m<dbl>\u001b[39m\u001b[23m \u001b[3m\u001b[90m<chr>\u001b[39m\u001b[23m                    \u001b[3m\u001b[90m<chr>\u001b[39m\u001b[23m  \u001b[3m\u001b[90m<chr>\u001b[39m\u001b[23m \u001b[3m\u001b[90m<chr>\u001b[39m\u001b[23m\n",
      "\u001b[90m1\u001b[39m chr8  126\u001b[4m7\u001b[24m\u001b[4m7\u001b[24m\u001b[4m8\u001b[24m902 126\u001b[4m7\u001b[24m\u001b[4m7\u001b[24m\u001b[4m9\u001b[24m728 chr8_126778902_126779728 MYC    TSS   0    \n",
      "\u001b[90m2\u001b[39m chr8  126\u001b[4m7\u001b[24m\u001b[4m8\u001b[24m\u001b[4m2\u001b[24m925 126\u001b[4m7\u001b[24m\u001b[4m8\u001b[24m\u001b[4m3\u001b[24m318 chr8_126782925_126783318 MYC    TSS   0    \n",
      "\u001b[90m3\u001b[39m chr8  126\u001b[4m8\u001b[24m\u001b[4m0\u001b[24m\u001b[4m4\u001b[24m776 126\u001b[4m8\u001b[24m\u001b[4m0\u001b[24m\u001b[4m5\u001b[24m825 chr8_126804776_126805825 MYC    TSS   0    \n",
      "\n",
      "[1] 417   7\n",
      "\u001b[90m# A tibble: 3 × 7\u001b[39m\n",
      "  Chrom     Start       End Peak                     Region Name           Label\n",
      "  \u001b[3m\u001b[90m<chr>\u001b[39m\u001b[23m     \u001b[3m\u001b[90m<dbl>\u001b[39m\u001b[23m     \u001b[3m\u001b[90m<dbl>\u001b[39m\u001b[23m \u001b[3m\u001b[90m<chr>\u001b[39m\u001b[23m                    \u001b[3m\u001b[90m<chr>\u001b[39m\u001b[23m  \u001b[3m\u001b[90m<chr>\u001b[39m\u001b[23m          \u001b[3m\u001b[90m<chr>\u001b[39m\u001b[23m\n",
      "\u001b[90m1\u001b[39m chr8  126\u001b[4m7\u001b[24m\u001b[4m7\u001b[24m\u001b[4m8\u001b[24m902 126\u001b[4m7\u001b[24m\u001b[4m7\u001b[24m\u001b[4m9\u001b[24m728 chr8_126778902_126779728 MYC    Enhancer_ASTA… 0    \n",
      "\u001b[90m2\u001b[39m chr8  126\u001b[4m7\u001b[24m\u001b[4m8\u001b[24m\u001b[4m2\u001b[24m925 126\u001b[4m7\u001b[24m\u001b[4m8\u001b[24m\u001b[4m3\u001b[24m318 chr8_126782925_126783318 MYC    Enhancer_ASTA… 0    \n",
      "\u001b[90m3\u001b[39m chr8  126\u001b[4m8\u001b[24m\u001b[4m0\u001b[24m\u001b[4m4\u001b[24m776 126\u001b[4m8\u001b[24m\u001b[4m0\u001b[24m\u001b[4m5\u001b[24m825 chr8_126804776_126805825 MYC    Enhancer_ASTA… 0    \n",
      "\n",
      "[1] 417   7\n",
      "\u001b[90m# A tibble: 3 × 7\u001b[39m\n",
      "  Chrom     Start       End Peak                     Region Name           Label\n",
      "  \u001b[3m\u001b[90m<chr>\u001b[39m\u001b[23m     \u001b[3m\u001b[90m<dbl>\u001b[39m\u001b[23m     \u001b[3m\u001b[90m<dbl>\u001b[39m\u001b[23m \u001b[3m\u001b[90m<chr>\u001b[39m\u001b[23m                    \u001b[3m\u001b[90m<chr>\u001b[39m\u001b[23m  \u001b[3m\u001b[90m<chr>\u001b[39m\u001b[23m          \u001b[3m\u001b[90m<chr>\u001b[39m\u001b[23m\n",
      "\u001b[90m1\u001b[39m chr8  126\u001b[4m7\u001b[24m\u001b[4m7\u001b[24m\u001b[4m8\u001b[24m902 126\u001b[4m7\u001b[24m\u001b[4m7\u001b[24m\u001b[4m9\u001b[24m728 chr8_126778902_126779728 MYC    Enhancer_WSTA… 0    \n",
      "\u001b[90m2\u001b[39m chr8  126\u001b[4m7\u001b[24m\u001b[4m8\u001b[24m\u001b[4m2\u001b[24m925 126\u001b[4m7\u001b[24m\u001b[4m8\u001b[24m\u001b[4m3\u001b[24m318 chr8_126782925_126783318 MYC    Enhancer_WSTA… 0    \n",
      "\u001b[90m3\u001b[39m chr8  126\u001b[4m8\u001b[24m\u001b[4m0\u001b[24m\u001b[4m4\u001b[24m776 126\u001b[4m8\u001b[24m\u001b[4m0\u001b[24m\u001b[4m5\u001b[24m825 chr8_126804776_126805825 MYC    Enhancer_WSTA… 0    \n",
      "\n"
     ]
    }
   ],
   "source": [
    "fdiry = file.path(FD_RES, \"results\", \"comparison\", \"comparison_global\")\n",
    "fname = \"List_combine_Annotation.RDS\"\n",
    "fpath = file.path(fdiry, fname)\n",
    "lst = readRDS(fpath)\n",
    "\n",
    "lst_peak_annot = lst\n",
    "cat(names(lst), \"\\n\\n\")\n",
    "cat(colnames(lst[[1]]), \"\\n\\n\")\n",
    "for(dat in lst){\n",
    "    print(dim(dat))\n",
    "    print(head(dat, 3))\n",
    "    cat(\"\\n\")\n",
    "}"
   ]
  },
  {
   "cell_type": "code",
   "execution_count": null,
   "id": "656629e9",
   "metadata": {},
   "outputs": [],
   "source": []
  }
 ],
 "metadata": {
  "kernelspec": {
   "display_name": "R",
   "language": "R",
   "name": "ir"
  },
  "language_info": {
   "codemirror_mode": "r",
   "file_extension": ".r",
   "mimetype": "text/x-r-source",
   "name": "R",
   "pygments_lexer": "r",
   "version": "4.2.2"
  }
 },
 "nbformat": 4,
 "nbformat_minor": 5
}
