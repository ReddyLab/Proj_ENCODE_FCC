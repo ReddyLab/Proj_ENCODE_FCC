{
 "cells": [
  {
   "cell_type": "code",
   "execution_count": 1,
   "id": "32d6ce78",
   "metadata": {},
   "outputs": [
    {
     "name": "stdout",
     "output_type": "stream",
     "text": [
      "You are in Singularity: singularity_proj_combeffect \n",
      "BASE DIRECTORY:     /data/reddylab/Kuei \n",
      "WORK DIRECTORY:     /data/reddylab/Kuei/out \n",
      "CODE DIRECTORY:     /data/reddylab/Kuei/code \n",
      "PATH OF SOURCE:     /data/reddylab/Kuei/source \n",
      "PATH OF EXECUTABLE: /data/reddylab/Kuei/bin \n",
      "PATH OF ANNOTATION: /data/reddylab/Kuei/annotation \n",
      "PATH OF PROJECT:    /data/reddylab/Kuei/code/Proj_CombEffect_ENCODE_FCC \n",
      "PATH OF RESULTS:    /data/reddylab/Kuei/out/proj_combeffect_encode_fcc \n"
     ]
    }
   ],
   "source": [
    "suppressMessages(suppressWarnings(source(\"../config/config_sing.R\")))\n",
    "show_env()"
   ]
  },
  {
   "cell_type": "markdown",
   "id": "b3dd0c23",
   "metadata": {},
   "source": [
    "## Import"
   ]
  },
  {
   "cell_type": "code",
   "execution_count": 2,
   "id": "f2c23d34",
   "metadata": {},
   "outputs": [
    {
     "name": "stdout",
     "output_type": "stream",
     "text": [
      "[1] 9118   13\n"
     ]
    },
    {
     "data": {
      "text/html": [
       "<table class=\"dataframe\">\n",
       "<caption>A tibble: 6 × 13</caption>\n",
       "<thead>\n",
       "\t<tr><th scope=col>Chrom</th><th scope=col>Start</th><th scope=col>End</th><th scope=col>Peak</th><th scope=col>Region</th><th scope=col>Chrom_Track</th><th scope=col>Start_Track</th><th scope=col>End_Track</th><th scope=col>Loc_Track</th><th scope=col>cor_astarr_wstarr</th><th scope=col>cor_astarr_tmpra</th><th scope=col>cor_wstarr_tmpra</th><th scope=col>Overlap</th></tr>\n",
       "\t<tr><th scope=col>&lt;chr&gt;</th><th scope=col>&lt;dbl&gt;</th><th scope=col>&lt;dbl&gt;</th><th scope=col>&lt;chr&gt;</th><th scope=col>&lt;chr&gt;</th><th scope=col>&lt;chr&gt;</th><th scope=col>&lt;dbl&gt;</th><th scope=col>&lt;dbl&gt;</th><th scope=col>&lt;dbl&gt;</th><th scope=col>&lt;dbl&gt;</th><th scope=col>&lt;dbl&gt;</th><th scope=col>&lt;dbl&gt;</th><th scope=col>&lt;dbl&gt;</th></tr>\n",
       "</thead>\n",
       "<tbody>\n",
       "\t<tr><td>chr8</td><td>126778902</td><td>126779728</td><td>chr8_126778902_126779728</td><td>MYC</td><td>chr8</td><td>126778751</td><td>126778951</td><td>126778851</td><td>-0.47028976</td><td> 0.6814950</td><td>-0.30946194</td><td> 49</td></tr>\n",
       "\t<tr><td>chr8</td><td>126778902</td><td>126779728</td><td>chr8_126778902_126779728</td><td>MYC</td><td>chr8</td><td>126778801</td><td>126779001</td><td>126778901</td><td>-0.77914765</td><td> 0.1717113</td><td>-0.02573310</td><td> 99</td></tr>\n",
       "\t<tr><td>chr8</td><td>126778902</td><td>126779728</td><td>chr8_126778902_126779728</td><td>MYC</td><td>chr8</td><td>126778851</td><td>126779051</td><td>126778951</td><td>-0.41288257</td><td>-0.7891069</td><td>-0.01979703</td><td>149</td></tr>\n",
       "\t<tr><td>chr8</td><td>126778902</td><td>126779728</td><td>chr8_126778902_126779728</td><td>MYC</td><td>chr8</td><td>126778901</td><td>126779101</td><td>126779001</td><td>-0.53068496</td><td> 0.3361910</td><td>-0.69451977</td><td>199</td></tr>\n",
       "\t<tr><td>chr8</td><td>126778902</td><td>126779728</td><td>chr8_126778902_126779728</td><td>MYC</td><td>chr8</td><td>126778951</td><td>126779151</td><td>126779051</td><td>-0.47553420</td><td> 0.2485319</td><td>-0.73220470</td><td>200</td></tr>\n",
       "\t<tr><td>chr8</td><td>126778902</td><td>126779728</td><td>chr8_126778902_126779728</td><td>MYC</td><td>chr8</td><td>126779001</td><td>126779201</td><td>126779101</td><td> 0.03886097</td><td>-0.5887484</td><td>-0.38226087</td><td>200</td></tr>\n",
       "</tbody>\n",
       "</table>\n"
      ],
      "text/latex": [
       "A tibble: 6 × 13\n",
       "\\begin{tabular}{lllllllllllll}\n",
       " Chrom & Start & End & Peak & Region & Chrom\\_Track & Start\\_Track & End\\_Track & Loc\\_Track & cor\\_astarr\\_wstarr & cor\\_astarr\\_tmpra & cor\\_wstarr\\_tmpra & Overlap\\\\\n",
       " <chr> & <dbl> & <dbl> & <chr> & <chr> & <chr> & <dbl> & <dbl> & <dbl> & <dbl> & <dbl> & <dbl> & <dbl>\\\\\n",
       "\\hline\n",
       "\t chr8 & 126778902 & 126779728 & chr8\\_126778902\\_126779728 & MYC & chr8 & 126778751 & 126778951 & 126778851 & -0.47028976 &  0.6814950 & -0.30946194 &  49\\\\\n",
       "\t chr8 & 126778902 & 126779728 & chr8\\_126778902\\_126779728 & MYC & chr8 & 126778801 & 126779001 & 126778901 & -0.77914765 &  0.1717113 & -0.02573310 &  99\\\\\n",
       "\t chr8 & 126778902 & 126779728 & chr8\\_126778902\\_126779728 & MYC & chr8 & 126778851 & 126779051 & 126778951 & -0.41288257 & -0.7891069 & -0.01979703 & 149\\\\\n",
       "\t chr8 & 126778902 & 126779728 & chr8\\_126778902\\_126779728 & MYC & chr8 & 126778901 & 126779101 & 126779001 & -0.53068496 &  0.3361910 & -0.69451977 & 199\\\\\n",
       "\t chr8 & 126778902 & 126779728 & chr8\\_126778902\\_126779728 & MYC & chr8 & 126778951 & 126779151 & 126779051 & -0.47553420 &  0.2485319 & -0.73220470 & 200\\\\\n",
       "\t chr8 & 126778902 & 126779728 & chr8\\_126778902\\_126779728 & MYC & chr8 & 126779001 & 126779201 & 126779101 &  0.03886097 & -0.5887484 & -0.38226087 & 200\\\\\n",
       "\\end{tabular}\n"
      ],
      "text/markdown": [
       "\n",
       "A tibble: 6 × 13\n",
       "\n",
       "| Chrom &lt;chr&gt; | Start &lt;dbl&gt; | End &lt;dbl&gt; | Peak &lt;chr&gt; | Region &lt;chr&gt; | Chrom_Track &lt;chr&gt; | Start_Track &lt;dbl&gt; | End_Track &lt;dbl&gt; | Loc_Track &lt;dbl&gt; | cor_astarr_wstarr &lt;dbl&gt; | cor_astarr_tmpra &lt;dbl&gt; | cor_wstarr_tmpra &lt;dbl&gt; | Overlap &lt;dbl&gt; |\n",
       "|---|---|---|---|---|---|---|---|---|---|---|---|---|\n",
       "| chr8 | 126778902 | 126779728 | chr8_126778902_126779728 | MYC | chr8 | 126778751 | 126778951 | 126778851 | -0.47028976 |  0.6814950 | -0.30946194 |  49 |\n",
       "| chr8 | 126778902 | 126779728 | chr8_126778902_126779728 | MYC | chr8 | 126778801 | 126779001 | 126778901 | -0.77914765 |  0.1717113 | -0.02573310 |  99 |\n",
       "| chr8 | 126778902 | 126779728 | chr8_126778902_126779728 | MYC | chr8 | 126778851 | 126779051 | 126778951 | -0.41288257 | -0.7891069 | -0.01979703 | 149 |\n",
       "| chr8 | 126778902 | 126779728 | chr8_126778902_126779728 | MYC | chr8 | 126778901 | 126779101 | 126779001 | -0.53068496 |  0.3361910 | -0.69451977 | 199 |\n",
       "| chr8 | 126778902 | 126779728 | chr8_126778902_126779728 | MYC | chr8 | 126778951 | 126779151 | 126779051 | -0.47553420 |  0.2485319 | -0.73220470 | 200 |\n",
       "| chr8 | 126778902 | 126779728 | chr8_126778902_126779728 | MYC | chr8 | 126779001 | 126779201 | 126779101 |  0.03886097 | -0.5887484 | -0.38226087 | 200 |\n",
       "\n"
      ],
      "text/plain": [
       "  Chrom Start     End       Peak                     Region Chrom_Track\n",
       "1 chr8  126778902 126779728 chr8_126778902_126779728 MYC    chr8       \n",
       "2 chr8  126778902 126779728 chr8_126778902_126779728 MYC    chr8       \n",
       "3 chr8  126778902 126779728 chr8_126778902_126779728 MYC    chr8       \n",
       "4 chr8  126778902 126779728 chr8_126778902_126779728 MYC    chr8       \n",
       "5 chr8  126778902 126779728 chr8_126778902_126779728 MYC    chr8       \n",
       "6 chr8  126778902 126779728 chr8_126778902_126779728 MYC    chr8       \n",
       "  Start_Track End_Track Loc_Track cor_astarr_wstarr cor_astarr_tmpra\n",
       "1 126778751   126778951 126778851 -0.47028976        0.6814950      \n",
       "2 126778801   126779001 126778901 -0.77914765        0.1717113      \n",
       "3 126778851   126779051 126778951 -0.41288257       -0.7891069      \n",
       "4 126778901   126779101 126779001 -0.53068496        0.3361910      \n",
       "5 126778951   126779151 126779051 -0.47553420        0.2485319      \n",
       "6 126779001   126779201 126779101  0.03886097       -0.5887484      \n",
       "  cor_wstarr_tmpra Overlap\n",
       "1 -0.30946194       49    \n",
       "2 -0.02573310       99    \n",
       "3 -0.01979703      149    \n",
       "4 -0.69451977      199    \n",
       "5 -0.73220470      200    \n",
       "6 -0.38226087      200    "
      ]
     },
     "metadata": {},
     "output_type": "display_data"
    }
   ],
   "source": [
    "fdiry = file.path(FD_RES, \"results\", \"comparison\", \"comparison_local\", \"cor_size_200bp_step_50bp\", \"summary\")\n",
    "fname = \"cor.pLog2FC.combine.windows.bed.gz\"\n",
    "fpath = file.path(fdiry, fname)\n",
    "\n",
    "cnames = c(\"Chrom\", \"Start\", \"End\", \"Peak\", \"Region\",\n",
    "           \"Chrom_Track\", \"Start_Track\", \"End_Track\", \"Loc_Track\",\n",
    "           \"cor_astarr_wstarr\", \"cor_astarr_tmpra\", \"cor_wstarr_tmpra\",\n",
    "           \"Overlap\")\n",
    "dat = read_tsv(fpath, col_names = cnames, show_col_types = FALSE)\n",
    "\n",
    "dat_rolling_cor = dat\n",
    "print(dim(dat))\n",
    "head(dat)"
   ]
  },
  {
   "cell_type": "code",
   "execution_count": 10,
   "id": "6b6f147f",
   "metadata": {},
   "outputs": [
    {
     "data": {
      "text/html": [
       "<table class=\"dataframe\">\n",
       "<caption>A tibble: 6 × 13</caption>\n",
       "<thead>\n",
       "\t<tr><th scope=col>Peak</th><th scope=col>cor_astarr_wstarr_mu</th><th scope=col>cor_astarr_tmpra_mu</th><th scope=col>cor_wstarr_tmpra_mu</th><th scope=col>cor_astarr_wstarr_q25</th><th scope=col>cor_astarr_tmpra_q25</th><th scope=col>cor_wstarr_tmpra_q25</th><th scope=col>cor_astarr_wstarr_q50</th><th scope=col>cor_astarr_tmpra_q50</th><th scope=col>cor_wstarr_tmpra_q50</th><th scope=col>cor_astarr_wstarr_q75</th><th scope=col>cor_astarr_tmpra_q75</th><th scope=col>cor_wstarr_tmpra_q75</th></tr>\n",
       "\t<tr><th scope=col>&lt;chr&gt;</th><th scope=col>&lt;dbl&gt;</th><th scope=col>&lt;dbl&gt;</th><th scope=col>&lt;dbl&gt;</th><th scope=col>&lt;dbl&gt;</th><th scope=col>&lt;dbl&gt;</th><th scope=col>&lt;dbl&gt;</th><th scope=col>&lt;dbl&gt;</th><th scope=col>&lt;dbl&gt;</th><th scope=col>&lt;dbl&gt;</th><th scope=col>&lt;dbl&gt;</th><th scope=col>&lt;dbl&gt;</th><th scope=col>&lt;dbl&gt;</th></tr>\n",
       "</thead>\n",
       "<tbody>\n",
       "\t<tr><td>chr11_61554569_61556228</td><td>-0.18127468</td><td>-0.21115912</td><td>-0.21716299</td><td>-0.6135967</td><td>-0.8132110</td><td>-0.8259526</td><td>-0.229850169</td><td>-0.54769216</td><td>-0.3230652</td><td>0.2317576</td><td> 0.5388165</td><td>0.3159356</td></tr>\n",
       "\t<tr><td>chr11_61560645_61561556</td><td> 0.17339053</td><td>-0.12360605</td><td> 0.10435204</td><td>-0.2166741</td><td>-0.6753074</td><td>-0.2878721</td><td> 0.009281097</td><td>-0.22121697</td><td> 0.3124746</td><td>0.6159998</td><td> 0.3578571</td><td>0.4196466</td></tr>\n",
       "\t<tr><td>chr11_61567108_61567997</td><td> 0.26138151</td><td> 0.25041520</td><td> 0.01814805</td><td>-0.5653378</td><td> 0.2297908</td><td>-0.6327766</td><td> 0.680557832</td><td> 0.31204459</td><td> 0.0943920</td><td>0.8981547</td><td> 0.6644260</td><td>0.6427077</td></tr>\n",
       "\t<tr><td>chr11_61580592_61581826</td><td> 0.43116637</td><td> 0.08971366</td><td>-0.25060078</td><td> 0.1703289</td><td>-0.6531617</td><td>-0.7737075</td><td> 0.688340458</td><td> 0.15231364</td><td>-0.5087642</td><td>0.8214968</td><td> 0.8218343</td><td>0.1479528</td></tr>\n",
       "\t<tr><td>chr11_61587170_61588742</td><td> 0.14679704</td><td>-0.09365859</td><td> 0.01170847</td><td>-0.3643061</td><td>-0.8069430</td><td>-0.6008330</td><td> 0.334978207</td><td>-0.07165809</td><td>-0.1484564</td><td>0.6009396</td><td> 0.5727815</td><td>0.7175140</td></tr>\n",
       "\t<tr><td>chr11_61594868_61596571</td><td> 0.01351688</td><td>-0.41569520</td><td> 0.08414937</td><td>-0.3394891</td><td>-0.8390609</td><td>-0.4433223</td><td>-0.049592125</td><td>-0.69334700</td><td> 0.1573338</td><td>0.4592163</td><td>-0.2696536</td><td>0.6387805</td></tr>\n",
       "</tbody>\n",
       "</table>\n"
      ],
      "text/latex": [
       "A tibble: 6 × 13\n",
       "\\begin{tabular}{lllllllllllll}\n",
       " Peak & cor\\_astarr\\_wstarr\\_mu & cor\\_astarr\\_tmpra\\_mu & cor\\_wstarr\\_tmpra\\_mu & cor\\_astarr\\_wstarr\\_q25 & cor\\_astarr\\_tmpra\\_q25 & cor\\_wstarr\\_tmpra\\_q25 & cor\\_astarr\\_wstarr\\_q50 & cor\\_astarr\\_tmpra\\_q50 & cor\\_wstarr\\_tmpra\\_q50 & cor\\_astarr\\_wstarr\\_q75 & cor\\_astarr\\_tmpra\\_q75 & cor\\_wstarr\\_tmpra\\_q75\\\\\n",
       " <chr> & <dbl> & <dbl> & <dbl> & <dbl> & <dbl> & <dbl> & <dbl> & <dbl> & <dbl> & <dbl> & <dbl> & <dbl>\\\\\n",
       "\\hline\n",
       "\t chr11\\_61554569\\_61556228 & -0.18127468 & -0.21115912 & -0.21716299 & -0.6135967 & -0.8132110 & -0.8259526 & -0.229850169 & -0.54769216 & -0.3230652 & 0.2317576 &  0.5388165 & 0.3159356\\\\\n",
       "\t chr11\\_61560645\\_61561556 &  0.17339053 & -0.12360605 &  0.10435204 & -0.2166741 & -0.6753074 & -0.2878721 &  0.009281097 & -0.22121697 &  0.3124746 & 0.6159998 &  0.3578571 & 0.4196466\\\\\n",
       "\t chr11\\_61567108\\_61567997 &  0.26138151 &  0.25041520 &  0.01814805 & -0.5653378 &  0.2297908 & -0.6327766 &  0.680557832 &  0.31204459 &  0.0943920 & 0.8981547 &  0.6644260 & 0.6427077\\\\\n",
       "\t chr11\\_61580592\\_61581826 &  0.43116637 &  0.08971366 & -0.25060078 &  0.1703289 & -0.6531617 & -0.7737075 &  0.688340458 &  0.15231364 & -0.5087642 & 0.8214968 &  0.8218343 & 0.1479528\\\\\n",
       "\t chr11\\_61587170\\_61588742 &  0.14679704 & -0.09365859 &  0.01170847 & -0.3643061 & -0.8069430 & -0.6008330 &  0.334978207 & -0.07165809 & -0.1484564 & 0.6009396 &  0.5727815 & 0.7175140\\\\\n",
       "\t chr11\\_61594868\\_61596571 &  0.01351688 & -0.41569520 &  0.08414937 & -0.3394891 & -0.8390609 & -0.4433223 & -0.049592125 & -0.69334700 &  0.1573338 & 0.4592163 & -0.2696536 & 0.6387805\\\\\n",
       "\\end{tabular}\n"
      ],
      "text/markdown": [
       "\n",
       "A tibble: 6 × 13\n",
       "\n",
       "| Peak &lt;chr&gt; | cor_astarr_wstarr_mu &lt;dbl&gt; | cor_astarr_tmpra_mu &lt;dbl&gt; | cor_wstarr_tmpra_mu &lt;dbl&gt; | cor_astarr_wstarr_q25 &lt;dbl&gt; | cor_astarr_tmpra_q25 &lt;dbl&gt; | cor_wstarr_tmpra_q25 &lt;dbl&gt; | cor_astarr_wstarr_q50 &lt;dbl&gt; | cor_astarr_tmpra_q50 &lt;dbl&gt; | cor_wstarr_tmpra_q50 &lt;dbl&gt; | cor_astarr_wstarr_q75 &lt;dbl&gt; | cor_astarr_tmpra_q75 &lt;dbl&gt; | cor_wstarr_tmpra_q75 &lt;dbl&gt; |\n",
       "|---|---|---|---|---|---|---|---|---|---|---|---|---|\n",
       "| chr11_61554569_61556228 | -0.18127468 | -0.21115912 | -0.21716299 | -0.6135967 | -0.8132110 | -0.8259526 | -0.229850169 | -0.54769216 | -0.3230652 | 0.2317576 |  0.5388165 | 0.3159356 |\n",
       "| chr11_61560645_61561556 |  0.17339053 | -0.12360605 |  0.10435204 | -0.2166741 | -0.6753074 | -0.2878721 |  0.009281097 | -0.22121697 |  0.3124746 | 0.6159998 |  0.3578571 | 0.4196466 |\n",
       "| chr11_61567108_61567997 |  0.26138151 |  0.25041520 |  0.01814805 | -0.5653378 |  0.2297908 | -0.6327766 |  0.680557832 |  0.31204459 |  0.0943920 | 0.8981547 |  0.6644260 | 0.6427077 |\n",
       "| chr11_61580592_61581826 |  0.43116637 |  0.08971366 | -0.25060078 |  0.1703289 | -0.6531617 | -0.7737075 |  0.688340458 |  0.15231364 | -0.5087642 | 0.8214968 |  0.8218343 | 0.1479528 |\n",
       "| chr11_61587170_61588742 |  0.14679704 | -0.09365859 |  0.01170847 | -0.3643061 | -0.8069430 | -0.6008330 |  0.334978207 | -0.07165809 | -0.1484564 | 0.6009396 |  0.5727815 | 0.7175140 |\n",
       "| chr11_61594868_61596571 |  0.01351688 | -0.41569520 |  0.08414937 | -0.3394891 | -0.8390609 | -0.4433223 | -0.049592125 | -0.69334700 |  0.1573338 | 0.4592163 | -0.2696536 | 0.6387805 |\n",
       "\n"
      ],
      "text/plain": [
       "  Peak                    cor_astarr_wstarr_mu cor_astarr_tmpra_mu\n",
       "1 chr11_61554569_61556228 -0.18127468          -0.21115912        \n",
       "2 chr11_61560645_61561556  0.17339053          -0.12360605        \n",
       "3 chr11_61567108_61567997  0.26138151           0.25041520        \n",
       "4 chr11_61580592_61581826  0.43116637           0.08971366        \n",
       "5 chr11_61587170_61588742  0.14679704          -0.09365859        \n",
       "6 chr11_61594868_61596571  0.01351688          -0.41569520        \n",
       "  cor_wstarr_tmpra_mu cor_astarr_wstarr_q25 cor_astarr_tmpra_q25\n",
       "1 -0.21716299         -0.6135967            -0.8132110          \n",
       "2  0.10435204         -0.2166741            -0.6753074          \n",
       "3  0.01814805         -0.5653378             0.2297908          \n",
       "4 -0.25060078          0.1703289            -0.6531617          \n",
       "5  0.01170847         -0.3643061            -0.8069430          \n",
       "6  0.08414937         -0.3394891            -0.8390609          \n",
       "  cor_wstarr_tmpra_q25 cor_astarr_wstarr_q50 cor_astarr_tmpra_q50\n",
       "1 -0.8259526           -0.229850169          -0.54769216         \n",
       "2 -0.2878721            0.009281097          -0.22121697         \n",
       "3 -0.6327766            0.680557832           0.31204459         \n",
       "4 -0.7737075            0.688340458           0.15231364         \n",
       "5 -0.6008330            0.334978207          -0.07165809         \n",
       "6 -0.4433223           -0.049592125          -0.69334700         \n",
       "  cor_wstarr_tmpra_q50 cor_astarr_wstarr_q75 cor_astarr_tmpra_q75\n",
       "1 -0.3230652           0.2317576              0.5388165          \n",
       "2  0.3124746           0.6159998              0.3578571          \n",
       "3  0.0943920           0.8981547              0.6644260          \n",
       "4 -0.5087642           0.8214968              0.8218343          \n",
       "5 -0.1484564           0.6009396              0.5727815          \n",
       "6  0.1573338           0.4592163             -0.2696536          \n",
       "  cor_wstarr_tmpra_q75\n",
       "1 0.3159356           \n",
       "2 0.4196466           \n",
       "3 0.6427077           \n",
       "4 0.1479528           \n",
       "5 0.7175140           \n",
       "6 0.6387805           "
      ]
     },
     "metadata": {},
     "output_type": "display_data"
    }
   ],
   "source": [
    "dat = dat_rolling_cor\n",
    "\n",
    "dat = dat %>% \n",
    "    group_by(Peak) %>%\n",
    "    summarise(\n",
    "        cor_astarr_wstarr_mu = mean(cor_astarr_wstarr),\n",
    "        cor_astarr_tmpra_mu  = mean(cor_astarr_tmpra),\n",
    "        cor_wstarr_tmpra_mu  = mean(cor_wstarr_tmpra),\n",
    "        \n",
    "        cor_astarr_wstarr_q25 = quantile(cor_astarr_wstarr, probs=0.25),\n",
    "        cor_astarr_tmpra_q25  = quantile(cor_astarr_tmpra,  probs=0.25),\n",
    "        cor_wstarr_tmpra_q25  = quantile(cor_wstarr_tmpra,  probs=0.25),\n",
    "        \n",
    "        cor_astarr_wstarr_q50 = quantile(cor_astarr_wstarr, probs=0.5),\n",
    "        cor_astarr_tmpra_q50  = quantile(cor_astarr_tmpra,  probs=0.5),\n",
    "        cor_wstarr_tmpra_q50  = quantile(cor_wstarr_tmpra,  probs=0.5),\n",
    "        \n",
    "        cor_astarr_wstarr_q75 = quantile(cor_astarr_wstarr, probs=0.75),\n",
    "        cor_astarr_tmpra_q75  = quantile(cor_astarr_tmpra,  probs=0.75),\n",
    "        cor_wstarr_tmpra_q75  = quantile(cor_wstarr_tmpra,  probs=0.75)\n",
    "    )\n",
    "dat_rolling_sum = dat\n",
    "head(dat)"
   ]
  },
  {
   "cell_type": "code",
   "execution_count": 11,
   "id": "ded54a76",
   "metadata": {},
   "outputs": [],
   "source": [
    "fdiry = file.path(FD_RES, \"results\", \"comparison\", \"comparison_local\", \"cor_size_200bp_step_50bp\", \"summary\")\n",
    "fname = \"cor.pLog2FC.combine.summary.tsv\"\n",
    "fpath = file.path(fdiry, fname)\n",
    "\n",
    "write_tsv(dat, fpath)"
   ]
  },
  {
   "cell_type": "code",
   "execution_count": null,
   "id": "0a9186c5",
   "metadata": {},
   "outputs": [],
   "source": []
  }
 ],
 "metadata": {
  "kernelspec": {
   "display_name": "R",
   "language": "R",
   "name": "ir"
  },
  "language_info": {
   "codemirror_mode": "r",
   "file_extension": ".r",
   "mimetype": "text/x-r-source",
   "name": "R",
   "pygments_lexer": "r",
   "version": "4.2.2"
  }
 },
 "nbformat": 4,
 "nbformat_minor": 5
}
