{
 "cells": [
  {
   "cell_type": "code",
   "execution_count": 1,
   "id": "0ecf7d5d",
   "metadata": {},
   "outputs": [
    {
     "name": "stdout",
     "output_type": "stream",
     "text": [
      "You are in Singularity: singularity_proj_combeffect \n",
      "BASE DIRECTORY:     /data/reddylab/Kuei \n",
      "WORK DIRECTORY:     /data/reddylab/Kuei/out \n",
      "CODE DIRECTORY:     /data/reddylab/Kuei/code \n",
      "PATH OF SOURCE:     /data/reddylab/Kuei/source \n",
      "PATH OF EXECUTABLE: /data/reddylab/Kuei/bin \n",
      "PATH OF ANNOTATION: /data/reddylab/Kuei/annotation \n",
      "PATH OF PROJECT:    /data/reddylab/Kuei/code/Proj_CombEffect_ENCODE_FCC \n",
      "PATH OF RESULTS:    /data/reddylab/Kuei/out/proj_combeffect_encode_fcc \n"
     ]
    }
   ],
   "source": [
    "suppressMessages(suppressWarnings(source(\"../config/config_sing.R\")))\n",
    "show_env()"
   ]
  },
  {
   "cell_type": "markdown",
   "id": "022a5bc1",
   "metadata": {},
   "source": [
    "### Import Log2FC"
   ]
  },
  {
   "cell_type": "code",
   "execution_count": 2,
   "id": "119fc6a7",
   "metadata": {},
   "outputs": [
    {
     "name": "stdout",
     "output_type": "stream",
     "text": [
      "/data/reddylab/Kuei/out/proj_combeffect_encode_fcc/results/KS91_K562_ASTARRseq/coverage_astarrseq_peak_macs_input/summary/result.Log2FC.raw.deseq.WGS.tsv \n",
      "[1] 246850      8\n"
     ]
    },
    {
     "data": {
      "text/html": [
       "<table class=\"dataframe\">\n",
       "<caption>A tibble: 6 × 8</caption>\n",
       "<thead>\n",
       "\t<tr><th scope=col>Peak</th><th scope=col>baseMean</th><th scope=col>log2FoldChange</th><th scope=col>lfcSE</th><th scope=col>stat</th><th scope=col>pvalue</th><th scope=col>padj</th><th scope=col>Assay</th></tr>\n",
       "\t<tr><th scope=col>&lt;chr&gt;</th><th scope=col>&lt;dbl&gt;</th><th scope=col>&lt;dbl&gt;</th><th scope=col>&lt;dbl&gt;</th><th scope=col>&lt;dbl&gt;</th><th scope=col>&lt;dbl&gt;</th><th scope=col>&lt;dbl&gt;</th><th scope=col>&lt;chr&gt;</th></tr>\n",
       "</thead>\n",
       "<tbody>\n",
       "\t<tr><td>chr1_10015_10442</td><td> 71.40375</td><td>-2.2136128</td><td>0.2691517</td><td> -8.2244061</td><td>1.961605e-16</td><td>2.910688e-15</td><td>KS91_K562_ASTARRseq</td></tr>\n",
       "\t<tr><td>chr1_14253_14645</td><td> 68.63035</td><td> 0.2221859</td><td>0.1534101</td><td>  1.4483134</td><td>1.475294e-01</td><td>2.178106e-01</td><td>KS91_K562_ASTARRseq</td></tr>\n",
       "\t<tr><td>chr1_16015_16477</td><td> 71.25409</td><td>-1.2712950</td><td>0.2019628</td><td> -6.2946978</td><td>3.079993e-10</td><td>2.653010e-09</td><td>KS91_K562_ASTARRseq</td></tr>\n",
       "\t<tr><td>chr1_17237_17772</td><td>124.03128</td><td>-1.3852891</td><td>0.1638628</td><td> -8.4539594</td><td>2.815873e-17</td><td>4.431893e-16</td><td>KS91_K562_ASTARRseq</td></tr>\n",
       "\t<tr><td>chr1_28903_29613</td><td>113.63103</td><td>-1.9422003</td><td>0.1886131</td><td>-10.2972733</td><td>7.248681e-25</td><td>1.723665e-23</td><td>KS91_K562_ASTARRseq</td></tr>\n",
       "\t<tr><td>chr1_30803_31072</td><td> 57.37875</td><td>-0.1332069</td><td>0.2145692</td><td> -0.6208109</td><td>5.347240e-01</td><td>6.231400e-01</td><td>KS91_K562_ASTARRseq</td></tr>\n",
       "</tbody>\n",
       "</table>\n"
      ],
      "text/latex": [
       "A tibble: 6 × 8\n",
       "\\begin{tabular}{llllllll}\n",
       " Peak & baseMean & log2FoldChange & lfcSE & stat & pvalue & padj & Assay\\\\\n",
       " <chr> & <dbl> & <dbl> & <dbl> & <dbl> & <dbl> & <dbl> & <chr>\\\\\n",
       "\\hline\n",
       "\t chr1\\_10015\\_10442 &  71.40375 & -2.2136128 & 0.2691517 &  -8.2244061 & 1.961605e-16 & 2.910688e-15 & KS91\\_K562\\_ASTARRseq\\\\\n",
       "\t chr1\\_14253\\_14645 &  68.63035 &  0.2221859 & 0.1534101 &   1.4483134 & 1.475294e-01 & 2.178106e-01 & KS91\\_K562\\_ASTARRseq\\\\\n",
       "\t chr1\\_16015\\_16477 &  71.25409 & -1.2712950 & 0.2019628 &  -6.2946978 & 3.079993e-10 & 2.653010e-09 & KS91\\_K562\\_ASTARRseq\\\\\n",
       "\t chr1\\_17237\\_17772 & 124.03128 & -1.3852891 & 0.1638628 &  -8.4539594 & 2.815873e-17 & 4.431893e-16 & KS91\\_K562\\_ASTARRseq\\\\\n",
       "\t chr1\\_28903\\_29613 & 113.63103 & -1.9422003 & 0.1886131 & -10.2972733 & 7.248681e-25 & 1.723665e-23 & KS91\\_K562\\_ASTARRseq\\\\\n",
       "\t chr1\\_30803\\_31072 &  57.37875 & -0.1332069 & 0.2145692 &  -0.6208109 & 5.347240e-01 & 6.231400e-01 & KS91\\_K562\\_ASTARRseq\\\\\n",
       "\\end{tabular}\n"
      ],
      "text/markdown": [
       "\n",
       "A tibble: 6 × 8\n",
       "\n",
       "| Peak &lt;chr&gt; | baseMean &lt;dbl&gt; | log2FoldChange &lt;dbl&gt; | lfcSE &lt;dbl&gt; | stat &lt;dbl&gt; | pvalue &lt;dbl&gt; | padj &lt;dbl&gt; | Assay &lt;chr&gt; |\n",
       "|---|---|---|---|---|---|---|---|\n",
       "| chr1_10015_10442 |  71.40375 | -2.2136128 | 0.2691517 |  -8.2244061 | 1.961605e-16 | 2.910688e-15 | KS91_K562_ASTARRseq |\n",
       "| chr1_14253_14645 |  68.63035 |  0.2221859 | 0.1534101 |   1.4483134 | 1.475294e-01 | 2.178106e-01 | KS91_K562_ASTARRseq |\n",
       "| chr1_16015_16477 |  71.25409 | -1.2712950 | 0.2019628 |  -6.2946978 | 3.079993e-10 | 2.653010e-09 | KS91_K562_ASTARRseq |\n",
       "| chr1_17237_17772 | 124.03128 | -1.3852891 | 0.1638628 |  -8.4539594 | 2.815873e-17 | 4.431893e-16 | KS91_K562_ASTARRseq |\n",
       "| chr1_28903_29613 | 113.63103 | -1.9422003 | 0.1886131 | -10.2972733 | 7.248681e-25 | 1.723665e-23 | KS91_K562_ASTARRseq |\n",
       "| chr1_30803_31072 |  57.37875 | -0.1332069 | 0.2145692 |  -0.6208109 | 5.347240e-01 | 6.231400e-01 | KS91_K562_ASTARRseq |\n",
       "\n"
      ],
      "text/plain": [
       "  Peak             baseMean  log2FoldChange lfcSE     stat        pvalue      \n",
       "1 chr1_10015_10442  71.40375 -2.2136128     0.2691517  -8.2244061 1.961605e-16\n",
       "2 chr1_14253_14645  68.63035  0.2221859     0.1534101   1.4483134 1.475294e-01\n",
       "3 chr1_16015_16477  71.25409 -1.2712950     0.2019628  -6.2946978 3.079993e-10\n",
       "4 chr1_17237_17772 124.03128 -1.3852891     0.1638628  -8.4539594 2.815873e-17\n",
       "5 chr1_28903_29613 113.63103 -1.9422003     0.1886131 -10.2972733 7.248681e-25\n",
       "6 chr1_30803_31072  57.37875 -0.1332069     0.2145692  -0.6208109 5.347240e-01\n",
       "  padj         Assay              \n",
       "1 2.910688e-15 KS91_K562_ASTARRseq\n",
       "2 2.178106e-01 KS91_K562_ASTARRseq\n",
       "3 2.653010e-09 KS91_K562_ASTARRseq\n",
       "4 4.431893e-16 KS91_K562_ASTARRseq\n",
       "5 1.723665e-23 KS91_K562_ASTARRseq\n",
       "6 6.231400e-01 KS91_K562_ASTARRseq"
      ]
     },
     "metadata": {},
     "output_type": "display_data"
    }
   ],
   "source": [
    "ASSAY   = \"KS91_K562_ASTARRseq\"\n",
    "REGION  = \"WGS\" \n",
    "TYPE    = \"raw\"\n",
    "PROCESS = \"deseq\"\n",
    "FOLDER  = \"coverage_astarrseq_peak_macs_input\"\n",
    "\n",
    "fdiry = file.path(FD_RES, \"results\", ASSAY, FOLDER, \"summary\")\n",
    "fname = paste(\"result\", \"Log2FC\", TYPE, PROCESS, REGION, \"tsv\", sep=\".\")\n",
    "fpath = file.path(fdiry, fname)\n",
    "cat(fpath, \"\\n\")\n",
    "\n",
    "dat = read_tsv(fpath, show_col_types = FALSE) %>% dplyr::mutate(Assay = ASSAY)\n",
    "dat_log2fc_deseq_astarr = dat\n",
    "print(dim(dat))\n",
    "head(dat)"
   ]
  },
  {
   "cell_type": "code",
   "execution_count": 3,
   "id": "ff8f5d21",
   "metadata": {},
   "outputs": [
    {
     "name": "stdout",
     "output_type": "stream",
     "text": [
      "/data/reddylab/Kuei/out/proj_combeffect_encode_fcc/results/A001_K562_WSTARRseq/coverage_astarrseq_peak_macs_input/summary/result.Log2FC.raw.deseq.WGS.tsv \n",
      "[1] 246688      8\n"
     ]
    },
    {
     "data": {
      "text/html": [
       "<table class=\"dataframe\">\n",
       "<caption>A tibble: 6 × 8</caption>\n",
       "<thead>\n",
       "\t<tr><th scope=col>Peak</th><th scope=col>baseMean</th><th scope=col>log2FoldChange</th><th scope=col>lfcSE</th><th scope=col>stat</th><th scope=col>pvalue</th><th scope=col>padj</th><th scope=col>Assay</th></tr>\n",
       "\t<tr><th scope=col>&lt;chr&gt;</th><th scope=col>&lt;dbl&gt;</th><th scope=col>&lt;dbl&gt;</th><th scope=col>&lt;dbl&gt;</th><th scope=col>&lt;dbl&gt;</th><th scope=col>&lt;dbl&gt;</th><th scope=col>&lt;dbl&gt;</th><th scope=col>&lt;chr&gt;</th></tr>\n",
       "</thead>\n",
       "<tbody>\n",
       "\t<tr><td>chr1_17237_17772  </td><td>15.507847</td><td>-0.55197423</td><td>0.3650312</td><td>-1.5121288</td><td>0.1305011090</td><td>0.376522564</td><td>A001_K562_WSTARRseq</td></tr>\n",
       "\t<tr><td>chr1_136071_137429</td><td> 8.005396</td><td> 0.42184778</td><td>0.5134014</td><td> 0.8216725</td><td>0.4112633282</td><td>         NA</td><td>A001_K562_WSTARRseq</td></tr>\n",
       "\t<tr><td>chr1_137737_139544</td><td>68.388785</td><td> 0.75905245</td><td>0.1909129</td><td> 3.9759105</td><td>0.0000701105</td><td>0.001384044</td><td>A001_K562_WSTARRseq</td></tr>\n",
       "\t<tr><td>chr1_180982_182087</td><td>35.093278</td><td> 0.19192129</td><td>0.2417529</td><td> 0.7938737</td><td>0.4272689717</td><td>0.696317984</td><td>A001_K562_WSTARRseq</td></tr>\n",
       "\t<tr><td>chr1_183239_184602</td><td>49.565727</td><td> 0.08374879</td><td>0.2018363</td><td> 0.4149342</td><td>0.6781900855</td><td>0.857342193</td><td>A001_K562_WSTARRseq</td></tr>\n",
       "\t<tr><td>chr1_186238_187159</td><td>50.450003</td><td>-0.13877450</td><td>0.2161170</td><td>-0.6421267</td><td>0.5207908905</td><td>0.763065578</td><td>A001_K562_WSTARRseq</td></tr>\n",
       "</tbody>\n",
       "</table>\n"
      ],
      "text/latex": [
       "A tibble: 6 × 8\n",
       "\\begin{tabular}{llllllll}\n",
       " Peak & baseMean & log2FoldChange & lfcSE & stat & pvalue & padj & Assay\\\\\n",
       " <chr> & <dbl> & <dbl> & <dbl> & <dbl> & <dbl> & <dbl> & <chr>\\\\\n",
       "\\hline\n",
       "\t chr1\\_17237\\_17772   & 15.507847 & -0.55197423 & 0.3650312 & -1.5121288 & 0.1305011090 & 0.376522564 & A001\\_K562\\_WSTARRseq\\\\\n",
       "\t chr1\\_136071\\_137429 &  8.005396 &  0.42184778 & 0.5134014 &  0.8216725 & 0.4112633282 &          NA & A001\\_K562\\_WSTARRseq\\\\\n",
       "\t chr1\\_137737\\_139544 & 68.388785 &  0.75905245 & 0.1909129 &  3.9759105 & 0.0000701105 & 0.001384044 & A001\\_K562\\_WSTARRseq\\\\\n",
       "\t chr1\\_180982\\_182087 & 35.093278 &  0.19192129 & 0.2417529 &  0.7938737 & 0.4272689717 & 0.696317984 & A001\\_K562\\_WSTARRseq\\\\\n",
       "\t chr1\\_183239\\_184602 & 49.565727 &  0.08374879 & 0.2018363 &  0.4149342 & 0.6781900855 & 0.857342193 & A001\\_K562\\_WSTARRseq\\\\\n",
       "\t chr1\\_186238\\_187159 & 50.450003 & -0.13877450 & 0.2161170 & -0.6421267 & 0.5207908905 & 0.763065578 & A001\\_K562\\_WSTARRseq\\\\\n",
       "\\end{tabular}\n"
      ],
      "text/markdown": [
       "\n",
       "A tibble: 6 × 8\n",
       "\n",
       "| Peak &lt;chr&gt; | baseMean &lt;dbl&gt; | log2FoldChange &lt;dbl&gt; | lfcSE &lt;dbl&gt; | stat &lt;dbl&gt; | pvalue &lt;dbl&gt; | padj &lt;dbl&gt; | Assay &lt;chr&gt; |\n",
       "|---|---|---|---|---|---|---|---|\n",
       "| chr1_17237_17772   | 15.507847 | -0.55197423 | 0.3650312 | -1.5121288 | 0.1305011090 | 0.376522564 | A001_K562_WSTARRseq |\n",
       "| chr1_136071_137429 |  8.005396 |  0.42184778 | 0.5134014 |  0.8216725 | 0.4112633282 |          NA | A001_K562_WSTARRseq |\n",
       "| chr1_137737_139544 | 68.388785 |  0.75905245 | 0.1909129 |  3.9759105 | 0.0000701105 | 0.001384044 | A001_K562_WSTARRseq |\n",
       "| chr1_180982_182087 | 35.093278 |  0.19192129 | 0.2417529 |  0.7938737 | 0.4272689717 | 0.696317984 | A001_K562_WSTARRseq |\n",
       "| chr1_183239_184602 | 49.565727 |  0.08374879 | 0.2018363 |  0.4149342 | 0.6781900855 | 0.857342193 | A001_K562_WSTARRseq |\n",
       "| chr1_186238_187159 | 50.450003 | -0.13877450 | 0.2161170 | -0.6421267 | 0.5207908905 | 0.763065578 | A001_K562_WSTARRseq |\n",
       "\n"
      ],
      "text/plain": [
       "  Peak               baseMean  log2FoldChange lfcSE     stat       pvalue      \n",
       "1 chr1_17237_17772   15.507847 -0.55197423    0.3650312 -1.5121288 0.1305011090\n",
       "2 chr1_136071_137429  8.005396  0.42184778    0.5134014  0.8216725 0.4112633282\n",
       "3 chr1_137737_139544 68.388785  0.75905245    0.1909129  3.9759105 0.0000701105\n",
       "4 chr1_180982_182087 35.093278  0.19192129    0.2417529  0.7938737 0.4272689717\n",
       "5 chr1_183239_184602 49.565727  0.08374879    0.2018363  0.4149342 0.6781900855\n",
       "6 chr1_186238_187159 50.450003 -0.13877450    0.2161170 -0.6421267 0.5207908905\n",
       "  padj        Assay              \n",
       "1 0.376522564 A001_K562_WSTARRseq\n",
       "2          NA A001_K562_WSTARRseq\n",
       "3 0.001384044 A001_K562_WSTARRseq\n",
       "4 0.696317984 A001_K562_WSTARRseq\n",
       "5 0.857342193 A001_K562_WSTARRseq\n",
       "6 0.763065578 A001_K562_WSTARRseq"
      ]
     },
     "metadata": {},
     "output_type": "display_data"
    }
   ],
   "source": [
    "ASSAY   = \"A001_K562_WSTARRseq\"\n",
    "REGION  = \"WGS\" \n",
    "TYPE    = \"raw\"\n",
    "PROCESS = \"deseq\"\n",
    "FOLDER  = \"coverage_astarrseq_peak_macs_input\"\n",
    "\n",
    "fdiry = file.path(FD_RES, \"results\", ASSAY, FOLDER, \"summary\")\n",
    "fname = paste(\"result\", \"Log2FC\", TYPE, PROCESS, REGION, \"tsv\", sep=\".\")\n",
    "fpath = file.path(fdiry, fname)\n",
    "cat(fpath, \"\\n\")\n",
    "\n",
    "dat = read_tsv(fpath, show_col_types = FALSE) %>% dplyr::mutate(Assay = ASSAY)\n",
    "dat_log2fc_deseq_wstarr = dat\n",
    "print(dim(dat))\n",
    "head(dat)"
   ]
  },
  {
   "cell_type": "code",
   "execution_count": 4,
   "id": "e4f1c2a9",
   "metadata": {},
   "outputs": [
    {
     "name": "stdout",
     "output_type": "stream",
     "text": [
      "/data/reddylab/Kuei/out/proj_combeffect_encode_fcc/results/Tewhey_K562_TileMPRA/coverage_astarrseq_peak_macs_input/summary/result.Log2FC.raw.deseq.GATA1.tsv \n",
      "/data/reddylab/Kuei/out/proj_combeffect_encode_fcc/results/Tewhey_K562_TileMPRA/coverage_astarrseq_peak_macs_input/summary/result.Log2FC.raw.deseq.MYC.tsv \n",
      "/data/reddylab/Kuei/out/proj_combeffect_encode_fcc/results/Tewhey_K562_TileMPRA/coverage_astarrseq_peak_macs_input/summary/result.Log2FC.raw.deseq.FADS.tsv \n",
      "[1] 417   8\n"
     ]
    },
    {
     "data": {
      "text/html": [
       "<table class=\"dataframe\">\n",
       "<caption>A tibble: 6 × 8</caption>\n",
       "<thead>\n",
       "\t<tr><th scope=col>Peak</th><th scope=col>baseMean</th><th scope=col>log2FoldChange</th><th scope=col>lfcSE</th><th scope=col>stat</th><th scope=col>pvalue</th><th scope=col>padj</th><th scope=col>Assay</th></tr>\n",
       "\t<tr><th scope=col>&lt;chr&gt;</th><th scope=col>&lt;dbl&gt;</th><th scope=col>&lt;dbl&gt;</th><th scope=col>&lt;dbl&gt;</th><th scope=col>&lt;dbl&gt;</th><th scope=col>&lt;dbl&gt;</th><th scope=col>&lt;dbl&gt;</th><th scope=col>&lt;chr&gt;</th></tr>\n",
       "</thead>\n",
       "<tbody>\n",
       "\t<tr><td>chrX_47796208_47796828</td><td>10513.875</td><td>0.95281868</td><td>0.08207970</td><td>11.6084570</td><td> 3.732910e-31</td><td> 4.660482e-31</td><td>Tewhey_K562_TileMPRA</td></tr>\n",
       "\t<tr><td>chrX_47806139_47808167</td><td>24157.939</td><td>0.02557172</td><td>0.02814903</td><td> 0.9084403</td><td> 3.636456e-01</td><td> 3.672108e-01</td><td>Tewhey_K562_TileMPRA</td></tr>\n",
       "\t<tr><td>chrX_47809119_47809445</td><td> 7455.885</td><td>2.43603768</td><td>0.03405452</td><td>71.5334643</td><td> 0.000000e+00</td><td> 0.000000e+00</td><td>Tewhey_K562_TileMPRA</td></tr>\n",
       "\t<tr><td>chrX_47814810_47815443</td><td>10298.260</td><td>0.72157768</td><td>0.02954264</td><td>24.4249592</td><td>9.289171e-132</td><td>1.594641e-131</td><td>Tewhey_K562_TileMPRA</td></tr>\n",
       "\t<tr><td>chrX_47816459_47818070</td><td>29919.229</td><td>0.94178695</td><td>0.05242764</td><td>17.9635575</td><td> 3.759239e-72</td><td> 5.377800e-72</td><td>Tewhey_K562_TileMPRA</td></tr>\n",
       "\t<tr><td>chrX_47836113_47837157</td><td>45600.703</td><td>2.97943519</td><td>0.04843894</td><td>61.5090955</td><td> 0.000000e+00</td><td> 0.000000e+00</td><td>Tewhey_K562_TileMPRA</td></tr>\n",
       "</tbody>\n",
       "</table>\n"
      ],
      "text/latex": [
       "A tibble: 6 × 8\n",
       "\\begin{tabular}{llllllll}\n",
       " Peak & baseMean & log2FoldChange & lfcSE & stat & pvalue & padj & Assay\\\\\n",
       " <chr> & <dbl> & <dbl> & <dbl> & <dbl> & <dbl> & <dbl> & <chr>\\\\\n",
       "\\hline\n",
       "\t chrX\\_47796208\\_47796828 & 10513.875 & 0.95281868 & 0.08207970 & 11.6084570 &  3.732910e-31 &  4.660482e-31 & Tewhey\\_K562\\_TileMPRA\\\\\n",
       "\t chrX\\_47806139\\_47808167 & 24157.939 & 0.02557172 & 0.02814903 &  0.9084403 &  3.636456e-01 &  3.672108e-01 & Tewhey\\_K562\\_TileMPRA\\\\\n",
       "\t chrX\\_47809119\\_47809445 &  7455.885 & 2.43603768 & 0.03405452 & 71.5334643 &  0.000000e+00 &  0.000000e+00 & Tewhey\\_K562\\_TileMPRA\\\\\n",
       "\t chrX\\_47814810\\_47815443 & 10298.260 & 0.72157768 & 0.02954264 & 24.4249592 & 9.289171e-132 & 1.594641e-131 & Tewhey\\_K562\\_TileMPRA\\\\\n",
       "\t chrX\\_47816459\\_47818070 & 29919.229 & 0.94178695 & 0.05242764 & 17.9635575 &  3.759239e-72 &  5.377800e-72 & Tewhey\\_K562\\_TileMPRA\\\\\n",
       "\t chrX\\_47836113\\_47837157 & 45600.703 & 2.97943519 & 0.04843894 & 61.5090955 &  0.000000e+00 &  0.000000e+00 & Tewhey\\_K562\\_TileMPRA\\\\\n",
       "\\end{tabular}\n"
      ],
      "text/markdown": [
       "\n",
       "A tibble: 6 × 8\n",
       "\n",
       "| Peak &lt;chr&gt; | baseMean &lt;dbl&gt; | log2FoldChange &lt;dbl&gt; | lfcSE &lt;dbl&gt; | stat &lt;dbl&gt; | pvalue &lt;dbl&gt; | padj &lt;dbl&gt; | Assay &lt;chr&gt; |\n",
       "|---|---|---|---|---|---|---|---|\n",
       "| chrX_47796208_47796828 | 10513.875 | 0.95281868 | 0.08207970 | 11.6084570 |  3.732910e-31 |  4.660482e-31 | Tewhey_K562_TileMPRA |\n",
       "| chrX_47806139_47808167 | 24157.939 | 0.02557172 | 0.02814903 |  0.9084403 |  3.636456e-01 |  3.672108e-01 | Tewhey_K562_TileMPRA |\n",
       "| chrX_47809119_47809445 |  7455.885 | 2.43603768 | 0.03405452 | 71.5334643 |  0.000000e+00 |  0.000000e+00 | Tewhey_K562_TileMPRA |\n",
       "| chrX_47814810_47815443 | 10298.260 | 0.72157768 | 0.02954264 | 24.4249592 | 9.289171e-132 | 1.594641e-131 | Tewhey_K562_TileMPRA |\n",
       "| chrX_47816459_47818070 | 29919.229 | 0.94178695 | 0.05242764 | 17.9635575 |  3.759239e-72 |  5.377800e-72 | Tewhey_K562_TileMPRA |\n",
       "| chrX_47836113_47837157 | 45600.703 | 2.97943519 | 0.04843894 | 61.5090955 |  0.000000e+00 |  0.000000e+00 | Tewhey_K562_TileMPRA |\n",
       "\n"
      ],
      "text/plain": [
       "  Peak                   baseMean  log2FoldChange lfcSE      stat      \n",
       "1 chrX_47796208_47796828 10513.875 0.95281868     0.08207970 11.6084570\n",
       "2 chrX_47806139_47808167 24157.939 0.02557172     0.02814903  0.9084403\n",
       "3 chrX_47809119_47809445  7455.885 2.43603768     0.03405452 71.5334643\n",
       "4 chrX_47814810_47815443 10298.260 0.72157768     0.02954264 24.4249592\n",
       "5 chrX_47816459_47818070 29919.229 0.94178695     0.05242764 17.9635575\n",
       "6 chrX_47836113_47837157 45600.703 2.97943519     0.04843894 61.5090955\n",
       "  pvalue        padj          Assay               \n",
       "1  3.732910e-31  4.660482e-31 Tewhey_K562_TileMPRA\n",
       "2  3.636456e-01  3.672108e-01 Tewhey_K562_TileMPRA\n",
       "3  0.000000e+00  0.000000e+00 Tewhey_K562_TileMPRA\n",
       "4 9.289171e-132 1.594641e-131 Tewhey_K562_TileMPRA\n",
       "5  3.759239e-72  5.377800e-72 Tewhey_K562_TileMPRA\n",
       "6  0.000000e+00  0.000000e+00 Tewhey_K562_TileMPRA"
      ]
     },
     "metadata": {},
     "output_type": "display_data"
    }
   ],
   "source": [
    "ASSAY   = \"Tewhey_K562_TileMPRA\"\n",
    "REGIONS = c(\"GATA1\", \"MYC\", \"FADS\")\n",
    "TYPE    = \"raw\"\n",
    "PROCESS = \"deseq\"\n",
    "FOLDER  = \"coverage_astarrseq_peak_macs_input\"\n",
    "\n",
    "lst = lapply(REGIONS, function(REGION){\n",
    "    fdiry = file.path(FD_RES, \"results\", ASSAY, FOLDER, \"summary\")\n",
    "    fname = paste(\"result\", \"Log2FC\", TYPE, PROCESS, REGION, \"tsv\", sep=\".\")\n",
    "    fpath = file.path(fdiry, fname)\n",
    "    cat(fpath, \"\\n\")\n",
    "    dat = read_tsv(fpath, show_col_types = FALSE) %>% dplyr::mutate(Assay = ASSAY)\n",
    "})\n",
    "\n",
    "dat = bind_rows(lst)\n",
    "dat_log2fc_deseq_tmpra = dat\n",
    "print(dim(dat))\n",
    "head(dat)"
   ]
  },
  {
   "cell_type": "markdown",
   "id": "73257521",
   "metadata": {},
   "source": [
    "## Import regions"
   ]
  },
  {
   "cell_type": "code",
   "execution_count": 5,
   "id": "042110a0",
   "metadata": {},
   "outputs": [
    {
     "name": "stdout",
     "output_type": "stream",
     "text": [
      "[1] 417   5\n"
     ]
    },
    {
     "data": {
      "text/html": [
       "<table class=\"dataframe\">\n",
       "<caption>A tibble: 6 × 5</caption>\n",
       "<thead>\n",
       "\t<tr><th scope=col>Chrom</th><th scope=col>Start</th><th scope=col>End</th><th scope=col>Peak</th><th scope=col>Region</th></tr>\n",
       "\t<tr><th scope=col>&lt;chr&gt;</th><th scope=col>&lt;dbl&gt;</th><th scope=col>&lt;dbl&gt;</th><th scope=col>&lt;chr&gt;</th><th scope=col>&lt;chr&gt;</th></tr>\n",
       "</thead>\n",
       "<tbody>\n",
       "\t<tr><td>chr8</td><td>126778902</td><td>126779728</td><td>chr8_126778902_126779728</td><td>MYC</td></tr>\n",
       "\t<tr><td>chr8</td><td>126782925</td><td>126783318</td><td>chr8_126782925_126783318</td><td>MYC</td></tr>\n",
       "\t<tr><td>chr8</td><td>126804776</td><td>126805825</td><td>chr8_126804776_126805825</td><td>MYC</td></tr>\n",
       "\t<tr><td>chr8</td><td>126817018</td><td>126817490</td><td>chr8_126817018_126817490</td><td>MYC</td></tr>\n",
       "\t<tr><td>chr8</td><td>126820465</td><td>126821393</td><td>chr8_126820465_126821393</td><td>MYC</td></tr>\n",
       "\t<tr><td>chr8</td><td>126824093</td><td>126824987</td><td>chr8_126824093_126824987</td><td>MYC</td></tr>\n",
       "</tbody>\n",
       "</table>\n"
      ],
      "text/latex": [
       "A tibble: 6 × 5\n",
       "\\begin{tabular}{lllll}\n",
       " Chrom & Start & End & Peak & Region\\\\\n",
       " <chr> & <dbl> & <dbl> & <chr> & <chr>\\\\\n",
       "\\hline\n",
       "\t chr8 & 126778902 & 126779728 & chr8\\_126778902\\_126779728 & MYC\\\\\n",
       "\t chr8 & 126782925 & 126783318 & chr8\\_126782925\\_126783318 & MYC\\\\\n",
       "\t chr8 & 126804776 & 126805825 & chr8\\_126804776\\_126805825 & MYC\\\\\n",
       "\t chr8 & 126817018 & 126817490 & chr8\\_126817018\\_126817490 & MYC\\\\\n",
       "\t chr8 & 126820465 & 126821393 & chr8\\_126820465\\_126821393 & MYC\\\\\n",
       "\t chr8 & 126824093 & 126824987 & chr8\\_126824093\\_126824987 & MYC\\\\\n",
       "\\end{tabular}\n"
      ],
      "text/markdown": [
       "\n",
       "A tibble: 6 × 5\n",
       "\n",
       "| Chrom &lt;chr&gt; | Start &lt;dbl&gt; | End &lt;dbl&gt; | Peak &lt;chr&gt; | Region &lt;chr&gt; |\n",
       "|---|---|---|---|---|\n",
       "| chr8 | 126778902 | 126779728 | chr8_126778902_126779728 | MYC |\n",
       "| chr8 | 126782925 | 126783318 | chr8_126782925_126783318 | MYC |\n",
       "| chr8 | 126804776 | 126805825 | chr8_126804776_126805825 | MYC |\n",
       "| chr8 | 126817018 | 126817490 | chr8_126817018_126817490 | MYC |\n",
       "| chr8 | 126820465 | 126821393 | chr8_126820465_126821393 | MYC |\n",
       "| chr8 | 126824093 | 126824987 | chr8_126824093_126824987 | MYC |\n",
       "\n"
      ],
      "text/plain": [
       "  Chrom Start     End       Peak                     Region\n",
       "1 chr8  126778902 126779728 chr8_126778902_126779728 MYC   \n",
       "2 chr8  126782925 126783318 chr8_126782925_126783318 MYC   \n",
       "3 chr8  126804776 126805825 chr8_126804776_126805825 MYC   \n",
       "4 chr8  126817018 126817490 chr8_126817018_126817490 MYC   \n",
       "5 chr8  126820465 126821393 chr8_126820465_126821393 MYC   \n",
       "6 chr8  126824093 126824987 chr8_126824093_126824987 MYC   "
      ]
     },
     "metadata": {},
     "output_type": "display_data"
    }
   ],
   "source": [
    "### set file path\n",
    "fdiry = file.path(FD_RES, \"region\", \"KS91_K562_ASTARRseq_peak_macs\")\n",
    "fname = \"KS91_K562_hg38_ASTARRseq_Input.peaks.MYC.FADS.GATA1.tsv\"\n",
    "fpath = file.path(fdiry, fname)\n",
    "\n",
    "### import data\n",
    "dat_region = read_tsv(fpath, show_col_types = FALSE)\n",
    "peaks = dat_region$Peak\n",
    "\n",
    "print(dim(dat_region))\n",
    "head(dat_region)"
   ]
  },
  {
   "cell_type": "markdown",
   "id": "f97c4cc0",
   "metadata": {},
   "source": [
    "## Combine"
   ]
  },
  {
   "cell_type": "code",
   "execution_count": 6,
   "id": "a776b182",
   "metadata": {},
   "outputs": [],
   "source": [
    "ASSAYS = c(\"KS91_K562_ASTARRseq\", \"A001_K562_WSTARRseq\", \"Tewhey_K562_TileMPRA\")\n",
    "\n",
    "lst = list(dat_log2fc_deseq_astarr, dat_log2fc_deseq_wstarr, dat_log2fc_deseq_tmpra)\n",
    "dat = bind_rows(lst) %>% left_join(dat_region, ., by=c(\"Peak\"))\n",
    "dat$Assay = factor(dat$Assay, levels=ASSAYS)\n",
    "lst = split(dat, dat$Assay)"
   ]
  },
  {
   "cell_type": "code",
   "execution_count": 7,
   "id": "bfa8fdd1",
   "metadata": {},
   "outputs": [
    {
     "data": {
      "text/html": [
       "3"
      ],
      "text/latex": [
       "3"
      ],
      "text/markdown": [
       "3"
      ],
      "text/plain": [
       "[1] 3"
      ]
     },
     "metadata": {},
     "output_type": "display_data"
    }
   ],
   "source": [
    "length(lst)"
   ]
  },
  {
   "cell_type": "code",
   "execution_count": 8,
   "id": "42e81b20",
   "metadata": {},
   "outputs": [
    {
     "data": {
      "text/html": [
       "<dl>\n",
       "\t<dt>$KS91_K562_ASTARRseq</dt>\n",
       "\t\t<dd><table class=\"dataframe\">\n",
       "<caption>A tibble: 6 × 12</caption>\n",
       "<thead>\n",
       "\t<tr><th scope=col>Chrom</th><th scope=col>Start</th><th scope=col>End</th><th scope=col>Peak</th><th scope=col>Region</th><th scope=col>baseMean</th><th scope=col>log2FoldChange</th><th scope=col>lfcSE</th><th scope=col>stat</th><th scope=col>pvalue</th><th scope=col>padj</th><th scope=col>Assay</th></tr>\n",
       "\t<tr><th scope=col>&lt;chr&gt;</th><th scope=col>&lt;dbl&gt;</th><th scope=col>&lt;dbl&gt;</th><th scope=col>&lt;chr&gt;</th><th scope=col>&lt;chr&gt;</th><th scope=col>&lt;dbl&gt;</th><th scope=col>&lt;dbl&gt;</th><th scope=col>&lt;dbl&gt;</th><th scope=col>&lt;dbl&gt;</th><th scope=col>&lt;dbl&gt;</th><th scope=col>&lt;dbl&gt;</th><th scope=col>&lt;fct&gt;</th></tr>\n",
       "</thead>\n",
       "<tbody>\n",
       "\t<tr><td>chr8</td><td>126778902</td><td>126779728</td><td>chr8_126778902_126779728</td><td>MYC</td><td>425.57889</td><td> 0.4248381</td><td>0.06583942</td><td> 6.452641</td><td>1.099177e-10</td><td>9.958598e-10</td><td>KS91_K562_ASTARRseq</td></tr>\n",
       "\t<tr><td>chr8</td><td>126782925</td><td>126783318</td><td>chr8_126782925_126783318</td><td>MYC</td><td> 56.39778</td><td> 0.5611154</td><td>0.16546379</td><td> 3.391168</td><td>6.959552e-04</td><td>2.060108e-03</td><td>KS91_K562_ASTARRseq</td></tr>\n",
       "\t<tr><td>chr8</td><td>126804776</td><td>126805825</td><td>chr8_126804776_126805825</td><td>MYC</td><td>646.83072</td><td> 0.5479907</td><td>0.05309349</td><td>10.321241</td><td>5.648846e-25</td><td>1.350395e-23</td><td>KS91_K562_ASTARRseq</td></tr>\n",
       "\t<tr><td>chr8</td><td>126817018</td><td>126817490</td><td>chr8_126817018_126817490</td><td>MYC</td><td> 76.32991</td><td>-0.8449595</td><td>0.18617675</td><td>-4.538480</td><td>5.666114e-06</td><td>2.631423e-05</td><td>KS91_K562_ASTARRseq</td></tr>\n",
       "\t<tr><td>chr8</td><td>126820465</td><td>126821393</td><td>chr8_126820465_126821393</td><td>MYC</td><td>205.25178</td><td>-0.4738180</td><td>0.10207383</td><td>-4.641915</td><td>3.451953e-06</td><td>1.666532e-05</td><td>KS91_K562_ASTARRseq</td></tr>\n",
       "\t<tr><td>chr8</td><td>126824093</td><td>126824987</td><td>chr8_126824093_126824987</td><td>MYC</td><td>163.58060</td><td> 0.4855128</td><td>0.13521500</td><td> 3.590672</td><td>3.298260e-04</td><td>1.056945e-03</td><td>KS91_K562_ASTARRseq</td></tr>\n",
       "</tbody>\n",
       "</table>\n",
       "</dd>\n",
       "\t<dt>$A001_K562_WSTARRseq</dt>\n",
       "\t\t<dd><table class=\"dataframe\">\n",
       "<caption>A tibble: 6 × 12</caption>\n",
       "<thead>\n",
       "\t<tr><th scope=col>Chrom</th><th scope=col>Start</th><th scope=col>End</th><th scope=col>Peak</th><th scope=col>Region</th><th scope=col>baseMean</th><th scope=col>log2FoldChange</th><th scope=col>lfcSE</th><th scope=col>stat</th><th scope=col>pvalue</th><th scope=col>padj</th><th scope=col>Assay</th></tr>\n",
       "\t<tr><th scope=col>&lt;chr&gt;</th><th scope=col>&lt;dbl&gt;</th><th scope=col>&lt;dbl&gt;</th><th scope=col>&lt;chr&gt;</th><th scope=col>&lt;chr&gt;</th><th scope=col>&lt;dbl&gt;</th><th scope=col>&lt;dbl&gt;</th><th scope=col>&lt;dbl&gt;</th><th scope=col>&lt;dbl&gt;</th><th scope=col>&lt;dbl&gt;</th><th scope=col>&lt;dbl&gt;</th><th scope=col>&lt;fct&gt;</th></tr>\n",
       "</thead>\n",
       "<tbody>\n",
       "\t<tr><td>chr8</td><td>126778902</td><td>126779728</td><td>chr8_126778902_126779728</td><td>MYC</td><td>39.68316</td><td>-0.0741314</td><td>0.2263569</td><td>-0.3274979</td><td>0.743291339</td><td>0.8911870</td><td>A001_K562_WSTARRseq</td></tr>\n",
       "\t<tr><td>chr8</td><td>126782925</td><td>126783318</td><td>chr8_126782925_126783318</td><td>MYC</td><td>18.63677</td><td> 0.2312918</td><td>0.3497032</td><td> 0.6613946</td><td>0.508359309</td><td>0.7549645</td><td>A001_K562_WSTARRseq</td></tr>\n",
       "\t<tr><td>chr8</td><td>126804776</td><td>126805825</td><td>chr8_126804776_126805825</td><td>MYC</td><td>53.40456</td><td> 0.5462629</td><td>0.2010867</td><td> 2.7165548</td><td>0.006596527</td><td>0.0543969</td><td>A001_K562_WSTARRseq</td></tr>\n",
       "\t<tr><td>chr8</td><td>126817018</td><td>126817490</td><td>chr8_126817018_126817490</td><td>MYC</td><td>29.64984</td><td>-0.5126171</td><td>0.2572106</td><td>-1.9929862</td><td>0.046262963</td><td>0.2045968</td><td>A001_K562_WSTARRseq</td></tr>\n",
       "\t<tr><td>chr8</td><td>126820465</td><td>126821393</td><td>chr8_126820465_126821393</td><td>MYC</td><td>66.58359</td><td>-0.1796884</td><td>0.1758404</td><td>-1.0218835</td><td>0.306836063</td><td>0.5919970</td><td>A001_K562_WSTARRseq</td></tr>\n",
       "\t<tr><td>chr8</td><td>126824093</td><td>126824987</td><td>chr8_126824093_126824987</td><td>MYC</td><td>63.67513</td><td>-0.3160036</td><td>0.1769812</td><td>-1.7855205</td><td>0.074176930</td><td>0.2719365</td><td>A001_K562_WSTARRseq</td></tr>\n",
       "</tbody>\n",
       "</table>\n",
       "</dd>\n",
       "\t<dt>$Tewhey_K562_TileMPRA</dt>\n",
       "\t\t<dd><table class=\"dataframe\">\n",
       "<caption>A tibble: 6 × 12</caption>\n",
       "<thead>\n",
       "\t<tr><th scope=col>Chrom</th><th scope=col>Start</th><th scope=col>End</th><th scope=col>Peak</th><th scope=col>Region</th><th scope=col>baseMean</th><th scope=col>log2FoldChange</th><th scope=col>lfcSE</th><th scope=col>stat</th><th scope=col>pvalue</th><th scope=col>padj</th><th scope=col>Assay</th></tr>\n",
       "\t<tr><th scope=col>&lt;chr&gt;</th><th scope=col>&lt;dbl&gt;</th><th scope=col>&lt;dbl&gt;</th><th scope=col>&lt;chr&gt;</th><th scope=col>&lt;chr&gt;</th><th scope=col>&lt;dbl&gt;</th><th scope=col>&lt;dbl&gt;</th><th scope=col>&lt;dbl&gt;</th><th scope=col>&lt;dbl&gt;</th><th scope=col>&lt;dbl&gt;</th><th scope=col>&lt;dbl&gt;</th><th scope=col>&lt;fct&gt;</th></tr>\n",
       "</thead>\n",
       "<tbody>\n",
       "\t<tr><td>chr8</td><td>126778902</td><td>126779728</td><td>chr8_126778902_126779728</td><td>MYC</td><td>21735.416</td><td> 2.0452762</td><td>0.08643028</td><td> 23.663886</td><td>8.493383e-124</td><td>2.187337e-123</td><td>Tewhey_K562_TileMPRA</td></tr>\n",
       "\t<tr><td>chr8</td><td>126782925</td><td>126783318</td><td>chr8_126782925_126783318</td><td>MYC</td><td> 2581.439</td><td>-0.0965872</td><td>0.03958916</td><td> -2.439738</td><td> 1.469791e-02</td><td> 1.552363e-02</td><td>Tewhey_K562_TileMPRA</td></tr>\n",
       "\t<tr><td>chr8</td><td>126804776</td><td>126805825</td><td>chr8_126804776_126805825</td><td>MYC</td><td>33669.401</td><td> 1.9773708</td><td>0.04250256</td><td> 46.523564</td><td> 0.000000e+00</td><td> 0.000000e+00</td><td>Tewhey_K562_TileMPRA</td></tr>\n",
       "\t<tr><td>chr8</td><td>126817018</td><td>126817490</td><td>chr8_126817018_126817490</td><td>MYC</td><td> 8155.746</td><td>-0.2366357</td><td>0.02047609</td><td>-11.556687</td><td> 6.829285e-31</td><td> 9.303663e-31</td><td>Tewhey_K562_TileMPRA</td></tr>\n",
       "\t<tr><td>chr8</td><td>126820465</td><td>126821393</td><td>chr8_126820465_126821393</td><td>MYC</td><td>15555.566</td><td> 0.2009165</td><td>0.01987188</td><td> 10.110596</td><td> 4.958182e-24</td><td> 6.473182e-24</td><td>Tewhey_K562_TileMPRA</td></tr>\n",
       "\t<tr><td>chr8</td><td>126824093</td><td>126824987</td><td>chr8_126824093_126824987</td><td>MYC</td><td>61285.455</td><td> 2.0956013</td><td>0.05573147</td><td> 37.601761</td><td> 0.000000e+00</td><td> 0.000000e+00</td><td>Tewhey_K562_TileMPRA</td></tr>\n",
       "</tbody>\n",
       "</table>\n",
       "</dd>\n",
       "</dl>\n"
      ],
      "text/latex": [
       "\\begin{description}\n",
       "\\item[\\$KS91\\_K562\\_ASTARRseq] A tibble: 6 × 12\n",
       "\\begin{tabular}{llllllllllll}\n",
       " Chrom & Start & End & Peak & Region & baseMean & log2FoldChange & lfcSE & stat & pvalue & padj & Assay\\\\\n",
       " <chr> & <dbl> & <dbl> & <chr> & <chr> & <dbl> & <dbl> & <dbl> & <dbl> & <dbl> & <dbl> & <fct>\\\\\n",
       "\\hline\n",
       "\t chr8 & 126778902 & 126779728 & chr8\\_126778902\\_126779728 & MYC & 425.57889 &  0.4248381 & 0.06583942 &  6.452641 & 1.099177e-10 & 9.958598e-10 & KS91\\_K562\\_ASTARRseq\\\\\n",
       "\t chr8 & 126782925 & 126783318 & chr8\\_126782925\\_126783318 & MYC &  56.39778 &  0.5611154 & 0.16546379 &  3.391168 & 6.959552e-04 & 2.060108e-03 & KS91\\_K562\\_ASTARRseq\\\\\n",
       "\t chr8 & 126804776 & 126805825 & chr8\\_126804776\\_126805825 & MYC & 646.83072 &  0.5479907 & 0.05309349 & 10.321241 & 5.648846e-25 & 1.350395e-23 & KS91\\_K562\\_ASTARRseq\\\\\n",
       "\t chr8 & 126817018 & 126817490 & chr8\\_126817018\\_126817490 & MYC &  76.32991 & -0.8449595 & 0.18617675 & -4.538480 & 5.666114e-06 & 2.631423e-05 & KS91\\_K562\\_ASTARRseq\\\\\n",
       "\t chr8 & 126820465 & 126821393 & chr8\\_126820465\\_126821393 & MYC & 205.25178 & -0.4738180 & 0.10207383 & -4.641915 & 3.451953e-06 & 1.666532e-05 & KS91\\_K562\\_ASTARRseq\\\\\n",
       "\t chr8 & 126824093 & 126824987 & chr8\\_126824093\\_126824987 & MYC & 163.58060 &  0.4855128 & 0.13521500 &  3.590672 & 3.298260e-04 & 1.056945e-03 & KS91\\_K562\\_ASTARRseq\\\\\n",
       "\\end{tabular}\n",
       "\n",
       "\\item[\\$A001\\_K562\\_WSTARRseq] A tibble: 6 × 12\n",
       "\\begin{tabular}{llllllllllll}\n",
       " Chrom & Start & End & Peak & Region & baseMean & log2FoldChange & lfcSE & stat & pvalue & padj & Assay\\\\\n",
       " <chr> & <dbl> & <dbl> & <chr> & <chr> & <dbl> & <dbl> & <dbl> & <dbl> & <dbl> & <dbl> & <fct>\\\\\n",
       "\\hline\n",
       "\t chr8 & 126778902 & 126779728 & chr8\\_126778902\\_126779728 & MYC & 39.68316 & -0.0741314 & 0.2263569 & -0.3274979 & 0.743291339 & 0.8911870 & A001\\_K562\\_WSTARRseq\\\\\n",
       "\t chr8 & 126782925 & 126783318 & chr8\\_126782925\\_126783318 & MYC & 18.63677 &  0.2312918 & 0.3497032 &  0.6613946 & 0.508359309 & 0.7549645 & A001\\_K562\\_WSTARRseq\\\\\n",
       "\t chr8 & 126804776 & 126805825 & chr8\\_126804776\\_126805825 & MYC & 53.40456 &  0.5462629 & 0.2010867 &  2.7165548 & 0.006596527 & 0.0543969 & A001\\_K562\\_WSTARRseq\\\\\n",
       "\t chr8 & 126817018 & 126817490 & chr8\\_126817018\\_126817490 & MYC & 29.64984 & -0.5126171 & 0.2572106 & -1.9929862 & 0.046262963 & 0.2045968 & A001\\_K562\\_WSTARRseq\\\\\n",
       "\t chr8 & 126820465 & 126821393 & chr8\\_126820465\\_126821393 & MYC & 66.58359 & -0.1796884 & 0.1758404 & -1.0218835 & 0.306836063 & 0.5919970 & A001\\_K562\\_WSTARRseq\\\\\n",
       "\t chr8 & 126824093 & 126824987 & chr8\\_126824093\\_126824987 & MYC & 63.67513 & -0.3160036 & 0.1769812 & -1.7855205 & 0.074176930 & 0.2719365 & A001\\_K562\\_WSTARRseq\\\\\n",
       "\\end{tabular}\n",
       "\n",
       "\\item[\\$Tewhey\\_K562\\_TileMPRA] A tibble: 6 × 12\n",
       "\\begin{tabular}{llllllllllll}\n",
       " Chrom & Start & End & Peak & Region & baseMean & log2FoldChange & lfcSE & stat & pvalue & padj & Assay\\\\\n",
       " <chr> & <dbl> & <dbl> & <chr> & <chr> & <dbl> & <dbl> & <dbl> & <dbl> & <dbl> & <dbl> & <fct>\\\\\n",
       "\\hline\n",
       "\t chr8 & 126778902 & 126779728 & chr8\\_126778902\\_126779728 & MYC & 21735.416 &  2.0452762 & 0.08643028 &  23.663886 & 8.493383e-124 & 2.187337e-123 & Tewhey\\_K562\\_TileMPRA\\\\\n",
       "\t chr8 & 126782925 & 126783318 & chr8\\_126782925\\_126783318 & MYC &  2581.439 & -0.0965872 & 0.03958916 &  -2.439738 &  1.469791e-02 &  1.552363e-02 & Tewhey\\_K562\\_TileMPRA\\\\\n",
       "\t chr8 & 126804776 & 126805825 & chr8\\_126804776\\_126805825 & MYC & 33669.401 &  1.9773708 & 0.04250256 &  46.523564 &  0.000000e+00 &  0.000000e+00 & Tewhey\\_K562\\_TileMPRA\\\\\n",
       "\t chr8 & 126817018 & 126817490 & chr8\\_126817018\\_126817490 & MYC &  8155.746 & -0.2366357 & 0.02047609 & -11.556687 &  6.829285e-31 &  9.303663e-31 & Tewhey\\_K562\\_TileMPRA\\\\\n",
       "\t chr8 & 126820465 & 126821393 & chr8\\_126820465\\_126821393 & MYC & 15555.566 &  0.2009165 & 0.01987188 &  10.110596 &  4.958182e-24 &  6.473182e-24 & Tewhey\\_K562\\_TileMPRA\\\\\n",
       "\t chr8 & 126824093 & 126824987 & chr8\\_126824093\\_126824987 & MYC & 61285.455 &  2.0956013 & 0.05573147 &  37.601761 &  0.000000e+00 &  0.000000e+00 & Tewhey\\_K562\\_TileMPRA\\\\\n",
       "\\end{tabular}\n",
       "\n",
       "\\end{description}\n"
      ],
      "text/markdown": [
       "$KS91_K562_ASTARRseq\n",
       ":   \n",
       "A tibble: 6 × 12\n",
       "\n",
       "| Chrom &lt;chr&gt; | Start &lt;dbl&gt; | End &lt;dbl&gt; | Peak &lt;chr&gt; | Region &lt;chr&gt; | baseMean &lt;dbl&gt; | log2FoldChange &lt;dbl&gt; | lfcSE &lt;dbl&gt; | stat &lt;dbl&gt; | pvalue &lt;dbl&gt; | padj &lt;dbl&gt; | Assay &lt;fct&gt; |\n",
       "|---|---|---|---|---|---|---|---|---|---|---|---|\n",
       "| chr8 | 126778902 | 126779728 | chr8_126778902_126779728 | MYC | 425.57889 |  0.4248381 | 0.06583942 |  6.452641 | 1.099177e-10 | 9.958598e-10 | KS91_K562_ASTARRseq |\n",
       "| chr8 | 126782925 | 126783318 | chr8_126782925_126783318 | MYC |  56.39778 |  0.5611154 | 0.16546379 |  3.391168 | 6.959552e-04 | 2.060108e-03 | KS91_K562_ASTARRseq |\n",
       "| chr8 | 126804776 | 126805825 | chr8_126804776_126805825 | MYC | 646.83072 |  0.5479907 | 0.05309349 | 10.321241 | 5.648846e-25 | 1.350395e-23 | KS91_K562_ASTARRseq |\n",
       "| chr8 | 126817018 | 126817490 | chr8_126817018_126817490 | MYC |  76.32991 | -0.8449595 | 0.18617675 | -4.538480 | 5.666114e-06 | 2.631423e-05 | KS91_K562_ASTARRseq |\n",
       "| chr8 | 126820465 | 126821393 | chr8_126820465_126821393 | MYC | 205.25178 | -0.4738180 | 0.10207383 | -4.641915 | 3.451953e-06 | 1.666532e-05 | KS91_K562_ASTARRseq |\n",
       "| chr8 | 126824093 | 126824987 | chr8_126824093_126824987 | MYC | 163.58060 |  0.4855128 | 0.13521500 |  3.590672 | 3.298260e-04 | 1.056945e-03 | KS91_K562_ASTARRseq |\n",
       "\n",
       "\n",
       "$A001_K562_WSTARRseq\n",
       ":   \n",
       "A tibble: 6 × 12\n",
       "\n",
       "| Chrom &lt;chr&gt; | Start &lt;dbl&gt; | End &lt;dbl&gt; | Peak &lt;chr&gt; | Region &lt;chr&gt; | baseMean &lt;dbl&gt; | log2FoldChange &lt;dbl&gt; | lfcSE &lt;dbl&gt; | stat &lt;dbl&gt; | pvalue &lt;dbl&gt; | padj &lt;dbl&gt; | Assay &lt;fct&gt; |\n",
       "|---|---|---|---|---|---|---|---|---|---|---|---|\n",
       "| chr8 | 126778902 | 126779728 | chr8_126778902_126779728 | MYC | 39.68316 | -0.0741314 | 0.2263569 | -0.3274979 | 0.743291339 | 0.8911870 | A001_K562_WSTARRseq |\n",
       "| chr8 | 126782925 | 126783318 | chr8_126782925_126783318 | MYC | 18.63677 |  0.2312918 | 0.3497032 |  0.6613946 | 0.508359309 | 0.7549645 | A001_K562_WSTARRseq |\n",
       "| chr8 | 126804776 | 126805825 | chr8_126804776_126805825 | MYC | 53.40456 |  0.5462629 | 0.2010867 |  2.7165548 | 0.006596527 | 0.0543969 | A001_K562_WSTARRseq |\n",
       "| chr8 | 126817018 | 126817490 | chr8_126817018_126817490 | MYC | 29.64984 | -0.5126171 | 0.2572106 | -1.9929862 | 0.046262963 | 0.2045968 | A001_K562_WSTARRseq |\n",
       "| chr8 | 126820465 | 126821393 | chr8_126820465_126821393 | MYC | 66.58359 | -0.1796884 | 0.1758404 | -1.0218835 | 0.306836063 | 0.5919970 | A001_K562_WSTARRseq |\n",
       "| chr8 | 126824093 | 126824987 | chr8_126824093_126824987 | MYC | 63.67513 | -0.3160036 | 0.1769812 | -1.7855205 | 0.074176930 | 0.2719365 | A001_K562_WSTARRseq |\n",
       "\n",
       "\n",
       "$Tewhey_K562_TileMPRA\n",
       ":   \n",
       "A tibble: 6 × 12\n",
       "\n",
       "| Chrom &lt;chr&gt; | Start &lt;dbl&gt; | End &lt;dbl&gt; | Peak &lt;chr&gt; | Region &lt;chr&gt; | baseMean &lt;dbl&gt; | log2FoldChange &lt;dbl&gt; | lfcSE &lt;dbl&gt; | stat &lt;dbl&gt; | pvalue &lt;dbl&gt; | padj &lt;dbl&gt; | Assay &lt;fct&gt; |\n",
       "|---|---|---|---|---|---|---|---|---|---|---|---|\n",
       "| chr8 | 126778902 | 126779728 | chr8_126778902_126779728 | MYC | 21735.416 |  2.0452762 | 0.08643028 |  23.663886 | 8.493383e-124 | 2.187337e-123 | Tewhey_K562_TileMPRA |\n",
       "| chr8 | 126782925 | 126783318 | chr8_126782925_126783318 | MYC |  2581.439 | -0.0965872 | 0.03958916 |  -2.439738 |  1.469791e-02 |  1.552363e-02 | Tewhey_K562_TileMPRA |\n",
       "| chr8 | 126804776 | 126805825 | chr8_126804776_126805825 | MYC | 33669.401 |  1.9773708 | 0.04250256 |  46.523564 |  0.000000e+00 |  0.000000e+00 | Tewhey_K562_TileMPRA |\n",
       "| chr8 | 126817018 | 126817490 | chr8_126817018_126817490 | MYC |  8155.746 | -0.2366357 | 0.02047609 | -11.556687 |  6.829285e-31 |  9.303663e-31 | Tewhey_K562_TileMPRA |\n",
       "| chr8 | 126820465 | 126821393 | chr8_126820465_126821393 | MYC | 15555.566 |  0.2009165 | 0.01987188 |  10.110596 |  4.958182e-24 |  6.473182e-24 | Tewhey_K562_TileMPRA |\n",
       "| chr8 | 126824093 | 126824987 | chr8_126824093_126824987 | MYC | 61285.455 |  2.0956013 | 0.05573147 |  37.601761 |  0.000000e+00 |  0.000000e+00 | Tewhey_K562_TileMPRA |\n",
       "\n",
       "\n",
       "\n",
       "\n"
      ],
      "text/plain": [
       "$KS91_K562_ASTARRseq\n",
       "\u001b[90m# A tibble: 6 × 12\u001b[39m\n",
       "  Chrom     Start       End Peak    Region baseM…¹ log2F…²  lfcSE  stat   pvalue\n",
       "  \u001b[3m\u001b[90m<chr>\u001b[39m\u001b[23m     \u001b[3m\u001b[90m<dbl>\u001b[39m\u001b[23m     \u001b[3m\u001b[90m<dbl>\u001b[39m\u001b[23m \u001b[3m\u001b[90m<chr>\u001b[39m\u001b[23m   \u001b[3m\u001b[90m<chr>\u001b[39m\u001b[23m    \u001b[3m\u001b[90m<dbl>\u001b[39m\u001b[23m   \u001b[3m\u001b[90m<dbl>\u001b[39m\u001b[23m  \u001b[3m\u001b[90m<dbl>\u001b[39m\u001b[23m \u001b[3m\u001b[90m<dbl>\u001b[39m\u001b[23m    \u001b[3m\u001b[90m<dbl>\u001b[39m\u001b[23m\n",
       "\u001b[90m1\u001b[39m chr8  126\u001b[4m7\u001b[24m\u001b[4m7\u001b[24m\u001b[4m8\u001b[24m902 126\u001b[4m7\u001b[24m\u001b[4m7\u001b[24m\u001b[4m9\u001b[24m728 chr8_1… MYC      426.    0.425 0.065\u001b[4m8\u001b[24m  6.45 1.10\u001b[90me\u001b[39m\u001b[31m-10\u001b[39m\n",
       "\u001b[90m2\u001b[39m chr8  126\u001b[4m7\u001b[24m\u001b[4m8\u001b[24m\u001b[4m2\u001b[24m925 126\u001b[4m7\u001b[24m\u001b[4m8\u001b[24m\u001b[4m3\u001b[24m318 chr8_1… MYC       56.4   0.561 0.165   3.39 6.96\u001b[90me\u001b[39m\u001b[31m- 4\u001b[39m\n",
       "\u001b[90m3\u001b[39m chr8  126\u001b[4m8\u001b[24m\u001b[4m0\u001b[24m\u001b[4m4\u001b[24m776 126\u001b[4m8\u001b[24m\u001b[4m0\u001b[24m\u001b[4m5\u001b[24m825 chr8_1… MYC      647.    0.548 0.053\u001b[4m1\u001b[24m 10.3  5.65\u001b[90me\u001b[39m\u001b[31m-25\u001b[39m\n",
       "\u001b[90m4\u001b[39m chr8  126\u001b[4m8\u001b[24m\u001b[4m1\u001b[24m\u001b[4m7\u001b[24m018 126\u001b[4m8\u001b[24m\u001b[4m1\u001b[24m\u001b[4m7\u001b[24m490 chr8_1… MYC       76.3  -\u001b[31m0\u001b[39m\u001b[31m.\u001b[39m\u001b[31m845\u001b[39m 0.186  -\u001b[31m4\u001b[39m\u001b[31m.\u001b[39m\u001b[31m54\u001b[39m 5.67\u001b[90me\u001b[39m\u001b[31m- 6\u001b[39m\n",
       "\u001b[90m5\u001b[39m chr8  126\u001b[4m8\u001b[24m\u001b[4m2\u001b[24m\u001b[4m0\u001b[24m465 126\u001b[4m8\u001b[24m\u001b[4m2\u001b[24m\u001b[4m1\u001b[24m393 chr8_1… MYC      205.   -\u001b[31m0\u001b[39m\u001b[31m.\u001b[39m\u001b[31m474\u001b[39m 0.102  -\u001b[31m4\u001b[39m\u001b[31m.\u001b[39m\u001b[31m64\u001b[39m 3.45\u001b[90me\u001b[39m\u001b[31m- 6\u001b[39m\n",
       "\u001b[90m6\u001b[39m chr8  126\u001b[4m8\u001b[24m\u001b[4m2\u001b[24m\u001b[4m4\u001b[24m093 126\u001b[4m8\u001b[24m\u001b[4m2\u001b[24m\u001b[4m4\u001b[24m987 chr8_1… MYC      164.    0.486 0.135   3.59 3.30\u001b[90me\u001b[39m\u001b[31m- 4\u001b[39m\n",
       "\u001b[90m# … with 2 more variables: padj <dbl>, Assay <fct>, and abbreviated variable\u001b[39m\n",
       "\u001b[90m#   names ¹​baseMean, ²​log2FoldChange\u001b[39m\n",
       "\n",
       "$A001_K562_WSTARRseq\n",
       "\u001b[90m# A tibble: 6 × 12\u001b[39m\n",
       "  Chrom    Start    End Peak  Region baseM…¹ log2F…² lfcSE   stat  pvalue   padj\n",
       "  \u001b[3m\u001b[90m<chr>\u001b[39m\u001b[23m    \u001b[3m\u001b[90m<dbl>\u001b[39m\u001b[23m  \u001b[3m\u001b[90m<dbl>\u001b[39m\u001b[23m \u001b[3m\u001b[90m<chr>\u001b[39m\u001b[23m \u001b[3m\u001b[90m<chr>\u001b[39m\u001b[23m    \u001b[3m\u001b[90m<dbl>\u001b[39m\u001b[23m   \u001b[3m\u001b[90m<dbl>\u001b[39m\u001b[23m \u001b[3m\u001b[90m<dbl>\u001b[39m\u001b[23m  \u001b[3m\u001b[90m<dbl>\u001b[39m\u001b[23m   \u001b[3m\u001b[90m<dbl>\u001b[39m\u001b[23m  \u001b[3m\u001b[90m<dbl>\u001b[39m\u001b[23m\n",
       "\u001b[90m1\u001b[39m chr8    1.27\u001b[90me\u001b[39m8 1.27\u001b[90me\u001b[39m8 chr8… MYC       39.7 -\u001b[31m0\u001b[39m\u001b[31m.\u001b[39m\u001b[31m0\u001b[39m\u001b[31m74\u001b[4m1\u001b[24m\u001b[39m 0.226 -\u001b[31m0\u001b[39m\u001b[31m.\u001b[39m\u001b[31m327\u001b[39m 0.743   0.891 \n",
       "\u001b[90m2\u001b[39m chr8    1.27\u001b[90me\u001b[39m8 1.27\u001b[90me\u001b[39m8 chr8… MYC       18.6  0.231  0.350  0.661 0.508   0.755 \n",
       "\u001b[90m3\u001b[39m chr8    1.27\u001b[90me\u001b[39m8 1.27\u001b[90me\u001b[39m8 chr8… MYC       53.4  0.546  0.201  2.72  0.006\u001b[4m6\u001b[24m\u001b[4m0\u001b[24m 0.054\u001b[4m4\u001b[24m\n",
       "\u001b[90m4\u001b[39m chr8    1.27\u001b[90me\u001b[39m8 1.27\u001b[90me\u001b[39m8 chr8… MYC       29.6 -\u001b[31m0\u001b[39m\u001b[31m.\u001b[39m\u001b[31m513\u001b[39m  0.257 -\u001b[31m1\u001b[39m\u001b[31m.\u001b[39m\u001b[31m99\u001b[39m  0.046\u001b[4m3\u001b[24m  0.205 \n",
       "\u001b[90m5\u001b[39m chr8    1.27\u001b[90me\u001b[39m8 1.27\u001b[90me\u001b[39m8 chr8… MYC       66.6 -\u001b[31m0\u001b[39m\u001b[31m.\u001b[39m\u001b[31m180\u001b[39m  0.176 -\u001b[31m1\u001b[39m\u001b[31m.\u001b[39m\u001b[31m0\u001b[39m\u001b[31m2\u001b[39m  0.307   0.592 \n",
       "\u001b[90m6\u001b[39m chr8    1.27\u001b[90me\u001b[39m8 1.27\u001b[90me\u001b[39m8 chr8… MYC       63.7 -\u001b[31m0\u001b[39m\u001b[31m.\u001b[39m\u001b[31m316\u001b[39m  0.177 -\u001b[31m1\u001b[39m\u001b[31m.\u001b[39m\u001b[31m79\u001b[39m  0.074\u001b[4m2\u001b[24m  0.272 \n",
       "\u001b[90m# … with 1 more variable: Assay <fct>, and abbreviated variable names\u001b[39m\n",
       "\u001b[90m#   ¹​baseMean, ²​log2FoldChange\u001b[39m\n",
       "\n",
       "$Tewhey_K562_TileMPRA\n",
       "\u001b[90m# A tibble: 6 × 12\u001b[39m\n",
       "  Chrom     Start       End Peak  Region baseM…¹ log2F…²  lfcSE   stat    pvalue\n",
       "  \u001b[3m\u001b[90m<chr>\u001b[39m\u001b[23m     \u001b[3m\u001b[90m<dbl>\u001b[39m\u001b[23m     \u001b[3m\u001b[90m<dbl>\u001b[39m\u001b[23m \u001b[3m\u001b[90m<chr>\u001b[39m\u001b[23m \u001b[3m\u001b[90m<chr>\u001b[39m\u001b[23m    \u001b[3m\u001b[90m<dbl>\u001b[39m\u001b[23m   \u001b[3m\u001b[90m<dbl>\u001b[39m\u001b[23m  \u001b[3m\u001b[90m<dbl>\u001b[39m\u001b[23m  \u001b[3m\u001b[90m<dbl>\u001b[39m\u001b[23m     \u001b[3m\u001b[90m<dbl>\u001b[39m\u001b[23m\n",
       "\u001b[90m1\u001b[39m chr8  126\u001b[4m7\u001b[24m\u001b[4m7\u001b[24m\u001b[4m8\u001b[24m902 126\u001b[4m7\u001b[24m\u001b[4m7\u001b[24m\u001b[4m9\u001b[24m728 chr8… MYC     \u001b[4m2\u001b[24m\u001b[4m1\u001b[24m735.  2.05   0.086\u001b[4m4\u001b[24m  23.7  8.49\u001b[90me\u001b[39m\u001b[31m-124\u001b[39m\n",
       "\u001b[90m2\u001b[39m chr8  126\u001b[4m7\u001b[24m\u001b[4m8\u001b[24m\u001b[4m2\u001b[24m925 126\u001b[4m7\u001b[24m\u001b[4m8\u001b[24m\u001b[4m3\u001b[24m318 chr8… MYC      \u001b[4m2\u001b[24m581. -\u001b[31m0\u001b[39m\u001b[31m.\u001b[39m\u001b[31m0\u001b[39m\u001b[31m96\u001b[4m6\u001b[24m\u001b[39m 0.039\u001b[4m6\u001b[24m  -\u001b[31m2\u001b[39m\u001b[31m.\u001b[39m\u001b[31m44\u001b[39m 1.47\u001b[90me\u001b[39m\u001b[31m-  2\u001b[39m\n",
       "\u001b[90m3\u001b[39m chr8  126\u001b[4m8\u001b[24m\u001b[4m0\u001b[24m\u001b[4m4\u001b[24m776 126\u001b[4m8\u001b[24m\u001b[4m0\u001b[24m\u001b[4m5\u001b[24m825 chr8… MYC     \u001b[4m3\u001b[24m\u001b[4m3\u001b[24m669.  1.98   0.042\u001b[4m5\u001b[24m  46.5  0   \u001b[90m \u001b[39m    \n",
       "\u001b[90m4\u001b[39m chr8  126\u001b[4m8\u001b[24m\u001b[4m1\u001b[24m\u001b[4m7\u001b[24m018 126\u001b[4m8\u001b[24m\u001b[4m1\u001b[24m\u001b[4m7\u001b[24m490 chr8… MYC      \u001b[4m8\u001b[24m156. -\u001b[31m0\u001b[39m\u001b[31m.\u001b[39m\u001b[31m237\u001b[39m  0.020\u001b[4m5\u001b[24m -\u001b[31m11\u001b[39m\u001b[31m.\u001b[39m\u001b[31m6\u001b[39m  6.83\u001b[90me\u001b[39m\u001b[31m- 31\u001b[39m\n",
       "\u001b[90m5\u001b[39m chr8  126\u001b[4m8\u001b[24m\u001b[4m2\u001b[24m\u001b[4m0\u001b[24m465 126\u001b[4m8\u001b[24m\u001b[4m2\u001b[24m\u001b[4m1\u001b[24m393 chr8… MYC     \u001b[4m1\u001b[24m\u001b[4m5\u001b[24m556.  0.201  0.019\u001b[4m9\u001b[24m  10.1  4.96\u001b[90me\u001b[39m\u001b[31m- 24\u001b[39m\n",
       "\u001b[90m6\u001b[39m chr8  126\u001b[4m8\u001b[24m\u001b[4m2\u001b[24m\u001b[4m4\u001b[24m093 126\u001b[4m8\u001b[24m\u001b[4m2\u001b[24m\u001b[4m4\u001b[24m987 chr8… MYC     \u001b[4m6\u001b[24m\u001b[4m1\u001b[24m285.  2.10   0.055\u001b[4m7\u001b[24m  37.6  0   \u001b[90m \u001b[39m    \n",
       "\u001b[90m# … with 2 more variables: padj <dbl>, Assay <fct>, and abbreviated variable\u001b[39m\n",
       "\u001b[90m#   names ¹​baseMean, ²​log2FoldChange\u001b[39m\n"
      ]
     },
     "metadata": {},
     "output_type": "display_data"
    }
   ],
   "source": [
    "lapply(lst, head)"
   ]
  },
  {
   "cell_type": "code",
   "execution_count": 9,
   "id": "91daac55",
   "metadata": {},
   "outputs": [],
   "source": [
    "fdiry = file.path(FD_RES, \"results\", \"comparison\", \"comparison_global\")\n",
    "fname = \"List_combine_Log2FC.RDS\"\n",
    "fpath = file.path(fdiry, fname)\n",
    "saveRDS(lst, fpath)"
   ]
  },
  {
   "cell_type": "code",
   "execution_count": null,
   "id": "933fd970",
   "metadata": {},
   "outputs": [],
   "source": []
  }
 ],
 "metadata": {
  "kernelspec": {
   "display_name": "R",
   "language": "R",
   "name": "ir"
  },
  "language_info": {
   "codemirror_mode": "r",
   "file_extension": ".r",
   "mimetype": "text/x-r-source",
   "name": "R",
   "pygments_lexer": "r",
   "version": "4.2.2"
  }
 },
 "nbformat": 4,
 "nbformat_minor": 5
}
