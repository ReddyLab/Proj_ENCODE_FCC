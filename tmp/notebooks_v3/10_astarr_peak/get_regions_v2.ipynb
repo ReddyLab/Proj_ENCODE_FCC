{
 "cells": [
  {
   "cell_type": "code",
   "execution_count": 1,
   "metadata": {},
   "outputs": [
    {
     "name": "stdout",
     "output_type": "stream",
     "text": [
      "You are in Singularity: singularity_proj_combeffect \n",
      "BASE DIRECTORY:     /data/reddylab/Kuei \n",
      "WORK DIRECTORY:     /data/reddylab/Kuei/out \n",
      "CODE DIRECTORY:     /data/reddylab/Kuei/code \n",
      "PATH OF SOURCE:     /data/reddylab/Kuei/source \n",
      "PATH OF EXECUTABLE: /data/reddylab/Kuei/bin \n",
      "PATH OF ANNOTATION: /data/reddylab/Kuei/annotation \n",
      "PATH OF PROJECT:    /data/reddylab/Kuei/code/Proj_CombEffect_ENCODE_FCC \n",
      "PATH OF RESULTS:    /data/reddylab/Kuei/out/proj_combeffect_encode_fcc \n"
     ]
    }
   ],
   "source": [
    "suppressMessages(suppressWarnings(source(\"../config/config_sing.R\")))\n",
    "show_env()"
   ]
  },
  {
   "cell_type": "code",
   "execution_count": 4,
   "metadata": {},
   "outputs": [
    {
     "name": "stdout",
     "output_type": "stream",
     "text": [
      "[1] 247520      3\n"
     ]
    },
    {
     "data": {
      "text/html": [
       "<table class=\"dataframe\">\n",
       "<caption>A tibble: 6 × 3</caption>\n",
       "<thead>\n",
       "\t<tr><th scope=col>Chrom</th><th scope=col>Start</th><th scope=col>End</th></tr>\n",
       "\t<tr><th scope=col>&lt;chr&gt;</th><th scope=col>&lt;dbl&gt;</th><th scope=col>&lt;dbl&gt;</th></tr>\n",
       "</thead>\n",
       "<tbody>\n",
       "\t<tr><td>chr1</td><td>10015</td><td>10442</td></tr>\n",
       "\t<tr><td>chr1</td><td>14253</td><td>14645</td></tr>\n",
       "\t<tr><td>chr1</td><td>16015</td><td>16477</td></tr>\n",
       "\t<tr><td>chr1</td><td>17237</td><td>17772</td></tr>\n",
       "\t<tr><td>chr1</td><td>28903</td><td>29613</td></tr>\n",
       "\t<tr><td>chr1</td><td>30803</td><td>31072</td></tr>\n",
       "</tbody>\n",
       "</table>\n"
      ],
      "text/latex": [
       "A tibble: 6 × 3\n",
       "\\begin{tabular}{lll}\n",
       " Chrom & Start & End\\\\\n",
       " <chr> & <dbl> & <dbl>\\\\\n",
       "\\hline\n",
       "\t chr1 & 10015 & 10442\\\\\n",
       "\t chr1 & 14253 & 14645\\\\\n",
       "\t chr1 & 16015 & 16477\\\\\n",
       "\t chr1 & 17237 & 17772\\\\\n",
       "\t chr1 & 28903 & 29613\\\\\n",
       "\t chr1 & 30803 & 31072\\\\\n",
       "\\end{tabular}\n"
      ],
      "text/markdown": [
       "\n",
       "A tibble: 6 × 3\n",
       "\n",
       "| Chrom &lt;chr&gt; | Start &lt;dbl&gt; | End &lt;dbl&gt; |\n",
       "|---|---|---|\n",
       "| chr1 | 10015 | 10442 |\n",
       "| chr1 | 14253 | 14645 |\n",
       "| chr1 | 16015 | 16477 |\n",
       "| chr1 | 17237 | 17772 |\n",
       "| chr1 | 28903 | 29613 |\n",
       "| chr1 | 30803 | 31072 |\n",
       "\n"
      ],
      "text/plain": [
       "  Chrom Start End  \n",
       "1 chr1  10015 10442\n",
       "2 chr1  14253 14645\n",
       "3 chr1  16015 16477\n",
       "4 chr1  17237 17772\n",
       "5 chr1  28903 29613\n",
       "6 chr1  30803 31072"
      ]
     },
     "metadata": {},
     "output_type": "display_data"
    }
   ],
   "source": [
    "fdiry = file.path(FD_RES, \"region\", \"KS91_K562_ASTARRseq_peak_macs\")\n",
    "fname = \"KS91_K562_hg38_ASTARRseq_Input.all_reps.masked.union_narrowPeak.q5.bed\"\n",
    "fpath = file.path(fdiry, fname)\n",
    "\n",
    "cnames = c(\"Chrom\", \"Start\", \"End\")\n",
    "dat = read_tsv(fpath, col_names = cnames, show_col_types = FALSE)\n",
    "\n",
    "dat_peak_atac_wgs = dat %>% mutate(Peak = paste(Chrom, Start, End, sep=\"_\"))\n",
    "print(dim(dat))\n",
    "head(dat)"
   ]
  },
  {
   "cell_type": "code",
   "execution_count": null,
   "metadata": {},
   "outputs": [],
   "source": []
  }
 ],
 "metadata": {
  "kernelspec": {
   "display_name": "R",
   "language": "R",
   "name": "ir"
  },
  "language_info": {
   "codemirror_mode": "r",
   "file_extension": ".r",
   "mimetype": "text/x-r-source",
   "name": "R",
   "pygments_lexer": "r",
   "version": "4.2.2"
  }
 },
 "nbformat": 4,
 "nbformat_minor": 4
}
