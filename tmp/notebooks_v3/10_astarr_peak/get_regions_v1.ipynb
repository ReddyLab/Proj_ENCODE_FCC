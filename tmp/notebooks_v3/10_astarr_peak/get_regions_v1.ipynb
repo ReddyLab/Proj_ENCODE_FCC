{
 "cells": [
  {
   "cell_type": "markdown",
   "id": "b582b3a2",
   "metadata": {},
   "source": [
    "**Set environment**"
   ]
  },
  {
   "cell_type": "code",
   "execution_count": 1,
   "id": "209d282d",
   "metadata": {},
   "outputs": [
    {
     "name": "stdout",
     "output_type": "stream",
     "text": [
      "You are in Singularity: singularity_proj_combeffect \n",
      "BASE DIRECTORY:     /data/reddylab/Kuei \n",
      "WORK DIRECTORY:     /data/reddylab/Kuei/out \n",
      "CODE DIRECTORY:     /data/reddylab/Kuei/code \n",
      "PATH OF SOURCE:     /data/reddylab/Kuei/source \n",
      "PATH OF EXECUTABLE: /data/reddylab/Kuei/bin \n",
      "PATH OF ANNOTATION: /data/reddylab/Kuei/annotation \n",
      "PATH OF PROJECT:    /data/reddylab/Kuei/code/Proj_CombEffect_ENCODE_FCC \n",
      "PATH OF RESULTS:    /data/reddylab/Kuei/out/proj_combeffect_encode_fcc \n"
     ]
    }
   ],
   "source": [
    "suppressMessages(suppressWarnings(source(\"../config/config_sing.R\")))\n",
    "show_env()"
   ]
  },
  {
   "cell_type": "code",
   "execution_count": 5,
   "id": "73ae4915",
   "metadata": {},
   "outputs": [
    {
     "name": "stdout",
     "output_type": "stream",
     "text": [
      "[1] 247520      3\n"
     ]
    },
    {
     "data": {
      "text/html": [
       "<table class=\"dataframe\">\n",
       "<caption>A tibble: 6 × 3</caption>\n",
       "<thead>\n",
       "\t<tr><th scope=col>Chrom</th><th scope=col>Start</th><th scope=col>End</th></tr>\n",
       "\t<tr><th scope=col>&lt;chr&gt;</th><th scope=col>&lt;dbl&gt;</th><th scope=col>&lt;dbl&gt;</th></tr>\n",
       "</thead>\n",
       "<tbody>\n",
       "\t<tr><td>chr1</td><td>10015</td><td>10442</td></tr>\n",
       "\t<tr><td>chr1</td><td>14253</td><td>14645</td></tr>\n",
       "\t<tr><td>chr1</td><td>16015</td><td>16477</td></tr>\n",
       "\t<tr><td>chr1</td><td>17237</td><td>17772</td></tr>\n",
       "\t<tr><td>chr1</td><td>28903</td><td>29613</td></tr>\n",
       "\t<tr><td>chr1</td><td>30803</td><td>31072</td></tr>\n",
       "</tbody>\n",
       "</table>\n"
      ],
      "text/latex": [
       "A tibble: 6 × 3\n",
       "\\begin{tabular}{lll}\n",
       " Chrom & Start & End\\\\\n",
       " <chr> & <dbl> & <dbl>\\\\\n",
       "\\hline\n",
       "\t chr1 & 10015 & 10442\\\\\n",
       "\t chr1 & 14253 & 14645\\\\\n",
       "\t chr1 & 16015 & 16477\\\\\n",
       "\t chr1 & 17237 & 17772\\\\\n",
       "\t chr1 & 28903 & 29613\\\\\n",
       "\t chr1 & 30803 & 31072\\\\\n",
       "\\end{tabular}\n"
      ],
      "text/markdown": [
       "\n",
       "A tibble: 6 × 3\n",
       "\n",
       "| Chrom &lt;chr&gt; | Start &lt;dbl&gt; | End &lt;dbl&gt; |\n",
       "|---|---|---|\n",
       "| chr1 | 10015 | 10442 |\n",
       "| chr1 | 14253 | 14645 |\n",
       "| chr1 | 16015 | 16477 |\n",
       "| chr1 | 17237 | 17772 |\n",
       "| chr1 | 28903 | 29613 |\n",
       "| chr1 | 30803 | 31072 |\n",
       "\n"
      ],
      "text/plain": [
       "  Chrom Start End  \n",
       "1 chr1  10015 10442\n",
       "2 chr1  14253 14645\n",
       "3 chr1  16015 16477\n",
       "4 chr1  17237 17772\n",
       "5 chr1  28903 29613\n",
       "6 chr1  30803 31072"
      ]
     },
     "metadata": {},
     "output_type": "display_data"
    }
   ],
   "source": [
    "fdiry = file.path(FD_RES, \"region\", \"KS91_K562_ASTARRseq_peak_macs\")\n",
    "fname = \"KS91_K562_hg38_ASTARRseq_Input.all_reps.masked.union_narrowPeak.q5.bed\"\n",
    "fpath = file.path(fdiry, fname)\n",
    "\n",
    "cnames = c(\"Chrom\", \"Start\", \"End\")\n",
    "dat = read_tsv(fpath, col_names = cnames, show_col_types = FALSE)\n",
    "\n",
    "dat_peak_wgs = dat %>% mutate(Peak = paste(Chrom, Start, End, sep=\"_\"))\n",
    "print(dim(dat))\n",
    "head(dat)"
   ]
  },
  {
   "cell_type": "code",
   "execution_count": 6,
   "id": "8aa0b0cc",
   "metadata": {},
   "outputs": [],
   "source": [
    "CHROMS_WGS = paste0(\"chr\", c(1:22, \"X\", \"Y\"))\n",
    "REGIONS=c(\"GATA1\",    \"MYC\",       \"FADS\")\n",
    "CHROMS=c( \"chrX\",     \"chr8\",      \"chr11\")\n",
    "STARTS=c( 47785501, 126735901, 61554801)\n",
    "ENDS=c(   49880650, 128736550, 61665820)"
   ]
  },
  {
   "cell_type": "code",
   "execution_count": 16,
   "id": "f5669969",
   "metadata": {},
   "outputs": [
    {
     "name": "stdout",
     "output_type": "stream",
     "text": [
      "[1] 417   5\n"
     ]
    },
    {
     "data": {
      "text/html": [
       "<table class=\"dataframe\">\n",
       "<caption>A tibble: 6 × 5</caption>\n",
       "<thead>\n",
       "\t<tr><th scope=col>Chrom</th><th scope=col>Start</th><th scope=col>End</th><th scope=col>Peak</th><th scope=col>Region</th></tr>\n",
       "\t<tr><th scope=col>&lt;fct&gt;</th><th scope=col>&lt;int&gt;</th><th scope=col>&lt;int&gt;</th><th scope=col>&lt;chr&gt;</th><th scope=col>&lt;chr&gt;</th></tr>\n",
       "</thead>\n",
       "<tbody>\n",
       "\t<tr><td>chr8</td><td>126778902</td><td>126779728</td><td>chr8_126778902_126779728</td><td>MYC</td></tr>\n",
       "\t<tr><td>chr8</td><td>126782925</td><td>126783318</td><td>chr8_126782925_126783318</td><td>MYC</td></tr>\n",
       "\t<tr><td>chr8</td><td>126804776</td><td>126805825</td><td>chr8_126804776_126805825</td><td>MYC</td></tr>\n",
       "\t<tr><td>chr8</td><td>126817018</td><td>126817490</td><td>chr8_126817018_126817490</td><td>MYC</td></tr>\n",
       "\t<tr><td>chr8</td><td>126820465</td><td>126821393</td><td>chr8_126820465_126821393</td><td>MYC</td></tr>\n",
       "\t<tr><td>chr8</td><td>126824093</td><td>126824987</td><td>chr8_126824093_126824987</td><td>MYC</td></tr>\n",
       "</tbody>\n",
       "</table>\n"
      ],
      "text/latex": [
       "A tibble: 6 × 5\n",
       "\\begin{tabular}{lllll}\n",
       " Chrom & Start & End & Peak & Region\\\\\n",
       " <fct> & <int> & <int> & <chr> & <chr>\\\\\n",
       "\\hline\n",
       "\t chr8 & 126778902 & 126779728 & chr8\\_126778902\\_126779728 & MYC\\\\\n",
       "\t chr8 & 126782925 & 126783318 & chr8\\_126782925\\_126783318 & MYC\\\\\n",
       "\t chr8 & 126804776 & 126805825 & chr8\\_126804776\\_126805825 & MYC\\\\\n",
       "\t chr8 & 126817018 & 126817490 & chr8\\_126817018\\_126817490 & MYC\\\\\n",
       "\t chr8 & 126820465 & 126821393 & chr8\\_126820465\\_126821393 & MYC\\\\\n",
       "\t chr8 & 126824093 & 126824987 & chr8\\_126824093\\_126824987 & MYC\\\\\n",
       "\\end{tabular}\n"
      ],
      "text/markdown": [
       "\n",
       "A tibble: 6 × 5\n",
       "\n",
       "| Chrom &lt;fct&gt; | Start &lt;int&gt; | End &lt;int&gt; | Peak &lt;chr&gt; | Region &lt;chr&gt; |\n",
       "|---|---|---|---|---|\n",
       "| chr8 | 126778902 | 126779728 | chr8_126778902_126779728 | MYC |\n",
       "| chr8 | 126782925 | 126783318 | chr8_126782925_126783318 | MYC |\n",
       "| chr8 | 126804776 | 126805825 | chr8_126804776_126805825 | MYC |\n",
       "| chr8 | 126817018 | 126817490 | chr8_126817018_126817490 | MYC |\n",
       "| chr8 | 126820465 | 126821393 | chr8_126820465_126821393 | MYC |\n",
       "| chr8 | 126824093 | 126824987 | chr8_126824093_126824987 | MYC |\n",
       "\n"
      ],
      "text/plain": [
       "  Chrom Start     End       Peak                     Region\n",
       "1 chr8  126778902 126779728 chr8_126778902_126779728 MYC   \n",
       "2 chr8  126782925 126783318 chr8_126782925_126783318 MYC   \n",
       "3 chr8  126804776 126805825 chr8_126804776_126805825 MYC   \n",
       "4 chr8  126817018 126817490 chr8_126817018_126817490 MYC   \n",
       "5 chr8  126820465 126821393 chr8_126820465_126821393 MYC   \n",
       "6 chr8  126824093 126824987 chr8_126824093_126824987 MYC   "
      ]
     },
     "metadata": {},
     "output_type": "display_data"
    }
   ],
   "source": [
    "lst = lapply(seq_along(REGIONS), function(idx){\n",
    "    REGION = REGIONS[idx]\n",
    "    x_chrom  = CHROMS[idx]\n",
    "    x_start  = STARTS[idx]\n",
    "    x_end    = ENDS[idx]\n",
    "    \n",
    "    dat = dat_peak_wgs\n",
    "    dat = dat %>% \n",
    "        dplyr::filter(Chrom == x_chrom, End >= x_start, Start <= x_end) %>%\n",
    "        dplyr::mutate(Region = REGION)\n",
    "    \n",
    "    return(dat)\n",
    "})\n",
    "\n",
    "dat = bind_rows(lst) %>% \n",
    "    mutate(Chrom = factor(Chrom, levels=CHROMS_WGS),\n",
    "           Start = as.integer(Start),\n",
    "           End   = as.integer(End)) %>%\n",
    "    arrange(Chrom, Start, End) %>%\n",
    "    distinct\n",
    "\n",
    "dat_peak = dat\n",
    "print(dim(dat))\n",
    "head(dat)"
   ]
  },
  {
   "cell_type": "code",
   "execution_count": 17,
   "id": "73f824c8",
   "metadata": {},
   "outputs": [
    {
     "data": {
      "text/html": [
       "<table class=\"dataframe\">\n",
       "<caption>A tibble: 6 × 5</caption>\n",
       "<thead>\n",
       "\t<tr><th scope=col>Chrom</th><th scope=col>Start</th><th scope=col>End</th><th scope=col>Peak</th><th scope=col>Region</th></tr>\n",
       "\t<tr><th scope=col>&lt;fct&gt;</th><th scope=col>&lt;int&gt;</th><th scope=col>&lt;int&gt;</th><th scope=col>&lt;chr&gt;</th><th scope=col>&lt;chr&gt;</th></tr>\n",
       "</thead>\n",
       "<tbody>\n",
       "\t<tr><td>chrX</td><td>49840468</td><td>49841285</td><td>chrX_49840468_49841285</td><td>GATA1</td></tr>\n",
       "\t<tr><td>chrX</td><td>49856806</td><td>49857279</td><td>chrX_49856806_49857279</td><td>GATA1</td></tr>\n",
       "\t<tr><td>chrX</td><td>49860981</td><td>49861475</td><td>chrX_49860981_49861475</td><td>GATA1</td></tr>\n",
       "\t<tr><td>chrX</td><td>49862119</td><td>49862823</td><td>chrX_49862119_49862823</td><td>GATA1</td></tr>\n",
       "\t<tr><td>chrX</td><td>49868244</td><td>49869175</td><td>chrX_49868244_49869175</td><td>GATA1</td></tr>\n",
       "\t<tr><td>chrX</td><td>49878402</td><td>49880117</td><td>chrX_49878402_49880117</td><td>GATA1</td></tr>\n",
       "</tbody>\n",
       "</table>\n"
      ],
      "text/latex": [
       "A tibble: 6 × 5\n",
       "\\begin{tabular}{lllll}\n",
       " Chrom & Start & End & Peak & Region\\\\\n",
       " <fct> & <int> & <int> & <chr> & <chr>\\\\\n",
       "\\hline\n",
       "\t chrX & 49840468 & 49841285 & chrX\\_49840468\\_49841285 & GATA1\\\\\n",
       "\t chrX & 49856806 & 49857279 & chrX\\_49856806\\_49857279 & GATA1\\\\\n",
       "\t chrX & 49860981 & 49861475 & chrX\\_49860981\\_49861475 & GATA1\\\\\n",
       "\t chrX & 49862119 & 49862823 & chrX\\_49862119\\_49862823 & GATA1\\\\\n",
       "\t chrX & 49868244 & 49869175 & chrX\\_49868244\\_49869175 & GATA1\\\\\n",
       "\t chrX & 49878402 & 49880117 & chrX\\_49878402\\_49880117 & GATA1\\\\\n",
       "\\end{tabular}\n"
      ],
      "text/markdown": [
       "\n",
       "A tibble: 6 × 5\n",
       "\n",
       "| Chrom &lt;fct&gt; | Start &lt;int&gt; | End &lt;int&gt; | Peak &lt;chr&gt; | Region &lt;chr&gt; |\n",
       "|---|---|---|---|---|\n",
       "| chrX | 49840468 | 49841285 | chrX_49840468_49841285 | GATA1 |\n",
       "| chrX | 49856806 | 49857279 | chrX_49856806_49857279 | GATA1 |\n",
       "| chrX | 49860981 | 49861475 | chrX_49860981_49861475 | GATA1 |\n",
       "| chrX | 49862119 | 49862823 | chrX_49862119_49862823 | GATA1 |\n",
       "| chrX | 49868244 | 49869175 | chrX_49868244_49869175 | GATA1 |\n",
       "| chrX | 49878402 | 49880117 | chrX_49878402_49880117 | GATA1 |\n",
       "\n"
      ],
      "text/plain": [
       "  Chrom Start    End      Peak                   Region\n",
       "1 chrX  49840468 49841285 chrX_49840468_49841285 GATA1 \n",
       "2 chrX  49856806 49857279 chrX_49856806_49857279 GATA1 \n",
       "3 chrX  49860981 49861475 chrX_49860981_49861475 GATA1 \n",
       "4 chrX  49862119 49862823 chrX_49862119_49862823 GATA1 \n",
       "5 chrX  49868244 49869175 chrX_49868244_49869175 GATA1 \n",
       "6 chrX  49878402 49880117 chrX_49878402_49880117 GATA1 "
      ]
     },
     "metadata": {},
     "output_type": "display_data"
    }
   ],
   "source": [
    "tail(dat)"
   ]
  },
  {
   "cell_type": "code",
   "execution_count": 18,
   "id": "ea01fdf8",
   "metadata": {},
   "outputs": [],
   "source": [
    "fdiry = file.path(FD_RES, \"region\", \"KS91_K562_ASTARRseq_peak_macs\")\n",
    "fname = \"KS91_K562_hg38_ASTARRseq_Input.peaks.MYC.FADS.GATA1.tsv\"\n",
    "fpath = file.path(fdiry, fname)\n",
    "\n",
    "write_tsv(dat_peak, fpath)"
   ]
  },
  {
   "cell_type": "code",
   "execution_count": 19,
   "id": "b3e6cc8b",
   "metadata": {},
   "outputs": [],
   "source": [
    "fdiry = file.path(FD_RES, \"region\", \"KS91_K562_ASTARRseq_peak_macs\")\n",
    "fname = \"KS91_K562_hg38_ASTARRseq_Input.peaks.MYC.FADS.GATA1.bed\"\n",
    "fpath = file.path(fdiry, fname)\n",
    "\n",
    "write_tsv(dat_peak, fpath, col_names = FALSE)"
   ]
  },
  {
   "cell_type": "code",
   "execution_count": null,
   "id": "8ee6c7d1",
   "metadata": {},
   "outputs": [],
   "source": []
  }
 ],
 "metadata": {
  "kernelspec": {
   "display_name": "R (alex_py3)",
   "language": "R",
   "name": "ir_alex_py3"
  },
  "language_info": {
   "codemirror_mode": "r",
   "file_extension": ".r",
   "mimetype": "text/x-r-source",
   "name": "R",
   "pygments_lexer": "r",
   "version": "3.6.2"
  }
 },
 "nbformat": 4,
 "nbformat_minor": 5
}
