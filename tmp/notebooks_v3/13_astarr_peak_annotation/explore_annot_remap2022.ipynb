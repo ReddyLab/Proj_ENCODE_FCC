{
 "cells": [
  {
   "cell_type": "code",
   "execution_count": 1,
   "id": "1d01d52c",
   "metadata": {},
   "outputs": [
    {
     "name": "stdout",
     "output_type": "stream",
     "text": [
      "You are in Singularity: singularity_proj_combeffect \n",
      "BASE DIRECTORY:     /data/reddylab/Kuei \n",
      "WORK DIRECTORY:     /data/reddylab/Kuei/out \n",
      "CODE DIRECTORY:     /data/reddylab/Kuei/code \n",
      "PATH OF SOURCE:     /data/reddylab/Kuei/source \n",
      "PATH OF EXECUTABLE: /data/reddylab/Kuei/bin \n",
      "PATH OF ANNOTATION: /data/reddylab/Kuei/annotation \n",
      "PATH OF PROJECT:    /data/reddylab/Kuei/code/Proj_CombEffect_ENCODE_FCC \n",
      "PATH OF RESULTS:    /data/reddylab/Kuei/out/proj_combeffect_encode_fcc \n"
     ]
    }
   ],
   "source": [
    "suppressMessages(suppressWarnings(source(\"../config/config_sing.R\")))\n",
    "show_env()"
   ]
  },
  {
   "cell_type": "code",
   "execution_count": 17,
   "id": "3e958082",
   "metadata": {},
   "outputs": [
    {
     "data": {
      "text/html": [
       "<style>\n",
       ".list-inline {list-style: none; margin:0; padding: 0}\n",
       ".list-inline>li {display: inline-block}\n",
       ".list-inline>li:not(:last-child)::after {content: \"\\00b7\"; padding: 0 .5ex}\n",
       "</style>\n",
       "<ol class=list-inline><li>'remap2022_K562_all_macs2_hg38_v1_0.bed.gz'</li><li>'remap2022_K562_crm_macs2_hg38_v1_0.bed.gz'</li><li>'remap2022_K562_nr_macs2_hg38_v1_0.bed.gz'</li><li>'remap2022_SP1_nr_macs2_hg38_v1_0.bed.gz'</li></ol>\n"
      ],
      "text/latex": [
       "\\begin{enumerate*}\n",
       "\\item 'remap2022\\_K562\\_all\\_macs2\\_hg38\\_v1\\_0.bed.gz'\n",
       "\\item 'remap2022\\_K562\\_crm\\_macs2\\_hg38\\_v1\\_0.bed.gz'\n",
       "\\item 'remap2022\\_K562\\_nr\\_macs2\\_hg38\\_v1\\_0.bed.gz'\n",
       "\\item 'remap2022\\_SP1\\_nr\\_macs2\\_hg38\\_v1\\_0.bed.gz'\n",
       "\\end{enumerate*}\n"
      ],
      "text/markdown": [
       "1. 'remap2022_K562_all_macs2_hg38_v1_0.bed.gz'\n",
       "2. 'remap2022_K562_crm_macs2_hg38_v1_0.bed.gz'\n",
       "3. 'remap2022_K562_nr_macs2_hg38_v1_0.bed.gz'\n",
       "4. 'remap2022_SP1_nr_macs2_hg38_v1_0.bed.gz'\n",
       "\n",
       "\n"
      ],
      "text/plain": [
       "[1] \"remap2022_K562_all_macs2_hg38_v1_0.bed.gz\"\n",
       "[2] \"remap2022_K562_crm_macs2_hg38_v1_0.bed.gz\"\n",
       "[3] \"remap2022_K562_nr_macs2_hg38_v1_0.bed.gz\" \n",
       "[4] \"remap2022_SP1_nr_macs2_hg38_v1_0.bed.gz\"  "
      ]
     },
     "metadata": {},
     "output_type": "display_data"
    }
   ],
   "source": [
    "fdiry = file.path(FD_RES, \"region\", \"annotation_remap2022\")\n",
    "dir(fdiry)"
   ]
  },
  {
   "cell_type": "code",
   "execution_count": 56,
   "id": "7646e661",
   "metadata": {},
   "outputs": [
    {
     "name": "stdout",
     "output_type": "stream",
     "text": [
      "[1] 9936638      10\n"
     ]
    },
    {
     "data": {
      "text/html": [
       "<table class=\"dataframe\">\n",
       "<caption>A tibble: 6 × 10</caption>\n",
       "<thead>\n",
       "\t<tr><th scope=col>Chrom</th><th scope=col>Start</th><th scope=col>End</th><th scope=col>TF</th><th scope=col>Biotype</th><th scope=col>Score</th><th scope=col>Strand</th><th scope=col>thickStart</th><th scope=col>thickEnd</th><th scope=col>reserved</th></tr>\n",
       "\t<tr><th scope=col>&lt;chr&gt;</th><th scope=col>&lt;dbl&gt;</th><th scope=col>&lt;dbl&gt;</th><th scope=col>&lt;chr&gt;</th><th scope=col>&lt;chr&gt;</th><th scope=col>&lt;dbl&gt;</th><th scope=col>&lt;chr&gt;</th><th scope=col>&lt;dbl&gt;</th><th scope=col>&lt;dbl&gt;</th><th scope=col>&lt;dbl&gt;</th></tr>\n",
       "</thead>\n",
       "<tbody>\n",
       "\t<tr><td>chr1</td><td>9899</td><td>10349</td><td>EP400 </td><td>K-562                     </td><td>1</td><td>.</td><td>10089</td><td>10090</td><td>102132184</td></tr>\n",
       "\t<tr><td>chr1</td><td>9901</td><td>10232</td><td>NCOA1 </td><td>K-562                     </td><td>1</td><td>.</td><td>10078</td><td>10079</td><td> 56224224</td></tr>\n",
       "\t<tr><td>chr1</td><td>9902</td><td>10328</td><td>ZBTB40</td><td>MCF-7,Hep-G2,K-562,GM12878</td><td>4</td><td>.</td><td>10093</td><td>10094</td><td>  7314946</td></tr>\n",
       "\t<tr><td>chr1</td><td>9905</td><td>10132</td><td>AFF1  </td><td>K-562                     </td><td>1</td><td>.</td><td>10088</td><td>10089</td><td>   113477</td></tr>\n",
       "\t<tr><td>chr1</td><td>9905</td><td>10288</td><td>ZNF184</td><td>K-562                     </td><td>1</td><td>.</td><td>10104</td><td>10105</td><td>157198124</td></tr>\n",
       "\t<tr><td>chr1</td><td>9907</td><td>10242</td><td>E2F8  </td><td>K-562                     </td><td>1</td><td>.</td><td>10090</td><td>10091</td><td>124224254</td></tr>\n",
       "</tbody>\n",
       "</table>\n"
      ],
      "text/latex": [
       "A tibble: 6 × 10\n",
       "\\begin{tabular}{llllllllll}\n",
       " Chrom & Start & End & TF & Biotype & Score & Strand & thickStart & thickEnd & reserved\\\\\n",
       " <chr> & <dbl> & <dbl> & <chr> & <chr> & <dbl> & <chr> & <dbl> & <dbl> & <dbl>\\\\\n",
       "\\hline\n",
       "\t chr1 & 9899 & 10349 & EP400  & K-562                      & 1 & . & 10089 & 10090 & 102132184\\\\\n",
       "\t chr1 & 9901 & 10232 & NCOA1  & K-562                      & 1 & . & 10078 & 10079 &  56224224\\\\\n",
       "\t chr1 & 9902 & 10328 & ZBTB40 & MCF-7,Hep-G2,K-562,GM12878 & 4 & . & 10093 & 10094 &   7314946\\\\\n",
       "\t chr1 & 9905 & 10132 & AFF1   & K-562                      & 1 & . & 10088 & 10089 &    113477\\\\\n",
       "\t chr1 & 9905 & 10288 & ZNF184 & K-562                      & 1 & . & 10104 & 10105 & 157198124\\\\\n",
       "\t chr1 & 9907 & 10242 & E2F8   & K-562                      & 1 & . & 10090 & 10091 & 124224254\\\\\n",
       "\\end{tabular}\n"
      ],
      "text/markdown": [
       "\n",
       "A tibble: 6 × 10\n",
       "\n",
       "| Chrom &lt;chr&gt; | Start &lt;dbl&gt; | End &lt;dbl&gt; | TF &lt;chr&gt; | Biotype &lt;chr&gt; | Score &lt;dbl&gt; | Strand &lt;chr&gt; | thickStart &lt;dbl&gt; | thickEnd &lt;dbl&gt; | reserved &lt;dbl&gt; |\n",
       "|---|---|---|---|---|---|---|---|---|---|\n",
       "| chr1 | 9899 | 10349 | EP400  | K-562                      | 1 | . | 10089 | 10090 | 102132184 |\n",
       "| chr1 | 9901 | 10232 | NCOA1  | K-562                      | 1 | . | 10078 | 10079 |  56224224 |\n",
       "| chr1 | 9902 | 10328 | ZBTB40 | MCF-7,Hep-G2,K-562,GM12878 | 4 | . | 10093 | 10094 |   7314946 |\n",
       "| chr1 | 9905 | 10132 | AFF1   | K-562                      | 1 | . | 10088 | 10089 |    113477 |\n",
       "| chr1 | 9905 | 10288 | ZNF184 | K-562                      | 1 | . | 10104 | 10105 | 157198124 |\n",
       "| chr1 | 9907 | 10242 | E2F8   | K-562                      | 1 | . | 10090 | 10091 | 124224254 |\n",
       "\n"
      ],
      "text/plain": [
       "  Chrom Start End   TF     Biotype                    Score Strand thickStart\n",
       "1 chr1  9899  10349 EP400  K-562                      1     .      10089     \n",
       "2 chr1  9901  10232 NCOA1  K-562                      1     .      10078     \n",
       "3 chr1  9902  10328 ZBTB40 MCF-7,Hep-G2,K-562,GM12878 4     .      10093     \n",
       "4 chr1  9905  10132 AFF1   K-562                      1     .      10088     \n",
       "5 chr1  9905  10288 ZNF184 K-562                      1     .      10104     \n",
       "6 chr1  9907  10242 E2F8   K-562                      1     .      10090     \n",
       "  thickEnd reserved \n",
       "1 10090    102132184\n",
       "2 10079     56224224\n",
       "3 10094      7314946\n",
       "4 10089       113477\n",
       "5 10105    157198124\n",
       "6 10091    124224254"
      ]
     },
     "metadata": {},
     "output_type": "display_data"
    }
   ],
   "source": [
    "### set file path\n",
    "fdiry = file.path(FD_RES, \"region\", \"annotation_remap2022\")\n",
    "fname = \"remap2022_K562_nr_macs2_hg38_v1_0.bed.gz\"\n",
    "fpath = file.path(fdiry, fname)\n",
    "\n",
    "cnames = c(\"Chrom\", \"Start\", \"End\", \"Name\", \"Score\", \"Strand\", \n",
    "           \"thickStart\", \"thickEnd\", \"reserved\")\n",
    "dat = read_tsv(fpath, col_names = cnames, show_col_types = FALSE)\n",
    "dat = dat %>% separate(col = Name, into = c(\"TF\", \"Biotype\"), sep=\":\")\n",
    "\n",
    "### assign\n",
    "dat_remap = dat\n",
    "print(dim(dat))\n",
    "head(dat)"
   ]
  },
  {
   "cell_type": "code",
   "execution_count": 54,
   "id": "a0377581",
   "metadata": {},
   "outputs": [
    {
     "name": "stdout",
     "output_type": "stream",
     "text": [
      "[1] 178311      9\n"
     ]
    },
    {
     "data": {
      "text/html": [
       "<table class=\"dataframe\">\n",
       "<caption>A tibble: 6 × 9</caption>\n",
       "<thead>\n",
       "\t<tr><th scope=col>Chrom</th><th scope=col>Start</th><th scope=col>End</th><th scope=col>Name</th><th scope=col>Score</th><th scope=col>Strand</th><th scope=col>Value1</th><th scope=col>Value2</th><th scope=col>Value3</th></tr>\n",
       "\t<tr><th scope=col>&lt;chr&gt;</th><th scope=col>&lt;int&gt;</th><th scope=col>&lt;int&gt;</th><th scope=col>&lt;chr&gt;</th><th scope=col>&lt;int&gt;</th><th scope=col>&lt;chr&gt;</th><th scope=col>&lt;int&gt;</th><th scope=col>&lt;int&gt;</th><th scope=col>&lt;chr&gt;</th></tr>\n",
       "</thead>\n",
       "<tbody>\n",
       "\t<tr><td>chr1</td><td>778591</td><td>778809</td><td>SP1:GM12878,A-549,K-562,WA01,HCT-116,Hep-G2,A-375</td><td>9</td><td>.</td><td>778712</td><td>778713</td><td>28,196,84</td></tr>\n",
       "\t<tr><td>chr1</td><td>827444</td><td>827590</td><td>SP1:GM12878,A-375                                </td><td>2</td><td>.</td><td>827488</td><td>827489</td><td>28,196,84</td></tr>\n",
       "\t<tr><td>chr1</td><td>904629</td><td>904871</td><td>SP1:GM12878,HEK293T,HEK293,A-549,Hep-G2,A-375    </td><td>6</td><td>.</td><td>904742</td><td>904743</td><td>28,196,84</td></tr>\n",
       "\t<tr><td>chr1</td><td>906826</td><td>907030</td><td>SP1:A-549                                        </td><td>1</td><td>.</td><td>906949</td><td>906950</td><td>28,196,84</td></tr>\n",
       "\t<tr><td>chr1</td><td>907110</td><td>907208</td><td>SP1:Hep-G2                                       </td><td>1</td><td>.</td><td>907152</td><td>907153</td><td>28,196,84</td></tr>\n",
       "\t<tr><td>chr1</td><td>910550</td><td>910758</td><td>SP1:HEK293                                       </td><td>1</td><td>.</td><td>910665</td><td>910666</td><td>28,196,84</td></tr>\n",
       "</tbody>\n",
       "</table>\n"
      ],
      "text/latex": [
       "A tibble: 6 × 9\n",
       "\\begin{tabular}{lllllllll}\n",
       " Chrom & Start & End & Name & Score & Strand & Value1 & Value2 & Value3\\\\\n",
       " <chr> & <int> & <int> & <chr> & <int> & <chr> & <int> & <int> & <chr>\\\\\n",
       "\\hline\n",
       "\t chr1 & 778591 & 778809 & SP1:GM12878,A-549,K-562,WA01,HCT-116,Hep-G2,A-375 & 9 & . & 778712 & 778713 & 28,196,84\\\\\n",
       "\t chr1 & 827444 & 827590 & SP1:GM12878,A-375                                 & 2 & . & 827488 & 827489 & 28,196,84\\\\\n",
       "\t chr1 & 904629 & 904871 & SP1:GM12878,HEK293T,HEK293,A-549,Hep-G2,A-375     & 6 & . & 904742 & 904743 & 28,196,84\\\\\n",
       "\t chr1 & 906826 & 907030 & SP1:A-549                                         & 1 & . & 906949 & 906950 & 28,196,84\\\\\n",
       "\t chr1 & 907110 & 907208 & SP1:Hep-G2                                        & 1 & . & 907152 & 907153 & 28,196,84\\\\\n",
       "\t chr1 & 910550 & 910758 & SP1:HEK293                                        & 1 & . & 910665 & 910666 & 28,196,84\\\\\n",
       "\\end{tabular}\n"
      ],
      "text/markdown": [
       "\n",
       "A tibble: 6 × 9\n",
       "\n",
       "| Chrom &lt;chr&gt; | Start &lt;int&gt; | End &lt;int&gt; | Name &lt;chr&gt; | Score &lt;int&gt; | Strand &lt;chr&gt; | Value1 &lt;int&gt; | Value2 &lt;int&gt; | Value3 &lt;chr&gt; |\n",
       "|---|---|---|---|---|---|---|---|---|\n",
       "| chr1 | 778591 | 778809 | SP1:GM12878,A-549,K-562,WA01,HCT-116,Hep-G2,A-375 | 9 | . | 778712 | 778713 | 28,196,84 |\n",
       "| chr1 | 827444 | 827590 | SP1:GM12878,A-375                                 | 2 | . | 827488 | 827489 | 28,196,84 |\n",
       "| chr1 | 904629 | 904871 | SP1:GM12878,HEK293T,HEK293,A-549,Hep-G2,A-375     | 6 | . | 904742 | 904743 | 28,196,84 |\n",
       "| chr1 | 906826 | 907030 | SP1:A-549                                         | 1 | . | 906949 | 906950 | 28,196,84 |\n",
       "| chr1 | 907110 | 907208 | SP1:Hep-G2                                        | 1 | . | 907152 | 907153 | 28,196,84 |\n",
       "| chr1 | 910550 | 910758 | SP1:HEK293                                        | 1 | . | 910665 | 910666 | 28,196,84 |\n",
       "\n"
      ],
      "text/plain": [
       "  Chrom Start  End    Name                                              Score\n",
       "1 chr1  778591 778809 SP1:GM12878,A-549,K-562,WA01,HCT-116,Hep-G2,A-375 9    \n",
       "2 chr1  827444 827590 SP1:GM12878,A-375                                 2    \n",
       "3 chr1  904629 904871 SP1:GM12878,HEK293T,HEK293,A-549,Hep-G2,A-375     6    \n",
       "4 chr1  906826 907030 SP1:A-549                                         1    \n",
       "5 chr1  907110 907208 SP1:Hep-G2                                        1    \n",
       "6 chr1  910550 910758 SP1:HEK293                                        1    \n",
       "  Strand Value1 Value2 Value3   \n",
       "1 .      778712 778713 28,196,84\n",
       "2 .      827488 827489 28,196,84\n",
       "3 .      904742 904743 28,196,84\n",
       "4 .      906949 906950 28,196,84\n",
       "5 .      907152 907153 28,196,84\n",
       "6 .      910665 910666 28,196,84"
      ]
     },
     "metadata": {},
     "output_type": "display_data"
    }
   ],
   "source": [
    "### set file path\n",
    "fdiry = file.path(FD_RES, \"region\", \"annotation_remap2022\")\n",
    "fname = \"remap2022_SP1_nr_macs2_hg38_v1_0.bed.gz\"\n",
    "fpath = file.path(fdiry, fname)\n",
    "\n",
    "cnames = c(\"Chrom\", \"Start\", \"End\", \"Name\", \"Score\", \"Strand\", \n",
    "           \"Value1\", \"Value2\", \"Value3\")\n",
    "dat = read_tsv(fpath, col_names = cnames, col_types=\"ciiciciic\", show_col_types = FALSE)\n",
    "\n",
    "### assign\n",
    "dat_remap_sp1 = dat\n",
    "print(dim(dat))\n",
    "head(dat)"
   ]
  },
  {
   "cell_type": "code",
   "execution_count": 57,
   "id": "2ee09065",
   "metadata": {},
   "outputs": [
    {
     "data": {
      "text/html": [
       "413"
      ],
      "text/latex": [
       "413"
      ],
      "text/markdown": [
       "413"
      ],
      "text/plain": [
       "[1] 413"
      ]
     },
     "metadata": {},
     "output_type": "display_data"
    }
   ],
   "source": [
    "length(unique(dat_remap$TF))"
   ]
  },
  {
   "cell_type": "code",
   "execution_count": 58,
   "id": "ab0db093",
   "metadata": {},
   "outputs": [
    {
     "data": {
      "text/html": [
       "<table class=\"dataframe\">\n",
       "<caption>A tibble: 6 × 10</caption>\n",
       "<thead>\n",
       "\t<tr><th scope=col>Chrom</th><th scope=col>Start</th><th scope=col>End</th><th scope=col>TF</th><th scope=col>Biotype</th><th scope=col>Score</th><th scope=col>Strand</th><th scope=col>thickStart</th><th scope=col>thickEnd</th><th scope=col>reserved</th></tr>\n",
       "\t<tr><th scope=col>&lt;chr&gt;</th><th scope=col>&lt;dbl&gt;</th><th scope=col>&lt;dbl&gt;</th><th scope=col>&lt;chr&gt;</th><th scope=col>&lt;chr&gt;</th><th scope=col>&lt;dbl&gt;</th><th scope=col>&lt;chr&gt;</th><th scope=col>&lt;dbl&gt;</th><th scope=col>&lt;dbl&gt;</th><th scope=col>&lt;dbl&gt;</th></tr>\n",
       "</thead>\n",
       "<tbody>\n",
       "\t<tr><td>chr1</td><td>9899</td><td>10349</td><td>EP400 </td><td>K-562                     </td><td>1</td><td>.</td><td>10089</td><td>10090</td><td>102132184</td></tr>\n",
       "\t<tr><td>chr1</td><td>9901</td><td>10232</td><td>NCOA1 </td><td>K-562                     </td><td>1</td><td>.</td><td>10078</td><td>10079</td><td> 56224224</td></tr>\n",
       "\t<tr><td>chr1</td><td>9902</td><td>10328</td><td>ZBTB40</td><td>MCF-7,Hep-G2,K-562,GM12878</td><td>4</td><td>.</td><td>10093</td><td>10094</td><td>  7314946</td></tr>\n",
       "\t<tr><td>chr1</td><td>9905</td><td>10132</td><td>AFF1  </td><td>K-562                     </td><td>1</td><td>.</td><td>10088</td><td>10089</td><td>   113477</td></tr>\n",
       "\t<tr><td>chr1</td><td>9905</td><td>10288</td><td>ZNF184</td><td>K-562                     </td><td>1</td><td>.</td><td>10104</td><td>10105</td><td>157198124</td></tr>\n",
       "\t<tr><td>chr1</td><td>9907</td><td>10242</td><td>E2F8  </td><td>K-562                     </td><td>1</td><td>.</td><td>10090</td><td>10091</td><td>124224254</td></tr>\n",
       "</tbody>\n",
       "</table>\n"
      ],
      "text/latex": [
       "A tibble: 6 × 10\n",
       "\\begin{tabular}{llllllllll}\n",
       " Chrom & Start & End & TF & Biotype & Score & Strand & thickStart & thickEnd & reserved\\\\\n",
       " <chr> & <dbl> & <dbl> & <chr> & <chr> & <dbl> & <chr> & <dbl> & <dbl> & <dbl>\\\\\n",
       "\\hline\n",
       "\t chr1 & 9899 & 10349 & EP400  & K-562                      & 1 & . & 10089 & 10090 & 102132184\\\\\n",
       "\t chr1 & 9901 & 10232 & NCOA1  & K-562                      & 1 & . & 10078 & 10079 &  56224224\\\\\n",
       "\t chr1 & 9902 & 10328 & ZBTB40 & MCF-7,Hep-G2,K-562,GM12878 & 4 & . & 10093 & 10094 &   7314946\\\\\n",
       "\t chr1 & 9905 & 10132 & AFF1   & K-562                      & 1 & . & 10088 & 10089 &    113477\\\\\n",
       "\t chr1 & 9905 & 10288 & ZNF184 & K-562                      & 1 & . & 10104 & 10105 & 157198124\\\\\n",
       "\t chr1 & 9907 & 10242 & E2F8   & K-562                      & 1 & . & 10090 & 10091 & 124224254\\\\\n",
       "\\end{tabular}\n"
      ],
      "text/markdown": [
       "\n",
       "A tibble: 6 × 10\n",
       "\n",
       "| Chrom &lt;chr&gt; | Start &lt;dbl&gt; | End &lt;dbl&gt; | TF &lt;chr&gt; | Biotype &lt;chr&gt; | Score &lt;dbl&gt; | Strand &lt;chr&gt; | thickStart &lt;dbl&gt; | thickEnd &lt;dbl&gt; | reserved &lt;dbl&gt; |\n",
       "|---|---|---|---|---|---|---|---|---|---|\n",
       "| chr1 | 9899 | 10349 | EP400  | K-562                      | 1 | . | 10089 | 10090 | 102132184 |\n",
       "| chr1 | 9901 | 10232 | NCOA1  | K-562                      | 1 | . | 10078 | 10079 |  56224224 |\n",
       "| chr1 | 9902 | 10328 | ZBTB40 | MCF-7,Hep-G2,K-562,GM12878 | 4 | . | 10093 | 10094 |   7314946 |\n",
       "| chr1 | 9905 | 10132 | AFF1   | K-562                      | 1 | . | 10088 | 10089 |    113477 |\n",
       "| chr1 | 9905 | 10288 | ZNF184 | K-562                      | 1 | . | 10104 | 10105 | 157198124 |\n",
       "| chr1 | 9907 | 10242 | E2F8   | K-562                      | 1 | . | 10090 | 10091 | 124224254 |\n",
       "\n"
      ],
      "text/plain": [
       "  Chrom Start End   TF     Biotype                    Score Strand thickStart\n",
       "1 chr1  9899  10349 EP400  K-562                      1     .      10089     \n",
       "2 chr1  9901  10232 NCOA1  K-562                      1     .      10078     \n",
       "3 chr1  9902  10328 ZBTB40 MCF-7,Hep-G2,K-562,GM12878 4     .      10093     \n",
       "4 chr1  9905  10132 AFF1   K-562                      1     .      10088     \n",
       "5 chr1  9905  10288 ZNF184 K-562                      1     .      10104     \n",
       "6 chr1  9907  10242 E2F8   K-562                      1     .      10090     \n",
       "  thickEnd reserved \n",
       "1 10090    102132184\n",
       "2 10079     56224224\n",
       "3 10094      7314946\n",
       "4 10089       113477\n",
       "5 10105    157198124\n",
       "6 10091    124224254"
      ]
     },
     "metadata": {},
     "output_type": "display_data"
    }
   ],
   "source": [
    "head(dat_remap)"
   ]
  },
  {
   "cell_type": "code",
   "execution_count": 60,
   "id": "0b07da77",
   "metadata": {},
   "outputs": [
    {
     "name": "stderr",
     "output_type": "stream",
     "text": [
      "Warning message in stri_detect_regex(string, pattern, negate = negate, opts_regex = opts(pattern)):\n",
      "“longer object length is not a multiple of shorter object length”\n"
     ]
    },
    {
     "data": {
      "text/html": [
       "<table class=\"dataframe\">\n",
       "<caption>A tibble: 6 × 10</caption>\n",
       "<thead>\n",
       "\t<tr><th scope=col>Chrom</th><th scope=col>Start</th><th scope=col>End</th><th scope=col>TF</th><th scope=col>Biotype</th><th scope=col>Score</th><th scope=col>Strand</th><th scope=col>thickStart</th><th scope=col>thickEnd</th><th scope=col>reserved</th></tr>\n",
       "\t<tr><th scope=col>&lt;chr&gt;</th><th scope=col>&lt;dbl&gt;</th><th scope=col>&lt;dbl&gt;</th><th scope=col>&lt;chr&gt;</th><th scope=col>&lt;chr&gt;</th><th scope=col>&lt;dbl&gt;</th><th scope=col>&lt;chr&gt;</th><th scope=col>&lt;dbl&gt;</th><th scope=col>&lt;dbl&gt;</th><th scope=col>&lt;dbl&gt;</th></tr>\n",
       "</thead>\n",
       "<tbody>\n",
       "\t<tr><td>chr1</td><td>136554</td><td>136963</td><td>ATF3</td><td>K-562                                          </td><td> 1</td><td>.</td><td>136749</td><td>136750</td><td> 56224168</td></tr>\n",
       "\t<tr><td>chr1</td><td>778552</td><td>778809</td><td>FOS </td><td>K-562,HCT-116,IMR-90,Hep-G2                    </td><td> 4</td><td>.</td><td>778679</td><td>778680</td><td>112140140</td></tr>\n",
       "\t<tr><td>chr1</td><td>778591</td><td>778809</td><td>SP1 </td><td>GM12878,A-549,K-562,WA01,HCT-116,Hep-G2,A-375  </td><td> 9</td><td>.</td><td>778712</td><td>778713</td><td>  2819684</td></tr>\n",
       "\t<tr><td>chr1</td><td>778619</td><td>778840</td><td>NRF1</td><td>K-562,Hep-G2,Namalwa,HMEC-1,T-47D,MCF-7,HCC1954</td><td>11</td><td>.</td><td>778722</td><td>778723</td><td>140252252</td></tr>\n",
       "\t<tr><td>chr1</td><td>817239</td><td>817484</td><td>ATF2</td><td>K-562                                          </td><td> 1</td><td>.</td><td>817337</td><td>817338</td><td>196140224</td></tr>\n",
       "\t<tr><td>chr1</td><td>912972</td><td>913110</td><td>NRF1</td><td>K-562,Hep-G2                                   </td><td> 2</td><td>.</td><td>913041</td><td>913042</td><td>140252252</td></tr>\n",
       "</tbody>\n",
       "</table>\n"
      ],
      "text/latex": [
       "A tibble: 6 × 10\n",
       "\\begin{tabular}{llllllllll}\n",
       " Chrom & Start & End & TF & Biotype & Score & Strand & thickStart & thickEnd & reserved\\\\\n",
       " <chr> & <dbl> & <dbl> & <chr> & <chr> & <dbl> & <chr> & <dbl> & <dbl> & <dbl>\\\\\n",
       "\\hline\n",
       "\t chr1 & 136554 & 136963 & ATF3 & K-562                                           &  1 & . & 136749 & 136750 &  56224168\\\\\n",
       "\t chr1 & 778552 & 778809 & FOS  & K-562,HCT-116,IMR-90,Hep-G2                     &  4 & . & 778679 & 778680 & 112140140\\\\\n",
       "\t chr1 & 778591 & 778809 & SP1  & GM12878,A-549,K-562,WA01,HCT-116,Hep-G2,A-375   &  9 & . & 778712 & 778713 &   2819684\\\\\n",
       "\t chr1 & 778619 & 778840 & NRF1 & K-562,Hep-G2,Namalwa,HMEC-1,T-47D,MCF-7,HCC1954 & 11 & . & 778722 & 778723 & 140252252\\\\\n",
       "\t chr1 & 817239 & 817484 & ATF2 & K-562                                           &  1 & . & 817337 & 817338 & 196140224\\\\\n",
       "\t chr1 & 912972 & 913110 & NRF1 & K-562,Hep-G2                                    &  2 & . & 913041 & 913042 & 140252252\\\\\n",
       "\\end{tabular}\n"
      ],
      "text/markdown": [
       "\n",
       "A tibble: 6 × 10\n",
       "\n",
       "| Chrom &lt;chr&gt; | Start &lt;dbl&gt; | End &lt;dbl&gt; | TF &lt;chr&gt; | Biotype &lt;chr&gt; | Score &lt;dbl&gt; | Strand &lt;chr&gt; | thickStart &lt;dbl&gt; | thickEnd &lt;dbl&gt; | reserved &lt;dbl&gt; |\n",
       "|---|---|---|---|---|---|---|---|---|---|\n",
       "| chr1 | 136554 | 136963 | ATF3 | K-562                                           |  1 | . | 136749 | 136750 |  56224168 |\n",
       "| chr1 | 778552 | 778809 | FOS  | K-562,HCT-116,IMR-90,Hep-G2                     |  4 | . | 778679 | 778680 | 112140140 |\n",
       "| chr1 | 778591 | 778809 | SP1  | GM12878,A-549,K-562,WA01,HCT-116,Hep-G2,A-375   |  9 | . | 778712 | 778713 |   2819684 |\n",
       "| chr1 | 778619 | 778840 | NRF1 | K-562,Hep-G2,Namalwa,HMEC-1,T-47D,MCF-7,HCC1954 | 11 | . | 778722 | 778723 | 140252252 |\n",
       "| chr1 | 817239 | 817484 | ATF2 | K-562                                           |  1 | . | 817337 | 817338 | 196140224 |\n",
       "| chr1 | 912972 | 913110 | NRF1 | K-562,Hep-G2                                    |  2 | . | 913041 | 913042 | 140252252 |\n",
       "\n"
      ],
      "text/plain": [
       "  Chrom Start  End    TF   Biotype                                        \n",
       "1 chr1  136554 136963 ATF3 K-562                                          \n",
       "2 chr1  778552 778809 FOS  K-562,HCT-116,IMR-90,Hep-G2                    \n",
       "3 chr1  778591 778809 SP1  GM12878,A-549,K-562,WA01,HCT-116,Hep-G2,A-375  \n",
       "4 chr1  778619 778840 NRF1 K-562,Hep-G2,Namalwa,HMEC-1,T-47D,MCF-7,HCC1954\n",
       "5 chr1  817239 817484 ATF2 K-562                                          \n",
       "6 chr1  912972 913110 NRF1 K-562,Hep-G2                                   \n",
       "  Score Strand thickStart thickEnd reserved \n",
       "1  1    .      136749     136750    56224168\n",
       "2  4    .      778679     778680   112140140\n",
       "3  9    .      778712     778713     2819684\n",
       "4 11    .      778722     778723   140252252\n",
       "5  1    .      817337     817338   196140224\n",
       "6  2    .      913041     913042   140252252"
      ]
     },
     "metadata": {},
     "output_type": "display_data"
    }
   ],
   "source": [
    "TFs = c(\"SP1\", \"ELK1\", \"NRF1\", \"NFY\", \"GATA1\", \"NFE2\", \"FOS\", \"JUN\", \"YY1\", \"ATF\")\n",
    "dat_remap_sub = dat_remap %>% dplyr::filter(str_detect(TF, TFs))\n",
    "head(dat_remap_sub)"
   ]
  },
  {
   "cell_type": "code",
   "execution_count": 61,
   "id": "9de6bcde",
   "metadata": {},
   "outputs": [
    {
     "data": {
      "text/plain": [
       "\n",
       "  ATF1   ATF2   ATF3   ATF4   ATF7   ELK1    FOS  FOSL1  GATA1    JUN   JUNB \n",
       "  4366   5070   8838   5488   4785    753   2737   4987  10307   5138   4167 \n",
       "  JUND   NFE2 NFE2L1 NFE2L2   NFYA   NFYB   NRF1    SP1    YY1 \n",
       "  7765   5654    412   5736   2652   2029   3103    984   8155 "
      ]
     },
     "metadata": {},
     "output_type": "display_data"
    }
   ],
   "source": [
    "dat = dat_remap_sub\n",
    "table(dat$TF)"
   ]
  },
  {
   "cell_type": "code",
   "execution_count": 21,
   "id": "e3b24367",
   "metadata": {},
   "outputs": [
    {
     "data": {
      "text/html": [
       "<style>\n",
       ".list-inline {list-style: none; margin:0; padding: 0}\n",
       ".list-inline>li {display: inline-block}\n",
       ".list-inline>li:not(:last-child)::after {content: \"\\00b7\"; padding: 0 .5ex}\n",
       "</style>\n",
       "<ol class=list-inline><li>'EP400:K-562'</li><li>'NCOA1:K-562'</li><li>'ZBTB40:MCF-7,Hep-G2,K-562,GM12878'</li><li>'AFF1:K-562'</li><li>'ZNF184:K-562'</li><li>'E2F8:K-562'</li></ol>\n"
      ],
      "text/latex": [
       "\\begin{enumerate*}\n",
       "\\item 'EP400:K-562'\n",
       "\\item 'NCOA1:K-562'\n",
       "\\item 'ZBTB40:MCF-7,Hep-G2,K-562,GM12878'\n",
       "\\item 'AFF1:K-562'\n",
       "\\item 'ZNF184:K-562'\n",
       "\\item 'E2F8:K-562'\n",
       "\\end{enumerate*}\n"
      ],
      "text/markdown": [
       "1. 'EP400:K-562'\n",
       "2. 'NCOA1:K-562'\n",
       "3. 'ZBTB40:MCF-7,Hep-G2,K-562,GM12878'\n",
       "4. 'AFF1:K-562'\n",
       "5. 'ZNF184:K-562'\n",
       "6. 'E2F8:K-562'\n",
       "\n",
       "\n"
      ],
      "text/plain": [
       "[1] \"EP400:K-562\"                       \"NCOA1:K-562\"                      \n",
       "[3] \"ZBTB40:MCF-7,Hep-G2,K-562,GM12878\" \"AFF1:K-562\"                       \n",
       "[5] \"ZNF184:K-562\"                      \"E2F8:K-562\"                       "
      ]
     },
     "metadata": {},
     "output_type": "display_data"
    }
   ],
   "source": [
    "bindings = unique(dat_remap$Name)\n",
    "head(bindings)"
   ]
  },
  {
   "cell_type": "code",
   "execution_count": null,
   "id": "41e23166",
   "metadata": {},
   "outputs": [],
   "source": [
    "TFs = c(\"SP1\", \"GABP1\", \"ETS\", \"ELK1\", \"NRF1\", \"NFY\", \"GATA1\", \"NFE2\", \"KLF\", \"AP1\", \"FOS\", \"JUN\", \"YY1\", \"ATF\")"
   ]
  },
  {
   "cell_type": "code",
   "execution_count": 22,
   "id": "b2cf8cd0",
   "metadata": {},
   "outputs": [
    {
     "name": "stdout",
     "output_type": "stream",
     "text": [
      "[1] 401\n",
      "[1] \"SP1:GM12878,A-549,K-562,WA01,HCT-116,Hep-G2,A-375\"        \n",
      "[2] \"SP1:GM12878,HEK293,A-549,K-562,WA01,HCT-116,Hep-G2\"       \n",
      "[3] \"SP1:HEK293T,HEK293,A-549,K-562,Hep-G2\"                    \n",
      "[4] \"SP1:GM12878,HEK293T,A-549,K-562,WA01,HCT-116,Hep-G2,A-375\"\n",
      "[5] \"SP1:GM12878,A-549,K-562,HCT-116,Hep-G2,A-375\"             \n",
      "[6] \"SP1:GM12878,HEK293T,HEK293,A-549,K-562,Hep-G2,A-375\"      \n"
     ]
    }
   ],
   "source": [
    "idx = str_detect(bindings, \"SP1\")\n",
    "print(sum(idx))\n",
    "print(head(bindings[idx]))"
   ]
  },
  {
   "cell_type": "code",
   "execution_count": 59,
   "id": "19ed0c92",
   "metadata": {},
   "outputs": [
    {
     "name": "stdout",
     "output_type": "stream",
     "text": [
      "[1] 34\n",
      "[1] \"KLF16:K-562\"                  \"KLF13:K-562\"                 \n",
      "[3] \"KLF16:K-562,HEK293\"           \"KLF16:HEK293,K-562\"          \n",
      "[5] \"KLF13:K-562,HEK293\"           \"KLF1:HUDEP-2,K-562,erythroid\"\n"
     ]
    }
   ],
   "source": [
    "idx = str_detect(bindings, \"^KLF\")\n",
    "print(sum(idx))\n",
    "print(head(bindings[idx]))"
   ]
  },
  {
   "cell_type": "code",
   "execution_count": 31,
   "id": "05b099e9",
   "metadata": {},
   "outputs": [
    {
     "name": "stdout",
     "output_type": "stream",
     "text": [
      "[1] 0\n",
      "character(0)\n"
     ]
    }
   ],
   "source": [
    "idx = str_detect(bindings, \"^AP1\")\n",
    "print(sum(idx))\n",
    "print(head(bindings[idx]))"
   ]
  },
  {
   "cell_type": "code",
   "execution_count": 32,
   "id": "ed7dfcbc",
   "metadata": {},
   "outputs": [
    {
     "name": "stdout",
     "output_type": "stream",
     "text": [
      "[1] 19785\n",
      "[1] \"JUNB:K-562\"                                          \n",
      "[2] \"JUN:HAEC,MDA-MB-231,Hep-G2,K-562,HUES-8,MDA-BoM-1833\"\n",
      "[3] \"JUND:liver,WA01,GP5D,K-562,HeLa-S3\"                  \n",
      "[4] \"JUN:MDA-MB-231,Karpas-299,K-562\"                     \n",
      "[5] \"JUN:K-562\"                                           \n",
      "[6] \"JUND:K-562\"                                          \n"
     ]
    }
   ],
   "source": [
    "idx = str_detect(bindings, \"^JUN\")\n",
    "print(sum(idx))\n",
    "print(head(bindings[idx]))"
   ]
  },
  {
   "cell_type": "code",
   "execution_count": 33,
   "id": "ac5970c5",
   "metadata": {},
   "outputs": [
    {
     "name": "stdout",
     "output_type": "stream",
     "text": [
      "[1] 4409\n",
      "[1] \"FOS:K-562,HCT-116,IMR-90,Hep-G2\"                   \n",
      "[2] \"FOSL1:MDA-MB-231,K-562,BT-549,WA01\"                \n",
      "[3] \"FOSL1:K-562\"                                       \n",
      "[4] \"FOSL1:K-562,BT-549\"                                \n",
      "[5] \"FOSL1:K-562,143B\"                                  \n",
      "[6] \"FOS:CFPAC-1,MCF-10A,endothelial,K-562,MCF-7,IMR-90\"\n"
     ]
    }
   ],
   "source": [
    "idx = str_detect(bindings, \"^FOS\")\n",
    "print(sum(idx))\n",
    "print(head(bindings[idx]))"
   ]
  },
  {
   "cell_type": "code",
   "execution_count": 34,
   "id": "bd6b1010",
   "metadata": {},
   "outputs": [],
   "source": [
    "lst = lapply(TFs, function(query){\n",
    "    query = paste0(\"^\", query)\n",
    "    idx = str_detect(bindings, query)\n",
    "    res = bindings[idx]\n",
    "    return(res)\n",
    "})"
   ]
  },
  {
   "cell_type": "code",
   "execution_count": 35,
   "id": "ea6ef18a",
   "metadata": {},
   "outputs": [
    {
     "data": {
      "text/html": [
       "<ol>\n",
       "\t<li><style>\n",
       ".list-inline {list-style: none; margin:0; padding: 0}\n",
       ".list-inline>li {display: inline-block}\n",
       ".list-inline>li:not(:last-child)::after {content: \"\\00b7\"; padding: 0 .5ex}\n",
       "</style>\n",
       "<ol class=list-inline><li>'SP1'</li><li>'401'</li></ol>\n",
       "</li>\n",
       "\t<li><style>\n",
       ".list-inline {list-style: none; margin:0; padding: 0}\n",
       ".list-inline>li {display: inline-block}\n",
       ".list-inline>li:not(:last-child)::after {content: \"\\00b7\"; padding: 0 .5ex}\n",
       "</style>\n",
       "<ol class=list-inline><li>'GABP1'</li><li>'0'</li></ol>\n",
       "</li>\n",
       "\t<li><style>\n",
       ".list-inline {list-style: none; margin:0; padding: 0}\n",
       ".list-inline>li {display: inline-block}\n",
       ".list-inline>li:not(:last-child)::after {content: \"\\00b7\"; padding: 0 .5ex}\n",
       "</style>\n",
       "<ol class=list-inline><li>'ETS'</li><li>'6161'</li></ol>\n",
       "</li>\n",
       "\t<li><style>\n",
       ".list-inline {list-style: none; margin:0; padding: 0}\n",
       ".list-inline>li {display: inline-block}\n",
       ".list-inline>li:not(:last-child)::after {content: \"\\00b7\"; padding: 0 .5ex}\n",
       "</style>\n",
       "<ol class=list-inline><li>'ELK1'</li><li>'62'</li></ol>\n",
       "</li>\n",
       "\t<li><style>\n",
       ".list-inline {list-style: none; margin:0; padding: 0}\n",
       ".list-inline>li {display: inline-block}\n",
       ".list-inline>li:not(:last-child)::after {content: \"\\00b7\"; padding: 0 .5ex}\n",
       "</style>\n",
       "<ol class=list-inline><li>'NRF1'</li><li>'1115'</li></ol>\n",
       "</li>\n",
       "\t<li><style>\n",
       ".list-inline {list-style: none; margin:0; padding: 0}\n",
       ".list-inline>li {display: inline-block}\n",
       ".list-inline>li:not(:last-child)::after {content: \"\\00b7\"; padding: 0 .5ex}\n",
       "</style>\n",
       "<ol class=list-inline><li>'NFY'</li><li>'31'</li></ol>\n",
       "</li>\n",
       "\t<li><style>\n",
       ".list-inline {list-style: none; margin:0; padding: 0}\n",
       ".list-inline>li {display: inline-block}\n",
       ".list-inline>li:not(:last-child)::after {content: \"\\00b7\"; padding: 0 .5ex}\n",
       "</style>\n",
       "<ol class=list-inline><li>'GATA1'</li><li>'78'</li></ol>\n",
       "</li>\n",
       "\t<li><style>\n",
       ".list-inline {list-style: none; margin:0; padding: 0}\n",
       ".list-inline>li {display: inline-block}\n",
       ".list-inline>li:not(:last-child)::after {content: \"\\00b7\"; padding: 0 .5ex}\n",
       "</style>\n",
       "<ol class=list-inline><li>'NFE2'</li><li>'153'</li></ol>\n",
       "</li>\n",
       "\t<li><style>\n",
       ".list-inline {list-style: none; margin:0; padding: 0}\n",
       ".list-inline>li {display: inline-block}\n",
       ".list-inline>li:not(:last-child)::after {content: \"\\00b7\"; padding: 0 .5ex}\n",
       "</style>\n",
       "<ol class=list-inline><li>'KLF'</li><li>'34'</li></ol>\n",
       "</li>\n",
       "\t<li><style>\n",
       ".list-inline {list-style: none; margin:0; padding: 0}\n",
       ".list-inline>li {display: inline-block}\n",
       ".list-inline>li:not(:last-child)::after {content: \"\\00b7\"; padding: 0 .5ex}\n",
       "</style>\n",
       "<ol class=list-inline><li>'AP1'</li><li>'0'</li></ol>\n",
       "</li>\n",
       "\t<li><style>\n",
       ".list-inline {list-style: none; margin:0; padding: 0}\n",
       ".list-inline>li {display: inline-block}\n",
       ".list-inline>li:not(:last-child)::after {content: \"\\00b7\"; padding: 0 .5ex}\n",
       "</style>\n",
       "<ol class=list-inline><li>'FOS'</li><li>'4409'</li></ol>\n",
       "</li>\n",
       "\t<li><style>\n",
       ".list-inline {list-style: none; margin:0; padding: 0}\n",
       ".list-inline>li {display: inline-block}\n",
       ".list-inline>li:not(:last-child)::after {content: \"\\00b7\"; padding: 0 .5ex}\n",
       "</style>\n",
       "<ol class=list-inline><li>'JUN'</li><li>'19785'</li></ol>\n",
       "</li>\n",
       "\t<li><style>\n",
       ".list-inline {list-style: none; margin:0; padding: 0}\n",
       ".list-inline>li {display: inline-block}\n",
       ".list-inline>li:not(:last-child)::after {content: \"\\00b7\"; padding: 0 .5ex}\n",
       "</style>\n",
       "<ol class=list-inline><li>'YY1'</li><li>'14656'</li></ol>\n",
       "</li>\n",
       "\t<li><style>\n",
       ".list-inline {list-style: none; margin:0; padding: 0}\n",
       ".list-inline>li {display: inline-block}\n",
       ".list-inline>li:not(:last-child)::after {content: \"\\00b7\"; padding: 0 .5ex}\n",
       "</style>\n",
       "<ol class=list-inline><li>'ATF'</li><li>'294'</li></ol>\n",
       "</li>\n",
       "</ol>\n"
      ],
      "text/latex": [
       "\\begin{enumerate}\n",
       "\\item \\begin{enumerate*}\n",
       "\\item 'SP1'\n",
       "\\item '401'\n",
       "\\end{enumerate*}\n",
       "\n",
       "\\item \\begin{enumerate*}\n",
       "\\item 'GABP1'\n",
       "\\item '0'\n",
       "\\end{enumerate*}\n",
       "\n",
       "\\item \\begin{enumerate*}\n",
       "\\item 'ETS'\n",
       "\\item '6161'\n",
       "\\end{enumerate*}\n",
       "\n",
       "\\item \\begin{enumerate*}\n",
       "\\item 'ELK1'\n",
       "\\item '62'\n",
       "\\end{enumerate*}\n",
       "\n",
       "\\item \\begin{enumerate*}\n",
       "\\item 'NRF1'\n",
       "\\item '1115'\n",
       "\\end{enumerate*}\n",
       "\n",
       "\\item \\begin{enumerate*}\n",
       "\\item 'NFY'\n",
       "\\item '31'\n",
       "\\end{enumerate*}\n",
       "\n",
       "\\item \\begin{enumerate*}\n",
       "\\item 'GATA1'\n",
       "\\item '78'\n",
       "\\end{enumerate*}\n",
       "\n",
       "\\item \\begin{enumerate*}\n",
       "\\item 'NFE2'\n",
       "\\item '153'\n",
       "\\end{enumerate*}\n",
       "\n",
       "\\item \\begin{enumerate*}\n",
       "\\item 'KLF'\n",
       "\\item '34'\n",
       "\\end{enumerate*}\n",
       "\n",
       "\\item \\begin{enumerate*}\n",
       "\\item 'AP1'\n",
       "\\item '0'\n",
       "\\end{enumerate*}\n",
       "\n",
       "\\item \\begin{enumerate*}\n",
       "\\item 'FOS'\n",
       "\\item '4409'\n",
       "\\end{enumerate*}\n",
       "\n",
       "\\item \\begin{enumerate*}\n",
       "\\item 'JUN'\n",
       "\\item '19785'\n",
       "\\end{enumerate*}\n",
       "\n",
       "\\item \\begin{enumerate*}\n",
       "\\item 'YY1'\n",
       "\\item '14656'\n",
       "\\end{enumerate*}\n",
       "\n",
       "\\item \\begin{enumerate*}\n",
       "\\item 'ATF'\n",
       "\\item '294'\n",
       "\\end{enumerate*}\n",
       "\n",
       "\\end{enumerate}\n"
      ],
      "text/markdown": [
       "1. 1. 'SP1'\n",
       "2. '401'\n",
       "\n",
       "\n",
       "\n",
       "2. 1. 'GABP1'\n",
       "2. '0'\n",
       "\n",
       "\n",
       "\n",
       "3. 1. 'ETS'\n",
       "2. '6161'\n",
       "\n",
       "\n",
       "\n",
       "4. 1. 'ELK1'\n",
       "2. '62'\n",
       "\n",
       "\n",
       "\n",
       "5. 1. 'NRF1'\n",
       "2. '1115'\n",
       "\n",
       "\n",
       "\n",
       "6. 1. 'NFY'\n",
       "2. '31'\n",
       "\n",
       "\n",
       "\n",
       "7. 1. 'GATA1'\n",
       "2. '78'\n",
       "\n",
       "\n",
       "\n",
       "8. 1. 'NFE2'\n",
       "2. '153'\n",
       "\n",
       "\n",
       "\n",
       "9. 1. 'KLF'\n",
       "2. '34'\n",
       "\n",
       "\n",
       "\n",
       "10. 1. 'AP1'\n",
       "2. '0'\n",
       "\n",
       "\n",
       "\n",
       "11. 1. 'FOS'\n",
       "2. '4409'\n",
       "\n",
       "\n",
       "\n",
       "12. 1. 'JUN'\n",
       "2. '19785'\n",
       "\n",
       "\n",
       "\n",
       "13. 1. 'YY1'\n",
       "2. '14656'\n",
       "\n",
       "\n",
       "\n",
       "14. 1. 'ATF'\n",
       "2. '294'\n",
       "\n",
       "\n",
       "\n",
       "\n",
       "\n"
      ],
      "text/plain": [
       "[[1]]\n",
       "[1] \"SP1\" \"401\"\n",
       "\n",
       "[[2]]\n",
       "[1] \"GABP1\" \"0\"    \n",
       "\n",
       "[[3]]\n",
       "[1] \"ETS\"  \"6161\"\n",
       "\n",
       "[[4]]\n",
       "[1] \"ELK1\" \"62\"  \n",
       "\n",
       "[[5]]\n",
       "[1] \"NRF1\" \"1115\"\n",
       "\n",
       "[[6]]\n",
       "[1] \"NFY\" \"31\" \n",
       "\n",
       "[[7]]\n",
       "[1] \"GATA1\" \"78\"   \n",
       "\n",
       "[[8]]\n",
       "[1] \"NFE2\" \"153\" \n",
       "\n",
       "[[9]]\n",
       "[1] \"KLF\" \"34\" \n",
       "\n",
       "[[10]]\n",
       "[1] \"AP1\" \"0\"  \n",
       "\n",
       "[[11]]\n",
       "[1] \"FOS\"  \"4409\"\n",
       "\n",
       "[[12]]\n",
       "[1] \"JUN\"   \"19785\"\n",
       "\n",
       "[[13]]\n",
       "[1] \"YY1\"   \"14656\"\n",
       "\n",
       "[[14]]\n",
       "[1] \"ATF\" \"294\"\n"
      ]
     },
     "metadata": {},
     "output_type": "display_data"
    }
   ],
   "source": [
    "lapply(seq_along(lst), function(idx){c(TFs[idx], length(lst[[idx]]))})"
   ]
  },
  {
   "cell_type": "code",
   "execution_count": null,
   "id": "adc53fb2",
   "metadata": {},
   "outputs": [],
   "source": [
    "idx = str_detect(bindings, \"SP1\")\n",
    "print(sum(idx))\n",
    "print(head(bindings[idx]))"
   ]
  },
  {
   "cell_type": "code",
   "execution_count": 51,
   "id": "995f9552",
   "metadata": {},
   "outputs": [
    {
     "data": {
      "text/html": [
       "<table class=\"dataframe\">\n",
       "<caption>A tibble: 1 × 9</caption>\n",
       "<thead>\n",
       "\t<tr><th scope=col>Chrom</th><th scope=col>Start</th><th scope=col>End</th><th scope=col>Name</th><th scope=col>Score</th><th scope=col>Strand</th><th scope=col>Value1</th><th scope=col>Value2</th><th scope=col>Value3</th></tr>\n",
       "\t<tr><th scope=col>&lt;chr&gt;</th><th scope=col>&lt;dbl&gt;</th><th scope=col>&lt;dbl&gt;</th><th scope=col>&lt;chr&gt;</th><th scope=col>&lt;dbl&gt;</th><th scope=col>&lt;chr&gt;</th><th scope=col>&lt;dbl&gt;</th><th scope=col>&lt;dbl&gt;</th><th scope=col>&lt;dbl&gt;</th></tr>\n",
       "</thead>\n",
       "<tbody>\n",
       "\t<tr><td>chr16</td><td>559314</td><td>559704</td><td>NELFE:K-562</td><td>1</td><td>.</td><td>559519</td><td>559520</td><td>146242243</td></tr>\n",
       "</tbody>\n",
       "</table>\n"
      ],
      "text/latex": [
       "A tibble: 1 × 9\n",
       "\\begin{tabular}{lllllllll}\n",
       " Chrom & Start & End & Name & Score & Strand & Value1 & Value2 & Value3\\\\\n",
       " <chr> & <dbl> & <dbl> & <chr> & <dbl> & <chr> & <dbl> & <dbl> & <dbl>\\\\\n",
       "\\hline\n",
       "\t chr16 & 559314 & 559704 & NELFE:K-562 & 1 & . & 559519 & 559520 & 146242243\\\\\n",
       "\\end{tabular}\n"
      ],
      "text/markdown": [
       "\n",
       "A tibble: 1 × 9\n",
       "\n",
       "| Chrom &lt;chr&gt; | Start &lt;dbl&gt; | End &lt;dbl&gt; | Name &lt;chr&gt; | Score &lt;dbl&gt; | Strand &lt;chr&gt; | Value1 &lt;dbl&gt; | Value2 &lt;dbl&gt; | Value3 &lt;dbl&gt; |\n",
       "|---|---|---|---|---|---|---|---|---|\n",
       "| chr16 | 559314 | 559704 | NELFE:K-562 | 1 | . | 559519 | 559520 | 146242243 |\n",
       "\n"
      ],
      "text/plain": [
       "  Chrom Start  End    Name        Score Strand Value1 Value2 Value3   \n",
       "1 chr16 559314 559704 NELFE:K-562 1     .      559519 559520 146242243"
      ]
     },
     "metadata": {},
     "output_type": "display_data"
    }
   ],
   "source": [
    "dat = dat_remap %>% dplyr::filter(Chrom == \"chr16\", Start > 559300, End < 560000, str_detect(Name, \"^NELFE\"))\n",
    "head(dat)"
   ]
  },
  {
   "cell_type": "code",
   "execution_count": 52,
   "id": "c3f1d285",
   "metadata": {},
   "outputs": [
    {
     "data": {
      "text/html": [
       "<table class=\"dataframe\">\n",
       "<caption>A tibble: 1 × 9</caption>\n",
       "<thead>\n",
       "\t<tr><th scope=col>Chrom</th><th scope=col>Start</th><th scope=col>End</th><th scope=col>Name</th><th scope=col>Score</th><th scope=col>Strand</th><th scope=col>Value1</th><th scope=col>Value2</th><th scope=col>Value3</th></tr>\n",
       "\t<tr><th scope=col>&lt;chr&gt;</th><th scope=col>&lt;dbl&gt;</th><th scope=col>&lt;dbl&gt;</th><th scope=col>&lt;chr&gt;</th><th scope=col>&lt;dbl&gt;</th><th scope=col>&lt;chr&gt;</th><th scope=col>&lt;dbl&gt;</th><th scope=col>&lt;dbl&gt;</th><th scope=col>&lt;dbl&gt;</th></tr>\n",
       "</thead>\n",
       "<tbody>\n",
       "\t<tr><td>chr1</td><td>165974518</td><td>165974696</td><td>U2AF1:K-562</td><td>1</td><td>.</td><td>165974613</td><td>165974614</td><td>226113149</td></tr>\n",
       "</tbody>\n",
       "</table>\n"
      ],
      "text/latex": [
       "A tibble: 1 × 9\n",
       "\\begin{tabular}{lllllllll}\n",
       " Chrom & Start & End & Name & Score & Strand & Value1 & Value2 & Value3\\\\\n",
       " <chr> & <dbl> & <dbl> & <chr> & <dbl> & <chr> & <dbl> & <dbl> & <dbl>\\\\\n",
       "\\hline\n",
       "\t chr1 & 165974518 & 165974696 & U2AF1:K-562 & 1 & . & 165974613 & 165974614 & 226113149\\\\\n",
       "\\end{tabular}\n"
      ],
      "text/markdown": [
       "\n",
       "A tibble: 1 × 9\n",
       "\n",
       "| Chrom &lt;chr&gt; | Start &lt;dbl&gt; | End &lt;dbl&gt; | Name &lt;chr&gt; | Score &lt;dbl&gt; | Strand &lt;chr&gt; | Value1 &lt;dbl&gt; | Value2 &lt;dbl&gt; | Value3 &lt;dbl&gt; |\n",
       "|---|---|---|---|---|---|---|---|---|\n",
       "| chr1 | 165974518 | 165974696 | U2AF1:K-562 | 1 | . | 165974613 | 165974614 | 226113149 |\n",
       "\n"
      ],
      "text/plain": [
       "  Chrom Start     End       Name        Score Strand Value1    Value2   \n",
       "1 chr1  165974518 165974696 U2AF1:K-562 1     .      165974613 165974614\n",
       "  Value3   \n",
       "1 226113149"
      ]
     },
     "metadata": {},
     "output_type": "display_data"
    }
   ],
   "source": [
    "dat = dat_remap %>% dplyr::filter(Chrom == \"chr1\", Start >= 165974518, End <= \t165974696)\n",
    "head(dat)"
   ]
  },
  {
   "cell_type": "code",
   "execution_count": 45,
   "id": "791be0cd",
   "metadata": {},
   "outputs": [
    {
     "data": {
      "text/html": [
       "<table class=\"dataframe\">\n",
       "<caption>A tibble: 6 × 10</caption>\n",
       "<thead>\n",
       "\t<tr><th scope=col>Chrom</th><th scope=col>Start</th><th scope=col>End</th><th scope=col>TF</th><th scope=col>CellType</th><th scope=col>Score</th><th scope=col>Strand</th><th scope=col>Value1</th><th scope=col>Value2</th><th scope=col>Value3</th></tr>\n",
       "\t<tr><th scope=col>&lt;chr&gt;</th><th scope=col>&lt;dbl&gt;</th><th scope=col>&lt;dbl&gt;</th><th scope=col>&lt;chr&gt;</th><th scope=col>&lt;chr&gt;</th><th scope=col>&lt;dbl&gt;</th><th scope=col>&lt;chr&gt;</th><th scope=col>&lt;dbl&gt;</th><th scope=col>&lt;dbl&gt;</th><th scope=col>&lt;dbl&gt;</th></tr>\n",
       "</thead>\n",
       "<tbody>\n",
       "\t<tr><td>chr16</td><td>  559445</td><td>  559996</td><td>ZBTB33</td><td>K-562                </td><td>1</td><td>.</td><td>  559696</td><td>  559697</td><td>252224252</td></tr>\n",
       "\t<tr><td>chr14</td><td>39431460</td><td>39431952</td><td>ZNF263</td><td>K-562,Hep-G2         </td><td>2</td><td>.</td><td>39431758</td><td>39431759</td><td> 11256224</td></tr>\n",
       "\t<tr><td>chr6 </td><td> 2944534</td><td> 2944665</td><td>NFE2  </td><td>K-562,erythroid      </td><td>2</td><td>.</td><td> 2944598</td><td> 2944599</td><td>168252112</td></tr>\n",
       "\t<tr><td>chr20</td><td>56419108</td><td>56419580</td><td>CTBP1 </td><td>K-562                </td><td>1</td><td>.</td><td>56419328</td><td>56419329</td><td>   285656</td></tr>\n",
       "\t<tr><td>chr19</td><td>30084330</td><td>30084486</td><td>SPI1  </td><td>K-562                </td><td>1</td><td>.</td><td>30084431</td><td>30084432</td><td> 25228112</td></tr>\n",
       "\t<tr><td>chr1 </td><td>44047633</td><td>44047863</td><td>TAL1  </td><td>ProEs,CHRF28811,K-562</td><td>7</td><td>.</td><td>44047751</td><td>44047752</td><td> 11216884</td></tr>\n",
       "</tbody>\n",
       "</table>\n"
      ],
      "text/latex": [
       "A tibble: 6 × 10\n",
       "\\begin{tabular}{llllllllll}\n",
       " Chrom & Start & End & TF & CellType & Score & Strand & Value1 & Value2 & Value3\\\\\n",
       " <chr> & <dbl> & <dbl> & <chr> & <chr> & <dbl> & <chr> & <dbl> & <dbl> & <dbl>\\\\\n",
       "\\hline\n",
       "\t chr16 &   559445 &   559996 & ZBTB33 & K-562                 & 1 & . &   559696 &   559697 & 252224252\\\\\n",
       "\t chr14 & 39431460 & 39431952 & ZNF263 & K-562,Hep-G2          & 2 & . & 39431758 & 39431759 &  11256224\\\\\n",
       "\t chr6  &  2944534 &  2944665 & NFE2   & K-562,erythroid       & 2 & . &  2944598 &  2944599 & 168252112\\\\\n",
       "\t chr20 & 56419108 & 56419580 & CTBP1  & K-562                 & 1 & . & 56419328 & 56419329 &    285656\\\\\n",
       "\t chr19 & 30084330 & 30084486 & SPI1   & K-562                 & 1 & . & 30084431 & 30084432 &  25228112\\\\\n",
       "\t chr1  & 44047633 & 44047863 & TAL1   & ProEs,CHRF28811,K-562 & 7 & . & 44047751 & 44047752 &  11216884\\\\\n",
       "\\end{tabular}\n"
      ],
      "text/markdown": [
       "\n",
       "A tibble: 6 × 10\n",
       "\n",
       "| Chrom &lt;chr&gt; | Start &lt;dbl&gt; | End &lt;dbl&gt; | TF &lt;chr&gt; | CellType &lt;chr&gt; | Score &lt;dbl&gt; | Strand &lt;chr&gt; | Value1 &lt;dbl&gt; | Value2 &lt;dbl&gt; | Value3 &lt;dbl&gt; |\n",
       "|---|---|---|---|---|---|---|---|---|---|\n",
       "| chr16 |   559445 |   559996 | ZBTB33 | K-562                 | 1 | . |   559696 |   559697 | 252224252 |\n",
       "| chr14 | 39431460 | 39431952 | ZNF263 | K-562,Hep-G2          | 2 | . | 39431758 | 39431759 |  11256224 |\n",
       "| chr6  |  2944534 |  2944665 | NFE2   | K-562,erythroid       | 2 | . |  2944598 |  2944599 | 168252112 |\n",
       "| chr20 | 56419108 | 56419580 | CTBP1  | K-562                 | 1 | . | 56419328 | 56419329 |    285656 |\n",
       "| chr19 | 30084330 | 30084486 | SPI1   | K-562                 | 1 | . | 30084431 | 30084432 |  25228112 |\n",
       "| chr1  | 44047633 | 44047863 | TAL1   | ProEs,CHRF28811,K-562 | 7 | . | 44047751 | 44047752 |  11216884 |\n",
       "\n"
      ],
      "text/plain": [
       "  Chrom Start    End      TF     CellType              Score Strand Value1  \n",
       "1 chr16   559445   559996 ZBTB33 K-562                 1     .        559696\n",
       "2 chr14 39431460 39431952 ZNF263 K-562,Hep-G2          2     .      39431758\n",
       "3 chr6   2944534  2944665 NFE2   K-562,erythroid       2     .       2944598\n",
       "4 chr20 56419108 56419580 CTBP1  K-562                 1     .      56419328\n",
       "5 chr19 30084330 30084486 SPI1   K-562                 1     .      30084431\n",
       "6 chr1  44047633 44047863 TAL1   ProEs,CHRF28811,K-562 7     .      44047751\n",
       "  Value2   Value3   \n",
       "1   559697 252224252\n",
       "2 39431759  11256224\n",
       "3  2944599 168252112\n",
       "4 56419329    285656\n",
       "5 30084432  25228112\n",
       "6 44047752  11216884"
      ]
     },
     "metadata": {},
     "output_type": "display_data"
    }
   ],
   "source": [
    "set.seed(123)\n",
    "dat = dat_remap %>% slice_sample(n=100)\n",
    "dat = dat %>% separate(col = Name, into = c(\"TF\", \"CellType\"), sep=\":\")\n",
    "head(dat)"
   ]
  },
  {
   "cell_type": "code",
   "execution_count": 47,
   "id": "9129c38a",
   "metadata": {},
   "outputs": [
    {
     "data": {
      "text/html": [
       "<style>\n",
       ".dl-inline {width: auto; margin:0; padding: 0}\n",
       ".dl-inline>dt, .dl-inline>dd {float: none; width: auto; display: inline-block}\n",
       ".dl-inline>dt::after {content: \":\\0020\"; padding-right: .5ex}\n",
       ".dl-inline>dt:not(:first-of-type) {padding-left: .5ex}\n",
       "</style><dl class=dl-inline><dt>AFF1</dt><dd>1</dd><dt>ATF3</dt><dd>2</dd><dt>ATF7</dt><dd>2</dd><dt>BCOR</dt><dd>1</dd><dt>BRD2</dt><dd>1</dd><dt>CBFA2T2</dt><dd>1</dd><dt>CBFA2T3</dt><dd>2</dd><dt>CBX8</dt><dd>1</dd><dt>CEBPB</dt><dd>1</dd><dt>CREB3</dt><dd>1</dd><dt>CTBP1</dt><dd>2</dd><dt>CTCFL</dt><dd>1</dd><dt>ELF1</dt><dd>3</dd><dt>EP300</dt><dd>1</dd><dt>GABPA</dt><dd>1</dd><dt>GATA1</dt><dd>1</dd><dt>GTF2F1</dt><dd>1</dd><dt>HCFC1</dt><dd>1</dd><dt>HDAC1</dt><dd>1</dd><dt>HNRNPL</dt><dd>1</dd><dt>IRF1</dt><dd>1</dd><dt>JUND</dt><dd>2</dd><dt>KDM1A</dt><dd>1</dd><dt>KDM5B</dt><dd>1</dd><dt>MAFF</dt><dd>1</dd><dt>MAFG</dt><dd>2</dd><dt>MAZ</dt><dd>1</dd><dt>MEIS2</dt><dd>1</dd><dt>MITF</dt><dd>1</dd><dt>MLLT1</dt><dd>2</dd><dt>MNT</dt><dd>1</dd><dt>MTA2</dt><dd>1</dd><dt>MTA3</dt><dd>3</dd><dt>MYNN</dt><dd>1</dd><dt>NELFE</dt><dd>1</dd><dt>NFE2</dt><dd>1</dd><dt>NFE2L2</dt><dd>2</dd><dt>NFIX</dt><dd>1</dd><dt>NFYA</dt><dd>2</dd><dt>NONO</dt><dd>1</dd><dt>NR2F6</dt><dd>1</dd><dt>NRF1</dt><dd>1</dd><dt>PBX2</dt><dd>1</dd><dt>PCBP1</dt><dd>1</dd><dt>PHF8</dt><dd>1</dd><dt>PLAG1</dt><dd>1</dd><dt>PML</dt><dd>1</dd><dt>POU5F1</dt><dd>1</dd><dt>RBM22</dt><dd>1</dd><dt>RBM25</dt><dd>1</dd><dt>RBM39</dt><dd>1</dd><dt>RCOR1</dt><dd>1</dd><dt>REST</dt><dd>4</dd><dt>RFX1</dt><dd>1</dd><dt>SMARCA4</dt><dd>1</dd><dt>SPI1</dt><dd>3</dd><dt>STAG1</dt><dd>1</dd><dt>TAF7</dt><dd>1</dd><dt>TAL1</dt><dd>2</dd><dt>TCF3</dt><dd>1</dd><dt>TFDP1</dt><dd>1</dd><dt>THAP1</dt><dd>1</dd><dt>TRIM24</dt><dd>1</dd><dt>TRIP13</dt><dd>1</dd><dt>USF1</dt><dd>1</dd><dt>WDR5</dt><dd>1</dd><dt>XRCC5</dt><dd>1</dd><dt>ZBTB33</dt><dd>1</dd><dt>ZBTB7A</dt><dd>1</dd><dt>ZFP36</dt><dd>2</dd><dt>ZNF143</dt><dd>2</dd><dt>ZNF24</dt><dd>1</dd><dt>ZNF257</dt><dd>1</dd><dt>ZNF263</dt><dd>3</dd><dt>ZNF3</dt><dd>1</dd><dt>ZNF316</dt><dd>1</dd><dt>ZNF592</dt><dd>1</dd></dl>\n"
      ],
      "text/latex": [
       "\\begin{description*}\n",
       "\\item[AFF1] 1\n",
       "\\item[ATF3] 2\n",
       "\\item[ATF7] 2\n",
       "\\item[BCOR] 1\n",
       "\\item[BRD2] 1\n",
       "\\item[CBFA2T2] 1\n",
       "\\item[CBFA2T3] 2\n",
       "\\item[CBX8] 1\n",
       "\\item[CEBPB] 1\n",
       "\\item[CREB3] 1\n",
       "\\item[CTBP1] 2\n",
       "\\item[CTCFL] 1\n",
       "\\item[ELF1] 3\n",
       "\\item[EP300] 1\n",
       "\\item[GABPA] 1\n",
       "\\item[GATA1] 1\n",
       "\\item[GTF2F1] 1\n",
       "\\item[HCFC1] 1\n",
       "\\item[HDAC1] 1\n",
       "\\item[HNRNPL] 1\n",
       "\\item[IRF1] 1\n",
       "\\item[JUND] 2\n",
       "\\item[KDM1A] 1\n",
       "\\item[KDM5B] 1\n",
       "\\item[MAFF] 1\n",
       "\\item[MAFG] 2\n",
       "\\item[MAZ] 1\n",
       "\\item[MEIS2] 1\n",
       "\\item[MITF] 1\n",
       "\\item[MLLT1] 2\n",
       "\\item[MNT] 1\n",
       "\\item[MTA2] 1\n",
       "\\item[MTA3] 3\n",
       "\\item[MYNN] 1\n",
       "\\item[NELFE] 1\n",
       "\\item[NFE2] 1\n",
       "\\item[NFE2L2] 2\n",
       "\\item[NFIX] 1\n",
       "\\item[NFYA] 2\n",
       "\\item[NONO] 1\n",
       "\\item[NR2F6] 1\n",
       "\\item[NRF1] 1\n",
       "\\item[PBX2] 1\n",
       "\\item[PCBP1] 1\n",
       "\\item[PHF8] 1\n",
       "\\item[PLAG1] 1\n",
       "\\item[PML] 1\n",
       "\\item[POU5F1] 1\n",
       "\\item[RBM22] 1\n",
       "\\item[RBM25] 1\n",
       "\\item[RBM39] 1\n",
       "\\item[RCOR1] 1\n",
       "\\item[REST] 4\n",
       "\\item[RFX1] 1\n",
       "\\item[SMARCA4] 1\n",
       "\\item[SPI1] 3\n",
       "\\item[STAG1] 1\n",
       "\\item[TAF7] 1\n",
       "\\item[TAL1] 2\n",
       "\\item[TCF3] 1\n",
       "\\item[TFDP1] 1\n",
       "\\item[THAP1] 1\n",
       "\\item[TRIM24] 1\n",
       "\\item[TRIP13] 1\n",
       "\\item[USF1] 1\n",
       "\\item[WDR5] 1\n",
       "\\item[XRCC5] 1\n",
       "\\item[ZBTB33] 1\n",
       "\\item[ZBTB7A] 1\n",
       "\\item[ZFP36] 2\n",
       "\\item[ZNF143] 2\n",
       "\\item[ZNF24] 1\n",
       "\\item[ZNF257] 1\n",
       "\\item[ZNF263] 3\n",
       "\\item[ZNF3] 1\n",
       "\\item[ZNF316] 1\n",
       "\\item[ZNF592] 1\n",
       "\\end{description*}\n"
      ],
      "text/markdown": [
       "AFF1\n",
       ":   1ATF3\n",
       ":   2ATF7\n",
       ":   2BCOR\n",
       ":   1BRD2\n",
       ":   1CBFA2T2\n",
       ":   1CBFA2T3\n",
       ":   2CBX8\n",
       ":   1CEBPB\n",
       ":   1CREB3\n",
       ":   1CTBP1\n",
       ":   2CTCFL\n",
       ":   1ELF1\n",
       ":   3EP300\n",
       ":   1GABPA\n",
       ":   1GATA1\n",
       ":   1GTF2F1\n",
       ":   1HCFC1\n",
       ":   1HDAC1\n",
       ":   1HNRNPL\n",
       ":   1IRF1\n",
       ":   1JUND\n",
       ":   2KDM1A\n",
       ":   1KDM5B\n",
       ":   1MAFF\n",
       ":   1MAFG\n",
       ":   2MAZ\n",
       ":   1MEIS2\n",
       ":   1MITF\n",
       ":   1MLLT1\n",
       ":   2MNT\n",
       ":   1MTA2\n",
       ":   1MTA3\n",
       ":   3MYNN\n",
       ":   1NELFE\n",
       ":   1NFE2\n",
       ":   1NFE2L2\n",
       ":   2NFIX\n",
       ":   1NFYA\n",
       ":   2NONO\n",
       ":   1NR2F6\n",
       ":   1NRF1\n",
       ":   1PBX2\n",
       ":   1PCBP1\n",
       ":   1PHF8\n",
       ":   1PLAG1\n",
       ":   1PML\n",
       ":   1POU5F1\n",
       ":   1RBM22\n",
       ":   1RBM25\n",
       ":   1RBM39\n",
       ":   1RCOR1\n",
       ":   1REST\n",
       ":   4RFX1\n",
       ":   1SMARCA4\n",
       ":   1SPI1\n",
       ":   3STAG1\n",
       ":   1TAF7\n",
       ":   1TAL1\n",
       ":   2TCF3\n",
       ":   1TFDP1\n",
       ":   1THAP1\n",
       ":   1TRIM24\n",
       ":   1TRIP13\n",
       ":   1USF1\n",
       ":   1WDR5\n",
       ":   1XRCC5\n",
       ":   1ZBTB33\n",
       ":   1ZBTB7A\n",
       ":   1ZFP36\n",
       ":   2ZNF143\n",
       ":   2ZNF24\n",
       ":   1ZNF257\n",
       ":   1ZNF263\n",
       ":   3ZNF3\n",
       ":   1ZNF316\n",
       ":   1ZNF592\n",
       ":   1\n",
       "\n"
      ],
      "text/plain": [
       "   AFF1    ATF3    ATF7    BCOR    BRD2 CBFA2T2 CBFA2T3    CBX8   CEBPB   CREB3 \n",
       "      1       2       2       1       1       1       2       1       1       1 \n",
       "  CTBP1   CTCFL    ELF1   EP300   GABPA   GATA1  GTF2F1   HCFC1   HDAC1  HNRNPL \n",
       "      2       1       3       1       1       1       1       1       1       1 \n",
       "   IRF1    JUND   KDM1A   KDM5B    MAFF    MAFG     MAZ   MEIS2    MITF   MLLT1 \n",
       "      1       2       1       1       1       2       1       1       1       2 \n",
       "    MNT    MTA2    MTA3    MYNN   NELFE    NFE2  NFE2L2    NFIX    NFYA    NONO \n",
       "      1       1       3       1       1       1       2       1       2       1 \n",
       "  NR2F6    NRF1    PBX2   PCBP1    PHF8   PLAG1     PML  POU5F1   RBM22   RBM25 \n",
       "      1       1       1       1       1       1       1       1       1       1 \n",
       "  RBM39   RCOR1    REST    RFX1 SMARCA4    SPI1   STAG1    TAF7    TAL1    TCF3 \n",
       "      1       1       4       1       1       3       1       1       2       1 \n",
       "  TFDP1   THAP1  TRIM24  TRIP13    USF1    WDR5   XRCC5  ZBTB33  ZBTB7A   ZFP36 \n",
       "      1       1       1       1       1       1       1       1       1       2 \n",
       " ZNF143   ZNF24  ZNF257  ZNF263    ZNF3  ZNF316  ZNF592 \n",
       "      2       1       1       3       1       1       1 "
      ]
     },
     "metadata": {},
     "output_type": "display_data"
    }
   ],
   "source": [
    "table(dat$TF, dat$Value3) %>% apply(., 1, max)"
   ]
  },
  {
   "cell_type": "code",
   "execution_count": 37,
   "id": "30e32d5a",
   "metadata": {},
   "outputs": [
    {
     "data": {
      "text/html": [
       "<table class=\"dataframe\">\n",
       "<caption>A tibble: 6 × 9</caption>\n",
       "<thead>\n",
       "\t<tr><th scope=col>Chrom</th><th scope=col>Start</th><th scope=col>End</th><th scope=col>Name</th><th scope=col>Score</th><th scope=col>Strand</th><th scope=col>Value1</th><th scope=col>Value2</th><th scope=col>Value3</th></tr>\n",
       "\t<tr><th scope=col>&lt;chr&gt;</th><th scope=col>&lt;dbl&gt;</th><th scope=col>&lt;dbl&gt;</th><th scope=col>&lt;chr&gt;</th><th scope=col>&lt;dbl&gt;</th><th scope=col>&lt;chr&gt;</th><th scope=col>&lt;dbl&gt;</th><th scope=col>&lt;dbl&gt;</th><th scope=col>&lt;dbl&gt;</th></tr>\n",
       "</thead>\n",
       "<tbody>\n",
       "\t<tr><td>chr1</td><td> 904683</td><td> 904921</td><td>ELK1:K-562              </td><td>1</td><td>.</td><td> 904800</td><td> 904801</td><td>5625284</td></tr>\n",
       "\t<tr><td>chr1</td><td> 959183</td><td> 959361</td><td>ELK1:HeLa-S3,K-562      </td><td>3</td><td>.</td><td> 959254</td><td> 959255</td><td>5625284</td></tr>\n",
       "\t<tr><td>chr1</td><td>1019591</td><td>1019923</td><td>ELK1:K-562              </td><td>1</td><td>.</td><td>1019753</td><td>1019754</td><td>5625284</td></tr>\n",
       "\t<tr><td>chr1</td><td>1116095</td><td>1116350</td><td>ELK1:HeLa-S3,K-562      </td><td>3</td><td>.</td><td>1116212</td><td>1116213</td><td>5625284</td></tr>\n",
       "\t<tr><td>chr1</td><td>1185551</td><td>1185879</td><td>ELK1:K-562              </td><td>1</td><td>.</td><td>1185727</td><td>1185728</td><td>5625284</td></tr>\n",
       "\t<tr><td>chr1</td><td>1231901</td><td>1232189</td><td>ELK1:HeLa-S3,K-562,MCF-7</td><td>3</td><td>.</td><td>1232034</td><td>1232035</td><td>5625284</td></tr>\n",
       "</tbody>\n",
       "</table>\n"
      ],
      "text/latex": [
       "A tibble: 6 × 9\n",
       "\\begin{tabular}{lllllllll}\n",
       " Chrom & Start & End & Name & Score & Strand & Value1 & Value2 & Value3\\\\\n",
       " <chr> & <dbl> & <dbl> & <chr> & <dbl> & <chr> & <dbl> & <dbl> & <dbl>\\\\\n",
       "\\hline\n",
       "\t chr1 &  904683 &  904921 & ELK1:K-562               & 1 & . &  904800 &  904801 & 5625284\\\\\n",
       "\t chr1 &  959183 &  959361 & ELK1:HeLa-S3,K-562       & 3 & . &  959254 &  959255 & 5625284\\\\\n",
       "\t chr1 & 1019591 & 1019923 & ELK1:K-562               & 1 & . & 1019753 & 1019754 & 5625284\\\\\n",
       "\t chr1 & 1116095 & 1116350 & ELK1:HeLa-S3,K-562       & 3 & . & 1116212 & 1116213 & 5625284\\\\\n",
       "\t chr1 & 1185551 & 1185879 & ELK1:K-562               & 1 & . & 1185727 & 1185728 & 5625284\\\\\n",
       "\t chr1 & 1231901 & 1232189 & ELK1:HeLa-S3,K-562,MCF-7 & 3 & . & 1232034 & 1232035 & 5625284\\\\\n",
       "\\end{tabular}\n"
      ],
      "text/markdown": [
       "\n",
       "A tibble: 6 × 9\n",
       "\n",
       "| Chrom &lt;chr&gt; | Start &lt;dbl&gt; | End &lt;dbl&gt; | Name &lt;chr&gt; | Score &lt;dbl&gt; | Strand &lt;chr&gt; | Value1 &lt;dbl&gt; | Value2 &lt;dbl&gt; | Value3 &lt;dbl&gt; |\n",
       "|---|---|---|---|---|---|---|---|---|\n",
       "| chr1 |  904683 |  904921 | ELK1:K-562               | 1 | . |  904800 |  904801 | 5625284 |\n",
       "| chr1 |  959183 |  959361 | ELK1:HeLa-S3,K-562       | 3 | . |  959254 |  959255 | 5625284 |\n",
       "| chr1 | 1019591 | 1019923 | ELK1:K-562               | 1 | . | 1019753 | 1019754 | 5625284 |\n",
       "| chr1 | 1116095 | 1116350 | ELK1:HeLa-S3,K-562       | 3 | . | 1116212 | 1116213 | 5625284 |\n",
       "| chr1 | 1185551 | 1185879 | ELK1:K-562               | 1 | . | 1185727 | 1185728 | 5625284 |\n",
       "| chr1 | 1231901 | 1232189 | ELK1:HeLa-S3,K-562,MCF-7 | 3 | . | 1232034 | 1232035 | 5625284 |\n",
       "\n"
      ],
      "text/plain": [
       "  Chrom Start   End     Name                     Score Strand Value1  Value2 \n",
       "1 chr1   904683  904921 ELK1:K-562               1     .       904800  904801\n",
       "2 chr1   959183  959361 ELK1:HeLa-S3,K-562       3     .       959254  959255\n",
       "3 chr1  1019591 1019923 ELK1:K-562               1     .      1019753 1019754\n",
       "4 chr1  1116095 1116350 ELK1:HeLa-S3,K-562       3     .      1116212 1116213\n",
       "5 chr1  1185551 1185879 ELK1:K-562               1     .      1185727 1185728\n",
       "6 chr1  1231901 1232189 ELK1:HeLa-S3,K-562,MCF-7 3     .      1232034 1232035\n",
       "  Value3 \n",
       "1 5625284\n",
       "2 5625284\n",
       "3 5625284\n",
       "4 5625284\n",
       "5 5625284\n",
       "6 5625284"
      ]
     },
     "metadata": {},
     "output_type": "display_data"
    }
   ],
   "source": [
    "dat = dat_remap %>% dplyr::filter(str_detect(Name, \"^ELK1\"))\n",
    "head(dat)"
   ]
  },
  {
   "cell_type": "code",
   "execution_count": 26,
   "id": "4a6274ea",
   "metadata": {},
   "outputs": [
    {
     "data": {
      "text/html": [
       "<table class=\"dataframe\">\n",
       "<caption>A tibble: 6 × 9</caption>\n",
       "<thead>\n",
       "\t<tr><th scope=col>Chrom</th><th scope=col>Start</th><th scope=col>End</th><th scope=col>Name</th><th scope=col>Score</th><th scope=col>Strand</th><th scope=col>Value1</th><th scope=col>Value2</th><th scope=col>Value3</th></tr>\n",
       "\t<tr><th scope=col>&lt;chr&gt;</th><th scope=col>&lt;dbl&gt;</th><th scope=col>&lt;dbl&gt;</th><th scope=col>&lt;chr&gt;</th><th scope=col>&lt;dbl&gt;</th><th scope=col>&lt;chr&gt;</th><th scope=col>&lt;dbl&gt;</th><th scope=col>&lt;dbl&gt;</th><th scope=col>&lt;dbl&gt;</th></tr>\n",
       "</thead>\n",
       "<tbody>\n",
       "\t<tr><td>chr1</td><td>778552</td><td>778809</td><td>FOS:K-562,HCT-116,IMR-90,Hep-G2   </td><td>4</td><td>.</td><td>778679</td><td>778680</td><td>112140140</td></tr>\n",
       "\t<tr><td>chr1</td><td>904641</td><td>904878</td><td>FOSL1:MDA-MB-231,K-562,BT-549,WA01</td><td>5</td><td>.</td><td>904734</td><td>904735</td><td> 14011228</td></tr>\n",
       "\t<tr><td>chr1</td><td>911169</td><td>911440</td><td>FOSL1:K-562                       </td><td>2</td><td>.</td><td>911299</td><td>911300</td><td> 14011228</td></tr>\n",
       "\t<tr><td>chr1</td><td>923766</td><td>923928</td><td>FOSL1:K-562,BT-549                </td><td>2</td><td>.</td><td>923837</td><td>923838</td><td> 14011228</td></tr>\n",
       "\t<tr><td>chr1</td><td>938526</td><td>938648</td><td>FOSL1:K-562                       </td><td>1</td><td>.</td><td>938576</td><td>938577</td><td> 14011228</td></tr>\n",
       "\t<tr><td>chr1</td><td>941832</td><td>941998</td><td>FOSL1:K-562,BT-549                </td><td>2</td><td>.</td><td>941913</td><td>941914</td><td> 14011228</td></tr>\n",
       "</tbody>\n",
       "</table>\n"
      ],
      "text/latex": [
       "A tibble: 6 × 9\n",
       "\\begin{tabular}{lllllllll}\n",
       " Chrom & Start & End & Name & Score & Strand & Value1 & Value2 & Value3\\\\\n",
       " <chr> & <dbl> & <dbl> & <chr> & <dbl> & <chr> & <dbl> & <dbl> & <dbl>\\\\\n",
       "\\hline\n",
       "\t chr1 & 778552 & 778809 & FOS:K-562,HCT-116,IMR-90,Hep-G2    & 4 & . & 778679 & 778680 & 112140140\\\\\n",
       "\t chr1 & 904641 & 904878 & FOSL1:MDA-MB-231,K-562,BT-549,WA01 & 5 & . & 904734 & 904735 &  14011228\\\\\n",
       "\t chr1 & 911169 & 911440 & FOSL1:K-562                        & 2 & . & 911299 & 911300 &  14011228\\\\\n",
       "\t chr1 & 923766 & 923928 & FOSL1:K-562,BT-549                 & 2 & . & 923837 & 923838 &  14011228\\\\\n",
       "\t chr1 & 938526 & 938648 & FOSL1:K-562                        & 1 & . & 938576 & 938577 &  14011228\\\\\n",
       "\t chr1 & 941832 & 941998 & FOSL1:K-562,BT-549                 & 2 & . & 941913 & 941914 &  14011228\\\\\n",
       "\\end{tabular}\n"
      ],
      "text/markdown": [
       "\n",
       "A tibble: 6 × 9\n",
       "\n",
       "| Chrom &lt;chr&gt; | Start &lt;dbl&gt; | End &lt;dbl&gt; | Name &lt;chr&gt; | Score &lt;dbl&gt; | Strand &lt;chr&gt; | Value1 &lt;dbl&gt; | Value2 &lt;dbl&gt; | Value3 &lt;dbl&gt; |\n",
       "|---|---|---|---|---|---|---|---|---|\n",
       "| chr1 | 778552 | 778809 | FOS:K-562,HCT-116,IMR-90,Hep-G2    | 4 | . | 778679 | 778680 | 112140140 |\n",
       "| chr1 | 904641 | 904878 | FOSL1:MDA-MB-231,K-562,BT-549,WA01 | 5 | . | 904734 | 904735 |  14011228 |\n",
       "| chr1 | 911169 | 911440 | FOSL1:K-562                        | 2 | . | 911299 | 911300 |  14011228 |\n",
       "| chr1 | 923766 | 923928 | FOSL1:K-562,BT-549                 | 2 | . | 923837 | 923838 |  14011228 |\n",
       "| chr1 | 938526 | 938648 | FOSL1:K-562                        | 1 | . | 938576 | 938577 |  14011228 |\n",
       "| chr1 | 941832 | 941998 | FOSL1:K-562,BT-549                 | 2 | . | 941913 | 941914 |  14011228 |\n",
       "\n"
      ],
      "text/plain": [
       "  Chrom Start  End    Name                               Score Strand Value1\n",
       "1 chr1  778552 778809 FOS:K-562,HCT-116,IMR-90,Hep-G2    4     .      778679\n",
       "2 chr1  904641 904878 FOSL1:MDA-MB-231,K-562,BT-549,WA01 5     .      904734\n",
       "3 chr1  911169 911440 FOSL1:K-562                        2     .      911299\n",
       "4 chr1  923766 923928 FOSL1:K-562,BT-549                 2     .      923837\n",
       "5 chr1  938526 938648 FOSL1:K-562                        1     .      938576\n",
       "6 chr1  941832 941998 FOSL1:K-562,BT-549                 2     .      941913\n",
       "  Value2 Value3   \n",
       "1 778680 112140140\n",
       "2 904735  14011228\n",
       "3 911300  14011228\n",
       "4 923838  14011228\n",
       "5 938577  14011228\n",
       "6 941914  14011228"
      ]
     },
     "metadata": {},
     "output_type": "display_data"
    }
   ],
   "source": [
    "dat = dat_remap %>% dplyr::filter(str_detect(Name, \"FOS\"))\n",
    "head(dat)"
   ]
  },
  {
   "cell_type": "code",
   "execution_count": null,
   "id": "44637a52",
   "metadata": {},
   "outputs": [],
   "source": []
  },
  {
   "cell_type": "code",
   "execution_count": 4,
   "id": "00e96c49",
   "metadata": {},
   "outputs": [
    {
     "name": "stdout",
     "output_type": "stream",
     "text": [
      "[1] 5162105       9\n"
     ]
    },
    {
     "data": {
      "text/html": [
       "<table class=\"dataframe\">\n",
       "<caption>A tibble: 6 × 9</caption>\n",
       "<thead>\n",
       "\t<tr><th scope=col>Peak</th><th scope=col>Chrom</th><th scope=col>Start</th><th scope=col>End</th><th scope=col>Len</th><th scope=col>Name</th><th scope=col>Count</th><th scope=col>Total</th><th scope=col>Freq</th></tr>\n",
       "\t<tr><th scope=col>&lt;chr&gt;</th><th scope=col>&lt;chr&gt;</th><th scope=col>&lt;dbl&gt;</th><th scope=col>&lt;dbl&gt;</th><th scope=col>&lt;dbl&gt;</th><th scope=col>&lt;chr&gt;</th><th scope=col>&lt;dbl&gt;</th><th scope=col>&lt;dbl&gt;</th><th scope=col>&lt;dbl&gt;</th></tr>\n",
       "</thead>\n",
       "<tbody>\n",
       "\t<tr><td>chr1_100006256_100006880</td><td>chr1</td><td>100006256</td><td>100006880</td><td> 624</td><td>TAF15:K-562             </td><td>1</td><td>1</td><td>1.0000000</td></tr>\n",
       "\t<tr><td>chr1_10002087_10003910  </td><td>chr1</td><td> 10002087</td><td> 10003910</td><td>1823</td><td>CBX2:K-562              </td><td>1</td><td>6</td><td>0.1666667</td></tr>\n",
       "\t<tr><td>chr1_10002087_10003910  </td><td>chr1</td><td> 10002087</td><td> 10003910</td><td>1823</td><td>CBX8:K-562              </td><td>1</td><td>6</td><td>0.1666667</td></tr>\n",
       "\t<tr><td>chr1_10002087_10003910  </td><td>chr1</td><td> 10002087</td><td> 10003910</td><td>1823</td><td>CEBPB:MCF-7,K-562,Hep-G2</td><td>1</td><td>6</td><td>0.1666667</td></tr>\n",
       "\t<tr><td>chr1_10002087_10003910  </td><td>chr1</td><td> 10002087</td><td> 10003910</td><td>1823</td><td>ETS1:K-562              </td><td>1</td><td>6</td><td>0.1666667</td></tr>\n",
       "\t<tr><td>chr1_10002087_10003910  </td><td>chr1</td><td> 10002087</td><td> 10003910</td><td>1823</td><td>HINFP:K-562             </td><td>1</td><td>6</td><td>0.1666667</td></tr>\n",
       "</tbody>\n",
       "</table>\n"
      ],
      "text/latex": [
       "A tibble: 6 × 9\n",
       "\\begin{tabular}{lllllllll}\n",
       " Peak & Chrom & Start & End & Len & Name & Count & Total & Freq\\\\\n",
       " <chr> & <chr> & <dbl> & <dbl> & <dbl> & <chr> & <dbl> & <dbl> & <dbl>\\\\\n",
       "\\hline\n",
       "\t chr1\\_100006256\\_100006880 & chr1 & 100006256 & 100006880 &  624 & TAF15:K-562              & 1 & 1 & 1.0000000\\\\\n",
       "\t chr1\\_10002087\\_10003910   & chr1 &  10002087 &  10003910 & 1823 & CBX2:K-562               & 1 & 6 & 0.1666667\\\\\n",
       "\t chr1\\_10002087\\_10003910   & chr1 &  10002087 &  10003910 & 1823 & CBX8:K-562               & 1 & 6 & 0.1666667\\\\\n",
       "\t chr1\\_10002087\\_10003910   & chr1 &  10002087 &  10003910 & 1823 & CEBPB:MCF-7,K-562,Hep-G2 & 1 & 6 & 0.1666667\\\\\n",
       "\t chr1\\_10002087\\_10003910   & chr1 &  10002087 &  10003910 & 1823 & ETS1:K-562               & 1 & 6 & 0.1666667\\\\\n",
       "\t chr1\\_10002087\\_10003910   & chr1 &  10002087 &  10003910 & 1823 & HINFP:K-562              & 1 & 6 & 0.1666667\\\\\n",
       "\\end{tabular}\n"
      ],
      "text/markdown": [
       "\n",
       "A tibble: 6 × 9\n",
       "\n",
       "| Peak &lt;chr&gt; | Chrom &lt;chr&gt; | Start &lt;dbl&gt; | End &lt;dbl&gt; | Len &lt;dbl&gt; | Name &lt;chr&gt; | Count &lt;dbl&gt; | Total &lt;dbl&gt; | Freq &lt;dbl&gt; |\n",
       "|---|---|---|---|---|---|---|---|---|\n",
       "| chr1_100006256_100006880 | chr1 | 100006256 | 100006880 |  624 | TAF15:K-562              | 1 | 1 | 1.0000000 |\n",
       "| chr1_10002087_10003910   | chr1 |  10002087 |  10003910 | 1823 | CBX2:K-562               | 1 | 6 | 0.1666667 |\n",
       "| chr1_10002087_10003910   | chr1 |  10002087 |  10003910 | 1823 | CBX8:K-562               | 1 | 6 | 0.1666667 |\n",
       "| chr1_10002087_10003910   | chr1 |  10002087 |  10003910 | 1823 | CEBPB:MCF-7,K-562,Hep-G2 | 1 | 6 | 0.1666667 |\n",
       "| chr1_10002087_10003910   | chr1 |  10002087 |  10003910 | 1823 | ETS1:K-562               | 1 | 6 | 0.1666667 |\n",
       "| chr1_10002087_10003910   | chr1 |  10002087 |  10003910 | 1823 | HINFP:K-562              | 1 | 6 | 0.1666667 |\n",
       "\n"
      ],
      "text/plain": [
       "  Peak                     Chrom Start     End       Len \n",
       "1 chr1_100006256_100006880 chr1  100006256 100006880  624\n",
       "2 chr1_10002087_10003910   chr1   10002087  10003910 1823\n",
       "3 chr1_10002087_10003910   chr1   10002087  10003910 1823\n",
       "4 chr1_10002087_10003910   chr1   10002087  10003910 1823\n",
       "5 chr1_10002087_10003910   chr1   10002087  10003910 1823\n",
       "6 chr1_10002087_10003910   chr1   10002087  10003910 1823\n",
       "  Name                     Count Total Freq     \n",
       "1 TAF15:K-562              1     1     1.0000000\n",
       "2 CBX2:K-562               1     6     0.1666667\n",
       "3 CBX8:K-562               1     6     0.1666667\n",
       "4 CEBPB:MCF-7,K-562,Hep-G2 1     6     0.1666667\n",
       "5 ETS1:K-562               1     6     0.1666667\n",
       "6 HINFP:K-562              1     6     0.1666667"
      ]
     },
     "metadata": {},
     "output_type": "display_data"
    }
   ],
   "source": [
    "### set file path\n",
    "fdiry = file.path(FD_RES, \"region\", \"KS91_K562_ASTARRseq_peak_macs\")\n",
    "fname = \"KS91_K562_hg38_ASTARRseq_Input.remap2022_nr.tsv\"\n",
    "fpath = file.path(fdiry, fname)\n",
    "\n",
    "### import data\n",
    "dat = read_tsv(fpath, show_col_types = FALSE)\n",
    "\n",
    "### assign\n",
    "dat_freq_remap = dat\n",
    "print(dim(dat))\n",
    "head(dat)"
   ]
  },
  {
   "cell_type": "code",
   "execution_count": 5,
   "id": "d406abc8",
   "metadata": {},
   "outputs": [
    {
     "data": {
      "text/html": [
       "<style>\n",
       ".list-inline {list-style: none; margin:0; padding: 0}\n",
       ".list-inline>li {display: inline-block}\n",
       ".list-inline>li:not(:last-child)::after {content: \"\\00b7\"; padding: 0 .5ex}\n",
       "</style>\n",
       "<ol class=list-inline><li>'TAF15:K-562'</li><li>'CBX2:K-562'</li><li>'CBX8:K-562'</li><li>'CEBPB:MCF-7,K-562,Hep-G2'</li><li>'ETS1:K-562'</li><li>'HINFP:K-562'</li></ol>\n"
      ],
      "text/latex": [
       "\\begin{enumerate*}\n",
       "\\item 'TAF15:K-562'\n",
       "\\item 'CBX2:K-562'\n",
       "\\item 'CBX8:K-562'\n",
       "\\item 'CEBPB:MCF-7,K-562,Hep-G2'\n",
       "\\item 'ETS1:K-562'\n",
       "\\item 'HINFP:K-562'\n",
       "\\end{enumerate*}\n"
      ],
      "text/markdown": [
       "1. 'TAF15:K-562'\n",
       "2. 'CBX2:K-562'\n",
       "3. 'CBX8:K-562'\n",
       "4. 'CEBPB:MCF-7,K-562,Hep-G2'\n",
       "5. 'ETS1:K-562'\n",
       "6. 'HINFP:K-562'\n",
       "\n",
       "\n"
      ],
      "text/plain": [
       "[1] \"TAF15:K-562\"              \"CBX2:K-562\"              \n",
       "[3] \"CBX8:K-562\"               \"CEBPB:MCF-7,K-562,Hep-G2\"\n",
       "[5] \"ETS1:K-562\"               \"HINFP:K-562\"             "
      ]
     },
     "metadata": {},
     "output_type": "display_data"
    }
   ],
   "source": [
    "bindings = unique(dat_freq_remap$Name)\n",
    "head(bindings)"
   ]
  },
  {
   "cell_type": "code",
   "execution_count": 6,
   "id": "88d553f1",
   "metadata": {},
   "outputs": [],
   "source": [
    "TFs = c(\"SP1\", \"GABP1\", \"ETS\", \"ELK1\", \"NRF1\", \"NFY\", \"GATA1\", \"NFE2\", \"KLF\", \"AP1\", \"FOS\", \"JUN\", \"YY1\", \"ATF\")"
   ]
  },
  {
   "cell_type": "code",
   "execution_count": 9,
   "id": "39255a34",
   "metadata": {},
   "outputs": [
    {
     "name": "stdout",
     "output_type": "stream",
     "text": [
      "[1] 398\n",
      "[1] \"SP1:GM12878,HEK293T,A-549,K-562,WA01,HCT-116,Hep-G2,A-375\"       \n",
      "[2] \"SP1:GM12878,HEK293T,HEK293,A-549,K-562,WA01,HCT-116,Hep-G2,A-375\"\n",
      "[3] \"SP1:A-549,K-562,GM12878,Hep-G2\"                                  \n",
      "[4] \"SP1:GM12878,HEK293T,HEK293,K-562,WA01,HCT-116,Hep-G2,A-375\"      \n",
      "[5] \"SP1:GM12878,HEK293T,K-562,WA01,Hep-G2\"                           \n",
      "[6] \"SP1:GM12878,HEK293T,A-549,K-562,WA01,Hep-G2,A-375\"               \n"
     ]
    }
   ],
   "source": [
    "idx = str_detect(bindings, \"SP1\")\n",
    "print(sum(idx))\n",
    "print(head(bindings[idx]))"
   ]
  },
  {
   "cell_type": "code",
   "execution_count": 11,
   "id": "7e7c7418",
   "metadata": {},
   "outputs": [],
   "source": [
    "lst = lapply(TFs, function(query){\n",
    "    idx = str_detect(bindings, query)\n",
    "    res = bindings[idx]\n",
    "    return(res)\n",
    "})"
   ]
  },
  {
   "cell_type": "code",
   "execution_count": 14,
   "id": "88e8814c",
   "metadata": {},
   "outputs": [
    {
     "data": {
      "text/html": [
       "<ol>\n",
       "\t<li><style>\n",
       ".list-inline {list-style: none; margin:0; padding: 0}\n",
       ".list-inline>li {display: inline-block}\n",
       ".list-inline>li:not(:last-child)::after {content: \"\\00b7\"; padding: 0 .5ex}\n",
       "</style>\n",
       "<ol class=list-inline><li>'SP1'</li><li>'398'</li></ol>\n",
       "</li>\n",
       "\t<li><style>\n",
       ".list-inline {list-style: none; margin:0; padding: 0}\n",
       ".list-inline>li {display: inline-block}\n",
       ".list-inline>li:not(:last-child)::after {content: \"\\00b7\"; padding: 0 .5ex}\n",
       "</style>\n",
       "<ol class=list-inline><li>'GABP1'</li><li>'0'</li></ol>\n",
       "</li>\n",
       "\t<li><style>\n",
       ".list-inline {list-style: none; margin:0; padding: 0}\n",
       ".list-inline>li {display: inline-block}\n",
       ".list-inline>li:not(:last-child)::after {content: \"\\00b7\"; padding: 0 .5ex}\n",
       "</style>\n",
       "<ol class=list-inline><li>'ETS'</li><li>'5886'</li></ol>\n",
       "</li>\n",
       "\t<li><style>\n",
       ".list-inline {list-style: none; margin:0; padding: 0}\n",
       ".list-inline>li {display: inline-block}\n",
       ".list-inline>li:not(:last-child)::after {content: \"\\00b7\"; padding: 0 .5ex}\n",
       "</style>\n",
       "<ol class=list-inline><li>'ELK1'</li><li>'59'</li></ol>\n",
       "</li>\n",
       "\t<li><style>\n",
       ".list-inline {list-style: none; margin:0; padding: 0}\n",
       ".list-inline>li {display: inline-block}\n",
       ".list-inline>li:not(:last-child)::after {content: \"\\00b7\"; padding: 0 .5ex}\n",
       "</style>\n",
       "<ol class=list-inline><li>'NRF1'</li><li>'1050'</li></ol>\n",
       "</li>\n",
       "\t<li><style>\n",
       ".list-inline {list-style: none; margin:0; padding: 0}\n",
       ".list-inline>li {display: inline-block}\n",
       ".list-inline>li:not(:last-child)::after {content: \"\\00b7\"; padding: 0 .5ex}\n",
       "</style>\n",
       "<ol class=list-inline><li>'NFY'</li><li>'31'</li></ol>\n",
       "</li>\n",
       "\t<li><style>\n",
       ".list-inline {list-style: none; margin:0; padding: 0}\n",
       ".list-inline>li {display: inline-block}\n",
       ".list-inline>li:not(:last-child)::after {content: \"\\00b7\"; padding: 0 .5ex}\n",
       "</style>\n",
       "<ol class=list-inline><li>'GATA1'</li><li>'71'</li></ol>\n",
       "</li>\n",
       "\t<li><style>\n",
       ".list-inline {list-style: none; margin:0; padding: 0}\n",
       ".list-inline>li {display: inline-block}\n",
       ".list-inline>li:not(:last-child)::after {content: \"\\00b7\"; padding: 0 .5ex}\n",
       "</style>\n",
       "<ol class=list-inline><li>'NFE2'</li><li>'148'</li></ol>\n",
       "</li>\n",
       "\t<li><style>\n",
       ".list-inline {list-style: none; margin:0; padding: 0}\n",
       ".list-inline>li {display: inline-block}\n",
       ".list-inline>li:not(:last-child)::after {content: \"\\00b7\"; padding: 0 .5ex}\n",
       "</style>\n",
       "<ol class=list-inline><li>'KLF'</li><li>'34'</li></ol>\n",
       "</li>\n",
       "\t<li><style>\n",
       ".list-inline {list-style: none; margin:0; padding: 0}\n",
       ".list-inline>li {display: inline-block}\n",
       ".list-inline>li:not(:last-child)::after {content: \"\\00b7\"; padding: 0 .5ex}\n",
       "</style>\n",
       "<ol class=list-inline><li>'AP1'</li><li>'57345'</li></ol>\n",
       "</li>\n",
       "\t<li><style>\n",
       ".list-inline {list-style: none; margin:0; padding: 0}\n",
       ".list-inline>li {display: inline-block}\n",
       ".list-inline>li:not(:last-child)::after {content: \"\\00b7\"; padding: 0 .5ex}\n",
       "</style>\n",
       "<ol class=list-inline><li>'FOS'</li><li>'3735'</li></ol>\n",
       "</li>\n",
       "\t<li><style>\n",
       ".list-inline {list-style: none; margin:0; padding: 0}\n",
       ".list-inline>li {display: inline-block}\n",
       ".list-inline>li:not(:last-child)::after {content: \"\\00b7\"; padding: 0 .5ex}\n",
       "</style>\n",
       "<ol class=list-inline><li>'JUN'</li><li>'14390'</li></ol>\n",
       "</li>\n",
       "\t<li><style>\n",
       ".list-inline {list-style: none; margin:0; padding: 0}\n",
       ".list-inline>li {display: inline-block}\n",
       ".list-inline>li:not(:last-child)::after {content: \"\\00b7\"; padding: 0 .5ex}\n",
       "</style>\n",
       "<ol class=list-inline><li>'YY1'</li><li>'12259'</li></ol>\n",
       "</li>\n",
       "\t<li><style>\n",
       ".list-inline {list-style: none; margin:0; padding: 0}\n",
       ".list-inline>li {display: inline-block}\n",
       ".list-inline>li:not(:last-child)::after {content: \"\\00b7\"; padding: 0 .5ex}\n",
       "</style>\n",
       "<ol class=list-inline><li>'ATF'</li><li>'281'</li></ol>\n",
       "</li>\n",
       "</ol>\n"
      ],
      "text/latex": [
       "\\begin{enumerate}\n",
       "\\item \\begin{enumerate*}\n",
       "\\item 'SP1'\n",
       "\\item '398'\n",
       "\\end{enumerate*}\n",
       "\n",
       "\\item \\begin{enumerate*}\n",
       "\\item 'GABP1'\n",
       "\\item '0'\n",
       "\\end{enumerate*}\n",
       "\n",
       "\\item \\begin{enumerate*}\n",
       "\\item 'ETS'\n",
       "\\item '5886'\n",
       "\\end{enumerate*}\n",
       "\n",
       "\\item \\begin{enumerate*}\n",
       "\\item 'ELK1'\n",
       "\\item '59'\n",
       "\\end{enumerate*}\n",
       "\n",
       "\\item \\begin{enumerate*}\n",
       "\\item 'NRF1'\n",
       "\\item '1050'\n",
       "\\end{enumerate*}\n",
       "\n",
       "\\item \\begin{enumerate*}\n",
       "\\item 'NFY'\n",
       "\\item '31'\n",
       "\\end{enumerate*}\n",
       "\n",
       "\\item \\begin{enumerate*}\n",
       "\\item 'GATA1'\n",
       "\\item '71'\n",
       "\\end{enumerate*}\n",
       "\n",
       "\\item \\begin{enumerate*}\n",
       "\\item 'NFE2'\n",
       "\\item '148'\n",
       "\\end{enumerate*}\n",
       "\n",
       "\\item \\begin{enumerate*}\n",
       "\\item 'KLF'\n",
       "\\item '34'\n",
       "\\end{enumerate*}\n",
       "\n",
       "\\item \\begin{enumerate*}\n",
       "\\item 'AP1'\n",
       "\\item '57345'\n",
       "\\end{enumerate*}\n",
       "\n",
       "\\item \\begin{enumerate*}\n",
       "\\item 'FOS'\n",
       "\\item '3735'\n",
       "\\end{enumerate*}\n",
       "\n",
       "\\item \\begin{enumerate*}\n",
       "\\item 'JUN'\n",
       "\\item '14390'\n",
       "\\end{enumerate*}\n",
       "\n",
       "\\item \\begin{enumerate*}\n",
       "\\item 'YY1'\n",
       "\\item '12259'\n",
       "\\end{enumerate*}\n",
       "\n",
       "\\item \\begin{enumerate*}\n",
       "\\item 'ATF'\n",
       "\\item '281'\n",
       "\\end{enumerate*}\n",
       "\n",
       "\\end{enumerate}\n"
      ],
      "text/markdown": [
       "1. 1. 'SP1'\n",
       "2. '398'\n",
       "\n",
       "\n",
       "\n",
       "2. 1. 'GABP1'\n",
       "2. '0'\n",
       "\n",
       "\n",
       "\n",
       "3. 1. 'ETS'\n",
       "2. '5886'\n",
       "\n",
       "\n",
       "\n",
       "4. 1. 'ELK1'\n",
       "2. '59'\n",
       "\n",
       "\n",
       "\n",
       "5. 1. 'NRF1'\n",
       "2. '1050'\n",
       "\n",
       "\n",
       "\n",
       "6. 1. 'NFY'\n",
       "2. '31'\n",
       "\n",
       "\n",
       "\n",
       "7. 1. 'GATA1'\n",
       "2. '71'\n",
       "\n",
       "\n",
       "\n",
       "8. 1. 'NFE2'\n",
       "2. '148'\n",
       "\n",
       "\n",
       "\n",
       "9. 1. 'KLF'\n",
       "2. '34'\n",
       "\n",
       "\n",
       "\n",
       "10. 1. 'AP1'\n",
       "2. '57345'\n",
       "\n",
       "\n",
       "\n",
       "11. 1. 'FOS'\n",
       "2. '3735'\n",
       "\n",
       "\n",
       "\n",
       "12. 1. 'JUN'\n",
       "2. '14390'\n",
       "\n",
       "\n",
       "\n",
       "13. 1. 'YY1'\n",
       "2. '12259'\n",
       "\n",
       "\n",
       "\n",
       "14. 1. 'ATF'\n",
       "2. '281'\n",
       "\n",
       "\n",
       "\n",
       "\n",
       "\n"
      ],
      "text/plain": [
       "[[1]]\n",
       "[1] \"SP1\" \"398\"\n",
       "\n",
       "[[2]]\n",
       "[1] \"GABP1\" \"0\"    \n",
       "\n",
       "[[3]]\n",
       "[1] \"ETS\"  \"5886\"\n",
       "\n",
       "[[4]]\n",
       "[1] \"ELK1\" \"59\"  \n",
       "\n",
       "[[5]]\n",
       "[1] \"NRF1\" \"1050\"\n",
       "\n",
       "[[6]]\n",
       "[1] \"NFY\" \"31\" \n",
       "\n",
       "[[7]]\n",
       "[1] \"GATA1\" \"71\"   \n",
       "\n",
       "[[8]]\n",
       "[1] \"NFE2\" \"148\" \n",
       "\n",
       "[[9]]\n",
       "[1] \"KLF\" \"34\" \n",
       "\n",
       "[[10]]\n",
       "[1] \"AP1\"   \"57345\"\n",
       "\n",
       "[[11]]\n",
       "[1] \"FOS\"  \"3735\"\n",
       "\n",
       "[[12]]\n",
       "[1] \"JUN\"   \"14390\"\n",
       "\n",
       "[[13]]\n",
       "[1] \"YY1\"   \"12259\"\n",
       "\n",
       "[[14]]\n",
       "[1] \"ATF\" \"281\"\n"
      ]
     },
     "metadata": {},
     "output_type": "display_data"
    }
   ],
   "source": [
    "lapply(seq_along(lst), function(idx){c(TFs[idx], length(lst[[idx]]))})"
   ]
  },
  {
   "cell_type": "code",
   "execution_count": null,
   "id": "8c0314e7",
   "metadata": {},
   "outputs": [],
   "source": []
  }
 ],
 "metadata": {
  "kernelspec": {
   "display_name": "R",
   "language": "R",
   "name": "ir"
  },
  "language_info": {
   "codemirror_mode": "r",
   "file_extension": ".r",
   "mimetype": "text/x-r-source",
   "name": "R",
   "pygments_lexer": "r",
   "version": "4.2.2"
  }
 },
 "nbformat": 4,
 "nbformat_minor": 5
}
