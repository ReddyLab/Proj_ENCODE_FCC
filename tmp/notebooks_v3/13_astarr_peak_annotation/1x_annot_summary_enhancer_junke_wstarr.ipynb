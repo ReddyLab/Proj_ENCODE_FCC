{
 "cells": [
  {
   "cell_type": "markdown",
   "id": "fb3f7815",
   "metadata": {},
   "source": [
    "# Enhancer WSTARR\n",
    "\n",
    "**Set environment**"
   ]
  },
  {
   "cell_type": "code",
   "execution_count": 1,
   "id": "69fae801",
   "metadata": {},
   "outputs": [
    {
     "name": "stdout",
     "output_type": "stream",
     "text": [
      "You are in Singularity: singularity_proj_combeffect \n",
      "BASE DIRECTORY:     /data/reddylab/Kuei \n",
      "WORK DIRECTORY:     /data/reddylab/Kuei/out \n",
      "CODE DIRECTORY:     /data/reddylab/Kuei/code \n",
      "PATH OF SOURCE:     /data/reddylab/Kuei/source \n",
      "PATH OF EXECUTABLE: /data/reddylab/Kuei/bin \n",
      "PATH OF ANNOTATION: /data/reddylab/Kuei/annotation \n",
      "PATH OF PROJECT:    /data/reddylab/Kuei/code/Proj_CombEffect_ENCODE_FCC \n",
      "PATH OF RESULTS:    /data/reddylab/Kuei/out/proj_combeffect_encode_fcc \n"
     ]
    }
   ],
   "source": [
    "suppressMessages(suppressWarnings(source(\"../config/config_sing.R\")))\n",
    "show_env()"
   ]
  },
  {
   "cell_type": "code",
   "execution_count": 2,
   "id": "f17dcf0d",
   "metadata": {},
   "outputs": [
    {
     "name": "stdout",
     "output_type": "stream",
     "text": [
      " [1] \"KS91_K562_hg38_ASTARRseq_Input.all_reps.masked.union_narrowPeak.q5.bed\"                              \n",
      " [2] \"KS91_K562_hg38_ASTARRseq_Input.all_reps.masked.union_narrowPeak.q5.ccre_all.bed.gz\"                  \n",
      " [3] \"KS91_K562_hg38_ASTARRseq_Input.all_reps.masked.union_narrowPeak.q5.enhancer_junke_peak_astarr.bed.gz\"\n",
      " [4] \"KS91_K562_hg38_ASTARRseq_Input.all_reps.masked.union_narrowPeak.q5.enhancer_junke_peak_wstarr.bed.gz\"\n",
      " [5] \"KS91_K562_hg38_ASTARRseq_Input.all_reps.masked.union_narrowPeak.q5.gencode_v24_tss.bed.gz\"           \n",
      " [6] \"KS91_K562_hg38_ASTARRseq_Input.all_reps.masked.union_narrowPeak.q5.nuc.bed.gz\"                       \n",
      " [7] \"KS91_K562_hg38_ASTARRseq_Input.all_reps.masked.union_narrowPeak.q5.remap2022_nr.bed.gz\"              \n",
      " [8] \"KS91_K562_hg38_ASTARRseq_Input.ccre_all.freq.tsv\"                                                    \n",
      " [9] \"KS91_K562_hg38_ASTARRseq_Input.count.ccre_all.tsv\"                                                   \n",
      "[10] \"KS91_K562_hg38_ASTARRseq_Input.count.enhnacer_junke_peak_astarr.tsv\"                                 \n",
      "[11] \"KS91_K562_hg38_ASTARRseq_Input.count.gencode_v24_tss.tsv\"                                            \n",
      "[12] \"KS91_K562_hg38_ASTARRseq_Input.remap2022_nr.tsv\"                                                     \n"
     ]
    }
   ],
   "source": [
    "fdiry = file.path(FD_RES, \"region\", \"KS91_K562_ASTARRseq_peak_macs\")\n",
    "print(dir(fdiry))"
   ]
  },
  {
   "cell_type": "code",
   "execution_count": 4,
   "id": "5ef04158",
   "metadata": {},
   "outputs": [
    {
     "name": "stdout",
     "output_type": "stream",
     "text": [
      "[1] 38216     9\n"
     ]
    },
    {
     "data": {
      "text/html": [
       "<table class=\"dataframe\">\n",
       "<caption>A tibble: 6 × 9</caption>\n",
       "<thead>\n",
       "\t<tr><th scope=col>Chrom</th><th scope=col>Start</th><th scope=col>End</th><th scope=col>Chrom_Enhancer</th><th scope=col>Start_Enhancer</th><th scope=col>End_Enhancer</th><th scope=col>Overlap</th><th scope=col>Peak</th><th scope=col>Enhancer</th></tr>\n",
       "\t<tr><th scope=col>&lt;chr&gt;</th><th scope=col>&lt;dbl&gt;</th><th scope=col>&lt;dbl&gt;</th><th scope=col>&lt;chr&gt;</th><th scope=col>&lt;dbl&gt;</th><th scope=col>&lt;dbl&gt;</th><th scope=col>&lt;dbl&gt;</th><th scope=col>&lt;chr&gt;</th><th scope=col>&lt;chr&gt;</th></tr>\n",
       "</thead>\n",
       "<tbody>\n",
       "\t<tr><td>chr1</td><td>777949</td><td>779437</td><td>chr1</td><td>778410</td><td>778450</td><td> 40</td><td>chr1_777949_779437</td><td>chr1_778410_778450</td></tr>\n",
       "\t<tr><td>chr1</td><td>777949</td><td>779437</td><td>chr1</td><td>778460</td><td>778820</td><td>360</td><td>chr1_777949_779437</td><td>chr1_778460_778820</td></tr>\n",
       "\t<tr><td>chr1</td><td>777949</td><td>779437</td><td>chr1</td><td>778830</td><td>778860</td><td> 30</td><td>chr1_777949_779437</td><td>chr1_778830_778860</td></tr>\n",
       "\t<tr><td>chr1</td><td>777949</td><td>779437</td><td>chr1</td><td>778870</td><td>779090</td><td>220</td><td>chr1_777949_779437</td><td>chr1_778870_779090</td></tr>\n",
       "\t<tr><td>chr1</td><td>818602</td><td>819380</td><td>chr1</td><td>818900</td><td>818920</td><td> 20</td><td>chr1_818602_819380</td><td>chr1_818900_818920</td></tr>\n",
       "\t<tr><td>chr1</td><td>818602</td><td>819380</td><td>chr1</td><td>818940</td><td>818960</td><td> 20</td><td>chr1_818602_819380</td><td>chr1_818940_818960</td></tr>\n",
       "</tbody>\n",
       "</table>\n"
      ],
      "text/latex": [
       "A tibble: 6 × 9\n",
       "\\begin{tabular}{lllllllll}\n",
       " Chrom & Start & End & Chrom\\_Enhancer & Start\\_Enhancer & End\\_Enhancer & Overlap & Peak & Enhancer\\\\\n",
       " <chr> & <dbl> & <dbl> & <chr> & <dbl> & <dbl> & <dbl> & <chr> & <chr>\\\\\n",
       "\\hline\n",
       "\t chr1 & 777949 & 779437 & chr1 & 778410 & 778450 &  40 & chr1\\_777949\\_779437 & chr1\\_778410\\_778450\\\\\n",
       "\t chr1 & 777949 & 779437 & chr1 & 778460 & 778820 & 360 & chr1\\_777949\\_779437 & chr1\\_778460\\_778820\\\\\n",
       "\t chr1 & 777949 & 779437 & chr1 & 778830 & 778860 &  30 & chr1\\_777949\\_779437 & chr1\\_778830\\_778860\\\\\n",
       "\t chr1 & 777949 & 779437 & chr1 & 778870 & 779090 & 220 & chr1\\_777949\\_779437 & chr1\\_778870\\_779090\\\\\n",
       "\t chr1 & 818602 & 819380 & chr1 & 818900 & 818920 &  20 & chr1\\_818602\\_819380 & chr1\\_818900\\_818920\\\\\n",
       "\t chr1 & 818602 & 819380 & chr1 & 818940 & 818960 &  20 & chr1\\_818602\\_819380 & chr1\\_818940\\_818960\\\\\n",
       "\\end{tabular}\n"
      ],
      "text/markdown": [
       "\n",
       "A tibble: 6 × 9\n",
       "\n",
       "| Chrom &lt;chr&gt; | Start &lt;dbl&gt; | End &lt;dbl&gt; | Chrom_Enhancer &lt;chr&gt; | Start_Enhancer &lt;dbl&gt; | End_Enhancer &lt;dbl&gt; | Overlap &lt;dbl&gt; | Peak &lt;chr&gt; | Enhancer &lt;chr&gt; |\n",
       "|---|---|---|---|---|---|---|---|---|\n",
       "| chr1 | 777949 | 779437 | chr1 | 778410 | 778450 |  40 | chr1_777949_779437 | chr1_778410_778450 |\n",
       "| chr1 | 777949 | 779437 | chr1 | 778460 | 778820 | 360 | chr1_777949_779437 | chr1_778460_778820 |\n",
       "| chr1 | 777949 | 779437 | chr1 | 778830 | 778860 |  30 | chr1_777949_779437 | chr1_778830_778860 |\n",
       "| chr1 | 777949 | 779437 | chr1 | 778870 | 779090 | 220 | chr1_777949_779437 | chr1_778870_779090 |\n",
       "| chr1 | 818602 | 819380 | chr1 | 818900 | 818920 |  20 | chr1_818602_819380 | chr1_818900_818920 |\n",
       "| chr1 | 818602 | 819380 | chr1 | 818940 | 818960 |  20 | chr1_818602_819380 | chr1_818940_818960 |\n",
       "\n"
      ],
      "text/plain": [
       "  Chrom Start  End    Chrom_Enhancer Start_Enhancer End_Enhancer Overlap\n",
       "1 chr1  777949 779437 chr1           778410         778450        40    \n",
       "2 chr1  777949 779437 chr1           778460         778820       360    \n",
       "3 chr1  777949 779437 chr1           778830         778860        30    \n",
       "4 chr1  777949 779437 chr1           778870         779090       220    \n",
       "5 chr1  818602 819380 chr1           818900         818920        20    \n",
       "6 chr1  818602 819380 chr1           818940         818960        20    \n",
       "  Peak               Enhancer          \n",
       "1 chr1_777949_779437 chr1_778410_778450\n",
       "2 chr1_777949_779437 chr1_778460_778820\n",
       "3 chr1_777949_779437 chr1_778830_778860\n",
       "4 chr1_777949_779437 chr1_778870_779090\n",
       "5 chr1_818602_819380 chr1_818900_818920\n",
       "6 chr1_818602_819380 chr1_818940_818960"
      ]
     },
     "metadata": {},
     "output_type": "display_data"
    }
   ],
   "source": [
    "### set file path\n",
    "fdiry = file.path(FD_RES, \"region\", \"KS91_K562_ASTARRseq_peak_macs\")\n",
    "fname = \"KS91_K562_hg38_ASTARRseq_Input.all_reps.masked.union_narrowPeak.q5.enhancer_junke_peak_wstarr.bed.gz\"\n",
    "fpath = file.path(fdiry, fname)\n",
    "\n",
    "\n",
    "### import data\n",
    "cnames = c(\"Chrom\", \"Start\", \"End\",\n",
    "           \"Chrom_Enhancer\", \"Start_Enhancer\", \"End_Enhancer\",\n",
    "           \"Overlap\")\n",
    "dat = read_tsv(fpath, col_names = cnames, show_col_types = FALSE)\n",
    "dat = dat %>% mutate(\n",
    "    Peak     = paste(Chrom, Start, End, sep=\"_\"),\n",
    "    Enhancer = paste(Chrom_Enhancer, Start_Enhancer, End_Enhancer, sep=\"_\"),\n",
    ")\n",
    "\n",
    "### assign\n",
    "dat_peak_annot_enhancer_wstarr = dat\n",
    "print(dim(dat))\n",
    "head(dat)"
   ]
  },
  {
   "cell_type": "code",
   "execution_count": 5,
   "id": "db220308",
   "metadata": {},
   "outputs": [
    {
     "name": "stdout",
     "output_type": "stream",
     "text": [
      "[1] 20688     4\n"
     ]
    },
    {
     "data": {
      "text/html": [
       "<table class=\"dataframe\">\n",
       "<caption>A tibble: 6 × 4</caption>\n",
       "<thead>\n",
       "\t<tr><th scope=col>Peak</th><th scope=col>Name</th><th scope=col>Count</th><th scope=col>Annotate</th></tr>\n",
       "\t<tr><th scope=col>&lt;chr&gt;</th><th scope=col>&lt;chr&gt;</th><th scope=col>&lt;int&gt;</th><th scope=col>&lt;chr&gt;</th></tr>\n",
       "</thead>\n",
       "<tbody>\n",
       "\t<tr><td>chr1_100036871_100039191</td><td>Enhancer_WSTARR</td><td>3</td><td>chr1_100037860_100037890,chr1_100038040_100038330,chr1_100038340_100038360</td></tr>\n",
       "\t<tr><td>chr1_100132370_100133575</td><td>Enhancer_WSTARR</td><td>2</td><td>chr1_100132760_100132980,chr1_100133020_100133340                         </td></tr>\n",
       "\t<tr><td>chr1_100265529_100267006</td><td>Enhancer_WSTARR</td><td>2</td><td>chr1_100266060_100266090,chr1_100266100_100266240                         </td></tr>\n",
       "\t<tr><td>chr1_10032426_10033768  </td><td>Enhancer_WSTARR</td><td>2</td><td>chr1_10032730_10033020,chr1_10033200_10033250                             </td></tr>\n",
       "\t<tr><td>chr1_1006485_1006802    </td><td>Enhancer_WSTARR</td><td>1</td><td>chr1_1006380_1006740                                                      </td></tr>\n",
       "\t<tr><td>chr1_100682254_100682739</td><td>Enhancer_WSTARR</td><td>2</td><td>chr1_100682420_100682440,chr1_100682460_100682480                         </td></tr>\n",
       "</tbody>\n",
       "</table>\n"
      ],
      "text/latex": [
       "A tibble: 6 × 4\n",
       "\\begin{tabular}{llll}\n",
       " Peak & Name & Count & Annotate\\\\\n",
       " <chr> & <chr> & <int> & <chr>\\\\\n",
       "\\hline\n",
       "\t chr1\\_100036871\\_100039191 & Enhancer\\_WSTARR & 3 & chr1\\_100037860\\_100037890,chr1\\_100038040\\_100038330,chr1\\_100038340\\_100038360\\\\\n",
       "\t chr1\\_100132370\\_100133575 & Enhancer\\_WSTARR & 2 & chr1\\_100132760\\_100132980,chr1\\_100133020\\_100133340                         \\\\\n",
       "\t chr1\\_100265529\\_100267006 & Enhancer\\_WSTARR & 2 & chr1\\_100266060\\_100266090,chr1\\_100266100\\_100266240                         \\\\\n",
       "\t chr1\\_10032426\\_10033768   & Enhancer\\_WSTARR & 2 & chr1\\_10032730\\_10033020,chr1\\_10033200\\_10033250                             \\\\\n",
       "\t chr1\\_1006485\\_1006802     & Enhancer\\_WSTARR & 1 & chr1\\_1006380\\_1006740                                                      \\\\\n",
       "\t chr1\\_100682254\\_100682739 & Enhancer\\_WSTARR & 2 & chr1\\_100682420\\_100682440,chr1\\_100682460\\_100682480                         \\\\\n",
       "\\end{tabular}\n"
      ],
      "text/markdown": [
       "\n",
       "A tibble: 6 × 4\n",
       "\n",
       "| Peak &lt;chr&gt; | Name &lt;chr&gt; | Count &lt;int&gt; | Annotate &lt;chr&gt; |\n",
       "|---|---|---|---|\n",
       "| chr1_100036871_100039191 | Enhancer_WSTARR | 3 | chr1_100037860_100037890,chr1_100038040_100038330,chr1_100038340_100038360 |\n",
       "| chr1_100132370_100133575 | Enhancer_WSTARR | 2 | chr1_100132760_100132980,chr1_100133020_100133340                          |\n",
       "| chr1_100265529_100267006 | Enhancer_WSTARR | 2 | chr1_100266060_100266090,chr1_100266100_100266240                          |\n",
       "| chr1_10032426_10033768   | Enhancer_WSTARR | 2 | chr1_10032730_10033020,chr1_10033200_10033250                              |\n",
       "| chr1_1006485_1006802     | Enhancer_WSTARR | 1 | chr1_1006380_1006740                                                       |\n",
       "| chr1_100682254_100682739 | Enhancer_WSTARR | 2 | chr1_100682420_100682440,chr1_100682460_100682480                          |\n",
       "\n"
      ],
      "text/plain": [
       "  Peak                     Name            Count\n",
       "1 chr1_100036871_100039191 Enhancer_WSTARR 3    \n",
       "2 chr1_100132370_100133575 Enhancer_WSTARR 2    \n",
       "3 chr1_100265529_100267006 Enhancer_WSTARR 2    \n",
       "4 chr1_10032426_10033768   Enhancer_WSTARR 2    \n",
       "5 chr1_1006485_1006802     Enhancer_WSTARR 1    \n",
       "6 chr1_100682254_100682739 Enhancer_WSTARR 2    \n",
       "  Annotate                                                                  \n",
       "1 chr1_100037860_100037890,chr1_100038040_100038330,chr1_100038340_100038360\n",
       "2 chr1_100132760_100132980,chr1_100133020_100133340                         \n",
       "3 chr1_100266060_100266090,chr1_100266100_100266240                         \n",
       "4 chr1_10032730_10033020,chr1_10033200_10033250                             \n",
       "5 chr1_1006380_1006740                                                      \n",
       "6 chr1_100682420_100682440,chr1_100682460_100682480                         "
      ]
     },
     "metadata": {},
     "output_type": "display_data"
    }
   ],
   "source": [
    "###\n",
    "dat = dat_peak_annot_enhancer_wstarr\n",
    "dat = dat %>% \n",
    "    group_by(Peak) %>% \n",
    "    summarize(\n",
    "        Name = \"Enhancer_WSTARR\",\n",
    "        Count = n(), \n",
    "        Annotate = paste(Enhancer, collapse = \",\"),\n",
    "        .groups=\"drop\")\n",
    "\n",
    "###\n",
    "dat_peak_count_enhancer_wstarr = dat\n",
    "print(dim(dat))\n",
    "head(dat)"
   ]
  },
  {
   "cell_type": "code",
   "execution_count": 7,
   "id": "99a6020b",
   "metadata": {},
   "outputs": [],
   "source": [
    "fdiry = file.path(FD_RES, \"region\", \"KS91_K562_ASTARRseq_peak_macs\")\n",
    "fname = \"KS91_K562_hg38_ASTARRseq_Input.count.enhancer_junke_peak_wstarr.tsv\"\n",
    "fpath = file.path(fdiry, fname)\n",
    "\n",
    "write_tsv(dat_peak_count_enhancer_wstarr, fpath)"
   ]
  },
  {
   "cell_type": "code",
   "execution_count": null,
   "id": "374f7fa1",
   "metadata": {},
   "outputs": [],
   "source": []
  },
  {
   "cell_type": "code",
   "execution_count": null,
   "id": "e92fb816",
   "metadata": {},
   "outputs": [],
   "source": []
  },
  {
   "cell_type": "code",
   "execution_count": null,
   "id": "17850d2d",
   "metadata": {},
   "outputs": [],
   "source": []
  },
  {
   "cell_type": "code",
   "execution_count": null,
   "id": "a4df2a24",
   "metadata": {},
   "outputs": [],
   "source": []
  },
  {
   "cell_type": "code",
   "execution_count": null,
   "id": "8dba645c",
   "metadata": {},
   "outputs": [],
   "source": []
  },
  {
   "cell_type": "code",
   "execution_count": null,
   "id": "e6200715",
   "metadata": {},
   "outputs": [],
   "source": []
  },
  {
   "cell_type": "code",
   "execution_count": null,
   "id": "1ed8388b",
   "metadata": {},
   "outputs": [],
   "source": []
  },
  {
   "cell_type": "code",
   "execution_count": null,
   "id": "0b40d6c0",
   "metadata": {},
   "outputs": [],
   "source": []
  },
  {
   "cell_type": "code",
   "execution_count": null,
   "id": "a46f6bf3",
   "metadata": {},
   "outputs": [],
   "source": []
  },
  {
   "cell_type": "code",
   "execution_count": null,
   "id": "9d478c38",
   "metadata": {},
   "outputs": [],
   "source": []
  },
  {
   "cell_type": "code",
   "execution_count": null,
   "id": "66afc967",
   "metadata": {},
   "outputs": [],
   "source": []
  },
  {
   "cell_type": "code",
   "execution_count": null,
   "id": "7bfc5c6f",
   "metadata": {},
   "outputs": [],
   "source": []
  },
  {
   "cell_type": "code",
   "execution_count": null,
   "id": "e4cc9572",
   "metadata": {},
   "outputs": [],
   "source": []
  },
  {
   "cell_type": "code",
   "execution_count": null,
   "id": "94d0b16f",
   "metadata": {},
   "outputs": [],
   "source": []
  },
  {
   "cell_type": "code",
   "execution_count": 9,
   "id": "128c21eb",
   "metadata": {},
   "outputs": [
    {
     "name": "stdout",
     "output_type": "stream",
     "text": [
      "[1] 30725     9\n"
     ]
    },
    {
     "data": {
      "text/html": [
       "<table class=\"dataframe\">\n",
       "<caption>A tibble: 6 × 9</caption>\n",
       "<thead>\n",
       "\t<tr><th scope=col>Chrom</th><th scope=col>Start</th><th scope=col>End</th><th scope=col>Chrom_Enhancer</th><th scope=col>Start_Enhancer</th><th scope=col>End_Enhancer</th><th scope=col>Overlap</th><th scope=col>Peak</th><th scope=col>Enhancer</th></tr>\n",
       "\t<tr><th scope=col>&lt;chr&gt;</th><th scope=col>&lt;dbl&gt;</th><th scope=col>&lt;dbl&gt;</th><th scope=col>&lt;chr&gt;</th><th scope=col>&lt;dbl&gt;</th><th scope=col>&lt;dbl&gt;</th><th scope=col>&lt;dbl&gt;</th><th scope=col>&lt;chr&gt;</th><th scope=col>&lt;chr&gt;</th></tr>\n",
       "</thead>\n",
       "<tbody>\n",
       "\t<tr><td>chr1</td><td>115411</td><td>115986</td><td>chr1</td><td>115570</td><td>115690</td><td>120</td><td>chr1_115411_115986</td><td>chr1_115570_115690</td></tr>\n",
       "\t<tr><td>chr1</td><td>605090</td><td>605823</td><td>chr1</td><td>605280</td><td>605300</td><td> 20</td><td>chr1_605090_605823</td><td>chr1_605280_605300</td></tr>\n",
       "\t<tr><td>chr1</td><td>605090</td><td>605823</td><td>chr1</td><td>605330</td><td>605340</td><td> 10</td><td>chr1_605090_605823</td><td>chr1_605330_605340</td></tr>\n",
       "\t<tr><td>chr1</td><td>605090</td><td>605823</td><td>chr1</td><td>605350</td><td>605370</td><td> 20</td><td>chr1_605090_605823</td><td>chr1_605350_605370</td></tr>\n",
       "\t<tr><td>chr1</td><td>605090</td><td>605823</td><td>chr1</td><td>605440</td><td>605480</td><td> 40</td><td>chr1_605090_605823</td><td>chr1_605440_605480</td></tr>\n",
       "\t<tr><td>chr1</td><td>777949</td><td>779437</td><td>chr1</td><td>778380</td><td>778500</td><td>120</td><td>chr1_777949_779437</td><td>chr1_778380_778500</td></tr>\n",
       "</tbody>\n",
       "</table>\n"
      ],
      "text/latex": [
       "A tibble: 6 × 9\n",
       "\\begin{tabular}{lllllllll}\n",
       " Chrom & Start & End & Chrom\\_Enhancer & Start\\_Enhancer & End\\_Enhancer & Overlap & Peak & Enhancer\\\\\n",
       " <chr> & <dbl> & <dbl> & <chr> & <dbl> & <dbl> & <dbl> & <chr> & <chr>\\\\\n",
       "\\hline\n",
       "\t chr1 & 115411 & 115986 & chr1 & 115570 & 115690 & 120 & chr1\\_115411\\_115986 & chr1\\_115570\\_115690\\\\\n",
       "\t chr1 & 605090 & 605823 & chr1 & 605280 & 605300 &  20 & chr1\\_605090\\_605823 & chr1\\_605280\\_605300\\\\\n",
       "\t chr1 & 605090 & 605823 & chr1 & 605330 & 605340 &  10 & chr1\\_605090\\_605823 & chr1\\_605330\\_605340\\\\\n",
       "\t chr1 & 605090 & 605823 & chr1 & 605350 & 605370 &  20 & chr1\\_605090\\_605823 & chr1\\_605350\\_605370\\\\\n",
       "\t chr1 & 605090 & 605823 & chr1 & 605440 & 605480 &  40 & chr1\\_605090\\_605823 & chr1\\_605440\\_605480\\\\\n",
       "\t chr1 & 777949 & 779437 & chr1 & 778380 & 778500 & 120 & chr1\\_777949\\_779437 & chr1\\_778380\\_778500\\\\\n",
       "\\end{tabular}\n"
      ],
      "text/markdown": [
       "\n",
       "A tibble: 6 × 9\n",
       "\n",
       "| Chrom &lt;chr&gt; | Start &lt;dbl&gt; | End &lt;dbl&gt; | Chrom_Enhancer &lt;chr&gt; | Start_Enhancer &lt;dbl&gt; | End_Enhancer &lt;dbl&gt; | Overlap &lt;dbl&gt; | Peak &lt;chr&gt; | Enhancer &lt;chr&gt; |\n",
       "|---|---|---|---|---|---|---|---|---|\n",
       "| chr1 | 115411 | 115986 | chr1 | 115570 | 115690 | 120 | chr1_115411_115986 | chr1_115570_115690 |\n",
       "| chr1 | 605090 | 605823 | chr1 | 605280 | 605300 |  20 | chr1_605090_605823 | chr1_605280_605300 |\n",
       "| chr1 | 605090 | 605823 | chr1 | 605330 | 605340 |  10 | chr1_605090_605823 | chr1_605330_605340 |\n",
       "| chr1 | 605090 | 605823 | chr1 | 605350 | 605370 |  20 | chr1_605090_605823 | chr1_605350_605370 |\n",
       "| chr1 | 605090 | 605823 | chr1 | 605440 | 605480 |  40 | chr1_605090_605823 | chr1_605440_605480 |\n",
       "| chr1 | 777949 | 779437 | chr1 | 778380 | 778500 | 120 | chr1_777949_779437 | chr1_778380_778500 |\n",
       "\n"
      ],
      "text/plain": [
       "  Chrom Start  End    Chrom_Enhancer Start_Enhancer End_Enhancer Overlap\n",
       "1 chr1  115411 115986 chr1           115570         115690       120    \n",
       "2 chr1  605090 605823 chr1           605280         605300        20    \n",
       "3 chr1  605090 605823 chr1           605330         605340        10    \n",
       "4 chr1  605090 605823 chr1           605350         605370        20    \n",
       "5 chr1  605090 605823 chr1           605440         605480        40    \n",
       "6 chr1  777949 779437 chr1           778380         778500       120    \n",
       "  Peak               Enhancer          \n",
       "1 chr1_115411_115986 chr1_115570_115690\n",
       "2 chr1_605090_605823 chr1_605280_605300\n",
       "3 chr1_605090_605823 chr1_605330_605340\n",
       "4 chr1_605090_605823 chr1_605350_605370\n",
       "5 chr1_605090_605823 chr1_605440_605480\n",
       "6 chr1_777949_779437 chr1_778380_778500"
      ]
     },
     "metadata": {},
     "output_type": "display_data"
    }
   ],
   "source": [
    "### set file path\n",
    "fdiry = file.path(FD_RES, \"region\", \"KS91_K562_ASTARRseq_peak_macs\")\n",
    "fname = \"KS91_K562_hg38_ASTARRseq_Input.all_reps.masked.union_narrowPeak.q5.enhancer_junke_peak_astarr.bed.gz\"\n",
    "fpath = file.path(fdiry, fname)\n",
    "\n",
    "\n",
    "### import data\n",
    "cnames = c(\"Chrom\", \"Start\", \"End\",\n",
    "           \"Chrom_Enhancer\", \"Start_Enhancer\", \"End_Enhancer\",\n",
    "           \"Overlap\")\n",
    "dat = read_tsv(fpath, col_names = cnames, show_col_types = FALSE)\n",
    "dat = dat %>% mutate(\n",
    "    Peak     = paste(Chrom, Start, End, sep=\"_\"),\n",
    "    Enhancer = paste(Chrom_Enhancer, Start_Enhancer, End_Enhancer, sep=\"_\"),\n",
    ")\n",
    "\n",
    "### assign\n",
    "dat_peak_annot_enhancer_astarr = dat\n",
    "print(dim(dat))\n",
    "head(dat)"
   ]
  },
  {
   "cell_type": "code",
   "execution_count": 5,
   "id": "10794dc0",
   "metadata": {},
   "outputs": [
    {
     "name": "stdout",
     "output_type": "stream",
     "text": [
      "[1] 38216     8\n"
     ]
    },
    {
     "data": {
      "text/html": [
       "<table class=\"dataframe\">\n",
       "<caption>A tibble: 6 × 8</caption>\n",
       "<thead>\n",
       "\t<tr><th scope=col>Chrom</th><th scope=col>Start</th><th scope=col>End</th><th scope=col>Chrom_Enhancer</th><th scope=col>Start_Enhancer</th><th scope=col>End_Enhancer</th><th scope=col>Overlap</th><th scope=col>Peak</th></tr>\n",
       "\t<tr><th scope=col>&lt;chr&gt;</th><th scope=col>&lt;dbl&gt;</th><th scope=col>&lt;dbl&gt;</th><th scope=col>&lt;chr&gt;</th><th scope=col>&lt;dbl&gt;</th><th scope=col>&lt;dbl&gt;</th><th scope=col>&lt;dbl&gt;</th><th scope=col>&lt;chr&gt;</th></tr>\n",
       "</thead>\n",
       "<tbody>\n",
       "\t<tr><td>chr1</td><td>777949</td><td>779437</td><td>chr1</td><td>778410</td><td>778450</td><td> 40</td><td>chr1_777949_779437</td></tr>\n",
       "\t<tr><td>chr1</td><td>777949</td><td>779437</td><td>chr1</td><td>778460</td><td>778820</td><td>360</td><td>chr1_777949_779437</td></tr>\n",
       "\t<tr><td>chr1</td><td>777949</td><td>779437</td><td>chr1</td><td>778830</td><td>778860</td><td> 30</td><td>chr1_777949_779437</td></tr>\n",
       "\t<tr><td>chr1</td><td>777949</td><td>779437</td><td>chr1</td><td>778870</td><td>779090</td><td>220</td><td>chr1_777949_779437</td></tr>\n",
       "\t<tr><td>chr1</td><td>818602</td><td>819380</td><td>chr1</td><td>818900</td><td>818920</td><td> 20</td><td>chr1_818602_819380</td></tr>\n",
       "\t<tr><td>chr1</td><td>818602</td><td>819380</td><td>chr1</td><td>818940</td><td>818960</td><td> 20</td><td>chr1_818602_819380</td></tr>\n",
       "</tbody>\n",
       "</table>\n"
      ],
      "text/latex": [
       "A tibble: 6 × 8\n",
       "\\begin{tabular}{llllllll}\n",
       " Chrom & Start & End & Chrom\\_Enhancer & Start\\_Enhancer & End\\_Enhancer & Overlap & Peak\\\\\n",
       " <chr> & <dbl> & <dbl> & <chr> & <dbl> & <dbl> & <dbl> & <chr>\\\\\n",
       "\\hline\n",
       "\t chr1 & 777949 & 779437 & chr1 & 778410 & 778450 &  40 & chr1\\_777949\\_779437\\\\\n",
       "\t chr1 & 777949 & 779437 & chr1 & 778460 & 778820 & 360 & chr1\\_777949\\_779437\\\\\n",
       "\t chr1 & 777949 & 779437 & chr1 & 778830 & 778860 &  30 & chr1\\_777949\\_779437\\\\\n",
       "\t chr1 & 777949 & 779437 & chr1 & 778870 & 779090 & 220 & chr1\\_777949\\_779437\\\\\n",
       "\t chr1 & 818602 & 819380 & chr1 & 818900 & 818920 &  20 & chr1\\_818602\\_819380\\\\\n",
       "\t chr1 & 818602 & 819380 & chr1 & 818940 & 818960 &  20 & chr1\\_818602\\_819380\\\\\n",
       "\\end{tabular}\n"
      ],
      "text/markdown": [
       "\n",
       "A tibble: 6 × 8\n",
       "\n",
       "| Chrom &lt;chr&gt; | Start &lt;dbl&gt; | End &lt;dbl&gt; | Chrom_Enhancer &lt;chr&gt; | Start_Enhancer &lt;dbl&gt; | End_Enhancer &lt;dbl&gt; | Overlap &lt;dbl&gt; | Peak &lt;chr&gt; |\n",
       "|---|---|---|---|---|---|---|---|\n",
       "| chr1 | 777949 | 779437 | chr1 | 778410 | 778450 |  40 | chr1_777949_779437 |\n",
       "| chr1 | 777949 | 779437 | chr1 | 778460 | 778820 | 360 | chr1_777949_779437 |\n",
       "| chr1 | 777949 | 779437 | chr1 | 778830 | 778860 |  30 | chr1_777949_779437 |\n",
       "| chr1 | 777949 | 779437 | chr1 | 778870 | 779090 | 220 | chr1_777949_779437 |\n",
       "| chr1 | 818602 | 819380 | chr1 | 818900 | 818920 |  20 | chr1_818602_819380 |\n",
       "| chr1 | 818602 | 819380 | chr1 | 818940 | 818960 |  20 | chr1_818602_819380 |\n",
       "\n"
      ],
      "text/plain": [
       "  Chrom Start  End    Chrom_Enhancer Start_Enhancer End_Enhancer Overlap\n",
       "1 chr1  777949 779437 chr1           778410         778450        40    \n",
       "2 chr1  777949 779437 chr1           778460         778820       360    \n",
       "3 chr1  777949 779437 chr1           778830         778860        30    \n",
       "4 chr1  777949 779437 chr1           778870         779090       220    \n",
       "5 chr1  818602 819380 chr1           818900         818920        20    \n",
       "6 chr1  818602 819380 chr1           818940         818960        20    \n",
       "  Peak              \n",
       "1 chr1_777949_779437\n",
       "2 chr1_777949_779437\n",
       "3 chr1_777949_779437\n",
       "4 chr1_777949_779437\n",
       "5 chr1_818602_819380\n",
       "6 chr1_818602_819380"
      ]
     },
     "metadata": {},
     "output_type": "display_data"
    }
   ],
   "source": [
    "### set file path\n",
    "fdiry = file.path(FD_RES, \"region\", \"KS91_K562_ASTARRseq_peak_macs\")\n",
    "fname = \"KS91_K562_hg38_ASTARRseq_Input.all_reps.masked.union_narrowPeak.q5.enhancer_junke_peak_wstarr.bed.gz\"\n",
    "fpath = file.path(fdiry, fname)\n",
    "\n",
    "\n",
    "### import data\n",
    "cnames = c(\"Chrom\", \"Start\", \"End\",\n",
    "           \"Chrom_Enhancer\", \"Start_Enhancer\", \"End_Enhancer\",\n",
    "           \"Overlap\")\n",
    "dat = read_tsv(fpath, col_names = cnames, show_col_types = FALSE)\n",
    "dat = dat %>% mutate(Peak = paste(Chrom, Start, End, sep=\"_\"))\n",
    "\n",
    "### assign\n",
    "dat_peak_annot_enhancer_wstarr = dat\n",
    "print(dim(dat))\n",
    "head(dat)"
   ]
  },
  {
   "cell_type": "code",
   "execution_count": 6,
   "id": "cd06fa43",
   "metadata": {},
   "outputs": [
    {
     "data": {
      "text/html": [
       "<style>\n",
       ".list-inline {list-style: none; margin:0; padding: 0}\n",
       ".list-inline>li {display: inline-block}\n",
       ".list-inline>li:not(:last-child)::after {content: \"\\00b7\"; padding: 0 .5ex}\n",
       "</style>\n",
       "<ol class=list-inline><li>17120</li><li>4</li></ol>\n"
      ],
      "text/latex": [
       "\\begin{enumerate*}\n",
       "\\item 17120\n",
       "\\item 4\n",
       "\\end{enumerate*}\n"
      ],
      "text/markdown": [
       "1. 17120\n",
       "2. 4\n",
       "\n",
       "\n"
      ],
      "text/plain": [
       "[1] 17120     4"
      ]
     },
     "metadata": {},
     "output_type": "display_data"
    }
   ],
   "source": [
    "dat = dat_peak_annot_enhancer_astarr\n",
    "dat = dat %>% dplyr::select(Chrom, Start, End, Peak) %>% distinct\n",
    "dim(dat)"
   ]
  },
  {
   "cell_type": "code",
   "execution_count": 7,
   "id": "f174d377",
   "metadata": {},
   "outputs": [
    {
     "data": {
      "text/html": [
       "<style>\n",
       ".list-inline {list-style: none; margin:0; padding: 0}\n",
       ".list-inline>li {display: inline-block}\n",
       ".list-inline>li:not(:last-child)::after {content: \"\\00b7\"; padding: 0 .5ex}\n",
       "</style>\n",
       "<ol class=list-inline><li>30725</li><li>3</li></ol>\n"
      ],
      "text/latex": [
       "\\begin{enumerate*}\n",
       "\\item 30725\n",
       "\\item 3\n",
       "\\end{enumerate*}\n"
      ],
      "text/markdown": [
       "1. 30725\n",
       "2. 3\n",
       "\n",
       "\n"
      ],
      "text/plain": [
       "[1] 30725     3"
      ]
     },
     "metadata": {},
     "output_type": "display_data"
    }
   ],
   "source": [
    "dat = dat_peak_annot_enhancer_astarr\n",
    "dat = dat %>% dplyr::select(Chrom_Enhancer, Start_Enhancer, End_Enhancer) %>% distinct\n",
    "dim(dat)"
   ]
  },
  {
   "cell_type": "code",
   "execution_count": 15,
   "id": "8f57b152",
   "metadata": {},
   "outputs": [
    {
     "name": "stdout",
     "output_type": "stream",
     "text": [
      "[1] 17120     2\n"
     ]
    },
    {
     "data": {
      "text/html": [
       "<table class=\"dataframe\">\n",
       "<caption>A tibble: 6 × 2</caption>\n",
       "<thead>\n",
       "\t<tr><th scope=col>Peak</th><th scope=col>Count</th></tr>\n",
       "\t<tr><th scope=col>&lt;chr&gt;</th><th scope=col>&lt;int&gt;</th></tr>\n",
       "</thead>\n",
       "<tbody>\n",
       "\t<tr><td>chr1_100036871_100039191</td><td>5</td></tr>\n",
       "\t<tr><td>chr1_100132370_100133575</td><td>2</td></tr>\n",
       "\t<tr><td>chr1_100248889_100250320</td><td>1</td></tr>\n",
       "\t<tr><td>chr1_100265529_100267006</td><td>1</td></tr>\n",
       "\t<tr><td>chr1_100347294_100347528</td><td>3</td></tr>\n",
       "\t<tr><td>chr1_100362724_100363401</td><td>2</td></tr>\n",
       "</tbody>\n",
       "</table>\n"
      ],
      "text/latex": [
       "A tibble: 6 × 2\n",
       "\\begin{tabular}{ll}\n",
       " Peak & Count\\\\\n",
       " <chr> & <int>\\\\\n",
       "\\hline\n",
       "\t chr1\\_100036871\\_100039191 & 5\\\\\n",
       "\t chr1\\_100132370\\_100133575 & 2\\\\\n",
       "\t chr1\\_100248889\\_100250320 & 1\\\\\n",
       "\t chr1\\_100265529\\_100267006 & 1\\\\\n",
       "\t chr1\\_100347294\\_100347528 & 3\\\\\n",
       "\t chr1\\_100362724\\_100363401 & 2\\\\\n",
       "\\end{tabular}\n"
      ],
      "text/markdown": [
       "\n",
       "A tibble: 6 × 2\n",
       "\n",
       "| Peak &lt;chr&gt; | Count &lt;int&gt; |\n",
       "|---|---|\n",
       "| chr1_100036871_100039191 | 5 |\n",
       "| chr1_100132370_100133575 | 2 |\n",
       "| chr1_100248889_100250320 | 1 |\n",
       "| chr1_100265529_100267006 | 1 |\n",
       "| chr1_100347294_100347528 | 3 |\n",
       "| chr1_100362724_100363401 | 2 |\n",
       "\n"
      ],
      "text/plain": [
       "  Peak                     Count\n",
       "1 chr1_100036871_100039191 5    \n",
       "2 chr1_100132370_100133575 2    \n",
       "3 chr1_100248889_100250320 1    \n",
       "4 chr1_100265529_100267006 1    \n",
       "5 chr1_100347294_100347528 3    \n",
       "6 chr1_100362724_100363401 2    "
      ]
     },
     "metadata": {},
     "output_type": "display_data"
    }
   ],
   "source": [
    "###\n",
    "dat = dat_peak_annot_enhancer_astarr\n",
    "dat = dat %>% \n",
    "    group_by(Peak) %>% \n",
    "    summarize(Count = n(), .groups=\"drop\")\n",
    "\n",
    "###\n",
    "dat_peak_count_enhancer_astarr = dat\n",
    "print(dim(dat))\n",
    "head(dat)"
   ]
  },
  {
   "cell_type": "code",
   "execution_count": 14,
   "id": "78263c38",
   "metadata": {},
   "outputs": [
    {
     "name": "stdout",
     "output_type": "stream",
     "text": [
      "[1] 20688     2\n"
     ]
    },
    {
     "data": {
      "text/html": [
       "<table class=\"dataframe\">\n",
       "<caption>A tibble: 6 × 2</caption>\n",
       "<thead>\n",
       "\t<tr><th scope=col>Peak</th><th scope=col>Count</th></tr>\n",
       "\t<tr><th scope=col>&lt;chr&gt;</th><th scope=col>&lt;int&gt;</th></tr>\n",
       "</thead>\n",
       "<tbody>\n",
       "\t<tr><td>chr1_100036871_100039191</td><td>3</td></tr>\n",
       "\t<tr><td>chr1_100132370_100133575</td><td>2</td></tr>\n",
       "\t<tr><td>chr1_100265529_100267006</td><td>2</td></tr>\n",
       "\t<tr><td>chr1_10032426_10033768  </td><td>2</td></tr>\n",
       "\t<tr><td>chr1_1006485_1006802    </td><td>1</td></tr>\n",
       "\t<tr><td>chr1_100682254_100682739</td><td>2</td></tr>\n",
       "</tbody>\n",
       "</table>\n"
      ],
      "text/latex": [
       "A tibble: 6 × 2\n",
       "\\begin{tabular}{ll}\n",
       " Peak & Count\\\\\n",
       " <chr> & <int>\\\\\n",
       "\\hline\n",
       "\t chr1\\_100036871\\_100039191 & 3\\\\\n",
       "\t chr1\\_100132370\\_100133575 & 2\\\\\n",
       "\t chr1\\_100265529\\_100267006 & 2\\\\\n",
       "\t chr1\\_10032426\\_10033768   & 2\\\\\n",
       "\t chr1\\_1006485\\_1006802     & 1\\\\\n",
       "\t chr1\\_100682254\\_100682739 & 2\\\\\n",
       "\\end{tabular}\n"
      ],
      "text/markdown": [
       "\n",
       "A tibble: 6 × 2\n",
       "\n",
       "| Peak &lt;chr&gt; | Count &lt;int&gt; |\n",
       "|---|---|\n",
       "| chr1_100036871_100039191 | 3 |\n",
       "| chr1_100132370_100133575 | 2 |\n",
       "| chr1_100265529_100267006 | 2 |\n",
       "| chr1_10032426_10033768   | 2 |\n",
       "| chr1_1006485_1006802     | 1 |\n",
       "| chr1_100682254_100682739 | 2 |\n",
       "\n"
      ],
      "text/plain": [
       "  Peak                     Count\n",
       "1 chr1_100036871_100039191 3    \n",
       "2 chr1_100132370_100133575 2    \n",
       "3 chr1_100265529_100267006 2    \n",
       "4 chr1_10032426_10033768   2    \n",
       "5 chr1_1006485_1006802     1    \n",
       "6 chr1_100682254_100682739 2    "
      ]
     },
     "metadata": {},
     "output_type": "display_data"
    }
   ],
   "source": [
    "###\n",
    "dat = dat_peak_annot_enhancer_wstarr\n",
    "dat = dat %>% \n",
    "    group_by(Peak) %>% \n",
    "    summarize(Count = n(), .groups=\"drop\")\n",
    "\n",
    "###\n",
    "dat_peak_count_enhancer_wstarr = dat\n",
    "print(dim(dat))\n",
    "head(dat)"
   ]
  },
  {
   "cell_type": "code",
   "execution_count": null,
   "id": "9f7bdc76",
   "metadata": {},
   "outputs": [],
   "source": []
  },
  {
   "cell_type": "code",
   "execution_count": null,
   "id": "47ba0a9f",
   "metadata": {},
   "outputs": [],
   "source": []
  },
  {
   "cell_type": "code",
   "execution_count": 17,
   "id": "37de49fa",
   "metadata": {},
   "outputs": [
    {
     "name": "stdout",
     "output_type": "stream",
     "text": [
      "[1] 417   5\n"
     ]
    },
    {
     "data": {
      "text/html": [
       "<table class=\"dataframe\">\n",
       "<caption>A tibble: 6 × 5</caption>\n",
       "<thead>\n",
       "\t<tr><th scope=col>Chrom</th><th scope=col>Start</th><th scope=col>End</th><th scope=col>Peak</th><th scope=col>Region</th></tr>\n",
       "\t<tr><th scope=col>&lt;chr&gt;</th><th scope=col>&lt;dbl&gt;</th><th scope=col>&lt;dbl&gt;</th><th scope=col>&lt;chr&gt;</th><th scope=col>&lt;chr&gt;</th></tr>\n",
       "</thead>\n",
       "<tbody>\n",
       "\t<tr><td>chr8</td><td>126778902</td><td>126779728</td><td>chr8_126778902_126779728</td><td>MYC</td></tr>\n",
       "\t<tr><td>chr8</td><td>126782925</td><td>126783318</td><td>chr8_126782925_126783318</td><td>MYC</td></tr>\n",
       "\t<tr><td>chr8</td><td>126804776</td><td>126805825</td><td>chr8_126804776_126805825</td><td>MYC</td></tr>\n",
       "\t<tr><td>chr8</td><td>126817018</td><td>126817490</td><td>chr8_126817018_126817490</td><td>MYC</td></tr>\n",
       "\t<tr><td>chr8</td><td>126820465</td><td>126821393</td><td>chr8_126820465_126821393</td><td>MYC</td></tr>\n",
       "\t<tr><td>chr8</td><td>126824093</td><td>126824987</td><td>chr8_126824093_126824987</td><td>MYC</td></tr>\n",
       "</tbody>\n",
       "</table>\n"
      ],
      "text/latex": [
       "A tibble: 6 × 5\n",
       "\\begin{tabular}{lllll}\n",
       " Chrom & Start & End & Peak & Region\\\\\n",
       " <chr> & <dbl> & <dbl> & <chr> & <chr>\\\\\n",
       "\\hline\n",
       "\t chr8 & 126778902 & 126779728 & chr8\\_126778902\\_126779728 & MYC\\\\\n",
       "\t chr8 & 126782925 & 126783318 & chr8\\_126782925\\_126783318 & MYC\\\\\n",
       "\t chr8 & 126804776 & 126805825 & chr8\\_126804776\\_126805825 & MYC\\\\\n",
       "\t chr8 & 126817018 & 126817490 & chr8\\_126817018\\_126817490 & MYC\\\\\n",
       "\t chr8 & 126820465 & 126821393 & chr8\\_126820465\\_126821393 & MYC\\\\\n",
       "\t chr8 & 126824093 & 126824987 & chr8\\_126824093\\_126824987 & MYC\\\\\n",
       "\\end{tabular}\n"
      ],
      "text/markdown": [
       "\n",
       "A tibble: 6 × 5\n",
       "\n",
       "| Chrom &lt;chr&gt; | Start &lt;dbl&gt; | End &lt;dbl&gt; | Peak &lt;chr&gt; | Region &lt;chr&gt; |\n",
       "|---|---|---|---|---|\n",
       "| chr8 | 126778902 | 126779728 | chr8_126778902_126779728 | MYC |\n",
       "| chr8 | 126782925 | 126783318 | chr8_126782925_126783318 | MYC |\n",
       "| chr8 | 126804776 | 126805825 | chr8_126804776_126805825 | MYC |\n",
       "| chr8 | 126817018 | 126817490 | chr8_126817018_126817490 | MYC |\n",
       "| chr8 | 126820465 | 126821393 | chr8_126820465_126821393 | MYC |\n",
       "| chr8 | 126824093 | 126824987 | chr8_126824093_126824987 | MYC |\n",
       "\n"
      ],
      "text/plain": [
       "  Chrom Start     End       Peak                     Region\n",
       "1 chr8  126778902 126779728 chr8_126778902_126779728 MYC   \n",
       "2 chr8  126782925 126783318 chr8_126782925_126783318 MYC   \n",
       "3 chr8  126804776 126805825 chr8_126804776_126805825 MYC   \n",
       "4 chr8  126817018 126817490 chr8_126817018_126817490 MYC   \n",
       "5 chr8  126820465 126821393 chr8_126820465_126821393 MYC   \n",
       "6 chr8  126824093 126824987 chr8_126824093_126824987 MYC   "
      ]
     },
     "metadata": {},
     "output_type": "display_data"
    }
   ],
   "source": [
    "ASSAY  = \"Tewhey_K562_TileMPRA\"\n",
    "FOLDER = \"coverage_astarrseq_peak_macs_input\"\n",
    "\n",
    "### set file path\n",
    "fdiry = file.path(FD_RES, \"results\", ASSAY, FOLDER, \"summary\")\n",
    "fname = \"peak_regions.tsv\"\n",
    "fpath = file.path(fdiry, fname)\n",
    "\n",
    "### import data\n",
    "dat_region = read_tsv(fpath, show_col_types = FALSE)\n",
    "peaks = dat_region$Peak\n",
    "\n",
    "print(dim(dat_region))\n",
    "head(dat_region)"
   ]
  },
  {
   "cell_type": "code",
   "execution_count": null,
   "id": "fc8c07bd",
   "metadata": {},
   "outputs": [],
   "source": [
    "dat = dat_peak_freq_tss %>% \n",
    "    dplyr::filter(Peak %in% peaks) %>%\n",
    "    dplyr::select(Peak) %>%\n",
    "    dplyr::mutate(Label = 1)\n",
    "\n",
    "dat = left_join(dat_region, dat, by = \"Peak\")\n",
    "dat = replace(dat, is.na(dat), 0)\n",
    "dat$Name = \"TSS\"\n",
    "\n",
    "dat_peak_label_tss = dat\n",
    "print(dim(dat))\n",
    "head(dat)"
   ]
  },
  {
   "cell_type": "code",
   "execution_count": 21,
   "id": "104c8921",
   "metadata": {},
   "outputs": [
    {
     "name": "stdout",
     "output_type": "stream",
     "text": [
      "[1] 417   7\n"
     ]
    },
    {
     "data": {
      "text/html": [
       "<table class=\"dataframe\">\n",
       "<caption>A tibble: 6 × 7</caption>\n",
       "<thead>\n",
       "\t<tr><th scope=col>Chrom</th><th scope=col>Start</th><th scope=col>End</th><th scope=col>Peak</th><th scope=col>Region</th><th scope=col>Enhancer_ASTARR</th><th scope=col>Enhancer_WSTARR</th></tr>\n",
       "\t<tr><th scope=col>&lt;chr&gt;</th><th scope=col>&lt;dbl&gt;</th><th scope=col>&lt;dbl&gt;</th><th scope=col>&lt;chr&gt;</th><th scope=col>&lt;chr&gt;</th><th scope=col>&lt;dbl&gt;</th><th scope=col>&lt;dbl&gt;</th></tr>\n",
       "</thead>\n",
       "<tbody>\n",
       "\t<tr><td>chr8</td><td>126778902</td><td>126779728</td><td>chr8_126778902_126779728</td><td>MYC</td><td>0</td><td>0</td></tr>\n",
       "\t<tr><td>chr8</td><td>126782925</td><td>126783318</td><td>chr8_126782925_126783318</td><td>MYC</td><td>0</td><td>0</td></tr>\n",
       "\t<tr><td>chr8</td><td>126804776</td><td>126805825</td><td>chr8_126804776_126805825</td><td>MYC</td><td>0</td><td>0</td></tr>\n",
       "\t<tr><td>chr8</td><td>126817018</td><td>126817490</td><td>chr8_126817018_126817490</td><td>MYC</td><td>0</td><td>0</td></tr>\n",
       "\t<tr><td>chr8</td><td>126820465</td><td>126821393</td><td>chr8_126820465_126821393</td><td>MYC</td><td>0</td><td>0</td></tr>\n",
       "\t<tr><td>chr8</td><td>126824093</td><td>126824987</td><td>chr8_126824093_126824987</td><td>MYC</td><td>0</td><td>0</td></tr>\n",
       "</tbody>\n",
       "</table>\n"
      ],
      "text/latex": [
       "A tibble: 6 × 7\n",
       "\\begin{tabular}{lllllll}\n",
       " Chrom & Start & End & Peak & Region & Enhancer\\_ASTARR & Enhancer\\_WSTARR\\\\\n",
       " <chr> & <dbl> & <dbl> & <chr> & <chr> & <dbl> & <dbl>\\\\\n",
       "\\hline\n",
       "\t chr8 & 126778902 & 126779728 & chr8\\_126778902\\_126779728 & MYC & 0 & 0\\\\\n",
       "\t chr8 & 126782925 & 126783318 & chr8\\_126782925\\_126783318 & MYC & 0 & 0\\\\\n",
       "\t chr8 & 126804776 & 126805825 & chr8\\_126804776\\_126805825 & MYC & 0 & 0\\\\\n",
       "\t chr8 & 126817018 & 126817490 & chr8\\_126817018\\_126817490 & MYC & 0 & 0\\\\\n",
       "\t chr8 & 126820465 & 126821393 & chr8\\_126820465\\_126821393 & MYC & 0 & 0\\\\\n",
       "\t chr8 & 126824093 & 126824987 & chr8\\_126824093\\_126824987 & MYC & 0 & 0\\\\\n",
       "\\end{tabular}\n"
      ],
      "text/markdown": [
       "\n",
       "A tibble: 6 × 7\n",
       "\n",
       "| Chrom &lt;chr&gt; | Start &lt;dbl&gt; | End &lt;dbl&gt; | Peak &lt;chr&gt; | Region &lt;chr&gt; | Enhancer_ASTARR &lt;dbl&gt; | Enhancer_WSTARR &lt;dbl&gt; |\n",
       "|---|---|---|---|---|---|---|\n",
       "| chr8 | 126778902 | 126779728 | chr8_126778902_126779728 | MYC | 0 | 0 |\n",
       "| chr8 | 126782925 | 126783318 | chr8_126782925_126783318 | MYC | 0 | 0 |\n",
       "| chr8 | 126804776 | 126805825 | chr8_126804776_126805825 | MYC | 0 | 0 |\n",
       "| chr8 | 126817018 | 126817490 | chr8_126817018_126817490 | MYC | 0 | 0 |\n",
       "| chr8 | 126820465 | 126821393 | chr8_126820465_126821393 | MYC | 0 | 0 |\n",
       "| chr8 | 126824093 | 126824987 | chr8_126824093_126824987 | MYC | 0 | 0 |\n",
       "\n"
      ],
      "text/plain": [
       "  Chrom Start     End       Peak                     Region Enhancer_ASTARR\n",
       "1 chr8  126778902 126779728 chr8_126778902_126779728 MYC    0              \n",
       "2 chr8  126782925 126783318 chr8_126782925_126783318 MYC    0              \n",
       "3 chr8  126804776 126805825 chr8_126804776_126805825 MYC    0              \n",
       "4 chr8  126817018 126817490 chr8_126817018_126817490 MYC    0              \n",
       "5 chr8  126820465 126821393 chr8_126820465_126821393 MYC    0              \n",
       "6 chr8  126824093 126824987 chr8_126824093_126824987 MYC    0              \n",
       "  Enhancer_WSTARR\n",
       "1 0              \n",
       "2 0              \n",
       "3 0              \n",
       "4 0              \n",
       "5 0              \n",
       "6 0              "
      ]
     },
     "metadata": {},
     "output_type": "display_data"
    }
   ],
   "source": [
    "dat1 = dat_peak_count_enhancer_astarr %>% \n",
    "    dplyr::filter(Peak %in% peaks) %>%\n",
    "    dplyr::select(Peak) %>%\n",
    "    dplyr::mutate(Name = \"Enhancer_ASTARR\",Label = 1)\n",
    "\n",
    "dat2 = dat_peak_count_enhancer_wstarr %>% \n",
    "    dplyr::filter(Peak %in% peaks) %>%\n",
    "    dplyr::select(Peak) %>%\n",
    "    dplyr::mutate(Name = \"Enhancer_WSTARR\",Label = 1)\n",
    "\n",
    "\n",
    "dat = bind_rows(dat1, dat2) %>% spread(Name, Label)\n",
    "dat = left_join(dat_region, dat, by = \"Peak\")\n",
    "dat = replace(dat, is.na(dat), 0)\n",
    "\n",
    "dat_peak_label_regulate = dat\n",
    "print(dim(dat))\n",
    "head(dat)"
   ]
  },
  {
   "cell_type": "code",
   "execution_count": 22,
   "id": "d23d9584",
   "metadata": {},
   "outputs": [
    {
     "data": {
      "text/html": [
       "<table class=\"dataframe\">\n",
       "<caption>A tibble: 6 × 7</caption>\n",
       "<thead>\n",
       "\t<tr><th scope=col>Chrom</th><th scope=col>Start</th><th scope=col>End</th><th scope=col>Peak</th><th scope=col>Region</th><th scope=col>Name</th><th scope=col>Label</th></tr>\n",
       "\t<tr><th scope=col>&lt;chr&gt;</th><th scope=col>&lt;dbl&gt;</th><th scope=col>&lt;dbl&gt;</th><th scope=col>&lt;chr&gt;</th><th scope=col>&lt;chr&gt;</th><th scope=col>&lt;chr&gt;</th><th scope=col>&lt;chr&gt;</th></tr>\n",
       "</thead>\n",
       "<tbody>\n",
       "\t<tr><td>chr8</td><td>126778902</td><td>126779728</td><td>chr8_126778902_126779728</td><td>MYC</td><td>Enhancer_ASTARR</td><td>0</td></tr>\n",
       "\t<tr><td>chr8</td><td>126782925</td><td>126783318</td><td>chr8_126782925_126783318</td><td>MYC</td><td>Enhancer_ASTARR</td><td>0</td></tr>\n",
       "\t<tr><td>chr8</td><td>126804776</td><td>126805825</td><td>chr8_126804776_126805825</td><td>MYC</td><td>Enhancer_ASTARR</td><td>0</td></tr>\n",
       "\t<tr><td>chr8</td><td>126817018</td><td>126817490</td><td>chr8_126817018_126817490</td><td>MYC</td><td>Enhancer_ASTARR</td><td>0</td></tr>\n",
       "\t<tr><td>chr8</td><td>126820465</td><td>126821393</td><td>chr8_126820465_126821393</td><td>MYC</td><td>Enhancer_ASTARR</td><td>0</td></tr>\n",
       "\t<tr><td>chr8</td><td>126824093</td><td>126824987</td><td>chr8_126824093_126824987</td><td>MYC</td><td>Enhancer_ASTARR</td><td>0</td></tr>\n",
       "</tbody>\n",
       "</table>\n"
      ],
      "text/latex": [
       "A tibble: 6 × 7\n",
       "\\begin{tabular}{lllllll}\n",
       " Chrom & Start & End & Peak & Region & Name & Label\\\\\n",
       " <chr> & <dbl> & <dbl> & <chr> & <chr> & <chr> & <chr>\\\\\n",
       "\\hline\n",
       "\t chr8 & 126778902 & 126779728 & chr8\\_126778902\\_126779728 & MYC & Enhancer\\_ASTARR & 0\\\\\n",
       "\t chr8 & 126782925 & 126783318 & chr8\\_126782925\\_126783318 & MYC & Enhancer\\_ASTARR & 0\\\\\n",
       "\t chr8 & 126804776 & 126805825 & chr8\\_126804776\\_126805825 & MYC & Enhancer\\_ASTARR & 0\\\\\n",
       "\t chr8 & 126817018 & 126817490 & chr8\\_126817018\\_126817490 & MYC & Enhancer\\_ASTARR & 0\\\\\n",
       "\t chr8 & 126820465 & 126821393 & chr8\\_126820465\\_126821393 & MYC & Enhancer\\_ASTARR & 0\\\\\n",
       "\t chr8 & 126824093 & 126824987 & chr8\\_126824093\\_126824987 & MYC & Enhancer\\_ASTARR & 0\\\\\n",
       "\\end{tabular}\n"
      ],
      "text/markdown": [
       "\n",
       "A tibble: 6 × 7\n",
       "\n",
       "| Chrom &lt;chr&gt; | Start &lt;dbl&gt; | End &lt;dbl&gt; | Peak &lt;chr&gt; | Region &lt;chr&gt; | Name &lt;chr&gt; | Label &lt;chr&gt; |\n",
       "|---|---|---|---|---|---|---|\n",
       "| chr8 | 126778902 | 126779728 | chr8_126778902_126779728 | MYC | Enhancer_ASTARR | 0 |\n",
       "| chr8 | 126782925 | 126783318 | chr8_126782925_126783318 | MYC | Enhancer_ASTARR | 0 |\n",
       "| chr8 | 126804776 | 126805825 | chr8_126804776_126805825 | MYC | Enhancer_ASTARR | 0 |\n",
       "| chr8 | 126817018 | 126817490 | chr8_126817018_126817490 | MYC | Enhancer_ASTARR | 0 |\n",
       "| chr8 | 126820465 | 126821393 | chr8_126820465_126821393 | MYC | Enhancer_ASTARR | 0 |\n",
       "| chr8 | 126824093 | 126824987 | chr8_126824093_126824987 | MYC | Enhancer_ASTARR | 0 |\n",
       "\n"
      ],
      "text/plain": [
       "  Chrom Start     End       Peak                     Region Name           \n",
       "1 chr8  126778902 126779728 chr8_126778902_126779728 MYC    Enhancer_ASTARR\n",
       "2 chr8  126782925 126783318 chr8_126782925_126783318 MYC    Enhancer_ASTARR\n",
       "3 chr8  126804776 126805825 chr8_126804776_126805825 MYC    Enhancer_ASTARR\n",
       "4 chr8  126817018 126817490 chr8_126817018_126817490 MYC    Enhancer_ASTARR\n",
       "5 chr8  126820465 126821393 chr8_126820465_126821393 MYC    Enhancer_ASTARR\n",
       "6 chr8  126824093 126824987 chr8_126824093_126824987 MYC    Enhancer_ASTARR\n",
       "  Label\n",
       "1 0    \n",
       "2 0    \n",
       "3 0    \n",
       "4 0    \n",
       "5 0    \n",
       "6 0    "
      ]
     },
     "metadata": {},
     "output_type": "display_data"
    }
   ],
   "source": [
    "dat = dat_peak_label_regulate\n",
    "dat = dat %>% \n",
    "    gather(Name, Label, -Chrom, -Start, -End, -Peak, -Region) %>%\n",
    "    mutate(Label = as.character(Label))\n",
    "head(dat)"
   ]
  },
  {
   "cell_type": "code",
   "execution_count": 24,
   "id": "6bf263be",
   "metadata": {},
   "outputs": [
    {
     "data": {
      "image/png": "[encoded data removed]",
      "text/plain": [
       "plot without title"
      ]
     },
     "metadata": {
      "image/png": {
       "height": 300,
       "width": 1800
      }
     },
     "output_type": "display_data"
    }
   ],
   "source": [
    "gpt = ggplot(dat, aes(x=Peak, y=Name, fill=Label)) +\n",
    "    geom_tile() +\n",
    "    scale_fill_manual(values = c(\"1\" = \"black\", \"0\" = \"white\")) +\n",
    "    labs(x=\"\", y=\"\") +\n",
    "    theme_cowplot() +\n",
    "    theme(axis.text.x = element_blank(),\n",
    "          axis.text.y = element_text(size=30),\n",
    "          legend.position = \"none\")\n",
    "    \n",
    "\n",
    "options(repr.plot.height=5, repr.plot.width=30)\n",
    "print(gpt)"
   ]
  },
  {
   "cell_type": "code",
   "execution_count": null,
   "id": "b35c2e5a",
   "metadata": {},
   "outputs": [],
   "source": []
  }
 ],
 "metadata": {
  "kernelspec": {
   "display_name": "R",
   "language": "R",
   "name": "ir"
  },
  "language_info": {
   "codemirror_mode": "r",
   "file_extension": ".r",
   "mimetype": "text/x-r-source",
   "name": "R",
   "pygments_lexer": "r",
   "version": "4.2.2"
  }
 },
 "nbformat": 4,
 "nbformat_minor": 5
}
