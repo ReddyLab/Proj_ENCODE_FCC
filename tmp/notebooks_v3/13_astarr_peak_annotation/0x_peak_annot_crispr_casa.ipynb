{
 "cells": [
  {
   "cell_type": "code",
   "execution_count": 1,
   "id": "5c7c27a9-e582-40ef-9dc8-95efd6b44abb",
   "metadata": {},
   "outputs": [
    {
     "name": "stdout",
     "output_type": "stream",
     "text": [
      "You are on Duke Server: HARDAC\n",
      "BASE DIRECTORY:     /data/reddylab/Kuei\n",
      "WORK DIRECTORY:     /data/reddylab/Kuei/out\n",
      "CODE DIRECTORY:     /data/reddylab/Kuei/code\n",
      "SING DIRECTORY:     /data/reddylab/Kuei/singularity\n",
      "PATH OF SOURCE:     /data/reddylab/Kuei/source\n",
      "PATH OF EXECUTABLE: /data/reddylab/Kuei/bin\n",
      "PATH OF ANNOTATION: /data/reddylab/Kuei/annotation\n",
      "PATH OF PROJECT:    /data/reddylab/Kuei/code/Proj_CombEffect_ENCODE_FCC\n",
      "PATH OF RESULTS:    /data/reddylab/Kuei/out/proj_combeffect_encode_fcc\n",
      "\n"
     ]
    }
   ],
   "source": [
    "### set env\n",
    "source ../config/config_duke.sh\n",
    "source ../config/config_load_module_bedtools.sh\n",
    "show_env"
   ]
  },
  {
   "cell_type": "code",
   "execution_count": 2,
   "id": "01a44db9-d606-450c-84f9-3c73cc207e1e",
   "metadata": {},
   "outputs": [
    {
     "name": "stdout",
     "output_type": "stream",
     "text": [
      "\u001b[0m\u001b[38;5;27mannotation_cCREs\u001b[0m                      \u001b[38;5;27mannotation_motif\u001b[0m\n",
      "\u001b[38;5;27mannotation_enhancer_junke\u001b[0m             \u001b[38;5;27mannotation_remap2022\u001b[0m\n",
      "\u001b[38;5;27mannotation_gencode\u001b[0m                    \u001b[38;5;27mcontrol_tmpra\u001b[0m\n",
      "\u001b[38;5;27mannotation_genehancer_requested\u001b[0m       \u001b[38;5;27mKS91_K562_ASTARRseq_peak_macs\u001b[0m\n",
      "\u001b[38;5;27mannotation_genehancer_ucsc_202301Jan\u001b[0m\n"
     ]
    }
   ],
   "source": [
    "ls ${FD_RES}/region"
   ]
  },
  {
   "cell_type": "code",
   "execution_count": null,
   "id": "0c06b115-995c-4a11-b9b6-2dfc5e9d0914",
   "metadata": {},
   "outputs": [],
   "source": []
  }
 ],
 "metadata": {
  "kernelspec": {
   "display_name": "Bash",
   "language": "bash",
   "name": "bash"
  },
  "language_info": {
   "codemirror_mode": "shell",
   "file_extension": ".sh",
   "mimetype": "text/x-sh",
   "name": "bash"
  }
 },
 "nbformat": 4,
 "nbformat_minor": 5
}
