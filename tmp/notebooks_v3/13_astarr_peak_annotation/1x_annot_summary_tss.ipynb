{
 "cells": [
  {
   "cell_type": "markdown",
   "id": "9c5efb8a",
   "metadata": {},
   "source": [
    "**Set environment**"
   ]
  },
  {
   "cell_type": "code",
   "execution_count": 1,
   "id": "c49a2701",
   "metadata": {},
   "outputs": [
    {
     "name": "stdout",
     "output_type": "stream",
     "text": [
      "You are in Singularity: singularity_proj_combeffect \n",
      "BASE DIRECTORY:     /data/reddylab/Kuei \n",
      "WORK DIRECTORY:     /data/reddylab/Kuei/out \n",
      "CODE DIRECTORY:     /data/reddylab/Kuei/code \n",
      "PATH OF SOURCE:     /data/reddylab/Kuei/source \n",
      "PATH OF EXECUTABLE: /data/reddylab/Kuei/bin \n",
      "PATH OF ANNOTATION: /data/reddylab/Kuei/annotation \n",
      "PATH OF PROJECT:    /data/reddylab/Kuei/code/Proj_CombEffect_ENCODE_FCC \n",
      "PATH OF RESULTS:    /data/reddylab/Kuei/out/proj_combeffect_encode_fcc \n"
     ]
    }
   ],
   "source": [
    "suppressMessages(suppressWarnings(source(\"../config/config_sing.R\")))\n",
    "show_env()"
   ]
  },
  {
   "cell_type": "markdown",
   "id": "41153a26",
   "metadata": {},
   "source": [
    "## Import data"
   ]
  },
  {
   "cell_type": "code",
   "execution_count": 2,
   "id": "f059ea08",
   "metadata": {},
   "outputs": [
    {
     "name": "stdout",
     "output_type": "stream",
     "text": [
      " [1] \"KS91_K562_hg38_ASTARRseq_Input.all_reps.masked.union_narrowPeak.q5.bed\"                              \n",
      " [2] \"KS91_K562_hg38_ASTARRseq_Input.all_reps.masked.union_narrowPeak.q5.ccre_all.bed.gz\"                  \n",
      " [3] \"KS91_K562_hg38_ASTARRseq_Input.all_reps.masked.union_narrowPeak.q5.enhancer_junke_peak_astarr.bed.gz\"\n",
      " [4] \"KS91_K562_hg38_ASTARRseq_Input.all_reps.masked.union_narrowPeak.q5.enhancer_junke_peak_wstarr.bed.gz\"\n",
      " [5] \"KS91_K562_hg38_ASTARRseq_Input.all_reps.masked.union_narrowPeak.q5.gencode_v24_tss.bed.gz\"           \n",
      " [6] \"KS91_K562_hg38_ASTARRseq_Input.all_reps.masked.union_narrowPeak.q5.nuc.bed.gz\"                       \n",
      " [7] \"KS91_K562_hg38_ASTARRseq_Input.all_reps.masked.union_narrowPeak.q5.remap2022_nr.bed.gz\"              \n",
      " [8] \"KS91_K562_hg38_ASTARRseq_Input.ccre_all.freq.tsv\"                                                    \n",
      " [9] \"KS91_K562_hg38_ASTARRseq_Input.count.ccre_all.tsv\"                                                   \n",
      "[10] \"KS91_K562_hg38_ASTARRseq_Input.remap2022_nr.tsv\"                                                     \n"
     ]
    }
   ],
   "source": [
    "fdiry = file.path(FD_RES, \"region\", \"KS91_K562_ASTARRseq_peak_macs\")\n",
    "print(dir(fdiry))"
   ]
  },
  {
   "cell_type": "code",
   "execution_count": 3,
   "id": "f925389e",
   "metadata": {},
   "outputs": [
    {
     "name": "stdout",
     "output_type": "stream",
     "text": [
      "[1] 23742    12\n"
     ]
    },
    {
     "data": {
      "text/html": [
       "<table class=\"dataframe\">\n",
       "<caption>A tibble: 6 × 12</caption>\n",
       "<thead>\n",
       "\t<tr><th scope=col>Chrom</th><th scope=col>Start</th><th scope=col>End</th><th scope=col>Chrom_TSS</th><th scope=col>Start_TSS</th><th scope=col>End_TSS</th><th scope=col>TSS_ENS</th><th scope=col>Score</th><th scope=col>Strand</th><th scope=col>TSS_Name</th><th scope=col>Overlap</th><th scope=col>Peak</th></tr>\n",
       "\t<tr><th scope=col>&lt;chr&gt;</th><th scope=col>&lt;dbl&gt;</th><th scope=col>&lt;dbl&gt;</th><th scope=col>&lt;chr&gt;</th><th scope=col>&lt;dbl&gt;</th><th scope=col>&lt;dbl&gt;</th><th scope=col>&lt;chr&gt;</th><th scope=col>&lt;chr&gt;</th><th scope=col>&lt;chr&gt;</th><th scope=col>&lt;chr&gt;</th><th scope=col>&lt;dbl&gt;</th><th scope=col>&lt;chr&gt;</th></tr>\n",
       "</thead>\n",
       "<tbody>\n",
       "\t<tr><td>chr1</td><td> 17237</td><td> 17772</td><td>chr1</td><td> 17436</td><td> 17437</td><td>ENSG00000278267.1 </td><td>.</td><td>-</td><td>MIR6859-1      </td><td>1</td><td>chr1_17237_17772  </td></tr>\n",
       "\t<tr><td>chr1</td><td> 28903</td><td> 29613</td><td>chr1</td><td> 29570</td><td> 29571</td><td>ENSG00000227232.5 </td><td>.</td><td>-</td><td>WASH7P         </td><td>1</td><td>chr1_28903_29613  </td></tr>\n",
       "\t<tr><td>chr1</td><td> 28903</td><td> 29613</td><td>chr1</td><td> 29553</td><td> 29554</td><td>ENSG00000243485.5 </td><td>.</td><td>+</td><td>MIR1302-2HG    </td><td>1</td><td>chr1_28903_29613  </td></tr>\n",
       "\t<tr><td>chr1</td><td>137737</td><td>139544</td><td>chr1</td><td>137965</td><td>137966</td><td>ENSG00000269981.1 </td><td>.</td><td>-</td><td>ENSG00000269981</td><td>1</td><td>chr1_137737_139544</td></tr>\n",
       "\t<tr><td>chr1</td><td>777949</td><td>779437</td><td>chr1</td><td>778688</td><td>778689</td><td>ENSG00000291215.1 </td><td>.</td><td>-</td><td>ENSG00000291215</td><td>1</td><td>chr1_777949_779437</td></tr>\n",
       "\t<tr><td>chr1</td><td>777949</td><td>779437</td><td>chr1</td><td>778746</td><td>778747</td><td>ENSG00000237491.10</td><td>.</td><td>+</td><td>LINC01409      </td><td>1</td><td>chr1_777949_779437</td></tr>\n",
       "</tbody>\n",
       "</table>\n"
      ],
      "text/latex": [
       "A tibble: 6 × 12\n",
       "\\begin{tabular}{llllllllllll}\n",
       " Chrom & Start & End & Chrom\\_TSS & Start\\_TSS & End\\_TSS & TSS\\_ENS & Score & Strand & TSS\\_Name & Overlap & Peak\\\\\n",
       " <chr> & <dbl> & <dbl> & <chr> & <dbl> & <dbl> & <chr> & <chr> & <chr> & <chr> & <dbl> & <chr>\\\\\n",
       "\\hline\n",
       "\t chr1 &  17237 &  17772 & chr1 &  17436 &  17437 & ENSG00000278267.1  & . & - & MIR6859-1       & 1 & chr1\\_17237\\_17772  \\\\\n",
       "\t chr1 &  28903 &  29613 & chr1 &  29570 &  29571 & ENSG00000227232.5  & . & - & WASH7P          & 1 & chr1\\_28903\\_29613  \\\\\n",
       "\t chr1 &  28903 &  29613 & chr1 &  29553 &  29554 & ENSG00000243485.5  & . & + & MIR1302-2HG     & 1 & chr1\\_28903\\_29613  \\\\\n",
       "\t chr1 & 137737 & 139544 & chr1 & 137965 & 137966 & ENSG00000269981.1  & . & - & ENSG00000269981 & 1 & chr1\\_137737\\_139544\\\\\n",
       "\t chr1 & 777949 & 779437 & chr1 & 778688 & 778689 & ENSG00000291215.1  & . & - & ENSG00000291215 & 1 & chr1\\_777949\\_779437\\\\\n",
       "\t chr1 & 777949 & 779437 & chr1 & 778746 & 778747 & ENSG00000237491.10 & . & + & LINC01409       & 1 & chr1\\_777949\\_779437\\\\\n",
       "\\end{tabular}\n"
      ],
      "text/markdown": [
       "\n",
       "A tibble: 6 × 12\n",
       "\n",
       "| Chrom &lt;chr&gt; | Start &lt;dbl&gt; | End &lt;dbl&gt; | Chrom_TSS &lt;chr&gt; | Start_TSS &lt;dbl&gt; | End_TSS &lt;dbl&gt; | TSS_ENS &lt;chr&gt; | Score &lt;chr&gt; | Strand &lt;chr&gt; | TSS_Name &lt;chr&gt; | Overlap &lt;dbl&gt; | Peak &lt;chr&gt; |\n",
       "|---|---|---|---|---|---|---|---|---|---|---|---|\n",
       "| chr1 |  17237 |  17772 | chr1 |  17436 |  17437 | ENSG00000278267.1  | . | - | MIR6859-1       | 1 | chr1_17237_17772   |\n",
       "| chr1 |  28903 |  29613 | chr1 |  29570 |  29571 | ENSG00000227232.5  | . | - | WASH7P          | 1 | chr1_28903_29613   |\n",
       "| chr1 |  28903 |  29613 | chr1 |  29553 |  29554 | ENSG00000243485.5  | . | + | MIR1302-2HG     | 1 | chr1_28903_29613   |\n",
       "| chr1 | 137737 | 139544 | chr1 | 137965 | 137966 | ENSG00000269981.1  | . | - | ENSG00000269981 | 1 | chr1_137737_139544 |\n",
       "| chr1 | 777949 | 779437 | chr1 | 778688 | 778689 | ENSG00000291215.1  | . | - | ENSG00000291215 | 1 | chr1_777949_779437 |\n",
       "| chr1 | 777949 | 779437 | chr1 | 778746 | 778747 | ENSG00000237491.10 | . | + | LINC01409       | 1 | chr1_777949_779437 |\n",
       "\n"
      ],
      "text/plain": [
       "  Chrom Start  End    Chrom_TSS Start_TSS End_TSS TSS_ENS            Score\n",
       "1 chr1   17237  17772 chr1       17436     17437  ENSG00000278267.1  .    \n",
       "2 chr1   28903  29613 chr1       29570     29571  ENSG00000227232.5  .    \n",
       "3 chr1   28903  29613 chr1       29553     29554  ENSG00000243485.5  .    \n",
       "4 chr1  137737 139544 chr1      137965    137966  ENSG00000269981.1  .    \n",
       "5 chr1  777949 779437 chr1      778688    778689  ENSG00000291215.1  .    \n",
       "6 chr1  777949 779437 chr1      778746    778747  ENSG00000237491.10 .    \n",
       "  Strand TSS_Name        Overlap Peak              \n",
       "1 -      MIR6859-1       1       chr1_17237_17772  \n",
       "2 -      WASH7P          1       chr1_28903_29613  \n",
       "3 +      MIR1302-2HG     1       chr1_28903_29613  \n",
       "4 -      ENSG00000269981 1       chr1_137737_139544\n",
       "5 -      ENSG00000291215 1       chr1_777949_779437\n",
       "6 +      LINC01409       1       chr1_777949_779437"
      ]
     },
     "metadata": {},
     "output_type": "display_data"
    }
   ],
   "source": [
    "### set file path\n",
    "fdiry = file.path(FD_RES, \"region\", \"KS91_K562_ASTARRseq_peak_macs\")\n",
    "fname = \"KS91_K562_hg38_ASTARRseq_Input.all_reps.masked.union_narrowPeak.q5.gencode_v24_tss.bed.gz\"\n",
    "fpath = file.path(fdiry, fname)\n",
    "\n",
    "\n",
    "### import data\n",
    "cnames = c(\"Chrom\", \"Start\", \"End\",\n",
    "           \"Chrom_TSS\", \"Start_TSS\", \"End_TSS\", \"TSS_ENS\", \"Score\", \"Strand\", \n",
    "           \"TSS_Name\", \"Overlap\")\n",
    "dat = read_tsv(fpath, col_names = cnames, show_col_types = FALSE)\n",
    "dat = dat %>% mutate(Peak = paste(Chrom, Start, End, sep=\"_\"))\n",
    "\n",
    "### assign\n",
    "dat_peak_annot_tss = dat\n",
    "print(dim(dat))\n",
    "head(dat)"
   ]
  },
  {
   "cell_type": "code",
   "execution_count": 4,
   "id": "5714b360",
   "metadata": {},
   "outputs": [
    {
     "name": "stdout",
     "output_type": "stream",
     "text": [
      "[1] 19001\n",
      "[1] 23742\n"
     ]
    }
   ],
   "source": [
    "print(length(unique(dat_peak_annot_tss$Peak)))\n",
    "print(length(unique(dat_peak_annot_tss$TSS_ENS)))"
   ]
  },
  {
   "cell_type": "code",
   "execution_count": 7,
   "id": "ce5c5fdd",
   "metadata": {},
   "outputs": [
    {
     "name": "stdout",
     "output_type": "stream",
     "text": [
      "[1] 19001     4\n"
     ]
    },
    {
     "data": {
      "text/html": [
       "<table class=\"dataframe\">\n",
       "<caption>A tibble: 6 × 4</caption>\n",
       "<thead>\n",
       "\t<tr><th scope=col>Peak</th><th scope=col>Name</th><th scope=col>Count</th><th scope=col>Annotate</th></tr>\n",
       "\t<tr><th scope=col>&lt;chr&gt;</th><th scope=col>&lt;chr&gt;</th><th scope=col>&lt;int&gt;</th><th scope=col>&lt;chr&gt;</th></tr>\n",
       "</thead>\n",
       "<tbody>\n",
       "\t<tr><td>chr1_100036871_100039191</td><td>TSS</td><td>2</td><td>ENSG00000288826,MFSD14A</td></tr>\n",
       "\t<tr><td>chr1_100098989_100100659</td><td>TSS</td><td>1</td><td>ENSG00000226952        </td></tr>\n",
       "\t<tr><td>chr1_100132370_100133575</td><td>TSS</td><td>2</td><td>SASS6,TRMT13           </td></tr>\n",
       "\t<tr><td>chr1_100178048_100178357</td><td>TSS</td><td>1</td><td>LRRC39                 </td></tr>\n",
       "\t<tr><td>chr1_100213080_100213553</td><td>TSS</td><td>1</td><td>BRI3P1                 </td></tr>\n",
       "\t<tr><td>chr1_100248889_100250320</td><td>TSS</td><td>2</td><td>DBT,ENSG00000230287    </td></tr>\n",
       "</tbody>\n",
       "</table>\n"
      ],
      "text/latex": [
       "A tibble: 6 × 4\n",
       "\\begin{tabular}{llll}\n",
       " Peak & Name & Count & Annotate\\\\\n",
       " <chr> & <chr> & <int> & <chr>\\\\\n",
       "\\hline\n",
       "\t chr1\\_100036871\\_100039191 & TSS & 2 & ENSG00000288826,MFSD14A\\\\\n",
       "\t chr1\\_100098989\\_100100659 & TSS & 1 & ENSG00000226952        \\\\\n",
       "\t chr1\\_100132370\\_100133575 & TSS & 2 & SASS6,TRMT13           \\\\\n",
       "\t chr1\\_100178048\\_100178357 & TSS & 1 & LRRC39                 \\\\\n",
       "\t chr1\\_100213080\\_100213553 & TSS & 1 & BRI3P1                 \\\\\n",
       "\t chr1\\_100248889\\_100250320 & TSS & 2 & DBT,ENSG00000230287    \\\\\n",
       "\\end{tabular}\n"
      ],
      "text/markdown": [
       "\n",
       "A tibble: 6 × 4\n",
       "\n",
       "| Peak &lt;chr&gt; | Name &lt;chr&gt; | Count &lt;int&gt; | Annotate &lt;chr&gt; |\n",
       "|---|---|---|---|\n",
       "| chr1_100036871_100039191 | TSS | 2 | ENSG00000288826,MFSD14A |\n",
       "| chr1_100098989_100100659 | TSS | 1 | ENSG00000226952         |\n",
       "| chr1_100132370_100133575 | TSS | 2 | SASS6,TRMT13            |\n",
       "| chr1_100178048_100178357 | TSS | 1 | LRRC39                  |\n",
       "| chr1_100213080_100213553 | TSS | 1 | BRI3P1                  |\n",
       "| chr1_100248889_100250320 | TSS | 2 | DBT,ENSG00000230287     |\n",
       "\n"
      ],
      "text/plain": [
       "  Peak                     Name Count Annotate               \n",
       "1 chr1_100036871_100039191 TSS  2     ENSG00000288826,MFSD14A\n",
       "2 chr1_100098989_100100659 TSS  1     ENSG00000226952        \n",
       "3 chr1_100132370_100133575 TSS  2     SASS6,TRMT13           \n",
       "4 chr1_100178048_100178357 TSS  1     LRRC39                 \n",
       "5 chr1_100213080_100213553 TSS  1     BRI3P1                 \n",
       "6 chr1_100248889_100250320 TSS  2     DBT,ENSG00000230287    "
      ]
     },
     "metadata": {},
     "output_type": "display_data"
    }
   ],
   "source": [
    "###\n",
    "dat = dat_peak_annot_tss\n",
    "dat = dat %>% \n",
    "    group_by(Peak) %>% \n",
    "    summarize(\n",
    "        Name = \"TSS\",\n",
    "        Count = n(), \n",
    "        Annotate = paste(TSS_Name, collapse = \",\"),\n",
    "        .groups=\"drop\")\n",
    "\n",
    "###\n",
    "dat_peak_count_tss = dat\n",
    "print(dim(dat))\n",
    "head(dat)"
   ]
  },
  {
   "cell_type": "code",
   "execution_count": 8,
   "id": "0acd4f85",
   "metadata": {},
   "outputs": [],
   "source": [
    "fdiry = file.path(FD_RES, \"region\", \"KS91_K562_ASTARRseq_peak_macs\")\n",
    "fname = \"KS91_K562_hg38_ASTARRseq_Input.count.gencode_v24_tss.tsv\"\n",
    "fpath = file.path(fdiry, fname)\n",
    "\n",
    "write_tsv(dat_peak_count_tss, fpath)"
   ]
  },
  {
   "cell_type": "code",
   "execution_count": null,
   "id": "6b4a65eb",
   "metadata": {},
   "outputs": [],
   "source": []
  },
  {
   "cell_type": "code",
   "execution_count": null,
   "id": "d9dc61f3",
   "metadata": {},
   "outputs": [],
   "source": []
  },
  {
   "cell_type": "code",
   "execution_count": null,
   "id": "c3bc59d8",
   "metadata": {},
   "outputs": [],
   "source": []
  },
  {
   "cell_type": "code",
   "execution_count": null,
   "id": "fb0b61f9",
   "metadata": {},
   "outputs": [],
   "source": []
  },
  {
   "cell_type": "code",
   "execution_count": null,
   "id": "7344176b",
   "metadata": {},
   "outputs": [],
   "source": []
  },
  {
   "cell_type": "code",
   "execution_count": null,
   "id": "7c2ccb25",
   "metadata": {},
   "outputs": [],
   "source": []
  },
  {
   "cell_type": "code",
   "execution_count": 9,
   "id": "820003b3",
   "metadata": {},
   "outputs": [
    {
     "name": "stdout",
     "output_type": "stream",
     "text": [
      "[1] 417   5\n"
     ]
    },
    {
     "data": {
      "text/html": [
       "<table class=\"dataframe\">\n",
       "<caption>A tibble: 6 × 5</caption>\n",
       "<thead>\n",
       "\t<tr><th scope=col>Chrom</th><th scope=col>Start</th><th scope=col>End</th><th scope=col>Peak</th><th scope=col>Region</th></tr>\n",
       "\t<tr><th scope=col>&lt;chr&gt;</th><th scope=col>&lt;dbl&gt;</th><th scope=col>&lt;dbl&gt;</th><th scope=col>&lt;chr&gt;</th><th scope=col>&lt;chr&gt;</th></tr>\n",
       "</thead>\n",
       "<tbody>\n",
       "\t<tr><td>chr8</td><td>126778902</td><td>126779728</td><td>chr8_126778902_126779728</td><td>MYC</td></tr>\n",
       "\t<tr><td>chr8</td><td>126782925</td><td>126783318</td><td>chr8_126782925_126783318</td><td>MYC</td></tr>\n",
       "\t<tr><td>chr8</td><td>126804776</td><td>126805825</td><td>chr8_126804776_126805825</td><td>MYC</td></tr>\n",
       "\t<tr><td>chr8</td><td>126817018</td><td>126817490</td><td>chr8_126817018_126817490</td><td>MYC</td></tr>\n",
       "\t<tr><td>chr8</td><td>126820465</td><td>126821393</td><td>chr8_126820465_126821393</td><td>MYC</td></tr>\n",
       "\t<tr><td>chr8</td><td>126824093</td><td>126824987</td><td>chr8_126824093_126824987</td><td>MYC</td></tr>\n",
       "</tbody>\n",
       "</table>\n"
      ],
      "text/latex": [
       "A tibble: 6 × 5\n",
       "\\begin{tabular}{lllll}\n",
       " Chrom & Start & End & Peak & Region\\\\\n",
       " <chr> & <dbl> & <dbl> & <chr> & <chr>\\\\\n",
       "\\hline\n",
       "\t chr8 & 126778902 & 126779728 & chr8\\_126778902\\_126779728 & MYC\\\\\n",
       "\t chr8 & 126782925 & 126783318 & chr8\\_126782925\\_126783318 & MYC\\\\\n",
       "\t chr8 & 126804776 & 126805825 & chr8\\_126804776\\_126805825 & MYC\\\\\n",
       "\t chr8 & 126817018 & 126817490 & chr8\\_126817018\\_126817490 & MYC\\\\\n",
       "\t chr8 & 126820465 & 126821393 & chr8\\_126820465\\_126821393 & MYC\\\\\n",
       "\t chr8 & 126824093 & 126824987 & chr8\\_126824093\\_126824987 & MYC\\\\\n",
       "\\end{tabular}\n"
      ],
      "text/markdown": [
       "\n",
       "A tibble: 6 × 5\n",
       "\n",
       "| Chrom &lt;chr&gt; | Start &lt;dbl&gt; | End &lt;dbl&gt; | Peak &lt;chr&gt; | Region &lt;chr&gt; |\n",
       "|---|---|---|---|---|\n",
       "| chr8 | 126778902 | 126779728 | chr8_126778902_126779728 | MYC |\n",
       "| chr8 | 126782925 | 126783318 | chr8_126782925_126783318 | MYC |\n",
       "| chr8 | 126804776 | 126805825 | chr8_126804776_126805825 | MYC |\n",
       "| chr8 | 126817018 | 126817490 | chr8_126817018_126817490 | MYC |\n",
       "| chr8 | 126820465 | 126821393 | chr8_126820465_126821393 | MYC |\n",
       "| chr8 | 126824093 | 126824987 | chr8_126824093_126824987 | MYC |\n",
       "\n"
      ],
      "text/plain": [
       "  Chrom Start     End       Peak                     Region\n",
       "1 chr8  126778902 126779728 chr8_126778902_126779728 MYC   \n",
       "2 chr8  126782925 126783318 chr8_126782925_126783318 MYC   \n",
       "3 chr8  126804776 126805825 chr8_126804776_126805825 MYC   \n",
       "4 chr8  126817018 126817490 chr8_126817018_126817490 MYC   \n",
       "5 chr8  126820465 126821393 chr8_126820465_126821393 MYC   \n",
       "6 chr8  126824093 126824987 chr8_126824093_126824987 MYC   "
      ]
     },
     "metadata": {},
     "output_type": "display_data"
    }
   ],
   "source": [
    "ASSAY  = \"Tewhey_K562_TileMPRA\"\n",
    "FOLDER = \"coverage_astarrseq_peak_macs_input\"\n",
    "\n",
    "### set file path\n",
    "fdiry = file.path(FD_RES, \"results\", ASSAY, FOLDER, \"summary\")\n",
    "fname = \"peak_regions.tsv\"\n",
    "fpath = file.path(fdiry, fname)\n",
    "\n",
    "### import data\n",
    "dat_region = read_tsv(fpath, show_col_types = FALSE)\n",
    "print(dim(dat_region))\n",
    "head(dat_region)"
   ]
  },
  {
   "cell_type": "code",
   "execution_count": 13,
   "id": "3e261a5b",
   "metadata": {},
   "outputs": [
    {
     "data": {
      "text/html": [
       "417"
      ],
      "text/latex": [
       "417"
      ],
      "text/markdown": [
       "417"
      ],
      "text/plain": [
       "[1] 417"
      ]
     },
     "metadata": {},
     "output_type": "display_data"
    }
   ],
   "source": [
    "peaks = dat_region$Peak\n",
    "length(peaks)"
   ]
  },
  {
   "cell_type": "code",
   "execution_count": 19,
   "id": "3981919d",
   "metadata": {},
   "outputs": [
    {
     "name": "stdout",
     "output_type": "stream",
     "text": [
      "[1] 417   7\n"
     ]
    },
    {
     "data": {
      "text/html": [
       "<table class=\"dataframe\">\n",
       "<caption>A tibble: 6 × 7</caption>\n",
       "<thead>\n",
       "\t<tr><th scope=col>Chrom</th><th scope=col>Start</th><th scope=col>End</th><th scope=col>Peak</th><th scope=col>Region</th><th scope=col>Label</th><th scope=col>Name</th></tr>\n",
       "\t<tr><th scope=col>&lt;chr&gt;</th><th scope=col>&lt;dbl&gt;</th><th scope=col>&lt;dbl&gt;</th><th scope=col>&lt;chr&gt;</th><th scope=col>&lt;chr&gt;</th><th scope=col>&lt;dbl&gt;</th><th scope=col>&lt;chr&gt;</th></tr>\n",
       "</thead>\n",
       "<tbody>\n",
       "\t<tr><td>chr8</td><td>126778902</td><td>126779728</td><td>chr8_126778902_126779728</td><td>MYC</td><td>0</td><td>TSS</td></tr>\n",
       "\t<tr><td>chr8</td><td>126782925</td><td>126783318</td><td>chr8_126782925_126783318</td><td>MYC</td><td>0</td><td>TSS</td></tr>\n",
       "\t<tr><td>chr8</td><td>126804776</td><td>126805825</td><td>chr8_126804776_126805825</td><td>MYC</td><td>0</td><td>TSS</td></tr>\n",
       "\t<tr><td>chr8</td><td>126817018</td><td>126817490</td><td>chr8_126817018_126817490</td><td>MYC</td><td>0</td><td>TSS</td></tr>\n",
       "\t<tr><td>chr8</td><td>126820465</td><td>126821393</td><td>chr8_126820465_126821393</td><td>MYC</td><td>0</td><td>TSS</td></tr>\n",
       "\t<tr><td>chr8</td><td>126824093</td><td>126824987</td><td>chr8_126824093_126824987</td><td>MYC</td><td>0</td><td>TSS</td></tr>\n",
       "</tbody>\n",
       "</table>\n"
      ],
      "text/latex": [
       "A tibble: 6 × 7\n",
       "\\begin{tabular}{lllllll}\n",
       " Chrom & Start & End & Peak & Region & Label & Name\\\\\n",
       " <chr> & <dbl> & <dbl> & <chr> & <chr> & <dbl> & <chr>\\\\\n",
       "\\hline\n",
       "\t chr8 & 126778902 & 126779728 & chr8\\_126778902\\_126779728 & MYC & 0 & TSS\\\\\n",
       "\t chr8 & 126782925 & 126783318 & chr8\\_126782925\\_126783318 & MYC & 0 & TSS\\\\\n",
       "\t chr8 & 126804776 & 126805825 & chr8\\_126804776\\_126805825 & MYC & 0 & TSS\\\\\n",
       "\t chr8 & 126817018 & 126817490 & chr8\\_126817018\\_126817490 & MYC & 0 & TSS\\\\\n",
       "\t chr8 & 126820465 & 126821393 & chr8\\_126820465\\_126821393 & MYC & 0 & TSS\\\\\n",
       "\t chr8 & 126824093 & 126824987 & chr8\\_126824093\\_126824987 & MYC & 0 & TSS\\\\\n",
       "\\end{tabular}\n"
      ],
      "text/markdown": [
       "\n",
       "A tibble: 6 × 7\n",
       "\n",
       "| Chrom &lt;chr&gt; | Start &lt;dbl&gt; | End &lt;dbl&gt; | Peak &lt;chr&gt; | Region &lt;chr&gt; | Label &lt;dbl&gt; | Name &lt;chr&gt; |\n",
       "|---|---|---|---|---|---|---|\n",
       "| chr8 | 126778902 | 126779728 | chr8_126778902_126779728 | MYC | 0 | TSS |\n",
       "| chr8 | 126782925 | 126783318 | chr8_126782925_126783318 | MYC | 0 | TSS |\n",
       "| chr8 | 126804776 | 126805825 | chr8_126804776_126805825 | MYC | 0 | TSS |\n",
       "| chr8 | 126817018 | 126817490 | chr8_126817018_126817490 | MYC | 0 | TSS |\n",
       "| chr8 | 126820465 | 126821393 | chr8_126820465_126821393 | MYC | 0 | TSS |\n",
       "| chr8 | 126824093 | 126824987 | chr8_126824093_126824987 | MYC | 0 | TSS |\n",
       "\n"
      ],
      "text/plain": [
       "  Chrom Start     End       Peak                     Region Label Name\n",
       "1 chr8  126778902 126779728 chr8_126778902_126779728 MYC    0     TSS \n",
       "2 chr8  126782925 126783318 chr8_126782925_126783318 MYC    0     TSS \n",
       "3 chr8  126804776 126805825 chr8_126804776_126805825 MYC    0     TSS \n",
       "4 chr8  126817018 126817490 chr8_126817018_126817490 MYC    0     TSS \n",
       "5 chr8  126820465 126821393 chr8_126820465_126821393 MYC    0     TSS \n",
       "6 chr8  126824093 126824987 chr8_126824093_126824987 MYC    0     TSS "
      ]
     },
     "metadata": {},
     "output_type": "display_data"
    }
   ],
   "source": [
    "dat = dat_peak_freq_tss %>% \n",
    "    dplyr::filter(Peak %in% peaks) %>%\n",
    "    dplyr::select(Peak) %>%\n",
    "    dplyr::mutate(Label = 1)\n",
    "\n",
    "dat = left_join(dat_region, dat, by = \"Peak\")\n",
    "dat = replace(dat, is.na(dat), 0)\n",
    "dat$Name = \"TSS\"\n",
    "\n",
    "dat_peak_label_tss = dat\n",
    "print(dim(dat))\n",
    "head(dat)"
   ]
  },
  {
   "cell_type": "code",
   "execution_count": 22,
   "id": "a7ea543a",
   "metadata": {},
   "outputs": [
    {
     "data": {
      "image/png": "[encoded data removed]",
      "text/plain": [
       "plot without title"
      ]
     },
     "metadata": {
      "image/png": {
       "height": 300,
       "width": 1800
      }
     },
     "output_type": "display_data"
    }
   ],
   "source": [
    "dat = dat_peak_label_tss\n",
    "dat$Label = as.character(dat$Label)\n",
    "\n",
    "gpt = ggplot(dat, aes(x=Peak, y=Name, fill=Label)) +\n",
    "    geom_tile() +\n",
    "    scale_fill_manual(values = c(\"1\" = \"black\", \"0\" = \"white\")) +\n",
    "    labs(x=\"\", y=\"\") +\n",
    "    theme_cowplot() +\n",
    "    theme(axis.text.x = element_blank(),\n",
    "          axis.text.y = element_text(size=30),\n",
    "          legend.position = \"none\")\n",
    "    \n",
    "\n",
    "options(repr.plot.height=5, repr.plot.width=30)\n",
    "print(gpt)"
   ]
  },
  {
   "cell_type": "code",
   "execution_count": null,
   "id": "8c76c268",
   "metadata": {},
   "outputs": [],
   "source": []
  }
 ],
 "metadata": {
  "kernelspec": {
   "display_name": "R (alex_py3)",
   "language": "R",
   "name": "ir_alex_py3"
  },
  "language_info": {
   "codemirror_mode": "r",
   "file_extension": ".r",
   "mimetype": "text/x-r-source",
   "name": "R",
   "pygments_lexer": "r",
   "version": "3.6.2"
  }
 },
 "nbformat": 4,
 "nbformat_minor": 5
}
