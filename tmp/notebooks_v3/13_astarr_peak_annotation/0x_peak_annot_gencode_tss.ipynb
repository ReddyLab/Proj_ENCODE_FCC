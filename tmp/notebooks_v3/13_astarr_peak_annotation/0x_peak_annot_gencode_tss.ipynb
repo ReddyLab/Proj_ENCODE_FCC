{
 "cells": [
  {
   "cell_type": "code",
   "execution_count": 1,
   "id": "de2f61a3-9d36-45c3-818e-ad2f77bb1fd9",
   "metadata": {},
   "outputs": [
    {
     "name": "stdout",
     "output_type": "stream",
     "text": [
      "You are on Duke Server: HARDAC\n",
      "BASE DIRECTORY:     /data/reddylab/Kuei\n",
      "WORK DIRECTORY:     /data/reddylab/Kuei/out\n",
      "CODE DIRECTORY:     /data/reddylab/Kuei/code\n",
      "SING DIRECTORY:     /data/reddylab/Kuei/singularity\n",
      "PATH OF SOURCE:     /data/reddylab/Kuei/source\n",
      "PATH OF EXECUTABLE: /data/reddylab/Kuei/bin\n",
      "PATH OF ANNOTATION: /data/reddylab/Kuei/annotation\n",
      "PATH OF PROJECT:    /data/reddylab/Kuei/code/Proj_CombEffect_ENCODE_FCC\n",
      "PATH OF RESULTS:    /data/reddylab/Kuei/out/proj_combeffect_encode_fcc\n",
      "\n"
     ]
    }
   ],
   "source": [
    "### set env\n",
    "source ../config/config_duke.sh\n",
    "source ../config/config_load_module_bedtools.sh\n",
    "show_env"
   ]
  },
  {
   "cell_type": "code",
   "execution_count": 2,
   "id": "2c93222b-b86f-4d76-bd7b-27ffb10e8854",
   "metadata": {},
   "outputs": [
    {
     "name": "stdout",
     "output_type": "stream",
     "text": [
      "\u001b[0m\u001b[38;5;27mannotation_cCREs\u001b[0m    \u001b[38;5;27mannotation_motif\u001b[0m      \u001b[38;5;27mKS91_K562_ASTARRseq_peak_macs\u001b[0m\n",
      "\u001b[38;5;27mannotation_gencode\u001b[0m  \u001b[38;5;27mannotation_remap2022\u001b[0m\n"
     ]
    }
   ],
   "source": [
    "ls ${FD_RES}/region"
   ]
  },
  {
   "cell_type": "code",
   "execution_count": 4,
   "id": "e552cfdb-6932-4338-94da-6019c7cb998a",
   "metadata": {},
   "outputs": [
    {
     "name": "stdout",
     "output_type": "stream",
     "text": [
      "KS91_K562_hg38_ASTARRseq_Input.all_reps.masked.union_narrowPeak.q5.bed\n",
      "\u001b[0m\u001b[38;5;9mKS91_K562_hg38_ASTARRseq_Input.all_reps.masked.union_narrowPeak.q5.ccre_all.bed.gz\u001b[0m\u001b[K\n",
      "\u001b[38;5;9mKS91_K562_hg38_ASTARRseq_Input.all_reps.masked.union_narrowPeak.q5.nuc.bed.gz\u001b[0m\n",
      "\u001b[38;5;9mKS91_K562_hg38_ASTARRseq_Input.all_reps.masked.union_narrowPeak.q5.remap2022_nr.bed.gz\u001b[0m\u001b[K\n",
      "KS91_K562_hg38_ASTARRseq_Input.ccre_all.freq.tsv\n",
      "KS91_K562_hg38_ASTARRseq_Input.remap2022_nr.tsv\n"
     ]
    }
   ],
   "source": [
    "ls ${FD_RES}/region/KS91_K562_ASTARRseq_peak_macs"
   ]
  },
  {
   "cell_type": "code",
   "execution_count": 5,
   "id": "f6d4a61c-4218-4b94-9c93-689a7306d71d",
   "metadata": {},
   "outputs": [
    {
     "name": "stdout",
     "output_type": "stream",
     "text": [
      "gencode.v42.basic.annotation.tss.bed\n"
     ]
    }
   ],
   "source": [
    "ls ${FD_RES}/region/annotation_gencode"
   ]
  },
  {
   "cell_type": "markdown",
   "id": "879ecd78-4fab-442a-8b20-0b3509d86f07",
   "metadata": {},
   "source": [
    "## Annotation with TSS"
   ]
  },
  {
   "cell_type": "code",
   "execution_count": 10,
   "id": "ecff13c9-9219-47dc-a8c8-72cdf3456019",
   "metadata": {},
   "outputs": [
    {
     "name": "stdout",
     "output_type": "stream",
     "text": [
      "Submitted batch job 29432948\n"
     ]
    }
   ],
   "source": [
    "sbatch -p ${NODE} \\\n",
    "    --exclude=dl-01 \\\n",
    "    --cpus-per-task 8 \\\n",
    "    --mem 20G \\\n",
    "    --output ${FD_LOG}/annotation_astarr_peak_macs_input_gencode_tss.txt \\\n",
    "    --array 0 \\\n",
    "    <<'EOF'\n",
    "#!/bin/bash\n",
    "### set directories & global variables\n",
    "source ../config/config_duke.sh\n",
    "\n",
    "### set input and output\n",
    "FD_BED=${FD_RES}/region/KS91_K562_ASTARRseq_peak_macs\n",
    "FN_BED=KS91_K562_hg38_ASTARRseq_Input.all_reps.masked.union_narrowPeak.q5.bed\n",
    "FP_BED=${FD_BED}/${FN_BED}\n",
    "\n",
    "FD_ANN=${FD_RES}/region/annotation_gencode\n",
    "FN_ANN=gencode.v42.basic.annotation.tss.bed\n",
    "FP_ANN=${FD_ANN}/${FN_ANN}\n",
    "\n",
    "FD_OUT=${FD_RES}/region/KS91_K562_ASTARRseq_peak_macs\n",
    "FN_OUT=KS91_K562_hg38_ASTARRseq_Input.all_reps.masked.union_narrowPeak.q5.gencode_v24_tss.bed.gz\n",
    "FP_OUT=${FD_OUT}/${FN_OUT}\n",
    "\n",
    "### print start message\n",
    "timer_start=`date +%s`\n",
    "echo \"Hostname:          \" $(hostname)\n",
    "echo \"Slurm Array Index: \" ${SLURM_ARRAY_TASK_ID}\n",
    "echo \"Time Stamp:        \" $(date +\"%m-%d-%y+%T\")\n",
    "echo\n",
    "\n",
    "### show I/O file\n",
    "echo \"Input: \" ${FP_BED}\n",
    "echo\n",
    "echo \"show first few lines of input\"\n",
    "cat ${FP_BED} | head -5\n",
    "echo\n",
    "echo \"Input: \" ${FP_ANN}\n",
    "echo\n",
    "echo \"show first few lines of input\"\n",
    "cat ${FP_ANN} | head -5\n",
    "echo\n",
    "\n",
    "### init: create output folder if not exist\n",
    "mkdir -p ${FD_OUT}\n",
    "\n",
    "### annotation using intersect\n",
    "bedtools intersect -a ${FP_BED} -b ${FP_ANN} -wo -F 1.0 | gzip -c > ${FP_OUT}\n",
    "\n",
    "### show output file\n",
    "echo\n",
    "echo \"Output: \" ${FP_OUT}\n",
    "echo\n",
    "echo \"show first few lines of output:\"\n",
    "zcat ${FP_OUT} | head -5\n",
    "echo\n",
    "\n",
    "### print end message\n",
    "timer=`date +%s`\n",
    "runtime=$(echo \"${timer} - ${timer_start}\" | bc -l)\n",
    "echo\n",
    "echo 'Done!'\n",
    "echo \"Run Time: $(displaytime ${runtime})\"\n",
    "\n",
    "EOF"
   ]
  },
  {
   "cell_type": "code",
   "execution_count": 11,
   "id": "b0f8278e-e2bb-421f-b10e-8852cefe9afe",
   "metadata": {},
   "outputs": [
    {
     "name": "stdout",
     "output_type": "stream",
     "text": [
      "Hostname:           x1-01-4.genome.duke.edu\n",
      "Slurm Array Index:  0\n",
      "Time Stamp:         12-15-22+14:30:41\n",
      "\n",
      "Input:  /data/reddylab/Kuei/out/proj_combeffect_encode_fcc/region/KS91_K562_ASTARRseq_peak_macs/KS91_K562_hg38_ASTARRseq_Input.all_reps.masked.union_narrowPeak.q5.bed\n",
      "\n",
      "show first few lines of input\n",
      "chr1\t10015\t10442\n",
      "chr1\t14253\t14645\n",
      "chr1\t16015\t16477\n",
      "chr1\t17237\t17772\n",
      "chr1\t28903\t29613\n",
      "\n",
      "Input:  /data/reddylab/Kuei/out/proj_combeffect_encode_fcc/region/annotation_gencode/gencode.v42.basic.annotation.tss.bed\n",
      "\n",
      "show first few lines of input\n",
      "chr1\t11868\t11869\tENSG00000290825.1\t.\t+\tDDX11L2\n",
      "chr1\t12009\t12010\tENSG00000223972.6\t.\t+\tDDX11L1\n",
      "chr1\t29570\t29571\tENSG00000227232.5\t.\t-\tWASH7P\n",
      "chr1\t17436\t17437\tENSG00000278267.1\t.\t-\tMIR6859-1\n",
      "chr1\t29553\t29554\tENSG00000243485.5\t.\t+\tMIR1302-2HG\n",
      "\n",
      "\n",
      "Output:  /data/reddylab/Kuei/out/proj_combeffect_encode_fcc/region/KS91_K562_ASTARRseq_peak_macs/KS91_K562_hg38_ASTARRseq_Input.all_reps.masked.union_narrowPeak.q5.gencode_v24_tss.bed.gz\n",
      "\n",
      "show first few lines of output:\n",
      "chr1\t17237\t17772\tchr1\t17436\t17437\tENSG00000278267.1\t.\t-\tMIR6859-1\t1\n",
      "chr1\t28903\t29613\tchr1\t29570\t29571\tENSG00000227232.5\t.\t-\tWASH7P\t1\n",
      "chr1\t28903\t29613\tchr1\t29553\t29554\tENSG00000243485.5\t.\t+\tMIR1302-2HG\t1\n",
      "chr1\t137737\t139544\tchr1\t137965\t137966\tENSG00000269981.1\t.\t-\tENSG00000269981\t1\n",
      "chr1\t777949\t779437\tchr1\t778688\t778689\tENSG00000291215.1\t.\t-\tENSG00000291215\t1\n",
      "\n",
      "\n",
      "Done!\n",
      "Run Time: 0 seconds\n"
     ]
    }
   ],
   "source": [
    "cat ${FD_LOG}/annotation_astarr_peak_macs_input_gencode_tss.txt"
   ]
  },
  {
   "cell_type": "code",
   "execution_count": null,
   "id": "6e996e56-2a7c-4511-8592-061e1292f034",
   "metadata": {},
   "outputs": [],
   "source": []
  }
 ],
 "metadata": {
  "kernelspec": {
   "display_name": "Bash",
   "language": "bash",
   "name": "bash"
  },
  "language_info": {
   "codemirror_mode": "shell",
   "file_extension": ".sh",
   "mimetype": "text/x-sh",
   "name": "bash"
  }
 },
 "nbformat": 4,
 "nbformat_minor": 5
}
