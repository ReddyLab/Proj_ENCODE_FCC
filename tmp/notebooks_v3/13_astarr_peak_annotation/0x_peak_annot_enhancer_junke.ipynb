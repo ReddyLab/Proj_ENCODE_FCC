{
 "cells": [
  {
   "cell_type": "code",
   "execution_count": 1,
   "id": "de2f61a3-9d36-45c3-818e-ad2f77bb1fd9",
   "metadata": {},
   "outputs": [
    {
     "name": "stdout",
     "output_type": "stream",
     "text": [
      "You are on Duke Server: HARDAC\n",
      "BASE DIRECTORY:     /data/reddylab/Kuei\n",
      "WORK DIRECTORY:     /data/reddylab/Kuei/out\n",
      "CODE DIRECTORY:     /data/reddylab/Kuei/code\n",
      "SING DIRECTORY:     /data/reddylab/Kuei/singularity\n",
      "PATH OF SOURCE:     /data/reddylab/Kuei/source\n",
      "PATH OF EXECUTABLE: /data/reddylab/Kuei/bin\n",
      "PATH OF ANNOTATION: /data/reddylab/Kuei/annotation\n",
      "PATH OF PROJECT:    /data/reddylab/Kuei/code/Proj_CombEffect_ENCODE_FCC\n",
      "PATH OF RESULTS:    /data/reddylab/Kuei/out/proj_combeffect_encode_fcc\n",
      "\n"
     ]
    }
   ],
   "source": [
    "### set env\n",
    "source ../config/config_duke.sh\n",
    "source ../config/config_load_module_bedtools.sh\n",
    "show_env"
   ]
  },
  {
   "cell_type": "code",
   "execution_count": 2,
   "id": "2c93222b-b86f-4d76-bd7b-27ffb10e8854",
   "metadata": {},
   "outputs": [
    {
     "name": "stdout",
     "output_type": "stream",
     "text": [
      "\u001b[0m\u001b[38;5;27mannotation_cCREs\u001b[0m           \u001b[38;5;27mannotation_gencode\u001b[0m  \u001b[38;5;27mannotation_remap2022\u001b[0m\n",
      "\u001b[38;5;27mannotation_enhancer_junke\u001b[0m  \u001b[38;5;27mannotation_motif\u001b[0m    \u001b[38;5;27mKS91_K562_ASTARRseq_peak_macs\u001b[0m\n"
     ]
    }
   ],
   "source": [
    "ls ${FD_RES}/region"
   ]
  },
  {
   "cell_type": "code",
   "execution_count": 3,
   "id": "e552cfdb-6932-4338-94da-6019c7cb998a",
   "metadata": {},
   "outputs": [
    {
     "name": "stdout",
     "output_type": "stream",
     "text": [
      "KS91_K562_hg38_ASTARRseq_Input.all_reps.masked.union_narrowPeak.q5.bed\n",
      "\u001b[0m\u001b[38;5;9mKS91_K562_hg38_ASTARRseq_Input.all_reps.masked.union_narrowPeak.q5.ccre_all.bed.gz\u001b[0m\u001b[K\n",
      "\u001b[38;5;9mKS91_K562_hg38_ASTARRseq_Input.all_reps.masked.union_narrowPeak.q5.gencode_v24_tss.bed.gz\u001b[0m\u001b[K\n",
      "\u001b[38;5;9mKS91_K562_hg38_ASTARRseq_Input.all_reps.masked.union_narrowPeak.q5.nuc.bed.gz\u001b[0m\n",
      "\u001b[38;5;9mKS91_K562_hg38_ASTARRseq_Input.all_reps.masked.union_narrowPeak.q5.remap2022_nr.bed.gz\u001b[0m\u001b[K\n",
      "KS91_K562_hg38_ASTARRseq_Input.ccre_all.freq.tsv\n",
      "KS91_K562_hg38_ASTARRseq_Input.remap2022_nr.tsv\n"
     ]
    }
   ],
   "source": [
    "ls ${FD_RES}/region/KS91_K562_ASTARRseq_peak_macs"
   ]
  },
  {
   "cell_type": "code",
   "execution_count": 4,
   "id": "f6d4a61c-4218-4b94-9c93-689a7306d71d",
   "metadata": {},
   "outputs": [
    {
     "name": "stdout",
     "output_type": "stream",
     "text": [
      "\u001b[0m\u001b[38;5;9menhancer_junke_peak_astarr.bed.gz\u001b[0m  \u001b[38;5;9menhancer_junke_peak_wstarr.bed.gz\u001b[0m\n"
     ]
    }
   ],
   "source": [
    "ls ${FD_RES}/region/annotation_enhancer_junke"
   ]
  },
  {
   "cell_type": "code",
   "execution_count": 7,
   "id": "28169c7d-19fe-4187-8c91-420a47d04189",
   "metadata": {},
   "outputs": [
    {
     "name": "stdout",
     "output_type": "stream",
     "text": [
      "enhancer_junke_peak_astarr.bed.gz\n",
      "enhancer_junke_peak_wstarr.bed.gz\n"
     ]
    }
   ],
   "source": [
    "FN_ANNS=($(ls ${FD_RES}/region/annotation_enhancer_junke))\n",
    "for FN_ANN in ${FN_ANNS[@]}; do\n",
    "    echo ${FN_ANN}\n",
    "done"
   ]
  },
  {
   "cell_type": "markdown",
   "id": "879ecd78-4fab-442a-8b20-0b3509d86f07",
   "metadata": {},
   "source": [
    "## Annotation with Junke's enhancers"
   ]
  },
  {
   "cell_type": "code",
   "execution_count": 16,
   "id": "ecff13c9-9219-47dc-a8c8-72cdf3456019",
   "metadata": {},
   "outputs": [
    {
     "name": "stdout",
     "output_type": "stream",
     "text": [
      "Submitted batch job 29433942\n"
     ]
    }
   ],
   "source": [
    "sbatch -p ${NODE} \\\n",
    "    --exclude=dl-01 \\\n",
    "    --cpus-per-task 8 \\\n",
    "    --mem 20G \\\n",
    "    --output ${FD_LOG}/annotation_astarr_peak_macs_input_enhancer_junke_peak.%a.txt \\\n",
    "    --array 0-1 \\\n",
    "    <<'EOF'\n",
    "#!/bin/bash\n",
    "### set directories & global variables\n",
    "source ../config/config_duke.sh\n",
    "\n",
    "### set input and output\n",
    "FD_BED=${FD_RES}/region/KS91_K562_ASTARRseq_peak_macs\n",
    "FN_BED=KS91_K562_hg38_ASTARRseq_Input.all_reps.masked.union_narrowPeak.q5.bed\n",
    "FP_BED=${FD_BED}/${FN_BED}\n",
    "\n",
    "FD_ANN=${FD_RES}/region/annotation_enhancer_junke\n",
    "FN_ANNS=($(ls ${FD_RES}/region/annotation_enhancer_junke))\n",
    "FN_ANN=${FN_ANNS[${SLURM_ARRAY_TASK_ID}]}\n",
    "FP_ANN=${FD_ANN}/${FN_ANN}\n",
    "\n",
    "FD_OUT=${FD_RES}/region/KS91_K562_ASTARRseq_peak_macs\n",
    "FN_OUT=KS91_K562_hg38_ASTARRseq_Input.all_reps.masked.union_narrowPeak.q5.${FN_ANN}\n",
    "FP_OUT=${FD_OUT}/${FN_OUT}\n",
    "\n",
    "### print start message\n",
    "timer_start=`date +%s`\n",
    "echo \"Hostname:          \" $(hostname)\n",
    "echo \"Slurm Array Index: \" ${SLURM_ARRAY_TASK_ID}\n",
    "echo \"Time Stamp:        \" $(date +\"%m-%d-%y+%T\")\n",
    "echo\n",
    "\n",
    "### show I/O file\n",
    "echo \"Input: \" ${FP_BED}\n",
    "echo\n",
    "echo \"show first few lines of input\"\n",
    "cat ${FP_BED} | head -5\n",
    "echo\n",
    "echo \"Input: \" ${FP_ANN}\n",
    "echo\n",
    "echo \"show first few lines of input\"\n",
    "zcat ${FP_ANN} | head -5\n",
    "echo\n",
    "\n",
    "### init: create output folder if not exist\n",
    "mkdir -p ${FD_OUT}\n",
    "\n",
    "### annotation using intersect\n",
    "bedtools intersect \\\n",
    "    -a ${FP_BED} \\\n",
    "    -b ${FP_ANN} \\\n",
    "    -wo \\\n",
    "    -f 0.5 \\\n",
    "    -F 0.5 \\\n",
    "    -e \\\n",
    "| gzip -c \\\n",
    "> ${FP_OUT}\n",
    "\n",
    "### show output file\n",
    "echo\n",
    "echo \"Output: \" ${FP_OUT}\n",
    "echo\n",
    "echo \"show first few lines of output:\"\n",
    "zcat ${FP_OUT} | head -5\n",
    "echo\n",
    "\n",
    "### print end message\n",
    "timer=`date +%s`\n",
    "runtime=$(echo \"${timer} - ${timer_start}\" | bc -l)\n",
    "echo\n",
    "echo 'Done!'\n",
    "echo \"Run Time: $(displaytime ${runtime})\"\n",
    "\n",
    "EOF"
   ]
  },
  {
   "cell_type": "code",
   "execution_count": 17,
   "id": "33b56280-c6d9-4a3e-aa80-2fe181bd9e81",
   "metadata": {},
   "outputs": [
    {
     "name": "stdout",
     "output_type": "stream",
     "text": [
      "/data/reddylab/Kuei/out/proj_combeffect_encode_fcc/log/annotation_astarr_peak_macs_input_enhancer_junke_peak.0.txt\n",
      "/data/reddylab/Kuei/out/proj_combeffect_encode_fcc/log/annotation_astarr_peak_macs_input_enhancer_junke_peak.1.txt\n"
     ]
    }
   ],
   "source": [
    "ls ${FD_LOG}/annotation_astarr_peak_macs_input_enhancer_junke_peak.*.txt"
   ]
  },
  {
   "cell_type": "code",
   "execution_count": 18,
   "id": "b0f8278e-e2bb-421f-b10e-8852cefe9afe",
   "metadata": {},
   "outputs": [
    {
     "name": "stdout",
     "output_type": "stream",
     "text": [
      "Hostname:           x1-01-4.genome.duke.edu\n",
      "Slurm Array Index:  0\n",
      "Time Stamp:         12-17-22+16:09:18\n",
      "\n",
      "Input:  /data/reddylab/Kuei/out/proj_combeffect_encode_fcc/region/KS91_K562_ASTARRseq_peak_macs/KS91_K562_hg38_ASTARRseq_Input.all_reps.masked.union_narrowPeak.q5.bed\n",
      "\n",
      "show first few lines of input\n",
      "chr1\t10015\t10442\n",
      "chr1\t14253\t14645\n",
      "chr1\t16015\t16477\n",
      "chr1\t17237\t17772\n",
      "chr1\t28903\t29613\n",
      "\n",
      "Input:  /data/reddylab/Kuei/out/proj_combeffect_encode_fcc/region/annotation_enhancer_junke/enhancer_junke_peak_astarr.bed.gz\n",
      "\n",
      "show first few lines of input\n",
      "chr1\t115570\t115690\n",
      "chr1\t605280\t605300\n",
      "chr1\t605330\t605340\n",
      "chr1\t605350\t605370\n",
      "chr1\t605440\t605480\n",
      "\n",
      "\n",
      "Output:  /data/reddylab/Kuei/out/proj_combeffect_encode_fcc/region/KS91_K562_ASTARRseq_peak_macs/KS91_K562_hg38_ASTARRseq_Input.all_reps.masked.union_narrowPeak.q5.enhancer_junke_peak_astarr.bed.gz\n",
      "\n",
      "show first few lines of output:\n",
      "chr1\t115411\t115986\tchr1\t115570\t115690\t120\n",
      "chr1\t605090\t605823\tchr1\t605280\t605300\t20\n",
      "chr1\t605090\t605823\tchr1\t605330\t605340\t10\n",
      "chr1\t605090\t605823\tchr1\t605350\t605370\t20\n",
      "chr1\t605090\t605823\tchr1\t605440\t605480\t40\n",
      "\n",
      "\n",
      "Done!\n",
      "Run Time: 0 seconds\n"
     ]
    }
   ],
   "source": [
    "cat ${FD_LOG}/annotation_astarr_peak_macs_input_enhancer_junke_peak.0.txt"
   ]
  },
  {
   "cell_type": "code",
   "execution_count": 19,
   "id": "6e996e56-2a7c-4511-8592-061e1292f034",
   "metadata": {},
   "outputs": [
    {
     "name": "stdout",
     "output_type": "stream",
     "text": [
      "Hostname:           x1-01-3.genome.duke.edu\n",
      "Slurm Array Index:  1\n",
      "Time Stamp:         12-17-22+16:09:18\n",
      "\n",
      "Input:  /data/reddylab/Kuei/out/proj_combeffect_encode_fcc/region/KS91_K562_ASTARRseq_peak_macs/KS91_K562_hg38_ASTARRseq_Input.all_reps.masked.union_narrowPeak.q5.bed\n",
      "\n",
      "show first few lines of input\n",
      "chr1\t10015\t10442\n",
      "chr1\t14253\t14645\n",
      "chr1\t16015\t16477\n",
      "chr1\t17237\t17772\n",
      "chr1\t28903\t29613\n",
      "\n",
      "Input:  /data/reddylab/Kuei/out/proj_combeffect_encode_fcc/region/annotation_enhancer_junke/enhancer_junke_peak_wstarr.bed.gz\n",
      "\n",
      "show first few lines of input\n",
      "chr1\t778410\t778450\n",
      "chr1\t778460\t778820\n",
      "chr1\t778830\t778860\n",
      "chr1\t778870\t779090\n",
      "chr1\t818900\t818920\n",
      "\n",
      "\n",
      "Output:  /data/reddylab/Kuei/out/proj_combeffect_encode_fcc/region/KS91_K562_ASTARRseq_peak_macs/KS91_K562_hg38_ASTARRseq_Input.all_reps.masked.union_narrowPeak.q5.enhancer_junke_peak_wstarr.bed.gz\n",
      "\n",
      "show first few lines of output:\n",
      "chr1\t777949\t779437\tchr1\t778410\t778450\t40\n",
      "chr1\t777949\t779437\tchr1\t778460\t778820\t360\n",
      "chr1\t777949\t779437\tchr1\t778830\t778860\t30\n",
      "chr1\t777949\t779437\tchr1\t778870\t779090\t220\n",
      "chr1\t818602\t819380\tchr1\t818900\t818920\t20\n",
      "\n",
      "\n",
      "Done!\n",
      "Run Time: 0 seconds\n"
     ]
    }
   ],
   "source": [
    "cat ${FD_LOG}/annotation_astarr_peak_macs_input_enhancer_junke_peak.1.txt"
   ]
  },
  {
   "cell_type": "code",
   "execution_count": null,
   "id": "248e8384-c5a2-4d36-9059-e9759f4e758b",
   "metadata": {},
   "outputs": [],
   "source": []
  }
 ],
 "metadata": {
  "kernelspec": {
   "display_name": "Bash",
   "language": "bash",
   "name": "bash"
  },
  "language_info": {
   "codemirror_mode": "shell",
   "file_extension": ".sh",
   "mimetype": "text/x-sh",
   "name": "bash"
  }
 },
 "nbformat": 4,
 "nbformat_minor": 5
}
