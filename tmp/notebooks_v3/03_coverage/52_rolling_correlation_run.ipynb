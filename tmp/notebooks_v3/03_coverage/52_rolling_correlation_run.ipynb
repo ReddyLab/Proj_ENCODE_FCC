{
 "cells": [
  {
   "cell_type": "markdown",
   "id": "11ab3755-538c-471f-a9dd-2da1ad73e35e",
   "metadata": {},
   "source": [
    "**Set environment**"
   ]
  },
  {
   "cell_type": "code",
   "execution_count": 1,
   "id": "96dc59bc-6bd6-453b-a8c3-68a152ed4f89",
   "metadata": {},
   "outputs": [
    {
     "name": "stdout",
     "output_type": "stream",
     "text": [
      "You are on Duke Server: HARDAC\n",
      "BASE DIRECTORY:     /data/reddylab/Kuei\n",
      "WORK DIRECTORY:     /data/reddylab/Kuei/out\n",
      "CODE DIRECTORY:     /data/reddylab/Kuei/code\n",
      "SING DIRECTORY:     /data/reddylab/Kuei/singularity\n",
      "PATH OF SOURCE:     /data/reddylab/Kuei/source\n",
      "PATH OF EXECUTABLE: /data/reddylab/Kuei/bin\n",
      "PATH OF ANNOTATION: /data/reddylab/Kuei/annotation\n",
      "PATH OF PROJECT:    /data/reddylab/Kuei/code/Proj_CombEffect_ENCODE_FCC\n",
      "PATH OF RESULTS:    /data/reddylab/Kuei/out/proj_combeffect_encode_fcc\n",
      "\n"
     ]
    }
   ],
   "source": [
    "source ../config/config_duke.sh\n",
    "show_env"
   ]
  },
  {
   "cell_type": "code",
   "execution_count": 5,
   "id": "af349ebc-51ad-4c38-ad2a-89cca3775557",
   "metadata": {},
   "outputs": [
    {
     "name": "stdout",
     "output_type": "stream",
     "text": [
      "\u001b[0m\u001b[38;5;27mnotebooks\u001b[0m  \u001b[38;5;27mnotebooks_v1\u001b[0m  \u001b[38;5;27mnotebooks_v2\u001b[0m  README.md\n"
     ]
    }
   ],
   "source": [
    "ls ${FD_PRJ}"
   ]
  },
  {
   "cell_type": "code",
   "execution_count": 6,
   "id": "028db327-77b3-4067-84a1-9d224b51a03f",
   "metadata": {},
   "outputs": [
    {
     "name": "stdout",
     "output_type": "stream",
     "text": [
      "\u001b[0m\u001b[38;5;27m00_setup\u001b[0m     \u001b[38;5;27m04_annotation\u001b[0m              \u001b[38;5;27m1x_astarr_peak_combine\u001b[0m\n",
      "\u001b[38;5;27m01_prepare\u001b[0m   \u001b[38;5;27m11_astarr_peak_nuc\u001b[0m         \u001b[38;5;27mconfig\u001b[0m\n",
      "\u001b[38;5;27m02_fragment\u001b[0m  \u001b[38;5;27m12_astarr_peak_coverage\u001b[0m    \u001b[38;5;34mjupyter_proj_encode_fcc.sh\u001b[0m\n",
      "\u001b[38;5;27m03_coverage\u001b[0m  \u001b[38;5;27m13_astarr_peak_annotation\u001b[0m  \u001b[38;5;34msing_proj_encode_fcc.sh\u001b[0m\n"
     ]
    }
   ],
   "source": [
    "ls ${FD_PRJ}/notebooks"
   ]
  },
  {
   "cell_type": "code",
   "execution_count": 7,
   "id": "88dd046a-f5c4-4a71-b7fe-017d4def0d3d",
   "metadata": {},
   "outputs": [
    {
     "name": "stdout",
     "output_type": "stream",
     "text": [
      "#!/bin/bash\n",
      "\n",
      "### get file path\n",
      "### Stackoverflow: how-can-i-get-the-source-directory-of-a-bash-script-from-within-the-script-itself\n",
      "SCRIPT_DIR=\"$( cd \"$( dirname \"${BASH_SOURCE[0]}\" )\" &> /dev/null && pwd )\"\n",
      "source ${SCRIPT_DIR}/config/config_duke.sh\n",
      "\n",
      "### execute\n",
      "singularity exec \\\n",
      "    -H ${PWD}:/home \\\n",
      "    -B ${FD_WORK}:/mount/work \\\n",
      "    -B ${FD_CODE}:/mount/code \\\n",
      "    -B ${FD_RLAB}:/mount/reddylab \\\n",
      "    -B /data:/data \\\n",
      "    ${FD_SING}/singularity_proj_combeffect.sif \\\n",
      "    \"$@\"\n"
     ]
    }
   ],
   "source": [
    "cat ${FD_PRJ}/notebooks/sing_proj_encode_fcc.sh"
   ]
  },
  {
   "cell_type": "code",
   "execution_count": 64,
   "id": "5d6259ac-437a-483c-9c4f-eee15d7d1a54",
   "metadata": {},
   "outputs": [],
   "source": [
    "rm /data/reddylab/Kuei/out/proj_combeffect_encode_fcc/results/comparison/comparison_local/cor_size_200bp_step_50bp/cor.pLog2FC.FADS.*.csv"
   ]
  },
  {
   "cell_type": "code",
   "execution_count": 60,
   "id": "5c5dc594-976a-476c-9f33-95f1c0930b7c",
   "metadata": {},
   "outputs": [
    {
     "name": "stdout",
     "output_type": "stream",
     "text": [
      "Submitted batch job 29433998\n"
     ]
    }
   ],
   "source": [
    "sbatch -p ${NODE} \\\n",
    "    --mem  4G \\\n",
    "    --array 1-50 \\\n",
    "    -o ${FD_LOG}/rolling_correlation.size_200bp_step_50bp.GATA1.%a.txt \\\n",
    "    <<'EOF'\n",
    "#!/bin/bash\n",
    "### set environment\n",
    "source ../config/config_duke.sh\n",
    "NUM_PARTS=50\n",
    "COLUMN=pLog2FC\n",
    "REGION=GATA1\n",
    "\n",
    "### print start message\n",
    "timer_start=`date +%s`\n",
    "echo \"Hostname:          \" $(hostname)\n",
    "echo \"Slurm Array Index: \" ${SLURM_ARRAY_TASK_ID}\n",
    "echo \"Time Stamp:        \" $(date +\"%m-%d-%y+%T\")\n",
    "echo\n",
    "\n",
    "### run script\n",
    "${FD_PRJ}/notebooks/sing_proj_encode_fcc.sh Rscript ./scripts/rolling_correlation.R \\\n",
    "    ${REGION}    \\\n",
    "    ${COLUMN}    \\\n",
    "    ${NUM_PARTS} \\\n",
    "    ${SLURM_ARRAY_TASK_ID}\n",
    "\n",
    "### print end message\n",
    "timer=`date +%s`\n",
    "runtime=$(echo \"${timer} - ${timer_start}\" | bc -l)\n",
    "echo\n",
    "echo 'Done!'\n",
    "echo \"Run Time: $(displaytime ${runtime})\"\n",
    "EOF"
   ]
  },
  {
   "cell_type": "code",
   "execution_count": 61,
   "id": "65eb9869-7331-4371-b2f7-694d3217887f",
   "metadata": {},
   "outputs": [
    {
     "name": "stdout",
     "output_type": "stream",
     "text": [
      "Submitted batch job 29434048\n"
     ]
    }
   ],
   "source": [
    "sbatch -p ${NODE} \\\n",
    "    --mem  4G \\\n",
    "    --array 1-50 \\\n",
    "    -o ${FD_LOG}/rolling_correlation.size_200bp_step_50bp.MYC.%a.txt \\\n",
    "    <<'EOF'\n",
    "#!/bin/bash\n",
    "### set environment\n",
    "source ../config/config_duke.sh\n",
    "NUM_PARTS=50\n",
    "COLUMN=pLog2FC\n",
    "REGION=MYC\n",
    "\n",
    "### print start message\n",
    "timer_start=`date +%s`\n",
    "echo \"Hostname:          \" $(hostname)\n",
    "echo \"Slurm Array Index: \" ${SLURM_ARRAY_TASK_ID}\n",
    "echo \"Time Stamp:        \" $(date +\"%m-%d-%y+%T\")\n",
    "echo\n",
    "\n",
    "### run script\n",
    "${FD_PRJ}/notebooks/sing_proj_encode_fcc.sh Rscript ./scripts/rolling_correlation.R \\\n",
    "    ${REGION}    \\\n",
    "    ${COLUMN}    \\\n",
    "    ${NUM_PARTS} \\\n",
    "    ${SLURM_ARRAY_TASK_ID}\n",
    "\n",
    "### print end message\n",
    "timer=`date +%s`\n",
    "runtime=$(echo \"${timer} - ${timer_start}\" | bc -l)\n",
    "echo\n",
    "echo 'Done!'\n",
    "echo \"Run Time: $(displaytime ${runtime})\"\n",
    "EOF"
   ]
  },
  {
   "cell_type": "code",
   "execution_count": 65,
   "id": "de6530fe-e4c7-418d-9726-92d45cf80538",
   "metadata": {},
   "outputs": [
    {
     "name": "stdout",
     "output_type": "stream",
     "text": [
      "Submitted batch job 29434108\n"
     ]
    }
   ],
   "source": [
    "sbatch -p ${NODE} \\\n",
    "    --mem  4G \\\n",
    "    --array 1-10 \\\n",
    "    -o ${FD_LOG}/rolling_correlation.size_200bp_step_50bp.FADS.%a.txt \\\n",
    "    <<'EOF'\n",
    "#!/bin/bash\n",
    "### set environment\n",
    "source ../config/config_duke.sh\n",
    "NUM_PARTS=10\n",
    "COLUMN=pLog2FC\n",
    "REGION=FADS\n",
    "\n",
    "### print start message\n",
    "timer_start=`date +%s`\n",
    "echo \"Hostname:          \" $(hostname)\n",
    "echo \"Slurm Array Index: \" ${SLURM_ARRAY_TASK_ID}\n",
    "echo \"Time Stamp:        \" $(date +\"%m-%d-%y+%T\")\n",
    "echo\n",
    "\n",
    "### run script\n",
    "${FD_PRJ}/notebooks/sing_proj_encode_fcc.sh Rscript ./scripts/rolling_correlation.R \\\n",
    "    ${REGION}    \\\n",
    "    ${COLUMN}    \\\n",
    "    ${NUM_PARTS} \\\n",
    "    ${SLURM_ARRAY_TASK_ID}\n",
    "\n",
    "### print end message\n",
    "timer=`date +%s`\n",
    "runtime=$(echo \"${timer} - ${timer_start}\" | bc -l)\n",
    "echo\n",
    "echo 'Done!'\n",
    "echo \"Run Time: $(displaytime ${runtime})\"\n",
    "EOF"
   ]
  },
  {
   "cell_type": "code",
   "execution_count": 43,
   "id": "8240becc-ec62-41b1-aad7-332276535b35",
   "metadata": {},
   "outputs": [
    {
     "name": "stdout",
     "output_type": "stream",
     "text": [
      "Hostname:           dl-01.genome.duke.edu\n",
      "Slurm Array Index:  1\n",
      "Time Stamp:         12-19-22+22:42:52\n",
      "\n",
      "\n",
      "Parse argument:\n",
      "    Region:                GATA1 \n",
      "    Column:                pLog2FC \n",
      "    Number of total parts: 50 \n",
      "    Index  of this  parts: 1 \n",
      "\n",
      "Check if output file exist: if yes, stop.\n",
      "Output file:\n",
      " /data/reddylab/Kuei/out/proj_combeffect_encode_fcc/results/comparison/comparison_local/cor_size_200bp_step_50bp/cor.pLog2FC.GATA1.50.1.csv \n",
      "Output file not exists. Create the output file.\n",
      "[1] TRUE\n",
      "\n",
      "Import track data\n",
      "Rows: 2095150 Columns: 6\n",
      "── Column specification ────────────────────────────────────────────────────────\n",
      "Delimiter: \"\\t\"\n",
      "chr (1): Chrom\n",
      "dbl (5): Start, End, ASTARR, TMPRA, WSTARR\n",
      "\n",
      "ℹ Use `spec()` to retrieve the full column specification for this data.\n",
      "ℹ Specify the column types or set `show_col_types = FALSE` to quiet this message.\n",
      "\n",
      "Import sliding windows\n",
      "Rows: 41900 Columns: 4\n",
      "── Column specification ────────────────────────────────────────────────────────\n",
      "Delimiter: \"\\t\"\n",
      "chr (1): Chrom\n",
      "dbl (3): Start, End, Loc\n",
      "\n",
      "ℹ Use `spec()` to retrieve the full column specification for this data.\n",
      "ℹ Specify the column types or set `show_col_types = FALSE` to quiet this message.\n",
      "\n",
      "Splitting windows:\n",
      "[1] 838   4\n",
      "# A tibble: 6 × 4\n",
      "  Chrom    Start      End      Loc\n",
      "  <chr>    <dbl>    <dbl>    <dbl>\n",
      "1 chrX  47785501 47785701 47785601\n",
      "2 chrX  47785551 47785751 47785651\n",
      "3 chrX  47785601 47785801 47785701\n",
      "4 chrX  47785651 47785851 47785751\n",
      "5 chrX  47785701 47785901 47785801\n",
      "6 chrX  47785751 47785951 47785851\n",
      "\n",
      "Calculate rolling correlation:\n",
      "Process line:   5 \n",
      "Process line:  10 \n",
      "\n",
      "Done!\n",
      "Run Time: 9 seconds\n"
     ]
    }
   ],
   "source": [
    "cat ${FD_LOG}/rolling_correlation.size_200bp_step_50bp.GATA1.1.txt"
   ]
  },
  {
   "cell_type": "code",
   "execution_count": 44,
   "id": "b83f53fc-4a11-4f6d-9b62-2cfb68712306",
   "metadata": {},
   "outputs": [
    {
     "name": "stdout",
     "output_type": "stream",
     "text": [
      "Hostname:           dl-01.genome.duke.edu\n",
      "Slurm Array Index:  5\n",
      "Time Stamp:         12-19-22+22:42:52\n",
      "\n",
      "\n",
      "Parse argument:\n",
      "    Region:                GATA1 \n",
      "    Column:                pLog2FC \n",
      "    Number of total parts: 50 \n",
      "    Index  of this  parts: 5 \n",
      "\n",
      "Check if output file exist: if yes, stop.\n",
      "Output file:\n",
      " /data/reddylab/Kuei/out/proj_combeffect_encode_fcc/results/comparison/comparison_local/cor_size_200bp_step_50bp/cor.pLog2FC.GATA1.50.5.csv \n",
      "Output file not exists. Create the output file.\n",
      "[1] TRUE\n",
      "\n",
      "Import track data\n",
      "Rows: 2095150 Columns: 6\n",
      "── Column specification ────────────────────────────────────────────────────────\n",
      "Delimiter: \"\\t\"\n",
      "chr (1): Chrom\n",
      "dbl (5): Start, End, ASTARR, TMPRA, WSTARR\n",
      "\n",
      "ℹ Use `spec()` to retrieve the full column specification for this data.\n",
      "ℹ Specify the column types or set `show_col_types = FALSE` to quiet this message.\n",
      "\n",
      "Import sliding windows\n",
      "Rows: 41900 Columns: 4\n",
      "── Column specification ────────────────────────────────────────────────────────\n",
      "Delimiter: \"\\t\"\n",
      "chr (1): Chrom\n",
      "dbl (3): Start, End, Loc\n",
      "\n",
      "ℹ Use `spec()` to retrieve the full column specification for this data.\n",
      "ℹ Specify the column types or set `show_col_types = FALSE` to quiet this message.\n",
      "\n",
      "Splitting windows:\n",
      "[1] 838   4\n",
      "# A tibble: 6 × 4\n",
      "  Chrom    Start      End      Loc\n",
      "  <chr>    <dbl>    <dbl>    <dbl>\n",
      "1 chrX  47953101 47953301 47953201\n",
      "2 chrX  47953151 47953351 47953251\n",
      "3 chrX  47953201 47953401 47953301\n",
      "4 chrX  47953251 47953451 47953351\n",
      "5 chrX  47953301 47953501 47953401\n",
      "6 chrX  47953351 47953551 47953451\n",
      "\n",
      "Calculate rolling correlation:\n",
      "Process line:   5 \n",
      "Process line:  10 \n",
      "\n",
      "Done!\n",
      "Run Time: 9 seconds\n"
     ]
    }
   ],
   "source": [
    "cat ${FD_LOG}/rolling_correlation.size_200bp_step_50bp.GATA1.5.txt"
   ]
  },
  {
   "cell_type": "code",
   "execution_count": 58,
   "id": "b77960ac-1555-436b-b028-df8143ab35ab",
   "metadata": {},
   "outputs": [
    {
     "name": "stdout",
     "output_type": "stream",
     "text": [
      "Hostname:           dl-01.genome.duke.edu\n",
      "Slurm Array Index:  50\n",
      "Time Stamp:         12-19-22+23:34:52\n",
      "\n",
      "\n",
      "Parse argument:\n",
      "    Region:                GATA1 \n",
      "    Column:                pLog2FC \n",
      "    Number of total parts: 50 \n",
      "    Index  of this  parts: 50 \n",
      "\n",
      "Check if output file exist: if yes, stop.\n",
      "Output file:\n",
      " /data/reddylab/Kuei/out/proj_combeffect_encode_fcc/results/comparison/comparison_local/cor_size_200bp_step_50bp/cor.pLog2FC.GATA1.50.50.csv \n",
      "Output file not exists. Create the output file.\n",
      "[1] TRUE\n",
      "\n",
      "Import track data\n",
      "Rows: 2095150 Columns: 6\n",
      "── Column specification ────────────────────────────────────────────────────────\n",
      "Delimiter: \"\\t\"\n",
      "chr (1): Chrom\n",
      "dbl (5): Start, End, ASTARR, TMPRA, WSTARR\n",
      "\n",
      "ℹ Use `spec()` to retrieve the full column specification for this data.\n",
      "ℹ Specify the column types or set `show_col_types = FALSE` to quiet this message.\n",
      "\n",
      "Import sliding windows\n",
      "Rows: 41900 Columns: 4\n",
      "── Column specification ────────────────────────────────────────────────────────\n",
      "Delimiter: \"\\t\"\n",
      "chr (1): Chrom\n",
      "dbl (3): Start, End, Loc\n",
      "\n",
      "ℹ Use `spec()` to retrieve the full column specification for this data.\n",
      "ℹ Specify the column types or set `show_col_types = FALSE` to quiet this message.\n",
      "\n",
      "Splitting windows:\n",
      "Split into 50 parts\n",
      "Current part: 50 \n",
      "Number of rows: 838 \n",
      "# A tibble: 6 × 4\n",
      "  Chrom    Start      End      Loc\n",
      "  <chr>    <dbl>    <dbl>    <dbl>\n",
      "1 chrX  49838601 49838801 49838701\n",
      "2 chrX  49838651 49838851 49838751\n",
      "3 chrX  49838701 49838901 49838801\n",
      "4 chrX  49838751 49838951 49838851\n",
      "5 chrX  49838801 49839001 49838901\n",
      "6 chrX  49838851 49839051 49838951\n",
      "\n",
      "Calculate rolling correlation:\n",
      "Process line:   5 \n",
      "Process line:  10 \n",
      "\n",
      "Done!\n",
      "Run Time: 9 seconds\n"
     ]
    }
   ],
   "source": [
    "cat ${FD_LOG}/rolling_correlation.size_200bp_step_50bp.GATA1.50.txt"
   ]
  },
  {
   "cell_type": "code",
   "execution_count": 67,
   "id": "a331e133-b0ea-4c40-b57a-d653c63b81a3",
   "metadata": {},
   "outputs": [
    {
     "name": "stdout",
     "output_type": "stream",
     "text": [
      "Hostname:           dl-01.genome.duke.edu\n",
      "Slurm Array Index:  1\n",
      "Time Stamp:         12-19-22+23:40:52\n",
      "\n",
      "\n",
      "Parse argument:\n",
      "    Region:                MYC \n",
      "    Column:                pLog2FC \n",
      "    Number of total parts: 50 \n",
      "    Index  of this  parts: 1 \n",
      "\n",
      "Check if output file exist: if yes, stop.\n",
      "Output file:\n",
      " /data/reddylab/Kuei/out/proj_combeffect_encode_fcc/results/comparison/comparison_local/cor_size_200bp_step_50bp/cor.pLog2FC.MYC.50.1.csv \n",
      "Output file not exists. Create the output file.\n",
      "[1] TRUE\n",
      "\n",
      "Import track data\n",
      "Rows: 2000650 Columns: 6\n",
      "── Column specification ────────────────────────────────────────────────────────\n",
      "Delimiter: \"\\t\"\n",
      "chr (1): Chrom\n",
      "dbl (5): Start, End, ASTARR, TMPRA, WSTARR\n",
      "\n",
      "ℹ Use `spec()` to retrieve the full column specification for this data.\n",
      "ℹ Specify the column types or set `show_col_types = FALSE` to quiet this message.\n",
      "\n",
      "Import sliding windows\n",
      "Rows: 40010 Columns: 4\n",
      "── Column specification ────────────────────────────────────────────────────────\n",
      "Delimiter: \"\\t\"\n",
      "chr (1): Chrom\n",
      "dbl (3): Start, End, Loc\n",
      "\n",
      "ℹ Use `spec()` to retrieve the full column specification for this data.\n",
      "ℹ Specify the column types or set `show_col_types = FALSE` to quiet this message.\n",
      "\n",
      "Splitting windows:\n",
      "Split into 50 parts\n",
      "Current part: 1 \n",
      "Number of rows: 800 \n",
      "# A tibble: 6 × 4\n",
      "  Chrom     Start       End       Loc\n",
      "  <chr>     <dbl>     <dbl>     <dbl>\n",
      "1 chr8  126735901 126736101 126736001\n",
      "2 chr8  126735951 126736151 126736051\n",
      "3 chr8  126736001 126736201 126736101\n",
      "4 chr8  126736051 126736251 126736151\n",
      "5 chr8  126736101 126736301 126736201\n",
      "6 chr8  126736151 126736351 126736251\n",
      "\n",
      "Calculate rolling correlation:\n",
      "Process line: 100 \n",
      "Process line: 200 \n",
      "Process line: 300 \n",
      "Process line: 400 \n",
      "Process line: 500 \n",
      "Process line: 600 \n",
      "Process line: 700 \n",
      "Process line: 800 \n",
      "\n",
      "Done!\n",
      "Run Time: 1 minutes and 15 seconds\n"
     ]
    }
   ],
   "source": [
    "cat ${FD_LOG}/rolling_correlation.size_200bp_step_50bp.MYC.1.txt"
   ]
  },
  {
   "cell_type": "code",
   "execution_count": 66,
   "id": "89c7301e-ba7e-474d-af51-dd95c29a914a",
   "metadata": {},
   "outputs": [
    {
     "name": "stdout",
     "output_type": "stream",
     "text": [
      "Hostname:           dl-01.genome.duke.edu\n",
      "Slurm Array Index:  1\n",
      "Time Stamp:         12-19-22+23:46:52\n",
      "\n",
      "\n",
      "Parse argument:\n",
      "    Region:                FADS \n",
      "    Column:                pLog2FC \n",
      "    Number of total parts: 10 \n",
      "    Index  of this  parts: 1 \n",
      "\n",
      "Check if output file exist: if yes, stop.\n",
      "Output file:\n",
      " /data/reddylab/Kuei/out/proj_combeffect_encode_fcc/results/comparison/comparison_local/cor_size_200bp_step_50bp/cor.pLog2FC.FADS.10.1.csv \n",
      "Output file not exists. Create the output file.\n",
      "[1] TRUE\n",
      "\n",
      "Import track data\n",
      "Rows: 111020 Columns: 6\n",
      "── Column specification ────────────────────────────────────────────────────────\n",
      "Delimiter: \"\\t\"\n",
      "chr (1): Chrom\n",
      "dbl (5): Start, End, ASTARR, TMPRA, WSTARR\n",
      "\n",
      "ℹ Use `spec()` to retrieve the full column specification for this data.\n",
      "ℹ Specify the column types or set `show_col_types = FALSE` to quiet this message.\n",
      "\n",
      "Import sliding windows\n",
      "Rows: 2217 Columns: 4\n",
      "── Column specification ────────────────────────────────────────────────────────\n",
      "Delimiter: \"\\t\"\n",
      "chr (1): Chrom\n",
      "dbl (3): Start, End, Loc\n",
      "\n",
      "ℹ Use `spec()` to retrieve the full column specification for this data.\n",
      "ℹ Specify the column types or set `show_col_types = FALSE` to quiet this message.\n",
      "\n",
      "Splitting windows:\n",
      "Split into 10 parts\n",
      "Current part: 1 \n",
      "Number of rows: 221 \n",
      "# A tibble: 6 × 4\n",
      "  Chrom    Start      End      Loc\n",
      "  <chr>    <dbl>    <dbl>    <dbl>\n",
      "1 chr11 61554801 61555001 61554901\n",
      "2 chr11 61554851 61555051 61554951\n",
      "3 chr11 61554901 61555101 61555001\n",
      "4 chr11 61554951 61555151 61555051\n",
      "5 chr11 61555001 61555201 61555101\n",
      "6 chr11 61555051 61555251 61555151\n",
      "\n",
      "Calculate rolling correlation:\n",
      "Process line: 100 \n",
      "Process line: 200 \n",
      "\n",
      "Done!\n",
      "Run Time: 10 seconds\n"
     ]
    }
   ],
   "source": [
    "cat ${FD_LOG}/rolling_correlation.size_200bp_step_50bp.FADS.1.txt"
   ]
  },
  {
   "cell_type": "code",
   "execution_count": null,
   "id": "954071d0-555f-4200-b1de-640b2820d2c5",
   "metadata": {},
   "outputs": [],
   "source": []
  }
 ],
 "metadata": {
  "kernelspec": {
   "display_name": "Bash",
   "language": "bash",
   "name": "bash"
  },
  "language_info": {
   "codemirror_mode": "shell",
   "file_extension": ".sh",
   "mimetype": "text/x-sh",
   "name": "bash"
  }
 },
 "nbformat": 4,
 "nbformat_minor": 5
}
