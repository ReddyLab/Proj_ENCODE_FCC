{
 "cells": [
  {
   "cell_type": "markdown",
   "id": "e6388bb4",
   "metadata": {},
   "source": [
    "**Set environment**"
   ]
  },
  {
   "cell_type": "code",
   "execution_count": 1,
   "id": "00da34d0",
   "metadata": {},
   "outputs": [
    {
     "name": "stdout",
     "output_type": "stream",
     "text": [
      "You are in Singularity: singularity_proj_combeffect \n",
      "BASE DIRECTORY:     /data/reddylab/Kuei \n",
      "WORK DIRECTORY:     /data/reddylab/Kuei/out \n",
      "CODE DIRECTORY:     /data/reddylab/Kuei/code \n",
      "PATH OF SOURCE:     /data/reddylab/Kuei/source \n",
      "PATH OF EXECUTABLE: /data/reddylab/Kuei/bin \n",
      "PATH OF ANNOTATION: /data/reddylab/Kuei/annotation \n",
      "PATH OF PROJECT:    /data/reddylab/Kuei/code/Proj_CombEffect_ENCODE_FCC \n",
      "PATH OF RESULTS:    /data/reddylab/Kuei/out/proj_combeffect_encode_fcc \n"
     ]
    }
   ],
   "source": [
    "suppressMessages(suppressWarnings(source(\"../config/config_sing.R\")))\n",
    "suppressMessages(suppressWarnings(library(\"GenomicRanges\")))\n",
    "suppressMessages(suppressWarnings(library(\"rtracklayer\")))\n",
    "suppressMessages(suppressWarnings(library(\"BSgenome.Hsapiens.UCSC.hg38\")))\n",
    "show_env()"
   ]
  },
  {
   "cell_type": "markdown",
   "id": "0e09c12c",
   "metadata": {},
   "source": [
    "## Import data"
   ]
  },
  {
   "cell_type": "code",
   "execution_count": 2,
   "id": "f42f675d",
   "metadata": {},
   "outputs": [],
   "source": [
    "ASSAY   = \"KS91_K562_ASTARRseq\"\n",
    "REGIONS = c(\"GATA1\", \"MYC\", \"FADS\")\n",
    "FOLDER  = \"coverage\"\n",
    "\n",
    "CHROMS  = paste0(\"chr\", c(1:22, \"X\", \"Y\"))\n",
    "COLUMNS = c(\"Input\", \"Output\", \"FC\", \"Log2FC\", \"pLog2FC\")\n",
    "\n",
    "STRAND = \"*\"\n",
    "TYPE   = \"raw\"\n",
    "GENOME = BSgenome.Hsapiens.UCSC.hg38"
   ]
  },
  {
   "cell_type": "code",
   "execution_count": 3,
   "id": "16c9c942",
   "metadata": {},
   "outputs": [
    {
     "data": {
      "text/html": [
       "<table class=\"dataframe\">\n",
       "<caption>A tibble: 6 × 8</caption>\n",
       "<thead>\n",
       "\t<tr><th scope=col>Chrom</th><th scope=col>Start</th><th scope=col>End</th><th scope=col>Input</th><th scope=col>Output</th><th scope=col>FC</th><th scope=col>Log2FC</th><th scope=col>pLog2FC</th></tr>\n",
       "\t<tr><th scope=col>&lt;chr&gt;</th><th scope=col>&lt;dbl&gt;</th><th scope=col>&lt;dbl&gt;</th><th scope=col>&lt;dbl&gt;</th><th scope=col>&lt;dbl&gt;</th><th scope=col>&lt;dbl&gt;</th><th scope=col>&lt;dbl&gt;</th><th scope=col>&lt;dbl&gt;</th></tr>\n",
       "</thead>\n",
       "<tbody>\n",
       "\t<tr><td>chrX</td><td>47785501</td><td>47785502</td><td>0.008420745</td><td>0.009875188</td><td>1.172721</td><td>0.2298602</td><td>0.002079296</td></tr>\n",
       "\t<tr><td>chrX</td><td>47785502</td><td>47785503</td><td>0.008420745</td><td>0.009875188</td><td>1.172721</td><td>0.2298602</td><td>0.002079296</td></tr>\n",
       "\t<tr><td>chrX</td><td>47785503</td><td>47785504</td><td>0.008420745</td><td>0.009875188</td><td>1.172721</td><td>0.2298602</td><td>0.002079296</td></tr>\n",
       "\t<tr><td>chrX</td><td>47785504</td><td>47785505</td><td>0.008420745</td><td>0.009875188</td><td>1.172721</td><td>0.2298602</td><td>0.002079296</td></tr>\n",
       "\t<tr><td>chrX</td><td>47785505</td><td>47785506</td><td>0.008420745</td><td>0.009875188</td><td>1.172721</td><td>0.2298602</td><td>0.002079296</td></tr>\n",
       "\t<tr><td>chrX</td><td>47785506</td><td>47785507</td><td>0.008420745</td><td>0.009875188</td><td>1.172721</td><td>0.2298602</td><td>0.002079296</td></tr>\n",
       "</tbody>\n",
       "</table>\n"
      ],
      "text/latex": [
       "A tibble: 6 × 8\n",
       "\\begin{tabular}{llllllll}\n",
       " Chrom & Start & End & Input & Output & FC & Log2FC & pLog2FC\\\\\n",
       " <chr> & <dbl> & <dbl> & <dbl> & <dbl> & <dbl> & <dbl> & <dbl>\\\\\n",
       "\\hline\n",
       "\t chrX & 47785501 & 47785502 & 0.008420745 & 0.009875188 & 1.172721 & 0.2298602 & 0.002079296\\\\\n",
       "\t chrX & 47785502 & 47785503 & 0.008420745 & 0.009875188 & 1.172721 & 0.2298602 & 0.002079296\\\\\n",
       "\t chrX & 47785503 & 47785504 & 0.008420745 & 0.009875188 & 1.172721 & 0.2298602 & 0.002079296\\\\\n",
       "\t chrX & 47785504 & 47785505 & 0.008420745 & 0.009875188 & 1.172721 & 0.2298602 & 0.002079296\\\\\n",
       "\t chrX & 47785505 & 47785506 & 0.008420745 & 0.009875188 & 1.172721 & 0.2298602 & 0.002079296\\\\\n",
       "\t chrX & 47785506 & 47785507 & 0.008420745 & 0.009875188 & 1.172721 & 0.2298602 & 0.002079296\\\\\n",
       "\\end{tabular}\n"
      ],
      "text/markdown": [
       "\n",
       "A tibble: 6 × 8\n",
       "\n",
       "| Chrom &lt;chr&gt; | Start &lt;dbl&gt; | End &lt;dbl&gt; | Input &lt;dbl&gt; | Output &lt;dbl&gt; | FC &lt;dbl&gt; | Log2FC &lt;dbl&gt; | pLog2FC &lt;dbl&gt; |\n",
       "|---|---|---|---|---|---|---|---|\n",
       "| chrX | 47785501 | 47785502 | 0.008420745 | 0.009875188 | 1.172721 | 0.2298602 | 0.002079296 |\n",
       "| chrX | 47785502 | 47785503 | 0.008420745 | 0.009875188 | 1.172721 | 0.2298602 | 0.002079296 |\n",
       "| chrX | 47785503 | 47785504 | 0.008420745 | 0.009875188 | 1.172721 | 0.2298602 | 0.002079296 |\n",
       "| chrX | 47785504 | 47785505 | 0.008420745 | 0.009875188 | 1.172721 | 0.2298602 | 0.002079296 |\n",
       "| chrX | 47785505 | 47785506 | 0.008420745 | 0.009875188 | 1.172721 | 0.2298602 | 0.002079296 |\n",
       "| chrX | 47785506 | 47785507 | 0.008420745 | 0.009875188 | 1.172721 | 0.2298602 | 0.002079296 |\n",
       "\n"
      ],
      "text/plain": [
       "  Chrom Start    End      Input       Output      FC       Log2FC   \n",
       "1 chrX  47785501 47785502 0.008420745 0.009875188 1.172721 0.2298602\n",
       "2 chrX  47785502 47785503 0.008420745 0.009875188 1.172721 0.2298602\n",
       "3 chrX  47785503 47785504 0.008420745 0.009875188 1.172721 0.2298602\n",
       "4 chrX  47785504 47785505 0.008420745 0.009875188 1.172721 0.2298602\n",
       "5 chrX  47785505 47785506 0.008420745 0.009875188 1.172721 0.2298602\n",
       "6 chrX  47785506 47785507 0.008420745 0.009875188 1.172721 0.2298602\n",
       "  pLog2FC    \n",
       "1 0.002079296\n",
       "2 0.002079296\n",
       "3 0.002079296\n",
       "4 0.002079296\n",
       "5 0.002079296\n",
       "6 0.002079296"
      ]
     },
     "metadata": {},
     "output_type": "display_data"
    },
    {
     "name": "stdout",
     "output_type": "stream",
     "text": [
      "#{Input   == 0}:   304212 \n",
      "#{Output  == 0}:   388249 \n",
      "#{Both    == 0}:   303318 \n",
      "#{Input   == NA}:  0 \n",
      "#{Output  == NA}:  0 \n",
      "#{FC      == NA}:  303318 \n",
      "#{FC      == Inf}: 894 \n",
      "#{pLog2FC == NA}:  0 \n",
      "#{pLog2FC == Inf}: 0 \n"
     ]
    }
   ],
   "source": [
    "### import data\n",
    "lst = lapply(REGIONS, function(REGION) {\n",
    "    \n",
    "    ### set file path\n",
    "    fdiry = file.path(FD_RES, \"results\", ASSAY, FOLDER, \"summary\")\n",
    "    fname = paste(\"track\", \"raw\", \"Log2FC\", REGION, \"tsv\", sep=\".\") # \"track.raw.cpm.GATA1.tsv\"\n",
    "    fpath = file.path(fdiry, fname)\n",
    "    \n",
    "    ### import data\n",
    "    dat = read_tsv(fpath, show_col_types = FALSE)\n",
    "    return(dat)\n",
    "})\n",
    "\n",
    "### combine data\n",
    "dat_track = bind_rows(lst)\n",
    "head(dat_track)\n",
    "\n",
    "### show some stats\n",
    "cat(\"#{Input   == 0}:  \", sum(dat_track$Input  == 0), \"\\n\")\n",
    "cat(\"#{Output  == 0}:  \", sum(dat_track$Output == 0), \"\\n\")\n",
    "cat(\"#{Both    == 0}:  \", sum((dat_track$Input == 0) & (dat_track$Output == 0)), \"\\n\")\n",
    "cat(\"#{Input   == NA}: \", sum(is.na(dat_track$Input)), \"\\n\")\n",
    "cat(\"#{Output  == NA}: \", sum(is.na(dat_track$Output)), \"\\n\")\n",
    "cat(\"#{FC      == NA}: \", sum(is.na(dat_track$FC)), \"\\n\")\n",
    "cat(\"#{FC      == Inf}:\", sum(is.infinite(dat_track$FC)), \"\\n\")\n",
    "cat(\"#{pLog2FC == NA}: \", sum(is.na(dat_track$pLog2FC)), \"\\n\")\n",
    "cat(\"#{pLog2FC == Inf}:\", sum(is.infinite(dat_track$pLog2FC)), \"\\n\")"
   ]
  },
  {
   "cell_type": "markdown",
   "id": "b6bd31f1",
   "metadata": {},
   "source": [
    "## Export BigWig"
   ]
  },
  {
   "cell_type": "code",
   "execution_count": 4,
   "id": "dc1b5360",
   "metadata": {},
   "outputs": [
    {
     "name": "stdout",
     "output_type": "stream",
     "text": [
      "\n",
      "+++++++++++++++++++++++\n",
      "Column: Input \n",
      "\n",
      "[1] 4206820       4\n",
      "\u001b[90m# A tibble: 6 × 4\u001b[39m\n",
      "  Chrom     Start       End  Score\n",
      "  \u001b[3m\u001b[90m<fct>\u001b[39m\u001b[23m     \u001b[3m\u001b[90m<dbl>\u001b[39m\u001b[23m     \u001b[3m\u001b[90m<dbl>\u001b[39m\u001b[23m  \u001b[3m\u001b[90m<dbl>\u001b[39m\u001b[23m\n",
      "\u001b[90m1\u001b[39m chr8  126\u001b[4m7\u001b[24m\u001b[4m3\u001b[24m\u001b[4m5\u001b[24m901 126\u001b[4m7\u001b[24m\u001b[4m3\u001b[24m\u001b[4m5\u001b[24m902 0.037\u001b[4m5\u001b[24m\n",
      "\u001b[90m2\u001b[39m chr8  126\u001b[4m7\u001b[24m\u001b[4m3\u001b[24m\u001b[4m5\u001b[24m902 126\u001b[4m7\u001b[24m\u001b[4m3\u001b[24m\u001b[4m5\u001b[24m903 0.037\u001b[4m5\u001b[24m\n",
      "\u001b[90m3\u001b[39m chr8  126\u001b[4m7\u001b[24m\u001b[4m3\u001b[24m\u001b[4m5\u001b[24m903 126\u001b[4m7\u001b[24m\u001b[4m3\u001b[24m\u001b[4m5\u001b[24m904 0.038\u001b[4m6\u001b[24m\n",
      "\u001b[90m4\u001b[39m chr8  126\u001b[4m7\u001b[24m\u001b[4m3\u001b[24m\u001b[4m5\u001b[24m904 126\u001b[4m7\u001b[24m\u001b[4m3\u001b[24m\u001b[4m5\u001b[24m905 0.038\u001b[4m2\u001b[24m\n",
      "\u001b[90m5\u001b[39m chr8  126\u001b[4m7\u001b[24m\u001b[4m3\u001b[24m\u001b[4m5\u001b[24m905 126\u001b[4m7\u001b[24m\u001b[4m3\u001b[24m\u001b[4m5\u001b[24m906 0.038\u001b[4m2\u001b[24m\n",
      "\u001b[90m6\u001b[39m chr8  126\u001b[4m7\u001b[24m\u001b[4m3\u001b[24m\u001b[4m5\u001b[24m906 126\u001b[4m7\u001b[24m\u001b[4m3\u001b[24m\u001b[4m5\u001b[24m907 0.038\u001b[4m2\u001b[24m\n",
      "\n",
      " /data/reddylab/Kuei/out/proj_combeffect_encode_fcc/results/KS91_K562_ASTARRseq/coverage/summary/KS91_K562_ASTARRseq.track.raw.Input.bw \n",
      "\n",
      "+++++++++++++++++++++++\n",
      "Column: Output \n",
      "\n",
      "[1] 4206820       4\n",
      "\u001b[90m# A tibble: 6 × 4\u001b[39m\n",
      "  Chrom     Start       End   Score\n",
      "  \u001b[3m\u001b[90m<fct>\u001b[39m\u001b[23m     \u001b[3m\u001b[90m<dbl>\u001b[39m\u001b[23m     \u001b[3m\u001b[90m<dbl>\u001b[39m\u001b[23m   \u001b[3m\u001b[90m<dbl>\u001b[39m\u001b[23m\n",
      "\u001b[90m1\u001b[39m chr8  126\u001b[4m7\u001b[24m\u001b[4m3\u001b[24m\u001b[4m5\u001b[24m901 126\u001b[4m7\u001b[24m\u001b[4m3\u001b[24m\u001b[4m5\u001b[24m902 0.002\u001b[4m5\u001b[24m\u001b[4m6\u001b[24m\n",
      "\u001b[90m2\u001b[39m chr8  126\u001b[4m7\u001b[24m\u001b[4m3\u001b[24m\u001b[4m5\u001b[24m902 126\u001b[4m7\u001b[24m\u001b[4m3\u001b[24m\u001b[4m5\u001b[24m903 0.002\u001b[4m5\u001b[24m\u001b[4m6\u001b[24m\n",
      "\u001b[90m3\u001b[39m chr8  126\u001b[4m7\u001b[24m\u001b[4m3\u001b[24m\u001b[4m5\u001b[24m903 126\u001b[4m7\u001b[24m\u001b[4m3\u001b[24m\u001b[4m5\u001b[24m904 0.002\u001b[4m5\u001b[24m\u001b[4m6\u001b[24m\n",
      "\u001b[90m4\u001b[39m chr8  126\u001b[4m7\u001b[24m\u001b[4m3\u001b[24m\u001b[4m5\u001b[24m904 126\u001b[4m7\u001b[24m\u001b[4m3\u001b[24m\u001b[4m5\u001b[24m905 0.002\u001b[4m5\u001b[24m\u001b[4m6\u001b[24m\n",
      "\u001b[90m5\u001b[39m chr8  126\u001b[4m7\u001b[24m\u001b[4m3\u001b[24m\u001b[4m5\u001b[24m905 126\u001b[4m7\u001b[24m\u001b[4m3\u001b[24m\u001b[4m5\u001b[24m906 0.002\u001b[4m5\u001b[24m\u001b[4m6\u001b[24m\n",
      "\u001b[90m6\u001b[39m chr8  126\u001b[4m7\u001b[24m\u001b[4m3\u001b[24m\u001b[4m5\u001b[24m906 126\u001b[4m7\u001b[24m\u001b[4m3\u001b[24m\u001b[4m5\u001b[24m907 0.002\u001b[4m5\u001b[24m\u001b[4m6\u001b[24m\n",
      "\n",
      " /data/reddylab/Kuei/out/proj_combeffect_encode_fcc/results/KS91_K562_ASTARRseq/coverage/summary/KS91_K562_ASTARRseq.track.raw.Output.bw \n",
      "\n",
      "+++++++++++++++++++++++\n",
      "Column: FC \n",
      "\n",
      "[1] 3902608       4\n",
      "\u001b[90m# A tibble: 6 × 4\u001b[39m\n",
      "  Chrom     Start       End  Score\n",
      "  \u001b[3m\u001b[90m<fct>\u001b[39m\u001b[23m     \u001b[3m\u001b[90m<dbl>\u001b[39m\u001b[23m     \u001b[3m\u001b[90m<dbl>\u001b[39m\u001b[23m  \u001b[3m\u001b[90m<dbl>\u001b[39m\u001b[23m\n",
      "\u001b[90m1\u001b[39m chr8  126\u001b[4m7\u001b[24m\u001b[4m3\u001b[24m\u001b[4m5\u001b[24m901 126\u001b[4m7\u001b[24m\u001b[4m3\u001b[24m\u001b[4m5\u001b[24m902 0.068\u001b[4m5\u001b[24m\n",
      "\u001b[90m2\u001b[39m chr8  126\u001b[4m7\u001b[24m\u001b[4m3\u001b[24m\u001b[4m5\u001b[24m902 126\u001b[4m7\u001b[24m\u001b[4m3\u001b[24m\u001b[4m5\u001b[24m903 0.068\u001b[4m5\u001b[24m\n",
      "\u001b[90m3\u001b[39m chr8  126\u001b[4m7\u001b[24m\u001b[4m3\u001b[24m\u001b[4m5\u001b[24m903 126\u001b[4m7\u001b[24m\u001b[4m3\u001b[24m\u001b[4m5\u001b[24m904 0.066\u001b[4m4\u001b[24m\n",
      "\u001b[90m4\u001b[39m chr8  126\u001b[4m7\u001b[24m\u001b[4m3\u001b[24m\u001b[4m5\u001b[24m904 126\u001b[4m7\u001b[24m\u001b[4m3\u001b[24m\u001b[4m5\u001b[24m905 0.067\u001b[4m1\u001b[24m\n",
      "\u001b[90m5\u001b[39m chr8  126\u001b[4m7\u001b[24m\u001b[4m3\u001b[24m\u001b[4m5\u001b[24m905 126\u001b[4m7\u001b[24m\u001b[4m3\u001b[24m\u001b[4m5\u001b[24m906 0.067\u001b[4m1\u001b[24m\n",
      "\u001b[90m6\u001b[39m chr8  126\u001b[4m7\u001b[24m\u001b[4m3\u001b[24m\u001b[4m5\u001b[24m906 126\u001b[4m7\u001b[24m\u001b[4m3\u001b[24m\u001b[4m5\u001b[24m907 0.067\u001b[4m1\u001b[24m\n",
      "\n",
      " /data/reddylab/Kuei/out/proj_combeffect_encode_fcc/results/KS91_K562_ASTARRseq/coverage/summary/KS91_K562_ASTARRseq.track.raw.FC.bw \n",
      "\n",
      "+++++++++++++++++++++++\n",
      "Column: Log2FC \n",
      "\n",
      "[1] 3817677       4\n",
      "\u001b[90m# A tibble: 6 × 4\u001b[39m\n",
      "  Chrom     Start       End Score\n",
      "  \u001b[3m\u001b[90m<fct>\u001b[39m\u001b[23m     \u001b[3m\u001b[90m<dbl>\u001b[39m\u001b[23m     \u001b[3m\u001b[90m<dbl>\u001b[39m\u001b[23m \u001b[3m\u001b[90m<dbl>\u001b[39m\u001b[23m\n",
      "\u001b[90m1\u001b[39m chr8  126\u001b[4m7\u001b[24m\u001b[4m3\u001b[24m\u001b[4m5\u001b[24m901 126\u001b[4m7\u001b[24m\u001b[4m3\u001b[24m\u001b[4m5\u001b[24m902 -\u001b[31m3\u001b[39m\u001b[31m.\u001b[39m\u001b[31m87\u001b[39m\n",
      "\u001b[90m2\u001b[39m chr8  126\u001b[4m7\u001b[24m\u001b[4m3\u001b[24m\u001b[4m5\u001b[24m902 126\u001b[4m7\u001b[24m\u001b[4m3\u001b[24m\u001b[4m5\u001b[24m903 -\u001b[31m3\u001b[39m\u001b[31m.\u001b[39m\u001b[31m87\u001b[39m\n",
      "\u001b[90m3\u001b[39m chr8  126\u001b[4m7\u001b[24m\u001b[4m3\u001b[24m\u001b[4m5\u001b[24m903 126\u001b[4m7\u001b[24m\u001b[4m3\u001b[24m\u001b[4m5\u001b[24m904 -\u001b[31m3\u001b[39m\u001b[31m.\u001b[39m\u001b[31m91\u001b[39m\n",
      "\u001b[90m4\u001b[39m chr8  126\u001b[4m7\u001b[24m\u001b[4m3\u001b[24m\u001b[4m5\u001b[24m904 126\u001b[4m7\u001b[24m\u001b[4m3\u001b[24m\u001b[4m5\u001b[24m905 -\u001b[31m3\u001b[39m\u001b[31m.\u001b[39m\u001b[31m90\u001b[39m\n",
      "\u001b[90m5\u001b[39m chr8  126\u001b[4m7\u001b[24m\u001b[4m3\u001b[24m\u001b[4m5\u001b[24m905 126\u001b[4m7\u001b[24m\u001b[4m3\u001b[24m\u001b[4m5\u001b[24m906 -\u001b[31m3\u001b[39m\u001b[31m.\u001b[39m\u001b[31m90\u001b[39m\n",
      "\u001b[90m6\u001b[39m chr8  126\u001b[4m7\u001b[24m\u001b[4m3\u001b[24m\u001b[4m5\u001b[24m906 126\u001b[4m7\u001b[24m\u001b[4m3\u001b[24m\u001b[4m5\u001b[24m907 -\u001b[31m3\u001b[39m\u001b[31m.\u001b[39m\u001b[31m90\u001b[39m\n",
      "\n",
      " /data/reddylab/Kuei/out/proj_combeffect_encode_fcc/results/KS91_K562_ASTARRseq/coverage/summary/KS91_K562_ASTARRseq.track.raw.Log2FC.bw \n",
      "\n",
      "+++++++++++++++++++++++\n",
      "Column: pLog2FC \n",
      "\n",
      "[1] 4206820       4\n",
      "\u001b[90m# A tibble: 6 × 4\u001b[39m\n",
      "  Chrom     Start       End   Score\n",
      "  \u001b[3m\u001b[90m<fct>\u001b[39m\u001b[23m     \u001b[3m\u001b[90m<dbl>\u001b[39m\u001b[23m     \u001b[3m\u001b[90m<dbl>\u001b[39m\u001b[23m   \u001b[3m\u001b[90m<dbl>\u001b[39m\u001b[23m\n",
      "\u001b[90m1\u001b[39m chr8  126\u001b[4m7\u001b[24m\u001b[4m3\u001b[24m\u001b[4m5\u001b[24m901 126\u001b[4m7\u001b[24m\u001b[4m3\u001b[24m\u001b[4m5\u001b[24m902 -\u001b[31m0\u001b[39m\u001b[31m.\u001b[39m\u001b[31m0\u001b[39m\u001b[31m49\u001b[4m4\u001b[24m\u001b[39m\n",
      "\u001b[90m2\u001b[39m chr8  126\u001b[4m7\u001b[24m\u001b[4m3\u001b[24m\u001b[4m5\u001b[24m902 126\u001b[4m7\u001b[24m\u001b[4m3\u001b[24m\u001b[4m5\u001b[24m903 -\u001b[31m0\u001b[39m\u001b[31m.\u001b[39m\u001b[31m0\u001b[39m\u001b[31m49\u001b[4m4\u001b[24m\u001b[39m\n",
      "\u001b[90m3\u001b[39m chr8  126\u001b[4m7\u001b[24m\u001b[4m3\u001b[24m\u001b[4m5\u001b[24m903 126\u001b[4m7\u001b[24m\u001b[4m3\u001b[24m\u001b[4m5\u001b[24m904 -\u001b[31m0\u001b[39m\u001b[31m.\u001b[39m\u001b[31m0\u001b[39m\u001b[31m51\u001b[4m0\u001b[24m\u001b[39m\n",
      "\u001b[90m4\u001b[39m chr8  126\u001b[4m7\u001b[24m\u001b[4m3\u001b[24m\u001b[4m5\u001b[24m904 126\u001b[4m7\u001b[24m\u001b[4m3\u001b[24m\u001b[4m5\u001b[24m905 -\u001b[31m0\u001b[39m\u001b[31m.\u001b[39m\u001b[31m0\u001b[39m\u001b[31m50\u001b[4m4\u001b[24m\u001b[39m\n",
      "\u001b[90m5\u001b[39m chr8  126\u001b[4m7\u001b[24m\u001b[4m3\u001b[24m\u001b[4m5\u001b[24m905 126\u001b[4m7\u001b[24m\u001b[4m3\u001b[24m\u001b[4m5\u001b[24m906 -\u001b[31m0\u001b[39m\u001b[31m.\u001b[39m\u001b[31m0\u001b[39m\u001b[31m50\u001b[4m4\u001b[24m\u001b[39m\n",
      "\u001b[90m6\u001b[39m chr8  126\u001b[4m7\u001b[24m\u001b[4m3\u001b[24m\u001b[4m5\u001b[24m906 126\u001b[4m7\u001b[24m\u001b[4m3\u001b[24m\u001b[4m5\u001b[24m907 -\u001b[31m0\u001b[39m\u001b[31m.\u001b[39m\u001b[31m0\u001b[39m\u001b[31m50\u001b[4m4\u001b[24m\u001b[39m\n",
      "\n",
      " /data/reddylab/Kuei/out/proj_combeffect_encode_fcc/results/KS91_K562_ASTARRseq/coverage/summary/KS91_K562_ASTARRseq.track.raw.pLog2FC.bw \n"
     ]
    }
   ],
   "source": [
    "for (COLUMN in COLUMNS) {\n",
    "    ### show progress\n",
    "    cat(\"\\n+++++++++++++++++++++++\\n\")\n",
    "    cat(\"Column:\", COLUMN, \"\\n\\n\")\n",
    "    flush.console()\n",
    "    \n",
    "    ### get the specified scores\n",
    "    dat = dat_track %>% \n",
    "        dplyr::select(Chrom, Start, End, !!COLUMN) %>% \n",
    "        dplyr::rename(Score=!!COLUMN) %>%\n",
    "        dplyr::filter(!is.na(Score), !is.infinite(Score)) %>%\n",
    "        dplyr::mutate(Chrom = factor(Chrom, levels=CHROMS)) %>%\n",
    "        dplyr::arrange(Chrom, Start, End)\n",
    "    \n",
    "    ### show progress\n",
    "    print(dim(dat))\n",
    "    print(head(dat))\n",
    "    flush.console()\n",
    "    \n",
    "    ### contruct granages\n",
    "    grg = GRanges(\n",
    "        seqnames   = dat$Chrom,               \n",
    "        ranges     = IRanges(\n",
    "            start  = dat$Start+1,\n",
    "            end    = dat$End), \n",
    "        strand     = STRAND,\n",
    "        seqlengths = seqlengths(GENOME))\n",
    "    genome(grg) = \"hg38\"\n",
    "\n",
    "    ### assign scores\n",
    "    mcols(grg)$score = dat$Score\n",
    "\n",
    "    ### export track as bigwig\n",
    "    fdiry = file.path(FD_RES, \"results\", ASSAY, \"coverage\", \"summary\")\n",
    "    fname = paste(ASSAY, \"track\", TYPE, COLUMN, \"bw\", sep=\".\")\n",
    "    fpath = file.path(fdiry, fname)\n",
    "    export(grg, fpath, format = \"BigWig\")\n",
    "    \n",
    "    ### show progress\n",
    "    cat(\"\\n\", fpath, \"\\n\")\n",
    "    flush.console()\n",
    "}"
   ]
  },
  {
   "cell_type": "code",
   "execution_count": null,
   "id": "c1183607",
   "metadata": {},
   "outputs": [],
   "source": []
  },
  {
   "cell_type": "code",
   "execution_count": null,
   "id": "9ed618f3",
   "metadata": {},
   "outputs": [],
   "source": []
  },
  {
   "cell_type": "code",
   "execution_count": null,
   "id": "edec05ef",
   "metadata": {},
   "outputs": [],
   "source": []
  },
  {
   "cell_type": "code",
   "execution_count": null,
   "id": "05269197",
   "metadata": {},
   "outputs": [],
   "source": []
  },
  {
   "cell_type": "code",
   "execution_count": null,
   "id": "f055829d",
   "metadata": {},
   "outputs": [],
   "source": []
  }
 ],
 "metadata": {
  "kernelspec": {
   "display_name": "R",
   "language": "R",
   "name": "ir"
  },
  "language_info": {
   "codemirror_mode": "r",
   "file_extension": ".r",
   "mimetype": "text/x-r-source",
   "name": "R",
   "pygments_lexer": "r",
   "version": "4.2.2"
  }
 },
 "nbformat": 4,
 "nbformat_minor": 5
}
