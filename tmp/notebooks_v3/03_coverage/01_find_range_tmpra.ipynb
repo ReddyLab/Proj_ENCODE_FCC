{
 "cells": [
  {
   "cell_type": "markdown",
   "id": "40e49882",
   "metadata": {},
   "source": [
    "**Set environment**"
   ]
  },
  {
   "cell_type": "code",
   "execution_count": 1,
   "id": "5190790f",
   "metadata": {},
   "outputs": [
    {
     "name": "stdout",
     "output_type": "stream",
     "text": [
      "You are in Singularity: singularity_proj_combeffect \n",
      "BASE DIRECTORY:     /data/reddylab/Kuei \n",
      "WORK DIRECTORY:     /data/reddylab/Kuei/out \n",
      "CODE DIRECTORY:     /data/reddylab/Kuei/code \n",
      "PATH OF SOURCE:     /data/reddylab/Kuei/source \n",
      "PATH OF EXECUTABLE: /data/reddylab/Kuei/bin \n",
      "PATH OF ANNOTATION: /data/reddylab/Kuei/annotation \n",
      "PATH OF PROJECT:    /data/reddylab/Kuei/code/Proj_CombEffect_ENCODE_FCC \n",
      "PATH OF RESULTS:    /data/reddylab/Kuei/out/proj_combeffect_encode_fcc \n"
     ]
    }
   ],
   "source": [
    "suppressMessages(suppressWarnings(source(\"../config/config_sing.R\")))\n",
    "show_env()"
   ]
  },
  {
   "cell_type": "code",
   "execution_count": 7,
   "id": "d4abe8fa",
   "metadata": {},
   "outputs": [
    {
     "data": {
      "text/html": [
       "<style>\n",
       ".list-inline {list-style: none; margin:0; padding: 0}\n",
       ".list-inline>li {display: inline-block}\n",
       ".list-inline>li:not(:last-child)::after {content: \"\\00b7\"; padding: 0 .5ex}\n",
       "</style>\n",
       "<ol class=list-inline><li>'OL13_20220512.FADS.stranded_pos.bed'</li><li>'OL43_20221003.GATA1.stranded_pos.bed'</li><li>'OL43_20221003.MYC.stranded_pos.bed'</li></ol>\n"
      ],
      "text/latex": [
       "\\begin{enumerate*}\n",
       "\\item 'OL13\\_20220512.FADS.stranded\\_pos.bed'\n",
       "\\item 'OL43\\_20221003.GATA1.stranded\\_pos.bed'\n",
       "\\item 'OL43\\_20221003.MYC.stranded\\_pos.bed'\n",
       "\\end{enumerate*}\n"
      ],
      "text/markdown": [
       "1. 'OL13_20220512.FADS.stranded_pos.bed'\n",
       "2. 'OL43_20221003.GATA1.stranded_pos.bed'\n",
       "3. 'OL43_20221003.MYC.stranded_pos.bed'\n",
       "\n",
       "\n"
      ],
      "text/plain": [
       "[1] \"OL13_20220512.FADS.stranded_pos.bed\" \n",
       "[2] \"OL43_20221003.GATA1.stranded_pos.bed\"\n",
       "[3] \"OL43_20221003.MYC.stranded_pos.bed\"  "
      ]
     },
     "metadata": {},
     "output_type": "display_data"
    }
   ],
   "source": [
    "fdiry = file.path(FD_RES, \"results\", \"Tewhey_K562_TileMPRA\", \"fragment\")\n",
    "dir(fdiry)"
   ]
  },
  {
   "cell_type": "code",
   "execution_count": 11,
   "id": "ca91bacd",
   "metadata": {},
   "outputs": [],
   "source": [
    "fdiry  = file.path(FD_RES, \"results\", \"Tewhey_K562_TileMPRA\", \"fragment\")\n",
    "cnames = c(\"Chrom\", \"Start\", \"End\", \"Name\", \"Score\", \"Strand\")\n",
    "\n",
    "fname = \"OL13_20220512.FADS.stranded_pos.bed\"\n",
    "fpath = file.path(fdiry, fname)\n",
    "dat_frg_fads = read_tsv(fpath, col_names=cnames, show_col_types=FALSE)\n",
    "\n",
    "fname = \"OL43_20221003.GATA1.stranded_pos.bed\"\n",
    "fpath = file.path(fdiry, fname)\n",
    "dat_frg_gata = read_tsv(fpath, col_names=cnames, show_col_types=FALSE)\n",
    "\n",
    "fname = \"OL43_20221003.MYC.stranded_pos.bed\"\n",
    "fpath = file.path(fdiry, fname)\n",
    "dat_frg_myc  = read_tsv(fpath, col_names=cnames, show_col_types=FALSE)"
   ]
  },
  {
   "cell_type": "markdown",
   "id": "2c6a0077",
   "metadata": {},
   "source": [
    "```\n",
    "FADS\n",
    "chr11:61,554,801-61,665,820\n",
    "```"
   ]
  },
  {
   "cell_type": "code",
   "execution_count": 23,
   "id": "cf1d8a2b",
   "metadata": {},
   "outputs": [
    {
     "name": "stdout",
     "output_type": "stream",
     "text": [
      "    Min.  1st Qu.   Median     Mean  3rd Qu.     Max. \n",
      "61554801 61582292 61610144 61610095 61637700 61665621 \n",
      "    Min.  1st Qu.   Median     Mean  3rd Qu.     Max. \n",
      "61555000 61582491 61610342 61610294 61637899 61665820 \n"
     ]
    }
   ],
   "source": [
    "dat = dat_frg_fads\n",
    "print(summary(dat$Start)) ### range(61554801, 61665621)\n",
    "print(summary(dat$End))   ### range(61555000, 61665820)"
   ]
  },
  {
   "cell_type": "code",
   "execution_count": 24,
   "id": "958820c9",
   "metadata": {},
   "outputs": [
    {
     "data": {
      "text/html": [
       "<table class=\"dataframe\">\n",
       "<caption>A tibble: 6 × 6</caption>\n",
       "<thead>\n",
       "\t<tr><th scope=col>Chrom</th><th scope=col>Start</th><th scope=col>End</th><th scope=col>Name</th><th scope=col>Score</th><th scope=col>Strand</th></tr>\n",
       "\t<tr><th scope=col>&lt;chr&gt;</th><th scope=col>&lt;dbl&gt;</th><th scope=col>&lt;dbl&gt;</th><th scope=col>&lt;chr&gt;</th><th scope=col>&lt;chr&gt;</th><th scope=col>&lt;chr&gt;</th></tr>\n",
       "</thead>\n",
       "<tbody>\n",
       "\t<tr><td>chr11</td><td>61554801</td><td>61555000</td><td>chr11:61554801-61555000</td><td>.</td><td>+</td></tr>\n",
       "\t<tr><td>chr11</td><td>61554806</td><td>61555005</td><td>chr11:61554806-61555005</td><td>.</td><td>+</td></tr>\n",
       "\t<tr><td>chr11</td><td>61554811</td><td>61555010</td><td>chr11:61554811-61555010</td><td>.</td><td>+</td></tr>\n",
       "\t<tr><td>chr11</td><td>61554816</td><td>61555015</td><td>chr11:61554816-61555015</td><td>.</td><td>+</td></tr>\n",
       "\t<tr><td>chr11</td><td>61554821</td><td>61555020</td><td>chr11:61554821-61555020</td><td>.</td><td>+</td></tr>\n",
       "\t<tr><td>chr11</td><td>61554826</td><td>61555025</td><td>chr11:61554826-61555025</td><td>.</td><td>+</td></tr>\n",
       "</tbody>\n",
       "</table>\n"
      ],
      "text/latex": [
       "A tibble: 6 × 6\n",
       "\\begin{tabular}{llllll}\n",
       " Chrom & Start & End & Name & Score & Strand\\\\\n",
       " <chr> & <dbl> & <dbl> & <chr> & <chr> & <chr>\\\\\n",
       "\\hline\n",
       "\t chr11 & 61554801 & 61555000 & chr11:61554801-61555000 & . & +\\\\\n",
       "\t chr11 & 61554806 & 61555005 & chr11:61554806-61555005 & . & +\\\\\n",
       "\t chr11 & 61554811 & 61555010 & chr11:61554811-61555010 & . & +\\\\\n",
       "\t chr11 & 61554816 & 61555015 & chr11:61554816-61555015 & . & +\\\\\n",
       "\t chr11 & 61554821 & 61555020 & chr11:61554821-61555020 & . & +\\\\\n",
       "\t chr11 & 61554826 & 61555025 & chr11:61554826-61555025 & . & +\\\\\n",
       "\\end{tabular}\n"
      ],
      "text/markdown": [
       "\n",
       "A tibble: 6 × 6\n",
       "\n",
       "| Chrom &lt;chr&gt; | Start &lt;dbl&gt; | End &lt;dbl&gt; | Name &lt;chr&gt; | Score &lt;chr&gt; | Strand &lt;chr&gt; |\n",
       "|---|---|---|---|---|---|\n",
       "| chr11 | 61554801 | 61555000 | chr11:61554801-61555000 | . | + |\n",
       "| chr11 | 61554806 | 61555005 | chr11:61554806-61555005 | . | + |\n",
       "| chr11 | 61554811 | 61555010 | chr11:61554811-61555010 | . | + |\n",
       "| chr11 | 61554816 | 61555015 | chr11:61554816-61555015 | . | + |\n",
       "| chr11 | 61554821 | 61555020 | chr11:61554821-61555020 | . | + |\n",
       "| chr11 | 61554826 | 61555025 | chr11:61554826-61555025 | . | + |\n",
       "\n"
      ],
      "text/plain": [
       "  Chrom Start    End      Name                    Score Strand\n",
       "1 chr11 61554801 61555000 chr11:61554801-61555000 .     +     \n",
       "2 chr11 61554806 61555005 chr11:61554806-61555005 .     +     \n",
       "3 chr11 61554811 61555010 chr11:61554811-61555010 .     +     \n",
       "4 chr11 61554816 61555015 chr11:61554816-61555015 .     +     \n",
       "5 chr11 61554821 61555020 chr11:61554821-61555020 .     +     \n",
       "6 chr11 61554826 61555025 chr11:61554826-61555025 .     +     "
      ]
     },
     "metadata": {},
     "output_type": "display_data"
    }
   ],
   "source": [
    "head(dat) ### chr11:61554801-61555000"
   ]
  },
  {
   "cell_type": "code",
   "execution_count": 25,
   "id": "043cc470",
   "metadata": {},
   "outputs": [
    {
     "data": {
      "text/html": [
       "<table class=\"dataframe\">\n",
       "<caption>A tibble: 6 × 6</caption>\n",
       "<thead>\n",
       "\t<tr><th scope=col>Chrom</th><th scope=col>Start</th><th scope=col>End</th><th scope=col>Name</th><th scope=col>Score</th><th scope=col>Strand</th></tr>\n",
       "\t<tr><th scope=col>&lt;chr&gt;</th><th scope=col>&lt;dbl&gt;</th><th scope=col>&lt;dbl&gt;</th><th scope=col>&lt;chr&gt;</th><th scope=col>&lt;chr&gt;</th><th scope=col>&lt;chr&gt;</th></tr>\n",
       "</thead>\n",
       "<tbody>\n",
       "\t<tr><td>chr11</td><td>61665596</td><td>61665795</td><td>chr11:61665596-61665795</td><td>.</td><td>+</td></tr>\n",
       "\t<tr><td>chr11</td><td>61665601</td><td>61665800</td><td>chr11:61665601-61665800</td><td>.</td><td>+</td></tr>\n",
       "\t<tr><td>chr11</td><td>61665606</td><td>61665805</td><td>chr11:61665606-61665805</td><td>.</td><td>+</td></tr>\n",
       "\t<tr><td>chr11</td><td>61665611</td><td>61665810</td><td>chr11:61665611-61665810</td><td>.</td><td>+</td></tr>\n",
       "\t<tr><td>chr11</td><td>61665616</td><td>61665815</td><td>chr11:61665616-61665815</td><td>.</td><td>+</td></tr>\n",
       "\t<tr><td>chr11</td><td>61665621</td><td>61665820</td><td>chr11:61665621-61665820</td><td>.</td><td>+</td></tr>\n",
       "</tbody>\n",
       "</table>\n"
      ],
      "text/latex": [
       "A tibble: 6 × 6\n",
       "\\begin{tabular}{llllll}\n",
       " Chrom & Start & End & Name & Score & Strand\\\\\n",
       " <chr> & <dbl> & <dbl> & <chr> & <chr> & <chr>\\\\\n",
       "\\hline\n",
       "\t chr11 & 61665596 & 61665795 & chr11:61665596-61665795 & . & +\\\\\n",
       "\t chr11 & 61665601 & 61665800 & chr11:61665601-61665800 & . & +\\\\\n",
       "\t chr11 & 61665606 & 61665805 & chr11:61665606-61665805 & . & +\\\\\n",
       "\t chr11 & 61665611 & 61665810 & chr11:61665611-61665810 & . & +\\\\\n",
       "\t chr11 & 61665616 & 61665815 & chr11:61665616-61665815 & . & +\\\\\n",
       "\t chr11 & 61665621 & 61665820 & chr11:61665621-61665820 & . & +\\\\\n",
       "\\end{tabular}\n"
      ],
      "text/markdown": [
       "\n",
       "A tibble: 6 × 6\n",
       "\n",
       "| Chrom &lt;chr&gt; | Start &lt;dbl&gt; | End &lt;dbl&gt; | Name &lt;chr&gt; | Score &lt;chr&gt; | Strand &lt;chr&gt; |\n",
       "|---|---|---|---|---|---|\n",
       "| chr11 | 61665596 | 61665795 | chr11:61665596-61665795 | . | + |\n",
       "| chr11 | 61665601 | 61665800 | chr11:61665601-61665800 | . | + |\n",
       "| chr11 | 61665606 | 61665805 | chr11:61665606-61665805 | . | + |\n",
       "| chr11 | 61665611 | 61665810 | chr11:61665611-61665810 | . | + |\n",
       "| chr11 | 61665616 | 61665815 | chr11:61665616-61665815 | . | + |\n",
       "| chr11 | 61665621 | 61665820 | chr11:61665621-61665820 | . | + |\n",
       "\n"
      ],
      "text/plain": [
       "  Chrom Start    End      Name                    Score Strand\n",
       "1 chr11 61665596 61665795 chr11:61665596-61665795 .     +     \n",
       "2 chr11 61665601 61665800 chr11:61665601-61665800 .     +     \n",
       "3 chr11 61665606 61665805 chr11:61665606-61665805 .     +     \n",
       "4 chr11 61665611 61665810 chr11:61665611-61665810 .     +     \n",
       "5 chr11 61665616 61665815 chr11:61665616-61665815 .     +     \n",
       "6 chr11 61665621 61665820 chr11:61665621-61665820 .     +     "
      ]
     },
     "metadata": {},
     "output_type": "display_data"
    }
   ],
   "source": [
    "tail(dat) ### chr11:61665621-61665820"
   ]
  },
  {
   "cell_type": "markdown",
   "id": "8d732b9d",
   "metadata": {},
   "source": [
    "```\n",
    "GATA\n",
    "chrX:47,785,501-49,880,650\n",
    "```"
   ]
  },
  {
   "cell_type": "code",
   "execution_count": 26,
   "id": "8b6c2f8f",
   "metadata": {},
   "outputs": [
    {
     "name": "stdout",
     "output_type": "stream",
     "text": [
      "    Min.  1st Qu.   Median     Mean  3rd Qu.     Max. \n",
      "47785501 48452014 48814146 48813188 49176018 49880451 \n",
      "    Min.  1st Qu.   Median     Mean  3rd Qu.     Max. \n",
      "47785700 48452212 48814345 48813387 49176218 49880650 \n"
     ]
    }
   ],
   "source": [
    "dat = dat_frg_gata\n",
    "print(summary(dat$Start)) ### range(47785501, 49880451)\n",
    "print(summary(dat$End))   ### range(47785700, 49880650)"
   ]
  },
  {
   "cell_type": "code",
   "execution_count": 27,
   "id": "2b6a29ad",
   "metadata": {},
   "outputs": [
    {
     "data": {
      "text/html": [
       "<table class=\"dataframe\">\n",
       "<caption>A tibble: 6 × 6</caption>\n",
       "<thead>\n",
       "\t<tr><th scope=col>Chrom</th><th scope=col>Start</th><th scope=col>End</th><th scope=col>Name</th><th scope=col>Score</th><th scope=col>Strand</th></tr>\n",
       "\t<tr><th scope=col>&lt;chr&gt;</th><th scope=col>&lt;dbl&gt;</th><th scope=col>&lt;dbl&gt;</th><th scope=col>&lt;chr&gt;</th><th scope=col>&lt;chr&gt;</th><th scope=col>&lt;chr&gt;</th></tr>\n",
       "</thead>\n",
       "<tbody>\n",
       "\t<tr><td>chrX</td><td>47785501</td><td>47785700</td><td>chrX:47785501-47785700</td><td>.</td><td>+</td></tr>\n",
       "\t<tr><td>chrX</td><td>47785551</td><td>47785750</td><td>chrX:47785551-47785750</td><td>.</td><td>+</td></tr>\n",
       "\t<tr><td>chrX</td><td>47785601</td><td>47785800</td><td>chrX:47785601-47785800</td><td>.</td><td>+</td></tr>\n",
       "\t<tr><td>chrX</td><td>47785651</td><td>47785850</td><td>chrX:47785651-47785850</td><td>.</td><td>+</td></tr>\n",
       "\t<tr><td>chrX</td><td>47785701</td><td>47785900</td><td>chrX:47785701-47785900</td><td>.</td><td>+</td></tr>\n",
       "\t<tr><td>chrX</td><td>47785751</td><td>47785950</td><td>chrX:47785751-47785950</td><td>.</td><td>+</td></tr>\n",
       "</tbody>\n",
       "</table>\n"
      ],
      "text/latex": [
       "A tibble: 6 × 6\n",
       "\\begin{tabular}{llllll}\n",
       " Chrom & Start & End & Name & Score & Strand\\\\\n",
       " <chr> & <dbl> & <dbl> & <chr> & <chr> & <chr>\\\\\n",
       "\\hline\n",
       "\t chrX & 47785501 & 47785700 & chrX:47785501-47785700 & . & +\\\\\n",
       "\t chrX & 47785551 & 47785750 & chrX:47785551-47785750 & . & +\\\\\n",
       "\t chrX & 47785601 & 47785800 & chrX:47785601-47785800 & . & +\\\\\n",
       "\t chrX & 47785651 & 47785850 & chrX:47785651-47785850 & . & +\\\\\n",
       "\t chrX & 47785701 & 47785900 & chrX:47785701-47785900 & . & +\\\\\n",
       "\t chrX & 47785751 & 47785950 & chrX:47785751-47785950 & . & +\\\\\n",
       "\\end{tabular}\n"
      ],
      "text/markdown": [
       "\n",
       "A tibble: 6 × 6\n",
       "\n",
       "| Chrom &lt;chr&gt; | Start &lt;dbl&gt; | End &lt;dbl&gt; | Name &lt;chr&gt; | Score &lt;chr&gt; | Strand &lt;chr&gt; |\n",
       "|---|---|---|---|---|---|\n",
       "| chrX | 47785501 | 47785700 | chrX:47785501-47785700 | . | + |\n",
       "| chrX | 47785551 | 47785750 | chrX:47785551-47785750 | . | + |\n",
       "| chrX | 47785601 | 47785800 | chrX:47785601-47785800 | . | + |\n",
       "| chrX | 47785651 | 47785850 | chrX:47785651-47785850 | . | + |\n",
       "| chrX | 47785701 | 47785900 | chrX:47785701-47785900 | . | + |\n",
       "| chrX | 47785751 | 47785950 | chrX:47785751-47785950 | . | + |\n",
       "\n"
      ],
      "text/plain": [
       "  Chrom Start    End      Name                   Score Strand\n",
       "1 chrX  47785501 47785700 chrX:47785501-47785700 .     +     \n",
       "2 chrX  47785551 47785750 chrX:47785551-47785750 .     +     \n",
       "3 chrX  47785601 47785800 chrX:47785601-47785800 .     +     \n",
       "4 chrX  47785651 47785850 chrX:47785651-47785850 .     +     \n",
       "5 chrX  47785701 47785900 chrX:47785701-47785900 .     +     \n",
       "6 chrX  47785751 47785950 chrX:47785751-47785950 .     +     "
      ]
     },
     "metadata": {},
     "output_type": "display_data"
    }
   ],
   "source": [
    "head(dat) ### chrX:47785501-47785700"
   ]
  },
  {
   "cell_type": "code",
   "execution_count": 28,
   "id": "90a85a4c",
   "metadata": {},
   "outputs": [
    {
     "data": {
      "text/html": [
       "<table class=\"dataframe\">\n",
       "<caption>A tibble: 6 × 6</caption>\n",
       "<thead>\n",
       "\t<tr><th scope=col>Chrom</th><th scope=col>Start</th><th scope=col>End</th><th scope=col>Name</th><th scope=col>Score</th><th scope=col>Strand</th></tr>\n",
       "\t<tr><th scope=col>&lt;chr&gt;</th><th scope=col>&lt;dbl&gt;</th><th scope=col>&lt;dbl&gt;</th><th scope=col>&lt;chr&gt;</th><th scope=col>&lt;chr&gt;</th><th scope=col>&lt;chr&gt;</th></tr>\n",
       "</thead>\n",
       "<tbody>\n",
       "\t<tr><td>chrX</td><td>49880201</td><td>49880400</td><td>chrX:49880201-49880400</td><td>.</td><td>+</td></tr>\n",
       "\t<tr><td>chrX</td><td>49880251</td><td>49880450</td><td>chrX:49880251-49880450</td><td>.</td><td>+</td></tr>\n",
       "\t<tr><td>chrX</td><td>49880301</td><td>49880500</td><td>chrX:49880301-49880500</td><td>.</td><td>+</td></tr>\n",
       "\t<tr><td>chrX</td><td>49880351</td><td>49880550</td><td>chrX:49880351-49880550</td><td>.</td><td>+</td></tr>\n",
       "\t<tr><td>chrX</td><td>49880401</td><td>49880600</td><td>chrX:49880401-49880600</td><td>.</td><td>+</td></tr>\n",
       "\t<tr><td>chrX</td><td>49880451</td><td>49880650</td><td>chrX:49880451-49880650</td><td>.</td><td>+</td></tr>\n",
       "</tbody>\n",
       "</table>\n"
      ],
      "text/latex": [
       "A tibble: 6 × 6\n",
       "\\begin{tabular}{llllll}\n",
       " Chrom & Start & End & Name & Score & Strand\\\\\n",
       " <chr> & <dbl> & <dbl> & <chr> & <chr> & <chr>\\\\\n",
       "\\hline\n",
       "\t chrX & 49880201 & 49880400 & chrX:49880201-49880400 & . & +\\\\\n",
       "\t chrX & 49880251 & 49880450 & chrX:49880251-49880450 & . & +\\\\\n",
       "\t chrX & 49880301 & 49880500 & chrX:49880301-49880500 & . & +\\\\\n",
       "\t chrX & 49880351 & 49880550 & chrX:49880351-49880550 & . & +\\\\\n",
       "\t chrX & 49880401 & 49880600 & chrX:49880401-49880600 & . & +\\\\\n",
       "\t chrX & 49880451 & 49880650 & chrX:49880451-49880650 & . & +\\\\\n",
       "\\end{tabular}\n"
      ],
      "text/markdown": [
       "\n",
       "A tibble: 6 × 6\n",
       "\n",
       "| Chrom &lt;chr&gt; | Start &lt;dbl&gt; | End &lt;dbl&gt; | Name &lt;chr&gt; | Score &lt;chr&gt; | Strand &lt;chr&gt; |\n",
       "|---|---|---|---|---|---|\n",
       "| chrX | 49880201 | 49880400 | chrX:49880201-49880400 | . | + |\n",
       "| chrX | 49880251 | 49880450 | chrX:49880251-49880450 | . | + |\n",
       "| chrX | 49880301 | 49880500 | chrX:49880301-49880500 | . | + |\n",
       "| chrX | 49880351 | 49880550 | chrX:49880351-49880550 | . | + |\n",
       "| chrX | 49880401 | 49880600 | chrX:49880401-49880600 | . | + |\n",
       "| chrX | 49880451 | 49880650 | chrX:49880451-49880650 | . | + |\n",
       "\n"
      ],
      "text/plain": [
       "  Chrom Start    End      Name                   Score Strand\n",
       "1 chrX  49880201 49880400 chrX:49880201-49880400 .     +     \n",
       "2 chrX  49880251 49880450 chrX:49880251-49880450 .     +     \n",
       "3 chrX  49880301 49880500 chrX:49880301-49880500 .     +     \n",
       "4 chrX  49880351 49880550 chrX:49880351-49880550 .     +     \n",
       "5 chrX  49880401 49880600 chrX:49880401-49880600 .     +     \n",
       "6 chrX  49880451 49880650 chrX:49880451-49880650 .     +     "
      ]
     },
     "metadata": {},
     "output_type": "display_data"
    }
   ],
   "source": [
    "tail(dat) ### chrX:49880451-49880650"
   ]
  },
  {
   "cell_type": "markdown",
   "id": "b9d1eaa4",
   "metadata": {},
   "source": [
    "```\n",
    "MYC\n",
    "chr8:126,735,901-128,736,550\n",
    "```"
   ]
  },
  {
   "cell_type": "code",
   "execution_count": 29,
   "id": "899f6e2a",
   "metadata": {},
   "outputs": [
    {
     "name": "stdout",
     "output_type": "stream",
     "text": [
      "     Min.   1st Qu.    Median      Mean   3rd Qu.      Max. \n",
      "126735901 127260401 127775951 127747465 128217751 128736351 \n",
      "     Min.   1st Qu.    Median      Mean   3rd Qu.      Max. \n",
      "126736100 127260600 127776150 127747664 128217950 128736550 \n"
     ]
    }
   ],
   "source": [
    "dat = dat_frg_myc\n",
    "print(summary(dat$Start)) ### range(126735901, 128736351)\n",
    "print(summary(dat$End))   ### range(126736100, 128736550)"
   ]
  },
  {
   "cell_type": "code",
   "execution_count": 30,
   "id": "f985e758",
   "metadata": {},
   "outputs": [
    {
     "data": {
      "text/html": [
       "<table class=\"dataframe\">\n",
       "<caption>A tibble: 6 × 6</caption>\n",
       "<thead>\n",
       "\t<tr><th scope=col>Chrom</th><th scope=col>Start</th><th scope=col>End</th><th scope=col>Name</th><th scope=col>Score</th><th scope=col>Strand</th></tr>\n",
       "\t<tr><th scope=col>&lt;chr&gt;</th><th scope=col>&lt;dbl&gt;</th><th scope=col>&lt;dbl&gt;</th><th scope=col>&lt;chr&gt;</th><th scope=col>&lt;chr&gt;</th><th scope=col>&lt;chr&gt;</th></tr>\n",
       "</thead>\n",
       "<tbody>\n",
       "\t<tr><td>chr8</td><td>126735901</td><td>126736100</td><td>chr8:126735901-126736100</td><td>.</td><td>+</td></tr>\n",
       "\t<tr><td>chr8</td><td>126735951</td><td>126736150</td><td>chr8:126735951-126736150</td><td>.</td><td>+</td></tr>\n",
       "\t<tr><td>chr8</td><td>126736001</td><td>126736200</td><td>chr8:126736001-126736200</td><td>.</td><td>+</td></tr>\n",
       "\t<tr><td>chr8</td><td>126736051</td><td>126736250</td><td>chr8:126736051-126736250</td><td>.</td><td>+</td></tr>\n",
       "\t<tr><td>chr8</td><td>126736101</td><td>126736300</td><td>chr8:126736101-126736300</td><td>.</td><td>+</td></tr>\n",
       "\t<tr><td>chr8</td><td>126736151</td><td>126736350</td><td>chr8:126736151-126736350</td><td>.</td><td>+</td></tr>\n",
       "</tbody>\n",
       "</table>\n"
      ],
      "text/latex": [
       "A tibble: 6 × 6\n",
       "\\begin{tabular}{llllll}\n",
       " Chrom & Start & End & Name & Score & Strand\\\\\n",
       " <chr> & <dbl> & <dbl> & <chr> & <chr> & <chr>\\\\\n",
       "\\hline\n",
       "\t chr8 & 126735901 & 126736100 & chr8:126735901-126736100 & . & +\\\\\n",
       "\t chr8 & 126735951 & 126736150 & chr8:126735951-126736150 & . & +\\\\\n",
       "\t chr8 & 126736001 & 126736200 & chr8:126736001-126736200 & . & +\\\\\n",
       "\t chr8 & 126736051 & 126736250 & chr8:126736051-126736250 & . & +\\\\\n",
       "\t chr8 & 126736101 & 126736300 & chr8:126736101-126736300 & . & +\\\\\n",
       "\t chr8 & 126736151 & 126736350 & chr8:126736151-126736350 & . & +\\\\\n",
       "\\end{tabular}\n"
      ],
      "text/markdown": [
       "\n",
       "A tibble: 6 × 6\n",
       "\n",
       "| Chrom &lt;chr&gt; | Start &lt;dbl&gt; | End &lt;dbl&gt; | Name &lt;chr&gt; | Score &lt;chr&gt; | Strand &lt;chr&gt; |\n",
       "|---|---|---|---|---|---|\n",
       "| chr8 | 126735901 | 126736100 | chr8:126735901-126736100 | . | + |\n",
       "| chr8 | 126735951 | 126736150 | chr8:126735951-126736150 | . | + |\n",
       "| chr8 | 126736001 | 126736200 | chr8:126736001-126736200 | . | + |\n",
       "| chr8 | 126736051 | 126736250 | chr8:126736051-126736250 | . | + |\n",
       "| chr8 | 126736101 | 126736300 | chr8:126736101-126736300 | . | + |\n",
       "| chr8 | 126736151 | 126736350 | chr8:126736151-126736350 | . | + |\n",
       "\n"
      ],
      "text/plain": [
       "  Chrom Start     End       Name                     Score Strand\n",
       "1 chr8  126735901 126736100 chr8:126735901-126736100 .     +     \n",
       "2 chr8  126735951 126736150 chr8:126735951-126736150 .     +     \n",
       "3 chr8  126736001 126736200 chr8:126736001-126736200 .     +     \n",
       "4 chr8  126736051 126736250 chr8:126736051-126736250 .     +     \n",
       "5 chr8  126736101 126736300 chr8:126736101-126736300 .     +     \n",
       "6 chr8  126736151 126736350 chr8:126736151-126736350 .     +     "
      ]
     },
     "metadata": {},
     "output_type": "display_data"
    }
   ],
   "source": [
    "head(dat) ### chr8:126735901-126736100"
   ]
  },
  {
   "cell_type": "code",
   "execution_count": 31,
   "id": "ef5bdd5e",
   "metadata": {},
   "outputs": [
    {
     "data": {
      "text/html": [
       "<table class=\"dataframe\">\n",
       "<caption>A tibble: 6 × 6</caption>\n",
       "<thead>\n",
       "\t<tr><th scope=col>Chrom</th><th scope=col>Start</th><th scope=col>End</th><th scope=col>Name</th><th scope=col>Score</th><th scope=col>Strand</th></tr>\n",
       "\t<tr><th scope=col>&lt;chr&gt;</th><th scope=col>&lt;dbl&gt;</th><th scope=col>&lt;dbl&gt;</th><th scope=col>&lt;chr&gt;</th><th scope=col>&lt;chr&gt;</th><th scope=col>&lt;chr&gt;</th></tr>\n",
       "</thead>\n",
       "<tbody>\n",
       "\t<tr><td>chr8</td><td>128736101</td><td>128736300</td><td>chr8:128736101-128736300</td><td>.</td><td>+</td></tr>\n",
       "\t<tr><td>chr8</td><td>128736151</td><td>128736350</td><td>chr8:128736151-128736350</td><td>.</td><td>+</td></tr>\n",
       "\t<tr><td>chr8</td><td>128736201</td><td>128736400</td><td>chr8:128736201-128736400</td><td>.</td><td>+</td></tr>\n",
       "\t<tr><td>chr8</td><td>128736251</td><td>128736450</td><td>chr8:128736251-128736450</td><td>.</td><td>+</td></tr>\n",
       "\t<tr><td>chr8</td><td>128736301</td><td>128736500</td><td>chr8:128736301-128736500</td><td>.</td><td>+</td></tr>\n",
       "\t<tr><td>chr8</td><td>128736351</td><td>128736550</td><td>chr8:128736351-128736550</td><td>.</td><td>+</td></tr>\n",
       "</tbody>\n",
       "</table>\n"
      ],
      "text/latex": [
       "A tibble: 6 × 6\n",
       "\\begin{tabular}{llllll}\n",
       " Chrom & Start & End & Name & Score & Strand\\\\\n",
       " <chr> & <dbl> & <dbl> & <chr> & <chr> & <chr>\\\\\n",
       "\\hline\n",
       "\t chr8 & 128736101 & 128736300 & chr8:128736101-128736300 & . & +\\\\\n",
       "\t chr8 & 128736151 & 128736350 & chr8:128736151-128736350 & . & +\\\\\n",
       "\t chr8 & 128736201 & 128736400 & chr8:128736201-128736400 & . & +\\\\\n",
       "\t chr8 & 128736251 & 128736450 & chr8:128736251-128736450 & . & +\\\\\n",
       "\t chr8 & 128736301 & 128736500 & chr8:128736301-128736500 & . & +\\\\\n",
       "\t chr8 & 128736351 & 128736550 & chr8:128736351-128736550 & . & +\\\\\n",
       "\\end{tabular}\n"
      ],
      "text/markdown": [
       "\n",
       "A tibble: 6 × 6\n",
       "\n",
       "| Chrom &lt;chr&gt; | Start &lt;dbl&gt; | End &lt;dbl&gt; | Name &lt;chr&gt; | Score &lt;chr&gt; | Strand &lt;chr&gt; |\n",
       "|---|---|---|---|---|---|\n",
       "| chr8 | 128736101 | 128736300 | chr8:128736101-128736300 | . | + |\n",
       "| chr8 | 128736151 | 128736350 | chr8:128736151-128736350 | . | + |\n",
       "| chr8 | 128736201 | 128736400 | chr8:128736201-128736400 | . | + |\n",
       "| chr8 | 128736251 | 128736450 | chr8:128736251-128736450 | . | + |\n",
       "| chr8 | 128736301 | 128736500 | chr8:128736301-128736500 | . | + |\n",
       "| chr8 | 128736351 | 128736550 | chr8:128736351-128736550 | . | + |\n",
       "\n"
      ],
      "text/plain": [
       "  Chrom Start     End       Name                     Score Strand\n",
       "1 chr8  128736101 128736300 chr8:128736101-128736300 .     +     \n",
       "2 chr8  128736151 128736350 chr8:128736151-128736350 .     +     \n",
       "3 chr8  128736201 128736400 chr8:128736201-128736400 .     +     \n",
       "4 chr8  128736251 128736450 chr8:128736251-128736450 .     +     \n",
       "5 chr8  128736301 128736500 chr8:128736301-128736500 .     +     \n",
       "6 chr8  128736351 128736550 chr8:128736351-128736550 .     +     "
      ]
     },
     "metadata": {},
     "output_type": "display_data"
    }
   ],
   "source": [
    "tail(dat)"
   ]
  },
  {
   "cell_type": "code",
   "execution_count": null,
   "id": "87be5d79",
   "metadata": {},
   "outputs": [],
   "source": []
  }
 ],
 "metadata": {
  "kernelspec": {
   "display_name": "R",
   "language": "R",
   "name": "ir"
  },
  "language_info": {
   "codemirror_mode": "r",
   "file_extension": ".r",
   "mimetype": "text/x-r-source",
   "name": "R",
   "pygments_lexer": "r",
   "version": "4.2.2"
  }
 },
 "nbformat": 4,
 "nbformat_minor": 5
}
