{
 "cells": [
  {
   "cell_type": "markdown",
   "id": "a56efafe-8e99-4ad6-a13f-d16a0e299810",
   "metadata": {},
   "source": [
    "**Set environment**"
   ]
  },
  {
   "cell_type": "code",
   "execution_count": 1,
   "id": "73a71f3e",
   "metadata": {},
   "outputs": [
    {
     "name": "stdout",
     "output_type": "stream",
     "text": [
      "You are on Duke Server: HARDAC\n",
      "BASE DIRECTORY:     /data/reddylab/Kuei\n",
      "WORK DIRECTORY:     /data/reddylab/Kuei/out\n",
      "CODE DIRECTORY:     /data/reddylab/Kuei/code\n",
      "SING DIRECTORY:     /data/reddylab/Kuei/singularity\n",
      "PATH OF SOURCE:     /data/reddylab/Kuei/source\n",
      "PATH OF EXECUTABLE: /data/reddylab/Kuei/bin\n",
      "PATH OF ANNOTATION: /data/reddylab/Kuei/annotation\n",
      "PATH OF PROJECT:    /data/reddylab/Kuei/code/Proj_CombEffect_ENCODE_FCC\n",
      "PATH OF RESULTS:    /data/reddylab/Kuei/out/proj_combeffect_encode_fcc\n",
      "\n"
     ]
    }
   ],
   "source": [
    "source ../config/config_duke.sh\n",
    "show_env"
   ]
  },
  {
   "cell_type": "markdown",
   "id": "84569a66-8bcf-45b0-9d5a-00a284bc7117",
   "metadata": {},
   "source": [
    "```\n",
    "GATA1 | chrX:  47,785,501 -  49,880,650  \n",
    "MYC   | chr8: 126,735,901 - 128,736,550  \n",
    "FADS  | chr11: 61,554,801 -  61,665,820\n",
    "\n",
    "```"
   ]
  },
  {
   "cell_type": "markdown",
   "id": "1e29b75c-a906-4d93-8d6f-332c19f09fec",
   "metadata": {},
   "source": [
    "**Check loop**"
   ]
  },
  {
   "cell_type": "code",
   "execution_count": 17,
   "id": "1414812c-63d9-43fb-bdc0-34c709e5dbc8",
   "metadata": {},
   "outputs": [],
   "source": [
    "ASSAYS=(A001_K562_WSTARRseq KS91_K562_ASTARRseq Tewhey_K562_TileMPRA)\n",
    "\n",
    "REGIONS=(GATA1    MYC       FADS)\n",
    "CHROMS=( chrX     chr8      chr11)\n",
    "STARTS=( 47785501 126735901 61554801)\n",
    "ENDS=(   49880650 128736550 61665820)"
   ]
  },
  {
   "cell_type": "code",
   "execution_count": 18,
   "id": "77c42fc6-79bf-4237-a345-60d5d55ec03a",
   "metadata": {},
   "outputs": [
    {
     "name": "stdout",
     "output_type": "stream",
     "text": [
      "A001_K562_WSTARRseq\n",
      "KS91_K562_ASTARRseq\n",
      "Tewhey_K562_TileMPRA\n"
     ]
    }
   ],
   "source": [
    "for ASSAY in ${ASSAYS[@]}; do\n",
    "    echo ${ASSAY}\n",
    "done"
   ]
  },
  {
   "cell_type": "code",
   "execution_count": 21,
   "id": "975833d5-d29b-44f3-bc61-74593bc0e040",
   "metadata": {},
   "outputs": [
    {
     "name": "stdout",
     "output_type": "stream",
     "text": [
      "0\n",
      "GATA1 | chrX : 47785501 - 49880650\n",
      "1\n",
      "MYC | chr8 : 126735901 - 128736550\n",
      "2\n",
      "FADS | chr11 : 61554801 - 61665820\n"
     ]
    }
   ],
   "source": [
    "for IDX in {0..2}; do\n",
    "    echo ${IDX}\n",
    "    REGION=${REGIONS[${IDX}]}\n",
    "    CHROM=${CHROMS[${IDX}]}\n",
    "    START=${STARTS[${IDX}]}\n",
    "    END=${ENDS[${IDX}]}\n",
    "    echo ${REGION} \"|\" ${CHROM} \":\" ${START} \"-\" ${END}\n",
    "done"
   ]
  },
  {
   "cell_type": "markdown",
   "id": "5923e466-317e-4a7a-8b0e-c2bf3a2d0ba0",
   "metadata": {
    "tags": []
   },
   "source": [
    "### Set region by range"
   ]
  },
  {
   "cell_type": "code",
   "execution_count": 29,
   "id": "6b2adb6d-a498-46c6-a7ce-8622edbec74d",
   "metadata": {},
   "outputs": [
    {
     "name": "stdout",
     "output_type": "stream",
     "text": [
      "A001_K562_WSTARRseq | GATA1 | chrX : 47785501 - 49880650\n",
      "/data/reddylab/Kuei/out/proj_combeffect_encode_fcc/results/A001_K562_WSTARRseq/coverage/region_GATA1.bed\n",
      "chrX\t47785501\t49880650\n",
      "\n",
      "A001_K562_WSTARRseq | MYC | chr8 : 126735901 - 128736550\n",
      "/data/reddylab/Kuei/out/proj_combeffect_encode_fcc/results/A001_K562_WSTARRseq/coverage/region_MYC.bed\n",
      "chr8\t126735901\t128736550\n",
      "\n",
      "A001_K562_WSTARRseq | FADS | chr11 : 61554801 - 61665820\n",
      "/data/reddylab/Kuei/out/proj_combeffect_encode_fcc/results/A001_K562_WSTARRseq/coverage/region_FADS.bed\n",
      "chr11\t61554801\t61665820\n",
      "\n",
      "\n",
      "KS91_K562_ASTARRseq | GATA1 | chrX : 47785501 - 49880650\n",
      "/data/reddylab/Kuei/out/proj_combeffect_encode_fcc/results/KS91_K562_ASTARRseq/coverage/region_GATA1.bed\n",
      "chrX\t47785501\t49880650\n",
      "\n",
      "KS91_K562_ASTARRseq | MYC | chr8 : 126735901 - 128736550\n",
      "/data/reddylab/Kuei/out/proj_combeffect_encode_fcc/results/KS91_K562_ASTARRseq/coverage/region_MYC.bed\n",
      "chr8\t126735901\t128736550\n",
      "\n",
      "KS91_K562_ASTARRseq | FADS | chr11 : 61554801 - 61665820\n",
      "/data/reddylab/Kuei/out/proj_combeffect_encode_fcc/results/KS91_K562_ASTARRseq/coverage/region_FADS.bed\n",
      "chr11\t61554801\t61665820\n",
      "\n",
      "\n",
      "Tewhey_K562_TileMPRA | GATA1 | chrX : 47785501 - 49880650\n",
      "/data/reddylab/Kuei/out/proj_combeffect_encode_fcc/results/Tewhey_K562_TileMPRA/coverage/region_GATA1.bed\n",
      "chrX\t47785501\t49880650\n",
      "\n",
      "Tewhey_K562_TileMPRA | MYC | chr8 : 126735901 - 128736550\n",
      "/data/reddylab/Kuei/out/proj_combeffect_encode_fcc/results/Tewhey_K562_TileMPRA/coverage/region_MYC.bed\n",
      "chr8\t126735901\t128736550\n",
      "\n",
      "Tewhey_K562_TileMPRA | FADS | chr11 : 61554801 - 61665820\n",
      "/data/reddylab/Kuei/out/proj_combeffect_encode_fcc/results/Tewhey_K562_TileMPRA/coverage/region_FADS.bed\n",
      "chr11\t61554801\t61665820\n",
      "\n",
      "\n"
     ]
    }
   ],
   "source": [
    "for ASSAY in ${ASSAYS[@]}; do\n",
    "    for IDX in {0..2}; do\n",
    "        \n",
    "        ### Set varibles for region and range\n",
    "        REGION=${REGIONS[${IDX}]}\n",
    "        CHROM=${CHROMS[${IDX}]}\n",
    "        START=${STARTS[${IDX}]}\n",
    "        END=${ENDS[${IDX}]}\n",
    "        \n",
    "        ### set file path\n",
    "        FP_OUT=${FD_RES}/results/${ASSAY}/coverage/region_${REGION}.bed\n",
    "        \n",
    "        ### set region file by range specified\n",
    "        cat /dev/null > ${FP_OUT}\n",
    "        echo -e \"${CHROM}\\\\t${START}\\\\t${END}\" >> ${FP_OUT}\n",
    "        \n",
    "        ### show results\n",
    "        echo ${ASSAY} \"|\" ${REGION} \"|\" ${CHROM} \":\" ${START} \"-\" ${END}\n",
    "        echo ${FP_OUT}\n",
    "        cat ${FP_OUT}\n",
    "        echo\n",
    "    done\n",
    "    echo\n",
    "done"
   ]
  },
  {
   "cell_type": "markdown",
   "id": "1099547c-02e5-4d11-bc44-2eaca0ca2889",
   "metadata": {},
   "source": [
    "### Set region per base"
   ]
  },
  {
   "cell_type": "code",
   "execution_count": 32,
   "id": "5dfe08fc-34ad-4dc6-80bb-68421e377bb7",
   "metadata": {},
   "outputs": [
    {
     "name": "stdout",
     "output_type": "stream",
     "text": [
      "A001_K562_WSTARRseq | GATA1 | chrX : 47785501 - 49880650\n",
      "/data/reddylab/Kuei/out/proj_combeffect_encode_fcc/results/A001_K562_WSTARRseq/coverage/region_GATA1_perbase.bed\n",
      "chrX\t47785501\t47785502\n",
      "chrX\t47785502\t47785503\n",
      "chrX\t47785503\t47785504\n",
      "chrX\t47785504\t47785505\n",
      "chrX\t47785505\t47785506\n",
      "chrX\t47785506\t47785507\n",
      "chrX\t47785507\t47785508\n",
      "chrX\t47785508\t47785509\n",
      "chrX\t47785509\t47785510\n",
      "chrX\t47785510\t47785511\n",
      "\n",
      "A001_K562_WSTARRseq | MYC | chr8 : 126735901 - 128736550\n",
      "/data/reddylab/Kuei/out/proj_combeffect_encode_fcc/results/A001_K562_WSTARRseq/coverage/region_MYC_perbase.bed\n",
      "chr8\t126735901\t126735902\n",
      "chr8\t126735902\t126735903\n",
      "chr8\t126735903\t126735904\n",
      "chr8\t126735904\t126735905\n",
      "chr8\t126735905\t126735906\n",
      "chr8\t126735906\t126735907\n",
      "chr8\t126735907\t126735908\n",
      "chr8\t126735908\t126735909\n",
      "chr8\t126735909\t126735910\n",
      "chr8\t126735910\t126735911\n",
      "\n",
      "A001_K562_WSTARRseq | FADS | chr11 : 61554801 - 61665820\n",
      "/data/reddylab/Kuei/out/proj_combeffect_encode_fcc/results/A001_K562_WSTARRseq/coverage/region_FADS_perbase.bed\n",
      "chr11\t61554801\t61554802\n",
      "chr11\t61554802\t61554803\n",
      "chr11\t61554803\t61554804\n",
      "chr11\t61554804\t61554805\n",
      "chr11\t61554805\t61554806\n",
      "chr11\t61554806\t61554807\n",
      "chr11\t61554807\t61554808\n",
      "chr11\t61554808\t61554809\n",
      "chr11\t61554809\t61554810\n",
      "chr11\t61554810\t61554811\n",
      "\n",
      "\n",
      "KS91_K562_ASTARRseq | GATA1 | chrX : 47785501 - 49880650\n",
      "/data/reddylab/Kuei/out/proj_combeffect_encode_fcc/results/KS91_K562_ASTARRseq/coverage/region_GATA1_perbase.bed\n",
      "chrX\t47785501\t47785502\n",
      "chrX\t47785502\t47785503\n",
      "chrX\t47785503\t47785504\n",
      "chrX\t47785504\t47785505\n",
      "chrX\t47785505\t47785506\n",
      "chrX\t47785506\t47785507\n",
      "chrX\t47785507\t47785508\n",
      "chrX\t47785508\t47785509\n",
      "chrX\t47785509\t47785510\n",
      "chrX\t47785510\t47785511\n",
      "\n",
      "KS91_K562_ASTARRseq | MYC | chr8 : 126735901 - 128736550\n",
      "/data/reddylab/Kuei/out/proj_combeffect_encode_fcc/results/KS91_K562_ASTARRseq/coverage/region_MYC_perbase.bed\n",
      "chr8\t126735901\t126735902\n",
      "chr8\t126735902\t126735903\n",
      "chr8\t126735903\t126735904\n",
      "chr8\t126735904\t126735905\n",
      "chr8\t126735905\t126735906\n",
      "chr8\t126735906\t126735907\n",
      "chr8\t126735907\t126735908\n",
      "chr8\t126735908\t126735909\n",
      "chr8\t126735909\t126735910\n",
      "chr8\t126735910\t126735911\n",
      "\n",
      "KS91_K562_ASTARRseq | FADS | chr11 : 61554801 - 61665820\n",
      "/data/reddylab/Kuei/out/proj_combeffect_encode_fcc/results/KS91_K562_ASTARRseq/coverage/region_FADS_perbase.bed\n",
      "chr11\t61554801\t61554802\n",
      "chr11\t61554802\t61554803\n",
      "chr11\t61554803\t61554804\n",
      "chr11\t61554804\t61554805\n",
      "chr11\t61554805\t61554806\n",
      "chr11\t61554806\t61554807\n",
      "chr11\t61554807\t61554808\n",
      "chr11\t61554808\t61554809\n",
      "chr11\t61554809\t61554810\n",
      "chr11\t61554810\t61554811\n",
      "\n",
      "\n",
      "Tewhey_K562_TileMPRA | GATA1 | chrX : 47785501 - 49880650\n",
      "/data/reddylab/Kuei/out/proj_combeffect_encode_fcc/results/Tewhey_K562_TileMPRA/coverage/region_GATA1_perbase.bed\n",
      "chrX\t47785501\t47785502\n",
      "chrX\t47785502\t47785503\n",
      "chrX\t47785503\t47785504\n",
      "chrX\t47785504\t47785505\n",
      "chrX\t47785505\t47785506\n",
      "chrX\t47785506\t47785507\n",
      "chrX\t47785507\t47785508\n",
      "chrX\t47785508\t47785509\n",
      "chrX\t47785509\t47785510\n",
      "chrX\t47785510\t47785511\n",
      "\n",
      "Tewhey_K562_TileMPRA | MYC | chr8 : 126735901 - 128736550\n",
      "/data/reddylab/Kuei/out/proj_combeffect_encode_fcc/results/Tewhey_K562_TileMPRA/coverage/region_MYC_perbase.bed\n",
      "chr8\t126735901\t126735902\n",
      "chr8\t126735902\t126735903\n",
      "chr8\t126735903\t126735904\n",
      "chr8\t126735904\t126735905\n",
      "chr8\t126735905\t126735906\n",
      "chr8\t126735906\t126735907\n",
      "chr8\t126735907\t126735908\n",
      "chr8\t126735908\t126735909\n",
      "chr8\t126735909\t126735910\n",
      "chr8\t126735910\t126735911\n",
      "\n",
      "Tewhey_K562_TileMPRA | FADS | chr11 : 61554801 - 61665820\n",
      "/data/reddylab/Kuei/out/proj_combeffect_encode_fcc/results/Tewhey_K562_TileMPRA/coverage/region_FADS_perbase.bed\n",
      "chr11\t61554801\t61554802\n",
      "chr11\t61554802\t61554803\n",
      "chr11\t61554803\t61554804\n",
      "chr11\t61554804\t61554805\n",
      "chr11\t61554805\t61554806\n",
      "chr11\t61554806\t61554807\n",
      "chr11\t61554807\t61554808\n",
      "chr11\t61554808\t61554809\n",
      "chr11\t61554809\t61554810\n",
      "chr11\t61554810\t61554811\n",
      "\n",
      "\n"
     ]
    }
   ],
   "source": [
    "for ASSAY in ${ASSAYS[@]}; do\n",
    "    for IDX in {0..2}; do\n",
    "        \n",
    "        ### Set varibles for region and range\n",
    "        REGION=${REGIONS[${IDX}]}\n",
    "        CHROM=${CHROMS[${IDX}]}\n",
    "        START=${STARTS[${IDX}]}\n",
    "        END=${ENDS[${IDX}]}\n",
    "        \n",
    "        ### set file path\n",
    "        FP_OUT=${FD_RES}/results/${ASSAY}/coverage/region_${REGION}_perbase.bed\n",
    "        \n",
    "        ### set region file per base        \n",
    "        cat /dev/null > ${FP_OUT}\n",
    "        for LOC in $(seq ${START} ${END}); do\n",
    "            echo -e \"${CHROM}\\\\t${LOC}\\\\t$((${LOC} + 1))\" >> ${FP_OUT}\n",
    "        done\n",
    "        \n",
    "        ### show results\n",
    "        echo ${ASSAY} \"|\" ${REGION} \"|\" ${CHROM} \":\" ${START} \"-\" ${END}\n",
    "        echo ${FP_OUT}\n",
    "        head ${FP_OUT}\n",
    "        echo\n",
    "    done\n",
    "    echo\n",
    "done"
   ]
  },
  {
   "cell_type": "code",
   "execution_count": null,
   "id": "74e59a05-8226-4a13-b860-b0beb8ae58d4",
   "metadata": {},
   "outputs": [],
   "source": []
  }
 ],
 "metadata": {
  "kernelspec": {
   "display_name": "Bash",
   "language": "bash",
   "name": "bash"
  },
  "language_info": {
   "codemirror_mode": "shell",
   "file_extension": ".sh",
   "mimetype": "text/x-sh",
   "name": "bash"
  }
 },
 "nbformat": 4,
 "nbformat_minor": 5
}
