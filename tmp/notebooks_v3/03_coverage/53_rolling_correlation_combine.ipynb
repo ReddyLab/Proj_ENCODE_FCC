{
 "cells": [
  {
   "cell_type": "markdown",
   "id": "59023630",
   "metadata": {},
   "source": [
    "**Set environment**"
   ]
  },
  {
   "cell_type": "code",
   "execution_count": 1,
   "id": "c0f65c30",
   "metadata": {},
   "outputs": [
    {
     "name": "stdout",
     "output_type": "stream",
     "text": [
      "You are in Singularity: singularity_proj_combeffect \n",
      "BASE DIRECTORY:     /data/reddylab/Kuei \n",
      "WORK DIRECTORY:     /data/reddylab/Kuei/out \n",
      "CODE DIRECTORY:     /data/reddylab/Kuei/code \n",
      "PATH OF SOURCE:     /data/reddylab/Kuei/source \n",
      "PATH OF EXECUTABLE: /data/reddylab/Kuei/bin \n",
      "PATH OF ANNOTATION: /data/reddylab/Kuei/annotation \n",
      "PATH OF PROJECT:    /data/reddylab/Kuei/code/Proj_CombEffect_ENCODE_FCC \n",
      "PATH OF RESULTS:    /data/reddylab/Kuei/out/proj_combeffect_encode_fcc \n"
     ]
    }
   ],
   "source": [
    "suppressMessages(suppressWarnings(source(\"../config/config_sing.R\")))\n",
    "show_env()"
   ]
  },
  {
   "cell_type": "code",
   "execution_count": 10,
   "id": "64d44cce",
   "metadata": {},
   "outputs": [
    {
     "name": "stdout",
     "output_type": "stream",
     "text": [
      " [1] \"chr1\"  \"chr2\"  \"chr3\"  \"chr4\"  \"chr5\"  \"chr6\"  \"chr7\"  \"chr8\"  \"chr9\" \n",
      "[10] \"chr10\" \"chr11\" \"chr12\" \"chr13\" \"chr14\" \"chr15\" \"chr16\" \"chr17\" \"chr18\"\n",
      "[19] \"chr19\" \"chr20\" \"chr21\" \"chr22\" \"chrX\"  \"chrY\" \n"
     ]
    }
   ],
   "source": [
    "CHROMS = paste0(\"chr\", c(1:22, \"X\", \"Y\"))\n",
    "print(CHROMS)"
   ]
  },
  {
   "cell_type": "markdown",
   "id": "04a7dfd2",
   "metadata": {},
   "source": [
    "## Import data"
   ]
  },
  {
   "cell_type": "markdown",
   "id": "b515d836",
   "metadata": {},
   "source": [
    "**Import rolling correlation for GATA1 region**"
   ]
  },
  {
   "cell_type": "code",
   "execution_count": 11,
   "id": "891aeca7",
   "metadata": {},
   "outputs": [
    {
     "name": "stdout",
     "output_type": "stream",
     "text": [
      " [1] \"cor.pLog2FC.GATA1.50.10.csv\" \"cor.pLog2FC.GATA1.50.11.csv\"\n",
      " [3] \"cor.pLog2FC.GATA1.50.12.csv\" \"cor.pLog2FC.GATA1.50.13.csv\"\n",
      " [5] \"cor.pLog2FC.GATA1.50.14.csv\" \"cor.pLog2FC.GATA1.50.15.csv\"\n",
      " [7] \"cor.pLog2FC.GATA1.50.16.csv\" \"cor.pLog2FC.GATA1.50.17.csv\"\n",
      " [9] \"cor.pLog2FC.GATA1.50.18.csv\" \"cor.pLog2FC.GATA1.50.19.csv\"\n",
      "[11] \"cor.pLog2FC.GATA1.50.1.csv\"  \"cor.pLog2FC.GATA1.50.20.csv\"\n",
      "[13] \"cor.pLog2FC.GATA1.50.21.csv\" \"cor.pLog2FC.GATA1.50.22.csv\"\n",
      "[15] \"cor.pLog2FC.GATA1.50.23.csv\" \"cor.pLog2FC.GATA1.50.24.csv\"\n",
      "[17] \"cor.pLog2FC.GATA1.50.25.csv\" \"cor.pLog2FC.GATA1.50.26.csv\"\n",
      "[19] \"cor.pLog2FC.GATA1.50.27.csv\" \"cor.pLog2FC.GATA1.50.28.csv\"\n",
      "[21] \"cor.pLog2FC.GATA1.50.29.csv\" \"cor.pLog2FC.GATA1.50.2.csv\" \n",
      "[23] \"cor.pLog2FC.GATA1.50.30.csv\" \"cor.pLog2FC.GATA1.50.31.csv\"\n",
      "[25] \"cor.pLog2FC.GATA1.50.32.csv\" \"cor.pLog2FC.GATA1.50.33.csv\"\n",
      "[27] \"cor.pLog2FC.GATA1.50.34.csv\" \"cor.pLog2FC.GATA1.50.35.csv\"\n",
      "[29] \"cor.pLog2FC.GATA1.50.36.csv\" \"cor.pLog2FC.GATA1.50.37.csv\"\n",
      "[31] \"cor.pLog2FC.GATA1.50.38.csv\" \"cor.pLog2FC.GATA1.50.39.csv\"\n",
      "[33] \"cor.pLog2FC.GATA1.50.3.csv\"  \"cor.pLog2FC.GATA1.50.40.csv\"\n",
      "[35] \"cor.pLog2FC.GATA1.50.41.csv\" \"cor.pLog2FC.GATA1.50.42.csv\"\n",
      "[37] \"cor.pLog2FC.GATA1.50.43.csv\" \"cor.pLog2FC.GATA1.50.44.csv\"\n",
      "[39] \"cor.pLog2FC.GATA1.50.45.csv\" \"cor.pLog2FC.GATA1.50.46.csv\"\n",
      "[41] \"cor.pLog2FC.GATA1.50.47.csv\" \"cor.pLog2FC.GATA1.50.48.csv\"\n",
      "[43] \"cor.pLog2FC.GATA1.50.49.csv\" \"cor.pLog2FC.GATA1.50.4.csv\" \n",
      "[45] \"cor.pLog2FC.GATA1.50.50.csv\" \"cor.pLog2FC.GATA1.50.5.csv\" \n",
      "[47] \"cor.pLog2FC.GATA1.50.6.csv\"  \"cor.pLog2FC.GATA1.50.7.csv\" \n",
      "[49] \"cor.pLog2FC.GATA1.50.8.csv\"  \"cor.pLog2FC.GATA1.50.9.csv\" \n",
      "[1] 41900     7\n"
     ]
    },
    {
     "data": {
      "text/html": [
       "<table class=\"dataframe\">\n",
       "<caption>A tibble: 6 × 7</caption>\n",
       "<thead>\n",
       "\t<tr><th scope=col>Chrom</th><th scope=col>Start</th><th scope=col>End</th><th scope=col>Loc</th><th scope=col>cor_astarr_wstarr</th><th scope=col>cor_astarr_tmpra</th><th scope=col>cor_wstarr_tmpra</th></tr>\n",
       "\t<tr><th scope=col>&lt;chr&gt;</th><th scope=col>&lt;dbl&gt;</th><th scope=col>&lt;dbl&gt;</th><th scope=col>&lt;dbl&gt;</th><th scope=col>&lt;dbl&gt;</th><th scope=col>&lt;dbl&gt;</th><th scope=col>&lt;dbl&gt;</th></tr>\n",
       "</thead>\n",
       "<tbody>\n",
       "\t<tr><td>chrX</td><td>47785501</td><td>47785701</td><td>47785601</td><td>-0.28339337</td><td>-0.18532375</td><td>-0.6074623</td></tr>\n",
       "\t<tr><td>chrX</td><td>47785551</td><td>47785751</td><td>47785651</td><td>-0.55238550</td><td> 0.10269499</td><td>-0.6864925</td></tr>\n",
       "\t<tr><td>chrX</td><td>47785601</td><td>47785801</td><td>47785701</td><td>-0.30378997</td><td>-0.16834181</td><td>-0.4341438</td></tr>\n",
       "\t<tr><td>chrX</td><td>47785651</td><td>47785851</td><td>47785751</td><td>-0.04816648</td><td>-0.02568548</td><td>-0.5886127</td></tr>\n",
       "\t<tr><td>chrX</td><td>47785701</td><td>47785901</td><td>47785801</td><td>-0.20814768</td><td> 0.49495413</td><td>-0.4716910</td></tr>\n",
       "\t<tr><td>chrX</td><td>47785751</td><td>47785951</td><td>47785851</td><td>-0.20360771</td><td> 0.23268287</td><td>-0.7565029</td></tr>\n",
       "</tbody>\n",
       "</table>\n"
      ],
      "text/latex": [
       "A tibble: 6 × 7\n",
       "\\begin{tabular}{lllllll}\n",
       " Chrom & Start & End & Loc & cor\\_astarr\\_wstarr & cor\\_astarr\\_tmpra & cor\\_wstarr\\_tmpra\\\\\n",
       " <chr> & <dbl> & <dbl> & <dbl> & <dbl> & <dbl> & <dbl>\\\\\n",
       "\\hline\n",
       "\t chrX & 47785501 & 47785701 & 47785601 & -0.28339337 & -0.18532375 & -0.6074623\\\\\n",
       "\t chrX & 47785551 & 47785751 & 47785651 & -0.55238550 &  0.10269499 & -0.6864925\\\\\n",
       "\t chrX & 47785601 & 47785801 & 47785701 & -0.30378997 & -0.16834181 & -0.4341438\\\\\n",
       "\t chrX & 47785651 & 47785851 & 47785751 & -0.04816648 & -0.02568548 & -0.5886127\\\\\n",
       "\t chrX & 47785701 & 47785901 & 47785801 & -0.20814768 &  0.49495413 & -0.4716910\\\\\n",
       "\t chrX & 47785751 & 47785951 & 47785851 & -0.20360771 &  0.23268287 & -0.7565029\\\\\n",
       "\\end{tabular}\n"
      ],
      "text/markdown": [
       "\n",
       "A tibble: 6 × 7\n",
       "\n",
       "| Chrom &lt;chr&gt; | Start &lt;dbl&gt; | End &lt;dbl&gt; | Loc &lt;dbl&gt; | cor_astarr_wstarr &lt;dbl&gt; | cor_astarr_tmpra &lt;dbl&gt; | cor_wstarr_tmpra &lt;dbl&gt; |\n",
       "|---|---|---|---|---|---|---|\n",
       "| chrX | 47785501 | 47785701 | 47785601 | -0.28339337 | -0.18532375 | -0.6074623 |\n",
       "| chrX | 47785551 | 47785751 | 47785651 | -0.55238550 |  0.10269499 | -0.6864925 |\n",
       "| chrX | 47785601 | 47785801 | 47785701 | -0.30378997 | -0.16834181 | -0.4341438 |\n",
       "| chrX | 47785651 | 47785851 | 47785751 | -0.04816648 | -0.02568548 | -0.5886127 |\n",
       "| chrX | 47785701 | 47785901 | 47785801 | -0.20814768 |  0.49495413 | -0.4716910 |\n",
       "| chrX | 47785751 | 47785951 | 47785851 | -0.20360771 |  0.23268287 | -0.7565029 |\n",
       "\n"
      ],
      "text/plain": [
       "  Chrom Start    End      Loc      cor_astarr_wstarr cor_astarr_tmpra\n",
       "1 chrX  47785501 47785701 47785601 -0.28339337       -0.18532375     \n",
       "2 chrX  47785551 47785751 47785651 -0.55238550        0.10269499     \n",
       "3 chrX  47785601 47785801 47785701 -0.30378997       -0.16834181     \n",
       "4 chrX  47785651 47785851 47785751 -0.04816648       -0.02568548     \n",
       "5 chrX  47785701 47785901 47785801 -0.20814768        0.49495413     \n",
       "6 chrX  47785751 47785951 47785851 -0.20360771        0.23268287     \n",
       "  cor_wstarr_tmpra\n",
       "1 -0.6074623      \n",
       "2 -0.6864925      \n",
       "3 -0.4341438      \n",
       "4 -0.5886127      \n",
       "5 -0.4716910      \n",
       "6 -0.7565029      "
      ]
     },
     "metadata": {},
     "output_type": "display_data"
    }
   ],
   "source": [
    "REGION = \"GATA1\"\n",
    "fdiry  = file.path(FD_RES, \"results\", \"comparison\", \"comparison_local\", \"cor_size_200bp_step_50bp\")\n",
    "fname  = paste(\"cor\", \"pLog2FC\", REGION, \"*\", \"csv\", sep=\".\")\n",
    "fglob  = file.path(fdiry, fname)\n",
    "fpaths = Sys.glob(fglob)\n",
    "print(basename(fpaths))\n",
    "\n",
    "lst = lapply(fpaths, function(fpath){\n",
    "    dat = read_csv(fpath, show_col_types = FALSE)\n",
    "    return(dat)\n",
    "})\n",
    "dat = bind_rows(lst) %>% arrange(Start, End)\n",
    "\n",
    "dat_cor_pLog2FC_gata1 = dat\n",
    "print(dim(dat))\n",
    "head(dat)"
   ]
  },
  {
   "cell_type": "markdown",
   "id": "5a216d07",
   "metadata": {},
   "source": [
    "**Import rolling correlation for MYC region**"
   ]
  },
  {
   "cell_type": "code",
   "execution_count": 12,
   "id": "3893573c",
   "metadata": {},
   "outputs": [
    {
     "name": "stdout",
     "output_type": "stream",
     "text": [
      " [1] \"cor.pLog2FC.MYC.50.10.csv\" \"cor.pLog2FC.MYC.50.11.csv\"\n",
      " [3] \"cor.pLog2FC.MYC.50.12.csv\" \"cor.pLog2FC.MYC.50.13.csv\"\n",
      " [5] \"cor.pLog2FC.MYC.50.14.csv\" \"cor.pLog2FC.MYC.50.15.csv\"\n",
      " [7] \"cor.pLog2FC.MYC.50.16.csv\" \"cor.pLog2FC.MYC.50.17.csv\"\n",
      " [9] \"cor.pLog2FC.MYC.50.18.csv\" \"cor.pLog2FC.MYC.50.19.csv\"\n",
      "[11] \"cor.pLog2FC.MYC.50.1.csv\"  \"cor.pLog2FC.MYC.50.20.csv\"\n",
      "[13] \"cor.pLog2FC.MYC.50.21.csv\" \"cor.pLog2FC.MYC.50.22.csv\"\n",
      "[15] \"cor.pLog2FC.MYC.50.23.csv\" \"cor.pLog2FC.MYC.50.24.csv\"\n",
      "[17] \"cor.pLog2FC.MYC.50.25.csv\" \"cor.pLog2FC.MYC.50.26.csv\"\n",
      "[19] \"cor.pLog2FC.MYC.50.27.csv\" \"cor.pLog2FC.MYC.50.28.csv\"\n",
      "[21] \"cor.pLog2FC.MYC.50.29.csv\" \"cor.pLog2FC.MYC.50.2.csv\" \n",
      "[23] \"cor.pLog2FC.MYC.50.30.csv\" \"cor.pLog2FC.MYC.50.31.csv\"\n",
      "[25] \"cor.pLog2FC.MYC.50.32.csv\" \"cor.pLog2FC.MYC.50.33.csv\"\n",
      "[27] \"cor.pLog2FC.MYC.50.34.csv\" \"cor.pLog2FC.MYC.50.35.csv\"\n",
      "[29] \"cor.pLog2FC.MYC.50.36.csv\" \"cor.pLog2FC.MYC.50.37.csv\"\n",
      "[31] \"cor.pLog2FC.MYC.50.38.csv\" \"cor.pLog2FC.MYC.50.39.csv\"\n",
      "[33] \"cor.pLog2FC.MYC.50.3.csv\"  \"cor.pLog2FC.MYC.50.40.csv\"\n",
      "[35] \"cor.pLog2FC.MYC.50.41.csv\" \"cor.pLog2FC.MYC.50.42.csv\"\n",
      "[37] \"cor.pLog2FC.MYC.50.43.csv\" \"cor.pLog2FC.MYC.50.44.csv\"\n",
      "[39] \"cor.pLog2FC.MYC.50.45.csv\" \"cor.pLog2FC.MYC.50.46.csv\"\n",
      "[41] \"cor.pLog2FC.MYC.50.47.csv\" \"cor.pLog2FC.MYC.50.48.csv\"\n",
      "[43] \"cor.pLog2FC.MYC.50.49.csv\" \"cor.pLog2FC.MYC.50.4.csv\" \n",
      "[45] \"cor.pLog2FC.MYC.50.50.csv\" \"cor.pLog2FC.MYC.50.5.csv\" \n",
      "[47] \"cor.pLog2FC.MYC.50.6.csv\"  \"cor.pLog2FC.MYC.50.7.csv\" \n",
      "[49] \"cor.pLog2FC.MYC.50.8.csv\"  \"cor.pLog2FC.MYC.50.9.csv\" \n",
      "[1] 40010     7\n"
     ]
    },
    {
     "data": {
      "text/html": [
       "<table class=\"dataframe\">\n",
       "<caption>A tibble: 6 × 7</caption>\n",
       "<thead>\n",
       "\t<tr><th scope=col>Chrom</th><th scope=col>Start</th><th scope=col>End</th><th scope=col>Loc</th><th scope=col>cor_astarr_wstarr</th><th scope=col>cor_astarr_tmpra</th><th scope=col>cor_wstarr_tmpra</th></tr>\n",
       "\t<tr><th scope=col>&lt;chr&gt;</th><th scope=col>&lt;dbl&gt;</th><th scope=col>&lt;dbl&gt;</th><th scope=col>&lt;dbl&gt;</th><th scope=col>&lt;dbl&gt;</th><th scope=col>&lt;dbl&gt;</th><th scope=col>&lt;dbl&gt;</th></tr>\n",
       "</thead>\n",
       "<tbody>\n",
       "\t<tr><td>chr8</td><td>126735901</td><td>126736101</td><td>126736001</td><td> 0.2967740</td><td>-0.9260320</td><td>-0.2687550</td></tr>\n",
       "\t<tr><td>chr8</td><td>126735951</td><td>126736151</td><td>126736051</td><td>-0.7187538</td><td>-0.9271413</td><td> 0.7753387</td></tr>\n",
       "\t<tr><td>chr8</td><td>126736001</td><td>126736201</td><td>126736101</td><td>-0.7434440</td><td>-0.8699020</td><td> 0.8562968</td></tr>\n",
       "\t<tr><td>chr8</td><td>126736051</td><td>126736251</td><td>126736151</td><td>-0.5692313</td><td>-0.5769771</td><td> 0.6934760</td></tr>\n",
       "\t<tr><td>chr8</td><td>126736101</td><td>126736301</td><td>126736201</td><td>-0.6467545</td><td> 0.4164412</td><td>-0.2306595</td></tr>\n",
       "\t<tr><td>chr8</td><td>126736151</td><td>126736351</td><td>126736251</td><td>-0.8222024</td><td> 0.8332600</td><td>-0.8836162</td></tr>\n",
       "</tbody>\n",
       "</table>\n"
      ],
      "text/latex": [
       "A tibble: 6 × 7\n",
       "\\begin{tabular}{lllllll}\n",
       " Chrom & Start & End & Loc & cor\\_astarr\\_wstarr & cor\\_astarr\\_tmpra & cor\\_wstarr\\_tmpra\\\\\n",
       " <chr> & <dbl> & <dbl> & <dbl> & <dbl> & <dbl> & <dbl>\\\\\n",
       "\\hline\n",
       "\t chr8 & 126735901 & 126736101 & 126736001 &  0.2967740 & -0.9260320 & -0.2687550\\\\\n",
       "\t chr8 & 126735951 & 126736151 & 126736051 & -0.7187538 & -0.9271413 &  0.7753387\\\\\n",
       "\t chr8 & 126736001 & 126736201 & 126736101 & -0.7434440 & -0.8699020 &  0.8562968\\\\\n",
       "\t chr8 & 126736051 & 126736251 & 126736151 & -0.5692313 & -0.5769771 &  0.6934760\\\\\n",
       "\t chr8 & 126736101 & 126736301 & 126736201 & -0.6467545 &  0.4164412 & -0.2306595\\\\\n",
       "\t chr8 & 126736151 & 126736351 & 126736251 & -0.8222024 &  0.8332600 & -0.8836162\\\\\n",
       "\\end{tabular}\n"
      ],
      "text/markdown": [
       "\n",
       "A tibble: 6 × 7\n",
       "\n",
       "| Chrom &lt;chr&gt; | Start &lt;dbl&gt; | End &lt;dbl&gt; | Loc &lt;dbl&gt; | cor_astarr_wstarr &lt;dbl&gt; | cor_astarr_tmpra &lt;dbl&gt; | cor_wstarr_tmpra &lt;dbl&gt; |\n",
       "|---|---|---|---|---|---|---|\n",
       "| chr8 | 126735901 | 126736101 | 126736001 |  0.2967740 | -0.9260320 | -0.2687550 |\n",
       "| chr8 | 126735951 | 126736151 | 126736051 | -0.7187538 | -0.9271413 |  0.7753387 |\n",
       "| chr8 | 126736001 | 126736201 | 126736101 | -0.7434440 | -0.8699020 |  0.8562968 |\n",
       "| chr8 | 126736051 | 126736251 | 126736151 | -0.5692313 | -0.5769771 |  0.6934760 |\n",
       "| chr8 | 126736101 | 126736301 | 126736201 | -0.6467545 |  0.4164412 | -0.2306595 |\n",
       "| chr8 | 126736151 | 126736351 | 126736251 | -0.8222024 |  0.8332600 | -0.8836162 |\n",
       "\n"
      ],
      "text/plain": [
       "  Chrom Start     End       Loc       cor_astarr_wstarr cor_astarr_tmpra\n",
       "1 chr8  126735901 126736101 126736001  0.2967740        -0.9260320      \n",
       "2 chr8  126735951 126736151 126736051 -0.7187538        -0.9271413      \n",
       "3 chr8  126736001 126736201 126736101 -0.7434440        -0.8699020      \n",
       "4 chr8  126736051 126736251 126736151 -0.5692313        -0.5769771      \n",
       "5 chr8  126736101 126736301 126736201 -0.6467545         0.4164412      \n",
       "6 chr8  126736151 126736351 126736251 -0.8222024         0.8332600      \n",
       "  cor_wstarr_tmpra\n",
       "1 -0.2687550      \n",
       "2  0.7753387      \n",
       "3  0.8562968      \n",
       "4  0.6934760      \n",
       "5 -0.2306595      \n",
       "6 -0.8836162      "
      ]
     },
     "metadata": {},
     "output_type": "display_data"
    }
   ],
   "source": [
    "REGION = \"MYC\"\n",
    "fdiry  = file.path(FD_RES, \"results\", \"comparison\", \"comparison_local\", \"cor_size_200bp_step_50bp\")\n",
    "fname  = paste(\"cor\", \"pLog2FC\", REGION, \"*\", \"csv\", sep=\".\")\n",
    "fglob  = file.path(fdiry, fname)\n",
    "fpaths = Sys.glob(fglob)\n",
    "print(basename(fpaths))\n",
    "\n",
    "lst = lapply(fpaths, function(fpath){\n",
    "    dat = read_csv(fpath, show_col_types = FALSE)\n",
    "    return(dat)\n",
    "})\n",
    "dat = bind_rows(lst) %>% arrange(Start, End)\n",
    "\n",
    "dat_cor_pLog2FC_myc = dat\n",
    "print(dim(dat))\n",
    "head(dat)"
   ]
  },
  {
   "cell_type": "markdown",
   "id": "1630651f",
   "metadata": {},
   "source": [
    "**Import rolling correlation for FADS region**"
   ]
  },
  {
   "cell_type": "code",
   "execution_count": 13,
   "id": "abdc9f7b",
   "metadata": {},
   "outputs": [
    {
     "name": "stdout",
     "output_type": "stream",
     "text": [
      " [1] \"cor.pLog2FC.FADS.10.10.csv\" \"cor.pLog2FC.FADS.10.1.csv\" \n",
      " [3] \"cor.pLog2FC.FADS.10.2.csv\"  \"cor.pLog2FC.FADS.10.3.csv\" \n",
      " [5] \"cor.pLog2FC.FADS.10.4.csv\"  \"cor.pLog2FC.FADS.10.5.csv\" \n",
      " [7] \"cor.pLog2FC.FADS.10.6.csv\"  \"cor.pLog2FC.FADS.10.7.csv\" \n",
      " [9] \"cor.pLog2FC.FADS.10.8.csv\"  \"cor.pLog2FC.FADS.10.9.csv\" \n",
      "[1] 2217    7\n"
     ]
    },
    {
     "data": {
      "text/html": [
       "<table class=\"dataframe\">\n",
       "<caption>A tibble: 6 × 7</caption>\n",
       "<thead>\n",
       "\t<tr><th scope=col>Chrom</th><th scope=col>Start</th><th scope=col>End</th><th scope=col>Loc</th><th scope=col>cor_astarr_wstarr</th><th scope=col>cor_astarr_tmpra</th><th scope=col>cor_wstarr_tmpra</th></tr>\n",
       "\t<tr><th scope=col>&lt;chr&gt;</th><th scope=col>&lt;dbl&gt;</th><th scope=col>&lt;dbl&gt;</th><th scope=col>&lt;dbl&gt;</th><th scope=col>&lt;dbl&gt;</th><th scope=col>&lt;dbl&gt;</th><th scope=col>&lt;dbl&gt;</th></tr>\n",
       "</thead>\n",
       "<tbody>\n",
       "\t<tr><td>chr11</td><td>61554801</td><td>61555001</td><td>61554901</td><td>-0.2492039</td><td> 0.2396287</td><td> 0.3165614</td></tr>\n",
       "\t<tr><td>chr11</td><td>61554851</td><td>61555051</td><td>61554951</td><td>-0.5772932</td><td>-0.5156068</td><td> 0.6843674</td></tr>\n",
       "\t<tr><td>chr11</td><td>61554901</td><td>61555101</td><td>61555001</td><td>-0.7993614</td><td>-0.8427568</td><td> 0.8761450</td></tr>\n",
       "\t<tr><td>chr11</td><td>61554951</td><td>61555151</td><td>61555051</td><td>-0.5518789</td><td>-0.8335904</td><td> 0.4368919</td></tr>\n",
       "\t<tr><td>chr11</td><td>61555001</td><td>61555201</td><td>61555101</td><td> 0.1553344</td><td>-0.8894489</td><td>-0.3788913</td></tr>\n",
       "\t<tr><td>chr11</td><td>61555051</td><td>61555251</td><td>61555151</td><td> 0.4713013</td><td>-0.8316814</td><td>-0.6835576</td></tr>\n",
       "</tbody>\n",
       "</table>\n"
      ],
      "text/latex": [
       "A tibble: 6 × 7\n",
       "\\begin{tabular}{lllllll}\n",
       " Chrom & Start & End & Loc & cor\\_astarr\\_wstarr & cor\\_astarr\\_tmpra & cor\\_wstarr\\_tmpra\\\\\n",
       " <chr> & <dbl> & <dbl> & <dbl> & <dbl> & <dbl> & <dbl>\\\\\n",
       "\\hline\n",
       "\t chr11 & 61554801 & 61555001 & 61554901 & -0.2492039 &  0.2396287 &  0.3165614\\\\\n",
       "\t chr11 & 61554851 & 61555051 & 61554951 & -0.5772932 & -0.5156068 &  0.6843674\\\\\n",
       "\t chr11 & 61554901 & 61555101 & 61555001 & -0.7993614 & -0.8427568 &  0.8761450\\\\\n",
       "\t chr11 & 61554951 & 61555151 & 61555051 & -0.5518789 & -0.8335904 &  0.4368919\\\\\n",
       "\t chr11 & 61555001 & 61555201 & 61555101 &  0.1553344 & -0.8894489 & -0.3788913\\\\\n",
       "\t chr11 & 61555051 & 61555251 & 61555151 &  0.4713013 & -0.8316814 & -0.6835576\\\\\n",
       "\\end{tabular}\n"
      ],
      "text/markdown": [
       "\n",
       "A tibble: 6 × 7\n",
       "\n",
       "| Chrom &lt;chr&gt; | Start &lt;dbl&gt; | End &lt;dbl&gt; | Loc &lt;dbl&gt; | cor_astarr_wstarr &lt;dbl&gt; | cor_astarr_tmpra &lt;dbl&gt; | cor_wstarr_tmpra &lt;dbl&gt; |\n",
       "|---|---|---|---|---|---|---|\n",
       "| chr11 | 61554801 | 61555001 | 61554901 | -0.2492039 |  0.2396287 |  0.3165614 |\n",
       "| chr11 | 61554851 | 61555051 | 61554951 | -0.5772932 | -0.5156068 |  0.6843674 |\n",
       "| chr11 | 61554901 | 61555101 | 61555001 | -0.7993614 | -0.8427568 |  0.8761450 |\n",
       "| chr11 | 61554951 | 61555151 | 61555051 | -0.5518789 | -0.8335904 |  0.4368919 |\n",
       "| chr11 | 61555001 | 61555201 | 61555101 |  0.1553344 | -0.8894489 | -0.3788913 |\n",
       "| chr11 | 61555051 | 61555251 | 61555151 |  0.4713013 | -0.8316814 | -0.6835576 |\n",
       "\n"
      ],
      "text/plain": [
       "  Chrom Start    End      Loc      cor_astarr_wstarr cor_astarr_tmpra\n",
       "1 chr11 61554801 61555001 61554901 -0.2492039         0.2396287      \n",
       "2 chr11 61554851 61555051 61554951 -0.5772932        -0.5156068      \n",
       "3 chr11 61554901 61555101 61555001 -0.7993614        -0.8427568      \n",
       "4 chr11 61554951 61555151 61555051 -0.5518789        -0.8335904      \n",
       "5 chr11 61555001 61555201 61555101  0.1553344        -0.8894489      \n",
       "6 chr11 61555051 61555251 61555151  0.4713013        -0.8316814      \n",
       "  cor_wstarr_tmpra\n",
       "1  0.3165614      \n",
       "2  0.6843674      \n",
       "3  0.8761450      \n",
       "4  0.4368919      \n",
       "5 -0.3788913      \n",
       "6 -0.6835576      "
      ]
     },
     "metadata": {},
     "output_type": "display_data"
    }
   ],
   "source": [
    "REGION = \"FADS\"\n",
    "fdiry  = file.path(FD_RES, \"results\", \"comparison\", \"comparison_local\", \"cor_size_200bp_step_50bp\")\n",
    "fname  = paste(\"cor\", \"pLog2FC\", REGION, \"*\", \"csv\", sep=\".\")\n",
    "fglob  = file.path(fdiry, fname)\n",
    "fpaths = Sys.glob(fglob)\n",
    "print(basename(fpaths))\n",
    "\n",
    "lst = lapply(fpaths, function(fpath){\n",
    "    dat = read_csv(fpath, show_col_types = FALSE)\n",
    "    return(dat)\n",
    "})\n",
    "dat = bind_rows(lst) %>% arrange(Start, End)\n",
    "\n",
    "dat_cor_pLog2FC_fads = dat\n",
    "print(dim(dat))\n",
    "head(dat)"
   ]
  },
  {
   "cell_type": "markdown",
   "id": "a9463a19",
   "metadata": {},
   "source": [
    "## Combine all rolling corrlations from different regions"
   ]
  },
  {
   "cell_type": "code",
   "execution_count": 16,
   "id": "a41dfb04",
   "metadata": {},
   "outputs": [
    {
     "name": "stdout",
     "output_type": "stream",
     "text": [
      "[1] 84127     7\n"
     ]
    },
    {
     "data": {
      "text/html": [
       "<table class=\"dataframe\">\n",
       "<caption>A tibble: 6 × 7</caption>\n",
       "<thead>\n",
       "\t<tr><th scope=col>Chrom</th><th scope=col>Start</th><th scope=col>End</th><th scope=col>Loc</th><th scope=col>cor_astarr_wstarr</th><th scope=col>cor_astarr_tmpra</th><th scope=col>cor_wstarr_tmpra</th></tr>\n",
       "\t<tr><th scope=col>&lt;fct&gt;</th><th scope=col>&lt;dbl&gt;</th><th scope=col>&lt;dbl&gt;</th><th scope=col>&lt;dbl&gt;</th><th scope=col>&lt;dbl&gt;</th><th scope=col>&lt;dbl&gt;</th><th scope=col>&lt;dbl&gt;</th></tr>\n",
       "</thead>\n",
       "<tbody>\n",
       "\t<tr><td>chr8</td><td>126735901</td><td>126736101</td><td>126736001</td><td> 0.2967740</td><td>-0.9260320</td><td>-0.2687550</td></tr>\n",
       "\t<tr><td>chr8</td><td>126735951</td><td>126736151</td><td>126736051</td><td>-0.7187538</td><td>-0.9271413</td><td> 0.7753387</td></tr>\n",
       "\t<tr><td>chr8</td><td>126736001</td><td>126736201</td><td>126736101</td><td>-0.7434440</td><td>-0.8699020</td><td> 0.8562968</td></tr>\n",
       "\t<tr><td>chr8</td><td>126736051</td><td>126736251</td><td>126736151</td><td>-0.5692313</td><td>-0.5769771</td><td> 0.6934760</td></tr>\n",
       "\t<tr><td>chr8</td><td>126736101</td><td>126736301</td><td>126736201</td><td>-0.6467545</td><td> 0.4164412</td><td>-0.2306595</td></tr>\n",
       "\t<tr><td>chr8</td><td>126736151</td><td>126736351</td><td>126736251</td><td>-0.8222024</td><td> 0.8332600</td><td>-0.8836162</td></tr>\n",
       "</tbody>\n",
       "</table>\n"
      ],
      "text/latex": [
       "A tibble: 6 × 7\n",
       "\\begin{tabular}{lllllll}\n",
       " Chrom & Start & End & Loc & cor\\_astarr\\_wstarr & cor\\_astarr\\_tmpra & cor\\_wstarr\\_tmpra\\\\\n",
       " <fct> & <dbl> & <dbl> & <dbl> & <dbl> & <dbl> & <dbl>\\\\\n",
       "\\hline\n",
       "\t chr8 & 126735901 & 126736101 & 126736001 &  0.2967740 & -0.9260320 & -0.2687550\\\\\n",
       "\t chr8 & 126735951 & 126736151 & 126736051 & -0.7187538 & -0.9271413 &  0.7753387\\\\\n",
       "\t chr8 & 126736001 & 126736201 & 126736101 & -0.7434440 & -0.8699020 &  0.8562968\\\\\n",
       "\t chr8 & 126736051 & 126736251 & 126736151 & -0.5692313 & -0.5769771 &  0.6934760\\\\\n",
       "\t chr8 & 126736101 & 126736301 & 126736201 & -0.6467545 &  0.4164412 & -0.2306595\\\\\n",
       "\t chr8 & 126736151 & 126736351 & 126736251 & -0.8222024 &  0.8332600 & -0.8836162\\\\\n",
       "\\end{tabular}\n"
      ],
      "text/markdown": [
       "\n",
       "A tibble: 6 × 7\n",
       "\n",
       "| Chrom &lt;fct&gt; | Start &lt;dbl&gt; | End &lt;dbl&gt; | Loc &lt;dbl&gt; | cor_astarr_wstarr &lt;dbl&gt; | cor_astarr_tmpra &lt;dbl&gt; | cor_wstarr_tmpra &lt;dbl&gt; |\n",
       "|---|---|---|---|---|---|---|\n",
       "| chr8 | 126735901 | 126736101 | 126736001 |  0.2967740 | -0.9260320 | -0.2687550 |\n",
       "| chr8 | 126735951 | 126736151 | 126736051 | -0.7187538 | -0.9271413 |  0.7753387 |\n",
       "| chr8 | 126736001 | 126736201 | 126736101 | -0.7434440 | -0.8699020 |  0.8562968 |\n",
       "| chr8 | 126736051 | 126736251 | 126736151 | -0.5692313 | -0.5769771 |  0.6934760 |\n",
       "| chr8 | 126736101 | 126736301 | 126736201 | -0.6467545 |  0.4164412 | -0.2306595 |\n",
       "| chr8 | 126736151 | 126736351 | 126736251 | -0.8222024 |  0.8332600 | -0.8836162 |\n",
       "\n"
      ],
      "text/plain": [
       "  Chrom Start     End       Loc       cor_astarr_wstarr cor_astarr_tmpra\n",
       "1 chr8  126735901 126736101 126736001  0.2967740        -0.9260320      \n",
       "2 chr8  126735951 126736151 126736051 -0.7187538        -0.9271413      \n",
       "3 chr8  126736001 126736201 126736101 -0.7434440        -0.8699020      \n",
       "4 chr8  126736051 126736251 126736151 -0.5692313        -0.5769771      \n",
       "5 chr8  126736101 126736301 126736201 -0.6467545         0.4164412      \n",
       "6 chr8  126736151 126736351 126736251 -0.8222024         0.8332600      \n",
       "  cor_wstarr_tmpra\n",
       "1 -0.2687550      \n",
       "2  0.7753387      \n",
       "3  0.8562968      \n",
       "4  0.6934760      \n",
       "5 -0.2306595      \n",
       "6 -0.8836162      "
      ]
     },
     "metadata": {},
     "output_type": "display_data"
    }
   ],
   "source": [
    "dat = bind_rows(dat_cor_pLog2FC_myc, dat_cor_pLog2FC_fads, dat_cor_pLog2FC_gata1)\n",
    "dat = dat %>% \n",
    "    mutate(Chrom = factor(Chrom, levels=CHROMS)) %>%\n",
    "    arrange(Chrom, Start, End)\n",
    "\n",
    "dat_cor_pLog2FC_combine = dat\n",
    "print(dim(dat))\n",
    "head(dat)"
   ]
  },
  {
   "cell_type": "code",
   "execution_count": 18,
   "id": "e754289c",
   "metadata": {},
   "outputs": [],
   "source": [
    "fdiry = file.path(FD_RES, \"results\", \"comparison\", \"comparison_local\", \"cor_size_200bp_step_50bp\", \"summary\")\n",
    "\n",
    "fname = \"cor.pLog2FC.GATA1.tsv\"\n",
    "fpath = file.path(fdiry, fname)\n",
    "write_tsv(dat_cor_pLog2FC_gata1, fpath)\n",
    "\n",
    "fname = \"cor.pLog2FC.MYC.tsv\"\n",
    "fpath = file.path(fdiry, fname)\n",
    "write_tsv(dat_cor_pLog2FC_myc, fpath)\n",
    "\n",
    "fname = \"cor.pLog2FC.FADS.tsv\"\n",
    "fpath = file.path(fdiry, fname)\n",
    "write_tsv(dat_cor_pLog2FC_fads, fpath)\n",
    "\n",
    "fname = \"cor.pLog2FC.combine.tsv\"\n",
    "fpath = file.path(fdiry, fname)\n",
    "write_tsv(dat_cor_pLog2FC_combine, fpath)\n",
    "\n",
    "fname = \"cor.pLog2FC.combine.bed\"\n",
    "fpath = file.path(fdiry, fname)\n",
    "write_tsv(dat_cor_pLog2FC_combine, fpath, col_names = FALSE)"
   ]
  },
  {
   "cell_type": "code",
   "execution_count": null,
   "id": "558a3bdb",
   "metadata": {},
   "outputs": [],
   "source": []
  }
 ],
 "metadata": {
  "kernelspec": {
   "display_name": "R",
   "language": "R",
   "name": "ir"
  },
  "language_info": {
   "codemirror_mode": "r",
   "file_extension": ".r",
   "mimetype": "text/x-r-source",
   "name": "R",
   "pygments_lexer": "r",
   "version": "4.2.2"
  }
 },
 "nbformat": 4,
 "nbformat_minor": 5
}
