{
 "cells": [
  {
   "cell_type": "markdown",
   "id": "4f70b104",
   "metadata": {},
   "source": [
    "**Set environment**"
   ]
  },
  {
   "cell_type": "code",
   "execution_count": 1,
   "id": "d86dbc8f",
   "metadata": {},
   "outputs": [
    {
     "name": "stdout",
     "output_type": "stream",
     "text": [
      "You are in Singularity: singularity_proj_combeffect \n",
      "BASE DIRECTORY:     /data/reddylab/Kuei \n",
      "WORK DIRECTORY:     /data/reddylab/Kuei/out \n",
      "CODE DIRECTORY:     /data/reddylab/Kuei/code \n",
      "PATH OF SOURCE:     /data/reddylab/Kuei/source \n",
      "PATH OF EXECUTABLE: /data/reddylab/Kuei/bin \n",
      "PATH OF ANNOTATION: /data/reddylab/Kuei/annotation \n",
      "PATH OF PROJECT:    /data/reddylab/Kuei/code/Proj_CombEffect_ENCODE_FCC \n",
      "PATH OF RESULTS:    /data/reddylab/Kuei/out/proj_combeffect_encode_fcc \n"
     ]
    }
   ],
   "source": [
    "suppressMessages(suppressWarnings(source(\"../config/config_sing.R\")))\n",
    "show_env()"
   ]
  },
  {
   "cell_type": "markdown",
   "id": "69ee968c",
   "metadata": {},
   "source": [
    "## Import data"
   ]
  },
  {
   "cell_type": "code",
   "execution_count": 2,
   "id": "2dca359c",
   "metadata": {},
   "outputs": [],
   "source": [
    "ASSAYS = c(\"KS91_K562_ASTARRseq\", \"A001_K562_WSTARRseq\", \"Tewhey_K562_TileMPRA\")\n",
    "TYPES  = c(\"raw\", \"raw\", \"norm\")\n",
    "LABELS = c(\"ASTARR\", \"WSTARR\", \"TMPRA\")\n",
    "REGIONS = c(\"GATA1\", \"MYC\", \"FADS\")\n",
    "FOLDER  = \"coverage\"\n",
    "\n",
    "names(TYPES)  = ASSAYS\n",
    "names(LABELS) = ASSAYS"
   ]
  },
  {
   "cell_type": "code",
   "execution_count": 3,
   "id": "dd5c743c",
   "metadata": {},
   "outputs": [
    {
     "name": "stdout",
     "output_type": "stream",
     "text": [
      "Assay: KS91_K562_ASTARRseq | Type: raw | Region: GATA1 \n",
      "Assay: A001_K562_WSTARRseq | Type: raw | Region: GATA1 \n",
      "Assay: Tewhey_K562_TileMPRA | Type: norm | Region: GATA1 \n",
      "Assay: KS91_K562_ASTARRseq | Type: raw | Region: MYC \n",
      "Assay: A001_K562_WSTARRseq | Type: raw | Region: MYC \n",
      "Assay: Tewhey_K562_TileMPRA | Type: norm | Region: MYC \n",
      "Assay: KS91_K562_ASTARRseq | Type: raw | Region: FADS \n",
      "Assay: A001_K562_WSTARRseq | Type: raw | Region: FADS \n",
      "Assay: Tewhey_K562_TileMPRA | Type: norm | Region: FADS \n"
     ]
    }
   ],
   "source": [
    "lst_track = lapply(REGIONS, function(REGION){\n",
    "    \n",
    "    ### import data\n",
    "    lst = lapply(ASSAYS, function(ASSAY){\n",
    "        ### init\n",
    "        TYPE  = TYPES[ASSAY]\n",
    "        LABEL = LABELS[ASSAY]\n",
    "        cat(\"Assay:\", ASSAY, \"|\", \"Type:\", TYPE, \"|\", \"Region:\", REGION, \"\\n\")\n",
    "        flush.console()\n",
    "\n",
    "        ### set file path\n",
    "        fdiry = file.path(FD_RES, \"results\", ASSAY, FOLDER, \"summary\")\n",
    "        fname = paste(\"track\", TYPE, \"Log2FC\", REGION, \"tsv\", sep=\".\")\n",
    "        fpath = file.path(fdiry, fname)\n",
    "\n",
    "        ### import data\n",
    "        dat = read_tsv(fpath, show_col_types = FALSE)\n",
    "        dat$Assay = LABEL\n",
    "        return(dat)\n",
    "    })\n",
    "    \n",
    "    ### combine data\n",
    "    dat = bind_rows(lst)\n",
    "    return(dat)\n",
    "})\n",
    "\n",
    "names(lst_track) = REGIONS"
   ]
  },
  {
   "cell_type": "markdown",
   "id": "d9f502dd",
   "metadata": {},
   "source": [
    "## Separate to FC and pLogFC"
   ]
  },
  {
   "cell_type": "code",
   "execution_count": 4,
   "id": "b3b976f3",
   "metadata": {},
   "outputs": [],
   "source": [
    "COLUMN = \"FC\"\n",
    "lst_track_Xfc = lapply(lst_track, function(dat_track){\n",
    "    ### select column and arrange\n",
    "    dat_track = dat_track %>% \n",
    "        dplyr::select(Chrom, Start, End, Assay, !!COLUMN) %>% \n",
    "        dplyr::rename(Score = !!COLUMN) %>%\n",
    "        dplyr::filter(!is.na(Score), !is.infinite(Score)) %>% \n",
    "        tidyr::spread(Assay, Score)\n",
    "    \n",
    "    return(dat_track)\n",
    "})\n",
    "\n",
    "COLUMN = \"pLog2FC\"\n",
    "lst_track_Lfc = lapply(lst_track, function(dat_track){\n",
    "    ### select column and arrange\n",
    "    dat_track = dat_track %>% \n",
    "        dplyr::select(Chrom, Start, End, Assay, !!COLUMN) %>% \n",
    "        dplyr::rename(Score = !!COLUMN) %>%\n",
    "        dplyr::filter(!is.na(Score), !is.infinite(Score)) %>% \n",
    "        tidyr::spread(Assay, Score)\n",
    "    \n",
    "    return(dat_track)\n",
    "})"
   ]
  },
  {
   "cell_type": "code",
   "execution_count": 7,
   "id": "03231233",
   "metadata": {},
   "outputs": [
    {
     "name": "stdout",
     "output_type": "stream",
     "text": [
      "[1] \"GATA1\" \"MYC\"   \"FADS\" \n",
      "\n",
      "++++++++++++++++++++++++\n",
      "1915106 6 \n",
      "\n",
      "\u001b[90m# A tibble: 3 × 6\u001b[39m\n",
      "  Chrom    Start      End ASTARR TMPRA WSTARR\n",
      "  \u001b[3m\u001b[90m<chr>\u001b[39m\u001b[23m    \u001b[3m\u001b[90m<dbl>\u001b[39m\u001b[23m    \u001b[3m\u001b[90m<dbl>\u001b[39m\u001b[23m  \u001b[3m\u001b[90m<dbl>\u001b[39m\u001b[23m \u001b[3m\u001b[90m<dbl>\u001b[39m\u001b[23m  \u001b[3m\u001b[90m<dbl>\u001b[39m\u001b[23m\n",
      "\u001b[90m1\u001b[39m chrX  47\u001b[4m7\u001b[24m\u001b[4m8\u001b[24m\u001b[4m5\u001b[24m501 47\u001b[4m7\u001b[24m\u001b[4m8\u001b[24m\u001b[4m5\u001b[24m502   1.17  1.82  0.888\n",
      "\u001b[90m2\u001b[39m chrX  47\u001b[4m7\u001b[24m\u001b[4m8\u001b[24m\u001b[4m5\u001b[24m502 47\u001b[4m7\u001b[24m\u001b[4m8\u001b[24m\u001b[4m5\u001b[24m503   1.17  1.82  0.888\n",
      "\u001b[90m3\u001b[39m chrX  47\u001b[4m7\u001b[24m\u001b[4m8\u001b[24m\u001b[4m5\u001b[24m503 47\u001b[4m7\u001b[24m\u001b[4m8\u001b[24m\u001b[4m5\u001b[24m504   1.17  1.82  0.888\n",
      "\n",
      " chrX \n",
      "[1] 47785501 49880650\n",
      "[1] 47785502 49880651\n",
      "\n",
      "++++++++++++++++++++++++\n",
      "2000650 6 \n",
      "\n",
      "\u001b[90m# A tibble: 3 × 6\u001b[39m\n",
      "  Chrom     Start       End ASTARR TMPRA WSTARR\n",
      "  \u001b[3m\u001b[90m<chr>\u001b[39m\u001b[23m     \u001b[3m\u001b[90m<dbl>\u001b[39m\u001b[23m     \u001b[3m\u001b[90m<dbl>\u001b[39m\u001b[23m  \u001b[3m\u001b[90m<dbl>\u001b[39m\u001b[23m \u001b[3m\u001b[90m<dbl>\u001b[39m\u001b[23m  \u001b[3m\u001b[90m<dbl>\u001b[39m\u001b[23m\n",
      "\u001b[90m1\u001b[39m chr8  126\u001b[4m7\u001b[24m\u001b[4m3\u001b[24m\u001b[4m5\u001b[24m901 126\u001b[4m7\u001b[24m\u001b[4m3\u001b[24m\u001b[4m5\u001b[24m902 0.068\u001b[4m5\u001b[24m  9.17  0.667\n",
      "\u001b[90m2\u001b[39m chr8  126\u001b[4m7\u001b[24m\u001b[4m3\u001b[24m\u001b[4m5\u001b[24m902 126\u001b[4m7\u001b[24m\u001b[4m3\u001b[24m\u001b[4m5\u001b[24m903 0.068\u001b[4m5\u001b[24m  9.17  0.658\n",
      "\u001b[90m3\u001b[39m chr8  126\u001b[4m7\u001b[24m\u001b[4m3\u001b[24m\u001b[4m5\u001b[24m903 126\u001b[4m7\u001b[24m\u001b[4m3\u001b[24m\u001b[4m5\u001b[24m904 0.066\u001b[4m4\u001b[24m  9.17  0.658\n",
      "\n",
      " chr8 \n",
      "[1] 126735901 128736550\n",
      "[1] 126735902 128736551\n",
      "\n",
      "++++++++++++++++++++++++\n",
      "111020 6 \n",
      "\n",
      "\u001b[90m# A tibble: 3 × 6\u001b[39m\n",
      "  Chrom    Start      End ASTARR TMPRA WSTARR\n",
      "  \u001b[3m\u001b[90m<chr>\u001b[39m\u001b[23m    \u001b[3m\u001b[90m<dbl>\u001b[39m\u001b[23m    \u001b[3m\u001b[90m<dbl>\u001b[39m\u001b[23m  \u001b[3m\u001b[90m<dbl>\u001b[39m\u001b[23m \u001b[3m\u001b[90m<dbl>\u001b[39m\u001b[23m  \u001b[3m\u001b[90m<dbl>\u001b[39m\u001b[23m\n",
      "\u001b[90m1\u001b[39m chr11 61\u001b[4m5\u001b[24m\u001b[4m5\u001b[24m\u001b[4m4\u001b[24m801 61\u001b[4m5\u001b[24m\u001b[4m5\u001b[24m\u001b[4m4\u001b[24m802  0.598 0.574  0.910\n",
      "\u001b[90m2\u001b[39m chr11 61\u001b[4m5\u001b[24m\u001b[4m5\u001b[24m\u001b[4m4\u001b[24m802 61\u001b[4m5\u001b[24m\u001b[4m5\u001b[24m\u001b[4m4\u001b[24m803  0.598 0.574  0.897\n",
      "\u001b[90m3\u001b[39m chr11 61\u001b[4m5\u001b[24m\u001b[4m5\u001b[24m\u001b[4m4\u001b[24m803 61\u001b[4m5\u001b[24m\u001b[4m5\u001b[24m\u001b[4m4\u001b[24m804  0.607 0.574  0.915\n",
      "\n",
      " chr11 \n",
      "[1] 61554801 61665820\n",
      "[1] 61554802 61665821\n"
     ]
    }
   ],
   "source": [
    "lst = lst_track_Xfc\n",
    "print(names(lst))\n",
    "\n",
    "for (dat in lst){\n",
    "    ### show info\n",
    "    cat(\"\\n++++++++++++++++++++++++\\n\")\n",
    "    cat(dim(dat), \"\\n\\n\")\n",
    "    print(head(dat, 3))\n",
    "    \n",
    "    cat(\"\\n\", unique(dat$Chrom), \"\\n\")\n",
    "    print(range(dat$Start))\n",
    "    print(range(dat$End))\n",
    "}"
   ]
  },
  {
   "cell_type": "code",
   "execution_count": 8,
   "id": "a794c073",
   "metadata": {},
   "outputs": [
    {
     "name": "stdout",
     "output_type": "stream",
     "text": [
      "[1] \"GATA1\" \"MYC\"   \"FADS\" \n",
      "\n",
      "++++++++++++++++++++++++\n",
      "2095150 6 \n",
      "\n",
      "\u001b[90m# A tibble: 3 × 6\u001b[39m\n",
      "  Chrom    Start      End  ASTARR TMPRA   WSTARR\n",
      "  \u001b[3m\u001b[90m<chr>\u001b[39m\u001b[23m    \u001b[3m\u001b[90m<dbl>\u001b[39m\u001b[23m    \u001b[3m\u001b[90m<dbl>\u001b[39m\u001b[23m   \u001b[3m\u001b[90m<dbl>\u001b[39m\u001b[23m \u001b[3m\u001b[90m<dbl>\u001b[39m\u001b[23m    \u001b[3m\u001b[90m<dbl>\u001b[39m\u001b[23m\n",
      "\u001b[90m1\u001b[39m chrX  47\u001b[4m7\u001b[24m\u001b[4m8\u001b[24m\u001b[4m5\u001b[24m501 47\u001b[4m7\u001b[24m\u001b[4m8\u001b[24m\u001b[4m5\u001b[24m502 0.002\u001b[4m0\u001b[24m\u001b[4m8\u001b[24m 0.864 -\u001b[31m0\u001b[39m\u001b[31m.\u001b[39m\u001b[31m00\u001b[39m\u001b[31m5\u001b[4m1\u001b[24m\u001b[4m4\u001b[24m\u001b[39m\n",
      "\u001b[90m2\u001b[39m chrX  47\u001b[4m7\u001b[24m\u001b[4m8\u001b[24m\u001b[4m5\u001b[24m502 47\u001b[4m7\u001b[24m\u001b[4m8\u001b[24m\u001b[4m5\u001b[24m503 0.002\u001b[4m0\u001b[24m\u001b[4m8\u001b[24m 0.864 -\u001b[31m0\u001b[39m\u001b[31m.\u001b[39m\u001b[31m00\u001b[39m\u001b[31m5\u001b[4m1\u001b[24m\u001b[4m4\u001b[24m\u001b[39m\n",
      "\u001b[90m3\u001b[39m chrX  47\u001b[4m7\u001b[24m\u001b[4m8\u001b[24m\u001b[4m5\u001b[24m503 47\u001b[4m7\u001b[24m\u001b[4m8\u001b[24m\u001b[4m5\u001b[24m504 0.002\u001b[4m0\u001b[24m\u001b[4m8\u001b[24m 0.864 -\u001b[31m0\u001b[39m\u001b[31m.\u001b[39m\u001b[31m00\u001b[39m\u001b[31m5\u001b[4m1\u001b[24m\u001b[4m4\u001b[24m\u001b[39m\n",
      "\n",
      " chrX \n",
      "[1] 47785501 49880650\n",
      "[1] 47785502 49880651\n",
      "\n",
      "++++++++++++++++++++++++\n",
      "2000650 6 \n",
      "\n",
      "\u001b[90m# A tibble: 3 × 6\u001b[39m\n",
      "  Chrom     Start       End  ASTARR TMPRA  WSTARR\n",
      "  \u001b[3m\u001b[90m<chr>\u001b[39m\u001b[23m     \u001b[3m\u001b[90m<dbl>\u001b[39m\u001b[23m     \u001b[3m\u001b[90m<dbl>\u001b[39m\u001b[23m   \u001b[3m\u001b[90m<dbl>\u001b[39m\u001b[23m \u001b[3m\u001b[90m<dbl>\u001b[39m\u001b[23m   \u001b[3m\u001b[90m<dbl>\u001b[39m\u001b[23m\n",
      "\u001b[90m1\u001b[39m chr8  126\u001b[4m7\u001b[24m\u001b[4m3\u001b[24m\u001b[4m5\u001b[24m901 126\u001b[4m7\u001b[24m\u001b[4m3\u001b[24m\u001b[4m5\u001b[24m902 -\u001b[31m0\u001b[39m\u001b[31m.\u001b[39m\u001b[31m0\u001b[39m\u001b[31m49\u001b[4m4\u001b[24m\u001b[39m  3.19 -\u001b[31m0\u001b[39m\u001b[31m.\u001b[39m\u001b[31m0\u001b[39m\u001b[31m93\u001b[4m8\u001b[24m\u001b[39m\n",
      "\u001b[90m2\u001b[39m chr8  126\u001b[4m7\u001b[24m\u001b[4m3\u001b[24m\u001b[4m5\u001b[24m902 126\u001b[4m7\u001b[24m\u001b[4m3\u001b[24m\u001b[4m5\u001b[24m903 -\u001b[31m0\u001b[39m\u001b[31m.\u001b[39m\u001b[31m0\u001b[39m\u001b[31m49\u001b[4m4\u001b[24m\u001b[39m  3.19 -\u001b[31m0\u001b[39m\u001b[31m.\u001b[39m\u001b[31m0\u001b[39m\u001b[31m96\u001b[4m4\u001b[24m\u001b[39m\n",
      "\u001b[90m3\u001b[39m chr8  126\u001b[4m7\u001b[24m\u001b[4m3\u001b[24m\u001b[4m5\u001b[24m903 126\u001b[4m7\u001b[24m\u001b[4m3\u001b[24m\u001b[4m5\u001b[24m904 -\u001b[31m0\u001b[39m\u001b[31m.\u001b[39m\u001b[31m0\u001b[39m\u001b[31m51\u001b[4m0\u001b[24m\u001b[39m  3.19 -\u001b[31m0\u001b[39m\u001b[31m.\u001b[39m\u001b[31m0\u001b[39m\u001b[31m96\u001b[4m4\u001b[24m\u001b[39m\n",
      "\n",
      " chr8 \n",
      "[1] 126735901 128736550\n",
      "[1] 126735902 128736551\n",
      "\n",
      "++++++++++++++++++++++++\n",
      "111020 6 \n",
      "\n",
      "\u001b[90m# A tibble: 3 × 6\u001b[39m\n",
      "  Chrom    Start      End ASTARR  TMPRA  WSTARR\n",
      "  \u001b[3m\u001b[90m<chr>\u001b[39m\u001b[23m    \u001b[3m\u001b[90m<dbl>\u001b[39m\u001b[23m    \u001b[3m\u001b[90m<dbl>\u001b[39m\u001b[23m  \u001b[3m\u001b[90m<dbl>\u001b[39m\u001b[23m  \u001b[3m\u001b[90m<dbl>\u001b[39m\u001b[23m   \u001b[3m\u001b[90m<dbl>\u001b[39m\u001b[23m\n",
      "\u001b[90m1\u001b[39m chr11 61\u001b[4m5\u001b[24m\u001b[4m5\u001b[24m\u001b[4m4\u001b[24m801 61\u001b[4m5\u001b[24m\u001b[4m5\u001b[24m\u001b[4m4\u001b[24m802 -\u001b[31m0\u001b[39m\u001b[31m.\u001b[39m\u001b[31m109\u001b[39m -\u001b[31m0\u001b[39m\u001b[31m.\u001b[39m\u001b[31m798\u001b[39m -\u001b[31m0\u001b[39m\u001b[31m.\u001b[39m\u001b[31m0\u001b[39m\u001b[31m33\u001b[4m3\u001b[24m\u001b[39m\n",
      "\u001b[90m2\u001b[39m chr11 61\u001b[4m5\u001b[24m\u001b[4m5\u001b[24m\u001b[4m4\u001b[24m802 61\u001b[4m5\u001b[24m\u001b[4m5\u001b[24m\u001b[4m4\u001b[24m803 -\u001b[31m0\u001b[39m\u001b[31m.\u001b[39m\u001b[31m109\u001b[39m -\u001b[31m0\u001b[39m\u001b[31m.\u001b[39m\u001b[31m798\u001b[39m -\u001b[31m0\u001b[39m\u001b[31m.\u001b[39m\u001b[31m0\u001b[39m\u001b[31m38\u001b[4m0\u001b[24m\u001b[39m\n",
      "\u001b[90m3\u001b[39m chr11 61\u001b[4m5\u001b[24m\u001b[4m5\u001b[24m\u001b[4m4\u001b[24m803 61\u001b[4m5\u001b[24m\u001b[4m5\u001b[24m\u001b[4m4\u001b[24m804 -\u001b[31m0\u001b[39m\u001b[31m.\u001b[39m\u001b[31m104\u001b[39m -\u001b[31m0\u001b[39m\u001b[31m.\u001b[39m\u001b[31m798\u001b[39m -\u001b[31m0\u001b[39m\u001b[31m.\u001b[39m\u001b[31m0\u001b[39m\u001b[31m31\u001b[4m1\u001b[24m\u001b[39m\n",
      "\n",
      " chr11 \n",
      "[1] 61554801 61665820\n",
      "[1] 61554802 61665821\n"
     ]
    }
   ],
   "source": [
    "lst = lst_track_Lfc\n",
    "print(names(lst))\n",
    "\n",
    "for (dat in lst){\n",
    "    ### show info\n",
    "    cat(\"\\n++++++++++++++++++++++++\\n\")\n",
    "    cat(dim(dat), \"\\n\\n\")\n",
    "    print(head(dat, 3))\n",
    "    \n",
    "    cat(\"\\n\", unique(dat$Chrom), \"\\n\")\n",
    "    print(range(dat$Start))\n",
    "    print(range(dat$End))\n",
    "}"
   ]
  },
  {
   "cell_type": "markdown",
   "id": "5a1c2731",
   "metadata": {},
   "source": [
    "## Set windows"
   ]
  },
  {
   "cell_type": "code",
   "execution_count": 20,
   "id": "b057ace4",
   "metadata": {},
   "outputs": [
    {
     "name": "stdout",
     "output_type": "stream",
     "text": [
      "\n",
      "^^^^^^^^^^^^^^^^^^^^^^^^^^^^^\n",
      "Sliding windows of GATA1 \n",
      "41900 4 \n",
      "\n",
      "  Chrom    Start      End      Loc\n",
      "1  chrX 47785501 47785701 47785601\n",
      "2  chrX 47785551 47785751 47785651\n",
      "3  chrX 47785601 47785801 47785701\n",
      "4  chrX 47785651 47785851 47785751\n",
      "5  chrX 47785701 47785901 47785801\n",
      "6  chrX 47785751 47785951 47785851\n",
      "      Chrom    Start      End      Loc\n",
      "41895  chrX 49880201 49880401 49880301\n",
      "41896  chrX 49880251 49880451 49880351\n",
      "41897  chrX 49880301 49880501 49880401\n",
      "41898  chrX 49880351 49880551 49880451\n",
      "41899  chrX 49880401 49880601 49880501\n",
      "41900  chrX 49880451 49880651 49880551\n",
      "\n",
      "^^^^^^^^^^^^^^^^^^^^^^^^^^^^^\n",
      "Sliding windows of MYC \n",
      "40010 4 \n",
      "\n",
      "  Chrom     Start       End       Loc\n",
      "1  chr8 126735901 126736101 126736001\n",
      "2  chr8 126735951 126736151 126736051\n",
      "3  chr8 126736001 126736201 126736101\n",
      "4  chr8 126736051 126736251 126736151\n",
      "5  chr8 126736101 126736301 126736201\n",
      "6  chr8 126736151 126736351 126736251\n",
      "      Chrom     Start       End       Loc\n",
      "40005  chr8 128736101 128736301 128736201\n",
      "40006  chr8 128736151 128736351 128736251\n",
      "40007  chr8 128736201 128736401 128736301\n",
      "40008  chr8 128736251 128736451 128736351\n",
      "40009  chr8 128736301 128736501 128736401\n",
      "40010  chr8 128736351 128736551 128736451\n",
      "\n",
      "^^^^^^^^^^^^^^^^^^^^^^^^^^^^^\n",
      "Sliding windows of FADS \n",
      "2217 4 \n",
      "\n",
      "  Chrom    Start      End      Loc\n",
      "1 chr11 61554801 61555001 61554901\n",
      "2 chr11 61554851 61555051 61554951\n",
      "3 chr11 61554901 61555101 61555001\n",
      "4 chr11 61554951 61555151 61555051\n",
      "5 chr11 61555001 61555201 61555101\n",
      "6 chr11 61555051 61555251 61555151\n",
      "     Chrom    Start      End      Loc\n",
      "2212 chr11 61665351 61665551 61665451\n",
      "2213 chr11 61665401 61665601 61665501\n",
      "2214 chr11 61665451 61665651 61665551\n",
      "2215 chr11 61665501 61665701 61665601\n",
      "2216 chr11 61665551 61665751 61665651\n",
      "2217 chr11 61665601 61665801 61665701\n"
     ]
    }
   ],
   "source": [
    "SIZE    = 200\n",
    "STEP    =  50\n",
    "\n",
    "lst_window = lapply(REGIONS, function(REGION){\n",
    "    ### extract\n",
    "    dat_track = lst_track[[REGION]]\n",
    "    \n",
    "    ### set window ranges\n",
    "    chrom   = unique(dat_track$Chrom)\n",
    "    x_start = min(dat_track$Start)\n",
    "    x_end   = max(dat_track$End) - SIZE\n",
    "\n",
    "    ### define windwos\n",
    "    dat_window = data.frame(\n",
    "        Start = seq(x_start, x_end, STEP),\n",
    "        End   = seq(x_start, x_end, STEP) + SIZE) %>% \n",
    "        dplyr::mutate(\n",
    "            Chrom = chrom,\n",
    "            Start = as.integer(Start),\n",
    "            End   = as.integer(End),\n",
    "            Loc   = as.integer((Start + End) / 2)) %>%\n",
    "        dplyr::select(Chrom, Start, End, Loc)\n",
    "\n",
    "    ### show info\n",
    "    cat(\"\\n^^^^^^^^^^^^^^^^^^^^^^^^^^^^^\\n\")\n",
    "    cat(\"Sliding windows of\", REGION, \"\\n\")\n",
    "    cat(dim(dat_window), \"\\n\\n\")\n",
    "    print(head(dat_window))\n",
    "    print(tail(dat_window))\n",
    "    \n",
    "    ### return results\n",
    "    return(dat_window)\n",
    "})\n",
    "\n",
    "names(lst_window) = REGIONS"
   ]
  },
  {
   "cell_type": "markdown",
   "id": "6777d66b",
   "metadata": {},
   "source": [
    "## Save the sliding windows"
   ]
  },
  {
   "cell_type": "code",
   "execution_count": 21,
   "id": "15a3cb3c",
   "metadata": {},
   "outputs": [
    {
     "name": "stdout",
     "output_type": "stream",
     "text": [
      "+++++++++++++++++++\n",
      "Region: GATA1 \n",
      "Save file:\n",
      "/data/reddylab/Kuei/out/proj_combeffect_encode_fcc/results/comparison/comparison_local/window.size_200bp.step_50bp.GATA1.tsv \n",
      "\n",
      "+++++++++++++++++++\n",
      "Region: MYC \n",
      "Save file:\n",
      "/data/reddylab/Kuei/out/proj_combeffect_encode_fcc/results/comparison/comparison_local/window.size_200bp.step_50bp.MYC.tsv \n",
      "\n",
      "+++++++++++++++++++\n",
      "Region: FADS \n",
      "Save file:\n",
      "/data/reddylab/Kuei/out/proj_combeffect_encode_fcc/results/comparison/comparison_local/window.size_200bp.step_50bp.FADS.tsv \n",
      "\n"
     ]
    }
   ],
   "source": [
    "fdiry = file.path(FD_RES, \"results\", \"comparison\", \"comparison_local\")\n",
    "\n",
    "lst = lst_window\n",
    "for (REGION in REGIONS) {\n",
    "    ### set file path\n",
    "    txt_size = paste0(\"size_\", SIZE, \"bp\")\n",
    "    txt_step = paste0(\"step_\", STEP, \"bp\")\n",
    "    fname = paste(\"window\", txt_size, txt_step, REGION, \"tsv\", sep=\".\")\n",
    "    fpath = file.path(fdiry, fname)\n",
    "    \n",
    "    ### save data\n",
    "    dat = lst[[REGION]]\n",
    "    write_tsv(dat, fpath)\n",
    "    \n",
    "    ### show progress\n",
    "    cat(\"+++++++++++++++++++\\n\")\n",
    "    cat(\"Region:\", REGION, \"\\n\")\n",
    "    cat(\"Save file:\\n\")\n",
    "    cat(fpath, \"\\n\\n\")\n",
    "}"
   ]
  },
  {
   "cell_type": "markdown",
   "id": "7f6fb253",
   "metadata": {},
   "source": [
    "## Save the track (FC)"
   ]
  },
  {
   "cell_type": "code",
   "execution_count": 26,
   "id": "4a30a09a",
   "metadata": {},
   "outputs": [
    {
     "name": "stdout",
     "output_type": "stream",
     "text": [
      "+++++++++++++++++++\n",
      "Region: GATA1 \n",
      "Save file:\n",
      "/data/reddylab/Kuei/out/proj_combeffect_encode_fcc/results/comparison/comparison_local/track.FC.GATA1.tsv \n",
      "\n",
      "+++++++++++++++++++\n",
      "Region: MYC \n",
      "Save file:\n",
      "/data/reddylab/Kuei/out/proj_combeffect_encode_fcc/results/comparison/comparison_local/track.FC.MYC.tsv \n",
      "\n",
      "+++++++++++++++++++\n",
      "Region: FADS \n",
      "Save file:\n",
      "/data/reddylab/Kuei/out/proj_combeffect_encode_fcc/results/comparison/comparison_local/track.FC.FADS.tsv \n",
      "\n"
     ]
    }
   ],
   "source": [
    "fdiry = file.path(FD_RES, \"results\", \"comparison\", \"comparison_local\")\n",
    "\n",
    "lst = lst_track_Xfc\n",
    "for (REGION in REGIONS) {\n",
    "    ### set file path\n",
    "    fname = paste(\"track\", \"FC\", REGION, \"tsv\", sep=\".\")\n",
    "    fpath = file.path(fdiry, fname)\n",
    "    \n",
    "    ### save data\n",
    "    dat = lst[[REGION]]\n",
    "    write_tsv(dat, fpath)\n",
    "    \n",
    "    ### show progress\n",
    "    cat(\"+++++++++++++++++++\\n\")\n",
    "    cat(\"Region:\", REGION, \"\\n\")\n",
    "    cat(\"Save file:\\n\")\n",
    "    cat(fpath, \"\\n\\n\")\n",
    "}"
   ]
  },
  {
   "cell_type": "markdown",
   "id": "83849625",
   "metadata": {},
   "source": [
    "## Save the track (pLog2FC)"
   ]
  },
  {
   "cell_type": "code",
   "execution_count": 27,
   "id": "343224fa",
   "metadata": {},
   "outputs": [
    {
     "name": "stdout",
     "output_type": "stream",
     "text": [
      "+++++++++++++++++++\n",
      "Region: GATA1 \n",
      "Save file:\n",
      "/data/reddylab/Kuei/out/proj_combeffect_encode_fcc/results/comparison/comparison_local/track.pLog2FC.GATA1.tsv \n",
      "\n",
      "+++++++++++++++++++\n",
      "Region: MYC \n",
      "Save file:\n",
      "/data/reddylab/Kuei/out/proj_combeffect_encode_fcc/results/comparison/comparison_local/track.pLog2FC.MYC.tsv \n",
      "\n",
      "+++++++++++++++++++\n",
      "Region: FADS \n",
      "Save file:\n",
      "/data/reddylab/Kuei/out/proj_combeffect_encode_fcc/results/comparison/comparison_local/track.pLog2FC.FADS.tsv \n",
      "\n"
     ]
    }
   ],
   "source": [
    "fdiry = file.path(FD_RES, \"results\", \"comparison\", \"comparison_local\")\n",
    "\n",
    "lst = lst_track_Lfc\n",
    "for (REGION in REGIONS) {\n",
    "    ### set file path\n",
    "    fname = paste(\"track\", \"pLog2FC\", REGION, \"tsv\", sep=\".\")\n",
    "    fpath = file.path(fdiry, fname)\n",
    "    \n",
    "    ### save data\n",
    "    dat = lst[[REGION]]\n",
    "    write_tsv(dat, fpath)\n",
    "    \n",
    "    ### show progress\n",
    "    cat(\"+++++++++++++++++++\\n\")\n",
    "    cat(\"Region:\", REGION, \"\\n\")\n",
    "    cat(\"Save file:\\n\")\n",
    "    cat(fpath, \"\\n\\n\")\n",
    "}"
   ]
  },
  {
   "cell_type": "code",
   "execution_count": null,
   "id": "96fdd86c",
   "metadata": {},
   "outputs": [],
   "source": []
  },
  {
   "cell_type": "code",
   "execution_count": null,
   "id": "e801311a",
   "metadata": {},
   "outputs": [],
   "source": []
  },
  {
   "cell_type": "code",
   "execution_count": null,
   "id": "a0cc4bed",
   "metadata": {},
   "outputs": [],
   "source": []
  },
  {
   "cell_type": "code",
   "execution_count": null,
   "id": "036cf177",
   "metadata": {},
   "outputs": [],
   "source": []
  },
  {
   "cell_type": "code",
   "execution_count": null,
   "id": "194b8a2a",
   "metadata": {},
   "outputs": [],
   "source": []
  }
 ],
 "metadata": {
  "kernelspec": {
   "display_name": "R",
   "language": "R",
   "name": "ir"
  },
  "language_info": {
   "codemirror_mode": "r",
   "file_extension": ".r",
   "mimetype": "text/x-r-source",
   "name": "R",
   "pygments_lexer": "r",
   "version": "4.2.2"
  }
 },
 "nbformat": 4,
 "nbformat_minor": 5
}
