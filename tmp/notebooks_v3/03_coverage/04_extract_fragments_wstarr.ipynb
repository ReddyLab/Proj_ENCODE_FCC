{
 "cells": [
  {
   "cell_type": "markdown",
   "id": "be2e0b50-5b57-4160-a04b-01ed90bca86d",
   "metadata": {},
   "source": [
    "**Set environment**"
   ]
  },
  {
   "cell_type": "code",
   "execution_count": 1,
   "id": "57839422-df20-475e-8095-13c3dfc9cde4",
   "metadata": {},
   "outputs": [
    {
     "name": "stdout",
     "output_type": "stream",
     "text": [
      "You are on Duke Server: HARDAC\n",
      "BASE DIRECTORY:     /data/reddylab/Kuei\n",
      "WORK DIRECTORY:     /data/reddylab/Kuei/out\n",
      "CODE DIRECTORY:     /data/reddylab/Kuei/code\n",
      "SING DIRECTORY:     /data/reddylab/Kuei/singularity\n",
      "PATH OF SOURCE:     /data/reddylab/Kuei/source\n",
      "PATH OF EXECUTABLE: /data/reddylab/Kuei/bin\n",
      "PATH OF ANNOTATION: /data/reddylab/Kuei/annotation\n",
      "PATH OF PROJECT:    /data/reddylab/Kuei/code/Proj_CombEffect_ENCODE_FCC\n",
      "PATH OF RESULTS:    /data/reddylab/Kuei/out/proj_combeffect_encode_fcc\n",
      "\n"
     ]
    }
   ],
   "source": [
    "source ../config/config_duke.sh\n",
    "show_env"
   ]
  },
  {
   "cell_type": "code",
   "execution_count": 4,
   "id": "0a708906-1de2-4f1c-b2c8-94973afb1922",
   "metadata": {},
   "outputs": [
    {
     "name": "stdout",
     "output_type": "stream",
     "text": [
      "/data/reddylab/Kuei/out/proj_combeffect_encode_fcc/results/A001_K562_WSTARRseq/fragment_count/A001_K562_WSTARRseq.Input.rep1.WGS.unstranded.bed.gz\n",
      "A001_K562_WSTARRseq.Input.rep1.WGS.unstranded.bed.gz\n"
     ]
    }
   ],
   "source": [
    "ASSAY=A001_K562_WSTARRseq\n",
    "PREFIX=A001_K562_WSTARRseq\n",
    "\n",
    "FD_INP=${FD_RES}/results/${ASSAY}/fragment_count\n",
    "FD_OUT=${FD_RES}/results/${ASSAY}/fragment_count\n",
    "\n",
    "IDX=0\n",
    "FP_INPS=($(ls ${FD_INP}/*WGS*))\n",
    "FP_INP=${FP_INPS[${IDX}]}\n",
    "FN_INP=$(basename ${FP_INP})\n",
    "\n",
    "echo ${FP_INP}\n",
    "echo ${FN_INP}"
   ]
  },
  {
   "cell_type": "code",
   "execution_count": 5,
   "id": "c2018434-2926-453a-adad-26c28d335ae4",
   "metadata": {},
   "outputs": [
    {
     "name": "stdout",
     "output_type": "stream",
     "text": [
      "0\n",
      "GATA1 | chrX : 47785501 - 49880650\n",
      "A001_K562_WSTARRseq.Input.rep1.GATA1.unstranded.bed.gz\n",
      "1\n",
      "MYC | chr8 : 126735901 - 128736550\n",
      "A001_K562_WSTARRseq.Input.rep1.MYC.unstranded.bed.gz\n",
      "2\n",
      "FADS | chr11 : 61554801 - 61665820\n",
      "A001_K562_WSTARRseq.Input.rep1.FADS.unstranded.bed.gz\n"
     ]
    }
   ],
   "source": [
    "REGIONS=(GATA1    MYC       FADS)\n",
    "CHROMS=( chrX     chr8      chr11)\n",
    "STARTS=( 47785501 126735901 61554801)\n",
    "ENDS=(   49880650 128736550 61665820)\n",
    "\n",
    "for IDX in {0..2}; do\n",
    "    echo ${IDX}\n",
    "    REGION=${REGIONS[${IDX}]}\n",
    "    CHROM=${CHROMS[${IDX}]}\n",
    "    START=${STARTS[${IDX}]}\n",
    "    END=${ENDS[${IDX}]}\n",
    "    \n",
    "    FN_OUT=${FN_INP/WGS/${REGION}}\n",
    "    \n",
    "    echo ${REGION} \"|\" ${CHROM} \":\" ${START} \"-\" ${END}\n",
    "    echo ${FN_OUT}\n",
    "    \n",
    "done"
   ]
  },
  {
   "cell_type": "code",
   "execution_count": 6,
   "id": "d9a2557a-6fb9-4f0e-bef9-3f2afc02fa26",
   "metadata": {},
   "outputs": [
    {
     "name": "stdout",
     "output_type": "stream",
     "text": [
      "chr1\t10335\t10549\tchr1_10335_10549\t1\t.\n",
      "chr1\t16983\t17500\tchr1_16983_17500\t1\t.\n",
      "chr1\t16985\t17499\tchr1_16985_17499\t1\t.\n",
      "chr1\t17004\t17500\tchr1_17004_17500\t1\t.\n",
      "chr1\t17483\t17898\tchr1_17483_17898\t1\t.\n",
      "chr1\t17487\t17941\tchr1_17487_17941\t1\t.\n",
      "chr1\t33606\t33997\tchr1_33606_33997\t1\t.\n",
      "chr1\t33617\t33997\tchr1_33617_33997\t1\t.\n",
      "chr1\t38785\t39226\tchr1_38785_39226\t1\t.\n",
      "chr1\t46328\t46678\tchr1_46328_46678\t1\t.\n",
      "chr1\t46651\t47137\tchr1_46651_47137\t1\t.\n",
      "chr1\t47287\t47665\tchr1_47287_47665\t1\t.\n",
      "chr1\t49125\t49498\tchr1_49125_49498\t1\t.\n",
      "chr1\t49269\t49637\tchr1_49269_49637\t1\t.\n",
      "chr1\t51108\t51497\tchr1_51108_51497\t1\t.\n",
      "chr1\t53996\t54382\tchr1_53996_54382\t1\t.\n",
      "chr1\t54325\t54608\tchr1_54325_54608\t1\t.\n",
      "chr1\t54346\t54714\tchr1_54346_54714\t1\t.\n",
      "chr1\t54461\t55045\tchr1_54461_55045\t1\t.\n",
      "chr1\t54474\t54868\tchr1_54474_54868\t1\t.\n"
     ]
    }
   ],
   "source": [
    "zcat ${FP_INP} | head -n 20"
   ]
  },
  {
   "cell_type": "code",
   "execution_count": 7,
   "id": "a9fb318f-96a3-4ee8-aad3-080ca691a73f",
   "metadata": {},
   "outputs": [
    {
     "name": "stdout",
     "output_type": "stream",
     "text": [
      "chr1\t10335\t10549\tchr1_10335_10549\t1\t.\n"
     ]
    }
   ],
   "source": [
    "zcat ${FP_INP} | head -n 20 | awk '{if($3 >= 10300 && $2 <= 10500) {print}}'"
   ]
  },
  {
   "cell_type": "code",
   "execution_count": 8,
   "id": "9f3d8290-b9e7-4819-8e7e-2e0a12e5b717",
   "metadata": {},
   "outputs": [
    {
     "name": "stdout",
     "output_type": "stream",
     "text": [
      "chr1\t10335\t10549\tchr1_10335_10549\t1\t.\n"
     ]
    }
   ],
   "source": [
    "CHROM=chr1\n",
    "START=10300\n",
    "END=10500\n",
    "zcat ${FP_INP} |\\\n",
    "    head -n 20 |\\\n",
    "    awk -v CHROM=${CHROM} \\\n",
    "        -v START=${START} \\\n",
    "        -v STOP=${END} \\\n",
    "        '{if(($1== CHROM) && ($3 >= START) && ($2 <= STOP)) {print}}'"
   ]
  },
  {
   "cell_type": "markdown",
   "id": "5119c6ba-e27e-42ee-85ab-7768d22314be",
   "metadata": {},
   "source": [
    "**RUN**"
   ]
  },
  {
   "cell_type": "code",
   "execution_count": 14,
   "id": "b9322cfc-646b-4fdc-beda-0e01de0ab4d3",
   "metadata": {},
   "outputs": [
    {
     "name": "stdout",
     "output_type": "stream",
     "text": [
      "\u001b[0m\u001b[38;5;9mA001_K562_WSTARRseq.Input.rep1.WGS.unstranded.bed.gz\u001b[0m\n",
      "\u001b[38;5;9mA001_K562_WSTARRseq.Input.rep2.WGS.unstranded.bed.gz\u001b[0m\n",
      "\u001b[38;5;9mA001_K562_WSTARRseq.Input.rep3.WGS.unstranded.bed.gz\u001b[0m\n",
      "\u001b[38;5;9mA001_K562_WSTARRseq.Input.rep4.WGS.unstranded.bed.gz\u001b[0m\n",
      "\u001b[38;5;9mA001_K562_WSTARRseq.Output.rep1.WGS.unstranded.bed.gz\u001b[0m\n",
      "\u001b[38;5;9mA001_K562_WSTARRseq.Output.rep2.WGS.unstranded.bed.gz\u001b[0m\n",
      "\u001b[38;5;9mA001_K562_WSTARRseq.Output.rep3.WGS.unstranded.bed.gz\u001b[0m\n"
     ]
    }
   ],
   "source": [
    "ls ${FD_RES}/results/${ASSAY}/fragment_count"
   ]
  },
  {
   "cell_type": "code",
   "execution_count": 23,
   "id": "0cd0e6d3-df92-4288-ab1c-40663ec090b1",
   "metadata": {},
   "outputs": [
    {
     "name": "stdout",
     "output_type": "stream",
     "text": [
      "Submitted batch job 29422586\n"
     ]
    }
   ],
   "source": [
    "sbatch -p ${NODE} \\\n",
    "    --mem 20G \\\n",
    "    --array 0-6 \\\n",
    "    -o ${FD_LOG}/extract_fragments_by_regions_WSTARR.%a.txt \\\n",
    "    <<'EOF'\n",
    "#!/bin/bash\n",
    "### set directories & global variables\n",
    "source ../config/config_duke.sh\n",
    "ASSAY=A001_K562_WSTARRseq\n",
    "PREFIX=A001_K562_WSTARRseq\n",
    "\n",
    "### set input and output directory\n",
    "FD_INP=${FD_RES}/results/${ASSAY}/fragment_count\n",
    "FD_OUT=${FD_RES}/results/${ASSAY}/fragment_count\n",
    "\n",
    "FP_INPS=($(ls ${FD_INP}/*WGS*))\n",
    "FP_INP=${FP_INPS[${SLURM_ARRAY_TASK_ID}]}\n",
    "FN_INP=$(basename ${FP_INP})\n",
    "\n",
    "REGIONS=(GATA1    MYC       FADS)\n",
    "CHROMS=( chrX     chr8      chr11)\n",
    "STARTS=( 47785501 126735901 61554801)\n",
    "ENDS=(   49880650 128736550 61665820)\n",
    "\n",
    "### print start message\n",
    "timer_start=`date +%s`\n",
    "echo \"Hostname:          \" $(hostname)\n",
    "echo \"Slurm Array Index: \" ${SLURM_ARRAY_TASK_ID}\n",
    "echo \"Time Stamp:        \" $(date +\"%m-%d-%y+%T\")\n",
    "echo\n",
    "\n",
    "### +++++++++++++++++++++++++++++++++++++++++++++++\n",
    "### show input file\n",
    "echo \"Input: \" ${FP_INP}\n",
    "echo\n",
    "echo \"show first few lines of input\"\n",
    "zcat ${FP_INP} | head -5\n",
    "echo\n",
    "\n",
    "for IDX in {0..2}; do\n",
    "    \n",
    "    ### set loop variables\n",
    "    REGION=${REGIONS[${IDX}]}\n",
    "    CHROM=${CHROMS[${IDX}]}\n",
    "    START=${STARTS[${IDX}]}\n",
    "    END=${ENDS[${IDX}]}\n",
    "    \n",
    "    ### set input and output file\n",
    "    FN_OUT=${FN_INP/WGS/${REGION}}\n",
    "    FP_OUT=${FD_OUT}/${FN_OUT}\n",
    "    \n",
    "    ### filter out the fragments within the region specified\n",
    "    zcat ${FP_INP} |\\\n",
    "        awk -v CHROM=${CHROM} \\\n",
    "            -v START=${START} \\\n",
    "            -v STOP=${END} \\\n",
    "            '{if(($1== CHROM) && ($3 >= START) && ($2 <= STOP)) {print}}' |\\\n",
    "        gzip -c > ${FP_OUT}\n",
    "    \n",
    "    ### show output file\n",
    "    echo ++++++++++++++++++++++++++++++++++++++\n",
    "    echo ${REGION} \"|\" ${CHROM} \":\" ${START} \"-\" ${END}\n",
    "    echo\n",
    "    echo \"Output: \" ${FP_OUT}\n",
    "    echo\n",
    "    echo \"show first few lines of output:\"\n",
    "    zcat ${FP_OUT} | head -n 10\n",
    "    echo\n",
    "    echo \"show last few lines of output\"\n",
    "    zcat ${FP_OUT} | tail -n 10\n",
    "    echo\n",
    "done\n",
    "\n",
    "### print end message\n",
    "timer=`date +%s`\n",
    "runtime=$(echo \"${timer} - ${timer_start}\" | bc -l)\n",
    "echo\n",
    "echo 'Done!'\n",
    "echo \"Run Time: $(displaytime ${runtime})\"\n",
    "EOF"
   ]
  },
  {
   "cell_type": "code",
   "execution_count": 20,
   "id": "ba97d40e-8269-4552-be33-af802dc494e5",
   "metadata": {},
   "outputs": [
    {
     "name": "stdout",
     "output_type": "stream",
     "text": [
      "/data/reddylab/Kuei/out/proj_combeffect_encode_fcc/log/extract_fragments_by_regions_WSTARR.0.txt\n",
      "/data/reddylab/Kuei/out/proj_combeffect_encode_fcc/log/extract_fragments_by_regions_WSTARR.1.txt\n",
      "/data/reddylab/Kuei/out/proj_combeffect_encode_fcc/log/extract_fragments_by_regions_WSTARR.2.txt\n",
      "/data/reddylab/Kuei/out/proj_combeffect_encode_fcc/log/extract_fragments_by_regions_WSTARR.3.txt\n",
      "/data/reddylab/Kuei/out/proj_combeffect_encode_fcc/log/extract_fragments_by_regions_WSTARR.4.txt\n",
      "/data/reddylab/Kuei/out/proj_combeffect_encode_fcc/log/extract_fragments_by_regions_WSTARR.5.txt\n",
      "/data/reddylab/Kuei/out/proj_combeffect_encode_fcc/log/extract_fragments_by_regions_WSTARR.6.txt\n"
     ]
    }
   ],
   "source": [
    "ls ${FD_LOG}/extract_fragments_by_regions_WSTARR.*.txt"
   ]
  },
  {
   "cell_type": "code",
   "execution_count": 24,
   "id": "3a67afaa-ba3b-47ed-bceb-66fa1eb32dd1",
   "metadata": {},
   "outputs": [
    {
     "name": "stdout",
     "output_type": "stream",
     "text": [
      "Hostname:           x1-01-3.genome.duke.edu\n",
      "Slurm Array Index:  0\n",
      "Time Stamp:         12-08-22+14:48:03\n",
      "\n",
      "Input:  /data/reddylab/Kuei/out/proj_combeffect_encode_fcc/results/A001_K562_WSTARRseq/fragment_count/A001_K562_WSTARRseq.Input.rep1.WGS.unstranded.bed.gz\n",
      "\n",
      "show first few lines of input\n",
      "chr1\t10335\t10549\tchr1_10335_10549\t1\t.\n",
      "chr1\t16983\t17500\tchr1_16983_17500\t1\t.\n",
      "chr1\t16985\t17499\tchr1_16985_17499\t1\t.\n",
      "chr1\t17004\t17500\tchr1_17004_17500\t1\t.\n",
      "chr1\t17483\t17898\tchr1_17483_17898\t1\t.\n",
      "\n",
      "++++++++++++++++++++++++++++++++++++++\n",
      "GATA1 | chrX : 47785501 - 49880650\n",
      "\n",
      "Output:  /data/reddylab/Kuei/out/proj_combeffect_encode_fcc/results/A001_K562_WSTARRseq/fragment_count/A001_K562_WSTARRseq.Input.rep1.GATA1.unstranded.bed.gz\n",
      "\n",
      "show first few lines of output:\n",
      "chrX\t47785906\t47786328\tchrX_47785906_47786328\t1\t.\n",
      "chrX\t47787533\t47787772\tchrX_47787533_47787772\t1\t.\n",
      "chrX\t47787569\t47787735\tchrX_47787569_47787735\t1\t.\n",
      "chrX\t47787714\t47788125\tchrX_47787714_47788125\t1\t.\n",
      "chrX\t47787767\t47788062\tchrX_47787767_47788062\t1\t.\n",
      "chrX\t47788341\t47788759\tchrX_47788341_47788759\t1\t.\n",
      "chrX\t47788406\t47788749\tchrX_47788406_47788749\t1\t.\n",
      "chrX\t47788733\t47789143\tchrX_47788733_47789143\t1\t.\n",
      "chrX\t47788882\t47789418\tchrX_47788882_47789418\t1\t.\n",
      "chrX\t47788984\t47789338\tchrX_47788984_47789338\t1\t.\n",
      "\n",
      "show last few lines of output\n",
      "chrX\t49879905\t49880082\tchrX_49879905_49880082\t1\t.\n",
      "chrX\t49879965\t49880216\tchrX_49879965_49880216\t1\t.\n",
      "chrX\t49879997\t49880483\tchrX_49879997_49880483\t1\t.\n",
      "chrX\t49880080\t49880739\tchrX_49880080_49880739\t1\t.\n",
      "chrX\t49880186\t49880606\tchrX_49880186_49880606\t1\t.\n",
      "chrX\t49880213\t49880761\tchrX_49880213_49880761\t1\t.\n",
      "chrX\t49880242\t49880404\tchrX_49880242_49880404\t1\t.\n",
      "chrX\t49880288\t49880772\tchrX_49880288_49880772\t1\t.\n",
      "chrX\t49880289\t49880612\tchrX_49880289_49880612\t1\t.\n",
      "chrX\t49880412\t49880731\tchrX_49880412_49880731\t1\t.\n",
      "\n",
      "++++++++++++++++++++++++++++++++++++++\n",
      "MYC | chr8 : 126735901 - 128736550\n",
      "\n",
      "Output:  /data/reddylab/Kuei/out/proj_combeffect_encode_fcc/results/A001_K562_WSTARRseq/fragment_count/A001_K562_WSTARRseq.Input.rep1.MYC.unstranded.bed.gz\n",
      "\n",
      "show first few lines of output:\n",
      "chr8\t126735578\t126735929\tchr8_126735578_126735929\t1\t.\n",
      "chr8\t126735592\t126736074\tchr8_126735592_126736074\t1\t.\n",
      "chr8\t126735615\t126735927\tchr8_126735615_126735927\t1\t.\n",
      "chr8\t126735669\t126735990\tchr8_126735669_126735990\t1\t.\n",
      "chr8\t126735731\t126736258\tchr8_126735731_126736258\t1\t.\n",
      "chr8\t126735738\t126736081\tchr8_126735738_126736081\t1\t.\n",
      "chr8\t126735743\t126735948\tchr8_126735743_126735948\t1\t.\n",
      "chr8\t126735743\t126736303\tchr8_126735743_126736303\t1\t.\n",
      "chr8\t126735792\t126736310\tchr8_126735792_126736310\t1\t.\n",
      "chr8\t126735820\t126736209\tchr8_126735820_126736209\t1\t.\n",
      "\n",
      "show last few lines of output\n",
      "chr8\t128735657\t128736014\tchr8_128735657_128736014\t1\t.\n",
      "chr8\t128735698\t128735849\tchr8_128735698_128735849\t1\t.\n",
      "chr8\t128735834\t128736404\tchr8_128735834_128736404\t1\t.\n",
      "chr8\t128735907\t128736302\tchr8_128735907_128736302\t1\t.\n",
      "chr8\t128735910\t128736308\tchr8_128735910_128736308\t1\t.\n",
      "chr8\t128735973\t128736390\tchr8_128735973_128736390\t1\t.\n",
      "chr8\t128736009\t128736504\tchr8_128736009_128736504\t1\t.\n",
      "chr8\t128736188\t128736550\tchr8_128736188_128736550\t1\t.\n",
      "chr8\t128736220\t128736734\tchr8_128736220_128736734\t1\t.\n",
      "chr8\t128736265\t128736860\tchr8_128736265_128736860\t1\t.\n",
      "\n",
      "++++++++++++++++++++++++++++++++++++++\n",
      "FADS | chr11 : 61554801 - 61665820\n",
      "\n",
      "Output:  /data/reddylab/Kuei/out/proj_combeffect_encode_fcc/results/A001_K562_WSTARRseq/fragment_count/A001_K562_WSTARRseq.Input.rep1.FADS.unstranded.bed.gz\n",
      "\n",
      "show first few lines of output:\n",
      "chr11\t61554443\t61554815\tchr11_61554443_61554815\t1\t.\n",
      "chr11\t61554444\t61554815\tchr11_61554444_61554815\t1\t.\n",
      "chr11\t61554449\t61554957\tchr11_61554449_61554957\t1\t.\n",
      "chr11\t61554467\t61554882\tchr11_61554467_61554882\t1\t.\n",
      "chr11\t61554504\t61554909\tchr11_61554504_61554909\t1\t.\n",
      "chr11\t61554599\t61555349\tchr11_61554599_61555349\t1\t.\n",
      "chr11\t61554624\t61555012\tchr11_61554624_61555012\t1\t.\n",
      "chr11\t61554668\t61555027\tchr11_61554668_61555027\t1\t.\n",
      "chr11\t61554704\t61555069\tchr11_61554704_61555069\t1\t.\n",
      "chr11\t61554790\t61555271\tchr11_61554790_61555271\t1\t.\n",
      "\n",
      "show last few lines of output\n",
      "chr11\t61664262\t61664673\tchr11_61664262_61664673\t1\t.\n",
      "chr11\t61664273\t61664581\tchr11_61664273_61664581\t1\t.\n",
      "chr11\t61664793\t61665167\tchr11_61664793_61665167\t1\t.\n",
      "chr11\t61665323\t61665939\tchr11_61665323_61665939\t1\t.\n",
      "chr11\t61665351\t61665895\tchr11_61665351_61665895\t1\t.\n",
      "chr11\t61665376\t61665892\tchr11_61665376_61665892\t1\t.\n",
      "chr11\t61665384\t61666050\tchr11_61665384_61666050\t1\t.\n",
      "chr11\t61665618\t61666097\tchr11_61665618_61666097\t1\t.\n",
      "chr11\t61665655\t61666003\tchr11_61665655_61666003\t1\t.\n",
      "chr11\t61665785\t61666147\tchr11_61665785_61666147\t1\t.\n",
      "\n",
      "\n",
      "Done!\n",
      "Run Time: 39 seconds\n"
     ]
    }
   ],
   "source": [
    "cat ${FD_LOG}/extract_fragments_by_regions_WSTARR.0.txt"
   ]
  },
  {
   "cell_type": "code",
   "execution_count": 25,
   "id": "17317908-ee6b-40ef-86b5-6d68cf6e23c9",
   "metadata": {},
   "outputs": [
    {
     "name": "stdout",
     "output_type": "stream",
     "text": [
      "Hostname:           dl-01.genome.duke.edu\n",
      "Slurm Array Index:  6\n",
      "Time Stamp:         12-08-22+14:48:03\n",
      "\n",
      "Input:  /data/reddylab/Kuei/out/proj_combeffect_encode_fcc/results/A001_K562_WSTARRseq/fragment_count/A001_K562_WSTARRseq.Output.rep3.WGS.unstranded.bed.gz\n",
      "\n",
      "show first few lines of input\n",
      "chr1\t10537\t11067\tchr1_10537_11067\t1\t.\n",
      "chr1\t14408\t14799\tchr1_14408_14799\t1\t.\n",
      "chr1\t14498\t14937\tchr1_14498_14937\t1\t.\n",
      "chr1\t14676\t15184\tchr1_14676_15184\t1\t.\n",
      "chr1\t14684\t15162\tchr1_14684_15162\t1\t.\n",
      "\n",
      "++++++++++++++++++++++++++++++++++++++\n",
      "GATA1 | chrX : 47785501 - 49880650\n",
      "\n",
      "Output:  /data/reddylab/Kuei/out/proj_combeffect_encode_fcc/results/A001_K562_WSTARRseq/fragment_count/A001_K562_WSTARRseq.Output.rep3.GATA1.unstranded.bed.gz\n",
      "\n",
      "show first few lines of output:\n",
      "chrX\t47785062\t47785649\tchrX_47785062_47785649\t1\t.\n",
      "chrX\t47785094\t47785628\tchrX_47785094_47785628\t1\t.\n",
      "chrX\t47785156\t47785640\tchrX_47785156_47785640\t1\t.\n",
      "chrX\t47785290\t47785672\tchrX_47785290_47785672\t1\t.\n",
      "chrX\t47785381\t47785723\tchrX_47785381_47785723\t1\t.\n",
      "chrX\t47785381\t47785724\tchrX_47785381_47785724\t1\t.\n",
      "chrX\t47785384\t47785652\tchrX_47785384_47785652\t1\t.\n",
      "chrX\t47785419\t47785661\tchrX_47785419_47785661\t1\t.\n",
      "chrX\t47785610\t47786010\tchrX_47785610_47786010\t1\t.\n",
      "chrX\t47785618\t47786109\tchrX_47785618_47786109\t1\t.\n",
      "\n",
      "show last few lines of output\n",
      "chrX\t49880586\t49881011\tchrX_49880586_49881011\t1\t.\n",
      "chrX\t49880592\t49881036\tchrX_49880592_49881036\t1\t.\n",
      "chrX\t49880603\t49880995\tchrX_49880603_49880995\t1\t.\n",
      "chrX\t49880603\t49881035\tchrX_49880603_49881035\t1\t.\n",
      "chrX\t49880606\t49880960\tchrX_49880606_49880960\t1\t.\n",
      "chrX\t49880608\t49881056\tchrX_49880608_49881056\t1\t.\n",
      "chrX\t49880626\t49881029\tchrX_49880626_49881029\t1\t.\n",
      "chrX\t49880629\t49881260\tchrX_49880629_49881260\t1\t.\n",
      "chrX\t49880644\t49881032\tchrX_49880644_49881032\t1\t.\n",
      "chrX\t49880649\t49880957\tchrX_49880649_49880957\t1\t.\n",
      "\n",
      "++++++++++++++++++++++++++++++++++++++\n",
      "MYC | chr8 : 126735901 - 128736550\n",
      "\n",
      "Output:  /data/reddylab/Kuei/out/proj_combeffect_encode_fcc/results/A001_K562_WSTARRseq/fragment_count/A001_K562_WSTARRseq.Output.rep3.MYC.unstranded.bed.gz\n",
      "\n",
      "show first few lines of output:\n",
      "chr8\t126735490\t126735925\tchr8_126735490_126735925\t1\t.\n",
      "chr8\t126735503\t126735986\tchr8_126735503_126735986\t1\t.\n",
      "chr8\t126735540\t126735902\tchr8_126735540_126735902\t1\t.\n",
      "chr8\t126735572\t126735932\tchr8_126735572_126735932\t1\t.\n",
      "chr8\t126735591\t126736031\tchr8_126735591_126736031\t1\t.\n",
      "chr8\t126735594\t126736059\tchr8_126735594_126736059\t1\t.\n",
      "chr8\t126735624\t126736056\tchr8_126735624_126736056\t1\t.\n",
      "chr8\t126735637\t126735981\tchr8_126735637_126735981\t1\t.\n",
      "chr8\t126735637\t126736027\tchr8_126735637_126736027\t1\t.\n",
      "chr8\t126735648\t126735979\tchr8_126735648_126735979\t1\t.\n",
      "\n",
      "show last few lines of output\n",
      "chr8\t128736272\t128736632\tchr8_128736272_128736632\t1\t.\n",
      "chr8\t128736283\t128736509\tchr8_128736283_128736509\t1\t.\n",
      "chr8\t128736289\t128736612\tchr8_128736289_128736612\t1\t.\n",
      "chr8\t128736313\t128736425\tchr8_128736313_128736425\t1\t.\n",
      "chr8\t128736325\t128736642\tchr8_128736325_128736642\t1\t.\n",
      "chr8\t128736357\t128736486\tchr8_128736357_128736486\t1\t.\n",
      "chr8\t128736382\t128736845\tchr8_128736382_128736845\t1\t.\n",
      "chr8\t128736414\t128736699\tchr8_128736414_128736699\t1\t.\n",
      "chr8\t128736476\t128736935\tchr8_128736476_128736935\t1\t.\n",
      "chr8\t128736530\t128736909\tchr8_128736530_128736909\t1\t.\n",
      "\n",
      "++++++++++++++++++++++++++++++++++++++\n",
      "FADS | chr11 : 61554801 - 61665820\n",
      "\n",
      "Output:  /data/reddylab/Kuei/out/proj_combeffect_encode_fcc/results/A001_K562_WSTARRseq/fragment_count/A001_K562_WSTARRseq.Output.rep3.FADS.unstranded.bed.gz\n",
      "\n",
      "show first few lines of output:\n",
      "chr11\t61554286\t61554911\tchr11_61554286_61554911\t1\t.\n",
      "chr11\t61554306\t61555169\tchr11_61554306_61555169\t1\t.\n",
      "chr11\t61554312\t61554854\tchr11_61554312_61554854\t1\t.\n",
      "chr11\t61554353\t61554821\tchr11_61554353_61554821\t1\t.\n",
      "chr11\t61554359\t61554810\tchr11_61554359_61554810\t1\t.\n",
      "chr11\t61554372\t61554826\tchr11_61554372_61554826\t1\t.\n",
      "chr11\t61554377\t61554887\tchr11_61554377_61554887\t1\t.\n",
      "chr11\t61554380\t61554963\tchr11_61554380_61554963\t1\t.\n",
      "chr11\t61554382\t61554828\tchr11_61554382_61554828\t1\t.\n",
      "chr11\t61554402\t61554872\tchr11_61554402_61554872\t1\t.\n",
      "\n",
      "show last few lines of output\n",
      "chr11\t61665648\t61666049\tchr11_61665648_61666049\t1\t.\n",
      "chr11\t61665660\t61666031\tchr11_61665660_61666031\t1\t.\n",
      "chr11\t61665661\t61666082\tchr11_61665661_61666082\t1\t.\n",
      "chr11\t61665710\t61666079\tchr11_61665710_61666079\t1\t.\n",
      "chr11\t61665746\t61665969\tchr11_61665746_61665969\t1\t.\n",
      "chr11\t61665770\t61666477\tchr11_61665770_61666477\t1\t.\n",
      "chr11\t61665771\t61665889\tchr11_61665771_61665889\t1\t.\n",
      "chr11\t61665771\t61666114\tchr11_61665771_61666114\t1\t.\n",
      "chr11\t61665778\t61666152\tchr11_61665778_61666152\t1\t.\n",
      "chr11\t61665779\t61665928\tchr11_61665779_61665928\t1\t.\n",
      "\n",
      "\n",
      "Done!\n",
      "Run Time: 8 minutes and 58 seconds\n"
     ]
    }
   ],
   "source": [
    "cat ${FD_LOG}/extract_fragments_by_regions_WSTARR.6.txt"
   ]
  },
  {
   "cell_type": "code",
   "execution_count": null,
   "id": "c3c569fa-fd57-42cd-8853-795a358f8376",
   "metadata": {},
   "outputs": [],
   "source": []
  }
 ],
 "metadata": {
  "kernelspec": {
   "display_name": "Bash",
   "language": "bash",
   "name": "bash"
  },
  "language_info": {
   "codemirror_mode": "shell",
   "file_extension": ".sh",
   "mimetype": "text/x-sh",
   "name": "bash"
  }
 },
 "nbformat": 4,
 "nbformat_minor": 5
}
