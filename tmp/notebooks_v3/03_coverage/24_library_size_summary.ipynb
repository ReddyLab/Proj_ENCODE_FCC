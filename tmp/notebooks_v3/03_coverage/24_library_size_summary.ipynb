{
 "cells": [
  {
   "cell_type": "markdown",
   "id": "be7ec0a9",
   "metadata": {},
   "source": [
    "**Set environment**"
   ]
  },
  {
   "cell_type": "code",
   "execution_count": 1,
   "id": "f71b1837",
   "metadata": {},
   "outputs": [
    {
     "name": "stdout",
     "output_type": "stream",
     "text": [
      "You are in Singularity: singularity_proj_combeffect \n",
      "BASE DIRECTORY:     /data/reddylab/Kuei \n",
      "WORK DIRECTORY:     /data/reddylab/Kuei/out \n",
      "CODE DIRECTORY:     /data/reddylab/Kuei/code \n",
      "PATH OF SOURCE:     /data/reddylab/Kuei/source \n",
      "PATH OF EXECUTABLE: /data/reddylab/Kuei/bin \n",
      "PATH OF ANNOTATION: /data/reddylab/Kuei/annotation \n",
      "PATH OF PROJECT:    /data/reddylab/Kuei/code/Proj_CombEffect_ENCODE_FCC \n",
      "PATH OF RESULTS:    /data/reddylab/Kuei/out/proj_combeffect_encode_fcc \n"
     ]
    }
   ],
   "source": [
    "suppressMessages(suppressWarnings(source(\"../config/config_sing.R\")))\n",
    "show_env()"
   ]
  },
  {
   "cell_type": "code",
   "execution_count": 8,
   "id": "9be06d1c",
   "metadata": {},
   "outputs": [],
   "source": [
    "get_group  = function(fpath){return(str_extract(fpath, \"Input|Output\"))}\n",
    "get_sample = function(fpath){return(str_extract(fpath, \"Input.rep\\\\d|Input.mean|Output.rep\\\\d|Output.mean\"))}\n",
    "get_region = function(fpath){return(str_extract(fpath, \"WGS|GATA1|MYC|FADS\"))}\n",
    "get_type   = function(fpath){\n",
    "    res = ifelse(\n",
    "        str_detect(fpath, \"norm\"),\n",
    "        \"norm\",\n",
    "        \"raw\"\n",
    "    )\n",
    "    return(res)\n",
    "}"
   ]
  },
  {
   "cell_type": "code",
   "execution_count": 11,
   "id": "5e667bfd",
   "metadata": {},
   "outputs": [
    {
     "name": "stdout",
     "output_type": "stream",
     "text": [
      "[1] \"KS91_K562_ASTARRseq\"\n",
      "\u001b[90m# A tibble: 6 × 6\u001b[39m\n",
      "  Type  Region Group Sample          Size FName                                 \n",
      "  \u001b[3m\u001b[90m<chr>\u001b[39m\u001b[23m \u001b[3m\u001b[90m<chr>\u001b[39m\u001b[23m  \u001b[3m\u001b[90m<chr>\u001b[39m\u001b[23m \u001b[3m\u001b[90m<chr>\u001b[39m\u001b[23m          \u001b[3m\u001b[90m<dbl>\u001b[39m\u001b[23m \u001b[3m\u001b[90m<chr>\u001b[39m\u001b[23m                                 \n",
      "\u001b[90m1\u001b[39m raw   FADS   Input Input.rep1     \u001b[4m2\u001b[24m\u001b[4m5\u001b[24m269 KS91_K562_ASTARRseq.Input.rep1.FADS.u…\n",
      "\u001b[90m2\u001b[39m raw   GATA1  Input Input.rep1    \u001b[4m3\u001b[24m\u001b[4m6\u001b[24m\u001b[4m9\u001b[24m389 KS91_K562_ASTARRseq.Input.rep1.GATA1.…\n",
      "\u001b[90m3\u001b[39m raw   MYC    Input Input.rep1    \u001b[4m2\u001b[24m\u001b[4m5\u001b[24m\u001b[4m5\u001b[24m645 KS91_K562_ASTARRseq.Input.rep1.MYC.un…\n",
      "\u001b[90m4\u001b[39m raw   WGS    Input Input.rep1 348\u001b[4m6\u001b[24m\u001b[4m9\u001b[24m\u001b[4m5\u001b[24m063 KS91_K562_ASTARRseq.Input.rep1.WGS.un…\n",
      "\u001b[90m5\u001b[39m raw   FADS   Input Input.rep2     \u001b[4m3\u001b[24m\u001b[4m2\u001b[24m374 KS91_K562_ASTARRseq.Input.rep2.FADS.u…\n",
      "\u001b[90m6\u001b[39m raw   GATA1  Input Input.rep2    \u001b[4m4\u001b[24m\u001b[4m7\u001b[24m\u001b[4m5\u001b[24m159 KS91_K562_ASTARRseq.Input.rep2.GATA1.…\n",
      "++++++++++++++++++++++++++\n",
      "[1] \"A001_K562_WSTARRseq\"\n",
      "\u001b[90m# A tibble: 6 × 6\u001b[39m\n",
      "  Type  Region Group Sample         Size FName                                  \n",
      "  \u001b[3m\u001b[90m<chr>\u001b[39m\u001b[23m \u001b[3m\u001b[90m<chr>\u001b[39m\u001b[23m  \u001b[3m\u001b[90m<chr>\u001b[39m\u001b[23m \u001b[3m\u001b[90m<chr>\u001b[39m\u001b[23m         \u001b[3m\u001b[90m<dbl>\u001b[39m\u001b[23m \u001b[3m\u001b[90m<chr>\u001b[39m\u001b[23m                                  \n",
      "\u001b[90m1\u001b[39m raw   FADS   Input Input.rep1     \u001b[4m1\u001b[24m892 A001_K562_WSTARRseq.Input.rep1.FADS.un…\n",
      "\u001b[90m2\u001b[39m raw   GATA1  Input Input.rep1    \u001b[4m1\u001b[24m\u001b[4m9\u001b[24m540 A001_K562_WSTARRseq.Input.rep1.GATA1.u…\n",
      "\u001b[90m3\u001b[39m raw   MYC    Input Input.rep1    \u001b[4m2\u001b[24m\u001b[4m1\u001b[24m892 A001_K562_WSTARRseq.Input.rep1.MYC.uns…\n",
      "\u001b[90m4\u001b[39m raw   WGS    Input Input.rep1 26\u001b[4m9\u001b[24m\u001b[4m0\u001b[24m\u001b[4m8\u001b[24m970 A001_K562_WSTARRseq.Input.rep1.WGS.uns…\n",
      "\u001b[90m5\u001b[39m raw   FADS   Input Input.rep2     \u001b[4m6\u001b[24m921 A001_K562_WSTARRseq.Input.rep2.FADS.un…\n",
      "\u001b[90m6\u001b[39m raw   GATA1  Input Input.rep2    \u001b[4m7\u001b[24m\u001b[4m2\u001b[24m119 A001_K562_WSTARRseq.Input.rep2.GATA1.u…\n",
      "++++++++++++++++++++++++++\n",
      "[1] \"Tewhey_K562_TileMPRA\"\n",
      "\u001b[90m# A tibble: 6 × 6\u001b[39m\n",
      "  Type  Region Group Sample         Size FName                                  \n",
      "  \u001b[3m\u001b[90m<chr>\u001b[39m\u001b[23m \u001b[3m\u001b[90m<chr>\u001b[39m\u001b[23m  \u001b[3m\u001b[90m<chr>\u001b[39m\u001b[23m \u001b[3m\u001b[90m<chr>\u001b[39m\u001b[23m         \u001b[3m\u001b[90m<dbl>\u001b[39m\u001b[23m \u001b[3m\u001b[90m<chr>\u001b[39m\u001b[23m                                  \n",
      "\u001b[90m1\u001b[39m norm  FADS   Input Input.mean  6\u001b[4m4\u001b[24m\u001b[4m1\u001b[24m\u001b[4m3\u001b[24m790 OL13_20220512.norm.Input.mean.FADS.str…\n",
      "\u001b[90m2\u001b[39m norm  FADS   Input Input.rep1  6\u001b[4m4\u001b[24m\u001b[4m1\u001b[24m\u001b[4m8\u001b[24m470 OL13_20220512.norm.Input.rep1.FADS.str…\n",
      "\u001b[90m3\u001b[39m norm  FADS   Input Input.rep2  6\u001b[4m4\u001b[24m\u001b[4m1\u001b[24m\u001b[4m2\u001b[24m310 OL13_20220512.norm.Input.rep2.FADS.str…\n",
      "\u001b[90m4\u001b[39m norm  FADS   Input Input.rep3  6\u001b[4m4\u001b[24m\u001b[4m1\u001b[24m\u001b[4m3\u001b[24m570 OL13_20220512.norm.Input.rep3.FADS.str…\n",
      "\u001b[90m5\u001b[39m norm  FADS   Input Input.rep4  6\u001b[4m4\u001b[24m\u001b[4m1\u001b[24m\u001b[4m0\u001b[24m820 OL13_20220512.norm.Input.rep4.FADS.str…\n",
      "\u001b[90m6\u001b[39m raw   FADS   Input Input.rep1 11\u001b[4m7\u001b[24m\u001b[4m1\u001b[24m\u001b[4m0\u001b[24m957 OL13_20220512.raw.Input.rep1.FADS.stra…\n",
      "++++++++++++++++++++++++++\n"
     ]
    }
   ],
   "source": [
    "ASSAYS=c(\"KS91_K562_ASTARRseq\", \"A001_K562_WSTARRseq\", \"Tewhey_K562_TileMPRA\")\n",
    "\n",
    "cnames = c(\"FName\", \"Size\")\n",
    "ctypes = c(col_character(), col_double())\n",
    "\n",
    "for (assay in ASSAYS) {\n",
    "    \n",
    "    ### set file path\n",
    "    fdiry = file.path(FD_RES, \"results\", assay, \"coverage\", \"summary\")\n",
    "    fname = \"library_size_output.csv\"\n",
    "    fpath = file.path(fdiry, fname)\n",
    "    \n",
    "    ### import and add additional information\n",
    "    dat_lib = read_csv(fpath, col_names = cnames, col_types = ctypes)\n",
    "    dat_lib = dat_lib %>% \n",
    "        dplyr::mutate(\n",
    "            Region = get_region(FName),\n",
    "            Group  = get_group(FName),\n",
    "            Sample = get_sample(FName),\n",
    "            Type   = get_type(FName)\n",
    "        ) %>% \n",
    "        dplyr::select(Type, Region, Group, Sample, Size, FName)\n",
    "    \n",
    "    ### store table\n",
    "    fname = \"library_size_summary.csv\"\n",
    "    fpath = file.path(fdiry, fname)\n",
    "    write_csv(dat_lib, fpath)\n",
    "    \n",
    "    ### show progress\n",
    "    print(assay)\n",
    "    print(head(dat_lib))\n",
    "    cat(\"++++++++++++++++++++++++++\\n\")\n",
    "\n",
    "}"
   ]
  },
  {
   "cell_type": "code",
   "execution_count": null,
   "id": "b254b8d4",
   "metadata": {},
   "outputs": [],
   "source": []
  }
 ],
 "metadata": {
  "kernelspec": {
   "display_name": "R (alex_py3)",
   "language": "R",
   "name": "ir_alex_py3"
  },
  "language_info": {
   "codemirror_mode": "r",
   "file_extension": ".r",
   "mimetype": "text/x-r-source",
   "name": "R",
   "pygments_lexer": "r",
   "version": "3.6.2"
  }
 },
 "nbformat": 4,
 "nbformat_minor": 5
}
