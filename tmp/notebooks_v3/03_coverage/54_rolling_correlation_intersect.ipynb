{
 "cells": [
  {
   "cell_type": "markdown",
   "id": "f45705a9-2c43-4836-9c8f-8f5cf4d54daf",
   "metadata": {},
   "source": [
    "**Set environment**"
   ]
  },
  {
   "cell_type": "code",
   "execution_count": 1,
   "id": "d11d9561-533e-4012-8ff5-da074a76d740",
   "metadata": {},
   "outputs": [
    {
     "name": "stdout",
     "output_type": "stream",
     "text": [
      "You are on Duke Server: HARDAC\n",
      "BASE DIRECTORY:     /data/reddylab/Kuei\n",
      "WORK DIRECTORY:     /data/reddylab/Kuei/out\n",
      "CODE DIRECTORY:     /data/reddylab/Kuei/code\n",
      "SING DIRECTORY:     /data/reddylab/Kuei/singularity\n",
      "PATH OF SOURCE:     /data/reddylab/Kuei/source\n",
      "PATH OF EXECUTABLE: /data/reddylab/Kuei/bin\n",
      "PATH OF ANNOTATION: /data/reddylab/Kuei/annotation\n",
      "PATH OF PROJECT:    /data/reddylab/Kuei/code/Proj_CombEffect_ENCODE_FCC\n",
      "PATH OF RESULTS:    /data/reddylab/Kuei/out/proj_combeffect_encode_fcc\n",
      "\n"
     ]
    }
   ],
   "source": [
    "source ../config/config_duke.sh\n",
    "source ../config/config_load_module_bedtools.sh\n",
    "show_env"
   ]
  },
  {
   "cell_type": "markdown",
   "id": "44172410-152c-403c-b2cf-13d7849fd630",
   "metadata": {
    "tags": []
   },
   "source": [
    "## Intersect with peaks"
   ]
  },
  {
   "cell_type": "code",
   "execution_count": 6,
   "id": "0b66b735-c479-4503-8664-d097113890da",
   "metadata": {},
   "outputs": [
    {
     "name": "stdout",
     "output_type": "stream",
     "text": [
      "Submitted batch job 29434171\n"
     ]
    }
   ],
   "source": [
    "sbatch -p ${NODE} \\\n",
    "    --exclude=dl-01 \\\n",
    "    --cpus-per-task 8 \\\n",
    "    --mem 20G \\\n",
    "    --output ${FD_LOG}/intersect_peaks_rolling_correlation.%a.txt \\\n",
    "    --array 0 \\\n",
    "    <<'EOF'\n",
    "#!/bin/bash\n",
    "### set directories & global variables\n",
    "source ../config/config_duke.sh\n",
    "\n",
    "### set input and output\n",
    "FD_BED=${FD_RES}/region/KS91_K562_ASTARRseq_peak_macs\n",
    "FN_BED=KS91_K562_hg38_ASTARRseq_Input.peaks.MYC.FADS.GATA1.bed\n",
    "FP_BED=${FD_BED}/${FN_BED}\n",
    "\n",
    "FD_ANN=${FD_RES}/results/comparison/comparison_local/cor_size_200bp_step_50bp/summary\n",
    "FN_ANN=cor.pLog2FC.combine.bed\n",
    "FP_ANN=${FD_ANN}/${FN_ANN}\n",
    "\n",
    "FD_OUT=${FD_ANN}\n",
    "FN_OUT=cor.pLog2FC.combine.windows.bed.gz\n",
    "FP_OUT=${FD_OUT}/${FN_OUT}\n",
    "\n",
    "### print start message\n",
    "timer_start=`date +%s`\n",
    "echo \"Hostname:          \" $(hostname)\n",
    "echo \"Slurm Array Index: \" ${SLURM_ARRAY_TASK_ID}\n",
    "echo \"Time Stamp:        \" $(date +\"%m-%d-%y+%T\")\n",
    "echo\n",
    "\n",
    "### show I/O file\n",
    "echo \"Input: \" ${FP_BED}\n",
    "echo\n",
    "echo \"show first few lines of input\"\n",
    "cat ${FP_BED} | head -5\n",
    "echo\n",
    "echo \"Input: \" ${FP_ANN}\n",
    "echo\n",
    "echo \"show first few lines of input\"\n",
    "cat ${FP_ANN} | head -5\n",
    "echo\n",
    "\n",
    "### init: create output folder if not exist\n",
    "mkdir -p ${FD_OUT}\n",
    "\n",
    "### annotation using intersect\n",
    "bedtools intersect \\\n",
    "    -a ${FP_BED} \\\n",
    "    -b ${FP_ANN} \\\n",
    "    -wo \\\n",
    "| gzip -c \\\n",
    "> ${FP_OUT}\n",
    "\n",
    "### show output file\n",
    "echo\n",
    "echo \"Output: \" ${FP_OUT}\n",
    "echo\n",
    "echo \"show first few lines of output:\"\n",
    "zcat ${FP_OUT} | head -5\n",
    "echo\n",
    "\n",
    "### print end message\n",
    "timer=`date +%s`\n",
    "runtime=$(echo \"${timer} - ${timer_start}\" | bc -l)\n",
    "echo\n",
    "echo 'Done!'\n",
    "echo \"Run Time: $(displaytime ${runtime})\"\n",
    "\n",
    "EOF"
   ]
  },
  {
   "cell_type": "code",
   "execution_count": 7,
   "id": "d0efe72c-0fa7-409b-82fe-f8372f1d1ac1",
   "metadata": {},
   "outputs": [
    {
     "name": "stdout",
     "output_type": "stream",
     "text": [
      "Hostname:           x1-02-1.genome.duke.edu\n",
      "Slurm Array Index:  0\n",
      "Time Stamp:         12-20-22+11:55:54\n",
      "\n",
      "Input:  /data/reddylab/Kuei/out/proj_combeffect_encode_fcc/region/KS91_K562_ASTARRseq_peak_macs/KS91_K562_hg38_ASTARRseq_Input.peaks.MYC.FADS.GATA1.bed\n",
      "\n",
      "show first few lines of input\n",
      "chr8\t126778902\t126779728\tchr8_126778902_126779728\tMYC\n",
      "chr8\t126782925\t126783318\tchr8_126782925_126783318\tMYC\n",
      "chr8\t126804776\t126805825\tchr8_126804776_126805825\tMYC\n",
      "chr8\t126817018\t126817490\tchr8_126817018_126817490\tMYC\n",
      "chr8\t126820465\t126821393\tchr8_126820465_126821393\tMYC\n",
      "\n",
      "Input:  /data/reddylab/Kuei/out/proj_combeffect_encode_fcc/results/comparison/comparison_local/cor_size_200bp_step_50bp/summary/cor.pLog2FC.combine.bed\n",
      "\n",
      "show first few lines of input\n",
      "chr8\t126735901\t126736101\t126736001\t0.296774023401668\t-0.926031965171654\t-0.268755028923739\n",
      "chr8\t126735951\t126736151\t126736051\t-0.718753798422289\t-0.927141285349486\t0.775338650893125\n",
      "chr8\t126736001\t126736201\t126736101\t-0.743443972036306\t-0.869901958520832\t0.85629679816812\n",
      "chr8\t126736051\t126736251\t126736151\t-0.569231268900811\t-0.576977059291819\t0.69347603497257\n",
      "chr8\t126736101\t126736301\t126736201\t-0.646754484322556\t0.416441168977568\t-0.230659536693714\n",
      "\n",
      "\n",
      "Output:  /data/reddylab/Kuei/out/proj_combeffect_encode_fcc/results/comparison/comparison_local/cor_size_200bp_step_50bp/summary/cor.pLog2FC.combine.windows.bed.gz\n",
      "\n",
      "show first few lines of output:\n",
      "chr8\t126778902\t126779728\tchr8_126778902_126779728\tMYC\tchr8\t126778751\t126778951\t126778851\t-0.470289761466708\t0.681495004315281\t-0.309461936943211\t49\n",
      "chr8\t126778902\t126779728\tchr8_126778902_126779728\tMYC\tchr8\t126778801\t126779001\t126778901\t-0.779147652966604\t0.171711258348627\t-0.0257331006202278\t99\n",
      "chr8\t126778902\t126779728\tchr8_126778902_126779728\tMYC\tchr8\t126778851\t126779051\t126778951\t-0.412882566741984\t-0.789106872910238\t-0.0197970330010345\t149\n",
      "chr8\t126778902\t126779728\tchr8_126778902_126779728\tMYC\tchr8\t126778901\t126779101\t126779001\t-0.530684962420224\t0.336190981435185\t-0.694519768438168\t199\n",
      "chr8\t126778902\t126779728\tchr8_126778902_126779728\tMYC\tchr8\t126778951\t126779151\t126779051\t-0.475534203056217\t0.248531916872468\t-0.732204702512269\t200\n",
      "\n",
      "\n",
      "Done!\n",
      "Run Time: 0 seconds\n"
     ]
    }
   ],
   "source": [
    "cat ${FD_LOG}/intersect_peaks_rolling_correlation.0.txt"
   ]
  },
  {
   "cell_type": "code",
   "execution_count": null,
   "id": "881d578d-6e27-4333-929a-000202467761",
   "metadata": {},
   "outputs": [],
   "source": []
  }
 ],
 "metadata": {
  "kernelspec": {
   "display_name": "Bash",
   "language": "bash",
   "name": "bash"
  },
  "language_info": {
   "codemirror_mode": "shell",
   "file_extension": ".sh",
   "mimetype": "text/x-sh",
   "name": "bash"
  }
 },
 "nbformat": 4,
 "nbformat_minor": 5
}
