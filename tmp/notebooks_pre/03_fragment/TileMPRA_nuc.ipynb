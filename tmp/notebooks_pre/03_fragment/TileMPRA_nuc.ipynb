{
 "cells": [
  {
   "cell_type": "markdown",
   "id": "92e0c62a-c4ec-4220-95b8-32749ffe833d",
   "metadata": {},
   "source": [
    "**Set environment**"
   ]
  },
  {
   "cell_type": "code",
   "execution_count": 1,
   "id": "704f70b2-dc81-4e17-8784-3e0fb3fe60ce",
   "metadata": {},
   "outputs": [
    {
     "name": "stdout",
     "output_type": "stream",
     "text": [
      "You are on Duke Server: HARDAC\n",
      "BASE DIRECTORY:     /gpfs/fs1/data/reddylab/Kuei\n",
      "PATH OF SOURCE:     /gpfs/fs1/data/reddylab/Kuei/source\n",
      "PATH OF EXECUTABLE: /gpfs/fs1/data/reddylab/Kuei/exe\n",
      "PATH OF ANNOTATION: /gpfs/fs1/data/reddylab/Kuei/annotation\n",
      "PATH OF PROJECT:    /gpfs/fs1/data/reddylab/Kuei/GitRepo/Proj_ENCODE_FCC/notebooks\n",
      "PATH OF RESULTS:    /gpfs/fs1/data/reddylab/Kuei/out/proj_encode_fcc\n",
      "\n"
     ]
    }
   ],
   "source": [
    "### set env\n",
    "source ../config_duke.sh -v\n",
    "source ../config_load_module_bedtools.sh"
   ]
  },
  {
   "cell_type": "code",
   "execution_count": 2,
   "id": "129a2771-c56b-4387-b54e-2e3fd521f80f",
   "metadata": {},
   "outputs": [
    {
     "name": "stdout",
     "output_type": "stream",
     "text": [
      "Tile_K562_20210130.GATA1.unstranded.bed\n"
     ]
    }
   ],
   "source": [
    "ls ${FD_RES}/Tewhey_K562_TileMPRA/fragment"
   ]
  },
  {
   "cell_type": "code",
   "execution_count": 6,
   "id": "c275b156-7c3b-45c5-ab14-7f509c109d9b",
   "metadata": {},
   "outputs": [
    {
     "name": "stdout",
     "output_type": "stream",
     "text": [
      "Submitted batch job 27845508\n"
     ]
    }
   ],
   "source": [
    "sbatch -p ${NODE} \\\n",
    "    --mem 20G \\\n",
    "    -o ${FD_LOG}/TileMPRA_fragment_nuc.txt \\\n",
    "    <<'EOF'\n",
    "#!/bin/bash\n",
    "### set directories & global variables\n",
    "source ../config_duke.sh\n",
    "CHROM=chrX\n",
    "\n",
    "### set input and output\n",
    "FD_BED=${FD_RES}/Tewhey_K562_TileMPRA/fragment\n",
    "FN_BED=Tile_K562_20210130.GATA1.unstranded.bed\n",
    "\n",
    "FD_OUT=${FD_RES}/Tewhey_K562_TileMPRA/fragment_nuc\n",
    "FN_OUT=${FN_BED}.gz\n",
    "\n",
    "### genome annotation\n",
    "FD_GEN=${FD_ANN}/genome/hg38/fasta\n",
    "FN_GEN=${CHROM}.fa\n",
    "\n",
    "### print start message\n",
    "timer_start=`date +%s`\n",
    "echo \"Slurm Array Index: \" ${SLURM_ARRAY_TASK_ID}\n",
    "echo \"Time Stamp:        \" $(date +\"%m-%d-%y+%T\")\n",
    "echo\n",
    "echo \"Input  file: \" ${FD_BED}/${FN_BED}\n",
    "echo \"Output file: \" ${FD_OUT}/${FN_OUT}\n",
    "echo\n",
    "echo \"Show the first few lines of the input file\"\n",
    "echo ${FD_BED}/${FN_BED}\n",
    "cat  ${FD_BED}/${FN_BED} | head -n 3 \n",
    "echo\n",
    "    \n",
    "### init: create output folder if not exist\n",
    "mkdir -p ${FD_OUT}\n",
    "\n",
    "### calculate the GC content of each fragment\n",
    "bedtools nuc \\\n",
    "    -fi  ${FD_GEN}/${FN_GEN} \\\n",
    "    -bed ${FD_BED}/${FN_BED} |\\\n",
    "    gzip -c > ${FD_OUT}/${FN_OUT}\n",
    "\n",
    "### print end message\n",
    "echo \"Show the first few lines of the output file\"\n",
    "echo ${FD_OUT}/${FN_OUT}\n",
    "zcat ${FD_OUT}/${FN_OUT} | head -n 3\n",
    "echo\n",
    "\n",
    "timer=`date +%s`\n",
    "runtime=$(echo \"${timer} - ${timer_start}\" | bc -l)\n",
    "echo\n",
    "echo 'Done!'\n",
    "echo \"Run Time: $(displaytime ${runtime})\"\n",
    "\n",
    "EOF"
   ]
  },
  {
   "cell_type": "code",
   "execution_count": 7,
   "id": "407ef4f8-60fe-4e5b-a6ee-61060bc165a0",
   "metadata": {},
   "outputs": [
    {
     "name": "stdout",
     "output_type": "stream",
     "text": [
      "Slurm Array Index: \n",
      "Time Stamp:         03-23-22+11:00:42\n",
      "\n",
      "Input  file:  /gpfs/fs1/data/reddylab/Kuei/out/proj_encode_fcc/Tewhey_K562_TileMPRA/fragment/Tile_K562_20210130.GATA1.unstranded.bed\n",
      "Output file:  /gpfs/fs1/data/reddylab/Kuei/out/proj_encode_fcc/Tewhey_K562_TileMPRA/fragment_nuc/Tile_K562_20210130.GATA1.unstranded.bed.gz\n",
      "\n",
      "Show the first few lines of the input file\n",
      "/gpfs/fs1/data/reddylab/Kuei/out/proj_encode_fcc/Tewhey_K562_TileMPRA/fragment/Tile_K562_20210130.GATA1.unstranded.bed\n",
      "chrX\t47786401\t47786600\tX:47786401-47786600\n",
      "chrX\t47786451\t47786650\tX:47786451-47786650\n",
      "chrX\t47786501\t47786700\tX:47786501-47786700\n",
      "\n",
      "Show the first few lines of the output file\n",
      "/gpfs/fs1/data/reddylab/Kuei/out/proj_encode_fcc/Tewhey_K562_TileMPRA/fragment_nuc/Tile_K562_20210130.GATA1.unstranded.bed.gz\n",
      "#1_usercol\t2_usercol\t3_usercol\t4_usercol\t5_pct_at\t6_pct_gc\t7_num_A\t8_num_C\t9_num_G\t10_num_T\t11_num_N\t12_num_oth\t13_seq_len\n",
      "chrX\t47786401\t47786600\tX:47786401-47786600\t0.668342\t0.331658\t33\t27\t39\t100\t0\t0\t199\n",
      "chrX\t47786451\t47786650\tX:47786451-47786650\t0.658291\t0.341709\t36\t30\t38\t95\t0\t0\t199\n",
      "\n",
      "\n",
      "Done!\n",
      "Run Time: 0 seconds\n"
     ]
    }
   ],
   "source": [
    "cat ${FD_LOG}/TileMPRA_fragment_nuc.txt"
   ]
  },
  {
   "cell_type": "code",
   "execution_count": null,
   "id": "6099f384-90d9-4440-877b-6f10faca0350",
   "metadata": {},
   "outputs": [],
   "source": []
  }
 ],
 "metadata": {
  "kernelspec": {
   "display_name": "Bash",
   "language": "bash",
   "name": "bash"
  },
  "language_info": {
   "codemirror_mode": "shell",
   "file_extension": ".sh",
   "mimetype": "text/x-sh",
   "name": "bash"
  }
 },
 "nbformat": 4,
 "nbformat_minor": 5
}
