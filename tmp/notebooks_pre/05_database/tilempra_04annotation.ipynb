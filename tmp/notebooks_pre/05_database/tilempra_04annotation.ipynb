{
 "cells": [
  {
   "cell_type": "markdown",
   "id": "8b8156ba-ca84-43bc-a9bb-d04e2dca57be",
   "metadata": {},
   "source": [
    "**Set environment**"
   ]
  },
  {
   "cell_type": "code",
   "execution_count": 1,
   "id": "03e0adaf-ddb3-48be-b06e-4a85b99e5d61",
   "metadata": {},
   "outputs": [
    {
     "name": "stdout",
     "output_type": "stream",
     "text": [
      "You are on Duke Server: HARDAC\n",
      "BASE DIRECTORY:     /gpfs/fs1/data/reddylab/Kuei\n",
      "PATH OF SOURCE:     /gpfs/fs1/data/reddylab/Kuei/source\n",
      "PATH OF EXECUTABLE: /gpfs/fs1/data/reddylab/Kuei/exe\n",
      "PATH OF ANNOTATION: /gpfs/fs1/data/reddylab/Kuei/annotation\n",
      "PATH OF PROJECT:    /gpfs/fs1/data/reddylab/Kuei/GitRepo/Proj_ENCODE_FCC/notebooks\n",
      "PATH OF RESULTS:    /gpfs/fs1/data/reddylab/Kuei/out/proj_encode_fcc\n",
      "\n"
     ]
    }
   ],
   "source": [
    "source ../config_duke.sh -v"
   ]
  },
  {
   "cell_type": "code",
   "execution_count": 2,
   "id": "20b90d4d-ff27-4b22-8a60-e178f1046256",
   "metadata": {},
   "outputs": [
    {
     "name": "stdout",
     "output_type": "stream",
     "text": [
      "\u001b[0m\u001b[38;5;9mTile_K562_20210130.GATA1.unstranded.bed.gz\u001b[0m\n",
      "\u001b[38;5;9mTile_K562_20210130.GATA1.unstranded.bed_tmp.gz\u001b[0m\n"
     ]
    }
   ],
   "source": [
    "ls ${FD_RES}/Tewhey_K562_TileMPRA/annotation"
   ]
  },
  {
   "cell_type": "code",
   "execution_count": 3,
   "id": "eadc26c1-7cbe-41a0-acfb-0ef04f839a9e",
   "metadata": {},
   "outputs": [
    {
     "name": "stdout",
     "output_type": "stream",
     "text": [
      "chrX\t47786401\t47786600\tX:47786401-47786600\tchrX\t47786401\t47786418\tKLF/SP/2\t6.7001\t17\n",
      "chrX\t47786401\t47786600\tX:47786401-47786600\tchrX\t47786424\t47786443\tZNF28\t8.2497\t19\n",
      "chrX\t47786401\t47786600\tX:47786401-47786600\tchrX\t47786449\t47786459\tFOX/4\t8.4743\t10\n",
      "chrX\t47786401\t47786600\tX:47786401-47786600\tchrX\t47786460\t47786481\tZNF382\t7.8726\t21\n",
      "chrX\t47786401\t47786600\tX:47786401-47786600\tchrX\t47786461\t47786483\tZNF136\t2.6078\t22\n",
      "chrX\t47786401\t47786600\tX:47786401-47786600\tchrX\t47786479\t47786501\tZNF41\t7.1286\t22\n",
      "chrX\t47786401\t47786600\tX:47786401-47786600\tchrX\t47786487\t47786499\tIRF/1\t5.3024\t12\n",
      "chrX\t47786401\t47786600\tX:47786401-47786600\tchrX\t47786499\t47786513\tRUNX/2\t8.9312\t14\n",
      "chrX\t47786401\t47786600\tX:47786401-47786600\tchrX\t47786499\t47786518\tZNF320\t5.6607\t19\n",
      "chrX\t47786401\t47786600\tX:47786401-47786600\tchrX\t47786500\t47786521\tZNF382\t16.7936\t21\n",
      "\n",
      "gzip: stdout: Broken pipe\n"
     ]
    }
   ],
   "source": [
    "zcat ${FD_RES}/Tewhey_K562_TileMPRA/annotation/Tile_K562_20210130.GATA1.unstranded.bed.gz | head"
   ]
  },
  {
   "cell_type": "markdown",
   "id": "d7d38052-7997-4495-be88-ad5fb3d92597",
   "metadata": {},
   "source": [
    "## Run"
   ]
  },
  {
   "cell_type": "code",
   "execution_count": 16,
   "id": "de331637-f0e3-47ac-9f9d-644e3502f32e",
   "metadata": {},
   "outputs": [
    {
     "name": "stdout",
     "output_type": "stream",
     "text": [
      "Submitted batch job 27859565\n"
     ]
    }
   ],
   "source": [
    "sbatch -p ${NODE} \\\n",
    "    --mem 10G \\\n",
    "    -o ${FD_LOG}/TileMPRA_database_gata1_annotation.txt \\\n",
    "    <<'EOF'\n",
    "#!/bin/bash\n",
    "### set directories & global variables\n",
    "source ../config_duke.sh\n",
    "\n",
    "### print start message\n",
    "timer_start=`date +%s`\n",
    "echo \"Slurm Array Index: \" ${SLURM_ARRAY_TASK_ID}\n",
    "echo \"Time Stamp:        \" $(date +\"%m-%d-%y+%T\")\n",
    "echo\n",
    "\n",
    "### execution\n",
    "${FD_PRJ}/sing_proj_encode_fcc.sh python tilempra_gata1_table_annotation.py\n",
    "\n",
    "### print end message\n",
    "timer=`date +%s`\n",
    "runtime=$(echo \"${timer} - ${timer_start}\" | bc -l)\n",
    "echo\n",
    "echo 'Done!'\n",
    "echo \"Run Time: $(displaytime ${runtime})\"\n",
    "\n",
    "EOF"
   ]
  },
  {
   "cell_type": "markdown",
   "id": "f5b3281c-7eb1-43c8-abf6-ecbc62955567",
   "metadata": {},
   "source": [
    "## Check"
   ]
  },
  {
   "cell_type": "code",
   "execution_count": 17,
   "id": "f033bc23-be60-4a45-b512-c93c0bfd6fa0",
   "metadata": {},
   "outputs": [
    {
     "name": "stdout",
     "output_type": "stream",
     "text": [
      "Slurm Array Index: \n",
      "Time Stamp:         03-25-22+16:45:56\n",
      "\n",
      "You are on Duke Server: Singularity: Proj ENCODE FCC\n",
      "BASE DIRECTORY:     /mount/work\n",
      "PATH OF SOURCE:     /mount/work/source\n",
      "PATH OF EXECUTABLE: /mount/work/exe\n",
      "PATH OF ANNOTATION: /mount/work/annotation\n",
      "PATH OF PROJECT:    /mount/project\n",
      "PATH OF RESULTS:    /mount/work/out/proj_encode_fcc\n",
      "\n",
      "Global variables:\n",
      "Database:        /mount/work/out/proj_encode_fcc/Tewhey_K562_TileMPRA/database/fragment_tilempra_gata1.db\n",
      "Table directory: /mount/work/out/proj_encode_fcc/Tewhey_K562_TileMPRA/annotation\n",
      "Table file name: Tile_K562_20210130.GATA1.unstranded.bed.gz\n",
      "\n",
      "/mount/work/out/proj_encode_fcc/Tewhey_K562_TileMPRA/annotation/Tile_K562_20210130.GATA1.unstranded.bed.gz\n",
      "# Rows: 2300625\n",
      "\n",
      "# Rows (Total): 2300625\n",
      "Create index...\n",
      "Done!\n",
      "\n",
      "#Rows Table: [(2300625,)]\n",
      "('chrX_47786401_47786600', 'chrX_47786401_47786418_KLF/SP/2')\n",
      "('chrX_47786401_47786600', 'chrX_47786424_47786443_ZNF28')\n",
      "('chrX_47786401_47786600', 'chrX_47786449_47786459_FOX/4')\n",
      "('chrX_47786401_47786600', 'chrX_47786460_47786481_ZNF382')\n",
      "('chrX_47786401_47786600', 'chrX_47786461_47786483_ZNF136')\n",
      "('chrX_47786401_47786600', 'chrX_47786479_47786501_ZNF41')\n",
      "('chrX_47786401_47786600', 'chrX_47786487_47786499_IRF/1')\n",
      "('chrX_47786401_47786600', 'chrX_47786499_47786513_RUNX/2')\n",
      "('chrX_47786401_47786600', 'chrX_47786499_47786518_ZNF320')\n",
      "('chrX_47786401_47786600', 'chrX_47786500_47786521_ZNF382')\n",
      "\n",
      "Done!\n",
      "Run Time: 19 seconds\n"
     ]
    }
   ],
   "source": [
    "cat ${FD_LOG}/TileMPRA_database_gata1_annotation.txt"
   ]
  },
  {
   "cell_type": "code",
   "execution_count": 9,
   "id": "94c38a8a-0ff3-4723-8333-79abe44e9fd0",
   "metadata": {},
   "outputs": [
    {
     "name": "stdout",
     "output_type": "stream",
     "text": [
      "Slurm Array Index: \n",
      "Time Stamp:         03-25-22+16:41:26\n",
      "\n",
      "You are on Duke Server: Singularity: Proj ENCODE FCC\n",
      "BASE DIRECTORY:     /mount/work\n",
      "PATH OF SOURCE:     /mount/work/source\n",
      "PATH OF EXECUTABLE: /mount/work/exe\n",
      "PATH OF ANNOTATION: /mount/work/annotation\n",
      "PATH OF PROJECT:    /mount/project\n",
      "PATH OF RESULTS:    /mount/work/out/proj_encode_fcc\n",
      "\n",
      "Global variables:\n",
      "Database:        /mount/work/out/proj_encode_fcc/Tewhey_K562_TileMPRA/database/fragment_tilempra_gata1.db\n",
      "Table directory: /mount/work/out/proj_encode_fcc/Tewhey_K562_TileMPRA/annotation\n",
      "Table file name: Tile_K562_20210130.GATA1.unstranded.bed.gz\n",
      "\n",
      "/mount/work/out/proj_encode_fcc/Tewhey_K562_TileMPRA/annotation/Tile_K562_20210130.GATA1.unstranded.bed.gz\n",
      "(True, 'chrX_47786401_47786600', 'chrX_47786401_47786418_KLF/SP/2')\n",
      "(True, 'chrX_47786401_47786600', 'chrX_47786424_47786443_ZNF28')\n",
      "(True, 'chrX_47786401_47786600', 'chrX_47786449_47786459_FOX/4')\n",
      "+++++++++++++++\n",
      "(True, 'chrX_47786401_47786600', 'chrX_47786460_47786481_ZNF382')\n",
      "(True, 'chrX_47786401_47786600', 'chrX_47786461_47786483_ZNF136')\n",
      "(True, 'chrX_47786401_47786600', 'chrX_47786479_47786501_ZNF41')\n",
      "+++++++++++++++\n",
      "(True, 'chrX_47786401_47786600', 'chrX_47786487_47786499_IRF/1')\n",
      "(True, 'chrX_47786401_47786600', 'chrX_47786499_47786513_RUNX/2')\n",
      "(True, 'chrX_47786401_47786600', 'chrX_47786499_47786518_ZNF320')\n",
      "+++++++++++++++\n",
      "(True, 'chrX_47786401_47786600', 'chrX_47786500_47786521_ZNF382')\n",
      "+++++++++++++++\n",
      "# Rows: 10\n",
      "\n",
      "# Rows (Total): 10\n",
      "Create index...\n",
      "Done!\n",
      "\n",
      "#Rows Table: [(0,)]\n",
      "\n",
      "Done!\n",
      "Run Time: 3 seconds\n"
     ]
    }
   ],
   "source": [
    "cat ${FD_LOG}/TileMPRA_database_gata1_annotation.txt"
   ]
  },
  {
   "cell_type": "code",
   "execution_count": null,
   "id": "35aedc6c-7da7-4637-b938-790c6ea49eaa",
   "metadata": {},
   "outputs": [],
   "source": []
  }
 ],
 "metadata": {
  "kernelspec": {
   "display_name": "Bash",
   "language": "bash",
   "name": "bash"
  },
  "language_info": {
   "codemirror_mode": "shell",
   "file_extension": ".sh",
   "mimetype": "text/x-sh",
   "name": "bash"
  }
 },
 "nbformat": 4,
 "nbformat_minor": 5
}
