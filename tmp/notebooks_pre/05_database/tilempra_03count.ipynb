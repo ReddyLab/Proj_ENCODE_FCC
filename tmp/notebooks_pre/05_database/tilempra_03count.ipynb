{
 "cells": [
  {
   "cell_type": "markdown",
   "id": "9856d7cb-93c0-4d27-89f4-c4b5068b2eeb",
   "metadata": {},
   "source": [
    "**Set environment**"
   ]
  },
  {
   "cell_type": "code",
   "execution_count": 1,
   "id": "3928bb44-db0b-44a5-8e4b-f3d63f097b54",
   "metadata": {},
   "outputs": [
    {
     "name": "stdout",
     "output_type": "stream",
     "text": [
      "You are on Duke Server: HARDAC\n",
      "BASE DIRECTORY:     /gpfs/fs1/data/reddylab/Kuei\n",
      "PATH OF SOURCE:     /gpfs/fs1/data/reddylab/Kuei/source\n",
      "PATH OF EXECUTABLE: /gpfs/fs1/data/reddylab/Kuei/exe\n",
      "PATH OF ANNOTATION: /gpfs/fs1/data/reddylab/Kuei/annotation\n",
      "PATH OF PROJECT:    /gpfs/fs1/data/reddylab/Kuei/GitRepo/Proj_ENCODE_FCC/notebooks\n",
      "PATH OF RESULTS:    /gpfs/fs1/data/reddylab/Kuei/out/proj_encode_fcc\n",
      "\n"
     ]
    }
   ],
   "source": [
    "source ../config_duke.sh -v"
   ]
  },
  {
   "cell_type": "code",
   "execution_count": 5,
   "id": "edd7c995-d537-4665-96d4-8063af054c80",
   "metadata": {},
   "outputs": [
    {
     "name": "stdout",
     "output_type": "stream",
     "text": [
      "ENCFF348WYK.Ahituv.lentiMPRA.MYC.bed\n",
      "ENCFF348WYK.bed\n",
      "ENCFF348WYK.GATA1.bed\n",
      "ENCFF348WYK.MYC.bed\n",
      "files_to_upload.tsv\n",
      "GATA-MYC_Tile_K562_K562_20210130.hg38.bed\n",
      "GATA-MYC_Tile_K562_K562_20210130.hg38.cleaned.bed\n",
      "GATA-MYC_Tile_K562_K562_20210130.hg38.cleaned.GATA1.bed\n",
      "GATA-MYC_Tile_K562_K562_20210130.hg38.cleaned.GATA1.in_astarr_de_frags.bed\n",
      "GATA-MYC_Tile_K562_K562_20210130.hg38.cleaned.MYC.bed\n"
     ]
    }
   ],
   "source": [
    "ls ${FD_RES}/source/mpra"
   ]
  },
  {
   "cell_type": "code",
   "execution_count": 6,
   "id": "9ff2b75f-946a-480e-bfe0-16087ec38492",
   "metadata": {},
   "outputs": [
    {
     "name": "stdout",
     "output_type": "stream",
     "text": [
      "chr\tstart\tstop\tid\tscore\tstrand\tlog2fc\tinput-count\toutput-count\tlog10pval\tlog10fdr\tlfc-se\n",
      "1\tNA\tNA\t1:10437778:C:T:R:wC\t.\t+\t2.38642090193675\t883.092934703281\t4616.08256005733\t106.737138191871\t105.572680362196\t0.108372623188431\n",
      "1\tNA\tNA\t1:10451799:C:T:R:wC\t.\t+\t0.163269738241717\t404.448967317715\t452.617975315935\t0.695386164226944\t0.506974721975921\t0.127869739155127\n"
     ]
    }
   ],
   "source": [
    "head -3 ${FD_RES}/source/mpra/GATA-MYC_Tile_K562_K562_20210130.hg38.bed"
   ]
  },
  {
   "cell_type": "code",
   "execution_count": 2,
   "id": "2239b234-92c2-4a15-aceb-db07a4c0cdc4",
   "metadata": {},
   "outputs": [
    {
     "name": "stdout",
     "output_type": "stream",
     "text": [
      "Tile_K562_20210130.GATA1.unstranded.bed\n"
     ]
    }
   ],
   "source": [
    "ls ${FD_RES}/Tewhey_K562_TileMPRA/count"
   ]
  },
  {
   "cell_type": "code",
   "execution_count": 3,
   "id": "5e025823-aa67-40d9-8903-bbbb42f0c20d",
   "metadata": {},
   "outputs": [
    {
     "name": "stdout",
     "output_type": "stream",
     "text": [
      "chrX\t47786401\t47786600\tX:47786401-47786600\t.\t+\t2.30593934460149\t2117.78684083014\t10474.868702612\t112.11265261617\t110.931130790033\t0.102147903305184\n",
      "chrX\t47786451\t47786650\tX:47786451-47786650\t.\t+\t0.783056057422144\t1386.00739237509\t2387.11896574661\t11.3173883956403\t10.6425168461249\t0.113307047070907\n",
      "chrX\t47786501\t47786700\tX:47786501-47786700\t.\t+\t-0.128731962724311\t1955.62553108109\t1788.23614005802\t0.845069660219201\t0.628722618349189\t0.0878596785422427\n",
      "chrX\t47786551\t47786750\tX:47786551-47786750\t.\t+\t0.588295148181817\t2388.99664261419\t3591.26381774846\t11.2404554080035\t10.5666788666818\t0.0854366059937647\n",
      "chrX\t47786601\t47786800\tX:47786601-47786800\t.\t+\t0.0667001449192146\t2102.91633517956\t2202.38454860936\t0.309589962802377\t0.21047015199996\t0.096677408925751\n",
      "chrX\t47786651\t47786850\tX:47786651-47786850\t.\t+\t-0.0296770285855712\t1571.25883312174\t1537.47500511577\t0.10093990529751\t0.0645309864135248\t0.11287405577848\n",
      "chrX\t47786701\t47786900\tX:47786701-47786900\t.\t+\t-0.14075229487499\t1203.48578659625\t1091.84377528483\t0.825108335723858\t0.612237990840887\t0.0976771932403185\n",
      "chrX\t47786751\t47786950\tX:47786751-47786950\t.\t+\t-0.0885922350756983\t353.512101989425\t332.442633189546\t0.253160744492879\t0.1696398049799\t0.151330371648385\n",
      "chrX\t47786801\t47787000\tX:47786801-47787000\t.\t+\t0.0391523438172218\t579.598940974745\t594.330606996562\t0.0990177524483432\t0.0632252218092235\t0.151540085938414\n",
      "chrX\t47786851\t47787050\tX:47786851-47787050\t.\t+\t-0.180031837594759\t1441.753500779\t1272.18932724085\t0.993521192614518\t0.751361305586954\t0.109935692261477\n"
     ]
    }
   ],
   "source": [
    "head ${FD_RES}/Tewhey_K562_TileMPRA/count/Tile_K562_20210130.GATA1.unstranded.bed"
   ]
  },
  {
   "cell_type": "markdown",
   "id": "feda6352-7a62-462f-8b64-a0053be925f7",
   "metadata": {
    "tags": []
   },
   "source": [
    "## Run"
   ]
  },
  {
   "cell_type": "code",
   "execution_count": 17,
   "id": "c54c46e5-ce71-4430-976a-4c38634620ea",
   "metadata": {},
   "outputs": [
    {
     "name": "stdout",
     "output_type": "stream",
     "text": [
      "Submitted batch job 27859557\n"
     ]
    }
   ],
   "source": [
    "sbatch -p ${NODE} \\\n",
    "    --mem 10G \\\n",
    "    -o ${FD_LOG}/TileMPRA_database_gata1_count.txt \\\n",
    "    <<'EOF'\n",
    "#!/bin/bash\n",
    "### set directories & global variables\n",
    "source ../config_duke.sh\n",
    "\n",
    "### print start message\n",
    "timer_start=`date +%s`\n",
    "echo \"Slurm Array Index: \" ${SLURM_ARRAY_TASK_ID}\n",
    "echo \"Time Stamp:        \" $(date +\"%m-%d-%y+%T\")\n",
    "echo\n",
    "\n",
    "### execution\n",
    "${FD_PRJ}/sing_proj_encode_fcc.sh python tilempra_gata1_table_count.py\n",
    "\n",
    "### print end message\n",
    "timer=`date +%s`\n",
    "runtime=$(echo \"${timer} - ${timer_start}\" | bc -l)\n",
    "echo\n",
    "echo 'Done!'\n",
    "echo \"Run Time: $(displaytime ${runtime})\"\n",
    "\n",
    "EOF"
   ]
  },
  {
   "cell_type": "markdown",
   "id": "5731505b-6bb9-431c-8fe8-b4a302b8e7a8",
   "metadata": {},
   "source": [
    "## Check"
   ]
  },
  {
   "cell_type": "code",
   "execution_count": 18,
   "id": "beb9f161-33be-428a-8460-59905dc92df6",
   "metadata": {},
   "outputs": [
    {
     "name": "stdout",
     "output_type": "stream",
     "text": [
      "Slurm Array Index: \n",
      "Time Stamp:         03-25-22+16:03:56\n",
      "\n",
      "You are on Duke Server: Singularity: Proj ENCODE FCC\n",
      "BASE DIRECTORY:     /mount/work\n",
      "PATH OF SOURCE:     /mount/work/source\n",
      "PATH OF EXECUTABLE: /mount/work/exe\n",
      "PATH OF ANNOTATION: /mount/work/annotation\n",
      "PATH OF PROJECT:    /mount/project\n",
      "PATH OF RESULTS:    /mount/work/out/proj_encode_fcc\n",
      "\n",
      "Global variables:\n",
      "Database:        /mount/work/out/proj_encode_fcc/Tewhey_K562_TileMPRA/database/fragment_tilempra_gata1.db\n",
      "Table directory: /mount/work/out/proj_encode_fcc/Tewhey_K562_TileMPRA/count\n",
      "Table file name: Tile_K562_20210130.GATA1.unstranded.bed\n",
      "\n",
      "/mount/work/out/proj_encode_fcc/Tewhey_K562_TileMPRA/count/Tile_K562_20210130.GATA1.unstranded.bed\n",
      "# Rows: 52312\n",
      "\n",
      "# Rows (Total): 52312\n",
      "#Rows Table: [(52312,)]\n",
      "Show the first 10 lines in the table:\n",
      "('chrX_47786401_47786600', 2.30593934460149, 2117.78684083014, 10474.868702612, 112.11265261617, 110.931130790033, 0.102147903305184)\n",
      "('chrX_47786451_47786650', 0.783056057422144, 1386.00739237509, 2387.11896574661, 11.3173883956403, 10.6425168461249, 0.113307047070907)\n",
      "('chrX_47786501_47786700', -0.128731962724311, 1955.62553108109, 1788.23614005802, 0.845069660219201, 0.628722618349189, 0.0878596785422427)\n",
      "('chrX_47786551_47786750', 0.588295148181817, 2388.99664261419, 3591.26381774846, 11.2404554080035, 10.5666788666818, 0.0854366059937647)\n",
      "('chrX_47786601_47786800', 0.0667001449192146, 2102.91633517956, 2202.38454860936, 0.309589962802377, 0.21047015199996, 0.096677408925751)\n",
      "('chrX_47786651_47786850', -0.0296770285855712, 1571.25883312174, 1537.47500511577, 0.10093990529751, 0.0645309864135248, 0.11287405577848)\n",
      "('chrX_47786701_47786900', -0.14075229487499, 1203.48578659625, 1091.84377528483, 0.825108335723858, 0.612237990840887, 0.0976771932403185)\n",
      "('chrX_47786751_47786950', -0.0885922350756983, 353.512101989425, 332.442633189546, 0.253160744492879, 0.1696398049799, 0.151330371648385)\n",
      "('chrX_47786801_47787000', 0.0391523438172218, 579.598940974745, 594.330606996562, 0.0990177524483432, 0.0632252218092235, 0.151540085938414)\n",
      "('chrX_47786851_47787050', -0.180031837594759, 1441.753500779, 1272.18932724085, 0.993521192614518, 0.751361305586954, 0.109935692261477)\n",
      "\n",
      "Done!\n",
      "Run Time: 3 seconds\n"
     ]
    }
   ],
   "source": [
    "cat ${FD_LOG}/TileMPRA_database_gata1_count.txt"
   ]
  },
  {
   "cell_type": "code",
   "execution_count": null,
   "id": "6d8bac95-96a4-4b6e-9ba5-93ada1a75b6b",
   "metadata": {},
   "outputs": [],
   "source": []
  }
 ],
 "metadata": {
  "kernelspec": {
   "display_name": "Bash",
   "language": "bash",
   "name": "bash"
  },
  "language_info": {
   "codemirror_mode": "shell",
   "file_extension": ".sh",
   "mimetype": "text/x-sh",
   "name": "bash"
  }
 },
 "nbformat": 4,
 "nbformat_minor": 5
}
