{
 "cells": [
  {
   "cell_type": "markdown",
   "id": "32610c6a-d52b-40ae-aeb9-c61d6e295bc3",
   "metadata": {},
   "source": [
    "**Set environment**"
   ]
  },
  {
   "cell_type": "code",
   "execution_count": 1,
   "id": "8fb6be2e-8f15-40a2-8c1b-57c240a22873",
   "metadata": {},
   "outputs": [
    {
     "name": "stdout",
     "output_type": "stream",
     "text": [
      "You are on Duke Server: HARDAC\n",
      "BASE DIRECTORY:     /gpfs/fs1/data/reddylab/Kuei\n",
      "PATH OF SOURCE:     /gpfs/fs1/data/reddylab/Kuei/source\n",
      "PATH OF EXECUTABLE: /gpfs/fs1/data/reddylab/Kuei/exe\n",
      "PATH OF ANNOTATION: /gpfs/fs1/data/reddylab/Kuei/annotation\n",
      "PATH OF PROJECT:    /gpfs/fs1/data/reddylab/Kuei/GitRepo/Proj_ENCODE_FCC/notebooks\n",
      "PATH OF RESULTS:    /gpfs/fs1/data/reddylab/Kuei/out/proj_encode_fcc\n",
      "\n"
     ]
    }
   ],
   "source": [
    "source ../config_duke.sh -v"
   ]
  },
  {
   "cell_type": "code",
   "execution_count": 2,
   "id": "a08482a2-7199-4ba8-9d35-d4fadb1288cf",
   "metadata": {},
   "outputs": [],
   "source": [
    "source ../config_load_module_bedtools.sh"
   ]
  },
  {
   "cell_type": "code",
   "execution_count": 3,
   "id": "d0704638-d901-4515-896f-ce6379d53760",
   "metadata": {},
   "outputs": [
    {
     "name": "stdout",
     "output_type": "stream",
     "text": [
      "bedtools v2.25.0\n"
     ]
    }
   ],
   "source": [
    "bedtools -version"
   ]
  },
  {
   "cell_type": "markdown",
   "id": "329c05cb-31e7-4f8e-ad76-03ab7d5f3625",
   "metadata": {},
   "source": [
    "## Test"
   ]
  },
  {
   "cell_type": "code",
   "execution_count": 11,
   "id": "a559ff39-bc9a-4801-8fd2-4b42df30d185",
   "metadata": {},
   "outputs": [],
   "source": [
    "TAB=\"$(printf '\\t')\""
   ]
  },
  {
   "cell_type": "code",
   "execution_count": 25,
   "id": "9b864a07-337b-40ab-83d4-fa8d5a2c24f5",
   "metadata": {},
   "outputs": [],
   "source": [
    "cat > A.bed << EOF\n",
    "chr1${TAB}05${TAB}50\n",
    "EOF\n",
    "\n",
    "cat > B.bed << EOF\n",
    "chr1${TAB}10${TAB}20\n",
    "chr1${TAB}15${TAB}40\n",
    "EOF"
   ]
  },
  {
   "cell_type": "code",
   "execution_count": 29,
   "id": "f58f8d2c-f7ca-4446-a458-044f84e5d22f",
   "metadata": {},
   "outputs": [
    {
     "name": "stdout",
     "output_type": "stream",
     "text": [
      "chr1\t05\t50\n"
     ]
    }
   ],
   "source": [
    "### region\n",
    "cat A.bed"
   ]
  },
  {
   "cell_type": "code",
   "execution_count": 30,
   "id": "aafdbf6f-638c-4108-a2a7-11715fb81d0f",
   "metadata": {},
   "outputs": [
    {
     "name": "stdout",
     "output_type": "stream",
     "text": [
      "chr1\t10\t20\n",
      "chr1\t15\t40\n"
     ]
    }
   ],
   "source": [
    "### fragments\n",
    "cat B.bed"
   ]
  },
  {
   "cell_type": "code",
   "execution_count": 28,
   "id": "8b18bff8-18f4-49f9-8b13-3597b6aee9d9",
   "metadata": {},
   "outputs": [
    {
     "name": "stdout",
     "output_type": "stream",
     "text": [
      "chr1\t5\t50\t1\t0\n",
      "chr1\t5\t50\t2\t0\n",
      "chr1\t5\t50\t3\t0\n",
      "chr1\t5\t50\t4\t0\n",
      "chr1\t5\t50\t5\t0\n",
      "chr1\t5\t50\t6\t1\n",
      "chr1\t5\t50\t7\t1\n",
      "chr1\t5\t50\t8\t1\n",
      "chr1\t5\t50\t9\t1\n",
      "chr1\t5\t50\t10\t1\n",
      "chr1\t5\t50\t11\t2\n",
      "chr1\t5\t50\t12\t2\n",
      "chr1\t5\t50\t13\t2\n",
      "chr1\t5\t50\t14\t2\n",
      "chr1\t5\t50\t15\t2\n",
      "chr1\t5\t50\t16\t1\n",
      "chr1\t5\t50\t17\t1\n",
      "chr1\t5\t50\t18\t1\n",
      "chr1\t5\t50\t19\t1\n",
      "chr1\t5\t50\t20\t1\n",
      "chr1\t5\t50\t21\t1\n",
      "chr1\t5\t50\t22\t1\n",
      "chr1\t5\t50\t23\t1\n",
      "chr1\t5\t50\t24\t1\n",
      "chr1\t5\t50\t25\t1\n",
      "chr1\t5\t50\t26\t1\n",
      "chr1\t5\t50\t27\t1\n",
      "chr1\t5\t50\t28\t1\n",
      "chr1\t5\t50\t29\t1\n",
      "chr1\t5\t50\t30\t1\n",
      "chr1\t5\t50\t31\t1\n",
      "chr1\t5\t50\t32\t1\n",
      "chr1\t5\t50\t33\t1\n",
      "chr1\t5\t50\t34\t1\n",
      "chr1\t5\t50\t35\t1\n",
      "chr1\t5\t50\t36\t0\n",
      "chr1\t5\t50\t37\t0\n",
      "chr1\t5\t50\t38\t0\n",
      "chr1\t5\t50\t39\t0\n",
      "chr1\t5\t50\t40\t0\n",
      "chr1\t5\t50\t41\t0\n",
      "chr1\t5\t50\t42\t0\n",
      "chr1\t5\t50\t43\t0\n",
      "chr1\t5\t50\t44\t0\n",
      "chr1\t5\t50\t45\t0\n"
     ]
    }
   ],
   "source": [
    "bedtools coverage -a A.bed -b B.bed -d"
   ]
  },
  {
   "cell_type": "code",
   "execution_count": null,
   "id": "7decd038-64e1-4103-abdb-9ee12e818715",
   "metadata": {},
   "outputs": [],
   "source": []
  }
 ],
 "metadata": {
  "kernelspec": {
   "display_name": "Bash",
   "language": "bash",
   "name": "bash"
  },
  "language_info": {
   "codemirror_mode": "shell",
   "file_extension": ".sh",
   "mimetype": "text/x-sh",
   "name": "bash"
  }
 },
 "nbformat": 4,
 "nbformat_minor": 5
}
