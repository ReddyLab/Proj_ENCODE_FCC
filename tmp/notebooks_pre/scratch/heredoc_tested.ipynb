{
 "cells": [
  {
   "cell_type": "code",
   "execution_count": 1,
   "id": "d9c4f89f-9cc7-4fb4-bcff-926517045d34",
   "metadata": {},
   "outputs": [
    {
     "name": "stdout",
     "output_type": "stream",
     "text": [
      "Hello from level 1\n",
      "    cat <<EOF2\n",
      "    Hello from level 2\n",
      "    EOF2\n"
     ]
    }
   ],
   "source": [
    "cat <<EOF1\n",
    "Hello from level 1\n",
    "    cat <<EOF2\n",
    "    Hello from level 2\n",
    "    EOF2\n",
    "EOF1"
   ]
  },
  {
   "cell_type": "code",
   "execution_count": 2,
   "id": "d69301ba-40a7-47c3-b9dd-6383c6491293",
   "metadata": {},
   "outputs": [
    {
     "name": "stdout",
     "output_type": "stream",
     "text": [
      "Hello from level 1\n",
      "    cat <<-EOF2\n",
      "    Hello from level 2\n",
      "    EOF2\n"
     ]
    }
   ],
   "source": [
    "cat <<-EOF1\n",
    "Hello from level 1\n",
    "    cat <<-EOF2\n",
    "    Hello from level 2\n",
    "    EOF2\n",
    "EOF1"
   ]
  },
  {
   "cell_type": "code",
   "execution_count": 3,
   "id": "f398cefd-212a-4c68-9761-77870c0d7f5a",
   "metadata": {},
   "outputs": [
    {
     "name": "stdout",
     "output_type": "stream",
     "text": [
      "FOO=foo\n",
      "BAR=\n"
     ]
    }
   ],
   "source": [
    "FOO=\"foo\"\n",
    "/bin/bash << EOF1\n",
    "BAR=\"bar\"\n",
    "echo \"FOO=$FOO\"\n",
    "echo \"BAR=$BAR\"\n",
    "EOF1"
   ]
  },
  {
   "cell_type": "markdown",
   "id": "e61b59e9-8d77-4c09-a4ac-3480c0c865ec",
   "metadata": {},
   "source": [
    "quote prevent the local expansion"
   ]
  },
  {
   "cell_type": "code",
   "execution_count": 4,
   "id": "0d9ed19f-4956-4f59-bdf0-e4d37ab6306a",
   "metadata": {},
   "outputs": [
    {
     "name": "stdout",
     "output_type": "stream",
     "text": [
      "FOO=\n",
      "BAR=bar\n"
     ]
    }
   ],
   "source": [
    "FOO=\"foo\"\n",
    "/bin/bash << 'EOF'\n",
    "BAR=\"bar\"\n",
    "echo \"FOO=$FOO\"\n",
    "echo \"BAR=$BAR\"\n",
    "EOF"
   ]
  },
  {
   "cell_type": "code",
   "execution_count": 5,
   "id": "27775e04-a941-4e79-bab0-bc1bd4dd2dd3",
   "metadata": {},
   "outputs": [
    {
     "name": "stdout",
     "output_type": "stream",
     "text": [
      "FOO=\n",
      "BAR=bar\n"
     ]
    }
   ],
   "source": [
    "FOO=\"foo\"\n",
    "/bin/bash << \"EOF\"\n",
    "BAR=\"bar\"\n",
    "echo \"FOO=$FOO\"\n",
    "echo \"BAR=$BAR\"\n",
    "EOF"
   ]
  },
  {
   "cell_type": "code",
   "execution_count": null,
   "id": "67e691a6-8401-4df9-a896-328edebfa354",
   "metadata": {},
   "outputs": [],
   "source": []
  }
 ],
 "metadata": {
  "kernelspec": {
   "display_name": "Bash",
   "language": "bash",
   "name": "bash"
  },
  "language_info": {
   "codemirror_mode": "shell",
   "file_extension": ".sh",
   "mimetype": "text/x-sh",
   "name": "bash"
  }
 },
 "nbformat": 4,
 "nbformat_minor": 5
}
