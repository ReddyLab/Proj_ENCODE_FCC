{
 "cells": [
  {
   "cell_type": "code",
   "execution_count": 1,
   "id": "c1837027-834d-4bf4-ac3f-64cae205553a",
   "metadata": {},
   "outputs": [
    {
     "data": {
      "text/html": [
       "<table class=\"dataframe\">\n",
       "<caption>A matrix: 8 × 3 of type int</caption>\n",
       "<tbody>\n",
       "\t<tr><td> 3</td><td>2</td><td>1</td></tr>\n",
       "\t<tr><td> 4</td><td>3</td><td>2</td></tr>\n",
       "\t<tr><td> 5</td><td>4</td><td>3</td></tr>\n",
       "\t<tr><td> 6</td><td>5</td><td>4</td></tr>\n",
       "\t<tr><td> 7</td><td>6</td><td>5</td></tr>\n",
       "\t<tr><td> 8</td><td>7</td><td>6</td></tr>\n",
       "\t<tr><td> 9</td><td>8</td><td>7</td></tr>\n",
       "\t<tr><td>10</td><td>9</td><td>8</td></tr>\n",
       "</tbody>\n",
       "</table>\n"
      ],
      "text/latex": [
       "A matrix: 8 × 3 of type int\n",
       "\\begin{tabular}{lll}\n",
       "\t  3 & 2 & 1\\\\\n",
       "\t  4 & 3 & 2\\\\\n",
       "\t  5 & 4 & 3\\\\\n",
       "\t  6 & 5 & 4\\\\\n",
       "\t  7 & 6 & 5\\\\\n",
       "\t  8 & 7 & 6\\\\\n",
       "\t  9 & 8 & 7\\\\\n",
       "\t 10 & 9 & 8\\\\\n",
       "\\end{tabular}\n"
      ],
      "text/markdown": [
       "\n",
       "A matrix: 8 × 3 of type int\n",
       "\n",
       "|  3 | 2 | 1 |\n",
       "|  4 | 3 | 2 |\n",
       "|  5 | 4 | 3 |\n",
       "|  6 | 5 | 4 |\n",
       "|  7 | 6 | 5 |\n",
       "|  8 | 7 | 6 |\n",
       "|  9 | 8 | 7 |\n",
       "| 10 | 9 | 8 |\n",
       "\n"
      ],
      "text/plain": [
       "     [,1] [,2] [,3]\n",
       "[1,]  3   2    1   \n",
       "[2,]  4   3    2   \n",
       "[3,]  5   4    3   \n",
       "[4,]  6   5    4   \n",
       "[5,]  7   6    5   \n",
       "[6,]  8   7    6   \n",
       "[7,]  9   8    7   \n",
       "[8,] 10   9    8   "
      ]
     },
     "metadata": {},
     "output_type": "display_data"
    }
   ],
   "source": [
    "n_windows  = 3\n",
    "n_rows     = 10\n",
    "mat_slices = embed(1:n_rows, n_windows)\n",
    "mat_slices"
   ]
  },
  {
   "cell_type": "code",
   "execution_count": 2,
   "id": "fd50b1d9-ad1d-4176-9b57-f8a40ade13cb",
   "metadata": {},
   "outputs": [
    {
     "data": {
      "text/html": [
       "<style>\n",
       ".list-inline {list-style: none; margin:0; padding: 0}\n",
       ".list-inline>li {display: inline-block}\n",
       ".list-inline>li:not(:last-child)::after {content: \"\\00b7\"; padding: 0 .5ex}\n",
       "</style>\n",
       "<ol class=list-inline><li>'A'</li><li>'B'</li><li>'C'</li><li>'D'</li><li>'E'</li><li>'F'</li><li>'G'</li><li>'H'</li><li>'I'</li><li>'J'</li></ol>\n"
      ],
      "text/latex": [
       "\\begin{enumerate*}\n",
       "\\item 'A'\n",
       "\\item 'B'\n",
       "\\item 'C'\n",
       "\\item 'D'\n",
       "\\item 'E'\n",
       "\\item 'F'\n",
       "\\item 'G'\n",
       "\\item 'H'\n",
       "\\item 'I'\n",
       "\\item 'J'\n",
       "\\end{enumerate*}\n"
      ],
      "text/markdown": [
       "1. 'A'\n",
       "2. 'B'\n",
       "3. 'C'\n",
       "4. 'D'\n",
       "5. 'E'\n",
       "6. 'F'\n",
       "7. 'G'\n",
       "8. 'H'\n",
       "9. 'I'\n",
       "10. 'J'\n",
       "\n",
       "\n"
      ],
      "text/plain": [
       " [1] \"A\" \"B\" \"C\" \"D\" \"E\" \"F\" \"G\" \"H\" \"I\" \"J\""
      ]
     },
     "metadata": {},
     "output_type": "display_data"
    }
   ],
   "source": [
    "vec = LETTERS[1:n_rows]\n",
    "vec"
   ]
  },
  {
   "cell_type": "code",
   "execution_count": 3,
   "id": "02a909c4-7546-4d6e-8bfe-3636d45e05f0",
   "metadata": {},
   "outputs": [
    {
     "data": {
      "text/html": [
       "<style>\n",
       ".list-inline {list-style: none; margin:0; padding: 0}\n",
       ".list-inline>li {display: inline-block}\n",
       ".list-inline>li:not(:last-child)::after {content: \"\\00b7\"; padding: 0 .5ex}\n",
       "</style>\n",
       "<ol class=list-inline><li>'C_B_A'</li><li>'D_C_B'</li><li>'E_D_C'</li><li>'F_E_D'</li><li>'G_F_E'</li><li>'H_G_F'</li><li>'I_H_G'</li><li>'J_I_H'</li></ol>\n"
      ],
      "text/latex": [
       "\\begin{enumerate*}\n",
       "\\item 'C\\_B\\_A'\n",
       "\\item 'D\\_C\\_B'\n",
       "\\item 'E\\_D\\_C'\n",
       "\\item 'F\\_E\\_D'\n",
       "\\item 'G\\_F\\_E'\n",
       "\\item 'H\\_G\\_F'\n",
       "\\item 'I\\_H\\_G'\n",
       "\\item 'J\\_I\\_H'\n",
       "\\end{enumerate*}\n"
      ],
      "text/markdown": [
       "1. 'C_B_A'\n",
       "2. 'D_C_B'\n",
       "3. 'E_D_C'\n",
       "4. 'F_E_D'\n",
       "5. 'G_F_E'\n",
       "6. 'H_G_F'\n",
       "7. 'I_H_G'\n",
       "8. 'J_I_H'\n",
       "\n",
       "\n"
      ],
      "text/plain": [
       "[1] \"C_B_A\" \"D_C_B\" \"E_D_C\" \"F_E_D\" \"G_F_E\" \"H_G_F\" \"I_H_G\" \"J_I_H\""
      ]
     },
     "metadata": {},
     "output_type": "display_data"
    }
   ],
   "source": [
    "apply(mat_slices, 1, function(idx){\n",
    "    res = vec[idx]\n",
    "    res = paste(res, collapse = \"_\")\n",
    "    return(res)\n",
    "})"
   ]
  },
  {
   "cell_type": "code",
   "execution_count": null,
   "id": "f7d59a7f-6b88-4b9c-8f53-b68fa6b5ac06",
   "metadata": {},
   "outputs": [],
   "source": []
  }
 ],
 "metadata": {
  "kernelspec": {
   "display_name": "R",
   "language": "R",
   "name": "ir"
  },
  "language_info": {
   "codemirror_mode": "r",
   "file_extension": ".r",
   "mimetype": "text/x-r-source",
   "name": "R",
   "pygments_lexer": "r",
   "version": "4.1.3"
  }
 },
 "nbformat": 4,
 "nbformat_minor": 5
}
