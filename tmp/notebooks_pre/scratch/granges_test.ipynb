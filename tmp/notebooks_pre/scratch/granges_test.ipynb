{
 "cells": [
  {
   "cell_type": "code",
   "execution_count": 2,
   "id": "4607289f",
   "metadata": {
    "collapsed": true,
    "jupyter": {
     "outputs_hidden": true
    }
   },
   "outputs": [
    {
     "name": "stderr",
     "output_type": "stream",
     "text": [
      "Loading required package: stats4\n",
      "\n",
      "Loading required package: BiocGenerics\n",
      "\n",
      "\n",
      "Attaching package: ‘BiocGenerics’\n",
      "\n",
      "\n",
      "The following objects are masked from ‘package:stats’:\n",
      "\n",
      "    IQR, mad, sd, var, xtabs\n",
      "\n",
      "\n",
      "The following objects are masked from ‘package:base’:\n",
      "\n",
      "    anyDuplicated, append, as.data.frame, basename, cbind, colnames,\n",
      "    dirname, do.call, duplicated, eval, evalq, Filter, Find, get, grep,\n",
      "    grepl, intersect, is.unsorted, lapply, Map, mapply, match, mget,\n",
      "    order, paste, pmax, pmax.int, pmin, pmin.int, Position, rank,\n",
      "    rbind, Reduce, rownames, sapply, setdiff, sort, table, tapply,\n",
      "    union, unique, unsplit, which.max, which.min\n",
      "\n",
      "\n",
      "Loading required package: S4Vectors\n",
      "\n",
      "\n",
      "Attaching package: ‘S4Vectors’\n",
      "\n",
      "\n",
      "The following objects are masked from ‘package:base’:\n",
      "\n",
      "    expand.grid, I, unname\n",
      "\n",
      "\n",
      "Loading required package: IRanges\n",
      "\n",
      "Loading required package: GenomeInfoDb\n",
      "\n"
     ]
    }
   ],
   "source": [
    "library(GenomicRanges)"
   ]
  },
  {
   "cell_type": "markdown",
   "id": "35d8e73b",
   "metadata": {},
   "source": [
    "## Rle"
   ]
  },
  {
   "cell_type": "markdown",
   "id": "7f35e225",
   "metadata": {},
   "source": [
    "[GenomicRanges - Rle](https://kasperdanielhansen.github.io/genbioconductor/html/GenomicRanges_Rle.html)\n",
    "```\n",
    "An Rle (run-length-encoded) vector is a specific representation of a vector. The IRanges package implements support for this class. Watch out: there is also a base R class called rle which has much less functionality.\n",
    "\n",
    "The run-length-encoded representation of a vector, represents the vector as a set of distinct runs with their own value. Let us take an example\n",
    "```"
   ]
  },
  {
   "cell_type": "code",
   "execution_count": 6,
   "id": "4962bfd6",
   "metadata": {},
   "outputs": [
    {
     "data": {
      "text/plain": [
       "numeric-Rle of length 10 with 4 runs\n",
       "  Lengths: 4 2 2 2\n",
       "  Values : 1 2 3 2"
      ]
     },
     "metadata": {},
     "output_type": "display_data"
    }
   ],
   "source": [
    "rl = Rle(c(1,1,1,1,2,2,3,3,2,2))\n",
    "rl"
   ]
  },
  {
   "cell_type": "markdown",
   "id": "cbc9580d",
   "metadata": {},
   "source": [
    "```\n",
    "This is a very efficient representation if\n",
    "\n",
    "- the vector is very long\n",
    "- there are a lot of consecutive elements with the same value\n",
    "```"
   ]
  },
  {
   "cell_type": "code",
   "execution_count": 9,
   "id": "035b941f",
   "metadata": {},
   "outputs": [
    {
     "name": "stdout",
     "output_type": "stream",
     "text": [
      "[1] 4 2 2 2\n",
      "[1] 1 2 3 2\n",
      " [1] 1 1 1 1 2 2 3 3 2 2\n"
     ]
    }
   ],
   "source": [
    "print(runLength(rl))\n",
    "print(runValue(rl))\n",
    "print(as.numeric(rl))"
   ]
  },
  {
   "cell_type": "markdown",
   "id": "3c545fd3",
   "metadata": {},
   "source": [
    "## IRanges"
   ]
  },
  {
   "cell_type": "code",
   "execution_count": 5,
   "id": "39409354",
   "metadata": {},
   "outputs": [
    {
     "data": {
      "text/plain": [
       "IRanges object with 3 ranges and 0 metadata columns:\n",
       "          start       end     width\n",
       "      <integer> <integer> <integer>\n",
       "  [1]        11        51        41\n",
       "  [2]        12        52        41\n",
       "  [3]        13        53        41"
      ]
     },
     "metadata": {},
     "output_type": "display_data"
    }
   ],
   "source": [
    "IRanges(11:13,51:53)"
   ]
  },
  {
   "cell_type": "markdown",
   "id": "736cec79",
   "metadata": {},
   "source": [
    "## GRanges"
   ]
  },
  {
   "cell_type": "code",
   "execution_count": 4,
   "id": "b45772c8",
   "metadata": {},
   "outputs": [
    {
     "data": {
      "text/plain": [
       "GRanges object with 3 ranges and 0 metadata columns:\n",
       "      seqnames    ranges strand\n",
       "         <Rle> <IRanges>  <Rle>\n",
       "  [1]     chrZ     11-51      *\n",
       "  [2]     chrZ     12-52      *\n",
       "  [3]     chrZ     13-53      *\n",
       "  -------\n",
       "  seqinfo: 1 sequence from an unspecified genome; no seqlengths"
      ]
     },
     "metadata": {},
     "output_type": "display_data"
    }
   ],
   "source": [
    "gr = GRanges(\"chrZ\",IRanges(11:13,51:53))\n",
    "gr"
   ]
  },
  {
   "cell_type": "code",
   "execution_count": 33,
   "id": "02412f33",
   "metadata": {},
   "outputs": [
    {
     "name": "stdout",
     "output_type": "stream",
     "text": [
      "GRanges object with 2 ranges and 0 metadata columns:\n",
      "      seqnames    ranges strand\n",
      "         <Rle> <IRanges>  <Rle>\n",
      "  [1]     chrZ      5-35      +\n",
      "  [2]     chrZ     10-45      +\n",
      "  -------\n",
      "  seqinfo: 1 sequence from an unspecified genome\n"
     ]
    }
   ],
   "source": [
    "gr <- GRanges(\n",
    "    seqnames=\"chrZ\",                            # sequence names (here chromosome Z)   \n",
    "    ranges=IRanges(start=c(5,10),end=c(35,45)), # iranges\n",
    "    strand=\"+\",                                 # strand information\n",
    "    seqlengths=c(chrZ=100L))                    # sequence lengths (here specified that chromosome z is 100 base pairs long)\n",
    "print(gr)"
   ]
  },
  {
   "cell_type": "markdown",
   "id": "76b9bf7a",
   "metadata": {},
   "source": [
    "### genome"
   ]
  },
  {
   "cell_type": "code",
   "execution_count": 34,
   "id": "512d7a12",
   "metadata": {},
   "outputs": [
    {
     "data": {
      "text/plain": [
       "Seqinfo object with 1 sequence from an unspecified genome:\n",
       "  seqnames seqlengths isCircular genome\n",
       "  chrZ            100         NA   <NA>"
      ]
     },
     "metadata": {},
     "output_type": "display_data"
    }
   ],
   "source": [
    "seqinfo(gr)"
   ]
  },
  {
   "cell_type": "code",
   "execution_count": 35,
   "id": "ef2a957a",
   "metadata": {},
   "outputs": [
    {
     "data": {
      "text/html": [
       "<strong>chrZ:</strong> NA"
      ],
      "text/latex": [
       "\\textbf{chrZ:} NA"
      ],
      "text/markdown": [
       "**chrZ:** NA"
      ],
      "text/plain": [
       "chrZ \n",
       "  NA "
      ]
     },
     "metadata": {},
     "output_type": "display_data"
    }
   ],
   "source": [
    "genome(gr)"
   ]
  },
  {
   "cell_type": "code",
   "execution_count": 36,
   "id": "734071ac",
   "metadata": {},
   "outputs": [
    {
     "data": {
      "text/html": [
       "<strong>chrZ:</strong> 'hg19'"
      ],
      "text/latex": [
       "\\textbf{chrZ:} 'hg19'"
      ],
      "text/markdown": [
       "**chrZ:** 'hg19'"
      ],
      "text/plain": [
       "  chrZ \n",
       "\"hg19\" "
      ]
     },
     "metadata": {},
     "output_type": "display_data"
    }
   ],
   "source": [
    "genome(gr) <- \"hg19\"\n",
    "genome(gr)"
   ]
  },
  {
   "cell_type": "code",
   "execution_count": 37,
   "id": "36f75868",
   "metadata": {},
   "outputs": [
    {
     "data": {
      "text/plain": [
       "Seqinfo object with 1 sequence from hg19 genome:\n",
       "  seqnames seqlengths isCircular genome\n",
       "  chrZ            100         NA   hg19"
      ]
     },
     "metadata": {},
     "output_type": "display_data"
    }
   ],
   "source": [
    "seqinfo(gr)"
   ]
  },
  {
   "cell_type": "code",
   "execution_count": 38,
   "id": "4b52a2d9",
   "metadata": {},
   "outputs": [
    {
     "data": {
      "text/plain": [
       "GRanges object with 2 ranges and 0 metadata columns:\n",
       "      seqnames    ranges strand\n",
       "         <Rle> <IRanges>  <Rle>\n",
       "  [1]     chrZ      5-35      +\n",
       "  [2]     chrZ     10-45      +\n",
       "  -------\n",
       "  seqinfo: 1 sequence from hg19 genome"
      ]
     },
     "metadata": {},
     "output_type": "display_data"
    }
   ],
   "source": [
    "gr"
   ]
  },
  {
   "cell_type": "markdown",
   "id": "b62d186d",
   "metadata": {},
   "source": [
    "### metadata columns"
   ]
  },
  {
   "cell_type": "code",
   "execution_count": 39,
   "id": "39607c41",
   "metadata": {},
   "outputs": [
    {
     "data": {
      "text/plain": [
       "DataFrame with 2 rows and 0 columns"
      ]
     },
     "metadata": {},
     "output_type": "display_data"
    }
   ],
   "source": [
    "mcols(gr)"
   ]
  },
  {
   "cell_type": "markdown",
   "id": "2d58a63a",
   "metadata": {},
   "source": [
    "assign values"
   ]
  },
  {
   "cell_type": "code",
   "execution_count": 40,
   "id": "30b6f026",
   "metadata": {},
   "outputs": [
    {
     "data": {
      "text/plain": [
       "DataFrame with 2 rows and 1 column\n",
       "      value\n",
       "  <numeric>\n",
       "1        -1\n",
       "2         4"
      ]
     },
     "metadata": {},
     "output_type": "display_data"
    }
   ],
   "source": [
    "mcols(gr)$value <- c(-1,4)\n",
    "mcols(gr)"
   ]
  },
  {
   "cell_type": "markdown",
   "id": "dc97025a",
   "metadata": {},
   "source": [
    "after assigning"
   ]
  },
  {
   "cell_type": "code",
   "execution_count": 41,
   "id": "6cc3ee97",
   "metadata": {},
   "outputs": [
    {
     "data": {
      "text/plain": [
       "GRanges object with 2 ranges and 1 metadata column:\n",
       "      seqnames    ranges strand |     value\n",
       "         <Rle> <IRanges>  <Rle> | <numeric>\n",
       "  [1]     chrZ      5-35      + |        -1\n",
       "  [2]     chrZ     10-45      + |         4\n",
       "  -------\n",
       "  seqinfo: 1 sequence from hg19 genome"
      ]
     },
     "metadata": {},
     "output_type": "display_data"
    }
   ],
   "source": [
    "gr"
   ]
  },
  {
   "cell_type": "markdown",
   "id": "1098ab2b",
   "metadata": {},
   "source": [
    "### question: do I need to specfify sequence length?"
   ]
  },
  {
   "cell_type": "code",
   "execution_count": 16,
   "id": "0b5632ed",
   "metadata": {},
   "outputs": [
    {
     "name": "stdout",
     "output_type": "stream",
     "text": [
      "GRanges object with 2 ranges and 0 metadata columns:\n",
      "      seqnames    ranges strand\n",
      "         <Rle> <IRanges>  <Rle>\n",
      "  [1]     chrZ      5-35      +\n",
      "  [2]     chrZ     10-45      +\n",
      "  -------\n",
      "  seqinfo: 1 sequence from an unspecified genome; no seqlengths\n"
     ]
    }
   ],
   "source": [
    "gr <- GRanges(\n",
    "    seqnames=\"chrZ\",                            # sequence names (here chromosome Z)   \n",
    "    ranges=IRanges(start=c(5,10),end=c(35,45)), # iranges\n",
    "    strand=\"+\")                                 # strand information\n",
    "    #seqlengths=c(chrZ=100L))                   # sequence lengths (here specified that chromosome z is 100 base pairs long)\n",
    "print(gr)"
   ]
  },
  {
   "cell_type": "code",
   "execution_count": 19,
   "id": "6219cbb0",
   "metadata": {},
   "outputs": [
    {
     "data": {
      "text/plain": [
       "GRanges object with 3 ranges and 0 metadata columns:\n",
       "      seqnames    ranges strand\n",
       "         <Rle> <IRanges>  <Rle>\n",
       "  [1]     chr1       1-3      +\n",
       "  [2]     chr1       3-5      -\n",
       "  [3]     chr1       5-7      +\n",
       "  -------\n",
       "  seqinfo: 1 sequence from an unspecified genome; no seqlengths"
      ]
     },
     "metadata": {},
     "output_type": "display_data"
    }
   ],
   "source": [
    "gr <- GRanges(seqnames = \"chr1\", strand = c(\"+\", \"-\", \"+\"),\n",
    "              ranges = IRanges(start = c(1,3,5), width = 3))\n",
    "gr"
   ]
  },
  {
   "cell_type": "code",
   "execution_count": null,
   "id": "1075f0f0",
   "metadata": {},
   "outputs": [],
   "source": []
  }
 ],
 "metadata": {
  "kernelspec": {
   "display_name": "R",
   "language": "R",
   "name": "ir"
  },
  "language_info": {
   "codemirror_mode": "r",
   "file_extension": ".r",
   "mimetype": "text/x-r-source",
   "name": "R",
   "pygments_lexer": "r",
   "version": "4.2.0"
  }
 },
 "nbformat": 4,
 "nbformat_minor": 5
}
