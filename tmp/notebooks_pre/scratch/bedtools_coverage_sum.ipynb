{
 "cells": [
  {
   "cell_type": "code",
   "execution_count": 1,
   "id": "f0ae6138",
   "metadata": {},
   "outputs": [
    {
     "name": "stdout",
     "output_type": "stream",
     "text": [
      "You are on Duke Server: HARDAC\n",
      "BASE DIRECTORY:     /gpfs/fs1/data/reddylab/Kuei\n",
      "PATH OF SOURCE:     /gpfs/fs1/data/reddylab/Kuei/source\n",
      "PATH OF EXECUTABLE: /gpfs/fs1/data/reddylab/Kuei/exe\n",
      "PATH OF ANNOTATION: /gpfs/fs1/data/reddylab/Kuei/annotation\n",
      "PATH OF PROJECT:    /gpfs/fs1/data/reddylab/Kuei/GitRepo/Proj_CombEffect_ENCODE_FCC/notebooks\n",
      "PATH OF RESULTS:    /gpfs/fs1/data/reddylab/Kuei/out/proj_combeffect_encode_fcc\n",
      "\n"
     ]
    }
   ],
   "source": [
    "source ../config_duke.sh\n",
    "source ../config_load_module_bedtools.sh\n",
    "show_env"
   ]
  },
  {
   "cell_type": "code",
   "execution_count": 2,
   "id": "44b37136",
   "metadata": {},
   "outputs": [],
   "source": [
    "TAB=\"$(printf '\\t')\""
   ]
  },
  {
   "cell_type": "code",
   "execution_count": 29,
   "id": "f042b300-e9f7-48a8-bbcb-8b0d9f0f6438",
   "metadata": {},
   "outputs": [],
   "source": [
    "START=5\n",
    "END=40\n",
    "CHROM=chr1\n",
    "\n",
    "cat /dev/null > A.bed\n",
    "for LOC in $(seq ${START} ${END}); do\n",
    "    echo -e \"${CHROM}\\\\t${LOC}\\\\t$((${LOC} + 1))\" >> A.bed\n",
    "done\n",
    "\n",
    "cat > B.bed << EOF\n",
    "chr1${TAB}10${TAB}20${TAB}chr1:10-20${TAB}1${TAB}.\n",
    "chr1${TAB}15${TAB}30${TAB}chr1:15-30${TAB}2${TAB}.\n",
    "EOF"
   ]
  },
  {
   "cell_type": "code",
   "execution_count": 28,
   "id": "06b9057e-9c91-486e-90ab-15ef11d0cf23",
   "metadata": {},
   "outputs": [
    {
     "name": "stdout",
     "output_type": "stream",
     "text": [
      "chr1\t5\t6\n",
      "chr1\t6\t7\n",
      "chr1\t7\t8\n",
      "chr1\t8\t9\n",
      "chr1\t9\t10\n",
      "chr1\t10\t11\n",
      "chr1\t11\t12\n",
      "chr1\t12\t13\n",
      "chr1\t13\t14\n",
      "chr1\t14\t15\n",
      "chr1\t15\t16\n",
      "chr1\t16\t17\n",
      "chr1\t17\t18\n",
      "chr1\t18\t19\n",
      "chr1\t19\t20\n",
      "chr1\t20\t21\n",
      "chr1\t21\t22\n",
      "chr1\t22\t23\n",
      "chr1\t23\t24\n",
      "chr1\t24\t25\n",
      "chr1\t25\t26\n",
      "chr1\t26\t27\n",
      "chr1\t27\t28\n",
      "chr1\t28\t29\n",
      "chr1\t29\t30\n",
      "chr1\t30\t31\n",
      "chr1\t31\t32\n",
      "chr1\t32\t33\n",
      "chr1\t33\t34\n",
      "chr1\t34\t35\n",
      "chr1\t35\t36\n",
      "chr1\t36\t37\n",
      "chr1\t37\t38\n",
      "chr1\t38\t39\n",
      "chr1\t39\t40\n",
      "chr1\t40\t41\n"
     ]
    }
   ],
   "source": [
    "### region\n",
    "cat A.bed"
   ]
  },
  {
   "cell_type": "code",
   "execution_count": 30,
   "id": "bdec5620-f078-467f-8407-ca342dbebfb3",
   "metadata": {},
   "outputs": [
    {
     "name": "stdout",
     "output_type": "stream",
     "text": [
      "chr1\t10\t20\tchr1:10-20\t1\t.\n",
      "chr1\t15\t30\tchr1:15-30\t2\t.\n"
     ]
    }
   ],
   "source": [
    "### fragments\n",
    "cat B.bed"
   ]
  },
  {
   "cell_type": "code",
   "execution_count": 31,
   "id": "40ce7eed-fabb-499c-91a8-283453f579df",
   "metadata": {},
   "outputs": [
    {
     "name": "stdout",
     "output_type": "stream",
     "text": [
      "chr1\t5\t6\t.\n",
      "chr1\t6\t7\t.\n",
      "chr1\t7\t8\t.\n",
      "chr1\t8\t9\t.\n",
      "chr1\t9\t10\t.\n",
      "chr1\t10\t11\t1\n",
      "chr1\t11\t12\t1\n",
      "chr1\t12\t13\t1\n",
      "chr1\t13\t14\t1\n",
      "chr1\t14\t15\t1\n",
      "chr1\t15\t16\t1.5\n",
      "chr1\t16\t17\t1.5\n",
      "chr1\t17\t18\t1.5\n",
      "chr1\t18\t19\t1.5\n",
      "chr1\t19\t20\t1.5\n",
      "chr1\t20\t21\t2\n",
      "chr1\t21\t22\t2\n",
      "chr1\t22\t23\t2\n",
      "chr1\t23\t24\t2\n",
      "chr1\t24\t25\t2\n",
      "chr1\t25\t26\t2\n",
      "chr1\t26\t27\t2\n",
      "chr1\t27\t28\t2\n",
      "chr1\t28\t29\t2\n",
      "chr1\t29\t30\t2\n",
      "chr1\t30\t31\t.\n",
      "chr1\t31\t32\t.\n",
      "chr1\t32\t33\t.\n",
      "chr1\t33\t34\t.\n",
      "chr1\t34\t35\t.\n",
      "chr1\t35\t36\t.\n",
      "chr1\t36\t37\t.\n",
      "chr1\t37\t38\t.\n",
      "chr1\t38\t39\t.\n",
      "chr1\t39\t40\t.\n",
      "chr1\t40\t41\t.\n"
     ]
    }
   ],
   "source": [
    "bedtools map -a A.bed -b B.bed -o mean"
   ]
  },
  {
   "cell_type": "code",
   "execution_count": null,
   "id": "a97525c2-afa2-49fa-a498-2c7c3b4110b0",
   "metadata": {},
   "outputs": [],
   "source": []
  },
  {
   "cell_type": "code",
   "execution_count": 13,
   "id": "70ec4af8-d238-49fc-b79a-3e7d8df8a0b5",
   "metadata": {},
   "outputs": [],
   "source": [
    "cat > A.bed << EOF\n",
    "chr1${TAB}05${TAB}40\n",
    "EOF\n",
    "\n",
    "cat > B.bed << EOF\n",
    "chr1${TAB}10${TAB}20${TAB}chr1:10-20${TAB}1${TAB}.\n",
    "chr1${TAB}15${TAB}30${TAB}chr1:15-30${TAB}2${TAB}.\n",
    "EOF"
   ]
  },
  {
   "cell_type": "code",
   "execution_count": 15,
   "id": "61fc578c-c16a-419d-a0fc-8a3d75001237",
   "metadata": {},
   "outputs": [
    {
     "name": "stdout",
     "output_type": "stream",
     "text": [
      "chr1\t10\t20\tchr1:10-20\t1\t.\n",
      "chr1\t15\t30\tchr1:15-30\t2\t.\n"
     ]
    }
   ],
   "source": [
    "### fragments\n",
    "cat B.bed"
   ]
  },
  {
   "cell_type": "code",
   "execution_count": 16,
   "id": "41da9e37-ffa3-4d1a-a7ef-7b5faedc2c22",
   "metadata": {},
   "outputs": [
    {
     "name": "stdout",
     "output_type": "stream",
     "text": [
      "chr1\t5\t40\t1\t0\n",
      "chr1\t5\t40\t2\t0\n",
      "chr1\t5\t40\t3\t0\n",
      "chr1\t5\t40\t4\t0\n",
      "chr1\t5\t40\t5\t0\n",
      "chr1\t5\t40\t6\t1\n",
      "chr1\t5\t40\t7\t1\n",
      "chr1\t5\t40\t8\t1\n",
      "chr1\t5\t40\t9\t1\n",
      "chr1\t5\t40\t10\t1\n",
      "chr1\t5\t40\t11\t2\n",
      "chr1\t5\t40\t12\t2\n",
      "chr1\t5\t40\t13\t2\n",
      "chr1\t5\t40\t14\t2\n",
      "chr1\t5\t40\t15\t2\n",
      "chr1\t5\t40\t16\t1\n",
      "chr1\t5\t40\t17\t1\n",
      "chr1\t5\t40\t18\t1\n",
      "chr1\t5\t40\t19\t1\n",
      "chr1\t5\t40\t20\t1\n",
      "chr1\t5\t40\t21\t1\n",
      "chr1\t5\t40\t22\t1\n",
      "chr1\t5\t40\t23\t1\n",
      "chr1\t5\t40\t24\t1\n",
      "chr1\t5\t40\t25\t1\n",
      "chr1\t5\t40\t26\t0\n",
      "chr1\t5\t40\t27\t0\n",
      "chr1\t5\t40\t28\t0\n",
      "chr1\t5\t40\t29\t0\n",
      "chr1\t5\t40\t30\t0\n",
      "chr1\t5\t40\t31\t0\n",
      "chr1\t5\t40\t32\t0\n",
      "chr1\t5\t40\t33\t0\n",
      "chr1\t5\t40\t34\t0\n",
      "chr1\t5\t40\t35\t0\n"
     ]
    }
   ],
   "source": [
    "bedtools coverage -a A.bed -b B.bed -d"
   ]
  },
  {
   "cell_type": "code",
   "execution_count": 17,
   "id": "eed7b7b4-a8da-4b27-bc30-3b4cf5fb4c1b",
   "metadata": {},
   "outputs": [
    {
     "name": "stdout",
     "output_type": "stream",
     "text": [
      "chr1\t5\t40\t0\t15\t35\t0.4285714\n",
      "chr1\t5\t40\t1\t15\t35\t0.4285714\n",
      "chr1\t5\t40\t2\t5\t35\t0.1428571\n",
      "all\t0\t15\t35\t0.4285714\n",
      "all\t1\t15\t35\t0.4285714\n",
      "all\t2\t5\t35\t0.1428571\n"
     ]
    }
   ],
   "source": [
    "bedtools coverage -a A.bed -b B.bed -hist"
   ]
  },
  {
   "cell_type": "code",
   "execution_count": null,
   "id": "4fa81903-c69f-4e65-999e-52d15820a278",
   "metadata": {},
   "outputs": [],
   "source": []
  }
 ],
 "metadata": {
  "kernelspec": {
   "display_name": "Bash",
   "language": "bash",
   "name": "bash"
  },
  "language_info": {
   "codemirror_mode": "shell",
   "file_extension": ".sh",
   "mimetype": "text/x-sh",
   "name": "bash"
  }
 },
 "nbformat": 4,
 "nbformat_minor": 5
}
