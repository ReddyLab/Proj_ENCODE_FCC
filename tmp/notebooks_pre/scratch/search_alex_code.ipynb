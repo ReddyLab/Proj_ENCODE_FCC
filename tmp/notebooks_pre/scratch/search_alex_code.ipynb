{
 "cells": [
  {
   "cell_type": "markdown",
   "id": "ba0a5aef-9b03-4822-9ba2-d50dbc4eb5fa",
   "metadata": {},
   "source": [
    "`grep -rnw '/path/to/somewhere/' -e 'pattern'`"
   ]
  },
  {
   "cell_type": "code",
   "execution_count": 1,
   "id": "a7a983af-2c53-4219-a966-eb10881d2ada",
   "metadata": {},
   "outputs": [
    {
     "name": "stdout",
     "output_type": "stream",
     "text": [
      "\u001b[0m\u001b[38;5;27mdata\u001b[0m  \u001b[38;5;27mipynbs\u001b[0m  \u001b[38;5;27mlogs\u001b[0m  \u001b[38;5;27mprocessing\u001b[0m  README.md  \u001b[38;5;27mreports\u001b[0m  \u001b[38;5;27mresults\u001b[0m  \u001b[38;5;27mscripts\u001b[0m\n"
     ]
    }
   ],
   "source": [
    "ls /data/reddylab/Alex/encode4_duke"
   ]
  },
  {
   "cell_type": "code",
   "execution_count": 2,
   "id": "b4490253-0d37-4b39-a2d1-747aebc49de3",
   "metadata": {},
   "outputs": [
    {
     "name": "stdout",
     "output_type": "stream",
     "text": [
      "grep: /data/reddylab/Alex/encode4_duke/results/multiomic/atacstarr_v_wgceres.promoter/sets/00010_wgCERES_dw.bed: Permission denied\n",
      "grep: /data/reddylab/Alex/encode4_duke/results/multiomic/atacstarr_v_wgceres.promoter/sets/10101_atacSTARR_up_wgCERES_up_wgCERES_both.bed: Permission denied\n",
      "grep: /data/reddylab/Alex/encode4_duke/results/multiomic/atacstarr_v_wgceres.promoter/sets/10000_atacSTARR_up.bed: Permission denied\n",
      "grep: /data/reddylab/Alex/encode4_duke/results/multiomic/atacstarr_v_wgceres.promoter/sets/01010_atacSTARR_dw_wgCERES_dw.bed: Permission denied\n",
      "grep: /data/reddylab/Alex/encode4_duke/results/multiomic/atacstarr_v_wgceres.promoter/sets/01000_atacSTARR_dw.bed: Permission denied\n",
      "grep: /data/reddylab/Alex/encode4_duke/results/multiomic/atacstarr_v_wgceres.promoter/sets/01100_atacSTARR_dw_wgCERES_up.bed: Permission denied\n",
      "grep: /data/reddylab/Alex/encode4_duke/results/multiomic/atacstarr_v_wgceres.promoter/sets/10010_atacSTARR_up_wgCERES_dw.bed: Permission denied\n",
      "grep: /data/reddylab/Alex/encode4_duke/results/multiomic/atacstarr_v_wgceres.promoter/sets/10100_atacSTARR_up_wgCERES_up.bed: Permission denied\n",
      "grep: /data/reddylab/Alex/encode4_duke/results/multiomic/atacstarr_v_wgceres.promoter/sets/10110_atacSTARR_up_wgCERES_up_wgCERES_dw.bed: Permission denied\n",
      "grep: /data/reddylab/Alex/encode4_duke/results/multiomic/atacstarr_v_wgceres.promoter/sets/01011_atacSTARR_dw_wgCERES_dw_wgCERES_both.bed: Permission denied\n",
      "grep: /data/reddylab/Alex/encode4_duke/results/multiomic/atacstarr_v_wgceres.promoter/sets/00100_wgCERES_up.bed: Permission denied\n",
      "grep: /data/reddylab/Alex/encode4_duke/results/multiomic/atacstarr_v_wgceres.promoter/sets/01001_atacSTARR_dw_wgCERES_both.bed: Permission denied\n",
      "grep: /data/reddylab/Alex/encode4_duke/results/multiomic/atacstarr_v_wgceres.promoter/sets/10001_atacSTARR_up_wgCERES_both.bed: Permission denied\n",
      "grep: /data/reddylab/Alex/encode4_duke/results/multiomic/atacstarr_v_wgceres.promoter/sets/00001_wgCERES_both.bed: Permission denied\n",
      "grep: /data/reddylab/Alex/encode4_duke/results/multiomic/atacstarr_v_wgceres.nonpromoter/sets/00010_wgCERES_dw.bed: Permission denied\n",
      "grep: /data/reddylab/Alex/encode4_duke/results/multiomic/atacstarr_v_wgceres.nonpromoter/sets/10000_atacSTARR_up.bed: Permission denied\n",
      "grep: /data/reddylab/Alex/encode4_duke/results/multiomic/atacstarr_v_wgceres.nonpromoter/sets/01010_atacSTARR_dw_wgCERES_dw.bed: Permission denied\n",
      "grep: /data/reddylab/Alex/encode4_duke/results/multiomic/atacstarr_v_wgceres.nonpromoter/sets/01000_atacSTARR_dw.bed: Permission denied\n",
      "grep: /data/reddylab/Alex/encode4_duke/results/multiomic/atacstarr_v_wgceres.nonpromoter/sets/01100_atacSTARR_dw_wgCERES_up.bed: Permission denied\n",
      "grep: /data/reddylab/Alex/encode4_duke/results/multiomic/atacstarr_v_wgceres.nonpromoter/sets/10010_atacSTARR_up_wgCERES_dw.bed: Permission denied\n",
      "grep: /data/reddylab/Alex/encode4_duke/results/multiomic/atacstarr_v_wgceres.nonpromoter/sets/10100_atacSTARR_up_wgCERES_up.bed: Permission denied\n",
      "grep: /data/reddylab/Alex/encode4_duke/results/multiomic/atacstarr_v_wgceres.nonpromoter/sets/00100_wgCERES_up.bed: Permission denied\n",
      "grep: /data/reddylab/Alex/encode4_duke/results/multiomic/atacstarr_v_wgceres.nonpromoter/sets/01001_atacSTARR_dw_wgCERES_both.bed: Permission denied\n",
      "grep: /data/reddylab/Alex/encode4_duke/results/multiomic/atacstarr_v_wgceres.nonpromoter/sets/10001_atacSTARR_up_wgCERES_both.bed: Permission denied\n",
      "grep: /data/reddylab/Alex/encode4_duke/results/multiomic/atacstarr_v_wgceres.nonpromoter/sets/00001_wgCERES_both.bed: Permission denied\n",
      "\n"
     ]
    }
   ],
   "source": [
    "grep -rnw '/data/reddylab/Alex/encode4_duke' -e 'sbatch -o /data/reddylab/Alex/encode4_duke/ipynbs/jamborees/20220307_locusselect_nawg/logs/bamCompare.subtract_input_from_output.astarr.%a.out'"
   ]
  },
  {
   "cell_type": "code",
   "execution_count": 3,
   "id": "f4154358-58a8-4fcf-bfe1-a3d851bc7d60",
   "metadata": {},
   "outputs": [
    {
     "name": "stdout",
     "output_type": "stream",
     "text": [
      "add_starrseq_to_abc.ipynb  \u001b[0m\u001b[38;5;27mdata\u001b[0m  \u001b[38;5;27mlogs\u001b[0m  \u001b[38;5;27mresults\u001b[0m  \u001b[38;5;27mscripts\u001b[0m\n"
     ]
    }
   ],
   "source": [
    "ls /data/reddylab/Alex/encode4_duke/ipynbs/jamborees/20220307_locusselect_nawg"
   ]
  },
  {
   "cell_type": "code",
   "execution_count": 4,
   "id": "f4f1954f-e6fc-4c14-a659-26b9b9d2d3e3",
   "metadata": {},
   "outputs": [],
   "source": [
    "cp /data/reddylab/Alex/encode4_duke/ipynbs/jamborees/20220307_locusselect_nawg/add_starrseq_to_abc.ipynb ./"
   ]
  },
  {
   "cell_type": "code",
   "execution_count": 5,
   "id": "a9747fe8-7305-4388-be7e-c5924fa97d58",
   "metadata": {},
   "outputs": [
    {
     "name": "stdout",
     "output_type": "stream",
     "text": [
      "\u001b[0m\u001b[38;5;27m210401_KS91_K562ASTARR_NovaSeq.38-pe-umis\u001b[0m    \u001b[38;5;27mjsons\u001b[0m    \u001b[38;5;27mtmpdirs\u001b[0m\n",
      "\u001b[38;5;27m210401_KS91_K562ASTARR_NovaSeq.hg38-pe-umis\u001b[0m  \u001b[38;5;27mlogs\u001b[0m\n",
      "\u001b[38;5;27m210401_KS91_K562ASTARR_NovaSeq-pe-umis\u001b[0m       \u001b[38;5;27mscripts\u001b[0m\n"
     ]
    }
   ],
   "source": [
    "ls /data/reddylab/Alex/encode4_duke/processing/starr_seq"
   ]
  },
  {
   "cell_type": "code",
   "execution_count": 6,
   "id": "4240ae7a-b25f-4e27-97e2-950b434af4b1",
   "metadata": {},
   "outputs": [],
   "source": [
    "FDIRY=\"/data/reddylab/Alex/encode4_duke/processing/starr_seq\""
   ]
  },
  {
   "cell_type": "code",
   "execution_count": 9,
   "id": "4e34c0f8-0903-49b7-aa1f-1ac33f024f06",
   "metadata": {},
   "outputs": [
    {
     "name": "stdout",
     "output_type": "stream",
     "text": [
      "\u001b[0m\u001b[38;5;51m/data/reddylab/Alex/encode4_duke/processing/starr_seq/210401_KS91_K562ASTARR_NovaSeq.hg38-pe-umis/KS91_K562_hg38_ASTARRseq_Output_rep1.f3q10.sorted.with_umis.dups_marked.bam\u001b[0m\u001b[K\n",
      "\u001b[38;5;51m/data/reddylab/Alex/encode4_duke/processing/starr_seq/210401_KS91_K562ASTARR_NovaSeq.hg38-pe-umis/KS91_K562_hg38_ASTARRseq_Output_rep2.f3q10.sorted.with_umis.dups_marked.bam\u001b[0m\u001b[K\n",
      "/data/reddylab/Alex/encode4_duke/processing/starr_seq/210401_KS91_K562ASTARR_NovaSeq.hg38-pe-umis/KS91_K562_hg38_ASTARRseq_Output_rep3.f3q10.sorted.with_umis.dups_marked.bam\n",
      "\u001b[38;5;51m/data/reddylab/Alex/encode4_duke/processing/starr_seq/210401_KS91_K562ASTARR_NovaSeq.hg38-pe-umis/KS91_K562_hg38_ASTARRseq_Output_rep4.f3q10.sorted.with_umis.dups_marked.bam\u001b[0m\u001b[K\n",
      "\u001b[38;5;51m/data/reddylab/Alex/encode4_duke/processing/starr_seq/210401_KS91_K562ASTARR_NovaSeq.hg38-pe-umis/KS91_K562_hg38_ASTARRseq_Output_rep5.f3q10.sorted.with_umis.dups_marked.bam\u001b[0m\u001b[K\n",
      "\u001b[38;5;51m/data/reddylab/Alex/encode4_duke/processing/starr_seq/210401_KS91_K562ASTARR_NovaSeq.hg38-pe-umis/KS91_K562_hg38_ASTARRseq_Output_rep6.f3q10.sorted.with_umis.dups_marked.bam\u001b[0m\u001b[K\n"
     ]
    }
   ],
   "source": [
    "ls ${FDIRY}/210401_KS91_K562ASTARR_NovaSeq.hg38-pe-umis/KS91_K562_hg38_ASTARRseq_Output_rep?.f3q10.sorted.with_umis.dups_marked.bam"
   ]
  },
  {
   "cell_type": "code",
   "execution_count": null,
   "id": "f3420f2b-5cff-4a2d-8950-c66f4b61cbaa",
   "metadata": {},
   "outputs": [],
   "source": [
    "210401_KS91_K562ASTARR_NovaSeq.hg38-pe-blacklist-removal"
   ]
  },
  {
   "cell_type": "code",
   "execution_count": null,
   "id": "a15b707a-ba7d-4ce4-9a3a-a6ab9148c024",
   "metadata": {},
   "outputs": [],
   "source": [
    "210401_KS91_K562ASTARR_NovaSeq.hg38-pe-umis"
   ]
  },
  {
   "cell_type": "code",
   "execution_count": null,
   "id": "c359a69b-a525-4248-9358-212fd75b8893",
   "metadata": {},
   "outputs": [],
   "source": []
  }
 ],
 "metadata": {
  "kernelspec": {
   "display_name": "Bash",
   "language": "bash",
   "name": "bash"
  },
  "language_info": {
   "codemirror_mode": "shell",
   "file_extension": ".sh",
   "mimetype": "text/x-sh",
   "name": "bash"
  }
 },
 "nbformat": 4,
 "nbformat_minor": 5
}
