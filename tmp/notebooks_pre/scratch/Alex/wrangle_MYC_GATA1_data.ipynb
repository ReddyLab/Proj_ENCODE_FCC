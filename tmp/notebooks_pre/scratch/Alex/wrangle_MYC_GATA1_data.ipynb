{
 "cells": [
  {
   "cell_type": "markdown",
   "metadata": {},
   "source": [
    "#### MPRA/STARR-seq Jamboree week 2021-10-25\n",
    "\n",
    "- [ ] Task 1: wrangle all datasets into the common file-format, making sure STARR-seq based methods are reporting counts/measurements for the exact same fragments."
   ]
  },
  {
   "cell_type": "markdown",
   "metadata": {},
   "source": [
    "MPRA-based assays"
   ]
  },
  {
   "cell_type": "code",
   "execution_count": 46,
   "metadata": {},
   "outputs": [],
   "source": [
    "%%bash\n",
    "source /data/reddylab/software/miniconda3/bin/activate alex_py3_dev\n",
    "BEDS=(\\\n",
    "    /data/reddylab/Alex/encode4_duke/ipynbs/jamborees/20211025_MPRA_STARR_Jamboree/data/gata1_myc/mpra/ENCFF348WYK.bed \\\n",
    "    /data/reddylab/Alex/encode4_duke/ipynbs/jamborees/20211025_MPRA_STARR_Jamboree/data/gata1_myc/mpra/GATA-MYC_Tile_K562_K562_20210130.hg38.cleaned.bed \\\n",
    ")\n",
    "OUTDIR=/data/reddylab/Alex/encode4_duke/ipynbs/jamborees/20211025_MPRA_STARR_Jamboree/data/gata1_myc/mpra\n",
    "for ii in ${BEDS[@]};\n",
    "do\n",
    "    SAMPLE=$(basename ${ii})\n",
    "    awk '($2!=\"start\")&&($7!=\"NA\")' ${ii} \\\n",
    "    | sed 's@Inf@1000@g' \\\n",
    "    | sed 's@NA@1@g' \\\n",
    "    | bedtools intersect \\\n",
    "        -wa \\\n",
    "        -a stdin \\\n",
    "        -b <(echo -e \"chr8\\t126736069\\t128736069\") \\\n",
    "    > ${ii/.bed/.MYC.bed}\n",
    "\n",
    "    awk '($2!=\"start\")&&($7!=\"NA\")' ${ii} \\\n",
    "    | sed 's@Inf@1000@g' \\\n",
    "    | sed 's@NA@1@g' \\\n",
    "    | bedtools intersect \\\n",
    "        -wa \\\n",
    "        -a stdin \\\n",
    "        -b <(echo -e \"chrX\\t47786554\\t49786554\") \\\n",
    "    > ${ii/.bed/.GATA1.bed}\n",
    "done    \n"
   ]
  },
  {
   "cell_type": "code",
   "execution_count": 3,
   "metadata": {},
   "outputs": [],
   "source": [
    "%%bash\n",
    "tail -n+2 /data/reddylab/Alex/encode4_duke/ipynbs/jamborees/20211025_MPRA_STARR_Jamboree/data/fads/mpra/FADS_Tile_K562_K562_20200905.hg38.bed \\\n",
    "| /bin/grep -v Ctrl \\\n",
    "| /bin/grep 200=  \\\n",
    "| awk '$NF!=\"SNV\"' \\\n",
    "> /data/reddylab/Alex/encode4_duke/ipynbs/jamborees/20211025_MPRA_STARR_Jamboree/data/fads/mpra/FADS_Tile_K562_K562_20200905.hg38.FADS.bed\n"
   ]
  },
  {
   "cell_type": "markdown",
   "metadata": {},
   "source": [
    "Kevin White's WG-STARR-seq data"
   ]
  },
  {
   "cell_type": "code",
   "execution_count": null,
   "metadata": {},
   "outputs": [],
   "source": [
    "%%bash\n",
    "BAMS=(\\\n",
    "    /data/reddylab/YoungSook/cell_specificy/White_data/downloaded_bam/K562_rep2_white.bam \\\n",
    "    /data/reddylab/YoungSook/cell_specificy/White_data/downloaded_bam/K562_rep1_white.bam \\\n",
    "    /data/reddylab/YoungSook/cell_specificy/White_data/downloaded_bam/control_HepG2_K562_white.bam \\\n",
    ")\n",
    "OUTDIR=/data/reddylab/Alex/encode4_duke/ipynbs/jamborees/20211025_MPRA_STARR_Jamboree/data/gata1_myc/starrseq/bams\n",
    "for ii in ${BAMS[@]};\n",
    "do\n",
    "    SAMPLE=$(basename ${ii})\n",
    "    samtools view \\\n",
    "        -b \\\n",
    "        ${ii} \\\n",
    "        chr8:126736069-128736069 \\\n",
    "        > ${OUTDIR}/${SAMPLE/.bam/.MYC.bam}\n",
    "    samtools view \\\n",
    "        -b \\\n",
    "        ${ii} \\\n",
    "        chrX:47786554-49786554 \\\n",
    "        > ${OUTDIR}/${SAMPLE/.bam/.GATA1.bam}\n",
    "done    "
   ]
  },
  {
   "cell_type": "code",
   "execution_count": 6,
   "metadata": {},
   "outputs": [],
   "source": [
    "%%bash\n",
    "module load samtools\n",
    "BAMS=(\\\n",
    "    /data/reddylab/kstrouse/superstarr/output_libs/A001_K562/A001_K562_20210213/processing/starr_seq/Strouse_6825_210223A5-pe/A001-K562-rep2.f3q10.sorted.dups_marked.bam \\\n",
    "    /data/reddylab/kstrouse/superstarr/output_libs/A001_K562/A001_K562_20210213/processing/starr_seq/Strouse_6825_210223A5-pe/A001-K562-rep3.f3q10.sorted.dups_marked.bam \\\n",
    "    /data/reddylab/kstrouse/superstarr/output_libs/A001_K562/A001_K562_20201124/combined_reads/processing/starr_seq/A001_K562_20201124_combined-pe/A001-K562-rep1.f3q10.sorted.dups_marked.bam \\\n",
    "    /data/reddylab/kstrouse/superstarr/input_libs/A001/nextseq/processing/starr_seq/A001_nextseq-pe/rep1.f3q10.sorted.dups_marked.bam \\\n",
    "    /data/reddylab/kstrouse/superstarr/input_libs/A001/nextseq/processing/starr_seq/A001_nextseq-pe/rep2.f3q10.sorted.dups_marked.bam \\\n",
    "    /data/reddylab/kstrouse/superstarr/input_libs/A001/nextseq/processing/starr_seq/A001_nextseq-pe/rep3.f3q10.sorted.dups_marked.bam \\\n",
    "    /data/reddylab/kstrouse/superstarr/input_libs/A001/nextseq/processing/starr_seq/A001_nextseq-pe/rep4.f3q10.sorted.dups_marked.bam \\\n",
    ")\n",
    "OUTDIR=/data/reddylab/Alex/encode4_duke/ipynbs/jamborees/20211025_MPRA_STARR_Jamboree/data/gata1_myc/bam\n",
    "cd ${OUTDIR}\n",
    "for ii in ${BAMS[@]};\n",
    "do\n",
    "    SAMPLE=$(basename ${ii})\n",
    "    samtools view \\\n",
    "        -b \\\n",
    "        ${ii} \\\n",
    "        chr8:126736069-128736069 \\\n",
    "        > ${OUTDIR}/${SAMPLE/.bam/.MYC.bam}\n",
    "    samtools index ${OUTDIR}/${SAMPLE/.bam/.MYC.bam}\n",
    "    samtools view \\\n",
    "        -b \\\n",
    "        ${ii} \\\n",
    "        chrX:47786554-49786554 \\\n",
    "        > ${OUTDIR}/${SAMPLE/.bam/.GATA1.bam}\n",
    "    samtools index ${OUTDIR}/${SAMPLE/.bam/.GATA1.bam}\n",
    "done\n",
    "\n",
    "# Rename samples\n",
    "# \n",
    "for REP in 1 2 3 4;\n",
    "do\n",
    "    rename rep${REP}.f3q10.sorted.dups_marked. A001.K562.starrseq.input.rep${REP}. rep${REP}.f3q10.sorted.dups_marked.*    \n",
    "    rename A001-K562-rep${REP}.f3q10.sorted.dups_marked. A001.K562.starrseq.output.rep${REP}. A001-K562-rep${REP}.f3q10.sorted.dups_marked.*\n",
    "    rename K562_rep${REP}_white KW.K562.starrseq.output.rep${REP} K562_rep${REP}_white*\n",
    "done\n",
    "rename control_HepG2_K562_white KW.K562.starrseq.input.rep1 control_HepG2_K562_white*\n"
   ]
  },
  {
   "cell_type": "code",
   "execution_count": 8,
   "metadata": {},
   "outputs": [],
   "source": [
    "%%bash\n",
    "module load samtools\n",
    "#     /data/reddylab/Alex/encode4_duke/processing/starr_seq/210401_KS91_K562ASTARR_NovaSeq.hg38-pe-umis/KS91_K562_hg38_ASTARRseq_Output_rep1.f3q10.sorted.with_umis.dups_marked.bam \\\n",
    "#     /data/reddylab/Alex/encode4_duke/processing/starr_seq/210401_KS91_K562ASTARR_NovaSeq.hg38-pe-umis/KS91_K562_hg38_ASTARRseq_Output_rep2.f3q10.sorted.with_umis.dups_marked.bam \\\n",
    "#     /data/reddylab/Alex/encode4_duke/processing/starr_seq/210401_KS91_K562ASTARR_NovaSeq.hg38-pe-umis/KS91_K562_hg38_ASTARRseq_Output_rep3.f3q10.sorted.with_umis.dups_marked.bam \\\n",
    "#     /data/reddylab/Alex/encode4_duke/processing/starr_seq/210401_KS91_K562ASTARR_NovaSeq.hg38-pe-umis/KS91_K562_hg38_ASTARRseq_Output_rep4.f3q10.sorted.with_umis.dups_marked.bam \\\n",
    "BAMS=(\\\n",
    "    /data/reddylab/Alex/encode4_duke/processing/atac_seq/210401_KS91_K562ASTARR_NovaSeq.hg38-pe-blacklist-removal/merged2/KS91_K562_hg38_ASTARRseq_Input_rep1.masked.dups_marked.sorted.bam \\\n",
    "    /data/reddylab/Alex/encode4_duke/processing/atac_seq/210401_KS91_K562ASTARR_NovaSeq.hg38-pe-blacklist-removal/merged2/KS91_K562_hg38_ASTARRseq_Input_rep2.masked.dups_marked.sorted.bam \\\n",
    "    /data/reddylab/Alex/encode4_duke/processing/atac_seq/210401_KS91_K562ASTARR_NovaSeq.hg38-pe-blacklist-removal/merged2/KS91_K562_hg38_ASTARRseq_Input_rep3.masked.dups_marked.sorted.bam \\\n",
    "    /data/reddylab/Alex/encode4_duke/processing/atac_seq/210401_KS91_K562ASTARR_NovaSeq.hg38-pe-blacklist-removal/merged2/KS91_K562_hg38_ASTARRseq_Input_rep4.masked.dups_marked.sorted.bam \\\n",
    "    /data/reddylab/Alex/encode4_duke/processing/atac_seq/210401_KS91_K562ASTARR_NovaSeq.hg38-pe-blacklist-removal/merged2/KS91_K562_hg38_ASTARRseq_Input_rep5.masked.dups_marked.sorted.bam \\\n",
    "    /data/reddylab/Alex/encode4_duke/processing/atac_seq/210401_KS91_K562ASTARR_NovaSeq.hg38-pe-blacklist-removal/merged2/KS91_K562_hg38_ASTARRseq_Input_rep6.masked.dups_marked.sorted.bam \\\n",
    ")\n",
    "OUTDIR=/data/reddylab/Alex/encode4_duke/ipynbs/jamborees/20211025_MPRA_STARR_Jamboree/data/gata1_myc/starrseq/bams\n",
    "cd ${OUTDIR}\n",
    "for ii in ${BAMS[@]};\n",
    "do\n",
    "    SAMPLE=$(basename ${ii})\n",
    "    if [[ ! -e ${ii}.bai ]];\n",
    "    then\n",
    "        samtools index ${ii}\n",
    "    fi\n",
    "    samtools view \\\n",
    "        -F 1024 \\\n",
    "        -b \\\n",
    "        ${ii} \\\n",
    "        chr8:126736069-128736069 \\\n",
    "        > ${OUTDIR}/${SAMPLE/.bam/.MYC.bam}\n",
    "    samtools index ${OUTDIR}/${SAMPLE/.bam/.MYC.bam}\n",
    "    samtools view \\\n",
    "        -F 1024 \\\n",
    "        -b \\\n",
    "        ${ii} \\\n",
    "        chrX:47786554-49786554 \\\n",
    "        > ${OUTDIR}/${SAMPLE/.bam/.GATA1.bam}\n",
    "    samtools index ${OUTDIR}/${SAMPLE/.bam/.GATA1.bam}\n",
    "#     samtools view \\\n",
    "#         -b \\\n",
    "#         ${ii} \\\n",
    "#         chr11:61787329-61898348 \\\n",
    "#         > ${OUTDIR}/../fads/starrseq/${SAMPLE/.bam/.FADS.bam}\n",
    "#     samtools index ${OUTDIR}/../fads/starrseq/${SAMPLE/.bam/.FADS.bam}\n",
    "done\n",
    "\n"
   ]
  },
  {
   "cell_type": "code",
   "execution_count": null,
   "metadata": {},
   "outputs": [],
   "source": [
    "%%bash\n",
    "cd /data/reddylab/Alex/encode4_duke/ipynbs/jamborees/20211025_MPRA_STARR_Jamboree/data/gata1_myc/bed\n",
    "awk '$2!=\"NA\"' GATA-MYC_Tile_K562_K562_20210130.hg38.bed \\\n",
    "| awk -vOFS=\"\\t\" 'NR!=1{$1=\"chr\"$1}{print}' \\\n",
    "> GATA-MYC_Tile_K562_K562_20210130.hg38.cleaned.bed"
   ]
  },
  {
   "cell_type": "markdown",
   "metadata": {},
   "source": [
    "Next, extract fragment counts from each file:\n",
    "- [X] `bedtools bamtobed -bedpe`\n",
    "- [X] `cut -f 1, 2, 6`\n",
    "- [X] sort/uniq for counting"
   ]
  },
  {
   "cell_type": "code",
   "execution_count": 2,
   "metadata": {},
   "outputs": [],
   "source": [
    "%%bash\n",
    "source /data/reddylab/software/miniconda3/bin/activate alex_py3_dev\n",
    "OUTDIR=/data/reddylab/Alex/encode4_duke/ipynbs/jamborees/20211025_MPRA_STARR_Jamboree/data/gata1_myc/starrseq\n",
    "cd ${OUTDIR}\n",
    "mkdir -p fragments\n",
    "for ii in bams/KS91_K562_hg38_ASTARRseq_Input_rep*sorted*bam;\n",
    "do\n",
    "    SAMPLE=$(basename ${ii})\n",
    "    samtools sort -n  \\\n",
    "        ${ii} \\\n",
    "    | bedtools bamtobed \\\n",
    "        -bedpe \\\n",
    "        -mate1 \\\n",
    "        -i stdin \\\n",
    "    2> /dev/null \\\n",
    "    | awk -vOFS=\"@\" '{if($2>$5){TMP=$2; $2=$5; $5=TMP}; if($3>$6){TMP=$3; $3=$6; $6=TMP}print $1, $2, $6, $(NF-1)}' \\\n",
    "    | sort \\\n",
    "    | uniq -c \\\n",
    "    | awk -vOFS=\"\\t\" '{print $2, $1}' \\\n",
    "    | sed 's/@/\\t/g' \\\n",
    "    | sort -k1,1 -k2,2n \\\n",
    "    | awk -vOFS=\"\\t\" '{print $1, $2, $3, $1\"_\"$2\"_\"$3\"_\"$4, $5, $4}' \\\n",
    "    > fragments/${SAMPLE/.bam/.fragment_counts.stranded.bed}\n",
    "done    \n",
    "    "
   ]
  },
  {
   "cell_type": "code",
   "execution_count": 7,
   "metadata": {},
   "outputs": [],
   "source": [
    "%%bash\n",
    "source /data/reddylab/software/miniconda3/bin/activate alex_py3_dev\n",
    "OUTDIR=/data/reddylab/Alex/encode4_duke/ipynbs/jamborees/20211025_MPRA_STARR_Jamboree/data/fads/starrseq\n",
    "cd ${OUTDIR}\n",
    "mkdir -p fragments\n",
    "for ii in bams/*bam;\n",
    "do\n",
    "    SAMPLE=$(basename ${ii})\n",
    "    samtools sort -n  \\\n",
    "        ${ii} \\\n",
    "    | bedtools bamtobed \\\n",
    "        -bedpe \\\n",
    "        -mate1 \\\n",
    "        -i stdin \\\n",
    "    2> /dev/null \\\n",
    "    | awk -vOFS=\"@\" '{if($2>$5){TMP=$2; $2=$5; $5=TMP}; if($3>$6){TMP=$3; $3=$6; $6=TMP}print $1, $2, $6, $(NF-1)}' \\\n",
    "    | sort \\\n",
    "    | uniq -c \\\n",
    "    | awk -vOFS=\"\\t\" '{print $2, $1}' \\\n",
    "    | sed 's/@/\\t/g' \\\n",
    "    | sort -k1,1 -k2,2n \\\n",
    "    | awk -vOFS=\"\\t\" '{print $1, $2, $3, $1\"_\"$2\"_\"$3\"_\"$4, $5, $4}' \\\n",
    "    > fragments/${SAMPLE/.bam/.fragment_counts.stranded.bed}\n",
    "done    \n",
    "    "
   ]
  },
  {
   "cell_type": "code",
   "execution_count": null,
   "metadata": {},
   "outputs": [],
   "source": [
    "%%bash\n",
    "OUTDIR=/data/reddylab/Alex/encode4_duke/ipynbs/jamborees/20211025_MPRA_STARR_Jamboree/data/gata1_myc/starrseq/fragments\n",
    "cd ${OUTDIR}\n",
    "for ii in KS91_K562_hg38_ASTARRseq_Input_rep*fragment_counts.stranded.bed;\n",
    "do\n",
    "    sort -k4,4 ${ii} \\\n",
    "        | awk -vOFS=\"\\t\" 'LAST==$1$2$3{CC+=$5}LAST!=$1$2$3{print L1, L2, L3, L1\"_\"L2\"_\"L3,CC,\".\"; CC=$5}{LAST=$1$2$3;L1=$1;L2=$2;L3=$3}END{print L1, L2, L3, L1\"_\"L2\"_\"L3,CC,\".\"}' \\\n",
    "        | tail -n+2 \\\n",
    "        > ${ii/.fragment_counts.stranded.bed/.fragment_counts.unstranded.bed}\n",
    "done"
   ]
  },
  {
   "cell_type": "code",
   "execution_count": 8,
   "metadata": {},
   "outputs": [],
   "source": [
    "%%bash\n",
    "OUTDIR=/data/reddylab/Alex/encode4_duke/ipynbs/jamborees/20211025_MPRA_STARR_Jamboree/data/fads/starrseq/fragments\n",
    "cd ${OUTDIR}\n",
    "for ii in *fragment_counts.stranded.bed;\n",
    "do\n",
    "    sort -k4,4 ${ii} \\\n",
    "        | awk -vOFS=\"\\t\" 'LAST==$1$2$3{CC+=$5}LAST!=$1$2$3{print L1, L2, L3, L1\"_\"L2\"_\"L3,CC,\".\"; CC=$5}{LAST=$1$2$3;L1=$1;L2=$2;L3=$3}END{print L1, L2, L3, L1\"_\"L2\"_\"L3,CC,\".\"}' \\\n",
    "        | tail -n+2 \\\n",
    "        > ${ii/.fragment_counts.stranded.bed/.fragment_counts.unstranded.bed}\n",
    "done"
   ]
  },
  {
   "cell_type": "markdown",
   "metadata": {},
   "source": [
    "Merge all counts per experiment into a joined dataframe/table of counts"
   ]
  },
  {
   "cell_type": "code",
   "execution_count": 6,
   "metadata": {},
   "outputs": [],
   "source": [
    "def clean_up_name(x, suffices = [\".masked\", \".dups_marked\", \".f3q10\", \".sorted\", \".with_umis\"]):\n",
    "    for s in suffices:\n",
    "        x = x.replace(s, '')\n",
    "    return x\n"
   ]
  },
  {
   "cell_type": "code",
   "execution_count": 9,
   "metadata": {},
   "outputs": [],
   "source": [
    "import pandas as pd\n",
    "import os\n",
    "from functools import reduce\n",
    "\n",
    "bed6_headers = [\"chrom\", \"start\", \"end\", \"name\", \"count\", \"strand\"]\n",
    "data_dir = '/data/reddylab/Alex/encode4_duke/ipynbs/jamborees/20211025_MPRA_STARR_Jamboree/data/gata1_myc/starrseq/fragments/'\n",
    "groups = ['KS91_K562_hg38_ASTARRseq'] # 'A001.K562.starrseq', 'KW.K562.starrseq'\n",
    "loci = [\"MYC\", \"GATA1\"]#, \"GATA1\"\n",
    "strandnesses = [\"unstranded\", \"stranded\"]\n",
    "for locus in loci:\n",
    "    for gg in groups:\n",
    "        for strandness in strandnesses:\n",
    "            merged = pd.DataFrame()\n",
    "            for ii in sorted(os.listdir(data_dir)):\n",
    "                if 'sorted' in ii and ii.endswith('.%s.bed' % strandness) and gg in ii and locus in ii:\n",
    "                    sample_id = clean_up_name(ii.split(\".\"+locus)[0])\n",
    "                    tmp = pd.read_csv(\"%(data_dir)s/%(fn)s\" % {'data_dir': data_dir, 'fn': ii}, \n",
    "                                      sep='\\t', \n",
    "                                      names=[c+\"_\"+sample_id for c in bed6_headers],\n",
    "                                      index_col=\"name_\"+sample_id)\n",
    "                    merged = merged.join(tmp.iloc[:, 3], how='outer')\n",
    "            merged.columns = [c.replace(\"count_\", \"\") for c in merged.columns]\n",
    "            merged.fillna(0)\\\n",
    "                .astype(int)\\\n",
    "                .to_csv(\"%(data_dir)s/%(group)s.%(locus)s.%(strandness)s.counts.txt\" \\\n",
    "                              % {'data_dir': data_dir, 'group': gg, \n",
    "                                 'strandness': strandness, 'locus': locus},\n",
    "                         sep=\"\\t\")"
   ]
  },
  {
   "cell_type": "code",
   "execution_count": 2,
   "metadata": {},
   "outputs": [],
   "source": [
    "import pandas as pd\n",
    "import os\n",
    "from functools import reduce\n",
    "\n",
    "bed6_headers = [\"chrom\", \"start\", \"end\", \"name\", \"count\", \"strand\"]\n",
    "data_dir = '/data/reddylab/Alex/encode4_duke/ipynbs/jamborees/20211025_MPRA_STARR_Jamboree/data/fads/starrseq/fragments/'\n",
    "groups = ['KS91_K562_hg38_ASTARRseq'] # 'A001.K562.starrseq', 'KW.K562.starrseq'\n",
    "loci = [\"FADS\"]#\"MYC\", \"GATA1\"\n",
    "strandnesses = [\"unstranded\", \"stranded\"]\n",
    "for locus in loci:\n",
    "    for gg in groups:\n",
    "        for strandness in strandnesses:\n",
    "            merged = pd.DataFrame()\n",
    "            for ii in sorted(os.listdir(data_dir)):\n",
    "                if ii.endswith('.%s.bed' % strandness) and gg in ii and locus in ii:\n",
    "                    sample_id = clean_up_name(ii.split(\".\"+locus)[0])\n",
    "                    tmp = pd.read_csv(\"%(data_dir)s/%(fn)s\" % {'data_dir': data_dir, 'fn': ii}, \n",
    "                                      sep='\\t', \n",
    "                                      names=[c+\"_\"+sample_id for c in bed6_headers],\n",
    "                                      index_col=\"name_\"+sample_id)\n",
    "                    merged = merged.join(tmp.iloc[:, 3], how='outer')\n",
    "            merged.columns = [c.replace(\"count_\", \"\") for c in merged.columns]\n",
    "            merged.fillna(0)\\\n",
    "                .astype(int)\\\n",
    "                .to_csv(\"%(data_dir)s/%(group)s.%(locus)s.%(strandness)s.counts.txt\" \\\n",
    "                              % {'data_dir': data_dir, 'group': gg, \n",
    "                                 'strandness': strandness, 'locus': locus},\n",
    "                         sep=\"\\t\")"
   ]
  },
  {
   "cell_type": "markdown",
   "metadata": {},
   "source": [
    "Run DESeq2 on these experiments. Leave KW out since it only has one control (DESeq2 won't work with unreplicated experiments. Ask if the other control can be used here)."
   ]
  },
  {
   "cell_type": "code",
   "execution_count": 2,
   "metadata": {},
   "outputs": [
    {
     "data": {
      "text/plain": [
       "'/gpfs/fs1/data/reddylab/Alex/encode4_duke/ipynbs/jamborees/20211025_MPRA_STARR_Jamboree'"
      ]
     },
     "execution_count": 2,
     "metadata": {},
     "output_type": "execute_result"
    }
   ],
   "source": [
    "pwd"
   ]
  },
  {
   "cell_type": "code",
   "execution_count": 4,
   "metadata": {},
   "outputs": [],
   "source": [
    "%%bash\n",
    "mkdir -p logs\n",
    "mkdir -p results/deseq2"
   ]
  },
  {
   "cell_type": "code",
   "execution_count": 6,
   "metadata": {},
   "outputs": [
    {
     "name": "stdout",
     "output_type": "stream",
     "text": [
      "Submitted batch job 26702177\n"
     ]
    }
   ],
   "source": [
    "%%bash\n",
    "source /data/reddylab/software/miniconda2/bin/activate alex_dev\n",
    "module load gcc\n",
    "sbatch -p all \\\n",
    "    --array=0 \\\n",
    "    --mem 16G \\\n",
    "    -o /data/reddylab/Alex/encode4_duke/ipynbs/jamborees/20211025_MPRA_STARR_Jamboree/logs/de.deseq2.%a.out \\\n",
    "    <<'EOF'\n",
    "#!/bin/bash\n",
    "COMPARISONS=( \\\n",
    "    KS91_K562_hg38_ASTARRseq_Output@KS91_K562_hg38_ASTARRseq_Input \\\n",
    ")\n",
    "\n",
    "COMPARISON=${COMPARISONS[${SLURM_ARRAY_TASK_ID}]}\n",
    "TREAT=$(echo $COMPARISON | cut -d\"@\" -f1)\n",
    "CONTROL=$(echo $COMPARISON | cut -d\"@\" -f2)\n",
    "Rscript /data/reddylab/Alex/reddylab_utils/scripts/de.deseq2.R \\\n",
    "    --treatments $(echo ${TREAT}_rep{1,2,3,4}) \\\n",
    "    --controls $(echo ${CONTROL}_rep{1,2,3,4}) \\\n",
    "    --counts-only-treatments-and-controls \\\n",
    "    --lfcShrink ashr \\\n",
    "    --rep-sep \"_\" \\\n",
    "    --outdir /data/reddylab/Alex/encode4_duke/ipynbs/jamborees/20211025_MPRA_STARR_Jamboree/results/deseq2/ \\\n",
    "    --counts /data/reddylab/Alex/encode4_duke/ipynbs/jamborees/20211025_MPRA_STARR_Jamboree/data/gata1_myc/starrseq/fragments/KS91_K562_hg38_ASTARRseq.GATA1.unstranded.counts.txt\n",
    "EOF"
   ]
  },
  {
   "cell_type": "code",
   "execution_count": 7,
   "metadata": {},
   "outputs": [
    {
     "name": "stdout",
     "output_type": "stream",
     "text": [
      "Overwriting /data/reddylab/Alex/reddylab_utils/scripts/de.deseq2.R\n"
     ]
    }
   ],
   "source": [
    "%%writefile /data/reddylab/Alex/reddylab_utils/scripts/de.deseq2.R\n",
    "#!/usr/bin/env Rscript\n",
    "suppressPackageStartupMessages(library(DESeq2))\n",
    "suppressPackageStartupMessages(library(ggplot2))\n",
    "suppressPackageStartupMessages(library(matrixStats))\n",
    "suppressPackageStartupMessages(library(dplyr))\n",
    "suppressPackageStartupMessages(library(\"argparse\"))\n",
    "\n",
    "# Rewrite DESeq2 plotPCA function to specify which PC to plot\n",
    "plotPCA_ = function(object, intgroup=\"condition\", ntop=500, returnData=FALSE, pcX=1, pcY=2, ignoreReps=FALSE)\n",
    "{\n",
    "  # calculate the variance for each gene\n",
    "  rv <- rowVars(assay(object))\n",
    "\n",
    "  # select the ntop genes by variance\n",
    "  select <- order(rv, decreasing=TRUE)[seq_len(min(ntop, length(rv)))]\n",
    "\n",
    "  # perform a PCA on the data in assay(x) for the selected genes\n",
    "  pca <- prcomp(t(assay(object)[select,]))\n",
    "\n",
    "  # the contribution to the total variance for each component\n",
    "  percentVar <- pca$sdev^2 / sum( pca$sdev^2 )\n",
    "\n",
    "  if (!all(intgroup %in% names(colData(object)))) {\n",
    "    stop(\"the argument 'intgroup' should specify columns of colData(dds)\")\n",
    "  }\n",
    "\n",
    "  intgroup.df <- as.data.frame(colData(object)[, intgroup, drop=FALSE])  \n",
    "  # add the intgroup factors together to create a new grouping factor\n",
    "  group <- if (length(intgroup) > 1) {\n",
    "    factor(apply( intgroup.df, 1, paste, collapse=\":\"))\n",
    "  } else {\n",
    "    colData(object)[[intgroup]]\n",
    "  }\n",
    "    \n",
    "  if (returnData) {\n",
    "    attr(d, \"percentVar\") <- c(percentVar[pcX], percentVar[pcY])\n",
    "    return(d)\n",
    "  }\n",
    "  rep <- colData(object)[['rep']]\n",
    "#   rep <- row.names(colData(dds))\n",
    "  if (!ignoreReps){\n",
    "      # Add replicate info\n",
    "#       rep <- colData(object)[['rep']]\n",
    "\n",
    "        # assembly the data for the plot\n",
    "      d <- data.frame(PCX=pca$x[,pcX], PCY=pca$x[,pcY], group=group, rep=rep, intgroup.df, name=colnames(object))\n",
    "\n",
    "      ggplot(data=d, aes_string(x=\"PCX\", y=\"PCY\", color=\"group\", shape=\"rep\")) + geom_point(size=3) + \n",
    "        xlab(paste0(\"PC\", pcX, \": \",round(percentVar[pcX] * 100),\"% variance\")) +\n",
    "          ylab(paste0(\"PC\", pcY, \": \",round(percentVar[pcY] * 100),\"% variance\")) +\n",
    "      scale_shape_manual(values=seq(0,15))\n",
    "  } else {\n",
    "#       batch <- as.factor(colData(object)[['batch']])\n",
    "        # assembly the data for the plot\n",
    "      d <- data.frame(PCX=pca$x[,pcX], PCY=pca$x[,pcY], group=group, intgroup.df, name=colnames(object))\n",
    "\n",
    "      ggplot(data=d, aes_string(x=\"PCX\", y=\"PCY\", color=\"group\")) + \n",
    "          geom_point(size=3) +\n",
    "          geom_text(aes(label=rep),hjust=0, vjust=0) +\n",
    "          xlab(paste0(\"PC\", pcX, \": \",round(percentVar[pcX] * 100),\"% variance\")) +\n",
    "          ylab(paste0(\"PC\", pcY, \": \",round(percentVar[pcY] * 100),\"% variance\")) +\n",
    "      scale_shape_manual(values=seq(0,15))\n",
    "  }\n",
    "#     + coord_fixed()\n",
    "}\n",
    "\n",
    "# create parser object\n",
    "parser <- ArgumentParser()\n",
    "\n",
    "# specify our desired options \n",
    "# by default ArgumentParser will add an help option \n",
    "parser$add_argument(\"-c\", \"--controls\", nargs=\"+\", help=\"Featurecounts file for controls\")\n",
    "parser$add_argument(\"-t\", \"--treatments\", nargs=\"+\", help=\"Featurecounts file for treatments\")\n",
    "parser$add_argument(\"--counts\", nargs=\"+\", help=\"Count matrix (or matrices). Count columns should match controls and treatments specified\")\n",
    "parser$add_argument(\"--outdir\", help=\"Output directory where result files will be saved.\")\n",
    "parser$add_argument(\"--lfcShrink\", required=F, \n",
    "                    help=\"Perform effect size shrinkage (types: normal, apeglm and ashr. See Zhu, Ibrahim, and Love 2018).\")\n",
    "parser$add_argument(\"--lib-sizes\", required=F, \n",
    "                    help=\"Use library sizes as scaling factor overwritting the default total counts per library\")\n",
    "parser$add_argument(\"--counts-skip-ncols\", required=F, \n",
    "                    help=\"Skip n first columns from count matrix\")\n",
    "parser$add_argument(\"--counts-only-treatments-and-controls\", required=F, action=\"store_true\", default=FALSE,\n",
    "                    help=\"Keep only the counts from the treatment and control samples (affects dispersion estimates, but can speed up things significantly)\")\n",
    "parser$add_argument(\"--no-filter\", required=F, action=\"store_true\", default=FALSE,\n",
    "                    help=\"By default, lowly expressed regions in only 1 sample are removed. Specify if no filter should be done\")\n",
    "parser$add_argument(\"--no-model-reps\", required=F, action=\"store_true\", default=FALSE,\n",
    "                    help=\"Ignore replicates when plotting PCA components\")\n",
    "parser$add_argument(\"--norm-by-ercc\", required=F, action=\"store_true\", default=FALSE,\n",
    "                    help=\"Normalized using ERCC counts (probes staring by ERCC-)\")\n",
    "parser$add_argument(\"--samples-info-df\", required=F,\n",
    "                    help=\"Optionally, provide a DataFrame with sample info (which in DESeq2 is used as column data)\")\n",
    "parser$add_argument(\"--design-formula\", required=F,\n",
    "                    help=\"Optionally, if provided, use this design formular instead of trying to infer it from data\")\n",
    "parser$add_argument(\"--control-substr\", required=F, default=FALSE,\n",
    "                    help=\"Optionally, provide a substr found in rownames to identify control counts (e.g. housekeeping genes, spike-ins, etc.). It changes the estimateSizeFactors function\")\n",
    "parser$add_argument(\"--pca-int-groups\", required=F, nargs='*',\n",
    "                    help=\"Optionally, columns from design formula to be used in PCA analysis\")\n",
    "parser$add_argument(\"--rep-sep\", required=F, default=\".\",\n",
    "                    help=\"Optionally, replicate separator in sample names\")\n",
    "\n",
    "# get command line options, if help option encountered print help and exit,\n",
    "# otherwise if options not found on command line then set defaults, \n",
    "args <- parser$parse_args()\n",
    "args\n",
    "treatments <- args$treatments\n",
    "controls <- args$controls\n",
    "outdir <- args$outdir\n",
    "\n",
    "ff <- args$counts\n",
    "dd <- lapply(ff, read.csv, header=TRUE, sep=\"\\t\", stringsAsFactors=FALSE, row.names=1)\n",
    "xx <- do.call(cbind, dd)\n",
    "\n",
    "countData <- xx\n",
    "if (!is.null(args$counts_skip_ncols)){\n",
    "    countData <- xx[, -c(1:args$counts_skip_ncols)]\n",
    "}\n",
    "\n",
    "colnames(countData)[colnames(countData)%in%append(treatments, controls)]\n",
    "if (args$counts_only_treatments_and_controls){\n",
    "#     countData <- xx %>% select(unlist(append(treatments, controls)))\n",
    "    countData <- subset(xx, select = colnames(countData)[colnames(countData)%in%append(treatments, controls)])\n",
    "}\n",
    "\n",
    "controls\n",
    "treatments\n",
    "samples_no_reps <- gsub(paste0(\"(.*)\\\\\", args$rep_sep, \".*\"), \"\\\\1\", colnames(countData))\n",
    "# samples_no_reps <- gsub(\"(.*)\\\\..*\", \"\\\\1\", colnames(countData))\n",
    "reps <- gsub(paste0(\".*\\\\\", args$rep_sep, \"(.*)\"), \"\\\\1\", colnames(countData))\n",
    "# reps <- gsub(\".*\\\\.(.*)\", \"\\\\1\", colnames(countData))\n",
    "conditions <- samples_no_reps\n",
    "conditions\n",
    "\n",
    "# Reorder condition comparisons to always compute log2 fold changes of treat vs control\n",
    "conditions_pair <- unique(conditions)\n",
    "control_conditions <- unique(gsub(paste0(\"(.*)\\\\\", args$rep_sep, \".*\"), \"\\\\1\", controls)) #\"(.*)\\\\..*\"\n",
    "treatment_conditions <- unique(gsub(paste0(\"(.*)\\\\\", args$rep_sep, \".*\"), \"\\\\1\", treatments))\n",
    "\n",
    "if (!is.null(args$samples_info_df)){\n",
    "    colData <- read.csv(args$samples_info_df, \n",
    "                        header=TRUE, sep=\"\\t\", \n",
    "                        stringsAsFactors=TRUE, row.names=1)\n",
    "    colData <- colData[colnames(countData), ]\n",
    "    design_formula_str <- paste(c(\"~ \", paste(colnames(colData), collapse = \" + \")), collapse='')\n",
    "    if (!is.null(args$design_formula)){\n",
    "        design_formula_str <- args$design_formula\n",
    "    }\n",
    "    print(design_formula_str)\n",
    "    dds <- DESeqDataSetFromMatrix(countData = countData,\n",
    "                                  colData = colData,\n",
    "                                  design = formula(design_formula_str))\n",
    "    intgroup <- colnames(colData)  # For PCA plots\n",
    "} else {\n",
    "    intgroup <- c(\"condition\")  # For PCA plots\n",
    "    colData <- data.frame(condition=conditions, rep=reps, row.names=colnames(countData))    \n",
    "    if (!(args$no_model_reps)){\n",
    "        print(reps)\n",
    "    #     colData <- data.frame(condition=conditions, rep=reps, row.names=colnames(countData))\n",
    "        dds <- DESeqDataSetFromMatrix(countData = countData,\n",
    "                                      colData = colData,\n",
    "                                      design = ~ rep + condition)\n",
    "    } else {\n",
    "    #     colData <- data.frame(condition=conditions, row.names=colnames(countData))\n",
    "        dds <- DESeqDataSetFromMatrix(countData = countData,\n",
    "                                      colData = colData,\n",
    "                                      design = ~ condition)\n",
    "    }\n",
    "    # Relevel to setup control as reference\n",
    "    dds$condition <- relevel(dds$condition, ref = control_conditions)\n",
    "} \n",
    "\n",
    "\n",
    "# Optionally: if lib_sizes provided, manually assigned scale factors\n",
    "if (!is.null(args$lib_sizes)){\n",
    "    lib_sizes <- read.table(args$lib_sizes, sep=\"\\t\", row.names=1)\n",
    "    lib_sizes <- lib_sizes[colnames(countData), ]\n",
    "    lib_sizes_scale_factors <- lib_sizes/min(lib_sizes)\n",
    "    sizeFactors(dds) <- lib_sizes_scale_factors    \n",
    "}\n",
    "\n",
    "if (args$norm_by_ercc){\n",
    "    ercc_genes <- countData[grepl(\"^ERCC\", rownames(countData)), ]\n",
    "    dds <- DESeqDataSetFromMatrix(countData = countData[!grepl(\"^ERCC\", rownames(countData)), ],\n",
    "                              colData = colData,\n",
    "                              design = ~ condition)\n",
    "    ercc_dds <- DESeqDataSetFromMatrix(countData = ercc_genes, \n",
    "                                       colData = colData,\n",
    "                                       design = ~ condition)\n",
    "    sizeFactors(dds) <-  sizeFactors(estimateSizeFactors(ercc_dds))\n",
    "    # Relevel to setup control as reference\n",
    "    dds$condition <- relevel(dds$condition, ref = control_conditions)\n",
    "}\n",
    "\n",
    "# Pre-filtering low count genes\n",
    "# dds <- dds[ rowSums(counts(dds)) > 5, ]\n",
    "if (!args$no_filter){\n",
    "    dds <- dds[ rowSums(fpm(dds, robust = FALSE)>=2) > 1, ]\n",
    "}\n",
    "\n",
    "# Run DESeq2\n",
    "# dds <- DESeq(dds, betaPrior=FALSE)\n",
    "if (is.character(args$control_substr)){\n",
    "    control_idxs <- which(grepl(args$control_substr, rownames(countData)))\n",
    "    dds <- estimateSizeFactors(dds, controlGenes=control_idxs)\n",
    "} else {\n",
    "    dds <- estimateSizeFactors(dds)\n",
    "}\n",
    "dds <- estimateDispersions(dds)\n",
    "dds <- nbinomWaldTest(dds)\n",
    "\n",
    "\n",
    "# Calculate comparison string name \n",
    "treat_vs_contr <- paste0(treatment_conditions, '_vs_', control_conditions)\n",
    "\n",
    "# Extracting transformed values for PCA analysis\n",
    "vsd <- tryCatch({\n",
    "    vst(dds, blind=FALSE)\n",
    "}, error = function(e){\n",
    "    varianceStabilizingTransformation(dds, blind=FALSE)\n",
    "})\n",
    "\n",
    "\n",
    "# Create PCA plot for the first and second PCs\n",
    "pdf(paste0(outdir, '/', treat_vs_contr, '.pca.1_vs_2.pdf'), width=10, height=8)\n",
    "plotPCA_(vsd, intgroup=intgroup, ntop=500, pcX=1, pcY=2, ignoreReps=args$no_model_reps)\n",
    "dev.off()\n",
    "# Create PCA plot for the second and third PCs\n",
    "pdf(paste0(outdir, '/', treat_vs_contr, '.pca.2_vs_3.pdf'), width=10, height=8)\n",
    "plotPCA_(vsd, intgroup=intgroup, ntop=500, pcX=2, pcY=3, ignoreReps=args$no_model_reps)\n",
    "dev.off()\n",
    "# Create PCA plot for the third and fourth PCs\n",
    "pdf(paste0(outdir, '/', treat_vs_contr, '.pca.3_vs_4.pdf'), width=10, height=8)\n",
    "plotPCA_(vsd, intgroup=intgroup, ntop=500, pcX=3, pcY=4, ignoreReps=args$no_model_reps)\n",
    "dev.off()\n",
    "\n",
    "c('condition',  \n",
    "  conditions_pair[conditions_pair %in% treatment_conditions], \n",
    "  conditions_pair[conditions_pair %in% control_conditions])\n",
    "res <- results(dds, \n",
    "               contrast=c('condition', \n",
    "                          conditions_pair[conditions_pair %in% treatment_conditions],\n",
    "                          conditions_pair[conditions_pair %in% control_conditions]), \n",
    "               alpha=0.05, \n",
    "               independentFiltering=F)  # TODO: Test how the results look without independent filtering\n",
    "\n",
    "# Print out result names\n",
    "resultsNames(dds)\n",
    "\n",
    "# Shrink log2 fold-change values?\n",
    "if (!is.null(args$lfcShrink)){\n",
    "    # If lfcShrinkage specified, save unshrunk values\n",
    "    resOrdered <- res[order(res$padj),]\n",
    "\n",
    "    # Save sorted results in a text file\n",
    "    write.table(resOrdered, \n",
    "                file=paste0(outdir, '/', treat_vs_contr, '.unshrunk.txt'),\n",
    "                quote = FALSE, row.names=TRUE, sep = '\\t')\n",
    "\n",
    "    # Create plot for the log2 fold changes from the treatment over the mean of normalized counts\n",
    "    pdf(paste0(outdir, '/', treat_vs_contr, '.unshrunk.pdf'))\n",
    "    log2fc_lim <- ceiling(max(max(res$log2FoldChange), abs(min(res$log2FoldChange))))\n",
    "    plotMA(res, main=paste0(\"DESeq2_unshrunk_lfc_\", treat_vs_contr), ylim=c(-log2fc_lim,log2fc_lim))\n",
    "    dev.off()\n",
    "\n",
    "    # Calculate lfcShrink values\n",
    "    targ_contrast <- paste0(\"condition_\", treat_vs_contr)\n",
    "    res <- lfcShrink(dds, \n",
    "                     coef=targ_contrast, \n",
    "                     type=args$lfcShrink)\n",
    "}\n",
    "\n",
    "# Sort by adjusted p-value (FDR)\n",
    "(resOrdered <- res[order(res$padj),])\n",
    "\n",
    "# Print out summary of results\n",
    "summary(resOrdered, alpha=0.05)\n",
    "\n",
    "# Try IHW multiple hypothesis testing package\n",
    "library(\"IHW\")\n",
    "resIHW <- results(dds, \n",
    "                  alpha=0.05,\n",
    "                  contrast=c('condition', \n",
    "                          conditions_pair[conditions_pair %in% treatment_conditions],\n",
    "                          conditions_pair[conditions_pair %in% control_conditions]),\n",
    "                  filterFun=ihw\n",
    "                 )\n",
    "summary(resIHW, alpha=0.05)\n",
    "resIHW <- resIHW[order(resIHW$padj),]\n",
    "\n",
    "# Create plot for the log2 fold changes from the treatment over the mean of normalized counts\n",
    "log2fc_lim <- ceiling(max(max(res$log2FoldChange), abs(min(res$log2FoldChange))))\n",
    "pdf(paste0(outdir, '/', treat_vs_contr, '.pdf'))\n",
    "plotMA(res, main=paste0(\"DESeq2_\", treat_vs_contr), ylim=c(-log2fc_lim,log2fc_lim))\n",
    "dev.off()\n",
    "\n",
    "# Create plot for dispersion of normalized counts\n",
    "pdf(paste0(outdir, '/', treat_vs_contr, '.mean_counts_dispersion.pdf'))\n",
    "plotDispEsts(dds)\n",
    "dev.off()\n",
    "\n",
    "# To check if there are too many outliers, plot the Cook distances \n",
    "pdf(paste0(outdir, '/', treat_vs_contr, '.cook_distances.pdf'))\n",
    "par(mar=c(8,5,2,2))\n",
    "boxplot(log10(assays(dds)[[\"cooks\"]]), range=0, las=2)\n",
    "dev.off()\n",
    "\n",
    "# Save sorted results in a text file\n",
    "write.table(resOrdered, \n",
    "            file=paste0(outdir, '/', treat_vs_contr, '.txt'),\n",
    "            quote = FALSE, row.names=TRUE, sep = '\\t')\n",
    "\n",
    "# Save IHW results in a text file\n",
    "write.table(resIHW, \n",
    "            file=paste0(outdir, '/', treat_vs_contr, '.IHW.txt'),\n",
    "            quote = FALSE, row.names=TRUE, sep = '\\t')\n",
    "\n",
    "# Save vsd transformed values\n",
    "write.table(assay(vsd), \n",
    "            file=paste0(outdir, '/', treat_vs_contr, '.vsd.txt'),\n",
    "            quote = FALSE, row.names=TRUE, sep = '\\t')\n",
    "\n",
    "\n",
    "rld <- rlog(dds) # rlog transformed values (typically used for clustering - see DESeq2 manual for details)\n",
    "# Save rlog transformed values\n",
    "write.table(assay(rld), \n",
    "            file=paste0(outdir, '/', treat_vs_contr, '.rlog.txt'),\n",
    "            quote = FALSE, row.names=TRUE, sep = '\\t')\n",
    "\n",
    "# Save .RData object\n",
    "save.image(paste0(outdir, '/', treat_vs_contr, '.RData'))\n",
    "\n",
    "cat(\"Done!\")\n"
   ]
  },
  {
   "cell_type": "code",
   "execution_count": 1,
   "metadata": {},
   "outputs": [],
   "source": [
    "import pandas as pd\n",
    "import numpy as np\n",
    "from matplotlib_venn import venn2\n",
    "from matplotlib import pyplot as plt"
   ]
  },
  {
   "cell_type": "markdown",
   "metadata": {},
   "source": [
    "What's the overlap at the fragment level for ASTARR samples? "
   ]
  },
  {
   "cell_type": "code",
   "execution_count": 7,
   "metadata": {},
   "outputs": [],
   "source": [
    "gata1 = pd.read_csv(\"/data/reddylab/Alex/encode4_duke/ipynbs/jamborees/20211025_MPRA_STARR_Jamboree/data/gata1_myc/starrseq/fragments/KS91_K562_hg38_ASTARRseq.GATA1.unstranded.counts.txt\", \n",
    "                    sep=\"\\t\", index_col=0)"
   ]
  },
  {
   "cell_type": "code",
   "execution_count": 49,
   "metadata": {},
   "outputs": [
    {
     "data": {
      "text/plain": [
       "Text(0.5, 1.0, 'GATA1 locus\\nfragments with >0 counts in >0 rep')"
      ]
     },
     "execution_count": 49,
     "metadata": {},
     "output_type": "execute_result"
    },
    {
     "data": {
      "image/png": "[encoded data removed]",
      "text/plain": [
       "<Figure size 864x864 with 1 Axes>"
      ]
     },
     "metadata": {},
     "output_type": "display_data"
    }
   ],
   "source": [
    "fig, ax = plt.subplots(figsize=[12, 12])\n",
    "venn2([\n",
    "    set(gata1.loc[gata1.iloc[:, :6 ].max(axis=1)>0, :].index.values),\n",
    "    set(gata1.loc[gata1.iloc[:, 6:].max(axis=1)>0, :].index.values)], set_labels=['input', 'output'])\n",
    "plt.title(\"GATA1 locus\\nfragments with >0 counts in >0 rep\")"
   ]
  },
  {
   "cell_type": "code",
   "execution_count": 48,
   "metadata": {},
   "outputs": [
    {
     "data": {
      "text/plain": [
       "Text(0.5, 1.0, 'GATA1 locus\\nfragments with >0 counts in ALL reps')"
      ]
     },
     "execution_count": 48,
     "metadata": {},
     "output_type": "execute_result"
    },
    {
     "data": {
      "image/png": "[encoded data removed]",
      "text/plain": [
       "<Figure size 864x864 with 1 Axes>"
      ]
     },
     "metadata": {},
     "output_type": "display_data"
    }
   ],
   "source": [
    "fig, ax = plt.subplots(figsize=[12, 12])\n",
    "venn2([\n",
    "    set(gata1.loc[gata1.iloc[:, :6].min(axis=1)>0, :].index.values),\n",
    "    set(gata1.loc[gata1.iloc[:, 6:].min(axis=1)>0, :].index.values)], set_labels=['input', 'output'])\n",
    "plt.title(\"GATA1 locus\\nfragments with >0 counts in ALL reps\")"
   ]
  },
  {
   "cell_type": "code",
   "execution_count": 41,
   "metadata": {},
   "outputs": [],
   "source": [
    "myc = pd.read_csv(\"/data/reddylab/Alex/encode4_duke/ipynbs/jamborees/20211025_MPRA_STARR_Jamboree/data/gata1_myc/starrseq/fragments/KS91_K562_hg38_ASTARRseq.MYC.unstranded.counts.txt\", \n",
    "                    sep=\"\\t\", index_col=0)"
   ]
  },
  {
   "cell_type": "code",
   "execution_count": 50,
   "metadata": {},
   "outputs": [
    {
     "data": {
      "text/plain": [
       "Text(0.5, 1.0, 'MYC locus\\nfragments with >0 counts in >0 rep')"
      ]
     },
     "execution_count": 50,
     "metadata": {},
     "output_type": "execute_result"
    },
    {
     "data": {
      "image/png": "[encoded data removed]",
      "text/plain": [
       "<Figure size 864x864 with 1 Axes>"
      ]
     },
     "metadata": {},
     "output_type": "display_data"
    }
   ],
   "source": [
    "fig, ax = plt.subplots(figsize=[12, 12])\n",
    "venn2([\n",
    "    set(myc.loc[myc.iloc[:, :6].max(axis=1)>0, :].index.values),\n",
    "    set(myc.loc[myc.iloc[:, 6:].max(axis=1)>0, :].index.values)], set_labels=['input', 'output'])\n",
    "plt.title(\"MYC locus\\nfragments with >0 counts in >0 rep\")"
   ]
  },
  {
   "cell_type": "code",
   "execution_count": 51,
   "metadata": {},
   "outputs": [
    {
     "data": {
      "text/plain": [
       "Text(0.5, 1.0, 'MYC locus\\nfragments with >0 counts in ALL reps')"
      ]
     },
     "execution_count": 51,
     "metadata": {},
     "output_type": "execute_result"
    },
    {
     "data": {
      "image/png": "[encoded data removed]",
      "text/plain": [
       "<Figure size 864x864 with 1 Axes>"
      ]
     },
     "metadata": {},
     "output_type": "display_data"
    }
   ],
   "source": [
    "fig, ax = plt.subplots(figsize=[12, 12])\n",
    "venn2([\n",
    "    set(myc.loc[myc.iloc[:, :6].min(axis=1)>0, :].index.values),\n",
    "    set(myc.loc[myc.iloc[:, 6:].min(axis=1)>0, :].index.values)], set_labels=['input', 'output'])\n",
    "plt.title(\"MYC locus\\nfragments with >0 counts in ALL reps\")"
   ]
  }
 ],
 "metadata": {
  "kernelspec": {
   "display_name": "Python 3 (ipykernel)",
   "language": "python",
   "name": "python3"
  },
  "language_info": {
   "codemirror_mode": {
    "name": "ipython",
    "version": 3
   },
   "file_extension": ".py",
   "mimetype": "text/x-python",
   "name": "python",
   "nbconvert_exporter": "python",
   "pygments_lexer": "ipython3",
   "version": "3.7.4"
  }
 },
 "nbformat": 4,
 "nbformat_minor": 4
}
