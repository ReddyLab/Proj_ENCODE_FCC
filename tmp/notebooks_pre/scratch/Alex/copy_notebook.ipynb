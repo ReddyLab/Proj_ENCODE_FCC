{
 "cells": [
  {
   "cell_type": "code",
   "execution_count": 1,
   "id": "7733cffb-c116-4ca5-985b-e8a044fa45e9",
   "metadata": {},
   "outputs": [],
   "source": [
    "cp /data/reddylab/Alex/encode4_duke/ipynbs/jamborees/20211025_MPRA_STARR_Jamboree/wrangle_MYC_GATA1_data.ipynb ./"
   ]
  },
  {
   "cell_type": "code",
   "execution_count": null,
   "id": "b7dadef9-669b-4b99-9e66-60ee7680cb5f",
   "metadata": {},
   "outputs": [],
   "source": []
  }
 ],
 "metadata": {
  "kernelspec": {
   "display_name": "Bash",
   "language": "bash",
   "name": "bash"
  },
  "language_info": {
   "codemirror_mode": "shell",
   "file_extension": ".sh",
   "mimetype": "text/x-sh",
   "name": "bash"
  }
 },
 "nbformat": 4,
 "nbformat_minor": 5
}
