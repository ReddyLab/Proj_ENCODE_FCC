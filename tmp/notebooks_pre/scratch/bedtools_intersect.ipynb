{
 "cells": [
  {
   "cell_type": "code",
   "execution_count": 10,
   "id": "3c318a7d-0fc6-4eb4-9b4c-cf8a2777bff9",
   "metadata": {},
   "outputs": [],
   "source": [
    "### set env\n",
    "source ../config_duke.sh -v\n",
    "source ../config_load_module_bedtools.sh"
   ]
  },
  {
   "cell_type": "code",
   "execution_count": 2,
   "id": "c451a9b4-ee68-436b-91fd-3d99ec1270a0",
   "metadata": {},
   "outputs": [],
   "source": [
    "TAB=\"$(printf '\\t')\""
   ]
  },
  {
   "cell_type": "code",
   "execution_count": 7,
   "id": "7af2003d-1ebb-46aa-8aba-ca719dd26645",
   "metadata": {},
   "outputs": [],
   "source": [
    "cat > A.bed << EOF\n",
    "chr1${TAB}05${TAB}50\n",
    "chr1${TAB}10015${TAB}10442\n",
    "EOF\n",
    "\n",
    "cat > B.bed << EOF\n",
    "chr1${TAB}10${TAB}20${TAB}B1\n",
    "chr1${TAB}15${TAB}40${TAB}B2\n",
    "chr1${TAB}10016${TAB}10229${TAB}ZBTB5:K-562\n",
    "EOF"
   ]
  },
  {
   "cell_type": "code",
   "execution_count": 8,
   "id": "95555430-db4d-4450-9e9d-198de1892fcb",
   "metadata": {},
   "outputs": [
    {
     "name": "stdout",
     "output_type": "stream",
     "text": [
      "chr1\t5\t50\tchr1\t10\t20\tB1\t10\n",
      "chr1\t5\t50\tchr1\t15\t40\tB2\t25\n",
      "chr1\t10015\t10442\tchr1\t10016\t10229\tZBTB5:K-562\t213\n"
     ]
    }
   ],
   "source": [
    "bedtools intersect -a A.bed -b B.bed -wo"
   ]
  },
  {
   "cell_type": "code",
   "execution_count": 13,
   "id": "de09cc5d-0764-4d1f-b3cb-f90fae4f3b69",
   "metadata": {},
   "outputs": [
    {
     "name": "stdout",
     "output_type": "stream",
     "text": [
      "cat: write error: Broken pipe\n"
     ]
    }
   ],
   "source": [
    "FP_BED=\"${FD_RES}/source/starrseq_peak_macs/KS91_K562_hg38_ASTARRseq_Input.all_reps.masked.union_narrowPeak.q5.bed\"\n",
    "cat ${FP_BED} | head -n 10 > A.bed"
   ]
  },
  {
   "cell_type": "code",
   "execution_count": 14,
   "id": "5668efc0-8684-4fd3-a1c6-6c88d9e9a028",
   "metadata": {},
   "outputs": [
    {
     "name": "stdout",
     "output_type": "stream",
     "text": [
      "chr1\t10015\t10442\n",
      "chr1\t14253\t14645\n",
      "chr1\t16015\t16477\n",
      "chr1\t17237\t17772\n",
      "chr1\t28903\t29613\n",
      "chr1\t30803\t31072\n",
      "chr1\t101603\t101849\n",
      "chr1\t115411\t115986\n",
      "chr1\t118518\t118743\n",
      "chr1\t136071\t137429\n"
     ]
    }
   ],
   "source": [
    "cat A.bed"
   ]
  },
  {
   "cell_type": "code",
   "execution_count": 15,
   "id": "ce581c73-a463-4b28-b925-e2128c65af0f",
   "metadata": {},
   "outputs": [
    {
     "name": "stdout",
     "output_type": "stream",
     "text": [
      "\n",
      "gzip: stdout: Broken pipe\n"
     ]
    }
   ],
   "source": [
    "FP_BED=\"${FD_RES}/source/remap2022/remap2022_K562_nr_macs2_hg38_v1_0.bed.gz\"\n",
    "zcat ${FP_BED} | head -n 30 > B.bed"
   ]
  },
  {
   "cell_type": "code",
   "execution_count": 16,
   "id": "98e3903e-33fc-4fea-9a7b-74084e1f9aef",
   "metadata": {},
   "outputs": [
    {
     "name": "stdout",
     "output_type": "stream",
     "text": [
      "chr1\t9899\t10349\tEP400:K-562\t1\t.\t10089\t10090\t102,132,184\n",
      "chr1\t9901\t10232\tNCOA1:K-562\t1\t.\t10078\t10079\t56,224,224\n",
      "chr1\t9902\t10328\tZBTB40:MCF-7,Hep-G2,K-562,GM12878\t4\t.\t10093\t10094\t73,149,46\n",
      "chr1\t9905\t10132\tAFF1:K-562\t1\t.\t10088\t10089\t11,34,77\n",
      "chr1\t9905\t10288\tZNF184:K-562\t1\t.\t10104\t10105\t157,198,124\n",
      "chr1\t9907\t10242\tE2F8:K-562\t1\t.\t10090\t10091\t124,224,254\n",
      "chr1\t9915\t10275\tNR2C1:K-562\t1\t.\t10090\t10091\t41,250,89\n",
      "chr1\t9915\t10367\tPRDM10:K-562\t1\t.\t10090\t10091\t11,207,118\n",
      "chr1\t9918\t10142\tMNT:K-562\t1\t.\t10072\t10073\t140,56,112\n",
      "chr1\t9921\t10243\tNUFIP1:K-562\t1\t.\t10090\t10091\t65,84,154\n",
      "chr1\t9924\t10230\tSNIP1:MCF-7,K-562\t2\t.\t10097\t10098\t208,49,131\n",
      "chr1\t9924\t10247\tTCF12:K-562\t1\t.\t10085\t10086\t56,196,196\n",
      "chr1\t9927\t10145\tLEF1:K-562\t1\t.\t10090\t10091\t252,168,140\n",
      "chr1\t9927\t10221\tZNF24:K-562\t1\t.\t10081\t10082\t196,28,28\n",
      "chr1\t9927\t10227\tMCM3:K-562\t1\t.\t10089\t10090\t39,12,250\n",
      "chr1\t9928\t10180\tTRIM24:K-562\t2\t.\t10095\t10096\t252,56,252\n",
      "chr1\t9942\t10188\tSMARCE1:MCF-7,K-562\t2\t.\t10085\t10086\t24,178,97\n",
      "chr1\t9957\t10220\tNFATC3:GM12878,K-562\t2\t.\t10081\t10082\t214,16,163\n",
      "chr1\t9958\t10189\tEHMT2:K-562\t1\t.\t10082\t10083\t10,138,58\n",
      "chr1\t9963\t10198\tNONO:K-562,Hep-G2\t2\t.\t10093\t10094\t168,112,224\n",
      "chr1\t9986\t10179\tHDAC1:K-562\t1\t.\t10089\t10090\t168,196,224\n",
      "chr1\t10010\t10243\tMCM5:K-562\t1\t.\t10092\t10093\t68,94,154\n",
      "chr1\t10016\t10229\tZBTB5:K-562\t1\t.\t10108\t10109\t215,95,8\n",
      "chr1\t136239\t136897\tZBTB33:K-562\t1\t.\t136734\t136735\t252,224,252\n",
      "chr1\t136277\t137062\tEGR1:K-562\t2\t.\t136757\t136758\t56,224,140\n",
      "chr1\t136281\t137167\tZNF639:K-562\t1\t.\t136754\t136755\t224,112,112\n",
      "chr1\t136332\t136968\tTRIM24:K-562\t2\t.\t136803\t136804\t252,56,252\n",
      "chr1\t136340\t137098\tNR2C1:K-562\t2\t.\t136788\t136789\t41,250,89\n",
      "chr1\t136488\t136934\tSMARCE1:K-562\t1\t.\t136786\t136787\t24,178,97\n",
      "chr1\t136525\t136926\tMTA3:K-562\t1\t.\t136729\t136730\t156,111,43\n"
     ]
    }
   ],
   "source": [
    "cat B.bed"
   ]
  },
  {
   "cell_type": "code",
   "execution_count": 19,
   "id": "1d45b080-822e-447f-8f06-89dc183eecc5",
   "metadata": {},
   "outputs": [],
   "source": [
    "bedtools intersect -a A.bed -b B.bed -wo -F 1.0  | gzip -c > C.bed.gz"
   ]
  },
  {
   "cell_type": "code",
   "execution_count": 20,
   "id": "c0122179-6033-47e2-a135-8021562afc90",
   "metadata": {},
   "outputs": [
    {
     "name": "stdout",
     "output_type": "stream",
     "text": [
      "chr1\t10015\t10442\tchr1\t10016\t10229\tZBTB5:K-562\t1\t.\t10108\t10109\t215,95,8\t213\n",
      "chr1\t136071\t137429\tchr1\t136239\t136897\tZBTB33:K-562\t1\t.\t136734\t136735\t252,224,252\t658\n",
      "chr1\t136071\t137429\tchr1\t136277\t137062\tEGR1:K-562\t2\t.\t136757\t136758\t56,224,140\t785\n",
      "chr1\t136071\t137429\tchr1\t136281\t137167\tZNF639:K-562\t1\t.\t136754\t136755\t224,112,112\t886\n",
      "chr1\t136071\t137429\tchr1\t136332\t136968\tTRIM24:K-562\t2\t.\t136803\t136804\t252,56,252\t636\n",
      "chr1\t136071\t137429\tchr1\t136340\t137098\tNR2C1:K-562\t2\t.\t136788\t136789\t41,250,89\t758\n",
      "chr1\t136071\t137429\tchr1\t136488\t136934\tSMARCE1:K-562\t1\t.\t136786\t136787\t24,178,97\t446\n",
      "chr1\t136071\t137429\tchr1\t136525\t136926\tMTA3:K-562\t1\t.\t136729\t136730\t156,111,43\t401\n"
     ]
    }
   ],
   "source": [
    "zcat C.bed.gz"
   ]
  },
  {
   "cell_type": "code",
   "execution_count": null,
   "id": "2cec8fe2-95fc-469e-87c3-d855f27c7c4f",
   "metadata": {},
   "outputs": [],
   "source": []
  }
 ],
 "metadata": {
  "kernelspec": {
   "display_name": "Bash",
   "language": "bash",
   "name": "bash"
  },
  "language_info": {
   "codemirror_mode": "shell",
   "file_extension": ".sh",
   "mimetype": "text/x-sh",
   "name": "bash"
  }
 },
 "nbformat": 4,
 "nbformat_minor": 5
}
