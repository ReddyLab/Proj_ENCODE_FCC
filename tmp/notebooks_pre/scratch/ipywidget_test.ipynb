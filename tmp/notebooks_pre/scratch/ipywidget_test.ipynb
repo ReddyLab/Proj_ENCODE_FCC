{
 "cells": [
  {
   "cell_type": "markdown",
   "id": "8e2c896d-e0b3-4151-a564-fee8d3c4edc0",
   "metadata": {},
   "source": [
    "(12) Introduction to ipywidgets | Jupyter Widgets Introduction | What is ipywidgets with an example - YouTube\n",
    "https://www.youtube.com/watch?v=wb6k_T4rKBQ&t=68s"
   ]
  },
  {
   "cell_type": "code",
   "execution_count": 7,
   "id": "235478a4-e898-44f5-88c6-249b51953d17",
   "metadata": {},
   "outputs": [],
   "source": [
    "import ipywidgets as widgets"
   ]
  },
  {
   "cell_type": "markdown",
   "id": "6eec0718-71d5-49d9-838d-45878e87259c",
   "metadata": {},
   "source": [
    "## Simple Integer Slider"
   ]
  },
  {
   "cell_type": "code",
   "execution_count": 8,
   "id": "1e70507d-01b3-462f-8f58-b55235286da4",
   "metadata": {},
   "outputs": [
    {
     "data": {
      "application/vnd.jupyter.widget-view+json": {
       "model_id": "02d7fe9c88d44acfb25c7cb12c2181a5",
       "version_major": 2,
       "version_minor": 0
      },
      "text/plain": [
       "IntSlider(value=0)"
      ]
     },
     "metadata": {},
     "output_type": "display_data"
    }
   ],
   "source": [
    "widgets.IntSlider()"
   ]
  },
  {
   "cell_type": "code",
   "execution_count": 9,
   "id": "6a6bd326-cdd2-4e42-b5aa-13578664e502",
   "metadata": {},
   "outputs": [],
   "source": [
    "w = widgets.IntSlider()"
   ]
  },
  {
   "cell_type": "code",
   "execution_count": 10,
   "id": "a366e356-0781-4b42-bc33-585fcfeda02d",
   "metadata": {},
   "outputs": [],
   "source": [
    "from IPython.display import display"
   ]
  },
  {
   "cell_type": "code",
   "execution_count": 11,
   "id": "b3f2e29b-c88c-4a83-9627-f914727162ad",
   "metadata": {},
   "outputs": [
    {
     "data": {
      "application/vnd.jupyter.widget-view+json": {
       "model_id": "b3a47bed03b54289aa81a3bbac2198b7",
       "version_major": 2,
       "version_minor": 0
      },
      "text/plain": [
       "IntSlider(value=0)"
      ]
     },
     "metadata": {},
     "output_type": "display_data"
    }
   ],
   "source": [
    "display(w)"
   ]
  },
  {
   "cell_type": "markdown",
   "id": "495b168f-ea45-45fc-a85a-ca7ef0594ec3",
   "metadata": {},
   "source": [
    "## Slider Properties"
   ]
  },
  {
   "cell_type": "code",
   "execution_count": 12,
   "id": "bc5fe606-2eee-47cf-b15a-4f2d76dff066",
   "metadata": {},
   "outputs": [
    {
     "data": {
      "text/plain": [
       "['_dom_classes',\n",
       " '_model_module',\n",
       " '_model_module_version',\n",
       " '_model_name',\n",
       " '_view_count',\n",
       " '_view_module',\n",
       " '_view_module_version',\n",
       " '_view_name',\n",
       " 'continuous_update',\n",
       " 'description',\n",
       " 'description_tooltip',\n",
       " 'disabled',\n",
       " 'layout',\n",
       " 'max',\n",
       " 'min',\n",
       " 'orientation',\n",
       " 'readout',\n",
       " 'readout_format',\n",
       " 'step',\n",
       " 'style',\n",
       " 'value']"
      ]
     },
     "execution_count": 12,
     "metadata": {},
     "output_type": "execute_result"
    }
   ],
   "source": [
    "w.keys"
   ]
  },
  {
   "cell_type": "code",
   "execution_count": 13,
   "id": "302bc4fa-2ea7-4456-82b9-58c226cac956",
   "metadata": {},
   "outputs": [
    {
     "data": {
      "text/plain": [
       "0"
      ]
     },
     "execution_count": 13,
     "metadata": {},
     "output_type": "execute_result"
    }
   ],
   "source": [
    "w.value"
   ]
  },
  {
   "cell_type": "code",
   "execution_count": 14,
   "id": "b5d9d304-9145-4863-b7f8-0fde12635f27",
   "metadata": {},
   "outputs": [
    {
     "data": {
      "text/plain": [
       "1"
      ]
     },
     "execution_count": 14,
     "metadata": {},
     "output_type": "execute_result"
    }
   ],
   "source": [
    "w.step"
   ]
  },
  {
   "cell_type": "code",
   "execution_count": 15,
   "id": "97ce9613-fac0-4ec3-8dd6-2e32c87b6b6f",
   "metadata": {},
   "outputs": [
    {
     "data": {
      "application/vnd.jupyter.widget-view+json": {
       "model_id": "6615c72fefb9402dbc8ebb446bd6cff1",
       "version_major": 2,
       "version_minor": 0
      },
      "text/plain": [
       "IntSlider(value=0, description='Number:', step=2)"
      ]
     },
     "metadata": {},
     "output_type": "display_data"
    },
    {
     "data": {
      "text/plain": [
       "2"
      ]
     },
     "execution_count": 15,
     "metadata": {},
     "output_type": "execute_result"
    }
   ],
   "source": [
    "w = widgets.IntSlider(step=2, description = \"Number:\")\n",
    "display(w)\n",
    "w.step"
   ]
  },
  {
   "cell_type": "markdown",
   "id": "0b0830d0-a4a8-4716-9f62-f29cd4a11e49",
   "metadata": {},
   "source": [
    "## Test widet within plot"
   ]
  },
  {
   "cell_type": "code",
   "execution_count": 16,
   "id": "5584d87a-fb72-423b-b028-5cf6cc644f62",
   "metadata": {},
   "outputs": [],
   "source": [
    "import matplotlib.pyplot as plt\n",
    "import seaborn as sns"
   ]
  },
  {
   "cell_type": "code",
   "execution_count": 17,
   "id": "e1db5632-bb0c-4bb6-947f-089fa1d08c1c",
   "metadata": {},
   "outputs": [],
   "source": [
    "cars = sns.load_dataset(\"mpg\")"
   ]
  },
  {
   "cell_type": "code",
   "execution_count": 18,
   "id": "e30ad79e-03c4-462a-8efa-6035471078ac",
   "metadata": {},
   "outputs": [
    {
     "data": {
      "text/plain": [
       "(0.0, 0.03)"
      ]
     },
     "execution_count": 18,
     "metadata": {},
     "output_type": "execute_result"
    },
    {
     "data": {
      "image/png": "[encoded data removed]",
      "text/plain": [
       "<Figure size 432x288 with 1 Axes>"
      ]
     },
     "metadata": {
      "needs_background": "light"
     },
     "output_type": "display_data"
    }
   ],
   "source": [
    "sns.kdeplot(cars.horsepower, lw=3, fill=True, bw_adjust=2)\n",
    "plt.xlim(-30, 300)\n",
    "plt.ylim(0, 0.03)"
   ]
  },
  {
   "cell_type": "code",
   "execution_count": 19,
   "id": "894f38df-9c84-4f0b-ab50-2959c32a5d99",
   "metadata": {},
   "outputs": [
    {
     "data": {
      "text/plain": [
       "(0.0, 0.03)"
      ]
     },
     "execution_count": 19,
     "metadata": {},
     "output_type": "execute_result"
    },
    {
     "data": {
      "image/png": "[encoded data removed]",
      "text/plain": [
       "<Figure size 432x288 with 1 Axes>"
      ]
     },
     "metadata": {
      "needs_background": "light"
     },
     "output_type": "display_data"
    }
   ],
   "source": [
    "sns.kdeplot(cars.horsepower, lw=3, fill=True, bw_adjust=1)\n",
    "plt.xlim(-30, 300)\n",
    "plt.ylim(0, 0.03)"
   ]
  },
  {
   "cell_type": "markdown",
   "id": "6133d63b-39d6-4259-b408-79a7c17f3710",
   "metadata": {},
   "source": [
    "### Widget with `interact` function syntax"
   ]
  },
  {
   "cell_type": "code",
   "execution_count": 20,
   "id": "ed0209da-8d42-4999-bef4-6d3611927bd0",
   "metadata": {},
   "outputs": [],
   "source": [
    "def bandwidth_widget(bw=1):\n",
    "    sns.kdeplot(cars.horsepower, lw=3, fill=True, bw_adjust=bw)\n",
    "    plt.xlim(-30, 300)\n",
    "    plt.ylim(0, 0.03)"
   ]
  },
  {
   "cell_type": "code",
   "execution_count": 21,
   "id": "b88e572d-ebd1-45fb-a9e9-ee7788033162",
   "metadata": {},
   "outputs": [
    {
     "data": {
      "application/vnd.jupyter.widget-view+json": {
       "model_id": "ad0fba39330144bbbee9f8c4ff190d65",
       "version_major": 2,
       "version_minor": 0
      },
      "text/plain": [
       "interactive(children=(FloatSlider(value=1.0, description='bw', max=3.0, min=0.1), Output()), _dom_classes=('wi…"
      ]
     },
     "metadata": {},
     "output_type": "display_data"
    }
   ],
   "source": [
    "widgets.interact(bandwidth_widget, bw=(.1, 3, )); # min, max"
   ]
  },
  {
   "cell_type": "markdown",
   "id": "f6254c36-5712-495a-82f9-72e5927c3d8c",
   "metadata": {},
   "source": [
    "### Widget with interact decorator syntax"
   ]
  },
  {
   "cell_type": "markdown",
   "id": "fd38948f-0a60-47dc-b683-28532cb01fda",
   "metadata": {},
   "source": [
    "```\n",
    "@widgets.interact(bw=(.1, 3, .1))\n",
    "def bandwidth_widget(bw=1):\n",
    "    sns.kdeplot(cars.horsepower, lw=3, fill=True, bw_adjust=bw)\n",
    "    plt.xlim(-30, 300)\n",
    "    plt.ylim(0, 0.03)\n",
    "```"
   ]
  },
  {
   "cell_type": "code",
   "execution_count": null,
   "id": "47a6681c-0fe5-4c37-9598-3ae38f1ced57",
   "metadata": {},
   "outputs": [],
   "source": []
  }
 ],
 "metadata": {
  "kernelspec": {
   "display_name": "Python 3",
   "language": "python",
   "name": "python3"
  },
  "language_info": {
   "codemirror_mode": {
    "name": "ipython",
    "version": 3
   },
   "file_extension": ".py",
   "mimetype": "text/x-python",
   "name": "python",
   "nbconvert_exporter": "python",
   "pygments_lexer": "ipython3",
   "version": "3.6.9"
  }
 },
 "nbformat": 4,
 "nbformat_minor": 5
}
