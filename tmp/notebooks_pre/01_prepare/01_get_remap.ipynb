{
 "cells": [
  {
   "cell_type": "code",
   "execution_count": 1,
   "id": "6f0f7844-64a3-40c1-b7f2-b56312d7134b",
   "metadata": {},
   "outputs": [
    {
     "name": "stdout",
     "output_type": "stream",
     "text": [
      "You are on Duke Server: HARDAC\n",
      "BASE DIRECTORY:     /gpfs/fs1/data/reddylab/Kuei\n",
      "PATH OF SOURCE:     /gpfs/fs1/data/reddylab/Kuei/source\n",
      "PATH OF EXECUTABLE: /gpfs/fs1/data/reddylab/Kuei/exe\n",
      "PATH OF ANNOTATION: /gpfs/fs1/data/reddylab/Kuei/annotation\n",
      "PATH OF PROJECT:    /gpfs/fs1/data/reddylab/Kuei/GitRepo/Proj_CombEffect_ENCODE_FCC/notebooks\n",
      "PATH OF RESULTS:    /gpfs/fs1/data/reddylab/Kuei/out/proj_combeffect_encode_fcc\n",
      "\n"
     ]
    }
   ],
   "source": [
    "source ../config_duke.sh; show_env"
   ]
  },
  {
   "cell_type": "code",
   "execution_count": 3,
   "id": "3902556f-ed93-487a-a29e-b4932d83f671",
   "metadata": {},
   "outputs": [
    {
     "name": "stdout",
     "output_type": "stream",
     "text": [
      "\u001b[0m\u001b[38;5;27mcCREs\u001b[0m  \u001b[38;5;27mmpra\u001b[0m  \u001b[38;5;27mstarrseq\u001b[0m  \u001b[38;5;27mstarrseq_220510\u001b[0m  \u001b[38;5;27msyn22348180\u001b[0m  \u001b[38;5;27msyn26435687\u001b[0m\n"
     ]
    }
   ],
   "source": [
    "ls ${FD_RES}/source"
   ]
  },
  {
   "cell_type": "code",
   "execution_count": 4,
   "id": "2f8bd7a4-5a97-4bcf-8a3f-4151f6e4fee0",
   "metadata": {},
   "outputs": [],
   "source": [
    "mkdir -p ${FD_RES}/source/remap2022"
   ]
  },
  {
   "cell_type": "code",
   "execution_count": 5,
   "id": "716d2102-48f8-4126-8a7f-d458bf2734af",
   "metadata": {},
   "outputs": [
    {
     "name": "stdout",
     "output_type": "stream",
     "text": [
      "\u001b[0m\u001b[38;5;27mcCREs\u001b[0m  \u001b[38;5;27mmpra\u001b[0m  \u001b[38;5;27mremap2022\u001b[0m  \u001b[38;5;27mstarrseq\u001b[0m  \u001b[38;5;27mstarrseq_220510\u001b[0m  \u001b[38;5;27msyn22348180\u001b[0m  \u001b[38;5;27msyn26435687\u001b[0m\n"
     ]
    }
   ],
   "source": [
    "ls ${FD_RES}/source"
   ]
  },
  {
   "cell_type": "code",
   "execution_count": 7,
   "id": "f072d3eb-29c8-4156-9c78-20555bfb1355",
   "metadata": {},
   "outputs": [
    {
     "name": "stdout",
     "output_type": "stream",
     "text": [
      "--2022-05-26 10:03:06--  https://remap.univ-amu.fr/storage/remap2022/hg38/MACS2/BIOTYPE/K-562/remap2022_K-562_all_macs2_hg38_v1_0.bed.gz\n",
      "Resolving remap.univ-amu.fr (remap.univ-amu.fr)... 139.124.86.17\n",
      "Connecting to remap.univ-amu.fr (remap.univ-amu.fr)|139.124.86.17|:443... connected.\n",
      "WARNING: cannot verify remap.univ-amu.fr's certificate, issued by ‘/C=US/O=Let's Encrypt/CN=R3’:\n",
      "  Issued certificate has expired.\n",
      "HTTP request sent, awaiting response... 200 OK\n",
      "Length: 315522116 (301M) [application/x-gzip]\n",
      "Saving to: ‘/gpfs/fs1/data/reddylab/Kuei/out/proj_combeffect_encode_fcc/source/remap2022/remap2022_K-562_all_macs2_hg38_v1_0.bed.gz’\n",
      "\n",
      "100%[======================================>] 315,522,116 27.0MB/s   in 12s    \n",
      "\n",
      "2022-05-26 10:03:18 (25.3 MB/s) - ‘/gpfs/fs1/data/reddylab/Kuei/out/proj_combeffect_encode_fcc/source/remap2022/remap2022_K-562_all_macs2_hg38_v1_0.bed.gz’ saved [315522116/315522116]\n",
      "\n"
     ]
    }
   ],
   "source": [
    "URL=\"https://remap.univ-amu.fr/storage/remap2022/hg38/MACS2/BIOTYPE/K-562/remap2022_K-562_all_macs2_hg38_v1_0.bed.gz\"\n",
    "wget --no-check-certificate \\\n",
    "     -P ${FD_RES}/source/remap2022 \\\n",
    "     ${URL} "
   ]
  },
  {
   "cell_type": "code",
   "execution_count": 8,
   "id": "4af98a5e-7b8c-4cbb-9243-910996fcfab5",
   "metadata": {},
   "outputs": [
    {
     "name": "stdout",
     "output_type": "stream",
     "text": [
      "--2022-05-26 10:03:52--  https://remap.univ-amu.fr/storage/remap2022/hg38/MACS2/BIOTYPE/K-562/remap2022_K-562_nr_macs2_hg38_v1_0.bed.gz\n",
      "Resolving remap.univ-amu.fr (remap.univ-amu.fr)... 139.124.86.17\n",
      "Connecting to remap.univ-amu.fr (remap.univ-amu.fr)|139.124.86.17|:443... connected.\n",
      "WARNING: cannot verify remap.univ-amu.fr's certificate, issued by ‘/C=US/O=Let's Encrypt/CN=R3’:\n",
      "  Issued certificate has expired.\n",
      "HTTP request sent, awaiting response... 200 OK\n",
      "Length: 219502303 (209M) [application/x-gzip]\n",
      "Saving to: ‘/gpfs/fs1/data/reddylab/Kuei/out/proj_combeffect_encode_fcc/source/remap2022/remap2022_K-562_nr_macs2_hg38_v1_0.bed.gz’\n",
      "\n",
      "100%[======================================>] 219,502,303 26.7MB/s   in 8.5s   \n",
      "\n",
      "2022-05-26 10:04:01 (24.6 MB/s) - ‘/gpfs/fs1/data/reddylab/Kuei/out/proj_combeffect_encode_fcc/source/remap2022/remap2022_K-562_nr_macs2_hg38_v1_0.bed.gz’ saved [219502303/219502303]\n",
      "\n"
     ]
    }
   ],
   "source": [
    "URL=\"https://remap.univ-amu.fr/storage/remap2022/hg38/MACS2/BIOTYPE/K-562/remap2022_K-562_nr_macs2_hg38_v1_0.bed.gz\"\n",
    "wget --no-check-certificate \\\n",
    "     -P ${FD_RES}/source/remap2022 \\\n",
    "     ${URL}"
   ]
  },
  {
   "cell_type": "code",
   "execution_count": 9,
   "id": "53090c04-da97-45f3-80b8-0f413567038e",
   "metadata": {},
   "outputs": [
    {
     "name": "stdout",
     "output_type": "stream",
     "text": [
      "--2022-05-26 10:04:18--  https://remap.univ-amu.fr/storage/remap2022/hg38/MACS2/BIOTYPE/K-562/remap2022_K-562_crm_macs2_hg38_v1_0.bed.gz\n",
      "Resolving remap.univ-amu.fr (remap.univ-amu.fr)... 139.124.86.17\n",
      "Connecting to remap.univ-amu.fr (remap.univ-amu.fr)|139.124.86.17|:443... connected.\n",
      "WARNING: cannot verify remap.univ-amu.fr's certificate, issued by ‘/C=US/O=Let's Encrypt/CN=R3’:\n",
      "  Issued certificate has expired.\n",
      "HTTP request sent, awaiting response... 200 OK\n",
      "Length: 41034478 (39M) [application/x-gzip]\n",
      "Saving to: ‘/gpfs/fs1/data/reddylab/Kuei/out/proj_combeffect_encode_fcc/source/remap2022/remap2022_K-562_crm_macs2_hg38_v1_0.bed.gz’\n",
      "\n",
      "100%[======================================>] 41,034,478  17.9MB/s   in 2.2s   \n",
      "\n",
      "2022-05-26 10:04:21 (17.9 MB/s) - ‘/gpfs/fs1/data/reddylab/Kuei/out/proj_combeffect_encode_fcc/source/remap2022/remap2022_K-562_crm_macs2_hg38_v1_0.bed.gz’ saved [41034478/41034478]\n",
      "\n"
     ]
    }
   ],
   "source": [
    "URL=\"https://remap.univ-amu.fr/storage/remap2022/hg38/MACS2/BIOTYPE/K-562/remap2022_K-562_crm_macs2_hg38_v1_0.bed.gz\"\n",
    "wget --no-check-certificate \\\n",
    "     -P ${FD_RES}/source/remap2022 \\\n",
    "     ${URL} "
   ]
  },
  {
   "cell_type": "code",
   "execution_count": 10,
   "id": "2c921f48-278e-48e0-8a70-9618e4e658b9",
   "metadata": {},
   "outputs": [
    {
     "name": "stdout",
     "output_type": "stream",
     "text": [
      "\u001b[0m\u001b[38;5;9mremap2022_K-562_all_macs2_hg38_v1_0.bed.gz\u001b[0m\n",
      "\u001b[38;5;9mremap2022_K-562_crm_macs2_hg38_v1_0.bed.gz\u001b[0m\n",
      "\u001b[38;5;9mremap2022_K-562_nr_macs2_hg38_v1_0.bed.gz\u001b[0m\n"
     ]
    }
   ],
   "source": [
    "ls ${FD_RES}/source/remap2022"
   ]
  },
  {
   "cell_type": "code",
   "execution_count": null,
   "id": "5534b1e4-deee-44c7-9d24-636ee694c66a",
   "metadata": {},
   "outputs": [],
   "source": []
  }
 ],
 "metadata": {
  "kernelspec": {
   "display_name": "Bash",
   "language": "bash",
   "name": "bash"
  },
  "language_info": {
   "codemirror_mode": "shell",
   "file_extension": ".sh",
   "mimetype": "text/x-sh",
   "name": "bash"
  }
 },
 "nbformat": 4,
 "nbformat_minor": 5
}
