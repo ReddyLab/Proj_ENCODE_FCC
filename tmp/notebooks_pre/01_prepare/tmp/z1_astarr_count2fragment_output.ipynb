{
 "cells": [
  {
   "cell_type": "markdown",
   "id": "c217b812-e52d-4b5e-a508-ad21c36e2dad",
   "metadata": {},
   "source": [
    "**Set environment**"
   ]
  },
  {
   "cell_type": "code",
   "execution_count": 1,
   "id": "fbd0c5e6-914f-4e6c-b5e8-19e94e8281d0",
   "metadata": {},
   "outputs": [
    {
     "name": "stdout",
     "output_type": "stream",
     "text": [
      "You are on Duke Server: HARDAC\n",
      "BASE DIRECTORY:     /gpfs/fs1/data/reddylab/Kuei\n",
      "PATH OF SOURCE:     /gpfs/fs1/data/reddylab/Kuei/source\n",
      "PATH OF EXECUTABLE: /gpfs/fs1/data/reddylab/Kuei/exe\n",
      "PATH OF ANNOTATION: /gpfs/fs1/data/reddylab/Kuei/annotation\n",
      "PATH OF PROJECT:    /gpfs/fs1/data/reddylab/Kuei/GitRepo/Proj_CombEffect_ENCODE_FCC/notebooks\n",
      "PATH OF RESULTS:    /gpfs/fs1/data/reddylab/Kuei/out/proj_combeffect_encode_fcc\n",
      "\n"
     ]
    }
   ],
   "source": [
    "source ../config_duke.sh -v"
   ]
  },
  {
   "cell_type": "markdown",
   "id": "d7c72af8-b4ac-4c17-aa10-a5b4f0f86323",
   "metadata": {},
   "source": [
    "## GATA1 region"
   ]
  },
  {
   "cell_type": "code",
   "execution_count": 6,
   "id": "c91e57c9-86d2-41fa-a007-999cc8934af7",
   "metadata": {},
   "outputs": [
    {
     "name": "stdout",
     "output_type": "stream",
     "text": [
      "Submitted batch job 28194978\n"
     ]
    }
   ],
   "source": [
    "sbatch -p ${NODE} \\\n",
    "    --mem 8G \\\n",
    "    --array 1-4 \\\n",
    "    -o ${FD_LOG}/ASTARR_count2fragment_output_GATA1.%a.txt \\\n",
    "    <<'EOF'\n",
    "#!/bin/bash\n",
    "### set directories & global variables\n",
    "source ../config_duke.sh\n",
    "SAMPLE=Output\n",
    "REPLICATE=rep${SLURM_ARRAY_TASK_ID}\n",
    "REGION=GATA1\n",
    "\n",
    "### print start message\n",
    "timer_start=`date +%s`\n",
    "echo \"Slurm Array Index: \" ${SLURM_ARRAY_TASK_ID}\n",
    "echo \"Time Stamp:        \" $(date +\"%m-%d-%y+%T\")\n",
    "echo\n",
    "\n",
    "### execution\n",
    "${FD_PRJ}/sing_proj_encode_fcc.sh python count2fragment.py ${SAMPLE} ${REPLICATE} ${REGION}\n",
    "\n",
    "### print end message\n",
    "timer=`date +%s`\n",
    "runtime=$(echo \"${timer} - ${timer_start}\" | bc -l)\n",
    "echo\n",
    "echo 'Done!'\n",
    "echo \"Run Time: $(displaytime ${runtime})\"\n",
    "\n",
    "EOF"
   ]
  },
  {
   "cell_type": "markdown",
   "id": "c2918bec-a01b-4979-9499-8287e5b091a7",
   "metadata": {},
   "source": [
    "## MYC region"
   ]
  },
  {
   "cell_type": "code",
   "execution_count": 10,
   "id": "b32229a6-0a24-435f-b7a6-71877b872352",
   "metadata": {},
   "outputs": [
    {
     "name": "stdout",
     "output_type": "stream",
     "text": [
      "Submitted batch job 28195004\n"
     ]
    }
   ],
   "source": [
    "sbatch -p ${NODE} \\\n",
    "    --mem 8G \\\n",
    "    --array 1-4 \\\n",
    "    -o ${FD_LOG}/ASTARR_count2fragment_output_MYC.%a.txt \\\n",
    "    <<'EOF'\n",
    "#!/bin/bash\n",
    "### set directories & global variables\n",
    "source ../config_duke.sh\n",
    "SAMPLE=Output\n",
    "REPLICATE=rep${SLURM_ARRAY_TASK_ID}\n",
    "REGION=MYC\n",
    "\n",
    "### print start message\n",
    "timer_start=`date +%s`\n",
    "echo \"Slurm Array Index: \" ${SLURM_ARRAY_TASK_ID}\n",
    "echo \"Time Stamp:        \" $(date +\"%m-%d-%y+%T\")\n",
    "echo\n",
    "\n",
    "### execution\n",
    "${FD_PRJ}/sing_proj_encode_fcc.sh python count2fragment.py ${SAMPLE} ${REPLICATE} ${REGION}\n",
    "\n",
    "### print end message\n",
    "timer=`date +%s`\n",
    "runtime=$(echo \"${timer} - ${timer_start}\" | bc -l)\n",
    "echo\n",
    "echo 'Done!'\n",
    "echo \"Run Time: $(displaytime ${runtime})\"\n",
    "\n",
    "EOF"
   ]
  },
  {
   "cell_type": "code",
   "execution_count": 8,
   "id": "f50c4d22-47f6-4f37-983a-8f463f6e538f",
   "metadata": {},
   "outputs": [
    {
     "name": "stdout",
     "output_type": "stream",
     "text": [
      "Slurm Array Index:  1\n",
      "Time Stamp:         04-29-22+11:55:36\n",
      "\n",
      "Global variables:\n",
      "Sample:       Output\n",
      "Replicate:    rep1\n",
      "Input  file:  /mount/work/out/proj_combeffect_encode_fcc/source/starrseq/KS91_K562_hg38_ASTARRseq_Output_rep1.f3q10.sorted.with_umis.dups_marked.GATA1.fragment_counts.unstranded.bed\n",
      "Output file:  /mount/work/out/proj_combeffect_encode_fcc/KS91_K562_ASTARRseq/fragment/KS91_K562_hg38_ASTARRseq_Output_rep1.GATA1.unstranded.bed\n",
      "\n",
      "\n",
      "Done!\n",
      "Run Time: 4 seconds\n"
     ]
    }
   ],
   "source": [
    "cat ${FD_LOG}/ASTARR_count2fragment_output_GATA1.1.txt"
   ]
  },
  {
   "cell_type": "code",
   "execution_count": 11,
   "id": "cb3b5774-4a09-4264-baf5-e39db920187f",
   "metadata": {},
   "outputs": [
    {
     "name": "stdout",
     "output_type": "stream",
     "text": [
      "Slurm Array Index:  1\n",
      "Time Stamp:         04-29-22+12:08:06\n",
      "\n",
      "Global variables:\n",
      "Sample:       Output\n",
      "Replicate:    rep1\n",
      "Input  file:  /mount/work/out/proj_combeffect_encode_fcc/source/starrseq/KS91_K562_hg38_ASTARRseq_Output_rep1.f3q10.sorted.with_umis.dups_marked.MYC.fragment_counts.unstranded.bed\n",
      "Output file:  /mount/work/out/proj_combeffect_encode_fcc/KS91_K562_ASTARRseq/fragment/KS91_K562_hg38_ASTARRseq_Output_rep1.MYC.unstranded.bed\n",
      "\n",
      "\n",
      "Done!\n",
      "Run Time: 6 seconds\n"
     ]
    }
   ],
   "source": [
    "cat ${FD_LOG}/ASTARR_count2fragment_output_MYC.1.txt"
   ]
  },
  {
   "cell_type": "code",
   "execution_count": 12,
   "id": "ecfc14e2-2ee1-4dbc-863a-e7721cfc6aa8",
   "metadata": {},
   "outputs": [
    {
     "name": "stdout",
     "output_type": "stream",
     "text": [
      "chrX\t47787189\t47787363\tchrX_47787189_47787363\t6\t.\n",
      "chrX\t47788545\t47789154\tchrX_47788545_47789154\t6\t.\n",
      "chrX\t47788659\t47788978\tchrX_47788659_47788978\t4\t.\n",
      "chrX\t47788659\t47788979\tchrX_47788659_47788979\t18\t.\n",
      "chrX\t47788660\t47788978\tchrX_47788660_47788978\t1\t.\n",
      "chrX\t47788662\t47788979\tchrX_47788662_47788979\t1\t.\n",
      "chrX\t47788970\t47789151\tchrX_47788970_47789151\t9\t.\n",
      "chrX\t47789145\t47789362\tchrX_47789145_47789362\t1\t.\n",
      "chrX\t47789145\t47789363\tchrX_47789145_47789363\t62\t.\n",
      "chrX\t47789176\t47789447\tchrX_47789176_47789447\t1\t.\n"
     ]
    }
   ],
   "source": [
    "FDIRY=${FD_RES}/source/starrseq\n",
    "FNAME=KS91_K562_hg38_ASTARRseq_Output_rep1.f3q10.sorted.with_umis.dups_marked.GATA1.fragment_counts.unstranded.bed\n",
    "head ${FDIRY}/${FNAME}"
   ]
  },
  {
   "cell_type": "code",
   "execution_count": 13,
   "id": "c4c77188-8464-4694-ad47-43cc9c2dc1a4",
   "metadata": {},
   "outputs": [
    {
     "name": "stdout",
     "output_type": "stream",
     "text": [
      "chrX\t47787189\t47787363\tchrX_47787189_47787363\n",
      "chrX\t47787189\t47787363\tchrX_47787189_47787363\n",
      "chrX\t47787189\t47787363\tchrX_47787189_47787363\n",
      "chrX\t47787189\t47787363\tchrX_47787189_47787363\n",
      "chrX\t47787189\t47787363\tchrX_47787189_47787363\n",
      "chrX\t47787189\t47787363\tchrX_47787189_47787363\n",
      "chrX\t47788545\t47789154\tchrX_47788545_47789154\n",
      "chrX\t47788545\t47789154\tchrX_47788545_47789154\n",
      "chrX\t47788545\t47789154\tchrX_47788545_47789154\n",
      "chrX\t47788545\t47789154\tchrX_47788545_47789154\n",
      "chrX\t47788545\t47789154\tchrX_47788545_47789154\n",
      "chrX\t47788545\t47789154\tchrX_47788545_47789154\n",
      "chrX\t47788659\t47788978\tchrX_47788659_47788978\n",
      "chrX\t47788659\t47788978\tchrX_47788659_47788978\n",
      "chrX\t47788659\t47788978\tchrX_47788659_47788978\n",
      "chrX\t47788659\t47788978\tchrX_47788659_47788978\n",
      "chrX\t47788659\t47788979\tchrX_47788659_47788979\n",
      "chrX\t47788659\t47788979\tchrX_47788659_47788979\n",
      "chrX\t47788659\t47788979\tchrX_47788659_47788979\n",
      "chrX\t47788659\t47788979\tchrX_47788659_47788979\n"
     ]
    }
   ],
   "source": [
    "FDIRY=${FD_RES}/KS91_K562_ASTARRseq/fragment\n",
    "FNAME=KS91_K562_hg38_ASTARRseq_Output_rep1.GATA1.unstranded.bed\n",
    "head -n 20 ${FDIRY}/${FNAME}"
   ]
  },
  {
   "cell_type": "code",
   "execution_count": 14,
   "id": "882b5851-502e-4912-ba4e-4a07eb71013a",
   "metadata": {},
   "outputs": [
    {
     "name": "stdout",
     "output_type": "stream",
     "text": [
      "chr8\t126736089\t126736257\tchr8_126736089_126736257\t1\t.\n",
      "chr8\t126736089\t126736258\tchr8_126736089_126736258\t3\t.\n",
      "chr8\t126736089\t126736259\tchr8_126736089_126736259\t37\t.\n",
      "chr8\t126736090\t126736259\tchr8_126736090_126736259\t1\t.\n",
      "chr8\t126737300\t126737484\tchr8_126737300_126737484\t1\t.\n",
      "chr8\t126738475\t126738663\tchr8_126738475_126738663\t77\t.\n",
      "chr8\t126738476\t126738663\tchr8_126738476_126738663\t1\t.\n",
      "chr8\t126738477\t126738663\tchr8_126738477_126738663\t2\t.\n",
      "chr8\t126738538\t126738949\tchr8_126738538_126738949\t2\t.\n",
      "chr8\t126738538\t126738950\tchr8_126738538_126738950\t13\t.\n"
     ]
    }
   ],
   "source": [
    "FDIRY=${FD_RES}/source/starrseq\n",
    "FNAME=KS91_K562_hg38_ASTARRseq_Output_rep1.f3q10.sorted.with_umis.dups_marked.MYC.fragment_counts.unstranded.bed\n",
    "head ${FDIRY}/${FNAME}"
   ]
  },
  {
   "cell_type": "code",
   "execution_count": null,
   "id": "2a67e312-7eb5-4709-881d-a6674ae376f4",
   "metadata": {},
   "outputs": [],
   "source": []
  }
 ],
 "metadata": {
  "kernelspec": {
   "display_name": "Bash",
   "language": "bash",
   "name": "bash"
  },
  "language_info": {
   "codemirror_mode": "shell",
   "file_extension": ".sh",
   "mimetype": "text/x-sh",
   "name": "bash"
  }
 },
 "nbformat": 4,
 "nbformat_minor": 5
}
