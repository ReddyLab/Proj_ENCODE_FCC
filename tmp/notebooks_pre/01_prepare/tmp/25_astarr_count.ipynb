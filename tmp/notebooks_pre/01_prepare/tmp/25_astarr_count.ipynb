{
 "cells": [
  {
   "cell_type": "markdown",
   "id": "6ccb39f5-b97f-4603-b03b-9bfd825cad79",
   "metadata": {},
   "source": [
    "**Set environment**"
   ]
  },
  {
   "cell_type": "code",
   "execution_count": 4,
   "id": "f62bbece-11af-4ca8-9bb8-7302f9a83851",
   "metadata": {},
   "outputs": [
    {
     "name": "stdout",
     "output_type": "stream",
     "text": [
      "You are on Duke Server: HARDAC\n",
      "BASE DIRECTORY:     /gpfs/fs1/data/reddylab/Kuei\n",
      "PATH OF SOURCE:     /gpfs/fs1/data/reddylab/Kuei/source\n",
      "PATH OF EXECUTABLE: /gpfs/fs1/data/reddylab/Kuei/exe\n",
      "PATH OF ANNOTATION: /gpfs/fs1/data/reddylab/Kuei/annotation\n",
      "PATH OF PROJECT:    /gpfs/fs1/data/reddylab/Kuei/GitRepo/Proj_ENCODE_FCC/notebooks\n",
      "PATH OF RESULTS:    /gpfs/fs1/data/reddylab/Kuei/out/proj_encode_fcc\n",
      "\n"
     ]
    }
   ],
   "source": [
    "source ../config_duke.sh -v"
   ]
  },
  {
   "cell_type": "code",
   "execution_count": 10,
   "id": "56598531-1ab6-4372-9f12-37c81531bf51",
   "metadata": {},
   "outputs": [
    {
     "name": "stdout",
     "output_type": "stream",
     "text": [
      "KS91_K562_hg38_ASTARRseq.GATA1.stranded.counts.txt\n",
      "KS91_K562_hg38_ASTARRseq.GATA1.unstranded.counts.txt\n",
      "KS91_K562_hg38_ASTARRseq_Input_rep1.masked.dups_marked.GATA1.fragment_counts.stranded.bed\n",
      "KS91_K562_hg38_ASTARRseq_Input_rep1.masked.dups_marked.GATA1.fragment_counts.unstranded.bed\n",
      "KS91_K562_hg38_ASTARRseq_Input_rep1.masked.dups_marked.MYC.fragment_counts.stranded.bed\n",
      "KS91_K562_hg38_ASTARRseq_Input_rep1.masked.dups_marked.MYC.fragment_counts.unstranded.bed\n",
      "KS91_K562_hg38_ASTARRseq_Input_rep2.masked.dups_marked.GATA1.fragment_counts.stranded.bed\n",
      "KS91_K562_hg38_ASTARRseq_Input_rep2.masked.dups_marked.GATA1.fragment_counts.unstranded.bed\n",
      "KS91_K562_hg38_ASTARRseq_Input_rep2.masked.dups_marked.MYC.fragment_counts.stranded.bed\n",
      "KS91_K562_hg38_ASTARRseq_Input_rep2.masked.dups_marked.MYC.fragment_counts.unstranded.bed\n",
      "KS91_K562_hg38_ASTARRseq_Input_rep3.masked.dups_marked.GATA1.fragment_counts.stranded.bed\n",
      "KS91_K562_hg38_ASTARRseq_Input_rep3.masked.dups_marked.GATA1.fragment_counts.unstranded.bed\n",
      "KS91_K562_hg38_ASTARRseq_Input_rep3.masked.dups_marked.MYC.fragment_counts.stranded.bed\n",
      "KS91_K562_hg38_ASTARRseq_Input_rep3.masked.dups_marked.MYC.fragment_counts.unstranded.bed\n",
      "KS91_K562_hg38_ASTARRseq_Input_rep4.masked.dups_marked.GATA1.fragment_counts.stranded.bed\n",
      "KS91_K562_hg38_ASTARRseq_Input_rep4.masked.dups_marked.GATA1.fragment_counts.unstranded.bed\n",
      "KS91_K562_hg38_ASTARRseq_Input_rep4.masked.dups_marked.MYC.fragment_counts.stranded.bed\n",
      "KS91_K562_hg38_ASTARRseq_Input_rep4.masked.dups_marked.MYC.fragment_counts.unstranded.bed\n",
      "KS91_K562_hg38_ASTARRseq_Input_rep5.masked.dups_marked.GATA1.fragment_counts.stranded.bed\n",
      "KS91_K562_hg38_ASTARRseq_Input_rep5.masked.dups_marked.GATA1.fragment_counts.unstranded.bed\n",
      "KS91_K562_hg38_ASTARRseq_Input_rep5.masked.dups_marked.MYC.fragment_counts.stranded.bed\n",
      "KS91_K562_hg38_ASTARRseq_Input_rep5.masked.dups_marked.MYC.fragment_counts.unstranded.bed\n",
      "KS91_K562_hg38_ASTARRseq_Input_rep6.masked.dups_marked.GATA1.fragment_counts.stranded.bed\n",
      "KS91_K562_hg38_ASTARRseq_Input_rep6.masked.dups_marked.GATA1.fragment_counts.unstranded.bed\n",
      "KS91_K562_hg38_ASTARRseq_Input_rep6.masked.dups_marked.MYC.fragment_counts.stranded.bed\n",
      "KS91_K562_hg38_ASTARRseq_Input_rep6.masked.dups_marked.MYC.fragment_counts.unstranded.bed\n",
      "KS91_K562_hg38_ASTARRseq.MYC.stranded.counts.txt\n",
      "KS91_K562_hg38_ASTARRseq.MYC.unstranded.counts.txt\n",
      "KS91_K562_hg38_ASTARRseq_Output_rep1.f3q10.sorted.with_umis.dups_marked.GATA1.fragment_counts.stranded.bed\n",
      "KS91_K562_hg38_ASTARRseq_Output_rep1.f3q10.sorted.with_umis.dups_marked.GATA1.fragment_counts.unstranded.bed\n",
      "KS91_K562_hg38_ASTARRseq_Output_rep1.f3q10.sorted.with_umis.dups_marked.MYC.fragment_counts.stranded.bed\n",
      "KS91_K562_hg38_ASTARRseq_Output_rep1.f3q10.sorted.with_umis.dups_marked.MYC.fragment_counts.unstranded.bed\n",
      "KS91_K562_hg38_ASTARRseq_Output_rep2.f3q10.sorted.with_umis.dups_marked.GATA1.fragment_counts.stranded.bed\n",
      "KS91_K562_hg38_ASTARRseq_Output_rep2.f3q10.sorted.with_umis.dups_marked.GATA1.fragment_counts.unstranded.bed\n",
      "KS91_K562_hg38_ASTARRseq_Output_rep2.f3q10.sorted.with_umis.dups_marked.MYC.fragment_counts.stranded.bed\n",
      "KS91_K562_hg38_ASTARRseq_Output_rep2.f3q10.sorted.with_umis.dups_marked.MYC.fragment_counts.unstranded.bed\n",
      "KS91_K562_hg38_ASTARRseq_Output_rep3.f3q10.sorted.with_umis.dups_marked.GATA1.fragment_counts.stranded.bed\n",
      "KS91_K562_hg38_ASTARRseq_Output_rep3.f3q10.sorted.with_umis.dups_marked.GATA1.fragment_counts.unstranded.bed\n",
      "KS91_K562_hg38_ASTARRseq_Output_rep3.f3q10.sorted.with_umis.dups_marked.MYC.fragment_counts.stranded.bed\n",
      "KS91_K562_hg38_ASTARRseq_Output_rep3.f3q10.sorted.with_umis.dups_marked.MYC.fragment_counts.unstranded.bed\n",
      "KS91_K562_hg38_ASTARRseq_Output_rep4.f3q10.sorted.with_umis.dups_marked.GATA1.fragment_counts.stranded.bed\n",
      "KS91_K562_hg38_ASTARRseq_Output_rep4.f3q10.sorted.with_umis.dups_marked.GATA1.fragment_counts.unstranded.bed\n",
      "KS91_K562_hg38_ASTARRseq_Output_rep4.f3q10.sorted.with_umis.dups_marked.MYC.fragment_counts.stranded.bed\n",
      "KS91_K562_hg38_ASTARRseq_Output_rep4.f3q10.sorted.with_umis.dups_marked.MYC.fragment_counts.unstranded.bed\n"
     ]
    }
   ],
   "source": [
    "ls ${FD_RES}/source/starrseq"
   ]
  },
  {
   "cell_type": "code",
   "execution_count": 13,
   "id": "769925a4-c8cf-447d-be1b-846285d70b42",
   "metadata": {},
   "outputs": [
    {
     "name": "stdout",
     "output_type": "stream",
     "text": [
      "KS91_K562_hg38_ASTARRseq_Input_rep1.GATA1.unstranded.dedups.bed\n",
      "KS91_K562_hg38_ASTARRseq_Input_rep2.GATA1.unstranded.dedups.bed\n",
      "KS91_K562_hg38_ASTARRseq_Input_rep3.GATA1.unstranded.dedups.bed\n",
      "KS91_K562_hg38_ASTARRseq_Input_rep4.GATA1.unstranded.dedups.bed\n",
      "KS91_K562_hg38_ASTARRseq_Input_rep5.GATA1.unstranded.dedups.bed\n",
      "KS91_K562_hg38_ASTARRseq_Input_rep6.GATA1.unstranded.dedups.bed\n",
      "KS91_K562_hg38_ASTARRseq_Output_rep1.GATA1.unstranded.bed\n",
      "KS91_K562_hg38_ASTARRseq_Output_rep2.GATA1.unstranded.bed\n",
      "KS91_K562_hg38_ASTARRseq_Output_rep3.GATA1.unstranded.bed\n",
      "KS91_K562_hg38_ASTARRseq_Output_rep4.GATA1.unstranded.bed\n",
      "library_size.tsv\n",
      "library_size.txt\n"
     ]
    }
   ],
   "source": [
    "ls ${FD_RES}/KS91_K562_ASTARRseq/fragment"
   ]
  },
  {
   "cell_type": "markdown",
   "id": "505b0d58-0d96-407d-be94-6b60a39cfddf",
   "metadata": {},
   "source": [
    "**Test: input**"
   ]
  },
  {
   "cell_type": "code",
   "execution_count": 16,
   "id": "43c1497c-60ad-4b37-b67b-fcefe771569b",
   "metadata": {},
   "outputs": [
    {
     "name": "stdout",
     "output_type": "stream",
     "text": [
      "chrX\t47787165\t47787363\tchrX_47787165_47787363\t1\t.\n",
      "chrX\t47787557\t47787773\tchrX_47787557_47787773\t2\t.\n",
      "chrX\t47787593\t47787783\tchrX_47787593_47787783\t1\t.\n",
      "chrX\t47787598\t47787772\tchrX_47787598_47787772\t1\t.\n",
      "chrX\t47787661\t47788058\tchrX_47787661_47788058\t3\t.\n",
      "chrX\t47787743\t47787849\tchrX_47787743_47787849\t2\t.\n",
      "chrX\t47787998\t47788231\tchrX_47787998_47788231\t1\t.\n",
      "chrX\t47788008\t47788157\tchrX_47788008_47788157\t1\t.\n",
      "chrX\t47788008\t47788181\tchrX_47788008_47788181\t1\t.\n",
      "chrX\t47788140\t47788547\tchrX_47788140_47788547\t1\t.\n"
     ]
    }
   ],
   "source": [
    "FD_INP=${FD_RES}/source/starrseq\n",
    "FN_INP=KS91_K562_hg38_ASTARRseq_Input_rep1.masked.dups_marked.GATA1.fragment_counts.unstranded.bed\n",
    "\n",
    "head ${FD_INP}/${FN_INP}"
   ]
  },
  {
   "cell_type": "code",
   "execution_count": 17,
   "id": "93f94581-a05b-4c9d-86aa-5bf1520e6129",
   "metadata": {},
   "outputs": [
    {
     "name": "stdout",
     "output_type": "stream",
     "text": [
      "chrX\t47787165\t47787363\tchrX_47787165_47787363\t1\n",
      "chrX\t47787557\t47787773\tchrX_47787557_47787773\t1\n",
      "chrX\t47787593\t47787783\tchrX_47787593_47787783\t1\n",
      "chrX\t47787598\t47787772\tchrX_47787598_47787772\t1\n",
      "chrX\t47787661\t47788058\tchrX_47787661_47788058\t1\n",
      "chrX\t47787743\t47787849\tchrX_47787743_47787849\t1\n",
      "chrX\t47787998\t47788231\tchrX_47787998_47788231\t1\n",
      "chrX\t47788008\t47788157\tchrX_47788008_47788157\t1\n",
      "chrX\t47788008\t47788181\tchrX_47788008_47788181\t1\n",
      "chrX\t47788140\t47788547\tchrX_47788140_47788547\t1\n"
     ]
    }
   ],
   "source": [
    "FD_INP=${FD_RES}/source/starrseq\n",
    "FN_INP=KS91_K562_hg38_ASTARRseq_Input_rep1.masked.dups_marked.GATA1.fragment_counts.unstranded.bed\n",
    "\n",
    "head ${FD_INP}/${FN_INP} | awk -v OFS='\\t' {'print $1, $2, $3, $4, 1'}"
   ]
  },
  {
   "cell_type": "markdown",
   "id": "04dffd18-5d96-4e89-b493-0b4750d53a1f",
   "metadata": {},
   "source": [
    "**Test: output**"
   ]
  },
  {
   "cell_type": "code",
   "execution_count": 18,
   "id": "39e72710-e416-4a1e-8a97-f61a781fd38d",
   "metadata": {},
   "outputs": [
    {
     "name": "stdout",
     "output_type": "stream",
     "text": [
      "chrX\t47787189\t47787363\tchrX_47787189_47787363\t6\t.\n",
      "chrX\t47788545\t47789154\tchrX_47788545_47789154\t6\t.\n",
      "chrX\t47788659\t47788978\tchrX_47788659_47788978\t4\t.\n",
      "chrX\t47788659\t47788979\tchrX_47788659_47788979\t18\t.\n",
      "chrX\t47788660\t47788978\tchrX_47788660_47788978\t1\t.\n",
      "chrX\t47788662\t47788979\tchrX_47788662_47788979\t1\t.\n",
      "chrX\t47788970\t47789151\tchrX_47788970_47789151\t9\t.\n",
      "chrX\t47789145\t47789362\tchrX_47789145_47789362\t1\t.\n",
      "chrX\t47789145\t47789363\tchrX_47789145_47789363\t62\t.\n",
      "chrX\t47789176\t47789447\tchrX_47789176_47789447\t1\t.\n"
     ]
    }
   ],
   "source": [
    "FD_INP=${FD_RES}/source/starrseq\n",
    "FN_INP=KS91_K562_hg38_ASTARRseq_Output_rep1.f3q10.sorted.with_umis.dups_marked.GATA1.fragment_counts.unstranded.bed\n",
    "\n",
    "head ${FD_INP}/${FN_INP}"
   ]
  },
  {
   "cell_type": "code",
   "execution_count": 19,
   "id": "9c5a1e28-a375-4459-bf29-b3602a3dd8ae",
   "metadata": {},
   "outputs": [
    {
     "name": "stdout",
     "output_type": "stream",
     "text": [
      "chrX\t47787189\t47787363\tchrX_47787189_47787363\t6\n",
      "chrX\t47788545\t47789154\tchrX_47788545_47789154\t6\n",
      "chrX\t47788659\t47788978\tchrX_47788659_47788978\t4\n",
      "chrX\t47788659\t47788979\tchrX_47788659_47788979\t18\n",
      "chrX\t47788660\t47788978\tchrX_47788660_47788978\t1\n",
      "chrX\t47788662\t47788979\tchrX_47788662_47788979\t1\n",
      "chrX\t47788970\t47789151\tchrX_47788970_47789151\t9\n",
      "chrX\t47789145\t47789362\tchrX_47789145_47789362\t1\n",
      "chrX\t47789145\t47789363\tchrX_47789145_47789363\t62\n",
      "chrX\t47789176\t47789447\tchrX_47789176_47789447\t1\n"
     ]
    }
   ],
   "source": [
    "FD_INP=${FD_RES}/source/starrseq\n",
    "FN_INP=KS91_K562_hg38_ASTARRseq_Output_rep1.f3q10.sorted.with_umis.dups_marked.GATA1.fragment_counts.unstranded.bed\n",
    "\n",
    "head ${FD_INP}/${FN_INP} | awk -v OFS='\\t' {'print $1, $2, $3, $4, $5'}"
   ]
  },
  {
   "cell_type": "markdown",
   "id": "cc18076c-711e-48ac-9a7b-612da5b41396",
   "metadata": {},
   "source": [
    "## Get counts"
   ]
  },
  {
   "cell_type": "markdown",
   "id": "37a9f6fa-a42a-4c19-9d83-499882f661e7",
   "metadata": {},
   "source": [
    "**Input**"
   ]
  },
  {
   "cell_type": "code",
   "execution_count": 39,
   "id": "192bf7f6-8cc8-4fd1-bd95-8a5ac959c84c",
   "metadata": {},
   "outputs": [],
   "source": [
    "FD_INP=${FD_RES}/source/starrseq\n",
    "FD_OUT=${FD_RES}/KS91_K562_ASTARRseq/count\n",
    "\n",
    "SAMPLE=\"Input\"\n",
    "for idx in {1..6};do\n",
    "    ### init\n",
    "    REPLICATE=rep${idx}\n",
    "    \n",
    "    ### set in/out\n",
    "    FN_INP=KS91_K562_hg38_ASTARRseq_${SAMPLE}_${REPLICATE}.masked.dups_marked.GATA1.fragment_counts.unstranded.bed\n",
    "    FN_OUT=KS91_K562_hg38_ASTARRseq_${SAMPLE}_${REPLICATE}.GATA1.unstranded.dedups.bed\n",
    "    \n",
    "    ### get count\n",
    "    cat ${FD_INP}/${FN_INP} | awk -v OFS='\\t' {'print $1, $2, $3, $4, 1'} > ${FD_OUT}/${FN_OUT}\n",
    "done"
   ]
  },
  {
   "cell_type": "markdown",
   "id": "32176848-77f3-4193-97d6-4f548c2d0d9b",
   "metadata": {},
   "source": [
    "**Output**"
   ]
  },
  {
   "cell_type": "code",
   "execution_count": 40,
   "id": "4387cab5-01ec-4085-8013-a68c3825a60c",
   "metadata": {},
   "outputs": [],
   "source": [
    "FD_INP=${FD_RES}/source/starrseq\n",
    "FD_OUT=${FD_RES}/KS91_K562_ASTARRseq/count\n",
    "\n",
    "SAMPLE=\"Output\"\n",
    "for idx in {1..4};do\n",
    "    ### init\n",
    "    REPLICATE=rep${idx}\n",
    "    \n",
    "    ### set in/out\n",
    "    FN_INP=KS91_K562_hg38_ASTARRseq_${SAMPLE}_${REPLICATE}.f3q10.sorted.with_umis.dups_marked.GATA1.fragment_counts.unstranded.bed\n",
    "    FN_OUT=KS91_K562_hg38_ASTARRseq_${SAMPLE}_${REPLICATE}.GATA1.unstranded.bed\n",
    "    \n",
    "    ### get count\n",
    "    cat ${FD_INP}/${FN_INP} | awk -v OFS='\\t' {'print $1, $2, $3, $4, $5'} > ${FD_OUT}/${FN_OUT}\n",
    "done"
   ]
  },
  {
   "cell_type": "markdown",
   "id": "fca4661b-a8ec-4b0f-83a4-36e26af026d6",
   "metadata": {},
   "source": [
    "**Check**"
   ]
  },
  {
   "cell_type": "code",
   "execution_count": 41,
   "id": "b379a830-7f38-41e7-b4bf-7fa043aaf837",
   "metadata": {},
   "outputs": [
    {
     "name": "stdout",
     "output_type": "stream",
     "text": [
      "KS91_K562_hg38_ASTARRseq_Input_rep1.GATA1.unstranded.dedups.bed\n",
      "KS91_K562_hg38_ASTARRseq_Input_rep2.GATA1.unstranded.dedups.bed\n",
      "KS91_K562_hg38_ASTARRseq_Input_rep3.GATA1.unstranded.dedups.bed\n",
      "KS91_K562_hg38_ASTARRseq_Input_rep4.GATA1.unstranded.dedups.bed\n",
      "KS91_K562_hg38_ASTARRseq_Input_rep5.GATA1.unstranded.dedups.bed\n",
      "KS91_K562_hg38_ASTARRseq_Input_rep6.GATA1.unstranded.dedups.bed\n",
      "KS91_K562_hg38_ASTARRseq_Output_rep1.GATA1.unstranded.bed\n",
      "KS91_K562_hg38_ASTARRseq_Output_rep2.GATA1.unstranded.bed\n",
      "KS91_K562_hg38_ASTARRseq_Output_rep3.GATA1.unstranded.bed\n",
      "KS91_K562_hg38_ASTARRseq_Output_rep4.GATA1.unstranded.bed\n",
      "library_size.tsv\n",
      "library_size.txt\n"
     ]
    }
   ],
   "source": [
    "ls ${FD_RES}/KS91_K562_ASTARRseq/fragment"
   ]
  },
  {
   "cell_type": "code",
   "execution_count": 42,
   "id": "41f1408b-b8cf-4ea8-abfa-46692847ddc3",
   "metadata": {},
   "outputs": [
    {
     "name": "stdout",
     "output_type": "stream",
     "text": [
      "KS91_K562_hg38_ASTARRseq_Input_rep1.GATA1.unstranded.dedups.bed\n",
      "KS91_K562_hg38_ASTARRseq_Input_rep2.GATA1.unstranded.dedups.bed\n",
      "KS91_K562_hg38_ASTARRseq_Input_rep3.GATA1.unstranded.dedups.bed\n",
      "KS91_K562_hg38_ASTARRseq_Input_rep4.GATA1.unstranded.dedups.bed\n",
      "KS91_K562_hg38_ASTARRseq_Input_rep5.GATA1.unstranded.dedups.bed\n",
      "KS91_K562_hg38_ASTARRseq_Input_rep6.GATA1.unstranded.dedups.bed\n",
      "KS91_K562_hg38_ASTARRseq_Output_rep1.GATA1.unstranded.bed\n",
      "KS91_K562_hg38_ASTARRseq_Output_rep2.GATA1.unstranded.bed\n",
      "KS91_K562_hg38_ASTARRseq_Output_rep3.GATA1.unstranded.bed\n",
      "KS91_K562_hg38_ASTARRseq_Output_rep4.GATA1.unstranded.bed\n"
     ]
    }
   ],
   "source": [
    "ls ${FD_RES}/KS91_K562_ASTARRseq/count"
   ]
  },
  {
   "cell_type": "code",
   "execution_count": 43,
   "id": "7f185cae-bed2-4d23-a3f9-1ab316ab11df",
   "metadata": {},
   "outputs": [
    {
     "name": "stdout",
     "output_type": "stream",
     "text": [
      "==> /gpfs/fs1/data/reddylab/Kuei/out/proj_encode_fcc/KS91_K562_ASTARRseq/count/KS91_K562_hg38_ASTARRseq_Input_rep1.GATA1.unstranded.dedups.bed <==\n",
      "chrX\t47787165\t47787363\tchrX_47787165_47787363\t1\n",
      "chrX\t47787557\t47787773\tchrX_47787557_47787773\t1\n",
      "chrX\t47787593\t47787783\tchrX_47787593_47787783\t1\n",
      "\n",
      "==> /gpfs/fs1/data/reddylab/Kuei/out/proj_encode_fcc/KS91_K562_ASTARRseq/count/KS91_K562_hg38_ASTARRseq_Input_rep2.GATA1.unstranded.dedups.bed <==\n",
      "chrX\t47786508\t47786942\tchrX_47786508_47786942\t1\n",
      "chrX\t47786758\t47787156\tchrX_47786758_47787156\t1\n",
      "chrX\t47787231\t47787416\tchrX_47787231_47787416\t1\n",
      "\n",
      "==> /gpfs/fs1/data/reddylab/Kuei/out/proj_encode_fcc/KS91_K562_ASTARRseq/count/KS91_K562_hg38_ASTARRseq_Input_rep3.GATA1.unstranded.dedups.bed <==\n",
      "chrX\t47787238\t47787404\tchrX_47787238_47787404\t1\n",
      "chrX\t47787369\t47787598\tchrX_47787369_47787598\t1\n",
      "chrX\t47787415\t47787608\tchrX_47787415_47787608\t1\n",
      "\n",
      "==> /gpfs/fs1/data/reddylab/Kuei/out/proj_encode_fcc/KS91_K562_ASTARRseq/count/KS91_K562_hg38_ASTARRseq_Input_rep4.GATA1.unstranded.dedups.bed <==\n",
      "chrX\t47786963\t47787363\tchrX_47786963_47787363\t1\n",
      "chrX\t47787449\t47787725\tchrX_47787449_47787725\t1\n",
      "chrX\t47787479\t47788017\tchrX_47787479_47788017\t1\n",
      "\n",
      "==> /gpfs/fs1/data/reddylab/Kuei/out/proj_encode_fcc/KS91_K562_ASTARRseq/count/KS91_K562_hg38_ASTARRseq_Input_rep5.GATA1.unstranded.dedups.bed <==\n",
      "chrX\t47787231\t47787416\tchrX_47787231_47787416\t1\n",
      "chrX\t47787307\t47787576\tchrX_47787307_47787576\t1\n",
      "chrX\t47787335\t47787693\tchrX_47787335_47787693\t1\n",
      "\n",
      "==> /gpfs/fs1/data/reddylab/Kuei/out/proj_encode_fcc/KS91_K562_ASTARRseq/count/KS91_K562_hg38_ASTARRseq_Input_rep6.GATA1.unstranded.dedups.bed <==\n",
      "chrX\t47787593\t47787783\tchrX_47787593_47787783\t1\n",
      "chrX\t47787596\t47787846\tchrX_47787596_47787846\t1\n",
      "chrX\t47787601\t47787865\tchrX_47787601_47787865\t1\n",
      "\n",
      "==> /gpfs/fs1/data/reddylab/Kuei/out/proj_encode_fcc/KS91_K562_ASTARRseq/count/KS91_K562_hg38_ASTARRseq_Output_rep1.GATA1.unstranded.bed <==\n",
      "chrX\t47787189\t47787363\tchrX_47787189_47787363\t6\n",
      "chrX\t47788545\t47789154\tchrX_47788545_47789154\t6\n",
      "chrX\t47788659\t47788978\tchrX_47788659_47788978\t4\n",
      "\n",
      "==> /gpfs/fs1/data/reddylab/Kuei/out/proj_encode_fcc/KS91_K562_ASTARRseq/count/KS91_K562_hg38_ASTARRseq_Output_rep2.GATA1.unstranded.bed <==\n",
      "chrX\t47787441\t47787617\tchrX_47787441_47787617\t9\n",
      "chrX\t47787442\t47787617\tchrX_47787442_47787617\t1\n",
      "chrX\t47787449\t47787725\tchrX_47787449_47787725\t1\n",
      "\n",
      "==> /gpfs/fs1/data/reddylab/Kuei/out/proj_encode_fcc/KS91_K562_ASTARRseq/count/KS91_K562_hg38_ASTARRseq_Output_rep3.GATA1.unstranded.bed <==\n",
      "chrX\t47787224\t47787406\tchrX_47787224_47787406\t4\n",
      "chrX\t47788004\t47788287\tchrX_47788004_47788287\t2\n",
      "chrX\t47788008\t47788228\tchrX_47788008_47788228\t3\n",
      "\n",
      "==> /gpfs/fs1/data/reddylab/Kuei/out/proj_encode_fcc/KS91_K562_ASTARRseq/count/KS91_K562_hg38_ASTARRseq_Output_rep4.GATA1.unstranded.bed <==\n",
      "chrX\t47787173\t47787363\tchrX_47787173_47787363\t3\n",
      "chrX\t47787224\t47787406\tchrX_47787224_47787406\t4\n",
      "chrX\t47787717\t47788231\tchrX_47787717_47788231\t11\n"
     ]
    }
   ],
   "source": [
    "head -3 ${FD_RES}/KS91_K562_ASTARRseq/count/*bed"
   ]
  },
  {
   "cell_type": "code",
   "execution_count": null,
   "id": "44aaf5da-c397-41c4-b5a3-db5caebc84db",
   "metadata": {},
   "outputs": [],
   "source": []
  }
 ],
 "metadata": {
  "kernelspec": {
   "display_name": "Bash",
   "language": "bash",
   "name": "bash"
  },
  "language_info": {
   "codemirror_mode": "shell",
   "file_extension": ".sh",
   "mimetype": "text/x-sh",
   "name": "bash"
  }
 },
 "nbformat": 4,
 "nbformat_minor": 5
}
