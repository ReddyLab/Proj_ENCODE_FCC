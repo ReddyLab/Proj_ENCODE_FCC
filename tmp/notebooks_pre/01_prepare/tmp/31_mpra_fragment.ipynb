{
 "cells": [
  {
   "cell_type": "markdown",
   "id": "4b9698fd-178a-439c-a104-990cc782d81f",
   "metadata": {},
   "source": [
    "**Set environment**"
   ]
  },
  {
   "cell_type": "code",
   "execution_count": 1,
   "id": "a5191a71-a5f3-4e98-9380-d477c082db6a",
   "metadata": {},
   "outputs": [
    {
     "name": "stdout",
     "output_type": "stream",
     "text": [
      "You are on Duke Server: HARDAC\n",
      "BASE DIRECTORY:     /gpfs/fs1/data/reddylab/Kuei\n",
      "PATH OF SOURCE:     /gpfs/fs1/data/reddylab/Kuei/source\n",
      "PATH OF EXECUTABLE: /gpfs/fs1/data/reddylab/Kuei/exe\n",
      "PATH OF ANNOTATION: /gpfs/fs1/data/reddylab/Kuei/annotation\n",
      "PATH OF PROJECT:    /gpfs/fs1/data/reddylab/Kuei/GitRepo/Proj_CombEffect_ENCODE_FCC/notebooks\n",
      "PATH OF RESULTS:    /gpfs/fs1/data/reddylab/Kuei/out/proj_combeffect_encode_fcc\n",
      "\n"
     ]
    }
   ],
   "source": [
    "source ../config_duke.sh -v"
   ]
  },
  {
   "cell_type": "code",
   "execution_count": 2,
   "id": "feedc962-d76b-4616-9443-5fcfe5162b3b",
   "metadata": {},
   "outputs": [
    {
     "name": "stdout",
     "output_type": "stream",
     "text": [
      "ENCFF348WYK.Ahituv.lentiMPRA.MYC.bed\n",
      "ENCFF348WYK.bed\n",
      "ENCFF348WYK.GATA1.bed\n",
      "ENCFF348WYK.MYC.bed\n",
      "files_to_upload.tsv\n",
      "GATA-MYC_Tile_K562_K562_20210130.hg38.bed\n",
      "GATA-MYC_Tile_K562_K562_20210130.hg38.cleaned.bed\n",
      "GATA-MYC_Tile_K562_K562_20210130.hg38.cleaned.GATA1.bed\n",
      "GATA-MYC_Tile_K562_K562_20210130.hg38.cleaned.GATA1.in_astarr_de_frags.bed\n",
      "GATA-MYC_Tile_K562_K562_20210130.hg38.cleaned.MYC.bed\n"
     ]
    }
   ],
   "source": [
    "ls ${FD_RES}/source/mpra"
   ]
  },
  {
   "cell_type": "code",
   "execution_count": 3,
   "id": "eb68312d-bc1f-4688-8535-e5933c154096",
   "metadata": {},
   "outputs": [
    {
     "name": "stdout",
     "output_type": "stream",
     "text": [
      "chrX\t47786401\t47786600\tX:47786401-47786600\t.\t+\t2.30593934460149\t2117.78684083014\t10474.868702612\t112.11265261617\t110.931130790033\t0.102147903305184\n",
      "chrX\t47786451\t47786650\tX:47786451-47786650\t.\t+\t0.783056057422144\t1386.00739237509\t2387.11896574661\t11.3173883956403\t10.6425168461249\t0.113307047070907\n",
      "chrX\t47786501\t47786700\tX:47786501-47786700\t.\t+\t-0.128731962724311\t1955.62553108109\t1788.23614005802\t0.845069660219201\t0.628722618349189\t0.0878596785422427\n",
      "chrX\t47786551\t47786750\tX:47786551-47786750\t.\t+\t0.588295148181817\t2388.99664261419\t3591.26381774846\t11.2404554080035\t10.5666788666818\t0.0854366059937647\n",
      "chrX\t47786601\t47786800\tX:47786601-47786800\t.\t+\t0.0667001449192146\t2102.91633517956\t2202.38454860936\t0.309589962802377\t0.21047015199996\t0.096677408925751\n",
      "chrX\t47786651\t47786850\tX:47786651-47786850\t.\t+\t-0.0296770285855712\t1571.25883312174\t1537.47500511577\t0.10093990529751\t0.0645309864135248\t0.11287405577848\n",
      "chrX\t47786701\t47786900\tX:47786701-47786900\t.\t+\t-0.14075229487499\t1203.48578659625\t1091.84377528483\t0.825108335723858\t0.612237990840887\t0.0976771932403185\n",
      "chrX\t47786751\t47786950\tX:47786751-47786950\t.\t+\t-0.0885922350756983\t353.512101989425\t332.442633189546\t0.253160744492879\t0.1696398049799\t0.151330371648385\n",
      "chrX\t47786801\t47787000\tX:47786801-47787000\t.\t+\t0.0391523438172218\t579.598940974745\t594.330606996562\t0.0990177524483432\t0.0632252218092235\t0.151540085938414\n",
      "chrX\t47786851\t47787050\tX:47786851-47787050\t.\t+\t-0.180031837594759\t1441.753500779\t1272.18932724085\t0.993521192614518\t0.751361305586954\t0.109935692261477\n"
     ]
    }
   ],
   "source": [
    "FDIRY=${FD_RES}/source/mpra\n",
    "FNAME=GATA-MYC_Tile_K562_K562_20210130.hg38.cleaned.GATA1.bed\n",
    "head ${FDIRY}/${FNAME}"
   ]
  },
  {
   "cell_type": "code",
   "execution_count": 4,
   "id": "0bb0df8e-f765-47c1-84c9-12ab43e443b8",
   "metadata": {},
   "outputs": [
    {
     "name": "stdout",
     "output_type": "stream",
     "text": [
      "chrX\t47786401\t47786600\tX:47786401-47786600\n",
      "chrX\t47786451\t47786650\tX:47786451-47786650\n",
      "chrX\t47786501\t47786700\tX:47786501-47786700\n",
      "chrX\t47786551\t47786750\tX:47786551-47786750\n",
      "chrX\t47786601\t47786800\tX:47786601-47786800\n",
      "chrX\t47786651\t47786850\tX:47786651-47786850\n",
      "chrX\t47786701\t47786900\tX:47786701-47786900\n",
      "chrX\t47786751\t47786950\tX:47786751-47786950\n",
      "chrX\t47786801\t47787000\tX:47786801-47787000\n",
      "chrX\t47786851\t47787050\tX:47786851-47787050\n"
     ]
    }
   ],
   "source": [
    "FDIRY=${FD_RES}/source/mpra\n",
    "FNAME=GATA-MYC_Tile_K562_K562_20210130.hg38.cleaned.GATA1.bed\n",
    "head ${FDIRY}/${FNAME} | awk -v OFS='\\t' {'print $1, $2, $3, $4'}"
   ]
  },
  {
   "cell_type": "code",
   "execution_count": 5,
   "id": "d4da0ea7-7084-41fd-bbfe-67665ba05b4d",
   "metadata": {},
   "outputs": [],
   "source": [
    "### set input and output\n",
    "FD_INP=${FD_RES}/source/mpra\n",
    "FD_OUT=${FD_RES}/Tewhey_K562_TileMPRA/fragment\n",
    "\n",
    "FN_INP=GATA-MYC_Tile_K562_K562_20210130.hg38.cleaned.GATA1.bed\n",
    "FN_OUT=Tile_K562_20210130.GATA1.unstranded.bed\n",
    "\n",
    "### execution\n",
    "cat ${FD_INP}/${FN_INP} | awk -v OFS='\\t' {'print $1, $2, $3'} > ${FD_OUT}/${FN_OUT}"
   ]
  },
  {
   "cell_type": "code",
   "execution_count": 6,
   "id": "4c66de5b-16ac-4e15-aeed-494c4d3a8654",
   "metadata": {},
   "outputs": [
    {
     "name": "stdout",
     "output_type": "stream",
     "text": [
      "chrX\t47786401\t47786600\tX:47786401-47786600\t.\t+\t2.30593934460149\t2117.78684083014\t10474.868702612\t112.11265261617\t110.931130790033\t0.102147903305184\n",
      "chrX\t47786451\t47786650\tX:47786451-47786650\t.\t+\t0.783056057422144\t1386.00739237509\t2387.11896574661\t11.3173883956403\t10.6425168461249\t0.113307047070907\n",
      "chrX\t47786501\t47786700\tX:47786501-47786700\t.\t+\t-0.128731962724311\t1955.62553108109\t1788.23614005802\t0.845069660219201\t0.628722618349189\t0.0878596785422427\n"
     ]
    }
   ],
   "source": [
    "head -3 ${FD_INP}/${FN_INP}"
   ]
  },
  {
   "cell_type": "code",
   "execution_count": 7,
   "id": "5a49349d-0a08-437a-bab0-2a8d5b7bf9b8",
   "metadata": {},
   "outputs": [
    {
     "name": "stdout",
     "output_type": "stream",
     "text": [
      "chrX\t47786401\t47786600\n",
      "chrX\t47786451\t47786650\n",
      "chrX\t47786501\t47786700\n"
     ]
    }
   ],
   "source": [
    "head -3 ${FD_OUT}/${FN_OUT}"
   ]
  },
  {
   "cell_type": "code",
   "execution_count": null,
   "id": "8af69822-9a60-4e73-9011-d00a90b05484",
   "metadata": {},
   "outputs": [],
   "source": []
  }
 ],
 "metadata": {
  "kernelspec": {
   "display_name": "Bash",
   "language": "bash",
   "name": "bash"
  },
  "language_info": {
   "codemirror_mode": "shell",
   "file_extension": ".sh",
   "mimetype": "text/x-sh",
   "name": "bash"
  }
 },
 "nbformat": 4,
 "nbformat_minor": 5
}
