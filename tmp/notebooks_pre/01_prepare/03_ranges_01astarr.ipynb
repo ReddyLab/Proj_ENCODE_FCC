{
 "cells": [
  {
   "cell_type": "markdown",
   "id": "3f3d309b",
   "metadata": {},
   "source": [
    "**Set environment**"
   ]
  },
  {
   "cell_type": "code",
   "execution_count": 2,
   "id": "a08051a1",
   "metadata": {},
   "outputs": [
    {
     "name": "stdout",
     "output_type": "stream",
     "text": [
      "You are in Singularity: singularity_proj_combeffect \n",
      "BASE DIRECTORY:     /mount/work \n",
      "PATH OF SOURCE:     /mount/work/source \n",
      "PATH OF EXECUTABLE: /mount/work/exe \n",
      "PATH OF ANNOTATION: /mount/work/annotation \n",
      "PATH OF PROJECT:    /mount/project \n",
      "PATH OF RESULTS:    /mount/work/out/proj_combeffect_encode_fcc \n"
     ]
    }
   ],
   "source": [
    "suppressMessages(source(\"../config_sing.R\"))\n",
    "show_env()"
   ]
  },
  {
   "cell_type": "markdown",
   "id": "4732973c",
   "metadata": {},
   "source": [
    "## GATA1"
   ]
  },
  {
   "cell_type": "code",
   "execution_count": 3,
   "id": "0060812c",
   "metadata": {},
   "outputs": [
    {
     "name": "stdout",
     "output_type": "stream",
     "text": [
      " [1] \"/mount/work/out/proj_combeffect_encode_fcc/KS91_K562_ASTARRseq/count/KS91_K562_hg38_ASTARRseq_Input_rep1.GATA1.unstranded.bed\" \n",
      " [2] \"/mount/work/out/proj_combeffect_encode_fcc/KS91_K562_ASTARRseq/count/KS91_K562_hg38_ASTARRseq_Input_rep2.GATA1.unstranded.bed\" \n",
      " [3] \"/mount/work/out/proj_combeffect_encode_fcc/KS91_K562_ASTARRseq/count/KS91_K562_hg38_ASTARRseq_Input_rep3.GATA1.unstranded.bed\" \n",
      " [4] \"/mount/work/out/proj_combeffect_encode_fcc/KS91_K562_ASTARRseq/count/KS91_K562_hg38_ASTARRseq_Input_rep4.GATA1.unstranded.bed\" \n",
      " [5] \"/mount/work/out/proj_combeffect_encode_fcc/KS91_K562_ASTARRseq/count/KS91_K562_hg38_ASTARRseq_Input_rep5.GATA1.unstranded.bed\" \n",
      " [6] \"/mount/work/out/proj_combeffect_encode_fcc/KS91_K562_ASTARRseq/count/KS91_K562_hg38_ASTARRseq_Input_rep6.GATA1.unstranded.bed\" \n",
      " [7] \"/mount/work/out/proj_combeffect_encode_fcc/KS91_K562_ASTARRseq/count/KS91_K562_hg38_ASTARRseq_Output_rep1.GATA1.unstranded.bed\"\n",
      " [8] \"/mount/work/out/proj_combeffect_encode_fcc/KS91_K562_ASTARRseq/count/KS91_K562_hg38_ASTARRseq_Output_rep2.GATA1.unstranded.bed\"\n",
      " [9] \"/mount/work/out/proj_combeffect_encode_fcc/KS91_K562_ASTARRseq/count/KS91_K562_hg38_ASTARRseq_Output_rep3.GATA1.unstranded.bed\"\n",
      "[10] \"/mount/work/out/proj_combeffect_encode_fcc/KS91_K562_ASTARRseq/count/KS91_K562_hg38_ASTARRseq_Output_rep4.GATA1.unstranded.bed\"\n"
     ]
    }
   ],
   "source": [
    "fdiry  = file.path(FD_RES, \"KS91_K562_ASTARRseq/count\")\n",
    "fglob  = file.path(fdiry, \"*GATA1*unstranded*\")\n",
    "fpaths = Sys.glob(fglob)\n",
    "print(fpaths)"
   ]
  },
  {
   "cell_type": "code",
   "execution_count": 4,
   "id": "915462e9",
   "metadata": {},
   "outputs": [
    {
     "name": "stdout",
     "output_type": "stream",
     "text": [
      "[1] \"chrX\"     \"47787165\" \"49786620\"\n",
      "[1] \"chrX\"     \"47786508\" \"49786637\"\n",
      "[1] \"chrX\"     \"47787238\" \"49786643\"\n",
      "[1] \"chrX\"     \"47786963\" \"49786637\"\n",
      "[1] \"chrX\"     \"47787231\" \"49786588\"\n",
      "[1] \"chrX\"     \"47787593\" \"49786620\"\n",
      "[1] \"chrX\"     \"47787189\" \"49785973\"\n",
      "[1] \"chrX\"     \"47787441\" \"49786387\"\n",
      "[1] \"chrX\"     \"47787224\" \"49786471\"\n",
      "[1] \"chrX\"     \"47787173\" \"49786588\"\n"
     ]
    }
   ],
   "source": [
    "for (fpath in fpaths){\n",
    "    dat = read_tsv(fpath, col_names = FALSE, show_col_types = FALSE)\n",
    "    print(c(unique(dat$X1), range(c(dat$X2, dat$X3))))\n",
    "}"
   ]
  },
  {
   "cell_type": "markdown",
   "id": "f01c02b5",
   "metadata": {},
   "source": [
    "ASTARR `chrX:47786508-49786637`"
   ]
  },
  {
   "cell_type": "markdown",
   "id": "85fd84c1",
   "metadata": {},
   "source": [
    "## MYC"
   ]
  },
  {
   "cell_type": "code",
   "execution_count": 5,
   "id": "75a92920",
   "metadata": {},
   "outputs": [
    {
     "name": "stdout",
     "output_type": "stream",
     "text": [
      " [1] \"/mount/work/out/proj_combeffect_encode_fcc/KS91_K562_ASTARRseq/count/KS91_K562_hg38_ASTARRseq_Input_rep1.MYC.unstranded.bed\" \n",
      " [2] \"/mount/work/out/proj_combeffect_encode_fcc/KS91_K562_ASTARRseq/count/KS91_K562_hg38_ASTARRseq_Input_rep2.MYC.unstranded.bed\" \n",
      " [3] \"/mount/work/out/proj_combeffect_encode_fcc/KS91_K562_ASTARRseq/count/KS91_K562_hg38_ASTARRseq_Input_rep3.MYC.unstranded.bed\" \n",
      " [4] \"/mount/work/out/proj_combeffect_encode_fcc/KS91_K562_ASTARRseq/count/KS91_K562_hg38_ASTARRseq_Input_rep4.MYC.unstranded.bed\" \n",
      " [5] \"/mount/work/out/proj_combeffect_encode_fcc/KS91_K562_ASTARRseq/count/KS91_K562_hg38_ASTARRseq_Input_rep5.MYC.unstranded.bed\" \n",
      " [6] \"/mount/work/out/proj_combeffect_encode_fcc/KS91_K562_ASTARRseq/count/KS91_K562_hg38_ASTARRseq_Input_rep6.MYC.unstranded.bed\" \n",
      " [7] \"/mount/work/out/proj_combeffect_encode_fcc/KS91_K562_ASTARRseq/count/KS91_K562_hg38_ASTARRseq_Output_rep1.MYC.unstranded.bed\"\n",
      " [8] \"/mount/work/out/proj_combeffect_encode_fcc/KS91_K562_ASTARRseq/count/KS91_K562_hg38_ASTARRseq_Output_rep2.MYC.unstranded.bed\"\n",
      " [9] \"/mount/work/out/proj_combeffect_encode_fcc/KS91_K562_ASTARRseq/count/KS91_K562_hg38_ASTARRseq_Output_rep3.MYC.unstranded.bed\"\n",
      "[10] \"/mount/work/out/proj_combeffect_encode_fcc/KS91_K562_ASTARRseq/count/KS91_K562_hg38_ASTARRseq_Output_rep4.MYC.unstranded.bed\"\n"
     ]
    }
   ],
   "source": [
    "fdiry  = file.path(FD_RES, \"KS91_K562_ASTARRseq/count\")\n",
    "fglob  = file.path(fdiry, \"*MYC*unstranded*\")\n",
    "fpaths = Sys.glob(fglob)\n",
    "print(fpaths)"
   ]
  },
  {
   "cell_type": "code",
   "execution_count": 6,
   "id": "57033e70",
   "metadata": {},
   "outputs": [
    {
     "name": "stdout",
     "output_type": "stream",
     "text": [
      "[1] \"chr8\"      \"126735990\" \"128736149\"\n",
      "[1] \"chr8\"      \"126735973\" \"128736166\"\n",
      "[1] \"chr8\"      \"126735973\" \"128736166\"\n",
      "[1] \"chr8\"      \"126735973\" \"128736157\"\n",
      "[1] \"chr8\"      \"126735973\" \"128736166\"\n",
      "[1] \"chr8\"      \"126735990\" \"128736166\"\n",
      "[1] \"chr8\"      \"126736089\" \"128736128\"\n",
      "[1] \"chr8\"      \"126735987\" \"128736157\"\n",
      "[1] \"chr8\"      \"126735987\" \"128736157\"\n",
      "[1] \"chr8\"      \"126736025\" \"128736078\"\n"
     ]
    }
   ],
   "source": [
    "for (fpath in fpaths){\n",
    "    dat = read_tsv(fpath, col_names = FALSE, show_col_types = FALSE)\n",
    "    print(c(unique(dat$X1), range(c(dat$X2, dat$X3))))\n",
    "}"
   ]
  },
  {
   "cell_type": "markdown",
   "id": "dfb37c37",
   "metadata": {},
   "source": [
    "ASTARR `chr8:126735973-128736166`"
   ]
  },
  {
   "cell_type": "markdown",
   "id": "f83e7d59",
   "metadata": {},
   "source": [
    "## FADS"
   ]
  },
  {
   "cell_type": "code",
   "execution_count": 7,
   "id": "5ec28f63",
   "metadata": {},
   "outputs": [
    {
     "name": "stdout",
     "output_type": "stream",
     "text": [
      " [1] \"/mount/work/out/proj_combeffect_encode_fcc/KS91_K562_ASTARRseq/count/KS91_K562_hg38_ASTARRseq_Input_rep1.FADS.unstranded.bed\" \n",
      " [2] \"/mount/work/out/proj_combeffect_encode_fcc/KS91_K562_ASTARRseq/count/KS91_K562_hg38_ASTARRseq_Input_rep2.FADS.unstranded.bed\" \n",
      " [3] \"/mount/work/out/proj_combeffect_encode_fcc/KS91_K562_ASTARRseq/count/KS91_K562_hg38_ASTARRseq_Input_rep3.FADS.unstranded.bed\" \n",
      " [4] \"/mount/work/out/proj_combeffect_encode_fcc/KS91_K562_ASTARRseq/count/KS91_K562_hg38_ASTARRseq_Input_rep4.FADS.unstranded.bed\" \n",
      " [5] \"/mount/work/out/proj_combeffect_encode_fcc/KS91_K562_ASTARRseq/count/KS91_K562_hg38_ASTARRseq_Input_rep5.FADS.unstranded.bed\" \n",
      " [6] \"/mount/work/out/proj_combeffect_encode_fcc/KS91_K562_ASTARRseq/count/KS91_K562_hg38_ASTARRseq_Input_rep6.FADS.unstranded.bed\" \n",
      " [7] \"/mount/work/out/proj_combeffect_encode_fcc/KS91_K562_ASTARRseq/count/KS91_K562_hg38_ASTARRseq_Output_rep1.FADS.unstranded.bed\"\n",
      " [8] \"/mount/work/out/proj_combeffect_encode_fcc/KS91_K562_ASTARRseq/count/KS91_K562_hg38_ASTARRseq_Output_rep2.FADS.unstranded.bed\"\n",
      " [9] \"/mount/work/out/proj_combeffect_encode_fcc/KS91_K562_ASTARRseq/count/KS91_K562_hg38_ASTARRseq_Output_rep3.FADS.unstranded.bed\"\n",
      "[10] \"/mount/work/out/proj_combeffect_encode_fcc/KS91_K562_ASTARRseq/count/KS91_K562_hg38_ASTARRseq_Output_rep4.FADS.unstranded.bed\"\n"
     ]
    }
   ],
   "source": [
    "fdiry  = file.path(FD_RES, \"KS91_K562_ASTARRseq/count\")\n",
    "fglob  = file.path(fdiry, \"*FADS*unstranded*\")\n",
    "fpaths = Sys.glob(fglob)\n",
    "print(fpaths)"
   ]
  },
  {
   "cell_type": "code",
   "execution_count": 8,
   "id": "d5f7d2c3",
   "metadata": {},
   "outputs": [
    {
     "name": "stdout",
     "output_type": "stream",
     "text": [
      "[1] \"chr11\"    \"61787228\" \"61898446\"\n",
      "[1] \"chr11\"    \"61787228\" \"61898446\"\n",
      "[1] \"chr11\"    \"61787228\" \"61898448\"\n",
      "[1] \"chr11\"    \"61787228\" \"61898448\"\n",
      "[1] \"chr11\"    \"61787228\" \"61898446\"\n",
      "[1] \"chr11\"    \"61787228\" \"61898446\"\n",
      "[1] \"chr11\"    \"61787383\" \"61898439\"\n",
      "[1] \"chr11\"    \"61787261\" \"61898409\"\n",
      "[1] \"chr11\"    \"61787261\" \"61898416\"\n",
      "[1] \"chr11\"    \"61787234\" \"61898446\"\n"
     ]
    }
   ],
   "source": [
    "for (fpath in fpaths){\n",
    "    dat = read_tsv(fpath, col_names = FALSE, show_col_types = FALSE)\n",
    "    print(c(unique(dat$X1), range(c(dat$X2, dat$X3))))\n",
    "}"
   ]
  },
  {
   "cell_type": "markdown",
   "id": "0d59be45",
   "metadata": {},
   "source": [
    "ASTARR `chr11:61787228-61898448`"
   ]
  },
  {
   "cell_type": "markdown",
   "id": "9693c88e",
   "metadata": {},
   "source": [
    "TMPRA\n",
    "\n",
    "**FADS** `chr11:61554800-61665820`  `chr11:61,554,800-61,665,820`\n",
    "\n",
    "**FADS** `chr11:61787329-61898348`  `chr11:61,787,329-61,898,348`\n",
    "\n",
    "ASTARR\n",
    "\n",
    "**FADS** `chr11:61787228-61898446` `chr11:61,787,228-61,898,446`"
   ]
  },
  {
   "cell_type": "markdown",
   "id": "8a982e84",
   "metadata": {},
   "source": [
    "common range: `chr11:61787228-61898446` `chr11:61,787,330-61,898,350`"
   ]
  }
 ],
 "metadata": {
  "kernelspec": {
   "display_name": "R",
   "language": "R",
   "name": "ir"
  },
  "language_info": {
   "codemirror_mode": "r",
   "file_extension": ".r",
   "mimetype": "text/x-r-source",
   "name": "R",
   "pygments_lexer": "r",
   "version": "4.2.0"
  }
 },
 "nbformat": 4,
 "nbformat_minor": 5
}
