{
 "cells": [
  {
   "cell_type": "markdown",
   "id": "7d6efce9-5491-4bae-91a1-b308ac5b1e3c",
   "metadata": {},
   "source": [
    "**Set environment**"
   ]
  },
  {
   "cell_type": "code",
   "execution_count": 1,
   "id": "fafd8a44-3488-4288-9dc3-9c3a2d5abeb0",
   "metadata": {},
   "outputs": [
    {
     "name": "stdout",
     "output_type": "stream",
     "text": [
      "You are on Duke Server: HARDAC\n",
      "BASE DIRECTORY:     /gpfs/fs1/data/reddylab/Kuei\n",
      "PATH OF SOURCE:     /gpfs/fs1/data/reddylab/Kuei/source\n",
      "PATH OF EXECUTABLE: /gpfs/fs1/data/reddylab/Kuei/exe\n",
      "PATH OF ANNOTATION: /gpfs/fs1/data/reddylab/Kuei/annotation\n",
      "PATH OF PROJECT:    /gpfs/fs1/data/reddylab/Kuei/GitRepo/Proj_CombEffect_ENCODE_FCC/notebooks\n",
      "PATH OF RESULTS:    /gpfs/fs1/data/reddylab/Kuei/out/proj_combeffect_encode_fcc\n",
      "\n"
     ]
    }
   ],
   "source": [
    "source ../config_duke.sh\n",
    "show_env"
   ]
  },
  {
   "cell_type": "markdown",
   "id": "711d2932-222a-40f9-9a2b-579e6e60882e",
   "metadata": {},
   "source": [
    "## Check files"
   ]
  },
  {
   "cell_type": "code",
   "execution_count": 2,
   "id": "453cf959-e8ff-455b-9930-f0294ff6d7c0",
   "metadata": {},
   "outputs": [
    {
     "name": "stdout",
     "output_type": "stream",
     "text": [
      "KS91_K562_hg38_ASTARRseq_Input_rep1.masked.dups_marked.sorted.FADS.fragment_counts.stranded.bed\n",
      "KS91_K562_hg38_ASTARRseq_Input_rep1.masked.dups_marked.sorted.FADS.fragment_counts.unstranded.bed\n",
      "KS91_K562_hg38_ASTARRseq_Input_rep1.masked.dups_marked.sorted.GATA1.fragment_counts.stranded.bed\n",
      "KS91_K562_hg38_ASTARRseq_Input_rep1.masked.dups_marked.sorted.GATA1.fragment_counts.unstranded.bed\n",
      "KS91_K562_hg38_ASTARRseq_Input_rep1.masked.dups_marked.sorted.MYC.fragment_counts.stranded.bed\n",
      "KS91_K562_hg38_ASTARRseq_Input_rep1.masked.dups_marked.sorted.MYC.fragment_counts.unstranded.bed\n",
      "KS91_K562_hg38_ASTARRseq_Input_rep2.masked.dups_marked.sorted.FADS.fragment_counts.stranded.bed\n",
      "KS91_K562_hg38_ASTARRseq_Input_rep2.masked.dups_marked.sorted.FADS.fragment_counts.unstranded.bed\n",
      "KS91_K562_hg38_ASTARRseq_Input_rep2.masked.dups_marked.sorted.GATA1.fragment_counts.stranded.bed\n",
      "KS91_K562_hg38_ASTARRseq_Input_rep2.masked.dups_marked.sorted.GATA1.fragment_counts.unstranded.bed\n",
      "KS91_K562_hg38_ASTARRseq_Input_rep2.masked.dups_marked.sorted.MYC.fragment_counts.stranded.bed\n",
      "KS91_K562_hg38_ASTARRseq_Input_rep2.masked.dups_marked.sorted.MYC.fragment_counts.unstranded.bed\n",
      "KS91_K562_hg38_ASTARRseq_Input_rep3.masked.dups_marked.sorted.FADS.fragment_counts.stranded.bed\n",
      "KS91_K562_hg38_ASTARRseq_Input_rep3.masked.dups_marked.sorted.FADS.fragment_counts.unstranded.bed\n",
      "KS91_K562_hg38_ASTARRseq_Input_rep3.masked.dups_marked.sorted.GATA1.fragment_counts.stranded.bed\n",
      "KS91_K562_hg38_ASTARRseq_Input_rep3.masked.dups_marked.sorted.GATA1.fragment_counts.unstranded.bed\n",
      "KS91_K562_hg38_ASTARRseq_Input_rep3.masked.dups_marked.sorted.MYC.fragment_counts.stranded.bed\n",
      "KS91_K562_hg38_ASTARRseq_Input_rep3.masked.dups_marked.sorted.MYC.fragment_counts.unstranded.bed\n",
      "KS91_K562_hg38_ASTARRseq_Input_rep4.masked.dups_marked.sorted.FADS.fragment_counts.stranded.bed\n",
      "KS91_K562_hg38_ASTARRseq_Input_rep4.masked.dups_marked.sorted.FADS.fragment_counts.unstranded.bed\n",
      "KS91_K562_hg38_ASTARRseq_Input_rep4.masked.dups_marked.sorted.GATA1.fragment_counts.stranded.bed\n",
      "KS91_K562_hg38_ASTARRseq_Input_rep4.masked.dups_marked.sorted.GATA1.fragment_counts.unstranded.bed\n",
      "KS91_K562_hg38_ASTARRseq_Input_rep4.masked.dups_marked.sorted.MYC.fragment_counts.stranded.bed\n",
      "KS91_K562_hg38_ASTARRseq_Input_rep4.masked.dups_marked.sorted.MYC.fragment_counts.unstranded.bed\n",
      "KS91_K562_hg38_ASTARRseq_Input_rep5.masked.dups_marked.sorted.FADS.fragment_counts.stranded.bed\n",
      "KS91_K562_hg38_ASTARRseq_Input_rep5.masked.dups_marked.sorted.FADS.fragment_counts.unstranded.bed\n",
      "KS91_K562_hg38_ASTARRseq_Input_rep5.masked.dups_marked.sorted.GATA1.fragment_counts.stranded.bed\n",
      "KS91_K562_hg38_ASTARRseq_Input_rep5.masked.dups_marked.sorted.GATA1.fragment_counts.unstranded.bed\n",
      "KS91_K562_hg38_ASTARRseq_Input_rep5.masked.dups_marked.sorted.MYC.fragment_counts.stranded.bed\n",
      "KS91_K562_hg38_ASTARRseq_Input_rep5.masked.dups_marked.sorted.MYC.fragment_counts.unstranded.bed\n",
      "KS91_K562_hg38_ASTARRseq_Input_rep6.masked.dups_marked.sorted.FADS.fragment_counts.stranded.bed\n",
      "KS91_K562_hg38_ASTARRseq_Input_rep6.masked.dups_marked.sorted.FADS.fragment_counts.unstranded.bed\n",
      "KS91_K562_hg38_ASTARRseq_Input_rep6.masked.dups_marked.sorted.GATA1.fragment_counts.stranded.bed\n",
      "KS91_K562_hg38_ASTARRseq_Input_rep6.masked.dups_marked.sorted.GATA1.fragment_counts.unstranded.bed\n",
      "KS91_K562_hg38_ASTARRseq_Input_rep6.masked.dups_marked.sorted.MYC.fragment_counts.stranded.bed\n",
      "KS91_K562_hg38_ASTARRseq_Input_rep6.masked.dups_marked.sorted.MYC.fragment_counts.unstranded.bed\n",
      "KS91_K562_hg38_ASTARRseq_Output_rep1.f3q10.sorted.with_umis.dups_marked.FADS.fragment_counts.stranded.bed\n",
      "KS91_K562_hg38_ASTARRseq_Output_rep1.f3q10.sorted.with_umis.dups_marked.FADS.fragment_counts.unstranded.bed\n",
      "KS91_K562_hg38_ASTARRseq_Output_rep1.f3q10.sorted.with_umis.dups_marked.GATA1.fragment_counts.stranded.bed\n",
      "KS91_K562_hg38_ASTARRseq_Output_rep1.f3q10.sorted.with_umis.dups_marked.GATA1.fragment_counts.unstranded.bed\n",
      "KS91_K562_hg38_ASTARRseq_Output_rep1.f3q10.sorted.with_umis.dups_marked.MYC.fragment_counts.stranded.bed\n",
      "KS91_K562_hg38_ASTARRseq_Output_rep1.f3q10.sorted.with_umis.dups_marked.MYC.fragment_counts.unstranded.bed\n",
      "KS91_K562_hg38_ASTARRseq_Output_rep2.f3q10.sorted.with_umis.dups_marked.FADS.fragment_counts.stranded.bed\n",
      "KS91_K562_hg38_ASTARRseq_Output_rep2.f3q10.sorted.with_umis.dups_marked.FADS.fragment_counts.unstranded.bed\n",
      "KS91_K562_hg38_ASTARRseq_Output_rep2.f3q10.sorted.with_umis.dups_marked.GATA1.fragment_counts.stranded.bed\n",
      "KS91_K562_hg38_ASTARRseq_Output_rep2.f3q10.sorted.with_umis.dups_marked.GATA1.fragment_counts.unstranded.bed\n",
      "KS91_K562_hg38_ASTARRseq_Output_rep2.f3q10.sorted.with_umis.dups_marked.MYC.fragment_counts.stranded.bed\n",
      "KS91_K562_hg38_ASTARRseq_Output_rep2.f3q10.sorted.with_umis.dups_marked.MYC.fragment_counts.unstranded.bed\n",
      "KS91_K562_hg38_ASTARRseq_Output_rep3.f3q10.sorted.with_umis.dups_marked.FADS.fragment_counts.stranded.bed\n",
      "KS91_K562_hg38_ASTARRseq_Output_rep3.f3q10.sorted.with_umis.dups_marked.FADS.fragment_counts.unstranded.bed\n",
      "KS91_K562_hg38_ASTARRseq_Output_rep3.f3q10.sorted.with_umis.dups_marked.GATA1.fragment_counts.stranded.bed\n",
      "KS91_K562_hg38_ASTARRseq_Output_rep3.f3q10.sorted.with_umis.dups_marked.GATA1.fragment_counts.unstranded.bed\n",
      "KS91_K562_hg38_ASTARRseq_Output_rep3.f3q10.sorted.with_umis.dups_marked.MYC.fragment_counts.stranded.bed\n",
      "KS91_K562_hg38_ASTARRseq_Output_rep3.f3q10.sorted.with_umis.dups_marked.MYC.fragment_counts.unstranded.bed\n",
      "KS91_K562_hg38_ASTARRseq_Output_rep4.f3q10.sorted.with_umis.dups_marked.FADS.fragment_counts.stranded.bed\n",
      "KS91_K562_hg38_ASTARRseq_Output_rep4.f3q10.sorted.with_umis.dups_marked.FADS.fragment_counts.unstranded.bed\n",
      "KS91_K562_hg38_ASTARRseq_Output_rep4.f3q10.sorted.with_umis.dups_marked.GATA1.fragment_counts.stranded.bed\n",
      "KS91_K562_hg38_ASTARRseq_Output_rep4.f3q10.sorted.with_umis.dups_marked.GATA1.fragment_counts.unstranded.bed\n",
      "KS91_K562_hg38_ASTARRseq_Output_rep4.f3q10.sorted.with_umis.dups_marked.MYC.fragment_counts.stranded.bed\n",
      "KS91_K562_hg38_ASTARRseq_Output_rep4.f3q10.sorted.with_umis.dups_marked.MYC.fragment_counts.unstranded.bed\n"
     ]
    }
   ],
   "source": [
    "ls ${FD_RES}/source/starrseq_220510"
   ]
  },
  {
   "cell_type": "markdown",
   "id": "6cd2d15f-81dd-4f7e-9c94-e5db64b9f202",
   "metadata": {},
   "source": [
    "## Testing"
   ]
  },
  {
   "cell_type": "code",
   "execution_count": 13,
   "id": "cb6a509e-f604-4e51-9782-c55c5f8db0c3",
   "metadata": {},
   "outputs": [],
   "source": [
    "REGIONS=(\"GATA1\" \"MYC\" \"FADS\")\n",
    "\n",
    "REGION=\"GATA1\"\n",
    "STRAND=\"unstranded\"\n",
    "GROUP=\"Input\"\n",
    "REP=\"rep1\"\n",
    "\n",
    "PREFIX=\"KS91_K562_hg38_ASTARRseq\""
   ]
  },
  {
   "cell_type": "code",
   "execution_count": 16,
   "id": "7715c83d-462f-4369-9e70-16b83eeba662",
   "metadata": {},
   "outputs": [
    {
     "name": "stdout",
     "output_type": "stream",
     "text": [
      "/gpfs/fs1/data/reddylab/Kuei/out/proj_combeffect_encode_fcc/source/starrseq_220510/KS91_K562_hg38_ASTARRseq_Input_rep1.masked.dups_marked.sorted.GATA1.fragment_counts.unstranded.bed\n"
     ]
    }
   ],
   "source": [
    "FDIRY=\"${FD_RES}/source/starrseq_220510\"\n",
    "FPATH=$(ls ${FDIRY}/${PREFIX}*${GROUP}_${REP}*${REGION}*${STRAND}*)\n",
    "echo ${FPATH}"
   ]
  },
  {
   "cell_type": "code",
   "execution_count": 46,
   "id": "f8021611-841f-4ec1-a66e-31355d2a4a15",
   "metadata": {},
   "outputs": [],
   "source": [
    "REGION=\"GATA1\"\n",
    "STRAND=\"stranded\"\n",
    "GROUP=\"Input\"\n",
    "REP=\"rep1\"\n",
    "\n",
    "PREFIX=\"KS91_K562_hg38_ASTARRseq\""
   ]
  },
  {
   "cell_type": "code",
   "execution_count": 47,
   "id": "57aa186f-3528-4642-9d7c-b2d3adff8a18",
   "metadata": {},
   "outputs": [
    {
     "name": "stdout",
     "output_type": "stream",
     "text": [
      "KS91_K562_hg38_ASTARRseq*Input_rep1*GATA1*.stranded*\n"
     ]
    }
   ],
   "source": [
    "echo ${PREFIX}*${GROUP}_${REP}*${REGION}*.${STRAND}*"
   ]
  },
  {
   "cell_type": "code",
   "execution_count": 49,
   "id": "32d2f8c9-f9ec-4af3-8182-930b77743813",
   "metadata": {},
   "outputs": [
    {
     "name": "stdout",
     "output_type": "stream",
     "text": [
      "/gpfs/fs1/data/reddylab/Kuei/out/proj_combeffect_encode_fcc/source/starrseq_220510/KS91_K562_hg38_ASTARRseq_Input_rep1.masked.dups_marked.sorted.GATA1.fragment_counts.stranded.bed\n"
     ]
    }
   ],
   "source": [
    "FPATH=$(ls ${FDIRY}/${PREFIX}*${GROUP}_${REP}*${REGION}*.${STRAND}.*)\n",
    "echo ${FPATH}"
   ]
  },
  {
   "cell_type": "code",
   "execution_count": 35,
   "id": "96689198-4c43-49c9-bb26-8dd23d6b179b",
   "metadata": {},
   "outputs": [
    {
     "name": "stdout",
     "output_type": "stream",
     "text": [
      "/gpfs/fs1/data/reddylab/Kuei/out/proj_combeffect_encode_fcc/source/starrseq_220510/KS91_K562_hg38_ASTARRseq_Input_rep1.masked.dups_marked.sorted.GATA1.fragment_counts.stranded.bed\n",
      "\n",
      "KS91_K562_hg38_ASTARRseq_Input_rep1.GATA1.stranded.bed\n",
      "\n",
      "KS91_K562_hg38_ASTARRseq_Input_rep1.GATA1.stranded_pos.bed\n",
      "\n",
      "KS91_K562_hg38_ASTARRseq_Input_rep1.GATA1.stranded_neg.bed\n",
      "\n"
     ]
    }
   ],
   "source": [
    "FDIRY=\"${FD_RES}/source/starrseq_220510\"\n",
    "FPATH=$(ls ${FDIRY}/${PREFIX}*${GROUP}_${REP}*${REGION}.fragment_counts.${STRAND}*)\n",
    "echo ${FPATH}\n",
    "echo\n",
    "FNAME=${PREFIX}_${GROUP}_${REP}.${REGION}.${STRAND}.bed\n",
    "echo ${FNAME}\n",
    "echo\n",
    "FNAME=${PREFIX}_${GROUP}_${REP}.${REGION}.${STRAND}_pos.bed\n",
    "echo ${FNAME}\n",
    "echo\n",
    "FNAME=${PREFIX}_${GROUP}_${REP}.${REGION}.${STRAND}_neg.bed\n",
    "echo ${FNAME}\n",
    "echo"
   ]
  },
  {
   "cell_type": "code",
   "execution_count": 22,
   "id": "171189d1-f1a7-4f99-b37a-e6aa18fe766a",
   "metadata": {},
   "outputs": [
    {
     "name": "stdout",
     "output_type": "stream",
     "text": [
      "chrX\t47787165\t47787363\tchrX_47787165_47787363_+\t1\t+\n",
      "chrX\t47787557\t47787773\tchrX_47787557_47787773_-\t1\t-\n",
      "chrX\t47787593\t47787783\tchrX_47787593_47787783_-\t1\t-\n",
      "chrX\t47787598\t47787772\tchrX_47787598_47787772_-\t1\t-\n",
      "chrX\t47787661\t47788058\tchrX_47787661_47788058_+\t1\t+\n",
      "chrX\t47787743\t47787849\tchrX_47787743_47787849_-\t1\t-\n",
      "chrX\t47787998\t47788231\tchrX_47787998_47788231_+\t1\t+\n",
      "chrX\t47788008\t47788157\tchrX_47788008_47788157_-\t1\t-\n",
      "chrX\t47788008\t47788181\tchrX_47788008_47788181_-\t1\t-\n",
      "chrX\t47788140\t47788547\tchrX_47788140_47788547_-\t1\t-\n"
     ]
    }
   ],
   "source": [
    "head ${FPATH}"
   ]
  },
  {
   "cell_type": "code",
   "execution_count": 23,
   "id": "34d62df0-be0e-4dfa-8e61-f8761a37d893",
   "metadata": {},
   "outputs": [
    {
     "name": "stdout",
     "output_type": "stream",
     "text": [
      "chrX\t47787165\t47787363\tchrX_47787165_47787363_+\t1\t+\n",
      "chrX\t47787661\t47788058\tchrX_47787661_47788058_+\t1\t+\n",
      "chrX\t47787998\t47788231\tchrX_47787998_47788231_+\t1\t+\n"
     ]
    }
   ],
   "source": [
    "head ${FPATH} | awk '{ if ($6 == \"+\") { print } }'"
   ]
  },
  {
   "cell_type": "code",
   "execution_count": 24,
   "id": "306f20e6-2842-430d-be32-addf3d29b30c",
   "metadata": {},
   "outputs": [
    {
     "name": "stdout",
     "output_type": "stream",
     "text": [
      "chrX\t47787557\t47787773\tchrX_47787557_47787773_-\t1\t-\n",
      "chrX\t47787593\t47787783\tchrX_47787593_47787783_-\t1\t-\n",
      "chrX\t47787598\t47787772\tchrX_47787598_47787772_-\t1\t-\n",
      "chrX\t47787743\t47787849\tchrX_47787743_47787849_-\t1\t-\n",
      "chrX\t47788008\t47788157\tchrX_47788008_47788157_-\t1\t-\n",
      "chrX\t47788008\t47788181\tchrX_47788008_47788181_-\t1\t-\n",
      "chrX\t47788140\t47788547\tchrX_47788140_47788547_-\t1\t-\n"
     ]
    }
   ],
   "source": [
    "head ${FPATH} | awk '{ if ($6 == \"-\") { print } }'"
   ]
  },
  {
   "cell_type": "code",
   "execution_count": 63,
   "id": "bc5dde05-892a-48d0-bf6f-db7495d55abd",
   "metadata": {},
   "outputs": [
    {
     "name": "stdout",
     "output_type": "stream",
     "text": [
      "chrX\t47787165\t47787363\tchrX_47787165_47787363_+\t1\t+\n",
      "chrX\t47787661\t47788058\tchrX_47787661_47788058_+\t1\t+\n",
      "chrX\t47787998\t47788231\tchrX_47787998_47788231_+\t1\t+\n"
     ]
    }
   ],
   "source": [
    "head ${FPATH} | awk '{ if ($6 == \"+\") { print } }' | awk -v OFS='\\t' {'print $1, $2, $3, $4, 1, $6'}"
   ]
  },
  {
   "cell_type": "markdown",
   "id": "e6c32e2c-e381-4df1-ac6e-7fc3fd7f2aca",
   "metadata": {
    "tags": []
   },
   "source": [
    "## Unstranded"
   ]
  },
  {
   "cell_type": "code",
   "execution_count": 7,
   "id": "9517afb5-6d8f-4e7e-b8bd-491fe8ec7b53",
   "metadata": {},
   "outputs": [
    {
     "name": "stdout",
     "output_type": "stream",
     "text": [
      "GATA1 Input_rep1\n",
      "KS91_K562_hg38_ASTARRseq_Input_rep1.masked.dups_marked.sorted.GATA1.fragment_counts.unstranded.bed\n",
      "KS91_K562_hg38_ASTARRseq_Input_rep1.GATA1.unstranded.bed\n",
      "\n",
      "MYC Input_rep1\n",
      "KS91_K562_hg38_ASTARRseq_Input_rep1.masked.dups_marked.sorted.MYC.fragment_counts.unstranded.bed\n",
      "KS91_K562_hg38_ASTARRseq_Input_rep1.MYC.unstranded.bed\n",
      "\n",
      "FADS Input_rep1\n",
      "KS91_K562_hg38_ASTARRseq_Input_rep1.masked.dups_marked.sorted.FADS.fragment_counts.unstranded.bed\n",
      "KS91_K562_hg38_ASTARRseq_Input_rep1.FADS.unstranded.bed\n",
      "\n",
      "GATA1 Input_rep2\n",
      "KS91_K562_hg38_ASTARRseq_Input_rep2.masked.dups_marked.sorted.GATA1.fragment_counts.unstranded.bed\n",
      "KS91_K562_hg38_ASTARRseq_Input_rep2.GATA1.unstranded.bed\n",
      "\n",
      "MYC Input_rep2\n",
      "KS91_K562_hg38_ASTARRseq_Input_rep2.masked.dups_marked.sorted.MYC.fragment_counts.unstranded.bed\n",
      "KS91_K562_hg38_ASTARRseq_Input_rep2.MYC.unstranded.bed\n",
      "\n",
      "FADS Input_rep2\n",
      "KS91_K562_hg38_ASTARRseq_Input_rep2.masked.dups_marked.sorted.FADS.fragment_counts.unstranded.bed\n",
      "KS91_K562_hg38_ASTARRseq_Input_rep2.FADS.unstranded.bed\n",
      "\n",
      "GATA1 Input_rep3\n",
      "KS91_K562_hg38_ASTARRseq_Input_rep3.masked.dups_marked.sorted.GATA1.fragment_counts.unstranded.bed\n",
      "KS91_K562_hg38_ASTARRseq_Input_rep3.GATA1.unstranded.bed\n",
      "\n",
      "MYC Input_rep3\n",
      "KS91_K562_hg38_ASTARRseq_Input_rep3.masked.dups_marked.sorted.MYC.fragment_counts.unstranded.bed\n",
      "KS91_K562_hg38_ASTARRseq_Input_rep3.MYC.unstranded.bed\n",
      "\n",
      "FADS Input_rep3\n",
      "KS91_K562_hg38_ASTARRseq_Input_rep3.masked.dups_marked.sorted.FADS.fragment_counts.unstranded.bed\n",
      "KS91_K562_hg38_ASTARRseq_Input_rep3.FADS.unstranded.bed\n",
      "\n",
      "GATA1 Input_rep4\n",
      "KS91_K562_hg38_ASTARRseq_Input_rep4.masked.dups_marked.sorted.GATA1.fragment_counts.unstranded.bed\n",
      "KS91_K562_hg38_ASTARRseq_Input_rep4.GATA1.unstranded.bed\n",
      "\n",
      "MYC Input_rep4\n",
      "KS91_K562_hg38_ASTARRseq_Input_rep4.masked.dups_marked.sorted.MYC.fragment_counts.unstranded.bed\n",
      "KS91_K562_hg38_ASTARRseq_Input_rep4.MYC.unstranded.bed\n",
      "\n",
      "FADS Input_rep4\n",
      "KS91_K562_hg38_ASTARRseq_Input_rep4.masked.dups_marked.sorted.FADS.fragment_counts.unstranded.bed\n",
      "KS91_K562_hg38_ASTARRseq_Input_rep4.FADS.unstranded.bed\n",
      "\n",
      "GATA1 Input_rep5\n",
      "KS91_K562_hg38_ASTARRseq_Input_rep5.masked.dups_marked.sorted.GATA1.fragment_counts.unstranded.bed\n",
      "KS91_K562_hg38_ASTARRseq_Input_rep5.GATA1.unstranded.bed\n",
      "\n",
      "MYC Input_rep5\n",
      "KS91_K562_hg38_ASTARRseq_Input_rep5.masked.dups_marked.sorted.MYC.fragment_counts.unstranded.bed\n",
      "KS91_K562_hg38_ASTARRseq_Input_rep5.MYC.unstranded.bed\n",
      "\n",
      "FADS Input_rep5\n",
      "KS91_K562_hg38_ASTARRseq_Input_rep5.masked.dups_marked.sorted.FADS.fragment_counts.unstranded.bed\n",
      "KS91_K562_hg38_ASTARRseq_Input_rep5.FADS.unstranded.bed\n",
      "\n",
      "GATA1 Input_rep6\n",
      "KS91_K562_hg38_ASTARRseq_Input_rep6.masked.dups_marked.sorted.GATA1.fragment_counts.unstranded.bed\n",
      "KS91_K562_hg38_ASTARRseq_Input_rep6.GATA1.unstranded.bed\n",
      "\n",
      "MYC Input_rep6\n",
      "KS91_K562_hg38_ASTARRseq_Input_rep6.masked.dups_marked.sorted.MYC.fragment_counts.unstranded.bed\n",
      "KS91_K562_hg38_ASTARRseq_Input_rep6.MYC.unstranded.bed\n",
      "\n",
      "FADS Input_rep6\n",
      "KS91_K562_hg38_ASTARRseq_Input_rep6.masked.dups_marked.sorted.FADS.fragment_counts.unstranded.bed\n",
      "KS91_K562_hg38_ASTARRseq_Input_rep6.FADS.unstranded.bed\n",
      "\n"
     ]
    }
   ],
   "source": [
    "FD_INP=\"${FD_RES}/source/starrseq_220510\"\n",
    "FD_OUT=\"${FD_RES}/KS91_K562_ASTARRseq/count\"\n",
    "PREFIX=\"KS91_K562_hg38_ASTARRseq\"\n",
    "\n",
    "REGIONS=(\"GATA1\" \"MYC\" \"FADS\")\n",
    "STRAND=\"unstranded\"\n",
    "GROUP=\"Input\"\n",
    "\n",
    "for IDX in {1..6}; do\n",
    "    for REGION in ${REGIONS[@]}; do\n",
    "        ### copy and rename\n",
    "        SAMPLE=${GROUP}_rep${IDX}\n",
    "        FP_INP=$(ls ${FD_INP}/${PREFIX}_${SAMPLE}.*.${REGION}.*.${STRAND}.bed)\n",
    "        FP_OUT=${FD_OUT}/${PREFIX}_${SAMPLE}.${REGION}.${STRAND}.bed\n",
    "        cat ${FP_INP} | awk -v OFS='\\t' {'print $1, $2, $3, $4, 1, $6'} > ${FP_OUT}\n",
    "        \n",
    "        ### Show progress\n",
    "        FN_INP=$(basename ${FP_INP})\n",
    "        FN_OUT=$(basename ${FP_OUT})\n",
    "        echo ${REGION} ${SAMPLE}\n",
    "        echo ${FN_INP}\n",
    "        echo ${FN_OUT}\n",
    "        echo\n",
    "    done\n",
    "done"
   ]
  },
  {
   "cell_type": "code",
   "execution_count": 8,
   "id": "1b0046ee-6757-477c-b95c-af581b2df837",
   "metadata": {},
   "outputs": [
    {
     "name": "stdout",
     "output_type": "stream",
     "text": [
      "GATA1 Output_rep1\n",
      "KS91_K562_hg38_ASTARRseq_Output_rep1.f3q10.sorted.with_umis.dups_marked.GATA1.fragment_counts.unstranded.bed\n",
      "KS91_K562_hg38_ASTARRseq_Output_rep1.GATA1.unstranded.bed\n",
      "\n",
      "MYC Output_rep1\n",
      "KS91_K562_hg38_ASTARRseq_Output_rep1.f3q10.sorted.with_umis.dups_marked.MYC.fragment_counts.unstranded.bed\n",
      "KS91_K562_hg38_ASTARRseq_Output_rep1.MYC.unstranded.bed\n",
      "\n",
      "FADS Output_rep1\n",
      "KS91_K562_hg38_ASTARRseq_Output_rep1.f3q10.sorted.with_umis.dups_marked.FADS.fragment_counts.unstranded.bed\n",
      "KS91_K562_hg38_ASTARRseq_Output_rep1.FADS.unstranded.bed\n",
      "\n",
      "GATA1 Output_rep2\n",
      "KS91_K562_hg38_ASTARRseq_Output_rep2.f3q10.sorted.with_umis.dups_marked.GATA1.fragment_counts.unstranded.bed\n",
      "KS91_K562_hg38_ASTARRseq_Output_rep2.GATA1.unstranded.bed\n",
      "\n",
      "MYC Output_rep2\n",
      "KS91_K562_hg38_ASTARRseq_Output_rep2.f3q10.sorted.with_umis.dups_marked.MYC.fragment_counts.unstranded.bed\n",
      "KS91_K562_hg38_ASTARRseq_Output_rep2.MYC.unstranded.bed\n",
      "\n",
      "FADS Output_rep2\n",
      "KS91_K562_hg38_ASTARRseq_Output_rep2.f3q10.sorted.with_umis.dups_marked.FADS.fragment_counts.unstranded.bed\n",
      "KS91_K562_hg38_ASTARRseq_Output_rep2.FADS.unstranded.bed\n",
      "\n",
      "GATA1 Output_rep3\n",
      "KS91_K562_hg38_ASTARRseq_Output_rep3.f3q10.sorted.with_umis.dups_marked.GATA1.fragment_counts.unstranded.bed\n",
      "KS91_K562_hg38_ASTARRseq_Output_rep3.GATA1.unstranded.bed\n",
      "\n",
      "MYC Output_rep3\n",
      "KS91_K562_hg38_ASTARRseq_Output_rep3.f3q10.sorted.with_umis.dups_marked.MYC.fragment_counts.unstranded.bed\n",
      "KS91_K562_hg38_ASTARRseq_Output_rep3.MYC.unstranded.bed\n",
      "\n",
      "FADS Output_rep3\n",
      "KS91_K562_hg38_ASTARRseq_Output_rep3.f3q10.sorted.with_umis.dups_marked.FADS.fragment_counts.unstranded.bed\n",
      "KS91_K562_hg38_ASTARRseq_Output_rep3.FADS.unstranded.bed\n",
      "\n",
      "GATA1 Output_rep4\n",
      "KS91_K562_hg38_ASTARRseq_Output_rep4.f3q10.sorted.with_umis.dups_marked.GATA1.fragment_counts.unstranded.bed\n",
      "KS91_K562_hg38_ASTARRseq_Output_rep4.GATA1.unstranded.bed\n",
      "\n",
      "MYC Output_rep4\n",
      "KS91_K562_hg38_ASTARRseq_Output_rep4.f3q10.sorted.with_umis.dups_marked.MYC.fragment_counts.unstranded.bed\n",
      "KS91_K562_hg38_ASTARRseq_Output_rep4.MYC.unstranded.bed\n",
      "\n",
      "FADS Output_rep4\n",
      "KS91_K562_hg38_ASTARRseq_Output_rep4.f3q10.sorted.with_umis.dups_marked.FADS.fragment_counts.unstranded.bed\n",
      "KS91_K562_hg38_ASTARRseq_Output_rep4.FADS.unstranded.bed\n",
      "\n"
     ]
    }
   ],
   "source": [
    "FD_INP=\"${FD_RES}/source/starrseq_220510\"\n",
    "FD_OUT=\"${FD_RES}/KS91_K562_ASTARRseq/count\"\n",
    "PREFIX=\"KS91_K562_hg38_ASTARRseq\"\n",
    "\n",
    "REGIONS=(\"GATA1\" \"MYC\" \"FADS\")\n",
    "STRAND=\"unstranded\"\n",
    "GROUP=\"Output\"\n",
    "\n",
    "for IDX in {1..4}; do\n",
    "    for REGION in ${REGIONS[@]}; do\n",
    "        ### copy and rename\n",
    "        SAMPLE=${GROUP}_rep${IDX}\n",
    "        FP_INP=$(ls ${FD_INP}/${PREFIX}_${SAMPLE}.*.${REGION}.*.${STRAND}.bed)\n",
    "        FP_OUT=${FD_OUT}/${PREFIX}_${SAMPLE}.${REGION}.${STRAND}.bed\n",
    "        cp ${FP_INP} ${FP_OUT}\n",
    "        \n",
    "        ### Show progress\n",
    "        FN_INP=$(basename ${FP_INP})\n",
    "        FN_OUT=$(basename ${FP_OUT})\n",
    "        echo ${REGION} ${SAMPLE}\n",
    "        echo ${FN_INP}\n",
    "        echo ${FN_OUT}\n",
    "        echo\n",
    "    done\n",
    "done"
   ]
  },
  {
   "cell_type": "markdown",
   "id": "b2460348-9cf0-44cc-a3c6-719b707288b2",
   "metadata": {},
   "source": [
    "## Stranded"
   ]
  },
  {
   "cell_type": "markdown",
   "id": "a82de267-fb11-42ca-a071-2bae7af8b752",
   "metadata": {},
   "source": [
    "**INPUT**"
   ]
  },
  {
   "cell_type": "code",
   "execution_count": 9,
   "id": "3c933836-cdb6-477d-a0e0-fc8fa04876e7",
   "metadata": {},
   "outputs": [
    {
     "name": "stdout",
     "output_type": "stream",
     "text": [
      "GATA1 Input_rep1\n",
      "KS91_K562_hg38_ASTARRseq_Input_rep1.masked.dups_marked.sorted.GATA1.fragment_counts.stranded.bed\n",
      "KS91_K562_hg38_ASTARRseq_Input_rep1.GATA1.stranded_pos.bed\n",
      "KS91_K562_hg38_ASTARRseq_Input_rep1.GATA1.stranded_neg.bed\n",
      "\n",
      "MYC Input_rep1\n",
      "KS91_K562_hg38_ASTARRseq_Input_rep1.masked.dups_marked.sorted.MYC.fragment_counts.stranded.bed\n",
      "KS91_K562_hg38_ASTARRseq_Input_rep1.MYC.stranded_pos.bed\n",
      "KS91_K562_hg38_ASTARRseq_Input_rep1.MYC.stranded_neg.bed\n",
      "\n",
      "FADS Input_rep1\n",
      "KS91_K562_hg38_ASTARRseq_Input_rep1.masked.dups_marked.sorted.FADS.fragment_counts.stranded.bed\n",
      "KS91_K562_hg38_ASTARRseq_Input_rep1.FADS.stranded_pos.bed\n",
      "KS91_K562_hg38_ASTARRseq_Input_rep1.FADS.stranded_neg.bed\n",
      "\n",
      "GATA1 Input_rep2\n",
      "KS91_K562_hg38_ASTARRseq_Input_rep2.masked.dups_marked.sorted.GATA1.fragment_counts.stranded.bed\n",
      "KS91_K562_hg38_ASTARRseq_Input_rep2.GATA1.stranded_pos.bed\n",
      "KS91_K562_hg38_ASTARRseq_Input_rep2.GATA1.stranded_neg.bed\n",
      "\n",
      "MYC Input_rep2\n",
      "KS91_K562_hg38_ASTARRseq_Input_rep2.masked.dups_marked.sorted.MYC.fragment_counts.stranded.bed\n",
      "KS91_K562_hg38_ASTARRseq_Input_rep2.MYC.stranded_pos.bed\n",
      "KS91_K562_hg38_ASTARRseq_Input_rep2.MYC.stranded_neg.bed\n",
      "\n",
      "FADS Input_rep2\n",
      "KS91_K562_hg38_ASTARRseq_Input_rep2.masked.dups_marked.sorted.FADS.fragment_counts.stranded.bed\n",
      "KS91_K562_hg38_ASTARRseq_Input_rep2.FADS.stranded_pos.bed\n",
      "KS91_K562_hg38_ASTARRseq_Input_rep2.FADS.stranded_neg.bed\n",
      "\n",
      "GATA1 Input_rep3\n",
      "KS91_K562_hg38_ASTARRseq_Input_rep3.masked.dups_marked.sorted.GATA1.fragment_counts.stranded.bed\n",
      "KS91_K562_hg38_ASTARRseq_Input_rep3.GATA1.stranded_pos.bed\n",
      "KS91_K562_hg38_ASTARRseq_Input_rep3.GATA1.stranded_neg.bed\n",
      "\n",
      "MYC Input_rep3\n",
      "KS91_K562_hg38_ASTARRseq_Input_rep3.masked.dups_marked.sorted.MYC.fragment_counts.stranded.bed\n",
      "KS91_K562_hg38_ASTARRseq_Input_rep3.MYC.stranded_pos.bed\n",
      "KS91_K562_hg38_ASTARRseq_Input_rep3.MYC.stranded_neg.bed\n",
      "\n",
      "FADS Input_rep3\n",
      "KS91_K562_hg38_ASTARRseq_Input_rep3.masked.dups_marked.sorted.FADS.fragment_counts.stranded.bed\n",
      "KS91_K562_hg38_ASTARRseq_Input_rep3.FADS.stranded_pos.bed\n",
      "KS91_K562_hg38_ASTARRseq_Input_rep3.FADS.stranded_neg.bed\n",
      "\n",
      "GATA1 Input_rep4\n",
      "KS91_K562_hg38_ASTARRseq_Input_rep4.masked.dups_marked.sorted.GATA1.fragment_counts.stranded.bed\n",
      "KS91_K562_hg38_ASTARRseq_Input_rep4.GATA1.stranded_pos.bed\n",
      "KS91_K562_hg38_ASTARRseq_Input_rep4.GATA1.stranded_neg.bed\n",
      "\n",
      "MYC Input_rep4\n",
      "KS91_K562_hg38_ASTARRseq_Input_rep4.masked.dups_marked.sorted.MYC.fragment_counts.stranded.bed\n",
      "KS91_K562_hg38_ASTARRseq_Input_rep4.MYC.stranded_pos.bed\n",
      "KS91_K562_hg38_ASTARRseq_Input_rep4.MYC.stranded_neg.bed\n",
      "\n",
      "FADS Input_rep4\n",
      "KS91_K562_hg38_ASTARRseq_Input_rep4.masked.dups_marked.sorted.FADS.fragment_counts.stranded.bed\n",
      "KS91_K562_hg38_ASTARRseq_Input_rep4.FADS.stranded_pos.bed\n",
      "KS91_K562_hg38_ASTARRseq_Input_rep4.FADS.stranded_neg.bed\n",
      "\n",
      "GATA1 Input_rep5\n",
      "KS91_K562_hg38_ASTARRseq_Input_rep5.masked.dups_marked.sorted.GATA1.fragment_counts.stranded.bed\n",
      "KS91_K562_hg38_ASTARRseq_Input_rep5.GATA1.stranded_pos.bed\n",
      "KS91_K562_hg38_ASTARRseq_Input_rep5.GATA1.stranded_neg.bed\n",
      "\n",
      "MYC Input_rep5\n",
      "KS91_K562_hg38_ASTARRseq_Input_rep5.masked.dups_marked.sorted.MYC.fragment_counts.stranded.bed\n",
      "KS91_K562_hg38_ASTARRseq_Input_rep5.MYC.stranded_pos.bed\n",
      "KS91_K562_hg38_ASTARRseq_Input_rep5.MYC.stranded_neg.bed\n",
      "\n",
      "FADS Input_rep5\n",
      "KS91_K562_hg38_ASTARRseq_Input_rep5.masked.dups_marked.sorted.FADS.fragment_counts.stranded.bed\n",
      "KS91_K562_hg38_ASTARRseq_Input_rep5.FADS.stranded_pos.bed\n",
      "KS91_K562_hg38_ASTARRseq_Input_rep5.FADS.stranded_neg.bed\n",
      "\n",
      "GATA1 Input_rep6\n",
      "KS91_K562_hg38_ASTARRseq_Input_rep6.masked.dups_marked.sorted.GATA1.fragment_counts.stranded.bed\n",
      "KS91_K562_hg38_ASTARRseq_Input_rep6.GATA1.stranded_pos.bed\n",
      "KS91_K562_hg38_ASTARRseq_Input_rep6.GATA1.stranded_neg.bed\n",
      "\n",
      "MYC Input_rep6\n",
      "KS91_K562_hg38_ASTARRseq_Input_rep6.masked.dups_marked.sorted.MYC.fragment_counts.stranded.bed\n",
      "KS91_K562_hg38_ASTARRseq_Input_rep6.MYC.stranded_pos.bed\n",
      "KS91_K562_hg38_ASTARRseq_Input_rep6.MYC.stranded_neg.bed\n",
      "\n",
      "FADS Input_rep6\n",
      "KS91_K562_hg38_ASTARRseq_Input_rep6.masked.dups_marked.sorted.FADS.fragment_counts.stranded.bed\n",
      "KS91_K562_hg38_ASTARRseq_Input_rep6.FADS.stranded_pos.bed\n",
      "KS91_K562_hg38_ASTARRseq_Input_rep6.FADS.stranded_neg.bed\n",
      "\n"
     ]
    }
   ],
   "source": [
    "FD_INP=\"${FD_RES}/source/starrseq_220510\"\n",
    "FD_OUT=\"${FD_RES}/KS91_K562_ASTARRseq/count\"\n",
    "PREFIX=\"KS91_K562_hg38_ASTARRseq\"\n",
    "\n",
    "REGIONS=(\"GATA1\" \"MYC\" \"FADS\")\n",
    "STRAND=\"stranded\"\n",
    "GROUP=\"Input\"\n",
    "\n",
    "for IDX in {1..6}; do\n",
    "    for REGION in ${REGIONS[@]}; do\n",
    "        ### set input file\n",
    "        SAMPLE=${GROUP}_rep${IDX}\n",
    "        FP_INP=$(ls ${FD_INP}/${PREFIX}_${SAMPLE}.*.${REGION}.*.${STRAND}.bed)\n",
    "        FN_INP=$(basename ${FP_INP})\n",
    "        echo ${REGION} ${SAMPLE}\n",
    "        echo ${FN_INP}\n",
    "        \n",
    "        ### positive/forward strand\n",
    "        FP_OUT=${FD_OUT}/${PREFIX}_${SAMPLE}.${REGION}.${STRAND}_pos.bed\n",
    "        FN_OUT=$(basename ${FP_OUT})\n",
    "        cat ${FP_INP} |\\\n",
    "            awk '{ if ($6 == \"+\") { print } }' |\\\n",
    "            awk -v OFS='\\t' {'print $1, $2, $3, $4, 1, $6'} > ${FP_OUT}\n",
    "        echo ${FN_OUT}\n",
    "        \n",
    "        ### negative/reverse strand\n",
    "        FP_OUT=${FD_OUT}/${PREFIX}_${SAMPLE}.${REGION}.${STRAND}_neg.bed\n",
    "        FN_OUT=$(basename ${FP_OUT})\n",
    "        cat ${FP_INP} |\\\n",
    "            awk '{ if ($6 == \"-\") { print } }' |\\\n",
    "            awk -v OFS='\\t' {'print $1, $2, $3, $4, 1, $6'} > ${FP_OUT}\n",
    "        echo ${FN_OUT}\n",
    "        echo\n",
    "    done\n",
    "done"
   ]
  },
  {
   "cell_type": "markdown",
   "id": "fbacfc66-333d-4194-9235-eeac4285dfd7",
   "metadata": {},
   "source": [
    "**Output**"
   ]
  },
  {
   "cell_type": "code",
   "execution_count": 10,
   "id": "8e50be33-a068-4ad9-95b8-3fdaf8cea352",
   "metadata": {},
   "outputs": [
    {
     "name": "stdout",
     "output_type": "stream",
     "text": [
      "GATA1 Output_rep1\n",
      "KS91_K562_hg38_ASTARRseq_Output_rep1.f3q10.sorted.with_umis.dups_marked.GATA1.fragment_counts.stranded.bed\n",
      "KS91_K562_hg38_ASTARRseq_Output_rep1.GATA1.stranded_pos.bed\n",
      "KS91_K562_hg38_ASTARRseq_Output_rep1.GATA1.stranded_neg.bed\n",
      "\n",
      "MYC Output_rep1\n",
      "KS91_K562_hg38_ASTARRseq_Output_rep1.f3q10.sorted.with_umis.dups_marked.MYC.fragment_counts.stranded.bed\n",
      "KS91_K562_hg38_ASTARRseq_Output_rep1.MYC.stranded_pos.bed\n",
      "KS91_K562_hg38_ASTARRseq_Output_rep1.MYC.stranded_neg.bed\n",
      "\n",
      "FADS Output_rep1\n",
      "KS91_K562_hg38_ASTARRseq_Output_rep1.f3q10.sorted.with_umis.dups_marked.FADS.fragment_counts.stranded.bed\n",
      "KS91_K562_hg38_ASTARRseq_Output_rep1.FADS.stranded_pos.bed\n",
      "KS91_K562_hg38_ASTARRseq_Output_rep1.FADS.stranded_neg.bed\n",
      "\n",
      "GATA1 Output_rep2\n",
      "KS91_K562_hg38_ASTARRseq_Output_rep2.f3q10.sorted.with_umis.dups_marked.GATA1.fragment_counts.stranded.bed\n",
      "KS91_K562_hg38_ASTARRseq_Output_rep2.GATA1.stranded_pos.bed\n",
      "KS91_K562_hg38_ASTARRseq_Output_rep2.GATA1.stranded_neg.bed\n",
      "\n",
      "MYC Output_rep2\n",
      "KS91_K562_hg38_ASTARRseq_Output_rep2.f3q10.sorted.with_umis.dups_marked.MYC.fragment_counts.stranded.bed\n",
      "KS91_K562_hg38_ASTARRseq_Output_rep2.MYC.stranded_pos.bed\n",
      "KS91_K562_hg38_ASTARRseq_Output_rep2.MYC.stranded_neg.bed\n",
      "\n",
      "FADS Output_rep2\n",
      "KS91_K562_hg38_ASTARRseq_Output_rep2.f3q10.sorted.with_umis.dups_marked.FADS.fragment_counts.stranded.bed\n",
      "KS91_K562_hg38_ASTARRseq_Output_rep2.FADS.stranded_pos.bed\n",
      "KS91_K562_hg38_ASTARRseq_Output_rep2.FADS.stranded_neg.bed\n",
      "\n",
      "GATA1 Output_rep3\n",
      "KS91_K562_hg38_ASTARRseq_Output_rep3.f3q10.sorted.with_umis.dups_marked.GATA1.fragment_counts.stranded.bed\n",
      "KS91_K562_hg38_ASTARRseq_Output_rep3.GATA1.stranded_pos.bed\n",
      "KS91_K562_hg38_ASTARRseq_Output_rep3.GATA1.stranded_neg.bed\n",
      "\n",
      "MYC Output_rep3\n",
      "KS91_K562_hg38_ASTARRseq_Output_rep3.f3q10.sorted.with_umis.dups_marked.MYC.fragment_counts.stranded.bed\n",
      "KS91_K562_hg38_ASTARRseq_Output_rep3.MYC.stranded_pos.bed\n",
      "KS91_K562_hg38_ASTARRseq_Output_rep3.MYC.stranded_neg.bed\n",
      "\n",
      "FADS Output_rep3\n",
      "KS91_K562_hg38_ASTARRseq_Output_rep3.f3q10.sorted.with_umis.dups_marked.FADS.fragment_counts.stranded.bed\n",
      "KS91_K562_hg38_ASTARRseq_Output_rep3.FADS.stranded_pos.bed\n",
      "KS91_K562_hg38_ASTARRseq_Output_rep3.FADS.stranded_neg.bed\n",
      "\n",
      "GATA1 Output_rep4\n",
      "KS91_K562_hg38_ASTARRseq_Output_rep4.f3q10.sorted.with_umis.dups_marked.GATA1.fragment_counts.stranded.bed\n",
      "KS91_K562_hg38_ASTARRseq_Output_rep4.GATA1.stranded_pos.bed\n",
      "KS91_K562_hg38_ASTARRseq_Output_rep4.GATA1.stranded_neg.bed\n",
      "\n",
      "MYC Output_rep4\n",
      "KS91_K562_hg38_ASTARRseq_Output_rep4.f3q10.sorted.with_umis.dups_marked.MYC.fragment_counts.stranded.bed\n",
      "KS91_K562_hg38_ASTARRseq_Output_rep4.MYC.stranded_pos.bed\n",
      "KS91_K562_hg38_ASTARRseq_Output_rep4.MYC.stranded_neg.bed\n",
      "\n",
      "FADS Output_rep4\n",
      "KS91_K562_hg38_ASTARRseq_Output_rep4.f3q10.sorted.with_umis.dups_marked.FADS.fragment_counts.stranded.bed\n",
      "KS91_K562_hg38_ASTARRseq_Output_rep4.FADS.stranded_pos.bed\n",
      "KS91_K562_hg38_ASTARRseq_Output_rep4.FADS.stranded_neg.bed\n",
      "\n"
     ]
    }
   ],
   "source": [
    "FD_INP=\"${FD_RES}/source/starrseq_220510\"\n",
    "FD_OUT=\"${FD_RES}/KS91_K562_ASTARRseq/count\"\n",
    "PREFIX=\"KS91_K562_hg38_ASTARRseq\"\n",
    "\n",
    "REGIONS=(\"GATA1\" \"MYC\" \"FADS\")\n",
    "STRAND=\"stranded\"\n",
    "GROUP=\"Output\"\n",
    "\n",
    "for IDX in {1..4}; do\n",
    "    for REGION in ${REGIONS[@]}; do\n",
    "        ### set input file\n",
    "        SAMPLE=${GROUP}_rep${IDX}\n",
    "        FP_INP=$(ls ${FD_INP}/${PREFIX}_${SAMPLE}.*.${REGION}.*.${STRAND}.bed)\n",
    "        FN_INP=$(basename ${FP_INP})\n",
    "        echo ${REGION} ${SAMPLE}\n",
    "        echo ${FN_INP}\n",
    "        \n",
    "        ### positive/forward strand\n",
    "        FP_OUT=${FD_OUT}/${PREFIX}_${SAMPLE}.${REGION}.${STRAND}_pos.bed\n",
    "        FN_OUT=$(basename ${FP_OUT})\n",
    "        cat ${FP_INP} | awk '{ if ($6 == \"+\") { print } }' > ${FP_OUT}\n",
    "        echo ${FN_OUT}\n",
    "        \n",
    "        ### negative/reverse strand\n",
    "        FP_OUT=${FD_OUT}/${PREFIX}_${SAMPLE}.${REGION}.${STRAND}_neg.bed\n",
    "        FN_OUT=$(basename ${FP_OUT})\n",
    "        cat ${FP_INP} | awk '{ if ($6 == \"-\") { print } }' > ${FP_OUT}\n",
    "        echo ${FN_OUT}\n",
    "        echo\n",
    "    done\n",
    "done"
   ]
  },
  {
   "cell_type": "markdown",
   "id": "84976a3a-54d4-43af-92a8-b16b30e9ed2e",
   "metadata": {},
   "source": [
    "## Check"
   ]
  },
  {
   "cell_type": "code",
   "execution_count": 11,
   "id": "8e276125-b1b7-470b-90b2-3527e4f0c842",
   "metadata": {},
   "outputs": [
    {
     "name": "stdout",
     "output_type": "stream",
     "text": [
      "/gpfs/fs1/data/reddylab/Kuei/out/proj_combeffect_encode_fcc/KS91_K562_ASTARRseq/count\n"
     ]
    }
   ],
   "source": [
    "echo $FD_OUT"
   ]
  },
  {
   "cell_type": "code",
   "execution_count": 14,
   "id": "b7126c86-e9cf-4ab8-9203-c382f8cf9841",
   "metadata": {},
   "outputs": [
    {
     "name": "stdout",
     "output_type": "stream",
     "text": [
      "==> /gpfs/fs1/data/reddylab/Kuei/out/proj_combeffect_encode_fcc/KS91_K562_ASTARRseq/count/KS91_K562_hg38_ASTARRseq_Input_rep3.MYC.stranded_neg.bed <==\n",
      "chr8\t126736025\t126736220\tchr8_126736025_126736220_-\t1\t-\n",
      "chr8\t126736091\t126736273\tchr8_126736091_126736273_-\t1\t-\n",
      "chr8\t126736120\t126736273\tchr8_126736120_126736273_-\t1\t-\n",
      "chr8\t126736126\t126736514\tchr8_126736126_126736514_-\t1\t-\n",
      "chr8\t126736128\t126736237\tchr8_126736128_126736237_-\t1\t-\n",
      "chr8\t126736128\t126736328\tchr8_126736128_126736328_-\t1\t-\n",
      "chr8\t126736160\t126736321\tchr8_126736160_126736321_-\t1\t-\n",
      "chr8\t126736212\t126736409\tchr8_126736212_126736409_-\t1\t-\n",
      "chr8\t126736234\t126736678\tchr8_126736234_126736678_-\t1\t-\n",
      "chr8\t126736304\t126736537\tchr8_126736304_126736537_-\t1\t-\n",
      "\n",
      "==> /gpfs/fs1/data/reddylab/Kuei/out/proj_combeffect_encode_fcc/KS91_K562_ASTARRseq/count/KS91_K562_hg38_ASTARRseq_Input_rep3.MYC.stranded_pos.bed <==\n",
      "chr8\t126735973\t126736170\tchr8_126735973_126736170_+\t1\t+\n",
      "chr8\t126735990\t126736404\tchr8_126735990_126736404_+\t1\t+\n",
      "chr8\t126735992\t126736170\tchr8_126735992_126736170_+\t1\t+\n",
      "chr8\t126736004\t126736113\tchr8_126736004_126736113_+\t1\t+\n",
      "chr8\t126736015\t126736203\tchr8_126736015_126736203_+\t1\t+\n",
      "chr8\t126736020\t126736243\tchr8_126736020_126736243_+\t1\t+\n",
      "chr8\t126736025\t126736202\tchr8_126736025_126736202_+\t1\t+\n",
      "chr8\t126736025\t126736241\tchr8_126736025_126736241_+\t1\t+\n",
      "chr8\t126736025\t126736273\tchr8_126736025_126736273_+\t1\t+\n",
      "chr8\t126736025\t126736399\tchr8_126736025_126736399_+\t1\t+\n",
      "\n",
      "==> /gpfs/fs1/data/reddylab/Kuei/out/proj_combeffect_encode_fcc/KS91_K562_ASTARRseq/count/KS91_K562_hg38_ASTARRseq_Input_rep3.MYC.unstranded.bed <==\n",
      "chr8\t126735973\t126736170\tchr8_126735973_126736170\t1\t.\n",
      "chr8\t126735990\t126736404\tchr8_126735990_126736404\t1\t.\n",
      "chr8\t126735992\t126736170\tchr8_126735992_126736170\t1\t.\n",
      "chr8\t126736004\t126736113\tchr8_126736004_126736113\t1\t.\n",
      "chr8\t126736015\t126736203\tchr8_126736015_126736203\t1\t.\n",
      "chr8\t126736020\t126736243\tchr8_126736020_126736243\t1\t.\n",
      "chr8\t126736025\t126736202\tchr8_126736025_126736202\t1\t.\n",
      "chr8\t126736025\t126736220\tchr8_126736025_126736220\t1\t.\n",
      "chr8\t126736025\t126736241\tchr8_126736025_126736241\t1\t.\n",
      "chr8\t126736025\t126736273\tchr8_126736025_126736273\t1\t.\n"
     ]
    }
   ],
   "source": [
    "head $FD_OUT/KS91_K562_hg38_ASTARRseq_Input_rep3.MYC.*.bed"
   ]
  },
  {
   "cell_type": "code",
   "execution_count": 15,
   "id": "469564a6-561b-44f5-80b8-b4709fccf5e6",
   "metadata": {},
   "outputs": [
    {
     "name": "stdout",
     "output_type": "stream",
     "text": [
      "==> /gpfs/fs1/data/reddylab/Kuei/out/proj_combeffect_encode_fcc/KS91_K562_ASTARRseq/count/KS91_K562_hg38_ASTARRseq_Output_rep3.MYC.stranded_neg.bed <==\n",
      "chr8\t126735987\t126736392\tchr8_126735987_126736392_-\t1\t-\n",
      "chr8\t126736025\t126736187\tchr8_126736025_126736187_-\t1\t-\n",
      "chr8\t126736025\t126736188\tchr8_126736025_126736188_-\t13\t-\n",
      "chr8\t126736027\t126736188\tchr8_126736027_126736188_-\t1\t-\n",
      "chr8\t126736120\t126736273\tchr8_126736120_126736273_-\t9\t-\n",
      "chr8\t126736128\t126736237\tchr8_126736128_126736237_-\t3\t-\n",
      "chr8\t126736820\t126737161\tchr8_126736820_126737161_-\t1\t-\n",
      "chr8\t126737688\t126737980\tchr8_126737688_126737980_-\t1\t-\n",
      "chr8\t126738406\t126738594\tchr8_126738406_126738594_-\t10\t-\n",
      "chr8\t126738407\t126738594\tchr8_126738407_126738594_-\t1\t-\n",
      "\n",
      "==> /gpfs/fs1/data/reddylab/Kuei/out/proj_combeffect_encode_fcc/KS91_K562_ASTARRseq/count/KS91_K562_hg38_ASTARRseq_Output_rep3.MYC.stranded_pos.bed <==\n",
      "chr8\t126736089\t126736259\tchr8_126736089_126736259_+\t8\t+\n",
      "chr8\t126736120\t126736273\tchr8_126736120_126736273_+\t1\t+\n",
      "chr8\t126736120\t126736694\tchr8_126736120_126736694_+\t6\t+\n",
      "chr8\t126736250\t126736533\tchr8_126736250_126736533_+\t4\t+\n",
      "chr8\t126736251\t126736533\tchr8_126736251_126736533_+\t1\t+\n",
      "chr8\t126737013\t126737242\tchr8_126737013_126737242_+\t1\t+\n",
      "chr8\t126737584\t126737735\tchr8_126737584_126737735_+\t1\t+\n",
      "chr8\t126737683\t126737924\tchr8_126737683_126737924_+\t17\t+\n",
      "chr8\t126737749\t126737929\tchr8_126737749_126737929_+\t1\t+\n",
      "chr8\t126737948\t126738211\tchr8_126737948_126738211_+\t5\t+\n",
      "\n",
      "==> /gpfs/fs1/data/reddylab/Kuei/out/proj_combeffect_encode_fcc/KS91_K562_ASTARRseq/count/KS91_K562_hg38_ASTARRseq_Output_rep3.MYC.unstranded.bed <==\n",
      "chr8\t126735987\t126736392\tchr8_126735987_126736392\t1\t.\n",
      "chr8\t126736025\t126736187\tchr8_126736025_126736187\t1\t.\n",
      "chr8\t126736025\t126736188\tchr8_126736025_126736188\t13\t.\n",
      "chr8\t126736027\t126736188\tchr8_126736027_126736188\t1\t.\n",
      "chr8\t126736089\t126736259\tchr8_126736089_126736259\t8\t.\n",
      "chr8\t126736120\t126736273\tchr8_126736120_126736273\t10\t.\n",
      "chr8\t126736120\t126736694\tchr8_126736120_126736694\t6\t.\n",
      "chr8\t126736128\t126736237\tchr8_126736128_126736237\t3\t.\n",
      "chr8\t126736250\t126736533\tchr8_126736250_126736533\t4\t.\n",
      "chr8\t126736251\t126736533\tchr8_126736251_126736533\t1\t.\n"
     ]
    }
   ],
   "source": [
    "head $FD_OUT/KS91_K562_hg38_ASTARRseq_Output_rep3.MYC.*.bed"
   ]
  },
  {
   "cell_type": "code",
   "execution_count": null,
   "id": "5dec0848-c287-43f0-91bc-8332ea88bcc5",
   "metadata": {},
   "outputs": [],
   "source": []
  }
 ],
 "metadata": {
  "kernelspec": {
   "display_name": "Bash",
   "language": "bash",
   "name": "bash"
  },
  "language_info": {
   "codemirror_mode": "shell",
   "file_extension": ".sh",
   "mimetype": "text/x-sh",
   "name": "bash"
  }
 },
 "nbformat": 4,
 "nbformat_minor": 5
}
