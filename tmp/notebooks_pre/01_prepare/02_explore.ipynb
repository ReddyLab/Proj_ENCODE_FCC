{
 "cells": [
  {
   "cell_type": "markdown",
   "id": "39b4506c",
   "metadata": {},
   "source": [
    "**Set environment**"
   ]
  },
  {
   "cell_type": "code",
   "execution_count": 1,
   "id": "5f2e9543",
   "metadata": {},
   "outputs": [
    {
     "name": "stdout",
     "output_type": "stream",
     "text": [
      "You are on Duke Server: HARDAC\n",
      "BASE DIRECTORY:     /gpfs/fs1/data/reddylab/Kuei\n",
      "PATH OF SOURCE:     /gpfs/fs1/data/reddylab/Kuei/source\n",
      "PATH OF EXECUTABLE: /gpfs/fs1/data/reddylab/Kuei/exe\n",
      "PATH OF ANNOTATION: /gpfs/fs1/data/reddylab/Kuei/annotation\n",
      "PATH OF PROJECT:    /gpfs/fs1/data/reddylab/Kuei/GitRepo/Proj_CombEffect_ENCODE_FCC/notebooks\n",
      "PATH OF RESULTS:    /gpfs/fs1/data/reddylab/Kuei/out/proj_combeffect_encode_fcc\n",
      "\n"
     ]
    }
   ],
   "source": [
    "source ../config_duke.sh; show_env"
   ]
  },
  {
   "cell_type": "code",
   "execution_count": 3,
   "id": "f069d2fc",
   "metadata": {},
   "outputs": [
    {
     "name": "stdout",
     "output_type": "stream",
     "text": [
      "/gpfs/fs1/data/reddylab/Kuei/out/proj_combeffect_encode_fcc\n"
     ]
    }
   ],
   "source": [
    "echo ${FD_RES}"
   ]
  },
  {
   "cell_type": "code",
   "execution_count": 6,
   "id": "34ed6a21",
   "metadata": {},
   "outputs": [
    {
     "name": "stdout",
     "output_type": "stream",
     "text": [
      "\u001b[0m\u001b[38;5;27mmpra\u001b[0m  \u001b[38;5;27mstarrseq\u001b[0m  \u001b[38;5;27msyn22348180\u001b[0m  \u001b[38;5;27msyn26435687\u001b[0m\n"
     ]
    }
   ],
   "source": [
    "ls ${FD_RES}/source"
   ]
  },
  {
   "cell_type": "code",
   "execution_count": 5,
   "id": "c6cbda80",
   "metadata": {},
   "outputs": [
    {
     "name": "stdout",
     "output_type": "stream",
     "text": [
      "ENCFF348WYK.Ahituv.lentiMPRA.MYC.bed\n",
      "ENCFF348WYK.bed\n",
      "ENCFF348WYK.GATA1.bed\n",
      "ENCFF348WYK.MYC.bed\n",
      "files_to_upload.tsv\n",
      "GATA-MYC_Tile_K562_K562_20210130.hg38.bed\n",
      "GATA-MYC_Tile_K562_K562_20210130.hg38.cleaned.bed\n",
      "GATA-MYC_Tile_K562_K562_20210130.hg38.cleaned.GATA1.bed\n",
      "GATA-MYC_Tile_K562_K562_20210130.hg38.cleaned.GATA1.in_astarr_de_frags.bed\n",
      "GATA-MYC_Tile_K562_K562_20210130.hg38.cleaned.MYC.bed\n"
     ]
    }
   ],
   "source": [
    "ls ${FD_RES}/source/mpra"
   ]
  },
  {
   "cell_type": "code",
   "execution_count": 7,
   "id": "a6e671d1-1261-42d5-b4d1-dffd8f26d0e1",
   "metadata": {},
   "outputs": [
    {
     "name": "stdout",
     "output_type": "stream",
     "text": [
      "ENCFF348WYK.Ahituv.lentiMPRA.MYC.bed\n",
      "ENCFF348WYK.bed\n",
      "ENCFF348WYK.GATA1.bed\n",
      "ENCFF348WYK.MYC.bed\n",
      "GATA-MYC_Tile_K562_K562_20210130.hg38.bed\n",
      "GATA-MYC_Tile_K562_K562_20210130.hg38.cleaned.bed\n",
      "GATA-MYC_Tile_K562_K562_20210130.hg38.cleaned.GATA1.bed\n",
      "GATA-MYC_Tile_K562_K562_20210130.hg38.cleaned.MYC.bed\n",
      "\u001b[0m\u001b[38;5;27mold\u001b[0m\n",
      "SYNAPSE_METADATA_MANIFEST.tsv\n"
     ]
    }
   ],
   "source": [
    "ls ${FD_RES}/source/syn26435687"
   ]
  },
  {
   "cell_type": "code",
   "execution_count": 8,
   "id": "4c8ebeb1-4e1a-4555-8057-ee5987b43142",
   "metadata": {},
   "outputs": [
    {
     "name": "stdout",
     "output_type": "stream",
     "text": [
      "path\tparent\tname\tid\tsynapseStore\tcontentType\tused\texecuted\tactivityName\tactivityDescription\n",
      "/gpfs/fs1/data/reddylab/Kuei/out/proj_combeffect_encode_fcc/source/ENCFF348WYK.Ahituv.lentiMPRA.MYC.bed\tsyn26435687\tENCFF348WYK.Ahituv.lentiMPRA.MYC.bed\tsyn26435689\tTrue\tapplication/vnd.realvnc.bed\t\t\t\t\n",
      "/gpfs/fs1/data/reddylab/Kuei/out/proj_combeffect_encode_fcc/source/ENCFF348WYK.MYC.bed\tsyn26435687\tENCFF348WYK.MYC.bed\tsyn26465468\tTrue\tapplication/octet-stream\t\t\t\t\n",
      "/gpfs/fs1/data/reddylab/Kuei/out/proj_combeffect_encode_fcc/source/ENCFF348WYK.GATA1.bed\tsyn26435687\tENCFF348WYK.GATA1.bed\tsyn26465469\tTrue\tapplication/octet-stream\t\t\t\t\n",
      "/gpfs/fs1/data/reddylab/Kuei/out/proj_combeffect_encode_fcc/source/GATA-MYC_Tile_K562_K562_20210130.hg38.cleaned.MYC.bed\tsyn26435687\tGATA-MYC_Tile_K562_K562_20210130.hg38.cleaned.MYC.bed\tsyn26465464\tTrue\tapplication/octet-stream\t\t\t\t\n",
      "/gpfs/fs1/data/reddylab/Kuei/out/proj_combeffect_encode_fcc/source/GATA-MYC_Tile_K562_K562_20210130.hg38.cleaned.GATA1.bed\tsyn26435687\tGATA-MYC_Tile_K562_K562_20210130.hg38.cleaned.GATA1.bed\tsyn26465465\tTrue\tapplication/octet-stream\t\t\t\t\n",
      "/gpfs/fs1/data/reddylab/Kuei/out/proj_combeffect_encode_fcc/source/ENCFF348WYK.bed\tsyn26435687\tENCFF348WYK.bed\tsyn26465470\tTrue\tapplication/octet-stream\t\t\t\t\n",
      "/gpfs/fs1/data/reddylab/Kuei/out/proj_combeffect_encode_fcc/source/GATA-MYC_Tile_K562_K562_20210130.hg38.bed\tsyn26435687\tGATA-MYC_Tile_K562_K562_20210130.hg38.bed\tsyn26465467\tTrue\tapplication/octet-stream\t\t\t\t\n",
      "/gpfs/fs1/data/reddylab/Kuei/out/proj_combeffect_encode_fcc/source/GATA-MYC_Tile_K562_K562_20210130.hg38.cleaned.bed\tsyn26435687\tGATA-MYC_Tile_K562_K562_20210130.hg38.cleaned.bed\tsyn26465466\tTrue\tapplication/octet-stream\t\t\t\t\n",
      "/gpfs/fs1/data/reddylab/Kuei/out/proj_combeffect_encode_fcc/source/old/GATA-MYC_Tile_K562_K562_20210130.hg38.cleaned.MYC.bed\tsyn26466182\tGATA-MYC_Tile_K562_K562_20210130.hg38.cleaned.MYC.bed\tsyn26435691\tTrue\tapplication/vnd.realvnc.bed\t\t\t\t\n"
     ]
    }
   ],
   "source": [
    "head ${FD_RES}/source/syn26435687/SYNAPSE_METADATA_MANIFEST.tsv"
   ]
  },
  {
   "cell_type": "markdown",
   "id": "608e1b9b-e06a-465b-b18b-cc4c677623a7",
   "metadata": {},
   "source": [
    "## ATAC-STARR-seq"
   ]
  },
  {
   "cell_type": "code",
   "execution_count": 2,
   "id": "d8f092b4",
   "metadata": {},
   "outputs": [
    {
     "name": "stdout",
     "output_type": "stream",
     "text": [
      "KS91_K562_hg38_ASTARRseq.GATA1.stranded.counts.txt\n",
      "KS91_K562_hg38_ASTARRseq.GATA1.unstranded.counts.txt\n",
      "KS91_K562_hg38_ASTARRseq_Input_rep1.masked.dups_marked.GATA1.fragment_counts.stranded.bed\n",
      "KS91_K562_hg38_ASTARRseq_Input_rep1.masked.dups_marked.GATA1.fragment_counts.unstranded.bed\n",
      "KS91_K562_hg38_ASTARRseq_Input_rep1.masked.dups_marked.MYC.fragment_counts.stranded.bed\n",
      "KS91_K562_hg38_ASTARRseq_Input_rep1.masked.dups_marked.MYC.fragment_counts.unstranded.bed\n",
      "KS91_K562_hg38_ASTARRseq_Input_rep2.masked.dups_marked.GATA1.fragment_counts.stranded.bed\n",
      "KS91_K562_hg38_ASTARRseq_Input_rep2.masked.dups_marked.GATA1.fragment_counts.unstranded.bed\n",
      "KS91_K562_hg38_ASTARRseq_Input_rep2.masked.dups_marked.MYC.fragment_counts.stranded.bed\n",
      "KS91_K562_hg38_ASTARRseq_Input_rep2.masked.dups_marked.MYC.fragment_counts.unstranded.bed\n",
      "KS91_K562_hg38_ASTARRseq_Input_rep3.masked.dups_marked.GATA1.fragment_counts.stranded.bed\n",
      "KS91_K562_hg38_ASTARRseq_Input_rep3.masked.dups_marked.GATA1.fragment_counts.unstranded.bed\n",
      "KS91_K562_hg38_ASTARRseq_Input_rep3.masked.dups_marked.MYC.fragment_counts.stranded.bed\n",
      "KS91_K562_hg38_ASTARRseq_Input_rep3.masked.dups_marked.MYC.fragment_counts.unstranded.bed\n",
      "KS91_K562_hg38_ASTARRseq_Input_rep4.masked.dups_marked.GATA1.fragment_counts.stranded.bed\n",
      "KS91_K562_hg38_ASTARRseq_Input_rep4.masked.dups_marked.GATA1.fragment_counts.unstranded.bed\n",
      "KS91_K562_hg38_ASTARRseq_Input_rep4.masked.dups_marked.MYC.fragment_counts.stranded.bed\n",
      "KS91_K562_hg38_ASTARRseq_Input_rep4.masked.dups_marked.MYC.fragment_counts.unstranded.bed\n",
      "KS91_K562_hg38_ASTARRseq_Input_rep5.masked.dups_marked.GATA1.fragment_counts.stranded.bed\n",
      "KS91_K562_hg38_ASTARRseq_Input_rep5.masked.dups_marked.GATA1.fragment_counts.unstranded.bed\n",
      "KS91_K562_hg38_ASTARRseq_Input_rep5.masked.dups_marked.MYC.fragment_counts.stranded.bed\n",
      "KS91_K562_hg38_ASTARRseq_Input_rep5.masked.dups_marked.MYC.fragment_counts.unstranded.bed\n",
      "KS91_K562_hg38_ASTARRseq_Input_rep6.masked.dups_marked.GATA1.fragment_counts.stranded.bed\n",
      "KS91_K562_hg38_ASTARRseq_Input_rep6.masked.dups_marked.GATA1.fragment_counts.unstranded.bed\n",
      "KS91_K562_hg38_ASTARRseq_Input_rep6.masked.dups_marked.MYC.fragment_counts.stranded.bed\n",
      "KS91_K562_hg38_ASTARRseq_Input_rep6.masked.dups_marked.MYC.fragment_counts.unstranded.bed\n",
      "KS91_K562_hg38_ASTARRseq.MYC.stranded.counts.txt\n",
      "KS91_K562_hg38_ASTARRseq.MYC.unstranded.counts.txt\n",
      "KS91_K562_hg38_ASTARRseq_Output_rep1.f3q10.sorted.with_umis.dups_marked.GATA1.fragment_counts.stranded.bed\n",
      "KS91_K562_hg38_ASTARRseq_Output_rep1.f3q10.sorted.with_umis.dups_marked.GATA1.fragment_counts.unstranded.bed\n",
      "KS91_K562_hg38_ASTARRseq_Output_rep1.f3q10.sorted.with_umis.dups_marked.MYC.fragment_counts.stranded.bed\n",
      "KS91_K562_hg38_ASTARRseq_Output_rep1.f3q10.sorted.with_umis.dups_marked.MYC.fragment_counts.unstranded.bed\n",
      "KS91_K562_hg38_ASTARRseq_Output_rep2.f3q10.sorted.with_umis.dups_marked.GATA1.fragment_counts.stranded.bed\n",
      "KS91_K562_hg38_ASTARRseq_Output_rep2.f3q10.sorted.with_umis.dups_marked.GATA1.fragment_counts.unstranded.bed\n",
      "KS91_K562_hg38_ASTARRseq_Output_rep2.f3q10.sorted.with_umis.dups_marked.MYC.fragment_counts.stranded.bed\n",
      "KS91_K562_hg38_ASTARRseq_Output_rep2.f3q10.sorted.with_umis.dups_marked.MYC.fragment_counts.unstranded.bed\n",
      "KS91_K562_hg38_ASTARRseq_Output_rep3.f3q10.sorted.with_umis.dups_marked.GATA1.fragment_counts.stranded.bed\n",
      "KS91_K562_hg38_ASTARRseq_Output_rep3.f3q10.sorted.with_umis.dups_marked.GATA1.fragment_counts.unstranded.bed\n",
      "KS91_K562_hg38_ASTARRseq_Output_rep3.f3q10.sorted.with_umis.dups_marked.MYC.fragment_counts.stranded.bed\n",
      "KS91_K562_hg38_ASTARRseq_Output_rep3.f3q10.sorted.with_umis.dups_marked.MYC.fragment_counts.unstranded.bed\n",
      "KS91_K562_hg38_ASTARRseq_Output_rep4.f3q10.sorted.with_umis.dups_marked.GATA1.fragment_counts.stranded.bed\n",
      "KS91_K562_hg38_ASTARRseq_Output_rep4.f3q10.sorted.with_umis.dups_marked.GATA1.fragment_counts.unstranded.bed\n",
      "KS91_K562_hg38_ASTARRseq_Output_rep4.f3q10.sorted.with_umis.dups_marked.MYC.fragment_counts.stranded.bed\n",
      "KS91_K562_hg38_ASTARRseq_Output_rep4.f3q10.sorted.with_umis.dups_marked.MYC.fragment_counts.unstranded.bed\n"
     ]
    }
   ],
   "source": [
    "ls ${FD_RES}/source/starrseq"
   ]
  },
  {
   "cell_type": "code",
   "execution_count": 3,
   "id": "00b21947-7c90-4ac9-ab0e-2f3bdd6bf698",
   "metadata": {},
   "outputs": [
    {
     "name": "stdout",
     "output_type": "stream",
     "text": [
      "chrX\t47787165\t47787363\tchrX_47787165_47787363_+\t1\t+\n",
      "chrX\t47787557\t47787773\tchrX_47787557_47787773_-\t2\t-\n",
      "chrX\t47787593\t47787783\tchrX_47787593_47787783_-\t1\t-\n",
      "chrX\t47787598\t47787772\tchrX_47787598_47787772_-\t1\t-\n",
      "chrX\t47787661\t47788058\tchrX_47787661_47788058_+\t3\t+\n",
      "chrX\t47787743\t47787849\tchrX_47787743_47787849_-\t2\t-\n",
      "chrX\t47787998\t47788231\tchrX_47787998_47788231_+\t1\t+\n",
      "chrX\t47788008\t47788157\tchrX_47788008_47788157_-\t1\t-\n",
      "chrX\t47788008\t47788181\tchrX_47788008_47788181_-\t1\t-\n",
      "chrX\t47788140\t47788547\tchrX_47788140_47788547_-\t1\t-\n"
     ]
    }
   ],
   "source": [
    "FDIRY=${FD_RES}/source/starrseq\n",
    "FNAME=KS91_K562_hg38_ASTARRseq_Input_rep1.masked.dups_marked.GATA1.fragment_counts.stranded.bed\n",
    "head ${FDIRY}/${FNAME}"
   ]
  },
  {
   "cell_type": "markdown",
   "id": "0d39f796",
   "metadata": {},
   "source": [
    "## MPRA"
   ]
  },
  {
   "cell_type": "markdown",
   "id": "f86ce1a8-3963-41cb-8718-3d213cd8320e",
   "metadata": {},
   "source": [
    "**Region: GATA1**"
   ]
  },
  {
   "cell_type": "code",
   "execution_count": 2,
   "id": "e46e0ca5-fca5-46eb-b4ad-7b5cd0ec3df6",
   "metadata": {},
   "outputs": [
    {
     "name": "stdout",
     "output_type": "stream",
     "text": [
      "chrX\t47786401\t47786600\tX:47786401-47786600\t.\t+\t2.30593934460149\t2117.78684083014\t10474.868702612\t112.11265261617\t110.931130790033\t0.102147903305184\n",
      "chrX\t47786451\t47786650\tX:47786451-47786650\t.\t+\t0.783056057422144\t1386.00739237509\t2387.11896574661\t11.3173883956403\t10.6425168461249\t0.113307047070907\n",
      "chrX\t47786501\t47786700\tX:47786501-47786700\t.\t+\t-0.128731962724311\t1955.62553108109\t1788.23614005802\t0.845069660219201\t0.628722618349189\t0.0878596785422427\n",
      "chrX\t47786551\t47786750\tX:47786551-47786750\t.\t+\t0.588295148181817\t2388.99664261419\t3591.26381774846\t11.2404554080035\t10.5666788666818\t0.0854366059937647\n",
      "chrX\t47786601\t47786800\tX:47786601-47786800\t.\t+\t0.0667001449192146\t2102.91633517956\t2202.38454860936\t0.309589962802377\t0.21047015199996\t0.096677408925751\n",
      "chrX\t47786651\t47786850\tX:47786651-47786850\t.\t+\t-0.0296770285855712\t1571.25883312174\t1537.47500511577\t0.10093990529751\t0.0645309864135248\t0.11287405577848\n",
      "chrX\t47786701\t47786900\tX:47786701-47786900\t.\t+\t-0.14075229487499\t1203.48578659625\t1091.84377528483\t0.825108335723858\t0.612237990840887\t0.0976771932403185\n",
      "chrX\t47786751\t47786950\tX:47786751-47786950\t.\t+\t-0.0885922350756983\t353.512101989425\t332.442633189546\t0.253160744492879\t0.1696398049799\t0.151330371648385\n",
      "chrX\t47786801\t47787000\tX:47786801-47787000\t.\t+\t0.0391523438172218\t579.598940974745\t594.330606996562\t0.0990177524483432\t0.0632252218092235\t0.151540085938414\n",
      "chrX\t47786851\t47787050\tX:47786851-47787050\t.\t+\t-0.180031837594759\t1441.753500779\t1272.18932724085\t0.993521192614518\t0.751361305586954\t0.109935692261477\n"
     ]
    }
   ],
   "source": [
    "FDIRY=${FD_RES}/source/syn26435687\n",
    "FNAME=GATA-MYC_Tile_K562_K562_20210130.hg38.cleaned.GATA1.bed\n",
    "head ${FDIRY}/${FNAME}"
   ]
  },
  {
   "cell_type": "markdown",
   "id": "84566cdd-5e67-4d4e-8d22-cd74118a7c40",
   "metadata": {},
   "source": [
    "**Region: MYC**"
   ]
  },
  {
   "cell_type": "code",
   "execution_count": 3,
   "id": "7e1a55d8-aafa-435b-8448-3b1698a57703",
   "metadata": {},
   "outputs": [
    {
     "name": "stdout",
     "output_type": "stream",
     "text": [
      "chr8\t126735901\t126736100\t8:126735901-126736100\t.\t+\t3.2160073089731\t889.870007626957\t8270.0812492101\t284.968919800667\t283.460926583012\t0.0890350708144434\n",
      "chr8\t126735951\t126736150\t8:126735951-126736150\t.\t+\t2.7418446306345\t125.834560461689\t840.938846837603\t113.688833083897\t112.501493383409\t0.12060330887403\n",
      "chr8\t126736001\t126736200\t8:126736001-126736200\t.\t+\t2.97274231280755\t510.315518509142\t4005.35667727079\t184.577200225273\t183.231899086814\t0.102397694468983\n",
      "chr8\t126736051\t126736250\t8:126736051-126736250\t.\t+\t0.518237538807382\t702.549323072363\t1005.35942223587\t5.59034059223642\t5.03343239300409\t0.110201760903996\n",
      "chr8\t126736101\t126736300\t8:126736101-126736300\t.\t+\t0.854181054733534\t551.083056684629\t995.469820297553\t14.4458053269591\t13.7295762580818\t0.108553853362847\n",
      "chr8\t126736151\t126736350\t8:126736151-126736350\t.\t+\t-0.170536518919497\t916.625712816023\t814.060406737518\t0.869176270302198\t0.648678251321294\t0.114140812593879\n",
      "chr8\t126736201\t126736400\t8:126736201-126736400\t.\t+\t-0.228389349286036\t252.295210997601\t215.270243875253\t0.631792435759102\t0.456673166036636\t0.191682206789696\n",
      "chr8\t126736251\t126736450\t8:126736251-126736450\t.\t+\t-0.282547596063233\t206.33956338419\t169.445419693817\t0.854670352603126\t0.636650338189754\t0.191330787603918\n",
      "chr8\t126736301\t126736500\t8:126736301-126736500\t.\t+\t0.341850449719078\t225.170969884281\t284.651952860765\t1.22819243176126\t0.950092596669581\t0.181139132639869\n",
      "chr8\t126736351\t126736550\t8:126736351-126736550\t.\t+\t0.340369413983315\t588.097277025173\t745.181174540557\t2.54673138133352\t2.13394881164837\t0.114042632145658\n"
     ]
    }
   ],
   "source": [
    "FDIRY=${FD_RES}/source/syn26435687\n",
    "FNAME=GATA-MYC_Tile_K562_K562_20210130.hg38.cleaned.MYC.bed\n",
    "head ${FDIRY}/${FNAME}"
   ]
  },
  {
   "cell_type": "markdown",
   "id": "865b3e82-a852-4336-8f01-b1a42afd8fbd",
   "metadata": {},
   "source": [
    "**Region: FADS**"
   ]
  },
  {
   "cell_type": "code",
   "execution_count": 4,
   "id": "42af06de-6c64-4bb4-a387-33fb9c04e48d",
   "metadata": {},
   "outputs": [
    {
     "name": "stdout",
     "output_type": "stream",
     "text": [
      "chr\tstart\tstop\tid\tscore\tstrand\tlog2fc\tinput-count\toutput-count\tlog10pval\tlog10fdr\tlfc-se\tcigar\tmd-tag\tproject\n",
      "11\t61554801\t61555000\t11:61554801-61555000\t.\t+\t-0.85763898433268\t539.06986501396\t297.715189120701\t0.931483643269041\t0.434220074327503\t0.547274403273541\t200=\t200\tTiles\n",
      "11\t61554801\t61555000\t11:61554801-61555000_RC\t.\t-\t-0.881673566105872\t325.844662728475\t176.742458595972\t0.662985926208364\t0.246985056545332\t0.714599633819389\t200=\t200\tTiles\n",
      "11\t61554806\t61555005\t11:61554806-61555005\t.\t+\t-0.779124828017293\t609.292251213609\t355.039015219307\t0.863277358508061\t0.383434414853537\t0.52393863052786\t200=\t200\tTiles\n",
      "11\t61554806\t61555005\t11:61554806-61555005_RC\t.\t-\t-0.831905443335537\t336.926589204788\t189.098087771129\t0.278503265787216\t0.0672740754748282\t1.31386301202738\t200=\t200\tTiles\n",
      "11\t61554811\t61555010\t11:61554811-61555010\t.\t+\t-0.39640169893204\t643.658290648892\t489.535669788046\t0.260937494339268\t0.0622971516235022\t0.660421157413616\t200=\t200\tTiles\n",
      "11\t61554811\t61555010\t11:61554811-61555010_RC\t.\t-\t-0.391323407285527\t310.187693964429\t236.290578726164\t0.180792851064123\t0.040252375782999\t0.888120663288669\t200=\t200\tTiles\n",
      "11\t61554816\t61555015\t11:61554816-61555015\t.\t+\t-0.489028709894157\t564.827141504192\t402.104987130375\t0.512708372311238\t0.161654577894315\t0.478825704512005\t200=\t200\tTiles\n",
      "11\t61554816\t61555015\t11:61554816-61555015_RC\t.\t-\t-0.768088636319577\t580.395698972717\t341.076247832192\t1.08265326177516\t0.551321581181327\t0.442600043327791\t200=\t200\tTiles\n",
      "11\t61554821\t61555020\t11:61554821-61555020\t.\t+\t-0.589012981257324\t573.688523074222\t381.088870415759\t0.653718918688817\t0.240975448970365\t0.482274017768384\t200=\t200\tTiles\n"
     ]
    }
   ],
   "source": [
    "FDIRY=${FD_RES}/source/syn22348180\n",
    "FNAME=FADS_Tile_K562_K562_20200905.bed\n",
    "head ${FDIRY}/${FNAME}"
   ]
  },
  {
   "cell_type": "code",
   "execution_count": null,
   "id": "b90abc55-96f9-4820-8771-7691033a9c60",
   "metadata": {},
   "outputs": [],
   "source": []
  },
  {
   "cell_type": "code",
   "execution_count": 17,
   "id": "e5f0de8c",
   "metadata": {},
   "outputs": [
    {
     "name": "stdout",
     "output_type": "stream",
     "text": [
      "chr\tstart\tstop\tid\tscore\tstrand\tlog2fc\tinput-count\toutput-count\tlog10pval\tlog10fdr\tlfc-se\n",
      "1\tNA\tNA\t1:10437778:C:T:R:wC\t.\t+\t2.38642090193675\t883.092934703281\t4616.08256005733\t106.737138191871\t105.572680362196\t0.108372623188431\n",
      "1\tNA\tNA\t1:10451799:C:T:R:wC\t.\t+\t0.163269738241717\t404.448967317715\t452.617975315935\t0.695386164226944\t0.506974721975921\t0.127869739155127\n",
      "1\tNA\tNA\t1:110198727:C:G:R:wC\t.\t+\t6.89424539341897\t310.545187848859\t36945.0097348854\tInf\tInf\t0.104426773888206\n",
      "1\tNA\tNA\t1:110881742:NA:NA\t.\t+\t5.22848485875197\t616.381200954704\t23111.0119614214\tInf\tInf\t0.0959084252416604\n",
      "1\tNA\tNA\t1:111838694:C:T:R:wC\t.\t+\t6.35937752212173\t322.74333240842\t26498.6022797483\tInf\tInf\t0.086444832956566\n",
      "1\tNA\tNA\t1:113047064:NA:NA\t.\t+\t0.11466895070617\t915.545423110096\t990.342692631558\t0.531636965525838\t0.377689908637539\t0.109274716168586\n",
      "1\tNA\tNA\t1:119063648:C:T:R:wC\t.\t+\t-0.267643729197052\t425.509782706038\t352.474171291422\t0.914512026836881\t0.685783680494351\t0.172958174820022\n",
      "1\tNA\tNA\t1:171893999:A:T:R:wC\t.\t+\t0.595625236142614\t723.096170889478\t1094.54535686017\t7.18072564066262\t6.58072499612539\t0.110263302544157\n",
      "1\tNA\tNA\t1:180811729:NA:NA\t.\t+\t0.159631235442215\t752.975856352507\t840.552978397217\t0.831434132608584\t0.617441385170644\t0.110189796054746\n"
     ]
    }
   ],
   "source": [
    "FDIRY=${FD_RES}/source/mpra\n",
    "FNAME=GATA-MYC_Tile_K562_K562_20210130.hg38.bed\n",
    "head ${FDIRY}/${FNAME}"
   ]
  },
  {
   "cell_type": "code",
   "execution_count": 18,
   "id": "ff9482d0",
   "metadata": {},
   "outputs": [
    {
     "name": "stdout",
     "output_type": "stream",
     "text": [
      "log2fc              input-count         output-count\n",
      "2.38642090193675    883.092934703281    4616.08256005733\n",
      "0.163269738241717   404.448967317715    452.617975315935\n"
     ]
    }
   ],
   "source": [
    "head -3 ${FDIRY}/${FNAME} | cut -f7-9 | expand -t 20"
   ]
  },
  {
   "cell_type": "code",
   "execution_count": 19,
   "id": "0ea9cc4f",
   "metadata": {},
   "outputs": [
    {
     "name": "stdout",
     "output_type": "stream",
     "text": [
      "2.3860318503197737\n"
     ]
    }
   ],
   "source": [
    "python -c 'import math; val = 4616.08256005733/883.092934703281; print(math.log2(val))'"
   ]
  },
  {
   "cell_type": "code",
   "execution_count": 20,
   "id": "7cb045f1",
   "metadata": {},
   "outputs": [
    {
     "name": "stdout",
     "output_type": "stream",
     "text": [
      "0.1623362037447741\n"
     ]
    }
   ],
   "source": [
    "python -c 'import math; val = 452.617975315935/404.448967317715; print(math.log2(val))'"
   ]
  },
  {
   "cell_type": "code",
   "execution_count": 31,
   "id": "2e306eba",
   "metadata": {},
   "outputs": [
    {
     "name": "stdout",
     "output_type": "stream",
     "text": [
      "chrX\t47786401\t47786600\tX:47786401-47786600\t.\t+\t2.30593934460149\t2117.78684083014\t10474.868702612\t112.11265261617\t110.931130790033\t0.102147903305184\n",
      "chrX\t47786451\t47786650\tX:47786451-47786650\t.\t+\t0.783056057422144\t1386.00739237509\t2387.11896574661\t11.3173883956403\t10.6425168461249\t0.113307047070907\n",
      "chrX\t47786501\t47786700\tX:47786501-47786700\t.\t+\t-0.128731962724311\t1955.62553108109\t1788.23614005802\t0.845069660219201\t0.628722618349189\t0.0878596785422427\n",
      "chrX\t47786551\t47786750\tX:47786551-47786750\t.\t+\t0.588295148181817\t2388.99664261419\t3591.26381774846\t11.2404554080035\t10.5666788666818\t0.0854366059937647\n",
      "chrX\t47786601\t47786800\tX:47786601-47786800\t.\t+\t0.0667001449192146\t2102.91633517956\t2202.38454860936\t0.309589962802377\t0.21047015199996\t0.096677408925751\n",
      "chrX\t47786651\t47786850\tX:47786651-47786850\t.\t+\t-0.0296770285855712\t1571.25883312174\t1537.47500511577\t0.10093990529751\t0.0645309864135248\t0.11287405577848\n",
      "chrX\t47786701\t47786900\tX:47786701-47786900\t.\t+\t-0.14075229487499\t1203.48578659625\t1091.84377528483\t0.825108335723858\t0.612237990840887\t0.0976771932403185\n",
      "chrX\t47786751\t47786950\tX:47786751-47786950\t.\t+\t-0.0885922350756983\t353.512101989425\t332.442633189546\t0.253160744492879\t0.1696398049799\t0.151330371648385\n",
      "chrX\t47786801\t47787000\tX:47786801-47787000\t.\t+\t0.0391523438172218\t579.598940974745\t594.330606996562\t0.0990177524483432\t0.0632252218092235\t0.151540085938414\n",
      "chrX\t47786851\t47787050\tX:47786851-47787050\t.\t+\t-0.180031837594759\t1441.753500779\t1272.18932724085\t0.993521192614518\t0.751361305586954\t0.109935692261477\n"
     ]
    }
   ],
   "source": [
    "FDIRY=${FD_RES}/source/mpra\n",
    "FNAME=GATA-MYC_Tile_K562_K562_20210130.hg38.cleaned.GATA1.bed\n",
    "head ${FDIRY}/${FNAME}"
   ]
  },
  {
   "cell_type": "code",
   "execution_count": 32,
   "id": "0694e02b",
   "metadata": {},
   "outputs": [
    {
     "name": "stdout",
     "output_type": "stream",
     "text": [
      "chrX\t49786101\t49786300\tX:49786101-49786300\t.\t+\t1.00044691392835\t777.498485442603\t1556.27647596262\t20.8693640680717\t20.0871617223577\t0.104805208063584\n",
      "chrX\t49786151\t49786350\tX:49786151-49786350\t.\t+\t0.463258989461307\t1131.94665336442\t1561.51778607375\t5.94061348023267\t5.37322275759384\t0.0952294544011986\n",
      "chrX\t49786201\t49786400\tX:49786201-49786400\t.\t+\t-0.284697009118311\t811.928202100054\t667.113550031747\t1.69518000986267\t1.35876571309246\t0.122551966734713\n",
      "chrX\t49786251\t49786450\tX:49786251-49786450\t.\t+\t0.017826375723575\t980.313531796834\t993.666648888676\t0.0575281222566952\t0.0359564211572375\t0.114180615228744\n",
      "chrX\t49786301\t49786500\tX:49786301-49786500\t.\t+\t-0.177277348353542\t428.27086866489\t379.09603564543\t0.639247729081037\t0.462659807104537\t0.147523446729482\n",
      "chrX\t49786351\t49786550\tX:49786351-49786550\t.\t+\t-0.216438806203308\t775.951388256382\t668.187036204817\t1.15377737323381\t0.886461299187744\t0.119530747868358\n",
      "chrX\t49786401\t49786600\tX:49786401-49786600\t.\t+\t0.179579212809932\t1556.61698399049\t1763.46720277119\t1.41506251996768\t1.11235867024363\t0.0867538236501367\n",
      "chrX\t49786451\t49786650\tX:49786451-49786650\t.\t+\t-0.37319242543987\t127.909914299581\t98.9610231872342\t0.88015718695034\t0.657605211336104\t0.24761834457407\n",
      "chrX\t49786501\t49786700\tX:49786501-49786700\t.\t+\t-0.489542789543221\t120.700808815634\t86.2353981554869\t1.04671720993347\t0.796026498296083\t0.28856952449479\n",
      "chrX\t49786551\t49786750\tX:49786551-49786750\t.\t+\t-0.271514802536649\t728.811675527209\t604.853952589693\t1.32249275006263\t1.03141711077191\t0.137058108860066\n"
     ]
    }
   ],
   "source": [
    "tail ${FDIRY}/${FNAME}"
   ]
  },
  {
   "cell_type": "code",
   "execution_count": 22,
   "id": "6a497643",
   "metadata": {},
   "outputs": [
    {
     "name": "stdout",
     "output_type": "stream",
     "text": [
      "2.30593934460149    2117.78684083014    10474.868702612\n",
      "0.783056057422144   1386.00739237509    2387.11896574661\n",
      "-0.128731962724311  1955.62553108109    1788.23614005802\n"
     ]
    }
   ],
   "source": [
    "head -3 ${FDIRY}/${FNAME} | cut -f7-9 | expand -t 20"
   ]
  },
  {
   "cell_type": "code",
   "execution_count": 23,
   "id": "663f273e",
   "metadata": {},
   "outputs": [
    {
     "name": "stdout",
     "output_type": "stream",
     "text": [
      "2.3063028687358345\n"
     ]
    }
   ],
   "source": [
    "python -c 'import math; val = 10474.868702612/2117.78684083014; print(math.log2(val))'"
   ]
  },
  {
   "cell_type": "code",
   "execution_count": 24,
   "id": "dc36c0ad",
   "metadata": {},
   "outputs": [
    {
     "name": "stdout",
     "output_type": "stream",
     "text": [
      "0.7843355149199273\n"
     ]
    }
   ],
   "source": [
    "python -c 'import math; val = 2387.11896574661/1386.00739237509; print(math.log2(val))'"
   ]
  },
  {
   "cell_type": "markdown",
   "id": "fe5ab0ca",
   "metadata": {},
   "source": [
    "## ASTARR"
   ]
  },
  {
   "cell_type": "code",
   "execution_count": 35,
   "id": "d53999e6",
   "metadata": {},
   "outputs": [
    {
     "name": "stdout",
     "output_type": "stream",
     "text": [
      "==> /mount/work/out/proj_encode_fcc/source/starrseq/KS91_K562_hg38_ASTARRseq_Input_rep1.masked.dups_marked.GATA1.fragment_counts.unstranded.bed <==\n",
      "chrX\t47787165\t47787363\tchrX_47787165_47787363\t1\t.\n",
      "chrX\t47787557\t47787773\tchrX_47787557_47787773\t2\t.\n",
      "chrX\t47787593\t47787783\tchrX_47787593_47787783\t1\t.\n",
      "\n",
      "==> /mount/work/out/proj_encode_fcc/source/starrseq/KS91_K562_hg38_ASTARRseq_Input_rep2.masked.dups_marked.GATA1.fragment_counts.unstranded.bed <==\n",
      "chrX\t47786508\t47786942\tchrX_47786508_47786942\t1\t.\n",
      "chrX\t47786758\t47787156\tchrX_47786758_47787156\t1\t.\n",
      "chrX\t47787231\t47787416\tchrX_47787231_47787416\t1\t.\n",
      "\n",
      "==> /mount/work/out/proj_encode_fcc/source/starrseq/KS91_K562_hg38_ASTARRseq_Input_rep3.masked.dups_marked.GATA1.fragment_counts.unstranded.bed <==\n",
      "chrX\t47787238\t47787404\tchrX_47787238_47787404\t1\t.\n",
      "chrX\t47787369\t47787598\tchrX_47787369_47787598\t1\t.\n",
      "chrX\t47787415\t47787608\tchrX_47787415_47787608\t1\t.\n",
      "\n",
      "==> /mount/work/out/proj_encode_fcc/source/starrseq/KS91_K562_hg38_ASTARRseq_Input_rep4.masked.dups_marked.GATA1.fragment_counts.unstranded.bed <==\n",
      "chrX\t47786963\t47787363\tchrX_47786963_47787363\t1\t.\n",
      "chrX\t47787449\t47787725\tchrX_47787449_47787725\t2\t.\n",
      "chrX\t47787479\t47788017\tchrX_47787479_47788017\t1\t.\n",
      "\n",
      "==> /mount/work/out/proj_encode_fcc/source/starrseq/KS91_K562_hg38_ASTARRseq_Input_rep5.masked.dups_marked.GATA1.fragment_counts.unstranded.bed <==\n",
      "chrX\t47787231\t47787416\tchrX_47787231_47787416\t1\t.\n",
      "chrX\t47787307\t47787576\tchrX_47787307_47787576\t1\t.\n",
      "chrX\t47787335\t47787693\tchrX_47787335_47787693\t1\t.\n",
      "\n",
      "==> /mount/work/out/proj_encode_fcc/source/starrseq/KS91_K562_hg38_ASTARRseq_Input_rep6.masked.dups_marked.GATA1.fragment_counts.unstranded.bed <==\n",
      "chrX\t47787593\t47787783\tchrX_47787593_47787783\t1\t.\n",
      "chrX\t47787596\t47787846\tchrX_47787596_47787846\t1\t.\n",
      "chrX\t47787601\t47787865\tchrX_47787601_47787865\t1\t.\n"
     ]
    }
   ],
   "source": [
    "FDIRY=${FD_RES}/source/starrseq\n",
    "FNAME=KS91_K562_hg38_ASTARRseq_Input_rep?.masked.dups_marked.GATA1.fragment_counts.unstranded.bed\n",
    "head -3 ${FDIRY}/${FNAME}"
   ]
  },
  {
   "cell_type": "code",
   "execution_count": 38,
   "id": "c6f7f6f2",
   "metadata": {},
   "outputs": [
    {
     "name": "stdout",
     "output_type": "stream",
     "text": [
      "==> /mount/work/out/proj_encode_fcc/source/starrseq/KS91_K562_hg38_ASTARRseq_Input_rep1.masked.dups_marked.GATA1.fragment_counts.unstranded.bed <==\n",
      "chrX\t49786343\t49786510\tchrX_49786343_49786510\t1\t.\n",
      "chrX\t49786423\t49786588\tchrX_49786423_49786588\t3\t.\n",
      "chrX\t49786428\t49786620\tchrX_49786428_49786620\t1\t.\n",
      "\n",
      "==> /mount/work/out/proj_encode_fcc/source/starrseq/KS91_K562_hg38_ASTARRseq_Input_rep2.masked.dups_marked.GATA1.fragment_counts.unstranded.bed <==\n",
      "chrX\t49786375\t49786482\tchrX_49786375_49786482\t1\t.\n",
      "chrX\t49786423\t49786588\tchrX_49786423_49786588\t1\t.\n",
      "chrX\t49786495\t49786637\tchrX_49786495_49786637\t2\t.\n",
      "\n",
      "==> /mount/work/out/proj_encode_fcc/source/starrseq/KS91_K562_hg38_ASTARRseq_Input_rep3.masked.dups_marked.GATA1.fragment_counts.unstranded.bed <==\n",
      "chrX\t49786423\t49786588\tchrX_49786423_49786588\t1\t.\n",
      "chrX\t49786428\t49786620\tchrX_49786428_49786620\t1\t.\n",
      "chrX\t49786432\t49786643\tchrX_49786432_49786643\t1\t.\n",
      "\n",
      "==> /mount/work/out/proj_encode_fcc/source/starrseq/KS91_K562_hg38_ASTARRseq_Input_rep4.masked.dups_marked.GATA1.fragment_counts.unstranded.bed <==\n",
      "chrX\t49786375\t49786482\tchrX_49786375_49786482\t1\t.\n",
      "chrX\t49786424\t49786582\tchrX_49786424_49786582\t1\t.\n",
      "chrX\t49786495\t49786637\tchrX_49786495_49786637\t1\t.\n",
      "\n",
      "==> /mount/work/out/proj_encode_fcc/source/starrseq/KS91_K562_hg38_ASTARRseq_Input_rep5.masked.dups_marked.GATA1.fragment_counts.unstranded.bed <==\n",
      "chrX\t49786366\t49786511\tchrX_49786366_49786511\t2\t.\n",
      "chrX\t49786377\t49786561\tchrX_49786377_49786561\t1\t.\n",
      "chrX\t49786423\t49786588\tchrX_49786423_49786588\t4\t.\n",
      "\n",
      "==> /mount/work/out/proj_encode_fcc/source/starrseq/KS91_K562_hg38_ASTARRseq_Input_rep6.masked.dups_marked.GATA1.fragment_counts.unstranded.bed <==\n",
      "chrX\t49786423\t49786588\tchrX_49786423_49786588\t1\t.\n",
      "chrX\t49786424\t49786582\tchrX_49786424_49786582\t1\t.\n",
      "chrX\t49786428\t49786620\tchrX_49786428_49786620\t1\t.\n"
     ]
    }
   ],
   "source": [
    "FDIRY=${FD_RES}/source/starrseq\n",
    "FNAME=KS91_K562_hg38_ASTARRseq_Input_rep?.masked.dups_marked.GATA1.fragment_counts.unstranded.bed\n",
    "tail -n 3 ${FDIRY}/${FNAME}"
   ]
  },
  {
   "cell_type": "code",
   "execution_count": 36,
   "id": "a502f71a",
   "metadata": {},
   "outputs": [
    {
     "name": "stdout",
     "output_type": "stream",
     "text": [
      "==> /mount/work/out/proj_encode_fcc/source/starrseq/KS91_K562_hg38_ASTARRseq_Output_rep1.f3q10.sorted.with_umis.dups_marked.GATA1.fragment_counts.unstranded.bed <==\n",
      "chrX\t47787189\t47787363\tchrX_47787189_47787363\t6\t.\n",
      "chrX\t47788545\t47789154\tchrX_47788545_47789154\t6\t.\n",
      "chrX\t47788659\t47788978\tchrX_47788659_47788978\t4\t.\n",
      "\n",
      "==> /mount/work/out/proj_encode_fcc/source/starrseq/KS91_K562_hg38_ASTARRseq_Output_rep2.f3q10.sorted.with_umis.dups_marked.GATA1.fragment_counts.unstranded.bed <==\n",
      "chrX\t47787441\t47787617\tchrX_47787441_47787617\t9\t.\n",
      "chrX\t47787442\t47787617\tchrX_47787442_47787617\t1\t.\n",
      "chrX\t47787449\t47787725\tchrX_47787449_47787725\t1\t.\n",
      "\n",
      "==> /mount/work/out/proj_encode_fcc/source/starrseq/KS91_K562_hg38_ASTARRseq_Output_rep3.f3q10.sorted.with_umis.dups_marked.GATA1.fragment_counts.unstranded.bed <==\n",
      "chrX\t47787224\t47787406\tchrX_47787224_47787406\t4\t.\n",
      "chrX\t47788004\t47788287\tchrX_47788004_47788287\t2\t.\n",
      "chrX\t47788008\t47788228\tchrX_47788008_47788228\t3\t.\n",
      "\n",
      "==> /mount/work/out/proj_encode_fcc/source/starrseq/KS91_K562_hg38_ASTARRseq_Output_rep4.f3q10.sorted.with_umis.dups_marked.GATA1.fragment_counts.unstranded.bed <==\n",
      "chrX\t47787173\t47787363\tchrX_47787173_47787363\t3\t.\n",
      "chrX\t47787224\t47787406\tchrX_47787224_47787406\t4\t.\n",
      "chrX\t47787717\t47788231\tchrX_47787717_47788231\t11\t.\n"
     ]
    }
   ],
   "source": [
    "FDIRY=${FD_RES}/source/starrseq\n",
    "FNAME=KS91_K562_hg38_ASTARRseq_Output_rep?.f3q10.sorted.with_umis.dups_marked.GATA1.fragment_counts.unstranded.bed\n",
    "head -3 ${FDIRY}/${FNAME}"
   ]
  },
  {
   "cell_type": "code",
   "execution_count": 39,
   "id": "824151dd",
   "metadata": {},
   "outputs": [
    {
     "name": "stdout",
     "output_type": "stream",
     "text": [
      "==> /mount/work/out/proj_encode_fcc/source/starrseq/KS91_K562_hg38_ASTARRseq_Output_rep1.f3q10.sorted.with_umis.dups_marked.GATA1.fragment_counts.unstranded.bed <==\n",
      "chrX\t49785715\t49785973\tchrX_49785715_49785973\t50\t.\n",
      "chrX\t49785716\t49785972\tchrX_49785716_49785972\t1\t.\n",
      "chrX\t49785716\t49785973\tchrX_49785716_49785973\t2\t.\n",
      "\n",
      "==> /mount/work/out/proj_encode_fcc/source/starrseq/KS91_K562_hg38_ASTARRseq_Output_rep2.f3q10.sorted.with_umis.dups_marked.GATA1.fragment_counts.unstranded.bed <==\n",
      "chrX\t49786184\t49786386\tchrX_49786184_49786386\t1\t.\n",
      "chrX\t49786184\t49786387\tchrX_49786184_49786387\t28\t.\n",
      "chrX\t49786185\t49786387\tchrX_49786185_49786387\t4\t.\n",
      "\n",
      "==> /mount/work/out/proj_encode_fcc/source/starrseq/KS91_K562_hg38_ASTARRseq_Output_rep3.f3q10.sorted.with_umis.dups_marked.GATA1.fragment_counts.unstranded.bed <==\n",
      "chrX\t49786276\t49786471\tchrX_49786276_49786471\t10\t.\n",
      "chrX\t49786277\t49786471\tchrX_49786277_49786471\t1\t.\n",
      "chrX\t49786278\t49786469\tchrX_49786278_49786469\t1\t.\n",
      "\n",
      "==> /mount/work/out/proj_encode_fcc/source/starrseq/KS91_K562_hg38_ASTARRseq_Output_rep4.f3q10.sorted.with_umis.dups_marked.GATA1.fragment_counts.unstranded.bed <==\n",
      "chrX\t49786307\t49786466\tchrX_49786307_49786466\t6\t.\n",
      "chrX\t49786423\t49786588\tchrX_49786423_49786588\t3\t.\n",
      "chrX\t49786424\t49786588\tchrX_49786424_49786588\t1\t.\n"
     ]
    }
   ],
   "source": [
    "FDIRY=${FD_RES}/source/starrseq\n",
    "FNAME=KS91_K562_hg38_ASTARRseq_Output_rep?.f3q10.sorted.with_umis.dups_marked.GATA1.fragment_counts.unstranded.bed\n",
    "tail -n 3 ${FDIRY}/${FNAME}"
   ]
  },
  {
   "cell_type": "markdown",
   "id": "e176689d-c78d-4a92-a2bf-a8c534c65831",
   "metadata": {},
   "source": [
    "## New version of data"
   ]
  },
  {
   "cell_type": "code",
   "execution_count": 1,
   "id": "036e4826",
   "metadata": {},
   "outputs": [
    {
     "name": "stdout",
     "output_type": "stream",
     "text": [
      "\u001b[0m\u001b[38;5;27mfads\u001b[0m  \u001b[38;5;27mgata1_myc\u001b[0m\n"
     ]
    }
   ],
   "source": [
    "ls /data/reddylab/Alex/encode4_duke/ipynbs/jamborees/20211025_MPRA_STARR_Jamboree/data/"
   ]
  },
  {
   "cell_type": "code",
   "execution_count": 2,
   "id": "b1dded29-6b8f-4a8f-9bfe-db1b0ca7a7e4",
   "metadata": {},
   "outputs": [],
   "source": [
    "FDIRY=/data/reddylab/Alex/encode4_duke/ipynbs/jamborees/20211025_MPRA_STARR_Jamboree/data/"
   ]
  },
  {
   "cell_type": "code",
   "execution_count": 3,
   "id": "1f57e992-9370-4bd6-b497-f4f5c57ad13e",
   "metadata": {},
   "outputs": [
    {
     "name": "stdout",
     "output_type": "stream",
     "text": [
      "\u001b[0m\u001b[38;5;27mfads\u001b[0m  \u001b[38;5;27mgata1_myc\u001b[0m\n"
     ]
    }
   ],
   "source": [
    "ls ${FDIRY}"
   ]
  },
  {
   "cell_type": "code",
   "execution_count": 4,
   "id": "9658e9ca-fbf4-4f9f-ab74-d633f7ed06ae",
   "metadata": {},
   "outputs": [
    {
     "name": "stdout",
     "output_type": "stream",
     "text": [
      "\u001b[0m\u001b[38;5;27mmpra\u001b[0m  \u001b[38;5;27mstarrseq\u001b[0m\n"
     ]
    }
   ],
   "source": [
    "ls ${FDIRY}/gata1_myc"
   ]
  },
  {
   "cell_type": "code",
   "execution_count": 6,
   "id": "f6894da8-a153-4ff6-aa5f-2a4d6d957f88",
   "metadata": {},
   "outputs": [
    {
     "name": "stdout",
     "output_type": "stream",
     "text": [
      "\u001b[0m\u001b[38;5;27mmpra\u001b[0m  \u001b[38;5;27mstarrseq\u001b[0m\n"
     ]
    }
   ],
   "source": [
    "ls ${FDIRY}/fads"
   ]
  },
  {
   "cell_type": "code",
   "execution_count": 8,
   "id": "26c7cc84-2eb4-4b1f-9840-b1b50866b39e",
   "metadata": {
    "collapsed": true,
    "jupyter": {
     "outputs_hidden": true
    },
    "tags": []
   },
   "outputs": [
    {
     "name": "stdout",
     "output_type": "stream",
     "text": [
      "A001.K562.starrseq.GATA1.stranded.counts.txt\n",
      "A001.K562.starrseq.GATA1.unstranded.counts.txt\n",
      "A001.K562.starrseq.input.rep1.GATA1.fragment_counts.stranded.bed\n",
      "A001.K562.starrseq.input.rep1.GATA1.fragment_counts.unstranded.bed\n",
      "A001.K562.starrseq.input.rep1.MYC.fragment_counts.stranded.bed\n",
      "A001.K562.starrseq.input.rep1.MYC.fragment_counts.unstranded.bed\n",
      "A001.K562.starrseq.input.rep2.GATA1.fragment_counts.stranded.bed\n",
      "A001.K562.starrseq.input.rep2.GATA1.fragment_counts.unstranded.bed\n",
      "A001.K562.starrseq.input.rep2.MYC.fragment_counts.stranded.bed\n",
      "A001.K562.starrseq.input.rep2.MYC.fragment_counts.unstranded.bed\n",
      "A001.K562.starrseq.input.rep3.GATA1.fragment_counts.stranded.bed\n",
      "A001.K562.starrseq.input.rep3.GATA1.fragment_counts.unstranded.bed\n",
      "A001.K562.starrseq.input.rep3.MYC.fragment_counts.stranded.bed\n",
      "A001.K562.starrseq.input.rep3.MYC.fragment_counts.unstranded.bed\n",
      "A001.K562.starrseq.input.rep4.GATA1.fragment_counts.stranded.bed\n",
      "A001.K562.starrseq.input.rep4.GATA1.fragment_counts.unstranded.bed\n",
      "A001.K562.starrseq.input.rep4.MYC.fragment_counts.stranded.bed\n",
      "A001.K562.starrseq.input.rep4.MYC.fragment_counts.unstranded.bed\n",
      "A001.K562.starrseq.MYC.stranded.counts.txt\n",
      "A001.K562.starrseq.MYC.unstranded.counts.txt\n",
      "A001.K562.starrseq.output.rep1.GATA1.fragment_counts.stranded.bed\n",
      "A001.K562.starrseq.output.rep1.GATA1.fragment_counts.unstranded.bed\n",
      "A001.K562.starrseq.output.rep1.MYC.fragment_counts.stranded.bed\n",
      "A001.K562.starrseq.output.rep1.MYC.fragment_counts.unstranded.bed\n",
      "A001.K562.starrseq.output.rep2.GATA1.fragment_counts.stranded.bed\n",
      "A001.K562.starrseq.output.rep2.GATA1.fragment_counts.unstranded.bed\n",
      "A001.K562.starrseq.output.rep2.MYC.fragment_counts.stranded.bed\n",
      "A001.K562.starrseq.output.rep2.MYC.fragment_counts.unstranded.bed\n",
      "A001.K562.starrseq.output.rep3.GATA1.fragment_counts.stranded.bed\n",
      "A001.K562.starrseq.output.rep3.GATA1.fragment_counts.unstranded.bed\n",
      "A001.K562.starrseq.output.rep3.MYC.fragment_counts.stranded.bed\n",
      "A001.K562.starrseq.output.rep3.MYC.fragment_counts.unstranded.bed\n",
      "control_HCT116_MCF-7_A549_white.GATA1.fragment_counts.stranded.bed\n",
      "control_HCT116_MCF-7_A549_white.GATA1.fragment_counts.unstranded.bed\n",
      "control_HCT116_MCF-7_A549_white.MYC.fragment_counts.stranded.bed\n",
      "control_HCT116_MCF-7_A549_white.MYC.fragment_counts.unstranded.bed\n",
      "control_HepG2_K562_white.GATA1.fragment_counts.stranded.bed\n",
      "control_HepG2_K562_white.GATA1.fragment_counts.unstranded.bed\n",
      "control_HepG2_K562_white.MYC.fragment_counts.stranded.bed\n",
      "control_HepG2_K562_white.MYC.fragment_counts.unstranded.bed\n",
      "KS91_K562_hg38_ASTARRseq.GATA1.stranded.counts.txt\n",
      "KS91_K562_hg38_ASTARRseq.GATA1.unstranded.counts.txt\n",
      "KS91_K562_hg38_ASTARRseq_Input_rep1.masked.dups_marked.GATA1.fragment_counts.stranded.bed\n",
      "KS91_K562_hg38_ASTARRseq_Input_rep1.masked.dups_marked.GATA1.fragment_counts.unstranded.bed\n",
      "KS91_K562_hg38_ASTARRseq_Input_rep1.masked.dups_marked.MYC.fragment_counts.stranded.bed\n",
      "KS91_K562_hg38_ASTARRseq_Input_rep1.masked.dups_marked.MYC.fragment_counts.unstranded.bed\n",
      "KS91_K562_hg38_ASTARRseq_Input_rep1.masked.dups_marked.sorted.GATA1.fragment_counts.stranded.bed\n",
      "KS91_K562_hg38_ASTARRseq_Input_rep1.masked.dups_marked.sorted.GATA1.fragment_counts.unstranded.bed\n",
      "KS91_K562_hg38_ASTARRseq_Input_rep1.masked.dups_marked.sorted.MYC.fragment_counts.stranded.bed\n",
      "KS91_K562_hg38_ASTARRseq_Input_rep1.masked.dups_marked.sorted.MYC.fragment_counts.unstranded.bed\n",
      "KS91_K562_hg38_ASTARRseq_Input_rep2.masked.dups_marked.GATA1.fragment_counts.stranded.bed\n",
      "KS91_K562_hg38_ASTARRseq_Input_rep2.masked.dups_marked.GATA1.fragment_counts.unstranded.bed\n",
      "KS91_K562_hg38_ASTARRseq_Input_rep2.masked.dups_marked.MYC.fragment_counts.stranded.bed\n",
      "KS91_K562_hg38_ASTARRseq_Input_rep2.masked.dups_marked.MYC.fragment_counts.unstranded.bed\n",
      "KS91_K562_hg38_ASTARRseq_Input_rep2.masked.dups_marked.sorted.GATA1.fragment_counts.stranded.bed\n",
      "KS91_K562_hg38_ASTARRseq_Input_rep2.masked.dups_marked.sorted.GATA1.fragment_counts.unstranded.bed\n",
      "KS91_K562_hg38_ASTARRseq_Input_rep2.masked.dups_marked.sorted.MYC.fragment_counts.stranded.bed\n",
      "KS91_K562_hg38_ASTARRseq_Input_rep2.masked.dups_marked.sorted.MYC.fragment_counts.unstranded.bed\n",
      "KS91_K562_hg38_ASTARRseq_Input_rep3.masked.dups_marked.GATA1.fragment_counts.stranded.bed\n",
      "KS91_K562_hg38_ASTARRseq_Input_rep3.masked.dups_marked.GATA1.fragment_counts.unstranded.bed\n",
      "KS91_K562_hg38_ASTARRseq_Input_rep3.masked.dups_marked.MYC.fragment_counts.stranded.bed\n",
      "KS91_K562_hg38_ASTARRseq_Input_rep3.masked.dups_marked.MYC.fragment_counts.unstranded.bed\n",
      "KS91_K562_hg38_ASTARRseq_Input_rep3.masked.dups_marked.sorted.GATA1.fragment_counts.stranded.bed\n",
      "KS91_K562_hg38_ASTARRseq_Input_rep3.masked.dups_marked.sorted.GATA1.fragment_counts.unstranded.bed\n",
      "KS91_K562_hg38_ASTARRseq_Input_rep3.masked.dups_marked.sorted.MYC.fragment_counts.stranded.bed\n",
      "KS91_K562_hg38_ASTARRseq_Input_rep3.masked.dups_marked.sorted.MYC.fragment_counts.unstranded.bed\n",
      "KS91_K562_hg38_ASTARRseq_Input_rep4.masked.dups_marked.GATA1.fragment_counts.stranded.bed\n",
      "KS91_K562_hg38_ASTARRseq_Input_rep4.masked.dups_marked.GATA1.fragment_counts.unstranded.bed\n",
      "KS91_K562_hg38_ASTARRseq_Input_rep4.masked.dups_marked.MYC.fragment_counts.stranded.bed\n",
      "KS91_K562_hg38_ASTARRseq_Input_rep4.masked.dups_marked.MYC.fragment_counts.unstranded.bed\n",
      "KS91_K562_hg38_ASTARRseq_Input_rep4.masked.dups_marked.sorted.GATA1.fragment_counts.stranded.bed\n",
      "KS91_K562_hg38_ASTARRseq_Input_rep4.masked.dups_marked.sorted.GATA1.fragment_counts.unstranded.bed\n",
      "KS91_K562_hg38_ASTARRseq_Input_rep4.masked.dups_marked.sorted.MYC.fragment_counts.stranded.bed\n",
      "KS91_K562_hg38_ASTARRseq_Input_rep4.masked.dups_marked.sorted.MYC.fragment_counts.unstranded.bed\n",
      "KS91_K562_hg38_ASTARRseq_Input_rep5.masked.dups_marked.GATA1.fragment_counts.stranded.bed\n",
      "KS91_K562_hg38_ASTARRseq_Input_rep5.masked.dups_marked.GATA1.fragment_counts.unstranded.bed\n",
      "KS91_K562_hg38_ASTARRseq_Input_rep5.masked.dups_marked.MYC.fragment_counts.stranded.bed\n",
      "KS91_K562_hg38_ASTARRseq_Input_rep5.masked.dups_marked.MYC.fragment_counts.unstranded.bed\n",
      "KS91_K562_hg38_ASTARRseq_Input_rep5.masked.dups_marked.sorted.GATA1.fragment_counts.stranded.bed\n",
      "KS91_K562_hg38_ASTARRseq_Input_rep5.masked.dups_marked.sorted.GATA1.fragment_counts.unstranded.bed\n",
      "KS91_K562_hg38_ASTARRseq_Input_rep5.masked.dups_marked.sorted.MYC.fragment_counts.stranded.bed\n",
      "KS91_K562_hg38_ASTARRseq_Input_rep5.masked.dups_marked.sorted.MYC.fragment_counts.unstranded.bed\n",
      "KS91_K562_hg38_ASTARRseq_Input_rep6.masked.dups_marked.GATA1.fragment_counts.stranded.bed\n",
      "KS91_K562_hg38_ASTARRseq_Input_rep6.masked.dups_marked.GATA1.fragment_counts.unstranded.bed\n",
      "KS91_K562_hg38_ASTARRseq_Input_rep6.masked.dups_marked.MYC.fragment_counts.stranded.bed\n",
      "KS91_K562_hg38_ASTARRseq_Input_rep6.masked.dups_marked.MYC.fragment_counts.unstranded.bed\n",
      "KS91_K562_hg38_ASTARRseq_Input_rep6.masked.dups_marked.sorted.GATA1.fragment_counts.stranded.bed\n",
      "KS91_K562_hg38_ASTARRseq_Input_rep6.masked.dups_marked.sorted.GATA1.fragment_counts.unstranded.bed\n",
      "KS91_K562_hg38_ASTARRseq_Input_rep6.masked.dups_marked.sorted.MYC.fragment_counts.stranded.bed\n",
      "KS91_K562_hg38_ASTARRseq_Input_rep6.masked.dups_marked.sorted.MYC.fragment_counts.unstranded.bed\n",
      "KS91_K562_hg38_ASTARRseq.MYC.stranded.counts.txt\n",
      "KS91_K562_hg38_ASTARRseq.MYC.unstranded.counts.txt\n",
      "KS91_K562_hg38_ASTARRseq_Output_rep1.f3q10.sorted.with_umis.dups_marked.GATA1.fragment_counts.stranded.bed\n",
      "KS91_K562_hg38_ASTARRseq_Output_rep1.f3q10.sorted.with_umis.dups_marked.GATA1.fragment_counts.unstranded.bed\n",
      "KS91_K562_hg38_ASTARRseq_Output_rep1.f3q10.sorted.with_umis.dups_marked.MYC.fragment_counts.stranded.bed\n",
      "KS91_K562_hg38_ASTARRseq_Output_rep1.f3q10.sorted.with_umis.dups_marked.MYC.fragment_counts.unstranded.bed\n",
      "KS91_K562_hg38_ASTARRseq_Output_rep2.f3q10.sorted.with_umis.dups_marked.GATA1.fragment_counts.stranded.bed\n",
      "KS91_K562_hg38_ASTARRseq_Output_rep2.f3q10.sorted.with_umis.dups_marked.GATA1.fragment_counts.unstranded.bed\n",
      "KS91_K562_hg38_ASTARRseq_Output_rep2.f3q10.sorted.with_umis.dups_marked.MYC.fragment_counts.stranded.bed\n",
      "KS91_K562_hg38_ASTARRseq_Output_rep2.f3q10.sorted.with_umis.dups_marked.MYC.fragment_counts.unstranded.bed\n",
      "KS91_K562_hg38_ASTARRseq_Output_rep3.f3q10.sorted.with_umis.dups_marked.GATA1.fragment_counts.stranded.bed\n",
      "KS91_K562_hg38_ASTARRseq_Output_rep3.f3q10.sorted.with_umis.dups_marked.GATA1.fragment_counts.unstranded.bed\n",
      "KS91_K562_hg38_ASTARRseq_Output_rep3.f3q10.sorted.with_umis.dups_marked.MYC.fragment_counts.stranded.bed\n",
      "KS91_K562_hg38_ASTARRseq_Output_rep3.f3q10.sorted.with_umis.dups_marked.MYC.fragment_counts.unstranded.bed\n",
      "KS91_K562_hg38_ASTARRseq_Output_rep4.f3q10.sorted.with_umis.dups_marked.GATA1.fragment_counts.stranded.bed\n",
      "KS91_K562_hg38_ASTARRseq_Output_rep4.f3q10.sorted.with_umis.dups_marked.GATA1.fragment_counts.unstranded.bed\n",
      "KS91_K562_hg38_ASTARRseq_Output_rep4.f3q10.sorted.with_umis.dups_marked.MYC.fragment_counts.stranded.bed\n",
      "KS91_K562_hg38_ASTARRseq_Output_rep4.f3q10.sorted.with_umis.dups_marked.MYC.fragment_counts.unstranded.bed\n",
      "KW.K562.starrseq.GATA1.stranded.counts.txt\n",
      "KW.K562.starrseq.GATA1.unstranded.counts.txt\n",
      "KW.K562.starrseq.input.rep1.GATA1.fragment_counts.stranded.bed\n",
      "KW.K562.starrseq.input.rep1.GATA1.fragment_counts.unstranded.bed\n",
      "KW.K562.starrseq.input.rep1.MYC.fragment_counts.stranded.bed\n",
      "KW.K562.starrseq.input.rep1.MYC.fragment_counts.unstranded.bed\n",
      "KW.K562.starrseq.MYC.stranded.counts.txt\n",
      "KW.K562.starrseq.MYC.unstranded.counts.txt\n",
      "KW.K562.starrseq.output.rep1.GATA1.fragment_counts.stranded.bed\n",
      "KW.K562.starrseq.output.rep1.GATA1.fragment_counts.unstranded.bed\n",
      "KW.K562.starrseq.output.rep1.MYC.fragment_counts.stranded.bed\n",
      "KW.K562.starrseq.output.rep1.MYC.fragment_counts.unstranded.bed\n",
      "KW.K562.starrseq.output.rep2.GATA1.fragment_counts.stranded.bed\n",
      "KW.K562.starrseq.output.rep2.GATA1.fragment_counts.unstranded.bed\n",
      "KW.K562.starrseq.output.rep2.MYC.fragment_counts.stranded.bed\n",
      "KW.K562.starrseq.output.rep2.MYC.fragment_counts.unstranded.bed\n"
     ]
    }
   ],
   "source": [
    "ls ${FDIRY}/gata1_myc/starrseq/fragments"
   ]
  },
  {
   "cell_type": "code",
   "execution_count": 10,
   "id": "6ea3b9e5-ad60-43df-b27f-79339419587b",
   "metadata": {},
   "outputs": [
    {
     "name": "stdout",
     "output_type": "stream",
     "text": [
      "KS91_K562_hg38_ASTARRseq.FADS.stranded.counts.txt\n",
      "KS91_K562_hg38_ASTARRseq.FADS.unstranded.counts.txt\n",
      "KS91_K562_hg38_ASTARRseq_Input_rep1.masked.dups_marked.sorted.FADS.fragment_counts.stranded.bed\n",
      "KS91_K562_hg38_ASTARRseq_Input_rep1.masked.dups_marked.sorted.FADS.fragment_counts.unstranded.bed\n",
      "KS91_K562_hg38_ASTARRseq_Input_rep2.masked.dups_marked.sorted.FADS.fragment_counts.stranded.bed\n",
      "KS91_K562_hg38_ASTARRseq_Input_rep2.masked.dups_marked.sorted.FADS.fragment_counts.unstranded.bed\n",
      "KS91_K562_hg38_ASTARRseq_Input_rep3.masked.dups_marked.sorted.FADS.fragment_counts.stranded.bed\n",
      "KS91_K562_hg38_ASTARRseq_Input_rep3.masked.dups_marked.sorted.FADS.fragment_counts.unstranded.bed\n",
      "KS91_K562_hg38_ASTARRseq_Input_rep4.masked.dups_marked.sorted.FADS.fragment_counts.stranded.bed\n",
      "KS91_K562_hg38_ASTARRseq_Input_rep4.masked.dups_marked.sorted.FADS.fragment_counts.unstranded.bed\n",
      "KS91_K562_hg38_ASTARRseq_Input_rep5.masked.dups_marked.sorted.FADS.fragment_counts.stranded.bed\n",
      "KS91_K562_hg38_ASTARRseq_Input_rep5.masked.dups_marked.sorted.FADS.fragment_counts.unstranded.bed\n",
      "KS91_K562_hg38_ASTARRseq_Input_rep6.masked.dups_marked.sorted.FADS.fragment_counts.stranded.bed\n",
      "KS91_K562_hg38_ASTARRseq_Input_rep6.masked.dups_marked.sorted.FADS.fragment_counts.unstranded.bed\n",
      "KS91_K562_hg38_ASTARRseq_Output_rep1.f3q10.sorted.with_umis.dups_marked.FADS.fragment_counts.stranded.bed\n",
      "KS91_K562_hg38_ASTARRseq_Output_rep1.f3q10.sorted.with_umis.dups_marked.FADS.fragment_counts.unstranded.bed\n",
      "KS91_K562_hg38_ASTARRseq_Output_rep2.f3q10.sorted.with_umis.dups_marked.FADS.fragment_counts.stranded.bed\n",
      "KS91_K562_hg38_ASTARRseq_Output_rep2.f3q10.sorted.with_umis.dups_marked.FADS.fragment_counts.unstranded.bed\n",
      "KS91_K562_hg38_ASTARRseq_Output_rep3.f3q10.sorted.with_umis.dups_marked.FADS.fragment_counts.stranded.bed\n",
      "KS91_K562_hg38_ASTARRseq_Output_rep3.f3q10.sorted.with_umis.dups_marked.FADS.fragment_counts.unstranded.bed\n",
      "KS91_K562_hg38_ASTARRseq_Output_rep4.f3q10.sorted.with_umis.dups_marked.FADS.fragment_counts.stranded.bed\n",
      "KS91_K562_hg38_ASTARRseq_Output_rep4.f3q10.sorted.with_umis.dups_marked.FADS.fragment_counts.unstranded.bed\n"
     ]
    }
   ],
   "source": [
    "ls ${FDIRY}/fads/starrseq/fragments"
   ]
  },
  {
   "cell_type": "code",
   "execution_count": null,
   "id": "25144856-df21-475a-b092-502e58454869",
   "metadata": {},
   "outputs": [],
   "source": []
  }
 ],
 "metadata": {
  "kernelspec": {
   "display_name": "Bash",
   "language": "bash",
   "name": "bash"
  },
  "language_info": {
   "codemirror_mode": "shell",
   "file_extension": ".sh",
   "mimetype": "text/x-sh",
   "name": "bash"
  }
 },
 "nbformat": 4,
 "nbformat_minor": 5
}
