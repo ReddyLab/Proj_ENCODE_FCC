{
 "cells": [
  {
   "cell_type": "markdown",
   "id": "e980bf8c-a364-4756-bb8d-899f68d84668",
   "metadata": {},
   "source": [
    "```\n",
    "Hi Kuei. Sorry it is taking a while to get you the fragment counts. I just checked and after fixing some bugs, I have the ASTARR fragment counts (unstranded, this is, without separating fragments by strand). You can find them here:\n",
    "#Input:\n",
    "/data/reddylab/Alex/encode4_duke/processing/atac_seq/210401_KS91_K562ASTARR_NovaSeq.hg38-pe-blacklist-removal/merged2/*counts.txt.gz\n",
    "#Output:\n",
    "/data/reddylab/Alex/encode4_duke/processing/starr_seq/210401_KS91_K562ASTARR_NovaSeq.hg38-pe-umis/*f3q10.fragments.counts.txt.gz\n",
    "```"
   ]
  },
  {
   "cell_type": "code",
   "execution_count": 4,
   "id": "667037b3-69f2-4362-9eff-5ed8f9876118",
   "metadata": {},
   "outputs": [
    {
     "name": "stdout",
     "output_type": "stream",
     "text": [
      "\u001b[0m\u001b[38;5;27matac_seq\u001b[0m  \u001b[38;5;27mchip_seq\u001b[0m  \u001b[38;5;27mrna_seq\u001b[0m  \u001b[38;5;27mstarr_seq\u001b[0m\n"
     ]
    }
   ],
   "source": [
    "ls /data/reddylab/Alex/encode4_duke/processing"
   ]
  },
  {
   "cell_type": "code",
   "execution_count": 5,
   "id": "d587dbe6-ccc9-437d-b495-a83ed1adb010",
   "metadata": {},
   "outputs": [
    {
     "name": "stdout",
     "output_type": "stream",
     "text": [
      "\u001b[0m\u001b[38;5;27m210401_KS91_K562ASTARR_NovaSeq.hg38-pe-blacklist-removal\u001b[0m  \u001b[38;5;27mjsons\u001b[0m\n",
      "\u001b[38;5;27m210401_KS91_K562ASTARR_NovaSeq-pe-blacklist-removal\u001b[0m       \u001b[38;5;27mlogs\u001b[0m\n",
      "\u001b[38;5;27mClark_5285_181109A6-pe-blacklist-removal\u001b[0m                  \u001b[38;5;27mscripts\u001b[0m\n",
      "\u001b[38;5;27mcromwell-executions\u001b[0m                                       \u001b[38;5;27mtmpdirs\u001b[0m\n",
      "\u001b[48;5;10;38;5;21mcromwell-workflow-logs\u001b[0m\n"
     ]
    }
   ],
   "source": [
    "ls /data/reddylab/Alex/encode4_duke/processing/atac_seq"
   ]
  },
  {
   "cell_type": "code",
   "execution_count": null,
   "id": "32128f67-3c6b-4fb5-b871-9f92f4f737cb",
   "metadata": {},
   "outputs": [],
   "source": []
  },
  {
   "cell_type": "code",
   "execution_count": 6,
   "id": "d2c89177-55e0-4fba-b2d3-e87ec7fa18ac",
   "metadata": {},
   "outputs": [
    {
     "name": "stdout",
     "output_type": "stream",
     "text": [
      "\u001b[0m\u001b[38;5;27m210401_KS91_K562ASTARR_NovaSeq.38-pe-umis\u001b[0m    \u001b[38;5;27mjsons\u001b[0m  \u001b[38;5;27mscripts\u001b[0m\n",
      "\u001b[38;5;27m210401_KS91_K562ASTARR_NovaSeq.hg38-pe-umis\u001b[0m  \u001b[38;5;27mlogs\u001b[0m   \u001b[38;5;27mtmpdirs\u001b[0m\n"
     ]
    }
   ],
   "source": [
    "ls /data/reddylab/Alex/encode4_duke/processing/starr_seq"
   ]
  },
  {
   "cell_type": "code",
   "execution_count": 2,
   "id": "0157ccb2-67b4-4dc5-83e7-a0e849326eba",
   "metadata": {},
   "outputs": [
    {
     "name": "stdout",
     "output_type": "stream",
     "text": [
      "\u001b[0m\u001b[38;5;27matac_seq\u001b[0m       \u001b[38;5;27mchip_seq\u001b[0m           \u001b[38;5;27mrna_seq\u001b[0m              \u001b[38;5;27mstarr_seq\u001b[0m\n",
      "\u001b[38;5;27matacstarr_seq\u001b[0m  \u001b[38;5;27mdata_distribution\u001b[0m  \u001b[38;5;27msharing_within_duke\u001b[0m\n"
     ]
    }
   ],
   "source": [
    "ls /data/reddylab/Alex/encode4_duke/data"
   ]
  },
  {
   "cell_type": "code",
   "execution_count": 3,
   "id": "809f7214-0dc6-4ac7-b7bb-b874231b1f98",
   "metadata": {},
   "outputs": [
    {
     "name": "stdout",
     "output_type": "stream",
     "text": [
      "\u001b[0m\u001b[38;5;27mmetadata\u001b[0m  \u001b[38;5;27mmotifs\u001b[0m  \u001b[38;5;27mpeaks\u001b[0m  \u001b[38;5;27mprocessed_raw_reads\u001b[0m  \u001b[38;5;27mqc\u001b[0m  \u001b[38;5;27mraw_reads\u001b[0m\n"
     ]
    }
   ],
   "source": [
    "ls /data/reddylab/Alex/encode4_duke/data/starr_seq"
   ]
  },
  {
   "cell_type": "code",
   "execution_count": null,
   "id": "32d54a16-c6e6-4007-8cb4-9349f3e6e458",
   "metadata": {},
   "outputs": [],
   "source": []
  },
  {
   "cell_type": "code",
   "execution_count": 13,
   "id": "d2079b07-469f-48e0-bb68-c9c17e50cf68",
   "metadata": {},
   "outputs": [
    {
     "name": "stdout",
     "output_type": "stream",
     "text": [
      "\u001b[0m\u001b[38;5;9m/data/reddylab/Alex/encode4_duke/processing/atac_seq/210401_KS91_K562ASTARR_NovaSeq.hg38-pe-blacklist-removal/merged2/KS91_K562_hg38_ASTARRseq_Input_rep1.masked.dedup.fragments.counts.txt.gz\u001b[0m\u001b[K\n",
      "\u001b[38;5;9m/data/reddylab/Alex/encode4_duke/processing/atac_seq/210401_KS91_K562ASTARR_NovaSeq.hg38-pe-blacklist-removal/merged2/KS91_K562_hg38_ASTARRseq_Input_rep2.masked.dedup.fragments.counts.txt.gz\u001b[0m\u001b[K\n",
      "\u001b[38;5;9m/data/reddylab/Alex/encode4_duke/processing/atac_seq/210401_KS91_K562ASTARR_NovaSeq.hg38-pe-blacklist-removal/merged2/KS91_K562_hg38_ASTARRseq_Input_rep3.masked.dedup.fragments.counts.txt.gz\u001b[0m\u001b[K\n",
      "\u001b[38;5;9m/data/reddylab/Alex/encode4_duke/processing/atac_seq/210401_KS91_K562ASTARR_NovaSeq.hg38-pe-blacklist-removal/merged2/KS91_K562_hg38_ASTARRseq_Input_rep4.masked.dedup.fragments.counts.txt.gz\u001b[0m\u001b[K\n",
      "\u001b[38;5;9m/data/reddylab/Alex/encode4_duke/processing/atac_seq/210401_KS91_K562ASTARR_NovaSeq.hg38-pe-blacklist-removal/merged2/KS91_K562_hg38_ASTARRseq_Input_rep5.masked.dedup.fragments.counts.txt.gz\u001b[0m\u001b[K\n",
      "\u001b[38;5;9m/data/reddylab/Alex/encode4_duke/processing/atac_seq/210401_KS91_K562ASTARR_NovaSeq.hg38-pe-blacklist-removal/merged2/KS91_K562_hg38_ASTARRseq_Input_rep6.masked.dedup.fragments.counts.txt.gz\u001b[0m\u001b[K\n"
     ]
    }
   ],
   "source": [
    "ls /data/reddylab/Alex/encode4_duke/processing/atac_seq/210401_KS91_K562ASTARR_NovaSeq.hg38-pe-blacklist-removal/merged2/*counts.txt.gz"
   ]
  },
  {
   "cell_type": "code",
   "execution_count": 12,
   "id": "c7a2adbf-2f48-4750-89f5-822bcbe9ad49",
   "metadata": {},
   "outputs": [
    {
     "name": "stdout",
     "output_type": "stream",
     "text": [
      "\u001b[0m\u001b[38;5;9m/data/reddylab/Alex/encode4_duke/processing/starr_seq/210401_KS91_K562ASTARR_NovaSeq.hg38-pe-umis/KS91_K562_hg38_ASTARRseq_Output_rep1.f3q10.fragments.counts.txt.gz\u001b[0m\u001b[K\n",
      "\u001b[38;5;9m/data/reddylab/Alex/encode4_duke/processing/starr_seq/210401_KS91_K562ASTARR_NovaSeq.hg38-pe-umis/KS91_K562_hg38_ASTARRseq_Output_rep2.f3q10.fragments.counts.txt.gz\u001b[0m\u001b[K\n",
      "\u001b[38;5;9m/data/reddylab/Alex/encode4_duke/processing/starr_seq/210401_KS91_K562ASTARR_NovaSeq.hg38-pe-umis/KS91_K562_hg38_ASTARRseq_Output_rep3.f3q10.fragments.counts.txt.gz\u001b[0m\u001b[K\n",
      "\u001b[38;5;9m/data/reddylab/Alex/encode4_duke/processing/starr_seq/210401_KS91_K562ASTARR_NovaSeq.hg38-pe-umis/KS91_K562_hg38_ASTARRseq_Output_rep4.f3q10.fragments.counts.txt.gz\u001b[0m\u001b[K\n"
     ]
    }
   ],
   "source": [
    "ls /data/reddylab/Alex/encode4_duke/processing/starr_seq/210401_KS91_K562ASTARR_NovaSeq.hg38-pe-umis/*f3q10.fragments.counts.txt.gz"
   ]
  },
  {
   "cell_type": "code",
   "execution_count": 14,
   "id": "403945dd-746c-42de-892b-4b2bcfcfdfee",
   "metadata": {},
   "outputs": [
    {
     "name": "stdout",
     "output_type": "stream",
     "text": [
      "\u001b[0m\u001b[38;5;27m210401_KS91_K562ASTARR_NovaSeq.38-pe-umis\u001b[0m    \u001b[38;5;27mjsons\u001b[0m    \u001b[38;5;27mtmpdirs\u001b[0m\n",
      "\u001b[38;5;27m210401_KS91_K562ASTARR_NovaSeq.hg38-pe-umis\u001b[0m  \u001b[38;5;27mlogs\u001b[0m\n",
      "\u001b[38;5;27m210401_KS91_K562ASTARR_NovaSeq-pe-umis\u001b[0m       \u001b[38;5;27mscripts\u001b[0m\n"
     ]
    }
   ],
   "source": [
    "ls /data/reddylab/Alex/encode4_duke/processing/starr_seq"
   ]
  },
  {
   "cell_type": "code",
   "execution_count": 5,
   "id": "b1b65e73-06fb-4cbe-8dbf-973d51b53ece",
   "metadata": {},
   "outputs": [
    {
     "name": "stdout",
     "output_type": "stream",
     "text": [
      "\u001b[0m\u001b[38;5;27m210401_KS91_K562ASTARR_NovaSeq.hg38-pe-blacklist-removal\u001b[0m  \u001b[38;5;27mjsons\u001b[0m\n",
      "\u001b[38;5;27m210401_KS91_K562ASTARR_NovaSeq-pe-blacklist-removal\u001b[0m       \u001b[38;5;27mlogs\u001b[0m\n",
      "\u001b[38;5;27mClark_5285_181109A6-pe-blacklist-removal\u001b[0m                  \u001b[38;5;27mscripts\u001b[0m\n",
      "\u001b[38;5;27mcromwell-executions\u001b[0m                                       \u001b[38;5;27mtmpdirs\u001b[0m\n",
      "\u001b[48;5;10;38;5;21mcromwell-workflow-logs\u001b[0m\n"
     ]
    }
   ],
   "source": [
    "ls /data/reddylab/Alex/encode4_duke/processing/atac_seq"
   ]
  },
  {
   "cell_type": "code",
   "execution_count": 3,
   "id": "075a6b80-e471-40eb-9418-edb9b17baaf5",
   "metadata": {},
   "outputs": [
    {
     "name": "stdout",
     "output_type": "stream",
     "text": [
      "\u001b[0m\u001b[38;5;27matac_seq\u001b[0m  \u001b[38;5;27mchip_seq\u001b[0m  \u001b[38;5;27mrna_seq\u001b[0m  \u001b[38;5;27mstarr_seq\u001b[0m\n"
     ]
    }
   ],
   "source": [
    "ls /data/reddylab/Alex/encode4_duke/processing/"
   ]
  },
  {
   "cell_type": "code",
   "execution_count": 4,
   "id": "1c531ff9-4484-4eb6-aad4-9828626b2edb",
   "metadata": {},
   "outputs": [
    {
     "name": "stdout",
     "output_type": "stream",
     "text": [
      "\u001b[0m\u001b[38;5;27m210401_KS91_K562ASTARR_NovaSeq.38-pe-umis\u001b[0m    \u001b[38;5;27mjsons\u001b[0m    \u001b[38;5;27mtmpdirs\u001b[0m\n",
      "\u001b[38;5;27m210401_KS91_K562ASTARR_NovaSeq.hg38-pe-umis\u001b[0m  \u001b[38;5;27mlogs\u001b[0m\n",
      "\u001b[38;5;27m210401_KS91_K562ASTARR_NovaSeq-pe-umis\u001b[0m       \u001b[38;5;27mscripts\u001b[0m\n"
     ]
    }
   ],
   "source": [
    "ls /data/reddylab/Alex/encode4_duke/processing/starr_seq"
   ]
  },
  {
   "cell_type": "code",
   "execution_count": 15,
   "id": "820d42aa-8dfa-41c6-9b8f-5275602cef4a",
   "metadata": {},
   "outputs": [
    {
     "name": "stdout",
     "output_type": "stream",
     "text": [
      "210401_KS91_K562ASTARR_NovaSeq.hg38-pe-umis.sh\n",
      "210401_KS91_K562ASTARR_NovaSeq-pe-umis.sh\n",
      "cwl_json_gen_210401_KS91_K562ASTARR_NovaSeq.hg38.sh\n",
      "cwl_json_gen_210401_KS91_K562ASTARR_NovaSeq.sh\n"
     ]
    }
   ],
   "source": [
    "ls /data/reddylab/Alex/encode4_duke/processing/starr_seq/scripts"
   ]
  },
  {
   "cell_type": "code",
   "execution_count": 6,
   "id": "80995f9a-4e82-407f-b200-757eebdc792d",
   "metadata": {},
   "outputs": [
    {
     "name": "stdout",
     "output_type": "stream",
     "text": [
      "210401_KS91_K562ASTARR_NovaSeq.hg38-pe-blacklist-removal.sh\n",
      "210401_KS91_K562ASTARR_NovaSeq-pe-blacklist-removal.sh\n",
      "Clark_5285_181109A6-pe-blacklist-removal.sh\n",
      "cwl_json_gen_210401_KS91_K562ASTARR_NovaSeq.hg38.sh\n",
      "cwl_json_gen_210401_KS91_K562ASTARR_NovaSeq.sh\n",
      "cwl_json_gen_Clark_5285_181109A6.sh\n",
      "cwl_json_gen_REDDY_5166_180911A1.sh\n",
      "download_Clark_5285_181109A6.sh\n",
      "download_REDDY_5166_180911A1.sh\n",
      "generate_qc_cell_210401_KS91_K562ASTARR_NovaSeq-pe-blacklist-removal.sh\n",
      "generate_qc_cell_Clark_5285_181109A6-pe-blacklist-removal.sh\n",
      "merge_lanes_Clark_5285_181109A6.sh\n",
      "merge_lanes_REDDY_5166_180911A1.sh\n",
      "REDDY_5166_180911A1-se-blacklist-removal.sh\n",
      "ungzip_Clark_5285_181109A6.sh\n",
      "ungzip_REDDY_5166_180911A1.sh\n"
     ]
    }
   ],
   "source": [
    "ls /data/reddylab/Alex/encode4_duke/processing/atac_seq/scripts"
   ]
  },
  {
   "cell_type": "code",
   "execution_count": 9,
   "id": "6cdd08a1-32f1-4097-81e8-82b59a35f7fd",
   "metadata": {},
   "outputs": [
    {
     "name": "stdout",
     "output_type": "stream",
     "text": [
      "#!/bin/bash\n",
      "#SBATCH --job-name=cwl_atac_seq\n",
      "#SBATCH --output=/data/reddylab/Alex/encode4_duke//processing/atac_seq/logs/210401_KS91_K562ASTARR_NovaSeq.hg38-pe-blacklist-removal-%a.out\n",
      "#SBATCH --mail-user=aeb84@duke.edu\n",
      "#SBATCH --mail-type=FAIL,END\n",
      "#SBATCH --mem=96000\n",
      "#SBATCH --cpus-per-task=24\n",
      "\n",
      "export PATH=\"/data/reddylab/software/bin:$PATH\"\n",
      "export PATH=\"/data/reddylab/software/cwl/bin:$PATH\"\n",
      "export PATH=\"/data/reddylab/software/preseq_v2.0:$PATH\"\n",
      "export PATH=\"/data/reddylab/software/rsem-1.2.21/:$PATH\"\n",
      "export PATH=\"/data/reddylab/software/phantompeakqualtools-1.2/:$PATH\"\n",
      "export PATH=\"/data/reddylab/software/miniconda2/envs/cwl10/bin:$PATH\"\n",
      "\n",
      "module load bedtools2\n",
      "module load fastqc\n",
      "module load samtools\n",
      "module load bowtie2\n",
      "module load java\n",
      "\n",
      "# For Fastqc\n",
      "export DISPLAY=:0.0\n",
      "\n",
      "# Make sure temporary files and folders are created in a specific folder\n",
      "mkdir -p /data/reddylab/Alex/encode4_duke//processing/atac_seq/tmpdirs/tmp-210401_KS91_K562ASTARR_NovaSeq.hg38-pe-blacklist-removal-${SLURM_ARRAY_TASK_ID}-\n",
      "export TMPDIR=\"/data/reddylab/Alex/encode4_duke//processing/atac_seq/tmpdirs/tmp-210401_KS91_K562ASTARR_NovaSeq.hg38-pe-blacklist-removal-${SLURM_ARRAY_TASK_ID}-\"\n",
      "\n",
      "cwltool --debug \\\n",
      "    --non-strict \\\n",
      "    --preserve-environment PATH \\\n",
      "    --preserve-environment DISPLAY \\\n",
      "    --preserve-environment TMPDIR \\\n",
      "    --outdir /data/reddylab/Alex/encode4_duke//processing/atac_seq/210401_KS91_K562ASTARR_NovaSeq.hg38-pe-blacklist-removal  \\\n",
      "    --no-container \\\n",
      "    /data/reddylab/software/cwl/GGR-cwl/v1.0/ATAC-seq_pipeline/pipeline-pe-blacklist-removal.cwl \\\n",
      "    /data/reddylab/Alex/encode4_duke//processing/atac_seq/jsons/atac_seq_download_metadata.210401_KS91_K562ASTARR_NovaSeq.hg38-pe-blacklist-removal-${SLURM_ARRAY_TASK_ID}.json\n",
      "\n",
      "# Delete any tmpdir not removed by cwltool\n",
      "rm -rf /data/reddylab/Alex/encode4_duke//processing/atac_seq/tmpdirs/tmp-210401_KS91_K562ASTARR_NovaSeq.hg38-pe-blacklist-removal-${SLURM_ARRAY_TASK_ID}-\n"
     ]
    }
   ],
   "source": [
    "cat /data/reddylab/Alex/encode4_duke/processing/atac_seq/scripts/210401_KS91_K562ASTARR_NovaSeq.hg38-pe-blacklist-removal.sh"
   ]
  },
  {
   "cell_type": "code",
   "execution_count": 10,
   "id": "9902ff12-086d-4132-9788-afcc41c43628",
   "metadata": {},
   "outputs": [
    {
     "name": "stdout",
     "output_type": "stream",
     "text": [
      "#!/bin/bash\n",
      "#SBATCH --job-name=cwl_atac_seq\n",
      "#SBATCH --output=/data/reddylab/Alex/encode4_duke//processing/atac_seq/logs/210401_KS91_K562ASTARR_NovaSeq-pe-blacklist-removal-%a.out\n",
      "#SBATCH --mail-user=aeb84@duke.edu\n",
      "#SBATCH --mail-type=FAIL,END\n",
      "#SBATCH --mem=32000\n",
      "#SBATCH --cpus-per-task=16\n",
      "\n",
      "export PATH=\"/data/reddylab/software/bin:$PATH\"\n",
      "export PATH=\"/data/reddylab/software/cwl/bin:$PATH\"\n",
      "export PATH=\"/data/reddylab/software/preseq_v2.0:$PATH\"\n",
      "export PATH=\"/data/reddylab/software/rsem-1.2.21/:$PATH\"\n",
      "export PATH=\"/data/reddylab/software/phantompeakqualtools-1.2/:$PATH\"\n",
      "export PATH=\"/data/reddylab/software/miniconda2/envs/cwl10/bin:$PATH\"\n",
      "\n",
      "module load bedtools2\n",
      "module load fastqc\n",
      "module load samtools\n",
      "module load bowtie2\n",
      "module load java/1.8.0_45-fasrc01\n",
      "\n",
      "# For Fastqc\n",
      "export DISPLAY=:0.0\n",
      "\n",
      "# Make sure temporary files and folders are created in a specific folder\n",
      "mkdir -p /data/reddylab/Alex/encode4_duke//processing/atac_seq/tmpdirs/tmp-210401_KS91_K562ASTARR_NovaSeq-pe-blacklist-removal-${SLURM_ARRAY_TASK_ID}-\n",
      "export TMPDIR=\"/data/reddylab/Alex/encode4_duke//processing/atac_seq/tmpdirs/tmp-210401_KS91_K562ASTARR_NovaSeq-pe-blacklist-removal-${SLURM_ARRAY_TASK_ID}-\"\n",
      "\n",
      "cwltool --debug \\\n",
      "    --non-strict \\\n",
      "    --preserve-environment PATH \\\n",
      "    --preserve-environment DISPLAY \\\n",
      "    --preserve-environment TMPDIR \\\n",
      "    --outdir /data/reddylab/Alex/encode4_duke//processing/atac_seq/210401_KS91_K562ASTARR_NovaSeq-pe-blacklist-removal  \\\n",
      "    --no-container \\\n",
      "    /data/reddylab/software/cwl/GGR-cwl/v1.0/ATAC-seq_pipeline/pipeline-pe-blacklist-removal.cwl \\\n",
      "    /data/reddylab/Alex/encode4_duke//processing/atac_seq/jsons/atac_seq_download_metadata.210401_KS91_K562ASTARR_NovaSeq-pe-blacklist-removal-${SLURM_ARRAY_TASK_ID}.json\n",
      "\n",
      "# Delete any tmpdir not removed by cwltool\n",
      "rm -rf /data/reddylab/Alex/encode4_duke//processing/atac_seq/tmpdirs/tmp-210401_KS91_K562ASTARR_NovaSeq-pe-blacklist-removal-${SLURM_ARRAY_TASK_ID}-\n"
     ]
    }
   ],
   "source": [
    "cat /data/reddylab/Alex/encode4_duke/processing/atac_seq/scripts/210401_KS91_K562ASTARR_NovaSeq-pe-blacklist-removal.sh"
   ]
  },
  {
   "cell_type": "code",
   "execution_count": null,
   "id": "2f5c5d1f-a9d4-475e-ac1c-2dce384af97f",
   "metadata": {},
   "outputs": [],
   "source": []
  }
 ],
 "metadata": {
  "kernelspec": {
   "display_name": "Bash",
   "language": "bash",
   "name": "bash"
  },
  "language_info": {
   "codemirror_mode": "shell",
   "file_extension": ".sh",
   "mimetype": "text/x-sh",
   "name": "bash"
  }
 },
 "nbformat": 4,
 "nbformat_minor": 5
}
