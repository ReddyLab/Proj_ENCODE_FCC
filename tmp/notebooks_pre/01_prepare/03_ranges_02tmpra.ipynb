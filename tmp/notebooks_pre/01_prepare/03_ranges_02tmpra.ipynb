{
 "cells": [
  {
   "cell_type": "code",
   "execution_count": 2,
   "id": "a4e489c7",
   "metadata": {},
   "outputs": [
    {
     "name": "stdout",
     "output_type": "stream",
     "text": [
      "You are in Singularity: singularity_proj_combeffect \n",
      "BASE DIRECTORY:     /mount/work \n",
      "PATH OF SOURCE:     /mount/work/source \n",
      "PATH OF EXECUTABLE: /mount/work/exe \n",
      "PATH OF ANNOTATION: /mount/work/annotation \n",
      "PATH OF PROJECT:    /mount/project \n",
      "PATH OF RESULTS:    /mount/work/out/proj_combeffect_encode_fcc \n"
     ]
    }
   ],
   "source": [
    "suppressMessages(suppressWarnings(source(\"../config_sing.R\")))\n",
    "show_env()"
   ]
  },
  {
   "cell_type": "code",
   "execution_count": 3,
   "id": "d6f72d84",
   "metadata": {},
   "outputs": [
    {
     "data": {
      "text/html": [
       "<style>\n",
       ".list-inline {list-style: none; margin:0; padding: 0}\n",
       ".list-inline>li {display: inline-block}\n",
       ".list-inline>li:not(:last-child)::after {content: \"\\00b7\"; padding: 0 .5ex}\n",
       "</style>\n",
       "<ol class=list-inline><li>'cCREs'</li><li>'mpra'</li><li>'starrseq'</li><li>'starrseq_220510'</li><li>'syn22348180'</li><li>'syn26435687'</li></ol>\n"
      ],
      "text/latex": [
       "\\begin{enumerate*}\n",
       "\\item 'cCREs'\n",
       "\\item 'mpra'\n",
       "\\item 'starrseq'\n",
       "\\item 'starrseq\\_220510'\n",
       "\\item 'syn22348180'\n",
       "\\item 'syn26435687'\n",
       "\\end{enumerate*}\n"
      ],
      "text/markdown": [
       "1. 'cCREs'\n",
       "2. 'mpra'\n",
       "3. 'starrseq'\n",
       "4. 'starrseq_220510'\n",
       "5. 'syn22348180'\n",
       "6. 'syn26435687'\n",
       "\n",
       "\n"
      ],
      "text/plain": [
       "[1] \"cCREs\"           \"mpra\"            \"starrseq\"        \"starrseq_220510\"\n",
       "[5] \"syn22348180\"     \"syn26435687\"    "
      ]
     },
     "metadata": {},
     "output_type": "display_data"
    }
   ],
   "source": [
    "fdiry = file.path(FD_RES, \"source\")\n",
    "dir(fdiry)"
   ]
  },
  {
   "cell_type": "code",
   "execution_count": 4,
   "id": "507e2404",
   "metadata": {},
   "outputs": [
    {
     "name": "stdout",
     "output_type": "stream",
     "text": [
      "[1] 52312    12\n"
     ]
    },
    {
     "data": {
      "text/html": [
       "<table class=\"dataframe\">\n",
       "<caption>A tibble: 6 × 12</caption>\n",
       "<thead>\n",
       "\t<tr><th scope=col>Chrom</th><th scope=col>Start</th><th scope=col>End</th><th scope=col>ID</th><th scope=col>Score</th><th scope=col>Strand</th><th scope=col>log2fc</th><th scope=col>Input_Count</th><th scope=col>Output_Count</th><th scope=col>log10pval</th><th scope=col>log10fdr</th><th scope=col>lfc-se</th></tr>\n",
       "\t<tr><th scope=col>&lt;chr&gt;</th><th scope=col>&lt;dbl&gt;</th><th scope=col>&lt;dbl&gt;</th><th scope=col>&lt;chr&gt;</th><th scope=col>&lt;chr&gt;</th><th scope=col>&lt;chr&gt;</th><th scope=col>&lt;dbl&gt;</th><th scope=col>&lt;dbl&gt;</th><th scope=col>&lt;dbl&gt;</th><th scope=col>&lt;dbl&gt;</th><th scope=col>&lt;dbl&gt;</th><th scope=col>&lt;dbl&gt;</th></tr>\n",
       "</thead>\n",
       "<tbody>\n",
       "\t<tr><td>chrX</td><td>47786401</td><td>47786600</td><td>X:47786401-47786600</td><td>.</td><td>+</td><td> 2.30593934</td><td>2117.787</td><td>10474.869</td><td>112.1126526</td><td>110.93113079</td><td>0.10214790</td></tr>\n",
       "\t<tr><td>chrX</td><td>47786451</td><td>47786650</td><td>X:47786451-47786650</td><td>.</td><td>+</td><td> 0.78305606</td><td>1386.007</td><td> 2387.119</td><td> 11.3173884</td><td> 10.64251685</td><td>0.11330705</td></tr>\n",
       "\t<tr><td>chrX</td><td>47786501</td><td>47786700</td><td>X:47786501-47786700</td><td>.</td><td>+</td><td>-0.12873196</td><td>1955.626</td><td> 1788.236</td><td>  0.8450697</td><td>  0.62872262</td><td>0.08785968</td></tr>\n",
       "\t<tr><td>chrX</td><td>47786551</td><td>47786750</td><td>X:47786551-47786750</td><td>.</td><td>+</td><td> 0.58829515</td><td>2388.997</td><td> 3591.264</td><td> 11.2404554</td><td> 10.56667887</td><td>0.08543661</td></tr>\n",
       "\t<tr><td>chrX</td><td>47786601</td><td>47786800</td><td>X:47786601-47786800</td><td>.</td><td>+</td><td> 0.06670014</td><td>2102.916</td><td> 2202.385</td><td>  0.3095900</td><td>  0.21047015</td><td>0.09667741</td></tr>\n",
       "\t<tr><td>chrX</td><td>47786651</td><td>47786850</td><td>X:47786651-47786850</td><td>.</td><td>+</td><td>-0.02967703</td><td>1571.259</td><td> 1537.475</td><td>  0.1009399</td><td>  0.06453099</td><td>0.11287406</td></tr>\n",
       "</tbody>\n",
       "</table>\n"
      ],
      "text/latex": [
       "A tibble: 6 × 12\n",
       "\\begin{tabular}{llllllllllll}\n",
       " Chrom & Start & End & ID & Score & Strand & log2fc & Input\\_Count & Output\\_Count & log10pval & log10fdr & lfc-se\\\\\n",
       " <chr> & <dbl> & <dbl> & <chr> & <chr> & <chr> & <dbl> & <dbl> & <dbl> & <dbl> & <dbl> & <dbl>\\\\\n",
       "\\hline\n",
       "\t chrX & 47786401 & 47786600 & X:47786401-47786600 & . & + &  2.30593934 & 2117.787 & 10474.869 & 112.1126526 & 110.93113079 & 0.10214790\\\\\n",
       "\t chrX & 47786451 & 47786650 & X:47786451-47786650 & . & + &  0.78305606 & 1386.007 &  2387.119 &  11.3173884 &  10.64251685 & 0.11330705\\\\\n",
       "\t chrX & 47786501 & 47786700 & X:47786501-47786700 & . & + & -0.12873196 & 1955.626 &  1788.236 &   0.8450697 &   0.62872262 & 0.08785968\\\\\n",
       "\t chrX & 47786551 & 47786750 & X:47786551-47786750 & . & + &  0.58829515 & 2388.997 &  3591.264 &  11.2404554 &  10.56667887 & 0.08543661\\\\\n",
       "\t chrX & 47786601 & 47786800 & X:47786601-47786800 & . & + &  0.06670014 & 2102.916 &  2202.385 &   0.3095900 &   0.21047015 & 0.09667741\\\\\n",
       "\t chrX & 47786651 & 47786850 & X:47786651-47786850 & . & + & -0.02967703 & 1571.259 &  1537.475 &   0.1009399 &   0.06453099 & 0.11287406\\\\\n",
       "\\end{tabular}\n"
      ],
      "text/markdown": [
       "\n",
       "A tibble: 6 × 12\n",
       "\n",
       "| Chrom &lt;chr&gt; | Start &lt;dbl&gt; | End &lt;dbl&gt; | ID &lt;chr&gt; | Score &lt;chr&gt; | Strand &lt;chr&gt; | log2fc &lt;dbl&gt; | Input_Count &lt;dbl&gt; | Output_Count &lt;dbl&gt; | log10pval &lt;dbl&gt; | log10fdr &lt;dbl&gt; | lfc-se &lt;dbl&gt; |\n",
       "|---|---|---|---|---|---|---|---|---|---|---|---|\n",
       "| chrX | 47786401 | 47786600 | X:47786401-47786600 | . | + |  2.30593934 | 2117.787 | 10474.869 | 112.1126526 | 110.93113079 | 0.10214790 |\n",
       "| chrX | 47786451 | 47786650 | X:47786451-47786650 | . | + |  0.78305606 | 1386.007 |  2387.119 |  11.3173884 |  10.64251685 | 0.11330705 |\n",
       "| chrX | 47786501 | 47786700 | X:47786501-47786700 | . | + | -0.12873196 | 1955.626 |  1788.236 |   0.8450697 |   0.62872262 | 0.08785968 |\n",
       "| chrX | 47786551 | 47786750 | X:47786551-47786750 | . | + |  0.58829515 | 2388.997 |  3591.264 |  11.2404554 |  10.56667887 | 0.08543661 |\n",
       "| chrX | 47786601 | 47786800 | X:47786601-47786800 | . | + |  0.06670014 | 2102.916 |  2202.385 |   0.3095900 |   0.21047015 | 0.09667741 |\n",
       "| chrX | 47786651 | 47786850 | X:47786651-47786850 | . | + | -0.02967703 | 1571.259 |  1537.475 |   0.1009399 |   0.06453099 | 0.11287406 |\n",
       "\n"
      ],
      "text/plain": [
       "  Chrom Start    End      ID                  Score Strand log2fc     \n",
       "1 chrX  47786401 47786600 X:47786401-47786600 .     +       2.30593934\n",
       "2 chrX  47786451 47786650 X:47786451-47786650 .     +       0.78305606\n",
       "3 chrX  47786501 47786700 X:47786501-47786700 .     +      -0.12873196\n",
       "4 chrX  47786551 47786750 X:47786551-47786750 .     +       0.58829515\n",
       "5 chrX  47786601 47786800 X:47786601-47786800 .     +       0.06670014\n",
       "6 chrX  47786651 47786850 X:47786651-47786850 .     +      -0.02967703\n",
       "  Input_Count Output_Count log10pval   log10fdr     lfc-se    \n",
       "1 2117.787    10474.869    112.1126526 110.93113079 0.10214790\n",
       "2 1386.007     2387.119     11.3173884  10.64251685 0.11330705\n",
       "3 1955.626     1788.236      0.8450697   0.62872262 0.08785968\n",
       "4 2388.997     3591.264     11.2404554  10.56667887 0.08543661\n",
       "5 2102.916     2202.385      0.3095900   0.21047015 0.09667741\n",
       "6 1571.259     1537.475      0.1009399   0.06453099 0.11287406"
      ]
     },
     "metadata": {},
     "output_type": "display_data"
    }
   ],
   "source": [
    "### init: set file directory and path\n",
    "fdiry = file.path(FD_RES, \"source\", \"syn26435687\")\n",
    "fname = \"GATA-MYC_Tile_K562_K562_20210130.hg38.cleaned.GATA1.bed\"\n",
    "fpath = file.path(fdiry, fname)\n",
    "\n",
    "### init: set column names\n",
    "cnames = c(\"Chrom\", \"Start\", \"End\", \"ID\", \"Score\", \"Strand\", \n",
    "           \"log2fc\", \"Input_Count\", \"Output_Count\", \n",
    "           \"log10pval\", \"log10fdr\", \"lfc-se\")\n",
    "\n",
    "### import data\n",
    "dat = read_tsv(fpath, col_names = cnames, show_col_types = FALSE)\n",
    "\n",
    "### assign\n",
    "dat_tmpra_gata1 = dat\n",
    "print(dim(dat_tmpra_gata1))\n",
    "head(dat_tmpra_gata1)"
   ]
  },
  {
   "cell_type": "code",
   "execution_count": 5,
   "id": "f9820290",
   "metadata": {},
   "outputs": [
    {
     "name": "stdout",
     "output_type": "stream",
     "text": [
      "[1] 41898    12\n"
     ]
    },
    {
     "data": {
      "text/html": [
       "<table class=\"dataframe\">\n",
       "<caption>A tibble: 6 × 12</caption>\n",
       "<thead>\n",
       "\t<tr><th scope=col>Chrom</th><th scope=col>Start</th><th scope=col>End</th><th scope=col>ID</th><th scope=col>Score</th><th scope=col>Strand</th><th scope=col>log2fc</th><th scope=col>Input_Count</th><th scope=col>Output_Count</th><th scope=col>log10pval</th><th scope=col>log10fdr</th><th scope=col>lfc-se</th></tr>\n",
       "\t<tr><th scope=col>&lt;chr&gt;</th><th scope=col>&lt;dbl&gt;</th><th scope=col>&lt;dbl&gt;</th><th scope=col>&lt;chr&gt;</th><th scope=col>&lt;chr&gt;</th><th scope=col>&lt;chr&gt;</th><th scope=col>&lt;dbl&gt;</th><th scope=col>&lt;dbl&gt;</th><th scope=col>&lt;dbl&gt;</th><th scope=col>&lt;dbl&gt;</th><th scope=col>&lt;dbl&gt;</th><th scope=col>&lt;dbl&gt;</th></tr>\n",
       "</thead>\n",
       "<tbody>\n",
       "\t<tr><td>chr8</td><td>126735901</td><td>126736100</td><td>8:126735901-126736100</td><td>.</td><td>+</td><td> 3.2160073</td><td>889.8700</td><td>8270.0812</td><td>284.9689198</td><td>283.4609266</td><td>0.08903507</td></tr>\n",
       "\t<tr><td>chr8</td><td>126735951</td><td>126736150</td><td>8:126735951-126736150</td><td>.</td><td>+</td><td> 2.7418446</td><td>125.8346</td><td> 840.9388</td><td>113.6888331</td><td>112.5014934</td><td>0.12060331</td></tr>\n",
       "\t<tr><td>chr8</td><td>126736001</td><td>126736200</td><td>8:126736001-126736200</td><td>.</td><td>+</td><td> 2.9727423</td><td>510.3155</td><td>4005.3567</td><td>184.5772002</td><td>183.2318991</td><td>0.10239769</td></tr>\n",
       "\t<tr><td>chr8</td><td>126736051</td><td>126736250</td><td>8:126736051-126736250</td><td>.</td><td>+</td><td> 0.5182375</td><td>702.5493</td><td>1005.3594</td><td>  5.5903406</td><td>  5.0334324</td><td>0.11020176</td></tr>\n",
       "\t<tr><td>chr8</td><td>126736101</td><td>126736300</td><td>8:126736101-126736300</td><td>.</td><td>+</td><td> 0.8541811</td><td>551.0831</td><td> 995.4698</td><td> 14.4458053</td><td> 13.7295763</td><td>0.10855385</td></tr>\n",
       "\t<tr><td>chr8</td><td>126736151</td><td>126736350</td><td>8:126736151-126736350</td><td>.</td><td>+</td><td>-0.1705365</td><td>916.6257</td><td> 814.0604</td><td>  0.8691763</td><td>  0.6486783</td><td>0.11414081</td></tr>\n",
       "</tbody>\n",
       "</table>\n"
      ],
      "text/latex": [
       "A tibble: 6 × 12\n",
       "\\begin{tabular}{llllllllllll}\n",
       " Chrom & Start & End & ID & Score & Strand & log2fc & Input\\_Count & Output\\_Count & log10pval & log10fdr & lfc-se\\\\\n",
       " <chr> & <dbl> & <dbl> & <chr> & <chr> & <chr> & <dbl> & <dbl> & <dbl> & <dbl> & <dbl> & <dbl>\\\\\n",
       "\\hline\n",
       "\t chr8 & 126735901 & 126736100 & 8:126735901-126736100 & . & + &  3.2160073 & 889.8700 & 8270.0812 & 284.9689198 & 283.4609266 & 0.08903507\\\\\n",
       "\t chr8 & 126735951 & 126736150 & 8:126735951-126736150 & . & + &  2.7418446 & 125.8346 &  840.9388 & 113.6888331 & 112.5014934 & 0.12060331\\\\\n",
       "\t chr8 & 126736001 & 126736200 & 8:126736001-126736200 & . & + &  2.9727423 & 510.3155 & 4005.3567 & 184.5772002 & 183.2318991 & 0.10239769\\\\\n",
       "\t chr8 & 126736051 & 126736250 & 8:126736051-126736250 & . & + &  0.5182375 & 702.5493 & 1005.3594 &   5.5903406 &   5.0334324 & 0.11020176\\\\\n",
       "\t chr8 & 126736101 & 126736300 & 8:126736101-126736300 & . & + &  0.8541811 & 551.0831 &  995.4698 &  14.4458053 &  13.7295763 & 0.10855385\\\\\n",
       "\t chr8 & 126736151 & 126736350 & 8:126736151-126736350 & . & + & -0.1705365 & 916.6257 &  814.0604 &   0.8691763 &   0.6486783 & 0.11414081\\\\\n",
       "\\end{tabular}\n"
      ],
      "text/markdown": [
       "\n",
       "A tibble: 6 × 12\n",
       "\n",
       "| Chrom &lt;chr&gt; | Start &lt;dbl&gt; | End &lt;dbl&gt; | ID &lt;chr&gt; | Score &lt;chr&gt; | Strand &lt;chr&gt; | log2fc &lt;dbl&gt; | Input_Count &lt;dbl&gt; | Output_Count &lt;dbl&gt; | log10pval &lt;dbl&gt; | log10fdr &lt;dbl&gt; | lfc-se &lt;dbl&gt; |\n",
       "|---|---|---|---|---|---|---|---|---|---|---|---|\n",
       "| chr8 | 126735901 | 126736100 | 8:126735901-126736100 | . | + |  3.2160073 | 889.8700 | 8270.0812 | 284.9689198 | 283.4609266 | 0.08903507 |\n",
       "| chr8 | 126735951 | 126736150 | 8:126735951-126736150 | . | + |  2.7418446 | 125.8346 |  840.9388 | 113.6888331 | 112.5014934 | 0.12060331 |\n",
       "| chr8 | 126736001 | 126736200 | 8:126736001-126736200 | . | + |  2.9727423 | 510.3155 | 4005.3567 | 184.5772002 | 183.2318991 | 0.10239769 |\n",
       "| chr8 | 126736051 | 126736250 | 8:126736051-126736250 | . | + |  0.5182375 | 702.5493 | 1005.3594 |   5.5903406 |   5.0334324 | 0.11020176 |\n",
       "| chr8 | 126736101 | 126736300 | 8:126736101-126736300 | . | + |  0.8541811 | 551.0831 |  995.4698 |  14.4458053 |  13.7295763 | 0.10855385 |\n",
       "| chr8 | 126736151 | 126736350 | 8:126736151-126736350 | . | + | -0.1705365 | 916.6257 |  814.0604 |   0.8691763 |   0.6486783 | 0.11414081 |\n",
       "\n"
      ],
      "text/plain": [
       "  Chrom Start     End       ID                    Score Strand log2fc    \n",
       "1 chr8  126735901 126736100 8:126735901-126736100 .     +       3.2160073\n",
       "2 chr8  126735951 126736150 8:126735951-126736150 .     +       2.7418446\n",
       "3 chr8  126736001 126736200 8:126736001-126736200 .     +       2.9727423\n",
       "4 chr8  126736051 126736250 8:126736051-126736250 .     +       0.5182375\n",
       "5 chr8  126736101 126736300 8:126736101-126736300 .     +       0.8541811\n",
       "6 chr8  126736151 126736350 8:126736151-126736350 .     +      -0.1705365\n",
       "  Input_Count Output_Count log10pval   log10fdr    lfc-se    \n",
       "1 889.8700    8270.0812    284.9689198 283.4609266 0.08903507\n",
       "2 125.8346     840.9388    113.6888331 112.5014934 0.12060331\n",
       "3 510.3155    4005.3567    184.5772002 183.2318991 0.10239769\n",
       "4 702.5493    1005.3594      5.5903406   5.0334324 0.11020176\n",
       "5 551.0831     995.4698     14.4458053  13.7295763 0.10855385\n",
       "6 916.6257     814.0604      0.8691763   0.6486783 0.11414081"
      ]
     },
     "metadata": {},
     "output_type": "display_data"
    }
   ],
   "source": [
    "### init: set file directory and path\n",
    "fdiry = file.path(FD_RES, \"source\", \"syn26435687\")\n",
    "fname = \"GATA-MYC_Tile_K562_K562_20210130.hg38.cleaned.MYC.bed\"\n",
    "fpath = file.path(fdiry, fname)\n",
    "\n",
    "### init: set column names\n",
    "cnames = c(\"Chrom\", \"Start\", \"End\", \"ID\", \"Score\", \"Strand\", \n",
    "           \"log2fc\", \"Input_Count\", \"Output_Count\", \n",
    "           \"log10pval\", \"log10fdr\", \"lfc-se\")\n",
    "\n",
    "### import data\n",
    "dat = read_tsv(fpath, col_names = cnames, show_col_types = FALSE)\n",
    "#dat = dat %>% mutate(Loc = (Start + End) / 2)\n",
    "\n",
    "### assign\n",
    "dat_tmpra_myc = dat\n",
    "print(dim(dat_tmpra_myc))\n",
    "head(dat_tmpra_myc)"
   ]
  },
  {
   "cell_type": "code",
   "execution_count": 6,
   "id": "0abd1dc5",
   "metadata": {},
   "outputs": [
    {
     "name": "stderr",
     "output_type": "stream",
     "text": [
      "\u001b[1mRows: \u001b[22m\u001b[34m57010\u001b[39m \u001b[1mColumns: \u001b[22m\u001b[34m15\u001b[39m\n",
      "\u001b[36m──\u001b[39m \u001b[1mColumn specification\u001b[22m \u001b[36m──────────────────────────────────────────────────────────────\u001b[39m\n",
      "\u001b[1mDelimiter:\u001b[22m \"\\t\"\n",
      "\u001b[31mchr\u001b[39m (6): id, score, strand, cigar, md-tag, project\n",
      "\u001b[32mdbl\u001b[39m (9): chr, start, stop, log2fc, input-count, output-count, log10pval, log...\n",
      "\n",
      "\u001b[36mℹ\u001b[39m Use `spec()` to retrieve the full column specification for this data.\n",
      "\u001b[36mℹ\u001b[39m Specify the column types or set `show_col_types = FALSE` to quiet this message.\n"
     ]
    },
    {
     "name": "stdout",
     "output_type": "stream",
     "text": [
      "[1] 57010    15\n"
     ]
    },
    {
     "data": {
      "text/html": [
       "<table class=\"dataframe\">\n",
       "<caption>A tibble: 6 × 15</caption>\n",
       "<thead>\n",
       "\t<tr><th scope=col>chr</th><th scope=col>start</th><th scope=col>stop</th><th scope=col>id</th><th scope=col>score</th><th scope=col>strand</th><th scope=col>log2fc</th><th scope=col>input-count</th><th scope=col>output-count</th><th scope=col>log10pval</th><th scope=col>log10fdr</th><th scope=col>lfc-se</th><th scope=col>cigar</th><th scope=col>md-tag</th><th scope=col>project</th></tr>\n",
       "\t<tr><th scope=col>&lt;dbl&gt;</th><th scope=col>&lt;dbl&gt;</th><th scope=col>&lt;dbl&gt;</th><th scope=col>&lt;chr&gt;</th><th scope=col>&lt;chr&gt;</th><th scope=col>&lt;chr&gt;</th><th scope=col>&lt;dbl&gt;</th><th scope=col>&lt;dbl&gt;</th><th scope=col>&lt;dbl&gt;</th><th scope=col>&lt;dbl&gt;</th><th scope=col>&lt;dbl&gt;</th><th scope=col>&lt;dbl&gt;</th><th scope=col>&lt;chr&gt;</th><th scope=col>&lt;chr&gt;</th><th scope=col>&lt;chr&gt;</th></tr>\n",
       "</thead>\n",
       "<tbody>\n",
       "\t<tr><td>11</td><td>61554801</td><td>61555000</td><td>11:61554801-61555000   </td><td>.</td><td>+</td><td>-0.8576390</td><td>539.0699</td><td>297.7152</td><td>0.9314836</td><td>0.43422007</td><td>0.5472744</td><td>200=</td><td>200</td><td>Tiles</td></tr>\n",
       "\t<tr><td>11</td><td>61554801</td><td>61555000</td><td>11:61554801-61555000_RC</td><td>.</td><td>-</td><td>-0.8816736</td><td>325.8447</td><td>176.7425</td><td>0.6629859</td><td>0.24698506</td><td>0.7145996</td><td>200=</td><td>200</td><td>Tiles</td></tr>\n",
       "\t<tr><td>11</td><td>61554806</td><td>61555005</td><td>11:61554806-61555005   </td><td>.</td><td>+</td><td>-0.7791248</td><td>609.2923</td><td>355.0390</td><td>0.8632774</td><td>0.38343441</td><td>0.5239386</td><td>200=</td><td>200</td><td>Tiles</td></tr>\n",
       "\t<tr><td>11</td><td>61554806</td><td>61555005</td><td>11:61554806-61555005_RC</td><td>.</td><td>-</td><td>-0.8319054</td><td>336.9266</td><td>189.0981</td><td>0.2785033</td><td>0.06727408</td><td>1.3138630</td><td>200=</td><td>200</td><td>Tiles</td></tr>\n",
       "\t<tr><td>11</td><td>61554811</td><td>61555010</td><td>11:61554811-61555010   </td><td>.</td><td>+</td><td>-0.3964017</td><td>643.6583</td><td>489.5357</td><td>0.2609375</td><td>0.06229715</td><td>0.6604212</td><td>200=</td><td>200</td><td>Tiles</td></tr>\n",
       "\t<tr><td>11</td><td>61554811</td><td>61555010</td><td>11:61554811-61555010_RC</td><td>.</td><td>-</td><td>-0.3913234</td><td>310.1877</td><td>236.2906</td><td>0.1807929</td><td>0.04025238</td><td>0.8881207</td><td>200=</td><td>200</td><td>Tiles</td></tr>\n",
       "</tbody>\n",
       "</table>\n"
      ],
      "text/latex": [
       "A tibble: 6 × 15\n",
       "\\begin{tabular}{lllllllllllllll}\n",
       " chr & start & stop & id & score & strand & log2fc & input-count & output-count & log10pval & log10fdr & lfc-se & cigar & md-tag & project\\\\\n",
       " <dbl> & <dbl> & <dbl> & <chr> & <chr> & <chr> & <dbl> & <dbl> & <dbl> & <dbl> & <dbl> & <dbl> & <chr> & <chr> & <chr>\\\\\n",
       "\\hline\n",
       "\t 11 & 61554801 & 61555000 & 11:61554801-61555000    & . & + & -0.8576390 & 539.0699 & 297.7152 & 0.9314836 & 0.43422007 & 0.5472744 & 200= & 200 & Tiles\\\\\n",
       "\t 11 & 61554801 & 61555000 & 11:61554801-61555000\\_RC & . & - & -0.8816736 & 325.8447 & 176.7425 & 0.6629859 & 0.24698506 & 0.7145996 & 200= & 200 & Tiles\\\\\n",
       "\t 11 & 61554806 & 61555005 & 11:61554806-61555005    & . & + & -0.7791248 & 609.2923 & 355.0390 & 0.8632774 & 0.38343441 & 0.5239386 & 200= & 200 & Tiles\\\\\n",
       "\t 11 & 61554806 & 61555005 & 11:61554806-61555005\\_RC & . & - & -0.8319054 & 336.9266 & 189.0981 & 0.2785033 & 0.06727408 & 1.3138630 & 200= & 200 & Tiles\\\\\n",
       "\t 11 & 61554811 & 61555010 & 11:61554811-61555010    & . & + & -0.3964017 & 643.6583 & 489.5357 & 0.2609375 & 0.06229715 & 0.6604212 & 200= & 200 & Tiles\\\\\n",
       "\t 11 & 61554811 & 61555010 & 11:61554811-61555010\\_RC & . & - & -0.3913234 & 310.1877 & 236.2906 & 0.1807929 & 0.04025238 & 0.8881207 & 200= & 200 & Tiles\\\\\n",
       "\\end{tabular}\n"
      ],
      "text/markdown": [
       "\n",
       "A tibble: 6 × 15\n",
       "\n",
       "| chr &lt;dbl&gt; | start &lt;dbl&gt; | stop &lt;dbl&gt; | id &lt;chr&gt; | score &lt;chr&gt; | strand &lt;chr&gt; | log2fc &lt;dbl&gt; | input-count &lt;dbl&gt; | output-count &lt;dbl&gt; | log10pval &lt;dbl&gt; | log10fdr &lt;dbl&gt; | lfc-se &lt;dbl&gt; | cigar &lt;chr&gt; | md-tag &lt;chr&gt; | project &lt;chr&gt; |\n",
       "|---|---|---|---|---|---|---|---|---|---|---|---|---|---|---|\n",
       "| 11 | 61554801 | 61555000 | 11:61554801-61555000    | . | + | -0.8576390 | 539.0699 | 297.7152 | 0.9314836 | 0.43422007 | 0.5472744 | 200= | 200 | Tiles |\n",
       "| 11 | 61554801 | 61555000 | 11:61554801-61555000_RC | . | - | -0.8816736 | 325.8447 | 176.7425 | 0.6629859 | 0.24698506 | 0.7145996 | 200= | 200 | Tiles |\n",
       "| 11 | 61554806 | 61555005 | 11:61554806-61555005    | . | + | -0.7791248 | 609.2923 | 355.0390 | 0.8632774 | 0.38343441 | 0.5239386 | 200= | 200 | Tiles |\n",
       "| 11 | 61554806 | 61555005 | 11:61554806-61555005_RC | . | - | -0.8319054 | 336.9266 | 189.0981 | 0.2785033 | 0.06727408 | 1.3138630 | 200= | 200 | Tiles |\n",
       "| 11 | 61554811 | 61555010 | 11:61554811-61555010    | . | + | -0.3964017 | 643.6583 | 489.5357 | 0.2609375 | 0.06229715 | 0.6604212 | 200= | 200 | Tiles |\n",
       "| 11 | 61554811 | 61555010 | 11:61554811-61555010_RC | . | - | -0.3913234 | 310.1877 | 236.2906 | 0.1807929 | 0.04025238 | 0.8881207 | 200= | 200 | Tiles |\n",
       "\n"
      ],
      "text/plain": [
       "  chr start    stop     id                      score strand log2fc    \n",
       "1 11  61554801 61555000 11:61554801-61555000    .     +      -0.8576390\n",
       "2 11  61554801 61555000 11:61554801-61555000_RC .     -      -0.8816736\n",
       "3 11  61554806 61555005 11:61554806-61555005    .     +      -0.7791248\n",
       "4 11  61554806 61555005 11:61554806-61555005_RC .     -      -0.8319054\n",
       "5 11  61554811 61555010 11:61554811-61555010    .     +      -0.3964017\n",
       "6 11  61554811 61555010 11:61554811-61555010_RC .     -      -0.3913234\n",
       "  input-count output-count log10pval log10fdr   lfc-se    cigar md-tag project\n",
       "1 539.0699    297.7152     0.9314836 0.43422007 0.5472744 200=  200    Tiles  \n",
       "2 325.8447    176.7425     0.6629859 0.24698506 0.7145996 200=  200    Tiles  \n",
       "3 609.2923    355.0390     0.8632774 0.38343441 0.5239386 200=  200    Tiles  \n",
       "4 336.9266    189.0981     0.2785033 0.06727408 1.3138630 200=  200    Tiles  \n",
       "5 643.6583    489.5357     0.2609375 0.06229715 0.6604212 200=  200    Tiles  \n",
       "6 310.1877    236.2906     0.1807929 0.04025238 0.8881207 200=  200    Tiles  "
      ]
     },
     "metadata": {},
     "output_type": "display_data"
    }
   ],
   "source": [
    "### init: set file directory and path\n",
    "fdiry = file.path(FD_RES, \"source\", \"syn22348180\")\n",
    "fname = \"FADS_Tile_K562_K562_20200905.bed\"\n",
    "fpath = file.path(fdiry, fname)\n",
    "\n",
    "dat = read_tsv(fpath)\n",
    "\n",
    "### assign\n",
    "dat_tmpra_fads_v1 = dat\n",
    "print(dim(dat))\n",
    "head(dat)"
   ]
  },
  {
   "cell_type": "code",
   "execution_count": 7,
   "id": "98c7f51f",
   "metadata": {},
   "outputs": [
    {
     "name": "stderr",
     "output_type": "stream",
     "text": [
      "\u001b[1mRows: \u001b[22m\u001b[34m57010\u001b[39m \u001b[1mColumns: \u001b[22m\u001b[34m15\u001b[39m\n",
      "\u001b[36m──\u001b[39m \u001b[1mColumn specification\u001b[22m \u001b[36m──────────────────────────────────────────────────────────────\u001b[39m\n",
      "\u001b[1mDelimiter:\u001b[22m \"\\t\"\n",
      "\u001b[31mchr\u001b[39m (7): chr, id, score, strand, cigar, md-tag, project\n",
      "\u001b[32mdbl\u001b[39m (8): start, stop, log2fc, input-count, output-count, log10pval, log10fdr...\n",
      "\n",
      "\u001b[36mℹ\u001b[39m Use `spec()` to retrieve the full column specification for this data.\n",
      "\u001b[36mℹ\u001b[39m Specify the column types or set `show_col_types = FALSE` to quiet this message.\n"
     ]
    },
    {
     "name": "stdout",
     "output_type": "stream",
     "text": [
      "[1] 57010    15\n"
     ]
    },
    {
     "data": {
      "text/html": [
       "<table class=\"dataframe\">\n",
       "<caption>A tibble: 6 × 15</caption>\n",
       "<thead>\n",
       "\t<tr><th scope=col>chr</th><th scope=col>start</th><th scope=col>stop</th><th scope=col>id</th><th scope=col>score</th><th scope=col>strand</th><th scope=col>log2fc</th><th scope=col>input-count</th><th scope=col>output-count</th><th scope=col>log10pval</th><th scope=col>log10fdr</th><th scope=col>lfc-se</th><th scope=col>cigar</th><th scope=col>md-tag</th><th scope=col>project</th></tr>\n",
       "\t<tr><th scope=col>&lt;chr&gt;</th><th scope=col>&lt;dbl&gt;</th><th scope=col>&lt;dbl&gt;</th><th scope=col>&lt;chr&gt;</th><th scope=col>&lt;chr&gt;</th><th scope=col>&lt;chr&gt;</th><th scope=col>&lt;dbl&gt;</th><th scope=col>&lt;dbl&gt;</th><th scope=col>&lt;dbl&gt;</th><th scope=col>&lt;dbl&gt;</th><th scope=col>&lt;dbl&gt;</th><th scope=col>&lt;dbl&gt;</th><th scope=col>&lt;chr&gt;</th><th scope=col>&lt;chr&gt;</th><th scope=col>&lt;chr&gt;</th></tr>\n",
       "</thead>\n",
       "<tbody>\n",
       "\t<tr><td>chr11</td><td>61787329</td><td>61787528</td><td>11:61554801-61555000   </td><td>.</td><td>+</td><td>-0.8576390</td><td>539.0699</td><td>297.7152</td><td>0.9314836</td><td>0.43422007</td><td>0.5472744</td><td>200=</td><td>200</td><td>Tiles</td></tr>\n",
       "\t<tr><td>chr11</td><td>61787329</td><td>61787528</td><td>11:61554801-61555000_RC</td><td>.</td><td>-</td><td>-0.8816736</td><td>325.8447</td><td>176.7425</td><td>0.6629859</td><td>0.24698506</td><td>0.7145996</td><td>200=</td><td>200</td><td>Tiles</td></tr>\n",
       "\t<tr><td>chr11</td><td>61787334</td><td>61787533</td><td>11:61554806-61555005   </td><td>.</td><td>+</td><td>-0.7791248</td><td>609.2923</td><td>355.0390</td><td>0.8632774</td><td>0.38343441</td><td>0.5239386</td><td>200=</td><td>200</td><td>Tiles</td></tr>\n",
       "\t<tr><td>chr11</td><td>61787334</td><td>61787533</td><td>11:61554806-61555005_RC</td><td>.</td><td>-</td><td>-0.8319054</td><td>336.9266</td><td>189.0981</td><td>0.2785033</td><td>0.06727408</td><td>1.3138630</td><td>200=</td><td>200</td><td>Tiles</td></tr>\n",
       "\t<tr><td>chr11</td><td>61787339</td><td>61787538</td><td>11:61554811-61555010   </td><td>.</td><td>+</td><td>-0.3964017</td><td>643.6583</td><td>489.5357</td><td>0.2609375</td><td>0.06229715</td><td>0.6604212</td><td>200=</td><td>200</td><td>Tiles</td></tr>\n",
       "\t<tr><td>chr11</td><td>61787339</td><td>61787538</td><td>11:61554811-61555010_RC</td><td>.</td><td>-</td><td>-0.3913234</td><td>310.1877</td><td>236.2906</td><td>0.1807929</td><td>0.04025238</td><td>0.8881207</td><td>200=</td><td>200</td><td>Tiles</td></tr>\n",
       "</tbody>\n",
       "</table>\n"
      ],
      "text/latex": [
       "A tibble: 6 × 15\n",
       "\\begin{tabular}{lllllllllllllll}\n",
       " chr & start & stop & id & score & strand & log2fc & input-count & output-count & log10pval & log10fdr & lfc-se & cigar & md-tag & project\\\\\n",
       " <chr> & <dbl> & <dbl> & <chr> & <chr> & <chr> & <dbl> & <dbl> & <dbl> & <dbl> & <dbl> & <dbl> & <chr> & <chr> & <chr>\\\\\n",
       "\\hline\n",
       "\t chr11 & 61787329 & 61787528 & 11:61554801-61555000    & . & + & -0.8576390 & 539.0699 & 297.7152 & 0.9314836 & 0.43422007 & 0.5472744 & 200= & 200 & Tiles\\\\\n",
       "\t chr11 & 61787329 & 61787528 & 11:61554801-61555000\\_RC & . & - & -0.8816736 & 325.8447 & 176.7425 & 0.6629859 & 0.24698506 & 0.7145996 & 200= & 200 & Tiles\\\\\n",
       "\t chr11 & 61787334 & 61787533 & 11:61554806-61555005    & . & + & -0.7791248 & 609.2923 & 355.0390 & 0.8632774 & 0.38343441 & 0.5239386 & 200= & 200 & Tiles\\\\\n",
       "\t chr11 & 61787334 & 61787533 & 11:61554806-61555005\\_RC & . & - & -0.8319054 & 336.9266 & 189.0981 & 0.2785033 & 0.06727408 & 1.3138630 & 200= & 200 & Tiles\\\\\n",
       "\t chr11 & 61787339 & 61787538 & 11:61554811-61555010    & . & + & -0.3964017 & 643.6583 & 489.5357 & 0.2609375 & 0.06229715 & 0.6604212 & 200= & 200 & Tiles\\\\\n",
       "\t chr11 & 61787339 & 61787538 & 11:61554811-61555010\\_RC & . & - & -0.3913234 & 310.1877 & 236.2906 & 0.1807929 & 0.04025238 & 0.8881207 & 200= & 200 & Tiles\\\\\n",
       "\\end{tabular}\n"
      ],
      "text/markdown": [
       "\n",
       "A tibble: 6 × 15\n",
       "\n",
       "| chr &lt;chr&gt; | start &lt;dbl&gt; | stop &lt;dbl&gt; | id &lt;chr&gt; | score &lt;chr&gt; | strand &lt;chr&gt; | log2fc &lt;dbl&gt; | input-count &lt;dbl&gt; | output-count &lt;dbl&gt; | log10pval &lt;dbl&gt; | log10fdr &lt;dbl&gt; | lfc-se &lt;dbl&gt; | cigar &lt;chr&gt; | md-tag &lt;chr&gt; | project &lt;chr&gt; |\n",
       "|---|---|---|---|---|---|---|---|---|---|---|---|---|---|---|\n",
       "| chr11 | 61787329 | 61787528 | 11:61554801-61555000    | . | + | -0.8576390 | 539.0699 | 297.7152 | 0.9314836 | 0.43422007 | 0.5472744 | 200= | 200 | Tiles |\n",
       "| chr11 | 61787329 | 61787528 | 11:61554801-61555000_RC | . | - | -0.8816736 | 325.8447 | 176.7425 | 0.6629859 | 0.24698506 | 0.7145996 | 200= | 200 | Tiles |\n",
       "| chr11 | 61787334 | 61787533 | 11:61554806-61555005    | . | + | -0.7791248 | 609.2923 | 355.0390 | 0.8632774 | 0.38343441 | 0.5239386 | 200= | 200 | Tiles |\n",
       "| chr11 | 61787334 | 61787533 | 11:61554806-61555005_RC | . | - | -0.8319054 | 336.9266 | 189.0981 | 0.2785033 | 0.06727408 | 1.3138630 | 200= | 200 | Tiles |\n",
       "| chr11 | 61787339 | 61787538 | 11:61554811-61555010    | . | + | -0.3964017 | 643.6583 | 489.5357 | 0.2609375 | 0.06229715 | 0.6604212 | 200= | 200 | Tiles |\n",
       "| chr11 | 61787339 | 61787538 | 11:61554811-61555010_RC | . | - | -0.3913234 | 310.1877 | 236.2906 | 0.1807929 | 0.04025238 | 0.8881207 | 200= | 200 | Tiles |\n",
       "\n"
      ],
      "text/plain": [
       "  chr   start    stop     id                      score strand log2fc    \n",
       "1 chr11 61787329 61787528 11:61554801-61555000    .     +      -0.8576390\n",
       "2 chr11 61787329 61787528 11:61554801-61555000_RC .     -      -0.8816736\n",
       "3 chr11 61787334 61787533 11:61554806-61555005    .     +      -0.7791248\n",
       "4 chr11 61787334 61787533 11:61554806-61555005_RC .     -      -0.8319054\n",
       "5 chr11 61787339 61787538 11:61554811-61555010    .     +      -0.3964017\n",
       "6 chr11 61787339 61787538 11:61554811-61555010_RC .     -      -0.3913234\n",
       "  input-count output-count log10pval log10fdr   lfc-se    cigar md-tag project\n",
       "1 539.0699    297.7152     0.9314836 0.43422007 0.5472744 200=  200    Tiles  \n",
       "2 325.8447    176.7425     0.6629859 0.24698506 0.7145996 200=  200    Tiles  \n",
       "3 609.2923    355.0390     0.8632774 0.38343441 0.5239386 200=  200    Tiles  \n",
       "4 336.9266    189.0981     0.2785033 0.06727408 1.3138630 200=  200    Tiles  \n",
       "5 643.6583    489.5357     0.2609375 0.06229715 0.6604212 200=  200    Tiles  \n",
       "6 310.1877    236.2906     0.1807929 0.04025238 0.8881207 200=  200    Tiles  "
      ]
     },
     "metadata": {},
     "output_type": "display_data"
    }
   ],
   "source": [
    "### init: set file directory and path\n",
    "fdiry = file.path(FD_RES, \"source\", \"syn22348180\")\n",
    "fname = \"FADS_Tile_K562_K562_20200905.hg38.txt\"\n",
    "fpath = file.path(fdiry, fname)\n",
    "\n",
    "dat = read_tsv(fpath)\n",
    "\n",
    "### assign\n",
    "dat_tmpra_fads_v2 = dat\n",
    "print(dim(dat))\n",
    "head(dat)"
   ]
  },
  {
   "cell_type": "code",
   "execution_count": 8,
   "id": "72d3b4f7",
   "metadata": {},
   "outputs": [
    {
     "data": {
      "text/plain": [
       "\n",
       "emVarCtrl   expCtrl   negCtrl       SNV     Tiles \n",
       "       80        18       150     12432     44330 "
      ]
     },
     "metadata": {},
     "output_type": "display_data"
    }
   ],
   "source": [
    "dat = dat_tmpra_fads_v1\n",
    "table(dat$project)"
   ]
  },
  {
   "cell_type": "code",
   "execution_count": 9,
   "id": "74d688f9",
   "metadata": {},
   "outputs": [
    {
     "data": {
      "text/plain": [
       "\n",
       "emVarCtrl   expCtrl   negCtrl       SNV     Tiles \n",
       "       80        18       150     12432     44330 "
      ]
     },
     "metadata": {},
     "output_type": "display_data"
    }
   ],
   "source": [
    "dat = dat_tmpra_fads_v2\n",
    "table(dat$project)"
   ]
  },
  {
   "cell_type": "markdown",
   "id": "8a32fcbf",
   "metadata": {},
   "source": [
    "## Get ranges"
   ]
  },
  {
   "cell_type": "code",
   "execution_count": 12,
   "id": "6dc85896",
   "metadata": {},
   "outputs": [
    {
     "name": "stdout",
     "output_type": "stream",
     "text": [
      "[1] 47786401 49786750\n",
      "[1] \"\"\n",
      "[1] 126735901 128736250\n",
      "[1] \"\"\n",
      "[1] 61554801 61665820\n",
      "[1] \"\"\n",
      "[1] 61787329 61898348\n"
     ]
    }
   ],
   "source": [
    "dat = dat_tmpra_gata1\n",
    "print(range(c(dat$Start, dat$End)))\n",
    "print(\"\")\n",
    "\n",
    "dat = dat_tmpra_myc\n",
    "print(range(c(dat$Start, dat$End)))\n",
    "print(\"\")\n",
    "\n",
    "dat = dat_tmpra_fads_v1\n",
    "dat = dat %>% dplyr::filter(project == \"Tiles\")\n",
    "print(range(c(dat$start, dat$stop)))\n",
    "print(\"\")\n",
    "\n",
    "dat = dat_tmpra_fads_v2\n",
    "dat = dat %>% dplyr::filter(project == \"Tiles\")\n",
    "print(range(c(dat$start, dat$stop)))"
   ]
  },
  {
   "cell_type": "code",
   "execution_count": 11,
   "id": "e4e14787",
   "metadata": {},
   "outputs": [
    {
     "name": "stdout",
     "output_type": "stream",
     "text": [
      "[1] 47786401 49786750\n",
      "[1] \"\"\n",
      "[1] 126735901 128736250\n",
      "[1] \"\"\n",
      "[1] 61554801 61665820\n",
      "[1] \"\"\n",
      "[1] 61787329 61898348\n"
     ]
    }
   ],
   "source": [
    "dat = dat_tmpra_gata1\n",
    "print(range(c(dat$Start, dat$End)))\n",
    "print(\"\")\n",
    "\n",
    "dat = dat_tmpra_myc\n",
    "print(range(c(dat$Start, dat$End)))\n",
    "print(\"\")\n",
    "\n",
    "dat = dat_tmpra_fads_v1\n",
    "dat = dat %>% dplyr::filter(project == \"Tiles\") %>% na.omit\n",
    "print(range(c(dat$start, dat$stop)))\n",
    "print(\"\")\n",
    "\n",
    "dat = dat_tmpra_fads_v2\n",
    "dat = dat %>% dplyr::filter(project == \"Tiles\") %>% na.omit\n",
    "print(range(c(dat$start, dat$stop)))"
   ]
  },
  {
   "cell_type": "code",
   "execution_count": null,
   "id": "e6f1986d",
   "metadata": {},
   "outputs": [],
   "source": [
    "dat = dat_tmpra_gata1\n",
    "print(range(c(dat$Start, dat$End)))\n",
    "print(\"\")\n",
    "\n",
    "dat = dat_tmpra_myc\n",
    "print(range(c(dat$Start, dat$End)))\n",
    "print(\"\")\n",
    "\n",
    "dat = dat_tmpra_fads_v1\n",
    "dat = dat %>% dplyr::filter(project == \"Tiles\") %>% na.omit\n",
    "print(range(c(dat$start, dat$stop)))\n",
    "print(\"\")\n",
    "\n",
    "dat = dat_tmpra_fads_v2\n",
    "dat = dat %>% dplyr::filter(project == \"Tiles\") %>% na.omit\n",
    "print(range(c(dat$start, dat$stop)))"
   ]
  },
  {
   "cell_type": "markdown",
   "id": "9c49f81d",
   "metadata": {},
   "source": [
    "## Check ranges"
   ]
  },
  {
   "cell_type": "code",
   "execution_count": 54,
   "id": "e6ced6d4",
   "metadata": {},
   "outputs": [],
   "source": [
    "dat = dat_tmpra_fads_v1\n",
    "dat = dat %>% dplyr::filter(project == \"Tiles\")"
   ]
  },
  {
   "cell_type": "code",
   "execution_count": 55,
   "id": "d2f274ea",
   "metadata": {},
   "outputs": [
    {
     "data": {
      "text/html": [
       "<table class=\"dataframe\">\n",
       "<caption>A tibble: 6 × 15</caption>\n",
       "<thead>\n",
       "\t<tr><th scope=col>chr</th><th scope=col>start</th><th scope=col>stop</th><th scope=col>id</th><th scope=col>score</th><th scope=col>strand</th><th scope=col>log2fc</th><th scope=col>input-count</th><th scope=col>output-count</th><th scope=col>log10pval</th><th scope=col>log10fdr</th><th scope=col>lfc-se</th><th scope=col>cigar</th><th scope=col>md-tag</th><th scope=col>project</th></tr>\n",
       "\t<tr><th scope=col>&lt;dbl&gt;</th><th scope=col>&lt;dbl&gt;</th><th scope=col>&lt;dbl&gt;</th><th scope=col>&lt;chr&gt;</th><th scope=col>&lt;chr&gt;</th><th scope=col>&lt;chr&gt;</th><th scope=col>&lt;dbl&gt;</th><th scope=col>&lt;dbl&gt;</th><th scope=col>&lt;dbl&gt;</th><th scope=col>&lt;dbl&gt;</th><th scope=col>&lt;dbl&gt;</th><th scope=col>&lt;dbl&gt;</th><th scope=col>&lt;chr&gt;</th><th scope=col>&lt;chr&gt;</th><th scope=col>&lt;chr&gt;</th></tr>\n",
       "</thead>\n",
       "<tbody>\n",
       "\t<tr><td>11</td><td>61554801</td><td>61555000</td><td>11:61554801-61555000   </td><td>.</td><td>+</td><td>-0.8576390</td><td>539.0699</td><td>297.7152</td><td>0.9314836</td><td>0.43422007</td><td>0.5472744</td><td>200=</td><td>200</td><td>Tiles</td></tr>\n",
       "\t<tr><td>11</td><td>61554801</td><td>61555000</td><td>11:61554801-61555000_RC</td><td>.</td><td>-</td><td>-0.8816736</td><td>325.8447</td><td>176.7425</td><td>0.6629859</td><td>0.24698506</td><td>0.7145996</td><td>200=</td><td>200</td><td>Tiles</td></tr>\n",
       "\t<tr><td>11</td><td>61554806</td><td>61555005</td><td>11:61554806-61555005   </td><td>.</td><td>+</td><td>-0.7791248</td><td>609.2923</td><td>355.0390</td><td>0.8632774</td><td>0.38343441</td><td>0.5239386</td><td>200=</td><td>200</td><td>Tiles</td></tr>\n",
       "\t<tr><td>11</td><td>61554806</td><td>61555005</td><td>11:61554806-61555005_RC</td><td>.</td><td>-</td><td>-0.8319054</td><td>336.9266</td><td>189.0981</td><td>0.2785033</td><td>0.06727408</td><td>1.3138630</td><td>200=</td><td>200</td><td>Tiles</td></tr>\n",
       "\t<tr><td>11</td><td>61554811</td><td>61555010</td><td>11:61554811-61555010   </td><td>.</td><td>+</td><td>-0.3964017</td><td>643.6583</td><td>489.5357</td><td>0.2609375</td><td>0.06229715</td><td>0.6604212</td><td>200=</td><td>200</td><td>Tiles</td></tr>\n",
       "\t<tr><td>11</td><td>61554811</td><td>61555010</td><td>11:61554811-61555010_RC</td><td>.</td><td>-</td><td>-0.3913234</td><td>310.1877</td><td>236.2906</td><td>0.1807929</td><td>0.04025238</td><td>0.8881207</td><td>200=</td><td>200</td><td>Tiles</td></tr>\n",
       "</tbody>\n",
       "</table>\n"
      ],
      "text/latex": [
       "A tibble: 6 × 15\n",
       "\\begin{tabular}{lllllllllllllll}\n",
       " chr & start & stop & id & score & strand & log2fc & input-count & output-count & log10pval & log10fdr & lfc-se & cigar & md-tag & project\\\\\n",
       " <dbl> & <dbl> & <dbl> & <chr> & <chr> & <chr> & <dbl> & <dbl> & <dbl> & <dbl> & <dbl> & <dbl> & <chr> & <chr> & <chr>\\\\\n",
       "\\hline\n",
       "\t 11 & 61554801 & 61555000 & 11:61554801-61555000    & . & + & -0.8576390 & 539.0699 & 297.7152 & 0.9314836 & 0.43422007 & 0.5472744 & 200= & 200 & Tiles\\\\\n",
       "\t 11 & 61554801 & 61555000 & 11:61554801-61555000\\_RC & . & - & -0.8816736 & 325.8447 & 176.7425 & 0.6629859 & 0.24698506 & 0.7145996 & 200= & 200 & Tiles\\\\\n",
       "\t 11 & 61554806 & 61555005 & 11:61554806-61555005    & . & + & -0.7791248 & 609.2923 & 355.0390 & 0.8632774 & 0.38343441 & 0.5239386 & 200= & 200 & Tiles\\\\\n",
       "\t 11 & 61554806 & 61555005 & 11:61554806-61555005\\_RC & . & - & -0.8319054 & 336.9266 & 189.0981 & 0.2785033 & 0.06727408 & 1.3138630 & 200= & 200 & Tiles\\\\\n",
       "\t 11 & 61554811 & 61555010 & 11:61554811-61555010    & . & + & -0.3964017 & 643.6583 & 489.5357 & 0.2609375 & 0.06229715 & 0.6604212 & 200= & 200 & Tiles\\\\\n",
       "\t 11 & 61554811 & 61555010 & 11:61554811-61555010\\_RC & . & - & -0.3913234 & 310.1877 & 236.2906 & 0.1807929 & 0.04025238 & 0.8881207 & 200= & 200 & Tiles\\\\\n",
       "\\end{tabular}\n"
      ],
      "text/markdown": [
       "\n",
       "A tibble: 6 × 15\n",
       "\n",
       "| chr &lt;dbl&gt; | start &lt;dbl&gt; | stop &lt;dbl&gt; | id &lt;chr&gt; | score &lt;chr&gt; | strand &lt;chr&gt; | log2fc &lt;dbl&gt; | input-count &lt;dbl&gt; | output-count &lt;dbl&gt; | log10pval &lt;dbl&gt; | log10fdr &lt;dbl&gt; | lfc-se &lt;dbl&gt; | cigar &lt;chr&gt; | md-tag &lt;chr&gt; | project &lt;chr&gt; |\n",
       "|---|---|---|---|---|---|---|---|---|---|---|---|---|---|---|\n",
       "| 11 | 61554801 | 61555000 | 11:61554801-61555000    | . | + | -0.8576390 | 539.0699 | 297.7152 | 0.9314836 | 0.43422007 | 0.5472744 | 200= | 200 | Tiles |\n",
       "| 11 | 61554801 | 61555000 | 11:61554801-61555000_RC | . | - | -0.8816736 | 325.8447 | 176.7425 | 0.6629859 | 0.24698506 | 0.7145996 | 200= | 200 | Tiles |\n",
       "| 11 | 61554806 | 61555005 | 11:61554806-61555005    | . | + | -0.7791248 | 609.2923 | 355.0390 | 0.8632774 | 0.38343441 | 0.5239386 | 200= | 200 | Tiles |\n",
       "| 11 | 61554806 | 61555005 | 11:61554806-61555005_RC | . | - | -0.8319054 | 336.9266 | 189.0981 | 0.2785033 | 0.06727408 | 1.3138630 | 200= | 200 | Tiles |\n",
       "| 11 | 61554811 | 61555010 | 11:61554811-61555010    | . | + | -0.3964017 | 643.6583 | 489.5357 | 0.2609375 | 0.06229715 | 0.6604212 | 200= | 200 | Tiles |\n",
       "| 11 | 61554811 | 61555010 | 11:61554811-61555010_RC | . | - | -0.3913234 | 310.1877 | 236.2906 | 0.1807929 | 0.04025238 | 0.8881207 | 200= | 200 | Tiles |\n",
       "\n"
      ],
      "text/plain": [
       "  chr start    stop     id                      score strand log2fc    \n",
       "1 11  61554801 61555000 11:61554801-61555000    .     +      -0.8576390\n",
       "2 11  61554801 61555000 11:61554801-61555000_RC .     -      -0.8816736\n",
       "3 11  61554806 61555005 11:61554806-61555005    .     +      -0.7791248\n",
       "4 11  61554806 61555005 11:61554806-61555005_RC .     -      -0.8319054\n",
       "5 11  61554811 61555010 11:61554811-61555010    .     +      -0.3964017\n",
       "6 11  61554811 61555010 11:61554811-61555010_RC .     -      -0.3913234\n",
       "  input-count output-count log10pval log10fdr   lfc-se    cigar md-tag project\n",
       "1 539.0699    297.7152     0.9314836 0.43422007 0.5472744 200=  200    Tiles  \n",
       "2 325.8447    176.7425     0.6629859 0.24698506 0.7145996 200=  200    Tiles  \n",
       "3 609.2923    355.0390     0.8632774 0.38343441 0.5239386 200=  200    Tiles  \n",
       "4 336.9266    189.0981     0.2785033 0.06727408 1.3138630 200=  200    Tiles  \n",
       "5 643.6583    489.5357     0.2609375 0.06229715 0.6604212 200=  200    Tiles  \n",
       "6 310.1877    236.2906     0.1807929 0.04025238 0.8881207 200=  200    Tiles  "
      ]
     },
     "metadata": {},
     "output_type": "display_data"
    }
   ],
   "source": [
    "head(dat)"
   ]
  },
  {
   "cell_type": "code",
   "execution_count": 56,
   "id": "395bb390",
   "metadata": {},
   "outputs": [
    {
     "data": {
      "text/html": [
       "<table class=\"dataframe\">\n",
       "<caption>A tibble: 6 × 15</caption>\n",
       "<thead>\n",
       "\t<tr><th scope=col>chr</th><th scope=col>start</th><th scope=col>stop</th><th scope=col>id</th><th scope=col>score</th><th scope=col>strand</th><th scope=col>log2fc</th><th scope=col>input-count</th><th scope=col>output-count</th><th scope=col>log10pval</th><th scope=col>log10fdr</th><th scope=col>lfc-se</th><th scope=col>cigar</th><th scope=col>md-tag</th><th scope=col>project</th></tr>\n",
       "\t<tr><th scope=col>&lt;dbl&gt;</th><th scope=col>&lt;dbl&gt;</th><th scope=col>&lt;dbl&gt;</th><th scope=col>&lt;chr&gt;</th><th scope=col>&lt;chr&gt;</th><th scope=col>&lt;chr&gt;</th><th scope=col>&lt;dbl&gt;</th><th scope=col>&lt;dbl&gt;</th><th scope=col>&lt;dbl&gt;</th><th scope=col>&lt;dbl&gt;</th><th scope=col>&lt;dbl&gt;</th><th scope=col>&lt;dbl&gt;</th><th scope=col>&lt;chr&gt;</th><th scope=col>&lt;chr&gt;</th><th scope=col>&lt;chr&gt;</th></tr>\n",
       "</thead>\n",
       "<tbody>\n",
       "\t<tr><td>11</td><td>61665611</td><td>61665810</td><td>11:61665611-61665810   </td><td>.</td><td>+</td><td>2.101654</td><td>481.9083</td><td>2067.9387</td><td>26.649888</td><td>25.477589</td><td>0.1938902</td><td>200=</td><td>200</td><td>Tiles</td></tr>\n",
       "\t<tr><td>11</td><td>61665611</td><td>61665810</td><td>11:61665611-61665810_RC</td><td>.</td><td>-</td><td>1.959121</td><td>269.5204</td><td>1048.7288</td><td> 4.433756</td><td> 3.647195</td><td>0.4747664</td><td>200=</td><td>200</td><td>Tiles</td></tr>\n",
       "\t<tr><td>11</td><td>61665616</td><td>61665815</td><td>11:61665616-61665815   </td><td>.</td><td>+</td><td>1.605776</td><td>406.3309</td><td>1236.8094</td><td> 9.266047</td><td> 8.341086</td><td>0.2587269</td><td>200=</td><td>200</td><td>Tiles</td></tr>\n",
       "\t<tr><td>11</td><td>61665616</td><td>61665815</td><td>11:61665616-61665815_RC</td><td>.</td><td>-</td><td>3.216579</td><td>199.8125</td><td>1859.0363</td><td>31.059478</td><td>29.847384</td><td>0.2741676</td><td>200=</td><td>200</td><td>Tiles</td></tr>\n",
       "\t<tr><td>11</td><td>61665621</td><td>61665820</td><td>11:61665621-61665820   </td><td>.</td><td>+</td><td>2.223525</td><td>295.6481</td><td>1379.4242</td><td>20.216513</td><td>19.118282</td><td>0.2368298</td><td>200=</td><td>200</td><td>Tiles</td></tr>\n",
       "\t<tr><td>11</td><td>61665621</td><td>61665820</td><td>11:61665621-61665820_RC</td><td>.</td><td>-</td><td>1.421994</td><td>209.7314</td><td> 562.0364</td><td> 2.959251</td><td> 2.243254</td><td>0.4356550</td><td>200=</td><td>200</td><td>Tiles</td></tr>\n",
       "</tbody>\n",
       "</table>\n"
      ],
      "text/latex": [
       "A tibble: 6 × 15\n",
       "\\begin{tabular}{lllllllllllllll}\n",
       " chr & start & stop & id & score & strand & log2fc & input-count & output-count & log10pval & log10fdr & lfc-se & cigar & md-tag & project\\\\\n",
       " <dbl> & <dbl> & <dbl> & <chr> & <chr> & <chr> & <dbl> & <dbl> & <dbl> & <dbl> & <dbl> & <dbl> & <chr> & <chr> & <chr>\\\\\n",
       "\\hline\n",
       "\t 11 & 61665611 & 61665810 & 11:61665611-61665810    & . & + & 2.101654 & 481.9083 & 2067.9387 & 26.649888 & 25.477589 & 0.1938902 & 200= & 200 & Tiles\\\\\n",
       "\t 11 & 61665611 & 61665810 & 11:61665611-61665810\\_RC & . & - & 1.959121 & 269.5204 & 1048.7288 &  4.433756 &  3.647195 & 0.4747664 & 200= & 200 & Tiles\\\\\n",
       "\t 11 & 61665616 & 61665815 & 11:61665616-61665815    & . & + & 1.605776 & 406.3309 & 1236.8094 &  9.266047 &  8.341086 & 0.2587269 & 200= & 200 & Tiles\\\\\n",
       "\t 11 & 61665616 & 61665815 & 11:61665616-61665815\\_RC & . & - & 3.216579 & 199.8125 & 1859.0363 & 31.059478 & 29.847384 & 0.2741676 & 200= & 200 & Tiles\\\\\n",
       "\t 11 & 61665621 & 61665820 & 11:61665621-61665820    & . & + & 2.223525 & 295.6481 & 1379.4242 & 20.216513 & 19.118282 & 0.2368298 & 200= & 200 & Tiles\\\\\n",
       "\t 11 & 61665621 & 61665820 & 11:61665621-61665820\\_RC & . & - & 1.421994 & 209.7314 &  562.0364 &  2.959251 &  2.243254 & 0.4356550 & 200= & 200 & Tiles\\\\\n",
       "\\end{tabular}\n"
      ],
      "text/markdown": [
       "\n",
       "A tibble: 6 × 15\n",
       "\n",
       "| chr &lt;dbl&gt; | start &lt;dbl&gt; | stop &lt;dbl&gt; | id &lt;chr&gt; | score &lt;chr&gt; | strand &lt;chr&gt; | log2fc &lt;dbl&gt; | input-count &lt;dbl&gt; | output-count &lt;dbl&gt; | log10pval &lt;dbl&gt; | log10fdr &lt;dbl&gt; | lfc-se &lt;dbl&gt; | cigar &lt;chr&gt; | md-tag &lt;chr&gt; | project &lt;chr&gt; |\n",
       "|---|---|---|---|---|---|---|---|---|---|---|---|---|---|---|\n",
       "| 11 | 61665611 | 61665810 | 11:61665611-61665810    | . | + | 2.101654 | 481.9083 | 2067.9387 | 26.649888 | 25.477589 | 0.1938902 | 200= | 200 | Tiles |\n",
       "| 11 | 61665611 | 61665810 | 11:61665611-61665810_RC | . | - | 1.959121 | 269.5204 | 1048.7288 |  4.433756 |  3.647195 | 0.4747664 | 200= | 200 | Tiles |\n",
       "| 11 | 61665616 | 61665815 | 11:61665616-61665815    | . | + | 1.605776 | 406.3309 | 1236.8094 |  9.266047 |  8.341086 | 0.2587269 | 200= | 200 | Tiles |\n",
       "| 11 | 61665616 | 61665815 | 11:61665616-61665815_RC | . | - | 3.216579 | 199.8125 | 1859.0363 | 31.059478 | 29.847384 | 0.2741676 | 200= | 200 | Tiles |\n",
       "| 11 | 61665621 | 61665820 | 11:61665621-61665820    | . | + | 2.223525 | 295.6481 | 1379.4242 | 20.216513 | 19.118282 | 0.2368298 | 200= | 200 | Tiles |\n",
       "| 11 | 61665621 | 61665820 | 11:61665621-61665820_RC | . | - | 1.421994 | 209.7314 |  562.0364 |  2.959251 |  2.243254 | 0.4356550 | 200= | 200 | Tiles |\n",
       "\n"
      ],
      "text/plain": [
       "  chr start    stop     id                      score strand log2fc  \n",
       "1 11  61665611 61665810 11:61665611-61665810    .     +      2.101654\n",
       "2 11  61665611 61665810 11:61665611-61665810_RC .     -      1.959121\n",
       "3 11  61665616 61665815 11:61665616-61665815    .     +      1.605776\n",
       "4 11  61665616 61665815 11:61665616-61665815_RC .     -      3.216579\n",
       "5 11  61665621 61665820 11:61665621-61665820    .     +      2.223525\n",
       "6 11  61665621 61665820 11:61665621-61665820_RC .     -      1.421994\n",
       "  input-count output-count log10pval log10fdr  lfc-se    cigar md-tag project\n",
       "1 481.9083    2067.9387    26.649888 25.477589 0.1938902 200=  200    Tiles  \n",
       "2 269.5204    1048.7288     4.433756  3.647195 0.4747664 200=  200    Tiles  \n",
       "3 406.3309    1236.8094     9.266047  8.341086 0.2587269 200=  200    Tiles  \n",
       "4 199.8125    1859.0363    31.059478 29.847384 0.2741676 200=  200    Tiles  \n",
       "5 295.6481    1379.4242    20.216513 19.118282 0.2368298 200=  200    Tiles  \n",
       "6 209.7314     562.0364     2.959251  2.243254 0.4356550 200=  200    Tiles  "
      ]
     },
     "metadata": {},
     "output_type": "display_data"
    }
   ],
   "source": [
    "tail(dat)"
   ]
  },
  {
   "cell_type": "code",
   "execution_count": 57,
   "id": "200bba20",
   "metadata": {},
   "outputs": [
    {
     "data": {
      "text/html": [
       "<style>\n",
       ".list-inline {list-style: none; margin:0; padding: 0}\n",
       ".list-inline>li {display: inline-block}\n",
       ".list-inline>li:not(:last-child)::after {content: \"\\00b7\"; padding: 0 .5ex}\n",
       "</style>\n",
       "<ol class=list-inline><li>44330</li><li>15</li></ol>\n"
      ],
      "text/latex": [
       "\\begin{enumerate*}\n",
       "\\item 44330\n",
       "\\item 15\n",
       "\\end{enumerate*}\n"
      ],
      "text/markdown": [
       "1. 44330\n",
       "2. 15\n",
       "\n",
       "\n"
      ],
      "text/plain": [
       "[1] 44330    15"
      ]
     },
     "metadata": {},
     "output_type": "display_data"
    }
   ],
   "source": [
    "dim(dat)"
   ]
  },
  {
   "cell_type": "code",
   "execution_count": 58,
   "id": "22b63372",
   "metadata": {},
   "outputs": [
    {
     "data": {
      "text/html": [
       "22165"
      ],
      "text/latex": [
       "22165"
      ],
      "text/markdown": [
       "22165"
      ],
      "text/plain": [
       "[1] 22165"
      ]
     },
     "metadata": {},
     "output_type": "display_data"
    }
   ],
   "source": [
    "44330 / 2"
   ]
  },
  {
   "cell_type": "code",
   "execution_count": 59,
   "id": "11904696",
   "metadata": {},
   "outputs": [
    {
     "data": {
      "text/html": [
       "61665621"
      ],
      "text/latex": [
       "61665621"
      ],
      "text/markdown": [
       "61665621"
      ],
      "text/plain": [
       "[1] 61665621"
      ]
     },
     "metadata": {},
     "output_type": "display_data"
    }
   ],
   "source": [
    "61554801 + (22165-1) * 5"
   ]
  },
  {
   "cell_type": "code",
   "execution_count": 43,
   "id": "b95a48c4",
   "metadata": {},
   "outputs": [
    {
     "name": "stdout",
     "output_type": "stream",
     "text": [
      "[1] 47786401 49786750\n",
      "[1] \"\"\n",
      "[1] 126735901 128736250\n",
      "[1] \"\"\n",
      "[1] 61554801 61665820\n"
     ]
    }
   ],
   "source": [
    "dat = dat_tmpra_gata1\n",
    "print(range(c(dat$Start, dat$End)))\n",
    "print(\"\")\n",
    "\n",
    "dat = dat_tmpra_myc\n",
    "print(range(c(dat$Start, dat$End)))\n",
    "print(\"\")\n",
    "\n",
    "dat = dat_tmpra_fads\n",
    "dat = dat %>% dplyr::filter(project == \"Tiles\")\n",
    "print(range(c(dat$start, dat$stop)))"
   ]
  },
  {
   "cell_type": "markdown",
   "id": "ff4a0c2b",
   "metadata": {},
   "source": [
    "## Set region\n",
    "\n",
    "**GATA1** `chrX:47786400-49786750`\n",
    "\n",
    "**MYC** `chr8:126735900-128736250`\n",
    "\n",
    "**FADS** `chr11:61554800-61665820`"
   ]
  },
  {
   "cell_type": "markdown",
   "id": "adb50cff",
   "metadata": {},
   "source": [
    "GATA1\n",
    "\n",
    "MYC\n",
    "FADS"
   ]
  },
  {
   "cell_type": "code",
   "execution_count": 8,
   "id": "25dbfad4",
   "metadata": {},
   "outputs": [
    {
     "data": {
      "text/html": [
       "<table class=\"dataframe\">\n",
       "<caption>A tibble: 6 × 15</caption>\n",
       "<thead>\n",
       "\t<tr><th scope=col>chr</th><th scope=col>start</th><th scope=col>stop</th><th scope=col>id</th><th scope=col>score</th><th scope=col>strand</th><th scope=col>log2fc</th><th scope=col>input-count</th><th scope=col>output-count</th><th scope=col>log10pval</th><th scope=col>log10fdr</th><th scope=col>lfc-se</th><th scope=col>cigar</th><th scope=col>md-tag</th><th scope=col>project</th></tr>\n",
       "\t<tr><th scope=col>&lt;chr&gt;</th><th scope=col>&lt;dbl&gt;</th><th scope=col>&lt;dbl&gt;</th><th scope=col>&lt;chr&gt;</th><th scope=col>&lt;chr&gt;</th><th scope=col>&lt;chr&gt;</th><th scope=col>&lt;dbl&gt;</th><th scope=col>&lt;dbl&gt;</th><th scope=col>&lt;dbl&gt;</th><th scope=col>&lt;dbl&gt;</th><th scope=col>&lt;dbl&gt;</th><th scope=col>&lt;dbl&gt;</th><th scope=col>&lt;chr&gt;</th><th scope=col>&lt;chr&gt;</th><th scope=col>&lt;chr&gt;</th></tr>\n",
       "</thead>\n",
       "<tbody>\n",
       "\t<tr><td>chr11</td><td>61554801</td><td>61555000</td><td>11:61554801-61555000   </td><td>.</td><td>+</td><td>-0.8576390</td><td>539.0699</td><td>297.7152</td><td>0.9314836</td><td>0.43422007</td><td>0.5472744</td><td>200=</td><td>200</td><td>Tiles</td></tr>\n",
       "\t<tr><td>chr11</td><td>61554801</td><td>61555000</td><td>11:61554801-61555000_RC</td><td>.</td><td>-</td><td>-0.8816736</td><td>325.8447</td><td>176.7425</td><td>0.6629859</td><td>0.24698506</td><td>0.7145996</td><td>200=</td><td>200</td><td>Tiles</td></tr>\n",
       "\t<tr><td>chr11</td><td>61554806</td><td>61555005</td><td>11:61554806-61555005   </td><td>.</td><td>+</td><td>-0.7791248</td><td>609.2923</td><td>355.0390</td><td>0.8632774</td><td>0.38343441</td><td>0.5239386</td><td>200=</td><td>200</td><td>Tiles</td></tr>\n",
       "\t<tr><td>chr11</td><td>61554806</td><td>61555005</td><td>11:61554806-61555005_RC</td><td>.</td><td>-</td><td>-0.8319054</td><td>336.9266</td><td>189.0981</td><td>0.2785033</td><td>0.06727408</td><td>1.3138630</td><td>200=</td><td>200</td><td>Tiles</td></tr>\n",
       "\t<tr><td>chr11</td><td>61554811</td><td>61555010</td><td>11:61554811-61555010   </td><td>.</td><td>+</td><td>-0.3964017</td><td>643.6583</td><td>489.5357</td><td>0.2609375</td><td>0.06229715</td><td>0.6604212</td><td>200=</td><td>200</td><td>Tiles</td></tr>\n",
       "\t<tr><td>chr11</td><td>61554811</td><td>61555010</td><td>11:61554811-61555010_RC</td><td>.</td><td>-</td><td>-0.3913234</td><td>310.1877</td><td>236.2906</td><td>0.1807929</td><td>0.04025238</td><td>0.8881207</td><td>200=</td><td>200</td><td>Tiles</td></tr>\n",
       "</tbody>\n",
       "</table>\n"
      ],
      "text/latex": [
       "A tibble: 6 × 15\n",
       "\\begin{tabular}{lllllllllllllll}\n",
       " chr & start & stop & id & score & strand & log2fc & input-count & output-count & log10pval & log10fdr & lfc-se & cigar & md-tag & project\\\\\n",
       " <chr> & <dbl> & <dbl> & <chr> & <chr> & <chr> & <dbl> & <dbl> & <dbl> & <dbl> & <dbl> & <dbl> & <chr> & <chr> & <chr>\\\\\n",
       "\\hline\n",
       "\t chr11 & 61554801 & 61555000 & 11:61554801-61555000    & . & + & -0.8576390 & 539.0699 & 297.7152 & 0.9314836 & 0.43422007 & 0.5472744 & 200= & 200 & Tiles\\\\\n",
       "\t chr11 & 61554801 & 61555000 & 11:61554801-61555000\\_RC & . & - & -0.8816736 & 325.8447 & 176.7425 & 0.6629859 & 0.24698506 & 0.7145996 & 200= & 200 & Tiles\\\\\n",
       "\t chr11 & 61554806 & 61555005 & 11:61554806-61555005    & . & + & -0.7791248 & 609.2923 & 355.0390 & 0.8632774 & 0.38343441 & 0.5239386 & 200= & 200 & Tiles\\\\\n",
       "\t chr11 & 61554806 & 61555005 & 11:61554806-61555005\\_RC & . & - & -0.8319054 & 336.9266 & 189.0981 & 0.2785033 & 0.06727408 & 1.3138630 & 200= & 200 & Tiles\\\\\n",
       "\t chr11 & 61554811 & 61555010 & 11:61554811-61555010    & . & + & -0.3964017 & 643.6583 & 489.5357 & 0.2609375 & 0.06229715 & 0.6604212 & 200= & 200 & Tiles\\\\\n",
       "\t chr11 & 61554811 & 61555010 & 11:61554811-61555010\\_RC & . & - & -0.3913234 & 310.1877 & 236.2906 & 0.1807929 & 0.04025238 & 0.8881207 & 200= & 200 & Tiles\\\\\n",
       "\\end{tabular}\n"
      ],
      "text/markdown": [
       "\n",
       "A tibble: 6 × 15\n",
       "\n",
       "| chr &lt;chr&gt; | start &lt;dbl&gt; | stop &lt;dbl&gt; | id &lt;chr&gt; | score &lt;chr&gt; | strand &lt;chr&gt; | log2fc &lt;dbl&gt; | input-count &lt;dbl&gt; | output-count &lt;dbl&gt; | log10pval &lt;dbl&gt; | log10fdr &lt;dbl&gt; | lfc-se &lt;dbl&gt; | cigar &lt;chr&gt; | md-tag &lt;chr&gt; | project &lt;chr&gt; |\n",
       "|---|---|---|---|---|---|---|---|---|---|---|---|---|---|---|\n",
       "| chr11 | 61554801 | 61555000 | 11:61554801-61555000    | . | + | -0.8576390 | 539.0699 | 297.7152 | 0.9314836 | 0.43422007 | 0.5472744 | 200= | 200 | Tiles |\n",
       "| chr11 | 61554801 | 61555000 | 11:61554801-61555000_RC | . | - | -0.8816736 | 325.8447 | 176.7425 | 0.6629859 | 0.24698506 | 0.7145996 | 200= | 200 | Tiles |\n",
       "| chr11 | 61554806 | 61555005 | 11:61554806-61555005    | . | + | -0.7791248 | 609.2923 | 355.0390 | 0.8632774 | 0.38343441 | 0.5239386 | 200= | 200 | Tiles |\n",
       "| chr11 | 61554806 | 61555005 | 11:61554806-61555005_RC | . | - | -0.8319054 | 336.9266 | 189.0981 | 0.2785033 | 0.06727408 | 1.3138630 | 200= | 200 | Tiles |\n",
       "| chr11 | 61554811 | 61555010 | 11:61554811-61555010    | . | + | -0.3964017 | 643.6583 | 489.5357 | 0.2609375 | 0.06229715 | 0.6604212 | 200= | 200 | Tiles |\n",
       "| chr11 | 61554811 | 61555010 | 11:61554811-61555010_RC | . | - | -0.3913234 | 310.1877 | 236.2906 | 0.1807929 | 0.04025238 | 0.8881207 | 200= | 200 | Tiles |\n",
       "\n"
      ],
      "text/plain": [
       "  chr   start    stop     id                      score strand log2fc    \n",
       "1 chr11 61554801 61555000 11:61554801-61555000    .     +      -0.8576390\n",
       "2 chr11 61554801 61555000 11:61554801-61555000_RC .     -      -0.8816736\n",
       "3 chr11 61554806 61555005 11:61554806-61555005    .     +      -0.7791248\n",
       "4 chr11 61554806 61555005 11:61554806-61555005_RC .     -      -0.8319054\n",
       "5 chr11 61554811 61555010 11:61554811-61555010    .     +      -0.3964017\n",
       "6 chr11 61554811 61555010 11:61554811-61555010_RC .     -      -0.3913234\n",
       "  input-count output-count log10pval log10fdr   lfc-se    cigar md-tag project\n",
       "1 539.0699    297.7152     0.9314836 0.43422007 0.5472744 200=  200    Tiles  \n",
       "2 325.8447    176.7425     0.6629859 0.24698506 0.7145996 200=  200    Tiles  \n",
       "3 609.2923    355.0390     0.8632774 0.38343441 0.5239386 200=  200    Tiles  \n",
       "4 336.9266    189.0981     0.2785033 0.06727408 1.3138630 200=  200    Tiles  \n",
       "5 643.6583    489.5357     0.2609375 0.06229715 0.6604212 200=  200    Tiles  \n",
       "6 310.1877    236.2906     0.1807929 0.04025238 0.8881207 200=  200    Tiles  "
      ]
     },
     "metadata": {},
     "output_type": "display_data"
    }
   ],
   "source": [
    "dat = dat %>% mutate(chr=paste0(\"chr\", chr))\n",
    "head(dat)"
   ]
  },
  {
   "cell_type": "code",
   "execution_count": null,
   "id": "3fc768bb",
   "metadata": {},
   "outputs": [],
   "source": [
    "### init: set column names\n",
    "cnames = c(\"Chrom\", \"Start\", \"End\", \"ID\", \"Score\", \"Strand\", \n",
    "           \"log2fc\", \"Input_Count\", \"Output_Count\", \n",
    "           \"log10pval\", \"log10fdr\", \"lfc-se\")\n",
    "\n",
    "### import data\n",
    "dat = read_tsv(fpath, col_names = cnames, show_col_types = FALSE)\n",
    "#dat = dat %>% mutate(Loc = (Start + End) / 2)\n",
    "\n",
    "### assign\n",
    "dat_tmpra_myc = dat\n",
    "print(dim(dat_tmpra_myc))\n",
    "head(dat_tmpra_myc)"
   ]
  }
 ],
 "metadata": {
  "kernelspec": {
   "display_name": "R",
   "language": "R",
   "name": "ir"
  },
  "language_info": {
   "codemirror_mode": "r",
   "file_extension": ".r",
   "mimetype": "text/x-r-source",
   "name": "R",
   "pygments_lexer": "r",
   "version": "4.2.0"
  }
 },
 "nbformat": 4,
 "nbformat_minor": 5
}
