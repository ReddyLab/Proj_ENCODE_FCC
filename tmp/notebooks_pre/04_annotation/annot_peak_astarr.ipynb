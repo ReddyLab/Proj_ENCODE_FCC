{
 "cells": [
  {
   "cell_type": "markdown",
   "id": "46b94190-fc5a-4c17-9081-795bbf50b744",
   "metadata": {},
   "source": [
    "**Set environment**"
   ]
  },
  {
   "cell_type": "code",
   "execution_count": 1,
   "id": "1705ce59-3cd1-446b-9aa9-b60d8f566f80",
   "metadata": {},
   "outputs": [],
   "source": [
    "### set env\n",
    "source ../config_duke.sh -v\n",
    "source ../config_load_module_bedtools.sh"
   ]
  },
  {
   "cell_type": "code",
   "execution_count": 2,
   "id": "15d29f95-ce9e-4adc-8e40-a06831028112",
   "metadata": {},
   "outputs": [
    {
     "name": "stdout",
     "output_type": "stream",
     "text": [
      "\u001b[0m\u001b[38;5;27mcCREs\u001b[0m      \u001b[38;5;27mstarrseq_220510\u001b[0m     \u001b[38;5;27msyn22348180\u001b[0m  \u001b[38;5;27mtmp\u001b[0m\n",
      "\u001b[38;5;27mremap2022\u001b[0m  \u001b[38;5;27mstarrseq_peak_macs\u001b[0m  \u001b[38;5;27msyn26435687\u001b[0m\n"
     ]
    }
   ],
   "source": [
    "ls ${FD_RES}/source"
   ]
  },
  {
   "cell_type": "markdown",
   "id": "d511c462-eaeb-402f-a5fe-fbbcf104b34a",
   "metadata": {},
   "source": [
    "**Check data**"
   ]
  },
  {
   "cell_type": "code",
   "execution_count": 3,
   "id": "2335d327-56ca-40c0-8565-2b99137a0c62",
   "metadata": {},
   "outputs": [
    {
     "name": "stdout",
     "output_type": "stream",
     "text": [
      "KS91_K562_hg38_ASTARRseq_Input.all_reps.masked.union_narrowPeak.q5.bed\n"
     ]
    }
   ],
   "source": [
    "ls ${FD_RES}/source/starrseq_peak_macs"
   ]
  },
  {
   "cell_type": "code",
   "execution_count": 4,
   "id": "cae6c8bd-e02a-4fec-b479-6a15c14c4999",
   "metadata": {},
   "outputs": [
    {
     "name": "stdout",
     "output_type": "stream",
     "text": [
      "ENCFF971AHO_ENCFF847JMY_ENCFF779QTH_ENCFF405AYC.7group.bed\n"
     ]
    }
   ],
   "source": [
    "ls ${FD_RES}/source/cCREs"
   ]
  },
  {
   "cell_type": "code",
   "execution_count": 5,
   "id": "34edd082-b03a-43de-8123-300e74a20f0f",
   "metadata": {},
   "outputs": [
    {
     "name": "stdout",
     "output_type": "stream",
     "text": [
      "\u001b[0m\u001b[38;5;9mremap2022_K562_all_macs2_hg38_v1_0.bed.gz\u001b[0m\n",
      "\u001b[38;5;9mremap2022_K562_crm_macs2_hg38_v1_0.bed.gz\u001b[0m\n",
      "\u001b[38;5;9mremap2022_K562_nr_macs2_hg38_v1_0.bed.gz\u001b[0m\n"
     ]
    }
   ],
   "source": [
    "ls ${FD_RES}/source/remap2022"
   ]
  },
  {
   "cell_type": "code",
   "execution_count": 6,
   "id": "8e9214fa-7057-45ce-9750-43223f300fcf",
   "metadata": {},
   "outputs": [
    {
     "name": "stdout",
     "output_type": "stream",
     "text": [
      "chr1\t9829\t10459\tMNT,NCOA1,ZNF24,NFATC3,EHMT2,TCF12,SMARCE1,AFF1,EP400,MCM3,HDAC1,E2F8,NR2C1,PRDM10,NUFIP1,LEF1,MCM5,ZBTB40,NONO,TRIM24,SNIP1,ZNF184,ZBTB5\t148\t.\t10101\t10102\t204,120,188\n",
      "chr1\t136455\t137130\tNCOR1,HDAC1,MTA3,L3MBTL2,DPF2,ZBTB33,HES1,HDGF,ATF3,CTBP1,SMARCA5,BRD9,ZNF639,EGR1,NFIC,HDAC2,SKIL,SMARCE1,NR2C1,ARID1B,TRIM24,ZBTB40,ZBTB2,ZNF592\t33\t.\t136762\t136763\t1,115,178\n",
      "chr1\t181203\t181789\tCTCFL,SETDB1\t14\t.\t181462\t181463\t2,158,115\n",
      "chr1\t267963\t268138\tCTCF,RAD21\t84\t.\t268034\t268035\t202,145,97\n",
      "chr1\t586110\t586241\tRAD21\t14\t.\t586192\t586193\t222,143,5\n",
      "chr1\t605324\t605608\tMYC,CTCFL,MAX,E2F6,RBFOX2\t11\t.\t605440\t605441\t251,175,228\n",
      "chr1\t609289\t609559\tCTCF,ZBTB33\t15\t.\t609392\t609393\t202,145,97\n",
      "chr1\t610470\t610796\tZBTB33,CTCF\t26\t.\t610653\t610654\t1,115,178\n",
      "chr1\t611372\t611806\tZBTB33\t2\t.\t611520\t611521\t2,158,115\n",
      "chr1\t629069\t629435\tTARDBP\t7\t.\t629240\t629241\t213,94,0\n",
      "\n",
      "gzip: stdout: Broken pipe\n"
     ]
    }
   ],
   "source": [
    "zcat ${FD_RES}/source/remap2022/remap2022_K562_crm_macs2_hg38_v1_0.bed.gz | head"
   ]
  },
  {
   "cell_type": "markdown",
   "id": "4e86bb5c-6e40-4b1d-be00-6bba7f954146",
   "metadata": {},
   "source": [
    "## Annotation with CCRE"
   ]
  },
  {
   "cell_type": "code",
   "execution_count": 7,
   "id": "6171368a-41d4-4698-8a6b-2b1c35939946",
   "metadata": {},
   "outputs": [
    {
     "name": "stdout",
     "output_type": "stream",
     "text": [
      "Submitted batch job 28340053\n"
     ]
    }
   ],
   "source": [
    "sbatch -p ${NODE} \\\n",
    "    --mem 20G \\\n",
    "    -o ${FD_LOG}/annotation_astarr_input_ccre.out.txt \\\n",
    "    -e ${FD_LOG}/annotation_astarr_input_ccre.err.txt \\\n",
    "    <<'EOF'\n",
    "#!/bin/bash\n",
    "### set directories & global variables\n",
    "source ../config_duke.sh\n",
    "\n",
    "### set input and output\n",
    "FD_BED=${FD_RES}/source/starrseq_peak_macs\n",
    "FN_BED=KS91_K562_hg38_ASTARRseq_Input.all_reps.masked.union_narrowPeak.q5.bed\n",
    "FP_BED=${FD_BED}/${FN_BED}\n",
    "\n",
    "FD_ANN=${FD_RES}/source/cCREs\n",
    "FN_ANN=ENCFF971AHO_ENCFF847JMY_ENCFF779QTH_ENCFF405AYC.7group.bed\n",
    "FP_ANN=${FD_ANN}/${FN_ANN}\n",
    "\n",
    "FD_OUT=${FD_RES}/KS91_K562_ASTARRseq/annotation\n",
    "FN_OUT=KS91_K562_hg38_ASTARRseq_Input.all_reps.union_narrowPeak.ccre_all.bed.gz\n",
    "FP_OUT=${FD_OUT}/${FN_OUT}\n",
    "\n",
    "### print start message\n",
    "timer_start=`date +%s`\n",
    "echo \"Slurm Array Index: \" ${SLURM_ARRAY_TASK_ID}\n",
    "echo \"Time Stamp:        \" $(date +\"%m-%d-%y+%T\")\n",
    "echo\n",
    "echo \"Input  file 1: \" ${FP_BED}\n",
    "echo \"Input  file 2: \" ${FP_ANN}\n",
    "echo \"Output file:   \" ${FP_OUT}\n",
    "echo\n",
    "echo \"Show the first few lines of the input file\"\n",
    "echo ${FP_BED}\n",
    "cat  ${FP_BED} | head -n 3 \n",
    "echo\n",
    "echo ${FP_ANN}\n",
    "cat  ${FP_ANN} | head -n 3 \n",
    "echo\n",
    "\n",
    "### annotation using intersect\n",
    "bedtools intersect -a ${FP_BED} -b ${FP_ANN} -wo -F 1.0 | gzip -c > ${FP_OUT}\n",
    "\n",
    "### print end message\n",
    "echo \"Show the first few lines of the output file\"\n",
    "echo ${FP_OUT}\n",
    "zcat ${FP_OUT} | head -n 3\n",
    "echo\n",
    "\n",
    "timer=`date +%s`\n",
    "runtime=$(echo \"${timer} - ${timer_start}\" | bc -l)\n",
    "echo\n",
    "echo 'Done!'\n",
    "echo \"Run Time: $(displaytime ${runtime})\"\n",
    "\n",
    "EOF"
   ]
  },
  {
   "cell_type": "markdown",
   "id": "021592a7-73b9-41cb-9e99-3039b246154e",
   "metadata": {},
   "source": [
    "## Annotate with ReMap"
   ]
  },
  {
   "cell_type": "code",
   "execution_count": 8,
   "id": "25159aed-0993-4900-b301-1c8c0443a34b",
   "metadata": {},
   "outputs": [
    {
     "name": "stdout",
     "output_type": "stream",
     "text": [
      "Submitted batch job 28340054\n"
     ]
    }
   ],
   "source": [
    "sbatch -p ${NODE} \\\n",
    "    --mem 20G \\\n",
    "    -o ${FD_LOG}/annotation_astarr_input_remap.out.txt \\\n",
    "    -e ${FD_LOG}/annotation_astarr_input_remap.err.txt \\\n",
    "    <<'EOF'\n",
    "#!/bin/bash\n",
    "### set directories & global variables\n",
    "source ../config_duke.sh\n",
    "\n",
    "### set input and output\n",
    "FD_BED=${FD_RES}/source/starrseq_peak_macs\n",
    "FN_BED=KS91_K562_hg38_ASTARRseq_Input.all_reps.masked.union_narrowPeak.q5.bed\n",
    "FP_BED=${FD_BED}/${FN_BED}\n",
    "\n",
    "FD_ANN=${FD_RES}/source/remap2022\n",
    "FN_ANN=remap2022_K562_nr_macs2_hg38_v1_0.bed.gz\n",
    "FP_ANN=${FD_ANN}/${FN_ANN}\n",
    "\n",
    "FD_OUT=${FD_RES}/KS91_K562_ASTARRseq/annotation\n",
    "FN_OUT=KS91_K562_hg38_ASTARRseq_Input.all_reps.union_narrowPeak.remap2022_nr.bed.gz\n",
    "FP_OUT=${FD_OUT}/${FN_OUT}\n",
    "\n",
    "### print start message\n",
    "timer_start=`date +%s`\n",
    "echo \"Slurm Array Index: \" ${SLURM_ARRAY_TASK_ID}\n",
    "echo \"Time Stamp:        \" $(date +\"%m-%d-%y+%T\")\n",
    "echo\n",
    "echo \"Input  file 1: \" ${FP_BED}\n",
    "echo \"Input  file 2: \" ${FP_ANN}\n",
    "echo \"Output file:   \" ${FP_OUT}\n",
    "echo\n",
    "echo \"Show the first few lines of the input file\"\n",
    "echo  ${FP_BED}\n",
    "cat   ${FP_BED} | head -n 3 \n",
    "echo\n",
    "echo  ${FP_ANN}\n",
    "zcat  ${FP_ANN} | head -n 3 \n",
    "echo\n",
    "\n",
    "### annotation using intersect\n",
    "bedtools intersect -a ${FP_BED} -b ${FP_ANN} -wo -F 1.0 | gzip -c > ${FP_OUT}\n",
    "\n",
    "### print end message\n",
    "echo \"Show the first few lines of the output file\"\n",
    "echo ${FP_OUT}\n",
    "zcat ${FP_OUT} | head -n 3\n",
    "echo\n",
    "\n",
    "timer=`date +%s`\n",
    "runtime=$(echo \"${timer} - ${timer_start}\" | bc -l)\n",
    "echo\n",
    "echo 'Done!'\n",
    "echo \"Run Time: $(displaytime ${runtime})\"\n",
    "\n",
    "EOF"
   ]
  },
  {
   "cell_type": "markdown",
   "id": "616d72ce-63a7-4d30-b5f3-8548d734972c",
   "metadata": {},
   "source": [
    "## Check results"
   ]
  },
  {
   "cell_type": "code",
   "execution_count": 9,
   "id": "2ef74cc6-90b6-433c-ba21-d04d3d3ce17b",
   "metadata": {},
   "outputs": [
    {
     "name": "stdout",
     "output_type": "stream",
     "text": [
      "Slurm Array Index: \n",
      "Time Stamp:         05-28-22+15:45:36\n",
      "\n",
      "Input  file 1:  /gpfs/fs1/data/reddylab/Kuei/out/proj_combeffect_encode_fcc/source/starrseq_peak_macs/KS91_K562_hg38_ASTARRseq_Input.all_reps.masked.union_narrowPeak.q5.bed\n",
      "Input  file 2:  /gpfs/fs1/data/reddylab/Kuei/out/proj_combeffect_encode_fcc/source/cCREs/ENCFF971AHO_ENCFF847JMY_ENCFF779QTH_ENCFF405AYC.7group.bed\n",
      "Output file:    /gpfs/fs1/data/reddylab/Kuei/out/proj_combeffect_encode_fcc/KS91_K562_ASTARRseq/annotation/KS91_K562_hg38_ASTARRseq_Input.all_reps.union_narrowPeak.ccre_all.bed.gz\n",
      "\n",
      "Show the first few lines of the input file\n",
      "/gpfs/fs1/data/reddylab/Kuei/out/proj_combeffect_encode_fcc/source/starrseq_peak_macs/KS91_K562_hg38_ASTARRseq_Input.all_reps.masked.union_narrowPeak.q5.bed\n",
      "chr1\t10015\t10442\n",
      "chr1\t14253\t14645\n",
      "chr1\t16015\t16477\n",
      "\n",
      "/gpfs/fs1/data/reddylab/Kuei/out/proj_combeffect_encode_fcc/source/cCREs/ENCFF971AHO_ENCFF847JMY_ENCFF779QTH_ENCFF405AYC.7group.bed\n",
      "chr1\t181251\t181601\tEH38E1310153\t0\t.\t181251\t181601\t6,218,147\tDNase-only\tAll-data/Full-classification\n",
      "chr1\t190865\t191071\tEH38E1310154\t0\t.\t190865\t191071\t225,225,225\tLow-DNase\tAll-data/Full-classification\n",
      "chr1\t778562\t778912\tEH38E1310158\t0\t.\t778562\t778912\t255,0,0\tPLS,CTCF-bound\tAll-data/Full-classification\n",
      "\n",
      "Show the first few lines of the output file\n",
      "/gpfs/fs1/data/reddylab/Kuei/out/proj_combeffect_encode_fcc/KS91_K562_ASTARRseq/annotation/KS91_K562_hg38_ASTARRseq_Input.all_reps.union_narrowPeak.ccre_all.bed.gz\n",
      "chr1\t180982\t182087\tchr1\t181251\t181601\tEH38E1310153\t0\t.\t181251\t181601\t6,218,147\tDNase-only\tAll-data/Full-classification\t350\n",
      "chr1\t777949\t779437\tchr1\t778562\t778912\tEH38E1310158\t0\t.\t778562\t778912\t255,0,0\tPLS,CTCF-bound\tAll-data/Full-classification\t350\n",
      "chr1\t777949\t779437\tchr1\t779086\t779355\tEH38E1310159\t0\t.\t779086\t779355\t255,0,0\tPLS\tAll-data/Full-classification\t269\n",
      "\n",
      "\n",
      "Done!\n",
      "Run Time: 5 seconds\n"
     ]
    }
   ],
   "source": [
    "cat ${FD_LOG}/annotation_astarr_input_ccre.out.txt"
   ]
  },
  {
   "cell_type": "code",
   "execution_count": 10,
   "id": "d2f9d9e6-8b31-4603-bdb8-0a90d232c95a",
   "metadata": {},
   "outputs": [],
   "source": [
    "cat ${FD_LOG}/annotation_astarr_input_ccre.err.txt"
   ]
  },
  {
   "cell_type": "code",
   "execution_count": 11,
   "id": "db98b67b-3117-4307-8a7c-eab2cb7ce410",
   "metadata": {},
   "outputs": [
    {
     "name": "stdout",
     "output_type": "stream",
     "text": [
      "Slurm Array Index: \n",
      "Time Stamp:         05-28-22+15:45:36\n",
      "\n",
      "Input  file 1:  /gpfs/fs1/data/reddylab/Kuei/out/proj_combeffect_encode_fcc/source/starrseq_peak_macs/KS91_K562_hg38_ASTARRseq_Input.all_reps.masked.union_narrowPeak.q5.bed\n",
      "Input  file 2:  /gpfs/fs1/data/reddylab/Kuei/out/proj_combeffect_encode_fcc/source/remap2022/remap2022_K562_nr_macs2_hg38_v1_0.bed.gz\n",
      "Output file:    /gpfs/fs1/data/reddylab/Kuei/out/proj_combeffect_encode_fcc/KS91_K562_ASTARRseq/annotation/KS91_K562_hg38_ASTARRseq_Input.all_reps.union_narrowPeak.remap2022_nr.bed.gz\n",
      "\n",
      "Show the first few lines of the input file\n",
      "/gpfs/fs1/data/reddylab/Kuei/out/proj_combeffect_encode_fcc/source/starrseq_peak_macs/KS91_K562_hg38_ASTARRseq_Input.all_reps.masked.union_narrowPeak.q5.bed\n",
      "chr1\t10015\t10442\n",
      "chr1\t14253\t14645\n",
      "chr1\t16015\t16477\n",
      "\n",
      "/gpfs/fs1/data/reddylab/Kuei/out/proj_combeffect_encode_fcc/source/remap2022/remap2022_K562_nr_macs2_hg38_v1_0.bed.gz\n",
      "chr1\t9899\t10349\tEP400:K-562\t1\t.\t10089\t10090\t102,132,184\n",
      "chr1\t9901\t10232\tNCOA1:K-562\t1\t.\t10078\t10079\t56,224,224\n",
      "chr1\t9902\t10328\tZBTB40:MCF-7,Hep-G2,K-562,GM12878\t4\t.\t10093\t10094\t73,149,46\n",
      "\n",
      "Show the first few lines of the output file\n",
      "/gpfs/fs1/data/reddylab/Kuei/out/proj_combeffect_encode_fcc/KS91_K562_ASTARRseq/annotation/KS91_K562_hg38_ASTARRseq_Input.all_reps.union_narrowPeak.remap2022_nr.bed.gz\n",
      "chr1\t10015\t10442\tchr1\t10016\t10229\tZBTB5:K-562\t1\t.\t10108\t10109\t215,95,8\t213\n",
      "chr1\t136071\t137429\tchr1\t136239\t136897\tZBTB33:K-562\t1\t.\t136734\t136735\t252,224,252\t658\n",
      "chr1\t136071\t137429\tchr1\t136277\t137062\tEGR1:K-562\t2\t.\t136757\t136758\t56,224,140\t785\n",
      "\n",
      "\n",
      "Done!\n",
      "Run Time: 1 minutes and 8 seconds\n"
     ]
    }
   ],
   "source": [
    "cat ${FD_LOG}/annotation_astarr_input_remap.out.txt"
   ]
  },
  {
   "cell_type": "code",
   "execution_count": 13,
   "id": "72482316-341a-4922-8c6d-b7ff1fa0d3a3",
   "metadata": {},
   "outputs": [],
   "source": [
    "cat ${FD_LOG}/annotation_astarr_input_remap.err.txt"
   ]
  },
  {
   "cell_type": "code",
   "execution_count": null,
   "id": "01fffd31-59ef-4a7d-9d36-b18b272b9d25",
   "metadata": {},
   "outputs": [],
   "source": []
  }
 ],
 "metadata": {
  "kernelspec": {
   "display_name": "Bash",
   "language": "bash",
   "name": "bash"
  },
  "language_info": {
   "codemirror_mode": "shell",
   "file_extension": ".sh",
   "mimetype": "text/x-sh",
   "name": "bash"
  }
 },
 "nbformat": 4,
 "nbformat_minor": 5
}
