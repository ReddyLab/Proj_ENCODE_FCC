{
 "cells": [
  {
   "cell_type": "markdown",
   "id": "e14a787e-5ca1-419d-b011-5671c37b2df1",
   "metadata": {},
   "source": [
    "**Set environment**"
   ]
  },
  {
   "cell_type": "code",
   "execution_count": 1,
   "id": "eaacffde-0989-439f-b353-e15c26b5ab98",
   "metadata": {},
   "outputs": [
    {
     "name": "stdout",
     "output_type": "stream",
     "text": [
      "You are on Duke Server: HARDAC\n",
      "BASE DIRECTORY:     /gpfs/fs1/data/reddylab/Kuei\n",
      "PATH OF SOURCE:     /gpfs/fs1/data/reddylab/Kuei/source\n",
      "PATH OF EXECUTABLE: /gpfs/fs1/data/reddylab/Kuei/exe\n",
      "PATH OF ANNOTATION: /gpfs/fs1/data/reddylab/Kuei/annotation\n",
      "PATH OF PROJECT:    /gpfs/fs1/data/reddylab/Kuei/GitRepo/Proj_ENCODE_FCC/notebooks\n",
      "PATH OF RESULTS:    /gpfs/fs1/data/reddylab/Kuei/out/proj_encode_fcc\n",
      "\n"
     ]
    }
   ],
   "source": [
    "### set env\n",
    "source ../config_duke.sh -v\n",
    "source ../config_load_module_bedtools.sh"
   ]
  },
  {
   "cell_type": "code",
   "execution_count": 2,
   "id": "a1261fd4-1606-4335-b7a7-bcf6c1d441a0",
   "metadata": {},
   "outputs": [
    {
     "name": "stdout",
     "output_type": "stream",
     "text": [
      "Tile_K562_20210130.GATA1.unstranded.bed\n"
     ]
    }
   ],
   "source": [
    "ls ${FD_RES}/Tewhey_K562_TileMPRA/fragment"
   ]
  },
  {
   "cell_type": "code",
   "execution_count": 3,
   "id": "251cc64b-9ea4-4f1e-ae2c-bc5ed64401c4",
   "metadata": {},
   "outputs": [
    {
     "name": "stdout",
     "output_type": "stream",
     "text": [
      "chrX\t47786401\t47786600\tX:47786401-47786600\n",
      "chrX\t47786451\t47786650\tX:47786451-47786650\n",
      "chrX\t47786501\t47786700\tX:47786501-47786700\n",
      "chrX\t47786551\t47786750\tX:47786551-47786750\n",
      "chrX\t47786601\t47786800\tX:47786601-47786800\n",
      "chrX\t47786651\t47786850\tX:47786651-47786850\n",
      "chrX\t47786701\t47786900\tX:47786701-47786900\n",
      "chrX\t47786751\t47786950\tX:47786751-47786950\n",
      "chrX\t47786801\t47787000\tX:47786801-47787000\n",
      "chrX\t47786851\t47787050\tX:47786851-47787050\n"
     ]
    }
   ],
   "source": [
    "head ${FD_RES}/Tewhey_K562_TileMPRA/fragment/Tile_K562_20210130.GATA1.unstranded.bed"
   ]
  },
  {
   "cell_type": "code",
   "execution_count": 4,
   "id": "770ebfa6-d83f-400c-8828-7d7ff2bb5419",
   "metadata": {},
   "outputs": [
    {
     "name": "stdout",
     "output_type": "stream",
     "text": [
      "\u001b[0m\u001b[38;5;27m/gpfs/fs1/data/reddylab/Kuei/out/proj_encode_fcc/log\u001b[0m\n",
      "all\n"
     ]
    }
   ],
   "source": [
    "ls -d ${FD_LOG}\n",
    "echo ${NODE}"
   ]
  },
  {
   "cell_type": "code",
   "execution_count": 7,
   "id": "5e93f2b0-1ab9-4a1f-9370-6fb350b9596f",
   "metadata": {},
   "outputs": [
    {
     "name": "stdout",
     "output_type": "stream",
     "text": [
      "Submitted batch job 27849242\n"
     ]
    }
   ],
   "source": [
    "sbatch -p ${NODE} \\\n",
    "    --mem 20G \\\n",
    "    -o ${FD_LOG}/TileMPRA_annotation.txt \\\n",
    "    <<'EOF'\n",
    "#!/bin/bash\n",
    "### set directories & global variables\n",
    "source ../config_duke.sh\n",
    "CHROM=chrX\n",
    "\n",
    "### set input and output\n",
    "FD_BED=${FD_RES}/Tewhey_K562_TileMPRA/fragment\n",
    "FN_BED=Tile_K562_20210130.GATA1.unstranded.bed\n",
    "FP_BED=${FD_BED}/${FN_BED}\n",
    "\n",
    "FD_OUT=${FD_RES}/Tewhey_K562_TileMPRA/annotation\n",
    "FN_OUT=${FN_BED}.gz\n",
    "\n",
    "### motif annotation\n",
    "FD_MTF=${FD_ANN}/motif_cluster_jvierstra/hg38_archetype_motifs_v1\n",
    "FN_MTF=${CHROM}_rm_mouse_merge.bed.gz\n",
    "\n",
    "### print start message\n",
    "timer_start=`date +%s`\n",
    "echo \"Slurm Array Index: \" ${SLURM_ARRAY_TASK_ID}\n",
    "echo \"Time Stamp:        \" $(date +\"%m-%d-%y+%T\")\n",
    "echo\n",
    "echo \"Input  file: \" ${FP_BED}\n",
    "echo \"Output file: \" ${FD_OUT}/${FN_OUT}\n",
    "echo\n",
    "echo \"Show the first few lines of the input file\"\n",
    "echo ${FP_BED}\n",
    "cat  ${FP_BED} | head -n 3 \n",
    "echo\n",
    "    \n",
    "### init: create output folder if not exist\n",
    "mkdir -p ${FD_OUT}\n",
    "\n",
    "### annotation using intersect\n",
    "bedtools intersect -a ${FP_BED} -b ${FD_MTF}/${FN_MTF} -wo -F 1.0 |\\\n",
    "    gzip -c > ${FD_OUT}/${FN_OUT}\n",
    "\n",
    "### print end message\n",
    "echo \"Show the first few lines of the output file\"\n",
    "echo ${FD_OUT}/${FN_OUT}\n",
    "zcat ${FD_OUT}/${FN_OUT} | head -n 3\n",
    "echo\n",
    "\n",
    "timer=`date +%s`\n",
    "runtime=$(echo \"${timer} - ${timer_start}\" | bc -l)\n",
    "echo\n",
    "echo 'Done!'\n",
    "echo \"Run Time: $(displaytime ${runtime})\"\n",
    "\n",
    "EOF"
   ]
  },
  {
   "cell_type": "markdown",
   "id": "110a184e-7ec6-4926-8489-8be7169838ae",
   "metadata": {},
   "source": [
    "## CHECK"
   ]
  },
  {
   "cell_type": "code",
   "execution_count": 8,
   "id": "b2df6439-0f76-4299-85ec-e0bbf32def10",
   "metadata": {},
   "outputs": [
    {
     "name": "stdout",
     "output_type": "stream",
     "text": [
      "Slurm Array Index: \n",
      "Time Stamp:         03-24-22+22:18:52\n",
      "\n",
      "Input  file:  /gpfs/fs1/data/reddylab/Kuei/out/proj_encode_fcc/Tewhey_K562_TileMPRA/fragment/Tile_K562_20210130.GATA1.unstranded.bed\n",
      "Output file:  /gpfs/fs1/data/reddylab/Kuei/out/proj_encode_fcc/Tewhey_K562_TileMPRA/annotation/Tile_K562_20210130.GATA1.unstranded.bed.gz\n",
      "\n",
      "Show the first few lines of the input file\n",
      "/gpfs/fs1/data/reddylab/Kuei/out/proj_encode_fcc/Tewhey_K562_TileMPRA/fragment/Tile_K562_20210130.GATA1.unstranded.bed\n",
      "chrX\t47786401\t47786600\tX:47786401-47786600\n",
      "chrX\t47786451\t47786650\tX:47786451-47786650\n",
      "chrX\t47786501\t47786700\tX:47786501-47786700\n",
      "\n",
      "Show the first few lines of the output file\n",
      "/gpfs/fs1/data/reddylab/Kuei/out/proj_encode_fcc/Tewhey_K562_TileMPRA/annotation/Tile_K562_20210130.GATA1.unstranded.bed.gz\n",
      "chrX\t47786401\t47786600\tX:47786401-47786600\tchrX\t47786401\t47786418\tKLF/SP/2\t6.7001\t17\n",
      "chrX\t47786401\t47786600\tX:47786401-47786600\tchrX\t47786424\t47786443\tZNF28\t8.2497\t19\n",
      "chrX\t47786401\t47786600\tX:47786401-47786600\tchrX\t47786449\t47786459\tFOX/4\t8.4743\t10\n",
      "\n",
      "\n",
      "Done!\n",
      "Run Time: 1 minutes and 7 seconds\n"
     ]
    }
   ],
   "source": [
    "cat ${FD_LOG}/TileMPRA_annotation.txt"
   ]
  },
  {
   "cell_type": "code",
   "execution_count": 8,
   "id": "1dcecfb7-6368-45c3-bddb-22ca99d4569b",
   "metadata": {},
   "outputs": [
    {
     "name": "stdout",
     "output_type": "stream",
     "text": [
      "Slurm Array Index: \n",
      "Time Stamp:         03-22-22+23:32:38\n",
      "\n",
      "Input  file:  /gpfs/fs1/data/reddylab/Kuei/out/proj_encode_fcc/Tewhey_K562_TileMPRA/fragment/Tile_K562_20210130.GATA1.unstranded.bed\n",
      "Output file:  /gpfs/fs1/data/reddylab/Kuei/out/proj_encode_fcc/KS91_K562_ASTARRseq/annotation/Tile_K562_20210130.GATA1.unstranded.bed.gz\n",
      "\n",
      "Show the first few lines of the input file\n",
      "/gpfs/fs1/data/reddylab/Kuei/out/proj_encode_fcc/Tewhey_K562_TileMPRA/fragment/Tile_K562_20210130.GATA1.unstranded.bed\n",
      "chrX\t47786401\t47786600\tX:47786401-47786600\n",
      "chrX\t47786451\t47786650\tX:47786451-47786650\n",
      "chrX\t47786501\t47786700\tX:47786501-47786700\n",
      "\n",
      "Show the first few lines of the output file\n",
      "/gpfs/fs1/data/reddylab/Kuei/out/proj_encode_fcc/KS91_K562_ASTARRseq/annotation/Tile_K562_20210130.GATA1.unstranded.bed.gz\n",
      "chrX\t47786401\t47786600\tX:47786401-47786600\tchrX\t47786390\t47786409\tZNF143\t8.4038\t8\n",
      "chrX\t47786401\t47786600\tX:47786401-47786600\tchrX\t47786401\t47786418\tKLF/SP/2\t6.7001\t17\n",
      "chrX\t47786401\t47786600\tX:47786401-47786600\tchrX\t47786424\t47786443\tZNF28\t8.2497\t19\n",
      "\n",
      "\n",
      "Done!\n",
      "Run Time: 58 seconds\n"
     ]
    }
   ],
   "source": [
    "cat ${FD_LOG}/TileMPRA_annotation.txt"
   ]
  },
  {
   "cell_type": "code",
   "execution_count": null,
   "id": "93daf0d1-c0a0-417b-9fdf-65e2a2c1c9e6",
   "metadata": {},
   "outputs": [],
   "source": []
  }
 ],
 "metadata": {
  "kernelspec": {
   "display_name": "Bash",
   "language": "bash",
   "name": "bash"
  },
  "language_info": {
   "codemirror_mode": "shell",
   "file_extension": ".sh",
   "mimetype": "text/x-sh",
   "name": "bash"
  }
 },
 "nbformat": 4,
 "nbformat_minor": 5
}
