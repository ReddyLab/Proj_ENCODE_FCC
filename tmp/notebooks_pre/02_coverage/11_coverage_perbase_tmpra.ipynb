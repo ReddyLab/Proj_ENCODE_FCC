{
 "cells": [
  {
   "cell_type": "markdown",
   "id": "79ce3f92-eed2-4641-a01e-8c529df18e21",
   "metadata": {},
   "source": [
    "**Set environment**"
   ]
  },
  {
   "cell_type": "code",
   "execution_count": 1,
   "id": "efa89bcb-02e7-4422-a9a7-5f410c20761c",
   "metadata": {},
   "outputs": [
    {
     "name": "stdout",
     "output_type": "stream",
     "text": [
      "You are on Duke Server: HARDAC\n",
      "BASE DIRECTORY:     /gpfs/fs1/data/reddylab/Kuei\n",
      "PATH OF SOURCE:     /gpfs/fs1/data/reddylab/Kuei/source\n",
      "PATH OF EXECUTABLE: /gpfs/fs1/data/reddylab/Kuei/exe\n",
      "PATH OF ANNOTATION: /gpfs/fs1/data/reddylab/Kuei/annotation\n",
      "PATH OF PROJECT:    /gpfs/fs1/data/reddylab/Kuei/GitRepo/Proj_CombEffect_ENCODE_FCC/notebooks\n",
      "PATH OF RESULTS:    /gpfs/fs1/data/reddylab/Kuei/out/proj_combeffect_encode_fcc\n",
      "\n"
     ]
    }
   ],
   "source": [
    "source ../config_duke.sh\n",
    "show_env"
   ]
  },
  {
   "cell_type": "markdown",
   "id": "2f499621-f2eb-4fe6-8570-83469eae17e9",
   "metadata": {
    "tags": []
   },
   "source": [
    "## Set region\n",
    "`GATA1 chr X: 47786400 -  49786750`\n",
    "\n",
    "`MYC   chr 8:126735900 - 128736250`\n",
    "\n",
    "`FADS  chr11: 61787325 -  61898350`"
   ]
  },
  {
   "cell_type": "markdown",
   "id": "ee53d575-12fd-4d0e-a063-2e37491de5fd",
   "metadata": {},
   "source": [
    "**Set region by base**"
   ]
  },
  {
   "cell_type": "code",
   "execution_count": 2,
   "id": "573da69e-a459-4cf5-acc4-772148548e21",
   "metadata": {},
   "outputs": [],
   "source": [
    "START=47786400\n",
    "END=49786750\n",
    "CHROM=chrX\n",
    "\n",
    "FP_OUT=${FD_RES}/Tewhey_K562_TileMPRA/coverage/region_GATA1_perbase.bed\n",
    "cat /dev/null > ${FP_OUT}\n",
    "for LOC in $(seq ${START} ${END}); do\n",
    "    echo -e \"${CHROM}\\\\t${LOC}\\\\t$((${LOC} + 1))\" >> ${FP_OUT}\n",
    "done"
   ]
  },
  {
   "cell_type": "code",
   "execution_count": 3,
   "id": "05e712e9-1789-4ebc-83ba-8fef6f3f606b",
   "metadata": {},
   "outputs": [],
   "source": [
    "START=126735900\n",
    "END=128736250\n",
    "CHROM=chr8\n",
    "\n",
    "FP_OUT=${FD_RES}/Tewhey_K562_TileMPRA/coverage/region_MYC_perbase.bed\n",
    "cat /dev/null > ${FP_OUT}\n",
    "for LOC in $(seq ${START} ${END}); do\n",
    "    echo -e \"${CHROM}\\\\t${LOC}\\\\t$((${LOC} + 1))\" >> ${FP_OUT}\n",
    "done"
   ]
  },
  {
   "cell_type": "code",
   "execution_count": 4,
   "id": "f8b9ebe6-ff82-4e4c-912d-d4990c590848",
   "metadata": {},
   "outputs": [],
   "source": [
    "START=61787325\n",
    "END=61898350\n",
    "CHROM=chr11\n",
    "\n",
    "FP_OUT=${FD_RES}/Tewhey_K562_TileMPRA/coverage/region_FADS_perbase.bed\n",
    "cat /dev/null > ${FP_OUT}\n",
    "for LOC in $(seq ${START} ${END}); do\n",
    "    echo -e \"${CHROM}\\\\t${LOC}\\\\t$((${LOC} + 1))\" >> ${FP_OUT}\n",
    "done"
   ]
  },
  {
   "cell_type": "code",
   "execution_count": 5,
   "id": "020f7a06-859d-41c4-862c-1cd64b9a5521",
   "metadata": {},
   "outputs": [
    {
     "name": "stdout",
     "output_type": "stream",
     "text": [
      "==> /gpfs/fs1/data/reddylab/Kuei/out/proj_combeffect_encode_fcc/Tewhey_K562_TileMPRA/coverage/region_FADS_perbase.bed <==\n",
      "chr11\t61787325\t61787326\n",
      "chr11\t61787326\t61787327\n",
      "chr11\t61787327\t61787328\n",
      "\n",
      "==> /gpfs/fs1/data/reddylab/Kuei/out/proj_combeffect_encode_fcc/Tewhey_K562_TileMPRA/coverage/region_GATA1_perbase.bed <==\n",
      "chrX\t47786400\t47786401\n",
      "chrX\t47786401\t47786402\n",
      "chrX\t47786402\t47786403\n",
      "\n",
      "==> /gpfs/fs1/data/reddylab/Kuei/out/proj_combeffect_encode_fcc/Tewhey_K562_TileMPRA/coverage/region_MYC_perbase.bed <==\n",
      "chr8\t126735900\t126735901\n",
      "chr8\t126735901\t126735902\n",
      "chr8\t126735902\t126735903\n"
     ]
    }
   ],
   "source": [
    "head -3 ${FD_RES}/Tewhey_K562_TileMPRA/coverage/region*perbase.bed"
   ]
  },
  {
   "cell_type": "code",
   "execution_count": 6,
   "id": "f872a915-4c6d-45e8-b53c-0a2906cf07b2",
   "metadata": {},
   "outputs": [
    {
     "name": "stdout",
     "output_type": "stream",
     "text": [
      "==> /gpfs/fs1/data/reddylab/Kuei/out/proj_combeffect_encode_fcc/Tewhey_K562_TileMPRA/coverage/region_FADS_perbase.bed <==\n",
      "chr11\t61898348\t61898349\n",
      "chr11\t61898349\t61898350\n",
      "chr11\t61898350\t61898351\n",
      "\n",
      "==> /gpfs/fs1/data/reddylab/Kuei/out/proj_combeffect_encode_fcc/Tewhey_K562_TileMPRA/coverage/region_GATA1_perbase.bed <==\n",
      "chrX\t49786748\t49786749\n",
      "chrX\t49786749\t49786750\n",
      "chrX\t49786750\t49786751\n",
      "\n",
      "==> /gpfs/fs1/data/reddylab/Kuei/out/proj_combeffect_encode_fcc/Tewhey_K562_TileMPRA/coverage/region_MYC_perbase.bed <==\n",
      "chr8\t128736248\t128736249\n",
      "chr8\t128736249\t128736250\n",
      "chr8\t128736250\t128736251\n"
     ]
    }
   ],
   "source": [
    "tail -n 3 ${FD_RES}/Tewhey_K562_TileMPRA/coverage/region*perbase.bed"
   ]
  },
  {
   "cell_type": "markdown",
   "id": "c330aa3d-216c-481f-a863-92e9d4c1c136",
   "metadata": {},
   "source": [
    "## Calculate coverage perbase for input and output"
   ]
  },
  {
   "cell_type": "markdown",
   "id": "34c40164-1290-4bd7-9059-b50a624423d0",
   "metadata": {},
   "source": [
    "**Test**"
   ]
  },
  {
   "cell_type": "code",
   "execution_count": 7,
   "id": "090e2b5f-eacd-4168-bd47-6fc8923d6db9",
   "metadata": {},
   "outputs": [
    {
     "name": "stdout",
     "output_type": "stream",
     "text": [
      "Region:  GATA1\n",
      "FN_INP: Tile_K562_hg38_20210130.GATA1.stranded_pos.round.bed\n",
      "FN_OUT: Tile_K562_hg38_20210130.GATA1.stranded_pos.Output.perbase.tsv.gz\n",
      "\n",
      "Region:  MYC\n",
      "FN_INP: Tile_K562_hg38_20210130.MYC.stranded_pos.round.bed\n",
      "FN_OUT: Tile_K562_hg38_20210130.MYC.stranded_pos.Output.perbase.tsv.gz\n",
      "\n",
      "Region:  FADS\n",
      "FN_INP: Tile_K562_hg38_20200905.FADS.stranded_neg.round.bed\n",
      "FN_OUT: Tile_K562_hg38_20200905.FADS.stranded_neg.Output.perbase.tsv.gz\n",
      "FN_INP: Tile_K562_hg38_20200905.FADS.stranded_pos.round.bed\n",
      "FN_OUT: Tile_K562_hg38_20200905.FADS.stranded_pos.Output.perbase.tsv.gz\n",
      "\n"
     ]
    }
   ],
   "source": [
    "### global variables\n",
    "FD_CNT=${FD_RES}/Tewhey_K562_TileMPRA/count\n",
    "FD_COV=${FD_RES}/Tewhey_K562_TileMPRA/coverage\n",
    "\n",
    "IDX_COLS=(8 9)\n",
    "IDN_COLS=(Input Output)\n",
    "IDX=1\n",
    "\n",
    "### loop through each region\n",
    "REGIONS=(GATA1 MYC FADS)\n",
    "for REGION in ${REGIONS[@]}; do\n",
    "\n",
    "echo \"Region: \" ${REGION}\n",
    "IDX_COL=${IDX_COLS[${IDX}]}\n",
    "IDN_COL=${IDN_COLS[${IDX}]}\n",
    "\n",
    "FP_CNTS=($(ls ${FD_CNT}/*${REGION}*.round.bed))\n",
    "for FP_INP in ${FP_CNTS[@]}; do\n",
    "    FN_INP=$(basename ${FP_INP})\n",
    "    FN_OUT=${FN_INP%.*.*}.${IDN_COL}.perbase.tsv.gz\n",
    "    echo \"FN_INP:\" ${FN_INP}\n",
    "    echo \"FN_OUT:\" ${FN_OUT}\n",
    "done\n",
    "echo\n",
    "\n",
    "done"
   ]
  },
  {
   "cell_type": "markdown",
   "id": "cd698049-2542-441d-9a11-0d6d033b70e4",
   "metadata": {},
   "source": [
    "**Run**"
   ]
  },
  {
   "cell_type": "code",
   "execution_count": 8,
   "id": "ff8dda18-b38c-4d4d-9112-01151fa22c46",
   "metadata": {},
   "outputs": [
    {
     "name": "stdout",
     "output_type": "stream",
     "text": [
      "Submitted batch job 28275607\n",
      "Submitted batch job 28275608\n",
      "Submitted batch job 28275609\n"
     ]
    }
   ],
   "source": [
    "### loop through each region\n",
    "REGIONS=(GATA1 MYC FADS)\n",
    "for REGION in ${REGIONS[@]}; do\n",
    "\n",
    "sbatch -p ${NODE} \\\n",
    "    --mem 8G \\\n",
    "    --array 0-1 \\\n",
    "    --export=REGION=${REGION} \\\n",
    "    -o ${FD_LOG}/TMPRA_coverage_${REGION}.%a.txt \\\n",
    "    <<'EOF'\n",
    "#!/bin/bash\n",
    "### set directories & global variables\n",
    "source ../config_duke.sh\n",
    "source ../config_load_module_bedtools.sh\n",
    "\n",
    "FD_CNT=${FD_RES}/Tewhey_K562_TileMPRA/count\n",
    "FD_COV=${FD_RES}/Tewhey_K562_TileMPRA/coverage\n",
    "\n",
    "IDX_COLS=(8 9)\n",
    "IDN_COLS=(Input Output)\n",
    "\n",
    "### set input and output\n",
    "IDX_COL=${IDX_COLS[${SLURM_ARRAY_TASK_ID}]}\n",
    "IDN_COL=${IDN_COLS[${SLURM_ARRAY_TASK_ID}]}\n",
    "\n",
    "### print start message\n",
    "timer_start=`date +%s`\n",
    "echo \"Slurm Array Index: \" ${SLURM_ARRAY_TASK_ID}\n",
    "echo \"Time Stamp:        \" $(date +\"%m-%d-%y+%T\")\n",
    "echo\n",
    "\n",
    "### loop through files\n",
    "FP_CNTS=($(ls ${FD_CNT}/*${REGION}*.round.bed))\n",
    "for FP_INP in ${FP_CNTS[@]}; do\n",
    "    FN_INP=$(basename ${FP_INP})\n",
    "    FN_OUT=${FN_INP%.*.*}.${IDN_COL}.perbase.tsv.gz\n",
    "    FP_OUT=${FD_COV}/${FN_OUT}\n",
    "    echo ++++++++++++++++++++++++++++++++++++++\n",
    "    echo\n",
    "    \n",
    "    ### show input file\n",
    "    echo \"Input: \" ${FP_INP}\n",
    "    echo\n",
    "    echo \"show first few lines of input\"\n",
    "    cat ${FP_INP} | head -5\n",
    "    echo\n",
    "    echo \"show last few lines of input\"\n",
    "    cat ${FP_INP} | tail -n 5\n",
    "    echo\n",
    "    \n",
    "    ### execute\n",
    "    bedtools map \\\n",
    "        -a ${FD_COV}/region_${REGION}_perbase.bed \\\n",
    "        -b ${FP_INP} \\\n",
    "        -o mean \\\n",
    "        -c ${IDX_COL} |\\\n",
    "        gzip -c > ${FP_OUT}\n",
    "    \n",
    "    ### show output file\n",
    "    echo \"Output: \" ${FP_OUT}\n",
    "    echo\n",
    "    echo \"show first few lines of output:\"\n",
    "    zcat ${FP_OUT} | head -5\n",
    "    echo\n",
    "    echo \"show last few lines of output\"\n",
    "    zcat ${FP_OUT} | tail -n 5\n",
    "    echo\n",
    "    \n",
    "done\n",
    "echo\n",
    "\n",
    "EOF\n",
    "\n",
    "done"
   ]
  },
  {
   "cell_type": "markdown",
   "id": "5dfcc54b-6908-481e-a005-12fe562a763c",
   "metadata": {},
   "source": [
    "**Check log**"
   ]
  },
  {
   "cell_type": "code",
   "execution_count": 12,
   "id": "87055336-48f2-417c-be7b-b7376f183f89",
   "metadata": {},
   "outputs": [
    {
     "name": "stdout",
     "output_type": "stream",
     "text": [
      "Slurm Array Index:  1\n",
      "Time Stamp:         05-17-22+16:26:31\n",
      "\n",
      "++++++++++++++++++++++++++++++++++++++\n",
      "\n",
      "Input:  /gpfs/fs1/data/reddylab/Kuei/out/proj_combeffect_encode_fcc/Tewhey_K562_TileMPRA/count/Tile_K562_hg38_20210130.GATA1.stranded_pos.round.bed\n",
      "\n",
      "show first few lines of input\n",
      "chrX\t47786401\t47786600\tX:47786401-47786600\t.\t+\t2.306\t2117.787\t10474.869\n",
      "chrX\t47786451\t47786650\tX:47786451-47786650\t.\t+\t0.783\t1386.007\t2387.119\n",
      "chrX\t47786501\t47786700\tX:47786501-47786700\t.\t+\t-0.129\t1955.626\t1788.236\n",
      "chrX\t47786551\t47786750\tX:47786551-47786750\t.\t+\t0.588\t2388.997\t3591.264\n",
      "chrX\t47786601\t47786800\tX:47786601-47786800\t.\t+\t0.067\t2102.916\t2202.385\n",
      "\n",
      "show last few lines of input\n",
      "chrX\t49786351\t49786550\tX:49786351-49786550\t.\t+\t-0.216\t775.951\t668.187\n",
      "chrX\t49786401\t49786600\tX:49786401-49786600\t.\t+\t0.18\t1556.617\t1763.467\n",
      "chrX\t49786451\t49786650\tX:49786451-49786650\t.\t+\t-0.373\t127.91\t98.961\n",
      "chrX\t49786501\t49786700\tX:49786501-49786700\t.\t+\t-0.49\t120.701\t86.235\n",
      "chrX\t49786551\t49786750\tX:49786551-49786750\t.\t+\t-0.272\t728.812\t604.854\n",
      "\n",
      "Output:  /gpfs/fs1/data/reddylab/Kuei/out/proj_combeffect_encode_fcc/Tewhey_K562_TileMPRA/coverage/Tile_K562_hg38_20210130.GATA1.stranded_pos.Output.perbase.tsv.gz\n",
      "\n",
      "show first few lines of output:\n",
      "chrX\t47786400\t47786401\t.\n",
      "chrX\t47786401\t47786402\t10474.869\n",
      "chrX\t47786402\t47786403\t10474.869\n",
      "chrX\t47786403\t47786404\t10474.869\n",
      "chrX\t47786404\t47786405\t10474.869\n",
      "\n",
      "show last few lines of output\n",
      "chrX\t49786746\t49786747\t604.854\n",
      "chrX\t49786747\t49786748\t604.854\n",
      "chrX\t49786748\t49786749\t604.854\n",
      "chrX\t49786749\t49786750\t604.854\n",
      "chrX\t49786750\t49786751\t.\n",
      "\n",
      "\n"
     ]
    }
   ],
   "source": [
    "cat ${FD_LOG}/TMPRA_coverage_GATA1.1.txt"
   ]
  },
  {
   "cell_type": "code",
   "execution_count": 12,
   "id": "830a3390-bf46-45e0-9986-01deda83c1cf",
   "metadata": {},
   "outputs": [
    {
     "name": "stdout",
     "output_type": "stream",
     "text": [
      "Slurm Array Index:  0\n",
      "Time Stamp:         05-17-22+17:09:02\n",
      "\n",
      "++++++++++++++++++++++++++++++++++++++\n",
      "\n",
      "Input:  /gpfs/fs1/data/reddylab/Kuei/out/proj_combeffect_encode_fcc/Tewhey_K562_TileMPRA/count/Tile_K562_hg38_20200905.FADS.stranded_neg.round.bed\n",
      "\n",
      "show first few lines of input\n",
      "chr11\t61787329\t61787528\t11:61554801-61555000_RC\t.\t-\t-0.882\t325.845\t176.742\n",
      "chr11\t61787334\t61787533\t11:61554806-61555005_RC\t.\t-\t-0.832\t336.927\t189.098\n",
      "chr11\t61787339\t61787538\t11:61554811-61555010_RC\t.\t-\t-0.391\t310.188\t236.291\n",
      "chr11\t61787344\t61787543\t11:61554816-61555015_RC\t.\t-\t-0.768\t580.396\t341.076\n",
      "chr11\t61787349\t61787548\t11:61554821-61555020_RC\t.\t-\t-1.093\t544.991\t255.805\n",
      "\n",
      "show last few lines of input\n",
      "chr11\t61898129\t61898328\t11:61665601-61665800_RC\t.\t-\t2.639\t153.418\t956.769\n",
      "chr11\t61898134\t61898333\t11:61665606-61665805_RC\t.\t-\t1.782\t215.673\t742.172\n",
      "chr11\t61898139\t61898338\t11:61665611-61665810_RC\t.\t-\t1.959\t269.52\t1048.729\n",
      "chr11\t61898144\t61898343\t11:61665616-61665815_RC\t.\t-\t3.217\t199.813\t1859.036\n",
      "chr11\t61898149\t61898348\t11:61665621-61665820_RC\t.\t-\t1.422\t209.731\t562.036\n",
      "\n",
      "Output:  /gpfs/fs1/data/reddylab/Kuei/out/proj_combeffect_encode_fcc/Tewhey_K562_TileMPRA/coverage/Tile_K562_hg38_20200905.FADS.stranded_neg.Input.perbase.tsv.gz\n",
      "\n",
      "show first few lines of output:\n",
      "chr11\t61787325\t61787326\t.\n",
      "chr11\t61787326\t61787327\t.\n",
      "chr11\t61787327\t61787328\t.\n",
      "chr11\t61787328\t61787329\t.\n",
      "chr11\t61787329\t61787330\t325.845\n",
      "\n",
      "show last few lines of output\n",
      "chr11\t61898346\t61898347\t209.731\n",
      "chr11\t61898347\t61898348\t209.731\n",
      "chr11\t61898348\t61898349\t.\n",
      "chr11\t61898349\t61898350\t.\n",
      "chr11\t61898350\t61898351\t.\n",
      "\n",
      "++++++++++++++++++++++++++++++++++++++\n",
      "\n",
      "Input:  /gpfs/fs1/data/reddylab/Kuei/out/proj_combeffect_encode_fcc/Tewhey_K562_TileMPRA/count/Tile_K562_hg38_20200905.FADS.stranded_pos.round.bed\n",
      "\n",
      "show first few lines of input\n",
      "chr11\t61787329\t61787528\t11:61554801-61555000\t.\t+\t-0.858\t539.07\t297.715\n",
      "chr11\t61787334\t61787533\t11:61554806-61555005\t.\t+\t-0.779\t609.292\t355.039\n",
      "chr11\t61787339\t61787538\t11:61554811-61555010\t.\t+\t-0.396\t643.658\t489.536\n",
      "chr11\t61787344\t61787543\t11:61554816-61555015\t.\t+\t-0.489\t564.827\t402.105\n",
      "chr11\t61787349\t61787548\t11:61554821-61555020\t.\t+\t-0.589\t573.689\t381.089\n",
      "\n",
      "show last few lines of input\n",
      "chr11\t61898129\t61898328\t11:61665601-61665800\t.\t+\t2.417\t520.289\t2780.402\n",
      "chr11\t61898134\t61898333\t11:61665606-61665805\t.\t+\t1.809\t663.774\t2328.493\n",
      "chr11\t61898139\t61898338\t11:61665611-61665810\t.\t+\t2.102\t481.908\t2067.939\n",
      "chr11\t61898144\t61898343\t11:61665616-61665815\t.\t+\t1.606\t406.331\t1236.809\n",
      "chr11\t61898149\t61898348\t11:61665621-61665820\t.\t+\t2.224\t295.648\t1379.424\n",
      "\n",
      "Output:  /gpfs/fs1/data/reddylab/Kuei/out/proj_combeffect_encode_fcc/Tewhey_K562_TileMPRA/coverage/Tile_K562_hg38_20200905.FADS.stranded_pos.Input.perbase.tsv.gz\n",
      "\n",
      "show first few lines of output:\n",
      "chr11\t61787325\t61787326\t.\n",
      "chr11\t61787326\t61787327\t.\n",
      "chr11\t61787327\t61787328\t.\n",
      "chr11\t61787328\t61787329\t.\n",
      "chr11\t61787329\t61787330\t539.07\n",
      "\n",
      "show last few lines of output\n",
      "chr11\t61898346\t61898347\t295.648\n",
      "chr11\t61898347\t61898348\t295.648\n",
      "chr11\t61898348\t61898349\t.\n",
      "chr11\t61898349\t61898350\t.\n",
      "chr11\t61898350\t61898351\t.\n",
      "\n",
      "\n"
     ]
    }
   ],
   "source": [
    "cat ${FD_LOG}/TMPRA_coverage_FADS.0.txt"
   ]
  },
  {
   "cell_type": "markdown",
   "id": "5562c15f-ee84-4b62-b518-f37f24e99fcb",
   "metadata": {},
   "source": [
    "-----"
   ]
  },
  {
   "cell_type": "code",
   "execution_count": null,
   "id": "a7951d30-4799-471a-b3b9-0342c4b8e41a",
   "metadata": {},
   "outputs": [],
   "source": []
  },
  {
   "cell_type": "code",
   "execution_count": null,
   "id": "2b01985d-cb7a-41cb-bef5-18c7984f8db0",
   "metadata": {},
   "outputs": [],
   "source": []
  },
  {
   "cell_type": "markdown",
   "id": "0784316b-7e84-4d3c-b26d-bb890f1bd733",
   "metadata": {},
   "source": [
    "## GATA1"
   ]
  },
  {
   "cell_type": "code",
   "execution_count": 25,
   "id": "e86143ec-097d-48d9-bfa4-a1d9688a875c",
   "metadata": {},
   "outputs": [
    {
     "name": "stdout",
     "output_type": "stream",
     "text": [
      "Submitted batch job 28235762\n"
     ]
    }
   ],
   "source": [
    "sbatch -p ${NODE} \\\n",
    "    --mem 8G \\\n",
    "    --array 0-1 \\\n",
    "    -o ${FD_LOG}/TMPRA_coverage_gata1.%a.txt \\\n",
    "    <<'EOF'\n",
    "#!/bin/bash\n",
    "### set directories & global variables\n",
    "source ../config_duke.sh\n",
    "source ../config_load_module_bedtools.sh\n",
    "\n",
    "REGION=\"GATA1\"\n",
    "\n",
    "FD_BED=${FD_RES}/Tewhey_K562_TileMPRA/count\n",
    "FD_COV=${FD_RES}/Tewhey_K562_TileMPRA/coverage\n",
    "\n",
    "IDX_COLS=(8 9)\n",
    "IDN_COLS=(Input Output)\n",
    "\n",
    "### set input and output\n",
    "IDX_COL=${IDX_COLS[${SLURM_ARRAY_TASK_ID}]}\n",
    "IDN_COL=${IDN_COLS[${SLURM_ARRAY_TASK_ID}]}\n",
    "FN_INP=Tile_K562_hg38_20210130.GATA1.count.bed\n",
    "FN_OUT=Tile_K562_hg38_20210130.GATA1.${IDN_COL}.perbase.tsv.gz\n",
    "\n",
    "FP_INP=${FD_BED}/${FN_INP}\n",
    "FP_OUT=${FD_COV}/${FN_OUT}\n",
    "\n",
    "### print start message\n",
    "timer_start=`date +%s`\n",
    "echo \"Slurm Array Index: \" ${SLURM_ARRAY_TASK_ID}\n",
    "echo \"Time Stamp:        \" $(date +\"%m-%d-%y+%T\")\n",
    "echo \"Input:             \" ${FP_INP}\n",
    "echo \"Output:            \" ${FP_OUT}\n",
    "echo\n",
    "\n",
    "### show first few lines of input\n",
    "echo ${FP_INP}\n",
    "cat ${FP_INP} | head -n 5\n",
    "echo\n",
    "\n",
    "### show last few lines of input\n",
    "echo ${FP_INP}\n",
    "cat ${FP_INP} | tail -n 5\n",
    "echo\n",
    "\n",
    "### execute\n",
    "bedtools map \\\n",
    "    -a ${FD_COV}/region_${REGION}.bed \\\n",
    "    -b ${FP_INP} \\\n",
    "    -o mean \\\n",
    "    -c ${IDX_COL} |\\\n",
    "    gzip -c > ${FP_OUT}\n",
    "\n",
    "\n",
    "### show first few lines of output\n",
    "echo ${FP_OUT}\n",
    "zcat ${FP_OUT} | head -n 5\n",
    "echo\n",
    "\n",
    "### show first few lines of output\n",
    "echo ${FP_OUT}\n",
    "zcat ${FP_OUT} | tail -n 5\n",
    "echo\n",
    "\n",
    "\n",
    "### print end message\n",
    "timer=`date +%s`\n",
    "runtime=$(echo \"${timer} - ${timer_start}\" | bc -l)\n",
    "echo\n",
    "echo 'Done!'\n",
    "echo \"Run Time: $(displaytime ${runtime})\"\n",
    "\n",
    "EOF"
   ]
  },
  {
   "cell_type": "code",
   "execution_count": 27,
   "id": "3eabb40d-4b04-4284-ab0b-cddf599353ab",
   "metadata": {},
   "outputs": [
    {
     "name": "stdout",
     "output_type": "stream",
     "text": [
      "Slurm Array Index:  0\n",
      "Time Stamp:         05-11-22+17:02:50\n",
      "Input:              /gpfs/fs1/data/reddylab/Kuei/out/proj_combeffect_encode_fcc/Tewhey_K562_TileMPRA/count/Tile_K562_hg38_20210130.GATA1.count.bed\n",
      "Output:             /gpfs/fs1/data/reddylab/Kuei/out/proj_combeffect_encode_fcc/Tewhey_K562_TileMPRA/coverage/Tile_K562_hg38_20210130.GATA1.Input.perbase.tsv.gz\n",
      "\n",
      "/gpfs/fs1/data/reddylab/Kuei/out/proj_combeffect_encode_fcc/Tewhey_K562_TileMPRA/count/Tile_K562_hg38_20210130.GATA1.count.bed\n",
      "chrX\t47786401\t47786600\tX:47786401-47786600\t.\t+\t2.306\t2117.787\t10474.869\n",
      "chrX\t47786451\t47786650\tX:47786451-47786650\t.\t+\t0.783\t1386.007\t2387.119\n",
      "chrX\t47786501\t47786700\tX:47786501-47786700\t.\t+\t-0.129\t1955.626\t1788.236\n",
      "chrX\t47786551\t47786750\tX:47786551-47786750\t.\t+\t0.588\t2388.997\t3591.264\n",
      "chrX\t47786601\t47786800\tX:47786601-47786800\t.\t+\t0.067\t2102.916\t2202.385\n",
      "\n",
      "/gpfs/fs1/data/reddylab/Kuei/out/proj_combeffect_encode_fcc/Tewhey_K562_TileMPRA/count/Tile_K562_hg38_20210130.GATA1.count.bed\n",
      "chrX\t49786351\t49786550\tX:49786351-49786550\t.\t+\t-0.216\t775.951\t668.187\n",
      "chrX\t49786401\t49786600\tX:49786401-49786600\t.\t+\t0.18\t1556.617\t1763.467\n",
      "chrX\t49786451\t49786650\tX:49786451-49786650\t.\t+\t-0.373\t127.91\t98.961\n",
      "chrX\t49786501\t49786700\tX:49786501-49786700\t.\t+\t-0.49\t120.701\t86.235\n",
      "chrX\t49786551\t49786750\tX:49786551-49786750\t.\t+\t-0.272\t728.812\t604.854\n",
      "\n",
      "/gpfs/fs1/data/reddylab/Kuei/out/proj_combeffect_encode_fcc/Tewhey_K562_TileMPRA/coverage/Tile_K562_hg38_20210130.GATA1.Input.perbase.tsv.gz\n",
      "chrX\t47786400\t47786401\t.\n",
      "chrX\t47786401\t47786402\t2117.787\n",
      "chrX\t47786402\t47786403\t2117.787\n",
      "chrX\t47786403\t47786404\t2117.787\n",
      "chrX\t47786404\t47786405\t2117.787\n",
      "\n",
      "/gpfs/fs1/data/reddylab/Kuei/out/proj_combeffect_encode_fcc/Tewhey_K562_TileMPRA/coverage/Tile_K562_hg38_20210130.GATA1.Input.perbase.tsv.gz\n",
      "chrX\t49786746\t49786747\t728.812\n",
      "chrX\t49786747\t49786748\t728.812\n",
      "chrX\t49786748\t49786749\t728.812\n",
      "chrX\t49786749\t49786750\t728.812\n",
      "chrX\t49786750\t49786751\t.\n",
      "\n",
      "\n",
      "Done!\n",
      "Run Time: 12 seconds\n"
     ]
    }
   ],
   "source": [
    "cat ${FD_LOG}/TMPRA_coverage_gata1.0.txt"
   ]
  },
  {
   "cell_type": "code",
   "execution_count": 26,
   "id": "9036f737-4120-4275-9ee5-70d0bda33161",
   "metadata": {},
   "outputs": [
    {
     "name": "stdout",
     "output_type": "stream",
     "text": [
      "region_GATA1.bed          \u001b[0m\u001b[38;5;9mTile_K562_20210130.GATA1.unstranded.bin1000.bed.gz\u001b[0m\n",
      "region_GATA1_bin1000.bed  \u001b[38;5;9mTile_K562_20210130.GATA1.unstranded.bin100.bed.gz\u001b[0m\n",
      "region_GATA1_bin100.bed   \u001b[38;5;9mTile_K562_20210130.GATA1.unstranded.bin1.bed.gz\u001b[0m\n",
      "region_GATA1_bin1.bed     \u001b[38;5;9mTile_K562_20210130.GATA1.unstranded.bin200.bed.gz\u001b[0m\n",
      "region_GATA1_bin200.bed   \u001b[38;5;9mTile_K562_20210130.GATA1.unstranded.bin500.bed.gz\u001b[0m\n",
      "region_GATA1_bin500.bed   \u001b[38;5;9mTile_K562_hg38_20210130.GATA1.Input.perbase.tsv.gz\u001b[0m\n",
      "region_MYC.bed            \u001b[38;5;9mTile_K562_hg38_20210130.GATA1.Output.perbase.tsv.gz\u001b[0m\n"
     ]
    }
   ],
   "source": [
    "ls ${FD_RES}/Tewhey_K562_TileMPRA/coverage"
   ]
  },
  {
   "cell_type": "code",
   "execution_count": 28,
   "id": "81b21ac1-5dcb-48cc-a8de-2692d83035b8",
   "metadata": {},
   "outputs": [
    {
     "name": "stdout",
     "output_type": "stream",
     "text": [
      "chrX\t47786400\t47786401\t.\n",
      "chrX\t47786401\t47786402\t2117.787\n",
      "chrX\t47786402\t47786403\t2117.787\n",
      "chrX\t47786403\t47786404\t2117.787\n",
      "chrX\t47786404\t47786405\t2117.787\n",
      "chrX\t47786405\t47786406\t2117.787\n",
      "chrX\t47786406\t47786407\t2117.787\n",
      "chrX\t47786407\t47786408\t2117.787\n",
      "chrX\t47786408\t47786409\t2117.787\n",
      "chrX\t47786409\t47786410\t2117.787\n",
      "\n",
      "gzip: stdout: Broken pipe\n"
     ]
    }
   ],
   "source": [
    "zcat ${FD_RES}/Tewhey_K562_TileMPRA/coverage/Tile_K562_hg38_20210130.GATA1.Input.perbase.tsv.gz | head"
   ]
  },
  {
   "cell_type": "markdown",
   "id": "e06096ef-de91-4219-b629-2a59f79fb6fd",
   "metadata": {},
   "source": [
    "## MYC"
   ]
  },
  {
   "cell_type": "code",
   "execution_count": 3,
   "id": "475b76a8-2d17-4383-8cc3-cf900deae999",
   "metadata": {},
   "outputs": [
    {
     "name": "stdout",
     "output_type": "stream",
     "text": [
      "Submitted batch job 28236156\n"
     ]
    }
   ],
   "source": [
    "sbatch -p ${NODE} \\\n",
    "    --mem 8G \\\n",
    "    --array 0-1 \\\n",
    "    -o ${FD_LOG}/TMPRA_coverage_myc.%a.txt \\\n",
    "    <<'EOF'\n",
    "#!/bin/bash\n",
    "### set directories & global variables\n",
    "source ../config_duke.sh\n",
    "\n",
    "REGION=\"MYC\"\n",
    "\n",
    "FD_BED=${FD_RES}/Tewhey_K562_TileMPRA/count\n",
    "FD_COV=${FD_RES}/Tewhey_K562_TileMPRA/coverage\n",
    "\n",
    "IDX_COLS=(8 9)\n",
    "IDN_COLS=(Input Output)\n",
    "\n",
    "### set input and output\n",
    "IDX_COL=${IDX_COLS[${SLURM_ARRAY_TASK_ID}]}\n",
    "IDN_COL=${IDN_COLS[${SLURM_ARRAY_TASK_ID}]}\n",
    "FN_INP=Tile_K562_hg38_20210130.${REGION}.count.bed\n",
    "FN_OUT=Tile_K562_hg38_20210130.${REGION}.${IDN_COL}.perbase.tsv.gz\n",
    "\n",
    "FP_INP=${FD_BED}/${FN_INP}\n",
    "FP_OUT=${FD_COV}/${FN_OUT}\n",
    "\n",
    "### print start message\n",
    "timer_start=`date +%s`\n",
    "echo \"Slurm Array Index: \" ${SLURM_ARRAY_TASK_ID}\n",
    "echo \"Time Stamp:        \" $(date +\"%m-%d-%y+%T\")\n",
    "echo \"Input:             \" ${FP_INP}\n",
    "echo \"Output:            \" ${FP_OUT}\n",
    "echo\n",
    "\n",
    "### show first few lines of input\n",
    "echo ${FP_INP}\n",
    "cat ${FP_INP} | head -n 5\n",
    "echo\n",
    "\n",
    "### show last few lines of input\n",
    "echo ${FP_INP}\n",
    "cat ${FP_INP} | tail -n 5\n",
    "echo\n",
    "\n",
    "### execute\n",
    "bedtools map \\\n",
    "    -a ${FD_COV}/region_${REGION}.bed \\\n",
    "    -b ${FP_INP} \\\n",
    "    -o mean \\\n",
    "    -c ${IDX_COL} |\\\n",
    "    gzip -c > ${FP_OUT}\n",
    "\n",
    "\n",
    "### show first few lines of output\n",
    "echo ${FP_OUT}\n",
    "zcat ${FP_OUT} | head -n 5\n",
    "echo\n",
    "\n",
    "### show first few lines of output\n",
    "echo ${FP_OUT}\n",
    "zcat ${FP_OUT} | tail -n 5\n",
    "echo\n",
    "\n",
    "\n",
    "### print end message\n",
    "timer=`date +%s`\n",
    "runtime=$(echo \"${timer} - ${timer_start}\" | bc -l)\n",
    "echo\n",
    "echo 'Done!'\n",
    "echo \"Run Time: $(displaytime ${runtime})\"\n",
    "\n",
    "EOF"
   ]
  },
  {
   "cell_type": "code",
   "execution_count": 4,
   "id": "a96741dc-6b31-40a8-b015-e4a592968578",
   "metadata": {},
   "outputs": [
    {
     "name": "stdout",
     "output_type": "stream",
     "text": [
      "Slurm Array Index:  0\n",
      "Time Stamp:         05-12-22+10:08:46\n",
      "Input:              /gpfs/fs1/data/reddylab/Kuei/out/proj_combeffect_encode_fcc/Tewhey_K562_TileMPRA/count/Tile_K562_hg38_20210130.MYC.count.bed\n",
      "Output:             /gpfs/fs1/data/reddylab/Kuei/out/proj_combeffect_encode_fcc/Tewhey_K562_TileMPRA/coverage/Tile_K562_hg38_20210130.MYC.Input.perbase.tsv.gz\n",
      "\n",
      "/gpfs/fs1/data/reddylab/Kuei/out/proj_combeffect_encode_fcc/Tewhey_K562_TileMPRA/count/Tile_K562_hg38_20210130.MYC.count.bed\n",
      "chr8\t126735901\t126736100\t8:126735901-126736100\t.\t+\t3.216\t889.87\t8270.081\n",
      "chr8\t126735951\t126736150\t8:126735951-126736150\t.\t+\t2.742\t125.835\t840.939\n",
      "chr8\t126736001\t126736200\t8:126736001-126736200\t.\t+\t2.973\t510.316\t4005.357\n",
      "chr8\t126736051\t126736250\t8:126736051-126736250\t.\t+\t0.518\t702.549\t1005.359\n",
      "chr8\t126736101\t126736300\t8:126736101-126736300\t.\t+\t0.854\t551.083\t995.47\n",
      "\n",
      "/gpfs/fs1/data/reddylab/Kuei/out/proj_combeffect_encode_fcc/Tewhey_K562_TileMPRA/count/Tile_K562_hg38_20210130.MYC.count.bed\n",
      "chr8\t128735851\t128736050\t8:128735851-128736050\t.\t+\t0.088\t80.41\t85.666\n",
      "chr8\t128735901\t128736100\t8:128735901-128736100\t.\t+\t-0.095\t582.526\t546.063\n",
      "chr8\t128735951\t128736150\t8:128735951-128736150\t.\t+\t0.181\t909.672\t1032.099\n",
      "chr8\t128736001\t128736200\t8:128736001-128736200\t.\t+\t0.823\t1140.692\t2018.523\n",
      "chr8\t128736051\t128736250\t8:128736051-128736250\t.\t+\t0.082\t1085.696\t1148.599\n",
      "\n",
      "/gpfs/fs1/data/reddylab/Kuei/out/proj_combeffect_encode_fcc/Tewhey_K562_TileMPRA/coverage/Tile_K562_hg38_20210130.MYC.Input.perbase.tsv.gz\n",
      "chr8\t126735901\t126735902\t889.87\n",
      "chr8\t126735902\t126735903\t889.87\n",
      "chr8\t126735903\t126735904\t889.87\n",
      "chr8\t126735904\t126735905\t889.87\n",
      "chr8\t126735905\t126735906\t889.87\n",
      "\n",
      "/gpfs/fs1/data/reddylab/Kuei/out/proj_combeffect_encode_fcc/Tewhey_K562_TileMPRA/coverage/Tile_K562_hg38_20210130.MYC.Input.perbase.tsv.gz\n",
      "chr8\t128736246\t128736247\t1085.696\n",
      "chr8\t128736247\t128736248\t1085.696\n",
      "chr8\t128736248\t128736249\t1085.696\n",
      "chr8\t128736249\t128736250\t1085.696\n",
      "chr8\t128736250\t128736251\t.\n",
      "\n",
      "\n",
      "Done!\n",
      "Run Time: 12 seconds\n"
     ]
    }
   ],
   "source": [
    "cat ${FD_LOG}/TMPRA_coverage_myc.0.txt"
   ]
  },
  {
   "cell_type": "code",
   "execution_count": null,
   "id": "5ecd30fe-534f-4d3f-8053-cc0454902790",
   "metadata": {},
   "outputs": [],
   "source": []
  }
 ],
 "metadata": {
  "kernelspec": {
   "display_name": "Bash",
   "language": "bash",
   "name": "bash"
  },
  "language_info": {
   "codemirror_mode": "shell",
   "file_extension": ".sh",
   "mimetype": "text/x-sh",
   "name": "bash"
  }
 },
 "nbformat": 4,
 "nbformat_minor": 5
}
