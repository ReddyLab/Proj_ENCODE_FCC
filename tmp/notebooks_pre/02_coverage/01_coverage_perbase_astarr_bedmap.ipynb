{
 "cells": [
  {
   "cell_type": "markdown",
   "id": "25f11694-5f2f-4c4d-836f-0b7929cefac2",
   "metadata": {},
   "source": [
    "**Set environment**"
   ]
  },
  {
   "cell_type": "code",
   "execution_count": 1,
   "id": "3a4c49eb-2a7f-4f5c-8cfe-684bf3313b71",
   "metadata": {},
   "outputs": [
    {
     "name": "stdout",
     "output_type": "stream",
     "text": [
      "You are on Duke Server: HARDAC\n",
      "BASE DIRECTORY:     /gpfs/fs1/data/reddylab/Kuei\n",
      "PATH OF SOURCE:     /gpfs/fs1/data/reddylab/Kuei/source\n",
      "PATH OF EXECUTABLE: /gpfs/fs1/data/reddylab/Kuei/exe\n",
      "PATH OF ANNOTATION: /gpfs/fs1/data/reddylab/Kuei/annotation\n",
      "PATH OF PROJECT:    /gpfs/fs1/data/reddylab/Kuei/GitRepo/Proj_CombEffect_ENCODE_FCC/notebooks\n",
      "PATH OF RESULTS:    /gpfs/fs1/data/reddylab/Kuei/out/proj_combeffect_encode_fcc\n",
      "\n"
     ]
    }
   ],
   "source": [
    "source ../config_duke.sh; show_env\n",
    "source ../config_load_module_bedtools.sh"
   ]
  },
  {
   "cell_type": "markdown",
   "id": "587e797c-2f6a-4c32-a370-dc9c43b11546",
   "metadata": {},
   "source": [
    "## Test Loop"
   ]
  },
  {
   "cell_type": "code",
   "execution_count": 2,
   "id": "d672272e-069d-4bf4-81b2-f57542d61be7",
   "metadata": {},
   "outputs": [
    {
     "name": "stdout",
     "output_type": "stream",
     "text": [
      "\u001b[0m\u001b[38;5;27mannotation\u001b[0m  \u001b[38;5;27mcoverage\u001b[0m             \u001b[38;5;27mdatabase\u001b[0m      \u001b[38;5;27mfragment_tmp1\u001b[0m  \u001b[38;5;27mtest\u001b[0m\n",
      "\u001b[38;5;27mcount\u001b[0m       \u001b[38;5;27mcoverage_tmp1\u001b[0m        \u001b[38;5;27mfragment\u001b[0m      \u001b[38;5;27mfragment_tmp2\u001b[0m\n",
      "\u001b[38;5;27mcount_tmp\u001b[0m   \u001b[38;5;27mcoverage_tmp_220514\u001b[0m  \u001b[38;5;27mfragment_nuc\u001b[0m  \u001b[38;5;27mscratch\u001b[0m\n"
     ]
    }
   ],
   "source": [
    "FD_BED=${FD_RES}/KS91_K562_ASTARRseq/count\n",
    "FD_COV=${FD_RES}/KS91_K562_ASTARRseq/coverage\n",
    "ls ${FD_RES}/KS91_K562_ASTARRseq"
   ]
  },
  {
   "cell_type": "code",
   "execution_count": 3,
   "id": "312a62cc-b355-4189-ada0-a6d8971e60f5",
   "metadata": {
    "collapsed": true,
    "jupyter": {
     "outputs_hidden": true
    },
    "tags": []
   },
   "outputs": [
    {
     "name": "stdout",
     "output_type": "stream",
     "text": [
      "KS91_K562_hg38_ASTARRseq_Input_rep1.FADS.stranded_neg.bed\n",
      "KS91_K562_hg38_ASTARRseq_Input_rep1.FADS.stranded_pos.bed\n",
      "KS91_K562_hg38_ASTARRseq_Input_rep1.FADS.unstranded.bed\n",
      "KS91_K562_hg38_ASTARRseq_Input_rep1.GATA1.stranded_neg.bed\n",
      "KS91_K562_hg38_ASTARRseq_Input_rep1.GATA1.stranded_pos.bed\n",
      "KS91_K562_hg38_ASTARRseq_Input_rep1.GATA1.unstranded.bed\n",
      "KS91_K562_hg38_ASTARRseq_Input_rep1.MYC.stranded_neg.bed\n",
      "KS91_K562_hg38_ASTARRseq_Input_rep1.MYC.stranded_pos.bed\n",
      "KS91_K562_hg38_ASTARRseq_Input_rep1.MYC.unstranded.bed\n",
      "KS91_K562_hg38_ASTARRseq_Input_rep2.FADS.stranded_neg.bed\n",
      "KS91_K562_hg38_ASTARRseq_Input_rep2.FADS.stranded_pos.bed\n",
      "KS91_K562_hg38_ASTARRseq_Input_rep2.FADS.unstranded.bed\n",
      "KS91_K562_hg38_ASTARRseq_Input_rep2.GATA1.stranded_neg.bed\n",
      "KS91_K562_hg38_ASTARRseq_Input_rep2.GATA1.stranded_pos.bed\n",
      "KS91_K562_hg38_ASTARRseq_Input_rep2.GATA1.unstranded.bed\n",
      "KS91_K562_hg38_ASTARRseq_Input_rep2.MYC.stranded_neg.bed\n",
      "KS91_K562_hg38_ASTARRseq_Input_rep2.MYC.stranded_pos.bed\n",
      "KS91_K562_hg38_ASTARRseq_Input_rep2.MYC.unstranded.bed\n",
      "KS91_K562_hg38_ASTARRseq_Input_rep3.FADS.stranded_neg.bed\n",
      "KS91_K562_hg38_ASTARRseq_Input_rep3.FADS.stranded_pos.bed\n",
      "KS91_K562_hg38_ASTARRseq_Input_rep3.FADS.unstranded.bed\n",
      "KS91_K562_hg38_ASTARRseq_Input_rep3.GATA1.stranded_neg.bed\n",
      "KS91_K562_hg38_ASTARRseq_Input_rep3.GATA1.stranded_pos.bed\n",
      "KS91_K562_hg38_ASTARRseq_Input_rep3.GATA1.unstranded.bed\n",
      "KS91_K562_hg38_ASTARRseq_Input_rep3.MYC.stranded_neg.bed\n",
      "KS91_K562_hg38_ASTARRseq_Input_rep3.MYC.stranded_pos.bed\n",
      "KS91_K562_hg38_ASTARRseq_Input_rep3.MYC.unstranded.bed\n",
      "KS91_K562_hg38_ASTARRseq_Input_rep4.FADS.stranded_neg.bed\n",
      "KS91_K562_hg38_ASTARRseq_Input_rep4.FADS.stranded_pos.bed\n",
      "KS91_K562_hg38_ASTARRseq_Input_rep4.FADS.unstranded.bed\n",
      "KS91_K562_hg38_ASTARRseq_Input_rep4.GATA1.stranded_neg.bed\n",
      "KS91_K562_hg38_ASTARRseq_Input_rep4.GATA1.stranded_pos.bed\n",
      "KS91_K562_hg38_ASTARRseq_Input_rep4.GATA1.unstranded.bed\n",
      "KS91_K562_hg38_ASTARRseq_Input_rep4.MYC.stranded_neg.bed\n",
      "KS91_K562_hg38_ASTARRseq_Input_rep4.MYC.stranded_pos.bed\n",
      "KS91_K562_hg38_ASTARRseq_Input_rep4.MYC.unstranded.bed\n",
      "KS91_K562_hg38_ASTARRseq_Input_rep5.FADS.stranded_neg.bed\n",
      "KS91_K562_hg38_ASTARRseq_Input_rep5.FADS.stranded_pos.bed\n",
      "KS91_K562_hg38_ASTARRseq_Input_rep5.FADS.unstranded.bed\n",
      "KS91_K562_hg38_ASTARRseq_Input_rep5.GATA1.stranded_neg.bed\n",
      "KS91_K562_hg38_ASTARRseq_Input_rep5.GATA1.stranded_pos.bed\n",
      "KS91_K562_hg38_ASTARRseq_Input_rep5.GATA1.unstranded.bed\n",
      "KS91_K562_hg38_ASTARRseq_Input_rep5.MYC.stranded_neg.bed\n",
      "KS91_K562_hg38_ASTARRseq_Input_rep5.MYC.stranded_pos.bed\n",
      "KS91_K562_hg38_ASTARRseq_Input_rep5.MYC.unstranded.bed\n",
      "KS91_K562_hg38_ASTARRseq_Input_rep6.FADS.stranded_neg.bed\n",
      "KS91_K562_hg38_ASTARRseq_Input_rep6.FADS.stranded_pos.bed\n",
      "KS91_K562_hg38_ASTARRseq_Input_rep6.FADS.unstranded.bed\n",
      "KS91_K562_hg38_ASTARRseq_Input_rep6.GATA1.stranded_neg.bed\n",
      "KS91_K562_hg38_ASTARRseq_Input_rep6.GATA1.stranded_pos.bed\n",
      "KS91_K562_hg38_ASTARRseq_Input_rep6.GATA1.unstranded.bed\n",
      "KS91_K562_hg38_ASTARRseq_Input_rep6.MYC.stranded_neg.bed\n",
      "KS91_K562_hg38_ASTARRseq_Input_rep6.MYC.stranded_pos.bed\n",
      "KS91_K562_hg38_ASTARRseq_Input_rep6.MYC.unstranded.bed\n",
      "KS91_K562_hg38_ASTARRseq_Output_rep1.FADS.stranded_neg.bed\n",
      "KS91_K562_hg38_ASTARRseq_Output_rep1.FADS.stranded_pos.bed\n",
      "KS91_K562_hg38_ASTARRseq_Output_rep1.FADS.unstranded.bed\n",
      "KS91_K562_hg38_ASTARRseq_Output_rep1.GATA1.stranded_neg.bed\n",
      "KS91_K562_hg38_ASTARRseq_Output_rep1.GATA1.stranded_pos.bed\n",
      "KS91_K562_hg38_ASTARRseq_Output_rep1.GATA1.unstranded.bed\n",
      "KS91_K562_hg38_ASTARRseq_Output_rep1.MYC.stranded_neg.bed\n",
      "KS91_K562_hg38_ASTARRseq_Output_rep1.MYC.stranded_pos.bed\n",
      "KS91_K562_hg38_ASTARRseq_Output_rep1.MYC.unstranded.bed\n",
      "KS91_K562_hg38_ASTARRseq_Output_rep2.FADS.stranded_neg.bed\n",
      "KS91_K562_hg38_ASTARRseq_Output_rep2.FADS.stranded_pos.bed\n",
      "KS91_K562_hg38_ASTARRseq_Output_rep2.FADS.unstranded.bed\n",
      "KS91_K562_hg38_ASTARRseq_Output_rep2.GATA1.stranded_neg.bed\n",
      "KS91_K562_hg38_ASTARRseq_Output_rep2.GATA1.stranded_pos.bed\n",
      "KS91_K562_hg38_ASTARRseq_Output_rep2.GATA1.unstranded.bed\n",
      "KS91_K562_hg38_ASTARRseq_Output_rep2.MYC.stranded_neg.bed\n",
      "KS91_K562_hg38_ASTARRseq_Output_rep2.MYC.stranded_pos.bed\n",
      "KS91_K562_hg38_ASTARRseq_Output_rep2.MYC.unstranded.bed\n",
      "KS91_K562_hg38_ASTARRseq_Output_rep3.FADS.stranded_neg.bed\n",
      "KS91_K562_hg38_ASTARRseq_Output_rep3.FADS.stranded_pos.bed\n",
      "KS91_K562_hg38_ASTARRseq_Output_rep3.FADS.unstranded.bed\n",
      "KS91_K562_hg38_ASTARRseq_Output_rep3.GATA1.stranded_neg.bed\n",
      "KS91_K562_hg38_ASTARRseq_Output_rep3.GATA1.stranded_pos.bed\n",
      "KS91_K562_hg38_ASTARRseq_Output_rep3.GATA1.unstranded.bed\n",
      "KS91_K562_hg38_ASTARRseq_Output_rep3.MYC.stranded_neg.bed\n",
      "KS91_K562_hg38_ASTARRseq_Output_rep3.MYC.stranded_pos.bed\n",
      "KS91_K562_hg38_ASTARRseq_Output_rep3.MYC.unstranded.bed\n",
      "KS91_K562_hg38_ASTARRseq_Output_rep4.FADS.stranded_neg.bed\n",
      "KS91_K562_hg38_ASTARRseq_Output_rep4.FADS.stranded_pos.bed\n",
      "KS91_K562_hg38_ASTARRseq_Output_rep4.FADS.unstranded.bed\n",
      "KS91_K562_hg38_ASTARRseq_Output_rep4.GATA1.stranded_neg.bed\n",
      "KS91_K562_hg38_ASTARRseq_Output_rep4.GATA1.stranded_pos.bed\n",
      "KS91_K562_hg38_ASTARRseq_Output_rep4.GATA1.unstranded.bed\n",
      "KS91_K562_hg38_ASTARRseq_Output_rep4.MYC.stranded_neg.bed\n",
      "KS91_K562_hg38_ASTARRseq_Output_rep4.MYC.stranded_pos.bed\n",
      "KS91_K562_hg38_ASTARRseq_Output_rep4.MYC.unstranded.bed\n"
     ]
    }
   ],
   "source": [
    "ls ${FD_BED}"
   ]
  },
  {
   "cell_type": "markdown",
   "id": "db1dad50-1177-477b-a0e3-d287179afe49",
   "metadata": {},
   "source": [
    "## Set region\n",
    "\n",
    "- `GATA1 chr X: 47786500- 49786650`\n",
    "- `MYC   chr 8:126735970-128736170`\n",
    "- `FADS  chr11: 61787220- 61898450`"
   ]
  },
  {
   "cell_type": "markdown",
   "id": "6e486e41-e6f0-44e7-b13b-b744464a6ce1",
   "metadata": {},
   "source": [
    "**Set region by range**"
   ]
  },
  {
   "cell_type": "code",
   "execution_count": 7,
   "id": "bad7e99a-35eb-4b71-aaa0-7afbb6f5f1ad",
   "metadata": {},
   "outputs": [
    {
     "name": "stdout",
     "output_type": "stream",
     "text": [
      "chrX\t47786500\t49786650\n"
     ]
    }
   ],
   "source": [
    "START=47786500\n",
    "END=49786650\n",
    "CHROM=chrX\n",
    "\n",
    "FP_OUT=${FD_RES}/KS91_K562_ASTARRseq/coverage/region_GATA1.bed\n",
    "cat /dev/null > ${FP_OUT}\n",
    "echo -e \"${CHROM}\\\\t${START}\\\\t${END}\" >> ${FP_OUT}\n",
    "cat ${FP_OUT}"
   ]
  },
  {
   "cell_type": "code",
   "execution_count": 8,
   "id": "11cb4c4b-69e7-4a24-a28b-ded3ed38bded",
   "metadata": {},
   "outputs": [
    {
     "name": "stdout",
     "output_type": "stream",
     "text": [
      "chr8\t126735970\t128736170\n"
     ]
    }
   ],
   "source": [
    "START=126735970\n",
    "END=128736170\n",
    "CHROM=chr8\n",
    "\n",
    "FP_OUT=${FD_RES}/KS91_K562_ASTARRseq/coverage/region_MYC.bed\n",
    "cat /dev/null > ${FP_OUT}\n",
    "echo -e \"${CHROM}\\\\t${START}\\\\t${END}\" >> ${FP_OUT}\n",
    "cat ${FP_OUT}"
   ]
  },
  {
   "cell_type": "code",
   "execution_count": 9,
   "id": "0838ad77-2fda-4054-9a14-6d9eac5869fb",
   "metadata": {},
   "outputs": [
    {
     "name": "stdout",
     "output_type": "stream",
     "text": [
      "chr11\t61787220\t61898450\n"
     ]
    }
   ],
   "source": [
    "START=61787220\n",
    "END=61898450\n",
    "CHROM=chr11\n",
    "\n",
    "FP_OUT=${FD_RES}/KS91_K562_ASTARRseq/coverage/region_FADS.bed\n",
    "cat /dev/null > ${FP_OUT}\n",
    "echo -e \"${CHROM}\\\\t${START}\\\\t${END}\" >> ${FP_OUT}\n",
    "cat ${FP_OUT}"
   ]
  },
  {
   "cell_type": "markdown",
   "id": "8607f93f-d8ad-4b99-a2ec-9fe2227cdf44",
   "metadata": {},
   "source": [
    "**Set region by base**"
   ]
  },
  {
   "cell_type": "code",
   "execution_count": 4,
   "id": "d046f349-45f0-4118-9881-a0fff953875d",
   "metadata": {},
   "outputs": [],
   "source": [
    "START=47786500\n",
    "END=49786650\n",
    "CHROM=chrX\n",
    "\n",
    "FP_OUT=${FD_RES}/KS91_K562_ASTARRseq/coverage/region_GATA1_perbase.bed\n",
    "cat /dev/null > ${FP_OUT}\n",
    "for LOC in $(seq ${START} ${END}); do\n",
    "    echo -e \"${CHROM}\\\\t${LOC}\\\\t$((${LOC} + 1))\" >> ${FP_OUT}\n",
    "done"
   ]
  },
  {
   "cell_type": "code",
   "execution_count": 5,
   "id": "2462241f-305c-46e1-89a6-8d88273fb88a",
   "metadata": {},
   "outputs": [],
   "source": [
    "START=126735970\n",
    "END=128736170\n",
    "CHROM=chr8\n",
    "\n",
    "FP_OUT=${FD_RES}/KS91_K562_ASTARRseq/coverage/region_MYC_perbase.bed\n",
    "cat /dev/null > ${FP_OUT}\n",
    "for LOC in $(seq ${START} ${END}); do\n",
    "    echo -e \"${CHROM}\\\\t${LOC}\\\\t$((${LOC} + 1))\" >> ${FP_OUT}\n",
    "done"
   ]
  },
  {
   "cell_type": "code",
   "execution_count": 6,
   "id": "75ad39ef-1f3c-4539-b476-3bed6359dabe",
   "metadata": {},
   "outputs": [],
   "source": [
    "START=61787220\n",
    "END=61898450\n",
    "CHROM=chr11\n",
    "\n",
    "FP_OUT=${FD_RES}/KS91_K562_ASTARRseq/coverage/region_FADS_perbase.bed\n",
    "cat /dev/null > ${FP_OUT}\n",
    "for LOC in $(seq ${START} ${END}); do\n",
    "    echo -e \"${CHROM}\\\\t${LOC}\\\\t$((${LOC} + 1))\" >> ${FP_OUT}\n",
    "done"
   ]
  },
  {
   "cell_type": "code",
   "execution_count": 7,
   "id": "6fe8bc7d-16fe-40c2-a053-3a66f117c1ea",
   "metadata": {},
   "outputs": [
    {
     "name": "stdout",
     "output_type": "stream",
     "text": [
      "==> /gpfs/fs1/data/reddylab/Kuei/out/proj_combeffect_encode_fcc/KS91_K562_ASTARRseq/coverage/region_FADS_perbase.bed <==\n",
      "chr11\t61787220\t61787221\n",
      "chr11\t61787221\t61787222\n",
      "chr11\t61787222\t61787223\n",
      "\n",
      "==> /gpfs/fs1/data/reddylab/Kuei/out/proj_combeffect_encode_fcc/KS91_K562_ASTARRseq/coverage/region_GATA1_perbase.bed <==\n",
      "chrX\t47786500\t47786501\n",
      "chrX\t47786501\t47786502\n",
      "chrX\t47786502\t47786503\n",
      "\n",
      "==> /gpfs/fs1/data/reddylab/Kuei/out/proj_combeffect_encode_fcc/KS91_K562_ASTARRseq/coverage/region_MYC_perbase.bed <==\n",
      "chr8\t126735970\t126735971\n",
      "chr8\t126735971\t126735972\n",
      "chr8\t126735972\t126735973\n"
     ]
    }
   ],
   "source": [
    "head -3 ${FD_RES}/KS91_K562_ASTARRseq/coverage/region*perbase.bed"
   ]
  },
  {
   "cell_type": "code",
   "execution_count": 8,
   "id": "f7587e0d-6861-41a1-a806-1c3b472a5ec0",
   "metadata": {},
   "outputs": [
    {
     "name": "stdout",
     "output_type": "stream",
     "text": [
      "==> /gpfs/fs1/data/reddylab/Kuei/out/proj_combeffect_encode_fcc/KS91_K562_ASTARRseq/coverage/region_FADS_perbase.bed <==\n",
      "chr11\t61898448\t61898449\n",
      "chr11\t61898449\t61898450\n",
      "chr11\t61898450\t61898451\n",
      "\n",
      "==> /gpfs/fs1/data/reddylab/Kuei/out/proj_combeffect_encode_fcc/KS91_K562_ASTARRseq/coverage/region_GATA1_perbase.bed <==\n",
      "chrX\t49786648\t49786649\n",
      "chrX\t49786649\t49786650\n",
      "chrX\t49786650\t49786651\n",
      "\n",
      "==> /gpfs/fs1/data/reddylab/Kuei/out/proj_combeffect_encode_fcc/KS91_K562_ASTARRseq/coverage/region_MYC_perbase.bed <==\n",
      "chr8\t128736168\t128736169\n",
      "chr8\t128736169\t128736170\n",
      "chr8\t128736170\t128736171\n"
     ]
    }
   ],
   "source": [
    "tail -n 3 ${FD_RES}/KS91_K562_ASTARRseq/coverage/region*perbase.bed"
   ]
  },
  {
   "cell_type": "markdown",
   "id": "0c7cf481-52ef-40b0-90bd-a87d6c99784c",
   "metadata": {},
   "source": [
    "## Count total fragments for each region"
   ]
  },
  {
   "cell_type": "markdown",
   "id": "8e5f30b8-ad5c-4ded-9fde-c6fc00df7c15",
   "metadata": {},
   "source": [
    "**Test**"
   ]
  },
  {
   "cell_type": "code",
   "execution_count": 12,
   "id": "898d2058-692d-4b38-8531-75e4c09cfc25",
   "metadata": {},
   "outputs": [
    {
     "name": "stdout",
     "output_type": "stream",
     "text": [
      "KS91_K562_hg38_ASTARRseq_Input_rep1.GATA1.unstranded.bed\n",
      "KS91_K562_hg38_ASTARRseq_Input_rep1.GATA1.unstranded.total_count.tsv\n",
      "KS91_K562_hg38_ASTARRseq_Output_rep1.GATA1.unstranded.bed\n",
      "KS91_K562_hg38_ASTARRseq_Output_rep1.GATA1.unstranded.total_count.tsv\n"
     ]
    }
   ],
   "source": [
    "FD_BED=${FD_RES}/KS91_K562_ASTARRseq/count\n",
    "FD_COV=${FD_RES}/KS91_K562_ASTARRseq/coverage\n",
    "\n",
    "REP=rep1\n",
    "REGION=GATA1\n",
    "FP_CNTS=($(ls ${FD_BED}/*${REP}*${REGION}*.unstranded.bed))\n",
    "for FP_INP in ${FP_CNTS[@]}; do\n",
    "    FN_INP=$(basename ${FP_INP})\n",
    "    FN_OUT=${FN_INP%.*}.total_count.tsv\n",
    "    echo ${FN_INP}\n",
    "    echo ${FN_OUT}\n",
    "done"
   ]
  },
  {
   "cell_type": "markdown",
   "id": "2c92fe4b-10b7-4c2f-a6e7-4f696e9c09e2",
   "metadata": {},
   "source": [
    "**Run**"
   ]
  },
  {
   "cell_type": "code",
   "execution_count": 20,
   "id": "d13cdd3d-bf0c-40e0-b001-0b8dd5cd3b52",
   "metadata": {},
   "outputs": [
    {
     "name": "stdout",
     "output_type": "stream",
     "text": [
      "Submitted batch job 28256262\n",
      "Submitted batch job 28256263\n",
      "Submitted batch job 28256264\n"
     ]
    }
   ],
   "source": [
    "REGIONS=(GATA1 MYC FADS)\n",
    "for REGION in ${REGIONS[@]}; do\n",
    "\n",
    "sbatch -p ${NODE} \\\n",
    "    --mem 8G \\\n",
    "    --array 1-6 \\\n",
    "    --export=REGION=${REGION} \\\n",
    "    -o ${FD_LOG}/ASTARR_coverage_total_count_${REGION}.%a.txt \\\n",
    "    <<'EOF'\n",
    "#!/bin/bash\n",
    "### set directories & global variables\n",
    "source ../config_duke.sh\n",
    "source ../config_load_module_bedtools.sh\n",
    "\n",
    "### set input and output directory\n",
    "FD_CNT=${FD_RES}/KS91_K562_ASTARRseq/count\n",
    "FD_COV=${FD_RES}/KS91_K562_ASTARRseq/coverage\n",
    "REP=rep${SLURM_ARRAY_TASK_ID}\n",
    "\n",
    "### print start message\n",
    "timer_start=`date +%s`\n",
    "echo \"Slurm Array Index: \" ${SLURM_ARRAY_TASK_ID}\n",
    "echo \"Time Stamp:        \" $(date +\"%m-%d-%y+%T\")\n",
    "echo\n",
    "\n",
    "FP_CNTS=($(ls ${FD_CNT}/*${REP}*${REGION}*.unstranded.bed))\n",
    "for FP_INP in ${FP_CNTS[@]}; do\n",
    "\n",
    "    ### set input and output file\n",
    "    FN_INP=$(basename ${FP_INP})\n",
    "    FN_OUT=${FN_INP%.*}.total_count.tsv\n",
    "    FP_OUT=${FD_COV}/${FN_OUT}\n",
    "    echo ++++++++++++++++++++++++++++++++++++++\n",
    "    echo\n",
    "    \n",
    "    ### show input file\n",
    "    echo \"Input: \" ${FP_INP}\n",
    "    echo\n",
    "    echo \"show first few lines of input\"\n",
    "    cat ${FP_INP} | head -5\n",
    "    echo\n",
    "    echo \"show last few lines of input\"\n",
    "    cat ${FP_INP} | tail -n 5\n",
    "    echo\n",
    "    \n",
    "    ### execute\n",
    "    bedtools map \\\n",
    "        -a ${FD_COV}/region_${REGION}.bed \\\n",
    "        -b ${FP_INP} \\\n",
    "        -o sum > ${FP_OUT}\n",
    "    \n",
    "    ### show output file\n",
    "    echo \"Output: \" ${FP_OUT}\n",
    "    echo\n",
    "    cat ${FP_OUT}\n",
    "    echo\n",
    "done\n",
    "\n",
    "### print end message\n",
    "timer=`date +%s`\n",
    "runtime=$(echo \"${timer} - ${timer_start}\" | bc -l)\n",
    "echo\n",
    "echo 'Done!'\n",
    "echo \"Run Time: $(displaytime ${runtime})\"\n",
    "EOF\n",
    "\n",
    "done"
   ]
  },
  {
   "cell_type": "markdown",
   "id": "f2d217b6-190f-48b7-b47d-318f2713312e",
   "metadata": {},
   "source": [
    "**Check log**"
   ]
  },
  {
   "cell_type": "code",
   "execution_count": 21,
   "id": "20f92d37-3dc4-46d1-a3cb-d09bb79ce8a8",
   "metadata": {},
   "outputs": [
    {
     "name": "stdout",
     "output_type": "stream",
     "text": [
      "Slurm Array Index:  1\n",
      "Time Stamp:         05-15-22+13:26:26\n",
      "\n",
      "++++++++++++++++++++++++++++++++++++++\n",
      "\n",
      "Input:  /gpfs/fs1/data/reddylab/Kuei/out/proj_combeffect_encode_fcc/KS91_K562_ASTARRseq/count/KS91_K562_hg38_ASTARRseq_Input_rep1.GATA1.unstranded.bed\n",
      "\n",
      "show first few lines of input\n",
      "chrX\t47787165\t47787363\tchrX_47787165_47787363\t1\t.\n",
      "chrX\t47787557\t47787773\tchrX_47787557_47787773\t1\t.\n",
      "chrX\t47787593\t47787783\tchrX_47787593_47787783\t1\t.\n",
      "chrX\t47787598\t47787772\tchrX_47787598_47787772\t1\t.\n",
      "chrX\t47787661\t47788058\tchrX_47787661_47788058\t1\t.\n",
      "\n",
      "show last few lines of input\n",
      "chrX\t49786329\t49786456\tchrX_49786329_49786456\t1\t.\n",
      "chrX\t49786338\t49786527\tchrX_49786338_49786527\t1\t.\n",
      "chrX\t49786343\t49786510\tchrX_49786343_49786510\t1\t.\n",
      "chrX\t49786423\t49786588\tchrX_49786423_49786588\t1\t.\n",
      "chrX\t49786428\t49786620\tchrX_49786428_49786620\t1\t.\n",
      "\n",
      "Output:  /gpfs/fs1/data/reddylab/Kuei/out/proj_combeffect_encode_fcc/KS91_K562_ASTARRseq/coverage/KS91_K562_hg38_ASTARRseq_Input_rep1.GATA1.unstranded.total_count.tsv\n",
      "\n",
      "chrX\t47786500\t49786650\t358823\n",
      "\n",
      "++++++++++++++++++++++++++++++++++++++\n",
      "\n",
      "Input:  /gpfs/fs1/data/reddylab/Kuei/out/proj_combeffect_encode_fcc/KS91_K562_ASTARRseq/count/KS91_K562_hg38_ASTARRseq_Output_rep1.GATA1.unstranded.bed\n",
      "\n",
      "show first few lines of input\n",
      "chrX\t47787189\t47787363\tchrX_47787189_47787363\t6\t.\n",
      "chrX\t47788545\t47789154\tchrX_47788545_47789154\t6\t.\n",
      "chrX\t47788659\t47788978\tchrX_47788659_47788978\t4\t.\n",
      "chrX\t47788659\t47788979\tchrX_47788659_47788979\t18\t.\n",
      "chrX\t47788660\t47788978\tchrX_47788660_47788978\t1\t.\n",
      "\n",
      "show last few lines of input\n",
      "chrX\t49785587\t49785783\tchrX_49785587_49785783\t1\t.\n",
      "chrX\t49785715\t49785972\tchrX_49785715_49785972\t1\t.\n",
      "chrX\t49785715\t49785973\tchrX_49785715_49785973\t50\t.\n",
      "chrX\t49785716\t49785972\tchrX_49785716_49785972\t1\t.\n",
      "chrX\t49785716\t49785973\tchrX_49785716_49785973\t2\t.\n",
      "\n",
      "Output:  /gpfs/fs1/data/reddylab/Kuei/out/proj_combeffect_encode_fcc/KS91_K562_ASTARRseq/coverage/KS91_K562_hg38_ASTARRseq_Output_rep1.GATA1.unstranded.total_count.tsv\n",
      "\n",
      "chrX\t47786500\t49786650\t505724\n",
      "\n",
      "\n",
      "Done!\n",
      "Run Time: 1 seconds\n"
     ]
    }
   ],
   "source": [
    "cat ${FD_LOG}/ASTARR_coverage_total_count_GATA1.1.txt"
   ]
  },
  {
   "cell_type": "markdown",
   "id": "81c12d05-5fc6-4410-a461-fa26e7996f3c",
   "metadata": {
    "tags": []
   },
   "source": [
    "## Calculate coverage perbase for input and output"
   ]
  },
  {
   "cell_type": "markdown",
   "id": "658a752e-fb09-4ab6-b089-a1c9f79b59f2",
   "metadata": {},
   "source": [
    "**Test Loop**"
   ]
  },
  {
   "cell_type": "code",
   "execution_count": 37,
   "id": "e972952a-0346-4ec5-ae9f-163d83801da7",
   "metadata": {},
   "outputs": [
    {
     "name": "stdout",
     "output_type": "stream",
     "text": [
      "KS91_K562_hg38_ASTARRseq_Input_rep1.FADS.stranded_neg.bed\n",
      "KS91_K562_hg38_ASTARRseq_Input_rep1.FADS.stranded_neg.perbase.tsv.gz\n",
      "KS91_K562_hg38_ASTARRseq_Input_rep1.FADS.stranded_pos.bed\n",
      "KS91_K562_hg38_ASTARRseq_Input_rep1.FADS.stranded_pos.perbase.tsv.gz\n",
      "KS91_K562_hg38_ASTARRseq_Input_rep1.FADS.unstranded.bed\n",
      "KS91_K562_hg38_ASTARRseq_Input_rep1.FADS.unstranded.perbase.tsv.gz\n",
      "KS91_K562_hg38_ASTARRseq_Input_rep1.GATA1.stranded_neg.bed\n",
      "KS91_K562_hg38_ASTARRseq_Input_rep1.GATA1.stranded_neg.perbase.tsv.gz\n",
      "KS91_K562_hg38_ASTARRseq_Input_rep1.GATA1.stranded_pos.bed\n",
      "KS91_K562_hg38_ASTARRseq_Input_rep1.GATA1.stranded_pos.perbase.tsv.gz\n",
      "KS91_K562_hg38_ASTARRseq_Input_rep1.GATA1.unstranded.bed\n",
      "KS91_K562_hg38_ASTARRseq_Input_rep1.GATA1.unstranded.perbase.tsv.gz\n",
      "KS91_K562_hg38_ASTARRseq_Input_rep1.MYC.stranded_neg.bed\n",
      "KS91_K562_hg38_ASTARRseq_Input_rep1.MYC.stranded_neg.perbase.tsv.gz\n",
      "KS91_K562_hg38_ASTARRseq_Input_rep1.MYC.stranded_pos.bed\n",
      "KS91_K562_hg38_ASTARRseq_Input_rep1.MYC.stranded_pos.perbase.tsv.gz\n",
      "KS91_K562_hg38_ASTARRseq_Input_rep1.MYC.unstranded.bed\n",
      "KS91_K562_hg38_ASTARRseq_Input_rep1.MYC.unstranded.perbase.tsv.gz\n",
      "KS91_K562_hg38_ASTARRseq_Output_rep1.FADS.stranded_neg.bed\n",
      "KS91_K562_hg38_ASTARRseq_Output_rep1.FADS.stranded_neg.perbase.tsv.gz\n",
      "KS91_K562_hg38_ASTARRseq_Output_rep1.FADS.stranded_pos.bed\n",
      "KS91_K562_hg38_ASTARRseq_Output_rep1.FADS.stranded_pos.perbase.tsv.gz\n",
      "KS91_K562_hg38_ASTARRseq_Output_rep1.FADS.unstranded.bed\n",
      "KS91_K562_hg38_ASTARRseq_Output_rep1.FADS.unstranded.perbase.tsv.gz\n",
      "KS91_K562_hg38_ASTARRseq_Output_rep1.GATA1.stranded_neg.bed\n",
      "KS91_K562_hg38_ASTARRseq_Output_rep1.GATA1.stranded_neg.perbase.tsv.gz\n",
      "KS91_K562_hg38_ASTARRseq_Output_rep1.GATA1.stranded_pos.bed\n",
      "KS91_K562_hg38_ASTARRseq_Output_rep1.GATA1.stranded_pos.perbase.tsv.gz\n",
      "KS91_K562_hg38_ASTARRseq_Output_rep1.GATA1.unstranded.bed\n",
      "KS91_K562_hg38_ASTARRseq_Output_rep1.GATA1.unstranded.perbase.tsv.gz\n",
      "KS91_K562_hg38_ASTARRseq_Output_rep1.MYC.stranded_neg.bed\n",
      "KS91_K562_hg38_ASTARRseq_Output_rep1.MYC.stranded_neg.perbase.tsv.gz\n",
      "KS91_K562_hg38_ASTARRseq_Output_rep1.MYC.stranded_pos.bed\n",
      "KS91_K562_hg38_ASTARRseq_Output_rep1.MYC.stranded_pos.perbase.tsv.gz\n",
      "KS91_K562_hg38_ASTARRseq_Output_rep1.MYC.unstranded.bed\n",
      "KS91_K562_hg38_ASTARRseq_Output_rep1.MYC.unstranded.perbase.tsv.gz\n"
     ]
    }
   ],
   "source": [
    "FD_BED=${FD_RES}/KS91_K562_ASTARRseq/count\n",
    "FD_COV=${FD_RES}/KS91_K562_ASTARRseq/coverage\n",
    "\n",
    "REP=rep1\n",
    "REGION=\n",
    "FP_BEDS=($(ls ${FD_BED}/*${REP}*bed))\n",
    "for FP_BED in ${FP_BEDS[@]}; do\n",
    "    FN_BED=$(basename ${FP_BED})\n",
    "    FN_OUT=${FN_BED%.*}.perbase.tsv.gz\n",
    "    echo ${FN_BED}\n",
    "    echo ${FN_OUT}\n",
    "done"
   ]
  },
  {
   "cell_type": "markdown",
   "id": "127c13b1-68a6-4d20-be61-1658c7a6eb40",
   "metadata": {},
   "source": [
    "**Run Loop**"
   ]
  },
  {
   "cell_type": "code",
   "execution_count": 4,
   "id": "cb246efb-cfec-41dc-8eb9-4d6d1640d5a9",
   "metadata": {},
   "outputs": [
    {
     "name": "stdout",
     "output_type": "stream",
     "text": [
      "Submitted batch job 28256208\n",
      "Submitted batch job 28256209\n",
      "Submitted batch job 28256210\n"
     ]
    }
   ],
   "source": [
    "REGIONS=(GATA1 MYC FADS)\n",
    "for REGION in ${REGIONS[@]}; do\n",
    "\n",
    "sbatch -p ${NODE} \\\n",
    "    --mem 8G \\\n",
    "    --array 1-6 \\\n",
    "    --export=REGION=${REGION} \\\n",
    "    -o ${FD_LOG}/ASTARR_coverage_${REGION}.%a.txt \\\n",
    "    <<'EOF'\n",
    "#!/bin/bash\n",
    "### set directories & global variables\n",
    "source ../config_duke.sh\n",
    "source ../config_load_module_bedtools.sh\n",
    "\n",
    "### set input and output directory\n",
    "FD_CNT=${FD_RES}/KS91_K562_ASTARRseq/count\n",
    "FD_COV=${FD_RES}/KS91_K562_ASTARRseq/coverage\n",
    "REP=rep${SLURM_ARRAY_TASK_ID}\n",
    "\n",
    "### print start message\n",
    "timer_start=`date +%s`\n",
    "echo \"Slurm Array Index: \" ${SLURM_ARRAY_TASK_ID}\n",
    "echo \"Time Stamp:        \" $(date +\"%m-%d-%y+%T\")\n",
    "echo\n",
    "\n",
    "FP_CNTS=($(ls ${FD_CNT}/*${REP}*${REGION}*bed))\n",
    "for FP_INP in ${FP_CNTS[@]}; do\n",
    "\n",
    "    ### set input and output file\n",
    "    FN_INP=$(basename ${FP_INP})\n",
    "    FN_OUT=${FN_INP%.*}.perbase.tsv.gz\n",
    "    FP_OUT=${FD_COV}/${FN_OUT}\n",
    "    echo ++++++++++++++++++++++++++++++++++++++\n",
    "    echo\n",
    "    \n",
    "    ### show input file\n",
    "    echo \"Input: \" ${FP_INP}\n",
    "    echo\n",
    "    echo \"show first few lines of input\"\n",
    "    cat ${FP_INP} | head -5\n",
    "    echo\n",
    "    echo \"show last few lines of input\"\n",
    "    cat ${FP_INP} | tail -n 5\n",
    "    echo\n",
    "    \n",
    "    ### execute\n",
    "    bedtools map \\\n",
    "        -a ${FD_COV}/region_${REGION}_perbase.bed \\\n",
    "        -b ${FP_INP} \\\n",
    "        -o sum |\\\n",
    "        gzip -c > ${FP_OUT}\n",
    "    \n",
    "    ### show output file\n",
    "    echo \"Output: \" ${FP_OUT}\n",
    "    echo\n",
    "    echo \"show first few lines of output:\"\n",
    "    zcat ${FP_OUT} | head -5\n",
    "    echo\n",
    "    echo \"show last few lines of output\"\n",
    "    zcat ${FP_OUT} | tail -n 5\n",
    "    echo\n",
    "done\n",
    "\n",
    "### print end message\n",
    "timer=`date +%s`\n",
    "runtime=$(echo \"${timer} - ${timer_start}\" | bc -l)\n",
    "echo\n",
    "echo 'Done!'\n",
    "echo \"Run Time: $(displaytime ${runtime})\"\n",
    "EOF\n",
    "\n",
    "done"
   ]
  },
  {
   "cell_type": "markdown",
   "id": "73d4c136-8cf9-4817-9809-d93f88462e1d",
   "metadata": {
    "tags": []
   },
   "source": [
    "**Check log**"
   ]
  },
  {
   "cell_type": "code",
   "execution_count": 6,
   "id": "b10feacf-053b-44e1-a831-d17bd29a513c",
   "metadata": {},
   "outputs": [
    {
     "name": "stdout",
     "output_type": "stream",
     "text": [
      "Slurm Array Index:  2\n",
      "Time Stamp:         05-15-22+13:02:55\n",
      "\n",
      "++++++++++++++++++++++++++++++++++++++\n",
      "\n",
      "Input:  /gpfs/fs1/data/reddylab/Kuei/out/proj_combeffect_encode_fcc/KS91_K562_ASTARRseq/count/KS91_K562_hg38_ASTARRseq_Input_rep2.MYC.stranded_neg.bed\n",
      "\n",
      "show first few lines of input\n",
      "chr8\t126735994\t126736139\tchr8_126735994_126736139_-\t1\t-\n",
      "chr8\t126736025\t126736139\tchr8_126736025_126736139_-\t1\t-\n",
      "chr8\t126736025\t126736142\tchr8_126736025_126736142_-\t1\t-\n",
      "chr8\t126736025\t126736220\tchr8_126736025_126736220_-\t1\t-\n",
      "chr8\t126736083\t126736387\tchr8_126736083_126736387_-\t1\t-\n",
      "\n",
      "show last few lines of input\n",
      "chr8\t128735843\t128735996\tchr8_128735843_128735996_-\t1\t-\n",
      "chr8\t128735883\t128736114\tchr8_128735883_128736114_-\t1\t-\n",
      "chr8\t128735894\t128736166\tchr8_128735894_128736166_-\t1\t-\n",
      "chr8\t128735916\t128736114\tchr8_128735916_128736114_-\t1\t-\n",
      "chr8\t128735953\t128736114\tchr8_128735953_128736114_-\t1\t-\n",
      "\n",
      "Output:  /gpfs/fs1/data/reddylab/Kuei/out/proj_combeffect_encode_fcc/KS91_K562_ASTARRseq/coverage/KS91_K562_hg38_ASTARRseq_Input_rep2.MYC.stranded_neg.perbase.tsv.gz\n",
      "\n",
      "show first few lines of output:\n",
      "chr8\t126735970\t126735971\t.\n",
      "chr8\t126735971\t126735972\t.\n",
      "chr8\t126735972\t126735973\t.\n",
      "chr8\t126735973\t126735974\t.\n",
      "chr8\t126735974\t126735975\t.\n",
      "\n",
      "show last few lines of output\n",
      "chr8\t128736166\t128736167\t.\n",
      "chr8\t128736167\t128736168\t.\n",
      "chr8\t128736168\t128736169\t.\n",
      "chr8\t128736169\t128736170\t.\n",
      "chr8\t128736170\t128736171\t.\n",
      "\n",
      "++++++++++++++++++++++++++++++++++++++\n",
      "\n",
      "Input:  /gpfs/fs1/data/reddylab/Kuei/out/proj_combeffect_encode_fcc/KS91_K562_ASTARRseq/count/KS91_K562_hg38_ASTARRseq_Input_rep2.MYC.stranded_pos.bed\n",
      "\n",
      "show first few lines of input\n",
      "chr8\t126735973\t126736170\tchr8_126735973_126736170_+\t1\t+\n",
      "chr8\t126735990\t126736101\tchr8_126735990_126736101_+\t1\t+\n",
      "chr8\t126736004\t126736113\tchr8_126736004_126736113_+\t1\t+\n",
      "chr8\t126736015\t126736203\tchr8_126736015_126736203_+\t1\t+\n",
      "chr8\t126736055\t126736219\tchr8_126736055_126736219_+\t1\t+\n",
      "\n",
      "show last few lines of input\n",
      "chr8\t128735788\t128735990\tchr8_128735788_128735990_+\t1\t+\n",
      "chr8\t128735892\t128736114\tchr8_128735892_128736114_+\t1\t+\n",
      "chr8\t128735914\t128736128\tchr8_128735914_128736128_+\t1\t+\n",
      "chr8\t128735969\t128736114\tchr8_128735969_128736114_+\t1\t+\n",
      "chr8\t128735986\t128736114\tchr8_128735986_128736114_+\t1\t+\n",
      "\n",
      "Output:  /gpfs/fs1/data/reddylab/Kuei/out/proj_combeffect_encode_fcc/KS91_K562_ASTARRseq/coverage/KS91_K562_hg38_ASTARRseq_Input_rep2.MYC.stranded_pos.perbase.tsv.gz\n",
      "\n",
      "show first few lines of output:\n",
      "chr8\t126735970\t126735971\t.\n",
      "chr8\t126735971\t126735972\t.\n",
      "chr8\t126735972\t126735973\t.\n",
      "chr8\t126735973\t126735974\t1\n",
      "chr8\t126735974\t126735975\t1\n",
      "\n",
      "show last few lines of output\n",
      "chr8\t128736166\t128736167\t.\n",
      "chr8\t128736167\t128736168\t.\n",
      "chr8\t128736168\t128736169\t.\n",
      "chr8\t128736169\t128736170\t.\n",
      "chr8\t128736170\t128736171\t.\n",
      "\n",
      "++++++++++++++++++++++++++++++++++++++\n",
      "\n",
      "Input:  /gpfs/fs1/data/reddylab/Kuei/out/proj_combeffect_encode_fcc/KS91_K562_ASTARRseq/count/KS91_K562_hg38_ASTARRseq_Input_rep2.MYC.unstranded.bed\n",
      "\n",
      "show first few lines of input\n",
      "chr8\t126735973\t126736170\tchr8_126735973_126736170\t1\t.\n",
      "chr8\t126735990\t126736101\tchr8_126735990_126736101\t1\t.\n",
      "chr8\t126735994\t126736139\tchr8_126735994_126736139\t1\t.\n",
      "chr8\t126736004\t126736113\tchr8_126736004_126736113\t1\t.\n",
      "chr8\t126736015\t126736203\tchr8_126736015_126736203\t1\t.\n",
      "\n",
      "show last few lines of input\n",
      "chr8\t128735914\t128736128\tchr8_128735914_128736128\t1\t.\n",
      "chr8\t128735916\t128736114\tchr8_128735916_128736114\t1\t.\n",
      "chr8\t128735953\t128736114\tchr8_128735953_128736114\t1\t.\n",
      "chr8\t128735969\t128736114\tchr8_128735969_128736114\t1\t.\n",
      "chr8\t128735986\t128736114\tchr8_128735986_128736114\t1\t.\n",
      "\n",
      "Output:  /gpfs/fs1/data/reddylab/Kuei/out/proj_combeffect_encode_fcc/KS91_K562_ASTARRseq/coverage/KS91_K562_hg38_ASTARRseq_Input_rep2.MYC.unstranded.perbase.tsv.gz\n",
      "\n",
      "show first few lines of output:\n",
      "chr8\t126735970\t126735971\t.\n",
      "chr8\t126735971\t126735972\t.\n",
      "chr8\t126735972\t126735973\t.\n",
      "chr8\t126735973\t126735974\t1\n",
      "chr8\t126735974\t126735975\t1\n",
      "\n",
      "show last few lines of output\n",
      "chr8\t128736166\t128736167\t.\n",
      "chr8\t128736167\t128736168\t.\n",
      "chr8\t128736168\t128736169\t.\n",
      "chr8\t128736169\t128736170\t.\n",
      "chr8\t128736170\t128736171\t.\n",
      "\n",
      "++++++++++++++++++++++++++++++++++++++\n",
      "\n",
      "Input:  /gpfs/fs1/data/reddylab/Kuei/out/proj_combeffect_encode_fcc/KS91_K562_ASTARRseq/count/KS91_K562_hg38_ASTARRseq_Output_rep2.MYC.stranded_neg.bed\n",
      "\n",
      "show first few lines of input\n",
      "chr8\t126735987\t126736392\tchr8_126735987_126736392_-\t1\t-\n",
      "chr8\t126736025\t126736188\tchr8_126736025_126736188_-\t1\t-\n",
      "chr8\t126737488\t126737901\tchr8_126737488_126737901_-\t11\t-\n",
      "chr8\t126738029\t126738145\tchr8_126738029_126738145_-\t2\t-\n",
      "chr8\t126738200\t126738403\tchr8_126738200_126738403_-\t22\t-\n",
      "\n",
      "show last few lines of input\n",
      "chr8\t128735625\t128735831\tchr8_128735625_128735831_-\t26\t-\n",
      "chr8\t128735638\t128735914\tchr8_128735638_128735914_-\t2\t-\n",
      "chr8\t128735638\t128735915\tchr8_128735638_128735915_-\t32\t-\n",
      "chr8\t128735639\t128735914\tchr8_128735639_128735914_-\t1\t-\n",
      "chr8\t128735639\t128735915\tchr8_128735639_128735915_-\t2\t-\n",
      "\n",
      "Output:  /gpfs/fs1/data/reddylab/Kuei/out/proj_combeffect_encode_fcc/KS91_K562_ASTARRseq/coverage/KS91_K562_hg38_ASTARRseq_Output_rep2.MYC.stranded_neg.perbase.tsv.gz\n",
      "\n",
      "show first few lines of output:\n",
      "chr8\t126735970\t126735971\t.\n",
      "chr8\t126735971\t126735972\t.\n",
      "chr8\t126735972\t126735973\t.\n",
      "chr8\t126735973\t126735974\t.\n",
      "chr8\t126735974\t126735975\t.\n",
      "\n",
      "show last few lines of output\n",
      "chr8\t128736166\t128736167\t.\n",
      "chr8\t128736167\t128736168\t.\n",
      "chr8\t128736168\t128736169\t.\n",
      "chr8\t128736169\t128736170\t.\n",
      "chr8\t128736170\t128736171\t.\n",
      "\n",
      "++++++++++++++++++++++++++++++++++++++\n",
      "\n",
      "Input:  /gpfs/fs1/data/reddylab/Kuei/out/proj_combeffect_encode_fcc/KS91_K562_ASTARRseq/count/KS91_K562_hg38_ASTARRseq_Output_rep2.MYC.stranded_pos.bed\n",
      "\n",
      "show first few lines of input\n",
      "chr8\t126736085\t126736346\tchr8_126736085_126736346_+\t8\t+\n",
      "chr8\t126736086\t126736346\tchr8_126736086_126736346_+\t1\t+\n",
      "chr8\t126736167\t126736548\tchr8_126736167_126736548_+\t1\t+\n",
      "chr8\t126736212\t126736393\tchr8_126736212_126736393_+\t1\t+\n",
      "chr8\t126736250\t126736533\tchr8_126736250_126736533_+\t1\t+\n",
      "\n",
      "show last few lines of input\n",
      "chr8\t128735349\t128735614\tchr8_128735349_128735614_+\t1\t+\n",
      "chr8\t128735349\t128735615\tchr8_128735349_128735615_+\t21\t+\n",
      "chr8\t128735937\t128736156\tchr8_128735937_128736156_+\t2\t+\n",
      "chr8\t128735937\t128736157\tchr8_128735937_128736157_+\t15\t+\n",
      "chr8\t128735938\t128736157\tchr8_128735938_128736157_+\t2\t+\n",
      "\n",
      "Output:  /gpfs/fs1/data/reddylab/Kuei/out/proj_combeffect_encode_fcc/KS91_K562_ASTARRseq/coverage/KS91_K562_hg38_ASTARRseq_Output_rep2.MYC.stranded_pos.perbase.tsv.gz\n",
      "\n",
      "show first few lines of output:\n",
      "chr8\t126735970\t126735971\t.\n",
      "chr8\t126735971\t126735972\t.\n",
      "chr8\t126735972\t126735973\t.\n",
      "chr8\t126735973\t126735974\t.\n",
      "chr8\t126735974\t126735975\t.\n",
      "\n",
      "show last few lines of output\n",
      "chr8\t128736166\t128736167\t.\n",
      "chr8\t128736167\t128736168\t.\n",
      "chr8\t128736168\t128736169\t.\n",
      "chr8\t128736169\t128736170\t.\n",
      "chr8\t128736170\t128736171\t.\n",
      "\n",
      "++++++++++++++++++++++++++++++++++++++\n",
      "\n",
      "Input:  /gpfs/fs1/data/reddylab/Kuei/out/proj_combeffect_encode_fcc/KS91_K562_ASTARRseq/count/KS91_K562_hg38_ASTARRseq_Output_rep2.MYC.unstranded.bed\n",
      "\n",
      "show first few lines of input\n",
      "chr8\t126735987\t126736392\tchr8_126735987_126736392\t1\t.\n",
      "chr8\t126736025\t126736188\tchr8_126736025_126736188\t1\t.\n",
      "chr8\t126736085\t126736346\tchr8_126736085_126736346\t8\t.\n",
      "chr8\t126736086\t126736346\tchr8_126736086_126736346\t1\t.\n",
      "chr8\t126736167\t126736548\tchr8_126736167_126736548\t1\t.\n",
      "\n",
      "show last few lines of input\n",
      "chr8\t128735639\t128735914\tchr8_128735639_128735914\t1\t.\n",
      "chr8\t128735639\t128735915\tchr8_128735639_128735915\t2\t.\n",
      "chr8\t128735937\t128736156\tchr8_128735937_128736156\t2\t.\n",
      "chr8\t128735937\t128736157\tchr8_128735937_128736157\t15\t.\n",
      "chr8\t128735938\t128736157\tchr8_128735938_128736157\t2\t.\n",
      "\n",
      "Output:  /gpfs/fs1/data/reddylab/Kuei/out/proj_combeffect_encode_fcc/KS91_K562_ASTARRseq/coverage/KS91_K562_hg38_ASTARRseq_Output_rep2.MYC.unstranded.perbase.tsv.gz\n",
      "\n",
      "show first few lines of output:\n",
      "chr8\t126735970\t126735971\t.\n",
      "chr8\t126735971\t126735972\t.\n",
      "chr8\t126735972\t126735973\t.\n",
      "chr8\t126735973\t126735974\t.\n",
      "chr8\t126735974\t126735975\t.\n",
      "\n",
      "show last few lines of output\n",
      "chr8\t128736166\t128736167\t.\n",
      "chr8\t128736167\t128736168\t.\n",
      "chr8\t128736168\t128736169\t.\n",
      "chr8\t128736169\t128736170\t.\n",
      "chr8\t128736170\t128736171\t.\n",
      "\n",
      "\n",
      "Done!\n",
      "Run Time: 1 minutes and 12 seconds\n"
     ]
    }
   ],
   "source": [
    "cat ${FD_LOG}/ASTARR_coverage_MYC.2.txt"
   ]
  },
  {
   "cell_type": "code",
   "execution_count": null,
   "id": "c05b8d36-72de-467b-a7e4-6913e73a8a1f",
   "metadata": {},
   "outputs": [],
   "source": []
  }
 ],
 "metadata": {
  "kernelspec": {
   "display_name": "Bash",
   "language": "bash",
   "name": "bash"
  },
  "language_info": {
   "codemirror_mode": "shell",
   "file_extension": ".sh",
   "mimetype": "text/x-sh",
   "name": "bash"
  }
 },
 "nbformat": 4,
 "nbformat_minor": 5
}
