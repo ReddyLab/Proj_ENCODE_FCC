{
 "cells": [
  {
   "cell_type": "markdown",
   "id": "25f11694-5f2f-4c4d-836f-0b7929cefac2",
   "metadata": {},
   "source": [
    "**Set environment**"
   ]
  },
  {
   "cell_type": "code",
   "execution_count": 1,
   "id": "3a4c49eb-2a7f-4f5c-8cfe-684bf3313b71",
   "metadata": {},
   "outputs": [
    {
     "name": "stdout",
     "output_type": "stream",
     "text": [
      "You are on Duke Server: HARDAC\n",
      "BASE DIRECTORY:     /gpfs/fs1/data/reddylab/Kuei\n",
      "PATH OF SOURCE:     /gpfs/fs1/data/reddylab/Kuei/source\n",
      "PATH OF EXECUTABLE: /gpfs/fs1/data/reddylab/Kuei/exe\n",
      "PATH OF ANNOTATION: /gpfs/fs1/data/reddylab/Kuei/annotation\n",
      "PATH OF PROJECT:    /gpfs/fs1/data/reddylab/Kuei/GitRepo/Proj_CombEffect_ENCODE_FCC/notebooks\n",
      "PATH OF RESULTS:    /gpfs/fs1/data/reddylab/Kuei/out/proj_combeffect_encode_fcc\n",
      "\n"
     ]
    }
   ],
   "source": [
    "source ../config_duke.sh; show_env\n",
    "source ../config_load_module_bedtools.sh"
   ]
  },
  {
   "cell_type": "markdown",
   "id": "587e797c-2f6a-4c32-a370-dc9c43b11546",
   "metadata": {},
   "source": [
    "## Test Loop"
   ]
  },
  {
   "cell_type": "code",
   "execution_count": 2,
   "id": "d672272e-069d-4bf4-81b2-f57542d61be7",
   "metadata": {},
   "outputs": [
    {
     "name": "stdout",
     "output_type": "stream",
     "text": [
      "\u001b[0m\u001b[38;5;27mannotation\u001b[0m  \u001b[38;5;27mcoverage\u001b[0m      \u001b[38;5;27mdatabase\u001b[0m  \u001b[38;5;27mfragment_nuc\u001b[0m   \u001b[38;5;27mfragment_tmp2\u001b[0m\n",
      "\u001b[38;5;27mcount\u001b[0m       \u001b[38;5;27mcoverage_tmp\u001b[0m  \u001b[38;5;27mfragment\u001b[0m  \u001b[38;5;27mfragment_tmp1\u001b[0m  \u001b[38;5;27mtest\u001b[0m\n"
     ]
    }
   ],
   "source": [
    "FD_FRG=${FD_RES}/KS91_K562_ASTARRseq/fragment\n",
    "FD_COV=${FD_RES}/KS91_K562_ASTARRseq/coverage\n",
    "ls ${FD_RES}/KS91_K562_ASTARRseq"
   ]
  },
  {
   "cell_type": "code",
   "execution_count": 3,
   "id": "312a62cc-b355-4189-ada0-a6d8971e60f5",
   "metadata": {},
   "outputs": [
    {
     "name": "stdout",
     "output_type": "stream",
     "text": [
      "KS91_K562_hg38_ASTARRseq_Input_rep1.GATA1.unstranded.dedups.bed\n",
      "KS91_K562_hg38_ASTARRseq_Input_rep1.MYC.unstranded.dedups.bed\n",
      "KS91_K562_hg38_ASTARRseq_Input_rep2.GATA1.unstranded.dedups.bed\n",
      "KS91_K562_hg38_ASTARRseq_Input_rep2.MYC.unstranded.dedups.bed\n",
      "KS91_K562_hg38_ASTARRseq_Input_rep3.GATA1.unstranded.dedups.bed\n",
      "KS91_K562_hg38_ASTARRseq_Input_rep3.MYC.unstranded.dedups.bed\n",
      "KS91_K562_hg38_ASTARRseq_Input_rep4.GATA1.unstranded.dedups.bed\n",
      "KS91_K562_hg38_ASTARRseq_Input_rep4.MYC.unstranded.dedups.bed\n",
      "KS91_K562_hg38_ASTARRseq_Input_rep5.GATA1.unstranded.dedups.bed\n",
      "KS91_K562_hg38_ASTARRseq_Input_rep5.MYC.unstranded.dedups.bed\n",
      "KS91_K562_hg38_ASTARRseq_Input_rep6.GATA1.unstranded.dedups.bed\n",
      "KS91_K562_hg38_ASTARRseq_Input_rep6.MYC.unstranded.dedups.bed\n",
      "KS91_K562_hg38_ASTARRseq_Output_rep1.GATA1.unstranded.bed\n",
      "KS91_K562_hg38_ASTARRseq_Output_rep1.MYC.unstranded.bed\n",
      "KS91_K562_hg38_ASTARRseq_Output_rep2.GATA1.unstranded.bed\n",
      "KS91_K562_hg38_ASTARRseq_Output_rep2.MYC.unstranded.bed\n",
      "KS91_K562_hg38_ASTARRseq_Output_rep3.GATA1.unstranded.bed\n",
      "KS91_K562_hg38_ASTARRseq_Output_rep3.MYC.unstranded.bed\n",
      "KS91_K562_hg38_ASTARRseq_Output_rep4.GATA1.unstranded.bed\n",
      "KS91_K562_hg38_ASTARRseq_Output_rep4.MYC.unstranded.bed\n",
      "library_size.tsv\n",
      "library_size.txt\n"
     ]
    }
   ],
   "source": [
    "ls ${FD_FRG}"
   ]
  },
  {
   "cell_type": "code",
   "execution_count": 4,
   "id": "565f1d86-932e-46c5-ab64-05980bf39a4a",
   "metadata": {},
   "outputs": [
    {
     "name": "stdout",
     "output_type": "stream",
     "text": [
      "10\n"
     ]
    }
   ],
   "source": [
    "REGION=\"GATA1\"\n",
    "ls ${FD_FRG}/KS91*${REGION}* | wc -l"
   ]
  },
  {
   "cell_type": "code",
   "execution_count": 5,
   "id": "d81fc221-38d7-4838-871c-0d728b63a110",
   "metadata": {},
   "outputs": [
    {
     "name": "stdout",
     "output_type": "stream",
     "text": [
      "10\n"
     ]
    }
   ],
   "source": [
    "REGION=\"MYC\"\n",
    "ls ${FD_FRG}/KS91*${REGION}* | wc -l"
   ]
  },
  {
   "cell_type": "code",
   "execution_count": 6,
   "id": "c5ace5a3-019a-40ca-bcd2-596858c26c40",
   "metadata": {},
   "outputs": [
    {
     "name": "stdout",
     "output_type": "stream",
     "text": [
      "ls: cannot access /gpfs/fs1/data/reddylab/Kuei/out/proj_combeffect_encode_fcc/KS91_K562_ASTARRseq/fragment/KS91*FADS*: No such file or directory\n",
      "0\n"
     ]
    }
   ],
   "source": [
    "REGION=\"FADS\"\n",
    "ls ${FD_FRG}/KS91*${REGION}* | wc -l"
   ]
  },
  {
   "cell_type": "code",
   "execution_count": 7,
   "id": "7b1f0c14-c8a0-4615-8500-4d2ea0fb73b9",
   "metadata": {},
   "outputs": [
    {
     "name": "stdout",
     "output_type": "stream",
     "text": [
      "/gpfs/fs1/data/reddylab/Kuei/out/proj_combeffect_encode_fcc/KS91_K562_ASTARRseq/fragment/KS91_K562_hg38_ASTARRseq_Input_rep1.GATA1.unstranded.dedups.bed\n",
      "KS91_K562_hg38_ASTARRseq_Input_rep1.GATA1.unstranded.dedups.bed\n",
      "KS91_K562_hg38_ASTARRseq_Input_rep1.GATA1.unstranded.dedups.perbase.tsv.gz\n",
      "/gpfs/fs1/data/reddylab/Kuei/out/proj_combeffect_encode_fcc/KS91_K562_ASTARRseq/fragment/KS91_K562_hg38_ASTARRseq_Input_rep2.GATA1.unstranded.dedups.bed\n",
      "KS91_K562_hg38_ASTARRseq_Input_rep2.GATA1.unstranded.dedups.bed\n",
      "KS91_K562_hg38_ASTARRseq_Input_rep2.GATA1.unstranded.dedups.perbase.tsv.gz\n",
      "/gpfs/fs1/data/reddylab/Kuei/out/proj_combeffect_encode_fcc/KS91_K562_ASTARRseq/fragment/KS91_K562_hg38_ASTARRseq_Input_rep3.GATA1.unstranded.dedups.bed\n",
      "KS91_K562_hg38_ASTARRseq_Input_rep3.GATA1.unstranded.dedups.bed\n",
      "KS91_K562_hg38_ASTARRseq_Input_rep3.GATA1.unstranded.dedups.perbase.tsv.gz\n",
      "/gpfs/fs1/data/reddylab/Kuei/out/proj_combeffect_encode_fcc/KS91_K562_ASTARRseq/fragment/KS91_K562_hg38_ASTARRseq_Input_rep4.GATA1.unstranded.dedups.bed\n",
      "KS91_K562_hg38_ASTARRseq_Input_rep4.GATA1.unstranded.dedups.bed\n",
      "KS91_K562_hg38_ASTARRseq_Input_rep4.GATA1.unstranded.dedups.perbase.tsv.gz\n",
      "/gpfs/fs1/data/reddylab/Kuei/out/proj_combeffect_encode_fcc/KS91_K562_ASTARRseq/fragment/KS91_K562_hg38_ASTARRseq_Input_rep5.GATA1.unstranded.dedups.bed\n",
      "KS91_K562_hg38_ASTARRseq_Input_rep5.GATA1.unstranded.dedups.bed\n",
      "KS91_K562_hg38_ASTARRseq_Input_rep5.GATA1.unstranded.dedups.perbase.tsv.gz\n",
      "/gpfs/fs1/data/reddylab/Kuei/out/proj_combeffect_encode_fcc/KS91_K562_ASTARRseq/fragment/KS91_K562_hg38_ASTARRseq_Input_rep6.GATA1.unstranded.dedups.bed\n",
      "KS91_K562_hg38_ASTARRseq_Input_rep6.GATA1.unstranded.dedups.bed\n",
      "KS91_K562_hg38_ASTARRseq_Input_rep6.GATA1.unstranded.dedups.perbase.tsv.gz\n",
      "/gpfs/fs1/data/reddylab/Kuei/out/proj_combeffect_encode_fcc/KS91_K562_ASTARRseq/fragment/KS91_K562_hg38_ASTARRseq_Output_rep1.GATA1.unstranded.bed\n",
      "KS91_K562_hg38_ASTARRseq_Output_rep1.GATA1.unstranded.bed\n",
      "KS91_K562_hg38_ASTARRseq_Output_rep1.GATA1.unstranded.perbase.tsv.gz\n",
      "/gpfs/fs1/data/reddylab/Kuei/out/proj_combeffect_encode_fcc/KS91_K562_ASTARRseq/fragment/KS91_K562_hg38_ASTARRseq_Output_rep2.GATA1.unstranded.bed\n",
      "KS91_K562_hg38_ASTARRseq_Output_rep2.GATA1.unstranded.bed\n",
      "KS91_K562_hg38_ASTARRseq_Output_rep2.GATA1.unstranded.perbase.tsv.gz\n",
      "/gpfs/fs1/data/reddylab/Kuei/out/proj_combeffect_encode_fcc/KS91_K562_ASTARRseq/fragment/KS91_K562_hg38_ASTARRseq_Output_rep3.GATA1.unstranded.bed\n",
      "KS91_K562_hg38_ASTARRseq_Output_rep3.GATA1.unstranded.bed\n",
      "KS91_K562_hg38_ASTARRseq_Output_rep3.GATA1.unstranded.perbase.tsv.gz\n",
      "/gpfs/fs1/data/reddylab/Kuei/out/proj_combeffect_encode_fcc/KS91_K562_ASTARRseq/fragment/KS91_K562_hg38_ASTARRseq_Output_rep4.GATA1.unstranded.bed\n",
      "KS91_K562_hg38_ASTARRseq_Output_rep4.GATA1.unstranded.bed\n",
      "KS91_K562_hg38_ASTARRseq_Output_rep4.GATA1.unstranded.perbase.tsv.gz\n"
     ]
    }
   ],
   "source": [
    "### KS91_K562_hg38_ASTARRseq_Output_rep1.GATA1.unstranded.bed\n",
    "### KS91_K562_hg38_ASTARRseq_Output_rep1.GATA1.unstranded.perbase.tsv.gz\n",
    "\n",
    "REGION=\"GATA1\"\n",
    "FP_BEDS=($(ls ${FD_FRG}/KS91*${REGION}*))\n",
    "for FP_INP in ${FP_BEDS[@]}; do\n",
    "    FN_INP=$(basename ${FP_INP})\n",
    "    PREFIX=${FN_INP%.*}\n",
    "    FN_OUT=${PREFIX}.perbase.tsv.gz\n",
    "    echo ${FP_INP}\n",
    "    echo ${FN_INP}\n",
    "    echo ${FN_OUT}\n",
    "done"
   ]
  },
  {
   "cell_type": "markdown",
   "id": "95901413-d9b2-45fb-8cd9-50619af2fd36",
   "metadata": {},
   "source": [
    "## RUN"
   ]
  },
  {
   "cell_type": "markdown",
   "id": "c461967a-256c-4bfe-8ed4-23997dca4853",
   "metadata": {},
   "source": [
    "**GATA1** `chrX:47786401-49786750`\n",
    "\n",
    "**MYC** `chr8:126735901-128736250`"
   ]
  },
  {
   "cell_type": "code",
   "execution_count": 8,
   "id": "1eb50c4f-b730-4245-964e-9ba96558ef56",
   "metadata": {},
   "outputs": [],
   "source": [
    "TAB=\"$(printf '\\t')\"\n",
    "cat > ${FD_COV}/region_GATA1.bed << EOF\n",
    "chrX${TAB}47786400${TAB}49786750\n",
    "EOF\n",
    "\n",
    "TAB=\"$(printf '\\t')\"\n",
    "cat > ${FD_COV}/region_MYC.bed << EOF\n",
    "chr8${TAB}126735900${TAB}128736250\n",
    "EOF"
   ]
  },
  {
   "cell_type": "markdown",
   "id": "d7da9fbe-cc9f-49ae-b7cc-a50cd51abd94",
   "metadata": {},
   "source": [
    "### GATA1"
   ]
  },
  {
   "cell_type": "code",
   "execution_count": 9,
   "id": "9cf77318-81e1-4224-9876-310ca060306f",
   "metadata": {},
   "outputs": [
    {
     "name": "stdout",
     "output_type": "stream",
     "text": [
      "10\n"
     ]
    }
   ],
   "source": [
    "REGION=\"GATA1\"\n",
    "ls ${FD_FRG}/KS91*${REGION}* | wc -l"
   ]
  },
  {
   "cell_type": "code",
   "execution_count": 10,
   "id": "27fc355d-344a-446b-97d1-c69bfc5921cc",
   "metadata": {
    "tags": []
   },
   "outputs": [
    {
     "name": "stdout",
     "output_type": "stream",
     "text": [
      "Submitted batch job 28214841\n"
     ]
    }
   ],
   "source": [
    "sbatch -p ${NODE} \\\n",
    "    --mem 8G \\\n",
    "    --array 0-9 \\\n",
    "    -o ${FD_LOG}/ASTARR_coverage_gata1.%a.txt \\\n",
    "    <<'EOF'\n",
    "#!/bin/bash\n",
    "### set directories & global variables\n",
    "source ../config_duke.sh\n",
    "REGION=\"GATA1\"\n",
    "\n",
    "### set input and output\n",
    "FD_FRG=${FD_RES}/KS91_K562_ASTARRseq/fragment\n",
    "FD_COV=${FD_RES}/KS91_K562_ASTARRseq/coverage\n",
    "\n",
    "FP_BEDS=($(ls ${FD_FRG}/KS91*${REGION}*))\n",
    "FP_INP=${FP_BEDS[${SLURM_ARRAY_TASK_ID}]}\n",
    "FN_INP=$(basename ${FP_INP})\n",
    "\n",
    "PREFIX=${FN_INP%.*}\n",
    "FN_OUT=${PREFIX}.perbase.tsv.gz\n",
    "FP_OUT=${FD_COV}/${FN_OUT}\n",
    "\n",
    "### print start message\n",
    "timer_start=`date +%s`\n",
    "echo \"Slurm Array Index: \" ${SLURM_ARRAY_TASK_ID}\n",
    "echo \"Time Stamp:        \" $(date +\"%m-%d-%y+%T\")\n",
    "echo \"Input:             \" ${FP_INP}\n",
    "echo \"Output:            \" ${FP_OUT}\n",
    "echo\n",
    "\n",
    "### show first few lines of input\n",
    "echo ${FP_INP}\n",
    "cat ${FP_INP} | head -5\n",
    "echo\n",
    "\n",
    "### show last few lines of input\n",
    "echo ${FP_INP}\n",
    "cat ${FP_INP} | tail -n 5\n",
    "echo\n",
    "\n",
    "### execute\n",
    "bedtools coverage \\\n",
    "    -a ${FD_COV}/region_${REGION}.bed \\\n",
    "    -b ${FP_INP} \\\n",
    "    -d  |\\\n",
    "    awk -v OFS='\\t' {'print $1, $2+$4-1, $5'} |\\\n",
    "    gzip -c \\\n",
    "    > ${FP_OUT}\n",
    "\n",
    "### show first few lines of output\n",
    "echo ${FP_OUT}\n",
    "zcat ${FP_OUT} | head -5\n",
    "echo\n",
    "\n",
    "### show first few lines of output\n",
    "echo ${FP_OUT}\n",
    "zcat ${FP_OUT} | tail -n 5\n",
    "echo\n",
    "\n",
    "### print end message\n",
    "timer=`date +%s`\n",
    "runtime=$(echo \"${timer} - ${timer_start}\" | bc -l)\n",
    "echo\n",
    "echo 'Done!'\n",
    "echo \"Run Time: $(displaytime ${runtime})\"\n",
    "\n",
    "EOF"
   ]
  },
  {
   "cell_type": "code",
   "execution_count": 15,
   "id": "14ab482b-a354-4e6f-be28-5eb46faf5675",
   "metadata": {},
   "outputs": [
    {
     "name": "stdout",
     "output_type": "stream",
     "text": [
      "chrX\t47786400\t49786750\n"
     ]
    }
   ],
   "source": [
    "cat ${FD_COV}/region_GATA1.bed"
   ]
  },
  {
   "cell_type": "code",
   "execution_count": 13,
   "id": "e1d576de-4707-41eb-b49d-90b96d559d1d",
   "metadata": {},
   "outputs": [
    {
     "name": "stdout",
     "output_type": "stream",
     "text": [
      "Slurm Array Index:  0\n",
      "Time Stamp:         05-06-22+13:56:18\n",
      "Input:              /gpfs/fs1/data/reddylab/Kuei/out/proj_combeffect_encode_fcc/KS91_K562_ASTARRseq/fragment/KS91_K562_hg38_ASTARRseq_Input_rep1.GATA1.unstranded.dedups.bed\n",
      "Output:             /gpfs/fs1/data/reddylab/Kuei/out/proj_combeffect_encode_fcc/KS91_K562_ASTARRseq/coverage/KS91_K562_hg38_ASTARRseq_Input_rep1.GATA1.unstranded.dedups.perbase.tsv.gz\n",
      "\n",
      "/gpfs/fs1/data/reddylab/Kuei/out/proj_combeffect_encode_fcc/KS91_K562_ASTARRseq/fragment/KS91_K562_hg38_ASTARRseq_Input_rep1.GATA1.unstranded.dedups.bed\n",
      "chrX\t47787165\t47787363\tchrX_47787165_47787363\t1\t.\n",
      "chrX\t47787557\t47787773\tchrX_47787557_47787773\t1\t.\n",
      "chrX\t47787593\t47787783\tchrX_47787593_47787783\t1\t.\n",
      "chrX\t47787598\t47787772\tchrX_47787598_47787772\t1\t.\n",
      "chrX\t47787661\t47788058\tchrX_47787661_47788058\t1\t.\n",
      "\n",
      "/gpfs/fs1/data/reddylab/Kuei/out/proj_combeffect_encode_fcc/KS91_K562_ASTARRseq/fragment/KS91_K562_hg38_ASTARRseq_Input_rep1.GATA1.unstranded.dedups.bed\n",
      "chrX\t49786329\t49786456\tchrX_49786329_49786456\t1\t.\n",
      "chrX\t49786338\t49786527\tchrX_49786338_49786527\t1\t.\n",
      "chrX\t49786343\t49786510\tchrX_49786343_49786510\t1\t.\n",
      "chrX\t49786423\t49786588\tchrX_49786423_49786588\t1\t.\n",
      "chrX\t49786428\t49786620\tchrX_49786428_49786620\t1\t.\n",
      "\n",
      "/gpfs/fs1/data/reddylab/Kuei/out/proj_combeffect_encode_fcc/KS91_K562_ASTARRseq/coverage/KS91_K562_hg38_ASTARRseq_Input_rep1.GATA1.unstranded.dedups.perbase.tsv.gz\n",
      "chrX\t47786400\t0\n",
      "chrX\t47786401\t0\n",
      "chrX\t47786402\t0\n",
      "chrX\t47786403\t0\n",
      "chrX\t47786404\t0\n",
      "\n",
      "/gpfs/fs1/data/reddylab/Kuei/out/proj_combeffect_encode_fcc/KS91_K562_ASTARRseq/coverage/KS91_K562_hg38_ASTARRseq_Input_rep1.GATA1.unstranded.dedups.perbase.tsv.gz\n",
      "chrX\t49786745\t0\n",
      "chrX\t49786746\t0\n",
      "chrX\t49786747\t0\n",
      "chrX\t49786748\t0\n",
      "chrX\t49786749\t0\n",
      "\n",
      "\n",
      "Done!\n",
      "Run Time: 7 seconds\n"
     ]
    }
   ],
   "source": [
    "cat ${FD_LOG}/ASTARR_coverage_gata1.0.txt"
   ]
  },
  {
   "cell_type": "markdown",
   "id": "9c4bd003-248e-4dfc-a0ad-924f67f0753f",
   "metadata": {},
   "source": [
    "### MYC"
   ]
  },
  {
   "cell_type": "code",
   "execution_count": 11,
   "id": "0c1efe5f-33a6-49e7-986a-4f5918ac0e93",
   "metadata": {},
   "outputs": [
    {
     "name": "stdout",
     "output_type": "stream",
     "text": [
      "10\n"
     ]
    }
   ],
   "source": [
    "REGION=\"MYC\"\n",
    "ls ${FD_FRG}/KS91*${REGION}* | wc -l"
   ]
  },
  {
   "cell_type": "code",
   "execution_count": 12,
   "id": "9293d06a-96b6-4153-be2c-3e3df00bc0cf",
   "metadata": {},
   "outputs": [
    {
     "name": "stdout",
     "output_type": "stream",
     "text": [
      "Submitted batch job 28214882\n"
     ]
    }
   ],
   "source": [
    "sbatch -p ${NODE} \\\n",
    "    --mem 8G \\\n",
    "    --array 0-9 \\\n",
    "    -o ${FD_LOG}/ASTARR_coverage_myc.%a.txt \\\n",
    "    <<'EOF'\n",
    "#!/bin/bash\n",
    "### set directories & global variables\n",
    "source ../config_duke.sh\n",
    "REGION=\"MYC\"\n",
    "\n",
    "### set input and output\n",
    "FD_FRG=${FD_RES}/KS91_K562_ASTARRseq/fragment\n",
    "FD_COV=${FD_RES}/KS91_K562_ASTARRseq/coverage\n",
    "\n",
    "FP_BEDS=($(ls ${FD_FRG}/KS91*${REGION}*))\n",
    "FP_INP=${FP_BEDS[${SLURM_ARRAY_TASK_ID}]}\n",
    "FN_INP=$(basename ${FP_INP})\n",
    "\n",
    "PREFIX=${FN_INP%.*}\n",
    "FN_OUT=${PREFIX}.perbase.tsv.gz\n",
    "FP_OUT=${FD_COV}/${FN_OUT}\n",
    "\n",
    "### print start message\n",
    "timer_start=`date +%s`\n",
    "echo \"Slurm Array Index: \" ${SLURM_ARRAY_TASK_ID}\n",
    "echo \"Time Stamp:        \" $(date +\"%m-%d-%y+%T\")\n",
    "echo \"Input:             \" ${FP_INP}\n",
    "echo \"Output:            \" ${FP_OUT}\n",
    "echo\n",
    "\n",
    "### show first few lines of input\n",
    "echo ${FP_INP}\n",
    "cat ${FP_INP} | head -5\n",
    "echo\n",
    "\n",
    "### show last few lines of input\n",
    "echo ${FP_INP}\n",
    "cat ${FP_INP} | tail -n 5\n",
    "echo\n",
    "\n",
    "### execute\n",
    "bedtools coverage \\\n",
    "    -a ${FD_COV}/region_${REGION}.bed \\\n",
    "    -b ${FP_INP} \\\n",
    "    -d  |\\\n",
    "    awk -v OFS='\\t' {'print $1, $2+$4-1, $5'} |\\\n",
    "    gzip -c \\\n",
    "    > ${FP_OUT}\n",
    "\n",
    "### show first few lines of output\n",
    "echo ${FP_OUT}\n",
    "zcat ${FP_OUT} | head -5\n",
    "echo\n",
    "\n",
    "### show first few lines of output\n",
    "echo ${FP_OUT}\n",
    "zcat ${FP_OUT} | tail -n 5\n",
    "echo\n",
    "\n",
    "### print end message\n",
    "timer=`date +%s`\n",
    "runtime=$(echo \"${timer} - ${timer_start}\" | bc -l)\n",
    "echo\n",
    "echo 'Done!'\n",
    "echo \"Run Time: $(displaytime ${runtime})\"\n",
    "\n",
    "EOF"
   ]
  },
  {
   "cell_type": "code",
   "execution_count": 16,
   "id": "60c60a35-44af-4cfa-9139-b959bf026e0d",
   "metadata": {},
   "outputs": [
    {
     "name": "stdout",
     "output_type": "stream",
     "text": [
      "chr8\t126735900\t128736250\n"
     ]
    }
   ],
   "source": [
    "cat ${FD_COV}/region_MYC.bed"
   ]
  },
  {
   "cell_type": "code",
   "execution_count": 14,
   "id": "02463a8e-b266-4f39-a427-50ffd5d9b559",
   "metadata": {},
   "outputs": [
    {
     "name": "stdout",
     "output_type": "stream",
     "text": [
      "Slurm Array Index:  0\n",
      "Time Stamp:         05-06-22+14:00:18\n",
      "Input:              /gpfs/fs1/data/reddylab/Kuei/out/proj_combeffect_encode_fcc/KS91_K562_ASTARRseq/fragment/KS91_K562_hg38_ASTARRseq_Input_rep1.MYC.unstranded.dedups.bed\n",
      "Output:             /gpfs/fs1/data/reddylab/Kuei/out/proj_combeffect_encode_fcc/KS91_K562_ASTARRseq/coverage/KS91_K562_hg38_ASTARRseq_Input_rep1.MYC.unstranded.dedups.perbase.tsv.gz\n",
      "\n",
      "/gpfs/fs1/data/reddylab/Kuei/out/proj_combeffect_encode_fcc/KS91_K562_ASTARRseq/fragment/KS91_K562_hg38_ASTARRseq_Input_rep1.MYC.unstranded.dedups.bed\n",
      "chr8\t126735990\t126736404\tchr8_126735990_126736404\t1\t.\n",
      "chr8\t126736004\t126736113\tchr8_126736004_126736113\t1\t.\n",
      "chr8\t126736010\t126736129\tchr8_126736010_126736129\t1\t.\n",
      "chr8\t126736025\t126736241\tchr8_126736025_126736241\t1\t.\n",
      "chr8\t126736083\t126736313\tchr8_126736083_126736313\t1\t.\n",
      "\n",
      "/gpfs/fs1/data/reddylab/Kuei/out/proj_combeffect_encode_fcc/KS91_K562_ASTARRseq/fragment/KS91_K562_hg38_ASTARRseq_Input_rep1.MYC.unstranded.dedups.bed\n",
      "chr8\t128735739\t128735903\tchr8_128735739_128735903\t1\t.\n",
      "chr8\t128735821\t128736138\tchr8_128735821_128736138\t1\t.\n",
      "chr8\t128735892\t128736114\tchr8_128735892_128736114\t1\t.\n",
      "chr8\t128735934\t128736149\tchr8_128735934_128736149\t1\t.\n",
      "chr8\t128735986\t128736114\tchr8_128735986_128736114\t1\t.\n",
      "\n",
      "/gpfs/fs1/data/reddylab/Kuei/out/proj_combeffect_encode_fcc/KS91_K562_ASTARRseq/coverage/KS91_K562_hg38_ASTARRseq_Input_rep1.MYC.unstranded.dedups.perbase.tsv.gz\n",
      "chr8\t126735900\t0\n",
      "chr8\t126735901\t0\n",
      "chr8\t126735902\t0\n",
      "chr8\t126735903\t0\n",
      "chr8\t126735904\t0\n",
      "\n",
      "/gpfs/fs1/data/reddylab/Kuei/out/proj_combeffect_encode_fcc/KS91_K562_ASTARRseq/coverage/KS91_K562_hg38_ASTARRseq_Input_rep1.MYC.unstranded.dedups.perbase.tsv.gz\n",
      "chr8\t128736245\t0\n",
      "chr8\t128736246\t0\n",
      "chr8\t128736247\t0\n",
      "chr8\t128736248\t0\n",
      "chr8\t128736249\t0\n",
      "\n",
      "\n",
      "Done!\n",
      "Run Time: 6 seconds\n"
     ]
    }
   ],
   "source": [
    "cat ${FD_LOG}/ASTARR_coverage_myc.0.txt"
   ]
  },
  {
   "cell_type": "markdown",
   "id": "b853047b-a683-4794-86bd-a1493b8c39bf",
   "metadata": {},
   "source": [
    "## Check results"
   ]
  },
  {
   "cell_type": "code",
   "execution_count": 16,
   "id": "c0f72cf6-3dd2-4ae7-a868-846e49236c98",
   "metadata": {},
   "outputs": [
    {
     "name": "stdout",
     "output_type": "stream",
     "text": [
      "chrX\t47787189\t47787363\tchrX_47787189_47787363\t1\t.\n",
      "chrX\t47787189\t47787363\tchrX_47787189_47787363\t1\t.\n",
      "chrX\t47787189\t47787363\tchrX_47787189_47787363\t1\t.\n",
      "chrX\t47787189\t47787363\tchrX_47787189_47787363\t1\t.\n",
      "chrX\t47787189\t47787363\tchrX_47787189_47787363\t1\t.\n",
      "chrX\t47787189\t47787363\tchrX_47787189_47787363\t1\t.\n",
      "chrX\t47788545\t47789154\tchrX_47788545_47789154\t1\t.\n",
      "chrX\t47788545\t47789154\tchrX_47788545_47789154\t1\t.\n",
      "chrX\t47788545\t47789154\tchrX_47788545_47789154\t1\t.\n",
      "chrX\t47788545\t47789154\tchrX_47788545_47789154\t1\t.\n",
      "chrX\t47788545\t47789154\tchrX_47788545_47789154\t1\t.\n",
      "chrX\t47788545\t47789154\tchrX_47788545_47789154\t1\t.\n",
      "chrX\t47788659\t47788978\tchrX_47788659_47788978\t1\t.\n",
      "chrX\t47788659\t47788978\tchrX_47788659_47788978\t1\t.\n",
      "chrX\t47788659\t47788978\tchrX_47788659_47788978\t1\t.\n",
      "chrX\t47788659\t47788978\tchrX_47788659_47788978\t1\t.\n",
      "chrX\t47788659\t47788979\tchrX_47788659_47788979\t1\t.\n",
      "chrX\t47788659\t47788979\tchrX_47788659_47788979\t1\t.\n",
      "chrX\t47788659\t47788979\tchrX_47788659_47788979\t1\t.\n",
      "chrX\t47788659\t47788979\tchrX_47788659_47788979\t1\t.\n",
      "cat: write error: Broken pipe\n"
     ]
    }
   ],
   "source": [
    "cat ${FD_FRG}/KS91_K562_hg38_ASTARRseq_Output_rep1.GATA1.unstranded.bed | head -n 20"
   ]
  },
  {
   "cell_type": "code",
   "execution_count": 17,
   "id": "3a725b28-d5fb-41b5-a15a-0d53222add91",
   "metadata": {},
   "outputs": [
    {
     "name": "stdout",
     "output_type": "stream",
     "text": [
      "\n",
      "gzip: stdout: Broken pipe\n",
      "chrX\t47787180\t0\n",
      "chrX\t47787181\t0\n",
      "chrX\t47787182\t0\n",
      "chrX\t47787183\t0\n",
      "chrX\t47787184\t0\n",
      "chrX\t47787185\t0\n",
      "chrX\t47787186\t0\n",
      "chrX\t47787187\t0\n",
      "chrX\t47787188\t0\n",
      "chrX\t47787189\t6\n",
      "chrX\t47787190\t6\n",
      "chrX\t47787191\t6\n",
      "chrX\t47787192\t6\n",
      "chrX\t47787193\t6\n",
      "chrX\t47787194\t6\n",
      "chrX\t47787195\t6\n",
      "chrX\t47787196\t6\n",
      "chrX\t47787197\t6\n",
      "chrX\t47787198\t6\n",
      "chrX\t47787199\t6\n"
     ]
    }
   ],
   "source": [
    "zcat ${FD_COV}/KS91_K562_hg38_ASTARRseq_Output_rep1.GATA1.unstranded.perbase.tsv.gz |\\\n",
    "    head -n 800 |\\\n",
    "    tail -n 20"
   ]
  },
  {
   "cell_type": "code",
   "execution_count": 18,
   "id": "bfab8293-8a25-47a1-8daa-dfa43484101e",
   "metadata": {},
   "outputs": [
    {
     "name": "stdout",
     "output_type": "stream",
     "text": [
      "chrX\t47788650\t6\n",
      "\n",
      "gzip: chrX\t47788651\t6\n",
      "chrX\t47788652\t6\n",
      "stdout: Broken pipe\n",
      "chrX\t47788653\t6\n",
      "chrX\t47788654\t6\n",
      "chrX\t47788655\t6\n",
      "chrX\t47788656\t6\n",
      "chrX\t47788657\t6\n",
      "chrX\t47788658\t6\n",
      "chrX\t47788659\t28\n",
      "chrX\t47788660\t29\n",
      "chrX\t47788661\t29\n",
      "chrX\t47788662\t30\n",
      "chrX\t47788663\t30\n",
      "chrX\t47788664\t30\n",
      "chrX\t47788665\t30\n",
      "chrX\t47788666\t30\n",
      "chrX\t47788667\t30\n",
      "chrX\t47788668\t30\n",
      "chrX\t47788669\t30\n"
     ]
    }
   ],
   "source": [
    "zcat ${FD_COV}/KS91_K562_hg38_ASTARRseq_Output_rep1.GATA1.unstranded.perbase.tsv.gz |\\\n",
    "    head -n 2270 |\\\n",
    "    tail -n 20"
   ]
  },
  {
   "cell_type": "code",
   "execution_count": null,
   "id": "c05b8d36-72de-467b-a7e4-6913e73a8a1f",
   "metadata": {},
   "outputs": [],
   "source": []
  }
 ],
 "metadata": {
  "kernelspec": {
   "display_name": "Bash",
   "language": "bash",
   "name": "bash"
  },
  "language_info": {
   "codemirror_mode": "shell",
   "file_extension": ".sh",
   "mimetype": "text/x-sh",
   "name": "bash"
  }
 },
 "nbformat": 4,
 "nbformat_minor": 5
}
