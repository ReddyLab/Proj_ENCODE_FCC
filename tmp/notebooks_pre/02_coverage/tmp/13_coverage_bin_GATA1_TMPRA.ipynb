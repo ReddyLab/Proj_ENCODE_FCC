{
 "cells": [
  {
   "cell_type": "markdown",
   "id": "617cbe0a-5bf2-4bff-b375-72135cc101f6",
   "metadata": {},
   "source": [
    "**Set environment**"
   ]
  },
  {
   "cell_type": "code",
   "execution_count": 1,
   "id": "ccc29d42-36fc-4fd3-a297-6448f0f0d758",
   "metadata": {},
   "outputs": [
    {
     "name": "stdout",
     "output_type": "stream",
     "text": [
      "You are on Duke Server: HARDAC\n",
      "BASE DIRECTORY:     /gpfs/fs1/data/reddylab/Kuei\n",
      "PATH OF SOURCE:     /gpfs/fs1/data/reddylab/Kuei/source\n",
      "PATH OF EXECUTABLE: /gpfs/fs1/data/reddylab/Kuei/exe\n",
      "PATH OF ANNOTATION: /gpfs/fs1/data/reddylab/Kuei/annotation\n",
      "PATH OF PROJECT:    /gpfs/fs1/data/reddylab/Kuei/GitRepo/Proj_CombEffect_ENCODE_FCC/notebooks\n",
      "PATH OF RESULTS:    /gpfs/fs1/data/reddylab/Kuei/out/proj_combeffect_encode_fcc\n",
      "\n"
     ]
    }
   ],
   "source": [
    "source ../config_duke.sh -v\n",
    "source ../config_load_module_bedtools.sh"
   ]
  },
  {
   "cell_type": "markdown",
   "id": "02155492-7f3b-47d6-8aaf-5e06bceb5dcb",
   "metadata": {},
   "source": [
    "## Test"
   ]
  },
  {
   "cell_type": "code",
   "execution_count": 2,
   "id": "bbd35740-ef41-4b41-8c50-ee1f07b4cb3b",
   "metadata": {},
   "outputs": [
    {
     "name": "stdout",
     "output_type": "stream",
     "text": [
      "1\n",
      "bin1\n",
      "region_GATA1_bin1.bed\n",
      "100\n",
      "bin100\n",
      "region_GATA1_bin100.bed\n",
      "200\n",
      "bin200\n",
      "region_GATA1_bin200.bed\n",
      "500\n",
      "bin500\n",
      "region_GATA1_bin500.bed\n",
      "1000\n",
      "bin1000\n",
      "region_GATA1_bin1000.bed\n"
     ]
    }
   ],
   "source": [
    "SIZES=(1 100 200 500 1000)\n",
    "PREFIX=\"region_GATA1\"\n",
    "for SIZE in ${SIZES[@]}; do\n",
    "    FNAME=\"bin${SIZE}\"\n",
    "    FN_BIN=${PREFIX}_${FNAME}.bed\n",
    "    echo ${SIZE}\n",
    "    echo ${FNAME}\n",
    "    echo ${FN_BIN}\n",
    "done"
   ]
  },
  {
   "cell_type": "markdown",
   "id": "bf001ac9-378e-42f3-9776-fc56673fd885",
   "metadata": {},
   "source": [
    "## Run"
   ]
  },
  {
   "cell_type": "code",
   "execution_count": 5,
   "id": "b07a2537-c161-4564-90a5-5b0b34aadbf6",
   "metadata": {},
   "outputs": [
    {
     "name": "stdout",
     "output_type": "stream",
     "text": [
      "Submitted batch job 28159074\n"
     ]
    }
   ],
   "source": [
    "sbatch -p ${NODE} \\\n",
    "    --mem 8G \\\n",
    "    -o ${FD_LOG}/TMPRA_coverage_gata1_bin.txt \\\n",
    "    <<'EOF'\n",
    "#!/bin/bash\n",
    "### set directories & global variables\n",
    "source ../config_duke.sh\n",
    "\n",
    "SIZES=(1 100 200 500 1000)\n",
    "PREFIX=\"region_GATA1\"\n",
    "\n",
    "FD_FRG=${FD_RES}/Tewhey_K562_TileMPRA/fragment\n",
    "FD_COV=${FD_RES}/Tewhey_K562_TileMPRA/coverage\n",
    "    \n",
    "\n",
    "### print start message\n",
    "timer_start=`date +%s`\n",
    "echo \"Slurm Array Index: \" ${SLURM_ARRAY_TASK_ID}\n",
    "echo \"Time Stamp:        \" $(date +\"%m-%d-%y+%T\")\n",
    "echo\n",
    "\n",
    "### loop through different bin sizes\n",
    "for SIZE in ${SIZES[@]}; do\n",
    "    ### set input and output\n",
    "    FNAME=\"bin${SIZE}\"\n",
    "    FN_BIN=${PREFIX}_${FNAME}.bed\n",
    "    \n",
    "    FP_BIN=${FD_COV}/${FN_BIN}\n",
    "    FP_FRG=${FD_FRG}/Tile_K562_20210130.GATA1.unstranded.bed\n",
    "    FP_OUT=${FD_COV}/Tile_K562_20210130.GATA1.unstranded.${FNAME}.bed.gz\n",
    "    \n",
    "    ### print input file message\n",
    "    echo +++++++++++++++++++++++++++++++++++++++\n",
    "    echo \"INPUT 1: ${FP_BIN}\" \n",
    "    head -5 ${FP_BIN}\n",
    "    echo\n",
    "    echo \"INPUT 2: ${FP_FRG}\"\n",
    "    head -5 ${FP_FRG}\n",
    "    echo\n",
    "    \n",
    "    ### execute\n",
    "    bedtools intersect \\\n",
    "        -a ${FP_BIN} \\\n",
    "        -b ${FP_FRG} \\\n",
    "        -f 0.9 \\\n",
    "        -F 0.9 \\\n",
    "        -e \\\n",
    "        -wo |\\\n",
    "        gzip -c \\\n",
    "        > ${FP_OUT}\n",
    "        \n",
    "    ### print output file message\n",
    "    echo \"OUTPUT: ${FP_OUT}\"\n",
    "    zcat ${FP_OUT} | head -5\n",
    "    echo\n",
    "done\n",
    "\n",
    "### print end message\n",
    "timer=`date +%s`\n",
    "runtime=$(echo \"${timer} - ${timer_start}\" | bc -l)\n",
    "echo\n",
    "echo 'Done!'\n",
    "echo \"Run Time: $(displaytime ${runtime})\"\n",
    "\n",
    "EOF"
   ]
  },
  {
   "cell_type": "code",
   "execution_count": 6,
   "id": "8c0ffb42-0cd6-4471-a6ac-65bd1e06bf4b",
   "metadata": {},
   "outputs": [
    {
     "name": "stdout",
     "output_type": "stream",
     "text": [
      "Slurm Array Index: \n",
      "Time Stamp:         04-20-22+13:06:52\n",
      "\n",
      "+++++++++++++++++++++++++++++++++++++++\n",
      "INPUT 1: /gpfs/fs1/data/reddylab/Kuei/out/proj_combeffect_encode_fcc/Tewhey_K562_TileMPRA/coverage/region_GATA1_bin1.bed\n",
      "chrX\t47786401\t47786402\n",
      "chrX\t47786402\t47786403\n",
      "chrX\t47786403\t47786404\n",
      "chrX\t47786404\t47786405\n",
      "chrX\t47786405\t47786406\n",
      "\n",
      "INPUT 2: /gpfs/fs1/data/reddylab/Kuei/out/proj_combeffect_encode_fcc/Tewhey_K562_TileMPRA/fragment/Tile_K562_20210130.GATA1.unstranded.bed\n",
      "chrX\t47786401\t47786600\n",
      "chrX\t47786451\t47786650\n",
      "chrX\t47786501\t47786700\n",
      "chrX\t47786551\t47786750\n",
      "chrX\t47786601\t47786800\n",
      "\n",
      "OUTPUT: /gpfs/fs1/data/reddylab/Kuei/out/proj_combeffect_encode_fcc/Tewhey_K562_TileMPRA/coverage/Tile_K562_20210130.GATA1.unstranded.bin1.bed.gz\n",
      "chrX\t47786401\t47786402\tchrX\t47786401\t47786600\t1\n",
      "chrX\t47786402\t47786403\tchrX\t47786401\t47786600\t1\n",
      "chrX\t47786403\t47786404\tchrX\t47786401\t47786600\t1\n",
      "chrX\t47786404\t47786405\tchrX\t47786401\t47786600\t1\n",
      "chrX\t47786405\t47786406\tchrX\t47786401\t47786600\t1\n",
      "\n",
      "+++++++++++++++++++++++++++++++++++++++\n",
      "INPUT 1: /gpfs/fs1/data/reddylab/Kuei/out/proj_combeffect_encode_fcc/Tewhey_K562_TileMPRA/coverage/region_GATA1_bin100.bed\n",
      "chrX\t47786401\t47786501\n",
      "chrX\t47786501\t47786601\n",
      "chrX\t47786601\t47786701\n",
      "chrX\t47786701\t47786801\n",
      "chrX\t47786801\t47786901\n",
      "\n",
      "INPUT 2: /gpfs/fs1/data/reddylab/Kuei/out/proj_combeffect_encode_fcc/Tewhey_K562_TileMPRA/fragment/Tile_K562_20210130.GATA1.unstranded.bed\n",
      "chrX\t47786401\t47786600\n",
      "chrX\t47786451\t47786650\n",
      "chrX\t47786501\t47786700\n",
      "chrX\t47786551\t47786750\n",
      "chrX\t47786601\t47786800\n",
      "\n",
      "OUTPUT: /gpfs/fs1/data/reddylab/Kuei/out/proj_combeffect_encode_fcc/Tewhey_K562_TileMPRA/coverage/Tile_K562_20210130.GATA1.unstranded.bin100.bed.gz\n",
      "chrX\t47786401\t47786501\tchrX\t47786401\t47786600\t100\n",
      "chrX\t47786501\t47786601\tchrX\t47786401\t47786600\t99\n",
      "chrX\t47786501\t47786601\tchrX\t47786451\t47786650\t100\n",
      "chrX\t47786501\t47786601\tchrX\t47786501\t47786700\t100\n",
      "chrX\t47786601\t47786701\tchrX\t47786501\t47786700\t99\n",
      "\n",
      "+++++++++++++++++++++++++++++++++++++++\n",
      "INPUT 1: /gpfs/fs1/data/reddylab/Kuei/out/proj_combeffect_encode_fcc/Tewhey_K562_TileMPRA/coverage/region_GATA1_bin200.bed\n",
      "chrX\t47786401\t47786601\n",
      "chrX\t47786601\t47786801\n",
      "chrX\t47786801\t47787001\n",
      "chrX\t47787001\t47787201\n",
      "chrX\t47787201\t47787401\n",
      "\n",
      "INPUT 2: /gpfs/fs1/data/reddylab/Kuei/out/proj_combeffect_encode_fcc/Tewhey_K562_TileMPRA/fragment/Tile_K562_20210130.GATA1.unstranded.bed\n",
      "chrX\t47786401\t47786600\n",
      "chrX\t47786451\t47786650\n",
      "chrX\t47786501\t47786700\n",
      "chrX\t47786551\t47786750\n",
      "chrX\t47786601\t47786800\n",
      "\n",
      "OUTPUT: /gpfs/fs1/data/reddylab/Kuei/out/proj_combeffect_encode_fcc/Tewhey_K562_TileMPRA/coverage/Tile_K562_20210130.GATA1.unstranded.bin200.bed.gz\n",
      "chrX\t47786401\t47786601\tchrX\t47786401\t47786600\t199\n",
      "chrX\t47786601\t47786801\tchrX\t47786601\t47786800\t199\n",
      "chrX\t47786801\t47787001\tchrX\t47786801\t47787000\t199\n",
      "chrX\t47787001\t47787201\tchrX\t47787001\t47787200\t199\n",
      "chrX\t47787201\t47787401\tchrX\t47787201\t47787400\t199\n",
      "\n",
      "+++++++++++++++++++++++++++++++++++++++\n",
      "INPUT 1: /gpfs/fs1/data/reddylab/Kuei/out/proj_combeffect_encode_fcc/Tewhey_K562_TileMPRA/coverage/region_GATA1_bin500.bed\n",
      "chrX\t47786401\t47786901\n",
      "chrX\t47786901\t47787401\n",
      "chrX\t47787401\t47787901\n",
      "chrX\t47787901\t47788401\n",
      "chrX\t47788401\t47788901\n",
      "\n",
      "INPUT 2: /gpfs/fs1/data/reddylab/Kuei/out/proj_combeffect_encode_fcc/Tewhey_K562_TileMPRA/fragment/Tile_K562_20210130.GATA1.unstranded.bed\n",
      "chrX\t47786401\t47786600\n",
      "chrX\t47786451\t47786650\n",
      "chrX\t47786501\t47786700\n",
      "chrX\t47786551\t47786750\n",
      "chrX\t47786601\t47786800\n",
      "\n",
      "OUTPUT: /gpfs/fs1/data/reddylab/Kuei/out/proj_combeffect_encode_fcc/Tewhey_K562_TileMPRA/coverage/Tile_K562_20210130.GATA1.unstranded.bin500.bed.gz\n",
      "chrX\t47786401\t47786901\tchrX\t47786401\t47786600\t199\n",
      "chrX\t47786401\t47786901\tchrX\t47786451\t47786650\t199\n",
      "chrX\t47786401\t47786901\tchrX\t47786501\t47786700\t199\n",
      "chrX\t47786401\t47786901\tchrX\t47786551\t47786750\t199\n",
      "chrX\t47786401\t47786901\tchrX\t47786601\t47786800\t199\n",
      "\n",
      "+++++++++++++++++++++++++++++++++++++++\n",
      "INPUT 1: /gpfs/fs1/data/reddylab/Kuei/out/proj_combeffect_encode_fcc/Tewhey_K562_TileMPRA/coverage/region_GATA1_bin1000.bed\n",
      "chrX\t47786401\t47787401\n",
      "chrX\t47787401\t47788401\n",
      "chrX\t47788401\t47789401\n",
      "chrX\t47789401\t47790401\n",
      "chrX\t47790401\t47791401\n",
      "\n",
      "INPUT 2: /gpfs/fs1/data/reddylab/Kuei/out/proj_combeffect_encode_fcc/Tewhey_K562_TileMPRA/fragment/Tile_K562_20210130.GATA1.unstranded.bed\n",
      "chrX\t47786401\t47786600\n",
      "chrX\t47786451\t47786650\n",
      "chrX\t47786501\t47786700\n",
      "chrX\t47786551\t47786750\n",
      "chrX\t47786601\t47786800\n",
      "\n",
      "OUTPUT: /gpfs/fs1/data/reddylab/Kuei/out/proj_combeffect_encode_fcc/Tewhey_K562_TileMPRA/coverage/Tile_K562_20210130.GATA1.unstranded.bin1000.bed.gz\n",
      "chrX\t47786401\t47787401\tchrX\t47786401\t47786600\t199\n",
      "chrX\t47786401\t47787401\tchrX\t47786451\t47786650\t199\n",
      "chrX\t47786401\t47787401\tchrX\t47786501\t47786700\t199\n",
      "chrX\t47786401\t47787401\tchrX\t47786551\t47786750\t199\n",
      "chrX\t47786401\t47787401\tchrX\t47786601\t47786800\t199\n",
      "\n",
      "\n",
      "Done!\n",
      "Run Time: 39 seconds\n"
     ]
    }
   ],
   "source": [
    "cat ${FD_LOG}/TMPRA_coverage_gata1_bin.txt"
   ]
  },
  {
   "cell_type": "code",
   "execution_count": null,
   "id": "e8d30d6a-5efb-4f34-a8d5-fbc977a45e05",
   "metadata": {},
   "outputs": [],
   "source": []
  },
  {
   "cell_type": "code",
   "execution_count": null,
   "id": "caead695-6b0c-47b4-8188-977314950c86",
   "metadata": {},
   "outputs": [],
   "source": []
  },
  {
   "cell_type": "code",
   "execution_count": null,
   "id": "37976ed2-2481-4c29-813b-1ec41c0dc336",
   "metadata": {},
   "outputs": [],
   "source": []
  },
  {
   "cell_type": "code",
   "execution_count": null,
   "id": "2a3426a7-8a72-40b6-bf2c-847c593d26db",
   "metadata": {},
   "outputs": [],
   "source": []
  },
  {
   "cell_type": "code",
   "execution_count": 14,
   "id": "949d7813-b48b-48c6-9c11-5005899f717d",
   "metadata": {},
   "outputs": [
    {
     "name": "stdout",
     "output_type": "stream",
     "text": [
      "Submitted batch job 28145990\n"
     ]
    }
   ],
   "source": [
    "sbatch -p ${NODE} \\\n",
    "    --mem 8G \\\n",
    "    -o ${FD_LOG}/TMPRA_coverage_gata1_bin.txt \\\n",
    "    <<'EOF'\n",
    "#!/bin/bash\n",
    "### set directories & global variables\n",
    "source ../config_duke.sh\n",
    "\n",
    "### set input and output\n",
    "FD_FRG=${FD_RES}/Tewhey_K562_TileMPRA/fragment\n",
    "FD_COV=${FD_RES}/Tewhey_K562_TileMPRA/coverage\n",
    "\n",
    "FP_BIN=${FD_COV}/region_GATA1_bin100.bed\n",
    "FP_FRG=${FD_FRG}/Tile_K562_20210130.GATA1.unstranded.bed\n",
    "FP_OUT=${FD_COV}/Tile_K562_20210130.GATA1.unstranded.bin100.bed.gz\n",
    "\n",
    "### print start message\n",
    "timer_start=`date +%s`\n",
    "echo \"Slurm Array Index: \" ${SLURM_ARRAY_TASK_ID}\n",
    "echo \"Time Stamp:        \" $(date +\"%m-%d-%y+%T\")\n",
    "echo\n",
    "\n",
    "### execute\n",
    "bedtools intersect \\\n",
    "    -a ${FP_BIN} \\\n",
    "    -b ${FP_FRG} \\\n",
    "    -f 1.0 \\\n",
    "    -wo |\\\n",
    "    gzip -c \\\n",
    "    > ${FP_OUT}\n",
    "\n",
    "### print end message\n",
    "timer=`date +%s`\n",
    "runtime=$(echo \"${timer} - ${timer_start}\" | bc -l)\n",
    "echo\n",
    "echo 'Done!'\n",
    "echo \"Run Time: $(displaytime ${runtime})\"\n",
    "\n",
    "EOF"
   ]
  },
  {
   "cell_type": "code",
   "execution_count": 11,
   "id": "d81d99f5-1c13-4341-bc9f-4010ae2a4b9b",
   "metadata": {},
   "outputs": [
    {
     "name": "stdout",
     "output_type": "stream",
     "text": [
      "Slurm Array Index: \n",
      "Time Stamp:         04-19-22+14:16:25\n",
      "\n",
      "\n",
      "Done!\n",
      "Run Time: 1 seconds\n"
     ]
    }
   ],
   "source": [
    "cat ${FD_LOG}/TMPRA_coverage_gata1_bin.txt"
   ]
  },
  {
   "cell_type": "code",
   "execution_count": 15,
   "id": "16c872f4-1ccb-4225-9eff-093529df23bc",
   "metadata": {},
   "outputs": [
    {
     "name": "stdout",
     "output_type": "stream",
     "text": [
      "chrX\t47786500\t47786600\tchrX\t47786401\t47786600\t100\n",
      "chrX\t47786500\t47786600\tchrX\t47786451\t47786650\t100\n",
      "chrX\t47786600\t47786700\tchrX\t47786501\t47786700\t100\n",
      "chrX\t47786600\t47786700\tchrX\t47786551\t47786750\t100\n",
      "chrX\t47786700\t47786800\tchrX\t47786601\t47786800\t100\n",
      "chrX\t47786700\t47786800\tchrX\t47786651\t47786850\t100\n",
      "chrX\t47786800\t47786900\tchrX\t47786701\t47786900\t100\n",
      "chrX\t47786800\t47786900\tchrX\t47786751\t47786950\t100\n",
      "chrX\t47786900\t47787000\tchrX\t47786801\t47787000\t100\n",
      "chrX\t47786900\t47787000\tchrX\t47786851\t47787050\t100\n",
      "\n",
      "gzip: stdout: Broken pipe\n"
     ]
    }
   ],
   "source": [
    "FD_COV=${FD_RES}/Tewhey_K562_TileMPRA/coverage\n",
    "zcat ${FD_COV}/Tile_K562_20210130.GATA1.unstranded.bin100.bed.gz | head -10"
   ]
  },
  {
   "cell_type": "code",
   "execution_count": 23,
   "id": "7fa5ccfd-4fc0-4c2e-af27-baab6c2320b3",
   "metadata": {},
   "outputs": [
    {
     "name": "stdout",
     "output_type": "stream",
     "text": [
      "Submitted batch job 28149743\n"
     ]
    }
   ],
   "source": [
    "sbatch -p ${NODE} \\\n",
    "    --mem 8G \\\n",
    "    -o ${FD_LOG}/TMPRA_coverage_gata1_bin500.txt \\\n",
    "    <<'EOF'\n",
    "#!/bin/bash\n",
    "### set directories & global variables\n",
    "source ../config_duke.sh\n",
    "\n",
    "### set input and output\n",
    "FD_FRG=${FD_RES}/Tewhey_K562_TileMPRA/fragment\n",
    "FD_COV=${FD_RES}/Tewhey_K562_TileMPRA/coverage\n",
    "\n",
    "FP_BIN=${FD_COV}/region_GATA1_bin500.bed\n",
    "FP_FRG=${FD_FRG}/Tile_K562_20210130.GATA1.unstranded.bed\n",
    "FP_OUT=${FD_COV}/Tile_K562_20210130.GATA1.unstranded.bin500.bed.gz\n",
    "\n",
    "### print start message\n",
    "timer_start=`date +%s`\n",
    "echo \"Slurm Array Index: \" ${SLURM_ARRAY_TASK_ID}\n",
    "echo \"Time Stamp:        \" $(date +\"%m-%d-%y+%T\")\n",
    "echo\n",
    "\n",
    "### print file message\n",
    "echo \"INPUT 1: ${FP_BIN}\" \n",
    "head -5 ${FP_BIN}\n",
    "echo\n",
    "echo \"INPUT 2: ${FP_FRG}\"\n",
    "head -5 ${FP_FRG}\n",
    "echo\n",
    "\n",
    "### execute\n",
    "bedtools intersect \\\n",
    "    -a ${FP_BIN} \\\n",
    "    -b ${FP_FRG} \\\n",
    "    -f 0.9 \\\n",
    "    -F 0.9 \\\n",
    "    -e \\\n",
    "    -wo |\\\n",
    "    gzip -c \\\n",
    "    > ${FP_OUT}\n",
    "\n",
    "### print file message\n",
    "echo \"OUTPUT:  ${FP_OUT}\"\n",
    "zcat ${FP_OUT} | head -5\n",
    "echo\n",
    "\n",
    "### print end message\n",
    "timer=`date +%s`\n",
    "runtime=$(echo \"${timer} - ${timer_start}\" | bc -l)\n",
    "echo\n",
    "echo 'Done!'\n",
    "echo \"Run Time: $(displaytime ${runtime})\"\n",
    "\n",
    "EOF"
   ]
  },
  {
   "cell_type": "code",
   "execution_count": 24,
   "id": "9810c850-5bb0-4650-b1c3-0874a7731c2d",
   "metadata": {},
   "outputs": [
    {
     "name": "stdout",
     "output_type": "stream",
     "text": [
      "Slurm Array Index: \n",
      "Time Stamp:         04-19-22+20:10:33\n",
      "\n",
      "INPUT 1: /gpfs/fs1/data/reddylab/Kuei/out/proj_combeffect_encode_fcc/Tewhey_K562_TileMPRA/coverage/region_GATA1_bin500.bed\n",
      "chrX\t47786400\t47786900\n",
      "chrX\t47786900\t47787400\n",
      "chrX\t47787400\t47787900\n",
      "chrX\t47787900\t47788400\n",
      "chrX\t47788400\t47788900\n",
      "\n",
      "INPUT 2: /gpfs/fs1/data/reddylab/Kuei/out/proj_combeffect_encode_fcc/Tewhey_K562_TileMPRA/fragment/Tile_K562_20210130.GATA1.unstranded.bed\n",
      "chrX\t47786401\t47786600\n",
      "chrX\t47786451\t47786650\n",
      "chrX\t47786501\t47786700\n",
      "chrX\t47786551\t47786750\n",
      "chrX\t47786601\t47786800\n",
      "\n",
      "OUTPUT:  /gpfs/fs1/data/reddylab/Kuei/out/proj_combeffect_encode_fcc/Tewhey_K562_TileMPRA/coverage/Tile_K562_20210130.GATA1.unstranded.bin500.bed.gz\n",
      "chrX\t47786400\t47786900\tchrX\t47786401\t47786600\t199\n",
      "chrX\t47786400\t47786900\tchrX\t47786451\t47786650\t199\n",
      "chrX\t47786400\t47786900\tchrX\t47786501\t47786700\t199\n",
      "chrX\t47786400\t47786900\tchrX\t47786551\t47786750\t199\n",
      "chrX\t47786400\t47786900\tchrX\t47786601\t47786800\t199\n",
      "\n",
      "\n",
      "Done!\n",
      "Run Time: 0 seconds\n"
     ]
    }
   ],
   "source": [
    "cat ${FD_LOG}/TMPRA_coverage_gata1_bin500.txt"
   ]
  },
  {
   "cell_type": "code",
   "execution_count": 19,
   "id": "6a62b553-859e-4d9c-b685-d22ce52e7e6f",
   "metadata": {},
   "outputs": [
    {
     "name": "stdout",
     "output_type": "stream",
     "text": [
      "Submitted batch job 28148982\n"
     ]
    }
   ],
   "source": [
    "sbatch -p ${NODE} \\\n",
    "    --mem 8G \\\n",
    "    -o ${FD_LOG}/TMPRA_coverage_gata1_bin1000.txt \\\n",
    "    <<'EOF'\n",
    "#!/bin/bash\n",
    "### set directories & global variables\n",
    "source ../config_duke.sh\n",
    "\n",
    "### set input and output\n",
    "FD_FRG=${FD_RES}/Tewhey_K562_TileMPRA/fragment\n",
    "FD_COV=${FD_RES}/Tewhey_K562_TileMPRA/coverage\n",
    "\n",
    "FP_BIN=${FD_COV}/region_GATA1_bin1000.bed\n",
    "FP_FRG=${FD_FRG}/Tile_K562_20210130.GATA1.unstranded.bed\n",
    "FP_OUT=${FD_COV}/Tile_K562_20210130.GATA1.unstranded.bin1000.bed.gz\n",
    "\n",
    "### print start message\n",
    "timer_start=`date +%s`\n",
    "echo \"Slurm Array Index: \" ${SLURM_ARRAY_TASK_ID}\n",
    "echo \"Time Stamp:        \" $(date +\"%m-%d-%y+%T\")\n",
    "echo\n",
    "\n",
    "### print file message\n",
    "echo \"INPUT 1: ${FP_BIN}\" \n",
    "head -5 ${FP_BIN}\n",
    "echo\n",
    "echo \"INPUT 2: ${FP_FRG}\"\n",
    "head -5 ${FP_FRG}\n",
    "echo\n",
    "\n",
    "### execute\n",
    "bedtools intersect \\\n",
    "    -a ${FP_BIN} \\\n",
    "    -b ${FP_FRG} \\\n",
    "    -f 1.0 \\\n",
    "    -F 1.0 \\\n",
    "    -e \\\n",
    "    -wo |\\\n",
    "    gzip -c \\\n",
    "    > ${FP_OUT}\n",
    "\n",
    "### print file message\n",
    "echo \"OUTPUT:  ${FP_OUT}\"\n",
    "zcat ${FP_OUT} | head -5\n",
    "echo\n",
    "\n",
    "### print end message\n",
    "timer=`date +%s`\n",
    "runtime=$(echo \"${timer} - ${timer_start}\" | bc -l)\n",
    "echo\n",
    "echo 'Done!'\n",
    "echo \"Run Time: $(displaytime ${runtime})\"\n",
    "\n",
    "EOF"
   ]
  },
  {
   "cell_type": "code",
   "execution_count": 20,
   "id": "f2fd3531-4ef7-43cb-8d32-bf7fde2beef4",
   "metadata": {},
   "outputs": [
    {
     "name": "stdout",
     "output_type": "stream",
     "text": [
      "Slurm Array Index: \n",
      "Time Stamp:         04-19-22+19:42:32\n",
      "\n",
      "INPUT 1: /gpfs/fs1/data/reddylab/Kuei/out/proj_combeffect_encode_fcc/Tewhey_K562_TileMPRA/coverage/region_GATA1_bin1000.bed\n",
      "chrX\t47786400\t47787400\n",
      "chrX\t47787400\t47788400\n",
      "chrX\t47788400\t47789400\n",
      "chrX\t47789400\t47790400\n",
      "chrX\t47790400\t47791400\n",
      "\n",
      "INPUT 2: /gpfs/fs1/data/reddylab/Kuei/out/proj_combeffect_encode_fcc/Tewhey_K562_TileMPRA/fragment/Tile_K562_20210130.GATA1.unstranded.bed\n",
      "chrX\t47786401\t47786600\n",
      "chrX\t47786451\t47786650\n",
      "chrX\t47786501\t47786700\n",
      "chrX\t47786551\t47786750\n",
      "chrX\t47786601\t47786800\n",
      "\n",
      "OUTPUT:  /gpfs/fs1/data/reddylab/Kuei/out/proj_combeffect_encode_fcc/Tewhey_K562_TileMPRA/coverage/Tile_K562_20210130.GATA1.unstranded.bin1000.bed.gz\n",
      "chrX\t47786400\t47787400\tchrX\t47786401\t47786600\t199\n",
      "chrX\t47786400\t47787400\tchrX\t47786451\t47786650\t199\n",
      "chrX\t47786400\t47787400\tchrX\t47786501\t47786700\t199\n",
      "chrX\t47786400\t47787400\tchrX\t47786551\t47786750\t199\n",
      "chrX\t47786400\t47787400\tchrX\t47786601\t47786800\t199\n",
      "\n",
      "\n",
      "Done!\n",
      "Run Time: 0 seconds\n"
     ]
    }
   ],
   "source": [
    "cat ${FD_LOG}/TMPRA_coverage_gata1_bin1000.txt "
   ]
  },
  {
   "cell_type": "code",
   "execution_count": null,
   "id": "808aa198-9bb1-4f9a-ae46-532cf3ee457f",
   "metadata": {},
   "outputs": [],
   "source": []
  }
 ],
 "metadata": {
  "kernelspec": {
   "display_name": "Bash",
   "language": "bash",
   "name": "bash"
  },
  "language_info": {
   "codemirror_mode": "shell",
   "file_extension": ".sh",
   "mimetype": "text/x-sh",
   "name": "bash"
  }
 },
 "nbformat": 4,
 "nbformat_minor": 5
}
