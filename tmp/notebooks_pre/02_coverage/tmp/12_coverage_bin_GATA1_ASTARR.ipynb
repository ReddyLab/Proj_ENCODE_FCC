{
 "cells": [
  {
   "cell_type": "markdown",
   "id": "9f053f34-8bd0-4d99-93f8-13ed72319816",
   "metadata": {},
   "source": [
    "**Set environment**"
   ]
  },
  {
   "cell_type": "code",
   "execution_count": 1,
   "id": "df132199-cb08-4311-a582-8b0318ad2216",
   "metadata": {},
   "outputs": [
    {
     "name": "stdout",
     "output_type": "stream",
     "text": [
      "You are on Duke Server: HARDAC\n",
      "BASE DIRECTORY:     /gpfs/fs1/data/reddylab/Kuei\n",
      "PATH OF SOURCE:     /gpfs/fs1/data/reddylab/Kuei/source\n",
      "PATH OF EXECUTABLE: /gpfs/fs1/data/reddylab/Kuei/exe\n",
      "PATH OF ANNOTATION: /gpfs/fs1/data/reddylab/Kuei/annotation\n",
      "PATH OF PROJECT:    /gpfs/fs1/data/reddylab/Kuei/GitRepo/Proj_CombEffect_ENCODE_FCC/notebooks\n",
      "PATH OF RESULTS:    /gpfs/fs1/data/reddylab/Kuei/out/proj_combeffect_encode_fcc\n",
      "\n"
     ]
    }
   ],
   "source": [
    "source ../config_duke.sh -v\n",
    "source ../config_load_module_bedtools.sh"
   ]
  },
  {
   "cell_type": "markdown",
   "id": "8ed495e4-e72f-4124-bf71-3959800a332e",
   "metadata": {},
   "source": [
    "## Test"
   ]
  },
  {
   "cell_type": "code",
   "execution_count": 2,
   "id": "60f225d1-34b1-4d8c-9712-2bd7679dadba",
   "metadata": {},
   "outputs": [
    {
     "name": "stdout",
     "output_type": "stream",
     "text": [
      "KS91_K562_hg38_ASTARRseq_Input_rep1.GATA1.unstranded.dedups.bed\n",
      "KS91_K562_hg38_ASTARRseq_Input_rep2.GATA1.unstranded.dedups.bed\n",
      "KS91_K562_hg38_ASTARRseq_Input_rep3.GATA1.unstranded.dedups.bed\n",
      "KS91_K562_hg38_ASTARRseq_Input_rep4.GATA1.unstranded.dedups.bed\n",
      "KS91_K562_hg38_ASTARRseq_Input_rep5.GATA1.unstranded.dedups.bed\n",
      "KS91_K562_hg38_ASTARRseq_Input_rep6.GATA1.unstranded.dedups.bed\n",
      "KS91_K562_hg38_ASTARRseq_Output_rep1.GATA1.unstranded.bed\n",
      "KS91_K562_hg38_ASTARRseq_Output_rep2.GATA1.unstranded.bed\n",
      "KS91_K562_hg38_ASTARRseq_Output_rep3.GATA1.unstranded.bed\n",
      "KS91_K562_hg38_ASTARRseq_Output_rep4.GATA1.unstranded.bed\n",
      "library_size.tsv\n",
      "library_size.txt\n"
     ]
    }
   ],
   "source": [
    "ls ${FD_RES}/KS91_K562_ASTARRseq/fragment"
   ]
  },
  {
   "cell_type": "code",
   "execution_count": 3,
   "id": "b90d3a3f-0a67-4ceb-ad89-c54398120dcf",
   "metadata": {},
   "outputs": [
    {
     "name": "stdout",
     "output_type": "stream",
     "text": [
      "KS91_K562_hg38_ASTARRseq_Input_rep1.GATA1.unstranded.dedups.bed\n",
      "KS91_K562_hg38_ASTARRseq_Input_rep1.GATA1.unstranded.dedups\n",
      "KS91_K562_hg38_ASTARRseq_Input_rep2.GATA1.unstranded.dedups.bed\n",
      "KS91_K562_hg38_ASTARRseq_Input_rep2.GATA1.unstranded.dedups\n",
      "KS91_K562_hg38_ASTARRseq_Input_rep3.GATA1.unstranded.dedups.bed\n",
      "KS91_K562_hg38_ASTARRseq_Input_rep3.GATA1.unstranded.dedups\n",
      "KS91_K562_hg38_ASTARRseq_Input_rep4.GATA1.unstranded.dedups.bed\n",
      "KS91_K562_hg38_ASTARRseq_Input_rep4.GATA1.unstranded.dedups\n",
      "KS91_K562_hg38_ASTARRseq_Input_rep5.GATA1.unstranded.dedups.bed\n",
      "KS91_K562_hg38_ASTARRseq_Input_rep5.GATA1.unstranded.dedups\n",
      "KS91_K562_hg38_ASTARRseq_Input_rep6.GATA1.unstranded.dedups.bed\n",
      "KS91_K562_hg38_ASTARRseq_Input_rep6.GATA1.unstranded.dedups\n",
      "KS91_K562_hg38_ASTARRseq_Output_rep1.GATA1.unstranded.bed\n",
      "KS91_K562_hg38_ASTARRseq_Output_rep1.GATA1.unstranded\n",
      "KS91_K562_hg38_ASTARRseq_Output_rep2.GATA1.unstranded.bed\n",
      "KS91_K562_hg38_ASTARRseq_Output_rep2.GATA1.unstranded\n",
      "KS91_K562_hg38_ASTARRseq_Output_rep3.GATA1.unstranded.bed\n",
      "KS91_K562_hg38_ASTARRseq_Output_rep3.GATA1.unstranded\n",
      "KS91_K562_hg38_ASTARRseq_Output_rep4.GATA1.unstranded.bed\n",
      "KS91_K562_hg38_ASTARRseq_Output_rep4.GATA1.unstranded\n"
     ]
    }
   ],
   "source": [
    "FP_BEDS=($(ls ${FD_RES}/KS91_K562_ASTARRseq/fragment/KS91_K562_hg38_ASTARRseq*))\n",
    "for FP_BED in ${FP_BEDS[@]}; do\n",
    "    FN_BED=$(basename ${FP_BED})\n",
    "    PREFIX=\"${FN_BED%.*}\"\n",
    "    #echo ${FP_BED}\n",
    "    echo ${FN_BED}\n",
    "    echo ${PREFIX}\n",
    "done"
   ]
  },
  {
   "cell_type": "code",
   "execution_count": 4,
   "id": "2ecb0ddd-ac89-416d-a562-e1ebae97bfab",
   "metadata": {},
   "outputs": [
    {
     "name": "stdout",
     "output_type": "stream",
     "text": [
      "1\n",
      "bin1\n",
      "region_GATA1_bin1.bed\n",
      "100\n",
      "bin100\n",
      "region_GATA1_bin100.bed\n",
      "200\n",
      "bin200\n",
      "region_GATA1_bin200.bed\n",
      "500\n",
      "bin500\n",
      "region_GATA1_bin500.bed\n",
      "1000\n",
      "bin1000\n",
      "region_GATA1_bin1000.bed\n"
     ]
    }
   ],
   "source": [
    "SIZES=(1 100 200 500 1000)\n",
    "PREFIX=\"region_GATA1\"\n",
    "for SIZE in ${SIZES[@]}; do\n",
    "    FNAME=\"bin${SIZE}\"\n",
    "    FN_BIN=${PREFIX}_${FNAME}.bed\n",
    "    echo ${SIZE}\n",
    "    echo ${FNAME}\n",
    "    echo ${FN_BIN}\n",
    "done"
   ]
  },
  {
   "cell_type": "code",
   "execution_count": 5,
   "id": "eec2cde6-48a7-4080-af91-a67c3dc53d18",
   "metadata": {},
   "outputs": [
    {
     "name": "stdout",
     "output_type": "stream",
     "text": [
      "Submitted batch job 28159204\n"
     ]
    }
   ],
   "source": [
    "sbatch -p ${NODE} \\\n",
    "    --mem 8G \\\n",
    "    --array 0-9 \\\n",
    "    -o ${FD_LOG}/ASTARR_coverage_gata1_bin.%a.txt \\\n",
    "    <<'EOF'\n",
    "#!/bin/bash\n",
    "### set directories & global variables\n",
    "source ../config_duke.sh\n",
    "\n",
    "SIZES=(100 200 500 1000)\n",
    "REGION=\"region_GATA1\"\n",
    "\n",
    "### set input and output\n",
    "FP_FRGS=($(ls ${FD_RES}/KS91_K562_ASTARRseq/fragment/KS91_K562_hg38_ASTARRseq*))\n",
    "FP_FRG=${FP_FRGS[${SLURM_ARRAY_TASK_ID}]}\n",
    "FN_FRG=$(basename ${FP_FRG})\n",
    "PREFIX=\"${FN_FRG%.*}\"\n",
    "\n",
    "FD_COV=${FD_RES}/KS91_K562_ASTARRseq/coverage\n",
    "\n",
    "### loop through different bin sizes\n",
    "for SIZE in ${SIZES[@]}; do\n",
    "    ### set input and output\n",
    "    FNAME=\"bin${SIZE}\"\n",
    "    FN_BIN=\"${REGION}_${FNAME}.bed\"\n",
    "    \n",
    "    FP_BIN=${FD_COV}/${FN_BIN}\n",
    "    FP_OUT=${FD_COV}/${PREFIX}.${FNAME}.bed.gz\n",
    "    \n",
    "    ### print input file message\n",
    "    echo +++++++++++++++++++++++++++++++++++++++\n",
    "    echo \"INPUT 1: ${FP_BIN}\" \n",
    "    head -5 ${FP_BIN}\n",
    "    echo\n",
    "    echo \"INPUT 2: ${FP_FRG}\"\n",
    "    head -5 ${FP_FRG}\n",
    "    echo\n",
    "    \n",
    "    ### execute\n",
    "    bedtools intersect \\\n",
    "        -a ${FP_BIN} \\\n",
    "        -b ${FP_FRG} \\\n",
    "        -f 0.9 \\\n",
    "        -F 0.9 \\\n",
    "        -e   \\\n",
    "        -wo |\\\n",
    "        awk -v OFS='\\t' {'print $1, $2, $3'} |\\\n",
    "        sort    |\\\n",
    "        uniq -c |\\\n",
    "        awk '{$(NF+1)=$1;$1=\"\"}1'   |\\\n",
    "        sed -e 's/^[[:space:]]*//'  |\\\n",
    "        sed -e 's/[[:space:]]/\\t/g' |\\\n",
    "        sort -k 1,1 -k2,2n |\\\n",
    "        gzip -c \\\n",
    "        > ${FP_OUT}\n",
    "\n",
    "    ### print output file message\n",
    "    echo \"OUTPUT: ${FP_OUT}\"\n",
    "    zcat ${FP_OUT} | head -5\n",
    "    echo\n",
    "done\n",
    "\n",
    "### print end message\n",
    "timer=`date +%s`\n",
    "runtime=$(echo \"${timer} - ${timer_start}\" | bc -l)\n",
    "echo\n",
    "echo 'Done!'\n",
    "echo \"Run Time: $(displaytime ${runtime})\"\n",
    "\n",
    "EOF"
   ]
  },
  {
   "cell_type": "code",
   "execution_count": 6,
   "id": "69ca8e54-3810-4de6-9617-5e0c5da05c76",
   "metadata": {},
   "outputs": [
    {
     "name": "stdout",
     "output_type": "stream",
     "text": [
      "+++++++++++++++++++++++++++++++++++++++\n",
      "INPUT 1: /gpfs/fs1/data/reddylab/Kuei/out/proj_combeffect_encode_fcc/KS91_K562_ASTARRseq/coverage/region_GATA1_bin100.bed\n",
      "chrX\t47786401\t47786501\n",
      "chrX\t47786501\t47786601\n",
      "chrX\t47786601\t47786701\n",
      "chrX\t47786701\t47786801\n",
      "chrX\t47786801\t47786901\n",
      "\n",
      "INPUT 2: /gpfs/fs1/data/reddylab/Kuei/out/proj_combeffect_encode_fcc/KS91_K562_ASTARRseq/fragment/KS91_K562_hg38_ASTARRseq_Input_rep1.GATA1.unstranded.dedups.bed\n",
      "chrX\t47787165\t47787363\tchrX_47787165_47787363\n",
      "chrX\t47787557\t47787773\tchrX_47787557_47787773\n",
      "chrX\t47787593\t47787783\tchrX_47787593_47787783\n",
      "chrX\t47787598\t47787772\tchrX_47787598_47787772\n",
      "chrX\t47787661\t47788058\tchrX_47787661_47788058\n",
      "\n",
      "OUTPUT: /gpfs/fs1/data/reddylab/Kuei/out/proj_combeffect_encode_fcc/KS91_K562_ASTARRseq/coverage/KS91_K562_hg38_ASTARRseq_Input_rep1.GATA1.unstranded.dedups.bin100.bed.gz\n",
      "chrX\t47787201\t47787301\t1\n",
      "chrX\t47787601\t47787701\t3\n",
      "chrX\t47787701\t47787801\t1\n",
      "chrX\t47787801\t47787901\t1\n",
      "chrX\t47787901\t47788001\t1\n",
      "\n",
      "+++++++++++++++++++++++++++++++++++++++\n",
      "INPUT 1: /gpfs/fs1/data/reddylab/Kuei/out/proj_combeffect_encode_fcc/KS91_K562_ASTARRseq/coverage/region_GATA1_bin200.bed\n",
      "chrX\t47786401\t47786601\n",
      "chrX\t47786601\t47786801\n",
      "chrX\t47786801\t47787001\n",
      "chrX\t47787001\t47787201\n",
      "chrX\t47787201\t47787401\n",
      "\n",
      "INPUT 2: /gpfs/fs1/data/reddylab/Kuei/out/proj_combeffect_encode_fcc/KS91_K562_ASTARRseq/fragment/KS91_K562_hg38_ASTARRseq_Input_rep1.GATA1.unstranded.dedups.bed\n",
      "chrX\t47787165\t47787363\tchrX_47787165_47787363\n",
      "chrX\t47787557\t47787773\tchrX_47787557_47787773\n",
      "chrX\t47787593\t47787783\tchrX_47787593_47787783\n",
      "chrX\t47787598\t47787772\tchrX_47787598_47787772\n",
      "chrX\t47787661\t47788058\tchrX_47787661_47788058\n",
      "\n",
      "OUTPUT: /gpfs/fs1/data/reddylab/Kuei/out/proj_combeffect_encode_fcc/KS91_K562_ASTARRseq/coverage/KS91_K562_hg38_ASTARRseq_Input_rep1.GATA1.unstranded.dedups.bin200.bed.gz\n",
      "chrX\t47787601\t47787801\t2\n",
      "chrX\t47787801\t47788001\t1\n",
      "chrX\t47788001\t47788201\t3\n",
      "chrX\t47788201\t47788401\t1\n",
      "chrX\t47788401\t47788601\t1\n",
      "\n",
      "+++++++++++++++++++++++++++++++++++++++\n",
      "INPUT 1: /gpfs/fs1/data/reddylab/Kuei/out/proj_combeffect_encode_fcc/KS91_K562_ASTARRseq/coverage/region_GATA1_bin500.bed\n",
      "chrX\t47786401\t47786901\n",
      "chrX\t47786901\t47787401\n",
      "chrX\t47787401\t47787901\n",
      "chrX\t47787901\t47788401\n",
      "chrX\t47788401\t47788901\n",
      "\n",
      "INPUT 2: /gpfs/fs1/data/reddylab/Kuei/out/proj_combeffect_encode_fcc/KS91_K562_ASTARRseq/fragment/KS91_K562_hg38_ASTARRseq_Input_rep1.GATA1.unstranded.dedups.bed\n",
      "chrX\t47787165\t47787363\tchrX_47787165_47787363\n",
      "chrX\t47787557\t47787773\tchrX_47787557_47787773\n",
      "chrX\t47787593\t47787783\tchrX_47787593_47787783\n",
      "chrX\t47787598\t47787772\tchrX_47787598_47787772\n",
      "chrX\t47787661\t47788058\tchrX_47787661_47788058\n",
      "\n",
      "OUTPUT: /gpfs/fs1/data/reddylab/Kuei/out/proj_combeffect_encode_fcc/KS91_K562_ASTARRseq/coverage/KS91_K562_hg38_ASTARRseq_Input_rep1.GATA1.unstranded.dedups.bin500.bed.gz\n",
      "chrX\t47786901\t47787401\t1\n",
      "chrX\t47787401\t47787901\t4\n",
      "chrX\t47787901\t47788401\t3\n",
      "chrX\t47788401\t47788901\t7\n",
      "chrX\t47788901\t47789401\t18\n",
      "\n",
      "+++++++++++++++++++++++++++++++++++++++\n",
      "INPUT 1: /gpfs/fs1/data/reddylab/Kuei/out/proj_combeffect_encode_fcc/KS91_K562_ASTARRseq/coverage/region_GATA1_bin1000.bed\n",
      "chrX\t47786401\t47787401\n",
      "chrX\t47787401\t47788401\n",
      "chrX\t47788401\t47789401\n",
      "chrX\t47789401\t47790401\n",
      "chrX\t47790401\t47791401\n",
      "\n",
      "INPUT 2: /gpfs/fs1/data/reddylab/Kuei/out/proj_combeffect_encode_fcc/KS91_K562_ASTARRseq/fragment/KS91_K562_hg38_ASTARRseq_Input_rep1.GATA1.unstranded.dedups.bed\n",
      "chrX\t47787165\t47787363\tchrX_47787165_47787363\n",
      "chrX\t47787557\t47787773\tchrX_47787557_47787773\n",
      "chrX\t47787593\t47787783\tchrX_47787593_47787783\n",
      "chrX\t47787598\t47787772\tchrX_47787598_47787772\n",
      "chrX\t47787661\t47788058\tchrX_47787661_47788058\n",
      "\n",
      "OUTPUT: /gpfs/fs1/data/reddylab/Kuei/out/proj_combeffect_encode_fcc/KS91_K562_ASTARRseq/coverage/KS91_K562_hg38_ASTARRseq_Input_rep1.GATA1.unstranded.dedups.bin1000.bed.gz\n",
      "chrX\t47786401\t47787401\t1\n",
      "chrX\t47787401\t47788401\t8\n",
      "chrX\t47788401\t47789401\t36\n",
      "chrX\t47789401\t47790401\t24\n",
      "chrX\t47790401\t47791401\t1\n",
      "\n",
      "(standard_in) 2: syntax error\n",
      "\n",
      "Done!\n",
      "Run Time: 0 seconds\n"
     ]
    }
   ],
   "source": [
    "cat ${FD_LOG}/ASTARR_coverage_gata1_bin.0.txt"
   ]
  },
  {
   "cell_type": "code",
   "execution_count": null,
   "id": "bb88200e-1800-4959-990e-d51d2beac734",
   "metadata": {},
   "outputs": [],
   "source": []
  },
  {
   "cell_type": "code",
   "execution_count": null,
   "id": "8ec9d3b7-f636-437f-a0dd-a1f147150dd6",
   "metadata": {},
   "outputs": [],
   "source": []
  },
  {
   "cell_type": "code",
   "execution_count": null,
   "id": "9c1354b9-c3b0-4c0a-b6e2-6ca6b8bf9c56",
   "metadata": {},
   "outputs": [],
   "source": []
  },
  {
   "cell_type": "code",
   "execution_count": null,
   "id": "1fe52e03-bad8-400c-8219-fd51bcf943ca",
   "metadata": {},
   "outputs": [],
   "source": []
  },
  {
   "cell_type": "code",
   "execution_count": null,
   "id": "d224c42f-4fd8-4143-9d79-1e39f4077dde",
   "metadata": {},
   "outputs": [],
   "source": []
  },
  {
   "cell_type": "code",
   "execution_count": 40,
   "id": "40b41f67-598f-475e-b603-7b167ab0fb6d",
   "metadata": {},
   "outputs": [
    {
     "name": "stdout",
     "output_type": "stream",
     "text": [
      "Submitted batch job 28146058\n"
     ]
    }
   ],
   "source": [
    "sbatch -p ${NODE} \\\n",
    "    --mem 8G \\\n",
    "    --array 0-9 \\\n",
    "    -o ${FD_LOG}/ASTARR_coverage_gata1_bin.%a.txt \\\n",
    "    <<'EOF'\n",
    "#!/bin/bash\n",
    "### set directories & global variables\n",
    "source ../config_duke.sh\n",
    "\n",
    "### set input and output\n",
    "FP_BEDS=($(ls ${FD_RES}/KS91_K562_ASTARRseq/fragment/KS91_K562_hg38_ASTARRseq*))\n",
    "FP_BED=${FP_BEDS[${SLURM_ARRAY_TASK_ID}]}\n",
    "FN_BED=$(basename ${FP_BED})\n",
    "PREFIX=\"${FN_BED%.*}\"\n",
    "\n",
    "FD_COV=${FD_RES}/KS91_K562_ASTARRseq/coverage\n",
    "FP_BIN=${FD_COV}/region_GATA1_bin100.bed\n",
    "FP_OUT=${FD_COV}/${PREFIX}.bin100.bed.gz\n",
    "\n",
    "### print start message\n",
    "timer_start=`date +%s`\n",
    "echo \"Slurm Array Index: \" ${SLURM_ARRAY_TASK_ID}\n",
    "echo \"Time Stamp:        \" $(date +\"%m-%d-%y+%T\")\n",
    "echo\n",
    "\n",
    "### print file message\n",
    "echo \"INPUT 1: ${FP_BIN}\" \n",
    "head -5 ${FP_BIN}\n",
    "echo\n",
    "echo \"INPUT 2: ${FP_BED}\"\n",
    "head -5 ${FP_BED}\n",
    "echo\n",
    "\n",
    "### execute\n",
    "bedtools intersect \\\n",
    "    -a ${FP_BIN} \\\n",
    "    -b ${FP_BED} \\\n",
    "    -f 1.0 \\\n",
    "    -wo |\\\n",
    "    awk -v OFS='\\t' {'print $1, $2, $3'} |\\\n",
    "    sort |\\\n",
    "    uniq -c |\\\n",
    "    awk '{$(NF+1)=$1;$1=\"\"}1'   |\\\n",
    "    sed -e 's/^[[:space:]]*//'  |\\\n",
    "    sed -e 's/[[:space:]]/\\t/g' |\\\n",
    "    sort -k 1,1 -k2,2n |\\\n",
    "    gzip -c \\\n",
    "    > ${FP_OUT}\n",
    "\n",
    "### print file message\n",
    "echo \"OUTPUT:  ${FP_OUT}\"\n",
    "zcat ${FP_OUT} | head -5\n",
    "echo\n",
    "\n",
    "### print end message\n",
    "timer=`date +%s`\n",
    "runtime=$(echo \"${timer} - ${timer_start}\" | bc -l)\n",
    "echo\n",
    "echo 'Done!'\n",
    "echo \"Run Time: $(displaytime ${runtime})\"\n",
    "\n",
    "EOF"
   ]
  },
  {
   "cell_type": "code",
   "execution_count": 41,
   "id": "b792b87e-381f-4f8a-aaf5-65fea05bb05d",
   "metadata": {},
   "outputs": [
    {
     "name": "stdout",
     "output_type": "stream",
     "text": [
      "Slurm Array Index:  0\n",
      "Time Stamp:         04-19-22+16:05:56\n",
      "\n",
      "INPUT 1: /gpfs/fs1/data/reddylab/Kuei/out/proj_combeffect_encode_fcc/KS91_K562_ASTARRseq/coverage/region_GATA1_bin100.bed\n",
      "chrX\t47786400\t47786500\n",
      "chrX\t47786500\t47786600\n",
      "chrX\t47786600\t47786700\n",
      "chrX\t47786700\t47786800\n",
      "chrX\t47786800\t47786900\n",
      "\n",
      "INPUT 2: /gpfs/fs1/data/reddylab/Kuei/out/proj_combeffect_encode_fcc/KS91_K562_ASTARRseq/fragment/KS91_K562_hg38_ASTARRseq_Input_rep1.GATA1.unstranded.dedups.bed\n",
      "chrX\t47787165\t47787363\tchrX_47787165_47787363\n",
      "chrX\t47787557\t47787773\tchrX_47787557_47787773\n",
      "chrX\t47787593\t47787783\tchrX_47787593_47787783\n",
      "chrX\t47787598\t47787772\tchrX_47787598_47787772\n",
      "chrX\t47787661\t47788058\tchrX_47787661_47788058\n",
      "\n",
      "OUTPUT:  /gpfs/fs1/data/reddylab/Kuei/out/proj_combeffect_encode_fcc/KS91_K562_ASTARRseq/coverage/KS91_K562_hg38_ASTARRseq_Input_rep1.GATA1.unstranded.dedups.bin100.bed.gz\n",
      "chrX\t47787200\t47787300\t1\n",
      "chrX\t47787600\t47787700\t3\n",
      "chrX\t47787700\t47787800\t1\n",
      "chrX\t47787800\t47787900\t1\n",
      "chrX\t47787900\t47788000\t1\n",
      "\n",
      "\n",
      "Done!\n",
      "Run Time: 7 seconds\n"
     ]
    }
   ],
   "source": [
    "cat ${FD_LOG}/ASTARR_coverage_gata1_bin.0.txt"
   ]
  },
  {
   "cell_type": "code",
   "execution_count": 23,
   "id": "b6e1922d-e89c-4b5c-bc11-593a214ceef1",
   "metadata": {},
   "outputs": [
    {
     "name": "stdout",
     "output_type": "stream",
     "text": [
      "Slurm Array Index:  0\n",
      "Time Stamp:         04-19-22+15:45:26\n",
      "\n",
      "INPUT 1: /gpfs/fs1/data/reddylab/Kuei/out/proj_combeffect_encode_fcc/KS91_K562_ASTARRseq/coverage/region_GATA1_bin100.bed\n",
      "chrX\t47786400\t47786500\n",
      "chrX\t47786500\t47786600\n",
      "chrX\t47786600\t47786700\n",
      "chrX\t47786700\t47786800\n",
      "chrX\t47786800\t47786900\n",
      "\n",
      "INPUT 2: /gpfs/fs1/data/reddylab/Kuei/out/proj_combeffect_encode_fcc/KS91_K562_ASTARRseq/fragment/KS91_K562_hg38_ASTARRseq_Input_rep1.GATA1.unstranded.dedups.bed\n",
      "chrX\t47787165\t47787363\tchrX_47787165_47787363\n",
      "chrX\t47787557\t47787773\tchrX_47787557_47787773\n",
      "chrX\t47787593\t47787783\tchrX_47787593_47787783\n",
      "chrX\t47787598\t47787772\tchrX_47787598_47787772\n",
      "chrX\t47787661\t47788058\tchrX_47787661_47788058\n",
      "\n",
      "OUTPUT:  /gpfs/fs1/data/reddylab/Kuei/out/proj_combeffect_encode_fcc/KS91_K562_ASTARRseq/coverage/KS91_K562_hg38_ASTARRseq_Input_rep1.GATA1.unstranded.dedups.bin100.bed.gz\n",
      "chrX\t47787200\t47787300\tchrX\t47787165\t47787363\tchrX_47787165_47787363\t100\n",
      "chrX\t47787600\t47787700\tchrX\t47787557\t47787773\tchrX_47787557_47787773\t100\n",
      "chrX\t47787600\t47787700\tchrX\t47787593\t47787783\tchrX_47787593_47787783\t100\n",
      "chrX\t47787600\t47787700\tchrX\t47787598\t47787772\tchrX_47787598_47787772\t100\n",
      "chrX\t47787700\t47787800\tchrX\t47787661\t47788058\tchrX_47787661_47788058\t100\n",
      "\n",
      "\n",
      "Done!\n",
      "Run Time: 5 seconds\n"
     ]
    }
   ],
   "source": [
    "cat ${FD_LOG}/ASTARR_coverage_gata1_bin.0.txt"
   ]
  },
  {
   "cell_type": "code",
   "execution_count": null,
   "id": "71963979-0d06-450a-b6b4-105ba8330707",
   "metadata": {},
   "outputs": [],
   "source": []
  },
  {
   "cell_type": "code",
   "execution_count": 45,
   "id": "270a3b16-bbb5-4c1b-a480-52324609378c",
   "metadata": {},
   "outputs": [
    {
     "name": "stdout",
     "output_type": "stream",
     "text": [
      "Submitted batch job 28148983\n"
     ]
    }
   ],
   "source": [
    "sbatch -p ${NODE} \\\n",
    "    --mem 8G \\\n",
    "    --array 0-9 \\\n",
    "    -o ${FD_LOG}/ASTARR_coverage_gata1_bin1000.%a.txt \\\n",
    "    <<'EOF'\n",
    "#!/bin/bash\n",
    "### set directories & global variables\n",
    "source ../config_duke.sh\n",
    "\n",
    "### set input and output\n",
    "FP_BEDS=($(ls ${FD_RES}/KS91_K562_ASTARRseq/fragment/KS91_K562_hg38_ASTARRseq*))\n",
    "FP_BED=${FP_BEDS[${SLURM_ARRAY_TASK_ID}]}\n",
    "FN_BED=$(basename ${FP_BED})\n",
    "PREFIX=\"${FN_BED%.*}\"\n",
    "\n",
    "FD_COV=${FD_RES}/KS91_K562_ASTARRseq/coverage\n",
    "FP_BIN=${FD_COV}/region_GATA1_bin1000.bed\n",
    "FP_OUT=${FD_COV}/${PREFIX}.bin1000.bed.gz\n",
    "\n",
    "### print start message\n",
    "timer_start=`date +%s`\n",
    "echo \"Slurm Array Index: \" ${SLURM_ARRAY_TASK_ID}\n",
    "echo \"Time Stamp:        \" $(date +\"%m-%d-%y+%T\")\n",
    "echo\n",
    "\n",
    "### print file message\n",
    "echo \"INPUT 1: ${FP_BIN}\" \n",
    "head -5 ${FP_BIN}\n",
    "echo\n",
    "echo \"INPUT 2: ${FP_BED}\"\n",
    "head -5 ${FP_BED}\n",
    "echo\n",
    "\n",
    "### execute\n",
    "bedtools intersect \\\n",
    "    -a ${FP_BIN} \\\n",
    "    -b ${FP_BED} \\\n",
    "    -f 1.0 \\\n",
    "    -F 1.0 \\\n",
    "    -e \\\n",
    "    -wo |\\\n",
    "    awk -v OFS='\\t' {'print $1, $2, $3'} |\\\n",
    "    sort |\\\n",
    "    uniq -c |\\\n",
    "    awk '{$(NF+1)=$1;$1=\"\"}1'   |\\\n",
    "    sed -e 's/^[[:space:]]*//'  |\\\n",
    "    sed -e 's/[[:space:]]/\\t/g' |\\\n",
    "    sort -k 1,1 -k2,2n |\\\n",
    "    gzip -c \\\n",
    "    > ${FP_OUT}\n",
    "\n",
    "### print file message\n",
    "echo \"OUTPUT:  ${FP_OUT}\"\n",
    "zcat ${FP_OUT} | head -5\n",
    "echo\n",
    "\n",
    "### print end message\n",
    "timer=`date +%s`\n",
    "runtime=$(echo \"${timer} - ${timer_start}\" | bc -l)\n",
    "echo\n",
    "echo 'Done!'\n",
    "echo \"Run Time: $(displaytime ${runtime})\"\n",
    "\n",
    "EOF"
   ]
  },
  {
   "cell_type": "code",
   "execution_count": 46,
   "id": "3f20b56b-dc67-4896-b7fb-981df6254074",
   "metadata": {},
   "outputs": [
    {
     "name": "stdout",
     "output_type": "stream",
     "text": [
      "Slurm Array Index:  6\n",
      "Time Stamp:         04-19-22+19:42:32\n",
      "\n",
      "INPUT 1: /gpfs/fs1/data/reddylab/Kuei/out/proj_combeffect_encode_fcc/KS91_K562_ASTARRseq/coverage/region_GATA1_bin1000.bed\n",
      "chrX\t47786400\t47787400\n",
      "chrX\t47787400\t47788400\n",
      "chrX\t47788400\t47789400\n",
      "chrX\t47789400\t47790400\n",
      "chrX\t47790400\t47791400\n",
      "\n",
      "INPUT 2: /gpfs/fs1/data/reddylab/Kuei/out/proj_combeffect_encode_fcc/KS91_K562_ASTARRseq/fragment/KS91_K562_hg38_ASTARRseq_Output_rep1.GATA1.unstranded.bed\n",
      "chrX\t47787189\t47787363\tchrX_47787189_47787363\n",
      "chrX\t47787189\t47787363\tchrX_47787189_47787363\n",
      "chrX\t47787189\t47787363\tchrX_47787189_47787363\n",
      "chrX\t47787189\t47787363\tchrX_47787189_47787363\n",
      "chrX\t47787189\t47787363\tchrX_47787189_47787363\n",
      "\n",
      "OUTPUT:  /gpfs/fs1/data/reddylab/Kuei/out/proj_combeffect_encode_fcc/KS91_K562_ASTARRseq/coverage/KS91_K562_hg38_ASTARRseq_Output_rep1.GATA1.unstranded.bin1000.bed.gz\n",
      "chrX\t47786400\t47787400\t6\n",
      "chrX\t47788400\t47789400\t115\n",
      "chrX\t47792400\t47793400\t2\n",
      "chrX\t47794400\t47795400\t38\n",
      "chrX\t47795400\t47796400\t24\n",
      "\n",
      "\n",
      "Done!\n",
      "Run Time: 3 seconds\n"
     ]
    }
   ],
   "source": [
    "cat ${FD_LOG}/ASTARR_coverage_gata1_bin1000.6.txt"
   ]
  },
  {
   "cell_type": "code",
   "execution_count": null,
   "id": "487500c6-5026-449b-8d89-8183849b25fd",
   "metadata": {},
   "outputs": [],
   "source": []
  },
  {
   "cell_type": "code",
   "execution_count": null,
   "id": "9e0c562b-4a33-4a4b-bf27-5ceb3b90c381",
   "metadata": {},
   "outputs": [],
   "source": []
  }
 ],
 "metadata": {
  "kernelspec": {
   "display_name": "Bash",
   "language": "bash",
   "name": "bash"
  },
  "language_info": {
   "codemirror_mode": "shell",
   "file_extension": ".sh",
   "mimetype": "text/x-sh",
   "name": "bash"
  }
 },
 "nbformat": 4,
 "nbformat_minor": 5
}
