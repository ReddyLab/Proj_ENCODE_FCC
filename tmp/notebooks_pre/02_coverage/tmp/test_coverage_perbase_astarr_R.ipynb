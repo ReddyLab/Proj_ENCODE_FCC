{
 "cells": [
  {
   "cell_type": "code",
   "execution_count": 1,
   "id": "f4ca9048",
   "metadata": {},
   "outputs": [
    {
     "name": "stdout",
     "output_type": "stream",
     "text": [
      "You are in Singularity: singularity_proj_combeffect \n",
      "BASE DIRECTORY:     /mount/work \n",
      "PATH OF SOURCE:     /mount/work/source \n",
      "PATH OF EXECUTABLE: /mount/work/exe \n",
      "PATH OF ANNOTATION: /mount/work/annotation \n",
      "PATH OF PROJECT:    /mount/project \n",
      "PATH OF RESULTS:    /mount/work/out/proj_combeffect_encode_fcc \n"
     ]
    }
   ],
   "source": [
    "suppressMessages(source(\"../config_sing.R\"))\n",
    "show_env()"
   ]
  },
  {
   "cell_type": "code",
   "execution_count": 2,
   "id": "83a75911",
   "metadata": {},
   "outputs": [
    {
     "name": "stderr",
     "output_type": "stream",
     "text": [
      "\u001b[1mRows: \u001b[22m\u001b[34m2000350\u001b[39m \u001b[1mColumns: \u001b[22m\u001b[34m3\u001b[39m\n",
      "\u001b[36m──\u001b[39m \u001b[1mColumn specification\u001b[22m \u001b[36m─────────────────────────────────────────────────────────────────────────────────────────────────────\u001b[39m\n",
      "\u001b[1mDelimiter:\u001b[22m \"\\t\"\n",
      "\u001b[31mchr\u001b[39m (1): Chrom\n",
      "\u001b[32mdbl\u001b[39m (2): Loc, Depth\n",
      "\n",
      "\u001b[36mℹ\u001b[39m Use `spec()` to retrieve the full column specification for this data.\n",
      "\u001b[36mℹ\u001b[39m Specify the column types or set `show_col_types = FALSE` to quiet this message.\n"
     ]
    },
    {
     "data": {
      "text/html": [
       "<table class=\"dataframe\">\n",
       "<caption>A tibble: 6 × 3</caption>\n",
       "<thead>\n",
       "\t<tr><th scope=col>Chrom</th><th scope=col>Loc</th><th scope=col>Depth</th></tr>\n",
       "\t<tr><th scope=col>&lt;chr&gt;</th><th scope=col>&lt;dbl&gt;</th><th scope=col>&lt;dbl&gt;</th></tr>\n",
       "</thead>\n",
       "<tbody>\n",
       "\t<tr><td>chrX</td><td>47786400</td><td>0</td></tr>\n",
       "\t<tr><td>chrX</td><td>47786401</td><td>0</td></tr>\n",
       "\t<tr><td>chrX</td><td>47786402</td><td>0</td></tr>\n",
       "\t<tr><td>chrX</td><td>47786403</td><td>0</td></tr>\n",
       "\t<tr><td>chrX</td><td>47786404</td><td>0</td></tr>\n",
       "\t<tr><td>chrX</td><td>47786405</td><td>0</td></tr>\n",
       "</tbody>\n",
       "</table>\n"
      ],
      "text/latex": [
       "A tibble: 6 × 3\n",
       "\\begin{tabular}{lll}\n",
       " Chrom & Loc & Depth\\\\\n",
       " <chr> & <dbl> & <dbl>\\\\\n",
       "\\hline\n",
       "\t chrX & 47786400 & 0\\\\\n",
       "\t chrX & 47786401 & 0\\\\\n",
       "\t chrX & 47786402 & 0\\\\\n",
       "\t chrX & 47786403 & 0\\\\\n",
       "\t chrX & 47786404 & 0\\\\\n",
       "\t chrX & 47786405 & 0\\\\\n",
       "\\end{tabular}\n"
      ],
      "text/markdown": [
       "\n",
       "A tibble: 6 × 3\n",
       "\n",
       "| Chrom &lt;chr&gt; | Loc &lt;dbl&gt; | Depth &lt;dbl&gt; |\n",
       "|---|---|---|\n",
       "| chrX | 47786400 | 0 |\n",
       "| chrX | 47786401 | 0 |\n",
       "| chrX | 47786402 | 0 |\n",
       "| chrX | 47786403 | 0 |\n",
       "| chrX | 47786404 | 0 |\n",
       "| chrX | 47786405 | 0 |\n",
       "\n"
      ],
      "text/plain": [
       "  Chrom Loc      Depth\n",
       "1 chrX  47786400 0    \n",
       "2 chrX  47786401 0    \n",
       "3 chrX  47786402 0    \n",
       "4 chrX  47786403 0    \n",
       "5 chrX  47786404 0    \n",
       "6 chrX  47786405 0    "
      ]
     },
     "metadata": {},
     "output_type": "display_data"
    }
   ],
   "source": [
    "fdiry = file.path(FD_RES, \"KS91_K562_ASTARRseq\", \"coverage\")\n",
    "fname = \"KS91_K562_hg38_ASTARRseq_Output_rep1.GATA1.unstranded.perbase.tsv.gz\"\n",
    "fpath = file.path(fdiry, fname)\n",
    "\n",
    "cnames = c(\"Chrom\", \"Loc\", \"Depth\")\n",
    "dat1 = read_tsv(fpath, col_names = cnames)\n",
    "head(dat1)"
   ]
  },
  {
   "cell_type": "code",
   "execution_count": 9,
   "id": "9efdb86e",
   "metadata": {},
   "outputs": [
    {
     "name": "stderr",
     "output_type": "stream",
     "text": [
      "\u001b[1mRows: \u001b[22m\u001b[34m2000351\u001b[39m \u001b[1mColumns: \u001b[22m\u001b[34m4\u001b[39m\n",
      "\u001b[36m──\u001b[39m \u001b[1mColumn specification\u001b[22m \u001b[36m─────────────────────────────────────────────────────────────────────────────────────────────────────\u001b[39m\n",
      "\u001b[1mDelimiter:\u001b[22m \"\\t\"\n",
      "\u001b[31mchr\u001b[39m (2): Chrom, Depth\n",
      "\u001b[32mdbl\u001b[39m (2): Start, End\n",
      "\n",
      "\u001b[36mℹ\u001b[39m Use `spec()` to retrieve the full column specification for this data.\n",
      "\u001b[36mℹ\u001b[39m Specify the column types or set `show_col_types = FALSE` to quiet this message.\n",
      "Warning message in mask$eval_all_mutate(quo):\n",
      "“NAs introduced by coercion”\n"
     ]
    },
    {
     "data": {
      "text/html": [
       "<table class=\"dataframe\">\n",
       "<caption>A tibble: 6 × 4</caption>\n",
       "<thead>\n",
       "\t<tr><th scope=col>Chrom</th><th scope=col>Start</th><th scope=col>End</th><th scope=col>Depth</th></tr>\n",
       "\t<tr><th scope=col>&lt;chr&gt;</th><th scope=col>&lt;dbl&gt;</th><th scope=col>&lt;dbl&gt;</th><th scope=col>&lt;dbl&gt;</th></tr>\n",
       "</thead>\n",
       "<tbody>\n",
       "\t<tr><td>chrX</td><td>47786400</td><td>47786401</td><td>0</td></tr>\n",
       "\t<tr><td>chrX</td><td>47786401</td><td>47786402</td><td>0</td></tr>\n",
       "\t<tr><td>chrX</td><td>47786402</td><td>47786403</td><td>0</td></tr>\n",
       "\t<tr><td>chrX</td><td>47786403</td><td>47786404</td><td>0</td></tr>\n",
       "\t<tr><td>chrX</td><td>47786404</td><td>47786405</td><td>0</td></tr>\n",
       "\t<tr><td>chrX</td><td>47786405</td><td>47786406</td><td>0</td></tr>\n",
       "</tbody>\n",
       "</table>\n"
      ],
      "text/latex": [
       "A tibble: 6 × 4\n",
       "\\begin{tabular}{llll}\n",
       " Chrom & Start & End & Depth\\\\\n",
       " <chr> & <dbl> & <dbl> & <dbl>\\\\\n",
       "\\hline\n",
       "\t chrX & 47786400 & 47786401 & 0\\\\\n",
       "\t chrX & 47786401 & 47786402 & 0\\\\\n",
       "\t chrX & 47786402 & 47786403 & 0\\\\\n",
       "\t chrX & 47786403 & 47786404 & 0\\\\\n",
       "\t chrX & 47786404 & 47786405 & 0\\\\\n",
       "\t chrX & 47786405 & 47786406 & 0\\\\\n",
       "\\end{tabular}\n"
      ],
      "text/markdown": [
       "\n",
       "A tibble: 6 × 4\n",
       "\n",
       "| Chrom &lt;chr&gt; | Start &lt;dbl&gt; | End &lt;dbl&gt; | Depth &lt;dbl&gt; |\n",
       "|---|---|---|---|\n",
       "| chrX | 47786400 | 47786401 | 0 |\n",
       "| chrX | 47786401 | 47786402 | 0 |\n",
       "| chrX | 47786402 | 47786403 | 0 |\n",
       "| chrX | 47786403 | 47786404 | 0 |\n",
       "| chrX | 47786404 | 47786405 | 0 |\n",
       "| chrX | 47786405 | 47786406 | 0 |\n",
       "\n"
      ],
      "text/plain": [
       "  Chrom Start    End      Depth\n",
       "1 chrX  47786400 47786401 0    \n",
       "2 chrX  47786401 47786402 0    \n",
       "3 chrX  47786402 47786403 0    \n",
       "4 chrX  47786403 47786404 0    \n",
       "5 chrX  47786404 47786405 0    \n",
       "6 chrX  47786405 47786406 0    "
      ]
     },
     "metadata": {},
     "output_type": "display_data"
    }
   ],
   "source": [
    "fdiry = file.path(FD_RES, \"KS91_K562_ASTARRseq\", \"scratch\", \"coverage\")\n",
    "fname = \"C.bed\"\n",
    "fpath = file.path(fdiry, fname)\n",
    "\n",
    "cnames = c(\"Chrom\", \"Start\", \"End\", \"Depth\")\n",
    "dat2 = read_tsv(fpath, col_names = cnames)\n",
    "dat2 = dat2 %>% mutate(Depth = as.integer(Depth)) %>% mutate(Depth = coalesce(Depth, 0))\n",
    "head(dat2)"
   ]
  },
  {
   "cell_type": "code",
   "execution_count": 12,
   "id": "75d75237",
   "metadata": {},
   "outputs": [
    {
     "data": {
      "text/html": [
       "<table class=\"dataframe\">\n",
       "<caption>A tibble: 6 × 3</caption>\n",
       "<thead>\n",
       "\t<tr><th scope=col>Chrom</th><th scope=col>Loc</th><th scope=col>Depth</th></tr>\n",
       "\t<tr><th scope=col>&lt;chr&gt;</th><th scope=col>&lt;dbl&gt;</th><th scope=col>&lt;dbl&gt;</th></tr>\n",
       "</thead>\n",
       "<tbody>\n",
       "\t<tr><td>chrX</td><td>49786744</td><td>0</td></tr>\n",
       "\t<tr><td>chrX</td><td>49786745</td><td>0</td></tr>\n",
       "\t<tr><td>chrX</td><td>49786746</td><td>0</td></tr>\n",
       "\t<tr><td>chrX</td><td>49786747</td><td>0</td></tr>\n",
       "\t<tr><td>chrX</td><td>49786748</td><td>0</td></tr>\n",
       "\t<tr><td>chrX</td><td>49786749</td><td>0</td></tr>\n",
       "</tbody>\n",
       "</table>\n"
      ],
      "text/latex": [
       "A tibble: 6 × 3\n",
       "\\begin{tabular}{lll}\n",
       " Chrom & Loc & Depth\\\\\n",
       " <chr> & <dbl> & <dbl>\\\\\n",
       "\\hline\n",
       "\t chrX & 49786744 & 0\\\\\n",
       "\t chrX & 49786745 & 0\\\\\n",
       "\t chrX & 49786746 & 0\\\\\n",
       "\t chrX & 49786747 & 0\\\\\n",
       "\t chrX & 49786748 & 0\\\\\n",
       "\t chrX & 49786749 & 0\\\\\n",
       "\\end{tabular}\n"
      ],
      "text/markdown": [
       "\n",
       "A tibble: 6 × 3\n",
       "\n",
       "| Chrom &lt;chr&gt; | Loc &lt;dbl&gt; | Depth &lt;dbl&gt; |\n",
       "|---|---|---|\n",
       "| chrX | 49786744 | 0 |\n",
       "| chrX | 49786745 | 0 |\n",
       "| chrX | 49786746 | 0 |\n",
       "| chrX | 49786747 | 0 |\n",
       "| chrX | 49786748 | 0 |\n",
       "| chrX | 49786749 | 0 |\n",
       "\n"
      ],
      "text/plain": [
       "  Chrom Loc      Depth\n",
       "1 chrX  49786744 0    \n",
       "2 chrX  49786745 0    \n",
       "3 chrX  49786746 0    \n",
       "4 chrX  49786747 0    \n",
       "5 chrX  49786748 0    \n",
       "6 chrX  49786749 0    "
      ]
     },
     "metadata": {},
     "output_type": "display_data"
    }
   ],
   "source": [
    "tail(dat1)"
   ]
  },
  {
   "cell_type": "code",
   "execution_count": 13,
   "id": "5479aa18",
   "metadata": {},
   "outputs": [
    {
     "data": {
      "text/html": [
       "<table class=\"dataframe\">\n",
       "<caption>A tibble: 6 × 4</caption>\n",
       "<thead>\n",
       "\t<tr><th scope=col>Chrom</th><th scope=col>Start</th><th scope=col>End</th><th scope=col>Depth</th></tr>\n",
       "\t<tr><th scope=col>&lt;chr&gt;</th><th scope=col>&lt;dbl&gt;</th><th scope=col>&lt;dbl&gt;</th><th scope=col>&lt;dbl&gt;</th></tr>\n",
       "</thead>\n",
       "<tbody>\n",
       "\t<tr><td>chrX</td><td>49786745</td><td>49786746</td><td>0</td></tr>\n",
       "\t<tr><td>chrX</td><td>49786746</td><td>49786747</td><td>0</td></tr>\n",
       "\t<tr><td>chrX</td><td>49786747</td><td>49786748</td><td>0</td></tr>\n",
       "\t<tr><td>chrX</td><td>49786748</td><td>49786749</td><td>0</td></tr>\n",
       "\t<tr><td>chrX</td><td>49786749</td><td>49786750</td><td>0</td></tr>\n",
       "\t<tr><td>chrX</td><td>49786750</td><td>49786751</td><td>0</td></tr>\n",
       "</tbody>\n",
       "</table>\n"
      ],
      "text/latex": [
       "A tibble: 6 × 4\n",
       "\\begin{tabular}{llll}\n",
       " Chrom & Start & End & Depth\\\\\n",
       " <chr> & <dbl> & <dbl> & <dbl>\\\\\n",
       "\\hline\n",
       "\t chrX & 49786745 & 49786746 & 0\\\\\n",
       "\t chrX & 49786746 & 49786747 & 0\\\\\n",
       "\t chrX & 49786747 & 49786748 & 0\\\\\n",
       "\t chrX & 49786748 & 49786749 & 0\\\\\n",
       "\t chrX & 49786749 & 49786750 & 0\\\\\n",
       "\t chrX & 49786750 & 49786751 & 0\\\\\n",
       "\\end{tabular}\n"
      ],
      "text/markdown": [
       "\n",
       "A tibble: 6 × 4\n",
       "\n",
       "| Chrom &lt;chr&gt; | Start &lt;dbl&gt; | End &lt;dbl&gt; | Depth &lt;dbl&gt; |\n",
       "|---|---|---|---|\n",
       "| chrX | 49786745 | 49786746 | 0 |\n",
       "| chrX | 49786746 | 49786747 | 0 |\n",
       "| chrX | 49786747 | 49786748 | 0 |\n",
       "| chrX | 49786748 | 49786749 | 0 |\n",
       "| chrX | 49786749 | 49786750 | 0 |\n",
       "| chrX | 49786750 | 49786751 | 0 |\n",
       "\n"
      ],
      "text/plain": [
       "  Chrom Start    End      Depth\n",
       "1 chrX  49786745 49786746 0    \n",
       "2 chrX  49786746 49786747 0    \n",
       "3 chrX  49786747 49786748 0    \n",
       "4 chrX  49786748 49786749 0    \n",
       "5 chrX  49786749 49786750 0    \n",
       "6 chrX  49786750 49786751 0    "
      ]
     },
     "metadata": {},
     "output_type": "display_data"
    }
   ],
   "source": [
    "tail(dat2)"
   ]
  },
  {
   "cell_type": "code",
   "execution_count": 10,
   "id": "a78894f1",
   "metadata": {},
   "outputs": [
    {
     "name": "stdout",
     "output_type": "stream",
     "text": [
      "[1] 2000350\n",
      "[1]     0 11348\n"
     ]
    }
   ],
   "source": [
    "print(length(dat1$Depth))\n",
    "print(range(dat1$Depth))"
   ]
  },
  {
   "cell_type": "code",
   "execution_count": 11,
   "id": "08941d1f",
   "metadata": {},
   "outputs": [
    {
     "name": "stdout",
     "output_type": "stream",
     "text": [
      "[1] 2000351\n",
      "[1]     0 11348\n"
     ]
    }
   ],
   "source": [
    "print(length(dat2$Depth))\n",
    "print(range(dat2$Depth))"
   ]
  },
  {
   "cell_type": "code",
   "execution_count": 15,
   "id": "113f1763",
   "metadata": {},
   "outputs": [
    {
     "data": {
      "text/html": [
       "TRUE"
      ],
      "text/latex": [
       "TRUE"
      ],
      "text/markdown": [
       "TRUE"
      ],
      "text/plain": [
       "[1] TRUE"
      ]
     },
     "metadata": {},
     "output_type": "display_data"
    }
   ],
   "source": [
    "all(dat1$Depth[1:2000350] == dat2$Depth[1:2000350])"
   ]
  },
  {
   "cell_type": "code",
   "execution_count": 18,
   "id": "b73f5316",
   "metadata": {},
   "outputs": [],
   "source": [
    "start  = 48780000\n",
    "end    = 48826000"
   ]
  },
  {
   "cell_type": "code",
   "execution_count": 19,
   "id": "c88b7794",
   "metadata": {},
   "outputs": [
    {
     "data": {
      "image/png": "[encoded data removed]",
      "text/plain": [
       "plot without title"
      ]
     },
     "metadata": {
      "image/png": {
       "height": 180,
       "width": 900
      }
     },
     "output_type": "display_data"
    }
   ],
   "source": [
    "dat = dat1\n",
    "dat = dat %>% dplyr::filter(Loc >= start, Loc <=end)\n",
    "gpt = ggplot(dat, aes(x=Loc, y=Depth)) + geom_point(size=1) + theme_cowplot()\n",
    "\n",
    "options(repr.plot.height=3, repr.plot.width=15)\n",
    "print(gpt)"
   ]
  },
  {
   "cell_type": "code",
   "execution_count": 22,
   "id": "8a3ead4b",
   "metadata": {},
   "outputs": [
    {
     "data": {
      "image/png": "[encoded data removed]",
      "text/plain": [
       "plot without title"
      ]
     },
     "metadata": {
      "image/png": {
       "height": 180,
       "width": 900
      }
     },
     "output_type": "display_data"
    }
   ],
   "source": [
    "dat = dat2\n",
    "dat = dat %>% dplyr::filter(Start >= start, Start <=end)\n",
    "gpt = ggplot(dat, aes(x=Start, y=Depth)) + geom_point(size=1) + theme_cowplot()\n",
    "\n",
    "options(repr.plot.height=3, repr.plot.width=15)\n",
    "print(gpt)"
   ]
  },
  {
   "cell_type": "code",
   "execution_count": null,
   "id": "39859a2c",
   "metadata": {},
   "outputs": [],
   "source": []
  }
 ],
 "metadata": {
  "kernelspec": {
   "display_name": "R",
   "language": "R",
   "name": "ir"
  },
  "language_info": {
   "codemirror_mode": "r",
   "file_extension": ".r",
   "mimetype": "text/x-r-source",
   "name": "R",
   "pygments_lexer": "r",
   "version": "4.2.0"
  }
 },
 "nbformat": 4,
 "nbformat_minor": 5
}
