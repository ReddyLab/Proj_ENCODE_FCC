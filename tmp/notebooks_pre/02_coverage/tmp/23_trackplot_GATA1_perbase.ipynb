{
 "cells": [
  {
   "cell_type": "markdown",
   "id": "23f56c2f",
   "metadata": {},
   "source": [
    "**Set environment**"
   ]
  },
  {
   "cell_type": "code",
   "execution_count": 1,
   "id": "2568bf6a",
   "metadata": {},
   "outputs": [
    {
     "name": "stdout",
     "output_type": "stream",
     "text": [
      "You are in Singularity: singularity_proj_combeffect \n",
      "BASE DIRECTORY:     /mount/work \n",
      "PATH OF SOURCE:     /mount/work/source \n",
      "PATH OF EXECUTABLE: /mount/work/exe \n",
      "PATH OF ANNOTATION: /mount/work/annotation \n",
      "PATH OF PROJECT:    /mount/project \n",
      "PATH OF RESULTS:    /mount/work/out/proj_combeffect_encode_fcc \n"
     ]
    }
   ],
   "source": [
    "suppressMessages(source(\"../config_sing.R\"))\n",
    "show_env()"
   ]
  },
  {
   "cell_type": "markdown",
   "id": "3f4de1fb",
   "metadata": {},
   "source": [
    "## Import data"
   ]
  },
  {
   "cell_type": "code",
   "execution_count": 2,
   "id": "961529a0",
   "metadata": {},
   "outputs": [],
   "source": [
    "###\n",
    "fdiry = file.path(FD_RES, \"KS91_K562_ASTARRseq\", \"coverage\")\n",
    "fname = \"KS91_K562_hg38_ASTARRseq_Depth.GATA1.unstranded.perbase.tsv\"\n",
    "fpath = file.path(fdiry, fname)\n",
    "\n",
    "dat_astarr_gata1 = read_tsv(fpath, show_col_types = FALSE)\n",
    "head(dat_astarr_gata1)"
   ]
  },
  {
   "cell_type": "code",
   "execution_count": 3,
   "id": "ed8f3a91",
   "metadata": {},
   "outputs": [
    {
     "data": {
      "text/html": [
       "<table class=\"dataframe\">\n",
       "<caption>A tibble: 6 × 4</caption>\n",
       "<thead>\n",
       "\t<tr><th scope=col>Chrom</th><th scope=col>Loc</th><th scope=col>Sample</th><th scope=col>Value</th></tr>\n",
       "\t<tr><th scope=col>&lt;chr&gt;</th><th scope=col>&lt;dbl&gt;</th><th scope=col>&lt;chr&gt;</th><th scope=col>&lt;dbl&gt;</th></tr>\n",
       "</thead>\n",
       "<tbody>\n",
       "\t<tr><td>chrX</td><td>48780001</td><td>Rep1</td><td>-1.420414e-05</td></tr>\n",
       "\t<tr><td>chrX</td><td>48780002</td><td>Rep1</td><td>-1.420414e-05</td></tr>\n",
       "\t<tr><td>chrX</td><td>48780003</td><td>Rep1</td><td>-1.380209e-05</td></tr>\n",
       "\t<tr><td>chrX</td><td>48780004</td><td>Rep1</td><td>-1.380209e-05</td></tr>\n",
       "\t<tr><td>chrX</td><td>48780005</td><td>Rep1</td><td>-1.380209e-05</td></tr>\n",
       "\t<tr><td>chrX</td><td>48780006</td><td>Rep1</td><td>-1.380209e-05</td></tr>\n",
       "</tbody>\n",
       "</table>\n"
      ],
      "text/latex": [
       "A tibble: 6 × 4\n",
       "\\begin{tabular}{llll}\n",
       " Chrom & Loc & Sample & Value\\\\\n",
       " <chr> & <dbl> & <chr> & <dbl>\\\\\n",
       "\\hline\n",
       "\t chrX & 48780001 & Rep1 & -1.420414e-05\\\\\n",
       "\t chrX & 48780002 & Rep1 & -1.420414e-05\\\\\n",
       "\t chrX & 48780003 & Rep1 & -1.380209e-05\\\\\n",
       "\t chrX & 48780004 & Rep1 & -1.380209e-05\\\\\n",
       "\t chrX & 48780005 & Rep1 & -1.380209e-05\\\\\n",
       "\t chrX & 48780006 & Rep1 & -1.380209e-05\\\\\n",
       "\\end{tabular}\n"
      ],
      "text/markdown": [
       "\n",
       "A tibble: 6 × 4\n",
       "\n",
       "| Chrom &lt;chr&gt; | Loc &lt;dbl&gt; | Sample &lt;chr&gt; | Value &lt;dbl&gt; |\n",
       "|---|---|---|---|\n",
       "| chrX | 48780001 | Rep1 | -1.420414e-05 |\n",
       "| chrX | 48780002 | Rep1 | -1.420414e-05 |\n",
       "| chrX | 48780003 | Rep1 | -1.380209e-05 |\n",
       "| chrX | 48780004 | Rep1 | -1.380209e-05 |\n",
       "| chrX | 48780005 | Rep1 | -1.380209e-05 |\n",
       "| chrX | 48780006 | Rep1 | -1.380209e-05 |\n",
       "\n"
      ],
      "text/plain": [
       "  Chrom Loc      Sample Value        \n",
       "1 chrX  48780001 Rep1   -1.420414e-05\n",
       "2 chrX  48780002 Rep1   -1.420414e-05\n",
       "3 chrX  48780003 Rep1   -1.380209e-05\n",
       "4 chrX  48780004 Rep1   -1.380209e-05\n",
       "5 chrX  48780005 Rep1   -1.380209e-05\n",
       "6 chrX  48780006 Rep1   -1.380209e-05"
      ]
     },
     "metadata": {},
     "output_type": "display_data"
    }
   ],
   "source": [
    "start  = 48780000\n",
    "end    = 48826000\n",
    "\n",
    "dat = dat_astarr_gata1\n",
    "dat = dat %>% dplyr::filter(start < Loc, Loc < end)\n",
    "dat = dat %>% dplyr::filter(Replicate %in% c(\"rep1\", \"rep2\", \"rep3\", \"rep4\"))\n",
    "\n",
    "dat = dat %>% \n",
    "    dplyr::select(Chrom, Loc, Depth_Norm, Sample) %>% \n",
    "    spread(Sample, Depth_Norm) %>%\n",
    "    mutate(\n",
    "        Rep1 = log2((Output_rep1 + 10) / (Input_rep1 + 10)),\n",
    "        Rep2 = log2((Output_rep2 + 10) / (Input_rep2 + 10)),\n",
    "        Rep3 = log2((Output_rep3 + 10) / (Input_rep3 + 10)),\n",
    "        Rep4 = log2((Output_rep4 + 10) / (Input_rep4 + 10)))\n",
    "\n",
    "dat = dat %>% \n",
    "    dplyr::select(Chrom, Loc, Rep1, Rep2, Rep3, Rep4) %>%\n",
    "    gather(Sample, Value, -Chrom, -Loc)\n",
    "head(dat)"
   ]
  },
  {
   "cell_type": "code",
   "execution_count": 4,
   "id": "4ff322d1",
   "metadata": {},
   "outputs": [
    {
     "ename": "ERROR",
     "evalue": "Error in value[[3L]](cond): could not open file '/tmp/RtmpDmFJRs/file13a111fc15f2c.png'\n",
     "output_type": "error",
     "traceback": [
      "Error in value[[3L]](cond): could not open file '/tmp/RtmpDmFJRs/file13a111fc15f2c.png'\nTraceback:\n"
     ]
    },
    {
     "data": {
      "text/plain": [
       "plot without title"
      ]
     },
     "metadata": {
      "image/png": {
       "height": 300,
       "width": 1200
      }
     },
     "output_type": "display_data"
    }
   ],
   "source": [
    "gpt = ggplot(dat, aes(x = Loc, y = Value)) + \n",
    "   geom_hline(yintercept=0, color=\"grey10\") +\n",
    "   geom_line(size=1) + \n",
    "   theme_cowplot() +\n",
    "   facet_grid(Sample~.) +\n",
    "   labs(x = \"Location\", \n",
    "        y = \"log2(FC)\", \n",
    "        title = \"ATAC-STARR (bin: 1bp) chrX:48780000-48826000; FC = (Output+10)/(Input+10)\")\n",
    "\n",
    "options(repr.plot.height=5, repr.plot.width=20)\n",
    "print(gpt)"
   ]
  },
  {
   "cell_type": "code",
   "execution_count": null,
   "id": "6a37a23c",
   "metadata": {},
   "outputs": [],
   "source": [
    "gpt = ggplot(dat, aes(x = Loc, y = Value)) + \n",
    "   geom_hline(yintercept=0, color=\"grey10\") +\n",
    "   geom_line(size=1) + \n",
    "   theme_cowplot() +\n",
    "   facet_grid(Sample~.) +\n",
    "   xlim(48800000, 48803000) +\n",
    "   labs(x = \"Location\", \n",
    "        y = \"log2(FC)\", \n",
    "        title = \"ATAC-STARR (bin: 1bp) chrX:48800000-48803000; FC = (Output+10)/(Input+10)\")\n",
    "\n",
    "\n",
    "options(repr.plot.height=6, repr.plot.width=20)\n",
    "print(gpt)"
   ]
  },
  {
   "cell_type": "code",
   "execution_count": null,
   "id": "93bb506a",
   "metadata": {},
   "outputs": [],
   "source": []
  },
  {
   "cell_type": "code",
   "execution_count": null,
   "id": "35e446fc",
   "metadata": {},
   "outputs": [],
   "source": []
  },
  {
   "cell_type": "markdown",
   "id": "5ddaa8c7",
   "metadata": {},
   "source": [
    "## Import data"
   ]
  },
  {
   "cell_type": "code",
   "execution_count": 35,
   "id": "1cd2e603",
   "metadata": {},
   "outputs": [
    {
     "data": {
      "text/html": [
       "<table class=\"dataframe\">\n",
       "<caption>A tibble: 6 × 6</caption>\n",
       "<thead>\n",
       "\t<tr><th scope=col>Sample</th><th scope=col>Group</th><th scope=col>Replicate</th><th scope=col>Region</th><th scope=col>Dedup</th><th scope=col>Size</th></tr>\n",
       "\t<tr><th scope=col>&lt;chr&gt;</th><th scope=col>&lt;chr&gt;</th><th scope=col>&lt;chr&gt;</th><th scope=col>&lt;chr&gt;</th><th scope=col>&lt;lgl&gt;</th><th scope=col>&lt;dbl&gt;</th></tr>\n",
       "</thead>\n",
       "<tbody>\n",
       "\t<tr><td>Input_rep1</td><td>Input</td><td>rep1</td><td>GATA1</td><td>FALSE</td><td>577020</td></tr>\n",
       "\t<tr><td>Input_rep1</td><td>Input</td><td>rep1</td><td>GATA1</td><td> TRUE</td><td>358823</td></tr>\n",
       "\t<tr><td>Input_rep1</td><td>Input</td><td>rep1</td><td>MYC  </td><td>FALSE</td><td>363635</td></tr>\n",
       "\t<tr><td>Input_rep1</td><td>Input</td><td>rep1</td><td>MYC  </td><td> TRUE</td><td>255600</td></tr>\n",
       "\t<tr><td>Input_rep2</td><td>Input</td><td>rep2</td><td>GATA1</td><td>FALSE</td><td>835445</td></tr>\n",
       "\t<tr><td>Input_rep2</td><td>Input</td><td>rep2</td><td>GATA1</td><td> TRUE</td><td>461577</td></tr>\n",
       "</tbody>\n",
       "</table>\n"
      ],
      "text/latex": [
       "A tibble: 6 × 6\n",
       "\\begin{tabular}{llllll}\n",
       " Sample & Group & Replicate & Region & Dedup & Size\\\\\n",
       " <chr> & <chr> & <chr> & <chr> & <lgl> & <dbl>\\\\\n",
       "\\hline\n",
       "\t Input\\_rep1 & Input & rep1 & GATA1 & FALSE & 577020\\\\\n",
       "\t Input\\_rep1 & Input & rep1 & GATA1 &  TRUE & 358823\\\\\n",
       "\t Input\\_rep1 & Input & rep1 & MYC   & FALSE & 363635\\\\\n",
       "\t Input\\_rep1 & Input & rep1 & MYC   &  TRUE & 255600\\\\\n",
       "\t Input\\_rep2 & Input & rep2 & GATA1 & FALSE & 835445\\\\\n",
       "\t Input\\_rep2 & Input & rep2 & GATA1 &  TRUE & 461577\\\\\n",
       "\\end{tabular}\n"
      ],
      "text/markdown": [
       "\n",
       "A tibble: 6 × 6\n",
       "\n",
       "| Sample &lt;chr&gt; | Group &lt;chr&gt; | Replicate &lt;chr&gt; | Region &lt;chr&gt; | Dedup &lt;lgl&gt; | Size &lt;dbl&gt; |\n",
       "|---|---|---|---|---|---|\n",
       "| Input_rep1 | Input | rep1 | GATA1 | FALSE | 577020 |\n",
       "| Input_rep1 | Input | rep1 | GATA1 |  TRUE | 358823 |\n",
       "| Input_rep1 | Input | rep1 | MYC   | FALSE | 363635 |\n",
       "| Input_rep1 | Input | rep1 | MYC   |  TRUE | 255600 |\n",
       "| Input_rep2 | Input | rep2 | GATA1 | FALSE | 835445 |\n",
       "| Input_rep2 | Input | rep2 | GATA1 |  TRUE | 461577 |\n",
       "\n"
      ],
      "text/plain": [
       "  Sample     Group Replicate Region Dedup Size  \n",
       "1 Input_rep1 Input rep1      GATA1  FALSE 577020\n",
       "2 Input_rep1 Input rep1      GATA1   TRUE 358823\n",
       "3 Input_rep1 Input rep1      MYC    FALSE 363635\n",
       "4 Input_rep1 Input rep1      MYC     TRUE 255600\n",
       "5 Input_rep2 Input rep2      GATA1  FALSE 835445\n",
       "6 Input_rep2 Input rep2      GATA1   TRUE 461577"
      ]
     },
     "metadata": {},
     "output_type": "display_data"
    }
   ],
   "source": [
    "###\n",
    "fdiry = file.path(FD_RES, \"KS91_K562_ASTARRseq\", \"fragment\")\n",
    "fname = \"library_size.tsv\"\n",
    "fpath = file.path(fdiry, fname)\n",
    "\n",
    "dat = read_tsv(fpath, show_col_types = FALSE)\n",
    "dat_lib_dedup = dat %>% dplyr::filter(Dedup | Group==\"Output\")\n",
    "dat_lib       = dat %>% dplyr::filter(!Dedup)\n",
    "\n",
    "head(dat)"
   ]
  },
  {
   "cell_type": "markdown",
   "id": "ab8eae51",
   "metadata": {},
   "source": [
    "**Test**"
   ]
  },
  {
   "cell_type": "code",
   "execution_count": 21,
   "id": "f4f0b7ba",
   "metadata": {},
   "outputs": [
    {
     "name": "stdout",
     "output_type": "stream",
     "text": [
      "[1] \"Input_rep1\"\n",
      "++++++++++++++++++++++++++++++\n",
      "[1] \"/mount/work/out/proj_combeffect_encode_fcc/KS91_K562_ASTARRseq/coverage/KS91_K562_hg38_ASTARRseq_Input_rep1.GATA1.unstranded.dedups.perbase.tsv.gz\"\n",
      "[2] \"/mount/work/out/proj_combeffect_encode_fcc/KS91_K562_ASTARRseq/coverage/KS91_K562_hg38_ASTARRseq_Input_rep1.GATA1.unstranded.perbase.tsv.gz\"       \n",
      "++++++++++++++++++++++++++++++\n",
      "[1]  TRUE FALSE\n",
      "++++++++++++++++++++++++++++++\n",
      "[1] \"/mount/work/out/proj_combeffect_encode_fcc/KS91_K562_ASTARRseq/coverage/KS91_K562_hg38_ASTARRseq_Input_rep1.GATA1.unstranded.dedups.perbase.tsv.gz\"\n",
      "++++++++++++++++++++++++++++++\n",
      "[1] \"/mount/work/out/proj_combeffect_encode_fcc/KS91_K562_ASTARRseq/coverage/KS91_K562_hg38_ASTARRseq_Input_rep1.GATA1.unstranded.dedups.perbase.tsv.gz\"\n",
      "++++++++++++++++++++++++++++++\n",
      "[1] \"/mount/work/out/proj_combeffect_encode_fcc/KS91_K562_ASTARRseq/coverage/KS91_K562_hg38_ASTARRseq_Input_rep1.GATA1.unstranded.perbase.tsv.gz\"\n"
     ]
    }
   ],
   "source": [
    "### init: file directory\n",
    "fdiry = file.path(FD_RES, \"KS91_K562_ASTARRseq\", \"coverage\")\n",
    "\n",
    "### INPUT: set sample group and number of replicates\n",
    "REGION = \"GATA1\"\n",
    "GROUP  = \"Input\"\n",
    "REPLS  = paste0(\"rep\", 1:6)\n",
    "DEDUP  = TRUE\n",
    "\n",
    "### INPUT: import data\n",
    "repl = REPLS[1]\n",
    "sam   = paste(GROUP, repl, sep=\"_\")\n",
    "print(sam)\n",
    "cat(\"++++++++++++++++++++++++++++++\\n\")\n",
    "\n",
    "fglob  = paste0(\"*\", sam, \"*\", REGION, \"*\", \"perbase.tsv.gz\")\n",
    "fpaths = Sys.glob(file.path(fdiry, fglob))\n",
    "print(fpaths)\n",
    "cat(\"++++++++++++++++++++++++++++++\\n\")\n",
    "\n",
    "idx    = str_detect(fpaths, \"dedups\")\n",
    "print(idx)\n",
    "cat(\"++++++++++++++++++++++++++++++\\n\")\n",
    "if (DEDUP) {\n",
    "    fpath = fpaths[idx]\n",
    "} else {\n",
    "    fpath = fpaths[!idx]\n",
    "}\n",
    "print(fpath)\n",
    "cat(\"++++++++++++++++++++++++++++++\\n\")\n",
    "print(fpaths[idx])\n",
    "cat(\"++++++++++++++++++++++++++++++\\n\")\n",
    "print(fpaths[!idx])"
   ]
  },
  {
   "cell_type": "code",
   "execution_count": 50,
   "id": "3e0c85a1",
   "metadata": {},
   "outputs": [
    {
     "name": "stdout",
     "output_type": "stream",
     "text": [
      "[1] \"Input_rep1\"\n",
      "++++++++++++++++++++++++++++++\n",
      "[1] \"/mount/work/out/proj_combeffect_encode_fcc/KS91_K562_ASTARRseq/coverage/KS91_K562_hg38_ASTARRseq_Input_rep1.GATA1.unstranded.dedups.perbase.tsv.gz\"\n"
     ]
    }
   ],
   "source": [
    "### init: file directory\n",
    "fdiry = file.path(FD_RES, \"KS91_K562_ASTARRseq\", \"coverage\")\n",
    "\n",
    "### INPUT: set sample group and number of replicates\n",
    "REGION = \"GATA1\"\n",
    "GROUP  = \"Input\"\n",
    "REPLS  = paste0(\"rep\", 1:6)\n",
    "DEDUP  = \"dedups\"\n",
    "\n",
    "### INPUT: import data\n",
    "repl = REPLS[1]\n",
    "sam   = paste(GROUP, repl, sep=\"_\")\n",
    "print(sam)\n",
    "cat(\"++++++++++++++++++++++++++++++\\n\")\n",
    "\n",
    "fglob = paste0(\"*\", sam, \"*\", REGION, \"*\", DEDUP, \"*\", \"perbase.tsv.gz\")\n",
    "fpath = Sys.glob(file.path(fdiry, fglob))\n",
    "print(fpath)"
   ]
  },
  {
   "cell_type": "markdown",
   "id": "4157989f",
   "metadata": {},
   "source": [
    "**Import**"
   ]
  },
  {
   "cell_type": "code",
   "execution_count": 29,
   "id": "3bfe76fc",
   "metadata": {},
   "outputs": [
    {
     "name": "stdout",
     "output_type": "stream",
     "text": [
      "Input (Deduplicated) \n",
      "[1] \"/mount/work/out/proj_combeffect_encode_fcc/KS91_K562_ASTARRseq/coverage/KS91_K562_hg38_ASTARRseq_Input_rep1.GATA1.unstranded.dedups.perbase.tsv.gz\"\n",
      "[1] \"/mount/work/out/proj_combeffect_encode_fcc/KS91_K562_ASTARRseq/coverage/KS91_K562_hg38_ASTARRseq_Input_rep2.GATA1.unstranded.dedups.perbase.tsv.gz\"\n",
      "[1] \"/mount/work/out/proj_combeffect_encode_fcc/KS91_K562_ASTARRseq/coverage/KS91_K562_hg38_ASTARRseq_Input_rep3.GATA1.unstranded.dedups.perbase.tsv.gz\"\n",
      "[1] \"/mount/work/out/proj_combeffect_encode_fcc/KS91_K562_ASTARRseq/coverage/KS91_K562_hg38_ASTARRseq_Input_rep4.GATA1.unstranded.dedups.perbase.tsv.gz\"\n",
      "[1] \"/mount/work/out/proj_combeffect_encode_fcc/KS91_K562_ASTARRseq/coverage/KS91_K562_hg38_ASTARRseq_Input_rep5.GATA1.unstranded.dedups.perbase.tsv.gz\"\n",
      "[1] \"/mount/work/out/proj_combeffect_encode_fcc/KS91_K562_ASTARRseq/coverage/KS91_K562_hg38_ASTARRseq_Input_rep6.GATA1.unstranded.dedups.perbase.tsv.gz\"\n",
      "\n",
      " Input (No Deduplicated) \n",
      "[1] \"/mount/work/out/proj_combeffect_encode_fcc/KS91_K562_ASTARRseq/coverage/KS91_K562_hg38_ASTARRseq_Input_rep1.GATA1.unstranded.perbase.tsv.gz\"\n",
      "[1] \"/mount/work/out/proj_combeffect_encode_fcc/KS91_K562_ASTARRseq/coverage/KS91_K562_hg38_ASTARRseq_Input_rep2.GATA1.unstranded.perbase.tsv.gz\"\n",
      "[1] \"/mount/work/out/proj_combeffect_encode_fcc/KS91_K562_ASTARRseq/coverage/KS91_K562_hg38_ASTARRseq_Input_rep3.GATA1.unstranded.perbase.tsv.gz\"\n",
      "[1] \"/mount/work/out/proj_combeffect_encode_fcc/KS91_K562_ASTARRseq/coverage/KS91_K562_hg38_ASTARRseq_Input_rep4.GATA1.unstranded.perbase.tsv.gz\"\n",
      "[1] \"/mount/work/out/proj_combeffect_encode_fcc/KS91_K562_ASTARRseq/coverage/KS91_K562_hg38_ASTARRseq_Input_rep5.GATA1.unstranded.perbase.tsv.gz\"\n",
      "[1] \"/mount/work/out/proj_combeffect_encode_fcc/KS91_K562_ASTARRseq/coverage/KS91_K562_hg38_ASTARRseq_Input_rep6.GATA1.unstranded.perbase.tsv.gz\"\n",
      "\n",
      " Output \n",
      "[1] \"/mount/work/out/proj_combeffect_encode_fcc/KS91_K562_ASTARRseq/coverage/KS91_K562_hg38_ASTARRseq_Output_rep1.GATA1.unstranded.perbase.tsv.gz\"\n",
      "[1] \"/mount/work/out/proj_combeffect_encode_fcc/KS91_K562_ASTARRseq/coverage/KS91_K562_hg38_ASTARRseq_Output_rep2.GATA1.unstranded.perbase.tsv.gz\"\n",
      "[1] \"/mount/work/out/proj_combeffect_encode_fcc/KS91_K562_ASTARRseq/coverage/KS91_K562_hg38_ASTARRseq_Output_rep3.GATA1.unstranded.perbase.tsv.gz\"\n",
      "[1] \"/mount/work/out/proj_combeffect_encode_fcc/KS91_K562_ASTARRseq/coverage/KS91_K562_hg38_ASTARRseq_Output_rep4.GATA1.unstranded.perbase.tsv.gz\"\n"
     ]
    }
   ],
   "source": [
    "### init: file directory\n",
    "fdiry = file.path(FD_RES, \"KS91_K562_ASTARRseq\", \"coverage\")\n",
    "\n",
    "### init:\n",
    "ctypes = c(col_character(), col_integer(), col_integer())\n",
    "cnames = c(\"Chrom\", \"Loc\", \"Depth\")\n",
    "\n",
    "### INPUT: set sample group and number of replicates\n",
    "REGION = \"GATA1\"\n",
    "GROUP  = \"Input\"\n",
    "REPLS  = paste0(\"rep\", 1:6)\n",
    "DEDUP  = TRUE\n",
    "\n",
    "### INPUT: import data\n",
    "cat(\"Input (Deduplicated)\", \"\\n\")\n",
    "lst_dat_inp_dedup = lapply(REPLS, function(repl){\n",
    "    ### get sample file path\n",
    "    sam    = paste(GROUP, repl, sep=\"_\")\n",
    "    fglob  = paste0(\"*\", sam, \"*\", REGION, \"*\", \"perbase.tsv.gz\")\n",
    "    fpaths = Sys.glob(file.path(fdiry, fglob))\n",
    "    \n",
    "    ###\n",
    "    idx = str_detect(fpaths, \"dedups\")\n",
    "    if (DEDUP) {\n",
    "        fpath = fpaths[idx]\n",
    "    } else {\n",
    "        fpath = fpaths[!idx]\n",
    "    }\n",
    "    \n",
    "    ### read data\n",
    "    print(fpath)\n",
    "    dat = read_tsv(\n",
    "        fpath, \n",
    "        col_types = ctypes, \n",
    "        col_names = cnames)\n",
    "    dat$Sample = sam\n",
    "    dat$Region = REGION\n",
    "    return(dat)\n",
    "})\n",
    "\n",
    "### INPUT: set sample group and number of replicates\n",
    "REGION = \"GATA1\"\n",
    "GROUP  = \"Input\"\n",
    "REPLS  = paste0(\"rep\", 1:6)\n",
    "DEDUP  = FALSE\n",
    "\n",
    "### INPUT: import data\n",
    "cat(\"\\n\", \"Input (No Deduplicated)\", \"\\n\")\n",
    "lst_dat_inp = lapply(REPLS, function(repl){\n",
    "    ### get sample file path\n",
    "    sam    = paste(GROUP, repl, sep=\"_\")\n",
    "    fglob  = paste0(\"*\", sam, \"*\", REGION, \"*\", \"perbase.tsv.gz\")\n",
    "    fpaths = Sys.glob(file.path(fdiry, fglob))\n",
    "    \n",
    "    ###\n",
    "    idx = str_detect(fpaths, \"dedups\")\n",
    "    if (DEDUP) {\n",
    "        fpath = fpaths[idx]\n",
    "    } else {\n",
    "        fpath = fpaths[!idx]\n",
    "    }\n",
    "    \n",
    "    ### read data\n",
    "    print(fpath)\n",
    "    dat = read_tsv(\n",
    "        fpath, \n",
    "        col_types = ctypes, \n",
    "        col_names = cnames)\n",
    "    dat$Sample = sam\n",
    "    dat$Region = REGION\n",
    "    return(dat)\n",
    "})\n",
    "\n",
    "### OUTPUT: set sample group and number of replicates\n",
    "REGION = \"GATA1\"\n",
    "GROUP   = \"Output\"\n",
    "REPLS = paste0(\"rep\", 1:4)\n",
    "\n",
    "### OUTPUT: import data\n",
    "cat(\"\\n\", \"Output\", \"\\n\")\n",
    "lst_dat_out = lapply(REPLS, function(repl){\n",
    "    ### get sample file path\n",
    "    sam   = paste(GROUP, repl, sep=\"_\")\n",
    "    fglob = paste0(\"*\", sam, \"*\", REGION, \"*\", \"perbase.tsv.gz\")\n",
    "    fpath = Sys.glob(file.path(fdiry, fglob))\n",
    "    \n",
    "    ### read data\n",
    "    print(fpath)\n",
    "    dat = read_tsv(\n",
    "        fpath, \n",
    "        col_types = ctypes, \n",
    "        col_names = cnames)\n",
    "    dat$Sample = sam\n",
    "    dat$Region = REGION\n",
    "    return(dat)\n",
    "})"
   ]
  },
  {
   "cell_type": "code",
   "execution_count": 30,
   "id": "312ebb4b",
   "metadata": {},
   "outputs": [
    {
     "data": {
      "text/html": [
       "<table class=\"dataframe\">\n",
       "<caption>A tibble: 6 × 5</caption>\n",
       "<thead>\n",
       "\t<tr><th scope=col>Chrom</th><th scope=col>Loc</th><th scope=col>Depth</th><th scope=col>Sample</th><th scope=col>Region</th></tr>\n",
       "\t<tr><th scope=col>&lt;chr&gt;</th><th scope=col>&lt;dbl&gt;</th><th scope=col>&lt;dbl&gt;</th><th scope=col>&lt;chr&gt;</th><th scope=col>&lt;chr&gt;</th></tr>\n",
       "</thead>\n",
       "<tbody>\n",
       "\t<tr><td>chrX</td><td>47786400</td><td>0</td><td>Input_rep1</td><td>GATA1</td></tr>\n",
       "\t<tr><td>chrX</td><td>47786401</td><td>0</td><td>Input_rep1</td><td>GATA1</td></tr>\n",
       "\t<tr><td>chrX</td><td>47786402</td><td>0</td><td>Input_rep1</td><td>GATA1</td></tr>\n",
       "\t<tr><td>chrX</td><td>47786403</td><td>0</td><td>Input_rep1</td><td>GATA1</td></tr>\n",
       "\t<tr><td>chrX</td><td>47786404</td><td>0</td><td>Input_rep1</td><td>GATA1</td></tr>\n",
       "\t<tr><td>chrX</td><td>47786405</td><td>0</td><td>Input_rep1</td><td>GATA1</td></tr>\n",
       "</tbody>\n",
       "</table>\n"
      ],
      "text/latex": [
       "A tibble: 6 × 5\n",
       "\\begin{tabular}{lllll}\n",
       " Chrom & Loc & Depth & Sample & Region\\\\\n",
       " <chr> & <dbl> & <dbl> & <chr> & <chr>\\\\\n",
       "\\hline\n",
       "\t chrX & 47786400 & 0 & Input\\_rep1 & GATA1\\\\\n",
       "\t chrX & 47786401 & 0 & Input\\_rep1 & GATA1\\\\\n",
       "\t chrX & 47786402 & 0 & Input\\_rep1 & GATA1\\\\\n",
       "\t chrX & 47786403 & 0 & Input\\_rep1 & GATA1\\\\\n",
       "\t chrX & 47786404 & 0 & Input\\_rep1 & GATA1\\\\\n",
       "\t chrX & 47786405 & 0 & Input\\_rep1 & GATA1\\\\\n",
       "\\end{tabular}\n"
      ],
      "text/markdown": [
       "\n",
       "A tibble: 6 × 5\n",
       "\n",
       "| Chrom &lt;chr&gt; | Loc &lt;dbl&gt; | Depth &lt;dbl&gt; | Sample &lt;chr&gt; | Region &lt;chr&gt; |\n",
       "|---|---|---|---|---|\n",
       "| chrX | 47786400 | 0 | Input_rep1 | GATA1 |\n",
       "| chrX | 47786401 | 0 | Input_rep1 | GATA1 |\n",
       "| chrX | 47786402 | 0 | Input_rep1 | GATA1 |\n",
       "| chrX | 47786403 | 0 | Input_rep1 | GATA1 |\n",
       "| chrX | 47786404 | 0 | Input_rep1 | GATA1 |\n",
       "| chrX | 47786405 | 0 | Input_rep1 | GATA1 |\n",
       "\n"
      ],
      "text/plain": [
       "  Chrom Loc      Depth Sample     Region\n",
       "1 chrX  47786400 0     Input_rep1 GATA1 \n",
       "2 chrX  47786401 0     Input_rep1 GATA1 \n",
       "3 chrX  47786402 0     Input_rep1 GATA1 \n",
       "4 chrX  47786403 0     Input_rep1 GATA1 \n",
       "5 chrX  47786404 0     Input_rep1 GATA1 \n",
       "6 chrX  47786405 0     Input_rep1 GATA1 "
      ]
     },
     "metadata": {},
     "output_type": "display_data"
    }
   ],
   "source": [
    "bind_rows(lst_dat_inp_dedup, lst_dat_out) %>% head"
   ]
  },
  {
   "cell_type": "code",
   "execution_count": 34,
   "id": "3eb14a30",
   "metadata": {},
   "outputs": [
    {
     "data": {
      "text/html": [
       "<table class=\"dataframe\">\n",
       "<caption>A spec_tbl_df: 20 × 6</caption>\n",
       "<thead>\n",
       "\t<tr><th scope=col>Sample</th><th scope=col>Group</th><th scope=col>Replicate</th><th scope=col>Region</th><th scope=col>Dedup</th><th scope=col>Size</th></tr>\n",
       "\t<tr><th scope=col>&lt;chr&gt;</th><th scope=col>&lt;chr&gt;</th><th scope=col>&lt;chr&gt;</th><th scope=col>&lt;chr&gt;</th><th scope=col>&lt;lgl&gt;</th><th scope=col>&lt;dbl&gt;</th></tr>\n",
       "</thead>\n",
       "<tbody>\n",
       "\t<tr><td>Input_rep1 </td><td>Input </td><td>rep1</td><td>GATA1</td><td> TRUE</td><td>358823</td></tr>\n",
       "\t<tr><td>Input_rep1 </td><td>Input </td><td>rep1</td><td>MYC  </td><td> TRUE</td><td>255600</td></tr>\n",
       "\t<tr><td>Input_rep2 </td><td>Input </td><td>rep2</td><td>GATA1</td><td> TRUE</td><td>461577</td></tr>\n",
       "\t<tr><td>Input_rep2 </td><td>Input </td><td>rep2</td><td>MYC  </td><td> TRUE</td><td>331419</td></tr>\n",
       "\t<tr><td>Input_rep3 </td><td>Input </td><td>rep3</td><td>GATA1</td><td> TRUE</td><td>496229</td></tr>\n",
       "\t<tr><td>Input_rep3 </td><td>Input </td><td>rep3</td><td>MYC  </td><td> TRUE</td><td>359228</td></tr>\n",
       "\t<tr><td>Input_rep4 </td><td>Input </td><td>rep4</td><td>GATA1</td><td> TRUE</td><td>464845</td></tr>\n",
       "\t<tr><td>Input_rep4 </td><td>Input </td><td>rep4</td><td>MYC  </td><td> TRUE</td><td>335999</td></tr>\n",
       "\t<tr><td>Input_rep5 </td><td>Input </td><td>rep5</td><td>GATA1</td><td> TRUE</td><td>454013</td></tr>\n",
       "\t<tr><td>Input_rep5 </td><td>Input </td><td>rep5</td><td>MYC  </td><td> TRUE</td><td>326461</td></tr>\n",
       "\t<tr><td>Input_rep6 </td><td>Input </td><td>rep6</td><td>GATA1</td><td> TRUE</td><td>409058</td></tr>\n",
       "\t<tr><td>Input_rep6 </td><td>Input </td><td>rep6</td><td>MYC  </td><td> TRUE</td><td>291105</td></tr>\n",
       "\t<tr><td>Output_rep1</td><td>Output</td><td>rep1</td><td>GATA1</td><td>FALSE</td><td>505724</td></tr>\n",
       "\t<tr><td>Output_rep1</td><td>Output</td><td>rep1</td><td>MYC  </td><td>FALSE</td><td>358433</td></tr>\n",
       "\t<tr><td>Output_rep2</td><td>Output</td><td>rep2</td><td>GATA1</td><td>FALSE</td><td>686033</td></tr>\n",
       "\t<tr><td>Output_rep2</td><td>Output</td><td>rep2</td><td>MYC  </td><td>FALSE</td><td>546578</td></tr>\n",
       "\t<tr><td>Output_rep3</td><td>Output</td><td>rep3</td><td>GATA1</td><td>FALSE</td><td>441621</td></tr>\n",
       "\t<tr><td>Output_rep3</td><td>Output</td><td>rep3</td><td>MYC  </td><td>FALSE</td><td>337296</td></tr>\n",
       "\t<tr><td>Output_rep4</td><td>Output</td><td>rep4</td><td>GATA1</td><td>FALSE</td><td>739000</td></tr>\n",
       "\t<tr><td>Output_rep4</td><td>Output</td><td>rep4</td><td>MYC  </td><td>FALSE</td><td>551602</td></tr>\n",
       "</tbody>\n",
       "</table>\n"
      ],
      "text/latex": [
       "A spec\\_tbl\\_df: 20 × 6\n",
       "\\begin{tabular}{llllll}\n",
       " Sample & Group & Replicate & Region & Dedup & Size\\\\\n",
       " <chr> & <chr> & <chr> & <chr> & <lgl> & <dbl>\\\\\n",
       "\\hline\n",
       "\t Input\\_rep1  & Input  & rep1 & GATA1 &  TRUE & 358823\\\\\n",
       "\t Input\\_rep1  & Input  & rep1 & MYC   &  TRUE & 255600\\\\\n",
       "\t Input\\_rep2  & Input  & rep2 & GATA1 &  TRUE & 461577\\\\\n",
       "\t Input\\_rep2  & Input  & rep2 & MYC   &  TRUE & 331419\\\\\n",
       "\t Input\\_rep3  & Input  & rep3 & GATA1 &  TRUE & 496229\\\\\n",
       "\t Input\\_rep3  & Input  & rep3 & MYC   &  TRUE & 359228\\\\\n",
       "\t Input\\_rep4  & Input  & rep4 & GATA1 &  TRUE & 464845\\\\\n",
       "\t Input\\_rep4  & Input  & rep4 & MYC   &  TRUE & 335999\\\\\n",
       "\t Input\\_rep5  & Input  & rep5 & GATA1 &  TRUE & 454013\\\\\n",
       "\t Input\\_rep5  & Input  & rep5 & MYC   &  TRUE & 326461\\\\\n",
       "\t Input\\_rep6  & Input  & rep6 & GATA1 &  TRUE & 409058\\\\\n",
       "\t Input\\_rep6  & Input  & rep6 & MYC   &  TRUE & 291105\\\\\n",
       "\t Output\\_rep1 & Output & rep1 & GATA1 & FALSE & 505724\\\\\n",
       "\t Output\\_rep1 & Output & rep1 & MYC   & FALSE & 358433\\\\\n",
       "\t Output\\_rep2 & Output & rep2 & GATA1 & FALSE & 686033\\\\\n",
       "\t Output\\_rep2 & Output & rep2 & MYC   & FALSE & 546578\\\\\n",
       "\t Output\\_rep3 & Output & rep3 & GATA1 & FALSE & 441621\\\\\n",
       "\t Output\\_rep3 & Output & rep3 & MYC   & FALSE & 337296\\\\\n",
       "\t Output\\_rep4 & Output & rep4 & GATA1 & FALSE & 739000\\\\\n",
       "\t Output\\_rep4 & Output & rep4 & MYC   & FALSE & 551602\\\\\n",
       "\\end{tabular}\n"
      ],
      "text/markdown": [
       "\n",
       "A spec_tbl_df: 20 × 6\n",
       "\n",
       "| Sample &lt;chr&gt; | Group &lt;chr&gt; | Replicate &lt;chr&gt; | Region &lt;chr&gt; | Dedup &lt;lgl&gt; | Size &lt;dbl&gt; |\n",
       "|---|---|---|---|---|---|\n",
       "| Input_rep1  | Input  | rep1 | GATA1 |  TRUE | 358823 |\n",
       "| Input_rep1  | Input  | rep1 | MYC   |  TRUE | 255600 |\n",
       "| Input_rep2  | Input  | rep2 | GATA1 |  TRUE | 461577 |\n",
       "| Input_rep2  | Input  | rep2 | MYC   |  TRUE | 331419 |\n",
       "| Input_rep3  | Input  | rep3 | GATA1 |  TRUE | 496229 |\n",
       "| Input_rep3  | Input  | rep3 | MYC   |  TRUE | 359228 |\n",
       "| Input_rep4  | Input  | rep4 | GATA1 |  TRUE | 464845 |\n",
       "| Input_rep4  | Input  | rep4 | MYC   |  TRUE | 335999 |\n",
       "| Input_rep5  | Input  | rep5 | GATA1 |  TRUE | 454013 |\n",
       "| Input_rep5  | Input  | rep5 | MYC   |  TRUE | 326461 |\n",
       "| Input_rep6  | Input  | rep6 | GATA1 |  TRUE | 409058 |\n",
       "| Input_rep6  | Input  | rep6 | MYC   |  TRUE | 291105 |\n",
       "| Output_rep1 | Output | rep1 | GATA1 | FALSE | 505724 |\n",
       "| Output_rep1 | Output | rep1 | MYC   | FALSE | 358433 |\n",
       "| Output_rep2 | Output | rep2 | GATA1 | FALSE | 686033 |\n",
       "| Output_rep2 | Output | rep2 | MYC   | FALSE | 546578 |\n",
       "| Output_rep3 | Output | rep3 | GATA1 | FALSE | 441621 |\n",
       "| Output_rep3 | Output | rep3 | MYC   | FALSE | 337296 |\n",
       "| Output_rep4 | Output | rep4 | GATA1 | FALSE | 739000 |\n",
       "| Output_rep4 | Output | rep4 | MYC   | FALSE | 551602 |\n",
       "\n"
      ],
      "text/plain": [
       "   Sample      Group  Replicate Region Dedup Size  \n",
       "1  Input_rep1  Input  rep1      GATA1   TRUE 358823\n",
       "2  Input_rep1  Input  rep1      MYC     TRUE 255600\n",
       "3  Input_rep2  Input  rep2      GATA1   TRUE 461577\n",
       "4  Input_rep2  Input  rep2      MYC     TRUE 331419\n",
       "5  Input_rep3  Input  rep3      GATA1   TRUE 496229\n",
       "6  Input_rep3  Input  rep3      MYC     TRUE 359228\n",
       "7  Input_rep4  Input  rep4      GATA1   TRUE 464845\n",
       "8  Input_rep4  Input  rep4      MYC     TRUE 335999\n",
       "9  Input_rep5  Input  rep5      GATA1   TRUE 454013\n",
       "10 Input_rep5  Input  rep5      MYC     TRUE 326461\n",
       "11 Input_rep6  Input  rep6      GATA1   TRUE 409058\n",
       "12 Input_rep6  Input  rep6      MYC     TRUE 291105\n",
       "13 Output_rep1 Output rep1      GATA1  FALSE 505724\n",
       "14 Output_rep1 Output rep1      MYC    FALSE 358433\n",
       "15 Output_rep2 Output rep2      GATA1  FALSE 686033\n",
       "16 Output_rep2 Output rep2      MYC    FALSE 546578\n",
       "17 Output_rep3 Output rep3      GATA1  FALSE 441621\n",
       "18 Output_rep3 Output rep3      MYC    FALSE 337296\n",
       "19 Output_rep4 Output rep4      GATA1  FALSE 739000\n",
       "20 Output_rep4 Output rep4      MYC    FALSE 551602"
      ]
     },
     "metadata": {},
     "output_type": "display_data"
    }
   ],
   "source": [
    "dat_lib %>% dplyr::filter(Dedup | Group==\"Output\")"
   ]
  },
  {
   "cell_type": "code",
   "execution_count": 33,
   "id": "f6031d57",
   "metadata": {},
   "outputs": [
    {
     "data": {
      "text/html": [
       "<table class=\"dataframe\">\n",
       "<caption>A spec_tbl_df: 20 × 6</caption>\n",
       "<thead>\n",
       "\t<tr><th scope=col>Sample</th><th scope=col>Group</th><th scope=col>Replicate</th><th scope=col>Region</th><th scope=col>Dedup</th><th scope=col>Size</th></tr>\n",
       "\t<tr><th scope=col>&lt;chr&gt;</th><th scope=col>&lt;chr&gt;</th><th scope=col>&lt;chr&gt;</th><th scope=col>&lt;chr&gt;</th><th scope=col>&lt;lgl&gt;</th><th scope=col>&lt;dbl&gt;</th></tr>\n",
       "</thead>\n",
       "<tbody>\n",
       "\t<tr><td>Input_rep1 </td><td>Input </td><td>rep1</td><td>GATA1</td><td>FALSE</td><td>577020</td></tr>\n",
       "\t<tr><td>Input_rep1 </td><td>Input </td><td>rep1</td><td>MYC  </td><td>FALSE</td><td>363635</td></tr>\n",
       "\t<tr><td>Input_rep2 </td><td>Input </td><td>rep2</td><td>GATA1</td><td>FALSE</td><td>835445</td></tr>\n",
       "\t<tr><td>Input_rep2 </td><td>Input </td><td>rep2</td><td>MYC  </td><td>FALSE</td><td>518727</td></tr>\n",
       "\t<tr><td>Input_rep3 </td><td>Input </td><td>rep3</td><td>GATA1</td><td>FALSE</td><td>930839</td></tr>\n",
       "\t<tr><td>Input_rep3 </td><td>Input </td><td>rep3</td><td>MYC  </td><td>FALSE</td><td>584462</td></tr>\n",
       "\t<tr><td>Input_rep4 </td><td>Input </td><td>rep4</td><td>GATA1</td><td>FALSE</td><td>839575</td></tr>\n",
       "\t<tr><td>Input_rep4 </td><td>Input </td><td>rep4</td><td>MYC  </td><td>FALSE</td><td>527997</td></tr>\n",
       "\t<tr><td>Input_rep5 </td><td>Input </td><td>rep5</td><td>GATA1</td><td>FALSE</td><td>806629</td></tr>\n",
       "\t<tr><td>Input_rep5 </td><td>Input </td><td>rep5</td><td>MYC  </td><td>FALSE</td><td>504471</td></tr>\n",
       "\t<tr><td>Input_rep6 </td><td>Input </td><td>rep6</td><td>GATA1</td><td>FALSE</td><td>687961</td></tr>\n",
       "\t<tr><td>Input_rep6 </td><td>Input </td><td>rep6</td><td>MYC  </td><td>FALSE</td><td>430204</td></tr>\n",
       "\t<tr><td>Output_rep1</td><td>Output</td><td>rep1</td><td>GATA1</td><td>FALSE</td><td>505724</td></tr>\n",
       "\t<tr><td>Output_rep1</td><td>Output</td><td>rep1</td><td>MYC  </td><td>FALSE</td><td>358433</td></tr>\n",
       "\t<tr><td>Output_rep2</td><td>Output</td><td>rep2</td><td>GATA1</td><td>FALSE</td><td>686033</td></tr>\n",
       "\t<tr><td>Output_rep2</td><td>Output</td><td>rep2</td><td>MYC  </td><td>FALSE</td><td>546578</td></tr>\n",
       "\t<tr><td>Output_rep3</td><td>Output</td><td>rep3</td><td>GATA1</td><td>FALSE</td><td>441621</td></tr>\n",
       "\t<tr><td>Output_rep3</td><td>Output</td><td>rep3</td><td>MYC  </td><td>FALSE</td><td>337296</td></tr>\n",
       "\t<tr><td>Output_rep4</td><td>Output</td><td>rep4</td><td>GATA1</td><td>FALSE</td><td>739000</td></tr>\n",
       "\t<tr><td>Output_rep4</td><td>Output</td><td>rep4</td><td>MYC  </td><td>FALSE</td><td>551602</td></tr>\n",
       "</tbody>\n",
       "</table>\n"
      ],
      "text/latex": [
       "A spec\\_tbl\\_df: 20 × 6\n",
       "\\begin{tabular}{llllll}\n",
       " Sample & Group & Replicate & Region & Dedup & Size\\\\\n",
       " <chr> & <chr> & <chr> & <chr> & <lgl> & <dbl>\\\\\n",
       "\\hline\n",
       "\t Input\\_rep1  & Input  & rep1 & GATA1 & FALSE & 577020\\\\\n",
       "\t Input\\_rep1  & Input  & rep1 & MYC   & FALSE & 363635\\\\\n",
       "\t Input\\_rep2  & Input  & rep2 & GATA1 & FALSE & 835445\\\\\n",
       "\t Input\\_rep2  & Input  & rep2 & MYC   & FALSE & 518727\\\\\n",
       "\t Input\\_rep3  & Input  & rep3 & GATA1 & FALSE & 930839\\\\\n",
       "\t Input\\_rep3  & Input  & rep3 & MYC   & FALSE & 584462\\\\\n",
       "\t Input\\_rep4  & Input  & rep4 & GATA1 & FALSE & 839575\\\\\n",
       "\t Input\\_rep4  & Input  & rep4 & MYC   & FALSE & 527997\\\\\n",
       "\t Input\\_rep5  & Input  & rep5 & GATA1 & FALSE & 806629\\\\\n",
       "\t Input\\_rep5  & Input  & rep5 & MYC   & FALSE & 504471\\\\\n",
       "\t Input\\_rep6  & Input  & rep6 & GATA1 & FALSE & 687961\\\\\n",
       "\t Input\\_rep6  & Input  & rep6 & MYC   & FALSE & 430204\\\\\n",
       "\t Output\\_rep1 & Output & rep1 & GATA1 & FALSE & 505724\\\\\n",
       "\t Output\\_rep1 & Output & rep1 & MYC   & FALSE & 358433\\\\\n",
       "\t Output\\_rep2 & Output & rep2 & GATA1 & FALSE & 686033\\\\\n",
       "\t Output\\_rep2 & Output & rep2 & MYC   & FALSE & 546578\\\\\n",
       "\t Output\\_rep3 & Output & rep3 & GATA1 & FALSE & 441621\\\\\n",
       "\t Output\\_rep3 & Output & rep3 & MYC   & FALSE & 337296\\\\\n",
       "\t Output\\_rep4 & Output & rep4 & GATA1 & FALSE & 739000\\\\\n",
       "\t Output\\_rep4 & Output & rep4 & MYC   & FALSE & 551602\\\\\n",
       "\\end{tabular}\n"
      ],
      "text/markdown": [
       "\n",
       "A spec_tbl_df: 20 × 6\n",
       "\n",
       "| Sample &lt;chr&gt; | Group &lt;chr&gt; | Replicate &lt;chr&gt; | Region &lt;chr&gt; | Dedup &lt;lgl&gt; | Size &lt;dbl&gt; |\n",
       "|---|---|---|---|---|---|\n",
       "| Input_rep1  | Input  | rep1 | GATA1 | FALSE | 577020 |\n",
       "| Input_rep1  | Input  | rep1 | MYC   | FALSE | 363635 |\n",
       "| Input_rep2  | Input  | rep2 | GATA1 | FALSE | 835445 |\n",
       "| Input_rep2  | Input  | rep2 | MYC   | FALSE | 518727 |\n",
       "| Input_rep3  | Input  | rep3 | GATA1 | FALSE | 930839 |\n",
       "| Input_rep3  | Input  | rep3 | MYC   | FALSE | 584462 |\n",
       "| Input_rep4  | Input  | rep4 | GATA1 | FALSE | 839575 |\n",
       "| Input_rep4  | Input  | rep4 | MYC   | FALSE | 527997 |\n",
       "| Input_rep5  | Input  | rep5 | GATA1 | FALSE | 806629 |\n",
       "| Input_rep5  | Input  | rep5 | MYC   | FALSE | 504471 |\n",
       "| Input_rep6  | Input  | rep6 | GATA1 | FALSE | 687961 |\n",
       "| Input_rep6  | Input  | rep6 | MYC   | FALSE | 430204 |\n",
       "| Output_rep1 | Output | rep1 | GATA1 | FALSE | 505724 |\n",
       "| Output_rep1 | Output | rep1 | MYC   | FALSE | 358433 |\n",
       "| Output_rep2 | Output | rep2 | GATA1 | FALSE | 686033 |\n",
       "| Output_rep2 | Output | rep2 | MYC   | FALSE | 546578 |\n",
       "| Output_rep3 | Output | rep3 | GATA1 | FALSE | 441621 |\n",
       "| Output_rep3 | Output | rep3 | MYC   | FALSE | 337296 |\n",
       "| Output_rep4 | Output | rep4 | GATA1 | FALSE | 739000 |\n",
       "| Output_rep4 | Output | rep4 | MYC   | FALSE | 551602 |\n",
       "\n"
      ],
      "text/plain": [
       "   Sample      Group  Replicate Region Dedup Size  \n",
       "1  Input_rep1  Input  rep1      GATA1  FALSE 577020\n",
       "2  Input_rep1  Input  rep1      MYC    FALSE 363635\n",
       "3  Input_rep2  Input  rep2      GATA1  FALSE 835445\n",
       "4  Input_rep2  Input  rep2      MYC    FALSE 518727\n",
       "5  Input_rep3  Input  rep3      GATA1  FALSE 930839\n",
       "6  Input_rep3  Input  rep3      MYC    FALSE 584462\n",
       "7  Input_rep4  Input  rep4      GATA1  FALSE 839575\n",
       "8  Input_rep4  Input  rep4      MYC    FALSE 527997\n",
       "9  Input_rep5  Input  rep5      GATA1  FALSE 806629\n",
       "10 Input_rep5  Input  rep5      MYC    FALSE 504471\n",
       "11 Input_rep6  Input  rep6      GATA1  FALSE 687961\n",
       "12 Input_rep6  Input  rep6      MYC    FALSE 430204\n",
       "13 Output_rep1 Output rep1      GATA1  FALSE 505724\n",
       "14 Output_rep1 Output rep1      MYC    FALSE 358433\n",
       "15 Output_rep2 Output rep2      GATA1  FALSE 686033\n",
       "16 Output_rep2 Output rep2      MYC    FALSE 546578\n",
       "17 Output_rep3 Output rep3      GATA1  FALSE 441621\n",
       "18 Output_rep3 Output rep3      MYC    FALSE 337296\n",
       "19 Output_rep4 Output rep4      GATA1  FALSE 739000\n",
       "20 Output_rep4 Output rep4      MYC    FALSE 551602"
      ]
     },
     "metadata": {},
     "output_type": "display_data"
    }
   ],
   "source": [
    "dat_lib %>% dplyr::filter(!Dedup)"
   ]
  },
  {
   "cell_type": "code",
   "execution_count": 37,
   "id": "40d9897b",
   "metadata": {},
   "outputs": [
    {
     "name": "stdout",
     "output_type": "stream",
     "text": [
      "\u001b[90m# A tibble: 6 × 10\u001b[39m\n",
      "  Chrom      Loc Depth Sample     Region Group Replicate Dedup   Size Depth_Norm\n",
      "  \u001b[3m\u001b[90m<chr>\u001b[39m\u001b[23m    \u001b[3m\u001b[90m<dbl>\u001b[39m\u001b[23m \u001b[3m\u001b[90m<dbl>\u001b[39m\u001b[23m \u001b[3m\u001b[90m<chr>\u001b[39m\u001b[23m      \u001b[3m\u001b[90m<chr>\u001b[39m\u001b[23m  \u001b[3m\u001b[90m<chr>\u001b[39m\u001b[23m \u001b[3m\u001b[90m<chr>\u001b[39m\u001b[23m     \u001b[3m\u001b[90m<lgl>\u001b[39m\u001b[23m  \u001b[3m\u001b[90m<dbl>\u001b[39m\u001b[23m      \u001b[3m\u001b[90m<dbl>\u001b[39m\u001b[23m\n",
      "\u001b[90m1\u001b[39m chrX  47\u001b[4m7\u001b[24m\u001b[4m8\u001b[24m\u001b[4m6\u001b[24m400     0 Input_rep1 GATA1  Input rep1      TRUE  \u001b[4m3\u001b[24m\u001b[4m5\u001b[24m\u001b[4m8\u001b[24m823          0\n",
      "\u001b[90m2\u001b[39m chrX  47\u001b[4m7\u001b[24m\u001b[4m8\u001b[24m\u001b[4m6\u001b[24m401     0 Input_rep1 GATA1  Input rep1      TRUE  \u001b[4m3\u001b[24m\u001b[4m5\u001b[24m\u001b[4m8\u001b[24m823          0\n",
      "\u001b[90m3\u001b[39m chrX  47\u001b[4m7\u001b[24m\u001b[4m8\u001b[24m\u001b[4m6\u001b[24m402     0 Input_rep1 GATA1  Input rep1      TRUE  \u001b[4m3\u001b[24m\u001b[4m5\u001b[24m\u001b[4m8\u001b[24m823          0\n",
      "\u001b[90m4\u001b[39m chrX  47\u001b[4m7\u001b[24m\u001b[4m8\u001b[24m\u001b[4m6\u001b[24m403     0 Input_rep1 GATA1  Input rep1      TRUE  \u001b[4m3\u001b[24m\u001b[4m5\u001b[24m\u001b[4m8\u001b[24m823          0\n",
      "\u001b[90m5\u001b[39m chrX  47\u001b[4m7\u001b[24m\u001b[4m8\u001b[24m\u001b[4m6\u001b[24m404     0 Input_rep1 GATA1  Input rep1      TRUE  \u001b[4m3\u001b[24m\u001b[4m5\u001b[24m\u001b[4m8\u001b[24m823          0\n",
      "\u001b[90m6\u001b[39m chrX  47\u001b[4m7\u001b[24m\u001b[4m8\u001b[24m\u001b[4m6\u001b[24m405     0 Input_rep1 GATA1  Input rep1      TRUE  \u001b[4m3\u001b[24m\u001b[4m5\u001b[24m\u001b[4m8\u001b[24m823          0\n"
     ]
    }
   ],
   "source": [
    "### summarize\n",
    "dat_astarr_dedup = bind_rows(lst_dat_inp_dedup, lst_dat_out) %>% \n",
    "    left_join(dat_lib_dedup, by=c(\"Sample\", \"Region\")) %>%\n",
    "    mutate(Depth_Norm = Depth / Size)\n",
    "\n",
    "print(head(dat_astarr_dedup))"
   ]
  },
  {
   "cell_type": "code",
   "execution_count": 39,
   "id": "7d12641e",
   "metadata": {},
   "outputs": [
    {
     "name": "stdout",
     "output_type": "stream",
     "text": [
      "\u001b[90m# A tibble: 6 × 10\u001b[39m\n",
      "  Chrom      Loc Depth Sample     Region Group Replicate Dedup   Size Depth_Norm\n",
      "  \u001b[3m\u001b[90m<chr>\u001b[39m\u001b[23m    \u001b[3m\u001b[90m<dbl>\u001b[39m\u001b[23m \u001b[3m\u001b[90m<dbl>\u001b[39m\u001b[23m \u001b[3m\u001b[90m<chr>\u001b[39m\u001b[23m      \u001b[3m\u001b[90m<chr>\u001b[39m\u001b[23m  \u001b[3m\u001b[90m<chr>\u001b[39m\u001b[23m \u001b[3m\u001b[90m<chr>\u001b[39m\u001b[23m     \u001b[3m\u001b[90m<lgl>\u001b[39m\u001b[23m  \u001b[3m\u001b[90m<dbl>\u001b[39m\u001b[23m      \u001b[3m\u001b[90m<dbl>\u001b[39m\u001b[23m\n",
      "\u001b[90m1\u001b[39m chrX  47\u001b[4m7\u001b[24m\u001b[4m8\u001b[24m\u001b[4m6\u001b[24m400     0 Input_rep1 GATA1  Input rep1      FALSE \u001b[4m5\u001b[24m\u001b[4m7\u001b[24m\u001b[4m7\u001b[24m020          0\n",
      "\u001b[90m2\u001b[39m chrX  47\u001b[4m7\u001b[24m\u001b[4m8\u001b[24m\u001b[4m6\u001b[24m401     0 Input_rep1 GATA1  Input rep1      FALSE \u001b[4m5\u001b[24m\u001b[4m7\u001b[24m\u001b[4m7\u001b[24m020          0\n",
      "\u001b[90m3\u001b[39m chrX  47\u001b[4m7\u001b[24m\u001b[4m8\u001b[24m\u001b[4m6\u001b[24m402     0 Input_rep1 GATA1  Input rep1      FALSE \u001b[4m5\u001b[24m\u001b[4m7\u001b[24m\u001b[4m7\u001b[24m020          0\n",
      "\u001b[90m4\u001b[39m chrX  47\u001b[4m7\u001b[24m\u001b[4m8\u001b[24m\u001b[4m6\u001b[24m403     0 Input_rep1 GATA1  Input rep1      FALSE \u001b[4m5\u001b[24m\u001b[4m7\u001b[24m\u001b[4m7\u001b[24m020          0\n",
      "\u001b[90m5\u001b[39m chrX  47\u001b[4m7\u001b[24m\u001b[4m8\u001b[24m\u001b[4m6\u001b[24m404     0 Input_rep1 GATA1  Input rep1      FALSE \u001b[4m5\u001b[24m\u001b[4m7\u001b[24m\u001b[4m7\u001b[24m020          0\n",
      "\u001b[90m6\u001b[39m chrX  47\u001b[4m7\u001b[24m\u001b[4m8\u001b[24m\u001b[4m6\u001b[24m405     0 Input_rep1 GATA1  Input rep1      FALSE \u001b[4m5\u001b[24m\u001b[4m7\u001b[24m\u001b[4m7\u001b[24m020          0\n"
     ]
    }
   ],
   "source": [
    "### summarize\n",
    "dat_astarr = bind_rows(lst_dat_inp, lst_dat_out) %>% \n",
    "    left_join(dat_lib, by=c(\"Sample\", \"Region\")) %>%\n",
    "    mutate(Depth_Norm = Depth / Size)\n",
    "\n",
    "print(head(dat_astarr))"
   ]
  },
  {
   "cell_type": "markdown",
   "id": "639f159f",
   "metadata": {},
   "source": [
    "## Replicate Alex results"
   ]
  },
  {
   "cell_type": "code",
   "execution_count": 44,
   "id": "2e907df4",
   "metadata": {},
   "outputs": [
    {
     "data": {
      "text/html": [
       "<table class=\"dataframe\">\n",
       "<caption>A tibble: 6 × 4</caption>\n",
       "<thead>\n",
       "\t<tr><th scope=col>Chrom</th><th scope=col>Loc</th><th scope=col>Sample</th><th scope=col>Value</th></tr>\n",
       "\t<tr><th scope=col>&lt;chr&gt;</th><th scope=col>&lt;dbl&gt;</th><th scope=col>&lt;chr&gt;</th><th scope=col>&lt;dbl&gt;</th></tr>\n",
       "</thead>\n",
       "<tbody>\n",
       "\t<tr><td>chrX</td><td>48780001</td><td>Rep1</td><td>-1.420414e-05</td></tr>\n",
       "\t<tr><td>chrX</td><td>48780002</td><td>Rep1</td><td>-1.420414e-05</td></tr>\n",
       "\t<tr><td>chrX</td><td>48780003</td><td>Rep1</td><td>-1.380209e-05</td></tr>\n",
       "\t<tr><td>chrX</td><td>48780004</td><td>Rep1</td><td>-1.380209e-05</td></tr>\n",
       "\t<tr><td>chrX</td><td>48780005</td><td>Rep1</td><td>-1.380209e-05</td></tr>\n",
       "\t<tr><td>chrX</td><td>48780006</td><td>Rep1</td><td>-1.380209e-05</td></tr>\n",
       "</tbody>\n",
       "</table>\n"
      ],
      "text/latex": [
       "A tibble: 6 × 4\n",
       "\\begin{tabular}{llll}\n",
       " Chrom & Loc & Sample & Value\\\\\n",
       " <chr> & <dbl> & <chr> & <dbl>\\\\\n",
       "\\hline\n",
       "\t chrX & 48780001 & Rep1 & -1.420414e-05\\\\\n",
       "\t chrX & 48780002 & Rep1 & -1.420414e-05\\\\\n",
       "\t chrX & 48780003 & Rep1 & -1.380209e-05\\\\\n",
       "\t chrX & 48780004 & Rep1 & -1.380209e-05\\\\\n",
       "\t chrX & 48780005 & Rep1 & -1.380209e-05\\\\\n",
       "\t chrX & 48780006 & Rep1 & -1.380209e-05\\\\\n",
       "\\end{tabular}\n"
      ],
      "text/markdown": [
       "\n",
       "A tibble: 6 × 4\n",
       "\n",
       "| Chrom &lt;chr&gt; | Loc &lt;dbl&gt; | Sample &lt;chr&gt; | Value &lt;dbl&gt; |\n",
       "|---|---|---|---|\n",
       "| chrX | 48780001 | Rep1 | -1.420414e-05 |\n",
       "| chrX | 48780002 | Rep1 | -1.420414e-05 |\n",
       "| chrX | 48780003 | Rep1 | -1.380209e-05 |\n",
       "| chrX | 48780004 | Rep1 | -1.380209e-05 |\n",
       "| chrX | 48780005 | Rep1 | -1.380209e-05 |\n",
       "| chrX | 48780006 | Rep1 | -1.380209e-05 |\n",
       "\n"
      ],
      "text/plain": [
       "  Chrom Loc      Sample Value        \n",
       "1 chrX  48780001 Rep1   -1.420414e-05\n",
       "2 chrX  48780002 Rep1   -1.420414e-05\n",
       "3 chrX  48780003 Rep1   -1.380209e-05\n",
       "4 chrX  48780004 Rep1   -1.380209e-05\n",
       "5 chrX  48780005 Rep1   -1.380209e-05\n",
       "6 chrX  48780006 Rep1   -1.380209e-05"
      ]
     },
     "metadata": {},
     "output_type": "display_data"
    }
   ],
   "source": [
    "start  = 48780000\n",
    "end    = 48826000\n",
    "\n",
    "dat = dat_astarr_dedup\n",
    "dat = dat %>% dplyr::filter(start < Loc, Loc < end)\n",
    "dat = dat %>% dplyr::filter(Replicate %in% c(\"rep1\", \"rep2\", \"rep3\", \"rep4\"))\n",
    "\n",
    "dat = dat %>% \n",
    "    dplyr::select(Chrom, Loc, Depth_Norm, Sample) %>% \n",
    "    spread(Sample, Depth_Norm) %>%\n",
    "    mutate(\n",
    "        Rep1 = log2((Output_rep1 + 10) / (Input_rep1 + 10)),\n",
    "        Rep2 = log2((Output_rep2 + 10) / (Input_rep2 + 10)),\n",
    "        Rep3 = log2((Output_rep3 + 10) / (Input_rep3 + 10)),\n",
    "        Rep4 = log2((Output_rep4 + 10) / (Input_rep4 + 10)))\n",
    "\n",
    "dat = dat %>% \n",
    "    dplyr::select(Chrom, Loc, Rep1, Rep2, Rep3, Rep4) %>%\n",
    "    gather(Sample, Value, -Chrom, -Loc)\n",
    "head(dat)"
   ]
  },
  {
   "cell_type": "markdown",
   "id": "1eeacbcd",
   "metadata": {},
   "source": [
    "chrX:48780000-48826000"
   ]
  },
  {
   "cell_type": "code",
   "execution_count": 45,
   "id": "8d17cafe",
   "metadata": {},
   "outputs": [
    {
     "data": {
      "image/png": "[encoded data removed]",
      "text/plain": [
       "plot without title"
      ]
     },
     "metadata": {
      "image/png": {
       "height": 300,
       "width": 1200
      }
     },
     "output_type": "display_data"
    }
   ],
   "source": [
    "gpt = ggplot(tmp, aes(x = Loc, y = Value)) + \n",
    "   geom_hline(yintercept=0, color=\"grey10\") +\n",
    "   geom_line(size=1) + \n",
    "   theme_cowplot() +\n",
    "   facet_grid(Sample~.) +\n",
    "   labs(x = \"Location\", \n",
    "        y = \"log2(FC)\", \n",
    "        title = \"ATAC-STARR (bin: 1bp) chrX:48780000-48826000; FC = (Output+10)/(Input+10)\")\n",
    "\n",
    "options(repr.plot.height=5, repr.plot.width=20)\n",
    "print(gpt)"
   ]
  },
  {
   "cell_type": "markdown",
   "id": "2e04e7f4",
   "metadata": {},
   "source": [
    "chrX:48800000-48805000"
   ]
  },
  {
   "cell_type": "code",
   "execution_count": 46,
   "id": "2e2b9788",
   "metadata": {},
   "outputs": [
    {
     "name": "stderr",
     "output_type": "stream",
     "text": [
      "Warning message:\n",
      "“Removed 42998 row(s) containing missing values (geom_path).”\n"
     ]
    },
    {
     "data": {
      "image/png": "[encoded data removed]",
      "text/plain": [
       "plot without title"
      ]
     },
     "metadata": {
      "image/png": {
       "height": 360,
       "width": 1200
      }
     },
     "output_type": "display_data"
    }
   ],
   "source": [
    "gpt = ggplot(tmp, aes(x = Loc, y = Value)) + \n",
    "   geom_hline(yintercept=0, color=\"grey10\") +\n",
    "   geom_line(size=1) + \n",
    "   theme_cowplot() +\n",
    "   facet_grid(Sample~.) +\n",
    "   xlim(48800000, 48803000) +\n",
    "   labs(x = \"Location\", \n",
    "        y = \"log2(FC)\", \n",
    "        title = \"ATAC-STARR (bin: 1bp) chrX:48800000-48803000; FC = (Output+10)/(Input+10)\")\n",
    "\n",
    "\n",
    "options(repr.plot.height=6, repr.plot.width=20)\n",
    "print(gpt)"
   ]
  },
  {
   "cell_type": "code",
   "execution_count": 47,
   "id": "2edc0d74",
   "metadata": {},
   "outputs": [
    {
     "data": {
      "text/html": [
       "<table class=\"dataframe\">\n",
       "<caption>A tibble: 6 × 4</caption>\n",
       "<thead>\n",
       "\t<tr><th scope=col>Chrom</th><th scope=col>Loc</th><th scope=col>Sample</th><th scope=col>Value</th></tr>\n",
       "\t<tr><th scope=col>&lt;chr&gt;</th><th scope=col>&lt;dbl&gt;</th><th scope=col>&lt;chr&gt;</th><th scope=col>&lt;dbl&gt;</th></tr>\n",
       "</thead>\n",
       "<tbody>\n",
       "\t<tr><td>chrX</td><td>48780001</td><td>Rep1</td><td>-8.376217e-06</td></tr>\n",
       "\t<tr><td>chrX</td><td>48780002</td><td>Rep1</td><td>-8.376217e-06</td></tr>\n",
       "\t<tr><td>chrX</td><td>48780003</td><td>Rep1</td><td>-8.126195e-06</td></tr>\n",
       "\t<tr><td>chrX</td><td>48780004</td><td>Rep1</td><td>-8.126195e-06</td></tr>\n",
       "\t<tr><td>chrX</td><td>48780005</td><td>Rep1</td><td>-8.126195e-06</td></tr>\n",
       "\t<tr><td>chrX</td><td>48780006</td><td>Rep1</td><td>-8.126195e-06</td></tr>\n",
       "</tbody>\n",
       "</table>\n"
      ],
      "text/latex": [
       "A tibble: 6 × 4\n",
       "\\begin{tabular}{llll}\n",
       " Chrom & Loc & Sample & Value\\\\\n",
       " <chr> & <dbl> & <chr> & <dbl>\\\\\n",
       "\\hline\n",
       "\t chrX & 48780001 & Rep1 & -8.376217e-06\\\\\n",
       "\t chrX & 48780002 & Rep1 & -8.376217e-06\\\\\n",
       "\t chrX & 48780003 & Rep1 & -8.126195e-06\\\\\n",
       "\t chrX & 48780004 & Rep1 & -8.126195e-06\\\\\n",
       "\t chrX & 48780005 & Rep1 & -8.126195e-06\\\\\n",
       "\t chrX & 48780006 & Rep1 & -8.126195e-06\\\\\n",
       "\\end{tabular}\n"
      ],
      "text/markdown": [
       "\n",
       "A tibble: 6 × 4\n",
       "\n",
       "| Chrom &lt;chr&gt; | Loc &lt;dbl&gt; | Sample &lt;chr&gt; | Value &lt;dbl&gt; |\n",
       "|---|---|---|---|\n",
       "| chrX | 48780001 | Rep1 | -8.376217e-06 |\n",
       "| chrX | 48780002 | Rep1 | -8.376217e-06 |\n",
       "| chrX | 48780003 | Rep1 | -8.126195e-06 |\n",
       "| chrX | 48780004 | Rep1 | -8.126195e-06 |\n",
       "| chrX | 48780005 | Rep1 | -8.126195e-06 |\n",
       "| chrX | 48780006 | Rep1 | -8.126195e-06 |\n",
       "\n"
      ],
      "text/plain": [
       "  Chrom Loc      Sample Value        \n",
       "1 chrX  48780001 Rep1   -8.376217e-06\n",
       "2 chrX  48780002 Rep1   -8.376217e-06\n",
       "3 chrX  48780003 Rep1   -8.126195e-06\n",
       "4 chrX  48780004 Rep1   -8.126195e-06\n",
       "5 chrX  48780005 Rep1   -8.126195e-06\n",
       "6 chrX  48780006 Rep1   -8.126195e-06"
      ]
     },
     "metadata": {},
     "output_type": "display_data"
    }
   ],
   "source": [
    "start  = 48780000\n",
    "end    = 48826000\n",
    "\n",
    "dat = dat_astarr\n",
    "dat = dat %>% dplyr::filter(start < Loc, Loc < end)\n",
    "dat = dat %>% dplyr::filter(Replicate %in% c(\"rep1\", \"rep2\", \"rep3\", \"rep4\"))\n",
    "\n",
    "dat = dat %>% \n",
    "    dplyr::select(Chrom, Loc, Depth_Norm, Sample) %>% \n",
    "    spread(Sample, Depth_Norm) %>%\n",
    "    mutate(\n",
    "        Rep1 = log2((Output_rep1 + 10) / (Input_rep1 + 10)),\n",
    "        Rep2 = log2((Output_rep2 + 10) / (Input_rep2 + 10)),\n",
    "        Rep3 = log2((Output_rep3 + 10) / (Input_rep3 + 10)),\n",
    "        Rep4 = log2((Output_rep4 + 10) / (Input_rep4 + 10)))\n",
    "\n",
    "dat = dat %>% \n",
    "    dplyr::select(Chrom, Loc, Rep1, Rep2, Rep3, Rep4) %>%\n",
    "    gather(Sample, Value, -Chrom, -Loc)\n",
    "head(dat)"
   ]
  },
  {
   "cell_type": "code",
   "execution_count": 48,
   "id": "37f358db",
   "metadata": {},
   "outputs": [
    {
     "data": {
      "image/png": "[encoded data removed]",
      "text/plain": [
       "plot without title"
      ]
     },
     "metadata": {
      "image/png": {
       "height": 300,
       "width": 1200
      }
     },
     "output_type": "display_data"
    }
   ],
   "source": [
    "gpt = ggplot(tmp, aes(x = Loc, y = Value)) + \n",
    "   geom_hline(yintercept=0, color=\"grey10\") +\n",
    "   geom_line(size=1) + \n",
    "   theme_cowplot() +\n",
    "   facet_grid(Sample~.) +\n",
    "   labs(x = \"Location\", \n",
    "        y = \"log2(FC)\", \n",
    "        title = \"ATAC-STARR (bin: 1bp) chrX:48780000-48826000; FC = (Output+10)/(Input+10)\")\n",
    "\n",
    "options(repr.plot.height=5, repr.plot.width=20)\n",
    "print(gpt)"
   ]
  },
  {
   "cell_type": "code",
   "execution_count": 49,
   "id": "d7974e8a",
   "metadata": {},
   "outputs": [
    {
     "name": "stderr",
     "output_type": "stream",
     "text": [
      "Warning message:\n",
      "“Removed 42998 row(s) containing missing values (geom_path).”\n"
     ]
    },
    {
     "data": {
      "image/png": "[encoded data removed]",
      "text/plain": [
       "plot without title"
      ]
     },
     "metadata": {
      "image/png": {
       "height": 360,
       "width": 1200
      }
     },
     "output_type": "display_data"
    }
   ],
   "source": [
    "gpt = ggplot(tmp, aes(x = Loc, y = Value)) + \n",
    "   geom_hline(yintercept=0, color=\"grey10\") +\n",
    "   geom_line(size=1) + \n",
    "   theme_cowplot() +\n",
    "   facet_grid(Sample~.) +\n",
    "   xlim(48800000, 48803000) +\n",
    "   labs(x = \"Location\", \n",
    "        y = \"log2(FC)\", \n",
    "        title = \"ATAC-STARR (bin: 1bp) chrX:48800000-48803000; FC = (Output+10)/(Input+10)\")\n",
    "\n",
    "\n",
    "options(repr.plot.height=6, repr.plot.width=20)\n",
    "print(gpt)"
   ]
  },
  {
   "cell_type": "code",
   "execution_count": null,
   "id": "4ccab6a7",
   "metadata": {},
   "outputs": [],
   "source": []
  },
  {
   "cell_type": "code",
   "execution_count": null,
   "id": "cf206cff",
   "metadata": {},
   "outputs": [],
   "source": []
  },
  {
   "cell_type": "code",
   "execution_count": 4,
   "id": "1f3990b2",
   "metadata": {
    "tags": []
   },
   "outputs": [
    {
     "name": "stdout",
     "output_type": "stream",
     "text": [
      "\u001b[90m# A tibble: 6 × 8\u001b[39m\n",
      "  Chrom      Loc Depth Sample     Group Replicate   Size Depth_Norm\n",
      "  \u001b[3m\u001b[90m<chr>\u001b[39m\u001b[23m    \u001b[3m\u001b[90m<dbl>\u001b[39m\u001b[23m \u001b[3m\u001b[90m<dbl>\u001b[39m\u001b[23m \u001b[3m\u001b[90m<chr>\u001b[39m\u001b[23m      \u001b[3m\u001b[90m<chr>\u001b[39m\u001b[23m \u001b[3m\u001b[90m<chr>\u001b[39m\u001b[23m      \u001b[3m\u001b[90m<dbl>\u001b[39m\u001b[23m      \u001b[3m\u001b[90m<dbl>\u001b[39m\u001b[23m\n",
      "\u001b[90m1\u001b[39m chrX  47\u001b[4m7\u001b[24m\u001b[4m8\u001b[24m\u001b[4m6\u001b[24m400     0 Input_rep1 Input rep1      \u001b[4m3\u001b[24m\u001b[4m5\u001b[24m\u001b[4m8\u001b[24m823          0\n",
      "\u001b[90m2\u001b[39m chrX  47\u001b[4m7\u001b[24m\u001b[4m8\u001b[24m\u001b[4m6\u001b[24m401     0 Input_rep1 Input rep1      \u001b[4m3\u001b[24m\u001b[4m5\u001b[24m\u001b[4m8\u001b[24m823          0\n",
      "\u001b[90m3\u001b[39m chrX  47\u001b[4m7\u001b[24m\u001b[4m8\u001b[24m\u001b[4m6\u001b[24m402     0 Input_rep1 Input rep1      \u001b[4m3\u001b[24m\u001b[4m5\u001b[24m\u001b[4m8\u001b[24m823          0\n",
      "\u001b[90m4\u001b[39m chrX  47\u001b[4m7\u001b[24m\u001b[4m8\u001b[24m\u001b[4m6\u001b[24m403     0 Input_rep1 Input rep1      \u001b[4m3\u001b[24m\u001b[4m5\u001b[24m\u001b[4m8\u001b[24m823          0\n",
      "\u001b[90m5\u001b[39m chrX  47\u001b[4m7\u001b[24m\u001b[4m8\u001b[24m\u001b[4m6\u001b[24m404     0 Input_rep1 Input rep1      \u001b[4m3\u001b[24m\u001b[4m5\u001b[24m\u001b[4m8\u001b[24m823          0\n",
      "\u001b[90m6\u001b[39m chrX  47\u001b[4m7\u001b[24m\u001b[4m8\u001b[24m\u001b[4m6\u001b[24m405     0 Input_rep1 Input rep1      \u001b[4m3\u001b[24m\u001b[4m5\u001b[24m\u001b[4m8\u001b[24m823          0\n",
      "[1] 2000350       8\n"
     ]
    },
    {
     "data": {
      "text/html": [
       "<table class=\"dataframe\">\n",
       "<caption>A tibble: 6 × 8</caption>\n",
       "<thead>\n",
       "\t<tr><th scope=col>Loc</th><th scope=col>Input</th><th scope=col>Output</th><th scope=col>FC1</th><th scope=col>FC2</th><th scope=col>FC3</th><th scope=col>Log2fc2</th><th scope=col>Log2fc3</th></tr>\n",
       "\t<tr><th scope=col>&lt;dbl&gt;</th><th scope=col>&lt;dbl&gt;</th><th scope=col>&lt;dbl&gt;</th><th scope=col>&lt;dbl&gt;</th><th scope=col>&lt;dbl&gt;</th><th scope=col>&lt;dbl&gt;</th><th scope=col>&lt;dbl&gt;</th><th scope=col>&lt;dbl&gt;</th></tr>\n",
       "</thead>\n",
       "<tbody>\n",
       "\t<tr><td>47786400</td><td>0</td><td>0</td><td>0</td><td>1</td><td>1</td><td>0</td><td>0</td></tr>\n",
       "\t<tr><td>47786401</td><td>0</td><td>0</td><td>0</td><td>1</td><td>1</td><td>0</td><td>0</td></tr>\n",
       "\t<tr><td>47786402</td><td>0</td><td>0</td><td>0</td><td>1</td><td>1</td><td>0</td><td>0</td></tr>\n",
       "\t<tr><td>47786403</td><td>0</td><td>0</td><td>0</td><td>1</td><td>1</td><td>0</td><td>0</td></tr>\n",
       "\t<tr><td>47786404</td><td>0</td><td>0</td><td>0</td><td>1</td><td>1</td><td>0</td><td>0</td></tr>\n",
       "\t<tr><td>47786405</td><td>0</td><td>0</td><td>0</td><td>1</td><td>1</td><td>0</td><td>0</td></tr>\n",
       "</tbody>\n",
       "</table>\n"
      ],
      "text/latex": [
       "A tibble: 6 × 8\n",
       "\\begin{tabular}{llllllll}\n",
       " Loc & Input & Output & FC1 & FC2 & FC3 & Log2fc2 & Log2fc3\\\\\n",
       " <dbl> & <dbl> & <dbl> & <dbl> & <dbl> & <dbl> & <dbl> & <dbl>\\\\\n",
       "\\hline\n",
       "\t 47786400 & 0 & 0 & 0 & 1 & 1 & 0 & 0\\\\\n",
       "\t 47786401 & 0 & 0 & 0 & 1 & 1 & 0 & 0\\\\\n",
       "\t 47786402 & 0 & 0 & 0 & 1 & 1 & 0 & 0\\\\\n",
       "\t 47786403 & 0 & 0 & 0 & 1 & 1 & 0 & 0\\\\\n",
       "\t 47786404 & 0 & 0 & 0 & 1 & 1 & 0 & 0\\\\\n",
       "\t 47786405 & 0 & 0 & 0 & 1 & 1 & 0 & 0\\\\\n",
       "\\end{tabular}\n"
      ],
      "text/markdown": [
       "\n",
       "A tibble: 6 × 8\n",
       "\n",
       "| Loc &lt;dbl&gt; | Input &lt;dbl&gt; | Output &lt;dbl&gt; | FC1 &lt;dbl&gt; | FC2 &lt;dbl&gt; | FC3 &lt;dbl&gt; | Log2fc2 &lt;dbl&gt; | Log2fc3 &lt;dbl&gt; |\n",
       "|---|---|---|---|---|---|---|---|\n",
       "| 47786400 | 0 | 0 | 0 | 1 | 1 | 0 | 0 |\n",
       "| 47786401 | 0 | 0 | 0 | 1 | 1 | 0 | 0 |\n",
       "| 47786402 | 0 | 0 | 0 | 1 | 1 | 0 | 0 |\n",
       "| 47786403 | 0 | 0 | 0 | 1 | 1 | 0 | 0 |\n",
       "| 47786404 | 0 | 0 | 0 | 1 | 1 | 0 | 0 |\n",
       "| 47786405 | 0 | 0 | 0 | 1 | 1 | 0 | 0 |\n",
       "\n"
      ],
      "text/plain": [
       "  Loc      Input Output FC1 FC2 FC3 Log2fc2 Log2fc3\n",
       "1 47786400 0     0      0   1   1   0       0      \n",
       "2 47786401 0     0      0   1   1   0       0      \n",
       "3 47786402 0     0      0   1   1   0       0      \n",
       "4 47786403 0     0      0   1   1   0       0      \n",
       "5 47786404 0     0      0   1   1   0       0      \n",
       "6 47786405 0     0      0   1   1   0       0      "
      ]
     },
     "metadata": {},
     "output_type": "display_data"
    }
   ],
   "source": [
    "### summarize\n",
    "dat = bind_rows(lst_dat_inp, lst_dat_out) %>% \n",
    "    left_join(dat_lib, by=\"Sample\") %>%\n",
    "    mutate(Depth_Norm = Depth / Size)\n",
    "print(head(dat))\n",
    "\n",
    "dat = dat %>% \n",
    "    group_by(Loc, Group) %>% \n",
    "    summarize(Value = mean(Depth_Norm), .groups='drop') %>% \n",
    "    spread(Group, Value) %>%\n",
    "    mutate(\n",
    "        FC1 =  Output     / (Input+1),\n",
    "        FC2 = (Output+1)  / (Input+1),\n",
    "        FC3 = (Output+10) / (Input+10)) %>%\n",
    "    mutate(\n",
    "        Log2fc2 = log2(FC2),\n",
    "        Log2fc3 = log2(FC3)\n",
    "    )\n",
    "        \n",
    "### assign\n",
    "dat_astarr = dat\n",
    "print(dim(dat_astarr))\n",
    "head(dat_astarr)"
   ]
  },
  {
   "cell_type": "markdown",
   "id": "42abd9b9",
   "metadata": {},
   "source": [
    "## Zoom-In: ChrX:48,780,000-48,826,000"
   ]
  },
  {
   "cell_type": "code",
   "execution_count": 5,
   "id": "b2f93e46",
   "metadata": {},
   "outputs": [
    {
     "data": {
      "text/html": [
       "<table class=\"dataframe\">\n",
       "<caption>A tibble: 6 × 8</caption>\n",
       "<thead>\n",
       "\t<tr><th scope=col>Loc</th><th scope=col>Input</th><th scope=col>Output</th><th scope=col>FC1</th><th scope=col>FC2</th><th scope=col>FC3</th><th scope=col>Log2fc2</th><th scope=col>Log2fc3</th></tr>\n",
       "\t<tr><th scope=col>&lt;dbl&gt;</th><th scope=col>&lt;dbl&gt;</th><th scope=col>&lt;dbl&gt;</th><th scope=col>&lt;dbl&gt;</th><th scope=col>&lt;dbl&gt;</th><th scope=col>&lt;dbl&gt;</th><th scope=col>&lt;dbl&gt;</th><th scope=col>&lt;dbl&gt;</th></tr>\n",
       "</thead>\n",
       "<tbody>\n",
       "\t<tr><td>48780001</td><td>0.0001797762</td><td>0.0001209439</td><td>0.0001209222</td><td>0.9999412</td><td>0.9999941</td><td>-8.486431e-05</td><td>-8.487580e-06</td></tr>\n",
       "\t<tr><td>48780002</td><td>0.0001809119</td><td>0.0001250035</td><td>0.0001249809</td><td>0.9999441</td><td>0.9999944</td><td>-8.064641e-05</td><td>-8.065751e-06</td></tr>\n",
       "\t<tr><td>48780003</td><td>0.0001768448</td><td>0.0001116722</td><td>0.0001116525</td><td>0.9999348</td><td>0.9999935</td><td>-9.401056e-05</td><td>-9.402276e-06</td></tr>\n",
       "\t<tr><td>48780004</td><td>0.0001768448</td><td>0.0001116722</td><td>0.0001116525</td><td>0.9999348</td><td>0.9999935</td><td>-9.401056e-05</td><td>-9.402276e-06</td></tr>\n",
       "\t<tr><td>48780005</td><td>0.0001768448</td><td>0.0001113339</td><td>0.0001113142</td><td>0.9999345</td><td>0.9999934</td><td>-9.449856e-05</td><td>-9.451081e-06</td></tr>\n",
       "\t<tr><td>48780006</td><td>0.0001757031</td><td>0.0001106573</td><td>0.0001106379</td><td>0.9999350</td><td>0.9999935</td><td>-9.382783e-05</td><td>-9.383992e-06</td></tr>\n",
       "</tbody>\n",
       "</table>\n"
      ],
      "text/latex": [
       "A tibble: 6 × 8\n",
       "\\begin{tabular}{llllllll}\n",
       " Loc & Input & Output & FC1 & FC2 & FC3 & Log2fc2 & Log2fc3\\\\\n",
       " <dbl> & <dbl> & <dbl> & <dbl> & <dbl> & <dbl> & <dbl> & <dbl>\\\\\n",
       "\\hline\n",
       "\t 48780001 & 0.0001797762 & 0.0001209439 & 0.0001209222 & 0.9999412 & 0.9999941 & -8.486431e-05 & -8.487580e-06\\\\\n",
       "\t 48780002 & 0.0001809119 & 0.0001250035 & 0.0001249809 & 0.9999441 & 0.9999944 & -8.064641e-05 & -8.065751e-06\\\\\n",
       "\t 48780003 & 0.0001768448 & 0.0001116722 & 0.0001116525 & 0.9999348 & 0.9999935 & -9.401056e-05 & -9.402276e-06\\\\\n",
       "\t 48780004 & 0.0001768448 & 0.0001116722 & 0.0001116525 & 0.9999348 & 0.9999935 & -9.401056e-05 & -9.402276e-06\\\\\n",
       "\t 48780005 & 0.0001768448 & 0.0001113339 & 0.0001113142 & 0.9999345 & 0.9999934 & -9.449856e-05 & -9.451081e-06\\\\\n",
       "\t 48780006 & 0.0001757031 & 0.0001106573 & 0.0001106379 & 0.9999350 & 0.9999935 & -9.382783e-05 & -9.383992e-06\\\\\n",
       "\\end{tabular}\n"
      ],
      "text/markdown": [
       "\n",
       "A tibble: 6 × 8\n",
       "\n",
       "| Loc &lt;dbl&gt; | Input &lt;dbl&gt; | Output &lt;dbl&gt; | FC1 &lt;dbl&gt; | FC2 &lt;dbl&gt; | FC3 &lt;dbl&gt; | Log2fc2 &lt;dbl&gt; | Log2fc3 &lt;dbl&gt; |\n",
       "|---|---|---|---|---|---|---|---|\n",
       "| 48780001 | 0.0001797762 | 0.0001209439 | 0.0001209222 | 0.9999412 | 0.9999941 | -8.486431e-05 | -8.487580e-06 |\n",
       "| 48780002 | 0.0001809119 | 0.0001250035 | 0.0001249809 | 0.9999441 | 0.9999944 | -8.064641e-05 | -8.065751e-06 |\n",
       "| 48780003 | 0.0001768448 | 0.0001116722 | 0.0001116525 | 0.9999348 | 0.9999935 | -9.401056e-05 | -9.402276e-06 |\n",
       "| 48780004 | 0.0001768448 | 0.0001116722 | 0.0001116525 | 0.9999348 | 0.9999935 | -9.401056e-05 | -9.402276e-06 |\n",
       "| 48780005 | 0.0001768448 | 0.0001113339 | 0.0001113142 | 0.9999345 | 0.9999934 | -9.449856e-05 | -9.451081e-06 |\n",
       "| 48780006 | 0.0001757031 | 0.0001106573 | 0.0001106379 | 0.9999350 | 0.9999935 | -9.382783e-05 | -9.383992e-06 |\n",
       "\n"
      ],
      "text/plain": [
       "  Loc      Input        Output       FC1          FC2       FC3      \n",
       "1 48780001 0.0001797762 0.0001209439 0.0001209222 0.9999412 0.9999941\n",
       "2 48780002 0.0001809119 0.0001250035 0.0001249809 0.9999441 0.9999944\n",
       "3 48780003 0.0001768448 0.0001116722 0.0001116525 0.9999348 0.9999935\n",
       "4 48780004 0.0001768448 0.0001116722 0.0001116525 0.9999348 0.9999935\n",
       "5 48780005 0.0001768448 0.0001113339 0.0001113142 0.9999345 0.9999934\n",
       "6 48780006 0.0001757031 0.0001106573 0.0001106379 0.9999350 0.9999935\n",
       "  Log2fc2       Log2fc3      \n",
       "1 -8.486431e-05 -8.487580e-06\n",
       "2 -8.064641e-05 -8.065751e-06\n",
       "3 -9.401056e-05 -9.402276e-06\n",
       "4 -9.401056e-05 -9.402276e-06\n",
       "5 -9.449856e-05 -9.451081e-06\n",
       "6 -9.382783e-05 -9.383992e-06"
      ]
     },
     "metadata": {},
     "output_type": "display_data"
    }
   ],
   "source": [
    "start  = 48780000\n",
    "end    = 48826000\n",
    "\n",
    "dat = dat_astarr %>% dplyr::filter(start < Loc, Loc < end)\n",
    "head(dat)"
   ]
  },
  {
   "cell_type": "code",
   "execution_count": 8,
   "id": "cfbefde6",
   "metadata": {},
   "outputs": [],
   "source": [
    "gpt = ggplot(dat, aes(x = Loc, y = Log2fc3)) + \n",
    "   geom_point(size=1) + \n",
    "   theme_cowplot()"
   ]
  },
  {
   "cell_type": "code",
   "execution_count": 9,
   "id": "3d610a95",
   "metadata": {},
   "outputs": [
    {
     "data": {
      "image/png": "[encoded data removed]",
      "text/plain": [
       "plot without title"
      ]
     },
     "metadata": {
      "image/png": {
       "height": 300,
       "width": 600
      }
     },
     "output_type": "display_data"
    }
   ],
   "source": [
    "options(repr.plot.height=5, repr.plot.width=10)\n",
    "print(gpt)"
   ]
  },
  {
   "cell_type": "code",
   "execution_count": null,
   "id": "9a75db4f",
   "metadata": {},
   "outputs": [],
   "source": []
  },
  {
   "cell_type": "markdown",
   "id": "dba073fd",
   "metadata": {},
   "source": [
    "## Import data"
   ]
  },
  {
   "cell_type": "markdown",
   "id": "e930f0d1",
   "metadata": {},
   "source": [
    "**Tiling MPRA**"
   ]
  },
  {
   "cell_type": "code",
   "execution_count": 2,
   "id": "64023c78",
   "metadata": {},
   "outputs": [
    {
     "data": {
      "text/html": [
       "'Tile_K562_20210130.GATA1.unstranded.bed'"
      ],
      "text/latex": [
       "'Tile\\_K562\\_20210130.GATA1.unstranded.bed'"
      ],
      "text/markdown": [
       "'Tile_K562_20210130.GATA1.unstranded.bed'"
      ],
      "text/plain": [
       "[1] \"Tile_K562_20210130.GATA1.unstranded.bed\""
      ]
     },
     "metadata": {},
     "output_type": "display_data"
    }
   ],
   "source": [
    "fdiry = file.path(FD_RES, \"Tewhey_K562_TileMPRA\", \"count\")\n",
    "dir(fdiry)"
   ]
  },
  {
   "cell_type": "code",
   "execution_count": 3,
   "id": "369aa130",
   "metadata": {},
   "outputs": [
    {
     "data": {
      "text/html": [
       "<table class=\"dataframe\">\n",
       "<caption>A tibble: 6 × 13</caption>\n",
       "<thead>\n",
       "\t<tr><th scope=col>chrom</th><th scope=col>Start</th><th scope=col>End</th><th scope=col>ID</th><th scope=col>Score</th><th scope=col>Strand</th><th scope=col>log2fc</th><th scope=col>Input_Count</th><th scope=col>Output_Count</th><th scope=col>log10pval</th><th scope=col>log10fdr</th><th scope=col>lfc_se</th><th scope=col>Loc</th></tr>\n",
       "\t<tr><th scope=col>&lt;chr&gt;</th><th scope=col>&lt;dbl&gt;</th><th scope=col>&lt;dbl&gt;</th><th scope=col>&lt;chr&gt;</th><th scope=col>&lt;chr&gt;</th><th scope=col>&lt;chr&gt;</th><th scope=col>&lt;dbl&gt;</th><th scope=col>&lt;dbl&gt;</th><th scope=col>&lt;dbl&gt;</th><th scope=col>&lt;dbl&gt;</th><th scope=col>&lt;dbl&gt;</th><th scope=col>&lt;dbl&gt;</th><th scope=col>&lt;dbl&gt;</th></tr>\n",
       "</thead>\n",
       "<tbody>\n",
       "\t<tr><td>chrX</td><td>47786401</td><td>47786600</td><td>X:47786401-47786600</td><td>.</td><td>+</td><td> 2.30593934</td><td>2117.787</td><td>10474.869</td><td>112.1126526</td><td>110.93113079</td><td>0.10214790</td><td>47786500</td></tr>\n",
       "\t<tr><td>chrX</td><td>47786451</td><td>47786650</td><td>X:47786451-47786650</td><td>.</td><td>+</td><td> 0.78305606</td><td>1386.007</td><td> 2387.119</td><td> 11.3173884</td><td> 10.64251685</td><td>0.11330705</td><td>47786550</td></tr>\n",
       "\t<tr><td>chrX</td><td>47786501</td><td>47786700</td><td>X:47786501-47786700</td><td>.</td><td>+</td><td>-0.12873196</td><td>1955.626</td><td> 1788.236</td><td>  0.8450697</td><td>  0.62872262</td><td>0.08785968</td><td>47786600</td></tr>\n",
       "\t<tr><td>chrX</td><td>47786551</td><td>47786750</td><td>X:47786551-47786750</td><td>.</td><td>+</td><td> 0.58829515</td><td>2388.997</td><td> 3591.264</td><td> 11.2404554</td><td> 10.56667887</td><td>0.08543661</td><td>47786650</td></tr>\n",
       "\t<tr><td>chrX</td><td>47786601</td><td>47786800</td><td>X:47786601-47786800</td><td>.</td><td>+</td><td> 0.06670014</td><td>2102.916</td><td> 2202.385</td><td>  0.3095900</td><td>  0.21047015</td><td>0.09667741</td><td>47786700</td></tr>\n",
       "\t<tr><td>chrX</td><td>47786651</td><td>47786850</td><td>X:47786651-47786850</td><td>.</td><td>+</td><td>-0.02967703</td><td>1571.259</td><td> 1537.475</td><td>  0.1009399</td><td>  0.06453099</td><td>0.11287406</td><td>47786750</td></tr>\n",
       "</tbody>\n",
       "</table>\n"
      ],
      "text/latex": [
       "A tibble: 6 × 13\n",
       "\\begin{tabular}{lllllllllllll}\n",
       " chrom & Start & End & ID & Score & Strand & log2fc & Input\\_Count & Output\\_Count & log10pval & log10fdr & lfc\\_se & Loc\\\\\n",
       " <chr> & <dbl> & <dbl> & <chr> & <chr> & <chr> & <dbl> & <dbl> & <dbl> & <dbl> & <dbl> & <dbl> & <dbl>\\\\\n",
       "\\hline\n",
       "\t chrX & 47786401 & 47786600 & X:47786401-47786600 & . & + &  2.30593934 & 2117.787 & 10474.869 & 112.1126526 & 110.93113079 & 0.10214790 & 47786500\\\\\n",
       "\t chrX & 47786451 & 47786650 & X:47786451-47786650 & . & + &  0.78305606 & 1386.007 &  2387.119 &  11.3173884 &  10.64251685 & 0.11330705 & 47786550\\\\\n",
       "\t chrX & 47786501 & 47786700 & X:47786501-47786700 & . & + & -0.12873196 & 1955.626 &  1788.236 &   0.8450697 &   0.62872262 & 0.08785968 & 47786600\\\\\n",
       "\t chrX & 47786551 & 47786750 & X:47786551-47786750 & . & + &  0.58829515 & 2388.997 &  3591.264 &  11.2404554 &  10.56667887 & 0.08543661 & 47786650\\\\\n",
       "\t chrX & 47786601 & 47786800 & X:47786601-47786800 & . & + &  0.06670014 & 2102.916 &  2202.385 &   0.3095900 &   0.21047015 & 0.09667741 & 47786700\\\\\n",
       "\t chrX & 47786651 & 47786850 & X:47786651-47786850 & . & + & -0.02967703 & 1571.259 &  1537.475 &   0.1009399 &   0.06453099 & 0.11287406 & 47786750\\\\\n",
       "\\end{tabular}\n"
      ],
      "text/markdown": [
       "\n",
       "A tibble: 6 × 13\n",
       "\n",
       "| chrom &lt;chr&gt; | Start &lt;dbl&gt; | End &lt;dbl&gt; | ID &lt;chr&gt; | Score &lt;chr&gt; | Strand &lt;chr&gt; | log2fc &lt;dbl&gt; | Input_Count &lt;dbl&gt; | Output_Count &lt;dbl&gt; | log10pval &lt;dbl&gt; | log10fdr &lt;dbl&gt; | lfc_se &lt;dbl&gt; | Loc &lt;dbl&gt; |\n",
       "|---|---|---|---|---|---|---|---|---|---|---|---|---|\n",
       "| chrX | 47786401 | 47786600 | X:47786401-47786600 | . | + |  2.30593934 | 2117.787 | 10474.869 | 112.1126526 | 110.93113079 | 0.10214790 | 47786500 |\n",
       "| chrX | 47786451 | 47786650 | X:47786451-47786650 | . | + |  0.78305606 | 1386.007 |  2387.119 |  11.3173884 |  10.64251685 | 0.11330705 | 47786550 |\n",
       "| chrX | 47786501 | 47786700 | X:47786501-47786700 | . | + | -0.12873196 | 1955.626 |  1788.236 |   0.8450697 |   0.62872262 | 0.08785968 | 47786600 |\n",
       "| chrX | 47786551 | 47786750 | X:47786551-47786750 | . | + |  0.58829515 | 2388.997 |  3591.264 |  11.2404554 |  10.56667887 | 0.08543661 | 47786650 |\n",
       "| chrX | 47786601 | 47786800 | X:47786601-47786800 | . | + |  0.06670014 | 2102.916 |  2202.385 |   0.3095900 |   0.21047015 | 0.09667741 | 47786700 |\n",
       "| chrX | 47786651 | 47786850 | X:47786651-47786850 | . | + | -0.02967703 | 1571.259 |  1537.475 |   0.1009399 |   0.06453099 | 0.11287406 | 47786750 |\n",
       "\n"
      ],
      "text/plain": [
       "  chrom Start    End      ID                  Score Strand log2fc     \n",
       "1 chrX  47786401 47786600 X:47786401-47786600 .     +       2.30593934\n",
       "2 chrX  47786451 47786650 X:47786451-47786650 .     +       0.78305606\n",
       "3 chrX  47786501 47786700 X:47786501-47786700 .     +      -0.12873196\n",
       "4 chrX  47786551 47786750 X:47786551-47786750 .     +       0.58829515\n",
       "5 chrX  47786601 47786800 X:47786601-47786800 .     +       0.06670014\n",
       "6 chrX  47786651 47786850 X:47786651-47786850 .     +      -0.02967703\n",
       "  Input_Count Output_Count log10pval   log10fdr     lfc_se     Loc     \n",
       "1 2117.787    10474.869    112.1126526 110.93113079 0.10214790 47786500\n",
       "2 1386.007     2387.119     11.3173884  10.64251685 0.11330705 47786550\n",
       "3 1955.626     1788.236      0.8450697   0.62872262 0.08785968 47786600\n",
       "4 2388.997     3591.264     11.2404554  10.56667887 0.08543661 47786650\n",
       "5 2102.916     2202.385      0.3095900   0.21047015 0.09667741 47786700\n",
       "6 1571.259     1537.475      0.1009399   0.06453099 0.11287406 47786750"
      ]
     },
     "metadata": {},
     "output_type": "display_data"
    }
   ],
   "source": [
    "### set file path\n",
    "fdiry = file.path(FD_RES, \"Tewhey_K562_TileMPRA\", \"count\")\n",
    "fname = \"Tile_K562_20210130.GATA1.unstranded.bed\"\n",
    "fpath = file.path(fdiry, fname)\n",
    "\n",
    "### set columns\n",
    "cnames = c(\"chrom\", \"Start\", \"End\", \"ID\", \"Score\", \"Strand\", \n",
    "           \"log2fc\", \"Input_Count\", \"Output_Count\", \n",
    "           \"log10pval\", \"log10fdr\", \"lfc_se\")\n",
    "\n",
    "### read data\n",
    "dat = read_tsv(fpath, col_names = cnames, show_col_types = FALSE)\n",
    "dat = dat %>% mutate(Loc = (Start + End) / 2)\n",
    "\n",
    "### assign and show\n",
    "dat_tmpra = dat\n",
    "head(dat_tmpra)"
   ]
  },
  {
   "cell_type": "markdown",
   "id": "6049e577",
   "metadata": {},
   "source": [
    "**ATAC-STARR**"
   ]
  },
  {
   "cell_type": "code",
   "execution_count": 4,
   "id": "562a4854",
   "metadata": {},
   "outputs": [
    {
     "data": {
      "text/html": [
       "<table class=\"dataframe\">\n",
       "<caption>A tibble: 6 × 4</caption>\n",
       "<thead>\n",
       "\t<tr><th scope=col>Loc</th><th scope=col>Input</th><th scope=col>Output</th><th scope=col>Ratio</th></tr>\n",
       "\t<tr><th scope=col>&lt;dbl&gt;</th><th scope=col>&lt;dbl&gt;</th><th scope=col>&lt;dbl&gt;</th><th scope=col>&lt;dbl&gt;</th></tr>\n",
       "</thead>\n",
       "<tbody>\n",
       "\t<tr><td>47786400</td><td>0</td><td>0</td><td>0</td></tr>\n",
       "\t<tr><td>47786401</td><td>0</td><td>0</td><td>0</td></tr>\n",
       "\t<tr><td>47786402</td><td>0</td><td>0</td><td>0</td></tr>\n",
       "\t<tr><td>47786403</td><td>0</td><td>0</td><td>0</td></tr>\n",
       "\t<tr><td>47786404</td><td>0</td><td>0</td><td>0</td></tr>\n",
       "\t<tr><td>47786405</td><td>0</td><td>0</td><td>0</td></tr>\n",
       "</tbody>\n",
       "</table>\n"
      ],
      "text/latex": [
       "A tibble: 6 × 4\n",
       "\\begin{tabular}{llll}\n",
       " Loc & Input & Output & Ratio\\\\\n",
       " <dbl> & <dbl> & <dbl> & <dbl>\\\\\n",
       "\\hline\n",
       "\t 47786400 & 0 & 0 & 0\\\\\n",
       "\t 47786401 & 0 & 0 & 0\\\\\n",
       "\t 47786402 & 0 & 0 & 0\\\\\n",
       "\t 47786403 & 0 & 0 & 0\\\\\n",
       "\t 47786404 & 0 & 0 & 0\\\\\n",
       "\t 47786405 & 0 & 0 & 0\\\\\n",
       "\\end{tabular}\n"
      ],
      "text/markdown": [
       "\n",
       "A tibble: 6 × 4\n",
       "\n",
       "| Loc &lt;dbl&gt; | Input &lt;dbl&gt; | Output &lt;dbl&gt; | Ratio &lt;dbl&gt; |\n",
       "|---|---|---|---|\n",
       "| 47786400 | 0 | 0 | 0 |\n",
       "| 47786401 | 0 | 0 | 0 |\n",
       "| 47786402 | 0 | 0 | 0 |\n",
       "| 47786403 | 0 | 0 | 0 |\n",
       "| 47786404 | 0 | 0 | 0 |\n",
       "| 47786405 | 0 | 0 | 0 |\n",
       "\n"
      ],
      "text/plain": [
       "  Loc      Input Output Ratio\n",
       "1 47786400 0     0      0    \n",
       "2 47786401 0     0      0    \n",
       "3 47786402 0     0      0    \n",
       "4 47786403 0     0      0    \n",
       "5 47786404 0     0      0    \n",
       "6 47786405 0     0      0    "
      ]
     },
     "metadata": {},
     "output_type": "display_data"
    }
   ],
   "source": [
    "### set file path\n",
    "fdiry = file.path(FD_RES, \"KS91_K562_ASTARRseq\", \"coverage\")\n",
    "fname = \"KS91_K562_hg38_ASTARRseq_Ratio.GATA1.unstranded.perbase.tsv\"\n",
    "fpath = file.path(fdiry, fname)\n",
    "\n",
    "### set column\n",
    "ctypes = c(col_integer(), col_double(), col_double(), col_double())\n",
    "\n",
    "### read data and show\n",
    "dat_astarr = read_tsv(fpath, col_types = ctypes)\n",
    "head(dat_astarr)"
   ]
  },
  {
   "cell_type": "code",
   "execution_count": 5,
   "id": "17d1441a",
   "metadata": {},
   "outputs": [
    {
     "name": "stdout",
     "output_type": "stream",
     "text": [
      "[1] 47786400 49786749\n",
      "[1] 47786500 49786650\n",
      "[1] 47786401 49786551\n",
      "[1] 47786600 49786750\n"
     ]
    }
   ],
   "source": [
    "print(range(dat_astarr$Loc))\n",
    "print(range(dat_tmpra$Loc))\n",
    "print(range(dat_tmpra$Start))\n",
    "print(range(dat_tmpra$End))"
   ]
  },
  {
   "cell_type": "markdown",
   "id": "64dceef0",
   "metadata": {},
   "source": [
    "## Zoom-In: ChrX:48,780,000-48,826,000"
   ]
  },
  {
   "cell_type": "code",
   "execution_count": 11,
   "id": "65032f3d",
   "metadata": {},
   "outputs": [
    {
     "name": "stdout",
     "output_type": "stream",
     "text": [
      "ASTARR 460 3 \n",
      "\u001b[90m# A tibble: 3 × 3\u001b[39m\n",
      "      Left    Right    Val\n",
      "     \u001b[3m\u001b[90m<int>\u001b[39m\u001b[23m    \u001b[3m\u001b[90m<int>\u001b[39m\u001b[23m  \u001b[3m\u001b[90m<dbl>\u001b[39m\u001b[23m\n",
      "\u001b[90m1\u001b[39m 48\u001b[4m7\u001b[24m\u001b[4m8\u001b[24m\u001b[4m0\u001b[24m000 48\u001b[4m7\u001b[24m\u001b[4m8\u001b[24m\u001b[4m0\u001b[24m100 0.042\u001b[4m3\u001b[24m\n",
      "\u001b[90m2\u001b[39m 48\u001b[4m7\u001b[24m\u001b[4m8\u001b[24m\u001b[4m0\u001b[24m100 48\u001b[4m7\u001b[24m\u001b[4m8\u001b[24m\u001b[4m0\u001b[24m200 0.042\u001b[4m6\u001b[24m\n",
      "\u001b[90m3\u001b[39m 48\u001b[4m7\u001b[24m\u001b[4m8\u001b[24m\u001b[4m0\u001b[24m200 48\u001b[4m7\u001b[24m\u001b[4m8\u001b[24m\u001b[4m0\u001b[24m300 0.027\u001b[4m6\u001b[24m\n",
      "\n",
      "Tiling MPRA 459 3 \n",
      "\u001b[90m# A tibble: 3 × 3\u001b[39m\n",
      "      Left    Right   Val\n",
      "     \u001b[3m\u001b[90m<int>\u001b[39m\u001b[23m    \u001b[3m\u001b[90m<int>\u001b[39m\u001b[23m \u001b[3m\u001b[90m<dbl>\u001b[39m\u001b[23m\n",
      "\u001b[90m1\u001b[39m 48\u001b[4m7\u001b[24m\u001b[4m8\u001b[24m\u001b[4m0\u001b[24m000 48\u001b[4m7\u001b[24m\u001b[4m8\u001b[24m\u001b[4m0\u001b[24m100  2.01\n",
      "\u001b[90m2\u001b[39m 48\u001b[4m7\u001b[24m\u001b[4m8\u001b[24m\u001b[4m0\u001b[24m100 48\u001b[4m7\u001b[24m\u001b[4m8\u001b[24m\u001b[4m0\u001b[24m200  2.33\n",
      "\u001b[90m3\u001b[39m 48\u001b[4m7\u001b[24m\u001b[4m8\u001b[24m\u001b[4m0\u001b[24m200 48\u001b[4m7\u001b[24m\u001b[4m8\u001b[24m\u001b[4m0\u001b[24m300  1.68\n"
     ]
    }
   ],
   "source": [
    "### set bins\n",
    "start  = 48780000\n",
    "end    = 48826000\n",
    "size   = 100\n",
    "breaks = seq(start, end, size)\n",
    "\n",
    "### binning the data\n",
    "df1 = dat_astarr\n",
    "df1$group = cut(df1$Loc, breaks=breaks, right = FALSE, dig.lab = 10)\n",
    "\n",
    "df2 = dat_tmpra \n",
    "df2$group = cut(df2$Loc, breaks=breaks, right = FALSE, dig.lab = 10)\n",
    "\n",
    "### summarize the ratio\n",
    "df1 = df1 %>% group_by(group) %>% summarize(Val = sum(Ratio))     %>% na.omit\n",
    "df2 = df2 %>% group_by(group) %>% summarize(Val = sum(2**log2fc)) %>% na.omit\n",
    "\n",
    "### separate bin label to left and right bound\n",
    "df1 = df1 %>% \n",
    "    mutate(group = gsub(\"\\\\[|\\\\)\", \"\", group)) %>%\n",
    "    separate(group, c(\"Left\", \"Right\")) %>%\n",
    "    mutate(Left = as.integer(Left), Right = as.integer(Right))\n",
    "\n",
    "df2 = df2 %>% \n",
    "    mutate(group = gsub(\"\\\\[|\\\\)\", \"\", group)) %>%\n",
    "    separate(group, c(\"Left\", \"Right\")) %>%\n",
    "    mutate(Left = as.integer(Left), Right = as.integer(Right))\n",
    "\n",
    "### show results\n",
    "cat(\"ASTARR\", dim(df1), \"\\n\")\n",
    "print(head(df1, 3))\n",
    "cat(\"\\n\")\n",
    "cat(\"Tiling MPRA\", dim(df2), \"\\n\")\n",
    "print(head(df2, 3))"
   ]
  },
  {
   "cell_type": "markdown",
   "id": "0b7421e4",
   "metadata": {},
   "source": [
    "**Plot**"
   ]
  },
  {
   "cell_type": "code",
   "execution_count": 12,
   "id": "47568ea9",
   "metadata": {},
   "outputs": [],
   "source": [
    "### create figure\n",
    "dat = df1\n",
    "gp1 = ggplot(dat) + \n",
    "    geom_rect(\n",
    "        mapping=aes(\n",
    "            xmin=Left, \n",
    "            xmax=Right, \n",
    "            ymin=0, \n",
    "            ymax=Val)) +\n",
    "    labs(y=\"Ratio\", title=\"ATAC-STARR-seq\") +\n",
    "    theme_cowplot()"
   ]
  },
  {
   "cell_type": "code",
   "execution_count": 13,
   "id": "67a837b1",
   "metadata": {},
   "outputs": [],
   "source": [
    "### create figure\n",
    "dat = df2\n",
    "gp2 = ggplot(dat) + \n",
    "    geom_rect(\n",
    "        mapping=aes(\n",
    "            xmin=Left, \n",
    "            xmax=Right, \n",
    "            ymin=0, \n",
    "            ymax=Val)) +\n",
    "labs(y=\"Ratio\", title=\"Tiling MPRA\") +\n",
    "    theme_cowplot()"
   ]
  },
  {
   "cell_type": "code",
   "execution_count": 15,
   "id": "47be6f67",
   "metadata": {},
   "outputs": [
    {
     "data": {
      "image/png": "[encoded data removed]",
      "text/plain": [
       "plot without title"
      ]
     },
     "metadata": {
      "image/png": {
       "height": 300,
       "width": 600
      }
     },
     "output_type": "display_data"
    }
   ],
   "source": [
    "options(repr.plot.height=5, repr.plot.width=10)\n",
    "plot_grid(\n",
    "    gp1 + ylim(0, 10), \n",
    "    gp2 + ylim(0, 3000), \n",
    "    align=\"v\", \n",
    "    nrow=2, \n",
    "    ncol=1)"
   ]
  },
  {
   "cell_type": "markdown",
   "id": "2b227eab",
   "metadata": {},
   "source": [
    "**Plot (Log scale)**"
   ]
  },
  {
   "cell_type": "code",
   "execution_count": 61,
   "id": "3df15d9f",
   "metadata": {},
   "outputs": [],
   "source": [
    "### create figure\n",
    "dat = df1\n",
    "gp1 = ggplot(dat) + \n",
    "    geom_rect(\n",
    "        mapping=aes(\n",
    "            xmin=Left, \n",
    "            xmax=Right, \n",
    "            ymin=0, \n",
    "            ymax=log2(Val))) +\n",
    "    theme_cowplot()"
   ]
  },
  {
   "cell_type": "code",
   "execution_count": 62,
   "id": "edbdae96",
   "metadata": {},
   "outputs": [],
   "source": [
    "### create figure\n",
    "dat = df2\n",
    "gp2 = ggplot(dat) + \n",
    "    geom_rect(\n",
    "        mapping=aes(\n",
    "            xmin=Left, \n",
    "            xmax=Right, \n",
    "            ymin=0, \n",
    "            ymax=log2(Val))) +\n",
    "    theme_cowplot()"
   ]
  },
  {
   "cell_type": "code",
   "execution_count": 63,
   "id": "48f4ed1d",
   "metadata": {},
   "outputs": [
    {
     "data": {
      "image/png": "[encoded data removed]",
      "text/plain": [
       "plot without title"
      ]
     },
     "metadata": {
      "image/png": {
       "height": 300,
       "width": 600
      }
     },
     "output_type": "display_data"
    }
   ],
   "source": [
    "options(repr.plot.height=5, repr.plot.width=10)\n",
    "plot_grid(\n",
    "    gp1 , \n",
    "    gp2 , \n",
    "    align=\"v\", \n",
    "    nrow=2, \n",
    "    ncol=1)"
   ]
  },
  {
   "cell_type": "markdown",
   "id": "7ea4d131",
   "metadata": {},
   "source": [
    "## Plot whole"
   ]
  },
  {
   "cell_type": "code",
   "execution_count": 87,
   "id": "ca245660",
   "metadata": {},
   "outputs": [
    {
     "name": "stdout",
     "output_type": "stream",
     "text": [
      "Tiling MPRA 365 3 \n",
      "\u001b[90m# A tibble: 3 × 3\u001b[39m\n",
      "      Left    Right   Val\n",
      "     \u001b[3m\u001b[90m<int>\u001b[39m\u001b[23m    \u001b[3m\u001b[90m<int>\u001b[39m\u001b[23m \u001b[3m\u001b[90m<dbl>\u001b[39m\u001b[23m\n",
      "\u001b[90m1\u001b[39m 47\u001b[4m7\u001b[24m\u001b[4m8\u001b[24m\u001b[4m6\u001b[24m400 47\u001b[4m7\u001b[24m\u001b[4m9\u001b[24m\u001b[4m1\u001b[24m400  212.\n",
      "\u001b[90m2\u001b[39m 47\u001b[4m7\u001b[24m\u001b[4m9\u001b[24m\u001b[4m1\u001b[24m400 47\u001b[4m7\u001b[24m\u001b[4m9\u001b[24m\u001b[4m6\u001b[24m400  114.\n",
      "\u001b[90m3\u001b[39m 47\u001b[4m7\u001b[24m\u001b[4m9\u001b[24m\u001b[4m6\u001b[24m400 47\u001b[4m8\u001b[24m\u001b[4m0\u001b[24m\u001b[4m1\u001b[24m400  194.\n",
      "\n",
      "ASTARR 400 3 \n",
      "\u001b[90m# A tibble: 3 × 3\u001b[39m\n",
      "      Left    Right   Val\n",
      "     \u001b[3m\u001b[90m<int>\u001b[39m\u001b[23m    \u001b[3m\u001b[90m<int>\u001b[39m\u001b[23m \u001b[3m\u001b[90m<dbl>\u001b[39m\u001b[23m\n",
      "\u001b[90m1\u001b[39m 47\u001b[4m7\u001b[24m\u001b[4m8\u001b[24m\u001b[4m6\u001b[24m400 47\u001b[4m7\u001b[24m\u001b[4m9\u001b[24m\u001b[4m1\u001b[24m400 0.369\n",
      "\u001b[90m2\u001b[39m 47\u001b[4m7\u001b[24m\u001b[4m9\u001b[24m\u001b[4m1\u001b[24m400 47\u001b[4m7\u001b[24m\u001b[4m9\u001b[24m\u001b[4m6\u001b[24m400 0.319\n",
      "\u001b[90m3\u001b[39m 47\u001b[4m7\u001b[24m\u001b[4m9\u001b[24m\u001b[4m6\u001b[24m400 47\u001b[4m8\u001b[24m\u001b[4m0\u001b[24m\u001b[4m1\u001b[24m400 1.43 \n"
     ]
    }
   ],
   "source": [
    "### set bins\n",
    "start  = 47786400\n",
    "end    = 49786800\n",
    "size   = 5000\n",
    "breaks = seq(start, end, size)\n",
    "\n",
    "### binning the data\n",
    "df1 = dat_mpra \n",
    "df1$group = cut(df1$Loc, breaks=breaks, right = FALSE, dig.lab = 10)\n",
    "\n",
    "df2 = dat_astarr\n",
    "df2$group = cut(df2$Loc, breaks=breaks, right = FALSE, dig.lab = 10)\n",
    "\n",
    "### summarize the ratio\n",
    "df1 = df1 %>% group_by(group) %>% summarize(Val = sum(2**log2fc)) %>% na.omit\n",
    "df2 = df2 %>% group_by(group) %>% summarize(Val = sum(Ratio))     %>% na.omit\n",
    "\n",
    "### separate bin label to left and right bound\n",
    "df1 = df1 %>% \n",
    "    mutate(group = gsub(\"\\\\[|\\\\)\", \"\", group)) %>%\n",
    "    separate(group, c(\"Left\", \"Right\")) %>%\n",
    "    mutate(Left = as.integer(Left), Right = as.integer(Right))\n",
    "\n",
    "df2 = df2 %>% \n",
    "    mutate(group = gsub(\"\\\\[|\\\\)\", \"\", group)) %>%\n",
    "    separate(group, c(\"Left\", \"Right\")) %>%\n",
    "    mutate(Left = as.integer(Left), Right = as.integer(Right))\n",
    "\n",
    "### show results\n",
    "cat(\"Tiling MPRA\", dim(df1), \"\\n\")\n",
    "print(head(df1, 3))\n",
    "cat(\"\\n\")\n",
    "cat(\"ASTARR\", dim(df2), \"\\n\")\n",
    "print(head(df2, 3))"
   ]
  },
  {
   "cell_type": "code",
   "execution_count": 88,
   "id": "b8114a55",
   "metadata": {},
   "outputs": [],
   "source": [
    "### create figure\n",
    "dat = df1\n",
    "gp1 = ggplot(dat) + \n",
    "    geom_rect(\n",
    "        mapping=aes(\n",
    "            xmin=Left, \n",
    "            xmax=Right, \n",
    "            ymin=0, \n",
    "            ymax=Val)) +\n",
    "    theme_cowplot()"
   ]
  },
  {
   "cell_type": "code",
   "execution_count": 89,
   "id": "0e57ee2d",
   "metadata": {},
   "outputs": [],
   "source": [
    "### create figure\n",
    "dat = df2\n",
    "gp2 = ggplot(dat) + \n",
    "    geom_rect(\n",
    "        mapping=aes(\n",
    "            xmin=Left, \n",
    "            xmax=Right, \n",
    "            ymin=0, \n",
    "            ymax=Val)) +\n",
    "    theme_cowplot()"
   ]
  },
  {
   "cell_type": "code",
   "execution_count": 90,
   "id": "0a7142a6",
   "metadata": {},
   "outputs": [
    {
     "data": {
      "image/png": "[encoded data removed]",
      "text/plain": [
       "plot without title"
      ]
     },
     "metadata": {
      "image/png": {
       "height": 300,
       "width": 600
      }
     },
     "output_type": "display_data"
    }
   ],
   "source": [
    "options(repr.plot.height=5, repr.plot.width=10)\n",
    "plot_grid(\n",
    "    gp1,#+ ylim(0, 8000), \n",
    "    gp2,# + ylim(0, 50), \n",
    "    align=\"v\", \n",
    "    nrow=2, \n",
    "    ncol=1)"
   ]
  },
  {
   "cell_type": "code",
   "execution_count": null,
   "id": "4e4c600b",
   "metadata": {},
   "outputs": [],
   "source": []
  }
 ],
 "metadata": {
  "kernelspec": {
   "display_name": "R",
   "language": "R",
   "name": "ir"
  },
  "language_info": {
   "codemirror_mode": "r",
   "file_extension": ".r",
   "mimetype": "text/x-r-source",
   "name": "R",
   "pygments_lexer": "r",
   "version": "4.2.0"
  }
 },
 "nbformat": 4,
 "nbformat_minor": 5
}
