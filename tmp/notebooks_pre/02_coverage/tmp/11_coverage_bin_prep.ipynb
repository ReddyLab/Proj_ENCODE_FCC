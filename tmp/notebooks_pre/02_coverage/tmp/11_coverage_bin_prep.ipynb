{
 "cells": [
  {
   "cell_type": "code",
   "execution_count": 1,
   "id": "b18bd06d-bfc5-4f02-a0e7-06d64620e47e",
   "metadata": {},
   "outputs": [
    {
     "name": "stdout",
     "output_type": "stream",
     "text": [
      "You are in: Singularity | singularity_proj_combeffect\n",
      "    BASE DIRECTORY:     /mount/work\n",
      "    PATH OF SOURCE:     /mount/work/source\n",
      "    PATH OF EXECUTABLE: /mount/work/exe\n",
      "    PATH OF ANNOTATION: /mount/work/annotation\n",
      "    PATH OF PROJECT:    /mount/project\n",
      "    PATH OF RESULTS:    /mount/work/out/proj_combeffect_encode_fcc\n",
      "\n",
      "Library imported:\n",
      "    numpy, pandas, matplotlib.pyplot\n",
      "    os, sys, time, gzip, glob\n",
      "\n"
     ]
    }
   ],
   "source": [
    "import sys\n",
    "sys.path.append(\"../\")\n",
    "from config_sing import *\n",
    "show_env()"
   ]
  },
  {
   "cell_type": "markdown",
   "id": "ce26b651-9d1b-479a-99a3-8bfb188dd784",
   "metadata": {},
   "source": [
    "## GATA1"
   ]
  },
  {
   "cell_type": "code",
   "execution_count": 3,
   "id": "0f4a05ce-dcfc-41ed-bb93-2db04617c0e1",
   "metadata": {},
   "outputs": [
    {
     "name": "stdout",
     "output_type": "stream",
     "text": [
      "47786401 47786501\n",
      "47786501 47786601\n",
      "47786601 47786701\n",
      "47786701 47786801\n"
     ]
    }
   ],
   "source": [
    "### the region of GATA1\n",
    "start = 47786401\n",
    "end   = 49786750\n",
    "\n",
    "### testing\n",
    "loc = start\n",
    "end = 47786750\n",
    "while loc < end:\n",
    "    print(loc, loc + 100)\n",
    "    loc = loc + 100"
   ]
  },
  {
   "cell_type": "code",
   "execution_count": 6,
   "id": "23a203f0-5404-466e-a317-76ff0705cd43",
   "metadata": {},
   "outputs": [
    {
     "name": "stdout",
     "output_type": "stream",
     "text": [
      "/mount/work/out/proj_combeffect_encode_fcc/KS91_K562_ASTARRseq/coverage\n",
      "region_GATA1_bin1.bed\n",
      "region_GATA1_bin100.bed\n",
      "region_GATA1_bin200.bed\n",
      "region_GATA1_bin500.bed\n",
      "region_GATA1_bin1000.bed\n",
      "\n",
      "/mount/work/out/proj_combeffect_encode_fcc/Tewhey_K562_TileMPRA/coverage\n",
      "region_GATA1_bin1.bed\n",
      "region_GATA1_bin100.bed\n",
      "region_GATA1_bin200.bed\n",
      "region_GATA1_bin500.bed\n",
      "region_GATA1_bin1000.bed\n",
      "\n"
     ]
    }
   ],
   "source": [
    "chrom = \"chrX\"\n",
    "start = 47786401\n",
    "end   = 49786750\n",
    "sizes = [1, 100, 200, 500, 1000]\n",
    "\n",
    "GROUPS = [\"KS91_K562_ASTARRseq\", \"Tewhey_K562_TileMPRA\"]\n",
    "for group in GROUPS:\n",
    "    ### set directory\n",
    "    fdiry = os.path.join(FD_RES, group, \"coverage\")\n",
    "    print(fdiry)\n",
    "    \n",
    "    for size in sizes:\n",
    "        ### set file name and path\n",
    "        fname = f\"region_GATA1_bin{size}.bed\"\n",
    "        fpath = os.path.join(fdiry, fname)\n",
    "        print(fname)\n",
    "        \n",
    "        ### create bed files\n",
    "        loc = start\n",
    "        with open(fpath, 'w') as file:\n",
    "            while loc < end:\n",
    "                line = [chrom, str(loc), str(loc + size)]\n",
    "                line = \"\\t\".join(line) + \"\\n\"\n",
    "                file.write(line)\n",
    "                loc = loc + size\n",
    "    print()    "
   ]
  },
  {
   "cell_type": "code",
   "execution_count": null,
   "id": "e7d7a129-99a3-4bac-bb55-2607d78d4893",
   "metadata": {},
   "outputs": [],
   "source": []
  }
 ],
 "metadata": {
  "kernelspec": {
   "display_name": "Python 3",
   "language": "python",
   "name": "python3"
  },
  "language_info": {
   "codemirror_mode": {
    "name": "ipython",
    "version": 3
   },
   "file_extension": ".py",
   "mimetype": "text/x-python",
   "name": "python",
   "nbconvert_exporter": "python",
   "pygments_lexer": "ipython3",
   "version": "3.6.9"
  }
 },
 "nbformat": 4,
 "nbformat_minor": 5
}
