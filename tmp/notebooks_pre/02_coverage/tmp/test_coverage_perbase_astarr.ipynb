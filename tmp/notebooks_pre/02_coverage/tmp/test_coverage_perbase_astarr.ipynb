{
 "cells": [
  {
   "cell_type": "code",
   "execution_count": 2,
   "id": "b69fe3e2-71e4-436e-8d18-0aa677c84013",
   "metadata": {},
   "outputs": [
    {
     "name": "stdout",
     "output_type": "stream",
     "text": [
      "You are on Duke Server: HARDAC\n",
      "BASE DIRECTORY:     /gpfs/fs1/data/reddylab/Kuei\n",
      "PATH OF SOURCE:     /gpfs/fs1/data/reddylab/Kuei/source\n",
      "PATH OF EXECUTABLE: /gpfs/fs1/data/reddylab/Kuei/exe\n",
      "PATH OF ANNOTATION: /gpfs/fs1/data/reddylab/Kuei/annotation\n",
      "PATH OF PROJECT:    /gpfs/fs1/data/reddylab/Kuei/GitRepo/Proj_CombEffect_ENCODE_FCC/notebooks\n",
      "PATH OF RESULTS:    /gpfs/fs1/data/reddylab/Kuei/out/proj_combeffect_encode_fcc\n",
      "\n"
     ]
    }
   ],
   "source": [
    "source ../config_duke.sh\n",
    "source ../config_load_module_bedtools.sh\n",
    "show_env"
   ]
  },
  {
   "cell_type": "code",
   "execution_count": 5,
   "id": "0b68dae9-e298-4310-80d2-e38911d504a0",
   "metadata": {},
   "outputs": [
    {
     "name": "stdout",
     "output_type": "stream",
     "text": [
      "KS91_K562_hg38_ASTARRseq_Input_rep1.GATA1.unstranded.dedups.bed\n",
      "KS91_K562_hg38_ASTARRseq_Input_rep2.GATA1.unstranded.dedups.bed\n",
      "KS91_K562_hg38_ASTARRseq_Input_rep3.GATA1.unstranded.dedups.bed\n",
      "KS91_K562_hg38_ASTARRseq_Input_rep4.GATA1.unstranded.dedups.bed\n",
      "KS91_K562_hg38_ASTARRseq_Input_rep5.GATA1.unstranded.dedups.bed\n",
      "KS91_K562_hg38_ASTARRseq_Input_rep6.GATA1.unstranded.dedups.bed\n",
      "KS91_K562_hg38_ASTARRseq_Output_rep1.GATA1.unstranded.bed\n",
      "KS91_K562_hg38_ASTARRseq_Output_rep2.GATA1.unstranded.bed\n",
      "KS91_K562_hg38_ASTARRseq_Output_rep3.GATA1.unstranded.bed\n",
      "KS91_K562_hg38_ASTARRseq_Output_rep4.GATA1.unstranded.bed\n"
     ]
    }
   ],
   "source": [
    "ls ${FD_RES}/KS91_K562_ASTARRseq/count"
   ]
  },
  {
   "cell_type": "code",
   "execution_count": 13,
   "id": "5861cce8-21e1-4f17-81dc-401f9798003f",
   "metadata": {},
   "outputs": [
    {
     "name": "stdout",
     "output_type": "stream",
     "text": [
      "chrX\t47786400\t47786401\n",
      "chrX\t47786401\t47786402\n",
      "chrX\t47786402\t47786403\n",
      "chrX\t47786403\t47786404\n",
      "chrX\t47786404\t47786405\n",
      "++++++++++++++++++++++\n",
      "chrX\t49786746\t49786747\n",
      "chrX\t49786747\t49786748\n",
      "chrX\t49786748\t49786749\n",
      "chrX\t49786749\t49786750\n",
      "chrX\t49786750\t49786751\n"
     ]
    }
   ],
   "source": [
    "START=47786400\n",
    "END=49786750\n",
    "CHROM=chrX\n",
    "\n",
    "FP_OUT=${FD_RES}/KS91_K562_ASTARRseq/scratch/coverage/A.bed\n",
    "cat /dev/null > ${FP_OUT}\n",
    "for LOC in $(seq ${START} ${END}); do\n",
    "    echo -e \"${CHROM}\\\\t${LOC}\\\\t$((${LOC} + 1))\" >> ${FP_OUT}\n",
    "done\n",
    "\n",
    "head -n 5 ${FP_OUT}\n",
    "echo ++++++++++++++++++++++\n",
    "tail -n 5 ${FP_OUT}"
   ]
  },
  {
   "cell_type": "code",
   "execution_count": 14,
   "id": "6ceaf19f-814e-48fa-af52-a3c8489c8eee",
   "metadata": {},
   "outputs": [],
   "source": [
    "FDIRY=${FD_RES}/KS91_K562_ASTARRseq/scratch"
   ]
  },
  {
   "cell_type": "code",
   "execution_count": 15,
   "id": "3deceda5-e25a-40b2-92b1-bae5256de093",
   "metadata": {},
   "outputs": [],
   "source": [
    "cp \\\n",
    "    ${FD_RES}/KS91_K562_ASTARRseq/count/KS91_K562_hg38_ASTARRseq_Output_rep1.GATA1.unstranded.bed \\\n",
    "    ${FDIRY}/count/B.bed"
   ]
  },
  {
   "cell_type": "code",
   "execution_count": 16,
   "id": "18a84180-0437-4d12-b7b9-68999172f860",
   "metadata": {},
   "outputs": [
    {
     "name": "stdout",
     "output_type": "stream",
     "text": [
      "chrX\t47787189\t47787363\tchrX_47787189_47787363\t6\n",
      "chrX\t47788545\t47789154\tchrX_47788545_47789154\t6\n",
      "chrX\t47788659\t47788978\tchrX_47788659_47788978\t4\n",
      "chrX\t47788659\t47788979\tchrX_47788659_47788979\t18\n",
      "chrX\t47788660\t47788978\tchrX_47788660_47788978\t1\n",
      "chrX\t47788662\t47788979\tchrX_47788662_47788979\t1\n",
      "chrX\t47788970\t47789151\tchrX_47788970_47789151\t9\n",
      "chrX\t47789145\t47789362\tchrX_47789145_47789362\t1\n",
      "chrX\t47789145\t47789363\tchrX_47789145_47789363\t62\n",
      "chrX\t47789176\t47789447\tchrX_47789176_47789447\t1\n"
     ]
    }
   ],
   "source": [
    "head ${FDIRY}/count/B.bed"
   ]
  },
  {
   "cell_type": "code",
   "execution_count": 17,
   "id": "30768d76-22ee-4439-907f-0af089973143",
   "metadata": {},
   "outputs": [],
   "source": [
    "bedtools map -a ${FDIRY}/coverage/A.bed -b ${FDIRY}/count/B.bed -o sum -c 5 > ${FDIRY}/coverage/C.bed"
   ]
  },
  {
   "cell_type": "code",
   "execution_count": 18,
   "id": "4910b95c-5ccd-4941-b200-e686be0bd0b8",
   "metadata": {},
   "outputs": [
    {
     "name": "stdout",
     "output_type": "stream",
     "text": [
      "chrX\t47786400\t47786401\t.\n",
      "chrX\t47786401\t47786402\t.\n",
      "chrX\t47786402\t47786403\t.\n",
      "chrX\t47786403\t47786404\t.\n",
      "chrX\t47786404\t47786405\t.\n",
      "chrX\t47786405\t47786406\t.\n",
      "chrX\t47786406\t47786407\t.\n",
      "chrX\t47786407\t47786408\t.\n",
      "chrX\t47786408\t47786409\t.\n",
      "chrX\t47786409\t47786410\t.\n"
     ]
    }
   ],
   "source": [
    "head ${FDIRY}/coverage/C.bed"
   ]
  },
  {
   "cell_type": "code",
   "execution_count": null,
   "id": "08cc4495-b3eb-4407-a4a1-3b2d7666ee1d",
   "metadata": {},
   "outputs": [],
   "source": []
  }
 ],
 "metadata": {
  "kernelspec": {
   "display_name": "Bash",
   "language": "bash",
   "name": "bash"
  },
  "language_info": {
   "codemirror_mode": "shell",
   "file_extension": ".sh",
   "mimetype": "text/x-sh",
   "name": "bash"
  }
 },
 "nbformat": 4,
 "nbformat_minor": 5
}
