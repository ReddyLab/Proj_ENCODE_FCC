{
 "cells": [
  {
   "cell_type": "code",
   "execution_count": 1,
   "id": "7435a4b2",
   "metadata": {},
   "outputs": [
    {
     "name": "stdout",
     "output_type": "stream",
     "text": [
      "You are in Singularity: singularity_proj_combeffect \n",
      "BASE DIRECTORY:     /mount/work \n",
      "PATH OF SOURCE:     /mount/work/source \n",
      "PATH OF EXECUTABLE: /mount/work/exe \n",
      "PATH OF ANNOTATION: /mount/work/annotation \n",
      "PATH OF PROJECT:    /mount/project \n",
      "PATH OF RESULTS:    /mount/work/out/proj_combeffect_encode_fcc \n"
     ]
    }
   ],
   "source": [
    "suppressMessages(suppressWarnings(source(\"../config_sing.R\")))\n",
    "show_env()"
   ]
  },
  {
   "cell_type": "code",
   "execution_count": 4,
   "id": "dc504c93",
   "metadata": {},
   "outputs": [],
   "source": [
    "cnames = c(\"Chrom\", \"Start\", \"End\", \"Name\", \"Score\", \"Strand\", \"Value1\", \"Value2\", \"Value3\", \"Label1\", \"Label2\")"
   ]
  },
  {
   "cell_type": "code",
   "execution_count": 5,
   "id": "1bf1ac4f",
   "metadata": {},
   "outputs": [
    {
     "name": "stderr",
     "output_type": "stream",
     "text": [
      "\u001b[1mRows: \u001b[22m\u001b[34m926535\u001b[39m \u001b[1mColumns: \u001b[22m\u001b[34m11\u001b[39m\n",
      "\u001b[36m──\u001b[39m \u001b[1mColumn specification\u001b[22m \u001b[36m─────────────────────────────────────────────────────────────────────────────────────────────────────\u001b[39m\n",
      "\u001b[1mDelimiter:\u001b[22m \"\\t\"\n",
      "\u001b[31mchr\u001b[39m (6): Chrom, Name, Strand, Value3, Label1, Label2\n",
      "\u001b[32mdbl\u001b[39m (5): Start, End, Score, Value1, Value2\n",
      "\n",
      "\u001b[36mℹ\u001b[39m Use `spec()` to retrieve the full column specification for this data.\n",
      "\u001b[36mℹ\u001b[39m Specify the column types or set `show_col_types = FALSE` to quiet this message.\n"
     ]
    },
    {
     "data": {
      "text/html": [
       "<table class=\"dataframe\">\n",
       "<caption>A tibble: 6 × 11</caption>\n",
       "<thead>\n",
       "\t<tr><th scope=col>Chrom</th><th scope=col>Start</th><th scope=col>End</th><th scope=col>Name</th><th scope=col>Score</th><th scope=col>Strand</th><th scope=col>Value1</th><th scope=col>Value2</th><th scope=col>Value3</th><th scope=col>Label1</th><th scope=col>Label2</th></tr>\n",
       "\t<tr><th scope=col>&lt;chr&gt;</th><th scope=col>&lt;dbl&gt;</th><th scope=col>&lt;dbl&gt;</th><th scope=col>&lt;chr&gt;</th><th scope=col>&lt;dbl&gt;</th><th scope=col>&lt;chr&gt;</th><th scope=col>&lt;dbl&gt;</th><th scope=col>&lt;dbl&gt;</th><th scope=col>&lt;chr&gt;</th><th scope=col>&lt;chr&gt;</th><th scope=col>&lt;chr&gt;</th></tr>\n",
       "</thead>\n",
       "<tbody>\n",
       "\t<tr><td>chr1</td><td>181251</td><td>181601</td><td>EH38E1310153</td><td>0</td><td>.</td><td>181251</td><td>181601</td><td>6,218,147  </td><td>DNase-only    </td><td>All-data/Full-classification</td></tr>\n",
       "\t<tr><td>chr1</td><td>190865</td><td>191071</td><td>EH38E1310154</td><td>0</td><td>.</td><td>190865</td><td>191071</td><td>225,225,225</td><td>Low-DNase     </td><td>All-data/Full-classification</td></tr>\n",
       "\t<tr><td>chr1</td><td>778562</td><td>778912</td><td>EH38E1310158</td><td>0</td><td>.</td><td>778562</td><td>778912</td><td>255,0,0    </td><td>PLS,CTCF-bound</td><td>All-data/Full-classification</td></tr>\n",
       "\t<tr><td>chr1</td><td>779086</td><td>779355</td><td>EH38E1310159</td><td>0</td><td>.</td><td>779086</td><td>779355</td><td>255,0,0    </td><td>PLS           </td><td>All-data/Full-classification</td></tr>\n",
       "\t<tr><td>chr1</td><td>779727</td><td>780060</td><td>EH38E1310160</td><td>0</td><td>.</td><td>779727</td><td>780060</td><td>225,225,225</td><td>Low-DNase     </td><td>All-data/Full-classification</td></tr>\n",
       "\t<tr><td>chr1</td><td>790397</td><td>790626</td><td>EH38E1310162</td><td>0</td><td>.</td><td>790397</td><td>790626</td><td>225,225,225</td><td>Low-DNase     </td><td>All-data/Full-classification</td></tr>\n",
       "</tbody>\n",
       "</table>\n"
      ],
      "text/latex": [
       "A tibble: 6 × 11\n",
       "\\begin{tabular}{lllllllllll}\n",
       " Chrom & Start & End & Name & Score & Strand & Value1 & Value2 & Value3 & Label1 & Label2\\\\\n",
       " <chr> & <dbl> & <dbl> & <chr> & <dbl> & <chr> & <dbl> & <dbl> & <chr> & <chr> & <chr>\\\\\n",
       "\\hline\n",
       "\t chr1 & 181251 & 181601 & EH38E1310153 & 0 & . & 181251 & 181601 & 6,218,147   & DNase-only     & All-data/Full-classification\\\\\n",
       "\t chr1 & 190865 & 191071 & EH38E1310154 & 0 & . & 190865 & 191071 & 225,225,225 & Low-DNase      & All-data/Full-classification\\\\\n",
       "\t chr1 & 778562 & 778912 & EH38E1310158 & 0 & . & 778562 & 778912 & 255,0,0     & PLS,CTCF-bound & All-data/Full-classification\\\\\n",
       "\t chr1 & 779086 & 779355 & EH38E1310159 & 0 & . & 779086 & 779355 & 255,0,0     & PLS            & All-data/Full-classification\\\\\n",
       "\t chr1 & 779727 & 780060 & EH38E1310160 & 0 & . & 779727 & 780060 & 225,225,225 & Low-DNase      & All-data/Full-classification\\\\\n",
       "\t chr1 & 790397 & 790626 & EH38E1310162 & 0 & . & 790397 & 790626 & 225,225,225 & Low-DNase      & All-data/Full-classification\\\\\n",
       "\\end{tabular}\n"
      ],
      "text/markdown": [
       "\n",
       "A tibble: 6 × 11\n",
       "\n",
       "| Chrom &lt;chr&gt; | Start &lt;dbl&gt; | End &lt;dbl&gt; | Name &lt;chr&gt; | Score &lt;dbl&gt; | Strand &lt;chr&gt; | Value1 &lt;dbl&gt; | Value2 &lt;dbl&gt; | Value3 &lt;chr&gt; | Label1 &lt;chr&gt; | Label2 &lt;chr&gt; |\n",
       "|---|---|---|---|---|---|---|---|---|---|---|\n",
       "| chr1 | 181251 | 181601 | EH38E1310153 | 0 | . | 181251 | 181601 | 6,218,147   | DNase-only     | All-data/Full-classification |\n",
       "| chr1 | 190865 | 191071 | EH38E1310154 | 0 | . | 190865 | 191071 | 225,225,225 | Low-DNase      | All-data/Full-classification |\n",
       "| chr1 | 778562 | 778912 | EH38E1310158 | 0 | . | 778562 | 778912 | 255,0,0     | PLS,CTCF-bound | All-data/Full-classification |\n",
       "| chr1 | 779086 | 779355 | EH38E1310159 | 0 | . | 779086 | 779355 | 255,0,0     | PLS            | All-data/Full-classification |\n",
       "| chr1 | 779727 | 780060 | EH38E1310160 | 0 | . | 779727 | 780060 | 225,225,225 | Low-DNase      | All-data/Full-classification |\n",
       "| chr1 | 790397 | 790626 | EH38E1310162 | 0 | . | 790397 | 790626 | 225,225,225 | Low-DNase      | All-data/Full-classification |\n",
       "\n"
      ],
      "text/plain": [
       "  Chrom Start  End    Name         Score Strand Value1 Value2 Value3     \n",
       "1 chr1  181251 181601 EH38E1310153 0     .      181251 181601 6,218,147  \n",
       "2 chr1  190865 191071 EH38E1310154 0     .      190865 191071 225,225,225\n",
       "3 chr1  778562 778912 EH38E1310158 0     .      778562 778912 255,0,0    \n",
       "4 chr1  779086 779355 EH38E1310159 0     .      779086 779355 255,0,0    \n",
       "5 chr1  779727 780060 EH38E1310160 0     .      779727 780060 225,225,225\n",
       "6 chr1  790397 790626 EH38E1310162 0     .      790397 790626 225,225,225\n",
       "  Label1         Label2                      \n",
       "1 DNase-only     All-data/Full-classification\n",
       "2 Low-DNase      All-data/Full-classification\n",
       "3 PLS,CTCF-bound All-data/Full-classification\n",
       "4 PLS            All-data/Full-classification\n",
       "5 Low-DNase      All-data/Full-classification\n",
       "6 Low-DNase      All-data/Full-classification"
      ]
     },
     "metadata": {},
     "output_type": "display_data"
    }
   ],
   "source": [
    "fdiry = file.path(FD_RES, \"source\", \"cCREs\")\n",
    "fname = \"ENCFF971AHO_ENCFF847JMY_ENCFF779QTH_ENCFF405AYC.7group.bed\"\n",
    "fpath = file.path(fdiry, fname)\n",
    "\n",
    "dat_ccre = read_tsv(fpath, col_names = cnames)\n",
    "head(dat_ccre)"
   ]
  },
  {
   "cell_type": "code",
   "execution_count": 6,
   "id": "6d966ff1",
   "metadata": {},
   "outputs": [
    {
     "data": {
      "text/html": [
       "'.'"
      ],
      "text/latex": [
       "'.'"
      ],
      "text/markdown": [
       "'.'"
      ],
      "text/plain": [
       "[1] \".\""
      ]
     },
     "metadata": {},
     "output_type": "display_data"
    }
   ],
   "source": [
    "unique(dat_ccre$Strand)"
   ]
  },
  {
   "cell_type": "code",
   "execution_count": 7,
   "id": "4155f4b8",
   "metadata": {},
   "outputs": [
    {
     "data": {
      "text/html": [
       "0"
      ],
      "text/latex": [
       "0"
      ],
      "text/markdown": [
       "0"
      ],
      "text/plain": [
       "[1] 0"
      ]
     },
     "metadata": {},
     "output_type": "display_data"
    }
   ],
   "source": [
    "unique(dat_ccre$Score)"
   ]
  },
  {
   "cell_type": "code",
   "execution_count": 8,
   "id": "bee9e03d",
   "metadata": {},
   "outputs": [
    {
     "data": {
      "text/html": [
       "<style>\n",
       ".list-inline {list-style: none; margin:0; padding: 0}\n",
       ".list-inline>li {display: inline-block}\n",
       ".list-inline>li:not(:last-child)::after {content: \"\\00b7\"; padding: 0 .5ex}\n",
       "</style>\n",
       "<ol class=list-inline><li>'DNase-only'</li><li>'Low-DNase'</li><li>'PLS,CTCF-bound'</li><li>'PLS'</li><li>'pELS'</li><li>'CTCF-only,CTCF-bound'</li><li>'DNase-H3K4me3'</li><li>'DNase-H3K4me3,CTCF-bound'</li><li>'pELS,CTCF-bound'</li><li>'dELS'</li><li>'dELS,CTCF-bound'</li></ol>\n"
      ],
      "text/latex": [
       "\\begin{enumerate*}\n",
       "\\item 'DNase-only'\n",
       "\\item 'Low-DNase'\n",
       "\\item 'PLS,CTCF-bound'\n",
       "\\item 'PLS'\n",
       "\\item 'pELS'\n",
       "\\item 'CTCF-only,CTCF-bound'\n",
       "\\item 'DNase-H3K4me3'\n",
       "\\item 'DNase-H3K4me3,CTCF-bound'\n",
       "\\item 'pELS,CTCF-bound'\n",
       "\\item 'dELS'\n",
       "\\item 'dELS,CTCF-bound'\n",
       "\\end{enumerate*}\n"
      ],
      "text/markdown": [
       "1. 'DNase-only'\n",
       "2. 'Low-DNase'\n",
       "3. 'PLS,CTCF-bound'\n",
       "4. 'PLS'\n",
       "5. 'pELS'\n",
       "6. 'CTCF-only,CTCF-bound'\n",
       "7. 'DNase-H3K4me3'\n",
       "8. 'DNase-H3K4me3,CTCF-bound'\n",
       "9. 'pELS,CTCF-bound'\n",
       "10. 'dELS'\n",
       "11. 'dELS,CTCF-bound'\n",
       "\n",
       "\n"
      ],
      "text/plain": [
       " [1] \"DNase-only\"               \"Low-DNase\"               \n",
       " [3] \"PLS,CTCF-bound\"           \"PLS\"                     \n",
       " [5] \"pELS\"                     \"CTCF-only,CTCF-bound\"    \n",
       " [7] \"DNase-H3K4me3\"            \"DNase-H3K4me3,CTCF-bound\"\n",
       " [9] \"pELS,CTCF-bound\"          \"dELS\"                    \n",
       "[11] \"dELS,CTCF-bound\"         "
      ]
     },
     "metadata": {},
     "output_type": "display_data"
    }
   ],
   "source": [
    "unique(dat_ccre$Label1)"
   ]
  },
  {
   "cell_type": "code",
   "execution_count": null,
   "id": "4d56379d",
   "metadata": {},
   "outputs": [],
   "source": []
  }
 ],
 "metadata": {
  "kernelspec": {
   "display_name": "R",
   "language": "R",
   "name": "ir"
  },
  "language_info": {
   "codemirror_mode": "r",
   "file_extension": ".r",
   "mimetype": "text/x-r-source",
   "name": "R",
   "pygments_lexer": "r",
   "version": "4.2.0"
  }
 },
 "nbformat": 4,
 "nbformat_minor": 5
}
