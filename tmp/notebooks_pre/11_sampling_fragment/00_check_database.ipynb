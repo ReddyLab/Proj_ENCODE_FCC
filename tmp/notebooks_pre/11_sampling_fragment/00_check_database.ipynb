{
 "cells": [
  {
   "cell_type": "code",
   "execution_count": 1,
   "id": "8b55c87f",
   "metadata": {},
   "outputs": [
    {
     "name": "stdout",
     "output_type": "stream",
     "text": [
      "You are in: Singularity | singularity_proj_combeffect\n",
      "    BASE DIRECTORY:     /mount/work\n",
      "    PATH OF SOURCE:     /mount/work/source\n",
      "    PATH OF EXECUTABLE: /mount/work/exe\n",
      "    PATH OF ANNOTATION: /mount/work/annotation\n",
      "    PATH OF PROJECT:    /mount/project\n",
      "    PATH OF RESULTS:    /mount/work/out/proj_combeffect_encode_fcc\n",
      "\n",
      "Library imported:\n",
      "    numpy, pandas, matplotlib.pyplot\n",
      "    os, sys, time, gzip, glob\n",
      "\n"
     ]
    }
   ],
   "source": [
    "### basic\n",
    "import sys\n",
    "sys.path.append('../')\n",
    "from config_sing import *\n",
    "show_env()\n",
    "\n",
    "### specific tools\n",
    "from collections import defaultdict\n",
    "from functools import reduce\n",
    "import itertools as it\n",
    "import math\n",
    "import random\n",
    "import sqlite3\n",
    "# https://stackoverflow.com/questions/49456158/integer-in-python-pandas-becomes-blob-binary-in-sqlite\n",
    "sqlite3.register_adapter(np.int64, lambda val: int(val))\n",
    "sqlite3.register_adapter(np.int32, lambda val: int(val))\n",
    "\n",
    "### file path of fragment database\n",
    "fdiry = os.path.join(FD_RES, \"KS91_K562_ASTARRseq\", 'database')\n",
    "fname = \"fragment_astarr_gata1.db\"\n",
    "FPATH_DB_ASTARR = os.path.join(fdiry, fname)\n",
    "\n",
    "fdiry = os.path.join(FD_RES, \"Tewhey_K562_TileMPRA\", 'database')\n",
    "fname = \"fragment_tilempra_gata1.db\"\n",
    "FPATH_DB_TMPRA = os.path.join(fdiry, fname)\n",
    "\n",
    "FPATHS_DB = [FPATH_DB_ASTARR, FPATH_DB_TMPRA]"
   ]
  },
  {
   "cell_type": "code",
   "execution_count": 2,
   "id": "4819ccf8",
   "metadata": {},
   "outputs": [
    {
     "name": "stdout",
     "output_type": "stream",
     "text": [
      "/mount/work/out/proj_combeffect_encode_fcc/KS91_K562_ASTARRseq/database/fragment_astarr_gata1.db\n",
      "[('Sample',), ('Motif',), ('Count',), ('Annotation',), ('Fragment',), ('Coverage',)]\n",
      "/mount/work/out/proj_combeffect_encode_fcc/Tewhey_K562_TileMPRA/database/fragment_tilempra_gata1.db\n",
      "[('Fragment',), ('Motif',), ('Count',), ('Annotation',)]\n"
     ]
    }
   ],
   "source": [
    "### set query\n",
    "query_out = \"\"\"\n",
    "    SELECT name \n",
    "    FROM sqlite_master \n",
    "    WHERE type = 'table';\n",
    "    \"\"\"\n",
    "\n",
    "### get table names\n",
    "for fpath_db in FPATHS_DB:\n",
    "    print(fpath_db)\n",
    "    with sqlite3.connect(fpath_db) as conn:\n",
    "        query  = query_out\n",
    "        cursor = conn.cursor()\n",
    "        cursor = cursor.execute(query)\n",
    "        rows   = cursor.fetchall()\n",
    "    print(rows)"
   ]
  },
  {
   "cell_type": "code",
   "execution_count": 4,
   "id": "f4346ad2",
   "metadata": {},
   "outputs": [
    {
     "data": {
      "text/plain": [
       "[('Input_rep1', 'Input', 'rep1', 358823),\n",
       " ('Input_rep2', 'Input', 'rep2', 461577),\n",
       " ('Input_rep3', 'Input', 'rep3', 496229),\n",
       " ('Input_rep4', 'Input', 'rep4', 464845),\n",
       " ('Input_rep5', 'Input', 'rep5', 454013),\n",
       " ('Input_rep6', 'Input', 'rep6', 409058),\n",
       " ('Output_rep1', 'Output', 'rep1', 505724),\n",
       " ('Output_rep2', 'Output', 'rep2', 686033),\n",
       " ('Output_rep3', 'Output', 'rep3', 441621),\n",
       " ('Output_rep4', 'Output', 'rep4', 739000)]"
      ]
     },
     "execution_count": 4,
     "metadata": {},
     "output_type": "execute_result"
    }
   ],
   "source": [
    "### set query\n",
    "query_out = \"\"\"\n",
    "    SELECT * FROM Sample\n",
    "    \"\"\"\n",
    "\n",
    "fpath_db = FPATH_DB_ASTARR\n",
    "with sqlite3.connect(fpath_db) as conn:\n",
    "    query  = query_out\n",
    "    cursor = conn.cursor()\n",
    "    cursor = cursor.execute(query)\n",
    "    rows   = cursor.fetchall()\n",
    "rows"
   ]
  }
 ],
 "metadata": {
  "kernelspec": {
   "display_name": "Python 3",
   "language": "python",
   "name": "python3"
  },
  "language_info": {
   "codemirror_mode": {
    "name": "ipython",
    "version": 3
   },
   "file_extension": ".py",
   "mimetype": "text/x-python",
   "name": "python",
   "nbconvert_exporter": "python",
   "pygments_lexer": "ipython3",
   "version": "3.7.6"
  }
 },
 "nbformat": 4,
 "nbformat_minor": 5
}
