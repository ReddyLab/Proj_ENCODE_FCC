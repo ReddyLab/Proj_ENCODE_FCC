{
 "cells": [
  {
   "cell_type": "code",
   "execution_count": 1,
   "id": "d5a7ef21-d2ac-4567-a145-615fa9bd3e80",
   "metadata": {},
   "outputs": [],
   "source": [
    "source ../config/config_duke.sh"
   ]
  },
  {
   "cell_type": "code",
   "execution_count": 2,
   "id": "6a274b37-07cf-4bc8-a373-8813a7119277",
   "metadata": {},
   "outputs": [
    {
     "name": "stdout",
     "output_type": "stream",
     "text": [
      "/data/reddylab/Alex/encode4_duke/data/starr_seq/fragments\n"
     ]
    }
   ],
   "source": [
    "echo ${FD_WGS_WSTARR}"
   ]
  },
  {
   "cell_type": "code",
   "execution_count": 3,
   "id": "56e4648b-bde2-4f4c-bfc9-88e87bcf5239",
   "metadata": {},
   "outputs": [
    {
     "name": "stdout",
     "output_type": "stream",
     "text": [
      "\u001b[0m\u001b[38;5;9mA001-input-K562-rep1.masked.dedup.fragments.counts.txt.gz\u001b[0m\n",
      "\u001b[38;5;9mA001-input-K562-rep2.masked.dedup.fragments.counts.txt.gz\u001b[0m\n",
      "\u001b[38;5;9mA001-input-K562-rep3.masked.dedup.fragments.counts.txt.gz\u001b[0m\n",
      "\u001b[38;5;9mA001-input-K562-rep4.masked.dedup.fragments.counts.txt.gz\u001b[0m\n",
      "\u001b[38;5;9mA001-K562-rep1.masked.dedup.fragments.bedpe.gz\u001b[0m\n",
      "\u001b[38;5;9mA001-K562-rep1.masked.dedup.fragments.counts.txt.gz\u001b[0m\n",
      "\u001b[38;5;9mA001-K562-rep2.masked.dedup.fragments.bedpe.gz\u001b[0m\n",
      "\u001b[38;5;9mA001-K562-rep2.masked.dedup.fragments.counts.txt.gz\u001b[0m\n",
      "\u001b[38;5;9mA001-K562-rep3.masked.dedup.fragments.bedpe.gz\u001b[0m\n",
      "\u001b[38;5;9mA001-K562-rep3.masked.dedup.fragments.counts.txt.gz\u001b[0m\n"
     ]
    }
   ],
   "source": [
    "ls ${FD_WGS_WSTARR}"
   ]
  },
  {
   "cell_type": "code",
   "execution_count": 5,
   "id": "2f937e3f-d1d1-4a34-8bb5-a2175c760d7f",
   "metadata": {},
   "outputs": [
    {
     "name": "stdout",
     "output_type": "stream",
     "text": [
      "/data/reddylab/Alex/encode4_duke/data/starr_seq/fragments/A001-input-K562-rep1.masked.dedup.fragments.counts.txt.gz\n",
      "/data/reddylab/Alex/encode4_duke/data/starr_seq/fragments/A001-input-K562-rep2.masked.dedup.fragments.counts.txt.gz\n",
      "/data/reddylab/Alex/encode4_duke/data/starr_seq/fragments/A001-input-K562-rep3.masked.dedup.fragments.counts.txt.gz\n",
      "/data/reddylab/Alex/encode4_duke/data/starr_seq/fragments/A001-input-K562-rep4.masked.dedup.fragments.counts.txt.gz\n",
      "/data/reddylab/Alex/encode4_duke/data/starr_seq/fragments/A001-K562-rep1.masked.dedup.fragments.counts.txt.gz\n",
      "/data/reddylab/Alex/encode4_duke/data/starr_seq/fragments/A001-K562-rep2.masked.dedup.fragments.counts.txt.gz\n",
      "/data/reddylab/Alex/encode4_duke/data/starr_seq/fragments/A001-K562-rep3.masked.dedup.fragments.counts.txt.gz\n"
     ]
    }
   ],
   "source": [
    "for FPATH in ${FP_WGS_WSTARR[@]}; do\n",
    "    echo ${FPATH}\n",
    "done"
   ]
  },
  {
   "cell_type": "code",
   "execution_count": null,
   "id": "4e0eee11-02a3-46fc-80a8-9ecad6148974",
   "metadata": {},
   "outputs": [],
   "source": []
  }
 ],
 "metadata": {
  "kernelspec": {
   "display_name": "Bash",
   "language": "bash",
   "name": "bash"
  },
  "language_info": {
   "codemirror_mode": "shell",
   "file_extension": ".sh",
   "mimetype": "text/x-sh",
   "name": "bash"
  }
 },
 "nbformat": 4,
 "nbformat_minor": 5
}
