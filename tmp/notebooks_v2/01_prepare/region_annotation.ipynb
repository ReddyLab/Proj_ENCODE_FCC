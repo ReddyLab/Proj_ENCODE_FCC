{
 "cells": [
  {
   "cell_type": "code",
   "execution_count": 1,
   "id": "404eaed3-096d-47c2-a1b2-fb976c442692",
   "metadata": {},
   "outputs": [
    {
     "name": "stdout",
     "output_type": "stream",
     "text": [
      "You are on Duke Server: HARDAC\n",
      "BASE DIRECTORY:     /gpfs/fs1/data/reddylab/Kuei\n",
      "PATH OF SOURCE:     /gpfs/fs1/data/reddylab/Kuei/source\n",
      "PATH OF EXECUTABLE: /gpfs/fs1/data/reddylab/Kuei/exe\n",
      "PATH OF ANNOTATION: /gpfs/fs1/data/reddylab/Kuei/annotation\n",
      "PATH OF PROJECT:    /gpfs/fs1/data/reddylab/Kuei/GitRepo/Proj_CombEffect_ENCODE_FCC/notebooks\n",
      "PATH OF RESULTS:    /gpfs/fs1/data/reddylab/Kuei/out/proj_combeffect_encode_fcc\n",
      "\n"
     ]
    }
   ],
   "source": [
    "source ../config/config_duke.sh\n",
    "show_env"
   ]
  },
  {
   "cell_type": "code",
   "execution_count": 2,
   "id": "95507065-20c6-4f0a-9b81-e2733d0c6a7f",
   "metadata": {},
   "outputs": [
    {
     "name": "stdout",
     "output_type": "stream",
     "text": [
      "\u001b[0m\u001b[38;5;27mA001_K562_wstarrseq_fragments\u001b[0m  \u001b[38;5;27mKS91_K562_astarrseq_fragments_220510\u001b[0m  Readme.md\n",
      "\u001b[38;5;27mannotation_cCREs\u001b[0m               \u001b[38;5;27mKS91_K562_astarrseq_peak_macs\u001b[0m         \u001b[38;5;27mtmp\u001b[0m\n",
      "\u001b[38;5;27mannotation_remap2022\u001b[0m           \u001b[38;5;27mMPRA\u001b[0m\n"
     ]
    }
   ],
   "source": [
    "ls ${FD_RES}/source"
   ]
  },
  {
   "cell_type": "code",
   "execution_count": 3,
   "id": "c0b966cf-890c-42d4-ae4a-b810775ccbef",
   "metadata": {},
   "outputs": [
    {
     "name": "stdout",
     "output_type": "stream",
     "text": [
      "ENCFF971AHO_ENCFF847JMY_ENCFF779QTH_ENCFF405AYC.7group.bed\n"
     ]
    }
   ],
   "source": [
    "ls ${FD_RES}/source/annotation_cCREs"
   ]
  },
  {
   "cell_type": "code",
   "execution_count": 4,
   "id": "d563a57a-c5b4-4c7e-bd41-d9c65b2556dd",
   "metadata": {},
   "outputs": [
    {
     "name": "stdout",
     "output_type": "stream",
     "text": [
      "\u001b[0m\u001b[38;5;9mremap2022_K562_all_macs2_hg38_v1_0.bed.gz\u001b[0m\n",
      "\u001b[38;5;9mremap2022_K562_crm_macs2_hg38_v1_0.bed.gz\u001b[0m\n",
      "\u001b[38;5;9mremap2022_K562_nr_macs2_hg38_v1_0.bed.gz\u001b[0m\n"
     ]
    }
   ],
   "source": [
    "ls ${FD_RES}/source/annotation_remap2022"
   ]
  },
  {
   "cell_type": "code",
   "execution_count": 5,
   "id": "1ffad8de-cf63-4c25-b78c-3ecee7c79f4e",
   "metadata": {},
   "outputs": [],
   "source": [
    "cp -R ${FD_RES}/source/annotation_cCREs ${FD_RES}/region"
   ]
  },
  {
   "cell_type": "code",
   "execution_count": 6,
   "id": "c1b1b4bf-2c38-4160-a749-fd2e7c629d82",
   "metadata": {},
   "outputs": [],
   "source": [
    "cp -R ${FD_RES}/source/annotation_remap2022 ${FD_RES}/region"
   ]
  },
  {
   "cell_type": "code",
   "execution_count": null,
   "id": "351f4f57-560c-4d64-b149-d9327ded844c",
   "metadata": {},
   "outputs": [],
   "source": []
  }
 ],
 "metadata": {
  "kernelspec": {
   "display_name": "Bash",
   "language": "bash",
   "name": "bash"
  },
  "language_info": {
   "codemirror_mode": "shell",
   "file_extension": ".sh",
   "mimetype": "text/x-sh",
   "name": "bash"
  }
 },
 "nbformat": 4,
 "nbformat_minor": 5
}
