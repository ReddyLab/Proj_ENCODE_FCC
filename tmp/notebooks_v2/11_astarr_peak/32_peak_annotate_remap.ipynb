{
 "cells": [
  {
   "cell_type": "markdown",
   "id": "e6f229be-3471-463e-980c-189c5a6b0522",
   "metadata": {},
   "source": [
    "**Set environment**"
   ]
  },
  {
   "cell_type": "code",
   "execution_count": 2,
   "id": "4f868f4b-4e8d-46fa-b28f-690de8e51e0c",
   "metadata": {},
   "outputs": [
    {
     "name": "stdout",
     "output_type": "stream",
     "text": [
      "You are on Duke Server: HARDAC\n",
      "BASE DIRECTORY:     /gpfs/fs1/data/reddylab/Kuei\n",
      "PATH OF SOURCE:     /gpfs/fs1/data/reddylab/Kuei/source\n",
      "PATH OF EXECUTABLE: /gpfs/fs1/data/reddylab/Kuei/exe\n",
      "PATH OF ANNOTATION: /gpfs/fs1/data/reddylab/Kuei/annotation\n",
      "PATH OF PROJECT:    /gpfs/fs1/data/reddylab/Kuei/GitRepo/Proj_CombEffect_ENCODE_FCC/notebooks\n",
      "PATH OF RESULTS:    /gpfs/fs1/data/reddylab/Kuei/out/proj_combeffect_encode_fcc\n",
      "\n"
     ]
    }
   ],
   "source": [
    "### set env\n",
    "source ../config/config_duke.sh\n",
    "source ../config/config_load_module_bedtools.sh\n",
    "show_env"
   ]
  },
  {
   "cell_type": "markdown",
   "id": "863f749d-192b-4e59-8772-5df510d86b7a",
   "metadata": {},
   "source": [
    "**TEST**"
   ]
  },
  {
   "cell_type": "code",
   "execution_count": 3,
   "id": "ae1366f3-6c4a-437c-b829-829fec5af1a4",
   "metadata": {},
   "outputs": [
    {
     "name": "stdout",
     "output_type": "stream",
     "text": [
      "\u001b[0m\u001b[38;5;27mannotation_cCREs\u001b[0m  \u001b[38;5;27mannotation_remap2022\u001b[0m  \u001b[38;5;27mKS91_K562_astarrseq_peak_macs\u001b[0m\n"
     ]
    }
   ],
   "source": [
    "ls ${FD_RES}/region"
   ]
  },
  {
   "cell_type": "code",
   "execution_count": 4,
   "id": "bd43b751-941c-4bc3-a830-8e5d47c1db61",
   "metadata": {},
   "outputs": [
    {
     "name": "stdout",
     "output_type": "stream",
     "text": [
      "KS91_K562_hg38_ASTARRseq_Input.all_reps.masked.union_narrowPeak.q5.bed\n",
      "\u001b[0m\u001b[38;5;9mKS91_K562_hg38_ASTARRseq_Input.all_reps.masked.union_narrowPeak.q5.ccre_all.bed.gz\u001b[0m\u001b[K\n",
      "\u001b[38;5;9mKS91_K562_hg38_ASTARRseq_Input.all_reps.masked.union_narrowPeak.q5.nuc.bed.gz\u001b[0m\n"
     ]
    }
   ],
   "source": [
    "ls ${FD_RES}/region/KS91_K562_astarrseq_peak_macs"
   ]
  },
  {
   "cell_type": "code",
   "execution_count": 5,
   "id": "da22020d-5ab3-4fec-b66c-c8fa4a929aa1",
   "metadata": {},
   "outputs": [
    {
     "name": "stdout",
     "output_type": "stream",
     "text": [
      "\u001b[0m\u001b[38;5;9mremap2022_K562_all_macs2_hg38_v1_0.bed.gz\u001b[0m\n",
      "\u001b[38;5;9mremap2022_K562_crm_macs2_hg38_v1_0.bed.gz\u001b[0m\n",
      "\u001b[38;5;9mremap2022_K562_nr_macs2_hg38_v1_0.bed.gz\u001b[0m\n"
     ]
    }
   ],
   "source": [
    "ls ${FD_RES}/region/annotation_remap2022"
   ]
  },
  {
   "cell_type": "markdown",
   "id": "19b12aed-0cd1-4e33-814a-664541bcc562",
   "metadata": {},
   "source": [
    "## Annotation with CCRE"
   ]
  },
  {
   "cell_type": "code",
   "execution_count": 11,
   "id": "4d28b50e-06bd-4f27-a363-a54c4c0a452a",
   "metadata": {},
   "outputs": [
    {
     "name": "stdout",
     "output_type": "stream",
     "text": [
      "Submitted batch job 29160140\n"
     ]
    }
   ],
   "source": [
    "sbatch -p ${NODE} \\\n",
    "    --exclude=dl-01 \\\n",
    "    --cpus-per-task 8 \\\n",
    "    --mem 20G \\\n",
    "    --output ${FD_LOG}/annotation_astarr_peak_macs_input_remap.txt \\\n",
    "    --array 0 \\\n",
    "    <<'EOF'\n",
    "#!/bin/bash\n",
    "### set directories & global variables\n",
    "source ../config/config_duke.sh\n",
    "\n",
    "### set input and output\n",
    "FD_BED=${FD_RES}/region/KS91_K562_astarrseq_peak_macs\n",
    "FN_BED=KS91_K562_hg38_ASTARRseq_Input.all_reps.masked.union_narrowPeak.q5.bed\n",
    "FP_BED=${FD_BED}/${FN_BED}\n",
    "\n",
    "FD_ANN=${FD_RES}/region/annotation_remap2022\n",
    "FN_ANN=remap2022_K562_nr_macs2_hg38_v1_0.bed.gz\n",
    "FP_ANN=${FD_ANN}/${FN_ANN}\n",
    "\n",
    "FD_OUT=${FD_RES}/region/KS91_K562_astarrseq_peak_macs\n",
    "FN_OUT=KS91_K562_hg38_ASTARRseq_Input.all_reps.masked.union_narrowPeak.q5.remap2022_nr.bed.gz\n",
    "FP_OUT=${FD_OUT}/${FN_OUT}\n",
    "\n",
    "### print start message\n",
    "timer_start=`date +%s`\n",
    "echo \"Hostname:          \" $(hostname)\n",
    "echo \"Slurm Array Index: \" ${SLURM_ARRAY_TASK_ID}\n",
    "echo \"Time Stamp:        \" $(date +\"%m-%d-%y+%T\")\n",
    "echo\n",
    "\n",
    "### show I/O file\n",
    "echo \"Input: \" ${FP_BED}\n",
    "echo\n",
    "echo \"show first few lines of input\"\n",
    "cat ${FP_BED} | head -5\n",
    "echo\n",
    "echo \"Input: \" ${FP_ANN}\n",
    "echo\n",
    "echo \"show first few lines of input\"\n",
    "zcat ${FP_ANN} | head -5\n",
    "echo\n",
    "\n",
    "### init: create output folder if not exist\n",
    "mkdir -p ${FD_OUT}\n",
    "\n",
    "### annotation using intersect\n",
    "bedtools intersect -a ${FP_BED} -b ${FP_ANN} -wo -F 1.0 | gzip -c > ${FP_OUT}\n",
    "\n",
    "### show output file\n",
    "echo\n",
    "echo \"Output: \" ${FP_OUT}\n",
    "echo\n",
    "echo \"show first few lines of output:\"\n",
    "zcat ${FP_OUT} | head -5\n",
    "echo\n",
    "\n",
    "### print end message\n",
    "timer=`date +%s`\n",
    "runtime=$(echo \"${timer} - ${timer_start}\" | bc -l)\n",
    "echo\n",
    "echo 'Done!'\n",
    "echo \"Run Time: $(displaytime ${runtime})\"\n",
    "\n",
    "EOF"
   ]
  },
  {
   "cell_type": "markdown",
   "id": "d77621d9-980c-48d9-85aa-a6e875a70a67",
   "metadata": {},
   "source": [
    "**CHECK**"
   ]
  },
  {
   "cell_type": "code",
   "execution_count": 12,
   "id": "03034d88-82a3-4754-a971-0ca2da3b62c6",
   "metadata": {},
   "outputs": [
    {
     "name": "stdout",
     "output_type": "stream",
     "text": [
      "Hostname:           x1-01-3.genome.duke.edu\n",
      "Slurm Array Index:  0\n",
      "Time Stamp:         10-17-22+10:32:28\n",
      "\n",
      "Input:  /gpfs/fs1/data/reddylab/Kuei/out/proj_combeffect_encode_fcc/region/KS91_K562_astarrseq_peak_macs/KS91_K562_hg38_ASTARRseq_Input.all_reps.masked.union_narrowPeak.q5.bed\n",
      "\n",
      "show first few lines of input\n",
      "chr1\t10015\t10442\n",
      "chr1\t14253\t14645\n",
      "chr1\t16015\t16477\n",
      "chr1\t17237\t17772\n",
      "chr1\t28903\t29613\n",
      "\n",
      "Input:  /gpfs/fs1/data/reddylab/Kuei/out/proj_combeffect_encode_fcc/region/annotation_remap2022/remap2022_K562_nr_macs2_hg38_v1_0.bed.gz\n",
      "\n",
      "show first few lines of input\n",
      "chr1\t9899\t10349\tEP400:K-562\t1\t.\t10089\t10090\t102,132,184\n",
      "chr1\t9901\t10232\tNCOA1:K-562\t1\t.\t10078\t10079\t56,224,224\n",
      "chr1\t9902\t10328\tZBTB40:MCF-7,Hep-G2,K-562,GM12878\t4\t.\t10093\t10094\t73,149,46\n",
      "chr1\t9905\t10132\tAFF1:K-562\t1\t.\t10088\t10089\t11,34,77\n",
      "chr1\t9905\t10288\tZNF184:K-562\t1\t.\t10104\t10105\t157,198,124\n",
      "\n",
      "\n",
      "Output:  /gpfs/fs1/data/reddylab/Kuei/out/proj_combeffect_encode_fcc/region/KS91_K562_astarrseq_peak_macs/KS91_K562_hg38_ASTARRseq_Input.all_reps.masked.union_narrowPeak.q5.remap2022_nr.bed.gz\n",
      "\n",
      "show first few lines of output:\n",
      "chr1\t10015\t10442\tchr1\t10016\t10229\tZBTB5:K-562\t1\t.\t10108\t10109\t215,95,8\t213\n",
      "chr1\t136071\t137429\tchr1\t136239\t136897\tZBTB33:K-562\t1\t.\t136734\t136735\t252,224,252\t658\n",
      "chr1\t136071\t137429\tchr1\t136277\t137062\tEGR1:K-562\t2\t.\t136757\t136758\t56,224,140\t785\n",
      "chr1\t136071\t137429\tchr1\t136281\t137167\tZNF639:K-562\t1\t.\t136754\t136755\t224,112,112\t886\n",
      "chr1\t136071\t137429\tchr1\t136332\t136968\tTRIM24:K-562\t2\t.\t136803\t136804\t252,56,252\t636\n",
      "\n",
      "\n",
      "Done!\n",
      "Run Time: 53 seconds\n"
     ]
    }
   ],
   "source": [
    "cat ${FD_LOG}/annotation_astarr_peak_macs_input_remap.txt"
   ]
  },
  {
   "cell_type": "code",
   "execution_count": null,
   "id": "00dc5933-8438-4b06-abb3-3034689c0cf1",
   "metadata": {},
   "outputs": [],
   "source": []
  }
 ],
 "metadata": {
  "kernelspec": {
   "display_name": "Bash",
   "language": "bash",
   "name": "bash"
  },
  "language_info": {
   "codemirror_mode": "shell",
   "file_extension": ".sh",
   "mimetype": "text/x-sh",
   "name": "bash"
  }
 },
 "nbformat": 4,
 "nbformat_minor": 5
}
