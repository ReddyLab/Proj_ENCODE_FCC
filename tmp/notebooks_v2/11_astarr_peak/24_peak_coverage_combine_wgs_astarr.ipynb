{
 "cells": [
  {
   "cell_type": "markdown",
   "id": "ba72941f",
   "metadata": {},
   "source": [
    "**Set environment**"
   ]
  },
  {
   "cell_type": "code",
   "execution_count": 1,
   "id": "b6479ee7",
   "metadata": {},
   "outputs": [
    {
     "name": "stdout",
     "output_type": "stream",
     "text": [
      "You are in Singularity: singularity_proj_combeffect \n",
      "BASE DIRECTORY:     /mount/work \n",
      "PATH OF SOURCE:     /mount/work/source \n",
      "PATH OF EXECUTABLE: /mount/work/exe \n",
      "PATH OF ANNOTATION: /mount/work/annotation \n",
      "PATH OF PROJECT:    /mount/project \n",
      "PATH OF RESULTS:    /mount/work/out/proj_combeffect_encode_fcc \n"
     ]
    }
   ],
   "source": [
    "suppressMessages(suppressWarnings(source(\"../config/config_sing.R\")))\n",
    "show_env()"
   ]
  },
  {
   "cell_type": "markdown",
   "id": "8d8e2414",
   "metadata": {},
   "source": [
    "## Helper function"
   ]
  },
  {
   "cell_type": "code",
   "execution_count": 2,
   "id": "7a1d97f4",
   "metadata": {},
   "outputs": [],
   "source": [
    "PREFIX  = \"KS91_K562_ASTARRseq\"\n",
    "\n",
    "GROUPS  = c(\"Input\", \"Output\")\n",
    "\n",
    "SAMPLES = c(\n",
    "    paste0(\"Input_rep\",  1:6),\n",
    "    paste0(\"Output_rep\", 1:4))\n",
    "\n",
    "CNAMES = c(\"Chrom\", \"Start\", \"End\", \"Count\")\n",
    "\n",
    "get_info = function(fpath, strings){\n",
    "    idx = str_detect(string = fpath, pattern = strings)\n",
    "    return(strings[idx])\n",
    "}\n",
    "\n",
    "get_group  = function(fpath){return(get_info(fpath, GROUPS))}\n",
    "get_sample = function(fpath){return(get_info(fpath, SAMPLES))}"
   ]
  },
  {
   "cell_type": "markdown",
   "id": "f04dcaa3",
   "metadata": {},
   "source": [
    "## Get file paths and set metadata"
   ]
  },
  {
   "cell_type": "code",
   "execution_count": 3,
   "id": "607bd362",
   "metadata": {},
   "outputs": [
    {
     "name": "stdout",
     "output_type": "stream",
     "text": [
      "[1] \"/mount/work/out/proj_combeffect_encode_fcc/KS91_K562_ASTARRseq/coverage_astarrseq_peak_macs_input/KS91_K562_hg38_ASTARRseq_Input_rep1.masked.dedup.fragments.counts.txt.gz\"\n",
      "[1] \"Input\"\n",
      "[1] \"Input_rep1\"\n",
      "[1] \"/mount/work/out/proj_combeffect_encode_fcc/KS91_K562_ASTARRseq/coverage_astarrseq_peak_macs_input/KS91_K562_hg38_ASTARRseq_Input_rep2.masked.dedup.fragments.counts.txt.gz\"\n",
      "[1] \"Input\"\n",
      "[1] \"Input_rep2\"\n",
      "[1] \"/mount/work/out/proj_combeffect_encode_fcc/KS91_K562_ASTARRseq/coverage_astarrseq_peak_macs_input/KS91_K562_hg38_ASTARRseq_Input_rep3.masked.dedup.fragments.counts.txt.gz\"\n",
      "[1] \"Input\"\n",
      "[1] \"Input_rep3\"\n",
      "[1] \"/mount/work/out/proj_combeffect_encode_fcc/KS91_K562_ASTARRseq/coverage_astarrseq_peak_macs_input/KS91_K562_hg38_ASTARRseq_Input_rep4.masked.dedup.fragments.counts.txt.gz\"\n",
      "[1] \"Input\"\n",
      "[1] \"Input_rep4\"\n",
      "[1] \"/mount/work/out/proj_combeffect_encode_fcc/KS91_K562_ASTARRseq/coverage_astarrseq_peak_macs_input/KS91_K562_hg38_ASTARRseq_Input_rep5.masked.dedup.fragments.counts.txt.gz\"\n",
      "[1] \"Input\"\n",
      "[1] \"Input_rep5\"\n",
      "[1] \"/mount/work/out/proj_combeffect_encode_fcc/KS91_K562_ASTARRseq/coverage_astarrseq_peak_macs_input/KS91_K562_hg38_ASTARRseq_Input_rep6.masked.dedup.fragments.counts.txt.gz\"\n",
      "[1] \"Input\"\n",
      "[1] \"Input_rep6\"\n",
      "[1] \"/mount/work/out/proj_combeffect_encode_fcc/KS91_K562_ASTARRseq/coverage_astarrseq_peak_macs_input/KS91_K562_hg38_ASTARRseq_Output_rep1.f3q10.fragments.counts.txt.gz\"\n",
      "[1] \"Output\"\n",
      "[1] \"Output_rep1\"\n",
      "[1] \"/mount/work/out/proj_combeffect_encode_fcc/KS91_K562_ASTARRseq/coverage_astarrseq_peak_macs_input/KS91_K562_hg38_ASTARRseq_Output_rep2.f3q10.fragments.counts.txt.gz\"\n",
      "[1] \"Output\"\n",
      "[1] \"Output_rep2\"\n",
      "[1] \"/mount/work/out/proj_combeffect_encode_fcc/KS91_K562_ASTARRseq/coverage_astarrseq_peak_macs_input/KS91_K562_hg38_ASTARRseq_Output_rep3.f3q10.fragments.counts.txt.gz\"\n",
      "[1] \"Output\"\n",
      "[1] \"Output_rep3\"\n",
      "[1] \"/mount/work/out/proj_combeffect_encode_fcc/KS91_K562_ASTARRseq/coverage_astarrseq_peak_macs_input/KS91_K562_hg38_ASTARRseq_Output_rep4.f3q10.fragments.counts.txt.gz\"\n",
      "[1] \"Output\"\n",
      "[1] \"Output_rep4\"\n"
     ]
    }
   ],
   "source": [
    "PREFIX = \"KS91_K562_ASTARRseq\"\n",
    "FOLDER = \"coverage_astarrseq_peak_macs_input\"\n",
    "fglob  = file.path(FD_RES, PREFIX, FOLDER, \"*counts.txt.gz\")\n",
    "fpaths = Sys.glob(fglob)\n",
    "for (fpath in fpaths){\n",
    "    print(fpath)\n",
    "    print(get_group(fpath))\n",
    "    print(get_sample(fpath))\n",
    "}"
   ]
  },
  {
   "cell_type": "code",
   "execution_count": 4,
   "id": "1734301b",
   "metadata": {},
   "outputs": [
    {
     "data": {
      "text/html": [
       "<table class=\"dataframe\">\n",
       "<caption>A data.frame: 10 × 3</caption>\n",
       "<thead>\n",
       "\t<tr><th></th><th scope=col>Sample</th><th scope=col>Group</th><th scope=col>FPath</th></tr>\n",
       "\t<tr><th></th><th scope=col>&lt;chr&gt;</th><th scope=col>&lt;chr&gt;</th><th scope=col>&lt;chr&gt;</th></tr>\n",
       "</thead>\n",
       "<tbody>\n",
       "\t<tr><th scope=row>Input_rep1</th><td>Input_rep1 </td><td>Input </td><td>/mount/work/out/proj_combeffect_encode_fcc/KS91_K562_ASTARRseq/coverage_astarrseq_peak_macs_input/KS91_K562_hg38_ASTARRseq_Input_rep1.masked.dedup.fragments.counts.txt.gz</td></tr>\n",
       "\t<tr><th scope=row>Input_rep2</th><td>Input_rep2 </td><td>Input </td><td>/mount/work/out/proj_combeffect_encode_fcc/KS91_K562_ASTARRseq/coverage_astarrseq_peak_macs_input/KS91_K562_hg38_ASTARRseq_Input_rep2.masked.dedup.fragments.counts.txt.gz</td></tr>\n",
       "\t<tr><th scope=row>Input_rep3</th><td>Input_rep3 </td><td>Input </td><td>/mount/work/out/proj_combeffect_encode_fcc/KS91_K562_ASTARRseq/coverage_astarrseq_peak_macs_input/KS91_K562_hg38_ASTARRseq_Input_rep3.masked.dedup.fragments.counts.txt.gz</td></tr>\n",
       "\t<tr><th scope=row>Input_rep4</th><td>Input_rep4 </td><td>Input </td><td>/mount/work/out/proj_combeffect_encode_fcc/KS91_K562_ASTARRseq/coverage_astarrseq_peak_macs_input/KS91_K562_hg38_ASTARRseq_Input_rep4.masked.dedup.fragments.counts.txt.gz</td></tr>\n",
       "\t<tr><th scope=row>Input_rep5</th><td>Input_rep5 </td><td>Input </td><td>/mount/work/out/proj_combeffect_encode_fcc/KS91_K562_ASTARRseq/coverage_astarrseq_peak_macs_input/KS91_K562_hg38_ASTARRseq_Input_rep5.masked.dedup.fragments.counts.txt.gz</td></tr>\n",
       "\t<tr><th scope=row>Input_rep6</th><td>Input_rep6 </td><td>Input </td><td>/mount/work/out/proj_combeffect_encode_fcc/KS91_K562_ASTARRseq/coverage_astarrseq_peak_macs_input/KS91_K562_hg38_ASTARRseq_Input_rep6.masked.dedup.fragments.counts.txt.gz</td></tr>\n",
       "\t<tr><th scope=row>Output_rep1</th><td>Output_rep1</td><td>Output</td><td>/mount/work/out/proj_combeffect_encode_fcc/KS91_K562_ASTARRseq/coverage_astarrseq_peak_macs_input/KS91_K562_hg38_ASTARRseq_Output_rep1.f3q10.fragments.counts.txt.gz      </td></tr>\n",
       "\t<tr><th scope=row>Output_rep2</th><td>Output_rep2</td><td>Output</td><td>/mount/work/out/proj_combeffect_encode_fcc/KS91_K562_ASTARRseq/coverage_astarrseq_peak_macs_input/KS91_K562_hg38_ASTARRseq_Output_rep2.f3q10.fragments.counts.txt.gz      </td></tr>\n",
       "\t<tr><th scope=row>Output_rep3</th><td>Output_rep3</td><td>Output</td><td>/mount/work/out/proj_combeffect_encode_fcc/KS91_K562_ASTARRseq/coverage_astarrseq_peak_macs_input/KS91_K562_hg38_ASTARRseq_Output_rep3.f3q10.fragments.counts.txt.gz      </td></tr>\n",
       "\t<tr><th scope=row>Output_rep4</th><td>Output_rep4</td><td>Output</td><td>/mount/work/out/proj_combeffect_encode_fcc/KS91_K562_ASTARRseq/coverage_astarrseq_peak_macs_input/KS91_K562_hg38_ASTARRseq_Output_rep4.f3q10.fragments.counts.txt.gz      </td></tr>\n",
       "</tbody>\n",
       "</table>\n"
      ],
      "text/latex": [
       "A data.frame: 10 × 3\n",
       "\\begin{tabular}{r|lll}\n",
       "  & Sample & Group & FPath\\\\\n",
       "  & <chr> & <chr> & <chr>\\\\\n",
       "\\hline\n",
       "\tInput\\_rep1 & Input\\_rep1  & Input  & /mount/work/out/proj\\_combeffect\\_encode\\_fcc/KS91\\_K562\\_ASTARRseq/coverage\\_astarrseq\\_peak\\_macs\\_input/KS91\\_K562\\_hg38\\_ASTARRseq\\_Input\\_rep1.masked.dedup.fragments.counts.txt.gz\\\\\n",
       "\tInput\\_rep2 & Input\\_rep2  & Input  & /mount/work/out/proj\\_combeffect\\_encode\\_fcc/KS91\\_K562\\_ASTARRseq/coverage\\_astarrseq\\_peak\\_macs\\_input/KS91\\_K562\\_hg38\\_ASTARRseq\\_Input\\_rep2.masked.dedup.fragments.counts.txt.gz\\\\\n",
       "\tInput\\_rep3 & Input\\_rep3  & Input  & /mount/work/out/proj\\_combeffect\\_encode\\_fcc/KS91\\_K562\\_ASTARRseq/coverage\\_astarrseq\\_peak\\_macs\\_input/KS91\\_K562\\_hg38\\_ASTARRseq\\_Input\\_rep3.masked.dedup.fragments.counts.txt.gz\\\\\n",
       "\tInput\\_rep4 & Input\\_rep4  & Input  & /mount/work/out/proj\\_combeffect\\_encode\\_fcc/KS91\\_K562\\_ASTARRseq/coverage\\_astarrseq\\_peak\\_macs\\_input/KS91\\_K562\\_hg38\\_ASTARRseq\\_Input\\_rep4.masked.dedup.fragments.counts.txt.gz\\\\\n",
       "\tInput\\_rep5 & Input\\_rep5  & Input  & /mount/work/out/proj\\_combeffect\\_encode\\_fcc/KS91\\_K562\\_ASTARRseq/coverage\\_astarrseq\\_peak\\_macs\\_input/KS91\\_K562\\_hg38\\_ASTARRseq\\_Input\\_rep5.masked.dedup.fragments.counts.txt.gz\\\\\n",
       "\tInput\\_rep6 & Input\\_rep6  & Input  & /mount/work/out/proj\\_combeffect\\_encode\\_fcc/KS91\\_K562\\_ASTARRseq/coverage\\_astarrseq\\_peak\\_macs\\_input/KS91\\_K562\\_hg38\\_ASTARRseq\\_Input\\_rep6.masked.dedup.fragments.counts.txt.gz\\\\\n",
       "\tOutput\\_rep1 & Output\\_rep1 & Output & /mount/work/out/proj\\_combeffect\\_encode\\_fcc/KS91\\_K562\\_ASTARRseq/coverage\\_astarrseq\\_peak\\_macs\\_input/KS91\\_K562\\_hg38\\_ASTARRseq\\_Output\\_rep1.f3q10.fragments.counts.txt.gz      \\\\\n",
       "\tOutput\\_rep2 & Output\\_rep2 & Output & /mount/work/out/proj\\_combeffect\\_encode\\_fcc/KS91\\_K562\\_ASTARRseq/coverage\\_astarrseq\\_peak\\_macs\\_input/KS91\\_K562\\_hg38\\_ASTARRseq\\_Output\\_rep2.f3q10.fragments.counts.txt.gz      \\\\\n",
       "\tOutput\\_rep3 & Output\\_rep3 & Output & /mount/work/out/proj\\_combeffect\\_encode\\_fcc/KS91\\_K562\\_ASTARRseq/coverage\\_astarrseq\\_peak\\_macs\\_input/KS91\\_K562\\_hg38\\_ASTARRseq\\_Output\\_rep3.f3q10.fragments.counts.txt.gz      \\\\\n",
       "\tOutput\\_rep4 & Output\\_rep4 & Output & /mount/work/out/proj\\_combeffect\\_encode\\_fcc/KS91\\_K562\\_ASTARRseq/coverage\\_astarrseq\\_peak\\_macs\\_input/KS91\\_K562\\_hg38\\_ASTARRseq\\_Output\\_rep4.f3q10.fragments.counts.txt.gz      \\\\\n",
       "\\end{tabular}\n"
      ],
      "text/markdown": [
       "\n",
       "A data.frame: 10 × 3\n",
       "\n",
       "| <!--/--> | Sample &lt;chr&gt; | Group &lt;chr&gt; | FPath &lt;chr&gt; |\n",
       "|---|---|---|---|\n",
       "| Input_rep1 | Input_rep1  | Input  | /mount/work/out/proj_combeffect_encode_fcc/KS91_K562_ASTARRseq/coverage_astarrseq_peak_macs_input/KS91_K562_hg38_ASTARRseq_Input_rep1.masked.dedup.fragments.counts.txt.gz |\n",
       "| Input_rep2 | Input_rep2  | Input  | /mount/work/out/proj_combeffect_encode_fcc/KS91_K562_ASTARRseq/coverage_astarrseq_peak_macs_input/KS91_K562_hg38_ASTARRseq_Input_rep2.masked.dedup.fragments.counts.txt.gz |\n",
       "| Input_rep3 | Input_rep3  | Input  | /mount/work/out/proj_combeffect_encode_fcc/KS91_K562_ASTARRseq/coverage_astarrseq_peak_macs_input/KS91_K562_hg38_ASTARRseq_Input_rep3.masked.dedup.fragments.counts.txt.gz |\n",
       "| Input_rep4 | Input_rep4  | Input  | /mount/work/out/proj_combeffect_encode_fcc/KS91_K562_ASTARRseq/coverage_astarrseq_peak_macs_input/KS91_K562_hg38_ASTARRseq_Input_rep4.masked.dedup.fragments.counts.txt.gz |\n",
       "| Input_rep5 | Input_rep5  | Input  | /mount/work/out/proj_combeffect_encode_fcc/KS91_K562_ASTARRseq/coverage_astarrseq_peak_macs_input/KS91_K562_hg38_ASTARRseq_Input_rep5.masked.dedup.fragments.counts.txt.gz |\n",
       "| Input_rep6 | Input_rep6  | Input  | /mount/work/out/proj_combeffect_encode_fcc/KS91_K562_ASTARRseq/coverage_astarrseq_peak_macs_input/KS91_K562_hg38_ASTARRseq_Input_rep6.masked.dedup.fragments.counts.txt.gz |\n",
       "| Output_rep1 | Output_rep1 | Output | /mount/work/out/proj_combeffect_encode_fcc/KS91_K562_ASTARRseq/coverage_astarrseq_peak_macs_input/KS91_K562_hg38_ASTARRseq_Output_rep1.f3q10.fragments.counts.txt.gz       |\n",
       "| Output_rep2 | Output_rep2 | Output | /mount/work/out/proj_combeffect_encode_fcc/KS91_K562_ASTARRseq/coverage_astarrseq_peak_macs_input/KS91_K562_hg38_ASTARRseq_Output_rep2.f3q10.fragments.counts.txt.gz       |\n",
       "| Output_rep3 | Output_rep3 | Output | /mount/work/out/proj_combeffect_encode_fcc/KS91_K562_ASTARRseq/coverage_astarrseq_peak_macs_input/KS91_K562_hg38_ASTARRseq_Output_rep3.f3q10.fragments.counts.txt.gz       |\n",
       "| Output_rep4 | Output_rep4 | Output | /mount/work/out/proj_combeffect_encode_fcc/KS91_K562_ASTARRseq/coverage_astarrseq_peak_macs_input/KS91_K562_hg38_ASTARRseq_Output_rep4.f3q10.fragments.counts.txt.gz       |\n",
       "\n"
      ],
      "text/plain": [
       "            Sample      Group \n",
       "Input_rep1  Input_rep1  Input \n",
       "Input_rep2  Input_rep2  Input \n",
       "Input_rep3  Input_rep3  Input \n",
       "Input_rep4  Input_rep4  Input \n",
       "Input_rep5  Input_rep5  Input \n",
       "Input_rep6  Input_rep6  Input \n",
       "Output_rep1 Output_rep1 Output\n",
       "Output_rep2 Output_rep2 Output\n",
       "Output_rep3 Output_rep3 Output\n",
       "Output_rep4 Output_rep4 Output\n",
       "            FPath                                                                                                                                                                     \n",
       "Input_rep1  /mount/work/out/proj_combeffect_encode_fcc/KS91_K562_ASTARRseq/coverage_astarrseq_peak_macs_input/KS91_K562_hg38_ASTARRseq_Input_rep1.masked.dedup.fragments.counts.txt.gz\n",
       "Input_rep2  /mount/work/out/proj_combeffect_encode_fcc/KS91_K562_ASTARRseq/coverage_astarrseq_peak_macs_input/KS91_K562_hg38_ASTARRseq_Input_rep2.masked.dedup.fragments.counts.txt.gz\n",
       "Input_rep3  /mount/work/out/proj_combeffect_encode_fcc/KS91_K562_ASTARRseq/coverage_astarrseq_peak_macs_input/KS91_K562_hg38_ASTARRseq_Input_rep3.masked.dedup.fragments.counts.txt.gz\n",
       "Input_rep4  /mount/work/out/proj_combeffect_encode_fcc/KS91_K562_ASTARRseq/coverage_astarrseq_peak_macs_input/KS91_K562_hg38_ASTARRseq_Input_rep4.masked.dedup.fragments.counts.txt.gz\n",
       "Input_rep5  /mount/work/out/proj_combeffect_encode_fcc/KS91_K562_ASTARRseq/coverage_astarrseq_peak_macs_input/KS91_K562_hg38_ASTARRseq_Input_rep5.masked.dedup.fragments.counts.txt.gz\n",
       "Input_rep6  /mount/work/out/proj_combeffect_encode_fcc/KS91_K562_ASTARRseq/coverage_astarrseq_peak_macs_input/KS91_K562_hg38_ASTARRseq_Input_rep6.masked.dedup.fragments.counts.txt.gz\n",
       "Output_rep1 /mount/work/out/proj_combeffect_encode_fcc/KS91_K562_ASTARRseq/coverage_astarrseq_peak_macs_input/KS91_K562_hg38_ASTARRseq_Output_rep1.f3q10.fragments.counts.txt.gz      \n",
       "Output_rep2 /mount/work/out/proj_combeffect_encode_fcc/KS91_K562_ASTARRseq/coverage_astarrseq_peak_macs_input/KS91_K562_hg38_ASTARRseq_Output_rep2.f3q10.fragments.counts.txt.gz      \n",
       "Output_rep3 /mount/work/out/proj_combeffect_encode_fcc/KS91_K562_ASTARRseq/coverage_astarrseq_peak_macs_input/KS91_K562_hg38_ASTARRseq_Output_rep3.f3q10.fragments.counts.txt.gz      \n",
       "Output_rep4 /mount/work/out/proj_combeffect_encode_fcc/KS91_K562_ASTARRseq/coverage_astarrseq_peak_macs_input/KS91_K562_hg38_ASTARRseq_Output_rep4.f3q10.fragments.counts.txt.gz      "
      ]
     },
     "metadata": {},
     "output_type": "display_data"
    }
   ],
   "source": [
    "dat_meta = data.frame(\n",
    "    Sample = sapply(fpaths, get_sample),\n",
    "    Group  = sapply(fpaths, get_group),\n",
    "    FPath  = fpaths\n",
    ")\n",
    "rownames(dat_meta) = sapply(fpaths, get_sample)\n",
    "dat_meta"
   ]
  },
  {
   "cell_type": "markdown",
   "id": "22419722",
   "metadata": {},
   "source": [
    "## Import data and arrange into count matrix"
   ]
  },
  {
   "cell_type": "code",
   "execution_count": 5,
   "id": "ea38cab7",
   "metadata": {},
   "outputs": [
    {
     "data": {
      "text/html": [
       "<table class=\"dataframe\">\n",
       "<caption>A tibble: 6 × 14</caption>\n",
       "<thead>\n",
       "\t<tr><th scope=col>Chrom</th><th scope=col>Start</th><th scope=col>End</th><th scope=col>Peak</th><th scope=col>Input_rep1</th><th scope=col>Input_rep2</th><th scope=col>Input_rep3</th><th scope=col>Input_rep4</th><th scope=col>Input_rep5</th><th scope=col>Input_rep6</th><th scope=col>Output_rep1</th><th scope=col>Output_rep2</th><th scope=col>Output_rep3</th><th scope=col>Output_rep4</th></tr>\n",
       "\t<tr><th scope=col>&lt;chr&gt;</th><th scope=col>&lt;dbl&gt;</th><th scope=col>&lt;dbl&gt;</th><th scope=col>&lt;chr&gt;</th><th scope=col>&lt;int&gt;</th><th scope=col>&lt;int&gt;</th><th scope=col>&lt;int&gt;</th><th scope=col>&lt;int&gt;</th><th scope=col>&lt;int&gt;</th><th scope=col>&lt;int&gt;</th><th scope=col>&lt;int&gt;</th><th scope=col>&lt;int&gt;</th><th scope=col>&lt;int&gt;</th><th scope=col>&lt;int&gt;</th></tr>\n",
       "</thead>\n",
       "<tbody>\n",
       "\t<tr><td>chr1</td><td>10015</td><td>10442</td><td>chr1_10015_10442</td><td>155</td><td>214</td><td>257</td><td>236</td><td>185</td><td>214</td><td> 7</td><td>12</td><td> 4</td><td>11</td></tr>\n",
       "\t<tr><td>chr1</td><td>14253</td><td>14645</td><td>chr1_14253_14645</td><td>110</td><td>144</td><td>160</td><td>141</td><td>130</td><td>130</td><td> 8</td><td>26</td><td>30</td><td>57</td></tr>\n",
       "\t<tr><td>chr1</td><td>16015</td><td>16477</td><td>chr1_16015_16477</td><td>141</td><td>208</td><td>206</td><td>190</td><td>202</td><td>182</td><td> 9</td><td> 9</td><td>18</td><td>23</td></tr>\n",
       "\t<tr><td>chr1</td><td>17237</td><td>17772</td><td>chr1_17237_17772</td><td>259</td><td>350</td><td>399</td><td>367</td><td>369</td><td>331</td><td> 7</td><td>13</td><td>23</td><td>59</td></tr>\n",
       "\t<tr><td>chr1</td><td>28903</td><td>29613</td><td>chr1_28903_29613</td><td>263</td><td>338</td><td>368</td><td>333</td><td>352</td><td>317</td><td>12</td><td>18</td><td> 3</td><td>32</td></tr>\n",
       "\t<tr><td>chr1</td><td>30803</td><td>31072</td><td>chr1_30803_31072</td><td> 82</td><td>115</td><td>171</td><td>136</td><td>105</td><td>115</td><td>13</td><td>22</td><td>14</td><td>33</td></tr>\n",
       "</tbody>\n",
       "</table>\n"
      ],
      "text/latex": [
       "A tibble: 6 × 14\n",
       "\\begin{tabular}{llllllllllllll}\n",
       " Chrom & Start & End & Peak & Input\\_rep1 & Input\\_rep2 & Input\\_rep3 & Input\\_rep4 & Input\\_rep5 & Input\\_rep6 & Output\\_rep1 & Output\\_rep2 & Output\\_rep3 & Output\\_rep4\\\\\n",
       " <chr> & <dbl> & <dbl> & <chr> & <int> & <int> & <int> & <int> & <int> & <int> & <int> & <int> & <int> & <int>\\\\\n",
       "\\hline\n",
       "\t chr1 & 10015 & 10442 & chr1\\_10015\\_10442 & 155 & 214 & 257 & 236 & 185 & 214 &  7 & 12 &  4 & 11\\\\\n",
       "\t chr1 & 14253 & 14645 & chr1\\_14253\\_14645 & 110 & 144 & 160 & 141 & 130 & 130 &  8 & 26 & 30 & 57\\\\\n",
       "\t chr1 & 16015 & 16477 & chr1\\_16015\\_16477 & 141 & 208 & 206 & 190 & 202 & 182 &  9 &  9 & 18 & 23\\\\\n",
       "\t chr1 & 17237 & 17772 & chr1\\_17237\\_17772 & 259 & 350 & 399 & 367 & 369 & 331 &  7 & 13 & 23 & 59\\\\\n",
       "\t chr1 & 28903 & 29613 & chr1\\_28903\\_29613 & 263 & 338 & 368 & 333 & 352 & 317 & 12 & 18 &  3 & 32\\\\\n",
       "\t chr1 & 30803 & 31072 & chr1\\_30803\\_31072 &  82 & 115 & 171 & 136 & 105 & 115 & 13 & 22 & 14 & 33\\\\\n",
       "\\end{tabular}\n"
      ],
      "text/markdown": [
       "\n",
       "A tibble: 6 × 14\n",
       "\n",
       "| Chrom &lt;chr&gt; | Start &lt;dbl&gt; | End &lt;dbl&gt; | Peak &lt;chr&gt; | Input_rep1 &lt;int&gt; | Input_rep2 &lt;int&gt; | Input_rep3 &lt;int&gt; | Input_rep4 &lt;int&gt; | Input_rep5 &lt;int&gt; | Input_rep6 &lt;int&gt; | Output_rep1 &lt;int&gt; | Output_rep2 &lt;int&gt; | Output_rep3 &lt;int&gt; | Output_rep4 &lt;int&gt; |\n",
       "|---|---|---|---|---|---|---|---|---|---|---|---|---|---|\n",
       "| chr1 | 10015 | 10442 | chr1_10015_10442 | 155 | 214 | 257 | 236 | 185 | 214 |  7 | 12 |  4 | 11 |\n",
       "| chr1 | 14253 | 14645 | chr1_14253_14645 | 110 | 144 | 160 | 141 | 130 | 130 |  8 | 26 | 30 | 57 |\n",
       "| chr1 | 16015 | 16477 | chr1_16015_16477 | 141 | 208 | 206 | 190 | 202 | 182 |  9 |  9 | 18 | 23 |\n",
       "| chr1 | 17237 | 17772 | chr1_17237_17772 | 259 | 350 | 399 | 367 | 369 | 331 |  7 | 13 | 23 | 59 |\n",
       "| chr1 | 28903 | 29613 | chr1_28903_29613 | 263 | 338 | 368 | 333 | 352 | 317 | 12 | 18 |  3 | 32 |\n",
       "| chr1 | 30803 | 31072 | chr1_30803_31072 |  82 | 115 | 171 | 136 | 105 | 115 | 13 | 22 | 14 | 33 |\n",
       "\n"
      ],
      "text/plain": [
       "  Chrom Start End   Peak             Input_rep1 Input_rep2 Input_rep3\n",
       "1 chr1  10015 10442 chr1_10015_10442 155        214        257       \n",
       "2 chr1  14253 14645 chr1_14253_14645 110        144        160       \n",
       "3 chr1  16015 16477 chr1_16015_16477 141        208        206       \n",
       "4 chr1  17237 17772 chr1_17237_17772 259        350        399       \n",
       "5 chr1  28903 29613 chr1_28903_29613 263        338        368       \n",
       "6 chr1  30803 31072 chr1_30803_31072  82        115        171       \n",
       "  Input_rep4 Input_rep5 Input_rep6 Output_rep1 Output_rep2 Output_rep3\n",
       "1 236        185        214         7          12           4         \n",
       "2 141        130        130         8          26          30         \n",
       "3 190        202        182         9           9          18         \n",
       "4 367        369        331         7          13          23         \n",
       "5 333        352        317        12          18           3         \n",
       "6 136        105        115        13          22          14         \n",
       "  Output_rep4\n",
       "1 11         \n",
       "2 57         \n",
       "3 23         \n",
       "4 59         \n",
       "5 32         \n",
       "6 33         "
      ]
     },
     "metadata": {},
     "output_type": "display_data"
    }
   ],
   "source": [
    "cnames = c(\"Chrom\", \"Start\", \"End\", \"Count\")\n",
    "ctypes = c(col_character(), col_integer(), col_integer(), col_integer())\n",
    "\n",
    "lst = lapply(fpaths, function(fpath){\n",
    "    sam = get_sample(fpath)\n",
    "    dat = read_tsv(fpath, col_names = cnames, col_types = ctypes) %>% \n",
    "        dplyr::filter(Count != \".\") %>% \n",
    "        dplyr::mutate(Count  = as.integer(Count)) %>%\n",
    "        dplyr::mutate(\n",
    "            Peak   = paste(Chrom, Start, End, sep=\"_\"),\n",
    "            Sample = sam)\n",
    "    return(dat)\n",
    "})\n",
    "\n",
    "dat_count = bind_rows(lst) %>% spread(Sample, Count)\n",
    "head(dat_count)"
   ]
  },
  {
   "cell_type": "markdown",
   "id": "b989292d",
   "metadata": {},
   "source": [
    "## Store the results"
   ]
  },
  {
   "cell_type": "code",
   "execution_count": 6,
   "id": "7f223672",
   "metadata": {},
   "outputs": [],
   "source": [
    "fdiry = file.path(FD_RES, PREFIX, FOLDER, \"summary\")\n",
    "\n",
    "fname = \"wgs_count_matrix.tsv\"\n",
    "fpath = file.path(fdiry, fname)\n",
    "write_tsv(dat_count, fpath)\n",
    "\n",
    "fname = \"wgs_metadata.tsv\"\n",
    "fpath = file.path(fdiry, fname)\n",
    "write_tsv(dat_meta, fpath)"
   ]
  },
  {
   "cell_type": "code",
   "execution_count": null,
   "id": "e79a6c2e",
   "metadata": {},
   "outputs": [],
   "source": []
  }
 ],
 "metadata": {
  "kernelspec": {
   "display_name": "R (alex_py3)",
   "language": "R",
   "name": "ir_alex_py3"
  },
  "language_info": {
   "codemirror_mode": "r",
   "file_extension": ".r",
   "mimetype": "text/x-r-source",
   "name": "R",
   "pygments_lexer": "r",
   "version": "3.6.2"
  }
 },
 "nbformat": 4,
 "nbformat_minor": 5
}
