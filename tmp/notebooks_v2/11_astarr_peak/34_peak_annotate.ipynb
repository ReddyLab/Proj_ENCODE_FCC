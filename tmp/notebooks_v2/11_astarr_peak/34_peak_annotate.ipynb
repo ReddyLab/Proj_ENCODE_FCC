{
 "cells": [
  {
   "cell_type": "code",
   "execution_count": 1,
   "id": "c70e381e",
   "metadata": {},
   "outputs": [
    {
     "name": "stdout",
     "output_type": "stream",
     "text": [
      "You are in Singularity: singularity_proj_combeffect \n",
      "BASE DIRECTORY:     /mount/work \n",
      "PATH OF SOURCE:     /mount/work/source \n",
      "PATH OF EXECUTABLE: /mount/work/exe \n",
      "PATH OF ANNOTATION: /mount/work/annotation \n",
      "PATH OF PROJECT:    /mount/project \n",
      "PATH OF RESULTS:    /mount/work/out/proj_combeffect_encode_fcc \n"
     ]
    }
   ],
   "source": [
    "suppressMessages(suppressWarnings(source(\"../config/config_sing.R\")))\n",
    "show_env()"
   ]
  },
  {
   "cell_type": "code",
   "execution_count": 8,
   "id": "bb581c49",
   "metadata": {},
   "outputs": [
    {
     "name": "stderr",
     "output_type": "stream",
     "text": [
      "\u001b[1mRows: \u001b[22m\u001b[34m5162105\u001b[39m \u001b[1mColumns: \u001b[22m\u001b[34m9\u001b[39m\n",
      "\u001b[36m──\u001b[39m \u001b[1mColumn specification\u001b[22m \u001b[36m───────────────────────────────────────────────────────────────────────────────────────────────────────────────────────────────────────────────────────────────────────────────────────────────────────────────────────────────────\u001b[39m\n",
      "\u001b[1mDelimiter:\u001b[22m \"\\t\"\n",
      "\u001b[31mchr\u001b[39m (3): Peak, Chrom, Name\n",
      "\u001b[32mdbl\u001b[39m (6): Start, End, Len, Count, Total, Freq\n",
      "\n",
      "\u001b[36mℹ\u001b[39m Use `spec()` to retrieve the full column specification for this data.\n",
      "\u001b[36mℹ\u001b[39m Specify the column types or set `show_col_types = FALSE` to quiet this message.\n"
     ]
    }
   ],
   "source": [
    "fdiry = file.path(FD_RES, \"region\", \"KS91_K562_astarrseq_peak_macs\")\n",
    "fname = \"KS91_K562_hg38_ASTARRseq_Input.remap2022_nr.tsv\"\n",
    "fpath = file.path(fdiry, fname)\n",
    "dat_freq_remap = read_tsv(fpath)"
   ]
  },
  {
   "cell_type": "code",
   "execution_count": 9,
   "id": "0ba4f022",
   "metadata": {},
   "outputs": [
    {
     "data": {
      "text/html": [
       "<table class=\"dataframe\">\n",
       "<caption>A tibble: 6 × 9</caption>\n",
       "<thead>\n",
       "\t<tr><th scope=col>Peak</th><th scope=col>Chrom</th><th scope=col>Start</th><th scope=col>End</th><th scope=col>Len</th><th scope=col>Name</th><th scope=col>Count</th><th scope=col>Total</th><th scope=col>Freq</th></tr>\n",
       "\t<tr><th scope=col>&lt;chr&gt;</th><th scope=col>&lt;chr&gt;</th><th scope=col>&lt;dbl&gt;</th><th scope=col>&lt;dbl&gt;</th><th scope=col>&lt;dbl&gt;</th><th scope=col>&lt;chr&gt;</th><th scope=col>&lt;dbl&gt;</th><th scope=col>&lt;dbl&gt;</th><th scope=col>&lt;dbl&gt;</th></tr>\n",
       "</thead>\n",
       "<tbody>\n",
       "\t<tr><td>chr1_100006256_100006880</td><td>chr1</td><td>100006256</td><td>100006880</td><td> 624</td><td>TAF15:K-562             </td><td>1</td><td>1</td><td>1.0000000</td></tr>\n",
       "\t<tr><td>chr1_10002087_10003910  </td><td>chr1</td><td> 10002087</td><td> 10003910</td><td>1823</td><td>CBX2:K-562              </td><td>1</td><td>6</td><td>0.1666667</td></tr>\n",
       "\t<tr><td>chr1_10002087_10003910  </td><td>chr1</td><td> 10002087</td><td> 10003910</td><td>1823</td><td>CBX8:K-562              </td><td>1</td><td>6</td><td>0.1666667</td></tr>\n",
       "\t<tr><td>chr1_10002087_10003910  </td><td>chr1</td><td> 10002087</td><td> 10003910</td><td>1823</td><td>CEBPB:MCF-7,K-562,Hep-G2</td><td>1</td><td>6</td><td>0.1666667</td></tr>\n",
       "\t<tr><td>chr1_10002087_10003910  </td><td>chr1</td><td> 10002087</td><td> 10003910</td><td>1823</td><td>ETS1:K-562              </td><td>1</td><td>6</td><td>0.1666667</td></tr>\n",
       "\t<tr><td>chr1_10002087_10003910  </td><td>chr1</td><td> 10002087</td><td> 10003910</td><td>1823</td><td>HINFP:K-562             </td><td>1</td><td>6</td><td>0.1666667</td></tr>\n",
       "</tbody>\n",
       "</table>\n"
      ],
      "text/latex": [
       "A tibble: 6 × 9\n",
       "\\begin{tabular}{lllllllll}\n",
       " Peak & Chrom & Start & End & Len & Name & Count & Total & Freq\\\\\n",
       " <chr> & <chr> & <dbl> & <dbl> & <dbl> & <chr> & <dbl> & <dbl> & <dbl>\\\\\n",
       "\\hline\n",
       "\t chr1\\_100006256\\_100006880 & chr1 & 100006256 & 100006880 &  624 & TAF15:K-562              & 1 & 1 & 1.0000000\\\\\n",
       "\t chr1\\_10002087\\_10003910   & chr1 &  10002087 &  10003910 & 1823 & CBX2:K-562               & 1 & 6 & 0.1666667\\\\\n",
       "\t chr1\\_10002087\\_10003910   & chr1 &  10002087 &  10003910 & 1823 & CBX8:K-562               & 1 & 6 & 0.1666667\\\\\n",
       "\t chr1\\_10002087\\_10003910   & chr1 &  10002087 &  10003910 & 1823 & CEBPB:MCF-7,K-562,Hep-G2 & 1 & 6 & 0.1666667\\\\\n",
       "\t chr1\\_10002087\\_10003910   & chr1 &  10002087 &  10003910 & 1823 & ETS1:K-562               & 1 & 6 & 0.1666667\\\\\n",
       "\t chr1\\_10002087\\_10003910   & chr1 &  10002087 &  10003910 & 1823 & HINFP:K-562              & 1 & 6 & 0.1666667\\\\\n",
       "\\end{tabular}\n"
      ],
      "text/markdown": [
       "\n",
       "A tibble: 6 × 9\n",
       "\n",
       "| Peak &lt;chr&gt; | Chrom &lt;chr&gt; | Start &lt;dbl&gt; | End &lt;dbl&gt; | Len &lt;dbl&gt; | Name &lt;chr&gt; | Count &lt;dbl&gt; | Total &lt;dbl&gt; | Freq &lt;dbl&gt; |\n",
       "|---|---|---|---|---|---|---|---|---|\n",
       "| chr1_100006256_100006880 | chr1 | 100006256 | 100006880 |  624 | TAF15:K-562              | 1 | 1 | 1.0000000 |\n",
       "| chr1_10002087_10003910   | chr1 |  10002087 |  10003910 | 1823 | CBX2:K-562               | 1 | 6 | 0.1666667 |\n",
       "| chr1_10002087_10003910   | chr1 |  10002087 |  10003910 | 1823 | CBX8:K-562               | 1 | 6 | 0.1666667 |\n",
       "| chr1_10002087_10003910   | chr1 |  10002087 |  10003910 | 1823 | CEBPB:MCF-7,K-562,Hep-G2 | 1 | 6 | 0.1666667 |\n",
       "| chr1_10002087_10003910   | chr1 |  10002087 |  10003910 | 1823 | ETS1:K-562               | 1 | 6 | 0.1666667 |\n",
       "| chr1_10002087_10003910   | chr1 |  10002087 |  10003910 | 1823 | HINFP:K-562              | 1 | 6 | 0.1666667 |\n",
       "\n"
      ],
      "text/plain": [
       "  Peak                     Chrom Start     End       Len \n",
       "1 chr1_100006256_100006880 chr1  100006256 100006880  624\n",
       "2 chr1_10002087_10003910   chr1   10002087  10003910 1823\n",
       "3 chr1_10002087_10003910   chr1   10002087  10003910 1823\n",
       "4 chr1_10002087_10003910   chr1   10002087  10003910 1823\n",
       "5 chr1_10002087_10003910   chr1   10002087  10003910 1823\n",
       "6 chr1_10002087_10003910   chr1   10002087  10003910 1823\n",
       "  Name                     Count Total Freq     \n",
       "1 TAF15:K-562              1     1     1.0000000\n",
       "2 CBX2:K-562               1     6     0.1666667\n",
       "3 CBX8:K-562               1     6     0.1666667\n",
       "4 CEBPB:MCF-7,K-562,Hep-G2 1     6     0.1666667\n",
       "5 ETS1:K-562               1     6     0.1666667\n",
       "6 HINFP:K-562              1     6     0.1666667"
      ]
     },
     "metadata": {},
     "output_type": "display_data"
    }
   ],
   "source": [
    "head(dat_freq_remap)"
   ]
  },
  {
   "cell_type": "code",
   "execution_count": 11,
   "id": "b20f7238",
   "metadata": {},
   "outputs": [],
   "source": [
    "LOC_GATA1 = c( 47786500,  49786650)\n",
    "LOC_MYC   = c(126735970, 128736170)\n",
    "\n",
    "dat = dat_freq_ccre\n",
    "dat_freq_ccre_gata1 = dat %>% \n",
    "    dplyr::filter(Chrom == \"chrX\", Start >= LOC_GATA1[1], End <= LOC_GATA1[2])\n",
    " dat_freq_ccre_myc   = dat %>% \n",
    "    dplyr::filter(Chrom == \"chr8\", Start >= LOC_MYC[1],   End <= LOC_MYC[2])\n",
    "\n",
    "dat = dat_freq_remap\n",
    "dat_freq_remap_gata1 = dat %>% \n",
    "    dplyr::filter(Chrom == \"chrX\", Start >= LOC_GATA1[1], End <= LOC_GATA1[2]) %>%\n",
    "    dplyr::mutate(Region = \"GATA1\")\n",
    "dat_freq_remap_myc   = dat %>% \n",
    "    dplyr::filter(Chrom == \"chr8\", Start >= LOC_MYC[1],   End <= LOC_MYC[2]) %>%\n",
    "    dplyr::mutate(Region = \"MYC\")"
   ]
  },
  {
   "cell_type": "code",
   "execution_count": 12,
   "id": "4d5f35e4",
   "metadata": {},
   "outputs": [
    {
     "data": {
      "text/html": [
       "<table class=\"dataframe\">\n",
       "<caption>A tibble: 6 × 2447</caption>\n",
       "<thead>\n",
       "\t<tr><th scope=col>Peak</th><th scope=col>ADNP:K-562</th><th scope=col>AFF1:K-562</th><th scope=col>AFF1:K-562,SEM</th><th scope=col>AGO1:Hep-G2,K-562</th><th scope=col>AGO1:K-562</th><th scope=col>ARHGAP35:K-562</th><th scope=col>ARID1B:K-562</th><th scope=col>ARID1B:K-562,MCF-7</th><th scope=col>ARID2:K-562</th><th scope=col>⋯</th><th scope=col>ZNF75A:K-562,MCF-7</th><th scope=col>ZNF76:K-562</th><th scope=col>ZNF76:K-562,HEK293</th><th scope=col>ZNF764:K-562</th><th scope=col>ZNF766:K-562</th><th scope=col>ZNF79:K-562</th><th scope=col>ZNF83:K-562</th><th scope=col>ZNF830:K-562</th><th scope=col>ZSCAN29:K-562</th><th scope=col>ZZZ3:K-562</th></tr>\n",
       "\t<tr><th scope=col>&lt;chr&gt;</th><th scope=col>&lt;dbl&gt;</th><th scope=col>&lt;dbl&gt;</th><th scope=col>&lt;dbl&gt;</th><th scope=col>&lt;dbl&gt;</th><th scope=col>&lt;dbl&gt;</th><th scope=col>&lt;dbl&gt;</th><th scope=col>&lt;dbl&gt;</th><th scope=col>&lt;dbl&gt;</th><th scope=col>&lt;dbl&gt;</th><th scope=col>⋯</th><th scope=col>&lt;dbl&gt;</th><th scope=col>&lt;dbl&gt;</th><th scope=col>&lt;dbl&gt;</th><th scope=col>&lt;dbl&gt;</th><th scope=col>&lt;dbl&gt;</th><th scope=col>&lt;dbl&gt;</th><th scope=col>&lt;dbl&gt;</th><th scope=col>&lt;dbl&gt;</th><th scope=col>&lt;dbl&gt;</th><th scope=col>&lt;dbl&gt;</th></tr>\n",
       "</thead>\n",
       "<tbody>\n",
       "\t<tr><td>chrX_47796208_47796828</td><td>NA</td><td>         NA</td><td>NA</td><td>NA</td><td>NA</td><td>NA</td><td>         NA</td><td>NA</td><td>NA</td><td>⋯</td><td>NA</td><td>NA</td><td>NA</td><td>NA</td><td>NA</td><td>NA</td><td>         NA</td><td>NA</td><td>NA</td><td>NA</td></tr>\n",
       "\t<tr><td>chrX_47806139_47808167</td><td>NA</td><td>         NA</td><td>NA</td><td>NA</td><td>NA</td><td>NA</td><td>         NA</td><td>NA</td><td>NA</td><td>⋯</td><td>NA</td><td>NA</td><td>NA</td><td>NA</td><td>NA</td><td>NA</td><td>         NA</td><td>NA</td><td>NA</td><td>NA</td></tr>\n",
       "\t<tr><td>chrX_47809119_47809445</td><td>NA</td><td>         NA</td><td>NA</td><td>NA</td><td>NA</td><td>NA</td><td>         NA</td><td>NA</td><td>NA</td><td>⋯</td><td>NA</td><td>NA</td><td>NA</td><td>NA</td><td>NA</td><td>NA</td><td>         NA</td><td>NA</td><td>NA</td><td>NA</td></tr>\n",
       "\t<tr><td>chrX_47814810_47815443</td><td>NA</td><td>         NA</td><td>NA</td><td>NA</td><td>NA</td><td>NA</td><td>0.045454545</td><td>NA</td><td>NA</td><td>⋯</td><td>NA</td><td>NA</td><td>NA</td><td>NA</td><td>NA</td><td>NA</td><td>         NA</td><td>NA</td><td>NA</td><td>NA</td></tr>\n",
       "\t<tr><td>chrX_47816459_47818070</td><td>NA</td><td>0.006993007</td><td>NA</td><td>NA</td><td>NA</td><td>NA</td><td>0.006993007</td><td>NA</td><td>NA</td><td>⋯</td><td>NA</td><td>NA</td><td>NA</td><td>NA</td><td>NA</td><td>NA</td><td>0.006993007</td><td>NA</td><td>NA</td><td>NA</td></tr>\n",
       "\t<tr><td>chrX_47836113_47837157</td><td>NA</td><td>         NA</td><td>NA</td><td>NA</td><td>NA</td><td>NA</td><td>         NA</td><td>NA</td><td>NA</td><td>⋯</td><td>NA</td><td>NA</td><td>NA</td><td>NA</td><td>NA</td><td>NA</td><td>         NA</td><td>NA</td><td>NA</td><td>NA</td></tr>\n",
       "</tbody>\n",
       "</table>\n"
      ],
      "text/latex": [
       "A tibble: 6 × 2447\n",
       "\\begin{tabular}{lllllllllllllllllllll}\n",
       " Peak & ADNP:K-562 & AFF1:K-562 & AFF1:K-562,SEM & AGO1:Hep-G2,K-562 & AGO1:K-562 & ARHGAP35:K-562 & ARID1B:K-562 & ARID1B:K-562,MCF-7 & ARID2:K-562 & ⋯ & ZNF75A:K-562,MCF-7 & ZNF76:K-562 & ZNF76:K-562,HEK293 & ZNF764:K-562 & ZNF766:K-562 & ZNF79:K-562 & ZNF83:K-562 & ZNF830:K-562 & ZSCAN29:K-562 & ZZZ3:K-562\\\\\n",
       " <chr> & <dbl> & <dbl> & <dbl> & <dbl> & <dbl> & <dbl> & <dbl> & <dbl> & <dbl> & ⋯ & <dbl> & <dbl> & <dbl> & <dbl> & <dbl> & <dbl> & <dbl> & <dbl> & <dbl> & <dbl>\\\\\n",
       "\\hline\n",
       "\t chrX\\_47796208\\_47796828 & NA &          NA & NA & NA & NA & NA &          NA & NA & NA & ⋯ & NA & NA & NA & NA & NA & NA &          NA & NA & NA & NA\\\\\n",
       "\t chrX\\_47806139\\_47808167 & NA &          NA & NA & NA & NA & NA &          NA & NA & NA & ⋯ & NA & NA & NA & NA & NA & NA &          NA & NA & NA & NA\\\\\n",
       "\t chrX\\_47809119\\_47809445 & NA &          NA & NA & NA & NA & NA &          NA & NA & NA & ⋯ & NA & NA & NA & NA & NA & NA &          NA & NA & NA & NA\\\\\n",
       "\t chrX\\_47814810\\_47815443 & NA &          NA & NA & NA & NA & NA & 0.045454545 & NA & NA & ⋯ & NA & NA & NA & NA & NA & NA &          NA & NA & NA & NA\\\\\n",
       "\t chrX\\_47816459\\_47818070 & NA & 0.006993007 & NA & NA & NA & NA & 0.006993007 & NA & NA & ⋯ & NA & NA & NA & NA & NA & NA & 0.006993007 & NA & NA & NA\\\\\n",
       "\t chrX\\_47836113\\_47837157 & NA &          NA & NA & NA & NA & NA &          NA & NA & NA & ⋯ & NA & NA & NA & NA & NA & NA &          NA & NA & NA & NA\\\\\n",
       "\\end{tabular}\n"
      ],
      "text/markdown": [
       "\n",
       "A tibble: 6 × 2447\n",
       "\n",
       "| Peak &lt;chr&gt; | ADNP:K-562 &lt;dbl&gt; | AFF1:K-562 &lt;dbl&gt; | AFF1:K-562,SEM &lt;dbl&gt; | AGO1:Hep-G2,K-562 &lt;dbl&gt; | AGO1:K-562 &lt;dbl&gt; | ARHGAP35:K-562 &lt;dbl&gt; | ARID1B:K-562 &lt;dbl&gt; | ARID1B:K-562,MCF-7 &lt;dbl&gt; | ARID2:K-562 &lt;dbl&gt; | ⋯ ⋯ | ZNF75A:K-562,MCF-7 &lt;dbl&gt; | ZNF76:K-562 &lt;dbl&gt; | ZNF76:K-562,HEK293 &lt;dbl&gt; | ZNF764:K-562 &lt;dbl&gt; | ZNF766:K-562 &lt;dbl&gt; | ZNF79:K-562 &lt;dbl&gt; | ZNF83:K-562 &lt;dbl&gt; | ZNF830:K-562 &lt;dbl&gt; | ZSCAN29:K-562 &lt;dbl&gt; | ZZZ3:K-562 &lt;dbl&gt; |\n",
       "|---|---|---|---|---|---|---|---|---|---|---|---|---|---|---|---|---|---|---|---|---|\n",
       "| chrX_47796208_47796828 | NA |          NA | NA | NA | NA | NA |          NA | NA | NA | ⋯ | NA | NA | NA | NA | NA | NA |          NA | NA | NA | NA |\n",
       "| chrX_47806139_47808167 | NA |          NA | NA | NA | NA | NA |          NA | NA | NA | ⋯ | NA | NA | NA | NA | NA | NA |          NA | NA | NA | NA |\n",
       "| chrX_47809119_47809445 | NA |          NA | NA | NA | NA | NA |          NA | NA | NA | ⋯ | NA | NA | NA | NA | NA | NA |          NA | NA | NA | NA |\n",
       "| chrX_47814810_47815443 | NA |          NA | NA | NA | NA | NA | 0.045454545 | NA | NA | ⋯ | NA | NA | NA | NA | NA | NA |          NA | NA | NA | NA |\n",
       "| chrX_47816459_47818070 | NA | 0.006993007 | NA | NA | NA | NA | 0.006993007 | NA | NA | ⋯ | NA | NA | NA | NA | NA | NA | 0.006993007 | NA | NA | NA |\n",
       "| chrX_47836113_47837157 | NA |          NA | NA | NA | NA | NA |          NA | NA | NA | ⋯ | NA | NA | NA | NA | NA | NA |          NA | NA | NA | NA |\n",
       "\n"
      ],
      "text/plain": [
       "  Peak                   ADNP:K-562 AFF1:K-562  AFF1:K-562,SEM\n",
       "1 chrX_47796208_47796828 NA                  NA NA            \n",
       "2 chrX_47806139_47808167 NA                  NA NA            \n",
       "3 chrX_47809119_47809445 NA                  NA NA            \n",
       "4 chrX_47814810_47815443 NA                  NA NA            \n",
       "5 chrX_47816459_47818070 NA         0.006993007 NA            \n",
       "6 chrX_47836113_47837157 NA                  NA NA            \n",
       "  AGO1:Hep-G2,K-562 AGO1:K-562 ARHGAP35:K-562 ARID1B:K-562 ARID1B:K-562,MCF-7\n",
       "1 NA                NA         NA                      NA  NA                \n",
       "2 NA                NA         NA                      NA  NA                \n",
       "3 NA                NA         NA                      NA  NA                \n",
       "4 NA                NA         NA             0.045454545  NA                \n",
       "5 NA                NA         NA             0.006993007  NA                \n",
       "6 NA                NA         NA                      NA  NA                \n",
       "  ARID2:K-562 ⋯ ZNF75A:K-562,MCF-7 ZNF76:K-562 ZNF76:K-562,HEK293 ZNF764:K-562\n",
       "1 NA          ⋯ NA                 NA          NA                 NA          \n",
       "2 NA          ⋯ NA                 NA          NA                 NA          \n",
       "3 NA          ⋯ NA                 NA          NA                 NA          \n",
       "4 NA          ⋯ NA                 NA          NA                 NA          \n",
       "5 NA          ⋯ NA                 NA          NA                 NA          \n",
       "6 NA          ⋯ NA                 NA          NA                 NA          \n",
       "  ZNF766:K-562 ZNF79:K-562 ZNF83:K-562 ZNF830:K-562 ZSCAN29:K-562 ZZZ3:K-562\n",
       "1 NA           NA                   NA NA           NA            NA        \n",
       "2 NA           NA                   NA NA           NA            NA        \n",
       "3 NA           NA                   NA NA           NA            NA        \n",
       "4 NA           NA                   NA NA           NA            NA        \n",
       "5 NA           NA          0.006993007 NA           NA            NA        \n",
       "6 NA           NA                   NA NA           NA            NA        "
      ]
     },
     "metadata": {},
     "output_type": "display_data"
    }
   ],
   "source": [
    "dat = dat_freq_remap_gata1\n",
    "dat = dat %>% dplyr::select(Peak, Name, Freq) %>% spread(Name, Freq)\n",
    "head(dat)"
   ]
  },
  {
   "cell_type": "code",
   "execution_count": null,
   "id": "4ba07bed",
   "metadata": {},
   "outputs": [],
   "source": [
    "dat"
   ]
  },
  {
   "cell_type": "code",
   "execution_count": null,
   "id": "db13e785",
   "metadata": {},
   "outputs": [],
   "source": []
  },
  {
   "cell_type": "code",
   "execution_count": 4,
   "id": "e4b9f981",
   "metadata": {},
   "outputs": [
    {
     "data": {
      "text/html": [
       "<table class=\"dataframe\">\n",
       "<caption>A tibble: 6 × 5</caption>\n",
       "<thead>\n",
       "\t<tr><th scope=col>Chrom_ReMap</th><th scope=col>Start_ReMap</th><th scope=col>End_ReMap</th><th scope=col>Name</th><th scope=col>Score</th></tr>\n",
       "\t<tr><th scope=col>&lt;chr&gt;</th><th scope=col>&lt;dbl&gt;</th><th scope=col>&lt;dbl&gt;</th><th scope=col>&lt;chr&gt;</th><th scope=col>&lt;dbl&gt;</th></tr>\n",
       "</thead>\n",
       "<tbody>\n",
       "\t<tr><td>chr1</td><td> 10016</td><td> 10229</td><td>ZBTB5:K-562 </td><td>1</td></tr>\n",
       "\t<tr><td>chr1</td><td>136239</td><td>136897</td><td>ZBTB33:K-562</td><td>1</td></tr>\n",
       "\t<tr><td>chr1</td><td>136277</td><td>137062</td><td>EGR1:K-562  </td><td>2</td></tr>\n",
       "\t<tr><td>chr1</td><td>136281</td><td>137167</td><td>ZNF639:K-562</td><td>1</td></tr>\n",
       "\t<tr><td>chr1</td><td>136332</td><td>136968</td><td>TRIM24:K-562</td><td>2</td></tr>\n",
       "\t<tr><td>chr1</td><td>136340</td><td>137098</td><td>NR2C1:K-562 </td><td>2</td></tr>\n",
       "</tbody>\n",
       "</table>\n"
      ],
      "text/latex": [
       "A tibble: 6 × 5\n",
       "\\begin{tabular}{lllll}\n",
       " Chrom\\_ReMap & Start\\_ReMap & End\\_ReMap & Name & Score\\\\\n",
       " <chr> & <dbl> & <dbl> & <chr> & <dbl>\\\\\n",
       "\\hline\n",
       "\t chr1 &  10016 &  10229 & ZBTB5:K-562  & 1\\\\\n",
       "\t chr1 & 136239 & 136897 & ZBTB33:K-562 & 1\\\\\n",
       "\t chr1 & 136277 & 137062 & EGR1:K-562   & 2\\\\\n",
       "\t chr1 & 136281 & 137167 & ZNF639:K-562 & 1\\\\\n",
       "\t chr1 & 136332 & 136968 & TRIM24:K-562 & 2\\\\\n",
       "\t chr1 & 136340 & 137098 & NR2C1:K-562  & 2\\\\\n",
       "\\end{tabular}\n"
      ],
      "text/markdown": [
       "\n",
       "A tibble: 6 × 5\n",
       "\n",
       "| Chrom_ReMap &lt;chr&gt; | Start_ReMap &lt;dbl&gt; | End_ReMap &lt;dbl&gt; | Name &lt;chr&gt; | Score &lt;dbl&gt; |\n",
       "|---|---|---|---|---|\n",
       "| chr1 |  10016 |  10229 | ZBTB5:K-562  | 1 |\n",
       "| chr1 | 136239 | 136897 | ZBTB33:K-562 | 1 |\n",
       "| chr1 | 136277 | 137062 | EGR1:K-562   | 2 |\n",
       "| chr1 | 136281 | 137167 | ZNF639:K-562 | 1 |\n",
       "| chr1 | 136332 | 136968 | TRIM24:K-562 | 2 |\n",
       "| chr1 | 136340 | 137098 | NR2C1:K-562  | 2 |\n",
       "\n"
      ],
      "text/plain": [
       "  Chrom_ReMap Start_ReMap End_ReMap Name         Score\n",
       "1 chr1         10016       10229    ZBTB5:K-562  1    \n",
       "2 chr1        136239      136897    ZBTB33:K-562 1    \n",
       "3 chr1        136277      137062    EGR1:K-562   2    \n",
       "4 chr1        136281      137167    ZNF639:K-562 1    \n",
       "5 chr1        136332      136968    TRIM24:K-562 2    \n",
       "6 chr1        136340      137098    NR2C1:K-562  2    "
      ]
     },
     "metadata": {},
     "output_type": "display_data"
    }
   ],
   "source": [
    "dat = dat_remap %>% dplyr::select(ends_with(\"ReMap\"), Name, Score)\n",
    "head(dat)"
   ]
  },
  {
   "cell_type": "code",
   "execution_count": 5,
   "id": "7c93de90",
   "metadata": {},
   "outputs": [
    {
     "data": {
      "text/html": [
       "<table class=\"dataframe\">\n",
       "<caption>A tibble: 6 × 5</caption>\n",
       "<thead>\n",
       "\t<tr><th scope=col>Chrom_ReMap</th><th scope=col>Start_ReMap</th><th scope=col>End_ReMap</th><th scope=col>Name</th><th scope=col>Score</th></tr>\n",
       "\t<tr><th scope=col>&lt;chr&gt;</th><th scope=col>&lt;dbl&gt;</th><th scope=col>&lt;dbl&gt;</th><th scope=col>&lt;chr&gt;</th><th scope=col>&lt;dbl&gt;</th></tr>\n",
       "</thead>\n",
       "<tbody>\n",
       "\t<tr><td>chrX</td><td>156030488</td><td>156030733</td><td>CHAMP1:K-562      </td><td>1</td></tr>\n",
       "\t<tr><td>chrX</td><td>156030490</td><td>156030703</td><td>DPF2:K-562        </td><td>1</td></tr>\n",
       "\t<tr><td>chrX</td><td>156030490</td><td>156030738</td><td>HDAC2:Hep-G2,K-562</td><td>3</td></tr>\n",
       "\t<tr><td>chrX</td><td>156030493</td><td>156030740</td><td>ATF4:K-562        </td><td>1</td></tr>\n",
       "\t<tr><td>chrX</td><td>156030495</td><td>156030725</td><td>MTA3:K-562,MCF-7  </td><td>2</td></tr>\n",
       "\t<tr><td>chrX</td><td>156030523</td><td>156030718</td><td>NONO:K-562,Hep-G2 </td><td>2</td></tr>\n",
       "</tbody>\n",
       "</table>\n"
      ],
      "text/latex": [
       "A tibble: 6 × 5\n",
       "\\begin{tabular}{lllll}\n",
       " Chrom\\_ReMap & Start\\_ReMap & End\\_ReMap & Name & Score\\\\\n",
       " <chr> & <dbl> & <dbl> & <chr> & <dbl>\\\\\n",
       "\\hline\n",
       "\t chrX & 156030488 & 156030733 & CHAMP1:K-562       & 1\\\\\n",
       "\t chrX & 156030490 & 156030703 & DPF2:K-562         & 1\\\\\n",
       "\t chrX & 156030490 & 156030738 & HDAC2:Hep-G2,K-562 & 3\\\\\n",
       "\t chrX & 156030493 & 156030740 & ATF4:K-562         & 1\\\\\n",
       "\t chrX & 156030495 & 156030725 & MTA3:K-562,MCF-7   & 2\\\\\n",
       "\t chrX & 156030523 & 156030718 & NONO:K-562,Hep-G2  & 2\\\\\n",
       "\\end{tabular}\n"
      ],
      "text/markdown": [
       "\n",
       "A tibble: 6 × 5\n",
       "\n",
       "| Chrom_ReMap &lt;chr&gt; | Start_ReMap &lt;dbl&gt; | End_ReMap &lt;dbl&gt; | Name &lt;chr&gt; | Score &lt;dbl&gt; |\n",
       "|---|---|---|---|---|\n",
       "| chrX | 156030488 | 156030733 | CHAMP1:K-562       | 1 |\n",
       "| chrX | 156030490 | 156030703 | DPF2:K-562         | 1 |\n",
       "| chrX | 156030490 | 156030738 | HDAC2:Hep-G2,K-562 | 3 |\n",
       "| chrX | 156030493 | 156030740 | ATF4:K-562         | 1 |\n",
       "| chrX | 156030495 | 156030725 | MTA3:K-562,MCF-7   | 2 |\n",
       "| chrX | 156030523 | 156030718 | NONO:K-562,Hep-G2  | 2 |\n",
       "\n"
      ],
      "text/plain": [
       "  Chrom_ReMap Start_ReMap End_ReMap Name               Score\n",
       "1 chrX        156030488   156030733 CHAMP1:K-562       1    \n",
       "2 chrX        156030490   156030703 DPF2:K-562         1    \n",
       "3 chrX        156030490   156030738 HDAC2:Hep-G2,K-562 3    \n",
       "4 chrX        156030493   156030740 ATF4:K-562         1    \n",
       "5 chrX        156030495   156030725 MTA3:K-562,MCF-7   2    \n",
       "6 chrX        156030523   156030718 NONO:K-562,Hep-G2  2    "
      ]
     },
     "metadata": {},
     "output_type": "display_data"
    }
   ],
   "source": [
    "tail(dat)"
   ]
  },
  {
   "cell_type": "code",
   "execution_count": 7,
   "id": "7168406c",
   "metadata": {},
   "outputs": [
    {
     "data": {
      "text/html": [
       "<table class=\"dataframe\">\n",
       "<caption>A tibble: 10 × 5</caption>\n",
       "<thead>\n",
       "\t<tr><th scope=col>Chrom_ReMap</th><th scope=col>Start_ReMap</th><th scope=col>End_ReMap</th><th scope=col>Name</th><th scope=col>Score</th></tr>\n",
       "\t<tr><th scope=col>&lt;chr&gt;</th><th scope=col>&lt;dbl&gt;</th><th scope=col>&lt;dbl&gt;</th><th scope=col>&lt;chr&gt;</th><th scope=col>&lt;dbl&gt;</th></tr>\n",
       "</thead>\n",
       "<tbody>\n",
       "\t<tr><td>chr16</td><td> 79770242</td><td> 79770887</td><td>HNRNPLL:K-562,Hep-G2             </td><td>4</td></tr>\n",
       "\t<tr><td>chr20</td><td> 63552704</td><td> 63553106</td><td>EGR1:GM12878,K-562,Ishikawa,MCF-7</td><td>6</td></tr>\n",
       "\t<tr><td>chr6 </td><td> 13302848</td><td> 13303206</td><td>GMEB1:K-562                      </td><td>1</td></tr>\n",
       "\t<tr><td>chr20</td><td> 41727870</td><td> 41727996</td><td>FOS:K-562                        </td><td>1</td></tr>\n",
       "\t<tr><td>chr19</td><td> 51572550</td><td> 51572842</td><td>BHLHE40:K-562                    </td><td>1</td></tr>\n",
       "\t<tr><td>chr3 </td><td>120908010</td><td>120908606</td><td>EHMT2:K-562,Rh41,A-549           </td><td>3</td></tr>\n",
       "\t<tr><td>chr7 </td><td>  7100054</td><td>  7100915</td><td>LDB1:K-562,HEP                   </td><td>2</td></tr>\n",
       "\t<tr><td>chr1 </td><td>154325257</td><td>154325464</td><td>BRD3:K-562                       </td><td>1</td></tr>\n",
       "\t<tr><td>chr1 </td><td>225928338</td><td>225928658</td><td>DACH1:K-562                      </td><td>1</td></tr>\n",
       "\t<tr><td>chrX </td><td> 41010096</td><td> 41010549</td><td>NR2C1:K-562                      </td><td>2</td></tr>\n",
       "</tbody>\n",
       "</table>\n"
      ],
      "text/latex": [
       "A tibble: 10 × 5\n",
       "\\begin{tabular}{lllll}\n",
       " Chrom\\_ReMap & Start\\_ReMap & End\\_ReMap & Name & Score\\\\\n",
       " <chr> & <dbl> & <dbl> & <chr> & <dbl>\\\\\n",
       "\\hline\n",
       "\t chr16 &  79770242 &  79770887 & HNRNPLL:K-562,Hep-G2              & 4\\\\\n",
       "\t chr20 &  63552704 &  63553106 & EGR1:GM12878,K-562,Ishikawa,MCF-7 & 6\\\\\n",
       "\t chr6  &  13302848 &  13303206 & GMEB1:K-562                       & 1\\\\\n",
       "\t chr20 &  41727870 &  41727996 & FOS:K-562                         & 1\\\\\n",
       "\t chr19 &  51572550 &  51572842 & BHLHE40:K-562                     & 1\\\\\n",
       "\t chr3  & 120908010 & 120908606 & EHMT2:K-562,Rh41,A-549            & 3\\\\\n",
       "\t chr7  &   7100054 &   7100915 & LDB1:K-562,HEP                    & 2\\\\\n",
       "\t chr1  & 154325257 & 154325464 & BRD3:K-562                        & 1\\\\\n",
       "\t chr1  & 225928338 & 225928658 & DACH1:K-562                       & 1\\\\\n",
       "\t chrX  &  41010096 &  41010549 & NR2C1:K-562                       & 2\\\\\n",
       "\\end{tabular}\n"
      ],
      "text/markdown": [
       "\n",
       "A tibble: 10 × 5\n",
       "\n",
       "| Chrom_ReMap &lt;chr&gt; | Start_ReMap &lt;dbl&gt; | End_ReMap &lt;dbl&gt; | Name &lt;chr&gt; | Score &lt;dbl&gt; |\n",
       "|---|---|---|---|---|\n",
       "| chr16 |  79770242 |  79770887 | HNRNPLL:K-562,Hep-G2              | 4 |\n",
       "| chr20 |  63552704 |  63553106 | EGR1:GM12878,K-562,Ishikawa,MCF-7 | 6 |\n",
       "| chr6  |  13302848 |  13303206 | GMEB1:K-562                       | 1 |\n",
       "| chr20 |  41727870 |  41727996 | FOS:K-562                         | 1 |\n",
       "| chr19 |  51572550 |  51572842 | BHLHE40:K-562                     | 1 |\n",
       "| chr3  | 120908010 | 120908606 | EHMT2:K-562,Rh41,A-549            | 3 |\n",
       "| chr7  |   7100054 |   7100915 | LDB1:K-562,HEP                    | 2 |\n",
       "| chr1  | 154325257 | 154325464 | BRD3:K-562                        | 1 |\n",
       "| chr1  | 225928338 | 225928658 | DACH1:K-562                       | 1 |\n",
       "| chrX  |  41010096 |  41010549 | NR2C1:K-562                       | 2 |\n",
       "\n"
      ],
      "text/plain": [
       "   Chrom_ReMap Start_ReMap End_ReMap Name                              Score\n",
       "1  chr16        79770242    79770887 HNRNPLL:K-562,Hep-G2              4    \n",
       "2  chr20        63552704    63553106 EGR1:GM12878,K-562,Ishikawa,MCF-7 6    \n",
       "3  chr6         13302848    13303206 GMEB1:K-562                       1    \n",
       "4  chr20        41727870    41727996 FOS:K-562                         1    \n",
       "5  chr19        51572550    51572842 BHLHE40:K-562                     1    \n",
       "6  chr3        120908010   120908606 EHMT2:K-562,Rh41,A-549            3    \n",
       "7  chr7          7100054     7100915 LDB1:K-562,HEP                    2    \n",
       "8  chr1        154325257   154325464 BRD3:K-562                        1    \n",
       "9  chr1        225928338   225928658 DACH1:K-562                       1    \n",
       "10 chrX         41010096    41010549 NR2C1:K-562                       2    "
      ]
     },
     "metadata": {},
     "output_type": "display_data"
    }
   ],
   "source": [
    "set.seed(123)\n",
    "tmp = dat %>% dplyr::sample_n(10)\n",
    "tmp"
   ]
  },
  {
   "cell_type": "code",
   "execution_count": null,
   "id": "0900b8ca",
   "metadata": {},
   "outputs": [],
   "source": []
  }
 ],
 "metadata": {
  "kernelspec": {
   "display_name": "R (alex_py3)",
   "language": "R",
   "name": "ir_alex_py3"
  },
  "language_info": {
   "codemirror_mode": "r",
   "file_extension": ".r",
   "mimetype": "text/x-r-source",
   "name": "R",
   "pygments_lexer": "r",
   "version": "3.6.2"
  }
 },
 "nbformat": 4,
 "nbformat_minor": 5
}
