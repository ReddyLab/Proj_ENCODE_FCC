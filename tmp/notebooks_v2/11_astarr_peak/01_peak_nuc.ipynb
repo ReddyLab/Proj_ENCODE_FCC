{
 "cells": [
  {
   "cell_type": "markdown",
   "id": "cb2a1052-6df6-4087-99d4-23b8fba6c303",
   "metadata": {},
   "source": [
    "**Set environment**"
   ]
  },
  {
   "cell_type": "code",
   "execution_count": 1,
   "id": "a8f38691-ccc1-4770-a6d4-f1f4cd1e594c",
   "metadata": {},
   "outputs": [
    {
     "name": "stdout",
     "output_type": "stream",
     "text": [
      "You are on Duke Server: HARDAC\n",
      "BASE DIRECTORY:     /gpfs/fs1/data/reddylab/Kuei\n",
      "PATH OF SOURCE:     /gpfs/fs1/data/reddylab/Kuei/source\n",
      "PATH OF EXECUTABLE: /gpfs/fs1/data/reddylab/Kuei/exe\n",
      "PATH OF ANNOTATION: /gpfs/fs1/data/reddylab/Kuei/annotation\n",
      "PATH OF PROJECT:    /gpfs/fs1/data/reddylab/Kuei/GitRepo/Proj_CombEffect_ENCODE_FCC/notebooks\n",
      "PATH OF RESULTS:    /gpfs/fs1/data/reddylab/Kuei/out/proj_combeffect_encode_fcc\n",
      "\n"
     ]
    }
   ],
   "source": [
    "source ../config/config_duke.sh\n",
    "source ../config/config_load_module_bedtools.sh\n",
    "show_env"
   ]
  },
  {
   "cell_type": "code",
   "execution_count": 2,
   "id": "cbc83716-21ee-4275-a25c-78019f28e086",
   "metadata": {},
   "outputs": [
    {
     "name": "stdout",
     "output_type": "stream",
     "text": [
      "/nfs/software/helmod/apps/Core/bedtools2/2.25.0-fasrc01/bin/bedtools\n",
      "bedtools v2.25.0\n"
     ]
    }
   ],
   "source": [
    "which bedtools\n",
    "bedtools -version"
   ]
  },
  {
   "cell_type": "code",
   "execution_count": 3,
   "id": "948c6606-dd90-42cf-a462-761d5cfe3f12",
   "metadata": {},
   "outputs": [
    {
     "name": "stdout",
     "output_type": "stream",
     "text": [
      "\u001b[0m\u001b[38;5;27m/gpfs/fs1/data/reddylab/Kuei/out/proj_combeffect_encode_fcc/log\u001b[0m\n",
      "all\n"
     ]
    }
   ],
   "source": [
    "ls -d ${FD_LOG}\n",
    "echo ${NODE}"
   ]
  },
  {
   "cell_type": "markdown",
   "id": "82371946-d704-4eac-90fa-e6fd9092442a",
   "metadata": {},
   "source": [
    "**CHECK**"
   ]
  },
  {
   "cell_type": "code",
   "execution_count": 4,
   "id": "09b272e3-c59a-4a80-8fca-c3d2446875c9",
   "metadata": {},
   "outputs": [
    {
     "name": "stdout",
     "output_type": "stream",
     "text": [
      "-rw-rw-r-- 1 kk319 reddylab 5.7M Oct 17 05:28 /gpfs/fs1/data/reddylab/Kuei/out/proj_combeffect_encode_fcc/region/KS91_K562_astarrseq_peak_macs/KS91_K562_hg38_ASTARRseq_Input.all_reps.masked.union_narrowPeak.q5.bed\n",
      "247520\n"
     ]
    }
   ],
   "source": [
    "FD_INP=${FD_RES}/region/KS91_K562_astarrseq_peak_macs\n",
    "FN_INP=KS91_K562_hg38_ASTARRseq_Input.all_reps.masked.union_narrowPeak.q5.bed\n",
    "ls -lh ${FD_INP}/${FN_INP}\n",
    "cat ${FD_INP}/${FN_INP} | wc -l"
   ]
  },
  {
   "cell_type": "code",
   "execution_count": 7,
   "id": "d24b9d2b-3cd1-42c9-881c-e6bb27184858",
   "metadata": {},
   "outputs": [
    {
     "name": "stdout",
     "output_type": "stream",
     "text": [
      "/gpfs/fs1/data/reddylab/Kuei/out/proj_combeffect_encode_fcc/region/KS91_K562_astarrseq_peak_macs/KS91_K562_hg38_ASTARRseq_Input.all_reps.masked.union_narrowPeak.q5.nuc.bed.gz\n"
     ]
    }
   ],
   "source": [
    "FD_OUT=${FD_RES}/region/KS91_K562_astarrseq_peak_macs\n",
    "FN_OUT=KS91_K562_hg38_ASTARRseq_Input.all_reps.masked.union_narrowPeak.q5.nuc.bed.gz\n",
    "echo ${FD_OUT}/${FN_OUT}"
   ]
  },
  {
   "cell_type": "code",
   "execution_count": 8,
   "id": "60a87dbf-c6e5-46b5-9c1d-50db1072c8e8",
   "metadata": {},
   "outputs": [
    {
     "name": "stdout",
     "output_type": "stream",
     "text": [
      "-rw-rw-r-- 1 kk319 reddylab 3.1G Aug 31  2021 /gpfs/fs1/data/reddylab/Kuei/annotation/genome/hg38/fasta/hg38.fa\n"
     ]
    }
   ],
   "source": [
    "CHROM=hg38\n",
    "FD_GEN=${FD_ANN}/genome/hg38/fasta\n",
    "FN_GEN=${CHROM}.fa\n",
    "ls -lh ${FD_GEN}/${FN_GEN}"
   ]
  },
  {
   "cell_type": "markdown",
   "id": "77492dea-043e-4364-8c47-aa8af73f20db",
   "metadata": {},
   "source": [
    "**RUN**"
   ]
  },
  {
   "cell_type": "code",
   "execution_count": 9,
   "id": "1cda1999-16a0-48d4-bce7-066245f88ac1",
   "metadata": {},
   "outputs": [
    {
     "name": "stdout",
     "output_type": "stream",
     "text": [
      "Submitted batch job 29159698\n"
     ]
    }
   ],
   "source": [
    "sbatch -p ${NODE} \\\n",
    "    -J bedtools_nuc_astarr_peak \\\n",
    "    --exclude=dl-01 \\\n",
    "    --cpus-per-task 8 \\\n",
    "    --mem 20G \\\n",
    "    --output ${FD_LOG}/nuc_astarr_peak_macs_input.txt \\\n",
    "    --array 0 \\\n",
    "    <<'EOF'\n",
    "#!/bin/bash\n",
    "### set directories & global variables\n",
    "source ../config/config_duke.sh\n",
    "CHROM=hg38\n",
    "\n",
    "### set input and output\n",
    "FD_INP=${FD_RES}/region/KS91_K562_astarrseq_peak_macs\n",
    "FN_INP=KS91_K562_hg38_ASTARRseq_Input.all_reps.masked.union_narrowPeak.q5.bed\n",
    "\n",
    "FD_OUT=${FD_RES}/region/KS91_K562_astarrseq_peak_macs\n",
    "FN_OUT=KS91_K562_hg38_ASTARRseq_Input.all_reps.masked.union_narrowPeak.q5.nuc.bed.gz\n",
    "\n",
    "### genome annotation\n",
    "FD_GEN=${FD_ANN}/genome/hg38/fasta\n",
    "FN_GEN=${CHROM}.fa\n",
    "\n",
    "### print start message\n",
    "timer_start=`date +%s`\n",
    "echo \"Hostname:          \" $(hostname)\n",
    "echo \"Slurm Array Index: \" ${SLURM_ARRAY_TASK_ID}\n",
    "echo \"Time Stamp:        \" $(date +\"%m-%d-%y+%T\")\n",
    "echo\n",
    "\n",
    "### Show input/output file\n",
    "echo \"Input  file: \" ${FD_INP}/${FN_INP}\n",
    "echo\n",
    "echo \"Show the first few lines of the input file\"\n",
    "echo ${FD_INP}/${FN_INP}\n",
    "cat  ${FD_INP}/${FN_INP} | head -n 3 \n",
    "echo\n",
    "    \n",
    "### init: create output folder if not exist\n",
    "mkdir -p ${FD_OUT}\n",
    "\n",
    "### calculate the GC content of each fragment\n",
    "bedtools nuc \\\n",
    "    -fi  ${FD_GEN}/${FN_GEN} \\\n",
    "    -bed ${FD_INP}/${FN_INP} |\\\n",
    "    gzip -c > ${FD_OUT}/${FN_OUT}\n",
    "\n",
    "### Show input/output file\n",
    "echo\n",
    "echo \"Output file: \" ${FD_OUT}/${FN_OUT}\n",
    "echo\n",
    "echo \"Show the first few lines of the output file\"\n",
    "zcat ${FD_OUT}/${FN_OUT} | head -n 3\n",
    "echo\n",
    "\n",
    "### print end message\n",
    "timer_stop=`date +%s`\n",
    "runtime=$(echo \"${timer_stop} - ${timer_start}\" | bc -l)\n",
    "echo\n",
    "echo 'Done!'\n",
    "echo \"Run Time: $(displaytime ${runtime})\"\n",
    "\n",
    "EOF"
   ]
  },
  {
   "cell_type": "markdown",
   "id": "e03b2aba-a7ea-4d40-b16a-0bd7a8a3bfb6",
   "metadata": {},
   "source": [
    "**CHECK**"
   ]
  },
  {
   "cell_type": "code",
   "execution_count": 10,
   "id": "d40d8893-1625-44da-8f76-6c21b76b377c",
   "metadata": {},
   "outputs": [
    {
     "name": "stdout",
     "output_type": "stream",
     "text": [
      "Hostname:           x1-01-3.genome.duke.edu\n",
      "Slurm Array Index:  0\n",
      "Time Stamp:         10-17-22+05:44:55\n",
      "\n",
      "Input  file:  /gpfs/fs1/data/reddylab/Kuei/out/proj_combeffect_encode_fcc/region/KS91_K562_astarrseq_peak_macs/KS91_K562_hg38_ASTARRseq_Input.all_reps.masked.union_narrowPeak.q5.bed\n",
      "\n",
      "Show the first few lines of the input file\n",
      "/gpfs/fs1/data/reddylab/Kuei/out/proj_combeffect_encode_fcc/region/KS91_K562_astarrseq_peak_macs/KS91_K562_hg38_ASTARRseq_Input.all_reps.masked.union_narrowPeak.q5.bed\n",
      "chr1\t10015\t10442\n",
      "chr1\t14253\t14645\n",
      "chr1\t16015\t16477\n",
      "\n",
      "\n",
      "Output file:  /gpfs/fs1/data/reddylab/Kuei/out/proj_combeffect_encode_fcc/region/KS91_K562_astarrseq_peak_macs/KS91_K562_hg38_ASTARRseq_Input.all_reps.masked.union_narrowPeak.q5.nuc.bed.gz\n",
      "\n",
      "Show the first few lines of the output file\n",
      "#1_usercol\t2_usercol\t3_usercol\t4_pct_at\t5_pct_gc\t6_num_A\t7_num_C\t8_num_G\t9_num_T\t10_num_N\t11_num_oth\t12_seq_len\n",
      "chr1\t10015\t10442\t0.477752\t0.522248\t141\t223\t0\t63\t0\t0\t427\n",
      "chr1\t14253\t14645\t0.426020\t0.573980\t75\t124\t101\t92\t0\t0\t392\n",
      "\n",
      "\n",
      "Done!\n",
      "Run Time: 5 seconds\n"
     ]
    }
   ],
   "source": [
    "cat ${FD_LOG}/nuc_astarr_peak_macs_input.txt"
   ]
  },
  {
   "cell_type": "code",
   "execution_count": null,
   "id": "fb1fad42-cdf6-4ade-b3cc-605e9b6963b7",
   "metadata": {},
   "outputs": [],
   "source": []
  }
 ],
 "metadata": {
  "kernelspec": {
   "display_name": "Bash",
   "language": "bash",
   "name": "bash"
  },
  "language_info": {
   "codemirror_mode": "shell",
   "file_extension": ".sh",
   "mimetype": "text/x-sh",
   "name": "bash"
  }
 },
 "nbformat": 4,
 "nbformat_minor": 5
}
