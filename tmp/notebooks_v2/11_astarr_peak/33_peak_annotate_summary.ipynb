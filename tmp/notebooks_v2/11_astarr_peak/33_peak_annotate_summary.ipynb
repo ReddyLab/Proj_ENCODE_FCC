{
 "cells": [
  {
   "cell_type": "code",
   "execution_count": 1,
   "id": "3fa0b51e",
   "metadata": {},
   "outputs": [
    {
     "name": "stdout",
     "output_type": "stream",
     "text": [
      "You are in Singularity: singularity_proj_combeffect \n",
      "BASE DIRECTORY:     /mount/work \n",
      "PATH OF SOURCE:     /mount/work/source \n",
      "PATH OF EXECUTABLE: /mount/work/exe \n",
      "PATH OF ANNOTATION: /mount/work/annotation \n",
      "PATH OF PROJECT:    /mount/project \n",
      "PATH OF RESULTS:    /mount/work/out/proj_combeffect_encode_fcc \n"
     ]
    }
   ],
   "source": [
    "suppressMessages(suppressWarnings(source(\"../config/config_sing.R\")))\n",
    "show_env()"
   ]
  },
  {
   "cell_type": "markdown",
   "id": "9c8fd236",
   "metadata": {},
   "source": [
    "## Annotation: cCREs"
   ]
  },
  {
   "cell_type": "code",
   "execution_count": 2,
   "id": "691a63d2",
   "metadata": {},
   "outputs": [
    {
     "name": "stdout",
     "output_type": "stream",
     "text": [
      "[1] 165907     17\n"
     ]
    },
    {
     "data": {
      "text/html": [
       "<table class=\"dataframe\">\n",
       "<caption>A tibble: 6 × 17</caption>\n",
       "<thead>\n",
       "\t<tr><th scope=col>Chrom</th><th scope=col>Start</th><th scope=col>End</th><th scope=col>Chrom_CCRE</th><th scope=col>Start_CCRE</th><th scope=col>End_CCRE</th><th scope=col>Name</th><th scope=col>Score</th><th scope=col>Strand</th><th scope=col>Value1</th><th scope=col>Value2</th><th scope=col>Value3</th><th scope=col>Label1</th><th scope=col>Label2</th><th scope=col>Overlap</th><th scope=col>Peak</th><th scope=col>Len</th></tr>\n",
       "\t<tr><th scope=col>&lt;chr&gt;</th><th scope=col>&lt;dbl&gt;</th><th scope=col>&lt;dbl&gt;</th><th scope=col>&lt;chr&gt;</th><th scope=col>&lt;dbl&gt;</th><th scope=col>&lt;dbl&gt;</th><th scope=col>&lt;chr&gt;</th><th scope=col>&lt;dbl&gt;</th><th scope=col>&lt;chr&gt;</th><th scope=col>&lt;dbl&gt;</th><th scope=col>&lt;dbl&gt;</th><th scope=col>&lt;chr&gt;</th><th scope=col>&lt;chr&gt;</th><th scope=col>&lt;chr&gt;</th><th scope=col>&lt;dbl&gt;</th><th scope=col>&lt;chr&gt;</th><th scope=col>&lt;dbl&gt;</th></tr>\n",
       "</thead>\n",
       "<tbody>\n",
       "\t<tr><td>chr1</td><td>180982</td><td>182087</td><td>chr1</td><td>181251</td><td>181601</td><td>EH38E1310153</td><td>0</td><td>.</td><td>181251</td><td>181601</td><td>6,218,147  </td><td>DNase-only    </td><td>All-data/Full-classification</td><td>350</td><td>chr1_180982_182087</td><td>1105</td></tr>\n",
       "\t<tr><td>chr1</td><td>777949</td><td>779437</td><td>chr1</td><td>778562</td><td>778912</td><td>EH38E1310158</td><td>0</td><td>.</td><td>778562</td><td>778912</td><td>255,0,0    </td><td>PLS,CTCF-bound</td><td>All-data/Full-classification</td><td>350</td><td>chr1_777949_779437</td><td>1488</td></tr>\n",
       "\t<tr><td>chr1</td><td>777949</td><td>779437</td><td>chr1</td><td>779086</td><td>779355</td><td>EH38E1310159</td><td>0</td><td>.</td><td>779086</td><td>779355</td><td>255,0,0    </td><td>PLS           </td><td>All-data/Full-classification</td><td>269</td><td>chr1_777949_779437</td><td>1488</td></tr>\n",
       "\t<tr><td>chr1</td><td>816774</td><td>817547</td><td>chr1</td><td>817080</td><td>817403</td><td>EH38E1310166</td><td>0</td><td>.</td><td>817080</td><td>817403</td><td>225,225,225</td><td>Low-DNase     </td><td>All-data/Full-classification</td><td>323</td><td>chr1_816774_817547</td><td> 773</td></tr>\n",
       "\t<tr><td>chr1</td><td>818602</td><td>819380</td><td>chr1</td><td>818718</td><td>818872</td><td>EH38E1310168</td><td>0</td><td>.</td><td>818718</td><td>818872</td><td>225,225,225</td><td>Low-DNase     </td><td>All-data/Full-classification</td><td>154</td><td>chr1_818602_819380</td><td> 778</td></tr>\n",
       "\t<tr><td>chr1</td><td>819732</td><td>820291</td><td>chr1</td><td>819893</td><td>820227</td><td>EH38E1310170</td><td>0</td><td>.</td><td>819893</td><td>820227</td><td>225,225,225</td><td>Low-DNase     </td><td>All-data/Full-classification</td><td>334</td><td>chr1_819732_820291</td><td> 559</td></tr>\n",
       "</tbody>\n",
       "</table>\n"
      ],
      "text/latex": [
       "A tibble: 6 × 17\n",
       "\\begin{tabular}{lllllllllllllllll}\n",
       " Chrom & Start & End & Chrom\\_CCRE & Start\\_CCRE & End\\_CCRE & Name & Score & Strand & Value1 & Value2 & Value3 & Label1 & Label2 & Overlap & Peak & Len\\\\\n",
       " <chr> & <dbl> & <dbl> & <chr> & <dbl> & <dbl> & <chr> & <dbl> & <chr> & <dbl> & <dbl> & <chr> & <chr> & <chr> & <dbl> & <chr> & <dbl>\\\\\n",
       "\\hline\n",
       "\t chr1 & 180982 & 182087 & chr1 & 181251 & 181601 & EH38E1310153 & 0 & . & 181251 & 181601 & 6,218,147   & DNase-only     & All-data/Full-classification & 350 & chr1\\_180982\\_182087 & 1105\\\\\n",
       "\t chr1 & 777949 & 779437 & chr1 & 778562 & 778912 & EH38E1310158 & 0 & . & 778562 & 778912 & 255,0,0     & PLS,CTCF-bound & All-data/Full-classification & 350 & chr1\\_777949\\_779437 & 1488\\\\\n",
       "\t chr1 & 777949 & 779437 & chr1 & 779086 & 779355 & EH38E1310159 & 0 & . & 779086 & 779355 & 255,0,0     & PLS            & All-data/Full-classification & 269 & chr1\\_777949\\_779437 & 1488\\\\\n",
       "\t chr1 & 816774 & 817547 & chr1 & 817080 & 817403 & EH38E1310166 & 0 & . & 817080 & 817403 & 225,225,225 & Low-DNase      & All-data/Full-classification & 323 & chr1\\_816774\\_817547 &  773\\\\\n",
       "\t chr1 & 818602 & 819380 & chr1 & 818718 & 818872 & EH38E1310168 & 0 & . & 818718 & 818872 & 225,225,225 & Low-DNase      & All-data/Full-classification & 154 & chr1\\_818602\\_819380 &  778\\\\\n",
       "\t chr1 & 819732 & 820291 & chr1 & 819893 & 820227 & EH38E1310170 & 0 & . & 819893 & 820227 & 225,225,225 & Low-DNase      & All-data/Full-classification & 334 & chr1\\_819732\\_820291 &  559\\\\\n",
       "\\end{tabular}\n"
      ],
      "text/markdown": [
       "\n",
       "A tibble: 6 × 17\n",
       "\n",
       "| Chrom &lt;chr&gt; | Start &lt;dbl&gt; | End &lt;dbl&gt; | Chrom_CCRE &lt;chr&gt; | Start_CCRE &lt;dbl&gt; | End_CCRE &lt;dbl&gt; | Name &lt;chr&gt; | Score &lt;dbl&gt; | Strand &lt;chr&gt; | Value1 &lt;dbl&gt; | Value2 &lt;dbl&gt; | Value3 &lt;chr&gt; | Label1 &lt;chr&gt; | Label2 &lt;chr&gt; | Overlap &lt;dbl&gt; | Peak &lt;chr&gt; | Len &lt;dbl&gt; |\n",
       "|---|---|---|---|---|---|---|---|---|---|---|---|---|---|---|---|---|\n",
       "| chr1 | 180982 | 182087 | chr1 | 181251 | 181601 | EH38E1310153 | 0 | . | 181251 | 181601 | 6,218,147   | DNase-only     | All-data/Full-classification | 350 | chr1_180982_182087 | 1105 |\n",
       "| chr1 | 777949 | 779437 | chr1 | 778562 | 778912 | EH38E1310158 | 0 | . | 778562 | 778912 | 255,0,0     | PLS,CTCF-bound | All-data/Full-classification | 350 | chr1_777949_779437 | 1488 |\n",
       "| chr1 | 777949 | 779437 | chr1 | 779086 | 779355 | EH38E1310159 | 0 | . | 779086 | 779355 | 255,0,0     | PLS            | All-data/Full-classification | 269 | chr1_777949_779437 | 1488 |\n",
       "| chr1 | 816774 | 817547 | chr1 | 817080 | 817403 | EH38E1310166 | 0 | . | 817080 | 817403 | 225,225,225 | Low-DNase      | All-data/Full-classification | 323 | chr1_816774_817547 |  773 |\n",
       "| chr1 | 818602 | 819380 | chr1 | 818718 | 818872 | EH38E1310168 | 0 | . | 818718 | 818872 | 225,225,225 | Low-DNase      | All-data/Full-classification | 154 | chr1_818602_819380 |  778 |\n",
       "| chr1 | 819732 | 820291 | chr1 | 819893 | 820227 | EH38E1310170 | 0 | . | 819893 | 820227 | 225,225,225 | Low-DNase      | All-data/Full-classification | 334 | chr1_819732_820291 |  559 |\n",
       "\n"
      ],
      "text/plain": [
       "  Chrom Start  End    Chrom_CCRE Start_CCRE End_CCRE Name         Score Strand\n",
       "1 chr1  180982 182087 chr1       181251     181601   EH38E1310153 0     .     \n",
       "2 chr1  777949 779437 chr1       778562     778912   EH38E1310158 0     .     \n",
       "3 chr1  777949 779437 chr1       779086     779355   EH38E1310159 0     .     \n",
       "4 chr1  816774 817547 chr1       817080     817403   EH38E1310166 0     .     \n",
       "5 chr1  818602 819380 chr1       818718     818872   EH38E1310168 0     .     \n",
       "6 chr1  819732 820291 chr1       819893     820227   EH38E1310170 0     .     \n",
       "  Value1 Value2 Value3      Label1         Label2                       Overlap\n",
       "1 181251 181601 6,218,147   DNase-only     All-data/Full-classification 350    \n",
       "2 778562 778912 255,0,0     PLS,CTCF-bound All-data/Full-classification 350    \n",
       "3 779086 779355 255,0,0     PLS            All-data/Full-classification 269    \n",
       "4 817080 817403 225,225,225 Low-DNase      All-data/Full-classification 323    \n",
       "5 818718 818872 225,225,225 Low-DNase      All-data/Full-classification 154    \n",
       "6 819893 820227 225,225,225 Low-DNase      All-data/Full-classification 334    \n",
       "  Peak               Len \n",
       "1 chr1_180982_182087 1105\n",
       "2 chr1_777949_779437 1488\n",
       "3 chr1_777949_779437 1488\n",
       "4 chr1_816774_817547  773\n",
       "5 chr1_818602_819380  778\n",
       "6 chr1_819732_820291  559"
      ]
     },
     "metadata": {},
     "output_type": "display_data"
    }
   ],
   "source": [
    "### set file path\n",
    "fdiry = file.path(FD_RES, \"region\", \"KS91_K562_astarrseq_peak_macs\")\n",
    "fname = \"KS91_K562_hg38_ASTARRseq_Input.all_reps.masked.union_narrowPeak.q5.ccre_all.bed.gz\"\n",
    "fpath = file.path(fdiry, fname)\n",
    "\n",
    "### import data\n",
    "cnames = c(\"Chrom\", \"Start\", \"End\",\n",
    "           \"Chrom_CCRE\", \"Start_CCRE\", \"End_CCRE\", \"Name\", \"Score\", \"Strand\", \n",
    "           \"Value1\", \"Value2\", \"Value3\", \"Label1\", \"Label2\",\n",
    "           \"Overlap\")\n",
    "dat = read_tsv(fpath, col_names = cnames, show_col_types = FALSE)\n",
    "dat = dat %>% mutate(\n",
    "    Peak = paste(Chrom, Start, End, sep=\"_\"),\n",
    "    Len  = End - Start)\n",
    "\n",
    "### assign\n",
    "dat_ccre = dat\n",
    "print(dim(dat))\n",
    "head(dat)"
   ]
  },
  {
   "cell_type": "markdown",
   "id": "82352ee6",
   "metadata": {},
   "source": [
    "## Annotation: ReMap"
   ]
  },
  {
   "cell_type": "code",
   "execution_count": 3,
   "id": "84c90122",
   "metadata": {},
   "outputs": [
    {
     "name": "stdout",
     "output_type": "stream",
     "text": [
      "[1] 5520842      15\n"
     ]
    },
    {
     "data": {
      "text/html": [
       "<table class=\"dataframe\">\n",
       "<caption>A tibble: 6 × 15</caption>\n",
       "<thead>\n",
       "\t<tr><th scope=col>Chrom</th><th scope=col>Start</th><th scope=col>End</th><th scope=col>Chrom_ReMap</th><th scope=col>Start_ReMap</th><th scope=col>End_ReMap</th><th scope=col>Name</th><th scope=col>Score</th><th scope=col>Strand</th><th scope=col>Value1</th><th scope=col>Value2</th><th scope=col>Value3</th><th scope=col>Overlap</th><th scope=col>Peak</th><th scope=col>Len</th></tr>\n",
       "\t<tr><th scope=col>&lt;chr&gt;</th><th scope=col>&lt;dbl&gt;</th><th scope=col>&lt;dbl&gt;</th><th scope=col>&lt;chr&gt;</th><th scope=col>&lt;dbl&gt;</th><th scope=col>&lt;dbl&gt;</th><th scope=col>&lt;chr&gt;</th><th scope=col>&lt;dbl&gt;</th><th scope=col>&lt;chr&gt;</th><th scope=col>&lt;dbl&gt;</th><th scope=col>&lt;dbl&gt;</th><th scope=col>&lt;dbl&gt;</th><th scope=col>&lt;dbl&gt;</th><th scope=col>&lt;chr&gt;</th><th scope=col>&lt;dbl&gt;</th></tr>\n",
       "</thead>\n",
       "<tbody>\n",
       "\t<tr><td>chr1</td><td> 10015</td><td> 10442</td><td>chr1</td><td> 10016</td><td> 10229</td><td>ZBTB5:K-562 </td><td>1</td><td>.</td><td> 10108</td><td> 10109</td><td>   215958</td><td>213</td><td>chr1_10015_10442  </td><td> 427</td></tr>\n",
       "\t<tr><td>chr1</td><td>136071</td><td>137429</td><td>chr1</td><td>136239</td><td>136897</td><td>ZBTB33:K-562</td><td>1</td><td>.</td><td>136734</td><td>136735</td><td>252224252</td><td>658</td><td>chr1_136071_137429</td><td>1358</td></tr>\n",
       "\t<tr><td>chr1</td><td>136071</td><td>137429</td><td>chr1</td><td>136277</td><td>137062</td><td>EGR1:K-562  </td><td>2</td><td>.</td><td>136757</td><td>136758</td><td> 56224140</td><td>785</td><td>chr1_136071_137429</td><td>1358</td></tr>\n",
       "\t<tr><td>chr1</td><td>136071</td><td>137429</td><td>chr1</td><td>136281</td><td>137167</td><td>ZNF639:K-562</td><td>1</td><td>.</td><td>136754</td><td>136755</td><td>224112112</td><td>886</td><td>chr1_136071_137429</td><td>1358</td></tr>\n",
       "\t<tr><td>chr1</td><td>136071</td><td>137429</td><td>chr1</td><td>136332</td><td>136968</td><td>TRIM24:K-562</td><td>2</td><td>.</td><td>136803</td><td>136804</td><td> 25256252</td><td>636</td><td>chr1_136071_137429</td><td>1358</td></tr>\n",
       "\t<tr><td>chr1</td><td>136071</td><td>137429</td><td>chr1</td><td>136340</td><td>137098</td><td>NR2C1:K-562 </td><td>2</td><td>.</td><td>136788</td><td>136789</td><td>  4125089</td><td>758</td><td>chr1_136071_137429</td><td>1358</td></tr>\n",
       "</tbody>\n",
       "</table>\n"
      ],
      "text/latex": [
       "A tibble: 6 × 15\n",
       "\\begin{tabular}{lllllllllllllll}\n",
       " Chrom & Start & End & Chrom\\_ReMap & Start\\_ReMap & End\\_ReMap & Name & Score & Strand & Value1 & Value2 & Value3 & Overlap & Peak & Len\\\\\n",
       " <chr> & <dbl> & <dbl> & <chr> & <dbl> & <dbl> & <chr> & <dbl> & <chr> & <dbl> & <dbl> & <dbl> & <dbl> & <chr> & <dbl>\\\\\n",
       "\\hline\n",
       "\t chr1 &  10015 &  10442 & chr1 &  10016 &  10229 & ZBTB5:K-562  & 1 & . &  10108 &  10109 &    215958 & 213 & chr1\\_10015\\_10442   &  427\\\\\n",
       "\t chr1 & 136071 & 137429 & chr1 & 136239 & 136897 & ZBTB33:K-562 & 1 & . & 136734 & 136735 & 252224252 & 658 & chr1\\_136071\\_137429 & 1358\\\\\n",
       "\t chr1 & 136071 & 137429 & chr1 & 136277 & 137062 & EGR1:K-562   & 2 & . & 136757 & 136758 &  56224140 & 785 & chr1\\_136071\\_137429 & 1358\\\\\n",
       "\t chr1 & 136071 & 137429 & chr1 & 136281 & 137167 & ZNF639:K-562 & 1 & . & 136754 & 136755 & 224112112 & 886 & chr1\\_136071\\_137429 & 1358\\\\\n",
       "\t chr1 & 136071 & 137429 & chr1 & 136332 & 136968 & TRIM24:K-562 & 2 & . & 136803 & 136804 &  25256252 & 636 & chr1\\_136071\\_137429 & 1358\\\\\n",
       "\t chr1 & 136071 & 137429 & chr1 & 136340 & 137098 & NR2C1:K-562  & 2 & . & 136788 & 136789 &   4125089 & 758 & chr1\\_136071\\_137429 & 1358\\\\\n",
       "\\end{tabular}\n"
      ],
      "text/markdown": [
       "\n",
       "A tibble: 6 × 15\n",
       "\n",
       "| Chrom &lt;chr&gt; | Start &lt;dbl&gt; | End &lt;dbl&gt; | Chrom_ReMap &lt;chr&gt; | Start_ReMap &lt;dbl&gt; | End_ReMap &lt;dbl&gt; | Name &lt;chr&gt; | Score &lt;dbl&gt; | Strand &lt;chr&gt; | Value1 &lt;dbl&gt; | Value2 &lt;dbl&gt; | Value3 &lt;dbl&gt; | Overlap &lt;dbl&gt; | Peak &lt;chr&gt; | Len &lt;dbl&gt; |\n",
       "|---|---|---|---|---|---|---|---|---|---|---|---|---|---|---|\n",
       "| chr1 |  10015 |  10442 | chr1 |  10016 |  10229 | ZBTB5:K-562  | 1 | . |  10108 |  10109 |    215958 | 213 | chr1_10015_10442   |  427 |\n",
       "| chr1 | 136071 | 137429 | chr1 | 136239 | 136897 | ZBTB33:K-562 | 1 | . | 136734 | 136735 | 252224252 | 658 | chr1_136071_137429 | 1358 |\n",
       "| chr1 | 136071 | 137429 | chr1 | 136277 | 137062 | EGR1:K-562   | 2 | . | 136757 | 136758 |  56224140 | 785 | chr1_136071_137429 | 1358 |\n",
       "| chr1 | 136071 | 137429 | chr1 | 136281 | 137167 | ZNF639:K-562 | 1 | . | 136754 | 136755 | 224112112 | 886 | chr1_136071_137429 | 1358 |\n",
       "| chr1 | 136071 | 137429 | chr1 | 136332 | 136968 | TRIM24:K-562 | 2 | . | 136803 | 136804 |  25256252 | 636 | chr1_136071_137429 | 1358 |\n",
       "| chr1 | 136071 | 137429 | chr1 | 136340 | 137098 | NR2C1:K-562  | 2 | . | 136788 | 136789 |   4125089 | 758 | chr1_136071_137429 | 1358 |\n",
       "\n"
      ],
      "text/plain": [
       "  Chrom Start  End    Chrom_ReMap Start_ReMap End_ReMap Name         Score\n",
       "1 chr1   10015  10442 chr1         10016       10229    ZBTB5:K-562  1    \n",
       "2 chr1  136071 137429 chr1        136239      136897    ZBTB33:K-562 1    \n",
       "3 chr1  136071 137429 chr1        136277      137062    EGR1:K-562   2    \n",
       "4 chr1  136071 137429 chr1        136281      137167    ZNF639:K-562 1    \n",
       "5 chr1  136071 137429 chr1        136332      136968    TRIM24:K-562 2    \n",
       "6 chr1  136071 137429 chr1        136340      137098    NR2C1:K-562  2    \n",
       "  Strand Value1 Value2 Value3    Overlap Peak               Len \n",
       "1 .       10108  10109    215958 213     chr1_10015_10442    427\n",
       "2 .      136734 136735 252224252 658     chr1_136071_137429 1358\n",
       "3 .      136757 136758  56224140 785     chr1_136071_137429 1358\n",
       "4 .      136754 136755 224112112 886     chr1_136071_137429 1358\n",
       "5 .      136803 136804  25256252 636     chr1_136071_137429 1358\n",
       "6 .      136788 136789   4125089 758     chr1_136071_137429 1358"
      ]
     },
     "metadata": {},
     "output_type": "display_data"
    }
   ],
   "source": [
    "### set file path\n",
    "fdiry = file.path(FD_RES, \"region\", \"KS91_K562_astarrseq_peak_macs\")\n",
    "fname = \"KS91_K562_hg38_ASTARRseq_Input.all_reps.masked.union_narrowPeak.q5.remap2022_nr.bed.gz\"\n",
    "fpath = file.path(fdiry, fname)\n",
    "\n",
    "### import data\n",
    "cnames = c(\"Chrom\", \"Start\", \"End\",\n",
    "           \"Chrom_ReMap\", \"Start_ReMap\", \"End_ReMap\", \"Name\", \"Score\", \"Strand\", \n",
    "           \"Value1\", \"Value2\", \"Value3\",\n",
    "           \"Overlap\")\n",
    "dat = read_tsv(fpath, col_names = cnames, show_col_types = FALSE)\n",
    "dat = dat %>% mutate(\n",
    "    Peak = paste(Chrom, Start, End, sep=\"_\"),\n",
    "    Len  = End - Start)\n",
    "\n",
    "### assign\n",
    "dat_remap = dat\n",
    "print(dim(dat))\n",
    "head(dat)"
   ]
  },
  {
   "cell_type": "markdown",
   "id": "e5bb867d",
   "metadata": {},
   "source": [
    "## Normalize counts to frequencies"
   ]
  },
  {
   "cell_type": "code",
   "execution_count": 6,
   "id": "32922c65",
   "metadata": {},
   "outputs": [
    {
     "name": "stdout",
     "output_type": "stream",
     "text": [
      "[1] 120179      9\n"
     ]
    },
    {
     "data": {
      "text/html": [
       "<table class=\"dataframe\">\n",
       "<caption>A grouped_df: 6 × 9</caption>\n",
       "<thead>\n",
       "\t<tr><th scope=col>Peak</th><th scope=col>Chrom</th><th scope=col>Start</th><th scope=col>End</th><th scope=col>Len</th><th scope=col>Label</th><th scope=col>Count</th><th scope=col>Total</th><th scope=col>Freq</th></tr>\n",
       "\t<tr><th scope=col>&lt;chr&gt;</th><th scope=col>&lt;chr&gt;</th><th scope=col>&lt;dbl&gt;</th><th scope=col>&lt;dbl&gt;</th><th scope=col>&lt;dbl&gt;</th><th scope=col>&lt;chr&gt;</th><th scope=col>&lt;int&gt;</th><th scope=col>&lt;int&gt;</th><th scope=col>&lt;dbl&gt;</th></tr>\n",
       "</thead>\n",
       "<tbody>\n",
       "\t<tr><td>chr1_100027983_100029702</td><td>chr1</td><td>100027983</td><td>100029702</td><td>1719</td><td>Low-DNase</td><td>1</td><td>1</td><td>1.0000000</td></tr>\n",
       "\t<tr><td>chr1_100036871_100039191</td><td>chr1</td><td>100036871</td><td>100039191</td><td>2320</td><td>Low-DNase</td><td>2</td><td>6</td><td>0.3333333</td></tr>\n",
       "\t<tr><td>chr1_100036871_100039191</td><td>chr1</td><td>100036871</td><td>100039191</td><td>2320</td><td>pELS     </td><td>3</td><td>6</td><td>0.5000000</td></tr>\n",
       "\t<tr><td>chr1_100036871_100039191</td><td>chr1</td><td>100036871</td><td>100039191</td><td>2320</td><td>PLS      </td><td>1</td><td>6</td><td>0.1666667</td></tr>\n",
       "\t<tr><td>chr1_100048234_100048985</td><td>chr1</td><td>100048234</td><td>100048985</td><td> 751</td><td>Low-DNase</td><td>1</td><td>1</td><td>1.0000000</td></tr>\n",
       "\t<tr><td>chr1_100049562_100050540</td><td>chr1</td><td>100049562</td><td>100050540</td><td> 978</td><td>Low-DNase</td><td>1</td><td>1</td><td>1.0000000</td></tr>\n",
       "</tbody>\n",
       "</table>\n"
      ],
      "text/latex": [
       "A grouped\\_df: 6 × 9\n",
       "\\begin{tabular}{lllllllll}\n",
       " Peak & Chrom & Start & End & Len & Label & Count & Total & Freq\\\\\n",
       " <chr> & <chr> & <dbl> & <dbl> & <dbl> & <chr> & <int> & <int> & <dbl>\\\\\n",
       "\\hline\n",
       "\t chr1\\_100027983\\_100029702 & chr1 & 100027983 & 100029702 & 1719 & Low-DNase & 1 & 1 & 1.0000000\\\\\n",
       "\t chr1\\_100036871\\_100039191 & chr1 & 100036871 & 100039191 & 2320 & Low-DNase & 2 & 6 & 0.3333333\\\\\n",
       "\t chr1\\_100036871\\_100039191 & chr1 & 100036871 & 100039191 & 2320 & pELS      & 3 & 6 & 0.5000000\\\\\n",
       "\t chr1\\_100036871\\_100039191 & chr1 & 100036871 & 100039191 & 2320 & PLS       & 1 & 6 & 0.1666667\\\\\n",
       "\t chr1\\_100048234\\_100048985 & chr1 & 100048234 & 100048985 &  751 & Low-DNase & 1 & 1 & 1.0000000\\\\\n",
       "\t chr1\\_100049562\\_100050540 & chr1 & 100049562 & 100050540 &  978 & Low-DNase & 1 & 1 & 1.0000000\\\\\n",
       "\\end{tabular}\n"
      ],
      "text/markdown": [
       "\n",
       "A grouped_df: 6 × 9\n",
       "\n",
       "| Peak &lt;chr&gt; | Chrom &lt;chr&gt; | Start &lt;dbl&gt; | End &lt;dbl&gt; | Len &lt;dbl&gt; | Label &lt;chr&gt; | Count &lt;int&gt; | Total &lt;int&gt; | Freq &lt;dbl&gt; |\n",
       "|---|---|---|---|---|---|---|---|---|\n",
       "| chr1_100027983_100029702 | chr1 | 100027983 | 100029702 | 1719 | Low-DNase | 1 | 1 | 1.0000000 |\n",
       "| chr1_100036871_100039191 | chr1 | 100036871 | 100039191 | 2320 | Low-DNase | 2 | 6 | 0.3333333 |\n",
       "| chr1_100036871_100039191 | chr1 | 100036871 | 100039191 | 2320 | pELS      | 3 | 6 | 0.5000000 |\n",
       "| chr1_100036871_100039191 | chr1 | 100036871 | 100039191 | 2320 | PLS       | 1 | 6 | 0.1666667 |\n",
       "| chr1_100048234_100048985 | chr1 | 100048234 | 100048985 |  751 | Low-DNase | 1 | 1 | 1.0000000 |\n",
       "| chr1_100049562_100050540 | chr1 | 100049562 | 100050540 |  978 | Low-DNase | 1 | 1 | 1.0000000 |\n",
       "\n"
      ],
      "text/plain": [
       "  Peak                     Chrom Start     End       Len  Label     Count Total\n",
       "1 chr1_100027983_100029702 chr1  100027983 100029702 1719 Low-DNase 1     1    \n",
       "2 chr1_100036871_100039191 chr1  100036871 100039191 2320 Low-DNase 2     6    \n",
       "3 chr1_100036871_100039191 chr1  100036871 100039191 2320 pELS      3     6    \n",
       "4 chr1_100036871_100039191 chr1  100036871 100039191 2320 PLS       1     6    \n",
       "5 chr1_100048234_100048985 chr1  100048234 100048985  751 Low-DNase 1     1    \n",
       "6 chr1_100049562_100050540 chr1  100049562 100050540  978 Low-DNase 1     1    \n",
       "  Freq     \n",
       "1 1.0000000\n",
       "2 0.3333333\n",
       "3 0.5000000\n",
       "4 0.1666667\n",
       "5 1.0000000\n",
       "6 1.0000000"
      ]
     },
     "metadata": {},
     "output_type": "display_data"
    }
   ],
   "source": [
    "###\n",
    "dat = dat_ccre\n",
    "dat = dat %>% \n",
    "    dplyr::rename(Label = Label1) %>%\n",
    "    group_by(Peak, Chrom, Start, End, Len, Label) %>% \n",
    "    summarize(Count = n(), .groups=\"drop\")\n",
    "\n",
    "###\n",
    "dat = dat %>%\n",
    "    group_by(Peak) %>%\n",
    "    mutate(Total = sum(Count)) %>%\n",
    "    mutate(Freq  = Count / Total)\n",
    "\n",
    "###\n",
    "dat_freq_ccre = dat\n",
    "print(dim(dat))\n",
    "head(dat)"
   ]
  },
  {
   "cell_type": "code",
   "execution_count": 7,
   "id": "554c279d",
   "metadata": {},
   "outputs": [
    {
     "name": "stdout",
     "output_type": "stream",
     "text": [
      "[1] 5162105       9\n"
     ]
    },
    {
     "data": {
      "text/html": [
       "<table class=\"dataframe\">\n",
       "<caption>A grouped_df: 6 × 9</caption>\n",
       "<thead>\n",
       "\t<tr><th scope=col>Peak</th><th scope=col>Chrom</th><th scope=col>Start</th><th scope=col>End</th><th scope=col>Len</th><th scope=col>Name</th><th scope=col>Count</th><th scope=col>Total</th><th scope=col>Freq</th></tr>\n",
       "\t<tr><th scope=col>&lt;chr&gt;</th><th scope=col>&lt;chr&gt;</th><th scope=col>&lt;dbl&gt;</th><th scope=col>&lt;dbl&gt;</th><th scope=col>&lt;dbl&gt;</th><th scope=col>&lt;chr&gt;</th><th scope=col>&lt;int&gt;</th><th scope=col>&lt;int&gt;</th><th scope=col>&lt;dbl&gt;</th></tr>\n",
       "</thead>\n",
       "<tbody>\n",
       "\t<tr><td>chr1_100006256_100006880</td><td>chr1</td><td>100006256</td><td>100006880</td><td> 624</td><td>TAF15:K-562             </td><td>1</td><td>1</td><td>1.0000000</td></tr>\n",
       "\t<tr><td>chr1_10002087_10003910  </td><td>chr1</td><td> 10002087</td><td> 10003910</td><td>1823</td><td>CBX2:K-562              </td><td>1</td><td>6</td><td>0.1666667</td></tr>\n",
       "\t<tr><td>chr1_10002087_10003910  </td><td>chr1</td><td> 10002087</td><td> 10003910</td><td>1823</td><td>CBX8:K-562              </td><td>1</td><td>6</td><td>0.1666667</td></tr>\n",
       "\t<tr><td>chr1_10002087_10003910  </td><td>chr1</td><td> 10002087</td><td> 10003910</td><td>1823</td><td>CEBPB:MCF-7,K-562,Hep-G2</td><td>1</td><td>6</td><td>0.1666667</td></tr>\n",
       "\t<tr><td>chr1_10002087_10003910  </td><td>chr1</td><td> 10002087</td><td> 10003910</td><td>1823</td><td>ETS1:K-562              </td><td>1</td><td>6</td><td>0.1666667</td></tr>\n",
       "\t<tr><td>chr1_10002087_10003910  </td><td>chr1</td><td> 10002087</td><td> 10003910</td><td>1823</td><td>HINFP:K-562             </td><td>1</td><td>6</td><td>0.1666667</td></tr>\n",
       "</tbody>\n",
       "</table>\n"
      ],
      "text/latex": [
       "A grouped\\_df: 6 × 9\n",
       "\\begin{tabular}{lllllllll}\n",
       " Peak & Chrom & Start & End & Len & Name & Count & Total & Freq\\\\\n",
       " <chr> & <chr> & <dbl> & <dbl> & <dbl> & <chr> & <int> & <int> & <dbl>\\\\\n",
       "\\hline\n",
       "\t chr1\\_100006256\\_100006880 & chr1 & 100006256 & 100006880 &  624 & TAF15:K-562              & 1 & 1 & 1.0000000\\\\\n",
       "\t chr1\\_10002087\\_10003910   & chr1 &  10002087 &  10003910 & 1823 & CBX2:K-562               & 1 & 6 & 0.1666667\\\\\n",
       "\t chr1\\_10002087\\_10003910   & chr1 &  10002087 &  10003910 & 1823 & CBX8:K-562               & 1 & 6 & 0.1666667\\\\\n",
       "\t chr1\\_10002087\\_10003910   & chr1 &  10002087 &  10003910 & 1823 & CEBPB:MCF-7,K-562,Hep-G2 & 1 & 6 & 0.1666667\\\\\n",
       "\t chr1\\_10002087\\_10003910   & chr1 &  10002087 &  10003910 & 1823 & ETS1:K-562               & 1 & 6 & 0.1666667\\\\\n",
       "\t chr1\\_10002087\\_10003910   & chr1 &  10002087 &  10003910 & 1823 & HINFP:K-562              & 1 & 6 & 0.1666667\\\\\n",
       "\\end{tabular}\n"
      ],
      "text/markdown": [
       "\n",
       "A grouped_df: 6 × 9\n",
       "\n",
       "| Peak &lt;chr&gt; | Chrom &lt;chr&gt; | Start &lt;dbl&gt; | End &lt;dbl&gt; | Len &lt;dbl&gt; | Name &lt;chr&gt; | Count &lt;int&gt; | Total &lt;int&gt; | Freq &lt;dbl&gt; |\n",
       "|---|---|---|---|---|---|---|---|---|\n",
       "| chr1_100006256_100006880 | chr1 | 100006256 | 100006880 |  624 | TAF15:K-562              | 1 | 1 | 1.0000000 |\n",
       "| chr1_10002087_10003910   | chr1 |  10002087 |  10003910 | 1823 | CBX2:K-562               | 1 | 6 | 0.1666667 |\n",
       "| chr1_10002087_10003910   | chr1 |  10002087 |  10003910 | 1823 | CBX8:K-562               | 1 | 6 | 0.1666667 |\n",
       "| chr1_10002087_10003910   | chr1 |  10002087 |  10003910 | 1823 | CEBPB:MCF-7,K-562,Hep-G2 | 1 | 6 | 0.1666667 |\n",
       "| chr1_10002087_10003910   | chr1 |  10002087 |  10003910 | 1823 | ETS1:K-562               | 1 | 6 | 0.1666667 |\n",
       "| chr1_10002087_10003910   | chr1 |  10002087 |  10003910 | 1823 | HINFP:K-562              | 1 | 6 | 0.1666667 |\n",
       "\n"
      ],
      "text/plain": [
       "  Peak                     Chrom Start     End       Len \n",
       "1 chr1_100006256_100006880 chr1  100006256 100006880  624\n",
       "2 chr1_10002087_10003910   chr1   10002087  10003910 1823\n",
       "3 chr1_10002087_10003910   chr1   10002087  10003910 1823\n",
       "4 chr1_10002087_10003910   chr1   10002087  10003910 1823\n",
       "5 chr1_10002087_10003910   chr1   10002087  10003910 1823\n",
       "6 chr1_10002087_10003910   chr1   10002087  10003910 1823\n",
       "  Name                     Count Total Freq     \n",
       "1 TAF15:K-562              1     1     1.0000000\n",
       "2 CBX2:K-562               1     6     0.1666667\n",
       "3 CBX8:K-562               1     6     0.1666667\n",
       "4 CEBPB:MCF-7,K-562,Hep-G2 1     6     0.1666667\n",
       "5 ETS1:K-562               1     6     0.1666667\n",
       "6 HINFP:K-562              1     6     0.1666667"
      ]
     },
     "metadata": {},
     "output_type": "display_data"
    }
   ],
   "source": [
    "###\n",
    "dat = dat_remap\n",
    "dat = dat %>% \n",
    "    group_by(Peak, Chrom, Start, End, Len, Name) %>% \n",
    "    summarize(Count = n(), .groups=\"drop\")\n",
    "\n",
    "###\n",
    "dat = dat %>%\n",
    "    group_by(Peak) %>%\n",
    "    mutate(Total = sum(Count)) %>%\n",
    "    mutate(Freq  = Count / Total)\n",
    "\n",
    "###\n",
    "dat_freq_remap = dat\n",
    "print(dim(dat))\n",
    "head(dat)"
   ]
  },
  {
   "cell_type": "markdown",
   "id": "b411da76",
   "metadata": {},
   "source": [
    "## Store the table"
   ]
  },
  {
   "cell_type": "code",
   "execution_count": 8,
   "id": "b9c1089a",
   "metadata": {},
   "outputs": [],
   "source": [
    "fdiry = file.path(FD_RES, \"region\", \"KS91_K562_astarrseq_peak_macs\")\n",
    "fname = \"KS91_K562_hg38_ASTARRseq_Input.ccre_all.freq.tsv\"\n",
    "fpath = file.path(fdiry, fname)\n",
    "\n",
    "write_tsv(dat_freq_ccre, fpath)"
   ]
  },
  {
   "cell_type": "code",
   "execution_count": 9,
   "id": "1faad39b",
   "metadata": {},
   "outputs": [],
   "source": [
    "fdiry = file.path(FD_RES, \"region\", \"KS91_K562_astarrseq_peak_macs\")\n",
    "fname = \"KS91_K562_hg38_ASTARRseq_Input.remap2022_nr.tsv\"\n",
    "fpath = file.path(fdiry, fname)\n",
    "\n",
    "write_tsv(dat_freq_remap, fpath)"
   ]
  },
  {
   "cell_type": "code",
   "execution_count": null,
   "id": "2ed71a91",
   "metadata": {},
   "outputs": [],
   "source": []
  }
 ],
 "metadata": {
  "kernelspec": {
   "display_name": "R (alex_py3)",
   "language": "R",
   "name": "ir_alex_py3"
  },
  "language_info": {
   "codemirror_mode": "r",
   "file_extension": ".r",
   "mimetype": "text/x-r-source",
   "name": "R",
   "pygments_lexer": "r",
   "version": "3.6.2"
  }
 },
 "nbformat": 4,
 "nbformat_minor": 5
}
