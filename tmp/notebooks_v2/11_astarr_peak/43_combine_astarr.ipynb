{
 "cells": [
  {
   "cell_type": "code",
   "execution_count": 1,
   "id": "822f6609",
   "metadata": {},
   "outputs": [
    {
     "name": "stdout",
     "output_type": "stream",
     "text": [
      "You are in Singularity: singularity_proj_combeffect \n",
      "BASE DIRECTORY:     /mount/work \n",
      "PATH OF SOURCE:     /mount/work/source \n",
      "PATH OF EXECUTABLE: /mount/work/exe \n",
      "PATH OF ANNOTATION: /mount/work/annotation \n",
      "PATH OF PROJECT:    /mount/project \n",
      "PATH OF RESULTS:    /mount/work/out/proj_combeffect_encode_fcc \n"
     ]
    }
   ],
   "source": [
    "suppressMessages(suppressWarnings(source(\"../config/config_sing.R\")))\n",
    "show_env()"
   ]
  },
  {
   "cell_type": "code",
   "execution_count": 2,
   "id": "b2ff8864",
   "metadata": {},
   "outputs": [],
   "source": [
    "PREFIX = \"KS91_K562_ASTARRseq\"\n",
    "FOLDER = \"coverage_astarrseq_peak_macs_input\""
   ]
  },
  {
   "cell_type": "code",
   "execution_count": 4,
   "id": "53f1c4c8",
   "metadata": {},
   "outputs": [
    {
     "name": "stdout",
     "output_type": "stream",
     "text": [
      "[1] \"/mount/work/out/proj_combeffect_encode_fcc/KS91_K562_ASTARRseq/coverage_astarrseq_peak_macs_input/summary/wgs_deseq_results.tsv\"\n"
     ]
    },
    {
     "name": "stderr",
     "output_type": "stream",
     "text": [
      "\u001b[1mRows: \u001b[22m\u001b[34m246850\u001b[39m \u001b[1mColumns: \u001b[22m\u001b[34m7\u001b[39m\n",
      "\u001b[36m──\u001b[39m \u001b[1mColumn specification\u001b[22m \u001b[36m──────────────────────────────────────────────────────────────────────────────────────────────────────────────────────────────────────────────────────────────────────\u001b[39m\n",
      "\u001b[1mDelimiter:\u001b[22m \"\\t\"\n",
      "\u001b[31mchr\u001b[39m (1): Peak\n",
      "\u001b[32mdbl\u001b[39m (6): baseMean, log2FoldChange, lfcSE, stat, pvalue, padj\n",
      "\n",
      "\u001b[36mℹ\u001b[39m Use `spec()` to retrieve the full column specification for this data.\n",
      "\u001b[36mℹ\u001b[39m Specify the column types or set `show_col_types = FALSE` to quiet this message.\n"
     ]
    }
   ],
   "source": [
    "fdiry = file.path(FD_RES, PREFIX, FOLDER, \"summary\")\n",
    "fname = \"wgs_deseq_results.tsv\"\n",
    "fpath = file.path(fdiry, fname)\n",
    "\n",
    "dat_results = read_tsv(fpath)"
   ]
  },
  {
   "cell_type": "code",
   "execution_count": 6,
   "id": "69b05f4e",
   "metadata": {},
   "outputs": [
    {
     "name": "stderr",
     "output_type": "stream",
     "text": [
      "\u001b[1mRows: \u001b[22m\u001b[34m246852\u001b[39m \u001b[1mColumns: \u001b[22m\u001b[34m3\u001b[39m\n",
      "\u001b[36m──\u001b[39m \u001b[1mColumn specification\u001b[22m \u001b[36m──────────────────────────────────────────────────────────────────────────────────────────────────────────────────────────────────────────────────────────────────────\u001b[39m\n",
      "\u001b[1mDelimiter:\u001b[22m \"\\t\"\n",
      "\u001b[31mchr\u001b[39m (1): Peak\n",
      "\u001b[32mdbl\u001b[39m (2): Input, Output\n",
      "\n",
      "\u001b[36mℹ\u001b[39m Use `spec()` to retrieve the full column specification for this data.\n",
      "\u001b[36mℹ\u001b[39m Specify the column types or set `show_col_types = FALSE` to quiet this message.\n"
     ]
    }
   ],
   "source": [
    "fdiry = file.path(FD_RES, PREFIX, FOLDER, \"summary\")\n",
    "fname = \"wgs_summary_cpm.tsv\"\n",
    "fpath = file.path(fdiry, fname)\n",
    "\n",
    "dat_cpm = read_tsv(fpath)"
   ]
  },
  {
   "cell_type": "code",
   "execution_count": 7,
   "id": "7d0280f8",
   "metadata": {},
   "outputs": [
    {
     "data": {
      "text/html": [
       "<table class=\"dataframe\">\n",
       "<caption>A tibble: 6 × 7</caption>\n",
       "<thead>\n",
       "\t<tr><th scope=col>Peak</th><th scope=col>baseMean</th><th scope=col>log2FoldChange</th><th scope=col>lfcSE</th><th scope=col>stat</th><th scope=col>pvalue</th><th scope=col>padj</th></tr>\n",
       "\t<tr><th scope=col>&lt;chr&gt;</th><th scope=col>&lt;dbl&gt;</th><th scope=col>&lt;dbl&gt;</th><th scope=col>&lt;dbl&gt;</th><th scope=col>&lt;dbl&gt;</th><th scope=col>&lt;dbl&gt;</th><th scope=col>&lt;dbl&gt;</th></tr>\n",
       "</thead>\n",
       "<tbody>\n",
       "\t<tr><td>chr1_10015_10442</td><td> 71.40375</td><td>-2.2136128</td><td>0.2691517</td><td> -8.2244060</td><td>1.961605e-16</td><td>2.910689e-15</td></tr>\n",
       "\t<tr><td>chr1_14253_14645</td><td> 68.63035</td><td> 0.2221859</td><td>0.1534101</td><td>  1.4483134</td><td>1.475294e-01</td><td>2.178106e-01</td></tr>\n",
       "\t<tr><td>chr1_16015_16477</td><td> 71.25409</td><td>-1.2712950</td><td>0.2019628</td><td> -6.2946978</td><td>3.079993e-10</td><td>2.653010e-09</td></tr>\n",
       "\t<tr><td>chr1_17237_17772</td><td>124.03128</td><td>-1.3852891</td><td>0.1638628</td><td> -8.4539594</td><td>2.815873e-17</td><td>4.431894e-16</td></tr>\n",
       "\t<tr><td>chr1_28903_29613</td><td>113.63103</td><td>-1.9422003</td><td>0.1886131</td><td>-10.2972733</td><td>7.248682e-25</td><td>1.723665e-23</td></tr>\n",
       "\t<tr><td>chr1_30803_31072</td><td> 57.37875</td><td>-0.1332069</td><td>0.2145692</td><td> -0.6208109</td><td>5.347240e-01</td><td>6.231400e-01</td></tr>\n",
       "</tbody>\n",
       "</table>\n"
      ],
      "text/latex": [
       "A tibble: 6 × 7\n",
       "\\begin{tabular}{lllllll}\n",
       " Peak & baseMean & log2FoldChange & lfcSE & stat & pvalue & padj\\\\\n",
       " <chr> & <dbl> & <dbl> & <dbl> & <dbl> & <dbl> & <dbl>\\\\\n",
       "\\hline\n",
       "\t chr1\\_10015\\_10442 &  71.40375 & -2.2136128 & 0.2691517 &  -8.2244060 & 1.961605e-16 & 2.910689e-15\\\\\n",
       "\t chr1\\_14253\\_14645 &  68.63035 &  0.2221859 & 0.1534101 &   1.4483134 & 1.475294e-01 & 2.178106e-01\\\\\n",
       "\t chr1\\_16015\\_16477 &  71.25409 & -1.2712950 & 0.2019628 &  -6.2946978 & 3.079993e-10 & 2.653010e-09\\\\\n",
       "\t chr1\\_17237\\_17772 & 124.03128 & -1.3852891 & 0.1638628 &  -8.4539594 & 2.815873e-17 & 4.431894e-16\\\\\n",
       "\t chr1\\_28903\\_29613 & 113.63103 & -1.9422003 & 0.1886131 & -10.2972733 & 7.248682e-25 & 1.723665e-23\\\\\n",
       "\t chr1\\_30803\\_31072 &  57.37875 & -0.1332069 & 0.2145692 &  -0.6208109 & 5.347240e-01 & 6.231400e-01\\\\\n",
       "\\end{tabular}\n"
      ],
      "text/markdown": [
       "\n",
       "A tibble: 6 × 7\n",
       "\n",
       "| Peak &lt;chr&gt; | baseMean &lt;dbl&gt; | log2FoldChange &lt;dbl&gt; | lfcSE &lt;dbl&gt; | stat &lt;dbl&gt; | pvalue &lt;dbl&gt; | padj &lt;dbl&gt; |\n",
       "|---|---|---|---|---|---|---|\n",
       "| chr1_10015_10442 |  71.40375 | -2.2136128 | 0.2691517 |  -8.2244060 | 1.961605e-16 | 2.910689e-15 |\n",
       "| chr1_14253_14645 |  68.63035 |  0.2221859 | 0.1534101 |   1.4483134 | 1.475294e-01 | 2.178106e-01 |\n",
       "| chr1_16015_16477 |  71.25409 | -1.2712950 | 0.2019628 |  -6.2946978 | 3.079993e-10 | 2.653010e-09 |\n",
       "| chr1_17237_17772 | 124.03128 | -1.3852891 | 0.1638628 |  -8.4539594 | 2.815873e-17 | 4.431894e-16 |\n",
       "| chr1_28903_29613 | 113.63103 | -1.9422003 | 0.1886131 | -10.2972733 | 7.248682e-25 | 1.723665e-23 |\n",
       "| chr1_30803_31072 |  57.37875 | -0.1332069 | 0.2145692 |  -0.6208109 | 5.347240e-01 | 6.231400e-01 |\n",
       "\n"
      ],
      "text/plain": [
       "  Peak             baseMean  log2FoldChange lfcSE     stat        pvalue      \n",
       "1 chr1_10015_10442  71.40375 -2.2136128     0.2691517  -8.2244060 1.961605e-16\n",
       "2 chr1_14253_14645  68.63035  0.2221859     0.1534101   1.4483134 1.475294e-01\n",
       "3 chr1_16015_16477  71.25409 -1.2712950     0.2019628  -6.2946978 3.079993e-10\n",
       "4 chr1_17237_17772 124.03128 -1.3852891     0.1638628  -8.4539594 2.815873e-17\n",
       "5 chr1_28903_29613 113.63103 -1.9422003     0.1886131 -10.2972733 7.248682e-25\n",
       "6 chr1_30803_31072  57.37875 -0.1332069     0.2145692  -0.6208109 5.347240e-01\n",
       "  padj        \n",
       "1 2.910689e-15\n",
       "2 2.178106e-01\n",
       "3 2.653010e-09\n",
       "4 4.431894e-16\n",
       "5 1.723665e-23\n",
       "6 6.231400e-01"
      ]
     },
     "metadata": {},
     "output_type": "display_data"
    }
   ],
   "source": [
    "head(dat_results)"
   ]
  },
  {
   "cell_type": "code",
   "execution_count": 8,
   "id": "9c2cda9b",
   "metadata": {},
   "outputs": [
    {
     "data": {
      "text/html": [
       "<table class=\"dataframe\">\n",
       "<caption>A tibble: 6 × 3</caption>\n",
       "<thead>\n",
       "\t<tr><th scope=col>Peak</th><th scope=col>Input</th><th scope=col>Output</th></tr>\n",
       "\t<tr><th scope=col>&lt;chr&gt;</th><th scope=col>&lt;dbl&gt;</th><th scope=col>&lt;dbl&gt;</th></tr>\n",
       "</thead>\n",
       "<tbody>\n",
       "\t<tr><td>chr1_10015_10442</td><td>0.4863317</td><td>0.09736537</td></tr>\n",
       "\t<tr><td>chr1_14253_14645</td><td>0.3152472</td><td>0.27902967</td></tr>\n",
       "\t<tr><td>chr1_16015_16477</td><td>0.4361424</td><td>0.15900628</td></tr>\n",
       "\t<tr><td>chr1_17237_17772</td><td>0.8007562</td><td>0.22194085</td></tr>\n",
       "\t<tr><td>chr1_28903_29613</td><td>0.7629703</td><td>0.16679463</td></tr>\n",
       "\t<tr><td>chr1_30803_31072</td><td>0.2774187</td><td>0.21678565</td></tr>\n",
       "</tbody>\n",
       "</table>\n"
      ],
      "text/latex": [
       "A tibble: 6 × 3\n",
       "\\begin{tabular}{lll}\n",
       " Peak & Input & Output\\\\\n",
       " <chr> & <dbl> & <dbl>\\\\\n",
       "\\hline\n",
       "\t chr1\\_10015\\_10442 & 0.4863317 & 0.09736537\\\\\n",
       "\t chr1\\_14253\\_14645 & 0.3152472 & 0.27902967\\\\\n",
       "\t chr1\\_16015\\_16477 & 0.4361424 & 0.15900628\\\\\n",
       "\t chr1\\_17237\\_17772 & 0.8007562 & 0.22194085\\\\\n",
       "\t chr1\\_28903\\_29613 & 0.7629703 & 0.16679463\\\\\n",
       "\t chr1\\_30803\\_31072 & 0.2774187 & 0.21678565\\\\\n",
       "\\end{tabular}\n"
      ],
      "text/markdown": [
       "\n",
       "A tibble: 6 × 3\n",
       "\n",
       "| Peak &lt;chr&gt; | Input &lt;dbl&gt; | Output &lt;dbl&gt; |\n",
       "|---|---|---|\n",
       "| chr1_10015_10442 | 0.4863317 | 0.09736537 |\n",
       "| chr1_14253_14645 | 0.3152472 | 0.27902967 |\n",
       "| chr1_16015_16477 | 0.4361424 | 0.15900628 |\n",
       "| chr1_17237_17772 | 0.8007562 | 0.22194085 |\n",
       "| chr1_28903_29613 | 0.7629703 | 0.16679463 |\n",
       "| chr1_30803_31072 | 0.2774187 | 0.21678565 |\n",
       "\n"
      ],
      "text/plain": [
       "  Peak             Input     Output    \n",
       "1 chr1_10015_10442 0.4863317 0.09736537\n",
       "2 chr1_14253_14645 0.3152472 0.27902967\n",
       "3 chr1_16015_16477 0.4361424 0.15900628\n",
       "4 chr1_17237_17772 0.8007562 0.22194085\n",
       "5 chr1_28903_29613 0.7629703 0.16679463\n",
       "6 chr1_30803_31072 0.2774187 0.21678565"
      ]
     },
     "metadata": {},
     "output_type": "display_data"
    }
   ],
   "source": [
    "head(dat_cpm)"
   ]
  },
  {
   "cell_type": "code",
   "execution_count": 10,
   "id": "67100afb",
   "metadata": {},
   "outputs": [
    {
     "data": {
      "text/html": [
       "<table class=\"dataframe\">\n",
       "<caption>A tibble: 6 × 9</caption>\n",
       "<thead>\n",
       "\t<tr><th scope=col>Peak</th><th scope=col>Input</th><th scope=col>Output</th><th scope=col>baseMean</th><th scope=col>log2FoldChange</th><th scope=col>lfcSE</th><th scope=col>stat</th><th scope=col>pvalue</th><th scope=col>padj</th></tr>\n",
       "\t<tr><th scope=col>&lt;chr&gt;</th><th scope=col>&lt;dbl&gt;</th><th scope=col>&lt;dbl&gt;</th><th scope=col>&lt;dbl&gt;</th><th scope=col>&lt;dbl&gt;</th><th scope=col>&lt;dbl&gt;</th><th scope=col>&lt;dbl&gt;</th><th scope=col>&lt;dbl&gt;</th><th scope=col>&lt;dbl&gt;</th></tr>\n",
       "</thead>\n",
       "<tbody>\n",
       "\t<tr><td>chr1_10015_10442</td><td>0.4863317</td><td>0.09736537</td><td> 71.40375</td><td>-2.2136128</td><td>0.2691517</td><td> -8.2244060</td><td>1.961605e-16</td><td>2.910689e-15</td></tr>\n",
       "\t<tr><td>chr1_14253_14645</td><td>0.3152472</td><td>0.27902967</td><td> 68.63035</td><td> 0.2221859</td><td>0.1534101</td><td>  1.4483134</td><td>1.475294e-01</td><td>2.178106e-01</td></tr>\n",
       "\t<tr><td>chr1_16015_16477</td><td>0.4361424</td><td>0.15900628</td><td> 71.25409</td><td>-1.2712950</td><td>0.2019628</td><td> -6.2946978</td><td>3.079993e-10</td><td>2.653010e-09</td></tr>\n",
       "\t<tr><td>chr1_17237_17772</td><td>0.8007562</td><td>0.22194085</td><td>124.03128</td><td>-1.3852891</td><td>0.1638628</td><td> -8.4539594</td><td>2.815873e-17</td><td>4.431894e-16</td></tr>\n",
       "\t<tr><td>chr1_28903_29613</td><td>0.7629703</td><td>0.16679463</td><td>113.63103</td><td>-1.9422003</td><td>0.1886131</td><td>-10.2972733</td><td>7.248682e-25</td><td>1.723665e-23</td></tr>\n",
       "\t<tr><td>chr1_30803_31072</td><td>0.2774187</td><td>0.21678565</td><td> 57.37875</td><td>-0.1332069</td><td>0.2145692</td><td> -0.6208109</td><td>5.347240e-01</td><td>6.231400e-01</td></tr>\n",
       "</tbody>\n",
       "</table>\n"
      ],
      "text/latex": [
       "A tibble: 6 × 9\n",
       "\\begin{tabular}{lllllllll}\n",
       " Peak & Input & Output & baseMean & log2FoldChange & lfcSE & stat & pvalue & padj\\\\\n",
       " <chr> & <dbl> & <dbl> & <dbl> & <dbl> & <dbl> & <dbl> & <dbl> & <dbl>\\\\\n",
       "\\hline\n",
       "\t chr1\\_10015\\_10442 & 0.4863317 & 0.09736537 &  71.40375 & -2.2136128 & 0.2691517 &  -8.2244060 & 1.961605e-16 & 2.910689e-15\\\\\n",
       "\t chr1\\_14253\\_14645 & 0.3152472 & 0.27902967 &  68.63035 &  0.2221859 & 0.1534101 &   1.4483134 & 1.475294e-01 & 2.178106e-01\\\\\n",
       "\t chr1\\_16015\\_16477 & 0.4361424 & 0.15900628 &  71.25409 & -1.2712950 & 0.2019628 &  -6.2946978 & 3.079993e-10 & 2.653010e-09\\\\\n",
       "\t chr1\\_17237\\_17772 & 0.8007562 & 0.22194085 & 124.03128 & -1.3852891 & 0.1638628 &  -8.4539594 & 2.815873e-17 & 4.431894e-16\\\\\n",
       "\t chr1\\_28903\\_29613 & 0.7629703 & 0.16679463 & 113.63103 & -1.9422003 & 0.1886131 & -10.2972733 & 7.248682e-25 & 1.723665e-23\\\\\n",
       "\t chr1\\_30803\\_31072 & 0.2774187 & 0.21678565 &  57.37875 & -0.1332069 & 0.2145692 &  -0.6208109 & 5.347240e-01 & 6.231400e-01\\\\\n",
       "\\end{tabular}\n"
      ],
      "text/markdown": [
       "\n",
       "A tibble: 6 × 9\n",
       "\n",
       "| Peak &lt;chr&gt; | Input &lt;dbl&gt; | Output &lt;dbl&gt; | baseMean &lt;dbl&gt; | log2FoldChange &lt;dbl&gt; | lfcSE &lt;dbl&gt; | stat &lt;dbl&gt; | pvalue &lt;dbl&gt; | padj &lt;dbl&gt; |\n",
       "|---|---|---|---|---|---|---|---|---|\n",
       "| chr1_10015_10442 | 0.4863317 | 0.09736537 |  71.40375 | -2.2136128 | 0.2691517 |  -8.2244060 | 1.961605e-16 | 2.910689e-15 |\n",
       "| chr1_14253_14645 | 0.3152472 | 0.27902967 |  68.63035 |  0.2221859 | 0.1534101 |   1.4483134 | 1.475294e-01 | 2.178106e-01 |\n",
       "| chr1_16015_16477 | 0.4361424 | 0.15900628 |  71.25409 | -1.2712950 | 0.2019628 |  -6.2946978 | 3.079993e-10 | 2.653010e-09 |\n",
       "| chr1_17237_17772 | 0.8007562 | 0.22194085 | 124.03128 | -1.3852891 | 0.1638628 |  -8.4539594 | 2.815873e-17 | 4.431894e-16 |\n",
       "| chr1_28903_29613 | 0.7629703 | 0.16679463 | 113.63103 | -1.9422003 | 0.1886131 | -10.2972733 | 7.248682e-25 | 1.723665e-23 |\n",
       "| chr1_30803_31072 | 0.2774187 | 0.21678565 |  57.37875 | -0.1332069 | 0.2145692 |  -0.6208109 | 5.347240e-01 | 6.231400e-01 |\n",
       "\n"
      ],
      "text/plain": [
       "  Peak             Input     Output     baseMean  log2FoldChange lfcSE    \n",
       "1 chr1_10015_10442 0.4863317 0.09736537  71.40375 -2.2136128     0.2691517\n",
       "2 chr1_14253_14645 0.3152472 0.27902967  68.63035  0.2221859     0.1534101\n",
       "3 chr1_16015_16477 0.4361424 0.15900628  71.25409 -1.2712950     0.2019628\n",
       "4 chr1_17237_17772 0.8007562 0.22194085 124.03128 -1.3852891     0.1638628\n",
       "5 chr1_28903_29613 0.7629703 0.16679463 113.63103 -1.9422003     0.1886131\n",
       "6 chr1_30803_31072 0.2774187 0.21678565  57.37875 -0.1332069     0.2145692\n",
       "  stat        pvalue       padj        \n",
       "1  -8.2244060 1.961605e-16 2.910689e-15\n",
       "2   1.4483134 1.475294e-01 2.178106e-01\n",
       "3  -6.2946978 3.079993e-10 2.653010e-09\n",
       "4  -8.4539594 2.815873e-17 4.431894e-16\n",
       "5 -10.2972733 7.248682e-25 1.723665e-23\n",
       "6  -0.6208109 5.347240e-01 6.231400e-01"
      ]
     },
     "metadata": {},
     "output_type": "display_data"
    }
   ],
   "source": [
    "dat_comb = inner_join(dat_cpm, dat_results, by = \"Peak\")\n",
    "head(dat_comb)"
   ]
  },
  {
   "cell_type": "code",
   "execution_count": 11,
   "id": "a34287d6",
   "metadata": {},
   "outputs": [],
   "source": [
    "fdiry = file.path(FD_RES, PREFIX, FOLDER, \"summary\")\n",
    "fname = \"wgs_summary_combine.tsv\"\n",
    "fpath = file.path(fdiry, fname)\n",
    "\n",
    "write_tsv(dat_comb, fpath)"
   ]
  },
  {
   "cell_type": "code",
   "execution_count": null,
   "id": "3aac4c5c",
   "metadata": {},
   "outputs": [],
   "source": []
  }
 ],
 "metadata": {
  "kernelspec": {
   "display_name": "R",
   "language": "R",
   "name": "ir"
  },
  "language_info": {
   "codemirror_mode": "r",
   "file_extension": ".r",
   "mimetype": "text/x-r-source",
   "name": "R",
   "pygments_lexer": "r",
   "version": "4.2.0"
  }
 },
 "nbformat": 4,
 "nbformat_minor": 5
}
