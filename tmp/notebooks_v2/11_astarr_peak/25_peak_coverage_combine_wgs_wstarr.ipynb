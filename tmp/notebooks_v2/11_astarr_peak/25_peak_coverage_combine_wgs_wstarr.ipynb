{
 "cells": [
  {
   "cell_type": "markdown",
   "id": "8e6f5b02",
   "metadata": {},
   "source": [
    "**Set environment**"
   ]
  },
  {
   "cell_type": "code",
   "execution_count": 1,
   "id": "f2609127",
   "metadata": {},
   "outputs": [
    {
     "name": "stdout",
     "output_type": "stream",
     "text": [
      "You are in Singularity: singularity_proj_combeffect \n",
      "BASE DIRECTORY:     /mount/work \n",
      "PATH OF SOURCE:     /mount/work/source \n",
      "PATH OF EXECUTABLE: /mount/work/exe \n",
      "PATH OF ANNOTATION: /mount/work/annotation \n",
      "PATH OF PROJECT:    /mount/project \n",
      "PATH OF RESULTS:    /mount/work/out/proj_combeffect_encode_fcc \n"
     ]
    }
   ],
   "source": [
    "suppressMessages(suppressWarnings(source(\"../config/config_sing.R\")))\n",
    "show_env()"
   ]
  },
  {
   "cell_type": "markdown",
   "id": "78058f56",
   "metadata": {},
   "source": [
    "## Helper function"
   ]
  },
  {
   "cell_type": "code",
   "execution_count": 2,
   "id": "34e94969",
   "metadata": {},
   "outputs": [],
   "source": [
    "PREFIX  = \"A001_K562_WSTARRseq\"\n",
    "\n",
    "GROUPS  = c(\"Input\", \"Output\")\n",
    "\n",
    "SAMPLES = c(\n",
    "    paste0(\"Input_rep\",  1:4),\n",
    "    paste0(\"Output_rep\", 1:3))\n",
    "\n",
    "get_group = function(fpath){\n",
    "    fname = basename(fpath)\n",
    "    has_input = str_detect(fname, \"input\")\n",
    "    if (has_input){\n",
    "        return(\"Input\")\n",
    "    } else {\n",
    "        return(\"Output\")\n",
    "    }\n",
    "}"
   ]
  },
  {
   "cell_type": "markdown",
   "id": "544f351c",
   "metadata": {},
   "source": [
    "## Get file paths and set metadata"
   ]
  },
  {
   "cell_type": "code",
   "execution_count": 3,
   "id": "7f0d3f16",
   "metadata": {},
   "outputs": [
    {
     "data": {
      "text/html": [
       "TRUE"
      ],
      "text/latex": [
       "TRUE"
      ],
      "text/markdown": [
       "TRUE"
      ],
      "text/plain": [
       "[1] TRUE"
      ]
     },
     "metadata": {},
     "output_type": "display_data"
    }
   ],
   "source": [
    "fpath = \"/mount/work/out/proj_combeffect_encode_fcc/A001_K562_WSTARRseq/coverage_astarrseq_peak_macs_input/A001-input-K562-rep1.masked.dedup.fragments.counts.txt.gz\"\n",
    "fname = basename(fpath)\n",
    "str_detect(fname, \"input\")"
   ]
  },
  {
   "cell_type": "code",
   "execution_count": 4,
   "id": "7aa9a60e",
   "metadata": {},
   "outputs": [
    {
     "name": "stdout",
     "output_type": "stream",
     "text": [
      "[1] \"/mount/work/out/proj_combeffect_encode_fcc/A001_K562_WSTARRseq/coverage_astarrseq_peak_macs_input/A001-input-K562-rep1.masked.dedup.fragments.counts.txt.gz\"\n",
      "[1] \"Input\"\n",
      "[1] \"/mount/work/out/proj_combeffect_encode_fcc/A001_K562_WSTARRseq/coverage_astarrseq_peak_macs_input/A001-input-K562-rep2.masked.dedup.fragments.counts.txt.gz\"\n",
      "[1] \"Input\"\n",
      "[1] \"/mount/work/out/proj_combeffect_encode_fcc/A001_K562_WSTARRseq/coverage_astarrseq_peak_macs_input/A001-input-K562-rep3.masked.dedup.fragments.counts.txt.gz\"\n",
      "[1] \"Input\"\n",
      "[1] \"/mount/work/out/proj_combeffect_encode_fcc/A001_K562_WSTARRseq/coverage_astarrseq_peak_macs_input/A001-input-K562-rep4.masked.dedup.fragments.counts.txt.gz\"\n",
      "[1] \"Input\"\n",
      "[1] \"/mount/work/out/proj_combeffect_encode_fcc/A001_K562_WSTARRseq/coverage_astarrseq_peak_macs_input/A001-K562-rep1.masked.dedup.fragments.counts.txt.gz\"\n",
      "[1] \"Output\"\n",
      "[1] \"/mount/work/out/proj_combeffect_encode_fcc/A001_K562_WSTARRseq/coverage_astarrseq_peak_macs_input/A001-K562-rep2.masked.dedup.fragments.counts.txt.gz\"\n",
      "[1] \"Output\"\n",
      "[1] \"/mount/work/out/proj_combeffect_encode_fcc/A001_K562_WSTARRseq/coverage_astarrseq_peak_macs_input/A001-K562-rep3.masked.dedup.fragments.counts.txt.gz\"\n",
      "[1] \"Output\"\n"
     ]
    }
   ],
   "source": [
    "PREFIX = \"A001_K562_WSTARRseq\"\n",
    "FOLDER = \"coverage_astarrseq_peak_macs_input\"\n",
    "fglob  = file.path(FD_RES, PREFIX, FOLDER, \"*counts.txt.gz\")\n",
    "fpaths = Sys.glob(fglob)\n",
    "for (fpath in fpaths){\n",
    "    print(fpath)\n",
    "    print(get_group(fpath))\n",
    "    #print(get_sample(fpath))\n",
    "}"
   ]
  },
  {
   "cell_type": "code",
   "execution_count": 5,
   "id": "18e72d46",
   "metadata": {},
   "outputs": [
    {
     "data": {
      "text/html": [
       "<table class=\"dataframe\">\n",
       "<caption>A data.frame: 7 × 3</caption>\n",
       "<thead>\n",
       "\t<tr><th></th><th scope=col>Sample</th><th scope=col>Group</th><th scope=col>FPath</th></tr>\n",
       "\t<tr><th></th><th scope=col>&lt;chr&gt;</th><th scope=col>&lt;chr&gt;</th><th scope=col>&lt;chr&gt;</th></tr>\n",
       "</thead>\n",
       "<tbody>\n",
       "\t<tr><th scope=row>Input_rep1</th><td>Input_rep1 </td><td>Input </td><td>/mount/work/out/proj_combeffect_encode_fcc/A001_K562_WSTARRseq/coverage_astarrseq_peak_macs_input/A001-input-K562-rep1.masked.dedup.fragments.counts.txt.gz</td></tr>\n",
       "\t<tr><th scope=row>Input_rep2</th><td>Input_rep2 </td><td>Input </td><td>/mount/work/out/proj_combeffect_encode_fcc/A001_K562_WSTARRseq/coverage_astarrseq_peak_macs_input/A001-input-K562-rep2.masked.dedup.fragments.counts.txt.gz</td></tr>\n",
       "\t<tr><th scope=row>Input_rep3</th><td>Input_rep3 </td><td>Input </td><td>/mount/work/out/proj_combeffect_encode_fcc/A001_K562_WSTARRseq/coverage_astarrseq_peak_macs_input/A001-input-K562-rep3.masked.dedup.fragments.counts.txt.gz</td></tr>\n",
       "\t<tr><th scope=row>Input_rep4</th><td>Input_rep4 </td><td>Input </td><td>/mount/work/out/proj_combeffect_encode_fcc/A001_K562_WSTARRseq/coverage_astarrseq_peak_macs_input/A001-input-K562-rep4.masked.dedup.fragments.counts.txt.gz</td></tr>\n",
       "\t<tr><th scope=row>Output_rep1</th><td>Output_rep1</td><td>Output</td><td>/mount/work/out/proj_combeffect_encode_fcc/A001_K562_WSTARRseq/coverage_astarrseq_peak_macs_input/A001-K562-rep1.masked.dedup.fragments.counts.txt.gz      </td></tr>\n",
       "\t<tr><th scope=row>Output_rep2</th><td>Output_rep2</td><td>Output</td><td>/mount/work/out/proj_combeffect_encode_fcc/A001_K562_WSTARRseq/coverage_astarrseq_peak_macs_input/A001-K562-rep2.masked.dedup.fragments.counts.txt.gz      </td></tr>\n",
       "\t<tr><th scope=row>Output_rep3</th><td>Output_rep3</td><td>Output</td><td>/mount/work/out/proj_combeffect_encode_fcc/A001_K562_WSTARRseq/coverage_astarrseq_peak_macs_input/A001-K562-rep3.masked.dedup.fragments.counts.txt.gz      </td></tr>\n",
       "</tbody>\n",
       "</table>\n"
      ],
      "text/latex": [
       "A data.frame: 7 × 3\n",
       "\\begin{tabular}{r|lll}\n",
       "  & Sample & Group & FPath\\\\\n",
       "  & <chr> & <chr> & <chr>\\\\\n",
       "\\hline\n",
       "\tInput\\_rep1 & Input\\_rep1  & Input  & /mount/work/out/proj\\_combeffect\\_encode\\_fcc/A001\\_K562\\_WSTARRseq/coverage\\_astarrseq\\_peak\\_macs\\_input/A001-input-K562-rep1.masked.dedup.fragments.counts.txt.gz\\\\\n",
       "\tInput\\_rep2 & Input\\_rep2  & Input  & /mount/work/out/proj\\_combeffect\\_encode\\_fcc/A001\\_K562\\_WSTARRseq/coverage\\_astarrseq\\_peak\\_macs\\_input/A001-input-K562-rep2.masked.dedup.fragments.counts.txt.gz\\\\\n",
       "\tInput\\_rep3 & Input\\_rep3  & Input  & /mount/work/out/proj\\_combeffect\\_encode\\_fcc/A001\\_K562\\_WSTARRseq/coverage\\_astarrseq\\_peak\\_macs\\_input/A001-input-K562-rep3.masked.dedup.fragments.counts.txt.gz\\\\\n",
       "\tInput\\_rep4 & Input\\_rep4  & Input  & /mount/work/out/proj\\_combeffect\\_encode\\_fcc/A001\\_K562\\_WSTARRseq/coverage\\_astarrseq\\_peak\\_macs\\_input/A001-input-K562-rep4.masked.dedup.fragments.counts.txt.gz\\\\\n",
       "\tOutput\\_rep1 & Output\\_rep1 & Output & /mount/work/out/proj\\_combeffect\\_encode\\_fcc/A001\\_K562\\_WSTARRseq/coverage\\_astarrseq\\_peak\\_macs\\_input/A001-K562-rep1.masked.dedup.fragments.counts.txt.gz      \\\\\n",
       "\tOutput\\_rep2 & Output\\_rep2 & Output & /mount/work/out/proj\\_combeffect\\_encode\\_fcc/A001\\_K562\\_WSTARRseq/coverage\\_astarrseq\\_peak\\_macs\\_input/A001-K562-rep2.masked.dedup.fragments.counts.txt.gz      \\\\\n",
       "\tOutput\\_rep3 & Output\\_rep3 & Output & /mount/work/out/proj\\_combeffect\\_encode\\_fcc/A001\\_K562\\_WSTARRseq/coverage\\_astarrseq\\_peak\\_macs\\_input/A001-K562-rep3.masked.dedup.fragments.counts.txt.gz      \\\\\n",
       "\\end{tabular}\n"
      ],
      "text/markdown": [
       "\n",
       "A data.frame: 7 × 3\n",
       "\n",
       "| <!--/--> | Sample &lt;chr&gt; | Group &lt;chr&gt; | FPath &lt;chr&gt; |\n",
       "|---|---|---|---|\n",
       "| Input_rep1 | Input_rep1  | Input  | /mount/work/out/proj_combeffect_encode_fcc/A001_K562_WSTARRseq/coverage_astarrseq_peak_macs_input/A001-input-K562-rep1.masked.dedup.fragments.counts.txt.gz |\n",
       "| Input_rep2 | Input_rep2  | Input  | /mount/work/out/proj_combeffect_encode_fcc/A001_K562_WSTARRseq/coverage_astarrseq_peak_macs_input/A001-input-K562-rep2.masked.dedup.fragments.counts.txt.gz |\n",
       "| Input_rep3 | Input_rep3  | Input  | /mount/work/out/proj_combeffect_encode_fcc/A001_K562_WSTARRseq/coverage_astarrseq_peak_macs_input/A001-input-K562-rep3.masked.dedup.fragments.counts.txt.gz |\n",
       "| Input_rep4 | Input_rep4  | Input  | /mount/work/out/proj_combeffect_encode_fcc/A001_K562_WSTARRseq/coverage_astarrseq_peak_macs_input/A001-input-K562-rep4.masked.dedup.fragments.counts.txt.gz |\n",
       "| Output_rep1 | Output_rep1 | Output | /mount/work/out/proj_combeffect_encode_fcc/A001_K562_WSTARRseq/coverage_astarrseq_peak_macs_input/A001-K562-rep1.masked.dedup.fragments.counts.txt.gz       |\n",
       "| Output_rep2 | Output_rep2 | Output | /mount/work/out/proj_combeffect_encode_fcc/A001_K562_WSTARRseq/coverage_astarrseq_peak_macs_input/A001-K562-rep2.masked.dedup.fragments.counts.txt.gz       |\n",
       "| Output_rep3 | Output_rep3 | Output | /mount/work/out/proj_combeffect_encode_fcc/A001_K562_WSTARRseq/coverage_astarrseq_peak_macs_input/A001-K562-rep3.masked.dedup.fragments.counts.txt.gz       |\n",
       "\n"
      ],
      "text/plain": [
       "            Sample      Group \n",
       "Input_rep1  Input_rep1  Input \n",
       "Input_rep2  Input_rep2  Input \n",
       "Input_rep3  Input_rep3  Input \n",
       "Input_rep4  Input_rep4  Input \n",
       "Output_rep1 Output_rep1 Output\n",
       "Output_rep2 Output_rep2 Output\n",
       "Output_rep3 Output_rep3 Output\n",
       "            FPath                                                                                                                                                      \n",
       "Input_rep1  /mount/work/out/proj_combeffect_encode_fcc/A001_K562_WSTARRseq/coverage_astarrseq_peak_macs_input/A001-input-K562-rep1.masked.dedup.fragments.counts.txt.gz\n",
       "Input_rep2  /mount/work/out/proj_combeffect_encode_fcc/A001_K562_WSTARRseq/coverage_astarrseq_peak_macs_input/A001-input-K562-rep2.masked.dedup.fragments.counts.txt.gz\n",
       "Input_rep3  /mount/work/out/proj_combeffect_encode_fcc/A001_K562_WSTARRseq/coverage_astarrseq_peak_macs_input/A001-input-K562-rep3.masked.dedup.fragments.counts.txt.gz\n",
       "Input_rep4  /mount/work/out/proj_combeffect_encode_fcc/A001_K562_WSTARRseq/coverage_astarrseq_peak_macs_input/A001-input-K562-rep4.masked.dedup.fragments.counts.txt.gz\n",
       "Output_rep1 /mount/work/out/proj_combeffect_encode_fcc/A001_K562_WSTARRseq/coverage_astarrseq_peak_macs_input/A001-K562-rep1.masked.dedup.fragments.counts.txt.gz      \n",
       "Output_rep2 /mount/work/out/proj_combeffect_encode_fcc/A001_K562_WSTARRseq/coverage_astarrseq_peak_macs_input/A001-K562-rep2.masked.dedup.fragments.counts.txt.gz      \n",
       "Output_rep3 /mount/work/out/proj_combeffect_encode_fcc/A001_K562_WSTARRseq/coverage_astarrseq_peak_macs_input/A001-K562-rep3.masked.dedup.fragments.counts.txt.gz      "
      ]
     },
     "metadata": {},
     "output_type": "display_data"
    }
   ],
   "source": [
    "dat_meta = data.frame(\n",
    "    Sample = SAMPLES,\n",
    "    Group  = sapply(fpaths, get_group),\n",
    "    FPath  = fpaths\n",
    ")\n",
    "rownames(dat_meta) = SAMPLES\n",
    "dat_meta"
   ]
  },
  {
   "cell_type": "markdown",
   "id": "aecbec46",
   "metadata": {},
   "source": [
    "## Import data and arrange into count matrix"
   ]
  },
  {
   "cell_type": "code",
   "execution_count": 7,
   "id": "c8561aeb",
   "metadata": {},
   "outputs": [
    {
     "data": {
      "text/html": [
       "<table class=\"dataframe\">\n",
       "<caption>A tibble: 6 × 11</caption>\n",
       "<thead>\n",
       "\t<tr><th scope=col>Chrom</th><th scope=col>Start</th><th scope=col>End</th><th scope=col>Peak</th><th scope=col>Input_rep1</th><th scope=col>Input_rep2</th><th scope=col>Input_rep3</th><th scope=col>Input_rep4</th><th scope=col>Output_rep1</th><th scope=col>Output_rep2</th><th scope=col>Output_rep3</th></tr>\n",
       "\t<tr><th scope=col>&lt;chr&gt;</th><th scope=col>&lt;dbl&gt;</th><th scope=col>&lt;dbl&gt;</th><th scope=col>&lt;chr&gt;</th><th scope=col>&lt;int&gt;</th><th scope=col>&lt;int&gt;</th><th scope=col>&lt;int&gt;</th><th scope=col>&lt;int&gt;</th><th scope=col>&lt;int&gt;</th><th scope=col>&lt;int&gt;</th><th scope=col>&lt;int&gt;</th></tr>\n",
       "</thead>\n",
       "<tbody>\n",
       "\t<tr><td>chr1</td><td> 10015</td><td> 10442</td><td>chr1_10015_10442  </td><td> 1</td><td> 1</td><td> 1</td><td> 1</td><td> NA</td><td> NA</td><td> NA</td></tr>\n",
       "\t<tr><td>chr1</td><td> 17237</td><td> 17772</td><td>chr1_17237_17772  </td><td> 5</td><td>12</td><td>15</td><td>17</td><td> 18</td><td> 23</td><td> 27</td></tr>\n",
       "\t<tr><td>chr1</td><td>136071</td><td>137429</td><td>chr1_136071_137429</td><td> 3</td><td> 4</td><td> 7</td><td> 4</td><td> 12</td><td> 12</td><td> 29</td></tr>\n",
       "\t<tr><td>chr1</td><td>137737</td><td>139544</td><td>chr1_137737_139544</td><td>14</td><td>40</td><td>41</td><td>52</td><td>145</td><td>144</td><td>217</td></tr>\n",
       "\t<tr><td>chr1</td><td>180982</td><td>182087</td><td>chr1_180982_182087</td><td> 8</td><td>31</td><td>26</td><td>28</td><td> 63</td><td> 57</td><td> 99</td></tr>\n",
       "\t<tr><td>chr1</td><td>183239</td><td>184602</td><td>chr1_183239_184602</td><td>12</td><td>40</td><td>36</td><td>49</td><td> 71</td><td> 75</td><td>163</td></tr>\n",
       "</tbody>\n",
       "</table>\n"
      ],
      "text/latex": [
       "A tibble: 6 × 11\n",
       "\\begin{tabular}{lllllllllll}\n",
       " Chrom & Start & End & Peak & Input\\_rep1 & Input\\_rep2 & Input\\_rep3 & Input\\_rep4 & Output\\_rep1 & Output\\_rep2 & Output\\_rep3\\\\\n",
       " <chr> & <dbl> & <dbl> & <chr> & <int> & <int> & <int> & <int> & <int> & <int> & <int>\\\\\n",
       "\\hline\n",
       "\t chr1 &  10015 &  10442 & chr1\\_10015\\_10442   &  1 &  1 &  1 &  1 &  NA &  NA &  NA\\\\\n",
       "\t chr1 &  17237 &  17772 & chr1\\_17237\\_17772   &  5 & 12 & 15 & 17 &  18 &  23 &  27\\\\\n",
       "\t chr1 & 136071 & 137429 & chr1\\_136071\\_137429 &  3 &  4 &  7 &  4 &  12 &  12 &  29\\\\\n",
       "\t chr1 & 137737 & 139544 & chr1\\_137737\\_139544 & 14 & 40 & 41 & 52 & 145 & 144 & 217\\\\\n",
       "\t chr1 & 180982 & 182087 & chr1\\_180982\\_182087 &  8 & 31 & 26 & 28 &  63 &  57 &  99\\\\\n",
       "\t chr1 & 183239 & 184602 & chr1\\_183239\\_184602 & 12 & 40 & 36 & 49 &  71 &  75 & 163\\\\\n",
       "\\end{tabular}\n"
      ],
      "text/markdown": [
       "\n",
       "A tibble: 6 × 11\n",
       "\n",
       "| Chrom &lt;chr&gt; | Start &lt;dbl&gt; | End &lt;dbl&gt; | Peak &lt;chr&gt; | Input_rep1 &lt;int&gt; | Input_rep2 &lt;int&gt; | Input_rep3 &lt;int&gt; | Input_rep4 &lt;int&gt; | Output_rep1 &lt;int&gt; | Output_rep2 &lt;int&gt; | Output_rep3 &lt;int&gt; |\n",
       "|---|---|---|---|---|---|---|---|---|---|---|\n",
       "| chr1 |  10015 |  10442 | chr1_10015_10442   |  1 |  1 |  1 |  1 |  NA |  NA |  NA |\n",
       "| chr1 |  17237 |  17772 | chr1_17237_17772   |  5 | 12 | 15 | 17 |  18 |  23 |  27 |\n",
       "| chr1 | 136071 | 137429 | chr1_136071_137429 |  3 |  4 |  7 |  4 |  12 |  12 |  29 |\n",
       "| chr1 | 137737 | 139544 | chr1_137737_139544 | 14 | 40 | 41 | 52 | 145 | 144 | 217 |\n",
       "| chr1 | 180982 | 182087 | chr1_180982_182087 |  8 | 31 | 26 | 28 |  63 |  57 |  99 |\n",
       "| chr1 | 183239 | 184602 | chr1_183239_184602 | 12 | 40 | 36 | 49 |  71 |  75 | 163 |\n",
       "\n"
      ],
      "text/plain": [
       "  Chrom Start  End    Peak               Input_rep1 Input_rep2 Input_rep3\n",
       "1 chr1   10015  10442 chr1_10015_10442    1          1          1        \n",
       "2 chr1   17237  17772 chr1_17237_17772    5         12         15        \n",
       "3 chr1  136071 137429 chr1_136071_137429  3          4          7        \n",
       "4 chr1  137737 139544 chr1_137737_139544 14         40         41        \n",
       "5 chr1  180982 182087 chr1_180982_182087  8         31         26        \n",
       "6 chr1  183239 184602 chr1_183239_184602 12         40         36        \n",
       "  Input_rep4 Output_rep1 Output_rep2 Output_rep3\n",
       "1  1          NA          NA          NA        \n",
       "2 17          18          23          27        \n",
       "3  4          12          12          29        \n",
       "4 52         145         144         217        \n",
       "5 28          63          57          99        \n",
       "6 49          71          75         163        "
      ]
     },
     "metadata": {},
     "output_type": "display_data"
    }
   ],
   "source": [
    "cnames = c(\"Chrom\", \"Start\", \"End\", \"Count\")\n",
    "ctypes = c(col_character(), col_integer(), col_integer(), col_integer())\n",
    "\n",
    "lst = lapply(seq_along(fpaths), function(idx){\n",
    "    fpath = fpaths[idx]\n",
    "    sam = SAMPLES[idx]\n",
    "    dat = read_tsv(fpath, col_names = cnames, col_types = ctypes) %>% \n",
    "        dplyr::filter(Count != \".\") %>% \n",
    "        dplyr::mutate(Count  = as.integer(Count)) %>%\n",
    "        dplyr::mutate(\n",
    "            Peak   = paste(Chrom, Start, End, sep=\"_\"),\n",
    "            Sample = sam)\n",
    "    return(dat)\n",
    "})\n",
    "\n",
    "dat_count = bind_rows(lst) %>% spread(Sample, Count)\n",
    "head(dat_count)"
   ]
  },
  {
   "cell_type": "markdown",
   "id": "50fd94ad",
   "metadata": {},
   "source": [
    "**Check**"
   ]
  },
  {
   "cell_type": "code",
   "execution_count": 8,
   "id": "36776c67",
   "metadata": {},
   "outputs": [
    {
     "data": {
      "text/html": [
       "<table class=\"dataframe\">\n",
       "<caption>A tibble: 6 × 4</caption>\n",
       "<thead>\n",
       "\t<tr><th scope=col>Chrom</th><th scope=col>Start</th><th scope=col>End</th><th scope=col>Count</th></tr>\n",
       "\t<tr><th scope=col>&lt;chr&gt;</th><th scope=col>&lt;dbl&gt;</th><th scope=col>&lt;dbl&gt;</th><th scope=col>&lt;chr&gt;</th></tr>\n",
       "</thead>\n",
       "<tbody>\n",
       "\t<tr><td>chr1</td><td>10015</td><td>10442</td><td>. </td></tr>\n",
       "\t<tr><td>chr1</td><td>14253</td><td>14645</td><td>. </td></tr>\n",
       "\t<tr><td>chr1</td><td>16015</td><td>16477</td><td>20</td></tr>\n",
       "\t<tr><td>chr1</td><td>17237</td><td>17772</td><td>18</td></tr>\n",
       "\t<tr><td>chr1</td><td>28903</td><td>29613</td><td>5 </td></tr>\n",
       "\t<tr><td>chr1</td><td>30803</td><td>31072</td><td>. </td></tr>\n",
       "</tbody>\n",
       "</table>\n"
      ],
      "text/latex": [
       "A tibble: 6 × 4\n",
       "\\begin{tabular}{llll}\n",
       " Chrom & Start & End & Count\\\\\n",
       " <chr> & <dbl> & <dbl> & <chr>\\\\\n",
       "\\hline\n",
       "\t chr1 & 10015 & 10442 & . \\\\\n",
       "\t chr1 & 14253 & 14645 & . \\\\\n",
       "\t chr1 & 16015 & 16477 & 20\\\\\n",
       "\t chr1 & 17237 & 17772 & 18\\\\\n",
       "\t chr1 & 28903 & 29613 & 5 \\\\\n",
       "\t chr1 & 30803 & 31072 & . \\\\\n",
       "\\end{tabular}\n"
      ],
      "text/markdown": [
       "\n",
       "A tibble: 6 × 4\n",
       "\n",
       "| Chrom &lt;chr&gt; | Start &lt;dbl&gt; | End &lt;dbl&gt; | Count &lt;chr&gt; |\n",
       "|---|---|---|---|\n",
       "| chr1 | 10015 | 10442 | .  |\n",
       "| chr1 | 14253 | 14645 | .  |\n",
       "| chr1 | 16015 | 16477 | 20 |\n",
       "| chr1 | 17237 | 17772 | 18 |\n",
       "| chr1 | 28903 | 29613 | 5  |\n",
       "| chr1 | 30803 | 31072 | .  |\n",
       "\n"
      ],
      "text/plain": [
       "  Chrom Start End   Count\n",
       "1 chr1  10015 10442 .    \n",
       "2 chr1  14253 14645 .    \n",
       "3 chr1  16015 16477 20   \n",
       "4 chr1  17237 17772 18   \n",
       "5 chr1  28903 29613 5    \n",
       "6 chr1  30803 31072 .    "
      ]
     },
     "metadata": {},
     "output_type": "display_data"
    }
   ],
   "source": [
    "fpath = fpaths[5]\n",
    "dat = read_tsv(fpath, col_names = cnames, col_types = ctypes)\n",
    "head(dat)"
   ]
  },
  {
   "cell_type": "markdown",
   "id": "52215237",
   "metadata": {},
   "source": [
    "## Store the results"
   ]
  },
  {
   "cell_type": "code",
   "execution_count": 9,
   "id": "13319a99",
   "metadata": {},
   "outputs": [],
   "source": [
    "fdiry = file.path(FD_RES, PREFIX, FOLDER, \"summary\")\n",
    "\n",
    "fname = \"wgs_count_matrix.tsv\"\n",
    "fpath = file.path(fdiry, fname)\n",
    "write_tsv(dat_count, fpath)\n",
    "\n",
    "fname = \"wgs_metadata.tsv\"\n",
    "fpath = file.path(fdiry, fname)\n",
    "write_tsv(dat_meta, fpath)"
   ]
  },
  {
   "cell_type": "code",
   "execution_count": null,
   "id": "b477edda",
   "metadata": {},
   "outputs": [],
   "source": []
  }
 ],
 "metadata": {
  "kernelspec": {
   "display_name": "R",
   "language": "R",
   "name": "ir"
  },
  "language_info": {
   "codemirror_mode": "r",
   "file_extension": ".r",
   "mimetype": "text/x-r-source",
   "name": "R",
   "pygments_lexer": "r",
   "version": "4.2.2"
  }
 },
 "nbformat": 4,
 "nbformat_minor": 5
}
