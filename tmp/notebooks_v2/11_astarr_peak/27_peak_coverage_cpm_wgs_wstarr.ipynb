{
 "cells": [
  {
   "cell_type": "code",
   "execution_count": 1,
   "id": "3d7bed62",
   "metadata": {},
   "outputs": [
    {
     "name": "stdout",
     "output_type": "stream",
     "text": [
      "You are in Singularity: singularity_proj_combeffect \n",
      "BASE DIRECTORY:     /mount/work \n",
      "PATH OF SOURCE:     /mount/work/source \n",
      "PATH OF EXECUTABLE: /mount/work/exe \n",
      "PATH OF ANNOTATION: /mount/work/annotation \n",
      "PATH OF PROJECT:    /mount/project \n",
      "PATH OF RESULTS:    /mount/work/out/proj_combeffect_encode_fcc \n"
     ]
    }
   ],
   "source": [
    "suppressMessages(suppressWarnings(source(\"../config/config_sing.R\")))\n",
    "show_env()"
   ]
  },
  {
   "cell_type": "markdown",
   "id": "5666cad6",
   "metadata": {},
   "source": [
    "## Import data"
   ]
  },
  {
   "cell_type": "code",
   "execution_count": 2,
   "id": "503fd5b3",
   "metadata": {},
   "outputs": [],
   "source": [
    "PREFIX = \"A001_K562_WSTARRseq\"\n",
    "FOLDER = \"coverage_astarrseq_peak_macs_input\""
   ]
  },
  {
   "cell_type": "code",
   "execution_count": 8,
   "id": "ece42bb2",
   "metadata": {},
   "outputs": [
    {
     "name": "stderr",
     "output_type": "stream",
     "text": [
      "\u001b[1mRows: \u001b[22m\u001b[34m246832\u001b[39m \u001b[1mColumns: \u001b[22m\u001b[34m11\u001b[39m\n",
      "\u001b[36m──\u001b[39m \u001b[1mColumn specification\u001b[22m \u001b[36m──────────────────────────────────────────────────────────────────────────────────────────────────────────────────────────────────────────────────────────────────────\u001b[39m\n",
      "\u001b[1mDelimiter:\u001b[22m \"\\t\"\n",
      "\u001b[31mchr\u001b[39m (2): Chrom, Peak\n",
      "\u001b[32mdbl\u001b[39m (9): Start, End, Input_rep1, Input_rep2, Input_rep3, Input_rep4, Output_...\n",
      "\n",
      "\u001b[36mℹ\u001b[39m Use `spec()` to retrieve the full column specification for this data.\n",
      "\u001b[36mℹ\u001b[39m Specify the column types or set `show_col_types = FALSE` to quiet this message.\n",
      "\u001b[1mRows: \u001b[22m\u001b[34m7\u001b[39m \u001b[1mColumns: \u001b[22m\u001b[34m3\u001b[39m\n",
      "\u001b[36m──\u001b[39m \u001b[1mColumn specification\u001b[22m \u001b[36m──────────────────────────────────────────────────────────────────────────────────────────────────────────────────────────────────────────────────────────────────────\u001b[39m\n",
      "\u001b[1mDelimiter:\u001b[22m \"\\t\"\n",
      "\u001b[31mchr\u001b[39m (3): Sample, Group, FPath\n",
      "\n",
      "\u001b[36mℹ\u001b[39m Use `spec()` to retrieve the full column specification for this data.\n",
      "\u001b[36mℹ\u001b[39m Specify the column types or set `show_col_types = FALSE` to quiet this message.\n",
      "\u001b[1mRows: \u001b[22m\u001b[34m7\u001b[39m \u001b[1mColumns: \u001b[22m\u001b[34m5\u001b[39m\n",
      "\u001b[36m──\u001b[39m \u001b[1mColumn specification\u001b[22m \u001b[36m──────────────────────────────────────────────────────────────────────────────────────────────────────────────────────────────────────────────────────────────────────\u001b[39m\n",
      "\u001b[1mDelimiter:\u001b[22m \",\"\n",
      "\u001b[31mchr\u001b[39m (4): Sample, Group, Rep, Fpath\n",
      "\u001b[32mdbl\u001b[39m (1): Count\n",
      "\n",
      "\u001b[36mℹ\u001b[39m Use `spec()` to retrieve the full column specification for this data.\n",
      "\u001b[36mℹ\u001b[39m Specify the column types or set `show_col_types = FALSE` to quiet this message.\n"
     ]
    }
   ],
   "source": [
    "fdiry = file.path(FD_RES, PREFIX, FOLDER, \"summary\")\n",
    "\n",
    "fname = \"wgs_count_matrix.tsv\"\n",
    "fpath = file.path(fdiry, fname)\n",
    "dat_count = read_tsv(fpath)\n",
    "\n",
    "fname = \"wgs_metadata.tsv\"\n",
    "fpath = file.path(fdiry, fname)\n",
    "dat_meta = read_tsv(fpath)\n",
    "\n",
    "fdiry = file.path(FD_RES, PREFIX, \"coverage\", \"library_size\")\n",
    "fname = \"library_size_summary.csv\"\n",
    "fpath = file.path(fdiry, fname)\n",
    "dat_lib = read_csv(fpath) %>% \n",
    "    dplyr::mutate(Size = Count) %>% \n",
    "    dplyr::select(Sample, Group, Size)"
   ]
  },
  {
   "cell_type": "code",
   "execution_count": 9,
   "id": "d446a2ed",
   "metadata": {},
   "outputs": [
    {
     "data": {
      "text/html": [
       "<table class=\"dataframe\">\n",
       "<caption>A tibble: 6 × 11</caption>\n",
       "<thead>\n",
       "\t<tr><th scope=col>Chrom</th><th scope=col>Start</th><th scope=col>End</th><th scope=col>Peak</th><th scope=col>Input_rep1</th><th scope=col>Input_rep2</th><th scope=col>Input_rep3</th><th scope=col>Input_rep4</th><th scope=col>Output_rep1</th><th scope=col>Output_rep2</th><th scope=col>Output_rep3</th></tr>\n",
       "\t<tr><th scope=col>&lt;chr&gt;</th><th scope=col>&lt;dbl&gt;</th><th scope=col>&lt;dbl&gt;</th><th scope=col>&lt;chr&gt;</th><th scope=col>&lt;dbl&gt;</th><th scope=col>&lt;dbl&gt;</th><th scope=col>&lt;dbl&gt;</th><th scope=col>&lt;dbl&gt;</th><th scope=col>&lt;dbl&gt;</th><th scope=col>&lt;dbl&gt;</th><th scope=col>&lt;dbl&gt;</th></tr>\n",
       "</thead>\n",
       "<tbody>\n",
       "\t<tr><td>chr1</td><td> 10015</td><td> 10442</td><td>chr1_10015_10442  </td><td> 1</td><td> 1</td><td> 1</td><td> 1</td><td> NA</td><td> NA</td><td> NA</td></tr>\n",
       "\t<tr><td>chr1</td><td> 17237</td><td> 17772</td><td>chr1_17237_17772  </td><td> 5</td><td>12</td><td>15</td><td>17</td><td> 18</td><td> 23</td><td> 27</td></tr>\n",
       "\t<tr><td>chr1</td><td>136071</td><td>137429</td><td>chr1_136071_137429</td><td> 3</td><td> 4</td><td> 7</td><td> 4</td><td> 12</td><td> 12</td><td> 29</td></tr>\n",
       "\t<tr><td>chr1</td><td>137737</td><td>139544</td><td>chr1_137737_139544</td><td>14</td><td>40</td><td>41</td><td>52</td><td>145</td><td>144</td><td>217</td></tr>\n",
       "\t<tr><td>chr1</td><td>180982</td><td>182087</td><td>chr1_180982_182087</td><td> 8</td><td>31</td><td>26</td><td>28</td><td> 63</td><td> 57</td><td> 99</td></tr>\n",
       "\t<tr><td>chr1</td><td>183239</td><td>184602</td><td>chr1_183239_184602</td><td>12</td><td>40</td><td>36</td><td>49</td><td> 71</td><td> 75</td><td>163</td></tr>\n",
       "</tbody>\n",
       "</table>\n"
      ],
      "text/latex": [
       "A tibble: 6 × 11\n",
       "\\begin{tabular}{lllllllllll}\n",
       " Chrom & Start & End & Peak & Input\\_rep1 & Input\\_rep2 & Input\\_rep3 & Input\\_rep4 & Output\\_rep1 & Output\\_rep2 & Output\\_rep3\\\\\n",
       " <chr> & <dbl> & <dbl> & <chr> & <dbl> & <dbl> & <dbl> & <dbl> & <dbl> & <dbl> & <dbl>\\\\\n",
       "\\hline\n",
       "\t chr1 &  10015 &  10442 & chr1\\_10015\\_10442   &  1 &  1 &  1 &  1 &  NA &  NA &  NA\\\\\n",
       "\t chr1 &  17237 &  17772 & chr1\\_17237\\_17772   &  5 & 12 & 15 & 17 &  18 &  23 &  27\\\\\n",
       "\t chr1 & 136071 & 137429 & chr1\\_136071\\_137429 &  3 &  4 &  7 &  4 &  12 &  12 &  29\\\\\n",
       "\t chr1 & 137737 & 139544 & chr1\\_137737\\_139544 & 14 & 40 & 41 & 52 & 145 & 144 & 217\\\\\n",
       "\t chr1 & 180982 & 182087 & chr1\\_180982\\_182087 &  8 & 31 & 26 & 28 &  63 &  57 &  99\\\\\n",
       "\t chr1 & 183239 & 184602 & chr1\\_183239\\_184602 & 12 & 40 & 36 & 49 &  71 &  75 & 163\\\\\n",
       "\\end{tabular}\n"
      ],
      "text/markdown": [
       "\n",
       "A tibble: 6 × 11\n",
       "\n",
       "| Chrom &lt;chr&gt; | Start &lt;dbl&gt; | End &lt;dbl&gt; | Peak &lt;chr&gt; | Input_rep1 &lt;dbl&gt; | Input_rep2 &lt;dbl&gt; | Input_rep3 &lt;dbl&gt; | Input_rep4 &lt;dbl&gt; | Output_rep1 &lt;dbl&gt; | Output_rep2 &lt;dbl&gt; | Output_rep3 &lt;dbl&gt; |\n",
       "|---|---|---|---|---|---|---|---|---|---|---|\n",
       "| chr1 |  10015 |  10442 | chr1_10015_10442   |  1 |  1 |  1 |  1 |  NA |  NA |  NA |\n",
       "| chr1 |  17237 |  17772 | chr1_17237_17772   |  5 | 12 | 15 | 17 |  18 |  23 |  27 |\n",
       "| chr1 | 136071 | 137429 | chr1_136071_137429 |  3 |  4 |  7 |  4 |  12 |  12 |  29 |\n",
       "| chr1 | 137737 | 139544 | chr1_137737_139544 | 14 | 40 | 41 | 52 | 145 | 144 | 217 |\n",
       "| chr1 | 180982 | 182087 | chr1_180982_182087 |  8 | 31 | 26 | 28 |  63 |  57 |  99 |\n",
       "| chr1 | 183239 | 184602 | chr1_183239_184602 | 12 | 40 | 36 | 49 |  71 |  75 | 163 |\n",
       "\n"
      ],
      "text/plain": [
       "  Chrom Start  End    Peak               Input_rep1 Input_rep2 Input_rep3\n",
       "1 chr1   10015  10442 chr1_10015_10442    1          1          1        \n",
       "2 chr1   17237  17772 chr1_17237_17772    5         12         15        \n",
       "3 chr1  136071 137429 chr1_136071_137429  3          4          7        \n",
       "4 chr1  137737 139544 chr1_137737_139544 14         40         41        \n",
       "5 chr1  180982 182087 chr1_180982_182087  8         31         26        \n",
       "6 chr1  183239 184602 chr1_183239_184602 12         40         36        \n",
       "  Input_rep4 Output_rep1 Output_rep2 Output_rep3\n",
       "1  1          NA          NA          NA        \n",
       "2 17          18          23          27        \n",
       "3  4          12          12          29        \n",
       "4 52         145         144         217        \n",
       "5 28          63          57          99        \n",
       "6 49          71          75         163        "
      ]
     },
     "metadata": {},
     "output_type": "display_data"
    }
   ],
   "source": [
    "head(dat_count)"
   ]
  },
  {
   "cell_type": "code",
   "execution_count": 10,
   "id": "fa2e6039",
   "metadata": {},
   "outputs": [
    {
     "data": {
      "text/html": [
       "<table class=\"dataframe\">\n",
       "<caption>A spec_tbl_df: 7 × 3</caption>\n",
       "<thead>\n",
       "\t<tr><th scope=col>Sample</th><th scope=col>Group</th><th scope=col>FPath</th></tr>\n",
       "\t<tr><th scope=col>&lt;chr&gt;</th><th scope=col>&lt;chr&gt;</th><th scope=col>&lt;chr&gt;</th></tr>\n",
       "</thead>\n",
       "<tbody>\n",
       "\t<tr><td>Input_rep1 </td><td>Input </td><td>/mount/work/out/proj_combeffect_encode_fcc/A001_K562_WSTARRseq/coverage_astarrseq_peak_macs_input/A001-input-K562-rep1.masked.dedup.fragments.counts.txt.gz</td></tr>\n",
       "\t<tr><td>Input_rep2 </td><td>Input </td><td>/mount/work/out/proj_combeffect_encode_fcc/A001_K562_WSTARRseq/coverage_astarrseq_peak_macs_input/A001-input-K562-rep2.masked.dedup.fragments.counts.txt.gz</td></tr>\n",
       "\t<tr><td>Input_rep3 </td><td>Input </td><td>/mount/work/out/proj_combeffect_encode_fcc/A001_K562_WSTARRseq/coverage_astarrseq_peak_macs_input/A001-input-K562-rep3.masked.dedup.fragments.counts.txt.gz</td></tr>\n",
       "\t<tr><td>Input_rep4 </td><td>Input </td><td>/mount/work/out/proj_combeffect_encode_fcc/A001_K562_WSTARRseq/coverage_astarrseq_peak_macs_input/A001-input-K562-rep4.masked.dedup.fragments.counts.txt.gz</td></tr>\n",
       "\t<tr><td>Output_rep1</td><td>Output</td><td>/mount/work/out/proj_combeffect_encode_fcc/A001_K562_WSTARRseq/coverage_astarrseq_peak_macs_input/A001-K562-rep1.masked.dedup.fragments.counts.txt.gz      </td></tr>\n",
       "\t<tr><td>Output_rep2</td><td>Output</td><td>/mount/work/out/proj_combeffect_encode_fcc/A001_K562_WSTARRseq/coverage_astarrseq_peak_macs_input/A001-K562-rep2.masked.dedup.fragments.counts.txt.gz      </td></tr>\n",
       "\t<tr><td>Output_rep3</td><td>Output</td><td>/mount/work/out/proj_combeffect_encode_fcc/A001_K562_WSTARRseq/coverage_astarrseq_peak_macs_input/A001-K562-rep3.masked.dedup.fragments.counts.txt.gz      </td></tr>\n",
       "</tbody>\n",
       "</table>\n"
      ],
      "text/latex": [
       "A spec\\_tbl\\_df: 7 × 3\n",
       "\\begin{tabular}{lll}\n",
       " Sample & Group & FPath\\\\\n",
       " <chr> & <chr> & <chr>\\\\\n",
       "\\hline\n",
       "\t Input\\_rep1  & Input  & /mount/work/out/proj\\_combeffect\\_encode\\_fcc/A001\\_K562\\_WSTARRseq/coverage\\_astarrseq\\_peak\\_macs\\_input/A001-input-K562-rep1.masked.dedup.fragments.counts.txt.gz\\\\\n",
       "\t Input\\_rep2  & Input  & /mount/work/out/proj\\_combeffect\\_encode\\_fcc/A001\\_K562\\_WSTARRseq/coverage\\_astarrseq\\_peak\\_macs\\_input/A001-input-K562-rep2.masked.dedup.fragments.counts.txt.gz\\\\\n",
       "\t Input\\_rep3  & Input  & /mount/work/out/proj\\_combeffect\\_encode\\_fcc/A001\\_K562\\_WSTARRseq/coverage\\_astarrseq\\_peak\\_macs\\_input/A001-input-K562-rep3.masked.dedup.fragments.counts.txt.gz\\\\\n",
       "\t Input\\_rep4  & Input  & /mount/work/out/proj\\_combeffect\\_encode\\_fcc/A001\\_K562\\_WSTARRseq/coverage\\_astarrseq\\_peak\\_macs\\_input/A001-input-K562-rep4.masked.dedup.fragments.counts.txt.gz\\\\\n",
       "\t Output\\_rep1 & Output & /mount/work/out/proj\\_combeffect\\_encode\\_fcc/A001\\_K562\\_WSTARRseq/coverage\\_astarrseq\\_peak\\_macs\\_input/A001-K562-rep1.masked.dedup.fragments.counts.txt.gz      \\\\\n",
       "\t Output\\_rep2 & Output & /mount/work/out/proj\\_combeffect\\_encode\\_fcc/A001\\_K562\\_WSTARRseq/coverage\\_astarrseq\\_peak\\_macs\\_input/A001-K562-rep2.masked.dedup.fragments.counts.txt.gz      \\\\\n",
       "\t Output\\_rep3 & Output & /mount/work/out/proj\\_combeffect\\_encode\\_fcc/A001\\_K562\\_WSTARRseq/coverage\\_astarrseq\\_peak\\_macs\\_input/A001-K562-rep3.masked.dedup.fragments.counts.txt.gz      \\\\\n",
       "\\end{tabular}\n"
      ],
      "text/markdown": [
       "\n",
       "A spec_tbl_df: 7 × 3\n",
       "\n",
       "| Sample &lt;chr&gt; | Group &lt;chr&gt; | FPath &lt;chr&gt; |\n",
       "|---|---|---|\n",
       "| Input_rep1  | Input  | /mount/work/out/proj_combeffect_encode_fcc/A001_K562_WSTARRseq/coverage_astarrseq_peak_macs_input/A001-input-K562-rep1.masked.dedup.fragments.counts.txt.gz |\n",
       "| Input_rep2  | Input  | /mount/work/out/proj_combeffect_encode_fcc/A001_K562_WSTARRseq/coverage_astarrseq_peak_macs_input/A001-input-K562-rep2.masked.dedup.fragments.counts.txt.gz |\n",
       "| Input_rep3  | Input  | /mount/work/out/proj_combeffect_encode_fcc/A001_K562_WSTARRseq/coverage_astarrseq_peak_macs_input/A001-input-K562-rep3.masked.dedup.fragments.counts.txt.gz |\n",
       "| Input_rep4  | Input  | /mount/work/out/proj_combeffect_encode_fcc/A001_K562_WSTARRseq/coverage_astarrseq_peak_macs_input/A001-input-K562-rep4.masked.dedup.fragments.counts.txt.gz |\n",
       "| Output_rep1 | Output | /mount/work/out/proj_combeffect_encode_fcc/A001_K562_WSTARRseq/coverage_astarrseq_peak_macs_input/A001-K562-rep1.masked.dedup.fragments.counts.txt.gz       |\n",
       "| Output_rep2 | Output | /mount/work/out/proj_combeffect_encode_fcc/A001_K562_WSTARRseq/coverage_astarrseq_peak_macs_input/A001-K562-rep2.masked.dedup.fragments.counts.txt.gz       |\n",
       "| Output_rep3 | Output | /mount/work/out/proj_combeffect_encode_fcc/A001_K562_WSTARRseq/coverage_astarrseq_peak_macs_input/A001-K562-rep3.masked.dedup.fragments.counts.txt.gz       |\n",
       "\n"
      ],
      "text/plain": [
       "  Sample      Group \n",
       "1 Input_rep1  Input \n",
       "2 Input_rep2  Input \n",
       "3 Input_rep3  Input \n",
       "4 Input_rep4  Input \n",
       "5 Output_rep1 Output\n",
       "6 Output_rep2 Output\n",
       "7 Output_rep3 Output\n",
       "  FPath                                                                                                                                                      \n",
       "1 /mount/work/out/proj_combeffect_encode_fcc/A001_K562_WSTARRseq/coverage_astarrseq_peak_macs_input/A001-input-K562-rep1.masked.dedup.fragments.counts.txt.gz\n",
       "2 /mount/work/out/proj_combeffect_encode_fcc/A001_K562_WSTARRseq/coverage_astarrseq_peak_macs_input/A001-input-K562-rep2.masked.dedup.fragments.counts.txt.gz\n",
       "3 /mount/work/out/proj_combeffect_encode_fcc/A001_K562_WSTARRseq/coverage_astarrseq_peak_macs_input/A001-input-K562-rep3.masked.dedup.fragments.counts.txt.gz\n",
       "4 /mount/work/out/proj_combeffect_encode_fcc/A001_K562_WSTARRseq/coverage_astarrseq_peak_macs_input/A001-input-K562-rep4.masked.dedup.fragments.counts.txt.gz\n",
       "5 /mount/work/out/proj_combeffect_encode_fcc/A001_K562_WSTARRseq/coverage_astarrseq_peak_macs_input/A001-K562-rep1.masked.dedup.fragments.counts.txt.gz      \n",
       "6 /mount/work/out/proj_combeffect_encode_fcc/A001_K562_WSTARRseq/coverage_astarrseq_peak_macs_input/A001-K562-rep2.masked.dedup.fragments.counts.txt.gz      \n",
       "7 /mount/work/out/proj_combeffect_encode_fcc/A001_K562_WSTARRseq/coverage_astarrseq_peak_macs_input/A001-K562-rep3.masked.dedup.fragments.counts.txt.gz      "
      ]
     },
     "metadata": {},
     "output_type": "display_data"
    }
   ],
   "source": [
    "dat_meta"
   ]
  },
  {
   "cell_type": "code",
   "execution_count": 11,
   "id": "481b73a4",
   "metadata": {},
   "outputs": [
    {
     "data": {
      "text/html": [
       "<table class=\"dataframe\">\n",
       "<caption>A tibble: 7 × 3</caption>\n",
       "<thead>\n",
       "\t<tr><th scope=col>Sample</th><th scope=col>Group</th><th scope=col>Size</th></tr>\n",
       "\t<tr><th scope=col>&lt;chr&gt;</th><th scope=col>&lt;chr&gt;</th><th scope=col>&lt;dbl&gt;</th></tr>\n",
       "</thead>\n",
       "<tbody>\n",
       "\t<tr><td>Input_rep1 </td><td>Input </td><td> 26908970</td></tr>\n",
       "\t<tr><td>Input_rep2 </td><td>Input </td><td> 99899775</td></tr>\n",
       "\t<tr><td>Input_rep3 </td><td>Input </td><td>105623984</td></tr>\n",
       "\t<tr><td>Input_rep4 </td><td>Input </td><td>108635002</td></tr>\n",
       "\t<tr><td>Output_rep1</td><td>Output</td><td>160349140</td></tr>\n",
       "\t<tr><td>Output_rep2</td><td>Output</td><td>157326312</td></tr>\n",
       "\t<tr><td>Output_rep3</td><td>Output</td><td>328185275</td></tr>\n",
       "</tbody>\n",
       "</table>\n"
      ],
      "text/latex": [
       "A tibble: 7 × 3\n",
       "\\begin{tabular}{lll}\n",
       " Sample & Group & Size\\\\\n",
       " <chr> & <chr> & <dbl>\\\\\n",
       "\\hline\n",
       "\t Input\\_rep1  & Input  &  26908970\\\\\n",
       "\t Input\\_rep2  & Input  &  99899775\\\\\n",
       "\t Input\\_rep3  & Input  & 105623984\\\\\n",
       "\t Input\\_rep4  & Input  & 108635002\\\\\n",
       "\t Output\\_rep1 & Output & 160349140\\\\\n",
       "\t Output\\_rep2 & Output & 157326312\\\\\n",
       "\t Output\\_rep3 & Output & 328185275\\\\\n",
       "\\end{tabular}\n"
      ],
      "text/markdown": [
       "\n",
       "A tibble: 7 × 3\n",
       "\n",
       "| Sample &lt;chr&gt; | Group &lt;chr&gt; | Size &lt;dbl&gt; |\n",
       "|---|---|---|\n",
       "| Input_rep1  | Input  |  26908970 |\n",
       "| Input_rep2  | Input  |  99899775 |\n",
       "| Input_rep3  | Input  | 105623984 |\n",
       "| Input_rep4  | Input  | 108635002 |\n",
       "| Output_rep1 | Output | 160349140 |\n",
       "| Output_rep2 | Output | 157326312 |\n",
       "| Output_rep3 | Output | 328185275 |\n",
       "\n"
      ],
      "text/plain": [
       "  Sample      Group  Size     \n",
       "1 Input_rep1  Input   26908970\n",
       "2 Input_rep2  Input   99899775\n",
       "3 Input_rep3  Input  105623984\n",
       "4 Input_rep4  Input  108635002\n",
       "5 Output_rep1 Output 160349140\n",
       "6 Output_rep2 Output 157326312\n",
       "7 Output_rep3 Output 328185275"
      ]
     },
     "metadata": {},
     "output_type": "display_data"
    }
   ],
   "source": [
    "dat_lib"
   ]
  },
  {
   "cell_type": "markdown",
   "id": "f35ad622",
   "metadata": {},
   "source": [
    "## Calculate CPM for each sample"
   ]
  },
  {
   "cell_type": "code",
   "execution_count": 12,
   "id": "66d07981",
   "metadata": {},
   "outputs": [
    {
     "data": {
      "text/html": [
       "TRUE"
      ],
      "text/latex": [
       "TRUE"
      ],
      "text/markdown": [
       "TRUE"
      ],
      "text/plain": [
       "[1] TRUE"
      ]
     },
     "metadata": {},
     "output_type": "display_data"
    }
   ],
   "source": [
    "mat = dat_count %>% dplyr::select(-Chrom, -Start, -End, -Peak)\n",
    "all(colnames(mat) == dat_lib$Sample)"
   ]
  },
  {
   "cell_type": "code",
   "execution_count": 13,
   "id": "dfbf2d12",
   "metadata": {},
   "outputs": [
    {
     "data": {
      "text/html": [
       "<table class=\"dataframe\">\n",
       "<caption>A data.frame: 6 × 3</caption>\n",
       "<thead>\n",
       "\t<tr><th></th><th scope=col>Peak</th><th scope=col>Input</th><th scope=col>Output</th></tr>\n",
       "\t<tr><th></th><th scope=col>&lt;chr&gt;</th><th scope=col>&lt;dbl&gt;</th><th scope=col>&lt;dbl&gt;</th></tr>\n",
       "</thead>\n",
       "<tbody>\n",
       "\t<tr><th scope=row>1</th><td>chr1_10015_10442  </td><td>0.01646126</td><td>        NA</td></tr>\n",
       "\t<tr><th scope=row>2</th><td>chr1_17237_17772  </td><td>0.15110814</td><td>0.11357287</td></tr>\n",
       "\t<tr><th scope=row>3</th><td>chr1_136071_137429</td><td>0.06365512</td><td>0.07982534</td></tr>\n",
       "\t<tr><th scope=row>4</th><td>chr1_137737_139544</td><td>0.44687760</td><td>0.82692790</td></tr>\n",
       "\t<tr><th scope=row>5</th><td>chr1_180982_182087</td><td>0.27787742</td><td>0.35228528</td></tr>\n",
       "\t<tr><th scope=row>6</th><td>chr1_183239_184602</td><td>0.40955815</td><td>0.47205688</td></tr>\n",
       "</tbody>\n",
       "</table>\n"
      ],
      "text/latex": [
       "A data.frame: 6 × 3\n",
       "\\begin{tabular}{r|lll}\n",
       "  & Peak & Input & Output\\\\\n",
       "  & <chr> & <dbl> & <dbl>\\\\\n",
       "\\hline\n",
       "\t1 & chr1\\_10015\\_10442   & 0.01646126 &         NA\\\\\n",
       "\t2 & chr1\\_17237\\_17772   & 0.15110814 & 0.11357287\\\\\n",
       "\t3 & chr1\\_136071\\_137429 & 0.06365512 & 0.07982534\\\\\n",
       "\t4 & chr1\\_137737\\_139544 & 0.44687760 & 0.82692790\\\\\n",
       "\t5 & chr1\\_180982\\_182087 & 0.27787742 & 0.35228528\\\\\n",
       "\t6 & chr1\\_183239\\_184602 & 0.40955815 & 0.47205688\\\\\n",
       "\\end{tabular}\n"
      ],
      "text/markdown": [
       "\n",
       "A data.frame: 6 × 3\n",
       "\n",
       "| <!--/--> | Peak &lt;chr&gt; | Input &lt;dbl&gt; | Output &lt;dbl&gt; |\n",
       "|---|---|---|---|\n",
       "| 1 | chr1_10015_10442   | 0.01646126 |         NA |\n",
       "| 2 | chr1_17237_17772   | 0.15110814 | 0.11357287 |\n",
       "| 3 | chr1_136071_137429 | 0.06365512 | 0.07982534 |\n",
       "| 4 | chr1_137737_139544 | 0.44687760 | 0.82692790 |\n",
       "| 5 | chr1_180982_182087 | 0.27787742 | 0.35228528 |\n",
       "| 6 | chr1_183239_184602 | 0.40955815 | 0.47205688 |\n",
       "\n"
      ],
      "text/plain": [
       "  Peak               Input      Output    \n",
       "1 chr1_10015_10442   0.01646126         NA\n",
       "2 chr1_17237_17772   0.15110814 0.11357287\n",
       "3 chr1_136071_137429 0.06365512 0.07982534\n",
       "4 chr1_137737_139544 0.44687760 0.82692790\n",
       "5 chr1_180982_182087 0.27787742 0.35228528\n",
       "6 chr1_183239_184602 0.40955815 0.47205688"
      ]
     },
     "metadata": {},
     "output_type": "display_data"
    }
   ],
   "source": [
    "### init\n",
    "size  = dat_lib$Size\n",
    "group = dat_lib$Group\n",
    "peak  = dat_count$Peak\n",
    "\n",
    "### CPM\n",
    "mat = dat_count %>% dplyr::select(-Chrom, -Start, -End, -Peak)\n",
    "mat = apply(mat, 1, function(x){\n",
    "    y = x * 10^6 / size\n",
    "    y = tapply(y, group, mean)\n",
    "    return(y)\n",
    "})\n",
    "\n",
    "### arrange\n",
    "mat = t(mat)\n",
    "rownames(mat) = peak\n",
    "dat_cpm = as.data.frame(mat) %>% rownames_to_column(var = \"Peak\")\n",
    "head(dat_cpm)"
   ]
  },
  {
   "cell_type": "markdown",
   "id": "f04a53ce",
   "metadata": {},
   "source": [
    "## Save the table"
   ]
  },
  {
   "cell_type": "code",
   "execution_count": 14,
   "id": "d66682c7",
   "metadata": {},
   "outputs": [
    {
     "name": "stdout",
     "output_type": "stream",
     "text": [
      "[1] \"/mount/work/out/proj_combeffect_encode_fcc/A001_K562_WSTARRseq/coverage_astarrseq_peak_macs_input/summary/wgs_summary_cpm.tsv\"\n"
     ]
    }
   ],
   "source": [
    "fdiry = file.path(FD_RES, PREFIX, FOLDER, \"summary\")\n",
    "fname = \"wgs_summary_cpm.tsv\"\n",
    "fpath = file.path(fdiry, fname)\n",
    "print(fpath)\n",
    "\n",
    "write_tsv(dat_cpm, fpath)"
   ]
  },
  {
   "cell_type": "code",
   "execution_count": null,
   "id": "815b3200",
   "metadata": {},
   "outputs": [],
   "source": []
  }
 ],
 "metadata": {
  "kernelspec": {
   "display_name": "R",
   "language": "R",
   "name": "ir"
  },
  "language_info": {
   "codemirror_mode": "r",
   "file_extension": ".r",
   "mimetype": "text/x-r-source",
   "name": "R",
   "pygments_lexer": "r",
   "version": "4.2.0"
  }
 },
 "nbformat": 4,
 "nbformat_minor": 5
}
