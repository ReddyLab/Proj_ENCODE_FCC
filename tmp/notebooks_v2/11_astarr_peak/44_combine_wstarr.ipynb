{
 "cells": [
  {
   "cell_type": "code",
   "execution_count": 1,
   "id": "2d0c6c73",
   "metadata": {},
   "outputs": [
    {
     "name": "stdout",
     "output_type": "stream",
     "text": [
      "You are in Singularity: singularity_proj_combeffect \n",
      "BASE DIRECTORY:     /mount/work \n",
      "PATH OF SOURCE:     /mount/work/source \n",
      "PATH OF EXECUTABLE: /mount/work/exe \n",
      "PATH OF ANNOTATION: /mount/work/annotation \n",
      "PATH OF PROJECT:    /mount/project \n",
      "PATH OF RESULTS:    /mount/work/out/proj_combeffect_encode_fcc \n"
     ]
    }
   ],
   "source": [
    "suppressMessages(suppressWarnings(source(\"../config/config_sing.R\")))\n",
    "show_env()"
   ]
  },
  {
   "cell_type": "code",
   "execution_count": 2,
   "id": "73ce232e",
   "metadata": {},
   "outputs": [],
   "source": [
    "PREFIX = \"A001_K562_WSTARRseq\"\n",
    "FOLDER = \"coverage_astarrseq_peak_macs_input\""
   ]
  },
  {
   "cell_type": "code",
   "execution_count": 3,
   "id": "08c7e3bc",
   "metadata": {},
   "outputs": [
    {
     "name": "stderr",
     "output_type": "stream",
     "text": [
      "\u001b[1mRows: \u001b[22m\u001b[34m246688\u001b[39m \u001b[1mColumns: \u001b[22m\u001b[34m7\u001b[39m\n",
      "\u001b[36m──\u001b[39m \u001b[1mColumn specification\u001b[22m \u001b[36m──────────────────────────────────────────────────────────────────────────────────────────────────────────────────────────────────────────────────────────────────────\u001b[39m\n",
      "\u001b[1mDelimiter:\u001b[22m \"\\t\"\n",
      "\u001b[31mchr\u001b[39m (1): Peak\n",
      "\u001b[32mdbl\u001b[39m (6): baseMean, log2FoldChange, lfcSE, stat, pvalue, padj\n",
      "\n",
      "\u001b[36mℹ\u001b[39m Use `spec()` to retrieve the full column specification for this data.\n",
      "\u001b[36mℹ\u001b[39m Specify the column types or set `show_col_types = FALSE` to quiet this message.\n"
     ]
    }
   ],
   "source": [
    "fdiry = file.path(FD_RES, PREFIX, FOLDER, \"summary\")\n",
    "fname = \"wgs_deseq_results.tsv\"\n",
    "fpath = file.path(fdiry, fname)\n",
    "\n",
    "dat_results = read_tsv(fpath)"
   ]
  },
  {
   "cell_type": "code",
   "execution_count": 4,
   "id": "7813945c",
   "metadata": {},
   "outputs": [
    {
     "name": "stderr",
     "output_type": "stream",
     "text": [
      "\u001b[1mRows: \u001b[22m\u001b[34m246832\u001b[39m \u001b[1mColumns: \u001b[22m\u001b[34m3\u001b[39m\n",
      "\u001b[36m──\u001b[39m \u001b[1mColumn specification\u001b[22m \u001b[36m──────────────────────────────────────────────────────────────────────────────────────────────────────────────────────────────────────────────────────────────────────\u001b[39m\n",
      "\u001b[1mDelimiter:\u001b[22m \"\\t\"\n",
      "\u001b[31mchr\u001b[39m (1): Peak\n",
      "\u001b[32mdbl\u001b[39m (2): Input, Output\n",
      "\n",
      "\u001b[36mℹ\u001b[39m Use `spec()` to retrieve the full column specification for this data.\n",
      "\u001b[36mℹ\u001b[39m Specify the column types or set `show_col_types = FALSE` to quiet this message.\n"
     ]
    }
   ],
   "source": [
    "fdiry = file.path(FD_RES, PREFIX, FOLDER, \"summary\")\n",
    "fname = \"wgs_summary_cpm.tsv\"\n",
    "fpath = file.path(fdiry, fname)\n",
    "\n",
    "dat_cpm = read_tsv(fpath)"
   ]
  },
  {
   "cell_type": "code",
   "execution_count": 5,
   "id": "94272179",
   "metadata": {},
   "outputs": [
    {
     "data": {
      "text/html": [
       "<table class=\"dataframe\">\n",
       "<caption>A tibble: 6 × 7</caption>\n",
       "<thead>\n",
       "\t<tr><th scope=col>Peak</th><th scope=col>baseMean</th><th scope=col>log2FoldChange</th><th scope=col>lfcSE</th><th scope=col>stat</th><th scope=col>pvalue</th><th scope=col>padj</th></tr>\n",
       "\t<tr><th scope=col>&lt;chr&gt;</th><th scope=col>&lt;dbl&gt;</th><th scope=col>&lt;dbl&gt;</th><th scope=col>&lt;dbl&gt;</th><th scope=col>&lt;dbl&gt;</th><th scope=col>&lt;dbl&gt;</th><th scope=col>&lt;dbl&gt;</th></tr>\n",
       "</thead>\n",
       "<tbody>\n",
       "\t<tr><td>chr1_17237_17772  </td><td>15.507847</td><td>-0.55197423</td><td>0.3650312</td><td>-1.5121288</td><td>0.1305011090</td><td>0.376522564</td></tr>\n",
       "\t<tr><td>chr1_136071_137429</td><td> 8.005396</td><td> 0.42184778</td><td>0.5134014</td><td> 0.8216725</td><td>0.4112633282</td><td>         NA</td></tr>\n",
       "\t<tr><td>chr1_137737_139544</td><td>68.388785</td><td> 0.75905245</td><td>0.1909129</td><td> 3.9759105</td><td>0.0000701105</td><td>0.001384044</td></tr>\n",
       "\t<tr><td>chr1_180982_182087</td><td>35.093278</td><td> 0.19192129</td><td>0.2417529</td><td> 0.7938737</td><td>0.4272689717</td><td>0.696317984</td></tr>\n",
       "\t<tr><td>chr1_183239_184602</td><td>49.565727</td><td> 0.08374879</td><td>0.2018363</td><td> 0.4149342</td><td>0.6781900855</td><td>0.857342193</td></tr>\n",
       "\t<tr><td>chr1_186238_187159</td><td>50.450003</td><td>-0.13877450</td><td>0.2161170</td><td>-0.6421267</td><td>0.5207908905</td><td>0.763065578</td></tr>\n",
       "</tbody>\n",
       "</table>\n"
      ],
      "text/latex": [
       "A tibble: 6 × 7\n",
       "\\begin{tabular}{lllllll}\n",
       " Peak & baseMean & log2FoldChange & lfcSE & stat & pvalue & padj\\\\\n",
       " <chr> & <dbl> & <dbl> & <dbl> & <dbl> & <dbl> & <dbl>\\\\\n",
       "\\hline\n",
       "\t chr1\\_17237\\_17772   & 15.507847 & -0.55197423 & 0.3650312 & -1.5121288 & 0.1305011090 & 0.376522564\\\\\n",
       "\t chr1\\_136071\\_137429 &  8.005396 &  0.42184778 & 0.5134014 &  0.8216725 & 0.4112633282 &          NA\\\\\n",
       "\t chr1\\_137737\\_139544 & 68.388785 &  0.75905245 & 0.1909129 &  3.9759105 & 0.0000701105 & 0.001384044\\\\\n",
       "\t chr1\\_180982\\_182087 & 35.093278 &  0.19192129 & 0.2417529 &  0.7938737 & 0.4272689717 & 0.696317984\\\\\n",
       "\t chr1\\_183239\\_184602 & 49.565727 &  0.08374879 & 0.2018363 &  0.4149342 & 0.6781900855 & 0.857342193\\\\\n",
       "\t chr1\\_186238\\_187159 & 50.450003 & -0.13877450 & 0.2161170 & -0.6421267 & 0.5207908905 & 0.763065578\\\\\n",
       "\\end{tabular}\n"
      ],
      "text/markdown": [
       "\n",
       "A tibble: 6 × 7\n",
       "\n",
       "| Peak &lt;chr&gt; | baseMean &lt;dbl&gt; | log2FoldChange &lt;dbl&gt; | lfcSE &lt;dbl&gt; | stat &lt;dbl&gt; | pvalue &lt;dbl&gt; | padj &lt;dbl&gt; |\n",
       "|---|---|---|---|---|---|---|\n",
       "| chr1_17237_17772   | 15.507847 | -0.55197423 | 0.3650312 | -1.5121288 | 0.1305011090 | 0.376522564 |\n",
       "| chr1_136071_137429 |  8.005396 |  0.42184778 | 0.5134014 |  0.8216725 | 0.4112633282 |          NA |\n",
       "| chr1_137737_139544 | 68.388785 |  0.75905245 | 0.1909129 |  3.9759105 | 0.0000701105 | 0.001384044 |\n",
       "| chr1_180982_182087 | 35.093278 |  0.19192129 | 0.2417529 |  0.7938737 | 0.4272689717 | 0.696317984 |\n",
       "| chr1_183239_184602 | 49.565727 |  0.08374879 | 0.2018363 |  0.4149342 | 0.6781900855 | 0.857342193 |\n",
       "| chr1_186238_187159 | 50.450003 | -0.13877450 | 0.2161170 | -0.6421267 | 0.5207908905 | 0.763065578 |\n",
       "\n"
      ],
      "text/plain": [
       "  Peak               baseMean  log2FoldChange lfcSE     stat       pvalue      \n",
       "1 chr1_17237_17772   15.507847 -0.55197423    0.3650312 -1.5121288 0.1305011090\n",
       "2 chr1_136071_137429  8.005396  0.42184778    0.5134014  0.8216725 0.4112633282\n",
       "3 chr1_137737_139544 68.388785  0.75905245    0.1909129  3.9759105 0.0000701105\n",
       "4 chr1_180982_182087 35.093278  0.19192129    0.2417529  0.7938737 0.4272689717\n",
       "5 chr1_183239_184602 49.565727  0.08374879    0.2018363  0.4149342 0.6781900855\n",
       "6 chr1_186238_187159 50.450003 -0.13877450    0.2161170 -0.6421267 0.5207908905\n",
       "  padj       \n",
       "1 0.376522564\n",
       "2          NA\n",
       "3 0.001384044\n",
       "4 0.696317984\n",
       "5 0.857342193\n",
       "6 0.763065578"
      ]
     },
     "metadata": {},
     "output_type": "display_data"
    }
   ],
   "source": [
    "head(dat_results)"
   ]
  },
  {
   "cell_type": "code",
   "execution_count": 6,
   "id": "b484fbac",
   "metadata": {},
   "outputs": [
    {
     "data": {
      "text/html": [
       "<table class=\"dataframe\">\n",
       "<caption>A tibble: 6 × 3</caption>\n",
       "<thead>\n",
       "\t<tr><th scope=col>Peak</th><th scope=col>Input</th><th scope=col>Output</th></tr>\n",
       "\t<tr><th scope=col>&lt;chr&gt;</th><th scope=col>&lt;dbl&gt;</th><th scope=col>&lt;dbl&gt;</th></tr>\n",
       "</thead>\n",
       "<tbody>\n",
       "\t<tr><td>chr1_10015_10442  </td><td>0.01646126</td><td>        NA</td></tr>\n",
       "\t<tr><td>chr1_17237_17772  </td><td>0.15110814</td><td>0.11357287</td></tr>\n",
       "\t<tr><td>chr1_136071_137429</td><td>0.06365512</td><td>0.07982534</td></tr>\n",
       "\t<tr><td>chr1_137737_139544</td><td>0.44687760</td><td>0.82692790</td></tr>\n",
       "\t<tr><td>chr1_180982_182087</td><td>0.27787742</td><td>0.35228528</td></tr>\n",
       "\t<tr><td>chr1_183239_184602</td><td>0.40955815</td><td>0.47205688</td></tr>\n",
       "</tbody>\n",
       "</table>\n"
      ],
      "text/latex": [
       "A tibble: 6 × 3\n",
       "\\begin{tabular}{lll}\n",
       " Peak & Input & Output\\\\\n",
       " <chr> & <dbl> & <dbl>\\\\\n",
       "\\hline\n",
       "\t chr1\\_10015\\_10442   & 0.01646126 &         NA\\\\\n",
       "\t chr1\\_17237\\_17772   & 0.15110814 & 0.11357287\\\\\n",
       "\t chr1\\_136071\\_137429 & 0.06365512 & 0.07982534\\\\\n",
       "\t chr1\\_137737\\_139544 & 0.44687760 & 0.82692790\\\\\n",
       "\t chr1\\_180982\\_182087 & 0.27787742 & 0.35228528\\\\\n",
       "\t chr1\\_183239\\_184602 & 0.40955815 & 0.47205688\\\\\n",
       "\\end{tabular}\n"
      ],
      "text/markdown": [
       "\n",
       "A tibble: 6 × 3\n",
       "\n",
       "| Peak &lt;chr&gt; | Input &lt;dbl&gt; | Output &lt;dbl&gt; |\n",
       "|---|---|---|\n",
       "| chr1_10015_10442   | 0.01646126 |         NA |\n",
       "| chr1_17237_17772   | 0.15110814 | 0.11357287 |\n",
       "| chr1_136071_137429 | 0.06365512 | 0.07982534 |\n",
       "| chr1_137737_139544 | 0.44687760 | 0.82692790 |\n",
       "| chr1_180982_182087 | 0.27787742 | 0.35228528 |\n",
       "| chr1_183239_184602 | 0.40955815 | 0.47205688 |\n",
       "\n"
      ],
      "text/plain": [
       "  Peak               Input      Output    \n",
       "1 chr1_10015_10442   0.01646126         NA\n",
       "2 chr1_17237_17772   0.15110814 0.11357287\n",
       "3 chr1_136071_137429 0.06365512 0.07982534\n",
       "4 chr1_137737_139544 0.44687760 0.82692790\n",
       "5 chr1_180982_182087 0.27787742 0.35228528\n",
       "6 chr1_183239_184602 0.40955815 0.47205688"
      ]
     },
     "metadata": {},
     "output_type": "display_data"
    }
   ],
   "source": [
    "head(dat_cpm)"
   ]
  },
  {
   "cell_type": "code",
   "execution_count": 7,
   "id": "523414c2",
   "metadata": {},
   "outputs": [
    {
     "data": {
      "text/html": [
       "<table class=\"dataframe\">\n",
       "<caption>A tibble: 6 × 9</caption>\n",
       "<thead>\n",
       "\t<tr><th scope=col>Peak</th><th scope=col>Input</th><th scope=col>Output</th><th scope=col>baseMean</th><th scope=col>log2FoldChange</th><th scope=col>lfcSE</th><th scope=col>stat</th><th scope=col>pvalue</th><th scope=col>padj</th></tr>\n",
       "\t<tr><th scope=col>&lt;chr&gt;</th><th scope=col>&lt;dbl&gt;</th><th scope=col>&lt;dbl&gt;</th><th scope=col>&lt;dbl&gt;</th><th scope=col>&lt;dbl&gt;</th><th scope=col>&lt;dbl&gt;</th><th scope=col>&lt;dbl&gt;</th><th scope=col>&lt;dbl&gt;</th><th scope=col>&lt;dbl&gt;</th></tr>\n",
       "</thead>\n",
       "<tbody>\n",
       "\t<tr><td>chr1_17237_17772  </td><td>0.15110814</td><td>0.11357287</td><td>15.507847</td><td>-0.55197423</td><td>0.3650312</td><td>-1.5121288</td><td>0.1305011090</td><td>0.376522564</td></tr>\n",
       "\t<tr><td>chr1_136071_137429</td><td>0.06365512</td><td>0.07982534</td><td> 8.005396</td><td> 0.42184778</td><td>0.5134014</td><td> 0.8216725</td><td>0.4112633282</td><td>         NA</td></tr>\n",
       "\t<tr><td>chr1_137737_139544</td><td>0.44687760</td><td>0.82692790</td><td>68.388785</td><td> 0.75905245</td><td>0.1909129</td><td> 3.9759105</td><td>0.0000701105</td><td>0.001384044</td></tr>\n",
       "\t<tr><td>chr1_180982_182087</td><td>0.27787742</td><td>0.35228528</td><td>35.093278</td><td> 0.19192129</td><td>0.2417529</td><td> 0.7938737</td><td>0.4272689717</td><td>0.696317984</td></tr>\n",
       "\t<tr><td>chr1_183239_184602</td><td>0.40955815</td><td>0.47205688</td><td>49.565727</td><td> 0.08374879</td><td>0.2018363</td><td> 0.4149342</td><td>0.6781900855</td><td>0.857342193</td></tr>\n",
       "\t<tr><td>chr1_186238_187159</td><td>0.44822499</td><td>0.43369525</td><td>50.450003</td><td>-0.13877450</td><td>0.2161170</td><td>-0.6421267</td><td>0.5207908905</td><td>0.763065578</td></tr>\n",
       "</tbody>\n",
       "</table>\n"
      ],
      "text/latex": [
       "A tibble: 6 × 9\n",
       "\\begin{tabular}{lllllllll}\n",
       " Peak & Input & Output & baseMean & log2FoldChange & lfcSE & stat & pvalue & padj\\\\\n",
       " <chr> & <dbl> & <dbl> & <dbl> & <dbl> & <dbl> & <dbl> & <dbl> & <dbl>\\\\\n",
       "\\hline\n",
       "\t chr1\\_17237\\_17772   & 0.15110814 & 0.11357287 & 15.507847 & -0.55197423 & 0.3650312 & -1.5121288 & 0.1305011090 & 0.376522564\\\\\n",
       "\t chr1\\_136071\\_137429 & 0.06365512 & 0.07982534 &  8.005396 &  0.42184778 & 0.5134014 &  0.8216725 & 0.4112633282 &          NA\\\\\n",
       "\t chr1\\_137737\\_139544 & 0.44687760 & 0.82692790 & 68.388785 &  0.75905245 & 0.1909129 &  3.9759105 & 0.0000701105 & 0.001384044\\\\\n",
       "\t chr1\\_180982\\_182087 & 0.27787742 & 0.35228528 & 35.093278 &  0.19192129 & 0.2417529 &  0.7938737 & 0.4272689717 & 0.696317984\\\\\n",
       "\t chr1\\_183239\\_184602 & 0.40955815 & 0.47205688 & 49.565727 &  0.08374879 & 0.2018363 &  0.4149342 & 0.6781900855 & 0.857342193\\\\\n",
       "\t chr1\\_186238\\_187159 & 0.44822499 & 0.43369525 & 50.450003 & -0.13877450 & 0.2161170 & -0.6421267 & 0.5207908905 & 0.763065578\\\\\n",
       "\\end{tabular}\n"
      ],
      "text/markdown": [
       "\n",
       "A tibble: 6 × 9\n",
       "\n",
       "| Peak &lt;chr&gt; | Input &lt;dbl&gt; | Output &lt;dbl&gt; | baseMean &lt;dbl&gt; | log2FoldChange &lt;dbl&gt; | lfcSE &lt;dbl&gt; | stat &lt;dbl&gt; | pvalue &lt;dbl&gt; | padj &lt;dbl&gt; |\n",
       "|---|---|---|---|---|---|---|---|---|\n",
       "| chr1_17237_17772   | 0.15110814 | 0.11357287 | 15.507847 | -0.55197423 | 0.3650312 | -1.5121288 | 0.1305011090 | 0.376522564 |\n",
       "| chr1_136071_137429 | 0.06365512 | 0.07982534 |  8.005396 |  0.42184778 | 0.5134014 |  0.8216725 | 0.4112633282 |          NA |\n",
       "| chr1_137737_139544 | 0.44687760 | 0.82692790 | 68.388785 |  0.75905245 | 0.1909129 |  3.9759105 | 0.0000701105 | 0.001384044 |\n",
       "| chr1_180982_182087 | 0.27787742 | 0.35228528 | 35.093278 |  0.19192129 | 0.2417529 |  0.7938737 | 0.4272689717 | 0.696317984 |\n",
       "| chr1_183239_184602 | 0.40955815 | 0.47205688 | 49.565727 |  0.08374879 | 0.2018363 |  0.4149342 | 0.6781900855 | 0.857342193 |\n",
       "| chr1_186238_187159 | 0.44822499 | 0.43369525 | 50.450003 | -0.13877450 | 0.2161170 | -0.6421267 | 0.5207908905 | 0.763065578 |\n",
       "\n"
      ],
      "text/plain": [
       "  Peak               Input      Output     baseMean  log2FoldChange lfcSE    \n",
       "1 chr1_17237_17772   0.15110814 0.11357287 15.507847 -0.55197423    0.3650312\n",
       "2 chr1_136071_137429 0.06365512 0.07982534  8.005396  0.42184778    0.5134014\n",
       "3 chr1_137737_139544 0.44687760 0.82692790 68.388785  0.75905245    0.1909129\n",
       "4 chr1_180982_182087 0.27787742 0.35228528 35.093278  0.19192129    0.2417529\n",
       "5 chr1_183239_184602 0.40955815 0.47205688 49.565727  0.08374879    0.2018363\n",
       "6 chr1_186238_187159 0.44822499 0.43369525 50.450003 -0.13877450    0.2161170\n",
       "  stat       pvalue       padj       \n",
       "1 -1.5121288 0.1305011090 0.376522564\n",
       "2  0.8216725 0.4112633282          NA\n",
       "3  3.9759105 0.0000701105 0.001384044\n",
       "4  0.7938737 0.4272689717 0.696317984\n",
       "5  0.4149342 0.6781900855 0.857342193\n",
       "6 -0.6421267 0.5207908905 0.763065578"
      ]
     },
     "metadata": {},
     "output_type": "display_data"
    }
   ],
   "source": [
    "dat_comb = inner_join(dat_cpm, dat_results, by = \"Peak\")\n",
    "head(dat_comb)"
   ]
  },
  {
   "cell_type": "code",
   "execution_count": 8,
   "id": "68ac89ac",
   "metadata": {},
   "outputs": [],
   "source": [
    "fdiry = file.path(FD_RES, PREFIX, FOLDER, \"summary\")\n",
    "fname = \"wgs_summary_combine.tsv\"\n",
    "fpath = file.path(fdiry, fname)\n",
    "\n",
    "write_tsv(dat_comb, fpath)"
   ]
  },
  {
   "cell_type": "code",
   "execution_count": null,
   "id": "20d7f046",
   "metadata": {},
   "outputs": [],
   "source": []
  }
 ],
 "metadata": {
  "kernelspec": {
   "display_name": "R",
   "language": "R",
   "name": "ir"
  },
  "language_info": {
   "codemirror_mode": "r",
   "file_extension": ".r",
   "mimetype": "text/x-r-source",
   "name": "R",
   "pygments_lexer": "r",
   "version": "4.2.0"
  }
 },
 "nbformat": 4,
 "nbformat_minor": 5
}
