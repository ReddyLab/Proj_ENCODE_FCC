{
 "cells": [
  {
   "cell_type": "code",
   "execution_count": 1,
   "id": "626d2608-9210-41ac-b52b-b155068742a2",
   "metadata": {},
   "outputs": [
    {
     "name": "stdout",
     "output_type": "stream",
     "text": [
      "You are on Duke Server: HARDAC\n",
      "BASE DIRECTORY:     /gpfs/fs1/data/reddylab/Kuei\n",
      "PATH OF SOURCE:     /gpfs/fs1/data/reddylab/Kuei/source\n",
      "PATH OF EXECUTABLE: /gpfs/fs1/data/reddylab/Kuei/exe\n",
      "PATH OF ANNOTATION: /gpfs/fs1/data/reddylab/Kuei/annotation\n",
      "PATH OF PROJECT:    /gpfs/fs1/data/reddylab/Kuei/GitRepo/Proj_CombEffect_ENCODE_FCC/notebooks\n",
      "PATH OF RESULTS:    /gpfs/fs1/data/reddylab/Kuei/out/proj_combeffect_encode_fcc\n",
      "\n"
     ]
    }
   ],
   "source": [
    "source ../config/config_duke.sh\n",
    "source ../config/config_load_module_bedtools.sh\n",
    "show_env"
   ]
  },
  {
   "cell_type": "code",
   "execution_count": 2,
   "id": "de2e2652-aafa-4897-ae42-93baeb8b716b",
   "metadata": {},
   "outputs": [
    {
     "name": "stdout",
     "output_type": "stream",
     "text": [
      "/nfs/software/helmod/apps/Core/bedtools2/2.25.0-fasrc01/bin/bedtools\n",
      "bedtools v2.25.0\n"
     ]
    }
   ],
   "source": [
    "which bedtools\n",
    "bedtools -version"
   ]
  },
  {
   "cell_type": "code",
   "execution_count": 3,
   "id": "b02b3790-496e-4088-a5fb-eb0536e99864",
   "metadata": {},
   "outputs": [
    {
     "name": "stdout",
     "output_type": "stream",
     "text": [
      "\u001b[0m\u001b[38;5;27m/gpfs/fs1/data/reddylab/Kuei/out/proj_combeffect_encode_fcc/log\u001b[0m\n",
      "all\n"
     ]
    }
   ],
   "source": [
    "ls -d ${FD_LOG}\n",
    "echo ${NODE}"
   ]
  },
  {
   "cell_type": "markdown",
   "id": "f3957fce-97a1-4106-a8bf-044978bac425",
   "metadata": {},
   "source": [
    "**TEST**"
   ]
  },
  {
   "cell_type": "code",
   "execution_count": 4,
   "id": "0ea19310-36ab-4cb2-a523-67e5feb7c630",
   "metadata": {},
   "outputs": [
    {
     "name": "stdout",
     "output_type": "stream",
     "text": [
      "-rw-rw-r-- 1 kk319 reddylab 5.7M Oct 17 05:28 /gpfs/fs1/data/reddylab/Kuei/out/proj_combeffect_encode_fcc/region/KS91_K562_astarrseq_peak_macs/KS91_K562_hg38_ASTARRseq_Input.all_reps.masked.union_narrowPeak.q5.bed\n",
      "247520\n"
     ]
    }
   ],
   "source": [
    "FD_REG=${FD_RES}/region/KS91_K562_astarrseq_peak_macs\n",
    "FN_REG=KS91_K562_hg38_ASTARRseq_Input.all_reps.masked.union_narrowPeak.q5.bed\n",
    "ls -lh ${FD_REG}/${FN_REG}\n",
    "cat ${FD_REG}/${FN_REG} | wc -l"
   ]
  },
  {
   "cell_type": "code",
   "execution_count": 9,
   "id": "f93f2e93-3705-4c95-8f03-fd8dc47158a3",
   "metadata": {},
   "outputs": [
    {
     "name": "stdout",
     "output_type": "stream",
     "text": [
      "Tile_K562_hg38_20200905.FADS.stranded_neg.round.bed\n",
      "Tile_K562_hg38_20200905.FADS.stranded_pos.round.bed\n",
      "Tile_K562_hg38_20210130.GATA1.stranded_pos.round.bed\n",
      "Tile_K562_hg38_20210130.MYC.stranded_pos.round.bed\n"
     ]
    }
   ],
   "source": [
    "PREFIX=Tewhey_K562_TileMPRA\n",
    "FD_CNT=${FD_RES}/${PREFIX}/fragment_count\n",
    "\n",
    "ls ${FD_CNT}/*round.bed | xargs -n 1 basename\n",
    "#ls ${FD_CNT}/*.unstranded.bed | wc -l"
   ]
  },
  {
   "cell_type": "code",
   "execution_count": null,
   "id": "db877164-adc5-4141-bdc8-1e08d8d35601",
   "metadata": {},
   "outputs": [],
   "source": []
  },
  {
   "cell_type": "code",
   "execution_count": 21,
   "id": "323992ad-a2c6-4c44-8dba-fc727bf24f22",
   "metadata": {},
   "outputs": [
    {
     "name": "stdout",
     "output_type": "stream",
     "text": [
      "Submitted batch job 29160084\n"
     ]
    }
   ],
   "source": [
    "sbatch -p ${NODE} \\\n",
    "    --exclude=dl-01 \\\n",
    "    --cpus-per-task 8 \\\n",
    "    --mem 20G \\\n",
    "    --output ${FD_LOG}/coverage_astarr_peak_macs_input_tmpra.%a.txt \\\n",
    "    --array 0-1 \\\n",
    "    <<'EOF'\n",
    "#!/bin/bash\n",
    "### set directories & global variables\n",
    "source ../config/config_duke.sh\n",
    "IDX_COLS=(8 9)\n",
    "IDN_COLS=(Input Output)\n",
    "\n",
    "### set input and output directory\n",
    "PREFIX=Tewhey_K562_TileMPRA\n",
    "FD_CNT=${FD_RES}/${PREFIX}/fragment_count\n",
    "FD_COV=${FD_RES}/${PREFIX}/coverage_astarrseq_peak_macs_input\n",
    "\n",
    "FD_REG=${FD_RES}/region/KS91_K562_astarrseq_peak_macs\n",
    "FN_REG=KS91_K562_hg38_ASTARRseq_Input.all_reps.masked.union_narrowPeak.q5.bed\n",
    "\n",
    "IDX_COL=${IDX_COLS[${SLURM_ARRAY_TASK_ID}]}\n",
    "IDN_COL=${IDN_COLS[${SLURM_ARRAY_TASK_ID}]}\n",
    "\n",
    "### print start message\n",
    "timer_start=`date +%s`\n",
    "echo \"Hostname:          \" $(hostname)\n",
    "echo \"Slurm Array Index: \" ${SLURM_ARRAY_TASK_ID}\n",
    "echo \"Time Stamp:        \" $(date +\"%m-%d-%y+%T\")\n",
    "echo\n",
    "\n",
    "### init: create output folder if not exist\n",
    "mkdir -p ${FD_COV}\n",
    "\n",
    "### loop through files\n",
    "FP_CNTS=($(ls ${FD_CNT}/*.round.bed))\n",
    "for FP_INP in ${FP_CNTS[@]}; do\n",
    "    FN_INP=$(basename ${FP_INP})\n",
    "    FN_OUT=${FN_INP%.*.*}.${IDN_COL}.bed.gz\n",
    "    FP_OUT=${FD_COV}/${FN_OUT}\n",
    "    echo ++++++++++++++++++++++++++++++++++++++\n",
    "    echo\n",
    "    \n",
    "    ### show input file\n",
    "    echo \"Input: \" ${FP_INP}\n",
    "    echo\n",
    "    echo \"show first few lines of input\"\n",
    "    cat ${FP_INP} | head -5\n",
    "    echo\n",
    "    \n",
    "    ### execute\n",
    "    bedtools map \\\n",
    "        -a ${FD_REG}/${FN_REG} \\\n",
    "        -b ${FP_INP} \\\n",
    "        -o mean \\\n",
    "        -c ${IDX_COL} \\\n",
    "        -f 0.5 \\\n",
    "        -F 0.5 \\\n",
    "        -e \\\n",
    "    | gzip -c > ${FP_OUT}\n",
    "    \n",
    "    \n",
    "    ### show output file\n",
    "    echo\n",
    "    echo \"Output: \" ${FP_OUT}\n",
    "    echo\n",
    "    echo \"show first few lines of output:\"\n",
    "    zcat ${FP_OUT} | head -5\n",
    "    echo\n",
    "done\n",
    "\n",
    "### print end message\n",
    "timer=`date +%s`\n",
    "runtime=$(echo \"${timer} - ${timer_start}\" | bc -l)\n",
    "echo\n",
    "echo 'Done!'\n",
    "echo \"Run Time: $(displaytime ${runtime})\"\n",
    "\n",
    "EOF"
   ]
  },
  {
   "cell_type": "markdown",
   "id": "dcccd56b-697d-474a-9334-df8e82a993d6",
   "metadata": {},
   "source": [
    "**CHECK**"
   ]
  },
  {
   "cell_type": "code",
   "execution_count": 20,
   "id": "b4084b6c-92b1-41eb-aca2-a2d36e93d78e",
   "metadata": {},
   "outputs": [
    {
     "name": "stdout",
     "output_type": "stream",
     "text": [
      "Hostname:           x1-01-3.genome.duke.edu\n",
      "Slurm Array Index:  0\n",
      "Time Stamp:         10-17-22+10:08:28\n",
      "\n",
      "++++++++++++++++++++++++++++++++++++++\n",
      "\n",
      "Input:  /gpfs/fs1/data/reddylab/Kuei/out/proj_combeffect_encode_fcc/Tewhey_K562_TileMPRA/fragment_count/Tile_K562_hg38_20200905.FADS.stranded_neg.round.bed\n",
      "\n",
      "show first few lines of input\n",
      "chr11\t61787329\t61787528\t11:61554801-61555000_RC\t.\t-\t-0.882\t325.845\t176.742\n",
      "chr11\t61787334\t61787533\t11:61554806-61555005_RC\t.\t-\t-0.832\t336.927\t189.098\n",
      "chr11\t61787339\t61787538\t11:61554811-61555010_RC\t.\t-\t-0.391\t310.188\t236.291\n",
      "chr11\t61787344\t61787543\t11:61554816-61555015_RC\t.\t-\t-0.768\t580.396\t341.076\n",
      "chr11\t61787349\t61787548\t11:61554821-61555020_RC\t.\t-\t-1.093\t544.991\t255.805\n",
      "\n",
      "/var/spool/slurmd/job29160078/slurm_script: line 51: /gpfs/fs1/data/reddylab/Kuei/out/proj_combeffect_encode_fcc/Tewhey_K562_TileMPRA/coverage_astarrseq_peak_macs_input/Tile_K562_hg38_20200905.FADS.stranded_neg.Input.bed.gz: No such file or directory\n",
      "\n",
      "Output:  /gpfs/fs1/data/reddylab/Kuei/out/proj_combeffect_encode_fcc/Tewhey_K562_TileMPRA/coverage_astarrseq_peak_macs_input/Tile_K562_hg38_20200905.FADS.stranded_neg.Input.bed.gz\n",
      "\n",
      "show first few lines of output:\n",
      "gzip: /gpfs/fs1/data/reddylab/Kuei/out/proj_combeffect_encode_fcc/Tewhey_K562_TileMPRA/coverage_astarrseq_peak_macs_input/Tile_K562_hg38_20200905.FADS.stranded_neg.Input.bed.gz: No such file or directory\n",
      "\n",
      "++++++++++++++++++++++++++++++++++++++\n",
      "\n",
      "Input:  /gpfs/fs1/data/reddylab/Kuei/out/proj_combeffect_encode_fcc/Tewhey_K562_TileMPRA/fragment_count/Tile_K562_hg38_20200905.FADS.stranded_pos.round.bed\n",
      "\n",
      "show first few lines of input\n",
      "chr11\t61787329\t61787528\t11:61554801-61555000\t.\t+\t-0.858\t539.07\t297.715\n",
      "chr11\t61787334\t61787533\t11:61554806-61555005\t.\t+\t-0.779\t609.292\t355.039\n",
      "chr11\t61787339\t61787538\t11:61554811-61555010\t.\t+\t-0.396\t643.658\t489.536\n",
      "chr11\t61787344\t61787543\t11:61554816-61555015\t.\t+\t-0.489\t564.827\t402.105\n",
      "chr11\t61787349\t61787548\t11:61554821-61555020\t.\t+\t-0.589\t573.689\t381.089\n",
      "\n",
      "/var/spool/slurmd/job29160078/slurm_script: line 51: /gpfs/fs1/data/reddylab/Kuei/out/proj_combeffect_encode_fcc/Tewhey_K562_TileMPRA/coverage_astarrseq_peak_macs_input/Tile_K562_hg38_20200905.FADS.stranded_pos.Input.bed.gz: No such file or directory\n",
      "\n",
      "Output:  /gpfs/fs1/data/reddylab/Kuei/out/proj_combeffect_encode_fcc/Tewhey_K562_TileMPRA/coverage_astarrseq_peak_macs_input/Tile_K562_hg38_20200905.FADS.stranded_pos.Input.bed.gz\n",
      "\n",
      "show first few lines of output:\n",
      "gzip: /gpfs/fs1/data/reddylab/Kuei/out/proj_combeffect_encode_fcc/Tewhey_K562_TileMPRA/coverage_astarrseq_peak_macs_input/Tile_K562_hg38_20200905.FADS.stranded_pos.Input.bed.gz: No such file or directory\n",
      "\n",
      "++++++++++++++++++++++++++++++++++++++\n",
      "\n",
      "Input:  /gpfs/fs1/data/reddylab/Kuei/out/proj_combeffect_encode_fcc/Tewhey_K562_TileMPRA/fragment_count/Tile_K562_hg38_20210130.GATA1.stranded_pos.round.bed\n",
      "\n",
      "show first few lines of input\n",
      "chrX\t47786401\t47786600\tX:47786401-47786600\t.\t+\t2.306\t2117.787\t10474.869\n",
      "chrX\t47786451\t47786650\tX:47786451-47786650\t.\t+\t0.783\t1386.007\t2387.119\n",
      "chrX\t47786501\t47786700\tX:47786501-47786700\t.\t+\t-0.129\t1955.626\t1788.236\n",
      "chrX\t47786551\t47786750\tX:47786551-47786750\t.\t+\t0.588\t2388.997\t3591.264\n",
      "chrX\t47786601\t47786800\tX:47786601-47786800\t.\t+\t0.067\t2102.916\t2202.385\n",
      "\n",
      "/var/spool/slurmd/job29160078/slurm_script: line 51: /gpfs/fs1/data/reddylab/Kuei/out/proj_combeffect_encode_fcc/Tewhey_K562_TileMPRA/coverage_astarrseq_peak_macs_input/Tile_K562_hg38_20210130.GATA1.stranded_pos.Input.bed.gz: No such file or directory\n",
      "\n",
      "Output:  /gpfs/fs1/data/reddylab/Kuei/out/proj_combeffect_encode_fcc/Tewhey_K562_TileMPRA/coverage_astarrseq_peak_macs_input/Tile_K562_hg38_20210130.GATA1.stranded_pos.Input.bed.gz\n",
      "\n",
      "show first few lines of output:\n",
      "gzip: /gpfs/fs1/data/reddylab/Kuei/out/proj_combeffect_encode_fcc/Tewhey_K562_TileMPRA/coverage_astarrseq_peak_macs_input/Tile_K562_hg38_20210130.GATA1.stranded_pos.Input.bed.gz: No such file or directory\n",
      "\n",
      "++++++++++++++++++++++++++++++++++++++\n",
      "\n",
      "Input:  /gpfs/fs1/data/reddylab/Kuei/out/proj_combeffect_encode_fcc/Tewhey_K562_TileMPRA/fragment_count/Tile_K562_hg38_20210130.MYC.stranded_pos.round.bed\n",
      "\n",
      "show first few lines of input\n",
      "chr8\t126735901\t126736100\t8:126735901-126736100\t.\t+\t3.216\t889.87\t8270.081\n",
      "chr8\t126735951\t126736150\t8:126735951-126736150\t.\t+\t2.742\t125.835\t840.939\n",
      "chr8\t126736001\t126736200\t8:126736001-126736200\t.\t+\t2.973\t510.316\t4005.357\n",
      "chr8\t126736051\t126736250\t8:126736051-126736250\t.\t+\t0.518\t702.549\t1005.359\n",
      "chr8\t126736101\t126736300\t8:126736101-126736300\t.\t+\t0.854\t551.083\t995.47\n",
      "\n",
      "/var/spool/slurmd/job29160078/slurm_script: line 51: /gpfs/fs1/data/reddylab/Kuei/out/proj_combeffect_encode_fcc/Tewhey_K562_TileMPRA/coverage_astarrseq_peak_macs_input/Tile_K562_hg38_20210130.MYC.stranded_pos.Input.bed.gz: No such file or directory\n",
      "\n",
      "Output:  /gpfs/fs1/data/reddylab/Kuei/out/proj_combeffect_encode_fcc/Tewhey_K562_TileMPRA/coverage_astarrseq_peak_macs_input/Tile_K562_hg38_20210130.MYC.stranded_pos.Input.bed.gz\n",
      "\n",
      "show first few lines of output:\n",
      "gzip: /gpfs/fs1/data/reddylab/Kuei/out/proj_combeffect_encode_fcc/Tewhey_K562_TileMPRA/coverage_astarrseq_peak_macs_input/Tile_K562_hg38_20210130.MYC.stranded_pos.Input.bed.gz: No such file or directory\n",
      "\n",
      "\n",
      "Done!\n",
      "Run Time: 0 seconds\n"
     ]
    }
   ],
   "source": [
    "cat ${FD_LOG}/coverage_astarr_peak_macs_input_tmpra.0.txt"
   ]
  },
  {
   "cell_type": "code",
   "execution_count": 23,
   "id": "23c6cd34-fb01-4538-b550-637c961669dc",
   "metadata": {},
   "outputs": [
    {
     "name": "stdout",
     "output_type": "stream",
     "text": [
      "Hostname:           x1-01-3.genome.duke.edu\n",
      "Slurm Array Index:  1\n",
      "Time Stamp:         10-17-22+10:10:28\n",
      "\n",
      "++++++++++++++++++++++++++++++++++++++\n",
      "\n",
      "Input:  /gpfs/fs1/data/reddylab/Kuei/out/proj_combeffect_encode_fcc/Tewhey_K562_TileMPRA/fragment_count/Tile_K562_hg38_20200905.FADS.stranded_neg.round.bed\n",
      "\n",
      "show first few lines of input\n",
      "chr11\t61787329\t61787528\t11:61554801-61555000_RC\t.\t-\t-0.882\t325.845\t176.742\n",
      "chr11\t61787334\t61787533\t11:61554806-61555005_RC\t.\t-\t-0.832\t336.927\t189.098\n",
      "chr11\t61787339\t61787538\t11:61554811-61555010_RC\t.\t-\t-0.391\t310.188\t236.291\n",
      "chr11\t61787344\t61787543\t11:61554816-61555015_RC\t.\t-\t-0.768\t580.396\t341.076\n",
      "chr11\t61787349\t61787548\t11:61554821-61555020_RC\t.\t-\t-1.093\t544.991\t255.805\n",
      "\n",
      "\n",
      "Output:  /gpfs/fs1/data/reddylab/Kuei/out/proj_combeffect_encode_fcc/Tewhey_K562_TileMPRA/coverage_astarrseq_peak_macs_input/Tile_K562_hg38_20200905.FADS.stranded_neg.Output.bed.gz\n",
      "\n",
      "show first few lines of output:\n",
      "chr1\t10015\t10442\t.\n",
      "chr1\t14253\t14645\t.\n",
      "chr1\t16015\t16477\t.\n",
      "chr1\t17237\t17772\t.\n",
      "chr1\t28903\t29613\t.\n",
      "\n",
      "++++++++++++++++++++++++++++++++++++++\n",
      "\n",
      "Input:  /gpfs/fs1/data/reddylab/Kuei/out/proj_combeffect_encode_fcc/Tewhey_K562_TileMPRA/fragment_count/Tile_K562_hg38_20200905.FADS.stranded_pos.round.bed\n",
      "\n",
      "show first few lines of input\n",
      "chr11\t61787329\t61787528\t11:61554801-61555000\t.\t+\t-0.858\t539.07\t297.715\n",
      "chr11\t61787334\t61787533\t11:61554806-61555005\t.\t+\t-0.779\t609.292\t355.039\n",
      "chr11\t61787339\t61787538\t11:61554811-61555010\t.\t+\t-0.396\t643.658\t489.536\n",
      "chr11\t61787344\t61787543\t11:61554816-61555015\t.\t+\t-0.489\t564.827\t402.105\n",
      "chr11\t61787349\t61787548\t11:61554821-61555020\t.\t+\t-0.589\t573.689\t381.089\n",
      "\n",
      "\n",
      "Output:  /gpfs/fs1/data/reddylab/Kuei/out/proj_combeffect_encode_fcc/Tewhey_K562_TileMPRA/coverage_astarrseq_peak_macs_input/Tile_K562_hg38_20200905.FADS.stranded_pos.Output.bed.gz\n",
      "\n",
      "show first few lines of output:\n",
      "chr1\t10015\t10442\t.\n",
      "chr1\t14253\t14645\t.\n",
      "chr1\t16015\t16477\t.\n",
      "chr1\t17237\t17772\t.\n",
      "chr1\t28903\t29613\t.\n",
      "\n",
      "++++++++++++++++++++++++++++++++++++++\n",
      "\n",
      "Input:  /gpfs/fs1/data/reddylab/Kuei/out/proj_combeffect_encode_fcc/Tewhey_K562_TileMPRA/fragment_count/Tile_K562_hg38_20210130.GATA1.stranded_pos.round.bed\n",
      "\n",
      "show first few lines of input\n",
      "chrX\t47786401\t47786600\tX:47786401-47786600\t.\t+\t2.306\t2117.787\t10474.869\n",
      "chrX\t47786451\t47786650\tX:47786451-47786650\t.\t+\t0.783\t1386.007\t2387.119\n",
      "chrX\t47786501\t47786700\tX:47786501-47786700\t.\t+\t-0.129\t1955.626\t1788.236\n",
      "chrX\t47786551\t47786750\tX:47786551-47786750\t.\t+\t0.588\t2388.997\t3591.264\n",
      "chrX\t47786601\t47786800\tX:47786601-47786800\t.\t+\t0.067\t2102.916\t2202.385\n",
      "\n",
      "\n",
      "Output:  /gpfs/fs1/data/reddylab/Kuei/out/proj_combeffect_encode_fcc/Tewhey_K562_TileMPRA/coverage_astarrseq_peak_macs_input/Tile_K562_hg38_20210130.GATA1.stranded_pos.Output.bed.gz\n",
      "\n",
      "show first few lines of output:\n",
      "chr1\t10015\t10442\t.\n",
      "chr1\t14253\t14645\t.\n",
      "chr1\t16015\t16477\t.\n",
      "chr1\t17237\t17772\t.\n",
      "chr1\t28903\t29613\t.\n",
      "\n",
      "++++++++++++++++++++++++++++++++++++++\n",
      "\n",
      "Input:  /gpfs/fs1/data/reddylab/Kuei/out/proj_combeffect_encode_fcc/Tewhey_K562_TileMPRA/fragment_count/Tile_K562_hg38_20210130.MYC.stranded_pos.round.bed\n",
      "\n",
      "show first few lines of input\n",
      "chr8\t126735901\t126736100\t8:126735901-126736100\t.\t+\t3.216\t889.87\t8270.081\n",
      "chr8\t126735951\t126736150\t8:126735951-126736150\t.\t+\t2.742\t125.835\t840.939\n",
      "chr8\t126736001\t126736200\t8:126736001-126736200\t.\t+\t2.973\t510.316\t4005.357\n",
      "chr8\t126736051\t126736250\t8:126736051-126736250\t.\t+\t0.518\t702.549\t1005.359\n",
      "chr8\t126736101\t126736300\t8:126736101-126736300\t.\t+\t0.854\t551.083\t995.47\n",
      "\n",
      "\n",
      "Output:  /gpfs/fs1/data/reddylab/Kuei/out/proj_combeffect_encode_fcc/Tewhey_K562_TileMPRA/coverage_astarrseq_peak_macs_input/Tile_K562_hg38_20210130.MYC.stranded_pos.Output.bed.gz\n",
      "\n",
      "show first few lines of output:\n",
      "chr1\t10015\t10442\t.\n",
      "chr1\t14253\t14645\t.\n",
      "chr1\t16015\t16477\t.\n",
      "chr1\t17237\t17772\t.\n",
      "chr1\t28903\t29613\t.\n",
      "\n",
      "\n",
      "Done!\n",
      "Run Time: 1 seconds\n"
     ]
    }
   ],
   "source": [
    "cat ${FD_LOG}/coverage_astarr_peak_macs_input_tmpra.1.txt"
   ]
  },
  {
   "cell_type": "code",
   "execution_count": 28,
   "id": "8b789656-139c-4fff-ae44-b5770312152b",
   "metadata": {},
   "outputs": [
    {
     "name": "stdout",
     "output_type": "stream",
     "text": [
      "\u001b[0m\u001b[38;5;9mTile_K562_hg38_20200905.FADS.stranded_neg.Input.bed.gz\u001b[0m\n",
      "\u001b[38;5;9mTile_K562_hg38_20200905.FADS.stranded_neg.Output.bed.gz\u001b[0m\n",
      "\u001b[38;5;9mTile_K562_hg38_20200905.FADS.stranded_pos.Input.bed.gz\u001b[0m\n",
      "\u001b[38;5;9mTile_K562_hg38_20200905.FADS.stranded_pos.Output.bed.gz\u001b[0m\n",
      "\u001b[38;5;9mTile_K562_hg38_20210130.GATA1.stranded_pos.Input.bed.gz\u001b[0m\n",
      "\u001b[38;5;9mTile_K562_hg38_20210130.GATA1.stranded_pos.Output.bed.gz\u001b[0m\n",
      "\u001b[38;5;9mTile_K562_hg38_20210130.MYC.stranded_pos.Input.bed.gz\u001b[0m\n",
      "\u001b[38;5;9mTile_K562_hg38_20210130.MYC.stranded_pos.Output.bed.gz\u001b[0m\n"
     ]
    }
   ],
   "source": [
    "PREFIX=Tewhey_K562_TileMPRA\n",
    "FDIRY=${FD_RES}/${PREFIX}/coverage_astarrseq_peak_macs_input\n",
    "ls ${FDIRY}"
   ]
  },
  {
   "cell_type": "code",
   "execution_count": 33,
   "id": "15f4b68c-9690-4ed5-98da-28abae53b1a9",
   "metadata": {},
   "outputs": [
    {
     "name": "stdout",
     "output_type": "stream",
     "text": [
      "chrX\t47809119\t47809445\t279.4821667\n",
      "chrX\t47814810\t47815443\t448.15475\n",
      "chrX\t47816459\t47818070\t447.7993437\n",
      "chrX\t47836113\t47837157\t357.6077143\n",
      "grep: write error\n"
     ]
    }
   ],
   "source": [
    "PREFIX=Tewhey_K562_TileMPRA\n",
    "FDIRY=${FD_RES}/${PREFIX}/coverage_astarrseq_peak_macs_input\n",
    "FNAME=Tile_K562_hg38_20210130.GATA1.stranded_pos.Input.bed.gz\n",
    "FPATH=${FDIRY}/${FNAME} \n",
    "\n",
    "zcat ${FPATH} | grep chrX | head -n 1400 | tail -n 4"
   ]
  },
  {
   "cell_type": "code",
   "execution_count": 35,
   "id": "fc074398-db68-453b-8a0c-8b7ff54cb152",
   "metadata": {},
   "outputs": [
    {
     "name": "stdout",
     "output_type": "stream",
     "text": [
      "chrX\t47809119\t47809445\t5032.433833\n",
      "chrX\t47814810\t47815443\t2462.516\n",
      "chrX\t47816459\t47818070\t2854.201719\n",
      "chrX\t47836113\t47837157\t9407.757762\n",
      "grep: write error\n"
     ]
    }
   ],
   "source": [
    "PREFIX=Tewhey_K562_TileMPRA\n",
    "FDIRY=${FD_RES}/${PREFIX}/coverage_astarrseq_peak_macs_input\n",
    "FNAME=Tile_K562_hg38_20210130.GATA1.stranded_pos.Output.bed.gz\n",
    "FPATH=${FDIRY}/${FNAME} \n",
    "\n",
    "zcat ${FPATH} | grep chrX | head -n 1400 | tail -n 4"
   ]
  },
  {
   "cell_type": "code",
   "execution_count": 38,
   "id": "010913ef-67f4-4579-a837-7b647cfe59b5",
   "metadata": {},
   "outputs": [
    {
     "name": "stdout",
     "output_type": "stream",
     "text": [
      "chr8\t127793817\t127795585\t933.5282157\n",
      "chr8\t127800218\t127801557\t1336.826154\n",
      "chr8\t127806610\t127807136\t1023.9795\n",
      "chr8\t127807462\t127808467\t3273.55085\n",
      "grep: write error\n",
      "\n",
      "gzip: stdout: Broken pipe\n"
     ]
    }
   ],
   "source": [
    "PREFIX=Tewhey_K562_TileMPRA\n",
    "FDIRY=${FD_RES}/${PREFIX}/coverage_astarrseq_peak_macs_input\n",
    "FNAME=Tile_K562_hg38_20210130.MYC.stranded_pos.Output.bed.gz\n",
    "FPATH=${FDIRY}/${FNAME} \n",
    "\n",
    "zcat ${FPATH} | grep chr8 | head -n 8300 | tail -n 4"
   ]
  },
  {
   "cell_type": "code",
   "execution_count": null,
   "id": "03405673-2a6c-40b2-ac75-e1b321a99b2c",
   "metadata": {},
   "outputs": [],
   "source": []
  }
 ],
 "metadata": {
  "kernelspec": {
   "display_name": "Bash",
   "language": "bash",
   "name": "bash"
  },
  "language_info": {
   "codemirror_mode": "shell",
   "file_extension": ".sh",
   "mimetype": "text/x-sh",
   "name": "bash"
  }
 },
 "nbformat": 4,
 "nbformat_minor": 5
}
