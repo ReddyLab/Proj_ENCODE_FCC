{
 "cells": [
  {
   "cell_type": "code",
   "execution_count": 1,
   "id": "97e3d88b",
   "metadata": {},
   "outputs": [
    {
     "name": "stdout",
     "output_type": "stream",
     "text": [
      "You are in Singularity: singularity_proj_combeffect \n",
      "BASE DIRECTORY:     /mount/work \n",
      "PATH OF SOURCE:     /mount/work/source \n",
      "PATH OF EXECUTABLE: /mount/work/exe \n",
      "PATH OF ANNOTATION: /mount/work/annotation \n",
      "PATH OF PROJECT:    /mount/project \n",
      "PATH OF RESULTS:    /mount/work/out/proj_combeffect_encode_fcc \n"
     ]
    }
   ],
   "source": [
    "suppressWarnings(suppressMessages(source(\"../config/config_sing.R\")))\n",
    "show_env()"
   ]
  },
  {
   "cell_type": "markdown",
   "id": "8b5ca905",
   "metadata": {},
   "source": [
    "```\n",
    "ASTARR | GATA1 | chrX:47,786,508-49,786,637\n",
    "WSTARR | GATA1 | chrX:47,786,887-49,786,530\n",
    "TMPRA  | GATA1 | chrX:47,786,401-49,786,750\n",
    "\n",
    "ASTARR | MYC | chr8:126,735,973-128,736,166\n",
    "WSTARR | MYC | chr8:126,735,996-128,736,142\n",
    "TMPRA  | MYC | chr8:126,735,901-128,736,250\n",
    "```"
   ]
  },
  {
   "cell_type": "code",
   "execution_count": 2,
   "id": "7c95c594",
   "metadata": {},
   "outputs": [
    {
     "name": "stdout",
     "output_type": "stream",
     "text": [
      "[1] 247520      3\n"
     ]
    },
    {
     "data": {
      "text/html": [
       "<table class=\"dataframe\">\n",
       "<caption>A tibble: 6 × 3</caption>\n",
       "<thead>\n",
       "\t<tr><th scope=col>Chrom</th><th scope=col>Start</th><th scope=col>End</th></tr>\n",
       "\t<tr><th scope=col>&lt;chr&gt;</th><th scope=col>&lt;dbl&gt;</th><th scope=col>&lt;dbl&gt;</th></tr>\n",
       "</thead>\n",
       "<tbody>\n",
       "\t<tr><td>chr1</td><td>10015</td><td>10442</td></tr>\n",
       "\t<tr><td>chr1</td><td>14253</td><td>14645</td></tr>\n",
       "\t<tr><td>chr1</td><td>16015</td><td>16477</td></tr>\n",
       "\t<tr><td>chr1</td><td>17237</td><td>17772</td></tr>\n",
       "\t<tr><td>chr1</td><td>28903</td><td>29613</td></tr>\n",
       "\t<tr><td>chr1</td><td>30803</td><td>31072</td></tr>\n",
       "</tbody>\n",
       "</table>\n"
      ],
      "text/latex": [
       "A tibble: 6 × 3\n",
       "\\begin{tabular}{lll}\n",
       " Chrom & Start & End\\\\\n",
       " <chr> & <dbl> & <dbl>\\\\\n",
       "\\hline\n",
       "\t chr1 & 10015 & 10442\\\\\n",
       "\t chr1 & 14253 & 14645\\\\\n",
       "\t chr1 & 16015 & 16477\\\\\n",
       "\t chr1 & 17237 & 17772\\\\\n",
       "\t chr1 & 28903 & 29613\\\\\n",
       "\t chr1 & 30803 & 31072\\\\\n",
       "\\end{tabular}\n"
      ],
      "text/markdown": [
       "\n",
       "A tibble: 6 × 3\n",
       "\n",
       "| Chrom &lt;chr&gt; | Start &lt;dbl&gt; | End &lt;dbl&gt; |\n",
       "|---|---|---|\n",
       "| chr1 | 10015 | 10442 |\n",
       "| chr1 | 14253 | 14645 |\n",
       "| chr1 | 16015 | 16477 |\n",
       "| chr1 | 17237 | 17772 |\n",
       "| chr1 | 28903 | 29613 |\n",
       "| chr1 | 30803 | 31072 |\n",
       "\n"
      ],
      "text/plain": [
       "  Chrom Start End  \n",
       "1 chr1  10015 10442\n",
       "2 chr1  14253 14645\n",
       "3 chr1  16015 16477\n",
       "4 chr1  17237 17772\n",
       "5 chr1  28903 29613\n",
       "6 chr1  30803 31072"
      ]
     },
     "metadata": {},
     "output_type": "display_data"
    }
   ],
   "source": [
    "fdiry = file.path(FD_RES, \"region\", \"KS91_K562_astarrseq_peak_macs\")\n",
    "fname = \"KS91_K562_hg38_ASTARRseq_Input.all_reps.masked.union_narrowPeak.q5.bed\"\n",
    "fpath = file.path(fdiry, fname)\n",
    "\n",
    "cnames = c(\"Chrom\", \"Start\", \"End\")\n",
    "\n",
    "dat_peak = read_tsv(fpath, col_names = cnames, show_col_types = FALSE)\n",
    "print(dim(dat_peak))\n",
    "head(dat_peak)"
   ]
  },
  {
   "cell_type": "code",
   "execution_count": 3,
   "id": "bf447965",
   "metadata": {},
   "outputs": [
    {
     "name": "stdout",
     "output_type": "stream",
     "text": [
      "[1] 197   4\n",
      "[1] 188   4\n"
     ]
    }
   ],
   "source": [
    "dat = dat_peak\n",
    "dat = dat %>% mutate(Len = End - Start)\n",
    "dat_peak_gata1 = dat %>% dplyr::filter(Chrom == \"chrX\", Start >=  47786400, End <=  49786500)\n",
    "dat_peak_myc   = dat %>% dplyr::filter(Chrom == \"chr8\", Start >= 126735900, End <= 128736100)\n",
    "\n",
    "print(dim(dat_peak_gata1))\n",
    "print(dim(dat_peak_myc))"
   ]
  },
  {
   "cell_type": "code",
   "execution_count": 8,
   "id": "0781ebc4",
   "metadata": {},
   "outputs": [
    {
     "data": {
      "image/png": "[encoded data removed]",
      "text/plain": [
       "plot without title"
      ]
     },
     "metadata": {
      "image/png": {
       "height": 420,
       "width": 420
      }
     },
     "output_type": "display_data"
    }
   ],
   "source": [
    "gpt = ggplot(dat_peak_gata1, aes(x=Len)) + geom_histogram(bins=50) + theme_cowplot()\n",
    "print(gpt)"
   ]
  },
  {
   "cell_type": "code",
   "execution_count": 9,
   "id": "db662bb9",
   "metadata": {},
   "outputs": [
    {
     "data": {
      "image/png": "[encoded data removed]",
      "text/plain": [
       "plot without title"
      ]
     },
     "metadata": {
      "image/png": {
       "height": 420,
       "width": 420
      }
     },
     "output_type": "display_data"
    }
   ],
   "source": [
    "gpt = ggplot(dat_peak_myc, aes(x=Len)) + geom_histogram(bins=50) + theme_cowplot()\n",
    "print(gpt)"
   ]
  },
  {
   "cell_type": "code",
   "execution_count": 11,
   "id": "1428918b",
   "metadata": {},
   "outputs": [
    {
     "data": {
      "text/plain": [
       "    Chrom               Start               End                Len        \n",
       " Length:197         Min.   :47796208   Min.   :47796828   Min.   : 231.0  \n",
       " Class :character   1st Qu.:48581398   1st Qu.:48582020   1st Qu.: 547.0  \n",
       " Mode  :character   Median :48841324   Median :48842353   Median : 893.0  \n",
       "                    Mean   :48835252   Mean   :48836212   Mean   : 960.6  \n",
       "                    3rd Qu.:49138654   3rd Qu.:49140807   3rd Qu.:1234.0  \n",
       "                    Max.   :49754378   Max.   :49754670   Max.   :2452.0  "
      ]
     },
     "metadata": {},
     "output_type": "display_data"
    }
   ],
   "source": [
    "summary(dat_peak_gata1)"
   ]
  },
  {
   "cell_type": "code",
   "execution_count": 10,
   "id": "2a56d912",
   "metadata": {},
   "outputs": [
    {
     "data": {
      "text/plain": [
       "    Chrom               Start                End                 Len        \n",
       " Length:188         Min.   :126778902   Min.   :126779728   Min.   : 225.0  \n",
       " Class :character   1st Qu.:127805012   1st Qu.:127805741   1st Qu.: 483.0  \n",
       " Mode  :character   Median :127971150   Median :127971947   Median : 697.5  \n",
       "                    Mean   :127929551   Mean   :127930392   Mean   : 840.3  \n",
       "                    3rd Qu.:128147757   3rd Qu.:128148249   3rd Qu.:1088.8  \n",
       "                    Max.   :128734251   Max.   :128734743   Max.   :3117.0  "
      ]
     },
     "metadata": {},
     "output_type": "display_data"
    }
   ],
   "source": [
    "summary(dat_peak_myc)"
   ]
  },
  {
   "cell_type": "code",
   "execution_count": null,
   "id": "ef9b1714",
   "metadata": {},
   "outputs": [],
   "source": []
  }
 ],
 "metadata": {
  "kernelspec": {
   "display_name": "R",
   "language": "R",
   "name": "ir"
  },
  "language_info": {
   "codemirror_mode": "r",
   "file_extension": ".r",
   "mimetype": "text/x-r-source",
   "name": "R",
   "pygments_lexer": "r",
   "version": "4.2.0"
  }
 },
 "nbformat": 4,
 "nbformat_minor": 5
}
