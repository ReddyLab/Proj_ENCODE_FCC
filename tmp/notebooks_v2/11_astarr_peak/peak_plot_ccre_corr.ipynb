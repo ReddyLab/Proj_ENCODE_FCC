{
 "cells": [
  {
   "cell_type": "markdown",
   "id": "96abe913",
   "metadata": {},
   "source": [
    "**Set environment**"
   ]
  },
  {
   "cell_type": "code",
   "execution_count": 1,
   "id": "92a332a3",
   "metadata": {},
   "outputs": [
    {
     "name": "stdout",
     "output_type": "stream",
     "text": [
      "You are in Singularity: singularity_proj_combeffect \n",
      "BASE DIRECTORY:     /mount/work \n",
      "PATH OF SOURCE:     /mount/work/source \n",
      "PATH OF EXECUTABLE: /mount/work/exe \n",
      "PATH OF ANNOTATION: /mount/work/annotation \n",
      "PATH OF PROJECT:    /mount/project \n",
      "PATH OF RESULTS:    /mount/work/out/proj_combeffect_encode_fcc \n"
     ]
    }
   ],
   "source": [
    "suppressMessages(suppressWarnings(source(\"../config/config_sing.R\")))\n",
    "show_env()"
   ]
  },
  {
   "cell_type": "markdown",
   "id": "324a08f2",
   "metadata": {},
   "source": [
    "## Import data"
   ]
  },
  {
   "cell_type": "code",
   "execution_count": 2,
   "id": "49e52533",
   "metadata": {},
   "outputs": [
    {
     "data": {
      "text/html": [
       "<table class=\"dataframe\">\n",
       "<caption>A tibble: 6 × 9</caption>\n",
       "<thead>\n",
       "\t<tr><th scope=col>Peak</th><th scope=col>Input</th><th scope=col>Output</th><th scope=col>baseMean</th><th scope=col>log2FoldChange</th><th scope=col>lfcSE</th><th scope=col>stat</th><th scope=col>pvalue</th><th scope=col>padj</th></tr>\n",
       "\t<tr><th scope=col>&lt;chr&gt;</th><th scope=col>&lt;dbl&gt;</th><th scope=col>&lt;dbl&gt;</th><th scope=col>&lt;dbl&gt;</th><th scope=col>&lt;dbl&gt;</th><th scope=col>&lt;dbl&gt;</th><th scope=col>&lt;dbl&gt;</th><th scope=col>&lt;dbl&gt;</th><th scope=col>&lt;dbl&gt;</th></tr>\n",
       "</thead>\n",
       "<tbody>\n",
       "\t<tr><td>chr1_10015_10442</td><td>0.4863317</td><td>0.09736537</td><td> 71.40375</td><td>-2.2136128</td><td>0.2691517</td><td> -8.2244060</td><td>1.961605e-16</td><td>2.910689e-15</td></tr>\n",
       "\t<tr><td>chr1_14253_14645</td><td>0.3152472</td><td>0.27902967</td><td> 68.63035</td><td> 0.2221859</td><td>0.1534101</td><td>  1.4483134</td><td>1.475294e-01</td><td>2.178106e-01</td></tr>\n",
       "\t<tr><td>chr1_16015_16477</td><td>0.4361424</td><td>0.15900628</td><td> 71.25409</td><td>-1.2712950</td><td>0.2019628</td><td> -6.2946978</td><td>3.079993e-10</td><td>2.653010e-09</td></tr>\n",
       "\t<tr><td>chr1_17237_17772</td><td>0.8007562</td><td>0.22194085</td><td>124.03128</td><td>-1.3852891</td><td>0.1638628</td><td> -8.4539594</td><td>2.815873e-17</td><td>4.431894e-16</td></tr>\n",
       "\t<tr><td>chr1_28903_29613</td><td>0.7629703</td><td>0.16679463</td><td>113.63103</td><td>-1.9422003</td><td>0.1886131</td><td>-10.2972733</td><td>7.248682e-25</td><td>1.723665e-23</td></tr>\n",
       "\t<tr><td>chr1_30803_31072</td><td>0.2774187</td><td>0.21678565</td><td> 57.37875</td><td>-0.1332069</td><td>0.2145692</td><td> -0.6208109</td><td>5.347240e-01</td><td>6.231400e-01</td></tr>\n",
       "</tbody>\n",
       "</table>\n"
      ],
      "text/latex": [
       "A tibble: 6 × 9\n",
       "\\begin{tabular}{lllllllll}\n",
       " Peak & Input & Output & baseMean & log2FoldChange & lfcSE & stat & pvalue & padj\\\\\n",
       " <chr> & <dbl> & <dbl> & <dbl> & <dbl> & <dbl> & <dbl> & <dbl> & <dbl>\\\\\n",
       "\\hline\n",
       "\t chr1\\_10015\\_10442 & 0.4863317 & 0.09736537 &  71.40375 & -2.2136128 & 0.2691517 &  -8.2244060 & 1.961605e-16 & 2.910689e-15\\\\\n",
       "\t chr1\\_14253\\_14645 & 0.3152472 & 0.27902967 &  68.63035 &  0.2221859 & 0.1534101 &   1.4483134 & 1.475294e-01 & 2.178106e-01\\\\\n",
       "\t chr1\\_16015\\_16477 & 0.4361424 & 0.15900628 &  71.25409 & -1.2712950 & 0.2019628 &  -6.2946978 & 3.079993e-10 & 2.653010e-09\\\\\n",
       "\t chr1\\_17237\\_17772 & 0.8007562 & 0.22194085 & 124.03128 & -1.3852891 & 0.1638628 &  -8.4539594 & 2.815873e-17 & 4.431894e-16\\\\\n",
       "\t chr1\\_28903\\_29613 & 0.7629703 & 0.16679463 & 113.63103 & -1.9422003 & 0.1886131 & -10.2972733 & 7.248682e-25 & 1.723665e-23\\\\\n",
       "\t chr1\\_30803\\_31072 & 0.2774187 & 0.21678565 &  57.37875 & -0.1332069 & 0.2145692 &  -0.6208109 & 5.347240e-01 & 6.231400e-01\\\\\n",
       "\\end{tabular}\n"
      ],
      "text/markdown": [
       "\n",
       "A tibble: 6 × 9\n",
       "\n",
       "| Peak &lt;chr&gt; | Input &lt;dbl&gt; | Output &lt;dbl&gt; | baseMean &lt;dbl&gt; | log2FoldChange &lt;dbl&gt; | lfcSE &lt;dbl&gt; | stat &lt;dbl&gt; | pvalue &lt;dbl&gt; | padj &lt;dbl&gt; |\n",
       "|---|---|---|---|---|---|---|---|---|\n",
       "| chr1_10015_10442 | 0.4863317 | 0.09736537 |  71.40375 | -2.2136128 | 0.2691517 |  -8.2244060 | 1.961605e-16 | 2.910689e-15 |\n",
       "| chr1_14253_14645 | 0.3152472 | 0.27902967 |  68.63035 |  0.2221859 | 0.1534101 |   1.4483134 | 1.475294e-01 | 2.178106e-01 |\n",
       "| chr1_16015_16477 | 0.4361424 | 0.15900628 |  71.25409 | -1.2712950 | 0.2019628 |  -6.2946978 | 3.079993e-10 | 2.653010e-09 |\n",
       "| chr1_17237_17772 | 0.8007562 | 0.22194085 | 124.03128 | -1.3852891 | 0.1638628 |  -8.4539594 | 2.815873e-17 | 4.431894e-16 |\n",
       "| chr1_28903_29613 | 0.7629703 | 0.16679463 | 113.63103 | -1.9422003 | 0.1886131 | -10.2972733 | 7.248682e-25 | 1.723665e-23 |\n",
       "| chr1_30803_31072 | 0.2774187 | 0.21678565 |  57.37875 | -0.1332069 | 0.2145692 |  -0.6208109 | 5.347240e-01 | 6.231400e-01 |\n",
       "\n"
      ],
      "text/plain": [
       "  Peak             Input     Output     baseMean  log2FoldChange lfcSE    \n",
       "1 chr1_10015_10442 0.4863317 0.09736537  71.40375 -2.2136128     0.2691517\n",
       "2 chr1_14253_14645 0.3152472 0.27902967  68.63035  0.2221859     0.1534101\n",
       "3 chr1_16015_16477 0.4361424 0.15900628  71.25409 -1.2712950     0.2019628\n",
       "4 chr1_17237_17772 0.8007562 0.22194085 124.03128 -1.3852891     0.1638628\n",
       "5 chr1_28903_29613 0.7629703 0.16679463 113.63103 -1.9422003     0.1886131\n",
       "6 chr1_30803_31072 0.2774187 0.21678565  57.37875 -0.1332069     0.2145692\n",
       "  stat        pvalue       padj        \n",
       "1  -8.2244060 1.961605e-16 2.910689e-15\n",
       "2   1.4483134 1.475294e-01 2.178106e-01\n",
       "3  -6.2946978 3.079993e-10 2.653010e-09\n",
       "4  -8.4539594 2.815873e-17 4.431894e-16\n",
       "5 -10.2972733 7.248682e-25 1.723665e-23\n",
       "6  -0.6208109 5.347240e-01 6.231400e-01"
      ]
     },
     "metadata": {},
     "output_type": "display_data"
    }
   ],
   "source": [
    "PREFIX = \"KS91_K562_ASTARRseq\"\n",
    "FOLDER = \"coverage_astarrseq_peak_macs_input\"\n",
    "\n",
    "fdiry = file.path(FD_RES, PREFIX, FOLDER, \"summary\")\n",
    "fname = \"wgs_summary_combine.tsv\"\n",
    "fpath = file.path(fdiry, fname)\n",
    "\n",
    "dat_cov_astarr = read_tsv(fpath, show_col_types = FALSE)\n",
    "head(dat_cov_astarr)"
   ]
  },
  {
   "cell_type": "code",
   "execution_count": 3,
   "id": "6372553c",
   "metadata": {},
   "outputs": [
    {
     "data": {
      "text/html": [
       "<table class=\"dataframe\">\n",
       "<caption>A tibble: 6 × 9</caption>\n",
       "<thead>\n",
       "\t<tr><th scope=col>Peak</th><th scope=col>Input</th><th scope=col>Output</th><th scope=col>baseMean</th><th scope=col>log2FoldChange</th><th scope=col>lfcSE</th><th scope=col>stat</th><th scope=col>pvalue</th><th scope=col>padj</th></tr>\n",
       "\t<tr><th scope=col>&lt;chr&gt;</th><th scope=col>&lt;dbl&gt;</th><th scope=col>&lt;dbl&gt;</th><th scope=col>&lt;dbl&gt;</th><th scope=col>&lt;dbl&gt;</th><th scope=col>&lt;dbl&gt;</th><th scope=col>&lt;dbl&gt;</th><th scope=col>&lt;dbl&gt;</th><th scope=col>&lt;dbl&gt;</th></tr>\n",
       "</thead>\n",
       "<tbody>\n",
       "\t<tr><td>chr1_17237_17772  </td><td>0.15110814</td><td>0.11357287</td><td>15.507847</td><td>-0.55197423</td><td>0.3650312</td><td>-1.5121288</td><td>0.1305011090</td><td>0.376522564</td></tr>\n",
       "\t<tr><td>chr1_136071_137429</td><td>0.06365512</td><td>0.07982534</td><td> 8.005396</td><td> 0.42184778</td><td>0.5134014</td><td> 0.8216725</td><td>0.4112633282</td><td>         NA</td></tr>\n",
       "\t<tr><td>chr1_137737_139544</td><td>0.44687760</td><td>0.82692790</td><td>68.388785</td><td> 0.75905245</td><td>0.1909129</td><td> 3.9759105</td><td>0.0000701105</td><td>0.001384044</td></tr>\n",
       "\t<tr><td>chr1_180982_182087</td><td>0.27787742</td><td>0.35228528</td><td>35.093278</td><td> 0.19192129</td><td>0.2417529</td><td> 0.7938737</td><td>0.4272689717</td><td>0.696317984</td></tr>\n",
       "\t<tr><td>chr1_183239_184602</td><td>0.40955815</td><td>0.47205688</td><td>49.565727</td><td> 0.08374879</td><td>0.2018363</td><td> 0.4149342</td><td>0.6781900855</td><td>0.857342193</td></tr>\n",
       "\t<tr><td>chr1_186238_187159</td><td>0.44822499</td><td>0.43369525</td><td>50.450003</td><td>-0.13877450</td><td>0.2161170</td><td>-0.6421267</td><td>0.5207908905</td><td>0.763065578</td></tr>\n",
       "</tbody>\n",
       "</table>\n"
      ],
      "text/latex": [
       "A tibble: 6 × 9\n",
       "\\begin{tabular}{lllllllll}\n",
       " Peak & Input & Output & baseMean & log2FoldChange & lfcSE & stat & pvalue & padj\\\\\n",
       " <chr> & <dbl> & <dbl> & <dbl> & <dbl> & <dbl> & <dbl> & <dbl> & <dbl>\\\\\n",
       "\\hline\n",
       "\t chr1\\_17237\\_17772   & 0.15110814 & 0.11357287 & 15.507847 & -0.55197423 & 0.3650312 & -1.5121288 & 0.1305011090 & 0.376522564\\\\\n",
       "\t chr1\\_136071\\_137429 & 0.06365512 & 0.07982534 &  8.005396 &  0.42184778 & 0.5134014 &  0.8216725 & 0.4112633282 &          NA\\\\\n",
       "\t chr1\\_137737\\_139544 & 0.44687760 & 0.82692790 & 68.388785 &  0.75905245 & 0.1909129 &  3.9759105 & 0.0000701105 & 0.001384044\\\\\n",
       "\t chr1\\_180982\\_182087 & 0.27787742 & 0.35228528 & 35.093278 &  0.19192129 & 0.2417529 &  0.7938737 & 0.4272689717 & 0.696317984\\\\\n",
       "\t chr1\\_183239\\_184602 & 0.40955815 & 0.47205688 & 49.565727 &  0.08374879 & 0.2018363 &  0.4149342 & 0.6781900855 & 0.857342193\\\\\n",
       "\t chr1\\_186238\\_187159 & 0.44822499 & 0.43369525 & 50.450003 & -0.13877450 & 0.2161170 & -0.6421267 & 0.5207908905 & 0.763065578\\\\\n",
       "\\end{tabular}\n"
      ],
      "text/markdown": [
       "\n",
       "A tibble: 6 × 9\n",
       "\n",
       "| Peak &lt;chr&gt; | Input &lt;dbl&gt; | Output &lt;dbl&gt; | baseMean &lt;dbl&gt; | log2FoldChange &lt;dbl&gt; | lfcSE &lt;dbl&gt; | stat &lt;dbl&gt; | pvalue &lt;dbl&gt; | padj &lt;dbl&gt; |\n",
       "|---|---|---|---|---|---|---|---|---|\n",
       "| chr1_17237_17772   | 0.15110814 | 0.11357287 | 15.507847 | -0.55197423 | 0.3650312 | -1.5121288 | 0.1305011090 | 0.376522564 |\n",
       "| chr1_136071_137429 | 0.06365512 | 0.07982534 |  8.005396 |  0.42184778 | 0.5134014 |  0.8216725 | 0.4112633282 |          NA |\n",
       "| chr1_137737_139544 | 0.44687760 | 0.82692790 | 68.388785 |  0.75905245 | 0.1909129 |  3.9759105 | 0.0000701105 | 0.001384044 |\n",
       "| chr1_180982_182087 | 0.27787742 | 0.35228528 | 35.093278 |  0.19192129 | 0.2417529 |  0.7938737 | 0.4272689717 | 0.696317984 |\n",
       "| chr1_183239_184602 | 0.40955815 | 0.47205688 | 49.565727 |  0.08374879 | 0.2018363 |  0.4149342 | 0.6781900855 | 0.857342193 |\n",
       "| chr1_186238_187159 | 0.44822499 | 0.43369525 | 50.450003 | -0.13877450 | 0.2161170 | -0.6421267 | 0.5207908905 | 0.763065578 |\n",
       "\n"
      ],
      "text/plain": [
       "  Peak               Input      Output     baseMean  log2FoldChange lfcSE    \n",
       "1 chr1_17237_17772   0.15110814 0.11357287 15.507847 -0.55197423    0.3650312\n",
       "2 chr1_136071_137429 0.06365512 0.07982534  8.005396  0.42184778    0.5134014\n",
       "3 chr1_137737_139544 0.44687760 0.82692790 68.388785  0.75905245    0.1909129\n",
       "4 chr1_180982_182087 0.27787742 0.35228528 35.093278  0.19192129    0.2417529\n",
       "5 chr1_183239_184602 0.40955815 0.47205688 49.565727  0.08374879    0.2018363\n",
       "6 chr1_186238_187159 0.44822499 0.43369525 50.450003 -0.13877450    0.2161170\n",
       "  stat       pvalue       padj       \n",
       "1 -1.5121288 0.1305011090 0.376522564\n",
       "2  0.8216725 0.4112633282          NA\n",
       "3  3.9759105 0.0000701105 0.001384044\n",
       "4  0.7938737 0.4272689717 0.696317984\n",
       "5  0.4149342 0.6781900855 0.857342193\n",
       "6 -0.6421267 0.5207908905 0.763065578"
      ]
     },
     "metadata": {},
     "output_type": "display_data"
    }
   ],
   "source": [
    "PREFIX = \"A001_K562_WSTARRseq\"\n",
    "FOLDER = \"coverage_astarrseq_peak_macs_input\"\n",
    "\n",
    "fdiry = file.path(FD_RES, PREFIX, FOLDER, \"summary\")\n",
    "fname = \"wgs_summary_combine.tsv\"\n",
    "fpath = file.path(fdiry, fname)\n",
    "\n",
    "dat_cov_wstarr = read_tsv(fpath, show_col_types = FALSE)\n",
    "head(dat_cov_wstarr)"
   ]
  },
  {
   "cell_type": "code",
   "execution_count": 4,
   "id": "b12f9e84",
   "metadata": {},
   "outputs": [
    {
     "data": {
      "text/html": [
       "<table class=\"dataframe\">\n",
       "<caption>A tibble: 6 × 8</caption>\n",
       "<thead>\n",
       "\t<tr><th scope=col>Chrom</th><th scope=col>Start</th><th scope=col>End</th><th scope=col>Peak</th><th scope=col>Region</th><th scope=col>Input</th><th scope=col>Output</th><th scope=col>log2FoldChange</th></tr>\n",
       "\t<tr><th scope=col>&lt;chr&gt;</th><th scope=col>&lt;dbl&gt;</th><th scope=col>&lt;dbl&gt;</th><th scope=col>&lt;chr&gt;</th><th scope=col>&lt;chr&gt;</th><th scope=col>&lt;dbl&gt;</th><th scope=col>&lt;dbl&gt;</th><th scope=col>&lt;dbl&gt;</th></tr>\n",
       "</thead>\n",
       "<tbody>\n",
       "\t<tr><td>chr11</td><td>61792068</td><td>61793464</td><td>chr11_61792068_61793464</td><td>FADS</td><td>245</td><td>3157</td><td>3.6877006</td></tr>\n",
       "\t<tr><td>chr11</td><td>61800085</td><td>61801113</td><td>chr11_61800085_61801113</td><td>FADS</td><td>250</td><td>3715</td><td>3.8933622</td></tr>\n",
       "\t<tr><td>chr11</td><td>61806630</td><td>61807154</td><td>chr11_61806630_61807154</td><td>FADS</td><td>373</td><td> 587</td><td>0.6541849</td></tr>\n",
       "\t<tr><td>chr11</td><td>61814735</td><td>61817343</td><td>chr11_61814735_61817343</td><td>FADS</td><td>215</td><td>5053</td><td>4.5547316</td></tr>\n",
       "\t<tr><td>chr11</td><td>61822094</td><td>61822443</td><td>chr11_61822094_61822443</td><td>FADS</td><td>252</td><td> 293</td><td>0.2174769</td></tr>\n",
       "\t<tr><td>chr11</td><td>61825795</td><td>61826306</td><td>chr11_61825795_61826306</td><td>FADS</td><td>182</td><td> 565</td><td>1.6343124</td></tr>\n",
       "</tbody>\n",
       "</table>\n"
      ],
      "text/latex": [
       "A tibble: 6 × 8\n",
       "\\begin{tabular}{llllllll}\n",
       " Chrom & Start & End & Peak & Region & Input & Output & log2FoldChange\\\\\n",
       " <chr> & <dbl> & <dbl> & <chr> & <chr> & <dbl> & <dbl> & <dbl>\\\\\n",
       "\\hline\n",
       "\t chr11 & 61792068 & 61793464 & chr11\\_61792068\\_61793464 & FADS & 245 & 3157 & 3.6877006\\\\\n",
       "\t chr11 & 61800085 & 61801113 & chr11\\_61800085\\_61801113 & FADS & 250 & 3715 & 3.8933622\\\\\n",
       "\t chr11 & 61806630 & 61807154 & chr11\\_61806630\\_61807154 & FADS & 373 &  587 & 0.6541849\\\\\n",
       "\t chr11 & 61814735 & 61817343 & chr11\\_61814735\\_61817343 & FADS & 215 & 5053 & 4.5547316\\\\\n",
       "\t chr11 & 61822094 & 61822443 & chr11\\_61822094\\_61822443 & FADS & 252 &  293 & 0.2174769\\\\\n",
       "\t chr11 & 61825795 & 61826306 & chr11\\_61825795\\_61826306 & FADS & 182 &  565 & 1.6343124\\\\\n",
       "\\end{tabular}\n"
      ],
      "text/markdown": [
       "\n",
       "A tibble: 6 × 8\n",
       "\n",
       "| Chrom &lt;chr&gt; | Start &lt;dbl&gt; | End &lt;dbl&gt; | Peak &lt;chr&gt; | Region &lt;chr&gt; | Input &lt;dbl&gt; | Output &lt;dbl&gt; | log2FoldChange &lt;dbl&gt; |\n",
       "|---|---|---|---|---|---|---|---|\n",
       "| chr11 | 61792068 | 61793464 | chr11_61792068_61793464 | FADS | 245 | 3157 | 3.6877006 |\n",
       "| chr11 | 61800085 | 61801113 | chr11_61800085_61801113 | FADS | 250 | 3715 | 3.8933622 |\n",
       "| chr11 | 61806630 | 61807154 | chr11_61806630_61807154 | FADS | 373 |  587 | 0.6541849 |\n",
       "| chr11 | 61814735 | 61817343 | chr11_61814735_61817343 | FADS | 215 | 5053 | 4.5547316 |\n",
       "| chr11 | 61822094 | 61822443 | chr11_61822094_61822443 | FADS | 252 |  293 | 0.2174769 |\n",
       "| chr11 | 61825795 | 61826306 | chr11_61825795_61826306 | FADS | 182 |  565 | 1.6343124 |\n",
       "\n"
      ],
      "text/plain": [
       "  Chrom Start    End      Peak                    Region Input Output\n",
       "1 chr11 61792068 61793464 chr11_61792068_61793464 FADS   245   3157  \n",
       "2 chr11 61800085 61801113 chr11_61800085_61801113 FADS   250   3715  \n",
       "3 chr11 61806630 61807154 chr11_61806630_61807154 FADS   373    587  \n",
       "4 chr11 61814735 61817343 chr11_61814735_61817343 FADS   215   5053  \n",
       "5 chr11 61822094 61822443 chr11_61822094_61822443 FADS   252    293  \n",
       "6 chr11 61825795 61826306 chr11_61825795_61826306 FADS   182    565  \n",
       "  log2FoldChange\n",
       "1 3.6877006     \n",
       "2 3.8933622     \n",
       "3 0.6541849     \n",
       "4 4.5547316     \n",
       "5 0.2174769     \n",
       "6 1.6343124     "
      ]
     },
     "metadata": {},
     "output_type": "display_data"
    }
   ],
   "source": [
    "PREFIX = \"Tewhey_K562_TileMPRA\"\n",
    "FOLDER = \"coverage_astarrseq_peak_macs_input\"\n",
    "\n",
    "fdiry = file.path(FD_RES, PREFIX, FOLDER, \"summary\")\n",
    "fname = \"Tewhey_K562_TileMPRA_summary.stranded_pos.tsv\"\n",
    "fpath = file.path(fdiry, fname)\n",
    "\n",
    "dat_cov_tmpra = read_tsv(fpath, show_col_types = FALSE)\n",
    "head(dat_cov_tmpra)"
   ]
  },
  {
   "cell_type": "code",
   "execution_count": 7,
   "id": "231d4212",
   "metadata": {},
   "outputs": [
    {
     "data": {
      "text/html": [
       "<table class=\"dataframe\">\n",
       "<caption>A tibble: 6 × 9</caption>\n",
       "<thead>\n",
       "\t<tr><th scope=col>Peak</th><th scope=col>Chrom</th><th scope=col>Start</th><th scope=col>End</th><th scope=col>Len</th><th scope=col>Label</th><th scope=col>Count</th><th scope=col>Total</th><th scope=col>Freq</th></tr>\n",
       "\t<tr><th scope=col>&lt;chr&gt;</th><th scope=col>&lt;chr&gt;</th><th scope=col>&lt;dbl&gt;</th><th scope=col>&lt;dbl&gt;</th><th scope=col>&lt;dbl&gt;</th><th scope=col>&lt;chr&gt;</th><th scope=col>&lt;dbl&gt;</th><th scope=col>&lt;dbl&gt;</th><th scope=col>&lt;dbl&gt;</th></tr>\n",
       "</thead>\n",
       "<tbody>\n",
       "\t<tr><td>chr1_100027983_100029702</td><td>chr1</td><td>100027983</td><td>100029702</td><td>1719</td><td>Low-DNase</td><td>1</td><td>1</td><td>1.0000000</td></tr>\n",
       "\t<tr><td>chr1_100036871_100039191</td><td>chr1</td><td>100036871</td><td>100039191</td><td>2320</td><td>Low-DNase</td><td>2</td><td>6</td><td>0.3333333</td></tr>\n",
       "\t<tr><td>chr1_100036871_100039191</td><td>chr1</td><td>100036871</td><td>100039191</td><td>2320</td><td>pELS     </td><td>3</td><td>6</td><td>0.5000000</td></tr>\n",
       "\t<tr><td>chr1_100036871_100039191</td><td>chr1</td><td>100036871</td><td>100039191</td><td>2320</td><td>PLS      </td><td>1</td><td>6</td><td>0.1666667</td></tr>\n",
       "\t<tr><td>chr1_100048234_100048985</td><td>chr1</td><td>100048234</td><td>100048985</td><td> 751</td><td>Low-DNase</td><td>1</td><td>1</td><td>1.0000000</td></tr>\n",
       "\t<tr><td>chr1_100049562_100050540</td><td>chr1</td><td>100049562</td><td>100050540</td><td> 978</td><td>Low-DNase</td><td>1</td><td>1</td><td>1.0000000</td></tr>\n",
       "</tbody>\n",
       "</table>\n"
      ],
      "text/latex": [
       "A tibble: 6 × 9\n",
       "\\begin{tabular}{lllllllll}\n",
       " Peak & Chrom & Start & End & Len & Label & Count & Total & Freq\\\\\n",
       " <chr> & <chr> & <dbl> & <dbl> & <dbl> & <chr> & <dbl> & <dbl> & <dbl>\\\\\n",
       "\\hline\n",
       "\t chr1\\_100027983\\_100029702 & chr1 & 100027983 & 100029702 & 1719 & Low-DNase & 1 & 1 & 1.0000000\\\\\n",
       "\t chr1\\_100036871\\_100039191 & chr1 & 100036871 & 100039191 & 2320 & Low-DNase & 2 & 6 & 0.3333333\\\\\n",
       "\t chr1\\_100036871\\_100039191 & chr1 & 100036871 & 100039191 & 2320 & pELS      & 3 & 6 & 0.5000000\\\\\n",
       "\t chr1\\_100036871\\_100039191 & chr1 & 100036871 & 100039191 & 2320 & PLS       & 1 & 6 & 0.1666667\\\\\n",
       "\t chr1\\_100048234\\_100048985 & chr1 & 100048234 & 100048985 &  751 & Low-DNase & 1 & 1 & 1.0000000\\\\\n",
       "\t chr1\\_100049562\\_100050540 & chr1 & 100049562 & 100050540 &  978 & Low-DNase & 1 & 1 & 1.0000000\\\\\n",
       "\\end{tabular}\n"
      ],
      "text/markdown": [
       "\n",
       "A tibble: 6 × 9\n",
       "\n",
       "| Peak &lt;chr&gt; | Chrom &lt;chr&gt; | Start &lt;dbl&gt; | End &lt;dbl&gt; | Len &lt;dbl&gt; | Label &lt;chr&gt; | Count &lt;dbl&gt; | Total &lt;dbl&gt; | Freq &lt;dbl&gt; |\n",
       "|---|---|---|---|---|---|---|---|---|\n",
       "| chr1_100027983_100029702 | chr1 | 100027983 | 100029702 | 1719 | Low-DNase | 1 | 1 | 1.0000000 |\n",
       "| chr1_100036871_100039191 | chr1 | 100036871 | 100039191 | 2320 | Low-DNase | 2 | 6 | 0.3333333 |\n",
       "| chr1_100036871_100039191 | chr1 | 100036871 | 100039191 | 2320 | pELS      | 3 | 6 | 0.5000000 |\n",
       "| chr1_100036871_100039191 | chr1 | 100036871 | 100039191 | 2320 | PLS       | 1 | 6 | 0.1666667 |\n",
       "| chr1_100048234_100048985 | chr1 | 100048234 | 100048985 |  751 | Low-DNase | 1 | 1 | 1.0000000 |\n",
       "| chr1_100049562_100050540 | chr1 | 100049562 | 100050540 |  978 | Low-DNase | 1 | 1 | 1.0000000 |\n",
       "\n"
      ],
      "text/plain": [
       "  Peak                     Chrom Start     End       Len  Label     Count Total\n",
       "1 chr1_100027983_100029702 chr1  100027983 100029702 1719 Low-DNase 1     1    \n",
       "2 chr1_100036871_100039191 chr1  100036871 100039191 2320 Low-DNase 2     6    \n",
       "3 chr1_100036871_100039191 chr1  100036871 100039191 2320 pELS      3     6    \n",
       "4 chr1_100036871_100039191 chr1  100036871 100039191 2320 PLS       1     6    \n",
       "5 chr1_100048234_100048985 chr1  100048234 100048985  751 Low-DNase 1     1    \n",
       "6 chr1_100049562_100050540 chr1  100049562 100050540  978 Low-DNase 1     1    \n",
       "  Freq     \n",
       "1 1.0000000\n",
       "2 0.3333333\n",
       "3 0.5000000\n",
       "4 0.1666667\n",
       "5 1.0000000\n",
       "6 1.0000000"
      ]
     },
     "metadata": {},
     "output_type": "display_data"
    }
   ],
   "source": [
    "fdiry = file.path(FD_RES, \"region\", \"KS91_K562_astarrseq_peak_macs\")\n",
    "fname = \"KS91_K562_hg38_ASTARRseq_Input.ccre_all.freq.tsv\"\n",
    "fpath = file.path(fdiry, fname)\n",
    "\n",
    "dat_freq_ccre = read_tsv(fpath, show_col_types = FALSE)\n",
    "head(dat_freq_ccre)"
   ]
  },
  {
   "cell_type": "code",
   "execution_count": 8,
   "id": "75a6de18",
   "metadata": {},
   "outputs": [
    {
     "name": "stdout",
     "output_type": "stream",
     "text": [
      " [1] \"Low-DNase\"                \"pELS\"                    \n",
      " [3] \"PLS\"                      \"dELS\"                    \n",
      " [5] \"PLS,CTCF-bound\"           \"pELS,CTCF-bound\"         \n",
      " [7] \"DNase-only\"               \"CTCF-only,CTCF-bound\"    \n",
      " [9] \"DNase-H3K4me3,CTCF-bound\" \"DNase-H3K4me3\"           \n",
      "[11] \"dELS,CTCF-bound\"         \n"
     ]
    }
   ],
   "source": [
    "print(unique(dat_freq_ccre$Label))"
   ]
  },
  {
   "cell_type": "markdown",
   "id": "0ebd3a09",
   "metadata": {},
   "source": [
    "## Merge fold change"
   ]
  },
  {
   "cell_type": "code",
   "execution_count": 13,
   "id": "98ac1139",
   "metadata": {},
   "outputs": [
    {
     "name": "stdout",
     "output_type": "stream",
     "text": [
      "[1] 138211      3\n"
     ]
    },
    {
     "data": {
      "text/html": [
       "<table class=\"dataframe\">\n",
       "<caption>A tibble: 6 × 3</caption>\n",
       "<thead>\n",
       "\t<tr><th scope=col>Peak</th><th scope=col>Label</th><th scope=col>Freq</th></tr>\n",
       "\t<tr><th scope=col>&lt;chr&gt;</th><th scope=col>&lt;chr&gt;</th><th scope=col>&lt;dbl&gt;</th></tr>\n",
       "</thead>\n",
       "<tbody>\n",
       "\t<tr><td>chr1_100459194_100460074</td><td>CTCF-only,CTCF-bound</td><td>1.0</td></tr>\n",
       "\t<tr><td>chr1_101288084_101289048</td><td>CTCF-only,CTCF-bound</td><td>0.5</td></tr>\n",
       "\t<tr><td>chr1_101357288_101357816</td><td>CTCF-only,CTCF-bound</td><td>1.0</td></tr>\n",
       "\t<tr><td>chr1_10152601_10153412  </td><td>CTCF-only,CTCF-bound</td><td>1.0</td></tr>\n",
       "\t<tr><td>chr1_10337595_10338506  </td><td>CTCF-only,CTCF-bound</td><td>1.0</td></tr>\n",
       "\t<tr><td>chr1_10493478_10495415  </td><td>CTCF-only,CTCF-bound</td><td>1.0</td></tr>\n",
       "</tbody>\n",
       "</table>\n"
      ],
      "text/latex": [
       "A tibble: 6 × 3\n",
       "\\begin{tabular}{lll}\n",
       " Peak & Label & Freq\\\\\n",
       " <chr> & <chr> & <dbl>\\\\\n",
       "\\hline\n",
       "\t chr1\\_100459194\\_100460074 & CTCF-only,CTCF-bound & 1.0\\\\\n",
       "\t chr1\\_101288084\\_101289048 & CTCF-only,CTCF-bound & 0.5\\\\\n",
       "\t chr1\\_101357288\\_101357816 & CTCF-only,CTCF-bound & 1.0\\\\\n",
       "\t chr1\\_10152601\\_10153412   & CTCF-only,CTCF-bound & 1.0\\\\\n",
       "\t chr1\\_10337595\\_10338506   & CTCF-only,CTCF-bound & 1.0\\\\\n",
       "\t chr1\\_10493478\\_10495415   & CTCF-only,CTCF-bound & 1.0\\\\\n",
       "\\end{tabular}\n"
      ],
      "text/markdown": [
       "\n",
       "A tibble: 6 × 3\n",
       "\n",
       "| Peak &lt;chr&gt; | Label &lt;chr&gt; | Freq &lt;dbl&gt; |\n",
       "|---|---|---|\n",
       "| chr1_100459194_100460074 | CTCF-only,CTCF-bound | 1.0 |\n",
       "| chr1_101288084_101289048 | CTCF-only,CTCF-bound | 0.5 |\n",
       "| chr1_101357288_101357816 | CTCF-only,CTCF-bound | 1.0 |\n",
       "| chr1_10152601_10153412   | CTCF-only,CTCF-bound | 1.0 |\n",
       "| chr1_10337595_10338506   | CTCF-only,CTCF-bound | 1.0 |\n",
       "| chr1_10493478_10495415   | CTCF-only,CTCF-bound | 1.0 |\n",
       "\n"
      ],
      "text/plain": [
       "  Peak                     Label                Freq\n",
       "1 chr1_100459194_100460074 CTCF-only,CTCF-bound 1.0 \n",
       "2 chr1_101288084_101289048 CTCF-only,CTCF-bound 0.5 \n",
       "3 chr1_101357288_101357816 CTCF-only,CTCF-bound 1.0 \n",
       "4 chr1_10152601_10153412   CTCF-only,CTCF-bound 1.0 \n",
       "5 chr1_10337595_10338506   CTCF-only,CTCF-bound 1.0 \n",
       "6 chr1_10493478_10495415   CTCF-only,CTCF-bound 1.0 "
      ]
     },
     "metadata": {},
     "output_type": "display_data"
    }
   ],
   "source": [
    "dat = dat_freq_ccre  %>% \n",
    "    dplyr::select(Peak, Label, Freq) %>% \n",
    "    tidyr::spread(Label, Freq, fill = 0) %>% \n",
    "    dplyr::mutate(\n",
    "        CTCF = `PLS,CTCF-bound` + `pELS,CTCF-bound` + `CTCF-only,CTCF-bound` + `DNase-H3K4me3,CTCF-bound` + `dELS,CTCF-bound`)\n",
    "\n",
    "dat = dat %>% \n",
    "    gather(Label, Freq, -Peak) %>% \n",
    "    dplyr::filter(Freq != 0) %>% \n",
    "    distinct\n",
    "\n",
    "dat_ccre = dat\n",
    "print(dim(dat_ccre))\n",
    "head(dat)"
   ]
  },
  {
   "cell_type": "markdown",
   "id": "178f7b56",
   "metadata": {},
   "source": [
    "**Check**"
   ]
  },
  {
   "cell_type": "code",
   "execution_count": 14,
   "id": "65a18224",
   "metadata": {},
   "outputs": [
    {
     "name": "stdout",
     "output_type": "stream",
     "text": [
      "[1] 138211      3\n",
      "[1] 138211      3\n"
     ]
    }
   ],
   "source": [
    "dat = dat_ccre\n",
    "print(dim(dat))\n",
    "dat = dat \n",
    "print(dim(dat))"
   ]
  },
  {
   "cell_type": "markdown",
   "id": "345a62ce",
   "metadata": {},
   "source": [
    "**Merge**"
   ]
  },
  {
   "cell_type": "code",
   "execution_count": 15,
   "id": "2a1a1e6e",
   "metadata": {},
   "outputs": [
    {
     "name": "stdout",
     "output_type": "stream",
     "text": [
      "[1] 290   5\n"
     ]
    },
    {
     "data": {
      "text/html": [
       "<table class=\"dataframe\">\n",
       "<caption>A tibble: 6 × 5</caption>\n",
       "<thead>\n",
       "\t<tr><th scope=col>Peak</th><th scope=col>Label</th><th scope=col>ASTARR</th><th scope=col>TMPRA</th><th scope=col>WSTARR</th></tr>\n",
       "\t<tr><th scope=col>&lt;chr&gt;</th><th scope=col>&lt;chr&gt;</th><th scope=col>&lt;dbl&gt;</th><th scope=col>&lt;dbl&gt;</th><th scope=col>&lt;dbl&gt;</th></tr>\n",
       "</thead>\n",
       "<tbody>\n",
       "\t<tr><td>chr8_126820465_126821393</td><td>CTCF-only,CTCF-bound</td><td>-0.4738180</td><td>1.232839</td><td>-0.1796884</td></tr>\n",
       "\t<tr><td>chr8_126824093_126824987</td><td>CTCF-only,CTCF-bound</td><td> 0.4855128</td><td>3.134138</td><td>-0.3160036</td></tr>\n",
       "\t<tr><td>chr8_126876521_126877247</td><td>CTCF-only,CTCF-bound</td><td>-0.5703598</td><td>2.239542</td><td>-0.1926387</td></tr>\n",
       "\t<tr><td>chr8_127724898_127726838</td><td>CTCF-only,CTCF-bound</td><td> 0.1212949</td><td>1.716508</td><td>-0.0999313</td></tr>\n",
       "\t<tr><td>chrX_47814810_47815443  </td><td>CTCF-only,CTCF-bound</td><td>-0.3486922</td><td>2.458260</td><td>-0.6528927</td></tr>\n",
       "\t<tr><td>chrX_48025602_48027305  </td><td>CTCF-only,CTCF-bound</td><td> 0.4977116</td><td>1.912867</td><td> 0.5806345</td></tr>\n",
       "</tbody>\n",
       "</table>\n"
      ],
      "text/latex": [
       "A tibble: 6 × 5\n",
       "\\begin{tabular}{lllll}\n",
       " Peak & Label & ASTARR & TMPRA & WSTARR\\\\\n",
       " <chr> & <chr> & <dbl> & <dbl> & <dbl>\\\\\n",
       "\\hline\n",
       "\t chr8\\_126820465\\_126821393 & CTCF-only,CTCF-bound & -0.4738180 & 1.232839 & -0.1796884\\\\\n",
       "\t chr8\\_126824093\\_126824987 & CTCF-only,CTCF-bound &  0.4855128 & 3.134138 & -0.3160036\\\\\n",
       "\t chr8\\_126876521\\_126877247 & CTCF-only,CTCF-bound & -0.5703598 & 2.239542 & -0.1926387\\\\\n",
       "\t chr8\\_127724898\\_127726838 & CTCF-only,CTCF-bound &  0.1212949 & 1.716508 & -0.0999313\\\\\n",
       "\t chrX\\_47814810\\_47815443   & CTCF-only,CTCF-bound & -0.3486922 & 2.458260 & -0.6528927\\\\\n",
       "\t chrX\\_48025602\\_48027305   & CTCF-only,CTCF-bound &  0.4977116 & 1.912867 &  0.5806345\\\\\n",
       "\\end{tabular}\n"
      ],
      "text/markdown": [
       "\n",
       "A tibble: 6 × 5\n",
       "\n",
       "| Peak &lt;chr&gt; | Label &lt;chr&gt; | ASTARR &lt;dbl&gt; | TMPRA &lt;dbl&gt; | WSTARR &lt;dbl&gt; |\n",
       "|---|---|---|---|---|\n",
       "| chr8_126820465_126821393 | CTCF-only,CTCF-bound | -0.4738180 | 1.232839 | -0.1796884 |\n",
       "| chr8_126824093_126824987 | CTCF-only,CTCF-bound |  0.4855128 | 3.134138 | -0.3160036 |\n",
       "| chr8_126876521_126877247 | CTCF-only,CTCF-bound | -0.5703598 | 2.239542 | -0.1926387 |\n",
       "| chr8_127724898_127726838 | CTCF-only,CTCF-bound |  0.1212949 | 1.716508 | -0.0999313 |\n",
       "| chrX_47814810_47815443   | CTCF-only,CTCF-bound | -0.3486922 | 2.458260 | -0.6528927 |\n",
       "| chrX_48025602_48027305   | CTCF-only,CTCF-bound |  0.4977116 | 1.912867 |  0.5806345 |\n",
       "\n"
      ],
      "text/plain": [
       "  Peak                     Label                ASTARR     TMPRA    WSTARR    \n",
       "1 chr8_126820465_126821393 CTCF-only,CTCF-bound -0.4738180 1.232839 -0.1796884\n",
       "2 chr8_126824093_126824987 CTCF-only,CTCF-bound  0.4855128 3.134138 -0.3160036\n",
       "3 chr8_126876521_126877247 CTCF-only,CTCF-bound -0.5703598 2.239542 -0.1926387\n",
       "4 chr8_127724898_127726838 CTCF-only,CTCF-bound  0.1212949 1.716508 -0.0999313\n",
       "5 chrX_47814810_47815443   CTCF-only,CTCF-bound -0.3486922 2.458260 -0.6528927\n",
       "6 chrX_48025602_48027305   CTCF-only,CTCF-bound  0.4977116 1.912867  0.5806345"
      ]
     },
     "metadata": {},
     "output_type": "display_data"
    }
   ],
   "source": [
    "dat_sub_tmpra = dat_cov_tmpra %>% dplyr::filter(Region %in% c(\"GATA1\", \"MYC\"))\n",
    "\n",
    "dat1 = dat_cov_astarr %>% dplyr::select(Peak, log2FoldChange) %>% dplyr::mutate(Assay=\"ASTARR\")\n",
    "dat2 = dat_cov_wstarr %>% dplyr::select(Peak, log2FoldChange) %>% dplyr::mutate(Assay=\"WSTARR\")\n",
    "dat3 = dat_sub_tmpra  %>% dplyr::select(Peak, log2FoldChange) %>% dplyr::mutate(Assay=\"TMPRA\")\n",
    "dat4 = dat_ccre       %>% dplyr::select(Peak, Label)\n",
    "\n",
    "dat  = bind_rows(dat1, dat2, dat3) %>% spread(Assay, log2FoldChange)\n",
    "dat  = inner_join(dat4, dat, by=\"Peak\") %>% na.omit\n",
    "\n",
    "dat_comb = dat\n",
    "print(dim(dat))\n",
    "head(dat)"
   ]
  },
  {
   "cell_type": "code",
   "execution_count": 37,
   "id": "377bdcf0",
   "metadata": {},
   "outputs": [
    {
     "data": {
      "text/html": [
       "<table class=\"dataframe\">\n",
       "<caption>A tibble: 11 × 5</caption>\n",
       "<thead>\n",
       "\t<tr><th scope=col>Label</th><th scope=col>Count</th><th scope=col>r_ASTARR_WSTARR</th><th scope=col>r_TMPRA_ASTARR</th><th scope=col>r_TMPRA_WSTARR</th></tr>\n",
       "\t<tr><th scope=col>&lt;chr&gt;</th><th scope=col>&lt;int&gt;</th><th scope=col>&lt;dbl&gt;</th><th scope=col>&lt;dbl&gt;</th><th scope=col>&lt;dbl&gt;</th></tr>\n",
       "</thead>\n",
       "<tbody>\n",
       "\t<tr><td>CTCF                </td><td> 34</td><td>0.5644369</td><td> 0.36803529</td><td>0.68868906</td></tr>\n",
       "\t<tr><td>CTCF-only,CTCF-bound</td><td> 13</td><td>0.2588434</td><td> 0.06159455</td><td>0.02157772</td></tr>\n",
       "\t<tr><td>dELS                </td><td> 30</td><td>0.6882537</td><td> 0.32493262</td><td>0.36113863</td></tr>\n",
       "\t<tr><td>dELS,CTCF-bound     </td><td>  9</td><td>0.6228578</td><td> 0.40522406</td><td>0.80483466</td></tr>\n",
       "\t<tr><td>DNase-H3K4me3       </td><td>  1</td><td>       NA</td><td>         NA</td><td>        NA</td></tr>\n",
       "\t<tr><td>DNase-only          </td><td> 12</td><td>0.5439181</td><td> 0.67864447</td><td>0.82607876</td></tr>\n",
       "\t<tr><td>Low-DNase           </td><td>116</td><td>0.6494093</td><td> 0.42189820</td><td>0.58690647</td></tr>\n",
       "\t<tr><td>pELS                </td><td> 33</td><td>0.3178519</td><td> 0.34993441</td><td>0.66131665</td></tr>\n",
       "\t<tr><td>pELS,CTCF-bound     </td><td>  8</td><td>0.2135687</td><td>-0.10857205</td><td>0.84574135</td></tr>\n",
       "\t<tr><td>PLS                 </td><td> 28</td><td>0.4629244</td><td> 0.31772985</td><td>0.69179923</td></tr>\n",
       "\t<tr><td>PLS,CTCF-bound      </td><td>  6</td><td>0.7374833</td><td> 0.70499350</td><td>0.69096636</td></tr>\n",
       "</tbody>\n",
       "</table>\n"
      ],
      "text/latex": [
       "A tibble: 11 × 5\n",
       "\\begin{tabular}{lllll}\n",
       " Label & Count & r\\_ASTARR\\_WSTARR & r\\_TMPRA\\_ASTARR & r\\_TMPRA\\_WSTARR\\\\\n",
       " <chr> & <int> & <dbl> & <dbl> & <dbl>\\\\\n",
       "\\hline\n",
       "\t CTCF                 &  34 & 0.5644369 &  0.36803529 & 0.68868906\\\\\n",
       "\t CTCF-only,CTCF-bound &  13 & 0.2588434 &  0.06159455 & 0.02157772\\\\\n",
       "\t dELS                 &  30 & 0.6882537 &  0.32493262 & 0.36113863\\\\\n",
       "\t dELS,CTCF-bound      &   9 & 0.6228578 &  0.40522406 & 0.80483466\\\\\n",
       "\t DNase-H3K4me3        &   1 &        NA &          NA &         NA\\\\\n",
       "\t DNase-only           &  12 & 0.5439181 &  0.67864447 & 0.82607876\\\\\n",
       "\t Low-DNase            & 116 & 0.6494093 &  0.42189820 & 0.58690647\\\\\n",
       "\t pELS                 &  33 & 0.3178519 &  0.34993441 & 0.66131665\\\\\n",
       "\t pELS,CTCF-bound      &   8 & 0.2135687 & -0.10857205 & 0.84574135\\\\\n",
       "\t PLS                  &  28 & 0.4629244 &  0.31772985 & 0.69179923\\\\\n",
       "\t PLS,CTCF-bound       &   6 & 0.7374833 &  0.70499350 & 0.69096636\\\\\n",
       "\\end{tabular}\n"
      ],
      "text/markdown": [
       "\n",
       "A tibble: 11 × 5\n",
       "\n",
       "| Label &lt;chr&gt; | Count &lt;int&gt; | r_ASTARR_WSTARR &lt;dbl&gt; | r_TMPRA_ASTARR &lt;dbl&gt; | r_TMPRA_WSTARR &lt;dbl&gt; |\n",
       "|---|---|---|---|---|\n",
       "| CTCF                 |  34 | 0.5644369 |  0.36803529 | 0.68868906 |\n",
       "| CTCF-only,CTCF-bound |  13 | 0.2588434 |  0.06159455 | 0.02157772 |\n",
       "| dELS                 |  30 | 0.6882537 |  0.32493262 | 0.36113863 |\n",
       "| dELS,CTCF-bound      |   9 | 0.6228578 |  0.40522406 | 0.80483466 |\n",
       "| DNase-H3K4me3        |   1 |        NA |          NA |         NA |\n",
       "| DNase-only           |  12 | 0.5439181 |  0.67864447 | 0.82607876 |\n",
       "| Low-DNase            | 116 | 0.6494093 |  0.42189820 | 0.58690647 |\n",
       "| pELS                 |  33 | 0.3178519 |  0.34993441 | 0.66131665 |\n",
       "| pELS,CTCF-bound      |   8 | 0.2135687 | -0.10857205 | 0.84574135 |\n",
       "| PLS                  |  28 | 0.4629244 |  0.31772985 | 0.69179923 |\n",
       "| PLS,CTCF-bound       |   6 | 0.7374833 |  0.70499350 | 0.69096636 |\n",
       "\n"
      ],
      "text/plain": [
       "   Label                Count r_ASTARR_WSTARR r_TMPRA_ASTARR r_TMPRA_WSTARR\n",
       "1  CTCF                  34   0.5644369        0.36803529    0.68868906    \n",
       "2  CTCF-only,CTCF-bound  13   0.2588434        0.06159455    0.02157772    \n",
       "3  dELS                  30   0.6882537        0.32493262    0.36113863    \n",
       "4  dELS,CTCF-bound        9   0.6228578        0.40522406    0.80483466    \n",
       "5  DNase-H3K4me3          1          NA                NA            NA    \n",
       "6  DNase-only            12   0.5439181        0.67864447    0.82607876    \n",
       "7  Low-DNase            116   0.6494093        0.42189820    0.58690647    \n",
       "8  pELS                  33   0.3178519        0.34993441    0.66131665    \n",
       "9  pELS,CTCF-bound        8   0.2135687       -0.10857205    0.84574135    \n",
       "10 PLS                   28   0.4629244        0.31772985    0.69179923    \n",
       "11 PLS,CTCF-bound         6   0.7374833        0.70499350    0.69096636    "
      ]
     },
     "metadata": {},
     "output_type": "display_data"
    }
   ],
   "source": [
    "dat = dat_comb\n",
    "dat = dat %>% \n",
    "    group_by(Label) %>% \n",
    "    summarize(\n",
    "        Count  = n(),\n",
    "        r_ASTARR_WSTARR = cor(ASTARR, WSTARR),\n",
    "        r_TMPRA_ASTARR  = cor(TMPRA,  ASTARR),\n",
    "        r_TMPRA_WSTARR  = cor(TMPRA,  WSTARR)\n",
    "    )\n",
    "dat"
   ]
  },
  {
   "cell_type": "code",
   "execution_count": 59,
   "id": "ef32ea3b",
   "metadata": {},
   "outputs": [
    {
     "data": {
      "text/html": [
       "<table class=\"dataframe\">\n",
       "<caption>A tibble: 30 × 10</caption>\n",
       "<thead>\n",
       "\t<tr><th scope=col>Label</th><th scope=col>Count</th><th scope=col>Assay</th><th scope=col>r</th><th scope=col>z</th><th scope=col>SE</th><th scope=col>z_up</th><th scope=col>z_dw</th><th scope=col>r_up</th><th scope=col>r_dw</th></tr>\n",
       "\t<tr><th scope=col>&lt;chr&gt;</th><th scope=col>&lt;int&gt;</th><th scope=col>&lt;chr&gt;</th><th scope=col>&lt;dbl&gt;</th><th scope=col>&lt;dbl&gt;</th><th scope=col>&lt;dbl&gt;</th><th scope=col>&lt;dbl&gt;</th><th scope=col>&lt;dbl&gt;</th><th scope=col>&lt;dbl&gt;</th><th scope=col>&lt;dbl&gt;</th></tr>\n",
       "</thead>\n",
       "<tbody>\n",
       "\t<tr><td>CTCF                </td><td> 34</td><td>AW</td><td> 0.56443692</td><td> 0.63932080</td><td>0.17960530</td><td>0.9913472</td><td> 0.2872944071</td><td>0.7579362</td><td> 0.279642689</td></tr>\n",
       "\t<tr><td>CTCF-only,CTCF-bound</td><td> 13</td><td>AW</td><td> 0.25884336</td><td> 0.26486831</td><td>0.31622777</td><td>0.8846747</td><td>-0.3549381082</td><td>0.7087535</td><td>-0.340747615</td></tr>\n",
       "\t<tr><td>dELS                </td><td> 30</td><td>AW</td><td> 0.68825369</td><td> 0.84463011</td><td>0.19245009</td><td>1.2218323</td><td> 0.4674279366</td><td>0.8401938</td><td> 0.436118795</td></tr>\n",
       "\t<tr><td>dELS,CTCF-bound     </td><td>  9</td><td>AW</td><td> 0.62285782</td><td> 0.72966086</td><td>0.40824829</td><td>1.5298275</td><td>-0.0705057929</td><td>0.9103951</td><td>-0.070389195</td></tr>\n",
       "\t<tr><td>DNase-only          </td><td> 12</td><td>AW</td><td> 0.54391812</td><td> 0.60970317</td><td>0.33333333</td><td>1.2630365</td><td>-0.0436301613</td><td>0.8518991</td><td>-0.043602498</td></tr>\n",
       "\t<tr><td>Low-DNase           </td><td>116</td><td>AW</td><td> 0.64940926</td><td> 0.77427646</td><td>0.09407209</td><td>0.9586578</td><td> 0.5898951708</td><td>0.7436776</td><td> 0.529820209</td></tr>\n",
       "\t<tr><td>pELS                </td><td> 33</td><td>AW</td><td> 0.31785187</td><td> 0.32925575</td><td>0.18257419</td><td>0.6871011</td><td>-0.0285896587</td><td>0.5961165</td><td>-0.028581872</td></tr>\n",
       "\t<tr><td>pELS,CTCF-bound     </td><td>  8</td><td>AW</td><td> 0.21356866</td><td> 0.21690759</td><td>0.44721360</td><td>1.0934462</td><td>-0.6596310554</td><td>0.7981325</td><td>-0.578117830</td></tr>\n",
       "\t<tr><td>PLS                 </td><td> 28</td><td>AW</td><td> 0.46292439</td><td> 0.50102692</td><td>0.20000000</td><td>0.8930269</td><td> 0.1090269201</td><td>0.7128856</td><td> 0.108596968</td></tr>\n",
       "\t<tr><td>PLS,CTCF-bound      </td><td>  6</td><td>AW</td><td> 0.73748332</td><td> 0.94493918</td><td>0.57735027</td><td>2.0765457</td><td>-0.1866673461</td><td>0.9690548</td><td>-0.184529022</td></tr>\n",
       "\t<tr><td>CTCF                </td><td> 34</td><td>TA</td><td> 0.36803529</td><td> 0.38614867</td><td>0.17960530</td><td>0.7381751</td><td> 0.0341222782</td><td>0.6280413</td><td> 0.034109041</td></tr>\n",
       "\t<tr><td>CTCF-only,CTCF-bound</td><td> 13</td><td>TA</td><td> 0.06159455</td><td> 0.06167262</td><td>0.31622777</td><td>0.6814790</td><td>-0.5581338035</td><td>0.5924801</td><td>-0.506591480</td></tr>\n",
       "\t<tr><td>dELS                </td><td> 30</td><td>TA</td><td> 0.32493262</td><td> 0.33715219</td><td>0.19245009</td><td>0.7143544</td><td>-0.0400499847</td><td>0.6134001</td><td>-0.040028585</td></tr>\n",
       "\t<tr><td>dELS,CTCF-bound     </td><td>  9</td><td>TA</td><td> 0.40522406</td><td> 0.42988364</td><td>0.40824829</td><td>1.2300503</td><td>-0.3702830081</td><td>0.8425939</td><td>-0.354239232</td></tr>\n",
       "\t<tr><td>DNase-only          </td><td> 12</td><td>TA</td><td> 0.67864447</td><td> 0.82659691</td><td>0.33333333</td><td>1.4799302</td><td> 0.1732635743</td><td>0.9014549</td><td> 0.171550338</td></tr>\n",
       "\t<tr><td>Low-DNase           </td><td>116</td><td>TA</td><td> 0.42189820</td><td> 0.44999902</td><td>0.09407209</td><td>0.6343803</td><td> 0.2656177305</td><td>0.5610610</td><td> 0.259542435</td></tr>\n",
       "\t<tr><td>pELS                </td><td> 33</td><td>TA</td><td> 0.34993441</td><td> 0.36536901</td><td>0.18257419</td><td>0.7232144</td><td> 0.0075236043</td><td>0.6188964</td><td> 0.007523462</td></tr>\n",
       "\t<tr><td>pELS,CTCF-bound     </td><td>  8</td><td>TA</td><td>-0.10857205</td><td>-0.10900171</td><td>0.44721360</td><td>0.7675369</td><td>-0.9855403568</td><td>0.6454949</td><td>-0.755454290</td></tr>\n",
       "\t<tr><td>PLS                 </td><td> 28</td><td>TA</td><td> 0.31772985</td><td> 0.32912001</td><td>0.20000000</td><td>0.7211200</td><td>-0.0628799887</td><td>0.6176026</td><td>-0.062797246</td></tr>\n",
       "\t<tr><td>PLS,CTCF-bound      </td><td>  6</td><td>TA</td><td> 0.70499350</td><td> 0.87715959</td><td>0.57735027</td><td>2.0087661</td><td>-0.2544469365</td><td>0.9646417</td><td>-0.249094273</td></tr>\n",
       "\t<tr><td>CTCF                </td><td> 34</td><td>TW</td><td> 0.68868906</td><td> 0.84545779</td><td>0.17960530</td><td>1.1974842</td><td> 0.4934313957</td><td>0.8328856</td><td> 0.456935640</td></tr>\n",
       "\t<tr><td>CTCF-only,CTCF-bound</td><td> 13</td><td>TW</td><td> 0.02157772</td><td> 0.02158107</td><td>0.31622777</td><td>0.6413875</td><td>-0.5982253546</td><td>0.5658435</td><td>-0.535785565</td></tr>\n",
       "\t<tr><td>dELS                </td><td> 30</td><td>TW</td><td> 0.36113863</td><td> 0.37819469</td><td>0.19245009</td><td>0.7553969</td><td> 0.0009925123</td><td>0.6383576</td><td> 0.000992512</td></tr>\n",
       "\t<tr><td>dELS,CTCF-bound     </td><td>  9</td><td>TW</td><td> 0.80483466</td><td> 1.11218857</td><td>0.40824829</td><td>1.9123552</td><td> 0.3120219242</td><td>0.9572828</td><td> 0.302275398</td></tr>\n",
       "\t<tr><td>DNase-only          </td><td> 12</td><td>TW</td><td> 0.82607876</td><td> 1.17566181</td><td>0.33333333</td><td>1.8289951</td><td> 0.5223284725</td><td>0.9497277</td><td> 0.479495134</td></tr>\n",
       "\t<tr><td>Low-DNase           </td><td>116</td><td>TW</td><td> 0.58690647</td><td> 0.67293387</td><td>0.09407209</td><td>0.8573152</td><td> 0.4885525810</td><td>0.6948718</td><td> 0.453066879</td></tr>\n",
       "\t<tr><td>pELS                </td><td> 33</td><td>TW</td><td> 0.66131665</td><td> 0.79515006</td><td>0.18257419</td><td>1.1529955</td><td> 0.4373046599</td><td>0.8187440</td><td> 0.411407791</td></tr>\n",
       "\t<tr><td>pELS,CTCF-bound     </td><td>  8</td><td>TW</td><td> 0.84574135</td><td> 1.24100279</td><td>0.44721360</td><td>2.1175414</td><td> 0.3644641450</td><td>0.9714561</td><td> 0.349140098</td></tr>\n",
       "\t<tr><td>PLS                 </td><td> 28</td><td>TW</td><td> 0.69179923</td><td> 0.85139822</td><td>0.20000000</td><td>1.2433982</td><td> 0.4593982214</td><td>0.8464220</td><td> 0.429593618</td></tr>\n",
       "\t<tr><td>PLS,CTCF-bound      </td><td>  6</td><td>TW</td><td> 0.69096636</td><td> 0.84980265</td><td>0.57735027</td><td>1.9814092</td><td>-0.2818038779</td><td>0.9626903</td><td>-0.274573787</td></tr>\n",
       "</tbody>\n",
       "</table>\n"
      ],
      "text/latex": [
       "A tibble: 30 × 10\n",
       "\\begin{tabular}{llllllllll}\n",
       " Label & Count & Assay & r & z & SE & z\\_up & z\\_dw & r\\_up & r\\_dw\\\\\n",
       " <chr> & <int> & <chr> & <dbl> & <dbl> & <dbl> & <dbl> & <dbl> & <dbl> & <dbl>\\\\\n",
       "\\hline\n",
       "\t CTCF                 &  34 & AW &  0.56443692 &  0.63932080 & 0.17960530 & 0.9913472 &  0.2872944071 & 0.7579362 &  0.279642689\\\\\n",
       "\t CTCF-only,CTCF-bound &  13 & AW &  0.25884336 &  0.26486831 & 0.31622777 & 0.8846747 & -0.3549381082 & 0.7087535 & -0.340747615\\\\\n",
       "\t dELS                 &  30 & AW &  0.68825369 &  0.84463011 & 0.19245009 & 1.2218323 &  0.4674279366 & 0.8401938 &  0.436118795\\\\\n",
       "\t dELS,CTCF-bound      &   9 & AW &  0.62285782 &  0.72966086 & 0.40824829 & 1.5298275 & -0.0705057929 & 0.9103951 & -0.070389195\\\\\n",
       "\t DNase-only           &  12 & AW &  0.54391812 &  0.60970317 & 0.33333333 & 1.2630365 & -0.0436301613 & 0.8518991 & -0.043602498\\\\\n",
       "\t Low-DNase            & 116 & AW &  0.64940926 &  0.77427646 & 0.09407209 & 0.9586578 &  0.5898951708 & 0.7436776 &  0.529820209\\\\\n",
       "\t pELS                 &  33 & AW &  0.31785187 &  0.32925575 & 0.18257419 & 0.6871011 & -0.0285896587 & 0.5961165 & -0.028581872\\\\\n",
       "\t pELS,CTCF-bound      &   8 & AW &  0.21356866 &  0.21690759 & 0.44721360 & 1.0934462 & -0.6596310554 & 0.7981325 & -0.578117830\\\\\n",
       "\t PLS                  &  28 & AW &  0.46292439 &  0.50102692 & 0.20000000 & 0.8930269 &  0.1090269201 & 0.7128856 &  0.108596968\\\\\n",
       "\t PLS,CTCF-bound       &   6 & AW &  0.73748332 &  0.94493918 & 0.57735027 & 2.0765457 & -0.1866673461 & 0.9690548 & -0.184529022\\\\\n",
       "\t CTCF                 &  34 & TA &  0.36803529 &  0.38614867 & 0.17960530 & 0.7381751 &  0.0341222782 & 0.6280413 &  0.034109041\\\\\n",
       "\t CTCF-only,CTCF-bound &  13 & TA &  0.06159455 &  0.06167262 & 0.31622777 & 0.6814790 & -0.5581338035 & 0.5924801 & -0.506591480\\\\\n",
       "\t dELS                 &  30 & TA &  0.32493262 &  0.33715219 & 0.19245009 & 0.7143544 & -0.0400499847 & 0.6134001 & -0.040028585\\\\\n",
       "\t dELS,CTCF-bound      &   9 & TA &  0.40522406 &  0.42988364 & 0.40824829 & 1.2300503 & -0.3702830081 & 0.8425939 & -0.354239232\\\\\n",
       "\t DNase-only           &  12 & TA &  0.67864447 &  0.82659691 & 0.33333333 & 1.4799302 &  0.1732635743 & 0.9014549 &  0.171550338\\\\\n",
       "\t Low-DNase            & 116 & TA &  0.42189820 &  0.44999902 & 0.09407209 & 0.6343803 &  0.2656177305 & 0.5610610 &  0.259542435\\\\\n",
       "\t pELS                 &  33 & TA &  0.34993441 &  0.36536901 & 0.18257419 & 0.7232144 &  0.0075236043 & 0.6188964 &  0.007523462\\\\\n",
       "\t pELS,CTCF-bound      &   8 & TA & -0.10857205 & -0.10900171 & 0.44721360 & 0.7675369 & -0.9855403568 & 0.6454949 & -0.755454290\\\\\n",
       "\t PLS                  &  28 & TA &  0.31772985 &  0.32912001 & 0.20000000 & 0.7211200 & -0.0628799887 & 0.6176026 & -0.062797246\\\\\n",
       "\t PLS,CTCF-bound       &   6 & TA &  0.70499350 &  0.87715959 & 0.57735027 & 2.0087661 & -0.2544469365 & 0.9646417 & -0.249094273\\\\\n",
       "\t CTCF                 &  34 & TW &  0.68868906 &  0.84545779 & 0.17960530 & 1.1974842 &  0.4934313957 & 0.8328856 &  0.456935640\\\\\n",
       "\t CTCF-only,CTCF-bound &  13 & TW &  0.02157772 &  0.02158107 & 0.31622777 & 0.6413875 & -0.5982253546 & 0.5658435 & -0.535785565\\\\\n",
       "\t dELS                 &  30 & TW &  0.36113863 &  0.37819469 & 0.19245009 & 0.7553969 &  0.0009925123 & 0.6383576 &  0.000992512\\\\\n",
       "\t dELS,CTCF-bound      &   9 & TW &  0.80483466 &  1.11218857 & 0.40824829 & 1.9123552 &  0.3120219242 & 0.9572828 &  0.302275398\\\\\n",
       "\t DNase-only           &  12 & TW &  0.82607876 &  1.17566181 & 0.33333333 & 1.8289951 &  0.5223284725 & 0.9497277 &  0.479495134\\\\\n",
       "\t Low-DNase            & 116 & TW &  0.58690647 &  0.67293387 & 0.09407209 & 0.8573152 &  0.4885525810 & 0.6948718 &  0.453066879\\\\\n",
       "\t pELS                 &  33 & TW &  0.66131665 &  0.79515006 & 0.18257419 & 1.1529955 &  0.4373046599 & 0.8187440 &  0.411407791\\\\\n",
       "\t pELS,CTCF-bound      &   8 & TW &  0.84574135 &  1.24100279 & 0.44721360 & 2.1175414 &  0.3644641450 & 0.9714561 &  0.349140098\\\\\n",
       "\t PLS                  &  28 & TW &  0.69179923 &  0.85139822 & 0.20000000 & 1.2433982 &  0.4593982214 & 0.8464220 &  0.429593618\\\\\n",
       "\t PLS,CTCF-bound       &   6 & TW &  0.69096636 &  0.84980265 & 0.57735027 & 1.9814092 & -0.2818038779 & 0.9626903 & -0.274573787\\\\\n",
       "\\end{tabular}\n"
      ],
      "text/markdown": [
       "\n",
       "A tibble: 30 × 10\n",
       "\n",
       "| Label &lt;chr&gt; | Count &lt;int&gt; | Assay &lt;chr&gt; | r &lt;dbl&gt; | z &lt;dbl&gt; | SE &lt;dbl&gt; | z_up &lt;dbl&gt; | z_dw &lt;dbl&gt; | r_up &lt;dbl&gt; | r_dw &lt;dbl&gt; |\n",
       "|---|---|---|---|---|---|---|---|---|---|\n",
       "| CTCF                 |  34 | AW |  0.56443692 |  0.63932080 | 0.17960530 | 0.9913472 |  0.2872944071 | 0.7579362 |  0.279642689 |\n",
       "| CTCF-only,CTCF-bound |  13 | AW |  0.25884336 |  0.26486831 | 0.31622777 | 0.8846747 | -0.3549381082 | 0.7087535 | -0.340747615 |\n",
       "| dELS                 |  30 | AW |  0.68825369 |  0.84463011 | 0.19245009 | 1.2218323 |  0.4674279366 | 0.8401938 |  0.436118795 |\n",
       "| dELS,CTCF-bound      |   9 | AW |  0.62285782 |  0.72966086 | 0.40824829 | 1.5298275 | -0.0705057929 | 0.9103951 | -0.070389195 |\n",
       "| DNase-only           |  12 | AW |  0.54391812 |  0.60970317 | 0.33333333 | 1.2630365 | -0.0436301613 | 0.8518991 | -0.043602498 |\n",
       "| Low-DNase            | 116 | AW |  0.64940926 |  0.77427646 | 0.09407209 | 0.9586578 |  0.5898951708 | 0.7436776 |  0.529820209 |\n",
       "| pELS                 |  33 | AW |  0.31785187 |  0.32925575 | 0.18257419 | 0.6871011 | -0.0285896587 | 0.5961165 | -0.028581872 |\n",
       "| pELS,CTCF-bound      |   8 | AW |  0.21356866 |  0.21690759 | 0.44721360 | 1.0934462 | -0.6596310554 | 0.7981325 | -0.578117830 |\n",
       "| PLS                  |  28 | AW |  0.46292439 |  0.50102692 | 0.20000000 | 0.8930269 |  0.1090269201 | 0.7128856 |  0.108596968 |\n",
       "| PLS,CTCF-bound       |   6 | AW |  0.73748332 |  0.94493918 | 0.57735027 | 2.0765457 | -0.1866673461 | 0.9690548 | -0.184529022 |\n",
       "| CTCF                 |  34 | TA |  0.36803529 |  0.38614867 | 0.17960530 | 0.7381751 |  0.0341222782 | 0.6280413 |  0.034109041 |\n",
       "| CTCF-only,CTCF-bound |  13 | TA |  0.06159455 |  0.06167262 | 0.31622777 | 0.6814790 | -0.5581338035 | 0.5924801 | -0.506591480 |\n",
       "| dELS                 |  30 | TA |  0.32493262 |  0.33715219 | 0.19245009 | 0.7143544 | -0.0400499847 | 0.6134001 | -0.040028585 |\n",
       "| dELS,CTCF-bound      |   9 | TA |  0.40522406 |  0.42988364 | 0.40824829 | 1.2300503 | -0.3702830081 | 0.8425939 | -0.354239232 |\n",
       "| DNase-only           |  12 | TA |  0.67864447 |  0.82659691 | 0.33333333 | 1.4799302 |  0.1732635743 | 0.9014549 |  0.171550338 |\n",
       "| Low-DNase            | 116 | TA |  0.42189820 |  0.44999902 | 0.09407209 | 0.6343803 |  0.2656177305 | 0.5610610 |  0.259542435 |\n",
       "| pELS                 |  33 | TA |  0.34993441 |  0.36536901 | 0.18257419 | 0.7232144 |  0.0075236043 | 0.6188964 |  0.007523462 |\n",
       "| pELS,CTCF-bound      |   8 | TA | -0.10857205 | -0.10900171 | 0.44721360 | 0.7675369 | -0.9855403568 | 0.6454949 | -0.755454290 |\n",
       "| PLS                  |  28 | TA |  0.31772985 |  0.32912001 | 0.20000000 | 0.7211200 | -0.0628799887 | 0.6176026 | -0.062797246 |\n",
       "| PLS,CTCF-bound       |   6 | TA |  0.70499350 |  0.87715959 | 0.57735027 | 2.0087661 | -0.2544469365 | 0.9646417 | -0.249094273 |\n",
       "| CTCF                 |  34 | TW |  0.68868906 |  0.84545779 | 0.17960530 | 1.1974842 |  0.4934313957 | 0.8328856 |  0.456935640 |\n",
       "| CTCF-only,CTCF-bound |  13 | TW |  0.02157772 |  0.02158107 | 0.31622777 | 0.6413875 | -0.5982253546 | 0.5658435 | -0.535785565 |\n",
       "| dELS                 |  30 | TW |  0.36113863 |  0.37819469 | 0.19245009 | 0.7553969 |  0.0009925123 | 0.6383576 |  0.000992512 |\n",
       "| dELS,CTCF-bound      |   9 | TW |  0.80483466 |  1.11218857 | 0.40824829 | 1.9123552 |  0.3120219242 | 0.9572828 |  0.302275398 |\n",
       "| DNase-only           |  12 | TW |  0.82607876 |  1.17566181 | 0.33333333 | 1.8289951 |  0.5223284725 | 0.9497277 |  0.479495134 |\n",
       "| Low-DNase            | 116 | TW |  0.58690647 |  0.67293387 | 0.09407209 | 0.8573152 |  0.4885525810 | 0.6948718 |  0.453066879 |\n",
       "| pELS                 |  33 | TW |  0.66131665 |  0.79515006 | 0.18257419 | 1.1529955 |  0.4373046599 | 0.8187440 |  0.411407791 |\n",
       "| pELS,CTCF-bound      |   8 | TW |  0.84574135 |  1.24100279 | 0.44721360 | 2.1175414 |  0.3644641450 | 0.9714561 |  0.349140098 |\n",
       "| PLS                  |  28 | TW |  0.69179923 |  0.85139822 | 0.20000000 | 1.2433982 |  0.4593982214 | 0.8464220 |  0.429593618 |\n",
       "| PLS,CTCF-bound       |   6 | TW |  0.69096636 |  0.84980265 | 0.57735027 | 1.9814092 | -0.2818038779 | 0.9626903 | -0.274573787 |\n",
       "\n"
      ],
      "text/plain": [
       "   Label                Count Assay r           z           SE        \n",
       "1  CTCF                  34   AW     0.56443692  0.63932080 0.17960530\n",
       "2  CTCF-only,CTCF-bound  13   AW     0.25884336  0.26486831 0.31622777\n",
       "3  dELS                  30   AW     0.68825369  0.84463011 0.19245009\n",
       "4  dELS,CTCF-bound        9   AW     0.62285782  0.72966086 0.40824829\n",
       "5  DNase-only            12   AW     0.54391812  0.60970317 0.33333333\n",
       "6  Low-DNase            116   AW     0.64940926  0.77427646 0.09407209\n",
       "7  pELS                  33   AW     0.31785187  0.32925575 0.18257419\n",
       "8  pELS,CTCF-bound        8   AW     0.21356866  0.21690759 0.44721360\n",
       "9  PLS                   28   AW     0.46292439  0.50102692 0.20000000\n",
       "10 PLS,CTCF-bound         6   AW     0.73748332  0.94493918 0.57735027\n",
       "11 CTCF                  34   TA     0.36803529  0.38614867 0.17960530\n",
       "12 CTCF-only,CTCF-bound  13   TA     0.06159455  0.06167262 0.31622777\n",
       "13 dELS                  30   TA     0.32493262  0.33715219 0.19245009\n",
       "14 dELS,CTCF-bound        9   TA     0.40522406  0.42988364 0.40824829\n",
       "15 DNase-only            12   TA     0.67864447  0.82659691 0.33333333\n",
       "16 Low-DNase            116   TA     0.42189820  0.44999902 0.09407209\n",
       "17 pELS                  33   TA     0.34993441  0.36536901 0.18257419\n",
       "18 pELS,CTCF-bound        8   TA    -0.10857205 -0.10900171 0.44721360\n",
       "19 PLS                   28   TA     0.31772985  0.32912001 0.20000000\n",
       "20 PLS,CTCF-bound         6   TA     0.70499350  0.87715959 0.57735027\n",
       "21 CTCF                  34   TW     0.68868906  0.84545779 0.17960530\n",
       "22 CTCF-only,CTCF-bound  13   TW     0.02157772  0.02158107 0.31622777\n",
       "23 dELS                  30   TW     0.36113863  0.37819469 0.19245009\n",
       "24 dELS,CTCF-bound        9   TW     0.80483466  1.11218857 0.40824829\n",
       "25 DNase-only            12   TW     0.82607876  1.17566181 0.33333333\n",
       "26 Low-DNase            116   TW     0.58690647  0.67293387 0.09407209\n",
       "27 pELS                  33   TW     0.66131665  0.79515006 0.18257419\n",
       "28 pELS,CTCF-bound        8   TW     0.84574135  1.24100279 0.44721360\n",
       "29 PLS                   28   TW     0.69179923  0.85139822 0.20000000\n",
       "30 PLS,CTCF-bound         6   TW     0.69096636  0.84980265 0.57735027\n",
       "   z_up      z_dw          r_up      r_dw        \n",
       "1  0.9913472  0.2872944071 0.7579362  0.279642689\n",
       "2  0.8846747 -0.3549381082 0.7087535 -0.340747615\n",
       "3  1.2218323  0.4674279366 0.8401938  0.436118795\n",
       "4  1.5298275 -0.0705057929 0.9103951 -0.070389195\n",
       "5  1.2630365 -0.0436301613 0.8518991 -0.043602498\n",
       "6  0.9586578  0.5898951708 0.7436776  0.529820209\n",
       "7  0.6871011 -0.0285896587 0.5961165 -0.028581872\n",
       "8  1.0934462 -0.6596310554 0.7981325 -0.578117830\n",
       "9  0.8930269  0.1090269201 0.7128856  0.108596968\n",
       "10 2.0765457 -0.1866673461 0.9690548 -0.184529022\n",
       "11 0.7381751  0.0341222782 0.6280413  0.034109041\n",
       "12 0.6814790 -0.5581338035 0.5924801 -0.506591480\n",
       "13 0.7143544 -0.0400499847 0.6134001 -0.040028585\n",
       "14 1.2300503 -0.3702830081 0.8425939 -0.354239232\n",
       "15 1.4799302  0.1732635743 0.9014549  0.171550338\n",
       "16 0.6343803  0.2656177305 0.5610610  0.259542435\n",
       "17 0.7232144  0.0075236043 0.6188964  0.007523462\n",
       "18 0.7675369 -0.9855403568 0.6454949 -0.755454290\n",
       "19 0.7211200 -0.0628799887 0.6176026 -0.062797246\n",
       "20 2.0087661 -0.2544469365 0.9646417 -0.249094273\n",
       "21 1.1974842  0.4934313957 0.8328856  0.456935640\n",
       "22 0.6413875 -0.5982253546 0.5658435 -0.535785565\n",
       "23 0.7553969  0.0009925123 0.6383576  0.000992512\n",
       "24 1.9123552  0.3120219242 0.9572828  0.302275398\n",
       "25 1.8289951  0.5223284725 0.9497277  0.479495134\n",
       "26 0.8573152  0.4885525810 0.6948718  0.453066879\n",
       "27 1.1529955  0.4373046599 0.8187440  0.411407791\n",
       "28 2.1175414  0.3644641450 0.9714561  0.349140098\n",
       "29 1.2433982  0.4593982214 0.8464220  0.429593618\n",
       "30 1.9814092 -0.2818038779 0.9626903 -0.274573787"
      ]
     },
     "metadata": {},
     "output_type": "display_data"
    }
   ],
   "source": [
    "dat = dat_comb\n",
    "dat = dat %>% \n",
    "    group_by(Label) %>% \n",
    "    summarize(\n",
    "        Count  = n(),\n",
    "        AW   = cor(ASTARR, WSTARR),\n",
    "        TA   = cor(TMPRA,  ASTARR),\n",
    "        TW   = cor(TMPRA,  WSTARR)\n",
    "    ) %>% na.omit\n",
    "\n",
    "\n",
    "fun_r2z = function(r){z = 0.5 * log((1+r) / (1-r)); return(z)}\n",
    "fun_z2r = function(z){\n",
    "    x = exp(2 * z)\n",
    "    r = (x-1) / (x+1)\n",
    "    return(r)\n",
    "}\n",
    "\n",
    "zc  = 1.96\n",
    "dat = dat %>% \n",
    "    gather(Assay, r, -Label, -Count) %>% \n",
    "    mutate(z  = fun_r2z(r), SE = 1/((Count-3)^0.5)) %>%\n",
    "    mutate(z_up = z + zc * SE, \n",
    "           z_dw = z - zc * SE) %>%\n",
    "    mutate(r_up = fun_z2r(z_up),\n",
    "           r_dw = fun_z2r(z_dw))\n",
    "\n",
    "dat_cor = dat\n",
    "dat"
   ]
  },
  {
   "cell_type": "code",
   "execution_count": 93,
   "id": "2bdd4bc7",
   "metadata": {},
   "outputs": [
    {
     "data": {
      "image/png": "[encoded data removed]",
      "text/plain": [
       "plot without title"
      ]
     },
     "metadata": {
      "image/png": {
       "height": 300,
       "width": 420
      }
     },
     "output_type": "display_data"
    }
   ],
   "source": [
    "dat = dat_cor %>% dplyr::filter(Assay==\"AW\") %>% arrange(-r)\n",
    "lab = dat$Label\n",
    "\n",
    "dat = dat_cor\n",
    "dat$Label = factor(dat$Label, levels = lab)\n",
    "\n",
    "dodge = position_dodge(width=0.5)\n",
    "gpt = ggplot(dat, aes(x=Label, y=r, fill=Assay, color=Assay)) + \n",
    "    geom_hline(yintercept = 0, color=\"black\") +\n",
    "    geom_point(position = dodge) +\n",
    "    geom_errorbar(aes(ymin = r_dw, ymax = r_up), position = dodge, width = 0.25) + \n",
    "    \n",
    "    labs(x=\"cCREs Category\", y=\"Correlation\", title=\"Correlation of Log2FC (GATA1 + MYC)\") +\n",
    "    theme_cowplot() + \n",
    "    theme(axis.text.x = element_text(vjust=0.5, hjust=1, angle=90)) +\n",
    "    theme(panel.grid.major.y = element_line(\n",
    "        color = \"grey70\",\n",
    "        size = 0.5,\n",
    "        linetype = 1))\n",
    "\n",
    "options(repr.plot.height=5, repr.plot.width=7)\n",
    "print(gpt)"
   ]
  },
  {
   "cell_type": "code",
   "execution_count": 94,
   "id": "39e6099a",
   "metadata": {},
   "outputs": [
    {
     "data": {
      "image/png": "[encoded data removed]",
      "text/plain": [
       "plot without title"
      ]
     },
     "metadata": {
      "image/png": {
       "height": 300,
       "width": 480
      }
     },
     "output_type": "display_data"
    }
   ],
   "source": [
    "\n",
    "\n",
    "\n",
    "dat = dat_cor\n",
    "dat$Label = factor(dat$Label, levels = lab)\n",
    "dat$Assay = dplyr::recode(\n",
    "    dat$Assay, \n",
    "    AW=\"ASTARR vs WSTARR\", \n",
    "    TA=\"TMPRA vs ASTARR\",\n",
    "    TW=\"TMPRA vs WSTARR\")\n",
    "\n",
    "dodge = position_dodge(width=0.5)\n",
    "gpt = ggplot(dat, aes(x=Label, y=r, fill=Assay, color=Assay)) + \n",
    "    geom_hline(yintercept = 0, color=\"black\") +\n",
    "    geom_point(position = dodge) +\n",
    "    geom_errorbar(aes(ymin = r_dw, ymax = r_up), position = dodge, width = 0.25) + \n",
    "    \n",
    "    labs(x=\"cCREs Category\", y=\"Correlation\", title=\"Correlation of Log2FC (GATA1 + MYC)\") +\n",
    "    theme_cowplot() + \n",
    "    theme(axis.text.x = element_text(vjust=0.5, hjust=1, angle=90)) +\n",
    "    theme(panel.grid.major.y = element_line(\n",
    "        color = \"grey70\",\n",
    "        size = 0.5,\n",
    "        linetype = 1))\n",
    "\n",
    "options(repr.plot.height=5, repr.plot.width=8)\n",
    "print(gpt)"
   ]
  },
  {
   "cell_type": "code",
   "execution_count": null,
   "id": "2da4d7f2",
   "metadata": {},
   "outputs": [],
   "source": []
  }
 ],
 "metadata": {
  "kernelspec": {
   "display_name": "R",
   "language": "R",
   "name": "ir"
  },
  "language_info": {
   "codemirror_mode": "r",
   "file_extension": ".r",
   "mimetype": "text/x-r-source",
   "name": "R",
   "pygments_lexer": "r",
   "version": "4.2.2"
  }
 },
 "nbformat": 4,
 "nbformat_minor": 5
}
