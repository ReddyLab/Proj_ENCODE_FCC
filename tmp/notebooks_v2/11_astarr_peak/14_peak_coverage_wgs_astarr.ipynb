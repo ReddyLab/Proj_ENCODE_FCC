{
 "cells": [
  {
   "cell_type": "markdown",
   "id": "c606f4cb-391d-456a-9233-74e56520507c",
   "metadata": {},
   "source": [
    "**Set environment**"
   ]
  },
  {
   "cell_type": "code",
   "execution_count": 1,
   "id": "5cb063a3-17e8-4c7d-ad3e-df3d37a456b8",
   "metadata": {},
   "outputs": [
    {
     "name": "stdout",
     "output_type": "stream",
     "text": [
      "You are on Duke Server: HARDAC\n",
      "BASE DIRECTORY:     /data/reddylab/Kuei\n",
      "PATH OF SOURCE:     /data/reddylab/Kuei/source\n",
      "PATH OF EXECUTABLE: /data/reddylab/Kuei/exe\n",
      "PATH OF ANNOTATION: /data/reddylab/Kuei/annotation\n",
      "PATH OF PROJECT:    /data/reddylab/Kuei/GitRepo/Proj_CombEffect_ENCODE_FCC/notebooks\n",
      "PATH OF RESULTS:    /data/reddylab/Kuei/out/proj_combeffect_encode_fcc\n",
      "\n"
     ]
    }
   ],
   "source": [
    "source ../config/config_duke.sh\n",
    "source ../config/config_load_module_bedtools.sh\n",
    "show_env"
   ]
  },
  {
   "cell_type": "code",
   "execution_count": 2,
   "id": "027e9185-e163-484c-85d5-2ffe5d9b8682",
   "metadata": {},
   "outputs": [
    {
     "name": "stdout",
     "output_type": "stream",
     "text": [
      "/nfs/software/helmod/apps/Core/bedtools2/2.25.0-fasrc01/bin/bedtools\n",
      "bedtools v2.25.0\n"
     ]
    }
   ],
   "source": [
    "which bedtools\n",
    "bedtools -version"
   ]
  },
  {
   "cell_type": "code",
   "execution_count": 3,
   "id": "1dd5b50f-fa14-42b7-99f1-02603958d0d7",
   "metadata": {},
   "outputs": [
    {
     "name": "stdout",
     "output_type": "stream",
     "text": [
      "\u001b[0m\u001b[38;5;27m/data/reddylab/Kuei/out/proj_combeffect_encode_fcc/log\u001b[0m\n",
      "all\n"
     ]
    }
   ],
   "source": [
    "ls -d ${FD_LOG}\n",
    "echo ${NODE}"
   ]
  },
  {
   "cell_type": "markdown",
   "id": "e2cc6042-178b-4a98-8ace-1fb1aafe91bc",
   "metadata": {},
   "source": [
    "**TEST**"
   ]
  },
  {
   "cell_type": "code",
   "execution_count": 4,
   "id": "7105990b-abd1-49c8-bd95-48c74497f329",
   "metadata": {},
   "outputs": [
    {
     "name": "stdout",
     "output_type": "stream",
     "text": [
      "-rw-rw-r-- 1 kk319 reddylab 5.7M Oct 17 05:28 /data/reddylab/Kuei/out/proj_combeffect_encode_fcc/region/KS91_K562_astarrseq_peak_macs/KS91_K562_hg38_ASTARRseq_Input.all_reps.masked.union_narrowPeak.q5.bed\n",
      "247520\n",
      "chr1\t10015\t10442\n",
      "chr1\t14253\t14645\n",
      "chr1\t16015\t16477\n",
      "chr1\t17237\t17772\n",
      "chr1\t28903\t29613\n",
      "chr1\t30803\t31072\n",
      "chr1\t101603\t101849\n",
      "chr1\t115411\t115986\n",
      "chr1\t118518\t118743\n",
      "chr1\t136071\t137429\n",
      "chrX\t155966947\t155967395\n",
      "chrX\t155971561\t155972273\n",
      "chrX\t155986274\t155987619\n",
      "chrX\t155997267\t155998045\n",
      "chrX\t156000382\t156003205\n",
      "chrX\t156009687\t156010227\n",
      "chrX\t156016391\t156016836\n",
      "chrX\t156024950\t156025593\n",
      "chrX\t156030187\t156030740\n",
      "chrY\t11215098\t11215422\n"
     ]
    }
   ],
   "source": [
    "FD_REG=${FD_RES}/region/KS91_K562_astarrseq_peak_macs\n",
    "FN_REG=KS91_K562_hg38_ASTARRseq_Input.all_reps.masked.union_narrowPeak.q5.bed\n",
    "ls -lh ${FD_REG}/${FN_REG}\n",
    "cat ${FD_REG}/${FN_REG} | wc -l\n",
    "head ${FD_REG}/${FN_REG}\n",
    "tail ${FD_REG}/${FN_REG}"
   ]
  },
  {
   "cell_type": "markdown",
   "id": "36646a92-a7f9-42cb-99e3-c1a05cd663b9",
   "metadata": {},
   "source": [
    "**ASTARR**"
   ]
  },
  {
   "cell_type": "code",
   "execution_count": 5,
   "id": "e5c65bf0-85a2-48c2-87d6-60bb137a4659",
   "metadata": {},
   "outputs": [
    {
     "name": "stdout",
     "output_type": "stream",
     "text": [
      "/data/reddylab/Alex/encode4_duke/processing/atac_seq/210401_KS91_K562ASTARR_NovaSeq.hg38-pe-blacklist-removal/merged2/KS91_K562_hg38_ASTARRseq_Input_rep1.masked.dedup.fragments.counts.txt.gz\n",
      "/data/reddylab/Alex/encode4_duke/processing/atac_seq/210401_KS91_K562ASTARR_NovaSeq.hg38-pe-blacklist-removal/merged2/KS91_K562_hg38_ASTARRseq_Input_rep2.masked.dedup.fragments.counts.txt.gz\n",
      "/data/reddylab/Alex/encode4_duke/processing/atac_seq/210401_KS91_K562ASTARR_NovaSeq.hg38-pe-blacklist-removal/merged2/KS91_K562_hg38_ASTARRseq_Input_rep3.masked.dedup.fragments.counts.txt.gz\n",
      "/data/reddylab/Alex/encode4_duke/processing/atac_seq/210401_KS91_K562ASTARR_NovaSeq.hg38-pe-blacklist-removal/merged2/KS91_K562_hg38_ASTARRseq_Input_rep4.masked.dedup.fragments.counts.txt.gz\n",
      "/data/reddylab/Alex/encode4_duke/processing/atac_seq/210401_KS91_K562ASTARR_NovaSeq.hg38-pe-blacklist-removal/merged2/KS91_K562_hg38_ASTARRseq_Input_rep5.masked.dedup.fragments.counts.txt.gz\n",
      "/data/reddylab/Alex/encode4_duke/processing/atac_seq/210401_KS91_K562ASTARR_NovaSeq.hg38-pe-blacklist-removal/merged2/KS91_K562_hg38_ASTARRseq_Input_rep6.masked.dedup.fragments.counts.txt.gz\n",
      "/data/reddylab/Alex/encode4_duke/processing/starr_seq/210401_KS91_K562ASTARR_NovaSeq.hg38-pe-umis/KS91_K562_hg38_ASTARRseq_Output_rep1.f3q10.fragments.counts.txt.gz\n",
      "/data/reddylab/Alex/encode4_duke/processing/starr_seq/210401_KS91_K562ASTARR_NovaSeq.hg38-pe-umis/KS91_K562_hg38_ASTARRseq_Output_rep2.f3q10.fragments.counts.txt.gz\n",
      "/data/reddylab/Alex/encode4_duke/processing/starr_seq/210401_KS91_K562ASTARR_NovaSeq.hg38-pe-umis/KS91_K562_hg38_ASTARRseq_Output_rep3.f3q10.fragments.counts.txt.gz\n",
      "/data/reddylab/Alex/encode4_duke/processing/starr_seq/210401_KS91_K562ASTARR_NovaSeq.hg38-pe-umis/KS91_K562_hg38_ASTARRseq_Output_rep4.f3q10.fragments.counts.txt.gz\n"
     ]
    }
   ],
   "source": [
    "for FPATH in ${FP_WGS_ASTARR[@]}; do\n",
    "    echo ${FPATH}\n",
    "done"
   ]
  },
  {
   "cell_type": "code",
   "execution_count": 6,
   "id": "f26c7a0d-50ab-4a63-b105-cd5011fd0376",
   "metadata": {},
   "outputs": [
    {
     "name": "stdout",
     "output_type": "stream",
     "text": [
      "chr1\t10001\t10143\tchr1_10001_10143\t1\t.\n",
      "chr1\t10002\t10118\tchr1_10002_10118\t1\t.\n",
      "chr1\t10002\t10131\tchr1_10002_10131\t1\t.\n",
      "chr1\t10002\t10203\tchr1_10002_10203\t1\t.\n",
      "chr1\t10002\t10209\tchr1_10002_10209\t1\t.\n",
      "\n",
      "gzip: stdout: Broken pipe\n"
     ]
    }
   ],
   "source": [
    "FPATH=/data/reddylab/Alex/encode4_duke/processing/atac_seq/210401_KS91_K562ASTARR_NovaSeq.hg38-pe-blacklist-removal/merged2/KS91_K562_hg38_ASTARRseq_Input_rep1.masked.dedup.fragments.counts.txt.gz\n",
    "zcat ${FPATH} | head -5"
   ]
  },
  {
   "cell_type": "code",
   "execution_count": 7,
   "id": "c7d088e3-3323-409c-9296-49138abe9946",
   "metadata": {},
   "outputs": [
    {
     "name": "stdout",
     "output_type": "stream",
     "text": [
      "chr1\t10057\t10233\tchr1_10057_10233\t2\t.\n",
      "chr1\t10188\t10442\tchr1_10188_10442\t1\t.\n",
      "chr1\t10285\t10349\tchr1_10285_10349\t1\t.\n",
      "chr1\t10287\t10332\tchr1_10287_10332\t1\t.\n",
      "chr1\t10365\t10449\tchr1_10365_10449\t1\t.\n",
      "\n",
      "gzip: stdout: Broken pipe\n"
     ]
    }
   ],
   "source": [
    "FPATH=/data/reddylab/Alex/encode4_duke/processing/starr_seq/210401_KS91_K562ASTARR_NovaSeq.hg38-pe-umis/KS91_K562_hg38_ASTARRseq_Output_rep1.f3q10.fragments.counts.txt.gz\n",
    "zcat ${FPATH} | head -5"
   ]
  },
  {
   "cell_type": "markdown",
   "id": "600fdff4-6438-44a0-a983-4c1d53370c32",
   "metadata": {},
   "source": [
    "**WSTARR**"
   ]
  },
  {
   "cell_type": "code",
   "execution_count": 8,
   "id": "6f1b695c-a241-4a02-a4cc-8e36b8a9cdab",
   "metadata": {},
   "outputs": [
    {
     "name": "stdout",
     "output_type": "stream",
     "text": [
      "/data/reddylab/Alex/encode4_duke/data/starr_seq/fragments/A001-input-K562-rep1.masked.dedup.fragments.counts.txt.gz\n",
      "/data/reddylab/Alex/encode4_duke/data/starr_seq/fragments/A001-input-K562-rep2.masked.dedup.fragments.counts.txt.gz\n",
      "/data/reddylab/Alex/encode4_duke/data/starr_seq/fragments/A001-input-K562-rep3.masked.dedup.fragments.counts.txt.gz\n",
      "/data/reddylab/Alex/encode4_duke/data/starr_seq/fragments/A001-input-K562-rep4.masked.dedup.fragments.counts.txt.gz\n",
      "/data/reddylab/Alex/encode4_duke/data/starr_seq/fragments/A001-K562-rep1.masked.dedup.fragments.counts.txt.gz\n",
      "/data/reddylab/Alex/encode4_duke/data/starr_seq/fragments/A001-K562-rep2.masked.dedup.fragments.counts.txt.gz\n",
      "/data/reddylab/Alex/encode4_duke/data/starr_seq/fragments/A001-K562-rep3.masked.dedup.fragments.counts.txt.gz\n"
     ]
    }
   ],
   "source": [
    "for FPATH in ${FP_WGS_WSTARR[@]}; do\n",
    "    echo ${FPATH}\n",
    "done"
   ]
  },
  {
   "cell_type": "code",
   "execution_count": 9,
   "id": "d0e0bac5-b856-4bf3-ac38-0cafb56f06c0",
   "metadata": {},
   "outputs": [
    {
     "name": "stdout",
     "output_type": "stream",
     "text": [
      "chr1\t10335\t10549\tchr1_10335_10549\t1\t.\n",
      "chr1\t16983\t17500\tchr1_16983_17500\t1\t.\n",
      "chr1\t16985\t17499\tchr1_16985_17499\t1\t.\n",
      "chr1\t17004\t17500\tchr1_17004_17500\t1\t.\n",
      "chr1\t17483\t17898\tchr1_17483_17898\t1\t.\n",
      "\n",
      "gzip: stdout: Broken pipe\n"
     ]
    }
   ],
   "source": [
    "FPATH=/data/reddylab/Alex/encode4_duke/data/starr_seq/fragments/A001-input-K562-rep1.masked.dedup.fragments.counts.txt.gz\n",
    "zcat ${FPATH} | head -5"
   ]
  },
  {
   "cell_type": "markdown",
   "id": "cb5cfb2c-2d28-4b5d-a31f-9dc8bab94831",
   "metadata": {},
   "source": [
    "**ASTARR subset**"
   ]
  },
  {
   "cell_type": "code",
   "execution_count": 10,
   "id": "94a315da-80ad-43e9-ac8d-9f6f1aca927f",
   "metadata": {},
   "outputs": [
    {
     "name": "stdout",
     "output_type": "stream",
     "text": [
      "KS91_K562_hg38_ASTARRseq_Input_rep1.FADS.unstranded.bed\n",
      "KS91_K562_hg38_ASTARRseq_Input_rep1.GATA1.unstranded.bed\n",
      "KS91_K562_hg38_ASTARRseq_Input_rep1.MYC.unstranded.bed\n",
      "KS91_K562_hg38_ASTARRseq_Input_rep2.FADS.unstranded.bed\n",
      "KS91_K562_hg38_ASTARRseq_Input_rep2.GATA1.unstranded.bed\n",
      "KS91_K562_hg38_ASTARRseq_Input_rep2.MYC.unstranded.bed\n",
      "KS91_K562_hg38_ASTARRseq_Input_rep3.FADS.unstranded.bed\n",
      "KS91_K562_hg38_ASTARRseq_Input_rep3.GATA1.unstranded.bed\n",
      "KS91_K562_hg38_ASTARRseq_Input_rep3.MYC.unstranded.bed\n",
      "KS91_K562_hg38_ASTARRseq_Input_rep4.FADS.unstranded.bed\n",
      "KS91_K562_hg38_ASTARRseq_Input_rep4.GATA1.unstranded.bed\n",
      "KS91_K562_hg38_ASTARRseq_Input_rep4.MYC.unstranded.bed\n",
      "KS91_K562_hg38_ASTARRseq_Input_rep5.FADS.unstranded.bed\n",
      "KS91_K562_hg38_ASTARRseq_Input_rep5.GATA1.unstranded.bed\n",
      "KS91_K562_hg38_ASTARRseq_Input_rep5.MYC.unstranded.bed\n",
      "KS91_K562_hg38_ASTARRseq_Input_rep6.FADS.unstranded.bed\n",
      "KS91_K562_hg38_ASTARRseq_Input_rep6.GATA1.unstranded.bed\n",
      "KS91_K562_hg38_ASTARRseq_Input_rep6.MYC.unstranded.bed\n",
      "KS91_K562_hg38_ASTARRseq_Output_rep1.FADS.unstranded.bed\n",
      "KS91_K562_hg38_ASTARRseq_Output_rep1.GATA1.unstranded.bed\n",
      "KS91_K562_hg38_ASTARRseq_Output_rep1.MYC.unstranded.bed\n",
      "KS91_K562_hg38_ASTARRseq_Output_rep2.FADS.unstranded.bed\n",
      "KS91_K562_hg38_ASTARRseq_Output_rep2.GATA1.unstranded.bed\n",
      "KS91_K562_hg38_ASTARRseq_Output_rep2.MYC.unstranded.bed\n",
      "KS91_K562_hg38_ASTARRseq_Output_rep3.FADS.unstranded.bed\n",
      "KS91_K562_hg38_ASTARRseq_Output_rep3.GATA1.unstranded.bed\n",
      "KS91_K562_hg38_ASTARRseq_Output_rep3.MYC.unstranded.bed\n",
      "KS91_K562_hg38_ASTARRseq_Output_rep4.FADS.unstranded.bed\n",
      "KS91_K562_hg38_ASTARRseq_Output_rep4.GATA1.unstranded.bed\n",
      "KS91_K562_hg38_ASTARRseq_Output_rep4.MYC.unstranded.bed\n",
      "30\n"
     ]
    }
   ],
   "source": [
    "PREFIX=KS91_K562_ASTARRseq\n",
    "FD_CNT=${FD_RES}/${PREFIX}/fragment_count\n",
    "ls ${FD_CNT}/*.unstranded.bed | xargs -n 1 basename\n",
    "ls ${FD_CNT}/*.unstranded.bed | wc -l"
   ]
  },
  {
   "cell_type": "code",
   "execution_count": 11,
   "id": "b0a2bac6-3c12-481f-bbde-eec3d90646bf",
   "metadata": {},
   "outputs": [
    {
     "name": "stdout",
     "output_type": "stream",
     "text": [
      "chr11\t61787228\t61787382\tchr11_61787228_61787382\t1\t.\n",
      "chr11\t61787230\t61787628\tchr11_61787230_61787628\t1\t.\n",
      "chr11\t61787234\t61787471\tchr11_61787234_61787471\t1\t.\n",
      "chr11\t61787235\t61787407\tchr11_61787235_61787407\t1\t.\n",
      "chr11\t61787235\t61787461\tchr11_61787235_61787461\t1\t.\n",
      "cat: write error: Broken pipe\n"
     ]
    }
   ],
   "source": [
    "FPATH=${FD_CNT}/KS91_K562_hg38_ASTARRseq_Input_rep1.FADS.unstranded.bed\n",
    "cat ${FPATH} | head -5"
   ]
  },
  {
   "cell_type": "markdown",
   "id": "06bf30f7-de2d-449d-af99-5ef793928cb6",
   "metadata": {},
   "source": [
    "**RUN**"
   ]
  },
  {
   "cell_type": "code",
   "execution_count": 15,
   "id": "5bfd3f3c-22f6-4d83-be2c-1832f93370b8",
   "metadata": {},
   "outputs": [
    {
     "name": "stdout",
     "output_type": "stream",
     "text": [
      "Submitted batch job 29305023\n"
     ]
    }
   ],
   "source": [
    "sbatch -p ${NODE} \\\n",
    "    --exclude=dl-01 \\\n",
    "    --cpus-per-task 8 \\\n",
    "    --mem 20G \\\n",
    "    --output ${FD_LOG}/coverage_astarr_peak_macs_input_wgs_astarr.%a.txt \\\n",
    "    --array 0-9 \\\n",
    "    <<'EOF'\n",
    "#!/bin/bash\n",
    "### set directories & global variables\n",
    "source ../config/config_duke.sh\n",
    "\n",
    "### set input and output directory\n",
    "PREFIX=KS91_K562_ASTARRseq\n",
    "FD_COV=${FD_RES}/${PREFIX}/coverage_astarrseq_peak_macs_input\n",
    "\n",
    "FP_INP=${FP_WGS_ASTARR[${SLURM_ARRAY_TASK_ID}]}\n",
    "FN_INP=$(basename ${FP_INP})\n",
    "\n",
    "FD_OUT=${FD_COV}\n",
    "FN_OUT=${FN_INP}\n",
    "\n",
    "FD_REG=${FD_RES}/region/KS91_K562_astarrseq_peak_macs\n",
    "FN_REG=KS91_K562_hg38_ASTARRseq_Input.all_reps.masked.union_narrowPeak.q5.bed\n",
    "\n",
    "### print start message\n",
    "timer_start=`date +%s`\n",
    "echo \"Hostname:          \" $(hostname)\n",
    "echo \"Slurm Array Index: \" ${SLURM_ARRAY_TASK_ID}\n",
    "echo \"Time Stamp:        \" $(date +\"%m-%d-%y+%T\")\n",
    "echo\n",
    "\n",
    "### Show I/O file\n",
    "echo \"Input  file: \" ${FP_INP}\n",
    "echo\n",
    "echo \"Show the first few lines of the input file\"\n",
    "zcat  ${FP_INP} | head -n 3 \n",
    "echo\n",
    "\n",
    "echo \"Input  file: \" ${FD_REG}/${FN_REG}\n",
    "echo\n",
    "echo \"Show the first few lines of the input file\"\n",
    "cat  ${FD_REG}/${FN_REG} | head -n 3 \n",
    "echo\n",
    "\n",
    "### execute\n",
    "bedtools map \\\n",
    "    -a ${FD_REG}/${FN_REG} \\\n",
    "    -b ${FP_INP} \\\n",
    "    -o sum \\\n",
    "    -f 0.5 \\\n",
    "    -F 0.5 \\\n",
    "    -e \\\n",
    "| gzip -c \\\n",
    "> ${FD_OUT}/${FN_OUT}\n",
    "\n",
    "### Show I/O file\n",
    "echo\n",
    "echo \"Output file: \" ${FD_OUT}/${FN_OUT}\n",
    "echo\n",
    "echo \"Show the first few lines of the output file\"\n",
    "zcat ${FD_OUT}/${FN_OUT} | head -n 3\n",
    "echo\n",
    "\n",
    "### print end message\n",
    "timer_stop=`date +%s`\n",
    "runtime=$(echo \"${timer_stop} - ${timer_start}\" | bc -l)\n",
    "echo\n",
    "echo 'Done!'\n",
    "echo \"Run Time: $(displaytime ${runtime})\"\n",
    "\n",
    "EOF"
   ]
  },
  {
   "cell_type": "markdown",
   "id": "de29561b-bb24-40cf-94dc-bd271ef87d2d",
   "metadata": {},
   "source": [
    "**CHECK**"
   ]
  },
  {
   "cell_type": "code",
   "execution_count": 17,
   "id": "e92256bb-6d6e-45ce-b883-b1399381b63b",
   "metadata": {},
   "outputs": [
    {
     "name": "stdout",
     "output_type": "stream",
     "text": [
      "Hostname:           x2-07-1.genome.duke.edu\n",
      "Slurm Array Index:  0\n",
      "Time Stamp:         11-07-22+20:28:31\n",
      "\n",
      "Input  file:  /data/reddylab/Alex/encode4_duke/processing/atac_seq/210401_KS91_K562ASTARR_NovaSeq.hg38-pe-blacklist-removal/merged2/KS91_K562_hg38_ASTARRseq_Input_rep1.masked.dedup.fragments.counts.txt.gz\n",
      "\n",
      "Show the first few lines of the input file\n",
      "chr1\t10001\t10143\tchr1_10001_10143\t1\t.\n",
      "chr1\t10002\t10118\tchr1_10002_10118\t1\t.\n",
      "chr1\t10002\t10131\tchr1_10002_10131\t1\t.\n",
      "\n",
      "Input  file:  /data/reddylab/Kuei/out/proj_combeffect_encode_fcc/region/KS91_K562_astarrseq_peak_macs/KS91_K562_hg38_ASTARRseq_Input.all_reps.masked.union_narrowPeak.q5.bed\n",
      "\n",
      "Show the first few lines of the input file\n",
      "chr1\t10015\t10442\n",
      "chr1\t14253\t14645\n",
      "chr1\t16015\t16477\n",
      "\n",
      "\n",
      "Output file:  /data/reddylab/Kuei/out/proj_combeffect_encode_fcc/KS91_K562_ASTARRseq/coverage_astarrseq_peak_macs_input/KS91_K562_hg38_ASTARRseq_Input_rep1.masked.dedup.fragments.counts.txt.gz\n",
      "\n",
      "Show the first few lines of the output file\n",
      "chr1\t10015\t10442\t155\n",
      "chr1\t14253\t14645\t110\n",
      "chr1\t16015\t16477\t141\n",
      "\n",
      "\n",
      "Done!\n",
      "Run Time: 6 minutes and 0 seconds\n"
     ]
    }
   ],
   "source": [
    "cat ${FD_LOG}/coverage_astarr_peak_macs_input_wgs_astarr.0.txt"
   ]
  },
  {
   "cell_type": "code",
   "execution_count": 8,
   "id": "e2d4bb97-3ecc-4d05-9303-21f5d797221b",
   "metadata": {},
   "outputs": [
    {
     "name": "stdout",
     "output_type": "stream",
     "text": [
      "Hostname:           x1-03-1.genome.duke.edu\n",
      "Slurm Array Index:  29\n",
      "Time Stamp:         10-21-22+14:23:37\n",
      "\n",
      "Input  file:  /gpfs/fs1/data/reddylab/Kuei/out/proj_combeffect_encode_fcc/KS91_K562_ASTARRseq/fragment_count/KS91_K562_hg38_ASTARRseq_Output_rep4.MYC.unstranded.bed\n",
      "\n",
      "Show the first few lines of the input file\n",
      "chr8\t126736025\t126736220\tchr8_126736025_126736220\t5\t.\n",
      "chr8\t126736089\t126736259\tchr8_126736089_126736259\t1\t.\n",
      "chr8\t126736091\t126736273\tchr8_126736091_126736273\t9\t.\n",
      "\n",
      "Input  file:  /gpfs/fs1/data/reddylab/Kuei/out/proj_combeffect_encode_fcc/region/KS91_K562_astarrseq_peak_macs/KS91_K562_hg38_ASTARRseq_Input.all_reps.masked.union_narrowPeak.q5.bed\n",
      "\n",
      "Show the first few lines of the input file\n",
      "chr1\t10015\t10442\n",
      "chr1\t14253\t14645\n",
      "chr1\t16015\t16477\n",
      "\n",
      "\n",
      "Output file:  /gpfs/fs1/data/reddylab/Kuei/out/proj_combeffect_encode_fcc/KS91_K562_ASTARRseq/coverage_astarrseq_peak_macs_input/KS91_K562_hg38_ASTARRseq_Output_rep4.MYC.unstranded.bed.gz\n",
      "\n",
      "Show the first few lines of the output file\n",
      "chr1\t10015\t10442\t.\n",
      "chr1\t14253\t14645\t.\n",
      "chr1\t16015\t16477\t.\n",
      "\n",
      "\n",
      "Done!\n",
      "Run Time: 0 seconds\n"
     ]
    }
   ],
   "source": [
    "cat ${FD_LOG}/coverage_astarr_peak_macs_input_astarr.29.txt"
   ]
  },
  {
   "cell_type": "code",
   "execution_count": null,
   "id": "f6035b53-baea-44d1-a471-d293d83c0fef",
   "metadata": {},
   "outputs": [],
   "source": []
  },
  {
   "cell_type": "code",
   "execution_count": 8,
   "id": "8cac81a0-68eb-4891-bbb7-3d6ad2918ecb",
   "metadata": {},
   "outputs": [
    {
     "name": "stdout",
     "output_type": "stream",
     "text": [
      "Hostname:           x1-01-3.genome.duke.edu\n",
      "Slurm Array Index:  0\n",
      "Time Stamp:         10-17-22+10:11:28\n",
      "\n",
      "Input  file:  /gpfs/fs1/data/reddylab/Kuei/out/proj_combeffect_encode_fcc/KS91_K562_ASTARRseq/fragment_count/KS91_K562_hg38_ASTARRseq_Input_rep1.FADS.unstranded.bed\n",
      "\n",
      "Show the first few lines of the input file\n",
      "chr11\t61787228\t61787382\tchr11_61787228_61787382\t1\t.\n",
      "chr11\t61787230\t61787628\tchr11_61787230_61787628\t1\t.\n",
      "chr11\t61787234\t61787471\tchr11_61787234_61787471\t1\t.\n",
      "\n",
      "Input  file:  /gpfs/fs1/data/reddylab/Kuei/out/proj_combeffect_encode_fcc/region/KS91_K562_astarrseq_peak_macs/KS91_K562_hg38_ASTARRseq_Input.all_reps.masked.union_narrowPeak.q5.bed\n",
      "\n",
      "Show the first few lines of the input file\n",
      "chr1\t10015\t10442\n",
      "chr1\t14253\t14645\n",
      "chr1\t16015\t16477\n",
      "\n",
      "\n",
      "Output file:  /gpfs/fs1/data/reddylab/Kuei/out/proj_combeffect_encode_fcc/KS91_K562_ASTARRseq/coverage_astarrseq_peak_macs_input/KS91_K562_hg38_ASTARRseq_Input_rep1.FADS.unstranded.bed.gz\n",
      "\n",
      "Show the first few lines of the output file\n",
      "chr1\t10015\t10442\t.\n",
      "chr1\t14253\t14645\t.\n",
      "chr1\t16015\t16477\t.\n",
      "\n",
      "\n",
      "Done!\n",
      "Run Time: 0 seconds\n"
     ]
    }
   ],
   "source": [
    "cat ${FD_LOG}/coverage_astarr_peak_macs_input_astarr.0.txt"
   ]
  },
  {
   "cell_type": "code",
   "execution_count": 9,
   "id": "9bf3bbd0-6095-4865-9fd8-709e7fcfa15d",
   "metadata": {},
   "outputs": [
    {
     "name": "stdout",
     "output_type": "stream",
     "text": [
      "Hostname:           x1-03-3.genome.duke.edu\n",
      "Slurm Array Index:  29\n",
      "Time Stamp:         10-17-22+10:11:28\n",
      "\n",
      "Input  file:  /gpfs/fs1/data/reddylab/Kuei/out/proj_combeffect_encode_fcc/KS91_K562_ASTARRseq/fragment_count/KS91_K562_hg38_ASTARRseq_Output_rep4.MYC.unstranded.bed\n",
      "\n",
      "Show the first few lines of the input file\n",
      "chr8\t126736025\t126736220\tchr8_126736025_126736220\t5\t.\n",
      "chr8\t126736089\t126736259\tchr8_126736089_126736259\t1\t.\n",
      "chr8\t126736091\t126736273\tchr8_126736091_126736273\t9\t.\n",
      "\n",
      "Input  file:  /gpfs/fs1/data/reddylab/Kuei/out/proj_combeffect_encode_fcc/region/KS91_K562_astarrseq_peak_macs/KS91_K562_hg38_ASTARRseq_Input.all_reps.masked.union_narrowPeak.q5.bed\n",
      "\n",
      "Show the first few lines of the input file\n",
      "chr1\t10015\t10442\n",
      "chr1\t14253\t14645\n",
      "chr1\t16015\t16477\n",
      "\n",
      "\n",
      "Output file:  /gpfs/fs1/data/reddylab/Kuei/out/proj_combeffect_encode_fcc/KS91_K562_ASTARRseq/coverage_astarrseq_peak_macs_input/KS91_K562_hg38_ASTARRseq_Output_rep4.MYC.unstranded.bed.gz\n",
      "\n",
      "Show the first few lines of the output file\n",
      "chr1\t10015\t10442\t.\n",
      "chr1\t14253\t14645\t.\n",
      "chr1\t16015\t16477\t.\n",
      "\n",
      "\n",
      "Done!\n",
      "Run Time: 1 seconds\n"
     ]
    }
   ],
   "source": [
    "cat ${FD_LOG}/coverage_astarr_peak_macs_input_astarr.29.txt"
   ]
  },
  {
   "cell_type": "code",
   "execution_count": 10,
   "id": "e79fd81b-82ee-4151-9566-b7d87f69d82f",
   "metadata": {},
   "outputs": [
    {
     "name": "stdout",
     "output_type": "stream",
     "text": [
      "/gpfs/fs1/data/reddylab/Kuei/out/proj_combeffect_encode_fcc/KS91_K562_ASTARRseq/coverage_astarrseq_peak_macs_input/KS91_K562_hg38_ASTARRseq_Input_rep1.GATA1.unstranded.bed.gz\n",
      "grep: write error\n",
      "chrX\t47809119\t47809445\t92\n",
      "chrX\t47814810\t47815443\t251\n",
      "chrX\t47816459\t47818070\t543\n",
      "chrX\t47836113\t47837157\t2426\n",
      "\n",
      "gzip: stdout: Broken pipe\n"
     ]
    }
   ],
   "source": [
    "PREFIX=KS91_K562_ASTARRseq\n",
    "FDIRY=${FD_RES}/${PREFIX}/coverage_astarrseq_peak_macs_input\n",
    "FNAME=KS91_K562_hg38_ASTARRseq_Input_rep1.GATA1.unstranded.bed.gz\n",
    "FPATH=${FDIRY}/${FNAME} \n",
    "echo ${FPATH}\n",
    "zcat ${FPATH} | grep chrX | head -n 1400 | tail -n 4"
   ]
  },
  {
   "cell_type": "code",
   "execution_count": 11,
   "id": "49a414b3-1947-4454-a783-8cf60e7fe14d",
   "metadata": {},
   "outputs": [
    {
     "name": "stdout",
     "output_type": "stream",
     "text": [
      "chr8\t127793817\t127795585\t1506\n",
      "chr8\t127800218\t127801557\t1779\n",
      "chr8\t127806610\t127807136\t134\n",
      "chr8\t127807462\t127808467\t222\n",
      "grep: write error\n",
      "\n",
      "gzip: stdout: Broken pipe\n"
     ]
    }
   ],
   "source": [
    "PREFIX=KS91_K562_ASTARRseq\n",
    "FDIRY=${FD_RES}/${PREFIX}/coverage_astarrseq_peak_macs_input\n",
    "FNAME=KS91_K562_hg38_ASTARRseq_Input_rep1.MYC.unstranded.bed.gz\n",
    "FPATH=${FDIRY}/${FNAME} \n",
    "\n",
    "zcat ${FPATH} | grep chr8 | head -n 8300 | tail -n 4"
   ]
  },
  {
   "cell_type": "code",
   "execution_count": 12,
   "id": "9c8ad958-832b-4762-bf53-eb0f93955f94",
   "metadata": {},
   "outputs": [
    {
     "name": "stdout",
     "output_type": "stream",
     "text": [
      "\u001b[0m\u001b[38;5;9mKS91_K562_hg38_ASTARRseq_Input_rep1.FADS.unstranded.bed.gz\u001b[0m\n",
      "\u001b[38;5;9mKS91_K562_hg38_ASTARRseq_Input_rep1.GATA1.unstranded.bed.gz\u001b[0m\n",
      "\u001b[38;5;9mKS91_K562_hg38_ASTARRseq_Input_rep1.MYC.unstranded.bed.gz\u001b[0m\n",
      "\u001b[38;5;9mKS91_K562_hg38_ASTARRseq_Input_rep2.FADS.unstranded.bed.gz\u001b[0m\n",
      "\u001b[38;5;9mKS91_K562_hg38_ASTARRseq_Input_rep2.GATA1.unstranded.bed.gz\u001b[0m\n",
      "\u001b[38;5;9mKS91_K562_hg38_ASTARRseq_Input_rep2.MYC.unstranded.bed.gz\u001b[0m\n",
      "\u001b[38;5;9mKS91_K562_hg38_ASTARRseq_Input_rep3.FADS.unstranded.bed.gz\u001b[0m\n",
      "\u001b[38;5;9mKS91_K562_hg38_ASTARRseq_Input_rep3.GATA1.unstranded.bed.gz\u001b[0m\n",
      "\u001b[38;5;9mKS91_K562_hg38_ASTARRseq_Input_rep3.MYC.unstranded.bed.gz\u001b[0m\n",
      "\u001b[38;5;9mKS91_K562_hg38_ASTARRseq_Input_rep4.FADS.unstranded.bed.gz\u001b[0m\n",
      "\u001b[38;5;9mKS91_K562_hg38_ASTARRseq_Input_rep4.GATA1.unstranded.bed.gz\u001b[0m\n",
      "\u001b[38;5;9mKS91_K562_hg38_ASTARRseq_Input_rep4.MYC.unstranded.bed.gz\u001b[0m\n",
      "\u001b[38;5;9mKS91_K562_hg38_ASTARRseq_Input_rep5.FADS.unstranded.bed.gz\u001b[0m\n",
      "\u001b[38;5;9mKS91_K562_hg38_ASTARRseq_Input_rep5.GATA1.unstranded.bed.gz\u001b[0m\n",
      "\u001b[38;5;9mKS91_K562_hg38_ASTARRseq_Input_rep5.MYC.unstranded.bed.gz\u001b[0m\n",
      "\u001b[38;5;9mKS91_K562_hg38_ASTARRseq_Input_rep6.FADS.unstranded.bed.gz\u001b[0m\n",
      "\u001b[38;5;9mKS91_K562_hg38_ASTARRseq_Input_rep6.GATA1.unstranded.bed.gz\u001b[0m\n",
      "\u001b[38;5;9mKS91_K562_hg38_ASTARRseq_Input_rep6.MYC.unstranded.bed.gz\u001b[0m\n",
      "\u001b[38;5;9mKS91_K562_hg38_ASTARRseq_Output_rep1.FADS.unstranded.bed.gz\u001b[0m\n",
      "\u001b[38;5;9mKS91_K562_hg38_ASTARRseq_Output_rep1.GATA1.unstranded.bed.gz\u001b[0m\n",
      "\u001b[38;5;9mKS91_K562_hg38_ASTARRseq_Output_rep1.MYC.unstranded.bed.gz\u001b[0m\n",
      "\u001b[38;5;9mKS91_K562_hg38_ASTARRseq_Output_rep2.FADS.unstranded.bed.gz\u001b[0m\n",
      "\u001b[38;5;9mKS91_K562_hg38_ASTARRseq_Output_rep2.GATA1.unstranded.bed.gz\u001b[0m\n",
      "\u001b[38;5;9mKS91_K562_hg38_ASTARRseq_Output_rep2.MYC.unstranded.bed.gz\u001b[0m\n",
      "\u001b[38;5;9mKS91_K562_hg38_ASTARRseq_Output_rep3.FADS.unstranded.bed.gz\u001b[0m\n",
      "\u001b[38;5;9mKS91_K562_hg38_ASTARRseq_Output_rep3.GATA1.unstranded.bed.gz\u001b[0m\n",
      "\u001b[38;5;9mKS91_K562_hg38_ASTARRseq_Output_rep3.MYC.unstranded.bed.gz\u001b[0m\n",
      "\u001b[38;5;9mKS91_K562_hg38_ASTARRseq_Output_rep4.FADS.unstranded.bed.gz\u001b[0m\n",
      "\u001b[38;5;9mKS91_K562_hg38_ASTARRseq_Output_rep4.GATA1.unstranded.bed.gz\u001b[0m\n",
      "\u001b[38;5;9mKS91_K562_hg38_ASTARRseq_Output_rep4.MYC.unstranded.bed.gz\u001b[0m\n"
     ]
    }
   ],
   "source": [
    "ls ${FDIRY}"
   ]
  },
  {
   "cell_type": "code",
   "execution_count": null,
   "id": "020ddf90-c874-4acb-9ad0-9f70c6000893",
   "metadata": {},
   "outputs": [],
   "source": []
  }
 ],
 "metadata": {
  "kernelspec": {
   "display_name": "Bash",
   "language": "bash",
   "name": "bash"
  },
  "language_info": {
   "codemirror_mode": "shell",
   "file_extension": ".sh",
   "mimetype": "text/x-sh",
   "name": "bash"
  }
 },
 "nbformat": 4,
 "nbformat_minor": 5
}
