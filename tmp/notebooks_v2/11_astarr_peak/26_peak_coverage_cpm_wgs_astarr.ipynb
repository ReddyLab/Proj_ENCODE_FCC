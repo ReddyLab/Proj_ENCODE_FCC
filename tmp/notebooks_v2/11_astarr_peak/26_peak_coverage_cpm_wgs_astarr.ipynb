{
 "cells": [
  {
   "cell_type": "code",
   "execution_count": 1,
   "id": "0d38edad",
   "metadata": {},
   "outputs": [
    {
     "name": "stdout",
     "output_type": "stream",
     "text": [
      "You are in Singularity: singularity_proj_combeffect \n",
      "BASE DIRECTORY:     /mount/work \n",
      "PATH OF SOURCE:     /mount/work/source \n",
      "PATH OF EXECUTABLE: /mount/work/exe \n",
      "PATH OF ANNOTATION: /mount/work/annotation \n",
      "PATH OF PROJECT:    /mount/project \n",
      "PATH OF RESULTS:    /mount/work/out/proj_combeffect_encode_fcc \n"
     ]
    }
   ],
   "source": [
    "suppressMessages(suppressWarnings(source(\"../config/config_sing.R\")))\n",
    "show_env()"
   ]
  },
  {
   "cell_type": "markdown",
   "id": "869f58e1",
   "metadata": {},
   "source": [
    "## Import data"
   ]
  },
  {
   "cell_type": "code",
   "execution_count": 2,
   "id": "34d54cc0",
   "metadata": {},
   "outputs": [],
   "source": [
    "PREFIX = \"KS91_K562_ASTARRseq\"\n",
    "FOLDER = \"coverage_astarrseq_peak_macs_input\""
   ]
  },
  {
   "cell_type": "code",
   "execution_count": 3,
   "id": "b7ccadf8",
   "metadata": {},
   "outputs": [
    {
     "name": "stderr",
     "output_type": "stream",
     "text": [
      "\u001b[1mRows: \u001b[22m\u001b[34m246852\u001b[39m \u001b[1mColumns: \u001b[22m\u001b[34m14\u001b[39m\n",
      "\u001b[36m──\u001b[39m \u001b[1mColumn specification\u001b[22m \u001b[36m──────────────────────────────────────────────────────────────────────────────────────────────────────────────────────────────────────────────────────────────────────\u001b[39m\n",
      "\u001b[1mDelimiter:\u001b[22m \"\\t\"\n",
      "\u001b[31mchr\u001b[39m  (2): Chrom, Peak\n",
      "\u001b[32mdbl\u001b[39m (12): Start, End, Input_rep1, Input_rep2, Input_rep3, Input_rep4, Input_...\n",
      "\n",
      "\u001b[36mℹ\u001b[39m Use `spec()` to retrieve the full column specification for this data.\n",
      "\u001b[36mℹ\u001b[39m Specify the column types or set `show_col_types = FALSE` to quiet this message.\n",
      "\u001b[1mRows: \u001b[22m\u001b[34m10\u001b[39m \u001b[1mColumns: \u001b[22m\u001b[34m3\u001b[39m\n",
      "\u001b[36m──\u001b[39m \u001b[1mColumn specification\u001b[22m \u001b[36m──────────────────────────────────────────────────────────────────────────────────────────────────────────────────────────────────────────────────────────────────────\u001b[39m\n",
      "\u001b[1mDelimiter:\u001b[22m \"\\t\"\n",
      "\u001b[31mchr\u001b[39m (3): Sample, Group, FPath\n",
      "\n",
      "\u001b[36mℹ\u001b[39m Use `spec()` to retrieve the full column specification for this data.\n",
      "\u001b[36mℹ\u001b[39m Specify the column types or set `show_col_types = FALSE` to quiet this message.\n",
      "\u001b[1mRows: \u001b[22m\u001b[34m10\u001b[39m \u001b[1mColumns: \u001b[22m\u001b[34m5\u001b[39m\n",
      "\u001b[36m──\u001b[39m \u001b[1mColumn specification\u001b[22m \u001b[36m──────────────────────────────────────────────────────────────────────────────────────────────────────────────────────────────────────────────────────────────────────\u001b[39m\n",
      "\u001b[1mDelimiter:\u001b[22m \",\"\n",
      "\u001b[31mchr\u001b[39m (4): Sample, Group, Rep, Fpath\n",
      "\u001b[32mdbl\u001b[39m (1): Count\n",
      "\n",
      "\u001b[36mℹ\u001b[39m Use `spec()` to retrieve the full column specification for this data.\n",
      "\u001b[36mℹ\u001b[39m Specify the column types or set `show_col_types = FALSE` to quiet this message.\n"
     ]
    }
   ],
   "source": [
    "fdiry = file.path(FD_RES, PREFIX, FOLDER, \"summary\")\n",
    "\n",
    "fname = \"wgs_count_matrix.tsv\"\n",
    "fpath = file.path(fdiry, fname)\n",
    "dat_count = read_tsv(fpath)\n",
    "\n",
    "fname = \"wgs_metadata.tsv\"\n",
    "fpath = file.path(fdiry, fname)\n",
    "dat_meta = read_tsv(fpath)\n",
    "\n",
    "fdiry = file.path(FD_RES, \"KS91_K562_ASTARRseq\", \"coverage\", \"library_size\")\n",
    "fname = \"library_size_summary.csv\"\n",
    "fpath = file.path(fdiry, fname)\n",
    "dat_lib = read_csv(fpath) %>% \n",
    "    dplyr::mutate(Size = Count) %>% \n",
    "    dplyr::select(Sample, Group, Size)"
   ]
  },
  {
   "cell_type": "code",
   "execution_count": 4,
   "id": "610f3cce",
   "metadata": {},
   "outputs": [
    {
     "data": {
      "text/html": [
       "<table class=\"dataframe\">\n",
       "<caption>A tibble: 6 × 14</caption>\n",
       "<thead>\n",
       "\t<tr><th scope=col>Chrom</th><th scope=col>Start</th><th scope=col>End</th><th scope=col>Peak</th><th scope=col>Input_rep1</th><th scope=col>Input_rep2</th><th scope=col>Input_rep3</th><th scope=col>Input_rep4</th><th scope=col>Input_rep5</th><th scope=col>Input_rep6</th><th scope=col>Output_rep1</th><th scope=col>Output_rep2</th><th scope=col>Output_rep3</th><th scope=col>Output_rep4</th></tr>\n",
       "\t<tr><th scope=col>&lt;chr&gt;</th><th scope=col>&lt;dbl&gt;</th><th scope=col>&lt;dbl&gt;</th><th scope=col>&lt;chr&gt;</th><th scope=col>&lt;dbl&gt;</th><th scope=col>&lt;dbl&gt;</th><th scope=col>&lt;dbl&gt;</th><th scope=col>&lt;dbl&gt;</th><th scope=col>&lt;dbl&gt;</th><th scope=col>&lt;dbl&gt;</th><th scope=col>&lt;dbl&gt;</th><th scope=col>&lt;dbl&gt;</th><th scope=col>&lt;dbl&gt;</th><th scope=col>&lt;dbl&gt;</th></tr>\n",
       "</thead>\n",
       "<tbody>\n",
       "\t<tr><td>chr1</td><td>10015</td><td>10442</td><td>chr1_10015_10442</td><td>155</td><td>214</td><td>257</td><td>236</td><td>185</td><td>214</td><td> 7</td><td>12</td><td> 4</td><td>11</td></tr>\n",
       "\t<tr><td>chr1</td><td>14253</td><td>14645</td><td>chr1_14253_14645</td><td>110</td><td>144</td><td>160</td><td>141</td><td>130</td><td>130</td><td> 8</td><td>26</td><td>30</td><td>57</td></tr>\n",
       "\t<tr><td>chr1</td><td>16015</td><td>16477</td><td>chr1_16015_16477</td><td>141</td><td>208</td><td>206</td><td>190</td><td>202</td><td>182</td><td> 9</td><td> 9</td><td>18</td><td>23</td></tr>\n",
       "\t<tr><td>chr1</td><td>17237</td><td>17772</td><td>chr1_17237_17772</td><td>259</td><td>350</td><td>399</td><td>367</td><td>369</td><td>331</td><td> 7</td><td>13</td><td>23</td><td>59</td></tr>\n",
       "\t<tr><td>chr1</td><td>28903</td><td>29613</td><td>chr1_28903_29613</td><td>263</td><td>338</td><td>368</td><td>333</td><td>352</td><td>317</td><td>12</td><td>18</td><td> 3</td><td>32</td></tr>\n",
       "\t<tr><td>chr1</td><td>30803</td><td>31072</td><td>chr1_30803_31072</td><td> 82</td><td>115</td><td>171</td><td>136</td><td>105</td><td>115</td><td>13</td><td>22</td><td>14</td><td>33</td></tr>\n",
       "</tbody>\n",
       "</table>\n"
      ],
      "text/latex": [
       "A tibble: 6 × 14\n",
       "\\begin{tabular}{llllllllllllll}\n",
       " Chrom & Start & End & Peak & Input\\_rep1 & Input\\_rep2 & Input\\_rep3 & Input\\_rep4 & Input\\_rep5 & Input\\_rep6 & Output\\_rep1 & Output\\_rep2 & Output\\_rep3 & Output\\_rep4\\\\\n",
       " <chr> & <dbl> & <dbl> & <chr> & <dbl> & <dbl> & <dbl> & <dbl> & <dbl> & <dbl> & <dbl> & <dbl> & <dbl> & <dbl>\\\\\n",
       "\\hline\n",
       "\t chr1 & 10015 & 10442 & chr1\\_10015\\_10442 & 155 & 214 & 257 & 236 & 185 & 214 &  7 & 12 &  4 & 11\\\\\n",
       "\t chr1 & 14253 & 14645 & chr1\\_14253\\_14645 & 110 & 144 & 160 & 141 & 130 & 130 &  8 & 26 & 30 & 57\\\\\n",
       "\t chr1 & 16015 & 16477 & chr1\\_16015\\_16477 & 141 & 208 & 206 & 190 & 202 & 182 &  9 &  9 & 18 & 23\\\\\n",
       "\t chr1 & 17237 & 17772 & chr1\\_17237\\_17772 & 259 & 350 & 399 & 367 & 369 & 331 &  7 & 13 & 23 & 59\\\\\n",
       "\t chr1 & 28903 & 29613 & chr1\\_28903\\_29613 & 263 & 338 & 368 & 333 & 352 & 317 & 12 & 18 &  3 & 32\\\\\n",
       "\t chr1 & 30803 & 31072 & chr1\\_30803\\_31072 &  82 & 115 & 171 & 136 & 105 & 115 & 13 & 22 & 14 & 33\\\\\n",
       "\\end{tabular}\n"
      ],
      "text/markdown": [
       "\n",
       "A tibble: 6 × 14\n",
       "\n",
       "| Chrom &lt;chr&gt; | Start &lt;dbl&gt; | End &lt;dbl&gt; | Peak &lt;chr&gt; | Input_rep1 &lt;dbl&gt; | Input_rep2 &lt;dbl&gt; | Input_rep3 &lt;dbl&gt; | Input_rep4 &lt;dbl&gt; | Input_rep5 &lt;dbl&gt; | Input_rep6 &lt;dbl&gt; | Output_rep1 &lt;dbl&gt; | Output_rep2 &lt;dbl&gt; | Output_rep3 &lt;dbl&gt; | Output_rep4 &lt;dbl&gt; |\n",
       "|---|---|---|---|---|---|---|---|---|---|---|---|---|---|\n",
       "| chr1 | 10015 | 10442 | chr1_10015_10442 | 155 | 214 | 257 | 236 | 185 | 214 |  7 | 12 |  4 | 11 |\n",
       "| chr1 | 14253 | 14645 | chr1_14253_14645 | 110 | 144 | 160 | 141 | 130 | 130 |  8 | 26 | 30 | 57 |\n",
       "| chr1 | 16015 | 16477 | chr1_16015_16477 | 141 | 208 | 206 | 190 | 202 | 182 |  9 |  9 | 18 | 23 |\n",
       "| chr1 | 17237 | 17772 | chr1_17237_17772 | 259 | 350 | 399 | 367 | 369 | 331 |  7 | 13 | 23 | 59 |\n",
       "| chr1 | 28903 | 29613 | chr1_28903_29613 | 263 | 338 | 368 | 333 | 352 | 317 | 12 | 18 |  3 | 32 |\n",
       "| chr1 | 30803 | 31072 | chr1_30803_31072 |  82 | 115 | 171 | 136 | 105 | 115 | 13 | 22 | 14 | 33 |\n",
       "\n"
      ],
      "text/plain": [
       "  Chrom Start End   Peak             Input_rep1 Input_rep2 Input_rep3\n",
       "1 chr1  10015 10442 chr1_10015_10442 155        214        257       \n",
       "2 chr1  14253 14645 chr1_14253_14645 110        144        160       \n",
       "3 chr1  16015 16477 chr1_16015_16477 141        208        206       \n",
       "4 chr1  17237 17772 chr1_17237_17772 259        350        399       \n",
       "5 chr1  28903 29613 chr1_28903_29613 263        338        368       \n",
       "6 chr1  30803 31072 chr1_30803_31072  82        115        171       \n",
       "  Input_rep4 Input_rep5 Input_rep6 Output_rep1 Output_rep2 Output_rep3\n",
       "1 236        185        214         7          12           4         \n",
       "2 141        130        130         8          26          30         \n",
       "3 190        202        182         9           9          18         \n",
       "4 367        369        331         7          13          23         \n",
       "5 333        352        317        12          18           3         \n",
       "6 136        105        115        13          22          14         \n",
       "  Output_rep4\n",
       "1 11         \n",
       "2 57         \n",
       "3 23         \n",
       "4 59         \n",
       "5 32         \n",
       "6 33         "
      ]
     },
     "metadata": {},
     "output_type": "display_data"
    }
   ],
   "source": [
    "head(dat_count)"
   ]
  },
  {
   "cell_type": "code",
   "execution_count": 5,
   "id": "86dc3ac7",
   "metadata": {},
   "outputs": [
    {
     "data": {
      "text/html": [
       "<table class=\"dataframe\">\n",
       "<caption>A spec_tbl_df: 10 × 3</caption>\n",
       "<thead>\n",
       "\t<tr><th scope=col>Sample</th><th scope=col>Group</th><th scope=col>FPath</th></tr>\n",
       "\t<tr><th scope=col>&lt;chr&gt;</th><th scope=col>&lt;chr&gt;</th><th scope=col>&lt;chr&gt;</th></tr>\n",
       "</thead>\n",
       "<tbody>\n",
       "\t<tr><td>Input_rep1 </td><td>Input </td><td>/mount/work/out/proj_combeffect_encode_fcc/KS91_K562_ASTARRseq/coverage_astarrseq_peak_macs_input/KS91_K562_hg38_ASTARRseq_Input_rep1.masked.dedup.fragments.counts.txt.gz</td></tr>\n",
       "\t<tr><td>Input_rep2 </td><td>Input </td><td>/mount/work/out/proj_combeffect_encode_fcc/KS91_K562_ASTARRseq/coverage_astarrseq_peak_macs_input/KS91_K562_hg38_ASTARRseq_Input_rep2.masked.dedup.fragments.counts.txt.gz</td></tr>\n",
       "\t<tr><td>Input_rep3 </td><td>Input </td><td>/mount/work/out/proj_combeffect_encode_fcc/KS91_K562_ASTARRseq/coverage_astarrseq_peak_macs_input/KS91_K562_hg38_ASTARRseq_Input_rep3.masked.dedup.fragments.counts.txt.gz</td></tr>\n",
       "\t<tr><td>Input_rep4 </td><td>Input </td><td>/mount/work/out/proj_combeffect_encode_fcc/KS91_K562_ASTARRseq/coverage_astarrseq_peak_macs_input/KS91_K562_hg38_ASTARRseq_Input_rep4.masked.dedup.fragments.counts.txt.gz</td></tr>\n",
       "\t<tr><td>Input_rep5 </td><td>Input </td><td>/mount/work/out/proj_combeffect_encode_fcc/KS91_K562_ASTARRseq/coverage_astarrseq_peak_macs_input/KS91_K562_hg38_ASTARRseq_Input_rep5.masked.dedup.fragments.counts.txt.gz</td></tr>\n",
       "\t<tr><td>Input_rep6 </td><td>Input </td><td>/mount/work/out/proj_combeffect_encode_fcc/KS91_K562_ASTARRseq/coverage_astarrseq_peak_macs_input/KS91_K562_hg38_ASTARRseq_Input_rep6.masked.dedup.fragments.counts.txt.gz</td></tr>\n",
       "\t<tr><td>Output_rep1</td><td>Output</td><td>/mount/work/out/proj_combeffect_encode_fcc/KS91_K562_ASTARRseq/coverage_astarrseq_peak_macs_input/KS91_K562_hg38_ASTARRseq_Output_rep1.f3q10.fragments.counts.txt.gz      </td></tr>\n",
       "\t<tr><td>Output_rep2</td><td>Output</td><td>/mount/work/out/proj_combeffect_encode_fcc/KS91_K562_ASTARRseq/coverage_astarrseq_peak_macs_input/KS91_K562_hg38_ASTARRseq_Output_rep2.f3q10.fragments.counts.txt.gz      </td></tr>\n",
       "\t<tr><td>Output_rep3</td><td>Output</td><td>/mount/work/out/proj_combeffect_encode_fcc/KS91_K562_ASTARRseq/coverage_astarrseq_peak_macs_input/KS91_K562_hg38_ASTARRseq_Output_rep3.f3q10.fragments.counts.txt.gz      </td></tr>\n",
       "\t<tr><td>Output_rep4</td><td>Output</td><td>/mount/work/out/proj_combeffect_encode_fcc/KS91_K562_ASTARRseq/coverage_astarrseq_peak_macs_input/KS91_K562_hg38_ASTARRseq_Output_rep4.f3q10.fragments.counts.txt.gz      </td></tr>\n",
       "</tbody>\n",
       "</table>\n"
      ],
      "text/latex": [
       "A spec\\_tbl\\_df: 10 × 3\n",
       "\\begin{tabular}{lll}\n",
       " Sample & Group & FPath\\\\\n",
       " <chr> & <chr> & <chr>\\\\\n",
       "\\hline\n",
       "\t Input\\_rep1  & Input  & /mount/work/out/proj\\_combeffect\\_encode\\_fcc/KS91\\_K562\\_ASTARRseq/coverage\\_astarrseq\\_peak\\_macs\\_input/KS91\\_K562\\_hg38\\_ASTARRseq\\_Input\\_rep1.masked.dedup.fragments.counts.txt.gz\\\\\n",
       "\t Input\\_rep2  & Input  & /mount/work/out/proj\\_combeffect\\_encode\\_fcc/KS91\\_K562\\_ASTARRseq/coverage\\_astarrseq\\_peak\\_macs\\_input/KS91\\_K562\\_hg38\\_ASTARRseq\\_Input\\_rep2.masked.dedup.fragments.counts.txt.gz\\\\\n",
       "\t Input\\_rep3  & Input  & /mount/work/out/proj\\_combeffect\\_encode\\_fcc/KS91\\_K562\\_ASTARRseq/coverage\\_astarrseq\\_peak\\_macs\\_input/KS91\\_K562\\_hg38\\_ASTARRseq\\_Input\\_rep3.masked.dedup.fragments.counts.txt.gz\\\\\n",
       "\t Input\\_rep4  & Input  & /mount/work/out/proj\\_combeffect\\_encode\\_fcc/KS91\\_K562\\_ASTARRseq/coverage\\_astarrseq\\_peak\\_macs\\_input/KS91\\_K562\\_hg38\\_ASTARRseq\\_Input\\_rep4.masked.dedup.fragments.counts.txt.gz\\\\\n",
       "\t Input\\_rep5  & Input  & /mount/work/out/proj\\_combeffect\\_encode\\_fcc/KS91\\_K562\\_ASTARRseq/coverage\\_astarrseq\\_peak\\_macs\\_input/KS91\\_K562\\_hg38\\_ASTARRseq\\_Input\\_rep5.masked.dedup.fragments.counts.txt.gz\\\\\n",
       "\t Input\\_rep6  & Input  & /mount/work/out/proj\\_combeffect\\_encode\\_fcc/KS91\\_K562\\_ASTARRseq/coverage\\_astarrseq\\_peak\\_macs\\_input/KS91\\_K562\\_hg38\\_ASTARRseq\\_Input\\_rep6.masked.dedup.fragments.counts.txt.gz\\\\\n",
       "\t Output\\_rep1 & Output & /mount/work/out/proj\\_combeffect\\_encode\\_fcc/KS91\\_K562\\_ASTARRseq/coverage\\_astarrseq\\_peak\\_macs\\_input/KS91\\_K562\\_hg38\\_ASTARRseq\\_Output\\_rep1.f3q10.fragments.counts.txt.gz      \\\\\n",
       "\t Output\\_rep2 & Output & /mount/work/out/proj\\_combeffect\\_encode\\_fcc/KS91\\_K562\\_ASTARRseq/coverage\\_astarrseq\\_peak\\_macs\\_input/KS91\\_K562\\_hg38\\_ASTARRseq\\_Output\\_rep2.f3q10.fragments.counts.txt.gz      \\\\\n",
       "\t Output\\_rep3 & Output & /mount/work/out/proj\\_combeffect\\_encode\\_fcc/KS91\\_K562\\_ASTARRseq/coverage\\_astarrseq\\_peak\\_macs\\_input/KS91\\_K562\\_hg38\\_ASTARRseq\\_Output\\_rep3.f3q10.fragments.counts.txt.gz      \\\\\n",
       "\t Output\\_rep4 & Output & /mount/work/out/proj\\_combeffect\\_encode\\_fcc/KS91\\_K562\\_ASTARRseq/coverage\\_astarrseq\\_peak\\_macs\\_input/KS91\\_K562\\_hg38\\_ASTARRseq\\_Output\\_rep4.f3q10.fragments.counts.txt.gz      \\\\\n",
       "\\end{tabular}\n"
      ],
      "text/markdown": [
       "\n",
       "A spec_tbl_df: 10 × 3\n",
       "\n",
       "| Sample &lt;chr&gt; | Group &lt;chr&gt; | FPath &lt;chr&gt; |\n",
       "|---|---|---|\n",
       "| Input_rep1  | Input  | /mount/work/out/proj_combeffect_encode_fcc/KS91_K562_ASTARRseq/coverage_astarrseq_peak_macs_input/KS91_K562_hg38_ASTARRseq_Input_rep1.masked.dedup.fragments.counts.txt.gz |\n",
       "| Input_rep2  | Input  | /mount/work/out/proj_combeffect_encode_fcc/KS91_K562_ASTARRseq/coverage_astarrseq_peak_macs_input/KS91_K562_hg38_ASTARRseq_Input_rep2.masked.dedup.fragments.counts.txt.gz |\n",
       "| Input_rep3  | Input  | /mount/work/out/proj_combeffect_encode_fcc/KS91_K562_ASTARRseq/coverage_astarrseq_peak_macs_input/KS91_K562_hg38_ASTARRseq_Input_rep3.masked.dedup.fragments.counts.txt.gz |\n",
       "| Input_rep4  | Input  | /mount/work/out/proj_combeffect_encode_fcc/KS91_K562_ASTARRseq/coverage_astarrseq_peak_macs_input/KS91_K562_hg38_ASTARRseq_Input_rep4.masked.dedup.fragments.counts.txt.gz |\n",
       "| Input_rep5  | Input  | /mount/work/out/proj_combeffect_encode_fcc/KS91_K562_ASTARRseq/coverage_astarrseq_peak_macs_input/KS91_K562_hg38_ASTARRseq_Input_rep5.masked.dedup.fragments.counts.txt.gz |\n",
       "| Input_rep6  | Input  | /mount/work/out/proj_combeffect_encode_fcc/KS91_K562_ASTARRseq/coverage_astarrseq_peak_macs_input/KS91_K562_hg38_ASTARRseq_Input_rep6.masked.dedup.fragments.counts.txt.gz |\n",
       "| Output_rep1 | Output | /mount/work/out/proj_combeffect_encode_fcc/KS91_K562_ASTARRseq/coverage_astarrseq_peak_macs_input/KS91_K562_hg38_ASTARRseq_Output_rep1.f3q10.fragments.counts.txt.gz       |\n",
       "| Output_rep2 | Output | /mount/work/out/proj_combeffect_encode_fcc/KS91_K562_ASTARRseq/coverage_astarrseq_peak_macs_input/KS91_K562_hg38_ASTARRseq_Output_rep2.f3q10.fragments.counts.txt.gz       |\n",
       "| Output_rep3 | Output | /mount/work/out/proj_combeffect_encode_fcc/KS91_K562_ASTARRseq/coverage_astarrseq_peak_macs_input/KS91_K562_hg38_ASTARRseq_Output_rep3.f3q10.fragments.counts.txt.gz       |\n",
       "| Output_rep4 | Output | /mount/work/out/proj_combeffect_encode_fcc/KS91_K562_ASTARRseq/coverage_astarrseq_peak_macs_input/KS91_K562_hg38_ASTARRseq_Output_rep4.f3q10.fragments.counts.txt.gz       |\n",
       "\n"
      ],
      "text/plain": [
       "   Sample      Group \n",
       "1  Input_rep1  Input \n",
       "2  Input_rep2  Input \n",
       "3  Input_rep3  Input \n",
       "4  Input_rep4  Input \n",
       "5  Input_rep5  Input \n",
       "6  Input_rep6  Input \n",
       "7  Output_rep1 Output\n",
       "8  Output_rep2 Output\n",
       "9  Output_rep3 Output\n",
       "10 Output_rep4 Output\n",
       "   FPath                                                                                                                                                                     \n",
       "1  /mount/work/out/proj_combeffect_encode_fcc/KS91_K562_ASTARRseq/coverage_astarrseq_peak_macs_input/KS91_K562_hg38_ASTARRseq_Input_rep1.masked.dedup.fragments.counts.txt.gz\n",
       "2  /mount/work/out/proj_combeffect_encode_fcc/KS91_K562_ASTARRseq/coverage_astarrseq_peak_macs_input/KS91_K562_hg38_ASTARRseq_Input_rep2.masked.dedup.fragments.counts.txt.gz\n",
       "3  /mount/work/out/proj_combeffect_encode_fcc/KS91_K562_ASTARRseq/coverage_astarrseq_peak_macs_input/KS91_K562_hg38_ASTARRseq_Input_rep3.masked.dedup.fragments.counts.txt.gz\n",
       "4  /mount/work/out/proj_combeffect_encode_fcc/KS91_K562_ASTARRseq/coverage_astarrseq_peak_macs_input/KS91_K562_hg38_ASTARRseq_Input_rep4.masked.dedup.fragments.counts.txt.gz\n",
       "5  /mount/work/out/proj_combeffect_encode_fcc/KS91_K562_ASTARRseq/coverage_astarrseq_peak_macs_input/KS91_K562_hg38_ASTARRseq_Input_rep5.masked.dedup.fragments.counts.txt.gz\n",
       "6  /mount/work/out/proj_combeffect_encode_fcc/KS91_K562_ASTARRseq/coverage_astarrseq_peak_macs_input/KS91_K562_hg38_ASTARRseq_Input_rep6.masked.dedup.fragments.counts.txt.gz\n",
       "7  /mount/work/out/proj_combeffect_encode_fcc/KS91_K562_ASTARRseq/coverage_astarrseq_peak_macs_input/KS91_K562_hg38_ASTARRseq_Output_rep1.f3q10.fragments.counts.txt.gz      \n",
       "8  /mount/work/out/proj_combeffect_encode_fcc/KS91_K562_ASTARRseq/coverage_astarrseq_peak_macs_input/KS91_K562_hg38_ASTARRseq_Output_rep2.f3q10.fragments.counts.txt.gz      \n",
       "9  /mount/work/out/proj_combeffect_encode_fcc/KS91_K562_ASTARRseq/coverage_astarrseq_peak_macs_input/KS91_K562_hg38_ASTARRseq_Output_rep3.f3q10.fragments.counts.txt.gz      \n",
       "10 /mount/work/out/proj_combeffect_encode_fcc/KS91_K562_ASTARRseq/coverage_astarrseq_peak_macs_input/KS91_K562_hg38_ASTARRseq_Output_rep4.f3q10.fragments.counts.txt.gz      "
      ]
     },
     "metadata": {},
     "output_type": "display_data"
    }
   ],
   "source": [
    "dat_meta"
   ]
  },
  {
   "cell_type": "code",
   "execution_count": 6,
   "id": "9ee948cb",
   "metadata": {},
   "outputs": [
    {
     "data": {
      "text/html": [
       "<table class=\"dataframe\">\n",
       "<caption>A tibble: 10 × 3</caption>\n",
       "<thead>\n",
       "\t<tr><th scope=col>Sample</th><th scope=col>Group</th><th scope=col>Size</th></tr>\n",
       "\t<tr><th scope=col>&lt;chr&gt;</th><th scope=col>&lt;chr&gt;</th><th scope=col>&lt;dbl&gt;</th></tr>\n",
       "</thead>\n",
       "<tbody>\n",
       "\t<tr><td>Input_rep1 </td><td>Input </td><td>348695063</td></tr>\n",
       "\t<tr><td>Input_rep2 </td><td>Input </td><td>451369741</td></tr>\n",
       "\t<tr><td>Input_rep3 </td><td>Input </td><td>487579055</td></tr>\n",
       "\t<tr><td>Input_rep4 </td><td>Input </td><td>456246254</td></tr>\n",
       "\t<tr><td>Input_rep5 </td><td>Input </td><td>444268950</td></tr>\n",
       "\t<tr><td>Input_rep6 </td><td>Input </td><td>397333562</td></tr>\n",
       "\t<tr><td>Output_rep1</td><td>Output</td><td> 44103844</td></tr>\n",
       "\t<tr><td>Output_rep2</td><td>Output</td><td> 97471282</td></tr>\n",
       "\t<tr><td>Output_rep3</td><td>Output</td><td> 84103298</td></tr>\n",
       "\t<tr><td>Output_rep4</td><td>Output</td><td>183115379</td></tr>\n",
       "</tbody>\n",
       "</table>\n"
      ],
      "text/latex": [
       "A tibble: 10 × 3\n",
       "\\begin{tabular}{lll}\n",
       " Sample & Group & Size\\\\\n",
       " <chr> & <chr> & <dbl>\\\\\n",
       "\\hline\n",
       "\t Input\\_rep1  & Input  & 348695063\\\\\n",
       "\t Input\\_rep2  & Input  & 451369741\\\\\n",
       "\t Input\\_rep3  & Input  & 487579055\\\\\n",
       "\t Input\\_rep4  & Input  & 456246254\\\\\n",
       "\t Input\\_rep5  & Input  & 444268950\\\\\n",
       "\t Input\\_rep6  & Input  & 397333562\\\\\n",
       "\t Output\\_rep1 & Output &  44103844\\\\\n",
       "\t Output\\_rep2 & Output &  97471282\\\\\n",
       "\t Output\\_rep3 & Output &  84103298\\\\\n",
       "\t Output\\_rep4 & Output & 183115379\\\\\n",
       "\\end{tabular}\n"
      ],
      "text/markdown": [
       "\n",
       "A tibble: 10 × 3\n",
       "\n",
       "| Sample &lt;chr&gt; | Group &lt;chr&gt; | Size &lt;dbl&gt; |\n",
       "|---|---|---|\n",
       "| Input_rep1  | Input  | 348695063 |\n",
       "| Input_rep2  | Input  | 451369741 |\n",
       "| Input_rep3  | Input  | 487579055 |\n",
       "| Input_rep4  | Input  | 456246254 |\n",
       "| Input_rep5  | Input  | 444268950 |\n",
       "| Input_rep6  | Input  | 397333562 |\n",
       "| Output_rep1 | Output |  44103844 |\n",
       "| Output_rep2 | Output |  97471282 |\n",
       "| Output_rep3 | Output |  84103298 |\n",
       "| Output_rep4 | Output | 183115379 |\n",
       "\n"
      ],
      "text/plain": [
       "   Sample      Group  Size     \n",
       "1  Input_rep1  Input  348695063\n",
       "2  Input_rep2  Input  451369741\n",
       "3  Input_rep3  Input  487579055\n",
       "4  Input_rep4  Input  456246254\n",
       "5  Input_rep5  Input  444268950\n",
       "6  Input_rep6  Input  397333562\n",
       "7  Output_rep1 Output  44103844\n",
       "8  Output_rep2 Output  97471282\n",
       "9  Output_rep3 Output  84103298\n",
       "10 Output_rep4 Output 183115379"
      ]
     },
     "metadata": {},
     "output_type": "display_data"
    }
   ],
   "source": [
    "dat_lib"
   ]
  },
  {
   "cell_type": "markdown",
   "id": "df33afea",
   "metadata": {},
   "source": [
    "## Calculate CPM for each sample"
   ]
  },
  {
   "cell_type": "code",
   "execution_count": 8,
   "id": "e7a30c50",
   "metadata": {},
   "outputs": [
    {
     "data": {
      "text/html": [
       "TRUE"
      ],
      "text/latex": [
       "TRUE"
      ],
      "text/markdown": [
       "TRUE"
      ],
      "text/plain": [
       "[1] TRUE"
      ]
     },
     "metadata": {},
     "output_type": "display_data"
    }
   ],
   "source": [
    "mat = dat_count %>% dplyr::select(-Chrom, -Start, -End, -Peak)\n",
    "all(colnames(mat) == dat_lib$Sample)"
   ]
  },
  {
   "cell_type": "code",
   "execution_count": 15,
   "id": "0f66692e",
   "metadata": {},
   "outputs": [
    {
     "data": {
      "text/html": [
       "<table class=\"dataframe\">\n",
       "<caption>A data.frame: 6 × 3</caption>\n",
       "<thead>\n",
       "\t<tr><th></th><th scope=col>Peak</th><th scope=col>Input</th><th scope=col>Output</th></tr>\n",
       "\t<tr><th></th><th scope=col>&lt;chr&gt;</th><th scope=col>&lt;dbl&gt;</th><th scope=col>&lt;dbl&gt;</th></tr>\n",
       "</thead>\n",
       "<tbody>\n",
       "\t<tr><th scope=row>1</th><td>chr1_10015_10442</td><td>0.4863317</td><td>0.09736537</td></tr>\n",
       "\t<tr><th scope=row>2</th><td>chr1_14253_14645</td><td>0.3152472</td><td>0.27902967</td></tr>\n",
       "\t<tr><th scope=row>3</th><td>chr1_16015_16477</td><td>0.4361424</td><td>0.15900628</td></tr>\n",
       "\t<tr><th scope=row>4</th><td>chr1_17237_17772</td><td>0.8007562</td><td>0.22194085</td></tr>\n",
       "\t<tr><th scope=row>5</th><td>chr1_28903_29613</td><td>0.7629703</td><td>0.16679463</td></tr>\n",
       "\t<tr><th scope=row>6</th><td>chr1_30803_31072</td><td>0.2774187</td><td>0.21678565</td></tr>\n",
       "</tbody>\n",
       "</table>\n"
      ],
      "text/latex": [
       "A data.frame: 6 × 3\n",
       "\\begin{tabular}{r|lll}\n",
       "  & Peak & Input & Output\\\\\n",
       "  & <chr> & <dbl> & <dbl>\\\\\n",
       "\\hline\n",
       "\t1 & chr1\\_10015\\_10442 & 0.4863317 & 0.09736537\\\\\n",
       "\t2 & chr1\\_14253\\_14645 & 0.3152472 & 0.27902967\\\\\n",
       "\t3 & chr1\\_16015\\_16477 & 0.4361424 & 0.15900628\\\\\n",
       "\t4 & chr1\\_17237\\_17772 & 0.8007562 & 0.22194085\\\\\n",
       "\t5 & chr1\\_28903\\_29613 & 0.7629703 & 0.16679463\\\\\n",
       "\t6 & chr1\\_30803\\_31072 & 0.2774187 & 0.21678565\\\\\n",
       "\\end{tabular}\n"
      ],
      "text/markdown": [
       "\n",
       "A data.frame: 6 × 3\n",
       "\n",
       "| <!--/--> | Peak &lt;chr&gt; | Input &lt;dbl&gt; | Output &lt;dbl&gt; |\n",
       "|---|---|---|---|\n",
       "| 1 | chr1_10015_10442 | 0.4863317 | 0.09736537 |\n",
       "| 2 | chr1_14253_14645 | 0.3152472 | 0.27902967 |\n",
       "| 3 | chr1_16015_16477 | 0.4361424 | 0.15900628 |\n",
       "| 4 | chr1_17237_17772 | 0.8007562 | 0.22194085 |\n",
       "| 5 | chr1_28903_29613 | 0.7629703 | 0.16679463 |\n",
       "| 6 | chr1_30803_31072 | 0.2774187 | 0.21678565 |\n",
       "\n"
      ],
      "text/plain": [
       "  Peak             Input     Output    \n",
       "1 chr1_10015_10442 0.4863317 0.09736537\n",
       "2 chr1_14253_14645 0.3152472 0.27902967\n",
       "3 chr1_16015_16477 0.4361424 0.15900628\n",
       "4 chr1_17237_17772 0.8007562 0.22194085\n",
       "5 chr1_28903_29613 0.7629703 0.16679463\n",
       "6 chr1_30803_31072 0.2774187 0.21678565"
      ]
     },
     "metadata": {},
     "output_type": "display_data"
    }
   ],
   "source": [
    "### init\n",
    "size  = dat_lib$Size\n",
    "group = dat_lib$Group\n",
    "peak  = dat_count$Peak\n",
    "\n",
    "### CPM\n",
    "mat = dat_count %>% dplyr::select(-Chrom, -Start, -End, -Peak)\n",
    "mat = apply(mat, 1, function(x){\n",
    "    y = x * 10^6 / size\n",
    "    y = tapply(y, group, mean)\n",
    "    return(y)\n",
    "})\n",
    "\n",
    "### arrange\n",
    "mat = t(mat)\n",
    "rownames(mat) = peak\n",
    "dat_cpm = as.data.frame(mat) %>% rownames_to_column(var = \"Peak\")\n",
    "head(dat_cpm)"
   ]
  },
  {
   "cell_type": "markdown",
   "id": "232f9362",
   "metadata": {},
   "source": [
    "## Save the table"
   ]
  },
  {
   "cell_type": "code",
   "execution_count": 16,
   "id": "e8cf2261",
   "metadata": {},
   "outputs": [
    {
     "name": "stdout",
     "output_type": "stream",
     "text": [
      "[1] \"/mount/work/out/proj_combeffect_encode_fcc/KS91_K562_ASTARRseq/coverage_astarrseq_peak_macs_input/summary/wgs_summary_cpm.tsv\"\n"
     ]
    }
   ],
   "source": [
    "fdiry = file.path(FD_RES, PREFIX, FOLDER, \"summary\")\n",
    "fname = \"wgs_summary_cpm.tsv\"\n",
    "fpath = file.path(fdiry, fname)\n",
    "print(fpath)\n",
    "\n",
    "write_tsv(dat_cpm, fpath)"
   ]
  },
  {
   "cell_type": "code",
   "execution_count": null,
   "id": "4858972c",
   "metadata": {},
   "outputs": [],
   "source": []
  }
 ],
 "metadata": {
  "kernelspec": {
   "display_name": "R (alex_py3)",
   "language": "R",
   "name": "ir_alex_py3"
  },
  "language_info": {
   "codemirror_mode": "r",
   "file_extension": ".r",
   "mimetype": "text/x-r-source",
   "name": "R",
   "pygments_lexer": "r",
   "version": "3.6.2"
  }
 },
 "nbformat": 4,
 "nbformat_minor": 5
}
