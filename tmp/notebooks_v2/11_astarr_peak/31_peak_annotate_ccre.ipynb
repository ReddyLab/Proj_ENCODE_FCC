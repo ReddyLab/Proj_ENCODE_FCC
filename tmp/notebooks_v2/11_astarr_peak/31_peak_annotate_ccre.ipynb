{
 "cells": [
  {
   "cell_type": "code",
   "execution_count": 4,
   "id": "4f868f4b-4e8d-46fa-b28f-690de8e51e0c",
   "metadata": {},
   "outputs": [],
   "source": [
    "### set env\n",
    "source ../config/config_duke.sh\n",
    "source ../config/config_load_module_bedtools.sh"
   ]
  },
  {
   "cell_type": "markdown",
   "id": "863f749d-192b-4e59-8772-5df510d86b7a",
   "metadata": {},
   "source": [
    "**TEST**"
   ]
  },
  {
   "cell_type": "code",
   "execution_count": 6,
   "id": "ae1366f3-6c4a-437c-b829-829fec5af1a4",
   "metadata": {},
   "outputs": [
    {
     "name": "stdout",
     "output_type": "stream",
     "text": [
      "\u001b[0m\u001b[38;5;27mannotation_cCREs\u001b[0m  \u001b[38;5;27mannotation_remap2022\u001b[0m  \u001b[38;5;27mKS91_K562_astarrseq_peak_macs\u001b[0m\n"
     ]
    }
   ],
   "source": [
    "ls ${FD_RES}/region"
   ]
  },
  {
   "cell_type": "code",
   "execution_count": 8,
   "id": "bd43b751-941c-4bc3-a830-8e5d47c1db61",
   "metadata": {},
   "outputs": [
    {
     "name": "stdout",
     "output_type": "stream",
     "text": [
      "KS91_K562_hg38_ASTARRseq_Input.all_reps.masked.union_narrowPeak.q5.bed\n",
      "\u001b[0m\u001b[38;5;9mKS91_K562_hg38_ASTARRseq_Input.all_reps.masked.union_narrowPeak.q5.nuc.bed.gz\u001b[0m\n"
     ]
    }
   ],
   "source": [
    "ls ${FD_RES}/region/KS91_K562_astarrseq_peak_macs"
   ]
  },
  {
   "cell_type": "code",
   "execution_count": 7,
   "id": "da22020d-5ab3-4fec-b66c-c8fa4a929aa1",
   "metadata": {},
   "outputs": [
    {
     "name": "stdout",
     "output_type": "stream",
     "text": [
      "ENCFF971AHO_ENCFF847JMY_ENCFF779QTH_ENCFF405AYC.7group.bed\n"
     ]
    }
   ],
   "source": [
    "ls ${FD_RES}/region/annotation_cCREs"
   ]
  },
  {
   "cell_type": "markdown",
   "id": "19b12aed-0cd1-4e33-814a-664541bcc562",
   "metadata": {},
   "source": [
    "## Annotation with CCRE"
   ]
  },
  {
   "cell_type": "code",
   "execution_count": 16,
   "id": "4d28b50e-06bd-4f27-a363-a54c4c0a452a",
   "metadata": {},
   "outputs": [
    {
     "name": "stdout",
     "output_type": "stream",
     "text": [
      "Submitted batch job 29160136\n"
     ]
    }
   ],
   "source": [
    "sbatch -p ${NODE} \\\n",
    "    --exclude=dl-01 \\\n",
    "    --cpus-per-task 8 \\\n",
    "    --mem 20G \\\n",
    "    --output ${FD_LOG}/annotation_astarr_peak_macs_input_ccre.txt \\\n",
    "    --array 0 \\\n",
    "    <<'EOF'\n",
    "#!/bin/bash\n",
    "### set directories & global variables\n",
    "source ../config/config_duke.sh\n",
    "\n",
    "### set input and output\n",
    "FD_BED=${FD_RES}/region/KS91_K562_astarrseq_peak_macs\n",
    "FN_BED=KS91_K562_hg38_ASTARRseq_Input.all_reps.masked.union_narrowPeak.q5.bed\n",
    "FP_BED=${FD_BED}/${FN_BED}\n",
    "\n",
    "FD_ANN=${FD_RES}/region/annotation_cCREs\n",
    "FN_ANN=ENCFF971AHO_ENCFF847JMY_ENCFF779QTH_ENCFF405AYC.7group.bed\n",
    "FP_ANN=${FD_ANN}/${FN_ANN}\n",
    "\n",
    "FD_OUT=${FD_RES}/region/KS91_K562_astarrseq_peak_macs\n",
    "FN_OUT=KS91_K562_hg38_ASTARRseq_Input.all_reps.masked.union_narrowPeak.q5.ccre_all.bed.gz\n",
    "FP_OUT=${FD_OUT}/${FN_OUT}\n",
    "\n",
    "### print start message\n",
    "timer_start=`date +%s`\n",
    "echo \"Hostname:          \" $(hostname)\n",
    "echo \"Slurm Array Index: \" ${SLURM_ARRAY_TASK_ID}\n",
    "echo \"Time Stamp:        \" $(date +\"%m-%d-%y+%T\")\n",
    "echo\n",
    "\n",
    "### show I/O file\n",
    "echo \"Input: \" ${FP_BED}\n",
    "echo\n",
    "echo \"show first few lines of input\"\n",
    "cat ${FP_BED} | head -5\n",
    "echo\n",
    "echo \"Input: \" ${FP_ANN}\n",
    "echo\n",
    "echo \"show first few lines of input\"\n",
    "cat ${FP_ANN} | head -5\n",
    "echo\n",
    "\n",
    "### init: create output folder if not exist\n",
    "mkdir -p ${FD_OUT}\n",
    "\n",
    "### annotation using intersect\n",
    "bedtools intersect -a ${FP_BED} -b ${FP_ANN} -wo -F 1.0 | gzip -c > ${FP_OUT}\n",
    "\n",
    "### show output file\n",
    "echo\n",
    "echo \"Output: \" ${FP_OUT}\n",
    "echo\n",
    "echo \"show first few lines of output:\"\n",
    "zcat ${FP_OUT} | head -5\n",
    "echo\n",
    "\n",
    "### print end message\n",
    "timer=`date +%s`\n",
    "runtime=$(echo \"${timer} - ${timer_start}\" | bc -l)\n",
    "echo\n",
    "echo 'Done!'\n",
    "echo \"Run Time: $(displaytime ${runtime})\"\n",
    "\n",
    "EOF"
   ]
  },
  {
   "cell_type": "markdown",
   "id": "d77621d9-980c-48d9-85aa-a6e875a70a67",
   "metadata": {},
   "source": [
    "**CHECK**"
   ]
  },
  {
   "cell_type": "code",
   "execution_count": 19,
   "id": "03034d88-82a3-4754-a971-0ca2da3b62c6",
   "metadata": {},
   "outputs": [
    {
     "name": "stdout",
     "output_type": "stream",
     "text": [
      "Hostname:           x1-01-3.genome.duke.edu\n",
      "Slurm Array Index:  0\n",
      "Time Stamp:         10-17-22+10:27:28\n",
      "\n",
      "Input:  /gpfs/fs1/data/reddylab/Kuei/out/proj_combeffect_encode_fcc/region/KS91_K562_astarrseq_peak_macs/KS91_K562_hg38_ASTARRseq_Input.all_reps.masked.union_narrowPeak.q5.bed\n",
      "\n",
      "show first few lines of input\n",
      "chr1\t10015\t10442\n",
      "chr1\t14253\t14645\n",
      "chr1\t16015\t16477\n",
      "chr1\t17237\t17772\n",
      "chr1\t28903\t29613\n",
      "\n",
      "Input:  /gpfs/fs1/data/reddylab/Kuei/out/proj_combeffect_encode_fcc/region/annotation_cCREs/ENCFF971AHO_ENCFF847JMY_ENCFF779QTH_ENCFF405AYC.7group.bed\n",
      "\n",
      "show first few lines of input\n",
      "chr1\t181251\t181601\tEH38E1310153\t0\t.\t181251\t181601\t6,218,147\tDNase-only\tAll-data/Full-classification\n",
      "chr1\t190865\t191071\tEH38E1310154\t0\t.\t190865\t191071\t225,225,225\tLow-DNase\tAll-data/Full-classification\n",
      "chr1\t778562\t778912\tEH38E1310158\t0\t.\t778562\t778912\t255,0,0\tPLS,CTCF-bound\tAll-data/Full-classification\n",
      "chr1\t779086\t779355\tEH38E1310159\t0\t.\t779086\t779355\t255,0,0\tPLS\tAll-data/Full-classification\n",
      "chr1\t779727\t780060\tEH38E1310160\t0\t.\t779727\t780060\t225,225,225\tLow-DNase\tAll-data/Full-classification\n",
      "\n",
      "\n",
      "Output:  /gpfs/fs1/data/reddylab/Kuei/out/proj_combeffect_encode_fcc/region/KS91_K562_astarrseq_peak_macs/KS91_K562_hg38_ASTARRseq_Input.all_reps.masked.union_narrowPeak.q5.ccre_all.bed.gz\n",
      "\n",
      "show first few lines of output:\n",
      "chr1\t180982\t182087\tchr1\t181251\t181601\tEH38E1310153\t0\t.\t181251\t181601\t6,218,147\tDNase-only\tAll-data/Full-classification\t350\n",
      "chr1\t777949\t779437\tchr1\t778562\t778912\tEH38E1310158\t0\t.\t778562\t778912\t255,0,0\tPLS,CTCF-bound\tAll-data/Full-classification\t350\n",
      "chr1\t777949\t779437\tchr1\t779086\t779355\tEH38E1310159\t0\t.\t779086\t779355\t255,0,0\tPLS\tAll-data/Full-classification\t269\n",
      "chr1\t816774\t817547\tchr1\t817080\t817403\tEH38E1310166\t0\t.\t817080\t817403\t225,225,225\tLow-DNase\tAll-data/Full-classification\t323\n",
      "chr1\t818602\t819380\tchr1\t818718\t818872\tEH38E1310168\t0\t.\t818718\t818872\t225,225,225\tLow-DNase\tAll-data/Full-classification\t154\n",
      "\n",
      "\n",
      "Done!\n",
      "Run Time: 3 seconds\n"
     ]
    }
   ],
   "source": [
    "cat ${FD_LOG}/annotation_astarr_peak_macs_input_ccre.txt"
   ]
  },
  {
   "cell_type": "code",
   "execution_count": null,
   "id": "00dc5933-8438-4b06-abb3-3034689c0cf1",
   "metadata": {},
   "outputs": [],
   "source": []
  }
 ],
 "metadata": {
  "kernelspec": {
   "display_name": "Bash",
   "language": "bash",
   "name": "bash"
  },
  "language_info": {
   "codemirror_mode": "shell",
   "file_extension": ".sh",
   "mimetype": "text/x-sh",
   "name": "bash"
  }
 },
 "nbformat": 4,
 "nbformat_minor": 5
}
