{
 "cells": [
  {
   "cell_type": "markdown",
   "id": "cb2057b9",
   "metadata": {},
   "source": [
    "**Set environment**"
   ]
  },
  {
   "cell_type": "code",
   "execution_count": null,
   "id": "eda09ace",
   "metadata": {},
   "outputs": [],
   "source": [
    "suppressMessages(suppressWarnings(source(\"../config/config_sing.R\")))\n",
    "show_env()"
   ]
  },
  {
   "cell_type": "code",
   "execution_count": 2,
   "id": "21abf10a",
   "metadata": {},
   "outputs": [
    {
     "name": "stderr",
     "output_type": "stream",
     "text": [
      "Loading required package: S4Vectors\n",
      "\n",
      "Loading required package: stats4\n",
      "\n",
      "Loading required package: BiocGenerics\n",
      "\n",
      "\n",
      "Attaching package: ‘BiocGenerics’\n",
      "\n",
      "\n",
      "The following object is masked from ‘package:gridExtra’:\n",
      "\n",
      "    combine\n",
      "\n",
      "\n",
      "The following objects are masked from ‘package:dplyr’:\n",
      "\n",
      "    combine, intersect, setdiff, union\n",
      "\n",
      "\n",
      "The following objects are masked from ‘package:stats’:\n",
      "\n",
      "    IQR, mad, sd, var, xtabs\n",
      "\n",
      "\n",
      "The following objects are masked from ‘package:base’:\n",
      "\n",
      "    anyDuplicated, append, as.data.frame, basename, cbind, colnames,\n",
      "    dirname, do.call, duplicated, eval, evalq, Filter, Find, get, grep,\n",
      "    grepl, intersect, is.unsorted, lapply, Map, mapply, match, mget,\n",
      "    order, paste, pmax, pmax.int, pmin, pmin.int, Position, rank,\n",
      "    rbind, Reduce, rownames, sapply, setdiff, sort, table, tapply,\n",
      "    union, unique, unsplit, which.max, which.min\n",
      "\n",
      "\n",
      "\n",
      "Attaching package: ‘S4Vectors’\n",
      "\n",
      "\n",
      "The following objects are masked from ‘package:dplyr’:\n",
      "\n",
      "    first, rename\n",
      "\n",
      "\n",
      "The following object is masked from ‘package:tidyr’:\n",
      "\n",
      "    expand\n",
      "\n",
      "\n",
      "The following objects are masked from ‘package:base’:\n",
      "\n",
      "    expand.grid, I, unname\n",
      "\n",
      "\n",
      "Loading required package: IRanges\n",
      "\n",
      "\n",
      "Attaching package: ‘IRanges’\n",
      "\n",
      "\n",
      "The following objects are masked from ‘package:dplyr’:\n",
      "\n",
      "    collapse, desc, slice\n",
      "\n",
      "\n",
      "The following object is masked from ‘package:purrr’:\n",
      "\n",
      "    reduce\n",
      "\n",
      "\n",
      "Loading required package: GenomicRanges\n",
      "\n",
      "Loading required package: GenomeInfoDb\n",
      "\n",
      "Loading required package: SummarizedExperiment\n",
      "\n",
      "Loading required package: MatrixGenerics\n",
      "\n",
      "Loading required package: matrixStats\n",
      "\n",
      "\n",
      "Attaching package: ‘matrixStats’\n",
      "\n",
      "\n",
      "The following object is masked from ‘package:dplyr’:\n",
      "\n",
      "    count\n",
      "\n",
      "\n",
      "\n",
      "Attaching package: ‘MatrixGenerics’\n",
      "\n",
      "\n",
      "The following objects are masked from ‘package:matrixStats’:\n",
      "\n",
      "    colAlls, colAnyNAs, colAnys, colAvgsPerRowSet, colCollapse,\n",
      "    colCounts, colCummaxs, colCummins, colCumprods, colCumsums,\n",
      "    colDiffs, colIQRDiffs, colIQRs, colLogSumExps, colMadDiffs,\n",
      "    colMads, colMaxs, colMeans2, colMedians, colMins, colOrderStats,\n",
      "    colProds, colQuantiles, colRanges, colRanks, colSdDiffs, colSds,\n",
      "    colSums2, colTabulates, colVarDiffs, colVars, colWeightedMads,\n",
      "    colWeightedMeans, colWeightedMedians, colWeightedSds,\n",
      "    colWeightedVars, rowAlls, rowAnyNAs, rowAnys, rowAvgsPerColSet,\n",
      "    rowCollapse, rowCounts, rowCummaxs, rowCummins, rowCumprods,\n",
      "    rowCumsums, rowDiffs, rowIQRDiffs, rowIQRs, rowLogSumExps,\n",
      "    rowMadDiffs, rowMads, rowMaxs, rowMeans2, rowMedians, rowMins,\n",
      "    rowOrderStats, rowProds, rowQuantiles, rowRanges, rowRanks,\n",
      "    rowSdDiffs, rowSds, rowSums2, rowTabulates, rowVarDiffs, rowVars,\n",
      "    rowWeightedMads, rowWeightedMeans, rowWeightedMedians,\n",
      "    rowWeightedSds, rowWeightedVars\n",
      "\n",
      "\n",
      "Loading required package: Biobase\n",
      "\n",
      "Welcome to Bioconductor\n",
      "\n",
      "    Vignettes contain introductory material; view with\n",
      "    'browseVignettes()'. To cite Bioconductor, see\n",
      "    'citation(\"Biobase\")', and for packages 'citation(\"pkgname\")'.\n",
      "\n",
      "\n",
      "\n",
      "Attaching package: ‘Biobase’\n",
      "\n",
      "\n",
      "The following object is masked from ‘package:MatrixGenerics’:\n",
      "\n",
      "    rowMedians\n",
      "\n",
      "\n",
      "The following objects are masked from ‘package:matrixStats’:\n",
      "\n",
      "    anyMissing, rowMedians\n",
      "\n",
      "\n"
     ]
    }
   ],
   "source": [
    "library(\"DESeq2\")"
   ]
  },
  {
   "cell_type": "markdown",
   "id": "1e6de956",
   "metadata": {},
   "source": [
    "## Import data"
   ]
  },
  {
   "cell_type": "code",
   "execution_count": 3,
   "id": "f529e8c4",
   "metadata": {},
   "outputs": [],
   "source": [
    "PREFIX = \"KS91_K562_ASTARRseq\"\n",
    "FOLDER = \"coverage_astarrseq_peak_macs_input\""
   ]
  },
  {
   "cell_type": "code",
   "execution_count": 4,
   "id": "f21ecdf9",
   "metadata": {},
   "outputs": [
    {
     "name": "stderr",
     "output_type": "stream",
     "text": [
      "\u001b[1mRows: \u001b[22m\u001b[34m246852\u001b[39m \u001b[1mColumns: \u001b[22m\u001b[34m13\u001b[39m\n",
      "\u001b[36m──\u001b[39m \u001b[1mColumn specification\u001b[22m \u001b[36m──────────────────────────────────────────────────────────────────────────────────────────────────────────────────────────────────────────────────────────────────────\u001b[39m\n",
      "\u001b[1mDelimiter:\u001b[22m \"\\t\"\n",
      "\u001b[31mchr\u001b[39m  (1): Chrom\n",
      "\u001b[32mdbl\u001b[39m (12): Start, End, Input_rep1, Input_rep2, Input_rep3, Input_rep4, Input_...\n",
      "\n",
      "\u001b[36mℹ\u001b[39m Use `spec()` to retrieve the full column specification for this data.\n",
      "\u001b[36mℹ\u001b[39m Specify the column types or set `show_col_types = FALSE` to quiet this message.\n",
      "\u001b[1mRows: \u001b[22m\u001b[34m10\u001b[39m \u001b[1mColumns: \u001b[22m\u001b[34m3\u001b[39m\n",
      "\u001b[36m──\u001b[39m \u001b[1mColumn specification\u001b[22m \u001b[36m──────────────────────────────────────────────────────────────────────────────────────────────────────────────────────────────────────────────────────────────────────\u001b[39m\n",
      "\u001b[1mDelimiter:\u001b[22m \"\\t\"\n",
      "\u001b[31mchr\u001b[39m (3): Sample, Group, FPath\n",
      "\n",
      "\u001b[36mℹ\u001b[39m Use `spec()` to retrieve the full column specification for this data.\n",
      "\u001b[36mℹ\u001b[39m Specify the column types or set `show_col_types = FALSE` to quiet this message.\n"
     ]
    }
   ],
   "source": [
    "fdiry = file.path(FD_RES, PREFIX, FOLDER, \"summary\")\n",
    "\n",
    "fname = \"wgs_count_matrix.tsv\"\n",
    "fpath = file.path(fdiry, fname)\n",
    "dat_count = read_tsv(fpath)\n",
    "\n",
    "fname = \"wgs_metadata.tsv\"\n",
    "fpath = file.path(fdiry, fname)\n",
    "dat_meta = read_tsv(fpath)"
   ]
  },
  {
   "cell_type": "markdown",
   "id": "cc6e2c1a",
   "metadata": {},
   "source": [
    "**Arrange count matrix and metadata**"
   ]
  },
  {
   "cell_type": "code",
   "execution_count": 5,
   "id": "61f2d8f8",
   "metadata": {},
   "outputs": [],
   "source": [
    "dat_col = dat_meta  %>% \n",
    "    dplyr::select(Sample, Group) %>% \n",
    "    dplyr::rename(condition = Group) %>%\n",
    "    column_to_rownames(var = \"Sample\")\n",
    "\n",
    "dat_cnt = dat_count %>% \n",
    "    dplyr::mutate(Peak = paste(Chrom, Start, End, sep = \"_\")) %>%\n",
    "    dplyr::select(-Chrom, -Start, -End) %>%\n",
    "    column_to_rownames(var = \"Peak\")\n",
    "\n",
    "dat_cnt[is.na(dat_cnt)] = 0"
   ]
  },
  {
   "cell_type": "code",
   "execution_count": 6,
   "id": "9c04c3a8",
   "metadata": {},
   "outputs": [
    {
     "data": {
      "text/html": [
       "<table class=\"dataframe\">\n",
       "<caption>A data.frame: 6 × 10</caption>\n",
       "<thead>\n",
       "\t<tr><th></th><th scope=col>Input_rep1</th><th scope=col>Input_rep2</th><th scope=col>Input_rep3</th><th scope=col>Input_rep4</th><th scope=col>Input_rep5</th><th scope=col>Input_rep6</th><th scope=col>Output_rep1</th><th scope=col>Output_rep2</th><th scope=col>Output_rep3</th><th scope=col>Output_rep4</th></tr>\n",
       "\t<tr><th></th><th scope=col>&lt;dbl&gt;</th><th scope=col>&lt;dbl&gt;</th><th scope=col>&lt;dbl&gt;</th><th scope=col>&lt;dbl&gt;</th><th scope=col>&lt;dbl&gt;</th><th scope=col>&lt;dbl&gt;</th><th scope=col>&lt;dbl&gt;</th><th scope=col>&lt;dbl&gt;</th><th scope=col>&lt;dbl&gt;</th><th scope=col>&lt;dbl&gt;</th></tr>\n",
       "</thead>\n",
       "<tbody>\n",
       "\t<tr><th scope=row>chr1_10015_10442</th><td>155</td><td>214</td><td>257</td><td>236</td><td>185</td><td>214</td><td> 7</td><td>12</td><td> 4</td><td>11</td></tr>\n",
       "\t<tr><th scope=row>chr1_14253_14645</th><td>110</td><td>144</td><td>160</td><td>141</td><td>130</td><td>130</td><td> 8</td><td>26</td><td>30</td><td>57</td></tr>\n",
       "\t<tr><th scope=row>chr1_16015_16477</th><td>141</td><td>208</td><td>206</td><td>190</td><td>202</td><td>182</td><td> 9</td><td> 9</td><td>18</td><td>23</td></tr>\n",
       "\t<tr><th scope=row>chr1_17237_17772</th><td>259</td><td>350</td><td>399</td><td>367</td><td>369</td><td>331</td><td> 7</td><td>13</td><td>23</td><td>59</td></tr>\n",
       "\t<tr><th scope=row>chr1_28903_29613</th><td>263</td><td>338</td><td>368</td><td>333</td><td>352</td><td>317</td><td>12</td><td>18</td><td> 3</td><td>32</td></tr>\n",
       "\t<tr><th scope=row>chr1_30803_31072</th><td> 82</td><td>115</td><td>171</td><td>136</td><td>105</td><td>115</td><td>13</td><td>22</td><td>14</td><td>33</td></tr>\n",
       "</tbody>\n",
       "</table>\n"
      ],
      "text/latex": [
       "A data.frame: 6 × 10\n",
       "\\begin{tabular}{r|llllllllll}\n",
       "  & Input\\_rep1 & Input\\_rep2 & Input\\_rep3 & Input\\_rep4 & Input\\_rep5 & Input\\_rep6 & Output\\_rep1 & Output\\_rep2 & Output\\_rep3 & Output\\_rep4\\\\\n",
       "  & <dbl> & <dbl> & <dbl> & <dbl> & <dbl> & <dbl> & <dbl> & <dbl> & <dbl> & <dbl>\\\\\n",
       "\\hline\n",
       "\tchr1\\_10015\\_10442 & 155 & 214 & 257 & 236 & 185 & 214 &  7 & 12 &  4 & 11\\\\\n",
       "\tchr1\\_14253\\_14645 & 110 & 144 & 160 & 141 & 130 & 130 &  8 & 26 & 30 & 57\\\\\n",
       "\tchr1\\_16015\\_16477 & 141 & 208 & 206 & 190 & 202 & 182 &  9 &  9 & 18 & 23\\\\\n",
       "\tchr1\\_17237\\_17772 & 259 & 350 & 399 & 367 & 369 & 331 &  7 & 13 & 23 & 59\\\\\n",
       "\tchr1\\_28903\\_29613 & 263 & 338 & 368 & 333 & 352 & 317 & 12 & 18 &  3 & 32\\\\\n",
       "\tchr1\\_30803\\_31072 &  82 & 115 & 171 & 136 & 105 & 115 & 13 & 22 & 14 & 33\\\\\n",
       "\\end{tabular}\n"
      ],
      "text/markdown": [
       "\n",
       "A data.frame: 6 × 10\n",
       "\n",
       "| <!--/--> | Input_rep1 &lt;dbl&gt; | Input_rep2 &lt;dbl&gt; | Input_rep3 &lt;dbl&gt; | Input_rep4 &lt;dbl&gt; | Input_rep5 &lt;dbl&gt; | Input_rep6 &lt;dbl&gt; | Output_rep1 &lt;dbl&gt; | Output_rep2 &lt;dbl&gt; | Output_rep3 &lt;dbl&gt; | Output_rep4 &lt;dbl&gt; |\n",
       "|---|---|---|---|---|---|---|---|---|---|---|\n",
       "| chr1_10015_10442 | 155 | 214 | 257 | 236 | 185 | 214 |  7 | 12 |  4 | 11 |\n",
       "| chr1_14253_14645 | 110 | 144 | 160 | 141 | 130 | 130 |  8 | 26 | 30 | 57 |\n",
       "| chr1_16015_16477 | 141 | 208 | 206 | 190 | 202 | 182 |  9 |  9 | 18 | 23 |\n",
       "| chr1_17237_17772 | 259 | 350 | 399 | 367 | 369 | 331 |  7 | 13 | 23 | 59 |\n",
       "| chr1_28903_29613 | 263 | 338 | 368 | 333 | 352 | 317 | 12 | 18 |  3 | 32 |\n",
       "| chr1_30803_31072 |  82 | 115 | 171 | 136 | 105 | 115 | 13 | 22 | 14 | 33 |\n",
       "\n"
      ],
      "text/plain": [
       "                 Input_rep1 Input_rep2 Input_rep3 Input_rep4 Input_rep5\n",
       "chr1_10015_10442 155        214        257        236        185       \n",
       "chr1_14253_14645 110        144        160        141        130       \n",
       "chr1_16015_16477 141        208        206        190        202       \n",
       "chr1_17237_17772 259        350        399        367        369       \n",
       "chr1_28903_29613 263        338        368        333        352       \n",
       "chr1_30803_31072  82        115        171        136        105       \n",
       "                 Input_rep6 Output_rep1 Output_rep2 Output_rep3 Output_rep4\n",
       "chr1_10015_10442 214         7          12           4          11         \n",
       "chr1_14253_14645 130         8          26          30          57         \n",
       "chr1_16015_16477 182         9           9          18          23         \n",
       "chr1_17237_17772 331         7          13          23          59         \n",
       "chr1_28903_29613 317        12          18           3          32         \n",
       "chr1_30803_31072 115        13          22          14          33         "
      ]
     },
     "metadata": {},
     "output_type": "display_data"
    }
   ],
   "source": [
    "head(dat_cnt)"
   ]
  },
  {
   "cell_type": "code",
   "execution_count": 7,
   "id": "5217576b",
   "metadata": {},
   "outputs": [
    {
     "data": {
      "text/html": [
       "<table class=\"dataframe\">\n",
       "<caption>A data.frame: 10 × 1</caption>\n",
       "<thead>\n",
       "\t<tr><th></th><th scope=col>condition</th></tr>\n",
       "\t<tr><th></th><th scope=col>&lt;chr&gt;</th></tr>\n",
       "</thead>\n",
       "<tbody>\n",
       "\t<tr><th scope=row>Input_rep1</th><td>Input </td></tr>\n",
       "\t<tr><th scope=row>Input_rep2</th><td>Input </td></tr>\n",
       "\t<tr><th scope=row>Input_rep3</th><td>Input </td></tr>\n",
       "\t<tr><th scope=row>Input_rep4</th><td>Input </td></tr>\n",
       "\t<tr><th scope=row>Input_rep5</th><td>Input </td></tr>\n",
       "\t<tr><th scope=row>Input_rep6</th><td>Input </td></tr>\n",
       "\t<tr><th scope=row>Output_rep1</th><td>Output</td></tr>\n",
       "\t<tr><th scope=row>Output_rep2</th><td>Output</td></tr>\n",
       "\t<tr><th scope=row>Output_rep3</th><td>Output</td></tr>\n",
       "\t<tr><th scope=row>Output_rep4</th><td>Output</td></tr>\n",
       "</tbody>\n",
       "</table>\n"
      ],
      "text/latex": [
       "A data.frame: 10 × 1\n",
       "\\begin{tabular}{r|l}\n",
       "  & condition\\\\\n",
       "  & <chr>\\\\\n",
       "\\hline\n",
       "\tInput\\_rep1 & Input \\\\\n",
       "\tInput\\_rep2 & Input \\\\\n",
       "\tInput\\_rep3 & Input \\\\\n",
       "\tInput\\_rep4 & Input \\\\\n",
       "\tInput\\_rep5 & Input \\\\\n",
       "\tInput\\_rep6 & Input \\\\\n",
       "\tOutput\\_rep1 & Output\\\\\n",
       "\tOutput\\_rep2 & Output\\\\\n",
       "\tOutput\\_rep3 & Output\\\\\n",
       "\tOutput\\_rep4 & Output\\\\\n",
       "\\end{tabular}\n"
      ],
      "text/markdown": [
       "\n",
       "A data.frame: 10 × 1\n",
       "\n",
       "| <!--/--> | condition &lt;chr&gt; |\n",
       "|---|---|\n",
       "| Input_rep1 | Input  |\n",
       "| Input_rep2 | Input  |\n",
       "| Input_rep3 | Input  |\n",
       "| Input_rep4 | Input  |\n",
       "| Input_rep5 | Input  |\n",
       "| Input_rep6 | Input  |\n",
       "| Output_rep1 | Output |\n",
       "| Output_rep2 | Output |\n",
       "| Output_rep3 | Output |\n",
       "| Output_rep4 | Output |\n",
       "\n"
      ],
      "text/plain": [
       "            condition\n",
       "Input_rep1  Input    \n",
       "Input_rep2  Input    \n",
       "Input_rep3  Input    \n",
       "Input_rep4  Input    \n",
       "Input_rep5  Input    \n",
       "Input_rep6  Input    \n",
       "Output_rep1 Output   \n",
       "Output_rep2 Output   \n",
       "Output_rep3 Output   \n",
       "Output_rep4 Output   "
      ]
     },
     "metadata": {},
     "output_type": "display_data"
    }
   ],
   "source": [
    "dat_col"
   ]
  },
  {
   "cell_type": "code",
   "execution_count": 8,
   "id": "a77e9e0e",
   "metadata": {},
   "outputs": [
    {
     "name": "stdout",
     "output_type": "stream",
     "text": [
      "[1] TRUE\n",
      "[1] TRUE\n"
     ]
    }
   ],
   "source": [
    "print(all(rownames(dat_col) %in% colnames(dat_cnt)))\n",
    "print(all(rownames(dat_col) ==   colnames(dat_cnt)))"
   ]
  },
  {
   "cell_type": "markdown",
   "id": "39d1faf5",
   "metadata": {},
   "source": [
    "## Run DESeq2"
   ]
  },
  {
   "cell_type": "code",
   "execution_count": 9,
   "id": "e49f3ce1",
   "metadata": {},
   "outputs": [
    {
     "name": "stderr",
     "output_type": "stream",
     "text": [
      "converting counts to integer mode\n",
      "\n",
      "Warning message in DESeqDataSet(se, design = design, ignoreRank):\n",
      "“some variables in design formula are characters, converting to factors”\n"
     ]
    }
   ],
   "source": [
    "dds = DESeqDataSetFromMatrix(\n",
    "    countData = dat_cnt, \n",
    "    colData   = dat_col, \n",
    "    design    = ~condition)"
   ]
  },
  {
   "cell_type": "code",
   "execution_count": 10,
   "id": "be704446",
   "metadata": {},
   "outputs": [],
   "source": [
    "### remove the peaks which have < 10 reads\n",
    "dds = dds[rowSums(counts(dds)) >= 10,]\n",
    "\n",
    "### set control condition as reference\n",
    "dds$condition <- relevel(dds$condition, ref = \"Input\")"
   ]
  },
  {
   "cell_type": "code",
   "execution_count": 11,
   "id": "0a900a77",
   "metadata": {},
   "outputs": [
    {
     "name": "stderr",
     "output_type": "stream",
     "text": [
      "estimating size factors\n",
      "\n",
      "estimating dispersions\n",
      "\n",
      "gene-wise dispersion estimates\n",
      "\n",
      "mean-dispersion relationship\n",
      "\n",
      "final dispersion estimates\n",
      "\n",
      "fitting model and testing\n",
      "\n"
     ]
    }
   ],
   "source": [
    "dds = DESeq(dds)"
   ]
  },
  {
   "cell_type": "markdown",
   "id": "74a23cf4",
   "metadata": {},
   "source": [
    "## Get results"
   ]
  },
  {
   "cell_type": "code",
   "execution_count": 12,
   "id": "9d5b8442",
   "metadata": {},
   "outputs": [
    {
     "data": {
      "text/html": [
       "<style>\n",
       ".list-inline {list-style: none; margin:0; padding: 0}\n",
       ".list-inline>li {display: inline-block}\n",
       ".list-inline>li:not(:last-child)::after {content: \"\\00b7\"; padding: 0 .5ex}\n",
       "</style>\n",
       "<ol class=list-inline><li>'Intercept'</li><li>'condition_Output_vs_Input'</li></ol>\n"
      ],
      "text/latex": [
       "\\begin{enumerate*}\n",
       "\\item 'Intercept'\n",
       "\\item 'condition\\_Output\\_vs\\_Input'\n",
       "\\end{enumerate*}\n"
      ],
      "text/markdown": [
       "1. 'Intercept'\n",
       "2. 'condition_Output_vs_Input'\n",
       "\n",
       "\n"
      ],
      "text/plain": [
       "[1] \"Intercept\"                 \"condition_Output_vs_Input\""
      ]
     },
     "metadata": {},
     "output_type": "display_data"
    }
   ],
   "source": [
    "resultsNames(dds)"
   ]
  },
  {
   "cell_type": "code",
   "execution_count": 13,
   "id": "effb8916",
   "metadata": {},
   "outputs": [
    {
     "data": {
      "text/plain": [
       "log2 fold change (MLE): condition Output vs Input \n",
       "Wald test p-value: condition Output vs Input \n",
       "DataFrame with 246850 rows and 6 columns\n",
       "                          baseMean log2FoldChange     lfcSE      stat\n",
       "                         <numeric>      <numeric> <numeric> <numeric>\n",
       "chr1_10015_10442           71.4038      -2.213613  0.269152  -8.22441\n",
       "chr1_14253_14645           68.6303       0.222186  0.153410   1.44831\n",
       "chr1_16015_16477           71.2541      -1.271295  0.201963  -6.29470\n",
       "chr1_17237_17772          124.0313      -1.385289  0.163863  -8.45396\n",
       "chr1_28903_29613          113.6310      -1.942200  0.188613 -10.29727\n",
       "...                            ...            ...       ...       ...\n",
       "chrX_156000382_156003205 1532.3823       0.468703 0.0375633  12.47767\n",
       "chrX_156009687_156010227   59.3053      -1.562456 0.2365061  -6.60641\n",
       "chrX_156016391_156016836   57.0261      -3.944716 0.4857124  -8.12151\n",
       "chrX_156024950_156025593  164.6780      -0.401819 0.1139605  -3.52595\n",
       "chrX_156030187_156030740   68.7253      -3.683179 0.4071206  -9.04690\n",
       "                              pvalue        padj\n",
       "                           <numeric>   <numeric>\n",
       "chr1_10015_10442         1.96160e-16 2.91069e-15\n",
       "chr1_14253_14645         1.47529e-01 2.17811e-01\n",
       "chr1_16015_16477         3.07999e-10 2.65301e-09\n",
       "chr1_17237_17772         2.81587e-17 4.43189e-16\n",
       "chr1_28903_29613         7.24868e-25 1.72367e-23\n",
       "...                              ...         ...\n",
       "chrX_156000382_156003205 9.88426e-36 3.55261e-34\n",
       "chrX_156009687_156010227 3.93751e-11 3.74527e-10\n",
       "chrX_156016391_156016836 4.60431e-16 6.66261e-15\n",
       "chrX_156024950_156025593 4.21970e-04 1.31635e-03\n",
       "chrX_156030187_156030740 1.47084e-19 2.67087e-18"
      ]
     },
     "metadata": {},
     "output_type": "display_data"
    }
   ],
   "source": [
    "res = results(dds)\n",
    "res"
   ]
  },
  {
   "cell_type": "code",
   "execution_count": 14,
   "id": "1deb57b2",
   "metadata": {},
   "outputs": [
    {
     "data": {
      "text/html": [
       "<table class=\"dataframe\">\n",
       "<caption>A data.frame: 6 × 7</caption>\n",
       "<thead>\n",
       "\t<tr><th></th><th scope=col>Peak</th><th scope=col>baseMean</th><th scope=col>log2FoldChange</th><th scope=col>lfcSE</th><th scope=col>stat</th><th scope=col>pvalue</th><th scope=col>padj</th></tr>\n",
       "\t<tr><th></th><th scope=col>&lt;chr&gt;</th><th scope=col>&lt;dbl&gt;</th><th scope=col>&lt;dbl&gt;</th><th scope=col>&lt;dbl&gt;</th><th scope=col>&lt;dbl&gt;</th><th scope=col>&lt;dbl&gt;</th><th scope=col>&lt;dbl&gt;</th></tr>\n",
       "</thead>\n",
       "<tbody>\n",
       "\t<tr><th scope=row>1</th><td>chr1_10015_10442</td><td> 71.40375</td><td>-2.2136128</td><td>0.2691517</td><td> -8.2244060</td><td>1.961605e-16</td><td>2.910689e-15</td></tr>\n",
       "\t<tr><th scope=row>2</th><td>chr1_14253_14645</td><td> 68.63035</td><td> 0.2221859</td><td>0.1534101</td><td>  1.4483134</td><td>1.475294e-01</td><td>2.178106e-01</td></tr>\n",
       "\t<tr><th scope=row>3</th><td>chr1_16015_16477</td><td> 71.25409</td><td>-1.2712950</td><td>0.2019628</td><td> -6.2946978</td><td>3.079993e-10</td><td>2.653010e-09</td></tr>\n",
       "\t<tr><th scope=row>4</th><td>chr1_17237_17772</td><td>124.03128</td><td>-1.3852891</td><td>0.1638628</td><td> -8.4539594</td><td>2.815873e-17</td><td>4.431894e-16</td></tr>\n",
       "\t<tr><th scope=row>5</th><td>chr1_28903_29613</td><td>113.63103</td><td>-1.9422003</td><td>0.1886131</td><td>-10.2972733</td><td>7.248682e-25</td><td>1.723665e-23</td></tr>\n",
       "\t<tr><th scope=row>6</th><td>chr1_30803_31072</td><td> 57.37875</td><td>-0.1332069</td><td>0.2145692</td><td> -0.6208109</td><td>5.347240e-01</td><td>6.231400e-01</td></tr>\n",
       "</tbody>\n",
       "</table>\n"
      ],
      "text/latex": [
       "A data.frame: 6 × 7\n",
       "\\begin{tabular}{r|lllllll}\n",
       "  & Peak & baseMean & log2FoldChange & lfcSE & stat & pvalue & padj\\\\\n",
       "  & <chr> & <dbl> & <dbl> & <dbl> & <dbl> & <dbl> & <dbl>\\\\\n",
       "\\hline\n",
       "\t1 & chr1\\_10015\\_10442 &  71.40375 & -2.2136128 & 0.2691517 &  -8.2244060 & 1.961605e-16 & 2.910689e-15\\\\\n",
       "\t2 & chr1\\_14253\\_14645 &  68.63035 &  0.2221859 & 0.1534101 &   1.4483134 & 1.475294e-01 & 2.178106e-01\\\\\n",
       "\t3 & chr1\\_16015\\_16477 &  71.25409 & -1.2712950 & 0.2019628 &  -6.2946978 & 3.079993e-10 & 2.653010e-09\\\\\n",
       "\t4 & chr1\\_17237\\_17772 & 124.03128 & -1.3852891 & 0.1638628 &  -8.4539594 & 2.815873e-17 & 4.431894e-16\\\\\n",
       "\t5 & chr1\\_28903\\_29613 & 113.63103 & -1.9422003 & 0.1886131 & -10.2972733 & 7.248682e-25 & 1.723665e-23\\\\\n",
       "\t6 & chr1\\_30803\\_31072 &  57.37875 & -0.1332069 & 0.2145692 &  -0.6208109 & 5.347240e-01 & 6.231400e-01\\\\\n",
       "\\end{tabular}\n"
      ],
      "text/markdown": [
       "\n",
       "A data.frame: 6 × 7\n",
       "\n",
       "| <!--/--> | Peak &lt;chr&gt; | baseMean &lt;dbl&gt; | log2FoldChange &lt;dbl&gt; | lfcSE &lt;dbl&gt; | stat &lt;dbl&gt; | pvalue &lt;dbl&gt; | padj &lt;dbl&gt; |\n",
       "|---|---|---|---|---|---|---|---|\n",
       "| 1 | chr1_10015_10442 |  71.40375 | -2.2136128 | 0.2691517 |  -8.2244060 | 1.961605e-16 | 2.910689e-15 |\n",
       "| 2 | chr1_14253_14645 |  68.63035 |  0.2221859 | 0.1534101 |   1.4483134 | 1.475294e-01 | 2.178106e-01 |\n",
       "| 3 | chr1_16015_16477 |  71.25409 | -1.2712950 | 0.2019628 |  -6.2946978 | 3.079993e-10 | 2.653010e-09 |\n",
       "| 4 | chr1_17237_17772 | 124.03128 | -1.3852891 | 0.1638628 |  -8.4539594 | 2.815873e-17 | 4.431894e-16 |\n",
       "| 5 | chr1_28903_29613 | 113.63103 | -1.9422003 | 0.1886131 | -10.2972733 | 7.248682e-25 | 1.723665e-23 |\n",
       "| 6 | chr1_30803_31072 |  57.37875 | -0.1332069 | 0.2145692 |  -0.6208109 | 5.347240e-01 | 6.231400e-01 |\n",
       "\n"
      ],
      "text/plain": [
       "  Peak             baseMean  log2FoldChange lfcSE     stat        pvalue      \n",
       "1 chr1_10015_10442  71.40375 -2.2136128     0.2691517  -8.2244060 1.961605e-16\n",
       "2 chr1_14253_14645  68.63035  0.2221859     0.1534101   1.4483134 1.475294e-01\n",
       "3 chr1_16015_16477  71.25409 -1.2712950     0.2019628  -6.2946978 3.079993e-10\n",
       "4 chr1_17237_17772 124.03128 -1.3852891     0.1638628  -8.4539594 2.815873e-17\n",
       "5 chr1_28903_29613 113.63103 -1.9422003     0.1886131 -10.2972733 7.248682e-25\n",
       "6 chr1_30803_31072  57.37875 -0.1332069     0.2145692  -0.6208109 5.347240e-01\n",
       "  padj        \n",
       "1 2.910689e-15\n",
       "2 2.178106e-01\n",
       "3 2.653010e-09\n",
       "4 4.431894e-16\n",
       "5 1.723665e-23\n",
       "6 6.231400e-01"
      ]
     },
     "metadata": {},
     "output_type": "display_data"
    }
   ],
   "source": [
    "res = results(dds)\n",
    "res = as.data.frame(res) %>% rownames_to_column(var = \"Peak\")\n",
    "head(res)"
   ]
  },
  {
   "cell_type": "markdown",
   "id": "a9f0f025",
   "metadata": {},
   "source": [
    "## Save results"
   ]
  },
  {
   "cell_type": "code",
   "execution_count": 15,
   "id": "3d21f4e2",
   "metadata": {},
   "outputs": [
    {
     "name": "stdout",
     "output_type": "stream",
     "text": [
      "[1] \"/mount/work/out/proj_combeffect_encode_fcc/KS91_K562_ASTARRseq/coverage_astarrseq_peak_macs_input/summary/wgs_deseq_results.tsv\"\n"
     ]
    }
   ],
   "source": [
    "fdiry = file.path(FD_RES, PREFIX, FOLDER, \"summary\")\n",
    "fname = \"wgs_deseq_results.tsv\"\n",
    "fpath = file.path(fdiry, fname)\n",
    "print(fpath)\n",
    "\n",
    "write_tsv(res, fpath)"
   ]
  },
  {
   "cell_type": "code",
   "execution_count": null,
   "id": "7ffffb05",
   "metadata": {},
   "outputs": [],
   "source": []
  }
 ],
 "metadata": {
  "kernelspec": {
   "display_name": "R",
   "language": "R",
   "name": "ir"
  },
  "language_info": {
   "codemirror_mode": "r",
   "file_extension": ".r",
   "mimetype": "text/x-r-source",
   "name": "R",
   "pygments_lexer": "r",
   "version": "4.2.2"
  }
 },
 "nbformat": 4,
 "nbformat_minor": 5
}
