{
 "cells": [
  {
   "cell_type": "code",
   "execution_count": 1,
   "id": "49bc7009",
   "metadata": {},
   "outputs": [
    {
     "name": "stdout",
     "output_type": "stream",
     "text": [
      "You are in Singularity: singularity_proj_combeffect \n",
      "BASE DIRECTORY:     /mount/work \n",
      "PATH OF SOURCE:     /mount/work/source \n",
      "PATH OF EXECUTABLE: /mount/work/exe \n",
      "PATH OF ANNOTATION: /mount/work/annotation \n",
      "PATH OF PROJECT:    /mount/project \n",
      "PATH OF RESULTS:    /mount/work/out/proj_combeffect_encode_fcc \n"
     ]
    }
   ],
   "source": [
    "suppressMessages(suppressWarnings(source(\"../config/config_sing.R\")))\n",
    "show_env()"
   ]
  },
  {
   "cell_type": "markdown",
   "id": "01423b7a",
   "metadata": {},
   "source": [
    "## Helper functions"
   ]
  },
  {
   "cell_type": "code",
   "execution_count": 2,
   "id": "894aabae",
   "metadata": {},
   "outputs": [],
   "source": [
    "PREFIX  = \"Tewhey_K562_TileMPRA\"\n",
    "\n",
    "REGIONS = c(\"GATA1\", \"MYC\", \"FADS\")\n",
    "\n",
    "GROUPS  = c(\"Input\", \"Output\")\n",
    "\n",
    "#SAMPLES = c(\n",
    "#    paste0(\"Input_rep\",  1:4),\n",
    "#    paste0(\"Output_rep\", 1:3))\n",
    "\n",
    "CNAMES = c(\"Chrom\", \"Start\", \"End\", \"Count\")"
   ]
  },
  {
   "cell_type": "code",
   "execution_count": 6,
   "id": "770367cb",
   "metadata": {},
   "outputs": [],
   "source": [
    "get_info = function(fpath, strings){\n",
    "    idx = str_detect(string = fpath, pattern = strings)\n",
    "    return(strings[idx])\n",
    "}\n",
    "\n",
    "get_region = function(fpath){return(get_info(fpath, REGIONS))}\n",
    "get_group  = function(fpath){return(get_info(fpath, GROUPS))}\n",
    "#get_sample = function(fpath){return(get_info(fpath, SAMPLES))}"
   ]
  },
  {
   "cell_type": "markdown",
   "id": "731b9751",
   "metadata": {},
   "source": [
    "## fragment coverage"
   ]
  },
  {
   "cell_type": "code",
   "execution_count": 7,
   "id": "59b13c6d",
   "metadata": {},
   "outputs": [
    {
     "name": "stdout",
     "output_type": "stream",
     "text": [
      "[1] \"/mount/work/out/proj_combeffect_encode_fcc/Tewhey_K562_TileMPRA/coverage_astarrseq_peak_macs_input/Tile_K562_hg38_20200905.FADS.stranded_pos.Input.bed.gz\"  \n",
      "[2] \"/mount/work/out/proj_combeffect_encode_fcc/Tewhey_K562_TileMPRA/coverage_astarrseq_peak_macs_input/Tile_K562_hg38_20200905.FADS.stranded_pos.Output.bed.gz\" \n",
      "[3] \"/mount/work/out/proj_combeffect_encode_fcc/Tewhey_K562_TileMPRA/coverage_astarrseq_peak_macs_input/Tile_K562_hg38_20210130.GATA1.stranded_pos.Input.bed.gz\" \n",
      "[4] \"/mount/work/out/proj_combeffect_encode_fcc/Tewhey_K562_TileMPRA/coverage_astarrseq_peak_macs_input/Tile_K562_hg38_20210130.GATA1.stranded_pos.Output.bed.gz\"\n",
      "[5] \"/mount/work/out/proj_combeffect_encode_fcc/Tewhey_K562_TileMPRA/coverage_astarrseq_peak_macs_input/Tile_K562_hg38_20210130.MYC.stranded_pos.Input.bed.gz\"   \n",
      "[6] \"/mount/work/out/proj_combeffect_encode_fcc/Tewhey_K562_TileMPRA/coverage_astarrseq_peak_macs_input/Tile_K562_hg38_20210130.MYC.stranded_pos.Output.bed.gz\"  \n"
     ]
    }
   ],
   "source": [
    "fdiry = file.path(FD_RES, PREFIX, \"coverage_astarrseq_peak_macs_input\")\n",
    "fname = paste0(\"*stranded_pos*bed*\")\n",
    "#dir(fdiry)\n",
    "fglob = file.path(fdiry, fname)\n",
    "fpaths = Sys.glob(fglob)\n",
    "print(fpaths)"
   ]
  },
  {
   "cell_type": "code",
   "execution_count": 8,
   "id": "dbc793ee",
   "metadata": {},
   "outputs": [
    {
     "name": "stdout",
     "output_type": "stream",
     "text": [
      "[1] \"/mount/work/out/proj_combeffect_encode_fcc/Tewhey_K562_TileMPRA/coverage_astarrseq_peak_macs_input/Tile_K562_hg38_20200905.FADS.stranded_pos.Input.bed.gz\"\n",
      "Region: FADS ; Group: Input \n",
      "[1] \"/mount/work/out/proj_combeffect_encode_fcc/Tewhey_K562_TileMPRA/coverage_astarrseq_peak_macs_input/Tile_K562_hg38_20200905.FADS.stranded_pos.Output.bed.gz\"\n",
      "Region: FADS ; Group: Output \n",
      "[1] \"/mount/work/out/proj_combeffect_encode_fcc/Tewhey_K562_TileMPRA/coverage_astarrseq_peak_macs_input/Tile_K562_hg38_20210130.GATA1.stranded_pos.Input.bed.gz\"\n",
      "Region: GATA1 ; Group: Input \n",
      "[1] \"/mount/work/out/proj_combeffect_encode_fcc/Tewhey_K562_TileMPRA/coverage_astarrseq_peak_macs_input/Tile_K562_hg38_20210130.GATA1.stranded_pos.Output.bed.gz\"\n",
      "Region: GATA1 ; Group: Output \n",
      "[1] \"/mount/work/out/proj_combeffect_encode_fcc/Tewhey_K562_TileMPRA/coverage_astarrseq_peak_macs_input/Tile_K562_hg38_20210130.MYC.stranded_pos.Input.bed.gz\"\n",
      "Region: MYC ; Group: Input \n",
      "[1] \"/mount/work/out/proj_combeffect_encode_fcc/Tewhey_K562_TileMPRA/coverage_astarrseq_peak_macs_input/Tile_K562_hg38_20210130.MYC.stranded_pos.Output.bed.gz\"\n",
      "Region: MYC ; Group: Output \n"
     ]
    }
   ],
   "source": [
    "for (fpath in fpaths){\n",
    "    reg = get_region(fpath)\n",
    "    grp = get_group(fpath)\n",
    "    \n",
    "    print(fpath)\n",
    "    cat(\"Region:\", reg, \";\", \"Group:\", grp, \"\\n\")\n",
    "}"
   ]
  },
  {
   "cell_type": "code",
   "execution_count": 17,
   "id": "9377124f",
   "metadata": {},
   "outputs": [
    {
     "name": "stdout",
     "output_type": "stream",
     "text": [
      "[1] 407   8\n"
     ]
    },
    {
     "data": {
      "text/html": [
       "<table class=\"dataframe\">\n",
       "<caption>A tibble: 6 × 8</caption>\n",
       "<thead>\n",
       "\t<tr><th scope=col>Chrom</th><th scope=col>Start</th><th scope=col>End</th><th scope=col>Peak</th><th scope=col>Region</th><th scope=col>Input</th><th scope=col>Output</th><th scope=col>log2FoldChange</th></tr>\n",
       "\t<tr><th scope=col>&lt;chr&gt;</th><th scope=col>&lt;dbl&gt;</th><th scope=col>&lt;dbl&gt;</th><th scope=col>&lt;chr&gt;</th><th scope=col>&lt;chr&gt;</th><th scope=col>&lt;int&gt;</th><th scope=col>&lt;int&gt;</th><th scope=col>&lt;dbl&gt;</th></tr>\n",
       "</thead>\n",
       "<tbody>\n",
       "\t<tr><td>chr11</td><td>61792068</td><td>61793464</td><td>chr11_61792068_61793464</td><td>FADS</td><td>245</td><td>3157</td><td>3.6877006</td></tr>\n",
       "\t<tr><td>chr11</td><td>61800085</td><td>61801113</td><td>chr11_61800085_61801113</td><td>FADS</td><td>250</td><td>3715</td><td>3.8933622</td></tr>\n",
       "\t<tr><td>chr11</td><td>61806630</td><td>61807154</td><td>chr11_61806630_61807154</td><td>FADS</td><td>373</td><td> 587</td><td>0.6541849</td></tr>\n",
       "\t<tr><td>chr11</td><td>61814735</td><td>61817343</td><td>chr11_61814735_61817343</td><td>FADS</td><td>215</td><td>5053</td><td>4.5547316</td></tr>\n",
       "\t<tr><td>chr11</td><td>61822094</td><td>61822443</td><td>chr11_61822094_61822443</td><td>FADS</td><td>252</td><td> 293</td><td>0.2174769</td></tr>\n",
       "\t<tr><td>chr11</td><td>61825795</td><td>61826306</td><td>chr11_61825795_61826306</td><td>FADS</td><td>182</td><td> 565</td><td>1.6343124</td></tr>\n",
       "</tbody>\n",
       "</table>\n"
      ],
      "text/latex": [
       "A tibble: 6 × 8\n",
       "\\begin{tabular}{llllllll}\n",
       " Chrom & Start & End & Peak & Region & Input & Output & log2FoldChange\\\\\n",
       " <chr> & <dbl> & <dbl> & <chr> & <chr> & <int> & <int> & <dbl>\\\\\n",
       "\\hline\n",
       "\t chr11 & 61792068 & 61793464 & chr11\\_61792068\\_61793464 & FADS & 245 & 3157 & 3.6877006\\\\\n",
       "\t chr11 & 61800085 & 61801113 & chr11\\_61800085\\_61801113 & FADS & 250 & 3715 & 3.8933622\\\\\n",
       "\t chr11 & 61806630 & 61807154 & chr11\\_61806630\\_61807154 & FADS & 373 &  587 & 0.6541849\\\\\n",
       "\t chr11 & 61814735 & 61817343 & chr11\\_61814735\\_61817343 & FADS & 215 & 5053 & 4.5547316\\\\\n",
       "\t chr11 & 61822094 & 61822443 & chr11\\_61822094\\_61822443 & FADS & 252 &  293 & 0.2174769\\\\\n",
       "\t chr11 & 61825795 & 61826306 & chr11\\_61825795\\_61826306 & FADS & 182 &  565 & 1.6343124\\\\\n",
       "\\end{tabular}\n"
      ],
      "text/markdown": [
       "\n",
       "A tibble: 6 × 8\n",
       "\n",
       "| Chrom &lt;chr&gt; | Start &lt;dbl&gt; | End &lt;dbl&gt; | Peak &lt;chr&gt; | Region &lt;chr&gt; | Input &lt;int&gt; | Output &lt;int&gt; | log2FoldChange &lt;dbl&gt; |\n",
       "|---|---|---|---|---|---|---|---|\n",
       "| chr11 | 61792068 | 61793464 | chr11_61792068_61793464 | FADS | 245 | 3157 | 3.6877006 |\n",
       "| chr11 | 61800085 | 61801113 | chr11_61800085_61801113 | FADS | 250 | 3715 | 3.8933622 |\n",
       "| chr11 | 61806630 | 61807154 | chr11_61806630_61807154 | FADS | 373 |  587 | 0.6541849 |\n",
       "| chr11 | 61814735 | 61817343 | chr11_61814735_61817343 | FADS | 215 | 5053 | 4.5547316 |\n",
       "| chr11 | 61822094 | 61822443 | chr11_61822094_61822443 | FADS | 252 |  293 | 0.2174769 |\n",
       "| chr11 | 61825795 | 61826306 | chr11_61825795_61826306 | FADS | 182 |  565 | 1.6343124 |\n",
       "\n"
      ],
      "text/plain": [
       "  Chrom Start    End      Peak                    Region Input Output\n",
       "1 chr11 61792068 61793464 chr11_61792068_61793464 FADS   245   3157  \n",
       "2 chr11 61800085 61801113 chr11_61800085_61801113 FADS   250   3715  \n",
       "3 chr11 61806630 61807154 chr11_61806630_61807154 FADS   373    587  \n",
       "4 chr11 61814735 61817343 chr11_61814735_61817343 FADS   215   5053  \n",
       "5 chr11 61822094 61822443 chr11_61822094_61822443 FADS   252    293  \n",
       "6 chr11 61825795 61826306 chr11_61825795_61826306 FADS   182    565  \n",
       "  log2FoldChange\n",
       "1 3.6877006     \n",
       "2 3.8933622     \n",
       "3 0.6541849     \n",
       "4 4.5547316     \n",
       "5 0.2174769     \n",
       "6 1.6343124     "
      ]
     },
     "metadata": {},
     "output_type": "display_data"
    }
   ],
   "source": [
    "lst = lapply(fpaths, function(fpath){\n",
    "    ###\n",
    "    reg = get_region(fpath)\n",
    "    grp = get_group(fpath)\n",
    "    \n",
    "    ###\n",
    "    dat = read_tsv(fpath, col_name = CNAMES, show_col_types = FALSE)\n",
    "    dat = dat %>% \n",
    "        dplyr::mutate(Peak = paste(Chrom, Start, End, sep=\"_\"), Region = reg, Group = grp) %>%\n",
    "        dplyr::mutate(across(Count, na_if, \".\")) %>%\n",
    "        dplyr::mutate(across(Count, as.integer)) %>%\n",
    "        na.omit\n",
    "    return(dat)\n",
    "})\n",
    "\n",
    "dat_cnt = bind_rows(lst) %>% \n",
    "    spread(Group, Count) %>%\n",
    "    mutate(log2FoldChange = log2(Output / Input))\n",
    "print(dim(dat_cnt))\n",
    "head(dat_cnt)"
   ]
  },
  {
   "cell_type": "code",
   "execution_count": 19,
   "id": "385837da",
   "metadata": {},
   "outputs": [
    {
     "data": {
      "text/html": [
       "0"
      ],
      "text/latex": [
       "0"
      ],
      "text/markdown": [
       "0"
      ],
      "text/plain": [
       "[1] 0"
      ]
     },
     "metadata": {},
     "output_type": "display_data"
    }
   ],
   "source": [
    "sum(is.na(dat_cnt$Input))"
   ]
  },
  {
   "cell_type": "code",
   "execution_count": 20,
   "id": "50495b8d",
   "metadata": {},
   "outputs": [
    {
     "data": {
      "text/html": [
       "0"
      ],
      "text/latex": [
       "0"
      ],
      "text/markdown": [
       "0"
      ],
      "text/plain": [
       "[1] 0"
      ]
     },
     "metadata": {},
     "output_type": "display_data"
    }
   ],
   "source": [
    "sum(is.na(dat_cnt$Output))"
   ]
  },
  {
   "cell_type": "code",
   "execution_count": 21,
   "id": "dfa7d96a",
   "metadata": {},
   "outputs": [
    {
     "name": "stdout",
     "output_type": "stream",
     "text": [
      "[1] \"/mount/work/out/proj_combeffect_encode_fcc/Tewhey_K562_TileMPRA/coverage_astarrseq_peak_macs_input/summary/Tewhey_K562_TileMPRA_summary.stranded_pos.tsv\"\n"
     ]
    }
   ],
   "source": [
    "fdiry = file.path(FD_RES, PREFIX, \"coverage_astarrseq_peak_macs_input\", \"summary\")\n",
    "fname = paste0(PREFIX, \"_summary.stranded_pos.tsv\")\n",
    "fpath = file.path(fdiry, fname)\n",
    "print(fpath)\n",
    "write_tsv(dat_cnt, fpath)"
   ]
  },
  {
   "cell_type": "code",
   "execution_count": null,
   "id": "f1d1872f",
   "metadata": {},
   "outputs": [],
   "source": []
  }
 ],
 "metadata": {
  "kernelspec": {
   "display_name": "R",
   "language": "R",
   "name": "ir"
  },
  "language_info": {
   "codemirror_mode": "r",
   "file_extension": ".r",
   "mimetype": "text/x-r-source",
   "name": "R",
   "pygments_lexer": "r",
   "version": "4.2.0"
  }
 },
 "nbformat": 4,
 "nbformat_minor": 5
}
