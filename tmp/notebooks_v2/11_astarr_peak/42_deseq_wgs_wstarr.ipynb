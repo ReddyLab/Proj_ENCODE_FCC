{
 "cells": [
  {
   "cell_type": "markdown",
   "id": "f50ed83e",
   "metadata": {},
   "source": [
    "**Set environment**"
   ]
  },
  {
   "cell_type": "code",
   "execution_count": 1,
   "id": "002921e3",
   "metadata": {},
   "outputs": [
    {
     "name": "stdout",
     "output_type": "stream",
     "text": [
      "You are in Singularity: singularity_proj_combeffect \n",
      "BASE DIRECTORY:     /mount/work \n",
      "PATH OF SOURCE:     /mount/work/source \n",
      "PATH OF EXECUTABLE: /mount/work/exe \n",
      "PATH OF ANNOTATION: /mount/work/annotation \n",
      "PATH OF PROJECT:    /mount/project \n",
      "PATH OF RESULTS:    /mount/work/out/proj_combeffect_encode_fcc \n"
     ]
    }
   ],
   "source": [
    "suppressMessages(suppressWarnings(source(\"../config/config_sing.R\")))\n",
    "show_env()"
   ]
  },
  {
   "cell_type": "code",
   "execution_count": 2,
   "id": "c08aaf25",
   "metadata": {},
   "outputs": [
    {
     "name": "stderr",
     "output_type": "stream",
     "text": [
      "Loading required package: S4Vectors\n",
      "\n",
      "Loading required package: stats4\n",
      "\n",
      "Loading required package: BiocGenerics\n",
      "\n",
      "\n",
      "Attaching package: ‘BiocGenerics’\n",
      "\n",
      "\n",
      "The following object is masked from ‘package:gridExtra’:\n",
      "\n",
      "    combine\n",
      "\n",
      "\n",
      "The following objects are masked from ‘package:dplyr’:\n",
      "\n",
      "    combine, intersect, setdiff, union\n",
      "\n",
      "\n",
      "The following objects are masked from ‘package:stats’:\n",
      "\n",
      "    IQR, mad, sd, var, xtabs\n",
      "\n",
      "\n",
      "The following objects are masked from ‘package:base’:\n",
      "\n",
      "    anyDuplicated, append, as.data.frame, basename, cbind, colnames,\n",
      "    dirname, do.call, duplicated, eval, evalq, Filter, Find, get, grep,\n",
      "    grepl, intersect, is.unsorted, lapply, Map, mapply, match, mget,\n",
      "    order, paste, pmax, pmax.int, pmin, pmin.int, Position, rank,\n",
      "    rbind, Reduce, rownames, sapply, setdiff, sort, table, tapply,\n",
      "    union, unique, unsplit, which.max, which.min\n",
      "\n",
      "\n",
      "\n",
      "Attaching package: ‘S4Vectors’\n",
      "\n",
      "\n",
      "The following objects are masked from ‘package:dplyr’:\n",
      "\n",
      "    first, rename\n",
      "\n",
      "\n",
      "The following object is masked from ‘package:tidyr’:\n",
      "\n",
      "    expand\n",
      "\n",
      "\n",
      "The following objects are masked from ‘package:base’:\n",
      "\n",
      "    expand.grid, I, unname\n",
      "\n",
      "\n",
      "Loading required package: IRanges\n",
      "\n",
      "\n",
      "Attaching package: ‘IRanges’\n",
      "\n",
      "\n",
      "The following objects are masked from ‘package:dplyr’:\n",
      "\n",
      "    collapse, desc, slice\n",
      "\n",
      "\n",
      "The following object is masked from ‘package:purrr’:\n",
      "\n",
      "    reduce\n",
      "\n",
      "\n",
      "Loading required package: GenomicRanges\n",
      "\n",
      "Loading required package: GenomeInfoDb\n",
      "\n",
      "Loading required package: SummarizedExperiment\n",
      "\n",
      "Loading required package: MatrixGenerics\n",
      "\n",
      "Loading required package: matrixStats\n",
      "\n",
      "\n",
      "Attaching package: ‘matrixStats’\n",
      "\n",
      "\n",
      "The following object is masked from ‘package:dplyr’:\n",
      "\n",
      "    count\n",
      "\n",
      "\n",
      "\n",
      "Attaching package: ‘MatrixGenerics’\n",
      "\n",
      "\n",
      "The following objects are masked from ‘package:matrixStats’:\n",
      "\n",
      "    colAlls, colAnyNAs, colAnys, colAvgsPerRowSet, colCollapse,\n",
      "    colCounts, colCummaxs, colCummins, colCumprods, colCumsums,\n",
      "    colDiffs, colIQRDiffs, colIQRs, colLogSumExps, colMadDiffs,\n",
      "    colMads, colMaxs, colMeans2, colMedians, colMins, colOrderStats,\n",
      "    colProds, colQuantiles, colRanges, colRanks, colSdDiffs, colSds,\n",
      "    colSums2, colTabulates, colVarDiffs, colVars, colWeightedMads,\n",
      "    colWeightedMeans, colWeightedMedians, colWeightedSds,\n",
      "    colWeightedVars, rowAlls, rowAnyNAs, rowAnys, rowAvgsPerColSet,\n",
      "    rowCollapse, rowCounts, rowCummaxs, rowCummins, rowCumprods,\n",
      "    rowCumsums, rowDiffs, rowIQRDiffs, rowIQRs, rowLogSumExps,\n",
      "    rowMadDiffs, rowMads, rowMaxs, rowMeans2, rowMedians, rowMins,\n",
      "    rowOrderStats, rowProds, rowQuantiles, rowRanges, rowRanks,\n",
      "    rowSdDiffs, rowSds, rowSums2, rowTabulates, rowVarDiffs, rowVars,\n",
      "    rowWeightedMads, rowWeightedMeans, rowWeightedMedians,\n",
      "    rowWeightedSds, rowWeightedVars\n",
      "\n",
      "\n",
      "Loading required package: Biobase\n",
      "\n",
      "Welcome to Bioconductor\n",
      "\n",
      "    Vignettes contain introductory material; view with\n",
      "    'browseVignettes()'. To cite Bioconductor, see\n",
      "    'citation(\"Biobase\")', and for packages 'citation(\"pkgname\")'.\n",
      "\n",
      "\n",
      "\n",
      "Attaching package: ‘Biobase’\n",
      "\n",
      "\n",
      "The following object is masked from ‘package:MatrixGenerics’:\n",
      "\n",
      "    rowMedians\n",
      "\n",
      "\n",
      "The following objects are masked from ‘package:matrixStats’:\n",
      "\n",
      "    anyMissing, rowMedians\n",
      "\n",
      "\n"
     ]
    }
   ],
   "source": [
    "library(\"DESeq2\")"
   ]
  },
  {
   "cell_type": "markdown",
   "id": "ff75ec09",
   "metadata": {},
   "source": [
    "## Import data"
   ]
  },
  {
   "cell_type": "code",
   "execution_count": 3,
   "id": "dce925cd",
   "metadata": {},
   "outputs": [],
   "source": [
    "PREFIX = \"A001_K562_WSTARRseq\"\n",
    "FOLDER = \"coverage_astarrseq_peak_macs_input\""
   ]
  },
  {
   "cell_type": "code",
   "execution_count": 4,
   "id": "e420d6b7",
   "metadata": {},
   "outputs": [
    {
     "name": "stderr",
     "output_type": "stream",
     "text": [
      "\u001b[1mRows: \u001b[22m\u001b[34m246832\u001b[39m \u001b[1mColumns: \u001b[22m\u001b[34m10\u001b[39m\n",
      "\u001b[36m──\u001b[39m \u001b[1mColumn specification\u001b[22m \u001b[36m──────────────────────────────────────────────────────────────────────────────────────────────────────────────────────────────────────────────────────────────────────\u001b[39m\n",
      "\u001b[1mDelimiter:\u001b[22m \"\\t\"\n",
      "\u001b[31mchr\u001b[39m (1): Chrom\n",
      "\u001b[32mdbl\u001b[39m (9): Start, End, Input_rep1, Input_rep2, Input_rep3, Input_rep4, Output_...\n",
      "\n",
      "\u001b[36mℹ\u001b[39m Use `spec()` to retrieve the full column specification for this data.\n",
      "\u001b[36mℹ\u001b[39m Specify the column types or set `show_col_types = FALSE` to quiet this message.\n",
      "\u001b[1mRows: \u001b[22m\u001b[34m7\u001b[39m \u001b[1mColumns: \u001b[22m\u001b[34m3\u001b[39m\n",
      "\u001b[36m──\u001b[39m \u001b[1mColumn specification\u001b[22m \u001b[36m──────────────────────────────────────────────────────────────────────────────────────────────────────────────────────────────────────────────────────────────────────\u001b[39m\n",
      "\u001b[1mDelimiter:\u001b[22m \"\\t\"\n",
      "\u001b[31mchr\u001b[39m (3): Sample, Group, FPath\n",
      "\n",
      "\u001b[36mℹ\u001b[39m Use `spec()` to retrieve the full column specification for this data.\n",
      "\u001b[36mℹ\u001b[39m Specify the column types or set `show_col_types = FALSE` to quiet this message.\n"
     ]
    }
   ],
   "source": [
    "fdiry = file.path(FD_RES, PREFIX, FOLDER, \"summary\")\n",
    "\n",
    "fname = \"wgs_count_matrix.tsv\"\n",
    "fpath = file.path(fdiry, fname)\n",
    "dat_count = read_tsv(fpath)\n",
    "\n",
    "fname = \"wgs_metadata.tsv\"\n",
    "fpath = file.path(fdiry, fname)\n",
    "dat_meta = read_tsv(fpath)"
   ]
  },
  {
   "cell_type": "markdown",
   "id": "babb9bb0",
   "metadata": {},
   "source": [
    "**Arrange count matrix and metadata**"
   ]
  },
  {
   "cell_type": "code",
   "execution_count": 5,
   "id": "2baa25fa",
   "metadata": {},
   "outputs": [],
   "source": [
    "dat_col = dat_meta  %>% \n",
    "    dplyr::select(Sample, Group) %>% \n",
    "    dplyr::rename(condition = Group) %>%\n",
    "    column_to_rownames(var = \"Sample\")\n",
    "\n",
    "dat_cnt = dat_count %>% \n",
    "    dplyr::mutate(Peak = paste(Chrom, Start, End, sep = \"_\")) %>%\n",
    "    dplyr::select(-Chrom, -Start, -End) %>%\n",
    "    column_to_rownames(var = \"Peak\")\n",
    "\n",
    "dat_cnt[is.na(dat_cnt)] = 0"
   ]
  },
  {
   "cell_type": "code",
   "execution_count": 6,
   "id": "6e0f6658",
   "metadata": {},
   "outputs": [
    {
     "data": {
      "text/html": [
       "<table class=\"dataframe\">\n",
       "<caption>A data.frame: 6 × 7</caption>\n",
       "<thead>\n",
       "\t<tr><th></th><th scope=col>Input_rep1</th><th scope=col>Input_rep2</th><th scope=col>Input_rep3</th><th scope=col>Input_rep4</th><th scope=col>Output_rep1</th><th scope=col>Output_rep2</th><th scope=col>Output_rep3</th></tr>\n",
       "\t<tr><th></th><th scope=col>&lt;dbl&gt;</th><th scope=col>&lt;dbl&gt;</th><th scope=col>&lt;dbl&gt;</th><th scope=col>&lt;dbl&gt;</th><th scope=col>&lt;dbl&gt;</th><th scope=col>&lt;dbl&gt;</th><th scope=col>&lt;dbl&gt;</th></tr>\n",
       "</thead>\n",
       "<tbody>\n",
       "\t<tr><th scope=row>chr1_10015_10442</th><td> 1</td><td> 1</td><td> 1</td><td> 1</td><td>  0</td><td>  0</td><td>  0</td></tr>\n",
       "\t<tr><th scope=row>chr1_17237_17772</th><td> 5</td><td>12</td><td>15</td><td>17</td><td> 18</td><td> 23</td><td> 27</td></tr>\n",
       "\t<tr><th scope=row>chr1_136071_137429</th><td> 3</td><td> 4</td><td> 7</td><td> 4</td><td> 12</td><td> 12</td><td> 29</td></tr>\n",
       "\t<tr><th scope=row>chr1_137737_139544</th><td>14</td><td>40</td><td>41</td><td>52</td><td>145</td><td>144</td><td>217</td></tr>\n",
       "\t<tr><th scope=row>chr1_180982_182087</th><td> 8</td><td>31</td><td>26</td><td>28</td><td> 63</td><td> 57</td><td> 99</td></tr>\n",
       "\t<tr><th scope=row>chr1_183239_184602</th><td>12</td><td>40</td><td>36</td><td>49</td><td> 71</td><td> 75</td><td>163</td></tr>\n",
       "</tbody>\n",
       "</table>\n"
      ],
      "text/latex": [
       "A data.frame: 6 × 7\n",
       "\\begin{tabular}{r|lllllll}\n",
       "  & Input\\_rep1 & Input\\_rep2 & Input\\_rep3 & Input\\_rep4 & Output\\_rep1 & Output\\_rep2 & Output\\_rep3\\\\\n",
       "  & <dbl> & <dbl> & <dbl> & <dbl> & <dbl> & <dbl> & <dbl>\\\\\n",
       "\\hline\n",
       "\tchr1\\_10015\\_10442 &  1 &  1 &  1 &  1 &   0 &   0 &   0\\\\\n",
       "\tchr1\\_17237\\_17772 &  5 & 12 & 15 & 17 &  18 &  23 &  27\\\\\n",
       "\tchr1\\_136071\\_137429 &  3 &  4 &  7 &  4 &  12 &  12 &  29\\\\\n",
       "\tchr1\\_137737\\_139544 & 14 & 40 & 41 & 52 & 145 & 144 & 217\\\\\n",
       "\tchr1\\_180982\\_182087 &  8 & 31 & 26 & 28 &  63 &  57 &  99\\\\\n",
       "\tchr1\\_183239\\_184602 & 12 & 40 & 36 & 49 &  71 &  75 & 163\\\\\n",
       "\\end{tabular}\n"
      ],
      "text/markdown": [
       "\n",
       "A data.frame: 6 × 7\n",
       "\n",
       "| <!--/--> | Input_rep1 &lt;dbl&gt; | Input_rep2 &lt;dbl&gt; | Input_rep3 &lt;dbl&gt; | Input_rep4 &lt;dbl&gt; | Output_rep1 &lt;dbl&gt; | Output_rep2 &lt;dbl&gt; | Output_rep3 &lt;dbl&gt; |\n",
       "|---|---|---|---|---|---|---|---|\n",
       "| chr1_10015_10442 |  1 |  1 |  1 |  1 |   0 |   0 |   0 |\n",
       "| chr1_17237_17772 |  5 | 12 | 15 | 17 |  18 |  23 |  27 |\n",
       "| chr1_136071_137429 |  3 |  4 |  7 |  4 |  12 |  12 |  29 |\n",
       "| chr1_137737_139544 | 14 | 40 | 41 | 52 | 145 | 144 | 217 |\n",
       "| chr1_180982_182087 |  8 | 31 | 26 | 28 |  63 |  57 |  99 |\n",
       "| chr1_183239_184602 | 12 | 40 | 36 | 49 |  71 |  75 | 163 |\n",
       "\n"
      ],
      "text/plain": [
       "                   Input_rep1 Input_rep2 Input_rep3 Input_rep4 Output_rep1\n",
       "chr1_10015_10442    1          1          1          1           0        \n",
       "chr1_17237_17772    5         12         15         17          18        \n",
       "chr1_136071_137429  3          4          7          4          12        \n",
       "chr1_137737_139544 14         40         41         52         145        \n",
       "chr1_180982_182087  8         31         26         28          63        \n",
       "chr1_183239_184602 12         40         36         49          71        \n",
       "                   Output_rep2 Output_rep3\n",
       "chr1_10015_10442     0           0        \n",
       "chr1_17237_17772    23          27        \n",
       "chr1_136071_137429  12          29        \n",
       "chr1_137737_139544 144         217        \n",
       "chr1_180982_182087  57          99        \n",
       "chr1_183239_184602  75         163        "
      ]
     },
     "metadata": {},
     "output_type": "display_data"
    }
   ],
   "source": [
    "head(dat_cnt)"
   ]
  },
  {
   "cell_type": "code",
   "execution_count": 7,
   "id": "d6cf03a0",
   "metadata": {},
   "outputs": [
    {
     "data": {
      "text/html": [
       "<table class=\"dataframe\">\n",
       "<caption>A data.frame: 7 × 1</caption>\n",
       "<thead>\n",
       "\t<tr><th></th><th scope=col>condition</th></tr>\n",
       "\t<tr><th></th><th scope=col>&lt;chr&gt;</th></tr>\n",
       "</thead>\n",
       "<tbody>\n",
       "\t<tr><th scope=row>Input_rep1</th><td>Input </td></tr>\n",
       "\t<tr><th scope=row>Input_rep2</th><td>Input </td></tr>\n",
       "\t<tr><th scope=row>Input_rep3</th><td>Input </td></tr>\n",
       "\t<tr><th scope=row>Input_rep4</th><td>Input </td></tr>\n",
       "\t<tr><th scope=row>Output_rep1</th><td>Output</td></tr>\n",
       "\t<tr><th scope=row>Output_rep2</th><td>Output</td></tr>\n",
       "\t<tr><th scope=row>Output_rep3</th><td>Output</td></tr>\n",
       "</tbody>\n",
       "</table>\n"
      ],
      "text/latex": [
       "A data.frame: 7 × 1\n",
       "\\begin{tabular}{r|l}\n",
       "  & condition\\\\\n",
       "  & <chr>\\\\\n",
       "\\hline\n",
       "\tInput\\_rep1 & Input \\\\\n",
       "\tInput\\_rep2 & Input \\\\\n",
       "\tInput\\_rep3 & Input \\\\\n",
       "\tInput\\_rep4 & Input \\\\\n",
       "\tOutput\\_rep1 & Output\\\\\n",
       "\tOutput\\_rep2 & Output\\\\\n",
       "\tOutput\\_rep3 & Output\\\\\n",
       "\\end{tabular}\n"
      ],
      "text/markdown": [
       "\n",
       "A data.frame: 7 × 1\n",
       "\n",
       "| <!--/--> | condition &lt;chr&gt; |\n",
       "|---|---|\n",
       "| Input_rep1 | Input  |\n",
       "| Input_rep2 | Input  |\n",
       "| Input_rep3 | Input  |\n",
       "| Input_rep4 | Input  |\n",
       "| Output_rep1 | Output |\n",
       "| Output_rep2 | Output |\n",
       "| Output_rep3 | Output |\n",
       "\n"
      ],
      "text/plain": [
       "            condition\n",
       "Input_rep1  Input    \n",
       "Input_rep2  Input    \n",
       "Input_rep3  Input    \n",
       "Input_rep4  Input    \n",
       "Output_rep1 Output   \n",
       "Output_rep2 Output   \n",
       "Output_rep3 Output   "
      ]
     },
     "metadata": {},
     "output_type": "display_data"
    }
   ],
   "source": [
    "dat_col"
   ]
  },
  {
   "cell_type": "code",
   "execution_count": 8,
   "id": "336347e6",
   "metadata": {},
   "outputs": [
    {
     "name": "stdout",
     "output_type": "stream",
     "text": [
      "[1] TRUE\n",
      "[1] TRUE\n"
     ]
    }
   ],
   "source": [
    "print(all(rownames(dat_col) %in% colnames(dat_cnt)))\n",
    "print(all(rownames(dat_col) ==   colnames(dat_cnt)))"
   ]
  },
  {
   "cell_type": "markdown",
   "id": "6e2b0fcf",
   "metadata": {},
   "source": [
    "## Run DESeq2"
   ]
  },
  {
   "cell_type": "code",
   "execution_count": 9,
   "id": "e4416da8",
   "metadata": {},
   "outputs": [
    {
     "name": "stderr",
     "output_type": "stream",
     "text": [
      "converting counts to integer mode\n",
      "\n",
      "Warning message in DESeqDataSet(se, design = design, ignoreRank):\n",
      "“some variables in design formula are characters, converting to factors”\n"
     ]
    }
   ],
   "source": [
    "dds = DESeqDataSetFromMatrix(\n",
    "    countData = dat_cnt, \n",
    "    colData   = dat_col, \n",
    "    design    = ~condition)"
   ]
  },
  {
   "cell_type": "code",
   "execution_count": 10,
   "id": "014bd3f6",
   "metadata": {},
   "outputs": [],
   "source": [
    "### remove the peaks which have < 10 reads\n",
    "dds = dds[rowSums(counts(dds)) >= 10,]\n",
    "\n",
    "### set control condition as reference\n",
    "dds$condition <- relevel(dds$condition, ref = \"Input\")"
   ]
  },
  {
   "cell_type": "code",
   "execution_count": 11,
   "id": "fe38f63e",
   "metadata": {},
   "outputs": [
    {
     "name": "stderr",
     "output_type": "stream",
     "text": [
      "estimating size factors\n",
      "\n",
      "estimating dispersions\n",
      "\n",
      "gene-wise dispersion estimates\n",
      "\n",
      "mean-dispersion relationship\n",
      "\n",
      "final dispersion estimates\n",
      "\n",
      "fitting model and testing\n",
      "\n"
     ]
    }
   ],
   "source": [
    "dds = DESeq(dds)"
   ]
  },
  {
   "cell_type": "markdown",
   "id": "d8f01ba8",
   "metadata": {},
   "source": [
    "## Get results"
   ]
  },
  {
   "cell_type": "code",
   "execution_count": 12,
   "id": "7692914d",
   "metadata": {},
   "outputs": [
    {
     "data": {
      "text/html": [
       "<style>\n",
       ".list-inline {list-style: none; margin:0; padding: 0}\n",
       ".list-inline>li {display: inline-block}\n",
       ".list-inline>li:not(:last-child)::after {content: \"\\00b7\"; padding: 0 .5ex}\n",
       "</style>\n",
       "<ol class=list-inline><li>'Intercept'</li><li>'condition_Output_vs_Input'</li></ol>\n"
      ],
      "text/latex": [
       "\\begin{enumerate*}\n",
       "\\item 'Intercept'\n",
       "\\item 'condition\\_Output\\_vs\\_Input'\n",
       "\\end{enumerate*}\n"
      ],
      "text/markdown": [
       "1. 'Intercept'\n",
       "2. 'condition_Output_vs_Input'\n",
       "\n",
       "\n"
      ],
      "text/plain": [
       "[1] \"Intercept\"                 \"condition_Output_vs_Input\""
      ]
     },
     "metadata": {},
     "output_type": "display_data"
    }
   ],
   "source": [
    "resultsNames(dds)"
   ]
  },
  {
   "cell_type": "code",
   "execution_count": 13,
   "id": "48fa1707",
   "metadata": {},
   "outputs": [
    {
     "data": {
      "text/plain": [
       "log2 fold change (MLE): condition Output vs Input \n",
       "Wald test p-value: condition Output vs Input \n",
       "DataFrame with 246688 rows and 6 columns\n",
       "                          baseMean log2FoldChange     lfcSE      stat\n",
       "                         <numeric>      <numeric> <numeric> <numeric>\n",
       "chr1_17237_17772           15.5078     -0.5519742  0.365031 -1.512129\n",
       "chr1_136071_137429          8.0054      0.4218478  0.513401  0.821672\n",
       "chr1_137737_139544         68.3888      0.7590524  0.190913  3.975910\n",
       "chr1_180982_182087         35.0933      0.1919213  0.241753  0.793874\n",
       "chr1_183239_184602         49.5657      0.0837488  0.201836  0.414934\n",
       "...                            ...            ...       ...       ...\n",
       "chr8_31049771_31050055    1.015907        2.01375   1.42070   1.41743\n",
       "chr19_58604611_58605025   0.616336        2.33324   1.65053   1.41363\n",
       "chr2_152740678_152740972  0.814607        2.67922   1.53733   1.74277\n",
       "chr22_21396943_21397355   0.713538        2.52816   1.58085   1.59924\n",
       "chr8_12223774_12224144    0.810739        2.67361   1.50276   1.77913\n",
       "                              pvalue       padj\n",
       "                           <numeric>  <numeric>\n",
       "chr1_17237_17772         1.30501e-01 0.37652256\n",
       "chr1_136071_137429       4.11263e-01         NA\n",
       "chr1_137737_139544       7.01105e-05 0.00138404\n",
       "chr1_180982_182087       4.27269e-01 0.69631798\n",
       "chr1_183239_184602       6.78190e-01 0.85734219\n",
       "...                              ...        ...\n",
       "chr8_31049771_31050055     0.1563577         NA\n",
       "chr19_58604611_58605025    0.1574708         NA\n",
       "chr2_152740678_152740972   0.0813732         NA\n",
       "chr22_21396943_21397355    0.1097675         NA\n",
       "chr8_12223774_12224144     0.0752177         NA"
      ]
     },
     "metadata": {},
     "output_type": "display_data"
    }
   ],
   "source": [
    "res = results(dds)\n",
    "res"
   ]
  },
  {
   "cell_type": "code",
   "execution_count": 14,
   "id": "a345cda0",
   "metadata": {},
   "outputs": [
    {
     "data": {
      "text/html": [
       "<table class=\"dataframe\">\n",
       "<caption>A data.frame: 6 × 7</caption>\n",
       "<thead>\n",
       "\t<tr><th></th><th scope=col>Peak</th><th scope=col>baseMean</th><th scope=col>log2FoldChange</th><th scope=col>lfcSE</th><th scope=col>stat</th><th scope=col>pvalue</th><th scope=col>padj</th></tr>\n",
       "\t<tr><th></th><th scope=col>&lt;chr&gt;</th><th scope=col>&lt;dbl&gt;</th><th scope=col>&lt;dbl&gt;</th><th scope=col>&lt;dbl&gt;</th><th scope=col>&lt;dbl&gt;</th><th scope=col>&lt;dbl&gt;</th><th scope=col>&lt;dbl&gt;</th></tr>\n",
       "</thead>\n",
       "<tbody>\n",
       "\t<tr><th scope=row>1</th><td>chr1_17237_17772  </td><td>15.507847</td><td>-0.55197423</td><td>0.3650312</td><td>-1.5121288</td><td>0.1305011090</td><td>0.376522564</td></tr>\n",
       "\t<tr><th scope=row>2</th><td>chr1_136071_137429</td><td> 8.005396</td><td> 0.42184778</td><td>0.5134014</td><td> 0.8216725</td><td>0.4112633282</td><td>         NA</td></tr>\n",
       "\t<tr><th scope=row>3</th><td>chr1_137737_139544</td><td>68.388785</td><td> 0.75905245</td><td>0.1909129</td><td> 3.9759105</td><td>0.0000701105</td><td>0.001384044</td></tr>\n",
       "\t<tr><th scope=row>4</th><td>chr1_180982_182087</td><td>35.093278</td><td> 0.19192129</td><td>0.2417529</td><td> 0.7938737</td><td>0.4272689717</td><td>0.696317984</td></tr>\n",
       "\t<tr><th scope=row>5</th><td>chr1_183239_184602</td><td>49.565727</td><td> 0.08374879</td><td>0.2018363</td><td> 0.4149342</td><td>0.6781900855</td><td>0.857342193</td></tr>\n",
       "\t<tr><th scope=row>6</th><td>chr1_186238_187159</td><td>50.450003</td><td>-0.13877450</td><td>0.2161170</td><td>-0.6421267</td><td>0.5207908905</td><td>0.763065578</td></tr>\n",
       "</tbody>\n",
       "</table>\n"
      ],
      "text/latex": [
       "A data.frame: 6 × 7\n",
       "\\begin{tabular}{r|lllllll}\n",
       "  & Peak & baseMean & log2FoldChange & lfcSE & stat & pvalue & padj\\\\\n",
       "  & <chr> & <dbl> & <dbl> & <dbl> & <dbl> & <dbl> & <dbl>\\\\\n",
       "\\hline\n",
       "\t1 & chr1\\_17237\\_17772   & 15.507847 & -0.55197423 & 0.3650312 & -1.5121288 & 0.1305011090 & 0.376522564\\\\\n",
       "\t2 & chr1\\_136071\\_137429 &  8.005396 &  0.42184778 & 0.5134014 &  0.8216725 & 0.4112633282 &          NA\\\\\n",
       "\t3 & chr1\\_137737\\_139544 & 68.388785 &  0.75905245 & 0.1909129 &  3.9759105 & 0.0000701105 & 0.001384044\\\\\n",
       "\t4 & chr1\\_180982\\_182087 & 35.093278 &  0.19192129 & 0.2417529 &  0.7938737 & 0.4272689717 & 0.696317984\\\\\n",
       "\t5 & chr1\\_183239\\_184602 & 49.565727 &  0.08374879 & 0.2018363 &  0.4149342 & 0.6781900855 & 0.857342193\\\\\n",
       "\t6 & chr1\\_186238\\_187159 & 50.450003 & -0.13877450 & 0.2161170 & -0.6421267 & 0.5207908905 & 0.763065578\\\\\n",
       "\\end{tabular}\n"
      ],
      "text/markdown": [
       "\n",
       "A data.frame: 6 × 7\n",
       "\n",
       "| <!--/--> | Peak &lt;chr&gt; | baseMean &lt;dbl&gt; | log2FoldChange &lt;dbl&gt; | lfcSE &lt;dbl&gt; | stat &lt;dbl&gt; | pvalue &lt;dbl&gt; | padj &lt;dbl&gt; |\n",
       "|---|---|---|---|---|---|---|---|\n",
       "| 1 | chr1_17237_17772   | 15.507847 | -0.55197423 | 0.3650312 | -1.5121288 | 0.1305011090 | 0.376522564 |\n",
       "| 2 | chr1_136071_137429 |  8.005396 |  0.42184778 | 0.5134014 |  0.8216725 | 0.4112633282 |          NA |\n",
       "| 3 | chr1_137737_139544 | 68.388785 |  0.75905245 | 0.1909129 |  3.9759105 | 0.0000701105 | 0.001384044 |\n",
       "| 4 | chr1_180982_182087 | 35.093278 |  0.19192129 | 0.2417529 |  0.7938737 | 0.4272689717 | 0.696317984 |\n",
       "| 5 | chr1_183239_184602 | 49.565727 |  0.08374879 | 0.2018363 |  0.4149342 | 0.6781900855 | 0.857342193 |\n",
       "| 6 | chr1_186238_187159 | 50.450003 | -0.13877450 | 0.2161170 | -0.6421267 | 0.5207908905 | 0.763065578 |\n",
       "\n"
      ],
      "text/plain": [
       "  Peak               baseMean  log2FoldChange lfcSE     stat       pvalue      \n",
       "1 chr1_17237_17772   15.507847 -0.55197423    0.3650312 -1.5121288 0.1305011090\n",
       "2 chr1_136071_137429  8.005396  0.42184778    0.5134014  0.8216725 0.4112633282\n",
       "3 chr1_137737_139544 68.388785  0.75905245    0.1909129  3.9759105 0.0000701105\n",
       "4 chr1_180982_182087 35.093278  0.19192129    0.2417529  0.7938737 0.4272689717\n",
       "5 chr1_183239_184602 49.565727  0.08374879    0.2018363  0.4149342 0.6781900855\n",
       "6 chr1_186238_187159 50.450003 -0.13877450    0.2161170 -0.6421267 0.5207908905\n",
       "  padj       \n",
       "1 0.376522564\n",
       "2          NA\n",
       "3 0.001384044\n",
       "4 0.696317984\n",
       "5 0.857342193\n",
       "6 0.763065578"
      ]
     },
     "metadata": {},
     "output_type": "display_data"
    }
   ],
   "source": [
    "res = results(dds)\n",
    "res = as.data.frame(res) %>% rownames_to_column(var = \"Peak\")\n",
    "head(res)"
   ]
  },
  {
   "cell_type": "markdown",
   "id": "5062f0b3",
   "metadata": {},
   "source": [
    "## Save results"
   ]
  },
  {
   "cell_type": "code",
   "execution_count": 15,
   "id": "e1615570",
   "metadata": {},
   "outputs": [
    {
     "name": "stdout",
     "output_type": "stream",
     "text": [
      "[1] \"/mount/work/out/proj_combeffect_encode_fcc/A001_K562_WSTARRseq/coverage_astarrseq_peak_macs_input/summary/wgs_deseq_results.tsv\"\n"
     ]
    }
   ],
   "source": [
    "fdiry = file.path(FD_RES, PREFIX, FOLDER, \"summary\")\n",
    "fname = \"wgs_deseq_results.tsv\"\n",
    "fpath = file.path(fdiry, fname)\n",
    "print(fpath)\n",
    "\n",
    "write_tsv(res, fpath)"
   ]
  },
  {
   "cell_type": "code",
   "execution_count": null,
   "id": "295d38c1",
   "metadata": {},
   "outputs": [],
   "source": []
  }
 ],
 "metadata": {
  "kernelspec": {
   "display_name": "R",
   "language": "R",
   "name": "ir"
  },
  "language_info": {
   "codemirror_mode": "r",
   "file_extension": ".r",
   "mimetype": "text/x-r-source",
   "name": "R",
   "pygments_lexer": "r",
   "version": "4.2.0"
  }
 },
 "nbformat": 4,
 "nbformat_minor": 5
}
