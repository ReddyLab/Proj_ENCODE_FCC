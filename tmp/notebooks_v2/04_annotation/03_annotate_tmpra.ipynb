{
 "cells": [
  {
   "cell_type": "markdown",
   "id": "f1a3d873-c0d1-4207-9114-b4f7d41e4e7c",
   "metadata": {},
   "source": [
    "**Set environment**"
   ]
  },
  {
   "cell_type": "code",
   "execution_count": 1,
   "id": "37de95c1-ba1c-4687-abb9-0a9decdd061b",
   "metadata": {},
   "outputs": [
    {
     "name": "stdout",
     "output_type": "stream",
     "text": [
      "You are on Duke Server: HARDAC\n",
      "BASE DIRECTORY:     /gpfs/fs1/data/reddylab/Kuei\n",
      "PATH OF SOURCE:     /gpfs/fs1/data/reddylab/Kuei/source\n",
      "PATH OF EXECUTABLE: /gpfs/fs1/data/reddylab/Kuei/exe\n",
      "PATH OF ANNOTATION: /gpfs/fs1/data/reddylab/Kuei/annotation\n",
      "PATH OF PROJECT:    /gpfs/fs1/data/reddylab/Kuei/GitRepo/Proj_CombEffect_ENCODE_FCC/notebooks\n",
      "PATH OF RESULTS:    /gpfs/fs1/data/reddylab/Kuei/out/proj_combeffect_encode_fcc\n",
      "\n"
     ]
    }
   ],
   "source": [
    "source ../config/config_duke.sh\n",
    "source ../config/config_load_module_bedtools.sh\n",
    "show_env"
   ]
  },
  {
   "cell_type": "code",
   "execution_count": 2,
   "id": "1170fa39-bd06-4593-9d57-34e1085ba91c",
   "metadata": {},
   "outputs": [
    {
     "name": "stdout",
     "output_type": "stream",
     "text": [
      "\u001b[0m\u001b[38;5;27m/gpfs/fs1/data/reddylab/Kuei/out/proj_combeffect_encode_fcc/log\u001b[0m\n",
      "all\n"
     ]
    }
   ],
   "source": [
    "ls -d ${FD_LOG}\n",
    "echo ${NODE}"
   ]
  },
  {
   "cell_type": "markdown",
   "id": "c6968089-aab3-4dfd-9fa3-2ad0cef7e3e3",
   "metadata": {},
   "source": [
    "## Annotate fragments of GATA1"
   ]
  },
  {
   "cell_type": "markdown",
   "id": "b7496486-adb5-45b6-a0c2-c58c7fd68310",
   "metadata": {},
   "source": [
    "**TEST**"
   ]
  },
  {
   "cell_type": "code",
   "execution_count": 3,
   "id": "d01a8d70-16e7-4b0e-ab08-868c4eb3b2f2",
   "metadata": {},
   "outputs": [
    {
     "name": "stdout",
     "output_type": "stream",
     "text": [
      "Tile_K562_hg38_20210130.GATA1.stranded_pos.bed\n"
     ]
    }
   ],
   "source": [
    "PREFIX=Tewhey_K562_TileMPRA\n",
    "REGION=GATA1\n",
    "ls ${FD_RES}/${PREFIX}/fragment/*${REGION}*bed | xargs -n 1 basename"
   ]
  },
  {
   "cell_type": "code",
   "execution_count": 4,
   "id": "89df3262-fff1-4e8f-8401-da1368839d68",
   "metadata": {},
   "outputs": [
    {
     "name": "stdout",
     "output_type": "stream",
     "text": [
      "1\n"
     ]
    }
   ],
   "source": [
    "ls ${FD_RES}/${PREFIX}/fragment/*${REGION}*bed | wc -l"
   ]
  },
  {
   "cell_type": "markdown",
   "id": "d62c4742-bd66-414d-ae70-d74e394c3540",
   "metadata": {},
   "source": [
    "**RUN**"
   ]
  },
  {
   "cell_type": "code",
   "execution_count": 11,
   "id": "b1635a37-c465-48c9-b20c-eeab0c59701d",
   "metadata": {},
   "outputs": [
    {
     "name": "stdout",
     "output_type": "stream",
     "text": [
      "Submitted batch job 29159497\n"
     ]
    }
   ],
   "source": [
    "sbatch -p ${NODE} \\\n",
    "    --exclude=dl-01 \\\n",
    "    --cpus-per-task 8 \\\n",
    "    --mem 20G \\\n",
    "    --output ${FD_LOG}/annotate_tmpra_gata1.txt \\\n",
    "    --array 0 \\\n",
    "    <<'EOF'\n",
    "#!/bin/bash\n",
    "### set directories & global variables\n",
    "source ../config/config_duke.sh\n",
    "PREFIX=Tewhey_K562_TileMPRA\n",
    "REGION=GATA1\n",
    "CHROM=chrX\n",
    "\n",
    "### set input and output\n",
    "FD_INP=${FD_RES}/${PREFIX}/fragment\n",
    "FN_INP=Tile_K562_hg38_20210130.GATA1.stranded_pos.bed\n",
    "FP_INP=${FD_INP}/${FN_INP}\n",
    "\n",
    "FD_OUT=${FD_RES}/${PREFIX}/annotation\n",
    "FN_OUT=Tile_K562_hg38_20210130.GATA1.stranded_pos.bed.gz\n",
    "FP_OUT=${FD_OUT}/${FN_OUT}\n",
    "\n",
    "FD_MTF=${FD_ANN}/motif_cluster_jvierstra/hg38_archetype_motifs_v1\n",
    "FN_MTF=${CHROM}_rm_mouse_merge.bed.gz\n",
    "FP_MTF=${FD_MTF}/${FN_MTF}\n",
    "\n",
    "### print start message\n",
    "timer_start=`date +%s`\n",
    "echo \"Hostname:          \" $(hostname)\n",
    "echo \"Slurm Array Index: \" ${SLURM_ARRAY_TASK_ID}\n",
    "echo \"Time Stamp:        \" $(date +\"%m-%d-%y+%T\")\n",
    "echo\n",
    "\n",
    "### show I/O file\n",
    "echo \"Input file path: ${FP_INP}\"\n",
    "echo \"Show the first few lines\"\n",
    "cat ${FP_INP} | head -n 3\n",
    "echo\n",
    "\n",
    "### show I/O file\n",
    "echo \"Input file path: ${FP_MTF}\"\n",
    "echo \"Show the first few lines\"\n",
    "zcat ${FP_MTF} | head -n 3\n",
    "echo\n",
    "\n",
    "### init: create output folder if not exist\n",
    "mkdir -p ${FD_OUT}\n",
    "\n",
    "### annotation using intersect\n",
    "bedtools -version\n",
    "bedtools intersect -a ${FP_INP} -b ${FP_MTF} -wo -F 1.0 \\\n",
    "|   gzip -c > ${FP_OUT}\n",
    "\n",
    "### show I/O file\n",
    "echo\n",
    "echo \"Output file path: ${FP_OUT}\"\n",
    "echo \"Show the first few lines\"\n",
    "zcat ${FP_OUT} | head -n 3\n",
    "echo\n",
    "\n",
    "### print end message\n",
    "timer=`date +%s`\n",
    "runtime=$(echo \"${timer} - ${timer_start}\" | bc -l)\n",
    "echo\n",
    "echo 'Done!'\n",
    "echo \"Run Time: $(displaytime ${runtime})\"\n",
    "\n",
    "EOF"
   ]
  },
  {
   "cell_type": "markdown",
   "id": "59197504-f615-4c56-a884-164e219e78e1",
   "metadata": {},
   "source": [
    "**CHECK**"
   ]
  },
  {
   "cell_type": "code",
   "execution_count": 12,
   "id": "e540aa1a-cb70-4b24-981e-86546f9c2405",
   "metadata": {},
   "outputs": [
    {
     "name": "stdout",
     "output_type": "stream",
     "text": [
      "Hostname:           x1-01-3.genome.duke.edu\n",
      "Slurm Array Index:  0\n",
      "Time Stamp:         10-17-22+04:30:27\n",
      "\n",
      "Input file path: /gpfs/fs1/data/reddylab/Kuei/out/proj_combeffect_encode_fcc/Tewhey_K562_TileMPRA/fragment/Tile_K562_hg38_20210130.GATA1.stranded_pos.bed\n",
      "Show the first few lines\n",
      "chrX\t47786401\t47786600\tX:47786401-47786600\t.\t+\n",
      "chrX\t47786451\t47786650\tX:47786451-47786650\t.\t+\n",
      "chrX\t47786501\t47786700\tX:47786501-47786700\t.\t+\n",
      "\n",
      "Input file path: /gpfs/fs1/data/reddylab/Kuei/annotation/motif_cluster_jvierstra/hg38_archetype_motifs_v1/chrX_rm_mouse_merge.bed.gz\n",
      "Show the first few lines\n",
      "chrX\t10006\t10041\tKLF/SP/2\t3.257775\n",
      "chrX\t10018\t10038\tGC-tract\t6.314\n",
      "chrX\t10025\t10039\tNR/3\t7.0957\n",
      "\n",
      "bedtools v2.25.0\n",
      "\n",
      "Output file path: /gpfs/fs1/data/reddylab/Kuei/out/proj_combeffect_encode_fcc/Tewhey_K562_TileMPRA/annotation/Tile_K562_hg38_20210130.GATA1.stranded_pos.bed.gz\n",
      "Show the first few lines\n",
      "chrX\t47786401\t47786600\tX:47786401-47786600\t.\t+\tchrX\t47786401\t47786418\tKLF/SP/2\t6.7001\t17\n",
      "chrX\t47786401\t47786600\tX:47786401-47786600\t.\t+\tchrX\t47786424\t47786443\tZNF28\t8.2497\t19\n",
      "chrX\t47786401\t47786600\tX:47786401-47786600\t.\t+\tchrX\t47786449\t47786459\tFOX/4\t8.4743\t10\n",
      "\n",
      "\n",
      "Done!\n",
      "Run Time: 43 seconds\n"
     ]
    }
   ],
   "source": [
    "cat ${FD_LOG}/annotate_tmpra_gata1.txt"
   ]
  },
  {
   "cell_type": "markdown",
   "id": "168ca50c-28e3-4bf2-bd09-f751e5bf9b0e",
   "metadata": {},
   "source": [
    "## Annotate fragments of MYC"
   ]
  },
  {
   "cell_type": "markdown",
   "id": "0deb9cfd-b19a-47c0-979e-94de6b2e15b2",
   "metadata": {},
   "source": [
    "**TEST**"
   ]
  },
  {
   "cell_type": "code",
   "execution_count": 6,
   "id": "54cf86ec-22f0-4d0f-b4ce-7a0679f42b74",
   "metadata": {},
   "outputs": [
    {
     "name": "stdout",
     "output_type": "stream",
     "text": [
      "Tile_K562_hg38_20210130.MYC.stranded_pos.bed\n"
     ]
    }
   ],
   "source": [
    "PREFIX=Tewhey_K562_TileMPRA\n",
    "REGION=MYC\n",
    "ls ${FD_RES}/${PREFIX}/fragment/*${REGION}*bed | xargs -n 1 basename"
   ]
  },
  {
   "cell_type": "code",
   "execution_count": 7,
   "id": "de145884-afba-4ba1-b8d5-ba426dc524e5",
   "metadata": {},
   "outputs": [
    {
     "name": "stdout",
     "output_type": "stream",
     "text": [
      "1\n"
     ]
    }
   ],
   "source": [
    "ls ${FD_RES}/${PREFIX}/fragment/*${REGION}*bed | wc -l"
   ]
  },
  {
   "cell_type": "markdown",
   "id": "2407de44-f449-4db2-876a-e8d4840cd824",
   "metadata": {},
   "source": [
    "**RUN**"
   ]
  },
  {
   "cell_type": "code",
   "execution_count": 8,
   "id": "ceed0bdb-fd0a-4c4a-adc0-a75ea75c35f0",
   "metadata": {},
   "outputs": [
    {
     "name": "stdout",
     "output_type": "stream",
     "text": [
      "Submitted batch job 29159496\n"
     ]
    }
   ],
   "source": [
    "sbatch -p ${NODE} \\\n",
    "    --exclude=dl-01 \\\n",
    "    --cpus-per-task 8 \\\n",
    "    --mem 20G \\\n",
    "    --output ${FD_LOG}/annotate_tmpra_myc.txt \\\n",
    "    --array 0 \\\n",
    "    <<'EOF'\n",
    "#!/bin/bash\n",
    "### set directories & global variables\n",
    "source ../config/config_duke.sh\n",
    "PREFIX=Tewhey_K562_TileMPRA\n",
    "REGION=MYC\n",
    "CHROM=chr8\n",
    "\n",
    "### set input and output\n",
    "FD_INP=${FD_RES}/${PREFIX}/fragment\n",
    "FN_INP=Tile_K562_hg38_20210130.MYC.stranded_pos.bed\n",
    "FP_INP=${FD_INP}/${FN_INP}\n",
    "\n",
    "FD_OUT=${FD_RES}/${PREFIX}/annotation\n",
    "FN_OUT=Tile_K562_hg38_20210130.MYC.stranded_pos.bed.gz\n",
    "FP_OUT=${FD_OUT}/${FN_OUT}\n",
    "\n",
    "FD_MTF=${FD_ANN}/motif_cluster_jvierstra/hg38_archetype_motifs_v1\n",
    "FN_MTF=${CHROM}_rm_mouse_merge.bed.gz\n",
    "FP_MTF=${FD_MTF}/${FN_MTF}\n",
    "\n",
    "### print start message\n",
    "timer_start=`date +%s`\n",
    "echo \"Hostname:          \" $(hostname)\n",
    "echo \"Slurm Array Index: \" ${SLURM_ARRAY_TASK_ID}\n",
    "echo \"Time Stamp:        \" $(date +\"%m-%d-%y+%T\")\n",
    "echo\n",
    "\n",
    "### show I/O file\n",
    "echo \"Input file path: ${FP_INP}\"\n",
    "echo \"Show the first few lines\"\n",
    "cat ${FP_INP} | head -n 3\n",
    "echo\n",
    "\n",
    "### show I/O file\n",
    "echo \"Input file path: ${FP_MTF}\"\n",
    "echo \"Show the first few lines\"\n",
    "zcat ${FP_MTF} | head -n 3\n",
    "echo\n",
    "\n",
    "### init: create output folder if not exist\n",
    "mkdir -p ${FD_OUT}\n",
    "\n",
    "### annotation using intersect\n",
    "bedtools -version\n",
    "bedtools intersect -a ${FP_INP} -b ${FP_MTF} -wo -F 1.0 \\\n",
    "|   gzip -c > ${FP_OUT}\n",
    "\n",
    "### show I/O file\n",
    "echo\n",
    "echo \"Output file path: ${FP_OUT}\"\n",
    "echo \"Show the first few lines\"\n",
    "zcat ${FP_OUT} | head -n 3\n",
    "echo\n",
    "\n",
    "### print end message\n",
    "timer=`date +%s`\n",
    "runtime=$(echo \"${timer} - ${timer_start}\" | bc -l)\n",
    "echo\n",
    "echo 'Done!'\n",
    "echo \"Run Time: $(displaytime ${runtime})\"\n",
    "\n",
    "EOF"
   ]
  },
  {
   "cell_type": "markdown",
   "id": "78558dab-91f4-454a-95cf-3720c7ecc50a",
   "metadata": {},
   "source": [
    "**CHECK**"
   ]
  },
  {
   "cell_type": "code",
   "execution_count": 13,
   "id": "4431d399-69e4-42f5-ba76-b3d4f8610494",
   "metadata": {},
   "outputs": [
    {
     "name": "stdout",
     "output_type": "stream",
     "text": [
      "Hostname:           x2-07-1.genome.duke.edu\n",
      "Slurm Array Index:  0\n",
      "Time Stamp:         10-17-22+04:24:27\n",
      "\n",
      "Input file path: /gpfs/fs1/data/reddylab/Kuei/out/proj_combeffect_encode_fcc/Tewhey_K562_TileMPRA/fragment/Tile_K562_hg38_20210130.MYC.stranded_pos.bed\n",
      "Show the first few lines\n",
      "chr8\t126735901\t126736100\t8:126735901-126736100\t.\t+\n",
      "chr8\t126735951\t126736150\t8:126735951-126736150\t.\t+\n",
      "chr8\t126736001\t126736200\t8:126736001-126736200\t.\t+\n",
      "\n",
      "Input file path: /gpfs/fs1/data/reddylab/Kuei/annotation/motif_cluster_jvierstra/hg38_archetype_motifs_v1/chr8_rm_mouse_merge.bed.gz\n",
      "Show the first few lines\n",
      "chr8\t60015\t60023\tHD/4\t7.4328\n",
      "chr8\t60015\t60024\tHD/18\t6.4682\n",
      "chr8\t60039\t60048\tHD/14\t7.4314\n",
      "\n",
      "bedtools v2.25.0\n",
      "\n",
      "Output file path: /gpfs/fs1/data/reddylab/Kuei/out/proj_combeffect_encode_fcc/Tewhey_K562_TileMPRA/annotation/Tile_K562_hg38_20210130.MYC.stranded_pos.bed.gz\n",
      "Show the first few lines\n",
      "chr8\t126735901\t126736100\t8:126735901-126736100\t.\t+\tchr8\t126735913\t126735926\tSRF\t7.8026\t13\n",
      "chr8\t126735901\t126736100\t8:126735901-126736100\t.\t+\tchr8\t126735920\t126735929\tRBPJ\t5.9171\t9\n",
      "chr8\t126735901\t126736100\t8:126735901-126736100\t.\t+\tchr8\t126735923\t126735935\tIRF/1\t6.1392\t12\n",
      "\n",
      "\n",
      "Done!\n",
      "Run Time: 42 seconds\n"
     ]
    }
   ],
   "source": [
    "cat ${FD_LOG}/annotate_tmpra_myc.txt"
   ]
  },
  {
   "cell_type": "code",
   "execution_count": null,
   "id": "aec3143c-a8f9-4ca7-a8a0-b73a541b488d",
   "metadata": {},
   "outputs": [],
   "source": []
  }
 ],
 "metadata": {
  "kernelspec": {
   "display_name": "Bash",
   "language": "bash",
   "name": "bash"
  },
  "language_info": {
   "codemirror_mode": "shell",
   "file_extension": ".sh",
   "mimetype": "text/x-sh",
   "name": "bash"
  }
 },
 "nbformat": 4,
 "nbformat_minor": 5
}
