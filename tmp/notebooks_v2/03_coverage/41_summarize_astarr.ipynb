{
 "cells": [
  {
   "cell_type": "markdown",
   "id": "80841ae8",
   "metadata": {},
   "source": [
    "**Set environment**"
   ]
  },
  {
   "cell_type": "code",
   "execution_count": 1,
   "id": "7658d22e",
   "metadata": {},
   "outputs": [
    {
     "name": "stdout",
     "output_type": "stream",
     "text": [
      "You are in Singularity: singularity_proj_combeffect \n",
      "BASE DIRECTORY:     /mount/work \n",
      "PATH OF SOURCE:     /mount/work/source \n",
      "PATH OF EXECUTABLE: /mount/work/exe \n",
      "PATH OF ANNOTATION: /mount/work/annotation \n",
      "PATH OF PROJECT:    /mount/project \n",
      "PATH OF RESULTS:    /mount/work/out/proj_combeffect_encode_fcc \n"
     ]
    }
   ],
   "source": [
    "suppressWarnings(suppressMessages(source(\"../config/config_sing.R\")))\n",
    "show_env()"
   ]
  },
  {
   "cell_type": "code",
   "execution_count": 13,
   "id": "19a50d00",
   "metadata": {},
   "outputs": [],
   "source": [
    "REGIONS = c(\"GATA1\", \"MYC\")\n",
    "GROUPS  = c(\"Input\", \"Output\")"
   ]
  },
  {
   "cell_type": "code",
   "execution_count": 2,
   "id": "b3f56a3d",
   "metadata": {},
   "outputs": [],
   "source": [
    "SAMPLES = c(\n",
    "    paste0(\"Input_rep\",  1:6),\n",
    "    paste0(\"Output_rep\", 1:4))"
   ]
  },
  {
   "cell_type": "code",
   "execution_count": 3,
   "id": "5dc5fff0",
   "metadata": {},
   "outputs": [],
   "source": [
    "get_sample = function(fpath){\n",
    "    idx = str_detect(string = fpath, pattern = SAMPLES)\n",
    "    return(SAMPLES[idx])\n",
    "}"
   ]
  },
  {
   "cell_type": "markdown",
   "id": "92bb691b",
   "metadata": {},
   "source": [
    "## Library size"
   ]
  },
  {
   "cell_type": "code",
   "execution_count": 4,
   "id": "4d705eb6",
   "metadata": {},
   "outputs": [
    {
     "name": "stderr",
     "output_type": "stream",
     "text": [
      "\u001b[1mRows: \u001b[22m\u001b[34m10\u001b[39m \u001b[1mColumns: \u001b[22m\u001b[34m4\u001b[39m\n",
      "\u001b[36m──\u001b[39m \u001b[1mColumn specification\u001b[22m \u001b[36m──────────────────────────────────────────────────────────────────────────────────────────────────────────────────────────────────────────────────────────────────────\u001b[39m\n",
      "\u001b[1mDelimiter:\u001b[22m \",\"\n",
      "\u001b[31mchr\u001b[39m (3): Fpath, Sample, Group\n",
      "\u001b[32mdbl\u001b[39m (1): Count\n",
      "\n",
      "\u001b[36mℹ\u001b[39m Use `spec()` to retrieve the full column specification for this data.\n",
      "\u001b[36mℹ\u001b[39m Specify the column types or set `show_col_types = FALSE` to quiet this message.\n"
     ]
    },
    {
     "data": {
      "text/html": [
       "<table class=\"dataframe\">\n",
       "<caption>A tibble: 10 × 3</caption>\n",
       "<thead>\n",
       "\t<tr><th scope=col>Sample</th><th scope=col>Group</th><th scope=col>Size</th></tr>\n",
       "\t<tr><th scope=col>&lt;chr&gt;</th><th scope=col>&lt;chr&gt;</th><th scope=col>&lt;dbl&gt;</th></tr>\n",
       "</thead>\n",
       "<tbody>\n",
       "\t<tr><td>Input_rep1 </td><td>Input </td><td>348695063</td></tr>\n",
       "\t<tr><td>Input_rep2 </td><td>Input </td><td>451369741</td></tr>\n",
       "\t<tr><td>Input_rep3 </td><td>Input </td><td>487579055</td></tr>\n",
       "\t<tr><td>Input_rep4 </td><td>Input </td><td>456246254</td></tr>\n",
       "\t<tr><td>Input_rep5 </td><td>Input </td><td>444268950</td></tr>\n",
       "\t<tr><td>Input_rep6 </td><td>Input </td><td>397333562</td></tr>\n",
       "\t<tr><td>Output_rep1</td><td>Output</td><td> 44103844</td></tr>\n",
       "\t<tr><td>Output_rep2</td><td>Output</td><td> 97471282</td></tr>\n",
       "\t<tr><td>Output_rep3</td><td>Output</td><td> 84103298</td></tr>\n",
       "\t<tr><td>Output_rep4</td><td>Output</td><td>183115379</td></tr>\n",
       "</tbody>\n",
       "</table>\n"
      ],
      "text/latex": [
       "A tibble: 10 × 3\n",
       "\\begin{tabular}{lll}\n",
       " Sample & Group & Size\\\\\n",
       " <chr> & <chr> & <dbl>\\\\\n",
       "\\hline\n",
       "\t Input\\_rep1  & Input  & 348695063\\\\\n",
       "\t Input\\_rep2  & Input  & 451369741\\\\\n",
       "\t Input\\_rep3  & Input  & 487579055\\\\\n",
       "\t Input\\_rep4  & Input  & 456246254\\\\\n",
       "\t Input\\_rep5  & Input  & 444268950\\\\\n",
       "\t Input\\_rep6  & Input  & 397333562\\\\\n",
       "\t Output\\_rep1 & Output &  44103844\\\\\n",
       "\t Output\\_rep2 & Output &  97471282\\\\\n",
       "\t Output\\_rep3 & Output &  84103298\\\\\n",
       "\t Output\\_rep4 & Output & 183115379\\\\\n",
       "\\end{tabular}\n"
      ],
      "text/markdown": [
       "\n",
       "A tibble: 10 × 3\n",
       "\n",
       "| Sample &lt;chr&gt; | Group &lt;chr&gt; | Size &lt;dbl&gt; |\n",
       "|---|---|---|\n",
       "| Input_rep1  | Input  | 348695063 |\n",
       "| Input_rep2  | Input  | 451369741 |\n",
       "| Input_rep3  | Input  | 487579055 |\n",
       "| Input_rep4  | Input  | 456246254 |\n",
       "| Input_rep5  | Input  | 444268950 |\n",
       "| Input_rep6  | Input  | 397333562 |\n",
       "| Output_rep1 | Output |  44103844 |\n",
       "| Output_rep2 | Output |  97471282 |\n",
       "| Output_rep3 | Output |  84103298 |\n",
       "| Output_rep4 | Output | 183115379 |\n",
       "\n"
      ],
      "text/plain": [
       "   Sample      Group  Size     \n",
       "1  Input_rep1  Input  348695063\n",
       "2  Input_rep2  Input  451369741\n",
       "3  Input_rep3  Input  487579055\n",
       "4  Input_rep4  Input  456246254\n",
       "5  Input_rep5  Input  444268950\n",
       "6  Input_rep6  Input  397333562\n",
       "7  Output_rep1 Output  44103844\n",
       "8  Output_rep2 Output  97471282\n",
       "9  Output_rep3 Output  84103298\n",
       "10 Output_rep4 Output 183115379"
      ]
     },
     "metadata": {},
     "output_type": "display_data"
    }
   ],
   "source": [
    "fdiry = file.path(FD_RES, \"KS91_K562_ASTARRseq\", \"coverage\", \"library_size\")\n",
    "fname = \"library_size_summary.csv\"\n",
    "fpath = file.path(fdiry, fname)\n",
    "\n",
    "dat_lib = read_csv(fpath) %>% \n",
    "    dplyr::mutate(Size = Count) %>% \n",
    "    dplyr::select(Sample, Group, Size)\n",
    "dat_lib"
   ]
  },
  {
   "cell_type": "code",
   "execution_count": null,
   "id": "e6b07def",
   "metadata": {},
   "outputs": [],
   "source": []
  },
  {
   "cell_type": "code",
   "execution_count": 29,
   "id": "9f6a28d7",
   "metadata": {},
   "outputs": [
    {
     "name": "stdout",
     "output_type": "stream",
     "text": [
      "\n",
      "^^^^^^^^^^^^^^^^^^^^^^^^^^^^^^^^^^^^\n",
      "Region: GATA1 ; Group: Input \n",
      "\n",
      "Start importing data:\n",
      "[1] \"/mount/work/out/proj_combeffect_encode_fcc/KS91_K562_ASTARRseq/coverage/KS91_K562_hg38_ASTARRseq_Input_rep1.GATA1.unstranded.perbase.tsv.gz\"\n",
      "[2] \"/mount/work/out/proj_combeffect_encode_fcc/KS91_K562_ASTARRseq/coverage/KS91_K562_hg38_ASTARRseq_Input_rep2.GATA1.unstranded.perbase.tsv.gz\"\n",
      "[3] \"/mount/work/out/proj_combeffect_encode_fcc/KS91_K562_ASTARRseq/coverage/KS91_K562_hg38_ASTARRseq_Input_rep3.GATA1.unstranded.perbase.tsv.gz\"\n",
      "[4] \"/mount/work/out/proj_combeffect_encode_fcc/KS91_K562_ASTARRseq/coverage/KS91_K562_hg38_ASTARRseq_Input_rep4.GATA1.unstranded.perbase.tsv.gz\"\n",
      "[5] \"/mount/work/out/proj_combeffect_encode_fcc/KS91_K562_ASTARRseq/coverage/KS91_K562_hg38_ASTARRseq_Input_rep5.GATA1.unstranded.perbase.tsv.gz\"\n",
      "[6] \"/mount/work/out/proj_combeffect_encode_fcc/KS91_K562_ASTARRseq/coverage/KS91_K562_hg38_ASTARRseq_Input_rep6.GATA1.unstranded.perbase.tsv.gz\"\n",
      "++++++++++++++++++++++++++++++++++++++\n",
      "Imported data:\n",
      "    Shape: 12000906 5 \n",
      "++++++++++++++++++++++++++++++++++++++\n"
     ]
    },
    {
     "ename": "ERROR",
     "evalue": "Error: Cannot open file for writing:\n* '/mount/work/out/proj_combeffect_encode_fcc/KS91_K562_ASTARRseq/coverage/summary/KS91_K562_ASTARRseq_Input.GATA1.unstreated.perbase.stats.tsv'\n",
     "output_type": "error",
     "traceback": [
      "Error: Cannot open file for writing:\n* '/mount/work/out/proj_combeffect_encode_fcc/KS91_K562_ASTARRseq/coverage/summary/KS91_K562_ASTARRseq_Input.GATA1.unstreated.perbase.stats.tsv'\nTraceback:\n",
      "1. write_tsv(dat_stats, fpath)",
      "2. write_delim(x, file, delim = \"\\t\", na = na, append = append, \n .     col_names = col_names, quote = quote, escape = escape, eol = eol, \n .     num_threads = num_threads, progress = progress)",
      "3. vroom::vroom_write(x, file, delim = delim, col_names = col_names, \n .     append = append, na = na, eol = eol, quote = quote, escape = escape, \n .     num_threads = num_threads, progress = progress)",
      "4. vroom_write_(xx, file, delim, eol, na_str = na, col_names = col_names, \n .     append = append, options = opts, num_threads = num_threads, \n .     progress = progress, buf_lines = buf_lines)"
     ]
    }
   ],
   "source": [
    "### initialization\n",
    "prefix = \"KS91_K562_ASTARRseq\"\n",
    "cnames = c(\"Chrom\", \"Start\", \"End\", \"Count\")\n",
    "\n",
    "### loop through regions and groups to summarize counts\n",
    "for (region in REGIONS){\n",
    "    for (group in GROUPS){\n",
    "        \n",
    "        ### start timer\n",
    "        cat(\"\\n^^^^^^^^^^^^^^^^^^^^^^^^^^^^^^^^^^^^\\n\")\n",
    "        cat(\"Region:\", region, \";\", \"Group:\", group, \"\\n\\n\")\n",
    "        timer_start = Sys.time()\n",
    "        \n",
    "        ### get file directories\n",
    "        fdiry  = file.path(FD_RES, \"KS91_K562_ASTARRseq\", \"coverage\")\n",
    "        fname  = paste0(\"*\", group, \"*\", region, \"*unstranded*perbase*\")\n",
    "        fglob  = file.path(fdiry, fname)\n",
    "        fpaths = Sys.glob(fglob)\n",
    "        \n",
    "        cat(\"Start importing data:\\n\")\n",
    "        print(fpaths)\n",
    "        cat(\"++++++++++++++++++++++++++++++++++++++\\n\")\n",
    "        flush.console()\n",
    "        \n",
    "        ### import data\n",
    "        lst = lapply(fpaths, function(fpath){\n",
    "            sam = get_sample(fpath)\n",
    "            dat = read_tsv(fpath, col_name = cnames, show_col_types = FALSE)\n",
    "            dat = dat %>% \n",
    "                dplyr::mutate(Sample = sam) %>%\n",
    "                dplyr::mutate(across(Count, na_if, \".\")) %>%\n",
    "                dplyr::mutate(across(Count, as.integer))\n",
    "            return(dat)\n",
    "        })\n",
    "        dat_cnt = bind_rows(lst)\n",
    "        \n",
    "        cat(\"Imported data:\\n\")\n",
    "        cat(\"    Shape:\", dim(dat_cnt), \"\\n\")\n",
    "        cat(\"++++++++++++++++++++++++++++++++++++++\\n\")\n",
    "        flush.console()\n",
    "        \n",
    "        ### summarize\n",
    "        dat_stats = left_join(dat_cnt, dat_lib, by=\"Sample\") %>% \n",
    "            mutate(Cpm = Count * 10^6 / Size)  %>%\n",
    "            group_by(Chrom, Start, End, Group) %>%\n",
    "            summarise(\n",
    "                Cpm_mu = mean(    Cpm,       na.rm = TRUE),\n",
    "                Cpm_sd = sd(      Cpm,       na.rm = TRUE),\n",
    "                Cpm_md = median(  Cpm,       na.rm = TRUE),\n",
    "                Cpm_q1 = quantile(Cpm, 0.25, na.rm = TRUE),\n",
    "                Cpm_q3 = quantile(Cpm, 0.75, na.rm = TRUE),\n",
    "                .groups = 'drop')\n",
    "        \n",
    "        ### store table\n",
    "        fdiry = file.path(FD_RES, \"KS91_K562_ASTARRseq\", \"coverage\", \"summary\")\n",
    "        fname = paste0(prefix, \"_\", group, \".\", region, \".unstreated.perbase.stats.tsv\")\n",
    "        fpath = file.path(fdiry, fname)\n",
    "        write_tsv(dat_stats, fpath)\n",
    "        \n",
    "        cat(\"Saved data:\\n\")\n",
    "        cat(\"    Shape:\", dim(dat_stats), \"\\n\")\n",
    "        print(head(dat_stats))\n",
    "        cat(\"++++++++++++++++++++++++++++++++++++++\\n\")\n",
    "        flush.console()\n",
    "        \n",
    "        ### end timer\n",
    "        timer_stop = Sys.time()\n",
    "        runtime = timer_stop - timer_start\n",
    "        cat(\"Runtime: \", runtime, \"\\n\")\n",
    "        cat(\"++++++++++++++++++++++++++++++++++++++\\n\")\n",
    "        flush.console()\n",
    "        \n",
    "    } # end inner loop\n",
    "} # end outer loop"
   ]
  },
  {
   "cell_type": "code",
   "execution_count": null,
   "id": "e3bc5333",
   "metadata": {},
   "outputs": [],
   "source": [
    "print(1)"
   ]
  },
  {
   "cell_type": "code",
   "execution_count": null,
   "id": "633efaec",
   "metadata": {},
   "outputs": [],
   "source": []
  },
  {
   "cell_type": "code",
   "execution_count": null,
   "id": "c995c1e1",
   "metadata": {},
   "outputs": [],
   "source": []
  },
  {
   "cell_type": "code",
   "execution_count": null,
   "id": "bce07d55",
   "metadata": {},
   "outputs": [],
   "source": []
  },
  {
   "cell_type": "markdown",
   "id": "f386faf4",
   "metadata": {},
   "source": [
    "## Import data | GATA | Input"
   ]
  },
  {
   "cell_type": "code",
   "execution_count": 5,
   "id": "235b3bdc",
   "metadata": {},
   "outputs": [
    {
     "data": {
      "text/html": [
       "<style>\n",
       ".list-inline {list-style: none; margin:0; padding: 0}\n",
       ".list-inline>li {display: inline-block}\n",
       ".list-inline>li:not(:last-child)::after {content: \"\\00b7\"; padding: 0 .5ex}\n",
       "</style>\n",
       "<ol class=list-inline><li>'/mount/work/out/proj_combeffect_encode_fcc/KS91_K562_ASTARRseq/coverage/KS91_K562_hg38_ASTARRseq_Input_rep1.GATA1.unstranded.perbase.tsv.gz'</li><li>'/mount/work/out/proj_combeffect_encode_fcc/KS91_K562_ASTARRseq/coverage/KS91_K562_hg38_ASTARRseq_Input_rep2.GATA1.unstranded.perbase.tsv.gz'</li><li>'/mount/work/out/proj_combeffect_encode_fcc/KS91_K562_ASTARRseq/coverage/KS91_K562_hg38_ASTARRseq_Input_rep3.GATA1.unstranded.perbase.tsv.gz'</li><li>'/mount/work/out/proj_combeffect_encode_fcc/KS91_K562_ASTARRseq/coverage/KS91_K562_hg38_ASTARRseq_Input_rep4.GATA1.unstranded.perbase.tsv.gz'</li><li>'/mount/work/out/proj_combeffect_encode_fcc/KS91_K562_ASTARRseq/coverage/KS91_K562_hg38_ASTARRseq_Input_rep5.GATA1.unstranded.perbase.tsv.gz'</li><li>'/mount/work/out/proj_combeffect_encode_fcc/KS91_K562_ASTARRseq/coverage/KS91_K562_hg38_ASTARRseq_Input_rep6.GATA1.unstranded.perbase.tsv.gz'</li><li>'/mount/work/out/proj_combeffect_encode_fcc/KS91_K562_ASTARRseq/coverage/KS91_K562_hg38_ASTARRseq_Output_rep1.GATA1.unstranded.perbase.tsv.gz'</li><li>'/mount/work/out/proj_combeffect_encode_fcc/KS91_K562_ASTARRseq/coverage/KS91_K562_hg38_ASTARRseq_Output_rep2.GATA1.unstranded.perbase.tsv.gz'</li><li>'/mount/work/out/proj_combeffect_encode_fcc/KS91_K562_ASTARRseq/coverage/KS91_K562_hg38_ASTARRseq_Output_rep3.GATA1.unstranded.perbase.tsv.gz'</li><li>'/mount/work/out/proj_combeffect_encode_fcc/KS91_K562_ASTARRseq/coverage/KS91_K562_hg38_ASTARRseq_Output_rep4.GATA1.unstranded.perbase.tsv.gz'</li></ol>\n"
      ],
      "text/latex": [
       "\\begin{enumerate*}\n",
       "\\item '/mount/work/out/proj\\_combeffect\\_encode\\_fcc/KS91\\_K562\\_ASTARRseq/coverage/KS91\\_K562\\_hg38\\_ASTARRseq\\_Input\\_rep1.GATA1.unstranded.perbase.tsv.gz'\n",
       "\\item '/mount/work/out/proj\\_combeffect\\_encode\\_fcc/KS91\\_K562\\_ASTARRseq/coverage/KS91\\_K562\\_hg38\\_ASTARRseq\\_Input\\_rep2.GATA1.unstranded.perbase.tsv.gz'\n",
       "\\item '/mount/work/out/proj\\_combeffect\\_encode\\_fcc/KS91\\_K562\\_ASTARRseq/coverage/KS91\\_K562\\_hg38\\_ASTARRseq\\_Input\\_rep3.GATA1.unstranded.perbase.tsv.gz'\n",
       "\\item '/mount/work/out/proj\\_combeffect\\_encode\\_fcc/KS91\\_K562\\_ASTARRseq/coverage/KS91\\_K562\\_hg38\\_ASTARRseq\\_Input\\_rep4.GATA1.unstranded.perbase.tsv.gz'\n",
       "\\item '/mount/work/out/proj\\_combeffect\\_encode\\_fcc/KS91\\_K562\\_ASTARRseq/coverage/KS91\\_K562\\_hg38\\_ASTARRseq\\_Input\\_rep5.GATA1.unstranded.perbase.tsv.gz'\n",
       "\\item '/mount/work/out/proj\\_combeffect\\_encode\\_fcc/KS91\\_K562\\_ASTARRseq/coverage/KS91\\_K562\\_hg38\\_ASTARRseq\\_Input\\_rep6.GATA1.unstranded.perbase.tsv.gz'\n",
       "\\item '/mount/work/out/proj\\_combeffect\\_encode\\_fcc/KS91\\_K562\\_ASTARRseq/coverage/KS91\\_K562\\_hg38\\_ASTARRseq\\_Output\\_rep1.GATA1.unstranded.perbase.tsv.gz'\n",
       "\\item '/mount/work/out/proj\\_combeffect\\_encode\\_fcc/KS91\\_K562\\_ASTARRseq/coverage/KS91\\_K562\\_hg38\\_ASTARRseq\\_Output\\_rep2.GATA1.unstranded.perbase.tsv.gz'\n",
       "\\item '/mount/work/out/proj\\_combeffect\\_encode\\_fcc/KS91\\_K562\\_ASTARRseq/coverage/KS91\\_K562\\_hg38\\_ASTARRseq\\_Output\\_rep3.GATA1.unstranded.perbase.tsv.gz'\n",
       "\\item '/mount/work/out/proj\\_combeffect\\_encode\\_fcc/KS91\\_K562\\_ASTARRseq/coverage/KS91\\_K562\\_hg38\\_ASTARRseq\\_Output\\_rep4.GATA1.unstranded.perbase.tsv.gz'\n",
       "\\end{enumerate*}\n"
      ],
      "text/markdown": [
       "1. '/mount/work/out/proj_combeffect_encode_fcc/KS91_K562_ASTARRseq/coverage/KS91_K562_hg38_ASTARRseq_Input_rep1.GATA1.unstranded.perbase.tsv.gz'\n",
       "2. '/mount/work/out/proj_combeffect_encode_fcc/KS91_K562_ASTARRseq/coverage/KS91_K562_hg38_ASTARRseq_Input_rep2.GATA1.unstranded.perbase.tsv.gz'\n",
       "3. '/mount/work/out/proj_combeffect_encode_fcc/KS91_K562_ASTARRseq/coverage/KS91_K562_hg38_ASTARRseq_Input_rep3.GATA1.unstranded.perbase.tsv.gz'\n",
       "4. '/mount/work/out/proj_combeffect_encode_fcc/KS91_K562_ASTARRseq/coverage/KS91_K562_hg38_ASTARRseq_Input_rep4.GATA1.unstranded.perbase.tsv.gz'\n",
       "5. '/mount/work/out/proj_combeffect_encode_fcc/KS91_K562_ASTARRseq/coverage/KS91_K562_hg38_ASTARRseq_Input_rep5.GATA1.unstranded.perbase.tsv.gz'\n",
       "6. '/mount/work/out/proj_combeffect_encode_fcc/KS91_K562_ASTARRseq/coverage/KS91_K562_hg38_ASTARRseq_Input_rep6.GATA1.unstranded.perbase.tsv.gz'\n",
       "7. '/mount/work/out/proj_combeffect_encode_fcc/KS91_K562_ASTARRseq/coverage/KS91_K562_hg38_ASTARRseq_Output_rep1.GATA1.unstranded.perbase.tsv.gz'\n",
       "8. '/mount/work/out/proj_combeffect_encode_fcc/KS91_K562_ASTARRseq/coverage/KS91_K562_hg38_ASTARRseq_Output_rep2.GATA1.unstranded.perbase.tsv.gz'\n",
       "9. '/mount/work/out/proj_combeffect_encode_fcc/KS91_K562_ASTARRseq/coverage/KS91_K562_hg38_ASTARRseq_Output_rep3.GATA1.unstranded.perbase.tsv.gz'\n",
       "10. '/mount/work/out/proj_combeffect_encode_fcc/KS91_K562_ASTARRseq/coverage/KS91_K562_hg38_ASTARRseq_Output_rep4.GATA1.unstranded.perbase.tsv.gz'\n",
       "\n",
       "\n"
      ],
      "text/plain": [
       " [1] \"/mount/work/out/proj_combeffect_encode_fcc/KS91_K562_ASTARRseq/coverage/KS91_K562_hg38_ASTARRseq_Input_rep1.GATA1.unstranded.perbase.tsv.gz\" \n",
       " [2] \"/mount/work/out/proj_combeffect_encode_fcc/KS91_K562_ASTARRseq/coverage/KS91_K562_hg38_ASTARRseq_Input_rep2.GATA1.unstranded.perbase.tsv.gz\" \n",
       " [3] \"/mount/work/out/proj_combeffect_encode_fcc/KS91_K562_ASTARRseq/coverage/KS91_K562_hg38_ASTARRseq_Input_rep3.GATA1.unstranded.perbase.tsv.gz\" \n",
       " [4] \"/mount/work/out/proj_combeffect_encode_fcc/KS91_K562_ASTARRseq/coverage/KS91_K562_hg38_ASTARRseq_Input_rep4.GATA1.unstranded.perbase.tsv.gz\" \n",
       " [5] \"/mount/work/out/proj_combeffect_encode_fcc/KS91_K562_ASTARRseq/coverage/KS91_K562_hg38_ASTARRseq_Input_rep5.GATA1.unstranded.perbase.tsv.gz\" \n",
       " [6] \"/mount/work/out/proj_combeffect_encode_fcc/KS91_K562_ASTARRseq/coverage/KS91_K562_hg38_ASTARRseq_Input_rep6.GATA1.unstranded.perbase.tsv.gz\" \n",
       " [7] \"/mount/work/out/proj_combeffect_encode_fcc/KS91_K562_ASTARRseq/coverage/KS91_K562_hg38_ASTARRseq_Output_rep1.GATA1.unstranded.perbase.tsv.gz\"\n",
       " [8] \"/mount/work/out/proj_combeffect_encode_fcc/KS91_K562_ASTARRseq/coverage/KS91_K562_hg38_ASTARRseq_Output_rep2.GATA1.unstranded.perbase.tsv.gz\"\n",
       " [9] \"/mount/work/out/proj_combeffect_encode_fcc/KS91_K562_ASTARRseq/coverage/KS91_K562_hg38_ASTARRseq_Output_rep3.GATA1.unstranded.perbase.tsv.gz\"\n",
       "[10] \"/mount/work/out/proj_combeffect_encode_fcc/KS91_K562_ASTARRseq/coverage/KS91_K562_hg38_ASTARRseq_Output_rep4.GATA1.unstranded.perbase.tsv.gz\""
      ]
     },
     "metadata": {},
     "output_type": "display_data"
    }
   ],
   "source": [
    "fdiry = file.path(FD_RES, \"KS91_K562_ASTARRseq\", \"coverage\")\n",
    "fglob = file.path(fdiry, \"*GATA*unstranded*perbase*\")\n",
    "Sys.glob(fglob)"
   ]
  },
  {
   "cell_type": "code",
   "execution_count": 6,
   "id": "aa21dd51",
   "metadata": {},
   "outputs": [
    {
     "name": "stdout",
     "output_type": "stream",
     "text": [
      "[1] 6000453       5\n"
     ]
    },
    {
     "data": {
      "text/html": [
       "<table class=\"dataframe\">\n",
       "<caption>A tibble: 6 × 5</caption>\n",
       "<thead>\n",
       "\t<tr><th scope=col>Chrom</th><th scope=col>Start</th><th scope=col>End</th><th scope=col>Count</th><th scope=col>Sample</th></tr>\n",
       "\t<tr><th scope=col>&lt;chr&gt;</th><th scope=col>&lt;dbl&gt;</th><th scope=col>&lt;dbl&gt;</th><th scope=col>&lt;int&gt;</th><th scope=col>&lt;chr&gt;</th></tr>\n",
       "</thead>\n",
       "<tbody>\n",
       "\t<tr><td>chrX</td><td>47786500</td><td>47786501</td><td>NA</td><td>Input_rep1</td></tr>\n",
       "\t<tr><td>chrX</td><td>47786501</td><td>47786502</td><td>NA</td><td>Input_rep1</td></tr>\n",
       "\t<tr><td>chrX</td><td>47786502</td><td>47786503</td><td>NA</td><td>Input_rep1</td></tr>\n",
       "\t<tr><td>chrX</td><td>47786503</td><td>47786504</td><td>NA</td><td>Input_rep1</td></tr>\n",
       "\t<tr><td>chrX</td><td>47786504</td><td>47786505</td><td>NA</td><td>Input_rep1</td></tr>\n",
       "\t<tr><td>chrX</td><td>47786505</td><td>47786506</td><td>NA</td><td>Input_rep1</td></tr>\n",
       "</tbody>\n",
       "</table>\n"
      ],
      "text/latex": [
       "A tibble: 6 × 5\n",
       "\\begin{tabular}{lllll}\n",
       " Chrom & Start & End & Count & Sample\\\\\n",
       " <chr> & <dbl> & <dbl> & <int> & <chr>\\\\\n",
       "\\hline\n",
       "\t chrX & 47786500 & 47786501 & NA & Input\\_rep1\\\\\n",
       "\t chrX & 47786501 & 47786502 & NA & Input\\_rep1\\\\\n",
       "\t chrX & 47786502 & 47786503 & NA & Input\\_rep1\\\\\n",
       "\t chrX & 47786503 & 47786504 & NA & Input\\_rep1\\\\\n",
       "\t chrX & 47786504 & 47786505 & NA & Input\\_rep1\\\\\n",
       "\t chrX & 47786505 & 47786506 & NA & Input\\_rep1\\\\\n",
       "\\end{tabular}\n"
      ],
      "text/markdown": [
       "\n",
       "A tibble: 6 × 5\n",
       "\n",
       "| Chrom &lt;chr&gt; | Start &lt;dbl&gt; | End &lt;dbl&gt; | Count &lt;int&gt; | Sample &lt;chr&gt; |\n",
       "|---|---|---|---|---|\n",
       "| chrX | 47786500 | 47786501 | NA | Input_rep1 |\n",
       "| chrX | 47786501 | 47786502 | NA | Input_rep1 |\n",
       "| chrX | 47786502 | 47786503 | NA | Input_rep1 |\n",
       "| chrX | 47786503 | 47786504 | NA | Input_rep1 |\n",
       "| chrX | 47786504 | 47786505 | NA | Input_rep1 |\n",
       "| chrX | 47786505 | 47786506 | NA | Input_rep1 |\n",
       "\n"
      ],
      "text/plain": [
       "  Chrom Start    End      Count Sample    \n",
       "1 chrX  47786500 47786501 NA    Input_rep1\n",
       "2 chrX  47786501 47786502 NA    Input_rep1\n",
       "3 chrX  47786502 47786503 NA    Input_rep1\n",
       "4 chrX  47786503 47786504 NA    Input_rep1\n",
       "5 chrX  47786504 47786505 NA    Input_rep1\n",
       "6 chrX  47786505 47786506 NA    Input_rep1"
      ]
     },
     "metadata": {},
     "output_type": "display_data"
    }
   ],
   "source": [
    "### data directories\n",
    "fdiry = file.path(FD_RES, \"KS91_K562_ASTARRseq\", \"coverage\")\n",
    "fglob = file.path(fdiry, \"*Input*GATA*unstranded*perbase*\")\n",
    "fpaths = Sys.glob(fglob)\n",
    "\n",
    "### set columns\n",
    "cnames = c(\"Chrom\", \"Start\", \"End\", \"Count\")\n",
    "\n",
    "### import data\n",
    "lst = lapply(fpaths[1:3], function(fpath){\n",
    "    sam = get_sample(fpath)\n",
    "    dat = read_tsv(fpath, col_name = cnames, show_col_types = FALSE)\n",
    "    dat = dat %>% \n",
    "        dplyr::mutate(Sample = sam) %>%\n",
    "        dplyr::mutate(across(Count, na_if, \".\")) %>%\n",
    "        dplyr::mutate(across(Count, as.integer))\n",
    "    return(dat)\n",
    "})\n",
    "\n",
    "dat_cnt = bind_rows(lst)\n",
    "print(dim(dat_cnt))\n",
    "head(dat_cnt)"
   ]
  },
  {
   "cell_type": "code",
   "execution_count": 7,
   "id": "23b6d323",
   "metadata": {},
   "outputs": [
    {
     "data": {
      "text/html": [
       "<table class=\"dataframe\">\n",
       "<caption>A tibble: 6 × 9</caption>\n",
       "<thead>\n",
       "\t<tr><th scope=col>Chrom</th><th scope=col>Start</th><th scope=col>End</th><th scope=col>Group</th><th scope=col>Cpm_mu</th><th scope=col>Cpm_sd</th><th scope=col>Cpm_md</th><th scope=col>Cpm_q1</th><th scope=col>Cpm_q3</th></tr>\n",
       "\t<tr><th scope=col>&lt;chr&gt;</th><th scope=col>&lt;dbl&gt;</th><th scope=col>&lt;dbl&gt;</th><th scope=col>&lt;chr&gt;</th><th scope=col>&lt;dbl&gt;</th><th scope=col>&lt;dbl&gt;</th><th scope=col>&lt;dbl&gt;</th><th scope=col>&lt;dbl&gt;</th><th scope=col>&lt;dbl&gt;</th></tr>\n",
       "</thead>\n",
       "<tbody>\n",
       "\t<tr><td>chrX</td><td>47787231</td><td>47787232</td><td>Input</td><td>0.002541657</td><td>0.0004612858</td><td>0.002541657</td><td>0.002378568</td><td>0.002704746</td></tr>\n",
       "\t<tr><td>chrX</td><td>47787232</td><td>47787233</td><td>Input</td><td>0.002541657</td><td>0.0004612858</td><td>0.002541657</td><td>0.002378568</td><td>0.002704746</td></tr>\n",
       "\t<tr><td>chrX</td><td>47787233</td><td>47787234</td><td>Input</td><td>0.002541657</td><td>0.0004612858</td><td>0.002541657</td><td>0.002378568</td><td>0.002704746</td></tr>\n",
       "\t<tr><td>chrX</td><td>47787234</td><td>47787235</td><td>Input</td><td>0.002541657</td><td>0.0004612858</td><td>0.002541657</td><td>0.002378568</td><td>0.002704746</td></tr>\n",
       "\t<tr><td>chrX</td><td>47787235</td><td>47787236</td><td>Input</td><td>0.002541657</td><td>0.0004612858</td><td>0.002541657</td><td>0.002378568</td><td>0.002704746</td></tr>\n",
       "\t<tr><td>chrX</td><td>47787236</td><td>47787237</td><td>Input</td><td>0.002541657</td><td>0.0004612858</td><td>0.002541657</td><td>0.002378568</td><td>0.002704746</td></tr>\n",
       "</tbody>\n",
       "</table>\n"
      ],
      "text/latex": [
       "A tibble: 6 × 9\n",
       "\\begin{tabular}{lllllllll}\n",
       " Chrom & Start & End & Group & Cpm\\_mu & Cpm\\_sd & Cpm\\_md & Cpm\\_q1 & Cpm\\_q3\\\\\n",
       " <chr> & <dbl> & <dbl> & <chr> & <dbl> & <dbl> & <dbl> & <dbl> & <dbl>\\\\\n",
       "\\hline\n",
       "\t chrX & 47787231 & 47787232 & Input & 0.002541657 & 0.0004612858 & 0.002541657 & 0.002378568 & 0.002704746\\\\\n",
       "\t chrX & 47787232 & 47787233 & Input & 0.002541657 & 0.0004612858 & 0.002541657 & 0.002378568 & 0.002704746\\\\\n",
       "\t chrX & 47787233 & 47787234 & Input & 0.002541657 & 0.0004612858 & 0.002541657 & 0.002378568 & 0.002704746\\\\\n",
       "\t chrX & 47787234 & 47787235 & Input & 0.002541657 & 0.0004612858 & 0.002541657 & 0.002378568 & 0.002704746\\\\\n",
       "\t chrX & 47787235 & 47787236 & Input & 0.002541657 & 0.0004612858 & 0.002541657 & 0.002378568 & 0.002704746\\\\\n",
       "\t chrX & 47787236 & 47787237 & Input & 0.002541657 & 0.0004612858 & 0.002541657 & 0.002378568 & 0.002704746\\\\\n",
       "\\end{tabular}\n"
      ],
      "text/markdown": [
       "\n",
       "A tibble: 6 × 9\n",
       "\n",
       "| Chrom &lt;chr&gt; | Start &lt;dbl&gt; | End &lt;dbl&gt; | Group &lt;chr&gt; | Cpm_mu &lt;dbl&gt; | Cpm_sd &lt;dbl&gt; | Cpm_md &lt;dbl&gt; | Cpm_q1 &lt;dbl&gt; | Cpm_q3 &lt;dbl&gt; |\n",
       "|---|---|---|---|---|---|---|---|---|\n",
       "| chrX | 47787231 | 47787232 | Input | 0.002541657 | 0.0004612858 | 0.002541657 | 0.002378568 | 0.002704746 |\n",
       "| chrX | 47787232 | 47787233 | Input | 0.002541657 | 0.0004612858 | 0.002541657 | 0.002378568 | 0.002704746 |\n",
       "| chrX | 47787233 | 47787234 | Input | 0.002541657 | 0.0004612858 | 0.002541657 | 0.002378568 | 0.002704746 |\n",
       "| chrX | 47787234 | 47787235 | Input | 0.002541657 | 0.0004612858 | 0.002541657 | 0.002378568 | 0.002704746 |\n",
       "| chrX | 47787235 | 47787236 | Input | 0.002541657 | 0.0004612858 | 0.002541657 | 0.002378568 | 0.002704746 |\n",
       "| chrX | 47787236 | 47787237 | Input | 0.002541657 | 0.0004612858 | 0.002541657 | 0.002378568 | 0.002704746 |\n",
       "\n"
      ],
      "text/plain": [
       "  Chrom Start    End      Group Cpm_mu      Cpm_sd       Cpm_md     \n",
       "1 chrX  47787231 47787232 Input 0.002541657 0.0004612858 0.002541657\n",
       "2 chrX  47787232 47787233 Input 0.002541657 0.0004612858 0.002541657\n",
       "3 chrX  47787233 47787234 Input 0.002541657 0.0004612858 0.002541657\n",
       "4 chrX  47787234 47787235 Input 0.002541657 0.0004612858 0.002541657\n",
       "5 chrX  47787235 47787236 Input 0.002541657 0.0004612858 0.002541657\n",
       "6 chrX  47787236 47787237 Input 0.002541657 0.0004612858 0.002541657\n",
       "  Cpm_q1      Cpm_q3     \n",
       "1 0.002378568 0.002704746\n",
       "2 0.002378568 0.002704746\n",
       "3 0.002378568 0.002704746\n",
       "4 0.002378568 0.002704746\n",
       "5 0.002378568 0.002704746\n",
       "6 0.002378568 0.002704746"
      ]
     },
     "metadata": {},
     "output_type": "display_data"
    }
   ],
   "source": [
    "dat = left_join(dat_cnt, dat_lib, by=\"Sample\") %>% \n",
    "    mutate(Count = as.integer(Count))  %>%\n",
    "    mutate(Cpm = Count * 10^6 / Size)  %>%\n",
    "    group_by(Chrom, Start, End, Group) %>%\n",
    "    summarise(\n",
    "        Cpm_mu = mean(    Cpm,       na.rm = TRUE),\n",
    "        Cpm_sd = sd(      Cpm,       na.rm = TRUE),\n",
    "        Cpm_md = median(  Cpm,       na.rm = TRUE),\n",
    "        Cpm_q1 = quantile(Cpm, 0.25, na.rm = TRUE),\n",
    "        Cpm_q3 = quantile(Cpm, 0.75, na.rm = TRUE),\n",
    "        .groups = 'drop') %>%\n",
    "    na.omit\n",
    "head(dat)"
   ]
  },
  {
   "cell_type": "code",
   "execution_count": 8,
   "id": "227791ff",
   "metadata": {},
   "outputs": [
    {
     "name": "stdout",
     "output_type": "stream",
     "text": [
      "[1] 1677719       9\n"
     ]
    }
   ],
   "source": [
    "print(dim(dat))"
   ]
  },
  {
   "cell_type": "markdown",
   "id": "fb2acd69",
   "metadata": {},
   "source": [
    "## Import data | GATA | Output"
   ]
  },
  {
   "cell_type": "code",
   "execution_count": null,
   "id": "25241e9b",
   "metadata": {},
   "outputs": [],
   "source": []
  },
  {
   "cell_type": "markdown",
   "id": "674d318b",
   "metadata": {},
   "source": [
    "## Import data | GATA | Output"
   ]
  },
  {
   "cell_type": "code",
   "execution_count": null,
   "id": "33ce3850",
   "metadata": {},
   "outputs": [],
   "source": []
  },
  {
   "cell_type": "code",
   "execution_count": null,
   "id": "75e9cf76",
   "metadata": {},
   "outputs": [],
   "source": []
  },
  {
   "cell_type": "code",
   "execution_count": null,
   "id": "2837d92f",
   "metadata": {},
   "outputs": [],
   "source": []
  }
 ],
 "metadata": {
  "kernelspec": {
   "display_name": "R",
   "language": "R",
   "name": "ir"
  },
  "language_info": {
   "codemirror_mode": "r",
   "file_extension": ".r",
   "mimetype": "text/x-r-source",
   "name": "R",
   "pygments_lexer": "r",
   "version": "4.2.0"
  }
 },
 "nbformat": 4,
 "nbformat_minor": 5
}
