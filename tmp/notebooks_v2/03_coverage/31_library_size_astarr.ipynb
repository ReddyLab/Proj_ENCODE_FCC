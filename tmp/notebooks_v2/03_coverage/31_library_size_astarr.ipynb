{
 "cells": [
  {
   "cell_type": "markdown",
   "id": "caa5f164-a2cf-4c7a-89ff-e579c6aacf30",
   "metadata": {},
   "source": [
    "**Set environment**"
   ]
  },
  {
   "cell_type": "code",
   "execution_count": 1,
   "id": "02c58937",
   "metadata": {},
   "outputs": [
    {
     "name": "stdout",
     "output_type": "stream",
     "text": [
      "You are on Duke Server: HARDAC\n",
      "BASE DIRECTORY:     /gpfs/fs1/data/reddylab/Kuei\n",
      "PATH OF SOURCE:     /gpfs/fs1/data/reddylab/Kuei/source\n",
      "PATH OF EXECUTABLE: /gpfs/fs1/data/reddylab/Kuei/exe\n",
      "PATH OF ANNOTATION: /gpfs/fs1/data/reddylab/Kuei/annotation\n",
      "PATH OF PROJECT:    /gpfs/fs1/data/reddylab/Kuei/GitRepo/Proj_CombEffect_ENCODE_FCC/notebooks\n",
      "PATH OF RESULTS:    /gpfs/fs1/data/reddylab/Kuei/out/proj_combeffect_encode_fcc\n",
      "\n"
     ]
    }
   ],
   "source": [
    "source ../config/config_duke.sh\n",
    "show_env"
   ]
  },
  {
   "cell_type": "markdown",
   "id": "6b7d42a1-6e8a-49d2-a1a2-b82c42e9e545",
   "metadata": {},
   "source": [
    "## Sum up the score column in the bed file"
   ]
  },
  {
   "cell_type": "markdown",
   "id": "09917110-3d62-4e2d-89bf-cdfd3e06cabe",
   "metadata": {},
   "source": [
    "**TEST**"
   ]
  },
  {
   "cell_type": "code",
   "execution_count": 2,
   "id": "1e92ce75",
   "metadata": {},
   "outputs": [
    {
     "name": "stdout",
     "output_type": "stream",
     "text": [
      "/data/reddylab/Alex/encode4_duke/processing/starr_seq/210401_KS91_K562ASTARR_NovaSeq.hg38-pe-umis/KS91_K562_hg38_ASTARRseq_Output_rep1.f3q10.fragments.counts.txt.gz\n",
      "++++++++++++++++++++++++\n",
      "KS91_K562_hg38_ASTARRseq_Output_rep1.f3q10.fragments.counts.txt.gz\n",
      "++++++++++++++++++++++++\n",
      "chr1\t10057\t10233\tchr1_10057_10233\t2\t.\n",
      "chr1\t10188\t10442\tchr1_10188_10442\t1\t.\n",
      "chr1\t10285\t10349\tchr1_10285_10349\t1\t.\n",
      "chr1\t10287\t10332\tchr1_10287_10332\t1\t.\n",
      "chr1\t10365\t10449\tchr1_10365_10449\t1\t.\n",
      "chr1\t10389\t10442\tchr1_10389_10442\t1\t.\n",
      "chr1\t13471\t13708\tchr1_13471_13708\t1\t.\n",
      "chr1\t14098\t14507\tchr1_14098_14507\t1\t.\n",
      "chr1\t14132\t14498\tchr1_14132_14498\t1\t.\n",
      "chr1\t14134\t14498\tchr1_14134_14498\t1\t.\n",
      "\n",
      "gzip: stdout: Broken pipe\n"
     ]
    }
   ],
   "source": [
    "FPATH=${FP_WGS_ASTARR_OUT[0]}\n",
    "FNAME=$(basename ${FPATH})\n",
    "echo ${FPATH}\n",
    "echo ++++++++++++++++++++++++\n",
    "echo ${FNAME}\n",
    "echo ++++++++++++++++++++++++\n",
    "zcat ${FPATH} | head -n 10"
   ]
  },
  {
   "cell_type": "code",
   "execution_count": 4,
   "id": "4616f78d-e6ba-4a29-91dc-f9b0165c95e8",
   "metadata": {},
   "outputs": [
    {
     "name": "stdout",
     "output_type": "stream",
     "text": [
      "KS91_K562_hg38_ASTARRseq_Output_rep1.f3q10.fragments.counts.txt.gz,11\n",
      "\n",
      "gzip: stdout: Broken pipe\n"
     ]
    }
   ],
   "source": [
    "zcat ${FPATH} | head -n 10 | awk -v OFS=, -v FNAME=${FNAME} '{sum += $5} END {print FNAME, sum}'"
   ]
  },
  {
   "cell_type": "code",
   "execution_count": 5,
   "id": "196c6b16-1638-4f60-b5e4-1f31680f8ec0",
   "metadata": {},
   "outputs": [
    {
     "name": "stdout",
     "output_type": "stream",
     "text": [
      "6\n",
      "4\n"
     ]
    }
   ],
   "source": [
    "echo \"${#FP_WGS_ASTARR_INP[@]}\"\n",
    "echo \"${#FP_WGS_ASTARR_OUT[@]}\""
   ]
  },
  {
   "cell_type": "markdown",
   "id": "54d3903e-973a-4c09-a2c8-e1deae09b5b1",
   "metadata": {},
   "source": [
    "**RUN | Input**"
   ]
  },
  {
   "cell_type": "code",
   "execution_count": 6,
   "id": "5eb832fd-c0de-42ea-8548-73a0a27aa79f",
   "metadata": {},
   "outputs": [
    {
     "name": "stdout",
     "output_type": "stream",
     "text": [
      "Submitted batch job 29157593\n"
     ]
    }
   ],
   "source": [
    "sbatch -p ${NODE} \\\n",
    "    --exclude=dl-01 \\\n",
    "    --cpus-per-task 8 \\\n",
    "    --mem 20G \\\n",
    "    --output ${FD_LOG}/coverage_library_size_ASTARR_input.txt \\\n",
    "    --array 0 \\\n",
    "    <<'EOF'\n",
    "#!/bin/bash\n",
    "### set directories & global variables\n",
    "source ../config/config_duke.sh\n",
    "\n",
    "PREFIX=KS91_K562_ASTARRseq\n",
    "FD_OUT=${FD_RES}/${PREFIX}/coverage/library_size/\n",
    "FN_OUT=library_size_input.csv\n",
    "FP_OUT=${FD_OUT}/${FN_OUT}\n",
    "\n",
    "### print start message\n",
    "timer_start=`date +%s`\n",
    "echo \"Hostname:          \" $(hostname)\n",
    "echo \"Slurm Array Index: \" ${SLURM_ARRAY_TASK_ID}\n",
    "echo \"Time Stamp:        \" $(date +\"%m-%d-%y+%T\")\n",
    "echo\n",
    "\n",
    "### init\n",
    "mkdir -p ${FD_OUT}\n",
    "echo -n > ${FP_OUT}\n",
    "\n",
    "### get library size\n",
    "for FP_INP in ${FP_WGS_ASTARR_INP[@]}; do\n",
    "    \n",
    "    ### show I/O file\n",
    "    echo ++++++++++++++++++++++++++++++++++++\n",
    "    echo \"Input file path: ${FP_INP}\"\n",
    "    echo \"Show the first few lines\"\n",
    "    zcat ${FP_INP} | head -n 3\n",
    "    echo\n",
    "    \n",
    "    ### \n",
    "    FN_INP=$(basename ${FP_INP})\n",
    "    zcat ${FP_INP} |\\\n",
    "        awk -v OFS=, -v FNAME=${FN_INP} '{sum += $5} END {print FNAME, sum}' \\\n",
    "        >> ${FP_OUT}\n",
    "done\n",
    "\n",
    "### show I/O file\n",
    "echo \"Output file path: ${FP_OUT}\"\n",
    "echo \"Show the first few lines\"\n",
    "cat ${FP_OUT}\n",
    "echo\n",
    "\n",
    "### print end message\n",
    "timer=`date +%s`\n",
    "runtime=$(echo \"${timer} - ${timer_start}\" | bc -l)\n",
    "echo\n",
    "echo 'Done!'\n",
    "echo \"Run Time: $(displaytime ${runtime})\"\n",
    "\n",
    "EOF"
   ]
  },
  {
   "cell_type": "markdown",
   "id": "93189eed-82d6-49b0-b98a-d271d5c9953c",
   "metadata": {},
   "source": [
    "**RUN | Output**"
   ]
  },
  {
   "cell_type": "code",
   "execution_count": 7,
   "id": "fd76af7f-21a3-4564-9225-3999f2e37339",
   "metadata": {},
   "outputs": [
    {
     "name": "stdout",
     "output_type": "stream",
     "text": [
      "Submitted batch job 29157594\n"
     ]
    }
   ],
   "source": [
    "sbatch -p ${NODE} \\\n",
    "    --exclude=dl-01 \\\n",
    "    --cpus-per-task 8 \\\n",
    "    --mem 20G \\\n",
    "    --output ${FD_LOG}/coverage_library_size_ASTARR_output.txt \\\n",
    "    --array 0 \\\n",
    "    <<'EOF'\n",
    "#!/bin/bash\n",
    "### set directories & global variables\n",
    "source ../config/config_duke.sh\n",
    "\n",
    "PREFIX=KS91_K562_ASTARRseq\n",
    "FD_OUT=${FD_RES}/${PREFIX}/coverage/library_size/\n",
    "FN_OUT=library_size_output.csv\n",
    "FP_OUT=${FD_OUT}/${FN_OUT}\n",
    "\n",
    "### print start message\n",
    "timer_start=`date +%s`\n",
    "echo \"Hostname:          \" $(hostname)\n",
    "echo \"Slurm Array Index: \" ${SLURM_ARRAY_TASK_ID}\n",
    "echo \"Time Stamp:        \" $(date +\"%m-%d-%y+%T\")\n",
    "echo\n",
    "\n",
    "### init\n",
    "mkdir -p ${FD_OUT}\n",
    "echo -n > ${FP_OUT}\n",
    "\n",
    "### get library size\n",
    "for FP_INP in ${FP_WGS_ASTARR_OUT[@]}; do\n",
    "    \n",
    "    ### show I/O file\n",
    "    echo ++++++++++++++++++++++++++++++++++++\n",
    "    echo \"Input file path: ${FP_INP}\"\n",
    "    echo \"Show the first few lines\"\n",
    "    zcat ${FP_INP} | head -n 3\n",
    "    echo\n",
    "    \n",
    "    ### \n",
    "    FN_INP=$(basename ${FP_INP})\n",
    "    zcat ${FP_INP} |\\\n",
    "        awk -v OFS=, -v FNAME=${FN_INP} '{sum += $5} END {print FNAME, sum}' \\\n",
    "        >> ${FP_OUT}\n",
    "done\n",
    "\n",
    "### show I/O file\n",
    "echo \"Output file path: ${FP_OUT}\"\n",
    "echo \"Show the first few lines\"\n",
    "cat ${FP_OUT}\n",
    "echo\n",
    "\n",
    "### print end message\n",
    "timer=`date +%s`\n",
    "runtime=$(echo \"${timer} - ${timer_start}\" | bc -l)\n",
    "echo\n",
    "echo 'Done!'\n",
    "echo \"Run Time: $(displaytime ${runtime})\"\n",
    "\n",
    "EOF"
   ]
  },
  {
   "cell_type": "markdown",
   "id": "bb4a101a-0b5a-440b-ad88-2d3b2356d758",
   "metadata": {},
   "source": [
    "**CHECK**"
   ]
  },
  {
   "cell_type": "code",
   "execution_count": 10,
   "id": "f62a4871-5d87-446e-8fa1-6ccd3b293c06",
   "metadata": {},
   "outputs": [
    {
     "name": "stdout",
     "output_type": "stream",
     "text": [
      "Hostname:           x1-01-4.genome.duke.edu\n",
      "Slurm Array Index:  0\n",
      "Time Stamp:         10-16-22+12:43:20\n",
      "\n",
      "++++++++++++++++++++++++++++++++++++\n",
      "Input file path: /data/reddylab/Alex/encode4_duke/processing/atac_seq/210401_KS91_K562ASTARR_NovaSeq.hg38-pe-blacklist-removal/merged2/KS91_K562_hg38_ASTARRseq_Input_rep1.masked.dedup.fragments.counts.txt.gz\n",
      "Show the first few lines\n",
      "chr1\t10001\t10143\tchr1_10001_10143\t1\t.\n",
      "chr1\t10002\t10118\tchr1_10002_10118\t1\t.\n",
      "chr1\t10002\t10131\tchr1_10002_10131\t1\t.\n",
      "\n",
      "++++++++++++++++++++++++++++++++++++\n",
      "Input file path: /data/reddylab/Alex/encode4_duke/processing/atac_seq/210401_KS91_K562ASTARR_NovaSeq.hg38-pe-blacklist-removal/merged2/KS91_K562_hg38_ASTARRseq_Input_rep2.masked.dedup.fragments.counts.txt.gz\n",
      "Show the first few lines\n",
      "chr1\t10001\t10233\tchr1_10001_10233\t1\t.\n",
      "chr1\t10001\t10351\tchr1_10001_10351\t1\t.\n",
      "chr1\t10002\t10119\tchr1_10002_10119\t1\t.\n",
      "\n",
      "++++++++++++++++++++++++++++++++++++\n",
      "Input file path: /data/reddylab/Alex/encode4_duke/processing/atac_seq/210401_KS91_K562ASTARR_NovaSeq.hg38-pe-blacklist-removal/merged2/KS91_K562_hg38_ASTARRseq_Input_rep3.masked.dedup.fragments.counts.txt.gz\n",
      "Show the first few lines\n",
      "chr1\t10001\t10203\tchr1_10001_10203\t1\t.\n",
      "chr1\t10002\t10113\tchr1_10002_10113\t1\t.\n",
      "chr1\t10002\t10131\tchr1_10002_10131\t1\t.\n",
      "\n",
      "++++++++++++++++++++++++++++++++++++\n",
      "Input file path: /data/reddylab/Alex/encode4_duke/processing/atac_seq/210401_KS91_K562ASTARR_NovaSeq.hg38-pe-blacklist-removal/merged2/KS91_K562_hg38_ASTARRseq_Input_rep4.masked.dedup.fragments.counts.txt.gz\n",
      "Show the first few lines\n",
      "chr1\t10001\t10125\tchr1_10001_10125\t1\t.\n",
      "chr1\t10001\t10326\tchr1_10001_10326\t1\t.\n",
      "chr1\t10002\t10119\tchr1_10002_10119\t1\t.\n",
      "\n",
      "++++++++++++++++++++++++++++++++++++\n",
      "Input file path: /data/reddylab/Alex/encode4_duke/processing/atac_seq/210401_KS91_K562ASTARR_NovaSeq.hg38-pe-blacklist-removal/merged2/KS91_K562_hg38_ASTARRseq_Input_rep5.masked.dedup.fragments.counts.txt.gz\n",
      "Show the first few lines\n",
      "chr1\t10001\t10119\tchr1_10001_10119\t1\t.\n",
      "chr1\t10001\t10131\tchr1_10001_10131\t1\t.\n",
      "chr1\t10001\t10215\tchr1_10001_10215\t1\t.\n",
      "\n",
      "++++++++++++++++++++++++++++++++++++\n",
      "Input file path: /data/reddylab/Alex/encode4_duke/processing/atac_seq/210401_KS91_K562ASTARR_NovaSeq.hg38-pe-blacklist-removal/merged2/KS91_K562_hg38_ASTARRseq_Input_rep6.masked.dedup.fragments.counts.txt.gz\n",
      "Show the first few lines\n",
      "chr1\t10001\t10119\tchr1_10001_10119\t1\t.\n",
      "chr1\t10001\t10143\tchr1_10001_10143\t1\t.\n",
      "chr1\t10002\t10119\tchr1_10002_10119\t1\t.\n",
      "\n",
      "Output file path: /gpfs/fs1/data/reddylab/Kuei/out/proj_combeffect_encode_fcc/KS91_K562_ASTARRseq/coverage/library_size//library_size_input.csv\n",
      "Show the first few lines\n",
      "KS91_K562_hg38_ASTARRseq_Input_rep1.masked.dedup.fragments.counts.txt.gz,348695063\n",
      "KS91_K562_hg38_ASTARRseq_Input_rep2.masked.dedup.fragments.counts.txt.gz,451369741\n",
      "KS91_K562_hg38_ASTARRseq_Input_rep3.masked.dedup.fragments.counts.txt.gz,487579055\n",
      "KS91_K562_hg38_ASTARRseq_Input_rep4.masked.dedup.fragments.counts.txt.gz,456246254\n",
      "KS91_K562_hg38_ASTARRseq_Input_rep5.masked.dedup.fragments.counts.txt.gz,444268950\n",
      "KS91_K562_hg38_ASTARRseq_Input_rep6.masked.dedup.fragments.counts.txt.gz,397333562\n",
      "\n",
      "\n",
      "Done!\n",
      "Run Time: 13 minutes and 11 seconds\n"
     ]
    }
   ],
   "source": [
    "cat ${FD_LOG}/coverage_library_size_ASTARR_input.txt"
   ]
  },
  {
   "cell_type": "code",
   "execution_count": 9,
   "id": "eaeaf08e-fcf9-4a76-b04b-00d8b1c041ff",
   "metadata": {},
   "outputs": [
    {
     "name": "stdout",
     "output_type": "stream",
     "text": [
      "Hostname:           x1-01-3.genome.duke.edu\n",
      "Slurm Array Index:  0\n",
      "Time Stamp:         10-16-22+12:43:20\n",
      "\n",
      "++++++++++++++++++++++++++++++++++++\n",
      "Input file path: /data/reddylab/Alex/encode4_duke/processing/starr_seq/210401_KS91_K562ASTARR_NovaSeq.hg38-pe-umis/KS91_K562_hg38_ASTARRseq_Output_rep1.f3q10.fragments.counts.txt.gz\n",
      "Show the first few lines\n",
      "chr1\t10057\t10233\tchr1_10057_10233\t2\t.\n",
      "chr1\t10188\t10442\tchr1_10188_10442\t1\t.\n",
      "chr1\t10285\t10349\tchr1_10285_10349\t1\t.\n",
      "\n",
      "++++++++++++++++++++++++++++++++++++\n",
      "Input file path: /data/reddylab/Alex/encode4_duke/processing/starr_seq/210401_KS91_K562ASTARR_NovaSeq.hg38-pe-umis/KS91_K562_hg38_ASTARRseq_Output_rep2.f3q10.fragments.counts.txt.gz\n",
      "Show the first few lines\n",
      "chr1\t10051\t10233\tchr1_10051_10233\t1\t.\n",
      "chr1\t10056\t10233\tchr1_10056_10233\t1\t.\n",
      "chr1\t10057\t10233\tchr1_10057_10233\t5\t.\n",
      "\n",
      "++++++++++++++++++++++++++++++++++++\n",
      "Input file path: /data/reddylab/Alex/encode4_duke/processing/starr_seq/210401_KS91_K562ASTARR_NovaSeq.hg38-pe-umis/KS91_K562_hg38_ASTARRseq_Output_rep3.f3q10.fragments.counts.txt.gz\n",
      "Show the first few lines\n",
      "chr1\t10057\t10233\tchr1_10057_10233\t2\t.\n",
      "chr1\t10087\t10412\tchr1_10087_10412\t1\t.\n",
      "chr1\t10342\t10452\tchr1_10342_10452\t1\t.\n",
      "\n",
      "++++++++++++++++++++++++++++++++++++\n",
      "Input file path: /data/reddylab/Alex/encode4_duke/processing/starr_seq/210401_KS91_K562ASTARR_NovaSeq.hg38-pe-umis/KS91_K562_hg38_ASTARRseq_Output_rep4.f3q10.fragments.counts.txt.gz\n",
      "Show the first few lines\n",
      "chr1\t10033\t10130\tchr1_10033_10130\t1\t.\n",
      "chr1\t10057\t10233\tchr1_10057_10233\t3\t.\n",
      "chr1\t10104\t10345\tchr1_10104_10345\t1\t.\n",
      "\n",
      "Output file path: /gpfs/fs1/data/reddylab/Kuei/out/proj_combeffect_encode_fcc/KS91_K562_ASTARRseq/coverage/library_size//library_size_output.csv\n",
      "Show the first few lines\n",
      "KS91_K562_hg38_ASTARRseq_Output_rep1.f3q10.fragments.counts.txt.gz,44103844\n",
      "KS91_K562_hg38_ASTARRseq_Output_rep2.f3q10.fragments.counts.txt.gz,97471282\n",
      "KS91_K562_hg38_ASTARRseq_Output_rep3.f3q10.fragments.counts.txt.gz,84103298\n",
      "KS91_K562_hg38_ASTARRseq_Output_rep4.f3q10.fragments.counts.txt.gz,183115379\n",
      "\n",
      "\n",
      "Done!\n",
      "Run Time: 1 minutes and 39 seconds\n"
     ]
    }
   ],
   "source": [
    "cat ${FD_LOG}/coverage_library_size_ASTARR_output.txt"
   ]
  },
  {
   "cell_type": "code",
   "execution_count": null,
   "id": "6d976c2c-2e1e-4439-874f-0210b2e6ce3d",
   "metadata": {},
   "outputs": [],
   "source": []
  }
 ],
 "metadata": {
  "kernelspec": {
   "display_name": "Bash",
   "language": "bash",
   "name": "bash"
  },
  "language_info": {
   "codemirror_mode": "shell",
   "file_extension": ".sh",
   "mimetype": "text/x-sh",
   "name": "bash"
  }
 },
 "nbformat": 4,
 "nbformat_minor": 5
}
