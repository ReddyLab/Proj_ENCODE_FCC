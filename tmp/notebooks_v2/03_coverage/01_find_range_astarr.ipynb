{
 "cells": [
  {
   "cell_type": "markdown",
   "id": "a25648a7",
   "metadata": {},
   "source": [
    "**Set environment**"
   ]
  },
  {
   "cell_type": "code",
   "execution_count": 2,
   "id": "16be7ca1",
   "metadata": {},
   "outputs": [
    {
     "name": "stdout",
     "output_type": "stream",
     "text": [
      "You are in Singularity: singularity_proj_combeffect \n",
      "BASE DIRECTORY:     /mount/work \n",
      "PATH OF SOURCE:     /mount/work/source \n",
      "PATH OF EXECUTABLE: /mount/work/exe \n",
      "PATH OF ANNOTATION: /mount/work/annotation \n",
      "PATH OF PROJECT:    /mount/project \n",
      "PATH OF RESULTS:    /mount/work/out/proj_combeffect_encode_fcc \n"
     ]
    }
   ],
   "source": [
    "suppressMessages(source(\"../config/config_sing.R\"))\n",
    "show_env()"
   ]
  },
  {
   "cell_type": "code",
   "execution_count": 7,
   "id": "4a2019d1",
   "metadata": {},
   "outputs": [],
   "source": [
    "FD_FRG = file.path(FD_RES, \"KS91_K562_ASTARRseq\", \"fragment\")"
   ]
  },
  {
   "cell_type": "markdown",
   "id": "c315c531",
   "metadata": {},
   "source": [
    "## GATA1"
   ]
  },
  {
   "cell_type": "code",
   "execution_count": 9,
   "id": "53109911",
   "metadata": {},
   "outputs": [
    {
     "name": "stdout",
     "output_type": "stream",
     "text": [
      " [1] \"/mount/work/out/proj_combeffect_encode_fcc/KS91_K562_ASTARRseq/fragment/KS91_K562_hg38_ASTARRseq_Input_rep1.GATA1.unstranded.bed\" \n",
      " [2] \"/mount/work/out/proj_combeffect_encode_fcc/KS91_K562_ASTARRseq/fragment/KS91_K562_hg38_ASTARRseq_Input_rep2.GATA1.unstranded.bed\" \n",
      " [3] \"/mount/work/out/proj_combeffect_encode_fcc/KS91_K562_ASTARRseq/fragment/KS91_K562_hg38_ASTARRseq_Input_rep3.GATA1.unstranded.bed\" \n",
      " [4] \"/mount/work/out/proj_combeffect_encode_fcc/KS91_K562_ASTARRseq/fragment/KS91_K562_hg38_ASTARRseq_Input_rep4.GATA1.unstranded.bed\" \n",
      " [5] \"/mount/work/out/proj_combeffect_encode_fcc/KS91_K562_ASTARRseq/fragment/KS91_K562_hg38_ASTARRseq_Input_rep5.GATA1.unstranded.bed\" \n",
      " [6] \"/mount/work/out/proj_combeffect_encode_fcc/KS91_K562_ASTARRseq/fragment/KS91_K562_hg38_ASTARRseq_Input_rep6.GATA1.unstranded.bed\" \n",
      " [7] \"/mount/work/out/proj_combeffect_encode_fcc/KS91_K562_ASTARRseq/fragment/KS91_K562_hg38_ASTARRseq_Output_rep1.GATA1.unstranded.bed\"\n",
      " [8] \"/mount/work/out/proj_combeffect_encode_fcc/KS91_K562_ASTARRseq/fragment/KS91_K562_hg38_ASTARRseq_Output_rep2.GATA1.unstranded.bed\"\n",
      " [9] \"/mount/work/out/proj_combeffect_encode_fcc/KS91_K562_ASTARRseq/fragment/KS91_K562_hg38_ASTARRseq_Output_rep3.GATA1.unstranded.bed\"\n",
      "[10] \"/mount/work/out/proj_combeffect_encode_fcc/KS91_K562_ASTARRseq/fragment/KS91_K562_hg38_ASTARRseq_Output_rep4.GATA1.unstranded.bed\"\n"
     ]
    }
   ],
   "source": [
    "fdiry  = FD_FRG\n",
    "fglob  = file.path(fdiry, \"*GATA1*unstranded*\")\n",
    "fpaths = Sys.glob(fglob)\n",
    "print(fpaths)"
   ]
  },
  {
   "cell_type": "code",
   "execution_count": 12,
   "id": "5c9b3aac",
   "metadata": {},
   "outputs": [],
   "source": [
    "lst = lapply(fpaths, function(fpath){\n",
    "    dat = read_tsv(fpath, col_names = FALSE, show_col_types = FALSE)\n",
    "    res = c(unique(dat$X1), range(c(dat$X2, dat$X3)))\n",
    "    return(res)\n",
    "})"
   ]
  },
  {
   "cell_type": "code",
   "execution_count": 23,
   "id": "6f86a127",
   "metadata": {},
   "outputs": [
    {
     "name": "stdout",
     "output_type": "stream",
     "text": [
      "   Chrom    Start      End\n",
      "1   chrX 47787165 49786620\n",
      "2   chrX 47786508 49786637\n",
      "3   chrX 47787238 49786643\n",
      "4   chrX 47786963 49786637\n",
      "5   chrX 47787231 49786588\n",
      "6   chrX 47787593 49786620\n",
      "7   chrX 47787189 49785973\n",
      "8   chrX 47787441 49786387\n",
      "9   chrX 47787224 49786471\n",
      "10  chrX 47787173 49786588\n",
      "[1] 47786508\n",
      "[1] 49786643\n"
     ]
    }
   ],
   "source": [
    "dat = data.frame(do.call(rbind, lst))\n",
    "colnames(dat) = c(\"Chrom\", \"Start\", \"End\")\n",
    "dat$Start = as.integer(dat$Start)\n",
    "dat$End   = as.integer(dat$End)\n",
    "range_gata1 = dat\n",
    "\n",
    "print(dat)\n",
    "print(min(dat$Start))\n",
    "print(max(dat$End))"
   ]
  },
  {
   "cell_type": "markdown",
   "id": "ed929953",
   "metadata": {},
   "source": [
    "**`ASTARR | GATA1 | chrX:47786508-49786637`**"
   ]
  },
  {
   "cell_type": "markdown",
   "id": "6c4bcb36",
   "metadata": {},
   "source": [
    "## MYC"
   ]
  },
  {
   "cell_type": "code",
   "execution_count": 24,
   "id": "15a22307",
   "metadata": {},
   "outputs": [
    {
     "name": "stdout",
     "output_type": "stream",
     "text": [
      " [1] \"/mount/work/out/proj_combeffect_encode_fcc/KS91_K562_ASTARRseq/fragment/KS91_K562_hg38_ASTARRseq_Input_rep1.MYC.unstranded.bed\" \n",
      " [2] \"/mount/work/out/proj_combeffect_encode_fcc/KS91_K562_ASTARRseq/fragment/KS91_K562_hg38_ASTARRseq_Input_rep2.MYC.unstranded.bed\" \n",
      " [3] \"/mount/work/out/proj_combeffect_encode_fcc/KS91_K562_ASTARRseq/fragment/KS91_K562_hg38_ASTARRseq_Input_rep3.MYC.unstranded.bed\" \n",
      " [4] \"/mount/work/out/proj_combeffect_encode_fcc/KS91_K562_ASTARRseq/fragment/KS91_K562_hg38_ASTARRseq_Input_rep4.MYC.unstranded.bed\" \n",
      " [5] \"/mount/work/out/proj_combeffect_encode_fcc/KS91_K562_ASTARRseq/fragment/KS91_K562_hg38_ASTARRseq_Input_rep5.MYC.unstranded.bed\" \n",
      " [6] \"/mount/work/out/proj_combeffect_encode_fcc/KS91_K562_ASTARRseq/fragment/KS91_K562_hg38_ASTARRseq_Input_rep6.MYC.unstranded.bed\" \n",
      " [7] \"/mount/work/out/proj_combeffect_encode_fcc/KS91_K562_ASTARRseq/fragment/KS91_K562_hg38_ASTARRseq_Output_rep1.MYC.unstranded.bed\"\n",
      " [8] \"/mount/work/out/proj_combeffect_encode_fcc/KS91_K562_ASTARRseq/fragment/KS91_K562_hg38_ASTARRseq_Output_rep2.MYC.unstranded.bed\"\n",
      " [9] \"/mount/work/out/proj_combeffect_encode_fcc/KS91_K562_ASTARRseq/fragment/KS91_K562_hg38_ASTARRseq_Output_rep3.MYC.unstranded.bed\"\n",
      "[10] \"/mount/work/out/proj_combeffect_encode_fcc/KS91_K562_ASTARRseq/fragment/KS91_K562_hg38_ASTARRseq_Output_rep4.MYC.unstranded.bed\"\n"
     ]
    }
   ],
   "source": [
    "fdiry  = FD_FRG\n",
    "fglob  = file.path(fdiry, \"*MYC*unstranded*\")\n",
    "fpaths = Sys.glob(fglob)\n",
    "print(fpaths)"
   ]
  },
  {
   "cell_type": "code",
   "execution_count": 25,
   "id": "426df616",
   "metadata": {},
   "outputs": [],
   "source": [
    "lst = lapply(fpaths, function(fpath){\n",
    "    dat = read_tsv(fpath, col_names = FALSE, show_col_types = FALSE)\n",
    "    res = c(unique(dat$X1), range(c(dat$X2, dat$X3)))\n",
    "    return(res)\n",
    "})"
   ]
  },
  {
   "cell_type": "code",
   "execution_count": 26,
   "id": "760662d8",
   "metadata": {},
   "outputs": [
    {
     "name": "stdout",
     "output_type": "stream",
     "text": [
      "   Chrom     Start       End\n",
      "1   chr8 126735990 128736149\n",
      "2   chr8 126735973 128736166\n",
      "3   chr8 126735973 128736166\n",
      "4   chr8 126735973 128736157\n",
      "5   chr8 126735973 128736166\n",
      "6   chr8 126735990 128736166\n",
      "7   chr8 126736089 128736128\n",
      "8   chr8 126735987 128736157\n",
      "9   chr8 126735987 128736157\n",
      "10  chr8 126736025 128736078\n",
      "[1] 126735973\n",
      "[1] 128736166\n"
     ]
    }
   ],
   "source": [
    "dat = data.frame(do.call(rbind, lst))\n",
    "colnames(dat) = c(\"Chrom\", \"Start\", \"End\")\n",
    "dat$Start = as.integer(dat$Start)\n",
    "dat$End   = as.integer(dat$End)\n",
    "range_myc = dat\n",
    "\n",
    "print(dat)\n",
    "print(min(dat$Start))\n",
    "print(max(dat$End))"
   ]
  },
  {
   "cell_type": "markdown",
   "id": "ec3e389d",
   "metadata": {},
   "source": [
    "**`ASTARR | MYC | chr8:126735973-128736166`**"
   ]
  },
  {
   "cell_type": "code",
   "execution_count": null,
   "id": "86e7aa74",
   "metadata": {},
   "outputs": [],
   "source": []
  }
 ],
 "metadata": {
  "kernelspec": {
   "display_name": "R",
   "language": "R",
   "name": "ir"
  },
  "language_info": {
   "codemirror_mode": "r",
   "file_extension": ".r",
   "mimetype": "text/x-r-source",
   "name": "R",
   "pygments_lexer": "r",
   "version": "4.2.0"
  }
 },
 "nbformat": 4,
 "nbformat_minor": 5
}
