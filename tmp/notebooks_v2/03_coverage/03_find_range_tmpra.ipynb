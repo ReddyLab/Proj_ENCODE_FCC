{
 "cells": [
  {
   "cell_type": "markdown",
   "id": "c5b3544f",
   "metadata": {},
   "source": [
    "**Set environment**"
   ]
  },
  {
   "cell_type": "code",
   "execution_count": 1,
   "id": "1819c5fa",
   "metadata": {},
   "outputs": [
    {
     "name": "stdout",
     "output_type": "stream",
     "text": [
      "You are in Singularity: singularity_proj_combeffect \n",
      "BASE DIRECTORY:     /mount/work \n",
      "PATH OF SOURCE:     /mount/work/source \n",
      "PATH OF EXECUTABLE: /mount/work/exe \n",
      "PATH OF ANNOTATION: /mount/work/annotation \n",
      "PATH OF PROJECT:    /mount/project \n",
      "PATH OF RESULTS:    /mount/work/out/proj_combeffect_encode_fcc \n"
     ]
    }
   ],
   "source": [
    "suppressMessages(source(\"../config/config_sing.R\"))\n",
    "show_env()"
   ]
  },
  {
   "cell_type": "code",
   "execution_count": 2,
   "id": "531a4d17",
   "metadata": {},
   "outputs": [],
   "source": [
    "FD_FRG = file.path(FD_RES, \"Tewhey_K562_TileMPRA\", \"fragment\")"
   ]
  },
  {
   "cell_type": "markdown",
   "id": "6b9d9c26",
   "metadata": {},
   "source": [
    "## GATA1"
   ]
  },
  {
   "cell_type": "code",
   "execution_count": 4,
   "id": "3ebfe9cb",
   "metadata": {},
   "outputs": [
    {
     "name": "stdout",
     "output_type": "stream",
     "text": [
      "[1] \"/mount/work/out/proj_combeffect_encode_fcc/Tewhey_K562_TileMPRA/fragment/Tile_K562_hg38_20210130.GATA1.stranded_pos.bed\"\n"
     ]
    }
   ],
   "source": [
    "fdiry  = FD_FRG\n",
    "fglob  = file.path(fdiry, \"*GATA1*\")\n",
    "fpaths = Sys.glob(fglob)\n",
    "print(fpaths)"
   ]
  },
  {
   "cell_type": "code",
   "execution_count": 14,
   "id": "379f294d",
   "metadata": {},
   "outputs": [
    {
     "name": "stdout",
     "output_type": "stream",
     "text": [
      "[1] \"chrX\"     \"47786401\" \"49786750\"\n"
     ]
    }
   ],
   "source": [
    "fpath = fpaths[1]\n",
    "dat   = read_tsv(fpath, col_names = FALSE, show_col_types = FALSE)\n",
    "res   = c(unique(dat$X1), range(c(dat$X2, dat$X3)))\n",
    "\n",
    "range_gata1 = res\n",
    "print(res)"
   ]
  },
  {
   "cell_type": "markdown",
   "id": "3e8d4a03",
   "metadata": {},
   "source": [
    "**`TMPRA | GATA1 | chrX:47786401-49786750`**"
   ]
  },
  {
   "cell_type": "markdown",
   "id": "14cb6741",
   "metadata": {},
   "source": [
    "## MYC"
   ]
  },
  {
   "cell_type": "code",
   "execution_count": 15,
   "id": "d8d1bb3c",
   "metadata": {},
   "outputs": [
    {
     "name": "stdout",
     "output_type": "stream",
     "text": [
      "[1] \"/mount/work/out/proj_combeffect_encode_fcc/Tewhey_K562_TileMPRA/fragment/Tile_K562_hg38_20210130.MYC.stranded_pos.bed\"\n"
     ]
    }
   ],
   "source": [
    "fdiry  = FD_FRG\n",
    "fglob  = file.path(fdiry, \"*MYC*\")\n",
    "fpaths = Sys.glob(fglob)\n",
    "print(fpaths)"
   ]
  },
  {
   "cell_type": "code",
   "execution_count": 16,
   "id": "0a3c4221",
   "metadata": {},
   "outputs": [
    {
     "name": "stdout",
     "output_type": "stream",
     "text": [
      "[1] \"chr8\"      \"126735901\" \"128736250\"\n"
     ]
    }
   ],
   "source": [
    "fpath = fpaths[1]\n",
    "dat   = read_tsv(fpath, col_names = FALSE, show_col_types = FALSE)\n",
    "res   = c(unique(dat$X1), range(c(dat$X2, dat$X3)))\n",
    "\n",
    "range_myc = res\n",
    "print(res)"
   ]
  },
  {
   "cell_type": "markdown",
   "id": "646cdcac",
   "metadata": {},
   "source": [
    "**`TMPRA | MYC | chr8:126735901-128736250`**"
   ]
  },
  {
   "cell_type": "code",
   "execution_count": null,
   "id": "bff1dbe2",
   "metadata": {},
   "outputs": [],
   "source": []
  }
 ],
 "metadata": {
  "kernelspec": {
   "display_name": "R",
   "language": "R",
   "name": "ir"
  },
  "language_info": {
   "codemirror_mode": "r",
   "file_extension": ".r",
   "mimetype": "text/x-r-source",
   "name": "R",
   "pygments_lexer": "r",
   "version": "4.2.0"
  }
 },
 "nbformat": 4,
 "nbformat_minor": 5
}
