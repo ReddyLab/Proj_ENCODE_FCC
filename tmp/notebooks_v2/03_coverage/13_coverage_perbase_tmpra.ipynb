{
 "cells": [
  {
   "cell_type": "markdown",
   "id": "bc22d985-1d63-4e8a-b308-598f1efdb86e",
   "metadata": {},
   "source": [
    "**Set environment**"
   ]
  },
  {
   "cell_type": "code",
   "execution_count": 1,
   "id": "49ecc488-5224-4d18-b8d6-7a09292556dd",
   "metadata": {},
   "outputs": [
    {
     "name": "stdout",
     "output_type": "stream",
     "text": [
      "You are on Duke Server: HARDAC\n",
      "BASE DIRECTORY:     /gpfs/fs1/data/reddylab/Kuei\n",
      "PATH OF SOURCE:     /gpfs/fs1/data/reddylab/Kuei/source\n",
      "PATH OF EXECUTABLE: /gpfs/fs1/data/reddylab/Kuei/exe\n",
      "PATH OF ANNOTATION: /gpfs/fs1/data/reddylab/Kuei/annotation\n",
      "PATH OF PROJECT:    /gpfs/fs1/data/reddylab/Kuei/GitRepo/Proj_CombEffect_ENCODE_FCC/notebooks\n",
      "PATH OF RESULTS:    /gpfs/fs1/data/reddylab/Kuei/out/proj_combeffect_encode_fcc\n",
      "\n"
     ]
    }
   ],
   "source": [
    "source ../config/config_duke.sh\n",
    "source ../config/config_load_module_bedtools.sh\n",
    "show_env"
   ]
  },
  {
   "cell_type": "markdown",
   "id": "792fa5b4-f8e9-4883-9927-139a98ae5a42",
   "metadata": {},
   "source": [
    "## Calculate coverage perbase for input and output"
   ]
  },
  {
   "cell_type": "markdown",
   "id": "bb6a5fa0-91f9-4fb5-adba-80473cdaeff0",
   "metadata": {},
   "source": [
    "**TEST**"
   ]
  },
  {
   "cell_type": "code",
   "execution_count": 2,
   "id": "fa28b1b7-82c9-4cfe-b0df-8480492be940",
   "metadata": {},
   "outputs": [
    {
     "name": "stdout",
     "output_type": "stream",
     "text": [
      "Region:  GATA1\n",
      "FN_INP: Tile_K562_hg38_20210130.GATA1.stranded_pos.round.bed\n",
      "FN_OUT: Tile_K562_hg38_20210130.GATA1.stranded_pos.Output.perbase.tsv.gz\n",
      "\n",
      "Region:  MYC\n",
      "FN_INP: Tile_K562_hg38_20210130.MYC.stranded_pos.round.bed\n",
      "FN_OUT: Tile_K562_hg38_20210130.MYC.stranded_pos.Output.perbase.tsv.gz\n",
      "\n",
      "Region:  FADS\n",
      "FN_INP: Tile_K562_hg38_20200905.FADS.stranded_neg.round.bed\n",
      "FN_OUT: Tile_K562_hg38_20200905.FADS.stranded_neg.Output.perbase.tsv.gz\n",
      "FN_INP: Tile_K562_hg38_20200905.FADS.stranded_pos.round.bed\n",
      "FN_OUT: Tile_K562_hg38_20200905.FADS.stranded_pos.Output.perbase.tsv.gz\n",
      "\n"
     ]
    }
   ],
   "source": [
    "### global variables\n",
    "FD_CNT=${FD_RES}/Tewhey_K562_TileMPRA/fragment_count\n",
    "FD_COV=${FD_RES}/Tewhey_K562_TileMPRA/coverage\n",
    "\n",
    "IDX_COLS=(8 9)\n",
    "IDN_COLS=(Input Output)\n",
    "IDX=1\n",
    "\n",
    "### loop through each region\n",
    "REGIONS=(GATA1 MYC FADS)\n",
    "for REGION in ${REGIONS[@]}; do\n",
    "\n",
    "echo \"Region: \" ${REGION}\n",
    "IDX_COL=${IDX_COLS[${IDX}]}\n",
    "IDN_COL=${IDN_COLS[${IDX}]}\n",
    "\n",
    "FP_CNTS=($(ls ${FD_CNT}/*${REGION}*.round.bed))\n",
    "for FP_INP in ${FP_CNTS[@]}; do\n",
    "    FN_INP=$(basename ${FP_INP})\n",
    "    FN_OUT=${FN_INP%.*.*}.${IDN_COL}.perbase.tsv.gz\n",
    "    echo \"FN_INP:\" ${FN_INP}\n",
    "    echo \"FN_OUT:\" ${FN_OUT}\n",
    "done\n",
    "echo\n",
    "\n",
    "done"
   ]
  },
  {
   "cell_type": "markdown",
   "id": "bae95f3e-c546-4de7-8dac-d08dc63b2c44",
   "metadata": {},
   "source": [
    "**RUN:GATA1**"
   ]
  },
  {
   "cell_type": "code",
   "execution_count": 3,
   "id": "1b5a21fb-fcc1-411e-877c-79c61512de53",
   "metadata": {},
   "outputs": [
    {
     "name": "stdout",
     "output_type": "stream",
     "text": [
      "Submitted batch job 29149293\n"
     ]
    }
   ],
   "source": [
    "sbatch -p ${NODE} \\\n",
    "    --mem 20G \\\n",
    "    --array 0-1 \\\n",
    "    -o ${FD_LOG}/coverage_perbase_TMPRA_GATA1.%a.txt \\\n",
    "    <<'EOF'\n",
    "#!/bin/bash\n",
    "### set directories & global variables\n",
    "source ../config/config_duke.sh\n",
    "REGION=GATA1\n",
    "\n",
    "FD_CNT=${FD_RES}/Tewhey_K562_TileMPRA/fragment_count\n",
    "FD_COV=${FD_RES}/Tewhey_K562_TileMPRA/coverage\n",
    "\n",
    "IDX_COLS=(8 9)\n",
    "IDN_COLS=(Input Output)\n",
    "\n",
    "### set input and output\n",
    "IDX_COL=${IDX_COLS[${SLURM_ARRAY_TASK_ID}]}\n",
    "IDN_COL=${IDN_COLS[${SLURM_ARRAY_TASK_ID}]}\n",
    "\n",
    "### print start message\n",
    "timer_start=`date +%s`\n",
    "echo \"Hostname:          \" $(hostname)\n",
    "echo \"Slurm Array Index: \" ${SLURM_ARRAY_TASK_ID}\n",
    "echo \"Time Stamp:        \" $(date +\"%m-%d-%y+%T\")\n",
    "echo\n",
    "\n",
    "\n",
    "### loop through files\n",
    "FP_CNTS=($(ls ${FD_CNT}/*${REGION}*.round.bed))\n",
    "for FP_INP in ${FP_CNTS[@]}; do\n",
    "    FN_INP=$(basename ${FP_INP})\n",
    "    FN_OUT=${FN_INP%.*.*}.${IDN_COL}.perbase.tsv.gz\n",
    "    FP_OUT=${FD_COV}/${FN_OUT}\n",
    "    echo ++++++++++++++++++++++++++++++++++++++\n",
    "    echo\n",
    "    \n",
    "    ### show input file\n",
    "    echo \"Input: \" ${FP_INP}\n",
    "    echo\n",
    "    echo \"show first few lines of input\"\n",
    "    cat ${FP_INP} | head -5\n",
    "    echo\n",
    "    echo \"show last few lines of input\"\n",
    "    cat ${FP_INP} | tail -n 5\n",
    "    echo\n",
    "    \n",
    "    ### execute\n",
    "    bedtools map \\\n",
    "        -a ${FD_COV}/region_${REGION}_perbase.bed \\\n",
    "        -b ${FP_INP} \\\n",
    "        -o mean \\\n",
    "        -c ${IDX_COL} |\\\n",
    "        gzip -c > ${FP_OUT}\n",
    "    \n",
    "    ### show output file\n",
    "    echo \"Output: \" ${FP_OUT}\n",
    "    echo\n",
    "    echo \"show first few lines of output:\"\n",
    "    zcat ${FP_OUT} | head -5\n",
    "    echo\n",
    "    echo \"show last few lines of output\"\n",
    "    zcat ${FP_OUT} | tail -n 5\n",
    "    echo\n",
    "    \n",
    "done\n",
    "\n",
    "### print end message\n",
    "timer=`date +%s`\n",
    "runtime=$(echo \"${timer} - ${timer_start}\" | bc -l)\n",
    "echo\n",
    "echo 'Done!'\n",
    "echo \"Run Time: $(displaytime ${runtime})\"\n",
    "\n",
    "EOF"
   ]
  },
  {
   "cell_type": "markdown",
   "id": "64aee7f4-f681-4b54-beef-898738d29566",
   "metadata": {},
   "source": [
    "**RUN:MYC**"
   ]
  },
  {
   "cell_type": "code",
   "execution_count": 4,
   "id": "886d42ee-0f2a-4688-949f-d52a936fc9ef",
   "metadata": {},
   "outputs": [
    {
     "name": "stdout",
     "output_type": "stream",
     "text": [
      "Submitted batch job 29149294\n"
     ]
    }
   ],
   "source": [
    "sbatch -p ${NODE} \\\n",
    "    --mem 20G \\\n",
    "    --array 0-1 \\\n",
    "    -o ${FD_LOG}/coverage_perbase_TMPRA_MYC.%a.txt \\\n",
    "    <<'EOF'\n",
    "#!/bin/bash\n",
    "### set directories & global variables\n",
    "source ../config/config_duke.sh\n",
    "REGION=MYC\n",
    "\n",
    "FD_CNT=${FD_RES}/Tewhey_K562_TileMPRA/fragment_count\n",
    "FD_COV=${FD_RES}/Tewhey_K562_TileMPRA/coverage\n",
    "\n",
    "IDX_COLS=(8 9)\n",
    "IDN_COLS=(Input Output)\n",
    "\n",
    "### set input and output\n",
    "IDX_COL=${IDX_COLS[${SLURM_ARRAY_TASK_ID}]}\n",
    "IDN_COL=${IDN_COLS[${SLURM_ARRAY_TASK_ID}]}\n",
    "\n",
    "### print start message\n",
    "timer_start=`date +%s`\n",
    "echo \"Hostname:          \" $(hostname)\n",
    "echo \"Slurm Array Index: \" ${SLURM_ARRAY_TASK_ID}\n",
    "echo \"Time Stamp:        \" $(date +\"%m-%d-%y+%T\")\n",
    "echo\n",
    "\n",
    "\n",
    "### loop through files\n",
    "FP_CNTS=($(ls ${FD_CNT}/*${REGION}*.round.bed))\n",
    "for FP_INP in ${FP_CNTS[@]}; do\n",
    "    FN_INP=$(basename ${FP_INP})\n",
    "    FN_OUT=${FN_INP%.*.*}.${IDN_COL}.perbase.tsv.gz\n",
    "    FP_OUT=${FD_COV}/${FN_OUT}\n",
    "    echo ++++++++++++++++++++++++++++++++++++++\n",
    "    echo\n",
    "    \n",
    "    ### show input file\n",
    "    echo \"Input: \" ${FP_INP}\n",
    "    echo\n",
    "    echo \"show first few lines of input\"\n",
    "    cat ${FP_INP} | head -5\n",
    "    echo\n",
    "    echo \"show last few lines of input\"\n",
    "    cat ${FP_INP} | tail -n 5\n",
    "    echo\n",
    "    \n",
    "    ### execute\n",
    "    bedtools map \\\n",
    "        -a ${FD_COV}/region_${REGION}_perbase.bed \\\n",
    "        -b ${FP_INP} \\\n",
    "        -o mean \\\n",
    "        -c ${IDX_COL} |\\\n",
    "        gzip -c > ${FP_OUT}\n",
    "    \n",
    "    ### show output file\n",
    "    echo \"Output: \" ${FP_OUT}\n",
    "    echo\n",
    "    echo \"show first few lines of output:\"\n",
    "    zcat ${FP_OUT} | head -5\n",
    "    echo\n",
    "    echo \"show last few lines of output\"\n",
    "    zcat ${FP_OUT} | tail -n 5\n",
    "    echo\n",
    "    \n",
    "done\n",
    "\n",
    "### print end message\n",
    "timer=`date +%s`\n",
    "runtime=$(echo \"${timer} - ${timer_start}\" | bc -l)\n",
    "echo\n",
    "echo 'Done!'\n",
    "echo \"Run Time: $(displaytime ${runtime})\"\n",
    "\n",
    "EOF"
   ]
  },
  {
   "cell_type": "markdown",
   "id": "51cb9008-5779-49ef-9dcc-a181f2c94020",
   "metadata": {},
   "source": [
    "**CHECK**"
   ]
  },
  {
   "cell_type": "code",
   "execution_count": 5,
   "id": "0feea37a-e1b0-4be5-90f5-97cd5430c2d6",
   "metadata": {},
   "outputs": [
    {
     "name": "stdout",
     "output_type": "stream",
     "text": [
      "-rw-rw-r-- 1 kk319 reddylab 1629 Oct 12 14:54 /gpfs/fs1/data/reddylab/Kuei/out/proj_combeffect_encode_fcc/log/coverage_perbase_TMPRA_GATA1.1.txt\n",
      "-rw-rw-r-- 1 kk319 reddylab 1676 Oct 12 14:54 /gpfs/fs1/data/reddylab/Kuei/out/proj_combeffect_encode_fcc/log/coverage_perbase_TMPRA_MYC.1.txt\n"
     ]
    }
   ],
   "source": [
    "ls -l ${FD_LOG}/coverage_perbase_TMPRA_GATA1.1.txt\n",
    "ls -l ${FD_LOG}/coverage_perbase_TMPRA_MYC.1.txt"
   ]
  },
  {
   "cell_type": "code",
   "execution_count": 6,
   "id": "18e019d2-1745-4e7d-88b6-a79b811713a6",
   "metadata": {
    "tags": []
   },
   "outputs": [
    {
     "name": "stdout",
     "output_type": "stream",
     "text": [
      "Hostname:           x1-01-3.genome.duke.edu\n",
      "Slurm Array Index:  1\n",
      "Time Stamp:         10-12-22+14:54:47\n",
      "\n",
      "++++++++++++++++++++++++++++++++++++++\n",
      "\n",
      "Input:  /gpfs/fs1/data/reddylab/Kuei/out/proj_combeffect_encode_fcc/Tewhey_K562_TileMPRA/fragment_count/Tile_K562_hg38_20210130.GATA1.stranded_pos.round.bed\n",
      "\n",
      "show first few lines of input\n",
      "chrX\t47786401\t47786600\tX:47786401-47786600\t.\t+\t2.306\t2117.787\t10474.869\n",
      "chrX\t47786451\t47786650\tX:47786451-47786650\t.\t+\t0.783\t1386.007\t2387.119\n",
      "chrX\t47786501\t47786700\tX:47786501-47786700\t.\t+\t-0.129\t1955.626\t1788.236\n",
      "chrX\t47786551\t47786750\tX:47786551-47786750\t.\t+\t0.588\t2388.997\t3591.264\n",
      "chrX\t47786601\t47786800\tX:47786601-47786800\t.\t+\t0.067\t2102.916\t2202.385\n",
      "\n",
      "show last few lines of input\n",
      "chrX\t49786351\t49786550\tX:49786351-49786550\t.\t+\t-0.216\t775.951\t668.187\n",
      "chrX\t49786401\t49786600\tX:49786401-49786600\t.\t+\t0.18\t1556.617\t1763.467\n",
      "chrX\t49786451\t49786650\tX:49786451-49786650\t.\t+\t-0.373\t127.91\t98.961\n",
      "chrX\t49786501\t49786700\tX:49786501-49786700\t.\t+\t-0.49\t120.701\t86.235\n",
      "chrX\t49786551\t49786750\tX:49786551-49786750\t.\t+\t-0.272\t728.812\t604.854\n",
      "\n",
      "Output:  /gpfs/fs1/data/reddylab/Kuei/out/proj_combeffect_encode_fcc/Tewhey_K562_TileMPRA/coverage/Tile_K562_hg38_20210130.GATA1.stranded_pos.Output.perbase.tsv.gz\n",
      "\n",
      "show first few lines of output:\n",
      "chrX\t47786400\t47786401\t.\n",
      "chrX\t47786401\t47786402\t10474.869\n",
      "chrX\t47786402\t47786403\t10474.869\n",
      "chrX\t47786403\t47786404\t10474.869\n",
      "chrX\t47786404\t47786405\t10474.869\n",
      "\n",
      "show last few lines of output\n",
      "chrX\t49786746\t49786747\t604.854\n",
      "chrX\t49786747\t49786748\t604.854\n",
      "chrX\t49786748\t49786749\t604.854\n",
      "chrX\t49786749\t49786750\t604.854\n",
      "chrX\t49786750\t49786751\t.\n",
      "\n",
      "\n",
      "Done!\n",
      "Run Time: 9 seconds\n"
     ]
    }
   ],
   "source": [
    "cat ${FD_LOG}/coverage_perbase_TMPRA_GATA1.1.txt"
   ]
  },
  {
   "cell_type": "code",
   "execution_count": 7,
   "id": "3333e37e-7c14-42c4-95ed-cb36a1b6efe8",
   "metadata": {
    "tags": []
   },
   "outputs": [
    {
     "name": "stdout",
     "output_type": "stream",
     "text": [
      "Hostname:           x1-02-1.genome.duke.edu\n",
      "Slurm Array Index:  1\n",
      "Time Stamp:         10-12-22+14:54:47\n",
      "\n",
      "++++++++++++++++++++++++++++++++++++++\n",
      "\n",
      "Input:  /gpfs/fs1/data/reddylab/Kuei/out/proj_combeffect_encode_fcc/Tewhey_K562_TileMPRA/fragment_count/Tile_K562_hg38_20210130.MYC.stranded_pos.round.bed\n",
      "\n",
      "show first few lines of input\n",
      "chr8\t126735901\t126736100\t8:126735901-126736100\t.\t+\t3.216\t889.87\t8270.081\n",
      "chr8\t126735951\t126736150\t8:126735951-126736150\t.\t+\t2.742\t125.835\t840.939\n",
      "chr8\t126736001\t126736200\t8:126736001-126736200\t.\t+\t2.973\t510.316\t4005.357\n",
      "chr8\t126736051\t126736250\t8:126736051-126736250\t.\t+\t0.518\t702.549\t1005.359\n",
      "chr8\t126736101\t126736300\t8:126736101-126736300\t.\t+\t0.854\t551.083\t995.47\n",
      "\n",
      "show last few lines of input\n",
      "chr8\t128735851\t128736050\t8:128735851-128736050\t.\t+\t0.088\t80.41\t85.666\n",
      "chr8\t128735901\t128736100\t8:128735901-128736100\t.\t+\t-0.095\t582.526\t546.063\n",
      "chr8\t128735951\t128736150\t8:128735951-128736150\t.\t+\t0.181\t909.672\t1032.099\n",
      "chr8\t128736001\t128736200\t8:128736001-128736200\t.\t+\t0.823\t1140.692\t2018.523\n",
      "chr8\t128736051\t128736250\t8:128736051-128736250\t.\t+\t0.082\t1085.696\t1148.599\n",
      "\n",
      "Output:  /gpfs/fs1/data/reddylab/Kuei/out/proj_combeffect_encode_fcc/Tewhey_K562_TileMPRA/coverage/Tile_K562_hg38_20210130.MYC.stranded_pos.Output.perbase.tsv.gz\n",
      "\n",
      "show first few lines of output:\n",
      "chr8\t126735900\t126735901\t.\n",
      "chr8\t126735901\t126735902\t8270.081\n",
      "chr8\t126735902\t126735903\t8270.081\n",
      "chr8\t126735903\t126735904\t8270.081\n",
      "chr8\t126735904\t126735905\t8270.081\n",
      "\n",
      "show last few lines of output\n",
      "chr8\t128736246\t128736247\t1148.599\n",
      "chr8\t128736247\t128736248\t1148.599\n",
      "chr8\t128736248\t128736249\t1148.599\n",
      "chr8\t128736249\t128736250\t1148.599\n",
      "chr8\t128736250\t128736251\t.\n",
      "\n",
      "\n",
      "Done!\n",
      "Run Time: 9 seconds\n"
     ]
    }
   ],
   "source": [
    "cat ${FD_LOG}/coverage_perbase_TMPRA_MYC.1.txt"
   ]
  },
  {
   "cell_type": "code",
   "execution_count": null,
   "id": "069bb6dc-5305-4636-84fb-2f418ac3aadc",
   "metadata": {},
   "outputs": [],
   "source": []
  },
  {
   "cell_type": "code",
   "execution_count": null,
   "id": "0cc63898-9650-4156-a5e3-bacd16042874",
   "metadata": {},
   "outputs": [],
   "source": []
  }
 ],
 "metadata": {
  "kernelspec": {
   "display_name": "Bash",
   "language": "bash",
   "name": "bash"
  },
  "language_info": {
   "codemirror_mode": "shell",
   "file_extension": ".sh",
   "mimetype": "text/x-sh",
   "name": "bash"
  }
 },
 "nbformat": 4,
 "nbformat_minor": 5
}
