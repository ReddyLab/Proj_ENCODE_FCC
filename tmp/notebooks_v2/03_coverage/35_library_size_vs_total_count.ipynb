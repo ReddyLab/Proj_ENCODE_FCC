{
 "cells": [
  {
   "cell_type": "code",
   "execution_count": 1,
   "id": "dcad8c9d",
   "metadata": {},
   "outputs": [
    {
     "name": "stdout",
     "output_type": "stream",
     "text": [
      "You are in Singularity: singularity_proj_combeffect \n",
      "BASE DIRECTORY:     /mount/work \n",
      "PATH OF SOURCE:     /mount/work/source \n",
      "PATH OF EXECUTABLE: /mount/work/exe \n",
      "PATH OF ANNOTATION: /mount/work/annotation \n",
      "PATH OF PROJECT:    /mount/project \n",
      "PATH OF RESULTS:    /mount/work/out/proj_combeffect_encode_fcc \n"
     ]
    }
   ],
   "source": [
    "suppressWarnings(suppressMessages(source(\"../config/config_sing.R\")))\n",
    "show_env()"
   ]
  },
  {
   "cell_type": "code",
   "execution_count": 2,
   "id": "c8e43286",
   "metadata": {},
   "outputs": [
    {
     "data": {
      "text/html": [
       "<style>\n",
       ".list-inline {list-style: none; margin:0; padding: 0}\n",
       ".list-inline>li {display: inline-block}\n",
       ".list-inline>li:not(:last-child)::after {content: \"\\00b7\"; padding: 0 .5ex}\n",
       "</style>\n",
       "<ol class=list-inline><li>'A001_K562_WSTARRseq'</li><li>'KS91_K562_ASTARRseq'</li><li>'log'</li><li>'Readme.md'</li><li>'region'</li><li>'source'</li><li>'Tewhey_K562_TileMPRA'</li><li>'tmp221007'</li></ol>\n"
      ],
      "text/latex": [
       "\\begin{enumerate*}\n",
       "\\item 'A001\\_K562\\_WSTARRseq'\n",
       "\\item 'KS91\\_K562\\_ASTARRseq'\n",
       "\\item 'log'\n",
       "\\item 'Readme.md'\n",
       "\\item 'region'\n",
       "\\item 'source'\n",
       "\\item 'Tewhey\\_K562\\_TileMPRA'\n",
       "\\item 'tmp221007'\n",
       "\\end{enumerate*}\n"
      ],
      "text/markdown": [
       "1. 'A001_K562_WSTARRseq'\n",
       "2. 'KS91_K562_ASTARRseq'\n",
       "3. 'log'\n",
       "4. 'Readme.md'\n",
       "5. 'region'\n",
       "6. 'source'\n",
       "7. 'Tewhey_K562_TileMPRA'\n",
       "8. 'tmp221007'\n",
       "\n",
       "\n"
      ],
      "text/plain": [
       "[1] \"A001_K562_WSTARRseq\"  \"KS91_K562_ASTARRseq\"  \"log\"                 \n",
       "[4] \"Readme.md\"            \"region\"               \"source\"              \n",
       "[7] \"Tewhey_K562_TileMPRA\" \"tmp221007\"           "
      ]
     },
     "metadata": {},
     "output_type": "display_data"
    }
   ],
   "source": [
    "dir(FD_RES)"
   ]
  },
  {
   "cell_type": "code",
   "execution_count": 3,
   "id": "8bf9d3e3",
   "metadata": {},
   "outputs": [],
   "source": [
    "prefix = \"KS91_K562_ASTARRseq\"\n",
    "fdiry = file.path(FD_RES, prefix, \"coverage\", \"library_size\")\n",
    "\n",
    "fpath = file.path(fdiry, \"library_size_summary.csv\")\n",
    "dat_astarr_lib = read_csv(fpath, show_col_types = FALSE)\n",
    "\n",
    "fpath = file.path(fdiry, \"region_total_counts.csv\")\n",
    "dat_astarr_cnt = read_csv(fpath, show_col_types = FALSE)\n",
    "\n",
    "preix = \"A001_K562_WSTARRseq\"\n",
    "fdiry = file.path(FD_RES, prefix, \"coverage\", \"library_size\")\n",
    "\n",
    "fpath = file.path(fdiry, \"library_size_summary.csv\")\n",
    "dat_wstarr_lib = read_csv(fpath, show_col_types = FALSE)\n",
    "\n",
    "fpath = file.path(fdiry, \"region_total_counts.csv\")\n",
    "dat_wstarr_cnt = read_csv(fpath, show_col_types = FALSE)\n"
   ]
  },
  {
   "cell_type": "code",
   "execution_count": 4,
   "id": "2d48c834",
   "metadata": {},
   "outputs": [],
   "source": [
    "dat_lib = dat_astarr_lib %>% dplyr::mutate(Size = Count) %>% dplyr::select(Sample, Group, Size) \n",
    "dat_cnt = dat_astarr_cnt %>% dplyr::select(Sample, Group, Region, Count)"
   ]
  },
  {
   "cell_type": "code",
   "execution_count": 5,
   "id": "91934ab9",
   "metadata": {},
   "outputs": [
    {
     "data": {
      "text/html": [
       "<table class=\"dataframe\">\n",
       "<caption>A tibble: 20 × 5</caption>\n",
       "<thead>\n",
       "\t<tr><th scope=col>Sample</th><th scope=col>Group</th><th scope=col>Region</th><th scope=col>Count</th><th scope=col>Size</th></tr>\n",
       "\t<tr><th scope=col>&lt;chr&gt;</th><th scope=col>&lt;chr&gt;</th><th scope=col>&lt;chr&gt;</th><th scope=col>&lt;dbl&gt;</th><th scope=col>&lt;dbl&gt;</th></tr>\n",
       "</thead>\n",
       "<tbody>\n",
       "\t<tr><td>Input_rep1 </td><td>Input </td><td>GATA1</td><td>358823</td><td>348695063</td></tr>\n",
       "\t<tr><td>Input_rep2 </td><td>Input </td><td>GATA1</td><td>461577</td><td>451369741</td></tr>\n",
       "\t<tr><td>Input_rep3 </td><td>Input </td><td>GATA1</td><td>496229</td><td>487579055</td></tr>\n",
       "\t<tr><td>Input_rep4 </td><td>Input </td><td>GATA1</td><td>464845</td><td>456246254</td></tr>\n",
       "\t<tr><td>Input_rep5 </td><td>Input </td><td>GATA1</td><td>454013</td><td>444268950</td></tr>\n",
       "\t<tr><td>Input_rep6 </td><td>Input </td><td>GATA1</td><td>409058</td><td>397333562</td></tr>\n",
       "\t<tr><td>Output_rep1</td><td>Output</td><td>GATA1</td><td>505724</td><td> 44103844</td></tr>\n",
       "\t<tr><td>Output_rep2</td><td>Output</td><td>GATA1</td><td>686033</td><td> 97471282</td></tr>\n",
       "\t<tr><td>Output_rep3</td><td>Output</td><td>GATA1</td><td>441621</td><td> 84103298</td></tr>\n",
       "\t<tr><td>Output_rep4</td><td>Output</td><td>GATA1</td><td>739000</td><td>183115379</td></tr>\n",
       "\t<tr><td>Input_rep1 </td><td>Input </td><td>MYC  </td><td>255600</td><td>348695063</td></tr>\n",
       "\t<tr><td>Input_rep2 </td><td>Input </td><td>MYC  </td><td>331419</td><td>451369741</td></tr>\n",
       "\t<tr><td>Input_rep3 </td><td>Input </td><td>MYC  </td><td>359228</td><td>487579055</td></tr>\n",
       "\t<tr><td>Input_rep4 </td><td>Input </td><td>MYC  </td><td>335999</td><td>456246254</td></tr>\n",
       "\t<tr><td>Input_rep5 </td><td>Input </td><td>MYC  </td><td>326461</td><td>444268950</td></tr>\n",
       "\t<tr><td>Input_rep6 </td><td>Input </td><td>MYC  </td><td>291105</td><td>397333562</td></tr>\n",
       "\t<tr><td>Output_rep1</td><td>Output</td><td>MYC  </td><td>358433</td><td> 44103844</td></tr>\n",
       "\t<tr><td>Output_rep2</td><td>Output</td><td>MYC  </td><td>546578</td><td> 97471282</td></tr>\n",
       "\t<tr><td>Output_rep3</td><td>Output</td><td>MYC  </td><td>337296</td><td> 84103298</td></tr>\n",
       "\t<tr><td>Output_rep4</td><td>Output</td><td>MYC  </td><td>551602</td><td>183115379</td></tr>\n",
       "</tbody>\n",
       "</table>\n"
      ],
      "text/latex": [
       "A tibble: 20 × 5\n",
       "\\begin{tabular}{lllll}\n",
       " Sample & Group & Region & Count & Size\\\\\n",
       " <chr> & <chr> & <chr> & <dbl> & <dbl>\\\\\n",
       "\\hline\n",
       "\t Input\\_rep1  & Input  & GATA1 & 358823 & 348695063\\\\\n",
       "\t Input\\_rep2  & Input  & GATA1 & 461577 & 451369741\\\\\n",
       "\t Input\\_rep3  & Input  & GATA1 & 496229 & 487579055\\\\\n",
       "\t Input\\_rep4  & Input  & GATA1 & 464845 & 456246254\\\\\n",
       "\t Input\\_rep5  & Input  & GATA1 & 454013 & 444268950\\\\\n",
       "\t Input\\_rep6  & Input  & GATA1 & 409058 & 397333562\\\\\n",
       "\t Output\\_rep1 & Output & GATA1 & 505724 &  44103844\\\\\n",
       "\t Output\\_rep2 & Output & GATA1 & 686033 &  97471282\\\\\n",
       "\t Output\\_rep3 & Output & GATA1 & 441621 &  84103298\\\\\n",
       "\t Output\\_rep4 & Output & GATA1 & 739000 & 183115379\\\\\n",
       "\t Input\\_rep1  & Input  & MYC   & 255600 & 348695063\\\\\n",
       "\t Input\\_rep2  & Input  & MYC   & 331419 & 451369741\\\\\n",
       "\t Input\\_rep3  & Input  & MYC   & 359228 & 487579055\\\\\n",
       "\t Input\\_rep4  & Input  & MYC   & 335999 & 456246254\\\\\n",
       "\t Input\\_rep5  & Input  & MYC   & 326461 & 444268950\\\\\n",
       "\t Input\\_rep6  & Input  & MYC   & 291105 & 397333562\\\\\n",
       "\t Output\\_rep1 & Output & MYC   & 358433 &  44103844\\\\\n",
       "\t Output\\_rep2 & Output & MYC   & 546578 &  97471282\\\\\n",
       "\t Output\\_rep3 & Output & MYC   & 337296 &  84103298\\\\\n",
       "\t Output\\_rep4 & Output & MYC   & 551602 & 183115379\\\\\n",
       "\\end{tabular}\n"
      ],
      "text/markdown": [
       "\n",
       "A tibble: 20 × 5\n",
       "\n",
       "| Sample &lt;chr&gt; | Group &lt;chr&gt; | Region &lt;chr&gt; | Count &lt;dbl&gt; | Size &lt;dbl&gt; |\n",
       "|---|---|---|---|---|\n",
       "| Input_rep1  | Input  | GATA1 | 358823 | 348695063 |\n",
       "| Input_rep2  | Input  | GATA1 | 461577 | 451369741 |\n",
       "| Input_rep3  | Input  | GATA1 | 496229 | 487579055 |\n",
       "| Input_rep4  | Input  | GATA1 | 464845 | 456246254 |\n",
       "| Input_rep5  | Input  | GATA1 | 454013 | 444268950 |\n",
       "| Input_rep6  | Input  | GATA1 | 409058 | 397333562 |\n",
       "| Output_rep1 | Output | GATA1 | 505724 |  44103844 |\n",
       "| Output_rep2 | Output | GATA1 | 686033 |  97471282 |\n",
       "| Output_rep3 | Output | GATA1 | 441621 |  84103298 |\n",
       "| Output_rep4 | Output | GATA1 | 739000 | 183115379 |\n",
       "| Input_rep1  | Input  | MYC   | 255600 | 348695063 |\n",
       "| Input_rep2  | Input  | MYC   | 331419 | 451369741 |\n",
       "| Input_rep3  | Input  | MYC   | 359228 | 487579055 |\n",
       "| Input_rep4  | Input  | MYC   | 335999 | 456246254 |\n",
       "| Input_rep5  | Input  | MYC   | 326461 | 444268950 |\n",
       "| Input_rep6  | Input  | MYC   | 291105 | 397333562 |\n",
       "| Output_rep1 | Output | MYC   | 358433 |  44103844 |\n",
       "| Output_rep2 | Output | MYC   | 546578 |  97471282 |\n",
       "| Output_rep3 | Output | MYC   | 337296 |  84103298 |\n",
       "| Output_rep4 | Output | MYC   | 551602 | 183115379 |\n",
       "\n"
      ],
      "text/plain": [
       "   Sample      Group  Region Count  Size     \n",
       "1  Input_rep1  Input  GATA1  358823 348695063\n",
       "2  Input_rep2  Input  GATA1  461577 451369741\n",
       "3  Input_rep3  Input  GATA1  496229 487579055\n",
       "4  Input_rep4  Input  GATA1  464845 456246254\n",
       "5  Input_rep5  Input  GATA1  454013 444268950\n",
       "6  Input_rep6  Input  GATA1  409058 397333562\n",
       "7  Output_rep1 Output GATA1  505724  44103844\n",
       "8  Output_rep2 Output GATA1  686033  97471282\n",
       "9  Output_rep3 Output GATA1  441621  84103298\n",
       "10 Output_rep4 Output GATA1  739000 183115379\n",
       "11 Input_rep1  Input  MYC    255600 348695063\n",
       "12 Input_rep2  Input  MYC    331419 451369741\n",
       "13 Input_rep3  Input  MYC    359228 487579055\n",
       "14 Input_rep4  Input  MYC    335999 456246254\n",
       "15 Input_rep5  Input  MYC    326461 444268950\n",
       "16 Input_rep6  Input  MYC    291105 397333562\n",
       "17 Output_rep1 Output MYC    358433  44103844\n",
       "18 Output_rep2 Output MYC    546578  97471282\n",
       "19 Output_rep3 Output MYC    337296  84103298\n",
       "20 Output_rep4 Output MYC    551602 183115379"
      ]
     },
     "metadata": {},
     "output_type": "display_data"
    }
   ],
   "source": [
    "dat = left_join(dat_cnt, dat_lib, by=c(\"Sample\", \"Group\"))\n",
    "dat"
   ]
  },
  {
   "cell_type": "code",
   "execution_count": 6,
   "id": "bd7d36c8",
   "metadata": {},
   "outputs": [
    {
     "data": {
      "image/png": "[encoded data removed]",
      "text/plain": [
       "plot without title"
      ]
     },
     "metadata": {
      "image/png": {
       "height": 300,
       "width": 480
      }
     },
     "output_type": "display_data"
    }
   ],
   "source": [
    "gpt = ggplot(dat, aes(x=Size, y=Count, color=Region)) + \n",
    "    geom_point() + \n",
    "    theme_cowplot() + \n",
    "    facet_grid(Group~Region)\n",
    "options(repr.plot.width=8, repr.plot.height=5)\n",
    "print(gpt)"
   ]
  },
  {
   "cell_type": "code",
   "execution_count": null,
   "id": "920113a3",
   "metadata": {},
   "outputs": [],
   "source": []
  }
 ],
 "metadata": {
  "kernelspec": {
   "display_name": "R",
   "language": "R",
   "name": "ir"
  },
  "language_info": {
   "codemirror_mode": "r",
   "file_extension": ".r",
   "mimetype": "text/x-r-source",
   "name": "R",
   "pygments_lexer": "r",
   "version": "4.2.0"
  }
 },
 "nbformat": 4,
 "nbformat_minor": 5
}
