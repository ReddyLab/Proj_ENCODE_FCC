{
 "cells": [
  {
   "cell_type": "markdown",
   "id": "faca64bf",
   "metadata": {},
   "source": [
    "**Set environment**"
   ]
  },
  {
   "cell_type": "code",
   "execution_count": 1,
   "id": "78692d70",
   "metadata": {},
   "outputs": [
    {
     "name": "stdout",
     "output_type": "stream",
     "text": [
      "You are in Singularity: singularity_proj_combeffect \n",
      "BASE DIRECTORY:     /mount/work \n",
      "PATH OF SOURCE:     /mount/work/source \n",
      "PATH OF EXECUTABLE: /mount/work/exe \n",
      "PATH OF ANNOTATION: /mount/work/annotation \n",
      "PATH OF PROJECT:    /mount/project \n",
      "PATH OF RESULTS:    /mount/work/out/proj_combeffect_encode_fcc \n"
     ]
    }
   ],
   "source": [
    "suppressWarnings(suppressMessages(source(\"../config/config_sing.R\")))\n",
    "show_env()"
   ]
  },
  {
   "cell_type": "markdown",
   "id": "f1add4d2",
   "metadata": {},
   "source": [
    "**Check data**"
   ]
  },
  {
   "cell_type": "code",
   "execution_count": 2,
   "id": "6f3084aa",
   "metadata": {},
   "outputs": [
    {
     "data": {
      "text/html": [
       "<style>\n",
       ".list-inline {list-style: none; margin:0; padding: 0}\n",
       ".list-inline>li {display: inline-block}\n",
       ".list-inline>li:not(:last-child)::after {content: \"\\00b7\"; padding: 0 .5ex}\n",
       "</style>\n",
       "<ol class=list-inline><li>'A001_K562_WSTARRseq'</li><li>'KS91_K562_ASTARRseq'</li><li>'log'</li><li>'Readme.md'</li><li>'region'</li><li>'source'</li><li>'Tewhey_K562_TileMPRA'</li><li>'tmp221007'</li></ol>\n"
      ],
      "text/latex": [
       "\\begin{enumerate*}\n",
       "\\item 'A001\\_K562\\_WSTARRseq'\n",
       "\\item 'KS91\\_K562\\_ASTARRseq'\n",
       "\\item 'log'\n",
       "\\item 'Readme.md'\n",
       "\\item 'region'\n",
       "\\item 'source'\n",
       "\\item 'Tewhey\\_K562\\_TileMPRA'\n",
       "\\item 'tmp221007'\n",
       "\\end{enumerate*}\n"
      ],
      "text/markdown": [
       "1. 'A001_K562_WSTARRseq'\n",
       "2. 'KS91_K562_ASTARRseq'\n",
       "3. 'log'\n",
       "4. 'Readme.md'\n",
       "5. 'region'\n",
       "6. 'source'\n",
       "7. 'Tewhey_K562_TileMPRA'\n",
       "8. 'tmp221007'\n",
       "\n",
       "\n"
      ],
      "text/plain": [
       "[1] \"A001_K562_WSTARRseq\"  \"KS91_K562_ASTARRseq\"  \"log\"                 \n",
       "[4] \"Readme.md\"            \"region\"               \"source\"              \n",
       "[7] \"Tewhey_K562_TileMPRA\" \"tmp221007\"           "
      ]
     },
     "metadata": {},
     "output_type": "display_data"
    }
   ],
   "source": [
    "dir(FD_RES)"
   ]
  },
  {
   "cell_type": "code",
   "execution_count": 3,
   "id": "b009f317",
   "metadata": {},
   "outputs": [
    {
     "data": {
      "text/html": [
       "<style>\n",
       ".list-inline {list-style: none; margin:0; padding: 0}\n",
       ".list-inline>li {display: inline-block}\n",
       ".list-inline>li:not(:last-child)::after {content: \"\\00b7\"; padding: 0 .5ex}\n",
       "</style>\n",
       "<ol class=list-inline><li>'library_size_summary.csv'</li><li>'library_size.csv'</li><li>'region_total_counts.csv'</li></ol>\n"
      ],
      "text/latex": [
       "\\begin{enumerate*}\n",
       "\\item 'library\\_size\\_summary.csv'\n",
       "\\item 'library\\_size.csv'\n",
       "\\item 'region\\_total\\_counts.csv'\n",
       "\\end{enumerate*}\n"
      ],
      "text/markdown": [
       "1. 'library_size_summary.csv'\n",
       "2. 'library_size.csv'\n",
       "3. 'region_total_counts.csv'\n",
       "\n",
       "\n"
      ],
      "text/plain": [
       "[1] \"library_size_summary.csv\" \"library_size.csv\"        \n",
       "[3] \"region_total_counts.csv\" "
      ]
     },
     "metadata": {},
     "output_type": "display_data"
    }
   ],
   "source": [
    "prefix = \"A001_K562_WSTARRseq\"\n",
    "fdiry  = file.path(FD_RES, prefix, \"coverage\", \"library_size\")\n",
    "dir(fdiry)"
   ]
  },
  {
   "cell_type": "markdown",
   "id": "a08d4628",
   "metadata": {},
   "source": [
    "## Import library size counts"
   ]
  },
  {
   "cell_type": "code",
   "execution_count": 4,
   "id": "a6f92083",
   "metadata": {},
   "outputs": [
    {
     "data": {
      "text/html": [
       "<table class=\"dataframe\">\n",
       "<caption>A spec_tbl_df: 7 × 2</caption>\n",
       "<thead>\n",
       "\t<tr><th scope=col>Fpath</th><th scope=col>Count</th></tr>\n",
       "\t<tr><th scope=col>&lt;chr&gt;</th><th scope=col>&lt;dbl&gt;</th></tr>\n",
       "</thead>\n",
       "<tbody>\n",
       "\t<tr><td>A001-input-K562-rep1.masked.dedup.fragments.counts.txt.gz</td><td> 26908970</td></tr>\n",
       "\t<tr><td>A001-input-K562-rep2.masked.dedup.fragments.counts.txt.gz</td><td> 99899775</td></tr>\n",
       "\t<tr><td>A001-input-K562-rep3.masked.dedup.fragments.counts.txt.gz</td><td>105623984</td></tr>\n",
       "\t<tr><td>A001-input-K562-rep4.masked.dedup.fragments.counts.txt.gz</td><td>108635002</td></tr>\n",
       "\t<tr><td>A001-K562-rep1.masked.dedup.fragments.counts.txt.gz      </td><td>160349140</td></tr>\n",
       "\t<tr><td>A001-K562-rep2.masked.dedup.fragments.counts.txt.gz      </td><td>157326312</td></tr>\n",
       "\t<tr><td>A001-K562-rep3.masked.dedup.fragments.counts.txt.gz      </td><td>328185275</td></tr>\n",
       "</tbody>\n",
       "</table>\n"
      ],
      "text/latex": [
       "A spec\\_tbl\\_df: 7 × 2\n",
       "\\begin{tabular}{ll}\n",
       " Fpath & Count\\\\\n",
       " <chr> & <dbl>\\\\\n",
       "\\hline\n",
       "\t A001-input-K562-rep1.masked.dedup.fragments.counts.txt.gz &  26908970\\\\\n",
       "\t A001-input-K562-rep2.masked.dedup.fragments.counts.txt.gz &  99899775\\\\\n",
       "\t A001-input-K562-rep3.masked.dedup.fragments.counts.txt.gz & 105623984\\\\\n",
       "\t A001-input-K562-rep4.masked.dedup.fragments.counts.txt.gz & 108635002\\\\\n",
       "\t A001-K562-rep1.masked.dedup.fragments.counts.txt.gz       & 160349140\\\\\n",
       "\t A001-K562-rep2.masked.dedup.fragments.counts.txt.gz       & 157326312\\\\\n",
       "\t A001-K562-rep3.masked.dedup.fragments.counts.txt.gz       & 328185275\\\\\n",
       "\\end{tabular}\n"
      ],
      "text/markdown": [
       "\n",
       "A spec_tbl_df: 7 × 2\n",
       "\n",
       "| Fpath &lt;chr&gt; | Count &lt;dbl&gt; |\n",
       "|---|---|\n",
       "| A001-input-K562-rep1.masked.dedup.fragments.counts.txt.gz |  26908970 |\n",
       "| A001-input-K562-rep2.masked.dedup.fragments.counts.txt.gz |  99899775 |\n",
       "| A001-input-K562-rep3.masked.dedup.fragments.counts.txt.gz | 105623984 |\n",
       "| A001-input-K562-rep4.masked.dedup.fragments.counts.txt.gz | 108635002 |\n",
       "| A001-K562-rep1.masked.dedup.fragments.counts.txt.gz       | 160349140 |\n",
       "| A001-K562-rep2.masked.dedup.fragments.counts.txt.gz       | 157326312 |\n",
       "| A001-K562-rep3.masked.dedup.fragments.counts.txt.gz       | 328185275 |\n",
       "\n"
      ],
      "text/plain": [
       "  Fpath                                                     Count    \n",
       "1 A001-input-K562-rep1.masked.dedup.fragments.counts.txt.gz  26908970\n",
       "2 A001-input-K562-rep2.masked.dedup.fragments.counts.txt.gz  99899775\n",
       "3 A001-input-K562-rep3.masked.dedup.fragments.counts.txt.gz 105623984\n",
       "4 A001-input-K562-rep4.masked.dedup.fragments.counts.txt.gz 108635002\n",
       "5 A001-K562-rep1.masked.dedup.fragments.counts.txt.gz       160349140\n",
       "6 A001-K562-rep2.masked.dedup.fragments.counts.txt.gz       157326312\n",
       "7 A001-K562-rep3.masked.dedup.fragments.counts.txt.gz       328185275"
      ]
     },
     "metadata": {},
     "output_type": "display_data"
    }
   ],
   "source": [
    "### file directory\n",
    "fdiry = file.path(FD_RES, prefix, \"coverage\", \"library_size\")\n",
    "fname = \"library_size.csv\"\n",
    "fpath = file.path(fdiry, fname)\n",
    "\n",
    "### set columns\n",
    "cnames = c(\"Fpath\", \"Count\")\n",
    "\n",
    "### import data\n",
    "dat_lib = read_csv(fpath, col_names = cnames, show_col_types = FALSE)\n",
    "dat_lib"
   ]
  },
  {
   "cell_type": "markdown",
   "id": "b8670a00",
   "metadata": {},
   "source": [
    "## Summarize the information and save the tables"
   ]
  },
  {
   "cell_type": "code",
   "execution_count": 5,
   "id": "8b963866",
   "metadata": {},
   "outputs": [
    {
     "data": {
      "text/html": [
       "<table class=\"dataframe\">\n",
       "<caption>A tibble: 7 × 5</caption>\n",
       "<thead>\n",
       "\t<tr><th scope=col>Sample</th><th scope=col>Group</th><th scope=col>Rep</th><th scope=col>Count</th><th scope=col>Fpath</th></tr>\n",
       "\t<tr><th scope=col>&lt;chr&gt;</th><th scope=col>&lt;chr&gt;</th><th scope=col>&lt;chr&gt;</th><th scope=col>&lt;dbl&gt;</th><th scope=col>&lt;chr&gt;</th></tr>\n",
       "</thead>\n",
       "<tbody>\n",
       "\t<tr><td>Input_rep1 </td><td>Input </td><td>rep1</td><td> 26908970</td><td>A001-input-K562-rep1.masked.dedup.fragments.counts.txt.gz</td></tr>\n",
       "\t<tr><td>Input_rep2 </td><td>Input </td><td>rep2</td><td> 99899775</td><td>A001-input-K562-rep2.masked.dedup.fragments.counts.txt.gz</td></tr>\n",
       "\t<tr><td>Input_rep3 </td><td>Input </td><td>rep3</td><td>105623984</td><td>A001-input-K562-rep3.masked.dedup.fragments.counts.txt.gz</td></tr>\n",
       "\t<tr><td>Input_rep4 </td><td>Input </td><td>rep4</td><td>108635002</td><td>A001-input-K562-rep4.masked.dedup.fragments.counts.txt.gz</td></tr>\n",
       "\t<tr><td>Output_rep1</td><td>Output</td><td>rep1</td><td>160349140</td><td>A001-K562-rep1.masked.dedup.fragments.counts.txt.gz      </td></tr>\n",
       "\t<tr><td>Output_rep2</td><td>Output</td><td>rep2</td><td>157326312</td><td>A001-K562-rep2.masked.dedup.fragments.counts.txt.gz      </td></tr>\n",
       "\t<tr><td>Output_rep3</td><td>Output</td><td>rep3</td><td>328185275</td><td>A001-K562-rep3.masked.dedup.fragments.counts.txt.gz      </td></tr>\n",
       "</tbody>\n",
       "</table>\n"
      ],
      "text/latex": [
       "A tibble: 7 × 5\n",
       "\\begin{tabular}{lllll}\n",
       " Sample & Group & Rep & Count & Fpath\\\\\n",
       " <chr> & <chr> & <chr> & <dbl> & <chr>\\\\\n",
       "\\hline\n",
       "\t Input\\_rep1  & Input  & rep1 &  26908970 & A001-input-K562-rep1.masked.dedup.fragments.counts.txt.gz\\\\\n",
       "\t Input\\_rep2  & Input  & rep2 &  99899775 & A001-input-K562-rep2.masked.dedup.fragments.counts.txt.gz\\\\\n",
       "\t Input\\_rep3  & Input  & rep3 & 105623984 & A001-input-K562-rep3.masked.dedup.fragments.counts.txt.gz\\\\\n",
       "\t Input\\_rep4  & Input  & rep4 & 108635002 & A001-input-K562-rep4.masked.dedup.fragments.counts.txt.gz\\\\\n",
       "\t Output\\_rep1 & Output & rep1 & 160349140 & A001-K562-rep1.masked.dedup.fragments.counts.txt.gz      \\\\\n",
       "\t Output\\_rep2 & Output & rep2 & 157326312 & A001-K562-rep2.masked.dedup.fragments.counts.txt.gz      \\\\\n",
       "\t Output\\_rep3 & Output & rep3 & 328185275 & A001-K562-rep3.masked.dedup.fragments.counts.txt.gz      \\\\\n",
       "\\end{tabular}\n"
      ],
      "text/markdown": [
       "\n",
       "A tibble: 7 × 5\n",
       "\n",
       "| Sample &lt;chr&gt; | Group &lt;chr&gt; | Rep &lt;chr&gt; | Count &lt;dbl&gt; | Fpath &lt;chr&gt; |\n",
       "|---|---|---|---|---|\n",
       "| Input_rep1  | Input  | rep1 |  26908970 | A001-input-K562-rep1.masked.dedup.fragments.counts.txt.gz |\n",
       "| Input_rep2  | Input  | rep2 |  99899775 | A001-input-K562-rep2.masked.dedup.fragments.counts.txt.gz |\n",
       "| Input_rep3  | Input  | rep3 | 105623984 | A001-input-K562-rep3.masked.dedup.fragments.counts.txt.gz |\n",
       "| Input_rep4  | Input  | rep4 | 108635002 | A001-input-K562-rep4.masked.dedup.fragments.counts.txt.gz |\n",
       "| Output_rep1 | Output | rep1 | 160349140 | A001-K562-rep1.masked.dedup.fragments.counts.txt.gz       |\n",
       "| Output_rep2 | Output | rep2 | 157326312 | A001-K562-rep2.masked.dedup.fragments.counts.txt.gz       |\n",
       "| Output_rep3 | Output | rep3 | 328185275 | A001-K562-rep3.masked.dedup.fragments.counts.txt.gz       |\n",
       "\n"
      ],
      "text/plain": [
       "  Sample      Group  Rep  Count    \n",
       "1 Input_rep1  Input  rep1  26908970\n",
       "2 Input_rep2  Input  rep2  99899775\n",
       "3 Input_rep3  Input  rep3 105623984\n",
       "4 Input_rep4  Input  rep4 108635002\n",
       "5 Output_rep1 Output rep1 160349140\n",
       "6 Output_rep2 Output rep2 157326312\n",
       "7 Output_rep3 Output rep3 328185275\n",
       "  Fpath                                                    \n",
       "1 A001-input-K562-rep1.masked.dedup.fragments.counts.txt.gz\n",
       "2 A001-input-K562-rep2.masked.dedup.fragments.counts.txt.gz\n",
       "3 A001-input-K562-rep3.masked.dedup.fragments.counts.txt.gz\n",
       "4 A001-input-K562-rep4.masked.dedup.fragments.counts.txt.gz\n",
       "5 A001-K562-rep1.masked.dedup.fragments.counts.txt.gz      \n",
       "6 A001-K562-rep2.masked.dedup.fragments.counts.txt.gz      \n",
       "7 A001-K562-rep3.masked.dedup.fragments.counts.txt.gz      "
      ]
     },
     "metadata": {},
     "output_type": "display_data"
    }
   ],
   "source": [
    "dat_sum = dat_lib\n",
    "\n",
    "dat_sum$Sample = c(\n",
    "    paste0(\"Input_rep\",  1:4),\n",
    "    paste0(\"Output_rep\", 1:3))\n",
    "\n",
    "dat_sum$Group  = c(\n",
    "    rep(\"Input\",  4),\n",
    "    rep(\"Output\", 3))\n",
    "\n",
    "dat_sum$Rep = c(\n",
    "    paste0(\"rep\",  1:4),\n",
    "    paste0(\"rep\", 1:3))\n",
    "\n",
    "dat_sum = dat_sum %>% dplyr::select(Sample, Group, Rep, Count, Fpath)\n",
    "dat_sum"
   ]
  },
  {
   "cell_type": "markdown",
   "id": "e883b8a3",
   "metadata": {},
   "source": [
    "**Save the table**"
   ]
  },
  {
   "cell_type": "code",
   "execution_count": 6,
   "id": "a28f2902",
   "metadata": {},
   "outputs": [],
   "source": [
    "fdiry = file.path(FD_RES, prefix, \"coverage\", \"library_size\")\n",
    "fname = \"library_size_summary.csv\"\n",
    "fpath = file.path(fdiry, fname)\n",
    "write_csv(dat_sum, fpath)"
   ]
  },
  {
   "cell_type": "code",
   "execution_count": null,
   "id": "59305a26",
   "metadata": {},
   "outputs": [],
   "source": []
  }
 ],
 "metadata": {
  "kernelspec": {
   "display_name": "R",
   "language": "R",
   "name": "ir"
  },
  "language_info": {
   "codemirror_mode": "r",
   "file_extension": ".r",
   "mimetype": "text/x-r-source",
   "name": "R",
   "pygments_lexer": "r",
   "version": "4.2.0"
  }
 },
 "nbformat": 4,
 "nbformat_minor": 5
}
