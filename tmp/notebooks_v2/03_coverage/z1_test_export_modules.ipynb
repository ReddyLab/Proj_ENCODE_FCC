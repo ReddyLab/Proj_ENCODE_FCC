{
 "cells": [
  {
   "cell_type": "markdown",
   "id": "bc22d985-1d63-4e8a-b308-598f1efdb86e",
   "metadata": {},
   "source": [
    "**Set environment**"
   ]
  },
  {
   "cell_type": "code",
   "execution_count": 1,
   "id": "49ecc488-5224-4d18-b8d6-7a09292556dd",
   "metadata": {},
   "outputs": [
    {
     "name": "stdout",
     "output_type": "stream",
     "text": [
      "You are on Duke Server: HARDAC\n",
      "BASE DIRECTORY:     /gpfs/fs1/data/reddylab/Kuei\n",
      "PATH OF SOURCE:     /gpfs/fs1/data/reddylab/Kuei/source\n",
      "PATH OF EXECUTABLE: /gpfs/fs1/data/reddylab/Kuei/exe\n",
      "PATH OF ANNOTATION: /gpfs/fs1/data/reddylab/Kuei/annotation\n",
      "PATH OF PROJECT:    /gpfs/fs1/data/reddylab/Kuei/GitRepo/Proj_CombEffect_ENCODE_FCC/notebooks\n",
      "PATH OF RESULTS:    /gpfs/fs1/data/reddylab/Kuei/out/proj_combeffect_encode_fcc\n",
      "\n"
     ]
    }
   ],
   "source": [
    "source ../config/config_duke.sh\n",
    "source ../config/config_load_module_bedtools.sh\n",
    "show_env"
   ]
  },
  {
   "cell_type": "markdown",
   "id": "b9a936d6-5316-4f5c-96ff-4044215c8ddb",
   "metadata": {},
   "source": [
    "## Count total fragments for each region"
   ]
  },
  {
   "cell_type": "markdown",
   "id": "69f52a37-7b50-42f4-acf8-603605701e8c",
   "metadata": {},
   "source": [
    "**TEST**"
   ]
  },
  {
   "cell_type": "code",
   "execution_count": 2,
   "id": "a59cba4a-10c6-4be1-8d3f-be75f68433b3",
   "metadata": {},
   "outputs": [
    {
     "name": "stdout",
     "output_type": "stream",
     "text": [
      "FN_INP: KS91_K562_hg38_ASTARRseq_Input_rep1.GATA1.unstranded.bed\n",
      "FN_OUT: KS91_K562_hg38_ASTARRseq_Input_rep1.GATA1.unstranded.total_count.tsv\n",
      "FN_INP: KS91_K562_hg38_ASTARRseq_Output_rep1.GATA1.unstranded.bed\n",
      "FN_OUT: KS91_K562_hg38_ASTARRseq_Output_rep1.GATA1.unstranded.total_count.tsv\n"
     ]
    }
   ],
   "source": [
    "FD_BED=${FD_RES}/KS91_K562_ASTARRseq/fragment_count\n",
    "FD_COV=${FD_RES}/KS91_K562_ASTARRseq/coverage\n",
    "\n",
    "REP=rep1\n",
    "REGION=GATA1\n",
    "FP_CNTS=($(ls ${FD_BED}/*${REP}*${REGION}*.unstranded.bed))\n",
    "for FP_INP in ${FP_CNTS[@]}; do\n",
    "    FN_INP=$(basename ${FP_INP})\n",
    "    FN_OUT=${FN_INP%.*}.total_count.tsv\n",
    "    echo \"FN_INP:\" ${FN_INP}\n",
    "    echo \"FN_OUT:\" ${FN_OUT}\n",
    "done"
   ]
  },
  {
   "cell_type": "markdown",
   "id": "f9d348f8-647b-437f-a834-89838350ce13",
   "metadata": {},
   "source": [
    "**RUN**"
   ]
  },
  {
   "cell_type": "code",
   "execution_count": 3,
   "id": "0d9dbe80-15f4-4487-baa8-0ca4771c1f92",
   "metadata": {},
   "outputs": [
    {
     "name": "stdout",
     "output_type": "stream",
     "text": [
      "all\n"
     ]
    }
   ],
   "source": [
    "echo ${NODE}"
   ]
  },
  {
   "cell_type": "code",
   "execution_count": 33,
   "id": "ac27c622-aaaf-4df7-a260-4b7f01d3fdaf",
   "metadata": {},
   "outputs": [
    {
     "name": "stdout",
     "output_type": "stream",
     "text": [
      "Submitted batch job 29148969\n"
     ]
    }
   ],
   "source": [
    "sbatch -p all \\\n",
    "    --mem 20G \\\n",
    "    --array 0 \\\n",
    "    --exclude=dl-01 \\\n",
    "    -o ${FD_LOG}/test.%a.txt \\\n",
    "    <<'EOF'\n",
    "#!/bin/bash\n",
    "### set directories & global variables\n",
    "source ../config/config_duke.sh\n",
    "\n",
    "### print start message\n",
    "timer_start=`date +%s`\n",
    "echo \"Hostname:          \" $(hostname)\n",
    "echo \"Slurm Array Index: \" ${SLURM_ARRAY_TASK_ID}\n",
    "echo \"Time Stamp:        \" $(date +\"%m-%d-%y+%T\")\n",
    "echo\n",
    "\n",
    "echo hello\n",
    "bedtools --help\n",
    "\n",
    "EOF"
   ]
  },
  {
   "cell_type": "code",
   "execution_count": 35,
   "id": "110191d8-9b40-4edc-a780-e6621fc349df",
   "metadata": {},
   "outputs": [
    {
     "name": "stdout",
     "output_type": "stream",
     "text": [
      "-rw-rw-r-- 1 kk319 reddylab 3560 Oct 12 13:09 /gpfs/fs1/data/reddylab/Kuei/out/proj_combeffect_encode_fcc/log/test.0.txt\n"
     ]
    }
   ],
   "source": [
    "ls -l ${FD_LOG}/test.0.txt"
   ]
  },
  {
   "cell_type": "code",
   "execution_count": 36,
   "id": "d2428fdd-21df-4bd3-8011-644703db9e15",
   "metadata": {},
   "outputs": [
    {
     "name": "stdout",
     "output_type": "stream",
     "text": [
      "Hostname:           x1-01-2.genome.duke.edu\n",
      "Slurm Array Index:  0\n",
      "Time Stamp:         10-12-22+13:06:48\n",
      "\n",
      "\n",
      "bedtools: flexible tools for genome arithmetic and DNA sequence analysis.\n",
      "usage:    bedtools <subcommand> [options]\n",
      "\n",
      "The bedtools sub-commands include:\n",
      "\n",
      "[ Genome arithmetic ]\n",
      "    intersect     Find overlapping intervals in various ways.\n",
      "    window        Find overlapping intervals within a window around an interval.\n",
      "    closest       Find the closest, potentially non-overlapping interval.\n",
      "    coverage      Compute the coverage over defined intervals.\n",
      "    map           Apply a function to a column for each overlapping interval.\n",
      "    genomecov     Compute the coverage over an entire genome.\n",
      "    merge         Combine overlapping/nearby intervals into a single interval.\n",
      "    cluster       Cluster (but don't merge) overlapping/nearby intervals.\n",
      "    complement    Extract intervals _not_ represented by an interval file.\n",
      "    subtract      Remove intervals based on overlaps b/w two files.\n",
      "    slop          Adjust the size of intervals.\n",
      "    flank         Create new intervals from the flanks of existing intervals.\n",
      "    sort          Order the intervals in a file.\n",
      "    random        Generate random intervals in a genome.\n",
      "    shuffle       Randomly redistrubute intervals in a genome.\n",
      "    sample        Sample random records from file using reservoir sampling.\n",
      "    spacing       Report the gap lengths between intervals in a file.\n",
      "    annotate      Annotate coverage of features from multiple files.\n",
      "\n",
      "[ Multi-way file comparisons ]\n",
      "    multiinter    Identifies common intervals among multiple interval files.\n",
      "    unionbedg     Combines coverage intervals from multiple BEDGRAPH files.\n",
      "\n",
      "[ Paired-end manipulation ]\n",
      "    pairtobed     Find pairs that overlap intervals in various ways.\n",
      "    pairtopair    Find pairs that overlap other pairs in various ways.\n",
      "\n",
      "[ Format conversion ]\n",
      "    bamtobed      Convert BAM alignments to BED (& other) formats.\n",
      "    bedtobam      Convert intervals to BAM records.\n",
      "    bamtofastq    Convert BAM records to FASTQ records.\n",
      "    bedpetobam    Convert BEDPE intervals to BAM records.\n",
      "    bed12tobed6   Breaks BED12 intervals into discrete BED6 intervals.\n",
      "\n",
      "[ Fasta manipulation ]\n",
      "    getfasta      Use intervals to extract sequences from a FASTA file.\n",
      "    maskfasta     Use intervals to mask sequences from a FASTA file.\n",
      "    nuc           Profile the nucleotide content of intervals in a FASTA file.\n",
      "\n",
      "[ BAM focused tools ]\n",
      "    multicov      Counts coverage from multiple BAMs at specific intervals.\n",
      "    tag           Tag BAM alignments based on overlaps with interval files.\n",
      "\n",
      "[ Statistical relationships ]\n",
      "    jaccard       Calculate the Jaccard statistic b/w two sets of intervals.\n",
      "    reldist       Calculate the distribution of relative distances b/w two files.\n",
      "    fisher        Calculate Fisher statistic b/w two feature files.\n",
      "\n",
      "[ Miscellaneous tools ]\n",
      "    overlap       Computes the amount of overlap from two intervals.\n",
      "    igv           Create an IGV snapshot batch script.\n",
      "    links         Create a HTML page of links to UCSC locations.\n",
      "    makewindows   Make interval \"windows\" across a genome.\n",
      "    groupby       Group by common cols. & summarize oth. cols. (~ SQL \"groupBy\")\n",
      "    expand        Replicate lines based on lists of values in columns.\n",
      "    split         Split a file into multiple files with equal records or base pairs.\n",
      "\n",
      "[ General help ]\n",
      "    --help        Print this help menu.\n",
      "    --version     What version of bedtools are you using?.\n",
      "    --contact     Feature requests, bugs, mailing lists, etc.\n",
      "\n"
     ]
    }
   ],
   "source": [
    "cat ${FD_LOG}/test_GATA1.0.txt"
   ]
  },
  {
   "cell_type": "code",
   "execution_count": 21,
   "id": "e6c1946a-0bb0-40f6-9018-8f7a264c0b56",
   "metadata": {},
   "outputs": [
    {
     "name": "stdout",
     "output_type": "stream",
     "text": [
      "Submitted batch job 29148952\n"
     ]
    }
   ],
   "source": [
    "#REGIONS=(GATA1 MYC)\n",
    "#for REGION in ${REGIONS[@]}; do\n",
    "REGION=\"GATA1\"\n",
    "sbatch -p ${NODE} \\\n",
    "    --mem 20G \\\n",
    "    --array 1-2 \\\n",
    "    --export=REGION=${REGION} \\\n",
    "    -o ${FD_LOG}/coverage_total_count_ASTARR_${REGION}.%a.txt \\\n",
    "    <<'EOF'\n",
    "#!/bin/bash\n",
    "### set directories & global variables\n",
    "source ../config/config_duke.sh\n",
    "\n",
    "### print start message\n",
    "timer_start=`date +%s`\n",
    "echo \"Hostname:          \" $(hostname)\n",
    "echo \"Slurm Array Index: \" ${SLURM_ARRAY_TASK_ID}\n",
    "echo \"Time Stamp:        \" $(date +\"%m-%d-%y+%T\")\n",
    "echo\n",
    "\n",
    "bedtools --help\n",
    "\n",
    "### print end message\n",
    "timer=`date +%s`\n",
    "runtime=$(echo \"${timer} - ${timer_start}\" | bc -l)\n",
    "echo\n",
    "echo 'Done!'\n",
    "echo \"Time Stamp:        \" $(date +\"%m-%d-%y+%T\")\n",
    "echo \"Run Time: $(displaytime ${runtime})\"\n",
    "\n",
    "EOF"
   ]
  },
  {
   "cell_type": "code",
   "execution_count": 22,
   "id": "f31ec39c-7d08-4b34-bc19-83d6d6aa3c2e",
   "metadata": {},
   "outputs": [
    {
     "name": "stdout",
     "output_type": "stream",
     "text": [
      "-rw-rw-r-- 1 kk319 reddylab 251 Oct 12 13:05 /gpfs/fs1/data/reddylab/Kuei/out/proj_combeffect_encode_fcc/log/coverage_total_count_ASTARR_GATA1.1.txt\n"
     ]
    }
   ],
   "source": [
    "ls -l ${FD_LOG}/coverage_total_count_ASTARR_GATA1.1.txt"
   ]
  },
  {
   "cell_type": "code",
   "execution_count": 23,
   "id": "3fea5699-325f-460b-969f-c7cd0befcb57",
   "metadata": {},
   "outputs": [
    {
     "name": "stdout",
     "output_type": "stream",
     "text": [
      "Hostname:           x1-01-2.genome.duke.edu\n",
      "Slurm Array Index:  1\n",
      "Time Stamp:         10-12-22+13:05:48\n",
      "\n",
      "/var/spool/slurmd/job29148956/slurm_script: line 12: bedtools: command not found\n",
      "\n",
      "Done!\n",
      "Time Stamp:         10-12-22+13:05:48\n",
      "Run Time: 0 seconds\n"
     ]
    }
   ],
   "source": [
    "cat ${FD_LOG}/coverage_total_count_ASTARR_GATA1.1.txt"
   ]
  },
  {
   "cell_type": "code",
   "execution_count": null,
   "id": "2befa41a-fbda-4a32-806d-b3a8690ac2a8",
   "metadata": {},
   "outputs": [],
   "source": []
  },
  {
   "cell_type": "code",
   "execution_count": 65,
   "id": "1493aca9-4364-4ace-8b2a-b350168c0c05",
   "metadata": {},
   "outputs": [
    {
     "name": "stdout",
     "output_type": "stream",
     "text": [
      "Submitted batch job 29149180\n"
     ]
    }
   ],
   "source": [
    "REGION=\"GATA1\"\n",
    "sbatch -p ${NODE} \\\n",
    "    --mem 20G \\\n",
    "    --array 0 \\\n",
    "    --exclude=dl-01 \\\n",
    "    -o ${FD_LOG}/test1.%a.txt \\\n",
    "    <<'EOF'\n",
    "#!/bin/bash\n",
    "\n",
    "### print start message\n",
    "timer_start=`date +%s`\n",
    "echo \"Hostname:          \" $(hostname)\n",
    "echo \"Slurm Array Index: \" ${SLURM_ARRAY_TASK_ID}\n",
    "echo \"Time Stamp:        \" $(date +\"%m-%d-%y+%T\")\n",
    "echo\n",
    "\n",
    "echo ${REGION}\n",
    "bedtools -version\n",
    "\n",
    "### print end message\n",
    "timer=`date +%s`\n",
    "runtime=$(echo \"${timer} - ${timer_start}\" | bc -l)\n",
    "echo\n",
    "echo 'Done!'\n",
    "echo\n",
    "echo \"Time Stamp: \" $(date +\"%m-%d-%y+%T\")\n",
    "echo \"Run Time: ${runtime}\"\n",
    "EOF\n",
    "\n",
    "#done"
   ]
  },
  {
   "cell_type": "code",
   "execution_count": 66,
   "id": "eda5d20e-22c4-4e42-87c3-9e488ff0d617",
   "metadata": {},
   "outputs": [
    {
     "name": "stdout",
     "output_type": "stream",
     "text": [
      "-rw-rw-r-- 1 kk319 reddylab 174 Oct 12 13:37 /gpfs/fs1/data/reddylab/Kuei/out/proj_combeffect_encode_fcc/log/test1.0.txt\n"
     ]
    }
   ],
   "source": [
    "ls -l ${FD_LOG}/test1.0.txt"
   ]
  },
  {
   "cell_type": "code",
   "execution_count": 67,
   "id": "4badf872-150e-4317-b2db-baaf283f3961",
   "metadata": {},
   "outputs": [
    {
     "name": "stdout",
     "output_type": "stream",
     "text": [
      "Hostname:           x1-01-2.genome.duke.edu\n",
      "Slurm Array Index:  0\n",
      "Time Stamp:         10-12-22+13:37:19\n",
      "\n",
      "\n",
      "bedtools v2.25.0\n",
      "\n",
      "Done!\n",
      "\n",
      "Time Stamp:  10-12-22+13:37:19\n",
      "Run Time: 0\n"
     ]
    }
   ],
   "source": [
    "cat ${FD_LOG}/test1.0.txt"
   ]
  },
  {
   "cell_type": "code",
   "execution_count": 68,
   "id": "e81bca8f-1b2b-47b5-9d77-fc59f7f3ec1b",
   "metadata": {},
   "outputs": [
    {
     "name": "stdout",
     "output_type": "stream",
     "text": [
      "Submitted batch job 29149181\n"
     ]
    }
   ],
   "source": [
    "REGION=\"GATA1\"\n",
    "sbatch -p ${NODE} \\\n",
    "    --mem 20G \\\n",
    "    --array 0 \\\n",
    "    --export=REGION=${REGION} \\\n",
    "    --exclude=dl-01 \\\n",
    "    -o ${FD_LOG}/test2.%a.txt \\\n",
    "    <<'EOF'\n",
    "#!/bin/bash\n",
    "\n",
    "### print start message\n",
    "timer_start=`date +%s`\n",
    "echo \"Hostname:          \" $(hostname)\n",
    "echo \"Slurm Array Index: \" ${SLURM_ARRAY_TASK_ID}\n",
    "echo \"Time Stamp:        \" $(date +\"%m-%d-%y+%T\")\n",
    "echo\n",
    "\n",
    "echo ${REGION}\n",
    "bedtools -version\n",
    "\n",
    "### print end message\n",
    "timer=`date +%s`\n",
    "runtime=$(echo \"${timer} - ${timer_start}\" | bc -l)\n",
    "echo\n",
    "echo 'Done!'\n",
    "echo\n",
    "echo \"Time Stamp: \" $(date +\"%m-%d-%y+%T\")\n",
    "echo \"Run Time: ${runtime}\"\n",
    "EOF\n",
    "\n",
    "#done"
   ]
  },
  {
   "cell_type": "code",
   "execution_count": 69,
   "id": "dcc46c1b-9e07-44f7-a905-cd712100c9aa",
   "metadata": {},
   "outputs": [
    {
     "name": "stdout",
     "output_type": "stream",
     "text": [
      "-rw-rw-r-- 1 kk319 reddylab 243 Oct 12 13:40 /gpfs/fs1/data/reddylab/Kuei/out/proj_combeffect_encode_fcc/log/test2.0.txt\n"
     ]
    }
   ],
   "source": [
    "ls -l ${FD_LOG}/test2.0.txt"
   ]
  },
  {
   "cell_type": "code",
   "execution_count": 70,
   "id": "b69457e7-e494-4de6-ae52-78c2e1f95653",
   "metadata": {},
   "outputs": [
    {
     "name": "stdout",
     "output_type": "stream",
     "text": [
      "Hostname:           x1-01-2.genome.duke.edu\n",
      "Slurm Array Index:  0\n",
      "Time Stamp:         10-12-22+13:40:19\n",
      "\n",
      "GATA1\n",
      "/var/spool/slurmd/job29149181/slurm_script: line 11: bedtools: command not found\n",
      "\n",
      "Done!\n",
      "\n",
      "Time Stamp:  10-12-22+13:40:19\n",
      "Run Time: 0\n"
     ]
    }
   ],
   "source": [
    "cat ${FD_LOG}/test2.0.txt"
   ]
  },
  {
   "cell_type": "code",
   "execution_count": null,
   "id": "21189cf3-2f74-416b-8e15-dcbaae51effb",
   "metadata": {},
   "outputs": [],
   "source": []
  },
  {
   "cell_type": "code",
   "execution_count": 6,
   "id": "28aa2fa6-69b1-4585-a872-768362818b5e",
   "metadata": {},
   "outputs": [
    {
     "name": "stdout",
     "output_type": "stream",
     "text": [
      "Submitted batch job 29148796\n"
     ]
    }
   ],
   "source": [
    "#REGIONS=(GATA1 MYC)\n",
    "#for REGION in ${REGIONS[@]}; do\n",
    "#source ../config/config_duke.sh\n",
    "#source ../config/config_load_module_bedtools.sh\n",
    "\n",
    "REGION=\"GATA1\"\n",
    "sbatch -p ${NODE} \\\n",
    "    --mem 20G \\\n",
    "    --array 1-6 \\\n",
    "    --export=REGION=${REGION} \\\n",
    "    -o ${FD_LOG}/coverage_total_count_ASTARR_${REGION}.%a.txt \\\n",
    "    <<'EOF'\n",
    "#!/bin/bash\n",
    "### set directories & global variables\n",
    "source ../config/config_duke.sh\n",
    "\n",
    "### set input and output directory\n",
    "FD_CNT=${FD_RES}/KS91_K562_ASTARRseq/fragment_count\n",
    "FD_COV=${FD_RES}/KS91_K562_ASTARRseq/coverage\n",
    "REP=rep${SLURM_ARRAY_TASK_ID}\n",
    "\n",
    "### print start message\n",
    "timer_start=`date +%s`\n",
    "echo \"Hostname:          \" $(hostname)\n",
    "echo \"Slurm Array Index: \" ${SLURM_ARRAY_TASK_ID}\n",
    "echo \"Time Stamp:        \" $(date +\"%m-%d-%y+%T\")\n",
    "echo\n",
    "\n",
    "FP_CNTS=($(ls ${FD_CNT}/*${REP}*${REGION}*.unstranded.bed))\n",
    "for FP_INP in ${FP_CNTS[@]}; do\n",
    "\n",
    "    ### set input and output file\n",
    "    FN_INP=$(basename ${FP_INP})\n",
    "    FN_OUT=${FN_INP%.*}.total_count.tsv\n",
    "    FP_OUT=${FD_COV}/${FN_OUT}\n",
    "    echo ++++++++++++++++++++++++++++++++++++++\n",
    "    echo\n",
    "    \n",
    "    ### show input file\n",
    "    echo \"Input: \" ${FP_INP}\n",
    "    echo\n",
    "    echo \"show first few lines of input\"\n",
    "    cat ${FP_INP} | head -5\n",
    "    echo\n",
    "    echo \"show last few lines of input\"\n",
    "    cat ${FP_INP} | tail -n 5\n",
    "    echo\n",
    "    \n",
    "    ### execute\n",
    "    bedtools map \\\n",
    "        -a ${FD_COV}/region_${REGION}.bed \\\n",
    "        -b ${FP_INP} \\\n",
    "        -o sum > ${FP_OUT}\n",
    "    \n",
    "    ### show output file\n",
    "    echo \"Output: \" ${FP_OUT}\n",
    "    echo\n",
    "    cat ${FP_OUT}\n",
    "    echo\n",
    "done\n",
    "\n",
    "### print end message\n",
    "timer=`date +%s`\n",
    "runtime=$(echo \"${timer} - ${timer_start}\" | bc -l)\n",
    "echo\n",
    "echo 'Done!'\n",
    "echo \"Run Time: $(displaytime ${runtime})\"\n",
    "EOF\n",
    "\n",
    "#done"
   ]
  },
  {
   "cell_type": "markdown",
   "id": "ed2b53b8-2ff4-4fc4-a04e-b08d50a56aca",
   "metadata": {},
   "source": [
    "**CHECK**"
   ]
  },
  {
   "cell_type": "code",
   "execution_count": 12,
   "id": "e0cd5c1d-369a-4198-a31f-ab981e49e3bb",
   "metadata": {},
   "outputs": [
    {
     "name": "stdout",
     "output_type": "stream",
     "text": [
      "-rw-rw-r-- 1 kk319 reddylab 213 Oct 12 12:58 /gpfs/fs1/data/reddylab/Kuei/out/proj_combeffect_encode_fcc/log/coverage_total_count_ASTARR_GATA1.1.txt\n"
     ]
    }
   ],
   "source": [
    "ls -l ${FD_LOG}/coverage_total_count_ASTARR_GATA1.1.txt"
   ]
  },
  {
   "cell_type": "code",
   "execution_count": 13,
   "id": "6b9b057d-8c38-47c5-aab9-ac0e5185213f",
   "metadata": {},
   "outputs": [
    {
     "name": "stdout",
     "output_type": "stream",
     "text": [
      "Hostname:           x1-01-2.genome.duke.edu\n",
      "Slurm Array Index:  1\n",
      "Time Stamp:         10-12-22+12:58:18\n",
      "\n",
      "/var/spool/slurmd/job29148822/slurm_script: line 17: bedtools: command not found\n",
      "\n",
      "Done!\n",
      "Run Time: 0 seconds\n"
     ]
    }
   ],
   "source": [
    "cat ${FD_LOG}/coverage_total_count_ASTARR_GATA1.1.txt"
   ]
  },
  {
   "cell_type": "markdown",
   "id": "792fa5b4-f8e9-4883-9927-139a98ae5a42",
   "metadata": {},
   "source": [
    "## Calculate coverage perbase for input and output"
   ]
  },
  {
   "cell_type": "markdown",
   "id": "bb6a5fa0-91f9-4fb5-adba-80473cdaeff0",
   "metadata": {},
   "source": [
    "**TEST**"
   ]
  },
  {
   "cell_type": "code",
   "execution_count": 8,
   "id": "fa28b1b7-82c9-4cfe-b0df-8480492be940",
   "metadata": {},
   "outputs": [
    {
     "name": "stdout",
     "output_type": "stream",
     "text": [
      "KS91_K562_hg38_ASTARRseq_Input_rep1.FADS.stranded_neg.bed\n",
      "KS91_K562_hg38_ASTARRseq_Input_rep1.FADS.stranded_neg.perbase.tsv.gz\n",
      "KS91_K562_hg38_ASTARRseq_Input_rep1.FADS.stranded_pos.bed\n",
      "KS91_K562_hg38_ASTARRseq_Input_rep1.FADS.stranded_pos.perbase.tsv.gz\n",
      "KS91_K562_hg38_ASTARRseq_Input_rep1.FADS.unstranded.bed\n",
      "KS91_K562_hg38_ASTARRseq_Input_rep1.FADS.unstranded.perbase.tsv.gz\n",
      "KS91_K562_hg38_ASTARRseq_Input_rep1.GATA1.stranded_neg.bed\n",
      "KS91_K562_hg38_ASTARRseq_Input_rep1.GATA1.stranded_neg.perbase.tsv.gz\n",
      "KS91_K562_hg38_ASTARRseq_Input_rep1.GATA1.stranded_pos.bed\n",
      "KS91_K562_hg38_ASTARRseq_Input_rep1.GATA1.stranded_pos.perbase.tsv.gz\n",
      "KS91_K562_hg38_ASTARRseq_Input_rep1.GATA1.unstranded.bed\n",
      "KS91_K562_hg38_ASTARRseq_Input_rep1.GATA1.unstranded.perbase.tsv.gz\n",
      "KS91_K562_hg38_ASTARRseq_Input_rep1.MYC.stranded_neg.bed\n",
      "KS91_K562_hg38_ASTARRseq_Input_rep1.MYC.stranded_neg.perbase.tsv.gz\n",
      "KS91_K562_hg38_ASTARRseq_Input_rep1.MYC.stranded_pos.bed\n",
      "KS91_K562_hg38_ASTARRseq_Input_rep1.MYC.stranded_pos.perbase.tsv.gz\n",
      "KS91_K562_hg38_ASTARRseq_Input_rep1.MYC.unstranded.bed\n",
      "KS91_K562_hg38_ASTARRseq_Input_rep1.MYC.unstranded.perbase.tsv.gz\n",
      "KS91_K562_hg38_ASTARRseq_Output_rep1.FADS.stranded_neg.bed\n",
      "KS91_K562_hg38_ASTARRseq_Output_rep1.FADS.stranded_neg.perbase.tsv.gz\n",
      "KS91_K562_hg38_ASTARRseq_Output_rep1.FADS.stranded_pos.bed\n",
      "KS91_K562_hg38_ASTARRseq_Output_rep1.FADS.stranded_pos.perbase.tsv.gz\n",
      "KS91_K562_hg38_ASTARRseq_Output_rep1.FADS.unstranded.bed\n",
      "KS91_K562_hg38_ASTARRseq_Output_rep1.FADS.unstranded.perbase.tsv.gz\n",
      "KS91_K562_hg38_ASTARRseq_Output_rep1.GATA1.stranded_neg.bed\n",
      "KS91_K562_hg38_ASTARRseq_Output_rep1.GATA1.stranded_neg.perbase.tsv.gz\n",
      "KS91_K562_hg38_ASTARRseq_Output_rep1.GATA1.stranded_pos.bed\n",
      "KS91_K562_hg38_ASTARRseq_Output_rep1.GATA1.stranded_pos.perbase.tsv.gz\n",
      "KS91_K562_hg38_ASTARRseq_Output_rep1.GATA1.unstranded.bed\n",
      "KS91_K562_hg38_ASTARRseq_Output_rep1.GATA1.unstranded.perbase.tsv.gz\n",
      "KS91_K562_hg38_ASTARRseq_Output_rep1.MYC.stranded_neg.bed\n",
      "KS91_K562_hg38_ASTARRseq_Output_rep1.MYC.stranded_neg.perbase.tsv.gz\n",
      "KS91_K562_hg38_ASTARRseq_Output_rep1.MYC.stranded_pos.bed\n",
      "KS91_K562_hg38_ASTARRseq_Output_rep1.MYC.stranded_pos.perbase.tsv.gz\n",
      "KS91_K562_hg38_ASTARRseq_Output_rep1.MYC.unstranded.bed\n",
      "KS91_K562_hg38_ASTARRseq_Output_rep1.MYC.unstranded.perbase.tsv.gz\n"
     ]
    }
   ],
   "source": [
    "FD_BED=${FD_RES}/KS91_K562_ASTARRseq/fragment_count\n",
    "FD_COV=${FD_RES}/KS91_K562_ASTARRseq/coverage\n",
    "\n",
    "REP=rep1\n",
    "REGION=\n",
    "FP_BEDS=($(ls ${FD_BED}/*${REP}*bed))\n",
    "for FP_BED in ${FP_BEDS[@]}; do\n",
    "    FN_BED=$(basename ${FP_BED})\n",
    "    FN_OUT=${FN_BED%.*}.perbase.tsv.gz\n",
    "    echo ${FN_BED}\n",
    "    echo ${FN_OUT}\n",
    "done"
   ]
  },
  {
   "cell_type": "markdown",
   "id": "bae95f3e-c546-4de7-8dac-d08dc63b2c44",
   "metadata": {},
   "source": [
    "**RUN**"
   ]
  },
  {
   "cell_type": "code",
   "execution_count": 23,
   "id": "1b5a21fb-fcc1-411e-877c-79c61512de53",
   "metadata": {},
   "outputs": [
    {
     "name": "stdout",
     "output_type": "stream",
     "text": [
      "Submitted batch job 29147876\n",
      "Submitted batch job 29147877\n"
     ]
    }
   ],
   "source": [
    "REGIONS=(GATA1 MYC)\n",
    "for REGION in ${REGIONS[@]}; do\n",
    "\n",
    "sbatch -p ${NODE} \\\n",
    "    --mem 20G \\\n",
    "    --array 1-6 \\\n",
    "    --export=REGION=${REGION} \\\n",
    "    -o ${FD_LOG}/coverage_perbase_ASTARR_${REGION}.%a.txt \\\n",
    "    <<'EOF'\n",
    "#!/bin/bash\n",
    "### set directories & global variables\n",
    "source ../config/config_duke.sh\n",
    "source ../config/config_load_module_bedtools.sh\n",
    "\n",
    "### set input and output directory\n",
    "FD_CNT=${FD_RES}/KS91_K562_ASTARRseq/fragment_count\n",
    "FD_COV=${FD_RES}/KS91_K562_ASTARRseq/coverage\n",
    "REP=rep${SLURM_ARRAY_TASK_ID}\n",
    "\n",
    "### print start message\n",
    "timer_start=`date +%s`\n",
    "echo \"Hostname:          \" $(hostname)\n",
    "echo \"Slurm Array Index: \" ${SLURM_ARRAY_TASK_ID}\n",
    "echo \"Time Stamp:        \" $(date +\"%m-%d-%y+%T\")\n",
    "echo\n",
    "\n",
    "FP_CNTS=($(ls ${FD_CNT}/*${REP}*${REGION}*bed))\n",
    "for FP_INP in ${FP_CNTS[@]}; do\n",
    "\n",
    "    ### set input and output file\n",
    "    FN_INP=$(basename ${FP_INP})\n",
    "    FN_OUT=${FN_INP%.*}.perbase.tsv.gz\n",
    "    FP_OUT=${FD_COV}/${FN_OUT}\n",
    "    echo ++++++++++++++++++++++++++++++++++++++\n",
    "    echo\n",
    "    \n",
    "    ### show input file\n",
    "    echo \"Input: \" ${FP_INP}\n",
    "    echo\n",
    "    echo \"show first few lines of input\"\n",
    "    cat ${FP_INP} | head -5\n",
    "    echo\n",
    "    echo \"show last few lines of input\"\n",
    "    cat ${FP_INP} | tail -n 5\n",
    "    echo\n",
    "    \n",
    "    ### execute\n",
    "    bedtools map \\\n",
    "        -a ${FD_COV}/region_${REGION}_perbase.bed \\\n",
    "        -b ${FP_INP} \\\n",
    "        -o sum |\\\n",
    "        gzip -c > ${FP_OUT}\n",
    "    \n",
    "    ### show output file\n",
    "    echo \"Output: \" ${FP_OUT}\n",
    "    echo\n",
    "    echo \"show first few lines of output:\"\n",
    "    zcat ${FP_OUT} | head -5\n",
    "    echo\n",
    "    echo \"show last few lines of output\"\n",
    "    zcat ${FP_OUT} | tail -n 5\n",
    "    echo\n",
    "done\n",
    "\n",
    "### print end message\n",
    "timer=`date +%s`\n",
    "runtime=$(echo \"${timer} - ${timer_start}\" | bc -l)\n",
    "echo\n",
    "echo 'Done!'\n",
    "echo \"Run Time: $(displaytime ${runtime})\"\n",
    "EOF\n",
    "\n",
    "done"
   ]
  },
  {
   "cell_type": "markdown",
   "id": "51cb9008-5779-49ef-9dcc-a181f2c94020",
   "metadata": {},
   "source": [
    "**CHECK**"
   ]
  },
  {
   "cell_type": "code",
   "execution_count": 26,
   "id": "1ae1656f-52da-4419-b99a-82470388c4ab",
   "metadata": {},
   "outputs": [
    {
     "name": "stdout",
     "output_type": "stream",
     "text": [
      "/gpfs/fs1/data/reddylab/Kuei/GitRepo/Proj_CombEffect_ENCODE_FCC/notebooks/notebooks_refresh/03_coverage\n"
     ]
    }
   ],
   "source": [
    "pwd"
   ]
  },
  {
   "cell_type": "code",
   "execution_count": 24,
   "id": "70595a5b-4608-41bb-97d9-1e074df3829a",
   "metadata": {},
   "outputs": [
    {
     "name": "stdout",
     "output_type": "stream",
     "text": [
      "/gpfs/fs1/data/reddylab/Kuei/out/proj_combeffect_encode_fcc/log/coverage_perbase_ASTARR_GATA1.1.txt\n",
      "/gpfs/fs1/data/reddylab/Kuei/out/proj_combeffect_encode_fcc/log/coverage_perbase_ASTARR_GATA1.2.txt\n",
      "/gpfs/fs1/data/reddylab/Kuei/out/proj_combeffect_encode_fcc/log/coverage_perbase_ASTARR_GATA1.3.txt\n",
      "/gpfs/fs1/data/reddylab/Kuei/out/proj_combeffect_encode_fcc/log/coverage_perbase_ASTARR_GATA1.4.txt\n",
      "/gpfs/fs1/data/reddylab/Kuei/out/proj_combeffect_encode_fcc/log/coverage_perbase_ASTARR_GATA1.5.txt\n",
      "/gpfs/fs1/data/reddylab/Kuei/out/proj_combeffect_encode_fcc/log/coverage_perbase_ASTARR_GATA1.6.txt\n",
      "/gpfs/fs1/data/reddylab/Kuei/out/proj_combeffect_encode_fcc/log/coverage_perbase_ASTARR_MYC.1.txt\n",
      "/gpfs/fs1/data/reddylab/Kuei/out/proj_combeffect_encode_fcc/log/coverage_perbase_ASTARR_MYC.2.txt\n",
      "/gpfs/fs1/data/reddylab/Kuei/out/proj_combeffect_encode_fcc/log/coverage_perbase_ASTARR_MYC.3.txt\n",
      "/gpfs/fs1/data/reddylab/Kuei/out/proj_combeffect_encode_fcc/log/coverage_perbase_ASTARR_MYC.4.txt\n",
      "/gpfs/fs1/data/reddylab/Kuei/out/proj_combeffect_encode_fcc/log/coverage_perbase_ASTARR_MYC.5.txt\n",
      "/gpfs/fs1/data/reddylab/Kuei/out/proj_combeffect_encode_fcc/log/coverage_perbase_ASTARR_MYC.6.txt\n"
     ]
    }
   ],
   "source": [
    "ls ${FD_LOG}/coverage_perbase_ASTARR*"
   ]
  },
  {
   "cell_type": "code",
   "execution_count": 25,
   "id": "b2867518-6129-44c2-af16-f14fc99f5fd2",
   "metadata": {},
   "outputs": [
    {
     "name": "stdout",
     "output_type": "stream",
     "text": [
      "../config/config_load_module_bedtools.sh: line 4: module: command not found\n",
      "Hostname:           dl-01.genome.duke.edu\n",
      "Slurm Array Index:  1\n",
      "Time Stamp:         10-12-22+04:33:18\n",
      "\n",
      "++++++++++++++++++++++++++++++++++++++\n",
      "\n",
      "Input:  /gpfs/fs1/data/reddylab/Kuei/out/proj_combeffect_encode_fcc/KS91_K562_ASTARRseq/fragment_count/KS91_K562_hg38_ASTARRseq_Input_rep1.GATA1.stranded_neg.bed\n",
      "\n",
      "show first few lines of input\n",
      "chrX\t47787557\t47787773\tchrX_47787557_47787773_-\t1\t-\n",
      "chrX\t47787593\t47787783\tchrX_47787593_47787783_-\t1\t-\n",
      "chrX\t47787598\t47787772\tchrX_47787598_47787772_-\t1\t-\n",
      "chrX\t47787743\t47787849\tchrX_47787743_47787849_-\t1\t-\n",
      "chrX\t47788008\t47788157\tchrX_47788008_47788157_-\t1\t-\n",
      "\n",
      "show last few lines of input\n",
      "chrX\t49786139\t49786285\tchrX_49786139_49786285_-\t1\t-\n",
      "chrX\t49786329\t49786456\tchrX_49786329_49786456_-\t1\t-\n",
      "chrX\t49786338\t49786527\tchrX_49786338_49786527_-\t1\t-\n",
      "chrX\t49786423\t49786588\tchrX_49786423_49786588_-\t1\t-\n",
      "chrX\t49786428\t49786620\tchrX_49786428_49786620_-\t1\t-\n",
      "\n",
      "/var/spool/slurmd/job29147866/slurm_script: line 39: bedtools: command not found\n",
      "Output:  /gpfs/fs1/data/reddylab/Kuei/out/proj_combeffect_encode_fcc/KS91_K562_ASTARRseq/coverage/KS91_K562_hg38_ASTARRseq_Input_rep1.GATA1.stranded_neg.perbase.tsv.gz\n",
      "\n",
      "show first few lines of output:\n",
      "\n",
      "show last few lines of output\n",
      "\n",
      "++++++++++++++++++++++++++++++++++++++\n",
      "\n",
      "Input:  /gpfs/fs1/data/reddylab/Kuei/out/proj_combeffect_encode_fcc/KS91_K562_ASTARRseq/fragment_count/KS91_K562_hg38_ASTARRseq_Input_rep1.GATA1.stranded_pos.bed\n",
      "\n",
      "show first few lines of input\n",
      "chrX\t47787165\t47787363\tchrX_47787165_47787363_+\t1\t+\n",
      "chrX\t47787661\t47788058\tchrX_47787661_47788058_+\t1\t+\n",
      "chrX\t47787998\t47788231\tchrX_47787998_47788231_+\t1\t+\n",
      "chrX\t47788540\t47788698\tchrX_47788540_47788698_+\t1\t+\n",
      "chrX\t47788540\t47789086\tchrX_47788540_47789086_+\t1\t+\n",
      "\n",
      "show last few lines of input\n",
      "chrX\t49786149\t49786353\tchrX_49786149_49786353_+\t1\t+\n",
      "chrX\t49786169\t49786287\tchrX_49786169_49786287_+\t1\t+\n",
      "chrX\t49786270\t49786496\tchrX_49786270_49786496_+\t1\t+\n",
      "chrX\t49786316\t49786455\tchrX_49786316_49786455_+\t1\t+\n",
      "chrX\t49786343\t49786510\tchrX_49786343_49786510_+\t1\t+\n",
      "\n",
      "/var/spool/slurmd/job29147866/slurm_script: line 39: bedtools: command not found\n",
      "Output:  /gpfs/fs1/data/reddylab/Kuei/out/proj_combeffect_encode_fcc/KS91_K562_ASTARRseq/coverage/KS91_K562_hg38_ASTARRseq_Input_rep1.GATA1.stranded_pos.perbase.tsv.gz\n",
      "\n",
      "show first few lines of output:\n",
      "\n",
      "show last few lines of output\n",
      "\n",
      "++++++++++++++++++++++++++++++++++++++\n",
      "\n",
      "Input:  /gpfs/fs1/data/reddylab/Kuei/out/proj_combeffect_encode_fcc/KS91_K562_ASTARRseq/fragment_count/KS91_K562_hg38_ASTARRseq_Input_rep1.GATA1.unstranded.bed\n",
      "\n",
      "show first few lines of input\n",
      "chrX\t47787165\t47787363\tchrX_47787165_47787363\t1\t.\n",
      "chrX\t47787557\t47787773\tchrX_47787557_47787773\t1\t.\n",
      "chrX\t47787593\t47787783\tchrX_47787593_47787783\t1\t.\n",
      "chrX\t47787598\t47787772\tchrX_47787598_47787772\t1\t.\n",
      "chrX\t47787661\t47788058\tchrX_47787661_47788058\t1\t.\n",
      "\n",
      "show last few lines of input\n",
      "chrX\t49786329\t49786456\tchrX_49786329_49786456\t1\t.\n",
      "chrX\t49786338\t49786527\tchrX_49786338_49786527\t1\t.\n",
      "chrX\t49786343\t49786510\tchrX_49786343_49786510\t1\t.\n",
      "chrX\t49786423\t49786588\tchrX_49786423_49786588\t1\t.\n",
      "chrX\t49786428\t49786620\tchrX_49786428_49786620\t1\t.\n",
      "\n",
      "/var/spool/slurmd/job29147866/slurm_script: line 39: bedtools: command not found\n",
      "Output:  /gpfs/fs1/data/reddylab/Kuei/out/proj_combeffect_encode_fcc/KS91_K562_ASTARRseq/coverage/KS91_K562_hg38_ASTARRseq_Input_rep1.GATA1.unstranded.perbase.tsv.gz\n",
      "\n",
      "show first few lines of output:\n",
      "\n",
      "show last few lines of output\n",
      "\n",
      "++++++++++++++++++++++++++++++++++++++\n",
      "\n",
      "Input:  /gpfs/fs1/data/reddylab/Kuei/out/proj_combeffect_encode_fcc/KS91_K562_ASTARRseq/fragment_count/KS91_K562_hg38_ASTARRseq_Output_rep1.GATA1.stranded_neg.bed\n",
      "\n",
      "show first few lines of input\n",
      "chrX\t47788970\t47789151\tchrX_47788970_47789151_-\t9\t-\n",
      "chrX\t47789176\t47789447\tchrX_47789176_47789447_-\t1\t-\n",
      "chrX\t47789176\t47789448\tchrX_47789176_47789448_-\t38\t-\n",
      "chrX\t47789177\t47789448\tchrX_47789177_47789448_-\t1\t-\n",
      "chrX\t47789298\t47789425\tchrX_47789298_47789425_-\t1\t-\n",
      "\n",
      "show last few lines of input\n",
      "chrX\t49783206\t49783402\tchrX_49783206_49783402_-\t1\t-\n",
      "chrX\t49783206\t49783403\tchrX_49783206_49783403_-\t48\t-\n",
      "chrX\t49783207\t49783403\tchrX_49783207_49783403_-\t2\t-\n",
      "chrX\t49783404\t49783655\tchrX_49783404_49783655_-\t7\t-\n",
      "chrX\t49785060\t49785281\tchrX_49785060_49785281_-\t1\t-\n",
      "\n",
      "/var/spool/slurmd/job29147866/slurm_script: line 39: bedtools: command not found\n",
      "Output:  /gpfs/fs1/data/reddylab/Kuei/out/proj_combeffect_encode_fcc/KS91_K562_ASTARRseq/coverage/KS91_K562_hg38_ASTARRseq_Output_rep1.GATA1.stranded_neg.perbase.tsv.gz\n",
      "\n",
      "show first few lines of output:\n",
      "\n",
      "show last few lines of output\n",
      "\n",
      "++++++++++++++++++++++++++++++++++++++\n",
      "\n",
      "Input:  /gpfs/fs1/data/reddylab/Kuei/out/proj_combeffect_encode_fcc/KS91_K562_ASTARRseq/fragment_count/KS91_K562_hg38_ASTARRseq_Output_rep1.GATA1.stranded_pos.bed\n",
      "\n",
      "show first few lines of input\n",
      "chrX\t47787189\t47787363\tchrX_47787189_47787363_+\t6\t+\n",
      "chrX\t47788545\t47789154\tchrX_47788545_47789154_+\t6\t+\n",
      "chrX\t47788659\t47788978\tchrX_47788659_47788978_+\t4\t+\n",
      "chrX\t47788659\t47788979\tchrX_47788659_47788979_+\t18\t+\n",
      "chrX\t47788660\t47788978\tchrX_47788660_47788978_+\t1\t+\n",
      "\n",
      "show last few lines of input\n",
      "chrX\t49785587\t49785783\tchrX_49785587_49785783_+\t1\t+\n",
      "chrX\t49785715\t49785972\tchrX_49785715_49785972_+\t1\t+\n",
      "chrX\t49785715\t49785973\tchrX_49785715_49785973_+\t50\t+\n",
      "chrX\t49785716\t49785972\tchrX_49785716_49785972_+\t1\t+\n",
      "chrX\t49785716\t49785973\tchrX_49785716_49785973_+\t2\t+\n",
      "\n",
      "/var/spool/slurmd/job29147866/slurm_script: line 39: bedtools: command not found\n",
      "Output:  /gpfs/fs1/data/reddylab/Kuei/out/proj_combeffect_encode_fcc/KS91_K562_ASTARRseq/coverage/KS91_K562_hg38_ASTARRseq_Output_rep1.GATA1.stranded_pos.perbase.tsv.gz\n",
      "\n",
      "show first few lines of output:\n",
      "\n",
      "show last few lines of output\n",
      "\n",
      "++++++++++++++++++++++++++++++++++++++\n",
      "\n",
      "Input:  /gpfs/fs1/data/reddylab/Kuei/out/proj_combeffect_encode_fcc/KS91_K562_ASTARRseq/fragment_count/KS91_K562_hg38_ASTARRseq_Output_rep1.GATA1.unstranded.bed\n",
      "\n",
      "show first few lines of input\n",
      "chrX\t47787189\t47787363\tchrX_47787189_47787363\t6\t.\n",
      "chrX\t47788545\t47789154\tchrX_47788545_47789154\t6\t.\n",
      "chrX\t47788659\t47788978\tchrX_47788659_47788978\t4\t.\n",
      "chrX\t47788659\t47788979\tchrX_47788659_47788979\t18\t.\n",
      "chrX\t47788660\t47788978\tchrX_47788660_47788978\t1\t.\n",
      "\n",
      "show last few lines of input\n",
      "chrX\t49785587\t49785783\tchrX_49785587_49785783\t1\t.\n",
      "chrX\t49785715\t49785972\tchrX_49785715_49785972\t1\t.\n",
      "chrX\t49785715\t49785973\tchrX_49785715_49785973\t50\t.\n",
      "chrX\t49785716\t49785972\tchrX_49785716_49785972\t1\t.\n",
      "chrX\t49785716\t49785973\tchrX_49785716_49785973\t2\t.\n",
      "\n",
      "/var/spool/slurmd/job29147866/slurm_script: line 39: bedtools: command not found\n",
      "Output:  /gpfs/fs1/data/reddylab/Kuei/out/proj_combeffect_encode_fcc/KS91_K562_ASTARRseq/coverage/KS91_K562_hg38_ASTARRseq_Output_rep1.GATA1.unstranded.perbase.tsv.gz\n",
      "\n",
      "show first few lines of output:\n",
      "\n",
      "show last few lines of output\n",
      "\n",
      "\n",
      "Done!\n",
      "Run Time: 0 seconds\n"
     ]
    }
   ],
   "source": [
    "cat ${FD_LOG}/coverage_perbase_ASTARR_GATA1.1.txt"
   ]
  },
  {
   "cell_type": "code",
   "execution_count": null,
   "id": "c6c94371-1414-4df8-aa5c-5722527fcbca",
   "metadata": {},
   "outputs": [],
   "source": []
  }
 ],
 "metadata": {
  "kernelspec": {
   "display_name": "Bash",
   "language": "bash",
   "name": "bash"
  },
  "language_info": {
   "codemirror_mode": "shell",
   "file_extension": ".sh",
   "mimetype": "text/x-sh",
   "name": "bash"
  }
 },
 "nbformat": 4,
 "nbformat_minor": 5
}
