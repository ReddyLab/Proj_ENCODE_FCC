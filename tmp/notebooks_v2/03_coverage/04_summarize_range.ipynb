{
 "cells": [
  {
   "cell_type": "markdown",
   "id": "d6407344-0cc0-4934-adcb-4df89dd37b5a",
   "metadata": {},
   "source": [
    "**Set environment**"
   ]
  },
  {
   "cell_type": "code",
   "execution_count": 1,
   "id": "88c4b820-55c9-41ac-856a-416da5ec07cd",
   "metadata": {},
   "outputs": [
    {
     "name": "stdout",
     "output_type": "stream",
     "text": [
      "You are on Duke Server: HARDAC\n",
      "BASE DIRECTORY:     /gpfs/fs1/data/reddylab/Kuei\n",
      "PATH OF SOURCE:     /gpfs/fs1/data/reddylab/Kuei/source\n",
      "PATH OF EXECUTABLE: /gpfs/fs1/data/reddylab/Kuei/exe\n",
      "PATH OF ANNOTATION: /gpfs/fs1/data/reddylab/Kuei/annotation\n",
      "PATH OF PROJECT:    /gpfs/fs1/data/reddylab/Kuei/GitRepo/Proj_CombEffect_ENCODE_FCC/notebooks\n",
      "PATH OF RESULTS:    /gpfs/fs1/data/reddylab/Kuei/out/proj_combeffect_encode_fcc\n",
      "\n"
     ]
    }
   ],
   "source": [
    "source ../config/config_duke.sh; show_env"
   ]
  },
  {
   "cell_type": "markdown",
   "id": "c1a129da-bc66-4cd9-bbb2-a4aefb26dfbd",
   "metadata": {},
   "source": [
    "```\n",
    "ASTARR | GATA1 | chrX:47,786,508-49,786,637\n",
    "WSTARR | GATA1 | chrX:47,786,887-49,786,530\n",
    "TMPRA  | GATA1 | chrX:47,786,401-49,786,750\n",
    "\n",
    "ASTARR | MYC | chr8:126,735,973-128,736,166\n",
    "WSTARR | MYC | chr8:126,735,996-128,736,142\n",
    "TMPRA  | MYC | chr8:126,735,901-128,736,250\n",
    "```"
   ]
  },
  {
   "cell_type": "markdown",
   "id": "ab70fb70-1e87-41b9-ab24-d08ecc9956e0",
   "metadata": {},
   "source": [
    "## ASTARR\n",
    "```\n",
    "ASTARR | GATA1 | chrX: 47,786,500- 49,786,650\n",
    "ASTARR | MYC   | chr8:126,735,970-128,736,170\n",
    "```"
   ]
  },
  {
   "cell_type": "code",
   "execution_count": 2,
   "id": "8976d814-7ea0-40bf-be7a-6953b01ef50b",
   "metadata": {},
   "outputs": [],
   "source": [
    "FD_COV=${FD_RES}/KS91_K562_ASTARRseq/coverage\n",
    "mkdir -p ${FD_COV}"
   ]
  },
  {
   "cell_type": "markdown",
   "id": "2a5a74ce-51d8-4534-a54e-90d046923981",
   "metadata": {
    "tags": []
   },
   "source": [
    "### Set region by Range"
   ]
  },
  {
   "cell_type": "code",
   "execution_count": 3,
   "id": "e29af5e2-b7b0-4f49-ad4b-81f7bc4d1d2e",
   "metadata": {},
   "outputs": [
    {
     "name": "stdout",
     "output_type": "stream",
     "text": [
      "chrX\t47786500\t49786650\n"
     ]
    }
   ],
   "source": [
    "START=47786500\n",
    "END=49786650\n",
    "CHROM=chrX\n",
    "\n",
    "FP_OUT=${FD_COV}/region_GATA1.bed\n",
    "cat /dev/null > ${FP_OUT}\n",
    "echo -e \"${CHROM}\\\\t${START}\\\\t${END}\" >> ${FP_OUT}\n",
    "cat ${FP_OUT}"
   ]
  },
  {
   "cell_type": "code",
   "execution_count": 4,
   "id": "744f9fed-c427-4a3b-95e4-2beb5f0477df",
   "metadata": {},
   "outputs": [
    {
     "name": "stdout",
     "output_type": "stream",
     "text": [
      "chr8\t126735970\t128736170\n"
     ]
    }
   ],
   "source": [
    "START=126735970\n",
    "END=128736170\n",
    "CHROM=chr8\n",
    "\n",
    "FP_OUT=${FD_COV}/region_MYC.bed\n",
    "cat /dev/null > ${FP_OUT}\n",
    "echo -e \"${CHROM}\\\\t${START}\\\\t${END}\" >> ${FP_OUT}\n",
    "cat ${FP_OUT}"
   ]
  },
  {
   "cell_type": "markdown",
   "id": "49680f28-b1a1-40cb-87d6-cd459ea4cb7a",
   "metadata": {},
   "source": [
    "### Set region per base"
   ]
  },
  {
   "cell_type": "code",
   "execution_count": 5,
   "id": "f8a8c208-9da1-4d3a-993e-755bafd3c332",
   "metadata": {},
   "outputs": [],
   "source": [
    "START=47786500\n",
    "END=49786650\n",
    "CHROM=chrX\n",
    "\n",
    "FP_OUT=${FD_COV}/region_GATA1_perbase.bed\n",
    "cat /dev/null > ${FP_OUT}\n",
    "for LOC in $(seq ${START} ${END}); do\n",
    "    echo -e \"${CHROM}\\\\t${LOC}\\\\t$((${LOC} + 1))\" >> ${FP_OUT}\n",
    "done"
   ]
  },
  {
   "cell_type": "code",
   "execution_count": 6,
   "id": "c4c57d93-ae98-4765-9795-fa4834c53b21",
   "metadata": {},
   "outputs": [],
   "source": [
    "START=126735970\n",
    "END=128736170\n",
    "CHROM=chr8\n",
    "\n",
    "FP_OUT=${FD_COV}/region_MYC_perbase.bed\n",
    "cat /dev/null > ${FP_OUT}\n",
    "for LOC in $(seq ${START} ${END}); do\n",
    "    echo -e \"${CHROM}\\\\t${LOC}\\\\t$((${LOC} + 1))\" >> ${FP_OUT}\n",
    "done"
   ]
  },
  {
   "cell_type": "markdown",
   "id": "3cec1ce7-5721-4b46-862d-735f1e6a8d4d",
   "metadata": {},
   "source": [
    "## WSTARR\n",
    "```\n",
    "WSTARR | GATA1 | chrX: 47,786,880- 49,786,530\n",
    "WSTARR | MYC   | chr8:126,735,990-128,736,150\n",
    "```"
   ]
  },
  {
   "cell_type": "code",
   "execution_count": 7,
   "id": "9d6acc09-6a44-4d50-81b9-204019f911d5",
   "metadata": {},
   "outputs": [],
   "source": [
    "FD_COV=${FD_RES}/A001_K562_WSTARRseq/coverage\n",
    "mkdir -p ${FD_COV}"
   ]
  },
  {
   "cell_type": "markdown",
   "id": "9f35de2b-8607-431c-943e-6e1a707aa58c",
   "metadata": {},
   "source": [
    "### Set region by Range"
   ]
  },
  {
   "cell_type": "code",
   "execution_count": 8,
   "id": "3e04216e-3033-4e45-af7c-cab9711a9c6b",
   "metadata": {},
   "outputs": [
    {
     "name": "stdout",
     "output_type": "stream",
     "text": [
      "chrX\t47786880\t49786530\n"
     ]
    }
   ],
   "source": [
    "START=47786880\n",
    "END=49786530\n",
    "CHROM=chrX\n",
    "\n",
    "FP_OUT=${FD_COV}/region_GATA1.bed\n",
    "cat /dev/null > ${FP_OUT}\n",
    "echo -e \"${CHROM}\\\\t${START}\\\\t${END}\" >> ${FP_OUT}\n",
    "cat ${FP_OUT}"
   ]
  },
  {
   "cell_type": "code",
   "execution_count": 9,
   "id": "e0a70405-4d85-4660-ba85-7d6fa005b608",
   "metadata": {},
   "outputs": [
    {
     "name": "stdout",
     "output_type": "stream",
     "text": [
      "chr8\t126735990\t128736150\n"
     ]
    }
   ],
   "source": [
    "START=126735990\n",
    "END=128736150\n",
    "CHROM=chr8\n",
    "\n",
    "FP_OUT=${FD_COV}/region_MYC.bed\n",
    "cat /dev/null > ${FP_OUT}\n",
    "echo -e \"${CHROM}\\\\t${START}\\\\t${END}\" >> ${FP_OUT}\n",
    "cat ${FP_OUT}"
   ]
  },
  {
   "cell_type": "markdown",
   "id": "589940ea-3b06-40ec-941f-609267d13580",
   "metadata": {},
   "source": [
    "### Set region per base"
   ]
  },
  {
   "cell_type": "code",
   "execution_count": 10,
   "id": "ef68939a-0743-4a0c-8623-670dc3548740",
   "metadata": {},
   "outputs": [],
   "source": [
    "START=47786880\n",
    "END=49786530\n",
    "CHROM=chrX\n",
    "\n",
    "FP_OUT=${FD_COV}/region_GATA1_perbase.bed\n",
    "cat /dev/null > ${FP_OUT}\n",
    "for LOC in $(seq ${START} ${END}); do\n",
    "    echo -e \"${CHROM}\\\\t${LOC}\\\\t$((${LOC} + 1))\" >> ${FP_OUT}\n",
    "done"
   ]
  },
  {
   "cell_type": "code",
   "execution_count": 11,
   "id": "8dea611b-e0c1-4da3-ad9d-3f6b1e6732cd",
   "metadata": {},
   "outputs": [],
   "source": [
    "START=126735990\n",
    "END=128736150\n",
    "CHROM=chr8\n",
    "\n",
    "FP_OUT=${FD_COV}/region_MYC_perbase.bed\n",
    "cat /dev/null > ${FP_OUT}\n",
    "for LOC in $(seq ${START} ${END}); do\n",
    "    echo -e \"${CHROM}\\\\t${LOC}\\\\t$((${LOC} + 1))\" >> ${FP_OUT}\n",
    "done"
   ]
  },
  {
   "cell_type": "markdown",
   "id": "7face824-9752-4122-87cb-332de9856f12",
   "metadata": {},
   "source": [
    "## TMPRA\n",
    "```\n",
    "TMPRA | GATA1 | chrX: 47,786,400- 49,786,750\n",
    "TMPRA | MYC   | chr8:126,735,900-128,736,250\n",
    "```"
   ]
  },
  {
   "cell_type": "code",
   "execution_count": 12,
   "id": "6c63bce1-1326-4aa1-9aae-2a73de58d56c",
   "metadata": {},
   "outputs": [],
   "source": [
    "FD_COV=${FD_RES}/Tewhey_K562_TileMPRA/coverage\n",
    "mkdir -p ${FD_COV}"
   ]
  },
  {
   "cell_type": "markdown",
   "id": "2a419a14-83f1-4991-b202-8c58643c23b0",
   "metadata": {},
   "source": [
    "### Set region per base"
   ]
  },
  {
   "cell_type": "code",
   "execution_count": 13,
   "id": "375e1769-1d6d-4e8a-887e-6760e1b8c81a",
   "metadata": {},
   "outputs": [],
   "source": [
    "START=47786400\n",
    "END=49786750\n",
    "CHROM=chrX\n",
    "\n",
    "FP_OUT=${FD_COV}/region_GATA1_perbase.bed\n",
    "cat /dev/null > ${FP_OUT}\n",
    "for LOC in $(seq ${START} ${END}); do\n",
    "    echo -e \"${CHROM}\\\\t${LOC}\\\\t$((${LOC} + 1))\" >> ${FP_OUT}\n",
    "done"
   ]
  },
  {
   "cell_type": "code",
   "execution_count": 14,
   "id": "1bd93315-bed8-4c5e-905b-87c7da04d256",
   "metadata": {},
   "outputs": [],
   "source": [
    "START=126735900\n",
    "END=128736250\n",
    "CHROM=chr8\n",
    "\n",
    "FP_OUT=${FD_COV}/region_MYC_perbase.bed\n",
    "cat /dev/null > ${FP_OUT}\n",
    "for LOC in $(seq ${START} ${END}); do\n",
    "    echo -e \"${CHROM}\\\\t${LOC}\\\\t$((${LOC} + 1))\" >> ${FP_OUT}\n",
    "done"
   ]
  },
  {
   "cell_type": "code",
   "execution_count": null,
   "id": "9bc07157-1ede-482b-9368-9da7da4cffac",
   "metadata": {},
   "outputs": [],
   "source": []
  },
  {
   "cell_type": "code",
   "execution_count": null,
   "id": "c0736118-0e61-466b-97e0-72994244006d",
   "metadata": {},
   "outputs": [],
   "source": []
  }
 ],
 "metadata": {
  "kernelspec": {
   "display_name": "Bash",
   "language": "bash",
   "name": "bash"
  },
  "language_info": {
   "codemirror_mode": "shell",
   "file_extension": ".sh",
   "mimetype": "text/x-sh",
   "name": "bash"
  }
 },
 "nbformat": 4,
 "nbformat_minor": 5
}
