{
 "cells": [
  {
   "cell_type": "markdown",
   "id": "caa5f164-a2cf-4c7a-89ff-e579c6aacf30",
   "metadata": {},
   "source": [
    "**Set environment**"
   ]
  },
  {
   "cell_type": "code",
   "execution_count": 1,
   "id": "02c58937",
   "metadata": {},
   "outputs": [
    {
     "name": "stdout",
     "output_type": "stream",
     "text": [
      "You are on Duke Server: HARDAC\n",
      "BASE DIRECTORY:     /gpfs/fs1/data/reddylab/Kuei\n",
      "PATH OF SOURCE:     /gpfs/fs1/data/reddylab/Kuei/source\n",
      "PATH OF EXECUTABLE: /gpfs/fs1/data/reddylab/Kuei/exe\n",
      "PATH OF ANNOTATION: /gpfs/fs1/data/reddylab/Kuei/annotation\n",
      "PATH OF PROJECT:    /gpfs/fs1/data/reddylab/Kuei/GitRepo/Proj_CombEffect_ENCODE_FCC/notebooks\n",
      "PATH OF RESULTS:    /gpfs/fs1/data/reddylab/Kuei/out/proj_combeffect_encode_fcc\n",
      "\n"
     ]
    }
   ],
   "source": [
    "source ../config/config_duke.sh\n",
    "show_env"
   ]
  },
  {
   "cell_type": "markdown",
   "id": "6b7d42a1-6e8a-49d2-a1a2-b82c42e9e545",
   "metadata": {},
   "source": [
    "## Sum up the score column in the bed file"
   ]
  },
  {
   "cell_type": "markdown",
   "id": "09917110-3d62-4e2d-89bf-cdfd3e06cabe",
   "metadata": {},
   "source": [
    "**TEST**"
   ]
  },
  {
   "cell_type": "code",
   "execution_count": 2,
   "id": "1e92ce75",
   "metadata": {},
   "outputs": [
    {
     "name": "stdout",
     "output_type": "stream",
     "text": [
      "/data/reddylab/Alex/encode4_duke/data/starr_seq/fragments/A001-input-K562-rep1.masked.dedup.fragments.counts.txt.gz\n",
      "++++++++++++++++++++++++\n",
      "A001-input-K562-rep1.masked.dedup.fragments.counts.txt.gz\n",
      "++++++++++++++++++++++++\n",
      "chr1\t10335\t10549\tchr1_10335_10549\t1\t.\n",
      "chr1\t16983\t17500\tchr1_16983_17500\t1\t.\n",
      "chr1\t16985\t17499\tchr1_16985_17499\t1\t.\n",
      "chr1\t17004\t17500\tchr1_17004_17500\t1\t.\n",
      "chr1\t17483\t17898\tchr1_17483_17898\t1\t.\n",
      "chr1\t17487\t17941\tchr1_17487_17941\t1\t.\n",
      "chr1\t33606\t33997\tchr1_33606_33997\t1\t.\n",
      "chr1\t33617\t33997\tchr1_33617_33997\t1\t.\n",
      "chr1\t38785\t39226\tchr1_38785_39226\t1\t.\n",
      "chr1\t46328\t46678\tchr1_46328_46678\t1\t.\n",
      "\n",
      "gzip: stdout: Broken pipe\n"
     ]
    }
   ],
   "source": [
    "FPATH=${FP_WGS_WSTARR[0]}\n",
    "FNAME=$(basename ${FPATH})\n",
    "echo ${FPATH}\n",
    "echo ++++++++++++++++++++++++\n",
    "echo ${FNAME}\n",
    "echo ++++++++++++++++++++++++\n",
    "zcat ${FPATH} | head -n 10"
   ]
  },
  {
   "cell_type": "code",
   "execution_count": 3,
   "id": "4616f78d-e6ba-4a29-91dc-f9b0165c95e8",
   "metadata": {},
   "outputs": [
    {
     "name": "stdout",
     "output_type": "stream",
     "text": [
      "A001-input-K562-rep1.masked.dedup.fragments.counts.txt.gz,10\n",
      "\n",
      "gzip: stdout: Broken pipe\n"
     ]
    }
   ],
   "source": [
    "zcat ${FPATH} | head -n 10 | awk -v OFS=, -v FNAME=${FNAME} '{sum += $5} END {print FNAME, sum}'"
   ]
  },
  {
   "cell_type": "code",
   "execution_count": 4,
   "id": "196c6b16-1638-4f60-b5e4-1f31680f8ec0",
   "metadata": {},
   "outputs": [
    {
     "name": "stdout",
     "output_type": "stream",
     "text": [
      "7\n"
     ]
    }
   ],
   "source": [
    "echo \"${#FP_WGS_WSTARR[@]}\""
   ]
  },
  {
   "cell_type": "markdown",
   "id": "54d3903e-973a-4c09-a2c8-e1deae09b5b1",
   "metadata": {},
   "source": [
    "**RUN**"
   ]
  },
  {
   "cell_type": "code",
   "execution_count": 5,
   "id": "5eb832fd-c0de-42ea-8548-73a0a27aa79f",
   "metadata": {},
   "outputs": [
    {
     "name": "stdout",
     "output_type": "stream",
     "text": [
      "Submitted batch job 29157595\n"
     ]
    }
   ],
   "source": [
    "sbatch -p ${NODE} \\\n",
    "    --exclude=dl-01 \\\n",
    "    --cpus-per-task 8 \\\n",
    "    --mem 20G \\\n",
    "    --output ${FD_LOG}/coverage_library_size_WSTARR.txt \\\n",
    "    --array 0 \\\n",
    "    <<'EOF'\n",
    "#!/bin/bash\n",
    "### set directories & global variables\n",
    "source ../config/config_duke.sh\n",
    "\n",
    "PREFIX=A001_K562_WSTARRseq\n",
    "FD_OUT=${FD_RES}/${PREFIX}/coverage/library_size\n",
    "FN_OUT=library_size.csv\n",
    "FP_OUT=${FD_OUT}/${FN_OUT}\n",
    "\n",
    "### print start message\n",
    "timer_start=`date +%s`\n",
    "echo \"Hostname:          \" $(hostname)\n",
    "echo \"Slurm Array Index: \" ${SLURM_ARRAY_TASK_ID}\n",
    "echo \"Time Stamp:        \" $(date +\"%m-%d-%y+%T\")\n",
    "echo\n",
    "\n",
    "### init\n",
    "mkdir -p ${FD_OUT}\n",
    "echo -n > ${FP_OUT}\n",
    "\n",
    "### get library size\n",
    "for FP_INP in ${FP_WGS_WSTARR[@]}; do\n",
    "    \n",
    "    ### show I/O file\n",
    "    echo ++++++++++++++++++++++++++++++++++++\n",
    "    echo \"Input file path: ${FP_INP}\"\n",
    "    echo \"Show the first few lines\"\n",
    "    zcat ${FP_INP} | head -n 3\n",
    "    echo\n",
    "    \n",
    "    ### sum up counts of each fragment\n",
    "    FN_INP=$(basename ${FP_INP})\n",
    "    zcat ${FP_INP} |\\\n",
    "        awk -v OFS=, -v FNAME=${FN_INP} '{sum += $5} END {print FNAME, sum}' \\\n",
    "        >> ${FP_OUT}\n",
    "done\n",
    "\n",
    "### show I/O file\n",
    "echo \"Output file path: ${FP_OUT}\"\n",
    "echo \"Show the first few lines\"\n",
    "cat ${FP_OUT}\n",
    "echo\n",
    "\n",
    "### print end message\n",
    "timer=`date +%s`\n",
    "runtime=$(echo \"${timer} - ${timer_start}\" | bc -l)\n",
    "echo\n",
    "echo 'Done!'\n",
    "echo \"Run Time: $(displaytime ${runtime})\"\n",
    "\n",
    "EOF"
   ]
  },
  {
   "cell_type": "markdown",
   "id": "bb4a101a-0b5a-440b-ad88-2d3b2356d758",
   "metadata": {},
   "source": [
    "**CHECK**"
   ]
  },
  {
   "cell_type": "code",
   "execution_count": 7,
   "id": "f62a4871-5d87-446e-8fa1-6ccd3b293c06",
   "metadata": {},
   "outputs": [
    {
     "name": "stdout",
     "output_type": "stream",
     "text": [
      "Hostname:           x1-01-3.genome.duke.edu\n",
      "Slurm Array Index:  0\n",
      "Time Stamp:         10-16-22+12:44:20\n",
      "\n",
      "++++++++++++++++++++++++++++++++++++\n",
      "Input file path: /data/reddylab/Alex/encode4_duke/data/starr_seq/fragments/A001-input-K562-rep1.masked.dedup.fragments.counts.txt.gz\n",
      "Show the first few lines\n",
      "chr1\t10335\t10549\tchr1_10335_10549\t1\t.\n",
      "chr1\t16983\t17500\tchr1_16983_17500\t1\t.\n",
      "chr1\t16985\t17499\tchr1_16985_17499\t1\t.\n",
      "\n",
      "++++++++++++++++++++++++++++++++++++\n",
      "Input file path: /data/reddylab/Alex/encode4_duke/data/starr_seq/fragments/A001-input-K562-rep2.masked.dedup.fragments.counts.txt.gz\n",
      "Show the first few lines\n",
      "chr1\t10244\t10370\tchr1_10244_10370\t1\t.\n",
      "chr1\t14494\t14961\tchr1_14494_14961\t1\t.\n",
      "chr1\t15593\t16258\tchr1_15593_16258\t1\t.\n",
      "\n",
      "++++++++++++++++++++++++++++++++++++\n",
      "Input file path: /data/reddylab/Alex/encode4_duke/data/starr_seq/fragments/A001-input-K562-rep3.masked.dedup.fragments.counts.txt.gz\n",
      "Show the first few lines\n",
      "chr1\t10247\t10299\tchr1_10247_10299\t1\t.\n",
      "chr1\t14684\t15184\tchr1_14684_15184\t1\t.\n",
      "chr1\t14690\t15158\tchr1_14690_15158\t1\t.\n",
      "\n",
      "++++++++++++++++++++++++++++++++++++\n",
      "Input file path: /data/reddylab/Alex/encode4_duke/data/starr_seq/fragments/A001-input-K562-rep4.masked.dedup.fragments.counts.txt.gz\n",
      "Show the first few lines\n",
      "chr1\t10086\t10542\tchr1_10086_10542\t1\t.\n",
      "chr1\t14845\t15207\tchr1_14845_15207\t1\t.\n",
      "chr1\t15520\t15834\tchr1_15520_15834\t1\t.\n",
      "\n",
      "++++++++++++++++++++++++++++++++++++\n",
      "Input file path: /data/reddylab/Alex/encode4_duke/data/starr_seq/fragments/A001-K562-rep1.masked.dedup.fragments.counts.txt.gz\n",
      "Show the first few lines\n",
      "chr1\t14845\t15207\tchr1_14845_15207\t1\t.\n",
      "chr1\t15512\t16248\tchr1_15512_16248\t1\t.\n",
      "chr1\t15652\t16254\tchr1_15652_16254\t1\t.\n",
      "\n",
      "++++++++++++++++++++++++++++++++++++\n",
      "Input file path: /data/reddylab/Alex/encode4_duke/data/starr_seq/fragments/A001-K562-rep2.masked.dedup.fragments.counts.txt.gz\n",
      "Show the first few lines\n",
      "chr1\t14510\t14960\tchr1_14510_14960\t1\t.\n",
      "chr1\t14684\t15162\tchr1_14684_15162\t1\t.\n",
      "chr1\t14688\t15199\tchr1_14688_15199\t1\t.\n",
      "\n",
      "++++++++++++++++++++++++++++++++++++\n",
      "Input file path: /data/reddylab/Alex/encode4_duke/data/starr_seq/fragments/A001-K562-rep3.masked.dedup.fragments.counts.txt.gz\n",
      "Show the first few lines\n",
      "chr1\t10537\t11067\tchr1_10537_11067\t1\t.\n",
      "chr1\t14408\t14799\tchr1_14408_14799\t1\t.\n",
      "chr1\t14498\t14937\tchr1_14498_14937\t1\t.\n",
      "\n",
      "Output file path: /gpfs/fs1/data/reddylab/Kuei/out/proj_combeffect_encode_fcc/A001_K562_WSTARRseq/coverage/library_size/library_size.csv\n",
      "Show the first few lines\n",
      "A001-input-K562-rep1.masked.dedup.fragments.counts.txt.gz,26908970\n",
      "A001-input-K562-rep2.masked.dedup.fragments.counts.txt.gz,99899775\n",
      "A001-input-K562-rep3.masked.dedup.fragments.counts.txt.gz,105623984\n",
      "A001-input-K562-rep4.masked.dedup.fragments.counts.txt.gz,108635002\n",
      "A001-K562-rep1.masked.dedup.fragments.counts.txt.gz,160349140\n",
      "A001-K562-rep2.masked.dedup.fragments.counts.txt.gz,157326312\n",
      "A001-K562-rep3.masked.dedup.fragments.counts.txt.gz,328185275\n",
      "\n",
      "\n",
      "Done!\n",
      "Run Time: 5 minutes and 32 seconds\n"
     ]
    }
   ],
   "source": [
    "cat ${FD_LOG}/coverage_library_size_WSTARR.txt"
   ]
  },
  {
   "cell_type": "code",
   "execution_count": null,
   "id": "6d976c2c-2e1e-4439-874f-0210b2e6ce3d",
   "metadata": {},
   "outputs": [],
   "source": []
  }
 ],
 "metadata": {
  "kernelspec": {
   "display_name": "Bash",
   "language": "bash",
   "name": "bash"
  },
  "language_info": {
   "codemirror_mode": "shell",
   "file_extension": ".sh",
   "mimetype": "text/x-sh",
   "name": "bash"
  }
 },
 "nbformat": 4,
 "nbformat_minor": 5
}
