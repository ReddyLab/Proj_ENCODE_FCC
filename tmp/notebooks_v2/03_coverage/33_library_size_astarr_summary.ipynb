{
 "cells": [
  {
   "cell_type": "markdown",
   "id": "bcea19a5",
   "metadata": {},
   "source": [
    "**Set environment**"
   ]
  },
  {
   "cell_type": "code",
   "execution_count": 1,
   "id": "71913011",
   "metadata": {},
   "outputs": [
    {
     "name": "stdout",
     "output_type": "stream",
     "text": [
      "You are in Singularity: singularity_proj_combeffect \n",
      "BASE DIRECTORY:     /mount/work \n",
      "PATH OF SOURCE:     /mount/work/source \n",
      "PATH OF EXECUTABLE: /mount/work/exe \n",
      "PATH OF ANNOTATION: /mount/work/annotation \n",
      "PATH OF PROJECT:    /mount/project \n",
      "PATH OF RESULTS:    /mount/work/out/proj_combeffect_encode_fcc \n"
     ]
    }
   ],
   "source": [
    "suppressWarnings(suppressMessages(source(\"../config/config_sing.R\")))\n",
    "show_env()"
   ]
  },
  {
   "cell_type": "markdown",
   "id": "84d0c3c8",
   "metadata": {},
   "source": [
    "**Check data**"
   ]
  },
  {
   "cell_type": "code",
   "execution_count": 2,
   "id": "8e42dee2",
   "metadata": {},
   "outputs": [
    {
     "data": {
      "text/html": [
       "<style>\n",
       ".list-inline {list-style: none; margin:0; padding: 0}\n",
       ".list-inline>li {display: inline-block}\n",
       ".list-inline>li:not(:last-child)::after {content: \"\\00b7\"; padding: 0 .5ex}\n",
       "</style>\n",
       "<ol class=list-inline><li>'A001_K562_WSTARRseq'</li><li>'KS91_K562_ASTARRseq'</li><li>'log'</li><li>'Readme.md'</li><li>'region'</li><li>'source'</li><li>'Tewhey_K562_TileMPRA'</li><li>'tmp221007'</li></ol>\n"
      ],
      "text/latex": [
       "\\begin{enumerate*}\n",
       "\\item 'A001\\_K562\\_WSTARRseq'\n",
       "\\item 'KS91\\_K562\\_ASTARRseq'\n",
       "\\item 'log'\n",
       "\\item 'Readme.md'\n",
       "\\item 'region'\n",
       "\\item 'source'\n",
       "\\item 'Tewhey\\_K562\\_TileMPRA'\n",
       "\\item 'tmp221007'\n",
       "\\end{enumerate*}\n"
      ],
      "text/markdown": [
       "1. 'A001_K562_WSTARRseq'\n",
       "2. 'KS91_K562_ASTARRseq'\n",
       "3. 'log'\n",
       "4. 'Readme.md'\n",
       "5. 'region'\n",
       "6. 'source'\n",
       "7. 'Tewhey_K562_TileMPRA'\n",
       "8. 'tmp221007'\n",
       "\n",
       "\n"
      ],
      "text/plain": [
       "[1] \"A001_K562_WSTARRseq\"  \"KS91_K562_ASTARRseq\"  \"log\"                 \n",
       "[4] \"Readme.md\"            \"region\"               \"source\"              \n",
       "[7] \"Tewhey_K562_TileMPRA\" \"tmp221007\"           "
      ]
     },
     "metadata": {},
     "output_type": "display_data"
    }
   ],
   "source": [
    "dir(FD_RES)"
   ]
  },
  {
   "cell_type": "code",
   "execution_count": 3,
   "id": "86514770",
   "metadata": {},
   "outputs": [
    {
     "data": {
      "text/html": [
       "<style>\n",
       ".list-inline {list-style: none; margin:0; padding: 0}\n",
       ".list-inline>li {display: inline-block}\n",
       ".list-inline>li:not(:last-child)::after {content: \"\\00b7\"; padding: 0 .5ex}\n",
       "</style>\n",
       "<ol class=list-inline><li>'library_size_input.csv'</li><li>'library_size_output.csv'</li><li>'library_size_summary.csv'</li><li>'region_total_counts.csv'</li></ol>\n"
      ],
      "text/latex": [
       "\\begin{enumerate*}\n",
       "\\item 'library\\_size\\_input.csv'\n",
       "\\item 'library\\_size\\_output.csv'\n",
       "\\item 'library\\_size\\_summary.csv'\n",
       "\\item 'region\\_total\\_counts.csv'\n",
       "\\end{enumerate*}\n"
      ],
      "text/markdown": [
       "1. 'library_size_input.csv'\n",
       "2. 'library_size_output.csv'\n",
       "3. 'library_size_summary.csv'\n",
       "4. 'region_total_counts.csv'\n",
       "\n",
       "\n"
      ],
      "text/plain": [
       "[1] \"library_size_input.csv\"   \"library_size_output.csv\" \n",
       "[3] \"library_size_summary.csv\" \"region_total_counts.csv\" "
      ]
     },
     "metadata": {},
     "output_type": "display_data"
    }
   ],
   "source": [
    "prefix = \"KS91_K562_ASTARRseq\"\n",
    "fdiry  = file.path(FD_RES, prefix, \"coverage\", \"library_size\")\n",
    "dir(fdiry)"
   ]
  },
  {
   "cell_type": "markdown",
   "id": "8ba2bc8e",
   "metadata": {},
   "source": [
    "## Import library size counts"
   ]
  },
  {
   "cell_type": "code",
   "execution_count": 4,
   "id": "438a3731",
   "metadata": {},
   "outputs": [
    {
     "data": {
      "text/html": [
       "<table class=\"dataframe\">\n",
       "<caption>A spec_tbl_df: 6 × 2</caption>\n",
       "<thead>\n",
       "\t<tr><th scope=col>Fpath</th><th scope=col>Count</th></tr>\n",
       "\t<tr><th scope=col>&lt;chr&gt;</th><th scope=col>&lt;dbl&gt;</th></tr>\n",
       "</thead>\n",
       "<tbody>\n",
       "\t<tr><td>KS91_K562_hg38_ASTARRseq_Input_rep1.masked.dedup.fragments.counts.txt.gz</td><td>348695063</td></tr>\n",
       "\t<tr><td>KS91_K562_hg38_ASTARRseq_Input_rep2.masked.dedup.fragments.counts.txt.gz</td><td>451369741</td></tr>\n",
       "\t<tr><td>KS91_K562_hg38_ASTARRseq_Input_rep3.masked.dedup.fragments.counts.txt.gz</td><td>487579055</td></tr>\n",
       "\t<tr><td>KS91_K562_hg38_ASTARRseq_Input_rep4.masked.dedup.fragments.counts.txt.gz</td><td>456246254</td></tr>\n",
       "\t<tr><td>KS91_K562_hg38_ASTARRseq_Input_rep5.masked.dedup.fragments.counts.txt.gz</td><td>444268950</td></tr>\n",
       "\t<tr><td>KS91_K562_hg38_ASTARRseq_Input_rep6.masked.dedup.fragments.counts.txt.gz</td><td>397333562</td></tr>\n",
       "</tbody>\n",
       "</table>\n"
      ],
      "text/latex": [
       "A spec\\_tbl\\_df: 6 × 2\n",
       "\\begin{tabular}{ll}\n",
       " Fpath & Count\\\\\n",
       " <chr> & <dbl>\\\\\n",
       "\\hline\n",
       "\t KS91\\_K562\\_hg38\\_ASTARRseq\\_Input\\_rep1.masked.dedup.fragments.counts.txt.gz & 348695063\\\\\n",
       "\t KS91\\_K562\\_hg38\\_ASTARRseq\\_Input\\_rep2.masked.dedup.fragments.counts.txt.gz & 451369741\\\\\n",
       "\t KS91\\_K562\\_hg38\\_ASTARRseq\\_Input\\_rep3.masked.dedup.fragments.counts.txt.gz & 487579055\\\\\n",
       "\t KS91\\_K562\\_hg38\\_ASTARRseq\\_Input\\_rep4.masked.dedup.fragments.counts.txt.gz & 456246254\\\\\n",
       "\t KS91\\_K562\\_hg38\\_ASTARRseq\\_Input\\_rep5.masked.dedup.fragments.counts.txt.gz & 444268950\\\\\n",
       "\t KS91\\_K562\\_hg38\\_ASTARRseq\\_Input\\_rep6.masked.dedup.fragments.counts.txt.gz & 397333562\\\\\n",
       "\\end{tabular}\n"
      ],
      "text/markdown": [
       "\n",
       "A spec_tbl_df: 6 × 2\n",
       "\n",
       "| Fpath &lt;chr&gt; | Count &lt;dbl&gt; |\n",
       "|---|---|\n",
       "| KS91_K562_hg38_ASTARRseq_Input_rep1.masked.dedup.fragments.counts.txt.gz | 348695063 |\n",
       "| KS91_K562_hg38_ASTARRseq_Input_rep2.masked.dedup.fragments.counts.txt.gz | 451369741 |\n",
       "| KS91_K562_hg38_ASTARRseq_Input_rep3.masked.dedup.fragments.counts.txt.gz | 487579055 |\n",
       "| KS91_K562_hg38_ASTARRseq_Input_rep4.masked.dedup.fragments.counts.txt.gz | 456246254 |\n",
       "| KS91_K562_hg38_ASTARRseq_Input_rep5.masked.dedup.fragments.counts.txt.gz | 444268950 |\n",
       "| KS91_K562_hg38_ASTARRseq_Input_rep6.masked.dedup.fragments.counts.txt.gz | 397333562 |\n",
       "\n"
      ],
      "text/plain": [
       "  Fpath                                                                   \n",
       "1 KS91_K562_hg38_ASTARRseq_Input_rep1.masked.dedup.fragments.counts.txt.gz\n",
       "2 KS91_K562_hg38_ASTARRseq_Input_rep2.masked.dedup.fragments.counts.txt.gz\n",
       "3 KS91_K562_hg38_ASTARRseq_Input_rep3.masked.dedup.fragments.counts.txt.gz\n",
       "4 KS91_K562_hg38_ASTARRseq_Input_rep4.masked.dedup.fragments.counts.txt.gz\n",
       "5 KS91_K562_hg38_ASTARRseq_Input_rep5.masked.dedup.fragments.counts.txt.gz\n",
       "6 KS91_K562_hg38_ASTARRseq_Input_rep6.masked.dedup.fragments.counts.txt.gz\n",
       "  Count    \n",
       "1 348695063\n",
       "2 451369741\n",
       "3 487579055\n",
       "4 456246254\n",
       "5 444268950\n",
       "6 397333562"
      ]
     },
     "metadata": {},
     "output_type": "display_data"
    }
   ],
   "source": [
    "### file directory\n",
    "fdiry = file.path(FD_RES, prefix, \"coverage\", \"library_size\")\n",
    "fname = \"library_size_input.csv\"\n",
    "fpath = file.path(fdiry, fname)\n",
    "\n",
    "### set columns\n",
    "cnames = c(\"Fpath\", \"Count\")\n",
    "\n",
    "### import data\n",
    "dat_lib_inp = read_csv(fpath, col_names = cnames, show_col_types = FALSE)\n",
    "dat_lib_inp"
   ]
  },
  {
   "cell_type": "code",
   "execution_count": 5,
   "id": "ada5868b",
   "metadata": {},
   "outputs": [
    {
     "data": {
      "text/html": [
       "<table class=\"dataframe\">\n",
       "<caption>A spec_tbl_df: 4 × 2</caption>\n",
       "<thead>\n",
       "\t<tr><th scope=col>Fpath</th><th scope=col>Count</th></tr>\n",
       "\t<tr><th scope=col>&lt;chr&gt;</th><th scope=col>&lt;dbl&gt;</th></tr>\n",
       "</thead>\n",
       "<tbody>\n",
       "\t<tr><td>KS91_K562_hg38_ASTARRseq_Output_rep1.f3q10.fragments.counts.txt.gz</td><td> 44103844</td></tr>\n",
       "\t<tr><td>KS91_K562_hg38_ASTARRseq_Output_rep2.f3q10.fragments.counts.txt.gz</td><td> 97471282</td></tr>\n",
       "\t<tr><td>KS91_K562_hg38_ASTARRseq_Output_rep3.f3q10.fragments.counts.txt.gz</td><td> 84103298</td></tr>\n",
       "\t<tr><td>KS91_K562_hg38_ASTARRseq_Output_rep4.f3q10.fragments.counts.txt.gz</td><td>183115379</td></tr>\n",
       "</tbody>\n",
       "</table>\n"
      ],
      "text/latex": [
       "A spec\\_tbl\\_df: 4 × 2\n",
       "\\begin{tabular}{ll}\n",
       " Fpath & Count\\\\\n",
       " <chr> & <dbl>\\\\\n",
       "\\hline\n",
       "\t KS91\\_K562\\_hg38\\_ASTARRseq\\_Output\\_rep1.f3q10.fragments.counts.txt.gz &  44103844\\\\\n",
       "\t KS91\\_K562\\_hg38\\_ASTARRseq\\_Output\\_rep2.f3q10.fragments.counts.txt.gz &  97471282\\\\\n",
       "\t KS91\\_K562\\_hg38\\_ASTARRseq\\_Output\\_rep3.f3q10.fragments.counts.txt.gz &  84103298\\\\\n",
       "\t KS91\\_K562\\_hg38\\_ASTARRseq\\_Output\\_rep4.f3q10.fragments.counts.txt.gz & 183115379\\\\\n",
       "\\end{tabular}\n"
      ],
      "text/markdown": [
       "\n",
       "A spec_tbl_df: 4 × 2\n",
       "\n",
       "| Fpath &lt;chr&gt; | Count &lt;dbl&gt; |\n",
       "|---|---|\n",
       "| KS91_K562_hg38_ASTARRseq_Output_rep1.f3q10.fragments.counts.txt.gz |  44103844 |\n",
       "| KS91_K562_hg38_ASTARRseq_Output_rep2.f3q10.fragments.counts.txt.gz |  97471282 |\n",
       "| KS91_K562_hg38_ASTARRseq_Output_rep3.f3q10.fragments.counts.txt.gz |  84103298 |\n",
       "| KS91_K562_hg38_ASTARRseq_Output_rep4.f3q10.fragments.counts.txt.gz | 183115379 |\n",
       "\n"
      ],
      "text/plain": [
       "  Fpath                                                              Count    \n",
       "1 KS91_K562_hg38_ASTARRseq_Output_rep1.f3q10.fragments.counts.txt.gz  44103844\n",
       "2 KS91_K562_hg38_ASTARRseq_Output_rep2.f3q10.fragments.counts.txt.gz  97471282\n",
       "3 KS91_K562_hg38_ASTARRseq_Output_rep3.f3q10.fragments.counts.txt.gz  84103298\n",
       "4 KS91_K562_hg38_ASTARRseq_Output_rep4.f3q10.fragments.counts.txt.gz 183115379"
      ]
     },
     "metadata": {},
     "output_type": "display_data"
    }
   ],
   "source": [
    "### file directory\n",
    "fdiry = file.path(FD_RES, prefix, \"coverage\", \"library_size\")\n",
    "fname = \"library_size_output.csv\"\n",
    "fpath = file.path(fdiry, fname)\n",
    "\n",
    "### set columns\n",
    "cnames = c(\"Fpath\", \"Count\")\n",
    "\n",
    "### import data\n",
    "dat_lib_out = read_csv(fpath, col_names = cnames, show_col_types = FALSE)\n",
    "dat_lib_out"
   ]
  },
  {
   "cell_type": "markdown",
   "id": "d8c8250d",
   "metadata": {},
   "source": [
    "## Summarize the information and save the tables"
   ]
  },
  {
   "cell_type": "code",
   "execution_count": 6,
   "id": "856258f7",
   "metadata": {},
   "outputs": [
    {
     "data": {
      "text/html": [
       "<table class=\"dataframe\">\n",
       "<caption>A spec_tbl_df: 6 × 5</caption>\n",
       "<thead>\n",
       "\t<tr><th scope=col>Fpath</th><th scope=col>Count</th><th scope=col>Sample</th><th scope=col>Group</th><th scope=col>Rep</th></tr>\n",
       "\t<tr><th scope=col>&lt;chr&gt;</th><th scope=col>&lt;dbl&gt;</th><th scope=col>&lt;chr&gt;</th><th scope=col>&lt;chr&gt;</th><th scope=col>&lt;chr&gt;</th></tr>\n",
       "</thead>\n",
       "<tbody>\n",
       "\t<tr><td>KS91_K562_hg38_ASTARRseq_Input_rep1.masked.dedup.fragments.counts.txt.gz</td><td>348695063</td><td>Input_rep1</td><td>Input</td><td>rep1</td></tr>\n",
       "\t<tr><td>KS91_K562_hg38_ASTARRseq_Input_rep2.masked.dedup.fragments.counts.txt.gz</td><td>451369741</td><td>Input_rep2</td><td>Input</td><td>rep2</td></tr>\n",
       "\t<tr><td>KS91_K562_hg38_ASTARRseq_Input_rep3.masked.dedup.fragments.counts.txt.gz</td><td>487579055</td><td>Input_rep3</td><td>Input</td><td>rep3</td></tr>\n",
       "\t<tr><td>KS91_K562_hg38_ASTARRseq_Input_rep4.masked.dedup.fragments.counts.txt.gz</td><td>456246254</td><td>Input_rep4</td><td>Input</td><td>rep4</td></tr>\n",
       "\t<tr><td>KS91_K562_hg38_ASTARRseq_Input_rep5.masked.dedup.fragments.counts.txt.gz</td><td>444268950</td><td>Input_rep5</td><td>Input</td><td>rep5</td></tr>\n",
       "\t<tr><td>KS91_K562_hg38_ASTARRseq_Input_rep6.masked.dedup.fragments.counts.txt.gz</td><td>397333562</td><td>Input_rep6</td><td>Input</td><td>rep6</td></tr>\n",
       "</tbody>\n",
       "</table>\n"
      ],
      "text/latex": [
       "A spec\\_tbl\\_df: 6 × 5\n",
       "\\begin{tabular}{lllll}\n",
       " Fpath & Count & Sample & Group & Rep\\\\\n",
       " <chr> & <dbl> & <chr> & <chr> & <chr>\\\\\n",
       "\\hline\n",
       "\t KS91\\_K562\\_hg38\\_ASTARRseq\\_Input\\_rep1.masked.dedup.fragments.counts.txt.gz & 348695063 & Input\\_rep1 & Input & rep1\\\\\n",
       "\t KS91\\_K562\\_hg38\\_ASTARRseq\\_Input\\_rep2.masked.dedup.fragments.counts.txt.gz & 451369741 & Input\\_rep2 & Input & rep2\\\\\n",
       "\t KS91\\_K562\\_hg38\\_ASTARRseq\\_Input\\_rep3.masked.dedup.fragments.counts.txt.gz & 487579055 & Input\\_rep3 & Input & rep3\\\\\n",
       "\t KS91\\_K562\\_hg38\\_ASTARRseq\\_Input\\_rep4.masked.dedup.fragments.counts.txt.gz & 456246254 & Input\\_rep4 & Input & rep4\\\\\n",
       "\t KS91\\_K562\\_hg38\\_ASTARRseq\\_Input\\_rep5.masked.dedup.fragments.counts.txt.gz & 444268950 & Input\\_rep5 & Input & rep5\\\\\n",
       "\t KS91\\_K562\\_hg38\\_ASTARRseq\\_Input\\_rep6.masked.dedup.fragments.counts.txt.gz & 397333562 & Input\\_rep6 & Input & rep6\\\\\n",
       "\\end{tabular}\n"
      ],
      "text/markdown": [
       "\n",
       "A spec_tbl_df: 6 × 5\n",
       "\n",
       "| Fpath &lt;chr&gt; | Count &lt;dbl&gt; | Sample &lt;chr&gt; | Group &lt;chr&gt; | Rep &lt;chr&gt; |\n",
       "|---|---|---|---|---|\n",
       "| KS91_K562_hg38_ASTARRseq_Input_rep1.masked.dedup.fragments.counts.txt.gz | 348695063 | Input_rep1 | Input | rep1 |\n",
       "| KS91_K562_hg38_ASTARRseq_Input_rep2.masked.dedup.fragments.counts.txt.gz | 451369741 | Input_rep2 | Input | rep2 |\n",
       "| KS91_K562_hg38_ASTARRseq_Input_rep3.masked.dedup.fragments.counts.txt.gz | 487579055 | Input_rep3 | Input | rep3 |\n",
       "| KS91_K562_hg38_ASTARRseq_Input_rep4.masked.dedup.fragments.counts.txt.gz | 456246254 | Input_rep4 | Input | rep4 |\n",
       "| KS91_K562_hg38_ASTARRseq_Input_rep5.masked.dedup.fragments.counts.txt.gz | 444268950 | Input_rep5 | Input | rep5 |\n",
       "| KS91_K562_hg38_ASTARRseq_Input_rep6.masked.dedup.fragments.counts.txt.gz | 397333562 | Input_rep6 | Input | rep6 |\n",
       "\n"
      ],
      "text/plain": [
       "  Fpath                                                                   \n",
       "1 KS91_K562_hg38_ASTARRseq_Input_rep1.masked.dedup.fragments.counts.txt.gz\n",
       "2 KS91_K562_hg38_ASTARRseq_Input_rep2.masked.dedup.fragments.counts.txt.gz\n",
       "3 KS91_K562_hg38_ASTARRseq_Input_rep3.masked.dedup.fragments.counts.txt.gz\n",
       "4 KS91_K562_hg38_ASTARRseq_Input_rep4.masked.dedup.fragments.counts.txt.gz\n",
       "5 KS91_K562_hg38_ASTARRseq_Input_rep5.masked.dedup.fragments.counts.txt.gz\n",
       "6 KS91_K562_hg38_ASTARRseq_Input_rep6.masked.dedup.fragments.counts.txt.gz\n",
       "  Count     Sample     Group Rep \n",
       "1 348695063 Input_rep1 Input rep1\n",
       "2 451369741 Input_rep2 Input rep2\n",
       "3 487579055 Input_rep3 Input rep3\n",
       "4 456246254 Input_rep4 Input rep4\n",
       "5 444268950 Input_rep5 Input rep5\n",
       "6 397333562 Input_rep6 Input rep6"
      ]
     },
     "metadata": {},
     "output_type": "display_data"
    }
   ],
   "source": [
    "dat_inp = dat_lib_inp\n",
    "dat_inp$Sample = paste0(\"Input_rep\", 1:6)\n",
    "dat_inp$Group  = \"Input\"\n",
    "dat_inp$Rep    = paste0(\"rep\", 1:6)\n",
    "dat_inp"
   ]
  },
  {
   "cell_type": "code",
   "execution_count": 7,
   "id": "798b9791",
   "metadata": {},
   "outputs": [
    {
     "data": {
      "text/html": [
       "<table class=\"dataframe\">\n",
       "<caption>A spec_tbl_df: 4 × 5</caption>\n",
       "<thead>\n",
       "\t<tr><th scope=col>Fpath</th><th scope=col>Count</th><th scope=col>Sample</th><th scope=col>Group</th><th scope=col>Rep</th></tr>\n",
       "\t<tr><th scope=col>&lt;chr&gt;</th><th scope=col>&lt;dbl&gt;</th><th scope=col>&lt;chr&gt;</th><th scope=col>&lt;chr&gt;</th><th scope=col>&lt;chr&gt;</th></tr>\n",
       "</thead>\n",
       "<tbody>\n",
       "\t<tr><td>KS91_K562_hg38_ASTARRseq_Output_rep1.f3q10.fragments.counts.txt.gz</td><td> 44103844</td><td>Output_rep1</td><td>Output</td><td>rep1</td></tr>\n",
       "\t<tr><td>KS91_K562_hg38_ASTARRseq_Output_rep2.f3q10.fragments.counts.txt.gz</td><td> 97471282</td><td>Output_rep2</td><td>Output</td><td>rep2</td></tr>\n",
       "\t<tr><td>KS91_K562_hg38_ASTARRseq_Output_rep3.f3q10.fragments.counts.txt.gz</td><td> 84103298</td><td>Output_rep3</td><td>Output</td><td>rep3</td></tr>\n",
       "\t<tr><td>KS91_K562_hg38_ASTARRseq_Output_rep4.f3q10.fragments.counts.txt.gz</td><td>183115379</td><td>Output_rep4</td><td>Output</td><td>rep4</td></tr>\n",
       "</tbody>\n",
       "</table>\n"
      ],
      "text/latex": [
       "A spec\\_tbl\\_df: 4 × 5\n",
       "\\begin{tabular}{lllll}\n",
       " Fpath & Count & Sample & Group & Rep\\\\\n",
       " <chr> & <dbl> & <chr> & <chr> & <chr>\\\\\n",
       "\\hline\n",
       "\t KS91\\_K562\\_hg38\\_ASTARRseq\\_Output\\_rep1.f3q10.fragments.counts.txt.gz &  44103844 & Output\\_rep1 & Output & rep1\\\\\n",
       "\t KS91\\_K562\\_hg38\\_ASTARRseq\\_Output\\_rep2.f3q10.fragments.counts.txt.gz &  97471282 & Output\\_rep2 & Output & rep2\\\\\n",
       "\t KS91\\_K562\\_hg38\\_ASTARRseq\\_Output\\_rep3.f3q10.fragments.counts.txt.gz &  84103298 & Output\\_rep3 & Output & rep3\\\\\n",
       "\t KS91\\_K562\\_hg38\\_ASTARRseq\\_Output\\_rep4.f3q10.fragments.counts.txt.gz & 183115379 & Output\\_rep4 & Output & rep4\\\\\n",
       "\\end{tabular}\n"
      ],
      "text/markdown": [
       "\n",
       "A spec_tbl_df: 4 × 5\n",
       "\n",
       "| Fpath &lt;chr&gt; | Count &lt;dbl&gt; | Sample &lt;chr&gt; | Group &lt;chr&gt; | Rep &lt;chr&gt; |\n",
       "|---|---|---|---|---|\n",
       "| KS91_K562_hg38_ASTARRseq_Output_rep1.f3q10.fragments.counts.txt.gz |  44103844 | Output_rep1 | Output | rep1 |\n",
       "| KS91_K562_hg38_ASTARRseq_Output_rep2.f3q10.fragments.counts.txt.gz |  97471282 | Output_rep2 | Output | rep2 |\n",
       "| KS91_K562_hg38_ASTARRseq_Output_rep3.f3q10.fragments.counts.txt.gz |  84103298 | Output_rep3 | Output | rep3 |\n",
       "| KS91_K562_hg38_ASTARRseq_Output_rep4.f3q10.fragments.counts.txt.gz | 183115379 | Output_rep4 | Output | rep4 |\n",
       "\n"
      ],
      "text/plain": [
       "  Fpath                                                              Count    \n",
       "1 KS91_K562_hg38_ASTARRseq_Output_rep1.f3q10.fragments.counts.txt.gz  44103844\n",
       "2 KS91_K562_hg38_ASTARRseq_Output_rep2.f3q10.fragments.counts.txt.gz  97471282\n",
       "3 KS91_K562_hg38_ASTARRseq_Output_rep3.f3q10.fragments.counts.txt.gz  84103298\n",
       "4 KS91_K562_hg38_ASTARRseq_Output_rep4.f3q10.fragments.counts.txt.gz 183115379\n",
       "  Sample      Group  Rep \n",
       "1 Output_rep1 Output rep1\n",
       "2 Output_rep2 Output rep2\n",
       "3 Output_rep3 Output rep3\n",
       "4 Output_rep4 Output rep4"
      ]
     },
     "metadata": {},
     "output_type": "display_data"
    }
   ],
   "source": [
    "dat_out = dat_lib_out\n",
    "dat_out$Sample = paste0(\"Output_rep\", 1:4)\n",
    "dat_out$Group  = \"Output\"\n",
    "dat_out$Rep    = paste0(\"rep\", 1:4)\n",
    "dat_out"
   ]
  },
  {
   "cell_type": "markdown",
   "id": "4e9e153a",
   "metadata": {},
   "source": [
    "**Combine the results**"
   ]
  },
  {
   "cell_type": "code",
   "execution_count": 10,
   "id": "b9de5e59",
   "metadata": {},
   "outputs": [
    {
     "data": {
      "text/html": [
       "<table class=\"dataframe\">\n",
       "<caption>A tibble: 10 × 5</caption>\n",
       "<thead>\n",
       "\t<tr><th scope=col>Sample</th><th scope=col>Group</th><th scope=col>Rep</th><th scope=col>Count</th><th scope=col>Fpath</th></tr>\n",
       "\t<tr><th scope=col>&lt;chr&gt;</th><th scope=col>&lt;chr&gt;</th><th scope=col>&lt;chr&gt;</th><th scope=col>&lt;dbl&gt;</th><th scope=col>&lt;chr&gt;</th></tr>\n",
       "</thead>\n",
       "<tbody>\n",
       "\t<tr><td>Input_rep1 </td><td>Input </td><td>rep1</td><td>348695063</td><td>KS91_K562_hg38_ASTARRseq_Input_rep1.masked.dedup.fragments.counts.txt.gz</td></tr>\n",
       "\t<tr><td>Input_rep2 </td><td>Input </td><td>rep2</td><td>451369741</td><td>KS91_K562_hg38_ASTARRseq_Input_rep2.masked.dedup.fragments.counts.txt.gz</td></tr>\n",
       "\t<tr><td>Input_rep3 </td><td>Input </td><td>rep3</td><td>487579055</td><td>KS91_K562_hg38_ASTARRseq_Input_rep3.masked.dedup.fragments.counts.txt.gz</td></tr>\n",
       "\t<tr><td>Input_rep4 </td><td>Input </td><td>rep4</td><td>456246254</td><td>KS91_K562_hg38_ASTARRseq_Input_rep4.masked.dedup.fragments.counts.txt.gz</td></tr>\n",
       "\t<tr><td>Input_rep5 </td><td>Input </td><td>rep5</td><td>444268950</td><td>KS91_K562_hg38_ASTARRseq_Input_rep5.masked.dedup.fragments.counts.txt.gz</td></tr>\n",
       "\t<tr><td>Input_rep6 </td><td>Input </td><td>rep6</td><td>397333562</td><td>KS91_K562_hg38_ASTARRseq_Input_rep6.masked.dedup.fragments.counts.txt.gz</td></tr>\n",
       "\t<tr><td>Output_rep1</td><td>Output</td><td>rep1</td><td> 44103844</td><td>KS91_K562_hg38_ASTARRseq_Output_rep1.f3q10.fragments.counts.txt.gz      </td></tr>\n",
       "\t<tr><td>Output_rep2</td><td>Output</td><td>rep2</td><td> 97471282</td><td>KS91_K562_hg38_ASTARRseq_Output_rep2.f3q10.fragments.counts.txt.gz      </td></tr>\n",
       "\t<tr><td>Output_rep3</td><td>Output</td><td>rep3</td><td> 84103298</td><td>KS91_K562_hg38_ASTARRseq_Output_rep3.f3q10.fragments.counts.txt.gz      </td></tr>\n",
       "\t<tr><td>Output_rep4</td><td>Output</td><td>rep4</td><td>183115379</td><td>KS91_K562_hg38_ASTARRseq_Output_rep4.f3q10.fragments.counts.txt.gz      </td></tr>\n",
       "</tbody>\n",
       "</table>\n"
      ],
      "text/latex": [
       "A tibble: 10 × 5\n",
       "\\begin{tabular}{lllll}\n",
       " Sample & Group & Rep & Count & Fpath\\\\\n",
       " <chr> & <chr> & <chr> & <dbl> & <chr>\\\\\n",
       "\\hline\n",
       "\t Input\\_rep1  & Input  & rep1 & 348695063 & KS91\\_K562\\_hg38\\_ASTARRseq\\_Input\\_rep1.masked.dedup.fragments.counts.txt.gz\\\\\n",
       "\t Input\\_rep2  & Input  & rep2 & 451369741 & KS91\\_K562\\_hg38\\_ASTARRseq\\_Input\\_rep2.masked.dedup.fragments.counts.txt.gz\\\\\n",
       "\t Input\\_rep3  & Input  & rep3 & 487579055 & KS91\\_K562\\_hg38\\_ASTARRseq\\_Input\\_rep3.masked.dedup.fragments.counts.txt.gz\\\\\n",
       "\t Input\\_rep4  & Input  & rep4 & 456246254 & KS91\\_K562\\_hg38\\_ASTARRseq\\_Input\\_rep4.masked.dedup.fragments.counts.txt.gz\\\\\n",
       "\t Input\\_rep5  & Input  & rep5 & 444268950 & KS91\\_K562\\_hg38\\_ASTARRseq\\_Input\\_rep5.masked.dedup.fragments.counts.txt.gz\\\\\n",
       "\t Input\\_rep6  & Input  & rep6 & 397333562 & KS91\\_K562\\_hg38\\_ASTARRseq\\_Input\\_rep6.masked.dedup.fragments.counts.txt.gz\\\\\n",
       "\t Output\\_rep1 & Output & rep1 &  44103844 & KS91\\_K562\\_hg38\\_ASTARRseq\\_Output\\_rep1.f3q10.fragments.counts.txt.gz      \\\\\n",
       "\t Output\\_rep2 & Output & rep2 &  97471282 & KS91\\_K562\\_hg38\\_ASTARRseq\\_Output\\_rep2.f3q10.fragments.counts.txt.gz      \\\\\n",
       "\t Output\\_rep3 & Output & rep3 &  84103298 & KS91\\_K562\\_hg38\\_ASTARRseq\\_Output\\_rep3.f3q10.fragments.counts.txt.gz      \\\\\n",
       "\t Output\\_rep4 & Output & rep4 & 183115379 & KS91\\_K562\\_hg38\\_ASTARRseq\\_Output\\_rep4.f3q10.fragments.counts.txt.gz      \\\\\n",
       "\\end{tabular}\n"
      ],
      "text/markdown": [
       "\n",
       "A tibble: 10 × 5\n",
       "\n",
       "| Sample &lt;chr&gt; | Group &lt;chr&gt; | Rep &lt;chr&gt; | Count &lt;dbl&gt; | Fpath &lt;chr&gt; |\n",
       "|---|---|---|---|---|\n",
       "| Input_rep1  | Input  | rep1 | 348695063 | KS91_K562_hg38_ASTARRseq_Input_rep1.masked.dedup.fragments.counts.txt.gz |\n",
       "| Input_rep2  | Input  | rep2 | 451369741 | KS91_K562_hg38_ASTARRseq_Input_rep2.masked.dedup.fragments.counts.txt.gz |\n",
       "| Input_rep3  | Input  | rep3 | 487579055 | KS91_K562_hg38_ASTARRseq_Input_rep3.masked.dedup.fragments.counts.txt.gz |\n",
       "| Input_rep4  | Input  | rep4 | 456246254 | KS91_K562_hg38_ASTARRseq_Input_rep4.masked.dedup.fragments.counts.txt.gz |\n",
       "| Input_rep5  | Input  | rep5 | 444268950 | KS91_K562_hg38_ASTARRseq_Input_rep5.masked.dedup.fragments.counts.txt.gz |\n",
       "| Input_rep6  | Input  | rep6 | 397333562 | KS91_K562_hg38_ASTARRseq_Input_rep6.masked.dedup.fragments.counts.txt.gz |\n",
       "| Output_rep1 | Output | rep1 |  44103844 | KS91_K562_hg38_ASTARRseq_Output_rep1.f3q10.fragments.counts.txt.gz       |\n",
       "| Output_rep2 | Output | rep2 |  97471282 | KS91_K562_hg38_ASTARRseq_Output_rep2.f3q10.fragments.counts.txt.gz       |\n",
       "| Output_rep3 | Output | rep3 |  84103298 | KS91_K562_hg38_ASTARRseq_Output_rep3.f3q10.fragments.counts.txt.gz       |\n",
       "| Output_rep4 | Output | rep4 | 183115379 | KS91_K562_hg38_ASTARRseq_Output_rep4.f3q10.fragments.counts.txt.gz       |\n",
       "\n"
      ],
      "text/plain": [
       "   Sample      Group  Rep  Count    \n",
       "1  Input_rep1  Input  rep1 348695063\n",
       "2  Input_rep2  Input  rep2 451369741\n",
       "3  Input_rep3  Input  rep3 487579055\n",
       "4  Input_rep4  Input  rep4 456246254\n",
       "5  Input_rep5  Input  rep5 444268950\n",
       "6  Input_rep6  Input  rep6 397333562\n",
       "7  Output_rep1 Output rep1  44103844\n",
       "8  Output_rep2 Output rep2  97471282\n",
       "9  Output_rep3 Output rep3  84103298\n",
       "10 Output_rep4 Output rep4 183115379\n",
       "   Fpath                                                                   \n",
       "1  KS91_K562_hg38_ASTARRseq_Input_rep1.masked.dedup.fragments.counts.txt.gz\n",
       "2  KS91_K562_hg38_ASTARRseq_Input_rep2.masked.dedup.fragments.counts.txt.gz\n",
       "3  KS91_K562_hg38_ASTARRseq_Input_rep3.masked.dedup.fragments.counts.txt.gz\n",
       "4  KS91_K562_hg38_ASTARRseq_Input_rep4.masked.dedup.fragments.counts.txt.gz\n",
       "5  KS91_K562_hg38_ASTARRseq_Input_rep5.masked.dedup.fragments.counts.txt.gz\n",
       "6  KS91_K562_hg38_ASTARRseq_Input_rep6.masked.dedup.fragments.counts.txt.gz\n",
       "7  KS91_K562_hg38_ASTARRseq_Output_rep1.f3q10.fragments.counts.txt.gz      \n",
       "8  KS91_K562_hg38_ASTARRseq_Output_rep2.f3q10.fragments.counts.txt.gz      \n",
       "9  KS91_K562_hg38_ASTARRseq_Output_rep3.f3q10.fragments.counts.txt.gz      \n",
       "10 KS91_K562_hg38_ASTARRseq_Output_rep4.f3q10.fragments.counts.txt.gz      "
      ]
     },
     "metadata": {},
     "output_type": "display_data"
    }
   ],
   "source": [
    "dat_lib = bind_rows(dat_inp, dat_out) %>% dplyr::select(Sample, Group, Rep, Count, Fpath)\n",
    "dat_lib"
   ]
  },
  {
   "cell_type": "markdown",
   "id": "398d586c",
   "metadata": {},
   "source": [
    "**Save the table**"
   ]
  },
  {
   "cell_type": "code",
   "execution_count": 11,
   "id": "91059ee7",
   "metadata": {},
   "outputs": [],
   "source": [
    "fdiry = file.path(FD_RES, prefix, \"coverage\", \"library_size\")\n",
    "fname = \"library_size_summary.csv\"\n",
    "fpath = file.path(fdiry, fname)\n",
    "write_csv(dat_lib, fpath)"
   ]
  },
  {
   "cell_type": "code",
   "execution_count": null,
   "id": "f14b76b7",
   "metadata": {},
   "outputs": [],
   "source": []
  }
 ],
 "metadata": {
  "kernelspec": {
   "display_name": "R",
   "language": "R",
   "name": "ir"
  },
  "language_info": {
   "codemirror_mode": "r",
   "file_extension": ".r",
   "mimetype": "text/x-r-source",
   "name": "R",
   "pygments_lexer": "r",
   "version": "4.2.0"
  }
 },
 "nbformat": 4,
 "nbformat_minor": 5
}
