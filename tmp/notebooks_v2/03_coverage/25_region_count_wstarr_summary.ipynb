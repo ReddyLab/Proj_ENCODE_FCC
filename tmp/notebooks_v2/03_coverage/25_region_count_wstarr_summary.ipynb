{
 "cells": [
  {
   "cell_type": "code",
   "execution_count": 1,
   "id": "01f109f4",
   "metadata": {},
   "outputs": [
    {
     "name": "stdout",
     "output_type": "stream",
     "text": [
      "You are in Singularity: singularity_proj_combeffect \n",
      "BASE DIRECTORY:     /mount/work \n",
      "PATH OF SOURCE:     /mount/work/source \n",
      "PATH OF EXECUTABLE: /mount/work/exe \n",
      "PATH OF ANNOTATION: /mount/work/annotation \n",
      "PATH OF PROJECT:    /mount/project \n",
      "PATH OF RESULTS:    /mount/work/out/proj_combeffect_encode_fcc \n"
     ]
    }
   ],
   "source": [
    "suppressWarnings(suppressMessages(source(\"../config/config_sing.R\")))\n",
    "show_env()"
   ]
  },
  {
   "cell_type": "code",
   "execution_count": 2,
   "id": "e0503a9f",
   "metadata": {},
   "outputs": [
    {
     "data": {
      "text/html": [
       "<style>\n",
       ".list-inline {list-style: none; margin:0; padding: 0}\n",
       ".list-inline>li {display: inline-block}\n",
       ".list-inline>li:not(:last-child)::after {content: \"\\00b7\"; padding: 0 .5ex}\n",
       "</style>\n",
       "<ol class=list-inline><li>'A001_K562_WSTARRseq'</li><li>'KS91_K562_ASTARRseq'</li><li>'log'</li><li>'Readme.md'</li><li>'region'</li><li>'source'</li><li>'Tewhey_K562_TileMPRA'</li><li>'tmp221007'</li></ol>\n"
      ],
      "text/latex": [
       "\\begin{enumerate*}\n",
       "\\item 'A001\\_K562\\_WSTARRseq'\n",
       "\\item 'KS91\\_K562\\_ASTARRseq'\n",
       "\\item 'log'\n",
       "\\item 'Readme.md'\n",
       "\\item 'region'\n",
       "\\item 'source'\n",
       "\\item 'Tewhey\\_K562\\_TileMPRA'\n",
       "\\item 'tmp221007'\n",
       "\\end{enumerate*}\n"
      ],
      "text/markdown": [
       "1. 'A001_K562_WSTARRseq'\n",
       "2. 'KS91_K562_ASTARRseq'\n",
       "3. 'log'\n",
       "4. 'Readme.md'\n",
       "5. 'region'\n",
       "6. 'source'\n",
       "7. 'Tewhey_K562_TileMPRA'\n",
       "8. 'tmp221007'\n",
       "\n",
       "\n"
      ],
      "text/plain": [
       "[1] \"A001_K562_WSTARRseq\"  \"KS91_K562_ASTARRseq\"  \"log\"                 \n",
       "[4] \"Readme.md\"            \"region\"               \"source\"              \n",
       "[7] \"Tewhey_K562_TileMPRA\" \"tmp221007\"           "
      ]
     },
     "metadata": {},
     "output_type": "display_data"
    }
   ],
   "source": [
    "dir(FD_RES)"
   ]
  },
  {
   "cell_type": "code",
   "execution_count": 3,
   "id": "c052a269",
   "metadata": {},
   "outputs": [
    {
     "data": {
      "text/html": [
       "<style>\n",
       ".list-inline {list-style: none; margin:0; padding: 0}\n",
       ".list-inline>li {display: inline-block}\n",
       ".list-inline>li:not(:last-child)::after {content: \"\\00b7\"; padding: 0 .5ex}\n",
       "</style>\n",
       "<ol class=list-inline><li>'/mount/work/out/proj_combeffect_encode_fcc/A001_K562_WSTARRseq/coverage/A001_K562_WSTARRseq_Input_rep1.GATA1.unstranded.total_count.tsv'</li><li>'/mount/work/out/proj_combeffect_encode_fcc/A001_K562_WSTARRseq/coverage/A001_K562_WSTARRseq_Input_rep1.MYC.unstranded.total_count.tsv'</li><li>'/mount/work/out/proj_combeffect_encode_fcc/A001_K562_WSTARRseq/coverage/A001_K562_WSTARRseq_Input_rep2.GATA1.unstranded.total_count.tsv'</li><li>'/mount/work/out/proj_combeffect_encode_fcc/A001_K562_WSTARRseq/coverage/A001_K562_WSTARRseq_Input_rep2.MYC.unstranded.total_count.tsv'</li><li>'/mount/work/out/proj_combeffect_encode_fcc/A001_K562_WSTARRseq/coverage/A001_K562_WSTARRseq_Input_rep3.GATA1.unstranded.total_count.tsv'</li><li>'/mount/work/out/proj_combeffect_encode_fcc/A001_K562_WSTARRseq/coverage/A001_K562_WSTARRseq_Input_rep3.MYC.unstranded.total_count.tsv'</li><li>'/mount/work/out/proj_combeffect_encode_fcc/A001_K562_WSTARRseq/coverage/A001_K562_WSTARRseq_Input_rep4.GATA1.unstranded.total_count.tsv'</li><li>'/mount/work/out/proj_combeffect_encode_fcc/A001_K562_WSTARRseq/coverage/A001_K562_WSTARRseq_Input_rep4.MYC.unstranded.total_count.tsv'</li><li>'/mount/work/out/proj_combeffect_encode_fcc/A001_K562_WSTARRseq/coverage/A001_K562_WSTARRseq_Output_rep1.GATA1.unstranded.total_count.tsv'</li><li>'/mount/work/out/proj_combeffect_encode_fcc/A001_K562_WSTARRseq/coverage/A001_K562_WSTARRseq_Output_rep1.MYC.unstranded.total_count.tsv'</li><li>'/mount/work/out/proj_combeffect_encode_fcc/A001_K562_WSTARRseq/coverage/A001_K562_WSTARRseq_Output_rep2.GATA1.unstranded.total_count.tsv'</li><li>'/mount/work/out/proj_combeffect_encode_fcc/A001_K562_WSTARRseq/coverage/A001_K562_WSTARRseq_Output_rep2.MYC.unstranded.total_count.tsv'</li><li>'/mount/work/out/proj_combeffect_encode_fcc/A001_K562_WSTARRseq/coverage/A001_K562_WSTARRseq_Output_rep3.GATA1.unstranded.total_count.tsv'</li><li>'/mount/work/out/proj_combeffect_encode_fcc/A001_K562_WSTARRseq/coverage/A001_K562_WSTARRseq_Output_rep3.MYC.unstranded.total_count.tsv'</li></ol>\n"
      ],
      "text/latex": [
       "\\begin{enumerate*}\n",
       "\\item '/mount/work/out/proj\\_combeffect\\_encode\\_fcc/A001\\_K562\\_WSTARRseq/coverage/A001\\_K562\\_WSTARRseq\\_Input\\_rep1.GATA1.unstranded.total\\_count.tsv'\n",
       "\\item '/mount/work/out/proj\\_combeffect\\_encode\\_fcc/A001\\_K562\\_WSTARRseq/coverage/A001\\_K562\\_WSTARRseq\\_Input\\_rep1.MYC.unstranded.total\\_count.tsv'\n",
       "\\item '/mount/work/out/proj\\_combeffect\\_encode\\_fcc/A001\\_K562\\_WSTARRseq/coverage/A001\\_K562\\_WSTARRseq\\_Input\\_rep2.GATA1.unstranded.total\\_count.tsv'\n",
       "\\item '/mount/work/out/proj\\_combeffect\\_encode\\_fcc/A001\\_K562\\_WSTARRseq/coverage/A001\\_K562\\_WSTARRseq\\_Input\\_rep2.MYC.unstranded.total\\_count.tsv'\n",
       "\\item '/mount/work/out/proj\\_combeffect\\_encode\\_fcc/A001\\_K562\\_WSTARRseq/coverage/A001\\_K562\\_WSTARRseq\\_Input\\_rep3.GATA1.unstranded.total\\_count.tsv'\n",
       "\\item '/mount/work/out/proj\\_combeffect\\_encode\\_fcc/A001\\_K562\\_WSTARRseq/coverage/A001\\_K562\\_WSTARRseq\\_Input\\_rep3.MYC.unstranded.total\\_count.tsv'\n",
       "\\item '/mount/work/out/proj\\_combeffect\\_encode\\_fcc/A001\\_K562\\_WSTARRseq/coverage/A001\\_K562\\_WSTARRseq\\_Input\\_rep4.GATA1.unstranded.total\\_count.tsv'\n",
       "\\item '/mount/work/out/proj\\_combeffect\\_encode\\_fcc/A001\\_K562\\_WSTARRseq/coverage/A001\\_K562\\_WSTARRseq\\_Input\\_rep4.MYC.unstranded.total\\_count.tsv'\n",
       "\\item '/mount/work/out/proj\\_combeffect\\_encode\\_fcc/A001\\_K562\\_WSTARRseq/coverage/A001\\_K562\\_WSTARRseq\\_Output\\_rep1.GATA1.unstranded.total\\_count.tsv'\n",
       "\\item '/mount/work/out/proj\\_combeffect\\_encode\\_fcc/A001\\_K562\\_WSTARRseq/coverage/A001\\_K562\\_WSTARRseq\\_Output\\_rep1.MYC.unstranded.total\\_count.tsv'\n",
       "\\item '/mount/work/out/proj\\_combeffect\\_encode\\_fcc/A001\\_K562\\_WSTARRseq/coverage/A001\\_K562\\_WSTARRseq\\_Output\\_rep2.GATA1.unstranded.total\\_count.tsv'\n",
       "\\item '/mount/work/out/proj\\_combeffect\\_encode\\_fcc/A001\\_K562\\_WSTARRseq/coverage/A001\\_K562\\_WSTARRseq\\_Output\\_rep2.MYC.unstranded.total\\_count.tsv'\n",
       "\\item '/mount/work/out/proj\\_combeffect\\_encode\\_fcc/A001\\_K562\\_WSTARRseq/coverage/A001\\_K562\\_WSTARRseq\\_Output\\_rep3.GATA1.unstranded.total\\_count.tsv'\n",
       "\\item '/mount/work/out/proj\\_combeffect\\_encode\\_fcc/A001\\_K562\\_WSTARRseq/coverage/A001\\_K562\\_WSTARRseq\\_Output\\_rep3.MYC.unstranded.total\\_count.tsv'\n",
       "\\end{enumerate*}\n"
      ],
      "text/markdown": [
       "1. '/mount/work/out/proj_combeffect_encode_fcc/A001_K562_WSTARRseq/coverage/A001_K562_WSTARRseq_Input_rep1.GATA1.unstranded.total_count.tsv'\n",
       "2. '/mount/work/out/proj_combeffect_encode_fcc/A001_K562_WSTARRseq/coverage/A001_K562_WSTARRseq_Input_rep1.MYC.unstranded.total_count.tsv'\n",
       "3. '/mount/work/out/proj_combeffect_encode_fcc/A001_K562_WSTARRseq/coverage/A001_K562_WSTARRseq_Input_rep2.GATA1.unstranded.total_count.tsv'\n",
       "4. '/mount/work/out/proj_combeffect_encode_fcc/A001_K562_WSTARRseq/coverage/A001_K562_WSTARRseq_Input_rep2.MYC.unstranded.total_count.tsv'\n",
       "5. '/mount/work/out/proj_combeffect_encode_fcc/A001_K562_WSTARRseq/coverage/A001_K562_WSTARRseq_Input_rep3.GATA1.unstranded.total_count.tsv'\n",
       "6. '/mount/work/out/proj_combeffect_encode_fcc/A001_K562_WSTARRseq/coverage/A001_K562_WSTARRseq_Input_rep3.MYC.unstranded.total_count.tsv'\n",
       "7. '/mount/work/out/proj_combeffect_encode_fcc/A001_K562_WSTARRseq/coverage/A001_K562_WSTARRseq_Input_rep4.GATA1.unstranded.total_count.tsv'\n",
       "8. '/mount/work/out/proj_combeffect_encode_fcc/A001_K562_WSTARRseq/coverage/A001_K562_WSTARRseq_Input_rep4.MYC.unstranded.total_count.tsv'\n",
       "9. '/mount/work/out/proj_combeffect_encode_fcc/A001_K562_WSTARRseq/coverage/A001_K562_WSTARRseq_Output_rep1.GATA1.unstranded.total_count.tsv'\n",
       "10. '/mount/work/out/proj_combeffect_encode_fcc/A001_K562_WSTARRseq/coverage/A001_K562_WSTARRseq_Output_rep1.MYC.unstranded.total_count.tsv'\n",
       "11. '/mount/work/out/proj_combeffect_encode_fcc/A001_K562_WSTARRseq/coverage/A001_K562_WSTARRseq_Output_rep2.GATA1.unstranded.total_count.tsv'\n",
       "12. '/mount/work/out/proj_combeffect_encode_fcc/A001_K562_WSTARRseq/coverage/A001_K562_WSTARRseq_Output_rep2.MYC.unstranded.total_count.tsv'\n",
       "13. '/mount/work/out/proj_combeffect_encode_fcc/A001_K562_WSTARRseq/coverage/A001_K562_WSTARRseq_Output_rep3.GATA1.unstranded.total_count.tsv'\n",
       "14. '/mount/work/out/proj_combeffect_encode_fcc/A001_K562_WSTARRseq/coverage/A001_K562_WSTARRseq_Output_rep3.MYC.unstranded.total_count.tsv'\n",
       "\n",
       "\n"
      ],
      "text/plain": [
       " [1] \"/mount/work/out/proj_combeffect_encode_fcc/A001_K562_WSTARRseq/coverage/A001_K562_WSTARRseq_Input_rep1.GATA1.unstranded.total_count.tsv\" \n",
       " [2] \"/mount/work/out/proj_combeffect_encode_fcc/A001_K562_WSTARRseq/coverage/A001_K562_WSTARRseq_Input_rep1.MYC.unstranded.total_count.tsv\"   \n",
       " [3] \"/mount/work/out/proj_combeffect_encode_fcc/A001_K562_WSTARRseq/coverage/A001_K562_WSTARRseq_Input_rep2.GATA1.unstranded.total_count.tsv\" \n",
       " [4] \"/mount/work/out/proj_combeffect_encode_fcc/A001_K562_WSTARRseq/coverage/A001_K562_WSTARRseq_Input_rep2.MYC.unstranded.total_count.tsv\"   \n",
       " [5] \"/mount/work/out/proj_combeffect_encode_fcc/A001_K562_WSTARRseq/coverage/A001_K562_WSTARRseq_Input_rep3.GATA1.unstranded.total_count.tsv\" \n",
       " [6] \"/mount/work/out/proj_combeffect_encode_fcc/A001_K562_WSTARRseq/coverage/A001_K562_WSTARRseq_Input_rep3.MYC.unstranded.total_count.tsv\"   \n",
       " [7] \"/mount/work/out/proj_combeffect_encode_fcc/A001_K562_WSTARRseq/coverage/A001_K562_WSTARRseq_Input_rep4.GATA1.unstranded.total_count.tsv\" \n",
       " [8] \"/mount/work/out/proj_combeffect_encode_fcc/A001_K562_WSTARRseq/coverage/A001_K562_WSTARRseq_Input_rep4.MYC.unstranded.total_count.tsv\"   \n",
       " [9] \"/mount/work/out/proj_combeffect_encode_fcc/A001_K562_WSTARRseq/coverage/A001_K562_WSTARRseq_Output_rep1.GATA1.unstranded.total_count.tsv\"\n",
       "[10] \"/mount/work/out/proj_combeffect_encode_fcc/A001_K562_WSTARRseq/coverage/A001_K562_WSTARRseq_Output_rep1.MYC.unstranded.total_count.tsv\"  \n",
       "[11] \"/mount/work/out/proj_combeffect_encode_fcc/A001_K562_WSTARRseq/coverage/A001_K562_WSTARRseq_Output_rep2.GATA1.unstranded.total_count.tsv\"\n",
       "[12] \"/mount/work/out/proj_combeffect_encode_fcc/A001_K562_WSTARRseq/coverage/A001_K562_WSTARRseq_Output_rep2.MYC.unstranded.total_count.tsv\"  \n",
       "[13] \"/mount/work/out/proj_combeffect_encode_fcc/A001_K562_WSTARRseq/coverage/A001_K562_WSTARRseq_Output_rep3.GATA1.unstranded.total_count.tsv\"\n",
       "[14] \"/mount/work/out/proj_combeffect_encode_fcc/A001_K562_WSTARRseq/coverage/A001_K562_WSTARRseq_Output_rep3.MYC.unstranded.total_count.tsv\"  "
      ]
     },
     "metadata": {},
     "output_type": "display_data"
    }
   ],
   "source": [
    "prefix = \"A001_K562_WSTARRseq\"\n",
    "fdiry  = file.path(FD_RES, prefix, \"coverage\")\n",
    "fglob  = file.path(fdiry, \"*total*\")\n",
    "Sys.glob(fglob)"
   ]
  },
  {
   "cell_type": "code",
   "execution_count": 4,
   "id": "379fd8a1",
   "metadata": {},
   "outputs": [
    {
     "name": "stderr",
     "output_type": "stream",
     "text": [
      "\u001b[1mRows: \u001b[22m\u001b[34m7\u001b[39m \u001b[1mColumns: \u001b[22m\u001b[34m4\u001b[39m\n",
      "\u001b[36m──\u001b[39m \u001b[1mColumn specification\u001b[22m \u001b[36m──────────────────────────────────────────────────────────────────────────────────────────────────────────────────────────────────────────────────────────────────────\u001b[39m\n",
      "\u001b[1mDelimiter:\u001b[22m \"\\t\"\n",
      "\u001b[31mchr\u001b[39m (1): Chrom\n",
      "\u001b[32mdbl\u001b[39m (3): Start, End, Count\n",
      "\n",
      "\u001b[36mℹ\u001b[39m Use `spec()` to retrieve the full column specification for this data.\n",
      "\u001b[36mℹ\u001b[39m Specify the column types or set `show_col_types = FALSE` to quiet this message.\n",
      "\u001b[1mRows: \u001b[22m\u001b[34m7\u001b[39m \u001b[1mColumns: \u001b[22m\u001b[34m4\u001b[39m\n",
      "\u001b[36m──\u001b[39m \u001b[1mColumn specification\u001b[22m \u001b[36m──────────────────────────────────────────────────────────────────────────────────────────────────────────────────────────────────────────────────────────────────────\u001b[39m\n",
      "\u001b[1mDelimiter:\u001b[22m \"\\t\"\n",
      "\u001b[31mchr\u001b[39m (1): Chrom\n",
      "\u001b[32mdbl\u001b[39m (3): Start, End, Count\n",
      "\n",
      "\u001b[36mℹ\u001b[39m Use `spec()` to retrieve the full column specification for this data.\n",
      "\u001b[36mℹ\u001b[39m Specify the column types or set `show_col_types = FALSE` to quiet this message.\n"
     ]
    },
    {
     "data": {
      "text/html": [
       "<ol>\n",
       "\t<li><table class=\"dataframe\">\n",
       "<caption>A spec_tbl_df: 7 × 8</caption>\n",
       "<thead>\n",
       "\t<tr><th scope=col>Chrom</th><th scope=col>Start</th><th scope=col>End</th><th scope=col>Count</th><th scope=col>Region</th><th scope=col>Sample</th><th scope=col>Group</th><th scope=col>Fpath</th></tr>\n",
       "\t<tr><th scope=col>&lt;chr&gt;</th><th scope=col>&lt;dbl&gt;</th><th scope=col>&lt;dbl&gt;</th><th scope=col>&lt;dbl&gt;</th><th scope=col>&lt;chr&gt;</th><th scope=col>&lt;chr&gt;</th><th scope=col>&lt;chr&gt;</th><th scope=col>&lt;chr&gt;</th></tr>\n",
       "</thead>\n",
       "<tbody>\n",
       "\t<tr><td>chrX</td><td>47786880</td><td>49786530</td><td> 18574</td><td>GATA1</td><td>Input_rep1 </td><td>Input </td><td>/mount/work/out/proj_combeffect_encode_fcc/A001_K562_WSTARRseq/coverage/A001_K562_WSTARRseq_Input_rep1.GATA1.unstranded.total_count.tsv </td></tr>\n",
       "\t<tr><td>chrX</td><td>47786880</td><td>49786530</td><td> 68394</td><td>GATA1</td><td>Input_rep2 </td><td>Input </td><td>/mount/work/out/proj_combeffect_encode_fcc/A001_K562_WSTARRseq/coverage/A001_K562_WSTARRseq_Input_rep2.GATA1.unstranded.total_count.tsv </td></tr>\n",
       "\t<tr><td>chrX</td><td>47786880</td><td>49786530</td><td> 72125</td><td>GATA1</td><td>Input_rep3 </td><td>Input </td><td>/mount/work/out/proj_combeffect_encode_fcc/A001_K562_WSTARRseq/coverage/A001_K562_WSTARRseq_Input_rep3.GATA1.unstranded.total_count.tsv </td></tr>\n",
       "\t<tr><td>chrX</td><td>47786880</td><td>49786530</td><td> 74587</td><td>GATA1</td><td>Input_rep4 </td><td>Input </td><td>/mount/work/out/proj_combeffect_encode_fcc/A001_K562_WSTARRseq/coverage/A001_K562_WSTARRseq_Input_rep4.GATA1.unstranded.total_count.tsv </td></tr>\n",
       "\t<tr><td>chrX</td><td>47786880</td><td>49786530</td><td>282656</td><td>GATA1</td><td>Output_rep1</td><td>Output</td><td>/mount/work/out/proj_combeffect_encode_fcc/A001_K562_WSTARRseq/coverage/A001_K562_WSTARRseq_Output_rep1.GATA1.unstranded.total_count.tsv</td></tr>\n",
       "\t<tr><td>chrX</td><td>47786880</td><td>49786530</td><td>126252</td><td>GATA1</td><td>Output_rep2</td><td>Output</td><td>/mount/work/out/proj_combeffect_encode_fcc/A001_K562_WSTARRseq/coverage/A001_K562_WSTARRseq_Output_rep2.GATA1.unstranded.total_count.tsv</td></tr>\n",
       "\t<tr><td>chrX</td><td>47786880</td><td>49786530</td><td>127008</td><td>GATA1</td><td>Output_rep3</td><td>Output</td><td>/mount/work/out/proj_combeffect_encode_fcc/A001_K562_WSTARRseq/coverage/A001_K562_WSTARRseq_Output_rep3.GATA1.unstranded.total_count.tsv</td></tr>\n",
       "</tbody>\n",
       "</table>\n",
       "</li>\n",
       "\t<li><table class=\"dataframe\">\n",
       "<caption>A spec_tbl_df: 7 × 8</caption>\n",
       "<thead>\n",
       "\t<tr><th scope=col>Chrom</th><th scope=col>Start</th><th scope=col>End</th><th scope=col>Count</th><th scope=col>Region</th><th scope=col>Sample</th><th scope=col>Group</th><th scope=col>Fpath</th></tr>\n",
       "\t<tr><th scope=col>&lt;chr&gt;</th><th scope=col>&lt;dbl&gt;</th><th scope=col>&lt;dbl&gt;</th><th scope=col>&lt;dbl&gt;</th><th scope=col>&lt;chr&gt;</th><th scope=col>&lt;chr&gt;</th><th scope=col>&lt;chr&gt;</th><th scope=col>&lt;chr&gt;</th></tr>\n",
       "</thead>\n",
       "<tbody>\n",
       "\t<tr><td>chr8</td><td>126735990</td><td>128736150</td><td> 21870</td><td>MYC</td><td>Input_rep1 </td><td>Input </td><td>/mount/work/out/proj_combeffect_encode_fcc/A001_K562_WSTARRseq/coverage/A001_K562_WSTARRseq_Input_rep1.MYC.unstranded.total_count.tsv </td></tr>\n",
       "\t<tr><td>chr8</td><td>126735990</td><td>128736150</td><td> 80975</td><td>MYC</td><td>Input_rep2 </td><td>Input </td><td>/mount/work/out/proj_combeffect_encode_fcc/A001_K562_WSTARRseq/coverage/A001_K562_WSTARRseq_Input_rep2.MYC.unstranded.total_count.tsv </td></tr>\n",
       "\t<tr><td>chr8</td><td>126735990</td><td>128736150</td><td> 86249</td><td>MYC</td><td>Input_rep3 </td><td>Input </td><td>/mount/work/out/proj_combeffect_encode_fcc/A001_K562_WSTARRseq/coverage/A001_K562_WSTARRseq_Input_rep3.MYC.unstranded.total_count.tsv </td></tr>\n",
       "\t<tr><td>chr8</td><td>126735990</td><td>128736150</td><td> 88547</td><td>MYC</td><td>Input_rep4 </td><td>Input </td><td>/mount/work/out/proj_combeffect_encode_fcc/A001_K562_WSTARRseq/coverage/A001_K562_WSTARRseq_Input_rep4.MYC.unstranded.total_count.tsv </td></tr>\n",
       "\t<tr><td>chr8</td><td>126735990</td><td>128736150</td><td>325883</td><td>MYC</td><td>Output_rep1</td><td>Output</td><td>/mount/work/out/proj_combeffect_encode_fcc/A001_K562_WSTARRseq/coverage/A001_K562_WSTARRseq_Output_rep1.MYC.unstranded.total_count.tsv</td></tr>\n",
       "\t<tr><td>chr8</td><td>126735990</td><td>128736150</td><td>140929</td><td>MYC</td><td>Output_rep2</td><td>Output</td><td>/mount/work/out/proj_combeffect_encode_fcc/A001_K562_WSTARRseq/coverage/A001_K562_WSTARRseq_Output_rep2.MYC.unstranded.total_count.tsv</td></tr>\n",
       "\t<tr><td>chr8</td><td>126735990</td><td>128736150</td><td>142585</td><td>MYC</td><td>Output_rep3</td><td>Output</td><td>/mount/work/out/proj_combeffect_encode_fcc/A001_K562_WSTARRseq/coverage/A001_K562_WSTARRseq_Output_rep3.MYC.unstranded.total_count.tsv</td></tr>\n",
       "</tbody>\n",
       "</table>\n",
       "</li>\n",
       "</ol>\n"
      ],
      "text/latex": [
       "\\begin{enumerate}\n",
       "\\item A spec\\_tbl\\_df: 7 × 8\n",
       "\\begin{tabular}{llllllll}\n",
       " Chrom & Start & End & Count & Region & Sample & Group & Fpath\\\\\n",
       " <chr> & <dbl> & <dbl> & <dbl> & <chr> & <chr> & <chr> & <chr>\\\\\n",
       "\\hline\n",
       "\t chrX & 47786880 & 49786530 &  18574 & GATA1 & Input\\_rep1  & Input  & /mount/work/out/proj\\_combeffect\\_encode\\_fcc/A001\\_K562\\_WSTARRseq/coverage/A001\\_K562\\_WSTARRseq\\_Input\\_rep1.GATA1.unstranded.total\\_count.tsv \\\\\n",
       "\t chrX & 47786880 & 49786530 &  68394 & GATA1 & Input\\_rep2  & Input  & /mount/work/out/proj\\_combeffect\\_encode\\_fcc/A001\\_K562\\_WSTARRseq/coverage/A001\\_K562\\_WSTARRseq\\_Input\\_rep2.GATA1.unstranded.total\\_count.tsv \\\\\n",
       "\t chrX & 47786880 & 49786530 &  72125 & GATA1 & Input\\_rep3  & Input  & /mount/work/out/proj\\_combeffect\\_encode\\_fcc/A001\\_K562\\_WSTARRseq/coverage/A001\\_K562\\_WSTARRseq\\_Input\\_rep3.GATA1.unstranded.total\\_count.tsv \\\\\n",
       "\t chrX & 47786880 & 49786530 &  74587 & GATA1 & Input\\_rep4  & Input  & /mount/work/out/proj\\_combeffect\\_encode\\_fcc/A001\\_K562\\_WSTARRseq/coverage/A001\\_K562\\_WSTARRseq\\_Input\\_rep4.GATA1.unstranded.total\\_count.tsv \\\\\n",
       "\t chrX & 47786880 & 49786530 & 282656 & GATA1 & Output\\_rep1 & Output & /mount/work/out/proj\\_combeffect\\_encode\\_fcc/A001\\_K562\\_WSTARRseq/coverage/A001\\_K562\\_WSTARRseq\\_Output\\_rep1.GATA1.unstranded.total\\_count.tsv\\\\\n",
       "\t chrX & 47786880 & 49786530 & 126252 & GATA1 & Output\\_rep2 & Output & /mount/work/out/proj\\_combeffect\\_encode\\_fcc/A001\\_K562\\_WSTARRseq/coverage/A001\\_K562\\_WSTARRseq\\_Output\\_rep2.GATA1.unstranded.total\\_count.tsv\\\\\n",
       "\t chrX & 47786880 & 49786530 & 127008 & GATA1 & Output\\_rep3 & Output & /mount/work/out/proj\\_combeffect\\_encode\\_fcc/A001\\_K562\\_WSTARRseq/coverage/A001\\_K562\\_WSTARRseq\\_Output\\_rep3.GATA1.unstranded.total\\_count.tsv\\\\\n",
       "\\end{tabular}\n",
       "\n",
       "\\item A spec\\_tbl\\_df: 7 × 8\n",
       "\\begin{tabular}{llllllll}\n",
       " Chrom & Start & End & Count & Region & Sample & Group & Fpath\\\\\n",
       " <chr> & <dbl> & <dbl> & <dbl> & <chr> & <chr> & <chr> & <chr>\\\\\n",
       "\\hline\n",
       "\t chr8 & 126735990 & 128736150 &  21870 & MYC & Input\\_rep1  & Input  & /mount/work/out/proj\\_combeffect\\_encode\\_fcc/A001\\_K562\\_WSTARRseq/coverage/A001\\_K562\\_WSTARRseq\\_Input\\_rep1.MYC.unstranded.total\\_count.tsv \\\\\n",
       "\t chr8 & 126735990 & 128736150 &  80975 & MYC & Input\\_rep2  & Input  & /mount/work/out/proj\\_combeffect\\_encode\\_fcc/A001\\_K562\\_WSTARRseq/coverage/A001\\_K562\\_WSTARRseq\\_Input\\_rep2.MYC.unstranded.total\\_count.tsv \\\\\n",
       "\t chr8 & 126735990 & 128736150 &  86249 & MYC & Input\\_rep3  & Input  & /mount/work/out/proj\\_combeffect\\_encode\\_fcc/A001\\_K562\\_WSTARRseq/coverage/A001\\_K562\\_WSTARRseq\\_Input\\_rep3.MYC.unstranded.total\\_count.tsv \\\\\n",
       "\t chr8 & 126735990 & 128736150 &  88547 & MYC & Input\\_rep4  & Input  & /mount/work/out/proj\\_combeffect\\_encode\\_fcc/A001\\_K562\\_WSTARRseq/coverage/A001\\_K562\\_WSTARRseq\\_Input\\_rep4.MYC.unstranded.total\\_count.tsv \\\\\n",
       "\t chr8 & 126735990 & 128736150 & 325883 & MYC & Output\\_rep1 & Output & /mount/work/out/proj\\_combeffect\\_encode\\_fcc/A001\\_K562\\_WSTARRseq/coverage/A001\\_K562\\_WSTARRseq\\_Output\\_rep1.MYC.unstranded.total\\_count.tsv\\\\\n",
       "\t chr8 & 126735990 & 128736150 & 140929 & MYC & Output\\_rep2 & Output & /mount/work/out/proj\\_combeffect\\_encode\\_fcc/A001\\_K562\\_WSTARRseq/coverage/A001\\_K562\\_WSTARRseq\\_Output\\_rep2.MYC.unstranded.total\\_count.tsv\\\\\n",
       "\t chr8 & 126735990 & 128736150 & 142585 & MYC & Output\\_rep3 & Output & /mount/work/out/proj\\_combeffect\\_encode\\_fcc/A001\\_K562\\_WSTARRseq/coverage/A001\\_K562\\_WSTARRseq\\_Output\\_rep3.MYC.unstranded.total\\_count.tsv\\\\\n",
       "\\end{tabular}\n",
       "\n",
       "\\end{enumerate}\n"
      ],
      "text/markdown": [
       "1. \n",
       "A spec_tbl_df: 7 × 8\n",
       "\n",
       "| Chrom &lt;chr&gt; | Start &lt;dbl&gt; | End &lt;dbl&gt; | Count &lt;dbl&gt; | Region &lt;chr&gt; | Sample &lt;chr&gt; | Group &lt;chr&gt; | Fpath &lt;chr&gt; |\n",
       "|---|---|---|---|---|---|---|---|\n",
       "| chrX | 47786880 | 49786530 |  18574 | GATA1 | Input_rep1  | Input  | /mount/work/out/proj_combeffect_encode_fcc/A001_K562_WSTARRseq/coverage/A001_K562_WSTARRseq_Input_rep1.GATA1.unstranded.total_count.tsv  |\n",
       "| chrX | 47786880 | 49786530 |  68394 | GATA1 | Input_rep2  | Input  | /mount/work/out/proj_combeffect_encode_fcc/A001_K562_WSTARRseq/coverage/A001_K562_WSTARRseq_Input_rep2.GATA1.unstranded.total_count.tsv  |\n",
       "| chrX | 47786880 | 49786530 |  72125 | GATA1 | Input_rep3  | Input  | /mount/work/out/proj_combeffect_encode_fcc/A001_K562_WSTARRseq/coverage/A001_K562_WSTARRseq_Input_rep3.GATA1.unstranded.total_count.tsv  |\n",
       "| chrX | 47786880 | 49786530 |  74587 | GATA1 | Input_rep4  | Input  | /mount/work/out/proj_combeffect_encode_fcc/A001_K562_WSTARRseq/coverage/A001_K562_WSTARRseq_Input_rep4.GATA1.unstranded.total_count.tsv  |\n",
       "| chrX | 47786880 | 49786530 | 282656 | GATA1 | Output_rep1 | Output | /mount/work/out/proj_combeffect_encode_fcc/A001_K562_WSTARRseq/coverage/A001_K562_WSTARRseq_Output_rep1.GATA1.unstranded.total_count.tsv |\n",
       "| chrX | 47786880 | 49786530 | 126252 | GATA1 | Output_rep2 | Output | /mount/work/out/proj_combeffect_encode_fcc/A001_K562_WSTARRseq/coverage/A001_K562_WSTARRseq_Output_rep2.GATA1.unstranded.total_count.tsv |\n",
       "| chrX | 47786880 | 49786530 | 127008 | GATA1 | Output_rep3 | Output | /mount/work/out/proj_combeffect_encode_fcc/A001_K562_WSTARRseq/coverage/A001_K562_WSTARRseq_Output_rep3.GATA1.unstranded.total_count.tsv |\n",
       "\n",
       "\n",
       "2. \n",
       "A spec_tbl_df: 7 × 8\n",
       "\n",
       "| Chrom &lt;chr&gt; | Start &lt;dbl&gt; | End &lt;dbl&gt; | Count &lt;dbl&gt; | Region &lt;chr&gt; | Sample &lt;chr&gt; | Group &lt;chr&gt; | Fpath &lt;chr&gt; |\n",
       "|---|---|---|---|---|---|---|---|\n",
       "| chr8 | 126735990 | 128736150 |  21870 | MYC | Input_rep1  | Input  | /mount/work/out/proj_combeffect_encode_fcc/A001_K562_WSTARRseq/coverage/A001_K562_WSTARRseq_Input_rep1.MYC.unstranded.total_count.tsv  |\n",
       "| chr8 | 126735990 | 128736150 |  80975 | MYC | Input_rep2  | Input  | /mount/work/out/proj_combeffect_encode_fcc/A001_K562_WSTARRseq/coverage/A001_K562_WSTARRseq_Input_rep2.MYC.unstranded.total_count.tsv  |\n",
       "| chr8 | 126735990 | 128736150 |  86249 | MYC | Input_rep3  | Input  | /mount/work/out/proj_combeffect_encode_fcc/A001_K562_WSTARRseq/coverage/A001_K562_WSTARRseq_Input_rep3.MYC.unstranded.total_count.tsv  |\n",
       "| chr8 | 126735990 | 128736150 |  88547 | MYC | Input_rep4  | Input  | /mount/work/out/proj_combeffect_encode_fcc/A001_K562_WSTARRseq/coverage/A001_K562_WSTARRseq_Input_rep4.MYC.unstranded.total_count.tsv  |\n",
       "| chr8 | 126735990 | 128736150 | 325883 | MYC | Output_rep1 | Output | /mount/work/out/proj_combeffect_encode_fcc/A001_K562_WSTARRseq/coverage/A001_K562_WSTARRseq_Output_rep1.MYC.unstranded.total_count.tsv |\n",
       "| chr8 | 126735990 | 128736150 | 140929 | MYC | Output_rep2 | Output | /mount/work/out/proj_combeffect_encode_fcc/A001_K562_WSTARRseq/coverage/A001_K562_WSTARRseq_Output_rep2.MYC.unstranded.total_count.tsv |\n",
       "| chr8 | 126735990 | 128736150 | 142585 | MYC | Output_rep3 | Output | /mount/work/out/proj_combeffect_encode_fcc/A001_K562_WSTARRseq/coverage/A001_K562_WSTARRseq_Output_rep3.MYC.unstranded.total_count.tsv |\n",
       "\n",
       "\n",
       "\n",
       "\n"
      ],
      "text/plain": [
       "[[1]]\n",
       "\u001b[90m# A tibble: 7 × 8\u001b[39m\n",
       "  Chrom    Start      End  Count Region Sample      Group  Fpath                \n",
       "  \u001b[3m\u001b[90m<chr>\u001b[39m\u001b[23m    \u001b[3m\u001b[90m<dbl>\u001b[39m\u001b[23m    \u001b[3m\u001b[90m<dbl>\u001b[39m\u001b[23m  \u001b[3m\u001b[90m<dbl>\u001b[39m\u001b[23m \u001b[3m\u001b[90m<chr>\u001b[39m\u001b[23m  \u001b[3m\u001b[90m<chr>\u001b[39m\u001b[23m       \u001b[3m\u001b[90m<chr>\u001b[39m\u001b[23m  \u001b[3m\u001b[90m<chr>\u001b[39m\u001b[23m                \n",
       "\u001b[90m1\u001b[39m chrX  47\u001b[4m7\u001b[24m\u001b[4m8\u001b[24m\u001b[4m6\u001b[24m880 49\u001b[4m7\u001b[24m\u001b[4m8\u001b[24m\u001b[4m6\u001b[24m530  \u001b[4m1\u001b[24m\u001b[4m8\u001b[24m574 GATA1  Input_rep1  Input  /mount/work/out/proj…\n",
       "\u001b[90m2\u001b[39m chrX  47\u001b[4m7\u001b[24m\u001b[4m8\u001b[24m\u001b[4m6\u001b[24m880 49\u001b[4m7\u001b[24m\u001b[4m8\u001b[24m\u001b[4m6\u001b[24m530  \u001b[4m6\u001b[24m\u001b[4m8\u001b[24m394 GATA1  Input_rep2  Input  /mount/work/out/proj…\n",
       "\u001b[90m3\u001b[39m chrX  47\u001b[4m7\u001b[24m\u001b[4m8\u001b[24m\u001b[4m6\u001b[24m880 49\u001b[4m7\u001b[24m\u001b[4m8\u001b[24m\u001b[4m6\u001b[24m530  \u001b[4m7\u001b[24m\u001b[4m2\u001b[24m125 GATA1  Input_rep3  Input  /mount/work/out/proj…\n",
       "\u001b[90m4\u001b[39m chrX  47\u001b[4m7\u001b[24m\u001b[4m8\u001b[24m\u001b[4m6\u001b[24m880 49\u001b[4m7\u001b[24m\u001b[4m8\u001b[24m\u001b[4m6\u001b[24m530  \u001b[4m7\u001b[24m\u001b[4m4\u001b[24m587 GATA1  Input_rep4  Input  /mount/work/out/proj…\n",
       "\u001b[90m5\u001b[39m chrX  47\u001b[4m7\u001b[24m\u001b[4m8\u001b[24m\u001b[4m6\u001b[24m880 49\u001b[4m7\u001b[24m\u001b[4m8\u001b[24m\u001b[4m6\u001b[24m530 \u001b[4m2\u001b[24m\u001b[4m8\u001b[24m\u001b[4m2\u001b[24m656 GATA1  Output_rep1 Output /mount/work/out/proj…\n",
       "\u001b[90m6\u001b[39m chrX  47\u001b[4m7\u001b[24m\u001b[4m8\u001b[24m\u001b[4m6\u001b[24m880 49\u001b[4m7\u001b[24m\u001b[4m8\u001b[24m\u001b[4m6\u001b[24m530 \u001b[4m1\u001b[24m\u001b[4m2\u001b[24m\u001b[4m6\u001b[24m252 GATA1  Output_rep2 Output /mount/work/out/proj…\n",
       "\u001b[90m7\u001b[39m chrX  47\u001b[4m7\u001b[24m\u001b[4m8\u001b[24m\u001b[4m6\u001b[24m880 49\u001b[4m7\u001b[24m\u001b[4m8\u001b[24m\u001b[4m6\u001b[24m530 \u001b[4m1\u001b[24m\u001b[4m2\u001b[24m\u001b[4m7\u001b[24m008 GATA1  Output_rep3 Output /mount/work/out/proj…\n",
       "\n",
       "[[2]]\n",
       "\u001b[90m# A tibble: 7 × 8\u001b[39m\n",
       "  Chrom     Start       End  Count Region Sample      Group  Fpath              \n",
       "  \u001b[3m\u001b[90m<chr>\u001b[39m\u001b[23m     \u001b[3m\u001b[90m<dbl>\u001b[39m\u001b[23m     \u001b[3m\u001b[90m<dbl>\u001b[39m\u001b[23m  \u001b[3m\u001b[90m<dbl>\u001b[39m\u001b[23m \u001b[3m\u001b[90m<chr>\u001b[39m\u001b[23m  \u001b[3m\u001b[90m<chr>\u001b[39m\u001b[23m       \u001b[3m\u001b[90m<chr>\u001b[39m\u001b[23m  \u001b[3m\u001b[90m<chr>\u001b[39m\u001b[23m              \n",
       "\u001b[90m1\u001b[39m chr8  126\u001b[4m7\u001b[24m\u001b[4m3\u001b[24m\u001b[4m5\u001b[24m990 128\u001b[4m7\u001b[24m\u001b[4m3\u001b[24m\u001b[4m6\u001b[24m150  \u001b[4m2\u001b[24m\u001b[4m1\u001b[24m870 MYC    Input_rep1  Input  /mount/work/out/pr…\n",
       "\u001b[90m2\u001b[39m chr8  126\u001b[4m7\u001b[24m\u001b[4m3\u001b[24m\u001b[4m5\u001b[24m990 128\u001b[4m7\u001b[24m\u001b[4m3\u001b[24m\u001b[4m6\u001b[24m150  \u001b[4m8\u001b[24m\u001b[4m0\u001b[24m975 MYC    Input_rep2  Input  /mount/work/out/pr…\n",
       "\u001b[90m3\u001b[39m chr8  126\u001b[4m7\u001b[24m\u001b[4m3\u001b[24m\u001b[4m5\u001b[24m990 128\u001b[4m7\u001b[24m\u001b[4m3\u001b[24m\u001b[4m6\u001b[24m150  \u001b[4m8\u001b[24m\u001b[4m6\u001b[24m249 MYC    Input_rep3  Input  /mount/work/out/pr…\n",
       "\u001b[90m4\u001b[39m chr8  126\u001b[4m7\u001b[24m\u001b[4m3\u001b[24m\u001b[4m5\u001b[24m990 128\u001b[4m7\u001b[24m\u001b[4m3\u001b[24m\u001b[4m6\u001b[24m150  \u001b[4m8\u001b[24m\u001b[4m8\u001b[24m547 MYC    Input_rep4  Input  /mount/work/out/pr…\n",
       "\u001b[90m5\u001b[39m chr8  126\u001b[4m7\u001b[24m\u001b[4m3\u001b[24m\u001b[4m5\u001b[24m990 128\u001b[4m7\u001b[24m\u001b[4m3\u001b[24m\u001b[4m6\u001b[24m150 \u001b[4m3\u001b[24m\u001b[4m2\u001b[24m\u001b[4m5\u001b[24m883 MYC    Output_rep1 Output /mount/work/out/pr…\n",
       "\u001b[90m6\u001b[39m chr8  126\u001b[4m7\u001b[24m\u001b[4m3\u001b[24m\u001b[4m5\u001b[24m990 128\u001b[4m7\u001b[24m\u001b[4m3\u001b[24m\u001b[4m6\u001b[24m150 \u001b[4m1\u001b[24m\u001b[4m4\u001b[24m\u001b[4m0\u001b[24m929 MYC    Output_rep2 Output /mount/work/out/pr…\n",
       "\u001b[90m7\u001b[39m chr8  126\u001b[4m7\u001b[24m\u001b[4m3\u001b[24m\u001b[4m5\u001b[24m990 128\u001b[4m7\u001b[24m\u001b[4m3\u001b[24m\u001b[4m6\u001b[24m150 \u001b[4m1\u001b[24m\u001b[4m4\u001b[24m\u001b[4m2\u001b[24m585 MYC    Output_rep3 Output /mount/work/out/pr…\n"
      ]
     },
     "metadata": {},
     "output_type": "display_data"
    }
   ],
   "source": [
    "### set globals\n",
    "REGIONS = c(\"GATA1\", \"MYC\") \n",
    "\n",
    "SAMPLES = c(\n",
    "    paste0(\"Input_rep\",  1:4),\n",
    "    paste0(\"Output_rep\", 1:3))\n",
    "\n",
    "GROUPS = c(\n",
    "    rep(\"Input\",  4),\n",
    "    rep(\"Output\", 3))\n",
    "\n",
    "### file directories\n",
    "prefix = \"A001_K562_WSTARRseq\"\n",
    "fdiry  = file.path(FD_RES, prefix, \"coverage\")\n",
    "\n",
    "### set columns\n",
    "cnames = c(\"Chrom\", \"Start\", \"End\", \"Count\")\n",
    "\n",
    "### set columns\n",
    "lst = lapply(REGIONS, function(region){\n",
    "    fname = paste0(\"*\", region, \"*total_count*\")\n",
    "    fglob = file.path(fdiry, fname)\n",
    "    fpath = Sys.glob(fglob)\n",
    "    dat   = read_tsv(fpath, col_names=cnames)\n",
    "    dat$Region = region\n",
    "    dat$Sample = SAMPLES\n",
    "    dat$Group  = GROUPS\n",
    "    dat$Fpath  = fpath\n",
    "    return(dat)\n",
    "})\n",
    "lst"
   ]
  },
  {
   "cell_type": "code",
   "execution_count": 5,
   "id": "d3451279",
   "metadata": {},
   "outputs": [
    {
     "data": {
      "text/html": [
       "<table class=\"dataframe\">\n",
       "<caption>A spec_tbl_df: 14 × 8</caption>\n",
       "<thead>\n",
       "\t<tr><th scope=col>Chrom</th><th scope=col>Start</th><th scope=col>End</th><th scope=col>Count</th><th scope=col>Region</th><th scope=col>Sample</th><th scope=col>Group</th><th scope=col>Fpath</th></tr>\n",
       "\t<tr><th scope=col>&lt;chr&gt;</th><th scope=col>&lt;dbl&gt;</th><th scope=col>&lt;dbl&gt;</th><th scope=col>&lt;dbl&gt;</th><th scope=col>&lt;chr&gt;</th><th scope=col>&lt;chr&gt;</th><th scope=col>&lt;chr&gt;</th><th scope=col>&lt;chr&gt;</th></tr>\n",
       "</thead>\n",
       "<tbody>\n",
       "\t<tr><td>chrX</td><td> 47786880</td><td> 49786530</td><td> 18574</td><td>GATA1</td><td>Input_rep1 </td><td>Input </td><td>/mount/work/out/proj_combeffect_encode_fcc/A001_K562_WSTARRseq/coverage/A001_K562_WSTARRseq_Input_rep1.GATA1.unstranded.total_count.tsv </td></tr>\n",
       "\t<tr><td>chrX</td><td> 47786880</td><td> 49786530</td><td> 68394</td><td>GATA1</td><td>Input_rep2 </td><td>Input </td><td>/mount/work/out/proj_combeffect_encode_fcc/A001_K562_WSTARRseq/coverage/A001_K562_WSTARRseq_Input_rep2.GATA1.unstranded.total_count.tsv </td></tr>\n",
       "\t<tr><td>chrX</td><td> 47786880</td><td> 49786530</td><td> 72125</td><td>GATA1</td><td>Input_rep3 </td><td>Input </td><td>/mount/work/out/proj_combeffect_encode_fcc/A001_K562_WSTARRseq/coverage/A001_K562_WSTARRseq_Input_rep3.GATA1.unstranded.total_count.tsv </td></tr>\n",
       "\t<tr><td>chrX</td><td> 47786880</td><td> 49786530</td><td> 74587</td><td>GATA1</td><td>Input_rep4 </td><td>Input </td><td>/mount/work/out/proj_combeffect_encode_fcc/A001_K562_WSTARRseq/coverage/A001_K562_WSTARRseq_Input_rep4.GATA1.unstranded.total_count.tsv </td></tr>\n",
       "\t<tr><td>chrX</td><td> 47786880</td><td> 49786530</td><td>282656</td><td>GATA1</td><td>Output_rep1</td><td>Output</td><td>/mount/work/out/proj_combeffect_encode_fcc/A001_K562_WSTARRseq/coverage/A001_K562_WSTARRseq_Output_rep1.GATA1.unstranded.total_count.tsv</td></tr>\n",
       "\t<tr><td>chrX</td><td> 47786880</td><td> 49786530</td><td>126252</td><td>GATA1</td><td>Output_rep2</td><td>Output</td><td>/mount/work/out/proj_combeffect_encode_fcc/A001_K562_WSTARRseq/coverage/A001_K562_WSTARRseq_Output_rep2.GATA1.unstranded.total_count.tsv</td></tr>\n",
       "\t<tr><td>chrX</td><td> 47786880</td><td> 49786530</td><td>127008</td><td>GATA1</td><td>Output_rep3</td><td>Output</td><td>/mount/work/out/proj_combeffect_encode_fcc/A001_K562_WSTARRseq/coverage/A001_K562_WSTARRseq_Output_rep3.GATA1.unstranded.total_count.tsv</td></tr>\n",
       "\t<tr><td>chr8</td><td>126735990</td><td>128736150</td><td> 21870</td><td>MYC  </td><td>Input_rep1 </td><td>Input </td><td>/mount/work/out/proj_combeffect_encode_fcc/A001_K562_WSTARRseq/coverage/A001_K562_WSTARRseq_Input_rep1.MYC.unstranded.total_count.tsv   </td></tr>\n",
       "\t<tr><td>chr8</td><td>126735990</td><td>128736150</td><td> 80975</td><td>MYC  </td><td>Input_rep2 </td><td>Input </td><td>/mount/work/out/proj_combeffect_encode_fcc/A001_K562_WSTARRseq/coverage/A001_K562_WSTARRseq_Input_rep2.MYC.unstranded.total_count.tsv   </td></tr>\n",
       "\t<tr><td>chr8</td><td>126735990</td><td>128736150</td><td> 86249</td><td>MYC  </td><td>Input_rep3 </td><td>Input </td><td>/mount/work/out/proj_combeffect_encode_fcc/A001_K562_WSTARRseq/coverage/A001_K562_WSTARRseq_Input_rep3.MYC.unstranded.total_count.tsv   </td></tr>\n",
       "\t<tr><td>chr8</td><td>126735990</td><td>128736150</td><td> 88547</td><td>MYC  </td><td>Input_rep4 </td><td>Input </td><td>/mount/work/out/proj_combeffect_encode_fcc/A001_K562_WSTARRseq/coverage/A001_K562_WSTARRseq_Input_rep4.MYC.unstranded.total_count.tsv   </td></tr>\n",
       "\t<tr><td>chr8</td><td>126735990</td><td>128736150</td><td>325883</td><td>MYC  </td><td>Output_rep1</td><td>Output</td><td>/mount/work/out/proj_combeffect_encode_fcc/A001_K562_WSTARRseq/coverage/A001_K562_WSTARRseq_Output_rep1.MYC.unstranded.total_count.tsv  </td></tr>\n",
       "\t<tr><td>chr8</td><td>126735990</td><td>128736150</td><td>140929</td><td>MYC  </td><td>Output_rep2</td><td>Output</td><td>/mount/work/out/proj_combeffect_encode_fcc/A001_K562_WSTARRseq/coverage/A001_K562_WSTARRseq_Output_rep2.MYC.unstranded.total_count.tsv  </td></tr>\n",
       "\t<tr><td>chr8</td><td>126735990</td><td>128736150</td><td>142585</td><td>MYC  </td><td>Output_rep3</td><td>Output</td><td>/mount/work/out/proj_combeffect_encode_fcc/A001_K562_WSTARRseq/coverage/A001_K562_WSTARRseq_Output_rep3.MYC.unstranded.total_count.tsv  </td></tr>\n",
       "</tbody>\n",
       "</table>\n"
      ],
      "text/latex": [
       "A spec\\_tbl\\_df: 14 × 8\n",
       "\\begin{tabular}{llllllll}\n",
       " Chrom & Start & End & Count & Region & Sample & Group & Fpath\\\\\n",
       " <chr> & <dbl> & <dbl> & <dbl> & <chr> & <chr> & <chr> & <chr>\\\\\n",
       "\\hline\n",
       "\t chrX &  47786880 &  49786530 &  18574 & GATA1 & Input\\_rep1  & Input  & /mount/work/out/proj\\_combeffect\\_encode\\_fcc/A001\\_K562\\_WSTARRseq/coverage/A001\\_K562\\_WSTARRseq\\_Input\\_rep1.GATA1.unstranded.total\\_count.tsv \\\\\n",
       "\t chrX &  47786880 &  49786530 &  68394 & GATA1 & Input\\_rep2  & Input  & /mount/work/out/proj\\_combeffect\\_encode\\_fcc/A001\\_K562\\_WSTARRseq/coverage/A001\\_K562\\_WSTARRseq\\_Input\\_rep2.GATA1.unstranded.total\\_count.tsv \\\\\n",
       "\t chrX &  47786880 &  49786530 &  72125 & GATA1 & Input\\_rep3  & Input  & /mount/work/out/proj\\_combeffect\\_encode\\_fcc/A001\\_K562\\_WSTARRseq/coverage/A001\\_K562\\_WSTARRseq\\_Input\\_rep3.GATA1.unstranded.total\\_count.tsv \\\\\n",
       "\t chrX &  47786880 &  49786530 &  74587 & GATA1 & Input\\_rep4  & Input  & /mount/work/out/proj\\_combeffect\\_encode\\_fcc/A001\\_K562\\_WSTARRseq/coverage/A001\\_K562\\_WSTARRseq\\_Input\\_rep4.GATA1.unstranded.total\\_count.tsv \\\\\n",
       "\t chrX &  47786880 &  49786530 & 282656 & GATA1 & Output\\_rep1 & Output & /mount/work/out/proj\\_combeffect\\_encode\\_fcc/A001\\_K562\\_WSTARRseq/coverage/A001\\_K562\\_WSTARRseq\\_Output\\_rep1.GATA1.unstranded.total\\_count.tsv\\\\\n",
       "\t chrX &  47786880 &  49786530 & 126252 & GATA1 & Output\\_rep2 & Output & /mount/work/out/proj\\_combeffect\\_encode\\_fcc/A001\\_K562\\_WSTARRseq/coverage/A001\\_K562\\_WSTARRseq\\_Output\\_rep2.GATA1.unstranded.total\\_count.tsv\\\\\n",
       "\t chrX &  47786880 &  49786530 & 127008 & GATA1 & Output\\_rep3 & Output & /mount/work/out/proj\\_combeffect\\_encode\\_fcc/A001\\_K562\\_WSTARRseq/coverage/A001\\_K562\\_WSTARRseq\\_Output\\_rep3.GATA1.unstranded.total\\_count.tsv\\\\\n",
       "\t chr8 & 126735990 & 128736150 &  21870 & MYC   & Input\\_rep1  & Input  & /mount/work/out/proj\\_combeffect\\_encode\\_fcc/A001\\_K562\\_WSTARRseq/coverage/A001\\_K562\\_WSTARRseq\\_Input\\_rep1.MYC.unstranded.total\\_count.tsv   \\\\\n",
       "\t chr8 & 126735990 & 128736150 &  80975 & MYC   & Input\\_rep2  & Input  & /mount/work/out/proj\\_combeffect\\_encode\\_fcc/A001\\_K562\\_WSTARRseq/coverage/A001\\_K562\\_WSTARRseq\\_Input\\_rep2.MYC.unstranded.total\\_count.tsv   \\\\\n",
       "\t chr8 & 126735990 & 128736150 &  86249 & MYC   & Input\\_rep3  & Input  & /mount/work/out/proj\\_combeffect\\_encode\\_fcc/A001\\_K562\\_WSTARRseq/coverage/A001\\_K562\\_WSTARRseq\\_Input\\_rep3.MYC.unstranded.total\\_count.tsv   \\\\\n",
       "\t chr8 & 126735990 & 128736150 &  88547 & MYC   & Input\\_rep4  & Input  & /mount/work/out/proj\\_combeffect\\_encode\\_fcc/A001\\_K562\\_WSTARRseq/coverage/A001\\_K562\\_WSTARRseq\\_Input\\_rep4.MYC.unstranded.total\\_count.tsv   \\\\\n",
       "\t chr8 & 126735990 & 128736150 & 325883 & MYC   & Output\\_rep1 & Output & /mount/work/out/proj\\_combeffect\\_encode\\_fcc/A001\\_K562\\_WSTARRseq/coverage/A001\\_K562\\_WSTARRseq\\_Output\\_rep1.MYC.unstranded.total\\_count.tsv  \\\\\n",
       "\t chr8 & 126735990 & 128736150 & 140929 & MYC   & Output\\_rep2 & Output & /mount/work/out/proj\\_combeffect\\_encode\\_fcc/A001\\_K562\\_WSTARRseq/coverage/A001\\_K562\\_WSTARRseq\\_Output\\_rep2.MYC.unstranded.total\\_count.tsv  \\\\\n",
       "\t chr8 & 126735990 & 128736150 & 142585 & MYC   & Output\\_rep3 & Output & /mount/work/out/proj\\_combeffect\\_encode\\_fcc/A001\\_K562\\_WSTARRseq/coverage/A001\\_K562\\_WSTARRseq\\_Output\\_rep3.MYC.unstranded.total\\_count.tsv  \\\\\n",
       "\\end{tabular}\n"
      ],
      "text/markdown": [
       "\n",
       "A spec_tbl_df: 14 × 8\n",
       "\n",
       "| Chrom &lt;chr&gt; | Start &lt;dbl&gt; | End &lt;dbl&gt; | Count &lt;dbl&gt; | Region &lt;chr&gt; | Sample &lt;chr&gt; | Group &lt;chr&gt; | Fpath &lt;chr&gt; |\n",
       "|---|---|---|---|---|---|---|---|\n",
       "| chrX |  47786880 |  49786530 |  18574 | GATA1 | Input_rep1  | Input  | /mount/work/out/proj_combeffect_encode_fcc/A001_K562_WSTARRseq/coverage/A001_K562_WSTARRseq_Input_rep1.GATA1.unstranded.total_count.tsv  |\n",
       "| chrX |  47786880 |  49786530 |  68394 | GATA1 | Input_rep2  | Input  | /mount/work/out/proj_combeffect_encode_fcc/A001_K562_WSTARRseq/coverage/A001_K562_WSTARRseq_Input_rep2.GATA1.unstranded.total_count.tsv  |\n",
       "| chrX |  47786880 |  49786530 |  72125 | GATA1 | Input_rep3  | Input  | /mount/work/out/proj_combeffect_encode_fcc/A001_K562_WSTARRseq/coverage/A001_K562_WSTARRseq_Input_rep3.GATA1.unstranded.total_count.tsv  |\n",
       "| chrX |  47786880 |  49786530 |  74587 | GATA1 | Input_rep4  | Input  | /mount/work/out/proj_combeffect_encode_fcc/A001_K562_WSTARRseq/coverage/A001_K562_WSTARRseq_Input_rep4.GATA1.unstranded.total_count.tsv  |\n",
       "| chrX |  47786880 |  49786530 | 282656 | GATA1 | Output_rep1 | Output | /mount/work/out/proj_combeffect_encode_fcc/A001_K562_WSTARRseq/coverage/A001_K562_WSTARRseq_Output_rep1.GATA1.unstranded.total_count.tsv |\n",
       "| chrX |  47786880 |  49786530 | 126252 | GATA1 | Output_rep2 | Output | /mount/work/out/proj_combeffect_encode_fcc/A001_K562_WSTARRseq/coverage/A001_K562_WSTARRseq_Output_rep2.GATA1.unstranded.total_count.tsv |\n",
       "| chrX |  47786880 |  49786530 | 127008 | GATA1 | Output_rep3 | Output | /mount/work/out/proj_combeffect_encode_fcc/A001_K562_WSTARRseq/coverage/A001_K562_WSTARRseq_Output_rep3.GATA1.unstranded.total_count.tsv |\n",
       "| chr8 | 126735990 | 128736150 |  21870 | MYC   | Input_rep1  | Input  | /mount/work/out/proj_combeffect_encode_fcc/A001_K562_WSTARRseq/coverage/A001_K562_WSTARRseq_Input_rep1.MYC.unstranded.total_count.tsv    |\n",
       "| chr8 | 126735990 | 128736150 |  80975 | MYC   | Input_rep2  | Input  | /mount/work/out/proj_combeffect_encode_fcc/A001_K562_WSTARRseq/coverage/A001_K562_WSTARRseq_Input_rep2.MYC.unstranded.total_count.tsv    |\n",
       "| chr8 | 126735990 | 128736150 |  86249 | MYC   | Input_rep3  | Input  | /mount/work/out/proj_combeffect_encode_fcc/A001_K562_WSTARRseq/coverage/A001_K562_WSTARRseq_Input_rep3.MYC.unstranded.total_count.tsv    |\n",
       "| chr8 | 126735990 | 128736150 |  88547 | MYC   | Input_rep4  | Input  | /mount/work/out/proj_combeffect_encode_fcc/A001_K562_WSTARRseq/coverage/A001_K562_WSTARRseq_Input_rep4.MYC.unstranded.total_count.tsv    |\n",
       "| chr8 | 126735990 | 128736150 | 325883 | MYC   | Output_rep1 | Output | /mount/work/out/proj_combeffect_encode_fcc/A001_K562_WSTARRseq/coverage/A001_K562_WSTARRseq_Output_rep1.MYC.unstranded.total_count.tsv   |\n",
       "| chr8 | 126735990 | 128736150 | 140929 | MYC   | Output_rep2 | Output | /mount/work/out/proj_combeffect_encode_fcc/A001_K562_WSTARRseq/coverage/A001_K562_WSTARRseq_Output_rep2.MYC.unstranded.total_count.tsv   |\n",
       "| chr8 | 126735990 | 128736150 | 142585 | MYC   | Output_rep3 | Output | /mount/work/out/proj_combeffect_encode_fcc/A001_K562_WSTARRseq/coverage/A001_K562_WSTARRseq_Output_rep3.MYC.unstranded.total_count.tsv   |\n",
       "\n"
      ],
      "text/plain": [
       "   Chrom Start     End       Count  Region Sample      Group \n",
       "1  chrX   47786880  49786530  18574 GATA1  Input_rep1  Input \n",
       "2  chrX   47786880  49786530  68394 GATA1  Input_rep2  Input \n",
       "3  chrX   47786880  49786530  72125 GATA1  Input_rep3  Input \n",
       "4  chrX   47786880  49786530  74587 GATA1  Input_rep4  Input \n",
       "5  chrX   47786880  49786530 282656 GATA1  Output_rep1 Output\n",
       "6  chrX   47786880  49786530 126252 GATA1  Output_rep2 Output\n",
       "7  chrX   47786880  49786530 127008 GATA1  Output_rep3 Output\n",
       "8  chr8  126735990 128736150  21870 MYC    Input_rep1  Input \n",
       "9  chr8  126735990 128736150  80975 MYC    Input_rep2  Input \n",
       "10 chr8  126735990 128736150  86249 MYC    Input_rep3  Input \n",
       "11 chr8  126735990 128736150  88547 MYC    Input_rep4  Input \n",
       "12 chr8  126735990 128736150 325883 MYC    Output_rep1 Output\n",
       "13 chr8  126735990 128736150 140929 MYC    Output_rep2 Output\n",
       "14 chr8  126735990 128736150 142585 MYC    Output_rep3 Output\n",
       "   Fpath                                                                                                                                   \n",
       "1  /mount/work/out/proj_combeffect_encode_fcc/A001_K562_WSTARRseq/coverage/A001_K562_WSTARRseq_Input_rep1.GATA1.unstranded.total_count.tsv \n",
       "2  /mount/work/out/proj_combeffect_encode_fcc/A001_K562_WSTARRseq/coverage/A001_K562_WSTARRseq_Input_rep2.GATA1.unstranded.total_count.tsv \n",
       "3  /mount/work/out/proj_combeffect_encode_fcc/A001_K562_WSTARRseq/coverage/A001_K562_WSTARRseq_Input_rep3.GATA1.unstranded.total_count.tsv \n",
       "4  /mount/work/out/proj_combeffect_encode_fcc/A001_K562_WSTARRseq/coverage/A001_K562_WSTARRseq_Input_rep4.GATA1.unstranded.total_count.tsv \n",
       "5  /mount/work/out/proj_combeffect_encode_fcc/A001_K562_WSTARRseq/coverage/A001_K562_WSTARRseq_Output_rep1.GATA1.unstranded.total_count.tsv\n",
       "6  /mount/work/out/proj_combeffect_encode_fcc/A001_K562_WSTARRseq/coverage/A001_K562_WSTARRseq_Output_rep2.GATA1.unstranded.total_count.tsv\n",
       "7  /mount/work/out/proj_combeffect_encode_fcc/A001_K562_WSTARRseq/coverage/A001_K562_WSTARRseq_Output_rep3.GATA1.unstranded.total_count.tsv\n",
       "8  /mount/work/out/proj_combeffect_encode_fcc/A001_K562_WSTARRseq/coverage/A001_K562_WSTARRseq_Input_rep1.MYC.unstranded.total_count.tsv   \n",
       "9  /mount/work/out/proj_combeffect_encode_fcc/A001_K562_WSTARRseq/coverage/A001_K562_WSTARRseq_Input_rep2.MYC.unstranded.total_count.tsv   \n",
       "10 /mount/work/out/proj_combeffect_encode_fcc/A001_K562_WSTARRseq/coverage/A001_K562_WSTARRseq_Input_rep3.MYC.unstranded.total_count.tsv   \n",
       "11 /mount/work/out/proj_combeffect_encode_fcc/A001_K562_WSTARRseq/coverage/A001_K562_WSTARRseq_Input_rep4.MYC.unstranded.total_count.tsv   \n",
       "12 /mount/work/out/proj_combeffect_encode_fcc/A001_K562_WSTARRseq/coverage/A001_K562_WSTARRseq_Output_rep1.MYC.unstranded.total_count.tsv  \n",
       "13 /mount/work/out/proj_combeffect_encode_fcc/A001_K562_WSTARRseq/coverage/A001_K562_WSTARRseq_Output_rep2.MYC.unstranded.total_count.tsv  \n",
       "14 /mount/work/out/proj_combeffect_encode_fcc/A001_K562_WSTARRseq/coverage/A001_K562_WSTARRseq_Output_rep3.MYC.unstranded.total_count.tsv  "
      ]
     },
     "metadata": {},
     "output_type": "display_data"
    }
   ],
   "source": [
    "dat = bind_rows(lst)\n",
    "dat"
   ]
  },
  {
   "cell_type": "code",
   "execution_count": 6,
   "id": "11e89c23",
   "metadata": {},
   "outputs": [],
   "source": [
    "fdiry = file.path(FD_RES, prefix, \"coverage\", \"library_size\")\n",
    "fname = \"region_total_counts.csv\"\n",
    "fpath = file.path(fdiry, fname)\n",
    "\n",
    "write_csv(dat, fpath)"
   ]
  },
  {
   "cell_type": "code",
   "execution_count": null,
   "id": "c1d1c433",
   "metadata": {},
   "outputs": [],
   "source": []
  }
 ],
 "metadata": {
  "kernelspec": {
   "display_name": "R",
   "language": "R",
   "name": "ir"
  },
  "language_info": {
   "codemirror_mode": "r",
   "file_extension": ".r",
   "mimetype": "text/x-r-source",
   "name": "R",
   "pygments_lexer": "r",
   "version": "4.2.0"
  }
 },
 "nbformat": 4,
 "nbformat_minor": 5
}
