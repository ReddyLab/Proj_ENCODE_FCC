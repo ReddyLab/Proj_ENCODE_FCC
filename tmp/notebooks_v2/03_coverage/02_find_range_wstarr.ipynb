{
 "cells": [
  {
   "cell_type": "markdown",
   "id": "1d2df432",
   "metadata": {},
   "source": [
    "**Set environment**"
   ]
  },
  {
   "cell_type": "code",
   "execution_count": 1,
   "id": "4903dfe1",
   "metadata": {},
   "outputs": [
    {
     "name": "stdout",
     "output_type": "stream",
     "text": [
      "You are in Singularity: singularity_proj_combeffect \n",
      "BASE DIRECTORY:     /mount/work \n",
      "PATH OF SOURCE:     /mount/work/source \n",
      "PATH OF EXECUTABLE: /mount/work/exe \n",
      "PATH OF ANNOTATION: /mount/work/annotation \n",
      "PATH OF PROJECT:    /mount/project \n",
      "PATH OF RESULTS:    /mount/work/out/proj_combeffect_encode_fcc \n"
     ]
    }
   ],
   "source": [
    "suppressMessages(source(\"../config/config_sing.R\"))\n",
    "show_env()"
   ]
  },
  {
   "cell_type": "code",
   "execution_count": 2,
   "id": "d2ea4848",
   "metadata": {},
   "outputs": [],
   "source": [
    "FD_FRG = file.path(FD_RES, \"A001_K562_WSTARRseq\", \"fragment\")"
   ]
  },
  {
   "cell_type": "markdown",
   "id": "065d9d5d",
   "metadata": {},
   "source": [
    "## GATA1"
   ]
  },
  {
   "cell_type": "code",
   "execution_count": 3,
   "id": "b627d16c",
   "metadata": {},
   "outputs": [
    {
     "name": "stdout",
     "output_type": "stream",
     "text": [
      "[1] \"/mount/work/out/proj_combeffect_encode_fcc/A001_K562_WSTARRseq/fragment/A001_K562_WSTARRseq_Input_rep1.GATA1.unstranded.bed\" \n",
      "[2] \"/mount/work/out/proj_combeffect_encode_fcc/A001_K562_WSTARRseq/fragment/A001_K562_WSTARRseq_Input_rep2.GATA1.unstranded.bed\" \n",
      "[3] \"/mount/work/out/proj_combeffect_encode_fcc/A001_K562_WSTARRseq/fragment/A001_K562_WSTARRseq_Input_rep3.GATA1.unstranded.bed\" \n",
      "[4] \"/mount/work/out/proj_combeffect_encode_fcc/A001_K562_WSTARRseq/fragment/A001_K562_WSTARRseq_Input_rep4.GATA1.unstranded.bed\" \n",
      "[5] \"/mount/work/out/proj_combeffect_encode_fcc/A001_K562_WSTARRseq/fragment/A001_K562_WSTARRseq_Output_rep1.GATA1.unstranded.bed\"\n",
      "[6] \"/mount/work/out/proj_combeffect_encode_fcc/A001_K562_WSTARRseq/fragment/A001_K562_WSTARRseq_Output_rep2.GATA1.unstranded.bed\"\n",
      "[7] \"/mount/work/out/proj_combeffect_encode_fcc/A001_K562_WSTARRseq/fragment/A001_K562_WSTARRseq_Output_rep3.GATA1.unstranded.bed\"\n"
     ]
    }
   ],
   "source": [
    "fdiry  = FD_FRG\n",
    "fglob  = file.path(fdiry, \"*GATA1*unstranded*\")\n",
    "fpaths = Sys.glob(fglob)\n",
    "print(fpaths)"
   ]
  },
  {
   "cell_type": "code",
   "execution_count": 4,
   "id": "27b9a87c",
   "metadata": {},
   "outputs": [],
   "source": [
    "lst = lapply(fpaths, function(fpath){\n",
    "    dat = read_tsv(fpath, col_names = FALSE, show_col_types = FALSE)\n",
    "    res = c(unique(dat$X1), range(c(dat$X2, dat$X3)))\n",
    "    return(res)\n",
    "})"
   ]
  },
  {
   "cell_type": "code",
   "execution_count": 5,
   "id": "1cc254a4",
   "metadata": {},
   "outputs": [
    {
     "name": "stdout",
     "output_type": "stream",
     "text": [
      "  Chrom    Start      End\n",
      "1  chrX 47787533 49786464\n",
      "2  chrX 47787647 49786209\n",
      "3  chrX 47787223 49786223\n",
      "4  chrX 47787626 49786222\n",
      "5  chrX 47787192 49786518\n",
      "6  chrX 47787714 49786530\n",
      "7  chrX 47786887 49786530\n",
      "[1] 47786887\n",
      "[1] 49786530\n"
     ]
    }
   ],
   "source": [
    "dat = data.frame(do.call(rbind, lst))\n",
    "colnames(dat) = c(\"Chrom\", \"Start\", \"End\")\n",
    "dat$Start = as.integer(dat$Start)\n",
    "dat$End   = as.integer(dat$End)\n",
    "range_gata1 = dat\n",
    "\n",
    "print(dat)\n",
    "print(min(dat$Start))\n",
    "print(max(dat$End))"
   ]
  },
  {
   "cell_type": "markdown",
   "id": "b84ec2d8",
   "metadata": {},
   "source": [
    "**`WSTARR | GATA1 | chrX:47786887-49786530`**"
   ]
  },
  {
   "cell_type": "markdown",
   "id": "52c11b3c",
   "metadata": {},
   "source": [
    "## MYC"
   ]
  },
  {
   "cell_type": "code",
   "execution_count": 6,
   "id": "7bef00b0",
   "metadata": {},
   "outputs": [
    {
     "name": "stdout",
     "output_type": "stream",
     "text": [
      "[1] \"/mount/work/out/proj_combeffect_encode_fcc/A001_K562_WSTARRseq/fragment/A001_K562_WSTARRseq_Input_rep1.MYC.unstranded.bed\" \n",
      "[2] \"/mount/work/out/proj_combeffect_encode_fcc/A001_K562_WSTARRseq/fragment/A001_K562_WSTARRseq_Input_rep2.MYC.unstranded.bed\" \n",
      "[3] \"/mount/work/out/proj_combeffect_encode_fcc/A001_K562_WSTARRseq/fragment/A001_K562_WSTARRseq_Input_rep3.MYC.unstranded.bed\" \n",
      "[4] \"/mount/work/out/proj_combeffect_encode_fcc/A001_K562_WSTARRseq/fragment/A001_K562_WSTARRseq_Input_rep4.MYC.unstranded.bed\" \n",
      "[5] \"/mount/work/out/proj_combeffect_encode_fcc/A001_K562_WSTARRseq/fragment/A001_K562_WSTARRseq_Output_rep1.MYC.unstranded.bed\"\n",
      "[6] \"/mount/work/out/proj_combeffect_encode_fcc/A001_K562_WSTARRseq/fragment/A001_K562_WSTARRseq_Output_rep2.MYC.unstranded.bed\"\n",
      "[7] \"/mount/work/out/proj_combeffect_encode_fcc/A001_K562_WSTARRseq/fragment/A001_K562_WSTARRseq_Output_rep3.MYC.unstranded.bed\"\n"
     ]
    }
   ],
   "source": [
    "fdiry  = FD_FRG\n",
    "fglob  = file.path(fdiry, \"*MYC*unstranded*\")\n",
    "fpaths = Sys.glob(fglob)\n",
    "print(fpaths)"
   ]
  },
  {
   "cell_type": "code",
   "execution_count": 7,
   "id": "80e13e1b",
   "metadata": {},
   "outputs": [],
   "source": [
    "lst = lapply(fpaths, function(fpath){\n",
    "    dat = read_tsv(fpath, col_names = FALSE, show_col_types = FALSE)\n",
    "    res = c(unique(dat$X1), range(c(dat$X2, dat$X3)))\n",
    "    return(res)\n",
    "})"
   ]
  },
  {
   "cell_type": "code",
   "execution_count": 8,
   "id": "ef709df7",
   "metadata": {},
   "outputs": [
    {
     "name": "stdout",
     "output_type": "stream",
     "text": [
      "  Chrom     Start       End\n",
      "1  chr8 126736069 128736014\n",
      "2  chr8 126736050 128736067\n",
      "3  chr8 126736056 128736078\n",
      "4  chr8 126736043 128736089\n",
      "5  chr8 126735996 128736142\n",
      "6  chr8 126736056 128736089\n",
      "7  chr8 126736062 128736093\n",
      "[1] 126735996\n",
      "[1] 128736142\n"
     ]
    }
   ],
   "source": [
    "dat = data.frame(do.call(rbind, lst))\n",
    "colnames(dat) = c(\"Chrom\", \"Start\", \"End\")\n",
    "dat$Start = as.integer(dat$Start)\n",
    "dat$End   = as.integer(dat$End)\n",
    "range_myc = dat\n",
    "\n",
    "print(dat)\n",
    "print(min(dat$Start))\n",
    "print(max(dat$End))"
   ]
  },
  {
   "cell_type": "markdown",
   "id": "aa064009",
   "metadata": {},
   "source": [
    "**`WSTARR | MYC | chr8:126735996-128736142`**"
   ]
  },
  {
   "cell_type": "code",
   "execution_count": null,
   "id": "db9fd3b2",
   "metadata": {},
   "outputs": [],
   "source": []
  }
 ],
 "metadata": {
  "kernelspec": {
   "display_name": "R",
   "language": "R",
   "name": "ir"
  },
  "language_info": {
   "codemirror_mode": "r",
   "file_extension": ".r",
   "mimetype": "text/x-r-source",
   "name": "R",
   "pygments_lexer": "r",
   "version": "4.2.0"
  }
 },
 "nbformat": 4,
 "nbformat_minor": 5
}
