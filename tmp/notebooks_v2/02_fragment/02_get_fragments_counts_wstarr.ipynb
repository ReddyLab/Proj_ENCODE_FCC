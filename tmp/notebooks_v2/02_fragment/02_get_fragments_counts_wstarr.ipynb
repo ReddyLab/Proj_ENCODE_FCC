{
 "cells": [
  {
   "cell_type": "markdown",
   "id": "03795f1a-1c37-436b-b370-c8f3f434cdef",
   "metadata": {},
   "source": [
    "**Set environment**"
   ]
  },
  {
   "cell_type": "code",
   "execution_count": 1,
   "id": "415be444-e528-4553-8a02-71cca0428247",
   "metadata": {},
   "outputs": [
    {
     "name": "stdout",
     "output_type": "stream",
     "text": [
      "You are on Duke Server: HARDAC\n",
      "BASE DIRECTORY:     /gpfs/fs1/data/reddylab/Kuei\n",
      "PATH OF SOURCE:     /gpfs/fs1/data/reddylab/Kuei/source\n",
      "PATH OF EXECUTABLE: /gpfs/fs1/data/reddylab/Kuei/exe\n",
      "PATH OF ANNOTATION: /gpfs/fs1/data/reddylab/Kuei/annotation\n",
      "PATH OF PROJECT:    /gpfs/fs1/data/reddylab/Kuei/GitRepo/Proj_CombEffect_ENCODE_FCC/notebooks\n",
      "PATH OF RESULTS:    /gpfs/fs1/data/reddylab/Kuei/out/proj_combeffect_encode_fcc\n",
      "\n"
     ]
    }
   ],
   "source": [
    "source ../config/config_duke.sh; show_env"
   ]
  },
  {
   "cell_type": "markdown",
   "id": "689c78b6-d034-479b-9f21-6ff4a9654bb8",
   "metadata": {},
   "source": [
    "**Check data directory**"
   ]
  },
  {
   "cell_type": "code",
   "execution_count": 2,
   "id": "ffdb00fc-cb84-4bc9-94e7-3cf5efa81e55",
   "metadata": {},
   "outputs": [
    {
     "name": "stdout",
     "output_type": "stream",
     "text": [
      "\u001b[0m\u001b[38;5;27mA001_K562_wstarrseq_fragments\u001b[0m  \u001b[38;5;27mKS91_K562_astarrseq_fragments_220510\u001b[0m  Readme.md\n",
      "\u001b[38;5;27mannotation_cCREs\u001b[0m               \u001b[38;5;27mKS91_K562_astarrseq_peak_macs\u001b[0m         \u001b[38;5;27mtmp\u001b[0m\n",
      "\u001b[38;5;27mannotation_remap2022\u001b[0m           \u001b[38;5;27mMPRA\u001b[0m\n"
     ]
    }
   ],
   "source": [
    "ls ${FD_RES}/source"
   ]
  },
  {
   "cell_type": "code",
   "execution_count": 3,
   "id": "13d65329-58a7-4670-b76a-8f1059afd9b9",
   "metadata": {},
   "outputs": [
    {
     "name": "stdout",
     "output_type": "stream",
     "text": [
      "A001.K562.starrseq.GATA1.stranded.counts.txt\n",
      "A001.K562.starrseq.GATA1.unstranded.counts.txt\n",
      "A001.K562.starrseq.input.rep1.GATA1.fragment_counts.stranded.bed\n",
      "A001.K562.starrseq.input.rep1.GATA1.fragment_counts.unstranded.bed\n",
      "A001.K562.starrseq.input.rep1.MYC.fragment_counts.stranded.bed\n",
      "A001.K562.starrseq.input.rep1.MYC.fragment_counts.unstranded.bed\n",
      "A001.K562.starrseq.input.rep2.GATA1.fragment_counts.stranded.bed\n",
      "A001.K562.starrseq.input.rep2.GATA1.fragment_counts.unstranded.bed\n",
      "A001.K562.starrseq.input.rep2.MYC.fragment_counts.stranded.bed\n",
      "A001.K562.starrseq.input.rep2.MYC.fragment_counts.unstranded.bed\n",
      "A001.K562.starrseq.input.rep3.GATA1.fragment_counts.stranded.bed\n",
      "A001.K562.starrseq.input.rep3.GATA1.fragment_counts.unstranded.bed\n",
      "A001.K562.starrseq.input.rep3.MYC.fragment_counts.stranded.bed\n",
      "A001.K562.starrseq.input.rep3.MYC.fragment_counts.unstranded.bed\n",
      "A001.K562.starrseq.input.rep4.GATA1.fragment_counts.stranded.bed\n",
      "A001.K562.starrseq.input.rep4.GATA1.fragment_counts.unstranded.bed\n",
      "A001.K562.starrseq.input.rep4.MYC.fragment_counts.stranded.bed\n",
      "A001.K562.starrseq.input.rep4.MYC.fragment_counts.unstranded.bed\n",
      "A001.K562.starrseq.MYC.stranded.counts.txt\n",
      "A001.K562.starrseq.MYC.unstranded.counts.txt\n",
      "A001.K562.starrseq.output.rep1.GATA1.fragment_counts.stranded.bed\n",
      "A001.K562.starrseq.output.rep1.GATA1.fragment_counts.unstranded.bed\n",
      "A001.K562.starrseq.output.rep1.MYC.fragment_counts.stranded.bed\n",
      "A001.K562.starrseq.output.rep1.MYC.fragment_counts.unstranded.bed\n",
      "A001.K562.starrseq.output.rep2.GATA1.fragment_counts.stranded.bed\n",
      "A001.K562.starrseq.output.rep2.GATA1.fragment_counts.unstranded.bed\n",
      "A001.K562.starrseq.output.rep2.MYC.fragment_counts.stranded.bed\n",
      "A001.K562.starrseq.output.rep2.MYC.fragment_counts.unstranded.bed\n",
      "A001.K562.starrseq.output.rep3.GATA1.fragment_counts.stranded.bed\n",
      "A001.K562.starrseq.output.rep3.GATA1.fragment_counts.unstranded.bed\n",
      "A001.K562.starrseq.output.rep3.MYC.fragment_counts.stranded.bed\n",
      "A001.K562.starrseq.output.rep3.MYC.fragment_counts.unstranded.bed\n"
     ]
    }
   ],
   "source": [
    "ls ${FD_RES}/source/A001_K562_wstarrseq_fragments"
   ]
  },
  {
   "cell_type": "markdown",
   "id": "f10b4d39-1eea-4b3c-9ebc-0ac1cc992970",
   "metadata": {},
   "source": [
    "## View Kari's Whole-Genome-STARR data for GATA1 region"
   ]
  },
  {
   "cell_type": "markdown",
   "id": "d061b0fe-7827-494f-ad7c-c1f91c56fcc9",
   "metadata": {},
   "source": [
    "```\n",
    "A001.K562.starrseq.input.rep1.GATA1.fragment_counts.stranded.bed\n",
    "A001.K562.starrseq.input.rep1.GATA1.fragment_counts.unstranded.bed\n",
    "A001.K562.starrseq.output.rep1.GATA1.fragment_counts.stranded.bed\n",
    "A001.K562.starrseq.output.rep1.GATA1.fragment_counts.unstranded.bed\n",
    "```"
   ]
  },
  {
   "cell_type": "code",
   "execution_count": 7,
   "id": "a48a749f-f44c-4e8b-9c8d-e554878e92a9",
   "metadata": {},
   "outputs": [],
   "source": [
    "FDIRY=${FD_RES}/source/A001_K562_wstarrseq_fragments"
   ]
  },
  {
   "cell_type": "code",
   "execution_count": 14,
   "id": "92c9492f-ddaf-4c49-84b0-991b6f834d05",
   "metadata": {},
   "outputs": [
    {
     "name": "stdout",
     "output_type": "stream",
     "text": [
      "chrX\t47787533\t47787772\tchrX_47787533_47787772_+\t1\t+\n",
      "chrX\t47787569\t47787735\tchrX_47787569_47787735_+\t1\t+\n",
      "chrX\t47787714\t47788125\tchrX_47787714_47788125_-\t1\t-\n",
      "chrX\t47787767\t47788062\tchrX_47787767_47788062_+\t1\t+\n",
      "chrX\t47788341\t47788759\tchrX_47788341_47788759_-\t1\t-\n"
     ]
    }
   ],
   "source": [
    "FNAME=A001.K562.starrseq.input.rep1.GATA1.fragment_counts.stranded.bed\n",
    "head -5 ${FDIRY}/${FNAME}"
   ]
  },
  {
   "cell_type": "code",
   "execution_count": 15,
   "id": "09cf7f4f-5180-4c76-b791-4752d21789f2",
   "metadata": {},
   "outputs": [
    {
     "name": "stdout",
     "output_type": "stream",
     "text": [
      "chrX\t47787533\t47787772\tchrX_47787533_47787772\t1\t.\n",
      "chrX\t47787569\t47787735\tchrX_47787569_47787735\t1\t.\n",
      "chrX\t47787714\t47788125\tchrX_47787714_47788125\t1\t.\n",
      "chrX\t47787767\t47788062\tchrX_47787767_47788062\t1\t.\n",
      "chrX\t47788341\t47788759\tchrX_47788341_47788759\t1\t.\n"
     ]
    }
   ],
   "source": [
    "FNAME=A001.K562.starrseq.input.rep1.GATA1.fragment_counts.unstranded.bed\n",
    "head -5 ${FDIRY}/${FNAME}"
   ]
  },
  {
   "cell_type": "code",
   "execution_count": 27,
   "id": "4aa1f63d-d64a-417f-bd7c-1032816a2b17",
   "metadata": {},
   "outputs": [
    {
     "name": "stdout",
     "output_type": "stream",
     "text": [
      "chrX\t47787192\t47787770\tchrX_47787192_47787770\t1\t.\n",
      "chrX\t47787291\t47787629\tchrX_47787291_47787629\t1\t.\n",
      "chrX\t47787387\t47787777\tchrX_47787387_47787777\t1\t.\n",
      "chrX\t47787398\t47787769\tchrX_47787398_47787769\t2\t.\n",
      "chrX\t47787445\t47787784\tchrX_47787445_47787784\t1\t.\n"
     ]
    }
   ],
   "source": [
    "FNAME=A001.K562.starrseq.output.rep1.GATA1.fragment_counts.unstranded.bed\n",
    "head -5 ${FDIRY}/${FNAME}"
   ]
  },
  {
   "cell_type": "code",
   "execution_count": 13,
   "id": "4243e3e9-5e61-4890-8dd8-714031037c4d",
   "metadata": {},
   "outputs": [
    {
     "name": "stdout",
     "output_type": "stream",
     "text": [
      "chrX\t47787192\t47787770\tchrX_47787192_47787770_+\t1\t+\n",
      "chrX\t47787291\t47787629\tchrX_47787291_47787629_-\t1\t-\n",
      "chrX\t47787387\t47787777\tchrX_47787387_47787777_+\t1\t+\n",
      "chrX\t47787398\t47787769\tchrX_47787398_47787769_+\t2\t+\n",
      "chrX\t47787445\t47787784\tchrX_47787445_47787784_+\t1\t+\n"
     ]
    }
   ],
   "source": [
    "FNAME=A001.K562.starrseq.output.rep1.GATA1.fragment_counts.stranded.bed\n",
    "head -5 ${FDIRY}/${FNAME}"
   ]
  },
  {
   "cell_type": "markdown",
   "id": "d6d7d436-678e-4b84-88bd-ecd8dde26472",
   "metadata": {},
   "source": [
    "## Unstranded fragments"
   ]
  },
  {
   "cell_type": "markdown",
   "id": "5bc27c25-60e9-4425-bd39-4e358ff2d63e",
   "metadata": {},
   "source": [
    "**Input samples**"
   ]
  },
  {
   "cell_type": "code",
   "execution_count": 23,
   "id": "2299c583-bb0b-47dc-a8ae-3dc03fdbf25f",
   "metadata": {},
   "outputs": [
    {
     "name": "stdout",
     "output_type": "stream",
     "text": [
      "GATA1 Input_rep1\n",
      "A001.K562.starrseq.input.rep1.GATA1.fragment_counts.unstranded.bed\n",
      "A001_K562_WSTARRseq_Input_rep1.GATA1.unstranded.bed\n",
      "\n",
      "MYC Input_rep1\n",
      "A001.K562.starrseq.input.rep1.MYC.fragment_counts.unstranded.bed\n",
      "A001_K562_WSTARRseq_Input_rep1.MYC.unstranded.bed\n",
      "\n",
      "GATA1 Input_rep2\n",
      "A001.K562.starrseq.input.rep2.GATA1.fragment_counts.unstranded.bed\n",
      "A001_K562_WSTARRseq_Input_rep2.GATA1.unstranded.bed\n",
      "\n",
      "MYC Input_rep2\n",
      "A001.K562.starrseq.input.rep2.MYC.fragment_counts.unstranded.bed\n",
      "A001_K562_WSTARRseq_Input_rep2.MYC.unstranded.bed\n",
      "\n",
      "GATA1 Input_rep3\n",
      "A001.K562.starrseq.input.rep3.GATA1.fragment_counts.unstranded.bed\n",
      "A001_K562_WSTARRseq_Input_rep3.GATA1.unstranded.bed\n",
      "\n",
      "MYC Input_rep3\n",
      "A001.K562.starrseq.input.rep3.MYC.fragment_counts.unstranded.bed\n",
      "A001_K562_WSTARRseq_Input_rep3.MYC.unstranded.bed\n",
      "\n",
      "GATA1 Input_rep4\n",
      "A001.K562.starrseq.input.rep4.GATA1.fragment_counts.unstranded.bed\n",
      "A001_K562_WSTARRseq_Input_rep4.GATA1.unstranded.bed\n",
      "\n",
      "MYC Input_rep4\n",
      "A001.K562.starrseq.input.rep4.MYC.fragment_counts.unstranded.bed\n",
      "A001_K562_WSTARRseq_Input_rep4.MYC.unstranded.bed\n",
      "\n"
     ]
    }
   ],
   "source": [
    "FD_INP=\"${FD_RES}/source/A001_K562_wstarrseq_fragments\"\n",
    "FD_OUT=\"${FD_RES}/A001_K562_WSTARRseq/fragment\"\n",
    "PREFIX=\"A001_K562_WSTARRseq\"\n",
    "\n",
    "REGIONS=(\"GATA1\" \"MYC\")\n",
    "GROUP=\"Input\"\n",
    "STRAND=\"unstranded\"\n",
    "\n",
    "\n",
    "mkdir -p ${FD_OUT}\n",
    "\n",
    "for IDX in {1..4}; do\n",
    "    for REGION in ${REGIONS[@]}; do\n",
    "        ### copy and rename\n",
    "        SAMPLE=${GROUP}_rep${IDX}\n",
    "        FP_INP=$(ls ${FD_INP}/A001.K562.starrseq.input.rep${IDX}.${REGION}.*.${STRAND}.bed)\n",
    "        FP_OUT=${FD_OUT}/${PREFIX}_${SAMPLE}.${REGION}.${STRAND}.bed\n",
    "        \n",
    "        ### deduplicate for input samples\n",
    "        cat ${FP_INP} | awk -v OFS='\\t' {'print $1, $2, $3, $4, 1, $6'} > ${FP_OUT}\n",
    "        \n",
    "        ### Show progress\n",
    "        FN_INP=$(basename ${FP_INP})\n",
    "        FN_OUT=$(basename ${FP_OUT})\n",
    "        echo ${REGION} ${SAMPLE}\n",
    "        echo ${FN_INP}\n",
    "        echo ${FN_OUT}\n",
    "        echo\n",
    "    done\n",
    "done"
   ]
  },
  {
   "cell_type": "markdown",
   "id": "e1dd64df-6b9f-4d5f-86c9-a85273a05f50",
   "metadata": {},
   "source": [
    "**Output samples**"
   ]
  },
  {
   "cell_type": "code",
   "execution_count": 28,
   "id": "54935535-f258-4e65-9281-1645f3788449",
   "metadata": {},
   "outputs": [
    {
     "name": "stdout",
     "output_type": "stream",
     "text": [
      "GATA1 Output_rep1\n",
      "A001.K562.starrseq.output.rep1.GATA1.fragment_counts.unstranded.bed\n",
      "A001_K562_WSTARRseq_Output_rep1.GATA1.unstranded.bed\n",
      "\n",
      "MYC Output_rep1\n",
      "A001.K562.starrseq.output.rep1.MYC.fragment_counts.unstranded.bed\n",
      "A001_K562_WSTARRseq_Output_rep1.MYC.unstranded.bed\n",
      "\n",
      "GATA1 Output_rep2\n",
      "A001.K562.starrseq.output.rep2.GATA1.fragment_counts.unstranded.bed\n",
      "A001_K562_WSTARRseq_Output_rep2.GATA1.unstranded.bed\n",
      "\n",
      "MYC Output_rep2\n",
      "A001.K562.starrseq.output.rep2.MYC.fragment_counts.unstranded.bed\n",
      "A001_K562_WSTARRseq_Output_rep2.MYC.unstranded.bed\n",
      "\n",
      "GATA1 Output_rep3\n",
      "A001.K562.starrseq.output.rep3.GATA1.fragment_counts.unstranded.bed\n",
      "A001_K562_WSTARRseq_Output_rep3.GATA1.unstranded.bed\n",
      "\n",
      "MYC Output_rep3\n",
      "A001.K562.starrseq.output.rep3.MYC.fragment_counts.unstranded.bed\n",
      "A001_K562_WSTARRseq_Output_rep3.MYC.unstranded.bed\n",
      "\n"
     ]
    }
   ],
   "source": [
    "FD_INP=\"${FD_RES}/source/A001_K562_wstarrseq_fragments\"\n",
    "FD_OUT=\"${FD_RES}/A001_K562_WSTARRseq/fragment\"\n",
    "PREFIX=\"A001_K562_WSTARRseq\"\n",
    "\n",
    "REGIONS=(\"GATA1\" \"MYC\")\n",
    "GROUP=\"Output\"\n",
    "STRAND=\"unstranded\"\n",
    "\n",
    "\n",
    "mkdir -p ${FD_OUT}\n",
    "\n",
    "for IDX in {1..3}; do\n",
    "    for REGION in ${REGIONS[@]}; do\n",
    "        ### copy and rename\n",
    "        SAMPLE=${GROUP}_rep${IDX}\n",
    "        FP_INP=$(ls ${FD_INP}/A001.K562.starrseq.output.rep${IDX}.${REGION}.*.${STRAND}.bed)\n",
    "        FP_OUT=${FD_OUT}/${PREFIX}_${SAMPLE}.${REGION}.${STRAND}.bed\n",
    "        \n",
    "        ### copy\n",
    "        cp ${FP_INP} ${FP_OUT}\n",
    "        \n",
    "        ### Show progress\n",
    "        FN_INP=$(basename ${FP_INP})\n",
    "        FN_OUT=$(basename ${FP_OUT})\n",
    "        echo ${REGION} ${SAMPLE}\n",
    "        echo ${FN_INP}\n",
    "        echo ${FN_OUT}\n",
    "        echo\n",
    "    done\n",
    "done"
   ]
  },
  {
   "cell_type": "markdown",
   "id": "063018be-8ce9-4b10-ac2c-563b90256c18",
   "metadata": {},
   "source": [
    "## Stranded fragments"
   ]
  },
  {
   "cell_type": "markdown",
   "id": "f4d6a12c-8e6d-46df-b5dc-f92fad498558",
   "metadata": {},
   "source": [
    "**Input samples**"
   ]
  },
  {
   "cell_type": "code",
   "execution_count": 29,
   "id": "40a41c42-434c-4af6-898f-2cbc9adddac7",
   "metadata": {},
   "outputs": [
    {
     "name": "stdout",
     "output_type": "stream",
     "text": [
      "GATA1 Input_rep1\n",
      "A001.K562.starrseq.input.rep1.GATA1.fragment_counts.stranded.bed\n",
      "A001_K562_WSTARRseq_Input_rep1.GATA1.stranded_pos.bed\n",
      "A001_K562_WSTARRseq_Input_rep1.GATA1.stranded_neg.bed\n",
      "\n",
      "MYC Input_rep1\n",
      "A001.K562.starrseq.input.rep1.MYC.fragment_counts.stranded.bed\n",
      "A001_K562_WSTARRseq_Input_rep1.MYC.stranded_pos.bed\n",
      "A001_K562_WSTARRseq_Input_rep1.MYC.stranded_neg.bed\n",
      "\n",
      "GATA1 Input_rep2\n",
      "A001.K562.starrseq.input.rep2.GATA1.fragment_counts.stranded.bed\n",
      "A001_K562_WSTARRseq_Input_rep2.GATA1.stranded_pos.bed\n",
      "A001_K562_WSTARRseq_Input_rep2.GATA1.stranded_neg.bed\n",
      "\n",
      "MYC Input_rep2\n",
      "A001.K562.starrseq.input.rep2.MYC.fragment_counts.stranded.bed\n",
      "A001_K562_WSTARRseq_Input_rep2.MYC.stranded_pos.bed\n",
      "A001_K562_WSTARRseq_Input_rep2.MYC.stranded_neg.bed\n",
      "\n",
      "GATA1 Input_rep3\n",
      "A001.K562.starrseq.input.rep3.GATA1.fragment_counts.stranded.bed\n",
      "A001_K562_WSTARRseq_Input_rep3.GATA1.stranded_pos.bed\n",
      "A001_K562_WSTARRseq_Input_rep3.GATA1.stranded_neg.bed\n",
      "\n",
      "MYC Input_rep3\n",
      "A001.K562.starrseq.input.rep3.MYC.fragment_counts.stranded.bed\n",
      "A001_K562_WSTARRseq_Input_rep3.MYC.stranded_pos.bed\n",
      "A001_K562_WSTARRseq_Input_rep3.MYC.stranded_neg.bed\n",
      "\n",
      "GATA1 Input_rep4\n",
      "A001.K562.starrseq.input.rep4.GATA1.fragment_counts.stranded.bed\n",
      "A001_K562_WSTARRseq_Input_rep4.GATA1.stranded_pos.bed\n",
      "A001_K562_WSTARRseq_Input_rep4.GATA1.stranded_neg.bed\n",
      "\n",
      "MYC Input_rep4\n",
      "A001.K562.starrseq.input.rep4.MYC.fragment_counts.stranded.bed\n",
      "A001_K562_WSTARRseq_Input_rep4.MYC.stranded_pos.bed\n",
      "A001_K562_WSTARRseq_Input_rep4.MYC.stranded_neg.bed\n",
      "\n"
     ]
    }
   ],
   "source": [
    "FD_INP=\"${FD_RES}/source/A001_K562_wstarrseq_fragments\"\n",
    "FD_OUT=\"${FD_RES}/A001_K562_WSTARRseq/fragment\"\n",
    "PREFIX=\"A001_K562_WSTARRseq\"\n",
    "\n",
    "REGIONS=(\"GATA1\" \"MYC\")\n",
    "STRAND=\"stranded\"\n",
    "GROUP=\"Input\"\n",
    "\n",
    "for IDX in {1..4}; do\n",
    "    for REGION in ${REGIONS[@]}; do\n",
    "        ### set input file\n",
    "        SAMPLE=${GROUP}_rep${IDX}\n",
    "        FP_INP=$(ls ${FD_INP}/A001.K562.starrseq.input.rep${IDX}.${REGION}.*.${STRAND}.bed)\n",
    "        FN_INP=$(basename ${FP_INP})\n",
    "        echo ${REGION} ${SAMPLE}\n",
    "        echo ${FN_INP}\n",
    "        \n",
    "        ### positive/forward strand\n",
    "        FP_OUT=${FD_OUT}/${PREFIX}_${SAMPLE}.${REGION}.${STRAND}_pos.bed\n",
    "        FN_OUT=$(basename ${FP_OUT})\n",
    "        cat ${FP_INP} |\\\n",
    "            awk '{ if ($6 == \"+\") { print } }' |\\\n",
    "            awk -v OFS='\\t' {'print $1, $2, $3, $4, 1, $6'} > ${FP_OUT}\n",
    "        echo ${FN_OUT}\n",
    "        \n",
    "        ### negative/reverse strand\n",
    "        FP_OUT=${FD_OUT}/${PREFIX}_${SAMPLE}.${REGION}.${STRAND}_neg.bed\n",
    "        FN_OUT=$(basename ${FP_OUT})\n",
    "        cat ${FP_INP} |\\\n",
    "            awk '{ if ($6 == \"-\") { print } }' |\\\n",
    "            awk -v OFS='\\t' {'print $1, $2, $3, $4, 1, $6'} > ${FP_OUT}\n",
    "        echo ${FN_OUT}\n",
    "        echo\n",
    "    done\n",
    "done"
   ]
  },
  {
   "cell_type": "markdown",
   "id": "e70fd5f0-122a-4119-bc32-47f1fd4ffd17",
   "metadata": {},
   "source": [
    "**Output samples**"
   ]
  },
  {
   "cell_type": "code",
   "execution_count": 30,
   "id": "954e9038-4580-4ed7-8ea8-420c9cc326fb",
   "metadata": {},
   "outputs": [
    {
     "name": "stdout",
     "output_type": "stream",
     "text": [
      "GATA1 Output_rep1\n",
      "A001.K562.starrseq.output.rep1.GATA1.fragment_counts.stranded.bed\n",
      "A001_K562_WSTARRseq_Output_rep1.GATA1.stranded_pos.bed\n",
      "A001_K562_WSTARRseq_Output_rep1.GATA1.stranded_neg.bed\n",
      "\n",
      "MYC Output_rep1\n",
      "A001.K562.starrseq.output.rep1.MYC.fragment_counts.stranded.bed\n",
      "A001_K562_WSTARRseq_Output_rep1.MYC.stranded_pos.bed\n",
      "A001_K562_WSTARRseq_Output_rep1.MYC.stranded_neg.bed\n",
      "\n",
      "GATA1 Output_rep2\n",
      "A001.K562.starrseq.output.rep2.GATA1.fragment_counts.stranded.bed\n",
      "A001_K562_WSTARRseq_Output_rep2.GATA1.stranded_pos.bed\n",
      "A001_K562_WSTARRseq_Output_rep2.GATA1.stranded_neg.bed\n",
      "\n",
      "MYC Output_rep2\n",
      "A001.K562.starrseq.output.rep2.MYC.fragment_counts.stranded.bed\n",
      "A001_K562_WSTARRseq_Output_rep2.MYC.stranded_pos.bed\n",
      "A001_K562_WSTARRseq_Output_rep2.MYC.stranded_neg.bed\n",
      "\n",
      "GATA1 Output_rep3\n",
      "A001.K562.starrseq.output.rep3.GATA1.fragment_counts.stranded.bed\n",
      "A001_K562_WSTARRseq_Output_rep3.GATA1.stranded_pos.bed\n",
      "A001_K562_WSTARRseq_Output_rep3.GATA1.stranded_neg.bed\n",
      "\n",
      "MYC Output_rep3\n",
      "A001.K562.starrseq.output.rep3.MYC.fragment_counts.stranded.bed\n",
      "A001_K562_WSTARRseq_Output_rep3.MYC.stranded_pos.bed\n",
      "A001_K562_WSTARRseq_Output_rep3.MYC.stranded_neg.bed\n",
      "\n"
     ]
    }
   ],
   "source": [
    "FD_INP=\"${FD_RES}/source/A001_K562_wstarrseq_fragments\"\n",
    "FD_OUT=\"${FD_RES}/A001_K562_WSTARRseq/fragment\"\n",
    "PREFIX=\"A001_K562_WSTARRseq\"\n",
    "\n",
    "REGIONS=(\"GATA1\" \"MYC\")\n",
    "STRAND=\"stranded\"\n",
    "GROUP=\"Output\"\n",
    "\n",
    "for IDX in {1..3}; do\n",
    "    for REGION in ${REGIONS[@]}; do\n",
    "        ### set input file\n",
    "        SAMPLE=${GROUP}_rep${IDX}\n",
    "        FP_INP=$(ls ${FD_INP}/A001.K562.starrseq.output.rep${IDX}.${REGION}.*.${STRAND}.bed)\n",
    "        FN_INP=$(basename ${FP_INP})\n",
    "        echo ${REGION} ${SAMPLE}\n",
    "        echo ${FN_INP}\n",
    "        \n",
    "        ### positive/forward strand\n",
    "        FP_OUT=${FD_OUT}/${PREFIX}_${SAMPLE}.${REGION}.${STRAND}_pos.bed\n",
    "        FN_OUT=$(basename ${FP_OUT})\n",
    "        cat ${FP_INP} | awk '{ if ($6 == \"+\") { print } }' > ${FP_OUT}\n",
    "        echo ${FN_OUT}\n",
    "        \n",
    "        ### negative/reverse strand\n",
    "        FP_OUT=${FD_OUT}/${PREFIX}_${SAMPLE}.${REGION}.${STRAND}_neg.bed\n",
    "        FN_OUT=$(basename ${FP_OUT})\n",
    "        cat ${FP_INP} | awk '{ if ($6 == \"-\") { print } }' > ${FP_OUT}\n",
    "        echo ${FN_OUT}\n",
    "        echo\n",
    "    done\n",
    "done"
   ]
  },
  {
   "cell_type": "markdown",
   "id": "4b4c8c37-0a22-4df1-ad54-de959a60fb9e",
   "metadata": {},
   "source": [
    "## Get fragment counts"
   ]
  },
  {
   "cell_type": "code",
   "execution_count": 31,
   "id": "9a665c71-8e89-47b9-bbfa-4b2e7475ae0b",
   "metadata": {},
   "outputs": [],
   "source": [
    "FD_INP=\"${FD_RES}/A001_K562_WSTARRseq/fragment\"\n",
    "FD_OUT=\"${FD_RES}/A001_K562_WSTARRseq/fragment_count\"\n",
    "cp -R ${FD_INP} ${FD_OUT}"
   ]
  },
  {
   "cell_type": "code",
   "execution_count": null,
   "id": "6cad57ec-df6b-465a-8d79-08432b809352",
   "metadata": {},
   "outputs": [],
   "source": []
  }
 ],
 "metadata": {
  "kernelspec": {
   "display_name": "Bash",
   "language": "bash",
   "name": "bash"
  },
  "language_info": {
   "codemirror_mode": "shell",
   "file_extension": ".sh",
   "mimetype": "text/x-sh",
   "name": "bash"
  }
 },
 "nbformat": 4,
 "nbformat_minor": 5
}
