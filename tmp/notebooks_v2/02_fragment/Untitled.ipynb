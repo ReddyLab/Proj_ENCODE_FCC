{
 "cells": [
  {
   "cell_type": "code",
   "execution_count": 3,
   "id": "7637a2c1",
   "metadata": {},
   "outputs": [
    {
     "name": "stdout",
     "output_type": "stream",
     "text": [
      "You are in Singularity: singularity_proj_combeffect \n",
      "BASE DIRECTORY:     /mount/work \n",
      "PATH OF SOURCE:     /mount/work/source \n",
      "PATH OF EXECUTABLE: /mount/work/exe \n",
      "PATH OF ANNOTATION: /mount/work/annotation \n",
      "PATH OF PROJECT:    /mount/project \n",
      "PATH OF RESULTS:    /mount/work/out/proj_combeffect_encode_fcc \n"
     ]
    }
   ],
   "source": [
    "suppressMessages(suppressWarnings(source(\"../config/config_sing.R\")))\n",
    "show_env()"
   ]
  },
  {
   "cell_type": "code",
   "execution_count": 4,
   "id": "7804a461",
   "metadata": {},
   "outputs": [
    {
     "name": "stdout",
     "output_type": "stream",
     "text": [
      "[1] \"OL13_20220512_counts.out\"                \n",
      "[2] \"OL13_20220512_normalized_counts.out\"     \n",
      "[3] \"OL43_20211228_counts.out\"                \n",
      "[4] \"OL43_20211228_normalized_counts.out\"     \n",
      "[5] \"OL43_20221003_counts.out\"                \n",
      "[6] \"OL43_20221003_K562_normalized_counts.out\"\n",
      "[7] \"OL45_20220927_counts.out\"                \n",
      "[8] \"OL45_20220927_K562_normalized_counts.out\"\n"
     ]
    }
   ],
   "source": [
    "fdiry = file.path(FD_RES, \"source\", \"MPRA\", \"Tewhey_TMPRA\", \"tiling_counts\")\n",
    "print(dir(fdiry))"
   ]
  },
  {
   "cell_type": "markdown",
   "id": "52f2b893",
   "metadata": {},
   "source": [
    "## Import data: FADS"
   ]
  },
  {
   "cell_type": "code",
   "execution_count": 40,
   "id": "007df644",
   "metadata": {},
   "outputs": [
    {
     "name": "stdout",
     "output_type": "stream",
     "text": [
      "                                               Name plasmid_r1 plasmid_r2\n",
      "1       (11:61555216-61555415;11:61555315:T:C_A_wC)       1609       1221\n",
      "2 (11:61555231-61555430_RC;11:61555330:T:C_A_wC_RC)       1179        582\n",
      "3 (11:61555315:T:C_A_wC_RC;11:61555216-61555415_RC)       1066        643\n",
      "4       (11:61555330:T:C_A_wC;11:61555231-61555430)       1063        701\n",
      "5 (11:61555366-61555565_RC;11:61555465:A:G_A_wC_RC)       1239        722\n",
      "6       (11:61555366-61555565;11:61555465:A:G_A_wC)       1362        885\n",
      "  plasmid_r3 plasmid_r4 k562_r1 k562_r2 k562_r3 k562_r4\n",
      "1       1396        798     845     283     574    1223\n",
      "2       1225        721     476     416     912     956\n",
      "3       1206        681     470     846     540     847\n",
      "4        786        416     357     568     599     518\n",
      "5       1341        682     311     421     604     556\n",
      "6       1213        856     407      49     519     344\n",
      "++++++++++++++++++++++++++++++++++++++++\n",
      "             Name plasmid_r1 plasmid_r2 plasmid_r3 plasmid_r4 k562_r1 k562_r2\n",
      "55224 rs9672127_A       1100        666        811        695     261     252\n",
      "55225 rs9749442_A        784        398        904        472   77083   76360\n",
      "55226 rs9815834_A        267        243        307        205      63      98\n",
      "55227 rs9848848_A        393        248        391        170     159      46\n",
      "55228 rs9871549_A        522        220        417        174      83     135\n",
      "55229 rs9886992_A        782        271        472        252     936     738\n",
      "      k562_r3 k562_r4\n",
      "55224     288     403\n",
      "55225  106964   80767\n",
      "55226      28     447\n",
      "55227     100     215\n",
      "55228     150     154\n",
      "55229    1248    1149\n"
     ]
    }
   ],
   "source": [
    "fname = \"OL13_20220512_counts.out\"\n",
    "fpath = file.path(fdiry, fname)\n",
    "dat = read.table(fpath, row.names=1)\n",
    "dat = dat %>% rownames_to_column(var = \"Name\")\n",
    "dat_fads_raw = dat\n",
    "\n",
    "print(head(dat_fads_raw))\n",
    "cat(\"++++++++++++++++++++++++++++++++++++++++\\n\")\n",
    "print(tail(dat_fads_raw))"
   ]
  },
  {
   "cell_type": "code",
   "execution_count": 39,
   "id": "87472e6f",
   "metadata": {},
   "outputs": [
    {
     "name": "stdout",
     "output_type": "stream",
     "text": [
      "                                               Name plasmid_r1 plasmid_r2\n",
      "1       (11:61555216-61555415;11:61555315:T:C_A_wC)   881.8510  1196.3976\n",
      "2 (11:61555231-61555430_RC;11:61555330:T:C_A_wC_RC)   646.1792   570.2730\n",
      "3 (11:61555315:T:C_A_wC_RC;11:61555216-61555415_RC)   584.2468   630.0439\n",
      "4       (11:61555330:T:C_A_wC;11:61555231-61555430)   582.6026   686.8753\n",
      "5 (11:61555366-61555565_RC;11:61555465:A:G_A_wC_RC)   679.0636   707.4521\n",
      "6       (11:61555366-61555565;11:61555465:A:G_A_wC)   746.4767   867.1678\n",
      "  plasmid_r3 plasmid_r4   k562_r1   k562_r2   k562_r3   k562_r4\n",
      "1   855.5317   774.9257 1807.9470  569.6449  730.4747 1493.4449\n",
      "2   750.7352   700.1522 1018.4412  837.3579 1160.6148 1167.4025\n",
      "3   739.0912   661.3088 1005.6037 1702.8961  687.2061 1034.2991\n",
      "4   481.6962   403.9713  763.8309 1143.3156  762.2898  632.5466\n",
      "5   821.8253   662.2799  665.4101  847.4223  768.6528  678.9496\n",
      "6   743.3811   831.2486  870.8100   98.6311  660.4815  420.0695\n",
      "++++++++++++++++++++++++++++++++++++++++\n",
      "             Name plasmid_r1 plasmid_r2 plasmid_r3 plasmid_r4     k562_r1\n",
      "55224 rs9672127_A   602.8813   652.5805   497.0174   674.9040    558.4310\n",
      "55225 rs9749442_A   429.6900   389.9805   554.0120   458.3521 164925.4227\n",
      "55226 rs9815834_A   146.3357   238.1037   188.1434   199.0724    134.7937\n",
      "55227 rs9848848_A   215.3931   243.0029   239.6224   165.0844    340.1936\n",
      "55228 rs9871549_A   286.0946   215.5671   255.5564   168.9688    177.5853\n",
      "55229 rs9886992_A   428.5938   265.5395   289.2629   244.7134   2002.6490\n",
      "           k562_r2      k562_r3    k562_r4\n",
      "55224    507.24565    366.50994   492.1163\n",
      "55225 153703.48254 136122.80907 98627.1977\n",
      "55226    197.26220     35.63291   545.8462\n",
      "55227     92.59246    127.26040   262.5435\n",
      "55228    271.73874    190.89059   188.0544\n",
      "55229   1485.50511   1588.20973  1403.0811\n"
     ]
    }
   ],
   "source": [
    "fname = \"OL13_20220512_normalized_counts.out\"\n",
    "fpath = file.path(fdiry, fname)\n",
    "dat = read.table(fpath, row.names=1)\n",
    "dat = dat %>% rownames_to_column(var = \"Name\")\n",
    "dat_fads_norm = dat\n",
    "\n",
    "print(head(dat_fads_norm))\n",
    "cat(\"++++++++++++++++++++++++++++++++++++++++\\n\")\n",
    "print(tail(dat_fads_norm))"
   ]
  },
  {
   "cell_type": "markdown",
   "id": "7eee186e",
   "metadata": {},
   "source": [
    "## Import"
   ]
  },
  {
   "cell_type": "code",
   "execution_count": 41,
   "id": "850dd4aa",
   "metadata": {},
   "outputs": [
    {
     "name": "stdout",
     "output_type": "stream",
     "text": [
      "                                                     Name plasmid_r1 plasmid_r2\n",
      "1           (8:127381651-127381850;8:127320401-127320600)       1318       1810\n",
      "2 (8:127742001-127742200;Nadav:negCtrl:seq31776.neg1.MYC)        634        730\n",
      "3 (8:128045001-128045200;Nadav:posCtrl:seq31797.pos5.MYC)        416        432\n",
      "4 (8:128176951-128177150;Nadav:negCtrl:seq31802.neg5.MYC)       1150       1271\n",
      "5  (X:48782961-48783160;Nadav:posCtrl:ENSG00000102317.270        345        370\n",
      "6          (X:48800591-48800790;Nadav:posCtrl:pos2.GATA1)       1008       1075\n",
      "  plasmid_r3 plasmid_r4 plasmid_r5 plasmid_r6 K562_r1 K562_r2 K562_r3 K562_r4\n",
      "1       1477       1505        738        687     620     636     781     520\n",
      "2        698        761        316        343     158     194     268     141\n",
      "3        418        409        181        211   11164    6818   12118    9512\n",
      "4       1325       1255        597        580   14919    9299   28832   15790\n",
      "5        389        373        211        187   17116   10370   22126   16725\n",
      "6       1137       1049        531        528    9987    7807   13192    9978\n",
      "  K562_r5\n",
      "1     538\n",
      "2     251\n",
      "3   10450\n",
      "4   19501\n",
      "5   18361\n",
      "6   11306\n",
      "++++++++++++++++++++++++++++++++++++++++\n",
      "                     Name plasmid_r1 plasmid_r2 plasmid_r3 plasmid_r4\n",
      "99302 X:49880301-49880500        694        910        731        809\n",
      "99303 X:49880351-49880550        816        897        825        812\n",
      "99304 X:49880401-49880600        346        390        370        332\n",
      "99305 X:49880451-49880650        463        489        432        536\n",
      "99306    X:64815540:NA:NA       1365       1641       1415       1427\n",
      "99307    X:69674065:NA:NA       1899       1875       1808       1685\n",
      "      plasmid_r5 plasmid_r6 K562_r1 K562_r2 K562_r3 K562_r4 K562_r5\n",
      "99302        375        366     278     233     445     257     308\n",
      "99303        365        377     323     273     530     371     482\n",
      "99304        158        181     152     123     269     137     178\n",
      "99305        241        278     230     240     366     273     352\n",
      "99306        703        698   19011   14198   23520   17595   18655\n",
      "99307        909        954    1008    1099    1473     957    1326\n"
     ]
    }
   ],
   "source": [
    "fname = \"OL43_20221003_counts.out\"\n",
    "fpath = file.path(fdiry, fname)\n",
    "dat = read.table(fpath, row.names=1)\n",
    "dat = dat %>% rownames_to_column(var = \"Name\")\n",
    "dat_gatamyc_raw = dat\n",
    "\n",
    "print(head(dat_gatamyc_raw))\n",
    "cat(\"++++++++++++++++++++++++++++++++++++++++\\n\")\n",
    "print(tail(dat_gatamyc_raw))"
   ]
  },
  {
   "cell_type": "code",
   "execution_count": 43,
   "id": "1c8461b7",
   "metadata": {},
   "outputs": [
    {
     "name": "stdout",
     "output_type": "stream",
     "text": [
      "                                                     Name plasmid_r1 plasmid_r2\n",
      "1           (8:127381651-127381850;8:127320401-127320600)   887.4466  1078.7715\n",
      "2 (8:127742001-127742200;Nadav:negCtrl:seq31776.neg1.MYC)   426.8901   435.0846\n",
      "3 (8:128045001-128045200;Nadav:posCtrl:seq31797.pos5.MYC)   280.1045   257.4747\n",
      "4 (8:128176951-128177150;Nadav:negCtrl:seq31802.neg5.MYC)   774.3274   757.5241\n",
      "5  (X:48782961-48783160;Nadav:posCtrl:ENSG00000102317.270   232.2982   220.5223\n",
      "6          (X:48800591-48800790;Nadav:posCtrl:pos2.GATA1)   678.7148   640.7068\n",
      "  plasmid_r3 plasmid_r4 plasmid_r5 plasmid_r6    K562_r1    K562_r2    K562_r3\n",
      "1   946.8314   945.7219   962.3235   893.9085   961.7725  1136.6673   842.9706\n",
      "2   447.4531   478.2022   412.0518   446.3037   245.0969   346.7193   289.2652\n",
      "3   267.9590   257.0101   236.0170   274.5483 17318.1102 12185.2169 13079.5358\n",
      "4   849.3917   788.6253   778.4649   754.6826 23143.0388 16619.2919 31119.7539\n",
      "5   249.3686   234.3882   275.1359   243.3201 26551.1262 18533.3969 23881.6480\n",
      "6   728.8743   659.1776   692.4035   687.0214 15492.2936 13952.7704 14238.7553\n",
      "     K562_r4    K562_r5\n",
      "1   896.6654   760.1443\n",
      "2   243.1343   354.6398\n",
      "3 16402.0789 14764.8855\n",
      "4 27227.5890 27553.1130\n",
      "5 28839.8623 25942.3983\n",
      "6 17205.6291 15974.3344\n",
      "++++++++++++++++++++++++++++++++++++++++\n",
      "                     Name plasmid_r1 plasmid_r2 plasmid_r3 plasmid_r4\n",
      "99302 X:49880301-49880500   467.2898   542.3658   468.6078   508.3648\n",
      "99303 X:49880351-49880550   549.4358   534.6177   528.8665   510.2500\n",
      "99304 X:49880401-49880600   232.9716   232.4425   237.1886   208.6244\n",
      "99305 X:49880451-49880650   311.7510   291.4471   276.9338   336.8152\n",
      "99306    X:64815540:NA:NA   919.0930   978.0464   907.0863   896.7078\n",
      "99307    X:69674065:NA:NA  1278.6503  1117.5119  1159.0190  1058.8315\n",
      "      plasmid_r5 plasmid_r6    K562_r1    K562_r2    K562_r3    K562_r4\n",
      "99302   488.9855   476.2307   431.2464   416.4206   480.3097   443.1596\n",
      "99303   475.9459   490.5437   501.0525   487.9091   572.0543   639.7363\n",
      "99304   206.0259   235.5130   235.7894   219.8272   290.3445   236.2368\n",
      "99305   314.2547   361.7272   356.7866   428.9311   395.0413   470.7493\n",
      "99306   916.6848   908.2215 29490.7374 25374.8475 25386.2587 30340.0525\n",
      "99307  1185.3009  1241.3228  1563.6560  1964.1469  1589.8792  1650.2092\n",
      "         K562_r5\n",
      "99302   435.1756\n",
      "99303   681.0215\n",
      "99304   251.4976\n",
      "99305   497.3435\n",
      "99306 26357.7931\n",
      "99307  1873.5156\n"
     ]
    }
   ],
   "source": [
    "fname = \"OL43_20221003_K562_normalized_counts.out\"\n",
    "fpath = file.path(fdiry, fname)\n",
    "dat = read.table(fpath, row.names=1)\n",
    "dat = dat %>% rownames_to_column(var = \"Name\")\n",
    "dat_gatamyc_norm = dat\n",
    "\n",
    "print(head(dat_gatamyc_norm))\n",
    "cat(\"++++++++++++++++++++++++++++++++++++++++\\n\")\n",
    "print(tail(dat_gatamyc_norm))"
   ]
  },
  {
   "cell_type": "markdown",
   "id": "2aa4ae22",
   "metadata": {},
   "source": [
    "## Import"
   ]
  },
  {
   "cell_type": "code",
   "execution_count": 47,
   "id": "3c32a85f",
   "metadata": {},
   "outputs": [
    {
     "name": "stdout",
     "output_type": "stream",
     "text": [
      "                                                                  Name\n",
      "1 (Nadav:posCtrl:seq33763.pos1.GATA1;Nadav:posCtrl:ENSG00000102317.270\n",
      "2                                                  1:10437778:C:T:R:wC\n",
      "3                                                  1:10451799:C:T:R:wC\n",
      "4                                                 1:110198727:C:G:R:wC\n",
      "5                                                    1:110881742:NA:NA\n",
      "6                                                 1:111838694:C:T:R:wC\n",
      "  plasmid_r1 plasmid_r2 plasmid_r3 plasmid_r4 K562_r1 K562_r2 K562_r3 K562_r4\n",
      "1        897        717        761        724   56816   37391   36946   52349\n",
      "2        645        437        491        493    2239    1698    1202    2532\n",
      "3        603        584        512        429     336     280     321     333\n",
      "4        681        589        628        550   46046   37138   33992   53823\n",
      "5        930        795        874        765   24701   18211   17386   29053\n",
      "6        834        579        755        763   34228   34188   32379   37480\n",
      "++++++++++++++++++++++++++++++++++++++++\n",
      "                  Name plasmid_r1 plasmid_r2 plasmid_r3 plasmid_r4 K562_r1\n",
      "94376 X:24819107:NA:NA        667        588        585        534     421\n",
      "94377 X:24893812:NA:NA        809        716        698        723     485\n",
      "94378 X:39110157:NA:NA        509        425        551        474     428\n",
      "94379 X:49154578:NA:NA        868        776        830        720     535\n",
      "94380 X:64815540:NA:NA        603        522        498        525   10737\n",
      "94381 X:69674065:NA:NA       1461       1287       1267       1226    1172\n",
      "      K562_r2 K562_r3 K562_r4\n",
      "94376     247     320     418\n",
      "94377     582     341     553\n",
      "94378     237     310     372\n",
      "94379     373     435     648\n",
      "94380    9883    9705   13399\n",
      "94381    1016     954    1365\n"
     ]
    }
   ],
   "source": [
    "fname = \"OL45_20220927_counts.out\"\n",
    "fpath = file.path(fdiry, fname)\n",
    "dat = read.table(fpath, row.names=1)\n",
    "dat = dat %>% rownames_to_column(var = \"Name\")\n",
    "dat_other_raw = dat\n",
    "\n",
    "print(head(dat_other_raw))\n",
    "cat(\"++++++++++++++++++++++++++++++++++++++++\\n\")\n",
    "print(tail(dat_other_raw))"
   ]
  },
  {
   "cell_type": "code",
   "execution_count": 48,
   "id": "0b341f72",
   "metadata": {},
   "outputs": [
    {
     "name": "stdout",
     "output_type": "stream",
     "text": [
      "                                                                  Name\n",
      "1 (Nadav:posCtrl:seq33763.pos1.GATA1;Nadav:posCtrl:ENSG00000102317.270\n",
      "2                                                  1:10437778:C:T:R:wC\n",
      "3                                                  1:10451799:C:T:R:wC\n",
      "4                                                 1:110198727:C:G:R:wC\n",
      "5                                                    1:110881742:NA:NA\n",
      "6                                                 1:111838694:C:T:R:wC\n",
      "  plasmid_r1 plasmid_r2 plasmid_r3 plasmid_r4    K562_r1    K562_r2    K562_r3\n",
      "1   660.3527   622.9447   644.2283   623.2888 69961.0133 56175.0918 62517.7362\n",
      "2   474.8355   379.6748   415.6585   424.4218  2757.0175  2551.0231  2033.9501\n",
      "3   443.9160   507.3915   433.4361   369.3244   413.7373   420.6634   543.1763\n",
      "4   501.3380   511.7356   531.6365   473.4929 56699.2541 55794.9924 57519.1601\n",
      "5   684.6466   690.7128   739.8890   658.5855 30415.8510 27359.6480 29419.5139\n",
      "6   613.9734   503.0474   639.1490   656.8637 42147.0284 51363.0028 54789.7412\n",
      "     K562_r4\n",
      "1 58457.7541\n",
      "2  2827.4663\n",
      "3   371.8587\n",
      "4 60103.7594\n",
      "5 32443.2774\n",
      "6 41853.6481\n",
      "++++++++++++++++++++++++++++++++++++++++\n",
      "                  Name plasmid_r1 plasmid_r2 plasmid_r3 plasmid_r4    K562_r1\n",
      "94376 X:24819107:NA:NA   491.0315   510.8668   495.2346   459.7185   518.4030\n",
      "94377 X:24893812:NA:NA   595.5689   622.0759   590.8953   622.4279   597.2101\n",
      "94378 X:39110157:NA:NA   374.7152   369.2490   466.4518   408.0648   527.0226\n",
      "94379 X:49154578:NA:NA   639.0035   674.2052   702.6406   619.8452   658.7782\n",
      "94380 X:64815540:NA:NA   443.9160   453.5246   421.5843   451.9705 13221.1243\n",
      "94381 X:69674065:NA:NA  1075.5577  1118.1727  1072.5851  1055.4587  1443.1552\n",
      "         K562_r2    K562_r3    K562_r4\n",
      "94376   371.0852   541.4842   466.7776\n",
      "94377   874.3790   577.0191   617.5311\n",
      "94378   356.0615   524.5628   415.4097\n",
      "94379   560.3838   736.0801   723.6170\n",
      "94380 14847.9161 16422.2008 14962.5675\n",
      "94381  1526.4072  1614.2998  1524.2857\n"
     ]
    }
   ],
   "source": [
    "fname = \"OL45_20220927_K562_normalized_counts.out\"\n",
    "fpath = file.path(fdiry, fname)\n",
    "dat = read.table(fpath, row.names=1)\n",
    "dat = dat %>% rownames_to_column(var = \"Name\")\n",
    "dat_other_norm = dat\n",
    "\n",
    "print(head(dat_other_norm))\n",
    "cat(\"++++++++++++++++++++++++++++++++++++++++\\n\")\n",
    "print(tail(dat_other_norm))"
   ]
  },
  {
   "cell_type": "code",
   "execution_count": 49,
   "id": "10e70422",
   "metadata": {},
   "outputs": [
    {
     "data": {
      "text/html": [
       "<table class=\"dataframe\">\n",
       "<caption>A tibble: 0 × 12</caption>\n",
       "<thead>\n",
       "\t<tr><th scope=col>Name</th><th scope=col>Chrom</th><th scope=col>Start</th><th scope=col>End</th><th scope=col>plasmid_r1</th><th scope=col>plasmid_r2</th><th scope=col>plasmid_r3</th><th scope=col>plasmid_r4</th><th scope=col>K562_r1</th><th scope=col>K562_r2</th><th scope=col>K562_r3</th><th scope=col>K562_r4</th></tr>\n",
       "\t<tr><th scope=col>&lt;chr&gt;</th><th scope=col>&lt;chr&gt;</th><th scope=col>&lt;chr&gt;</th><th scope=col>&lt;chr&gt;</th><th scope=col>&lt;int&gt;</th><th scope=col>&lt;int&gt;</th><th scope=col>&lt;int&gt;</th><th scope=col>&lt;int&gt;</th><th scope=col>&lt;int&gt;</th><th scope=col>&lt;int&gt;</th><th scope=col>&lt;int&gt;</th><th scope=col>&lt;int&gt;</th></tr>\n",
       "</thead>\n",
       "<tbody>\n",
       "</tbody>\n",
       "</table>\n"
      ],
      "text/latex": [
       "A tibble: 0 × 12\n",
       "\\begin{tabular}{llllllllllll}\n",
       " Name & Chrom & Start & End & plasmid\\_r1 & plasmid\\_r2 & plasmid\\_r3 & plasmid\\_r4 & K562\\_r1 & K562\\_r2 & K562\\_r3 & K562\\_r4\\\\\n",
       " <chr> & <chr> & <chr> & <chr> & <int> & <int> & <int> & <int> & <int> & <int> & <int> & <int>\\\\\n",
       "\\hline\n",
       "\\end{tabular}\n"
      ],
      "text/markdown": [
       "\n",
       "A tibble: 0 × 12\n",
       "\n",
       "| Name &lt;chr&gt; | Chrom &lt;chr&gt; | Start &lt;chr&gt; | End &lt;chr&gt; | plasmid_r1 &lt;int&gt; | plasmid_r2 &lt;int&gt; | plasmid_r3 &lt;int&gt; | plasmid_r4 &lt;int&gt; | K562_r1 &lt;int&gt; | K562_r2 &lt;int&gt; | K562_r3 &lt;int&gt; | K562_r4 &lt;int&gt; |\n",
       "|---|---|---|---|---|---|---|---|---|---|---|---|\n",
       "\n"
      ],
      "text/plain": [
       "     Name Chrom Start End plasmid_r1 plasmid_r2 plasmid_r3 plasmid_r4 K562_r1\n",
       "     K562_r2 K562_r3 K562_r4"
      ]
     },
     "metadata": {},
     "output_type": "display_data"
    }
   ],
   "source": [
    "dat = dat_other_raw\n",
    "dat = dat %>% \n",
    "    dplyr::mutate(Name = gsub(\"\\\\(|\\\\)\", \"\", Name)) %>% \n",
    "    tidyr::separate_rows(Name, sep=\";\") %>%\n",
    "    dplyr::filter(!grepl(pattern = \"Nadav\", Name)) %>%\n",
    "    dplyr::filter(str_detect(string=Name, pattern=\"^chr11:[0-9]*-[0-9]*\")) %>% \n",
    "    tidyr::separate(Name, c(\"Chrom\", \"Start\", \"End\"), remove=FALSE) \n",
    "head(dat)"
   ]
  },
  {
   "cell_type": "code",
   "execution_count": null,
   "id": "d2deb6a3",
   "metadata": {},
   "outputs": [],
   "source": []
  },
  {
   "cell_type": "code",
   "execution_count": 7,
   "id": "7c9a709c",
   "metadata": {},
   "outputs": [
    {
     "data": {
      "text/html": [
       "<style>\n",
       ".list-inline {list-style: none; margin:0; padding: 0}\n",
       ".list-inline>li {display: inline-block}\n",
       ".list-inline>li:not(:last-child)::after {content: \"\\00b7\"; padding: 0 .5ex}\n",
       "</style>\n",
       "<ol class=list-inline><li>'(8:127381651-127381850;8:127320401-127320600)'</li><li>'(8:127742001-127742200;Nadav:negCtrl:seq31776.neg1.MYC)'</li><li>'(8:128045001-128045200;Nadav:posCtrl:seq31797.pos5.MYC)'</li><li>'(8:128176951-128177150;Nadav:negCtrl:seq31802.neg5.MYC)'</li><li>'(X:48782961-48783160;Nadav:posCtrl:ENSG00000102317.270'</li><li>'(X:48800591-48800790;Nadav:posCtrl:pos2.GATA1)'</li></ol>\n"
      ],
      "text/latex": [
       "\\begin{enumerate*}\n",
       "\\item '(8:127381651-127381850;8:127320401-127320600)'\n",
       "\\item '(8:127742001-127742200;Nadav:negCtrl:seq31776.neg1.MYC)'\n",
       "\\item '(8:128045001-128045200;Nadav:posCtrl:seq31797.pos5.MYC)'\n",
       "\\item '(8:128176951-128177150;Nadav:negCtrl:seq31802.neg5.MYC)'\n",
       "\\item '(X:48782961-48783160;Nadav:posCtrl:ENSG00000102317.270'\n",
       "\\item '(X:48800591-48800790;Nadav:posCtrl:pos2.GATA1)'\n",
       "\\end{enumerate*}\n"
      ],
      "text/markdown": [
       "1. '(8:127381651-127381850;8:127320401-127320600)'\n",
       "2. '(8:127742001-127742200;Nadav:negCtrl:seq31776.neg1.MYC)'\n",
       "3. '(8:128045001-128045200;Nadav:posCtrl:seq31797.pos5.MYC)'\n",
       "4. '(8:128176951-128177150;Nadav:negCtrl:seq31802.neg5.MYC)'\n",
       "5. '(X:48782961-48783160;Nadav:posCtrl:ENSG00000102317.270'\n",
       "6. '(X:48800591-48800790;Nadav:posCtrl:pos2.GATA1)'\n",
       "\n",
       "\n"
      ],
      "text/plain": [
       "[1] \"(8:127381651-127381850;8:127320401-127320600)\"          \n",
       "[2] \"(8:127742001-127742200;Nadav:negCtrl:seq31776.neg1.MYC)\"\n",
       "[3] \"(8:128045001-128045200;Nadav:posCtrl:seq31797.pos5.MYC)\"\n",
       "[4] \"(8:128176951-128177150;Nadav:negCtrl:seq31802.neg5.MYC)\"\n",
       "[5] \"(X:48782961-48783160;Nadav:posCtrl:ENSG00000102317.270\" \n",
       "[6] \"(X:48800591-48800790;Nadav:posCtrl:pos2.GATA1)\"         "
      ]
     },
     "metadata": {},
     "output_type": "display_data"
    }
   ],
   "source": [
    "tmp = head(dat$Fragment)\n",
    "tmp"
   ]
  },
  {
   "cell_type": "code",
   "execution_count": 12,
   "id": "6894afe7",
   "metadata": {},
   "outputs": [
    {
     "data": {
      "text/html": [
       "<style>\n",
       ".list-inline {list-style: none; margin:0; padding: 0}\n",
       ".list-inline>li {display: inline-block}\n",
       ".list-inline>li:not(:last-child)::after {content: \"\\00b7\"; padding: 0 .5ex}\n",
       "</style>\n",
       "<ol class=list-inline><li>'8:127381651-127381850;8:127320401-127320600'</li><li>'8:127742001-127742200;Nadav:negCtrl:seq31776.neg1.MYC'</li><li>'8:128045001-128045200;Nadav:posCtrl:seq31797.pos5.MYC'</li><li>'8:128176951-128177150;Nadav:negCtrl:seq31802.neg5.MYC'</li><li>'X:48782961-48783160;Nadav:posCtrl:ENSG00000102317.270'</li><li>'X:48800591-48800790;Nadav:posCtrl:pos2.GATA1'</li></ol>\n"
      ],
      "text/latex": [
       "\\begin{enumerate*}\n",
       "\\item '8:127381651-127381850;8:127320401-127320600'\n",
       "\\item '8:127742001-127742200;Nadav:negCtrl:seq31776.neg1.MYC'\n",
       "\\item '8:128045001-128045200;Nadav:posCtrl:seq31797.pos5.MYC'\n",
       "\\item '8:128176951-128177150;Nadav:negCtrl:seq31802.neg5.MYC'\n",
       "\\item 'X:48782961-48783160;Nadav:posCtrl:ENSG00000102317.270'\n",
       "\\item 'X:48800591-48800790;Nadav:posCtrl:pos2.GATA1'\n",
       "\\end{enumerate*}\n"
      ],
      "text/markdown": [
       "1. '8:127381651-127381850;8:127320401-127320600'\n",
       "2. '8:127742001-127742200;Nadav:negCtrl:seq31776.neg1.MYC'\n",
       "3. '8:128045001-128045200;Nadav:posCtrl:seq31797.pos5.MYC'\n",
       "4. '8:128176951-128177150;Nadav:negCtrl:seq31802.neg5.MYC'\n",
       "5. 'X:48782961-48783160;Nadav:posCtrl:ENSG00000102317.270'\n",
       "6. 'X:48800591-48800790;Nadav:posCtrl:pos2.GATA1'\n",
       "\n",
       "\n"
      ],
      "text/plain": [
       "[1] \"8:127381651-127381850;8:127320401-127320600\"          \n",
       "[2] \"8:127742001-127742200;Nadav:negCtrl:seq31776.neg1.MYC\"\n",
       "[3] \"8:128045001-128045200;Nadav:posCtrl:seq31797.pos5.MYC\"\n",
       "[4] \"8:128176951-128177150;Nadav:negCtrl:seq31802.neg5.MYC\"\n",
       "[5] \"X:48782961-48783160;Nadav:posCtrl:ENSG00000102317.270\"\n",
       "[6] \"X:48800591-48800790;Nadav:posCtrl:pos2.GATA1\"         "
      ]
     },
     "metadata": {},
     "output_type": "display_data"
    }
   ],
   "source": [
    "str_remove_all(string=tmp, pattern=\"\\\\(|\\\\)\")"
   ]
  },
  {
   "cell_type": "code",
   "execution_count": 13,
   "id": "fe98d6cd",
   "metadata": {},
   "outputs": [
    {
     "data": {
      "text/html": [
       "<style>\n",
       ".list-inline {list-style: none; margin:0; padding: 0}\n",
       ".list-inline>li {display: inline-block}\n",
       ".list-inline>li:not(:last-child)::after {content: \"\\00b7\"; padding: 0 .5ex}\n",
       "</style>\n",
       "<ol class=list-inline><li>TRUE</li><li>TRUE</li><li>TRUE</li><li>TRUE</li><li>TRUE</li><li>TRUE</li></ol>\n"
      ],
      "text/latex": [
       "\\begin{enumerate*}\n",
       "\\item TRUE\n",
       "\\item TRUE\n",
       "\\item TRUE\n",
       "\\item TRUE\n",
       "\\item TRUE\n",
       "\\item TRUE\n",
       "\\end{enumerate*}\n"
      ],
      "text/markdown": [
       "1. TRUE\n",
       "2. TRUE\n",
       "3. TRUE\n",
       "4. TRUE\n",
       "5. TRUE\n",
       "6. TRUE\n",
       "\n",
       "\n"
      ],
      "text/plain": [
       "[1] TRUE TRUE TRUE TRUE TRUE TRUE"
      ]
     },
     "metadata": {},
     "output_type": "display_data"
    }
   ],
   "source": [
    "str_detect(string=tmp, pattern=\"[8|X]:[0-9]*-[0-9]*\")"
   ]
  },
  {
   "cell_type": "code",
   "execution_count": 29,
   "id": "045d6828",
   "metadata": {},
   "outputs": [
    {
     "data": {
      "text/html": [
       "<table class=\"dataframe\">\n",
       "<caption>A tibble: 6 × 15</caption>\n",
       "<thead>\n",
       "\t<tr><th scope=col>Name</th><th scope=col>Chrom</th><th scope=col>Start</th><th scope=col>End</th><th scope=col>plasmid_r1</th><th scope=col>plasmid_r2</th><th scope=col>plasmid_r3</th><th scope=col>plasmid_r4</th><th scope=col>plasmid_r5</th><th scope=col>plasmid_r6</th><th scope=col>K562_r1</th><th scope=col>K562_r2</th><th scope=col>K562_r3</th><th scope=col>K562_r4</th><th scope=col>K562_r5</th></tr>\n",
       "\t<tr><th scope=col>&lt;chr&gt;</th><th scope=col>&lt;chr&gt;</th><th scope=col>&lt;chr&gt;</th><th scope=col>&lt;chr&gt;</th><th scope=col>&lt;int&gt;</th><th scope=col>&lt;int&gt;</th><th scope=col>&lt;int&gt;</th><th scope=col>&lt;int&gt;</th><th scope=col>&lt;int&gt;</th><th scope=col>&lt;int&gt;</th><th scope=col>&lt;int&gt;</th><th scope=col>&lt;int&gt;</th><th scope=col>&lt;int&gt;</th><th scope=col>&lt;int&gt;</th><th scope=col>&lt;int&gt;</th></tr>\n",
       "</thead>\n",
       "<tbody>\n",
       "\t<tr><td>8:127381651-127381850</td><td>8</td><td>127381651</td><td>127381850</td><td>1318</td><td>1810</td><td>1477</td><td>1505</td><td>738</td><td>687</td><td>  620</td><td>  636</td><td>  781</td><td>  520</td><td>  538</td></tr>\n",
       "\t<tr><td>8:127320401-127320600</td><td>8</td><td>127320401</td><td>127320600</td><td>1318</td><td>1810</td><td>1477</td><td>1505</td><td>738</td><td>687</td><td>  620</td><td>  636</td><td>  781</td><td>  520</td><td>  538</td></tr>\n",
       "\t<tr><td>8:127742001-127742200</td><td>8</td><td>127742001</td><td>127742200</td><td> 634</td><td> 730</td><td> 698</td><td> 761</td><td>316</td><td>343</td><td>  158</td><td>  194</td><td>  268</td><td>  141</td><td>  251</td></tr>\n",
       "\t<tr><td>8:128045001-128045200</td><td>8</td><td>128045001</td><td>128045200</td><td> 416</td><td> 432</td><td> 418</td><td> 409</td><td>181</td><td>211</td><td>11164</td><td> 6818</td><td>12118</td><td> 9512</td><td>10450</td></tr>\n",
       "\t<tr><td>8:128176951-128177150</td><td>8</td><td>128176951</td><td>128177150</td><td>1150</td><td>1271</td><td>1325</td><td>1255</td><td>597</td><td>580</td><td>14919</td><td> 9299</td><td>28832</td><td>15790</td><td>19501</td></tr>\n",
       "\t<tr><td>X:48782961-48783160  </td><td>X</td><td>48782961 </td><td>48783160 </td><td> 345</td><td> 370</td><td> 389</td><td> 373</td><td>211</td><td>187</td><td>17116</td><td>10370</td><td>22126</td><td>16725</td><td>18361</td></tr>\n",
       "</tbody>\n",
       "</table>\n"
      ],
      "text/latex": [
       "A tibble: 6 × 15\n",
       "\\begin{tabular}{lllllllllllllll}\n",
       " Name & Chrom & Start & End & plasmid\\_r1 & plasmid\\_r2 & plasmid\\_r3 & plasmid\\_r4 & plasmid\\_r5 & plasmid\\_r6 & K562\\_r1 & K562\\_r2 & K562\\_r3 & K562\\_r4 & K562\\_r5\\\\\n",
       " <chr> & <chr> & <chr> & <chr> & <int> & <int> & <int> & <int> & <int> & <int> & <int> & <int> & <int> & <int> & <int>\\\\\n",
       "\\hline\n",
       "\t 8:127381651-127381850 & 8 & 127381651 & 127381850 & 1318 & 1810 & 1477 & 1505 & 738 & 687 &   620 &   636 &   781 &   520 &   538\\\\\n",
       "\t 8:127320401-127320600 & 8 & 127320401 & 127320600 & 1318 & 1810 & 1477 & 1505 & 738 & 687 &   620 &   636 &   781 &   520 &   538\\\\\n",
       "\t 8:127742001-127742200 & 8 & 127742001 & 127742200 &  634 &  730 &  698 &  761 & 316 & 343 &   158 &   194 &   268 &   141 &   251\\\\\n",
       "\t 8:128045001-128045200 & 8 & 128045001 & 128045200 &  416 &  432 &  418 &  409 & 181 & 211 & 11164 &  6818 & 12118 &  9512 & 10450\\\\\n",
       "\t 8:128176951-128177150 & 8 & 128176951 & 128177150 & 1150 & 1271 & 1325 & 1255 & 597 & 580 & 14919 &  9299 & 28832 & 15790 & 19501\\\\\n",
       "\t X:48782961-48783160   & X & 48782961  & 48783160  &  345 &  370 &  389 &  373 & 211 & 187 & 17116 & 10370 & 22126 & 16725 & 18361\\\\\n",
       "\\end{tabular}\n"
      ],
      "text/markdown": [
       "\n",
       "A tibble: 6 × 15\n",
       "\n",
       "| Name &lt;chr&gt; | Chrom &lt;chr&gt; | Start &lt;chr&gt; | End &lt;chr&gt; | plasmid_r1 &lt;int&gt; | plasmid_r2 &lt;int&gt; | plasmid_r3 &lt;int&gt; | plasmid_r4 &lt;int&gt; | plasmid_r5 &lt;int&gt; | plasmid_r6 &lt;int&gt; | K562_r1 &lt;int&gt; | K562_r2 &lt;int&gt; | K562_r3 &lt;int&gt; | K562_r4 &lt;int&gt; | K562_r5 &lt;int&gt; |\n",
       "|---|---|---|---|---|---|---|---|---|---|---|---|---|---|---|\n",
       "| 8:127381651-127381850 | 8 | 127381651 | 127381850 | 1318 | 1810 | 1477 | 1505 | 738 | 687 |   620 |   636 |   781 |   520 |   538 |\n",
       "| 8:127320401-127320600 | 8 | 127320401 | 127320600 | 1318 | 1810 | 1477 | 1505 | 738 | 687 |   620 |   636 |   781 |   520 |   538 |\n",
       "| 8:127742001-127742200 | 8 | 127742001 | 127742200 |  634 |  730 |  698 |  761 | 316 | 343 |   158 |   194 |   268 |   141 |   251 |\n",
       "| 8:128045001-128045200 | 8 | 128045001 | 128045200 |  416 |  432 |  418 |  409 | 181 | 211 | 11164 |  6818 | 12118 |  9512 | 10450 |\n",
       "| 8:128176951-128177150 | 8 | 128176951 | 128177150 | 1150 | 1271 | 1325 | 1255 | 597 | 580 | 14919 |  9299 | 28832 | 15790 | 19501 |\n",
       "| X:48782961-48783160   | X | 48782961  | 48783160  |  345 |  370 |  389 |  373 | 211 | 187 | 17116 | 10370 | 22126 | 16725 | 18361 |\n",
       "\n"
      ],
      "text/plain": [
       "  Name                  Chrom Start     End       plasmid_r1 plasmid_r2\n",
       "1 8:127381651-127381850 8     127381651 127381850 1318       1810      \n",
       "2 8:127320401-127320600 8     127320401 127320600 1318       1810      \n",
       "3 8:127742001-127742200 8     127742001 127742200  634        730      \n",
       "4 8:128045001-128045200 8     128045001 128045200  416        432      \n",
       "5 8:128176951-128177150 8     128176951 128177150 1150       1271      \n",
       "6 X:48782961-48783160   X     48782961  48783160   345        370      \n",
       "  plasmid_r3 plasmid_r4 plasmid_r5 plasmid_r6 K562_r1 K562_r2 K562_r3 K562_r4\n",
       "1 1477       1505       738        687          620     636     781     520  \n",
       "2 1477       1505       738        687          620     636     781     520  \n",
       "3  698        761       316        343          158     194     268     141  \n",
       "4  418        409       181        211        11164    6818   12118    9512  \n",
       "5 1325       1255       597        580        14919    9299   28832   15790  \n",
       "6  389        373       211        187        17116   10370   22126   16725  \n",
       "  K562_r5\n",
       "1   538  \n",
       "2   538  \n",
       "3   251  \n",
       "4 10450  \n",
       "5 19501  \n",
       "6 18361  "
      ]
     },
     "metadata": {},
     "output_type": "display_data"
    }
   ],
   "source": [
    "tmp = dat %>% \n",
    "    dplyr::mutate(Name = gsub(\"\\\\(|\\\\)\", \"\", Name)) %>% \n",
    "    tidyr::separate_rows(Name, sep=\";\") %>%\n",
    "    dplyr::filter(!grepl(pattern = \"Nadav\", Name)) %>%\n",
    "    dplyr::filter(str_detect(string=Name, pattern=\"^[8|X]:[0-9]*-[0-9]*\")) %>% \n",
    "    tidyr::separate(Name, c(\"Chrom\", \"Start\", \"End\"), remove=FALSE) \n",
    "head(tmp)"
   ]
  },
  {
   "cell_type": "code",
   "execution_count": 27,
   "id": "90e5d5b3",
   "metadata": {},
   "outputs": [
    {
     "data": {
      "text/html": [
       "<table class=\"dataframe\">\n",
       "<caption>A tibble: 6 × 15</caption>\n",
       "<thead>\n",
       "\t<tr><th scope=col>Fragment</th><th scope=col>Chrom</th><th scope=col>Start</th><th scope=col>End</th><th scope=col>plasmid_r1</th><th scope=col>plasmid_r2</th><th scope=col>plasmid_r3</th><th scope=col>plasmid_r4</th><th scope=col>plasmid_r5</th><th scope=col>plasmid_r6</th><th scope=col>K562_r1</th><th scope=col>K562_r2</th><th scope=col>K562_r3</th><th scope=col>K562_r4</th><th scope=col>K562_r5</th></tr>\n",
       "\t<tr><th scope=col>&lt;chr&gt;</th><th scope=col>&lt;chr&gt;</th><th scope=col>&lt;chr&gt;</th><th scope=col>&lt;chr&gt;</th><th scope=col>&lt;int&gt;</th><th scope=col>&lt;int&gt;</th><th scope=col>&lt;int&gt;</th><th scope=col>&lt;int&gt;</th><th scope=col>&lt;int&gt;</th><th scope=col>&lt;int&gt;</th><th scope=col>&lt;int&gt;</th><th scope=col>&lt;int&gt;</th><th scope=col>&lt;int&gt;</th><th scope=col>&lt;int&gt;</th><th scope=col>&lt;int&gt;</th></tr>\n",
       "</thead>\n",
       "<tbody>\n",
       "\t<tr><td>8:127381651-127381850</td><td>8</td><td>127381651</td><td>127381850</td><td>1318</td><td>1810</td><td>1477</td><td>1505</td><td>738</td><td>687</td><td>  620</td><td>  636</td><td>  781</td><td>  520</td><td>  538</td></tr>\n",
       "\t<tr><td>8:127320401-127320600</td><td>8</td><td>127320401</td><td>127320600</td><td>1318</td><td>1810</td><td>1477</td><td>1505</td><td>738</td><td>687</td><td>  620</td><td>  636</td><td>  781</td><td>  520</td><td>  538</td></tr>\n",
       "\t<tr><td>8:127742001-127742200</td><td>8</td><td>127742001</td><td>127742200</td><td> 634</td><td> 730</td><td> 698</td><td> 761</td><td>316</td><td>343</td><td>  158</td><td>  194</td><td>  268</td><td>  141</td><td>  251</td></tr>\n",
       "\t<tr><td>8:128045001-128045200</td><td>8</td><td>128045001</td><td>128045200</td><td> 416</td><td> 432</td><td> 418</td><td> 409</td><td>181</td><td>211</td><td>11164</td><td> 6818</td><td>12118</td><td> 9512</td><td>10450</td></tr>\n",
       "\t<tr><td>8:128176951-128177150</td><td>8</td><td>128176951</td><td>128177150</td><td>1150</td><td>1271</td><td>1325</td><td>1255</td><td>597</td><td>580</td><td>14919</td><td> 9299</td><td>28832</td><td>15790</td><td>19501</td></tr>\n",
       "\t<tr><td>X:48782961-48783160  </td><td>X</td><td>48782961 </td><td>48783160 </td><td> 345</td><td> 370</td><td> 389</td><td> 373</td><td>211</td><td>187</td><td>17116</td><td>10370</td><td>22126</td><td>16725</td><td>18361</td></tr>\n",
       "</tbody>\n",
       "</table>\n"
      ],
      "text/latex": [
       "A tibble: 6 × 15\n",
       "\\begin{tabular}{lllllllllllllll}\n",
       " Fragment & Chrom & Start & End & plasmid\\_r1 & plasmid\\_r2 & plasmid\\_r3 & plasmid\\_r4 & plasmid\\_r5 & plasmid\\_r6 & K562\\_r1 & K562\\_r2 & K562\\_r3 & K562\\_r4 & K562\\_r5\\\\\n",
       " <chr> & <chr> & <chr> & <chr> & <int> & <int> & <int> & <int> & <int> & <int> & <int> & <int> & <int> & <int> & <int>\\\\\n",
       "\\hline\n",
       "\t 8:127381651-127381850 & 8 & 127381651 & 127381850 & 1318 & 1810 & 1477 & 1505 & 738 & 687 &   620 &   636 &   781 &   520 &   538\\\\\n",
       "\t 8:127320401-127320600 & 8 & 127320401 & 127320600 & 1318 & 1810 & 1477 & 1505 & 738 & 687 &   620 &   636 &   781 &   520 &   538\\\\\n",
       "\t 8:127742001-127742200 & 8 & 127742001 & 127742200 &  634 &  730 &  698 &  761 & 316 & 343 &   158 &   194 &   268 &   141 &   251\\\\\n",
       "\t 8:128045001-128045200 & 8 & 128045001 & 128045200 &  416 &  432 &  418 &  409 & 181 & 211 & 11164 &  6818 & 12118 &  9512 & 10450\\\\\n",
       "\t 8:128176951-128177150 & 8 & 128176951 & 128177150 & 1150 & 1271 & 1325 & 1255 & 597 & 580 & 14919 &  9299 & 28832 & 15790 & 19501\\\\\n",
       "\t X:48782961-48783160   & X & 48782961  & 48783160  &  345 &  370 &  389 &  373 & 211 & 187 & 17116 & 10370 & 22126 & 16725 & 18361\\\\\n",
       "\\end{tabular}\n"
      ],
      "text/markdown": [
       "\n",
       "A tibble: 6 × 15\n",
       "\n",
       "| Fragment &lt;chr&gt; | Chrom &lt;chr&gt; | Start &lt;chr&gt; | End &lt;chr&gt; | plasmid_r1 &lt;int&gt; | plasmid_r2 &lt;int&gt; | plasmid_r3 &lt;int&gt; | plasmid_r4 &lt;int&gt; | plasmid_r5 &lt;int&gt; | plasmid_r6 &lt;int&gt; | K562_r1 &lt;int&gt; | K562_r2 &lt;int&gt; | K562_r3 &lt;int&gt; | K562_r4 &lt;int&gt; | K562_r5 &lt;int&gt; |\n",
       "|---|---|---|---|---|---|---|---|---|---|---|---|---|---|---|\n",
       "| 8:127381651-127381850 | 8 | 127381651 | 127381850 | 1318 | 1810 | 1477 | 1505 | 738 | 687 |   620 |   636 |   781 |   520 |   538 |\n",
       "| 8:127320401-127320600 | 8 | 127320401 | 127320600 | 1318 | 1810 | 1477 | 1505 | 738 | 687 |   620 |   636 |   781 |   520 |   538 |\n",
       "| 8:127742001-127742200 | 8 | 127742001 | 127742200 |  634 |  730 |  698 |  761 | 316 | 343 |   158 |   194 |   268 |   141 |   251 |\n",
       "| 8:128045001-128045200 | 8 | 128045001 | 128045200 |  416 |  432 |  418 |  409 | 181 | 211 | 11164 |  6818 | 12118 |  9512 | 10450 |\n",
       "| 8:128176951-128177150 | 8 | 128176951 | 128177150 | 1150 | 1271 | 1325 | 1255 | 597 | 580 | 14919 |  9299 | 28832 | 15790 | 19501 |\n",
       "| X:48782961-48783160   | X | 48782961  | 48783160  |  345 |  370 |  389 |  373 | 211 | 187 | 17116 | 10370 | 22126 | 16725 | 18361 |\n",
       "\n"
      ],
      "text/plain": [
       "  Fragment              Chrom Start     End       plasmid_r1 plasmid_r2\n",
       "1 8:127381651-127381850 8     127381651 127381850 1318       1810      \n",
       "2 8:127320401-127320600 8     127320401 127320600 1318       1810      \n",
       "3 8:127742001-127742200 8     127742001 127742200  634        730      \n",
       "4 8:128045001-128045200 8     128045001 128045200  416        432      \n",
       "5 8:128176951-128177150 8     128176951 128177150 1150       1271      \n",
       "6 X:48782961-48783160   X     48782961  48783160   345        370      \n",
       "  plasmid_r3 plasmid_r4 plasmid_r5 plasmid_r6 K562_r1 K562_r2 K562_r3 K562_r4\n",
       "1 1477       1505       738        687          620     636     781     520  \n",
       "2 1477       1505       738        687          620     636     781     520  \n",
       "3  698        761       316        343          158     194     268     141  \n",
       "4  418        409       181        211        11164    6818   12118    9512  \n",
       "5 1325       1255       597        580        14919    9299   28832   15790  \n",
       "6  389        373       211        187        17116   10370   22126   16725  \n",
       "  K562_r5\n",
       "1   538  \n",
       "2   538  \n",
       "3   251  \n",
       "4 10450  \n",
       "5 19501  \n",
       "6 18361  "
      ]
     },
     "metadata": {},
     "output_type": "display_data"
    }
   ],
   "source": [
    "tmp %>% tidyr::separate(Fragment, c(\"Chrom\", \"Start\", \"End\"), remove=FALSE) %>% head"
   ]
  },
  {
   "cell_type": "code",
   "execution_count": 26,
   "id": "661c82e6",
   "metadata": {},
   "outputs": [
    {
     "data": {
      "text/html": [
       "<table class=\"dataframe\">\n",
       "<caption>A tibble: 4 × 12</caption>\n",
       "<thead>\n",
       "\t<tr><th scope=col>Fragment</th><th scope=col>plasmid_r1</th><th scope=col>plasmid_r2</th><th scope=col>plasmid_r3</th><th scope=col>plasmid_r4</th><th scope=col>plasmid_r5</th><th scope=col>plasmid_r6</th><th scope=col>K562_r1</th><th scope=col>K562_r2</th><th scope=col>K562_r3</th><th scope=col>K562_r4</th><th scope=col>K562_r5</th></tr>\n",
       "\t<tr><th scope=col>&lt;chr&gt;</th><th scope=col>&lt;int&gt;</th><th scope=col>&lt;int&gt;</th><th scope=col>&lt;int&gt;</th><th scope=col>&lt;int&gt;</th><th scope=col>&lt;int&gt;</th><th scope=col>&lt;int&gt;</th><th scope=col>&lt;int&gt;</th><th scope=col>&lt;int&gt;</th><th scope=col>&lt;int&gt;</th><th scope=col>&lt;int&gt;</th><th scope=col>&lt;int&gt;</th></tr>\n",
       "</thead>\n",
       "<tbody>\n",
       "\t<tr><td>X:47785501-47785700</td><td>1559</td><td>1632</td><td>1593</td><td>1599</td><td>781</td><td>812</td><td>1180</td><td>1179</td><td>1684</td><td>955</td><td>1338</td></tr>\n",
       "\t<tr><td>X:47785551-47785750</td><td> 746</td><td> 771</td><td> 798</td><td> 827</td><td>425</td><td>377</td><td> 403</td><td> 384</td><td> 576</td><td>351</td><td> 441</td></tr>\n",
       "\t<tr><td>X:47785601-47785800</td><td> 867</td><td>1075</td><td> 975</td><td> 987</td><td>417</td><td>498</td><td> 444</td><td> 396</td><td> 717</td><td>400</td><td> 435</td></tr>\n",
       "\t<tr><td>X:47785651-47785850</td><td> 729</td><td> 838</td><td> 725</td><td> 855</td><td>410</td><td>406</td><td> 643</td><td> 558</td><td> 906</td><td>628</td><td> 618</td></tr>\n",
       "</tbody>\n",
       "</table>\n"
      ],
      "text/latex": [
       "A tibble: 4 × 12\n",
       "\\begin{tabular}{llllllllllll}\n",
       " Fragment & plasmid\\_r1 & plasmid\\_r2 & plasmid\\_r3 & plasmid\\_r4 & plasmid\\_r5 & plasmid\\_r6 & K562\\_r1 & K562\\_r2 & K562\\_r3 & K562\\_r4 & K562\\_r5\\\\\n",
       " <chr> & <int> & <int> & <int> & <int> & <int> & <int> & <int> & <int> & <int> & <int> & <int>\\\\\n",
       "\\hline\n",
       "\t X:47785501-47785700 & 1559 & 1632 & 1593 & 1599 & 781 & 812 & 1180 & 1179 & 1684 & 955 & 1338\\\\\n",
       "\t X:47785551-47785750 &  746 &  771 &  798 &  827 & 425 & 377 &  403 &  384 &  576 & 351 &  441\\\\\n",
       "\t X:47785601-47785800 &  867 & 1075 &  975 &  987 & 417 & 498 &  444 &  396 &  717 & 400 &  435\\\\\n",
       "\t X:47785651-47785850 &  729 &  838 &  725 &  855 & 410 & 406 &  643 &  558 &  906 & 628 &  618\\\\\n",
       "\\end{tabular}\n"
      ],
      "text/markdown": [
       "\n",
       "A tibble: 4 × 12\n",
       "\n",
       "| Fragment &lt;chr&gt; | plasmid_r1 &lt;int&gt; | plasmid_r2 &lt;int&gt; | plasmid_r3 &lt;int&gt; | plasmid_r4 &lt;int&gt; | plasmid_r5 &lt;int&gt; | plasmid_r6 &lt;int&gt; | K562_r1 &lt;int&gt; | K562_r2 &lt;int&gt; | K562_r3 &lt;int&gt; | K562_r4 &lt;int&gt; | K562_r5 &lt;int&gt; |\n",
       "|---|---|---|---|---|---|---|---|---|---|---|---|\n",
       "| X:47785501-47785700 | 1559 | 1632 | 1593 | 1599 | 781 | 812 | 1180 | 1179 | 1684 | 955 | 1338 |\n",
       "| X:47785551-47785750 |  746 |  771 |  798 |  827 | 425 | 377 |  403 |  384 |  576 | 351 |  441 |\n",
       "| X:47785601-47785800 |  867 | 1075 |  975 |  987 | 417 | 498 |  444 |  396 |  717 | 400 |  435 |\n",
       "| X:47785651-47785850 |  729 |  838 |  725 |  855 | 410 | 406 |  643 |  558 |  906 | 628 |  618 |\n",
       "\n"
      ],
      "text/plain": [
       "  Fragment            plasmid_r1 plasmid_r2 plasmid_r3 plasmid_r4 plasmid_r5\n",
       "1 X:47785501-47785700 1559       1632       1593       1599       781       \n",
       "2 X:47785551-47785750  746        771        798        827       425       \n",
       "3 X:47785601-47785800  867       1075        975        987       417       \n",
       "4 X:47785651-47785850  729        838        725        855       410       \n",
       "  plasmid_r6 K562_r1 K562_r2 K562_r3 K562_r4 K562_r5\n",
       "1 812        1180    1179    1684    955     1338   \n",
       "2 377         403     384     576    351      441   \n",
       "3 498         444     396     717    400      435   \n",
       "4 406         643     558     906    628      618   "
      ]
     },
     "metadata": {},
     "output_type": "display_data"
    }
   ],
   "source": [
    "tmp[c(42019, 42020, 42021, 42022),]"
   ]
  },
  {
   "cell_type": "code",
   "execution_count": 6,
   "id": "063b5955",
   "metadata": {},
   "outputs": [
    {
     "name": "stdout",
     "output_type": "stream",
     "text": [
      " [1] \"1\"  \"2\"  \"3\"  \"4\"  \"5\"  \"6\"  \"7\"  \"8\"  \"9\"  \"10\" \"11\" \"12\" \"13\" \"14\" \"15\"\n",
      "[16] \"16\" \"17\" \"18\" \"19\" \"20\"\n"
     ]
    }
   ],
   "source": [
    "idx = rownames(dat)\n",
    "print(head(idx, 20))"
   ]
  },
  {
   "cell_type": "code",
   "execution_count": 9,
   "id": "cbbbc8f2",
   "metadata": {},
   "outputs": [
    {
     "name": "stdout",
     "output_type": "stream",
     "text": [
      " [1] \"X:49880101-49880300\" \"X:49880151-49880350\" \"X:49880201-49880400\"\n",
      " [4] \"X:49880251-49880450\" \"X:49880301-49880500\" \"X:49880351-49880550\"\n",
      " [7] \"X:49880401-49880600\" \"X:49880451-49880650\" \"X:64815540:NA:NA\"   \n",
      "[10] \"X:69674065:NA:NA\"   \n"
     ]
    }
   ],
   "source": [
    "print(tail(idx, 10))"
   ]
  },
  {
   "cell_type": "code",
   "execution_count": 78,
   "id": "7d0c438b",
   "metadata": {},
   "outputs": [
    {
     "name": "stderr",
     "output_type": "stream",
     "text": [
      "Warning message in str_detect(fruit, \"a\"):\n",
      "“internal error -3 in R_decompress1”\n"
     ]
    },
    {
     "ename": "ERROR",
     "evalue": "Error in str_detect(fruit, \"a\"): lazy-load database '/usr/lib/R/site-library/stringi/R/stringi.rdb' is corrupt\n",
     "output_type": "error",
     "traceback": [
      "Error in str_detect(fruit, \"a\"): lazy-load database '/usr/lib/R/site-library/stringi/R/stringi.rdb' is corrupt\nTraceback:\n",
      "1. str_detect(fruit, \"a\")"
     ]
    }
   ],
   "source": [
    "fruit <- c(\"apple\", \"banana\", \"pear\", \"pinapple\")\n",
    "str_detect(fruit, \"a\")"
   ]
  },
  {
   "cell_type": "code",
   "execution_count": 73,
   "id": "322c1de1",
   "metadata": {},
   "outputs": [
    {
     "data": {
      "text/html": [
       "<table class=\"dataframe\">\n",
       "<caption>A tibble: 1 × 12</caption>\n",
       "<thead>\n",
       "\t<tr><th scope=col>Fragment</th><th scope=col>plasmid_r1</th><th scope=col>plasmid_r2</th><th scope=col>plasmid_r3</th><th scope=col>plasmid_r4</th><th scope=col>plasmid_r5</th><th scope=col>plasmid_r6</th><th scope=col>K562_r1</th><th scope=col>K562_r2</th><th scope=col>K562_r3</th><th scope=col>K562_r4</th><th scope=col>K562_r5</th></tr>\n",
       "\t<tr><th scope=col>&lt;chr&gt;</th><th scope=col>&lt;int&gt;</th><th scope=col>&lt;int&gt;</th><th scope=col>&lt;int&gt;</th><th scope=col>&lt;int&gt;</th><th scope=col>&lt;int&gt;</th><th scope=col>&lt;int&gt;</th><th scope=col>&lt;int&gt;</th><th scope=col>&lt;int&gt;</th><th scope=col>&lt;int&gt;</th><th scope=col>&lt;int&gt;</th><th scope=col>&lt;int&gt;</th></tr>\n",
       "</thead>\n",
       "<tbody>\n",
       "\t<tr><td>ORF13856:870:0-200</td><td>511</td><td>522</td><td>489</td><td>488</td><td>244</td><td>288</td><td>189</td><td>194</td><td>376</td><td>135</td><td>219</td></tr>\n",
       "</tbody>\n",
       "</table>\n"
      ],
      "text/latex": [
       "A tibble: 1 × 12\n",
       "\\begin{tabular}{llllllllllll}\n",
       " Fragment & plasmid\\_r1 & plasmid\\_r2 & plasmid\\_r3 & plasmid\\_r4 & plasmid\\_r5 & plasmid\\_r6 & K562\\_r1 & K562\\_r2 & K562\\_r3 & K562\\_r4 & K562\\_r5\\\\\n",
       " <chr> & <int> & <int> & <int> & <int> & <int> & <int> & <int> & <int> & <int> & <int> & <int>\\\\\n",
       "\\hline\n",
       "\t ORF13856:870:0-200 & 511 & 522 & 489 & 488 & 244 & 288 & 189 & 194 & 376 & 135 & 219\\\\\n",
       "\\end{tabular}\n"
      ],
      "text/markdown": [
       "\n",
       "A tibble: 1 × 12\n",
       "\n",
       "| Fragment &lt;chr&gt; | plasmid_r1 &lt;int&gt; | plasmid_r2 &lt;int&gt; | plasmid_r3 &lt;int&gt; | plasmid_r4 &lt;int&gt; | plasmid_r5 &lt;int&gt; | plasmid_r6 &lt;int&gt; | K562_r1 &lt;int&gt; | K562_r2 &lt;int&gt; | K562_r3 &lt;int&gt; | K562_r4 &lt;int&gt; | K562_r5 &lt;int&gt; |\n",
       "|---|---|---|---|---|---|---|---|---|---|---|---|\n",
       "| ORF13856:870:0-200 | 511 | 522 | 489 | 488 | 244 | 288 | 189 | 194 | 376 | 135 | 219 |\n",
       "\n"
      ],
      "text/plain": [
       "  Fragment           plasmid_r1 plasmid_r2 plasmid_r3 plasmid_r4 plasmid_r5\n",
       "1 ORF13856:870:0-200 511        522        489        488        244       \n",
       "  plasmid_r6 K562_r1 K562_r2 K562_r3 K562_r4 K562_r5\n",
       "1 288        189     194     376     135     219    "
      ]
     },
     "metadata": {},
     "output_type": "display_data"
    }
   ],
   "source": [
    "tmp[42019,]"
   ]
  },
  {
   "cell_type": "code",
   "execution_count": 77,
   "id": "8c0f5872",
   "metadata": {},
   "outputs": [
    {
     "data": {
      "text/html": [
       "<table class=\"dataframe\">\n",
       "<caption>A tibble: 3 × 12</caption>\n",
       "<thead>\n",
       "\t<tr><th scope=col>Fragment</th><th scope=col>plasmid_r1</th><th scope=col>plasmid_r2</th><th scope=col>plasmid_r3</th><th scope=col>plasmid_r4</th><th scope=col>plasmid_r5</th><th scope=col>plasmid_r6</th><th scope=col>K562_r1</th><th scope=col>K562_r2</th><th scope=col>K562_r3</th><th scope=col>K562_r4</th><th scope=col>K562_r5</th></tr>\n",
       "\t<tr><th scope=col>&lt;chr&gt;</th><th scope=col>&lt;int&gt;</th><th scope=col>&lt;int&gt;</th><th scope=col>&lt;int&gt;</th><th scope=col>&lt;int&gt;</th><th scope=col>&lt;int&gt;</th><th scope=col>&lt;int&gt;</th><th scope=col>&lt;int&gt;</th><th scope=col>&lt;int&gt;</th><th scope=col>&lt;int&gt;</th><th scope=col>&lt;int&gt;</th><th scope=col>&lt;int&gt;</th></tr>\n",
       "</thead>\n",
       "<tbody>\n",
       "\t<tr><td>ORF13856:870:0-200  </td><td> 511</td><td> 522</td><td> 489</td><td> 488</td><td>244</td><td>288</td><td>189</td><td>194</td><td>376</td><td>135</td><td>219</td></tr>\n",
       "\t<tr><td>ORF13856:870:100-300</td><td> 784</td><td> 843</td><td> 840</td><td> 853</td><td>455</td><td>380</td><td>269</td><td>192</td><td>514</td><td>253</td><td>323</td></tr>\n",
       "\t<tr><td>ORF13856:870:200-400</td><td>1357</td><td>1705</td><td>1362</td><td>1376</td><td>627</td><td>638</td><td>544</td><td>453</td><td>735</td><td>456</td><td>726</td></tr>\n",
       "</tbody>\n",
       "</table>\n"
      ],
      "text/latex": [
       "A tibble: 3 × 12\n",
       "\\begin{tabular}{llllllllllll}\n",
       " Fragment & plasmid\\_r1 & plasmid\\_r2 & plasmid\\_r3 & plasmid\\_r4 & plasmid\\_r5 & plasmid\\_r6 & K562\\_r1 & K562\\_r2 & K562\\_r3 & K562\\_r4 & K562\\_r5\\\\\n",
       " <chr> & <int> & <int> & <int> & <int> & <int> & <int> & <int> & <int> & <int> & <int> & <int>\\\\\n",
       "\\hline\n",
       "\t ORF13856:870:0-200   &  511 &  522 &  489 &  488 & 244 & 288 & 189 & 194 & 376 & 135 & 219\\\\\n",
       "\t ORF13856:870:100-300 &  784 &  843 &  840 &  853 & 455 & 380 & 269 & 192 & 514 & 253 & 323\\\\\n",
       "\t ORF13856:870:200-400 & 1357 & 1705 & 1362 & 1376 & 627 & 638 & 544 & 453 & 735 & 456 & 726\\\\\n",
       "\\end{tabular}\n"
      ],
      "text/markdown": [
       "\n",
       "A tibble: 3 × 12\n",
       "\n",
       "| Fragment &lt;chr&gt; | plasmid_r1 &lt;int&gt; | plasmid_r2 &lt;int&gt; | plasmid_r3 &lt;int&gt; | plasmid_r4 &lt;int&gt; | plasmid_r5 &lt;int&gt; | plasmid_r6 &lt;int&gt; | K562_r1 &lt;int&gt; | K562_r2 &lt;int&gt; | K562_r3 &lt;int&gt; | K562_r4 &lt;int&gt; | K562_r5 &lt;int&gt; |\n",
       "|---|---|---|---|---|---|---|---|---|---|---|---|\n",
       "| ORF13856:870:0-200   |  511 |  522 |  489 |  488 | 244 | 288 | 189 | 194 | 376 | 135 | 219 |\n",
       "| ORF13856:870:100-300 |  784 |  843 |  840 |  853 | 455 | 380 | 269 | 192 | 514 | 253 | 323 |\n",
       "| ORF13856:870:200-400 | 1357 | 1705 | 1362 | 1376 | 627 | 638 | 544 | 453 | 735 | 456 | 726 |\n",
       "\n"
      ],
      "text/plain": [
       "  Fragment             plasmid_r1 plasmid_r2 plasmid_r3 plasmid_r4 plasmid_r5\n",
       "1 ORF13856:870:0-200    511        522        489        488       244       \n",
       "2 ORF13856:870:100-300  784        843        840        853       455       \n",
       "3 ORF13856:870:200-400 1357       1705       1362       1376       627       \n",
       "  plasmid_r6 K562_r1 K562_r2 K562_r3 K562_r4 K562_r5\n",
       "1 288        189     194     376     135     219    \n",
       "2 380        269     192     514     253     323    \n",
       "3 638        544     453     735     456     726    "
      ]
     },
     "metadata": {},
     "output_type": "display_data"
    }
   ],
   "source": [
    "tmp[c(42019, 42020, 42021),]"
   ]
  },
  {
   "cell_type": "code",
   "execution_count": 69,
   "id": "cd9c6947",
   "metadata": {},
   "outputs": [
    {
     "data": {
      "text/html": [
       "<table class=\"dataframe\">\n",
       "<caption>A tibble: 10 × 14</caption>\n",
       "<thead>\n",
       "\t<tr><th scope=col>Chrom</th><th scope=col>Start</th><th scope=col>End</th><th scope=col>plasmid_r1</th><th scope=col>plasmid_r2</th><th scope=col>plasmid_r3</th><th scope=col>plasmid_r4</th><th scope=col>plasmid_r5</th><th scope=col>plasmid_r6</th><th scope=col>K562_r1</th><th scope=col>K562_r2</th><th scope=col>K562_r3</th><th scope=col>K562_r4</th><th scope=col>K562_r5</th></tr>\n",
       "\t<tr><th scope=col>&lt;chr&gt;</th><th scope=col>&lt;chr&gt;</th><th scope=col>&lt;chr&gt;</th><th scope=col>&lt;int&gt;</th><th scope=col>&lt;int&gt;</th><th scope=col>&lt;int&gt;</th><th scope=col>&lt;int&gt;</th><th scope=col>&lt;int&gt;</th><th scope=col>&lt;int&gt;</th><th scope=col>&lt;int&gt;</th><th scope=col>&lt;int&gt;</th><th scope=col>&lt;int&gt;</th><th scope=col>&lt;int&gt;</th><th scope=col>&lt;int&gt;</th></tr>\n",
       "</thead>\n",
       "<tbody>\n",
       "\t<tr><td>8</td><td>127381651</td><td>127381850</td><td>1318</td><td>1810</td><td>1477</td><td>1505</td><td> 738</td><td> 687</td><td>  620</td><td>  636</td><td>  781</td><td>  520</td><td>  538</td></tr>\n",
       "\t<tr><td>8</td><td>127320401</td><td>127320600</td><td>1318</td><td>1810</td><td>1477</td><td>1505</td><td> 738</td><td> 687</td><td>  620</td><td>  636</td><td>  781</td><td>  520</td><td>  538</td></tr>\n",
       "\t<tr><td>8</td><td>127742001</td><td>127742200</td><td> 634</td><td> 730</td><td> 698</td><td> 761</td><td> 316</td><td> 343</td><td>  158</td><td>  194</td><td>  268</td><td>  141</td><td>  251</td></tr>\n",
       "\t<tr><td>8</td><td>128045001</td><td>128045200</td><td> 416</td><td> 432</td><td> 418</td><td> 409</td><td> 181</td><td> 211</td><td>11164</td><td> 6818</td><td>12118</td><td> 9512</td><td>10450</td></tr>\n",
       "\t<tr><td>8</td><td>128176951</td><td>128177150</td><td>1150</td><td>1271</td><td>1325</td><td>1255</td><td> 597</td><td> 580</td><td>14919</td><td> 9299</td><td>28832</td><td>15790</td><td>19501</td></tr>\n",
       "\t<tr><td>X</td><td>48782961 </td><td>48783160 </td><td> 345</td><td> 370</td><td> 389</td><td> 373</td><td> 211</td><td> 187</td><td>17116</td><td>10370</td><td>22126</td><td>16725</td><td>18361</td></tr>\n",
       "\t<tr><td>X</td><td>48800591 </td><td>48800790 </td><td>1008</td><td>1075</td><td>1137</td><td>1049</td><td> 531</td><td> 528</td><td> 9987</td><td> 7807</td><td>13192</td><td> 9978</td><td>11306</td></tr>\n",
       "\t<tr><td>X</td><td>48801781 </td><td>48801980 </td><td> 334</td><td> 390</td><td> 383</td><td> 391</td><td> 145</td><td> 164</td><td> 4853</td><td> 2861</td><td> 4438</td><td> 3504</td><td> 3545</td></tr>\n",
       "\t<tr><td>X</td><td>49298001 </td><td>49298200 </td><td>2194</td><td>2534</td><td>2366</td><td>2443</td><td>1117</td><td>1166</td><td> 1322</td><td>  823</td><td> 1698</td><td> 1174</td><td> 1148</td></tr>\n",
       "\t<tr><td>X</td><td>49322601 </td><td>49322800 </td><td>2164</td><td>2372</td><td>2184</td><td>2371</td><td>1181</td><td>1087</td><td> 4503</td><td> 3182</td><td> 5161</td><td> 3330</td><td> 3702</td></tr>\n",
       "</tbody>\n",
       "</table>\n"
      ],
      "text/latex": [
       "A tibble: 10 × 14\n",
       "\\begin{tabular}{llllllllllllll}\n",
       " Chrom & Start & End & plasmid\\_r1 & plasmid\\_r2 & plasmid\\_r3 & plasmid\\_r4 & plasmid\\_r5 & plasmid\\_r6 & K562\\_r1 & K562\\_r2 & K562\\_r3 & K562\\_r4 & K562\\_r5\\\\\n",
       " <chr> & <chr> & <chr> & <int> & <int> & <int> & <int> & <int> & <int> & <int> & <int> & <int> & <int> & <int>\\\\\n",
       "\\hline\n",
       "\t 8 & 127381651 & 127381850 & 1318 & 1810 & 1477 & 1505 &  738 &  687 &   620 &   636 &   781 &   520 &   538\\\\\n",
       "\t 8 & 127320401 & 127320600 & 1318 & 1810 & 1477 & 1505 &  738 &  687 &   620 &   636 &   781 &   520 &   538\\\\\n",
       "\t 8 & 127742001 & 127742200 &  634 &  730 &  698 &  761 &  316 &  343 &   158 &   194 &   268 &   141 &   251\\\\\n",
       "\t 8 & 128045001 & 128045200 &  416 &  432 &  418 &  409 &  181 &  211 & 11164 &  6818 & 12118 &  9512 & 10450\\\\\n",
       "\t 8 & 128176951 & 128177150 & 1150 & 1271 & 1325 & 1255 &  597 &  580 & 14919 &  9299 & 28832 & 15790 & 19501\\\\\n",
       "\t X & 48782961  & 48783160  &  345 &  370 &  389 &  373 &  211 &  187 & 17116 & 10370 & 22126 & 16725 & 18361\\\\\n",
       "\t X & 48800591  & 48800790  & 1008 & 1075 & 1137 & 1049 &  531 &  528 &  9987 &  7807 & 13192 &  9978 & 11306\\\\\n",
       "\t X & 48801781  & 48801980  &  334 &  390 &  383 &  391 &  145 &  164 &  4853 &  2861 &  4438 &  3504 &  3545\\\\\n",
       "\t X & 49298001  & 49298200  & 2194 & 2534 & 2366 & 2443 & 1117 & 1166 &  1322 &   823 &  1698 &  1174 &  1148\\\\\n",
       "\t X & 49322601  & 49322800  & 2164 & 2372 & 2184 & 2371 & 1181 & 1087 &  4503 &  3182 &  5161 &  3330 &  3702\\\\\n",
       "\\end{tabular}\n"
      ],
      "text/markdown": [
       "\n",
       "A tibble: 10 × 14\n",
       "\n",
       "| Chrom &lt;chr&gt; | Start &lt;chr&gt; | End &lt;chr&gt; | plasmid_r1 &lt;int&gt; | plasmid_r2 &lt;int&gt; | plasmid_r3 &lt;int&gt; | plasmid_r4 &lt;int&gt; | plasmid_r5 &lt;int&gt; | plasmid_r6 &lt;int&gt; | K562_r1 &lt;int&gt; | K562_r2 &lt;int&gt; | K562_r3 &lt;int&gt; | K562_r4 &lt;int&gt; | K562_r5 &lt;int&gt; |\n",
       "|---|---|---|---|---|---|---|---|---|---|---|---|---|---|\n",
       "| 8 | 127381651 | 127381850 | 1318 | 1810 | 1477 | 1505 |  738 |  687 |   620 |   636 |   781 |   520 |   538 |\n",
       "| 8 | 127320401 | 127320600 | 1318 | 1810 | 1477 | 1505 |  738 |  687 |   620 |   636 |   781 |   520 |   538 |\n",
       "| 8 | 127742001 | 127742200 |  634 |  730 |  698 |  761 |  316 |  343 |   158 |   194 |   268 |   141 |   251 |\n",
       "| 8 | 128045001 | 128045200 |  416 |  432 |  418 |  409 |  181 |  211 | 11164 |  6818 | 12118 |  9512 | 10450 |\n",
       "| 8 | 128176951 | 128177150 | 1150 | 1271 | 1325 | 1255 |  597 |  580 | 14919 |  9299 | 28832 | 15790 | 19501 |\n",
       "| X | 48782961  | 48783160  |  345 |  370 |  389 |  373 |  211 |  187 | 17116 | 10370 | 22126 | 16725 | 18361 |\n",
       "| X | 48800591  | 48800790  | 1008 | 1075 | 1137 | 1049 |  531 |  528 |  9987 |  7807 | 13192 |  9978 | 11306 |\n",
       "| X | 48801781  | 48801980  |  334 |  390 |  383 |  391 |  145 |  164 |  4853 |  2861 |  4438 |  3504 |  3545 |\n",
       "| X | 49298001  | 49298200  | 2194 | 2534 | 2366 | 2443 | 1117 | 1166 |  1322 |   823 |  1698 |  1174 |  1148 |\n",
       "| X | 49322601  | 49322800  | 2164 | 2372 | 2184 | 2371 | 1181 | 1087 |  4503 |  3182 |  5161 |  3330 |  3702 |\n",
       "\n"
      ],
      "text/plain": [
       "   Chrom Start     End       plasmid_r1 plasmid_r2 plasmid_r3 plasmid_r4\n",
       "1  8     127381651 127381850 1318       1810       1477       1505      \n",
       "2  8     127320401 127320600 1318       1810       1477       1505      \n",
       "3  8     127742001 127742200  634        730        698        761      \n",
       "4  8     128045001 128045200  416        432        418        409      \n",
       "5  8     128176951 128177150 1150       1271       1325       1255      \n",
       "6  X     48782961  48783160   345        370        389        373      \n",
       "7  X     48800591  48800790  1008       1075       1137       1049      \n",
       "8  X     48801781  48801980   334        390        383        391      \n",
       "9  X     49298001  49298200  2194       2534       2366       2443      \n",
       "10 X     49322601  49322800  2164       2372       2184       2371      \n",
       "   plasmid_r5 plasmid_r6 K562_r1 K562_r2 K562_r3 K562_r4 K562_r5\n",
       "1   738        687         620     636     781     520     538  \n",
       "2   738        687         620     636     781     520     538  \n",
       "3   316        343         158     194     268     141     251  \n",
       "4   181        211       11164    6818   12118    9512   10450  \n",
       "5   597        580       14919    9299   28832   15790   19501  \n",
       "6   211        187       17116   10370   22126   16725   18361  \n",
       "7   531        528        9987    7807   13192    9978   11306  \n",
       "8   145        164        4853    2861    4438    3504    3545  \n",
       "9  1117       1166        1322     823    1698    1174    1148  \n",
       "10 1181       1087        4503    3182    5161    3330    3702  "
      ]
     },
     "metadata": {},
     "output_type": "display_data"
    }
   ],
   "source": [
    "head(tmp, 10)"
   ]
  },
  {
   "cell_type": "code",
   "execution_count": 64,
   "id": "41796a82",
   "metadata": {},
   "outputs": [
    {
     "data": {
      "text/html": [
       "<table class=\"dataframe\">\n",
       "<caption>A tibble: 10 × 12</caption>\n",
       "<thead>\n",
       "\t<tr><th scope=col>Fragment</th><th scope=col>plasmid_r1</th><th scope=col>plasmid_r2</th><th scope=col>plasmid_r3</th><th scope=col>plasmid_r4</th><th scope=col>plasmid_r5</th><th scope=col>plasmid_r6</th><th scope=col>K562_r1</th><th scope=col>K562_r2</th><th scope=col>K562_r3</th><th scope=col>K562_r4</th><th scope=col>K562_r5</th></tr>\n",
       "\t<tr><th scope=col>&lt;chr&gt;</th><th scope=col>&lt;int&gt;</th><th scope=col>&lt;int&gt;</th><th scope=col>&lt;int&gt;</th><th scope=col>&lt;int&gt;</th><th scope=col>&lt;int&gt;</th><th scope=col>&lt;int&gt;</th><th scope=col>&lt;int&gt;</th><th scope=col>&lt;int&gt;</th><th scope=col>&lt;int&gt;</th><th scope=col>&lt;int&gt;</th><th scope=col>&lt;int&gt;</th></tr>\n",
       "</thead>\n",
       "<tbody>\n",
       "\t<tr><td>X:49880001-49880200</td><td>1375</td><td>1453</td><td>1454</td><td>1387</td><td>679</td><td>650</td><td>946</td><td>678</td><td>1287</td><td> 834</td><td> 887</td></tr>\n",
       "\t<tr><td>X:49880051-49880250</td><td>1883</td><td>2116</td><td>1816</td><td>2064</td><td>906</td><td>937</td><td>907</td><td>755</td><td>1631</td><td>1009</td><td>1057</td></tr>\n",
       "\t<tr><td>X:49880101-49880300</td><td>1239</td><td>1312</td><td>1318</td><td>1212</td><td>576</td><td>571</td><td>618</td><td>473</td><td> 997</td><td> 546</td><td> 579</td></tr>\n",
       "\t<tr><td>X:49880151-49880350</td><td>1509</td><td>1566</td><td>1481</td><td>1469</td><td>662</td><td>749</td><td>698</td><td>455</td><td> 976</td><td> 498</td><td> 661</td></tr>\n",
       "\t<tr><td>X:49880201-49880400</td><td> 509</td><td> 579</td><td> 647</td><td> 574</td><td>280</td><td>297</td><td>262</td><td>259</td><td> 561</td><td> 370</td><td> 351</td></tr>\n",
       "\t<tr><td>X:49880251-49880450</td><td>1708</td><td>1870</td><td>1890</td><td>1845</td><td>832</td><td>925</td><td>542</td><td>498</td><td> 832</td><td> 502</td><td> 665</td></tr>\n",
       "\t<tr><td>X:49880301-49880500</td><td> 694</td><td> 910</td><td> 731</td><td> 809</td><td>375</td><td>366</td><td>278</td><td>233</td><td> 445</td><td> 257</td><td> 308</td></tr>\n",
       "\t<tr><td>X:49880351-49880550</td><td> 816</td><td> 897</td><td> 825</td><td> 812</td><td>365</td><td>377</td><td>323</td><td>273</td><td> 530</td><td> 371</td><td> 482</td></tr>\n",
       "\t<tr><td>X:49880401-49880600</td><td> 346</td><td> 390</td><td> 370</td><td> 332</td><td>158</td><td>181</td><td>152</td><td>123</td><td> 269</td><td> 137</td><td> 178</td></tr>\n",
       "\t<tr><td>X:49880451-49880650</td><td> 463</td><td> 489</td><td> 432</td><td> 536</td><td>241</td><td>278</td><td>230</td><td>240</td><td> 366</td><td> 273</td><td> 352</td></tr>\n",
       "</tbody>\n",
       "</table>\n"
      ],
      "text/latex": [
       "A tibble: 10 × 12\n",
       "\\begin{tabular}{llllllllllll}\n",
       " Fragment & plasmid\\_r1 & plasmid\\_r2 & plasmid\\_r3 & plasmid\\_r4 & plasmid\\_r5 & plasmid\\_r6 & K562\\_r1 & K562\\_r2 & K562\\_r3 & K562\\_r4 & K562\\_r5\\\\\n",
       " <chr> & <int> & <int> & <int> & <int> & <int> & <int> & <int> & <int> & <int> & <int> & <int>\\\\\n",
       "\\hline\n",
       "\t X:49880001-49880200 & 1375 & 1453 & 1454 & 1387 & 679 & 650 & 946 & 678 & 1287 &  834 &  887\\\\\n",
       "\t X:49880051-49880250 & 1883 & 2116 & 1816 & 2064 & 906 & 937 & 907 & 755 & 1631 & 1009 & 1057\\\\\n",
       "\t X:49880101-49880300 & 1239 & 1312 & 1318 & 1212 & 576 & 571 & 618 & 473 &  997 &  546 &  579\\\\\n",
       "\t X:49880151-49880350 & 1509 & 1566 & 1481 & 1469 & 662 & 749 & 698 & 455 &  976 &  498 &  661\\\\\n",
       "\t X:49880201-49880400 &  509 &  579 &  647 &  574 & 280 & 297 & 262 & 259 &  561 &  370 &  351\\\\\n",
       "\t X:49880251-49880450 & 1708 & 1870 & 1890 & 1845 & 832 & 925 & 542 & 498 &  832 &  502 &  665\\\\\n",
       "\t X:49880301-49880500 &  694 &  910 &  731 &  809 & 375 & 366 & 278 & 233 &  445 &  257 &  308\\\\\n",
       "\t X:49880351-49880550 &  816 &  897 &  825 &  812 & 365 & 377 & 323 & 273 &  530 &  371 &  482\\\\\n",
       "\t X:49880401-49880600 &  346 &  390 &  370 &  332 & 158 & 181 & 152 & 123 &  269 &  137 &  178\\\\\n",
       "\t X:49880451-49880650 &  463 &  489 &  432 &  536 & 241 & 278 & 230 & 240 &  366 &  273 &  352\\\\\n",
       "\\end{tabular}\n"
      ],
      "text/markdown": [
       "\n",
       "A tibble: 10 × 12\n",
       "\n",
       "| Fragment &lt;chr&gt; | plasmid_r1 &lt;int&gt; | plasmid_r2 &lt;int&gt; | plasmid_r3 &lt;int&gt; | plasmid_r4 &lt;int&gt; | plasmid_r5 &lt;int&gt; | plasmid_r6 &lt;int&gt; | K562_r1 &lt;int&gt; | K562_r2 &lt;int&gt; | K562_r3 &lt;int&gt; | K562_r4 &lt;int&gt; | K562_r5 &lt;int&gt; |\n",
       "|---|---|---|---|---|---|---|---|---|---|---|---|\n",
       "| X:49880001-49880200 | 1375 | 1453 | 1454 | 1387 | 679 | 650 | 946 | 678 | 1287 |  834 |  887 |\n",
       "| X:49880051-49880250 | 1883 | 2116 | 1816 | 2064 | 906 | 937 | 907 | 755 | 1631 | 1009 | 1057 |\n",
       "| X:49880101-49880300 | 1239 | 1312 | 1318 | 1212 | 576 | 571 | 618 | 473 |  997 |  546 |  579 |\n",
       "| X:49880151-49880350 | 1509 | 1566 | 1481 | 1469 | 662 | 749 | 698 | 455 |  976 |  498 |  661 |\n",
       "| X:49880201-49880400 |  509 |  579 |  647 |  574 | 280 | 297 | 262 | 259 |  561 |  370 |  351 |\n",
       "| X:49880251-49880450 | 1708 | 1870 | 1890 | 1845 | 832 | 925 | 542 | 498 |  832 |  502 |  665 |\n",
       "| X:49880301-49880500 |  694 |  910 |  731 |  809 | 375 | 366 | 278 | 233 |  445 |  257 |  308 |\n",
       "| X:49880351-49880550 |  816 |  897 |  825 |  812 | 365 | 377 | 323 | 273 |  530 |  371 |  482 |\n",
       "| X:49880401-49880600 |  346 |  390 |  370 |  332 | 158 | 181 | 152 | 123 |  269 |  137 |  178 |\n",
       "| X:49880451-49880650 |  463 |  489 |  432 |  536 | 241 | 278 | 230 | 240 |  366 |  273 |  352 |\n",
       "\n"
      ],
      "text/plain": [
       "   Fragment            plasmid_r1 plasmid_r2 plasmid_r3 plasmid_r4 plasmid_r5\n",
       "1  X:49880001-49880200 1375       1453       1454       1387       679       \n",
       "2  X:49880051-49880250 1883       2116       1816       2064       906       \n",
       "3  X:49880101-49880300 1239       1312       1318       1212       576       \n",
       "4  X:49880151-49880350 1509       1566       1481       1469       662       \n",
       "5  X:49880201-49880400  509        579        647        574       280       \n",
       "6  X:49880251-49880450 1708       1870       1890       1845       832       \n",
       "7  X:49880301-49880500  694        910        731        809       375       \n",
       "8  X:49880351-49880550  816        897        825        812       365       \n",
       "9  X:49880401-49880600  346        390        370        332       158       \n",
       "10 X:49880451-49880650  463        489        432        536       241       \n",
       "   plasmid_r6 K562_r1 K562_r2 K562_r3 K562_r4 K562_r5\n",
       "1  650        946     678     1287     834     887   \n",
       "2  937        907     755     1631    1009    1057   \n",
       "3  571        618     473      997     546     579   \n",
       "4  749        698     455      976     498     661   \n",
       "5  297        262     259      561     370     351   \n",
       "6  925        542     498      832     502     665   \n",
       "7  366        278     233      445     257     308   \n",
       "8  377        323     273      530     371     482   \n",
       "9  181        152     123      269     137     178   \n",
       "10 278        230     240      366     273     352   "
      ]
     },
     "metadata": {},
     "output_type": "display_data"
    }
   ],
   "source": [
    "tail(tmp, 10)"
   ]
  },
  {
   "cell_type": "code",
   "execution_count": null,
   "id": "52569fb7",
   "metadata": {},
   "outputs": [],
   "source": []
  },
  {
   "cell_type": "code",
   "execution_count": 38,
   "id": "2169166b",
   "metadata": {},
   "outputs": [
    {
     "name": "stderr",
     "output_type": "stream",
     "text": [
      "Warning message in str_replace(string, pattern, \"\"):\n",
      "“restarting interrupted promise evaluation”\n",
      "Warning message in str_replace(string, pattern, \"\"):\n",
      "“internal error -3 in R_decompress1”\n"
     ]
    },
    {
     "ename": "ERROR",
     "evalue": "Error in str_replace(string, pattern, \"\"): lazy-load database '/usr/lib/R/site-library/stringi/R/stringi.rdb' is corrupt\n",
     "output_type": "error",
     "traceback": [
      "Error in str_replace(string, pattern, \"\"): lazy-load database '/usr/lib/R/site-library/stringi/R/stringi.rdb' is corrupt\nTraceback:\n",
      "1. stringr::str_remove(fruits, \"[aeiou]\")",
      "2. str_replace(string, pattern, \"\")"
     ]
    }
   ],
   "source": [
    "fruits <- c(\"one apple\", \"two pears\", \"three bananas\")\n",
    "stringr::str_remove(fruits, \"[aeiou]\")"
   ]
  },
  {
   "cell_type": "code",
   "execution_count": 22,
   "id": "360a396b",
   "metadata": {},
   "outputs": [
    {
     "name": "stderr",
     "output_type": "stream",
     "text": [
      "Warning message in str_replace(string, pattern, \"\"):\n",
      "“restarting interrupted promise evaluation”\n",
      "Warning message in str_replace(string, pattern, \"\"):\n",
      "“internal error -3 in R_decompress1”\n"
     ]
    },
    {
     "ename": "ERROR",
     "evalue": "Error in str_replace(string, pattern, \"\"): lazy-load database '/usr/lib/R/site-library/stringi/R/stringi.rdb' is corrupt\n",
     "output_type": "error",
     "traceback": [
      "Error in str_replace(string, pattern, \"\"): lazy-load database '/usr/lib/R/site-library/stringi/R/stringi.rdb' is corrupt\nTraceback:\n",
      "1. str_remove(string = \"(X)\", pattern = \"\\\\(\")",
      "2. str_replace(string, pattern, \"\")"
     ]
    }
   ],
   "source": [
    "str_remove(string = \"(X)\", pattern = \"\\\\(\")"
   ]
  },
  {
   "cell_type": "code",
   "execution_count": null,
   "id": "7a1446ef",
   "metadata": {},
   "outputs": [],
   "source": [
    "### Expand IDs that denote duplicate oligos in count/DESeq results\n",
    "# Requires the output_2 of dataOut function - This is a df containing the control (DNA) means and experimental (RNA) means and\n",
    "  # normalized-celltype specific DESeq results\n",
    "## Returns: Final output table with no duplicates - Table in the same format as above, except with IDs that were previously several oligos\n",
    "  ## separated by semi-colons have been separated into separate rows.\n",
    "expandDups <- function(output){\n",
    "  output_orig <- output\n",
    "  if(class(output_orig)==\"matrix\"){\n",
    "    output_orig <- as.data.frame(output_orig)\n",
    "  }\n",
    "  output_new <- cbind(rownames(output_orig), output_orig)\n",
    "  colnames(output_new)[1] <- \"Row.names\"\n",
    "  # Identify duplicates, if any exist\n",
    "  message(\"identifying duplicates\")\n",
    "  dups <- output_new[grep(\"\\\\(.*\\\\)$\",output_new$Row.names),]\n",
    "  dups$Row.names <- gsub(\"^\\\\((.*)\\\\)$\",\"\\\\1\",dups$Row.names)\n",
    "  # Add everything but the duplicates to the final output\n",
    "  message(\"resolving duplicates\")\n",
    "  output_final <- output_new[-(grep(\"\\\\(.*\\\\)$\",output_new$Row.names)),]\n",
    "  output_final <- output_final[!(is.na(output_final$Row.names)),]\n",
    "  if(nrow(dups) > 0) {\n",
    "    for(i in 1:nrow(dups)){\n",
    "      dup_id <- unlist(strsplit(dups$Row.names[i],\";\"))\n",
    "      dup_exp <- dups[rep(i, length(dup_id)), ]\n",
    "      dup_exp$Row.names <- dup_id\n",
    "      output_final <- rbind(dup_exp,output_final)\n",
    "    }\n",
    "    rownames(output_final) <- output_final[,1]\n",
    "    output_final <- output_final[,-1]\n",
    "  }else {\n",
    "    output_final <- output_orig\n",
    "  }\n",
    "  return(output_final)\n",
    "}"
   ]
  }
 ],
 "metadata": {
  "kernelspec": {
   "display_name": "R",
   "language": "R",
   "name": "ir"
  },
  "language_info": {
   "codemirror_mode": "r",
   "file_extension": ".r",
   "mimetype": "text/x-r-source",
   "name": "R",
   "pygments_lexer": "r",
   "version": "4.2.2"
  }
 },
 "nbformat": 4,
 "nbformat_minor": 5
}
