{
 "cells": [
  {
   "cell_type": "markdown",
   "id": "211b0216",
   "metadata": {},
   "source": [
    "**Set environment**"
   ]
  },
  {
   "cell_type": "code",
   "execution_count": 1,
   "id": "58b2e9e5",
   "metadata": {},
   "outputs": [
    {
     "name": "stdout",
     "output_type": "stream",
     "text": [
      "You are on Duke Server: HARDAC\n",
      "BASE DIRECTORY:     /gpfs/fs1/data/reddylab/Kuei\n",
      "PATH OF SOURCE:     /gpfs/fs1/data/reddylab/Kuei/source\n",
      "PATH OF EXECUTABLE: /gpfs/fs1/data/reddylab/Kuei/exe\n",
      "PATH OF ANNOTATION: /gpfs/fs1/data/reddylab/Kuei/annotation\n",
      "PATH OF PROJECT:    /gpfs/fs1/data/reddylab/Kuei/GitRepo/Proj_CombEffect_ENCODE_FCC/notebooks\n",
      "PATH OF RESULTS:    /gpfs/fs1/data/reddylab/Kuei/out/proj_combeffect_encode_fcc\n",
      "\n"
     ]
    }
   ],
   "source": [
    "source ../config/config_duke.sh; show_env"
   ]
  },
  {
   "cell_type": "markdown",
   "id": "7af2933d",
   "metadata": {},
   "source": [
    "**Check data directory**"
   ]
  },
  {
   "cell_type": "code",
   "execution_count": 2,
   "id": "f033e153",
   "metadata": {},
   "outputs": [
    {
     "name": "stdout",
     "output_type": "stream",
     "text": [
      "\u001b[0m\u001b[38;5;27mA001_K562_wstarrseq_fragments\u001b[0m  \u001b[38;5;27mKS91_K562_astarrseq_fragments_220510\u001b[0m  Readme.md\n",
      "\u001b[38;5;27mannotation_cCREs\u001b[0m               \u001b[38;5;27mKS91_K562_astarrseq_peak_macs\u001b[0m         \u001b[38;5;27mtmp\u001b[0m\n",
      "\u001b[38;5;27mannotation_remap2022\u001b[0m           \u001b[38;5;27mMPRA\u001b[0m\n"
     ]
    }
   ],
   "source": [
    "ls ${FD_RES}/source"
   ]
  },
  {
   "cell_type": "code",
   "execution_count": 3,
   "id": "acab9d74",
   "metadata": {},
   "outputs": [
    {
     "name": "stdout",
     "output_type": "stream",
     "text": [
      "KS91_K562_hg38_ASTARRseq_Input_rep1.masked.dups_marked.sorted.FADS.fragment_counts.stranded.bed\n",
      "KS91_K562_hg38_ASTARRseq_Input_rep1.masked.dups_marked.sorted.FADS.fragment_counts.unstranded.bed\n",
      "KS91_K562_hg38_ASTARRseq_Input_rep1.masked.dups_marked.sorted.GATA1.fragment_counts.stranded.bed\n",
      "KS91_K562_hg38_ASTARRseq_Input_rep1.masked.dups_marked.sorted.GATA1.fragment_counts.unstranded.bed\n",
      "KS91_K562_hg38_ASTARRseq_Input_rep1.masked.dups_marked.sorted.MYC.fragment_counts.stranded.bed\n",
      "KS91_K562_hg38_ASTARRseq_Input_rep1.masked.dups_marked.sorted.MYC.fragment_counts.unstranded.bed\n",
      "KS91_K562_hg38_ASTARRseq_Input_rep2.masked.dups_marked.sorted.FADS.fragment_counts.stranded.bed\n",
      "KS91_K562_hg38_ASTARRseq_Input_rep2.masked.dups_marked.sorted.FADS.fragment_counts.unstranded.bed\n",
      "KS91_K562_hg38_ASTARRseq_Input_rep2.masked.dups_marked.sorted.GATA1.fragment_counts.stranded.bed\n",
      "KS91_K562_hg38_ASTARRseq_Input_rep2.masked.dups_marked.sorted.GATA1.fragment_counts.unstranded.bed\n",
      "KS91_K562_hg38_ASTARRseq_Input_rep2.masked.dups_marked.sorted.MYC.fragment_counts.stranded.bed\n",
      "KS91_K562_hg38_ASTARRseq_Input_rep2.masked.dups_marked.sorted.MYC.fragment_counts.unstranded.bed\n",
      "KS91_K562_hg38_ASTARRseq_Input_rep3.masked.dups_marked.sorted.FADS.fragment_counts.stranded.bed\n",
      "KS91_K562_hg38_ASTARRseq_Input_rep3.masked.dups_marked.sorted.FADS.fragment_counts.unstranded.bed\n",
      "KS91_K562_hg38_ASTARRseq_Input_rep3.masked.dups_marked.sorted.GATA1.fragment_counts.stranded.bed\n",
      "KS91_K562_hg38_ASTARRseq_Input_rep3.masked.dups_marked.sorted.GATA1.fragment_counts.unstranded.bed\n",
      "KS91_K562_hg38_ASTARRseq_Input_rep3.masked.dups_marked.sorted.MYC.fragment_counts.stranded.bed\n",
      "KS91_K562_hg38_ASTARRseq_Input_rep3.masked.dups_marked.sorted.MYC.fragment_counts.unstranded.bed\n",
      "KS91_K562_hg38_ASTARRseq_Input_rep4.masked.dups_marked.sorted.FADS.fragment_counts.stranded.bed\n",
      "KS91_K562_hg38_ASTARRseq_Input_rep4.masked.dups_marked.sorted.FADS.fragment_counts.unstranded.bed\n",
      "KS91_K562_hg38_ASTARRseq_Input_rep4.masked.dups_marked.sorted.GATA1.fragment_counts.stranded.bed\n",
      "KS91_K562_hg38_ASTARRseq_Input_rep4.masked.dups_marked.sorted.GATA1.fragment_counts.unstranded.bed\n",
      "KS91_K562_hg38_ASTARRseq_Input_rep4.masked.dups_marked.sorted.MYC.fragment_counts.stranded.bed\n",
      "KS91_K562_hg38_ASTARRseq_Input_rep4.masked.dups_marked.sorted.MYC.fragment_counts.unstranded.bed\n",
      "KS91_K562_hg38_ASTARRseq_Input_rep5.masked.dups_marked.sorted.FADS.fragment_counts.stranded.bed\n",
      "KS91_K562_hg38_ASTARRseq_Input_rep5.masked.dups_marked.sorted.FADS.fragment_counts.unstranded.bed\n",
      "KS91_K562_hg38_ASTARRseq_Input_rep5.masked.dups_marked.sorted.GATA1.fragment_counts.stranded.bed\n",
      "KS91_K562_hg38_ASTARRseq_Input_rep5.masked.dups_marked.sorted.GATA1.fragment_counts.unstranded.bed\n",
      "KS91_K562_hg38_ASTARRseq_Input_rep5.masked.dups_marked.sorted.MYC.fragment_counts.stranded.bed\n",
      "KS91_K562_hg38_ASTARRseq_Input_rep5.masked.dups_marked.sorted.MYC.fragment_counts.unstranded.bed\n",
      "KS91_K562_hg38_ASTARRseq_Input_rep6.masked.dups_marked.sorted.FADS.fragment_counts.stranded.bed\n",
      "KS91_K562_hg38_ASTARRseq_Input_rep6.masked.dups_marked.sorted.FADS.fragment_counts.unstranded.bed\n",
      "KS91_K562_hg38_ASTARRseq_Input_rep6.masked.dups_marked.sorted.GATA1.fragment_counts.stranded.bed\n",
      "KS91_K562_hg38_ASTARRseq_Input_rep6.masked.dups_marked.sorted.GATA1.fragment_counts.unstranded.bed\n",
      "KS91_K562_hg38_ASTARRseq_Input_rep6.masked.dups_marked.sorted.MYC.fragment_counts.stranded.bed\n",
      "KS91_K562_hg38_ASTARRseq_Input_rep6.masked.dups_marked.sorted.MYC.fragment_counts.unstranded.bed\n",
      "KS91_K562_hg38_ASTARRseq_Output_rep1.f3q10.sorted.with_umis.dups_marked.FADS.fragment_counts.stranded.bed\n",
      "KS91_K562_hg38_ASTARRseq_Output_rep1.f3q10.sorted.with_umis.dups_marked.FADS.fragment_counts.unstranded.bed\n",
      "KS91_K562_hg38_ASTARRseq_Output_rep1.f3q10.sorted.with_umis.dups_marked.GATA1.fragment_counts.stranded.bed\n",
      "KS91_K562_hg38_ASTARRseq_Output_rep1.f3q10.sorted.with_umis.dups_marked.GATA1.fragment_counts.unstranded.bed\n",
      "KS91_K562_hg38_ASTARRseq_Output_rep1.f3q10.sorted.with_umis.dups_marked.MYC.fragment_counts.stranded.bed\n",
      "KS91_K562_hg38_ASTARRseq_Output_rep1.f3q10.sorted.with_umis.dups_marked.MYC.fragment_counts.unstranded.bed\n",
      "KS91_K562_hg38_ASTARRseq_Output_rep2.f3q10.sorted.with_umis.dups_marked.FADS.fragment_counts.stranded.bed\n",
      "KS91_K562_hg38_ASTARRseq_Output_rep2.f3q10.sorted.with_umis.dups_marked.FADS.fragment_counts.unstranded.bed\n",
      "KS91_K562_hg38_ASTARRseq_Output_rep2.f3q10.sorted.with_umis.dups_marked.GATA1.fragment_counts.stranded.bed\n",
      "KS91_K562_hg38_ASTARRseq_Output_rep2.f3q10.sorted.with_umis.dups_marked.GATA1.fragment_counts.unstranded.bed\n",
      "KS91_K562_hg38_ASTARRseq_Output_rep2.f3q10.sorted.with_umis.dups_marked.MYC.fragment_counts.stranded.bed\n",
      "KS91_K562_hg38_ASTARRseq_Output_rep2.f3q10.sorted.with_umis.dups_marked.MYC.fragment_counts.unstranded.bed\n",
      "KS91_K562_hg38_ASTARRseq_Output_rep3.f3q10.sorted.with_umis.dups_marked.FADS.fragment_counts.stranded.bed\n",
      "KS91_K562_hg38_ASTARRseq_Output_rep3.f3q10.sorted.with_umis.dups_marked.FADS.fragment_counts.unstranded.bed\n",
      "KS91_K562_hg38_ASTARRseq_Output_rep3.f3q10.sorted.with_umis.dups_marked.GATA1.fragment_counts.stranded.bed\n",
      "KS91_K562_hg38_ASTARRseq_Output_rep3.f3q10.sorted.with_umis.dups_marked.GATA1.fragment_counts.unstranded.bed\n",
      "KS91_K562_hg38_ASTARRseq_Output_rep3.f3q10.sorted.with_umis.dups_marked.MYC.fragment_counts.stranded.bed\n",
      "KS91_K562_hg38_ASTARRseq_Output_rep3.f3q10.sorted.with_umis.dups_marked.MYC.fragment_counts.unstranded.bed\n",
      "KS91_K562_hg38_ASTARRseq_Output_rep4.f3q10.sorted.with_umis.dups_marked.FADS.fragment_counts.stranded.bed\n",
      "KS91_K562_hg38_ASTARRseq_Output_rep4.f3q10.sorted.with_umis.dups_marked.FADS.fragment_counts.unstranded.bed\n",
      "KS91_K562_hg38_ASTARRseq_Output_rep4.f3q10.sorted.with_umis.dups_marked.GATA1.fragment_counts.stranded.bed\n",
      "KS91_K562_hg38_ASTARRseq_Output_rep4.f3q10.sorted.with_umis.dups_marked.GATA1.fragment_counts.unstranded.bed\n",
      "KS91_K562_hg38_ASTARRseq_Output_rep4.f3q10.sorted.with_umis.dups_marked.MYC.fragment_counts.stranded.bed\n",
      "KS91_K562_hg38_ASTARRseq_Output_rep4.f3q10.sorted.with_umis.dups_marked.MYC.fragment_counts.unstranded.bed\n"
     ]
    }
   ],
   "source": [
    "ls ${FD_RES}/source/KS91_K562_astarrseq_fragments_220510"
   ]
  },
  {
   "cell_type": "code",
   "execution_count": 4,
   "id": "82fe06c6",
   "metadata": {},
   "outputs": [
    {
     "name": "stdout",
     "output_type": "stream",
     "text": [
      "KS91_K562_hg38_ASTARRseq_Input_rep1.masked.dups_marked.sorted.FADS.fragment_counts.stranded.bed\n",
      "KS91_K562_hg38_ASTARRseq_Input_rep1.masked.dups_marked.sorted.FADS.fragment_counts.unstranded.bed\n",
      "KS91_K562_hg38_ASTARRseq_Input_rep1.masked.dups_marked.sorted.GATA1.fragment_counts.stranded.bed\n",
      "KS91_K562_hg38_ASTARRseq_Input_rep1.masked.dups_marked.sorted.GATA1.fragment_counts.unstranded.bed\n",
      "KS91_K562_hg38_ASTARRseq_Input_rep1.masked.dups_marked.sorted.MYC.fragment_counts.stranded.bed\n",
      "KS91_K562_hg38_ASTARRseq_Input_rep1.masked.dups_marked.sorted.MYC.fragment_counts.unstranded.bed\n"
     ]
    }
   ],
   "source": [
    "ls ${FD_RES}/source/KS91_K562_astarrseq_fragments_220510/KS91_K562_hg38_ASTARRseq_Input_rep1* | xargs -n 1 basename"
   ]
  },
  {
   "cell_type": "markdown",
   "id": "531f4cb8",
   "metadata": {
    "tags": []
   },
   "source": [
    "## View Keith's ATAC-STARR data for GATA1 region"
   ]
  },
  {
   "cell_type": "markdown",
   "id": "07c7504c",
   "metadata": {},
   "source": [
    "```\n",
    "KS91_K562_hg38_ASTARRseq_Input_rep1.masked.dups_marked.sorted.GATA1.fragment_counts.stranded.bed\n",
    "KS91_K562_hg38_ASTARRseq_Input_rep1.masked.dups_marked.sorted.GATA1.fragment_counts.unstranded.bed\n",
    "KS91_K562_hg38_ASTARRseq_Output_rep1.f3q10.sorted.with_umis.dups_marked.GATA1.fragment_counts.stranded.bed\n",
    "KS91_K562_hg38_ASTARRseq_Output_rep1.f3q10.sorted.with_umis.dups_marked.GATA1.fragment_counts.unstranded.bed\n",
    "```"
   ]
  },
  {
   "cell_type": "code",
   "execution_count": 5,
   "id": "b10934a8",
   "metadata": {},
   "outputs": [
    {
     "name": "stdout",
     "output_type": "stream",
     "text": [
      "chrX\t47787165\t47787363\tchrX_47787165_47787363_+\t1\t+\n",
      "chrX\t47787557\t47787773\tchrX_47787557_47787773_-\t1\t-\n",
      "chrX\t47787593\t47787783\tchrX_47787593_47787783_-\t1\t-\n"
     ]
    }
   ],
   "source": [
    "FDIRY=${FD_RES}/source/KS91_K562_astarrseq_fragments_220510\n",
    "FNAME=KS91_K562_hg38_ASTARRseq_Input_rep1.masked.dups_marked.sorted.GATA1.fragment_counts.stranded.bed\n",
    "head -3 ${FDIRY}/${FNAME}"
   ]
  },
  {
   "cell_type": "code",
   "execution_count": 6,
   "id": "86517057",
   "metadata": {},
   "outputs": [
    {
     "name": "stdout",
     "output_type": "stream",
     "text": [
      "chrX\t47787165\t47787363\tchrX_47787165_47787363\t1\t.\n",
      "chrX\t47787557\t47787773\tchrX_47787557_47787773\t2\t.\n",
      "chrX\t47787593\t47787783\tchrX_47787593_47787783\t1\t.\n"
     ]
    }
   ],
   "source": [
    "FDIRY=${FD_RES}/source/KS91_K562_astarrseq_fragments_220510\n",
    "FNAME=KS91_K562_hg38_ASTARRseq_Input_rep1.masked.dups_marked.sorted.GATA1.fragment_counts.unstranded.bed\n",
    "head -3 ${FDIRY}/${FNAME}"
   ]
  },
  {
   "cell_type": "code",
   "execution_count": 7,
   "id": "438174b3",
   "metadata": {},
   "outputs": [
    {
     "name": "stdout",
     "output_type": "stream",
     "text": [
      "chrX\t47787189\t47787363\tchrX_47787189_47787363_+\t6\t+\n",
      "chrX\t47788545\t47789154\tchrX_47788545_47789154_+\t6\t+\n",
      "chrX\t47788659\t47788978\tchrX_47788659_47788978_+\t4\t+\n"
     ]
    }
   ],
   "source": [
    "FDIRY=${FD_RES}/source/KS91_K562_astarrseq_fragments_220510\n",
    "FNAME=KS91_K562_hg38_ASTARRseq_Output_rep1.f3q10.sorted.with_umis.dups_marked.GATA1.fragment_counts.stranded.bed\n",
    "head -3 ${FDIRY}/${FNAME}"
   ]
  },
  {
   "cell_type": "code",
   "execution_count": 8,
   "id": "a93b4818",
   "metadata": {},
   "outputs": [
    {
     "name": "stdout",
     "output_type": "stream",
     "text": [
      "chrX\t47787189\t47787363\tchrX_47787189_47787363\t6\t.\n",
      "chrX\t47788545\t47789154\tchrX_47788545_47789154\t6\t.\n",
      "chrX\t47788659\t47788978\tchrX_47788659_47788978\t4\t.\n"
     ]
    }
   ],
   "source": [
    "FDIRY=${FD_RES}/source/KS91_K562_astarrseq_fragments_220510\n",
    "FNAME=KS91_K562_hg38_ASTARRseq_Output_rep1.f3q10.sorted.with_umis.dups_marked.GATA1.fragment_counts.unstranded.bed\n",
    "head -3 ${FDIRY}/${FNAME}\n"
   ]
  },
  {
   "cell_type": "markdown",
   "id": "22af653b",
   "metadata": {},
   "source": [
    "**Test: split positive and negative strands**"
   ]
  },
  {
   "cell_type": "code",
   "execution_count": 9,
   "id": "75c44c5e",
   "metadata": {},
   "outputs": [
    {
     "name": "stdout",
     "output_type": "stream",
     "text": [
      "chrX\t47787165\t47787363\tchrX_47787165_47787363_+\t1\t+\n"
     ]
    }
   ],
   "source": [
    "FDIRY=${FD_RES}/source/KS91_K562_astarrseq_fragments_220510\n",
    "FNAME=KS91_K562_hg38_ASTARRseq_Input_rep1.masked.dups_marked.sorted.GATA1.fragment_counts.stranded.bed\n",
    "head -3 ${FDIRY}/${FNAME} | awk '{ if ($6 == \"+\") { print } }'"
   ]
  },
  {
   "cell_type": "code",
   "execution_count": 10,
   "id": "3d3b5701",
   "metadata": {},
   "outputs": [
    {
     "name": "stdout",
     "output_type": "stream",
     "text": [
      "chrX\t47787557\t47787773\tchrX_47787557_47787773_-\t1\t-\n",
      "chrX\t47787593\t47787783\tchrX_47787593_47787783_-\t1\t-\n"
     ]
    }
   ],
   "source": [
    "FDIRY=${FD_RES}/source/KS91_K562_astarrseq_fragments_220510\n",
    "FNAME=KS91_K562_hg38_ASTARRseq_Input_rep1.masked.dups_marked.sorted.GATA1.fragment_counts.stranded.bed\n",
    "head -3 ${FDIRY}/${FNAME} | awk '{ if ($6 == \"-\") { print } }'"
   ]
  },
  {
   "cell_type": "code",
   "execution_count": 11,
   "id": "ec955f4f",
   "metadata": {},
   "outputs": [
    {
     "name": "stdout",
     "output_type": "stream",
     "text": [
      "chrX\t47787165\t47787363\tchrX_47787165_47787363_+\t1\t+\n"
     ]
    }
   ],
   "source": [
    "FDIRY=${FD_RES}/source/KS91_K562_astarrseq_fragments_220510\n",
    "FNAME=KS91_K562_hg38_ASTARRseq_Input_rep1.masked.dups_marked.sorted.GATA1.fragment_counts.stranded.bed\n",
    "head -3 ${FDIRY}/${FNAME} | awk '{ if ($6 == \"+\") { print } }' | awk -v OFS='\\t' {'print $1, $2, $3, $4, 1, $6'}"
   ]
  },
  {
   "cell_type": "markdown",
   "id": "1fbfb380",
   "metadata": {},
   "source": [
    "## Unstranded fragments"
   ]
  },
  {
   "cell_type": "markdown",
   "id": "6ca43118",
   "metadata": {},
   "source": [
    "**Input samples**"
   ]
  },
  {
   "cell_type": "code",
   "execution_count": 12,
   "id": "24d1bc38",
   "metadata": {},
   "outputs": [
    {
     "name": "stdout",
     "output_type": "stream",
     "text": [
      "GATA1 Input_rep1\n",
      "KS91_K562_hg38_ASTARRseq_Input_rep1.masked.dups_marked.sorted.GATA1.fragment_counts.unstranded.bed\n",
      "KS91_K562_hg38_ASTARRseq_Input_rep1.GATA1.unstranded.bed\n",
      "\n",
      "MYC Input_rep1\n",
      "KS91_K562_hg38_ASTARRseq_Input_rep1.masked.dups_marked.sorted.MYC.fragment_counts.unstranded.bed\n",
      "KS91_K562_hg38_ASTARRseq_Input_rep1.MYC.unstranded.bed\n",
      "\n",
      "FADS Input_rep1\n",
      "KS91_K562_hg38_ASTARRseq_Input_rep1.masked.dups_marked.sorted.FADS.fragment_counts.unstranded.bed\n",
      "KS91_K562_hg38_ASTARRseq_Input_rep1.FADS.unstranded.bed\n",
      "\n",
      "GATA1 Input_rep2\n",
      "KS91_K562_hg38_ASTARRseq_Input_rep2.masked.dups_marked.sorted.GATA1.fragment_counts.unstranded.bed\n",
      "KS91_K562_hg38_ASTARRseq_Input_rep2.GATA1.unstranded.bed\n",
      "\n",
      "MYC Input_rep2\n",
      "KS91_K562_hg38_ASTARRseq_Input_rep2.masked.dups_marked.sorted.MYC.fragment_counts.unstranded.bed\n",
      "KS91_K562_hg38_ASTARRseq_Input_rep2.MYC.unstranded.bed\n",
      "\n",
      "FADS Input_rep2\n",
      "KS91_K562_hg38_ASTARRseq_Input_rep2.masked.dups_marked.sorted.FADS.fragment_counts.unstranded.bed\n",
      "KS91_K562_hg38_ASTARRseq_Input_rep2.FADS.unstranded.bed\n",
      "\n",
      "GATA1 Input_rep3\n",
      "KS91_K562_hg38_ASTARRseq_Input_rep3.masked.dups_marked.sorted.GATA1.fragment_counts.unstranded.bed\n",
      "KS91_K562_hg38_ASTARRseq_Input_rep3.GATA1.unstranded.bed\n",
      "\n",
      "MYC Input_rep3\n",
      "KS91_K562_hg38_ASTARRseq_Input_rep3.masked.dups_marked.sorted.MYC.fragment_counts.unstranded.bed\n",
      "KS91_K562_hg38_ASTARRseq_Input_rep3.MYC.unstranded.bed\n",
      "\n",
      "FADS Input_rep3\n",
      "KS91_K562_hg38_ASTARRseq_Input_rep3.masked.dups_marked.sorted.FADS.fragment_counts.unstranded.bed\n",
      "KS91_K562_hg38_ASTARRseq_Input_rep3.FADS.unstranded.bed\n",
      "\n",
      "GATA1 Input_rep4\n",
      "KS91_K562_hg38_ASTARRseq_Input_rep4.masked.dups_marked.sorted.GATA1.fragment_counts.unstranded.bed\n",
      "KS91_K562_hg38_ASTARRseq_Input_rep4.GATA1.unstranded.bed\n",
      "\n",
      "MYC Input_rep4\n",
      "KS91_K562_hg38_ASTARRseq_Input_rep4.masked.dups_marked.sorted.MYC.fragment_counts.unstranded.bed\n",
      "KS91_K562_hg38_ASTARRseq_Input_rep4.MYC.unstranded.bed\n",
      "\n",
      "FADS Input_rep4\n",
      "KS91_K562_hg38_ASTARRseq_Input_rep4.masked.dups_marked.sorted.FADS.fragment_counts.unstranded.bed\n",
      "KS91_K562_hg38_ASTARRseq_Input_rep4.FADS.unstranded.bed\n",
      "\n",
      "GATA1 Input_rep5\n",
      "KS91_K562_hg38_ASTARRseq_Input_rep5.masked.dups_marked.sorted.GATA1.fragment_counts.unstranded.bed\n",
      "KS91_K562_hg38_ASTARRseq_Input_rep5.GATA1.unstranded.bed\n",
      "\n",
      "MYC Input_rep5\n",
      "KS91_K562_hg38_ASTARRseq_Input_rep5.masked.dups_marked.sorted.MYC.fragment_counts.unstranded.bed\n",
      "KS91_K562_hg38_ASTARRseq_Input_rep5.MYC.unstranded.bed\n",
      "\n",
      "FADS Input_rep5\n",
      "KS91_K562_hg38_ASTARRseq_Input_rep5.masked.dups_marked.sorted.FADS.fragment_counts.unstranded.bed\n",
      "KS91_K562_hg38_ASTARRseq_Input_rep5.FADS.unstranded.bed\n",
      "\n",
      "GATA1 Input_rep6\n",
      "KS91_K562_hg38_ASTARRseq_Input_rep6.masked.dups_marked.sorted.GATA1.fragment_counts.unstranded.bed\n",
      "KS91_K562_hg38_ASTARRseq_Input_rep6.GATA1.unstranded.bed\n",
      "\n",
      "MYC Input_rep6\n",
      "KS91_K562_hg38_ASTARRseq_Input_rep6.masked.dups_marked.sorted.MYC.fragment_counts.unstranded.bed\n",
      "KS91_K562_hg38_ASTARRseq_Input_rep6.MYC.unstranded.bed\n",
      "\n",
      "FADS Input_rep6\n",
      "KS91_K562_hg38_ASTARRseq_Input_rep6.masked.dups_marked.sorted.FADS.fragment_counts.unstranded.bed\n",
      "KS91_K562_hg38_ASTARRseq_Input_rep6.FADS.unstranded.bed\n",
      "\n"
     ]
    }
   ],
   "source": [
    "FD_INP=\"${FD_RES}/source/KS91_K562_astarrseq_fragments_220510\"\n",
    "FD_OUT=\"${FD_RES}/KS91_K562_ASTARRseq/fragment\"\n",
    "PREFIX=\"KS91_K562_hg38_ASTARRseq\"\n",
    "\n",
    "REGIONS=(\"GATA1\" \"MYC\" \"FADS\")\n",
    "GROUP=\"Input\"\n",
    "STRAND=\"unstranded\"\n",
    "\n",
    "\n",
    "mkdir -p ${FD_OUT}\n",
    "\n",
    "for IDX in {1..6}; do\n",
    "    for REGION in ${REGIONS[@]}; do\n",
    "        ### copy and rename\n",
    "        SAMPLE=${GROUP}_rep${IDX}\n",
    "        FP_INP=$(ls ${FD_INP}/${PREFIX}_${SAMPLE}.*.${REGION}.*.${STRAND}.bed)\n",
    "        FP_OUT=${FD_OUT}/${PREFIX}_${SAMPLE}.${REGION}.${STRAND}.bed\n",
    "        \n",
    "        ### deduplicate for input samples\n",
    "        cat ${FP_INP} | awk -v OFS='\\t' {'print $1, $2, $3, $4, 1, $6'} > ${FP_OUT}\n",
    "        \n",
    "        ### Show progress\n",
    "        FN_INP=$(basename ${FP_INP})\n",
    "        FN_OUT=$(basename ${FP_OUT})\n",
    "        echo ${REGION} ${SAMPLE}\n",
    "        echo ${FN_INP}\n",
    "        echo ${FN_OUT}\n",
    "        echo\n",
    "    done\n",
    "done"
   ]
  },
  {
   "cell_type": "markdown",
   "id": "76b05ebc",
   "metadata": {},
   "source": [
    "**Output samples**"
   ]
  },
  {
   "cell_type": "code",
   "execution_count": 13,
   "id": "d99426c6",
   "metadata": {},
   "outputs": [
    {
     "name": "stdout",
     "output_type": "stream",
     "text": [
      "GATA1 Output_rep1\n",
      "KS91_K562_hg38_ASTARRseq_Output_rep1.f3q10.sorted.with_umis.dups_marked.GATA1.fragment_counts.unstranded.bed\n",
      "KS91_K562_hg38_ASTARRseq_Output_rep1.GATA1.unstranded.bed\n",
      "\n",
      "MYC Output_rep1\n",
      "KS91_K562_hg38_ASTARRseq_Output_rep1.f3q10.sorted.with_umis.dups_marked.MYC.fragment_counts.unstranded.bed\n",
      "KS91_K562_hg38_ASTARRseq_Output_rep1.MYC.unstranded.bed\n",
      "\n",
      "FADS Output_rep1\n",
      "KS91_K562_hg38_ASTARRseq_Output_rep1.f3q10.sorted.with_umis.dups_marked.FADS.fragment_counts.unstranded.bed\n",
      "KS91_K562_hg38_ASTARRseq_Output_rep1.FADS.unstranded.bed\n",
      "\n",
      "GATA1 Output_rep2\n",
      "KS91_K562_hg38_ASTARRseq_Output_rep2.f3q10.sorted.with_umis.dups_marked.GATA1.fragment_counts.unstranded.bed\n",
      "KS91_K562_hg38_ASTARRseq_Output_rep2.GATA1.unstranded.bed\n",
      "\n",
      "MYC Output_rep2\n",
      "KS91_K562_hg38_ASTARRseq_Output_rep2.f3q10.sorted.with_umis.dups_marked.MYC.fragment_counts.unstranded.bed\n",
      "KS91_K562_hg38_ASTARRseq_Output_rep2.MYC.unstranded.bed\n",
      "\n",
      "FADS Output_rep2\n",
      "KS91_K562_hg38_ASTARRseq_Output_rep2.f3q10.sorted.with_umis.dups_marked.FADS.fragment_counts.unstranded.bed\n",
      "KS91_K562_hg38_ASTARRseq_Output_rep2.FADS.unstranded.bed\n",
      "\n",
      "GATA1 Output_rep3\n",
      "KS91_K562_hg38_ASTARRseq_Output_rep3.f3q10.sorted.with_umis.dups_marked.GATA1.fragment_counts.unstranded.bed\n",
      "KS91_K562_hg38_ASTARRseq_Output_rep3.GATA1.unstranded.bed\n",
      "\n",
      "MYC Output_rep3\n",
      "KS91_K562_hg38_ASTARRseq_Output_rep3.f3q10.sorted.with_umis.dups_marked.MYC.fragment_counts.unstranded.bed\n",
      "KS91_K562_hg38_ASTARRseq_Output_rep3.MYC.unstranded.bed\n",
      "\n",
      "FADS Output_rep3\n",
      "KS91_K562_hg38_ASTARRseq_Output_rep3.f3q10.sorted.with_umis.dups_marked.FADS.fragment_counts.unstranded.bed\n",
      "KS91_K562_hg38_ASTARRseq_Output_rep3.FADS.unstranded.bed\n",
      "\n",
      "GATA1 Output_rep4\n",
      "KS91_K562_hg38_ASTARRseq_Output_rep4.f3q10.sorted.with_umis.dups_marked.GATA1.fragment_counts.unstranded.bed\n",
      "KS91_K562_hg38_ASTARRseq_Output_rep4.GATA1.unstranded.bed\n",
      "\n",
      "MYC Output_rep4\n",
      "KS91_K562_hg38_ASTARRseq_Output_rep4.f3q10.sorted.with_umis.dups_marked.MYC.fragment_counts.unstranded.bed\n",
      "KS91_K562_hg38_ASTARRseq_Output_rep4.MYC.unstranded.bed\n",
      "\n",
      "FADS Output_rep4\n",
      "KS91_K562_hg38_ASTARRseq_Output_rep4.f3q10.sorted.with_umis.dups_marked.FADS.fragment_counts.unstranded.bed\n",
      "KS91_K562_hg38_ASTARRseq_Output_rep4.FADS.unstranded.bed\n",
      "\n"
     ]
    }
   ],
   "source": [
    "FD_INP=\"${FD_RES}/source/KS91_K562_astarrseq_fragments_220510\"\n",
    "FD_OUT=\"${FD_RES}/KS91_K562_ASTARRseq/fragment\"\n",
    "PREFIX=\"KS91_K562_hg38_ASTARRseq\"\n",
    "\n",
    "REGIONS=(\"GATA1\" \"MYC\" \"FADS\")\n",
    "GROUP=\"Output\"\n",
    "STRAND=\"unstranded\"\n",
    "\n",
    "\n",
    "mkdir -p ${FD_OUT}\n",
    "\n",
    "for IDX in {1..4}; do\n",
    "    for REGION in ${REGIONS[@]}; do\n",
    "        ### copy and rename\n",
    "        SAMPLE=${GROUP}_rep${IDX}\n",
    "        FP_INP=$(ls ${FD_INP}/${PREFIX}_${SAMPLE}.*.${REGION}.*.${STRAND}.bed)\n",
    "        FP_OUT=${FD_OUT}/${PREFIX}_${SAMPLE}.${REGION}.${STRAND}.bed\n",
    "        \n",
    "        ### copy\n",
    "        cp ${FP_INP} ${FP_OUT}\n",
    "        \n",
    "        ### Show progress\n",
    "        FN_INP=$(basename ${FP_INP})\n",
    "        FN_OUT=$(basename ${FP_OUT})\n",
    "        echo ${REGION} ${SAMPLE}\n",
    "        echo ${FN_INP}\n",
    "        echo ${FN_OUT}\n",
    "        echo\n",
    "    done\n",
    "done"
   ]
  },
  {
   "cell_type": "markdown",
   "id": "d8bc0694",
   "metadata": {},
   "source": [
    "## Stranded fragments"
   ]
  },
  {
   "cell_type": "markdown",
   "id": "7696d9a0",
   "metadata": {},
   "source": [
    "**Input samples**"
   ]
  },
  {
   "cell_type": "code",
   "execution_count": 14,
   "id": "97072fc8",
   "metadata": {},
   "outputs": [
    {
     "name": "stdout",
     "output_type": "stream",
     "text": [
      "GATA1 Input_rep1\n",
      "KS91_K562_hg38_ASTARRseq_Input_rep1.masked.dups_marked.sorted.GATA1.fragment_counts.stranded.bed\n",
      "KS91_K562_hg38_ASTARRseq_Input_rep1.GATA1.stranded_pos.bed\n",
      "KS91_K562_hg38_ASTARRseq_Input_rep1.GATA1.stranded_neg.bed\n",
      "\n",
      "MYC Input_rep1\n",
      "KS91_K562_hg38_ASTARRseq_Input_rep1.masked.dups_marked.sorted.MYC.fragment_counts.stranded.bed\n",
      "KS91_K562_hg38_ASTARRseq_Input_rep1.MYC.stranded_pos.bed\n",
      "KS91_K562_hg38_ASTARRseq_Input_rep1.MYC.stranded_neg.bed\n",
      "\n",
      "FADS Input_rep1\n",
      "KS91_K562_hg38_ASTARRseq_Input_rep1.masked.dups_marked.sorted.FADS.fragment_counts.stranded.bed\n",
      "KS91_K562_hg38_ASTARRseq_Input_rep1.FADS.stranded_pos.bed\n",
      "KS91_K562_hg38_ASTARRseq_Input_rep1.FADS.stranded_neg.bed\n",
      "\n",
      "GATA1 Input_rep2\n",
      "KS91_K562_hg38_ASTARRseq_Input_rep2.masked.dups_marked.sorted.GATA1.fragment_counts.stranded.bed\n",
      "KS91_K562_hg38_ASTARRseq_Input_rep2.GATA1.stranded_pos.bed\n",
      "KS91_K562_hg38_ASTARRseq_Input_rep2.GATA1.stranded_neg.bed\n",
      "\n",
      "MYC Input_rep2\n",
      "KS91_K562_hg38_ASTARRseq_Input_rep2.masked.dups_marked.sorted.MYC.fragment_counts.stranded.bed\n",
      "KS91_K562_hg38_ASTARRseq_Input_rep2.MYC.stranded_pos.bed\n",
      "KS91_K562_hg38_ASTARRseq_Input_rep2.MYC.stranded_neg.bed\n",
      "\n",
      "FADS Input_rep2\n",
      "KS91_K562_hg38_ASTARRseq_Input_rep2.masked.dups_marked.sorted.FADS.fragment_counts.stranded.bed\n",
      "KS91_K562_hg38_ASTARRseq_Input_rep2.FADS.stranded_pos.bed\n",
      "KS91_K562_hg38_ASTARRseq_Input_rep2.FADS.stranded_neg.bed\n",
      "\n",
      "GATA1 Input_rep3\n",
      "KS91_K562_hg38_ASTARRseq_Input_rep3.masked.dups_marked.sorted.GATA1.fragment_counts.stranded.bed\n",
      "KS91_K562_hg38_ASTARRseq_Input_rep3.GATA1.stranded_pos.bed\n",
      "KS91_K562_hg38_ASTARRseq_Input_rep3.GATA1.stranded_neg.bed\n",
      "\n",
      "MYC Input_rep3\n",
      "KS91_K562_hg38_ASTARRseq_Input_rep3.masked.dups_marked.sorted.MYC.fragment_counts.stranded.bed\n",
      "KS91_K562_hg38_ASTARRseq_Input_rep3.MYC.stranded_pos.bed\n",
      "KS91_K562_hg38_ASTARRseq_Input_rep3.MYC.stranded_neg.bed\n",
      "\n",
      "FADS Input_rep3\n",
      "KS91_K562_hg38_ASTARRseq_Input_rep3.masked.dups_marked.sorted.FADS.fragment_counts.stranded.bed\n",
      "KS91_K562_hg38_ASTARRseq_Input_rep3.FADS.stranded_pos.bed\n",
      "KS91_K562_hg38_ASTARRseq_Input_rep3.FADS.stranded_neg.bed\n",
      "\n",
      "GATA1 Input_rep4\n",
      "KS91_K562_hg38_ASTARRseq_Input_rep4.masked.dups_marked.sorted.GATA1.fragment_counts.stranded.bed\n",
      "KS91_K562_hg38_ASTARRseq_Input_rep4.GATA1.stranded_pos.bed\n",
      "KS91_K562_hg38_ASTARRseq_Input_rep4.GATA1.stranded_neg.bed\n",
      "\n",
      "MYC Input_rep4\n",
      "KS91_K562_hg38_ASTARRseq_Input_rep4.masked.dups_marked.sorted.MYC.fragment_counts.stranded.bed\n",
      "KS91_K562_hg38_ASTARRseq_Input_rep4.MYC.stranded_pos.bed\n",
      "KS91_K562_hg38_ASTARRseq_Input_rep4.MYC.stranded_neg.bed\n",
      "\n",
      "FADS Input_rep4\n",
      "KS91_K562_hg38_ASTARRseq_Input_rep4.masked.dups_marked.sorted.FADS.fragment_counts.stranded.bed\n",
      "KS91_K562_hg38_ASTARRseq_Input_rep4.FADS.stranded_pos.bed\n",
      "KS91_K562_hg38_ASTARRseq_Input_rep4.FADS.stranded_neg.bed\n",
      "\n",
      "GATA1 Input_rep5\n",
      "KS91_K562_hg38_ASTARRseq_Input_rep5.masked.dups_marked.sorted.GATA1.fragment_counts.stranded.bed\n",
      "KS91_K562_hg38_ASTARRseq_Input_rep5.GATA1.stranded_pos.bed\n",
      "KS91_K562_hg38_ASTARRseq_Input_rep5.GATA1.stranded_neg.bed\n",
      "\n",
      "MYC Input_rep5\n",
      "KS91_K562_hg38_ASTARRseq_Input_rep5.masked.dups_marked.sorted.MYC.fragment_counts.stranded.bed\n",
      "KS91_K562_hg38_ASTARRseq_Input_rep5.MYC.stranded_pos.bed\n",
      "KS91_K562_hg38_ASTARRseq_Input_rep5.MYC.stranded_neg.bed\n",
      "\n",
      "FADS Input_rep5\n",
      "KS91_K562_hg38_ASTARRseq_Input_rep5.masked.dups_marked.sorted.FADS.fragment_counts.stranded.bed\n",
      "KS91_K562_hg38_ASTARRseq_Input_rep5.FADS.stranded_pos.bed\n",
      "KS91_K562_hg38_ASTARRseq_Input_rep5.FADS.stranded_neg.bed\n",
      "\n",
      "GATA1 Input_rep6\n",
      "KS91_K562_hg38_ASTARRseq_Input_rep6.masked.dups_marked.sorted.GATA1.fragment_counts.stranded.bed\n",
      "KS91_K562_hg38_ASTARRseq_Input_rep6.GATA1.stranded_pos.bed\n",
      "KS91_K562_hg38_ASTARRseq_Input_rep6.GATA1.stranded_neg.bed\n",
      "\n",
      "MYC Input_rep6\n",
      "KS91_K562_hg38_ASTARRseq_Input_rep6.masked.dups_marked.sorted.MYC.fragment_counts.stranded.bed\n",
      "KS91_K562_hg38_ASTARRseq_Input_rep6.MYC.stranded_pos.bed\n",
      "KS91_K562_hg38_ASTARRseq_Input_rep6.MYC.stranded_neg.bed\n",
      "\n",
      "FADS Input_rep6\n",
      "KS91_K562_hg38_ASTARRseq_Input_rep6.masked.dups_marked.sorted.FADS.fragment_counts.stranded.bed\n",
      "KS91_K562_hg38_ASTARRseq_Input_rep6.FADS.stranded_pos.bed\n",
      "KS91_K562_hg38_ASTARRseq_Input_rep6.FADS.stranded_neg.bed\n",
      "\n"
     ]
    }
   ],
   "source": [
    "FD_INP=\"${FD_RES}/source/KS91_K562_astarrseq_fragments_220510\"\n",
    "FD_OUT=\"${FD_RES}/KS91_K562_ASTARRseq/fragment\"\n",
    "PREFIX=\"KS91_K562_hg38_ASTARRseq\"\n",
    "\n",
    "REGIONS=(\"GATA1\" \"MYC\" \"FADS\")\n",
    "STRAND=\"stranded\"\n",
    "GROUP=\"Input\"\n",
    "\n",
    "for IDX in {1..6}; do\n",
    "    for REGION in ${REGIONS[@]}; do\n",
    "        ### set input file\n",
    "        SAMPLE=${GROUP}_rep${IDX}\n",
    "        FP_INP=$(ls ${FD_INP}/${PREFIX}_${SAMPLE}.*.${REGION}.*.${STRAND}.bed)\n",
    "        FN_INP=$(basename ${FP_INP})\n",
    "        echo ${REGION} ${SAMPLE}\n",
    "        echo ${FN_INP}\n",
    "        \n",
    "        ### positive/forward strand\n",
    "        FP_OUT=${FD_OUT}/${PREFIX}_${SAMPLE}.${REGION}.${STRAND}_pos.bed\n",
    "        FN_OUT=$(basename ${FP_OUT})\n",
    "        cat ${FP_INP} |\\\n",
    "            awk '{ if ($6 == \"+\") { print } }' |\\\n",
    "            awk -v OFS='\\t' {'print $1, $2, $3, $4, 1, $6'} > ${FP_OUT}\n",
    "        echo ${FN_OUT}\n",
    "        \n",
    "        ### negative/reverse strand\n",
    "        FP_OUT=${FD_OUT}/${PREFIX}_${SAMPLE}.${REGION}.${STRAND}_neg.bed\n",
    "        FN_OUT=$(basename ${FP_OUT})\n",
    "        cat ${FP_INP} |\\\n",
    "            awk '{ if ($6 == \"-\") { print } }' |\\\n",
    "            awk -v OFS='\\t' {'print $1, $2, $3, $4, 1, $6'} > ${FP_OUT}\n",
    "        echo ${FN_OUT}\n",
    "        echo\n",
    "    done\n",
    "done"
   ]
  },
  {
   "cell_type": "markdown",
   "id": "93bd38cb",
   "metadata": {},
   "source": [
    "**Output samples**"
   ]
  },
  {
   "cell_type": "code",
   "execution_count": 15,
   "id": "e5c8275a",
   "metadata": {},
   "outputs": [
    {
     "name": "stdout",
     "output_type": "stream",
     "text": [
      "GATA1 Output_rep1\n",
      "KS91_K562_hg38_ASTARRseq_Output_rep1.f3q10.sorted.with_umis.dups_marked.GATA1.fragment_counts.stranded.bed\n",
      "KS91_K562_hg38_ASTARRseq_Output_rep1.GATA1.stranded_pos.bed\n",
      "KS91_K562_hg38_ASTARRseq_Output_rep1.GATA1.stranded_neg.bed\n",
      "\n",
      "MYC Output_rep1\n",
      "KS91_K562_hg38_ASTARRseq_Output_rep1.f3q10.sorted.with_umis.dups_marked.MYC.fragment_counts.stranded.bed\n",
      "KS91_K562_hg38_ASTARRseq_Output_rep1.MYC.stranded_pos.bed\n",
      "KS91_K562_hg38_ASTARRseq_Output_rep1.MYC.stranded_neg.bed\n",
      "\n",
      "FADS Output_rep1\n",
      "KS91_K562_hg38_ASTARRseq_Output_rep1.f3q10.sorted.with_umis.dups_marked.FADS.fragment_counts.stranded.bed\n",
      "KS91_K562_hg38_ASTARRseq_Output_rep1.FADS.stranded_pos.bed\n",
      "KS91_K562_hg38_ASTARRseq_Output_rep1.FADS.stranded_neg.bed\n",
      "\n",
      "GATA1 Output_rep2\n",
      "KS91_K562_hg38_ASTARRseq_Output_rep2.f3q10.sorted.with_umis.dups_marked.GATA1.fragment_counts.stranded.bed\n",
      "KS91_K562_hg38_ASTARRseq_Output_rep2.GATA1.stranded_pos.bed\n",
      "KS91_K562_hg38_ASTARRseq_Output_rep2.GATA1.stranded_neg.bed\n",
      "\n",
      "MYC Output_rep2\n",
      "KS91_K562_hg38_ASTARRseq_Output_rep2.f3q10.sorted.with_umis.dups_marked.MYC.fragment_counts.stranded.bed\n",
      "KS91_K562_hg38_ASTARRseq_Output_rep2.MYC.stranded_pos.bed\n",
      "KS91_K562_hg38_ASTARRseq_Output_rep2.MYC.stranded_neg.bed\n",
      "\n",
      "FADS Output_rep2\n",
      "KS91_K562_hg38_ASTARRseq_Output_rep2.f3q10.sorted.with_umis.dups_marked.FADS.fragment_counts.stranded.bed\n",
      "KS91_K562_hg38_ASTARRseq_Output_rep2.FADS.stranded_pos.bed\n",
      "KS91_K562_hg38_ASTARRseq_Output_rep2.FADS.stranded_neg.bed\n",
      "\n",
      "GATA1 Output_rep3\n",
      "KS91_K562_hg38_ASTARRseq_Output_rep3.f3q10.sorted.with_umis.dups_marked.GATA1.fragment_counts.stranded.bed\n",
      "KS91_K562_hg38_ASTARRseq_Output_rep3.GATA1.stranded_pos.bed\n",
      "KS91_K562_hg38_ASTARRseq_Output_rep3.GATA1.stranded_neg.bed\n",
      "\n",
      "MYC Output_rep3\n",
      "KS91_K562_hg38_ASTARRseq_Output_rep3.f3q10.sorted.with_umis.dups_marked.MYC.fragment_counts.stranded.bed\n",
      "KS91_K562_hg38_ASTARRseq_Output_rep3.MYC.stranded_pos.bed\n",
      "KS91_K562_hg38_ASTARRseq_Output_rep3.MYC.stranded_neg.bed\n",
      "\n",
      "FADS Output_rep3\n",
      "KS91_K562_hg38_ASTARRseq_Output_rep3.f3q10.sorted.with_umis.dups_marked.FADS.fragment_counts.stranded.bed\n",
      "KS91_K562_hg38_ASTARRseq_Output_rep3.FADS.stranded_pos.bed\n",
      "KS91_K562_hg38_ASTARRseq_Output_rep3.FADS.stranded_neg.bed\n",
      "\n",
      "GATA1 Output_rep4\n",
      "KS91_K562_hg38_ASTARRseq_Output_rep4.f3q10.sorted.with_umis.dups_marked.GATA1.fragment_counts.stranded.bed\n",
      "KS91_K562_hg38_ASTARRseq_Output_rep4.GATA1.stranded_pos.bed\n",
      "KS91_K562_hg38_ASTARRseq_Output_rep4.GATA1.stranded_neg.bed\n",
      "\n",
      "MYC Output_rep4\n",
      "KS91_K562_hg38_ASTARRseq_Output_rep4.f3q10.sorted.with_umis.dups_marked.MYC.fragment_counts.stranded.bed\n",
      "KS91_K562_hg38_ASTARRseq_Output_rep4.MYC.stranded_pos.bed\n",
      "KS91_K562_hg38_ASTARRseq_Output_rep4.MYC.stranded_neg.bed\n",
      "\n",
      "FADS Output_rep4\n",
      "KS91_K562_hg38_ASTARRseq_Output_rep4.f3q10.sorted.with_umis.dups_marked.FADS.fragment_counts.stranded.bed\n",
      "KS91_K562_hg38_ASTARRseq_Output_rep4.FADS.stranded_pos.bed\n",
      "KS91_K562_hg38_ASTARRseq_Output_rep4.FADS.stranded_neg.bed\n",
      "\n"
     ]
    }
   ],
   "source": [
    "FD_INP=\"${FD_RES}/source/KS91_K562_astarrseq_fragments_220510\"\n",
    "FD_OUT=\"${FD_RES}/KS91_K562_ASTARRseq/fragment\"\n",
    "PREFIX=\"KS91_K562_hg38_ASTARRseq\"\n",
    "\n",
    "REGIONS=(\"GATA1\" \"MYC\" \"FADS\")\n",
    "STRAND=\"stranded\"\n",
    "GROUP=\"Output\"\n",
    "\n",
    "for IDX in {1..4}; do\n",
    "    for REGION in ${REGIONS[@]}; do\n",
    "        ### set input file\n",
    "        SAMPLE=${GROUP}_rep${IDX}\n",
    "        FP_INP=$(ls ${FD_INP}/${PREFIX}_${SAMPLE}.*.${REGION}.*.${STRAND}.bed)\n",
    "        FN_INP=$(basename ${FP_INP})\n",
    "        echo ${REGION} ${SAMPLE}\n",
    "        echo ${FN_INP}\n",
    "        \n",
    "        ### positive/forward strand\n",
    "        FP_OUT=${FD_OUT}/${PREFIX}_${SAMPLE}.${REGION}.${STRAND}_pos.bed\n",
    "        FN_OUT=$(basename ${FP_OUT})\n",
    "        cat ${FP_INP} | awk '{ if ($6 == \"+\") { print } }' > ${FP_OUT}\n",
    "        echo ${FN_OUT}\n",
    "        \n",
    "        ### negative/reverse strand\n",
    "        FP_OUT=${FD_OUT}/${PREFIX}_${SAMPLE}.${REGION}.${STRAND}_neg.bed\n",
    "        FN_OUT=$(basename ${FP_OUT})\n",
    "        cat ${FP_INP} | awk '{ if ($6 == \"-\") { print } }' > ${FP_OUT}\n",
    "        echo ${FN_OUT}\n",
    "        echo\n",
    "    done\n",
    "done"
   ]
  },
  {
   "cell_type": "markdown",
   "id": "dbd5630c",
   "metadata": {},
   "source": [
    "## Get fragment counts"
   ]
  },
  {
   "cell_type": "code",
   "execution_count": 17,
   "id": "fd5658d2",
   "metadata": {},
   "outputs": [],
   "source": [
    "FD_INP=\"${FD_RES}/KS91_K562_ASTARRseq/fragment\"\n",
    "FD_OUT=\"${FD_RES}/KS91_K562_ASTARRseq/fragment_count\"\n",
    "cp -R ${FD_INP} ${FD_OUT}"
   ]
  },
  {
   "cell_type": "code",
   "execution_count": null,
   "id": "2544dd14",
   "metadata": {},
   "outputs": [],
   "source": []
  }
 ],
 "metadata": {
  "kernelspec": {
   "display_name": "Bash",
   "language": "bash",
   "name": "bash"
  },
  "language_info": {
   "codemirror_mode": "shell",
   "file_extension": ".sh",
   "mimetype": "text/x-sh",
   "name": "bash"
  }
 },
 "nbformat": 4,
 "nbformat_minor": 5
}
