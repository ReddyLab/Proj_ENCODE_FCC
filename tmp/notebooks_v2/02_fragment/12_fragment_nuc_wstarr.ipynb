{
 "cells": [
  {
   "cell_type": "markdown",
   "id": "01e67747-d47a-4414-8171-f4c7581b081f",
   "metadata": {},
   "source": [
    "**Set environment**"
   ]
  },
  {
   "cell_type": "code",
   "execution_count": 1,
   "id": "f1f1fe23-6cf1-4064-826a-0c95f854f821",
   "metadata": {},
   "outputs": [
    {
     "name": "stdout",
     "output_type": "stream",
     "text": [
      "You are on Duke Server: HARDAC\n",
      "BASE DIRECTORY:     /gpfs/fs1/data/reddylab/Kuei\n",
      "PATH OF SOURCE:     /gpfs/fs1/data/reddylab/Kuei/source\n",
      "PATH OF EXECUTABLE: /gpfs/fs1/data/reddylab/Kuei/exe\n",
      "PATH OF ANNOTATION: /gpfs/fs1/data/reddylab/Kuei/annotation\n",
      "PATH OF PROJECT:    /gpfs/fs1/data/reddylab/Kuei/GitRepo/Proj_CombEffect_ENCODE_FCC/notebooks\n",
      "PATH OF RESULTS:    /gpfs/fs1/data/reddylab/Kuei/out/proj_combeffect_encode_fcc\n",
      "\n"
     ]
    }
   ],
   "source": [
    "### set env\n",
    "source ../config/config_duke.sh\n",
    "source ../config/config_load_module_bedtools.sh\n",
    "show_env"
   ]
  },
  {
   "cell_type": "code",
   "execution_count": 2,
   "id": "9960b284-586e-4370-a3cf-e2a28ef685b6",
   "metadata": {},
   "outputs": [
    {
     "name": "stdout",
     "output_type": "stream",
     "text": [
      "/nfs/software/helmod/apps/Core/bedtools2/2.25.0-fasrc01/bin/bedtools\n",
      "bedtools v2.25.0\n"
     ]
    }
   ],
   "source": [
    "which bedtools\n",
    "bedtools -version"
   ]
  },
  {
   "cell_type": "markdown",
   "id": "819647bf-8f1a-469b-b2ba-bffdb785a2f0",
   "metadata": {},
   "source": [
    "**Check data directory**"
   ]
  },
  {
   "cell_type": "code",
   "execution_count": 3,
   "id": "04447331-f65a-4ffe-82ad-d4f0bf7674c7",
   "metadata": {},
   "outputs": [
    {
     "name": "stdout",
     "output_type": "stream",
     "text": [
      "A001_K562_WSTARRseq_Input_rep1.GATA1.unstranded.bed\n",
      "A001_K562_WSTARRseq_Input_rep1.MYC.unstranded.bed\n",
      "A001_K562_WSTARRseq_Input_rep2.GATA1.unstranded.bed\n",
      "A001_K562_WSTARRseq_Input_rep2.MYC.unstranded.bed\n",
      "A001_K562_WSTARRseq_Input_rep3.GATA1.unstranded.bed\n",
      "A001_K562_WSTARRseq_Input_rep3.MYC.unstranded.bed\n",
      "A001_K562_WSTARRseq_Input_rep4.GATA1.unstranded.bed\n",
      "A001_K562_WSTARRseq_Input_rep4.MYC.unstranded.bed\n",
      "A001_K562_WSTARRseq_Output_rep1.GATA1.unstranded.bed\n",
      "A001_K562_WSTARRseq_Output_rep1.MYC.unstranded.bed\n",
      "A001_K562_WSTARRseq_Output_rep2.GATA1.unstranded.bed\n",
      "A001_K562_WSTARRseq_Output_rep2.MYC.unstranded.bed\n",
      "A001_K562_WSTARRseq_Output_rep3.GATA1.unstranded.bed\n",
      "A001_K562_WSTARRseq_Output_rep3.MYC.unstranded.bed\n"
     ]
    }
   ],
   "source": [
    "ls ${FD_RES}/A001_K562_WSTARRseq/fragment/*unstranded.bed | xargs -n 1 basename"
   ]
  },
  {
   "cell_type": "code",
   "execution_count": 7,
   "id": "4dd48a36-110d-4ee2-a5a1-85cbc348d2c4",
   "metadata": {},
   "outputs": [
    {
     "name": "stdout",
     "output_type": "stream",
     "text": [
      "7\n",
      "7\n"
     ]
    }
   ],
   "source": [
    "FDIRY=${FD_RES}/A001_K562_WSTARRseq/fragment\n",
    "ls ${FDIRY}/*GATA1.unstranded.bed | xargs -n 1 basename | wc -l\n",
    "ls ${FDIRY}/*MYC.unstranded.bed   | xargs -n 1 basename | wc -l"
   ]
  },
  {
   "cell_type": "markdown",
   "id": "5d376928-1a67-4823-b28f-fce171cc1370",
   "metadata": {},
   "source": [
    "**Check chromosome**"
   ]
  },
  {
   "cell_type": "code",
   "execution_count": 8,
   "id": "e4ed38c5-614d-4c8d-876e-0d03ade56dc3",
   "metadata": {},
   "outputs": [
    {
     "name": "stdout",
     "output_type": "stream",
     "text": [
      "chrX\t47787533\t47787772\tchrX_47787533_47787772\t1\t.\n",
      "chr8\t126736069\t126736518\tchr8_126736069_126736518\t1\t.\n"
     ]
    }
   ],
   "source": [
    "FDIRY=${FD_RES}/A001_K562_WSTARRseq/fragment\n",
    "\n",
    "FNAME=A001_K562_WSTARRseq_Input_rep1.GATA1.unstranded.bed\n",
    "head -1 ${FDIRY}/${FNAME}\n",
    "\n",
    "FNAME=A001_K562_WSTARRseq_Input_rep1.MYC.unstranded.bed\n",
    "head -1 ${FDIRY}/${FNAME}"
   ]
  },
  {
   "cell_type": "markdown",
   "id": "78300750-0b79-4e0d-acc5-c2554511a3bb",
   "metadata": {},
   "source": [
    "```\n",
    "GATA1 --- chrX\n",
    "MYC   --- chr8\n",
    "```"
   ]
  },
  {
   "cell_type": "markdown",
   "id": "d5010710-83d9-4bb4-9928-42a897b09fbc",
   "metadata": {},
   "source": [
    "## Calculate NUC for fragments in Whole-Genome-STARR"
   ]
  },
  {
   "cell_type": "markdown",
   "id": "06bb52f2-6274-4e47-aeeb-d35b6218862e",
   "metadata": {},
   "source": [
    "### Region: GATA"
   ]
  },
  {
   "cell_type": "markdown",
   "id": "e11ac221-0b02-4fbc-8d51-b1eed2b8198b",
   "metadata": {},
   "source": [
    "**RUN**"
   ]
  },
  {
   "cell_type": "code",
   "execution_count": 11,
   "id": "b65fdac8-3b9c-4b6d-8c99-570769717d2d",
   "metadata": {},
   "outputs": [
    {
     "name": "stdout",
     "output_type": "stream",
     "text": [
      "Submitted batch job 29147828\n"
     ]
    }
   ],
   "source": [
    "sbatch -p ${NODE} \\\n",
    "    -J bedtools_nuc_wstarr_gata1 \\\n",
    "    --mem 20G \\\n",
    "    --array 0-6 \\\n",
    "    -o ${FD_LOG}/fragment_nuc_wstarr_gata1.%a.txt \\\n",
    "    <<'EOF'\n",
    "#!/bin/bash\n",
    "### set directories & global variables\n",
    "source ../config/config_duke.sh\n",
    "CHROM=chrX\n",
    "REGION=GATA1\n",
    "\n",
    "### set input and output\n",
    "FD_BED=${FD_RES}/A001_K562_WSTARRseq/fragment\n",
    "FP_BEDS=($(ls ${FD_BED}/*${REGION}.unstranded.bed))\n",
    "FP_BED=${FP_BEDS[${SLURM_ARRAY_TASK_ID}]}\n",
    "FN_BED=$(basename ${FP_BED})\n",
    "\n",
    "FD_OUT=${FD_RES}/A001_K562_WSTARRseq/fragment_nuc\n",
    "FN_OUT=${FN_BED}.gz\n",
    "\n",
    "### genome annotation\n",
    "FD_GEN=${FD_ANN}/genome/hg38/fasta\n",
    "FN_GEN=${CHROM}.fa\n",
    "\n",
    "### print start message\n",
    "timer_start=`date +%s`\n",
    "echo \"Hostname:          \" $(hostname)\n",
    "echo \"Slurm Array Index: \" ${SLURM_ARRAY_TASK_ID}\n",
    "echo \"Time Stamp:        \" $(date +\"%m-%d-%y+%T\")\n",
    "echo\n",
    "\n",
    "### Show input/output file\n",
    "echo \"Input  file: \" ${FD_BED}/${FN_BED}\n",
    "echo \"Output file: \" ${FD_OUT}/${FN_OUT}\n",
    "echo\n",
    "echo \"Show the first few lines of the input file\"\n",
    "echo ${FD_BED}/${FN_BED}\n",
    "cat  ${FD_BED}/${FN_BED} | head -n 3 \n",
    "echo\n",
    "    \n",
    "### init: create output folder if not exist\n",
    "mkdir -p ${FD_OUT}\n",
    "\n",
    "### calculate the GC content of each fragment\n",
    "bedtools nuc \\\n",
    "    -fi  ${FD_GEN}/${FN_GEN} \\\n",
    "    -bed ${FD_BED}/${FN_BED} |\\\n",
    "    gzip -c > ${FD_OUT}/${FN_OUT}\n",
    "\n",
    "### Show input/output file\n",
    "echo \"Show the first few lines of the output file\"\n",
    "echo ${FD_OUT}/${FN_OUT}\n",
    "zcat ${FD_OUT}/${FN_OUT} | head -n 3\n",
    "echo\n",
    "\n",
    "### print end message\n",
    "timer_stop=`date +%s`\n",
    "runtime=$(echo \"${timer_stop} - ${timer_start}\" | bc -l)\n",
    "echo\n",
    "echo 'Done!'\n",
    "echo \"Run Time: $(displaytime ${runtime})\"\n",
    "\n",
    "EOF"
   ]
  },
  {
   "cell_type": "markdown",
   "id": "9d4cdc8a-de61-49da-9d80-b744c419966b",
   "metadata": {},
   "source": [
    "**CHECK**"
   ]
  },
  {
   "cell_type": "code",
   "execution_count": 12,
   "id": "6d35cdeb-66f8-4461-ab68-e53a8d0a3101",
   "metadata": {},
   "outputs": [
    {
     "name": "stdout",
     "output_type": "stream",
     "text": [
      "Hostname:           dl-01.genome.duke.edu\n",
      "Slurm Array Index:  0\n",
      "Time Stamp:         10-11-22+21:50:47\n",
      "\n",
      "Input  file:  /gpfs/fs1/data/reddylab/Kuei/out/proj_combeffect_encode_fcc/A001_K562_WSTARRseq/fragment/A001_K562_WSTARRseq_Input_rep1.GATA1.unstranded.bed\n",
      "Output file:  /gpfs/fs1/data/reddylab/Kuei/out/proj_combeffect_encode_fcc/A001_K562_WSTARRseq/fragment_nuc/A001_K562_WSTARRseq_Input_rep1.GATA1.unstranded.bed.gz\n",
      "\n",
      "Show the first few lines of the input file\n",
      "/gpfs/fs1/data/reddylab/Kuei/out/proj_combeffect_encode_fcc/A001_K562_WSTARRseq/fragment/A001_K562_WSTARRseq_Input_rep1.GATA1.unstranded.bed\n",
      "chrX\t47787533\t47787772\tchrX_47787533_47787772\t1\t.\n",
      "chrX\t47787569\t47787735\tchrX_47787569_47787735\t1\t.\n",
      "chrX\t47787714\t47788125\tchrX_47787714_47788125\t1\t.\n",
      "\n",
      "Show the first few lines of the output file\n",
      "/gpfs/fs1/data/reddylab/Kuei/out/proj_combeffect_encode_fcc/A001_K562_WSTARRseq/fragment_nuc/A001_K562_WSTARRseq_Input_rep1.GATA1.unstranded.bed.gz\n",
      "#1_usercol\t2_usercol\t3_usercol\t4_usercol\t5_usercol\t6_usercol\t7_pct_at\t8_pct_gc\t9_num_A\t10_num_C\t11_num_G\t12_num_T\t13_num_N\t14_num_oth\t15_seq_len\n",
      "chrX\t47787533\t47787772\tchrX_47787533_47787772\t1\t.\t0.615063\t0.384937\t48\t43\t49\t99\t0\t0\t239\n",
      "chrX\t47787569\t47787735\tchrX_47787569_47787735\t1\t.\t0.638554\t0.361446\t38\t25\t35\t68\t0\t0\t166\n",
      "\n",
      "\n",
      "Done!\n",
      "Run Time: 0 seconds\n"
     ]
    }
   ],
   "source": [
    "cat ${FD_LOG}/fragment_nuc_wstarr_gata1.0.txt"
   ]
  },
  {
   "cell_type": "markdown",
   "id": "b48375cc-a5a7-4fb3-9b66-477a54863eee",
   "metadata": {},
   "source": [
    "### Region: MYC"
   ]
  },
  {
   "cell_type": "markdown",
   "id": "fc41511d-5f26-4eec-91de-fa0af9901107",
   "metadata": {},
   "source": [
    "**RUN**"
   ]
  },
  {
   "cell_type": "code",
   "execution_count": 13,
   "id": "b57735d6-4d7e-4e90-8b80-e31c083904c8",
   "metadata": {},
   "outputs": [
    {
     "name": "stdout",
     "output_type": "stream",
     "text": [
      "Submitted batch job 29147835\n"
     ]
    }
   ],
   "source": [
    "sbatch -p ${NODE} \\\n",
    "    -J bedtools_nuc_wstarr_myc \\\n",
    "    --mem 20G \\\n",
    "    --array 0-6 \\\n",
    "    -o ${FD_LOG}/fragment_nuc_wstarr_myc.%a.txt \\\n",
    "    <<'EOF'\n",
    "#!/bin/bash\n",
    "### set directories & global variables\n",
    "source ../config/config_duke.sh\n",
    "CHROM=chr8\n",
    "REGION=MYC\n",
    "\n",
    "### set input and output\n",
    "FD_BED=${FD_RES}/A001_K562_WSTARRseq/fragment\n",
    "FP_BEDS=($(ls ${FD_BED}/*${REGION}.unstranded.bed))\n",
    "FP_BED=${FP_BEDS[${SLURM_ARRAY_TASK_ID}]}\n",
    "FN_BED=$(basename ${FP_BED})\n",
    "\n",
    "FD_OUT=${FD_RES}/A001_K562_WSTARRseq/fragment_nuc\n",
    "FN_OUT=${FN_BED}.gz\n",
    "\n",
    "### genome annotation\n",
    "FD_GEN=${FD_ANN}/genome/hg38/fasta\n",
    "FN_GEN=${CHROM}.fa\n",
    "\n",
    "### print start message\n",
    "timer_start=`date +%s`\n",
    "echo \"Hostname:          \" $(hostname)\n",
    "echo \"Slurm Array Index: \" ${SLURM_ARRAY_TASK_ID}\n",
    "echo \"Time Stamp:        \" $(date +\"%m-%d-%y+%T\")\n",
    "echo\n",
    "\n",
    "### Show input/output file\n",
    "echo \"Input  file: \" ${FD_BED}/${FN_BED}\n",
    "echo \"Output file: \" ${FD_OUT}/${FN_OUT}\n",
    "echo\n",
    "echo \"Show the first few lines of the input file\"\n",
    "echo ${FD_BED}/${FN_BED}\n",
    "cat  ${FD_BED}/${FN_BED} | head -n 3 \n",
    "echo\n",
    "    \n",
    "### init: create output folder if not exist\n",
    "mkdir -p ${FD_OUT}\n",
    "\n",
    "### calculate the GC content of each fragment\n",
    "bedtools nuc \\\n",
    "    -fi  ${FD_GEN}/${FN_GEN} \\\n",
    "    -bed ${FD_BED}/${FN_BED} |\\\n",
    "    gzip -c > ${FD_OUT}/${FN_OUT}\n",
    "\n",
    "### Show input/output file\n",
    "echo \"Show the first few lines of the output file\"\n",
    "echo ${FD_OUT}/${FN_OUT}\n",
    "zcat ${FD_OUT}/${FN_OUT} | head -n 3\n",
    "echo\n",
    "\n",
    "### print end message\n",
    "timer_stop=`date +%s`\n",
    "runtime=$(echo \"${timer_stop} - ${timer_start}\" | bc -l)\n",
    "echo\n",
    "echo 'Done!'\n",
    "echo \"Run Time: $(displaytime ${runtime})\"\n",
    "\n",
    "EOF"
   ]
  },
  {
   "cell_type": "markdown",
   "id": "6ea5f257-3d7c-4a12-b737-b0daabc6b942",
   "metadata": {},
   "source": [
    "**CHECK**"
   ]
  },
  {
   "cell_type": "code",
   "execution_count": 14,
   "id": "1fe4d3a8-0b84-415a-90c2-46c53dd139f0",
   "metadata": {},
   "outputs": [
    {
     "name": "stdout",
     "output_type": "stream",
     "text": [
      "Hostname:           dl-01.genome.duke.edu\n",
      "Slurm Array Index:  0\n",
      "Time Stamp:         10-11-22+21:51:17\n",
      "\n",
      "Input  file:  /gpfs/fs1/data/reddylab/Kuei/out/proj_combeffect_encode_fcc/A001_K562_WSTARRseq/fragment/A001_K562_WSTARRseq_Input_rep1.MYC.unstranded.bed\n",
      "Output file:  /gpfs/fs1/data/reddylab/Kuei/out/proj_combeffect_encode_fcc/A001_K562_WSTARRseq/fragment_nuc/A001_K562_WSTARRseq_Input_rep1.MYC.unstranded.bed.gz\n",
      "\n",
      "Show the first few lines of the input file\n",
      "/gpfs/fs1/data/reddylab/Kuei/out/proj_combeffect_encode_fcc/A001_K562_WSTARRseq/fragment/A001_K562_WSTARRseq_Input_rep1.MYC.unstranded.bed\n",
      "chr8\t126736069\t126736518\tchr8_126736069_126736518\t1\t.\n",
      "chr8\t126736096\t126736559\tchr8_126736096_126736559\t1\t.\n",
      "chr8\t126736430\t126736781\tchr8_126736430_126736781\t1\t.\n",
      "\n",
      "Show the first few lines of the output file\n",
      "/gpfs/fs1/data/reddylab/Kuei/out/proj_combeffect_encode_fcc/A001_K562_WSTARRseq/fragment_nuc/A001_K562_WSTARRseq_Input_rep1.MYC.unstranded.bed.gz\n",
      "#1_usercol\t2_usercol\t3_usercol\t4_usercol\t5_usercol\t6_usercol\t7_pct_at\t8_pct_gc\t9_num_A\t10_num_C\t11_num_G\t12_num_T\t13_num_N\t14_num_oth\t15_seq_len\n",
      "chr8\t126736069\t126736518\tchr8_126736069_126736518\t1\t.\t0.587973\t0.412027\t143\t88\t97\t121\t0\t0\t449\n",
      "chr8\t126736096\t126736559\tchr8_126736096_126736559\t1\t.\t0.583153\t0.416847\t144\t94\t99\t126\t0\t0\t463\n",
      "\n",
      "\n",
      "Done!\n",
      "Run Time: 0 seconds\n"
     ]
    }
   ],
   "source": [
    "cat ${FD_LOG}/fragment_nuc_wstarr_myc.0.txt"
   ]
  },
  {
   "cell_type": "code",
   "execution_count": null,
   "id": "1a8f5553-638f-43b7-9612-17b0a6fff85a",
   "metadata": {},
   "outputs": [],
   "source": []
  }
 ],
 "metadata": {
  "kernelspec": {
   "display_name": "Bash",
   "language": "bash",
   "name": "bash"
  },
  "language_info": {
   "codemirror_mode": "shell",
   "file_extension": ".sh",
   "mimetype": "text/x-sh",
   "name": "bash"
  }
 },
 "nbformat": 4,
 "nbformat_minor": 5
}
