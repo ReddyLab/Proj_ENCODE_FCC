{
 "cells": [
  {
   "cell_type": "markdown",
   "id": "fdf9464b-619b-4e96-81d2-597c21ecc1e3",
   "metadata": {},
   "source": [
    "**Set environment**"
   ]
  },
  {
   "cell_type": "code",
   "execution_count": 2,
   "id": "65a2d9e8-876b-44db-8a42-fd7f528c8d35",
   "metadata": {},
   "outputs": [
    {
     "name": "stdout",
     "output_type": "stream",
     "text": [
      "You are on Duke Server: HARDAC\n",
      "BASE DIRECTORY:     /gpfs/fs1/data/reddylab/Kuei\n",
      "PATH OF SOURCE:     /gpfs/fs1/data/reddylab/Kuei/source\n",
      "PATH OF EXECUTABLE: /gpfs/fs1/data/reddylab/Kuei/exe\n",
      "PATH OF ANNOTATION: /gpfs/fs1/data/reddylab/Kuei/annotation\n",
      "PATH OF PROJECT:    /gpfs/fs1/data/reddylab/Kuei/GitRepo/Proj_CombEffect_ENCODE_FCC/notebooks\n",
      "PATH OF RESULTS:    /gpfs/fs1/data/reddylab/Kuei/out/proj_combeffect_encode_fcc\n",
      "\n"
     ]
    }
   ],
   "source": [
    "### set env\n",
    "source ../config/config_duke.sh\n",
    "source ../config/config_load_module_bedtools.sh\n",
    "show_env"
   ]
  },
  {
   "cell_type": "code",
   "execution_count": 4,
   "id": "6f0e03d0-afdf-4ae2-bb51-db981354307b",
   "metadata": {},
   "outputs": [
    {
     "name": "stdout",
     "output_type": "stream",
     "text": [
      "/nfs/software/helmod/apps/Core/bedtools2/2.25.0-fasrc01/bin/bedtools\n",
      "bedtools v2.25.0\n"
     ]
    }
   ],
   "source": [
    "which bedtools\n",
    "bedtools -version"
   ]
  },
  {
   "cell_type": "markdown",
   "id": "03c590ff-fcd4-4407-b5ab-acc071cb76c0",
   "metadata": {},
   "source": [
    "**Check data directory**"
   ]
  },
  {
   "cell_type": "code",
   "execution_count": 7,
   "id": "24a25df5-9ef8-487b-8263-c579cc76fb23",
   "metadata": {},
   "outputs": [
    {
     "name": "stdout",
     "output_type": "stream",
     "text": [
      "KS91_K562_hg38_ASTARRseq_Input_rep1.FADS.unstranded.bed\n",
      "KS91_K562_hg38_ASTARRseq_Input_rep1.GATA1.unstranded.bed\n",
      "KS91_K562_hg38_ASTARRseq_Input_rep1.MYC.unstranded.bed\n",
      "KS91_K562_hg38_ASTARRseq_Input_rep2.FADS.unstranded.bed\n",
      "KS91_K562_hg38_ASTARRseq_Input_rep2.GATA1.unstranded.bed\n",
      "KS91_K562_hg38_ASTARRseq_Input_rep2.MYC.unstranded.bed\n",
      "KS91_K562_hg38_ASTARRseq_Input_rep3.FADS.unstranded.bed\n",
      "KS91_K562_hg38_ASTARRseq_Input_rep3.GATA1.unstranded.bed\n",
      "KS91_K562_hg38_ASTARRseq_Input_rep3.MYC.unstranded.bed\n",
      "KS91_K562_hg38_ASTARRseq_Input_rep4.FADS.unstranded.bed\n",
      "KS91_K562_hg38_ASTARRseq_Input_rep4.GATA1.unstranded.bed\n",
      "KS91_K562_hg38_ASTARRseq_Input_rep4.MYC.unstranded.bed\n",
      "KS91_K562_hg38_ASTARRseq_Input_rep5.FADS.unstranded.bed\n",
      "KS91_K562_hg38_ASTARRseq_Input_rep5.GATA1.unstranded.bed\n",
      "KS91_K562_hg38_ASTARRseq_Input_rep5.MYC.unstranded.bed\n",
      "KS91_K562_hg38_ASTARRseq_Input_rep6.FADS.unstranded.bed\n",
      "KS91_K562_hg38_ASTARRseq_Input_rep6.GATA1.unstranded.bed\n",
      "KS91_K562_hg38_ASTARRseq_Input_rep6.MYC.unstranded.bed\n",
      "KS91_K562_hg38_ASTARRseq_Output_rep1.FADS.unstranded.bed\n",
      "KS91_K562_hg38_ASTARRseq_Output_rep1.GATA1.unstranded.bed\n",
      "KS91_K562_hg38_ASTARRseq_Output_rep1.MYC.unstranded.bed\n",
      "KS91_K562_hg38_ASTARRseq_Output_rep2.FADS.unstranded.bed\n",
      "KS91_K562_hg38_ASTARRseq_Output_rep2.GATA1.unstranded.bed\n",
      "KS91_K562_hg38_ASTARRseq_Output_rep2.MYC.unstranded.bed\n",
      "KS91_K562_hg38_ASTARRseq_Output_rep3.FADS.unstranded.bed\n",
      "KS91_K562_hg38_ASTARRseq_Output_rep3.GATA1.unstranded.bed\n",
      "KS91_K562_hg38_ASTARRseq_Output_rep3.MYC.unstranded.bed\n",
      "KS91_K562_hg38_ASTARRseq_Output_rep4.FADS.unstranded.bed\n",
      "KS91_K562_hg38_ASTARRseq_Output_rep4.GATA1.unstranded.bed\n",
      "KS91_K562_hg38_ASTARRseq_Output_rep4.MYC.unstranded.bed\n"
     ]
    }
   ],
   "source": [
    "ls ${FD_RES}/KS91_K562_ASTARRseq/fragment/*unstranded.bed | xargs -n 1 basename"
   ]
  },
  {
   "cell_type": "code",
   "execution_count": 8,
   "id": "327f8dd8-e452-482a-9c71-7c0292bc0503",
   "metadata": {},
   "outputs": [
    {
     "name": "stdout",
     "output_type": "stream",
     "text": [
      "30\n"
     ]
    }
   ],
   "source": [
    "ls ${FD_RES}/KS91_K562_ASTARRseq/fragment/*unstranded.bed | xargs -n 1 basename | wc -l"
   ]
  },
  {
   "cell_type": "code",
   "execution_count": 11,
   "id": "abd8a0c9-5b76-4234-95d2-58d9fed1f620",
   "metadata": {},
   "outputs": [
    {
     "name": "stdout",
     "output_type": "stream",
     "text": [
      "10\n",
      "10\n",
      "10\n"
     ]
    }
   ],
   "source": [
    "ls ${FD_RES}/KS91_K562_ASTARRseq/fragment/*GATA1.unstranded.bed | xargs -n 1 basename | wc -l\n",
    "ls ${FD_RES}/KS91_K562_ASTARRseq/fragment/*MYC.unstranded.bed | xargs -n 1 basename | wc -l\n",
    "ls ${FD_RES}/KS91_K562_ASTARRseq/fragment/*FADS.unstranded.bed | xargs -n 1 basename | wc -l"
   ]
  },
  {
   "cell_type": "markdown",
   "id": "9869f5c2-d336-43ca-8568-cfbd4bff7bbe",
   "metadata": {},
   "source": [
    "**Check chromosome**"
   ]
  },
  {
   "cell_type": "code",
   "execution_count": 16,
   "id": "6c7e985b-4898-47d2-952f-3b0b3bca169e",
   "metadata": {},
   "outputs": [
    {
     "name": "stdout",
     "output_type": "stream",
     "text": [
      "chrX\t47787165\t47787363\tchrX_47787165_47787363\t1\t.\n",
      "chr8\t126735990\t126736404\tchr8_126735990_126736404\t1\t.\n",
      "chr11\t61787228\t61787382\tchr11_61787228_61787382\t1\t.\n"
     ]
    }
   ],
   "source": [
    "FDIRY=${FD_RES}/KS91_K562_ASTARRseq/fragment\n",
    "\n",
    "FNAME=KS91_K562_hg38_ASTARRseq_Input_rep1.GATA1.unstranded.bed\n",
    "head -1 ${FDIRY}/${FNAME}\n",
    "\n",
    "FNAME=KS91_K562_hg38_ASTARRseq_Input_rep1.MYC.unstranded.bed\n",
    "head -1 ${FDIRY}/${FNAME}\n",
    "\n",
    "FNAME=KS91_K562_hg38_ASTARRseq_Input_rep1.FADS.unstranded.bed\n",
    "head -1 ${FDIRY}/${FNAME}"
   ]
  },
  {
   "cell_type": "markdown",
   "id": "62cc4f5a-f51c-4137-8430-9462ba5835c7",
   "metadata": {},
   "source": [
    "```\n",
    "GATA1 --- chrX\n",
    "MYC   --- chr8\n",
    "FADS  --- chr11\n",
    "```"
   ]
  },
  {
   "cell_type": "markdown",
   "id": "262da594-fedc-44fe-bc44-8f7ceffb0914",
   "metadata": {
    "tags": []
   },
   "source": [
    "## Calculate NUC for fragments in ATAC-STARR"
   ]
  },
  {
   "cell_type": "markdown",
   "id": "e2f6a98e-3482-4979-8c2c-f7fa80d4cc97",
   "metadata": {},
   "source": [
    "### Region: GATA"
   ]
  },
  {
   "cell_type": "markdown",
   "id": "ca6862f9-874a-4467-b774-4f9aae7b5c8b",
   "metadata": {},
   "source": [
    "**RUN**"
   ]
  },
  {
   "cell_type": "code",
   "execution_count": 21,
   "id": "680106e2-7316-4fef-bad5-db7e4a1f6269",
   "metadata": {},
   "outputs": [
    {
     "name": "stdout",
     "output_type": "stream",
     "text": [
      "Submitted batch job 29147777\n"
     ]
    }
   ],
   "source": [
    "sbatch -p ${NODE} \\\n",
    "    -J bedtools_nuc_astarr_gata1 \\\n",
    "    --mem 20G \\\n",
    "    --array 0-9 \\\n",
    "    -o ${FD_LOG}/fragment_nuc_astarr_gata1.%a.txt \\\n",
    "    <<'EOF'\n",
    "#!/bin/bash\n",
    "### set directories & global variables\n",
    "source ../config/config_duke.sh\n",
    "CHROM=chrX\n",
    "REGION=GATA1\n",
    "\n",
    "### set input and output\n",
    "FD_BED=${FD_RES}/KS91_K562_ASTARRseq/fragment\n",
    "FP_BEDS=($(ls ${FD_BED}/*${REGION}.unstranded.bed))\n",
    "FP_BED=${FP_BEDS[${SLURM_ARRAY_TASK_ID}]}\n",
    "FN_BED=$(basename ${FP_BED})\n",
    "\n",
    "FD_OUT=${FD_RES}/KS91_K562_ASTARRseq/fragment_nuc\n",
    "FN_OUT=${FN_BED}.gz\n",
    "\n",
    "### genome annotation\n",
    "FD_GEN=${FD_ANN}/genome/hg38/fasta\n",
    "FN_GEN=${CHROM}.fa\n",
    "\n",
    "### print start message\n",
    "timer_start=`date +%s`\n",
    "echo \"Hostname:          \" $(hostname)\n",
    "echo \"Slurm Array Index: \" ${SLURM_ARRAY_TASK_ID}\n",
    "echo \"Time Stamp:        \" $(date +\"%m-%d-%y+%T\")\n",
    "echo\n",
    "\n",
    "### Show input/output file\n",
    "echo \"Input  file: \" ${FD_BED}/${FN_BED}\n",
    "echo \"Output file: \" ${FD_OUT}/${FN_OUT}\n",
    "echo\n",
    "echo \"Show the first few lines of the input file\"\n",
    "echo ${FD_BED}/${FN_BED}\n",
    "cat  ${FD_BED}/${FN_BED} | head -n 3 \n",
    "echo\n",
    "    \n",
    "### init: create output folder if not exist\n",
    "mkdir -p ${FD_OUT}\n",
    "\n",
    "### calculate the GC content of each fragment\n",
    "bedtools nuc \\\n",
    "    -fi  ${FD_GEN}/${FN_GEN} \\\n",
    "    -bed ${FD_BED}/${FN_BED} |\\\n",
    "    gzip -c > ${FD_OUT}/${FN_OUT}\n",
    "\n",
    "### Show input/output file\n",
    "echo \"Show the first few lines of the output file\"\n",
    "echo ${FD_OUT}/${FN_OUT}\n",
    "zcat ${FD_OUT}/${FN_OUT} | head -n 3\n",
    "echo\n",
    "\n",
    "### print end message\n",
    "timer_stop=`date +%s`\n",
    "runtime=$(echo \"${timer_stop} - ${timer_start}\" | bc -l)\n",
    "echo\n",
    "echo 'Done!'\n",
    "echo \"Run Time: $(displaytime ${runtime})\"\n",
    "\n",
    "EOF"
   ]
  },
  {
   "cell_type": "markdown",
   "id": "1003e92b-13e7-43da-a64f-aae6b019772a",
   "metadata": {},
   "source": [
    "**CHECK**"
   ]
  },
  {
   "cell_type": "code",
   "execution_count": 22,
   "id": "24d5cceb-136a-4e40-8d7d-3a18f5d78254",
   "metadata": {},
   "outputs": [
    {
     "name": "stdout",
     "output_type": "stream",
     "text": [
      "Hostname:           dl-01.genome.duke.edu\n",
      "Slurm Array Index:  0\n",
      "Time Stamp:         10-11-22+18:22:46\n",
      "\n",
      "Input  file:  /gpfs/fs1/data/reddylab/Kuei/out/proj_combeffect_encode_fcc/KS91_K562_ASTARRseq/fragment/KS91_K562_hg38_ASTARRseq_Input_rep1.GATA1.unstranded.bed\n",
      "Output file:  /gpfs/fs1/data/reddylab/Kuei/out/proj_combeffect_encode_fcc/KS91_K562_ASTARRseq/fragment_nuc/KS91_K562_hg38_ASTARRseq_Input_rep1.GATA1.unstranded.bed.gz\n",
      "\n",
      "Show the first few lines of the input file\n",
      "/gpfs/fs1/data/reddylab/Kuei/out/proj_combeffect_encode_fcc/KS91_K562_ASTARRseq/fragment/KS91_K562_hg38_ASTARRseq_Input_rep1.GATA1.unstranded.bed\n",
      "chrX\t47787165\t47787363\tchrX_47787165_47787363\t1\t.\n",
      "chrX\t47787557\t47787773\tchrX_47787557_47787773\t1\t.\n",
      "chrX\t47787593\t47787783\tchrX_47787593_47787783\t1\t.\n",
      "\n",
      "Show the first few lines of the output file\n",
      "/gpfs/fs1/data/reddylab/Kuei/out/proj_combeffect_encode_fcc/KS91_K562_ASTARRseq/fragment_nuc/KS91_K562_hg38_ASTARRseq_Input_rep1.GATA1.unstranded.bed.gz\n",
      "#1_usercol\t2_usercol\t3_usercol\t4_usercol\t5_usercol\t6_usercol\t7_pct_at\t8_pct_gc\t9_num_A\t10_num_C\t11_num_G\t12_num_T\t13_num_N\t14_num_oth\t15_seq_len\n",
      "chrX\t47787165\t47787363\tchrX_47787165_47787363\t1\t.\t0.560606\t0.439394\t33\t34\t53\t78\t0\t0\t198\n",
      "chrX\t47787557\t47787773\tchrX_47787557_47787773\t1\t.\t0.615741\t0.384259\t45\t35\t48\t88\t0\t0\t216\n",
      "\n",
      "\n",
      "Done!\n",
      "Run Time: 4 seconds\n"
     ]
    }
   ],
   "source": [
    "cat ${FD_LOG}/fragment_nuc_astarr_gata1.0.txt"
   ]
  },
  {
   "cell_type": "markdown",
   "id": "5ad4e281-77c2-48b7-8a2a-7e11643925a1",
   "metadata": {},
   "source": [
    "### Region: MYC"
   ]
  },
  {
   "cell_type": "markdown",
   "id": "bc091c1a-440c-4ef1-8d6d-7aeb3e4dab06",
   "metadata": {},
   "source": [
    "**RUN**"
   ]
  },
  {
   "cell_type": "code",
   "execution_count": 23,
   "id": "0a3b6dee-3c8e-4961-9b04-d9a4fafbadd8",
   "metadata": {},
   "outputs": [
    {
     "name": "stdout",
     "output_type": "stream",
     "text": [
      "Submitted batch job 29147787\n"
     ]
    }
   ],
   "source": [
    "sbatch -p ${NODE} \\\n",
    "    -J bedtools_nuc_astarr_myc \\\n",
    "    --mem 20G \\\n",
    "    --array 0-9 \\\n",
    "    -o ${FD_LOG}/fragment_nuc_astarr_myc.%a.txt \\\n",
    "    <<'EOF'\n",
    "#!/bin/bash\n",
    "### set directories & global variables\n",
    "source ../config/config_duke.sh\n",
    "CHROM=chr8\n",
    "REGION=MYC\n",
    "\n",
    "### set input and output\n",
    "FD_BED=${FD_RES}/KS91_K562_ASTARRseq/fragment\n",
    "FP_BEDS=($(ls ${FD_BED}/*${REGION}.unstranded.bed))\n",
    "FP_BED=${FP_BEDS[${SLURM_ARRAY_TASK_ID}]}\n",
    "FN_BED=$(basename ${FP_BED})\n",
    "\n",
    "FD_OUT=${FD_RES}/KS91_K562_ASTARRseq/fragment_nuc\n",
    "FN_OUT=${FN_BED}.gz\n",
    "\n",
    "### genome annotation\n",
    "FD_GEN=${FD_ANN}/genome/hg38/fasta\n",
    "FN_GEN=${CHROM}.fa\n",
    "\n",
    "### print start message\n",
    "timer_start=`date +%s`\n",
    "echo \"Hostname:          \" $(hostname)\n",
    "echo \"Slurm Array Index: \" ${SLURM_ARRAY_TASK_ID}\n",
    "echo \"Time Stamp:        \" $(date +\"%m-%d-%y+%T\")\n",
    "echo\n",
    "\n",
    "### Show input/output file\n",
    "echo \"Input  file: \" ${FD_BED}/${FN_BED}\n",
    "echo \"Output file: \" ${FD_OUT}/${FN_OUT}\n",
    "echo\n",
    "echo \"Show the first few lines of the input file\"\n",
    "echo ${FD_BED}/${FN_BED}\n",
    "cat  ${FD_BED}/${FN_BED} | head -n 3 \n",
    "echo\n",
    "    \n",
    "### init: create output folder if not exist\n",
    "mkdir -p ${FD_OUT}\n",
    "\n",
    "### calculate the GC content of each fragment\n",
    "bedtools nuc \\\n",
    "    -fi  ${FD_GEN}/${FN_GEN} \\\n",
    "    -bed ${FD_BED}/${FN_BED} |\\\n",
    "    gzip -c > ${FD_OUT}/${FN_OUT}\n",
    "\n",
    "### Show input/output file\n",
    "echo \"Show the first few lines of the output file\"\n",
    "echo ${FD_OUT}/${FN_OUT}\n",
    "zcat ${FD_OUT}/${FN_OUT} | head -n 3\n",
    "echo\n",
    "\n",
    "### print end message\n",
    "timer_stop=`date +%s`\n",
    "runtime=$(echo \"${timer_stop} - ${timer_start}\" | bc -l)\n",
    "echo\n",
    "echo 'Done!'\n",
    "echo \"Run Time: $(displaytime ${runtime})\"\n",
    "\n",
    "EOF"
   ]
  },
  {
   "cell_type": "markdown",
   "id": "ff3db774-1a33-4adb-a811-95680440148c",
   "metadata": {},
   "source": [
    "**CHECK**"
   ]
  },
  {
   "cell_type": "code",
   "execution_count": 26,
   "id": "36db9157-38be-484c-a773-8ae12417d47f",
   "metadata": {},
   "outputs": [
    {
     "name": "stdout",
     "output_type": "stream",
     "text": [
      "Hostname:           dl-01.genome.duke.edu\n",
      "Slurm Array Index:  0\n",
      "Time Stamp:         10-11-22+18:25:16\n",
      "\n",
      "Input  file:  /gpfs/fs1/data/reddylab/Kuei/out/proj_combeffect_encode_fcc/KS91_K562_ASTARRseq/fragment/KS91_K562_hg38_ASTARRseq_Input_rep1.MYC.unstranded.bed\n",
      "Output file:  /gpfs/fs1/data/reddylab/Kuei/out/proj_combeffect_encode_fcc/KS91_K562_ASTARRseq/fragment_nuc/KS91_K562_hg38_ASTARRseq_Input_rep1.MYC.unstranded.bed.gz\n",
      "\n",
      "Show the first few lines of the input file\n",
      "/gpfs/fs1/data/reddylab/Kuei/out/proj_combeffect_encode_fcc/KS91_K562_ASTARRseq/fragment/KS91_K562_hg38_ASTARRseq_Input_rep1.MYC.unstranded.bed\n",
      "chr8\t126735990\t126736404\tchr8_126735990_126736404\t1\t.\n",
      "chr8\t126736004\t126736113\tchr8_126736004_126736113\t1\t.\n",
      "chr8\t126736010\t126736129\tchr8_126736010_126736129\t1\t.\n",
      "\n",
      "Show the first few lines of the output file\n",
      "/gpfs/fs1/data/reddylab/Kuei/out/proj_combeffect_encode_fcc/KS91_K562_ASTARRseq/fragment_nuc/KS91_K562_hg38_ASTARRseq_Input_rep1.MYC.unstranded.bed.gz\n",
      "#1_usercol\t2_usercol\t3_usercol\t4_usercol\t5_usercol\t6_usercol\t7_pct_at\t8_pct_gc\t9_num_A\t10_num_C\t11_num_G\t12_num_T\t13_num_N\t14_num_oth\t15_seq_len\n",
      "chr8\t126735990\t126736404\tchr8_126735990_126736404\t1\t.\t0.567633\t0.432367\t130\t76\t103\t105\t0\t0\t414\n",
      "chr8\t126736004\t126736113\tchr8_126736004_126736113\t1\t.\t0.614679\t0.385321\t40\t12\t30\t27\t0\t0\t109\n",
      "\n",
      "\n",
      "Done!\n",
      "Run Time: 3 seconds\n"
     ]
    }
   ],
   "source": [
    "cat ${FD_LOG}/fragment_nuc_astarr_myc.0.txt"
   ]
  },
  {
   "cell_type": "markdown",
   "id": "59b6ffc2-290d-4f7c-9ae8-a5003d4e983b",
   "metadata": {},
   "source": [
    "### Region: FADS"
   ]
  },
  {
   "cell_type": "markdown",
   "id": "4f35f8f5-ef21-4bd8-bf1b-0270e4e58e0c",
   "metadata": {},
   "source": [
    "**RUN**"
   ]
  },
  {
   "cell_type": "code",
   "execution_count": 24,
   "id": "5e08c936-75f6-4bac-94e3-ddecb5d57861",
   "metadata": {},
   "outputs": [
    {
     "name": "stdout",
     "output_type": "stream",
     "text": [
      "Submitted batch job 29147797\n"
     ]
    }
   ],
   "source": [
    "sbatch -p ${NODE} \\\n",
    "    -J bedtools_nuc_astarr_fads \\\n",
    "    --mem 20G \\\n",
    "    --array 0-9 \\\n",
    "    -o ${FD_LOG}/fragment_nuc_astarr_fads.%a.txt \\\n",
    "    <<'EOF'\n",
    "#!/bin/bash\n",
    "### set directories & global variables\n",
    "source ../config/config_duke.sh\n",
    "CHROM=chr11\n",
    "REGION=FADS\n",
    "\n",
    "### set input and output\n",
    "FD_BED=${FD_RES}/KS91_K562_ASTARRseq/fragment\n",
    "FP_BEDS=($(ls ${FD_BED}/*${REGION}.unstranded.bed))\n",
    "FP_BED=${FP_BEDS[${SLURM_ARRAY_TASK_ID}]}\n",
    "FN_BED=$(basename ${FP_BED})\n",
    "\n",
    "FD_OUT=${FD_RES}/KS91_K562_ASTARRseq/fragment_nuc\n",
    "FN_OUT=${FN_BED}.gz\n",
    "\n",
    "### genome annotation\n",
    "FD_GEN=${FD_ANN}/genome/hg38/fasta\n",
    "FN_GEN=${CHROM}.fa\n",
    "\n",
    "### print start message\n",
    "timer_start=`date +%s`\n",
    "echo \"Hostname:          \" $(hostname)\n",
    "echo \"Slurm Array Index: \" ${SLURM_ARRAY_TASK_ID}\n",
    "echo \"Time Stamp:        \" $(date +\"%m-%d-%y+%T\")\n",
    "echo\n",
    "\n",
    "### Show input/output file\n",
    "echo \"Input  file: \" ${FD_BED}/${FN_BED}\n",
    "echo \"Output file: \" ${FD_OUT}/${FN_OUT}\n",
    "echo\n",
    "echo \"Show the first few lines of the input file\"\n",
    "echo ${FD_BED}/${FN_BED}\n",
    "cat  ${FD_BED}/${FN_BED} | head -n 3 \n",
    "echo\n",
    "    \n",
    "### init: create output folder if not exist\n",
    "mkdir -p ${FD_OUT}\n",
    "\n",
    "### calculate the GC content of each fragment\n",
    "bedtools nuc \\\n",
    "    -fi  ${FD_GEN}/${FN_GEN} \\\n",
    "    -bed ${FD_BED}/${FN_BED} |\\\n",
    "    gzip -c > ${FD_OUT}/${FN_OUT}\n",
    "\n",
    "### Show input/output file\n",
    "echo \"Show the first few lines of the output file\"\n",
    "echo ${FD_OUT}/${FN_OUT}\n",
    "zcat ${FD_OUT}/${FN_OUT} | head -n 3\n",
    "echo\n",
    "\n",
    "### print end message\n",
    "timer_stop=`date +%s`\n",
    "runtime=$(echo \"${timer_stop} - ${timer_start}\" | bc -l)\n",
    "echo\n",
    "echo 'Done!'\n",
    "echo \"Run Time: $(displaytime ${runtime})\"\n",
    "\n",
    "EOF"
   ]
  },
  {
   "cell_type": "markdown",
   "id": "34c5b4f4-5de1-45d2-8dbc-bb3ed8e7efae",
   "metadata": {},
   "source": [
    "**CHECK**"
   ]
  },
  {
   "cell_type": "code",
   "execution_count": 27,
   "id": "2a8ef954-54bc-4fde-b891-83455c821dea",
   "metadata": {},
   "outputs": [
    {
     "name": "stdout",
     "output_type": "stream",
     "text": [
      "Hostname:           dl-01.genome.duke.edu\n",
      "Slurm Array Index:  0\n",
      "Time Stamp:         10-11-22+18:25:46\n",
      "\n",
      "Input  file:  /gpfs/fs1/data/reddylab/Kuei/out/proj_combeffect_encode_fcc/KS91_K562_ASTARRseq/fragment/KS91_K562_hg38_ASTARRseq_Input_rep1.FADS.unstranded.bed\n",
      "Output file:  /gpfs/fs1/data/reddylab/Kuei/out/proj_combeffect_encode_fcc/KS91_K562_ASTARRseq/fragment_nuc/KS91_K562_hg38_ASTARRseq_Input_rep1.FADS.unstranded.bed.gz\n",
      "\n",
      "Show the first few lines of the input file\n",
      "/gpfs/fs1/data/reddylab/Kuei/out/proj_combeffect_encode_fcc/KS91_K562_ASTARRseq/fragment/KS91_K562_hg38_ASTARRseq_Input_rep1.FADS.unstranded.bed\n",
      "chr11\t61787228\t61787382\tchr11_61787228_61787382\t1\t.\n",
      "chr11\t61787230\t61787628\tchr11_61787230_61787628\t1\t.\n",
      "chr11\t61787234\t61787471\tchr11_61787234_61787471\t1\t.\n",
      "\n",
      "Show the first few lines of the output file\n",
      "/gpfs/fs1/data/reddylab/Kuei/out/proj_combeffect_encode_fcc/KS91_K562_ASTARRseq/fragment_nuc/KS91_K562_hg38_ASTARRseq_Input_rep1.FADS.unstranded.bed.gz\n",
      "#1_usercol\t2_usercol\t3_usercol\t4_usercol\t5_usercol\t6_usercol\t7_pct_at\t8_pct_gc\t9_num_A\t10_num_C\t11_num_G\t12_num_T\t13_num_N\t14_num_oth\t15_seq_len\n",
      "chr11\t61787228\t61787382\tchr11_61787228_61787382\t1\t.\t0.441558\t0.558442\t34\t50\t36\t34\t0\t0\t154\n",
      "chr11\t61787230\t61787628\tchr11_61787230_61787628\t1\t.\t0.469849\t0.530151\t83\t113\t98\t104\t0\t0\t398\n",
      "\n",
      "\n",
      "Done!\n",
      "Run Time: 1 seconds\n"
     ]
    }
   ],
   "source": [
    "cat ${FD_LOG}/fragment_nuc_astarr_fads.0.txt"
   ]
  },
  {
   "cell_type": "code",
   "execution_count": null,
   "id": "bf28cfd8-697f-4e93-9a12-8cfe2fda4667",
   "metadata": {},
   "outputs": [],
   "source": []
  }
 ],
 "metadata": {
  "kernelspec": {
   "display_name": "Bash",
   "language": "bash",
   "name": "bash"
  },
  "language_info": {
   "codemirror_mode": "shell",
   "file_extension": ".sh",
   "mimetype": "text/x-sh",
   "name": "bash"
  }
 },
 "nbformat": 4,
 "nbformat_minor": 5
}
