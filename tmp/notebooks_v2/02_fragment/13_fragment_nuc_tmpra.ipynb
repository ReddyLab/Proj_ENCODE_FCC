{
 "cells": [
  {
   "cell_type": "markdown",
   "id": "01e67747-d47a-4414-8171-f4c7581b081f",
   "metadata": {},
   "source": [
    "**Set environment**"
   ]
  },
  {
   "cell_type": "code",
   "execution_count": 2,
   "id": "f1f1fe23-6cf1-4064-826a-0c95f854f821",
   "metadata": {},
   "outputs": [
    {
     "name": "stdout",
     "output_type": "stream",
     "text": [
      "You are on Duke Server: HARDAC\n",
      "BASE DIRECTORY:     /gpfs/fs1/data/reddylab/Kuei\n",
      "PATH OF SOURCE:     /gpfs/fs1/data/reddylab/Kuei/source\n",
      "PATH OF EXECUTABLE: /gpfs/fs1/data/reddylab/Kuei/exe\n",
      "PATH OF ANNOTATION: /gpfs/fs1/data/reddylab/Kuei/annotation\n",
      "PATH OF PROJECT:    /gpfs/fs1/data/reddylab/Kuei/GitRepo/Proj_CombEffect_ENCODE_FCC/notebooks\n",
      "PATH OF RESULTS:    /gpfs/fs1/data/reddylab/Kuei/out/proj_combeffect_encode_fcc\n",
      "\n"
     ]
    }
   ],
   "source": [
    "### set env\n",
    "source ../config/config_duke.sh\n",
    "source ../config/config_load_module_bedtools.sh\n",
    "show_env"
   ]
  },
  {
   "cell_type": "code",
   "execution_count": 3,
   "id": "9960b284-586e-4370-a3cf-e2a28ef685b6",
   "metadata": {},
   "outputs": [
    {
     "name": "stdout",
     "output_type": "stream",
     "text": [
      "/nfs/software/helmod/apps/Core/bedtools2/2.25.0-fasrc01/bin/bedtools\n",
      "bedtools v2.25.0\n"
     ]
    }
   ],
   "source": [
    "which bedtools\n",
    "bedtools -version"
   ]
  },
  {
   "cell_type": "markdown",
   "id": "819647bf-8f1a-469b-b2ba-bffdb785a2f0",
   "metadata": {},
   "source": [
    "**Check data directory**"
   ]
  },
  {
   "cell_type": "code",
   "execution_count": 5,
   "id": "04447331-f65a-4ffe-82ad-d4f0bf7674c7",
   "metadata": {},
   "outputs": [
    {
     "name": "stdout",
     "output_type": "stream",
     "text": [
      "Tile_K562_hg38_20200905.FADS.stranded_neg.bed\n",
      "Tile_K562_hg38_20200905.FADS.stranded_pos.bed\n",
      "Tile_K562_hg38_20210130.GATA1.stranded_pos.bed\n",
      "Tile_K562_hg38_20210130.MYC.stranded_pos.bed\n"
     ]
    }
   ],
   "source": [
    "ls ${FD_RES}/Tewhey_K562_TileMPRA/fragment/*.bed | xargs -n 1 basename"
   ]
  },
  {
   "cell_type": "markdown",
   "id": "5d376928-1a67-4823-b28f-fce171cc1370",
   "metadata": {},
   "source": [
    "**Check chromosome**"
   ]
  },
  {
   "cell_type": "code",
   "execution_count": 6,
   "id": "e4ed38c5-614d-4c8d-876e-0d03ade56dc3",
   "metadata": {},
   "outputs": [
    {
     "name": "stdout",
     "output_type": "stream",
     "text": [
      "chrX\t47786401\t47786600\tX:47786401-47786600\t.\t+\n",
      "chr8\t126735901\t126736100\t8:126735901-126736100\t.\t+\n",
      "chr11\t61787329\t61787528\t11:61554801-61555000\t.\t+\n"
     ]
    }
   ],
   "source": [
    "FDIRY=${FD_RES}/Tewhey_K562_TileMPRA/fragment\n",
    "\n",
    "FNAME=Tile_K562_hg38_20210130.GATA1.stranded_pos.bed\n",
    "head -1 ${FDIRY}/${FNAME}\n",
    "\n",
    "FNAME=Tile_K562_hg38_20210130.MYC.stranded_pos.bed\n",
    "head -1 ${FDIRY}/${FNAME}\n",
    "\n",
    "FNAME=Tile_K562_hg38_20200905.FADS.stranded_pos.bed\n",
    "head -1 ${FDIRY}/${FNAME}"
   ]
  },
  {
   "cell_type": "markdown",
   "id": "78300750-0b79-4e0d-acc5-c2554511a3bb",
   "metadata": {},
   "source": [
    "```\n",
    "GATA1 --- chrX\n",
    "MYC   --- chr8\n",
    "```"
   ]
  },
  {
   "cell_type": "markdown",
   "id": "d5010710-83d9-4bb4-9928-42a897b09fbc",
   "metadata": {},
   "source": [
    "## Calculate NUC for fragments in Whole-Genome-STARR"
   ]
  },
  {
   "cell_type": "markdown",
   "id": "06bb52f2-6274-4e47-aeeb-d35b6218862e",
   "metadata": {},
   "source": [
    "### Region: GATA"
   ]
  },
  {
   "cell_type": "markdown",
   "id": "e11ac221-0b02-4fbc-8d51-b1eed2b8198b",
   "metadata": {},
   "source": [
    "**RUN**"
   ]
  },
  {
   "cell_type": "code",
   "execution_count": 7,
   "id": "b65fdac8-3b9c-4b6d-8c99-570769717d2d",
   "metadata": {},
   "outputs": [
    {
     "name": "stdout",
     "output_type": "stream",
     "text": [
      "Submitted batch job 29147842\n"
     ]
    }
   ],
   "source": [
    "sbatch -p ${NODE} \\\n",
    "    -J bedtools_nuc_tmpra_gata1 \\\n",
    "    --mem 20G \\\n",
    "    --array 0 \\\n",
    "    -o ${FD_LOG}/fragment_nuc_tmpra_gata1.txt \\\n",
    "    <<'EOF'\n",
    "#!/bin/bash\n",
    "### set directories & global variables\n",
    "source ../config/config_duke.sh\n",
    "CHROM=chrX\n",
    "REGION=GATA1\n",
    "\n",
    "### set input and output\n",
    "FD_BED=${FD_RES}/Tewhey_K562_TileMPRA/fragment\n",
    "FN_BED=Tile_K562_hg38_20210130.GATA1.stranded_pos.bed\n",
    "\n",
    "FD_OUT=${FD_RES}/Tewhey_K562_TileMPRA/fragment_nuc\n",
    "FN_OUT=${FN_BED}.gz\n",
    "\n",
    "### genome annotation\n",
    "FD_GEN=${FD_ANN}/genome/hg38/fasta\n",
    "FN_GEN=${CHROM}.fa\n",
    "\n",
    "### print start message\n",
    "timer_start=`date +%s`\n",
    "echo \"Hostname:          \" $(hostname)\n",
    "echo \"Slurm Array Index: \" ${SLURM_ARRAY_TASK_ID}\n",
    "echo \"Time Stamp:        \" $(date +\"%m-%d-%y+%T\")\n",
    "echo\n",
    "\n",
    "### Show input/output file\n",
    "echo \"Input  file: \" ${FD_BED}/${FN_BED}\n",
    "echo \"Output file: \" ${FD_OUT}/${FN_OUT}\n",
    "echo\n",
    "echo \"Show the first few lines of the input file\"\n",
    "echo ${FD_BED}/${FN_BED}\n",
    "cat  ${FD_BED}/${FN_BED} | head -n 3 \n",
    "echo\n",
    "    \n",
    "### init: create output folder if not exist\n",
    "mkdir -p ${FD_OUT}\n",
    "\n",
    "### calculate the GC content of each fragment\n",
    "bedtools nuc \\\n",
    "    -fi  ${FD_GEN}/${FN_GEN} \\\n",
    "    -bed ${FD_BED}/${FN_BED} |\\\n",
    "    gzip -c > ${FD_OUT}/${FN_OUT}\n",
    "\n",
    "### Show input/output file\n",
    "echo \"Show the first few lines of the output file\"\n",
    "echo ${FD_OUT}/${FN_OUT}\n",
    "zcat ${FD_OUT}/${FN_OUT} | head -n 3\n",
    "echo\n",
    "\n",
    "### print end message\n",
    "timer_stop=`date +%s`\n",
    "runtime=$(echo \"${timer_stop} - ${timer_start}\" | bc -l)\n",
    "echo\n",
    "echo 'Done!'\n",
    "echo \"Run Time: $(displaytime ${runtime})\"\n",
    "\n",
    "EOF"
   ]
  },
  {
   "cell_type": "markdown",
   "id": "9d4cdc8a-de61-49da-9d80-b744c419966b",
   "metadata": {},
   "source": [
    "**CHECK**"
   ]
  },
  {
   "cell_type": "code",
   "execution_count": 8,
   "id": "6d35cdeb-66f8-4461-ab68-e53a8d0a3101",
   "metadata": {},
   "outputs": [
    {
     "name": "stdout",
     "output_type": "stream",
     "text": [
      "Hostname:           dl-01.genome.duke.edu\n",
      "Slurm Array Index:  0\n",
      "Time Stamp:         10-11-22+22:18:47\n",
      "\n",
      "Input  file:  /gpfs/fs1/data/reddylab/Kuei/out/proj_combeffect_encode_fcc/Tewhey_K562_TileMPRA/fragment/Tile_K562_hg38_20210130.GATA1.stranded_pos.bed\n",
      "Output file:  /gpfs/fs1/data/reddylab/Kuei/out/proj_combeffect_encode_fcc/Tewhey_K562_TileMPRA/fragment_nuc/Tile_K562_hg38_20210130.GATA1.stranded_pos.bed.gz\n",
      "\n",
      "Show the first few lines of the input file\n",
      "/gpfs/fs1/data/reddylab/Kuei/out/proj_combeffect_encode_fcc/Tewhey_K562_TileMPRA/fragment/Tile_K562_hg38_20210130.GATA1.stranded_pos.bed\n",
      "chrX\t47786401\t47786600\tX:47786401-47786600\t.\t+\n",
      "chrX\t47786451\t47786650\tX:47786451-47786650\t.\t+\n",
      "chrX\t47786501\t47786700\tX:47786501-47786700\t.\t+\n",
      "\n",
      "Show the first few lines of the output file\n",
      "/gpfs/fs1/data/reddylab/Kuei/out/proj_combeffect_encode_fcc/Tewhey_K562_TileMPRA/fragment_nuc/Tile_K562_hg38_20210130.GATA1.stranded_pos.bed.gz\n",
      "#1_usercol\t2_usercol\t3_usercol\t4_usercol\t5_usercol\t6_usercol\t7_pct_at\t8_pct_gc\t9_num_A\t10_num_C\t11_num_G\t12_num_T\t13_num_N\t14_num_oth\t15_seq_len\n",
      "chrX\t47786401\t47786600\tX:47786401-47786600\t.\t+\t0.668342\t0.331658\t33\t27\t39\t100\t0\t0\t199\n",
      "chrX\t47786451\t47786650\tX:47786451-47786650\t.\t+\t0.658291\t0.341709\t36\t30\t38\t95\t0\t0\t199\n",
      "\n",
      "\n",
      "Done!\n",
      "Run Time: 0 seconds\n"
     ]
    }
   ],
   "source": [
    "cat ${FD_LOG}/fragment_nuc_tmpra_gata1.txt"
   ]
  },
  {
   "cell_type": "markdown",
   "id": "b48375cc-a5a7-4fb3-9b66-477a54863eee",
   "metadata": {},
   "source": [
    "### Region: MYC"
   ]
  },
  {
   "cell_type": "markdown",
   "id": "fc41511d-5f26-4eec-91de-fa0af9901107",
   "metadata": {},
   "source": [
    "**RUN**"
   ]
  },
  {
   "cell_type": "code",
   "execution_count": 9,
   "id": "b57735d6-4d7e-4e90-8b80-e31c083904c8",
   "metadata": {},
   "outputs": [
    {
     "name": "stdout",
     "output_type": "stream",
     "text": [
      "Submitted batch job 29147843\n"
     ]
    }
   ],
   "source": [
    "sbatch -p ${NODE} \\\n",
    "    -J bedtools_nuc_tmpra_myc \\\n",
    "    --mem 20G \\\n",
    "    --array 0 \\\n",
    "    -o ${FD_LOG}/fragment_nuc_tmpra_myc.txt \\\n",
    "    <<'EOF'\n",
    "#!/bin/bash\n",
    "### set directories & global variables\n",
    "source ../config/config_duke.sh\n",
    "CHROM=chr8\n",
    "REGION=MYC\n",
    "\n",
    "### set input and output\n",
    "FD_BED=${FD_RES}/Tewhey_K562_TileMPRA/fragment\n",
    "FN_BED=Tile_K562_hg38_20210130.MYC.stranded_pos.bed\n",
    "\n",
    "FD_OUT=${FD_RES}/Tewhey_K562_TileMPRA/fragment_nuc\n",
    "FN_OUT=${FN_BED}.gz\n",
    "\n",
    "### genome annotation\n",
    "FD_GEN=${FD_ANN}/genome/hg38/fasta\n",
    "FN_GEN=${CHROM}.fa\n",
    "\n",
    "### print start message\n",
    "timer_start=`date +%s`\n",
    "echo \"Hostname:          \" $(hostname)\n",
    "echo \"Slurm Array Index: \" ${SLURM_ARRAY_TASK_ID}\n",
    "echo \"Time Stamp:        \" $(date +\"%m-%d-%y+%T\")\n",
    "echo\n",
    "\n",
    "### Show input/output file\n",
    "echo \"Input  file: \" ${FD_BED}/${FN_BED}\n",
    "echo \"Output file: \" ${FD_OUT}/${FN_OUT}\n",
    "echo\n",
    "echo \"Show the first few lines of the input file\"\n",
    "echo ${FD_BED}/${FN_BED}\n",
    "cat  ${FD_BED}/${FN_BED} | head -n 3 \n",
    "echo\n",
    "    \n",
    "### init: create output folder if not exist\n",
    "mkdir -p ${FD_OUT}\n",
    "\n",
    "### calculate the GC content of each fragment\n",
    "bedtools nuc \\\n",
    "    -fi  ${FD_GEN}/${FN_GEN} \\\n",
    "    -bed ${FD_BED}/${FN_BED} |\\\n",
    "    gzip -c > ${FD_OUT}/${FN_OUT}\n",
    "\n",
    "### Show input/output file\n",
    "echo \"Show the first few lines of the output file\"\n",
    "echo ${FD_OUT}/${FN_OUT}\n",
    "zcat ${FD_OUT}/${FN_OUT} | head -n 3\n",
    "echo\n",
    "\n",
    "### print end message\n",
    "timer_stop=`date +%s`\n",
    "runtime=$(echo \"${timer_stop} - ${timer_start}\" | bc -l)\n",
    "echo\n",
    "echo 'Done!'\n",
    "echo \"Run Time: $(displaytime ${runtime})\"\n",
    "\n",
    "EOF"
   ]
  },
  {
   "cell_type": "markdown",
   "id": "6ea5f257-3d7c-4a12-b737-b0daabc6b942",
   "metadata": {},
   "source": [
    "**CHECK**"
   ]
  },
  {
   "cell_type": "code",
   "execution_count": 10,
   "id": "1fe4d3a8-0b84-415a-90c2-46c53dd139f0",
   "metadata": {},
   "outputs": [
    {
     "name": "stdout",
     "output_type": "stream",
     "text": [
      "Hostname:           dl-01.genome.duke.edu\n",
      "Slurm Array Index:  0\n",
      "Time Stamp:         10-11-22+22:20:17\n",
      "\n",
      "Input  file:  /gpfs/fs1/data/reddylab/Kuei/out/proj_combeffect_encode_fcc/Tewhey_K562_TileMPRA/fragment/Tile_K562_hg38_20210130.MYC.stranded_pos.bed\n",
      "Output file:  /gpfs/fs1/data/reddylab/Kuei/out/proj_combeffect_encode_fcc/Tewhey_K562_TileMPRA/fragment_nuc/Tile_K562_hg38_20210130.MYC.stranded_pos.bed.gz\n",
      "\n",
      "Show the first few lines of the input file\n",
      "/gpfs/fs1/data/reddylab/Kuei/out/proj_combeffect_encode_fcc/Tewhey_K562_TileMPRA/fragment/Tile_K562_hg38_20210130.MYC.stranded_pos.bed\n",
      "chr8\t126735901\t126736100\t8:126735901-126736100\t.\t+\n",
      "chr8\t126735951\t126736150\t8:126735951-126736150\t.\t+\n",
      "chr8\t126736001\t126736200\t8:126736001-126736200\t.\t+\n",
      "\n",
      "Show the first few lines of the output file\n",
      "/gpfs/fs1/data/reddylab/Kuei/out/proj_combeffect_encode_fcc/Tewhey_K562_TileMPRA/fragment_nuc/Tile_K562_hg38_20210130.MYC.stranded_pos.bed.gz\n",
      "#1_usercol\t2_usercol\t3_usercol\t4_usercol\t5_usercol\t6_usercol\t7_pct_at\t8_pct_gc\t9_num_A\t10_num_C\t11_num_G\t12_num_T\t13_num_N\t14_num_oth\t15_seq_len\n",
      "chr8\t126735901\t126736100\t8:126735901-126736100\t.\t+\t0.618090\t0.381910\t61\t34\t42\t62\t0\t0\t199\n",
      "chr8\t126735951\t126736150\t8:126735951-126736150\t.\t+\t0.597990\t0.402010\t69\t28\t52\t50\t0\t0\t199\n",
      "\n",
      "\n",
      "Done!\n",
      "Run Time: 0 seconds\n"
     ]
    }
   ],
   "source": [
    "cat ${FD_LOG}/fragment_nuc_tmpra_myc.txt"
   ]
  },
  {
   "cell_type": "code",
   "execution_count": null,
   "id": "1a8f5553-638f-43b7-9612-17b0a6fff85a",
   "metadata": {},
   "outputs": [],
   "source": []
  }
 ],
 "metadata": {
  "kernelspec": {
   "display_name": "Bash",
   "language": "bash",
   "name": "bash"
  },
  "language_info": {
   "codemirror_mode": "shell",
   "file_extension": ".sh",
   "mimetype": "text/x-sh",
   "name": "bash"
  }
 },
 "nbformat": 4,
 "nbformat_minor": 5
}
