{
 "cells": [
  {
   "cell_type": "markdown",
   "id": "cbecc2f8",
   "metadata": {},
   "source": [
    "**Set environment**"
   ]
  },
  {
   "cell_type": "code",
   "execution_count": 2,
   "id": "ea465712",
   "metadata": {},
   "outputs": [
    {
     "name": "stdout",
     "output_type": "stream",
     "text": [
      "You are in: Singularity | singularity_proj_combeffect\n",
      "    BASE DIRECTORY:     /mount/work\n",
      "    PATH OF SOURCE:     /mount/work/source\n",
      "    PATH OF EXECUTABLE: /mount/work/exe\n",
      "    PATH OF ANNOTATION: /mount/work/annotation\n",
      "    PATH OF PROJECT:    /mount/project\n",
      "    PATH OF RESULTS:    /mount/work/out/proj_combeffect_encode_fcc\n",
      "\n",
      "Library imported:\n",
      "    numpy, pandas, matplotlib.pyplot\n",
      "    os, sys, time, gzip, glob\n",
      "    itertools, collections.Counter\n"
     ]
    }
   ],
   "source": [
    "### set environment\n",
    "import sys\n",
    "sys.path.append('../config')\n",
    "from config_sing import *\n",
    "show_env()\n",
    "\n",
    "### import more tools\n",
    "import sqlite3\n",
    "# https://stackoverflow.com/questions/49456158/integer-in-python-pandas-becomes-blob-binary-in-sqlite\n",
    "sqlite3.register_adapter(np.int64, lambda val: int(val))\n",
    "sqlite3.register_adapter(np.int32, lambda val: int(val))"
   ]
  },
  {
   "cell_type": "code",
   "execution_count": 3,
   "id": "24d7de20",
   "metadata": {},
   "outputs": [],
   "source": [
    "FDIRY  = \"KS91_K562_ASTARRseq\"\n",
    "#FDIRY = \"A001_K562_WSTARRseq\"\n",
    "#FDIRY = \"Tewhey_K562_TileMPRA\"\n",
    "\n",
    "FNAME   = \"astarr\"\n",
    "REGIONS = [\"GATA1\", \"MYC\"]"
   ]
  },
  {
   "cell_type": "code",
   "execution_count": 4,
   "id": "74344c1d",
   "metadata": {},
   "outputs": [
    {
     "name": "stdout",
     "output_type": "stream",
     "text": [
      "fragment_astarr_GATA1.db\n",
      "/mount/work/out/proj_combeffect_encode_fcc/KS91_K562_ASTARRseq/database/fragment_astarr_GATA1.db\n",
      "fragment_astarr_MYC.db\n",
      "/mount/work/out/proj_combeffect_encode_fcc/KS91_K562_ASTARRseq/database/fragment_astarr_MYC.db\n"
     ]
    }
   ],
   "source": [
    "for REGION in REGIONS:\n",
    "    ###\n",
    "    fdiry    = os.path.join(FD_RES, FDIRY, \"database\")\n",
    "    fname    = f\"fragment_{FNAME}_{REGION}.db\"\n",
    "    fpath_db = os.path.join(fdiry, fname)\n",
    "    print(fname)\n",
    "    print(fpath_db)"
   ]
  },
  {
   "cell_type": "markdown",
   "id": "e5faafe6",
   "metadata": {},
   "source": [
    "## Sample information"
   ]
  },
  {
   "cell_type": "code",
   "execution_count": 6,
   "id": "1fa9e689",
   "metadata": {},
   "outputs": [
    {
     "name": "stdout",
     "output_type": "stream",
     "text": [
      "Fpath     object\n",
      "Count      int64\n",
      "Sample    object\n",
      "Group     object\n",
      "dtype: object\n"
     ]
    },
    {
     "data": {
      "text/html": [
       "<div>\n",
       "<style scoped>\n",
       "    .dataframe tbody tr th:only-of-type {\n",
       "        vertical-align: middle;\n",
       "    }\n",
       "\n",
       "    .dataframe tbody tr th {\n",
       "        vertical-align: top;\n",
       "    }\n",
       "\n",
       "    .dataframe thead th {\n",
       "        text-align: right;\n",
       "    }\n",
       "</style>\n",
       "<table border=\"1\" class=\"dataframe\">\n",
       "  <thead>\n",
       "    <tr style=\"text-align: right;\">\n",
       "      <th></th>\n",
       "      <th>Fpath</th>\n",
       "      <th>Count</th>\n",
       "      <th>Sample</th>\n",
       "      <th>Group</th>\n",
       "    </tr>\n",
       "  </thead>\n",
       "  <tbody>\n",
       "    <tr>\n",
       "      <th>0</th>\n",
       "      <td>KS91_K562_hg38_ASTARRseq_Input_rep1.masked.ded...</td>\n",
       "      <td>348695063</td>\n",
       "      <td>Input_rep1</td>\n",
       "      <td>Input</td>\n",
       "    </tr>\n",
       "    <tr>\n",
       "      <th>1</th>\n",
       "      <td>KS91_K562_hg38_ASTARRseq_Input_rep2.masked.ded...</td>\n",
       "      <td>451369741</td>\n",
       "      <td>Input_rep2</td>\n",
       "      <td>Input</td>\n",
       "    </tr>\n",
       "    <tr>\n",
       "      <th>2</th>\n",
       "      <td>KS91_K562_hg38_ASTARRseq_Input_rep3.masked.ded...</td>\n",
       "      <td>487579055</td>\n",
       "      <td>Input_rep3</td>\n",
       "      <td>Input</td>\n",
       "    </tr>\n",
       "    <tr>\n",
       "      <th>3</th>\n",
       "      <td>KS91_K562_hg38_ASTARRseq_Input_rep4.masked.ded...</td>\n",
       "      <td>456246254</td>\n",
       "      <td>Input_rep4</td>\n",
       "      <td>Input</td>\n",
       "    </tr>\n",
       "    <tr>\n",
       "      <th>4</th>\n",
       "      <td>KS91_K562_hg38_ASTARRseq_Input_rep5.masked.ded...</td>\n",
       "      <td>444268950</td>\n",
       "      <td>Input_rep5</td>\n",
       "      <td>Input</td>\n",
       "    </tr>\n",
       "  </tbody>\n",
       "</table>\n",
       "</div>"
      ],
      "text/plain": [
       "                                               Fpath      Count      Sample  \\\n",
       "0  KS91_K562_hg38_ASTARRseq_Input_rep1.masked.ded...  348695063  Input_rep1   \n",
       "1  KS91_K562_hg38_ASTARRseq_Input_rep2.masked.ded...  451369741  Input_rep2   \n",
       "2  KS91_K562_hg38_ASTARRseq_Input_rep3.masked.ded...  487579055  Input_rep3   \n",
       "3  KS91_K562_hg38_ASTARRseq_Input_rep4.masked.ded...  456246254  Input_rep4   \n",
       "4  KS91_K562_hg38_ASTARRseq_Input_rep5.masked.ded...  444268950  Input_rep5   \n",
       "\n",
       "   Group  \n",
       "0  Input  \n",
       "1  Input  \n",
       "2  Input  \n",
       "3  Input  \n",
       "4  Input  "
      ]
     },
     "execution_count": 6,
     "metadata": {},
     "output_type": "execute_result"
    }
   ],
   "source": [
    "fdiry = os.path.join(FD_RES, FDIRY, \"coverage\", \"library_size\")\n",
    "fname = \"library_size_summary.csv\"\n",
    "fpath = os.path.join(fdiry, fname)\n",
    "\n",
    "dat_sample = pd.read_table(fpath, sep=\",\")\n",
    "print(dat_sample.dtypes)\n",
    "dat_sample.head()"
   ]
  },
  {
   "cell_type": "code",
   "execution_count": null,
   "id": "dfe36c95",
   "metadata": {},
   "outputs": [],
   "source": []
  }
 ],
 "metadata": {
  "kernelspec": {
   "display_name": "Python 3",
   "language": "python",
   "name": "python3"
  },
  "language_info": {
   "codemirror_mode": {
    "name": "ipython",
    "version": 3
   },
   "file_extension": ".py",
   "mimetype": "text/x-python",
   "name": "python",
   "nbconvert_exporter": "python",
   "pygments_lexer": "ipython3",
   "version": "3.7.6"
  }
 },
 "nbformat": 4,
 "nbformat_minor": 5
}
