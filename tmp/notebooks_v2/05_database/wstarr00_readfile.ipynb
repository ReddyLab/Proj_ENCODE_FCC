{
 "cells": [
  {
   "cell_type": "markdown",
   "id": "b9b0474c",
   "metadata": {},
   "source": [
    "**Set environment**"
   ]
  },
  {
   "cell_type": "code",
   "execution_count": 1,
   "id": "37d55234",
   "metadata": {},
   "outputs": [
    {
     "name": "stdout",
     "output_type": "stream",
     "text": [
      "You are in: Singularity | singularity_proj_combeffect\n",
      "    BASE DIRECTORY:     /mount/work\n",
      "    PATH OF SOURCE:     /mount/work/source\n",
      "    PATH OF EXECUTABLE: /mount/work/exe\n",
      "    PATH OF ANNOTATION: /mount/work/annotation\n",
      "    PATH OF PROJECT:    /mount/project\n",
      "    PATH OF RESULTS:    /mount/work/out/proj_combeffect_encode_fcc\n",
      "\n",
      "Library imported:\n",
      "    numpy, pandas, itertools,\n",
      "    os, sys, time, gzip, glob,\n",
      "    functools.partial/reduce,\n",
      "    collections.Counter,\n",
      "    matplotlib.pyplot\n",
      "\n"
     ]
    }
   ],
   "source": [
    "### set environment\n",
    "import sys\n",
    "sys.path.append('../config')\n",
    "from config_sing import *\n",
    "show_env()\n",
    "\n",
    "### import more tools\n",
    "import csv\n",
    "import sqlite3\n",
    "# https://stackoverflow.com/questions/49456158/integer-in-python-pandas-becomes-blob-binary-in-sqlite\n",
    "sqlite3.register_adapter(np.int64, lambda val: int(val))\n",
    "sqlite3.register_adapter(np.int32, lambda val: int(val))"
   ]
  },
  {
   "cell_type": "code",
   "execution_count": 2,
   "id": "8b111312",
   "metadata": {},
   "outputs": [],
   "source": [
    "#PREFIX = \"KS91_K562_ASTARRseq\"\n",
    "PREFIX  = \"A001_K562_WSTARRseq\"\n",
    "#PREFIX = \"Tewhey_K562_TileMPRA\""
   ]
  },
  {
   "cell_type": "code",
   "execution_count": 3,
   "id": "1f2d6727",
   "metadata": {},
   "outputs": [],
   "source": [
    "def gen_lines(file, n_lines=10, remove_header=False):\n",
    "    \"\"\"generate lines lines from the file\"\"\"\n",
    "    ### read lines using csv reader\n",
    "    lines = csv.reader(file, delimiter='\\t', quotechar='|')\n",
    "    \n",
    "    ### remove file header if needed\n",
    "    if remove_header:\n",
    "        next(lines)\n",
    "    \n",
    "    ### specify number of lines to generate\n",
    "    lines = it.islice(lines, 0, n_lines)\n",
    "    for line in lines:\n",
    "        yield line"
   ]
  },
  {
   "cell_type": "markdown",
   "id": "113b17ea",
   "metadata": {},
   "source": [
    "## Sample\n",
    "```\n",
    "query_table = (\"\"\"CREATE TABLE IF NOT EXISTS Sample(\n",
    "    sample    TEXT PRIMARY KEY, \n",
    "    treatment TEXT,\n",
    "    replicate TEXT,\n",
    "    size      INTEGER\n",
    ");\"\"\")\n",
    "\n",
    "query_insert = (\"\"\"\n",
    "    INSERT OR IGNORE INTO Sample\n",
    "        (sample, treatment, replicate, size) \n",
    "    VALUES \n",
    "        (?,?,?,?)\n",
    "    \"\"\")\n",
    "```"
   ]
  },
  {
   "cell_type": "code",
   "execution_count": 4,
   "id": "e73cd648",
   "metadata": {},
   "outputs": [
    {
     "name": "stdout",
     "output_type": "stream",
     "text": [
      "Sample    object\n",
      "Group     object\n",
      "Rep       object\n",
      "Count      int64\n",
      "Fpath     object\n",
      "dtype: object\n"
     ]
    },
    {
     "data": {
      "text/html": [
       "<div>\n",
       "<style scoped>\n",
       "    .dataframe tbody tr th:only-of-type {\n",
       "        vertical-align: middle;\n",
       "    }\n",
       "\n",
       "    .dataframe tbody tr th {\n",
       "        vertical-align: top;\n",
       "    }\n",
       "\n",
       "    .dataframe thead th {\n",
       "        text-align: right;\n",
       "    }\n",
       "</style>\n",
       "<table border=\"1\" class=\"dataframe\">\n",
       "  <thead>\n",
       "    <tr style=\"text-align: right;\">\n",
       "      <th></th>\n",
       "      <th>Sample</th>\n",
       "      <th>Group</th>\n",
       "      <th>Rep</th>\n",
       "      <th>Count</th>\n",
       "      <th>Fpath</th>\n",
       "    </tr>\n",
       "  </thead>\n",
       "  <tbody>\n",
       "    <tr>\n",
       "      <th>0</th>\n",
       "      <td>Input_rep1</td>\n",
       "      <td>Input</td>\n",
       "      <td>rep1</td>\n",
       "      <td>26908970</td>\n",
       "      <td>A001-input-K562-rep1.masked.dedup.fragments.co...</td>\n",
       "    </tr>\n",
       "    <tr>\n",
       "      <th>1</th>\n",
       "      <td>Input_rep2</td>\n",
       "      <td>Input</td>\n",
       "      <td>rep2</td>\n",
       "      <td>99899775</td>\n",
       "      <td>A001-input-K562-rep2.masked.dedup.fragments.co...</td>\n",
       "    </tr>\n",
       "    <tr>\n",
       "      <th>2</th>\n",
       "      <td>Input_rep3</td>\n",
       "      <td>Input</td>\n",
       "      <td>rep3</td>\n",
       "      <td>105623984</td>\n",
       "      <td>A001-input-K562-rep3.masked.dedup.fragments.co...</td>\n",
       "    </tr>\n",
       "    <tr>\n",
       "      <th>3</th>\n",
       "      <td>Input_rep4</td>\n",
       "      <td>Input</td>\n",
       "      <td>rep4</td>\n",
       "      <td>108635002</td>\n",
       "      <td>A001-input-K562-rep4.masked.dedup.fragments.co...</td>\n",
       "    </tr>\n",
       "    <tr>\n",
       "      <th>4</th>\n",
       "      <td>Output_rep1</td>\n",
       "      <td>Output</td>\n",
       "      <td>rep1</td>\n",
       "      <td>160349140</td>\n",
       "      <td>A001-K562-rep1.masked.dedup.fragments.counts.t...</td>\n",
       "    </tr>\n",
       "    <tr>\n",
       "      <th>5</th>\n",
       "      <td>Output_rep2</td>\n",
       "      <td>Output</td>\n",
       "      <td>rep2</td>\n",
       "      <td>157326312</td>\n",
       "      <td>A001-K562-rep2.masked.dedup.fragments.counts.t...</td>\n",
       "    </tr>\n",
       "    <tr>\n",
       "      <th>6</th>\n",
       "      <td>Output_rep3</td>\n",
       "      <td>Output</td>\n",
       "      <td>rep3</td>\n",
       "      <td>328185275</td>\n",
       "      <td>A001-K562-rep3.masked.dedup.fragments.counts.t...</td>\n",
       "    </tr>\n",
       "  </tbody>\n",
       "</table>\n",
       "</div>"
      ],
      "text/plain": [
       "        Sample   Group   Rep      Count  \\\n",
       "0   Input_rep1   Input  rep1   26908970   \n",
       "1   Input_rep2   Input  rep2   99899775   \n",
       "2   Input_rep3   Input  rep3  105623984   \n",
       "3   Input_rep4   Input  rep4  108635002   \n",
       "4  Output_rep1  Output  rep1  160349140   \n",
       "5  Output_rep2  Output  rep2  157326312   \n",
       "6  Output_rep3  Output  rep3  328185275   \n",
       "\n",
       "                                               Fpath  \n",
       "0  A001-input-K562-rep1.masked.dedup.fragments.co...  \n",
       "1  A001-input-K562-rep2.masked.dedup.fragments.co...  \n",
       "2  A001-input-K562-rep3.masked.dedup.fragments.co...  \n",
       "3  A001-input-K562-rep4.masked.dedup.fragments.co...  \n",
       "4  A001-K562-rep1.masked.dedup.fragments.counts.t...  \n",
       "5  A001-K562-rep2.masked.dedup.fragments.counts.t...  \n",
       "6  A001-K562-rep3.masked.dedup.fragments.counts.t...  "
      ]
     },
     "execution_count": 4,
     "metadata": {},
     "output_type": "execute_result"
    }
   ],
   "source": [
    "fdiry = os.path.join(FD_RES, PREFIX, \"coverage\", \"library_size\")\n",
    "fname = \"library_size_summary.csv\"\n",
    "fpath = os.path.join(fdiry, fname)\n",
    "\n",
    "dat_sample = pd.read_table(fpath, sep=\",\")\n",
    "print(dat_sample.dtypes)\n",
    "dat_sample"
   ]
  },
  {
   "cell_type": "markdown",
   "id": "8a2a3708",
   "metadata": {},
   "source": [
    "## Fragments (NUC)\n",
    "```\n",
    "query_reset_table = \"DROP TABLE IF EXISTS Fragment\"\n",
    "query_table = (\"\"\"\n",
    "    CREATE TABLE IF NOT EXISTS Fragment(\n",
    "        fragment TEXT PRIMARY KEY, \n",
    "        chrom    TEXT,\n",
    "        start    INTEGER,\n",
    "        end      INTEGER,\n",
    "        pct_at   REAL,\n",
    "        pct_gc   REAL,\n",
    "        num_A    INTEGER,\n",
    "        num_C    INTEGER,\n",
    "        num_G    INTEGER,\n",
    "        num_T    INTEGER,\n",
    "        num_N    INTEGER,\n",
    "        num_oth  INTEGER\n",
    "    );\"\"\")\n",
    "    \n",
    "query_insert = (\"\"\"\n",
    "    INSERT OR IGNORE INTO Fragment\n",
    "        (fragment, chrom, start, end, pct_at, pct_gc,\n",
    "         num_A, num_C, num_G, num_T, num_N, num_oth) \n",
    "    VALUES \n",
    "        (?,?,?,?,?,?,?,?,?,?,?,?)\n",
    "    \"\"\")\n",
    "```"
   ]
  },
  {
   "cell_type": "code",
   "execution_count": 5,
   "id": "8c3820ac",
   "metadata": {},
   "outputs": [
    {
     "name": "stdout",
     "output_type": "stream",
     "text": [
      "/mount/work/out/proj_combeffect_encode_fcc/A001_K562_WSTARRseq/fragment_nuc/A001_K562_WSTARRseq_Input_rep1.GATA1.unstranded.bed.gz\n",
      "#1_usercol\t2_usercol\t3_usercol\t4_usercol\t5_usercol\t6_usercol\t7_pct_at\t8_pct_gc\t9_num_A\t10_num_C\t11_num_G\t12_num_T\t13_num_N\t14_num_oth\t15_seq_len\n",
      "chrX\t47787533\t47787772\tchrX_47787533_47787772\t1\t.\t0.615063\t0.384937\t48\t43\t49\t99\t0\t0\t239\n",
      "chrX\t47787569\t47787735\tchrX_47787569_47787735\t1\t.\t0.638554\t0.361446\t38\t25\t35\t68\t0\t0\t166\n",
      "chrX\t47787714\t47788125\tchrX_47787714_47788125\t1\t.\t0.569343\t0.430657\t72\t88\t89\t162\t0\t0\t411\n",
      "chrX\t47787767\t47788062\tchrX_47787767_47788062\t1\t.\t0.566102\t0.433898\t53\t59\t69\t114\t0\t0\t295\n",
      "chrX\t47788341\t47788759\tchrX_47788341_47788759\t1\t.\t0.581340\t0.418660\t69\t104\t71\t174\t0\t0\t418\n",
      "chrX\t47788406\t47788749\tchrX_47788406_47788749\t1\t.\t0.565598\t0.434402\t60\t87\t62\t134\t0\t0\t343\n",
      "chrX\t47788733\t47789143\tchrX_47788733_47789143\t1\t.\t0.490244\t0.509756\t64\t95\t114\t137\t0\t0\t410\n",
      "chrX\t47788882\t47789418\tchrX_47788882_47789418\t1\t.\t0.421642\t0.578358\t94\t152\t158\t132\t0\t0\t536\n",
      "chrX\t47788984\t47789338\tchrX_47788984_47789338\t1\t.\t0.415254\t0.584746\t62\t104\t103\t85\t0\t0\t354\n"
     ]
    }
   ],
   "source": [
    "%%bash\n",
    "source ../config/config_sing.sh\n",
    "PREFIX=\"A001_K562_WSTARRseq\"\n",
    "REGION=\"GATA1\"\n",
    "SAMPLE=\"Input_rep1\"\n",
    "STRAND=\"unstranded\"\n",
    "FOLDER=\"fragment_nuc\"\n",
    "FPATH=$(ls ${FD_RES}/${PREFIX}/${FOLDER}/*${SAMPLE}*${REGION}*${STRAND}*)\n",
    "echo ${FPATH}\n",
    "zcat ${FPATH} | head"
   ]
  },
  {
   "cell_type": "code",
   "execution_count": 6,
   "id": "c19f1999",
   "metadata": {},
   "outputs": [],
   "source": [
    "### helper function to process each row\n",
    "def prep_line(line):\n",
    "    \"\"\"Function to process each line\"\"\"\n",
    "    ### parse info: Chrom, Start, Stop, Name, Score, Strand\n",
    "    key = f\"{line[0]}_{line[1]}_{line[2]}\"\n",
    "    val = [key, *line[0:3], *line[6:14]]\n",
    "    return val"
   ]
  },
  {
   "cell_type": "code",
   "execution_count": 7,
   "id": "cca64109",
   "metadata": {},
   "outputs": [
    {
     "name": "stdout",
     "output_type": "stream",
     "text": [
      "['/mount/work/out/proj_combeffect_encode_fcc/A001_K562_WSTARRseq/fragment_nuc/A001_K562_WSTARRseq_Input_rep1.GATA1.unstranded.bed.gz']\n",
      "+++++++++++++++++++++++++++++++++++++++++++++++++++\n",
      "['#1_usercol', '2_usercol', '3_usercol', '4_usercol', '5_usercol', '6_usercol', '7_pct_at', '8_pct_gc', '9_num_A', '10_num_C', '11_num_G', '12_num_T', '13_num_N', '14_num_oth', '15_seq_len']\n",
      "['chrX', '47787533', '47787772', 'chrX_47787533_47787772', '1', '.', '0.615063', '0.384937', '48', '43', '49', '99', '0', '0', '239']\n",
      "['chrX', '47787569', '47787735', 'chrX_47787569_47787735', '1', '.', '0.638554', '0.361446', '38', '25', '35', '68', '0', '0', '166']\n",
      "['chrX', '47787714', '47788125', 'chrX_47787714_47788125', '1', '.', '0.569343', '0.430657', '72', '88', '89', '162', '0', '0', '411']\n",
      "['chrX', '47787767', '47788062', 'chrX_47787767_47788062', '1', '.', '0.566102', '0.433898', '53', '59', '69', '114', '0', '0', '295']\n",
      "+++++++++++++++++++++++++++++++++++++++++++++++++++\n",
      "['chrX_47787533_47787772', 'chrX', '47787533', '47787772', '0.615063', '0.384937', '48', '43', '49', '99', '0', '0']\n",
      "['chrX_47787569_47787735', 'chrX', '47787569', '47787735', '0.638554', '0.361446', '38', '25', '35', '68', '0', '0']\n",
      "['chrX_47787714_47788125', 'chrX', '47787714', '47788125', '0.569343', '0.430657', '72', '88', '89', '162', '0', '0']\n",
      "['chrX_47787767_47788062', 'chrX', '47787767', '47788062', '0.566102', '0.433898', '53', '59', '69', '114', '0', '0']\n",
      "['chrX_47788341_47788759', 'chrX', '47788341', '47788759', '0.581340', '0.418660', '69', '104', '71', '174', '0', '0']\n"
     ]
    }
   ],
   "source": [
    "FOLDER=\"fragment_nuc\"\n",
    "REGION=\"GATA1\"\n",
    "SAMPLE=\"Input_rep1\"\n",
    "STRAND=\"unstranded\"\n",
    "\n",
    "fglob  = os.path.join(FD_RES, PREFIX, FOLDER, f\"*{SAMPLE}*{REGION}*{STRAND}*\")\n",
    "fpaths = glob.glob(fglob)\n",
    "fpath  = fpaths[0]\n",
    "print(fpaths)\n",
    "print(\"+++++++++++++++++++++++++++++++++++++++++++++++++++\")\n",
    "with gzip.open(fpath, \"rt\") as file:\n",
    "    lines = gen_lines(file, n_lines=5)\n",
    "    for line in lines:\n",
    "        print(line)\n",
    "print(\"+++++++++++++++++++++++++++++++++++++++++++++++++++\")\n",
    "fun = prep_line\n",
    "with gzip.open(fpath, \"rt\") as file:\n",
    "    lines = gen_lines(file, n_lines=5, remove_header=True)\n",
    "    lines = map(fun, lines)\n",
    "    for line in lines:\n",
    "        print(line)"
   ]
  },
  {
   "cell_type": "markdown",
   "id": "abb01f04",
   "metadata": {},
   "source": [
    "## Counts"
   ]
  },
  {
   "cell_type": "code",
   "execution_count": 8,
   "id": "6390cdaa",
   "metadata": {},
   "outputs": [
    {
     "name": "stdout",
     "output_type": "stream",
     "text": [
      "/mount/work/out/proj_combeffect_encode_fcc/A001_K562_WSTARRseq/fragment/A001_K562_WSTARRseq_Input_rep1.GATA1.unstranded.bed\n",
      "chrX\t47787533\t47787772\tchrX_47787533_47787772\t1\t.\n",
      "chrX\t47787569\t47787735\tchrX_47787569_47787735\t1\t.\n",
      "chrX\t47787714\t47788125\tchrX_47787714_47788125\t1\t.\n",
      "chrX\t47787767\t47788062\tchrX_47787767_47788062\t1\t.\n",
      "chrX\t47788341\t47788759\tchrX_47788341_47788759\t1\t.\n",
      "chrX\t47788406\t47788749\tchrX_47788406_47788749\t1\t.\n",
      "chrX\t47788733\t47789143\tchrX_47788733_47789143\t1\t.\n",
      "chrX\t47788882\t47789418\tchrX_47788882_47789418\t1\t.\n",
      "chrX\t47788984\t47789338\tchrX_47788984_47789338\t1\t.\n",
      "chrX\t47789379\t47790004\tchrX_47789379_47790004\t1\t.\n"
     ]
    }
   ],
   "source": [
    "%%bash\n",
    "source ../config/config_sing.sh \n",
    "PREFIX=\"A001_K562_WSTARRseq\"\n",
    "FOLDER=\"fragment\"\n",
    "REGION=\"GATA1\"\n",
    "SAMPLE=\"Input_rep1\"\n",
    "STRAND=\"unstranded\"\n",
    "FPATH=$(ls ${FD_RES}/${PREFIX}/${FOLDER}/*${SAMPLE}*${REGION}*${STRAND}*)\n",
    "echo ${FPATH}\n",
    "head ${FPATH}"
   ]
  },
  {
   "cell_type": "code",
   "execution_count": 9,
   "id": "cd792fea",
   "metadata": {},
   "outputs": [],
   "source": [
    "### helper function to process each row\n",
    "def prep_line(line):\n",
    "    \"\"\"Function to process each line\"\"\"\n",
    "    key = f\"{line[0]}_{line[1]}_{line[2]}\"\n",
    "    val = [key, *line[0:3], line[4]]\n",
    "    return val"
   ]
  },
  {
   "cell_type": "code",
   "execution_count": 10,
   "id": "0798ffc6",
   "metadata": {},
   "outputs": [
    {
     "name": "stdout",
     "output_type": "stream",
     "text": [
      "['/mount/work/out/proj_combeffect_encode_fcc/A001_K562_WSTARRseq/fragment/A001_K562_WSTARRseq_Input_rep1.GATA1.unstranded.bed']\n",
      "+++++++++++++++++++++++++++++++++++++++++++++++++++\n",
      "['chrX', '47787533', '47787772', 'chrX_47787533_47787772', '1', '.']\n",
      "['chrX', '47787569', '47787735', 'chrX_47787569_47787735', '1', '.']\n",
      "['chrX', '47787714', '47788125', 'chrX_47787714_47788125', '1', '.']\n",
      "['chrX', '47787767', '47788062', 'chrX_47787767_47788062', '1', '.']\n",
      "['chrX', '47788341', '47788759', 'chrX_47788341_47788759', '1', '.']\n",
      "+++++++++++++++++++++++++++++++++++++++++++++++++++\n",
      "['chrX_47787569_47787735', 'chrX', '47787569', '47787735', '1']\n",
      "['chrX_47787714_47788125', 'chrX', '47787714', '47788125', '1']\n",
      "['chrX_47787767_47788062', 'chrX', '47787767', '47788062', '1']\n",
      "['chrX_47788341_47788759', 'chrX', '47788341', '47788759', '1']\n",
      "['chrX_47788406_47788749', 'chrX', '47788406', '47788749', '1']\n"
     ]
    }
   ],
   "source": [
    "FOLDER=\"fragment\"\n",
    "REGION=\"GATA1\"\n",
    "SAMPLE=\"Input_rep1\"\n",
    "STRAND=\"unstranded\"\n",
    "\n",
    "fglob  = os.path.join(FD_RES, PREFIX, FOLDER, f\"*{SAMPLE}*{REGION}*{STRAND}*\")\n",
    "fpaths = glob.glob(fglob)\n",
    "fpath  = fpaths[0]\n",
    "print(fpaths)\n",
    "print(\"+++++++++++++++++++++++++++++++++++++++++++++++++++\")\n",
    "with open(fpath, \"rt\") as file:\n",
    "    lines = gen_lines(file, n_lines=5)\n",
    "    for line in lines:\n",
    "        print(line)\n",
    "print(\"+++++++++++++++++++++++++++++++++++++++++++++++++++\")\n",
    "fun = prep_line\n",
    "with open(fpath, \"rt\") as file:\n",
    "    lines = gen_lines(file, n_lines=5, remove_header=True)\n",
    "    lines = map(fun, lines)\n",
    "    for line in lines:\n",
    "        print(line)"
   ]
  },
  {
   "cell_type": "markdown",
   "id": "c72ecc73",
   "metadata": {},
   "source": [
    "## Motif\n",
    "```\n",
    "query_reset_table = \"DROP TABLE IF EXISTS Motif\"\n",
    "query_table = \"\"\"\n",
    "    CREATE TABLE IF NOT EXISTS Motif(\n",
    "        binding TEXT PRIMARY KEY, \n",
    "        chrom   TEXT,\n",
    "        start   INTEGER,\n",
    "        end     INTEGER,\n",
    "        motif   TEXT,\n",
    "        score   REAL\n",
    "    );\"\"\"\n",
    "query_insert = \"\"\"\n",
    "    INSERT OR IGNORE INTO Motif \n",
    "        (binding,chrom,start,end,motif,score)\n",
    "    VALUES \n",
    "        (?,?,?,?,?,?)\n",
    "    \"\"\"\n",
    "```"
   ]
  },
  {
   "cell_type": "code",
   "execution_count": 11,
   "id": "e240b5a8",
   "metadata": {},
   "outputs": [
    {
     "name": "stdout",
     "output_type": "stream",
     "text": [
      "/mount/work/annotation/motif_cluster_jvierstra/hg38_archetype_motifs_v1/chrX_rm_mouse_merge.bed.gz\n",
      "chrX\t10006\t10041\tKLF/SP/2\t3.257775\n",
      "chrX\t10018\t10038\tGC-tract\t6.314\n",
      "chrX\t10025\t10039\tNR/3\t7.0957\n",
      "chrX\t10035\t10046\tPRDM1\t8.1562\n",
      "chrX\t10046\t10061\tMAF\t7.1564\n",
      "chrX\t10047\t10057\tNFY\t7.6173\n",
      "chrX\t10053\t10086\tKLF/SP/2\t7.89956\n",
      "chrX\t10055\t10073\tTBX/3\t7.6294\n",
      "chrX\t10055\t10066\tETS/2\t10.5061\n",
      "chrX\t10056\t10078\tGC-tract\t7.8744\n"
     ]
    }
   ],
   "source": [
    "%%bash\n",
    "source ../config/config_sing.sh \n",
    "CHROM=\"chrX\"\n",
    "FDIRY=\"${FD_ANN}/motif_cluster_jvierstra/hg38_archetype_motifs_v1\"\n",
    "FNAME=\"${CHROM}_rm_mouse_merge.bed.gz\"\n",
    "FPATH=\"${FDIRY}/${FNAME}\"\n",
    "echo ${FPATH}\n",
    "zcat ${FPATH} | head"
   ]
  },
  {
   "cell_type": "code",
   "execution_count": 12,
   "id": "e0ebba6d",
   "metadata": {},
   "outputs": [],
   "source": [
    "### helper function to process each row\n",
    "def prep_line(line):\n",
    "    \"\"\"Function to process each line\"\"\"\n",
    "    ### parse info: Chrom, Start, Stop, Name, Score, Strand\n",
    "    key = f\"{line[0]}_{line[1]}_{line[2]}_{line[3]}\"\n",
    "    val = [key, *line]\n",
    "    return val"
   ]
  },
  {
   "cell_type": "code",
   "execution_count": 13,
   "id": "2ce5e3b8",
   "metadata": {},
   "outputs": [
    {
     "name": "stdout",
     "output_type": "stream",
     "text": [
      "/mount/work/annotation/motif_cluster_jvierstra/hg38_archetype_motifs_v1/chrX_rm_mouse_merge.bed.gz\n",
      "+++++++++++++++++++++++++++++++++++++++++++++++++++\n",
      "['chrX', '10006', '10041', 'KLF/SP/2', '3.257775']\n",
      "['chrX', '10018', '10038', 'GC-tract', '6.314']\n",
      "['chrX', '10025', '10039', 'NR/3', '7.0957']\n",
      "['chrX', '10035', '10046', 'PRDM1', '8.1562']\n",
      "['chrX', '10046', '10061', 'MAF', '7.1564']\n",
      "+++++++++++++++++++++++++++++++++++++++++++++++++++\n",
      "['chrX_10018_10038_GC-tract', 'chrX', '10018', '10038', 'GC-tract', '6.314']\n",
      "['chrX_10025_10039_NR/3', 'chrX', '10025', '10039', 'NR/3', '7.0957']\n",
      "['chrX_10035_10046_PRDM1', 'chrX', '10035', '10046', 'PRDM1', '8.1562']\n",
      "['chrX_10046_10061_MAF', 'chrX', '10046', '10061', 'MAF', '7.1564']\n",
      "['chrX_10047_10057_NFY', 'chrX', '10047', '10057', 'NFY', '7.6173']\n"
     ]
    }
   ],
   "source": [
    "CHROM=\"chrX\"\n",
    "fpath  = os.path.join(\n",
    "    FD_ANN, \n",
    "    \"motif_cluster_jvierstra\", \n",
    "    \"hg38_archetype_motifs_v1\", \n",
    "    f\"{CHROM}_rm_mouse_merge.bed.gz\")\n",
    "print(fpath)\n",
    "print(\"+++++++++++++++++++++++++++++++++++++++++++++++++++\")\n",
    "with gzip.open(fpath, \"rt\") as file:\n",
    "    lines = gen_lines(file, n_lines=5)\n",
    "    for line in lines:\n",
    "        print(line)\n",
    "print(\"+++++++++++++++++++++++++++++++++++++++++++++++++++\")\n",
    "fun = prep_line\n",
    "with gzip.open(fpath, \"rt\") as file:\n",
    "    lines = gen_lines(file, n_lines=5, remove_header=True)\n",
    "    lines = map(fun, lines)\n",
    "    for line in lines:\n",
    "        print(line)"
   ]
  },
  {
   "cell_type": "markdown",
   "id": "d343fba8",
   "metadata": {},
   "source": [
    "## Annotation\n",
    "```\n",
    "query_reset_table = \"DROP TABLE IF EXISTS Annotation\"\n",
    "\n",
    "query_table = \"\"\"\n",
    "    CREATE TABLE IF NOT EXISTS Annotation (\n",
    "        fragment TEXT, \n",
    "        binding  TEXT,\n",
    "        FOREIGN KEY (fragment) REFERENCES Fragment (fragment),\n",
    "        FOREIGN KEY (binding)  REFERENCES Motif    (binding),\n",
    "        UNIQUE (fragment, binding) ON CONFLICT IGNORE\n",
    "    );\"\"\"\n",
    "\n",
    "query_insert = \"\"\"\n",
    "    INSERT OR IGNORE INTO Annotation\n",
    "        (fragment, binding)\n",
    "    VALUES \n",
    "        (?,?)\n",
    "    \"\"\"\n",
    "```"
   ]
  },
  {
   "cell_type": "code",
   "execution_count": 14,
   "id": "ecc13433",
   "metadata": {},
   "outputs": [
    {
     "name": "stdout",
     "output_type": "stream",
     "text": [
      "/mount/work/out/proj_combeffect_encode_fcc/A001_K562_WSTARRseq/annotation/A001_K562_WSTARRseq_Input_rep1.GATA1.unstranded.bed.gz\n",
      "chrX\t47787533\t47787772\tchrX_47787533_47787772\t1\t.\tchrX\t47787544\t47787554\tMEF2\t9.2122\t10\n",
      "chrX\t47787533\t47787772\tchrX_47787533_47787772\t1\t.\tchrX\t47787566\t47787580\tOCT4+SOX2\t7.768\t14\n",
      "chrX\t47787533\t47787772\tchrX_47787533_47787772\t1\t.\tchrX\t47787574\t47787589\tZNF528\t5.9885\t15\n",
      "chrX\t47787533\t47787772\tchrX_47787533_47787772\t1\t.\tchrX\t47787580\t47787601\tZNF490\t17.1545\t21\n",
      "chrX\t47787533\t47787772\tchrX_47787533_47787772\t1\t.\tchrX\t47787597\t47787611\tGLIS\t2.9258\t14\n",
      "chrX\t47787533\t47787772\tchrX_47787533_47787772\t1\t.\tchrX\t47787597\t47787610\tZIC\t7.0157\t13\n",
      "chrX\t47787533\t47787772\tchrX_47787533_47787772\t1\t.\tchrX\t47787606\t47787618\tNR/4\t5.1724\t12\n",
      "chrX\t47787533\t47787772\tchrX_47787533_47787772\t1\t.\tchrX\t47787612\t47787624\tNR/14\t7.7273\t12\n",
      "chrX\t47787533\t47787772\tchrX_47787533_47787772\t1\t.\tchrX\t47787629\t47787642\tZSCAN4\t4.9527\t13\n",
      "chrX\t47787533\t47787772\tchrX_47787533_47787772\t1\t.\tchrX\t47787644\t47787653\tHD/18\t8.0703\t9\n"
     ]
    }
   ],
   "source": [
    "%%bash\n",
    "source ../config/config_sing.sh\n",
    "PREFIX=\"A001_K562_WSTARRseq\"\n",
    "FOLDER=\"annotation\"\n",
    "REGION=\"GATA1\"\n",
    "SAMPLE=\"Input_rep1\"\n",
    "STRAND=\"unstranded\"\n",
    "\n",
    "FPATH=$(ls ${FD_RES}/${PREFIX}/${FOLDER}/*${SAMPLE}*${REGION}*${STRAND}*)\n",
    "echo ${FPATH}\n",
    "zcat ${FPATH} | head"
   ]
  },
  {
   "cell_type": "code",
   "execution_count": 15,
   "id": "c6e0801c",
   "metadata": {},
   "outputs": [],
   "source": [
    "### helper function to process each row\n",
    "def prep_line(line):\n",
    "    \"\"\"Function to process each line\"\"\"\n",
    "    ### parse info: Chrom, Start, Stop, Name, Score, Strand\n",
    "    fragment = f\"{line[0]}_{line[1]}_{line[2]}\"\n",
    "    motif    = f\"{line[6]}_{line[7]}_{line[8]}_{line[9]}\"\n",
    "    return fragment, motif"
   ]
  },
  {
   "cell_type": "code",
   "execution_count": 17,
   "id": "07b7d8e4",
   "metadata": {},
   "outputs": [
    {
     "name": "stdout",
     "output_type": "stream",
     "text": [
      "['/mount/work/out/proj_combeffect_encode_fcc/A001_K562_WSTARRseq/annotation/A001_K562_WSTARRseq_Input_rep1.GATA1.unstranded.bed.gz']\n",
      "+++++++++++++++++++++++++++++++++++++++++++++++++++\n",
      "['chrX', '47787533', '47787772', 'chrX_47787533_47787772', '1', '.', 'chrX', '47787544', '47787554', 'MEF2', '9.2122', '10']\n",
      "['chrX', '47787533', '47787772', 'chrX_47787533_47787772', '1', '.', 'chrX', '47787566', '47787580', 'OCT4+SOX2', '7.768', '14']\n",
      "['chrX', '47787533', '47787772', 'chrX_47787533_47787772', '1', '.', 'chrX', '47787574', '47787589', 'ZNF528', '5.9885', '15']\n",
      "['chrX', '47787533', '47787772', 'chrX_47787533_47787772', '1', '.', 'chrX', '47787580', '47787601', 'ZNF490', '17.1545', '21']\n",
      "['chrX', '47787533', '47787772', 'chrX_47787533_47787772', '1', '.', 'chrX', '47787597', '47787611', 'GLIS', '2.9258', '14']\n",
      "+++++++++++++++++++++++++++++++++++++++++++++++++++\n",
      "('chrX_47787533_47787772', 'chrX_47787566_47787580_OCT4+SOX2')\n",
      "('chrX_47787533_47787772', 'chrX_47787574_47787589_ZNF528')\n",
      "('chrX_47787533_47787772', 'chrX_47787580_47787601_ZNF490')\n",
      "('chrX_47787533_47787772', 'chrX_47787597_47787611_GLIS')\n",
      "('chrX_47787533_47787772', 'chrX_47787597_47787610_ZIC')\n"
     ]
    }
   ],
   "source": [
    "FOLDER=\"annotation\"\n",
    "REGION=\"GATA1\"\n",
    "SAMPLE=\"Input_rep1\"\n",
    "STRAND=\"unstranded\"\n",
    "\n",
    "fglob  = os.path.join(FD_RES, PREFIX, FOLDER, f\"*{SAMPLE}*{REGION}*{STRAND}*\")\n",
    "fpaths = glob.glob(fglob)\n",
    "fpath  = fpaths[0]\n",
    "print(fpaths)\n",
    "print(\"+++++++++++++++++++++++++++++++++++++++++++++++++++\")\n",
    "with gzip.open(fpath, \"rt\") as file:\n",
    "    lines = gen_lines(file, n_lines=5)\n",
    "    for line in lines:\n",
    "        print(line)\n",
    "print(\"+++++++++++++++++++++++++++++++++++++++++++++++++++\")\n",
    "fun = prep_line\n",
    "with gzip.open(fpath, \"rt\") as file:\n",
    "    lines = gen_lines(file, n_lines=5, remove_header=True)\n",
    "    lines = map(fun, lines)\n",
    "    for line in lines:\n",
    "        print(line)"
   ]
  },
  {
   "cell_type": "markdown",
   "id": "7ad40e31",
   "metadata": {},
   "source": [
    "## Coverage\n",
    "```\n",
    "query_reset_table = \"DROP TABLE IF EXISTS Coverage\"\n",
    "\n",
    "query_table = \"\"\"CREATE TABLE IF NOT EXISTS Coverage(\n",
    "    chrom    TEXT,\n",
    "    location INTEGER,\n",
    "    depth    INTEGER,\n",
    "    sample   TEXT,\n",
    "    FOREIGN KEY (sample) REFERENCES Sample (sample)\n",
    "    );\"\"\"\n",
    "\n",
    "query_insert = (\"\"\"\n",
    "    INSERT OR IGNORE INTO Coverage\n",
    "        (chrom, location, depth, sample)\n",
    "    VALUES \n",
    "        (?,?,?,?)\"\"\")\n",
    "```"
   ]
  },
  {
   "cell_type": "code",
   "execution_count": 18,
   "id": "5cee53e4",
   "metadata": {},
   "outputs": [
    {
     "name": "stdout",
     "output_type": "stream",
     "text": [
      "/mount/work/out/proj_combeffect_encode_fcc/A001_K562_WSTARRseq/coverage/A001_K562_WSTARRseq_Input_rep1.GATA1.unstranded.perbase.tsv.gz /mount/work/out/proj_combeffect_encode_fcc/A001_K562_WSTARRseq/coverage/A001_K562_WSTARRseq_Input_rep1.GATA1.unstranded.total_count.tsv\n",
      "chrX\t47786880\t47786881\t.\n",
      "chrX\t47786881\t47786882\t.\n",
      "chrX\t47786882\t47786883\t.\n",
      "chrX\t47786883\t47786884\t.\n",
      "chrX\t47786884\t47786885\t.\n",
      "chrX\t47786885\t47786886\t.\n",
      "chrX\t47786886\t47786887\t.\n",
      "chrX\t47786887\t47786888\t.\n",
      "chrX\t47786888\t47786889\t.\n",
      "chrX\t47786889\t47786890\t.\n"
     ]
    }
   ],
   "source": [
    "%%bash\n",
    "source ../config/config_sing.sh\n",
    "PREFIX=\"A001_K562_WSTARRseq\"\n",
    "FOLDER=\"coverage\"\n",
    "REGION=\"GATA1\"\n",
    "SAMPLE=\"Input_rep1\"\n",
    "STRAND=\"unstranded\"\n",
    "\n",
    "FPATH=$(ls ${FD_RES}/${PREFIX}/${FOLDER}/*${SAMPLE}*${REGION}*${STRAND}*)\n",
    "echo ${FPATH}\n",
    "zcat ${FPATH} | head"
   ]
  },
  {
   "cell_type": "code",
   "execution_count": 19,
   "id": "11399ad9",
   "metadata": {},
   "outputs": [],
   "source": [
    "### helper function to process each row\n",
    "def prep_line(line, sample):\n",
    "    \"\"\"Function to process each line\"\"\"\n",
    "    return [*line, SAMPLE]"
   ]
  },
  {
   "cell_type": "code",
   "execution_count": 20,
   "id": "7a8f746f",
   "metadata": {},
   "outputs": [
    {
     "name": "stdout",
     "output_type": "stream",
     "text": [
      "['/mount/work/out/proj_combeffect_encode_fcc/A001_K562_WSTARRseq/coverage/A001_K562_WSTARRseq_Input_rep1.GATA1.unstranded.perbase.tsv.gz']\n",
      "+++++++++++++++++++++++++++++++++++++++++++++++++++\n",
      "['chrX', '47786880', '47786881', '.']\n",
      "['chrX', '47786881', '47786882', '.']\n",
      "['chrX', '47786882', '47786883', '.']\n",
      "['chrX', '47786883', '47786884', '.']\n",
      "['chrX', '47786884', '47786885', '.']\n",
      "+++++++++++++++++++++++++++++++++++++++++++++++++++\n",
      "['chrX', '47786881', '47786882', '.', 'Input_rep1']\n",
      "['chrX', '47786882', '47786883', '.', 'Input_rep1']\n",
      "['chrX', '47786883', '47786884', '.', 'Input_rep1']\n",
      "['chrX', '47786884', '47786885', '.', 'Input_rep1']\n",
      "['chrX', '47786885', '47786886', '.', 'Input_rep1']\n"
     ]
    }
   ],
   "source": [
    "FOLDER=\"coverage\"\n",
    "REGION=\"GATA1\"\n",
    "SAMPLE=\"Input_rep1\"\n",
    "STRAND=\"unstranded\"\n",
    "\n",
    "fglob  = os.path.join(FD_RES, PREFIX, FOLDER, f\"*{SAMPLE}*{REGION}*{STRAND}*perbase*\")\n",
    "fpaths = glob.glob(fglob)\n",
    "fpath  = fpaths[0]\n",
    "print(fpaths)\n",
    "print(\"+++++++++++++++++++++++++++++++++++++++++++++++++++\")\n",
    "with gzip.open(fpath, \"rt\") as file:\n",
    "    lines = gen_lines(file, n_lines=5)\n",
    "    for line in lines:\n",
    "        print(line)\n",
    "print(\"+++++++++++++++++++++++++++++++++++++++++++++++++++\")\n",
    "fun = partial(prep_line, sample=SAMPLE)\n",
    "with gzip.open(fpath, \"rt\") as file:\n",
    "    lines = gen_lines(file, n_lines=5, remove_header=True)\n",
    "    lines = map(fun, lines)\n",
    "    for line in lines:\n",
    "        print(line)"
   ]
  },
  {
   "cell_type": "code",
   "execution_count": null,
   "id": "f1aacebc",
   "metadata": {},
   "outputs": [],
   "source": []
  }
 ],
 "metadata": {
  "kernelspec": {
   "display_name": "Python 3",
   "language": "python",
   "name": "python3"
  },
  "language_info": {
   "codemirror_mode": {
    "name": "ipython",
    "version": 3
   },
   "file_extension": ".py",
   "mimetype": "text/x-python",
   "name": "python",
   "nbconvert_exporter": "python",
   "pygments_lexer": "ipython3",
   "version": "3.7.6"
  }
 },
 "nbformat": 4,
 "nbformat_minor": 5
}
