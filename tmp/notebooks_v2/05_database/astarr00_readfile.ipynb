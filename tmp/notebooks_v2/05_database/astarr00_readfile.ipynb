{
 "cells": [
  {
   "cell_type": "markdown",
   "id": "6fa6d745",
   "metadata": {},
   "source": [
    "**Set environment**"
   ]
  },
  {
   "cell_type": "code",
   "execution_count": 1,
   "id": "25f7320f",
   "metadata": {},
   "outputs": [
    {
     "name": "stdout",
     "output_type": "stream",
     "text": [
      "You are in: Singularity | singularity_proj_combeffect\n",
      "    BASE DIRECTORY:     /mount/work\n",
      "    PATH OF SOURCE:     /mount/work/source\n",
      "    PATH OF EXECUTABLE: /mount/work/exe\n",
      "    PATH OF ANNOTATION: /mount/work/annotation\n",
      "    PATH OF PROJECT:    /mount/project\n",
      "    PATH OF RESULTS:    /mount/work/out/proj_combeffect_encode_fcc\n",
      "\n",
      "Library imported:\n",
      "    numpy, pandas, itertools,\n",
      "    os, sys, time, gzip, glob,\n",
      "    functools.partial/reduce,\n",
      "    collections.Counter,\n",
      "    matplotlib.pyplot\n",
      "\n"
     ]
    }
   ],
   "source": [
    "### set environment\n",
    "import sys\n",
    "sys.path.append('../config')\n",
    "from config_sing import *\n",
    "show_env()\n",
    "\n",
    "### import more tools\n",
    "import csv\n",
    "import sqlite3\n",
    "# https://stackoverflow.com/questions/49456158/integer-in-python-pandas-becomes-blob-binary-in-sqlite\n",
    "sqlite3.register_adapter(np.int64, lambda val: int(val))\n",
    "sqlite3.register_adapter(np.int32, lambda val: int(val))"
   ]
  },
  {
   "cell_type": "code",
   "execution_count": 2,
   "id": "f9202939",
   "metadata": {},
   "outputs": [],
   "source": [
    "PREFIX  = \"KS91_K562_ASTARRseq\"\n",
    "#PREFIX = \"A001_K562_WSTARRseq\"\n",
    "#PREFIX = \"Tewhey_K562_TileMPRA\""
   ]
  },
  {
   "cell_type": "code",
   "execution_count": 3,
   "id": "33a43949",
   "metadata": {},
   "outputs": [],
   "source": [
    "def gen_lines(file, n_lines=10, remove_header=False):\n",
    "    \"\"\"generate lines lines from the file\"\"\"\n",
    "    ### read lines using csv reader\n",
    "    lines = csv.reader(file, delimiter='\\t', quotechar='|')\n",
    "    \n",
    "    ### remove file header if needed\n",
    "    if remove_header:\n",
    "        next(lines)\n",
    "    \n",
    "    ### specify number of lines to generate\n",
    "    lines = it.islice(lines, 0, n_lines)\n",
    "    for line in lines:\n",
    "        yield line"
   ]
  },
  {
   "cell_type": "markdown",
   "id": "81a50eeb",
   "metadata": {},
   "source": [
    "## Sample\n",
    "```\n",
    "query_table = (\"\"\"CREATE TABLE IF NOT EXISTS Sample(\n",
    "    sample    TEXT PRIMARY KEY, \n",
    "    treatment TEXT,\n",
    "    replicate TEXT,\n",
    "    size      INTEGER\n",
    ");\"\"\")\n",
    "\n",
    "query_insert = (\"\"\"\n",
    "    INSERT OR IGNORE INTO Sample\n",
    "        (sample, treatment, replicate, size) \n",
    "    VALUES \n",
    "        (?,?,?,?)\n",
    "    \"\"\")\n",
    "```"
   ]
  },
  {
   "cell_type": "code",
   "execution_count": 4,
   "id": "f07e9a5e",
   "metadata": {},
   "outputs": [
    {
     "name": "stdout",
     "output_type": "stream",
     "text": [
      "Sample    object\n",
      "Group     object\n",
      "Rep       object\n",
      "Count      int64\n",
      "Fpath     object\n",
      "dtype: object\n"
     ]
    },
    {
     "data": {
      "text/html": [
       "<div>\n",
       "<style scoped>\n",
       "    .dataframe tbody tr th:only-of-type {\n",
       "        vertical-align: middle;\n",
       "    }\n",
       "\n",
       "    .dataframe tbody tr th {\n",
       "        vertical-align: top;\n",
       "    }\n",
       "\n",
       "    .dataframe thead th {\n",
       "        text-align: right;\n",
       "    }\n",
       "</style>\n",
       "<table border=\"1\" class=\"dataframe\">\n",
       "  <thead>\n",
       "    <tr style=\"text-align: right;\">\n",
       "      <th></th>\n",
       "      <th>Sample</th>\n",
       "      <th>Group</th>\n",
       "      <th>Rep</th>\n",
       "      <th>Count</th>\n",
       "      <th>Fpath</th>\n",
       "    </tr>\n",
       "  </thead>\n",
       "  <tbody>\n",
       "    <tr>\n",
       "      <th>0</th>\n",
       "      <td>Input_rep1</td>\n",
       "      <td>Input</td>\n",
       "      <td>rep1</td>\n",
       "      <td>348695063</td>\n",
       "      <td>KS91_K562_hg38_ASTARRseq_Input_rep1.masked.ded...</td>\n",
       "    </tr>\n",
       "    <tr>\n",
       "      <th>1</th>\n",
       "      <td>Input_rep2</td>\n",
       "      <td>Input</td>\n",
       "      <td>rep2</td>\n",
       "      <td>451369741</td>\n",
       "      <td>KS91_K562_hg38_ASTARRseq_Input_rep2.masked.ded...</td>\n",
       "    </tr>\n",
       "    <tr>\n",
       "      <th>2</th>\n",
       "      <td>Input_rep3</td>\n",
       "      <td>Input</td>\n",
       "      <td>rep3</td>\n",
       "      <td>487579055</td>\n",
       "      <td>KS91_K562_hg38_ASTARRseq_Input_rep3.masked.ded...</td>\n",
       "    </tr>\n",
       "    <tr>\n",
       "      <th>3</th>\n",
       "      <td>Input_rep4</td>\n",
       "      <td>Input</td>\n",
       "      <td>rep4</td>\n",
       "      <td>456246254</td>\n",
       "      <td>KS91_K562_hg38_ASTARRseq_Input_rep4.masked.ded...</td>\n",
       "    </tr>\n",
       "    <tr>\n",
       "      <th>4</th>\n",
       "      <td>Input_rep5</td>\n",
       "      <td>Input</td>\n",
       "      <td>rep5</td>\n",
       "      <td>444268950</td>\n",
       "      <td>KS91_K562_hg38_ASTARRseq_Input_rep5.masked.ded...</td>\n",
       "    </tr>\n",
       "    <tr>\n",
       "      <th>5</th>\n",
       "      <td>Input_rep6</td>\n",
       "      <td>Input</td>\n",
       "      <td>rep6</td>\n",
       "      <td>397333562</td>\n",
       "      <td>KS91_K562_hg38_ASTARRseq_Input_rep6.masked.ded...</td>\n",
       "    </tr>\n",
       "    <tr>\n",
       "      <th>6</th>\n",
       "      <td>Output_rep1</td>\n",
       "      <td>Output</td>\n",
       "      <td>rep1</td>\n",
       "      <td>44103844</td>\n",
       "      <td>KS91_K562_hg38_ASTARRseq_Output_rep1.f3q10.fra...</td>\n",
       "    </tr>\n",
       "    <tr>\n",
       "      <th>7</th>\n",
       "      <td>Output_rep2</td>\n",
       "      <td>Output</td>\n",
       "      <td>rep2</td>\n",
       "      <td>97471282</td>\n",
       "      <td>KS91_K562_hg38_ASTARRseq_Output_rep2.f3q10.fra...</td>\n",
       "    </tr>\n",
       "    <tr>\n",
       "      <th>8</th>\n",
       "      <td>Output_rep3</td>\n",
       "      <td>Output</td>\n",
       "      <td>rep3</td>\n",
       "      <td>84103298</td>\n",
       "      <td>KS91_K562_hg38_ASTARRseq_Output_rep3.f3q10.fra...</td>\n",
       "    </tr>\n",
       "    <tr>\n",
       "      <th>9</th>\n",
       "      <td>Output_rep4</td>\n",
       "      <td>Output</td>\n",
       "      <td>rep4</td>\n",
       "      <td>183115379</td>\n",
       "      <td>KS91_K562_hg38_ASTARRseq_Output_rep4.f3q10.fra...</td>\n",
       "    </tr>\n",
       "  </tbody>\n",
       "</table>\n",
       "</div>"
      ],
      "text/plain": [
       "        Sample   Group   Rep      Count  \\\n",
       "0   Input_rep1   Input  rep1  348695063   \n",
       "1   Input_rep2   Input  rep2  451369741   \n",
       "2   Input_rep3   Input  rep3  487579055   \n",
       "3   Input_rep4   Input  rep4  456246254   \n",
       "4   Input_rep5   Input  rep5  444268950   \n",
       "5   Input_rep6   Input  rep6  397333562   \n",
       "6  Output_rep1  Output  rep1   44103844   \n",
       "7  Output_rep2  Output  rep2   97471282   \n",
       "8  Output_rep3  Output  rep3   84103298   \n",
       "9  Output_rep4  Output  rep4  183115379   \n",
       "\n",
       "                                               Fpath  \n",
       "0  KS91_K562_hg38_ASTARRseq_Input_rep1.masked.ded...  \n",
       "1  KS91_K562_hg38_ASTARRseq_Input_rep2.masked.ded...  \n",
       "2  KS91_K562_hg38_ASTARRseq_Input_rep3.masked.ded...  \n",
       "3  KS91_K562_hg38_ASTARRseq_Input_rep4.masked.ded...  \n",
       "4  KS91_K562_hg38_ASTARRseq_Input_rep5.masked.ded...  \n",
       "5  KS91_K562_hg38_ASTARRseq_Input_rep6.masked.ded...  \n",
       "6  KS91_K562_hg38_ASTARRseq_Output_rep1.f3q10.fra...  \n",
       "7  KS91_K562_hg38_ASTARRseq_Output_rep2.f3q10.fra...  \n",
       "8  KS91_K562_hg38_ASTARRseq_Output_rep3.f3q10.fra...  \n",
       "9  KS91_K562_hg38_ASTARRseq_Output_rep4.f3q10.fra...  "
      ]
     },
     "execution_count": 4,
     "metadata": {},
     "output_type": "execute_result"
    }
   ],
   "source": [
    "fdiry = os.path.join(FD_RES, PREFIX, \"coverage\", \"library_size\")\n",
    "fname = \"library_size_summary.csv\"\n",
    "fpath = os.path.join(fdiry, fname)\n",
    "\n",
    "dat_sample = pd.read_table(fpath, sep=\",\")\n",
    "print(dat_sample.dtypes)\n",
    "dat_sample"
   ]
  },
  {
   "cell_type": "markdown",
   "id": "8916dd43",
   "metadata": {},
   "source": [
    "## Fragments (NUC)\n",
    "```\n",
    "query_reset_table = \"DROP TABLE IF EXISTS Fragment\"\n",
    "query_table = (\"\"\"\n",
    "    CREATE TABLE IF NOT EXISTS Fragment(\n",
    "        fragment TEXT PRIMARY KEY, \n",
    "        chrom    TEXT,\n",
    "        start    INTEGER,\n",
    "        end      INTEGER,\n",
    "        pct_at   REAL,\n",
    "        pct_gc   REAL,\n",
    "        num_A    INTEGER,\n",
    "        num_C    INTEGER,\n",
    "        num_G    INTEGER,\n",
    "        num_T    INTEGER,\n",
    "        num_N    INTEGER,\n",
    "        num_oth  INTEGER\n",
    "    );\"\"\")\n",
    "    \n",
    "query_insert = (\"\"\"\n",
    "    INSERT OR IGNORE INTO Fragment\n",
    "        (fragment, chrom, start, end, pct_at, pct_gc,\n",
    "         num_A, num_C, num_G, num_T, num_N, num_oth) \n",
    "    VALUES \n",
    "        (?,?,?,?,?,?,?,?,?,?,?,?)\n",
    "    \"\"\")\n",
    "```"
   ]
  },
  {
   "cell_type": "code",
   "execution_count": 5,
   "id": "d20df7e9",
   "metadata": {},
   "outputs": [
    {
     "name": "stdout",
     "output_type": "stream",
     "text": [
      "/mount/work/out/proj_combeffect_encode_fcc/KS91_K562_ASTARRseq/fragment_nuc/KS91_K562_hg38_ASTARRseq_Input_rep1.GATA1.unstranded.bed.gz\n",
      "#1_usercol\t2_usercol\t3_usercol\t4_usercol\t5_usercol\t6_usercol\t7_pct_at\t8_pct_gc\t9_num_A\t10_num_C\t11_num_G\t12_num_T\t13_num_N\t14_num_oth\t15_seq_len\n",
      "chrX\t47787165\t47787363\tchrX_47787165_47787363\t1\t.\t0.560606\t0.439394\t33\t34\t53\t78\t0\t0\t198\n",
      "chrX\t47787557\t47787773\tchrX_47787557_47787773\t1\t.\t0.615741\t0.384259\t45\t35\t48\t88\t0\t0\t216\n",
      "chrX\t47787593\t47787783\tchrX_47787593_47787783\t1\t.\t0.636842\t0.363158\t42\t32\t37\t79\t0\t0\t190\n",
      "chrX\t47787598\t47787772\tchrX_47787598_47787772\t1\t.\t0.637931\t0.362069\t37\t28\t35\t74\t0\t0\t174\n",
      "chrX\t47787661\t47788058\tchrX_47787661_47788058\t1\t.\t0.594458\t0.405542\t76\t72\t89\t160\t0\t0\t397\n",
      "chrX\t47787743\t47787849\tchrX_47787743_47787849\t1\t.\t0.528302\t0.471698\t15\t24\t26\t41\t0\t0\t106\n",
      "chrX\t47787998\t47788231\tchrX_47787998_47788231\t1\t.\t0.536481\t0.463519\t35\t57\t51\t90\t0\t0\t233\n",
      "chrX\t47788008\t47788157\tchrX_47788008_47788157\t1\t.\t0.543624\t0.456376\t23\t34\t34\t58\t0\t0\t149\n",
      "chrX\t47788008\t47788181\tchrX_47788008_47788181\t1\t.\t0.543353\t0.456647\t26\t39\t40\t68\t0\t0\t173\n"
     ]
    }
   ],
   "source": [
    "%%bash\n",
    "source ../config/config_sing.sh\n",
    "PREFIX=\"KS91_K562_ASTARRseq\"\n",
    "REGION=\"GATA1\"\n",
    "SAMPLE=\"Input_rep1\"\n",
    "STRAND=\"unstranded\"\n",
    "FOLDER=\"fragment_nuc\"\n",
    "FPATH=$(ls ${FD_RES}/${PREFIX}/${FOLDER}/*${SAMPLE}*${REGION}*${STRAND}*)\n",
    "echo ${FPATH}\n",
    "zcat ${FPATH} | head"
   ]
  },
  {
   "cell_type": "code",
   "execution_count": 6,
   "id": "d3084388",
   "metadata": {},
   "outputs": [],
   "source": [
    "### helper function to process each row\n",
    "def prep_line(line):\n",
    "    \"\"\"Function to process each line\"\"\"\n",
    "    ### parse info: Chrom, Start, Stop, Name, Score, Strand\n",
    "    key = f\"{line[0]}_{line[1]}_{line[2]}\"\n",
    "    val = [key, *line[0:3], *line[6:14]]\n",
    "    return val"
   ]
  },
  {
   "cell_type": "code",
   "execution_count": 7,
   "id": "090899b6",
   "metadata": {},
   "outputs": [
    {
     "name": "stdout",
     "output_type": "stream",
     "text": [
      "['/mount/work/out/proj_combeffect_encode_fcc/KS91_K562_ASTARRseq/fragment_nuc/KS91_K562_hg38_ASTARRseq_Input_rep1.GATA1.unstranded.bed.gz']\n",
      "+++++++++++++++++++++++++++++++++++++++++++++++++++\n",
      "['#1_usercol', '2_usercol', '3_usercol', '4_usercol', '5_usercol', '6_usercol', '7_pct_at', '8_pct_gc', '9_num_A', '10_num_C', '11_num_G', '12_num_T', '13_num_N', '14_num_oth', '15_seq_len']\n",
      "['chrX', '47787165', '47787363', 'chrX_47787165_47787363', '1', '.', '0.560606', '0.439394', '33', '34', '53', '78', '0', '0', '198']\n",
      "['chrX', '47787557', '47787773', 'chrX_47787557_47787773', '1', '.', '0.615741', '0.384259', '45', '35', '48', '88', '0', '0', '216']\n",
      "['chrX', '47787593', '47787783', 'chrX_47787593_47787783', '1', '.', '0.636842', '0.363158', '42', '32', '37', '79', '0', '0', '190']\n",
      "['chrX', '47787598', '47787772', 'chrX_47787598_47787772', '1', '.', '0.637931', '0.362069', '37', '28', '35', '74', '0', '0', '174']\n",
      "+++++++++++++++++++++++++++++++++++++++++++++++++++\n",
      "['chrX_47787165_47787363', 'chrX', '47787165', '47787363', '0.560606', '0.439394', '33', '34', '53', '78', '0', '0']\n",
      "['chrX_47787557_47787773', 'chrX', '47787557', '47787773', '0.615741', '0.384259', '45', '35', '48', '88', '0', '0']\n",
      "['chrX_47787593_47787783', 'chrX', '47787593', '47787783', '0.636842', '0.363158', '42', '32', '37', '79', '0', '0']\n",
      "['chrX_47787598_47787772', 'chrX', '47787598', '47787772', '0.637931', '0.362069', '37', '28', '35', '74', '0', '0']\n",
      "['chrX_47787661_47788058', 'chrX', '47787661', '47788058', '0.594458', '0.405542', '76', '72', '89', '160', '0', '0']\n"
     ]
    }
   ],
   "source": [
    "FOLDER=\"fragment_nuc\"\n",
    "REGION=\"GATA1\"\n",
    "SAMPLE=\"Input_rep1\"\n",
    "STRAND=\"unstranded\"\n",
    "\n",
    "fglob  = os.path.join(FD_RES, PREFIX, FOLDER, f\"*{SAMPLE}*{REGION}*{STRAND}*\")\n",
    "fpaths = glob.glob(fglob)\n",
    "fpath  = fpaths[0]\n",
    "print(fpaths)\n",
    "print(\"+++++++++++++++++++++++++++++++++++++++++++++++++++\")\n",
    "with gzip.open(fpath, \"rt\") as file:\n",
    "    lines = gen_lines(file, n_lines=5)\n",
    "    for line in lines:\n",
    "        print(line)\n",
    "print(\"+++++++++++++++++++++++++++++++++++++++++++++++++++\")\n",
    "fun = prep_line\n",
    "with gzip.open(fpath, \"rt\") as file:\n",
    "    lines = gen_lines(file, n_lines=5, remove_header=True)\n",
    "    lines = map(fun, lines)\n",
    "    for line in lines:\n",
    "        print(line)"
   ]
  },
  {
   "cell_type": "markdown",
   "id": "ca672fb9",
   "metadata": {},
   "source": [
    "## Motif\n",
    "```\n",
    "query_reset_table = \"DROP TABLE IF EXISTS Motif\"\n",
    "query_table = \"\"\"\n",
    "    CREATE TABLE IF NOT EXISTS Motif(\n",
    "        binding TEXT PRIMARY KEY, \n",
    "        chrom   TEXT,\n",
    "        start   INTEGER,\n",
    "        end     INTEGER,\n",
    "        motif   TEXT,\n",
    "        score   REAL\n",
    "    );\"\"\"\n",
    "query_insert = \"\"\"\n",
    "    INSERT OR IGNORE INTO Motif \n",
    "        (binding,chrom,start,end,motif,score)\n",
    "    VALUES \n",
    "        (?,?,?,?,?,?)\n",
    "    \"\"\"\n",
    "```"
   ]
  },
  {
   "cell_type": "code",
   "execution_count": 11,
   "id": "40afde7f",
   "metadata": {},
   "outputs": [
    {
     "name": "stdout",
     "output_type": "stream",
     "text": [
      "/mount/work/annotation/motif_cluster_jvierstra/hg38_archetype_motifs_v1/chrX_rm_mouse_merge.bed.gz\n",
      "chrX\t10006\t10041\tKLF/SP/2\t3.257775\n",
      "chrX\t10018\t10038\tGC-tract\t6.314\n",
      "chrX\t10025\t10039\tNR/3\t7.0957\n",
      "chrX\t10035\t10046\tPRDM1\t8.1562\n",
      "chrX\t10046\t10061\tMAF\t7.1564\n",
      "chrX\t10047\t10057\tNFY\t7.6173\n",
      "chrX\t10053\t10086\tKLF/SP/2\t7.89956\n",
      "chrX\t10055\t10073\tTBX/3\t7.6294\n",
      "chrX\t10055\t10066\tETS/2\t10.5061\n",
      "chrX\t10056\t10078\tGC-tract\t7.8744\n"
     ]
    }
   ],
   "source": [
    "%%bash\n",
    "source ../config/config_sing.sh \n",
    "CHROM=\"chrX\"\n",
    "FDIRY=\"${FD_ANN}/motif_cluster_jvierstra/hg38_archetype_motifs_v1\"\n",
    "FNAME=\"${CHROM}_rm_mouse_merge.bed.gz\"\n",
    "FPATH=\"${FDIRY}/${FNAME}\"\n",
    "echo ${FPATH}\n",
    "zcat ${FPATH} | head"
   ]
  },
  {
   "cell_type": "code",
   "execution_count": 25,
   "id": "32f33f3d",
   "metadata": {},
   "outputs": [],
   "source": [
    "### helper function to process each row\n",
    "def prep_line(line):\n",
    "    \"\"\"Function to process each line\"\"\"\n",
    "    ### parse info: Chrom, Start, Stop, Motif, Score\n",
    "    key = f\"{line[0]}_{line[1]}_{line[2]}_{line[3]}\"\n",
    "    val = [key, *line]\n",
    "    return val"
   ]
  },
  {
   "cell_type": "code",
   "execution_count": 26,
   "id": "3aa5e086",
   "metadata": {},
   "outputs": [
    {
     "name": "stdout",
     "output_type": "stream",
     "text": [
      "/mount/work/annotation/motif_cluster_jvierstra/hg38_archetype_motifs_v1/chrX_rm_mouse_merge.bed.gz\n",
      "+++++++++++++++++++++++++++++++++++++++++++++++++++\n",
      "['chrX', '10006', '10041', 'KLF/SP/2', '3.257775']\n",
      "['chrX', '10018', '10038', 'GC-tract', '6.314']\n",
      "['chrX', '10025', '10039', 'NR/3', '7.0957']\n",
      "['chrX', '10035', '10046', 'PRDM1', '8.1562']\n",
      "['chrX', '10046', '10061', 'MAF', '7.1564']\n",
      "+++++++++++++++++++++++++++++++++++++++++++++++++++\n",
      "['chrX_10006_10041_KLF/SP/2', 'chrX', '10006', '10041', 'KLF/SP/2', '3.257775']\n",
      "['chrX_10018_10038_GC-tract', 'chrX', '10018', '10038', 'GC-tract', '6.314']\n",
      "['chrX_10025_10039_NR/3', 'chrX', '10025', '10039', 'NR/3', '7.0957']\n",
      "['chrX_10035_10046_PRDM1', 'chrX', '10035', '10046', 'PRDM1', '8.1562']\n",
      "['chrX_10046_10061_MAF', 'chrX', '10046', '10061', 'MAF', '7.1564']\n"
     ]
    }
   ],
   "source": [
    "CHROM=\"chrX\"\n",
    "fpath  = os.path.join(\n",
    "    FD_ANN, \n",
    "    \"motif_cluster_jvierstra\", \n",
    "    \"hg38_archetype_motifs_v1\", \n",
    "    f\"{CHROM}_rm_mouse_merge.bed.gz\")\n",
    "print(fpath)\n",
    "print(\"+++++++++++++++++++++++++++++++++++++++++++++++++++\")\n",
    "with gzip.open(fpath, \"rt\") as file:\n",
    "    lines = gen_lines(file, n_lines=5)\n",
    "    for line in lines:\n",
    "        print(line)\n",
    "print(\"+++++++++++++++++++++++++++++++++++++++++++++++++++\")\n",
    "fun = prep_line\n",
    "with gzip.open(fpath, \"rt\") as file:\n",
    "    lines = gen_lines(file, n_lines=5, remove_header=False)\n",
    "    lines = map(fun, lines)\n",
    "    for line in lines:\n",
    "        print(line)"
   ]
  },
  {
   "cell_type": "markdown",
   "id": "26f916c4",
   "metadata": {},
   "source": [
    "## Counts\n",
    "```\n",
    "query_reset_table = \"DROP TABLE IF EXISTS Count\"\n",
    "\n",
    "query_table = \"\"\"\n",
    "    CREATE TABLE IF NOT EXISTS Count (\n",
    "        fragment TEXT, \n",
    "        sample   TEXT,\n",
    "        count    INTEGER,\n",
    "        FOREIGN KEY (fragment) REFERENCES Fragment (fragment),\n",
    "        FOREIGN KEY (sample)   REFERENCES Sample   (sample)\n",
    "    );\"\"\"\n",
    "\n",
    "query_insert = (\"\"\"INSERT OR IGNORE INTO Count\n",
    "    (fragment, sample, count)\n",
    "    VALUES \n",
    "    (?,?,?)\"\"\")\n",
    "```"
   ]
  },
  {
   "cell_type": "code",
   "execution_count": 8,
   "id": "83b45608",
   "metadata": {},
   "outputs": [
    {
     "name": "stdout",
     "output_type": "stream",
     "text": [
      "/mount/work/out/proj_combeffect_encode_fcc/KS91_K562_ASTARRseq/fragment/KS91_K562_hg38_ASTARRseq_Input_rep1.GATA1.unstranded.bed\n",
      "chrX\t47787165\t47787363\tchrX_47787165_47787363\t1\t.\n",
      "chrX\t47787557\t47787773\tchrX_47787557_47787773\t1\t.\n",
      "chrX\t47787593\t47787783\tchrX_47787593_47787783\t1\t.\n",
      "chrX\t47787598\t47787772\tchrX_47787598_47787772\t1\t.\n",
      "chrX\t47787661\t47788058\tchrX_47787661_47788058\t1\t.\n",
      "chrX\t47787743\t47787849\tchrX_47787743_47787849\t1\t.\n",
      "chrX\t47787998\t47788231\tchrX_47787998_47788231\t1\t.\n",
      "chrX\t47788008\t47788157\tchrX_47788008_47788157\t1\t.\n",
      "chrX\t47788008\t47788181\tchrX_47788008_47788181\t1\t.\n",
      "chrX\t47788140\t47788547\tchrX_47788140_47788547\t1\t.\n"
     ]
    }
   ],
   "source": [
    "%%bash\n",
    "source ../config/config_sing.sh \n",
    "PREFIX=\"KS91_K562_ASTARRseq\"\n",
    "FOLDER=\"fragment\"\n",
    "REGION=\"GATA1\"\n",
    "SAMPLE=\"Input_rep1\"\n",
    "STRAND=\"unstranded\"\n",
    "FPATH=$(ls ${FD_RES}/${PREFIX}/${FOLDER}/*${SAMPLE}*${REGION}*${STRAND}*)\n",
    "echo ${FPATH}\n",
    "head ${FPATH}"
   ]
  },
  {
   "cell_type": "code",
   "execution_count": 27,
   "id": "7afb5c32",
   "metadata": {},
   "outputs": [],
   "source": [
    "### helper function to process each row\n",
    "def prep_line(line, sample):\n",
    "    \"\"\"Function to process each line\"\"\"\n",
    "    key = f\"{line[0]}_{line[1]}_{line[2]}\"\n",
    "    val = [key, sample, line[4]]\n",
    "    return val"
   ]
  },
  {
   "cell_type": "code",
   "execution_count": 28,
   "id": "4247955c",
   "metadata": {},
   "outputs": [
    {
     "name": "stdout",
     "output_type": "stream",
     "text": [
      "['/mount/work/out/proj_combeffect_encode_fcc/KS91_K562_ASTARRseq/fragment/KS91_K562_hg38_ASTARRseq_Input_rep1.GATA1.unstranded.bed']\n",
      "+++++++++++++++++++++++++++++++++++++++++++++++++++\n",
      "['chrX', '47787165', '47787363', 'chrX_47787165_47787363', '1', '.']\n",
      "['chrX', '47787557', '47787773', 'chrX_47787557_47787773', '1', '.']\n",
      "['chrX', '47787593', '47787783', 'chrX_47787593_47787783', '1', '.']\n",
      "['chrX', '47787598', '47787772', 'chrX_47787598_47787772', '1', '.']\n",
      "['chrX', '47787661', '47788058', 'chrX_47787661_47788058', '1', '.']\n",
      "+++++++++++++++++++++++++++++++++++++++++++++++++++\n",
      "['chrX_47787557_47787773', 'Input_rep1', '1']\n",
      "['chrX_47787593_47787783', 'Input_rep1', '1']\n",
      "['chrX_47787598_47787772', 'Input_rep1', '1']\n",
      "['chrX_47787661_47788058', 'Input_rep1', '1']\n",
      "['chrX_47787743_47787849', 'Input_rep1', '1']\n"
     ]
    }
   ],
   "source": [
    "FOLDER=\"fragment\"\n",
    "REGION=\"GATA1\"\n",
    "SAMPLE=\"Input_rep1\"\n",
    "STRAND=\"unstranded\"\n",
    "\n",
    "fglob  = os.path.join(FD_RES, PREFIX, FOLDER, f\"*{SAMPLE}*{REGION}*{STRAND}*\")\n",
    "fpaths = glob.glob(fglob)\n",
    "fpath  = fpaths[0]\n",
    "print(fpaths)\n",
    "print(\"+++++++++++++++++++++++++++++++++++++++++++++++++++\")\n",
    "with open(fpath, \"rt\") as file:\n",
    "    lines = gen_lines(file, n_lines=5)\n",
    "    for line in lines:\n",
    "        print(line)\n",
    "print(\"+++++++++++++++++++++++++++++++++++++++++++++++++++\")\n",
    "fun = partial(prep_line, sample=SAMPLE)\n",
    "with open(fpath, \"rt\") as file:\n",
    "    lines = gen_lines(file, n_lines=5, remove_header=True)\n",
    "    lines = map(fun, lines)\n",
    "    for line in lines:\n",
    "        print(line)"
   ]
  },
  {
   "cell_type": "markdown",
   "id": "be7bde91",
   "metadata": {},
   "source": [
    "## Annotation\n",
    "```\n",
    "query_reset_table = \"DROP TABLE IF EXISTS Annotation\"\n",
    "\n",
    "query_table = \"\"\"\n",
    "    CREATE TABLE IF NOT EXISTS Annotation (\n",
    "        fragment TEXT, \n",
    "        binding  TEXT,\n",
    "        FOREIGN KEY (fragment) REFERENCES Fragment (fragment),\n",
    "        FOREIGN KEY (binding)  REFERENCES Motif    (binding),\n",
    "        UNIQUE (fragment, binding) ON CONFLICT IGNORE\n",
    "    );\"\"\"\n",
    "\n",
    "query_insert = \"\"\"\n",
    "    INSERT OR IGNORE INTO Annotation\n",
    "        (fragment, binding)\n",
    "    VALUES \n",
    "        (?,?)\n",
    "    \"\"\"\n",
    "```"
   ]
  },
  {
   "cell_type": "code",
   "execution_count": 14,
   "id": "df07df06",
   "metadata": {},
   "outputs": [
    {
     "name": "stdout",
     "output_type": "stream",
     "text": [
      "/mount/work/out/proj_combeffect_encode_fcc/KS91_K562_ASTARRseq/annotation/KS91_K562_hg38_ASTARRseq_Input_rep1.GATA1.unstranded.bed.gz\n",
      "chrX\t47787165\t47787363\tchrX_47787165_47787363\t1\t.\tchrX\t47787180\t47787190\tFOX/8\t5.1151\t10\n",
      "chrX\t47787165\t47787363\tchrX_47787165_47787363\t1\t.\tchrX\t47787182\t47787192\tHINFP1/1\t8.8688\t10\n",
      "chrX\t47787165\t47787363\tchrX_47787165_47787363\t1\t.\tchrX\t47787194\t47787216\tZNF146\t1.8019\t22\n",
      "chrX\t47787165\t47787363\tchrX_47787165_47787363\t1\t.\tchrX\t47787196\t47787211\tNR/15\t8.0507\t15\n",
      "chrX\t47787165\t47787363\tchrX_47787165_47787363\t1\t.\tchrX\t47787229\t47787243\tNR/20\t8.1423\t14\n",
      "chrX\t47787165\t47787363\tchrX_47787165_47787363\t1\t.\tchrX\t47787257\t47787267\tFOX/4\t8.8403\t10\n",
      "chrX\t47787165\t47787363\tchrX_47787165_47787363\t1\t.\tchrX\t47787260\t47787276\tTBX/1\t11.3184\t16\n",
      "chrX\t47787165\t47787363\tchrX_47787165_47787363\t1\t.\tchrX\t47787261\t47787294\tTBX/4\t7.42815\t33\n",
      "chrX\t47787165\t47787363\tchrX_47787165_47787363\t1\t.\tchrX\t47787261\t47787274\tZIC\t6.6872\t13\n",
      "chrX\t47787165\t47787363\tchrX_47787165_47787363\t1\t.\tchrX\t47787272\t47787285\tPRDM4\t1.6998\t13\n"
     ]
    }
   ],
   "source": [
    "%%bash\n",
    "source ../config/config_sing.sh\n",
    "PREFIX=\"KS91_K562_ASTARRseq\"\n",
    "FOLDER=\"annotation\"\n",
    "REGION=\"GATA1\"\n",
    "SAMPLE=\"Input_rep1\"\n",
    "STRAND=\"unstranded\"\n",
    "\n",
    "FPATH=$(ls ${FD_RES}/${PREFIX}/${FOLDER}/*${SAMPLE}*${REGION}*${STRAND}*)\n",
    "echo ${FPATH}\n",
    "zcat ${FPATH} | head"
   ]
  },
  {
   "cell_type": "code",
   "execution_count": 29,
   "id": "1ebe2d8d",
   "metadata": {},
   "outputs": [],
   "source": [
    "### helper function to process each row\n",
    "def prep_line(line):\n",
    "    \"\"\"Function to process each line\"\"\"\n",
    "    ### parse info: Chrom, Start, Stop, Name, Score, Strand\n",
    "    fragment = f\"{line[0]}_{line[1]}_{line[2]}\"\n",
    "    binding  = f\"{line[6]}_{line[7]}_{line[8]}_{line[9]}\"\n",
    "    return fragment, binding"
   ]
  },
  {
   "cell_type": "code",
   "execution_count": 30,
   "id": "84e5bb80",
   "metadata": {},
   "outputs": [
    {
     "name": "stdout",
     "output_type": "stream",
     "text": [
      "['/mount/work/out/proj_combeffect_encode_fcc/KS91_K562_ASTARRseq/annotation/KS91_K562_hg38_ASTARRseq_Input_rep1.GATA1.unstranded.bed.gz']\n",
      "+++++++++++++++++++++++++++++++++++++++++++++++++++\n",
      "['chrX', '47787165', '47787363', 'chrX_47787165_47787363', '1', '.', 'chrX', '47787180', '47787190', 'FOX/8', '5.1151', '10']\n",
      "['chrX', '47787165', '47787363', 'chrX_47787165_47787363', '1', '.', 'chrX', '47787182', '47787192', 'HINFP1/1', '8.8688', '10']\n",
      "['chrX', '47787165', '47787363', 'chrX_47787165_47787363', '1', '.', 'chrX', '47787194', '47787216', 'ZNF146', '1.8019', '22']\n",
      "['chrX', '47787165', '47787363', 'chrX_47787165_47787363', '1', '.', 'chrX', '47787196', '47787211', 'NR/15', '8.0507', '15']\n",
      "['chrX', '47787165', '47787363', 'chrX_47787165_47787363', '1', '.', 'chrX', '47787229', '47787243', 'NR/20', '8.1423', '14']\n",
      "+++++++++++++++++++++++++++++++++++++++++++++++++++\n",
      "('chrX_47787165_47787363', 'chrX_47787182_47787192_HINFP1/1')\n",
      "('chrX_47787165_47787363', 'chrX_47787194_47787216_ZNF146')\n",
      "('chrX_47787165_47787363', 'chrX_47787196_47787211_NR/15')\n",
      "('chrX_47787165_47787363', 'chrX_47787229_47787243_NR/20')\n",
      "('chrX_47787165_47787363', 'chrX_47787257_47787267_FOX/4')\n"
     ]
    }
   ],
   "source": [
    "PREFIX=\"KS91_K562_ASTARRseq\"\n",
    "FOLDER=\"annotation\"\n",
    "REGION=\"GATA1\"\n",
    "SAMPLE=\"Input_rep1\"\n",
    "STRAND=\"unstranded\"\n",
    "\n",
    "fglob  = os.path.join(FD_RES, PREFIX, FOLDER, f\"*{SAMPLE}*{REGION}*{STRAND}*\")\n",
    "fpaths = glob.glob(fglob)\n",
    "fpath  = fpaths[0]\n",
    "print(fpaths)\n",
    "print(\"+++++++++++++++++++++++++++++++++++++++++++++++++++\")\n",
    "with gzip.open(fpath, \"rt\") as file:\n",
    "    lines = gen_lines(file, n_lines=5)\n",
    "    for line in lines:\n",
    "        print(line)\n",
    "print(\"+++++++++++++++++++++++++++++++++++++++++++++++++++\")\n",
    "fun = prep_line\n",
    "with gzip.open(fpath, \"rt\") as file:\n",
    "    lines = gen_lines(file, n_lines=5, remove_header=True)\n",
    "    lines = map(fun, lines)\n",
    "    for line in lines:\n",
    "        print(line)"
   ]
  },
  {
   "cell_type": "markdown",
   "id": "01d6f23e",
   "metadata": {},
   "source": [
    "## Coverage\n",
    "```\n",
    "query_reset_table = \"DROP TABLE IF EXISTS Coverage\"\n",
    "\n",
    "query_table = \"\"\"CREATE TABLE IF NOT EXISTS Coverage(\n",
    "    chrom    TEXT,\n",
    "    location INTEGER,\n",
    "    depth    INTEGER,\n",
    "    sample   TEXT,\n",
    "    FOREIGN KEY (sample) REFERENCES Sample (sample)\n",
    "    );\"\"\"\n",
    "\n",
    "query_insert = \"\"\"\n",
    "    INSERT OR IGNORE INTO Coverage\n",
    "        (chrom, location, depth, sample)\n",
    "    VALUES \n",
    "        (?,?,?,?)\n",
    "    \"\"\"\n",
    "```"
   ]
  },
  {
   "cell_type": "code",
   "execution_count": 17,
   "id": "d9d27900",
   "metadata": {},
   "outputs": [
    {
     "name": "stdout",
     "output_type": "stream",
     "text": [
      "/mount/work/out/proj_combeffect_encode_fcc/KS91_K562_ASTARRseq/coverage/KS91_K562_hg38_ASTARRseq_Input_rep1.GATA1.unstranded.perbase.tsv.gz /mount/work/out/proj_combeffect_encode_fcc/KS91_K562_ASTARRseq/coverage/KS91_K562_hg38_ASTARRseq_Input_rep1.GATA1.unstranded.total_count.tsv\n",
      "chrX\t47786500\t47786501\t.\n",
      "chrX\t47786501\t47786502\t.\n",
      "chrX\t47786502\t47786503\t.\n",
      "chrX\t47786503\t47786504\t.\n",
      "chrX\t47786504\t47786505\t.\n",
      "chrX\t47786505\t47786506\t.\n",
      "chrX\t47786506\t47786507\t.\n",
      "chrX\t47786507\t47786508\t.\n",
      "chrX\t47786508\t47786509\t.\n",
      "chrX\t47786509\t47786510\t.\n"
     ]
    }
   ],
   "source": [
    "%%bash\n",
    "source ../config/config_sing.sh\n",
    "PREFIX=\"KS91_K562_ASTARRseq\"\n",
    "FOLDER=\"coverage\"\n",
    "REGION=\"GATA1\"\n",
    "SAMPLE=\"Input_rep1\"\n",
    "STRAND=\"unstranded\"\n",
    "\n",
    "FPATH=$(ls ${FD_RES}/${PREFIX}/${FOLDER}/*${SAMPLE}*${REGION}*${STRAND}*)\n",
    "echo ${FPATH}\n",
    "zcat ${FPATH} | head"
   ]
  },
  {
   "cell_type": "code",
   "execution_count": 35,
   "id": "c37d1e65",
   "metadata": {},
   "outputs": [],
   "source": [
    "### helper function to process each row\n",
    "def prep_line(line, sample):\n",
    "    \"\"\"Function to process each line\"\"\"\n",
    "    return [line[0], line[1], line[3], sample]"
   ]
  },
  {
   "cell_type": "code",
   "execution_count": 36,
   "id": "fc24783a",
   "metadata": {},
   "outputs": [
    {
     "name": "stdout",
     "output_type": "stream",
     "text": [
      "['/mount/work/out/proj_combeffect_encode_fcc/KS91_K562_ASTARRseq/coverage/KS91_K562_hg38_ASTARRseq_Input_rep1.GATA1.unstranded.perbase.tsv.gz']\n",
      "+++++++++++++++++++++++++++++++++++++++++++++++++++\n",
      "['chrX', '47786500', '47786501', '.']\n",
      "['chrX', '47786501', '47786502', '.']\n",
      "['chrX', '47786502', '47786503', '.']\n",
      "['chrX', '47786503', '47786504', '.']\n",
      "['chrX', '47786504', '47786505', '.']\n",
      "+++++++++++++++++++++++++++++++++++++++++++++++++++\n",
      "['chrX', '47786501', '.', 'Input_rep1']\n",
      "['chrX', '47786502', '.', 'Input_rep1']\n",
      "['chrX', '47786503', '.', 'Input_rep1']\n",
      "['chrX', '47786504', '.', 'Input_rep1']\n",
      "['chrX', '47786505', '.', 'Input_rep1']\n"
     ]
    }
   ],
   "source": [
    "FOLDER=\"coverage\"\n",
    "REGION=\"GATA1\"\n",
    "SAMPLE=\"Input_rep1\"\n",
    "STRAND=\"unstranded\"\n",
    "\n",
    "fglob  = os.path.join(FD_RES, PREFIX, FOLDER, f\"*{SAMPLE}*{REGION}*{STRAND}*perbase*\")\n",
    "fpaths = glob.glob(fglob)\n",
    "fpath  = fpaths[0]\n",
    "print(fpaths)\n",
    "print(\"+++++++++++++++++++++++++++++++++++++++++++++++++++\")\n",
    "with gzip.open(fpath, \"rt\") as file:\n",
    "    lines = gen_lines(file, n_lines=5)\n",
    "    for line in lines:\n",
    "        print(line)\n",
    "print(\"+++++++++++++++++++++++++++++++++++++++++++++++++++\")\n",
    "fun = partial(prep_line, sample=SAMPLE)\n",
    "with gzip.open(fpath, \"rt\") as file:\n",
    "    lines = gen_lines(file, n_lines=5, remove_header=True)\n",
    "    lines = map(fun, lines)\n",
    "    for line in lines:\n",
    "        print(line)"
   ]
  },
  {
   "cell_type": "code",
   "execution_count": 60,
   "id": "87067433",
   "metadata": {},
   "outputs": [
    {
     "name": "stdout",
     "output_type": "stream",
     "text": [
      "<re.Match object; span=(109, 120), match='Output_rep2'>\n"
     ]
    },
    {
     "data": {
      "text/plain": [
       "'Output_rep2'"
      ]
     },
     "execution_count": 60,
     "metadata": {},
     "output_type": "execute_result"
    }
   ],
   "source": [
    "import re\n",
    "string=\"/data/reddylab/Kuei/out/proj_combeffect_encode_fcc/KS91_K562_ASTARRseq/fragment_nuc/KS91_K562_hg38_ASTARRseq_Output_rep2.GATA1.unstranded.bed.gz\"\n",
    "pattern=\"(Input|Output)_rep.\"\n",
    "result = re.search(pattern, string)\n",
    "print(result)\n",
    "result.group()"
   ]
  },
  {
   "cell_type": "code",
   "execution_count": 65,
   "id": "09d49147",
   "metadata": {},
   "outputs": [
    {
     "data": {
      "text/plain": [
       "'Output_rep2'"
      ]
     },
     "execution_count": 65,
     "metadata": {},
     "output_type": "execute_result"
    }
   ],
   "source": [
    "def get_sample(string):\n",
    "    pattern = \"(Input|Output)_rep.\"\n",
    "    result  = re.search(pattern, string)\n",
    "    if result:\n",
    "        return result.group()\n",
    "    else:\n",
    "        return None\n",
    "\n",
    "string=\"/data/reddylab/Kuei/out/proj_combeffect_encode_fcc/KS91_K562_ASTARRseq/fragment_nuc/KS91_K562_hg38_ASTARRseq_Output_rep2.GATA1.unstranded.bed.gz\"\n",
    "get_sample(string)"
   ]
  },
  {
   "cell_type": "code",
   "execution_count": 66,
   "id": "66c60650",
   "metadata": {},
   "outputs": [],
   "source": [
    "\n",
    "string=\"/data/reddylab/Kuei/out/proj_combeffect_encode_fcc/KS91_K562_ASTARRseq/\"\n",
    "get_sample(string)"
   ]
  },
  {
   "cell_type": "code",
   "execution_count": 68,
   "id": "7e2b7473",
   "metadata": {},
   "outputs": [
    {
     "data": {
      "text/plain": [
       "[1, 2, 4, None]"
      ]
     },
     "execution_count": 68,
     "metadata": {},
     "output_type": "execute_result"
    }
   ],
   "source": [
    "def prep_line_coverage(line, sample=None):\n",
    "    \"\"\"Function to process each line\"\"\"\n",
    "    return [line[0], line[1], line[3], sample]\n",
    "prep_line_coverage([1,2,3,4,5])"
   ]
  },
  {
   "cell_type": "code",
   "execution_count": null,
   "id": "7e394a73",
   "metadata": {},
   "outputs": [],
   "source": []
  }
 ],
 "metadata": {
  "kernelspec": {
   "display_name": "Python 3",
   "language": "python",
   "name": "python3"
  },
  "language_info": {
   "codemirror_mode": {
    "name": "ipython",
    "version": 3
   },
   "file_extension": ".py",
   "mimetype": "text/x-python",
   "name": "python",
   "nbconvert_exporter": "python",
   "pygments_lexer": "ipython3",
   "version": "3.7.6"
  }
 },
 "nbformat": 4,
 "nbformat_minor": 5
}
