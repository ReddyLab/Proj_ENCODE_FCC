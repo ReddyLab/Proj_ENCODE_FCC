{
 "cells": [
  {
   "cell_type": "markdown",
   "id": "934f9ff5",
   "metadata": {},
   "source": [
    "**Set environment**"
   ]
  },
  {
   "cell_type": "code",
   "execution_count": 1,
   "id": "2f114ead",
   "metadata": {},
   "outputs": [
    {
     "name": "stdout",
     "output_type": "stream",
     "text": [
      "You are in: Singularity | singularity_proj_combeffect\n",
      "    BASE DIRECTORY:     /mount/work\n",
      "    PATH OF SOURCE:     /mount/work/source\n",
      "    PATH OF EXECUTABLE: /mount/work/exe\n",
      "    PATH OF ANNOTATION: /mount/work/annotation\n",
      "    PATH OF PROJECT:    /mount/project\n",
      "    PATH OF RESULTS:    /mount/work/out/proj_combeffect_encode_fcc\n",
      "\n",
      "Library imported:\n",
      "    numpy, pandas, itertools,\n",
      "    os, sys, time, gzip, glob,\n",
      "    functools.partial/reduce,\n",
      "    collections.Counter,\n",
      "    matplotlib.pyplot\n",
      "\n"
     ]
    }
   ],
   "source": [
    "### set environment\n",
    "import sys\n",
    "sys.path.append('../config')\n",
    "from config_sing import *\n",
    "show_env()\n",
    "\n",
    "### import more tools\n",
    "import csv\n",
    "import sqlite3\n",
    "# https://stackoverflow.com/questions/49456158/integer-in-python-pandas-becomes-blob-binary-in-sqlite\n",
    "sqlite3.register_adapter(np.int64, lambda val: int(val))\n",
    "sqlite3.register_adapter(np.int32, lambda val: int(val))"
   ]
  },
  {
   "cell_type": "code",
   "execution_count": 2,
   "id": "355f370b",
   "metadata": {},
   "outputs": [],
   "source": [
    "#PREFIX = \"KS91_K562_ASTARRseq\"\n",
    "#PREFIX = \"A001_K562_WSTARRseq\"\n",
    "PREFIX  = \"Tewhey_K562_TileMPRA\""
   ]
  },
  {
   "cell_type": "code",
   "execution_count": 3,
   "id": "43cf7136",
   "metadata": {},
   "outputs": [],
   "source": [
    "def gen_lines(file, n_lines=10, remove_header=False):\n",
    "    \"\"\"generate lines lines from the file\"\"\"\n",
    "    ### read lines using csv reader\n",
    "    lines = csv.reader(file, delimiter='\\t', quotechar='|')\n",
    "    \n",
    "    ### remove file header if needed\n",
    "    if remove_header:\n",
    "        next(lines)\n",
    "    \n",
    "    ### specify number of lines to generate\n",
    "    lines = it.islice(lines, 0, n_lines)\n",
    "    for line in lines:\n",
    "        yield line"
   ]
  },
  {
   "cell_type": "markdown",
   "id": "e491321a",
   "metadata": {},
   "source": [
    "## Sample\n",
    "```\n",
    "query_table = (\"\"\"CREATE TABLE IF NOT EXISTS Sample(\n",
    "    sample    TEXT PRIMARY KEY, \n",
    "    treatment TEXT,\n",
    "    replicate TEXT,\n",
    "    size      INTEGER\n",
    ");\"\"\")\n",
    "\n",
    "query_insert = (\"\"\"\n",
    "    INSERT OR IGNORE INTO Sample\n",
    "        (sample, treatment, replicate, size) \n",
    "    VALUES \n",
    "        (?,?,?,?)\n",
    "    \"\"\")\n",
    "```"
   ]
  },
  {
   "cell_type": "code",
   "execution_count": 6,
   "id": "4203dfb3",
   "metadata": {},
   "outputs": [
    {
     "name": "stdout",
     "output_type": "stream",
     "text": [
      "Region     object\n",
      "Strand     object\n",
      "Group      object\n",
      "Size      float64\n",
      "dtype: object\n"
     ]
    },
    {
     "data": {
      "text/html": [
       "<div>\n",
       "<style scoped>\n",
       "    .dataframe tbody tr th:only-of-type {\n",
       "        vertical-align: middle;\n",
       "    }\n",
       "\n",
       "    .dataframe tbody tr th {\n",
       "        vertical-align: top;\n",
       "    }\n",
       "\n",
       "    .dataframe thead th {\n",
       "        text-align: right;\n",
       "    }\n",
       "</style>\n",
       "<table border=\"1\" class=\"dataframe\">\n",
       "  <thead>\n",
       "    <tr style=\"text-align: right;\">\n",
       "      <th></th>\n",
       "      <th>Region</th>\n",
       "      <th>Strand</th>\n",
       "      <th>Group</th>\n",
       "      <th>Size</th>\n",
       "    </tr>\n",
       "  </thead>\n",
       "  <tbody>\n",
       "    <tr>\n",
       "      <th>0</th>\n",
       "      <td>GATA1</td>\n",
       "      <td>stranded_pos</td>\n",
       "      <td>Input</td>\n",
       "      <td>2.677781e+07</td>\n",
       "    </tr>\n",
       "    <tr>\n",
       "      <th>1</th>\n",
       "      <td>GATA1</td>\n",
       "      <td>stranded_pos</td>\n",
       "      <td>Output</td>\n",
       "      <td>9.143783e+07</td>\n",
       "    </tr>\n",
       "    <tr>\n",
       "      <th>2</th>\n",
       "      <td>MYC</td>\n",
       "      <td>stranded_pos</td>\n",
       "      <td>Input</td>\n",
       "      <td>2.252603e+07</td>\n",
       "    </tr>\n",
       "    <tr>\n",
       "      <th>3</th>\n",
       "      <td>MYC</td>\n",
       "      <td>stranded_pos</td>\n",
       "      <td>Output</td>\n",
       "      <td>4.238406e+07</td>\n",
       "    </tr>\n",
       "    <tr>\n",
       "      <th>4</th>\n",
       "      <td>FADS</td>\n",
       "      <td>stranded_pos</td>\n",
       "      <td>Input</td>\n",
       "      <td>6.408832e+06</td>\n",
       "    </tr>\n",
       "    <tr>\n",
       "      <th>5</th>\n",
       "      <td>FADS</td>\n",
       "      <td>stranded_pos</td>\n",
       "      <td>Output</td>\n",
       "      <td>2.158487e+07</td>\n",
       "    </tr>\n",
       "    <tr>\n",
       "      <th>6</th>\n",
       "      <td>FADS</td>\n",
       "      <td>stranded_neg</td>\n",
       "      <td>Input</td>\n",
       "      <td>6.318496e+06</td>\n",
       "    </tr>\n",
       "    <tr>\n",
       "      <th>7</th>\n",
       "      <td>FADS</td>\n",
       "      <td>stranded_neg</td>\n",
       "      <td>Output</td>\n",
       "      <td>2.016576e+07</td>\n",
       "    </tr>\n",
       "  </tbody>\n",
       "</table>\n",
       "</div>"
      ],
      "text/plain": [
       "  Region        Strand   Group          Size\n",
       "0  GATA1  stranded_pos   Input  2.677781e+07\n",
       "1  GATA1  stranded_pos  Output  9.143783e+07\n",
       "2    MYC  stranded_pos   Input  2.252603e+07\n",
       "3    MYC  stranded_pos  Output  4.238406e+07\n",
       "4   FADS  stranded_pos   Input  6.408832e+06\n",
       "5   FADS  stranded_pos  Output  2.158487e+07\n",
       "6   FADS  stranded_neg   Input  6.318496e+06\n",
       "7   FADS  stranded_neg  Output  2.016576e+07"
      ]
     },
     "execution_count": 6,
     "metadata": {},
     "output_type": "execute_result"
    }
   ],
   "source": [
    "fdiry = os.path.join(FD_RES, PREFIX, \"coverage\", \"library_size\")\n",
    "fname = \"region_total_counts.tsv\"\n",
    "fpath = os.path.join(fdiry, fname)\n",
    "\n",
    "dat_sample = pd.read_table(fpath, sep=\"\\t\")\n",
    "print(dat_sample.dtypes)\n",
    "dat_sample"
   ]
  },
  {
   "cell_type": "markdown",
   "id": "70fa216a",
   "metadata": {},
   "source": [
    "## Fragments (NUC)\n",
    "```\n",
    "query_reset_table = \"DROP TABLE IF EXISTS Fragment\"\n",
    "query_table = (\"\"\"\n",
    "    CREATE TABLE IF NOT EXISTS Fragment(\n",
    "        fragment TEXT PRIMARY KEY, \n",
    "        chrom    TEXT,\n",
    "        start    INTEGER,\n",
    "        end      INTEGER,\n",
    "        pct_at   REAL,\n",
    "        pct_gc   REAL,\n",
    "        num_A    INTEGER,\n",
    "        num_C    INTEGER,\n",
    "        num_G    INTEGER,\n",
    "        num_T    INTEGER,\n",
    "        num_N    INTEGER,\n",
    "        num_oth  INTEGER\n",
    "    );\"\"\")\n",
    "    \n",
    "query_insert = (\"\"\"\n",
    "    INSERT OR IGNORE INTO Fragment\n",
    "        (fragment, chrom, start, end, pct_at, pct_gc,\n",
    "         num_A, num_C, num_G, num_T, num_N, num_oth) \n",
    "    VALUES \n",
    "        (?,?,?,?,?,?,?,?,?,?,?,?)\n",
    "    \"\"\")\n",
    "```"
   ]
  },
  {
   "cell_type": "code",
   "execution_count": 8,
   "id": "d2794f4f",
   "metadata": {},
   "outputs": [
    {
     "name": "stdout",
     "output_type": "stream",
     "text": [
      "/mount/work/out/proj_combeffect_encode_fcc/Tewhey_K562_TileMPRA/fragment_nuc/Tile_K562_hg38_20210130.GATA1.stranded_pos.bed.gz\n",
      "#1_usercol\t2_usercol\t3_usercol\t4_usercol\t5_usercol\t6_usercol\t7_pct_at\t8_pct_gc\t9_num_A\t10_num_C\t11_num_G\t12_num_T\t13_num_N\t14_num_oth\t15_seq_len\n",
      "chrX\t47786401\t47786600\tX:47786401-47786600\t.\t+\t0.668342\t0.331658\t33\t27\t39\t100\t0\t0\t199\n",
      "chrX\t47786451\t47786650\tX:47786451-47786650\t.\t+\t0.658291\t0.341709\t36\t30\t38\t95\t0\t0\t199\n",
      "chrX\t47786501\t47786700\tX:47786501-47786700\t.\t+\t0.673367\t0.326633\t34\t35\t30\t100\t0\t0\t199\n",
      "chrX\t47786551\t47786750\tX:47786551-47786750\t.\t+\t0.663317\t0.336683\t29\t38\t29\t103\t0\t0\t199\n",
      "chrX\t47786601\t47786800\tX:47786601-47786800\t.\t+\t0.653266\t0.346734\t30\t35\t34\t100\t0\t0\t199\n",
      "chrX\t47786651\t47786850\tX:47786651-47786850\t.\t+\t0.633166\t0.366834\t27\t38\t35\t99\t0\t0\t199\n",
      "chrX\t47786701\t47786900\tX:47786701-47786900\t.\t+\t0.613065\t0.386935\t32\t36\t41\t90\t0\t0\t199\n",
      "chrX\t47786751\t47786950\tX:47786751-47786950\t.\t+\t0.603015\t0.396985\t38\t39\t40\t82\t0\t0\t199\n",
      "chrX\t47786801\t47787000\tX:47786801-47787000\t.\t+\t0.597990\t0.402010\t39\t38\t42\t80\t0\t0\t199\n"
     ]
    }
   ],
   "source": [
    "%%bash\n",
    "source ../config/config_sing.sh\n",
    "PREFIX=\"Tewhey_K562_TileMPRA\"\n",
    "REGION=\"GATA1\"\n",
    "#SAMPLE=\"Input_rep1\"\n",
    "STRAND=\"stranded_pos\"\n",
    "FOLDER=\"fragment_nuc\"\n",
    "FPATH=$(ls ${FD_RES}/${PREFIX}/${FOLDER}/*${REGION}*${STRAND}*)\n",
    "echo ${FPATH}\n",
    "zcat ${FPATH} | head"
   ]
  },
  {
   "cell_type": "code",
   "execution_count": 9,
   "id": "aea84788",
   "metadata": {},
   "outputs": [],
   "source": [
    "### helper function to process each row\n",
    "def prep_line(line):\n",
    "    \"\"\"Function to process each line\"\"\"\n",
    "    ### parse info: Chrom, Start, Stop, Name, Score, Strand\n",
    "    key = f\"{line[0]}_{line[1]}_{line[2]}\"\n",
    "    val = [key, *line[0:3], *line[6:14]]\n",
    "    return val"
   ]
  },
  {
   "cell_type": "code",
   "execution_count": 10,
   "id": "9b632add",
   "metadata": {},
   "outputs": [
    {
     "name": "stdout",
     "output_type": "stream",
     "text": [
      "['/mount/work/out/proj_combeffect_encode_fcc/Tewhey_K562_TileMPRA/fragment_nuc/Tile_K562_hg38_20210130.GATA1.stranded_pos.bed.gz']\n",
      "+++++++++++++++++++++++++++++++++++++++++++++++++++\n",
      "['#1_usercol', '2_usercol', '3_usercol', '4_usercol', '5_usercol', '6_usercol', '7_pct_at', '8_pct_gc', '9_num_A', '10_num_C', '11_num_G', '12_num_T', '13_num_N', '14_num_oth', '15_seq_len']\n",
      "['chrX', '47786401', '47786600', 'X:47786401-47786600', '.', '+', '0.668342', '0.331658', '33', '27', '39', '100', '0', '0', '199']\n",
      "['chrX', '47786451', '47786650', 'X:47786451-47786650', '.', '+', '0.658291', '0.341709', '36', '30', '38', '95', '0', '0', '199']\n",
      "['chrX', '47786501', '47786700', 'X:47786501-47786700', '.', '+', '0.673367', '0.326633', '34', '35', '30', '100', '0', '0', '199']\n",
      "['chrX', '47786551', '47786750', 'X:47786551-47786750', '.', '+', '0.663317', '0.336683', '29', '38', '29', '103', '0', '0', '199']\n",
      "+++++++++++++++++++++++++++++++++++++++++++++++++++\n",
      "['chrX_47786401_47786600', 'chrX', '47786401', '47786600', '0.668342', '0.331658', '33', '27', '39', '100', '0', '0']\n",
      "['chrX_47786451_47786650', 'chrX', '47786451', '47786650', '0.658291', '0.341709', '36', '30', '38', '95', '0', '0']\n",
      "['chrX_47786501_47786700', 'chrX', '47786501', '47786700', '0.673367', '0.326633', '34', '35', '30', '100', '0', '0']\n",
      "['chrX_47786551_47786750', 'chrX', '47786551', '47786750', '0.663317', '0.336683', '29', '38', '29', '103', '0', '0']\n",
      "['chrX_47786601_47786800', 'chrX', '47786601', '47786800', '0.653266', '0.346734', '30', '35', '34', '100', '0', '0']\n"
     ]
    }
   ],
   "source": [
    "FOLDER=\"fragment_nuc\"\n",
    "REGION=\"GATA1\"\n",
    "#SAMPLE=\"Input_rep1\"\n",
    "STRAND=\"stranded_pos\"\n",
    "\n",
    "fglob  = os.path.join(FD_RES, PREFIX, FOLDER, f\"*{REGION}*{STRAND}*\")\n",
    "fpaths = glob.glob(fglob)\n",
    "fpath  = fpaths[0]\n",
    "print(fpaths)\n",
    "print(\"+++++++++++++++++++++++++++++++++++++++++++++++++++\")\n",
    "with gzip.open(fpath, \"rt\") as file:\n",
    "    lines = gen_lines(file, n_lines=5)\n",
    "    for line in lines:\n",
    "        print(line)\n",
    "print(\"+++++++++++++++++++++++++++++++++++++++++++++++++++\")\n",
    "fun = prep_line\n",
    "with gzip.open(fpath, \"rt\") as file:\n",
    "    lines = gen_lines(file, n_lines=5, remove_header=True)\n",
    "    lines = map(fun, lines)\n",
    "    for line in lines:\n",
    "        print(line)"
   ]
  },
  {
   "cell_type": "markdown",
   "id": "fad1ed46",
   "metadata": {},
   "source": [
    "## Counts"
   ]
  },
  {
   "cell_type": "code",
   "execution_count": 11,
   "id": "b04ba129",
   "metadata": {},
   "outputs": [
    {
     "name": "stdout",
     "output_type": "stream",
     "text": [
      "/mount/work/out/proj_combeffect_encode_fcc/Tewhey_K562_TileMPRA/fragment/Tile_K562_hg38_20210130.GATA1.stranded_pos.bed\n",
      "chrX\t47786401\t47786600\tX:47786401-47786600\t.\t+\n",
      "chrX\t47786451\t47786650\tX:47786451-47786650\t.\t+\n",
      "chrX\t47786501\t47786700\tX:47786501-47786700\t.\t+\n",
      "chrX\t47786551\t47786750\tX:47786551-47786750\t.\t+\n",
      "chrX\t47786601\t47786800\tX:47786601-47786800\t.\t+\n",
      "chrX\t47786651\t47786850\tX:47786651-47786850\t.\t+\n",
      "chrX\t47786701\t47786900\tX:47786701-47786900\t.\t+\n",
      "chrX\t47786751\t47786950\tX:47786751-47786950\t.\t+\n",
      "chrX\t47786801\t47787000\tX:47786801-47787000\t.\t+\n",
      "chrX\t47786851\t47787050\tX:47786851-47787050\t.\t+\n"
     ]
    }
   ],
   "source": [
    "%%bash\n",
    "source ../config/config_sing.sh \n",
    "PREFIX=\"Tewhey_K562_TileMPRA\"\n",
    "FOLDER=\"fragment\"\n",
    "REGION=\"GATA1\"\n",
    "#SAMPLE=\"Input_rep1\"\n",
    "STRAND=\"stranded_pos\"\n",
    "FPATH=$(ls ${FD_RES}/${PREFIX}/${FOLDER}/*${REGION}*${STRAND}*)\n",
    "echo ${FPATH}\n",
    "head ${FPATH}"
   ]
  },
  {
   "cell_type": "code",
   "execution_count": 9,
   "id": "01ffac6c",
   "metadata": {},
   "outputs": [],
   "source": [
    "### helper function to process each row\n",
    "def prep_line(line):\n",
    "    \"\"\"Function to process each line\"\"\"\n",
    "    key = f\"{line[0]}_{line[1]}_{line[2]}\"\n",
    "    val = [key, *line[0:3], line[4]]\n",
    "    return val"
   ]
  },
  {
   "cell_type": "code",
   "execution_count": 12,
   "id": "6d77cb90",
   "metadata": {},
   "outputs": [
    {
     "name": "stdout",
     "output_type": "stream",
     "text": [
      "['/mount/work/out/proj_combeffect_encode_fcc/Tewhey_K562_TileMPRA/fragment/Tile_K562_hg38_20210130.GATA1.stranded_pos.bed']\n",
      "+++++++++++++++++++++++++++++++++++++++++++++++++++\n",
      "['chrX', '47786401', '47786600', 'X:47786401-47786600', '.', '+']\n",
      "['chrX', '47786451', '47786650', 'X:47786451-47786650', '.', '+']\n",
      "['chrX', '47786501', '47786700', 'X:47786501-47786700', '.', '+']\n",
      "['chrX', '47786551', '47786750', 'X:47786551-47786750', '.', '+']\n",
      "['chrX', '47786601', '47786800', 'X:47786601-47786800', '.', '+']\n",
      "+++++++++++++++++++++++++++++++++++++++++++++++++++\n",
      "['chrX_47786451_47786650', 'chrX', '47786451', '47786650']\n",
      "['chrX_47786501_47786700', 'chrX', '47786501', '47786700']\n",
      "['chrX_47786551_47786750', 'chrX', '47786551', '47786750']\n",
      "['chrX_47786601_47786800', 'chrX', '47786601', '47786800']\n",
      "['chrX_47786651_47786850', 'chrX', '47786651', '47786850']\n"
     ]
    }
   ],
   "source": [
    "FOLDER=\"fragment\"\n",
    "REGION=\"GATA1\"\n",
    "#SAMPLE=\"Input_rep1\"\n",
    "STRAND=\"stranded_pos\"\n",
    "\n",
    "fglob  = os.path.join(FD_RES, PREFIX, FOLDER, f\"*{REGION}*{STRAND}*\")\n",
    "fpaths = glob.glob(fglob)\n",
    "fpath  = fpaths[0]\n",
    "print(fpaths)\n",
    "print(\"+++++++++++++++++++++++++++++++++++++++++++++++++++\")\n",
    "with open(fpath, \"rt\") as file:\n",
    "    lines = gen_lines(file, n_lines=5)\n",
    "    for line in lines:\n",
    "        print(line)\n",
    "print(\"+++++++++++++++++++++++++++++++++++++++++++++++++++\")\n",
    "fun = prep_line\n",
    "with open(fpath, \"rt\") as file:\n",
    "    lines = gen_lines(file, n_lines=5, remove_header=True)\n",
    "    lines = map(fun, lines)\n",
    "    for line in lines:\n",
    "        print(line)"
   ]
  },
  {
   "cell_type": "markdown",
   "id": "a3947334",
   "metadata": {},
   "source": [
    "## Motif\n",
    "```\n",
    "query_reset_table = \"DROP TABLE IF EXISTS Motif\"\n",
    "query_table = \"\"\"\n",
    "    CREATE TABLE IF NOT EXISTS Motif(\n",
    "        binding TEXT PRIMARY KEY, \n",
    "        chrom   TEXT,\n",
    "        start   INTEGER,\n",
    "        end     INTEGER,\n",
    "        motif   TEXT,\n",
    "        score   REAL\n",
    "    );\"\"\"\n",
    "query_insert = \"\"\"\n",
    "    INSERT OR IGNORE INTO Motif \n",
    "        (binding,chrom,start,end,motif,score)\n",
    "    VALUES \n",
    "        (?,?,?,?,?,?)\n",
    "    \"\"\"\n",
    "```"
   ]
  },
  {
   "cell_type": "code",
   "execution_count": 13,
   "id": "55c068da",
   "metadata": {},
   "outputs": [
    {
     "name": "stdout",
     "output_type": "stream",
     "text": [
      "/mount/work/annotation/motif_cluster_jvierstra/hg38_archetype_motifs_v1/chrX_rm_mouse_merge.bed.gz\n",
      "chrX\t10006\t10041\tKLF/SP/2\t3.257775\n",
      "chrX\t10018\t10038\tGC-tract\t6.314\n",
      "chrX\t10025\t10039\tNR/3\t7.0957\n",
      "chrX\t10035\t10046\tPRDM1\t8.1562\n",
      "chrX\t10046\t10061\tMAF\t7.1564\n",
      "chrX\t10047\t10057\tNFY\t7.6173\n",
      "chrX\t10053\t10086\tKLF/SP/2\t7.89956\n",
      "chrX\t10055\t10073\tTBX/3\t7.6294\n",
      "chrX\t10055\t10066\tETS/2\t10.5061\n",
      "chrX\t10056\t10078\tGC-tract\t7.8744\n"
     ]
    }
   ],
   "source": [
    "%%bash\n",
    "source ../config/config_sing.sh \n",
    "CHROM=\"chrX\"\n",
    "FDIRY=\"${FD_ANN}/motif_cluster_jvierstra/hg38_archetype_motifs_v1\"\n",
    "FNAME=\"${CHROM}_rm_mouse_merge.bed.gz\"\n",
    "FPATH=\"${FDIRY}/${FNAME}\"\n",
    "echo ${FPATH}\n",
    "zcat ${FPATH} | head"
   ]
  },
  {
   "cell_type": "code",
   "execution_count": 14,
   "id": "419ee0a4",
   "metadata": {},
   "outputs": [],
   "source": [
    "### helper function to process each row\n",
    "def prep_line(line):\n",
    "    \"\"\"Function to process each line\"\"\"\n",
    "    ### parse info: Chrom, Start, Stop, Name, Score, Strand\n",
    "    key = f\"{line[0]}_{line[1]}_{line[2]}_{line[3]}\"\n",
    "    val = [key, *line]\n",
    "    return val"
   ]
  },
  {
   "cell_type": "code",
   "execution_count": 15,
   "id": "ef655fc4",
   "metadata": {},
   "outputs": [
    {
     "name": "stdout",
     "output_type": "stream",
     "text": [
      "/mount/work/annotation/motif_cluster_jvierstra/hg38_archetype_motifs_v1/chrX_rm_mouse_merge.bed.gz\n",
      "+++++++++++++++++++++++++++++++++++++++++++++++++++\n",
      "['chrX', '10006', '10041', 'KLF/SP/2', '3.257775']\n",
      "['chrX', '10018', '10038', 'GC-tract', '6.314']\n",
      "['chrX', '10025', '10039', 'NR/3', '7.0957']\n",
      "['chrX', '10035', '10046', 'PRDM1', '8.1562']\n",
      "['chrX', '10046', '10061', 'MAF', '7.1564']\n",
      "+++++++++++++++++++++++++++++++++++++++++++++++++++\n",
      "['chrX_10018_10038_GC-tract', 'chrX', '10018', '10038', 'GC-tract', '6.314']\n",
      "['chrX_10025_10039_NR/3', 'chrX', '10025', '10039', 'NR/3', '7.0957']\n",
      "['chrX_10035_10046_PRDM1', 'chrX', '10035', '10046', 'PRDM1', '8.1562']\n",
      "['chrX_10046_10061_MAF', 'chrX', '10046', '10061', 'MAF', '7.1564']\n",
      "['chrX_10047_10057_NFY', 'chrX', '10047', '10057', 'NFY', '7.6173']\n"
     ]
    }
   ],
   "source": [
    "CHROM=\"chrX\"\n",
    "fpath  = os.path.join(\n",
    "    FD_ANN, \n",
    "    \"motif_cluster_jvierstra\", \n",
    "    \"hg38_archetype_motifs_v1\", \n",
    "    f\"{CHROM}_rm_mouse_merge.bed.gz\")\n",
    "print(fpath)\n",
    "print(\"+++++++++++++++++++++++++++++++++++++++++++++++++++\")\n",
    "with gzip.open(fpath, \"rt\") as file:\n",
    "    lines = gen_lines(file, n_lines=5)\n",
    "    for line in lines:\n",
    "        print(line)\n",
    "print(\"+++++++++++++++++++++++++++++++++++++++++++++++++++\")\n",
    "fun = prep_line\n",
    "with gzip.open(fpath, \"rt\") as file:\n",
    "    lines = gen_lines(file, n_lines=5, remove_header=True)\n",
    "    lines = map(fun, lines)\n",
    "    for line in lines:\n",
    "        print(line)"
   ]
  },
  {
   "cell_type": "markdown",
   "id": "70bc7a08",
   "metadata": {},
   "source": [
    "## Annotation\n",
    "```\n",
    "query_reset_table = \"DROP TABLE IF EXISTS Annotation\"\n",
    "\n",
    "query_table = \"\"\"\n",
    "    CREATE TABLE IF NOT EXISTS Annotation (\n",
    "        fragment TEXT, \n",
    "        binding  TEXT,\n",
    "        FOREIGN KEY (fragment) REFERENCES Fragment (fragment),\n",
    "        FOREIGN KEY (binding)  REFERENCES Motif    (binding),\n",
    "        UNIQUE (fragment, binding) ON CONFLICT IGNORE\n",
    "    );\"\"\"\n",
    "\n",
    "query_insert = \"\"\"\n",
    "    INSERT OR IGNORE INTO Annotation\n",
    "        (fragment, binding)\n",
    "    VALUES \n",
    "        (?,?)\n",
    "    \"\"\"\n",
    "```"
   ]
  },
  {
   "cell_type": "code",
   "execution_count": 24,
   "id": "423e6547",
   "metadata": {},
   "outputs": [
    {
     "name": "stdout",
     "output_type": "stream",
     "text": [
      "/mount/work/out/proj_combeffect_encode_fcc/Tewhey_K562_TileMPRA/annotation/Tile_K562_hg38_20210130.GATA1.stranded_pos.bed.gz\n",
      "chrX\t47786401\t47786600\tX:47786401-47786600\t.\t+\tchrX\t47786401\t47786418\tKLF/SP/2\t6.7001\t17\n",
      "chrX\t47786401\t47786600\tX:47786401-47786600\t.\t+\tchrX\t47786424\t47786443\tZNF28\t8.2497\t19\n",
      "chrX\t47786401\t47786600\tX:47786401-47786600\t.\t+\tchrX\t47786449\t47786459\tFOX/4\t8.4743\t10\n",
      "chrX\t47786401\t47786600\tX:47786401-47786600\t.\t+\tchrX\t47786460\t47786481\tZNF382\t7.8726\t21\n",
      "chrX\t47786401\t47786600\tX:47786401-47786600\t.\t+\tchrX\t47786461\t47786483\tZNF136\t2.6078\t22\n",
      "chrX\t47786401\t47786600\tX:47786401-47786600\t.\t+\tchrX\t47786479\t47786501\tZNF41\t7.1286\t22\n",
      "chrX\t47786401\t47786600\tX:47786401-47786600\t.\t+\tchrX\t47786487\t47786499\tIRF/1\t5.3024\t12\n",
      "chrX\t47786401\t47786600\tX:47786401-47786600\t.\t+\tchrX\t47786499\t47786513\tRUNX/2\t8.9312\t14\n",
      "chrX\t47786401\t47786600\tX:47786401-47786600\t.\t+\tchrX\t47786499\t47786518\tZNF320\t5.6607\t19\n",
      "chrX\t47786401\t47786600\tX:47786401-47786600\t.\t+\tchrX\t47786500\t47786521\tZNF382\t16.7936\t21\n"
     ]
    }
   ],
   "source": [
    "%%bash\n",
    "source ../config/config_sing.sh\n",
    "PREFIX=\"Tewhey_K562_TileMPRA\"\n",
    "FOLDER=\"annotation\"\n",
    "REGION=\"GATA1\"\n",
    "#SAMPLE=\"Merged\"\n",
    "STRAND=\"stranded_pos\"\n",
    "\n",
    "FPATH=$(ls ${FD_RES}/${PREFIX}/${FOLDER}/*${REGION}*${STRAND}*)\n",
    "echo ${FPATH}\n",
    "zcat ${FPATH} | head"
   ]
  },
  {
   "cell_type": "code",
   "execution_count": 17,
   "id": "08a3e802",
   "metadata": {},
   "outputs": [],
   "source": [
    "### helper function to process each row\n",
    "def prep_line(line):\n",
    "    \"\"\"Function to process each line\"\"\"\n",
    "    ### parse info: Chrom, Start, Stop, Name, Score, Strand\n",
    "    fragment = f\"{line[0]}_{line[1]}_{line[2]}\"\n",
    "    motif    = f\"{line[6]}_{line[7]}_{line[8]}_{line[9]}\"\n",
    "    return fragment, motif"
   ]
  },
  {
   "cell_type": "code",
   "execution_count": 18,
   "id": "5ca3748b",
   "metadata": {},
   "outputs": [
    {
     "name": "stdout",
     "output_type": "stream",
     "text": [
      "['/mount/work/out/proj_combeffect_encode_fcc/Tewhey_K562_TileMPRA/annotation/Tile_K562_hg38_20210130.GATA1.stranded_pos.bed.gz']\n",
      "+++++++++++++++++++++++++++++++++++++++++++++++++++\n",
      "['chrX', '47786401', '47786600', 'X:47786401-47786600', '.', '+', 'chrX', '47786401', '47786418', 'KLF/SP/2', '6.7001', '17']\n",
      "['chrX', '47786401', '47786600', 'X:47786401-47786600', '.', '+', 'chrX', '47786424', '47786443', 'ZNF28', '8.2497', '19']\n",
      "['chrX', '47786401', '47786600', 'X:47786401-47786600', '.', '+', 'chrX', '47786449', '47786459', 'FOX/4', '8.4743', '10']\n",
      "['chrX', '47786401', '47786600', 'X:47786401-47786600', '.', '+', 'chrX', '47786460', '47786481', 'ZNF382', '7.8726', '21']\n",
      "['chrX', '47786401', '47786600', 'X:47786401-47786600', '.', '+', 'chrX', '47786461', '47786483', 'ZNF136', '2.6078', '22']\n",
      "+++++++++++++++++++++++++++++++++++++++++++++++++++\n",
      "('chrX_47786401_47786600', 'chrX_47786424_47786443_ZNF28')\n",
      "('chrX_47786401_47786600', 'chrX_47786449_47786459_FOX/4')\n",
      "('chrX_47786401_47786600', 'chrX_47786460_47786481_ZNF382')\n",
      "('chrX_47786401_47786600', 'chrX_47786461_47786483_ZNF136')\n",
      "('chrX_47786401_47786600', 'chrX_47786479_47786501_ZNF41')\n"
     ]
    }
   ],
   "source": [
    "FOLDER=\"annotation\"\n",
    "REGION=\"GATA1\"\n",
    "#SAMPLE=\"Input_rep1\"\n",
    "STRAND=\"stranded_pos\"\n",
    "\n",
    "fglob  = os.path.join(FD_RES, PREFIX, FOLDER, f\"*{REGION}*{STRAND}*\")\n",
    "fpaths = glob.glob(fglob)\n",
    "fpath  = fpaths[0]\n",
    "print(fpaths)\n",
    "print(\"+++++++++++++++++++++++++++++++++++++++++++++++++++\")\n",
    "with gzip.open(fpath, \"rt\") as file:\n",
    "    lines = gen_lines(file, n_lines=5)\n",
    "    for line in lines:\n",
    "        print(line)\n",
    "print(\"+++++++++++++++++++++++++++++++++++++++++++++++++++\")\n",
    "fun = prep_line\n",
    "with gzip.open(fpath, \"rt\") as file:\n",
    "    lines = gen_lines(file, n_lines=5, remove_header=True)\n",
    "    lines = map(fun, lines)\n",
    "    for line in lines:\n",
    "        print(line)"
   ]
  },
  {
   "cell_type": "markdown",
   "id": "b2fd0eb1",
   "metadata": {},
   "source": [
    "## Coverage\n",
    "```\n",
    "query_reset_table = \"DROP TABLE IF EXISTS Coverage\"\n",
    "\n",
    "query_table = \"\"\"CREATE TABLE IF NOT EXISTS Coverage(\n",
    "    chrom    TEXT,\n",
    "    location INTEGER,\n",
    "    depth    INTEGER,\n",
    "    sample   TEXT,\n",
    "    FOREIGN KEY (sample) REFERENCES Sample (sample)\n",
    "    );\"\"\"\n",
    "\n",
    "query_insert = (\"\"\"\n",
    "    INSERT OR IGNORE INTO Coverage\n",
    "        (chrom, location, depth, sample)\n",
    "    VALUES \n",
    "        (?,?,?,?)\"\"\")\n",
    "```"
   ]
  },
  {
   "cell_type": "code",
   "execution_count": 19,
   "id": "000a6722",
   "metadata": {},
   "outputs": [
    {
     "name": "stdout",
     "output_type": "stream",
     "text": [
      "/mount/work/out/proj_combeffect_encode_fcc/Tewhey_K562_TileMPRA/coverage/Tile_K562_hg38_20210130.GATA1.stranded_pos.Input.perbase.tsv.gz /mount/work/out/proj_combeffect_encode_fcc/Tewhey_K562_TileMPRA/coverage/Tile_K562_hg38_20210130.GATA1.stranded_pos.Output.perbase.tsv.gz\n",
      "chrX\t47786400\t47786401\t.\n",
      "chrX\t47786401\t47786402\t2117.787\n",
      "chrX\t47786402\t47786403\t2117.787\n",
      "chrX\t47786403\t47786404\t2117.787\n",
      "chrX\t47786404\t47786405\t2117.787\n",
      "chrX\t47786405\t47786406\t2117.787\n",
      "chrX\t47786406\t47786407\t2117.787\n",
      "chrX\t47786407\t47786408\t2117.787\n",
      "chrX\t47786408\t47786409\t2117.787\n",
      "chrX\t47786409\t47786410\t2117.787\n"
     ]
    }
   ],
   "source": [
    "%%bash\n",
    "source ../config/config_sing.sh\n",
    "PREFIX=\"Tewhey_K562_TileMPRA\"\n",
    "FOLDER=\"coverage\"\n",
    "REGION=\"GATA1\"\n",
    "#SAMPLE=\"Input_rep1\"\n",
    "STRAND=\"stranded_pos\"\n",
    "\n",
    "FPATH=$(ls ${FD_RES}/${PREFIX}/${FOLDER}/*${REGION}*${STRAND}*)\n",
    "echo ${FPATH}\n",
    "zcat ${FPATH} | head"
   ]
  },
  {
   "cell_type": "code",
   "execution_count": 21,
   "id": "f1677c5d",
   "metadata": {},
   "outputs": [],
   "source": [
    "### helper function to process each row\n",
    "def prep_line(line, sample):\n",
    "    \"\"\"Function to process each line\"\"\"\n",
    "    return [*line, SAMPLE]"
   ]
  },
  {
   "cell_type": "code",
   "execution_count": 22,
   "id": "6d53752f",
   "metadata": {},
   "outputs": [
    {
     "name": "stdout",
     "output_type": "stream",
     "text": [
      "['/mount/work/out/proj_combeffect_encode_fcc/Tewhey_K562_TileMPRA/coverage/Tile_K562_hg38_20210130.GATA1.stranded_pos.Input.perbase.tsv.gz', '/mount/work/out/proj_combeffect_encode_fcc/Tewhey_K562_TileMPRA/coverage/Tile_K562_hg38_20210130.GATA1.stranded_pos.Output.perbase.tsv.gz']\n",
      "+++++++++++++++++++++++++++++++++++++++++++++++++++\n",
      "['chrX', '47786400', '47786401', '.']\n",
      "['chrX', '47786401', '47786402', '2117.787']\n",
      "['chrX', '47786402', '47786403', '2117.787']\n",
      "['chrX', '47786403', '47786404', '2117.787']\n",
      "['chrX', '47786404', '47786405', '2117.787']\n",
      "+++++++++++++++++++++++++++++++++++++++++++++++++++\n",
      "['chrX', '47786401', '47786402', '2117.787', 'Merged']\n",
      "['chrX', '47786402', '47786403', '2117.787', 'Merged']\n",
      "['chrX', '47786403', '47786404', '2117.787', 'Merged']\n",
      "['chrX', '47786404', '47786405', '2117.787', 'Merged']\n",
      "['chrX', '47786405', '47786406', '2117.787', 'Merged']\n"
     ]
    }
   ],
   "source": [
    "FOLDER=\"coverage\"\n",
    "REGION=\"GATA1\"\n",
    "SAMPLE=\"Merged\"\n",
    "STRAND=\"stranded_pos\"\n",
    "\n",
    "fglob  = os.path.join(FD_RES, PREFIX, FOLDER, f\"*{REGION}*{STRAND}*perbase*\")\n",
    "fpaths = glob.glob(fglob)\n",
    "fpath  = fpaths[0]\n",
    "print(fpaths)\n",
    "print(\"+++++++++++++++++++++++++++++++++++++++++++++++++++\")\n",
    "with gzip.open(fpath, \"rt\") as file:\n",
    "    lines = gen_lines(file, n_lines=5)\n",
    "    for line in lines:\n",
    "        print(line)\n",
    "print(\"+++++++++++++++++++++++++++++++++++++++++++++++++++\")\n",
    "fun = partial(prep_line, sample=SAMPLE)\n",
    "with gzip.open(fpath, \"rt\") as file:\n",
    "    lines = gen_lines(file, n_lines=5, remove_header=True)\n",
    "    lines = map(fun, lines)\n",
    "    for line in lines:\n",
    "        print(line)"
   ]
  },
  {
   "cell_type": "code",
   "execution_count": null,
   "id": "cc9488d9",
   "metadata": {},
   "outputs": [],
   "source": []
  }
 ],
 "metadata": {
  "kernelspec": {
   "display_name": "Python 3",
   "language": "python",
   "name": "python3"
  },
  "language_info": {
   "codemirror_mode": {
    "name": "ipython",
    "version": 3
   },
   "file_extension": ".py",
   "mimetype": "text/x-python",
   "name": "python",
   "nbconvert_exporter": "python",
   "pygments_lexer": "ipython3",
   "version": "3.7.6"
  }
 },
 "nbformat": 4,
 "nbformat_minor": 5
}
