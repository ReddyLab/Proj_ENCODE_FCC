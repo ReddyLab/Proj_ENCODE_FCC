{
 "cells": [
  {
   "cell_type": "markdown",
   "id": "33f2dbed",
   "metadata": {},
   "source": [
    "**Set environment**"
   ]
  },
  {
   "cell_type": "code",
   "execution_count": 1,
   "id": "f9942865",
   "metadata": {},
   "outputs": [
    {
     "name": "stdout",
     "output_type": "stream",
     "text": [
      "You are in: Singularity | singularity_proj_combeffect\n",
      "    BASE DIRECTORY:     /mount/work\n",
      "    PATH OF SOURCE:     /mount/work/source\n",
      "    PATH OF EXECUTABLE: /mount/work/exe\n",
      "    PATH OF ANNOTATION: /mount/work/annotation\n",
      "    PATH OF PROJECT:    /mount/project\n",
      "    PATH OF RESULTS:    /mount/work/out/proj_combeffect_encode_fcc\n",
      "\n",
      "Library imported:\n",
      "    numpy, pandas, matplotlib.pyplot\n",
      "    os, sys, time, gzip, glob\n",
      "    itertools, collections.Counter\n"
     ]
    }
   ],
   "source": [
    "### set environment\n",
    "import sys\n",
    "sys.path.append('../config')\n",
    "from config_sing import *\n",
    "show_env()\n",
    "\n",
    "### import more tools\n",
    "import sqlite3\n",
    "# https://stackoverflow.com/questions/49456158/integer-in-python-pandas-becomes-blob-binary-in-sqlite\n",
    "sqlite3.register_adapter(np.int64, lambda val: int(val))\n",
    "sqlite3.register_adapter(np.int32, lambda val: int(val))"
   ]
  },
  {
   "cell_type": "code",
   "execution_count": null,
   "id": "ca150f90",
   "metadata": {},
   "outputs": [],
   "source": [
    "#FDIRY = \"KS91_K562_ASTARRseq\"\n",
    "#FDIRY = \"A001_K562_WSTARRseq\"\n",
    "FDIRY  = \"Tewhey_K562_TileMPRA\"\n",
    "\n",
    "FNAME   = \"tmpra\"\n",
    "REGIONS = [\"GATA1\", \"MYC\"]"
   ]
  },
  {
   "cell_type": "code",
   "execution_count": null,
   "id": "1efec520",
   "metadata": {},
   "outputs": [],
   "source": []
  },
  {
   "cell_type": "code",
   "execution_count": null,
   "id": "6653d967",
   "metadata": {},
   "outputs": [],
   "source": []
  }
 ],
 "metadata": {
  "kernelspec": {
   "display_name": "Python 3",
   "language": "python",
   "name": "python3"
  },
  "language_info": {
   "codemirror_mode": {
    "name": "ipython",
    "version": 3
   },
   "file_extension": ".py",
   "mimetype": "text/x-python",
   "name": "python",
   "nbconvert_exporter": "python",
   "pygments_lexer": "ipython3",
   "version": "3.7.6"
  }
 },
 "nbformat": 4,
 "nbformat_minor": 5
}
