{
 "cells": [
  {
   "cell_type": "code",
   "execution_count": 1,
   "id": "bd4d2c11",
   "metadata": {},
   "outputs": [],
   "source": [
    "suppressWarnings(suppressMessages(source(\"../config/config_sing.R\")))"
   ]
  },
  {
   "cell_type": "code",
   "execution_count": 3,
   "id": "48b49683",
   "metadata": {},
   "outputs": [
    {
     "data": {
      "text/html": [
       "<style>\n",
       ".list-inline {list-style: none; margin:0; padding: 0}\n",
       ".list-inline>li {display: inline-block}\n",
       ".list-inline>li:not(:last-child)::after {content: \"\\00b7\"; padding: 0 .5ex}\n",
       "</style>\n",
       "<ol class=list-inline><li>'KS91_K562_hg38_ASTARRseq_Input_rep1.GATA1.unstranded.perbase.tsv.gz'</li><li>'KS91_K562_hg38_ASTARRseq_Input_rep1.GATA1.unstranded.total_count.tsv'</li><li>'KS91_K562_hg38_ASTARRseq_Input_rep2.GATA1.unstranded.perbase.tsv.gz'</li><li>'KS91_K562_hg38_ASTARRseq_Input_rep2.GATA1.unstranded.total_count.tsv'</li><li>'KS91_K562_hg38_ASTARRseq_Input_rep3.GATA1.unstranded.perbase.tsv.gz'</li><li>'KS91_K562_hg38_ASTARRseq_Input_rep3.GATA1.unstranded.total_count.tsv'</li><li>'KS91_K562_hg38_ASTARRseq_Input_rep4.GATA1.unstranded.perbase.tsv.gz'</li><li>'KS91_K562_hg38_ASTARRseq_Input_rep4.GATA1.unstranded.total_count.tsv'</li><li>'KS91_K562_hg38_ASTARRseq_Input_rep5.GATA1.unstranded.perbase.tsv.gz'</li><li>'KS91_K562_hg38_ASTARRseq_Input_rep5.GATA1.unstranded.total_count.tsv'</li><li>'KS91_K562_hg38_ASTARRseq_Input_rep6.GATA1.unstranded.perbase.tsv.gz'</li><li>'KS91_K562_hg38_ASTARRseq_Input_rep6.GATA1.unstranded.total_count.tsv'</li></ol>\n"
      ],
      "text/latex": [
       "\\begin{enumerate*}\n",
       "\\item 'KS91\\_K562\\_hg38\\_ASTARRseq\\_Input\\_rep1.GATA1.unstranded.perbase.tsv.gz'\n",
       "\\item 'KS91\\_K562\\_hg38\\_ASTARRseq\\_Input\\_rep1.GATA1.unstranded.total\\_count.tsv'\n",
       "\\item 'KS91\\_K562\\_hg38\\_ASTARRseq\\_Input\\_rep2.GATA1.unstranded.perbase.tsv.gz'\n",
       "\\item 'KS91\\_K562\\_hg38\\_ASTARRseq\\_Input\\_rep2.GATA1.unstranded.total\\_count.tsv'\n",
       "\\item 'KS91\\_K562\\_hg38\\_ASTARRseq\\_Input\\_rep3.GATA1.unstranded.perbase.tsv.gz'\n",
       "\\item 'KS91\\_K562\\_hg38\\_ASTARRseq\\_Input\\_rep3.GATA1.unstranded.total\\_count.tsv'\n",
       "\\item 'KS91\\_K562\\_hg38\\_ASTARRseq\\_Input\\_rep4.GATA1.unstranded.perbase.tsv.gz'\n",
       "\\item 'KS91\\_K562\\_hg38\\_ASTARRseq\\_Input\\_rep4.GATA1.unstranded.total\\_count.tsv'\n",
       "\\item 'KS91\\_K562\\_hg38\\_ASTARRseq\\_Input\\_rep5.GATA1.unstranded.perbase.tsv.gz'\n",
       "\\item 'KS91\\_K562\\_hg38\\_ASTARRseq\\_Input\\_rep5.GATA1.unstranded.total\\_count.tsv'\n",
       "\\item 'KS91\\_K562\\_hg38\\_ASTARRseq\\_Input\\_rep6.GATA1.unstranded.perbase.tsv.gz'\n",
       "\\item 'KS91\\_K562\\_hg38\\_ASTARRseq\\_Input\\_rep6.GATA1.unstranded.total\\_count.tsv'\n",
       "\\end{enumerate*}\n"
      ],
      "text/markdown": [
       "1. 'KS91_K562_hg38_ASTARRseq_Input_rep1.GATA1.unstranded.perbase.tsv.gz'\n",
       "2. 'KS91_K562_hg38_ASTARRseq_Input_rep1.GATA1.unstranded.total_count.tsv'\n",
       "3. 'KS91_K562_hg38_ASTARRseq_Input_rep2.GATA1.unstranded.perbase.tsv.gz'\n",
       "4. 'KS91_K562_hg38_ASTARRseq_Input_rep2.GATA1.unstranded.total_count.tsv'\n",
       "5. 'KS91_K562_hg38_ASTARRseq_Input_rep3.GATA1.unstranded.perbase.tsv.gz'\n",
       "6. 'KS91_K562_hg38_ASTARRseq_Input_rep3.GATA1.unstranded.total_count.tsv'\n",
       "7. 'KS91_K562_hg38_ASTARRseq_Input_rep4.GATA1.unstranded.perbase.tsv.gz'\n",
       "8. 'KS91_K562_hg38_ASTARRseq_Input_rep4.GATA1.unstranded.total_count.tsv'\n",
       "9. 'KS91_K562_hg38_ASTARRseq_Input_rep5.GATA1.unstranded.perbase.tsv.gz'\n",
       "10. 'KS91_K562_hg38_ASTARRseq_Input_rep5.GATA1.unstranded.total_count.tsv'\n",
       "11. 'KS91_K562_hg38_ASTARRseq_Input_rep6.GATA1.unstranded.perbase.tsv.gz'\n",
       "12. 'KS91_K562_hg38_ASTARRseq_Input_rep6.GATA1.unstranded.total_count.tsv'\n",
       "\n",
       "\n"
      ],
      "text/plain": [
       " [1] \"KS91_K562_hg38_ASTARRseq_Input_rep1.GATA1.unstranded.perbase.tsv.gz\" \n",
       " [2] \"KS91_K562_hg38_ASTARRseq_Input_rep1.GATA1.unstranded.total_count.tsv\"\n",
       " [3] \"KS91_K562_hg38_ASTARRseq_Input_rep2.GATA1.unstranded.perbase.tsv.gz\" \n",
       " [4] \"KS91_K562_hg38_ASTARRseq_Input_rep2.GATA1.unstranded.total_count.tsv\"\n",
       " [5] \"KS91_K562_hg38_ASTARRseq_Input_rep3.GATA1.unstranded.perbase.tsv.gz\" \n",
       " [6] \"KS91_K562_hg38_ASTARRseq_Input_rep3.GATA1.unstranded.total_count.tsv\"\n",
       " [7] \"KS91_K562_hg38_ASTARRseq_Input_rep4.GATA1.unstranded.perbase.tsv.gz\" \n",
       " [8] \"KS91_K562_hg38_ASTARRseq_Input_rep4.GATA1.unstranded.total_count.tsv\"\n",
       " [9] \"KS91_K562_hg38_ASTARRseq_Input_rep5.GATA1.unstranded.perbase.tsv.gz\" \n",
       "[10] \"KS91_K562_hg38_ASTARRseq_Input_rep5.GATA1.unstranded.total_count.tsv\"\n",
       "[11] \"KS91_K562_hg38_ASTARRseq_Input_rep6.GATA1.unstranded.perbase.tsv.gz\" \n",
       "[12] \"KS91_K562_hg38_ASTARRseq_Input_rep6.GATA1.unstranded.total_count.tsv\""
      ]
     },
     "metadata": {},
     "output_type": "display_data"
    }
   ],
   "source": [
    "fdiry = file.path(FD_RES, \"KS91_K562_ASTARRseq\", \"coverage\")\n",
    "fglob = file.path(fdiry, \"*Input*GATA1*unstranded*\")\n",
    "Sys.glob(fglob) %>% basename"
   ]
  },
  {
   "cell_type": "code",
   "execution_count": 2,
   "id": "37763bfa",
   "metadata": {},
   "outputs": [
    {
     "data": {
      "text/html": [
       "<style>\n",
       ".list-inline {list-style: none; margin:0; padding: 0}\n",
       ".list-inline>li {display: inline-block}\n",
       ".list-inline>li:not(:last-child)::after {content: \"\\00b7\"; padding: 0 .5ex}\n",
       "</style>\n",
       "<ol class=list-inline><li>'KS91_K562_hg38_ASTARRseq_Output_rep1.GATA1.unstranded.perbase.tsv.gz'</li><li>'KS91_K562_hg38_ASTARRseq_Output_rep1.GATA1.unstranded.total_count.tsv'</li><li>'KS91_K562_hg38_ASTARRseq_Output_rep2.GATA1.unstranded.perbase.tsv.gz'</li><li>'KS91_K562_hg38_ASTARRseq_Output_rep2.GATA1.unstranded.total_count.tsv'</li><li>'KS91_K562_hg38_ASTARRseq_Output_rep3.GATA1.unstranded.perbase.tsv.gz'</li><li>'KS91_K562_hg38_ASTARRseq_Output_rep3.GATA1.unstranded.total_count.tsv'</li><li>'KS91_K562_hg38_ASTARRseq_Output_rep4.GATA1.unstranded.perbase.tsv.gz'</li><li>'KS91_K562_hg38_ASTARRseq_Output_rep4.GATA1.unstranded.total_count.tsv'</li></ol>\n"
      ],
      "text/latex": [
       "\\begin{enumerate*}\n",
       "\\item 'KS91\\_K562\\_hg38\\_ASTARRseq\\_Output\\_rep1.GATA1.unstranded.perbase.tsv.gz'\n",
       "\\item 'KS91\\_K562\\_hg38\\_ASTARRseq\\_Output\\_rep1.GATA1.unstranded.total\\_count.tsv'\n",
       "\\item 'KS91\\_K562\\_hg38\\_ASTARRseq\\_Output\\_rep2.GATA1.unstranded.perbase.tsv.gz'\n",
       "\\item 'KS91\\_K562\\_hg38\\_ASTARRseq\\_Output\\_rep2.GATA1.unstranded.total\\_count.tsv'\n",
       "\\item 'KS91\\_K562\\_hg38\\_ASTARRseq\\_Output\\_rep3.GATA1.unstranded.perbase.tsv.gz'\n",
       "\\item 'KS91\\_K562\\_hg38\\_ASTARRseq\\_Output\\_rep3.GATA1.unstranded.total\\_count.tsv'\n",
       "\\item 'KS91\\_K562\\_hg38\\_ASTARRseq\\_Output\\_rep4.GATA1.unstranded.perbase.tsv.gz'\n",
       "\\item 'KS91\\_K562\\_hg38\\_ASTARRseq\\_Output\\_rep4.GATA1.unstranded.total\\_count.tsv'\n",
       "\\end{enumerate*}\n"
      ],
      "text/markdown": [
       "1. 'KS91_K562_hg38_ASTARRseq_Output_rep1.GATA1.unstranded.perbase.tsv.gz'\n",
       "2. 'KS91_K562_hg38_ASTARRseq_Output_rep1.GATA1.unstranded.total_count.tsv'\n",
       "3. 'KS91_K562_hg38_ASTARRseq_Output_rep2.GATA1.unstranded.perbase.tsv.gz'\n",
       "4. 'KS91_K562_hg38_ASTARRseq_Output_rep2.GATA1.unstranded.total_count.tsv'\n",
       "5. 'KS91_K562_hg38_ASTARRseq_Output_rep3.GATA1.unstranded.perbase.tsv.gz'\n",
       "6. 'KS91_K562_hg38_ASTARRseq_Output_rep3.GATA1.unstranded.total_count.tsv'\n",
       "7. 'KS91_K562_hg38_ASTARRseq_Output_rep4.GATA1.unstranded.perbase.tsv.gz'\n",
       "8. 'KS91_K562_hg38_ASTARRseq_Output_rep4.GATA1.unstranded.total_count.tsv'\n",
       "\n",
       "\n"
      ],
      "text/plain": [
       "[1] \"KS91_K562_hg38_ASTARRseq_Output_rep1.GATA1.unstranded.perbase.tsv.gz\" \n",
       "[2] \"KS91_K562_hg38_ASTARRseq_Output_rep1.GATA1.unstranded.total_count.tsv\"\n",
       "[3] \"KS91_K562_hg38_ASTARRseq_Output_rep2.GATA1.unstranded.perbase.tsv.gz\" \n",
       "[4] \"KS91_K562_hg38_ASTARRseq_Output_rep2.GATA1.unstranded.total_count.tsv\"\n",
       "[5] \"KS91_K562_hg38_ASTARRseq_Output_rep3.GATA1.unstranded.perbase.tsv.gz\" \n",
       "[6] \"KS91_K562_hg38_ASTARRseq_Output_rep3.GATA1.unstranded.total_count.tsv\"\n",
       "[7] \"KS91_K562_hg38_ASTARRseq_Output_rep4.GATA1.unstranded.perbase.tsv.gz\" \n",
       "[8] \"KS91_K562_hg38_ASTARRseq_Output_rep4.GATA1.unstranded.total_count.tsv\""
      ]
     },
     "metadata": {},
     "output_type": "display_data"
    }
   ],
   "source": [
    "fdiry = file.path(FD_RES, \"KS91_K562_ASTARRseq\", \"coverage\")\n",
    "fglob = file.path(fdiry, \"*Output*GATA1*unstranded*\")\n",
    "Sys.glob(fglob) %>% basename"
   ]
  },
  {
   "cell_type": "code",
   "execution_count": 4,
   "id": "334659a6",
   "metadata": {},
   "outputs": [
    {
     "data": {
      "text/html": [
       "'2000151'"
      ],
      "text/latex": [
       "'2000151'"
      ],
      "text/markdown": [
       "'2000151'"
      ],
      "text/plain": [
       "[1] \"2000151\""
      ]
     },
     "metadata": {},
     "output_type": "display_data"
    }
   ],
   "source": [
    "fdiry = file.path(FD_RES, \"KS91_K562_ASTARRseq\", \"coverage\")\n",
    "fname = \"KS91_K562_hg38_ASTARRseq_Output_rep1.GATA1.unstranded.perbase.tsv.gz\"\n",
    "fpath = file.path(fdiry, fname)\n",
    "\n",
    "txt = paste(\"zcat\", fpath, \"|\", \"wc -l\")\n",
    "system(txt, intern=TRUE)"
   ]
  },
  {
   "cell_type": "markdown",
   "id": "14f7905a",
   "metadata": {},
   "source": [
    "## Import data"
   ]
  },
  {
   "cell_type": "code",
   "execution_count": 7,
   "id": "612986d5",
   "metadata": {},
   "outputs": [
    {
     "name": "stdout",
     "output_type": "stream",
     "text": [
      "[1] 2000151       5\n"
     ]
    },
    {
     "data": {
      "text/html": [
       "<table class=\"dataframe\">\n",
       "<caption>A tibble: 6 × 5</caption>\n",
       "<thead>\n",
       "\t<tr><th scope=col>Chrom</th><th scope=col>Start</th><th scope=col>End</th><th scope=col>Count</th><th scope=col>Sample</th></tr>\n",
       "\t<tr><th scope=col>&lt;chr&gt;</th><th scope=col>&lt;dbl&gt;</th><th scope=col>&lt;dbl&gt;</th><th scope=col>&lt;chr&gt;</th><th scope=col>&lt;chr&gt;</th></tr>\n",
       "</thead>\n",
       "<tbody>\n",
       "\t<tr><td>chrX</td><td>47786500</td><td>47786501</td><td>.</td><td>Input_rep1</td></tr>\n",
       "\t<tr><td>chrX</td><td>47786501</td><td>47786502</td><td>.</td><td>Input_rep1</td></tr>\n",
       "\t<tr><td>chrX</td><td>47786502</td><td>47786503</td><td>.</td><td>Input_rep1</td></tr>\n",
       "\t<tr><td>chrX</td><td>47786503</td><td>47786504</td><td>.</td><td>Input_rep1</td></tr>\n",
       "\t<tr><td>chrX</td><td>47786504</td><td>47786505</td><td>.</td><td>Input_rep1</td></tr>\n",
       "\t<tr><td>chrX</td><td>47786505</td><td>47786506</td><td>.</td><td>Input_rep1</td></tr>\n",
       "</tbody>\n",
       "</table>\n"
      ],
      "text/latex": [
       "A tibble: 6 × 5\n",
       "\\begin{tabular}{lllll}\n",
       " Chrom & Start & End & Count & Sample\\\\\n",
       " <chr> & <dbl> & <dbl> & <chr> & <chr>\\\\\n",
       "\\hline\n",
       "\t chrX & 47786500 & 47786501 & . & Input\\_rep1\\\\\n",
       "\t chrX & 47786501 & 47786502 & . & Input\\_rep1\\\\\n",
       "\t chrX & 47786502 & 47786503 & . & Input\\_rep1\\\\\n",
       "\t chrX & 47786503 & 47786504 & . & Input\\_rep1\\\\\n",
       "\t chrX & 47786504 & 47786505 & . & Input\\_rep1\\\\\n",
       "\t chrX & 47786505 & 47786506 & . & Input\\_rep1\\\\\n",
       "\\end{tabular}\n"
      ],
      "text/markdown": [
       "\n",
       "A tibble: 6 × 5\n",
       "\n",
       "| Chrom &lt;chr&gt; | Start &lt;dbl&gt; | End &lt;dbl&gt; | Count &lt;chr&gt; | Sample &lt;chr&gt; |\n",
       "|---|---|---|---|---|\n",
       "| chrX | 47786500 | 47786501 | . | Input_rep1 |\n",
       "| chrX | 47786501 | 47786502 | . | Input_rep1 |\n",
       "| chrX | 47786502 | 47786503 | . | Input_rep1 |\n",
       "| chrX | 47786503 | 47786504 | . | Input_rep1 |\n",
       "| chrX | 47786504 | 47786505 | . | Input_rep1 |\n",
       "| chrX | 47786505 | 47786506 | . | Input_rep1 |\n",
       "\n"
      ],
      "text/plain": [
       "  Chrom Start    End      Count Sample    \n",
       "1 chrX  47786500 47786501 .     Input_rep1\n",
       "2 chrX  47786501 47786502 .     Input_rep1\n",
       "3 chrX  47786502 47786503 .     Input_rep1\n",
       "4 chrX  47786503 47786504 .     Input_rep1\n",
       "5 chrX  47786504 47786505 .     Input_rep1\n",
       "6 chrX  47786505 47786506 .     Input_rep1"
      ]
     },
     "metadata": {},
     "output_type": "display_data"
    }
   ],
   "source": [
    "### set file path\n",
    "fdiry = file.path(FD_RES, \"KS91_K562_ASTARRseq\", \"coverage\")\n",
    "fname = \"KS91_K562_hg38_ASTARRseq_Input_rep1.GATA1.unstranded.perbase.tsv.gz\"\n",
    "fpath = file.path(fdiry, fname)\n",
    "\n",
    "### set colnumn\n",
    "#ctypes = c(col_character(), col_integer(), col_integer(), col_integer())\n",
    "cnames = c(\"Chrom\", \"Start\", \"End\", \"Count\")\n",
    "\n",
    "### import data\n",
    "dat = read_tsv(\n",
    "    fpath,\n",
    "    col_names = cnames,\n",
    "    show_col_types = FALSE)\n",
    "\n",
    "dat = dat %>% dplyr::mutate(Sample = \"Input_rep1\")\n",
    "\n",
    "### assign\n",
    "dat_astarr_gata1_inp = dat\n",
    "print(dim(dat))\n",
    "head(dat)"
   ]
  },
  {
   "cell_type": "code",
   "execution_count": 8,
   "id": "46abf6b8",
   "metadata": {},
   "outputs": [
    {
     "name": "stdout",
     "output_type": "stream",
     "text": [
      "[1] 2000151       5\n"
     ]
    },
    {
     "data": {
      "text/html": [
       "<table class=\"dataframe\">\n",
       "<caption>A tibble: 6 × 5</caption>\n",
       "<thead>\n",
       "\t<tr><th scope=col>Chrom</th><th scope=col>Start</th><th scope=col>End</th><th scope=col>Count</th><th scope=col>Sample</th></tr>\n",
       "\t<tr><th scope=col>&lt;chr&gt;</th><th scope=col>&lt;dbl&gt;</th><th scope=col>&lt;dbl&gt;</th><th scope=col>&lt;chr&gt;</th><th scope=col>&lt;chr&gt;</th></tr>\n",
       "</thead>\n",
       "<tbody>\n",
       "\t<tr><td>chrX</td><td>47786500</td><td>47786501</td><td>.</td><td>Output_rep1</td></tr>\n",
       "\t<tr><td>chrX</td><td>47786501</td><td>47786502</td><td>.</td><td>Output_rep1</td></tr>\n",
       "\t<tr><td>chrX</td><td>47786502</td><td>47786503</td><td>.</td><td>Output_rep1</td></tr>\n",
       "\t<tr><td>chrX</td><td>47786503</td><td>47786504</td><td>.</td><td>Output_rep1</td></tr>\n",
       "\t<tr><td>chrX</td><td>47786504</td><td>47786505</td><td>.</td><td>Output_rep1</td></tr>\n",
       "\t<tr><td>chrX</td><td>47786505</td><td>47786506</td><td>.</td><td>Output_rep1</td></tr>\n",
       "</tbody>\n",
       "</table>\n"
      ],
      "text/latex": [
       "A tibble: 6 × 5\n",
       "\\begin{tabular}{lllll}\n",
       " Chrom & Start & End & Count & Sample\\\\\n",
       " <chr> & <dbl> & <dbl> & <chr> & <chr>\\\\\n",
       "\\hline\n",
       "\t chrX & 47786500 & 47786501 & . & Output\\_rep1\\\\\n",
       "\t chrX & 47786501 & 47786502 & . & Output\\_rep1\\\\\n",
       "\t chrX & 47786502 & 47786503 & . & Output\\_rep1\\\\\n",
       "\t chrX & 47786503 & 47786504 & . & Output\\_rep1\\\\\n",
       "\t chrX & 47786504 & 47786505 & . & Output\\_rep1\\\\\n",
       "\t chrX & 47786505 & 47786506 & . & Output\\_rep1\\\\\n",
       "\\end{tabular}\n"
      ],
      "text/markdown": [
       "\n",
       "A tibble: 6 × 5\n",
       "\n",
       "| Chrom &lt;chr&gt; | Start &lt;dbl&gt; | End &lt;dbl&gt; | Count &lt;chr&gt; | Sample &lt;chr&gt; |\n",
       "|---|---|---|---|---|\n",
       "| chrX | 47786500 | 47786501 | . | Output_rep1 |\n",
       "| chrX | 47786501 | 47786502 | . | Output_rep1 |\n",
       "| chrX | 47786502 | 47786503 | . | Output_rep1 |\n",
       "| chrX | 47786503 | 47786504 | . | Output_rep1 |\n",
       "| chrX | 47786504 | 47786505 | . | Output_rep1 |\n",
       "| chrX | 47786505 | 47786506 | . | Output_rep1 |\n",
       "\n"
      ],
      "text/plain": [
       "  Chrom Start    End      Count Sample     \n",
       "1 chrX  47786500 47786501 .     Output_rep1\n",
       "2 chrX  47786501 47786502 .     Output_rep1\n",
       "3 chrX  47786502 47786503 .     Output_rep1\n",
       "4 chrX  47786503 47786504 .     Output_rep1\n",
       "5 chrX  47786504 47786505 .     Output_rep1\n",
       "6 chrX  47786505 47786506 .     Output_rep1"
      ]
     },
     "metadata": {},
     "output_type": "display_data"
    }
   ],
   "source": [
    "### set file path\n",
    "fdiry = file.path(FD_RES, \"KS91_K562_ASTARRseq\", \"coverage\")\n",
    "fname = \"KS91_K562_hg38_ASTARRseq_Output_rep1.GATA1.unstranded.perbase.tsv.gz\"\n",
    "fpath = file.path(fdiry, fname)\n",
    "\n",
    "### set colnumn\n",
    "#ctypes = c(col_character(), col_integer(), col_integer(), col_integer())\n",
    "cnames = c(\"Chrom\", \"Start\", \"End\", \"Count\")\n",
    "\n",
    "### import data\n",
    "dat = read_tsv(\n",
    "    fpath,\n",
    "    col_names = cnames,\n",
    "    show_col_types = FALSE)\n",
    "dat = dat %>% dplyr::mutate(Sample = \"Output_rep1\")\n",
    "\n",
    "### assign\n",
    "dat_astarr_gata1_out = dat\n",
    "print(dim(dat))\n",
    "head(dat)"
   ]
  },
  {
   "cell_type": "code",
   "execution_count": 9,
   "id": "804bb594",
   "metadata": {},
   "outputs": [
    {
     "data": {
      "text/html": [
       "<table class=\"dataframe\">\n",
       "<caption>A tibble: 6 × 6</caption>\n",
       "<thead>\n",
       "\t<tr><th scope=col>Chrom</th><th scope=col>Start</th><th scope=col>End</th><th scope=col>Count</th><th scope=col>Sample</th><th scope=col>Loc</th></tr>\n",
       "\t<tr><th scope=col>&lt;chr&gt;</th><th scope=col>&lt;int&gt;</th><th scope=col>&lt;int&gt;</th><th scope=col>&lt;int&gt;</th><th scope=col>&lt;chr&gt;</th><th scope=col>&lt;int&gt;</th></tr>\n",
       "</thead>\n",
       "<tbody>\n",
       "\t<tr><td>chrX</td><td>48780000</td><td>48780001</td><td>68</td><td>Input_rep1</td><td>48780001</td></tr>\n",
       "\t<tr><td>chrX</td><td>48780001</td><td>48780002</td><td>63</td><td>Input_rep1</td><td>48780002</td></tr>\n",
       "\t<tr><td>chrX</td><td>48780002</td><td>48780003</td><td>63</td><td>Input_rep1</td><td>48780003</td></tr>\n",
       "\t<tr><td>chrX</td><td>48780003</td><td>48780004</td><td>62</td><td>Input_rep1</td><td>48780004</td></tr>\n",
       "\t<tr><td>chrX</td><td>48780004</td><td>48780005</td><td>62</td><td>Input_rep1</td><td>48780005</td></tr>\n",
       "\t<tr><td>chrX</td><td>48780005</td><td>48780006</td><td>62</td><td>Input_rep1</td><td>48780006</td></tr>\n",
       "</tbody>\n",
       "</table>\n"
      ],
      "text/latex": [
       "A tibble: 6 × 6\n",
       "\\begin{tabular}{llllll}\n",
       " Chrom & Start & End & Count & Sample & Loc\\\\\n",
       " <chr> & <int> & <int> & <int> & <chr> & <int>\\\\\n",
       "\\hline\n",
       "\t chrX & 48780000 & 48780001 & 68 & Input\\_rep1 & 48780001\\\\\n",
       "\t chrX & 48780001 & 48780002 & 63 & Input\\_rep1 & 48780002\\\\\n",
       "\t chrX & 48780002 & 48780003 & 63 & Input\\_rep1 & 48780003\\\\\n",
       "\t chrX & 48780003 & 48780004 & 62 & Input\\_rep1 & 48780004\\\\\n",
       "\t chrX & 48780004 & 48780005 & 62 & Input\\_rep1 & 48780005\\\\\n",
       "\t chrX & 48780005 & 48780006 & 62 & Input\\_rep1 & 48780006\\\\\n",
       "\\end{tabular}\n"
      ],
      "text/markdown": [
       "\n",
       "A tibble: 6 × 6\n",
       "\n",
       "| Chrom &lt;chr&gt; | Start &lt;int&gt; | End &lt;int&gt; | Count &lt;int&gt; | Sample &lt;chr&gt; | Loc &lt;int&gt; |\n",
       "|---|---|---|---|---|---|\n",
       "| chrX | 48780000 | 48780001 | 68 | Input_rep1 | 48780001 |\n",
       "| chrX | 48780001 | 48780002 | 63 | Input_rep1 | 48780002 |\n",
       "| chrX | 48780002 | 48780003 | 63 | Input_rep1 | 48780003 |\n",
       "| chrX | 48780003 | 48780004 | 62 | Input_rep1 | 48780004 |\n",
       "| chrX | 48780004 | 48780005 | 62 | Input_rep1 | 48780005 |\n",
       "| chrX | 48780005 | 48780006 | 62 | Input_rep1 | 48780006 |\n",
       "\n"
      ],
      "text/plain": [
       "  Chrom Start    End      Count Sample     Loc     \n",
       "1 chrX  48780000 48780001 68    Input_rep1 48780001\n",
       "2 chrX  48780001 48780002 63    Input_rep1 48780002\n",
       "3 chrX  48780002 48780003 63    Input_rep1 48780003\n",
       "4 chrX  48780003 48780004 62    Input_rep1 48780004\n",
       "5 chrX  48780004 48780005 62    Input_rep1 48780005\n",
       "6 chrX  48780005 48780006 62    Input_rep1 48780006"
      ]
     },
     "metadata": {},
     "output_type": "display_data"
    }
   ],
   "source": [
    "### where to visualize\n",
    "LOC_START  = 48780000\n",
    "LOC_END    = 48826000\n",
    "\n",
    "dat = bind_rows(dat_astarr_gata1_inp, dat_astarr_gata1_out)\n",
    "dat = dat %>% \n",
    "    dplyr::filter(Count != \".\") %>%\n",
    "    dplyr::filter(Start >= LOC_START, End <= LOC_END) %>%\n",
    "    dplyr::mutate(across(c(Start, End, Count), as.integer)) %>%\n",
    "    dplyr::mutate(Loc = End)\n",
    "    \n",
    "head(dat)"
   ]
  },
  {
   "cell_type": "code",
   "execution_count": 13,
   "id": "b851bdff",
   "metadata": {},
   "outputs": [
    {
     "data": {
      "image/png": "[encoded data removed]",
      "text/plain": [
       "plot without title"
      ]
     },
     "metadata": {
      "image/png": {
       "height": 360,
       "width": 480
      }
     },
     "output_type": "display_data"
    }
   ],
   "source": [
    "gpt = ggplot(dat, aes(x=Loc, Count)) + geom_line() + theme_cowplot() + facet_grid(Sample~.)\n",
    "options(repr.plot.height=6, repr.plot.width=8)\n",
    "print(gpt)"
   ]
  },
  {
   "cell_type": "code",
   "execution_count": null,
   "id": "e7b49997",
   "metadata": {},
   "outputs": [],
   "source": []
  }
 ],
 "metadata": {
  "kernelspec": {
   "display_name": "R",
   "language": "R",
   "name": "ir"
  },
  "language_info": {
   "codemirror_mode": "r",
   "file_extension": ".r",
   "mimetype": "text/x-r-source",
   "name": "R",
   "pygments_lexer": "r",
   "version": "4.2.0"
  }
 },
 "nbformat": 4,
 "nbformat_minor": 5
}
