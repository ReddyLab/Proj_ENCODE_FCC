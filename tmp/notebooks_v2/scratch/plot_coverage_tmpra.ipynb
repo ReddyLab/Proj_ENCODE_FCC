{
 "cells": [
  {
   "cell_type": "code",
   "execution_count": 1,
   "id": "9cc9c7c9",
   "metadata": {},
   "outputs": [],
   "source": [
    "suppressWarnings(suppressMessages(source(\"../config/config_sing.R\")))"
   ]
  },
  {
   "cell_type": "code",
   "execution_count": 2,
   "id": "186585ec",
   "metadata": {},
   "outputs": [
    {
     "data": {
      "text/html": [
       "<style>\n",
       ".list-inline {list-style: none; margin:0; padding: 0}\n",
       ".list-inline>li {display: inline-block}\n",
       ".list-inline>li:not(:last-child)::after {content: \"\\00b7\"; padding: 0 .5ex}\n",
       "</style>\n",
       "<ol class=list-inline><li>'region_GATA1_perbase.bed'</li><li>'Tile_K562_hg38_20210130.GATA1.stranded_pos.Input.perbase.tsv.gz'</li><li>'Tile_K562_hg38_20210130.GATA1.stranded_pos.Output.perbase.tsv.gz'</li></ol>\n"
      ],
      "text/latex": [
       "\\begin{enumerate*}\n",
       "\\item 'region\\_GATA1\\_perbase.bed'\n",
       "\\item 'Tile\\_K562\\_hg38\\_20210130.GATA1.stranded\\_pos.Input.perbase.tsv.gz'\n",
       "\\item 'Tile\\_K562\\_hg38\\_20210130.GATA1.stranded\\_pos.Output.perbase.tsv.gz'\n",
       "\\end{enumerate*}\n"
      ],
      "text/markdown": [
       "1. 'region_GATA1_perbase.bed'\n",
       "2. 'Tile_K562_hg38_20210130.GATA1.stranded_pos.Input.perbase.tsv.gz'\n",
       "3. 'Tile_K562_hg38_20210130.GATA1.stranded_pos.Output.perbase.tsv.gz'\n",
       "\n",
       "\n"
      ],
      "text/plain": [
       "[1] \"region_GATA1_perbase.bed\"                                        \n",
       "[2] \"Tile_K562_hg38_20210130.GATA1.stranded_pos.Input.perbase.tsv.gz\" \n",
       "[3] \"Tile_K562_hg38_20210130.GATA1.stranded_pos.Output.perbase.tsv.gz\""
      ]
     },
     "metadata": {},
     "output_type": "display_data"
    }
   ],
   "source": [
    "fdiry = file.path(FD_RES, \"Tewhey_K562_TileMPRA\", \"coverage\")\n",
    "fglob = file.path(fdiry, \"*GATA1*\")\n",
    "Sys.glob(fglob) %>% basename"
   ]
  },
  {
   "cell_type": "code",
   "execution_count": 3,
   "id": "3d46fdc4",
   "metadata": {},
   "outputs": [
    {
     "data": {
      "text/html": [
       "'2000351'"
      ],
      "text/latex": [
       "'2000351'"
      ],
      "text/markdown": [
       "'2000351'"
      ],
      "text/plain": [
       "[1] \"2000351\""
      ]
     },
     "metadata": {},
     "output_type": "display_data"
    }
   ],
   "source": [
    "fdiry = file.path(FD_RES, \"Tewhey_K562_TileMPRA\", \"coverage\")\n",
    "fname = \"Tile_K562_hg38_20210130.GATA1.stranded_pos.Input.perbase.tsv.gz\"\n",
    "fpath = file.path(fdiry, fname)\n",
    "\n",
    "txt = paste(\"zcat\", fpath, \"|\", \"wc -l\")\n",
    "system(txt, intern=TRUE)"
   ]
  },
  {
   "cell_type": "markdown",
   "id": "dce878dc",
   "metadata": {},
   "source": [
    "## Import data"
   ]
  },
  {
   "cell_type": "code",
   "execution_count": 4,
   "id": "de959769",
   "metadata": {},
   "outputs": [
    {
     "name": "stdout",
     "output_type": "stream",
     "text": [
      "[1] 2000351       5\n"
     ]
    },
    {
     "data": {
      "text/html": [
       "<table class=\"dataframe\">\n",
       "<caption>A tibble: 6 × 5</caption>\n",
       "<thead>\n",
       "\t<tr><th scope=col>Chrom</th><th scope=col>Start</th><th scope=col>End</th><th scope=col>Count</th><th scope=col>Sample</th></tr>\n",
       "\t<tr><th scope=col>&lt;chr&gt;</th><th scope=col>&lt;dbl&gt;</th><th scope=col>&lt;dbl&gt;</th><th scope=col>&lt;chr&gt;</th><th scope=col>&lt;chr&gt;</th></tr>\n",
       "</thead>\n",
       "<tbody>\n",
       "\t<tr><td>chrX</td><td>47786400</td><td>47786401</td><td>.       </td><td>Input_rep1</td></tr>\n",
       "\t<tr><td>chrX</td><td>47786401</td><td>47786402</td><td>2117.787</td><td>Input_rep1</td></tr>\n",
       "\t<tr><td>chrX</td><td>47786402</td><td>47786403</td><td>2117.787</td><td>Input_rep1</td></tr>\n",
       "\t<tr><td>chrX</td><td>47786403</td><td>47786404</td><td>2117.787</td><td>Input_rep1</td></tr>\n",
       "\t<tr><td>chrX</td><td>47786404</td><td>47786405</td><td>2117.787</td><td>Input_rep1</td></tr>\n",
       "\t<tr><td>chrX</td><td>47786405</td><td>47786406</td><td>2117.787</td><td>Input_rep1</td></tr>\n",
       "</tbody>\n",
       "</table>\n"
      ],
      "text/latex": [
       "A tibble: 6 × 5\n",
       "\\begin{tabular}{lllll}\n",
       " Chrom & Start & End & Count & Sample\\\\\n",
       " <chr> & <dbl> & <dbl> & <chr> & <chr>\\\\\n",
       "\\hline\n",
       "\t chrX & 47786400 & 47786401 & .        & Input\\_rep1\\\\\n",
       "\t chrX & 47786401 & 47786402 & 2117.787 & Input\\_rep1\\\\\n",
       "\t chrX & 47786402 & 47786403 & 2117.787 & Input\\_rep1\\\\\n",
       "\t chrX & 47786403 & 47786404 & 2117.787 & Input\\_rep1\\\\\n",
       "\t chrX & 47786404 & 47786405 & 2117.787 & Input\\_rep1\\\\\n",
       "\t chrX & 47786405 & 47786406 & 2117.787 & Input\\_rep1\\\\\n",
       "\\end{tabular}\n"
      ],
      "text/markdown": [
       "\n",
       "A tibble: 6 × 5\n",
       "\n",
       "| Chrom &lt;chr&gt; | Start &lt;dbl&gt; | End &lt;dbl&gt; | Count &lt;chr&gt; | Sample &lt;chr&gt; |\n",
       "|---|---|---|---|---|\n",
       "| chrX | 47786400 | 47786401 | .        | Input_rep1 |\n",
       "| chrX | 47786401 | 47786402 | 2117.787 | Input_rep1 |\n",
       "| chrX | 47786402 | 47786403 | 2117.787 | Input_rep1 |\n",
       "| chrX | 47786403 | 47786404 | 2117.787 | Input_rep1 |\n",
       "| chrX | 47786404 | 47786405 | 2117.787 | Input_rep1 |\n",
       "| chrX | 47786405 | 47786406 | 2117.787 | Input_rep1 |\n",
       "\n"
      ],
      "text/plain": [
       "  Chrom Start    End      Count    Sample    \n",
       "1 chrX  47786400 47786401 .        Input_rep1\n",
       "2 chrX  47786401 47786402 2117.787 Input_rep1\n",
       "3 chrX  47786402 47786403 2117.787 Input_rep1\n",
       "4 chrX  47786403 47786404 2117.787 Input_rep1\n",
       "5 chrX  47786404 47786405 2117.787 Input_rep1\n",
       "6 chrX  47786405 47786406 2117.787 Input_rep1"
      ]
     },
     "metadata": {},
     "output_type": "display_data"
    }
   ],
   "source": [
    "### set file path\n",
    "fdiry = file.path(FD_RES, \"Tewhey_K562_TileMPRA\", \"coverage\")\n",
    "fname = \"Tile_K562_hg38_20210130.GATA1.stranded_pos.Input.perbase.tsv.gz\"\n",
    "fpath = file.path(fdiry, fname)\n",
    "\n",
    "### set colnumn\n",
    "#ctypes = c(col_character(), col_integer(), col_integer(), col_integer())\n",
    "cnames = c(\"Chrom\", \"Start\", \"End\", \"Count\")\n",
    "\n",
    "### import data\n",
    "dat = read_tsv(\n",
    "    fpath,\n",
    "    col_names = cnames,\n",
    "    show_col_types = FALSE)\n",
    "\n",
    "dat = dat %>% dplyr::mutate(Sample = \"Input_rep1\")\n",
    "\n",
    "### assign\n",
    "dat_tmpra_gata1_inp = dat\n",
    "print(dim(dat))\n",
    "head(dat)"
   ]
  },
  {
   "cell_type": "code",
   "execution_count": 6,
   "id": "818b0feb",
   "metadata": {},
   "outputs": [
    {
     "name": "stdout",
     "output_type": "stream",
     "text": [
      "[1] 2000351       5\n"
     ]
    },
    {
     "data": {
      "text/html": [
       "<table class=\"dataframe\">\n",
       "<caption>A tibble: 6 × 5</caption>\n",
       "<thead>\n",
       "\t<tr><th scope=col>Chrom</th><th scope=col>Start</th><th scope=col>End</th><th scope=col>Count</th><th scope=col>Sample</th></tr>\n",
       "\t<tr><th scope=col>&lt;chr&gt;</th><th scope=col>&lt;dbl&gt;</th><th scope=col>&lt;dbl&gt;</th><th scope=col>&lt;chr&gt;</th><th scope=col>&lt;chr&gt;</th></tr>\n",
       "</thead>\n",
       "<tbody>\n",
       "\t<tr><td>chrX</td><td>47786400</td><td>47786401</td><td>.        </td><td>Output_rep1</td></tr>\n",
       "\t<tr><td>chrX</td><td>47786401</td><td>47786402</td><td>10474.869</td><td>Output_rep1</td></tr>\n",
       "\t<tr><td>chrX</td><td>47786402</td><td>47786403</td><td>10474.869</td><td>Output_rep1</td></tr>\n",
       "\t<tr><td>chrX</td><td>47786403</td><td>47786404</td><td>10474.869</td><td>Output_rep1</td></tr>\n",
       "\t<tr><td>chrX</td><td>47786404</td><td>47786405</td><td>10474.869</td><td>Output_rep1</td></tr>\n",
       "\t<tr><td>chrX</td><td>47786405</td><td>47786406</td><td>10474.869</td><td>Output_rep1</td></tr>\n",
       "</tbody>\n",
       "</table>\n"
      ],
      "text/latex": [
       "A tibble: 6 × 5\n",
       "\\begin{tabular}{lllll}\n",
       " Chrom & Start & End & Count & Sample\\\\\n",
       " <chr> & <dbl> & <dbl> & <chr> & <chr>\\\\\n",
       "\\hline\n",
       "\t chrX & 47786400 & 47786401 & .         & Output\\_rep1\\\\\n",
       "\t chrX & 47786401 & 47786402 & 10474.869 & Output\\_rep1\\\\\n",
       "\t chrX & 47786402 & 47786403 & 10474.869 & Output\\_rep1\\\\\n",
       "\t chrX & 47786403 & 47786404 & 10474.869 & Output\\_rep1\\\\\n",
       "\t chrX & 47786404 & 47786405 & 10474.869 & Output\\_rep1\\\\\n",
       "\t chrX & 47786405 & 47786406 & 10474.869 & Output\\_rep1\\\\\n",
       "\\end{tabular}\n"
      ],
      "text/markdown": [
       "\n",
       "A tibble: 6 × 5\n",
       "\n",
       "| Chrom &lt;chr&gt; | Start &lt;dbl&gt; | End &lt;dbl&gt; | Count &lt;chr&gt; | Sample &lt;chr&gt; |\n",
       "|---|---|---|---|---|\n",
       "| chrX | 47786400 | 47786401 | .         | Output_rep1 |\n",
       "| chrX | 47786401 | 47786402 | 10474.869 | Output_rep1 |\n",
       "| chrX | 47786402 | 47786403 | 10474.869 | Output_rep1 |\n",
       "| chrX | 47786403 | 47786404 | 10474.869 | Output_rep1 |\n",
       "| chrX | 47786404 | 47786405 | 10474.869 | Output_rep1 |\n",
       "| chrX | 47786405 | 47786406 | 10474.869 | Output_rep1 |\n",
       "\n"
      ],
      "text/plain": [
       "  Chrom Start    End      Count     Sample     \n",
       "1 chrX  47786400 47786401 .         Output_rep1\n",
       "2 chrX  47786401 47786402 10474.869 Output_rep1\n",
       "3 chrX  47786402 47786403 10474.869 Output_rep1\n",
       "4 chrX  47786403 47786404 10474.869 Output_rep1\n",
       "5 chrX  47786404 47786405 10474.869 Output_rep1\n",
       "6 chrX  47786405 47786406 10474.869 Output_rep1"
      ]
     },
     "metadata": {},
     "output_type": "display_data"
    }
   ],
   "source": [
    "### set file path\n",
    "fdiry = file.path(FD_RES, \"Tewhey_K562_TileMPRA\", \"coverage\")\n",
    "fname = \"Tile_K562_hg38_20210130.GATA1.stranded_pos.Output.perbase.tsv.gz\"\n",
    "fpath = file.path(fdiry, fname)\n",
    "\n",
    "### set colnumn\n",
    "#ctypes = c(col_character(), col_integer(), col_integer(), col_integer())\n",
    "cnames = c(\"Chrom\", \"Start\", \"End\", \"Count\")\n",
    "\n",
    "### import data\n",
    "dat = read_tsv(\n",
    "    fpath,\n",
    "    col_names = cnames,\n",
    "    show_col_types = FALSE)\n",
    "dat = dat %>% dplyr::mutate(Sample = \"Output_rep1\")\n",
    "\n",
    "### assign\n",
    "dat_tmpra_gata1_out = dat\n",
    "print(dim(dat))\n",
    "head(dat)"
   ]
  },
  {
   "cell_type": "code",
   "execution_count": 7,
   "id": "5993c07d",
   "metadata": {},
   "outputs": [
    {
     "data": {
      "text/html": [
       "<table class=\"dataframe\">\n",
       "<caption>A tibble: 6 × 6</caption>\n",
       "<thead>\n",
       "\t<tr><th scope=col>Chrom</th><th scope=col>Start</th><th scope=col>End</th><th scope=col>Count</th><th scope=col>Sample</th><th scope=col>Loc</th></tr>\n",
       "\t<tr><th scope=col>&lt;chr&gt;</th><th scope=col>&lt;int&gt;</th><th scope=col>&lt;int&gt;</th><th scope=col>&lt;int&gt;</th><th scope=col>&lt;chr&gt;</th><th scope=col>&lt;int&gt;</th></tr>\n",
       "</thead>\n",
       "<tbody>\n",
       "\t<tr><td>chrX</td><td>48780000</td><td>48780001</td><td>554</td><td>Input_rep1</td><td>48780001</td></tr>\n",
       "\t<tr><td>chrX</td><td>48780001</td><td>48780002</td><td>609</td><td>Input_rep1</td><td>48780002</td></tr>\n",
       "\t<tr><td>chrX</td><td>48780002</td><td>48780003</td><td>609</td><td>Input_rep1</td><td>48780003</td></tr>\n",
       "\t<tr><td>chrX</td><td>48780003</td><td>48780004</td><td>609</td><td>Input_rep1</td><td>48780004</td></tr>\n",
       "\t<tr><td>chrX</td><td>48780004</td><td>48780005</td><td>609</td><td>Input_rep1</td><td>48780005</td></tr>\n",
       "\t<tr><td>chrX</td><td>48780005</td><td>48780006</td><td>609</td><td>Input_rep1</td><td>48780006</td></tr>\n",
       "</tbody>\n",
       "</table>\n"
      ],
      "text/latex": [
       "A tibble: 6 × 6\n",
       "\\begin{tabular}{llllll}\n",
       " Chrom & Start & End & Count & Sample & Loc\\\\\n",
       " <chr> & <int> & <int> & <int> & <chr> & <int>\\\\\n",
       "\\hline\n",
       "\t chrX & 48780000 & 48780001 & 554 & Input\\_rep1 & 48780001\\\\\n",
       "\t chrX & 48780001 & 48780002 & 609 & Input\\_rep1 & 48780002\\\\\n",
       "\t chrX & 48780002 & 48780003 & 609 & Input\\_rep1 & 48780003\\\\\n",
       "\t chrX & 48780003 & 48780004 & 609 & Input\\_rep1 & 48780004\\\\\n",
       "\t chrX & 48780004 & 48780005 & 609 & Input\\_rep1 & 48780005\\\\\n",
       "\t chrX & 48780005 & 48780006 & 609 & Input\\_rep1 & 48780006\\\\\n",
       "\\end{tabular}\n"
      ],
      "text/markdown": [
       "\n",
       "A tibble: 6 × 6\n",
       "\n",
       "| Chrom &lt;chr&gt; | Start &lt;int&gt; | End &lt;int&gt; | Count &lt;int&gt; | Sample &lt;chr&gt; | Loc &lt;int&gt; |\n",
       "|---|---|---|---|---|---|\n",
       "| chrX | 48780000 | 48780001 | 554 | Input_rep1 | 48780001 |\n",
       "| chrX | 48780001 | 48780002 | 609 | Input_rep1 | 48780002 |\n",
       "| chrX | 48780002 | 48780003 | 609 | Input_rep1 | 48780003 |\n",
       "| chrX | 48780003 | 48780004 | 609 | Input_rep1 | 48780004 |\n",
       "| chrX | 48780004 | 48780005 | 609 | Input_rep1 | 48780005 |\n",
       "| chrX | 48780005 | 48780006 | 609 | Input_rep1 | 48780006 |\n",
       "\n"
      ],
      "text/plain": [
       "  Chrom Start    End      Count Sample     Loc     \n",
       "1 chrX  48780000 48780001 554   Input_rep1 48780001\n",
       "2 chrX  48780001 48780002 609   Input_rep1 48780002\n",
       "3 chrX  48780002 48780003 609   Input_rep1 48780003\n",
       "4 chrX  48780003 48780004 609   Input_rep1 48780004\n",
       "5 chrX  48780004 48780005 609   Input_rep1 48780005\n",
       "6 chrX  48780005 48780006 609   Input_rep1 48780006"
      ]
     },
     "metadata": {},
     "output_type": "display_data"
    }
   ],
   "source": [
    "### where to visualize\n",
    "LOC_START  = 48780000\n",
    "LOC_END    = 48826000\n",
    "\n",
    "dat = bind_rows(dat_tmpra_gata1_inp, dat_tmpra_gata1_out)\n",
    "dat = dat %>% \n",
    "    dplyr::filter(Count != \".\") %>%\n",
    "    dplyr::filter(Start >= LOC_START, End <= LOC_END) %>%\n",
    "    dplyr::mutate(across(c(Start, End, Count), as.integer)) %>%\n",
    "    dplyr::mutate(Loc = End)\n",
    "    \n",
    "head(dat)"
   ]
  },
  {
   "cell_type": "code",
   "execution_count": 8,
   "id": "19a31efc",
   "metadata": {},
   "outputs": [
    {
     "data": {
      "image/png": "[encoded data removed]",
      "text/plain": [
       "plot without title"
      ]
     },
     "metadata": {
      "image/png": {
       "height": 360,
       "width": 480
      }
     },
     "output_type": "display_data"
    }
   ],
   "source": [
    "gpt = ggplot(dat, aes(x=Loc, Count)) + geom_line() + theme_cowplot() + facet_grid(Sample~.)\n",
    "options(repr.plot.height=6, repr.plot.width=8)\n",
    "print(gpt)"
   ]
  },
  {
   "cell_type": "code",
   "execution_count": null,
   "id": "4a7aad12",
   "metadata": {},
   "outputs": [],
   "source": []
  }
 ],
 "metadata": {
  "kernelspec": {
   "display_name": "R",
   "language": "R",
   "name": "ir"
  },
  "language_info": {
   "codemirror_mode": "r",
   "file_extension": ".r",
   "mimetype": "text/x-r-source",
   "name": "R",
   "pygments_lexer": "r",
   "version": "4.2.0"
  }
 },
 "nbformat": 4,
 "nbformat_minor": 5
}
