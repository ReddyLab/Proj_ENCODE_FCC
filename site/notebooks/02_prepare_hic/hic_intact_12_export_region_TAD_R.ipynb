{
 "cells": [
  {
   "cell_type": "raw",
   "id": "d40f3cbc-0c06-485a-ab4f-b8fb4fe5394b",
   "metadata": {},
   "source": [
    "---\n",
    "title: Prepare Hi-C data 12 (intact Hi-C)\n",
    "subtitle: Prepare data (TAD)\n",
    "format:\n",
    "    html:\n",
    "        code-fold:  true\n",
    "        code-tools: true\n",
    "---"
   ]
  },
  {
   "cell_type": "markdown",
   "id": "958410ad-443c-4209-88d7-aef543ba6568",
   "metadata": {},
   "source": [
    "**Set environment**"
   ]
  },
  {
   "cell_type": "code",
   "execution_count": 1,
   "id": "a9db50c4-8f79-43a6-9c8c-ba94405997e0",
   "metadata": {
    "tags": []
   },
   "outputs": [
    {
     "name": "stdout",
     "output_type": "stream",
     "text": [
      "You are working on        Singularity: singularity_proj_encode_fcc \n",
      "BASE DIRECTORY (FD_BASE): /data/reddylab/Kuei \n",
      "REPO DIRECTORY (FD_REPO): /data/reddylab/Kuei/repo \n",
      "WORK DIRECTORY (FD_WORK): /data/reddylab/Kuei/work \n",
      "DATA DIRECTORY (FD_DATA): /data/reddylab/Kuei/data \n",
      "\n",
      "You are working with      ENCODE FCC \n",
      "PATH OF PROJECT (FD_PRJ): /data/reddylab/Kuei/repo/Proj_ENCODE_FCC \n",
      "PROJECT RESULTS (FD_RES): /data/reddylab/Kuei/repo/Proj_ENCODE_FCC/results \n",
      "PROJECT SCRIPTS (FD_EXE): /data/reddylab/Kuei/repo/Proj_ENCODE_FCC/scripts \n",
      "PROJECT DATA    (FD_DAT): /data/reddylab/Kuei/repo/Proj_ENCODE_FCC/data \n",
      "PROJECT NOTE    (FD_NBK): /data/reddylab/Kuei/repo/Proj_ENCODE_FCC/notebooks \n",
      "PROJECT DOCS    (FD_DOC): /data/reddylab/Kuei/repo/Proj_ENCODE_FCC/docs \n",
      "PROJECT LOG     (FD_LOG): /data/reddylab/Kuei/repo/Proj_ENCODE_FCC/log \n",
      "PROJECT REF     (FD_REF): /data/reddylab/Kuei/repo/Proj_ENCODE_FCC/references \n",
      "\n"
     ]
    }
   ],
   "source": [
    "suppressMessages(suppressWarnings(source(\"../run_config_project_sing.R\")))\n",
    "show_env()"
   ]
  },
  {
   "cell_type": "markdown",
   "id": "0053d1d1-0a04-4691-abff-277216ac0a81",
   "metadata": {},
   "source": [
    "**Set global variables**"
   ]
  },
  {
   "cell_type": "code",
   "execution_count": 2,
   "id": "7644756e-74d1-43dd-8181-da10a1afdfaa",
   "metadata": {},
   "outputs": [],
   "source": [
    "TXT_FOLDER_REGION = \"hic_intact_K562_ENCSR479XDG\"\n",
    "TXT_ASSAY = \"hic_intact\"\n",
    "TXT_INDEX = \"ENCSR479XDG\""
   ]
  },
  {
   "cell_type": "markdown",
   "id": "acee2d1d-b935-493d-8747-32d89a497902",
   "metadata": {},
   "source": [
    "## Import data"
   ]
  },
  {
   "cell_type": "markdown",
   "id": "9fb1c3d1-ca5e-45dd-87d1-a9962365b7b2",
   "metadata": {},
   "source": [
    "**View files**"
   ]
  },
  {
   "cell_type": "code",
   "execution_count": 3,
   "id": "eb37b40d-3182-4210-bb7d-d77734c7dd87",
   "metadata": {},
   "outputs": [
    {
     "name": "stdout",
     "output_type": "stream",
     "text": [
      "K562.hg38.ENCSR479XDG.ENCFF126GED.hic_intact.contact_domain.bedpe.gz \n",
      "K562.hg38.ENCSR479XDG.ENCFF256ZMD.hic_intact.loop.bedpe.gz \n",
      "K562.hg38.ENCSR479XDG.ENCFF621AIY.hic_intact.matrix.hic \n",
      "run_download.log.txt \n",
      "run_download.sh \n"
     ]
    }
   ],
   "source": [
    "txt_folder = TXT_FOLDER_REGION\n",
    "txt_fdiry  = file.path(FD_DAT, \"external\", txt_folder)\n",
    "\n",
    "vec = dir(txt_fdiry)\n",
    "for (txt in vec){cat(txt, \"\\n\")}"
   ]
  },
  {
   "cell_type": "markdown",
   "id": "09c56124-20b5-4ba3-becd-833fc1682034",
   "metadata": {},
   "source": [
    "**Import data**"
   ]
  },
  {
   "cell_type": "code",
   "execution_count": 4,
   "id": "302be243-7e58-4321-9217-7892fb353b0b",
   "metadata": {},
   "outputs": [
    {
     "name": "stderr",
     "output_type": "stream",
     "text": [
      "\u001b[1m\u001b[22mNew names:\n",
      "\u001b[36m•\u001b[39m `score` -> `score...8`\n",
      "\u001b[36m•\u001b[39m `score` -> `score...12`\n",
      "Warning message:\n",
      "“\u001b[1m\u001b[22mOne or more parsing issues, call `problems()` on your data frame for details,\n",
      "e.g.:\n",
      "  dat <- vroom(...)\n",
      "  problems(dat)”\n"
     ]
    },
    {
     "name": "stdout",
     "output_type": "stream",
     "text": [
      "[1] 4348   16\n"
     ]
    },
    {
     "data": {
      "text/html": [
       "<table>\n",
       " <thead>\n",
       "  <tr>\n",
       "   <th style=\"text-align:left;\"> chr </th>\n",
       "   <th style=\"text-align:right;\"> x1 </th>\n",
       "   <th style=\"text-align:right;\"> x2 </th>\n",
       "   <th style=\"text-align:left;\"> chr2 </th>\n",
       "   <th style=\"text-align:right;\"> y1 </th>\n",
       "   <th style=\"text-align:right;\"> y2 </th>\n",
       "   <th style=\"text-align:left;\"> name </th>\n",
       "   <th style=\"text-align:left;\"> score...8 </th>\n",
       "   <th style=\"text-align:left;\"> strand1 </th>\n",
       "   <th style=\"text-align:left;\"> strand2 </th>\n",
       "   <th style=\"text-align:right;\"> color </th>\n",
       "   <th style=\"text-align:right;\"> score...12 </th>\n",
       "   <th style=\"text-align:right;\"> uVarScore </th>\n",
       "   <th style=\"text-align:right;\"> lVarScore </th>\n",
       "   <th style=\"text-align:right;\"> upSign </th>\n",
       "   <th style=\"text-align:right;\"> loSign </th>\n",
       "  </tr>\n",
       " </thead>\n",
       "<tbody>\n",
       "  <tr>\n",
       "   <td style=\"text-align:left;\"> chr10 </td>\n",
       "   <td style=\"text-align:right;\"> 89790000 </td>\n",
       "   <td style=\"text-align:right;\"> 90730000 </td>\n",
       "   <td style=\"text-align:left;\"> chr10 </td>\n",
       "   <td style=\"text-align:right;\"> 89790000 </td>\n",
       "   <td style=\"text-align:right;\"> 90730000 </td>\n",
       "   <td style=\"text-align:left;\"> . </td>\n",
       "   <td style=\"text-align:left;\"> . </td>\n",
       "   <td style=\"text-align:left;\"> . </td>\n",
       "   <td style=\"text-align:left;\"> . </td>\n",
       "   <td style=\"text-align:right;\"> 2552550 </td>\n",
       "   <td style=\"text-align:right;\"> 0.4873343 </td>\n",
       "   <td style=\"text-align:right;\"> 0.4321875 </td>\n",
       "   <td style=\"text-align:right;\"> 0.3910142 </td>\n",
       "   <td style=\"text-align:right;\"> 0.4366181 </td>\n",
       "   <td style=\"text-align:right;\"> 0.5132139 </td>\n",
       "  </tr>\n",
       "  <tr>\n",
       "   <td style=\"text-align:left;\"> chr10 </td>\n",
       "   <td style=\"text-align:right;\"> 117485000 </td>\n",
       "   <td style=\"text-align:right;\"> 118260000 </td>\n",
       "   <td style=\"text-align:left;\"> chr10 </td>\n",
       "   <td style=\"text-align:right;\"> 117485000 </td>\n",
       "   <td style=\"text-align:right;\"> 118260000 </td>\n",
       "   <td style=\"text-align:left;\"> . </td>\n",
       "   <td style=\"text-align:left;\"> . </td>\n",
       "   <td style=\"text-align:left;\"> . </td>\n",
       "   <td style=\"text-align:left;\"> . </td>\n",
       "   <td style=\"text-align:right;\"> 2552550 </td>\n",
       "   <td style=\"text-align:right;\"> 0.4714600 </td>\n",
       "   <td style=\"text-align:right;\"> 0.4038806 </td>\n",
       "   <td style=\"text-align:right;\"> 0.4028087 </td>\n",
       "   <td style=\"text-align:right;\"> 0.4469099 </td>\n",
       "   <td style=\"text-align:right;\"> 0.4451019 </td>\n",
       "  </tr>\n",
       "  <tr>\n",
       "   <td style=\"text-align:left;\"> chr10 </td>\n",
       "   <td style=\"text-align:right;\"> 51125000 </td>\n",
       "   <td style=\"text-align:right;\"> 52215000 </td>\n",
       "   <td style=\"text-align:left;\"> chr10 </td>\n",
       "   <td style=\"text-align:right;\"> 51125000 </td>\n",
       "   <td style=\"text-align:right;\"> 52215000 </td>\n",
       "   <td style=\"text-align:left;\"> . </td>\n",
       "   <td style=\"text-align:left;\"> . </td>\n",
       "   <td style=\"text-align:left;\"> . </td>\n",
       "   <td style=\"text-align:left;\"> . </td>\n",
       "   <td style=\"text-align:right;\"> 2552550 </td>\n",
       "   <td style=\"text-align:right;\"> 0.5757076 </td>\n",
       "   <td style=\"text-align:right;\"> 0.3855988 </td>\n",
       "   <td style=\"text-align:right;\"> 0.3954850 </td>\n",
       "   <td style=\"text-align:right;\"> 0.4712260 </td>\n",
       "   <td style=\"text-align:right;\"> 0.4000834 </td>\n",
       "  </tr>\n",
       "  <tr>\n",
       "   <td style=\"text-align:left;\"> chr10 </td>\n",
       "   <td style=\"text-align:right;\"> 112495000 </td>\n",
       "   <td style=\"text-align:right;\"> 113565000 </td>\n",
       "   <td style=\"text-align:left;\"> chr10 </td>\n",
       "   <td style=\"text-align:right;\"> 112495000 </td>\n",
       "   <td style=\"text-align:right;\"> 113565000 </td>\n",
       "   <td style=\"text-align:left;\"> . </td>\n",
       "   <td style=\"text-align:left;\"> . </td>\n",
       "   <td style=\"text-align:left;\"> . </td>\n",
       "   <td style=\"text-align:left;\"> . </td>\n",
       "   <td style=\"text-align:right;\"> 2552550 </td>\n",
       "   <td style=\"text-align:right;\"> 0.6096007 </td>\n",
       "   <td style=\"text-align:right;\"> 0.3796908 </td>\n",
       "   <td style=\"text-align:right;\"> 0.3952655 </td>\n",
       "   <td style=\"text-align:right;\"> 0.5317584 </td>\n",
       "   <td style=\"text-align:right;\"> 0.4613188 </td>\n",
       "  </tr>\n",
       "  <tr>\n",
       "   <td style=\"text-align:left;\"> chr10 </td>\n",
       "   <td style=\"text-align:right;\"> 84540000 </td>\n",
       "   <td style=\"text-align:right;\"> 86085000 </td>\n",
       "   <td style=\"text-align:left;\"> chr10 </td>\n",
       "   <td style=\"text-align:right;\"> 84540000 </td>\n",
       "   <td style=\"text-align:right;\"> 86085000 </td>\n",
       "   <td style=\"text-align:left;\"> . </td>\n",
       "   <td style=\"text-align:left;\"> . </td>\n",
       "   <td style=\"text-align:left;\"> . </td>\n",
       "   <td style=\"text-align:left;\"> . </td>\n",
       "   <td style=\"text-align:right;\"> 2552550 </td>\n",
       "   <td style=\"text-align:right;\"> 0.5786491 </td>\n",
       "   <td style=\"text-align:right;\"> 0.4119491 </td>\n",
       "   <td style=\"text-align:right;\"> 0.3597105 </td>\n",
       "   <td style=\"text-align:right;\"> 0.4424142 </td>\n",
       "   <td style=\"text-align:right;\"> 0.4804162 </td>\n",
       "  </tr>\n",
       "  <tr>\n",
       "   <td style=\"text-align:left;\"> chr10 </td>\n",
       "   <td style=\"text-align:right;\"> 94665000 </td>\n",
       "   <td style=\"text-align:right;\"> 95075000 </td>\n",
       "   <td style=\"text-align:left;\"> chr10 </td>\n",
       "   <td style=\"text-align:right;\"> 94665000 </td>\n",
       "   <td style=\"text-align:right;\"> 95075000 </td>\n",
       "   <td style=\"text-align:left;\"> . </td>\n",
       "   <td style=\"text-align:left;\"> . </td>\n",
       "   <td style=\"text-align:left;\"> . </td>\n",
       "   <td style=\"text-align:left;\"> . </td>\n",
       "   <td style=\"text-align:right;\"> 2552550 </td>\n",
       "   <td style=\"text-align:right;\"> 0.6267519 </td>\n",
       "   <td style=\"text-align:right;\"> 0.3811024 </td>\n",
       "   <td style=\"text-align:right;\"> 0.3788707 </td>\n",
       "   <td style=\"text-align:right;\"> 0.5000000 </td>\n",
       "   <td style=\"text-align:right;\"> 0.4018583 </td>\n",
       "  </tr>\n",
       "</tbody>\n",
       "</table>"
      ]
     },
     "metadata": {},
     "output_type": "display_data"
    }
   ],
   "source": [
    "### set file path\n",
    "txt_folder = TXT_FOLDER_REGION\n",
    "txt_fdiry  = file.path(FD_DAT, \"external\", txt_folder)\n",
    "txt_fname = \"K562.hg38.ENCSR479XDG.ENCFF126GED.hic_intact.contact_domain.bedpe.gz\"\n",
    "txt_fpath = file.path(txt_fdiry, txt_fname)\n",
    "\n",
    "### read table\n",
    "dat = read_tsv(txt_fpath, show_col_types = FALSE)\n",
    "\n",
    "### arrange columns\n",
    "dat = dat %>% dplyr::filter(!row_number() == 1)\n",
    "colnames(dat)[1] = \"chr\"\n",
    "\n",
    "### assign and show\n",
    "dat_region_import = dat\n",
    "print(dim(dat))\n",
    "fun_display_table(head(dat))"
   ]
  },
  {
   "cell_type": "code",
   "execution_count": 5,
   "id": "c4593907-fbca-4ba1-a85a-a2201920130f",
   "metadata": {},
   "outputs": [
    {
     "data": {
      "text/html": [
       "<style>\n",
       ".list-inline {list-style: none; margin:0; padding: 0}\n",
       ".list-inline>li {display: inline-block}\n",
       ".list-inline>li:not(:last-child)::after {content: \"\\00b7\"; padding: 0 .5ex}\n",
       "</style>\n",
       "<ol class=list-inline><li>'chr'</li><li>'x1'</li><li>'x2'</li><li>'chr2'</li><li>'y1'</li><li>'y2'</li><li>'name'</li><li>'score...8'</li><li>'strand1'</li><li>'strand2'</li><li>'color'</li><li>'score...12'</li><li>'uVarScore'</li><li>'lVarScore'</li><li>'upSign'</li><li>'loSign'</li></ol>\n"
      ],
      "text/latex": [
       "\\begin{enumerate*}\n",
       "\\item 'chr'\n",
       "\\item 'x1'\n",
       "\\item 'x2'\n",
       "\\item 'chr2'\n",
       "\\item 'y1'\n",
       "\\item 'y2'\n",
       "\\item 'name'\n",
       "\\item 'score...8'\n",
       "\\item 'strand1'\n",
       "\\item 'strand2'\n",
       "\\item 'color'\n",
       "\\item 'score...12'\n",
       "\\item 'uVarScore'\n",
       "\\item 'lVarScore'\n",
       "\\item 'upSign'\n",
       "\\item 'loSign'\n",
       "\\end{enumerate*}\n"
      ],
      "text/markdown": [
       "1. 'chr'\n",
       "2. 'x1'\n",
       "3. 'x2'\n",
       "4. 'chr2'\n",
       "5. 'y1'\n",
       "6. 'y2'\n",
       "7. 'name'\n",
       "8. 'score...8'\n",
       "9. 'strand1'\n",
       "10. 'strand2'\n",
       "11. 'color'\n",
       "12. 'score...12'\n",
       "13. 'uVarScore'\n",
       "14. 'lVarScore'\n",
       "15. 'upSign'\n",
       "16. 'loSign'\n",
       "\n",
       "\n"
      ],
      "text/plain": [
       " [1] \"chr\"        \"x1\"         \"x2\"         \"chr2\"       \"y1\"        \n",
       " [6] \"y2\"         \"name\"       \"score...8\"  \"strand1\"    \"strand2\"   \n",
       "[11] \"color\"      \"score...12\" \"uVarScore\"  \"lVarScore\"  \"upSign\"    \n",
       "[16] \"loSign\"    "
      ]
     },
     "metadata": {},
     "output_type": "display_data"
    }
   ],
   "source": [
    "colnames(dat)"
   ]
  },
  {
   "cell_type": "markdown",
   "id": "2c699771-b241-4270-8363-8d0cf2e5e60a",
   "metadata": {},
   "source": [
    "## Rename columns"
   ]
  },
  {
   "cell_type": "code",
   "execution_count": 6,
   "id": "6c10a832-28b3-466a-9d22-9017daf9093b",
   "metadata": {},
   "outputs": [],
   "source": [
    "fun_toupper_first = function(txt_input){\n",
    "    txt_first  = toupper(substring(txt_input, 1, 1))\n",
    "    txt_rest   = substring(txt_input, 2)\n",
    "    txt_output = paste0(txt_first, txt_rest)\n",
    "    return(txt_output)\n",
    "}"
   ]
  },
  {
   "cell_type": "code",
   "execution_count": 7,
   "id": "29d157b1-cbf2-45f7-a9f4-8ceac24ebca0",
   "metadata": {},
   "outputs": [
    {
     "name": "stdout",
     "output_type": "stream",
     "text": [
      "[1] 4348   16\n"
     ]
    },
    {
     "data": {
      "text/html": [
       "<table>\n",
       " <thead>\n",
       "  <tr>\n",
       "   <th style=\"text-align:left;\"> Chrom_1 </th>\n",
       "   <th style=\"text-align:right;\"> ChromStart_1 </th>\n",
       "   <th style=\"text-align:right;\"> ChromEnd_1 </th>\n",
       "   <th style=\"text-align:left;\"> Chrom_2 </th>\n",
       "   <th style=\"text-align:right;\"> ChromStart_2 </th>\n",
       "   <th style=\"text-align:right;\"> ChromEnd_2 </th>\n",
       "   <th style=\"text-align:left;\"> Name </th>\n",
       "   <th style=\"text-align:left;\"> Score </th>\n",
       "   <th style=\"text-align:left;\"> Strand_1 </th>\n",
       "   <th style=\"text-align:left;\"> Strand_2 </th>\n",
       "   <th style=\"text-align:right;\"> Color </th>\n",
       "   <th style=\"text-align:right;\"> DomainScore </th>\n",
       "   <th style=\"text-align:right;\"> UVarScore </th>\n",
       "   <th style=\"text-align:right;\"> LVarScore </th>\n",
       "   <th style=\"text-align:right;\"> UpSign </th>\n",
       "   <th style=\"text-align:right;\"> LoSign </th>\n",
       "  </tr>\n",
       " </thead>\n",
       "<tbody>\n",
       "  <tr>\n",
       "   <td style=\"text-align:left;\"> chr10 </td>\n",
       "   <td style=\"text-align:right;\"> 89790000 </td>\n",
       "   <td style=\"text-align:right;\"> 90730000 </td>\n",
       "   <td style=\"text-align:left;\"> chr10 </td>\n",
       "   <td style=\"text-align:right;\"> 89790000 </td>\n",
       "   <td style=\"text-align:right;\"> 90730000 </td>\n",
       "   <td style=\"text-align:left;\"> . </td>\n",
       "   <td style=\"text-align:left;\"> . </td>\n",
       "   <td style=\"text-align:left;\"> . </td>\n",
       "   <td style=\"text-align:left;\"> . </td>\n",
       "   <td style=\"text-align:right;\"> 2552550 </td>\n",
       "   <td style=\"text-align:right;\"> 0.4873343 </td>\n",
       "   <td style=\"text-align:right;\"> 0.4321875 </td>\n",
       "   <td style=\"text-align:right;\"> 0.3910142 </td>\n",
       "   <td style=\"text-align:right;\"> 0.4366181 </td>\n",
       "   <td style=\"text-align:right;\"> 0.5132139 </td>\n",
       "  </tr>\n",
       "  <tr>\n",
       "   <td style=\"text-align:left;\"> chr10 </td>\n",
       "   <td style=\"text-align:right;\"> 117485000 </td>\n",
       "   <td style=\"text-align:right;\"> 118260000 </td>\n",
       "   <td style=\"text-align:left;\"> chr10 </td>\n",
       "   <td style=\"text-align:right;\"> 117485000 </td>\n",
       "   <td style=\"text-align:right;\"> 118260000 </td>\n",
       "   <td style=\"text-align:left;\"> . </td>\n",
       "   <td style=\"text-align:left;\"> . </td>\n",
       "   <td style=\"text-align:left;\"> . </td>\n",
       "   <td style=\"text-align:left;\"> . </td>\n",
       "   <td style=\"text-align:right;\"> 2552550 </td>\n",
       "   <td style=\"text-align:right;\"> 0.4714600 </td>\n",
       "   <td style=\"text-align:right;\"> 0.4038806 </td>\n",
       "   <td style=\"text-align:right;\"> 0.4028087 </td>\n",
       "   <td style=\"text-align:right;\"> 0.4469099 </td>\n",
       "   <td style=\"text-align:right;\"> 0.4451019 </td>\n",
       "  </tr>\n",
       "  <tr>\n",
       "   <td style=\"text-align:left;\"> chr10 </td>\n",
       "   <td style=\"text-align:right;\"> 51125000 </td>\n",
       "   <td style=\"text-align:right;\"> 52215000 </td>\n",
       "   <td style=\"text-align:left;\"> chr10 </td>\n",
       "   <td style=\"text-align:right;\"> 51125000 </td>\n",
       "   <td style=\"text-align:right;\"> 52215000 </td>\n",
       "   <td style=\"text-align:left;\"> . </td>\n",
       "   <td style=\"text-align:left;\"> . </td>\n",
       "   <td style=\"text-align:left;\"> . </td>\n",
       "   <td style=\"text-align:left;\"> . </td>\n",
       "   <td style=\"text-align:right;\"> 2552550 </td>\n",
       "   <td style=\"text-align:right;\"> 0.5757076 </td>\n",
       "   <td style=\"text-align:right;\"> 0.3855988 </td>\n",
       "   <td style=\"text-align:right;\"> 0.3954850 </td>\n",
       "   <td style=\"text-align:right;\"> 0.4712260 </td>\n",
       "   <td style=\"text-align:right;\"> 0.4000834 </td>\n",
       "  </tr>\n",
       "  <tr>\n",
       "   <td style=\"text-align:left;\"> chr10 </td>\n",
       "   <td style=\"text-align:right;\"> 112495000 </td>\n",
       "   <td style=\"text-align:right;\"> 113565000 </td>\n",
       "   <td style=\"text-align:left;\"> chr10 </td>\n",
       "   <td style=\"text-align:right;\"> 112495000 </td>\n",
       "   <td style=\"text-align:right;\"> 113565000 </td>\n",
       "   <td style=\"text-align:left;\"> . </td>\n",
       "   <td style=\"text-align:left;\"> . </td>\n",
       "   <td style=\"text-align:left;\"> . </td>\n",
       "   <td style=\"text-align:left;\"> . </td>\n",
       "   <td style=\"text-align:right;\"> 2552550 </td>\n",
       "   <td style=\"text-align:right;\"> 0.6096007 </td>\n",
       "   <td style=\"text-align:right;\"> 0.3796908 </td>\n",
       "   <td style=\"text-align:right;\"> 0.3952655 </td>\n",
       "   <td style=\"text-align:right;\"> 0.5317584 </td>\n",
       "   <td style=\"text-align:right;\"> 0.4613188 </td>\n",
       "  </tr>\n",
       "  <tr>\n",
       "   <td style=\"text-align:left;\"> chr10 </td>\n",
       "   <td style=\"text-align:right;\"> 84540000 </td>\n",
       "   <td style=\"text-align:right;\"> 86085000 </td>\n",
       "   <td style=\"text-align:left;\"> chr10 </td>\n",
       "   <td style=\"text-align:right;\"> 84540000 </td>\n",
       "   <td style=\"text-align:right;\"> 86085000 </td>\n",
       "   <td style=\"text-align:left;\"> . </td>\n",
       "   <td style=\"text-align:left;\"> . </td>\n",
       "   <td style=\"text-align:left;\"> . </td>\n",
       "   <td style=\"text-align:left;\"> . </td>\n",
       "   <td style=\"text-align:right;\"> 2552550 </td>\n",
       "   <td style=\"text-align:right;\"> 0.5786491 </td>\n",
       "   <td style=\"text-align:right;\"> 0.4119491 </td>\n",
       "   <td style=\"text-align:right;\"> 0.3597105 </td>\n",
       "   <td style=\"text-align:right;\"> 0.4424142 </td>\n",
       "   <td style=\"text-align:right;\"> 0.4804162 </td>\n",
       "  </tr>\n",
       "  <tr>\n",
       "   <td style=\"text-align:left;\"> chr10 </td>\n",
       "   <td style=\"text-align:right;\"> 94665000 </td>\n",
       "   <td style=\"text-align:right;\"> 95075000 </td>\n",
       "   <td style=\"text-align:left;\"> chr10 </td>\n",
       "   <td style=\"text-align:right;\"> 94665000 </td>\n",
       "   <td style=\"text-align:right;\"> 95075000 </td>\n",
       "   <td style=\"text-align:left;\"> . </td>\n",
       "   <td style=\"text-align:left;\"> . </td>\n",
       "   <td style=\"text-align:left;\"> . </td>\n",
       "   <td style=\"text-align:left;\"> . </td>\n",
       "   <td style=\"text-align:right;\"> 2552550 </td>\n",
       "   <td style=\"text-align:right;\"> 0.6267519 </td>\n",
       "   <td style=\"text-align:right;\"> 0.3811024 </td>\n",
       "   <td style=\"text-align:right;\"> 0.3788707 </td>\n",
       "   <td style=\"text-align:right;\"> 0.5000000 </td>\n",
       "   <td style=\"text-align:right;\"> 0.4018583 </td>\n",
       "  </tr>\n",
       "</tbody>\n",
       "</table>"
      ]
     },
     "metadata": {},
     "output_type": "display_data"
    }
   ],
   "source": [
    "### init\n",
    "dat = dat_region_import\n",
    "\n",
    "### rename location\n",
    "vec = c(\n",
    "    \"Chrom_1\", \"ChromStart_1\", \"ChromEnd_1\",\n",
    "    \"Chrom_2\", \"ChromStart_2\", \"ChromEnd_2\"\n",
    ")\n",
    "colnames(dat)[1:6] = vec\n",
    "\n",
    "### captialize the first letter\n",
    "vec = colnames(dat)\n",
    "vec = fun_toupper_first(vec)\n",
    "\n",
    "### rename score and centroid\n",
    "vec = dplyr::recode(\n",
    "    vec, \n",
    "    \"Score...8\"  = \"Score\", \n",
    "    \"Score...12\" = \"DomainScore\",\n",
    "    \"Strand1\"    = \"Strand_1\", \n",
    "    \"Strand2\"    = \"Strand_2\"\n",
    ")\n",
    "colnames(dat) = vec\n",
    "\n",
    "### assign and show\n",
    "dat_region_rename = dat\n",
    "print(dim(dat))\n",
    "fun_display_table(head(dat))"
   ]
  },
  {
   "cell_type": "markdown",
   "id": "38f8025d-9931-46e8-9ddd-ebf1b4df5f01",
   "metadata": {},
   "source": [
    "**Explore**"
   ]
  },
  {
   "cell_type": "code",
   "execution_count": 8,
   "id": "12c31c44-0337-4b21-9b45-bf4ea5a3f2a2",
   "metadata": {},
   "outputs": [
    {
     "name": "stdout",
     "output_type": "stream",
     "text": [
      "Chrom:      TRUE \n",
      "ChromStart: TRUE \n",
      "ChromEnd:   TRUE \n"
     ]
    }
   ],
   "source": [
    "dat = dat_region_rename\n",
    "cat(\"Chrom:     \", all(dat$Chrom_1      == dat$Chrom_2),      \"\\n\")\n",
    "cat(\"ChromStart:\", all(dat$ChromStart_1 == dat$ChromStart_2), \"\\n\")\n",
    "cat(\"ChromEnd:  \", all(dat$ChromEnd_1   == dat$ChromEnd_2),   \"\\n\")"
   ]
  },
  {
   "cell_type": "markdown",
   "id": "478cc601-c558-4635-a20f-90694231ac36",
   "metadata": {},
   "source": [
    "## Arrange table"
   ]
  },
  {
   "cell_type": "code",
   "execution_count": 9,
   "id": "d79c27bc-c512-4f06-93ce-586be420f57e",
   "metadata": {},
   "outputs": [
    {
     "name": "stdout",
     "output_type": "stream",
     "text": [
      "[1] 4348   18\n"
     ]
    },
    {
     "data": {
      "text/html": [
       "<table>\n",
       " <thead>\n",
       "  <tr>\n",
       "   <th style=\"text-align:left;\"> Chrom_1 </th>\n",
       "   <th style=\"text-align:right;\"> ChromStart_1 </th>\n",
       "   <th style=\"text-align:right;\"> ChromEnd_1 </th>\n",
       "   <th style=\"text-align:left;\"> Chrom_2 </th>\n",
       "   <th style=\"text-align:right;\"> ChromStart_2 </th>\n",
       "   <th style=\"text-align:right;\"> ChromEnd_2 </th>\n",
       "   <th style=\"text-align:left;\"> Name </th>\n",
       "   <th style=\"text-align:left;\"> Score </th>\n",
       "   <th style=\"text-align:left;\"> Strand_1 </th>\n",
       "   <th style=\"text-align:left;\"> Strand_2 </th>\n",
       "   <th style=\"text-align:right;\"> Color </th>\n",
       "   <th style=\"text-align:right;\"> DomainScore </th>\n",
       "   <th style=\"text-align:right;\"> UVarScore </th>\n",
       "   <th style=\"text-align:right;\"> LVarScore </th>\n",
       "   <th style=\"text-align:right;\"> UpSign </th>\n",
       "   <th style=\"text-align:right;\"> LoSign </th>\n",
       "   <th style=\"text-align:left;\"> Region </th>\n",
       "   <th style=\"text-align:right;\"> Size </th>\n",
       "  </tr>\n",
       " </thead>\n",
       "<tbody>\n",
       "  <tr>\n",
       "   <td style=\"text-align:left;\"> chr10 </td>\n",
       "   <td style=\"text-align:right;\"> 89790000 </td>\n",
       "   <td style=\"text-align:right;\"> 90730000 </td>\n",
       "   <td style=\"text-align:left;\"> chr10 </td>\n",
       "   <td style=\"text-align:right;\"> 89790000 </td>\n",
       "   <td style=\"text-align:right;\"> 90730000 </td>\n",
       "   <td style=\"text-align:left;\"> . </td>\n",
       "   <td style=\"text-align:left;\"> . </td>\n",
       "   <td style=\"text-align:left;\"> . </td>\n",
       "   <td style=\"text-align:left;\"> . </td>\n",
       "   <td style=\"text-align:right;\"> 2552550 </td>\n",
       "   <td style=\"text-align:right;\"> 0.4873343 </td>\n",
       "   <td style=\"text-align:right;\"> 0.4321875 </td>\n",
       "   <td style=\"text-align:right;\"> 0.3910142 </td>\n",
       "   <td style=\"text-align:right;\"> 0.4366181 </td>\n",
       "   <td style=\"text-align:right;\"> 0.5132139 </td>\n",
       "   <td style=\"text-align:left;\"> chr10:89790000-90730000 </td>\n",
       "   <td style=\"text-align:right;\"> 940000 </td>\n",
       "  </tr>\n",
       "  <tr>\n",
       "   <td style=\"text-align:left;\"> chr10 </td>\n",
       "   <td style=\"text-align:right;\"> 117485000 </td>\n",
       "   <td style=\"text-align:right;\"> 118260000 </td>\n",
       "   <td style=\"text-align:left;\"> chr10 </td>\n",
       "   <td style=\"text-align:right;\"> 117485000 </td>\n",
       "   <td style=\"text-align:right;\"> 118260000 </td>\n",
       "   <td style=\"text-align:left;\"> . </td>\n",
       "   <td style=\"text-align:left;\"> . </td>\n",
       "   <td style=\"text-align:left;\"> . </td>\n",
       "   <td style=\"text-align:left;\"> . </td>\n",
       "   <td style=\"text-align:right;\"> 2552550 </td>\n",
       "   <td style=\"text-align:right;\"> 0.4714600 </td>\n",
       "   <td style=\"text-align:right;\"> 0.4038806 </td>\n",
       "   <td style=\"text-align:right;\"> 0.4028087 </td>\n",
       "   <td style=\"text-align:right;\"> 0.4469099 </td>\n",
       "   <td style=\"text-align:right;\"> 0.4451019 </td>\n",
       "   <td style=\"text-align:left;\"> chr10:117485000-118260000 </td>\n",
       "   <td style=\"text-align:right;\"> 775000 </td>\n",
       "  </tr>\n",
       "  <tr>\n",
       "   <td style=\"text-align:left;\"> chr10 </td>\n",
       "   <td style=\"text-align:right;\"> 51125000 </td>\n",
       "   <td style=\"text-align:right;\"> 52215000 </td>\n",
       "   <td style=\"text-align:left;\"> chr10 </td>\n",
       "   <td style=\"text-align:right;\"> 51125000 </td>\n",
       "   <td style=\"text-align:right;\"> 52215000 </td>\n",
       "   <td style=\"text-align:left;\"> . </td>\n",
       "   <td style=\"text-align:left;\"> . </td>\n",
       "   <td style=\"text-align:left;\"> . </td>\n",
       "   <td style=\"text-align:left;\"> . </td>\n",
       "   <td style=\"text-align:right;\"> 2552550 </td>\n",
       "   <td style=\"text-align:right;\"> 0.5757076 </td>\n",
       "   <td style=\"text-align:right;\"> 0.3855988 </td>\n",
       "   <td style=\"text-align:right;\"> 0.3954850 </td>\n",
       "   <td style=\"text-align:right;\"> 0.4712260 </td>\n",
       "   <td style=\"text-align:right;\"> 0.4000834 </td>\n",
       "   <td style=\"text-align:left;\"> chr10:51125000-52215000 </td>\n",
       "   <td style=\"text-align:right;\"> 1090000 </td>\n",
       "  </tr>\n",
       "</tbody>\n",
       "</table>"
      ]
     },
     "metadata": {},
     "output_type": "display_data"
    }
   ],
   "source": [
    "### init\n",
    "dat = dat_region_rename\n",
    "\n",
    "### arrange columns\n",
    "dat = dat %>% \n",
    "    dplyr::mutate(\n",
    "        Region = fun_gen_region(Chrom_1, ChromStart_1, ChromEnd_1),\n",
    "        Size   = ChromEnd_1 - ChromStart_1\n",
    "    )\n",
    "\n",
    "### assign and show\n",
    "dat_region_arrange = dat\n",
    "print(dim(dat))\n",
    "fun_display_table(head(dat, 3))"
   ]
  },
  {
   "cell_type": "markdown",
   "id": "f3ec9c9f-7a8a-4be0-ae54-31b37159c06c",
   "metadata": {},
   "source": [
    "## Prepare region"
   ]
  },
  {
   "cell_type": "code",
   "execution_count": 10,
   "id": "d543d777-4122-4211-b5df-b7f2a69251da",
   "metadata": {},
   "outputs": [
    {
     "name": "stdout",
     "output_type": "stream",
     "text": [
      "[1] 4348    6\n"
     ]
    },
    {
     "data": {
      "text/html": [
       "<table>\n",
       " <thead>\n",
       "  <tr>\n",
       "   <th style=\"text-align:left;\"> Chrom </th>\n",
       "   <th style=\"text-align:right;\"> ChromStart </th>\n",
       "   <th style=\"text-align:right;\"> ChromEnd </th>\n",
       "   <th style=\"text-align:left;\"> Region </th>\n",
       "   <th style=\"text-align:left;\"> Group </th>\n",
       "   <th style=\"text-align:left;\"> Label </th>\n",
       "  </tr>\n",
       " </thead>\n",
       "<tbody>\n",
       "  <tr>\n",
       "   <td style=\"text-align:left;\"> chr10 </td>\n",
       "   <td style=\"text-align:right;\"> 89790000 </td>\n",
       "   <td style=\"text-align:right;\"> 90730000 </td>\n",
       "   <td style=\"text-align:left;\"> chr10:89790000-90730000 </td>\n",
       "   <td style=\"text-align:left;\"> hic_intact </td>\n",
       "   <td style=\"text-align:left;\"> TAD </td>\n",
       "  </tr>\n",
       "  <tr>\n",
       "   <td style=\"text-align:left;\"> chr10 </td>\n",
       "   <td style=\"text-align:right;\"> 117485000 </td>\n",
       "   <td style=\"text-align:right;\"> 118260000 </td>\n",
       "   <td style=\"text-align:left;\"> chr10:117485000-118260000 </td>\n",
       "   <td style=\"text-align:left;\"> hic_intact </td>\n",
       "   <td style=\"text-align:left;\"> TAD </td>\n",
       "  </tr>\n",
       "  <tr>\n",
       "   <td style=\"text-align:left;\"> chr10 </td>\n",
       "   <td style=\"text-align:right;\"> 51125000 </td>\n",
       "   <td style=\"text-align:right;\"> 52215000 </td>\n",
       "   <td style=\"text-align:left;\"> chr10:51125000-52215000 </td>\n",
       "   <td style=\"text-align:left;\"> hic_intact </td>\n",
       "   <td style=\"text-align:left;\"> TAD </td>\n",
       "  </tr>\n",
       "  <tr>\n",
       "   <td style=\"text-align:left;\"> chr10 </td>\n",
       "   <td style=\"text-align:right;\"> 112495000 </td>\n",
       "   <td style=\"text-align:right;\"> 113565000 </td>\n",
       "   <td style=\"text-align:left;\"> chr10:112495000-113565000 </td>\n",
       "   <td style=\"text-align:left;\"> hic_intact </td>\n",
       "   <td style=\"text-align:left;\"> TAD </td>\n",
       "  </tr>\n",
       "  <tr>\n",
       "   <td style=\"text-align:left;\"> chr10 </td>\n",
       "   <td style=\"text-align:right;\"> 84540000 </td>\n",
       "   <td style=\"text-align:right;\"> 86085000 </td>\n",
       "   <td style=\"text-align:left;\"> chr10:84540000-86085000 </td>\n",
       "   <td style=\"text-align:left;\"> hic_intact </td>\n",
       "   <td style=\"text-align:left;\"> TAD </td>\n",
       "  </tr>\n",
       "  <tr>\n",
       "   <td style=\"text-align:left;\"> chr10 </td>\n",
       "   <td style=\"text-align:right;\"> 94665000 </td>\n",
       "   <td style=\"text-align:right;\"> 95075000 </td>\n",
       "   <td style=\"text-align:left;\"> chr10:94665000-95075000 </td>\n",
       "   <td style=\"text-align:left;\"> hic_intact </td>\n",
       "   <td style=\"text-align:left;\"> TAD </td>\n",
       "  </tr>\n",
       "</tbody>\n",
       "</table>"
      ]
     },
     "metadata": {},
     "output_type": "display_data"
    }
   ],
   "source": [
    "### init\n",
    "vec_txt_cname_A = c(\"Chrom_1\", \"ChromStart_1\", \"ChromEnd_1\", \"Region\")\n",
    "vec_txt_cname   = c(\"Chrom\",   \"ChromStart\",   \"ChromEnd\",   \"Region\", \"Group\", \"Label\")\n",
    "txt_assay = TXT_ASSAY\n",
    "\n",
    "### prepare region\n",
    "dat = dat_region_arrange\n",
    "dat = dat %>% \n",
    "    dplyr::select(!!!vec_txt_cname_A) %>% \n",
    "    dplyr::mutate(\n",
    "        Group = txt_assay,\n",
    "        Label = \"TAD\"\n",
    "    ) %>%\n",
    "    dplyr::distinct()\n",
    "colnames(dat) = vec_txt_cname\n",
    "\n",
    "### assign and show\n",
    "dat_region_simplify = dat\n",
    "print(dim(dat))\n",
    "fun_display_table(head(dat))"
   ]
  },
  {
   "cell_type": "markdown",
   "id": "83511455-27d9-4f3f-9065-b2111988a1a9",
   "metadata": {},
   "source": [
    "## Save results"
   ]
  },
  {
   "cell_type": "code",
   "execution_count": 11,
   "id": "1c900f98-b1a2-4dc8-a3d0-d8e422b026df",
   "metadata": {},
   "outputs": [],
   "source": [
    "### set file path\n",
    "txt_folder = TXT_FOLDER_REGION\n",
    "txt_fdiry  = file.path(FD_RES, \"region\", txt_folder)\n",
    "txt_fname = \"K562.hg38.hic_intact.TAD.bed.gz\"\n",
    "txt_fpath = file.path(txt_fdiry, txt_fname)\n",
    "\n",
    "### get table\n",
    "dat = dat_region_simplify\n",
    "dat = dat %>% dplyr::arrange(Chrom, ChromStart, ChromEnd)\n",
    "\n",
    "### write tabel\n",
    "dir.create(txt_fdiry, showWarnings = FALSE)\n",
    "write_tsv(dat, txt_fpath, col_names = FALSE)"
   ]
  },
  {
   "cell_type": "code",
   "execution_count": 12,
   "id": "6d56d156-8e2e-4da5-98b4-018eb2d081de",
   "metadata": {},
   "outputs": [],
   "source": [
    "### set file path\n",
    "txt_folder = TXT_FOLDER_REGION\n",
    "txt_fdiry  = file.path(FD_RES, \"region\", txt_folder, \"summary\")\n",
    "txt_fname = \"K562.hg38.hic_intact.TAD.tsv\"\n",
    "txt_fpath = file.path(txt_fdiry, txt_fname)\n",
    "\n",
    "### get table\n",
    "dat = dat_region_arrange\n",
    "dat = dat %>% dplyr::arrange(\n",
    "    Chrom_1, ChromStart_1, ChromEnd_1,\n",
    "    Chrom_2, ChromStart_2, ChromEnd_2\n",
    ")\n",
    "\n",
    "### write tabel\n",
    "dir.create(txt_fdiry, showWarnings = FALSE)\n",
    "write_tsv(dat, txt_fpath)"
   ]
  },
  {
   "cell_type": "code",
   "execution_count": null,
   "id": "66bb6ee9-0dc8-49f6-a7e5-1963f8dc8341",
   "metadata": {},
   "outputs": [],
   "source": []
  }
 ],
 "metadata": {
  "kernelspec": {
   "display_name": "R",
   "language": "R",
   "name": "ir"
  },
  "language_info": {
   "codemirror_mode": "r",
   "file_extension": ".r",
   "mimetype": "text/x-r-source",
   "name": "R",
   "pygments_lexer": "r",
   "version": "4.4.2"
  }
 },
 "nbformat": 4,
 "nbformat_minor": 5
}
