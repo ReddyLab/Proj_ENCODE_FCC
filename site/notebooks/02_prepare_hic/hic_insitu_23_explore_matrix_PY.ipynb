{
 "cells": [
  {
   "cell_type": "raw",
   "id": "0ace7a7f-aeab-407b-9eb3-3ce149d13876",
   "metadata": {},
   "source": [
    "---\n",
    "title: Prepare Hi-C data 23 (in situ Hi-C)\n",
    "subtitle: Explore data (Matrix)\n",
    "format:\n",
    "    html:\n",
    "        code-fold:  true\n",
    "        code-tools: true\n",
    "---"
   ]
  },
  {
   "cell_type": "markdown",
   "id": "48d0ef57-33ef-4b92-829b-a131038fc1e8",
   "metadata": {},
   "source": [
    "**Set environment**"
   ]
  },
  {
   "cell_type": "code",
   "execution_count": 1,
   "id": "10201719-c315-4d98-9fae-f0d8751ce495",
   "metadata": {},
   "outputs": [],
   "source": [
    "import hicstraw"
   ]
  },
  {
   "cell_type": "code",
   "execution_count": null,
   "id": "73d7efc9-37c9-42de-a176-998dee64566c",
   "metadata": {},
   "outputs": [],
   "source": []
  }
 ],
 "metadata": {
  "kernelspec": {
   "display_name": "Python 3 (ipykernel)",
   "language": "python",
   "name": "python3"
  },
  "language_info": {
   "codemirror_mode": {
    "name": "ipython",
    "version": 3
   },
   "file_extension": ".py",
   "mimetype": "text/x-python",
   "name": "python",
   "nbconvert_exporter": "python",
   "pygments_lexer": "ipython3",
   "version": "3.11.6"
  }
 },
 "nbformat": 4,
 "nbformat_minor": 5
}
