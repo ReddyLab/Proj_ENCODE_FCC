{
 "cells": [
  {
   "cell_type": "raw",
   "id": "87a50293-24d0-4df4-8364-04994b33e7c8",
   "metadata": {},
   "source": [
    "---\n",
    "title: Prepare Hi-C data 02 (intact Hi-C; deep)\n",
    "subtitle: Check downloaded data\n",
    "format:\n",
    "    html:\n",
    "        code-fold:  true\n",
    "        code-tools: true\n",
    "---"
   ]
  },
  {
   "cell_type": "markdown",
   "id": "6a2bc3c5-27f0-4ab4-a1bf-ef3b9b02e9f9",
   "metadata": {},
   "source": [
    "**set environment**"
   ]
  },
  {
   "cell_type": "code",
   "execution_count": 1,
   "id": "0a39acfb-cd2c-47be-aa65-07eff738bfb4",
   "metadata": {},
   "outputs": [
    {
     "name": "stdout",
     "output_type": "stream",
     "text": [
      "You are working on             Duke Server: RCC\n",
      "BASE DIRECTORY (FD_BASE):      /data/reddylab/Kuei\n",
      "REPO DIRECTORY (FD_REPO):      /data/reddylab/Kuei/repo\n",
      "WORK DIRECTORY (FD_WORK):      /data/reddylab/Kuei/work\n",
      "DATA DIRECTORY (FD_DATA):      /data/reddylab/Kuei/data\n",
      "CONTAINER DIR. (FD_SING):      /data/reddylab/Kuei/container\n",
      "\n",
      "You are working with           ENCODE FCC\n",
      "PATH OF PROJECT (FD_PRJ):      /data/reddylab/Kuei/repo/Proj_ENCODE_FCC\n",
      "PROJECT RESULTS (FD_RES):      /data/reddylab/Kuei/repo/Proj_ENCODE_FCC/results\n",
      "PROJECT SCRIPTS (FD_EXE):      /data/reddylab/Kuei/repo/Proj_ENCODE_FCC/scripts\n",
      "PROJECT DATA    (FD_DAT):      /data/reddylab/Kuei/repo/Proj_ENCODE_FCC/data\n",
      "PROJECT NOTE    (FD_NBK):      /data/reddylab/Kuei/repo/Proj_ENCODE_FCC/notebooks\n",
      "PROJECT DOCS    (FD_DOC):      /data/reddylab/Kuei/repo/Proj_ENCODE_FCC/docs\n",
      "PROJECT LOG     (FD_LOG):      /data/reddylab/Kuei/repo/Proj_ENCODE_FCC/log\n",
      "PROJECT REF     (FD_REF):      /data/reddylab/Kuei/repo/Proj_ENCODE_FCC/references\n",
      "PROJECT IMAGE   (FP_PRJ_SIF):  /data/reddylab/Kuei/container/project/singularity_proj_encode_fcc.sif\n",
      "PROJECT CONF.   (FP_CNF):      /data/reddylab/Kuei/repo/Proj_ENCODE_FCC/scripts/config_project.sh\n",
      "\n"
     ]
    }
   ],
   "source": [
    "source ../run_config_project.sh\n",
    "show_env"
   ]
  },
  {
   "cell_type": "markdown",
   "id": "bac3a0ff-94a1-4f51-8476-350964dc20c7",
   "metadata": {},
   "source": [
    "**Set global variable**"
   ]
  },
  {
   "cell_type": "code",
   "execution_count": 2,
   "id": "e0694716-3878-48a0-b576-33744d391956",
   "metadata": {},
   "outputs": [],
   "source": [
    "TXT_FOLDER=hic_intact_K562_deep"
   ]
  },
  {
   "cell_type": "markdown",
   "id": "7dd3713a-e6f2-4bd6-9918-93428761cd0e",
   "metadata": {},
   "source": [
    "## View data"
   ]
  },
  {
   "cell_type": "code",
   "execution_count": 3,
   "id": "9a1c1cf2-81eb-4c01-a7ce-ccaef8421710",
   "metadata": {},
   "outputs": [
    {
     "name": "stdout",
     "output_type": "stream",
     "text": [
      "/data/reddylab/Kuei/repo/Proj_ENCODE_FCC/data/external/hic_intact_K562_deep\n",
      "total 346G\n",
      "346G inter.hic   39M localizedList_primary_10.bedpe  4.0K \u001b[0m\u001b[01;34mprocessed\u001b[0m\n"
     ]
    }
   ],
   "source": [
    "FDIRY=${FD_DAT}/external/${TXT_FOLDER}\n",
    "\n",
    "echo   ${FDIRY}\n",
    "ls -hs ${FDIRY}"
   ]
  },
  {
   "cell_type": "markdown",
   "id": "9d89388b-9e12-4485-868d-134da95eebdc",
   "metadata": {},
   "source": [
    "**Hi-C loop calls**"
   ]
  },
  {
   "cell_type": "code",
   "execution_count": 5,
   "id": "3f584205-9827-4bbe-be7f-e70963881a09",
   "metadata": {},
   "outputs": [
    {
     "name": "stdout",
     "output_type": "stream",
     "text": [
      "#chr1\tx1\tx2\tchr2\ty1\ty2\tname\tscore\tstrand1\tstrand2\tcolor\tobserved\texpectedBL\texpectedDonut\texpectedH\texpectedV\tfdrBL\tfdrDonut\tfdrH\tfdrV\tnumCollapsed\tcentroid1\tcentroid2\tradius\tcoarse_start_1\tcoarse_end_1\tcoarse_start_2\tcoarse_end_2\thighRes_start_1\thighRes_end_1\thighRes_start_2\thighRes_end_2\tupstream_start_1\tupstream_end_1\tdownstream_start_2\tdownstream_end_2\tlocalX\tlocalY\tlocalObserved\tlocalPval\tlocalPeakZ\tlocal_xwidth1\tlocal_xwidth2\tlocal_ywidth1\tlocal_ywidth2\tlocalPeakID\n",
      "# juicer_tools version 2.13.07\n",
      "chr10\t72223000\t72224000\tchr10\t72328000\t72329000\t.\t.\t.\t.\t0,255,255\t60.0\t12.950622\t14.944992\t18.595566\t18.77815\t0.0\t0.0\t0.0\t0.0\t8\t72220750\t72327500\t3750\t72215000\t72225000\t72328000\t72345000\t72222989\t72223052\t72328356\t72328539\t72223010\t72223029\t72328356\t72328539\t72223010\t72328480\t28.0\t0.006703466909028011\t3.7355988096162136\t910.0\t1320.0\t180.0\t480.0\t0\n",
      "chr10\t64041000\t64042000\tchr10\t67697000\t67698000\t.\t.\t.\t.\t0,255,255\t13.0\t2.1193352\t2.5729272\t2.6813521\t2.45961\t4.172325E-7\t3.2186508E-6\t5.00679E-6\t2.026558E-6\t1\t64041500\t67697500\t0\t64040000\t64045000\t67695000\t67700000\t64041355\t64041394\t67697812\t67697897\t64041355\t64041394\tNA\tNA\tNA\tNA\tNA\tNA\tNA\tNA\tNA\tNA\tNA\tNA\n",
      "chr10\t78302000\t78304000\tchr10\t79194000\t79196000\t.\t.\t.\t.\t0,255,255\t26.0\t6.1702237\t7.1912475\t7.9880195\t7.1006165\t0.0\t5.9604645E-8\t3.5762787E-7\t5.9604645E-8\t2\t78303000\t79196000\t1000\t78300000\t78305000\t79194000\t79200000\tNA\tNA\t79195411\t79195658\tNA\tNA\t79195411\t79195658\tNA\tNA\tNA\tNA\tNA\tNA\tNA\tNA\tNA\tNA\n"
     ]
    }
   ],
   "source": [
    "FDIRY=${FD_DAT}/external/${TXT_FOLDER}\n",
    "FNAME=localizedList_primary_10.bedpe\n",
    "FPATH=${FDIRY}/${FNAME}\n",
    "\n",
    "cat ${FPATH} | head -5"
   ]
  },
  {
   "cell_type": "code",
   "execution_count": null,
   "id": "a0148b9a-6eea-4945-8d02-592d56592ec0",
   "metadata": {},
   "outputs": [],
   "source": []
  }
 ],
 "metadata": {
  "kernelspec": {
   "display_name": "Bash",
   "language": "bash",
   "name": "bash"
  },
  "language_info": {
   "codemirror_mode": "shell",
   "file_extension": ".sh",
   "mimetype": "text/x-sh",
   "name": "bash"
  }
 },
 "nbformat": 4,
 "nbformat_minor": 5
}
