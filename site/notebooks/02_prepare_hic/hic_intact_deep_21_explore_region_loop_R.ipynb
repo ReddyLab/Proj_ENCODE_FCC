{
 "cells": [
  {
   "cell_type": "raw",
   "id": "a7f54252-b65e-40f0-b89a-22ac740dc6a3",
   "metadata": {},
   "source": [
    "---\n",
    "title: Prepare Hi-C data 21 (intact Hi-C; deep)\n",
    "subtitle: Explore data (Loop)\n",
    "format:\n",
    "    html:\n",
    "        code-fold:  true\n",
    "        code-tools: true\n",
    "---"
   ]
  },
  {
   "cell_type": "markdown",
   "id": "9550ef84-2625-44d7-a9b9-a6e8c1c4e655",
   "metadata": {},
   "source": [
    "**Set environment**"
   ]
  },
  {
   "cell_type": "code",
   "execution_count": 1,
   "id": "1ee7dcd2-79e3-4e98-bb3f-4c5ba62746db",
   "metadata": {
    "tags": []
   },
   "outputs": [
    {
     "name": "stdout",
     "output_type": "stream",
     "text": [
      "You are working on        Singularity: singularity_proj_encode_fcc \n",
      "BASE DIRECTORY (FD_BASE): /data/reddylab/Kuei \n",
      "REPO DIRECTORY (FD_REPO): /data/reddylab/Kuei/repo \n",
      "WORK DIRECTORY (FD_WORK): /data/reddylab/Kuei/work \n",
      "DATA DIRECTORY (FD_DATA): /data/reddylab/Kuei/data \n",
      "\n",
      "You are working with      ENCODE FCC \n",
      "PATH OF PROJECT (FD_PRJ): /data/reddylab/Kuei/repo/Proj_ENCODE_FCC \n",
      "PROJECT RESULTS (FD_RES): /data/reddylab/Kuei/repo/Proj_ENCODE_FCC/results \n",
      "PROJECT SCRIPTS (FD_EXE): /data/reddylab/Kuei/repo/Proj_ENCODE_FCC/scripts \n",
      "PROJECT DATA    (FD_DAT): /data/reddylab/Kuei/repo/Proj_ENCODE_FCC/data \n",
      "PROJECT NOTE    (FD_NBK): /data/reddylab/Kuei/repo/Proj_ENCODE_FCC/notebooks \n",
      "PROJECT DOCS    (FD_DOC): /data/reddylab/Kuei/repo/Proj_ENCODE_FCC/docs \n",
      "PROJECT LOG     (FD_LOG): /data/reddylab/Kuei/repo/Proj_ENCODE_FCC/log \n",
      "PROJECT REF     (FD_REF): /data/reddylab/Kuei/repo/Proj_ENCODE_FCC/references \n",
      "\n"
     ]
    }
   ],
   "source": [
    "suppressMessages(suppressWarnings(source(\"../run_config_project_sing.R\")))\n",
    "show_env()"
   ]
  },
  {
   "cell_type": "markdown",
   "id": "acc1f0a3-3da6-4907-8de5-5c1a57149e92",
   "metadata": {},
   "source": [
    "**Set global variables**"
   ]
  },
  {
   "cell_type": "code",
   "execution_count": 2,
   "id": "c40a4b0d-887f-4602-bc33-26bf79b89b30",
   "metadata": {},
   "outputs": [],
   "source": [
    "TXT_FOLDER_REGION = \"hic_intact_K562_deep\"\n",
    "TXT_ASSAY = \"hic_intact\"\n",
    "TXT_INDEX = \"deep\""
   ]
  },
  {
   "cell_type": "markdown",
   "id": "ccca6c21-479d-42d8-a824-f8124673bfdf",
   "metadata": {
    "tags": []
   },
   "source": [
    "## Import data"
   ]
  },
  {
   "cell_type": "markdown",
   "id": "9ff9671e-1fde-4071-a094-449940ee646c",
   "metadata": {},
   "source": [
    "**View files**"
   ]
  },
  {
   "cell_type": "code",
   "execution_count": 3,
   "id": "87cd2e6f-967f-48ea-83f8-a2403f54ac41",
   "metadata": {},
   "outputs": [
    {
     "name": "stdout",
     "output_type": "stream",
     "text": [
      "K562.hg38.hic_intact.Loop_A.bed.gz \n",
      "K562.hg38.hic_intact.Loop_B.bed.gz \n",
      "summary \n"
     ]
    }
   ],
   "source": [
    "txt_folder = TXT_FOLDER_REGION\n",
    "txt_fdiry  = file.path(FD_RES, \"region\", txt_folder)\n",
    "\n",
    "vec = dir(txt_fdiry)\n",
    "for (txt in vec){cat(txt, \"\\n\")}"
   ]
  },
  {
   "cell_type": "code",
   "execution_count": 4,
   "id": "738fc111-8ae5-43d7-bab9-ea9454d79e56",
   "metadata": {},
   "outputs": [
    {
     "name": "stdout",
     "output_type": "stream",
     "text": [
      "description.tsv \n",
      "K562.hg38.hic_intact.Loop.tsv \n",
      "metadata.label.tsv \n"
     ]
    }
   ],
   "source": [
    "txt_folder = TXT_FOLDER_REGION\n",
    "txt_fdiry  = file.path(FD_RES, \"region\", txt_folder, \"summary\")\n",
    "\n",
    "vec = dir(txt_fdiry)\n",
    "for (txt in vec){cat(txt, \"\\n\")}"
   ]
  },
  {
   "cell_type": "markdown",
   "id": "8ed0076d-925b-4300-8be3-ea77aa543617",
   "metadata": {},
   "source": [
    "**Read data**"
   ]
  },
  {
   "cell_type": "code",
   "execution_count": 5,
   "id": "12e98416-97ba-4c84-b8b8-bede4e0ceb87",
   "metadata": {},
   "outputs": [
    {
     "data": {
      "text/html": [
       "<table>\n",
       " <thead>\n",
       "  <tr>\n",
       "   <th style=\"text-align:left;\"> Chrom_1 </th>\n",
       "   <th style=\"text-align:right;\"> ChromStart_1 </th>\n",
       "   <th style=\"text-align:right;\"> ChromEnd_1 </th>\n",
       "   <th style=\"text-align:left;\"> Chrom_2 </th>\n",
       "   <th style=\"text-align:right;\"> ChromStart_2 </th>\n",
       "   <th style=\"text-align:right;\"> ChromEnd_2 </th>\n",
       "   <th style=\"text-align:left;\"> Name </th>\n",
       "   <th style=\"text-align:left;\"> Score </th>\n",
       "   <th style=\"text-align:left;\"> Strand_1 </th>\n",
       "   <th style=\"text-align:left;\"> Strand_2 </th>\n",
       "   <th style=\"text-align:left;\"> Color </th>\n",
       "   <th style=\"text-align:right;\"> Observed </th>\n",
       "   <th style=\"text-align:right;\"> ExpectedBL </th>\n",
       "   <th style=\"text-align:right;\"> ExpectedDonut </th>\n",
       "   <th style=\"text-align:right;\"> ExpectedH </th>\n",
       "   <th style=\"text-align:right;\"> ExpectedV </th>\n",
       "   <th style=\"text-align:right;\"> FdrBL </th>\n",
       "   <th style=\"text-align:right;\"> FdrDonut </th>\n",
       "   <th style=\"text-align:right;\"> FdrH </th>\n",
       "   <th style=\"text-align:right;\"> FdrV </th>\n",
       "   <th style=\"text-align:right;\"> NumCollapsed </th>\n",
       "   <th style=\"text-align:right;\"> Centroid_1 </th>\n",
       "   <th style=\"text-align:right;\"> Centroid_2 </th>\n",
       "   <th style=\"text-align:right;\"> Radius </th>\n",
       "   <th style=\"text-align:right;\"> Coarse_start_1 </th>\n",
       "   <th style=\"text-align:right;\"> Coarse_end_1 </th>\n",
       "   <th style=\"text-align:right;\"> Coarse_start_2 </th>\n",
       "   <th style=\"text-align:right;\"> Coarse_end_2 </th>\n",
       "   <th style=\"text-align:right;\"> HighRes_start_1 </th>\n",
       "   <th style=\"text-align:right;\"> HighRes_end_1 </th>\n",
       "   <th style=\"text-align:right;\"> HighRes_start_2 </th>\n",
       "   <th style=\"text-align:right;\"> HighRes_end_2 </th>\n",
       "   <th style=\"text-align:right;\"> Upstream_start_1 </th>\n",
       "   <th style=\"text-align:right;\"> Upstream_end_1 </th>\n",
       "   <th style=\"text-align:right;\"> Downstream_start_2 </th>\n",
       "   <th style=\"text-align:right;\"> Downstream_end_2 </th>\n",
       "   <th style=\"text-align:right;\"> LocalX </th>\n",
       "   <th style=\"text-align:right;\"> LocalY </th>\n",
       "   <th style=\"text-align:right;\"> LocalObserved </th>\n",
       "   <th style=\"text-align:right;\"> LocalPval </th>\n",
       "   <th style=\"text-align:right;\"> LocalPeakZ </th>\n",
       "   <th style=\"text-align:right;\"> Local_xwidth1 </th>\n",
       "   <th style=\"text-align:right;\"> Local_xwidth2 </th>\n",
       "   <th style=\"text-align:right;\"> Local_ywidth1 </th>\n",
       "   <th style=\"text-align:right;\"> Local_ywidth2 </th>\n",
       "   <th style=\"text-align:right;\"> LocalPeakID </th>\n",
       "   <th style=\"text-align:right;\"> Length_1 </th>\n",
       "   <th style=\"text-align:right;\"> Length_2 </th>\n",
       "   <th style=\"text-align:right;\"> Size </th>\n",
       "   <th style=\"text-align:left;\"> Region_1 </th>\n",
       "   <th style=\"text-align:left;\"> Region_2 </th>\n",
       "   <th style=\"text-align:right;\"> Distance </th>\n",
       "  </tr>\n",
       " </thead>\n",
       "<tbody>\n",
       "  <tr>\n",
       "   <td style=\"text-align:left;\"> chr1 </td>\n",
       "   <td style=\"text-align:right;\"> 778000 </td>\n",
       "   <td style=\"text-align:right;\"> 779000 </td>\n",
       "   <td style=\"text-align:left;\"> chr1 </td>\n",
       "   <td style=\"text-align:right;\"> 827000 </td>\n",
       "   <td style=\"text-align:right;\"> 828000 </td>\n",
       "   <td style=\"text-align:left;\"> chr1:778000-779000|chr1:827000-828000 </td>\n",
       "   <td style=\"text-align:left;\"> . </td>\n",
       "   <td style=\"text-align:left;\"> . </td>\n",
       "   <td style=\"text-align:left;\"> . </td>\n",
       "   <td style=\"text-align:left;\"> 0,255,255 </td>\n",
       "   <td style=\"text-align:right;\"> 16 </td>\n",
       "   <td style=\"text-align:right;\"> 2.803620 </td>\n",
       "   <td style=\"text-align:right;\"> 4.147049 </td>\n",
       "   <td style=\"text-align:right;\"> 2.942836 </td>\n",
       "   <td style=\"text-align:right;\"> 0.8122506 </td>\n",
       "   <td style=\"text-align:right;\"> 1.0e-07 </td>\n",
       "   <td style=\"text-align:right;\"> 7.6e-06 </td>\n",
       "   <td style=\"text-align:right;\"> 1e-07 </td>\n",
       "   <td style=\"text-align:right;\"> 0.0e+00 </td>\n",
       "   <td style=\"text-align:right;\"> 1 </td>\n",
       "   <td style=\"text-align:right;\"> 778500 </td>\n",
       "   <td style=\"text-align:right;\"> 827500 </td>\n",
       "   <td style=\"text-align:right;\"> 0 </td>\n",
       "   <td style=\"text-align:right;\"> 777500 </td>\n",
       "   <td style=\"text-align:right;\"> 779500 </td>\n",
       "   <td style=\"text-align:right;\"> 826500 </td>\n",
       "   <td style=\"text-align:right;\"> 828500 </td>\n",
       "   <td style=\"text-align:right;\"> 778630 </td>\n",
       "   <td style=\"text-align:right;\"> 778840 </td>\n",
       "   <td style=\"text-align:right;\"> 827300 </td>\n",
       "   <td style=\"text-align:right;\"> 827510 </td>\n",
       "   <td style=\"text-align:right;\"> 778630 </td>\n",
       "   <td style=\"text-align:right;\"> 778840 </td>\n",
       "   <td style=\"text-align:right;\"> 827300 </td>\n",
       "   <td style=\"text-align:right;\"> 827510 </td>\n",
       "   <td style=\"text-align:right;\"> 778730 </td>\n",
       "   <td style=\"text-align:right;\"> 827400 </td>\n",
       "   <td style=\"text-align:right;\"> 8 </td>\n",
       "   <td style=\"text-align:right;\"> 0.0208767 </td>\n",
       "   <td style=\"text-align:right;\"> 2.234097 </td>\n",
       "   <td style=\"text-align:right;\"> 110 </td>\n",
       "   <td style=\"text-align:right;\"> 180 </td>\n",
       "   <td style=\"text-align:right;\"> 210 </td>\n",
       "   <td style=\"text-align:right;\"> 240 </td>\n",
       "   <td style=\"text-align:right;\"> 0 </td>\n",
       "   <td style=\"text-align:right;\"> 1000 </td>\n",
       "   <td style=\"text-align:right;\"> 1000 </td>\n",
       "   <td style=\"text-align:right;\"> 1000 </td>\n",
       "   <td style=\"text-align:left;\"> chr1:778000-779000 </td>\n",
       "   <td style=\"text-align:left;\"> chr1:827000-828000 </td>\n",
       "   <td style=\"text-align:right;\"> 49000 </td>\n",
       "  </tr>\n",
       "  <tr>\n",
       "   <td style=\"text-align:left;\"> chr1 </td>\n",
       "   <td style=\"text-align:right;\"> 868000 </td>\n",
       "   <td style=\"text-align:right;\"> 870000 </td>\n",
       "   <td style=\"text-align:left;\"> chr1 </td>\n",
       "   <td style=\"text-align:right;\"> 1290000 </td>\n",
       "   <td style=\"text-align:right;\"> 1292000 </td>\n",
       "   <td style=\"text-align:left;\"> chr1:868000-870000|chr1:1290000-1292000 </td>\n",
       "   <td style=\"text-align:left;\"> . </td>\n",
       "   <td style=\"text-align:left;\"> . </td>\n",
       "   <td style=\"text-align:left;\"> . </td>\n",
       "   <td style=\"text-align:left;\"> 0,255,255 </td>\n",
       "   <td style=\"text-align:right;\"> 14 </td>\n",
       "   <td style=\"text-align:right;\"> 3.098058 </td>\n",
       "   <td style=\"text-align:right;\"> 2.436387 </td>\n",
       "   <td style=\"text-align:right;\"> 3.103787 </td>\n",
       "   <td style=\"text-align:right;\"> 2.5782435 </td>\n",
       "   <td style=\"text-align:right;\"> 4.9e-06 </td>\n",
       "   <td style=\"text-align:right;\"> 3.0e-07 </td>\n",
       "   <td style=\"text-align:right;\"> 5e-06 </td>\n",
       "   <td style=\"text-align:right;\"> 6.0e-07 </td>\n",
       "   <td style=\"text-align:right;\"> 1 </td>\n",
       "   <td style=\"text-align:right;\"> 869000 </td>\n",
       "   <td style=\"text-align:right;\"> 1291000 </td>\n",
       "   <td style=\"text-align:right;\"> 0 </td>\n",
       "   <td style=\"text-align:right;\"> 868000 </td>\n",
       "   <td style=\"text-align:right;\"> 875000 </td>\n",
       "   <td style=\"text-align:right;\"> 1290000 </td>\n",
       "   <td style=\"text-align:right;\"> 1293000 </td>\n",
       "   <td style=\"text-align:right;\"> NA </td>\n",
       "   <td style=\"text-align:right;\"> NA </td>\n",
       "   <td style=\"text-align:right;\"> 1290244 </td>\n",
       "   <td style=\"text-align:right;\"> 1290485 </td>\n",
       "   <td style=\"text-align:right;\"> NA </td>\n",
       "   <td style=\"text-align:right;\"> NA </td>\n",
       "   <td style=\"text-align:right;\"> 1290244 </td>\n",
       "   <td style=\"text-align:right;\"> 1290485 </td>\n",
       "   <td style=\"text-align:right;\"> NA </td>\n",
       "   <td style=\"text-align:right;\"> NA </td>\n",
       "   <td style=\"text-align:right;\"> NA </td>\n",
       "   <td style=\"text-align:right;\"> NA </td>\n",
       "   <td style=\"text-align:right;\"> NA </td>\n",
       "   <td style=\"text-align:right;\"> NA </td>\n",
       "   <td style=\"text-align:right;\"> NA </td>\n",
       "   <td style=\"text-align:right;\"> NA </td>\n",
       "   <td style=\"text-align:right;\"> NA </td>\n",
       "   <td style=\"text-align:right;\"> NA </td>\n",
       "   <td style=\"text-align:right;\"> 2000 </td>\n",
       "   <td style=\"text-align:right;\"> 2000 </td>\n",
       "   <td style=\"text-align:right;\"> 2000 </td>\n",
       "   <td style=\"text-align:left;\"> chr1:868000-870000 </td>\n",
       "   <td style=\"text-align:left;\"> chr1:1290000-1292000 </td>\n",
       "   <td style=\"text-align:right;\"> 422000 </td>\n",
       "  </tr>\n",
       "  <tr>\n",
       "   <td style=\"text-align:left;\"> chr1 </td>\n",
       "   <td style=\"text-align:right;\"> 870000 </td>\n",
       "   <td style=\"text-align:right;\"> 872000 </td>\n",
       "   <td style=\"text-align:left;\"> chr1 </td>\n",
       "   <td style=\"text-align:right;\"> 974000 </td>\n",
       "   <td style=\"text-align:right;\"> 976000 </td>\n",
       "   <td style=\"text-align:left;\"> chr1:870000-872000|chr1:974000-976000 </td>\n",
       "   <td style=\"text-align:left;\"> . </td>\n",
       "   <td style=\"text-align:left;\"> . </td>\n",
       "   <td style=\"text-align:left;\"> . </td>\n",
       "   <td style=\"text-align:left;\"> 0,255,255 </td>\n",
       "   <td style=\"text-align:right;\"> 31 </td>\n",
       "   <td style=\"text-align:right;\"> 10.256543 </td>\n",
       "   <td style=\"text-align:right;\"> 9.079411 </td>\n",
       "   <td style=\"text-align:right;\"> 11.250813 </td>\n",
       "   <td style=\"text-align:right;\"> 9.5956340 </td>\n",
       "   <td style=\"text-align:right;\"> 1.0e-07 </td>\n",
       "   <td style=\"text-align:right;\"> 0.0e+00 </td>\n",
       "   <td style=\"text-align:right;\"> 1e-06 </td>\n",
       "   <td style=\"text-align:right;\"> 1.0e-07 </td>\n",
       "   <td style=\"text-align:right;\"> 1 </td>\n",
       "   <td style=\"text-align:right;\"> 871000 </td>\n",
       "   <td style=\"text-align:right;\"> 975000 </td>\n",
       "   <td style=\"text-align:right;\"> 0 </td>\n",
       "   <td style=\"text-align:right;\"> 868000 </td>\n",
       "   <td style=\"text-align:right;\"> 875000 </td>\n",
       "   <td style=\"text-align:right;\"> 974000 </td>\n",
       "   <td style=\"text-align:right;\"> 977000 </td>\n",
       "   <td style=\"text-align:right;\"> 869680 </td>\n",
       "   <td style=\"text-align:right;\"> 869890 </td>\n",
       "   <td style=\"text-align:right;\"> 976200 </td>\n",
       "   <td style=\"text-align:right;\"> 976259 </td>\n",
       "   <td style=\"text-align:right;\"> 869680 </td>\n",
       "   <td style=\"text-align:right;\"> 869890 </td>\n",
       "   <td style=\"text-align:right;\"> 976200 </td>\n",
       "   <td style=\"text-align:right;\"> 976259 </td>\n",
       "   <td style=\"text-align:right;\"> 869780 </td>\n",
       "   <td style=\"text-align:right;\"> 976210 </td>\n",
       "   <td style=\"text-align:right;\"> 6 </td>\n",
       "   <td style=\"text-align:right;\"> 0.0000000 </td>\n",
       "   <td style=\"text-align:right;\"> 4.898979 </td>\n",
       "   <td style=\"text-align:right;\"> 150 </td>\n",
       "   <td style=\"text-align:right;\"> 210 </td>\n",
       "   <td style=\"text-align:right;\"> 140 </td>\n",
       "   <td style=\"text-align:right;\"> 140 </td>\n",
       "   <td style=\"text-align:right;\"> 0 </td>\n",
       "   <td style=\"text-align:right;\"> 2000 </td>\n",
       "   <td style=\"text-align:right;\"> 2000 </td>\n",
       "   <td style=\"text-align:right;\"> 2000 </td>\n",
       "   <td style=\"text-align:left;\"> chr1:870000-872000 </td>\n",
       "   <td style=\"text-align:left;\"> chr1:974000-976000 </td>\n",
       "   <td style=\"text-align:right;\"> 104000 </td>\n",
       "  </tr>\n",
       "  <tr>\n",
       "   <td style=\"text-align:left;\"> chr1 </td>\n",
       "   <td style=\"text-align:right;\"> 870000 </td>\n",
       "   <td style=\"text-align:right;\"> 872000 </td>\n",
       "   <td style=\"text-align:left;\"> chr1 </td>\n",
       "   <td style=\"text-align:right;\"> 1062000 </td>\n",
       "   <td style=\"text-align:right;\"> 1064000 </td>\n",
       "   <td style=\"text-align:left;\"> chr1:870000-872000|chr1:1062000-1064000 </td>\n",
       "   <td style=\"text-align:left;\"> . </td>\n",
       "   <td style=\"text-align:left;\"> . </td>\n",
       "   <td style=\"text-align:left;\"> . </td>\n",
       "   <td style=\"text-align:left;\"> 0,255,255 </td>\n",
       "   <td style=\"text-align:right;\"> 24 </td>\n",
       "   <td style=\"text-align:right;\"> 5.239281 </td>\n",
       "   <td style=\"text-align:right;\"> 4.773047 </td>\n",
       "   <td style=\"text-align:right;\"> 5.651270 </td>\n",
       "   <td style=\"text-align:right;\"> 7.4781290 </td>\n",
       "   <td style=\"text-align:right;\"> 0.0e+00 </td>\n",
       "   <td style=\"text-align:right;\"> 0.0e+00 </td>\n",
       "   <td style=\"text-align:right;\"> 0e+00 </td>\n",
       "   <td style=\"text-align:right;\"> 1.2e-06 </td>\n",
       "   <td style=\"text-align:right;\"> 2 </td>\n",
       "   <td style=\"text-align:right;\"> 870000 </td>\n",
       "   <td style=\"text-align:right;\"> 1063000 </td>\n",
       "   <td style=\"text-align:right;\"> 1000 </td>\n",
       "   <td style=\"text-align:right;\"> 868000 </td>\n",
       "   <td style=\"text-align:right;\"> 875000 </td>\n",
       "   <td style=\"text-align:right;\"> 1058000 </td>\n",
       "   <td style=\"text-align:right;\"> 1065000 </td>\n",
       "   <td style=\"text-align:right;\"> 869970 </td>\n",
       "   <td style=\"text-align:right;\"> 870180 </td>\n",
       "   <td style=\"text-align:right;\"> 1063842 </td>\n",
       "   <td style=\"text-align:right;\"> 1064041 </td>\n",
       "   <td style=\"text-align:right;\"> 869970 </td>\n",
       "   <td style=\"text-align:right;\"> 870180 </td>\n",
       "   <td style=\"text-align:right;\"> 1063824 </td>\n",
       "   <td style=\"text-align:right;\"> 1064037 </td>\n",
       "   <td style=\"text-align:right;\"> 870070 </td>\n",
       "   <td style=\"text-align:right;\"> 1063850 </td>\n",
       "   <td style=\"text-align:right;\"> 5 </td>\n",
       "   <td style=\"text-align:right;\"> 0.0000000 </td>\n",
       "   <td style=\"text-align:right;\"> 4.472134 </td>\n",
       "   <td style=\"text-align:right;\"> 260 </td>\n",
       "   <td style=\"text-align:right;\"> 120 </td>\n",
       "   <td style=\"text-align:right;\"> 150 </td>\n",
       "   <td style=\"text-align:right;\"> 200 </td>\n",
       "   <td style=\"text-align:right;\"> 0 </td>\n",
       "   <td style=\"text-align:right;\"> 2000 </td>\n",
       "   <td style=\"text-align:right;\"> 2000 </td>\n",
       "   <td style=\"text-align:right;\"> 2000 </td>\n",
       "   <td style=\"text-align:left;\"> chr1:870000-872000 </td>\n",
       "   <td style=\"text-align:left;\"> chr1:1062000-1064000 </td>\n",
       "   <td style=\"text-align:right;\"> 193000 </td>\n",
       "  </tr>\n",
       "  <tr>\n",
       "   <td style=\"text-align:left;\"> chr1 </td>\n",
       "   <td style=\"text-align:right;\"> 870000 </td>\n",
       "   <td style=\"text-align:right;\"> 875000 </td>\n",
       "   <td style=\"text-align:left;\"> chr1 </td>\n",
       "   <td style=\"text-align:right;\"> 935000 </td>\n",
       "   <td style=\"text-align:right;\"> 940000 </td>\n",
       "   <td style=\"text-align:left;\"> chr1:870000-875000|chr1:935000-940000 </td>\n",
       "   <td style=\"text-align:left;\"> . </td>\n",
       "   <td style=\"text-align:left;\"> . </td>\n",
       "   <td style=\"text-align:left;\"> . </td>\n",
       "   <td style=\"text-align:left;\"> 0,255,255 </td>\n",
       "   <td style=\"text-align:right;\"> 129 </td>\n",
       "   <td style=\"text-align:right;\"> 50.693935 </td>\n",
       "   <td style=\"text-align:right;\"> 59.010227 </td>\n",
       "   <td style=\"text-align:right;\"> 77.334854 </td>\n",
       "   <td style=\"text-align:right;\"> 82.3119300 </td>\n",
       "   <td style=\"text-align:right;\"> 0.0e+00 </td>\n",
       "   <td style=\"text-align:right;\"> 0.0e+00 </td>\n",
       "   <td style=\"text-align:right;\"> 1e-07 </td>\n",
       "   <td style=\"text-align:right;\"> 1.2e-06 </td>\n",
       "   <td style=\"text-align:right;\"> 2 </td>\n",
       "   <td style=\"text-align:right;\"> 870000 </td>\n",
       "   <td style=\"text-align:right;\"> 937500 </td>\n",
       "   <td style=\"text-align:right;\"> 2500 </td>\n",
       "   <td style=\"text-align:right;\"> 868000 </td>\n",
       "   <td style=\"text-align:right;\"> 875000 </td>\n",
       "   <td style=\"text-align:right;\"> 935000 </td>\n",
       "   <td style=\"text-align:right;\"> 941000 </td>\n",
       "   <td style=\"text-align:right;\"> 870450 </td>\n",
       "   <td style=\"text-align:right;\"> 870660 </td>\n",
       "   <td style=\"text-align:right;\"> 938265 </td>\n",
       "   <td style=\"text-align:right;\"> 938265 </td>\n",
       "   <td style=\"text-align:right;\"> 870450 </td>\n",
       "   <td style=\"text-align:right;\"> 870660 </td>\n",
       "   <td style=\"text-align:right;\"> 938265 </td>\n",
       "   <td style=\"text-align:right;\"> 938265 </td>\n",
       "   <td style=\"text-align:right;\"> 870550 </td>\n",
       "   <td style=\"text-align:right;\"> 938260 </td>\n",
       "   <td style=\"text-align:right;\"> 5 </td>\n",
       "   <td style=\"text-align:right;\"> 0.0000000 </td>\n",
       "   <td style=\"text-align:right;\"> 4.472134 </td>\n",
       "   <td style=\"text-align:right;\"> 260 </td>\n",
       "   <td style=\"text-align:right;\"> 150 </td>\n",
       "   <td style=\"text-align:right;\"> 150 </td>\n",
       "   <td style=\"text-align:right;\"> 140 </td>\n",
       "   <td style=\"text-align:right;\"> 0 </td>\n",
       "   <td style=\"text-align:right;\"> 5000 </td>\n",
       "   <td style=\"text-align:right;\"> 5000 </td>\n",
       "   <td style=\"text-align:right;\"> 5000 </td>\n",
       "   <td style=\"text-align:left;\"> chr1:870000-875000 </td>\n",
       "   <td style=\"text-align:left;\"> chr1:935000-940000 </td>\n",
       "   <td style=\"text-align:right;\"> 67500 </td>\n",
       "  </tr>\n",
       "  <tr>\n",
       "   <td style=\"text-align:left;\"> chr1 </td>\n",
       "   <td style=\"text-align:right;\"> 904000 </td>\n",
       "   <td style=\"text-align:right;\"> 905000 </td>\n",
       "   <td style=\"text-align:left;\"> chr1 </td>\n",
       "   <td style=\"text-align:right;\"> 940000 </td>\n",
       "   <td style=\"text-align:right;\"> 941000 </td>\n",
       "   <td style=\"text-align:left;\"> chr1:904000-905000|chr1:940000-941000 </td>\n",
       "   <td style=\"text-align:left;\"> . </td>\n",
       "   <td style=\"text-align:left;\"> . </td>\n",
       "   <td style=\"text-align:left;\"> . </td>\n",
       "   <td style=\"text-align:left;\"> 0,255,255 </td>\n",
       "   <td style=\"text-align:right;\"> 49 </td>\n",
       "   <td style=\"text-align:right;\"> 14.501664 </td>\n",
       "   <td style=\"text-align:right;\"> 13.704449 </td>\n",
       "   <td style=\"text-align:right;\"> 15.555256 </td>\n",
       "   <td style=\"text-align:right;\"> 16.1183150 </td>\n",
       "   <td style=\"text-align:right;\"> 0.0e+00 </td>\n",
       "   <td style=\"text-align:right;\"> 0.0e+00 </td>\n",
       "   <td style=\"text-align:right;\"> 0e+00 </td>\n",
       "   <td style=\"text-align:right;\"> 0.0e+00 </td>\n",
       "   <td style=\"text-align:right;\"> 11 </td>\n",
       "   <td style=\"text-align:right;\"> 905590 </td>\n",
       "   <td style=\"text-align:right;\"> 939590 </td>\n",
       "   <td style=\"text-align:right;\"> 2357 </td>\n",
       "   <td style=\"text-align:right;\"> 904000 </td>\n",
       "   <td style=\"text-align:right;\"> 908000 </td>\n",
       "   <td style=\"text-align:right;\"> 935000 </td>\n",
       "   <td style=\"text-align:right;\"> 941000 </td>\n",
       "   <td style=\"text-align:right;\"> 904751 </td>\n",
       "   <td style=\"text-align:right;\"> 904849 </td>\n",
       "   <td style=\"text-align:right;\"> 938265 </td>\n",
       "   <td style=\"text-align:right;\"> 938265 </td>\n",
       "   <td style=\"text-align:right;\"> 904751 </td>\n",
       "   <td style=\"text-align:right;\"> 904849 </td>\n",
       "   <td style=\"text-align:right;\"> 938265 </td>\n",
       "   <td style=\"text-align:right;\"> 938265 </td>\n",
       "   <td style=\"text-align:right;\"> 904770 </td>\n",
       "   <td style=\"text-align:right;\"> 938260 </td>\n",
       "   <td style=\"text-align:right;\"> 15 </td>\n",
       "   <td style=\"text-align:right;\"> 0.0061926 </td>\n",
       "   <td style=\"text-align:right;\"> 3.472893 </td>\n",
       "   <td style=\"text-align:right;\"> 350 </td>\n",
       "   <td style=\"text-align:right;\"> 640 </td>\n",
       "   <td style=\"text-align:right;\"> 0 </td>\n",
       "   <td style=\"text-align:right;\"> 170 </td>\n",
       "   <td style=\"text-align:right;\"> 0 </td>\n",
       "   <td style=\"text-align:right;\"> 1000 </td>\n",
       "   <td style=\"text-align:right;\"> 1000 </td>\n",
       "   <td style=\"text-align:right;\"> 1000 </td>\n",
       "   <td style=\"text-align:left;\"> chr1:904000-905000 </td>\n",
       "   <td style=\"text-align:left;\"> chr1:940000-941000 </td>\n",
       "   <td style=\"text-align:right;\"> 34000 </td>\n",
       "  </tr>\n",
       "</tbody>\n",
       "</table>"
      ]
     },
     "metadata": {},
     "output_type": "display_data"
    }
   ],
   "source": [
    "### set file path\n",
    "txt_folder = TXT_FOLDER_REGION\n",
    "txt_fdiry  = file.path(FD_RES, \"region\", txt_folder, \"summary\")\n",
    "txt_fname = \"K562.hg38.hic_intact.Loop.tsv\"\n",
    "txt_fpath = file.path(txt_fdiry, txt_fname)\n",
    "\n",
    "### read table\n",
    "dat = read_tsv(txt_fpath, show_col_types = FALSE)\n",
    "\n",
    "### assign and show\n",
    "dat_region_import = dat\n",
    "fun_display_table(head(dat))"
   ]
  },
  {
   "cell_type": "markdown",
   "id": "e51a73b9-d24d-430d-b52e-9766c1662479",
   "metadata": {},
   "source": [
    "## Explore data"
   ]
  },
  {
   "cell_type": "markdown",
   "id": "bcc8b348-1a48-4f6c-9aee-ee7d12b53a14",
   "metadata": {},
   "source": [
    "### Loop anchor length (resolution)"
   ]
  },
  {
   "cell_type": "code",
   "execution_count": 6,
   "id": "443e324e-e7cd-4c8d-a434-0a232e5c148d",
   "metadata": {},
   "outputs": [
    {
     "data": {
      "text/plain": [
       "\n",
       " 1000  2000  5000 10000 \n",
       "80948 22895 19294  5577 "
      ]
     },
     "metadata": {},
     "output_type": "display_data"
    }
   ],
   "source": [
    "dat = dat_region_import\n",
    "res = table(dat$Size)\n",
    "res"
   ]
  },
  {
   "cell_type": "markdown",
   "id": "dcbcc5c2-b1ee-4246-ae42-f2847c5c1f7d",
   "metadata": {},
   "source": [
    "### Distance"
   ]
  },
  {
   "cell_type": "code",
   "execution_count": 7,
   "id": "55a2f43f-d086-41d7-8240-9db66380ab64",
   "metadata": {},
   "outputs": [
    {
     "data": {
      "text/plain": [
       "   Min. 1st Qu.  Median    Mean 3rd Qu.    Max. \n",
       "    8.0    67.5   171.2   381.2   413.0  9640.0 "
      ]
     },
     "metadata": {},
     "output_type": "display_data"
    }
   ],
   "source": [
    "dat = dat_region_import\n",
    "summary(dat$Distance/1000)"
   ]
  },
  {
   "cell_type": "code",
   "execution_count": 8,
   "id": "474769a1-9ce9-485c-8095-901d5f5fc8e8",
   "metadata": {},
   "outputs": [
    {
     "name": "stderr",
     "output_type": "stream",
     "text": [
      "Warning message in scale_y_log10():\n",
      "“\u001b[1m\u001b[22m\u001b[32mlog-10\u001b[39m transformation introduced infinite values.”\n",
      "Warning message:\n",
      "“\u001b[1m\u001b[22mRemoved 34 rows containing missing values or values outside the scale range\n",
      "(`geom_bar()`).”\n"
     ]
    },
    {
     "data": {
      "image/png": "[encoded data removed]",
      "text/plain": [
       "plot without title"
      ]
     },
     "metadata": {
      "image/png": {
       "height": 480,
       "width": 420
      }
     },
     "output_type": "display_data"
    }
   ],
   "source": [
    "dat = dat_region_import\n",
    "gpt = ggplot(dat, aes(x=Distance/1000000)) + \n",
    "    geom_histogram(bins=50) +\n",
    "    theme_cowplot() +\n",
    "    background_grid() +\n",
    "    scale_y_log10() +\n",
    "    facet_wrap(~Size, scale = \"free_y\", ncol=1) +\n",
    "    labs(x=\"Mb\", y=\"Count\")\n",
    "\n",
    "options(repr.plot.height=8, repr.plot.width=7)\n",
    "print(gpt)"
   ]
  },
  {
   "cell_type": "markdown",
   "id": "45def53b-8a7c-4930-8c6d-527043b54a11",
   "metadata": {},
   "source": [
    "### Score: Observed"
   ]
  },
  {
   "cell_type": "code",
   "execution_count": 9,
   "id": "d419c769-9654-488b-b604-9c24924473c8",
   "metadata": {},
   "outputs": [
    {
     "data": {
      "text/plain": [
       "   Min. 1st Qu.  Median    Mean 3rd Qu.    Max. \n",
       "   5.00   27.00   41.00   51.97   62.00 1961.00 "
      ]
     },
     "metadata": {},
     "output_type": "display_data"
    }
   ],
   "source": [
    "dat = dat_region_import\n",
    "summary(dat$Observed)"
   ]
  },
  {
   "cell_type": "code",
   "execution_count": 10,
   "id": "ad516be3-a12a-48f6-8c3e-4769676a208e",
   "metadata": {},
   "outputs": [
    {
     "name": "stderr",
     "output_type": "stream",
     "text": [
      "Warning message in scale_y_log10():\n",
      "“\u001b[1m\u001b[22m\u001b[32mlog-10\u001b[39m transformation introduced infinite values.”\n",
      "Warning message:\n",
      "“\u001b[1m\u001b[22mRemoved 177 rows containing missing values or values outside the scale range\n",
      "(`geom_bar()`).”\n"
     ]
    },
    {
     "data": {
      "image/png": "[encoded data removed]",
      "text/plain": [
       "plot without title"
      ]
     },
     "metadata": {
      "image/png": {
       "height": 480,
       "width": 420
      }
     },
     "output_type": "display_data"
    }
   ],
   "source": [
    "dat = dat_region_import\n",
    "gpt = ggplot(dat, aes(x=Observed)) + \n",
    "    geom_histogram(bins=70) +\n",
    "    theme_cowplot() +\n",
    "    background_grid() +\n",
    "    scale_y_log10() +\n",
    "    facet_wrap(~Size, scale = \"free_y\", ncol=1) +\n",
    "    labs(x=\"Raw Contact Count\", y = \"Count\", title = \"Observed Hi-C signal\")\n",
    "\n",
    "options(repr.plot.height=8, repr.plot.width=7)\n",
    "print(gpt)"
   ]
  },
  {
   "cell_type": "markdown",
   "id": "b5fd70cc-7b03-4dbe-9ea0-b28f52e66c2e",
   "metadata": {},
   "source": [
    "### Score: Expected (BL)"
   ]
  },
  {
   "cell_type": "code",
   "execution_count": 11,
   "id": "2464924c-a991-4b4b-b3a0-0990d438c9db",
   "metadata": {},
   "outputs": [
    {
     "data": {
      "text/plain": [
       "    Min.  1st Qu.   Median     Mean  3rd Qu.     Max. \n",
       "  0.1376   6.3027  11.7830  15.9412  20.8398 697.4191 "
      ]
     },
     "metadata": {},
     "output_type": "display_data"
    }
   ],
   "source": [
    "dat = dat_region_import\n",
    "summary(dat$ExpectedBL)"
   ]
  },
  {
   "cell_type": "code",
   "execution_count": 12,
   "id": "68481474-0cfa-473e-8d38-d41742616afa",
   "metadata": {},
   "outputs": [
    {
     "name": "stderr",
     "output_type": "stream",
     "text": [
      "Warning message in scale_y_log10():\n",
      "“\u001b[1m\u001b[22m\u001b[32mlog-10\u001b[39m transformation introduced infinite values.”\n",
      "Warning message:\n",
      "“\u001b[1m\u001b[22mRemoved 173 rows containing missing values or values outside the scale range\n",
      "(`geom_bar()`).”\n"
     ]
    },
    {
     "data": {
      "image/png": "[encoded data removed]",
      "text/plain": [
       "plot without title"
      ]
     },
     "metadata": {
      "image/png": {
       "height": 480,
       "width": 420
      }
     },
     "output_type": "display_data"
    }
   ],
   "source": [
    "dat = dat_region_import\n",
    "gpt = ggplot(dat, aes(x=ExpectedBL)) + \n",
    "    geom_histogram(bins=70) +\n",
    "    theme_cowplot() +\n",
    "    background_grid() +\n",
    "    scale_y_log10() +\n",
    "    facet_wrap(~Size, scale = \"free_y\", ncol=1) +\n",
    "    labs(x=\"Expected (BL)\", y = \"Count\", title = \"Expected Hi-C signal\")\n",
    "\n",
    "options(repr.plot.height=8, repr.plot.width=7)\n",
    "print(gpt)"
   ]
  },
  {
   "cell_type": "code",
   "execution_count": 13,
   "id": "42f21ebd-5f51-49f0-acf3-a4f0e68270e2",
   "metadata": {},
   "outputs": [
    {
     "data": {
      "image/png": "[encoded data removed]",
      "text/plain": [
       "plot without title"
      ]
     },
     "metadata": {
      "image/png": {
       "height": 360,
       "width": 420
      }
     },
     "output_type": "display_data"
    }
   ],
   "source": [
    "dat = dat_region_import\n",
    "gpt = ggplot(dat, aes(x=Distance/1000000, y=ExpectedBL)) + \n",
    "    geom_point() +\n",
    "    theme_cowplot() +\n",
    "    background_grid() +\n",
    "    labs(x=\"Distance (Mb)\", y = \"Expected (BL)\", title = \"Expected Hi-C signal\") +\n",
    "    xlim(0, 10)\n",
    "\n",
    "options(repr.plot.height=6, repr.plot.width=7)\n",
    "print(gpt)"
   ]
  },
  {
   "cell_type": "markdown",
   "id": "76b91f4a-ed35-4ea5-a8ae-0c60bab66492",
   "metadata": {},
   "source": [
    "### Score: Expected (Donut)"
   ]
  },
  {
   "cell_type": "code",
   "execution_count": 14,
   "id": "53798994-762e-4a44-8de9-ea7db336994a",
   "metadata": {},
   "outputs": [
    {
     "name": "stderr",
     "output_type": "stream",
     "text": [
      "Warning message in scale_y_log10():\n",
      "“\u001b[1m\u001b[22m\u001b[32mlog-10\u001b[39m transformation introduced infinite values.”\n",
      "Warning message:\n",
      "“\u001b[1m\u001b[22mRemoved 161 rows containing missing values or values outside the scale range\n",
      "(`geom_bar()`).”\n"
     ]
    },
    {
     "data": {
      "image/png": "[encoded data removed]",
      "text/plain": [
       "plot without title"
      ]
     },
     "metadata": {
      "image/png": {
       "height": 480,
       "width": 420
      }
     },
     "output_type": "display_data"
    }
   ],
   "source": [
    "dat = dat_region_import\n",
    "gpt = ggplot(dat, aes(x=ExpectedDonut)) + \n",
    "    geom_histogram(bins=70) +\n",
    "    theme_cowplot() +\n",
    "    background_grid() +\n",
    "    scale_y_log10() +\n",
    "    facet_wrap(~Size, scale = \"free_y\", ncol=1) +\n",
    "    labs(x=\"Expected (Donut)\", y = \"Count\", title = \"Expected Hi-C signal\")\n",
    "\n",
    "options(repr.plot.height=8, repr.plot.width=7)\n",
    "print(gpt)"
   ]
  },
  {
   "cell_type": "code",
   "execution_count": 15,
   "id": "f299bdb8-a455-4e1a-ad16-e8d20b21a5d1",
   "metadata": {},
   "outputs": [
    {
     "data": {
      "image/png": "[encoded data removed]",
      "text/plain": [
       "plot without title"
      ]
     },
     "metadata": {
      "image/png": {
       "height": 360,
       "width": 420
      }
     },
     "output_type": "display_data"
    }
   ],
   "source": [
    "dat = dat_region_import\n",
    "gpt = ggplot(dat, aes(x=Distance/1000000, y=ExpectedDonut)) + \n",
    "    geom_point() +\n",
    "    theme_cowplot() +\n",
    "    background_grid() +\n",
    "    labs(x=\"Distance (Mb)\", y = \"Expected (Donut)\", title = \"Expected Hi-C signal\") +\n",
    "    xlim(0, 10)\n",
    "\n",
    "options(repr.plot.height=6, repr.plot.width=7)\n",
    "print(gpt)"
   ]
  },
  {
   "cell_type": "markdown",
   "id": "7c33a880-1937-49b9-ad6a-6d92aa4c7d68",
   "metadata": {},
   "source": [
    "### Score: O/E"
   ]
  },
  {
   "cell_type": "code",
   "execution_count": 16,
   "id": "650b4fee-6566-4708-9152-90a28c3733ea",
   "metadata": {},
   "outputs": [
    {
     "data": {
      "text/plain": [
       "   Min. 1st Qu.  Median    Mean 3rd Qu.    Max. \n",
       " 0.8076  1.4222  1.8500  1.9406  2.3676  5.3190 "
      ]
     },
     "metadata": {},
     "output_type": "display_data"
    }
   ],
   "source": [
    "dat = dat_region_import\n",
    "dat = dat %>% dplyr::mutate(Value = log2(Observed / ExpectedDonut))\n",
    "vec = dat$Value\n",
    "\n",
    "summary(vec)"
   ]
  },
  {
   "cell_type": "code",
   "execution_count": 17,
   "id": "a1247d5e-e9be-4c6d-944b-0f00e9e19e20",
   "metadata": {},
   "outputs": [
    {
     "data": {
      "image/png": "[encoded data removed]",
      "text/plain": [
       "plot without title"
      ]
     },
     "metadata": {
      "image/png": {
       "height": 180,
       "width": 420
      }
     },
     "output_type": "display_data"
    }
   ],
   "source": [
    "dat = dat_region_import\n",
    "dat = dat %>% dplyr::mutate(Value = Observed / ExpectedDonut)\n",
    "\n",
    "gpt = ggplot(dat, aes(x=Value)) + \n",
    "    geom_histogram(bins = 70) +\n",
    "    theme_cowplot() +\n",
    "    background_grid()\n",
    "\n",
    "options(repr.plot.height=3, repr.plot.width=7)\n",
    "print(gpt)"
   ]
  },
  {
   "cell_type": "code",
   "execution_count": 18,
   "id": "33b07174-3cdd-4612-95a6-9f9661de9285",
   "metadata": {},
   "outputs": [
    {
     "data": {
      "image/png": "[encoded data removed]",
      "text/plain": [
       "plot without title"
      ]
     },
     "metadata": {
      "image/png": {
       "height": 180,
       "width": 420
      }
     },
     "output_type": "display_data"
    }
   ],
   "source": [
    "dat = dat_region_import\n",
    "dat = dat %>% dplyr::mutate(Value = log2(Observed / ExpectedDonut))\n",
    "\n",
    "gpt = ggplot(dat, aes(x=Value)) + \n",
    "    geom_histogram(bins = 100) +\n",
    "    theme_cowplot() +\n",
    "    background_grid() \n",
    "\n",
    "options(repr.plot.height=3, repr.plot.width=7)\n",
    "print(gpt)"
   ]
  },
  {
   "cell_type": "markdown",
   "id": "e9ac3c0a-ba3a-4b4c-954e-feb3841afd62",
   "metadata": {},
   "source": [
    "## Save results"
   ]
  },
  {
   "cell_type": "code",
   "execution_count": 19,
   "id": "7bfb108d-b3e0-428b-bb95-da63313fb685",
   "metadata": {},
   "outputs": [],
   "source": [
    "### set text size\n",
    "theme_text = theme(\n",
    "    title      = element_text(size = 16),\n",
    "    axis.title = element_text(size = 15),\n",
    "    axis.text  = element_text(size = 15),\n",
    "    strip.text = element_text(size = 15, hjust = 0),\n",
    "    strip.background = element_blank(),\n",
    ")"
   ]
  },
  {
   "cell_type": "markdown",
   "id": "db2e6c64-cb47-4917-9f86-9a62735db177",
   "metadata": {},
   "source": [
    "### Distribution of distance"
   ]
  },
  {
   "cell_type": "markdown",
   "id": "17203ad1-4f05-4f3e-a308-175c9f2e82a9",
   "metadata": {},
   "source": [
    "**Summary**"
   ]
  },
  {
   "cell_type": "code",
   "execution_count": 20,
   "id": "79954a76-c72e-4cca-b788-1aa7c07e16fa",
   "metadata": {},
   "outputs": [
    {
     "name": "stdout",
     "output_type": "stream",
     "text": [
      "                               1000                                2000 \n",
      "\"Resolution = 1kb (Count = 80,948)\" \"Resolution = 2kb (Count = 22,895)\" \n",
      "                               5000                               10000 \n",
      "\"Resolution = 5kb (Count = 19,294)\" \"Resolution = 10kb (Count = 5,577)\" \n"
     ]
    }
   ],
   "source": [
    "### summarize the number of loops by resolution\n",
    "dat = dat_region_import\n",
    "dat = dat %>%\n",
    "    group_by(Size) %>%\n",
    "    summarise(Count = n(), .groups=\"drop\")\n",
    "\n",
    "### label\n",
    "vec = dat %>%\n",
    "    dplyr::mutate(Label = Size) %>%\n",
    "    dplyr::mutate(\n",
    "        line1 = paste0(\"Resolution = \", Size/1000, \"kb\"),\n",
    "        line2 = paste(\"Count =\", scales::comma(Count)),\n",
    "        combined = paste0(line1, \" (\", line2, \")\")\n",
    "    ) %>%\n",
    "    { set_names(.$combined, .$Label) }\n",
    "\n",
    "### assign and show\n",
    "vec_txt_label = vec\n",
    "print(vec_txt_label)"
   ]
  },
  {
   "cell_type": "markdown",
   "id": "a5a3446e-29e0-454b-94a8-a50915f26485",
   "metadata": {},
   "source": [
    "**Plot distribution**"
   ]
  },
  {
   "cell_type": "code",
   "execution_count": 21,
   "id": "b98ba661-cec7-48e6-b855-cbe0fc501ca5",
   "metadata": {},
   "outputs": [
    {
     "name": "stderr",
     "output_type": "stream",
     "text": [
      "Warning message in scale_y_log10():\n",
      "“\u001b[1m\u001b[22m\u001b[32mlog-10\u001b[39m transformation introduced infinite values.”\n",
      "Warning message:\n",
      "“\u001b[1m\u001b[22mRemoved 56 rows containing missing values or values outside the scale range\n",
      "(`geom_bar()`).”\n"
     ]
    },
    {
     "data": {
      "image/png": "[encoded data removed]",
      "text/plain": [
       "plot without title"
      ]
     },
     "metadata": {
      "image/png": {
       "height": 480,
       "width": 420
      }
     },
     "output_type": "display_data"
    }
   ],
   "source": [
    "dat = dat_region_import\n",
    "dat = dat %>% \n",
    "    dplyr::mutate(\n",
    "        Label = Size,\n",
    "        Value = Distance / 10^6\n",
    "    )\n",
    "\n",
    "txt = paste0(\"(Deep intact Hi-C; loop count = ~\", round(nrow(dat)/1000), \"K)\")\n",
    "txt = paste0(\"Distribution of loop distance\", \"\\n\", txt)\n",
    "txt_title = txt\n",
    "\n",
    "gpt = ggplot(dat, aes(x=Value)) + \n",
    "    geom_histogram(bins=70) +\n",
    "    theme_cowplot() +\n",
    "    background_grid() +\n",
    "    theme_text +\n",
    "    scale_y_log10() +\n",
    "    scale_x_continuous(breaks = seq(0, 10, by=1)) +\n",
    "    labs(x=\"Distance (Mb)\", y=\"Count\", title=txt_title) +\n",
    "    facet_wrap(\n",
    "        ~Label, \n",
    "        scale = \"free_y\", \n",
    "        ncol=1, \n",
    "        labeller = labeller(Label = vec_txt_label)\n",
    "    )\n",
    "\n",
    "### assign plot\n",
    "gpt_export_distance = gpt\n",
    "\n",
    "### show plot\n",
    "options(repr.plot.height=8, repr.plot.width=7)\n",
    "print(gpt)"
   ]
  },
  {
   "cell_type": "markdown",
   "id": "e841437b-5a82-4fea-9a8b-e6fbb54d7411",
   "metadata": {},
   "source": [
    "**Save plot**"
   ]
  },
  {
   "cell_type": "code",
   "execution_count": 22,
   "id": "2d5c1d6b-b141-4d62-98e7-a7e25af029db",
   "metadata": {},
   "outputs": [
    {
     "name": "stderr",
     "output_type": "stream",
     "text": [
      "Warning message in scale_y_log10():\n",
      "“\u001b[1m\u001b[22m\u001b[32mlog-10\u001b[39m transformation introduced infinite values.”\n",
      "Warning message:\n",
      "“\u001b[1m\u001b[22mRemoved 56 rows containing missing values or values outside the scale range\n",
      "(`geom_bar()`).”\n",
      "Warning message in scale_y_log10():\n",
      "“\u001b[1m\u001b[22m\u001b[32mlog-10\u001b[39m transformation introduced infinite values.”\n",
      "Warning message:\n",
      "“\u001b[1m\u001b[22mRemoved 56 rows containing missing values or values outside the scale range\n",
      "(`geom_bar()`).”\n"
     ]
    }
   ],
   "source": [
    "### save plot: score distribution\n",
    "plt_export = gpt_export_distance\n",
    "\n",
    "txt_fdiry = \"./\"\n",
    "txt_fname = \"fig.hic_intact_deep.distribution.loop.distance.png\"\n",
    "txt_fpath = file.path(txt_fdiry, txt_fname)\n",
    "ggsave(txt_fpath, plt_export, height = 8, width = 7, units = \"in\")\n",
    "\n",
    "txt_fdiry = \"./\"\n",
    "txt_fname = \"fig.hic_intact_deep.distribution.loop.distance.svg\"\n",
    "txt_fpath = file.path(txt_fdiry, txt_fname)\n",
    "ggsave(txt_fpath, plt_export, height = 8, width = 7, units = \"in\")"
   ]
  },
  {
   "cell_type": "markdown",
   "id": "88cc606b-e57f-4fe1-b4db-a16beb21c2a6",
   "metadata": {},
   "source": [
    "### Distribution of scores"
   ]
  },
  {
   "cell_type": "markdown",
   "id": "b2346df1-1ebd-44f7-ae16-da69017b9ca0",
   "metadata": {},
   "source": [
    "**Helper function to get the mode of a continuous variable**"
   ]
  },
  {
   "cell_type": "code",
   "execution_count": 23,
   "id": "d127a725-d246-45cc-89f9-6b8bd53d423a",
   "metadata": {},
   "outputs": [],
   "source": [
    "get_mode_continuous <- function(x, ...) {\n",
    "    obj = density(x, ...)\n",
    "    num = obj$x[which.max(obj$y)]\n",
    "    return(num)\n",
    "}"
   ]
  },
  {
   "cell_type": "markdown",
   "id": "e36ca0f0-edf2-4fad-b382-ed76c60d4bd4",
   "metadata": {},
   "source": [
    "**Plot distribution**"
   ]
  },
  {
   "cell_type": "code",
   "execution_count": 24,
   "id": "d6bcbaab-666b-4f3a-ad0f-0ecfa005dcd4",
   "metadata": {},
   "outputs": [
    {
     "data": {
      "image/png": "[encoded data removed]",
      "text/plain": [
       "plot without title"
      ]
     },
     "metadata": {
      "image/png": {
       "height": 240,
       "width": 420
      }
     },
     "output_type": "display_data"
    }
   ],
   "source": [
    "dat = dat_region_import\n",
    "dat = dat %>% dplyr::mutate(Value = log2(Observed / ExpectedDonut))\n",
    "\n",
    "vec = dat$Value\n",
    "num_min  = min(vec)\n",
    "num_mode = get_mode_continuous(vec)\n",
    "num_max  = max(vec)\n",
    "\n",
    "txt_title = \"Distribution of loop score (Deep intact Hi-C)\"\n",
    "txt_annot = paste(\n",
    "    \"Min  =\", round(num_min, 2), \"\\n\",\n",
    "    \"Mode =\", round(num_mode,2), \"\\n\",\n",
    "    \"Max  =\", round(num_max, 2)\n",
    ")\n",
    "\n",
    "gpt = ggplot(dat, aes(x=Value)) + \n",
    "    geom_density(linewidth=1.2) +\n",
    "    theme_cowplot() +\n",
    "    background_grid() +\n",
    "    theme_text +\n",
    "    labs(x=\"Log2 ( Observed / Expected )\", y=\"Density\", title=txt_title) +\n",
    "    scale_x_continuous(breaks = seq(0, 6, by=1), limits = c(0, 6)) +\n",
    "    annotate(\n",
    "        \"text\", \n",
    "        x = 4, \n",
    "        y = Inf,\n",
    "        size  = 5,\n",
    "        vjust = 2.0,\n",
    "        label = txt_annot)\n",
    "\n",
    "### assign plot\n",
    "gpt_export_score = gpt\n",
    "\n",
    "### show plot\n",
    "options(repr.plot.height=4, repr.plot.width=7)\n",
    "print(gpt)"
   ]
  },
  {
   "cell_type": "markdown",
   "id": "c3767afb-8429-40b7-afa9-d5fe6701f591",
   "metadata": {},
   "source": [
    "**Save plot**"
   ]
  },
  {
   "cell_type": "code",
   "execution_count": 25,
   "id": "5f10cdd1-f336-408f-83d4-d6022579e0ba",
   "metadata": {},
   "outputs": [],
   "source": [
    "### save plot: score distribution\n",
    "plt_export = gpt_export_score\n",
    "\n",
    "txt_fdiry = \"./\"\n",
    "txt_fname = \"fig.hic_intact_deep.distribution.loop.Log2OE.png\"\n",
    "txt_fpath = file.path(txt_fdiry, txt_fname)\n",
    "ggsave(txt_fpath, plt_export, height = 4, width = 7, units = \"in\")\n",
    "\n",
    "txt_fdiry = \"./\"\n",
    "txt_fname = \"fig.hic_intact_deep.distribution.loop.Log2OE.svg\"\n",
    "txt_fpath = file.path(txt_fdiry, txt_fname)\n",
    "ggsave(txt_fpath, plt_export, height = 4, width = 7, units = \"in\")"
   ]
  }
 ],
 "metadata": {
  "kernelspec": {
   "display_name": "R",
   "language": "R",
   "name": "ir"
  },
  "language_info": {
   "codemirror_mode": "r",
   "file_extension": ".r",
   "mimetype": "text/x-r-source",
   "name": "R",
   "pygments_lexer": "r",
   "version": "4.4.2"
  }
 },
 "nbformat": 4,
 "nbformat_minor": 5
}
