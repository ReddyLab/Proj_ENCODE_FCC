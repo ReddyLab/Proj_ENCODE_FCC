{
 "cells": [
  {
   "cell_type": "raw",
   "id": "eaaecb74-e9b6-4c1a-8a91-d4d1d719a259",
   "metadata": {},
   "source": [
    "---\n",
    "title: Prepare Hi-C data 13 (intact Hi-C)\n",
    "subtitle: Create metadata\n",
    "format:\n",
    "    html:\n",
    "        code-fold:  true\n",
    "        code-tools: true\n",
    "---"
   ]
  },
  {
   "cell_type": "markdown",
   "id": "88cdcfb8-1dbe-4f6d-a5cb-c297549207b3",
   "metadata": {},
   "source": [
    "**Set environment**"
   ]
  },
  {
   "cell_type": "code",
   "execution_count": 1,
   "id": "b24cdf4e-a4bc-46c2-af35-a9548c9f75bb",
   "metadata": {
    "tags": []
   },
   "outputs": [
    {
     "name": "stdout",
     "output_type": "stream",
     "text": [
      "You are working on        Singularity: singularity_proj_encode_fcc \n",
      "BASE DIRECTORY (FD_BASE): /data/reddylab/Kuei \n",
      "REPO DIRECTORY (FD_REPO): /data/reddylab/Kuei/repo \n",
      "WORK DIRECTORY (FD_WORK): /data/reddylab/Kuei/work \n",
      "DATA DIRECTORY (FD_DATA): /data/reddylab/Kuei/data \n",
      "\n",
      "You are working with      ENCODE FCC \n",
      "PATH OF PROJECT (FD_PRJ): /data/reddylab/Kuei/repo/Proj_ENCODE_FCC \n",
      "PROJECT RESULTS (FD_RES): /data/reddylab/Kuei/repo/Proj_ENCODE_FCC/results \n",
      "PROJECT SCRIPTS (FD_EXE): /data/reddylab/Kuei/repo/Proj_ENCODE_FCC/scripts \n",
      "PROJECT DATA    (FD_DAT): /data/reddylab/Kuei/repo/Proj_ENCODE_FCC/data \n",
      "PROJECT NOTE    (FD_NBK): /data/reddylab/Kuei/repo/Proj_ENCODE_FCC/notebooks \n",
      "PROJECT DOCS    (FD_DOC): /data/reddylab/Kuei/repo/Proj_ENCODE_FCC/docs \n",
      "PROJECT LOG     (FD_LOG): /data/reddylab/Kuei/repo/Proj_ENCODE_FCC/log \n",
      "PROJECT REF     (FD_REF): /data/reddylab/Kuei/repo/Proj_ENCODE_FCC/references \n",
      "\n"
     ]
    }
   ],
   "source": [
    "suppressMessages(suppressWarnings(source(\"../run_config_project_sing.R\")))\n",
    "show_env()"
   ]
  },
  {
   "cell_type": "markdown",
   "id": "c8519e17-8a2f-4ba9-8709-01a6b4956267",
   "metadata": {},
   "source": [
    "**Set global variables**"
   ]
  },
  {
   "cell_type": "code",
   "execution_count": 2,
   "id": "6a0e70db-3451-4a48-af78-b5feb3b99a14",
   "metadata": {},
   "outputs": [],
   "source": [
    "TXT_FOLDER_REGION = \"hic_intact_K562_ENCSR479XDG\"\n",
    "TXT_ASSAY = \"hic_intact_ENCSR479XDG\"\n",
    "TXT_INDEX = \"ENCSR479XDG\""
   ]
  },
  {
   "cell_type": "markdown",
   "id": "ab90c2c2-18bf-4c4a-83bd-b5295bfefc8f",
   "metadata": {},
   "source": [
    "## Define column description"
   ]
  },
  {
   "cell_type": "code",
   "execution_count": 3,
   "id": "d42927f3-2d5c-43fc-8757-433b7176cb11",
   "metadata": {},
   "outputs": [
    {
     "data": {
      "text/html": [
       "<table>\n",
       " <thead>\n",
       "  <tr>\n",
       "   <th style=\"text-align:left;\"> Name </th>\n",
       "   <th style=\"text-align:left;\"> Note </th>\n",
       "  </tr>\n",
       " </thead>\n",
       "<tbody>\n",
       "  <tr>\n",
       "   <td style=\"text-align:left;\"> Chrom </td>\n",
       "   <td style=\"text-align:left;\"> Name of the chromosome </td>\n",
       "  </tr>\n",
       "  <tr>\n",
       "   <td style=\"text-align:left;\"> ChromStart </td>\n",
       "   <td style=\"text-align:left;\"> The starting position of the feature in the chromosome </td>\n",
       "  </tr>\n",
       "  <tr>\n",
       "   <td style=\"text-align:left;\"> ChromEnd </td>\n",
       "   <td style=\"text-align:left;\"> The ending position of the feature in the chromosome </td>\n",
       "  </tr>\n",
       "  <tr>\n",
       "   <td style=\"text-align:left;\"> Name </td>\n",
       "   <td style=\"text-align:left;\"> Name given to a region; Use '.' if no name is assigned. </td>\n",
       "  </tr>\n",
       "  <tr>\n",
       "   <td style=\"text-align:left;\"> Group </td>\n",
       "   <td style=\"text-align:left;\"> Assay Name </td>\n",
       "  </tr>\n",
       "  <tr>\n",
       "   <td style=\"text-align:left;\"> Label </td>\n",
       "   <td style=\"text-align:left;\"> Region Label </td>\n",
       "  </tr>\n",
       "</tbody>\n",
       "</table>"
      ]
     },
     "metadata": {},
     "output_type": "display_data"
    }
   ],
   "source": [
    "### set column name and description\n",
    "dat = tribble(\n",
    "    ~Name,        ~Note,\n",
    "    \"Chrom\",      \"Name of the chromosome\",\n",
    "    \"ChromStart\", \"The starting position of the feature in the chromosome\",\n",
    "    \"ChromEnd\",   \"The ending position of the feature in the chromosome\",\n",
    "    \"Name\",       \"Name given to a region; Use '.' if no name is assigned.\",\n",
    "    \"Group\",      \"Assay Name\",\n",
    "    \"Label\",      \"Region Label\"\n",
    ")\n",
    "\n",
    "### assign and show\n",
    "dat_cname = dat\n",
    "fun_display_table(dat)"
   ]
  },
  {
   "cell_type": "markdown",
   "id": "71ccd665-ee46-42b7-82ad-63c9a37f9f55",
   "metadata": {},
   "source": [
    "## Define file labeling"
   ]
  },
  {
   "cell_type": "code",
   "execution_count": 4,
   "id": "a5af0496-5651-4089-8238-09af7a5054da",
   "metadata": {},
   "outputs": [
    {
     "name": "stdout",
     "output_type": "stream",
     "text": [
      "[1] \"K562.hg38.hic_intact.Loop_A.bed.gz\" \"K562.hg38.hic_intact.Loop_B.bed.gz\"\n",
      "[3] \"K562.hg38.hic_intact.TAD.bed.gz\"   \n"
     ]
    }
   ],
   "source": [
    "### set directory\n",
    "txt_folder = TXT_FOLDER_REGION\n",
    "txt_fdiry  = file.path(FD_RES, \"region\", txt_folder)\n",
    "txt_fglob  = file.path(txt_fdiry, \"*bed*\")\n",
    "\n",
    "### get file names\n",
    "vec_txt_fpath = Sys.glob(txt_fglob)\n",
    "vec_txt_fname = basename(vec_txt_fpath)\n",
    "print(vec_txt_fname)"
   ]
  },
  {
   "cell_type": "code",
   "execution_count": 5,
   "id": "07991ded-5af2-44e3-a8af-da673c0af33c",
   "metadata": {},
   "outputs": [
    {
     "data": {
      "text/html": [
       "<table>\n",
       " <thead>\n",
       "  <tr>\n",
       "   <th style=\"text-align:left;\"> Folder </th>\n",
       "   <th style=\"text-align:left;\"> FName </th>\n",
       "   <th style=\"text-align:left;\"> Label </th>\n",
       "   <th style=\"text-align:left;\"> FPath </th>\n",
       "  </tr>\n",
       " </thead>\n",
       "<tbody>\n",
       "  <tr>\n",
       "   <td style=\"text-align:left;\"> hic_intact_K562_ENCSR479XDG </td>\n",
       "   <td style=\"text-align:left;\"> K562.hg38.hic_intact.Loop_A.bed.gz </td>\n",
       "   <td style=\"text-align:left;\"> hic_intact_Loop_A_ENCSR479XDG </td>\n",
       "   <td style=\"text-align:left;\"> /data/reddylab/Kuei/repo/Proj_ENCODE_FCC/results/region/hic_intact_K562_ENCSR479XDG/K562.hg38.hic_intact.Loop_A.bed.gz </td>\n",
       "  </tr>\n",
       "  <tr>\n",
       "   <td style=\"text-align:left;\"> hic_intact_K562_ENCSR479XDG </td>\n",
       "   <td style=\"text-align:left;\"> K562.hg38.hic_intact.Loop_B.bed.gz </td>\n",
       "   <td style=\"text-align:left;\"> hic_intact_Loop_B_ENCSR479XDG </td>\n",
       "   <td style=\"text-align:left;\"> /data/reddylab/Kuei/repo/Proj_ENCODE_FCC/results/region/hic_intact_K562_ENCSR479XDG/K562.hg38.hic_intact.Loop_B.bed.gz </td>\n",
       "  </tr>\n",
       "  <tr>\n",
       "   <td style=\"text-align:left;\"> hic_intact_K562_ENCSR479XDG </td>\n",
       "   <td style=\"text-align:left;\"> K562.hg38.hic_intact.TAD.bed.gz </td>\n",
       "   <td style=\"text-align:left;\"> hic_intact_TAD_ENCSR479XDG </td>\n",
       "   <td style=\"text-align:left;\"> /data/reddylab/Kuei/repo/Proj_ENCODE_FCC/results/region/hic_intact_K562_ENCSR479XDG/K562.hg38.hic_intact.TAD.bed.gz </td>\n",
       "  </tr>\n",
       "</tbody>\n",
       "</table>"
      ]
     },
     "metadata": {},
     "output_type": "display_data"
    }
   ],
   "source": [
    "### set directory\n",
    "txt_folder = TXT_FOLDER_REGION\n",
    "txt_fdiry  = file.path(FD_RES, \"region\", txt_folder)\n",
    "txt_fglob  = file.path(txt_fdiry, \"*bed*\")\n",
    "\n",
    "### get file names\n",
    "vec_txt_fpath = Sys.glob(txt_fglob)\n",
    "vec_txt_fname = basename(vec_txt_fpath)\n",
    "\n",
    "### init info table\n",
    "dat = data.frame(\n",
    "    \"Folder\" = txt_folder,\n",
    "    \"FName\"  = vec_txt_fname,\n",
    "    \"FPath\"  = vec_txt_fpath\n",
    ")\n",
    "\n",
    "### arrange table\n",
    "txt_index = TXT_INDEX\n",
    "dat = dat %>% tidyr::separate(\n",
    "        FName, \n",
    "        c(\"Biosample\", \"Genome\", \"Assay\", \"Label\", \"File_Type\", \"File_Ext\"),\n",
    "        sep = \"\\\\.\",\n",
    "        remove = FALSE\n",
    "    ) %>%\n",
    "    #dplyr::mutate(Label = paste(tolower(Assay), Label, Index_File, sep=\"_\")) %>%\n",
    "    dplyr::mutate(Label = paste(tolower(Assay), Label, txt_index, sep=\"_\")) %>%\n",
    "    dplyr::select(Folder, FName, Label, FPath) \n",
    "\n",
    "### assign and show\n",
    "dat_region_label = dat\n",
    "fun_display_table(dat)"
   ]
  },
  {
   "cell_type": "markdown",
   "id": "c79ccb82-854a-40d5-a0f8-ef31072ba235",
   "metadata": {},
   "source": [
    "## Save results"
   ]
  },
  {
   "cell_type": "code",
   "execution_count": 6,
   "id": "206c8bc3-6f0d-4d69-8a51-b4967ca1cbba",
   "metadata": {},
   "outputs": [],
   "source": [
    "txt_folder = TXT_FOLDER_REGION\n",
    "txt_fdiry  = file.path(FD_RES, \"region\", txt_folder, \"summary\")\n",
    "txt_fname  = \"description.tsv\"\n",
    "txt_fpath  = file.path(txt_fdiry, txt_fname)\n",
    "\n",
    "dir.create(txt_fdiry, showWarnings = FALSE)\n",
    "dat = dat_cname\n",
    "write_tsv(dat, txt_fpath)"
   ]
  },
  {
   "cell_type": "code",
   "execution_count": 7,
   "id": "69f9c44a-2d57-488f-b1a5-a6965424f7eb",
   "metadata": {},
   "outputs": [],
   "source": [
    "txt_folder = TXT_FOLDER_REGION\n",
    "txt_fdiry  = file.path(FD_RES, \"region\", txt_folder, \"summary\")\n",
    "txt_fname  = \"metadata.label.tsv\"\n",
    "txt_fpath  = file.path(txt_fdiry, txt_fname)\n",
    "\n",
    "dir.create(txt_fdiry, showWarnings = FALSE)\n",
    "dat = dat_region_label\n",
    "write_tsv(dat, txt_fpath)"
   ]
  },
  {
   "cell_type": "code",
   "execution_count": null,
   "id": "16d79d8d-4e69-48ec-8b5f-90d0cc07d4ea",
   "metadata": {},
   "outputs": [],
   "source": []
  }
 ],
 "metadata": {
  "kernelspec": {
   "display_name": "R",
   "language": "R",
   "name": "ir"
  },
  "language_info": {
   "codemirror_mode": "r",
   "file_extension": ".r",
   "mimetype": "text/x-r-source",
   "name": "R",
   "pygments_lexer": "r",
   "version": "4.4.2"
  }
 },
 "nbformat": 4,
 "nbformat_minor": 5
}
