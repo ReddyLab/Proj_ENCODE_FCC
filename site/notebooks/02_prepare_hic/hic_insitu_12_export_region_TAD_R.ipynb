{
 "cells": [
  {
   "cell_type": "raw",
   "id": "fcc518b6-7d0c-4107-8bcd-14a11ea4f852",
   "metadata": {},
   "source": [
    "---\n",
    "title: Prepare Hi-C data 12 (in situ Hi-C)\n",
    "subtitle: Prepare data (TAD)\n",
    "format:\n",
    "    html:\n",
    "        code-fold:  true\n",
    "        code-tools: true\n",
    "---"
   ]
  },
  {
   "cell_type": "markdown",
   "id": "099bb49a-19c8-4a70-8a8f-1b6e8d64346a",
   "metadata": {},
   "source": [
    "**Set environment**"
   ]
  },
  {
   "cell_type": "code",
   "execution_count": 1,
   "id": "a9db50c4-8f79-43a6-9c8c-ba94405997e0",
   "metadata": {
    "tags": []
   },
   "outputs": [
    {
     "name": "stdout",
     "output_type": "stream",
     "text": [
      "You are working on        Singularity: singularity_proj_encode_fcc \n",
      "BASE DIRECTORY (FD_BASE): /data/reddylab/Kuei \n",
      "REPO DIRECTORY (FD_REPO): /data/reddylab/Kuei/repo \n",
      "WORK DIRECTORY (FD_WORK): /data/reddylab/Kuei/work \n",
      "DATA DIRECTORY (FD_DATA): /data/reddylab/Kuei/data \n",
      "\n",
      "You are working with      ENCODE FCC \n",
      "PATH OF PROJECT (FD_PRJ): /data/reddylab/Kuei/repo/Proj_ENCODE_FCC \n",
      "PROJECT RESULTS (FD_RES): /data/reddylab/Kuei/repo/Proj_ENCODE_FCC/results \n",
      "PROJECT SCRIPTS (FD_EXE): /data/reddylab/Kuei/repo/Proj_ENCODE_FCC/scripts \n",
      "PROJECT DATA    (FD_DAT): /data/reddylab/Kuei/repo/Proj_ENCODE_FCC/data \n",
      "PROJECT NOTE    (FD_NBK): /data/reddylab/Kuei/repo/Proj_ENCODE_FCC/notebooks \n",
      "PROJECT DOCS    (FD_DOC): /data/reddylab/Kuei/repo/Proj_ENCODE_FCC/docs \n",
      "PROJECT LOG     (FD_LOG): /data/reddylab/Kuei/repo/Proj_ENCODE_FCC/log \n",
      "PROJECT REF     (FD_REF): /data/reddylab/Kuei/repo/Proj_ENCODE_FCC/references \n",
      "\n"
     ]
    }
   ],
   "source": [
    "suppressMessages(suppressWarnings(source(\"../run_config_project_sing.R\")))\n",
    "show_env()"
   ]
  },
  {
   "cell_type": "markdown",
   "id": "56df2565-3f26-4a1a-9ad4-8f1fb2f0b37b",
   "metadata": {},
   "source": [
    "**Set global variables**"
   ]
  },
  {
   "cell_type": "code",
   "execution_count": 2,
   "id": "7644756e-74d1-43dd-8181-da10a1afdfaa",
   "metadata": {},
   "outputs": [],
   "source": [
    "TXT_FOLDER_REGION = \"hic_insitu_K562_ENCSR545YBD\"\n",
    "TXT_ASSAY = \"hic_insitu\"\n",
    "TXT_INDEX = \"ENCSR545YBD\""
   ]
  },
  {
   "cell_type": "markdown",
   "id": "3884df2c-d195-464f-86d0-8e3292e7015c",
   "metadata": {},
   "source": [
    "## Import data"
   ]
  },
  {
   "cell_type": "markdown",
   "id": "c5c750e4-25b2-45e2-a161-86768ef710c7",
   "metadata": {},
   "source": [
    "**View files**"
   ]
  },
  {
   "cell_type": "code",
   "execution_count": 3,
   "id": "eb37b40d-3182-4210-bb7d-d77734c7dd87",
   "metadata": {},
   "outputs": [
    {
     "name": "stdout",
     "output_type": "stream",
     "text": [
      "K562.hg38.ENCSR545YBD.ENCFF271SAF.hic_insitu.contact_domain.bedpe.gz \n",
      "K562.hg38.ENCSR545YBD.ENCFF616PUW.hic_insitu.matrix.hic \n",
      "K562.hg38.ENCSR545YBD.ENCFF693XIL.hic_insitu.loop.bedpe.gz \n",
      "run_download.log.txt \n",
      "run_download.sh \n"
     ]
    }
   ],
   "source": [
    "txt_folder = TXT_FOLDER_REGION\n",
    "txt_fdiry  = file.path(FD_DAT, \"external\", txt_folder)\n",
    "\n",
    "vec = dir(txt_fdiry)\n",
    "for (txt in vec){cat(txt, \"\\n\")}"
   ]
  },
  {
   "cell_type": "markdown",
   "id": "6d35f2a5-8a42-4ba2-a190-4fd5cf6e0b55",
   "metadata": {},
   "source": [
    "**Import data**"
   ]
  },
  {
   "cell_type": "code",
   "execution_count": 4,
   "id": "302be243-7e58-4321-9217-7892fb353b0b",
   "metadata": {},
   "outputs": [
    {
     "name": "stderr",
     "output_type": "stream",
     "text": [
      "\u001b[1m\u001b[22mNew names:\n",
      "\u001b[36m•\u001b[39m `score` -> `score...8`\n",
      "\u001b[36m•\u001b[39m `score` -> `score...12`\n",
      "Warning message:\n",
      "“\u001b[1m\u001b[22mOne or more parsing issues, call `problems()` on your data frame for details,\n",
      "e.g.:\n",
      "  dat <- vroom(...)\n",
      "  problems(dat)”\n"
     ]
    },
    {
     "name": "stdout",
     "output_type": "stream",
     "text": [
      "[1] 5703   16\n"
     ]
    },
    {
     "data": {
      "text/html": [
       "<table>\n",
       " <thead>\n",
       "  <tr>\n",
       "   <th style=\"text-align:left;\"> chr </th>\n",
       "   <th style=\"text-align:right;\"> x1 </th>\n",
       "   <th style=\"text-align:right;\"> x2 </th>\n",
       "   <th style=\"text-align:left;\"> chr2 </th>\n",
       "   <th style=\"text-align:right;\"> y1 </th>\n",
       "   <th style=\"text-align:right;\"> y2 </th>\n",
       "   <th style=\"text-align:left;\"> name </th>\n",
       "   <th style=\"text-align:left;\"> score...8 </th>\n",
       "   <th style=\"text-align:left;\"> strand1 </th>\n",
       "   <th style=\"text-align:left;\"> strand2 </th>\n",
       "   <th style=\"text-align:left;\"> color </th>\n",
       "   <th style=\"text-align:right;\"> score...12 </th>\n",
       "   <th style=\"text-align:right;\"> uVarScore </th>\n",
       "   <th style=\"text-align:right;\"> lVarScore </th>\n",
       "   <th style=\"text-align:right;\"> upSign </th>\n",
       "   <th style=\"text-align:right;\"> loSign </th>\n",
       "  </tr>\n",
       " </thead>\n",
       "<tbody>\n",
       "  <tr>\n",
       "   <td style=\"text-align:left;\"> chr10 </td>\n",
       "   <td style=\"text-align:right;\"> 84565000 </td>\n",
       "   <td style=\"text-align:right;\"> 86085000 </td>\n",
       "   <td style=\"text-align:left;\"> chr10 </td>\n",
       "   <td style=\"text-align:right;\"> 84565000 </td>\n",
       "   <td style=\"text-align:right;\"> 86085000 </td>\n",
       "   <td style=\"text-align:left;\"> . </td>\n",
       "   <td style=\"text-align:left;\"> . </td>\n",
       "   <td style=\"text-align:left;\"> . </td>\n",
       "   <td style=\"text-align:left;\"> . </td>\n",
       "   <td style=\"text-align:left;\"> 255,255,0 </td>\n",
       "   <td style=\"text-align:right;\"> 0.7973227 </td>\n",
       "   <td style=\"text-align:right;\"> 0.3603668 </td>\n",
       "   <td style=\"text-align:right;\"> 0.3402993 </td>\n",
       "   <td style=\"text-align:right;\"> 0.4446594 </td>\n",
       "   <td style=\"text-align:right;\"> 0.5478586 </td>\n",
       "  </tr>\n",
       "  <tr>\n",
       "   <td style=\"text-align:left;\"> chr10 </td>\n",
       "   <td style=\"text-align:right;\"> 50985000 </td>\n",
       "   <td style=\"text-align:right;\"> 52225000 </td>\n",
       "   <td style=\"text-align:left;\"> chr10 </td>\n",
       "   <td style=\"text-align:right;\"> 50985000 </td>\n",
       "   <td style=\"text-align:right;\"> 52225000 </td>\n",
       "   <td style=\"text-align:left;\"> . </td>\n",
       "   <td style=\"text-align:left;\"> . </td>\n",
       "   <td style=\"text-align:left;\"> . </td>\n",
       "   <td style=\"text-align:left;\"> . </td>\n",
       "   <td style=\"text-align:left;\"> 255,255,0 </td>\n",
       "   <td style=\"text-align:right;\"> 1.0083018 </td>\n",
       "   <td style=\"text-align:right;\"> 0.3171058 </td>\n",
       "   <td style=\"text-align:right;\"> 0.3477260 </td>\n",
       "   <td style=\"text-align:right;\"> 0.5433548 </td>\n",
       "   <td style=\"text-align:right;\"> 0.4545161 </td>\n",
       "  </tr>\n",
       "  <tr>\n",
       "   <td style=\"text-align:left;\"> chr10 </td>\n",
       "   <td style=\"text-align:right;\"> 98415000 </td>\n",
       "   <td style=\"text-align:right;\"> 99300000 </td>\n",
       "   <td style=\"text-align:left;\"> chr10 </td>\n",
       "   <td style=\"text-align:right;\"> 98415000 </td>\n",
       "   <td style=\"text-align:right;\"> 99300000 </td>\n",
       "   <td style=\"text-align:left;\"> . </td>\n",
       "   <td style=\"text-align:left;\"> . </td>\n",
       "   <td style=\"text-align:left;\"> . </td>\n",
       "   <td style=\"text-align:left;\"> . </td>\n",
       "   <td style=\"text-align:left;\"> 255,255,0 </td>\n",
       "   <td style=\"text-align:right;\"> 0.6516994 </td>\n",
       "   <td style=\"text-align:right;\"> 0.2746902 </td>\n",
       "   <td style=\"text-align:right;\"> 0.2858612 </td>\n",
       "   <td style=\"text-align:right;\"> 0.4402222 </td>\n",
       "   <td style=\"text-align:right;\"> 0.6153263 </td>\n",
       "  </tr>\n",
       "  <tr>\n",
       "   <td style=\"text-align:left;\"> chr10 </td>\n",
       "   <td style=\"text-align:right;\"> 112500000 </td>\n",
       "   <td style=\"text-align:right;\"> 113595000 </td>\n",
       "   <td style=\"text-align:left;\"> chr10 </td>\n",
       "   <td style=\"text-align:right;\"> 112500000 </td>\n",
       "   <td style=\"text-align:right;\"> 113595000 </td>\n",
       "   <td style=\"text-align:left;\"> . </td>\n",
       "   <td style=\"text-align:left;\"> . </td>\n",
       "   <td style=\"text-align:left;\"> . </td>\n",
       "   <td style=\"text-align:left;\"> . </td>\n",
       "   <td style=\"text-align:left;\"> 255,255,0 </td>\n",
       "   <td style=\"text-align:right;\"> 1.1134926 </td>\n",
       "   <td style=\"text-align:right;\"> 0.2805900 </td>\n",
       "   <td style=\"text-align:right;\"> 0.2788020 </td>\n",
       "   <td style=\"text-align:right;\"> 0.6329752 </td>\n",
       "   <td style=\"text-align:right;\"> 0.5778512 </td>\n",
       "  </tr>\n",
       "  <tr>\n",
       "   <td style=\"text-align:left;\"> chr10 </td>\n",
       "   <td style=\"text-align:right;\"> 98715000 </td>\n",
       "   <td style=\"text-align:right;\"> 99265000 </td>\n",
       "   <td style=\"text-align:left;\"> chr10 </td>\n",
       "   <td style=\"text-align:right;\"> 98715000 </td>\n",
       "   <td style=\"text-align:right;\"> 99265000 </td>\n",
       "   <td style=\"text-align:left;\"> . </td>\n",
       "   <td style=\"text-align:left;\"> . </td>\n",
       "   <td style=\"text-align:left;\"> . </td>\n",
       "   <td style=\"text-align:left;\"> . </td>\n",
       "   <td style=\"text-align:left;\"> 255,255,0 </td>\n",
       "   <td style=\"text-align:right;\"> 0.6108739 </td>\n",
       "   <td style=\"text-align:right;\"> 0.2388994 </td>\n",
       "   <td style=\"text-align:right;\"> 0.2776476 </td>\n",
       "   <td style=\"text-align:right;\"> 0.4019481 </td>\n",
       "   <td style=\"text-align:right;\"> 0.4756494 </td>\n",
       "  </tr>\n",
       "  <tr>\n",
       "   <td style=\"text-align:left;\"> chr10 </td>\n",
       "   <td style=\"text-align:right;\"> 94630000 </td>\n",
       "   <td style=\"text-align:right;\"> 95075000 </td>\n",
       "   <td style=\"text-align:left;\"> chr10 </td>\n",
       "   <td style=\"text-align:right;\"> 94630000 </td>\n",
       "   <td style=\"text-align:right;\"> 95075000 </td>\n",
       "   <td style=\"text-align:left;\"> . </td>\n",
       "   <td style=\"text-align:left;\"> . </td>\n",
       "   <td style=\"text-align:left;\"> . </td>\n",
       "   <td style=\"text-align:left;\"> . </td>\n",
       "   <td style=\"text-align:left;\"> 255,255,0 </td>\n",
       "   <td style=\"text-align:right;\"> 1.0027722 </td>\n",
       "   <td style=\"text-align:right;\"> 0.2445123 </td>\n",
       "   <td style=\"text-align:right;\"> 0.2682168 </td>\n",
       "   <td style=\"text-align:right;\"> 0.6469136 </td>\n",
       "   <td style=\"text-align:right;\"> 0.4656790 </td>\n",
       "  </tr>\n",
       "</tbody>\n",
       "</table>"
      ]
     },
     "metadata": {},
     "output_type": "display_data"
    }
   ],
   "source": [
    "### set file path\n",
    "txt_folder = TXT_FOLDER_REGION\n",
    "txt_fdiry  = file.path(FD_DAT, \"external\", txt_folder)\n",
    "txt_fname = \"K562.hg38.ENCSR545YBD.ENCFF271SAF.hic_insitu.contact_domain.bedpe.gz\"\n",
    "txt_fpath = file.path(txt_fdiry, txt_fname)\n",
    "\n",
    "### read table\n",
    "dat = read_tsv(txt_fpath, col_types = list(\"color\"=col_character()), show_col_types = FALSE)\n",
    "\n",
    "### arrange columns\n",
    "dat = dat %>% dplyr::filter(!row_number() == 1)\n",
    "colnames(dat)[1] = \"chr\"\n",
    "\n",
    "### assign and show\n",
    "dat_region_import = dat\n",
    "print(dim(dat))\n",
    "fun_display_table(head(dat))"
   ]
  },
  {
   "cell_type": "code",
   "execution_count": 5,
   "id": "c4593907-fbca-4ba1-a85a-a2201920130f",
   "metadata": {},
   "outputs": [
    {
     "data": {
      "text/html": [
       "<style>\n",
       ".list-inline {list-style: none; margin:0; padding: 0}\n",
       ".list-inline>li {display: inline-block}\n",
       ".list-inline>li:not(:last-child)::after {content: \"\\00b7\"; padding: 0 .5ex}\n",
       "</style>\n",
       "<ol class=list-inline><li>'chr'</li><li>'x1'</li><li>'x2'</li><li>'chr2'</li><li>'y1'</li><li>'y2'</li><li>'name'</li><li>'score...8'</li><li>'strand1'</li><li>'strand2'</li><li>'color'</li><li>'score...12'</li><li>'uVarScore'</li><li>'lVarScore'</li><li>'upSign'</li><li>'loSign'</li></ol>\n"
      ],
      "text/latex": [
       "\\begin{enumerate*}\n",
       "\\item 'chr'\n",
       "\\item 'x1'\n",
       "\\item 'x2'\n",
       "\\item 'chr2'\n",
       "\\item 'y1'\n",
       "\\item 'y2'\n",
       "\\item 'name'\n",
       "\\item 'score...8'\n",
       "\\item 'strand1'\n",
       "\\item 'strand2'\n",
       "\\item 'color'\n",
       "\\item 'score...12'\n",
       "\\item 'uVarScore'\n",
       "\\item 'lVarScore'\n",
       "\\item 'upSign'\n",
       "\\item 'loSign'\n",
       "\\end{enumerate*}\n"
      ],
      "text/markdown": [
       "1. 'chr'\n",
       "2. 'x1'\n",
       "3. 'x2'\n",
       "4. 'chr2'\n",
       "5. 'y1'\n",
       "6. 'y2'\n",
       "7. 'name'\n",
       "8. 'score...8'\n",
       "9. 'strand1'\n",
       "10. 'strand2'\n",
       "11. 'color'\n",
       "12. 'score...12'\n",
       "13. 'uVarScore'\n",
       "14. 'lVarScore'\n",
       "15. 'upSign'\n",
       "16. 'loSign'\n",
       "\n",
       "\n"
      ],
      "text/plain": [
       " [1] \"chr\"        \"x1\"         \"x2\"         \"chr2\"       \"y1\"        \n",
       " [6] \"y2\"         \"name\"       \"score...8\"  \"strand1\"    \"strand2\"   \n",
       "[11] \"color\"      \"score...12\" \"uVarScore\"  \"lVarScore\"  \"upSign\"    \n",
       "[16] \"loSign\"    "
      ]
     },
     "metadata": {},
     "output_type": "display_data"
    }
   ],
   "source": [
    "colnames(dat)"
   ]
  },
  {
   "cell_type": "markdown",
   "id": "2da47e45-8042-41aa-8a79-d00d536ce2b0",
   "metadata": {},
   "source": [
    "## Rename columns"
   ]
  },
  {
   "cell_type": "code",
   "execution_count": 6,
   "id": "a3338763-dd41-4667-898b-92fbe3e86ef9",
   "metadata": {},
   "outputs": [],
   "source": [
    "fun_toupper_first = function(txt_input){\n",
    "    txt_first  = toupper(substring(txt_input, 1, 1))\n",
    "    txt_rest   = substring(txt_input, 2)\n",
    "    txt_output = paste0(txt_first, txt_rest)\n",
    "    return(txt_output)\n",
    "}"
   ]
  },
  {
   "cell_type": "code",
   "execution_count": 7,
   "id": "a888725f-148d-4857-8f4d-6e7ea4a6d3e0",
   "metadata": {},
   "outputs": [
    {
     "name": "stdout",
     "output_type": "stream",
     "text": [
      "[1] 5703   16\n"
     ]
    },
    {
     "data": {
      "text/html": [
       "<table>\n",
       " <thead>\n",
       "  <tr>\n",
       "   <th style=\"text-align:left;\"> Chrom_1 </th>\n",
       "   <th style=\"text-align:right;\"> ChromStart_1 </th>\n",
       "   <th style=\"text-align:right;\"> ChromEnd_1 </th>\n",
       "   <th style=\"text-align:left;\"> Chrom_2 </th>\n",
       "   <th style=\"text-align:right;\"> ChromStart_2 </th>\n",
       "   <th style=\"text-align:right;\"> ChromEnd_2 </th>\n",
       "   <th style=\"text-align:left;\"> Name </th>\n",
       "   <th style=\"text-align:left;\"> Score </th>\n",
       "   <th style=\"text-align:left;\"> Strand_1 </th>\n",
       "   <th style=\"text-align:left;\"> Strand_2 </th>\n",
       "   <th style=\"text-align:left;\"> Color </th>\n",
       "   <th style=\"text-align:right;\"> DomainScore </th>\n",
       "   <th style=\"text-align:right;\"> UVarScore </th>\n",
       "   <th style=\"text-align:right;\"> LVarScore </th>\n",
       "   <th style=\"text-align:right;\"> UpSign </th>\n",
       "   <th style=\"text-align:right;\"> LoSign </th>\n",
       "  </tr>\n",
       " </thead>\n",
       "<tbody>\n",
       "  <tr>\n",
       "   <td style=\"text-align:left;\"> chr10 </td>\n",
       "   <td style=\"text-align:right;\"> 84565000 </td>\n",
       "   <td style=\"text-align:right;\"> 86085000 </td>\n",
       "   <td style=\"text-align:left;\"> chr10 </td>\n",
       "   <td style=\"text-align:right;\"> 84565000 </td>\n",
       "   <td style=\"text-align:right;\"> 86085000 </td>\n",
       "   <td style=\"text-align:left;\"> . </td>\n",
       "   <td style=\"text-align:left;\"> . </td>\n",
       "   <td style=\"text-align:left;\"> . </td>\n",
       "   <td style=\"text-align:left;\"> . </td>\n",
       "   <td style=\"text-align:left;\"> 255,255,0 </td>\n",
       "   <td style=\"text-align:right;\"> 0.7973227 </td>\n",
       "   <td style=\"text-align:right;\"> 0.3603668 </td>\n",
       "   <td style=\"text-align:right;\"> 0.3402993 </td>\n",
       "   <td style=\"text-align:right;\"> 0.4446594 </td>\n",
       "   <td style=\"text-align:right;\"> 0.5478586 </td>\n",
       "  </tr>\n",
       "  <tr>\n",
       "   <td style=\"text-align:left;\"> chr10 </td>\n",
       "   <td style=\"text-align:right;\"> 50985000 </td>\n",
       "   <td style=\"text-align:right;\"> 52225000 </td>\n",
       "   <td style=\"text-align:left;\"> chr10 </td>\n",
       "   <td style=\"text-align:right;\"> 50985000 </td>\n",
       "   <td style=\"text-align:right;\"> 52225000 </td>\n",
       "   <td style=\"text-align:left;\"> . </td>\n",
       "   <td style=\"text-align:left;\"> . </td>\n",
       "   <td style=\"text-align:left;\"> . </td>\n",
       "   <td style=\"text-align:left;\"> . </td>\n",
       "   <td style=\"text-align:left;\"> 255,255,0 </td>\n",
       "   <td style=\"text-align:right;\"> 1.0083018 </td>\n",
       "   <td style=\"text-align:right;\"> 0.3171058 </td>\n",
       "   <td style=\"text-align:right;\"> 0.3477260 </td>\n",
       "   <td style=\"text-align:right;\"> 0.5433548 </td>\n",
       "   <td style=\"text-align:right;\"> 0.4545161 </td>\n",
       "  </tr>\n",
       "  <tr>\n",
       "   <td style=\"text-align:left;\"> chr10 </td>\n",
       "   <td style=\"text-align:right;\"> 98415000 </td>\n",
       "   <td style=\"text-align:right;\"> 99300000 </td>\n",
       "   <td style=\"text-align:left;\"> chr10 </td>\n",
       "   <td style=\"text-align:right;\"> 98415000 </td>\n",
       "   <td style=\"text-align:right;\"> 99300000 </td>\n",
       "   <td style=\"text-align:left;\"> . </td>\n",
       "   <td style=\"text-align:left;\"> . </td>\n",
       "   <td style=\"text-align:left;\"> . </td>\n",
       "   <td style=\"text-align:left;\"> . </td>\n",
       "   <td style=\"text-align:left;\"> 255,255,0 </td>\n",
       "   <td style=\"text-align:right;\"> 0.6516994 </td>\n",
       "   <td style=\"text-align:right;\"> 0.2746902 </td>\n",
       "   <td style=\"text-align:right;\"> 0.2858612 </td>\n",
       "   <td style=\"text-align:right;\"> 0.4402222 </td>\n",
       "   <td style=\"text-align:right;\"> 0.6153263 </td>\n",
       "  </tr>\n",
       "  <tr>\n",
       "   <td style=\"text-align:left;\"> chr10 </td>\n",
       "   <td style=\"text-align:right;\"> 112500000 </td>\n",
       "   <td style=\"text-align:right;\"> 113595000 </td>\n",
       "   <td style=\"text-align:left;\"> chr10 </td>\n",
       "   <td style=\"text-align:right;\"> 112500000 </td>\n",
       "   <td style=\"text-align:right;\"> 113595000 </td>\n",
       "   <td style=\"text-align:left;\"> . </td>\n",
       "   <td style=\"text-align:left;\"> . </td>\n",
       "   <td style=\"text-align:left;\"> . </td>\n",
       "   <td style=\"text-align:left;\"> . </td>\n",
       "   <td style=\"text-align:left;\"> 255,255,0 </td>\n",
       "   <td style=\"text-align:right;\"> 1.1134926 </td>\n",
       "   <td style=\"text-align:right;\"> 0.2805900 </td>\n",
       "   <td style=\"text-align:right;\"> 0.2788020 </td>\n",
       "   <td style=\"text-align:right;\"> 0.6329752 </td>\n",
       "   <td style=\"text-align:right;\"> 0.5778512 </td>\n",
       "  </tr>\n",
       "  <tr>\n",
       "   <td style=\"text-align:left;\"> chr10 </td>\n",
       "   <td style=\"text-align:right;\"> 98715000 </td>\n",
       "   <td style=\"text-align:right;\"> 99265000 </td>\n",
       "   <td style=\"text-align:left;\"> chr10 </td>\n",
       "   <td style=\"text-align:right;\"> 98715000 </td>\n",
       "   <td style=\"text-align:right;\"> 99265000 </td>\n",
       "   <td style=\"text-align:left;\"> . </td>\n",
       "   <td style=\"text-align:left;\"> . </td>\n",
       "   <td style=\"text-align:left;\"> . </td>\n",
       "   <td style=\"text-align:left;\"> . </td>\n",
       "   <td style=\"text-align:left;\"> 255,255,0 </td>\n",
       "   <td style=\"text-align:right;\"> 0.6108739 </td>\n",
       "   <td style=\"text-align:right;\"> 0.2388994 </td>\n",
       "   <td style=\"text-align:right;\"> 0.2776476 </td>\n",
       "   <td style=\"text-align:right;\"> 0.4019481 </td>\n",
       "   <td style=\"text-align:right;\"> 0.4756494 </td>\n",
       "  </tr>\n",
       "  <tr>\n",
       "   <td style=\"text-align:left;\"> chr10 </td>\n",
       "   <td style=\"text-align:right;\"> 94630000 </td>\n",
       "   <td style=\"text-align:right;\"> 95075000 </td>\n",
       "   <td style=\"text-align:left;\"> chr10 </td>\n",
       "   <td style=\"text-align:right;\"> 94630000 </td>\n",
       "   <td style=\"text-align:right;\"> 95075000 </td>\n",
       "   <td style=\"text-align:left;\"> . </td>\n",
       "   <td style=\"text-align:left;\"> . </td>\n",
       "   <td style=\"text-align:left;\"> . </td>\n",
       "   <td style=\"text-align:left;\"> . </td>\n",
       "   <td style=\"text-align:left;\"> 255,255,0 </td>\n",
       "   <td style=\"text-align:right;\"> 1.0027722 </td>\n",
       "   <td style=\"text-align:right;\"> 0.2445123 </td>\n",
       "   <td style=\"text-align:right;\"> 0.2682168 </td>\n",
       "   <td style=\"text-align:right;\"> 0.6469136 </td>\n",
       "   <td style=\"text-align:right;\"> 0.4656790 </td>\n",
       "  </tr>\n",
       "</tbody>\n",
       "</table>"
      ]
     },
     "metadata": {},
     "output_type": "display_data"
    }
   ],
   "source": [
    "### init\n",
    "dat = dat_region_import\n",
    "\n",
    "### rename location\n",
    "vec = c(\n",
    "    \"Chrom_1\", \"ChromStart_1\", \"ChromEnd_1\",\n",
    "    \"Chrom_2\", \"ChromStart_2\", \"ChromEnd_2\"\n",
    ")\n",
    "colnames(dat)[1:6] = vec\n",
    "\n",
    "### captialize the first letter\n",
    "vec = colnames(dat)\n",
    "vec = fun_toupper_first(vec)\n",
    "\n",
    "### rename score and centroid\n",
    "vec = dplyr::recode(\n",
    "    vec, \n",
    "    \"Score...8\"  = \"Score\", \n",
    "    \"Score...12\" = \"DomainScore\",\n",
    "    \"Strand1\"    = \"Strand_1\", \n",
    "    \"Strand2\"    = \"Strand_2\"\n",
    ")\n",
    "colnames(dat) = vec\n",
    "\n",
    "### assign and show\n",
    "dat_region_rename = dat\n",
    "print(dim(dat))\n",
    "fun_display_table(head(dat))"
   ]
  },
  {
   "cell_type": "markdown",
   "id": "9ea99f13-77dc-4344-9cc5-bb2bbb9ba8bf",
   "metadata": {},
   "source": [
    "**Explore**"
   ]
  },
  {
   "cell_type": "code",
   "execution_count": 8,
   "id": "867964a4-d35e-4433-83ea-0405afa1db0e",
   "metadata": {},
   "outputs": [
    {
     "name": "stdout",
     "output_type": "stream",
     "text": [
      "Chrom:      TRUE \n",
      "ChromStart: TRUE \n",
      "ChromEnd:   TRUE \n"
     ]
    }
   ],
   "source": [
    "dat = dat_region_rename\n",
    "cat(\"Chrom:     \", all(dat$Chrom_1      == dat$Chrom_2),      \"\\n\")\n",
    "cat(\"ChromStart:\", all(dat$ChromStart_1 == dat$ChromStart_2), \"\\n\")\n",
    "cat(\"ChromEnd:  \", all(dat$ChromEnd_1   == dat$ChromEnd_2),   \"\\n\")"
   ]
  },
  {
   "cell_type": "markdown",
   "id": "f7b514d4-5185-4730-9f21-1043dd7f2ddd",
   "metadata": {},
   "source": [
    "## Arrange table"
   ]
  },
  {
   "cell_type": "code",
   "execution_count": 9,
   "id": "c1f755a5-5f67-402b-afe6-7f2bd3869c9c",
   "metadata": {},
   "outputs": [
    {
     "name": "stdout",
     "output_type": "stream",
     "text": [
      "[1] 5703   18\n"
     ]
    },
    {
     "data": {
      "text/html": [
       "<table>\n",
       " <thead>\n",
       "  <tr>\n",
       "   <th style=\"text-align:left;\"> Chrom_1 </th>\n",
       "   <th style=\"text-align:right;\"> ChromStart_1 </th>\n",
       "   <th style=\"text-align:right;\"> ChromEnd_1 </th>\n",
       "   <th style=\"text-align:left;\"> Chrom_2 </th>\n",
       "   <th style=\"text-align:right;\"> ChromStart_2 </th>\n",
       "   <th style=\"text-align:right;\"> ChromEnd_2 </th>\n",
       "   <th style=\"text-align:left;\"> Name </th>\n",
       "   <th style=\"text-align:left;\"> Score </th>\n",
       "   <th style=\"text-align:left;\"> Strand_1 </th>\n",
       "   <th style=\"text-align:left;\"> Strand_2 </th>\n",
       "   <th style=\"text-align:left;\"> Color </th>\n",
       "   <th style=\"text-align:right;\"> DomainScore </th>\n",
       "   <th style=\"text-align:right;\"> UVarScore </th>\n",
       "   <th style=\"text-align:right;\"> LVarScore </th>\n",
       "   <th style=\"text-align:right;\"> UpSign </th>\n",
       "   <th style=\"text-align:right;\"> LoSign </th>\n",
       "   <th style=\"text-align:left;\"> Region </th>\n",
       "   <th style=\"text-align:right;\"> Size </th>\n",
       "  </tr>\n",
       " </thead>\n",
       "<tbody>\n",
       "  <tr>\n",
       "   <td style=\"text-align:left;\"> chr10 </td>\n",
       "   <td style=\"text-align:right;\"> 84565000 </td>\n",
       "   <td style=\"text-align:right;\"> 86085000 </td>\n",
       "   <td style=\"text-align:left;\"> chr10 </td>\n",
       "   <td style=\"text-align:right;\"> 84565000 </td>\n",
       "   <td style=\"text-align:right;\"> 86085000 </td>\n",
       "   <td style=\"text-align:left;\"> . </td>\n",
       "   <td style=\"text-align:left;\"> . </td>\n",
       "   <td style=\"text-align:left;\"> . </td>\n",
       "   <td style=\"text-align:left;\"> . </td>\n",
       "   <td style=\"text-align:left;\"> 255,255,0 </td>\n",
       "   <td style=\"text-align:right;\"> 0.7973227 </td>\n",
       "   <td style=\"text-align:right;\"> 0.3603668 </td>\n",
       "   <td style=\"text-align:right;\"> 0.3402993 </td>\n",
       "   <td style=\"text-align:right;\"> 0.4446594 </td>\n",
       "   <td style=\"text-align:right;\"> 0.5478586 </td>\n",
       "   <td style=\"text-align:left;\"> chr10:84565000-86085000 </td>\n",
       "   <td style=\"text-align:right;\"> 1520000 </td>\n",
       "  </tr>\n",
       "  <tr>\n",
       "   <td style=\"text-align:left;\"> chr10 </td>\n",
       "   <td style=\"text-align:right;\"> 50985000 </td>\n",
       "   <td style=\"text-align:right;\"> 52225000 </td>\n",
       "   <td style=\"text-align:left;\"> chr10 </td>\n",
       "   <td style=\"text-align:right;\"> 50985000 </td>\n",
       "   <td style=\"text-align:right;\"> 52225000 </td>\n",
       "   <td style=\"text-align:left;\"> . </td>\n",
       "   <td style=\"text-align:left;\"> . </td>\n",
       "   <td style=\"text-align:left;\"> . </td>\n",
       "   <td style=\"text-align:left;\"> . </td>\n",
       "   <td style=\"text-align:left;\"> 255,255,0 </td>\n",
       "   <td style=\"text-align:right;\"> 1.0083018 </td>\n",
       "   <td style=\"text-align:right;\"> 0.3171058 </td>\n",
       "   <td style=\"text-align:right;\"> 0.3477260 </td>\n",
       "   <td style=\"text-align:right;\"> 0.5433548 </td>\n",
       "   <td style=\"text-align:right;\"> 0.4545161 </td>\n",
       "   <td style=\"text-align:left;\"> chr10:50985000-52225000 </td>\n",
       "   <td style=\"text-align:right;\"> 1240000 </td>\n",
       "  </tr>\n",
       "  <tr>\n",
       "   <td style=\"text-align:left;\"> chr10 </td>\n",
       "   <td style=\"text-align:right;\"> 98415000 </td>\n",
       "   <td style=\"text-align:right;\"> 99300000 </td>\n",
       "   <td style=\"text-align:left;\"> chr10 </td>\n",
       "   <td style=\"text-align:right;\"> 98415000 </td>\n",
       "   <td style=\"text-align:right;\"> 99300000 </td>\n",
       "   <td style=\"text-align:left;\"> . </td>\n",
       "   <td style=\"text-align:left;\"> . </td>\n",
       "   <td style=\"text-align:left;\"> . </td>\n",
       "   <td style=\"text-align:left;\"> . </td>\n",
       "   <td style=\"text-align:left;\"> 255,255,0 </td>\n",
       "   <td style=\"text-align:right;\"> 0.6516994 </td>\n",
       "   <td style=\"text-align:right;\"> 0.2746902 </td>\n",
       "   <td style=\"text-align:right;\"> 0.2858612 </td>\n",
       "   <td style=\"text-align:right;\"> 0.4402222 </td>\n",
       "   <td style=\"text-align:right;\"> 0.6153263 </td>\n",
       "   <td style=\"text-align:left;\"> chr10:98415000-99300000 </td>\n",
       "   <td style=\"text-align:right;\"> 885000 </td>\n",
       "  </tr>\n",
       "</tbody>\n",
       "</table>"
      ]
     },
     "metadata": {},
     "output_type": "display_data"
    }
   ],
   "source": [
    "### init\n",
    "dat = dat_region_rename\n",
    "\n",
    "### arrange columns\n",
    "dat = dat %>% \n",
    "    dplyr::mutate(\n",
    "        Region = fun_gen_region(Chrom_1, ChromStart_1, ChromEnd_1),\n",
    "        Size   = ChromEnd_1 - ChromStart_1\n",
    "    )\n",
    "\n",
    "### assign and show\n",
    "dat_region_arrange = dat\n",
    "print(dim(dat))\n",
    "fun_display_table(head(dat, 3))"
   ]
  },
  {
   "cell_type": "markdown",
   "id": "cc0b99e1-1a83-429b-ba13-496ca753eaf5",
   "metadata": {},
   "source": [
    "## Prepare region"
   ]
  },
  {
   "cell_type": "code",
   "execution_count": 10,
   "id": "d1e9f393-d19a-442c-b48a-ac82917e2594",
   "metadata": {},
   "outputs": [
    {
     "name": "stdout",
     "output_type": "stream",
     "text": [
      "[1] 5703    6\n"
     ]
    },
    {
     "data": {
      "text/html": [
       "<table>\n",
       " <thead>\n",
       "  <tr>\n",
       "   <th style=\"text-align:left;\"> Chrom </th>\n",
       "   <th style=\"text-align:right;\"> ChromStart </th>\n",
       "   <th style=\"text-align:right;\"> ChromEnd </th>\n",
       "   <th style=\"text-align:left;\"> Region </th>\n",
       "   <th style=\"text-align:left;\"> Group </th>\n",
       "   <th style=\"text-align:left;\"> Label </th>\n",
       "  </tr>\n",
       " </thead>\n",
       "<tbody>\n",
       "  <tr>\n",
       "   <td style=\"text-align:left;\"> chr10 </td>\n",
       "   <td style=\"text-align:right;\"> 84565000 </td>\n",
       "   <td style=\"text-align:right;\"> 86085000 </td>\n",
       "   <td style=\"text-align:left;\"> chr10:84565000-86085000 </td>\n",
       "   <td style=\"text-align:left;\"> hic_insitu </td>\n",
       "   <td style=\"text-align:left;\"> TAD </td>\n",
       "  </tr>\n",
       "  <tr>\n",
       "   <td style=\"text-align:left;\"> chr10 </td>\n",
       "   <td style=\"text-align:right;\"> 50985000 </td>\n",
       "   <td style=\"text-align:right;\"> 52225000 </td>\n",
       "   <td style=\"text-align:left;\"> chr10:50985000-52225000 </td>\n",
       "   <td style=\"text-align:left;\"> hic_insitu </td>\n",
       "   <td style=\"text-align:left;\"> TAD </td>\n",
       "  </tr>\n",
       "  <tr>\n",
       "   <td style=\"text-align:left;\"> chr10 </td>\n",
       "   <td style=\"text-align:right;\"> 98415000 </td>\n",
       "   <td style=\"text-align:right;\"> 99300000 </td>\n",
       "   <td style=\"text-align:left;\"> chr10:98415000-99300000 </td>\n",
       "   <td style=\"text-align:left;\"> hic_insitu </td>\n",
       "   <td style=\"text-align:left;\"> TAD </td>\n",
       "  </tr>\n",
       "  <tr>\n",
       "   <td style=\"text-align:left;\"> chr10 </td>\n",
       "   <td style=\"text-align:right;\"> 112500000 </td>\n",
       "   <td style=\"text-align:right;\"> 113595000 </td>\n",
       "   <td style=\"text-align:left;\"> chr10:112500000-113595000 </td>\n",
       "   <td style=\"text-align:left;\"> hic_insitu </td>\n",
       "   <td style=\"text-align:left;\"> TAD </td>\n",
       "  </tr>\n",
       "  <tr>\n",
       "   <td style=\"text-align:left;\"> chr10 </td>\n",
       "   <td style=\"text-align:right;\"> 98715000 </td>\n",
       "   <td style=\"text-align:right;\"> 99265000 </td>\n",
       "   <td style=\"text-align:left;\"> chr10:98715000-99265000 </td>\n",
       "   <td style=\"text-align:left;\"> hic_insitu </td>\n",
       "   <td style=\"text-align:left;\"> TAD </td>\n",
       "  </tr>\n",
       "  <tr>\n",
       "   <td style=\"text-align:left;\"> chr10 </td>\n",
       "   <td style=\"text-align:right;\"> 94630000 </td>\n",
       "   <td style=\"text-align:right;\"> 95075000 </td>\n",
       "   <td style=\"text-align:left;\"> chr10:94630000-95075000 </td>\n",
       "   <td style=\"text-align:left;\"> hic_insitu </td>\n",
       "   <td style=\"text-align:left;\"> TAD </td>\n",
       "  </tr>\n",
       "</tbody>\n",
       "</table>"
      ]
     },
     "metadata": {},
     "output_type": "display_data"
    }
   ],
   "source": [
    "### init\n",
    "vec_txt_cname_A = c(\"Chrom_1\", \"ChromStart_1\", \"ChromEnd_1\", \"Region\")\n",
    "vec_txt_cname   = c(\"Chrom\",   \"ChromStart\",   \"ChromEnd\",   \"Region\", \"Group\", \"Label\")\n",
    "txt_assay = TXT_ASSAY\n",
    "\n",
    "### prepare region\n",
    "dat = dat_region_arrange\n",
    "dat = dat %>% \n",
    "    dplyr::select(!!!vec_txt_cname_A) %>% \n",
    "    dplyr::mutate(\n",
    "        Group = txt_assay,\n",
    "        Label = \"TAD\"\n",
    "    ) %>%\n",
    "    dplyr::distinct()\n",
    "colnames(dat) = vec_txt_cname\n",
    "\n",
    "### assign and show\n",
    "dat_region_simplify = dat\n",
    "print(dim(dat))\n",
    "fun_display_table(head(dat))"
   ]
  },
  {
   "cell_type": "markdown",
   "id": "bf424e8e-6dda-4554-8f40-1e03b6da5ca4",
   "metadata": {},
   "source": [
    "## Save results"
   ]
  },
  {
   "cell_type": "code",
   "execution_count": 11,
   "id": "4b36f2a4-30f1-4e36-99f6-67736fcb1c42",
   "metadata": {},
   "outputs": [],
   "source": [
    "### set file path\n",
    "txt_folder = TXT_FOLDER_REGION\n",
    "txt_fdiry  = file.path(FD_RES, \"region\", txt_folder)\n",
    "txt_fname = \"K562.hg38.hic_insitu.TAD.bed.gz\"\n",
    "txt_fpath = file.path(txt_fdiry, txt_fname)\n",
    "\n",
    "### get table\n",
    "dat = dat_region_simplify\n",
    "dat = dat %>% dplyr::arrange(Chrom, ChromStart, ChromEnd)\n",
    "\n",
    "### write tabel\n",
    "dir.create(txt_fdiry, showWarnings = FALSE)\n",
    "write_tsv(dat, txt_fpath, col_names = FALSE)"
   ]
  },
  {
   "cell_type": "code",
   "execution_count": 12,
   "id": "0e13af58-a0ff-4418-a6dd-425e24fee6c5",
   "metadata": {},
   "outputs": [],
   "source": [
    "### set file path\n",
    "txt_folder = TXT_FOLDER_REGION\n",
    "txt_fdiry  = file.path(FD_RES, \"region\", txt_folder, \"summary\")\n",
    "txt_fname = \"K562.hg38.hic_insitu.TAD.tsv\"\n",
    "txt_fpath = file.path(txt_fdiry, txt_fname)\n",
    "\n",
    "### get table\n",
    "dat = dat_region_arrange\n",
    "dat = dat %>% dplyr::arrange(\n",
    "    Chrom_1, ChromStart_1, ChromEnd_1,\n",
    "    Chrom_2, ChromStart_2, ChromEnd_2\n",
    ")\n",
    "\n",
    "### write tabel\n",
    "dir.create(txt_fdiry, showWarnings = FALSE)\n",
    "write_tsv(dat, txt_fpath)"
   ]
  },
  {
   "cell_type": "code",
   "execution_count": null,
   "id": "06fb2168-e135-4487-927c-d48af60bb57f",
   "metadata": {},
   "outputs": [],
   "source": []
  }
 ],
 "metadata": {
  "kernelspec": {
   "display_name": "R",
   "language": "R",
   "name": "ir"
  },
  "language_info": {
   "codemirror_mode": "r",
   "file_extension": ".r",
   "mimetype": "text/x-r-source",
   "name": "R",
   "pygments_lexer": "r",
   "version": "4.4.2"
  }
 },
 "nbformat": 4,
 "nbformat_minor": 5
}
