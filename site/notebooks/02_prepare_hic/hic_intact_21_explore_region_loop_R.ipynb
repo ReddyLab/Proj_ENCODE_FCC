{
 "cells": [
  {
   "cell_type": "raw",
   "id": "a7f54252-b65e-40f0-b89a-22ac740dc6a3",
   "metadata": {},
   "source": [
    "---\n",
    "title: Prepare Hi-C data 21 (intact Hi-C)\n",
    "subtitle: Explore data (Loop)\n",
    "format:\n",
    "    html:\n",
    "        code-fold:  true\n",
    "        code-tools: true\n",
    "---"
   ]
  },
  {
   "cell_type": "markdown",
   "id": "9550ef84-2625-44d7-a9b9-a6e8c1c4e655",
   "metadata": {},
   "source": [
    "**Set environment**"
   ]
  },
  {
   "cell_type": "code",
   "execution_count": 1,
   "id": "1ee7dcd2-79e3-4e98-bb3f-4c5ba62746db",
   "metadata": {
    "tags": []
   },
   "outputs": [
    {
     "name": "stdout",
     "output_type": "stream",
     "text": [
      "You are working on        Singularity: singularity_proj_encode_fcc \n",
      "BASE DIRECTORY (FD_BASE): /data/reddylab/Kuei \n",
      "REPO DIRECTORY (FD_REPO): /data/reddylab/Kuei/repo \n",
      "WORK DIRECTORY (FD_WORK): /data/reddylab/Kuei/work \n",
      "DATA DIRECTORY (FD_DATA): /data/reddylab/Kuei/data \n",
      "\n",
      "You are working with      ENCODE FCC \n",
      "PATH OF PROJECT (FD_PRJ): /data/reddylab/Kuei/repo/Proj_ENCODE_FCC \n",
      "PROJECT RESULTS (FD_RES): /data/reddylab/Kuei/repo/Proj_ENCODE_FCC/results \n",
      "PROJECT SCRIPTS (FD_EXE): /data/reddylab/Kuei/repo/Proj_ENCODE_FCC/scripts \n",
      "PROJECT DATA    (FD_DAT): /data/reddylab/Kuei/repo/Proj_ENCODE_FCC/data \n",
      "PROJECT NOTE    (FD_NBK): /data/reddylab/Kuei/repo/Proj_ENCODE_FCC/notebooks \n",
      "PROJECT DOCS    (FD_DOC): /data/reddylab/Kuei/repo/Proj_ENCODE_FCC/docs \n",
      "PROJECT LOG     (FD_LOG): /data/reddylab/Kuei/repo/Proj_ENCODE_FCC/log \n",
      "PROJECT REF     (FD_REF): /data/reddylab/Kuei/repo/Proj_ENCODE_FCC/references \n",
      "\n"
     ]
    }
   ],
   "source": [
    "suppressMessages(suppressWarnings(source(\"../run_config_project_sing.R\")))\n",
    "show_env()"
   ]
  },
  {
   "cell_type": "markdown",
   "id": "acc1f0a3-3da6-4907-8de5-5c1a57149e92",
   "metadata": {},
   "source": [
    "**Set global variables**"
   ]
  },
  {
   "cell_type": "code",
   "execution_count": 2,
   "id": "c40a4b0d-887f-4602-bc33-26bf79b89b30",
   "metadata": {},
   "outputs": [],
   "source": [
    "TXT_FOLDER_REGION = \"hic_intact_K562_ENCSR479XDG\"\n",
    "TXT_ASSAY = \"hic_intact\"\n",
    "TXT_INDEX = \"ENCSR479XDG\""
   ]
  },
  {
   "cell_type": "markdown",
   "id": "ccca6c21-479d-42d8-a824-f8124673bfdf",
   "metadata": {
    "tags": []
   },
   "source": [
    "## Import data"
   ]
  },
  {
   "cell_type": "markdown",
   "id": "9ff9671e-1fde-4071-a094-449940ee646c",
   "metadata": {},
   "source": [
    "**View files**"
   ]
  },
  {
   "cell_type": "code",
   "execution_count": 3,
   "id": "87cd2e6f-967f-48ea-83f8-a2403f54ac41",
   "metadata": {},
   "outputs": [
    {
     "name": "stdout",
     "output_type": "stream",
     "text": [
      "K562.hg38.hic_intact.Loop_A.bed.gz \n",
      "K562.hg38.hic_intact.Loop_B.bed.gz \n",
      "K562.hg38.hic_intact.TAD.bed.gz \n",
      "summary \n"
     ]
    }
   ],
   "source": [
    "txt_folder = TXT_FOLDER_REGION\n",
    "txt_fdiry  = file.path(FD_RES, \"region\", txt_folder)\n",
    "\n",
    "vec = dir(txt_fdiry)\n",
    "for (txt in vec){cat(txt, \"\\n\")}"
   ]
  },
  {
   "cell_type": "code",
   "execution_count": 4,
   "id": "738fc111-8ae5-43d7-bab9-ea9454d79e56",
   "metadata": {},
   "outputs": [
    {
     "name": "stdout",
     "output_type": "stream",
     "text": [
      "description.tsv \n",
      "K562.hg38.hic_intact.Loop.tsv \n",
      "K562.hg38.hic_intact.TAD.tsv \n",
      "metadata.label.tsv \n"
     ]
    }
   ],
   "source": [
    "txt_folder = TXT_FOLDER_REGION\n",
    "txt_fdiry  = file.path(FD_RES, \"region\", txt_folder, \"summary\")\n",
    "\n",
    "vec = dir(txt_fdiry)\n",
    "for (txt in vec){cat(txt, \"\\n\")}"
   ]
  },
  {
   "cell_type": "markdown",
   "id": "8ed0076d-925b-4300-8be3-ea77aa543617",
   "metadata": {},
   "source": [
    "**Read data**"
   ]
  },
  {
   "cell_type": "code",
   "execution_count": 5,
   "id": "12e98416-97ba-4c84-b8b8-bede4e0ceb87",
   "metadata": {},
   "outputs": [
    {
     "data": {
      "text/html": [
       "<table>\n",
       " <thead>\n",
       "  <tr>\n",
       "   <th style=\"text-align:left;\"> Chrom_1 </th>\n",
       "   <th style=\"text-align:right;\"> ChromStart_1 </th>\n",
       "   <th style=\"text-align:right;\"> ChromEnd_1 </th>\n",
       "   <th style=\"text-align:left;\"> Chrom_2 </th>\n",
       "   <th style=\"text-align:right;\"> ChromStart_2 </th>\n",
       "   <th style=\"text-align:right;\"> ChromEnd_2 </th>\n",
       "   <th style=\"text-align:left;\"> Name </th>\n",
       "   <th style=\"text-align:left;\"> Score </th>\n",
       "   <th style=\"text-align:left;\"> Strand_1 </th>\n",
       "   <th style=\"text-align:left;\"> Strand_2 </th>\n",
       "   <th style=\"text-align:left;\"> Color </th>\n",
       "   <th style=\"text-align:right;\"> Observed </th>\n",
       "   <th style=\"text-align:right;\"> ExpectedBL </th>\n",
       "   <th style=\"text-align:right;\"> ExpectedDonut </th>\n",
       "   <th style=\"text-align:right;\"> ExpectedH </th>\n",
       "   <th style=\"text-align:right;\"> ExpectedV </th>\n",
       "   <th style=\"text-align:right;\"> FdrBL </th>\n",
       "   <th style=\"text-align:right;\"> FdrDonut </th>\n",
       "   <th style=\"text-align:right;\"> FdrH </th>\n",
       "   <th style=\"text-align:right;\"> FdrV </th>\n",
       "   <th style=\"text-align:right;\"> NumCollapsed </th>\n",
       "   <th style=\"text-align:right;\"> Centroid_1 </th>\n",
       "   <th style=\"text-align:right;\"> Centroid_2 </th>\n",
       "   <th style=\"text-align:right;\"> Radius </th>\n",
       "   <th style=\"text-align:right;\"> HighRes_start_1 </th>\n",
       "   <th style=\"text-align:right;\"> HighRes_end_1 </th>\n",
       "   <th style=\"text-align:right;\"> HighRes_start_2 </th>\n",
       "   <th style=\"text-align:right;\"> HighRes_end_2 </th>\n",
       "   <th style=\"text-align:right;\"> LocalX </th>\n",
       "   <th style=\"text-align:right;\"> LocalY </th>\n",
       "   <th style=\"text-align:right;\"> LocalObserved </th>\n",
       "   <th style=\"text-align:right;\"> LocalPval </th>\n",
       "   <th style=\"text-align:right;\"> LocalPeakID </th>\n",
       "   <th style=\"text-align:right;\"> Length_1 </th>\n",
       "   <th style=\"text-align:right;\"> Length_2 </th>\n",
       "   <th style=\"text-align:right;\"> Size </th>\n",
       "   <th style=\"text-align:left;\"> Region_1 </th>\n",
       "   <th style=\"text-align:left;\"> Region_2 </th>\n",
       "   <th style=\"text-align:right;\"> Distance </th>\n",
       "  </tr>\n",
       " </thead>\n",
       "<tbody>\n",
       "  <tr>\n",
       "   <td style=\"text-align:left;\"> chr1 </td>\n",
       "   <td style=\"text-align:right;\"> 770000 </td>\n",
       "   <td style=\"text-align:right;\"> 780000 </td>\n",
       "   <td style=\"text-align:left;\"> chr1 </td>\n",
       "   <td style=\"text-align:right;\"> 840000 </td>\n",
       "   <td style=\"text-align:right;\"> 850000 </td>\n",
       "   <td style=\"text-align:left;\"> chr1:770000-780000|chr1:840000-850000 </td>\n",
       "   <td style=\"text-align:left;\"> . </td>\n",
       "   <td style=\"text-align:left;\"> . </td>\n",
       "   <td style=\"text-align:left;\"> . </td>\n",
       "   <td style=\"text-align:left;\"> 0,255,255 </td>\n",
       "   <td style=\"text-align:right;\"> 19 </td>\n",
       "   <td style=\"text-align:right;\"> 2.9261760 </td>\n",
       "   <td style=\"text-align:right;\"> 2.1593444 </td>\n",
       "   <td style=\"text-align:right;\"> 3.6374917 </td>\n",
       "   <td style=\"text-align:right;\"> 1.7284788 </td>\n",
       "   <td style=\"text-align:right;\"> 0.00e+00 </td>\n",
       "   <td style=\"text-align:right;\"> 0.00e+00 </td>\n",
       "   <td style=\"text-align:right;\"> 0.0000000 </td>\n",
       "   <td style=\"text-align:right;\"> 0.0000000 </td>\n",
       "   <td style=\"text-align:right;\"> 1 </td>\n",
       "   <td style=\"text-align:right;\"> 775000 </td>\n",
       "   <td style=\"text-align:right;\"> 845000 </td>\n",
       "   <td style=\"text-align:right;\"> 0 </td>\n",
       "   <td style=\"text-align:right;\"> 777200 </td>\n",
       "   <td style=\"text-align:right;\"> 777500 </td>\n",
       "   <td style=\"text-align:right;\"> 842900 </td>\n",
       "   <td style=\"text-align:right;\"> 843200 </td>\n",
       "   <td style=\"text-align:right;\"> 777300 </td>\n",
       "   <td style=\"text-align:right;\"> 843000 </td>\n",
       "   <td style=\"text-align:right;\"> 2 </td>\n",
       "   <td style=\"text-align:right;\"> 0.0057672 </td>\n",
       "   <td style=\"text-align:right;\"> 0 </td>\n",
       "   <td style=\"text-align:right;\"> 10000 </td>\n",
       "   <td style=\"text-align:right;\"> 10000 </td>\n",
       "   <td style=\"text-align:right;\"> 10000 </td>\n",
       "   <td style=\"text-align:left;\"> chr1:770000-780000 </td>\n",
       "   <td style=\"text-align:left;\"> chr1:840000-850000 </td>\n",
       "   <td style=\"text-align:right;\"> 70000 </td>\n",
       "  </tr>\n",
       "  <tr>\n",
       "   <td style=\"text-align:left;\"> chr1 </td>\n",
       "   <td style=\"text-align:right;\"> 904000 </td>\n",
       "   <td style=\"text-align:right;\"> 906000 </td>\n",
       "   <td style=\"text-align:left;\"> chr1 </td>\n",
       "   <td style=\"text-align:right;\"> 976000 </td>\n",
       "   <td style=\"text-align:right;\"> 978000 </td>\n",
       "   <td style=\"text-align:left;\"> chr1:904000-906000|chr1:976000-978000 </td>\n",
       "   <td style=\"text-align:left;\"> . </td>\n",
       "   <td style=\"text-align:left;\"> . </td>\n",
       "   <td style=\"text-align:left;\"> . </td>\n",
       "   <td style=\"text-align:left;\"> 0,255,255 </td>\n",
       "   <td style=\"text-align:right;\"> 8 </td>\n",
       "   <td style=\"text-align:right;\"> 0.8028892 </td>\n",
       "   <td style=\"text-align:right;\"> 0.6848711 </td>\n",
       "   <td style=\"text-align:right;\"> 1.0504581 </td>\n",
       "   <td style=\"text-align:right;\"> 0.8050149 </td>\n",
       "   <td style=\"text-align:right;\"> 2.10e-06 </td>\n",
       "   <td style=\"text-align:right;\"> 7.00e-07 </td>\n",
       "   <td style=\"text-align:right;\"> 0.0000145 </td>\n",
       "   <td style=\"text-align:right;\"> 0.0000021 </td>\n",
       "   <td style=\"text-align:right;\"> 1 </td>\n",
       "   <td style=\"text-align:right;\"> 905000 </td>\n",
       "   <td style=\"text-align:right;\"> 977000 </td>\n",
       "   <td style=\"text-align:right;\"> 0 </td>\n",
       "   <td style=\"text-align:right;\"> NA </td>\n",
       "   <td style=\"text-align:right;\"> NA </td>\n",
       "   <td style=\"text-align:right;\"> NA </td>\n",
       "   <td style=\"text-align:right;\"> NA </td>\n",
       "   <td style=\"text-align:right;\"> NA </td>\n",
       "   <td style=\"text-align:right;\"> NA </td>\n",
       "   <td style=\"text-align:right;\"> NA </td>\n",
       "   <td style=\"text-align:right;\"> NA </td>\n",
       "   <td style=\"text-align:right;\"> NA </td>\n",
       "   <td style=\"text-align:right;\"> 2000 </td>\n",
       "   <td style=\"text-align:right;\"> 2000 </td>\n",
       "   <td style=\"text-align:right;\"> 2000 </td>\n",
       "   <td style=\"text-align:left;\"> chr1:904000-906000 </td>\n",
       "   <td style=\"text-align:left;\"> chr1:976000-978000 </td>\n",
       "   <td style=\"text-align:right;\"> 72000 </td>\n",
       "  </tr>\n",
       "  <tr>\n",
       "   <td style=\"text-align:left;\"> chr1 </td>\n",
       "   <td style=\"text-align:right;\"> 920000 </td>\n",
       "   <td style=\"text-align:right;\"> 925000 </td>\n",
       "   <td style=\"text-align:left;\"> chr1 </td>\n",
       "   <td style=\"text-align:right;\"> 1060000 </td>\n",
       "   <td style=\"text-align:right;\"> 1065000 </td>\n",
       "   <td style=\"text-align:left;\"> chr1:920000-925000|chr1:1060000-1065000 </td>\n",
       "   <td style=\"text-align:left;\"> . </td>\n",
       "   <td style=\"text-align:left;\"> . </td>\n",
       "   <td style=\"text-align:left;\"> . </td>\n",
       "   <td style=\"text-align:left;\"> 0,255,255 </td>\n",
       "   <td style=\"text-align:right;\"> 17 </td>\n",
       "   <td style=\"text-align:right;\"> 5.1502100 </td>\n",
       "   <td style=\"text-align:right;\"> 5.5976415 </td>\n",
       "   <td style=\"text-align:right;\"> 5.9781775 </td>\n",
       "   <td style=\"text-align:right;\"> 6.3668375 </td>\n",
       "   <td style=\"text-align:right;\"> 2.86e-05 </td>\n",
       "   <td style=\"text-align:right;\"> 7.79e-05 </td>\n",
       "   <td style=\"text-align:right;\"> 0.0001677 </td>\n",
       "   <td style=\"text-align:right;\"> 0.0003421 </td>\n",
       "   <td style=\"text-align:right;\"> 2 </td>\n",
       "   <td style=\"text-align:right;\"> 917500 </td>\n",
       "   <td style=\"text-align:right;\"> 1062500 </td>\n",
       "   <td style=\"text-align:right;\"> 5000 </td>\n",
       "   <td style=\"text-align:right;\"> 920400 </td>\n",
       "   <td style=\"text-align:right;\"> 920700 </td>\n",
       "   <td style=\"text-align:right;\"> 1058400 </td>\n",
       "   <td style=\"text-align:right;\"> 1058700 </td>\n",
       "   <td style=\"text-align:right;\"> 920500 </td>\n",
       "   <td style=\"text-align:right;\"> 1058500 </td>\n",
       "   <td style=\"text-align:right;\"> 2 </td>\n",
       "   <td style=\"text-align:right;\"> 0.0215944 </td>\n",
       "   <td style=\"text-align:right;\"> 0 </td>\n",
       "   <td style=\"text-align:right;\"> 5000 </td>\n",
       "   <td style=\"text-align:right;\"> 5000 </td>\n",
       "   <td style=\"text-align:right;\"> 5000 </td>\n",
       "   <td style=\"text-align:left;\"> chr1:920000-925000 </td>\n",
       "   <td style=\"text-align:left;\"> chr1:1060000-1065000 </td>\n",
       "   <td style=\"text-align:right;\"> 145000 </td>\n",
       "  </tr>\n",
       "  <tr>\n",
       "   <td style=\"text-align:left;\"> chr1 </td>\n",
       "   <td style=\"text-align:right;\"> 980000 </td>\n",
       "   <td style=\"text-align:right;\"> 990000 </td>\n",
       "   <td style=\"text-align:left;\"> chr1 </td>\n",
       "   <td style=\"text-align:right;\"> 1290000 </td>\n",
       "   <td style=\"text-align:right;\"> 1300000 </td>\n",
       "   <td style=\"text-align:left;\"> chr1:980000-990000|chr1:1290000-1300000 </td>\n",
       "   <td style=\"text-align:left;\"> . </td>\n",
       "   <td style=\"text-align:left;\"> . </td>\n",
       "   <td style=\"text-align:left;\"> . </td>\n",
       "   <td style=\"text-align:left;\"> 0,255,255 </td>\n",
       "   <td style=\"text-align:right;\"> 34 </td>\n",
       "   <td style=\"text-align:right;\"> 16.1562670 </td>\n",
       "   <td style=\"text-align:right;\"> 12.0899740 </td>\n",
       "   <td style=\"text-align:right;\"> 13.2480600 </td>\n",
       "   <td style=\"text-align:right;\"> 18.4045890 </td>\n",
       "   <td style=\"text-align:right;\"> 7.21e-05 </td>\n",
       "   <td style=\"text-align:right;\"> 2.00e-07 </td>\n",
       "   <td style=\"text-align:right;\"> 0.0000014 </td>\n",
       "   <td style=\"text-align:right;\"> 0.0007175 </td>\n",
       "   <td style=\"text-align:right;\"> 3 </td>\n",
       "   <td style=\"text-align:right;\"> 988333 </td>\n",
       "   <td style=\"text-align:right;\"> 1291666 </td>\n",
       "   <td style=\"text-align:right;\"> 7454 </td>\n",
       "   <td style=\"text-align:right;\"> NA </td>\n",
       "   <td style=\"text-align:right;\"> NA </td>\n",
       "   <td style=\"text-align:right;\"> NA </td>\n",
       "   <td style=\"text-align:right;\"> NA </td>\n",
       "   <td style=\"text-align:right;\"> NA </td>\n",
       "   <td style=\"text-align:right;\"> NA </td>\n",
       "   <td style=\"text-align:right;\"> NA </td>\n",
       "   <td style=\"text-align:right;\"> NA </td>\n",
       "   <td style=\"text-align:right;\"> NA </td>\n",
       "   <td style=\"text-align:right;\"> 10000 </td>\n",
       "   <td style=\"text-align:right;\"> 10000 </td>\n",
       "   <td style=\"text-align:right;\"> 10000 </td>\n",
       "   <td style=\"text-align:left;\"> chr1:980000-990000 </td>\n",
       "   <td style=\"text-align:left;\"> chr1:1290000-1300000 </td>\n",
       "   <td style=\"text-align:right;\"> 303333 </td>\n",
       "  </tr>\n",
       "  <tr>\n",
       "   <td style=\"text-align:left;\"> chr1 </td>\n",
       "   <td style=\"text-align:right;\"> 984000 </td>\n",
       "   <td style=\"text-align:right;\"> 985000 </td>\n",
       "   <td style=\"text-align:left;\"> chr1 </td>\n",
       "   <td style=\"text-align:right;\"> 1063000 </td>\n",
       "   <td style=\"text-align:right;\"> 1064000 </td>\n",
       "   <td style=\"text-align:left;\"> chr1:984000-985000|chr1:1063000-1064000 </td>\n",
       "   <td style=\"text-align:left;\"> . </td>\n",
       "   <td style=\"text-align:left;\"> . </td>\n",
       "   <td style=\"text-align:left;\"> . </td>\n",
       "   <td style=\"text-align:left;\"> 0,255,255 </td>\n",
       "   <td style=\"text-align:right;\"> 9 </td>\n",
       "   <td style=\"text-align:right;\"> 0.8763120 </td>\n",
       "   <td style=\"text-align:right;\"> 0.9894496 </td>\n",
       "   <td style=\"text-align:right;\"> 0.8549098 </td>\n",
       "   <td style=\"text-align:right;\"> 1.0600463 </td>\n",
       "   <td style=\"text-align:right;\"> 4.00e-07 </td>\n",
       "   <td style=\"text-align:right;\"> 1.00e-06 </td>\n",
       "   <td style=\"text-align:right;\"> 0.0000003 </td>\n",
       "   <td style=\"text-align:right;\"> 0.0000018 </td>\n",
       "   <td style=\"text-align:right;\"> 1 </td>\n",
       "   <td style=\"text-align:right;\"> 984500 </td>\n",
       "   <td style=\"text-align:right;\"> 1063500 </td>\n",
       "   <td style=\"text-align:right;\"> 0 </td>\n",
       "   <td style=\"text-align:right;\"> 984300 </td>\n",
       "   <td style=\"text-align:right;\"> 984600 </td>\n",
       "   <td style=\"text-align:right;\"> 1063200 </td>\n",
       "   <td style=\"text-align:right;\"> 1063500 </td>\n",
       "   <td style=\"text-align:right;\"> 984400 </td>\n",
       "   <td style=\"text-align:right;\"> 1063300 </td>\n",
       "   <td style=\"text-align:right;\"> 3 </td>\n",
       "   <td style=\"text-align:right;\"> 0.0196315 </td>\n",
       "   <td style=\"text-align:right;\"> 0 </td>\n",
       "   <td style=\"text-align:right;\"> 1000 </td>\n",
       "   <td style=\"text-align:right;\"> 1000 </td>\n",
       "   <td style=\"text-align:right;\"> 1000 </td>\n",
       "   <td style=\"text-align:left;\"> chr1:984000-985000 </td>\n",
       "   <td style=\"text-align:left;\"> chr1:1063000-1064000 </td>\n",
       "   <td style=\"text-align:right;\"> 79000 </td>\n",
       "  </tr>\n",
       "  <tr>\n",
       "   <td style=\"text-align:left;\"> chr1 </td>\n",
       "   <td style=\"text-align:right;\"> 1000000 </td>\n",
       "   <td style=\"text-align:right;\"> 1005000 </td>\n",
       "   <td style=\"text-align:left;\"> chr1 </td>\n",
       "   <td style=\"text-align:right;\"> 1060000 </td>\n",
       "   <td style=\"text-align:right;\"> 1065000 </td>\n",
       "   <td style=\"text-align:left;\"> chr1:1000000-1005000|chr1:1060000-1065000 </td>\n",
       "   <td style=\"text-align:left;\"> . </td>\n",
       "   <td style=\"text-align:left;\"> . </td>\n",
       "   <td style=\"text-align:left;\"> . </td>\n",
       "   <td style=\"text-align:left;\"> 0,255,255 </td>\n",
       "   <td style=\"text-align:right;\"> 44 </td>\n",
       "   <td style=\"text-align:right;\"> 12.3249200 </td>\n",
       "   <td style=\"text-align:right;\"> 12.7102840 </td>\n",
       "   <td style=\"text-align:right;\"> 14.1071380 </td>\n",
       "   <td style=\"text-align:right;\"> 18.1903500 </td>\n",
       "   <td style=\"text-align:right;\"> 0.00e+00 </td>\n",
       "   <td style=\"text-align:right;\"> 0.00e+00 </td>\n",
       "   <td style=\"text-align:right;\"> 0.0000000 </td>\n",
       "   <td style=\"text-align:right;\"> 0.0000002 </td>\n",
       "   <td style=\"text-align:right;\"> 2 </td>\n",
       "   <td style=\"text-align:right;\"> 1002500 </td>\n",
       "   <td style=\"text-align:right;\"> 1060000 </td>\n",
       "   <td style=\"text-align:right;\"> 2500 </td>\n",
       "   <td style=\"text-align:right;\"> 1002300 </td>\n",
       "   <td style=\"text-align:right;\"> 1002600 </td>\n",
       "   <td style=\"text-align:right;\"> 1062200 </td>\n",
       "   <td style=\"text-align:right;\"> 1062500 </td>\n",
       "   <td style=\"text-align:right;\"> 1002400 </td>\n",
       "   <td style=\"text-align:right;\"> 1062300 </td>\n",
       "   <td style=\"text-align:right;\"> 2 </td>\n",
       "   <td style=\"text-align:right;\"> 0.0033608 </td>\n",
       "   <td style=\"text-align:right;\"> 0 </td>\n",
       "   <td style=\"text-align:right;\"> 5000 </td>\n",
       "   <td style=\"text-align:right;\"> 5000 </td>\n",
       "   <td style=\"text-align:right;\"> 5000 </td>\n",
       "   <td style=\"text-align:left;\"> chr1:1000000-1005000 </td>\n",
       "   <td style=\"text-align:left;\"> chr1:1060000-1065000 </td>\n",
       "   <td style=\"text-align:right;\"> 57500 </td>\n",
       "  </tr>\n",
       "</tbody>\n",
       "</table>"
      ]
     },
     "metadata": {},
     "output_type": "display_data"
    }
   ],
   "source": [
    "### set file path\n",
    "txt_folder = TXT_FOLDER_REGION\n",
    "txt_fdiry  = file.path(FD_RES, \"region\", txt_folder, \"summary\")\n",
    "txt_fname = \"K562.hg38.hic_intact.Loop.tsv\"\n",
    "txt_fpath = file.path(txt_fdiry, txt_fname)\n",
    "\n",
    "### read table\n",
    "dat = read_tsv(txt_fpath, show_col_types = FALSE)\n",
    "\n",
    "### assign and show\n",
    "dat_region_import = dat\n",
    "fun_display_table(head(dat))"
   ]
  },
  {
   "cell_type": "markdown",
   "id": "e51a73b9-d24d-430d-b52e-9766c1662479",
   "metadata": {},
   "source": [
    "## Explore data"
   ]
  },
  {
   "cell_type": "markdown",
   "id": "bcc8b348-1a48-4f6c-9aee-ee7d12b53a14",
   "metadata": {},
   "source": [
    "### Loop anchor length (resolution)"
   ]
  },
  {
   "cell_type": "code",
   "execution_count": 6,
   "id": "443e324e-e7cd-4c8d-a434-0a232e5c148d",
   "metadata": {},
   "outputs": [
    {
     "data": {
      "text/plain": [
       "\n",
       " 1000  2000  5000 10000 \n",
       "14686 10059 13906  7353 "
      ]
     },
     "metadata": {},
     "output_type": "display_data"
    }
   ],
   "source": [
    "dat = dat_region_import\n",
    "res = table(dat$Size)\n",
    "res"
   ]
  },
  {
   "cell_type": "markdown",
   "id": "dcbcc5c2-b1ee-4246-ae42-f2847c5c1f7d",
   "metadata": {},
   "source": [
    "### Distance"
   ]
  },
  {
   "cell_type": "code",
   "execution_count": 7,
   "id": "55a2f43f-d086-41d7-8240-9db66380ab64",
   "metadata": {},
   "outputs": [
    {
     "data": {
      "text/plain": [
       "   Min. 1st Qu.  Median    Mean 3rd Qu.    Max. \n",
       "    8.0    65.0   147.5   276.8   318.0  9085.7 "
      ]
     },
     "metadata": {},
     "output_type": "display_data"
    }
   ],
   "source": [
    "dat = dat_region_import\n",
    "summary(dat$Distance/1000)"
   ]
  },
  {
   "cell_type": "code",
   "execution_count": 9,
   "id": "474769a1-9ce9-485c-8095-901d5f5fc8e8",
   "metadata": {},
   "outputs": [
    {
     "name": "stderr",
     "output_type": "stream",
     "text": [
      "Warning message in scale_y_log10():\n",
      "“\u001b[1m\u001b[22m\u001b[32mlog-10\u001b[39m transformation introduced infinite values.”\n",
      "Warning message:\n",
      "“\u001b[1m\u001b[22mRemoved 83 rows containing missing values or values outside the scale range\n",
      "(`geom_bar()`).”\n"
     ]
    },
    {
     "data": {
      "image/png": "[encoded data removed]",
      "text/plain": [
       "plot without title"
      ]
     },
     "metadata": {
      "image/png": {
       "height": 480,
       "width": 420
      }
     },
     "output_type": "display_data"
    }
   ],
   "source": [
    "dat = dat_region_import\n",
    "gpt = ggplot(dat, aes(x=Distance/1000000)) + \n",
    "    geom_histogram(bins=50) +\n",
    "    theme_cowplot() +\n",
    "    background_grid() +\n",
    "    scale_y_log10() +\n",
    "    facet_wrap(~Size, scale = \"free_y\", ncol=1) +\n",
    "    labs(x=\"Mb\", y=\"Count\")\n",
    "\n",
    "options(repr.plot.height=8, repr.plot.width=7)\n",
    "print(gpt)"
   ]
  },
  {
   "cell_type": "markdown",
   "id": "45def53b-8a7c-4930-8c6d-527043b54a11",
   "metadata": {},
   "source": [
    "### Score: Observed"
   ]
  },
  {
   "cell_type": "code",
   "execution_count": 10,
   "id": "d419c769-9654-488b-b604-9c24924473c8",
   "metadata": {},
   "outputs": [
    {
     "data": {
      "text/plain": [
       "   Min. 1st Qu.  Median    Mean 3rd Qu.    Max. \n",
       "   6.00   15.00   22.00   26.72   34.00  378.00 "
      ]
     },
     "metadata": {},
     "output_type": "display_data"
    }
   ],
   "source": [
    "dat = dat_region_import\n",
    "summary(dat$Observed)"
   ]
  },
  {
   "cell_type": "code",
   "execution_count": 15,
   "id": "ad516be3-a12a-48f6-8c3e-4769676a208e",
   "metadata": {},
   "outputs": [
    {
     "name": "stderr",
     "output_type": "stream",
     "text": [
      "Warning message in scale_y_log10():\n",
      "“\u001b[1m\u001b[22m\u001b[32mlog-10\u001b[39m transformation introduced infinite values.”\n",
      "Warning message:\n",
      "“\u001b[1m\u001b[22mRemoved 165 rows containing missing values or values outside the scale range\n",
      "(`geom_bar()`).”\n"
     ]
    },
    {
     "data": {
      "image/png": "[encoded data removed]",
      "text/plain": [
       "plot without title"
      ]
     },
     "metadata": {
      "image/png": {
       "height": 480,
       "width": 420
      }
     },
     "output_type": "display_data"
    }
   ],
   "source": [
    "dat = dat_region_import\n",
    "gpt = ggplot(dat, aes(x=Observed)) + \n",
    "    geom_histogram(bins=70) +\n",
    "    theme_cowplot() +\n",
    "    background_grid() +\n",
    "    scale_y_log10() +\n",
    "    facet_wrap(~Size, scale = \"free_y\", ncol=1) +\n",
    "    labs(x=\"Raw Contact Count\", y = \"Count\", title = \"Observed Hi-C signal\")\n",
    "\n",
    "options(repr.plot.height=8, repr.plot.width=7)\n",
    "print(gpt)"
   ]
  },
  {
   "cell_type": "markdown",
   "id": "b5fd70cc-7b03-4dbe-9ea0-b28f52e66c2e",
   "metadata": {},
   "source": [
    "### Score: Expected (BL)"
   ]
  },
  {
   "cell_type": "code",
   "execution_count": 17,
   "id": "2464924c-a991-4b4b-b3a0-0990d438c9db",
   "metadata": {},
   "outputs": [
    {
     "data": {
      "text/plain": [
       "   Min. 1st Qu.  Median    Mean 3rd Qu.    Max. \n",
       "  0.152   2.003   4.350   7.174   9.758 139.679 "
      ]
     },
     "metadata": {},
     "output_type": "display_data"
    }
   ],
   "source": [
    "dat = dat_region_import\n",
    "summary(dat$ExpectedBL)"
   ]
  },
  {
   "cell_type": "code",
   "execution_count": 20,
   "id": "68481474-0cfa-473e-8d38-d41742616afa",
   "metadata": {},
   "outputs": [
    {
     "name": "stderr",
     "output_type": "stream",
     "text": [
      "Warning message in scale_y_log10():\n",
      "“\u001b[1m\u001b[22m\u001b[32mlog-10\u001b[39m transformation introduced infinite values.”\n",
      "Warning message:\n",
      "“\u001b[1m\u001b[22mRemoved 160 rows containing missing values or values outside the scale range\n",
      "(`geom_bar()`).”\n"
     ]
    },
    {
     "data": {
      "image/png": "[encoded data removed]",
      "text/plain": [
       "plot without title"
      ]
     },
     "metadata": {
      "image/png": {
       "height": 480,
       "width": 420
      }
     },
     "output_type": "display_data"
    }
   ],
   "source": [
    "dat = dat_region_import\n",
    "gpt = ggplot(dat, aes(x=ExpectedBL)) + \n",
    "    geom_histogram(bins=70) +\n",
    "    theme_cowplot() +\n",
    "    background_grid() +\n",
    "    scale_y_log10() +\n",
    "    facet_wrap(~Size, scale = \"free_y\", ncol=1) +\n",
    "    labs(x=\"Expected (BL)\", y = \"Count\", title = \"Observed Hi-C signal\")\n",
    "\n",
    "options(repr.plot.height=8, repr.plot.width=7)\n",
    "print(gpt)"
   ]
  },
  {
   "cell_type": "code",
   "execution_count": 21,
   "id": "42f21ebd-5f51-49f0-acf3-a4f0e68270e2",
   "metadata": {},
   "outputs": [
    {
     "data": {
      "image/png": "[encoded data removed]",
      "text/plain": [
       "plot without title"
      ]
     },
     "metadata": {
      "image/png": {
       "height": 360,
       "width": 420
      }
     },
     "output_type": "display_data"
    }
   ],
   "source": [
    "dat = dat_region_import\n",
    "gpt = ggplot(dat, aes(x=Distance/1000000, y=ExpectedBL)) + \n",
    "    geom_point() +\n",
    "    theme_cowplot() +\n",
    "    background_grid() +\n",
    "    labs(x=\"Distance (Mb)\", y = \"Expected (BL)\", title = \"Expected Hi-C signal\") +\n",
    "    xlim(0, 10)\n",
    "\n",
    "options(repr.plot.height=6, repr.plot.width=7)\n",
    "print(gpt)"
   ]
  },
  {
   "cell_type": "markdown",
   "id": "76b91f4a-ed35-4ea5-a8ae-0c60bab66492",
   "metadata": {},
   "source": [
    "### Score: Expected (Donut)"
   ]
  },
  {
   "cell_type": "code",
   "execution_count": 22,
   "id": "53798994-762e-4a44-8de9-ea7db336994a",
   "metadata": {},
   "outputs": [
    {
     "name": "stderr",
     "output_type": "stream",
     "text": [
      "Warning message in scale_y_log10():\n",
      "“\u001b[1m\u001b[22m\u001b[32mlog-10\u001b[39m transformation introduced infinite values.”\n",
      "Warning message:\n",
      "“\u001b[1m\u001b[22mRemoved 184 rows containing missing values or values outside the scale range\n",
      "(`geom_bar()`).”\n"
     ]
    },
    {
     "data": {
      "image/png": "[encoded data removed]",
      "text/plain": [
       "plot without title"
      ]
     },
     "metadata": {
      "image/png": {
       "height": 480,
       "width": 420
      }
     },
     "output_type": "display_data"
    }
   ],
   "source": [
    "dat = dat_region_import\n",
    "gpt = ggplot(dat, aes(x=ExpectedDonut)) + \n",
    "    geom_histogram(bins=70) +\n",
    "    theme_cowplot() +\n",
    "    background_grid() +\n",
    "    scale_y_log10() +\n",
    "    facet_wrap(~Size, scale = \"free_y\", ncol=1) +\n",
    "    labs(x=\"Expected (Donut)\", y = \"Count\", title = \"Observed Hi-C signal\")\n",
    "\n",
    "options(repr.plot.height=8, repr.plot.width=7)\n",
    "print(gpt)"
   ]
  },
  {
   "cell_type": "code",
   "execution_count": 23,
   "id": "f299bdb8-a455-4e1a-ad16-e8d20b21a5d1",
   "metadata": {},
   "outputs": [
    {
     "data": {
      "image/png": "[encoded data removed]",
      "text/plain": [
       "plot without title"
      ]
     },
     "metadata": {
      "image/png": {
       "height": 360,
       "width": 420
      }
     },
     "output_type": "display_data"
    }
   ],
   "source": [
    "dat = dat_region_import\n",
    "gpt = ggplot(dat, aes(x=Distance/1000000, y=ExpectedDonut)) + \n",
    "    geom_point() +\n",
    "    theme_cowplot() +\n",
    "    background_grid() +\n",
    "    labs(x=\"Distance (Mb)\", y = \"Expected (Donut)\", title = \"Expected Hi-C signal\") +\n",
    "    xlim(0, 10)\n",
    "\n",
    "options(repr.plot.height=6, repr.plot.width=7)\n",
    "print(gpt)"
   ]
  },
  {
   "cell_type": "markdown",
   "id": "7c33a880-1937-49b9-ad6a-6d92aa4c7d68",
   "metadata": {},
   "source": [
    "### Score: O/E"
   ]
  },
  {
   "cell_type": "code",
   "execution_count": 24,
   "id": "650b4fee-6566-4708-9152-90a28c3733ea",
   "metadata": {},
   "outputs": [
    {
     "data": {
      "text/plain": [
       "   Min. 1st Qu.  Median    Mean 3rd Qu.    Max. \n",
       " 0.8153  1.7261  2.3813  2.4288  3.0780  5.3049 "
      ]
     },
     "metadata": {},
     "output_type": "display_data"
    }
   ],
   "source": [
    "dat = dat_region_import\n",
    "dat = dat %>% dplyr::mutate(Value = log2(Observed / ExpectedDonut))\n",
    "vec = dat$Value\n",
    "\n",
    "summary(vec)"
   ]
  },
  {
   "cell_type": "code",
   "execution_count": 26,
   "id": "a1247d5e-e9be-4c6d-944b-0f00e9e19e20",
   "metadata": {},
   "outputs": [
    {
     "data": {
      "image/png": "[encoded data removed]",
      "text/plain": [
       "plot without title"
      ]
     },
     "metadata": {
      "image/png": {
       "height": 180,
       "width": 420
      }
     },
     "output_type": "display_data"
    }
   ],
   "source": [
    "dat = dat_region_import\n",
    "dat = dat %>% dplyr::mutate(Value = Observed / ExpectedDonut)\n",
    "\n",
    "gpt = ggplot(dat, aes(x=Value)) + \n",
    "    geom_histogram(bins = 70) +\n",
    "    theme_cowplot() +\n",
    "    background_grid()\n",
    "\n",
    "options(repr.plot.height=3, repr.plot.width=7)\n",
    "print(gpt)"
   ]
  },
  {
   "cell_type": "code",
   "execution_count": 27,
   "id": "33b07174-3cdd-4612-95a6-9f9661de9285",
   "metadata": {},
   "outputs": [
    {
     "data": {
      "image/png": "[encoded data removed]",
      "text/plain": [
       "plot without title"
      ]
     },
     "metadata": {
      "image/png": {
       "height": 180,
       "width": 420
      }
     },
     "output_type": "display_data"
    }
   ],
   "source": [
    "dat = dat_region_import\n",
    "dat = dat %>% dplyr::mutate(Value = log2(Observed / ExpectedDonut))\n",
    "\n",
    "gpt = ggplot(dat, aes(x=Value)) + \n",
    "    geom_histogram(bins = 100) +\n",
    "    theme_cowplot() +\n",
    "    background_grid() \n",
    "\n",
    "options(repr.plot.height=3, repr.plot.width=7)\n",
    "print(gpt)"
   ]
  },
  {
   "cell_type": "code",
   "execution_count": null,
   "id": "b98ba661-cec7-48e6-b855-cbe0fc501ca5",
   "metadata": {},
   "outputs": [],
   "source": []
  }
 ],
 "metadata": {
  "kernelspec": {
   "display_name": "R",
   "language": "R",
   "name": "ir"
  },
  "language_info": {
   "codemirror_mode": "r",
   "file_extension": ".r",
   "mimetype": "text/x-r-source",
   "name": "R",
   "pygments_lexer": "r",
   "version": "4.4.2"
  }
 },
 "nbformat": 4,
 "nbformat_minor": 5
}
