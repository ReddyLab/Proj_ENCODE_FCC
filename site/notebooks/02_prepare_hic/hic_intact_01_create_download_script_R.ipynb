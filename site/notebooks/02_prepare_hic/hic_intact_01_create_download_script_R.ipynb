{
 "cells": [
  {
   "cell_type": "raw",
   "id": "5706fb6e-2c35-4016-83b9-e27976331127",
   "metadata": {},
   "source": [
    "---\n",
    "title: Prepare Hi-C data 01 (intact Hi-C)\n",
    "subtitle: Generate download script to download the data\n",
    "format:\n",
    "    html:\n",
    "        code-fold:  true\n",
    "        code-tools: true\n",
    "---"
   ]
  },
  {
   "cell_type": "markdown",
   "id": "607495f4-9b11-47fd-93e4-18efa52ea996",
   "metadata": {},
   "source": [
    "**Set environment**"
   ]
  },
  {
   "cell_type": "code",
   "execution_count": 1,
   "id": "7b396d24-a046-42c6-8267-2155f709e8f9",
   "metadata": {
    "tags": []
   },
   "outputs": [
    {
     "name": "stdout",
     "output_type": "stream",
     "text": [
      "You are working on        Singularity \n",
      "BASE DIRECTORY (FD_BASE): /mount \n",
      "REPO DIRECTORY (FD_REPO): /mount/repo \n",
      "WORK DIRECTORY (FD_WORK): /mount/work \n",
      "DATA DIRECTORY (FD_DATA): /mount/data \n",
      "\n",
      "You are working with      ENCODE FCC \n",
      "PATH OF PROJECT (FD_PRJ): /mount/repo/Proj_ENCODE_FCC \n",
      "PROJECT RESULTS (FD_RES): /mount/repo/Proj_ENCODE_FCC/results \n",
      "PROJECT SCRIPTS (FD_EXE): /mount/repo/Proj_ENCODE_FCC/scripts \n",
      "PROJECT DATA    (FD_DAT): /mount/repo/Proj_ENCODE_FCC/data \n",
      "PROJECT NOTE    (FD_NBK): /mount/repo/Proj_ENCODE_FCC/notebooks \n",
      "PROJECT DOCS    (FD_DOC): /mount/repo/Proj_ENCODE_FCC/docs \n",
      "PROJECT LOG     (FD_LOG): /mount/repo/Proj_ENCODE_FCC/log \n",
      "PROJECT APP     (FD_APP): /mount/repo/Proj_ENCODE_FCC/app \n",
      "PROJECT REF     (FD_REF): /mount/repo/Proj_ENCODE_FCC/references \n",
      "\n"
     ]
    }
   ],
   "source": [
    "suppressMessages(suppressWarnings(source(\"../run_config_project_sing.R\")))\n",
    "show_env()"
   ]
  },
  {
   "cell_type": "markdown",
   "id": "c2d0889b-d140-43c1-b4be-a3cb29f72390",
   "metadata": {
    "tags": []
   },
   "source": [
    "## Import metadata from reference file"
   ]
  },
  {
   "cell_type": "code",
   "execution_count": 2,
   "id": "74d4461e-85dc-4b41-a70e-f8bdb32fb1cc",
   "metadata": {},
   "outputs": [
    {
     "data": {
      "text/html": [
       "'ENCODE_K562_hg38_hic.tsv'"
      ],
      "text/latex": [
       "'ENCODE\\_K562\\_hg38\\_hic.tsv'"
      ],
      "text/markdown": [
       "'ENCODE_K562_hg38_hic.tsv'"
      ],
      "text/plain": [
       "[1] \"ENCODE_K562_hg38_hic.tsv\""
      ]
     },
     "metadata": {},
     "output_type": "display_data"
    }
   ],
   "source": [
    "txt = file.path(FD_REF, \"encode_hic\")\n",
    "dir(txt)"
   ]
  },
  {
   "cell_type": "code",
   "execution_count": 3,
   "id": "6525b9bf-78fe-4fc1-8b6b-9037e6546130",
   "metadata": {},
   "outputs": [
    {
     "data": {
      "text/html": [
       "<table>\n",
       " <thead>\n",
       "  <tr>\n",
       "   <th style=\"text-align:left;\"> Assay </th>\n",
       "   <th style=\"text-align:left;\"> Biosample </th>\n",
       "   <th style=\"text-align:left;\"> Index_Experiment </th>\n",
       "   <th style=\"text-align:left;\"> Index_Process </th>\n",
       "   <th style=\"text-align:left;\"> Index_File </th>\n",
       "   <th style=\"text-align:left;\"> File_Type </th>\n",
       "   <th style=\"text-align:left;\"> Output_Type </th>\n",
       "   <th style=\"text-align:left;\"> Genome </th>\n",
       "   <th style=\"text-align:left;\"> Lab </th>\n",
       "  </tr>\n",
       " </thead>\n",
       "<tbody>\n",
       "  <tr>\n",
       "   <td style=\"text-align:left;\"> HiC (in situ Hi-C) </td>\n",
       "   <td style=\"text-align:left;\"> K562 </td>\n",
       "   <td style=\"text-align:left;\"> ENCSR545YBD </td>\n",
       "   <td style=\"text-align:left;\"> ENCODE4 v1.15.0 GRCh38 (ENCAN133QZO) processed data </td>\n",
       "   <td style=\"text-align:left;\"> ENCFF616PUW </td>\n",
       "   <td style=\"text-align:left;\"> hic </td>\n",
       "   <td style=\"text-align:left;\"> mapping quality thresholded contact matrix </td>\n",
       "   <td style=\"text-align:left;\"> hg38 </td>\n",
       "   <td style=\"text-align:left;\"> Erez Aiden, Baylor </td>\n",
       "  </tr>\n",
       "  <tr>\n",
       "   <td style=\"text-align:left;\"> HiC (in situ Hi-C) </td>\n",
       "   <td style=\"text-align:left;\"> K562 </td>\n",
       "   <td style=\"text-align:left;\"> ENCSR545YBD </td>\n",
       "   <td style=\"text-align:left;\"> ENCODE4 v1.15.0 GRCh38 (ENCAN133QZO) processed data </td>\n",
       "   <td style=\"text-align:left;\"> ENCFF693XIL </td>\n",
       "   <td style=\"text-align:left;\"> bedpe </td>\n",
       "   <td style=\"text-align:left;\"> loops </td>\n",
       "   <td style=\"text-align:left;\"> hg38 </td>\n",
       "   <td style=\"text-align:left;\"> Erez Aiden, Baylor </td>\n",
       "  </tr>\n",
       "  <tr>\n",
       "   <td style=\"text-align:left;\"> HiC (in situ Hi-C) </td>\n",
       "   <td style=\"text-align:left;\"> K562 </td>\n",
       "   <td style=\"text-align:left;\"> ENCSR545YBD </td>\n",
       "   <td style=\"text-align:left;\"> ENCODE4 v1.15.0 GRCh38 (ENCAN133QZO) processed data </td>\n",
       "   <td style=\"text-align:left;\"> ENCFF271SAF </td>\n",
       "   <td style=\"text-align:left;\"> bedpe </td>\n",
       "   <td style=\"text-align:left;\"> contact domains </td>\n",
       "   <td style=\"text-align:left;\"> hg38 </td>\n",
       "   <td style=\"text-align:left;\"> Erez Aiden, Baylor </td>\n",
       "  </tr>\n",
       "  <tr>\n",
       "   <td style=\"text-align:left;\"> HiC (intact Hi-C) </td>\n",
       "   <td style=\"text-align:left;\"> K562 </td>\n",
       "   <td style=\"text-align:left;\"> ENCSR479XDG </td>\n",
       "   <td style=\"text-align:left;\"> ENCODE4 v1.14.2 GRCh38 (ENCAN923OBU) processed data </td>\n",
       "   <td style=\"text-align:left;\"> ENCFF621AIY </td>\n",
       "   <td style=\"text-align:left;\"> hic </td>\n",
       "   <td style=\"text-align:left;\"> mapping quality thresholded contact matrix </td>\n",
       "   <td style=\"text-align:left;\"> hg38 </td>\n",
       "   <td style=\"text-align:left;\"> Erez Aiden, Baylor </td>\n",
       "  </tr>\n",
       "  <tr>\n",
       "   <td style=\"text-align:left;\"> HiC (intact Hi-C) </td>\n",
       "   <td style=\"text-align:left;\"> K562 </td>\n",
       "   <td style=\"text-align:left;\"> ENCSR479XDG </td>\n",
       "   <td style=\"text-align:left;\"> ENCODE4 v1.14.2 GRCh38 (ENCAN923OBU) processed data </td>\n",
       "   <td style=\"text-align:left;\"> ENCFF256ZMD </td>\n",
       "   <td style=\"text-align:left;\"> bedpe </td>\n",
       "   <td style=\"text-align:left;\"> loops </td>\n",
       "   <td style=\"text-align:left;\"> hg38 </td>\n",
       "   <td style=\"text-align:left;\"> Erez Aiden, Baylor </td>\n",
       "  </tr>\n",
       "  <tr>\n",
       "   <td style=\"text-align:left;\"> HiC (intact Hi-C) </td>\n",
       "   <td style=\"text-align:left;\"> K562 </td>\n",
       "   <td style=\"text-align:left;\"> ENCSR479XDG </td>\n",
       "   <td style=\"text-align:left;\"> ENCODE4 v1.14.2 GRCh38 (ENCAN923OBU) processed data </td>\n",
       "   <td style=\"text-align:left;\"> ENCFF126GED </td>\n",
       "   <td style=\"text-align:left;\"> bedpe </td>\n",
       "   <td style=\"text-align:left;\"> contact domains </td>\n",
       "   <td style=\"text-align:left;\"> hg38 </td>\n",
       "   <td style=\"text-align:left;\"> Erez Aiden, Baylor </td>\n",
       "  </tr>\n",
       "</tbody>\n",
       "</table>"
      ]
     },
     "metadata": {},
     "output_type": "display_data"
    }
   ],
   "source": [
    "### set file path\n",
    "txt_fdiry = file.path(FD_REF, \"encode_hic\")\n",
    "txt_fname = \"ENCODE_K562_hg38_hic.tsv\"\n",
    "txt_fpath = file.path(txt_fdiry, txt_fname)\n",
    "\n",
    "### read table\n",
    "dat = read_tsv(txt_fpath, show_col_types = FALSE)\n",
    "\n",
    "### assign and show\n",
    "dat_metadata_import = dat\n",
    "fun_display_table(dat)"
   ]
  },
  {
   "cell_type": "code",
   "execution_count": 4,
   "id": "3f6c7178-17e8-47f5-8221-547212eef771",
   "metadata": {},
   "outputs": [
    {
     "data": {
      "text/html": [
       "<table>\n",
       " <thead>\n",
       "  <tr>\n",
       "   <th style=\"text-align:left;\"> Assay </th>\n",
       "   <th style=\"text-align:left;\"> Biosample </th>\n",
       "   <th style=\"text-align:left;\"> Index_Experiment </th>\n",
       "   <th style=\"text-align:left;\"> Index_Process </th>\n",
       "   <th style=\"text-align:left;\"> Index_File </th>\n",
       "   <th style=\"text-align:left;\"> File_Type </th>\n",
       "   <th style=\"text-align:left;\"> Output_Type </th>\n",
       "   <th style=\"text-align:left;\"> Genome </th>\n",
       "   <th style=\"text-align:left;\"> Lab </th>\n",
       "  </tr>\n",
       " </thead>\n",
       "<tbody>\n",
       "  <tr>\n",
       "   <td style=\"text-align:left;\"> HiC (intact Hi-C) </td>\n",
       "   <td style=\"text-align:left;\"> K562 </td>\n",
       "   <td style=\"text-align:left;\"> ENCSR479XDG </td>\n",
       "   <td style=\"text-align:left;\"> ENCODE4 v1.14.2 GRCh38 (ENCAN923OBU) processed data </td>\n",
       "   <td style=\"text-align:left;\"> ENCFF621AIY </td>\n",
       "   <td style=\"text-align:left;\"> hic </td>\n",
       "   <td style=\"text-align:left;\"> mapping quality thresholded contact matrix </td>\n",
       "   <td style=\"text-align:left;\"> hg38 </td>\n",
       "   <td style=\"text-align:left;\"> Erez Aiden, Baylor </td>\n",
       "  </tr>\n",
       "  <tr>\n",
       "   <td style=\"text-align:left;\"> HiC (intact Hi-C) </td>\n",
       "   <td style=\"text-align:left;\"> K562 </td>\n",
       "   <td style=\"text-align:left;\"> ENCSR479XDG </td>\n",
       "   <td style=\"text-align:left;\"> ENCODE4 v1.14.2 GRCh38 (ENCAN923OBU) processed data </td>\n",
       "   <td style=\"text-align:left;\"> ENCFF256ZMD </td>\n",
       "   <td style=\"text-align:left;\"> bedpe </td>\n",
       "   <td style=\"text-align:left;\"> loops </td>\n",
       "   <td style=\"text-align:left;\"> hg38 </td>\n",
       "   <td style=\"text-align:left;\"> Erez Aiden, Baylor </td>\n",
       "  </tr>\n",
       "  <tr>\n",
       "   <td style=\"text-align:left;\"> HiC (intact Hi-C) </td>\n",
       "   <td style=\"text-align:left;\"> K562 </td>\n",
       "   <td style=\"text-align:left;\"> ENCSR479XDG </td>\n",
       "   <td style=\"text-align:left;\"> ENCODE4 v1.14.2 GRCh38 (ENCAN923OBU) processed data </td>\n",
       "   <td style=\"text-align:left;\"> ENCFF126GED </td>\n",
       "   <td style=\"text-align:left;\"> bedpe </td>\n",
       "   <td style=\"text-align:left;\"> contact domains </td>\n",
       "   <td style=\"text-align:left;\"> hg38 </td>\n",
       "   <td style=\"text-align:left;\"> Erez Aiden, Baylor </td>\n",
       "  </tr>\n",
       "</tbody>\n",
       "</table>"
      ]
     },
     "metadata": {},
     "output_type": "display_data"
    }
   ],
   "source": [
    "dat = dat_metadata_import\n",
    "dat = dat %>% dplyr::filter(str_detect(Assay, \"intact\"))\n",
    "\n",
    "### assign and show\n",
    "dat_metadata = dat\n",
    "fun_display_table(dat)"
   ]
  },
  {
   "cell_type": "markdown",
   "id": "79b16bb3-002e-42d0-bef6-da6ed9417c24",
   "metadata": {},
   "source": [
    "## Generate download commands\n",
    "```\n",
    "wget -O FILE URL\n",
    "```"
   ]
  },
  {
   "cell_type": "code",
   "execution_count": 5,
   "id": "51e2b96a-1c31-4a26-80a3-f371e82dfca1",
   "metadata": {},
   "outputs": [
    {
     "name": "stdout",
     "output_type": "stream",
     "text": [
      "  Input   Output\n",
      "1   hic      hic\n",
      "2 bedpe bedpe.gz\n",
      "3 bedpe bedpe.gz\n",
      "\n",
      "                                       Input         Output\n",
      "1 mapping quality thresholded contact matrix         matrix\n",
      "2                                      loops          loops\n",
      "3                            contact domains contact_domain\n",
      "\n"
     ]
    }
   ],
   "source": [
    "### define helper function\n",
    "fun_get_file_ext = function(txt){\n",
    "    vec1 = c(\"hic\", \"bedpe\")\n",
    "    vec2 = c(\"hic\", \"bedpe.gz\")\n",
    "    res  = fun_str_map_detect(txt, vec1, vec2, .default=txt)\n",
    "    return(res)\n",
    "}\n",
    "\n",
    "### define helper function\n",
    "fun_get_file_label = function(txt){\n",
    "    vec1 = c(\"matrix\", \"loops\", \"contact domain\")\n",
    "    vec2 = c(\"matrix\", \"loops\", \"contact_domain\")\n",
    "    res  = fun_str_map_detect(txt, vec1, vec2, .default=txt)\n",
    "    return(res)\n",
    "}\n",
    "\n",
    "\n",
    "### test function\n",
    "dat = dat_metadata\n",
    "\n",
    "fun = fun_get_file_ext\n",
    "txt = dat$File_Type\n",
    "res = fun(txt)\n",
    "tmp = data.frame(\"Input\" = txt, \"Output\" = res)\n",
    "print(tmp)\n",
    "cat(\"\\n\")\n",
    "\n",
    "fun = fun_get_file_label\n",
    "txt = dat$Output_Type\n",
    "res = fun(txt)\n",
    "tmp = data.frame(\"Input\" = txt, \"Output\" = res)\n",
    "print(tmp)\n",
    "cat(\"\\n\")"
   ]
  },
  {
   "cell_type": "code",
   "execution_count": 6,
   "id": "ee207741-e13a-48b0-8b6e-871630976278",
   "metadata": {},
   "outputs": [
    {
     "data": {
      "text/html": [
       "<table>\n",
       " <thead>\n",
       "  <tr>\n",
       "   <th style=\"text-align:left;\"> #!/bin/bash </th>\n",
       "  </tr>\n",
       " </thead>\n",
       "<tbody>\n",
       "  <tr>\n",
       "   <td style=\"text-align:left;\"> echo -n &quot;&quot; &gt; run_download.log.txt </td>\n",
       "  </tr>\n",
       "  <tr>\n",
       "   <td style=\"text-align:left;\"> wget --append-output=run_download.log.txt -O K562.hg38.ENCSR479XDG.ENCFF621AIY.hic_intact.matrix.hic https://www.encodeproject.org/files/ENCFF621AIY/@@download/ENCFF621AIY.hic </td>\n",
       "  </tr>\n",
       "  <tr>\n",
       "   <td style=\"text-align:left;\"> wget --append-output=run_download.log.txt -O K562.hg38.ENCSR479XDG.ENCFF256ZMD.hic_intact.loops.bedpe.gz https://www.encodeproject.org/files/ENCFF256ZMD/@@download/ENCFF256ZMD.bedpe.gz </td>\n",
       "  </tr>\n",
       "  <tr>\n",
       "   <td style=\"text-align:left;\"> wget --append-output=run_download.log.txt -O K562.hg38.ENCSR479XDG.ENCFF126GED.hic_intact.contact_domain.bedpe.gz https://www.encodeproject.org/files/ENCFF126GED/@@download/ENCFF126GED.bedpe.gz </td>\n",
       "  </tr>\n",
       "</tbody>\n",
       "</table>"
      ]
     },
     "metadata": {},
     "output_type": "display_data"
    }
   ],
   "source": [
    "### init\n",
    "dat = dat_metadata\n",
    "\n",
    "### setup download file name and wget command\n",
    "dat = dat %>%\n",
    "    dplyr::mutate(\n",
    "        File_Label = fun_get_file_label(Output_Type),\n",
    "        File_Ext1  = fun_get_file_ext(File_Type),\n",
    "        File_Ext2  = fun_get_file_ext(File_Type)\n",
    "    ) %>%\n",
    "    dplyr::mutate(\n",
    "        File_Name = paste(\n",
    "            Biosample, \n",
    "            Genome, \n",
    "            Index_Experiment, \n",
    "            Index_File,\n",
    "            \"hic_intact\",\n",
    "            File_Label,\n",
    "            File_Ext1, \n",
    "            sep=\".\")\n",
    "    ) %>%\n",
    "    dplyr::mutate(\n",
    "        File_URL_Download = file.path(\n",
    "            \"https://www.encodeproject.org/files\",\n",
    "            Index_File,\n",
    "            \"@@download\",\n",
    "            paste(Index_File, File_Ext2, sep = \".\")\n",
    "        )\n",
    "    ) %>%\n",
    "    dplyr::mutate(\n",
    "        CMD = paste(\"wget\", \"--append-output=run_download.log.txt\", \"-O\", File_Name, File_URL_Download)\n",
    "    )\n",
    "\n",
    "### add Shebang and initial commands\n",
    "#dat = dat %>% dplyr::select(Assay, Biosample, Index_Experiment, Index_File, File_Name, CMD)\n",
    "dat = dat %>% dplyr::select(CMD)\n",
    "dat = rbind('echo -n \"\" > run_download.log.txt', dat)\n",
    "colnames(dat) = \"#!/bin/bash\"\n",
    "\n",
    "### assign and show\n",
    "dat_cmd = dat\n",
    "fun_display_table(dat)"
   ]
  },
  {
   "cell_type": "markdown",
   "id": "69a6f365-e576-4e9a-81d6-360ffc5be947",
   "metadata": {},
   "source": [
    "## Save to script\n",
    "Save the command lines for each row into a bash script"
   ]
  },
  {
   "cell_type": "code",
   "execution_count": 7,
   "id": "8184ef8a-c4f1-4af7-96f0-4c553fd6aeb7",
   "metadata": {},
   "outputs": [],
   "source": [
    "### set output path\n",
    "txt_fdiry = file.path(FD_DAT, \"external\", \"hic_intact_K562_ENCSR479XDG\")\n",
    "txt_fname = \"run_download.sh\"\n",
    "txt_fpath = file.path(txt_fdiry, txt_fname)\n",
    "\n",
    "### save table\n",
    "dir.create(txt_fdiry, showWarnings = FALSE)\n",
    "dat = dat_cmd\n",
    "write_tsv(dat, txt_fpath)  "
   ]
  },
  {
   "cell_type": "code",
   "execution_count": null,
   "id": "63c6e624-953f-4738-a565-51743ff132b9",
   "metadata": {},
   "outputs": [],
   "source": []
  }
 ],
 "metadata": {
  "kernelspec": {
   "display_name": "R",
   "language": "R",
   "name": "ir"
  },
  "language_info": {
   "codemirror_mode": "r",
   "file_extension": ".r",
   "mimetype": "text/x-r-source",
   "name": "R",
   "pygments_lexer": "r",
   "version": "4.4.2"
  }
 },
 "nbformat": 4,
 "nbformat_minor": 5
}
