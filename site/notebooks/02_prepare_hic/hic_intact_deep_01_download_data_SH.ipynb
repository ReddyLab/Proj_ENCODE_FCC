{
 "cells": [
  {
   "cell_type": "raw",
   "id": "6b310af8-2eeb-4bfb-ba16-7f84d0013a66",
   "metadata": {},
   "source": [
    "---\n",
    "title: Prepare Hi-C data 01 (intact Hi-C; deep)\n",
    "subtitle: Download data\n",
    "format:\n",
    "    html:\n",
    "        code-fold:  true\n",
    "        code-tools: true\n",
    "---"
   ]
  },
  {
   "cell_type": "markdown",
   "id": "a9e11747-c354-4e6f-b298-ccddddbef2e0",
   "metadata": {},
   "source": [
    "**Set environment**"
   ]
  },
  {
   "cell_type": "code",
   "execution_count": 1,
   "id": "b0d8dcb0-4605-4de8-94ad-f71489d0a6de",
   "metadata": {},
   "outputs": [
    {
     "name": "stdout",
     "output_type": "stream",
     "text": [
      "You are working on             Duke Server: RCC\n",
      "BASE DIRECTORY (FD_BASE):      /data/reddylab/Kuei\n",
      "REPO DIRECTORY (FD_REPO):      /data/reddylab/Kuei/repo\n",
      "WORK DIRECTORY (FD_WORK):      /data/reddylab/Kuei/work\n",
      "DATA DIRECTORY (FD_DATA):      /data/reddylab/Kuei/data\n",
      "CONTAINER DIR. (FD_SING):      /data/reddylab/Kuei/container\n",
      "\n",
      "You are working with           ENCODE FCC\n",
      "PATH OF PROJECT (FD_PRJ):      /data/reddylab/Kuei/repo/Proj_ENCODE_FCC\n",
      "PROJECT RESULTS (FD_RES):      /data/reddylab/Kuei/repo/Proj_ENCODE_FCC/results\n",
      "PROJECT SCRIPTS (FD_EXE):      /data/reddylab/Kuei/repo/Proj_ENCODE_FCC/scripts\n",
      "PROJECT DATA    (FD_DAT):      /data/reddylab/Kuei/repo/Proj_ENCODE_FCC/data\n",
      "PROJECT NOTE    (FD_NBK):      /data/reddylab/Kuei/repo/Proj_ENCODE_FCC/notebooks\n",
      "PROJECT DOCS    (FD_DOC):      /data/reddylab/Kuei/repo/Proj_ENCODE_FCC/docs\n",
      "PROJECT LOG     (FD_LOG):      /data/reddylab/Kuei/repo/Proj_ENCODE_FCC/log\n",
      "PROJECT REF     (FD_REF):      /data/reddylab/Kuei/repo/Proj_ENCODE_FCC/references\n",
      "PROJECT IMAGE   (FP_PRJ_SIF):  /data/reddylab/Kuei/container/project/singularity_proj_encode_fcc.sif\n",
      "PROJECT CONF.   (FP_CNF):      /data/reddylab/Kuei/repo/Proj_ENCODE_FCC/scripts/config_project.sh\n",
      "\n"
     ]
    }
   ],
   "source": [
    "source ../run_config_project.sh\n",
    "show_env"
   ]
  },
  {
   "cell_type": "markdown",
   "id": "6a8e94bb-e0db-416b-b75d-9167d0106b9e",
   "metadata": {},
   "source": [
    "**Set global variable**"
   ]
  },
  {
   "cell_type": "code",
   "execution_count": 2,
   "id": "edc7b140-1fc5-4807-afd3-7e200b92b023",
   "metadata": {},
   "outputs": [],
   "source": [
    "FOLDER_REGION=\"hic_intact_K562_deep\""
   ]
  },
  {
   "cell_type": "markdown",
   "id": "96fba0f6-0139-4447-bc87-5447f641b447",
   "metadata": {},
   "source": [
    "## Download data"
   ]
  },
  {
   "cell_type": "markdown",
   "id": "25a32413-9968-4f8f-b65b-819564655689",
   "metadata": {},
   "source": [
    "**Hi-C Loop data**"
   ]
  },
  {
   "cell_type": "markdown",
   "id": "3696cd5f-c991-4f06-970b-0e9cade29e72",
   "metadata": {},
   "source": [
    "```\n",
    "URL=\"https://www.dropbox.com/sh/13ihnis7exi9lrp/AADgaBk0RoNDRAC62F5QpPFDa/K562/3.15.23/localizedList_primary_10.bedpe?dl=0\"\n",
    "wget ${URL}\n",
    "```"
   ]
  },
  {
   "cell_type": "markdown",
   "id": "fdaf3c11-b0d5-4a4a-8a72-4bab36a238d6",
   "metadata": {},
   "source": [
    "**Hi-C Matrix**"
   ]
  },
  {
   "cell_type": "markdown",
   "id": "89edc792-9307-4cce-95d2-9d27c24413ba",
   "metadata": {},
   "source": [
    "```\n",
    "URL=\"https://s3.us-east-1.wasabisys.com/aiden-suhas/hic_files/FINAL_GRCh38_processing/K562/total/inter.hic\"\n",
    "wget ${URL}\n",
    "```"
   ]
  },
  {
   "cell_type": "code",
   "execution_count": 4,
   "id": "f54154ec-5631-444e-8270-e4f2157304b3",
   "metadata": {},
   "outputs": [
    {
     "name": "stdout",
     "output_type": "stream",
     "text": [
      "total 346G\n",
      "346G inter.hic   39M localizedList_primary_10.bedpe  4.0K \u001b[0m\u001b[01;34mprocessed\u001b[0m\n"
     ]
    }
   ],
   "source": [
    "ls -hs ${FD_DAT}/external/${FOLDER_REGION}"
   ]
  }
 ],
 "metadata": {
  "kernelspec": {
   "display_name": "Bash",
   "language": "bash",
   "name": "bash"
  },
  "language_info": {
   "codemirror_mode": "shell",
   "file_extension": ".sh",
   "mimetype": "text/x-sh",
   "name": "bash"
  }
 },
 "nbformat": 4,
 "nbformat_minor": 5
}
