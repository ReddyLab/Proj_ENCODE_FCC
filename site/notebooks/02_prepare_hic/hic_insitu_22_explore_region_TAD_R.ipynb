{
 "cells": [
  {
   "cell_type": "raw",
   "id": "a7f54252-b65e-40f0-b89a-22ac740dc6a3",
   "metadata": {},
   "source": [
    "---\n",
    "title: Prepare Hi-C data 22 (in situ Hi-C)\n",
    "subtitle: Explore data (TAD)\n",
    "format:\n",
    "    html:\n",
    "        code-fold:  true\n",
    "        code-tools: true\n",
    "---"
   ]
  },
  {
   "cell_type": "markdown",
   "id": "9550ef84-2625-44d7-a9b9-a6e8c1c4e655",
   "metadata": {},
   "source": [
    "**Set environment**"
   ]
  },
  {
   "cell_type": "code",
   "execution_count": 1,
   "id": "1ee7dcd2-79e3-4e98-bb3f-4c5ba62746db",
   "metadata": {
    "tags": []
   },
   "outputs": [
    {
     "name": "stdout",
     "output_type": "stream",
     "text": [
      "You are working on        Singularity: singularity_proj_encode_fcc \n",
      "BASE DIRECTORY (FD_BASE): /data/reddylab/Kuei \n",
      "REPO DIRECTORY (FD_REPO): /data/reddylab/Kuei/repo \n",
      "WORK DIRECTORY (FD_WORK): /data/reddylab/Kuei/work \n",
      "DATA DIRECTORY (FD_DATA): /data/reddylab/Kuei/data \n",
      "\n",
      "You are working with      ENCODE FCC \n",
      "PATH OF PROJECT (FD_PRJ): /data/reddylab/Kuei/repo/Proj_ENCODE_FCC \n",
      "PROJECT RESULTS (FD_RES): /data/reddylab/Kuei/repo/Proj_ENCODE_FCC/results \n",
      "PROJECT SCRIPTS (FD_EXE): /data/reddylab/Kuei/repo/Proj_ENCODE_FCC/scripts \n",
      "PROJECT DATA    (FD_DAT): /data/reddylab/Kuei/repo/Proj_ENCODE_FCC/data \n",
      "PROJECT NOTE    (FD_NBK): /data/reddylab/Kuei/repo/Proj_ENCODE_FCC/notebooks \n",
      "PROJECT DOCS    (FD_DOC): /data/reddylab/Kuei/repo/Proj_ENCODE_FCC/docs \n",
      "PROJECT LOG     (FD_LOG): /data/reddylab/Kuei/repo/Proj_ENCODE_FCC/log \n",
      "PROJECT REF     (FD_REF): /data/reddylab/Kuei/repo/Proj_ENCODE_FCC/references \n",
      "\n"
     ]
    }
   ],
   "source": [
    "suppressMessages(suppressWarnings(source(\"../run_config_project_sing.R\")))\n",
    "show_env()"
   ]
  },
  {
   "cell_type": "markdown",
   "id": "acc1f0a3-3da6-4907-8de5-5c1a57149e92",
   "metadata": {},
   "source": [
    "**Set global variables**"
   ]
  },
  {
   "cell_type": "code",
   "execution_count": 2,
   "id": "c40a4b0d-887f-4602-bc33-26bf79b89b30",
   "metadata": {},
   "outputs": [],
   "source": [
    "TXT_FOLDER_REGION = \"hic_insitu_K562_ENCSR545YBD\""
   ]
  },
  {
   "cell_type": "markdown",
   "id": "ccca6c21-479d-42d8-a824-f8124673bfdf",
   "metadata": {
    "tags": []
   },
   "source": [
    "## Import data"
   ]
  },
  {
   "cell_type": "markdown",
   "id": "9ff9671e-1fde-4071-a094-449940ee646c",
   "metadata": {},
   "source": [
    "**View files**"
   ]
  },
  {
   "cell_type": "code",
   "execution_count": 3,
   "id": "87cd2e6f-967f-48ea-83f8-a2403f54ac41",
   "metadata": {},
   "outputs": [
    {
     "name": "stdout",
     "output_type": "stream",
     "text": [
      "K562.hg38.hic_insitu.Loop_A.bed.gz \n",
      "K562.hg38.hic_insitu.Loop_B.bed.gz \n",
      "K562.hg38.hic_insitu.TAD.bed.gz \n",
      "summary \n"
     ]
    }
   ],
   "source": [
    "txt_folder = TXT_FOLDER_REGION\n",
    "txt_fdiry  = file.path(FD_RES, \"region\", txt_folder)\n",
    "\n",
    "vec = dir(txt_fdiry)\n",
    "for (txt in vec){cat(txt, \"\\n\")}"
   ]
  },
  {
   "cell_type": "code",
   "execution_count": 4,
   "id": "738fc111-8ae5-43d7-bab9-ea9454d79e56",
   "metadata": {},
   "outputs": [
    {
     "name": "stdout",
     "output_type": "stream",
     "text": [
      "description.tsv \n",
      "K562.hg38.hic_insitu.Loop.tsv \n",
      "K562.hg38.hic_insitu.TAD.tsv \n",
      "metadata.label.tsv \n"
     ]
    }
   ],
   "source": [
    "txt_folder = TXT_FOLDER_REGION\n",
    "txt_fdiry  = file.path(FD_RES, \"region\", txt_folder, \"summary\")\n",
    "\n",
    "vec = dir(txt_fdiry)\n",
    "for (txt in vec){cat(txt, \"\\n\")}"
   ]
  },
  {
   "cell_type": "markdown",
   "id": "8ed0076d-925b-4300-8be3-ea77aa543617",
   "metadata": {},
   "source": [
    "**Read data**"
   ]
  },
  {
   "cell_type": "code",
   "execution_count": 15,
   "id": "12e98416-97ba-4c84-b8b8-bede4e0ceb87",
   "metadata": {},
   "outputs": [
    {
     "data": {
      "text/html": [
       "<table>\n",
       " <thead>\n",
       "  <tr>\n",
       "   <th style=\"text-align:left;\"> Chrom_A </th>\n",
       "   <th style=\"text-align:right;\"> ChromStart_A </th>\n",
       "   <th style=\"text-align:right;\"> ChromEnd_A </th>\n",
       "   <th style=\"text-align:left;\"> Chrom_B </th>\n",
       "   <th style=\"text-align:right;\"> ChromStart_B </th>\n",
       "   <th style=\"text-align:right;\"> ChromEnd_B </th>\n",
       "   <th style=\"text-align:left;\"> Name </th>\n",
       "   <th style=\"text-align:left;\"> Score </th>\n",
       "   <th style=\"text-align:left;\"> Strand_A </th>\n",
       "   <th style=\"text-align:left;\"> Strand_B </th>\n",
       "   <th style=\"text-align:right;\"> Color </th>\n",
       "   <th style=\"text-align:right;\"> DomainScore </th>\n",
       "   <th style=\"text-align:right;\"> UVarScore </th>\n",
       "   <th style=\"text-align:right;\"> LVarScore </th>\n",
       "   <th style=\"text-align:right;\"> UpSign </th>\n",
       "   <th style=\"text-align:right;\"> LoSign </th>\n",
       "   <th style=\"text-align:left;\"> Region </th>\n",
       "   <th style=\"text-align:right;\"> Size </th>\n",
       "  </tr>\n",
       " </thead>\n",
       "<tbody>\n",
       "  <tr>\n",
       "   <td style=\"text-align:left;\"> chr1 </td>\n",
       "   <td style=\"text-align:right;\"> 885000 </td>\n",
       "   <td style=\"text-align:right;\"> 970000 </td>\n",
       "   <td style=\"text-align:left;\"> chr1 </td>\n",
       "   <td style=\"text-align:right;\"> 885000 </td>\n",
       "   <td style=\"text-align:right;\"> 970000 </td>\n",
       "   <td style=\"text-align:left;\"> . </td>\n",
       "   <td style=\"text-align:left;\"> . </td>\n",
       "   <td style=\"text-align:left;\"> . </td>\n",
       "   <td style=\"text-align:left;\"> . </td>\n",
       "   <td style=\"text-align:right;\"> 2552550 </td>\n",
       "   <td style=\"text-align:right;\"> 1.028202 </td>\n",
       "   <td style=\"text-align:right;\"> 0.0336287 </td>\n",
       "   <td style=\"text-align:right;\"> 0.0286237 </td>\n",
       "   <td style=\"text-align:right;\"> 0.6666667 </td>\n",
       "   <td style=\"text-align:right;\"> 0.6172840 </td>\n",
       "   <td style=\"text-align:left;\"> chr1:885000-970000 </td>\n",
       "   <td style=\"text-align:right;\"> 85000 </td>\n",
       "  </tr>\n",
       "  <tr>\n",
       "   <td style=\"text-align:left;\"> chr1 </td>\n",
       "   <td style=\"text-align:right;\"> 1110000 </td>\n",
       "   <td style=\"text-align:right;\"> 1260000 </td>\n",
       "   <td style=\"text-align:left;\"> chr1 </td>\n",
       "   <td style=\"text-align:right;\"> 1110000 </td>\n",
       "   <td style=\"text-align:right;\"> 1260000 </td>\n",
       "   <td style=\"text-align:left;\"> . </td>\n",
       "   <td style=\"text-align:left;\"> . </td>\n",
       "   <td style=\"text-align:left;\"> . </td>\n",
       "   <td style=\"text-align:left;\"> . </td>\n",
       "   <td style=\"text-align:right;\"> 2552550 </td>\n",
       "   <td style=\"text-align:right;\"> 1.425822 </td>\n",
       "   <td style=\"text-align:right;\"> 0.0661930 </td>\n",
       "   <td style=\"text-align:right;\"> 0.0741867 </td>\n",
       "   <td style=\"text-align:right;\"> 0.7375000 </td>\n",
       "   <td style=\"text-align:right;\"> 0.7625000 </td>\n",
       "   <td style=\"text-align:left;\"> chr1:1110000-1260000 </td>\n",
       "   <td style=\"text-align:right;\"> 150000 </td>\n",
       "  </tr>\n",
       "  <tr>\n",
       "   <td style=\"text-align:left;\"> chr1 </td>\n",
       "   <td style=\"text-align:right;\"> 1355000 </td>\n",
       "   <td style=\"text-align:right;\"> 1510000 </td>\n",
       "   <td style=\"text-align:left;\"> chr1 </td>\n",
       "   <td style=\"text-align:right;\"> 1355000 </td>\n",
       "   <td style=\"text-align:right;\"> 1510000 </td>\n",
       "   <td style=\"text-align:left;\"> . </td>\n",
       "   <td style=\"text-align:left;\"> . </td>\n",
       "   <td style=\"text-align:left;\"> . </td>\n",
       "   <td style=\"text-align:left;\"> . </td>\n",
       "   <td style=\"text-align:right;\"> 2552550 </td>\n",
       "   <td style=\"text-align:right;\"> 1.185474 </td>\n",
       "   <td style=\"text-align:right;\"> 0.0646989 </td>\n",
       "   <td style=\"text-align:right;\"> 0.0429828 </td>\n",
       "   <td style=\"text-align:right;\"> 0.6289062 </td>\n",
       "   <td style=\"text-align:right;\"> 0.6914062 </td>\n",
       "   <td style=\"text-align:left;\"> chr1:1355000-1510000 </td>\n",
       "   <td style=\"text-align:right;\"> 155000 </td>\n",
       "  </tr>\n",
       "  <tr>\n",
       "   <td style=\"text-align:left;\"> chr1 </td>\n",
       "   <td style=\"text-align:right;\"> 1780000 </td>\n",
       "   <td style=\"text-align:right;\"> 1905000 </td>\n",
       "   <td style=\"text-align:left;\"> chr1 </td>\n",
       "   <td style=\"text-align:right;\"> 1780000 </td>\n",
       "   <td style=\"text-align:right;\"> 1905000 </td>\n",
       "   <td style=\"text-align:left;\"> . </td>\n",
       "   <td style=\"text-align:left;\"> . </td>\n",
       "   <td style=\"text-align:left;\"> . </td>\n",
       "   <td style=\"text-align:left;\"> . </td>\n",
       "   <td style=\"text-align:right;\"> 2552550 </td>\n",
       "   <td style=\"text-align:right;\"> 1.472005 </td>\n",
       "   <td style=\"text-align:right;\"> 0.0469311 </td>\n",
       "   <td style=\"text-align:right;\"> 0.0441772 </td>\n",
       "   <td style=\"text-align:right;\"> 0.6863905 </td>\n",
       "   <td style=\"text-align:right;\"> 0.8402367 </td>\n",
       "   <td style=\"text-align:left;\"> chr1:1780000-1905000 </td>\n",
       "   <td style=\"text-align:right;\"> 125000 </td>\n",
       "  </tr>\n",
       "  <tr>\n",
       "   <td style=\"text-align:left;\"> chr1 </td>\n",
       "   <td style=\"text-align:right;\"> 1930000 </td>\n",
       "   <td style=\"text-align:right;\"> 2050000 </td>\n",
       "   <td style=\"text-align:left;\"> chr1 </td>\n",
       "   <td style=\"text-align:right;\"> 1930000 </td>\n",
       "   <td style=\"text-align:right;\"> 2050000 </td>\n",
       "   <td style=\"text-align:left;\"> . </td>\n",
       "   <td style=\"text-align:left;\"> . </td>\n",
       "   <td style=\"text-align:left;\"> . </td>\n",
       "   <td style=\"text-align:left;\"> . </td>\n",
       "   <td style=\"text-align:right;\"> 2552550 </td>\n",
       "   <td style=\"text-align:right;\"> 1.562276 </td>\n",
       "   <td style=\"text-align:right;\"> 0.0528844 </td>\n",
       "   <td style=\"text-align:right;\"> 0.0503216 </td>\n",
       "   <td style=\"text-align:right;\"> 0.8525641 </td>\n",
       "   <td style=\"text-align:right;\"> 0.7243590 </td>\n",
       "   <td style=\"text-align:left;\"> chr1:1930000-2050000 </td>\n",
       "   <td style=\"text-align:right;\"> 120000 </td>\n",
       "  </tr>\n",
       "  <tr>\n",
       "   <td style=\"text-align:left;\"> chr1 </td>\n",
       "   <td style=\"text-align:right;\"> 2175000 </td>\n",
       "   <td style=\"text-align:right;\"> 2385000 </td>\n",
       "   <td style=\"text-align:left;\"> chr1 </td>\n",
       "   <td style=\"text-align:right;\"> 2175000 </td>\n",
       "   <td style=\"text-align:right;\"> 2385000 </td>\n",
       "   <td style=\"text-align:left;\"> . </td>\n",
       "   <td style=\"text-align:left;\"> . </td>\n",
       "   <td style=\"text-align:left;\"> . </td>\n",
       "   <td style=\"text-align:left;\"> . </td>\n",
       "   <td style=\"text-align:right;\"> 2552550 </td>\n",
       "   <td style=\"text-align:right;\"> 1.476946 </td>\n",
       "   <td style=\"text-align:right;\"> 0.0973900 </td>\n",
       "   <td style=\"text-align:right;\"> 0.0948975 </td>\n",
       "   <td style=\"text-align:right;\"> 0.7445887 </td>\n",
       "   <td style=\"text-align:right;\"> 0.8506494 </td>\n",
       "   <td style=\"text-align:left;\"> chr1:2175000-2385000 </td>\n",
       "   <td style=\"text-align:right;\"> 210000 </td>\n",
       "  </tr>\n",
       "</tbody>\n",
       "</table>"
      ]
     },
     "metadata": {},
     "output_type": "display_data"
    }
   ],
   "source": [
    "### set file path\n",
    "txt_folder = TXT_FOLDER_REGION\n",
    "txt_fdiry  = file.path(FD_RES, \"region\", txt_folder, \"summary\")\n",
    "txt_fname = \"K562.hg38.hic_insitu.TAD.tsv\"\n",
    "txt_fpath = file.path(txt_fdiry, txt_fname)\n",
    "\n",
    "### read table\n",
    "dat = read_tsv(txt_fpath, show_col_types = FALSE)\n",
    "\n",
    "### assign and show\n",
    "dat_region_import = dat\n",
    "fun_display_table(head(dat))"
   ]
  },
  {
   "cell_type": "markdown",
   "id": "e51a73b9-d24d-430d-b52e-9766c1662479",
   "metadata": {},
   "source": [
    "## Explore data"
   ]
  },
  {
   "cell_type": "markdown",
   "id": "bcc8b348-1a48-4f6c-9aee-ee7d12b53a14",
   "metadata": {},
   "source": [
    "### TAD Size"
   ]
  },
  {
   "cell_type": "markdown",
   "id": "f8732105-7cc9-4339-a453-886bdced0bf2",
   "metadata": {},
   "source": [
    "**Summary**"
   ]
  },
  {
   "cell_type": "code",
   "execution_count": 16,
   "id": "443e324e-e7cd-4c8d-a434-0a232e5c148d",
   "metadata": {},
   "outputs": [
    {
     "data": {
      "text/plain": [
       "\n",
       "  60000   65000   70000   75000   80000   85000   90000   95000   1e+05  105000 \n",
       "     25      35     104     130     198     162     199     136     193     173 \n",
       " 110000  115000  120000  125000  130000  135000  140000  145000  150000  155000 \n",
       "    186     146     166     108     147     100     128     111     115     109 \n",
       " 160000  165000  170000  175000  180000  185000  190000  195000   2e+05  205000 \n",
       "     96      79      92      78      95      73      70      74      86      66 \n",
       " 210000  215000  220000  225000  230000  235000  240000  245000  250000  255000 \n",
       "     82      64      68      50      68      49      72      64      41      49 \n",
       " 260000  265000  270000  275000  280000  285000  290000  295000   3e+05  305000 \n",
       "     41      41      41      37      34      32      29      33      33      38 \n",
       " 310000  315000  320000  325000  330000  335000  340000  345000  350000  355000 \n",
       "     59      46      34      33      38      39      44      37      37      29 \n",
       " 360000  365000  370000  375000  380000  385000  390000  395000   4e+05  405000 \n",
       "     27      24      30      20      26      24      19      19      24      18 \n",
       " 410000  415000  420000  425000  430000  435000  440000  445000  450000  455000 \n",
       "     20      17      24      18      26      11      23      18      16      12 \n",
       " 460000  465000  470000  475000  480000  485000  490000  495000   5e+05  505000 \n",
       "     14      12      16       4      12      15      10       9       7      11 \n",
       " 510000  515000  520000  525000  530000  535000  540000  545000  550000  555000 \n",
       "     10       6       8      10       9       7       6       9       8       5 \n",
       " 560000  565000  570000  575000  580000  585000  590000  595000   6e+05  605000 \n",
       "     11       2       4       5       6       7       5       4       4       8 \n",
       " 610000  615000  620000  625000  630000  635000  640000  645000  650000  655000 \n",
       "      9       4       4       7       3       3       2       5       4       2 \n",
       " 665000  670000  675000  680000  685000  690000  695000   7e+05  705000  715000 \n",
       "      1       1       2       2       1       1       1       4       2       2 \n",
       " 720000  730000  735000  740000  745000  750000  755000  760000  765000  770000 \n",
       "      4       2       3       4       3       1       2       2       1       4 \n",
       " 775000  780000  785000  790000  795000   8e+05  810000  815000  825000  830000 \n",
       "      3       2       1       1       2       4       2       2       1       2 \n",
       " 835000  840000  845000  850000  865000  870000  885000  890000  895000   9e+05 \n",
       "      1       2       2       1       3       1       2       3       1       2 \n",
       " 905000  915000  925000  930000  935000  940000  945000  950000  960000  970000 \n",
       "      3       1       1       2       2       1       2       2       2       1 \n",
       " 990000  995000   1e+06 1010000 1030000 1035000 1040000 1045000 1070000 1085000 \n",
       "      3       2       1       1       1       1       1       2       2       1 \n",
       "1095000 1100000 1120000 1190000 1200000 1205000 1210000 1230000 1240000 1245000 \n",
       "      2       1       1       1       2       1       1       1       2       1 \n",
       "1290000 1295000 1305000 1310000 1315000 1320000 1365000 1390000 1405000 1410000 \n",
       "      1       1       1       1       1       1       1       1       1       1 \n",
       "1425000 1435000 1440000 1455000 1485000 1520000 1555000 1580000 1590000 1595000 \n",
       "      1       1       1       1       1       1       1       1       1       1 \n",
       "1620000 1635000 1650000 1700000 1765000 1895000 2015000 2020000 2140000 2165000 \n",
       "      1       1       2       1       1       1       1       1       1       1 \n",
       "2180000 \n",
       "      1 "
      ]
     },
     "metadata": {},
     "output_type": "display_data"
    }
   ],
   "source": [
    "dat = dat_region_import\n",
    "res = table(dat$Size)\n",
    "res"
   ]
  },
  {
   "cell_type": "markdown",
   "id": "aba8e9b6-a811-4e3e-828b-aa2283d9cb7d",
   "metadata": {},
   "source": [
    "**Plot distribution**"
   ]
  },
  {
   "cell_type": "code",
   "execution_count": 17,
   "id": "0cbc3cd7-06c0-41e6-9810-e1f73abdccbe",
   "metadata": {},
   "outputs": [
    {
     "data": {
      "image/png": "[encoded data removed]",
      "text/plain": [
       "plot without title"
      ]
     },
     "metadata": {
      "image/png": {
       "height": 300,
       "width": 420
      }
     },
     "output_type": "display_data"
    }
   ],
   "source": [
    "dat = dat_region_import\n",
    "\n",
    "gpt = ggplot(dat, aes(x=Size/1000)) +\n",
    "    geom_histogram(bins=100) +\n",
    "    theme_cowplot() +\n",
    "    background_grid() +\n",
    "    labs(x=\"Size (kb)\", y=\"Count\")\n",
    "\n",
    "options(repr.plot.height=5, repr.plot.width=7)\n",
    "print(gpt)"
   ]
  },
  {
   "cell_type": "markdown",
   "id": "dcbcc5c2-b1ee-4246-ae42-f2847c5c1f7d",
   "metadata": {},
   "source": [
    "### Domain Score"
   ]
  },
  {
   "cell_type": "markdown",
   "id": "6c4ec724-ad68-46c3-b09b-0176e0c0eee5",
   "metadata": {},
   "source": [
    "**Summary**"
   ]
  },
  {
   "cell_type": "code",
   "execution_count": 19,
   "id": "55a2f43f-d086-41d7-8240-9db66380ab64",
   "metadata": {},
   "outputs": [
    {
     "data": {
      "text/plain": [
       "   Min. 1st Qu.  Median    Mean 3rd Qu.    Max. \n",
       " 0.1577  1.0244  1.2081  1.2267  1.4190  1.9053 "
      ]
     },
     "metadata": {},
     "output_type": "display_data"
    }
   ],
   "source": [
    "dat = dat_region_import\n",
    "summary(dat$DomainScore)"
   ]
  },
  {
   "cell_type": "markdown",
   "id": "1e2f2bd7-e2d0-4b57-bd61-d2e3e9352c02",
   "metadata": {},
   "source": [
    "**Plot distribution**"
   ]
  },
  {
   "cell_type": "code",
   "execution_count": 23,
   "id": "ad516be3-a12a-48f6-8c3e-4769676a208e",
   "metadata": {},
   "outputs": [
    {
     "data": {
      "image/png": "[encoded data removed]",
      "text/plain": [
       "plot without title"
      ]
     },
     "metadata": {
      "image/png": {
       "height": 360,
       "width": 420
      }
     },
     "output_type": "display_data"
    }
   ],
   "source": [
    "dat = dat_region_import\n",
    "gpt = ggplot(dat, aes(x=DomainScore)) + \n",
    "    geom_histogram(bins=70) +\n",
    "    theme_cowplot() +\n",
    "    background_grid() +\n",
    "    labs(x=\"Score\", y = \"Count\", title = \"Hi-C domain score\")\n",
    "\n",
    "options(repr.plot.height=6, repr.plot.width=7)\n",
    "print(gpt)"
   ]
  },
  {
   "cell_type": "code",
   "execution_count": 25,
   "id": "33b07174-3cdd-4612-95a6-9f9661de9285",
   "metadata": {},
   "outputs": [
    {
     "data": {
      "image/png": "[encoded data removed]",
      "text/plain": [
       "plot without title"
      ]
     },
     "metadata": {
      "image/png": {
       "height": 360,
       "width": 420
      }
     },
     "output_type": "display_data"
    }
   ],
   "source": [
    "dat = dat_region_import\n",
    "gpt = ggplot(dat, aes(x=Size/1000, y=DomainScore)) + \n",
    "    geom_point() +\n",
    "    theme_cowplot() +\n",
    "    background_grid() +\n",
    "    labs(x=\"Size (kb)\", y = \"Domain Score\", title = \"Hi-C domain score vs size\")\n",
    "\n",
    "options(repr.plot.height=6, repr.plot.width=7)\n",
    "print(gpt)"
   ]
  },
  {
   "cell_type": "code",
   "execution_count": null,
   "id": "b98ba661-cec7-48e6-b855-cbe0fc501ca5",
   "metadata": {},
   "outputs": [],
   "source": []
  }
 ],
 "metadata": {
  "kernelspec": {
   "display_name": "R",
   "language": "R",
   "name": "ir"
  },
  "language_info": {
   "codemirror_mode": "r",
   "file_extension": ".r",
   "mimetype": "text/x-r-source",
   "name": "R",
   "pygments_lexer": "r",
   "version": "4.4.2"
  }
 },
 "nbformat": 4,
 "nbformat_minor": 5
}
