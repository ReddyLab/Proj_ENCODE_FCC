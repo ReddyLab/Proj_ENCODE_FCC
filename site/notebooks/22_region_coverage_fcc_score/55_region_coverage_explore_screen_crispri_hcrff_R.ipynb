{
 "cells": [
  {
   "cell_type": "raw",
   "id": "2b312cc1-4df5-40fc-a3f3-622d67b48755",
   "metadata": {},
   "source": [
    "---\n",
    "title: Region Coverage (FCC) 52\n",
    "subtitle: Screen regions in CRISPRi-HCRFF\n",
    "format:\n",
    "    html:\n",
    "        code-fold:  true\n",
    "        code-tools: true\n",
    "---"
   ]
  },
  {
   "cell_type": "markdown",
   "id": "d1eaec56-f75d-41d4-97c4-d64ea9c154b6",
   "metadata": {},
   "source": [
    "**Set environment**"
   ]
  },
  {
   "cell_type": "code",
   "execution_count": 1,
   "id": "b105be3b-bba9-4ff8-8b55-e4437b85a489",
   "metadata": {
    "tags": []
   },
   "outputs": [
    {
     "name": "stdout",
     "output_type": "stream",
     "text": [
      "You are working on        Singularity: singularity_proj_encode_fcc \n",
      "BASE DIRECTORY (FD_BASE): /data/reddylab/Kuei \n",
      "REPO DIRECTORY (FD_REPO): /data/reddylab/Kuei/repo \n",
      "WORK DIRECTORY (FD_WORK): /data/reddylab/Kuei/work \n",
      "DATA DIRECTORY (FD_DATA): /data/reddylab/Kuei/data \n",
      "\n",
      "You are working with      ENCODE FCC \n",
      "PATH OF PROJECT (FD_PRJ): /data/reddylab/Kuei/repo/Proj_ENCODE_FCC \n",
      "PROJECT RESULTS (FD_RES): /data/reddylab/Kuei/repo/Proj_ENCODE_FCC/results \n",
      "PROJECT SCRIPTS (FD_EXE): /data/reddylab/Kuei/repo/Proj_ENCODE_FCC/scripts \n",
      "PROJECT DATA    (FD_DAT): /data/reddylab/Kuei/repo/Proj_ENCODE_FCC/data \n",
      "PROJECT NOTE    (FD_NBK): /data/reddylab/Kuei/repo/Proj_ENCODE_FCC/notebooks \n",
      "PROJECT DOCS    (FD_DOC): /data/reddylab/Kuei/repo/Proj_ENCODE_FCC/docs \n",
      "PROJECT LOG     (FD_LOG): /data/reddylab/Kuei/repo/Proj_ENCODE_FCC/log \n",
      "PROJECT REF     (FD_REF): /data/reddylab/Kuei/repo/Proj_ENCODE_FCC/references \n",
      "\n"
     ]
    }
   ],
   "source": [
    "suppressMessages(suppressWarnings(source(\"../run_config_project_sing.R\")))\n",
    "library(pheatmap)\n",
    "show_env()"
   ]
  },
  {
   "cell_type": "markdown",
   "id": "764d3a92-b56f-4139-b2d5-d03478e401b3",
   "metadata": {},
   "source": [
    "**Check: region directory**"
   ]
  },
  {
   "cell_type": "code",
   "execution_count": 2,
   "id": "804c531e-5d29-4916-b626-da990b545f93",
   "metadata": {},
   "outputs": [
    {
     "name": "stdout",
     "output_type": "stream",
     "text": [
      "atac_ENCFF333TAT \n",
      "atac_ENCFF558BLC \n",
      "atac_ENCFF925CYR \n",
      "atac_ENCFF948AFM \n",
      "dnase_ENCFF185XRG \n",
      "dnase_ENCFF274YGF \n",
      "fcc_astarr_macs_input_overlap \n",
      "fcc_astarr_macs_input_union \n"
     ]
    }
   ],
   "source": [
    "txt_fdiry = file.path(FD_RES, \"region_coverage_fcc_score\")\n",
    "\n",
    "vec = dir(txt_fdiry)\n",
    "for (txt in vec){cat(txt, \"\\n\")}"
   ]
  },
  {
   "cell_type": "markdown",
   "id": "d55f9477-5263-4e82-bcc0-ce70bd641381",
   "metadata": {},
   "source": [
    "**Check: assay directory**"
   ]
  },
  {
   "cell_type": "code",
   "execution_count": 3,
   "id": "f8901265-49ea-4bac-80e5-4a21a1bbeb63",
   "metadata": {},
   "outputs": [
    {
     "name": "stdout",
     "output_type": "stream",
     "text": [
      "CRISPRi_FlowFISH_K562_Riley_JinWoo \n",
      "CRISPRi_Growth_K562_Gersbach_JinWoo \n",
      "MPRA_Lenti_K562_Nadav_Vikram \n",
      "MPRA_Tiling_K562_Tewhey_Hannah \n",
      "STARR_ATAC_K562_Reddy_KS274 \n",
      "STARR_ATAC_K562_Reddy_KS91 \n",
      "STARR_ATAC_K562_Reddy_KSMerge \n",
      "STARR_WHG_K562_Reddy_A001 \n",
      "summary \n"
     ]
    }
   ],
   "source": [
    "txt_folder = \"fcc_astarr_macs_input_union\"\n",
    "txt_fdiry  = file.path(FD_RES, \"region_coverage_fcc_score\", txt_folder)\n",
    "vec = dir(txt_fdiry)\n",
    "for (txt in vec) {cat(txt, \"\\n\")}"
   ]
  },
  {
   "cell_type": "markdown",
   "id": "ab6fb036-bc9f-4c33-b04b-e255722e20e6",
   "metadata": {},
   "source": [
    "## Prepare"
   ]
  },
  {
   "cell_type": "markdown",
   "id": "4262c179-f8a6-4eb8-90e5-bfa3b69bda80",
   "metadata": {},
   "source": [
    "**Set global variable**"
   ]
  },
  {
   "cell_type": "code",
   "execution_count": 4,
   "id": "e71cd13b-e232-4b1a-8754-31fcf9d00a6b",
   "metadata": {},
   "outputs": [
    {
     "name": "stdout",
     "output_type": "stream",
     "text": [
      "fcc_astarr_macs_input_overlap \n",
      "fcc_astarr_macs_input_union \n"
     ]
    }
   ],
   "source": [
    "vec = c(\n",
    "    \"fcc_astarr_macs_input_overlap\",\n",
    "    \"fcc_astarr_macs_input_union\"\n",
    ")\n",
    "names(vec) = vec\n",
    "\n",
    "VEC_TXT_FOLDER = vec\n",
    "for(txt in vec){cat(txt, \"\\n\")}"
   ]
  },
  {
   "cell_type": "code",
   "execution_count": 5,
   "id": "9206c836-277d-4f36-91ca-5df9aa7ca787",
   "metadata": {},
   "outputs": [],
   "source": [
    "TXT_ASSAY = \"CRISPRi_FlowFISH_K562_Riley_JinWoo\""
   ]
  },
  {
   "cell_type": "markdown",
   "id": "9e91cd45-a1a3-4778-8851-5c0feab36b88",
   "metadata": {},
   "source": [
    "**View files**"
   ]
  },
  {
   "cell_type": "code",
   "execution_count": 6,
   "id": "62c3ad6f-d224-42cb-bd96-0d6a726db41b",
   "metadata": {},
   "outputs": [
    {
     "name": "stdout",
     "output_type": "stream",
     "text": [
      "region.coverage.score.filtered.merge.tsv \n",
      "region.coverage.score.filtered.target.tsv \n",
      "region.coverage.score.total.merge.tsv \n",
      "region.coverage.score.total.target.tsv \n"
     ]
    }
   ],
   "source": [
    "txt_assay  = TXT_ASSAY\n",
    "txt_folder = VEC_TXT_FOLDER[1]\n",
    "txt_fdiry  = file.path(FD_RES, \"region_coverage_fcc_score\", txt_folder, txt_assay, \"summary\")\n",
    "\n",
    "vec = dir(txt_fdiry)\n",
    "for (txt in vec) {cat(txt, \"\\n\")}"
   ]
  },
  {
   "cell_type": "code",
   "execution_count": 7,
   "id": "9c886875-b5be-4c6a-a7bd-b8cc82fb34fc",
   "metadata": {},
   "outputs": [
    {
     "name": "stdout",
     "output_type": "stream",
     "text": [
      "region.coverage.score.filtered.merge.tsv \n",
      "region.coverage.score.filtered.target.tsv \n",
      "region.coverage.score.total.merge.tsv \n",
      "region.coverage.score.total.target.tsv \n"
     ]
    }
   ],
   "source": [
    "txt_assay  = TXT_ASSAY\n",
    "txt_folder = VEC_TXT_FOLDER[2]\n",
    "txt_fdiry  = file.path(FD_RES, \"region_coverage_fcc_score\", txt_folder, txt_assay, \"summary\")\n",
    "\n",
    "vec = dir(txt_fdiry)\n",
    "for (txt in vec) {cat(txt, \"\\n\")}"
   ]
  },
  {
   "cell_type": "markdown",
   "id": "fe3a532e-5437-4083-a213-2728894119e0",
   "metadata": {},
   "source": [
    "## Import data"
   ]
  },
  {
   "cell_type": "code",
   "execution_count": 8,
   "id": "528b79b9-0945-4b2b-8065-cc98e54189dc",
   "metadata": {},
   "outputs": [
    {
     "name": "stdout",
     "output_type": "stream",
     "text": [
      "$fcc_astarr_macs_input_overlap\n",
      "[1] 2423   12\n",
      "\n",
      "$fcc_astarr_macs_input_union\n",
      "[1] 3279   12\n",
      "\n"
     ]
    },
    {
     "data": {
      "text/html": [
       "<table class=\"dataframe\">\n",
       "<caption>A tibble: 3 × 12</caption>\n",
       "<thead>\n",
       "\t<tr><th scope=col>Chrom</th><th scope=col>ChromStart</th><th scope=col>ChromEnd</th><th scope=col>Region</th><th scope=col>Target</th><th scope=col>Mean</th><th scope=col>Median</th><th scope=col>Max</th><th scope=col>Min</th><th scope=col>Count</th><th scope=col>Mean_Neg</th><th scope=col>Mean_Pos</th></tr>\n",
       "\t<tr><th scope=col>&lt;chr&gt;</th><th scope=col>&lt;dbl&gt;</th><th scope=col>&lt;dbl&gt;</th><th scope=col>&lt;chr&gt;</th><th scope=col>&lt;chr&gt;</th><th scope=col>&lt;dbl&gt;</th><th scope=col>&lt;dbl&gt;</th><th scope=col>&lt;dbl&gt;</th><th scope=col>&lt;dbl&gt;</th><th scope=col>&lt;dbl&gt;</th><th scope=col>&lt;dbl&gt;</th><th scope=col>&lt;dbl&gt;</th></tr>\n",
       "</thead>\n",
       "<tbody>\n",
       "\t<tr><td>chr10</td><td>100729094</td><td>100729750</td><td>chr10:100729094-100729750</td><td>CAPRIN1</td><td>-0.02934075</td><td>-0.1296840</td><td>1.171000</td><td>-1.31977</td><td>12</td><td>-0.4562667</td><td>0.5683556</td></tr>\n",
       "\t<tr><td>chr10</td><td>100729094</td><td>100729750</td><td>chr10:100729094-100729750</td><td>CAT    </td><td>-0.02320808</td><td> 0.0774425</td><td>0.779572</td><td>-1.65834</td><td>12</td><td>-0.5630978</td><td>0.5166817</td></tr>\n",
       "\t<tr><td>chr10</td><td>100729094</td><td>100729750</td><td>chr10:100729094-100729750</td><td>CD164  </td><td>-0.36934383</td><td>-0.2029890</td><td>0.339051</td><td>-1.82683</td><td>12</td><td>-0.6372178</td><td>0.1664040</td></tr>\n",
       "</tbody>\n",
       "</table>\n"
      ],
      "text/latex": [
       "A tibble: 3 × 12\n",
       "\\begin{tabular}{llllllllllll}\n",
       " Chrom & ChromStart & ChromEnd & Region & Target & Mean & Median & Max & Min & Count & Mean\\_Neg & Mean\\_Pos\\\\\n",
       " <chr> & <dbl> & <dbl> & <chr> & <chr> & <dbl> & <dbl> & <dbl> & <dbl> & <dbl> & <dbl> & <dbl>\\\\\n",
       "\\hline\n",
       "\t chr10 & 100729094 & 100729750 & chr10:100729094-100729750 & CAPRIN1 & -0.02934075 & -0.1296840 & 1.171000 & -1.31977 & 12 & -0.4562667 & 0.5683556\\\\\n",
       "\t chr10 & 100729094 & 100729750 & chr10:100729094-100729750 & CAT     & -0.02320808 &  0.0774425 & 0.779572 & -1.65834 & 12 & -0.5630978 & 0.5166817\\\\\n",
       "\t chr10 & 100729094 & 100729750 & chr10:100729094-100729750 & CD164   & -0.36934383 & -0.2029890 & 0.339051 & -1.82683 & 12 & -0.6372178 & 0.1664040\\\\\n",
       "\\end{tabular}\n"
      ],
      "text/markdown": [
       "\n",
       "A tibble: 3 × 12\n",
       "\n",
       "| Chrom &lt;chr&gt; | ChromStart &lt;dbl&gt; | ChromEnd &lt;dbl&gt; | Region &lt;chr&gt; | Target &lt;chr&gt; | Mean &lt;dbl&gt; | Median &lt;dbl&gt; | Max &lt;dbl&gt; | Min &lt;dbl&gt; | Count &lt;dbl&gt; | Mean_Neg &lt;dbl&gt; | Mean_Pos &lt;dbl&gt; |\n",
       "|---|---|---|---|---|---|---|---|---|---|---|---|\n",
       "| chr10 | 100729094 | 100729750 | chr10:100729094-100729750 | CAPRIN1 | -0.02934075 | -0.1296840 | 1.171000 | -1.31977 | 12 | -0.4562667 | 0.5683556 |\n",
       "| chr10 | 100729094 | 100729750 | chr10:100729094-100729750 | CAT     | -0.02320808 |  0.0774425 | 0.779572 | -1.65834 | 12 | -0.5630978 | 0.5166817 |\n",
       "| chr10 | 100729094 | 100729750 | chr10:100729094-100729750 | CD164   | -0.36934383 | -0.2029890 | 0.339051 | -1.82683 | 12 | -0.6372178 | 0.1664040 |\n",
       "\n"
      ],
      "text/plain": [
       "  Chrom ChromStart ChromEnd  Region                    Target  Mean       \n",
       "1 chr10 100729094  100729750 chr10:100729094-100729750 CAPRIN1 -0.02934075\n",
       "2 chr10 100729094  100729750 chr10:100729094-100729750 CAT     -0.02320808\n",
       "3 chr10 100729094  100729750 chr10:100729094-100729750 CD164   -0.36934383\n",
       "  Median     Max      Min      Count Mean_Neg   Mean_Pos \n",
       "1 -0.1296840 1.171000 -1.31977 12    -0.4562667 0.5683556\n",
       "2  0.0774425 0.779572 -1.65834 12    -0.5630978 0.5166817\n",
       "3 -0.2029890 0.339051 -1.82683 12    -0.6372178 0.1664040"
      ]
     },
     "metadata": {},
     "output_type": "display_data"
    }
   ],
   "source": [
    "### loop region folder and read table\n",
    "lst = lapply(VEC_TXT_FOLDER, function(txt_folder){\n",
    "    ### set file directory\n",
    "    txt_assay = TXT_ASSAY\n",
    "    txt_fdiry = file.path(FD_RES, \"region_coverage_fcc_score\", txt_folder, txt_assay, \"summary\")\n",
    "    txt_fname = \"region.coverage.score.total.target.tsv\"\n",
    "    txt_fpath = file.path(txt_fdiry, txt_fname)\n",
    "\n",
    "    ### read table\n",
    "    dat = read_tsv(txt_fpath, show_col_types = FALSE)\n",
    "    return(dat)\n",
    "})\n",
    "\n",
    "### assign and show\n",
    "lst_dat_region_score_total_import = lst\n",
    "\n",
    "res = lapply(lst, dim)\n",
    "print(res)\n",
    "\n",
    "dat = lst[[1]]\n",
    "head(dat, 3)"
   ]
  },
  {
   "cell_type": "code",
   "execution_count": 9,
   "id": "1b1171bf-108e-44b1-8015-67f8e7698bb9",
   "metadata": {},
   "outputs": [
    {
     "name": "stdout",
     "output_type": "stream",
     "text": [
      "$fcc_astarr_macs_input_overlap\n",
      "[1] 2304   12\n",
      "\n",
      "$fcc_astarr_macs_input_union\n",
      "[1] 3084   12\n",
      "\n"
     ]
    },
    {
     "data": {
      "text/html": [
       "<table class=\"dataframe\">\n",
       "<caption>A tibble: 3 × 12</caption>\n",
       "<thead>\n",
       "\t<tr><th scope=col>Chrom</th><th scope=col>ChromStart</th><th scope=col>ChromEnd</th><th scope=col>Region</th><th scope=col>Target</th><th scope=col>Mean</th><th scope=col>Median</th><th scope=col>Max</th><th scope=col>Min</th><th scope=col>Count</th><th scope=col>Mean_Neg</th><th scope=col>Mean_Pos</th></tr>\n",
       "\t<tr><th scope=col>&lt;chr&gt;</th><th scope=col>&lt;dbl&gt;</th><th scope=col>&lt;dbl&gt;</th><th scope=col>&lt;chr&gt;</th><th scope=col>&lt;chr&gt;</th><th scope=col>&lt;dbl&gt;</th><th scope=col>&lt;dbl&gt;</th><th scope=col>&lt;dbl&gt;</th><th scope=col>&lt;dbl&gt;</th><th scope=col>&lt;dbl&gt;</th><th scope=col>&lt;dbl&gt;</th><th scope=col>&lt;dbl&gt;</th></tr>\n",
       "</thead>\n",
       "<tbody>\n",
       "\t<tr><td>chr11</td><td>4092109</td><td>4092511</td><td>chr11:4092109-4092511</td><td>HBE1</td><td>-0.1137124</td><td>-0.1415565</td><td>1.21353</td><td>-2.05570</td><td>64</td><td>-0.5895217</td><td>0.5817010</td></tr>\n",
       "\t<tr><td>chr11</td><td>4092109</td><td>4092511</td><td>chr11:4092109-4092511</td><td>HBG1</td><td>-0.1517430</td><td>-0.1508580</td><td>1.47841</td><td>-1.53233</td><td>64</td><td>-0.5163575</td><td>0.4982220</td></tr>\n",
       "\t<tr><td>chr11</td><td>4092109</td><td>4092511</td><td>chr11:4092109-4092511</td><td>HBG2</td><td>-0.2425928</td><td>-0.2483860</td><td>0.72989</td><td>-1.95678</td><td>64</td><td>-0.4951560</td><td>0.3130464</td></tr>\n",
       "</tbody>\n",
       "</table>\n"
      ],
      "text/latex": [
       "A tibble: 3 × 12\n",
       "\\begin{tabular}{llllllllllll}\n",
       " Chrom & ChromStart & ChromEnd & Region & Target & Mean & Median & Max & Min & Count & Mean\\_Neg & Mean\\_Pos\\\\\n",
       " <chr> & <dbl> & <dbl> & <chr> & <chr> & <dbl> & <dbl> & <dbl> & <dbl> & <dbl> & <dbl> & <dbl>\\\\\n",
       "\\hline\n",
       "\t chr11 & 4092109 & 4092511 & chr11:4092109-4092511 & HBE1 & -0.1137124 & -0.1415565 & 1.21353 & -2.05570 & 64 & -0.5895217 & 0.5817010\\\\\n",
       "\t chr11 & 4092109 & 4092511 & chr11:4092109-4092511 & HBG1 & -0.1517430 & -0.1508580 & 1.47841 & -1.53233 & 64 & -0.5163575 & 0.4982220\\\\\n",
       "\t chr11 & 4092109 & 4092511 & chr11:4092109-4092511 & HBG2 & -0.2425928 & -0.2483860 & 0.72989 & -1.95678 & 64 & -0.4951560 & 0.3130464\\\\\n",
       "\\end{tabular}\n"
      ],
      "text/markdown": [
       "\n",
       "A tibble: 3 × 12\n",
       "\n",
       "| Chrom &lt;chr&gt; | ChromStart &lt;dbl&gt; | ChromEnd &lt;dbl&gt; | Region &lt;chr&gt; | Target &lt;chr&gt; | Mean &lt;dbl&gt; | Median &lt;dbl&gt; | Max &lt;dbl&gt; | Min &lt;dbl&gt; | Count &lt;dbl&gt; | Mean_Neg &lt;dbl&gt; | Mean_Pos &lt;dbl&gt; |\n",
       "|---|---|---|---|---|---|---|---|---|---|---|---|\n",
       "| chr11 | 4092109 | 4092511 | chr11:4092109-4092511 | HBE1 | -0.1137124 | -0.1415565 | 1.21353 | -2.05570 | 64 | -0.5895217 | 0.5817010 |\n",
       "| chr11 | 4092109 | 4092511 | chr11:4092109-4092511 | HBG1 | -0.1517430 | -0.1508580 | 1.47841 | -1.53233 | 64 | -0.5163575 | 0.4982220 |\n",
       "| chr11 | 4092109 | 4092511 | chr11:4092109-4092511 | HBG2 | -0.2425928 | -0.2483860 | 0.72989 | -1.95678 | 64 | -0.4951560 | 0.3130464 |\n",
       "\n"
      ],
      "text/plain": [
       "  Chrom ChromStart ChromEnd Region                Target Mean       Median    \n",
       "1 chr11 4092109    4092511  chr11:4092109-4092511 HBE1   -0.1137124 -0.1415565\n",
       "2 chr11 4092109    4092511  chr11:4092109-4092511 HBG1   -0.1517430 -0.1508580\n",
       "3 chr11 4092109    4092511  chr11:4092109-4092511 HBG2   -0.2425928 -0.2483860\n",
       "  Max     Min      Count Mean_Neg   Mean_Pos \n",
       "1 1.21353 -2.05570 64    -0.5895217 0.5817010\n",
       "2 1.47841 -1.53233 64    -0.5163575 0.4982220\n",
       "3 0.72989 -1.95678 64    -0.4951560 0.3130464"
      ]
     },
     "metadata": {},
     "output_type": "display_data"
    }
   ],
   "source": [
    "### loop region folder and read table\n",
    "lst = lapply(VEC_TXT_FOLDER, function(txt_folder){\n",
    "    ### set file directory\n",
    "    txt_assay = TXT_ASSAY\n",
    "    txt_fdiry = file.path(FD_RES, \"region_coverage_fcc_score\", txt_folder, txt_assay, \"summary\")\n",
    "    txt_fname = \"region.coverage.score.filtered.target.tsv\"\n",
    "    txt_fpath = file.path(txt_fdiry, txt_fname)\n",
    "\n",
    "    ### read table\n",
    "    dat = read_tsv(txt_fpath, show_col_types = FALSE)\n",
    "    return(dat)\n",
    "})\n",
    "\n",
    "### assign and show\n",
    "lst_dat_region_score_filter_import = lst\n",
    "\n",
    "res = lapply(lst, dim)\n",
    "print(res)\n",
    "\n",
    "dat = lst[[1]]\n",
    "head(dat, 3)"
   ]
  },
  {
   "cell_type": "markdown",
   "id": "c2381fbd-56f8-498b-ac59-5fae0f4d2837",
   "metadata": {},
   "source": [
    "## Arrange table"
   ]
  },
  {
   "cell_type": "code",
   "execution_count": 10,
   "id": "9395a1fe-1c1d-49c0-a36d-ea6eb0c2d43b",
   "metadata": {},
   "outputs": [
    {
     "name": "stdout",
     "output_type": "stream",
     "text": [
      "$Total\n",
      "[1] 3279   12\n",
      "\n",
      "$Filtered\n",
      "[1] 3084   12\n",
      "\n"
     ]
    },
    {
     "data": {
      "text/html": [
       "<table class=\"dataframe\">\n",
       "<caption>A tibble: 3 × 12</caption>\n",
       "<thead>\n",
       "\t<tr><th scope=col>Chrom</th><th scope=col>ChromStart</th><th scope=col>ChromEnd</th><th scope=col>Region</th><th scope=col>Target</th><th scope=col>Mean</th><th scope=col>Median</th><th scope=col>Max</th><th scope=col>Min</th><th scope=col>Count</th><th scope=col>Mean_Neg</th><th scope=col>Mean_Pos</th></tr>\n",
       "\t<tr><th scope=col>&lt;chr&gt;</th><th scope=col>&lt;dbl&gt;</th><th scope=col>&lt;dbl&gt;</th><th scope=col>&lt;chr&gt;</th><th scope=col>&lt;chr&gt;</th><th scope=col>&lt;dbl&gt;</th><th scope=col>&lt;dbl&gt;</th><th scope=col>&lt;dbl&gt;</th><th scope=col>&lt;dbl&gt;</th><th scope=col>&lt;dbl&gt;</th><th scope=col>&lt;dbl&gt;</th><th scope=col>&lt;dbl&gt;</th></tr>\n",
       "</thead>\n",
       "<tbody>\n",
       "\t<tr><td>chr10</td><td>100729027</td><td>100729908</td><td>chr10:100729027-100729908</td><td>CAPRIN1</td><td>-0.04143173</td><td>-0.078714</td><td>1.171000</td><td>-1.31977</td><td>15</td><td>-0.3920096</td><td>0.4844350</td></tr>\n",
       "\t<tr><td>chr10</td><td>100729027</td><td>100729908</td><td>chr10:100729027-100729908</td><td>CAT    </td><td>-0.22290540</td><td>-0.259811</td><td>0.779572</td><td>-1.65834</td><td>15</td><td>-0.7159634</td><td>0.5166817</td></tr>\n",
       "\t<tr><td>chr10</td><td>100729027</td><td>100729908</td><td>chr10:100729027-100729908</td><td>CD164  </td><td>-0.38158980</td><td>-0.246545</td><td>0.656850</td><td>-1.82683</td><td>15</td><td>-0.7046313</td><td>0.2644932</td></tr>\n",
       "</tbody>\n",
       "</table>\n"
      ],
      "text/latex": [
       "A tibble: 3 × 12\n",
       "\\begin{tabular}{llllllllllll}\n",
       " Chrom & ChromStart & ChromEnd & Region & Target & Mean & Median & Max & Min & Count & Mean\\_Neg & Mean\\_Pos\\\\\n",
       " <chr> & <dbl> & <dbl> & <chr> & <chr> & <dbl> & <dbl> & <dbl> & <dbl> & <dbl> & <dbl> & <dbl>\\\\\n",
       "\\hline\n",
       "\t chr10 & 100729027 & 100729908 & chr10:100729027-100729908 & CAPRIN1 & -0.04143173 & -0.078714 & 1.171000 & -1.31977 & 15 & -0.3920096 & 0.4844350\\\\\n",
       "\t chr10 & 100729027 & 100729908 & chr10:100729027-100729908 & CAT     & -0.22290540 & -0.259811 & 0.779572 & -1.65834 & 15 & -0.7159634 & 0.5166817\\\\\n",
       "\t chr10 & 100729027 & 100729908 & chr10:100729027-100729908 & CD164   & -0.38158980 & -0.246545 & 0.656850 & -1.82683 & 15 & -0.7046313 & 0.2644932\\\\\n",
       "\\end{tabular}\n"
      ],
      "text/markdown": [
       "\n",
       "A tibble: 3 × 12\n",
       "\n",
       "| Chrom &lt;chr&gt; | ChromStart &lt;dbl&gt; | ChromEnd &lt;dbl&gt; | Region &lt;chr&gt; | Target &lt;chr&gt; | Mean &lt;dbl&gt; | Median &lt;dbl&gt; | Max &lt;dbl&gt; | Min &lt;dbl&gt; | Count &lt;dbl&gt; | Mean_Neg &lt;dbl&gt; | Mean_Pos &lt;dbl&gt; |\n",
       "|---|---|---|---|---|---|---|---|---|---|---|---|\n",
       "| chr10 | 100729027 | 100729908 | chr10:100729027-100729908 | CAPRIN1 | -0.04143173 | -0.078714 | 1.171000 | -1.31977 | 15 | -0.3920096 | 0.4844350 |\n",
       "| chr10 | 100729027 | 100729908 | chr10:100729027-100729908 | CAT     | -0.22290540 | -0.259811 | 0.779572 | -1.65834 | 15 | -0.7159634 | 0.5166817 |\n",
       "| chr10 | 100729027 | 100729908 | chr10:100729027-100729908 | CD164   | -0.38158980 | -0.246545 | 0.656850 | -1.82683 | 15 | -0.7046313 | 0.2644932 |\n",
       "\n"
      ],
      "text/plain": [
       "  Chrom ChromStart ChromEnd  Region                    Target  Mean       \n",
       "1 chr10 100729027  100729908 chr10:100729027-100729908 CAPRIN1 -0.04143173\n",
       "2 chr10 100729027  100729908 chr10:100729027-100729908 CAT     -0.22290540\n",
       "3 chr10 100729027  100729908 chr10:100729027-100729908 CD164   -0.38158980\n",
       "  Median    Max      Min      Count Mean_Neg   Mean_Pos \n",
       "1 -0.078714 1.171000 -1.31977 15    -0.3920096 0.4844350\n",
       "2 -0.259811 0.779572 -1.65834 15    -0.7159634 0.5166817\n",
       "3 -0.246545 0.656850 -1.82683 15    -0.7046313 0.2644932"
      ]
     },
     "metadata": {},
     "output_type": "display_data"
    }
   ],
   "source": [
    "idx = \"fcc_astarr_macs_input_union\"\n",
    "lst = list(\n",
    "    \"Total\"    = lst_dat_region_score_total_import[[idx]],\n",
    "    \"Filtered\" = lst_dat_region_score_filter_import[[idx]]\n",
    ")\n",
    "\n",
    "### assign and show\n",
    "lst_dat_region_score_arrange = lst\n",
    "\n",
    "res = lapply(lst, dim)\n",
    "print(res)\n",
    "\n",
    "dat = lst[[1]]\n",
    "head(dat, 3)"
   ]
  },
  {
   "cell_type": "markdown",
   "id": "ebee2f9b-71ad-4aa1-b753-e35c03b23f62",
   "metadata": {},
   "source": [
    "**Check: count regions**"
   ]
  },
  {
   "cell_type": "code",
   "execution_count": 11,
   "id": "a31ab1e5-3ea4-4d1d-8801-1de2c1942e07",
   "metadata": {},
   "outputs": [
    {
     "data": {
      "text/html": [
       "<dl>\n",
       "\t<dt>$Total</dt>\n",
       "\t\t<dd>1358</dd>\n",
       "\t<dt>$Filtered</dt>\n",
       "\t\t<dd>1330</dd>\n",
       "</dl>\n"
      ],
      "text/latex": [
       "\\begin{description}\n",
       "\\item[\\$Total] 1358\n",
       "\\item[\\$Filtered] 1330\n",
       "\\end{description}\n"
      ],
      "text/markdown": [
       "$Total\n",
       ":   1358\n",
       "$Filtered\n",
       ":   1330\n",
       "\n",
       "\n"
      ],
      "text/plain": [
       "$Total\n",
       "[1] 1358\n",
       "\n",
       "$Filtered\n",
       "[1] 1330\n"
      ]
     },
     "metadata": {},
     "output_type": "display_data"
    }
   ],
   "source": [
    "lst = lst_dat_region_score_arrange\n",
    "lst = lapply(lst, function(dat){\n",
    "    vec = unique(dat$Region)\n",
    "    return(length(vec))\n",
    "})\n",
    "lst"
   ]
  },
  {
   "cell_type": "markdown",
   "id": "d574c425-4fa7-4163-a90a-0c2184db4016",
   "metadata": {},
   "source": [
    "## Prepare table for heatmap plot"
   ]
  },
  {
   "cell_type": "code",
   "execution_count": 12,
   "id": "9b31699d-e0bf-40cb-a5ce-385b4f856ab4",
   "metadata": {},
   "outputs": [],
   "source": [
    "vec_txt_gene = c(\n",
    "    \"NMU\",\n",
    "    \"MEF2C\",\n",
    "    \"CD164\",\n",
    "    \"MYB\", \"HBS1L\", \"HBG1\", \"HBG2\", \"HBE1\",\n",
    "    \"PVT1\", \"MYC\",\n",
    "    \"LMO2\", \"CAPRIN1\", \"CAT\",\n",
    "    \"FADS1\", \"FADS2\", \"FADS3\", \"FEN1\",\n",
    "    \"ERP29\",\n",
    "    \"GATA1\", \"HDAC6\"\n",
    ")\n",
    "\n",
    "vec_txt_chrom = paste0(\"chr\", c(1:22, \"X\", \"Y\"))"
   ]
  },
  {
   "cell_type": "code",
   "execution_count": 13,
   "id": "8f4a694f-4d5f-44a4-b2b7-340ed90f34b9",
   "metadata": {},
   "outputs": [],
   "source": [
    "lst = lst_dat_region_score_arrange\n",
    "lol = lapply(lst, function(dat){\n",
    "    ### get score and target column; long -> wide\n",
    "    dat = dat %>% \n",
    "        dplyr::select(Chrom:Region, Target, Mean) %>%\n",
    "        tidyr::spread(Target, Mean) %>%\n",
    "        dplyr::select(Chrom:Region, all_of(vec_txt_gene))\n",
    "    \n",
    "    ### arrange regions (rows)\n",
    "    dat = dat %>% \n",
    "        dplyr::mutate(Chrom = factor(Chrom, levels=vec_txt_chrom)) %>%\n",
    "        dplyr::arrange(Chrom, ChromStart, ChromEnd)\n",
    "                      \n",
    "    ### split into score matrix and annotatoin\n",
    "    dat_region_annot = dat %>% \n",
    "        dplyr::select(Region, Chrom) %>% \n",
    "        column_to_rownames(var = \"Region\")\n",
    "    dat_region_score = dat %>% \n",
    "        dplyr::select(-Chrom, -ChromStart, -ChromEnd) %>% \n",
    "        column_to_rownames(var = \"Region\")\n",
    "\n",
    "    ### combine the results\n",
    "    lst = list(\n",
    "        \"Score\" = dat_region_score,\n",
    "        \"Annot\" = dat_region_annot\n",
    "    )\n",
    "    return(lst)\n",
    "})\n",
    "\n",
    "### assign and show\n",
    "lol_dat_region_score_result = lol"
   ]
  },
  {
   "cell_type": "markdown",
   "id": "271c415b-99a1-4aa9-b71f-4fbf7ac3a7b6",
   "metadata": {},
   "source": [
    "## Explore: Screened regions of CRISPRi-HCRFF"
   ]
  },
  {
   "cell_type": "code",
   "execution_count": 14,
   "id": "313ec640-6e89-4188-b901-1b0715868233",
   "metadata": {},
   "outputs": [],
   "source": [
    "### set range\n",
    "paletteLength = 50\n",
    "#mat  = dat_score\n",
    "bmin = -2.5\n",
    "bmax =  6\n",
    "xmin = -2 # min(mat)\n",
    "xmax =  2 # max(mat)\n",
    "nmin = ceiling((paletteLength-1)/2)\n",
    "nmax = floor(  (paletteLength-1)/2)\n",
    "\n",
    "### set color\n",
    "myColor = c(\n",
    "    \"blue\",\n",
    "    colorRampPalette(c(\"blue\", \"white\"))(nmin),\n",
    "    \"white\",\n",
    "    colorRampPalette(c(\"white\", \"red\"))(nmax),\n",
    "    \"red\"\n",
    ")\n",
    "\n",
    "### set breaks\n",
    "myBreaks = c(\n",
    "    bmin,\n",
    "    seq(xmin, xmin/paletteLength, length.out=nmin),\n",
    "    0,\n",
    "    seq(xmax/paletteLength, xmax, length.out=nmax),\n",
    "    bmax\n",
    ")"
   ]
  },
  {
   "cell_type": "code",
   "execution_count": 18,
   "id": "8ee9f755-534b-4593-abf7-7e6fa770f7fa",
   "metadata": {},
   "outputs": [
    {
     "data": {
      "image/png": "[encoded data removed]",
      "text/plain": [
       "plot without title"
      ]
     },
     "metadata": {
      "image/png": {
       "height": 600,
       "width": 480
      }
     },
     "output_type": "display_data"
    }
   ],
   "source": [
    "options(repr.plot.height=10, repr.plot.width=8)\n",
    "idx = \"Total\"\n",
    "lol = lol_dat_region_score_result \n",
    "lst = lol[[idx]]\n",
    "\n",
    "dat_region_score = lst[[\"Score\"]]\n",
    "dat_region_annot = lst[[\"Annot\"]]\n",
    "\n",
    "### generate plots\n",
    "plt = pheatmap(\n",
    "    dat_region_score,\n",
    "    cluster_row  = FALSE,\n",
    "    cluster_cols = FALSE,\n",
    "    show_rownames = FALSE,\n",
    "    annotation_names_row = FALSE,\n",
    "    annotation_row = dat_region_annot,\n",
    "    color=myColor, \n",
    "    breaks=myBreaks\n",
    ")\n",
    "\n",
    "### assign and show\n",
    "plt_heatmap_crispri_hcrff_total = plt\n",
    "options(repr.plot.height=10, repr.plot.width=8)\n",
    "print(plt)"
   ]
  },
  {
   "cell_type": "code",
   "execution_count": 19,
   "id": "c7b27949-4f71-4668-a6bd-66e934ad4842",
   "metadata": {},
   "outputs": [
    {
     "data": {
      "image/png": "[encoded data removed]",
      "text/plain": [
       "plot without title"
      ]
     },
     "metadata": {
      "image/png": {
       "height": 600,
       "width": 480
      }
     },
     "output_type": "display_data"
    }
   ],
   "source": [
    "### get tables\n",
    "idx = \"Filtered\"\n",
    "lol = lol_dat_region_score_result \n",
    "lst = lol[[idx]]\n",
    "\n",
    "dat_region_score = lst[[\"Score\"]]\n",
    "dat_region_annot = lst[[\"Annot\"]]\n",
    "\n",
    "### generate plots\n",
    "plt = pheatmap(\n",
    "    dat_region_score,\n",
    "    cluster_row  = FALSE,\n",
    "    cluster_cols = FALSE,\n",
    "    show_rownames = FALSE,\n",
    "    annotation_names_row = FALSE,\n",
    "    annotation_row = dat_region_annot,\n",
    "    color=myColor, \n",
    "    breaks=myBreaks\n",
    ")\n",
    "\n",
    "### assign and show\n",
    "plt_heatmap_crispri_hcrff_filtered = plt\n",
    "options(repr.plot.height=10, repr.plot.width=8)\n",
    "print(plt)"
   ]
  },
  {
   "cell_type": "markdown",
   "id": "20705e3b-0295-4461-8928-d10c335c831d",
   "metadata": {},
   "source": [
    "## Save plots"
   ]
  },
  {
   "cell_type": "code",
   "execution_count": 20,
   "id": "d9b96c29-02cf-415a-88fe-ca1374eb513d",
   "metadata": {},
   "outputs": [
    {
     "data": {
      "text/html": [
       "<strong>agg_record_1128376232:</strong> 2"
      ],
      "text/latex": [
       "\\textbf{agg\\textbackslash{}\\_record\\textbackslash{}\\_1128376232:} 2"
      ],
      "text/markdown": [
       "**agg_record_1128376232:** 2"
      ],
      "text/plain": [
       "agg_record_1128376232 \n",
       "                    2 "
      ]
     },
     "metadata": {},
     "output_type": "display_data"
    },
    {
     "data": {
      "text/html": [
       "<strong>agg_record_1128376232:</strong> 2"
      ],
      "text/latex": [
       "\\textbf{agg\\textbackslash{}\\_record\\textbackslash{}\\_1128376232:} 2"
      ],
      "text/markdown": [
       "**agg_record_1128376232:** 2"
      ],
      "text/plain": [
       "agg_record_1128376232 \n",
       "                    2 "
      ]
     },
     "metadata": {},
     "output_type": "display_data"
    }
   ],
   "source": [
    "plt_export = plt_heatmap_crispri_hcrff_total\n",
    "txt_export = \"fig.region_coverage_fcc.heatmap.zscore.crispri_hcrff.target.total\"\n",
    "\n",
    "txt_fdiry = \"./\"\n",
    "txt_fname = paste(txt_export, \"png\", sep = \".\")\n",
    "txt_fpath = file.path(txt_fdiry, txt_fname)\n",
    "\n",
    "png(txt_fpath, height = 10, width = 8, units = \"in\", res = 500)\n",
    "print(plt_export)\n",
    "dev.off()\n",
    "\n",
    "txt_fdiry = \"./\"\n",
    "txt_fname = paste(txt_export, \"svg\", sep = \".\")\n",
    "txt_fpath = file.path(txt_fdiry, txt_fname)\n",
    "\n",
    "svg(txt_fpath, height = 10, width = 8)\n",
    "print(plt_export)\n",
    "dev.off()"
   ]
  },
  {
   "cell_type": "code",
   "execution_count": 21,
   "id": "e7022d7a-cb0c-4095-a934-2e12c699ef8a",
   "metadata": {},
   "outputs": [
    {
     "data": {
      "text/html": [
       "<strong>agg_record_1526627398:</strong> 2"
      ],
      "text/latex": [
       "\\textbf{agg\\textbackslash{}\\_record\\textbackslash{}\\_1526627398:} 2"
      ],
      "text/markdown": [
       "**agg_record_1526627398:** 2"
      ],
      "text/plain": [
       "agg_record_1526627398 \n",
       "                    2 "
      ]
     },
     "metadata": {},
     "output_type": "display_data"
    },
    {
     "data": {
      "text/html": [
       "<strong>agg_record_1526627398:</strong> 2"
      ],
      "text/latex": [
       "\\textbf{agg\\textbackslash{}\\_record\\textbackslash{}\\_1526627398:} 2"
      ],
      "text/markdown": [
       "**agg_record_1526627398:** 2"
      ],
      "text/plain": [
       "agg_record_1526627398 \n",
       "                    2 "
      ]
     },
     "metadata": {},
     "output_type": "display_data"
    }
   ],
   "source": [
    "plt_export = plt_heatmap_crispri_hcrff_filtered\n",
    "txt_export = \"fig.region_coverage_fcc.heatmap.zscore.crispri_hcrff.target.filtered\"\n",
    "\n",
    "txt_fdiry = \"./\"\n",
    "txt_fname = paste(txt_export, \"png\", sep = \".\")\n",
    "txt_fpath = file.path(txt_fdiry, txt_fname)\n",
    "\n",
    "png(txt_fpath, height = 10, width = 8, units = \"in\", res = 500)\n",
    "print(plt_export)\n",
    "dev.off()\n",
    "\n",
    "txt_fdiry = \"./\"\n",
    "txt_fname = paste(txt_export, \"svg\", sep = \".\")\n",
    "txt_fpath = file.path(txt_fdiry, txt_fname)\n",
    "\n",
    "svg(txt_fpath, height = 10, width = 8)\n",
    "print(plt_export)\n",
    "dev.off()"
   ]
  },
  {
   "cell_type": "markdown",
   "id": "aa65d995-2d55-40c9-9ee4-1dc0129f0fe8",
   "metadata": {},
   "source": [
    "## Check part of the plot"
   ]
  },
  {
   "cell_type": "code",
   "execution_count": 22,
   "id": "f1f3c13c-dde8-4523-aa47-a772dffcc325",
   "metadata": {},
   "outputs": [
    {
     "name": "stdout",
     "output_type": "stream",
     "text": [
      "[1] 182   1\n"
     ]
    },
    {
     "data": {
      "image/png": "[encoded data removed]",
      "text/plain": [
       "plot without title"
      ]
     },
     "metadata": {
      "image/png": {
       "height": 600,
       "width": 480
      }
     },
     "output_type": "display_data"
    }
   ],
   "source": [
    "options(repr.plot.height=10, repr.plot.width=8)\n",
    "idx = \"Filtered\"\n",
    "lol = lol_dat_region_score_result \n",
    "lst = lol[[idx]]\n",
    "\n",
    "dat_region_score = lst[[\"Score\"]]\n",
    "dat_region_annot = lst[[\"Annot\"]]\n",
    "\n",
    "dat_region_annot = dat_region_annot %>% dplyr::filter(Chrom == \"chr8\")\n",
    "vec_txt_region   = rownames(dat_region_annot)\n",
    "dat_region_score = dat_region_score[vec_txt_region,]\n",
    "\n",
    "print(dim(dat_region_annot))\n",
    "pheatmap(dat_region_score,\n",
    "         cluster_row  = FALSE,\n",
    "         cluster_cols = FALSE,\n",
    "         show_rownames = FALSE,\n",
    "         annotation_names_row = FALSE,\n",
    "         annotation_row = dat_region_annot,\n",
    "         color=myColor, \n",
    "         breaks=myBreaks)"
   ]
  },
  {
   "cell_type": "code",
   "execution_count": null,
   "id": "5abf8b62-5cfb-4c88-95a2-b1efff249283",
   "metadata": {},
   "outputs": [],
   "source": []
  }
 ],
 "metadata": {
  "kernelspec": {
   "display_name": "R",
   "language": "R",
   "name": "ir"
  },
  "language_info": {
   "codemirror_mode": "r",
   "file_extension": ".r",
   "mimetype": "text/x-r-source",
   "name": "R",
   "pygments_lexer": "r",
   "version": "4.5.1"
  }
 },
 "nbformat": 4,
 "nbformat_minor": 5
}
