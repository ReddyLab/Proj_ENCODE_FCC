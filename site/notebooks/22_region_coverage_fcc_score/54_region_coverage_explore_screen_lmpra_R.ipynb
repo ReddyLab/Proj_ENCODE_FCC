{
 "cells": [
  {
   "cell_type": "raw",
   "id": "750f9d99-5902-429f-9ecb-023cf22aac88",
   "metadata": {},
   "source": [
    "---\n",
    "title: Region Coverage (FCC) 54\n",
    "subtitle: Screen regions in LMPRA\n",
    "format:\n",
    "    html:\n",
    "        code-fold:  true\n",
    "        code-tools: true\n",
    "---"
   ]
  },
  {
   "cell_type": "markdown",
   "id": "e02ff0e0-c283-417a-9445-f0490b8b0d80",
   "metadata": {},
   "source": [
    "**Set environment**"
   ]
  },
  {
   "cell_type": "code",
   "execution_count": 1,
   "id": "d3f63193-178d-471c-a5a2-112c0c6b9a54",
   "metadata": {},
   "outputs": [
    {
     "name": "stdout",
     "output_type": "stream",
     "text": [
      "You are working on        Singularity: singularity_proj_encode_fcc \n",
      "BASE DIRECTORY (FD_BASE): /data/reddylab/Kuei \n",
      "REPO DIRECTORY (FD_REPO): /data/reddylab/Kuei/repo \n",
      "WORK DIRECTORY (FD_WORK): /data/reddylab/Kuei/work \n",
      "DATA DIRECTORY (FD_DATA): /data/reddylab/Kuei/data \n",
      "\n",
      "You are working with      ENCODE FCC \n",
      "PATH OF PROJECT (FD_PRJ): /data/reddylab/Kuei/repo/Proj_ENCODE_FCC \n",
      "PROJECT RESULTS (FD_RES): /data/reddylab/Kuei/repo/Proj_ENCODE_FCC/results \n",
      "PROJECT SCRIPTS (FD_EXE): /data/reddylab/Kuei/repo/Proj_ENCODE_FCC/scripts \n",
      "PROJECT DATA    (FD_DAT): /data/reddylab/Kuei/repo/Proj_ENCODE_FCC/data \n",
      "PROJECT NOTE    (FD_NBK): /data/reddylab/Kuei/repo/Proj_ENCODE_FCC/notebooks \n",
      "PROJECT DOCS    (FD_DOC): /data/reddylab/Kuei/repo/Proj_ENCODE_FCC/docs \n",
      "PROJECT LOG     (FD_LOG): /data/reddylab/Kuei/repo/Proj_ENCODE_FCC/log \n",
      "PROJECT REF     (FD_REF): /data/reddylab/Kuei/repo/Proj_ENCODE_FCC/references \n",
      "\n"
     ]
    }
   ],
   "source": [
    "suppressMessages(suppressWarnings(source(\"../run_config_project_sing.R\")))\n",
    "show_env()"
   ]
  },
  {
   "cell_type": "markdown",
   "id": "7c9725ea-37d6-4b15-bfa5-7878f7585487",
   "metadata": {},
   "source": [
    "**Check: region directory**"
   ]
  },
  {
   "cell_type": "code",
   "execution_count": 2,
   "id": "306da402-4a9a-40f8-8a9c-1cebc7b7b13e",
   "metadata": {},
   "outputs": [
    {
     "name": "stdout",
     "output_type": "stream",
     "text": [
      "atac_ENCFF333TAT \n",
      "atac_ENCFF558BLC \n",
      "atac_ENCFF925CYR \n",
      "atac_ENCFF948AFM \n",
      "dnase_ENCFF185XRG \n",
      "dnase_ENCFF274YGF \n",
      "fcc_astarr_macs_input_overlap \n",
      "fcc_astarr_macs_input_union \n"
     ]
    }
   ],
   "source": [
    "txt_fdiry = file.path(FD_RES, \"region_coverage_fcc_score\")\n",
    "\n",
    "vec = dir(txt_fdiry)\n",
    "for (txt in vec){cat(txt, \"\\n\")}"
   ]
  },
  {
   "cell_type": "markdown",
   "id": "6e65f33c-d82d-41f9-a39d-7a974d1d606f",
   "metadata": {},
   "source": [
    "**Check: assay directory**"
   ]
  },
  {
   "cell_type": "code",
   "execution_count": 3,
   "id": "a377e9d6-5acc-41c7-9c19-0c2cadca0efc",
   "metadata": {},
   "outputs": [
    {
     "name": "stdout",
     "output_type": "stream",
     "text": [
      "CRISPRi_FlowFISH_K562_Riley_JinWoo \n",
      "CRISPRi_Growth_K562_Gersbach_JinWoo \n",
      "MPRA_Lenti_K562_Nadav_Vikram \n",
      "MPRA_Tiling_K562_Tewhey_Hannah \n",
      "STARR_ATAC_K562_Reddy_KS274 \n",
      "STARR_ATAC_K562_Reddy_KS91 \n",
      "STARR_ATAC_K562_Reddy_KSMerge \n",
      "STARR_WHG_K562_Reddy_A001 \n",
      "summary \n"
     ]
    }
   ],
   "source": [
    "txt_region = \"fcc_astarr_macs_input_union\"\n",
    "txt_fdiry  = file.path(FD_RES, \"region_coverage_fcc_score\", txt_region)\n",
    "vec = dir(txt_fdiry)\n",
    "for (txt in vec) {cat(txt, \"\\n\")}"
   ]
  },
  {
   "cell_type": "markdown",
   "id": "de364a87-0641-497d-ae9d-9a7df3e38ee4",
   "metadata": {},
   "source": [
    "**Set global variable**"
   ]
  },
  {
   "cell_type": "code",
   "execution_count": 4,
   "id": "fdf0517b-6bd5-4ff7-afbe-5de70878d4c3",
   "metadata": {},
   "outputs": [
    {
     "name": "stdout",
     "output_type": "stream",
     "text": [
      "fcc_astarr_macs_input_overlap \n",
      "fcc_astarr_macs_input_union \n"
     ]
    }
   ],
   "source": [
    "## init: region folder\n",
    "vec = c(\"fcc_astarr_macs_input_overlap\", \"fcc_astarr_macs_input_union\")\n",
    "names(vec) = vec\n",
    "\n",
    "VEC_TXT_FOLDER = vec\n",
    "for (txt in vec) {cat(txt, \"\\n\")}"
   ]
  },
  {
   "cell_type": "code",
   "execution_count": 5,
   "id": "b5f734d2-9cfc-41f3-b5da-5b968a22d517",
   "metadata": {},
   "outputs": [],
   "source": [
    "TXT_ASSAY = \"MPRA_Lenti_K562_Nadav_Vikram\""
   ]
  },
  {
   "cell_type": "markdown",
   "id": "bc66543e-69da-45bb-9215-4561fa20e824",
   "metadata": {},
   "source": [
    "**Check files**"
   ]
  },
  {
   "cell_type": "code",
   "execution_count": 6,
   "id": "fe2dea53-5877-423e-951a-55a25d59a0f5",
   "metadata": {},
   "outputs": [
    {
     "name": "stdout",
     "output_type": "stream",
     "text": [
      "/data/reddylab/Kuei/repo/Proj_ENCODE_FCC/results/region_coverage_fcc_score/fcc_astarr_macs_input_overlap/MPRA_Lenti_K562_Nadav_Vikram/summary/region.coverage.score.log2fc.tsv \n",
      "/data/reddylab/Kuei/repo/Proj_ENCODE_FCC/results/region_coverage_fcc_score/fcc_astarr_macs_input_overlap/MPRA_Lenti_K562_Nadav_Vikram/summary/region.coverage.score.zscore.tsv \n"
     ]
    }
   ],
   "source": [
    "txt_region = VEC_TXT_FOLDER[1]\n",
    "txt_assay  = TXT_ASSAY\n",
    "txt_fdiry  = file.path(FD_RES, \"region_coverage_fcc_score\", txt_region)\n",
    "txt_fname  = \"region.coverage.score.*.tsv\"\n",
    "txt_fglob  = file.path(txt_fdiry, txt_assay, \"summary\", txt_fname)\n",
    "\n",
    "vec = Sys.glob(txt_fglob)\n",
    "for (txt in vec) {cat(txt, \"\\n\")}"
   ]
  },
  {
   "cell_type": "markdown",
   "id": "124c2253-dd27-4e84-a728-031203d97d62",
   "metadata": {},
   "source": [
    "## Import data"
   ]
  },
  {
   "cell_type": "code",
   "execution_count": 7,
   "id": "6e1951ea-5f6e-4535-98de-b661791a872d",
   "metadata": {},
   "outputs": [
    {
     "name": "stdout",
     "output_type": "stream",
     "text": [
      "$fcc_astarr_macs_input_overlap\n",
      "[1] 61478    10\n",
      "\n",
      "$fcc_astarr_macs_input_union\n",
      "[1] 68497    10\n",
      "\n"
     ]
    },
    {
     "data": {
      "text/html": [
       "<table>\n",
       " <thead>\n",
       "  <tr>\n",
       "   <th style=\"text-align:left;\"> Chrom </th>\n",
       "   <th style=\"text-align:right;\"> ChromStart </th>\n",
       "   <th style=\"text-align:right;\"> ChromEnd </th>\n",
       "   <th style=\"text-align:left;\"> Region </th>\n",
       "   <th style=\"text-align:right;\"> Mean </th>\n",
       "   <th style=\"text-align:right;\"> Median </th>\n",
       "   <th style=\"text-align:right;\"> AbsMax </th>\n",
       "   <th style=\"text-align:right;\"> Max </th>\n",
       "   <th style=\"text-align:right;\"> Min </th>\n",
       "   <th style=\"text-align:right;\"> Count </th>\n",
       "  </tr>\n",
       " </thead>\n",
       "<tbody>\n",
       "  <tr>\n",
       "   <td style=\"text-align:left;\"> chr1 </td>\n",
       "   <td style=\"text-align:right;\"> 115429 </td>\n",
       "   <td style=\"text-align:right;\"> 115969 </td>\n",
       "   <td style=\"text-align:left;\"> chr1:115429-115969 </td>\n",
       "   <td style=\"text-align:right;\"> 0.040 </td>\n",
       "   <td style=\"text-align:right;\"> 0.040 </td>\n",
       "   <td style=\"text-align:right;\"> 0.040 </td>\n",
       "   <td style=\"text-align:right;\"> 0.040 </td>\n",
       "   <td style=\"text-align:right;\"> 0.040 </td>\n",
       "   <td style=\"text-align:right;\"> 1 </td>\n",
       "  </tr>\n",
       "  <tr>\n",
       "   <td style=\"text-align:left;\"> chr1 </td>\n",
       "   <td style=\"text-align:right;\"> 138321 </td>\n",
       "   <td style=\"text-align:right;\"> 139517 </td>\n",
       "   <td style=\"text-align:left;\"> chr1:138321-139517 </td>\n",
       "   <td style=\"text-align:right;\"> -0.322 </td>\n",
       "   <td style=\"text-align:right;\"> -0.322 </td>\n",
       "   <td style=\"text-align:right;\"> -0.543 </td>\n",
       "   <td style=\"text-align:right;\"> -0.101 </td>\n",
       "   <td style=\"text-align:right;\"> -0.543 </td>\n",
       "   <td style=\"text-align:right;\"> 2 </td>\n",
       "  </tr>\n",
       "  <tr>\n",
       "   <td style=\"text-align:left;\"> chr1 </td>\n",
       "   <td style=\"text-align:right;\"> 267910 </td>\n",
       "   <td style=\"text-align:right;\"> 268557 </td>\n",
       "   <td style=\"text-align:left;\"> chr1:267910-268557 </td>\n",
       "   <td style=\"text-align:right;\"> -0.371 </td>\n",
       "   <td style=\"text-align:right;\"> -0.371 </td>\n",
       "   <td style=\"text-align:right;\"> -0.967 </td>\n",
       "   <td style=\"text-align:right;\"> 0.225 </td>\n",
       "   <td style=\"text-align:right;\"> -0.967 </td>\n",
       "   <td style=\"text-align:right;\"> 2 </td>\n",
       "  </tr>\n",
       "</tbody>\n",
       "</table>"
      ]
     },
     "metadata": {},
     "output_type": "display_data"
    }
   ],
   "source": [
    "lst = lapply(VEC_TXT_FOLDER, function(txt_folder){\n",
    "    \n",
    "    ### set file directory\n",
    "    txt_assay = TXT_ASSAY\n",
    "    txt_fdiry = file.path(FD_RES, \"region_coverage_fcc_score\", txt_folder, txt_assay, \"summary\")\n",
    "    txt_fname = \"region.coverage.score.log2fc.tsv\"\n",
    "    txt_fpath = file.path(txt_fdiry, txt_fname)\n",
    "\n",
    "    ### import table\n",
    "    dat = read_tsv(txt_fpath, show_col_types = FALSE)\n",
    "    return(dat)\n",
    "})  \n",
    "\n",
    "### assign and label\n",
    "lst_dat_region_score_log2fc_import = lst\n",
    "\n",
    "res = lapply(lst, dim)\n",
    "print(res)\n",
    "\n",
    "dat = lst[[1]]\n",
    "fun_display_table(head(dat, 3))"
   ]
  },
  {
   "cell_type": "code",
   "execution_count": 8,
   "id": "8896b586-b7af-4161-8398-29d6f329cac8",
   "metadata": {},
   "outputs": [
    {
     "name": "stdout",
     "output_type": "stream",
     "text": [
      "$fcc_astarr_macs_input_overlap\n",
      "[1] 61478    10\n",
      "\n",
      "$fcc_astarr_macs_input_union\n",
      "[1] 68497    10\n",
      "\n"
     ]
    },
    {
     "data": {
      "text/html": [
       "<table>\n",
       " <thead>\n",
       "  <tr>\n",
       "   <th style=\"text-align:left;\"> Chrom </th>\n",
       "   <th style=\"text-align:right;\"> ChromStart </th>\n",
       "   <th style=\"text-align:right;\"> ChromEnd </th>\n",
       "   <th style=\"text-align:left;\"> Region </th>\n",
       "   <th style=\"text-align:right;\"> Mean </th>\n",
       "   <th style=\"text-align:right;\"> Median </th>\n",
       "   <th style=\"text-align:right;\"> AbsMax </th>\n",
       "   <th style=\"text-align:right;\"> Max </th>\n",
       "   <th style=\"text-align:right;\"> Min </th>\n",
       "   <th style=\"text-align:right;\"> Count </th>\n",
       "  </tr>\n",
       " </thead>\n",
       "<tbody>\n",
       "  <tr>\n",
       "   <td style=\"text-align:left;\"> chr1 </td>\n",
       "   <td style=\"text-align:right;\"> 115429 </td>\n",
       "   <td style=\"text-align:right;\"> 115969 </td>\n",
       "   <td style=\"text-align:left;\"> chr1:115429-115969 </td>\n",
       "   <td style=\"text-align:right;\"> 2.0511008 </td>\n",
       "   <td style=\"text-align:right;\"> 2.0511008 </td>\n",
       "   <td style=\"text-align:right;\"> 2.051101 </td>\n",
       "   <td style=\"text-align:right;\"> 2.051101 </td>\n",
       "   <td style=\"text-align:right;\"> 2.0511008 </td>\n",
       "   <td style=\"text-align:right;\"> 1 </td>\n",
       "  </tr>\n",
       "  <tr>\n",
       "   <td style=\"text-align:left;\"> chr1 </td>\n",
       "   <td style=\"text-align:right;\"> 138321 </td>\n",
       "   <td style=\"text-align:right;\"> 139517 </td>\n",
       "   <td style=\"text-align:left;\"> chr1:138321-139517 </td>\n",
       "   <td style=\"text-align:right;\"> 0.7368123 </td>\n",
       "   <td style=\"text-align:right;\"> 0.7368123 </td>\n",
       "   <td style=\"text-align:right;\"> 1.539182 </td>\n",
       "   <td style=\"text-align:right;\"> 1.539182 </td>\n",
       "   <td style=\"text-align:right;\"> -0.0655571 </td>\n",
       "   <td style=\"text-align:right;\"> 2 </td>\n",
       "  </tr>\n",
       "  <tr>\n",
       "   <td style=\"text-align:left;\"> chr1 </td>\n",
       "   <td style=\"text-align:right;\"> 267910 </td>\n",
       "   <td style=\"text-align:right;\"> 268557 </td>\n",
       "   <td style=\"text-align:left;\"> chr1:267910-268557 </td>\n",
       "   <td style=\"text-align:right;\"> 0.5589114 </td>\n",
       "   <td style=\"text-align:right;\"> 0.5589114 </td>\n",
       "   <td style=\"text-align:right;\"> 2.722767 </td>\n",
       "   <td style=\"text-align:right;\"> 2.722767 </td>\n",
       "   <td style=\"text-align:right;\"> -1.6049447 </td>\n",
       "   <td style=\"text-align:right;\"> 2 </td>\n",
       "  </tr>\n",
       "</tbody>\n",
       "</table>"
      ]
     },
     "metadata": {},
     "output_type": "display_data"
    }
   ],
   "source": [
    "lst = lapply(VEC_TXT_FOLDER, function(txt_folder){\n",
    "    \n",
    "    ### set file directory\n",
    "    txt_assay = TXT_ASSAY\n",
    "    txt_fdiry = file.path(FD_RES, \"region_coverage_fcc_score\", txt_folder, txt_assay, \"summary\")\n",
    "    txt_fname = \"region.coverage.score.zscore.tsv\"\n",
    "    txt_fpath = file.path(txt_fdiry, txt_fname)\n",
    "\n",
    "    ### import table\n",
    "    dat = read_tsv(txt_fpath, show_col_types = FALSE)\n",
    "    return(dat)\n",
    "})  \n",
    "\n",
    "### assign and label\n",
    "lst_dat_region_score_zscore_import = lst\n",
    "\n",
    "res = lapply(lst, dim)\n",
    "print(res)\n",
    "\n",
    "dat = lst[[1]]\n",
    "fun_display_table(head(dat, 3))"
   ]
  },
  {
   "cell_type": "markdown",
   "id": "078786e2-c6a9-4ade-a8a3-3e59da2a9381",
   "metadata": {},
   "source": [
    "## Arrange data"
   ]
  },
  {
   "cell_type": "code",
   "execution_count": 9,
   "id": "acc68a65-3ae7-4d84-9ef9-87fb69e0ab76",
   "metadata": {},
   "outputs": [],
   "source": [
    "idx = \"fcc_astarr_macs_input_union\"\n",
    "lst = lst_dat_region_score_log2fc_import\n",
    "dat = lst[[idx]]\n",
    "vec = dat$Mean\n",
    "\n",
    "dat = data.frame(Label = \"Log2FC\", Score = vec, Zcore = as.vector(scale(vec)))\n",
    "dat_region_score_log2fc = dat"
   ]
  },
  {
   "cell_type": "code",
   "execution_count": 10,
   "id": "30f948d3-fe1f-471e-a9dd-d22c372ad656",
   "metadata": {},
   "outputs": [],
   "source": [
    "idx = \"fcc_astarr_macs_input_union\"\n",
    "lst = lst_dat_region_score_zscore_import\n",
    "dat = lst[[idx]]\n",
    "vec = dat$Mean\n",
    "\n",
    "dat = data.frame(Label = \"Log2FC scaled by Neg.Ctrl\", Score = vec, Zcore = as.vector(scale(vec)))\n",
    "dat_region_score_zscore = dat"
   ]
  },
  {
   "cell_type": "code",
   "execution_count": 11,
   "id": "61a9522a-ecbb-4e3c-bc6e-9a5fa502a8da",
   "metadata": {},
   "outputs": [
    {
     "data": {
      "text/html": [
       "<table class=\"dataframe\">\n",
       "<caption>A data.frame: 6 × 3</caption>\n",
       "<thead>\n",
       "\t<tr><th></th><th scope=col>Label</th><th scope=col>Metric</th><th scope=col>Value</th></tr>\n",
       "\t<tr><th></th><th scope=col>&lt;chr&gt;</th><th scope=col>&lt;chr&gt;</th><th scope=col>&lt;dbl&gt;</th></tr>\n",
       "</thead>\n",
       "<tbody>\n",
       "\t<tr><th scope=row>1</th><td>Log2FC</td><td>Score</td><td> 0.0400</td></tr>\n",
       "\t<tr><th scope=row>2</th><td>Log2FC</td><td>Score</td><td>-0.3220</td></tr>\n",
       "\t<tr><th scope=row>3</th><td>Log2FC</td><td>Score</td><td>-0.3710</td></tr>\n",
       "\t<tr><th scope=row>4</th><td>Log2FC</td><td>Score</td><td> 1.1035</td></tr>\n",
       "\t<tr><th scope=row>5</th><td>Log2FC</td><td>Score</td><td> 0.2875</td></tr>\n",
       "\t<tr><th scope=row>6</th><td>Log2FC</td><td>Score</td><td> 0.0915</td></tr>\n",
       "</tbody>\n",
       "</table>\n"
      ],
      "text/latex": [
       "A data.frame: 6 × 3\n",
       "\\begin{tabular}{r|lll}\n",
       "  & Label & Metric & Value\\\\\n",
       "  & <chr> & <chr> & <dbl>\\\\\n",
       "\\hline\n",
       "\t1 & Log2FC & Score &  0.0400\\\\\n",
       "\t2 & Log2FC & Score & -0.3220\\\\\n",
       "\t3 & Log2FC & Score & -0.3710\\\\\n",
       "\t4 & Log2FC & Score &  1.1035\\\\\n",
       "\t5 & Log2FC & Score &  0.2875\\\\\n",
       "\t6 & Log2FC & Score &  0.0915\\\\\n",
       "\\end{tabular}\n"
      ],
      "text/markdown": [
       "\n",
       "A data.frame: 6 × 3\n",
       "\n",
       "| <!--/--> | Label &lt;chr&gt; | Metric &lt;chr&gt; | Value &lt;dbl&gt; |\n",
       "|---|---|---|---|\n",
       "| 1 | Log2FC | Score |  0.0400 |\n",
       "| 2 | Log2FC | Score | -0.3220 |\n",
       "| 3 | Log2FC | Score | -0.3710 |\n",
       "| 4 | Log2FC | Score |  1.1035 |\n",
       "| 5 | Log2FC | Score |  0.2875 |\n",
       "| 6 | Log2FC | Score |  0.0915 |\n",
       "\n"
      ],
      "text/plain": [
       "  Label  Metric Value  \n",
       "1 Log2FC Score   0.0400\n",
       "2 Log2FC Score  -0.3220\n",
       "3 Log2FC Score  -0.3710\n",
       "4 Log2FC Score   1.1035\n",
       "5 Log2FC Score   0.2875\n",
       "6 Log2FC Score   0.0915"
      ]
     },
     "metadata": {},
     "output_type": "display_data"
    }
   ],
   "source": [
    "dat = bind_rows(\n",
    "    dat_region_score_log2fc,\n",
    "    dat_region_score_zscore\n",
    ")\n",
    "dat = dat %>% tidyr::gather(Metric, Value, -Label)\n",
    "\n",
    "dat_region_score_merge = dat\n",
    "head(dat)"
   ]
  },
  {
   "cell_type": "markdown",
   "id": "2f39d674-40d5-4273-b719-2148160cda22",
   "metadata": {},
   "source": [
    "## Visualize the transformation of scores"
   ]
  },
  {
   "cell_type": "code",
   "execution_count": 12,
   "id": "e30bc1ae-7cc8-42c0-bf61-1ea2edffddcc",
   "metadata": {},
   "outputs": [
    {
     "data": {
      "image/png": "[encoded data removed]",
      "text/plain": [
       "plot without title"
      ]
     },
     "metadata": {
      "image/png": {
       "height": 480,
       "width": 600
      }
     },
     "output_type": "display_data"
    }
   ],
   "source": [
    "dat = dat_region_score_merge\n",
    "gpt = ggplot(dat, aes(x=Value)) + \n",
    "    geom_histogram(bins = 50) + \n",
    "    theme_cowplot() +\n",
    "    background_grid() +\n",
    "    facet_grid(Label ~ Metric)\n",
    "    \n",
    "\n",
    "options(repr.plot.height = 8, repr.plot.width=10)\n",
    "print(gpt)"
   ]
  },
  {
   "cell_type": "code",
   "execution_count": null,
   "id": "073503d1-b239-42f6-b3d3-8f444fc88652",
   "metadata": {},
   "outputs": [],
   "source": []
  }
 ],
 "metadata": {
  "kernelspec": {
   "display_name": "R",
   "language": "R",
   "name": "ir"
  },
  "language_info": {
   "codemirror_mode": "r",
   "file_extension": ".r",
   "mimetype": "text/x-r-source",
   "name": "R",
   "pygments_lexer": "r",
   "version": "4.5.1"
  }
 },
 "nbformat": 4,
 "nbformat_minor": 5
}
