{
 "cells": [
  {
   "cell_type": "raw",
   "id": "808fb1d2-9b24-4935-81d6-b1dbc62b7b2f",
   "metadata": {},
   "source": [
    "---\n",
    "title: Region Coverage (FCC) 34\n",
    "subtitle: Summarize coverage for CRISPRi-Growth\n",
    "format:\n",
    "    html:\n",
    "        code-fold:  true\n",
    "        code-tools: true\n",
    "---"
   ]
  },
  {
   "cell_type": "markdown",
   "id": "4c137965-e76f-4a4e-ad2b-54d439e63457",
   "metadata": {},
   "source": [
    "**Set environment**"
   ]
  },
  {
   "cell_type": "code",
   "execution_count": 1,
   "id": "f221fe30-ca11-4dea-a58f-fa5b393d04bf",
   "metadata": {},
   "outputs": [
    {
     "name": "stdout",
     "output_type": "stream",
     "text": [
      "You are working on        Singularity: singularity_proj_encode_fcc \n",
      "BASE DIRECTORY (FD_BASE): /data/reddylab/Kuei \n",
      "REPO DIRECTORY (FD_REPO): /data/reddylab/Kuei/repo \n",
      "WORK DIRECTORY (FD_WORK): /data/reddylab/Kuei/work \n",
      "DATA DIRECTORY (FD_DATA): /data/reddylab/Kuei/data \n",
      "\n",
      "You are working with      ENCODE FCC \n",
      "PATH OF PROJECT (FD_PRJ): /data/reddylab/Kuei/repo/Proj_ENCODE_FCC \n",
      "PROJECT RESULTS (FD_RES): /data/reddylab/Kuei/repo/Proj_ENCODE_FCC/results \n",
      "PROJECT SCRIPTS (FD_EXE): /data/reddylab/Kuei/repo/Proj_ENCODE_FCC/scripts \n",
      "PROJECT DATA    (FD_DAT): /data/reddylab/Kuei/repo/Proj_ENCODE_FCC/data \n",
      "PROJECT NOTE    (FD_NBK): /data/reddylab/Kuei/repo/Proj_ENCODE_FCC/notebooks \n",
      "PROJECT DOCS    (FD_DOC): /data/reddylab/Kuei/repo/Proj_ENCODE_FCC/docs \n",
      "PROJECT LOG     (FD_LOG): /data/reddylab/Kuei/repo/Proj_ENCODE_FCC/log \n",
      "PROJECT REF     (FD_REF): /data/reddylab/Kuei/repo/Proj_ENCODE_FCC/references \n",
      "\n"
     ]
    }
   ],
   "source": [
    "suppressMessages(suppressWarnings(source(\"../run_config_project_sing.R\")))\n",
    "show_env()"
   ]
  },
  {
   "cell_type": "markdown",
   "id": "0e3aea68-a2c5-443c-beb3-401a26d505e5",
   "metadata": {},
   "source": [
    "**Check: region directory**"
   ]
  },
  {
   "cell_type": "code",
   "execution_count": 2,
   "id": "9df2f1b4-9178-4a45-be8c-9005371cfd6b",
   "metadata": {},
   "outputs": [
    {
     "name": "stdout",
     "output_type": "stream",
     "text": [
      "atac_ENCFF333TAT \n",
      "atac_ENCFF558BLC \n",
      "atac_ENCFF925CYR \n",
      "atac_ENCFF948AFM \n",
      "dnase_ENCFF185XRG \n",
      "dnase_ENCFF274YGF \n",
      "fcc_astarr_macs_input_overlap \n",
      "fcc_astarr_macs_input_union \n"
     ]
    }
   ],
   "source": [
    "txt_fdiry = file.path(FD_RES, \"region_coverage_fcc_score\")\n",
    "\n",
    "vec = dir(txt_fdiry)\n",
    "for (txt in vec){cat(txt, \"\\n\")}"
   ]
  },
  {
   "cell_type": "markdown",
   "id": "b4f1ff46-acc4-48a2-9fdc-4c6035407f88",
   "metadata": {},
   "source": [
    "**Check: assay directory**"
   ]
  },
  {
   "cell_type": "code",
   "execution_count": 3,
   "id": "a6dc5f30-86a3-419f-bcbf-5156ead4dedd",
   "metadata": {},
   "outputs": [
    {
     "name": "stdout",
     "output_type": "stream",
     "text": [
      "CRISPRi_FlowFISH_K562_Riley_JinWoo \n",
      "CRISPRi_Growth_K562_Gersbach_JinWoo \n",
      "MPRA_Lenti_K562_Nadav_Vikram \n",
      "MPRA_Tiling_K562_Tewhey_Hannah \n",
      "STARR_ATAC_K562_Reddy_KS274 \n",
      "STARR_ATAC_K562_Reddy_KS91 \n",
      "STARR_ATAC_K562_Reddy_KSMerge \n",
      "STARR_WHG_K562_Reddy_A001 \n"
     ]
    }
   ],
   "source": [
    "txt_region = \"fcc_astarr_macs_input_union\"\n",
    "txt_fdiry  = file.path(FD_RES, \"region_coverage_fcc_score\", txt_region)\n",
    "vec = dir(txt_fdiry)\n",
    "for (txt in vec) {cat(txt, \"\\n\")}"
   ]
  },
  {
   "cell_type": "markdown",
   "id": "4a493255-7c84-4427-916b-eb61999cd42e",
   "metadata": {},
   "source": [
    "**Set global variable**"
   ]
  },
  {
   "cell_type": "code",
   "execution_count": 4,
   "id": "7c59feab-87ed-479b-a457-016a09bac2a1",
   "metadata": {},
   "outputs": [
    {
     "name": "stdout",
     "output_type": "stream",
     "text": [
      "fcc_astarr_macs_input_overlap \n",
      "fcc_astarr_macs_input_union \n"
     ]
    }
   ],
   "source": [
    "## init: region folder\n",
    "vec = c(\"fcc_astarr_macs_input_overlap\", \"fcc_astarr_macs_input_union\")\n",
    "names(vec) = vec\n",
    "\n",
    "VEC_TXT_REGION = vec\n",
    "for (txt in vec) {cat(txt, \"\\n\")}"
   ]
  },
  {
   "cell_type": "code",
   "execution_count": 5,
   "id": "29dacd5d-f6bf-40e2-985b-df04c92a6036",
   "metadata": {},
   "outputs": [],
   "source": [
    "### init: assay folder\n",
    "TXT_ASSAY     = \"CRISPRi_Growth_K562_Gersbach_JinWoo\"\n",
    "TXT_FNAME_INP = \"CRISPRi_Growth_K562.hg38.ZScore.unstranded.bed.gz\"\n",
    "TXT_FNAME_OUT = \"region.coverage.score.tsv\""
   ]
  },
  {
   "cell_type": "markdown",
   "id": "8cf56c67-140f-4a34-9c06-1bad7c270a71",
   "metadata": {},
   "source": [
    "**Check: assay files**"
   ]
  },
  {
   "cell_type": "code",
   "execution_count": 6,
   "id": "2f3ac8ae-a3a9-49f7-b70d-848e410f8c14",
   "metadata": {},
   "outputs": [
    {
     "name": "stdout",
     "output_type": "stream",
     "text": [
      "/data/reddylab/Kuei/repo/Proj_ENCODE_FCC/results/region_coverage_fcc_score/fcc_astarr_macs_input_overlap/CRISPRi_Growth_K562_Gersbach_JinWoo/CRISPRi_Growth_K562.hg38.ZScore.unstranded.bed.gz \n"
     ]
    }
   ],
   "source": [
    "txt_folder = VEC_TXT_REGION[1]\n",
    "txt_fdiry  = file.path(\n",
    "    FD_RES, \"region_coverage_fcc_score\",\n",
    "    txt_folder,\n",
    "    TXT_ASSAY \n",
    ")\n",
    "txt_fname = TXT_FNAME_INP\n",
    "txt_fglob = file.path(txt_fdiry, txt_fname)\n",
    "\n",
    "vec = Sys.glob(txt_fglob)\n",
    "for (txt in vec) {cat(txt, \"\\n\")}"
   ]
  },
  {
   "cell_type": "markdown",
   "id": "b44101b1-8a30-4a1b-b596-1f66876a2ed0",
   "metadata": {},
   "source": [
    "## Import region data"
   ]
  },
  {
   "cell_type": "markdown",
   "id": "07c229c7-c50f-483b-a9b6-9fa59aec8d1b",
   "metadata": {},
   "source": [
    "**Read region metadata table**"
   ]
  },
  {
   "cell_type": "code",
   "execution_count": 7,
   "id": "afe758de-8409-469f-95cc-2523314a8705",
   "metadata": {},
   "outputs": [
    {
     "data": {
      "text/html": [
       "<table>\n",
       " <thead>\n",
       "  <tr>\n",
       "   <th style=\"text-align:left;\"> Folder </th>\n",
       "   <th style=\"text-align:left;\"> FName </th>\n",
       "   <th style=\"text-align:left;\"> Label </th>\n",
       "   <th style=\"text-align:left;\"> FPath </th>\n",
       "  </tr>\n",
       " </thead>\n",
       "<tbody>\n",
       "  <tr>\n",
       "   <td style=\"text-align:left;\"> region_for_analysis </td>\n",
       "   <td style=\"text-align:left;\"> K562.hg38.ASTARR.macs.KS91.input.rep_all.max_overlaps.q5.bed.gz </td>\n",
       "   <td style=\"text-align:left;\"> fcc_astarr_macs_input_overlap </td>\n",
       "   <td style=\"text-align:left;\"> /data/reddylab/Kuei/repo/Proj_ENCODE_FCC/results/region/region_for_analysis/K562.hg38.ASTARR.macs.KS91.input.rep_all.max_overlaps.q5.bed.gz </td>\n",
       "  </tr>\n",
       "  <tr>\n",
       "   <td style=\"text-align:left;\"> region_for_analysis </td>\n",
       "   <td style=\"text-align:left;\"> K562.hg38.ASTARR.macs.KS91.input.rep_all.union.q5.bed.gz </td>\n",
       "   <td style=\"text-align:left;\"> fcc_astarr_macs_input_union </td>\n",
       "   <td style=\"text-align:left;\"> /data/reddylab/Kuei/repo/Proj_ENCODE_FCC/results/region/region_for_analysis/K562.hg38.ASTARR.macs.KS91.input.rep_all.union.q5.bed.gz </td>\n",
       "  </tr>\n",
       "  <tr>\n",
       "   <td style=\"text-align:left;\"> region_for_analysis </td>\n",
       "   <td style=\"text-align:left;\"> K562.hg38.ENCSR000EKS.ENCFF274YGF.DNase.bed.gz </td>\n",
       "   <td style=\"text-align:left;\"> dnase_ENCFF274YGF </td>\n",
       "   <td style=\"text-align:left;\"> /data/reddylab/Kuei/repo/Proj_ENCODE_FCC/results/region/region_for_analysis/K562.hg38.ENCSR000EKS.ENCFF274YGF.DNase.bed.gz </td>\n",
       "  </tr>\n",
       "  <tr>\n",
       "   <td style=\"text-align:left;\"> region_for_analysis </td>\n",
       "   <td style=\"text-align:left;\"> K562.hg38.ENCSR000EOT.ENCFF185XRG.DNase.bed.gz </td>\n",
       "   <td style=\"text-align:left;\"> dnase_ENCFF185XRG </td>\n",
       "   <td style=\"text-align:left;\"> /data/reddylab/Kuei/repo/Proj_ENCODE_FCC/results/region/region_for_analysis/K562.hg38.ENCSR000EOT.ENCFF185XRG.DNase.bed.gz </td>\n",
       "  </tr>\n",
       "  <tr>\n",
       "   <td style=\"text-align:left;\"> region_for_analysis </td>\n",
       "   <td style=\"text-align:left;\"> K562.hg38.ENCSR483RKN.ENCFF558BLC.ATAC.bed.gz </td>\n",
       "   <td style=\"text-align:left;\"> atac_ENCFF558BLC </td>\n",
       "   <td style=\"text-align:left;\"> /data/reddylab/Kuei/repo/Proj_ENCODE_FCC/results/region/region_for_analysis/K562.hg38.ENCSR483RKN.ENCFF558BLC.ATAC.bed.gz </td>\n",
       "  </tr>\n",
       "  <tr>\n",
       "   <td style=\"text-align:left;\"> region_for_analysis </td>\n",
       "   <td style=\"text-align:left;\"> K562.hg38.ENCSR483RKN.ENCFF925CYR.ATAC.bed.gz </td>\n",
       "   <td style=\"text-align:left;\"> atac_ENCFF925CYR </td>\n",
       "   <td style=\"text-align:left;\"> /data/reddylab/Kuei/repo/Proj_ENCODE_FCC/results/region/region_for_analysis/K562.hg38.ENCSR483RKN.ENCFF925CYR.ATAC.bed.gz </td>\n",
       "  </tr>\n",
       "  <tr>\n",
       "   <td style=\"text-align:left;\"> region_for_analysis </td>\n",
       "   <td style=\"text-align:left;\"> K562.hg38.ENCSR868FGK.ENCFF333TAT.ATAC.bed.gz </td>\n",
       "   <td style=\"text-align:left;\"> atac_ENCFF333TAT </td>\n",
       "   <td style=\"text-align:left;\"> /data/reddylab/Kuei/repo/Proj_ENCODE_FCC/results/region/region_for_analysis/K562.hg38.ENCSR868FGK.ENCFF333TAT.ATAC.bed.gz </td>\n",
       "  </tr>\n",
       "  <tr>\n",
       "   <td style=\"text-align:left;\"> region_for_analysis </td>\n",
       "   <td style=\"text-align:left;\"> K562.hg38.ENCSR868FGK.ENCFF948AFM.ATAC.bed.gz </td>\n",
       "   <td style=\"text-align:left;\"> atac_ENCFF948AFM </td>\n",
       "   <td style=\"text-align:left;\"> /data/reddylab/Kuei/repo/Proj_ENCODE_FCC/results/region/region_for_analysis/K562.hg38.ENCSR868FGK.ENCFF948AFM.ATAC.bed.gz </td>\n",
       "  </tr>\n",
       "</tbody>\n",
       "</table>"
      ]
     },
     "metadata": {},
     "output_type": "display_data"
    }
   ],
   "source": [
    "### set directory\n",
    "txt_fdiry = file.path(FD_RES, \"region\", \"summary\")\n",
    "txt_fname = \"metadata.label.region_for_analysis.tsv\"\n",
    "txt_fpath = file.path(txt_fdiry, txt_fname)\n",
    "\n",
    "### read table\n",
    "dat = read_tsv(txt_fpath, show_col_types = FALSE)\n",
    "\n",
    "### assign and show\n",
    "dat_meta_region = dat\n",
    "fun_display_table(dat)"
   ]
  },
  {
   "cell_type": "markdown",
   "id": "1628d701-90cd-4486-90f0-d8ee2ab1c48b",
   "metadata": {},
   "source": [
    "**Create region list for looping**"
   ]
  },
  {
   "cell_type": "code",
   "execution_count": 8,
   "id": "1af9cf8d-0ede-4dbd-8579-5038a4de3b49",
   "metadata": {},
   "outputs": [
    {
     "name": "stdout",
     "output_type": "stream",
     "text": [
      "$atac_ENCFF333TAT\n",
      "[1] \"region_for_analysis\"\n",
      "\n",
      "$atac_ENCFF558BLC\n",
      "[1] \"region_for_analysis\"\n",
      "\n",
      "$atac_ENCFF925CYR\n",
      "[1] \"region_for_analysis\"\n",
      "\n",
      "$atac_ENCFF948AFM\n",
      "[1] \"region_for_analysis\"\n",
      "\n",
      "$dnase_ENCFF185XRG\n",
      "[1] \"region_for_analysis\"\n",
      "\n",
      "$dnase_ENCFF274YGF\n",
      "[1] \"region_for_analysis\"\n",
      "\n",
      "$fcc_astarr_macs_input_overlap\n",
      "[1] \"region_for_analysis\"\n",
      "\n",
      "$fcc_astarr_macs_input_union\n",
      "[1] \"region_for_analysis\"\n",
      "\n"
     ]
    }
   ],
   "source": [
    "dat = dat_meta_region\n",
    "lst = split(dat$Folder, dat$Label)\n",
    "\n",
    "lst_txt_folder = lst\n",
    "print(lst)"
   ]
  },
  {
   "cell_type": "markdown",
   "id": "8b15a7e7-f06d-4fec-a0d6-2d3ccb3ec001",
   "metadata": {},
   "source": [
    "## Helper functions"
   ]
  },
  {
   "cell_type": "code",
   "execution_count": 9,
   "id": "1008ee00-7912-427b-bde0-651dc52785fb",
   "metadata": {},
   "outputs": [],
   "source": [
    "fun_get_absmax = function(x){ x[which.max(abs(x))] }"
   ]
  },
  {
   "cell_type": "markdown",
   "id": "3e182411-ca11-4e3b-a7a4-4f65bb54a6f0",
   "metadata": {},
   "source": [
    "## Import data"
   ]
  },
  {
   "cell_type": "code",
   "execution_count": 10,
   "id": "27e66891-acb6-4ab2-8cd7-4b36c776b7c1",
   "metadata": {},
   "outputs": [
    {
     "name": "stdout",
     "output_type": "stream",
     "text": [
      "====================\n",
      "Region Folder: fcc_astarr_macs_input_overlap \n",
      "Assay  Folder: CRISPRi_Growth_K562_Gersbach_JinWoo \n",
      "Import Files:\n",
      "CRISPRi_Growth_K562.hg38.ZScore.unstranded.bed.gz \n",
      "\n",
      "====================\n",
      "Region Folder: fcc_astarr_macs_input_union \n",
      "Assay  Folder: CRISPRi_Growth_K562_Gersbach_JinWoo \n",
      "Import Files:\n",
      "CRISPRi_Growth_K562.hg38.ZScore.unstranded.bed.gz \n",
      "\n",
      "$fcc_astarr_macs_input_overlap\n",
      "[1] 715720     11\n",
      "\n",
      "$fcc_astarr_macs_input_union\n",
      "[1] 824575     11\n",
      "\n"
     ]
    },
    {
     "data": {
      "text/html": [
       "<table class=\"dataframe\">\n",
       "<caption>A tibble: 3 × 11</caption>\n",
       "<thead>\n",
       "\t<tr><th scope=col>Chrom_A</th><th scope=col>ChromStart_A</th><th scope=col>ChromEnd_A</th><th scope=col>Region_A</th><th scope=col>Chrom_B</th><th scope=col>ChromStart_B</th><th scope=col>ChromEnd_B</th><th scope=col>Name_B</th><th scope=col>Score_B</th><th scope=col>Strand_B</th><th scope=col>Overlap</th></tr>\n",
       "\t<tr><th scope=col>&lt;chr&gt;</th><th scope=col>&lt;dbl&gt;</th><th scope=col>&lt;dbl&gt;</th><th scope=col>&lt;chr&gt;</th><th scope=col>&lt;chr&gt;</th><th scope=col>&lt;dbl&gt;</th><th scope=col>&lt;dbl&gt;</th><th scope=col>&lt;chr&gt;</th><th scope=col>&lt;dbl&gt;</th><th scope=col>&lt;chr&gt;</th><th scope=col>&lt;dbl&gt;</th></tr>\n",
       "</thead>\n",
       "<tbody>\n",
       "\t<tr><td>chr1</td><td>605104</td><td>605675</td><td>chr1:605104-605675</td><td>chr1</td><td>605580</td><td>605581</td><td>id-1</td><td>-0.180660</td><td>.</td><td>1</td></tr>\n",
       "\t<tr><td>chr1</td><td>605104</td><td>605675</td><td>chr1:605104-605675</td><td>chr1</td><td>605581</td><td>605582</td><td>id-2</td><td> 0.486646</td><td>.</td><td>1</td></tr>\n",
       "\t<tr><td>chr1</td><td>605104</td><td>605675</td><td>chr1:605104-605675</td><td>chr1</td><td>605589</td><td>605590</td><td>id-3</td><td> 3.171240</td><td>.</td><td>1</td></tr>\n",
       "</tbody>\n",
       "</table>\n"
      ],
      "text/latex": [
       "A tibble: 3 × 11\n",
       "\\begin{tabular}{lllllllllll}\n",
       " Chrom\\_A & ChromStart\\_A & ChromEnd\\_A & Region\\_A & Chrom\\_B & ChromStart\\_B & ChromEnd\\_B & Name\\_B & Score\\_B & Strand\\_B & Overlap\\\\\n",
       " <chr> & <dbl> & <dbl> & <chr> & <chr> & <dbl> & <dbl> & <chr> & <dbl> & <chr> & <dbl>\\\\\n",
       "\\hline\n",
       "\t chr1 & 605104 & 605675 & chr1:605104-605675 & chr1 & 605580 & 605581 & id-1 & -0.180660 & . & 1\\\\\n",
       "\t chr1 & 605104 & 605675 & chr1:605104-605675 & chr1 & 605581 & 605582 & id-2 &  0.486646 & . & 1\\\\\n",
       "\t chr1 & 605104 & 605675 & chr1:605104-605675 & chr1 & 605589 & 605590 & id-3 &  3.171240 & . & 1\\\\\n",
       "\\end{tabular}\n"
      ],
      "text/markdown": [
       "\n",
       "A tibble: 3 × 11\n",
       "\n",
       "| Chrom_A &lt;chr&gt; | ChromStart_A &lt;dbl&gt; | ChromEnd_A &lt;dbl&gt; | Region_A &lt;chr&gt; | Chrom_B &lt;chr&gt; | ChromStart_B &lt;dbl&gt; | ChromEnd_B &lt;dbl&gt; | Name_B &lt;chr&gt; | Score_B &lt;dbl&gt; | Strand_B &lt;chr&gt; | Overlap &lt;dbl&gt; |\n",
       "|---|---|---|---|---|---|---|---|---|---|---|\n",
       "| chr1 | 605104 | 605675 | chr1:605104-605675 | chr1 | 605580 | 605581 | id-1 | -0.180660 | . | 1 |\n",
       "| chr1 | 605104 | 605675 | chr1:605104-605675 | chr1 | 605581 | 605582 | id-2 |  0.486646 | . | 1 |\n",
       "| chr1 | 605104 | 605675 | chr1:605104-605675 | chr1 | 605589 | 605590 | id-3 |  3.171240 | . | 1 |\n",
       "\n"
      ],
      "text/plain": [
       "  Chrom_A ChromStart_A ChromEnd_A Region_A           Chrom_B ChromStart_B\n",
       "1 chr1    605104       605675     chr1:605104-605675 chr1    605580      \n",
       "2 chr1    605104       605675     chr1:605104-605675 chr1    605581      \n",
       "3 chr1    605104       605675     chr1:605104-605675 chr1    605589      \n",
       "  ChromEnd_B Name_B Score_B   Strand_B Overlap\n",
       "1 605581     id-1   -0.180660 .        1      \n",
       "2 605582     id-2    0.486646 .        1      \n",
       "3 605590     id-3    3.171240 .        1      "
      ]
     },
     "metadata": {},
     "output_type": "display_data"
    }
   ],
   "source": [
    "lst = lapply(VEC_TXT_REGION, function(txt_region){\n",
    "    \n",
    "    ### show progress:\n",
    "    cat(\"====================\\n\")\n",
    "    cat(\"Region Folder:\", txt_region, \"\\n\")\n",
    "    cat(\"Assay  Folder:\", TXT_ASSAY,  \"\\n\")\n",
    "    cat(\"Import Files:\\n\")\n",
    "    cat(TXT_FNAME_INP, \"\\n\")\n",
    "    cat(\"\\n\")\n",
    "    flush.console()\n",
    "    \n",
    "    ### set directory and import assay description\n",
    "    txt_fdiry = file.path(FD_RES, \"assay_fcc\", TXT_ASSAY, \"coverage\", \"summary\")\n",
    "    txt_fname = \"description.tsv\"\n",
    "    txt_fpath = file.path(txt_fdiry, txt_fname)\n",
    "\n",
    "    dat_cname_assay = read_tsv(txt_fpath, show_col_types = FALSE)\n",
    "\n",
    "    ### set directory and import region description\n",
    "    txt_folder = lst_txt_folder[[txt_region]]\n",
    "    txt_fdiry  = file.path(FD_RES, \"region\", txt_folder, \"summary\")\n",
    "    txt_fname  = \"description.tsv\"\n",
    "    txt_fpath  = file.path(txt_fdiry, txt_fname)\n",
    "    \n",
    "    dat_cname_region = read_tsv(txt_fpath, show_col_types = FALSE)\n",
    "\n",
    "    ### set column names/types for overlap score\n",
    "    vec_txt_cname = c(\n",
    "        paste(dat_cname_region$Name, \"A\", sep = \"_\"), \n",
    "        paste(dat_cname_assay$Name,  \"B\", sep = \"_\"), \n",
    "        \"Overlap\"\n",
    "    )\n",
    "\n",
    "    ### set directory and import region-assay overlap\n",
    "    txt_fdiry  = file.path(FD_RES, \"region_coverage_fcc_score\", txt_region, TXT_ASSAY)\n",
    "    txt_fname  = TXT_FNAME_INP\n",
    "    txt_fpath  = file.path(txt_fdiry, txt_fname)\n",
    "\n",
    "    ### read table\n",
    "    dat = read_tsv(txt_fpath, col_names = vec_txt_cname, show_col_types = FALSE)\n",
    "    return(dat)\n",
    "})\n",
    "\n",
    "### assign and show\n",
    "lst_dat_region_score_import = lst\n",
    "\n",
    "res = lapply(lst, dim)\n",
    "print(res)\n",
    "\n",
    "dat = lst[[1]]\n",
    "head(dat, 3)"
   ]
  },
  {
   "cell_type": "markdown",
   "id": "2b907a4d-a11e-4766-bf50-a7870321f61a",
   "metadata": {},
   "source": [
    "## Arrange table"
   ]
  },
  {
   "cell_type": "code",
   "execution_count": 11,
   "id": "cf968ac5-48e7-42dd-83c7-d198bce31975",
   "metadata": {},
   "outputs": [
    {
     "name": "stdout",
     "output_type": "stream",
     "text": [
      "$fcc_astarr_macs_input_overlap\n",
      "[1] 715720      7\n",
      "\n",
      "$fcc_astarr_macs_input_union\n",
      "[1] 824575      7\n",
      "\n"
     ]
    },
    {
     "data": {
      "text/html": [
       "<table class=\"dataframe\">\n",
       "<caption>A tibble: 3 × 7</caption>\n",
       "<thead>\n",
       "\t<tr><th scope=col>Chrom</th><th scope=col>ChromStart</th><th scope=col>ChromEnd</th><th scope=col>Region</th><th scope=col>Guide</th><th scope=col>Score</th><th scope=col>Sign</th></tr>\n",
       "\t<tr><th scope=col>&lt;chr&gt;</th><th scope=col>&lt;dbl&gt;</th><th scope=col>&lt;dbl&gt;</th><th scope=col>&lt;chr&gt;</th><th scope=col>&lt;chr&gt;</th><th scope=col>&lt;dbl&gt;</th><th scope=col>&lt;chr&gt;</th></tr>\n",
       "</thead>\n",
       "<tbody>\n",
       "\t<tr><td>chr1</td><td>605104</td><td>605675</td><td>chr1:605104-605675</td><td>chr1:605580-605581</td><td>-0.180660</td><td>neg</td></tr>\n",
       "\t<tr><td>chr1</td><td>605104</td><td>605675</td><td>chr1:605104-605675</td><td>chr1:605581-605582</td><td> 0.486646</td><td>pos</td></tr>\n",
       "\t<tr><td>chr1</td><td>605104</td><td>605675</td><td>chr1:605104-605675</td><td>chr1:605589-605590</td><td> 3.171240</td><td>pos</td></tr>\n",
       "</tbody>\n",
       "</table>\n"
      ],
      "text/latex": [
       "A tibble: 3 × 7\n",
       "\\begin{tabular}{lllllll}\n",
       " Chrom & ChromStart & ChromEnd & Region & Guide & Score & Sign\\\\\n",
       " <chr> & <dbl> & <dbl> & <chr> & <chr> & <dbl> & <chr>\\\\\n",
       "\\hline\n",
       "\t chr1 & 605104 & 605675 & chr1:605104-605675 & chr1:605580-605581 & -0.180660 & neg\\\\\n",
       "\t chr1 & 605104 & 605675 & chr1:605104-605675 & chr1:605581-605582 &  0.486646 & pos\\\\\n",
       "\t chr1 & 605104 & 605675 & chr1:605104-605675 & chr1:605589-605590 &  3.171240 & pos\\\\\n",
       "\\end{tabular}\n"
      ],
      "text/markdown": [
       "\n",
       "A tibble: 3 × 7\n",
       "\n",
       "| Chrom &lt;chr&gt; | ChromStart &lt;dbl&gt; | ChromEnd &lt;dbl&gt; | Region &lt;chr&gt; | Guide &lt;chr&gt; | Score &lt;dbl&gt; | Sign &lt;chr&gt; |\n",
       "|---|---|---|---|---|---|---|\n",
       "| chr1 | 605104 | 605675 | chr1:605104-605675 | chr1:605580-605581 | -0.180660 | neg |\n",
       "| chr1 | 605104 | 605675 | chr1:605104-605675 | chr1:605581-605582 |  0.486646 | pos |\n",
       "| chr1 | 605104 | 605675 | chr1:605104-605675 | chr1:605589-605590 |  3.171240 | pos |\n",
       "\n"
      ],
      "text/plain": [
       "  Chrom ChromStart ChromEnd Region             Guide              Score    \n",
       "1 chr1  605104     605675   chr1:605104-605675 chr1:605580-605581 -0.180660\n",
       "2 chr1  605104     605675   chr1:605104-605675 chr1:605581-605582  0.486646\n",
       "3 chr1  605104     605675   chr1:605104-605675 chr1:605589-605590  3.171240\n",
       "  Sign\n",
       "1 neg \n",
       "2 pos \n",
       "3 pos "
      ]
     },
     "metadata": {},
     "output_type": "display_data"
    }
   ],
   "source": [
    "lst = lst_dat_region_score_import\n",
    "lst = lapply(lst, function(dat){\n",
    "    ### setup the columns\n",
    "    dat = dat %>% \n",
    "        dplyr::mutate(\n",
    "            Chrom      = Chrom_A,\n",
    "            ChromStart = ChromStart_A,\n",
    "            ChromEnd   = ChromEnd_A,\n",
    "            Region     = fun_gen_region(Chrom_A, ChromStart_A, ChromEnd_A),\n",
    "            Guide      = fun_gen_region(Chrom_B, ChromStart_B, ChromEnd_B),\n",
    "            Score      = Score_B\n",
    "        ) %>%\n",
    "        dplyr::mutate(Sign = ifelse(Score > 0, \"pos\", \"neg\"))\n",
    "\n",
    "    ### select the columns\n",
    "    dat = dat %>%\n",
    "        dplyr::select(Chrom, ChromStart, ChromEnd, Region, Guide, Score, Sign) %>%\n",
    "        dplyr::distinct()\n",
    "    return(dat)\n",
    "})\n",
    "\n",
    "### assign and show\n",
    "lst_dat_region_score_arrange = lst\n",
    "\n",
    "res = lapply(lst, dim)\n",
    "print(res)\n",
    "\n",
    "dat = lst[[1]]\n",
    "head(dat, 3)"
   ]
  },
  {
   "cell_type": "markdown",
   "id": "907594fb-a3a5-4d0f-b73a-718d12df8268",
   "metadata": {},
   "source": [
    "## Summarize scores"
   ]
  },
  {
   "cell_type": "code",
   "execution_count": 12,
   "id": "ae60175e-8e20-46ba-9c1b-4f1d72a2505d",
   "metadata": {},
   "outputs": [
    {
     "name": "stdout",
     "output_type": "stream",
     "text": [
      "$fcc_astarr_macs_input_overlap\n",
      "[1] 72743    11\n",
      "\n",
      "$fcc_astarr_macs_input_union\n",
      "[1] 80288    11\n",
      "\n"
     ]
    },
    {
     "data": {
      "text/html": [
       "<table class=\"dataframe\">\n",
       "<caption>A tibble: 3 × 11</caption>\n",
       "<thead>\n",
       "\t<tr><th scope=col>Chrom</th><th scope=col>ChromStart</th><th scope=col>ChromEnd</th><th scope=col>Region</th><th scope=col>Mean</th><th scope=col>Median</th><th scope=col>Max</th><th scope=col>Min</th><th scope=col>Count</th><th scope=col>Mean_Neg</th><th scope=col>Mean_Pos</th></tr>\n",
       "\t<tr><th scope=col>&lt;chr&gt;</th><th scope=col>&lt;dbl&gt;</th><th scope=col>&lt;dbl&gt;</th><th scope=col>&lt;chr&gt;</th><th scope=col>&lt;dbl&gt;</th><th scope=col>&lt;dbl&gt;</th><th scope=col>&lt;dbl&gt;</th><th scope=col>&lt;dbl&gt;</th><th scope=col>&lt;int&gt;</th><th scope=col>&lt;dbl&gt;</th><th scope=col>&lt;dbl&gt;</th></tr>\n",
       "</thead>\n",
       "<tbody>\n",
       "\t<tr><td>chr1</td><td>605104</td><td>605675</td><td>chr1:605104-605675</td><td> 0.0904152</td><td>-0.2365345</td><td>3.171240</td><td>-0.774100</td><td>10</td><td>-0.3442168</td><td>1.8289430</td></tr>\n",
       "\t<tr><td>chr1</td><td>778233</td><td>779389</td><td>chr1:778233-779389</td><td> 0.1162065</td><td> 0.0869985</td><td>0.666834</td><td>-0.405530</td><td>10</td><td>-0.2424447</td><td>0.3553073</td></tr>\n",
       "\t<tr><td>chr1</td><td>817031</td><td>817525</td><td>chr1:817031-817525</td><td>-0.2753540</td><td>-0.4340535</td><td>1.049030</td><td>-0.928019</td><td> 6</td><td>-0.5402308</td><td>1.0490300</td></tr>\n",
       "</tbody>\n",
       "</table>\n"
      ],
      "text/latex": [
       "A tibble: 3 × 11\n",
       "\\begin{tabular}{lllllllllll}\n",
       " Chrom & ChromStart & ChromEnd & Region & Mean & Median & Max & Min & Count & Mean\\_Neg & Mean\\_Pos\\\\\n",
       " <chr> & <dbl> & <dbl> & <chr> & <dbl> & <dbl> & <dbl> & <dbl> & <int> & <dbl> & <dbl>\\\\\n",
       "\\hline\n",
       "\t chr1 & 605104 & 605675 & chr1:605104-605675 &  0.0904152 & -0.2365345 & 3.171240 & -0.774100 & 10 & -0.3442168 & 1.8289430\\\\\n",
       "\t chr1 & 778233 & 779389 & chr1:778233-779389 &  0.1162065 &  0.0869985 & 0.666834 & -0.405530 & 10 & -0.2424447 & 0.3553073\\\\\n",
       "\t chr1 & 817031 & 817525 & chr1:817031-817525 & -0.2753540 & -0.4340535 & 1.049030 & -0.928019 &  6 & -0.5402308 & 1.0490300\\\\\n",
       "\\end{tabular}\n"
      ],
      "text/markdown": [
       "\n",
       "A tibble: 3 × 11\n",
       "\n",
       "| Chrom &lt;chr&gt; | ChromStart &lt;dbl&gt; | ChromEnd &lt;dbl&gt; | Region &lt;chr&gt; | Mean &lt;dbl&gt; | Median &lt;dbl&gt; | Max &lt;dbl&gt; | Min &lt;dbl&gt; | Count &lt;int&gt; | Mean_Neg &lt;dbl&gt; | Mean_Pos &lt;dbl&gt; |\n",
       "|---|---|---|---|---|---|---|---|---|---|---|\n",
       "| chr1 | 605104 | 605675 | chr1:605104-605675 |  0.0904152 | -0.2365345 | 3.171240 | -0.774100 | 10 | -0.3442168 | 1.8289430 |\n",
       "| chr1 | 778233 | 779389 | chr1:778233-779389 |  0.1162065 |  0.0869985 | 0.666834 | -0.405530 | 10 | -0.2424447 | 0.3553073 |\n",
       "| chr1 | 817031 | 817525 | chr1:817031-817525 | -0.2753540 | -0.4340535 | 1.049030 | -0.928019 |  6 | -0.5402308 | 1.0490300 |\n",
       "\n"
      ],
      "text/plain": [
       "  Chrom ChromStart ChromEnd Region             Mean       Median     Max     \n",
       "1 chr1  605104     605675   chr1:605104-605675  0.0904152 -0.2365345 3.171240\n",
       "2 chr1  778233     779389   chr1:778233-779389  0.1162065  0.0869985 0.666834\n",
       "3 chr1  817031     817525   chr1:817031-817525 -0.2753540 -0.4340535 1.049030\n",
       "  Min       Count Mean_Neg   Mean_Pos \n",
       "1 -0.774100 10    -0.3442168 1.8289430\n",
       "2 -0.405530 10    -0.2424447 0.3553073\n",
       "3 -0.928019  6    -0.5402308 1.0490300"
      ]
     },
     "metadata": {},
     "output_type": "display_data"
    }
   ],
   "source": [
    "lst = lst_dat_region_score_arrange\n",
    "lst = lapply(lst, function(dat){\n",
    "    ### summarize scores by each target\n",
    "    dat_summary_total = dat %>%\n",
    "        dplyr::group_by(Chrom, ChromStart, ChromEnd, Region) %>%\n",
    "        dplyr::summarise(\n",
    "            Mean    = mean(Score),\n",
    "            Median  = median(Score),\n",
    "            Max     = max(Score),\n",
    "            Min     = min(Score),\n",
    "            Count   = n(),\n",
    "            .groups = \"drop\"\n",
    "        )\n",
    "    \n",
    "    ### summarize scores by sign (direction)\n",
    "    dat_summary_sign = dat %>%\n",
    "        dplyr::group_by(Chrom, ChromStart, ChromEnd, Region, Sign) %>%\n",
    "        dplyr::summarise(Mean = mean(Score), .groups = \"drop\") %>% \n",
    "        dplyr::mutate(Sign = dplyr::recode(Sign, `pos` = \"Mean_Pos\", `neg` = \"Mean_Neg\")) %>% \n",
    "        tidyr::spread(Sign, Mean)\n",
    "    \n",
    "    ### merge the results\n",
    "    vec = c(\"Chrom\", \"ChromStart\", \"ChromEnd\", \"Region\")\n",
    "    dat = dplyr::left_join(\n",
    "        dat_summary_total,\n",
    "        dat_summary_sign,\n",
    "        by = vec) %>% \n",
    "        replace(is.na(.), 0)\n",
    "    return(dat)\n",
    "})\n",
    "\n",
    "### assign and show\n",
    "lst_dat_region_score_summary = lst\n",
    "\n",
    "res = lapply(lst, dim)\n",
    "print(res)\n",
    "\n",
    "dat = lst[[1]]\n",
    "head(dat, 3)"
   ]
  },
  {
   "cell_type": "markdown",
   "id": "f9160396-60a4-43f6-adbf-415222207b58",
   "metadata": {},
   "source": [
    "## Save results"
   ]
  },
  {
   "cell_type": "code",
   "execution_count": 13,
   "id": "b7bd707e-9ed1-445d-96ea-950403ca7714",
   "metadata": {},
   "outputs": [
    {
     "name": "stdout",
     "output_type": "stream",
     "text": [
      "====================\n",
      "Region Folder: fcc_astarr_macs_input_overlap \n",
      "Assay  Folder: CRISPRi_Growth_K562_Gersbach_JinWoo \n",
      "\n",
      "Save file \n",
      "/data/reddylab/Kuei/repo/Proj_ENCODE_FCC/results/region_coverage_fcc_score/fcc_astarr_macs_input_overlap/CRISPRi_Growth_K562_Gersbach_JinWoo/summary \n",
      "region.coverage.score.tsv \n",
      "\n",
      "====================\n",
      "Region Folder: fcc_astarr_macs_input_union \n",
      "Assay  Folder: CRISPRi_Growth_K562_Gersbach_JinWoo \n",
      "\n",
      "Save file \n",
      "/data/reddylab/Kuei/repo/Proj_ENCODE_FCC/results/region_coverage_fcc_score/fcc_astarr_macs_input_union/CRISPRi_Growth_K562_Gersbach_JinWoo/summary \n",
      "region.coverage.score.tsv \n",
      "\n"
     ]
    }
   ],
   "source": [
    "for (txt_region in VEC_TXT_REGION){\n",
    "    ### show progress:\n",
    "    cat(\"====================\\n\")\n",
    "    cat(\"Region Folder:\", txt_region, \"\\n\")\n",
    "    cat(\"Assay  Folder:\", TXT_ASSAY,  \"\\n\")\n",
    "    cat(\"\\n\")\n",
    "    flush.console()\n",
    "    \n",
    "    ### get tables\n",
    "    dat_region_score_summary = lst_dat_region_score_summary[[txt_region]]\n",
    "    \n",
    "    ### set directory to save results\n",
    "    txt_fdiry = file.path(FD_RES, \"region_coverage_fcc_score\", txt_region, TXT_ASSAY, \"summary\")\n",
    "    txt_fname = TXT_FNAME_OUT\n",
    "    txt_fpath = file.path(txt_fdiry, txt_fname)\n",
    "    \n",
    "    ### write region coverage summary\n",
    "    dir.create(txt_fdiry, showWarnings = FALSE)\n",
    "    dat = dat_region_score_summary\n",
    "    dat = dat %>% dplyr::arrange(Chrom, ChromStart, ChromEnd)\n",
    "    write_tsv(dat, txt_fpath)\n",
    "\n",
    "    ### show progress\n",
    "    cat(\"Save file\", \"\\n\")\n",
    "    cat(txt_fdiry, \"\\n\")\n",
    "    cat(txt_fname, \"\\n\")\n",
    "    cat(\"\\n\")\n",
    "}"
   ]
  },
  {
   "cell_type": "code",
   "execution_count": null,
   "id": "98fd72a7-fd45-40d6-aec3-baa7b9865c30",
   "metadata": {},
   "outputs": [],
   "source": []
  },
  {
   "cell_type": "code",
   "execution_count": null,
   "id": "8a93e649-dc32-402d-994d-aa3a2c0d3968",
   "metadata": {},
   "outputs": [],
   "source": []
  },
  {
   "cell_type": "code",
   "execution_count": null,
   "id": "2baa4b06-3653-4d16-9c07-60727968d6c2",
   "metadata": {},
   "outputs": [],
   "source": []
  },
  {
   "cell_type": "code",
   "execution_count": null,
   "id": "98c8a96e-121c-4c55-8d9d-b2b0d2377c5e",
   "metadata": {},
   "outputs": [],
   "source": []
  },
  {
   "cell_type": "markdown",
   "id": "faff21bd-c72c-49d1-91e0-4a6cb961f589",
   "metadata": {},
   "source": [
    "## CRISPRi-Growth"
   ]
  },
  {
   "cell_type": "code",
   "execution_count": 8,
   "id": "d02b1d15-cd14-4bea-9803-96a9fc72e15a",
   "metadata": {},
   "outputs": [
    {
     "name": "stdout",
     "output_type": "stream",
     "text": [
      "====================\n",
      "Region Folder: fcc_astarr_macs_input_overlap \n",
      "Assay  Folder: CRISPRi_Growth_K562_Gersbach_JinWoo \n",
      "Import Files:\n",
      "[1] \"CRISPRi_Growth_K562.hg38.ZScore.unstranded.bed.gz\"\n",
      "\n",
      "====================\n",
      "Region Folder: fcc_astarr_macs_input_union \n",
      "Assay  Folder: CRISPRi_Growth_K562_Gersbach_JinWoo \n",
      "Import Files:\n",
      "[1] \"CRISPRi_Growth_K562.hg38.ZScore.unstranded.bed.gz\"\n",
      "\n",
      "$fcc_astarr_macs_input_overlap\n",
      "[1] 715720     11\n",
      "\n",
      "$fcc_astarr_macs_input_union\n",
      "[1] 824575     11\n",
      "\n"
     ]
    },
    {
     "data": {
      "text/html": [
       "<table class=\"dataframe\">\n",
       "<caption>A tibble: 3 × 11</caption>\n",
       "<thead>\n",
       "\t<tr><th scope=col>Chrom_A</th><th scope=col>ChromStart_A</th><th scope=col>ChromEnd_A</th><th scope=col>Region_A</th><th scope=col>Chrom_B</th><th scope=col>ChromStart_B</th><th scope=col>ChromEnd_B</th><th scope=col>Name_B</th><th scope=col>Score_B</th><th scope=col>Strand_B</th><th scope=col>Overlap</th></tr>\n",
       "\t<tr><th scope=col>&lt;chr&gt;</th><th scope=col>&lt;dbl&gt;</th><th scope=col>&lt;dbl&gt;</th><th scope=col>&lt;chr&gt;</th><th scope=col>&lt;chr&gt;</th><th scope=col>&lt;dbl&gt;</th><th scope=col>&lt;dbl&gt;</th><th scope=col>&lt;chr&gt;</th><th scope=col>&lt;dbl&gt;</th><th scope=col>&lt;chr&gt;</th><th scope=col>&lt;dbl&gt;</th></tr>\n",
       "</thead>\n",
       "<tbody>\n",
       "\t<tr><td>chr1</td><td>605104</td><td>605675</td><td>chr1:605104-605675</td><td>chr1</td><td>605580</td><td>605581</td><td>id-1</td><td>-0.180660</td><td>.</td><td>1</td></tr>\n",
       "\t<tr><td>chr1</td><td>605104</td><td>605675</td><td>chr1:605104-605675</td><td>chr1</td><td>605581</td><td>605582</td><td>id-2</td><td> 0.486646</td><td>.</td><td>1</td></tr>\n",
       "\t<tr><td>chr1</td><td>605104</td><td>605675</td><td>chr1:605104-605675</td><td>chr1</td><td>605589</td><td>605590</td><td>id-3</td><td> 3.171240</td><td>.</td><td>1</td></tr>\n",
       "</tbody>\n",
       "</table>\n"
      ],
      "text/latex": [
       "A tibble: 3 × 11\n",
       "\\begin{tabular}{lllllllllll}\n",
       " Chrom\\_A & ChromStart\\_A & ChromEnd\\_A & Region\\_A & Chrom\\_B & ChromStart\\_B & ChromEnd\\_B & Name\\_B & Score\\_B & Strand\\_B & Overlap\\\\\n",
       " <chr> & <dbl> & <dbl> & <chr> & <chr> & <dbl> & <dbl> & <chr> & <dbl> & <chr> & <dbl>\\\\\n",
       "\\hline\n",
       "\t chr1 & 605104 & 605675 & chr1:605104-605675 & chr1 & 605580 & 605581 & id-1 & -0.180660 & . & 1\\\\\n",
       "\t chr1 & 605104 & 605675 & chr1:605104-605675 & chr1 & 605581 & 605582 & id-2 &  0.486646 & . & 1\\\\\n",
       "\t chr1 & 605104 & 605675 & chr1:605104-605675 & chr1 & 605589 & 605590 & id-3 &  3.171240 & . & 1\\\\\n",
       "\\end{tabular}\n"
      ],
      "text/markdown": [
       "\n",
       "A tibble: 3 × 11\n",
       "\n",
       "| Chrom_A &lt;chr&gt; | ChromStart_A &lt;dbl&gt; | ChromEnd_A &lt;dbl&gt; | Region_A &lt;chr&gt; | Chrom_B &lt;chr&gt; | ChromStart_B &lt;dbl&gt; | ChromEnd_B &lt;dbl&gt; | Name_B &lt;chr&gt; | Score_B &lt;dbl&gt; | Strand_B &lt;chr&gt; | Overlap &lt;dbl&gt; |\n",
       "|---|---|---|---|---|---|---|---|---|---|---|\n",
       "| chr1 | 605104 | 605675 | chr1:605104-605675 | chr1 | 605580 | 605581 | id-1 | -0.180660 | . | 1 |\n",
       "| chr1 | 605104 | 605675 | chr1:605104-605675 | chr1 | 605581 | 605582 | id-2 |  0.486646 | . | 1 |\n",
       "| chr1 | 605104 | 605675 | chr1:605104-605675 | chr1 | 605589 | 605590 | id-3 |  3.171240 | . | 1 |\n",
       "\n"
      ],
      "text/plain": [
       "  Chrom_A ChromStart_A ChromEnd_A Region_A           Chrom_B ChromStart_B\n",
       "1 chr1    605104       605675     chr1:605104-605675 chr1    605580      \n",
       "2 chr1    605104       605675     chr1:605104-605675 chr1    605581      \n",
       "3 chr1    605104       605675     chr1:605104-605675 chr1    605589      \n",
       "  ChromEnd_B Name_B Score_B   Strand_B Overlap\n",
       "1 605581     id-1   -0.180660 .        1      \n",
       "2 605582     id-2    0.486646 .        1      \n",
       "3 605590     id-3    3.171240 .        1      "
      ]
     },
     "metadata": {},
     "output_type": "display_data"
    }
   ],
   "source": [
    "### init\n",
    "txt_assay = \"CRISPRi_Growth_K562_Gersbach_JinWoo\"\n",
    "txt_fname_import = \"CRISPRi_Growth_K562.hg38.ZScore.unstranded.bed.gz\"\n",
    "\n",
    "lst = lapply(VEC_TXT_REGION, function(txt_region){\n",
    "    ### init:\n",
    "    txt_fdiry     = file.path(FD_RES, \"region_coverage_fcc\", txt_region, txt_assay, \"overlap_score\")\n",
    "    vec_txt_fname = dir(txt_fdiry)\n",
    "    \n",
    "    ### show progress:\n",
    "    cat(\"====================\\n\")\n",
    "    cat(\"Region Folder:\", txt_region, \"\\n\")\n",
    "    cat(\"Assay  Folder:\", txt_assay,  \"\\n\")\n",
    "    cat(\"Import Files:\\n\")\n",
    "    print(txt_fname_import)\n",
    "    cat(\"\\n\")\n",
    "    flush.console()\n",
    "    \n",
    "    ### set directory and import assay description\n",
    "    txt_fdiry = file.path(FD_RES, \"assay_fcc\", txt_assay, \"coverage\", \"summary\")\n",
    "    txt_fname = \"description.tsv\"\n",
    "    txt_fpath = file.path(txt_fdiry, txt_fname)\n",
    "\n",
    "    dat_cname_assay = read_tsv(txt_fpath, show_col_types = FALSE)\n",
    "\n",
    "    ### set directory and import region description\n",
    "    txt_folder = lst_txt_folder[[txt_region]]\n",
    "    txt_fdiry  = file.path(FD_RES, \"region\", txt_folder, \"summary\")\n",
    "    txt_fname  = \"description.tsv\"\n",
    "    txt_fpath  = file.path(txt_fdiry, txt_fname)\n",
    "    \n",
    "    dat_cname_region = read_tsv(txt_fpath, show_col_types = FALSE)\n",
    "\n",
    "    ### set column names/types for overlap score\n",
    "    vec_txt_cname = c(\n",
    "        paste(dat_cname_region$Name, \"A\", sep = \"_\"), \n",
    "        paste(dat_cname_assay$Name,  \"B\", sep = \"_\"), \n",
    "        \"Overlap\"\n",
    "    )\n",
    "\n",
    "    ### set directory and import region-assay overlap\n",
    "    txt_folder = \"overlap_score\"\n",
    "    txt_fdiry  = file.path(FD_RES, \"region_coverage_fcc\", txt_region, txt_assay, txt_folder)\n",
    "    txt_fname  = txt_fname_import\n",
    "    txt_fpath  = file.path(txt_fdiry, txt_fname)\n",
    "\n",
    "    ### read table\n",
    "    dat = read_tsv(txt_fpath, col_names = vec_txt_cname, show_col_types = FALSE)\n",
    "    return(dat)\n",
    "})\n",
    "\n",
    "### assign and show\n",
    "lst_dat_region_score_import = lst\n",
    "\n",
    "res = lapply(lst, dim)\n",
    "print(res)\n",
    "\n",
    "dat = lst[[1]]\n",
    "head(dat, 3)"
   ]
  },
  {
   "cell_type": "code",
   "execution_count": 11,
   "id": "de9b7317-818d-4125-9efc-7fff4fdfb5db",
   "metadata": {},
   "outputs": [
    {
     "name": "stdout",
     "output_type": "stream",
     "text": [
      "====================\n",
      "Region Folder: fcc_astarr_macs_input_overlap \n",
      "Assay  Folder: CRISPRi_Growth_K562_Gersbach_JinWoo \n",
      "Import Files:\n",
      "[1] \"CRISPRi_Growth_K562.hg38.ZScore.unstranded.bed.gz\"\n",
      "\n",
      "Save Files:\n",
      "[1] \"/data/reddylab/Kuei/repo/Proj_ENCODE_FCC/results/region_coverage_fcc/fcc_astarr_macs_input_overlap/CRISPRi_Growth_K562_Gersbach_JinWoo/overlap_score/summary/result.coverage.score.tsv\"\n",
      "\n",
      "====================\n",
      "Region Folder: fcc_astarr_macs_input_union \n",
      "Assay  Folder: CRISPRi_Growth_K562_Gersbach_JinWoo \n",
      "Import Files:\n",
      "[1] \"CRISPRi_Growth_K562.hg38.ZScore.unstranded.bed.gz\"\n",
      "\n",
      "Save Files:\n",
      "[1] \"/data/reddylab/Kuei/repo/Proj_ENCODE_FCC/results/region_coverage_fcc/fcc_astarr_macs_input_union/CRISPRi_Growth_K562_Gersbach_JinWoo/overlap_score/summary/result.coverage.score.tsv\"\n",
      "\n"
     ]
    }
   ],
   "source": [
    "### init\n",
    "txt_assay = \"CRISPRi_Growth_K562_Gersbach_JinWoo\"\n",
    "txt_fname_import = \"CRISPRi_Growth_K562.hg38.ZScore.unstranded.bed.gz\"\n",
    "\n",
    "for (txt_region in VEC_TXT_REGION){\n",
    "    ### init:\n",
    "    txt_fdiry     = file.path(FD_RES, \"region_coverage_fcc\", txt_region, txt_assay, \"overlap_score\")\n",
    "    vec_txt_fname = dir(txt_fdiry)\n",
    "    \n",
    "    ### show progress:\n",
    "    cat(\"====================\\n\")\n",
    "    cat(\"Region Folder:\", txt_region, \"\\n\")\n",
    "    cat(\"Assay  Folder:\", txt_assay,  \"\\n\")\n",
    "    cat(\"Import Files:\\n\")\n",
    "    print(txt_fname_import)\n",
    "    cat(\"\\n\")\n",
    "    flush.console()\n",
    "    \n",
    "    ### set directory and import assay description\n",
    "    txt_fdiry = file.path(FD_RES, \"assay_fcc\", txt_assay, \"coverage\", \"summary\")\n",
    "    txt_fname = \"description.tsv\"\n",
    "    txt_fpath = file.path(txt_fdiry, txt_fname)\n",
    "\n",
    "    dat_cname_assay = read_tsv(txt_fpath, show_col_types = FALSE)\n",
    "\n",
    "    ### set directory and import region description\n",
    "    txt_folder = lst_txt_folder[[txt_region]]\n",
    "    txt_fdiry  = file.path(FD_RES, \"region\", txt_folder, \"summary\")\n",
    "    txt_fname  = \"description.tsv\"\n",
    "    txt_fpath  = file.path(txt_fdiry, txt_fname)\n",
    "    \n",
    "    dat_cname_region = read_tsv(txt_fpath, show_col_types = FALSE)\n",
    "\n",
    "    ### set column names/types for overlap score\n",
    "    vec_txt_cname = c(\n",
    "        paste(dat_cname_region$Name, \"A\", sep = \"_\"), \n",
    "        paste(dat_cname_assay$Name,  \"B\", sep = \"_\"), \n",
    "        \"Overlap\"\n",
    "    )\n",
    "\n",
    "    ### set directory and import region-assay overlap\n",
    "    txt_folder = \"overlap_score\"\n",
    "    txt_fdiry  = file.path(FD_RES, \"region_coverage_fcc\", txt_region, txt_assay, txt_folder)\n",
    "    txt_fname  = txt_fname_import\n",
    "    txt_fpath  = file.path(txt_fdiry, txt_fname)\n",
    "\n",
    "    dat_overlap_import = read_tsv(txt_fpath, col_names = vec_txt_cname, show_col_types = FALSE)\n",
    "    \n",
    "    ### arrange overlapped scores\n",
    "    dat = dat_overlap_import\n",
    "    dat = dat %>% \n",
    "        dplyr::mutate(\n",
    "            Chrom      = Chrom_A,\n",
    "            ChromStart = ChromStart_A,\n",
    "            ChromEnd   = ChromEnd_A,\n",
    "            Region     = fun_gen_region(Chrom_A, ChromStart_A, ChromEnd_A),\n",
    "            Score      = Score_B,\n",
    "            Sign       = ifelse(Score > 0, \"pos\", \"neg\")\n",
    "        )\n",
    "    dat_overlap_arrange = dat\n",
    "    \n",
    "    ### summarize scores for each region\n",
    "    dat = dat_overlap_arrange\n",
    "    dat = dat %>% \n",
    "        dplyr::group_by(Chrom, ChromStart, ChromEnd, Region) %>%\n",
    "        dplyr::summarise(\n",
    "            Mean    = mean(Score),\n",
    "            Median  = median(Score),\n",
    "            AbsMax  = fun_get_absmax(Score),\n",
    "            Max     = max(Score),\n",
    "            Min     = min(Score),\n",
    "            Count   = n(),\n",
    "            .groups = \"drop\"\n",
    "        )\n",
    "    dat_score_summary_total = dat\n",
    "\n",
    "    ### summarize scores for each region + sign\n",
    "    dat = dat_overlap_arrange\n",
    "    dat = dat %>%\n",
    "        dplyr::group_by(Region, Sign) %>%\n",
    "        dplyr::summarise(Mean = mean(Score), .groups = \"drop\") %>%\n",
    "        dplyr::mutate(Sign = dplyr::recode(Sign, `pos` = \"Mean_Pos\", `neg` = \"Mean_Neg\")) %>% \n",
    "        tidyr::spread(Sign, Mean) %>% \n",
    "        replace(is.na(.), 0)\n",
    "    dat_score_summary_sign = dat\n",
    "    \n",
    "    ### combine score summaries\n",
    "    dat = dplyr::left_join(\n",
    "        dat_score_summary_total,\n",
    "        dat_score_summary_sign,\n",
    "        by = c(\"Region\"))\n",
    "    dat_score_summary = dat\n",
    "    \n",
    "    ### set directory to save results\n",
    "    txt_folder = \"overlap_score\"\n",
    "    txt_fdiry  = file.path(FD_RES, \"region_coverage_fcc\", txt_region, txt_assay, txt_folder, \"summary\")\n",
    "    txt_fname = \"result.coverage.score.tsv\"\n",
    "    txt_fpath  = file.path(txt_fdiry, txt_fname)\n",
    "\n",
    "    ### export region scores\n",
    "    txt_cmd = paste(\"mkdir -p\", txt_fdiry)\n",
    "    system(txt_cmd)\n",
    "    dat = dat_score_summary\n",
    "    dat = dat %>% dplyr::arrange(Chrom, ChromStart, ChromEnd)\n",
    "    write_tsv(dat, txt_fpath)\n",
    "    \n",
    "    ### show progress:\n",
    "    cat(\"Save Files:\\n\")\n",
    "    print(txt_fpath)\n",
    "    cat(\"\\n\")\n",
    "    flush.console()\n",
    "}"
   ]
  },
  {
   "cell_type": "code",
   "execution_count": 9,
   "id": "0a967e8d-20ec-4d4a-ba40-e0683067ec87",
   "metadata": {},
   "outputs": [
    {
     "data": {
      "text/html": [
       "<table class=\"dataframe\">\n",
       "<caption>A tibble: 6 × 11</caption>\n",
       "<thead>\n",
       "\t<tr><th scope=col>Chrom_A</th><th scope=col>ChromStart_A</th><th scope=col>ChromEnd_A</th><th scope=col>Region_A</th><th scope=col>Chrom_B</th><th scope=col>ChromStart_B</th><th scope=col>ChromEnd_B</th><th scope=col>Name_B</th><th scope=col>Score_B</th><th scope=col>Strand_B</th><th scope=col>Overlap</th></tr>\n",
       "\t<tr><th scope=col>&lt;chr&gt;</th><th scope=col>&lt;dbl&gt;</th><th scope=col>&lt;dbl&gt;</th><th scope=col>&lt;chr&gt;</th><th scope=col>&lt;chr&gt;</th><th scope=col>&lt;dbl&gt;</th><th scope=col>&lt;dbl&gt;</th><th scope=col>&lt;chr&gt;</th><th scope=col>&lt;dbl&gt;</th><th scope=col>&lt;chr&gt;</th><th scope=col>&lt;dbl&gt;</th></tr>\n",
       "</thead>\n",
       "<tbody>\n",
       "\t<tr><td>chr1</td><td>605090</td><td>605823</td><td>chr1:605090-605823</td><td>chr1</td><td>605580</td><td>605581</td><td>id-1</td><td>-0.180660</td><td>.</td><td>1</td></tr>\n",
       "\t<tr><td>chr1</td><td>605090</td><td>605823</td><td>chr1:605090-605823</td><td>chr1</td><td>605581</td><td>605582</td><td>id-2</td><td> 0.486646</td><td>.</td><td>1</td></tr>\n",
       "\t<tr><td>chr1</td><td>605090</td><td>605823</td><td>chr1:605090-605823</td><td>chr1</td><td>605589</td><td>605590</td><td>id-3</td><td> 3.171240</td><td>.</td><td>1</td></tr>\n",
       "\t<tr><td>chr1</td><td>605090</td><td>605823</td><td>chr1:605090-605823</td><td>chr1</td><td>605591</td><td>605592</td><td>id-4</td><td>-0.364573</td><td>.</td><td>1</td></tr>\n",
       "\t<tr><td>chr1</td><td>605090</td><td>605823</td><td>chr1:605090-605823</td><td>chr1</td><td>605592</td><td>605593</td><td>id-5</td><td>-0.206319</td><td>.</td><td>1</td></tr>\n",
       "\t<tr><td>chr1</td><td>605090</td><td>605823</td><td>chr1:605090-605823</td><td>chr1</td><td>605609</td><td>605610</td><td>id-6</td><td>-0.266750</td><td>.</td><td>1</td></tr>\n",
       "</tbody>\n",
       "</table>\n"
      ],
      "text/latex": [
       "A tibble: 6 × 11\n",
       "\\begin{tabular}{lllllllllll}\n",
       " Chrom\\_A & ChromStart\\_A & ChromEnd\\_A & Region\\_A & Chrom\\_B & ChromStart\\_B & ChromEnd\\_B & Name\\_B & Score\\_B & Strand\\_B & Overlap\\\\\n",
       " <chr> & <dbl> & <dbl> & <chr> & <chr> & <dbl> & <dbl> & <chr> & <dbl> & <chr> & <dbl>\\\\\n",
       "\\hline\n",
       "\t chr1 & 605090 & 605823 & chr1:605090-605823 & chr1 & 605580 & 605581 & id-1 & -0.180660 & . & 1\\\\\n",
       "\t chr1 & 605090 & 605823 & chr1:605090-605823 & chr1 & 605581 & 605582 & id-2 &  0.486646 & . & 1\\\\\n",
       "\t chr1 & 605090 & 605823 & chr1:605090-605823 & chr1 & 605589 & 605590 & id-3 &  3.171240 & . & 1\\\\\n",
       "\t chr1 & 605090 & 605823 & chr1:605090-605823 & chr1 & 605591 & 605592 & id-4 & -0.364573 & . & 1\\\\\n",
       "\t chr1 & 605090 & 605823 & chr1:605090-605823 & chr1 & 605592 & 605593 & id-5 & -0.206319 & . & 1\\\\\n",
       "\t chr1 & 605090 & 605823 & chr1:605090-605823 & chr1 & 605609 & 605610 & id-6 & -0.266750 & . & 1\\\\\n",
       "\\end{tabular}\n"
      ],
      "text/markdown": [
       "\n",
       "A tibble: 6 × 11\n",
       "\n",
       "| Chrom_A &lt;chr&gt; | ChromStart_A &lt;dbl&gt; | ChromEnd_A &lt;dbl&gt; | Region_A &lt;chr&gt; | Chrom_B &lt;chr&gt; | ChromStart_B &lt;dbl&gt; | ChromEnd_B &lt;dbl&gt; | Name_B &lt;chr&gt; | Score_B &lt;dbl&gt; | Strand_B &lt;chr&gt; | Overlap &lt;dbl&gt; |\n",
       "|---|---|---|---|---|---|---|---|---|---|---|\n",
       "| chr1 | 605090 | 605823 | chr1:605090-605823 | chr1 | 605580 | 605581 | id-1 | -0.180660 | . | 1 |\n",
       "| chr1 | 605090 | 605823 | chr1:605090-605823 | chr1 | 605581 | 605582 | id-2 |  0.486646 | . | 1 |\n",
       "| chr1 | 605090 | 605823 | chr1:605090-605823 | chr1 | 605589 | 605590 | id-3 |  3.171240 | . | 1 |\n",
       "| chr1 | 605090 | 605823 | chr1:605090-605823 | chr1 | 605591 | 605592 | id-4 | -0.364573 | . | 1 |\n",
       "| chr1 | 605090 | 605823 | chr1:605090-605823 | chr1 | 605592 | 605593 | id-5 | -0.206319 | . | 1 |\n",
       "| chr1 | 605090 | 605823 | chr1:605090-605823 | chr1 | 605609 | 605610 | id-6 | -0.266750 | . | 1 |\n",
       "\n"
      ],
      "text/plain": [
       "  Chrom_A ChromStart_A ChromEnd_A Region_A           Chrom_B ChromStart_B\n",
       "1 chr1    605090       605823     chr1:605090-605823 chr1    605580      \n",
       "2 chr1    605090       605823     chr1:605090-605823 chr1    605581      \n",
       "3 chr1    605090       605823     chr1:605090-605823 chr1    605589      \n",
       "4 chr1    605090       605823     chr1:605090-605823 chr1    605591      \n",
       "5 chr1    605090       605823     chr1:605090-605823 chr1    605592      \n",
       "6 chr1    605090       605823     chr1:605090-605823 chr1    605609      \n",
       "  ChromEnd_B Name_B Score_B   Strand_B Overlap\n",
       "1 605581     id-1   -0.180660 .        1      \n",
       "2 605582     id-2    0.486646 .        1      \n",
       "3 605590     id-3    3.171240 .        1      \n",
       "4 605592     id-4   -0.364573 .        1      \n",
       "5 605593     id-5   -0.206319 .        1      \n",
       "6 605610     id-6   -0.266750 .        1      "
      ]
     },
     "metadata": {},
     "output_type": "display_data"
    }
   ],
   "source": [
    "dat = dat_overlap_import\n",
    "head(dat)"
   ]
  },
  {
   "cell_type": "code",
   "execution_count": 10,
   "id": "8321ade2-7aee-4998-b593-59e64f0d51f0",
   "metadata": {},
   "outputs": [
    {
     "name": "stdout",
     "output_type": "stream",
     "text": [
      "\n",
      " chr1 chr10 chr11 chr12 chr13 chr14 chr15 chr16 chr17 chr18 chr19  chr2 chr20 \n",
      " 9044  3591  4474  3875  1095  2068  2720  3541  4314  1260  4394  5550  2543 \n",
      "chr21 chr22  chr3  chr4  chr5  chr6  chr7  chr8  chr9  chrX \n",
      " 1099  2016  4454  2772  3801  4671  4543  3186  3269  2008 \n"
     ]
    },
    {
     "data": {
      "text/html": [
       "<table>\n",
       " <thead>\n",
       "  <tr>\n",
       "   <th style=\"text-align:left;\"> Chrom </th>\n",
       "   <th style=\"text-align:right;\"> ChromStart </th>\n",
       "   <th style=\"text-align:right;\"> ChromEnd </th>\n",
       "   <th style=\"text-align:left;\"> Region </th>\n",
       "   <th style=\"text-align:right;\"> Mean </th>\n",
       "   <th style=\"text-align:right;\"> Median </th>\n",
       "   <th style=\"text-align:right;\"> AbsMax </th>\n",
       "   <th style=\"text-align:right;\"> Max </th>\n",
       "   <th style=\"text-align:right;\"> Min </th>\n",
       "   <th style=\"text-align:right;\"> Count </th>\n",
       "   <th style=\"text-align:right;\"> Mean_Neg </th>\n",
       "   <th style=\"text-align:right;\"> Mean_Pos </th>\n",
       "  </tr>\n",
       " </thead>\n",
       "<tbody>\n",
       "  <tr>\n",
       "   <td style=\"text-align:left;\"> chr1 </td>\n",
       "   <td style=\"text-align:right;\"> 605090 </td>\n",
       "   <td style=\"text-align:right;\"> 605823 </td>\n",
       "   <td style=\"text-align:left;\"> chr1:605090-605823 </td>\n",
       "   <td style=\"text-align:right;\"> 0.0904152 </td>\n",
       "   <td style=\"text-align:right;\"> -0.2365345 </td>\n",
       "   <td style=\"text-align:right;\"> 3.171240 </td>\n",
       "   <td style=\"text-align:right;\"> 3.171240 </td>\n",
       "   <td style=\"text-align:right;\"> -0.774100 </td>\n",
       "   <td style=\"text-align:right;\"> 10 </td>\n",
       "   <td style=\"text-align:right;\"> -0.3442168 </td>\n",
       "   <td style=\"text-align:right;\"> 1.8289430 </td>\n",
       "  </tr>\n",
       "  <tr>\n",
       "   <td style=\"text-align:left;\"> chr1 </td>\n",
       "   <td style=\"text-align:right;\"> 777949 </td>\n",
       "   <td style=\"text-align:right;\"> 779437 </td>\n",
       "   <td style=\"text-align:left;\"> chr1:777949-779437 </td>\n",
       "   <td style=\"text-align:right;\"> 0.1162065 </td>\n",
       "   <td style=\"text-align:right;\"> 0.0869985 </td>\n",
       "   <td style=\"text-align:right;\"> 0.666834 </td>\n",
       "   <td style=\"text-align:right;\"> 0.666834 </td>\n",
       "   <td style=\"text-align:right;\"> -0.405530 </td>\n",
       "   <td style=\"text-align:right;\"> 10 </td>\n",
       "   <td style=\"text-align:right;\"> -0.2424447 </td>\n",
       "   <td style=\"text-align:right;\"> 0.3553073 </td>\n",
       "  </tr>\n",
       "  <tr>\n",
       "   <td style=\"text-align:left;\"> chr1 </td>\n",
       "   <td style=\"text-align:right;\"> 816774 </td>\n",
       "   <td style=\"text-align:right;\"> 817547 </td>\n",
       "   <td style=\"text-align:left;\"> chr1:816774-817547 </td>\n",
       "   <td style=\"text-align:right;\"> -0.1820106 </td>\n",
       "   <td style=\"text-align:right;\"> -0.3681095 </td>\n",
       "   <td style=\"text-align:right;\"> 1.049030 </td>\n",
       "   <td style=\"text-align:right;\"> 1.049030 </td>\n",
       "   <td style=\"text-align:right;\"> -0.928019 </td>\n",
       "   <td style=\"text-align:right;\"> 8 </td>\n",
       "   <td style=\"text-align:right;\"> -0.5017798 </td>\n",
       "   <td style=\"text-align:right;\"> 0.7772970 </td>\n",
       "  </tr>\n",
       "  <tr>\n",
       "   <td style=\"text-align:left;\"> chr1 </td>\n",
       "   <td style=\"text-align:right;\"> 826754 </td>\n",
       "   <td style=\"text-align:right;\"> 828040 </td>\n",
       "   <td style=\"text-align:left;\"> chr1:826754-828040 </td>\n",
       "   <td style=\"text-align:right;\"> -0.1634086 </td>\n",
       "   <td style=\"text-align:right;\"> 0.0540820 </td>\n",
       "   <td style=\"text-align:right;\"> -1.109290 </td>\n",
       "   <td style=\"text-align:right;\"> 0.455815 </td>\n",
       "   <td style=\"text-align:right;\"> -1.109290 </td>\n",
       "   <td style=\"text-align:right;\"> 10 </td>\n",
       "   <td style=\"text-align:right;\"> -0.6708465 </td>\n",
       "   <td style=\"text-align:right;\"> 0.1748833 </td>\n",
       "  </tr>\n",
       "  <tr>\n",
       "   <td style=\"text-align:left;\"> chr1 </td>\n",
       "   <td style=\"text-align:right;\"> 842480 </td>\n",
       "   <td style=\"text-align:right;\"> 843449 </td>\n",
       "   <td style=\"text-align:left;\"> chr1:842480-843449 </td>\n",
       "   <td style=\"text-align:right;\"> -0.1534377 </td>\n",
       "   <td style=\"text-align:right;\"> -0.1342135 </td>\n",
       "   <td style=\"text-align:right;\"> -1.155270 </td>\n",
       "   <td style=\"text-align:right;\"> 0.595066 </td>\n",
       "   <td style=\"text-align:right;\"> -1.155270 </td>\n",
       "   <td style=\"text-align:right;\"> 10 </td>\n",
       "   <td style=\"text-align:right;\"> -0.3755820 </td>\n",
       "   <td style=\"text-align:right;\"> 0.3648990 </td>\n",
       "  </tr>\n",
       "  <tr>\n",
       "   <td style=\"text-align:left;\"> chr1 </td>\n",
       "   <td style=\"text-align:right;\"> 858023 </td>\n",
       "   <td style=\"text-align:right;\"> 859008 </td>\n",
       "   <td style=\"text-align:left;\"> chr1:858023-859008 </td>\n",
       "   <td style=\"text-align:right;\"> -0.1097497 </td>\n",
       "   <td style=\"text-align:right;\"> -0.0834595 </td>\n",
       "   <td style=\"text-align:right;\"> 1.046400 </td>\n",
       "   <td style=\"text-align:right;\"> 1.046400 </td>\n",
       "   <td style=\"text-align:right;\"> -0.673025 </td>\n",
       "   <td style=\"text-align:right;\"> 18 </td>\n",
       "   <td style=\"text-align:right;\"> -0.3147057 </td>\n",
       "   <td style=\"text-align:right;\"> 0.3001623 </td>\n",
       "  </tr>\n",
       "</tbody>\n",
       "</table>"
      ]
     },
     "metadata": {},
     "output_type": "display_data"
    }
   ],
   "source": [
    "dat = dat_score_summary\n",
    "print(table(dat$Chrom))\n",
    "fun_display_table(head(dat))"
   ]
  },
  {
   "cell_type": "code",
   "execution_count": null,
   "id": "0ffca3b6-6d1f-4bf0-8732-a44c6ad2a6b3",
   "metadata": {},
   "outputs": [],
   "source": []
  },
  {
   "cell_type": "code",
   "execution_count": null,
   "id": "78c3ced3-0d11-4581-9024-9917091212ad",
   "metadata": {},
   "outputs": [],
   "source": []
  },
  {
   "cell_type": "code",
   "execution_count": 18,
   "id": "a7ef6925-08f2-497e-8c42-708f995f34c5",
   "metadata": {},
   "outputs": [
    {
     "data": {
      "text/html": [
       "<table class=\"dataframe\">\n",
       "<caption>A tibble: 6 × 10</caption>\n",
       "<thead>\n",
       "\t<tr><th scope=col>Chrom_A</th><th scope=col>ChromStart_A</th><th scope=col>ChromEnd_A</th><th scope=col>Chrom_B</th><th scope=col>ChromStart_B</th><th scope=col>ChromEnd_B</th><th scope=col>Name_B</th><th scope=col>Score_B</th><th scope=col>Strand_B</th><th scope=col>Overlap</th></tr>\n",
       "\t<tr><th scope=col>&lt;chr&gt;</th><th scope=col>&lt;dbl&gt;</th><th scope=col>&lt;dbl&gt;</th><th scope=col>&lt;chr&gt;</th><th scope=col>&lt;dbl&gt;</th><th scope=col>&lt;dbl&gt;</th><th scope=col>&lt;chr&gt;</th><th scope=col>&lt;dbl&gt;</th><th scope=col>&lt;chr&gt;</th><th scope=col>&lt;dbl&gt;</th></tr>\n",
       "</thead>\n",
       "<tbody>\n",
       "\t<tr><td>chr1</td><td>605104</td><td>605675</td><td>chr1</td><td>605580</td><td>605581</td><td>id-1</td><td>-0.180660</td><td>.</td><td>1</td></tr>\n",
       "\t<tr><td>chr1</td><td>605104</td><td>605675</td><td>chr1</td><td>605581</td><td>605582</td><td>id-2</td><td> 0.486646</td><td>.</td><td>1</td></tr>\n",
       "\t<tr><td>chr1</td><td>605104</td><td>605675</td><td>chr1</td><td>605589</td><td>605590</td><td>id-3</td><td> 3.171240</td><td>.</td><td>1</td></tr>\n",
       "\t<tr><td>chr1</td><td>605104</td><td>605675</td><td>chr1</td><td>605591</td><td>605592</td><td>id-4</td><td>-0.364573</td><td>.</td><td>1</td></tr>\n",
       "\t<tr><td>chr1</td><td>605104</td><td>605675</td><td>chr1</td><td>605592</td><td>605593</td><td>id-5</td><td>-0.206319</td><td>.</td><td>1</td></tr>\n",
       "\t<tr><td>chr1</td><td>605104</td><td>605675</td><td>chr1</td><td>605609</td><td>605610</td><td>id-6</td><td>-0.266750</td><td>.</td><td>1</td></tr>\n",
       "</tbody>\n",
       "</table>\n"
      ],
      "text/latex": [
       "A tibble: 6 × 10\n",
       "\\begin{tabular}{llllllllll}\n",
       " Chrom\\_A & ChromStart\\_A & ChromEnd\\_A & Chrom\\_B & ChromStart\\_B & ChromEnd\\_B & Name\\_B & Score\\_B & Strand\\_B & Overlap\\\\\n",
       " <chr> & <dbl> & <dbl> & <chr> & <dbl> & <dbl> & <chr> & <dbl> & <chr> & <dbl>\\\\\n",
       "\\hline\n",
       "\t chr1 & 605104 & 605675 & chr1 & 605580 & 605581 & id-1 & -0.180660 & . & 1\\\\\n",
       "\t chr1 & 605104 & 605675 & chr1 & 605581 & 605582 & id-2 &  0.486646 & . & 1\\\\\n",
       "\t chr1 & 605104 & 605675 & chr1 & 605589 & 605590 & id-3 &  3.171240 & . & 1\\\\\n",
       "\t chr1 & 605104 & 605675 & chr1 & 605591 & 605592 & id-4 & -0.364573 & . & 1\\\\\n",
       "\t chr1 & 605104 & 605675 & chr1 & 605592 & 605593 & id-5 & -0.206319 & . & 1\\\\\n",
       "\t chr1 & 605104 & 605675 & chr1 & 605609 & 605610 & id-6 & -0.266750 & . & 1\\\\\n",
       "\\end{tabular}\n"
      ],
      "text/markdown": [
       "\n",
       "A tibble: 6 × 10\n",
       "\n",
       "| Chrom_A &lt;chr&gt; | ChromStart_A &lt;dbl&gt; | ChromEnd_A &lt;dbl&gt; | Chrom_B &lt;chr&gt; | ChromStart_B &lt;dbl&gt; | ChromEnd_B &lt;dbl&gt; | Name_B &lt;chr&gt; | Score_B &lt;dbl&gt; | Strand_B &lt;chr&gt; | Overlap &lt;dbl&gt; |\n",
       "|---|---|---|---|---|---|---|---|---|---|\n",
       "| chr1 | 605104 | 605675 | chr1 | 605580 | 605581 | id-1 | -0.180660 | . | 1 |\n",
       "| chr1 | 605104 | 605675 | chr1 | 605581 | 605582 | id-2 |  0.486646 | . | 1 |\n",
       "| chr1 | 605104 | 605675 | chr1 | 605589 | 605590 | id-3 |  3.171240 | . | 1 |\n",
       "| chr1 | 605104 | 605675 | chr1 | 605591 | 605592 | id-4 | -0.364573 | . | 1 |\n",
       "| chr1 | 605104 | 605675 | chr1 | 605592 | 605593 | id-5 | -0.206319 | . | 1 |\n",
       "| chr1 | 605104 | 605675 | chr1 | 605609 | 605610 | id-6 | -0.266750 | . | 1 |\n",
       "\n"
      ],
      "text/plain": [
       "  Chrom_A ChromStart_A ChromEnd_A Chrom_B ChromStart_B ChromEnd_B Name_B\n",
       "1 chr1    605104       605675     chr1    605580       605581     id-1  \n",
       "2 chr1    605104       605675     chr1    605581       605582     id-2  \n",
       "3 chr1    605104       605675     chr1    605589       605590     id-3  \n",
       "4 chr1    605104       605675     chr1    605591       605592     id-4  \n",
       "5 chr1    605104       605675     chr1    605592       605593     id-5  \n",
       "6 chr1    605104       605675     chr1    605609       605610     id-6  \n",
       "  Score_B   Strand_B Overlap\n",
       "1 -0.180660 .        1      \n",
       "2  0.486646 .        1      \n",
       "3  3.171240 .        1      \n",
       "4 -0.364573 .        1      \n",
       "5 -0.206319 .        1      \n",
       "6 -0.266750 .        1      "
      ]
     },
     "metadata": {},
     "output_type": "display_data"
    }
   ],
   "source": [
    "dat = dat_overlap_import\n",
    "head(dat)"
   ]
  },
  {
   "cell_type": "code",
   "execution_count": 16,
   "id": "11d4ad8a-9039-4b2d-8f28-40f78e327258",
   "metadata": {},
   "outputs": [
    {
     "name": "stdout",
     "output_type": "stream",
     "text": [
      "\n",
      " chr1 chr10 chr11 chr12 chr13 chr14 chr15 chr16 chr17 chr18 chr19  chr2 chr20 \n",
      " 9044  3591  4474  3875  1095  2068  2720  3541  4314  1260  4394  5550  2543 \n",
      "chr21 chr22  chr3  chr4  chr5  chr6  chr7  chr8  chr9  chrX \n",
      " 1099  2016  4454  2772  3801  4671  4543  3186  3269  2008 \n"
     ]
    },
    {
     "data": {
      "text/html": [
       "<table>\n",
       " <thead>\n",
       "  <tr>\n",
       "   <th style=\"text-align:left;\"> Chrom </th>\n",
       "   <th style=\"text-align:right;\"> ChromStart </th>\n",
       "   <th style=\"text-align:right;\"> ChromEnd </th>\n",
       "   <th style=\"text-align:left;\"> Region </th>\n",
       "   <th style=\"text-align:right;\"> Mean </th>\n",
       "   <th style=\"text-align:right;\"> Median </th>\n",
       "   <th style=\"text-align:right;\"> AbsMax </th>\n",
       "   <th style=\"text-align:right;\"> Max </th>\n",
       "   <th style=\"text-align:right;\"> Min </th>\n",
       "   <th style=\"text-align:right;\"> Count </th>\n",
       "   <th style=\"text-align:right;\"> Mean_Neg </th>\n",
       "   <th style=\"text-align:right;\"> Mean_Pos </th>\n",
       "  </tr>\n",
       " </thead>\n",
       "<tbody>\n",
       "  <tr>\n",
       "   <td style=\"text-align:left;\"> chr1 </td>\n",
       "   <td style=\"text-align:right;\"> 605090 </td>\n",
       "   <td style=\"text-align:right;\"> 605823 </td>\n",
       "   <td style=\"text-align:left;\"> chr1:605090-605823 </td>\n",
       "   <td style=\"text-align:right;\"> 0.0904152 </td>\n",
       "   <td style=\"text-align:right;\"> -0.2365345 </td>\n",
       "   <td style=\"text-align:right;\"> 3.171240 </td>\n",
       "   <td style=\"text-align:right;\"> 3.171240 </td>\n",
       "   <td style=\"text-align:right;\"> -0.774100 </td>\n",
       "   <td style=\"text-align:right;\"> 10 </td>\n",
       "   <td style=\"text-align:right;\"> -0.3442168 </td>\n",
       "   <td style=\"text-align:right;\"> 1.8289430 </td>\n",
       "  </tr>\n",
       "  <tr>\n",
       "   <td style=\"text-align:left;\"> chr1 </td>\n",
       "   <td style=\"text-align:right;\"> 777949 </td>\n",
       "   <td style=\"text-align:right;\"> 779437 </td>\n",
       "   <td style=\"text-align:left;\"> chr1:777949-779437 </td>\n",
       "   <td style=\"text-align:right;\"> 0.1162065 </td>\n",
       "   <td style=\"text-align:right;\"> 0.0869985 </td>\n",
       "   <td style=\"text-align:right;\"> 0.666834 </td>\n",
       "   <td style=\"text-align:right;\"> 0.666834 </td>\n",
       "   <td style=\"text-align:right;\"> -0.405530 </td>\n",
       "   <td style=\"text-align:right;\"> 10 </td>\n",
       "   <td style=\"text-align:right;\"> -0.2424447 </td>\n",
       "   <td style=\"text-align:right;\"> 0.3553073 </td>\n",
       "  </tr>\n",
       "  <tr>\n",
       "   <td style=\"text-align:left;\"> chr1 </td>\n",
       "   <td style=\"text-align:right;\"> 816774 </td>\n",
       "   <td style=\"text-align:right;\"> 817547 </td>\n",
       "   <td style=\"text-align:left;\"> chr1:816774-817547 </td>\n",
       "   <td style=\"text-align:right;\"> -0.1820106 </td>\n",
       "   <td style=\"text-align:right;\"> -0.3681095 </td>\n",
       "   <td style=\"text-align:right;\"> 1.049030 </td>\n",
       "   <td style=\"text-align:right;\"> 1.049030 </td>\n",
       "   <td style=\"text-align:right;\"> -0.928019 </td>\n",
       "   <td style=\"text-align:right;\"> 8 </td>\n",
       "   <td style=\"text-align:right;\"> -0.5017798 </td>\n",
       "   <td style=\"text-align:right;\"> 0.7772970 </td>\n",
       "  </tr>\n",
       "  <tr>\n",
       "   <td style=\"text-align:left;\"> chr1 </td>\n",
       "   <td style=\"text-align:right;\"> 826754 </td>\n",
       "   <td style=\"text-align:right;\"> 828040 </td>\n",
       "   <td style=\"text-align:left;\"> chr1:826754-828040 </td>\n",
       "   <td style=\"text-align:right;\"> -0.1634086 </td>\n",
       "   <td style=\"text-align:right;\"> 0.0540820 </td>\n",
       "   <td style=\"text-align:right;\"> -1.109290 </td>\n",
       "   <td style=\"text-align:right;\"> 0.455815 </td>\n",
       "   <td style=\"text-align:right;\"> -1.109290 </td>\n",
       "   <td style=\"text-align:right;\"> 10 </td>\n",
       "   <td style=\"text-align:right;\"> -0.6708465 </td>\n",
       "   <td style=\"text-align:right;\"> 0.1748833 </td>\n",
       "  </tr>\n",
       "  <tr>\n",
       "   <td style=\"text-align:left;\"> chr1 </td>\n",
       "   <td style=\"text-align:right;\"> 842480 </td>\n",
       "   <td style=\"text-align:right;\"> 843449 </td>\n",
       "   <td style=\"text-align:left;\"> chr1:842480-843449 </td>\n",
       "   <td style=\"text-align:right;\"> -0.1534377 </td>\n",
       "   <td style=\"text-align:right;\"> -0.1342135 </td>\n",
       "   <td style=\"text-align:right;\"> -1.155270 </td>\n",
       "   <td style=\"text-align:right;\"> 0.595066 </td>\n",
       "   <td style=\"text-align:right;\"> -1.155270 </td>\n",
       "   <td style=\"text-align:right;\"> 10 </td>\n",
       "   <td style=\"text-align:right;\"> -0.3755820 </td>\n",
       "   <td style=\"text-align:right;\"> 0.3648990 </td>\n",
       "  </tr>\n",
       "  <tr>\n",
       "   <td style=\"text-align:left;\"> chr1 </td>\n",
       "   <td style=\"text-align:right;\"> 858023 </td>\n",
       "   <td style=\"text-align:right;\"> 859008 </td>\n",
       "   <td style=\"text-align:left;\"> chr1:858023-859008 </td>\n",
       "   <td style=\"text-align:right;\"> -0.1097497 </td>\n",
       "   <td style=\"text-align:right;\"> -0.0834595 </td>\n",
       "   <td style=\"text-align:right;\"> 1.046400 </td>\n",
       "   <td style=\"text-align:right;\"> 1.046400 </td>\n",
       "   <td style=\"text-align:right;\"> -0.673025 </td>\n",
       "   <td style=\"text-align:right;\"> 18 </td>\n",
       "   <td style=\"text-align:right;\"> -0.3147057 </td>\n",
       "   <td style=\"text-align:right;\"> 0.3001623 </td>\n",
       "  </tr>\n",
       "</tbody>\n",
       "</table>"
      ]
     },
     "metadata": {},
     "output_type": "display_data"
    }
   ],
   "source": [
    "dat = dat_score_summary\n",
    "print(table(dat$Chrom))\n",
    "fun_display_table(head(dat))"
   ]
  }
 ],
 "metadata": {
  "kernelspec": {
   "display_name": "R",
   "language": "R",
   "name": "ir"
  },
  "language_info": {
   "codemirror_mode": "r",
   "file_extension": ".r",
   "mimetype": "text/x-r-source",
   "name": "R",
   "pygments_lexer": "r",
   "version": "4.4.2"
  }
 },
 "nbformat": 4,
 "nbformat_minor": 5
}
