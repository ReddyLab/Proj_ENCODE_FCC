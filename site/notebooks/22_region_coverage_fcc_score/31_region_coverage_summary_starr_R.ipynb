{
 "cells": [
  {
   "cell_type": "raw",
   "id": "252ffcd5-7df3-4f1b-a011-351e9fa8c587",
   "metadata": {},
   "source": [
    "---\n",
    "title: Region Coverage (FCC) 31\n",
    "subtitle: Summarize coverage for STARR-seq\n",
    "format:\n",
    "    html:\n",
    "        code-fold:  true\n",
    "        code-tools: true\n",
    "---"
   ]
  },
  {
   "cell_type": "markdown",
   "id": "7e04a66f-fe53-4202-b06c-3259cbdcedfa",
   "metadata": {},
   "source": [
    "**Set environment**"
   ]
  },
  {
   "cell_type": "code",
   "execution_count": 1,
   "id": "ecb72130-cb00-465d-96a6-e7b995c625fd",
   "metadata": {},
   "outputs": [
    {
     "name": "stdout",
     "output_type": "stream",
     "text": [
      "You are working on        Singularity: singularity_proj_encode_fcc \n",
      "BASE DIRECTORY (FD_BASE): /data/reddylab/Kuei \n",
      "REPO DIRECTORY (FD_REPO): /data/reddylab/Kuei/repo \n",
      "WORK DIRECTORY (FD_WORK): /data/reddylab/Kuei/work \n",
      "DATA DIRECTORY (FD_DATA): /data/reddylab/Kuei/data \n",
      "\n",
      "You are working with      ENCODE FCC \n",
      "PATH OF PROJECT (FD_PRJ): /data/reddylab/Kuei/repo/Proj_ENCODE_FCC \n",
      "PROJECT RESULTS (FD_RES): /data/reddylab/Kuei/repo/Proj_ENCODE_FCC/results \n",
      "PROJECT SCRIPTS (FD_EXE): /data/reddylab/Kuei/repo/Proj_ENCODE_FCC/scripts \n",
      "PROJECT DATA    (FD_DAT): /data/reddylab/Kuei/repo/Proj_ENCODE_FCC/data \n",
      "PROJECT NOTE    (FD_NBK): /data/reddylab/Kuei/repo/Proj_ENCODE_FCC/notebooks \n",
      "PROJECT DOCS    (FD_DOC): /data/reddylab/Kuei/repo/Proj_ENCODE_FCC/docs \n",
      "PROJECT LOG     (FD_LOG): /data/reddylab/Kuei/repo/Proj_ENCODE_FCC/log \n",
      "PROJECT REF     (FD_REF): /data/reddylab/Kuei/repo/Proj_ENCODE_FCC/references \n",
      "\n"
     ]
    }
   ],
   "source": [
    "suppressMessages(suppressWarnings(source(\"../run_config_project_sing.R\")))\n",
    "suppressMessages(suppressWarnings(library(\"DESeq2\")))\n",
    "suppressMessages(suppressWarnings(library(\"edgeR\")))\n",
    "show_env()"
   ]
  },
  {
   "cell_type": "markdown",
   "id": "bfb4b416-8118-433f-b5ec-632e61666dee",
   "metadata": {},
   "source": [
    "**Check: region directory**"
   ]
  },
  {
   "cell_type": "code",
   "execution_count": 2,
   "id": "b51aa69d-2ac5-47b3-88c4-790fe19c6226",
   "metadata": {},
   "outputs": [
    {
     "name": "stdout",
     "output_type": "stream",
     "text": [
      "atac_ENCFF333TAT \n",
      "atac_ENCFF558BLC \n",
      "atac_ENCFF925CYR \n",
      "atac_ENCFF948AFM \n",
      "dnase_ENCFF185XRG \n",
      "dnase_ENCFF274YGF \n",
      "fcc_astarr_macs_input_overlap \n",
      "fcc_astarr_macs_input_union \n"
     ]
    }
   ],
   "source": [
    "txt_fdiry = file.path(FD_RES, \"region_coverage_fcc_score\")\n",
    "\n",
    "vec = dir(txt_fdiry)\n",
    "for (txt in vec){cat(txt, \"\\n\")}"
   ]
  },
  {
   "cell_type": "markdown",
   "id": "4fc31656-e634-401c-8292-e6f4bbe13fd8",
   "metadata": {},
   "source": [
    "**Check: assay directory**"
   ]
  },
  {
   "cell_type": "code",
   "execution_count": 3,
   "id": "ba64e8f1-b406-424e-bada-6f3fdbd54b81",
   "metadata": {},
   "outputs": [
    {
     "name": "stdout",
     "output_type": "stream",
     "text": [
      "CRISPRi_FlowFISH_K562_Riley_JinWoo \n",
      "CRISPRi_Growth_K562_Gersbach_JinWoo \n",
      "MPRA_Lenti_K562_Nadav_Vikram \n",
      "MPRA_Tiling_K562_Tewhey_Hannah \n",
      "STARR_ATAC_K562_Reddy_KS274 \n",
      "STARR_ATAC_K562_Reddy_KS91 \n",
      "STARR_ATAC_K562_Reddy_KSMerge \n",
      "STARR_WHG_K562_Reddy_A001 \n"
     ]
    }
   ],
   "source": [
    "txt_region = \"fcc_astarr_macs_input_union\"\n",
    "txt_fdiry  = file.path(FD_RES, \"region_coverage_fcc_score\", txt_region)\n",
    "vec = dir(txt_fdiry)\n",
    "for (txt in vec) {cat(txt, \"\\n\")}"
   ]
  },
  {
   "cell_type": "markdown",
   "id": "89d1c890-3845-4eef-bd2f-74f8d8327ce8",
   "metadata": {},
   "source": [
    "**Set global variable**"
   ]
  },
  {
   "cell_type": "code",
   "execution_count": 4,
   "id": "35bc8d18-429d-4e34-b5a2-382171d823ba",
   "metadata": {},
   "outputs": [
    {
     "name": "stdout",
     "output_type": "stream",
     "text": [
      "fcc_astarr_macs_input_overlap \n",
      "fcc_astarr_macs_input_union \n"
     ]
    }
   ],
   "source": [
    "## init: region folder\n",
    "vec = c(\"fcc_astarr_macs_input_overlap\", \"fcc_astarr_macs_input_union\")\n",
    "names(vec) = vec\n",
    "\n",
    "VEC_TXT_REGION = vec\n",
    "for (txt in vec) {cat(txt, \"\\n\")}"
   ]
  },
  {
   "cell_type": "code",
   "execution_count": 5,
   "id": "dc777e88-2f0c-4bfe-a10a-3d05f9b1d99f",
   "metadata": {},
   "outputs": [],
   "source": [
    "### init: assay folder\n",
    "VEC_TXT_ASSAY = c(\n",
    "    \"STARR_ATAC_K562_Reddy_KS91\",\n",
    "    \"STARR_ATAC_K562_Reddy_KS274\",\n",
    "    \"STARR_ATAC_K562_Reddy_KSMerge\",\n",
    "    \"STARR_WHG_K562_Reddy_A001\"\n",
    ")"
   ]
  },
  {
   "cell_type": "markdown",
   "id": "8d4521a7-1775-4265-b3ef-e03ae1a11c4c",
   "metadata": {},
   "source": [
    "**Check: assay files**"
   ]
  },
  {
   "cell_type": "code",
   "execution_count": 6,
   "id": "25baec05-48a1-42e9-a968-0f1660bb9c81",
   "metadata": {},
   "outputs": [
    {
     "name": "stdout",
     "output_type": "stream",
     "text": [
      "/data/reddylab/Kuei/repo/Proj_ENCODE_FCC/results/region_coverage_fcc_score/fcc_astarr_macs_input_overlap/STARR_ATAC_K562_Reddy_KS274/summary/data.count_column.raw.WGS.rds \n",
      "/data/reddylab/Kuei/repo/Proj_ENCODE_FCC/results/region_coverage_fcc_score/fcc_astarr_macs_input_overlap/STARR_ATAC_K562_Reddy_KS91/summary/data.count_column.raw.WGS.rds \n",
      "/data/reddylab/Kuei/repo/Proj_ENCODE_FCC/results/region_coverage_fcc_score/fcc_astarr_macs_input_overlap/STARR_ATAC_K562_Reddy_KSMerge/summary/data.count_column.raw.WGS.rds \n",
      "/data/reddylab/Kuei/repo/Proj_ENCODE_FCC/results/region_coverage_fcc_score/fcc_astarr_macs_input_overlap/STARR_WHG_K562_Reddy_A001/summary/data.count_column.raw.WGS.rds \n"
     ]
    }
   ],
   "source": [
    "txt_folder = VEC_TXT_REGION[1]\n",
    "txt_fdiry  = file.path(\n",
    "    FD_RES, \"region_coverage_fcc_score\",\n",
    "    txt_folder,\n",
    "    \"*\",\n",
    "    \"summary\"\n",
    ")\n",
    "txt_fname = \"data.count_column.raw.WGS.rds\"\n",
    "txt_fglob = file.path(txt_fdiry, txt_fname)\n",
    "\n",
    "vec = Sys.glob(txt_fglob)\n",
    "for (txt in vec) {cat(txt, \"\\n\")}"
   ]
  },
  {
   "cell_type": "code",
   "execution_count": 7,
   "id": "f5908a75-202a-4ee3-8cb6-79a405b972ae",
   "metadata": {},
   "outputs": [
    {
     "name": "stdout",
     "output_type": "stream",
     "text": [
      "/data/reddylab/Kuei/repo/Proj_ENCODE_FCC/results/region_coverage_fcc_score/fcc_astarr_macs_input_overlap/STARR_ATAC_K562_Reddy_KS274/summary/data.deseq2.rds \n",
      "/data/reddylab/Kuei/repo/Proj_ENCODE_FCC/results/region_coverage_fcc_score/fcc_astarr_macs_input_overlap/STARR_ATAC_K562_Reddy_KS91/summary/data.deseq2.rds \n",
      "/data/reddylab/Kuei/repo/Proj_ENCODE_FCC/results/region_coverage_fcc_score/fcc_astarr_macs_input_overlap/STARR_ATAC_K562_Reddy_KSMerge/summary/data.deseq2.rds \n",
      "/data/reddylab/Kuei/repo/Proj_ENCODE_FCC/results/region_coverage_fcc_score/fcc_astarr_macs_input_overlap/STARR_WHG_K562_Reddy_A001/summary/data.deseq2.rds \n"
     ]
    }
   ],
   "source": [
    "txt_folder = VEC_TXT_REGION[1]\n",
    "txt_fdiry  = file.path(\n",
    "    FD_RES, \"region_coverage_fcc_score\",\n",
    "    txt_folder,\n",
    "    \"*\",\n",
    "    \"summary\"\n",
    ")\n",
    "txt_fname = \"data.deseq2.rds\"\n",
    "txt_fglob = file.path(txt_fdiry, txt_fname)\n",
    "\n",
    "vec = Sys.glob(txt_fglob)\n",
    "for (txt in vec) {cat(txt, \"\\n\")}"
   ]
  },
  {
   "cell_type": "code",
   "execution_count": 8,
   "id": "f0bc8927-f846-466d-b9f7-8edf78bfe4be",
   "metadata": {},
   "outputs": [
    {
     "name": "stdout",
     "output_type": "stream",
     "text": [
      "/data/reddylab/Kuei/repo/Proj_ENCODE_FCC/results/region_coverage_fcc_score/fcc_astarr_macs_input_overlap/STARR_ATAC_K562_Reddy_KS274/summary/data.edger.rds \n",
      "/data/reddylab/Kuei/repo/Proj_ENCODE_FCC/results/region_coverage_fcc_score/fcc_astarr_macs_input_overlap/STARR_ATAC_K562_Reddy_KS91/summary/data.edger.rds \n",
      "/data/reddylab/Kuei/repo/Proj_ENCODE_FCC/results/region_coverage_fcc_score/fcc_astarr_macs_input_overlap/STARR_ATAC_K562_Reddy_KSMerge/summary/data.edger.rds \n",
      "/data/reddylab/Kuei/repo/Proj_ENCODE_FCC/results/region_coverage_fcc_score/fcc_astarr_macs_input_overlap/STARR_WHG_K562_Reddy_A001/summary/data.edger.rds \n"
     ]
    }
   ],
   "source": [
    "txt_folder = VEC_TXT_REGION[1]\n",
    "txt_fdiry  = file.path(\n",
    "    FD_RES, \"region_coverage_fcc_score\",\n",
    "    txt_folder,\n",
    "    \"*\",\n",
    "    \"summary\"\n",
    ")\n",
    "txt_fname = \"data.edger.rds\"\n",
    "txt_fglob = file.path(txt_fdiry, txt_fname)\n",
    "\n",
    "vec = Sys.glob(txt_fglob)\n",
    "for (txt in vec) {cat(txt, \"\\n\")}"
   ]
  },
  {
   "cell_type": "markdown",
   "id": "409cb0e3-f6c9-44f2-b240-0936f7a8719d",
   "metadata": {},
   "source": [
    "## Execute"
   ]
  },
  {
   "cell_type": "markdown",
   "id": "e4ac4e2e-4e09-41d2-9b9f-bfad106270f6",
   "metadata": {},
   "source": [
    "**Helper function**"
   ]
  },
  {
   "cell_type": "code",
   "execution_count": 9,
   "id": "56250e70-ccd9-4ed5-b9b2-3933ee4883c0",
   "metadata": {},
   "outputs": [],
   "source": [
    "get_fpkm = function(mat, vec_num_length){\n",
    "    ### normlaized by size\n",
    "    fun = function(x){x * 10^6 / sum(x)}\n",
    "    mat = apply(mat, 2, fun)\n",
    "    \n",
    "    ### normlaized by length\n",
    "    vec = vec_num_length\n",
    "    fun = function(x){x/vec}\n",
    "    mat = apply(mat, 2, fun)\n",
    "\n",
    "    return(mat)\n",
    "}\n",
    "\n",
    "get_tpm  = function(mat, vec_num_length){\n",
    "    ### normlaized by length\n",
    "    vec = vec_num_length\n",
    "    fun = function(x){x/vec}\n",
    "    mat = apply(mat, 2, fun)\n",
    "    \n",
    "    ### normlaized by size\n",
    "    fun = function(x){x * 10^6 / sum(x)}\n",
    "    mat = apply(mat, 2, fun)\n",
    "    \n",
    "    return(mat)\n",
    "}"
   ]
  },
  {
   "cell_type": "markdown",
   "id": "77627852-6d01-4fc0-8ff1-6b7a3275a622",
   "metadata": {},
   "source": [
    "**Generate matrix of normalized scores**"
   ]
  },
  {
   "cell_type": "code",
   "execution_count": 10,
   "id": "78139da4-2e73-4d67-b92e-75735cedf172",
   "metadata": {},
   "outputs": [
    {
     "name": "stdout",
     "output_type": "stream",
     "text": [
      "Assay   STARR_ATAC_K562_Reddy_KS91 \n",
      "Region  fcc_astarr_macs_input_overlap \n",
      "\n"
     ]
    },
    {
     "name": "stderr",
     "output_type": "stream",
     "text": [
      "Warning message in filterByExpr.DGEList(dge):\n",
      "“All samples appear to belong to the same group.”\n",
      "Warning message in filterByExpr.DGEList(dge):\n",
      "“All samples appear to belong to the same group.”\n"
     ]
    },
    {
     "name": "stdout",
     "output_type": "stream",
     "text": [
      "Assay   STARR_ATAC_K562_Reddy_KS91 \n",
      "Region  fcc_astarr_macs_input_union \n",
      "\n"
     ]
    },
    {
     "name": "stderr",
     "output_type": "stream",
     "text": [
      "Warning message in filterByExpr.DGEList(dge):\n",
      "“All samples appear to belong to the same group.”\n",
      "Warning message in filterByExpr.DGEList(dge):\n",
      "“All samples appear to belong to the same group.”\n"
     ]
    },
    {
     "name": "stdout",
     "output_type": "stream",
     "text": [
      "Assay   STARR_ATAC_K562_Reddy_KS274 \n",
      "Region  fcc_astarr_macs_input_overlap \n",
      "\n"
     ]
    },
    {
     "name": "stderr",
     "output_type": "stream",
     "text": [
      "Warning message in filterByExpr.DGEList(dge):\n",
      "“All samples appear to belong to the same group.”\n",
      "Warning message in filterByExpr.DGEList(dge):\n",
      "“All samples appear to belong to the same group.”\n"
     ]
    },
    {
     "name": "stdout",
     "output_type": "stream",
     "text": [
      "Assay   STARR_ATAC_K562_Reddy_KS274 \n",
      "Region  fcc_astarr_macs_input_union \n",
      "\n"
     ]
    },
    {
     "name": "stderr",
     "output_type": "stream",
     "text": [
      "Warning message in filterByExpr.DGEList(dge):\n",
      "“All samples appear to belong to the same group.”\n",
      "Warning message in filterByExpr.DGEList(dge):\n",
      "“All samples appear to belong to the same group.”\n"
     ]
    },
    {
     "name": "stdout",
     "output_type": "stream",
     "text": [
      "Assay   STARR_ATAC_K562_Reddy_KSMerge \n",
      "Region  fcc_astarr_macs_input_overlap \n",
      "\n"
     ]
    },
    {
     "name": "stderr",
     "output_type": "stream",
     "text": [
      "Warning message in filterByExpr.DGEList(dge):\n",
      "“All samples appear to belong to the same group.”\n",
      "Warning message in filterByExpr.DGEList(dge):\n",
      "“All samples appear to belong to the same group.”\n"
     ]
    },
    {
     "name": "stdout",
     "output_type": "stream",
     "text": [
      "Assay   STARR_ATAC_K562_Reddy_KSMerge \n",
      "Region  fcc_astarr_macs_input_union \n",
      "\n"
     ]
    },
    {
     "name": "stderr",
     "output_type": "stream",
     "text": [
      "Warning message in filterByExpr.DGEList(dge):\n",
      "“All samples appear to belong to the same group.”\n",
      "Warning message in filterByExpr.DGEList(dge):\n",
      "“All samples appear to belong to the same group.”\n"
     ]
    },
    {
     "name": "stdout",
     "output_type": "stream",
     "text": [
      "Assay   STARR_WHG_K562_Reddy_A001 \n",
      "Region  fcc_astarr_macs_input_overlap \n",
      "\n"
     ]
    },
    {
     "name": "stderr",
     "output_type": "stream",
     "text": [
      "Warning message in filterByExpr.DGEList(dge):\n",
      "“All samples appear to belong to the same group.”\n",
      "Warning message in filterByExpr.DGEList(dge):\n",
      "“All samples appear to belong to the same group.”\n"
     ]
    },
    {
     "name": "stdout",
     "output_type": "stream",
     "text": [
      "Assay   STARR_WHG_K562_Reddy_A001 \n",
      "Region  fcc_astarr_macs_input_union \n",
      "\n"
     ]
    },
    {
     "name": "stderr",
     "output_type": "stream",
     "text": [
      "Warning message in filterByExpr.DGEList(dge):\n",
      "“All samples appear to belong to the same group.”\n",
      "Warning message in filterByExpr.DGEList(dge):\n",
      "“All samples appear to belong to the same group.”\n"
     ]
    }
   ],
   "source": [
    "### Loop through each assay and region set\n",
    "for (txt_assay in VEC_TXT_ASSAY){\n",
    "    for (txt_region in VEC_TXT_REGION) {\n",
    "        \n",
    "        ### ========================================\n",
    "        ### Import data\n",
    "        ### ----------------------------------------\n",
    "        \n",
    "        ### show progress\n",
    "        cat(\"Assay  \", txt_assay,  \"\\n\")\n",
    "        cat(\"Region \", txt_region, \"\\n\")\n",
    "        cat(\"\\n\")\n",
    "        flush.console()\n",
    "\n",
    "        ### set file directory\n",
    "        txt_fdiry = file.path(\n",
    "            FD_RES, \n",
    "            \"region_coverage_fcc_score\",\n",
    "            txt_region,\n",
    "            txt_assay,\n",
    "            \"summary\")\n",
    "\n",
    "        ### get matrix and column data\n",
    "        txt_fname = \"data.count_column.raw.WGS.rds\"\n",
    "        txt_fpath = file.path(txt_fdiry, txt_fname)\n",
    "\n",
    "        lst_dat = readRDS(txt_fpath)\n",
    "        dat_cnt = lst_dat$data_cnt\n",
    "        dat_col = lst_dat$data_col\n",
    "        dat_region = dat_cnt %>% dplyr::select(Chrom, ChromStart, ChromEnd, Region)\n",
    "        \n",
    "        ### import deseq object\n",
    "        txt_fname = \"data.deseq2.rds\"\n",
    "        txt_fpath = file.path(txt_fdiry, txt_fname)\n",
    "\n",
    "        dds = readRDS(txt_fpath)\n",
    "        \n",
    "        ### import Edger object\n",
    "        txt_fname = \"data.edger.rds\"\n",
    "        txt_fpath = file.path(txt_fdiry, txt_fname)\n",
    "\n",
    "        lst_dge = readRDS(txt_fpath)\n",
    "\n",
    "        ### ========================================\n",
    "        ### Calculate: Screened \n",
    "        ### ----------------------------------------\n",
    "\n",
    "        ### apply EdgeR filtering\n",
    "        lst = lst_dge\n",
    "        lst = lapply(lst, function(dge){\n",
    "            idx = filterByExpr(dge)\n",
    "            dat = data.frame(\n",
    "                Region = names(idx),\n",
    "                Screen = idx\n",
    "            )\n",
    "            return(dat)\n",
    "        })\n",
    "\n",
    "        ### summarize which regions are screened\n",
    "        dat = bind_rows(lst, .id = \"Set\")\n",
    "        dat = dat %>% tidyr::spread(Set, Screen)\n",
    "        dat = dplyr::inner_join(dat_region, dat, by = \"Region\")\n",
    "        \n",
    "        dat_screen = dat\n",
    "        \n",
    "        ### ========================================\n",
    "        ### Calculate DESeq2 Counts & Log2FC\n",
    "        ### ----------------------------------------\n",
    "\n",
    "        ### DESeq2 normalized counts\n",
    "        mat = counts(dds, normalized=TRUE)\n",
    "        dat = mat %>% as.data.frame %>% rownames_to_column(\"Region\")\n",
    "        dat = dplyr::inner_join(dat_region, dat, by = \"Region\")\n",
    "\n",
    "        mat_dds_count = mat\n",
    "        dat_dds_count = dat\n",
    "\n",
    "        ### Deseq2 results\n",
    "        res = results(dds, contrast = c(\"Group\", \"Output\", \"Input\"))\n",
    "        dat = res %>% as.data.frame %>% rownames_to_column(\"Region\")\n",
    "        dat = dplyr::inner_join(dat_region, dat, by = \"Region\")\n",
    "        \n",
    "        dat_dds_result = dat\n",
    "\n",
    "        ### ========================================\n",
    "        ### Calculate TPM & FPKM\n",
    "        ### ----------------------------------------\n",
    "\n",
    "        ### init and get region length\n",
    "        dat = dat_cnt\n",
    "        dat = dat %>% dplyr::mutate(Length = ChromEnd - ChromStart)\n",
    "\n",
    "        ### arrange count into matrix\n",
    "        mat = dat %>% \n",
    "           dplyr::select(\n",
    "               Region, \n",
    "               starts_with(\"Input\"), \n",
    "               starts_with(\"Output\")) %>% \n",
    "           column_to_rownames(var = \"Region\")\n",
    "        \n",
    "        ### calculate TPM and FPKM\n",
    "        mat_tpm  = get_tpm( mat, dat$Length)\n",
    "        mat_fpkm = get_fpkm(mat, dat$Length)\n",
    "\n",
    "        ### arrange matrix into dataframe\n",
    "        mat = mat_tpm\n",
    "        dat = mat %>% as.data.frame %>% rownames_to_column(\"Region\")\n",
    "        dat = dplyr::inner_join(dat_region, dat, by = \"Region\")\n",
    "        dat_tpm = dat\n",
    "\n",
    "        mat = mat_fpkm\n",
    "        dat = mat %>% as.data.frame %>% rownames_to_column(\"Region\")\n",
    "        dat = dplyr::inner_join(dat_region, dat, by = \"Region\")\n",
    "        dat_fpkm = dat\n",
    "        \n",
    "        ### ========================================\n",
    "        ### Calculate mean TPM & FPKM\n",
    "        ### ----------------------------------------\n",
    "        \n",
    "        ### convert to tidy data\n",
    "        lst = list(\n",
    "            \"TPM\"   = mat_tpm,\n",
    "            \"FPKM\"  = mat_fpkm,\n",
    "            \"DESeq\" = mat_dds_count\n",
    "        )\n",
    "        lst = lapply(lst, function(mat){\n",
    "            dat = mat %>% \n",
    "                as.data.frame %>% \n",
    "                rownames_to_column(var = \"Region\") %>% \n",
    "                tidyr::gather(Sample, Value, -Region)\n",
    "            return(dat)\n",
    "        })\n",
    "        dat = bind_rows(lst, .id = \"Method\")\n",
    "        \n",
    "        ### calculate mean by group (Input & Output)\n",
    "        tmp = dat_col %>% dplyr::select(Sample, Group)\n",
    "        dat = dplyr::left_join(dat, tmp, by=\"Sample\")\n",
    "        dat = dat %>%\n",
    "            dplyr::group_by(Region, Method, Group) %>%\n",
    "            dplyr::summarize(Mean = mean(Value), .groups = \"drop\") %>%\n",
    "            dplyr::mutate(Name = paste(Group, Method, sep = \"_\")) %>%\n",
    "            dplyr::select(Region, Name, Mean) %>%\n",
    "            tidyr::spread(Name, Mean)\n",
    "        \n",
    "        dat = dplyr::inner_join(dat_region, dat, by = \"Region\")\n",
    "        dat_summary = dat\n",
    "\n",
    "        ### ========================================\n",
    "        ### Save results\n",
    "        ### ----------------------------------------\n",
    "        \n",
    "        txt_fname = \"matrix.count.TPM.WGS.tsv\"\n",
    "        txt_fpath = file.path(txt_fdiry, txt_fname)\n",
    "        dat = dat_tpm\n",
    "        write_tsv(dat, txt_fpath)\n",
    "        \n",
    "        txt_fname = \"matrix.count.FPKM.WGS.tsv\"\n",
    "        txt_fpath = file.path(txt_fdiry, txt_fname)\n",
    "        dat = dat_fpkm\n",
    "        write_tsv(dat, txt_fpath)\n",
    "        \n",
    "        txt_fname = \"matrix.count.deseq.WGS.tsv\"\n",
    "        txt_fpath = file.path(txt_fdiry, txt_fname)\n",
    "        dat = dat_dds_count\n",
    "        write_tsv(dat, txt_fpath)\n",
    "        \n",
    "        txt_fname = \"region.coverage.Log2FC.deseq.tsv\"\n",
    "        txt_fpath = file.path(txt_fdiry, txt_fname)\n",
    "        dat = dat_dds_result\n",
    "        write_tsv(dat, txt_fpath)\n",
    "        \n",
    "        txt_fname = \"region.coverage.summary.tsv\"\n",
    "        txt_fpath = file.path(txt_fdiry, txt_fname)\n",
    "        dat = dat_summary\n",
    "        write_tsv(dat, txt_fpath)\n",
    "        \n",
    "        txt_fname = \"region.coverage.screened.tsv\"\n",
    "        txt_fpath = file.path(txt_fdiry, txt_fname)\n",
    "        dat = dat_screen\n",
    "        write_tsv(dat, txt_fpath)\n",
    "        \n",
    "    }\n",
    "}"
   ]
  },
  {
   "cell_type": "markdown",
   "id": "92159876-8f18-452c-aead-d7c372f53372",
   "metadata": {},
   "source": [
    "## Review"
   ]
  },
  {
   "cell_type": "code",
   "execution_count": 11,
   "id": "d6301120-035b-4326-a375-44b918d4b41e",
   "metadata": {},
   "outputs": [
    {
     "name": "stdout",
     "output_type": "stream",
     "text": [
      "Assay   STARR_WHG_K562_Reddy_A001 \n",
      "Region  fcc_astarr_macs_input_union \n",
      "\n"
     ]
    }
   ],
   "source": [
    "cat(\"Assay  \", txt_assay,  \"\\n\")\n",
    "cat(\"Region \", txt_region, \"\\n\")\n",
    "cat(\"\\n\")\n",
    "flush.console()"
   ]
  },
  {
   "cell_type": "code",
   "execution_count": 12,
   "id": "e94e60cb-bb7c-45af-809a-3449043e4a71",
   "metadata": {},
   "outputs": [
    {
     "data": {
      "text/html": [
       "<table class=\"dataframe\">\n",
       "<caption>A tibble: 3 × 11</caption>\n",
       "<thead>\n",
       "\t<tr><th scope=col>Chrom</th><th scope=col>ChromStart</th><th scope=col>ChromEnd</th><th scope=col>Region</th><th scope=col>Input.rep1</th><th scope=col>Input.rep2</th><th scope=col>Input.rep3</th><th scope=col>Input.rep4</th><th scope=col>Output.rep1</th><th scope=col>Output.rep2</th><th scope=col>Output.rep3</th></tr>\n",
       "\t<tr><th scope=col>&lt;chr&gt;</th><th scope=col>&lt;dbl&gt;</th><th scope=col>&lt;dbl&gt;</th><th scope=col>&lt;chr&gt;</th><th scope=col>&lt;dbl&gt;</th><th scope=col>&lt;dbl&gt;</th><th scope=col>&lt;dbl&gt;</th><th scope=col>&lt;dbl&gt;</th><th scope=col>&lt;dbl&gt;</th><th scope=col>&lt;dbl&gt;</th><th scope=col>&lt;dbl&gt;</th></tr>\n",
       "</thead>\n",
       "<tbody>\n",
       "\t<tr><td>chr1</td><td> 17237</td><td> 17772</td><td>chr1:17237-17772  </td><td>22.34448</td><td>14.30890</td><td>16.81994</td><td>18.63703</td><td>11.99776</td><td>15.64451</td><td> 8.818675</td></tr>\n",
       "\t<tr><td>chr1</td><td>137737</td><td>139544</td><td>chr1:137737-139544</td><td>62.56455</td><td>47.69633</td><td>45.97450</td><td>57.00738</td><td>96.64862</td><td>97.94821</td><td>70.876015</td></tr>\n",
       "\t<tr><td>chr1</td><td>180982</td><td>182087</td><td>chr1:180982-182087</td><td>35.75117</td><td>36.96465</td><td>29.15456</td><td>30.69628</td><td>41.99216</td><td>38.77117</td><td>32.335141</td></tr>\n",
       "</tbody>\n",
       "</table>\n"
      ],
      "text/latex": [
       "A tibble: 3 × 11\n",
       "\\begin{tabular}{lllllllllll}\n",
       " Chrom & ChromStart & ChromEnd & Region & Input.rep1 & Input.rep2 & Input.rep3 & Input.rep4 & Output.rep1 & Output.rep2 & Output.rep3\\\\\n",
       " <chr> & <dbl> & <dbl> & <chr> & <dbl> & <dbl> & <dbl> & <dbl> & <dbl> & <dbl> & <dbl>\\\\\n",
       "\\hline\n",
       "\t chr1 &  17237 &  17772 & chr1:17237-17772   & 22.34448 & 14.30890 & 16.81994 & 18.63703 & 11.99776 & 15.64451 &  8.818675\\\\\n",
       "\t chr1 & 137737 & 139544 & chr1:137737-139544 & 62.56455 & 47.69633 & 45.97450 & 57.00738 & 96.64862 & 97.94821 & 70.876015\\\\\n",
       "\t chr1 & 180982 & 182087 & chr1:180982-182087 & 35.75117 & 36.96465 & 29.15456 & 30.69628 & 41.99216 & 38.77117 & 32.335141\\\\\n",
       "\\end{tabular}\n"
      ],
      "text/markdown": [
       "\n",
       "A tibble: 3 × 11\n",
       "\n",
       "| Chrom &lt;chr&gt; | ChromStart &lt;dbl&gt; | ChromEnd &lt;dbl&gt; | Region &lt;chr&gt; | Input.rep1 &lt;dbl&gt; | Input.rep2 &lt;dbl&gt; | Input.rep3 &lt;dbl&gt; | Input.rep4 &lt;dbl&gt; | Output.rep1 &lt;dbl&gt; | Output.rep2 &lt;dbl&gt; | Output.rep3 &lt;dbl&gt; |\n",
       "|---|---|---|---|---|---|---|---|---|---|---|\n",
       "| chr1 |  17237 |  17772 | chr1:17237-17772   | 22.34448 | 14.30890 | 16.81994 | 18.63703 | 11.99776 | 15.64451 |  8.818675 |\n",
       "| chr1 | 137737 | 139544 | chr1:137737-139544 | 62.56455 | 47.69633 | 45.97450 | 57.00738 | 96.64862 | 97.94821 | 70.876015 |\n",
       "| chr1 | 180982 | 182087 | chr1:180982-182087 | 35.75117 | 36.96465 | 29.15456 | 30.69628 | 41.99216 | 38.77117 | 32.335141 |\n",
       "\n"
      ],
      "text/plain": [
       "  Chrom ChromStart ChromEnd Region             Input.rep1 Input.rep2 Input.rep3\n",
       "1 chr1   17237      17772   chr1:17237-17772   22.34448   14.30890   16.81994  \n",
       "2 chr1  137737     139544   chr1:137737-139544 62.56455   47.69633   45.97450  \n",
       "3 chr1  180982     182087   chr1:180982-182087 35.75117   36.96465   29.15456  \n",
       "  Input.rep4 Output.rep1 Output.rep2 Output.rep3\n",
       "1 18.63703   11.99776    15.64451     8.818675  \n",
       "2 57.00738   96.64862    97.94821    70.876015  \n",
       "3 30.69628   41.99216    38.77117    32.335141  "
      ]
     },
     "metadata": {},
     "output_type": "display_data"
    }
   ],
   "source": [
    "head(dat_dds_count, 3)"
   ]
  },
  {
   "cell_type": "code",
   "execution_count": 13,
   "id": "b00f9962-b238-42a1-a104-0501034776d0",
   "metadata": {},
   "outputs": [
    {
     "data": {
      "text/html": [
       "<table class=\"dataframe\">\n",
       "<caption>A tibble: 3 × 10</caption>\n",
       "<thead>\n",
       "\t<tr><th scope=col>Chrom</th><th scope=col>ChromStart</th><th scope=col>ChromEnd</th><th scope=col>Region</th><th scope=col>baseMean</th><th scope=col>log2FoldChange</th><th scope=col>lfcSE</th><th scope=col>stat</th><th scope=col>pvalue</th><th scope=col>padj</th></tr>\n",
       "\t<tr><th scope=col>&lt;chr&gt;</th><th scope=col>&lt;dbl&gt;</th><th scope=col>&lt;dbl&gt;</th><th scope=col>&lt;chr&gt;</th><th scope=col>&lt;dbl&gt;</th><th scope=col>&lt;dbl&gt;</th><th scope=col>&lt;dbl&gt;</th><th scope=col>&lt;dbl&gt;</th><th scope=col>&lt;dbl&gt;</th><th scope=col>&lt;dbl&gt;</th></tr>\n",
       "</thead>\n",
       "<tbody>\n",
       "\t<tr><td>chr1</td><td> 17237</td><td> 17772</td><td>chr1:17237-17772  </td><td>15.51018</td><td>-0.5529035</td><td>0.3647704</td><td>-1.5157577</td><td>1.295806e-01</td><td>0.373586438</td></tr>\n",
       "\t<tr><td>chr1</td><td>137737</td><td>139544</td><td>chr1:137737-139544</td><td>68.38794</td><td> 0.7581450</td><td>0.1908046</td><td> 3.9734116</td><td>7.085046e-05</td><td>0.001396904</td></tr>\n",
       "\t<tr><td>chr1</td><td>180982</td><td>182087</td><td>chr1:180982-182087</td><td>35.09502</td><td> 0.1910327</td><td>0.2416620</td><td> 0.7904953</td><td>4.292385e-01</td><td>0.696333205</td></tr>\n",
       "</tbody>\n",
       "</table>\n"
      ],
      "text/latex": [
       "A tibble: 3 × 10\n",
       "\\begin{tabular}{llllllllll}\n",
       " Chrom & ChromStart & ChromEnd & Region & baseMean & log2FoldChange & lfcSE & stat & pvalue & padj\\\\\n",
       " <chr> & <dbl> & <dbl> & <chr> & <dbl> & <dbl> & <dbl> & <dbl> & <dbl> & <dbl>\\\\\n",
       "\\hline\n",
       "\t chr1 &  17237 &  17772 & chr1:17237-17772   & 15.51018 & -0.5529035 & 0.3647704 & -1.5157577 & 1.295806e-01 & 0.373586438\\\\\n",
       "\t chr1 & 137737 & 139544 & chr1:137737-139544 & 68.38794 &  0.7581450 & 0.1908046 &  3.9734116 & 7.085046e-05 & 0.001396904\\\\\n",
       "\t chr1 & 180982 & 182087 & chr1:180982-182087 & 35.09502 &  0.1910327 & 0.2416620 &  0.7904953 & 4.292385e-01 & 0.696333205\\\\\n",
       "\\end{tabular}\n"
      ],
      "text/markdown": [
       "\n",
       "A tibble: 3 × 10\n",
       "\n",
       "| Chrom &lt;chr&gt; | ChromStart &lt;dbl&gt; | ChromEnd &lt;dbl&gt; | Region &lt;chr&gt; | baseMean &lt;dbl&gt; | log2FoldChange &lt;dbl&gt; | lfcSE &lt;dbl&gt; | stat &lt;dbl&gt; | pvalue &lt;dbl&gt; | padj &lt;dbl&gt; |\n",
       "|---|---|---|---|---|---|---|---|---|---|\n",
       "| chr1 |  17237 |  17772 | chr1:17237-17772   | 15.51018 | -0.5529035 | 0.3647704 | -1.5157577 | 1.295806e-01 | 0.373586438 |\n",
       "| chr1 | 137737 | 139544 | chr1:137737-139544 | 68.38794 |  0.7581450 | 0.1908046 |  3.9734116 | 7.085046e-05 | 0.001396904 |\n",
       "| chr1 | 180982 | 182087 | chr1:180982-182087 | 35.09502 |  0.1910327 | 0.2416620 |  0.7904953 | 4.292385e-01 | 0.696333205 |\n",
       "\n"
      ],
      "text/plain": [
       "  Chrom ChromStart ChromEnd Region             baseMean log2FoldChange\n",
       "1 chr1   17237      17772   chr1:17237-17772   15.51018 -0.5529035    \n",
       "2 chr1  137737     139544   chr1:137737-139544 68.38794  0.7581450    \n",
       "3 chr1  180982     182087   chr1:180982-182087 35.09502  0.1910327    \n",
       "  lfcSE     stat       pvalue       padj       \n",
       "1 0.3647704 -1.5157577 1.295806e-01 0.373586438\n",
       "2 0.1908046  3.9734116 7.085046e-05 0.001396904\n",
       "3 0.2416620  0.7904953 4.292385e-01 0.696333205"
      ]
     },
     "metadata": {},
     "output_type": "display_data"
    }
   ],
   "source": [
    "head(dat_dds_result, 3)"
   ]
  },
  {
   "cell_type": "code",
   "execution_count": 14,
   "id": "1f1df8d5-fb18-4a1a-a26d-ef7aa73d2fe2",
   "metadata": {},
   "outputs": [
    {
     "data": {
      "text/html": [
       "<table class=\"dataframe\">\n",
       "<caption>A tibble: 3 × 11</caption>\n",
       "<thead>\n",
       "\t<tr><th scope=col>Chrom</th><th scope=col>ChromStart</th><th scope=col>ChromEnd</th><th scope=col>Region</th><th scope=col>Input.rep1</th><th scope=col>Input.rep2</th><th scope=col>Input.rep3</th><th scope=col>Input.rep4</th><th scope=col>Output.rep1</th><th scope=col>Output.rep2</th><th scope=col>Output.rep3</th></tr>\n",
       "\t<tr><th scope=col>&lt;chr&gt;</th><th scope=col>&lt;dbl&gt;</th><th scope=col>&lt;dbl&gt;</th><th scope=col>&lt;chr&gt;</th><th scope=col>&lt;dbl&gt;</th><th scope=col>&lt;dbl&gt;</th><th scope=col>&lt;dbl&gt;</th><th scope=col>&lt;dbl&gt;</th><th scope=col>&lt;dbl&gt;</th><th scope=col>&lt;dbl&gt;</th><th scope=col>&lt;dbl&gt;</th></tr>\n",
       "</thead>\n",
       "<tbody>\n",
       "\t<tr><td>chr1</td><td>10015</td><td>10442</td><td>chr1:10015-10442</td><td>0.5548838</td><td>0.1512165</td><td>0.1420263</td><td>0.139144</td><td>0.000000</td><td>0.00000</td><td>0.00000000</td></tr>\n",
       "\t<tr><td>chr1</td><td>14253</td><td>14645</td><td>chr1:14253-14645</td><td>0.0000000</td><td>0.0000000</td><td>0.0000000</td><td>0.000000</td><td>0.000000</td><td>0.00000</td><td>0.04416325</td></tr>\n",
       "\t<tr><td>chr1</td><td>16015</td><td>16477</td><td>chr1:16015-16477</td><td>0.0000000</td><td>0.8385643</td><td>1.1814006</td><td>1.543233</td><td>1.505122</td><td>1.07835</td><td>1.23657101</td></tr>\n",
       "</tbody>\n",
       "</table>\n"
      ],
      "text/latex": [
       "A tibble: 3 × 11\n",
       "\\begin{tabular}{lllllllllll}\n",
       " Chrom & ChromStart & ChromEnd & Region & Input.rep1 & Input.rep2 & Input.rep3 & Input.rep4 & Output.rep1 & Output.rep2 & Output.rep3\\\\\n",
       " <chr> & <dbl> & <dbl> & <chr> & <dbl> & <dbl> & <dbl> & <dbl> & <dbl> & <dbl> & <dbl>\\\\\n",
       "\\hline\n",
       "\t chr1 & 10015 & 10442 & chr1:10015-10442 & 0.5548838 & 0.1512165 & 0.1420263 & 0.139144 & 0.000000 & 0.00000 & 0.00000000\\\\\n",
       "\t chr1 & 14253 & 14645 & chr1:14253-14645 & 0.0000000 & 0.0000000 & 0.0000000 & 0.000000 & 0.000000 & 0.00000 & 0.04416325\\\\\n",
       "\t chr1 & 16015 & 16477 & chr1:16015-16477 & 0.0000000 & 0.8385643 & 1.1814006 & 1.543233 & 1.505122 & 1.07835 & 1.23657101\\\\\n",
       "\\end{tabular}\n"
      ],
      "text/markdown": [
       "\n",
       "A tibble: 3 × 11\n",
       "\n",
       "| Chrom &lt;chr&gt; | ChromStart &lt;dbl&gt; | ChromEnd &lt;dbl&gt; | Region &lt;chr&gt; | Input.rep1 &lt;dbl&gt; | Input.rep2 &lt;dbl&gt; | Input.rep3 &lt;dbl&gt; | Input.rep4 &lt;dbl&gt; | Output.rep1 &lt;dbl&gt; | Output.rep2 &lt;dbl&gt; | Output.rep3 &lt;dbl&gt; |\n",
       "|---|---|---|---|---|---|---|---|---|---|---|\n",
       "| chr1 | 10015 | 10442 | chr1:10015-10442 | 0.5548838 | 0.1512165 | 0.1420263 | 0.139144 | 0.000000 | 0.00000 | 0.00000000 |\n",
       "| chr1 | 14253 | 14645 | chr1:14253-14645 | 0.0000000 | 0.0000000 | 0.0000000 | 0.000000 | 0.000000 | 0.00000 | 0.04416325 |\n",
       "| chr1 | 16015 | 16477 | chr1:16015-16477 | 0.0000000 | 0.8385643 | 1.1814006 | 1.543233 | 1.505122 | 1.07835 | 1.23657101 |\n",
       "\n"
      ],
      "text/plain": [
       "  Chrom ChromStart ChromEnd Region           Input.rep1 Input.rep2 Input.rep3\n",
       "1 chr1  10015      10442    chr1:10015-10442 0.5548838  0.1512165  0.1420263 \n",
       "2 chr1  14253      14645    chr1:14253-14645 0.0000000  0.0000000  0.0000000 \n",
       "3 chr1  16015      16477    chr1:16015-16477 0.0000000  0.8385643  1.1814006 \n",
       "  Input.rep4 Output.rep1 Output.rep2 Output.rep3\n",
       "1 0.139144   0.000000    0.00000     0.00000000 \n",
       "2 0.000000   0.000000    0.00000     0.04416325 \n",
       "3 1.543233   1.505122    1.07835     1.23657101 "
      ]
     },
     "metadata": {},
     "output_type": "display_data"
    }
   ],
   "source": [
    "head(dat_tpm, 3)"
   ]
  },
  {
   "cell_type": "code",
   "execution_count": 15,
   "id": "15b77d68-59fb-42ea-88be-b48546940a7a",
   "metadata": {},
   "outputs": [
    {
     "data": {
      "text/html": [
       "<table class=\"dataframe\">\n",
       "<caption>A tibble: 3 × 11</caption>\n",
       "<thead>\n",
       "\t<tr><th scope=col>Chrom</th><th scope=col>ChromStart</th><th scope=col>ChromEnd</th><th scope=col>Region</th><th scope=col>Input.rep1</th><th scope=col>Input.rep2</th><th scope=col>Input.rep3</th><th scope=col>Input.rep4</th><th scope=col>Output.rep1</th><th scope=col>Output.rep2</th><th scope=col>Output.rep3</th></tr>\n",
       "\t<tr><th scope=col>&lt;chr&gt;</th><th scope=col>&lt;dbl&gt;</th><th scope=col>&lt;dbl&gt;</th><th scope=col>&lt;chr&gt;</th><th scope=col>&lt;dbl&gt;</th><th scope=col>&lt;dbl&gt;</th><th scope=col>&lt;dbl&gt;</th><th scope=col>&lt;dbl&gt;</th><th scope=col>&lt;dbl&gt;</th><th scope=col>&lt;dbl&gt;</th><th scope=col>&lt;dbl&gt;</th></tr>\n",
       "</thead>\n",
       "<tbody>\n",
       "\t<tr><td>chr1</td><td>10015</td><td>10442</td><td>chr1:10015-10442</td><td>0.0006950032</td><td>0.0001894768</td><td>0.0001780764</td><td>0.0001743399</td><td>0.000000000</td><td>0.00000000</td><td>0.0000000000</td></tr>\n",
       "\t<tr><td>chr1</td><td>14253</td><td>14645</td><td>chr1:14253-14645</td><td>0.0000000000</td><td>0.0000000000</td><td>0.0000000000</td><td>0.0000000000</td><td>0.000000000</td><td>0.00000000</td><td>0.0000532684</td></tr>\n",
       "\t<tr><td>chr1</td><td>16015</td><td>16477</td><td>chr1:16015-16477</td><td>0.0000000000</td><td>0.0010507347</td><td>0.0014812715</td><td>0.0019335875</td><td>0.001806618</td><td>0.00129646</td><td>0.0014915151</td></tr>\n",
       "</tbody>\n",
       "</table>\n"
      ],
      "text/latex": [
       "A tibble: 3 × 11\n",
       "\\begin{tabular}{lllllllllll}\n",
       " Chrom & ChromStart & ChromEnd & Region & Input.rep1 & Input.rep2 & Input.rep3 & Input.rep4 & Output.rep1 & Output.rep2 & Output.rep3\\\\\n",
       " <chr> & <dbl> & <dbl> & <chr> & <dbl> & <dbl> & <dbl> & <dbl> & <dbl> & <dbl> & <dbl>\\\\\n",
       "\\hline\n",
       "\t chr1 & 10015 & 10442 & chr1:10015-10442 & 0.0006950032 & 0.0001894768 & 0.0001780764 & 0.0001743399 & 0.000000000 & 0.00000000 & 0.0000000000\\\\\n",
       "\t chr1 & 14253 & 14645 & chr1:14253-14645 & 0.0000000000 & 0.0000000000 & 0.0000000000 & 0.0000000000 & 0.000000000 & 0.00000000 & 0.0000532684\\\\\n",
       "\t chr1 & 16015 & 16477 & chr1:16015-16477 & 0.0000000000 & 0.0010507347 & 0.0014812715 & 0.0019335875 & 0.001806618 & 0.00129646 & 0.0014915151\\\\\n",
       "\\end{tabular}\n"
      ],
      "text/markdown": [
       "\n",
       "A tibble: 3 × 11\n",
       "\n",
       "| Chrom &lt;chr&gt; | ChromStart &lt;dbl&gt; | ChromEnd &lt;dbl&gt; | Region &lt;chr&gt; | Input.rep1 &lt;dbl&gt; | Input.rep2 &lt;dbl&gt; | Input.rep3 &lt;dbl&gt; | Input.rep4 &lt;dbl&gt; | Output.rep1 &lt;dbl&gt; | Output.rep2 &lt;dbl&gt; | Output.rep3 &lt;dbl&gt; |\n",
       "|---|---|---|---|---|---|---|---|---|---|---|\n",
       "| chr1 | 10015 | 10442 | chr1:10015-10442 | 0.0006950032 | 0.0001894768 | 0.0001780764 | 0.0001743399 | 0.000000000 | 0.00000000 | 0.0000000000 |\n",
       "| chr1 | 14253 | 14645 | chr1:14253-14645 | 0.0000000000 | 0.0000000000 | 0.0000000000 | 0.0000000000 | 0.000000000 | 0.00000000 | 0.0000532684 |\n",
       "| chr1 | 16015 | 16477 | chr1:16015-16477 | 0.0000000000 | 0.0010507347 | 0.0014812715 | 0.0019335875 | 0.001806618 | 0.00129646 | 0.0014915151 |\n",
       "\n"
      ],
      "text/plain": [
       "  Chrom ChromStart ChromEnd Region           Input.rep1   Input.rep2  \n",
       "1 chr1  10015      10442    chr1:10015-10442 0.0006950032 0.0001894768\n",
       "2 chr1  14253      14645    chr1:14253-14645 0.0000000000 0.0000000000\n",
       "3 chr1  16015      16477    chr1:16015-16477 0.0000000000 0.0010507347\n",
       "  Input.rep3   Input.rep4   Output.rep1 Output.rep2 Output.rep3 \n",
       "1 0.0001780764 0.0001743399 0.000000000 0.00000000  0.0000000000\n",
       "2 0.0000000000 0.0000000000 0.000000000 0.00000000  0.0000532684\n",
       "3 0.0014812715 0.0019335875 0.001806618 0.00129646  0.0014915151"
      ]
     },
     "metadata": {},
     "output_type": "display_data"
    }
   ],
   "source": [
    "head(dat_fpkm, 3)"
   ]
  },
  {
   "cell_type": "code",
   "execution_count": 16,
   "id": "2e0a008c-e9bc-4734-a803-af711420f20b",
   "metadata": {},
   "outputs": [
    {
     "data": {
      "text/html": [
       "<table class=\"dataframe\">\n",
       "<caption>A tibble: 20 × 10</caption>\n",
       "<thead>\n",
       "\t<tr><th scope=col>Chrom</th><th scope=col>ChromStart</th><th scope=col>ChromEnd</th><th scope=col>Region</th><th scope=col>Input_DESeq</th><th scope=col>Input_FPKM</th><th scope=col>Input_TPM</th><th scope=col>Output_DESeq</th><th scope=col>Output_FPKM</th><th scope=col>Output_TPM</th></tr>\n",
       "\t<tr><th scope=col>&lt;chr&gt;</th><th scope=col>&lt;dbl&gt;</th><th scope=col>&lt;dbl&gt;</th><th scope=col>&lt;chr&gt;</th><th scope=col>&lt;dbl&gt;</th><th scope=col>&lt;dbl&gt;</th><th scope=col>&lt;dbl&gt;</th><th scope=col>&lt;dbl&gt;</th><th scope=col>&lt;dbl&gt;</th><th scope=col>&lt;dbl&gt;</th></tr>\n",
       "</thead>\n",
       "<tbody>\n",
       "\t<tr><td>chr1</td><td> 10015</td><td> 10442</td><td>chr1:10015-10442  </td><td>      NA</td><td>3.092240e-04</td><td>0.24681765</td><td>       NA</td><td>0.000000e+00</td><td>0.00000000</td></tr>\n",
       "\t<tr><td>chr1</td><td> 14253</td><td> 14645</td><td>chr1:14253-14645  </td><td>      NA</td><td>0.000000e+00</td><td>0.00000000</td><td>       NA</td><td>1.775613e-05</td><td>0.01472108</td></tr>\n",
       "\t<tr><td>chr1</td><td> 16015</td><td> 16477</td><td>chr1:16015-16477  </td><td>      NA</td><td>1.116398e-03</td><td>0.89079956</td><td>       NA</td><td>1.531531e-03</td><td>1.27334740</td></tr>\n",
       "\t<tr><td>chr1</td><td> 17237</td><td> 17772</td><td>chr1:17237-17772  </td><td>18.02759</td><td>2.271413e-03</td><td>1.81272665</td><td> 12.15365</td><td>1.432397e-03</td><td>1.19110326</td></tr>\n",
       "\t<tr><td>chr1</td><td> 28903</td><td> 29613</td><td>chr1:28903-29613  </td><td>      NA</td><td>2.677416e-05</td><td>0.02135395</td><td>       NA</td><td>2.268462e-04</td><td>0.18863010</td></tr>\n",
       "\t<tr><td>chr1</td><td>101603</td><td>101849</td><td>chr1:101603-101849</td><td>      NA</td><td>1.529286e-04</td><td>0.12201191</td><td>       NA</td><td>1.414316e-04</td><td>0.11748549</td></tr>\n",
       "\t<tr><td>chr1</td><td>115411</td><td>115986</td><td>chr1:115411-115986</td><td>      NA</td><td>1.012973e-04</td><td>0.08080866</td><td>       NA</td><td>1.948300e-04</td><td>0.16185718</td></tr>\n",
       "\t<tr><td>chr1</td><td>118518</td><td>118743</td><td>chr1:118518-118743</td><td>      NA</td><td>2.588709e-04</td><td>0.20651101</td><td>       NA</td><td>2.829528e-04</td><td>0.23510013</td></tr>\n",
       "\t<tr><td>chr1</td><td>136071</td><td>137429</td><td>chr1:136071-137429</td><td>      NA</td><td>3.762828e-04</td><td>0.30030532</td><td>       NA</td><td>3.975816e-04</td><td>0.33045998</td></tr>\n",
       "\t<tr><td>chr1</td><td>137737</td><td>139544</td><td>chr1:137737-139544</td><td>53.31069</td><td>1.989432e-03</td><td>1.58769799</td><td> 88.49095</td><td>3.088594e-03</td><td>2.56823921</td></tr>\n",
       "\t<tr><td>chr1</td><td>180982</td><td>182087</td><td>chr1:180982-182087</td><td>33.14167</td><td>2.023449e-03</td><td>1.61482299</td><td> 37.69949</td><td>2.152353e-03</td><td>1.78964297</td></tr>\n",
       "\t<tr><td>chr1</td><td>183239</td><td>184602</td><td>chr1:183239-184602</td><td>48.85236</td><td>2.417931e-03</td><td>1.92966631</td><td> 50.52595</td><td>2.341748e-03</td><td>1.94651998</td></tr>\n",
       "\t<tr><td>chr1</td><td>186238</td><td>187159</td><td>chr1:186238-187159</td><td>53.47788</td><td>3.915565e-03</td><td>3.12491798</td><td> 46.42704</td><td>3.187302e-03</td><td>2.64874629</td></tr>\n",
       "\t<tr><td>chr1</td><td>191188</td><td>191739</td><td>chr1:191188-191739</td><td>51.08362</td><td>6.243608e-03</td><td>4.98274071</td><td> 47.37843</td><td>5.430942e-03</td><td>4.51461677</td></tr>\n",
       "\t<tr><td>chr1</td><td>202111</td><td>202447</td><td>chr1:202111-202447</td><td>      NA</td><td>4.562934e-04</td><td>0.36407593</td><td>       NA</td><td>2.712387e-04</td><td>0.22560713</td></tr>\n",
       "\t<tr><td>chr1</td><td>267853</td><td>268603</td><td>chr1:267853-268603</td><td>24.42590</td><td>2.198985e-03</td><td>1.75481499</td><td> 15.73267</td><td>1.326154e-03</td><td>1.10217420</td></tr>\n",
       "\t<tr><td>chr1</td><td>605090</td><td>605823</td><td>chr1:605090-605823</td><td>      NA</td><td>4.924870e-04</td><td>0.39298526</td><td>       NA</td><td>8.029870e-04</td><td>0.66766691</td></tr>\n",
       "\t<tr><td>chr1</td><td>727124</td><td>727516</td><td>chr1:727124-727516</td><td>      NA</td><td>1.033411e-03</td><td>0.82470940</td><td>       NA</td><td>1.435813e-03</td><td>1.19387691</td></tr>\n",
       "\t<tr><td>chr1</td><td>770944</td><td>771343</td><td>chr1:770944-771343</td><td>      NA</td><td>1.011232e-03</td><td>0.80701088</td><td>       NA</td><td>1.669611e-03</td><td>1.38806693</td></tr>\n",
       "\t<tr><td>chr1</td><td>777949</td><td>779437</td><td>chr1:777949-779437</td><td>91.31184</td><td>4.140125e-03</td><td>3.30408250</td><td>186.10795</td><td>7.891514e-03</td><td>6.56138322</td></tr>\n",
       "</tbody>\n",
       "</table>\n"
      ],
      "text/latex": [
       "A tibble: 20 × 10\n",
       "\\begin{tabular}{llllllllll}\n",
       " Chrom & ChromStart & ChromEnd & Region & Input\\_DESeq & Input\\_FPKM & Input\\_TPM & Output\\_DESeq & Output\\_FPKM & Output\\_TPM\\\\\n",
       " <chr> & <dbl> & <dbl> & <chr> & <dbl> & <dbl> & <dbl> & <dbl> & <dbl> & <dbl>\\\\\n",
       "\\hline\n",
       "\t chr1 &  10015 &  10442 & chr1:10015-10442   &       NA & 3.092240e-04 & 0.24681765 &        NA & 0.000000e+00 & 0.00000000\\\\\n",
       "\t chr1 &  14253 &  14645 & chr1:14253-14645   &       NA & 0.000000e+00 & 0.00000000 &        NA & 1.775613e-05 & 0.01472108\\\\\n",
       "\t chr1 &  16015 &  16477 & chr1:16015-16477   &       NA & 1.116398e-03 & 0.89079956 &        NA & 1.531531e-03 & 1.27334740\\\\\n",
       "\t chr1 &  17237 &  17772 & chr1:17237-17772   & 18.02759 & 2.271413e-03 & 1.81272665 &  12.15365 & 1.432397e-03 & 1.19110326\\\\\n",
       "\t chr1 &  28903 &  29613 & chr1:28903-29613   &       NA & 2.677416e-05 & 0.02135395 &        NA & 2.268462e-04 & 0.18863010\\\\\n",
       "\t chr1 & 101603 & 101849 & chr1:101603-101849 &       NA & 1.529286e-04 & 0.12201191 &        NA & 1.414316e-04 & 0.11748549\\\\\n",
       "\t chr1 & 115411 & 115986 & chr1:115411-115986 &       NA & 1.012973e-04 & 0.08080866 &        NA & 1.948300e-04 & 0.16185718\\\\\n",
       "\t chr1 & 118518 & 118743 & chr1:118518-118743 &       NA & 2.588709e-04 & 0.20651101 &        NA & 2.829528e-04 & 0.23510013\\\\\n",
       "\t chr1 & 136071 & 137429 & chr1:136071-137429 &       NA & 3.762828e-04 & 0.30030532 &        NA & 3.975816e-04 & 0.33045998\\\\\n",
       "\t chr1 & 137737 & 139544 & chr1:137737-139544 & 53.31069 & 1.989432e-03 & 1.58769799 &  88.49095 & 3.088594e-03 & 2.56823921\\\\\n",
       "\t chr1 & 180982 & 182087 & chr1:180982-182087 & 33.14167 & 2.023449e-03 & 1.61482299 &  37.69949 & 2.152353e-03 & 1.78964297\\\\\n",
       "\t chr1 & 183239 & 184602 & chr1:183239-184602 & 48.85236 & 2.417931e-03 & 1.92966631 &  50.52595 & 2.341748e-03 & 1.94651998\\\\\n",
       "\t chr1 & 186238 & 187159 & chr1:186238-187159 & 53.47788 & 3.915565e-03 & 3.12491798 &  46.42704 & 3.187302e-03 & 2.64874629\\\\\n",
       "\t chr1 & 191188 & 191739 & chr1:191188-191739 & 51.08362 & 6.243608e-03 & 4.98274071 &  47.37843 & 5.430942e-03 & 4.51461677\\\\\n",
       "\t chr1 & 202111 & 202447 & chr1:202111-202447 &       NA & 4.562934e-04 & 0.36407593 &        NA & 2.712387e-04 & 0.22560713\\\\\n",
       "\t chr1 & 267853 & 268603 & chr1:267853-268603 & 24.42590 & 2.198985e-03 & 1.75481499 &  15.73267 & 1.326154e-03 & 1.10217420\\\\\n",
       "\t chr1 & 605090 & 605823 & chr1:605090-605823 &       NA & 4.924870e-04 & 0.39298526 &        NA & 8.029870e-04 & 0.66766691\\\\\n",
       "\t chr1 & 727124 & 727516 & chr1:727124-727516 &       NA & 1.033411e-03 & 0.82470940 &        NA & 1.435813e-03 & 1.19387691\\\\\n",
       "\t chr1 & 770944 & 771343 & chr1:770944-771343 &       NA & 1.011232e-03 & 0.80701088 &        NA & 1.669611e-03 & 1.38806693\\\\\n",
       "\t chr1 & 777949 & 779437 & chr1:777949-779437 & 91.31184 & 4.140125e-03 & 3.30408250 & 186.10795 & 7.891514e-03 & 6.56138322\\\\\n",
       "\\end{tabular}\n"
      ],
      "text/markdown": [
       "\n",
       "A tibble: 20 × 10\n",
       "\n",
       "| Chrom &lt;chr&gt; | ChromStart &lt;dbl&gt; | ChromEnd &lt;dbl&gt; | Region &lt;chr&gt; | Input_DESeq &lt;dbl&gt; | Input_FPKM &lt;dbl&gt; | Input_TPM &lt;dbl&gt; | Output_DESeq &lt;dbl&gt; | Output_FPKM &lt;dbl&gt; | Output_TPM &lt;dbl&gt; |\n",
       "|---|---|---|---|---|---|---|---|---|---|\n",
       "| chr1 |  10015 |  10442 | chr1:10015-10442   |       NA | 3.092240e-04 | 0.24681765 |        NA | 0.000000e+00 | 0.00000000 |\n",
       "| chr1 |  14253 |  14645 | chr1:14253-14645   |       NA | 0.000000e+00 | 0.00000000 |        NA | 1.775613e-05 | 0.01472108 |\n",
       "| chr1 |  16015 |  16477 | chr1:16015-16477   |       NA | 1.116398e-03 | 0.89079956 |        NA | 1.531531e-03 | 1.27334740 |\n",
       "| chr1 |  17237 |  17772 | chr1:17237-17772   | 18.02759 | 2.271413e-03 | 1.81272665 |  12.15365 | 1.432397e-03 | 1.19110326 |\n",
       "| chr1 |  28903 |  29613 | chr1:28903-29613   |       NA | 2.677416e-05 | 0.02135395 |        NA | 2.268462e-04 | 0.18863010 |\n",
       "| chr1 | 101603 | 101849 | chr1:101603-101849 |       NA | 1.529286e-04 | 0.12201191 |        NA | 1.414316e-04 | 0.11748549 |\n",
       "| chr1 | 115411 | 115986 | chr1:115411-115986 |       NA | 1.012973e-04 | 0.08080866 |        NA | 1.948300e-04 | 0.16185718 |\n",
       "| chr1 | 118518 | 118743 | chr1:118518-118743 |       NA | 2.588709e-04 | 0.20651101 |        NA | 2.829528e-04 | 0.23510013 |\n",
       "| chr1 | 136071 | 137429 | chr1:136071-137429 |       NA | 3.762828e-04 | 0.30030532 |        NA | 3.975816e-04 | 0.33045998 |\n",
       "| chr1 | 137737 | 139544 | chr1:137737-139544 | 53.31069 | 1.989432e-03 | 1.58769799 |  88.49095 | 3.088594e-03 | 2.56823921 |\n",
       "| chr1 | 180982 | 182087 | chr1:180982-182087 | 33.14167 | 2.023449e-03 | 1.61482299 |  37.69949 | 2.152353e-03 | 1.78964297 |\n",
       "| chr1 | 183239 | 184602 | chr1:183239-184602 | 48.85236 | 2.417931e-03 | 1.92966631 |  50.52595 | 2.341748e-03 | 1.94651998 |\n",
       "| chr1 | 186238 | 187159 | chr1:186238-187159 | 53.47788 | 3.915565e-03 | 3.12491798 |  46.42704 | 3.187302e-03 | 2.64874629 |\n",
       "| chr1 | 191188 | 191739 | chr1:191188-191739 | 51.08362 | 6.243608e-03 | 4.98274071 |  47.37843 | 5.430942e-03 | 4.51461677 |\n",
       "| chr1 | 202111 | 202447 | chr1:202111-202447 |       NA | 4.562934e-04 | 0.36407593 |        NA | 2.712387e-04 | 0.22560713 |\n",
       "| chr1 | 267853 | 268603 | chr1:267853-268603 | 24.42590 | 2.198985e-03 | 1.75481499 |  15.73267 | 1.326154e-03 | 1.10217420 |\n",
       "| chr1 | 605090 | 605823 | chr1:605090-605823 |       NA | 4.924870e-04 | 0.39298526 |        NA | 8.029870e-04 | 0.66766691 |\n",
       "| chr1 | 727124 | 727516 | chr1:727124-727516 |       NA | 1.033411e-03 | 0.82470940 |        NA | 1.435813e-03 | 1.19387691 |\n",
       "| chr1 | 770944 | 771343 | chr1:770944-771343 |       NA | 1.011232e-03 | 0.80701088 |        NA | 1.669611e-03 | 1.38806693 |\n",
       "| chr1 | 777949 | 779437 | chr1:777949-779437 | 91.31184 | 4.140125e-03 | 3.30408250 | 186.10795 | 7.891514e-03 | 6.56138322 |\n",
       "\n"
      ],
      "text/plain": [
       "   Chrom ChromStart ChromEnd Region             Input_DESeq Input_FPKM  \n",
       "1  chr1   10015      10442   chr1:10015-10442         NA    3.092240e-04\n",
       "2  chr1   14253      14645   chr1:14253-14645         NA    0.000000e+00\n",
       "3  chr1   16015      16477   chr1:16015-16477         NA    1.116398e-03\n",
       "4  chr1   17237      17772   chr1:17237-17772   18.02759    2.271413e-03\n",
       "5  chr1   28903      29613   chr1:28903-29613         NA    2.677416e-05\n",
       "6  chr1  101603     101849   chr1:101603-101849       NA    1.529286e-04\n",
       "7  chr1  115411     115986   chr1:115411-115986       NA    1.012973e-04\n",
       "8  chr1  118518     118743   chr1:118518-118743       NA    2.588709e-04\n",
       "9  chr1  136071     137429   chr1:136071-137429       NA    3.762828e-04\n",
       "10 chr1  137737     139544   chr1:137737-139544 53.31069    1.989432e-03\n",
       "11 chr1  180982     182087   chr1:180982-182087 33.14167    2.023449e-03\n",
       "12 chr1  183239     184602   chr1:183239-184602 48.85236    2.417931e-03\n",
       "13 chr1  186238     187159   chr1:186238-187159 53.47788    3.915565e-03\n",
       "14 chr1  191188     191739   chr1:191188-191739 51.08362    6.243608e-03\n",
       "15 chr1  202111     202447   chr1:202111-202447       NA    4.562934e-04\n",
       "16 chr1  267853     268603   chr1:267853-268603 24.42590    2.198985e-03\n",
       "17 chr1  605090     605823   chr1:605090-605823       NA    4.924870e-04\n",
       "18 chr1  727124     727516   chr1:727124-727516       NA    1.033411e-03\n",
       "19 chr1  770944     771343   chr1:770944-771343       NA    1.011232e-03\n",
       "20 chr1  777949     779437   chr1:777949-779437 91.31184    4.140125e-03\n",
       "   Input_TPM  Output_DESeq Output_FPKM  Output_TPM\n",
       "1  0.24681765        NA    0.000000e+00 0.00000000\n",
       "2  0.00000000        NA    1.775613e-05 0.01472108\n",
       "3  0.89079956        NA    1.531531e-03 1.27334740\n",
       "4  1.81272665  12.15365    1.432397e-03 1.19110326\n",
       "5  0.02135395        NA    2.268462e-04 0.18863010\n",
       "6  0.12201191        NA    1.414316e-04 0.11748549\n",
       "7  0.08080866        NA    1.948300e-04 0.16185718\n",
       "8  0.20651101        NA    2.829528e-04 0.23510013\n",
       "9  0.30030532        NA    3.975816e-04 0.33045998\n",
       "10 1.58769799  88.49095    3.088594e-03 2.56823921\n",
       "11 1.61482299  37.69949    2.152353e-03 1.78964297\n",
       "12 1.92966631  50.52595    2.341748e-03 1.94651998\n",
       "13 3.12491798  46.42704    3.187302e-03 2.64874629\n",
       "14 4.98274071  47.37843    5.430942e-03 4.51461677\n",
       "15 0.36407593        NA    2.712387e-04 0.22560713\n",
       "16 1.75481499  15.73267    1.326154e-03 1.10217420\n",
       "17 0.39298526        NA    8.029870e-04 0.66766691\n",
       "18 0.82470940        NA    1.435813e-03 1.19387691\n",
       "19 0.80701088        NA    1.669611e-03 1.38806693\n",
       "20 3.30408250 186.10795    7.891514e-03 6.56138322"
      ]
     },
     "metadata": {},
     "output_type": "display_data"
    }
   ],
   "source": [
    "head(dat_summary, 20)"
   ]
  },
  {
   "cell_type": "code",
   "execution_count": null,
   "id": "1bba4e0d-43d5-41dc-b697-8a01047e1c4e",
   "metadata": {},
   "outputs": [],
   "source": []
  },
  {
   "cell_type": "code",
   "execution_count": null,
   "id": "63e691f1-c282-4ed2-b162-918e87bc0168",
   "metadata": {},
   "outputs": [],
   "source": []
  },
  {
   "cell_type": "code",
   "execution_count": null,
   "id": "7200dc3a-290e-43af-bcc5-d2a4f5fb4f25",
   "metadata": {},
   "outputs": [],
   "source": []
  },
  {
   "cell_type": "code",
   "execution_count": null,
   "id": "8a667bd9-3bad-4165-8cf6-4fd96e5994e9",
   "metadata": {},
   "outputs": [],
   "source": []
  },
  {
   "cell_type": "markdown",
   "id": "789f8f48-6326-4cc3-8f1b-7a2e8a3b47fd",
   "metadata": {},
   "source": [
    "## Review"
   ]
  },
  {
   "cell_type": "code",
   "execution_count": 56,
   "id": "bdc68f35-74e5-457e-a197-97dcaa278782",
   "metadata": {},
   "outputs": [
    {
     "data": {
      "text/html": [
       "<table class=\"dataframe\">\n",
       "<caption>A tibble: 3 × 14</caption>\n",
       "<thead>\n",
       "\t<tr><th scope=col>Chrom</th><th scope=col>ChromStart</th><th scope=col>ChromEnd</th><th scope=col>Region</th><th scope=col>Input.rep1</th><th scope=col>Input.rep2</th><th scope=col>Input.rep3</th><th scope=col>Input.rep4</th><th scope=col>Input.rep5</th><th scope=col>Input.rep6</th><th scope=col>Output.rep1</th><th scope=col>Output.rep2</th><th scope=col>Output.rep3</th><th scope=col>Output.rep4</th></tr>\n",
       "\t<tr><th scope=col>&lt;chr&gt;</th><th scope=col>&lt;dbl&gt;</th><th scope=col>&lt;dbl&gt;</th><th scope=col>&lt;chr&gt;</th><th scope=col>&lt;dbl&gt;</th><th scope=col>&lt;dbl&gt;</th><th scope=col>&lt;dbl&gt;</th><th scope=col>&lt;dbl&gt;</th><th scope=col>&lt;dbl&gt;</th><th scope=col>&lt;dbl&gt;</th><th scope=col>&lt;dbl&gt;</th><th scope=col>&lt;dbl&gt;</th><th scope=col>&lt;dbl&gt;</th><th scope=col>&lt;dbl&gt;</th></tr>\n",
       "</thead>\n",
       "<tbody>\n",
       "\t<tr><td>chr1</td><td>10038</td><td>10405</td><td>chr1:10038-10405</td><td>85.29216</td><td>94.85917</td><td>103.92258</td><td>104.02099</td><td>82.94011</td><td>106.93828</td><td>26.91726</td><td>34.93514</td><td>11.10767</td><td>15.78996</td></tr>\n",
       "\t<tr><td>chr1</td><td>14282</td><td>14614</td><td>chr1:14282-14614</td><td>62.35151</td><td>63.69770</td><td> 65.16457</td><td> 62.23090</td><td>57.31255</td><td> 66.44709</td><td>43.06761</td><td>66.95901</td><td>72.19984</td><td>64.73885</td></tr>\n",
       "\t<tr><td>chr1</td><td>16025</td><td>16338</td><td>chr1:16025-16338</td><td>72.93950</td><td>86.61054</td><td> 74.53464</td><td> 77.22082</td><td>82.94011</td><td> 85.13533</td><td>43.06761</td><td>20.37883</td><td>41.65375</td><td>28.42194</td></tr>\n",
       "</tbody>\n",
       "</table>\n"
      ],
      "text/latex": [
       "A tibble: 3 × 14\n",
       "\\begin{tabular}{llllllllllllll}\n",
       " Chrom & ChromStart & ChromEnd & Region & Input.rep1 & Input.rep2 & Input.rep3 & Input.rep4 & Input.rep5 & Input.rep6 & Output.rep1 & Output.rep2 & Output.rep3 & Output.rep4\\\\\n",
       " <chr> & <dbl> & <dbl> & <chr> & <dbl> & <dbl> & <dbl> & <dbl> & <dbl> & <dbl> & <dbl> & <dbl> & <dbl> & <dbl>\\\\\n",
       "\\hline\n",
       "\t chr1 & 10038 & 10405 & chr1:10038-10405 & 85.29216 & 94.85917 & 103.92258 & 104.02099 & 82.94011 & 106.93828 & 26.91726 & 34.93514 & 11.10767 & 15.78996\\\\\n",
       "\t chr1 & 14282 & 14614 & chr1:14282-14614 & 62.35151 & 63.69770 &  65.16457 &  62.23090 & 57.31255 &  66.44709 & 43.06761 & 66.95901 & 72.19984 & 64.73885\\\\\n",
       "\t chr1 & 16025 & 16338 & chr1:16025-16338 & 72.93950 & 86.61054 &  74.53464 &  77.22082 & 82.94011 &  85.13533 & 43.06761 & 20.37883 & 41.65375 & 28.42194\\\\\n",
       "\\end{tabular}\n"
      ],
      "text/markdown": [
       "\n",
       "A tibble: 3 × 14\n",
       "\n",
       "| Chrom &lt;chr&gt; | ChromStart &lt;dbl&gt; | ChromEnd &lt;dbl&gt; | Region &lt;chr&gt; | Input.rep1 &lt;dbl&gt; | Input.rep2 &lt;dbl&gt; | Input.rep3 &lt;dbl&gt; | Input.rep4 &lt;dbl&gt; | Input.rep5 &lt;dbl&gt; | Input.rep6 &lt;dbl&gt; | Output.rep1 &lt;dbl&gt; | Output.rep2 &lt;dbl&gt; | Output.rep3 &lt;dbl&gt; | Output.rep4 &lt;dbl&gt; |\n",
       "|---|---|---|---|---|---|---|---|---|---|---|---|---|---|\n",
       "| chr1 | 10038 | 10405 | chr1:10038-10405 | 85.29216 | 94.85917 | 103.92258 | 104.02099 | 82.94011 | 106.93828 | 26.91726 | 34.93514 | 11.10767 | 15.78996 |\n",
       "| chr1 | 14282 | 14614 | chr1:14282-14614 | 62.35151 | 63.69770 |  65.16457 |  62.23090 | 57.31255 |  66.44709 | 43.06761 | 66.95901 | 72.19984 | 64.73885 |\n",
       "| chr1 | 16025 | 16338 | chr1:16025-16338 | 72.93950 | 86.61054 |  74.53464 |  77.22082 | 82.94011 |  85.13533 | 43.06761 | 20.37883 | 41.65375 | 28.42194 |\n",
       "\n"
      ],
      "text/plain": [
       "  Chrom ChromStart ChromEnd Region           Input.rep1 Input.rep2 Input.rep3\n",
       "1 chr1  10038      10405    chr1:10038-10405 85.29216   94.85917   103.92258 \n",
       "2 chr1  14282      14614    chr1:14282-14614 62.35151   63.69770    65.16457 \n",
       "3 chr1  16025      16338    chr1:16025-16338 72.93950   86.61054    74.53464 \n",
       "  Input.rep4 Input.rep5 Input.rep6 Output.rep1 Output.rep2 Output.rep3\n",
       "1 104.02099  82.94011   106.93828  26.91726    34.93514    11.10767   \n",
       "2  62.23090  57.31255    66.44709  43.06761    66.95901    72.19984   \n",
       "3  77.22082  82.94011    85.13533  43.06761    20.37883    41.65375   \n",
       "  Output.rep4\n",
       "1 15.78996   \n",
       "2 64.73885   \n",
       "3 28.42194   "
      ]
     },
     "metadata": {},
     "output_type": "display_data"
    }
   ],
   "source": [
    "head(dat_dds_count, 3)"
   ]
  },
  {
   "cell_type": "code",
   "execution_count": 57,
   "id": "8e478932-082c-493d-88a6-e90f76266a44",
   "metadata": {},
   "outputs": [
    {
     "data": {
      "text/html": [
       "<table class=\"dataframe\">\n",
       "<caption>A tibble: 3 × 10</caption>\n",
       "<thead>\n",
       "\t<tr><th scope=col>Chrom</th><th scope=col>ChromStart</th><th scope=col>ChromEnd</th><th scope=col>Region</th><th scope=col>baseMean</th><th scope=col>log2FoldChange</th><th scope=col>lfcSE</th><th scope=col>stat</th><th scope=col>pvalue</th><th scope=col>padj</th></tr>\n",
       "\t<tr><th scope=col>&lt;chr&gt;</th><th scope=col>&lt;dbl&gt;</th><th scope=col>&lt;dbl&gt;</th><th scope=col>&lt;chr&gt;</th><th scope=col>&lt;dbl&gt;</th><th scope=col>&lt;dbl&gt;</th><th scope=col>&lt;dbl&gt;</th><th scope=col>&lt;dbl&gt;</th><th scope=col>&lt;dbl&gt;</th><th scope=col>&lt;dbl&gt;</th></tr>\n",
       "</thead>\n",
       "<tbody>\n",
       "\t<tr><td>chr1</td><td>10038</td><td>10405</td><td>chr1:10038-10405</td><td>66.67233</td><td>-2.23485278</td><td>0.2790669</td><td>-8.0083052</td><td>1.163000e-15</td><td>8.299026e-15</td></tr>\n",
       "\t<tr><td>chr1</td><td>14282</td><td>14614</td><td>chr1:14282-14614</td><td>62.41696</td><td> 0.03179054</td><td>0.1644506</td><td> 0.1933136</td><td>8.467134e-01</td><td>8.816469e-01</td></tr>\n",
       "\t<tr><td>chr1</td><td>16025</td><td>16338</td><td>chr1:16025-16338</td><td>61.29031</td><td>-1.33934074</td><td>0.2226910</td><td>-6.0143468</td><td>1.806134e-09</td><td>8.654528e-09</td></tr>\n",
       "</tbody>\n",
       "</table>\n"
      ],
      "text/latex": [
       "A tibble: 3 × 10\n",
       "\\begin{tabular}{llllllllll}\n",
       " Chrom & ChromStart & ChromEnd & Region & baseMean & log2FoldChange & lfcSE & stat & pvalue & padj\\\\\n",
       " <chr> & <dbl> & <dbl> & <chr> & <dbl> & <dbl> & <dbl> & <dbl> & <dbl> & <dbl>\\\\\n",
       "\\hline\n",
       "\t chr1 & 10038 & 10405 & chr1:10038-10405 & 66.67233 & -2.23485278 & 0.2790669 & -8.0083052 & 1.163000e-15 & 8.299026e-15\\\\\n",
       "\t chr1 & 14282 & 14614 & chr1:14282-14614 & 62.41696 &  0.03179054 & 0.1644506 &  0.1933136 & 8.467134e-01 & 8.816469e-01\\\\\n",
       "\t chr1 & 16025 & 16338 & chr1:16025-16338 & 61.29031 & -1.33934074 & 0.2226910 & -6.0143468 & 1.806134e-09 & 8.654528e-09\\\\\n",
       "\\end{tabular}\n"
      ],
      "text/markdown": [
       "\n",
       "A tibble: 3 × 10\n",
       "\n",
       "| Chrom &lt;chr&gt; | ChromStart &lt;dbl&gt; | ChromEnd &lt;dbl&gt; | Region &lt;chr&gt; | baseMean &lt;dbl&gt; | log2FoldChange &lt;dbl&gt; | lfcSE &lt;dbl&gt; | stat &lt;dbl&gt; | pvalue &lt;dbl&gt; | padj &lt;dbl&gt; |\n",
       "|---|---|---|---|---|---|---|---|---|---|\n",
       "| chr1 | 10038 | 10405 | chr1:10038-10405 | 66.67233 | -2.23485278 | 0.2790669 | -8.0083052 | 1.163000e-15 | 8.299026e-15 |\n",
       "| chr1 | 14282 | 14614 | chr1:14282-14614 | 62.41696 |  0.03179054 | 0.1644506 |  0.1933136 | 8.467134e-01 | 8.816469e-01 |\n",
       "| chr1 | 16025 | 16338 | chr1:16025-16338 | 61.29031 | -1.33934074 | 0.2226910 | -6.0143468 | 1.806134e-09 | 8.654528e-09 |\n",
       "\n"
      ],
      "text/plain": [
       "  Chrom ChromStart ChromEnd Region           baseMean log2FoldChange lfcSE    \n",
       "1 chr1  10038      10405    chr1:10038-10405 66.67233 -2.23485278    0.2790669\n",
       "2 chr1  14282      14614    chr1:14282-14614 62.41696  0.03179054    0.1644506\n",
       "3 chr1  16025      16338    chr1:16025-16338 61.29031 -1.33934074    0.2226910\n",
       "  stat       pvalue       padj        \n",
       "1 -8.0083052 1.163000e-15 8.299026e-15\n",
       "2  0.1933136 8.467134e-01 8.816469e-01\n",
       "3 -6.0143468 1.806134e-09 8.654528e-09"
      ]
     },
     "metadata": {},
     "output_type": "display_data"
    }
   ],
   "source": [
    "head(dat_dds_result, 3)"
   ]
  },
  {
   "cell_type": "code",
   "execution_count": 59,
   "id": "c8c0fdbd-fdd6-4bfb-925c-3942891c7a33",
   "metadata": {},
   "outputs": [
    {
     "data": {
      "text/html": [
       "<table class=\"dataframe\">\n",
       "<caption>A tibble: 3 × 14</caption>\n",
       "<thead>\n",
       "\t<tr><th scope=col>Chrom</th><th scope=col>ChromStart</th><th scope=col>ChromEnd</th><th scope=col>Region</th><th scope=col>Input.rep1</th><th scope=col>Input.rep2</th><th scope=col>Input.rep3</th><th scope=col>Input.rep4</th><th scope=col>Input.rep5</th><th scope=col>Input.rep6</th><th scope=col>Output.rep1</th><th scope=col>Output.rep2</th><th scope=col>Output.rep3</th><th scope=col>Output.rep4</th></tr>\n",
       "\t<tr><th scope=col>&lt;chr&gt;</th><th scope=col>&lt;dbl&gt;</th><th scope=col>&lt;dbl&gt;</th><th scope=col>&lt;chr&gt;</th><th scope=col>&lt;dbl&gt;</th><th scope=col>&lt;dbl&gt;</th><th scope=col>&lt;dbl&gt;</th><th scope=col>&lt;dbl&gt;</th><th scope=col>&lt;dbl&gt;</th><th scope=col>&lt;dbl&gt;</th><th scope=col>&lt;dbl&gt;</th><th scope=col>&lt;dbl&gt;</th><th scope=col>&lt;dbl&gt;</th><th scope=col>&lt;dbl&gt;</th></tr>\n",
       "</thead>\n",
       "<tbody>\n",
       "\t<tr><td>chr1</td><td>10038</td><td>10405</td><td>chr1:10038-10405</td><td>3.445338</td><td>3.888148</td><td>4.290341</td><td>4.273202</td><td>3.397390</td><td>4.345809</td><td>0.8436118</td><td>1.171350</td><td>0.3693823</td><td>0.4884531</td></tr>\n",
       "\t<tr><td>chr1</td><td>14282</td><td>14614</td><td>chr1:14282-14614</td><td>2.784182</td><td>2.886126</td><td>2.973866</td><td>2.825963</td><td>2.595126</td><td>2.984980</td><td>1.4920749</td><td>2.481768</td><td>2.6541010</td><td>2.2137812</td></tr>\n",
       "\t<tr><td>chr1</td><td>16025</td><td>16338</td><td>chr1:16025-16338</td><td>3.454675</td><td>4.162517</td><td>3.607961</td><td>3.719535</td><td>3.983521</td><td>4.056664</td><td>1.5826481</td><td>0.801171</td><td>1.6241611</td><td>1.0309013</td></tr>\n",
       "</tbody>\n",
       "</table>\n"
      ],
      "text/latex": [
       "A tibble: 3 × 14\n",
       "\\begin{tabular}{llllllllllllll}\n",
       " Chrom & ChromStart & ChromEnd & Region & Input.rep1 & Input.rep2 & Input.rep3 & Input.rep4 & Input.rep5 & Input.rep6 & Output.rep1 & Output.rep2 & Output.rep3 & Output.rep4\\\\\n",
       " <chr> & <dbl> & <dbl> & <chr> & <dbl> & <dbl> & <dbl> & <dbl> & <dbl> & <dbl> & <dbl> & <dbl> & <dbl> & <dbl>\\\\\n",
       "\\hline\n",
       "\t chr1 & 10038 & 10405 & chr1:10038-10405 & 3.445338 & 3.888148 & 4.290341 & 4.273202 & 3.397390 & 4.345809 & 0.8436118 & 1.171350 & 0.3693823 & 0.4884531\\\\\n",
       "\t chr1 & 14282 & 14614 & chr1:14282-14614 & 2.784182 & 2.886126 & 2.973866 & 2.825963 & 2.595126 & 2.984980 & 1.4920749 & 2.481768 & 2.6541010 & 2.2137812\\\\\n",
       "\t chr1 & 16025 & 16338 & chr1:16025-16338 & 3.454675 & 4.162517 & 3.607961 & 3.719535 & 3.983521 & 4.056664 & 1.5826481 & 0.801171 & 1.6241611 & 1.0309013\\\\\n",
       "\\end{tabular}\n"
      ],
      "text/markdown": [
       "\n",
       "A tibble: 3 × 14\n",
       "\n",
       "| Chrom &lt;chr&gt; | ChromStart &lt;dbl&gt; | ChromEnd &lt;dbl&gt; | Region &lt;chr&gt; | Input.rep1 &lt;dbl&gt; | Input.rep2 &lt;dbl&gt; | Input.rep3 &lt;dbl&gt; | Input.rep4 &lt;dbl&gt; | Input.rep5 &lt;dbl&gt; | Input.rep6 &lt;dbl&gt; | Output.rep1 &lt;dbl&gt; | Output.rep2 &lt;dbl&gt; | Output.rep3 &lt;dbl&gt; | Output.rep4 &lt;dbl&gt; |\n",
       "|---|---|---|---|---|---|---|---|---|---|---|---|---|---|\n",
       "| chr1 | 10038 | 10405 | chr1:10038-10405 | 3.445338 | 3.888148 | 4.290341 | 4.273202 | 3.397390 | 4.345809 | 0.8436118 | 1.171350 | 0.3693823 | 0.4884531 |\n",
       "| chr1 | 14282 | 14614 | chr1:14282-14614 | 2.784182 | 2.886126 | 2.973866 | 2.825963 | 2.595126 | 2.984980 | 1.4920749 | 2.481768 | 2.6541010 | 2.2137812 |\n",
       "| chr1 | 16025 | 16338 | chr1:16025-16338 | 3.454675 | 4.162517 | 3.607961 | 3.719535 | 3.983521 | 4.056664 | 1.5826481 | 0.801171 | 1.6241611 | 1.0309013 |\n",
       "\n"
      ],
      "text/plain": [
       "  Chrom ChromStart ChromEnd Region           Input.rep1 Input.rep2 Input.rep3\n",
       "1 chr1  10038      10405    chr1:10038-10405 3.445338   3.888148   4.290341  \n",
       "2 chr1  14282      14614    chr1:14282-14614 2.784182   2.886126   2.973866  \n",
       "3 chr1  16025      16338    chr1:16025-16338 3.454675   4.162517   3.607961  \n",
       "  Input.rep4 Input.rep5 Input.rep6 Output.rep1 Output.rep2 Output.rep3\n",
       "1 4.273202   3.397390   4.345809   0.8436118   1.171350    0.3693823  \n",
       "2 2.825963   2.595126   2.984980   1.4920749   2.481768    2.6541010  \n",
       "3 3.719535   3.983521   4.056664   1.5826481   0.801171    1.6241611  \n",
       "  Output.rep4\n",
       "1 0.4884531  \n",
       "2 2.2137812  \n",
       "3 1.0309013  "
      ]
     },
     "metadata": {},
     "output_type": "display_data"
    }
   ],
   "source": [
    "head(dat_tpm, 3)"
   ]
  },
  {
   "cell_type": "code",
   "execution_count": 60,
   "id": "c97294ae-b5a0-4790-9105-c472e910459d",
   "metadata": {},
   "outputs": [
    {
     "data": {
      "text/html": [
       "<table class=\"dataframe\">\n",
       "<caption>A tibble: 3 × 14</caption>\n",
       "<thead>\n",
       "\t<tr><th scope=col>Chrom</th><th scope=col>ChromStart</th><th scope=col>ChromEnd</th><th scope=col>Region</th><th scope=col>Input.rep1</th><th scope=col>Input.rep2</th><th scope=col>Input.rep3</th><th scope=col>Input.rep4</th><th scope=col>Input.rep5</th><th scope=col>Input.rep6</th><th scope=col>Output.rep1</th><th scope=col>Output.rep2</th><th scope=col>Output.rep3</th><th scope=col>Output.rep4</th></tr>\n",
       "\t<tr><th scope=col>&lt;chr&gt;</th><th scope=col>&lt;dbl&gt;</th><th scope=col>&lt;dbl&gt;</th><th scope=col>&lt;chr&gt;</th><th scope=col>&lt;dbl&gt;</th><th scope=col>&lt;dbl&gt;</th><th scope=col>&lt;dbl&gt;</th><th scope=col>&lt;dbl&gt;</th><th scope=col>&lt;dbl&gt;</th><th scope=col>&lt;dbl&gt;</th><th scope=col>&lt;dbl&gt;</th><th scope=col>&lt;dbl&gt;</th><th scope=col>&lt;dbl&gt;</th><th scope=col>&lt;dbl&gt;</th></tr>\n",
       "</thead>\n",
       "<tbody>\n",
       "\t<tr><td>chr1</td><td>10038</td><td>10405</td><td>chr1:10038-10405</td><td>0.003629544</td><td>0.004114802</td><td>0.004548045</td><td>0.004522405</td><td>0.003592098</td><td>0.004579404</td><td>0.0008557153</td><td>0.0012171316</td><td>0.0003817082</td><td>0.000488374</td></tr>\n",
       "\t<tr><td>chr1</td><td>14282</td><td>14614</td><td>chr1:14282-14614</td><td>0.002933039</td><td>0.003054368</td><td>0.003152495</td><td>0.002990766</td><td>0.002743856</td><td>0.003145428</td><td>0.0015134820</td><td>0.0025787671</td><td>0.0027426652</td><td>0.002213423</td></tr>\n",
       "\t<tr><td>chr1</td><td>16025</td><td>16338</td><td>chr1:16025-16338</td><td>0.003639380</td><td>0.004405164</td><td>0.003824677</td><td>0.003936449</td><td>0.004211821</td><td>0.004274716</td><td>0.0016053547</td><td>0.0008324843</td><td>0.0016783574</td><td>0.001030734</td></tr>\n",
       "</tbody>\n",
       "</table>\n"
      ],
      "text/latex": [
       "A tibble: 3 × 14\n",
       "\\begin{tabular}{llllllllllllll}\n",
       " Chrom & ChromStart & ChromEnd & Region & Input.rep1 & Input.rep2 & Input.rep3 & Input.rep4 & Input.rep5 & Input.rep6 & Output.rep1 & Output.rep2 & Output.rep3 & Output.rep4\\\\\n",
       " <chr> & <dbl> & <dbl> & <chr> & <dbl> & <dbl> & <dbl> & <dbl> & <dbl> & <dbl> & <dbl> & <dbl> & <dbl> & <dbl>\\\\\n",
       "\\hline\n",
       "\t chr1 & 10038 & 10405 & chr1:10038-10405 & 0.003629544 & 0.004114802 & 0.004548045 & 0.004522405 & 0.003592098 & 0.004579404 & 0.0008557153 & 0.0012171316 & 0.0003817082 & 0.000488374\\\\\n",
       "\t chr1 & 14282 & 14614 & chr1:14282-14614 & 0.002933039 & 0.003054368 & 0.003152495 & 0.002990766 & 0.002743856 & 0.003145428 & 0.0015134820 & 0.0025787671 & 0.0027426652 & 0.002213423\\\\\n",
       "\t chr1 & 16025 & 16338 & chr1:16025-16338 & 0.003639380 & 0.004405164 & 0.003824677 & 0.003936449 & 0.004211821 & 0.004274716 & 0.0016053547 & 0.0008324843 & 0.0016783574 & 0.001030734\\\\\n",
       "\\end{tabular}\n"
      ],
      "text/markdown": [
       "\n",
       "A tibble: 3 × 14\n",
       "\n",
       "| Chrom &lt;chr&gt; | ChromStart &lt;dbl&gt; | ChromEnd &lt;dbl&gt; | Region &lt;chr&gt; | Input.rep1 &lt;dbl&gt; | Input.rep2 &lt;dbl&gt; | Input.rep3 &lt;dbl&gt; | Input.rep4 &lt;dbl&gt; | Input.rep5 &lt;dbl&gt; | Input.rep6 &lt;dbl&gt; | Output.rep1 &lt;dbl&gt; | Output.rep2 &lt;dbl&gt; | Output.rep3 &lt;dbl&gt; | Output.rep4 &lt;dbl&gt; |\n",
       "|---|---|---|---|---|---|---|---|---|---|---|---|---|---|\n",
       "| chr1 | 10038 | 10405 | chr1:10038-10405 | 0.003629544 | 0.004114802 | 0.004548045 | 0.004522405 | 0.003592098 | 0.004579404 | 0.0008557153 | 0.0012171316 | 0.0003817082 | 0.000488374 |\n",
       "| chr1 | 14282 | 14614 | chr1:14282-14614 | 0.002933039 | 0.003054368 | 0.003152495 | 0.002990766 | 0.002743856 | 0.003145428 | 0.0015134820 | 0.0025787671 | 0.0027426652 | 0.002213423 |\n",
       "| chr1 | 16025 | 16338 | chr1:16025-16338 | 0.003639380 | 0.004405164 | 0.003824677 | 0.003936449 | 0.004211821 | 0.004274716 | 0.0016053547 | 0.0008324843 | 0.0016783574 | 0.001030734 |\n",
       "\n"
      ],
      "text/plain": [
       "  Chrom ChromStart ChromEnd Region           Input.rep1  Input.rep2 \n",
       "1 chr1  10038      10405    chr1:10038-10405 0.003629544 0.004114802\n",
       "2 chr1  14282      14614    chr1:14282-14614 0.002933039 0.003054368\n",
       "3 chr1  16025      16338    chr1:16025-16338 0.003639380 0.004405164\n",
       "  Input.rep3  Input.rep4  Input.rep5  Input.rep6  Output.rep1  Output.rep2 \n",
       "1 0.004548045 0.004522405 0.003592098 0.004579404 0.0008557153 0.0012171316\n",
       "2 0.003152495 0.002990766 0.002743856 0.003145428 0.0015134820 0.0025787671\n",
       "3 0.003824677 0.003936449 0.004211821 0.004274716 0.0016053547 0.0008324843\n",
       "  Output.rep3  Output.rep4\n",
       "1 0.0003817082 0.000488374\n",
       "2 0.0027426652 0.002213423\n",
       "3 0.0016783574 0.001030734"
      ]
     },
     "metadata": {},
     "output_type": "display_data"
    }
   ],
   "source": [
    "head(dat_fpkm, 3)"
   ]
  },
  {
   "cell_type": "code",
   "execution_count": 58,
   "id": "e96991e2-06ac-4e1b-a99e-c62c6582583e",
   "metadata": {},
   "outputs": [
    {
     "data": {
      "text/html": [
       "<table class=\"dataframe\">\n",
       "<caption>A tibble: 3 × 8</caption>\n",
       "<thead>\n",
       "\t<tr><th scope=col>Chrom</th><th scope=col>ChromStart</th><th scope=col>ChromEnd</th><th scope=col>Region</th><th scope=col>Input_FPKM</th><th scope=col>Input_TPM</th><th scope=col>Output_FPKM</th><th scope=col>Output_TPM</th></tr>\n",
       "\t<tr><th scope=col>&lt;chr&gt;</th><th scope=col>&lt;dbl&gt;</th><th scope=col>&lt;dbl&gt;</th><th scope=col>&lt;chr&gt;</th><th scope=col>&lt;dbl&gt;</th><th scope=col>&lt;dbl&gt;</th><th scope=col>&lt;dbl&gt;</th><th scope=col>&lt;dbl&gt;</th></tr>\n",
       "</thead>\n",
       "<tbody>\n",
       "\t<tr><td>chr1</td><td>10038</td><td>10405</td><td>chr1:10038-10405</td><td>0.004164383</td><td>3.940038</td><td>0.0007357323</td><td>0.7181993</td></tr>\n",
       "\t<tr><td>chr1</td><td>14282</td><td>14614</td><td>chr1:14282-14614</td><td>0.003003325</td><td>2.841707</td><td>0.0022620843</td><td>2.2104314</td></tr>\n",
       "\t<tr><td>chr1</td><td>16025</td><td>16338</td><td>chr1:16025-16338</td><td>0.004048701</td><td>3.830812</td><td>0.0012867327</td><td>1.2597204</td></tr>\n",
       "</tbody>\n",
       "</table>\n"
      ],
      "text/latex": [
       "A tibble: 3 × 8\n",
       "\\begin{tabular}{llllllll}\n",
       " Chrom & ChromStart & ChromEnd & Region & Input\\_FPKM & Input\\_TPM & Output\\_FPKM & Output\\_TPM\\\\\n",
       " <chr> & <dbl> & <dbl> & <chr> & <dbl> & <dbl> & <dbl> & <dbl>\\\\\n",
       "\\hline\n",
       "\t chr1 & 10038 & 10405 & chr1:10038-10405 & 0.004164383 & 3.940038 & 0.0007357323 & 0.7181993\\\\\n",
       "\t chr1 & 14282 & 14614 & chr1:14282-14614 & 0.003003325 & 2.841707 & 0.0022620843 & 2.2104314\\\\\n",
       "\t chr1 & 16025 & 16338 & chr1:16025-16338 & 0.004048701 & 3.830812 & 0.0012867327 & 1.2597204\\\\\n",
       "\\end{tabular}\n"
      ],
      "text/markdown": [
       "\n",
       "A tibble: 3 × 8\n",
       "\n",
       "| Chrom &lt;chr&gt; | ChromStart &lt;dbl&gt; | ChromEnd &lt;dbl&gt; | Region &lt;chr&gt; | Input_FPKM &lt;dbl&gt; | Input_TPM &lt;dbl&gt; | Output_FPKM &lt;dbl&gt; | Output_TPM &lt;dbl&gt; |\n",
       "|---|---|---|---|---|---|---|---|\n",
       "| chr1 | 10038 | 10405 | chr1:10038-10405 | 0.004164383 | 3.940038 | 0.0007357323 | 0.7181993 |\n",
       "| chr1 | 14282 | 14614 | chr1:14282-14614 | 0.003003325 | 2.841707 | 0.0022620843 | 2.2104314 |\n",
       "| chr1 | 16025 | 16338 | chr1:16025-16338 | 0.004048701 | 3.830812 | 0.0012867327 | 1.2597204 |\n",
       "\n"
      ],
      "text/plain": [
       "  Chrom ChromStart ChromEnd Region           Input_FPKM  Input_TPM Output_FPKM \n",
       "1 chr1  10038      10405    chr1:10038-10405 0.004164383 3.940038  0.0007357323\n",
       "2 chr1  14282      14614    chr1:14282-14614 0.003003325 2.841707  0.0022620843\n",
       "3 chr1  16025      16338    chr1:16025-16338 0.004048701 3.830812  0.0012867327\n",
       "  Output_TPM\n",
       "1 0.7181993 \n",
       "2 2.2104314 \n",
       "3 1.2597204 "
      ]
     },
     "metadata": {},
     "output_type": "display_data"
    }
   ],
   "source": [
    "head(dat_summary, 3)"
   ]
  }
 ],
 "metadata": {
  "kernelspec": {
   "display_name": "R",
   "language": "R",
   "name": "ir"
  },
  "language_info": {
   "codemirror_mode": "r",
   "file_extension": ".r",
   "mimetype": "text/x-r-source",
   "name": "R",
   "pygments_lexer": "r",
   "version": "4.4.2"
  }
 },
 "nbformat": 4,
 "nbformat_minor": 5
}
