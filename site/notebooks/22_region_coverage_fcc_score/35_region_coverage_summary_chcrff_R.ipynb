{
 "cells": [
  {
   "cell_type": "raw",
   "id": "db65ff51-ceb7-4468-b752-7223a20b40e7",
   "metadata": {},
   "source": [
    "---\n",
    "title: Region Coverage (FCC) 35\n",
    "subtitle: Summarize coverage for CRISPRi-HCRFF (Total)\n",
    "format:\n",
    "    html:\n",
    "        code-fold:  true\n",
    "        code-tools: true\n",
    "---"
   ]
  },
  {
   "cell_type": "markdown",
   "id": "609d912d-8086-42a8-b88e-2fd719129d47",
   "metadata": {},
   "source": [
    "**Set environment**"
   ]
  },
  {
   "cell_type": "code",
   "execution_count": 1,
   "id": "645a049f-e435-48c1-b359-4975c2859e85",
   "metadata": {},
   "outputs": [
    {
     "name": "stdout",
     "output_type": "stream",
     "text": [
      "You are working on        Singularity: singularity_proj_encode_fcc \n",
      "BASE DIRECTORY (FD_BASE): /data/reddylab/Kuei \n",
      "REPO DIRECTORY (FD_REPO): /data/reddylab/Kuei/repo \n",
      "WORK DIRECTORY (FD_WORK): /data/reddylab/Kuei/work \n",
      "DATA DIRECTORY (FD_DATA): /data/reddylab/Kuei/data \n",
      "\n",
      "You are working with      ENCODE FCC \n",
      "PATH OF PROJECT (FD_PRJ): /data/reddylab/Kuei/repo/Proj_ENCODE_FCC \n",
      "PROJECT RESULTS (FD_RES): /data/reddylab/Kuei/repo/Proj_ENCODE_FCC/results \n",
      "PROJECT SCRIPTS (FD_EXE): /data/reddylab/Kuei/repo/Proj_ENCODE_FCC/scripts \n",
      "PROJECT DATA    (FD_DAT): /data/reddylab/Kuei/repo/Proj_ENCODE_FCC/data \n",
      "PROJECT NOTE    (FD_NBK): /data/reddylab/Kuei/repo/Proj_ENCODE_FCC/notebooks \n",
      "PROJECT DOCS    (FD_DOC): /data/reddylab/Kuei/repo/Proj_ENCODE_FCC/docs \n",
      "PROJECT LOG     (FD_LOG): /data/reddylab/Kuei/repo/Proj_ENCODE_FCC/log \n",
      "PROJECT REF     (FD_REF): /data/reddylab/Kuei/repo/Proj_ENCODE_FCC/references \n",
      "\n"
     ]
    }
   ],
   "source": [
    "suppressMessages(suppressWarnings(source(\"../run_config_project_sing.R\")))\n",
    "show_env()"
   ]
  },
  {
   "cell_type": "markdown",
   "id": "1a33ec81-161c-4f74-abdb-c78a67f6588b",
   "metadata": {},
   "source": [
    "**Check: region directory**"
   ]
  },
  {
   "cell_type": "code",
   "execution_count": 2,
   "id": "4f90cacf-02ed-430b-90d7-9af27b1125be",
   "metadata": {},
   "outputs": [
    {
     "name": "stdout",
     "output_type": "stream",
     "text": [
      "atac_ENCFF333TAT \n",
      "atac_ENCFF558BLC \n",
      "atac_ENCFF925CYR \n",
      "atac_ENCFF948AFM \n",
      "dnase_ENCFF185XRG \n",
      "dnase_ENCFF274YGF \n",
      "fcc_astarr_macs_input_overlap \n",
      "fcc_astarr_macs_input_union \n"
     ]
    }
   ],
   "source": [
    "txt_fdiry = file.path(FD_RES, \"region_coverage_fcc_score\")\n",
    "\n",
    "vec = dir(txt_fdiry)\n",
    "for (txt in vec){cat(txt, \"\\n\")}"
   ]
  },
  {
   "cell_type": "markdown",
   "id": "b5e1393a-b706-47e5-85b1-eb2e709a9d12",
   "metadata": {},
   "source": [
    "**Check: assay directory**"
   ]
  },
  {
   "cell_type": "code",
   "execution_count": 3,
   "id": "39d6cc91-e9fe-48bd-a04e-345813ff186c",
   "metadata": {},
   "outputs": [
    {
     "name": "stdout",
     "output_type": "stream",
     "text": [
      "CRISPRi_FlowFISH_K562_Riley_JinWoo \n",
      "CRISPRi_Growth_K562_Gersbach_JinWoo \n",
      "MPRA_Lenti_K562_Nadav_Vikram \n",
      "MPRA_Tiling_K562_Tewhey_Hannah \n",
      "STARR_ATAC_K562_Reddy_KS274 \n",
      "STARR_ATAC_K562_Reddy_KS91 \n",
      "STARR_ATAC_K562_Reddy_KSMerge \n",
      "STARR_WHG_K562_Reddy_A001 \n"
     ]
    }
   ],
   "source": [
    "txt_region = \"fcc_astarr_macs_input_union\"\n",
    "txt_fdiry  = file.path(FD_RES, \"region_coverage_fcc_score\", txt_region)\n",
    "vec = dir(txt_fdiry)\n",
    "for (txt in vec) {cat(txt, \"\\n\")}"
   ]
  },
  {
   "cell_type": "markdown",
   "id": "e27871fc-6496-4d40-bbff-99f161f2963c",
   "metadata": {},
   "source": [
    "**Set global variable**"
   ]
  },
  {
   "cell_type": "code",
   "execution_count": 4,
   "id": "f1276a66-3d46-4f58-a8a9-07dfc37f6666",
   "metadata": {},
   "outputs": [
    {
     "name": "stdout",
     "output_type": "stream",
     "text": [
      "fcc_astarr_macs_input_overlap \n",
      "fcc_astarr_macs_input_union \n"
     ]
    }
   ],
   "source": [
    "## init: region folder\n",
    "vec = c(\"fcc_astarr_macs_input_overlap\", \"fcc_astarr_macs_input_union\")\n",
    "names(vec) = vec\n",
    "\n",
    "VEC_TXT_REGION = vec\n",
    "for (txt in vec) {cat(txt, \"\\n\")}"
   ]
  },
  {
   "cell_type": "code",
   "execution_count": 5,
   "id": "6c5ab051-4ad1-4f87-9d32-878bfbe142ca",
   "metadata": {},
   "outputs": [],
   "source": [
    "### init: assay folder\n",
    "TXT_ASSAY      = \"CRISPRi_FlowFISH_K562_Riley_JinWoo\"\n",
    "TXT_FNAME_INP  = \"CRISPRi_HCRFF_K562.hg38.ZScore.unstranded.bed.gz\"\n",
    "TXT_FNAME_OUT_TARGET = \"region.coverage.score.total.target.tsv\"\n",
    "TXT_FNAME_OUT_MERGE  = \"region.coverage.score.total.merge.tsv\""
   ]
  },
  {
   "cell_type": "markdown",
   "id": "9a839443-96a0-4133-ad5b-0662a1d69512",
   "metadata": {},
   "source": [
    "**Check: assay files**"
   ]
  },
  {
   "cell_type": "code",
   "execution_count": 6,
   "id": "d982530f-0647-46e9-a1b4-728b4af906f9",
   "metadata": {},
   "outputs": [
    {
     "name": "stdout",
     "output_type": "stream",
     "text": [
      "/data/reddylab/Kuei/repo/Proj_ENCODE_FCC/results/region_coverage_fcc_score/fcc_astarr_macs_input_overlap/CRISPRi_FlowFISH_K562_Riley_JinWoo/CRISPRi_HCRFF_K562.hg38.ZScore.unstranded.bed.gz \n"
     ]
    }
   ],
   "source": [
    "txt_folder = VEC_TXT_REGION[1]\n",
    "txt_fdiry  = file.path(\n",
    "    FD_RES, \"region_coverage_fcc_score\",\n",
    "    txt_folder,\n",
    "    TXT_ASSAY \n",
    ")\n",
    "txt_fname = TXT_FNAME_INP\n",
    "txt_fglob = file.path(txt_fdiry, txt_fname)\n",
    "\n",
    "vec = Sys.glob(txt_fglob)\n",
    "for (txt in vec) {cat(txt, \"\\n\")}"
   ]
  },
  {
   "cell_type": "markdown",
   "id": "7d1d4f67-9a68-4e8d-846c-fcaea51a6369",
   "metadata": {},
   "source": [
    "## Import region data"
   ]
  },
  {
   "cell_type": "markdown",
   "id": "a877cd1e-a052-40de-b76f-ffa57720333d",
   "metadata": {},
   "source": [
    "**Read region metadata table**"
   ]
  },
  {
   "cell_type": "code",
   "execution_count": 7,
   "id": "3bf92c83-12d0-454d-a294-3bd59285e014",
   "metadata": {},
   "outputs": [
    {
     "data": {
      "text/html": [
       "<table>\n",
       " <thead>\n",
       "  <tr>\n",
       "   <th style=\"text-align:left;\"> Folder </th>\n",
       "   <th style=\"text-align:left;\"> FName </th>\n",
       "   <th style=\"text-align:left;\"> Label </th>\n",
       "   <th style=\"text-align:left;\"> FPath </th>\n",
       "  </tr>\n",
       " </thead>\n",
       "<tbody>\n",
       "  <tr>\n",
       "   <td style=\"text-align:left;\"> region_for_analysis </td>\n",
       "   <td style=\"text-align:left;\"> K562.hg38.ASTARR.macs.KS91.input.rep_all.max_overlaps.q5.bed.gz </td>\n",
       "   <td style=\"text-align:left;\"> fcc_astarr_macs_input_overlap </td>\n",
       "   <td style=\"text-align:left;\"> /data/reddylab/Kuei/repo/Proj_ENCODE_FCC/results/region/region_for_analysis/K562.hg38.ASTARR.macs.KS91.input.rep_all.max_overlaps.q5.bed.gz </td>\n",
       "  </tr>\n",
       "  <tr>\n",
       "   <td style=\"text-align:left;\"> region_for_analysis </td>\n",
       "   <td style=\"text-align:left;\"> K562.hg38.ASTARR.macs.KS91.input.rep_all.union.q5.bed.gz </td>\n",
       "   <td style=\"text-align:left;\"> fcc_astarr_macs_input_union </td>\n",
       "   <td style=\"text-align:left;\"> /data/reddylab/Kuei/repo/Proj_ENCODE_FCC/results/region/region_for_analysis/K562.hg38.ASTARR.macs.KS91.input.rep_all.union.q5.bed.gz </td>\n",
       "  </tr>\n",
       "  <tr>\n",
       "   <td style=\"text-align:left;\"> region_for_analysis </td>\n",
       "   <td style=\"text-align:left;\"> K562.hg38.ENCSR000EKS.ENCFF274YGF.DNase.bed.gz </td>\n",
       "   <td style=\"text-align:left;\"> dnase_ENCFF274YGF </td>\n",
       "   <td style=\"text-align:left;\"> /data/reddylab/Kuei/repo/Proj_ENCODE_FCC/results/region/region_for_analysis/K562.hg38.ENCSR000EKS.ENCFF274YGF.DNase.bed.gz </td>\n",
       "  </tr>\n",
       "  <tr>\n",
       "   <td style=\"text-align:left;\"> region_for_analysis </td>\n",
       "   <td style=\"text-align:left;\"> K562.hg38.ENCSR000EOT.ENCFF185XRG.DNase.bed.gz </td>\n",
       "   <td style=\"text-align:left;\"> dnase_ENCFF185XRG </td>\n",
       "   <td style=\"text-align:left;\"> /data/reddylab/Kuei/repo/Proj_ENCODE_FCC/results/region/region_for_analysis/K562.hg38.ENCSR000EOT.ENCFF185XRG.DNase.bed.gz </td>\n",
       "  </tr>\n",
       "  <tr>\n",
       "   <td style=\"text-align:left;\"> region_for_analysis </td>\n",
       "   <td style=\"text-align:left;\"> K562.hg38.ENCSR483RKN.ENCFF558BLC.ATAC.bed.gz </td>\n",
       "   <td style=\"text-align:left;\"> atac_ENCFF558BLC </td>\n",
       "   <td style=\"text-align:left;\"> /data/reddylab/Kuei/repo/Proj_ENCODE_FCC/results/region/region_for_analysis/K562.hg38.ENCSR483RKN.ENCFF558BLC.ATAC.bed.gz </td>\n",
       "  </tr>\n",
       "  <tr>\n",
       "   <td style=\"text-align:left;\"> region_for_analysis </td>\n",
       "   <td style=\"text-align:left;\"> K562.hg38.ENCSR483RKN.ENCFF925CYR.ATAC.bed.gz </td>\n",
       "   <td style=\"text-align:left;\"> atac_ENCFF925CYR </td>\n",
       "   <td style=\"text-align:left;\"> /data/reddylab/Kuei/repo/Proj_ENCODE_FCC/results/region/region_for_analysis/K562.hg38.ENCSR483RKN.ENCFF925CYR.ATAC.bed.gz </td>\n",
       "  </tr>\n",
       "  <tr>\n",
       "   <td style=\"text-align:left;\"> region_for_analysis </td>\n",
       "   <td style=\"text-align:left;\"> K562.hg38.ENCSR868FGK.ENCFF333TAT.ATAC.bed.gz </td>\n",
       "   <td style=\"text-align:left;\"> atac_ENCFF333TAT </td>\n",
       "   <td style=\"text-align:left;\"> /data/reddylab/Kuei/repo/Proj_ENCODE_FCC/results/region/region_for_analysis/K562.hg38.ENCSR868FGK.ENCFF333TAT.ATAC.bed.gz </td>\n",
       "  </tr>\n",
       "  <tr>\n",
       "   <td style=\"text-align:left;\"> region_for_analysis </td>\n",
       "   <td style=\"text-align:left;\"> K562.hg38.ENCSR868FGK.ENCFF948AFM.ATAC.bed.gz </td>\n",
       "   <td style=\"text-align:left;\"> atac_ENCFF948AFM </td>\n",
       "   <td style=\"text-align:left;\"> /data/reddylab/Kuei/repo/Proj_ENCODE_FCC/results/region/region_for_analysis/K562.hg38.ENCSR868FGK.ENCFF948AFM.ATAC.bed.gz </td>\n",
       "  </tr>\n",
       "</tbody>\n",
       "</table>"
      ]
     },
     "metadata": {},
     "output_type": "display_data"
    }
   ],
   "source": [
    "### set directory\n",
    "txt_fdiry = file.path(FD_RES, \"region\", \"summary\")\n",
    "txt_fname = \"metadata.label.region_for_analysis.tsv\"\n",
    "txt_fpath = file.path(txt_fdiry, txt_fname)\n",
    "\n",
    "### read table\n",
    "dat = read_tsv(txt_fpath, show_col_types = FALSE)\n",
    "\n",
    "### assign and show\n",
    "dat_meta_region = dat\n",
    "fun_display_table(dat)"
   ]
  },
  {
   "cell_type": "markdown",
   "id": "71e09ae9-3d70-4e62-a0e3-8416e13a38cc",
   "metadata": {},
   "source": [
    "**Create region list for looping**"
   ]
  },
  {
   "cell_type": "code",
   "execution_count": 8,
   "id": "c42bf55a-e661-4b7d-803a-0add61bf23b4",
   "metadata": {},
   "outputs": [
    {
     "name": "stdout",
     "output_type": "stream",
     "text": [
      "$atac_ENCFF333TAT\n",
      "[1] \"region_for_analysis\"\n",
      "\n",
      "$atac_ENCFF558BLC\n",
      "[1] \"region_for_analysis\"\n",
      "\n",
      "$atac_ENCFF925CYR\n",
      "[1] \"region_for_analysis\"\n",
      "\n",
      "$atac_ENCFF948AFM\n",
      "[1] \"region_for_analysis\"\n",
      "\n",
      "$dnase_ENCFF185XRG\n",
      "[1] \"region_for_analysis\"\n",
      "\n",
      "$dnase_ENCFF274YGF\n",
      "[1] \"region_for_analysis\"\n",
      "\n",
      "$fcc_astarr_macs_input_overlap\n",
      "[1] \"region_for_analysis\"\n",
      "\n",
      "$fcc_astarr_macs_input_union\n",
      "[1] \"region_for_analysis\"\n",
      "\n"
     ]
    }
   ],
   "source": [
    "dat = dat_meta_region\n",
    "lst = split(dat$Folder, dat$Label)\n",
    "\n",
    "lst_txt_folder = lst\n",
    "print(lst)"
   ]
  },
  {
   "cell_type": "markdown",
   "id": "f6ae9702-54c9-493b-9f7a-61347cefed1c",
   "metadata": {},
   "source": [
    "## Helper functions"
   ]
  },
  {
   "cell_type": "code",
   "execution_count": 9,
   "id": "6cfe0f13-22be-4a45-aee5-594fb7a089bb",
   "metadata": {},
   "outputs": [],
   "source": [
    "fun_get_absmax = function(x){ x[which.max(abs(x))] }"
   ]
  },
  {
   "cell_type": "markdown",
   "id": "e2fcd4f4-71e6-4b4a-bd5f-bef99a3fe7d4",
   "metadata": {},
   "source": [
    "## Import data"
   ]
  },
  {
   "cell_type": "code",
   "execution_count": 10,
   "id": "6a53ede0-c530-4370-8666-a5d1ce004654",
   "metadata": {},
   "outputs": [
    {
     "name": "stdout",
     "output_type": "stream",
     "text": [
      "====================\n",
      "Region Folder: fcc_astarr_macs_input_overlap \n",
      "Assay  Folder: CRISPRi_FlowFISH_K562_Riley_JinWoo \n",
      "Import Files:\n",
      "CRISPRi_HCRFF_K562.hg38.ZScore.unstranded.bed.gz \n",
      "\n",
      "====================\n",
      "Region Folder: fcc_astarr_macs_input_union \n",
      "Assay  Folder: CRISPRi_FlowFISH_K562_Riley_JinWoo \n",
      "Import Files:\n",
      "CRISPRi_HCRFF_K562.hg38.ZScore.unstranded.bed.gz \n",
      "\n",
      "$fcc_astarr_macs_input_overlap\n",
      "[1] 138658     12\n",
      "\n",
      "$fcc_astarr_macs_input_union\n",
      "[1] 180955     12\n",
      "\n"
     ]
    },
    {
     "data": {
      "text/html": [
       "<table class=\"dataframe\">\n",
       "<caption>A tibble: 3 × 12</caption>\n",
       "<thead>\n",
       "\t<tr><th scope=col>Chrom_A</th><th scope=col>ChromStart_A</th><th scope=col>ChromEnd_A</th><th scope=col>Region_A</th><th scope=col>Chrom_B</th><th scope=col>ChromStart_B</th><th scope=col>ChromEnd_B</th><th scope=col>Name_B</th><th scope=col>Score_B</th><th scope=col>Strand_B</th><th scope=col>Target_B</th><th scope=col>Overlap</th></tr>\n",
       "\t<tr><th scope=col>&lt;chr&gt;</th><th scope=col>&lt;dbl&gt;</th><th scope=col>&lt;dbl&gt;</th><th scope=col>&lt;chr&gt;</th><th scope=col>&lt;chr&gt;</th><th scope=col>&lt;dbl&gt;</th><th scope=col>&lt;dbl&gt;</th><th scope=col>&lt;chr&gt;</th><th scope=col>&lt;dbl&gt;</th><th scope=col>&lt;chr&gt;</th><th scope=col>&lt;chr&gt;</th><th scope=col>&lt;dbl&gt;</th></tr>\n",
       "</thead>\n",
       "<tbody>\n",
       "\t<tr><td>chr10</td><td>100729094</td><td>100729750</td><td>chr10:100729094-100729750</td><td>chr10</td><td>100729112</td><td>100729113</td><td>id-242</td><td>-1.319770</td><td>.</td><td>CAPRIN1</td><td>1</td></tr>\n",
       "\t<tr><td>chr10</td><td>100729094</td><td>100729750</td><td>chr10:100729094-100729750</td><td>chr10</td><td>100729112</td><td>100729113</td><td>id-242</td><td>-0.259811</td><td>.</td><td>CAT    </td><td>1</td></tr>\n",
       "\t<tr><td>chr10</td><td>100729094</td><td>100729750</td><td>chr10:100729094-100729750</td><td>chr10</td><td>100729112</td><td>100729113</td><td>id-341</td><td>-0.422878</td><td>.</td><td>CD164  </td><td>1</td></tr>\n",
       "</tbody>\n",
       "</table>\n"
      ],
      "text/latex": [
       "A tibble: 3 × 12\n",
       "\\begin{tabular}{llllllllllll}\n",
       " Chrom\\_A & ChromStart\\_A & ChromEnd\\_A & Region\\_A & Chrom\\_B & ChromStart\\_B & ChromEnd\\_B & Name\\_B & Score\\_B & Strand\\_B & Target\\_B & Overlap\\\\\n",
       " <chr> & <dbl> & <dbl> & <chr> & <chr> & <dbl> & <dbl> & <chr> & <dbl> & <chr> & <chr> & <dbl>\\\\\n",
       "\\hline\n",
       "\t chr10 & 100729094 & 100729750 & chr10:100729094-100729750 & chr10 & 100729112 & 100729113 & id-242 & -1.319770 & . & CAPRIN1 & 1\\\\\n",
       "\t chr10 & 100729094 & 100729750 & chr10:100729094-100729750 & chr10 & 100729112 & 100729113 & id-242 & -0.259811 & . & CAT     & 1\\\\\n",
       "\t chr10 & 100729094 & 100729750 & chr10:100729094-100729750 & chr10 & 100729112 & 100729113 & id-341 & -0.422878 & . & CD164   & 1\\\\\n",
       "\\end{tabular}\n"
      ],
      "text/markdown": [
       "\n",
       "A tibble: 3 × 12\n",
       "\n",
       "| Chrom_A &lt;chr&gt; | ChromStart_A &lt;dbl&gt; | ChromEnd_A &lt;dbl&gt; | Region_A &lt;chr&gt; | Chrom_B &lt;chr&gt; | ChromStart_B &lt;dbl&gt; | ChromEnd_B &lt;dbl&gt; | Name_B &lt;chr&gt; | Score_B &lt;dbl&gt; | Strand_B &lt;chr&gt; | Target_B &lt;chr&gt; | Overlap &lt;dbl&gt; |\n",
       "|---|---|---|---|---|---|---|---|---|---|---|---|\n",
       "| chr10 | 100729094 | 100729750 | chr10:100729094-100729750 | chr10 | 100729112 | 100729113 | id-242 | -1.319770 | . | CAPRIN1 | 1 |\n",
       "| chr10 | 100729094 | 100729750 | chr10:100729094-100729750 | chr10 | 100729112 | 100729113 | id-242 | -0.259811 | . | CAT     | 1 |\n",
       "| chr10 | 100729094 | 100729750 | chr10:100729094-100729750 | chr10 | 100729112 | 100729113 | id-341 | -0.422878 | . | CD164   | 1 |\n",
       "\n"
      ],
      "text/plain": [
       "  Chrom_A ChromStart_A ChromEnd_A Region_A                  Chrom_B\n",
       "1 chr10   100729094    100729750  chr10:100729094-100729750 chr10  \n",
       "2 chr10   100729094    100729750  chr10:100729094-100729750 chr10  \n",
       "3 chr10   100729094    100729750  chr10:100729094-100729750 chr10  \n",
       "  ChromStart_B ChromEnd_B Name_B Score_B   Strand_B Target_B Overlap\n",
       "1 100729112    100729113  id-242 -1.319770 .        CAPRIN1  1      \n",
       "2 100729112    100729113  id-242 -0.259811 .        CAT      1      \n",
       "3 100729112    100729113  id-341 -0.422878 .        CD164    1      "
      ]
     },
     "metadata": {},
     "output_type": "display_data"
    }
   ],
   "source": [
    "lst = lapply(VEC_TXT_REGION, function(txt_region){\n",
    "    \n",
    "    ### show progress:\n",
    "    cat(\"====================\\n\")\n",
    "    cat(\"Region Folder:\", txt_region, \"\\n\")\n",
    "    cat(\"Assay  Folder:\", TXT_ASSAY,  \"\\n\")\n",
    "    cat(\"Import Files:\\n\")\n",
    "    cat(TXT_FNAME_INP, \"\\n\")\n",
    "    cat(\"\\n\")\n",
    "    flush.console()\n",
    "    \n",
    "    ### set directory and import assay description\n",
    "    txt_fdiry = file.path(FD_RES, \"assay_fcc\", TXT_ASSAY, \"coverage\", \"summary\")\n",
    "    txt_fname = \"description.tsv\"\n",
    "    txt_fpath = file.path(txt_fdiry, txt_fname)\n",
    "\n",
    "    dat_cname_assay = read_tsv(txt_fpath, show_col_types = FALSE)\n",
    "\n",
    "    ### set directory and import region description\n",
    "    txt_folder = lst_txt_folder[[txt_region]]\n",
    "    txt_fdiry  = file.path(FD_RES, \"region\", txt_folder, \"summary\")\n",
    "    txt_fname  = \"description.tsv\"\n",
    "    txt_fpath  = file.path(txt_fdiry, txt_fname)\n",
    "    \n",
    "    dat_cname_region = read_tsv(txt_fpath, show_col_types = FALSE)\n",
    "\n",
    "    ### set column names/types for overlap score\n",
    "    vec_txt_cname = c(\n",
    "        paste(dat_cname_region$Name, \"A\", sep = \"_\"), \n",
    "        paste(dat_cname_assay$Name,  \"B\", sep = \"_\"), \n",
    "        \"Overlap\"\n",
    "    )\n",
    "\n",
    "    ### set directory and import region-assay overlap\n",
    "    txt_fdiry  = file.path(FD_RES, \"region_coverage_fcc_score\", txt_region, TXT_ASSAY)\n",
    "    txt_fname  = TXT_FNAME_INP\n",
    "    txt_fpath  = file.path(txt_fdiry, txt_fname)\n",
    "\n",
    "    ### read table\n",
    "    dat = read_tsv(txt_fpath, col_names = vec_txt_cname, show_col_types = FALSE)\n",
    "    return(dat)\n",
    "})\n",
    "\n",
    "### assign and show\n",
    "lst_dat_region_score_import = lst\n",
    "\n",
    "res = lapply(lst, dim)\n",
    "print(res)\n",
    "\n",
    "dat = lst[[1]]\n",
    "head(dat, 3)"
   ]
  },
  {
   "cell_type": "markdown",
   "id": "3abed027-505c-47f7-96bc-f1ee6b781c9f",
   "metadata": {},
   "source": [
    "## Arrange table"
   ]
  },
  {
   "cell_type": "code",
   "execution_count": 11,
   "id": "0938729f-dc63-40cc-b2d9-3f8e77954b5b",
   "metadata": {},
   "outputs": [
    {
     "name": "stdout",
     "output_type": "stream",
     "text": [
      "$fcc_astarr_macs_input_overlap\n",
      "[1] 138658      8\n",
      "\n",
      "$fcc_astarr_macs_input_union\n",
      "[1] 180955      8\n",
      "\n"
     ]
    },
    {
     "data": {
      "text/html": [
       "<table class=\"dataframe\">\n",
       "<caption>A tibble: 3 × 8</caption>\n",
       "<thead>\n",
       "\t<tr><th scope=col>Chrom</th><th scope=col>ChromStart</th><th scope=col>ChromEnd</th><th scope=col>Region</th><th scope=col>Guide</th><th scope=col>Score</th><th scope=col>Target</th><th scope=col>Sign</th></tr>\n",
       "\t<tr><th scope=col>&lt;chr&gt;</th><th scope=col>&lt;dbl&gt;</th><th scope=col>&lt;dbl&gt;</th><th scope=col>&lt;chr&gt;</th><th scope=col>&lt;chr&gt;</th><th scope=col>&lt;dbl&gt;</th><th scope=col>&lt;chr&gt;</th><th scope=col>&lt;chr&gt;</th></tr>\n",
       "</thead>\n",
       "<tbody>\n",
       "\t<tr><td>chr10</td><td>100729094</td><td>100729750</td><td>chr10:100729094-100729750</td><td>chr10:100729112-100729113</td><td>-1.319770</td><td>CAPRIN1</td><td>neg</td></tr>\n",
       "\t<tr><td>chr10</td><td>100729094</td><td>100729750</td><td>chr10:100729094-100729750</td><td>chr10:100729112-100729113</td><td>-0.259811</td><td>CAT    </td><td>neg</td></tr>\n",
       "\t<tr><td>chr10</td><td>100729094</td><td>100729750</td><td>chr10:100729094-100729750</td><td>chr10:100729112-100729113</td><td>-0.422878</td><td>CD164  </td><td>neg</td></tr>\n",
       "</tbody>\n",
       "</table>\n"
      ],
      "text/latex": [
       "A tibble: 3 × 8\n",
       "\\begin{tabular}{llllllll}\n",
       " Chrom & ChromStart & ChromEnd & Region & Guide & Score & Target & Sign\\\\\n",
       " <chr> & <dbl> & <dbl> & <chr> & <chr> & <dbl> & <chr> & <chr>\\\\\n",
       "\\hline\n",
       "\t chr10 & 100729094 & 100729750 & chr10:100729094-100729750 & chr10:100729112-100729113 & -1.319770 & CAPRIN1 & neg\\\\\n",
       "\t chr10 & 100729094 & 100729750 & chr10:100729094-100729750 & chr10:100729112-100729113 & -0.259811 & CAT     & neg\\\\\n",
       "\t chr10 & 100729094 & 100729750 & chr10:100729094-100729750 & chr10:100729112-100729113 & -0.422878 & CD164   & neg\\\\\n",
       "\\end{tabular}\n"
      ],
      "text/markdown": [
       "\n",
       "A tibble: 3 × 8\n",
       "\n",
       "| Chrom &lt;chr&gt; | ChromStart &lt;dbl&gt; | ChromEnd &lt;dbl&gt; | Region &lt;chr&gt; | Guide &lt;chr&gt; | Score &lt;dbl&gt; | Target &lt;chr&gt; | Sign &lt;chr&gt; |\n",
       "|---|---|---|---|---|---|---|---|\n",
       "| chr10 | 100729094 | 100729750 | chr10:100729094-100729750 | chr10:100729112-100729113 | -1.319770 | CAPRIN1 | neg |\n",
       "| chr10 | 100729094 | 100729750 | chr10:100729094-100729750 | chr10:100729112-100729113 | -0.259811 | CAT     | neg |\n",
       "| chr10 | 100729094 | 100729750 | chr10:100729094-100729750 | chr10:100729112-100729113 | -0.422878 | CD164   | neg |\n",
       "\n"
      ],
      "text/plain": [
       "  Chrom ChromStart ChromEnd  Region                   \n",
       "1 chr10 100729094  100729750 chr10:100729094-100729750\n",
       "2 chr10 100729094  100729750 chr10:100729094-100729750\n",
       "3 chr10 100729094  100729750 chr10:100729094-100729750\n",
       "  Guide                     Score     Target  Sign\n",
       "1 chr10:100729112-100729113 -1.319770 CAPRIN1 neg \n",
       "2 chr10:100729112-100729113 -0.259811 CAT     neg \n",
       "3 chr10:100729112-100729113 -0.422878 CD164   neg "
      ]
     },
     "metadata": {},
     "output_type": "display_data"
    }
   ],
   "source": [
    "lst = lst_dat_region_score_import\n",
    "lst = lapply(lst, function(dat){\n",
    "    ### setup the columns\n",
    "    dat = dat %>% \n",
    "        dplyr::mutate(\n",
    "            Chrom      = Chrom_A,\n",
    "            ChromStart = ChromStart_A,\n",
    "            ChromEnd   = ChromEnd_A,\n",
    "            Region     = fun_gen_region(Chrom_A, ChromStart_A, ChromEnd_A),\n",
    "            Guide      = fun_gen_region(Chrom_B, ChromStart_B, ChromEnd_B),\n",
    "            Score      = Score_B,\n",
    "            Target     = Target_B\n",
    "        ) %>%\n",
    "        dplyr::mutate(Sign = ifelse(Score > 0, \"pos\", \"neg\"))\n",
    "\n",
    "    ### select the columns\n",
    "    dat = dat %>%\n",
    "        dplyr::select(Chrom, ChromStart, ChromEnd, Region, Guide, Score, Target, Sign) %>%\n",
    "        dplyr::distinct()\n",
    "    return(dat)\n",
    "})\n",
    "\n",
    "### assign and show\n",
    "lst_dat_region_score_arrange = lst\n",
    "\n",
    "res = lapply(lst, dim)\n",
    "print(res)\n",
    "\n",
    "dat = lst[[1]]\n",
    "head(dat, 3)"
   ]
  },
  {
   "cell_type": "markdown",
   "id": "2ce89d7a-cd41-40d7-9176-989551c055d5",
   "metadata": {},
   "source": [
    "## Summarize scores by target"
   ]
  },
  {
   "cell_type": "code",
   "execution_count": 12,
   "id": "6def3816-c0b4-46da-86e8-1e0c0438ed64",
   "metadata": {},
   "outputs": [
    {
     "name": "stdout",
     "output_type": "stream",
     "text": [
      "$fcc_astarr_macs_input_overlap\n",
      "[1] 2423   12\n",
      "\n",
      "$fcc_astarr_macs_input_union\n",
      "[1] 3279   12\n",
      "\n"
     ]
    },
    {
     "data": {
      "text/html": [
       "<table class=\"dataframe\">\n",
       "<caption>A tibble: 3 × 12</caption>\n",
       "<thead>\n",
       "\t<tr><th scope=col>Chrom</th><th scope=col>ChromStart</th><th scope=col>ChromEnd</th><th scope=col>Region</th><th scope=col>Target</th><th scope=col>Mean</th><th scope=col>Median</th><th scope=col>Max</th><th scope=col>Min</th><th scope=col>Count</th><th scope=col>Mean_Neg</th><th scope=col>Mean_Pos</th></tr>\n",
       "\t<tr><th scope=col>&lt;chr&gt;</th><th scope=col>&lt;dbl&gt;</th><th scope=col>&lt;dbl&gt;</th><th scope=col>&lt;chr&gt;</th><th scope=col>&lt;chr&gt;</th><th scope=col>&lt;dbl&gt;</th><th scope=col>&lt;dbl&gt;</th><th scope=col>&lt;dbl&gt;</th><th scope=col>&lt;dbl&gt;</th><th scope=col>&lt;int&gt;</th><th scope=col>&lt;dbl&gt;</th><th scope=col>&lt;dbl&gt;</th></tr>\n",
       "</thead>\n",
       "<tbody>\n",
       "\t<tr><td>chr10</td><td>100729094</td><td>100729750</td><td>chr10:100729094-100729750</td><td>CAPRIN1</td><td>-0.02934075</td><td>-0.1296840</td><td>1.171000</td><td>-1.31977</td><td>12</td><td>-0.4562667</td><td>0.5683556</td></tr>\n",
       "\t<tr><td>chr10</td><td>100729094</td><td>100729750</td><td>chr10:100729094-100729750</td><td>CAT    </td><td>-0.02320808</td><td> 0.0774425</td><td>0.779572</td><td>-1.65834</td><td>12</td><td>-0.5630978</td><td>0.5166817</td></tr>\n",
       "\t<tr><td>chr10</td><td>100729094</td><td>100729750</td><td>chr10:100729094-100729750</td><td>CD164  </td><td>-0.36934383</td><td>-0.2029890</td><td>0.339051</td><td>-1.82683</td><td>12</td><td>-0.6372178</td><td>0.1664040</td></tr>\n",
       "</tbody>\n",
       "</table>\n"
      ],
      "text/latex": [
       "A tibble: 3 × 12\n",
       "\\begin{tabular}{llllllllllll}\n",
       " Chrom & ChromStart & ChromEnd & Region & Target & Mean & Median & Max & Min & Count & Mean\\_Neg & Mean\\_Pos\\\\\n",
       " <chr> & <dbl> & <dbl> & <chr> & <chr> & <dbl> & <dbl> & <dbl> & <dbl> & <int> & <dbl> & <dbl>\\\\\n",
       "\\hline\n",
       "\t chr10 & 100729094 & 100729750 & chr10:100729094-100729750 & CAPRIN1 & -0.02934075 & -0.1296840 & 1.171000 & -1.31977 & 12 & -0.4562667 & 0.5683556\\\\\n",
       "\t chr10 & 100729094 & 100729750 & chr10:100729094-100729750 & CAT     & -0.02320808 &  0.0774425 & 0.779572 & -1.65834 & 12 & -0.5630978 & 0.5166817\\\\\n",
       "\t chr10 & 100729094 & 100729750 & chr10:100729094-100729750 & CD164   & -0.36934383 & -0.2029890 & 0.339051 & -1.82683 & 12 & -0.6372178 & 0.1664040\\\\\n",
       "\\end{tabular}\n"
      ],
      "text/markdown": [
       "\n",
       "A tibble: 3 × 12\n",
       "\n",
       "| Chrom &lt;chr&gt; | ChromStart &lt;dbl&gt; | ChromEnd &lt;dbl&gt; | Region &lt;chr&gt; | Target &lt;chr&gt; | Mean &lt;dbl&gt; | Median &lt;dbl&gt; | Max &lt;dbl&gt; | Min &lt;dbl&gt; | Count &lt;int&gt; | Mean_Neg &lt;dbl&gt; | Mean_Pos &lt;dbl&gt; |\n",
       "|---|---|---|---|---|---|---|---|---|---|---|---|\n",
       "| chr10 | 100729094 | 100729750 | chr10:100729094-100729750 | CAPRIN1 | -0.02934075 | -0.1296840 | 1.171000 | -1.31977 | 12 | -0.4562667 | 0.5683556 |\n",
       "| chr10 | 100729094 | 100729750 | chr10:100729094-100729750 | CAT     | -0.02320808 |  0.0774425 | 0.779572 | -1.65834 | 12 | -0.5630978 | 0.5166817 |\n",
       "| chr10 | 100729094 | 100729750 | chr10:100729094-100729750 | CD164   | -0.36934383 | -0.2029890 | 0.339051 | -1.82683 | 12 | -0.6372178 | 0.1664040 |\n",
       "\n"
      ],
      "text/plain": [
       "  Chrom ChromStart ChromEnd  Region                    Target  Mean       \n",
       "1 chr10 100729094  100729750 chr10:100729094-100729750 CAPRIN1 -0.02934075\n",
       "2 chr10 100729094  100729750 chr10:100729094-100729750 CAT     -0.02320808\n",
       "3 chr10 100729094  100729750 chr10:100729094-100729750 CD164   -0.36934383\n",
       "  Median     Max      Min      Count Mean_Neg   Mean_Pos \n",
       "1 -0.1296840 1.171000 -1.31977 12    -0.4562667 0.5683556\n",
       "2  0.0774425 0.779572 -1.65834 12    -0.5630978 0.5166817\n",
       "3 -0.2029890 0.339051 -1.82683 12    -0.6372178 0.1664040"
      ]
     },
     "metadata": {},
     "output_type": "display_data"
    }
   ],
   "source": [
    "lst = lst_dat_region_score_arrange\n",
    "lst = lapply(lst, function(dat){\n",
    "    ### summarize scores by each target\n",
    "    dat_summary_total = dat %>%\n",
    "        dplyr::group_by(Chrom, ChromStart, ChromEnd, Region, Target) %>%\n",
    "        dplyr::summarise(\n",
    "            Mean    = mean(Score),\n",
    "            Median  = median(Score),\n",
    "            Max     = max(Score),\n",
    "            Min     = min(Score),\n",
    "            Count   = n(),\n",
    "            .groups = \"drop\"\n",
    "        )\n",
    "    \n",
    "    ### summarize scores by sign (direction)\n",
    "    dat_summary_sign = dat %>%\n",
    "        dplyr::group_by(Chrom, ChromStart, ChromEnd, Region, Target, Sign) %>%\n",
    "        dplyr::summarise(Mean = mean(Score), .groups = \"drop\") %>% \n",
    "        dplyr::mutate(Sign = dplyr::recode(Sign, `pos` = \"Mean_Pos\", `neg` = \"Mean_Neg\")) %>% \n",
    "        tidyr::spread(Sign, Mean)\n",
    "    \n",
    "    ### merge the results\n",
    "    vec = c(\"Chrom\", \"ChromStart\", \"ChromEnd\", \"Region\", \"Target\")\n",
    "    dat = dplyr::left_join(\n",
    "        dat_summary_total,\n",
    "        dat_summary_sign,\n",
    "        by = vec) %>% \n",
    "        replace(is.na(.), 0)\n",
    "    return(dat)\n",
    "})\n",
    "\n",
    "### assign and show\n",
    "lst_dat_region_score_by_target = lst\n",
    "\n",
    "res = lapply(lst, dim)\n",
    "print(res)\n",
    "\n",
    "dat = lst[[1]]\n",
    "head(dat, 3)"
   ]
  },
  {
   "cell_type": "markdown",
   "id": "f886f0fb-5079-44a9-a881-28966695973d",
   "metadata": {},
   "source": [
    "## Futher summarize scores across different targets"
   ]
  },
  {
   "cell_type": "code",
   "execution_count": 13,
   "id": "9875fbf0-e82e-4bd8-9589-ae434a92bfaa",
   "metadata": {},
   "outputs": [
    {
     "name": "stdout",
     "output_type": "stream",
     "text": [
      "$fcc_astarr_macs_input_overlap\n",
      "[1] 941   9\n",
      "\n",
      "$fcc_astarr_macs_input_union\n",
      "[1] 1358    9\n",
      "\n"
     ]
    },
    {
     "data": {
      "text/html": [
       "<table class=\"dataframe\">\n",
       "<caption>A tibble: 3 × 9</caption>\n",
       "<thead>\n",
       "\t<tr><th scope=col>Chrom</th><th scope=col>ChromStart</th><th scope=col>ChromEnd</th><th scope=col>Region</th><th scope=col>Mean</th><th scope=col>Mean_Pos</th><th scope=col>Mean_Neg</th><th scope=col>Count</th><th scope=col>Note</th></tr>\n",
       "\t<tr><th scope=col>&lt;chr&gt;</th><th scope=col>&lt;dbl&gt;</th><th scope=col>&lt;dbl&gt;</th><th scope=col>&lt;chr&gt;</th><th scope=col>&lt;dbl&gt;</th><th scope=col>&lt;dbl&gt;</th><th scope=col>&lt;dbl&gt;</th><th scope=col>&lt;int&gt;</th><th scope=col>&lt;chr&gt;</th></tr>\n",
       "</thead>\n",
       "<tbody>\n",
       "\t<tr><td>chr10</td><td>100729094</td><td>100729750</td><td>chr10:100729094-100729750</td><td>-0.07708560</td><td>0.4447452</td><td>-0.4537152</td><td> 84</td><td>CAPRIN1:84|CAT:84|CD164:84|ERP29:84|LMO2:84|MEF2C:84|NMU:84       </td></tr>\n",
       "\t<tr><td>chr10</td><td>100743501</td><td>100744571</td><td>chr10:100743501-100744571</td><td>-0.06350497</td><td>0.2229348</td><td>-0.4828771</td><td>147</td><td>CAPRIN1:147|CAT:147|CD164:147|ERP29:147|LMO2:147|MEF2C:147|NMU:147</td></tr>\n",
       "\t<tr><td>chr10</td><td>100745413</td><td>100745741</td><td>chr10:100745413-100745741</td><td> 0.08003521</td><td>0.6766427</td><td>-0.5305453</td><td> 42</td><td>CAPRIN1:42|CAT:42|CD164:42|ERP29:42|LMO2:42|MEF2C:42|NMU:42       </td></tr>\n",
       "</tbody>\n",
       "</table>\n"
      ],
      "text/latex": [
       "A tibble: 3 × 9\n",
       "\\begin{tabular}{lllllllll}\n",
       " Chrom & ChromStart & ChromEnd & Region & Mean & Mean\\_Pos & Mean\\_Neg & Count & Note\\\\\n",
       " <chr> & <dbl> & <dbl> & <chr> & <dbl> & <dbl> & <dbl> & <int> & <chr>\\\\\n",
       "\\hline\n",
       "\t chr10 & 100729094 & 100729750 & chr10:100729094-100729750 & -0.07708560 & 0.4447452 & -0.4537152 &  84 & CAPRIN1:84\\textbar{}CAT:84\\textbar{}CD164:84\\textbar{}ERP29:84\\textbar{}LMO2:84\\textbar{}MEF2C:84\\textbar{}NMU:84       \\\\\n",
       "\t chr10 & 100743501 & 100744571 & chr10:100743501-100744571 & -0.06350497 & 0.2229348 & -0.4828771 & 147 & CAPRIN1:147\\textbar{}CAT:147\\textbar{}CD164:147\\textbar{}ERP29:147\\textbar{}LMO2:147\\textbar{}MEF2C:147\\textbar{}NMU:147\\\\\n",
       "\t chr10 & 100745413 & 100745741 & chr10:100745413-100745741 &  0.08003521 & 0.6766427 & -0.5305453 &  42 & CAPRIN1:42\\textbar{}CAT:42\\textbar{}CD164:42\\textbar{}ERP29:42\\textbar{}LMO2:42\\textbar{}MEF2C:42\\textbar{}NMU:42       \\\\\n",
       "\\end{tabular}\n"
      ],
      "text/markdown": [
       "\n",
       "A tibble: 3 × 9\n",
       "\n",
       "| Chrom &lt;chr&gt; | ChromStart &lt;dbl&gt; | ChromEnd &lt;dbl&gt; | Region &lt;chr&gt; | Mean &lt;dbl&gt; | Mean_Pos &lt;dbl&gt; | Mean_Neg &lt;dbl&gt; | Count &lt;int&gt; | Note &lt;chr&gt; |\n",
       "|---|---|---|---|---|---|---|---|---|\n",
       "| chr10 | 100729094 | 100729750 | chr10:100729094-100729750 | -0.07708560 | 0.4447452 | -0.4537152 |  84 | CAPRIN1:84|CAT:84|CD164:84|ERP29:84|LMO2:84|MEF2C:84|NMU:84        |\n",
       "| chr10 | 100743501 | 100744571 | chr10:100743501-100744571 | -0.06350497 | 0.2229348 | -0.4828771 | 147 | CAPRIN1:147|CAT:147|CD164:147|ERP29:147|LMO2:147|MEF2C:147|NMU:147 |\n",
       "| chr10 | 100745413 | 100745741 | chr10:100745413-100745741 |  0.08003521 | 0.6766427 | -0.5305453 |  42 | CAPRIN1:42|CAT:42|CD164:42|ERP29:42|LMO2:42|MEF2C:42|NMU:42        |\n",
       "\n"
      ],
      "text/plain": [
       "  Chrom ChromStart ChromEnd  Region                    Mean        Mean_Pos \n",
       "1 chr10 100729094  100729750 chr10:100729094-100729750 -0.07708560 0.4447452\n",
       "2 chr10 100743501  100744571 chr10:100743501-100744571 -0.06350497 0.2229348\n",
       "3 chr10 100745413  100745741 chr10:100745413-100745741  0.08003521 0.6766427\n",
       "  Mean_Neg   Count\n",
       "1 -0.4537152  84  \n",
       "2 -0.4828771 147  \n",
       "3 -0.5305453  42  \n",
       "  Note                                                              \n",
       "1 CAPRIN1:84|CAT:84|CD164:84|ERP29:84|LMO2:84|MEF2C:84|NMU:84       \n",
       "2 CAPRIN1:147|CAT:147|CD164:147|ERP29:147|LMO2:147|MEF2C:147|NMU:147\n",
       "3 CAPRIN1:42|CAT:42|CD164:42|ERP29:42|LMO2:42|MEF2C:42|NMU:42       "
      ]
     },
     "metadata": {},
     "output_type": "display_data"
    }
   ],
   "source": [
    "lst = lst_dat_region_score_by_target\n",
    "lst = lapply(lst, function(dat){\n",
    "    ### summarize mean(scores) across different targets\n",
    "    dat = dat %>% \n",
    "        dplyr::group_by(Chrom, ChromStart, ChromEnd, Region) %>%\n",
    "        dplyr::summarize(\n",
    "            Mean_Tot = mean(Mean),\n",
    "            Mean_Pos = max(Mean, 0),\n",
    "            Mean_Neg = min(Mean, 0),\n",
    "            Count    = sum(Count),\n",
    "            Note     = paste(Target, Count, sep=\":\", collapse=\"|\"),\n",
    "            .groups  = \"drop\"\n",
    "        ) %>%\n",
    "        dplyr::rename(\"Mean\" = \"Mean_Tot\")\n",
    "    return(dat)\n",
    "})\n",
    "\n",
    "### assign and show\n",
    "lst_dat_region_score_merge = lst\n",
    "\n",
    "res = lapply(lst, dim)\n",
    "print(res)\n",
    "\n",
    "dat = lst[[1]]\n",
    "head(dat, 3)"
   ]
  },
  {
   "cell_type": "markdown",
   "id": "e7bc2eb2-b605-4461-aa7c-c3ec99b73e8e",
   "metadata": {},
   "source": [
    "## Save results"
   ]
  },
  {
   "cell_type": "code",
   "execution_count": 15,
   "id": "67d1e9aa-e2de-46be-838a-b52146758ca6",
   "metadata": {},
   "outputs": [
    {
     "name": "stdout",
     "output_type": "stream",
     "text": [
      "====================\n",
      "Region Folder: fcc_astarr_macs_input_overlap \n",
      "Assay  Folder: CRISPRi_FlowFISH_K562_Riley_JinWoo \n",
      "\n",
      "Save file \n",
      "/data/reddylab/Kuei/repo/Proj_ENCODE_FCC/results/region_coverage_fcc_score/fcc_astarr_macs_input_overlap/CRISPRi_FlowFISH_K562_Riley_JinWoo/summary \n",
      "region.coverage.score.total.target.tsv \n",
      "\n",
      "Save file \n",
      "/data/reddylab/Kuei/repo/Proj_ENCODE_FCC/results/region_coverage_fcc_score/fcc_astarr_macs_input_overlap/CRISPRi_FlowFISH_K562_Riley_JinWoo/summary \n",
      "region.coverage.score.total.merge.tsv \n",
      "\n",
      "====================\n",
      "Region Folder: fcc_astarr_macs_input_union \n",
      "Assay  Folder: CRISPRi_FlowFISH_K562_Riley_JinWoo \n",
      "\n",
      "Save file \n",
      "/data/reddylab/Kuei/repo/Proj_ENCODE_FCC/results/region_coverage_fcc_score/fcc_astarr_macs_input_union/CRISPRi_FlowFISH_K562_Riley_JinWoo/summary \n",
      "region.coverage.score.total.target.tsv \n",
      "\n",
      "Save file \n",
      "/data/reddylab/Kuei/repo/Proj_ENCODE_FCC/results/region_coverage_fcc_score/fcc_astarr_macs_input_union/CRISPRi_FlowFISH_K562_Riley_JinWoo/summary \n",
      "region.coverage.score.total.merge.tsv \n",
      "\n"
     ]
    }
   ],
   "source": [
    "for (txt_region in VEC_TXT_REGION){\n",
    "    ### show progress:\n",
    "    cat(\"====================\\n\")\n",
    "    cat(\"Region Folder:\", txt_region, \"\\n\")\n",
    "    cat(\"Assay  Folder:\", TXT_ASSAY,  \"\\n\")\n",
    "    cat(\"\\n\")\n",
    "    flush.console()\n",
    "    \n",
    "    ### get tables\n",
    "    dat_region_score_by_target = lst_dat_region_score_by_target[[txt_region]]\n",
    "    dat_region_score_merge     = lst_dat_region_score_merge[[txt_region]]\n",
    "    \n",
    "    ### set file directory\n",
    "    txt_fdiry  = file.path(\n",
    "        FD_RES, \"region_coverage_fcc_score\", \n",
    "        txt_region, \n",
    "        TXT_ASSAY,\n",
    "        \"summary\"\n",
    "    )\n",
    "    dir.create(txt_fdiry, showWarnings = FALSE)\n",
    "    \n",
    "    \n",
    "    ### write table (summarized by target)\n",
    "    txt_fname = TXT_FNAME_OUT_TARGET\n",
    "    txt_fpath = file.path(txt_fdiry, txt_fname)\n",
    "\n",
    "    dat = dat_region_score_by_target\n",
    "    dat = dat %>% dplyr::arrange(Chrom, ChromStart, ChromEnd)\n",
    "    write_tsv(dat, txt_fpath)\n",
    "\n",
    "    ### show progress\n",
    "    cat(\"Save file\", \"\\n\")\n",
    "    cat(txt_fdiry, \"\\n\")\n",
    "    cat(txt_fname, \"\\n\")\n",
    "    cat(\"\\n\")\n",
    "    \n",
    "    ### write table (further summarized across target)\n",
    "    txt_fname = TXT_FNAME_OUT_MERGE\n",
    "    txt_fpath = file.path(txt_fdiry, txt_fname)\n",
    "\n",
    "    dat = dat_region_score_merge\n",
    "    dat = dat %>% dplyr::arrange(Chrom, ChromStart, ChromEnd)\n",
    "    write_tsv(dat, txt_fpath)\n",
    "    \n",
    "    ### show progress\n",
    "    cat(\"Save file\", \"\\n\")\n",
    "    cat(txt_fdiry, \"\\n\")\n",
    "    cat(txt_fname, \"\\n\")\n",
    "    cat(\"\\n\")\n",
    "}"
   ]
  },
  {
   "cell_type": "code",
   "execution_count": null,
   "id": "66000069-0603-413d-81aa-90b7d8479106",
   "metadata": {},
   "outputs": [],
   "source": []
  }
 ],
 "metadata": {
  "kernelspec": {
   "display_name": "R",
   "language": "R",
   "name": "ir"
  },
  "language_info": {
   "codemirror_mode": "r",
   "file_extension": ".r",
   "mimetype": "text/x-r-source",
   "name": "R",
   "pygments_lexer": "r",
   "version": "4.4.2"
  }
 },
 "nbformat": 4,
 "nbformat_minor": 5
}
