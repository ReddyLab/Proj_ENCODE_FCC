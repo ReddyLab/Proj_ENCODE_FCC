{
 "cells": [
  {
   "cell_type": "raw",
   "id": "9e384b1c-0b44-45b1-9e39-da493ed97d5d",
   "metadata": {},
   "source": [
    "---\n",
    "title: Region Coverage (FCC) 22\n",
    "subtitle: Apply EdgeR/DESeq2 to process count matrix (TMPRA)\n",
    "format:\n",
    "    html:\n",
    "        code-fold:  true\n",
    "        code-tools: true\n",
    "---"
   ]
  },
  {
   "cell_type": "markdown",
   "id": "760527a5-7e45-4040-8c46-949b2aa50720",
   "metadata": {},
   "source": [
    "**Set environment**"
   ]
  },
  {
   "cell_type": "code",
   "execution_count": 1,
   "id": "8be534b2-5cbf-46f5-8ca7-61c45e5c0603",
   "metadata": {},
   "outputs": [
    {
     "name": "stdout",
     "output_type": "stream",
     "text": [
      "You are working on        Singularity: singularity_proj_encode_fcc \n",
      "BASE DIRECTORY (FD_BASE): /data/reddylab/Kuei \n",
      "REPO DIRECTORY (FD_REPO): /data/reddylab/Kuei/repo \n",
      "WORK DIRECTORY (FD_WORK): /data/reddylab/Kuei/work \n",
      "DATA DIRECTORY (FD_DATA): /data/reddylab/Kuei/data \n",
      "\n",
      "You are working with      ENCODE FCC \n",
      "PATH OF PROJECT (FD_PRJ): /data/reddylab/Kuei/repo/Proj_ENCODE_FCC \n",
      "PROJECT RESULTS (FD_RES): /data/reddylab/Kuei/repo/Proj_ENCODE_FCC/results \n",
      "PROJECT SCRIPTS (FD_EXE): /data/reddylab/Kuei/repo/Proj_ENCODE_FCC/scripts \n",
      "PROJECT DATA    (FD_DAT): /data/reddylab/Kuei/repo/Proj_ENCODE_FCC/data \n",
      "PROJECT NOTE    (FD_NBK): /data/reddylab/Kuei/repo/Proj_ENCODE_FCC/notebooks \n",
      "PROJECT DOCS    (FD_DOC): /data/reddylab/Kuei/repo/Proj_ENCODE_FCC/docs \n",
      "PROJECT LOG     (FD_LOG): /data/reddylab/Kuei/repo/Proj_ENCODE_FCC/log \n",
      "PROJECT REF     (FD_REF): /data/reddylab/Kuei/repo/Proj_ENCODE_FCC/references \n",
      "\n"
     ]
    }
   ],
   "source": [
    "suppressMessages(suppressWarnings(source(\"../run_config_project_sing.R\")))\n",
    "suppressMessages(suppressWarnings(library(\"DESeq2\")))\n",
    "suppressMessages(suppressWarnings(library(\"edgeR\")))\n",
    "show_env()"
   ]
  },
  {
   "cell_type": "markdown",
   "id": "b8b73cdf-3431-491d-bed4-63808939fc31",
   "metadata": {},
   "source": [
    "**Check: region directory**"
   ]
  },
  {
   "cell_type": "code",
   "execution_count": 2,
   "id": "d1bff52f-7faa-4193-855f-c00ccd863e37",
   "metadata": {},
   "outputs": [
    {
     "name": "stdout",
     "output_type": "stream",
     "text": [
      "atac_ENCFF333TAT \n",
      "atac_ENCFF558BLC \n",
      "atac_ENCFF925CYR \n",
      "atac_ENCFF948AFM \n",
      "dnase_ENCFF185XRG \n",
      "dnase_ENCFF274YGF \n",
      "fcc_astarr_macs_input_overlap \n",
      "fcc_astarr_macs_input_union \n"
     ]
    }
   ],
   "source": [
    "txt_fdiry = file.path(FD_RES, \"region_coverage_fcc_score\")\n",
    "\n",
    "vec = dir(txt_fdiry)\n",
    "for (txt in vec){cat(txt, \"\\n\")}"
   ]
  },
  {
   "cell_type": "markdown",
   "id": "027a8f0e-db5f-462f-87d0-03e57339a527",
   "metadata": {},
   "source": [
    "**Check: assay files**"
   ]
  },
  {
   "cell_type": "code",
   "execution_count": 3,
   "id": "6a0b700d-2ebf-48ed-8229-03373cd05035",
   "metadata": {},
   "outputs": [
    {
     "name": "stdout",
     "output_type": "stream",
     "text": [
      "/data/reddylab/Kuei/repo/Proj_ENCODE_FCC/results/region_coverage_fcc_score/fcc_astarr_macs_input_overlap/MPRA_Tiling_K562_Tewhey_Hannah/summary/data.count_column.raw.OL13.rds \n",
      "/data/reddylab/Kuei/repo/Proj_ENCODE_FCC/results/region_coverage_fcc_score/fcc_astarr_macs_input_overlap/MPRA_Tiling_K562_Tewhey_Hannah/summary/data.count_column.raw.OL43.rds \n",
      "/data/reddylab/Kuei/repo/Proj_ENCODE_FCC/results/region_coverage_fcc_score/fcc_astarr_macs_input_overlap/MPRA_Tiling_K562_Tewhey_Hannah/summary/data.count_column.raw.OL45.rds \n"
     ]
    }
   ],
   "source": [
    "txt_region_folder = \"fcc_astarr_macs_input_overlap\"\n",
    "txt_assay_folder  = \"MPRA_Tiling_K562_Tewhey_Hannah\"\n",
    "\n",
    "txt_fdiry  = file.path(\n",
    "    FD_RES, \"region_coverage_fcc_score\",\n",
    "    txt_region_folder,\n",
    "    txt_assay_folder,\n",
    "    \"summary\"\n",
    ")\n",
    "txt_fname = \"data.count_column.raw.*.rds\"\n",
    "txt_fglob = file.path(txt_fdiry, txt_fname)\n",
    "\n",
    "vec = Sys.glob(txt_fglob)\n",
    "for (txt in vec) {cat(txt, \"\\n\")}"
   ]
  },
  {
   "cell_type": "markdown",
   "id": "626e48d3-7dcc-4542-89fb-def729c00d4b",
   "metadata": {},
   "source": [
    "**Set global variable**"
   ]
  },
  {
   "cell_type": "code",
   "execution_count": 4,
   "id": "528b74a9-cac0-4cee-9405-c90ed24d5c85",
   "metadata": {},
   "outputs": [
    {
     "name": "stdout",
     "output_type": "stream",
     "text": [
      "fcc_astarr_macs_input_overlap \n",
      "fcc_astarr_macs_input_union \n"
     ]
    }
   ],
   "source": [
    "vec = c(\"fcc_astarr_macs_input_overlap\", \"fcc_astarr_macs_input_union\")\n",
    "names(vec) = vec\n",
    "\n",
    "VEC_TXT_REGION = vec\n",
    "for (txt in vec) {cat(txt, \"\\n\")}"
   ]
  },
  {
   "cell_type": "code",
   "execution_count": 5,
   "id": "d4ea5a47-2eb3-43e0-bfa0-f71605b0bec8",
   "metadata": {},
   "outputs": [],
   "source": [
    "### init: assay name\n",
    "TXT_ASSAY = \"MPRA_Tiling_K562_Tewhey_Hannah\""
   ]
  },
  {
   "cell_type": "markdown",
   "id": "d7d3f3f0-7f69-4df2-a0af-d1eb0059cd58",
   "metadata": {},
   "source": [
    "## Loop through regions to create EdgeR and DESeq2 object of each assay"
   ]
  },
  {
   "cell_type": "markdown",
   "id": "dd5bb9d7-ca1a-4d12-8b29-5a4c73c9cbfe",
   "metadata": {},
   "source": [
    "**Test loop**"
   ]
  },
  {
   "cell_type": "code",
   "execution_count": 6,
   "id": "730cd929-88c2-49df-bb5f-fd08ab6b95fc",
   "metadata": {},
   "outputs": [
    {
     "name": "stdout",
     "output_type": "stream",
     "text": [
      "/data/reddylab/Kuei/repo/Proj_ENCODE_FCC/results/region_coverage_fcc_score/fcc_astarr_macs_input_overlap/MPRA_Tiling_K562_Tewhey_Hannah/summary/data.count_column.raw.OL13.rds \n",
      "/data/reddylab/Kuei/repo/Proj_ENCODE_FCC/results/region_coverage_fcc_score/fcc_astarr_macs_input_overlap/MPRA_Tiling_K562_Tewhey_Hannah/summary/data.count_column.raw.OL43.rds \n",
      "/data/reddylab/Kuei/repo/Proj_ENCODE_FCC/results/region_coverage_fcc_score/fcc_astarr_macs_input_overlap/MPRA_Tiling_K562_Tewhey_Hannah/summary/data.count_column.raw.OL45.rds \n",
      "\n",
      "/data/reddylab/Kuei/repo/Proj_ENCODE_FCC/results/region_coverage_fcc_score/fcc_astarr_macs_input_union/MPRA_Tiling_K562_Tewhey_Hannah/summary/data.count_column.raw.OL13.rds \n",
      "/data/reddylab/Kuei/repo/Proj_ENCODE_FCC/results/region_coverage_fcc_score/fcc_astarr_macs_input_union/MPRA_Tiling_K562_Tewhey_Hannah/summary/data.count_column.raw.OL43.rds \n",
      "/data/reddylab/Kuei/repo/Proj_ENCODE_FCC/results/region_coverage_fcc_score/fcc_astarr_macs_input_union/MPRA_Tiling_K562_Tewhey_Hannah/summary/data.count_column.raw.OL45.rds \n",
      "\n"
     ]
    }
   ],
   "source": [
    "for (txt_region in VEC_TXT_REGION) {\n",
    "    ### init: get RDS files w/ count matrix and column information\n",
    "    txt_fdiry = file.path(FD_RES, \"region_coverage_fcc_score\", txt_region, TXT_ASSAY, \"summary\")\n",
    "    txt_fname = \"data*count_column*raw*rds\"\n",
    "    txt_fglob = file.path(txt_fdiry, txt_fname)\n",
    "    \n",
    "    ### get files and show progress\n",
    "    vec = Sys.glob(txt_fglob)\n",
    "    vec_txt_fpath_inp = vec\n",
    "    for (txt in vec) {cat(txt, \"\\n\")}\n",
    "    cat(\"\\n\")\n",
    "    flush.console()\n",
    "}"
   ]
  },
  {
   "cell_type": "markdown",
   "id": "6bcc0fcd-1a12-416f-b51f-ab0546e802ca",
   "metadata": {},
   "source": [
    "**Apply EdgeR filtering and DESeq2 model fitting**"
   ]
  },
  {
   "cell_type": "code",
   "execution_count": 7,
   "id": "903758a8-c975-46ba-992e-efa5710ad30b",
   "metadata": {},
   "outputs": [
    {
     "name": "stdout",
     "output_type": "stream",
     "text": [
      "/data/reddylab/Kuei/repo/Proj_ENCODE_FCC/results/region_coverage_fcc_score/fcc_astarr_macs_input_overlap/MPRA_Tiling_K562_Tewhey_Hannah/summary/data.count_column.raw.OL13.rds \n",
      "/data/reddylab/Kuei/repo/Proj_ENCODE_FCC/results/region_coverage_fcc_score/fcc_astarr_macs_input_overlap/MPRA_Tiling_K562_Tewhey_Hannah/summary/data.count_column.raw.OL43.rds \n",
      "/data/reddylab/Kuei/repo/Proj_ENCODE_FCC/results/region_coverage_fcc_score/fcc_astarr_macs_input_overlap/MPRA_Tiling_K562_Tewhey_Hannah/summary/data.count_column.raw.OL45.rds \n",
      "\n",
      "\n",
      "====================\n",
      "Region: fcc_astarr_macs_input_overlap \n",
      "Assay:  MPRA_Tiling_K562_Tewhey_Hannah \n",
      "Prefix: OL13 \n",
      "FPath:  /data/reddylab/Kuei/repo/Proj_ENCODE_FCC/results/region_coverage_fcc_score/fcc_astarr_macs_input_overlap/MPRA_Tiling_K562_Tewhey_Hannah/summary/data.count_column.raw.OL13.rds \n",
      "FName:  data.count_column.raw.OL13.rds \n",
      "Import Counts:\n",
      "#Rows (Before filter): 18 \n",
      "#Rows (After  filter): 18 \n",
      "\n",
      "Apply DESeq2: ~Group \n"
     ]
    },
    {
     "name": "stderr",
     "output_type": "stream",
     "text": [
      "estimating size factors\n",
      "\n",
      "estimating dispersions\n",
      "\n",
      "gene-wise dispersion estimates\n",
      "\n",
      "mean-dispersion relationship\n",
      "\n",
      "-- note: fitType='parametric', but the dispersion trend was not well captured by the\n",
      "   function: y = a/x + b, and a local regression fit was automatically substituted.\n",
      "   specify fitType='local' or 'mean' to avoid this message next time.\n",
      "\n",
      "final dispersion estimates\n",
      "\n",
      "fitting model and testing\n",
      "\n"
     ]
    },
    {
     "name": "stdout",
     "output_type": "stream",
     "text": [
      "\n",
      "====================\n",
      "Region: fcc_astarr_macs_input_overlap \n",
      "Assay:  MPRA_Tiling_K562_Tewhey_Hannah \n",
      "Prefix: OL43 \n",
      "FPath:  /data/reddylab/Kuei/repo/Proj_ENCODE_FCC/results/region_coverage_fcc_score/fcc_astarr_macs_input_overlap/MPRA_Tiling_K562_Tewhey_Hannah/summary/data.count_column.raw.OL43.rds \n",
      "FName:  data.count_column.raw.OL43.rds \n",
      "Import Counts:\n",
      "#Rows (Before filter): 307 \n",
      "#Rows (After  filter): 307 \n",
      "\n",
      "Apply DESeq2: ~Group \n"
     ]
    },
    {
     "name": "stderr",
     "output_type": "stream",
     "text": [
      "estimating size factors\n",
      "\n",
      "estimating dispersions\n",
      "\n",
      "gene-wise dispersion estimates\n",
      "\n",
      "mean-dispersion relationship\n",
      "\n",
      "final dispersion estimates\n",
      "\n",
      "fitting model and testing\n",
      "\n"
     ]
    },
    {
     "name": "stdout",
     "output_type": "stream",
     "text": [
      "\n",
      "====================\n",
      "Region: fcc_astarr_macs_input_overlap \n",
      "Assay:  MPRA_Tiling_K562_Tewhey_Hannah \n",
      "Prefix: OL45 \n",
      "FPath:  /data/reddylab/Kuei/repo/Proj_ENCODE_FCC/results/region_coverage_fcc_score/fcc_astarr_macs_input_overlap/MPRA_Tiling_K562_Tewhey_Hannah/summary/data.count_column.raw.OL45.rds \n",
      "FName:  data.count_column.raw.OL45.rds \n",
      "Import Counts:\n",
      "#Rows (Before filter): 823 \n",
      "#Rows (After  filter): 823 \n",
      "\n",
      "Apply DESeq2: ~Group \n"
     ]
    },
    {
     "name": "stderr",
     "output_type": "stream",
     "text": [
      "estimating size factors\n",
      "\n",
      "estimating dispersions\n",
      "\n",
      "gene-wise dispersion estimates\n",
      "\n",
      "mean-dispersion relationship\n",
      "\n",
      "-- note: fitType='parametric', but the dispersion trend was not well captured by the\n",
      "   function: y = a/x + b, and a local regression fit was automatically substituted.\n",
      "   specify fitType='local' or 'mean' to avoid this message next time.\n",
      "\n",
      "final dispersion estimates\n",
      "\n",
      "fitting model and testing\n",
      "\n"
     ]
    },
    {
     "name": "stdout",
     "output_type": "stream",
     "text": [
      "/data/reddylab/Kuei/repo/Proj_ENCODE_FCC/results/region_coverage_fcc_score/fcc_astarr_macs_input_union/MPRA_Tiling_K562_Tewhey_Hannah/summary/data.count_column.raw.OL13.rds \n",
      "/data/reddylab/Kuei/repo/Proj_ENCODE_FCC/results/region_coverage_fcc_score/fcc_astarr_macs_input_union/MPRA_Tiling_K562_Tewhey_Hannah/summary/data.count_column.raw.OL43.rds \n",
      "/data/reddylab/Kuei/repo/Proj_ENCODE_FCC/results/region_coverage_fcc_score/fcc_astarr_macs_input_union/MPRA_Tiling_K562_Tewhey_Hannah/summary/data.count_column.raw.OL45.rds \n",
      "\n",
      "\n",
      "====================\n",
      "Region: fcc_astarr_macs_input_union \n",
      "Assay:  MPRA_Tiling_K562_Tewhey_Hannah \n",
      "Prefix: OL13 \n",
      "FPath:  /data/reddylab/Kuei/repo/Proj_ENCODE_FCC/results/region_coverage_fcc_score/fcc_astarr_macs_input_union/MPRA_Tiling_K562_Tewhey_Hannah/summary/data.count_column.raw.OL13.rds \n",
      "FName:  data.count_column.raw.OL13.rds \n",
      "Import Counts:\n",
      "#Rows (Before filter): 22 \n",
      "#Rows (After  filter): 22 \n",
      "\n",
      "Apply DESeq2: ~Group \n"
     ]
    },
    {
     "name": "stderr",
     "output_type": "stream",
     "text": [
      "estimating size factors\n",
      "\n",
      "estimating dispersions\n",
      "\n",
      "gene-wise dispersion estimates\n",
      "\n",
      "mean-dispersion relationship\n",
      "\n",
      "final dispersion estimates\n",
      "\n",
      "fitting model and testing\n",
      "\n"
     ]
    },
    {
     "name": "stdout",
     "output_type": "stream",
     "text": [
      "\n",
      "====================\n",
      "Region: fcc_astarr_macs_input_union \n",
      "Assay:  MPRA_Tiling_K562_Tewhey_Hannah \n",
      "Prefix: OL43 \n",
      "FPath:  /data/reddylab/Kuei/repo/Proj_ENCODE_FCC/results/region_coverage_fcc_score/fcc_astarr_macs_input_union/MPRA_Tiling_K562_Tewhey_Hannah/summary/data.count_column.raw.OL43.rds \n",
      "FName:  data.count_column.raw.OL43.rds \n",
      "Import Counts:\n",
      "#Rows (Before filter): 394 \n",
      "#Rows (After  filter): 394 \n",
      "\n",
      "Apply DESeq2: ~Group \n"
     ]
    },
    {
     "name": "stderr",
     "output_type": "stream",
     "text": [
      "estimating size factors\n",
      "\n",
      "estimating dispersions\n",
      "\n",
      "gene-wise dispersion estimates\n",
      "\n",
      "mean-dispersion relationship\n",
      "\n",
      "final dispersion estimates\n",
      "\n",
      "fitting model and testing\n",
      "\n"
     ]
    },
    {
     "name": "stdout",
     "output_type": "stream",
     "text": [
      "\n",
      "====================\n",
      "Region: fcc_astarr_macs_input_union \n",
      "Assay:  MPRA_Tiling_K562_Tewhey_Hannah \n",
      "Prefix: OL45 \n",
      "FPath:  /data/reddylab/Kuei/repo/Proj_ENCODE_FCC/results/region_coverage_fcc_score/fcc_astarr_macs_input_union/MPRA_Tiling_K562_Tewhey_Hannah/summary/data.count_column.raw.OL45.rds \n",
      "FName:  data.count_column.raw.OL45.rds \n",
      "Import Counts:\n",
      "#Rows (Before filter): 1306 \n",
      "#Rows (After  filter): 1306 \n",
      "\n",
      "Apply DESeq2: ~Group \n"
     ]
    },
    {
     "name": "stderr",
     "output_type": "stream",
     "text": [
      "estimating size factors\n",
      "\n",
      "estimating dispersions\n",
      "\n",
      "gene-wise dispersion estimates\n",
      "\n",
      "mean-dispersion relationship\n",
      "\n",
      "-- note: fitType='parametric', but the dispersion trend was not well captured by the\n",
      "   function: y = a/x + b, and a local regression fit was automatically substituted.\n",
      "   specify fitType='local' or 'mean' to avoid this message next time.\n",
      "\n",
      "final dispersion estimates\n",
      "\n",
      "fitting model and testing\n",
      "\n"
     ]
    }
   ],
   "source": [
    "### init: assay prefix and helper function\n",
    "vec_txt_prefix = c(\"OL13\", \"OL43\", \"OL45\")\n",
    "fun_get_prefix = function(txt){\n",
    "    res = fun_str_map_detect(txt, vec_txt_prefix, vec_txt_prefix)\n",
    "    return(res)\n",
    "}\n",
    "\n",
    "### loop through each region set\n",
    "for (txt_region in VEC_TXT_REGION) {\n",
    "\n",
    "    ### init: get RDS files w/ count matrix and column information\n",
    "    txt_fdiry = file.path(FD_RES, \"region_coverage_fcc_score\", txt_region, TXT_ASSAY, \"summary\")\n",
    "    txt_fname = \"data*count_column*raw*rds\"\n",
    "    txt_fglob = file.path(txt_fdiry, txt_fname)\n",
    "    \n",
    "    ### get files and show progress\n",
    "    vec = Sys.glob(txt_fglob)\n",
    "    vec_txt_fpath_inp = vec\n",
    "    for (txt in vec) {cat(txt, \"\\n\")}\n",
    "    cat(\"\\n\")\n",
    "    flush.console()\n",
    "    \n",
    "    ### loop through each file\n",
    "    for (txt_fpath_inp in vec_txt_fpath_inp){\n",
    "\n",
    "        ### read object\n",
    "        lst_dat = readRDS(txt_fpath_inp)\n",
    "        dat_cnt = lst_dat$data_cnt\n",
    "        dat_col = lst_dat$data_col\n",
    "        \n",
    "        ### arrange column data\n",
    "        dat_col = dat_col  %>% \n",
    "            dplyr::mutate(Group = factor(Group, levels = c(\"Input\", \"Output\"))) %>%\n",
    "            column_to_rownames(var = \"Sample\")\n",
    "        \n",
    "        ### arrange count matrix\n",
    "        mat_tot = dat_cnt %>%\n",
    "            dplyr::select(-Chrom, -ChromStart, -ChromEnd) %>%\n",
    "            column_to_rownames(var = \"Region\")\n",
    "        mat_inp = mat_tot %>% dplyr::select(starts_with(\"Input\"))\n",
    "        mat_out = mat_tot %>% dplyr::select(starts_with(\"Output\"))\n",
    "\n",
    "        ### create list of DGE objects for total, input, and output\n",
    "        lst = list()\n",
    "        lst[[\"Total\"]]  = DGEList(counts=mat_tot, group = dat_col$Group)\n",
    "        lst[[\"Input\"]]  = DGEList(counts=mat_inp, group = rep(\"Input\",  ncol(mat_inp)))\n",
    "        lst[[\"Output\"]] = DGEList(counts=mat_out, group = rep(\"Output\", ncol(mat_out)))\n",
    "        lst_edger = lst\n",
    "\n",
    "        ### filter counts using filterByExpr from edgeR\n",
    "        dge = lst_edger[[\"Total\"]]\n",
    "        idx = filterByExpr(dge)\n",
    "\n",
    "        ### Check: index matched when filtering\n",
    "        x = names(idx)\n",
    "        y = row.names(mat_tot)\n",
    "        if (!all(x == y)) {stop(\"Error index\")}\n",
    "\n",
    "        ### if passed: filter matrix\n",
    "        mat_cnt = mat_tot[idx,]\n",
    "\n",
    "        ### show progress:\n",
    "        txt_fpath  = txt_fpath_inp\n",
    "        txt_fname  = basename(txt_fpath)\n",
    "        txt_prefix = fun_get_prefix(txt_fname)\n",
    "        \n",
    "        cat(\"\\n====================\\n\")\n",
    "        cat(\"Region:\", txt_region, \"\\n\")\n",
    "        cat(\"Assay: \", TXT_ASSAY,  \"\\n\")\n",
    "        cat(\"Prefix:\", txt_prefix, \"\\n\")\n",
    "        cat(\"FPath: \", txt_fpath,  \"\\n\")\n",
    "        cat(\"FName: \", txt_fname,  \"\\n\")\n",
    "        cat(\"Import Counts:\\n\")\n",
    "        cat(\"#Rows (Before filter):\", nrow(dat_cnt), \"\\n\")\n",
    "        cat(\"#Rows (After  filter):\", nrow(mat_cnt), \"\\n\")\n",
    "        cat(\"\\n\")\n",
    "        flush.console()\n",
    "\n",
    "        ### create dds object\n",
    "        cat(\"Apply DESeq2: ~Group\", \"\\n\")\n",
    "        dds = DESeqDataSetFromMatrix(\n",
    "            countData = mat_cnt, \n",
    "            colData   = dat_col, \n",
    "            design    = ~Group)\n",
    "        \n",
    "        ### ensure Input group is set as reference\n",
    "        dds$Group <- relevel(dds$Group, ref = \"Input\")\n",
    "\n",
    "        ### run deseq analysis\n",
    "        dds = DESeq(dds)\n",
    "\n",
    "        ### save deseq object\n",
    "        txt_fdiry = dirname(txt_fpath_inp)\n",
    "        txt_fname = paste(\"data\", \"deseq2\", txt_prefix, \"rds\", sep=\".\")\n",
    "        txt_fpath = file.path(txt_fdiry, txt_fname)\n",
    "        \n",
    "        obj = dds\n",
    "        saveRDS(obj, txt_fpath)\n",
    "\n",
    "        ### save DGEList object\n",
    "        txt_fdiry = dirname(txt_fpath_inp)\n",
    "        txt_fname = paste(\"data\", \"edger\", txt_prefix, \"rds\", sep=\".\")\n",
    "        txt_fpath = file.path(txt_fdiry, txt_fname)\n",
    "        \n",
    "        obj = lst_edger\n",
    "        saveRDS(obj, txt_fpath)\n",
    "    }\n",
    "}"
   ]
  },
  {
   "cell_type": "code",
   "execution_count": null,
   "id": "50a12488-1839-423b-a935-8272ee0a84d2",
   "metadata": {},
   "outputs": [],
   "source": []
  }
 ],
 "metadata": {
  "kernelspec": {
   "display_name": "R",
   "language": "R",
   "name": "ir"
  },
  "language_info": {
   "codemirror_mode": "r",
   "file_extension": ".r",
   "mimetype": "text/x-r-source",
   "name": "R",
   "pygments_lexer": "r",
   "version": "4.4.2"
  }
 },
 "nbformat": 4,
 "nbformat_minor": 5
}
