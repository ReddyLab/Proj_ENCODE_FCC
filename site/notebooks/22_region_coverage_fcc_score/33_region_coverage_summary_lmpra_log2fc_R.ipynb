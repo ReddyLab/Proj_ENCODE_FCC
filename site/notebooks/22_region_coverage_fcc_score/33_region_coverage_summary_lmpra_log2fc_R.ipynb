{
 "cells": [
  {
   "cell_type": "raw",
   "id": "4bcf1f9d-e3e0-490c-bdeb-2610dd5d4be4",
   "metadata": {},
   "source": [
    "---\n",
    "title: Region Coverage (FCC) 33\n",
    "subtitle: Summarize coverage for Lenti-MPRA\n",
    "format:\n",
    "    html:\n",
    "        code-fold:  true\n",
    "        code-tools: true\n",
    "---"
   ]
  },
  {
   "cell_type": "markdown",
   "id": "8b5a5668-3819-44be-a617-67ed36bcf4d7",
   "metadata": {},
   "source": [
    "**Set environment**"
   ]
  },
  {
   "cell_type": "code",
   "execution_count": 1,
   "id": "17b5bef6-2c96-4e07-a898-c9702922fe55",
   "metadata": {},
   "outputs": [
    {
     "name": "stdout",
     "output_type": "stream",
     "text": [
      "You are working on        Singularity: singularity_proj_encode_fcc \n",
      "BASE DIRECTORY (FD_BASE): /data/reddylab/Kuei \n",
      "REPO DIRECTORY (FD_REPO): /data/reddylab/Kuei/repo \n",
      "WORK DIRECTORY (FD_WORK): /data/reddylab/Kuei/work \n",
      "DATA DIRECTORY (FD_DATA): /data/reddylab/Kuei/data \n",
      "\n",
      "You are working with      ENCODE FCC \n",
      "PATH OF PROJECT (FD_PRJ): /data/reddylab/Kuei/repo/Proj_ENCODE_FCC \n",
      "PROJECT RESULTS (FD_RES): /data/reddylab/Kuei/repo/Proj_ENCODE_FCC/results \n",
      "PROJECT SCRIPTS (FD_EXE): /data/reddylab/Kuei/repo/Proj_ENCODE_FCC/scripts \n",
      "PROJECT DATA    (FD_DAT): /data/reddylab/Kuei/repo/Proj_ENCODE_FCC/data \n",
      "PROJECT NOTE    (FD_NBK): /data/reddylab/Kuei/repo/Proj_ENCODE_FCC/notebooks \n",
      "PROJECT DOCS    (FD_DOC): /data/reddylab/Kuei/repo/Proj_ENCODE_FCC/docs \n",
      "PROJECT LOG     (FD_LOG): /data/reddylab/Kuei/repo/Proj_ENCODE_FCC/log \n",
      "PROJECT REF     (FD_REF): /data/reddylab/Kuei/repo/Proj_ENCODE_FCC/references \n",
      "\n"
     ]
    }
   ],
   "source": [
    "suppressMessages(suppressWarnings(source(\"../run_config_project_sing.R\")))\n",
    "show_env()"
   ]
  },
  {
   "cell_type": "markdown",
   "id": "f2ab5449-a739-4478-9675-e749acaf2e21",
   "metadata": {},
   "source": [
    "**Check: region directory**"
   ]
  },
  {
   "cell_type": "code",
   "execution_count": 2,
   "id": "ac0cb0ea-4845-4b1b-a8f0-a2b051b6148a",
   "metadata": {},
   "outputs": [
    {
     "name": "stdout",
     "output_type": "stream",
     "text": [
      "atac_ENCFF333TAT \n",
      "atac_ENCFF558BLC \n",
      "atac_ENCFF925CYR \n",
      "atac_ENCFF948AFM \n",
      "dnase_ENCFF185XRG \n",
      "dnase_ENCFF274YGF \n",
      "fcc_astarr_macs_input_overlap \n",
      "fcc_astarr_macs_input_union \n"
     ]
    }
   ],
   "source": [
    "txt_fdiry = file.path(FD_RES, \"region_coverage_fcc_score\")\n",
    "\n",
    "vec = dir(txt_fdiry)\n",
    "for (txt in vec){cat(txt, \"\\n\")}"
   ]
  },
  {
   "cell_type": "markdown",
   "id": "0b92d1a6-e334-4f1b-add4-5853b5d93e6d",
   "metadata": {},
   "source": [
    "**Check: assay directory**"
   ]
  },
  {
   "cell_type": "code",
   "execution_count": 3,
   "id": "734ab095-1f6a-4813-b064-2d18086b1007",
   "metadata": {},
   "outputs": [
    {
     "name": "stdout",
     "output_type": "stream",
     "text": [
      "CRISPRi_FlowFISH_K562_Riley_JinWoo \n",
      "CRISPRi_Growth_K562_Gersbach_JinWoo \n",
      "MPRA_Lenti_K562_Nadav_Vikram \n",
      "MPRA_Tiling_K562_Tewhey_Hannah \n",
      "STARR_ATAC_K562_Reddy_KS274 \n",
      "STARR_ATAC_K562_Reddy_KS91 \n",
      "STARR_ATAC_K562_Reddy_KSMerge \n",
      "STARR_WHG_K562_Reddy_A001 \n",
      "summary \n"
     ]
    }
   ],
   "source": [
    "txt_region = \"fcc_astarr_macs_input_union\"\n",
    "txt_fdiry  = file.path(FD_RES, \"region_coverage_fcc_score\", txt_region)\n",
    "vec = dir(txt_fdiry)\n",
    "for (txt in vec) {cat(txt, \"\\n\")}"
   ]
  },
  {
   "cell_type": "markdown",
   "id": "ac820c46-013e-4575-b1bf-1ef3fe4ef065",
   "metadata": {},
   "source": [
    "**Set global variable**"
   ]
  },
  {
   "cell_type": "code",
   "execution_count": 4,
   "id": "7794f695-a30b-4853-ad06-fcab28ee66a4",
   "metadata": {},
   "outputs": [
    {
     "name": "stdout",
     "output_type": "stream",
     "text": [
      "fcc_astarr_macs_input_overlap \n",
      "fcc_astarr_macs_input_union \n"
     ]
    }
   ],
   "source": [
    "## init: region folder\n",
    "vec = c(\"fcc_astarr_macs_input_overlap\", \"fcc_astarr_macs_input_union\")\n",
    "names(vec) = vec\n",
    "\n",
    "VEC_TXT_REGION = vec\n",
    "for (txt in vec) {cat(txt, \"\\n\")}"
   ]
  },
  {
   "cell_type": "code",
   "execution_count": 5,
   "id": "a57b733a-3b35-4522-842c-f443f35de04f",
   "metadata": {},
   "outputs": [],
   "source": [
    "### init: assay folder\n",
    "TXT_ASSAY     = \"MPRA_Lenti_K562_Nadav_Vikram\"\n",
    "TXT_FNAME_INP = \"LMPRA_K562.hg38.Log2FC.stranded.bed.gz\"\n",
    "TXT_FNAME_OUT = \"region.coverage.score.log2fc.tsv\"\n",
    "\n",
    "#TXT_FNAME_INP = \"LMPRA_K562.hg38.ZScore.stranded.bed.gz\"\n",
    "#TXT_FNAME_OUT = \"region.coverage.score.tsv\""
   ]
  },
  {
   "cell_type": "markdown",
   "id": "3e8a52ac-34a8-41a8-a48d-a0491a593aa9",
   "metadata": {},
   "source": [
    "**Check: assay files**"
   ]
  },
  {
   "cell_type": "code",
   "execution_count": 6,
   "id": "6277435c-c1b5-44d8-94b9-e5e1ed9f75b1",
   "metadata": {},
   "outputs": [
    {
     "name": "stdout",
     "output_type": "stream",
     "text": [
      "/data/reddylab/Kuei/repo/Proj_ENCODE_FCC/results/region_coverage_fcc_score/fcc_astarr_macs_input_overlap/MPRA_Lenti_K562_Nadav_Vikram/LMPRA_K562.hg38.Log2FC.stranded.bed.gz \n"
     ]
    }
   ],
   "source": [
    "txt_folder = VEC_TXT_REGION[1]\n",
    "txt_fdiry  = file.path(\n",
    "    FD_RES, \"region_coverage_fcc_score\",\n",
    "    txt_folder,\n",
    "    TXT_ASSAY\n",
    ")\n",
    "txt_fname = TXT_FNAME_INP\n",
    "txt_fglob = file.path(txt_fdiry, txt_fname)\n",
    "\n",
    "vec = Sys.glob(txt_fglob)\n",
    "for (txt in vec) {cat(txt, \"\\n\")}"
   ]
  },
  {
   "cell_type": "markdown",
   "id": "ac18f462-a2fb-4245-a9db-b4e03bec0d79",
   "metadata": {},
   "source": [
    "## Import region data"
   ]
  },
  {
   "cell_type": "markdown",
   "id": "83f7ccc0-195f-4c95-b8b7-493e0049bc1e",
   "metadata": {},
   "source": [
    "**Read region metadata table**"
   ]
  },
  {
   "cell_type": "code",
   "execution_count": 7,
   "id": "925b8eab-843c-459c-9330-66b830b7fe05",
   "metadata": {},
   "outputs": [
    {
     "data": {
      "text/html": [
       "<table>\n",
       " <thead>\n",
       "  <tr>\n",
       "   <th style=\"text-align:left;\"> Folder </th>\n",
       "   <th style=\"text-align:left;\"> FName </th>\n",
       "   <th style=\"text-align:left;\"> Label </th>\n",
       "   <th style=\"text-align:left;\"> FPath </th>\n",
       "  </tr>\n",
       " </thead>\n",
       "<tbody>\n",
       "  <tr>\n",
       "   <td style=\"text-align:left;\"> region_for_analysis </td>\n",
       "   <td style=\"text-align:left;\"> K562.hg38.ASTARR.macs.KS91.input.rep_all.max_overlaps.q5.bed.gz </td>\n",
       "   <td style=\"text-align:left;\"> fcc_astarr_macs_input_overlap </td>\n",
       "   <td style=\"text-align:left;\"> /data/reddylab/Kuei/repo/Proj_ENCODE_FCC/results/region/region_for_analysis/K562.hg38.ASTARR.macs.KS91.input.rep_all.max_overlaps.q5.bed.gz </td>\n",
       "  </tr>\n",
       "  <tr>\n",
       "   <td style=\"text-align:left;\"> region_for_analysis </td>\n",
       "   <td style=\"text-align:left;\"> K562.hg38.ASTARR.macs.KS91.input.rep_all.union.q5.bed.gz </td>\n",
       "   <td style=\"text-align:left;\"> fcc_astarr_macs_input_union </td>\n",
       "   <td style=\"text-align:left;\"> /data/reddylab/Kuei/repo/Proj_ENCODE_FCC/results/region/region_for_analysis/K562.hg38.ASTARR.macs.KS91.input.rep_all.union.q5.bed.gz </td>\n",
       "  </tr>\n",
       "  <tr>\n",
       "   <td style=\"text-align:left;\"> region_for_analysis </td>\n",
       "   <td style=\"text-align:left;\"> K562.hg38.ENCSR000EKS.ENCFF274YGF.DNase.bed.gz </td>\n",
       "   <td style=\"text-align:left;\"> dnase_ENCFF274YGF </td>\n",
       "   <td style=\"text-align:left;\"> /data/reddylab/Kuei/repo/Proj_ENCODE_FCC/results/region/region_for_analysis/K562.hg38.ENCSR000EKS.ENCFF274YGF.DNase.bed.gz </td>\n",
       "  </tr>\n",
       "  <tr>\n",
       "   <td style=\"text-align:left;\"> region_for_analysis </td>\n",
       "   <td style=\"text-align:left;\"> K562.hg38.ENCSR000EOT.ENCFF185XRG.DNase.bed.gz </td>\n",
       "   <td style=\"text-align:left;\"> dnase_ENCFF185XRG </td>\n",
       "   <td style=\"text-align:left;\"> /data/reddylab/Kuei/repo/Proj_ENCODE_FCC/results/region/region_for_analysis/K562.hg38.ENCSR000EOT.ENCFF185XRG.DNase.bed.gz </td>\n",
       "  </tr>\n",
       "  <tr>\n",
       "   <td style=\"text-align:left;\"> region_for_analysis </td>\n",
       "   <td style=\"text-align:left;\"> K562.hg38.ENCSR483RKN.ENCFF558BLC.ATAC.bed.gz </td>\n",
       "   <td style=\"text-align:left;\"> atac_ENCFF558BLC </td>\n",
       "   <td style=\"text-align:left;\"> /data/reddylab/Kuei/repo/Proj_ENCODE_FCC/results/region/region_for_analysis/K562.hg38.ENCSR483RKN.ENCFF558BLC.ATAC.bed.gz </td>\n",
       "  </tr>\n",
       "  <tr>\n",
       "   <td style=\"text-align:left;\"> region_for_analysis </td>\n",
       "   <td style=\"text-align:left;\"> K562.hg38.ENCSR483RKN.ENCFF925CYR.ATAC.bed.gz </td>\n",
       "   <td style=\"text-align:left;\"> atac_ENCFF925CYR </td>\n",
       "   <td style=\"text-align:left;\"> /data/reddylab/Kuei/repo/Proj_ENCODE_FCC/results/region/region_for_analysis/K562.hg38.ENCSR483RKN.ENCFF925CYR.ATAC.bed.gz </td>\n",
       "  </tr>\n",
       "  <tr>\n",
       "   <td style=\"text-align:left;\"> region_for_analysis </td>\n",
       "   <td style=\"text-align:left;\"> K562.hg38.ENCSR868FGK.ENCFF333TAT.ATAC.bed.gz </td>\n",
       "   <td style=\"text-align:left;\"> atac_ENCFF333TAT </td>\n",
       "   <td style=\"text-align:left;\"> /data/reddylab/Kuei/repo/Proj_ENCODE_FCC/results/region/region_for_analysis/K562.hg38.ENCSR868FGK.ENCFF333TAT.ATAC.bed.gz </td>\n",
       "  </tr>\n",
       "  <tr>\n",
       "   <td style=\"text-align:left;\"> region_for_analysis </td>\n",
       "   <td style=\"text-align:left;\"> K562.hg38.ENCSR868FGK.ENCFF948AFM.ATAC.bed.gz </td>\n",
       "   <td style=\"text-align:left;\"> atac_ENCFF948AFM </td>\n",
       "   <td style=\"text-align:left;\"> /data/reddylab/Kuei/repo/Proj_ENCODE_FCC/results/region/region_for_analysis/K562.hg38.ENCSR868FGK.ENCFF948AFM.ATAC.bed.gz </td>\n",
       "  </tr>\n",
       "</tbody>\n",
       "</table>"
      ]
     },
     "metadata": {},
     "output_type": "display_data"
    }
   ],
   "source": [
    "### set directory\n",
    "txt_fdiry = file.path(FD_RES, \"region\", \"summary\")\n",
    "txt_fname = \"metadata.label.region_for_analysis.tsv\"\n",
    "txt_fpath = file.path(txt_fdiry, txt_fname)\n",
    "\n",
    "### read table\n",
    "dat = read_tsv(txt_fpath, show_col_types = FALSE)\n",
    "\n",
    "### assign and show\n",
    "dat_meta_region = dat\n",
    "fun_display_table(dat)"
   ]
  },
  {
   "cell_type": "markdown",
   "id": "ccc8102b-9647-4a69-99b4-83abf3480126",
   "metadata": {},
   "source": [
    "**Create region list for looping**"
   ]
  },
  {
   "cell_type": "code",
   "execution_count": 8,
   "id": "13762472-abf6-45c6-aea9-94523bb49f84",
   "metadata": {},
   "outputs": [
    {
     "name": "stdout",
     "output_type": "stream",
     "text": [
      "$atac_ENCFF333TAT\n",
      "[1] \"region_for_analysis\"\n",
      "\n",
      "$atac_ENCFF558BLC\n",
      "[1] \"region_for_analysis\"\n",
      "\n",
      "$atac_ENCFF925CYR\n",
      "[1] \"region_for_analysis\"\n",
      "\n",
      "$atac_ENCFF948AFM\n",
      "[1] \"region_for_analysis\"\n",
      "\n",
      "$dnase_ENCFF185XRG\n",
      "[1] \"region_for_analysis\"\n",
      "\n",
      "$dnase_ENCFF274YGF\n",
      "[1] \"region_for_analysis\"\n",
      "\n",
      "$fcc_astarr_macs_input_overlap\n",
      "[1] \"region_for_analysis\"\n",
      "\n",
      "$fcc_astarr_macs_input_union\n",
      "[1] \"region_for_analysis\"\n",
      "\n"
     ]
    }
   ],
   "source": [
    "dat = dat_meta_region\n",
    "lst = split(dat$Folder, dat$Label)\n",
    "\n",
    "lst_txt_folder = lst\n",
    "print(lst)"
   ]
  },
  {
   "cell_type": "markdown",
   "id": "d4a1ea3e-3f2c-4244-9ae5-a3a6b849d612",
   "metadata": {},
   "source": [
    "## Helper functions"
   ]
  },
  {
   "cell_type": "code",
   "execution_count": 9,
   "id": "9654495f-c5c0-4c3e-a15c-61ab64d095ce",
   "metadata": {},
   "outputs": [],
   "source": [
    "fun_get_absmax = function(x){ x[which.max(abs(x))] }"
   ]
  },
  {
   "cell_type": "markdown",
   "id": "8f3ba722-0909-4020-8383-af605095124b",
   "metadata": {},
   "source": [
    "## Import data"
   ]
  },
  {
   "cell_type": "code",
   "execution_count": 10,
   "id": "3138ea50-306b-4da2-8ae6-aa7aa6119d7d",
   "metadata": {},
   "outputs": [
    {
     "name": "stdout",
     "output_type": "stream",
     "text": [
      "====================\n",
      "Region Folder: fcc_astarr_macs_input_overlap \n",
      "Assay  Folder: MPRA_Lenti_K562_Nadav_Vikram \n",
      "Import Files:\n",
      "LMPRA_K562.hg38.Log2FC.stranded.bed.gz \n",
      "\n",
      "====================\n",
      "Region Folder: fcc_astarr_macs_input_union \n",
      "Assay  Folder: MPRA_Lenti_K562_Nadav_Vikram \n",
      "Import Files:\n",
      "LMPRA_K562.hg38.Log2FC.stranded.bed.gz \n",
      "\n",
      "$fcc_astarr_macs_input_overlap\n",
      "[1] 153148     11\n",
      "\n",
      "$fcc_astarr_macs_input_union\n",
      "[1] 171027     11\n",
      "\n"
     ]
    },
    {
     "data": {
      "text/html": [
       "<table class=\"dataframe\">\n",
       "<caption>A tibble: 3 × 11</caption>\n",
       "<thead>\n",
       "\t<tr><th scope=col>Chrom_A</th><th scope=col>ChromStart_A</th><th scope=col>ChromEnd_A</th><th scope=col>Region_A</th><th scope=col>Chrom_B</th><th scope=col>ChromStart_B</th><th scope=col>ChromEnd_B</th><th scope=col>Name_B</th><th scope=col>Score_B</th><th scope=col>Strand_B</th><th scope=col>Overlap</th></tr>\n",
       "\t<tr><th scope=col>&lt;chr&gt;</th><th scope=col>&lt;dbl&gt;</th><th scope=col>&lt;dbl&gt;</th><th scope=col>&lt;chr&gt;</th><th scope=col>&lt;chr&gt;</th><th scope=col>&lt;dbl&gt;</th><th scope=col>&lt;dbl&gt;</th><th scope=col>&lt;chr&gt;</th><th scope=col>&lt;dbl&gt;</th><th scope=col>&lt;chr&gt;</th><th scope=col>&lt;dbl&gt;</th></tr>\n",
       "</thead>\n",
       "<tbody>\n",
       "\t<tr><td>chr1</td><td>115429</td><td>115969</td><td>chr1:115429-115969</td><td>chr1</td><td>115631</td><td>115831</td><td>peak1_Reversed:</td><td> 0.040</td><td>-</td><td>200</td></tr>\n",
       "\t<tr><td>chr1</td><td>138321</td><td>139517</td><td>chr1:138321-139517</td><td>chr1</td><td>138940</td><td>139140</td><td>peak2_Reversed:</td><td>-0.101</td><td>-</td><td>200</td></tr>\n",
       "\t<tr><td>chr1</td><td>138321</td><td>139517</td><td>chr1:138321-139517</td><td>chr1</td><td>138940</td><td>139140</td><td>peak2          </td><td>-0.543</td><td>+</td><td>200</td></tr>\n",
       "</tbody>\n",
       "</table>\n"
      ],
      "text/latex": [
       "A tibble: 3 × 11\n",
       "\\begin{tabular}{lllllllllll}\n",
       " Chrom\\_A & ChromStart\\_A & ChromEnd\\_A & Region\\_A & Chrom\\_B & ChromStart\\_B & ChromEnd\\_B & Name\\_B & Score\\_B & Strand\\_B & Overlap\\\\\n",
       " <chr> & <dbl> & <dbl> & <chr> & <chr> & <dbl> & <dbl> & <chr> & <dbl> & <chr> & <dbl>\\\\\n",
       "\\hline\n",
       "\t chr1 & 115429 & 115969 & chr1:115429-115969 & chr1 & 115631 & 115831 & peak1\\_Reversed: &  0.040 & - & 200\\\\\n",
       "\t chr1 & 138321 & 139517 & chr1:138321-139517 & chr1 & 138940 & 139140 & peak2\\_Reversed: & -0.101 & - & 200\\\\\n",
       "\t chr1 & 138321 & 139517 & chr1:138321-139517 & chr1 & 138940 & 139140 & peak2           & -0.543 & + & 200\\\\\n",
       "\\end{tabular}\n"
      ],
      "text/markdown": [
       "\n",
       "A tibble: 3 × 11\n",
       "\n",
       "| Chrom_A &lt;chr&gt; | ChromStart_A &lt;dbl&gt; | ChromEnd_A &lt;dbl&gt; | Region_A &lt;chr&gt; | Chrom_B &lt;chr&gt; | ChromStart_B &lt;dbl&gt; | ChromEnd_B &lt;dbl&gt; | Name_B &lt;chr&gt; | Score_B &lt;dbl&gt; | Strand_B &lt;chr&gt; | Overlap &lt;dbl&gt; |\n",
       "|---|---|---|---|---|---|---|---|---|---|---|\n",
       "| chr1 | 115429 | 115969 | chr1:115429-115969 | chr1 | 115631 | 115831 | peak1_Reversed: |  0.040 | - | 200 |\n",
       "| chr1 | 138321 | 139517 | chr1:138321-139517 | chr1 | 138940 | 139140 | peak2_Reversed: | -0.101 | - | 200 |\n",
       "| chr1 | 138321 | 139517 | chr1:138321-139517 | chr1 | 138940 | 139140 | peak2           | -0.543 | + | 200 |\n",
       "\n"
      ],
      "text/plain": [
       "  Chrom_A ChromStart_A ChromEnd_A Region_A           Chrom_B ChromStart_B\n",
       "1 chr1    115429       115969     chr1:115429-115969 chr1    115631      \n",
       "2 chr1    138321       139517     chr1:138321-139517 chr1    138940      \n",
       "3 chr1    138321       139517     chr1:138321-139517 chr1    138940      \n",
       "  ChromEnd_B Name_B          Score_B Strand_B Overlap\n",
       "1 115831     peak1_Reversed:  0.040  -        200    \n",
       "2 139140     peak2_Reversed: -0.101  -        200    \n",
       "3 139140     peak2           -0.543  +        200    "
      ]
     },
     "metadata": {},
     "output_type": "display_data"
    }
   ],
   "source": [
    "lst = lapply(VEC_TXT_REGION, function(txt_region){\n",
    "    \n",
    "    ### show progress:\n",
    "    cat(\"====================\\n\")\n",
    "    cat(\"Region Folder:\", txt_region, \"\\n\")\n",
    "    cat(\"Assay  Folder:\", TXT_ASSAY,  \"\\n\")\n",
    "    cat(\"Import Files:\\n\")\n",
    "    cat(TXT_FNAME_INP, \"\\n\")\n",
    "    cat(\"\\n\")\n",
    "    flush.console()\n",
    "    \n",
    "    ### set directory and import assay description\n",
    "    txt_fdiry = file.path(FD_RES, \"assay_fcc\", TXT_ASSAY, \"coverage\", \"summary\")\n",
    "    txt_fname = \"description.tsv\"\n",
    "    txt_fpath = file.path(txt_fdiry, txt_fname)\n",
    "\n",
    "    dat_cname_assay = read_tsv(txt_fpath, show_col_types = FALSE)\n",
    "\n",
    "    ### set directory and import region description\n",
    "    txt_folder = lst_txt_folder[[txt_region]]\n",
    "    txt_fdiry  = file.path(FD_RES, \"region\", txt_folder, \"summary\")\n",
    "    txt_fname  = \"description.tsv\"\n",
    "    txt_fpath  = file.path(txt_fdiry, txt_fname)\n",
    "    \n",
    "    dat_cname_region = read_tsv(txt_fpath, show_col_types = FALSE)\n",
    "\n",
    "    ### set column names/types for overlap score\n",
    "    vec_txt_cname = c(\n",
    "        paste(dat_cname_region$Name, \"A\", sep = \"_\"), \n",
    "        paste(dat_cname_assay$Name,  \"B\", sep = \"_\"), \n",
    "        \"Overlap\"\n",
    "    )\n",
    "\n",
    "    ### set directory and import region-assay overlap\n",
    "    txt_fdiry  = file.path(FD_RES, \"region_coverage_fcc_score\", txt_region, TXT_ASSAY)\n",
    "    txt_fname  = TXT_FNAME_INP\n",
    "    txt_fpath  = file.path(txt_fdiry, txt_fname)\n",
    "\n",
    "    ### read table\n",
    "    dat = read_tsv(txt_fpath, col_names = vec_txt_cname, show_col_types = FALSE)\n",
    "    return(dat)\n",
    "})\n",
    "\n",
    "### assign and show\n",
    "lst_dat_region_score_import = lst\n",
    "\n",
    "res = lapply(lst, dim)\n",
    "print(res)\n",
    "\n",
    "dat = lst[[1]]\n",
    "head(dat, 3)"
   ]
  },
  {
   "cell_type": "code",
   "execution_count": 11,
   "id": "73762f19-2bc5-41a4-8bc2-dca12382b39e",
   "metadata": {},
   "outputs": [
    {
     "name": "stdout",
     "output_type": "stream",
     "text": [
      "====================\n",
      "Region Folder: fcc_astarr_macs_input_overlap \n",
      "Assay  Folder: MPRA_Lenti_K562_Nadav_Vikram \n",
      "Import Files:\n",
      "LMPRA_K562.hg38.Log2FC.stranded.bed.gz \n",
      "\n",
      "====================\n",
      "Region Folder: fcc_astarr_macs_input_union \n",
      "Assay  Folder: MPRA_Lenti_K562_Nadav_Vikram \n",
      "Import Files:\n",
      "LMPRA_K562.hg38.Log2FC.stranded.bed.gz \n",
      "\n",
      "$fcc_astarr_macs_input_overlap\n",
      "[1] 153148     11\n",
      "\n",
      "$fcc_astarr_macs_input_union\n",
      "[1] 171027     11\n",
      "\n"
     ]
    },
    {
     "data": {
      "text/html": [
       "<table class=\"dataframe\">\n",
       "<caption>A tibble: 3 × 11</caption>\n",
       "<thead>\n",
       "\t<tr><th scope=col>Chrom_A</th><th scope=col>ChromStart_A</th><th scope=col>ChromEnd_A</th><th scope=col>Region_A</th><th scope=col>Chrom_B</th><th scope=col>ChromStart_B</th><th scope=col>ChromEnd_B</th><th scope=col>Name_B</th><th scope=col>Score_B</th><th scope=col>Strand_B</th><th scope=col>Overlap</th></tr>\n",
       "\t<tr><th scope=col>&lt;chr&gt;</th><th scope=col>&lt;dbl&gt;</th><th scope=col>&lt;dbl&gt;</th><th scope=col>&lt;chr&gt;</th><th scope=col>&lt;chr&gt;</th><th scope=col>&lt;dbl&gt;</th><th scope=col>&lt;dbl&gt;</th><th scope=col>&lt;chr&gt;</th><th scope=col>&lt;dbl&gt;</th><th scope=col>&lt;chr&gt;</th><th scope=col>&lt;dbl&gt;</th></tr>\n",
       "</thead>\n",
       "<tbody>\n",
       "\t<tr><td>chr1</td><td>115429</td><td>115969</td><td>chr1:115429-115969</td><td>chr1</td><td>115631</td><td>115831</td><td>peak1_Reversed:</td><td> 0.040</td><td>-</td><td>200</td></tr>\n",
       "\t<tr><td>chr1</td><td>138321</td><td>139517</td><td>chr1:138321-139517</td><td>chr1</td><td>138940</td><td>139140</td><td>peak2_Reversed:</td><td>-0.101</td><td>-</td><td>200</td></tr>\n",
       "\t<tr><td>chr1</td><td>138321</td><td>139517</td><td>chr1:138321-139517</td><td>chr1</td><td>138940</td><td>139140</td><td>peak2          </td><td>-0.543</td><td>+</td><td>200</td></tr>\n",
       "</tbody>\n",
       "</table>\n"
      ],
      "text/latex": [
       "A tibble: 3 × 11\n",
       "\\begin{tabular}{lllllllllll}\n",
       " Chrom\\_A & ChromStart\\_A & ChromEnd\\_A & Region\\_A & Chrom\\_B & ChromStart\\_B & ChromEnd\\_B & Name\\_B & Score\\_B & Strand\\_B & Overlap\\\\\n",
       " <chr> & <dbl> & <dbl> & <chr> & <chr> & <dbl> & <dbl> & <chr> & <dbl> & <chr> & <dbl>\\\\\n",
       "\\hline\n",
       "\t chr1 & 115429 & 115969 & chr1:115429-115969 & chr1 & 115631 & 115831 & peak1\\_Reversed: &  0.040 & - & 200\\\\\n",
       "\t chr1 & 138321 & 139517 & chr1:138321-139517 & chr1 & 138940 & 139140 & peak2\\_Reversed: & -0.101 & - & 200\\\\\n",
       "\t chr1 & 138321 & 139517 & chr1:138321-139517 & chr1 & 138940 & 139140 & peak2           & -0.543 & + & 200\\\\\n",
       "\\end{tabular}\n"
      ],
      "text/markdown": [
       "\n",
       "A tibble: 3 × 11\n",
       "\n",
       "| Chrom_A &lt;chr&gt; | ChromStart_A &lt;dbl&gt; | ChromEnd_A &lt;dbl&gt; | Region_A &lt;chr&gt; | Chrom_B &lt;chr&gt; | ChromStart_B &lt;dbl&gt; | ChromEnd_B &lt;dbl&gt; | Name_B &lt;chr&gt; | Score_B &lt;dbl&gt; | Strand_B &lt;chr&gt; | Overlap &lt;dbl&gt; |\n",
       "|---|---|---|---|---|---|---|---|---|---|---|\n",
       "| chr1 | 115429 | 115969 | chr1:115429-115969 | chr1 | 115631 | 115831 | peak1_Reversed: |  0.040 | - | 200 |\n",
       "| chr1 | 138321 | 139517 | chr1:138321-139517 | chr1 | 138940 | 139140 | peak2_Reversed: | -0.101 | - | 200 |\n",
       "| chr1 | 138321 | 139517 | chr1:138321-139517 | chr1 | 138940 | 139140 | peak2           | -0.543 | + | 200 |\n",
       "\n"
      ],
      "text/plain": [
       "  Chrom_A ChromStart_A ChromEnd_A Region_A           Chrom_B ChromStart_B\n",
       "1 chr1    115429       115969     chr1:115429-115969 chr1    115631      \n",
       "2 chr1    138321       139517     chr1:138321-139517 chr1    138940      \n",
       "3 chr1    138321       139517     chr1:138321-139517 chr1    138940      \n",
       "  ChromEnd_B Name_B          Score_B Strand_B Overlap\n",
       "1 115831     peak1_Reversed:  0.040  -        200    \n",
       "2 139140     peak2_Reversed: -0.101  -        200    \n",
       "3 139140     peak2           -0.543  +        200    "
      ]
     },
     "metadata": {},
     "output_type": "display_data"
    }
   ],
   "source": [
    "lst = lapply(VEC_TXT_REGION, function(txt_region){\n",
    "    \n",
    "    ### show progress:\n",
    "    cat(\"====================\\n\")\n",
    "    cat(\"Region Folder:\", txt_region, \"\\n\")\n",
    "    cat(\"Assay  Folder:\", TXT_ASSAY,  \"\\n\")\n",
    "    cat(\"Import Files:\\n\")\n",
    "    cat(TXT_FNAME_INP, \"\\n\")\n",
    "    cat(\"\\n\")\n",
    "    flush.console()\n",
    "    \n",
    "    ### set directory and import assay description\n",
    "    txt_fdiry = file.path(FD_RES, \"assay_fcc\", TXT_ASSAY, \"coverage\", \"summary\")\n",
    "    txt_fname = \"description.tsv\"\n",
    "    txt_fpath = file.path(txt_fdiry, txt_fname)\n",
    "\n",
    "    dat_cname_assay = read_tsv(txt_fpath, show_col_types = FALSE)\n",
    "\n",
    "    ### set directory and import region description\n",
    "    txt_folder = lst_txt_folder[[txt_region]]\n",
    "    txt_fdiry  = file.path(FD_RES, \"region\", txt_folder, \"summary\")\n",
    "    txt_fname  = \"description.tsv\"\n",
    "    txt_fpath  = file.path(txt_fdiry, txt_fname)\n",
    "    \n",
    "    dat_cname_region = read_tsv(txt_fpath, show_col_types = FALSE)\n",
    "\n",
    "    ### set column names/types for overlap score\n",
    "    vec_txt_cname = c(\n",
    "        paste(dat_cname_region$Name, \"A\", sep = \"_\"), \n",
    "        paste(dat_cname_assay$Name,  \"B\", sep = \"_\"), \n",
    "        \"Overlap\"\n",
    "    )\n",
    "\n",
    "    ### set directory and import region-assay overlap\n",
    "    txt_fdiry  = file.path(FD_RES, \"region_coverage_fcc_score\", txt_region, TXT_ASSAY)\n",
    "    txt_fname  = TXT_FNAME_INP\n",
    "    txt_fpath  = file.path(txt_fdiry, txt_fname)\n",
    "\n",
    "    ### read table\n",
    "    dat = read_tsv(txt_fpath, col_names = vec_txt_cname, show_col_types = FALSE)\n",
    "    return(dat)\n",
    "})\n",
    "\n",
    "### assign and show\n",
    "lst_dat_region_score_import = lst\n",
    "\n",
    "res = lapply(lst, dim)\n",
    "print(res)\n",
    "\n",
    "dat = lst[[1]]\n",
    "head(dat, 3)"
   ]
  },
  {
   "cell_type": "markdown",
   "id": "80ee168b-2201-423d-ace7-b463265cb58e",
   "metadata": {},
   "source": [
    "## Arrange table"
   ]
  },
  {
   "cell_type": "code",
   "execution_count": 12,
   "id": "b0146665-8d5b-4897-835f-356c7fa2566c",
   "metadata": {},
   "outputs": [
    {
     "name": "stdout",
     "output_type": "stream",
     "text": [
      "$fcc_astarr_macs_input_overlap\n",
      "[1] 153060      6\n",
      "\n",
      "$fcc_astarr_macs_input_union\n",
      "[1] 170927      6\n",
      "\n"
     ]
    },
    {
     "data": {
      "text/html": [
       "<table class=\"dataframe\">\n",
       "<caption>A tibble: 3 × 6</caption>\n",
       "<thead>\n",
       "\t<tr><th scope=col>Chrom</th><th scope=col>ChromStart</th><th scope=col>ChromEnd</th><th scope=col>Region</th><th scope=col>Oligo</th><th scope=col>Score</th></tr>\n",
       "\t<tr><th scope=col>&lt;chr&gt;</th><th scope=col>&lt;dbl&gt;</th><th scope=col>&lt;dbl&gt;</th><th scope=col>&lt;chr&gt;</th><th scope=col>&lt;chr&gt;</th><th scope=col>&lt;dbl&gt;</th></tr>\n",
       "</thead>\n",
       "<tbody>\n",
       "\t<tr><td>chr1</td><td>115429</td><td>115969</td><td>chr1:115429-115969</td><td>chr1:115631-115831</td><td> 0.040</td></tr>\n",
       "\t<tr><td>chr1</td><td>138321</td><td>139517</td><td>chr1:138321-139517</td><td>chr1:138940-139140</td><td>-0.101</td></tr>\n",
       "\t<tr><td>chr1</td><td>138321</td><td>139517</td><td>chr1:138321-139517</td><td>chr1:138940-139140</td><td>-0.543</td></tr>\n",
       "</tbody>\n",
       "</table>\n"
      ],
      "text/latex": [
       "A tibble: 3 × 6\n",
       "\\begin{tabular}{llllll}\n",
       " Chrom & ChromStart & ChromEnd & Region & Oligo & Score\\\\\n",
       " <chr> & <dbl> & <dbl> & <chr> & <chr> & <dbl>\\\\\n",
       "\\hline\n",
       "\t chr1 & 115429 & 115969 & chr1:115429-115969 & chr1:115631-115831 &  0.040\\\\\n",
       "\t chr1 & 138321 & 139517 & chr1:138321-139517 & chr1:138940-139140 & -0.101\\\\\n",
       "\t chr1 & 138321 & 139517 & chr1:138321-139517 & chr1:138940-139140 & -0.543\\\\\n",
       "\\end{tabular}\n"
      ],
      "text/markdown": [
       "\n",
       "A tibble: 3 × 6\n",
       "\n",
       "| Chrom &lt;chr&gt; | ChromStart &lt;dbl&gt; | ChromEnd &lt;dbl&gt; | Region &lt;chr&gt; | Oligo &lt;chr&gt; | Score &lt;dbl&gt; |\n",
       "|---|---|---|---|---|---|\n",
       "| chr1 | 115429 | 115969 | chr1:115429-115969 | chr1:115631-115831 |  0.040 |\n",
       "| chr1 | 138321 | 139517 | chr1:138321-139517 | chr1:138940-139140 | -0.101 |\n",
       "| chr1 | 138321 | 139517 | chr1:138321-139517 | chr1:138940-139140 | -0.543 |\n",
       "\n"
      ],
      "text/plain": [
       "  Chrom ChromStart ChromEnd Region             Oligo              Score \n",
       "1 chr1  115429     115969   chr1:115429-115969 chr1:115631-115831  0.040\n",
       "2 chr1  138321     139517   chr1:138321-139517 chr1:138940-139140 -0.101\n",
       "3 chr1  138321     139517   chr1:138321-139517 chr1:138940-139140 -0.543"
      ]
     },
     "metadata": {},
     "output_type": "display_data"
    }
   ],
   "source": [
    "lst = lst_dat_region_score_import\n",
    "lst = lapply(lst, function(dat){\n",
    "    ### setup the columns\n",
    "    dat = dat %>% \n",
    "        dplyr::mutate(\n",
    "            Chrom      = Chrom_A,\n",
    "            ChromStart = ChromStart_A,\n",
    "            ChromEnd   = ChromEnd_A,\n",
    "            Region     = fun_gen_region(Chrom_A, ChromStart_A, ChromEnd_A),\n",
    "            Oligo      = fun_gen_region(Chrom_B, ChromStart_B, ChromEnd_B),\n",
    "            Score      = Score_B\n",
    "        )\n",
    "\n",
    "    ### select the columns\n",
    "    dat = dat %>%\n",
    "        dplyr::select(Chrom, ChromStart, ChromEnd, Region, Oligo, Score) %>%\n",
    "        dplyr::distinct()\n",
    "    return(dat)\n",
    "})\n",
    "\n",
    "### assign and show\n",
    "lst_dat_region_score_arrange = lst\n",
    "\n",
    "res = lapply(lst, dim)\n",
    "print(res)\n",
    "\n",
    "dat = lst[[1]]\n",
    "head(dat, 3)"
   ]
  },
  {
   "cell_type": "code",
   "execution_count": 13,
   "id": "b07fc316-4eb2-4482-92d4-fd9e643370e6",
   "metadata": {},
   "outputs": [
    {
     "name": "stdout",
     "output_type": "stream",
     "text": [
      "$fcc_astarr_macs_input_overlap\n",
      "[1] 153060      6\n",
      "\n",
      "$fcc_astarr_macs_input_union\n",
      "[1] 170927      6\n",
      "\n"
     ]
    },
    {
     "data": {
      "text/html": [
       "<table class=\"dataframe\">\n",
       "<caption>A tibble: 3 × 6</caption>\n",
       "<thead>\n",
       "\t<tr><th scope=col>Chrom</th><th scope=col>ChromStart</th><th scope=col>ChromEnd</th><th scope=col>Region</th><th scope=col>Oligo</th><th scope=col>Score</th></tr>\n",
       "\t<tr><th scope=col>&lt;chr&gt;</th><th scope=col>&lt;dbl&gt;</th><th scope=col>&lt;dbl&gt;</th><th scope=col>&lt;chr&gt;</th><th scope=col>&lt;chr&gt;</th><th scope=col>&lt;dbl&gt;</th></tr>\n",
       "</thead>\n",
       "<tbody>\n",
       "\t<tr><td>chr1</td><td>115429</td><td>115969</td><td>chr1:115429-115969</td><td>chr1:115631-115831</td><td> 0.040</td></tr>\n",
       "\t<tr><td>chr1</td><td>138321</td><td>139517</td><td>chr1:138321-139517</td><td>chr1:138940-139140</td><td>-0.101</td></tr>\n",
       "\t<tr><td>chr1</td><td>138321</td><td>139517</td><td>chr1:138321-139517</td><td>chr1:138940-139140</td><td>-0.543</td></tr>\n",
       "</tbody>\n",
       "</table>\n"
      ],
      "text/latex": [
       "A tibble: 3 × 6\n",
       "\\begin{tabular}{llllll}\n",
       " Chrom & ChromStart & ChromEnd & Region & Oligo & Score\\\\\n",
       " <chr> & <dbl> & <dbl> & <chr> & <chr> & <dbl>\\\\\n",
       "\\hline\n",
       "\t chr1 & 115429 & 115969 & chr1:115429-115969 & chr1:115631-115831 &  0.040\\\\\n",
       "\t chr1 & 138321 & 139517 & chr1:138321-139517 & chr1:138940-139140 & -0.101\\\\\n",
       "\t chr1 & 138321 & 139517 & chr1:138321-139517 & chr1:138940-139140 & -0.543\\\\\n",
       "\\end{tabular}\n"
      ],
      "text/markdown": [
       "\n",
       "A tibble: 3 × 6\n",
       "\n",
       "| Chrom &lt;chr&gt; | ChromStart &lt;dbl&gt; | ChromEnd &lt;dbl&gt; | Region &lt;chr&gt; | Oligo &lt;chr&gt; | Score &lt;dbl&gt; |\n",
       "|---|---|---|---|---|---|\n",
       "| chr1 | 115429 | 115969 | chr1:115429-115969 | chr1:115631-115831 |  0.040 |\n",
       "| chr1 | 138321 | 139517 | chr1:138321-139517 | chr1:138940-139140 | -0.101 |\n",
       "| chr1 | 138321 | 139517 | chr1:138321-139517 | chr1:138940-139140 | -0.543 |\n",
       "\n"
      ],
      "text/plain": [
       "  Chrom ChromStart ChromEnd Region             Oligo              Score \n",
       "1 chr1  115429     115969   chr1:115429-115969 chr1:115631-115831  0.040\n",
       "2 chr1  138321     139517   chr1:138321-139517 chr1:138940-139140 -0.101\n",
       "3 chr1  138321     139517   chr1:138321-139517 chr1:138940-139140 -0.543"
      ]
     },
     "metadata": {},
     "output_type": "display_data"
    }
   ],
   "source": [
    "lst = lst_dat_region_score_import\n",
    "lst = lapply(lst, function(dat){\n",
    "    ### setup the columns\n",
    "    dat = dat %>% \n",
    "        dplyr::mutate(\n",
    "            Chrom      = Chrom_A,\n",
    "            ChromStart = ChromStart_A,\n",
    "            ChromEnd   = ChromEnd_A,\n",
    "            Region     = fun_gen_region(Chrom_A, ChromStart_A, ChromEnd_A),\n",
    "            Oligo      = fun_gen_region(Chrom_B, ChromStart_B, ChromEnd_B),\n",
    "            Score      = Score_B\n",
    "        )\n",
    "\n",
    "    ### select the columns\n",
    "    dat = dat %>%\n",
    "        dplyr::select(Chrom, ChromStart, ChromEnd, Region, Oligo, Score) %>%\n",
    "        dplyr::distinct()\n",
    "    return(dat)\n",
    "})\n",
    "\n",
    "### assign and show\n",
    "lst_dat_region_score_arrange = lst\n",
    "\n",
    "res = lapply(lst, dim)\n",
    "print(res)\n",
    "\n",
    "dat = lst[[1]]\n",
    "head(dat, 3)"
   ]
  },
  {
   "cell_type": "markdown",
   "id": "b676081e-d83c-4aae-bf30-eac3495ae619",
   "metadata": {},
   "source": [
    "## Summarize scores"
   ]
  },
  {
   "cell_type": "code",
   "execution_count": 14,
   "id": "6153313d-4718-4f03-a347-79fae90e6ed3",
   "metadata": {},
   "outputs": [
    {
     "name": "stdout",
     "output_type": "stream",
     "text": [
      "$fcc_astarr_macs_input_overlap\n",
      "[1] 61478    10\n",
      "\n",
      "$fcc_astarr_macs_input_union\n",
      "[1] 68497    10\n",
      "\n"
     ]
    },
    {
     "data": {
      "text/html": [
       "<table class=\"dataframe\">\n",
       "<caption>A tibble: 3 × 10</caption>\n",
       "<thead>\n",
       "\t<tr><th scope=col>Chrom</th><th scope=col>ChromStart</th><th scope=col>ChromEnd</th><th scope=col>Region</th><th scope=col>Mean</th><th scope=col>Median</th><th scope=col>AbsMax</th><th scope=col>Max</th><th scope=col>Min</th><th scope=col>Count</th></tr>\n",
       "\t<tr><th scope=col>&lt;chr&gt;</th><th scope=col>&lt;dbl&gt;</th><th scope=col>&lt;dbl&gt;</th><th scope=col>&lt;chr&gt;</th><th scope=col>&lt;dbl&gt;</th><th scope=col>&lt;dbl&gt;</th><th scope=col>&lt;dbl&gt;</th><th scope=col>&lt;dbl&gt;</th><th scope=col>&lt;dbl&gt;</th><th scope=col>&lt;int&gt;</th></tr>\n",
       "</thead>\n",
       "<tbody>\n",
       "\t<tr><td>chr1</td><td>115429</td><td>115969</td><td>chr1:115429-115969</td><td> 0.040</td><td> 0.040</td><td> 0.040</td><td> 0.040</td><td> 0.040</td><td>1</td></tr>\n",
       "\t<tr><td>chr1</td><td>138321</td><td>139517</td><td>chr1:138321-139517</td><td>-0.322</td><td>-0.322</td><td>-0.543</td><td>-0.101</td><td>-0.543</td><td>2</td></tr>\n",
       "\t<tr><td>chr1</td><td>267910</td><td>268557</td><td>chr1:267910-268557</td><td>-0.371</td><td>-0.371</td><td>-0.967</td><td> 0.225</td><td>-0.967</td><td>2</td></tr>\n",
       "</tbody>\n",
       "</table>\n"
      ],
      "text/latex": [
       "A tibble: 3 × 10\n",
       "\\begin{tabular}{llllllllll}\n",
       " Chrom & ChromStart & ChromEnd & Region & Mean & Median & AbsMax & Max & Min & Count\\\\\n",
       " <chr> & <dbl> & <dbl> & <chr> & <dbl> & <dbl> & <dbl> & <dbl> & <dbl> & <int>\\\\\n",
       "\\hline\n",
       "\t chr1 & 115429 & 115969 & chr1:115429-115969 &  0.040 &  0.040 &  0.040 &  0.040 &  0.040 & 1\\\\\n",
       "\t chr1 & 138321 & 139517 & chr1:138321-139517 & -0.322 & -0.322 & -0.543 & -0.101 & -0.543 & 2\\\\\n",
       "\t chr1 & 267910 & 268557 & chr1:267910-268557 & -0.371 & -0.371 & -0.967 &  0.225 & -0.967 & 2\\\\\n",
       "\\end{tabular}\n"
      ],
      "text/markdown": [
       "\n",
       "A tibble: 3 × 10\n",
       "\n",
       "| Chrom &lt;chr&gt; | ChromStart &lt;dbl&gt; | ChromEnd &lt;dbl&gt; | Region &lt;chr&gt; | Mean &lt;dbl&gt; | Median &lt;dbl&gt; | AbsMax &lt;dbl&gt; | Max &lt;dbl&gt; | Min &lt;dbl&gt; | Count &lt;int&gt; |\n",
       "|---|---|---|---|---|---|---|---|---|---|\n",
       "| chr1 | 115429 | 115969 | chr1:115429-115969 |  0.040 |  0.040 |  0.040 |  0.040 |  0.040 | 1 |\n",
       "| chr1 | 138321 | 139517 | chr1:138321-139517 | -0.322 | -0.322 | -0.543 | -0.101 | -0.543 | 2 |\n",
       "| chr1 | 267910 | 268557 | chr1:267910-268557 | -0.371 | -0.371 | -0.967 |  0.225 | -0.967 | 2 |\n",
       "\n"
      ],
      "text/plain": [
       "  Chrom ChromStart ChromEnd Region             Mean   Median AbsMax Max   \n",
       "1 chr1  115429     115969   chr1:115429-115969  0.040  0.040  0.040  0.040\n",
       "2 chr1  138321     139517   chr1:138321-139517 -0.322 -0.322 -0.543 -0.101\n",
       "3 chr1  267910     268557   chr1:267910-268557 -0.371 -0.371 -0.967  0.225\n",
       "  Min    Count\n",
       "1  0.040 1    \n",
       "2 -0.543 2    \n",
       "3 -0.967 2    "
      ]
     },
     "metadata": {},
     "output_type": "display_data"
    }
   ],
   "source": [
    "lst = lst_dat_region_score_arrange\n",
    "lst = lapply(lst, function(dat){\n",
    "    ### summarize scores for each region\n",
    "    dat = dat %>% \n",
    "        dplyr::group_by(Chrom, ChromStart, ChromEnd, Region) %>%\n",
    "        dplyr::summarise(\n",
    "            Mean    = mean(Score),\n",
    "            Median  = median(Score),\n",
    "            AbsMax  = fun_get_absmax(Score),\n",
    "            Max     = max(Score),\n",
    "            Min     = min(Score),\n",
    "            Count   = n(),\n",
    "            .groups = \"drop\"\n",
    "        )\n",
    "    return(dat)\n",
    "})\n",
    "\n",
    "### assign and show\n",
    "lst_dat_region_score_summary = lst\n",
    "\n",
    "res = lapply(lst, dim)\n",
    "print(res)\n",
    "\n",
    "dat = lst[[1]]\n",
    "head(dat, 3)"
   ]
  },
  {
   "cell_type": "code",
   "execution_count": 15,
   "id": "2aa5b009-68df-4212-b387-d73921f96b03",
   "metadata": {},
   "outputs": [
    {
     "name": "stdout",
     "output_type": "stream",
     "text": [
      "$fcc_astarr_macs_input_overlap\n",
      "[1] 61478    10\n",
      "\n",
      "$fcc_astarr_macs_input_union\n",
      "[1] 68497    10\n",
      "\n"
     ]
    },
    {
     "data": {
      "text/html": [
       "<table class=\"dataframe\">\n",
       "<caption>A tibble: 3 × 10</caption>\n",
       "<thead>\n",
       "\t<tr><th scope=col>Chrom</th><th scope=col>ChromStart</th><th scope=col>ChromEnd</th><th scope=col>Region</th><th scope=col>Mean</th><th scope=col>Median</th><th scope=col>AbsMax</th><th scope=col>Max</th><th scope=col>Min</th><th scope=col>Count</th></tr>\n",
       "\t<tr><th scope=col>&lt;chr&gt;</th><th scope=col>&lt;dbl&gt;</th><th scope=col>&lt;dbl&gt;</th><th scope=col>&lt;chr&gt;</th><th scope=col>&lt;dbl&gt;</th><th scope=col>&lt;dbl&gt;</th><th scope=col>&lt;dbl&gt;</th><th scope=col>&lt;dbl&gt;</th><th scope=col>&lt;dbl&gt;</th><th scope=col>&lt;int&gt;</th></tr>\n",
       "</thead>\n",
       "<tbody>\n",
       "\t<tr><td>chr1</td><td>115429</td><td>115969</td><td>chr1:115429-115969</td><td> 0.040</td><td> 0.040</td><td> 0.040</td><td> 0.040</td><td> 0.040</td><td>1</td></tr>\n",
       "\t<tr><td>chr1</td><td>138321</td><td>139517</td><td>chr1:138321-139517</td><td>-0.322</td><td>-0.322</td><td>-0.543</td><td>-0.101</td><td>-0.543</td><td>2</td></tr>\n",
       "\t<tr><td>chr1</td><td>267910</td><td>268557</td><td>chr1:267910-268557</td><td>-0.371</td><td>-0.371</td><td>-0.967</td><td> 0.225</td><td>-0.967</td><td>2</td></tr>\n",
       "</tbody>\n",
       "</table>\n"
      ],
      "text/latex": [
       "A tibble: 3 × 10\n",
       "\\begin{tabular}{llllllllll}\n",
       " Chrom & ChromStart & ChromEnd & Region & Mean & Median & AbsMax & Max & Min & Count\\\\\n",
       " <chr> & <dbl> & <dbl> & <chr> & <dbl> & <dbl> & <dbl> & <dbl> & <dbl> & <int>\\\\\n",
       "\\hline\n",
       "\t chr1 & 115429 & 115969 & chr1:115429-115969 &  0.040 &  0.040 &  0.040 &  0.040 &  0.040 & 1\\\\\n",
       "\t chr1 & 138321 & 139517 & chr1:138321-139517 & -0.322 & -0.322 & -0.543 & -0.101 & -0.543 & 2\\\\\n",
       "\t chr1 & 267910 & 268557 & chr1:267910-268557 & -0.371 & -0.371 & -0.967 &  0.225 & -0.967 & 2\\\\\n",
       "\\end{tabular}\n"
      ],
      "text/markdown": [
       "\n",
       "A tibble: 3 × 10\n",
       "\n",
       "| Chrom &lt;chr&gt; | ChromStart &lt;dbl&gt; | ChromEnd &lt;dbl&gt; | Region &lt;chr&gt; | Mean &lt;dbl&gt; | Median &lt;dbl&gt; | AbsMax &lt;dbl&gt; | Max &lt;dbl&gt; | Min &lt;dbl&gt; | Count &lt;int&gt; |\n",
       "|---|---|---|---|---|---|---|---|---|---|\n",
       "| chr1 | 115429 | 115969 | chr1:115429-115969 |  0.040 |  0.040 |  0.040 |  0.040 |  0.040 | 1 |\n",
       "| chr1 | 138321 | 139517 | chr1:138321-139517 | -0.322 | -0.322 | -0.543 | -0.101 | -0.543 | 2 |\n",
       "| chr1 | 267910 | 268557 | chr1:267910-268557 | -0.371 | -0.371 | -0.967 |  0.225 | -0.967 | 2 |\n",
       "\n"
      ],
      "text/plain": [
       "  Chrom ChromStart ChromEnd Region             Mean   Median AbsMax Max   \n",
       "1 chr1  115429     115969   chr1:115429-115969  0.040  0.040  0.040  0.040\n",
       "2 chr1  138321     139517   chr1:138321-139517 -0.322 -0.322 -0.543 -0.101\n",
       "3 chr1  267910     268557   chr1:267910-268557 -0.371 -0.371 -0.967  0.225\n",
       "  Min    Count\n",
       "1  0.040 1    \n",
       "2 -0.543 2    \n",
       "3 -0.967 2    "
      ]
     },
     "metadata": {},
     "output_type": "display_data"
    }
   ],
   "source": [
    "lst = lst_dat_region_score_arrange\n",
    "lst = lapply(lst, function(dat){\n",
    "    ### summarize scores for each region\n",
    "    dat = dat %>% \n",
    "        dplyr::group_by(Chrom, ChromStart, ChromEnd, Region) %>%\n",
    "        dplyr::summarise(\n",
    "            Mean    = mean(Score),\n",
    "            Median  = median(Score),\n",
    "            AbsMax  = fun_get_absmax(Score),\n",
    "            Max     = max(Score),\n",
    "            Min     = min(Score),\n",
    "            Count   = n(),\n",
    "            .groups = \"drop\"\n",
    "        )\n",
    "    return(dat)\n",
    "})\n",
    "\n",
    "### assign and show\n",
    "lst_dat_region_score_summary = lst\n",
    "\n",
    "res = lapply(lst, dim)\n",
    "print(res)\n",
    "\n",
    "dat = lst[[1]]\n",
    "head(dat, 3)"
   ]
  },
  {
   "cell_type": "markdown",
   "id": "5bbebf75-22a2-4935-8cd5-ea70b8b3674b",
   "metadata": {},
   "source": [
    "## Save results"
   ]
  },
  {
   "cell_type": "code",
   "execution_count": 16,
   "id": "eb86588e-82f8-461c-bdb6-d149291f6838",
   "metadata": {},
   "outputs": [
    {
     "name": "stdout",
     "output_type": "stream",
     "text": [
      "====================\n",
      "Region Folder: fcc_astarr_macs_input_overlap \n",
      "Assay  Folder: MPRA_Lenti_K562_Nadav_Vikram \n",
      "\n",
      "Save file \n",
      "/data/reddylab/Kuei/repo/Proj_ENCODE_FCC/results/region_coverage_fcc_score/fcc_astarr_macs_input_overlap/MPRA_Lenti_K562_Nadav_Vikram/summary \n",
      "region.coverage.score.log2fc.tsv \n",
      "\n",
      "====================\n",
      "Region Folder: fcc_astarr_macs_input_union \n",
      "Assay  Folder: MPRA_Lenti_K562_Nadav_Vikram \n",
      "\n",
      "Save file \n",
      "/data/reddylab/Kuei/repo/Proj_ENCODE_FCC/results/region_coverage_fcc_score/fcc_astarr_macs_input_union/MPRA_Lenti_K562_Nadav_Vikram/summary \n",
      "region.coverage.score.log2fc.tsv \n",
      "\n"
     ]
    }
   ],
   "source": [
    "for (txt_region in VEC_TXT_REGION){\n",
    "    ### show progress:\n",
    "    cat(\"====================\\n\")\n",
    "    cat(\"Region Folder:\", txt_region, \"\\n\")\n",
    "    cat(\"Assay  Folder:\", TXT_ASSAY,  \"\\n\")\n",
    "    cat(\"\\n\")\n",
    "    flush.console()\n",
    "    \n",
    "    ### get tables\n",
    "    dat_region_score_summary = lst_dat_region_score_summary[[txt_region]]\n",
    "    \n",
    "    ### set directory to save results\n",
    "    txt_fdiry = file.path(FD_RES, \"region_coverage_fcc_score\", txt_region, TXT_ASSAY, \"summary\")\n",
    "    txt_fname = TXT_FNAME_OUT\n",
    "    txt_fpath = file.path(txt_fdiry, txt_fname)\n",
    "    \n",
    "    ### write region coverage summary\n",
    "    dir.create(txt_fdiry, showWarnings = FALSE)\n",
    "    dat = dat_region_score_summary\n",
    "    dat = dat %>% dplyr::arrange(Chrom, ChromStart, ChromEnd)\n",
    "    write_tsv(dat, txt_fpath)\n",
    "\n",
    "    ### show progress\n",
    "    cat(\"Save file\", \"\\n\")\n",
    "    cat(txt_fdiry, \"\\n\")\n",
    "    cat(txt_fname, \"\\n\")\n",
    "    cat(\"\\n\")\n",
    "}"
   ]
  },
  {
   "cell_type": "code",
   "execution_count": null,
   "id": "c81aa347-4e87-4860-ac5a-c22e7b72dd8b",
   "metadata": {},
   "outputs": [],
   "source": []
  }
 ],
 "metadata": {
  "kernelspec": {
   "display_name": "R",
   "language": "R",
   "name": "ir"
  },
  "language_info": {
   "codemirror_mode": "r",
   "file_extension": ".r",
   "mimetype": "text/x-r-source",
   "name": "R",
   "pygments_lexer": "r",
   "version": "4.5.1"
  }
 },
 "nbformat": 4,
 "nbformat_minor": 5
}
