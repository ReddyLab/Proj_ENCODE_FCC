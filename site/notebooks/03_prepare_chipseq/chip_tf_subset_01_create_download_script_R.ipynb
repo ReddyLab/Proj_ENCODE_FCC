{
 "cells": [
  {
   "cell_type": "raw",
   "id": "ba363629-091f-45df-ac47-82790711e7ab",
   "metadata": {},
   "source": [
    "---\n",
    "title: Prepare ENCODE ChIP-seq Subset 01\n",
    "subtitle: Generate download script to download the data\n",
    "format:\n",
    "    html:\n",
    "        code-fold:  true\n",
    "        code-tools: true\n",
    "---"
   ]
  },
  {
   "cell_type": "markdown",
   "id": "bd583e6d-18f9-4bdc-9b5a-2887853e01f1",
   "metadata": {},
   "source": [
    "**Set environment**"
   ]
  },
  {
   "cell_type": "code",
   "execution_count": 1,
   "id": "6212e6c5-2352-4c39-ad8f-98c67f26b28f",
   "metadata": {},
   "outputs": [
    {
     "name": "stdout",
     "output_type": "stream",
     "text": [
      "You are working on        Singularity: singularity_proj_encode_fcc \n",
      "BASE DIRECTORY (FD_BASE): /data/reddylab/Kuei \n",
      "REPO DIRECTORY (FD_REPO): /data/reddylab/Kuei/repo \n",
      "WORK DIRECTORY (FD_WORK): /data/reddylab/Kuei/work \n",
      "DATA DIRECTORY (FD_DATA): /data/reddylab/Kuei/data \n",
      "\n",
      "You are working with      ENCODE FCC \n",
      "PATH OF PROJECT (FD_PRJ): /data/reddylab/Kuei/repo/Proj_ENCODE_FCC \n",
      "PROJECT RESULTS (FD_RES): /data/reddylab/Kuei/repo/Proj_ENCODE_FCC/results \n",
      "PROJECT SCRIPTS (FD_EXE): /data/reddylab/Kuei/repo/Proj_ENCODE_FCC/scripts \n",
      "PROJECT DATA    (FD_DAT): /data/reddylab/Kuei/repo/Proj_ENCODE_FCC/data \n",
      "PROJECT NOTE    (FD_NBK): /data/reddylab/Kuei/repo/Proj_ENCODE_FCC/notebooks \n",
      "PROJECT DOCS    (FD_DOC): /data/reddylab/Kuei/repo/Proj_ENCODE_FCC/docs \n",
      "PROJECT LOG     (FD_LOG): /data/reddylab/Kuei/repo/Proj_ENCODE_FCC/log \n",
      "PROJECT REF     (FD_REF): /data/reddylab/Kuei/repo/Proj_ENCODE_FCC/references \n",
      "\n"
     ]
    }
   ],
   "source": [
    "suppressMessages(suppressWarnings(source(\"../run_config_project_sing.R\")))\n",
    "show_env()"
   ]
  },
  {
   "cell_type": "markdown",
   "id": "8b17ae29-a3df-4fde-8278-ee759e71b61f",
   "metadata": {},
   "source": [
    "## Prepare"
   ]
  },
  {
   "cell_type": "code",
   "execution_count": 2,
   "id": "3ba0daeb-c40a-4d0b-91f3-54717150e206",
   "metadata": {},
   "outputs": [
    {
     "name": "stdout",
     "output_type": "stream",
     "text": [
      "ENCODE_K562_hg38_ChIPseq_subset_histone.tsv \n",
      "ENCODE_K562_hg38_ChIPseq_subset_tf.tsv \n",
      "metadata.processed_selected.summary.tsv \n"
     ]
    }
   ],
   "source": [
    "txt_fdiry = file.path(FD_REF, \"encode_chipseq_subset\")\n",
    "vec = dir(txt_fdiry)\n",
    "for (txt in vec){cat(txt, \"\\n\")}"
   ]
  },
  {
   "cell_type": "markdown",
   "id": "90413728-1aa5-4371-ac45-90ffc852a142",
   "metadata": {},
   "source": [
    "## Import metadata from reference"
   ]
  },
  {
   "cell_type": "markdown",
   "id": "6fa2e241-9983-4c74-80b7-50dce9dd92f9",
   "metadata": {},
   "source": [
    "**ENCODE ChIP-seq Subset: Histone**"
   ]
  },
  {
   "cell_type": "code",
   "execution_count": 3,
   "id": "21b24c1a-cefa-41f5-b6dc-3eb09c1c88f6",
   "metadata": {},
   "outputs": [
    {
     "data": {
      "text/html": [
       "<table>\n",
       " <thead>\n",
       "  <tr>\n",
       "   <th style=\"text-align:left;\"> Assay </th>\n",
       "   <th style=\"text-align:left;\"> Biosample </th>\n",
       "   <th style=\"text-align:left;\"> Index_Experiment </th>\n",
       "   <th style=\"text-align:left;\"> Index_Process </th>\n",
       "   <th style=\"text-align:left;\"> Index_File </th>\n",
       "   <th style=\"text-align:left;\"> File_Type </th>\n",
       "   <th style=\"text-align:left;\"> Output_Type </th>\n",
       "   <th style=\"text-align:left;\"> Genome </th>\n",
       "   <th style=\"text-align:left;\"> Target </th>\n",
       "   <th style=\"text-align:left;\"> Lab </th>\n",
       "  </tr>\n",
       " </thead>\n",
       "<tbody>\n",
       "  <tr>\n",
       "   <td style=\"text-align:left;\"> ChIP-seq (Histone) </td>\n",
       "   <td style=\"text-align:left;\"> K562 </td>\n",
       "   <td style=\"text-align:left;\"> ENCSR000AKP </td>\n",
       "   <td style=\"text-align:left;\"> ENCODE4 v1.8.0 GRCh38 (ENCAN866TOS) </td>\n",
       "   <td style=\"text-align:left;\"> ENCFF544LXB </td>\n",
       "   <td style=\"text-align:left;\"> bed narrowPeak </td>\n",
       "   <td style=\"text-align:left;\"> pseudoreplicated peaks </td>\n",
       "   <td style=\"text-align:left;\"> hg38 </td>\n",
       "   <td style=\"text-align:left;\"> H3K27ac </td>\n",
       "   <td style=\"text-align:left;\"> Bradley Bernstein, Broad </td>\n",
       "  </tr>\n",
       "  <tr>\n",
       "   <td style=\"text-align:left;\"> ChIP-seq (Histone) </td>\n",
       "   <td style=\"text-align:left;\"> K562 </td>\n",
       "   <td style=\"text-align:left;\"> ENCSR000AKP </td>\n",
       "   <td style=\"text-align:left;\"> ENCODE4 v1.8.0 GRCh38 (ENCAN866TOS) </td>\n",
       "   <td style=\"text-align:left;\"> ENCFF465GBD </td>\n",
       "   <td style=\"text-align:left;\"> bigWig </td>\n",
       "   <td style=\"text-align:left;\"> signal p-value </td>\n",
       "   <td style=\"text-align:left;\"> hg38 </td>\n",
       "   <td style=\"text-align:left;\"> H3K27ac </td>\n",
       "   <td style=\"text-align:left;\"> Bradley Bernstein, Broad </td>\n",
       "  </tr>\n",
       "  <tr>\n",
       "   <td style=\"text-align:left;\"> ChIP-seq (Histone) </td>\n",
       "   <td style=\"text-align:left;\"> K562 </td>\n",
       "   <td style=\"text-align:left;\"> ENCSR000AKQ </td>\n",
       "   <td style=\"text-align:left;\"> ENCODE4 v1.8.0 GRCh38 (ENCAN481RKU) </td>\n",
       "   <td style=\"text-align:left;\"> ENCFF323WOT </td>\n",
       "   <td style=\"text-align:left;\"> bed narrowPeak </td>\n",
       "   <td style=\"text-align:left;\"> pseudoreplicated peaks </td>\n",
       "   <td style=\"text-align:left;\"> hg38 </td>\n",
       "   <td style=\"text-align:left;\"> H3K27me3 </td>\n",
       "   <td style=\"text-align:left;\"> Bradley Bernstein, Broad </td>\n",
       "  </tr>\n",
       "  <tr>\n",
       "   <td style=\"text-align:left;\"> ChIP-seq (Histone) </td>\n",
       "   <td style=\"text-align:left;\"> K562 </td>\n",
       "   <td style=\"text-align:left;\"> ENCSR000AKQ </td>\n",
       "   <td style=\"text-align:left;\"> ENCODE4 v1.8.0 GRCh38 (ENCAN481RKU) </td>\n",
       "   <td style=\"text-align:left;\"> ENCFF582IMB </td>\n",
       "   <td style=\"text-align:left;\"> bigWig </td>\n",
       "   <td style=\"text-align:left;\"> signal p-value </td>\n",
       "   <td style=\"text-align:left;\"> hg38 </td>\n",
       "   <td style=\"text-align:left;\"> H3K27me3 </td>\n",
       "   <td style=\"text-align:left;\"> Bradley Bernstein, Broad </td>\n",
       "  </tr>\n",
       "  <tr>\n",
       "   <td style=\"text-align:left;\"> ChIP-seq (Histone) </td>\n",
       "   <td style=\"text-align:left;\"> K562 </td>\n",
       "   <td style=\"text-align:left;\"> ENCSR668LDD </td>\n",
       "   <td style=\"text-align:left;\"> ENCODE4 v1.5.1 GRCh38 (ENCAN646APS) </td>\n",
       "   <td style=\"text-align:left;\"> ENCFF885FQN </td>\n",
       "   <td style=\"text-align:left;\"> bed narrowPeak </td>\n",
       "   <td style=\"text-align:left;\"> pseudoreplicated peaks </td>\n",
       "   <td style=\"text-align:left;\"> hg38 </td>\n",
       "   <td style=\"text-align:left;\"> H3K4me3 </td>\n",
       "   <td style=\"text-align:left;\"> Bradley Bernstein, Broad </td>\n",
       "  </tr>\n",
       "  <tr>\n",
       "   <td style=\"text-align:left;\"> ChIP-seq (Histone) </td>\n",
       "   <td style=\"text-align:left;\"> K562 </td>\n",
       "   <td style=\"text-align:left;\"> ENCSR668LDD </td>\n",
       "   <td style=\"text-align:left;\"> ENCODE4 v1.5.1 GRCh38 (ENCAN646APS) </td>\n",
       "   <td style=\"text-align:left;\"> ENCFF405ZDL </td>\n",
       "   <td style=\"text-align:left;\"> bigWig </td>\n",
       "   <td style=\"text-align:left;\"> signal p-value </td>\n",
       "   <td style=\"text-align:left;\"> hg38 </td>\n",
       "   <td style=\"text-align:left;\"> H3K4me3 </td>\n",
       "   <td style=\"text-align:left;\"> Bradley Bernstein, Broad </td>\n",
       "  </tr>\n",
       "</tbody>\n",
       "</table>"
      ]
     },
     "metadata": {},
     "output_type": "display_data"
    }
   ],
   "source": [
    "### set file path\n",
    "txt_fdiry = file.path(FD_REF, \"encode_chipseq_subset\")\n",
    "txt_fname = \"ENCODE_K562_hg38_ChIPseq_subset_histone.tsv\"\n",
    "txt_fpath = file.path(txt_fdiry, txt_fname)\n",
    "\n",
    "### read table\n",
    "dat = read_tsv(txt_fpath, show_col_types = FALSE)\n",
    "\n",
    "### show and assign\n",
    "dat_metadata_chipseq_histone = dat\n",
    "fun_display_table(head(dat))"
   ]
  },
  {
   "cell_type": "markdown",
   "id": "def62700-7ecf-4e78-a4b9-c3bbc3eec529",
   "metadata": {},
   "source": [
    "**ENCODE ChIP-seq Subset: TF**"
   ]
  },
  {
   "cell_type": "code",
   "execution_count": 4,
   "id": "381f3523-f0b3-47aa-bdb5-f5822b303b36",
   "metadata": {},
   "outputs": [
    {
     "data": {
      "text/html": [
       "<table>\n",
       " <thead>\n",
       "  <tr>\n",
       "   <th style=\"text-align:left;\"> Assay </th>\n",
       "   <th style=\"text-align:left;\"> Biosample </th>\n",
       "   <th style=\"text-align:left;\"> Index_Experiment </th>\n",
       "   <th style=\"text-align:left;\"> Index_Process </th>\n",
       "   <th style=\"text-align:left;\"> Index_File </th>\n",
       "   <th style=\"text-align:left;\"> File_Type </th>\n",
       "   <th style=\"text-align:left;\"> Output_Type </th>\n",
       "   <th style=\"text-align:left;\"> Genome </th>\n",
       "   <th style=\"text-align:left;\"> Target </th>\n",
       "   <th style=\"text-align:left;\"> Lab </th>\n",
       "  </tr>\n",
       " </thead>\n",
       "<tbody>\n",
       "  <tr>\n",
       "   <td style=\"text-align:left;\"> ChIP-seq (TF) </td>\n",
       "   <td style=\"text-align:left;\"> K562 </td>\n",
       "   <td style=\"text-align:left;\"> ENCSR000BMH </td>\n",
       "   <td style=\"text-align:left;\"> ENCODE4 v1.6.1 GRCh38 (ENCAN290MUT) </td>\n",
       "   <td style=\"text-align:left;\"> ENCFF398UQZ </td>\n",
       "   <td style=\"text-align:left;\"> bed narrowPeak </td>\n",
       "   <td style=\"text-align:left;\"> IDR thresholded peaks </td>\n",
       "   <td style=\"text-align:left;\"> hg38 </td>\n",
       "   <td style=\"text-align:left;\"> YY1 </td>\n",
       "   <td style=\"text-align:left;\"> Richard Myers, HAIB </td>\n",
       "  </tr>\n",
       "  <tr>\n",
       "   <td style=\"text-align:left;\"> ChIP-seq (TF) </td>\n",
       "   <td style=\"text-align:left;\"> K562 </td>\n",
       "   <td style=\"text-align:left;\"> ENCSR000BMH </td>\n",
       "   <td style=\"text-align:left;\"> ENCODE4 v1.6.1 GRCh38 (ENCAN290MUT) </td>\n",
       "   <td style=\"text-align:left;\"> ENCFF927TDC </td>\n",
       "   <td style=\"text-align:left;\"> bigWig </td>\n",
       "   <td style=\"text-align:left;\"> signal p-value </td>\n",
       "   <td style=\"text-align:left;\"> hg38 </td>\n",
       "   <td style=\"text-align:left;\"> YY1 </td>\n",
       "   <td style=\"text-align:left;\"> Richard Myers, HAIB </td>\n",
       "  </tr>\n",
       "  <tr>\n",
       "   <td style=\"text-align:left;\"> ChIP-seq (TF) </td>\n",
       "   <td style=\"text-align:left;\"> K562 </td>\n",
       "   <td style=\"text-align:left;\"> ENCSR000BMW </td>\n",
       "   <td style=\"text-align:left;\"> ENCODE4 v1.6.1 GRCh38 (ENCAN901MVU) </td>\n",
       "   <td style=\"text-align:left;\"> ENCFF707MDI </td>\n",
       "   <td style=\"text-align:left;\"> bed narrowPeak </td>\n",
       "   <td style=\"text-align:left;\"> IDR thresholded peaks </td>\n",
       "   <td style=\"text-align:left;\"> hg38 </td>\n",
       "   <td style=\"text-align:left;\"> REST </td>\n",
       "   <td style=\"text-align:left;\"> Richard Myers, HAIB </td>\n",
       "  </tr>\n",
       "  <tr>\n",
       "   <td style=\"text-align:left;\"> ChIP-seq (TF) </td>\n",
       "   <td style=\"text-align:left;\"> K562 </td>\n",
       "   <td style=\"text-align:left;\"> ENCSR000BMW </td>\n",
       "   <td style=\"text-align:left;\"> ENCODE4 v1.6.1 GRCh38 (ENCAN901MVU) </td>\n",
       "   <td style=\"text-align:left;\"> ENCFF538LAN </td>\n",
       "   <td style=\"text-align:left;\"> bigWig </td>\n",
       "   <td style=\"text-align:left;\"> signal p-value </td>\n",
       "   <td style=\"text-align:left;\"> hg38 </td>\n",
       "   <td style=\"text-align:left;\"> REST </td>\n",
       "   <td style=\"text-align:left;\"> Richard Myers, HAIB </td>\n",
       "  </tr>\n",
       "  <tr>\n",
       "   <td style=\"text-align:left;\"> ChIP-seq (TF) </td>\n",
       "   <td style=\"text-align:left;\"> K562 </td>\n",
       "   <td style=\"text-align:left;\"> ENCSR000EFS </td>\n",
       "   <td style=\"text-align:left;\"> ENCODE4 v1.6.1 GRCh38 (ENCAN111NEZ) </td>\n",
       "   <td style=\"text-align:left;\"> ENCFF190CGV </td>\n",
       "   <td style=\"text-align:left;\"> bed narrowPeak </td>\n",
       "   <td style=\"text-align:left;\"> IDR thresholded peaks </td>\n",
       "   <td style=\"text-align:left;\"> hg38 </td>\n",
       "   <td style=\"text-align:left;\"> JUN </td>\n",
       "   <td style=\"text-align:left;\"> Michael Snyder, Stanford </td>\n",
       "  </tr>\n",
       "  <tr>\n",
       "   <td style=\"text-align:left;\"> ChIP-seq (TF) </td>\n",
       "   <td style=\"text-align:left;\"> K562 </td>\n",
       "   <td style=\"text-align:left;\"> ENCSR000EFS </td>\n",
       "   <td style=\"text-align:left;\"> ENCODE4 v1.6.1 GRCh38 (ENCAN111NEZ) </td>\n",
       "   <td style=\"text-align:left;\"> ENCFF756UVW </td>\n",
       "   <td style=\"text-align:left;\"> bigWig </td>\n",
       "   <td style=\"text-align:left;\"> signal p-value </td>\n",
       "   <td style=\"text-align:left;\"> hg38 </td>\n",
       "   <td style=\"text-align:left;\"> JUN </td>\n",
       "   <td style=\"text-align:left;\"> Michael Snyder, Stanford </td>\n",
       "  </tr>\n",
       "</tbody>\n",
       "</table>"
      ]
     },
     "metadata": {},
     "output_type": "display_data"
    }
   ],
   "source": [
    "### set file path\n",
    "txt_fdiry = file.path(FD_REF, \"encode_chipseq_subset\")\n",
    "txt_fname = \"ENCODE_K562_hg38_ChIPseq_subset_tf.tsv\"\n",
    "txt_fpath = file.path(txt_fdiry, txt_fname)\n",
    "\n",
    "### read table\n",
    "dat = read_tsv(txt_fpath, show_col_types = FALSE)\n",
    "\n",
    "### show and assign\n",
    "dat_metadata_chipseq_tf = dat\n",
    "fun_display_table(head(dat))"
   ]
  },
  {
   "cell_type": "markdown",
   "id": "7d1ef89f-f93e-4091-b05b-3b2f964403a6",
   "metadata": {},
   "source": [
    "**Merge tables**"
   ]
  },
  {
   "cell_type": "code",
   "execution_count": 5,
   "id": "61bcc828-6de1-4563-a80a-a8e953d23368",
   "metadata": {},
   "outputs": [],
   "source": [
    "dat_metadata_chipseq_subset = bind_rows(\n",
    "    dat_metadata_chipseq_histone,\n",
    "    dat_metadata_chipseq_tf\n",
    ")"
   ]
  },
  {
   "cell_type": "markdown",
   "id": "ac6b0659-7a8b-4dfd-acef-b441ca6ea5a3",
   "metadata": {},
   "source": [
    "**ENCODE ChIP-seq Full**"
   ]
  },
  {
   "cell_type": "code",
   "execution_count": 6,
   "id": "8d9421b7-6340-4624-8bef-10cf7c6369f2",
   "metadata": {},
   "outputs": [
    {
     "name": "stdout",
     "output_type": "stream",
     "text": [
      "[1] 12914    12\n"
     ]
    },
    {
     "data": {
      "text/html": [
       "<table>\n",
       " <thead>\n",
       "  <tr>\n",
       "   <th style=\"text-align:left;\"> Assay </th>\n",
       "   <th style=\"text-align:left;\"> Index_Experiment </th>\n",
       "   <th style=\"text-align:left;\"> Index_File </th>\n",
       "   <th style=\"text-align:left;\"> File_Type </th>\n",
       "   <th style=\"text-align:left;\"> Output_Type </th>\n",
       "   <th style=\"text-align:left;\"> Genome </th>\n",
       "   <th style=\"text-align:left;\"> Target </th>\n",
       "   <th style=\"text-align:left;\"> Analysis </th>\n",
       "   <th style=\"text-align:left;\"> RFA </th>\n",
       "   <th style=\"text-align:left;\"> md5sum </th>\n",
       "   <th style=\"text-align:left;\"> File_Name </th>\n",
       "   <th style=\"text-align:left;\"> File_Url </th>\n",
       "  </tr>\n",
       " </thead>\n",
       "<tbody>\n",
       "  <tr>\n",
       "   <td style=\"text-align:left;\"> TF ChIP-seq </td>\n",
       "   <td style=\"text-align:left;\"> ENCSR228ELU </td>\n",
       "   <td style=\"text-align:left;\"> ENCFF069LRH </td>\n",
       "   <td style=\"text-align:left;\"> bigWig </td>\n",
       "   <td style=\"text-align:left;\"> fold change over control </td>\n",
       "   <td style=\"text-align:left;\"> GRCh38 </td>\n",
       "   <td style=\"text-align:left;\"> TEAD1 </td>\n",
       "   <td style=\"text-align:left;\"> ENCODE4 v1.8.0 GRCh38 </td>\n",
       "   <td style=\"text-align:left;\"> ENCODE4 </td>\n",
       "   <td style=\"text-align:left;\"> c30741767636bacad0a5be17aabe2091 </td>\n",
       "   <td style=\"text-align:left;\"> ENCFF069LRH.bigWig </td>\n",
       "   <td style=\"text-align:left;\"> https://www.encodeproject.org/files/ENCFF069LRH/@@download/ENCFF069LRH.bigWig </td>\n",
       "  </tr>\n",
       "  <tr>\n",
       "   <td style=\"text-align:left;\"> TF ChIP-seq </td>\n",
       "   <td style=\"text-align:left;\"> ENCSR228ELU </td>\n",
       "   <td style=\"text-align:left;\"> ENCFF105HVH </td>\n",
       "   <td style=\"text-align:left;\"> bed narrowPeak </td>\n",
       "   <td style=\"text-align:left;\"> IDR thresholded peaks </td>\n",
       "   <td style=\"text-align:left;\"> GRCh38 </td>\n",
       "   <td style=\"text-align:left;\"> TEAD1 </td>\n",
       "   <td style=\"text-align:left;\"> ENCODE4 v1.8.0 GRCh38 </td>\n",
       "   <td style=\"text-align:left;\"> ENCODE4 </td>\n",
       "   <td style=\"text-align:left;\"> add6b67d6290baeaa2158f6f6de00292 </td>\n",
       "   <td style=\"text-align:left;\"> ENCFF105HVH.bed.gz </td>\n",
       "   <td style=\"text-align:left;\"> https://www.encodeproject.org/files/ENCFF105HVH/@@download/ENCFF105HVH.bed.gz </td>\n",
       "  </tr>\n",
       "  <tr>\n",
       "   <td style=\"text-align:left;\"> TF ChIP-seq </td>\n",
       "   <td style=\"text-align:left;\"> ENCSR228ELU </td>\n",
       "   <td style=\"text-align:left;\"> ENCFF214SNH </td>\n",
       "   <td style=\"text-align:left;\"> bed narrowPeak </td>\n",
       "   <td style=\"text-align:left;\"> IDR thresholded peaks </td>\n",
       "   <td style=\"text-align:left;\"> GRCh38 </td>\n",
       "   <td style=\"text-align:left;\"> TEAD1 </td>\n",
       "   <td style=\"text-align:left;\"> ENCODE4 v1.8.0 GRCh38 </td>\n",
       "   <td style=\"text-align:left;\"> ENCODE4 </td>\n",
       "   <td style=\"text-align:left;\"> a864ccf68ff3ca9e7539f90ef7208260 </td>\n",
       "   <td style=\"text-align:left;\"> ENCFF214SNH.bed.gz </td>\n",
       "   <td style=\"text-align:left;\"> https://www.encodeproject.org/files/ENCFF214SNH/@@download/ENCFF214SNH.bed.gz </td>\n",
       "  </tr>\n",
       "</tbody>\n",
       "</table>"
      ]
     },
     "metadata": {},
     "output_type": "display_data"
    }
   ],
   "source": [
    "### set file path\n",
    "txt_fdiry = file.path(FD_REF, \"encode_chipseq_subset\")\n",
    "txt_fname = \"metadata.processed_selected.summary.tsv\"\n",
    "txt_fpath = file.path(txt_fdiry, txt_fname)\n",
    "\n",
    "### read table\n",
    "dat = read_tsv(txt_fpath, show_col_types = FALSE)\n",
    "\n",
    "### show and assign\n",
    "dat_metadata_chipseq_full = dat\n",
    "print(dim(dat))\n",
    "fun_display_table(head(dat, 3))"
   ]
  },
  {
   "cell_type": "markdown",
   "id": "470522d2-4036-471b-a992-664102fa4160",
   "metadata": {},
   "source": [
    "**Check: all biosamples are K562**"
   ]
  },
  {
   "cell_type": "code",
   "execution_count": 7,
   "id": "8e4d62f9-f539-4508-960c-c36f3fc1e6b3",
   "metadata": {},
   "outputs": [
    {
     "data": {
      "text/plain": [
       "                    \n",
       "                     K562\n",
       "  ChIP-seq (Histone)   10\n",
       "  ChIP-seq (TF)        32"
      ]
     },
     "metadata": {},
     "output_type": "display_data"
    }
   ],
   "source": [
    "dat = dat_metadata_chipseq_subset\n",
    "table(dat$Assay, dat$Biosample)"
   ]
  },
  {
   "cell_type": "markdown",
   "id": "5250e139-a26f-4c09-b92d-11df8c2e9a19",
   "metadata": {},
   "source": [
    "**Check: Subset of ChIP-seq are within the full set**"
   ]
  },
  {
   "cell_type": "code",
   "execution_count": 8,
   "id": "d8ff7bea-0211-4512-8b76-ba271949884a",
   "metadata": {},
   "outputs": [
    {
     "data": {
      "text/html": [
       "TRUE"
      ],
      "text/latex": [
       "TRUE"
      ],
      "text/markdown": [
       "TRUE"
      ],
      "text/plain": [
       "[1] TRUE"
      ]
     },
     "metadata": {},
     "output_type": "display_data"
    }
   ],
   "source": [
    "dat  = dat_metadata_chipseq_subset\n",
    "vec  = dat$Index_File\n",
    "vec1 = vec\n",
    "\n",
    "dat  = dat_metadata_chipseq_full\n",
    "vec  = dat$Index_File\n",
    "vec2 = vec\n",
    "\n",
    "all(vec1 %in% vec2)"
   ]
  },
  {
   "cell_type": "markdown",
   "id": "b33bb5b7-053e-41f5-b1c1-8886f7a6c8e2",
   "metadata": {},
   "source": [
    "## Filter to get the final metadata table"
   ]
  },
  {
   "cell_type": "code",
   "execution_count": 9,
   "id": "c62f3244-fbc4-4762-a03f-94cff78252bc",
   "metadata": {},
   "outputs": [
    {
     "name": "stdout",
     "output_type": "stream",
     "text": [
      "[1] 42\n",
      "[1] 42\n"
     ]
    },
    {
     "data": {
      "text/html": [
       "<table>\n",
       " <thead>\n",
       "  <tr>\n",
       "   <th style=\"text-align:left;\"> Assay </th>\n",
       "   <th style=\"text-align:left;\"> Index_Experiment </th>\n",
       "   <th style=\"text-align:left;\"> Index_File </th>\n",
       "   <th style=\"text-align:left;\"> File_Type </th>\n",
       "   <th style=\"text-align:left;\"> Output_Type </th>\n",
       "   <th style=\"text-align:left;\"> Genome </th>\n",
       "   <th style=\"text-align:left;\"> Target </th>\n",
       "   <th style=\"text-align:left;\"> Analysis </th>\n",
       "   <th style=\"text-align:left;\"> RFA </th>\n",
       "   <th style=\"text-align:left;\"> md5sum </th>\n",
       "   <th style=\"text-align:left;\"> File_Name </th>\n",
       "   <th style=\"text-align:left;\"> File_Url </th>\n",
       "  </tr>\n",
       " </thead>\n",
       "<tbody>\n",
       "  <tr>\n",
       "   <td style=\"text-align:left;\"> TF ChIP-seq </td>\n",
       "   <td style=\"text-align:left;\"> ENCSR000EGM </td>\n",
       "   <td style=\"text-align:left;\"> ENCFF336UPT </td>\n",
       "   <td style=\"text-align:left;\"> bigWig </td>\n",
       "   <td style=\"text-align:left;\"> signal p-value </td>\n",
       "   <td style=\"text-align:left;\"> GRCh38 </td>\n",
       "   <td style=\"text-align:left;\"> CTCF </td>\n",
       "   <td style=\"text-align:left;\"> ENCODE4 v1.5.1 GRCh38 </td>\n",
       "   <td style=\"text-align:left;\"> ENCODE2 </td>\n",
       "   <td style=\"text-align:left;\"> 883eb33a975e14130e142b98070b14c0 </td>\n",
       "   <td style=\"text-align:left;\"> ENCFF336UPT.bigWig </td>\n",
       "   <td style=\"text-align:left;\"> https://www.encodeproject.org/files/ENCFF336UPT/@@download/ENCFF336UPT.bigWig </td>\n",
       "  </tr>\n",
       "  <tr>\n",
       "   <td style=\"text-align:left;\"> TF ChIP-seq </td>\n",
       "   <td style=\"text-align:left;\"> ENCSR000EGM </td>\n",
       "   <td style=\"text-align:left;\"> ENCFF660GHM </td>\n",
       "   <td style=\"text-align:left;\"> bed narrowPeak </td>\n",
       "   <td style=\"text-align:left;\"> IDR thresholded peaks </td>\n",
       "   <td style=\"text-align:left;\"> GRCh38 </td>\n",
       "   <td style=\"text-align:left;\"> CTCF </td>\n",
       "   <td style=\"text-align:left;\"> ENCODE4 v1.5.1 GRCh38 </td>\n",
       "   <td style=\"text-align:left;\"> ENCODE2 </td>\n",
       "   <td style=\"text-align:left;\"> 2b9e2c2ba7afe8d64f5f3549ce16cf1a </td>\n",
       "   <td style=\"text-align:left;\"> ENCFF660GHM.bed.gz </td>\n",
       "   <td style=\"text-align:left;\"> https://www.encodeproject.org/files/ENCFF660GHM/@@download/ENCFF660GHM.bed.gz </td>\n",
       "  </tr>\n",
       "  <tr>\n",
       "   <td style=\"text-align:left;\"> Histone ChIP-seq </td>\n",
       "   <td style=\"text-align:left;\"> ENCSR000AKT </td>\n",
       "   <td style=\"text-align:left;\"> ENCFF054RSU </td>\n",
       "   <td style=\"text-align:left;\"> bigWig </td>\n",
       "   <td style=\"text-align:left;\"> signal p-value </td>\n",
       "   <td style=\"text-align:left;\"> GRCh38 </td>\n",
       "   <td style=\"text-align:left;\"> H3K4me2 </td>\n",
       "   <td style=\"text-align:left;\"> ENCODE4 v1.6.1 GRCh38 </td>\n",
       "   <td style=\"text-align:left;\"> ENCODE2 </td>\n",
       "   <td style=\"text-align:left;\"> 5a9a282c89fc45d7a729dcc8e7c71c10 </td>\n",
       "   <td style=\"text-align:left;\"> ENCFF054RSU.bigWig </td>\n",
       "   <td style=\"text-align:left;\"> https://www.encodeproject.org/files/ENCFF054RSU/@@download/ENCFF054RSU.bigWig </td>\n",
       "  </tr>\n",
       "</tbody>\n",
       "</table>"
      ]
     },
     "metadata": {},
     "output_type": "display_data"
    }
   ],
   "source": [
    "### init\n",
    "dat = dat_metadata_chipseq_subset\n",
    "vec = dat$Index_File\n",
    "\n",
    "### filter\n",
    "dat = dat_metadata_chipseq_full\n",
    "dat = dat %>% dplyr::filter(Index_File %in% vec)\n",
    "    \n",
    "### assign and show\n",
    "dat_metadata_final = dat\n",
    "print(length(vec))\n",
    "print(nrow(dat))\n",
    "fun_display_table(head(dat, 3))"
   ]
  },
  {
   "cell_type": "markdown",
   "id": "20134891-dcdf-4b64-8c11-ccb2f733f40f",
   "metadata": {},
   "source": [
    "**Check: all files are in hg38**"
   ]
  },
  {
   "cell_type": "code",
   "execution_count": 10,
   "id": "1f456696-395f-473e-9f66-b57be8708c08",
   "metadata": {},
   "outputs": [
    {
     "data": {
      "text/plain": [
       "                  \n",
       "                   GRCh38\n",
       "  Histone ChIP-seq     10\n",
       "  TF ChIP-seq          32"
      ]
     },
     "metadata": {},
     "output_type": "display_data"
    }
   ],
   "source": [
    "dat = dat_metadata_final\n",
    "table(dat$Assay, dat$Genome)"
   ]
  },
  {
   "cell_type": "markdown",
   "id": "2aa5260f-23d7-47dc-bb91-94fce19d1cf5",
   "metadata": {},
   "source": [
    "**Check: file/output types**"
   ]
  },
  {
   "cell_type": "code",
   "execution_count": 11,
   "id": "3012768b-9615-4876-b5c1-3cd7e146f3f1",
   "metadata": {},
   "outputs": [
    {
     "data": {
      "text/plain": [
       "                                    \n",
       "                                     bed narrowPeak bigWig\n",
       "  conservative IDR thresholded peaks              2      0\n",
       "  IDR thresholded peaks                          14      0\n",
       "  pseudoreplicated peaks                          4      0\n",
       "  replicated peaks                                1      0\n",
       "  signal p-value                                  0     21"
      ]
     },
     "metadata": {},
     "output_type": "display_data"
    }
   ],
   "source": [
    "dat = dat_metadata_final\n",
    "table(dat$Output_Type, dat$File_Type)"
   ]
  },
  {
   "cell_type": "code",
   "execution_count": 12,
   "id": "fc409046-fa36-4ecc-8f17-ea5d87d33f38",
   "metadata": {},
   "outputs": [
    {
     "data": {
      "text/plain": [
       "             \n",
       "              bed narrowPeak bigWig\n",
       "  ENCSR000AKP              1      1\n",
       "  ENCSR000AKQ              1      1\n",
       "  ENCSR000AKS              1      1\n",
       "  ENCSR000AKT              1      1\n",
       "  ENCSR000BMH              1      1\n",
       "  ENCSR000BMW              1      1\n",
       "  ENCSR000EFS              1      1\n",
       "  ENCSR000EFT              1      1\n",
       "  ENCSR000EFU              1      1\n",
       "  ENCSR000EGE              1      1\n",
       "  ENCSR000EGM              1      1\n",
       "  ENCSR000EHB              1      1\n",
       "  ENCSR004GKA              1      1\n",
       "  ENCSR091GVJ              1      1\n",
       "  ENCSR121SPB              1      1\n",
       "  ENCSR388QZF              1      1\n",
       "  ENCSR552YGL              1      1\n",
       "  ENCSR668LDD              1      1\n",
       "  ENCSR760UVO              1      1\n",
       "  ENCSR991ELG              1      1\n",
       "  ENCSR998AJK              1      1"
      ]
     },
     "metadata": {},
     "output_type": "display_data"
    }
   ],
   "source": [
    "dat = dat_metadata_final\n",
    "table(dat$Index_Experiment, dat$File_Type)"
   ]
  },
  {
   "cell_type": "markdown",
   "id": "db17ce74-2587-4639-a727-64c49393f187",
   "metadata": {},
   "source": [
    "## Prepare download files"
   ]
  },
  {
   "cell_type": "code",
   "execution_count": 13,
   "id": "53a64cd1-69a8-48b1-ad24-2541e9442137",
   "metadata": {},
   "outputs": [
    {
     "name": "stdout",
     "output_type": "stream",
     "text": [
      "[1] 42  1\n"
     ]
    },
    {
     "data": {
      "text/html": [
       "<table>\n",
       " <thead>\n",
       "  <tr>\n",
       "   <th style=\"text-align:left;\"> File_Url </th>\n",
       "  </tr>\n",
       " </thead>\n",
       "<tbody>\n",
       "  <tr>\n",
       "   <td style=\"text-align:left;\"> https://www.encodeproject.org/files/ENCFF336UPT/@@download/ENCFF336UPT.bigWig </td>\n",
       "  </tr>\n",
       "  <tr>\n",
       "   <td style=\"text-align:left;\"> https://www.encodeproject.org/files/ENCFF660GHM/@@download/ENCFF660GHM.bed.gz </td>\n",
       "  </tr>\n",
       "  <tr>\n",
       "   <td style=\"text-align:left;\"> https://www.encodeproject.org/files/ENCFF054RSU/@@download/ENCFF054RSU.bigWig </td>\n",
       "  </tr>\n",
       "</tbody>\n",
       "</table>"
      ]
     },
     "metadata": {},
     "output_type": "display_data"
    }
   ],
   "source": [
    "### get file url\n",
    "dat = dat_metadata_final\n",
    "dat = dat %>% dplyr::select(File_Url)\n",
    "\n",
    "### assign and show\n",
    "dat_download_furl = dat\n",
    "print(dim(dat))\n",
    "fun_display_table(head(dat, 3))"
   ]
  },
  {
   "cell_type": "markdown",
   "id": "81be2ce4-6c91-43b6-a4f0-c49c92569013",
   "metadata": {},
   "source": [
    "## Prepare download checksum"
   ]
  },
  {
   "cell_type": "code",
   "execution_count": 14,
   "id": "62923c9f-7db9-42f4-a80e-349098d229c4",
   "metadata": {},
   "outputs": [
    {
     "name": "stdout",
     "output_type": "stream",
     "text": [
      "[1] 42  2\n"
     ]
    },
    {
     "data": {
      "text/html": [
       "<table>\n",
       " <thead>\n",
       "  <tr>\n",
       "   <th style=\"text-align:left;\"> md5sum </th>\n",
       "   <th style=\"text-align:left;\"> File_Name </th>\n",
       "  </tr>\n",
       " </thead>\n",
       "<tbody>\n",
       "  <tr>\n",
       "   <td style=\"text-align:left;\"> 883eb33a975e14130e142b98070b14c0 </td>\n",
       "   <td style=\"text-align:left;\"> ENCFF336UPT.bigWig </td>\n",
       "  </tr>\n",
       "  <tr>\n",
       "   <td style=\"text-align:left;\"> 2b9e2c2ba7afe8d64f5f3549ce16cf1a </td>\n",
       "   <td style=\"text-align:left;\"> ENCFF660GHM.bed.gz </td>\n",
       "  </tr>\n",
       "  <tr>\n",
       "   <td style=\"text-align:left;\"> 5a9a282c89fc45d7a729dcc8e7c71c10 </td>\n",
       "   <td style=\"text-align:left;\"> ENCFF054RSU.bigWig </td>\n",
       "  </tr>\n",
       "</tbody>\n",
       "</table>"
      ]
     },
     "metadata": {},
     "output_type": "display_data"
    }
   ],
   "source": [
    "### get md5sum for each file\n",
    "dat = dat_metadata_final\n",
    "dat = dat %>% dplyr::select(md5sum, File_Name)\n",
    "\n",
    "### assign and show\n",
    "dat_download_md5sum = dat\n",
    "print(dim(dat))\n",
    "fun_display_table(head(dat, 3))"
   ]
  },
  {
   "cell_type": "markdown",
   "id": "8a3e436c-abbc-4df1-bd8a-17600d33dc7b",
   "metadata": {},
   "source": [
    "## Save results"
   ]
  },
  {
   "cell_type": "code",
   "execution_count": 15,
   "id": "cfe39c6d-df4a-40f4-988c-54162e2366a3",
   "metadata": {},
   "outputs": [
    {
     "name": "stdout",
     "output_type": "stream",
     "text": [
      "[1] \"/data/reddylab/Kuei/repo/Proj_ENCODE_FCC/data/external/encode_chipseq_subset\"\n",
      "[1] \"/data/reddylab/Kuei/repo/Proj_ENCODE_FCC/results/region/encode_chipseq_subset/summary\"\n"
     ]
    }
   ],
   "source": [
    "### init\n",
    "txt_folder = \"encode_chipseq_subset\"\n",
    "\n",
    "### create folder for data\n",
    "txt_fdiry = file.path(FD_DAT, \"external\", txt_folder)\n",
    "txt_cmd   = paste(\"mkdir -p\", txt_fdiry)\n",
    "system(txt_cmd)\n",
    "print(txt_fdiry)\n",
    "\n",
    "### create folder for results\n",
    "txt_fdiry = file.path(FD_RES, \"region\", txt_folder, \"summary\")\n",
    "txt_cmd   = paste(\"mkdir -p\", txt_fdiry)\n",
    "system(txt_cmd)\n",
    "print(txt_fdiry)"
   ]
  },
  {
   "cell_type": "code",
   "execution_count": 16,
   "id": "b1cc944d-0ab1-4e08-82c5-6a0909fde0b6",
   "metadata": {},
   "outputs": [],
   "source": [
    "### set directory\n",
    "txt_fdiry = file.path(FD_DAT, \"external\", txt_folder)\n",
    "txt_fname = \"files.txt\"\n",
    "txt_fpath = file.path(txt_fdiry, txt_fname)\n",
    "\n",
    "### write table\n",
    "dat = dat_download_furl\n",
    "write_tsv(dat, txt_fpath, col_names = FALSE)  "
   ]
  },
  {
   "cell_type": "code",
   "execution_count": 17,
   "id": "7eee4000-bb28-4208-8688-cfc60b5800e2",
   "metadata": {},
   "outputs": [],
   "source": [
    "### set directory\n",
    "txt_fdiry = file.path(FD_DAT, \"external\", txt_folder)\n",
    "txt_fname = \"checksum_md5sum.txt\"\n",
    "txt_fpath = file.path(txt_fdiry, txt_fname)\n",
    "\n",
    "### write table\n",
    "dat = dat_download_md5sum\n",
    "write_tsv(dat, txt_fpath, col_names = FALSE)  "
   ]
  },
  {
   "cell_type": "code",
   "execution_count": 18,
   "id": "389664db-827a-4172-a8b0-58daee9ac501",
   "metadata": {},
   "outputs": [],
   "source": [
    "### set output path\n",
    "txt_fdiry = file.path(FD_RES, \"region\", txt_folder, \"summary\")\n",
    "txt_fname = \"metadata.tsv\"\n",
    "txt_fpath = file.path(txt_fdiry, txt_fname)\n",
    "\n",
    "### save table\n",
    "dat = dat_metadata_final\n",
    "write_tsv(dat, txt_fpath)  "
   ]
  },
  {
   "cell_type": "code",
   "execution_count": null,
   "id": "30fe8398-9078-432f-b1dd-99566fa2c19a",
   "metadata": {},
   "outputs": [],
   "source": []
  }
 ],
 "metadata": {
  "kernelspec": {
   "display_name": "R",
   "language": "R",
   "name": "ir"
  },
  "language_info": {
   "codemirror_mode": "r",
   "file_extension": ".r",
   "mimetype": "text/x-r-source",
   "name": "R",
   "pygments_lexer": "r",
   "version": "4.4.2"
  }
 },
 "nbformat": 4,
 "nbformat_minor": 5
}
