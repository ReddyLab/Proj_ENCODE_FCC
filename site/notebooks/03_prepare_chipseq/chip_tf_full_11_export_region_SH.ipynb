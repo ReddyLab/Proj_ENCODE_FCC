{
 "cells": [
  {
   "cell_type": "raw",
   "id": "7ee15bab-8974-401c-b047-72ce41ebe156",
   "metadata": {},
   "source": [
    "---\n",
    "title: Prepare ENCODE ChIP-seq Histone 11\n",
    "subtitle: Export region data to `result` folder\n",
    "format:\n",
    "    html:\n",
    "        code-fold:  true\n",
    "        code-tools: true\n",
    "---"
   ]
  },
  {
   "cell_type": "markdown",
   "id": "5487f930-c1a0-4417-a707-d5be0ad6a5b7",
   "metadata": {},
   "source": [
    "**Set environment**"
   ]
  },
  {
   "cell_type": "code",
   "execution_count": 1,
   "id": "529a70f2-cbfb-4a42-80cd-bdcc221fcf43",
   "metadata": {},
   "outputs": [
    {
     "name": "stdout",
     "output_type": "stream",
     "text": [
      "You are working on             Duke Server: RCC\n",
      "BASE DIRECTORY (FD_BASE):      /data/reddylab/Kuei\n",
      "REPO DIRECTORY (FD_REPO):      /data/reddylab/Kuei/repo\n",
      "WORK DIRECTORY (FD_WORK):      /data/reddylab/Kuei/work\n",
      "DATA DIRECTORY (FD_DATA):      /data/reddylab/Kuei/data\n",
      "CONTAINER DIR. (FD_SING):      /data/reddylab/Kuei/container\n",
      "\n",
      "You are working with           ENCODE FCC\n",
      "PATH OF PROJECT (FD_PRJ):      /data/reddylab/Kuei/repo/Proj_ENCODE_FCC\n",
      "PROJECT RESULTS (FD_RES):      /data/reddylab/Kuei/repo/Proj_ENCODE_FCC/results\n",
      "PROJECT SCRIPTS (FD_EXE):      /data/reddylab/Kuei/repo/Proj_ENCODE_FCC/scripts\n",
      "PROJECT DATA    (FD_DAT):      /data/reddylab/Kuei/repo/Proj_ENCODE_FCC/data\n",
      "PROJECT NOTE    (FD_NBK):      /data/reddylab/Kuei/repo/Proj_ENCODE_FCC/notebooks\n",
      "PROJECT DOCS    (FD_DOC):      /data/reddylab/Kuei/repo/Proj_ENCODE_FCC/docs\n",
      "PROJECT LOG     (FD_LOG):      /data/reddylab/Kuei/repo/Proj_ENCODE_FCC/log\n",
      "PROJECT REF     (FD_REF):      /data/reddylab/Kuei/repo/Proj_ENCODE_FCC/references\n",
      "PROJECT IMAGE   (FP_PRJ_SIF):  /data/reddylab/Kuei/container/project/singularity_proj_encode_fcc.sif\n",
      "PROJECT CONF.   (FP_CNF):      /data/reddylab/Kuei/repo/Proj_ENCODE_FCC/scripts/config_project.sh\n",
      "\n"
     ]
    }
   ],
   "source": [
    "source ../run_config_project.sh\n",
    "show_env"
   ]
  },
  {
   "cell_type": "markdown",
   "id": "63b2da42-3476-47b6-8c1d-2b75029cac8a",
   "metadata": {},
   "source": [
    "**Set global variable**"
   ]
  },
  {
   "cell_type": "code",
   "execution_count": 2,
   "id": "c942178e-3499-454b-98f5-d20cacd1cd53",
   "metadata": {},
   "outputs": [],
   "source": [
    "REGION_FOLDER_DAT=\"encode_chipseq_tf_250120\"\n",
    "REGION_FOLDER_RES=\"encode_chipseq_tf_full\""
   ]
  },
  {
   "cell_type": "markdown",
   "id": "d4ac6ca5-637c-4823-99f4-c7345225f6d5",
   "metadata": {
    "tags": []
   },
   "source": [
    "## Prepare"
   ]
  },
  {
   "cell_type": "code",
   "execution_count": 3,
   "id": "d9aa86df-aaa5-4bf3-8a38-07d84a8b6ff0",
   "metadata": {},
   "outputs": [
    {
     "name": "stdout",
     "output_type": "stream",
     "text": [
      "chrom.hg38.main.bed              \u001b[0m\u001b[01;34mencode_crispri_hcrff\u001b[0m\n",
      "chrom.hg38.total.bed             \u001b[01;34mencode_open_chromatin\u001b[0m\n",
      "chrom.sizes.hg19                 \u001b[01;34mencode_rnaseq\u001b[0m\n",
      "chrom.sizes.hg38                 \u001b[01;34mgenome_tss\u001b[0m\n",
      "\u001b[01;34mencode_chipseq_agarwal2023\u001b[0m       \u001b[01;34mhic_insitu_GM12878\u001b[0m\n",
      "\u001b[01;34mencode_chipseq_flagship\u001b[0m          \u001b[01;34mhic_insitu_K562_ENCSR545YBD\u001b[0m\n",
      "\u001b[01;34mencode_chipseq_histone_241223\u001b[0m    \u001b[01;34mhic_intact_K562_deep\u001b[0m\n",
      "\u001b[01;34mencode_chipseq_histone_250120\u001b[0m    \u001b[01;34mhic_intact_K562_ENCSR479XDG\u001b[0m\n",
      "\u001b[01;34mencode_chipseq_histone_previous\u001b[0m  \u001b[01;34mprotein_interpro\u001b[0m\n",
      "\u001b[01;34mencode_chipseq_subset\u001b[0m            \u001b[01;34mRNAseq\u001b[0m\n",
      "\u001b[01;34mencode_chipseq_tf_250120\u001b[0m         \u001b[01;34mtmp\u001b[0m\n",
      "\u001b[01;34mencode_chromatin_states\u001b[0m\n"
     ]
    }
   ],
   "source": [
    "ls ${FD_DAT}/external/"
   ]
  },
  {
   "cell_type": "code",
   "execution_count": 4,
   "id": "da5fae94-e0bc-4090-aca6-e012b0ae2be4",
   "metadata": {},
   "outputs": [
    {
     "name": "stdout",
     "output_type": "stream",
     "text": [
      "/data/reddylab/Kuei/repo/Proj_ENCODE_FCC/data/external/encode_chipseq_tf_250120/region_narrowPeak\n",
      "720\n",
      "ENCFF003LPE.bed.gz\n",
      "ENCFF004HXL.bed.gz\n",
      "ENCFF004YCK.bed.gz\n",
      "ENCFF005MBI.bed.gz\n",
      "ENCFF009RFC.bed.gz\n",
      "ENCFF014HYS.bed.gz\n",
      "ENCFF015FXW.bed.gz\n",
      "ENCFF018HWM.bed.gz\n",
      "ENCFF018TNP.bed.gz\n",
      "ENCFF019NGO.bed.gz\n",
      "xargs: basename: terminated by signal 13\n"
     ]
    }
   ],
   "source": [
    "FDIRY=${FD_DAT}/external/${REGION_FOLDER_DAT}/region_narrowPeak\n",
    "\n",
    "echo ${FDIRY}\n",
    "ls   ${FDIRY}/*.bed.gz | wc -l\n",
    "ls   ${FDIRY}/*.bed.gz | xargs -n 1 basename | head"
   ]
  },
  {
   "cell_type": "code",
   "execution_count": 5,
   "id": "c26b9dea-5440-44d8-aa07-5751e67ea14b",
   "metadata": {},
   "outputs": [
    {
     "name": "stdout",
     "output_type": "stream",
     "text": [
      "chr1\t109484103\t109484389\t.\t1000\t.\t516.25263\t-1.00000\t4.14355\t134\n",
      "chr12\t56630287\t56630545\t.\t1000\t.\t452.21027\t-1.00000\t4.14355\t127\n",
      "chr11\t65919218\t65919500\t.\t1000\t.\t451.59423\t-1.00000\t4.14355\t141\n",
      "chr9\t121287104\t121287318\t.\t1000\t.\t334.25633\t-1.00000\t4.14355\t107\n",
      "chr19\t48326015\t48326250\t.\t1000\t.\t332.95672\t-1.00000\t4.14355\t119\n",
      "chr1\t211675942\t211676171\t.\t1000\t.\t319.33191\t-1.00000\t4.14355\t116\n",
      "chr5\t133240563\t133240775\t.\t1000\t.\t318.36492\t-1.00000\t4.14355\t116\n",
      "chr9\t37840671\t37840870\t.\t1000\t.\t308.36099\t-1.00000\t4.14355\t102\n",
      "chr7\t129958745\t129958947\t.\t1000\t.\t305.32023\t-1.00000\t4.14355\t91\n",
      "chr19\t38544079\t38544275\t.\t1000\t.\t304.12285\t-1.00000\t4.14355\t101\n"
     ]
    }
   ],
   "source": [
    "FDIRY=${FD_DAT}/external/${REGION_FOLDER_DAT}/region_narrowPeak\n",
    "FNAME=ENCFF004HXL.bed.gz\n",
    "FPATH=${FDIRY}/${FNAME}\n",
    "zcat ${FPATH} | head"
   ]
  },
  {
   "cell_type": "markdown",
   "id": "70bb75c7-78cc-4805-a09f-f2c6d2fa8203",
   "metadata": {
    "tags": []
   },
   "source": [
    "## Execute\n",
    "**Copy and sort the files**\n",
    "```\n",
    "ln -s file link\n",
    "zcat ${FP_INP} | sort -k 1,1 -k2,2n | gzip -c > ${FP_OUT}\n",
    "```"
   ]
  },
  {
   "cell_type": "markdown",
   "id": "868865a1-4d43-436e-9c1c-daf2f8c71b20",
   "metadata": {
    "tags": []
   },
   "source": [
    "```\n",
    "### set directory\n",
    "FD_INP=${FD_DAT}/external/${REGION_FOLDER_DAT}/region_narrowPeak\n",
    "FD_OUT=${FD_RES}/region/${REGION_FOLDER_RES}\n",
    "mkdir -p ${FD_OUT}\n",
    "\n",
    "### loop and generate sorted files\n",
    "FP_INPS=($(ls ${FD_INP}/*bed.gz))\n",
    "for FP_INP in ${FP_INPS[@]}; do\n",
    "    ### get input file name\n",
    "    FN_INP=$(basename ${FP_INP})\n",
    "    \n",
    "    ### set output file name\n",
    "    FN_OUT=${FN_INP}\n",
    "    FP_OUT=${FD_OUT}/${FN_OUT}\n",
    "    \n",
    "    ### sort and output to a new file\n",
    "    zcat ${FP_INP} | sort -k 1,1 -k2,2n | gzip -c > ${FP_OUT}\n",
    "done\n",
    "```"
   ]
  },
  {
   "cell_type": "markdown",
   "id": "033db2b1-bbc0-4abc-b925-8cbd4a029ebd",
   "metadata": {},
   "source": [
    "**Copy metadata**"
   ]
  },
  {
   "cell_type": "code",
   "execution_count": 6,
   "id": "9859cd68-96e2-4123-9e57-dc6df8a463df",
   "metadata": {},
   "outputs": [
    {
     "name": "stdout",
     "output_type": "stream",
     "text": [
      "\u001b[0m\u001b[01;34m/data/reddylab/Kuei/repo/Proj_ENCODE_FCC/data/external/encode_chipseq_tf_250120/region_narrowPeak\u001b[0m\u001b[K\n",
      "\u001b[0m\u001b[01;34m/data/reddylab/Kuei/repo/Proj_ENCODE_FCC/results/region/encode_chipseq_tf_full/summary\u001b[0m\u001b[K\n",
      "/data/reddylab/Kuei/repo/Proj_ENCODE_FCC/data/external/encode_chipseq_tf_250120/region_narrowPeak/metadata.tsv\n"
     ]
    }
   ],
   "source": [
    "### set directory\n",
    "FD_INP=${FD_DAT}/external/${REGION_FOLDER_DAT}/region_narrowPeak\n",
    "FD_OUT=${FD_RES}/region/${REGION_FOLDER_RES}/summary\n",
    "mkdir -p ${FD_OUT}\n",
    "\n",
    "### check file/folder exist\n",
    "ls -d ${FD_INP}\n",
    "ls -d ${FD_OUT}\n",
    "ls ${FD_INP}/metadata.tsv\n",
    "\n",
    "### copy the metatable\n",
    "cp ${FD_INP}/metadata.tsv ${FD_OUT}/metadata.tsv"
   ]
  },
  {
   "cell_type": "markdown",
   "id": "58c703a3-8183-4a73-b10b-64c30a10d0e4",
   "metadata": {},
   "source": [
    "## Review"
   ]
  },
  {
   "cell_type": "markdown",
   "id": "5f25da8d-fa53-4332-af8a-ff8c253b0d8b",
   "metadata": {},
   "source": [
    "**Check output files**"
   ]
  },
  {
   "cell_type": "code",
   "execution_count": 7,
   "id": "b7d3b582-dda3-4e4d-965a-47c21983ba1c",
   "metadata": {},
   "outputs": [
    {
     "name": "stdout",
     "output_type": "stream",
     "text": [
      "ENCFF003LPE.bed.gz\n",
      "ENCFF004HXL.bed.gz\n",
      "ENCFF004YCK.bed.gz\n",
      "ENCFF005MBI.bed.gz\n",
      "ENCFF009RFC.bed.gz\n",
      "ENCFF014HYS.bed.gz\n",
      "ENCFF015FXW.bed.gz\n",
      "ENCFF018HWM.bed.gz\n",
      "ENCFF018TNP.bed.gz\n",
      "ENCFF019NGO.bed.gz\n",
      "xargs: basename: terminated by signal 13\n"
     ]
    }
   ],
   "source": [
    "### set directory\n",
    "FD_INP=${FD_DAT}/external/${REGION_FOLDER_DAT}/region_narrowPeak\n",
    "FD_OUT=${FD_RES}/region/${REGION_FOLDER_RES}\n",
    "\n",
    "ls -1 ${FD_OUT}/*.bed.gz | xargs -n 1 basename | head"
   ]
  },
  {
   "cell_type": "code",
   "execution_count": 8,
   "id": "cc996976-979f-4e9d-adc7-1493b34797b4",
   "metadata": {},
   "outputs": [
    {
     "name": "stdout",
     "output_type": "stream",
     "text": [
      "chr1\t109484103\t109484389\t.\t1000\t.\t516.25263\t-1.00000\t4.14355\t134\n",
      "chr12\t56630287\t56630545\t.\t1000\t.\t452.21027\t-1.00000\t4.14355\t127\n",
      "chr11\t65919218\t65919500\t.\t1000\t.\t451.59423\t-1.00000\t4.14355\t141\n",
      "chr9\t121287104\t121287318\t.\t1000\t.\t334.25633\t-1.00000\t4.14355\t107\n",
      "chr19\t48326015\t48326250\t.\t1000\t.\t332.95672\t-1.00000\t4.14355\t119\n",
      "chr1\t211675942\t211676171\t.\t1000\t.\t319.33191\t-1.00000\t4.14355\t116\n",
      "chr5\t133240563\t133240775\t.\t1000\t.\t318.36492\t-1.00000\t4.14355\t116\n",
      "chr9\t37840671\t37840870\t.\t1000\t.\t308.36099\t-1.00000\t4.14355\t102\n",
      "chr7\t129958745\t129958947\t.\t1000\t.\t305.32023\t-1.00000\t4.14355\t91\n",
      "chr19\t38544079\t38544275\t.\t1000\t.\t304.12285\t-1.00000\t4.14355\t101\n"
     ]
    }
   ],
   "source": [
    "FDIRY=${FD_INP}\n",
    "FNAME=ENCFF004HXL.bed.gz\n",
    "FPATH=${FDIRY}/${FNAME}\n",
    "zcat ${FPATH} | head"
   ]
  },
  {
   "cell_type": "code",
   "execution_count": 9,
   "id": "e93c9a4b-fbcf-4671-a6cc-d3a1e8cca03f",
   "metadata": {},
   "outputs": [
    {
     "name": "stdout",
     "output_type": "stream",
     "text": [
      "chr1\t831705\t831935\t.\t814\t.\t26.91165\t-1.00000\t3.67213\t115\n",
      "chr1\t904575\t904805\t.\t1000\t.\t37.10481\t-1.00000\t4.14355\t115\n",
      "chr1\t911200\t911430\t.\t851\t.\t22.09650\t-1.00000\t3.54908\t115\n",
      "chr1\t923757\t923987\t.\t689\t.\t17.39256\t-1.00000\t2.91306\t115\n",
      "chr1\t966879\t967109\t.\t774\t.\t17.87339\t-1.00000\t3.08228\t115\n",
      "chr1\t1000776\t1001006\t.\t1000\t.\t21.98291\t-1.00000\t3.55191\t115\n",
      "chr1\t1006664\t1006894\t.\t1000\t.\t31.85951\t-1.00000\t4.14355\t115\n",
      "chr1\t1021407\t1021637\t.\t675\t.\t13.55935\t-1.00000\t1.99895\t115\n",
      "chr1\t1064300\t1064481\t.\t1000\t.\t172.14398\t-1.00000\t4.14355\t87\n",
      "chr1\t1069331\t1069561\t.\t832\t.\t16.44677\t-1.00000\t2.73395\t115\n"
     ]
    }
   ],
   "source": [
    "FDIRY=${FD_OUT}\n",
    "FNAME=ENCFF004HXL.bed.gz\n",
    "FPATH=${FDIRY}/${FNAME}\n",
    "zcat ${FPATH} | head"
   ]
  },
  {
   "cell_type": "code",
   "execution_count": null,
   "id": "6d550415-122d-4f23-9135-e89bbd95b4f4",
   "metadata": {},
   "outputs": [],
   "source": []
  }
 ],
 "metadata": {
  "kernelspec": {
   "display_name": "Bash",
   "language": "bash",
   "name": "bash"
  },
  "language_info": {
   "codemirror_mode": "shell",
   "file_extension": ".sh",
   "mimetype": "text/x-sh",
   "name": "bash"
  }
 },
 "nbformat": 4,
 "nbformat_minor": 5
}
