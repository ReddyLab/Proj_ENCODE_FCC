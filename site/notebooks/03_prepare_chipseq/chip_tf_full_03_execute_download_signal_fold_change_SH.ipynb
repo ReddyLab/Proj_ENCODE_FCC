{
 "cells": [
  {
   "cell_type": "raw",
   "id": "39f22924-3b30-4fe8-9ce1-22572eab5f66",
   "metadata": {},
   "source": [
    "---\n",
    "title: Prepare ENCODE ChIP-seq TF 02\n",
    "subtitle: Download the data (Signal fold change)\n",
    "format:\n",
    "    html:\n",
    "        code-fold:  true\n",
    "        code-tools: true\n",
    "---"
   ]
  },
  {
   "cell_type": "markdown",
   "id": "5eea1510-ebdb-4e53-8641-f2d24d848702",
   "metadata": {},
   "source": [
    "**set environment**"
   ]
  },
  {
   "cell_type": "code",
   "execution_count": 1,
   "id": "a1b3df28-d144-4c9a-8f9f-bba40e28a9e1",
   "metadata": {},
   "outputs": [
    {
     "name": "stdout",
     "output_type": "stream",
     "text": [
      "You are working on             Duke Server: RCC\n",
      "BASE DIRECTORY (FD_BASE):      /data/reddylab/Kuei\n",
      "REPO DIRECTORY (FD_REPO):      /data/reddylab/Kuei/repo\n",
      "WORK DIRECTORY (FD_WORK):      /data/reddylab/Kuei/work\n",
      "DATA DIRECTORY (FD_DATA):      /data/reddylab/Kuei/data\n",
      "CONTAINER DIR. (FD_SING):      /data/reddylab/Kuei/container\n",
      "\n",
      "You are working with           ENCODE FCC\n",
      "PATH OF PROJECT (FD_PRJ):      /data/reddylab/Kuei/repo/Proj_ENCODE_FCC\n",
      "PROJECT RESULTS (FD_RES):      /data/reddylab/Kuei/repo/Proj_ENCODE_FCC/results\n",
      "PROJECT SCRIPTS (FD_EXE):      /data/reddylab/Kuei/repo/Proj_ENCODE_FCC/scripts\n",
      "PROJECT DATA    (FD_DAT):      /data/reddylab/Kuei/repo/Proj_ENCODE_FCC/data\n",
      "PROJECT NOTE    (FD_NBK):      /data/reddylab/Kuei/repo/Proj_ENCODE_FCC/notebooks\n",
      "PROJECT DOCS    (FD_DOC):      /data/reddylab/Kuei/repo/Proj_ENCODE_FCC/docs\n",
      "PROJECT LOG     (FD_LOG):      /data/reddylab/Kuei/repo/Proj_ENCODE_FCC/log\n",
      "PROJECT REF     (FD_REF):      /data/reddylab/Kuei/repo/Proj_ENCODE_FCC/references\n",
      "PROJECT IMAGE   (FP_PRJ_SIF):  /data/reddylab/Kuei/container/project/singularity_proj_encode_fcc.sif\n",
      "PROJECT CONF.   (FP_CNF):      /data/reddylab/Kuei/repo/Proj_ENCODE_FCC/scripts/config_project.sh\n",
      "\n"
     ]
    }
   ],
   "source": [
    "source ../run_config_project.sh\n",
    "show_env"
   ]
  },
  {
   "cell_type": "markdown",
   "id": "d2309250-3801-43e1-95c3-87d69ee39a60",
   "metadata": {},
   "source": [
    "**Set global variables**"
   ]
  },
  {
   "cell_type": "code",
   "execution_count": 2,
   "id": "1bc6047c-c1ce-4dcd-b442-3c488da4d451",
   "metadata": {},
   "outputs": [],
   "source": [
    "TXT_FOLDER=\"encode_chipseq_tf_250120\""
   ]
  },
  {
   "cell_type": "markdown",
   "id": "b9d66afd-b484-439e-bed6-9dfc09ba62b2",
   "metadata": {},
   "source": [
    "## Execute"
   ]
  },
  {
   "cell_type": "markdown",
   "id": "a24fb0df-031e-4dad-83eb-9584e4ef6582",
   "metadata": {},
   "source": [
    "**Preview scripts**"
   ]
  },
  {
   "cell_type": "code",
   "execution_count": 3,
   "id": "3a4333ad-1fbd-4404-adff-d7a726b7b815",
   "metadata": {},
   "outputs": [
    {
     "name": "stdout",
     "output_type": "stream",
     "text": [
      "#!/bin/bash\n",
      "\n",
      "### print start message\n",
      "timer_start=`date +%s`\n",
      "echo \"Hostname:          \" $(hostname)\n",
      "echo \"Slurm Array Index: \" ${SLURM_ARRAY_TASK_ID}\n",
      "echo \"Time Stamp:        \" $(date +\"%m-%d-%y+%T\")\n",
      "echo\n",
      "\n",
      "### get arguments\n",
      "FP_CNF=${1}\n",
      "FP_DOWNLOAD_FILE_LIST=${2}\n",
      "FD_DOWNLOAD_DIRECTORY=${3}\n",
      "\n",
      "### set environment\n",
      "source ${FP_CNF}\n",
      "\n",
      "### show I/O\n",
      "cd   ${FD_DOWNLOAD_DIRECTORY}\n",
      "echo \"Change directory:\"\n",
      "echo $(pwd)\n",
      "echo\n",
      "\n",
      "### execute: download file\n",
      "echo \"Download files...\"\n",
      "xargs -L 1 curl -O -J -L < ${FP_DOWNLOAD_FILE_LIST}\n",
      "echo\n",
      "\n",
      "### print end message\n",
      "timer=`date +%s`\n",
      "runtime=$(echo \"${timer} - ${timer_start}\" | bc -l)\n",
      "echo\n",
      "echo 'Done!'\n",
      "echo \"Run Time: $(displaytime ${runtime})\"\n",
      "echo\n"
     ]
    }
   ],
   "source": [
    "FN_EXE=run_download_files.sh\n",
    "FP_EXE=${FD_EXE}/${FN_EXE}\n",
    "\n",
    "chmod +x ${FP_EXE}\n",
    "cat ${FP_EXE}"
   ]
  },
  {
   "cell_type": "markdown",
   "id": "8935455f-ea34-434b-b578-3215e8fede0a",
   "metadata": {},
   "source": [
    "**Preview folders and files**"
   ]
  },
  {
   "cell_type": "code",
   "execution_count": 4,
   "id": "2e4fc6e6-a65a-417a-9382-faa75c3e4299",
   "metadata": {},
   "outputs": [
    {
     "name": "stdout",
     "output_type": "stream",
     "text": [
      "metadata.merged.tsv  \u001b[0m\u001b[01;34mregion_narrowPeak\u001b[0m  \u001b[01;34msignal_fold_change\u001b[0m  \u001b[01;34msignal_pvalue\u001b[0m\n"
     ]
    }
   ],
   "source": [
    "FD_OUT=${FD_DAT}/external/${TXT_FOLDER}\n",
    "ls ${FD_OUT}"
   ]
  },
  {
   "cell_type": "code",
   "execution_count": 5,
   "id": "06e177f1-1087-4293-b08a-fe6af9684681",
   "metadata": {},
   "outputs": [
    {
     "name": "stdout",
     "output_type": "stream",
     "text": [
      "/data/reddylab/Kuei/repo/Proj_ENCODE_FCC/data/external/encode_chipseq_tf_250120/metadata.merged.tsv\n",
      "Folder: metadata.merged.tsv\n",
      "\n",
      "/data/reddylab/Kuei/repo/Proj_ENCODE_FCC/data/external/encode_chipseq_tf_250120/region_narrowPeak\n",
      "Folder: region_narrowPeak\n",
      "\n",
      "/data/reddylab/Kuei/repo/Proj_ENCODE_FCC/data/external/encode_chipseq_tf_250120/signal_fold_change\n",
      "Folder: signal_fold_change\n",
      "\n",
      "/data/reddylab/Kuei/repo/Proj_ENCODE_FCC/data/external/encode_chipseq_tf_250120/signal_pvalue\n",
      "Folder: signal_pvalue\n",
      "\n"
     ]
    }
   ],
   "source": [
    "FD_OUTS=($(ls -d ${FD_DAT}/external/${TXT_FOLDER}/*))\n",
    "for FD_OUT in ${FD_OUTS[@]}; do\n",
    "    FOLDER_SUB=$(basename ${FD_OUT})\n",
    "    echo ${FD_OUT}\n",
    "    echo \"Folder:\" ${FOLDER_SUB}\n",
    "    echo\n",
    "done"
   ]
  },
  {
   "cell_type": "code",
   "execution_count": 6,
   "id": "a804ad33-b3c6-4a90-9f0f-809764dae5ca",
   "metadata": {},
   "outputs": [
    {
     "name": "stdout",
     "output_type": "stream",
     "text": [
      "File:   files.01.txt\n",
      "Folder: region_narrowPeak\n",
      "Count:  36\n",
      "File:   files.01.txt\n",
      "Folder: signal_fold_change\n",
      "Count:  36\n",
      "File:   files.01.txt\n",
      "Folder: signal_pvalue\n",
      "Count:  36\n"
     ]
    }
   ],
   "source": [
    "FP_INPS=($(ls ${FD_DAT}/external/${TXT_FOLDER}/*/files.01.txt))\n",
    "for FP_INP in ${FP_INPS[@]}; do\n",
    "    FD_OUT=$(dirname   ${FP_INP})\n",
    "    FN_INP=$(basename  ${FP_INP})\n",
    "    FOLDER_SUB=$(basename ${FD_OUT})\n",
    "    NUM=$(cat ${FP_INP} | wc -l)\n",
    "    \n",
    "    echo \"File:  \" ${FN_INP}\n",
    "    echo \"Folder:\" ${FOLDER_SUB}\n",
    "    echo \"Count: \" ${NUM} \n",
    "done"
   ]
  },
  {
   "cell_type": "code",
   "execution_count": 7,
   "id": "88fb20ed-3dfd-4872-a07d-e2397bc569fb",
   "metadata": {},
   "outputs": [
    {
     "name": "stdout",
     "output_type": "stream",
     "text": [
      "File:   checksum_md5sum.01.txt\n",
      "Folder: region_narrowPeak\n",
      "Count:  36\n",
      "File:   checksum_md5sum.01.txt\n",
      "Folder: signal_fold_change\n",
      "Count:  36\n",
      "File:   checksum_md5sum.01.txt\n",
      "Folder: signal_pvalue\n",
      "Count:  36\n"
     ]
    }
   ],
   "source": [
    "FP_INPS=($(ls ${FD_DAT}/external/${TXT_FOLDER}/*/checksum_md5sum.01.txt))\n",
    "for FP_INP in ${FP_INPS[@]}; do\n",
    "    FD_OUT=$(dirname   ${FP_INP})\n",
    "    FN_INP=$(basename  ${FP_INP})\n",
    "    FOLDER_SUB=$(basename ${FD_OUT})\n",
    "    NUM=$(cat ${FP_INP} | wc -l)\n",
    "    \n",
    "    echo \"File:  \" ${FN_INP}\n",
    "    echo \"Folder:\" ${FOLDER_SUB}\n",
    "    echo \"Count: \" ${NUM} \n",
    "done"
   ]
  },
  {
   "cell_type": "markdown",
   "id": "24c0def0-196e-4b03-987a-0429915a7c3a",
   "metadata": {},
   "source": [
    "**Test Loop**"
   ]
  },
  {
   "cell_type": "code",
   "execution_count": 8,
   "id": "0d356cdc-0b8f-4598-a557-d42f398e6a6c",
   "metadata": {},
   "outputs": [
    {
     "name": "stdout",
     "output_type": "stream",
     "text": [
      "File:   files.01.txt\n",
      "Folder: signal_fold_change\n",
      "Count:  36\n",
      "File:   files.02.txt\n",
      "Folder: signal_fold_change\n",
      "Count:  36\n",
      "File:   files.03.txt\n",
      "Folder: signal_fold_change\n",
      "Count:  36\n",
      "File:   files.04.txt\n",
      "Folder: signal_fold_change\n",
      "Count:  36\n",
      "File:   files.05.txt\n",
      "Folder: signal_fold_change\n",
      "Count:  36\n",
      "File:   files.06.txt\n",
      "Folder: signal_fold_change\n",
      "Count:  36\n",
      "File:   files.07.txt\n",
      "Folder: signal_fold_change\n",
      "Count:  36\n",
      "File:   files.08.txt\n",
      "Folder: signal_fold_change\n",
      "Count:  36\n",
      "File:   files.09.txt\n",
      "Folder: signal_fold_change\n",
      "Count:  36\n",
      "File:   files.10.txt\n",
      "Folder: signal_fold_change\n",
      "Count:  36\n",
      "File:   files.11.txt\n",
      "Folder: signal_fold_change\n",
      "Count:  36\n",
      "File:   files.12.txt\n",
      "Folder: signal_fold_change\n",
      "Count:  36\n",
      "File:   files.13.txt\n",
      "Folder: signal_fold_change\n",
      "Count:  36\n",
      "File:   files.14.txt\n",
      "Folder: signal_fold_change\n",
      "Count:  36\n",
      "File:   files.15.txt\n",
      "Folder: signal_fold_change\n",
      "Count:  36\n",
      "File:   files.16.txt\n",
      "Folder: signal_fold_change\n",
      "Count:  36\n",
      "File:   files.17.txt\n",
      "Folder: signal_fold_change\n",
      "Count:  36\n",
      "File:   files.18.txt\n",
      "Folder: signal_fold_change\n",
      "Count:  36\n",
      "File:   files.19.txt\n",
      "Folder: signal_fold_change\n",
      "Count:  36\n",
      "File:   files.20.txt\n",
      "Folder: signal_fold_change\n",
      "Count:  36\n"
     ]
    }
   ],
   "source": [
    "### init: exe\n",
    "FN_EXE=run_download_files.sh\n",
    "FP_EXE=${FD_EXE}/${FN_EXE}\n",
    "\n",
    "### init: directory\n",
    "#FP_INPS=($(ls ${FD_DAT}/external/${TXT_FOLDER}/*/files.*.txt))\n",
    "FP_INPS=($(ls ${FD_DAT}/external/${TXT_FOLDER}/signal_fold_change/files.*.txt))\n",
    "\n",
    "### loop and execute\n",
    "for FP_INP in ${FP_INPS[@]}; do\n",
    "\n",
    "    ### init: I/O\n",
    "    FD_OUT=$(dirname   ${FP_INP})\n",
    "    FN_INP=$(basename  ${FP_INP})\n",
    "    \n",
    "    ### init: log file\n",
    "    TXT_FOLDER_SUB=$(basename ${FD_OUT})\n",
    "    FN_LOG=download.encode_chipseq_tf_250120.${TXT_FOLDER_SUB}.txt\n",
    "    FP_LOG=${FD_LOG}/${FN_LOG}\n",
    "\n",
    "    ### show progress\n",
    "    NUM=$(cat ${FP_INP} | wc -l)\n",
    "    echo \"File:  \" ${FN_INP}\n",
    "    echo \"Folder:\" ${TXT_FOLDER_SUB}\n",
    "    echo \"Count: \" ${NUM}\n",
    "done"
   ]
  },
  {
   "cell_type": "markdown",
   "id": "da946e6e-2f70-40b3-8310-5fd7abaa252f",
   "metadata": {},
   "source": [
    "### Run download script"
   ]
  },
  {
   "cell_type": "code",
   "execution_count": 29,
   "id": "f37242fe-3317-4c93-b41b-c82610c5de2b",
   "metadata": {},
   "outputs": [
    {
     "name": "stdout",
     "output_type": "stream",
     "text": [
      "FN_INP: files.09.txt\n",
      "FN_LOG: download.encode_chipseq_tf_250120.signal_fold_change.files.09.txt\n",
      "Folder: signal_fold_change\n",
      "Count:  36\n",
      "\n",
      "Submitted batch job 279875\n",
      "\n",
      "FN_INP: files.19.txt\n",
      "FN_LOG: download.encode_chipseq_tf_250120.signal_fold_change.files.19.txt\n",
      "Folder: signal_fold_change\n",
      "Count:  36\n",
      "\n",
      "Submitted batch job 279876\n",
      "\n"
     ]
    }
   ],
   "source": [
    "### init: exe\n",
    "FN_EXE=run_download_files.sh\n",
    "FP_EXE=${FD_EXE}/${FN_EXE}\n",
    "\n",
    "### init: directory\n",
    "FP_INPS=($(ls ${FD_DAT}/external/${TXT_FOLDER}/signal_fold_change/files.*9.txt))\n",
    "\n",
    "### loop and execute\n",
    "for FP_INP in ${FP_INPS[@]}; do\n",
    "\n",
    "    ### init: I/O\n",
    "    FD_OUT=$(dirname   ${FP_INP})\n",
    "    FN_INP=$(basename  ${FP_INP})\n",
    "    \n",
    "    ### init: log file\n",
    "    TXT_FOLDER_SUB=$(basename ${FD_OUT})\n",
    "    FN_LOG=download.encode_chipseq_tf_250120.${TXT_FOLDER_SUB}.${FN_INP}\n",
    "    FP_LOG=${FD_LOG}/${FN_LOG}\n",
    "\n",
    "    ### show progress\n",
    "    NUM=$(cat ${FP_INP} | wc -l)\n",
    "    echo \"FN_INP:\" ${FN_INP}\n",
    "    #echo \"FN_OUT:\" ${FN_OUT}\n",
    "    echo \"FN_LOG:\" ${FN_LOG}\n",
    "    echo \"Folder:\" ${TXT_FOLDER_SUB}\n",
    "    echo \"Count: \" ${NUM}\n",
    "    echo\n",
    "\n",
    "    ### execute\n",
    "    cd ${FD_OUT}\n",
    "    sbatch \\\n",
    "        --cpus-per-task 4 \\\n",
    "        --mem 4G \\\n",
    "        --output ${FP_LOG} \\\n",
    "        ${FP_EXE} ${FP_CNF} ${FP_INP} ${FD_OUT}\n",
    "    echo\n",
    "done"
   ]
  },
  {
   "cell_type": "code",
   "execution_count": 39,
   "id": "cfda2777-8ef4-446a-8dfc-dec6b6c9e0c6",
   "metadata": {},
   "outputs": [
    {
     "name": "stdout",
     "output_type": "stream",
     "text": [
      "FN_INP: files.10.txt\n",
      "FN_LOG: download.encode_chipseq_tf_250120.signal_fold_change.files.10.txt\n",
      "Folder: signal_fold_change\n",
      "Count:  36\n",
      "\n",
      "Submitted batch job 279889\n",
      "\n",
      "FN_INP: files.20.txt\n",
      "FN_LOG: download.encode_chipseq_tf_250120.signal_fold_change.files.20.txt\n",
      "Folder: signal_fold_change\n",
      "Count:  36\n",
      "\n",
      "Submitted batch job 279890\n",
      "\n"
     ]
    }
   ],
   "source": [
    "### init: exe\n",
    "FN_EXE=run_download_files.sh\n",
    "FP_EXE=${FD_EXE}/${FN_EXE}\n",
    "\n",
    "### init: directory\n",
    "FP_INPS=($(ls ${FD_DAT}/external/${TXT_FOLDER}/signal_fold_change/files.*0.txt))\n",
    "\n",
    "### loop and execute\n",
    "for FP_INP in ${FP_INPS[@]}; do\n",
    "\n",
    "    ### init: I/O\n",
    "    FD_OUT=$(dirname   ${FP_INP})\n",
    "    FN_INP=$(basename  ${FP_INP})\n",
    "    \n",
    "    ### init: log file\n",
    "    TXT_FOLDER_SUB=$(basename ${FD_OUT})\n",
    "    FN_LOG=download.encode_chipseq_tf_250120.${TXT_FOLDER_SUB}.${FN_INP}\n",
    "    FP_LOG=${FD_LOG}/${FN_LOG}\n",
    "\n",
    "    ### show progress\n",
    "    NUM=$(cat ${FP_INP} | wc -l)\n",
    "    echo \"FN_INP:\" ${FN_INP}\n",
    "    #echo \"FN_OUT:\" ${FN_OUT}\n",
    "    echo \"FN_LOG:\" ${FN_LOG}\n",
    "    echo \"Folder:\" ${TXT_FOLDER_SUB}\n",
    "    echo \"Count: \" ${NUM}\n",
    "    echo\n",
    "\n",
    "    ### execute\n",
    "    cd ${FD_OUT}\n",
    "    sbatch \\\n",
    "        --cpus-per-task 4 \\\n",
    "        --mem 4G \\\n",
    "        --output ${FP_LOG} \\\n",
    "        ${FP_EXE} ${FP_CNF} ${FP_INP} ${FD_OUT}\n",
    "    echo\n",
    "done"
   ]
  },
  {
   "cell_type": "code",
   "execution_count": 43,
   "id": "f3e0a02f-a5fd-42be-b258-ce3fc10eea4e",
   "metadata": {},
   "outputs": [
    {
     "name": "stdout",
     "output_type": "stream",
     "text": [
      "/data/reddylab/Kuei/repo/Proj_ENCODE_FCC/log/download.encode_chipseq_tf_250120.signal_fold_change.files.03.txt\n"
     ]
    }
   ],
   "source": [
    "echo ${FD_LOG}/download.encode_chipseq_tf_250120.signal_fold_change.files.03.txt"
   ]
  },
  {
   "cell_type": "markdown",
   "id": "25383e7d-c225-4b43-8a8b-87e6725172b0",
   "metadata": {},
   "source": [
    "scancel {279847..279849}"
   ]
  },
  {
   "cell_type": "markdown",
   "id": "4f34bb9c-2540-442d-8d6d-4d2cca4daf08",
   "metadata": {},
   "source": [
    "scancel 279862"
   ]
  },
  {
   "cell_type": "markdown",
   "id": "ba900b9d-5207-4018-b78b-8092ce5508a0",
   "metadata": {},
   "source": [
    "after ENCFF744HIE.bigWig"
   ]
  },
  {
   "cell_type": "markdown",
   "id": "7532d5a2-65b0-4149-bc45-3a4f20a97ebb",
   "metadata": {},
   "source": [
    "```\n",
    "scancel {276560..276619}\n",
    "```"
   ]
  },
  {
   "cell_type": "markdown",
   "id": "e58b62fc-03e2-4803-8943-402ccc4736f5",
   "metadata": {},
   "source": [
    "### Run checksum"
   ]
  },
  {
   "cell_type": "markdown",
   "id": "ba41568a-d529-48d0-a910-a84522e7d1d8",
   "metadata": {},
   "source": [
    "**Run checksum: Signal fold change**"
   ]
  },
  {
   "cell_type": "code",
   "execution_count": 40,
   "id": "7bf2f7fb-03f6-47e6-afb7-09044e4c145e",
   "metadata": {},
   "outputs": [
    {
     "name": "stdout",
     "output_type": "stream",
     "text": [
      "FN_INP: checksum_md5sum.10.txt\n",
      "FN_OUT: checksum_results.10.txt\n",
      "FN_LOG: checksum.encode_chipseq_tf_250120.signal_fold_change.checksum_md5sum.10.txt\n",
      "Folder: signal_fold_change\n",
      "Count:  36\n",
      "Submitted batch job 279891\n",
      "FN_INP: checksum_md5sum.20.txt\n",
      "FN_OUT: checksum_results.20.txt\n",
      "FN_LOG: checksum.encode_chipseq_tf_250120.signal_fold_change.checksum_md5sum.20.txt\n",
      "Folder: signal_fold_change\n",
      "Count:  36\n",
      "Submitted batch job 279892\n"
     ]
    }
   ],
   "source": [
    "### init: exe\n",
    "FN_EXE=run_checksum_files.sh\n",
    "FP_EXE=${FD_EXE}/${FN_EXE}\n",
    "\n",
    "### init: directory\n",
    "FP_INPS=($(ls ${FD_DAT}/external/${TXT_FOLDER}/signal_fold_change/checksum_md5sum.*0.txt))\n",
    "\n",
    "### loop and execute\n",
    "for FP_INP in ${FP_INPS[@]}; do\n",
    "\n",
    "    ### init: I/O\n",
    "    FD_OUT=$(dirname   ${FP_INP})\n",
    "    FN_INP=$(basename  ${FP_INP})\n",
    "    FN_OUT=${FN_INP/md5sum/results}\n",
    "    FP_OUT=${FD_OUT}/${FN_OUT}\n",
    "    \n",
    "    ### init: log file\n",
    "    TXT_FOLDER_SUB=$(basename ${FD_OUT})\n",
    "    FN_LOG=checksum.encode_chipseq_tf_250120.${TXT_FOLDER_SUB}.${FN_INP}\n",
    "    FP_LOG=${FD_LOG}/${FN_LOG}\n",
    "\n",
    "    ### show progress\n",
    "    NUM=$(cat ${FP_INP} | wc -l)\n",
    "    echo \"FN_INP:\" ${FN_INP}\n",
    "    echo \"FN_OUT:\" ${FN_OUT}\n",
    "    echo \"FN_LOG:\" ${FN_LOG}\n",
    "    echo \"Folder:\" ${TXT_FOLDER_SUB}\n",
    "    echo \"Count: \" ${NUM}\n",
    "\n",
    "    ### execute\n",
    "    cd ${FD_OUT}\n",
    "    sbatch \\\n",
    "        --cpus-per-task 4 \\\n",
    "        --mem 4G \\\n",
    "        --output ${FP_LOG} \\\n",
    "        ${FP_EXE} ${FP_CNF} ${FD_OUT} ${FP_INP} ${FP_OUT}\n",
    "    #echo\n",
    "done"
   ]
  },
  {
   "cell_type": "code",
   "execution_count": null,
   "id": "82b7ae36-71b5-4b44-942a-588bee31f1c1",
   "metadata": {},
   "outputs": [],
   "source": []
  },
  {
   "cell_type": "code",
   "execution_count": 42,
   "id": "3b47e682-04e9-48cc-a279-dee2761cc4db",
   "metadata": {},
   "outputs": [
    {
     "name": "stdout",
     "output_type": "stream",
     "text": [
      "FN_INP: checksum_md5sum.01.txt\n",
      "FN_OUT: checksum_results.01.txt\n",
      "FN_LOG: checksum.encode_chipseq_tf_250120.signal_fold_change.checksum_md5sum.01.txt\n",
      "Folder: signal_fold_change\n",
      "Count:  36\n",
      "Submitted batch job 279909\n",
      "FN_INP: checksum_md5sum.02.txt\n",
      "FN_OUT: checksum_results.02.txt\n",
      "FN_LOG: checksum.encode_chipseq_tf_250120.signal_fold_change.checksum_md5sum.02.txt\n",
      "Folder: signal_fold_change\n",
      "Count:  36\n",
      "Submitted batch job 279910\n",
      "FN_INP: checksum_md5sum.03.txt\n",
      "FN_OUT: checksum_results.03.txt\n",
      "FN_LOG: checksum.encode_chipseq_tf_250120.signal_fold_change.checksum_md5sum.03.txt\n",
      "Folder: signal_fold_change\n",
      "Count:  36\n",
      "Submitted batch job 279911\n",
      "FN_INP: checksum_md5sum.04.txt\n",
      "FN_OUT: checksum_results.04.txt\n",
      "FN_LOG: checksum.encode_chipseq_tf_250120.signal_fold_change.checksum_md5sum.04.txt\n",
      "Folder: signal_fold_change\n",
      "Count:  36\n",
      "Submitted batch job 279912\n",
      "FN_INP: checksum_md5sum.05.txt\n",
      "FN_OUT: checksum_results.05.txt\n",
      "FN_LOG: checksum.encode_chipseq_tf_250120.signal_fold_change.checksum_md5sum.05.txt\n",
      "Folder: signal_fold_change\n",
      "Count:  36\n",
      "Submitted batch job 279913\n",
      "FN_INP: checksum_md5sum.06.txt\n",
      "FN_OUT: checksum_results.06.txt\n",
      "FN_LOG: checksum.encode_chipseq_tf_250120.signal_fold_change.checksum_md5sum.06.txt\n",
      "Folder: signal_fold_change\n",
      "Count:  36\n",
      "Submitted batch job 279914\n",
      "FN_INP: checksum_md5sum.07.txt\n",
      "FN_OUT: checksum_results.07.txt\n",
      "FN_LOG: checksum.encode_chipseq_tf_250120.signal_fold_change.checksum_md5sum.07.txt\n",
      "Folder: signal_fold_change\n",
      "Count:  36\n",
      "Submitted batch job 279915\n",
      "FN_INP: checksum_md5sum.08.txt\n",
      "FN_OUT: checksum_results.08.txt\n",
      "FN_LOG: checksum.encode_chipseq_tf_250120.signal_fold_change.checksum_md5sum.08.txt\n",
      "Folder: signal_fold_change\n",
      "Count:  36\n",
      "Submitted batch job 279916\n",
      "FN_INP: checksum_md5sum.09.txt\n",
      "FN_OUT: checksum_results.09.txt\n",
      "FN_LOG: checksum.encode_chipseq_tf_250120.signal_fold_change.checksum_md5sum.09.txt\n",
      "Folder: signal_fold_change\n",
      "Count:  36\n",
      "Submitted batch job 279917\n",
      "FN_INP: checksum_md5sum.10.txt\n",
      "FN_OUT: checksum_results.10.txt\n",
      "FN_LOG: checksum.encode_chipseq_tf_250120.signal_fold_change.checksum_md5sum.10.txt\n",
      "Folder: signal_fold_change\n",
      "Count:  36\n",
      "Submitted batch job 279918\n",
      "FN_INP: checksum_md5sum.11.txt\n",
      "FN_OUT: checksum_results.11.txt\n",
      "FN_LOG: checksum.encode_chipseq_tf_250120.signal_fold_change.checksum_md5sum.11.txt\n",
      "Folder: signal_fold_change\n",
      "Count:  36\n",
      "Submitted batch job 279919\n",
      "FN_INP: checksum_md5sum.12.txt\n",
      "FN_OUT: checksum_results.12.txt\n",
      "FN_LOG: checksum.encode_chipseq_tf_250120.signal_fold_change.checksum_md5sum.12.txt\n",
      "Folder: signal_fold_change\n",
      "Count:  36\n",
      "Submitted batch job 279920\n",
      "FN_INP: checksum_md5sum.13.txt\n",
      "FN_OUT: checksum_results.13.txt\n",
      "FN_LOG: checksum.encode_chipseq_tf_250120.signal_fold_change.checksum_md5sum.13.txt\n",
      "Folder: signal_fold_change\n",
      "Count:  36\n",
      "Submitted batch job 279921\n",
      "FN_INP: checksum_md5sum.14.txt\n",
      "FN_OUT: checksum_results.14.txt\n",
      "FN_LOG: checksum.encode_chipseq_tf_250120.signal_fold_change.checksum_md5sum.14.txt\n",
      "Folder: signal_fold_change\n",
      "Count:  36\n",
      "Submitted batch job 279922\n",
      "FN_INP: checksum_md5sum.15.txt\n",
      "FN_OUT: checksum_results.15.txt\n",
      "FN_LOG: checksum.encode_chipseq_tf_250120.signal_fold_change.checksum_md5sum.15.txt\n",
      "Folder: signal_fold_change\n",
      "Count:  36\n",
      "Submitted batch job 279923\n",
      "FN_INP: checksum_md5sum.16.txt\n",
      "FN_OUT: checksum_results.16.txt\n",
      "FN_LOG: checksum.encode_chipseq_tf_250120.signal_fold_change.checksum_md5sum.16.txt\n",
      "Folder: signal_fold_change\n",
      "Count:  36\n",
      "Submitted batch job 279924\n",
      "FN_INP: checksum_md5sum.17.txt\n",
      "FN_OUT: checksum_results.17.txt\n",
      "FN_LOG: checksum.encode_chipseq_tf_250120.signal_fold_change.checksum_md5sum.17.txt\n",
      "Folder: signal_fold_change\n",
      "Count:  36\n",
      "Submitted batch job 279925\n",
      "FN_INP: checksum_md5sum.18.txt\n",
      "FN_OUT: checksum_results.18.txt\n",
      "FN_LOG: checksum.encode_chipseq_tf_250120.signal_fold_change.checksum_md5sum.18.txt\n",
      "Folder: signal_fold_change\n",
      "Count:  36\n",
      "Submitted batch job 279926\n",
      "FN_INP: checksum_md5sum.19.txt\n",
      "FN_OUT: checksum_results.19.txt\n",
      "FN_LOG: checksum.encode_chipseq_tf_250120.signal_fold_change.checksum_md5sum.19.txt\n",
      "Folder: signal_fold_change\n",
      "Count:  36\n",
      "Submitted batch job 279927\n",
      "FN_INP: checksum_md5sum.20.txt\n",
      "FN_OUT: checksum_results.20.txt\n",
      "FN_LOG: checksum.encode_chipseq_tf_250120.signal_fold_change.checksum_md5sum.20.txt\n",
      "Folder: signal_fold_change\n",
      "Count:  36\n",
      "Submitted batch job 279928\n"
     ]
    }
   ],
   "source": [
    "### init: exe\n",
    "FN_EXE=run_checksum_files.sh\n",
    "FP_EXE=${FD_EXE}/${FN_EXE}\n",
    "\n",
    "### init: directory\n",
    "FP_INPS=($(ls ${FD_DAT}/external/${TXT_FOLDER}/signal_fold_change/checksum_md5sum.*.txt))\n",
    "\n",
    "### loop and execute\n",
    "for FP_INP in ${FP_INPS[@]}; do\n",
    "\n",
    "    ### init: I/O\n",
    "    FD_OUT=$(dirname   ${FP_INP})\n",
    "    FN_INP=$(basename  ${FP_INP})\n",
    "    FN_OUT=${FN_INP/md5sum/results}\n",
    "    FP_OUT=${FD_OUT}/${FN_OUT}\n",
    "    \n",
    "    ### init: log file\n",
    "    TXT_FOLDER_SUB=$(basename ${FD_OUT})\n",
    "    FN_LOG=checksum.encode_chipseq_tf_250120.${TXT_FOLDER_SUB}.${FN_INP}\n",
    "    FP_LOG=${FD_LOG}/${FN_LOG}\n",
    "\n",
    "    ### show progress\n",
    "    NUM=$(cat ${FP_INP} | wc -l)\n",
    "    echo \"FN_INP:\" ${FN_INP}\n",
    "    echo \"FN_OUT:\" ${FN_OUT}\n",
    "    echo \"FN_LOG:\" ${FN_LOG}\n",
    "    echo \"Folder:\" ${TXT_FOLDER_SUB}\n",
    "    echo \"Count: \" ${NUM}\n",
    "\n",
    "    ### execute\n",
    "    cd ${FD_OUT}\n",
    "    sbatch \\\n",
    "        --cpus-per-task 4 \\\n",
    "        --mem 4G \\\n",
    "        --output ${FP_LOG} \\\n",
    "        ${FP_EXE} ${FP_CNF} ${FD_OUT} ${FP_INP} ${FP_OUT}\n",
    "    #echo\n",
    "done"
   ]
  },
  {
   "cell_type": "markdown",
   "id": "2d7178c9-fd12-44a0-a783-07830d02d902",
   "metadata": {},
   "source": [
    "## Review"
   ]
  },
  {
   "cell_type": "markdown",
   "id": "599fc179-7fdc-4554-bb15-0cc41068663c",
   "metadata": {},
   "source": [
    "### Check output files"
   ]
  },
  {
   "cell_type": "code",
   "execution_count": 13,
   "id": "8f095252-5834-4cf8-820a-feb229e3bb2e",
   "metadata": {},
   "outputs": [
    {
     "name": "stdout",
     "output_type": "stream",
     "text": [
      "metadata.merged.tsv  \u001b[0m\u001b[01;34mregion_narrowPeak\u001b[0m  \u001b[01;34msignal_fold_change\u001b[0m  \u001b[01;34msignal_pvalue\u001b[0m\n"
     ]
    }
   ],
   "source": [
    "ls ${FD_DAT}/external/${TXT_FOLDER}"
   ]
  },
  {
   "cell_type": "code",
   "execution_count": 15,
   "id": "8f9f92ec-3027-47cf-8934-4859d7978ca1",
   "metadata": {},
   "outputs": [
    {
     "name": "stdout",
     "output_type": "stream",
     "text": [
      "721\n",
      " 4.0K ENCFF002KIE.bigWig\n",
      " 4.0K ENCFF002MEK.bigWig\n",
      " 1.9G ENCFF003ZRP.bigWig\n",
      " 1.3G ENCFF004SID.bigWig\n",
      " 4.0K ENCFF007JMV.bigWig\n",
      " 1.2G ENCFF013BKC.bigWig\n",
      " 934M ENCFF016DEO.bigWig\n",
      " 4.0K ENCFF018GMI.bigWig\n",
      " 1.2G ENCFF018MOC.bigWig\n",
      " 2.0G ENCFF023QKJ.bigWig\n"
     ]
    }
   ],
   "source": [
    "FD_OUT=${FD_DAT}/external/${TXT_FOLDER}/signal_fold_change\n",
    "\n",
    "cd ${FD_OUT}\n",
    "ls -sh {*bigWig,*.tsv} | wc -l\n",
    "ls -sh {*bigWig,*.tsv} | head"
   ]
  },
  {
   "cell_type": "markdown",
   "id": "9bff0da3-6d74-455d-ae14-1af0c6bf1d55",
   "metadata": {},
   "source": [
    "### Check checksum results"
   ]
  },
  {
   "cell_type": "code",
   "execution_count": 16,
   "id": "b146fc8c-d180-44d0-8688-d796a87d2b00",
   "metadata": {},
   "outputs": [
    {
     "name": "stdout",
     "output_type": "stream",
     "text": [
      "metadata.merged.tsv  \u001b[0m\u001b[01;34mregion_narrowPeak\u001b[0m  \u001b[01;34msignal_fold_change\u001b[0m  \u001b[01;34msignal_pvalue\u001b[0m\n"
     ]
    }
   ],
   "source": [
    "ls ${FD_DAT}/external/${TXT_FOLDER}"
   ]
  },
  {
   "cell_type": "markdown",
   "id": "7f3e0e8b-43e8-483f-be6f-753567749903",
   "metadata": {},
   "source": [
    "#### Checksum: singal_fold_change"
   ]
  },
  {
   "cell_type": "markdown",
   "id": "fd86ad30-eaa9-4338-930b-17e66660166a",
   "metadata": {},
   "source": [
    "**Check FAIL files**"
   ]
  },
  {
   "cell_type": "code",
   "execution_count": 43,
   "id": "5ea30ef3-f47c-4a79-8cda-2f24833dc4a8",
   "metadata": {},
   "outputs": [
    {
     "name": "stdout",
     "output_type": "stream",
     "text": [
      "File:   checksum_results.01.txt\n",
      "Folder: signal_fold_change\n",
      "Count:  36\n",
      "All PASSED\n",
      "File:   checksum_results.02.txt\n",
      "Folder: signal_fold_change\n",
      "Count:  36\n",
      "All PASSED\n",
      "File:   checksum_results.03.txt\n",
      "Folder: signal_fold_change\n",
      "Count:  36\n",
      "All PASSED\n",
      "File:   checksum_results.04.txt\n",
      "Folder: signal_fold_change\n",
      "Count:  36\n",
      "All PASSED\n",
      "File:   checksum_results.05.txt\n",
      "Folder: signal_fold_change\n",
      "Count:  36\n",
      "All PASSED\n",
      "File:   checksum_results.06.txt\n",
      "Folder: signal_fold_change\n",
      "Count:  36\n",
      "All PASSED\n",
      "File:   checksum_results.07.txt\n",
      "Folder: signal_fold_change\n",
      "Count:  36\n",
      "All PASSED\n",
      "File:   checksum_results.08.txt\n",
      "Folder: signal_fold_change\n",
      "Count:  36\n",
      "All PASSED\n",
      "File:   checksum_results.09.txt\n",
      "Folder: signal_fold_change\n",
      "Count:  36\n",
      "All PASSED\n",
      "File:   checksum_results.10.txt\n",
      "Folder: signal_fold_change\n",
      "Count:  36\n",
      "All PASSED\n",
      "File:   checksum_results.11.txt\n",
      "Folder: signal_fold_change\n",
      "Count:  36\n",
      "All PASSED\n",
      "File:   checksum_results.12.txt\n",
      "Folder: signal_fold_change\n",
      "Count:  36\n",
      "All PASSED\n",
      "File:   checksum_results.13.txt\n",
      "Folder: signal_fold_change\n",
      "Count:  36\n",
      "All PASSED\n",
      "File:   checksum_results.14.txt\n",
      "Folder: signal_fold_change\n",
      "Count:  36\n",
      "All PASSED\n",
      "File:   checksum_results.15.txt\n",
      "Folder: signal_fold_change\n",
      "Count:  36\n",
      "All PASSED\n",
      "File:   checksum_results.16.txt\n",
      "Folder: signal_fold_change\n",
      "Count:  36\n",
      "All PASSED\n",
      "File:   checksum_results.17.txt\n",
      "Folder: signal_fold_change\n",
      "Count:  36\n",
      "All PASSED\n",
      "File:   checksum_results.18.txt\n",
      "Folder: signal_fold_change\n",
      "Count:  36\n",
      "All PASSED\n",
      "File:   checksum_results.19.txt\n",
      "Folder: signal_fold_change\n",
      "Count:  36\n",
      "All PASSED\n",
      "File:   checksum_results.20.txt\n",
      "Folder: signal_fold_change\n",
      "Count:  36\n",
      "All PASSED\n"
     ]
    }
   ],
   "source": [
    "### init: directory\n",
    "FD_OUT=${FD_DAT}/external/${TXT_FOLDER}/signal_fold_change\n",
    "FP_OUTS=($(ls ${FD_OUT}/checksum_results.*.txt))\n",
    "FP_TMP=${FD_OUT}/checksum_results.txt\n",
    "\n",
    "### init: checksum results (merged)\n",
    "echo -n \"\" > ${FP_TMP}\n",
    "\n",
    "### loop and execute\n",
    "for FP_OUT in ${FP_OUTS[@]}; do\n",
    "\n",
    "    ### init: I/O\n",
    "    FD_OUT=$(dirname  ${FP_OUT})\n",
    "    FN_OUT=$(basename ${FP_OUT})\n",
    "    TXT_FOLDER_SUB=$(basename ${FD_OUT})\n",
    "    \n",
    "    ### show progress\n",
    "    NUM=$(cat ${FP_OUT} | wc -l)\n",
    "    echo \"File:  \" ${FN_OUT}\n",
    "    echo \"Folder:\" ${TXT_FOLDER_SUB}\n",
    "    echo \"Count: \" ${NUM}\n",
    "    cat ${FP_OUT} | grep \"FAILED\" && echo \"FAILED\" || echo \"All PASSED\"\n",
    "    cat ${FP_OUT} >> ${FP_TMP}\n",
    "done"
   ]
  },
  {
   "cell_type": "code",
   "execution_count": 13,
   "id": "de4e39dd-da29-4aab-804d-230aafb73195",
   "metadata": {},
   "outputs": [
    {
     "name": "stdout",
     "output_type": "stream",
     "text": [
      "File:   checksum_results.01.txt\n",
      "Folder: signal_fold_change\n",
      "Count:  36\n",
      "ENCFF557GFQ.bigWig: \u001b[01;31m\u001b[KFAILED\u001b[m\u001b[K\n",
      "FAILED\n",
      "File:   checksum_results.11.txt\n",
      "Folder: signal_fold_change\n",
      "Count:  36\n",
      "ENCFF307GVO.bigWig: \u001b[01;31m\u001b[KFAILED\u001b[m\u001b[K\n",
      "FAILED\n"
     ]
    }
   ],
   "source": [
    "### init: directory\n",
    "FD_OUT=${FD_DAT}/external/${TXT_FOLDER}/signal_fold_change\n",
    "FP_OUTS=($(ls ${FD_OUT}/checksum_results.*1.txt))\n",
    "#FP_TMP=${FD_OUT}/checksum_results.txt\n",
    "\n",
    "### init: checksum results (merged)\n",
    "#echo -n \"\" > ${FP_TMP}\n",
    "\n",
    "### loop and execute\n",
    "for FP_OUT in ${FP_OUTS[@]}; do\n",
    "\n",
    "    ### init: I/O\n",
    "    FD_OUT=$(dirname  ${FP_OUT})\n",
    "    FN_OUT=$(basename ${FP_OUT})\n",
    "    TXT_FOLDER_SUB=$(basename ${FD_OUT})\n",
    "    \n",
    "    ### show progress\n",
    "    NUM=$(cat ${FP_OUT} | wc -l)\n",
    "    echo \"File:  \" ${FN_OUT}\n",
    "    echo \"Folder:\" ${TXT_FOLDER_SUB}\n",
    "    echo \"Count: \" ${NUM}\n",
    "    cat ${FP_OUT} | grep \"FAILED\" && echo \"FAILED\" || echo \"All PASSED\"\n",
    "    #cat ${FP_OUT} >> ${FP_TMP}\n",
    "done"
   ]
  },
  {
   "cell_type": "code",
   "execution_count": null,
   "id": "4aa9e3ed-e9e7-4b80-ab46-a0fdd467d5ec",
   "metadata": {},
   "outputs": [],
   "source": []
  },
  {
   "cell_type": "code",
   "execution_count": 25,
   "id": "e93bb9eb-9059-40c5-989f-cbf0eab9775f",
   "metadata": {},
   "outputs": [
    {
     "name": "stdout",
     "output_type": "stream",
     "text": [
      "2.5G -rw-r--r-- 1 kk319 grouper-duke-policies-oasis-res-compute-cluster-reddylab 2.5G Jun  6 10:45 /data/reddylab/Kuei/repo/Proj_ENCODE_FCC/data/external/encode_chipseq_tf_250120/signal_fold_change/ENCFF557GFQ.bigWig\n"
     ]
    }
   ],
   "source": [
    "ls -lhs ${FD_OUT}/ENCFF557GFQ.bigWig"
   ]
  },
  {
   "cell_type": "code",
   "execution_count": 26,
   "id": "3a81ea34-7550-4f0e-8368-e946ccda19be",
   "metadata": {},
   "outputs": [
    {
     "name": "stdout",
     "output_type": "stream",
     "text": [
      "5a08911f218c94032639d056d1db71c8  /data/reddylab/Kuei/repo/Proj_ENCODE_FCC/data/external/encode_chipseq_tf_250120/signal_fold_change/ENCFF557GFQ.bigWig\n"
     ]
    }
   ],
   "source": [
    "md5sum ${FD_OUT}/ENCFF557GFQ.bigWig"
   ]
  },
  {
   "cell_type": "code",
   "execution_count": 27,
   "id": "61070e4c-aa92-4099-95ba-06f1d4a0c2b6",
   "metadata": {},
   "outputs": [
    {
     "name": "stdout",
     "output_type": "stream",
     "text": [
      "5a08911f218c94032639d056d1db71c8\t\u001b[01;31m\u001b[KENCFF557GFQ.bigWig\u001b[m\u001b[K\n"
     ]
    }
   ],
   "source": [
    "FP_INP=${FD_DAT}/external/${TXT_FOLDER}/signal_fold_change/checksum_md5sum.01.txt\n",
    "cat ${FP_INP} | grep ENCFF557GFQ.bigWig"
   ]
  },
  {
   "cell_type": "markdown",
   "id": "0df2d3bf-63e8-4fcc-a181-98dd55b272e2",
   "metadata": {},
   "source": [
    "- https://www.encodeproject.org/files/ENCFF557GFQ/\n",
    "    - 5a08911f218c94032639d056d1db71c8"
   ]
  },
  {
   "cell_type": "code",
   "execution_count": 28,
   "id": "5edc3133-f4ce-4c4c-a36f-a13c199d91cc",
   "metadata": {},
   "outputs": [
    {
     "name": "stdout",
     "output_type": "stream",
     "text": [
      "4.2G -rw-r--r-- 1 kk319 grouper-duke-policies-oasis-res-compute-cluster-reddylab 4.2G Jun  6 10:46 /data/reddylab/Kuei/repo/Proj_ENCODE_FCC/data/external/encode_chipseq_tf_250120/signal_fold_change/ENCFF307GVO.bigWig\n"
     ]
    }
   ],
   "source": [
    "ls -lhs ${FD_OUT}/ENCFF307GVO.bigWig"
   ]
  },
  {
   "cell_type": "code",
   "execution_count": 29,
   "id": "6cfd87b8-fad8-4348-af83-6f1fe50312db",
   "metadata": {},
   "outputs": [
    {
     "name": "stdout",
     "output_type": "stream",
     "text": [
      "8ce1c6c2c1bacbffb52818a61fd209d0  /data/reddylab/Kuei/repo/Proj_ENCODE_FCC/data/external/encode_chipseq_tf_250120/signal_fold_change/ENCFF307GVO.bigWig\n"
     ]
    }
   ],
   "source": [
    "md5sum ${FD_OUT}/ENCFF307GVO.bigWig"
   ]
  },
  {
   "cell_type": "code",
   "execution_count": 30,
   "id": "c0e4340f-7eb3-4cc0-9e45-913d866f73e6",
   "metadata": {},
   "outputs": [
    {
     "name": "stdout",
     "output_type": "stream",
     "text": [
      "8ce1c6c2c1bacbffb52818a61fd209d0\t\u001b[01;31m\u001b[KENCFF307GVO.bigWig\u001b[m\u001b[K\n"
     ]
    }
   ],
   "source": [
    "FP_INP=${FD_DAT}/external/${TXT_FOLDER}/signal_fold_change/checksum_md5sum.11.txt\n",
    "cat ${FP_INP} | grep ENCFF307GVO.bigWig"
   ]
  },
  {
   "cell_type": "markdown",
   "id": "53f8a52a-59ff-4455-81e7-b94a65d2edb3",
   "metadata": {},
   "source": [
    "- https://www.encodeproject.org/files/ENCFF557GFQ/\n",
    "    - 8ce1c6c2c1bacbffb52818a61fd209d0"
   ]
  },
  {
   "cell_type": "code",
   "execution_count": null,
   "id": "e3d906d6-b354-4d11-8832-8f91803fc481",
   "metadata": {},
   "outputs": [],
   "source": []
  },
  {
   "cell_type": "code",
   "execution_count": 14,
   "id": "5c4d8011-468a-4c6b-9430-10941b27a244",
   "metadata": {},
   "outputs": [
    {
     "name": "stdout",
     "output_type": "stream",
     "text": [
      "2.0G -rw-r--r-- 1 kk319 grouper-duke-policies-oasis-res-compute-cluster-reddylab 2.0G Jun  5 11:25 /data/reddylab/Kuei/repo/Proj_ENCODE_FCC/data/external/encode_chipseq_tf_250120/signal_fold_change/ENCFF557GFQ.bigWig\n"
     ]
    }
   ],
   "source": [
    "ls -lhs ${FD_OUT}/ENCFF557GFQ.bigWig"
   ]
  },
  {
   "cell_type": "code",
   "execution_count": 15,
   "id": "84264bff-3cea-467f-8452-0decbd9b7246",
   "metadata": {},
   "outputs": [
    {
     "name": "stdout",
     "output_type": "stream",
     "text": [
      "8c0a067e6398ebe186e1936603bea2af  /data/reddylab/Kuei/repo/Proj_ENCODE_FCC/data/external/encode_chipseq_tf_250120/signal_fold_change/ENCFF557GFQ.bigWig\n"
     ]
    }
   ],
   "source": [
    "md5sum ${FD_OUT}/ENCFF557GFQ.bigWig"
   ]
  },
  {
   "cell_type": "code",
   "execution_count": 16,
   "id": "5a1217df-90b2-4127-b1a8-e999b14b6da6",
   "metadata": {},
   "outputs": [
    {
     "name": "stdout",
     "output_type": "stream",
     "text": [
      "5a08911f218c94032639d056d1db71c8\t\u001b[01;31m\u001b[KENCFF557GFQ.bigWig\u001b[m\u001b[K\n"
     ]
    }
   ],
   "source": [
    "FP_INP=${FD_DAT}/external/${TXT_FOLDER}/signal_fold_change/checksum_md5sum.01.txt\n",
    "cat ${FP_INP} | grep ENCFF557GFQ.bigWig"
   ]
  },
  {
   "cell_type": "markdown",
   "id": "7d691892-b45e-460a-a9cc-ba05a8d610c1",
   "metadata": {},
   "source": [
    "- https://www.encodeproject.org/files/ENCFF557GFQ/\n",
    "    - 5a08911f218c94032639d056d1db71c8"
   ]
  },
  {
   "cell_type": "code",
   "execution_count": 17,
   "id": "6fe141dc-de42-4a78-95fe-08823ccc0696",
   "metadata": {},
   "outputs": [
    {
     "name": "stdout",
     "output_type": "stream",
     "text": [
      "867M -rw-r--r-- 1 kk319 grouper-duke-policies-oasis-res-compute-cluster-reddylab 867M Jun  4 12:42 /data/reddylab/Kuei/repo/Proj_ENCODE_FCC/data/external/encode_chipseq_tf_250120/signal_fold_change/ENCFF307GVO.bigWig\n"
     ]
    }
   ],
   "source": [
    "ls -lhs ${FD_OUT}/ENCFF307GVO.bigWig"
   ]
  },
  {
   "cell_type": "code",
   "execution_count": 18,
   "id": "e58cb2b9-0ec2-48d5-b17e-469cf640acf7",
   "metadata": {},
   "outputs": [
    {
     "name": "stdout",
     "output_type": "stream",
     "text": [
      "c6abc421bfe75d2354533134e3caebb7  /data/reddylab/Kuei/repo/Proj_ENCODE_FCC/data/external/encode_chipseq_tf_250120/signal_fold_change/ENCFF307GVO.bigWig\n"
     ]
    }
   ],
   "source": [
    "md5sum ${FD_OUT}/ENCFF307GVO.bigWig"
   ]
  },
  {
   "cell_type": "code",
   "execution_count": 20,
   "id": "39d91a9b-19cb-429d-8180-5165cd4688e0",
   "metadata": {},
   "outputs": [
    {
     "name": "stdout",
     "output_type": "stream",
     "text": [
      "8ce1c6c2c1bacbffb52818a61fd209d0\t\u001b[01;31m\u001b[KENCFF307GVO.bigWig\u001b[m\u001b[K\n"
     ]
    }
   ],
   "source": [
    "FP_INP=${FD_DAT}/external/${TXT_FOLDER}/signal_fold_change/checksum_md5sum.11.txt\n",
    "cat ${FP_INP} | grep ENCFF307GVO.bigWig"
   ]
  },
  {
   "cell_type": "markdown",
   "id": "f428fa35-187a-4179-8bf7-e62ecffc1587",
   "metadata": {},
   "source": [
    "- https://www.encodeproject.org/files/ENCFF557GFQ/\n",
    "    - 8ce1c6c2c1bacbffb52818a61fd209d0"
   ]
  },
  {
   "cell_type": "code",
   "execution_count": 41,
   "id": "5ee83514-af3a-4d4d-92ad-85abcb046a83",
   "metadata": {},
   "outputs": [
    {
     "name": "stdout",
     "output_type": "stream",
     "text": [
      "File:   checksum_results.10.txt\n",
      "Folder: signal_fold_change\n",
      "Count:  36\n",
      "All PASSED\n",
      "File:   checksum_results.20.txt\n",
      "Folder: signal_fold_change\n",
      "Count:  36\n",
      "All PASSED\n"
     ]
    }
   ],
   "source": [
    "### init: directory\n",
    "FD_OUT=${FD_DAT}/external/${TXT_FOLDER}/signal_fold_change\n",
    "FP_OUTS=($(ls ${FD_OUT}/checksum_results.*0.txt))\n",
    "#FP_TMP=${FD_OUT}/checksum_results.txt\n",
    "\n",
    "### init: checksum results (merged)\n",
    "#echo -n \"\" > ${FP_TMP}\n",
    "\n",
    "### loop and execute\n",
    "for FP_OUT in ${FP_OUTS[@]}; do\n",
    "\n",
    "    ### init: I/O\n",
    "    FD_OUT=$(dirname  ${FP_OUT})\n",
    "    FN_OUT=$(basename ${FP_OUT})\n",
    "    TXT_FOLDER_SUB=$(basename ${FD_OUT})\n",
    "    \n",
    "    ### show progress\n",
    "    NUM=$(cat ${FP_OUT} | wc -l)\n",
    "    echo \"File:  \" ${FN_OUT}\n",
    "    echo \"Folder:\" ${TXT_FOLDER_SUB}\n",
    "    echo \"Count: \" ${NUM}\n",
    "    cat ${FP_OUT} | grep \"FAILED\" && echo \"FAILED\" || echo \"All PASSED\"\n",
    "    #cat ${FP_OUT} >> ${FP_TMP}\n",
    "done"
   ]
  },
  {
   "cell_type": "markdown",
   "id": "60841aba-5d85-4f6c-aa19-24089a9e9c25",
   "metadata": {},
   "source": [
    "rm ${FD_OUT}/ENCFF850KER.bigWig\n",
    "rm ${FD_OUT}/ENCFF716BYY.bigWig\n",
    "rm ${FD_OUT}/ENCFF943OMR.bigWig"
   ]
  },
  {
   "cell_type": "markdown",
   "id": "7d890c72-1af2-42b9-b692-7150e0c579de",
   "metadata": {},
   "source": [
    "- https://www.encodeproject.org/files/ENCFF678NHE/\n",
    "    - b99bae29191781ced01e3e3924fdd340\n",
    "- https://www.encodeproject.org/files/ENCFF601GZX/\n",
    "    - 8f10b9ee4a6248e607058e2a65ff90bb"
   ]
  },
  {
   "cell_type": "code",
   "execution_count": 32,
   "id": "a3e10641-5b01-4320-a4f4-819594c62302",
   "metadata": {},
   "outputs": [
    {
     "name": "stdout",
     "output_type": "stream",
     "text": [
      "b99bae29191781ced01e3e3924fdd340\t\u001b[01;31m\u001b[KENCFF678NHE.bigWig\u001b[m\u001b[K\n",
      "8f10b9ee4a6248e607058e2a65ff90bb\t\u001b[01;31m\u001b[KENCFF601GZX.bigWig\u001b[m\u001b[K\n"
     ]
    }
   ],
   "source": [
    "FP_INP=${FD_DAT}/external/${TXT_FOLDER}/signal_fold_change/checksum_md5sum.12.txt\n",
    "cat ${FP_INP} | grep ENCFF678NHE.bigWig\n",
    "cat ${FP_INP} | grep ENCFF601GZX.bigWig"
   ]
  },
  {
   "cell_type": "code",
   "execution_count": 34,
   "id": "f2d673ca-65ae-46da-9118-3817396c82a2",
   "metadata": {},
   "outputs": [
    {
     "name": "stdout",
     "output_type": "stream",
     "text": [
      "454M -rw-r--r-- 1 kk319 grouper-duke-policies-oasis-res-compute-cluster-reddylab 454M Jun  4 12:42 /data/reddylab/Kuei/repo/Proj_ENCODE_FCC/data/external/encode_chipseq_tf_250120/signal_fold_change/ENCFF678NHE.bigWig\n",
      "1.7G -rw-r--r-- 1 kk319 grouper-duke-policies-oasis-res-compute-cluster-reddylab 1.7G Jun  5 17:20 /data/reddylab/Kuei/repo/Proj_ENCODE_FCC/data/external/encode_chipseq_tf_250120/signal_fold_change/ENCFF601GZX.bigWig\n"
     ]
    }
   ],
   "source": [
    "ls -lhs ${FD_OUT}/ENCFF678NHE.bigWig\n",
    "ls -lhs ${FD_OUT}/ENCFF601GZX.bigWig"
   ]
  },
  {
   "cell_type": "code",
   "execution_count": 33,
   "id": "9bda29c0-7ad4-4931-baeb-f492dffe83e4",
   "metadata": {},
   "outputs": [
    {
     "name": "stdout",
     "output_type": "stream",
     "text": [
      "acc1e84c602e7ea393147b7d96cc39f5  /data/reddylab/Kuei/repo/Proj_ENCODE_FCC/data/external/encode_chipseq_tf_250120/signal_fold_change/ENCFF678NHE.bigWig\n",
      "6fd456c305c1f88b0268f55077ac893f  /data/reddylab/Kuei/repo/Proj_ENCODE_FCC/data/external/encode_chipseq_tf_250120/signal_fold_change/ENCFF601GZX.bigWig\n"
     ]
    }
   ],
   "source": [
    "md5sum ${FD_OUT}/ENCFF678NHE.bigWig\n",
    "md5sum ${FD_OUT}/ENCFF601GZX.bigWig"
   ]
  },
  {
   "cell_type": "markdown",
   "id": "139f4db2-c6a9-4c19-976f-4395a6d95844",
   "metadata": {},
   "source": [
    "after redownload"
   ]
  },
  {
   "cell_type": "code",
   "execution_count": 38,
   "id": "3f2ef787-c13a-4223-9017-9337702189ad",
   "metadata": {},
   "outputs": [
    {
     "name": "stdout",
     "output_type": "stream",
     "text": [
      "1.9G -rw-r--r-- 1 kk319 grouper-duke-policies-oasis-res-compute-cluster-reddylab 1.9G Jun  6 11:01 /data/reddylab/Kuei/repo/Proj_ENCODE_FCC/data/external/encode_chipseq_tf_250120/signal_fold_change/ENCFF678NHE.bigWig\n",
      "1.8G -rw-r--r-- 1 kk319 grouper-duke-policies-oasis-res-compute-cluster-reddylab 1.8G Jun  6 11:02 /data/reddylab/Kuei/repo/Proj_ENCODE_FCC/data/external/encode_chipseq_tf_250120/signal_fold_change/ENCFF601GZX.bigWig\n"
     ]
    }
   ],
   "source": [
    "ls -lhs ${FD_OUT}/ENCFF678NHE.bigWig\n",
    "ls -lhs ${FD_OUT}/ENCFF601GZX.bigWig"
   ]
  },
  {
   "cell_type": "code",
   "execution_count": 39,
   "id": "a114f4ad-1804-49b8-8e07-a135020a6a09",
   "metadata": {},
   "outputs": [
    {
     "name": "stdout",
     "output_type": "stream",
     "text": [
      "b99bae29191781ced01e3e3924fdd340  /data/reddylab/Kuei/repo/Proj_ENCODE_FCC/data/external/encode_chipseq_tf_250120/signal_fold_change/ENCFF678NHE.bigWig\n",
      "8f10b9ee4a6248e607058e2a65ff90bb  /data/reddylab/Kuei/repo/Proj_ENCODE_FCC/data/external/encode_chipseq_tf_250120/signal_fold_change/ENCFF601GZX.bigWig\n"
     ]
    }
   ],
   "source": [
    "md5sum ${FD_OUT}/ENCFF678NHE.bigWig\n",
    "md5sum ${FD_OUT}/ENCFF601GZX.bigWig"
   ]
  },
  {
   "cell_type": "markdown",
   "id": "6ea15c8c-02b6-4f52-a6cb-3348bf7efad7",
   "metadata": {},
   "source": [
    "- https://www.encodeproject.org/files/ENCFF387AXO/\n",
    "    - 8b74af3bbbe55aed4a5bf2dd3a3258cd\n",
    "- https://www.encodeproject.org/files/ENCFF135IPL\n",
    "    - 1ba021b5b7850f1a218d4f7281e97390\n",
    "- https://www.encodeproject.org/files/ENCFF568GYV\n",
    "    - 681db2eaf13f3428a93be6605a534203"
   ]
  },
  {
   "cell_type": "code",
   "execution_count": 55,
   "id": "9953bcd8-3bb6-44db-92b1-5f875e919aab",
   "metadata": {},
   "outputs": [
    {
     "name": "stdout",
     "output_type": "stream",
     "text": [
      "2.1G -rw-r--r-- 1 kk319 grouper-duke-policies-oasis-res-compute-cluster-reddylab 2.1G Jun  6 17:21 /data/reddylab/Kuei/repo/Proj_ENCODE_FCC/data/external/encode_chipseq_tf_250120/signal_fold_change/ENCFF387AXO.bigWig\n",
      "1.9G -rw-r--r-- 1 kk319 grouper-duke-policies-oasis-res-compute-cluster-reddylab 1.9G Jun  6 17:22 /data/reddylab/Kuei/repo/Proj_ENCODE_FCC/data/external/encode_chipseq_tf_250120/signal_fold_change/ENCFF135IPL.bigWig\n",
      "99M -rw-r--r-- 1 kk319 grouper-duke-policies-oasis-res-compute-cluster-reddylab 99M Jun  6 17:28 /data/reddylab/Kuei/repo/Proj_ENCODE_FCC/data/external/encode_chipseq_tf_250120/signal_fold_change/ENCFF568GYV.bigWig\n"
     ]
    }
   ],
   "source": [
    "ls -lhs ${FD_OUT}/ENCFF387AXO.bigWig\n",
    "ls -lhs ${FD_OUT}/ENCFF135IPL.bigWig\n",
    "ls -lhs ${FD_OUT}/ENCFF568GYV.bigWig"
   ]
  },
  {
   "cell_type": "code",
   "execution_count": 54,
   "id": "719d1228-a31c-4872-a2b6-0fd01f3e55a7",
   "metadata": {},
   "outputs": [
    {
     "name": "stdout",
     "output_type": "stream",
     "text": [
      "8b74af3bbbe55aed4a5bf2dd3a3258cd  /data/reddylab/Kuei/repo/Proj_ENCODE_FCC/data/external/encode_chipseq_tf_250120/signal_fold_change/ENCFF387AXO.bigWig\n",
      "1ba021b5b7850f1a218d4f7281e97390  /data/reddylab/Kuei/repo/Proj_ENCODE_FCC/data/external/encode_chipseq_tf_250120/signal_fold_change/ENCFF135IPL.bigWig\n"
     ]
    }
   ],
   "source": [
    "md5sum ${FD_OUT}/ENCFF387AXO.bigWig\n",
    "md5sum ${FD_OUT}/ENCFF135IPL.bigWig"
   ]
  },
  {
   "attachments": {},
   "cell_type": "markdown",
   "id": "2d78168a-81ec-4e19-be97-0f4626613d10",
   "metadata": {},
   "source": [
    "- https://www.encodeproject.org/files/ENCFF700TSU/\n",
    "    - 3b972d2738427d432601265aeb126aab\n",
    "- https://www.encodeproject.org/files/ENCFF239LIU/\n",
    "    - 577f0cd55d02bc90450d2b34b67b1cde"
   ]
  },
  {
   "cell_type": "code",
   "execution_count": 25,
   "id": "77ea3bce-cfc9-48d6-85a6-bf83564753fc",
   "metadata": {},
   "outputs": [
    {
     "name": "stdout",
     "output_type": "stream",
     "text": [
      "1.6G -rw-r--r-- 1 kk319 grouper-duke-policies-oasis-res-compute-cluster-reddylab 1.6G Jun  6 21:54 /data/reddylab/Kuei/repo/Proj_ENCODE_FCC/data/external/encode_chipseq_tf_250120/signal_fold_change/ENCFF700TSU.bigWig\n",
      "2.1G -rw-r--r-- 1 kk319 grouper-duke-policies-oasis-res-compute-cluster-reddylab 2.1G Jun  7 00:29 /data/reddylab/Kuei/repo/Proj_ENCODE_FCC/data/external/encode_chipseq_tf_250120/signal_fold_change/ENCFF239LIU.bigWig\n"
     ]
    }
   ],
   "source": [
    "ls -lhs ${FD_OUT}/ENCFF700TSU.bigWig\n",
    "ls -lhs ${FD_OUT}/ENCFF239LIU.bigWig"
   ]
  },
  {
   "cell_type": "code",
   "execution_count": 11,
   "id": "195ea865-d0c4-41f7-bc3f-05c8a4105b9e",
   "metadata": {},
   "outputs": [
    {
     "name": "stdout",
     "output_type": "stream",
     "text": [
      "3b972d2738427d432601265aeb126aab  /data/reddylab/Kuei/repo/Proj_ENCODE_FCC/data/external/encode_chipseq_tf_250120/signal_fold_change/ENCFF700TSU.bigWig\n",
      "577f0cd55d02bc90450d2b34b67b1cde  /data/reddylab/Kuei/repo/Proj_ENCODE_FCC/data/external/encode_chipseq_tf_250120/signal_fold_change/ENCFF239LIU.bigWig\n"
     ]
    }
   ],
   "source": [
    "md5sum ${FD_OUT}/ENCFF700TSU.bigWig\n",
    "md5sum ${FD_OUT}/ENCFF239LIU.bigWig"
   ]
  },
  {
   "cell_type": "markdown",
   "id": "362b4698-03b9-4981-b912-839de8dc6bd8",
   "metadata": {},
   "source": [
    "- https://www.encodeproject.org/files/ENCFF227FLD/\n",
    "    - 0e6f37065e21a834188abb64445b13f9\n",
    "- https://www.encodeproject.org/files/ENCFF782YKJ/\n",
    "    - c17d34d40923dd4cfeba006c13029784"
   ]
  },
  {
   "cell_type": "code",
   "execution_count": 36,
   "id": "10ce405b-6d31-48d7-8563-db16542782e0",
   "metadata": {},
   "outputs": [
    {
     "name": "stdout",
     "output_type": "stream",
     "text": [
      "2.0G -rw-r--r-- 1 kk319 grouper-duke-policies-oasis-res-compute-cluster-reddylab 2.0G Jun  7 16:51 /data/reddylab/Kuei/repo/Proj_ENCODE_FCC/data/external/encode_chipseq_tf_250120/signal_fold_change/ENCFF227FLD.bigWig\n",
      "1.8G -rw-r--r-- 1 kk319 grouper-duke-policies-oasis-res-compute-cluster-reddylab 1.8G Jun  8 17:58 /data/reddylab/Kuei/repo/Proj_ENCODE_FCC/data/external/encode_chipseq_tf_250120/signal_fold_change/ENCFF782YKJ.bigWig\n"
     ]
    }
   ],
   "source": [
    "ls -lhs ${FD_OUT}/ENCFF227FLD.bigWig\n",
    "ls -lhs ${FD_OUT}/ENCFF782YKJ.bigWig"
   ]
  },
  {
   "cell_type": "code",
   "execution_count": 37,
   "id": "4985467e-9f6d-4f45-8b05-1e132f6b59a7",
   "metadata": {},
   "outputs": [
    {
     "name": "stdout",
     "output_type": "stream",
     "text": [
      "0e6f37065e21a834188abb64445b13f9  /data/reddylab/Kuei/repo/Proj_ENCODE_FCC/data/external/encode_chipseq_tf_250120/signal_fold_change/ENCFF227FLD.bigWig\n",
      "72bc266bc124e35ebc22bff38377487d  /data/reddylab/Kuei/repo/Proj_ENCODE_FCC/data/external/encode_chipseq_tf_250120/signal_fold_change/ENCFF782YKJ.bigWig\n"
     ]
    }
   ],
   "source": [
    "md5sum ${FD_OUT}/ENCFF227FLD.bigWig\n",
    "md5sum ${FD_OUT}/ENCFF782YKJ.bigWig"
   ]
  },
  {
   "cell_type": "markdown",
   "id": "5eef5d28-b4e4-4c7f-86d1-96a1ea4b7272",
   "metadata": {},
   "source": [
    "- https://www.encodeproject.org/files/ENCFF502JLG/\n",
    "    - b8b9950665336e4c595598ef5ef6e98e\n",
    "- https://www.encodeproject.org/files/ENCFF251SRH/\n",
    "    - e8370ac8702d1b5a2240e4d260a084d7"
   ]
  },
  {
   "cell_type": "code",
   "execution_count": 31,
   "id": "2a4df45a-33f5-4b73-90f2-8f99c9c858c5",
   "metadata": {},
   "outputs": [
    {
     "name": "stdout",
     "output_type": "stream",
     "text": [
      "2.6G -rw-r--r-- 1 kk319 grouper-duke-policies-oasis-res-compute-cluster-reddylab 2.6G Jun  9 13:33 /data/reddylab/Kuei/repo/Proj_ENCODE_FCC/data/external/encode_chipseq_tf_250120/signal_fold_change/ENCFF502JLG.bigWig\n",
      "1.2G -rw-r--r-- 1 kk319 grouper-duke-policies-oasis-res-compute-cluster-reddylab 1.2G Jun  9 13:32 /data/reddylab/Kuei/repo/Proj_ENCODE_FCC/data/external/encode_chipseq_tf_250120/signal_fold_change/ENCFF251SRH.bigWig\n"
     ]
    }
   ],
   "source": [
    "ls -lhs ${FD_OUT}/ENCFF502JLG.bigWig\n",
    "ls -lhs ${FD_OUT}/ENCFF251SRH.bigWig"
   ]
  },
  {
   "cell_type": "code",
   "execution_count": 32,
   "id": "aa717748-7da4-439e-beab-dfad68f88f62",
   "metadata": {},
   "outputs": [
    {
     "name": "stdout",
     "output_type": "stream",
     "text": [
      "b8b9950665336e4c595598ef5ef6e98e  /data/reddylab/Kuei/repo/Proj_ENCODE_FCC/data/external/encode_chipseq_tf_250120/signal_fold_change/ENCFF502JLG.bigWig\n",
      "e8370ac8702d1b5a2240e4d260a084d7  /data/reddylab/Kuei/repo/Proj_ENCODE_FCC/data/external/encode_chipseq_tf_250120/signal_fold_change/ENCFF251SRH.bigWig\n"
     ]
    }
   ],
   "source": [
    "md5sum ${FD_OUT}/ENCFF502JLG.bigWig\n",
    "md5sum ${FD_OUT}/ENCFF251SRH.bigWig"
   ]
  },
  {
   "cell_type": "markdown",
   "id": "16f3caec-b75d-4d60-bc84-118de3bdc79b",
   "metadata": {},
   "source": [
    "**Delete FAIL Files**"
   ]
  },
  {
   "cell_type": "code",
   "execution_count": 23,
   "id": "42342aa5-642b-46b4-ae71-6bfe718109c0",
   "metadata": {},
   "outputs": [
    {
     "name": "stdout",
     "output_type": "stream",
     "text": [
      "206\n"
     ]
    }
   ],
   "source": [
    "cat ${FD_OUT}/checksum_results.txt | grep \"FAILED\" | wc -l"
   ]
  },
  {
   "cell_type": "code",
   "execution_count": 27,
   "id": "f1690821-767d-4cd8-bc8f-33c5576687b2",
   "metadata": {},
   "outputs": [
    {
     "name": "stdout",
     "output_type": "stream",
     "text": [
      "<html>\n",
      "<head><title>429 Too Many Requests</title></head>\n",
      "<body>\n",
      "<center><h1>429 Too Many Requests</h1></center>\n",
      "<hr><center>nginx/1.18.0 (Ubuntu)</center>\n",
      "</body>\n",
      "</html>\n"
     ]
    }
   ],
   "source": [
    "cat ${FD_OUT}/ENCFF425JAF.bigWig"
   ]
  },
  {
   "cell_type": "code",
   "execution_count": 24,
   "id": "c2bb2481-a85b-4581-a35a-66ed85593c74",
   "metadata": {},
   "outputs": [
    {
     "name": "stdout",
     "output_type": "stream",
     "text": [
      "ENCFF475BWW.bigWig: FAILED\n",
      "ENCFF793MZT.bigWig: FAILED\n",
      "ENCFF367AGS.bigWig: FAILED\n",
      "ENCFF507QQP.bigWig: FAILED\n",
      "ENCFF425JAF.bigWig: FAILED\n",
      "ENCFF366DIX.bigWig: FAILED\n",
      "ENCFF414GZH.bigWig: FAILED\n",
      "ENCFF748CGJ.bigWig: FAILED\n",
      "ENCFF361GYK.bigWig: FAILED\n",
      "ENCFF047UWV.bigWig: FAILED\n",
      "ENCFF557GFQ.bigWig: FAILED\n",
      "ENCFF907FLD.bigWig: FAILED\n",
      "ENCFF891VJC.bigWig: FAILED\n",
      "ENCFF074NWL.bigWig: FAILED\n",
      "ENCFF823PAG.bigWig: FAILED\n",
      "ENCFF758RLK.bigWig: FAILED\n",
      "ENCFF868RTI.bigWig: FAILED\n",
      "ENCFF986RWU.bigWig: FAILED\n",
      "ENCFF007JMV.bigWig: FAILED\n",
      "ENCFF430VFG.bigWig: FAILED\n",
      "ENCFF314SJU.bigWig: FAILED\n",
      "ENCFF700TSU.bigWig: FAILED\n",
      "ENCFF540LQS.bigWig: FAILED\n",
      "ENCFF746DWK.bigWig: FAILED\n",
      "ENCFF744HIE.bigWig: FAILED\n",
      "ENCFF387AXO.bigWig: FAILED\n",
      "ENCFF135IPL.bigWig: FAILED\n",
      "ENCFF568GYV.bigWig: FAILED\n",
      "ENCFF333BPH.bigWig: FAILED\n",
      "ENCFF062GMD.bigWig: FAILED\n",
      "ENCFF452QDE.bigWig: FAILED\n",
      "ENCFF478NBS.bigWig: FAILED\n",
      "ENCFF074TUE.bigWig: FAILED\n",
      "ENCFF018GMI.bigWig: FAILED\n",
      "ENCFF247POT.bigWig: FAILED\n",
      "ENCFF239LIU.bigWig: FAILED\n",
      "ENCFF094FEC.bigWig: FAILED\n",
      "ENCFF698OFV.bigWig: FAILED\n",
      "ENCFF687OPZ.bigWig: FAILED\n",
      "ENCFF557SXK.bigWig: FAILED\n",
      "ENCFF716EMG.bigWig: FAILED\n",
      "ENCFF845HRN.bigWig: FAILED\n",
      "ENCFF132DIX.bigWig: FAILED\n",
      "ENCFF649OQC.bigWig: FAILED\n",
      "ENCFF575LZV.bigWig: FAILED\n",
      "ENCFF509TWP.bigWig: FAILED\n",
      "ENCFF139XJA.bigWig: FAILED\n",
      "ENCFF514SEB.bigWig: FAILED\n",
      "ENCFF499TQE.bigWig: FAILED\n",
      "ENCFF196VHS.bigWig: FAILED\n",
      "ENCFF087SDF.bigWig: FAILED\n",
      "ENCFF201YMB.bigWig: FAILED\n",
      "ENCFF559EFC.bigWig: FAILED\n",
      "ENCFF031VIJ.bigWig: FAILED\n",
      "ENCFF905BYK.bigWig: FAILED\n",
      "ENCFF514TMD.bigWig: FAILED\n",
      "ENCFF042WYK.bigWig: FAILED\n",
      "ENCFF323ZHL.bigWig: FAILED\n",
      "ENCFF736ZOP.bigWig: FAILED\n",
      "ENCFF107ERN.bigWig: FAILED\n",
      "ENCFF838PBU.bigWig: FAILED\n",
      "ENCFF369AZW.bigWig: FAILED\n",
      "ENCFF991SNO.bigWig: FAILED\n",
      "ENCFF209WQK.bigWig: FAILED\n",
      "ENCFF643MLR.bigWig: FAILED\n",
      "ENCFF577NOB.bigWig: FAILED\n",
      "ENCFF571MUD.bigWig: FAILED\n",
      "ENCFF782YKJ.bigWig: FAILED\n",
      "ENCFF621VKZ.bigWig: FAILED\n",
      "ENCFF958WHT.bigWig: FAILED\n",
      "ENCFF753EQS.bigWig: FAILED\n",
      "ENCFF338KQK.bigWig: FAILED\n",
      "ENCFF027OVX.bigWig: FAILED\n",
      "ENCFF085LMT.bigWig: FAILED\n",
      "ENCFF444KTT.bigWig: FAILED\n",
      "ENCFF627CFB.bigWig: FAILED\n",
      "ENCFF803AOB.bigWig: FAILED\n",
      "ENCFF231HQU.bigWig: FAILED\n",
      "ENCFF281BQY.bigWig: FAILED\n",
      "ENCFF645DBZ.bigWig: FAILED\n",
      "ENCFF843BFO.bigWig: FAILED\n",
      "ENCFF957TCK.bigWig: FAILED\n",
      "ENCFF542QIO.bigWig: FAILED\n",
      "ENCFF137TFR.bigWig: FAILED\n",
      "ENCFF354ZOM.bigWig: FAILED\n",
      "ENCFF508FGB.bigWig: FAILED\n",
      "ENCFF502JLG.bigWig: FAILED\n",
      "ENCFF211WPG.bigWig: FAILED\n",
      "ENCFF762JVU.bigWig: FAILED\n",
      "ENCFF808GHX.bigWig: FAILED\n",
      "ENCFF952WMJ.bigWig: FAILED\n",
      "ENCFF684RNO.bigWig: FAILED\n",
      "ENCFF827ORL.bigWig: FAILED\n",
      "ENCFF140EZX.bigWig: FAILED\n",
      "ENCFF607GDG.bigWig: FAILED\n",
      "ENCFF377VHU.bigWig: FAILED\n",
      "ENCFF567NRR.bigWig: FAILED\n",
      "ENCFF125BET.bigWig: FAILED\n",
      "ENCFF850KER.bigWig: FAILED\n",
      "ENCFF131AOO.bigWig: FAILED\n"
     ]
    }
   ],
   "source": [
    "cat ${FD_OUT}/checksum_results.txt | grep \"FAILED\" | head -n 100"
   ]
  },
  {
   "cell_type": "markdown",
   "id": "ebde2aa8-c2cc-4b6e-92a6-d3d06ec7798c",
   "metadata": {},
   "source": [
    "```\n",
    "### init: directory\n",
    "FD_OUT=${FD_DAT}/external/${TXT_FOLDER}/signal_fold_change\n",
    "FP_TMP=${FD_OUT}/checksum_results.txt\n",
    "\n",
    "### loop, check exitence and delete if FAILED checksum\n",
    "cd ${FD_OUT}\n",
    "for FILE in $(grep \"FAILED\" \"${FP_TMP}\" | cut -d: -f1); do\n",
    "    if [ -f \"${FILE}\" ]; then\n",
    "        echo \"Deleting ${FILE}\"\n",
    "        rm -v \"${FILE}\"\n",
    "    else\n",
    "        echo \"Skipping ${FILE} (not found)\"\n",
    "    fi\n",
    "done\n",
    "```"
   ]
  },
  {
   "cell_type": "markdown",
   "id": "2b0ba79b-c4b1-4590-a8bb-f9753a40a7be",
   "metadata": {},
   "source": [
    "### Check execution log"
   ]
  },
  {
   "cell_type": "code",
   "execution_count": 63,
   "id": "0f697086-dfb6-4d37-b789-6829d0778e79",
   "metadata": {},
   "outputs": [
    {
     "name": "stdout",
     "output_type": "stream",
     "text": [
      "\u001b[0m\u001b[01;34mregion_narrowPeak\u001b[0m  \u001b[01;34msignal_fold_change\u001b[0m  \u001b[01;34msignal_pvalue\u001b[0m\n"
     ]
    }
   ],
   "source": [
    "ls ${FD_DAT}/external/${TXT_FOLDER}"
   ]
  },
  {
   "cell_type": "code",
   "execution_count": 40,
   "id": "46ae43f6-03ce-4c1f-9cfc-bda655e58a8f",
   "metadata": {},
   "outputs": [
    {
     "name": "stdout",
     "output_type": "stream",
     "text": [
      "/data/reddylab/Kuei/repo/Proj_ENCODE_FCC/log/download.encode_chipseq_tf_250120.signal_fold_change.files.01.txt\n"
     ]
    }
   ],
   "source": [
    "echo ${FP_LOG}"
   ]
  },
  {
   "cell_type": "code",
   "execution_count": 39,
   "id": "44298b6f-cb2e-4aa6-b6de-de519bbfb1db",
   "metadata": {},
   "outputs": [
    {
     "name": "stdout",
     "output_type": "stream",
     "text": [
      "  0     0    0     0    0     0      0      0 --:--:-- --:--:-- --:--:--     0\n",
      "curl: (23) Failed writing header\n",
      "  % Total    % Received % Xferd  Average Speed   Time    Time     Time  Current\n",
      "                                 Dload  Upload   Total   Spent    Left  Speed\n",
      "100  1887  100  1887    0     0   6048      0 --:--:-- --:--:-- --:--:--  6048\n",
      "100 2244M  100 2244M    0     0  30.6M      0  0:01:13  0:01:13 --:--:-- 33.3M\n",
      "  % Total    % Received % Xferd  Average Speed   Time    Time     Time  Current\n",
      "                                 Dload  Upload   Total   Spent    Left  Speed\n",
      "100  1887  100  1887    0     0   6009      0 --:--:-- --:--:-- --:--:--  6028\n",
      " 82 2266M   82 1864M    0     0   655k      0  0:58:59  0:48:32  0:10:27  5675"
     ]
    },
    {
     "name": "stderr",
     "output_type": "stream",
     "text": [
      "IOPub message rate exceeded.\n",
      "The Jupyter server will temporarily stop sending output\n",
      "to the client in order to avoid crashing it.\n",
      "To change this limit, set the config variable\n",
      "`--ServerApp.iopub_msg_rate_limit`.\n",
      "\n",
      "Current values:\n",
      "ServerApp.iopub_msg_rate_limit=1000.0 (msgs/sec)\n",
      "ServerApp.rate_limit_window=3.0 (secs)\n",
      "\n"
     ]
    }
   ],
   "source": [
    "FN_LOG=download.encode_chipseq_tf_250120.signal_fold_change.files.01.txt\n",
    "FP_LOG=${FD_LOG}/${FN_LOG}\n",
    "\n",
    "tail -n 10 ${FP_LOG}"
   ]
  },
  {
   "cell_type": "code",
   "execution_count": 17,
   "id": "de40de70-1fe2-474c-8338-5d5ae127dd0f",
   "metadata": {},
   "outputs": [
    {
     "name": "stdout",
     "output_type": "stream",
     "text": [
      "Hostname:           plp-rcc-node-02\n",
      "Slurm Array Index: \n",
      "Time Stamp:         06-04-25+11:41:49\n",
      "\n",
      "Change directory:\n",
      "/data/reddylab/Kuei/repo/Proj_ENCODE_FCC/data/external/encode_chipseq_tf_250120/signal_fold_change\n",
      "\n",
      "Checksum files...\n"
     ]
    }
   ],
   "source": [
    "FN_LOG=checksum.encode_chipseq_tf_250120.signal_fold_change.checksum_md5sum.17.txt\n",
    "FP_LOG=${FD_LOG}/${FN_LOG}\n",
    "\n",
    "head -n 20 ${FP_LOG}"
   ]
  },
  {
   "cell_type": "code",
   "execution_count": null,
   "id": "b0136489-34b9-4975-86de-4a1f1ed92b28",
   "metadata": {},
   "outputs": [],
   "source": []
  }
 ],
 "metadata": {
  "kernelspec": {
   "display_name": "Bash",
   "language": "bash",
   "name": "bash"
  },
  "language_info": {
   "codemirror_mode": "shell",
   "file_extension": ".sh",
   "mimetype": "text/x-sh",
   "name": "bash"
  }
 },
 "nbformat": 4,
 "nbformat_minor": 5
}
