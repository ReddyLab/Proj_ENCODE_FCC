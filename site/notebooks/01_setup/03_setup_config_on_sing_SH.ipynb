{
 "cells": [
  {
   "cell_type": "raw",
   "id": "dd0967bb-6022-4b1f-bea8-ca63448a0897",
   "metadata": {},
   "source": [
    "---\n",
    "title: Setup Envionment 03\n",
    "subtitle: Project configuration when running container \n",
    "format:\n",
    "    html:\n",
    "        code-fold:  true\n",
    "        code-tools: true\n",
    "---"
   ]
  },
  {
   "cell_type": "markdown",
   "id": "22bbd3d5-7ad6-41d8-9f31-f628a6157d59",
   "metadata": {},
   "source": [
    "**Set environment**"
   ]
  },
  {
   "cell_type": "code",
   "execution_count": null,
   "id": "35219842-cef3-4b2c-aa91-a711e6555d85",
   "metadata": {},
   "outputs": [],
   "source": []
  },
  {
   "cell_type": "markdown",
   "id": "d1a2824d-e8d4-4841-9d73-749a99e43ec8",
   "metadata": {},
   "source": [
    "## Setup `config_path_sing.sh`"
   ]
  },
  {
   "cell_type": "code",
   "execution_count": null,
   "id": "c3216db2-5158-4f62-9960-e5885a20f39a",
   "metadata": {},
   "outputs": [],
   "source": []
  },
  {
   "cell_type": "markdown",
   "id": "d4f964f5-5ca2-4c30-83f1-bd58b5138bff",
   "metadata": {},
   "source": [
    "## Setup `config_project_sing.R`"
   ]
  },
  {
   "cell_type": "code",
   "execution_count": null,
   "id": "13476675-68dd-4379-afa5-a42e86cd85e3",
   "metadata": {},
   "outputs": [],
   "source": []
  },
  {
   "cell_type": "markdown",
   "id": "646a1214-2537-4eba-abde-ae5bdf9b3d29",
   "metadata": {},
   "source": [
    "## Setup `config_project_sing.py`"
   ]
  },
  {
   "cell_type": "code",
   "execution_count": null,
   "id": "f87efb40-753e-436d-9967-32a36498b3c8",
   "metadata": {},
   "outputs": [],
   "source": []
  }
 ],
 "metadata": {
  "kernelspec": {
   "display_name": "Bash",
   "language": "bash",
   "name": "bash"
  },
  "language_info": {
   "codemirror_mode": "shell",
   "file_extension": ".sh",
   "mimetype": "text/x-sh",
   "name": "bash"
  }
 },
 "nbformat": 4,
 "nbformat_minor": 5
}
