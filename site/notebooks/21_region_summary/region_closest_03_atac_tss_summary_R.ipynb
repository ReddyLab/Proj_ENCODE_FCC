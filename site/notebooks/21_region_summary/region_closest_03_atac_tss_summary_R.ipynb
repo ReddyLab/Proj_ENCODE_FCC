{
 "cells": [
  {
   "cell_type": "raw",
   "id": "b3cc9b08-a5c7-49d9-94fa-6927ea1303b0",
   "metadata": {},
   "source": [
    "---\n",
    "title: Region annotation 11 (ASTARR MACS peaks)\n",
    "subtitle: Summarize annotations (Main)\n",
    "format:\n",
    "    html:\n",
    "        code-fold:  true\n",
    "        code-tools: true\n",
    "---"
   ]
  },
  {
   "cell_type": "markdown",
   "id": "52a11a0c-d9b9-4319-89aa-1c57e4cdab16",
   "metadata": {},
   "source": [
    "**Set environment**"
   ]
  },
  {
   "cell_type": "code",
   "execution_count": 1,
   "id": "9bc44458-2d76-4e5f-a5dc-e5164aa97fad",
   "metadata": {
    "tags": []
   },
   "outputs": [
    {
     "name": "stdout",
     "output_type": "stream",
     "text": [
      "You are working on        Singularity: singularity_proj_encode_fcc \n",
      "BASE DIRECTORY (FD_BASE): /data/reddylab/Kuei \n",
      "REPO DIRECTORY (FD_REPO): /data/reddylab/Kuei/repo \n",
      "WORK DIRECTORY (FD_WORK): /data/reddylab/Kuei/work \n",
      "DATA DIRECTORY (FD_DATA): /data/reddylab/Kuei/data \n",
      "\n",
      "You are working with      ENCODE FCC \n",
      "PATH OF PROJECT (FD_PRJ): /data/reddylab/Kuei/repo/Proj_ENCODE_FCC \n",
      "PROJECT RESULTS (FD_RES): /data/reddylab/Kuei/repo/Proj_ENCODE_FCC/results \n",
      "PROJECT SCRIPTS (FD_EXE): /data/reddylab/Kuei/repo/Proj_ENCODE_FCC/scripts \n",
      "PROJECT DATA    (FD_DAT): /data/reddylab/Kuei/repo/Proj_ENCODE_FCC/data \n",
      "PROJECT NOTE    (FD_NBK): /data/reddylab/Kuei/repo/Proj_ENCODE_FCC/notebooks \n",
      "PROJECT DOCS    (FD_DOC): /data/reddylab/Kuei/repo/Proj_ENCODE_FCC/docs \n",
      "PROJECT LOG     (FD_LOG): /data/reddylab/Kuei/repo/Proj_ENCODE_FCC/log \n",
      "PROJECT REF     (FD_REF): /data/reddylab/Kuei/repo/Proj_ENCODE_FCC/references \n",
      "\n"
     ]
    }
   ],
   "source": [
    "suppressMessages(suppressWarnings(source(\"../run_config_project_sing.R\")))\n",
    "show_env()"
   ]
  },
  {
   "cell_type": "markdown",
   "id": "1a8c4725-e390-4274-acad-29b57ef5a346",
   "metadata": {},
   "source": [
    "## Import, arrange, and save data"
   ]
  },
  {
   "cell_type": "markdown",
   "id": "3af7a26e-ca90-465d-a285-033ee7d42930",
   "metadata": {},
   "source": [
    "**Helper function for labeling region based on their TSS proximity**"
   ]
  },
  {
   "cell_type": "code",
   "execution_count": 2,
   "id": "ad6a23e9-2431-4e70-af9c-a40787527a8e",
   "metadata": {},
   "outputs": [],
   "source": [
    "fun_label_by_tss_proximity = function(vec_num_distance){\n",
    "    vec_txt_label = ifelse(\n",
    "        vec_num_distance <= 2000,\n",
    "        \"Proximal\",\n",
    "        \"Distal\"\n",
    "    )\n",
    "    return(vec_txt_label)\n",
    "}"
   ]
  },
  {
   "cell_type": "markdown",
   "id": "e3f0f1c8-f0f6-4717-ab22-8af82163c5dd",
   "metadata": {},
   "source": [
    "**Process each data**"
   ]
  },
  {
   "cell_type": "code",
   "execution_count": 3,
   "id": "12e41475-2ce3-4345-90c6-207c7a340921",
   "metadata": {},
   "outputs": [
    {
     "name": "stdout",
     "output_type": "stream",
     "text": [
      "Save: /data/reddylab/Kuei/repo/Proj_ENCODE_FCC/results/region_closest/fcc_astarr_macs_input_overlap/summary/region.summary.genome_tss.tsv \n",
      "\n",
      "Save: /data/reddylab/Kuei/repo/Proj_ENCODE_FCC/results/region_closest/fcc_astarr_macs_input_union/summary/region.summary.genome_tss.tsv \n",
      "\n"
     ]
    }
   ],
   "source": [
    "### init\n",
    "vec_txt_region_label = c(\n",
    "    \"fcc_astarr_macs_input_overlap\",\n",
    "    \"fcc_astarr_macs_input_union\"\n",
    ")\n",
    "\n",
    "### loop through each region pair file\n",
    "for (txt_region_label in  vec_txt_region_label){\n",
    "    \n",
    "    ### set file directory\n",
    "    txt_fdiry = file.path(\n",
    "        FD_RES, \n",
    "        \"region_closest\",\n",
    "        txt_region_label,\n",
    "        \"summary\"\n",
    "    )\n",
    "    txt_fname = \"region.pair.genome_tss.tsv\"\n",
    "    txt_fpath = file.path(txt_fdiry, txt_fname)\n",
    "    dat_region_pair = read_tsv(txt_fpath, show_col_types = FALSE)\n",
    "\n",
    "    ### select and rename columns\n",
    "    dat = dat_region_pair\n",
    "    dat = dat %>% \n",
    "        dplyr::filter(Annotation_B == \"genome_tss_pol2_rnaseq\") %>%\n",
    "        dplyr::select(\n",
    "            Chrom_A, ChromStart_A, ChromEnd_A, Region_A, \n",
    "            Annotation_A, Annotation_B,\n",
    "            Distance\n",
    "        ) %>% \n",
    "        dplyr::distinct()\n",
    "    colnames(dat) = c(\n",
    "        \"Chrom\", \"ChromStart\", \"ChromEnd\", \"Region\",\n",
    "        \"Annotation_A\", \"Annotation_B\",\n",
    "        \"Distance\"\n",
    "    )\n",
    "    dat_region_rename = dat\n",
    "    \n",
    "    ### add label\n",
    "    dat = dat_region_rename\n",
    "    dat = dat %>%\n",
    "        dplyr::mutate(\n",
    "            Label_TSS_Proximity = fun_label_by_tss_proximity(Distance),\n",
    "        )\n",
    "    dat_region_summary = dat\n",
    "\n",
    "    ### write table\n",
    "    txt_fname = \"region.summary.genome_tss.tsv\"\n",
    "    txt_fpath = file.path(txt_fdiry, txt_fname)\n",
    "    dat = dat_region_summary\n",
    "    write_tsv(dat, txt_fpath)\n",
    "\n",
    "    ### show progress\n",
    "    cat(\"Save:\", txt_fpath, \"\\n\")\n",
    "    cat(\"\\n\")\n",
    "}"
   ]
  }
 ],
 "metadata": {
  "kernelspec": {
   "display_name": "R",
   "language": "R",
   "name": "ir"
  },
  "language_info": {
   "codemirror_mode": "r",
   "file_extension": ".r",
   "mimetype": "text/x-r-source",
   "name": "R",
   "pygments_lexer": "r",
   "version": "4.4.2"
  }
 },
 "nbformat": 4,
 "nbformat_minor": 5
}
