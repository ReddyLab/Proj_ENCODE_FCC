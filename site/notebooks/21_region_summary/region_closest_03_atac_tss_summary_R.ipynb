{
 "cells": [
  {
   "cell_type": "raw",
   "id": "b3cc9b08-a5c7-49d9-94fa-6927ea1303b0",
   "metadata": {},
   "source": [
    "---\n",
    "title: Region annotation 11 (ASTARR MACS peaks)\n",
    "subtitle: Summarize annotations (Main)\n",
    "format:\n",
    "    html:\n",
    "        code-fold:  true\n",
    "        code-tools: true\n",
    "---"
   ]
  },
  {
   "cell_type": "markdown",
   "id": "52a11a0c-d9b9-4319-89aa-1c57e4cdab16",
   "metadata": {},
   "source": [
    "**Set environment**"
   ]
  },
  {
   "cell_type": "code",
   "execution_count": 1,
   "id": "9bc44458-2d76-4e5f-a5dc-e5164aa97fad",
   "metadata": {
    "tags": []
   },
   "outputs": [
    {
     "name": "stdout",
     "output_type": "stream",
     "text": [
      "You are working on        Singularity: singularity_proj_encode_fcc \n",
      "BASE DIRECTORY (FD_BASE): /data/reddylab/Kuei \n",
      "REPO DIRECTORY (FD_REPO): /data/reddylab/Kuei/repo \n",
      "WORK DIRECTORY (FD_WORK): /data/reddylab/Kuei/work \n",
      "DATA DIRECTORY (FD_DATA): /data/reddylab/Kuei/data \n",
      "\n",
      "You are working with      ENCODE FCC \n",
      "PATH OF PROJECT (FD_PRJ): /data/reddylab/Kuei/repo/Proj_ENCODE_FCC \n",
      "PROJECT RESULTS (FD_RES): /data/reddylab/Kuei/repo/Proj_ENCODE_FCC/results \n",
      "PROJECT SCRIPTS (FD_EXE): /data/reddylab/Kuei/repo/Proj_ENCODE_FCC/scripts \n",
      "PROJECT DATA    (FD_DAT): /data/reddylab/Kuei/repo/Proj_ENCODE_FCC/data \n",
      "PROJECT NOTE    (FD_NBK): /data/reddylab/Kuei/repo/Proj_ENCODE_FCC/notebooks \n",
      "PROJECT DOCS    (FD_DOC): /data/reddylab/Kuei/repo/Proj_ENCODE_FCC/docs \n",
      "PROJECT LOG     (FD_LOG): /data/reddylab/Kuei/repo/Proj_ENCODE_FCC/log \n",
      "PROJECT REF     (FD_REF): /data/reddylab/Kuei/repo/Proj_ENCODE_FCC/references \n",
      "\n"
     ]
    }
   ],
   "source": [
    "suppressMessages(suppressWarnings(source(\"../run_config_project_sing.R\")))\n",
    "show_env()"
   ]
  },
  {
   "cell_type": "markdown",
   "id": "c63a4c45-330a-4253-a598-308796698e89",
   "metadata": {},
   "source": [
    "## Prepare"
   ]
  },
  {
   "cell_type": "markdown",
   "id": "cbc16648-3d77-4f1c-a4ea-4061491410ff",
   "metadata": {},
   "source": [
    "**Set global variable**"
   ]
  },
  {
   "cell_type": "code",
   "execution_count": 3,
   "id": "400d32df-429d-4d25-b732-bbce1f80cefe",
   "metadata": {},
   "outputs": [
    {
     "name": "stdout",
     "output_type": "stream",
     "text": [
      "fcc_astarr_macs_input_overlap \n",
      "fcc_astarr_macs_input_union \n"
     ]
    }
   ],
   "source": [
    "vec = c(\n",
    "    \"fcc_astarr_macs_input_overlap\",\n",
    "    \"fcc_astarr_macs_input_union\"\n",
    ")\n",
    "names(vec) = vec\n",
    "\n",
    "VEC_TXT_FOLDER = vec\n",
    "for(txt in vec){cat(txt, \"\\n\")}"
   ]
  },
  {
   "cell_type": "code",
   "execution_count": 5,
   "id": "d5216f63-8572-4b60-a456-a11823905035",
   "metadata": {},
   "outputs": [],
   "source": [
    "TXT_FNAME_INP = \"region.pair.genome_tss.tsv\""
   ]
  },
  {
   "cell_type": "markdown",
   "id": "f85fe90c-0c61-4cc0-9fae-3f027b697bff",
   "metadata": {},
   "source": [
    "**View files**"
   ]
  },
  {
   "cell_type": "code",
   "execution_count": 6,
   "id": "2b04f70f-c489-478f-8aee-7a8e30329a27",
   "metadata": {},
   "outputs": [
    {
     "name": "stdout",
     "output_type": "stream",
     "text": [
      "/data/reddylab/Kuei/repo/Proj_ENCODE_FCC/results/region_closest/fcc_astarr_macs_input_overlap/summary/region.pair.genome_tss.tsv \n",
      "/data/reddylab/Kuei/repo/Proj_ENCODE_FCC/results/region_closest/fcc_astarr_macs_input_union/summary/region.pair.genome_tss.tsv \n"
     ]
    }
   ],
   "source": [
    "txt_fdiry = file.path(FD_RES, \"region_closest\", \"*\", \"summary\")\n",
    "txt_fname = TXT_FNAME_INP\n",
    "txt_fglob = file.path(txt_fdiry, txt_fname)\n",
    "\n",
    "vec = Sys.glob(txt_fglob)\n",
    "for(txt in vec){cat(txt, \"\\n\")}"
   ]
  },
  {
   "cell_type": "markdown",
   "id": "0b9404fd-d2ae-4414-8dd4-12cc1b7f3e4a",
   "metadata": {},
   "source": [
    "## Import data"
   ]
  },
  {
   "cell_type": "code",
   "execution_count": 7,
   "id": "173f441f-efa9-4706-a91d-2473bbaab4d5",
   "metadata": {},
   "outputs": [
    {
     "name": "stdout",
     "output_type": "stream",
     "text": [
      "$fcc_astarr_macs_input_overlap\n",
      "[1] 304915     15\n",
      "\n",
      "$fcc_astarr_macs_input_union\n",
      "[1] 499336     15\n",
      "\n"
     ]
    },
    {
     "data": {
      "text/html": [
       "<table>\n",
       " <thead>\n",
       "  <tr>\n",
       "   <th style=\"text-align:left;\"> Chrom_A </th>\n",
       "   <th style=\"text-align:right;\"> ChromStart_A </th>\n",
       "   <th style=\"text-align:right;\"> ChromEnd_A </th>\n",
       "   <th style=\"text-align:left;\"> Region_A </th>\n",
       "   <th style=\"text-align:left;\"> Chrom_B </th>\n",
       "   <th style=\"text-align:right;\"> ChromStart_B </th>\n",
       "   <th style=\"text-align:right;\"> ChromEnd_B </th>\n",
       "   <th style=\"text-align:left;\"> Region_B </th>\n",
       "   <th style=\"text-align:left;\"> Gene_B </th>\n",
       "   <th style=\"text-align:right;\"> Score_B </th>\n",
       "   <th style=\"text-align:left;\"> Group_B </th>\n",
       "   <th style=\"text-align:left;\"> Label_B </th>\n",
       "   <th style=\"text-align:right;\"> Distance </th>\n",
       "   <th style=\"text-align:left;\"> Annotation_A </th>\n",
       "   <th style=\"text-align:left;\"> Annotation_B </th>\n",
       "  </tr>\n",
       " </thead>\n",
       "<tbody>\n",
       "  <tr>\n",
       "   <td style=\"text-align:left;\"> chr1 </td>\n",
       "   <td style=\"text-align:right;\"> 10038 </td>\n",
       "   <td style=\"text-align:right;\"> 10405 </td>\n",
       "   <td style=\"text-align:left;\"> chr1:10038-10405 </td>\n",
       "   <td style=\"text-align:left;\"> chr1 </td>\n",
       "   <td style=\"text-align:right;\"> 11873 </td>\n",
       "   <td style=\"text-align:right;\"> 11874 </td>\n",
       "   <td style=\"text-align:left;\"> chr1:11873-11874 </td>\n",
       "   <td style=\"text-align:left;\"> DDX11L1 </td>\n",
       "   <td style=\"text-align:right;\"> 0.00023 </td>\n",
       "   <td style=\"text-align:left;\"> TSS_Pol2 </td>\n",
       "   <td style=\"text-align:left;\"> DDX11L1 </td>\n",
       "   <td style=\"text-align:right;\"> 1469 </td>\n",
       "   <td style=\"text-align:left;\"> fcc_astarr_macs_input_overlap </td>\n",
       "   <td style=\"text-align:left;\"> genome_tss_pol2 </td>\n",
       "  </tr>\n",
       "  <tr>\n",
       "   <td style=\"text-align:left;\"> chr1 </td>\n",
       "   <td style=\"text-align:right;\"> 14282 </td>\n",
       "   <td style=\"text-align:right;\"> 14614 </td>\n",
       "   <td style=\"text-align:left;\"> chr1:14282-14614 </td>\n",
       "   <td style=\"text-align:left;\"> chr1 </td>\n",
       "   <td style=\"text-align:right;\"> 11873 </td>\n",
       "   <td style=\"text-align:right;\"> 11874 </td>\n",
       "   <td style=\"text-align:left;\"> chr1:11873-11874 </td>\n",
       "   <td style=\"text-align:left;\"> DDX11L1 </td>\n",
       "   <td style=\"text-align:right;\"> 0.00023 </td>\n",
       "   <td style=\"text-align:left;\"> TSS_Pol2 </td>\n",
       "   <td style=\"text-align:left;\"> DDX11L1 </td>\n",
       "   <td style=\"text-align:right;\"> 2409 </td>\n",
       "   <td style=\"text-align:left;\"> fcc_astarr_macs_input_overlap </td>\n",
       "   <td style=\"text-align:left;\"> genome_tss_pol2 </td>\n",
       "  </tr>\n",
       "  <tr>\n",
       "   <td style=\"text-align:left;\"> chr1 </td>\n",
       "   <td style=\"text-align:right;\"> 16025 </td>\n",
       "   <td style=\"text-align:right;\"> 16338 </td>\n",
       "   <td style=\"text-align:left;\"> chr1:16025-16338 </td>\n",
       "   <td style=\"text-align:left;\"> chr1 </td>\n",
       "   <td style=\"text-align:right;\"> 17436 </td>\n",
       "   <td style=\"text-align:right;\"> 17437 </td>\n",
       "   <td style=\"text-align:left;\"> chr1:17436-17437 </td>\n",
       "   <td style=\"text-align:left;\"> MIR6859-1 </td>\n",
       "   <td style=\"text-align:right;\"> 9.43812 </td>\n",
       "   <td style=\"text-align:left;\"> TSS_Pol2 </td>\n",
       "   <td style=\"text-align:left;\"> MIR6859-1 </td>\n",
       "   <td style=\"text-align:right;\"> 1099 </td>\n",
       "   <td style=\"text-align:left;\"> fcc_astarr_macs_input_overlap </td>\n",
       "   <td style=\"text-align:left;\"> genome_tss_pol2 </td>\n",
       "  </tr>\n",
       "</tbody>\n",
       "</table>"
      ]
     },
     "metadata": {},
     "output_type": "display_data"
    }
   ],
   "source": [
    "### loop to import data\n",
    "lst = lapply(VEC_TXT_FOLDER, function(txt_folder){\n",
    "    ### set file directory\n",
    "    txt_fdiry = file.path(FD_RES, \"region_closest\", txt_folder, \"summary\")\n",
    "    txt_fname = TXT_FNAME_INP\n",
    "    txt_fpath = file.path(txt_fdiry, txt_fname)\n",
    "\n",
    "    ### read table\n",
    "    dat = read_tsv(txt_fpath, show_col_types = FALSE)\n",
    "    return(dat)\n",
    "})\n",
    "\n",
    "### assign and show\n",
    "lst_dat_region_annot_import = lst\n",
    "\n",
    "res = lapply(lst, dim)\n",
    "print(res)\n",
    "\n",
    "dat = lst[[1]]\n",
    "fun_display_table(head(dat, 3))"
   ]
  },
  {
   "cell_type": "markdown",
   "id": "81008c81-28e1-4ba3-a6a9-36e4bf943334",
   "metadata": {},
   "source": [
    "## Arrange table"
   ]
  },
  {
   "cell_type": "code",
   "execution_count": 17,
   "id": "22678aae-c8c4-474c-a32a-f163c901e8fd",
   "metadata": {},
   "outputs": [
    {
     "name": "stdout",
     "output_type": "stream",
     "text": [
      "$fcc_astarr_macs_input_overlap\n",
      "[1] 304915     10\n",
      "\n",
      "$fcc_astarr_macs_input_union\n",
      "[1] 499336     10\n",
      "\n"
     ]
    },
    {
     "data": {
      "text/html": [
       "<table>\n",
       " <thead>\n",
       "  <tr>\n",
       "   <th style=\"text-align:left;\"> Chrom </th>\n",
       "   <th style=\"text-align:right;\"> ChromStart </th>\n",
       "   <th style=\"text-align:right;\"> ChromEnd </th>\n",
       "   <th style=\"text-align:left;\"> Region </th>\n",
       "   <th style=\"text-align:left;\"> Annotation_A </th>\n",
       "   <th style=\"text-align:left;\"> Annotation_B </th>\n",
       "   <th style=\"text-align:left;\"> Region_TSS </th>\n",
       "   <th style=\"text-align:right;\"> Score_Pol2 </th>\n",
       "   <th style=\"text-align:left;\"> Gene </th>\n",
       "   <th style=\"text-align:right;\"> Distance2TSS </th>\n",
       "  </tr>\n",
       " </thead>\n",
       "<tbody>\n",
       "  <tr>\n",
       "   <td style=\"text-align:left;\"> chr1 </td>\n",
       "   <td style=\"text-align:right;\"> 10038 </td>\n",
       "   <td style=\"text-align:right;\"> 10405 </td>\n",
       "   <td style=\"text-align:left;\"> chr1:10038-10405 </td>\n",
       "   <td style=\"text-align:left;\"> fcc_astarr_macs_input_overlap </td>\n",
       "   <td style=\"text-align:left;\"> genome_tss_pol2 </td>\n",
       "   <td style=\"text-align:left;\"> chr1:11873-11874 </td>\n",
       "   <td style=\"text-align:right;\"> 0.00023 </td>\n",
       "   <td style=\"text-align:left;\"> DDX11L1 </td>\n",
       "   <td style=\"text-align:right;\"> 1469 </td>\n",
       "  </tr>\n",
       "  <tr>\n",
       "   <td style=\"text-align:left;\"> chr1 </td>\n",
       "   <td style=\"text-align:right;\"> 14282 </td>\n",
       "   <td style=\"text-align:right;\"> 14614 </td>\n",
       "   <td style=\"text-align:left;\"> chr1:14282-14614 </td>\n",
       "   <td style=\"text-align:left;\"> fcc_astarr_macs_input_overlap </td>\n",
       "   <td style=\"text-align:left;\"> genome_tss_pol2 </td>\n",
       "   <td style=\"text-align:left;\"> chr1:11873-11874 </td>\n",
       "   <td style=\"text-align:right;\"> 0.00023 </td>\n",
       "   <td style=\"text-align:left;\"> DDX11L1 </td>\n",
       "   <td style=\"text-align:right;\"> 2409 </td>\n",
       "  </tr>\n",
       "  <tr>\n",
       "   <td style=\"text-align:left;\"> chr1 </td>\n",
       "   <td style=\"text-align:right;\"> 16025 </td>\n",
       "   <td style=\"text-align:right;\"> 16338 </td>\n",
       "   <td style=\"text-align:left;\"> chr1:16025-16338 </td>\n",
       "   <td style=\"text-align:left;\"> fcc_astarr_macs_input_overlap </td>\n",
       "   <td style=\"text-align:left;\"> genome_tss_pol2 </td>\n",
       "   <td style=\"text-align:left;\"> chr1:17436-17437 </td>\n",
       "   <td style=\"text-align:right;\"> 9.43812 </td>\n",
       "   <td style=\"text-align:left;\"> MIR6859-1 </td>\n",
       "   <td style=\"text-align:right;\"> 1099 </td>\n",
       "  </tr>\n",
       "</tbody>\n",
       "</table>"
      ]
     },
     "metadata": {},
     "output_type": "display_data"
    }
   ],
   "source": [
    "### setup column name mappign\n",
    "vec_txt_cname1 = c(\n",
    "    \"Chrom_A\", \"ChromStart_A\", \"ChromEnd_A\", \"Region_A\", \n",
    "    \"Annotation_A\", \"Annotation_B\",\n",
    "    \"Region_B\", \n",
    "    \"Score_B\",\n",
    "    \"Gene_B\",\n",
    "    \"Distance\"\n",
    ")\n",
    "vec_txt_cname2 = c(\n",
    "    \"Chrom\", \"ChromStart\", \"ChromEnd\", \"Region\", \n",
    "    \"Annotation_A\", \"Annotation_B\",\n",
    "    \"Region_TSS\",\n",
    "    \"Score_Pol2\",\n",
    "    \"Gene\",\n",
    "    \"Distance2TSS\"\n",
    ")\n",
    "\n",
    "vec = vec_txt_cname1\n",
    "names(vec) = vec_txt_cname2\n",
    "vec_txt_lookup = vec\n",
    "\n",
    "### loop and arrange table\n",
    "lst = lst_dat_region_annot_import\n",
    "lst = lapply(lst, function(dat){\n",
    "    dat = dat %>% \n",
    "        dplyr::select(all_of(vec_txt_cname1)) %>%\n",
    "        dplyr::rename(all_of(vec_txt_lookup))\n",
    "    return(dat)\n",
    "})\n",
    "\n",
    "### assign and show\n",
    "lst_dat_region_annot_arrange = lst\n",
    "\n",
    "res = lapply(lst, dim)\n",
    "print(res)\n",
    "\n",
    "dat = lst[[1]]\n",
    "fun_display_table(head(dat, 3))"
   ]
  },
  {
   "cell_type": "markdown",
   "id": "9da42b07-02fe-423a-8cc5-7ed9084cdaad",
   "metadata": {},
   "source": [
    "## TSS Proximity"
   ]
  },
  {
   "cell_type": "markdown",
   "id": "4a0ab04e-6097-415b-bdcc-7ae61ba274ea",
   "metadata": {},
   "source": [
    "**Helper function for labeling region based on their TSS proximity**"
   ]
  },
  {
   "cell_type": "code",
   "execution_count": 18,
   "id": "c0461511-f885-4f44-a268-9de84f3b8dee",
   "metadata": {},
   "outputs": [],
   "source": [
    "fun_label_tss_proximity = function(vec_num_distance){\n",
    "    vec_txt_label = ifelse(\n",
    "        vec_num_distance <= 2000,\n",
    "        \"Proximal\",\n",
    "        \"Distal\"\n",
    "    )\n",
    "    return(vec_txt_label)\n",
    "}"
   ]
  },
  {
   "cell_type": "markdown",
   "id": "6c8f5b71-2d22-4dc7-a0f1-9f3f3c64bb08",
   "metadata": {},
   "source": [
    "**Define TSS proximity**"
   ]
  },
  {
   "cell_type": "code",
   "execution_count": 19,
   "id": "c0ec3954-3455-4ad9-9230-cd41dbf769b2",
   "metadata": {},
   "outputs": [
    {
     "name": "stdout",
     "output_type": "stream",
     "text": [
      "$fcc_astarr_macs_input_overlap\n",
      "[1] 304915     11\n",
      "\n",
      "$fcc_astarr_macs_input_union\n",
      "[1] 499336     11\n",
      "\n"
     ]
    },
    {
     "data": {
      "text/html": [
       "<table>\n",
       " <thead>\n",
       "  <tr>\n",
       "   <th style=\"text-align:left;\"> Chrom </th>\n",
       "   <th style=\"text-align:right;\"> ChromStart </th>\n",
       "   <th style=\"text-align:right;\"> ChromEnd </th>\n",
       "   <th style=\"text-align:left;\"> Region </th>\n",
       "   <th style=\"text-align:left;\"> Annotation_A </th>\n",
       "   <th style=\"text-align:left;\"> Annotation_B </th>\n",
       "   <th style=\"text-align:left;\"> Region_TSS </th>\n",
       "   <th style=\"text-align:right;\"> Score_Pol2 </th>\n",
       "   <th style=\"text-align:left;\"> Gene </th>\n",
       "   <th style=\"text-align:right;\"> Distance2TSS </th>\n",
       "   <th style=\"text-align:left;\"> TSS_Proximity </th>\n",
       "  </tr>\n",
       " </thead>\n",
       "<tbody>\n",
       "  <tr>\n",
       "   <td style=\"text-align:left;\"> chr1 </td>\n",
       "   <td style=\"text-align:right;\"> 10038 </td>\n",
       "   <td style=\"text-align:right;\"> 10405 </td>\n",
       "   <td style=\"text-align:left;\"> chr1:10038-10405 </td>\n",
       "   <td style=\"text-align:left;\"> fcc_astarr_macs_input_overlap </td>\n",
       "   <td style=\"text-align:left;\"> genome_tss_pol2 </td>\n",
       "   <td style=\"text-align:left;\"> chr1:11873-11874 </td>\n",
       "   <td style=\"text-align:right;\"> 0.00023 </td>\n",
       "   <td style=\"text-align:left;\"> DDX11L1 </td>\n",
       "   <td style=\"text-align:right;\"> 1469 </td>\n",
       "   <td style=\"text-align:left;\"> Proximal </td>\n",
       "  </tr>\n",
       "  <tr>\n",
       "   <td style=\"text-align:left;\"> chr1 </td>\n",
       "   <td style=\"text-align:right;\"> 14282 </td>\n",
       "   <td style=\"text-align:right;\"> 14614 </td>\n",
       "   <td style=\"text-align:left;\"> chr1:14282-14614 </td>\n",
       "   <td style=\"text-align:left;\"> fcc_astarr_macs_input_overlap </td>\n",
       "   <td style=\"text-align:left;\"> genome_tss_pol2 </td>\n",
       "   <td style=\"text-align:left;\"> chr1:11873-11874 </td>\n",
       "   <td style=\"text-align:right;\"> 0.00023 </td>\n",
       "   <td style=\"text-align:left;\"> DDX11L1 </td>\n",
       "   <td style=\"text-align:right;\"> 2409 </td>\n",
       "   <td style=\"text-align:left;\"> Distal </td>\n",
       "  </tr>\n",
       "  <tr>\n",
       "   <td style=\"text-align:left;\"> chr1 </td>\n",
       "   <td style=\"text-align:right;\"> 16025 </td>\n",
       "   <td style=\"text-align:right;\"> 16338 </td>\n",
       "   <td style=\"text-align:left;\"> chr1:16025-16338 </td>\n",
       "   <td style=\"text-align:left;\"> fcc_astarr_macs_input_overlap </td>\n",
       "   <td style=\"text-align:left;\"> genome_tss_pol2 </td>\n",
       "   <td style=\"text-align:left;\"> chr1:17436-17437 </td>\n",
       "   <td style=\"text-align:right;\"> 9.43812 </td>\n",
       "   <td style=\"text-align:left;\"> MIR6859-1 </td>\n",
       "   <td style=\"text-align:right;\"> 1099 </td>\n",
       "   <td style=\"text-align:left;\"> Proximal </td>\n",
       "  </tr>\n",
       "</tbody>\n",
       "</table>"
      ]
     },
     "metadata": {},
     "output_type": "display_data"
    }
   ],
   "source": [
    "### loop and arrange table\n",
    "lst = lst_dat_region_annot_arrange\n",
    "lst = lapply(lst, function(dat){\n",
    "    dat = dat %>% dplyr::mutate(\n",
    "        TSS_Proximity = fun_label_tss_proximity(Distance2TSS),\n",
    "    )\n",
    "    return(dat)\n",
    "})\n",
    "\n",
    "### assign and show\n",
    "lst_dat_region_annot_result = lst\n",
    "\n",
    "res = lapply(lst, dim)\n",
    "print(res)\n",
    "\n",
    "dat = lst[[1]]\n",
    "fun_display_table(head(dat, 3))"
   ]
  },
  {
   "cell_type": "markdown",
   "id": "99587afc-dbc7-4edd-b290-f123088e983a",
   "metadata": {},
   "source": [
    "## Export results"
   ]
  },
  {
   "cell_type": "code",
   "execution_count": 23,
   "id": "915658e0-75d2-4532-8f2f-302b8cd6494d",
   "metadata": {},
   "outputs": [
    {
     "name": "stdout",
     "output_type": "stream",
     "text": [
      "Save file: \n",
      "Folder: fcc_astarr_macs_input_overlap \n",
      "Label:  genome_tss_pol2 \n",
      "/data/reddylab/Kuei/repo/Proj_ENCODE_FCC/results/region_closest/fcc_astarr_macs_input_overlap/summary/region.summary.genome_tss_pol2.tsv \n",
      "\n",
      "Save file: \n",
      "Folder: fcc_astarr_macs_input_overlap \n",
      "Label:  genome_tss_pol2_rnaseq \n",
      "/data/reddylab/Kuei/repo/Proj_ENCODE_FCC/results/region_closest/fcc_astarr_macs_input_overlap/summary/region.summary.genome_tss_pol2_rnaseq.tsv \n",
      "\n",
      "Save file: \n",
      "Folder: fcc_astarr_macs_input_union \n",
      "Label:  genome_tss_pol2 \n",
      "/data/reddylab/Kuei/repo/Proj_ENCODE_FCC/results/region_closest/fcc_astarr_macs_input_union/summary/region.summary.genome_tss_pol2.tsv \n",
      "\n",
      "Save file: \n",
      "Folder: fcc_astarr_macs_input_union \n",
      "Label:  genome_tss_pol2_rnaseq \n",
      "/data/reddylab/Kuei/repo/Proj_ENCODE_FCC/results/region_closest/fcc_astarr_macs_input_union/summary/region.summary.genome_tss_pol2_rnaseq.tsv \n",
      "\n"
     ]
    }
   ],
   "source": [
    "for (txt_folder in VEC_TXT_FOLDER){\n",
    "\n",
    "    ### get table\n",
    "    dat_region_annot_result = lst_dat_region_annot_result[[txt_folder]]\n",
    "    \n",
    "    ### set file directory\n",
    "    txt_fdiry = file.path(FD_RES, \"region_closest\", txt_folder, \"summary\")\n",
    "    dir.create(txt_fdiry, showWarnings = FALSE)\n",
    "\n",
    "    ### save for each annotation\n",
    "    dat = dat_region_annot_result\n",
    "    lst = split(dat, dat$Annotation_B)\n",
    "\n",
    "    for (txt_label in names(lst)){\n",
    "        ### set file directory\n",
    "        txt_fname = paste(\"region.summary\", txt_label, \"tsv\", sep = \".\")\n",
    "        txt_fpath = file.path(txt_fdiry, txt_fname)\n",
    "\n",
    "        ### save table\n",
    "        dat = lst[[txt_label]]\n",
    "        dat = dat %>% \n",
    "            dplyr::arrange(Chrom, ChromStart, ChromEnd) %>%\n",
    "            dplyr::distinct()\n",
    "        write_tsv(dat, txt_fpath)\n",
    "        \n",
    "        ### show progress\n",
    "        cat(\"Save file:\", \"\\n\")\n",
    "        cat(\"Folder:\", txt_folder, \"\\n\")\n",
    "        cat(\"Label: \", txt_label,  \"\\n\")\n",
    "        cat(txt_fpath,    \"\\n\")\n",
    "        cat(\"\\n\")\n",
    "        flush.console()\n",
    "    }\n",
    "}"
   ]
  },
  {
   "cell_type": "code",
   "execution_count": null,
   "id": "c2d86143-5c19-4774-a9fa-8cd2c9443c6c",
   "metadata": {},
   "outputs": [],
   "source": []
  },
  {
   "cell_type": "code",
   "execution_count": null,
   "id": "db086066-08b4-4b8d-a142-9cfe643eb89c",
   "metadata": {},
   "outputs": [],
   "source": []
  },
  {
   "cell_type": "markdown",
   "id": "1a8c4725-e390-4274-acad-29b57ef5a346",
   "metadata": {},
   "source": [
    "## Import, arrange, and save data"
   ]
  },
  {
   "cell_type": "markdown",
   "id": "3af7a26e-ca90-465d-a285-033ee7d42930",
   "metadata": {},
   "source": [
    "**Helper function for labeling region based on their TSS proximity**"
   ]
  },
  {
   "cell_type": "code",
   "execution_count": 2,
   "id": "ad6a23e9-2431-4e70-af9c-a40787527a8e",
   "metadata": {},
   "outputs": [],
   "source": [
    "fun_label_by_tss_proximity = function(vec_num_distance){\n",
    "    vec_txt_label = ifelse(\n",
    "        vec_num_distance <= 2000,\n",
    "        \"Proximal\",\n",
    "        \"Distal\"\n",
    "    )\n",
    "    return(vec_txt_label)\n",
    "}"
   ]
  },
  {
   "cell_type": "markdown",
   "id": "e3f0f1c8-f0f6-4717-ab22-8af82163c5dd",
   "metadata": {},
   "source": [
    "**Process each data**"
   ]
  },
  {
   "cell_type": "code",
   "execution_count": 3,
   "id": "12e41475-2ce3-4345-90c6-207c7a340921",
   "metadata": {},
   "outputs": [
    {
     "name": "stdout",
     "output_type": "stream",
     "text": [
      "Save: /data/reddylab/Kuei/repo/Proj_ENCODE_FCC/results/region_closest/fcc_astarr_macs_input_overlap/summary/region.summary.genome_tss.tsv \n",
      "\n",
      "Save: /data/reddylab/Kuei/repo/Proj_ENCODE_FCC/results/region_closest/fcc_astarr_macs_input_union/summary/region.summary.genome_tss.tsv \n",
      "\n"
     ]
    }
   ],
   "source": [
    "### init\n",
    "vec_txt_region_label = c(\n",
    "    \"fcc_astarr_macs_input_overlap\",\n",
    "    \"fcc_astarr_macs_input_union\"\n",
    ")\n",
    "\n",
    "### loop through each region pair file\n",
    "for (txt_region_label in  vec_txt_region_label){\n",
    "    \n",
    "    ### set file directory\n",
    "    txt_fdiry = file.path(\n",
    "        FD_RES, \n",
    "        \"region_closest\",\n",
    "        txt_region_label,\n",
    "        \"summary\"\n",
    "    )\n",
    "    txt_fname = \"region.pair.genome_tss.tsv\"\n",
    "    txt_fpath = file.path(txt_fdiry, txt_fname)\n",
    "    dat_region_pair = read_tsv(txt_fpath, show_col_types = FALSE)\n",
    "\n",
    "    ### select and rename columns\n",
    "    dat = dat_region_pair\n",
    "    dat = dat %>% \n",
    "        dplyr::filter(Annotation_B == \"genome_tss_pol2\") %>%\n",
    "        #dplyr::filter(Annotation_B == \"genome_tss_pol2_rnaseq\") %>%\n",
    "        dplyr::select(\n",
    "            Chrom_A, ChromStart_A, ChromEnd_A, Region_A, \n",
    "            Annotation_A, Annotation_B,\n",
    "            Distance\n",
    "        ) %>% \n",
    "        dplyr::distinct()\n",
    "    colnames(dat) = c(\n",
    "        \"Chrom\", \"ChromStart\", \"ChromEnd\", \"Region\",\n",
    "        \"Annotation_A\", \"Annotation_B\",\n",
    "        \"Distance2TSS\"\n",
    "    )\n",
    "    dat_region_rename = dat\n",
    "    \n",
    "    ### add label\n",
    "    dat = dat_region_rename\n",
    "    dat = dat %>%\n",
    "        dplyr::mutate(\n",
    "            TSS_Proximity = fun_label_by_tss_proximity(Distance2TSS),\n",
    "        )\n",
    "    dat_region_summary = dat\n",
    "\n",
    "    ### write table\n",
    "    txt_fname = \"region.summary.genome_tss.tsv\"\n",
    "    txt_fpath = file.path(txt_fdiry, txt_fname)\n",
    "    dat = dat_region_summary\n",
    "    write_tsv(dat, txt_fpath)\n",
    "\n",
    "    ### show progress\n",
    "    cat(\"Save:\", txt_fpath, \"\\n\")\n",
    "    cat(\"\\n\")\n",
    "}"
   ]
  },
  {
   "cell_type": "code",
   "execution_count": 4,
   "id": "3bcbe0ad-4bfa-41c7-80ae-1dbc2d75fd31",
   "metadata": {},
   "outputs": [
    {
     "data": {
      "text/html": [
       "<table class=\"dataframe\">\n",
       "<caption>A tibble: 6 × 15</caption>\n",
       "<thead>\n",
       "\t<tr><th scope=col>Chrom_A</th><th scope=col>ChromStart_A</th><th scope=col>ChromEnd_A</th><th scope=col>Region_A</th><th scope=col>Chrom_B</th><th scope=col>ChromStart_B</th><th scope=col>ChromEnd_B</th><th scope=col>Region_B</th><th scope=col>Gene_B</th><th scope=col>Score_B</th><th scope=col>Group_B</th><th scope=col>Label_B</th><th scope=col>Distance</th><th scope=col>Annotation_A</th><th scope=col>Annotation_B</th></tr>\n",
       "\t<tr><th scope=col>&lt;chr&gt;</th><th scope=col>&lt;dbl&gt;</th><th scope=col>&lt;dbl&gt;</th><th scope=col>&lt;chr&gt;</th><th scope=col>&lt;chr&gt;</th><th scope=col>&lt;dbl&gt;</th><th scope=col>&lt;dbl&gt;</th><th scope=col>&lt;chr&gt;</th><th scope=col>&lt;chr&gt;</th><th scope=col>&lt;dbl&gt;</th><th scope=col>&lt;chr&gt;</th><th scope=col>&lt;chr&gt;</th><th scope=col>&lt;dbl&gt;</th><th scope=col>&lt;chr&gt;</th><th scope=col>&lt;chr&gt;</th></tr>\n",
       "</thead>\n",
       "<tbody>\n",
       "\t<tr><td>chr1</td><td>10038</td><td>10405</td><td>chr1:10038-10405</td><td>chr1</td><td>11873</td><td>11874</td><td>chr1:11873-11874</td><td>DDX11L1  </td><td>0.00023</td><td>TSS_Pol2</td><td>DDX11L1  </td><td>1469</td><td>fcc_astarr_macs_input_overlap</td><td>genome_tss_pol2</td></tr>\n",
       "\t<tr><td>chr1</td><td>14282</td><td>14614</td><td>chr1:14282-14614</td><td>chr1</td><td>11873</td><td>11874</td><td>chr1:11873-11874</td><td>DDX11L1  </td><td>0.00023</td><td>TSS_Pol2</td><td>DDX11L1  </td><td>2409</td><td>fcc_astarr_macs_input_overlap</td><td>genome_tss_pol2</td></tr>\n",
       "\t<tr><td>chr1</td><td>16025</td><td>16338</td><td>chr1:16025-16338</td><td>chr1</td><td>17436</td><td>17437</td><td>chr1:17436-17437</td><td>MIR6859-1</td><td>9.43812</td><td>TSS_Pol2</td><td>MIR6859-1</td><td>1099</td><td>fcc_astarr_macs_input_overlap</td><td>genome_tss_pol2</td></tr>\n",
       "\t<tr><td>chr1</td><td>16025</td><td>16338</td><td>chr1:16025-16338</td><td>chr1</td><td>17436</td><td>17437</td><td>chr1:17436-17437</td><td>MIR6859-2</td><td>9.43812</td><td>TSS_Pol2</td><td>MIR6859-2</td><td>1099</td><td>fcc_astarr_macs_input_overlap</td><td>genome_tss_pol2</td></tr>\n",
       "\t<tr><td>chr1</td><td>16025</td><td>16338</td><td>chr1:16025-16338</td><td>chr1</td><td>17436</td><td>17437</td><td>chr1:17436-17437</td><td>MIR6859-3</td><td>9.43812</td><td>TSS_Pol2</td><td>MIR6859-3</td><td>1099</td><td>fcc_astarr_macs_input_overlap</td><td>genome_tss_pol2</td></tr>\n",
       "\t<tr><td>chr1</td><td>16025</td><td>16338</td><td>chr1:16025-16338</td><td>chr1</td><td>17436</td><td>17437</td><td>chr1:17436-17437</td><td>MIR6859-4</td><td>9.43812</td><td>TSS_Pol2</td><td>MIR6859-4</td><td>1099</td><td>fcc_astarr_macs_input_overlap</td><td>genome_tss_pol2</td></tr>\n",
       "</tbody>\n",
       "</table>\n"
      ],
      "text/latex": [
       "A tibble: 6 × 15\n",
       "\\begin{tabular}{lllllllllllllll}\n",
       " Chrom\\_A & ChromStart\\_A & ChromEnd\\_A & Region\\_A & Chrom\\_B & ChromStart\\_B & ChromEnd\\_B & Region\\_B & Gene\\_B & Score\\_B & Group\\_B & Label\\_B & Distance & Annotation\\_A & Annotation\\_B\\\\\n",
       " <chr> & <dbl> & <dbl> & <chr> & <chr> & <dbl> & <dbl> & <chr> & <chr> & <dbl> & <chr> & <chr> & <dbl> & <chr> & <chr>\\\\\n",
       "\\hline\n",
       "\t chr1 & 10038 & 10405 & chr1:10038-10405 & chr1 & 11873 & 11874 & chr1:11873-11874 & DDX11L1   & 0.00023 & TSS\\_Pol2 & DDX11L1   & 1469 & fcc\\_astarr\\_macs\\_input\\_overlap & genome\\_tss\\_pol2\\\\\n",
       "\t chr1 & 14282 & 14614 & chr1:14282-14614 & chr1 & 11873 & 11874 & chr1:11873-11874 & DDX11L1   & 0.00023 & TSS\\_Pol2 & DDX11L1   & 2409 & fcc\\_astarr\\_macs\\_input\\_overlap & genome\\_tss\\_pol2\\\\\n",
       "\t chr1 & 16025 & 16338 & chr1:16025-16338 & chr1 & 17436 & 17437 & chr1:17436-17437 & MIR6859-1 & 9.43812 & TSS\\_Pol2 & MIR6859-1 & 1099 & fcc\\_astarr\\_macs\\_input\\_overlap & genome\\_tss\\_pol2\\\\\n",
       "\t chr1 & 16025 & 16338 & chr1:16025-16338 & chr1 & 17436 & 17437 & chr1:17436-17437 & MIR6859-2 & 9.43812 & TSS\\_Pol2 & MIR6859-2 & 1099 & fcc\\_astarr\\_macs\\_input\\_overlap & genome\\_tss\\_pol2\\\\\n",
       "\t chr1 & 16025 & 16338 & chr1:16025-16338 & chr1 & 17436 & 17437 & chr1:17436-17437 & MIR6859-3 & 9.43812 & TSS\\_Pol2 & MIR6859-3 & 1099 & fcc\\_astarr\\_macs\\_input\\_overlap & genome\\_tss\\_pol2\\\\\n",
       "\t chr1 & 16025 & 16338 & chr1:16025-16338 & chr1 & 17436 & 17437 & chr1:17436-17437 & MIR6859-4 & 9.43812 & TSS\\_Pol2 & MIR6859-4 & 1099 & fcc\\_astarr\\_macs\\_input\\_overlap & genome\\_tss\\_pol2\\\\\n",
       "\\end{tabular}\n"
      ],
      "text/markdown": [
       "\n",
       "A tibble: 6 × 15\n",
       "\n",
       "| Chrom_A &lt;chr&gt; | ChromStart_A &lt;dbl&gt; | ChromEnd_A &lt;dbl&gt; | Region_A &lt;chr&gt; | Chrom_B &lt;chr&gt; | ChromStart_B &lt;dbl&gt; | ChromEnd_B &lt;dbl&gt; | Region_B &lt;chr&gt; | Gene_B &lt;chr&gt; | Score_B &lt;dbl&gt; | Group_B &lt;chr&gt; | Label_B &lt;chr&gt; | Distance &lt;dbl&gt; | Annotation_A &lt;chr&gt; | Annotation_B &lt;chr&gt; |\n",
       "|---|---|---|---|---|---|---|---|---|---|---|---|---|---|---|\n",
       "| chr1 | 10038 | 10405 | chr1:10038-10405 | chr1 | 11873 | 11874 | chr1:11873-11874 | DDX11L1   | 0.00023 | TSS_Pol2 | DDX11L1   | 1469 | fcc_astarr_macs_input_overlap | genome_tss_pol2 |\n",
       "| chr1 | 14282 | 14614 | chr1:14282-14614 | chr1 | 11873 | 11874 | chr1:11873-11874 | DDX11L1   | 0.00023 | TSS_Pol2 | DDX11L1   | 2409 | fcc_astarr_macs_input_overlap | genome_tss_pol2 |\n",
       "| chr1 | 16025 | 16338 | chr1:16025-16338 | chr1 | 17436 | 17437 | chr1:17436-17437 | MIR6859-1 | 9.43812 | TSS_Pol2 | MIR6859-1 | 1099 | fcc_astarr_macs_input_overlap | genome_tss_pol2 |\n",
       "| chr1 | 16025 | 16338 | chr1:16025-16338 | chr1 | 17436 | 17437 | chr1:17436-17437 | MIR6859-2 | 9.43812 | TSS_Pol2 | MIR6859-2 | 1099 | fcc_astarr_macs_input_overlap | genome_tss_pol2 |\n",
       "| chr1 | 16025 | 16338 | chr1:16025-16338 | chr1 | 17436 | 17437 | chr1:17436-17437 | MIR6859-3 | 9.43812 | TSS_Pol2 | MIR6859-3 | 1099 | fcc_astarr_macs_input_overlap | genome_tss_pol2 |\n",
       "| chr1 | 16025 | 16338 | chr1:16025-16338 | chr1 | 17436 | 17437 | chr1:17436-17437 | MIR6859-4 | 9.43812 | TSS_Pol2 | MIR6859-4 | 1099 | fcc_astarr_macs_input_overlap | genome_tss_pol2 |\n",
       "\n"
      ],
      "text/plain": [
       "  Chrom_A ChromStart_A ChromEnd_A Region_A         Chrom_B ChromStart_B\n",
       "1 chr1    10038        10405      chr1:10038-10405 chr1    11873       \n",
       "2 chr1    14282        14614      chr1:14282-14614 chr1    11873       \n",
       "3 chr1    16025        16338      chr1:16025-16338 chr1    17436       \n",
       "4 chr1    16025        16338      chr1:16025-16338 chr1    17436       \n",
       "5 chr1    16025        16338      chr1:16025-16338 chr1    17436       \n",
       "6 chr1    16025        16338      chr1:16025-16338 chr1    17436       \n",
       "  ChromEnd_B Region_B         Gene_B    Score_B Group_B  Label_B   Distance\n",
       "1 11874      chr1:11873-11874 DDX11L1   0.00023 TSS_Pol2 DDX11L1   1469    \n",
       "2 11874      chr1:11873-11874 DDX11L1   0.00023 TSS_Pol2 DDX11L1   2409    \n",
       "3 17437      chr1:17436-17437 MIR6859-1 9.43812 TSS_Pol2 MIR6859-1 1099    \n",
       "4 17437      chr1:17436-17437 MIR6859-2 9.43812 TSS_Pol2 MIR6859-2 1099    \n",
       "5 17437      chr1:17436-17437 MIR6859-3 9.43812 TSS_Pol2 MIR6859-3 1099    \n",
       "6 17437      chr1:17436-17437 MIR6859-4 9.43812 TSS_Pol2 MIR6859-4 1099    \n",
       "  Annotation_A                  Annotation_B   \n",
       "1 fcc_astarr_macs_input_overlap genome_tss_pol2\n",
       "2 fcc_astarr_macs_input_overlap genome_tss_pol2\n",
       "3 fcc_astarr_macs_input_overlap genome_tss_pol2\n",
       "4 fcc_astarr_macs_input_overlap genome_tss_pol2\n",
       "5 fcc_astarr_macs_input_overlap genome_tss_pol2\n",
       "6 fcc_astarr_macs_input_overlap genome_tss_pol2"
      ]
     },
     "metadata": {},
     "output_type": "display_data"
    }
   ],
   "source": [
    "head(dat_region_pair)"
   ]
  },
  {
   "cell_type": "code",
   "execution_count": null,
   "id": "07430007-fba7-4e65-a412-80c9a9ffbe72",
   "metadata": {},
   "outputs": [],
   "source": []
  }
 ],
 "metadata": {
  "kernelspec": {
   "display_name": "R",
   "language": "R",
   "name": "ir"
  },
  "language_info": {
   "codemirror_mode": "r",
   "file_extension": ".r",
   "mimetype": "text/x-r-source",
   "name": "R",
   "pygments_lexer": "r",
   "version": "4.5.1"
  }
 },
 "nbformat": 4,
 "nbformat_minor": 5
}
