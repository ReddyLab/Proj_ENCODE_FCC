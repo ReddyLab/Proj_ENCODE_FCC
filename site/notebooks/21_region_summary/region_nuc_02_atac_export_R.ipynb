{
 "cells": [
  {
   "cell_type": "raw",
   "id": "89227128-f1f1-4204-94bd-8998adc906fb",
   "metadata": {},
   "source": [
    "---\n",
    "title: Calculate GC% of ATAC regions 02\n",
    "subtitle: Summarize GC content\n",
    "format:\n",
    "    html:\n",
    "        code-fold:  true\n",
    "        code-tools: true\n",
    "---"
   ]
  },
  {
   "cell_type": "markdown",
   "id": "a81ccf04-68f1-4d6a-8986-b4f645adc267",
   "metadata": {},
   "source": [
    "**Set environment**"
   ]
  },
  {
   "cell_type": "code",
   "execution_count": 1,
   "id": "62174f74-9c54-48b2-909f-7ba9b594b238",
   "metadata": {
    "tags": []
   },
   "outputs": [
    {
     "name": "stdout",
     "output_type": "stream",
     "text": [
      "You are working on        Singularity: singularity_proj_encode_fcc \n",
      "BASE DIRECTORY (FD_BASE): /data/reddylab/Kuei \n",
      "REPO DIRECTORY (FD_REPO): /data/reddylab/Kuei/repo \n",
      "WORK DIRECTORY (FD_WORK): /data/reddylab/Kuei/work \n",
      "DATA DIRECTORY (FD_DATA): /data/reddylab/Kuei/data \n",
      "\n",
      "You are working with      ENCODE FCC \n",
      "PATH OF PROJECT (FD_PRJ): /data/reddylab/Kuei/repo/Proj_ENCODE_FCC \n",
      "PROJECT RESULTS (FD_RES): /data/reddylab/Kuei/repo/Proj_ENCODE_FCC/results \n",
      "PROJECT SCRIPTS (FD_EXE): /data/reddylab/Kuei/repo/Proj_ENCODE_FCC/scripts \n",
      "PROJECT DATA    (FD_DAT): /data/reddylab/Kuei/repo/Proj_ENCODE_FCC/data \n",
      "PROJECT NOTE    (FD_NBK): /data/reddylab/Kuei/repo/Proj_ENCODE_FCC/notebooks \n",
      "PROJECT DOCS    (FD_DOC): /data/reddylab/Kuei/repo/Proj_ENCODE_FCC/docs \n",
      "PROJECT LOG     (FD_LOG): /data/reddylab/Kuei/repo/Proj_ENCODE_FCC/log \n",
      "PROJECT REF     (FD_REF): /data/reddylab/Kuei/repo/Proj_ENCODE_FCC/references \n",
      "\n"
     ]
    }
   ],
   "source": [
    "suppressMessages(suppressWarnings(source(\"../run_config_project_sing.R\")))\n",
    "show_env()"
   ]
  },
  {
   "cell_type": "markdown",
   "id": "bab30737-ae3a-47d5-a302-6d5a68f8e1e6",
   "metadata": {},
   "source": [
    "**Set global variables**"
   ]
  },
  {
   "cell_type": "code",
   "execution_count": 2,
   "id": "03bafcf1-f5e6-4f82-8721-02536cb12150",
   "metadata": {},
   "outputs": [],
   "source": [
    "FP_REGION_LABEL = file.path(\n",
    "    FD_RES, \"region/summary/metadata.label.astarr_macs_merge.tsv\"\n",
    ")"
   ]
  },
  {
   "cell_type": "markdown",
   "id": "1e68f7c9-d93e-4f87-b2d3-190c9922aa3b",
   "metadata": {},
   "source": [
    "## Import data"
   ]
  },
  {
   "cell_type": "markdown",
   "id": "c0e4bd86-d8c7-4006-9bee-b0285c98b95a",
   "metadata": {},
   "source": [
    "**Read metatable of region**"
   ]
  },
  {
   "cell_type": "code",
   "execution_count": 3,
   "id": "76fb2472-18bd-4f53-93cc-fc82afcc2524",
   "metadata": {},
   "outputs": [
    {
     "data": {
      "text/html": [
       "<table class=\"dataframe\">\n",
       "<caption>A spec_tbl_df: 2 × 4</caption>\n",
       "<thead>\n",
       "\t<tr><th scope=col>Folder</th><th scope=col>FName</th><th scope=col>Label</th><th scope=col>FPath</th></tr>\n",
       "\t<tr><th scope=col>&lt;chr&gt;</th><th scope=col>&lt;chr&gt;</th><th scope=col>&lt;chr&gt;</th><th scope=col>&lt;chr&gt;</th></tr>\n",
       "</thead>\n",
       "<tbody>\n",
       "\t<tr><td>fcc_astarr_macs_merge</td><td>K562.hg38.ASTARR.macs.KS91.input.rep_all.max_overlaps.q5.bed.gz</td><td>fcc_astarr_macs_input_overlap</td><td>/data/reddylab/Kuei/repo/Proj_ENCODE_FCC/results/region/fcc_astarr_macs_merge/K562.hg38.ASTARR.macs.KS91.input.rep_all.max_overlaps.q5.bed.gz</td></tr>\n",
       "\t<tr><td>fcc_astarr_macs_merge</td><td>K562.hg38.ASTARR.macs.KS91.input.rep_all.union.q5.bed.gz       </td><td>fcc_astarr_macs_input_union  </td><td>/data/reddylab/Kuei/repo/Proj_ENCODE_FCC/results/region/fcc_astarr_macs_merge/K562.hg38.ASTARR.macs.KS91.input.rep_all.union.q5.bed.gz       </td></tr>\n",
       "</tbody>\n",
       "</table>\n"
      ],
      "text/latex": [
       "A spec\\_tbl\\_df: 2 × 4\n",
       "\\begin{tabular}{llll}\n",
       " Folder & FName & Label & FPath\\\\\n",
       " <chr> & <chr> & <chr> & <chr>\\\\\n",
       "\\hline\n",
       "\t fcc\\_astarr\\_macs\\_merge & K562.hg38.ASTARR.macs.KS91.input.rep\\_all.max\\_overlaps.q5.bed.gz & fcc\\_astarr\\_macs\\_input\\_overlap & /data/reddylab/Kuei/repo/Proj\\_ENCODE\\_FCC/results/region/fcc\\_astarr\\_macs\\_merge/K562.hg38.ASTARR.macs.KS91.input.rep\\_all.max\\_overlaps.q5.bed.gz\\\\\n",
       "\t fcc\\_astarr\\_macs\\_merge & K562.hg38.ASTARR.macs.KS91.input.rep\\_all.union.q5.bed.gz        & fcc\\_astarr\\_macs\\_input\\_union   & /data/reddylab/Kuei/repo/Proj\\_ENCODE\\_FCC/results/region/fcc\\_astarr\\_macs\\_merge/K562.hg38.ASTARR.macs.KS91.input.rep\\_all.union.q5.bed.gz       \\\\\n",
       "\\end{tabular}\n"
      ],
      "text/markdown": [
       "\n",
       "A spec_tbl_df: 2 × 4\n",
       "\n",
       "| Folder &lt;chr&gt; | FName &lt;chr&gt; | Label &lt;chr&gt; | FPath &lt;chr&gt; |\n",
       "|---|---|---|---|\n",
       "| fcc_astarr_macs_merge | K562.hg38.ASTARR.macs.KS91.input.rep_all.max_overlaps.q5.bed.gz | fcc_astarr_macs_input_overlap | /data/reddylab/Kuei/repo/Proj_ENCODE_FCC/results/region/fcc_astarr_macs_merge/K562.hg38.ASTARR.macs.KS91.input.rep_all.max_overlaps.q5.bed.gz |\n",
       "| fcc_astarr_macs_merge | K562.hg38.ASTARR.macs.KS91.input.rep_all.union.q5.bed.gz        | fcc_astarr_macs_input_union   | /data/reddylab/Kuei/repo/Proj_ENCODE_FCC/results/region/fcc_astarr_macs_merge/K562.hg38.ASTARR.macs.KS91.input.rep_all.union.q5.bed.gz        |\n",
       "\n"
      ],
      "text/plain": [
       "  Folder               \n",
       "1 fcc_astarr_macs_merge\n",
       "2 fcc_astarr_macs_merge\n",
       "  FName                                                          \n",
       "1 K562.hg38.ASTARR.macs.KS91.input.rep_all.max_overlaps.q5.bed.gz\n",
       "2 K562.hg38.ASTARR.macs.KS91.input.rep_all.union.q5.bed.gz       \n",
       "  Label                        \n",
       "1 fcc_astarr_macs_input_overlap\n",
       "2 fcc_astarr_macs_input_union  \n",
       "  FPath                                                                                                                                        \n",
       "1 /data/reddylab/Kuei/repo/Proj_ENCODE_FCC/results/region/fcc_astarr_macs_merge/K562.hg38.ASTARR.macs.KS91.input.rep_all.max_overlaps.q5.bed.gz\n",
       "2 /data/reddylab/Kuei/repo/Proj_ENCODE_FCC/results/region/fcc_astarr_macs_merge/K562.hg38.ASTARR.macs.KS91.input.rep_all.union.q5.bed.gz       "
      ]
     },
     "metadata": {},
     "output_type": "display_data"
    }
   ],
   "source": [
    "dat_region_label = read_tsv(FP_REGION_LABEL, show_col_types = FALSE)\n",
    "dat_region_label"
   ]
  },
  {
   "cell_type": "markdown",
   "id": "6f9acf40-fc03-45d7-8622-fe61f8c144c4",
   "metadata": {},
   "source": [
    "**Loop and read tables**"
   ]
  },
  {
   "cell_type": "code",
   "execution_count": 4,
   "id": "6583c688-b015-4b43-bd9a-835f2ffc8fd8",
   "metadata": {},
   "outputs": [
    {
     "name": "stdout",
     "output_type": "stream",
     "text": [
      "$fcc_astarr_macs_input_overlap\n",
      "$fcc_astarr_macs_input_overlap$Folder\n",
      "[1] \"fcc_astarr_macs_merge\"\n",
      "\n",
      "$fcc_astarr_macs_input_overlap$FName\n",
      "[1] \"K562.hg38.ASTARR.macs.KS91.input.rep_all.max_overlaps.q5.bed.gz\"\n",
      "\n",
      "$fcc_astarr_macs_input_overlap$Label\n",
      "[1] \"fcc_astarr_macs_input_overlap\"\n",
      "\n",
      "$fcc_astarr_macs_input_overlap$FPath\n",
      "[1] \"/data/reddylab/Kuei/repo/Proj_ENCODE_FCC/results/region/fcc_astarr_macs_merge/K562.hg38.ASTARR.macs.KS91.input.rep_all.max_overlaps.q5.bed.gz\"\n",
      "\n",
      "\n",
      "$fcc_astarr_macs_input_union\n",
      "$fcc_astarr_macs_input_union$Folder\n",
      "[1] \"fcc_astarr_macs_merge\"\n",
      "\n",
      "$fcc_astarr_macs_input_union$FName\n",
      "[1] \"K562.hg38.ASTARR.macs.KS91.input.rep_all.union.q5.bed.gz\"\n",
      "\n",
      "$fcc_astarr_macs_input_union$Label\n",
      "[1] \"fcc_astarr_macs_input_union\"\n",
      "\n",
      "$fcc_astarr_macs_input_union$FPath\n",
      "[1] \"/data/reddylab/Kuei/repo/Proj_ENCODE_FCC/results/region/fcc_astarr_macs_merge/K562.hg38.ASTARR.macs.KS91.input.rep_all.union.q5.bed.gz\"\n",
      "\n",
      "\n"
     ]
    }
   ],
   "source": [
    "### split metadata into list\n",
    "dat = dat_region_label\n",
    "lst = split(dat, 1:nrow(dat))\n",
    "lol = lapply(lst, as.list)\n",
    "\n",
    "### set names\n",
    "vec = unlist(lapply(lol, function(lst){lst$Label}))\n",
    "names(lol) = vec\n",
    "\n",
    "### assign and show\n",
    "lol_region_label = lol\n",
    "print(lol)"
   ]
  },
  {
   "cell_type": "code",
   "execution_count": 5,
   "id": "0385433c-5d55-43cf-8453-c7bcadb7b06c",
   "metadata": {},
   "outputs": [
    {
     "name": "stdout",
     "output_type": "stream",
     "text": [
      "$fcc_astarr_macs_input_overlap\n",
      "[1] 150042     13\n",
      "\n",
      "$fcc_astarr_macs_input_union\n",
      "[1] 246852     13\n",
      "\n"
     ]
    },
    {
     "data": {
      "text/html": [
       "<table>\n",
       " <thead>\n",
       "  <tr>\n",
       "   <th style=\"text-align:left;\"> Chrom </th>\n",
       "   <th style=\"text-align:right;\"> ChromStart </th>\n",
       "   <th style=\"text-align:right;\"> ChromEnd </th>\n",
       "   <th style=\"text-align:left;\"> Region </th>\n",
       "   <th style=\"text-align:right;\"> 5_pct_at </th>\n",
       "   <th style=\"text-align:right;\"> 6_pct_gc </th>\n",
       "   <th style=\"text-align:right;\"> 7_num_A </th>\n",
       "   <th style=\"text-align:right;\"> 8_num_C </th>\n",
       "   <th style=\"text-align:right;\"> 9_num_G </th>\n",
       "   <th style=\"text-align:right;\"> 10_num_T </th>\n",
       "   <th style=\"text-align:right;\"> 11_num_N </th>\n",
       "   <th style=\"text-align:right;\"> 12_num_oth </th>\n",
       "   <th style=\"text-align:right;\"> 13_seq_len </th>\n",
       "  </tr>\n",
       " </thead>\n",
       "<tbody>\n",
       "  <tr>\n",
       "   <td style=\"text-align:left;\"> chr1 </td>\n",
       "   <td style=\"text-align:right;\"> 10038 </td>\n",
       "   <td style=\"text-align:right;\"> 10405 </td>\n",
       "   <td style=\"text-align:left;\"> chr1:10038-10405 </td>\n",
       "   <td style=\"text-align:right;\"> 0.476839 </td>\n",
       "   <td style=\"text-align:right;\"> 0.523161 </td>\n",
       "   <td style=\"text-align:right;\"> 122 </td>\n",
       "   <td style=\"text-align:right;\"> 192 </td>\n",
       "   <td style=\"text-align:right;\"> 0 </td>\n",
       "   <td style=\"text-align:right;\"> 53 </td>\n",
       "   <td style=\"text-align:right;\"> 0 </td>\n",
       "   <td style=\"text-align:right;\"> 0 </td>\n",
       "   <td style=\"text-align:right;\"> 367 </td>\n",
       "  </tr>\n",
       "  <tr>\n",
       "   <td style=\"text-align:left;\"> chr1 </td>\n",
       "   <td style=\"text-align:right;\"> 14282 </td>\n",
       "   <td style=\"text-align:right;\"> 14614 </td>\n",
       "   <td style=\"text-align:left;\"> chr1:14282-14614 </td>\n",
       "   <td style=\"text-align:right;\"> 0.421687 </td>\n",
       "   <td style=\"text-align:right;\"> 0.578313 </td>\n",
       "   <td style=\"text-align:right;\"> 65 </td>\n",
       "   <td style=\"text-align:right;\"> 102 </td>\n",
       "   <td style=\"text-align:right;\"> 90 </td>\n",
       "   <td style=\"text-align:right;\"> 75 </td>\n",
       "   <td style=\"text-align:right;\"> 0 </td>\n",
       "   <td style=\"text-align:right;\"> 0 </td>\n",
       "   <td style=\"text-align:right;\"> 332 </td>\n",
       "  </tr>\n",
       "  <tr>\n",
       "   <td style=\"text-align:left;\"> chr1 </td>\n",
       "   <td style=\"text-align:right;\"> 16025 </td>\n",
       "   <td style=\"text-align:right;\"> 16338 </td>\n",
       "   <td style=\"text-align:left;\"> chr1:16025-16338 </td>\n",
       "   <td style=\"text-align:right;\"> 0.412141 </td>\n",
       "   <td style=\"text-align:right;\"> 0.587859 </td>\n",
       "   <td style=\"text-align:right;\"> 62 </td>\n",
       "   <td style=\"text-align:right;\"> 89 </td>\n",
       "   <td style=\"text-align:right;\"> 95 </td>\n",
       "   <td style=\"text-align:right;\"> 67 </td>\n",
       "   <td style=\"text-align:right;\"> 0 </td>\n",
       "   <td style=\"text-align:right;\"> 0 </td>\n",
       "   <td style=\"text-align:right;\"> 313 </td>\n",
       "  </tr>\n",
       "</tbody>\n",
       "</table>"
      ]
     },
     "metadata": {},
     "output_type": "display_data"
    }
   ],
   "source": [
    "lol = lol_region_label\n",
    "lst = lapply(lol, function(lst){\n",
    "    ### get region\n",
    "    txt_region_folder = lst$Folder\n",
    "    txt_region_label  = lst$Label\n",
    "\n",
    "    ### get column names for region\n",
    "    txt_fdiry = file.path(FD_RES, \"region\", txt_region_folder, \"summary\")\n",
    "    txt_fname = \"description.tsv\"\n",
    "    txt_fpath = file.path(txt_fdiry, txt_fname)\n",
    "    dat_cname = read_tsv(txt_fpath, show_col_types = FALSE)\n",
    "    vec_txt_cname = dat_cname$Name\n",
    "\n",
    "    ### set file directory\n",
    "    txt_fdiry = file.path(FD_RES, \"region_nuc\", txt_region_label)\n",
    "    txt_fname = paste(txt_region_label, \"bed.gz\", sep = \".\")\n",
    "    txt_fpath = file.path(txt_fdiry, txt_fname)\n",
    "\n",
    "    ### read table\n",
    "    dat = read_tsv(txt_fpath, show_col_types = FALSE)\n",
    "\n",
    "    ### rename column\n",
    "    vec = vec_txt_cname\n",
    "    colnames(dat)[1:length(vec)] = vec\n",
    "    return(dat)\n",
    "})\n",
    "\n",
    "### assign and show\n",
    "lst_dat_region_annot_import = lst\n",
    "\n",
    "res = lapply(lst, dim)\n",
    "print(res)\n",
    "\n",
    "dat = lst[[1]]\n",
    "fun_display_table(head(dat, 3))"
   ]
  },
  {
   "cell_type": "markdown",
   "id": "7c96ffa7-f02c-4e5e-b7e9-729ce2e776f2",
   "metadata": {},
   "source": [
    "## Arrange table"
   ]
  },
  {
   "cell_type": "code",
   "execution_count": 6,
   "id": "1bf58afe-b195-40a4-b8c9-74edbcb6e0d1",
   "metadata": {},
   "outputs": [
    {
     "name": "stdout",
     "output_type": "stream",
     "text": [
      "$fcc_astarr_macs_input_overlap\n",
      "[1] 150042      6\n",
      "\n",
      "$fcc_astarr_macs_input_union\n",
      "[1] 246852      6\n",
      "\n"
     ]
    },
    {
     "data": {
      "text/html": [
       "<table>\n",
       " <thead>\n",
       "  <tr>\n",
       "   <th style=\"text-align:left;\"> Chrom </th>\n",
       "   <th style=\"text-align:right;\"> ChromStart </th>\n",
       "   <th style=\"text-align:right;\"> ChromEnd </th>\n",
       "   <th style=\"text-align:left;\"> Region </th>\n",
       "   <th style=\"text-align:right;\"> pGC </th>\n",
       "   <th style=\"text-align:right;\"> Length </th>\n",
       "  </tr>\n",
       " </thead>\n",
       "<tbody>\n",
       "  <tr>\n",
       "   <td style=\"text-align:left;\"> chr1 </td>\n",
       "   <td style=\"text-align:right;\"> 10038 </td>\n",
       "   <td style=\"text-align:right;\"> 10405 </td>\n",
       "   <td style=\"text-align:left;\"> chr1:10038-10405 </td>\n",
       "   <td style=\"text-align:right;\"> 0.523161 </td>\n",
       "   <td style=\"text-align:right;\"> 367 </td>\n",
       "  </tr>\n",
       "  <tr>\n",
       "   <td style=\"text-align:left;\"> chr1 </td>\n",
       "   <td style=\"text-align:right;\"> 14282 </td>\n",
       "   <td style=\"text-align:right;\"> 14614 </td>\n",
       "   <td style=\"text-align:left;\"> chr1:14282-14614 </td>\n",
       "   <td style=\"text-align:right;\"> 0.578313 </td>\n",
       "   <td style=\"text-align:right;\"> 332 </td>\n",
       "  </tr>\n",
       "  <tr>\n",
       "   <td style=\"text-align:left;\"> chr1 </td>\n",
       "   <td style=\"text-align:right;\"> 16025 </td>\n",
       "   <td style=\"text-align:right;\"> 16338 </td>\n",
       "   <td style=\"text-align:left;\"> chr1:16025-16338 </td>\n",
       "   <td style=\"text-align:right;\"> 0.587859 </td>\n",
       "   <td style=\"text-align:right;\"> 313 </td>\n",
       "  </tr>\n",
       "</tbody>\n",
       "</table>"
      ]
     },
     "metadata": {},
     "output_type": "display_data"
    }
   ],
   "source": [
    "lst = lst_dat_region_annot_import\n",
    "lst = lapply(lst, function(dat){\n",
    "    dat = dat %>% \n",
    "        dplyr::select(\n",
    "            Chrom:Region, \n",
    "            contains(\"pct_gc\"), \n",
    "            contains(\"seq_len\")\n",
    "        )\n",
    "    colnames(dat) = c(\"Chrom\", \"ChromStart\", \"ChromEnd\", \"Region\", \"pGC\", \"Length\")\n",
    "    return(dat)\n",
    "})\n",
    "\n",
    "### assign and show\n",
    "lst_dat_region_annot_arrange = lst\n",
    "\n",
    "res = lapply(lst, dim)\n",
    "print(res)\n",
    "\n",
    "dat = lst[[1]]\n",
    "fun_display_table(head(dat, 3))"
   ]
  },
  {
   "cell_type": "markdown",
   "id": "de6f810e-fab1-4634-ba9a-b0d9dacd39d7",
   "metadata": {},
   "source": [
    "## Export results"
   ]
  },
  {
   "cell_type": "code",
   "execution_count": 7,
   "id": "0c7aa387-cdad-4142-b43f-7d852df5e23e",
   "metadata": {},
   "outputs": [
    {
     "name": "stdout",
     "output_type": "stream",
     "text": [
      "Save region nuc... \n",
      "FDiry: /data/reddylab/Kuei/repo/Proj_ENCODE_FCC/results/region_nuc/fcc_astarr_macs_input_overlap/summary \n",
      "FName: region.annotation.gc_content.tsv \n",
      "\n",
      "Save region nuc... \n",
      "FDiry: /data/reddylab/Kuei/repo/Proj_ENCODE_FCC/results/region_nuc/fcc_astarr_macs_input_union/summary \n",
      "FName: region.annotation.gc_content.tsv \n",
      "\n"
     ]
    }
   ],
   "source": [
    "lst = lst_dat_region_annot_arrange\n",
    "for (idx in names(lst)){\n",
    "    ### set directory\n",
    "    txt_label = idx\n",
    "    txt_fdiry = file.path(FD_RES, \"region_nuc\", txt_label, \"summary\")\n",
    "    txt_fname = paste(\"region\", \"annotation\", \"gc_content\",  \"tsv\", sep = \".\")\n",
    "    txt_fpath = file.path(txt_fdiry, txt_fname)\n",
    "    dir.create(txt_fdiry, showWarnings = FALSE)\n",
    "    \n",
    "    ### write data\n",
    "    dat = lst[[idx]]\n",
    "    write_tsv(dat, txt_fpath)\n",
    "    \n",
    "    ### show progress\n",
    "    cat(\"Save region nuc...\",  \"\\n\")\n",
    "    cat(\"FDiry:\", txt_fdiry, \"\\n\")\n",
    "    cat(\"FName:\", txt_fname, \"\\n\")\n",
    "    cat(\"\\n\")\n",
    "    flush.console()\n",
    "}"
   ]
  }
 ],
 "metadata": {
  "kernelspec": {
   "display_name": "R",
   "language": "R",
   "name": "ir"
  },
  "language_info": {
   "codemirror_mode": "r",
   "file_extension": ".r",
   "mimetype": "text/x-r-source",
   "name": "R",
   "pygments_lexer": "r",
   "version": "4.5.1"
  }
 },
 "nbformat": 4,
 "nbformat_minor": 5
}
