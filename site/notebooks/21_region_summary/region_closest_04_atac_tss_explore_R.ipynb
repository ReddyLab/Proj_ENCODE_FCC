{
 "cells": [
  {
   "cell_type": "raw",
   "id": "2b2e4c0a-9cca-41ea-9249-920332b1d567",
   "metadata": {},
   "source": [
    "---\n",
    "title: Region annotation 11 (ASTARR MACS peaks)\n",
    "subtitle: Summarize annotations (Main)\n",
    "format:\n",
    "    html:\n",
    "        code-fold:  true\n",
    "        code-tools: true\n",
    "---"
   ]
  },
  {
   "cell_type": "markdown",
   "id": "33db679a-7eef-40fa-9d11-3a43958b930c",
   "metadata": {},
   "source": [
    "**Set environment**"
   ]
  },
  {
   "cell_type": "code",
   "execution_count": 1,
   "id": "ac9eb5cf-48d0-4b0b-b153-45ebf1b7a98a",
   "metadata": {
    "tags": []
   },
   "outputs": [
    {
     "name": "stdout",
     "output_type": "stream",
     "text": [
      "You are working on        Singularity: singularity_proj_encode_fcc \n",
      "BASE DIRECTORY (FD_BASE): /data/reddylab/Kuei \n",
      "REPO DIRECTORY (FD_REPO): /data/reddylab/Kuei/repo \n",
      "WORK DIRECTORY (FD_WORK): /data/reddylab/Kuei/work \n",
      "DATA DIRECTORY (FD_DATA): /data/reddylab/Kuei/data \n",
      "\n",
      "You are working with      ENCODE FCC \n",
      "PATH OF PROJECT (FD_PRJ): /data/reddylab/Kuei/repo/Proj_ENCODE_FCC \n",
      "PROJECT RESULTS (FD_RES): /data/reddylab/Kuei/repo/Proj_ENCODE_FCC/results \n",
      "PROJECT SCRIPTS (FD_EXE): /data/reddylab/Kuei/repo/Proj_ENCODE_FCC/scripts \n",
      "PROJECT DATA    (FD_DAT): /data/reddylab/Kuei/repo/Proj_ENCODE_FCC/data \n",
      "PROJECT NOTE    (FD_NBK): /data/reddylab/Kuei/repo/Proj_ENCODE_FCC/notebooks \n",
      "PROJECT DOCS    (FD_DOC): /data/reddylab/Kuei/repo/Proj_ENCODE_FCC/docs \n",
      "PROJECT LOG     (FD_LOG): /data/reddylab/Kuei/repo/Proj_ENCODE_FCC/log \n",
      "PROJECT REF     (FD_REF): /data/reddylab/Kuei/repo/Proj_ENCODE_FCC/references \n",
      "\n"
     ]
    }
   ],
   "source": [
    "suppressMessages(suppressWarnings(source(\"../run_config_project_sing.R\")))\n",
    "show_env()"
   ]
  },
  {
   "cell_type": "markdown",
   "id": "828e34b8-acf8-489a-bc77-01b12f3a9582",
   "metadata": {},
   "source": [
    "## Prepare"
   ]
  },
  {
   "cell_type": "markdown",
   "id": "6fd2a860-71c4-4a7a-8d36-03aeee55b5c8",
   "metadata": {},
   "source": [
    "**Set global variable**"
   ]
  },
  {
   "cell_type": "code",
   "execution_count": 2,
   "id": "3b292ed5-e553-4d9f-9325-cb2e662db410",
   "metadata": {},
   "outputs": [
    {
     "name": "stdout",
     "output_type": "stream",
     "text": [
      "fcc_astarr_macs_input_overlap \n",
      "fcc_astarr_macs_input_union \n"
     ]
    }
   ],
   "source": [
    "vec = c(\n",
    "    \"fcc_astarr_macs_input_overlap\",\n",
    "    \"fcc_astarr_macs_input_union\"\n",
    ")\n",
    "names(vec) = vec\n",
    "\n",
    "VEC_TXT_FOLDER = vec\n",
    "for(txt in vec){cat(txt, \"\\n\")}"
   ]
  },
  {
   "cell_type": "code",
   "execution_count": 3,
   "id": "c7703f44-b7c2-413d-af09-944d50266402",
   "metadata": {},
   "outputs": [],
   "source": [
    "TXT_FNAME_INP = \"region.summary.genome_tss_pol2.tsv\""
   ]
  },
  {
   "cell_type": "markdown",
   "id": "25e32032-59d5-45f8-8875-e6127ca14889",
   "metadata": {},
   "source": [
    "**View files**"
   ]
  },
  {
   "cell_type": "code",
   "execution_count": 4,
   "id": "bccce019-9192-42db-92b1-85abc19b463b",
   "metadata": {},
   "outputs": [
    {
     "name": "stdout",
     "output_type": "stream",
     "text": [
      "/data/reddylab/Kuei/repo/Proj_ENCODE_FCC/results/region_closest/fcc_astarr_macs_input_overlap/summary/region.summary.genome_tss_pol2_rnaseq.tsv \n",
      "/data/reddylab/Kuei/repo/Proj_ENCODE_FCC/results/region_closest/fcc_astarr_macs_input_overlap/summary/region.summary.genome_tss_pol2.tsv \n",
      "/data/reddylab/Kuei/repo/Proj_ENCODE_FCC/results/region_closest/fcc_astarr_macs_input_union/summary/region.summary.genome_tss_pol2_rnaseq.tsv \n",
      "/data/reddylab/Kuei/repo/Proj_ENCODE_FCC/results/region_closest/fcc_astarr_macs_input_union/summary/region.summary.genome_tss_pol2.tsv \n"
     ]
    }
   ],
   "source": [
    "txt_fdiry = file.path(FD_RES, \"region_closest\", \"*\", \"summary\")\n",
    "txt_fname = \"region.summary.*.tsv\"\n",
    "txt_fglob = file.path(txt_fdiry, txt_fname)\n",
    "\n",
    "vec = Sys.glob(txt_fglob)\n",
    "for(txt in vec){cat(txt, \"\\n\")}"
   ]
  },
  {
   "cell_type": "markdown",
   "id": "e164fddd-df2b-4783-9d62-6ab3d80cb22e",
   "metadata": {},
   "source": [
    "## Import data"
   ]
  },
  {
   "cell_type": "code",
   "execution_count": 5,
   "id": "7cc7cde7-33f8-4a3a-a53a-2e99e4194850",
   "metadata": {},
   "outputs": [
    {
     "name": "stdout",
     "output_type": "stream",
     "text": [
      "$fcc_astarr_macs_input_overlap\n",
      "[1] 153357     11\n",
      "\n",
      "$fcc_astarr_macs_input_union\n",
      "[1] 250787     11\n",
      "\n"
     ]
    },
    {
     "data": {
      "text/html": [
       "<table>\n",
       " <thead>\n",
       "  <tr>\n",
       "   <th style=\"text-align:left;\"> Chrom </th>\n",
       "   <th style=\"text-align:right;\"> ChromStart </th>\n",
       "   <th style=\"text-align:right;\"> ChromEnd </th>\n",
       "   <th style=\"text-align:left;\"> Region </th>\n",
       "   <th style=\"text-align:left;\"> Annotation_A </th>\n",
       "   <th style=\"text-align:left;\"> Annotation_B </th>\n",
       "   <th style=\"text-align:left;\"> Region_TSS </th>\n",
       "   <th style=\"text-align:right;\"> Score_Pol2 </th>\n",
       "   <th style=\"text-align:left;\"> Gene </th>\n",
       "   <th style=\"text-align:right;\"> Distance2TSS </th>\n",
       "   <th style=\"text-align:left;\"> TSS_Proximity </th>\n",
       "  </tr>\n",
       " </thead>\n",
       "<tbody>\n",
       "  <tr>\n",
       "   <td style=\"text-align:left;\"> chr1 </td>\n",
       "   <td style=\"text-align:right;\"> 10038 </td>\n",
       "   <td style=\"text-align:right;\"> 10405 </td>\n",
       "   <td style=\"text-align:left;\"> chr1:10038-10405 </td>\n",
       "   <td style=\"text-align:left;\"> fcc_astarr_macs_input_overlap </td>\n",
       "   <td style=\"text-align:left;\"> genome_tss_pol2 </td>\n",
       "   <td style=\"text-align:left;\"> chr1:11873-11874 </td>\n",
       "   <td style=\"text-align:right;\"> 0.00023 </td>\n",
       "   <td style=\"text-align:left;\"> DDX11L1 </td>\n",
       "   <td style=\"text-align:right;\"> 1469 </td>\n",
       "   <td style=\"text-align:left;\"> Proximal </td>\n",
       "  </tr>\n",
       "  <tr>\n",
       "   <td style=\"text-align:left;\"> chr1 </td>\n",
       "   <td style=\"text-align:right;\"> 14282 </td>\n",
       "   <td style=\"text-align:right;\"> 14614 </td>\n",
       "   <td style=\"text-align:left;\"> chr1:14282-14614 </td>\n",
       "   <td style=\"text-align:left;\"> fcc_astarr_macs_input_overlap </td>\n",
       "   <td style=\"text-align:left;\"> genome_tss_pol2 </td>\n",
       "   <td style=\"text-align:left;\"> chr1:11873-11874 </td>\n",
       "   <td style=\"text-align:right;\"> 0.00023 </td>\n",
       "   <td style=\"text-align:left;\"> DDX11L1 </td>\n",
       "   <td style=\"text-align:right;\"> 2409 </td>\n",
       "   <td style=\"text-align:left;\"> Distal </td>\n",
       "  </tr>\n",
       "  <tr>\n",
       "   <td style=\"text-align:left;\"> chr1 </td>\n",
       "   <td style=\"text-align:right;\"> 16025 </td>\n",
       "   <td style=\"text-align:right;\"> 16338 </td>\n",
       "   <td style=\"text-align:left;\"> chr1:16025-16338 </td>\n",
       "   <td style=\"text-align:left;\"> fcc_astarr_macs_input_overlap </td>\n",
       "   <td style=\"text-align:left;\"> genome_tss_pol2 </td>\n",
       "   <td style=\"text-align:left;\"> chr1:17436-17437 </td>\n",
       "   <td style=\"text-align:right;\"> 9.43812 </td>\n",
       "   <td style=\"text-align:left;\"> MIR6859-1 </td>\n",
       "   <td style=\"text-align:right;\"> 1099 </td>\n",
       "   <td style=\"text-align:left;\"> Proximal </td>\n",
       "  </tr>\n",
       "</tbody>\n",
       "</table>"
      ]
     },
     "metadata": {},
     "output_type": "display_data"
    }
   ],
   "source": [
    "### loop to import data\n",
    "lst = lapply(VEC_TXT_FOLDER, function(txt_folder){\n",
    "    ### set file directory\n",
    "    txt_fdiry = file.path(FD_RES, \"region_closest\", txt_folder, \"summary\")\n",
    "    txt_fname = TXT_FNAME_INP\n",
    "    txt_fpath = file.path(txt_fdiry, txt_fname)\n",
    "\n",
    "    ### read table\n",
    "    dat = read_tsv(txt_fpath, show_col_types = FALSE)\n",
    "    return(dat)\n",
    "})\n",
    "\n",
    "### assign and show\n",
    "lst_dat_region_annot_import = lst\n",
    "\n",
    "res = lapply(lst, dim)\n",
    "print(res)\n",
    "\n",
    "dat = lst[[1]]\n",
    "fun_display_table(head(dat, 3))"
   ]
  },
  {
   "cell_type": "markdown",
   "id": "a5272a2a-20ee-413a-b4ef-31f68296fc3b",
   "metadata": {},
   "source": [
    "## Arrange table"
   ]
  },
  {
   "cell_type": "code",
   "execution_count": 6,
   "id": "a070366c-8ad4-4103-8b5e-6f54edf4dd5b",
   "metadata": {},
   "outputs": [
    {
     "name": "stdout",
     "output_type": "stream",
     "text": [
      "$fcc_astarr_macs_input_overlap\n",
      "[1] 153357     13\n",
      "\n",
      "$fcc_astarr_macs_input_union\n",
      "[1] 250787     13\n",
      "\n"
     ]
    },
    {
     "data": {
      "text/html": [
       "<table>\n",
       " <thead>\n",
       "  <tr>\n",
       "   <th style=\"text-align:left;\"> Chrom </th>\n",
       "   <th style=\"text-align:right;\"> ChromStart </th>\n",
       "   <th style=\"text-align:right;\"> ChromEnd </th>\n",
       "   <th style=\"text-align:left;\"> Region </th>\n",
       "   <th style=\"text-align:left;\"> Annotation_A </th>\n",
       "   <th style=\"text-align:left;\"> Annotation_B </th>\n",
       "   <th style=\"text-align:left;\"> Region_TSS </th>\n",
       "   <th style=\"text-align:right;\"> Score_Pol2 </th>\n",
       "   <th style=\"text-align:left;\"> Gene </th>\n",
       "   <th style=\"text-align:right;\"> Distance2TSS </th>\n",
       "   <th style=\"text-align:left;\"> TSS_Proximity </th>\n",
       "   <th style=\"text-align:right;\"> Distance </th>\n",
       "   <th style=\"text-align:left;\"> Label </th>\n",
       "  </tr>\n",
       " </thead>\n",
       "<tbody>\n",
       "  <tr>\n",
       "   <td style=\"text-align:left;\"> chr1 </td>\n",
       "   <td style=\"text-align:right;\"> 10038 </td>\n",
       "   <td style=\"text-align:right;\"> 10405 </td>\n",
       "   <td style=\"text-align:left;\"> chr1:10038-10405 </td>\n",
       "   <td style=\"text-align:left;\"> fcc_astarr_macs_input_overlap </td>\n",
       "   <td style=\"text-align:left;\"> genome_tss_pol2 </td>\n",
       "   <td style=\"text-align:left;\"> chr1:11873-11874 </td>\n",
       "   <td style=\"text-align:right;\"> 0.00023 </td>\n",
       "   <td style=\"text-align:left;\"> DDX11L1 </td>\n",
       "   <td style=\"text-align:right;\"> 1469 </td>\n",
       "   <td style=\"text-align:left;\"> Proximal </td>\n",
       "   <td style=\"text-align:right;\"> 1469 </td>\n",
       "   <td style=\"text-align:left;\"> Proximal </td>\n",
       "  </tr>\n",
       "  <tr>\n",
       "   <td style=\"text-align:left;\"> chr1 </td>\n",
       "   <td style=\"text-align:right;\"> 14282 </td>\n",
       "   <td style=\"text-align:right;\"> 14614 </td>\n",
       "   <td style=\"text-align:left;\"> chr1:14282-14614 </td>\n",
       "   <td style=\"text-align:left;\"> fcc_astarr_macs_input_overlap </td>\n",
       "   <td style=\"text-align:left;\"> genome_tss_pol2 </td>\n",
       "   <td style=\"text-align:left;\"> chr1:11873-11874 </td>\n",
       "   <td style=\"text-align:right;\"> 0.00023 </td>\n",
       "   <td style=\"text-align:left;\"> DDX11L1 </td>\n",
       "   <td style=\"text-align:right;\"> 2409 </td>\n",
       "   <td style=\"text-align:left;\"> Distal </td>\n",
       "   <td style=\"text-align:right;\"> 2409 </td>\n",
       "   <td style=\"text-align:left;\"> Distal </td>\n",
       "  </tr>\n",
       "  <tr>\n",
       "   <td style=\"text-align:left;\"> chr1 </td>\n",
       "   <td style=\"text-align:right;\"> 16025 </td>\n",
       "   <td style=\"text-align:right;\"> 16338 </td>\n",
       "   <td style=\"text-align:left;\"> chr1:16025-16338 </td>\n",
       "   <td style=\"text-align:left;\"> fcc_astarr_macs_input_overlap </td>\n",
       "   <td style=\"text-align:left;\"> genome_tss_pol2 </td>\n",
       "   <td style=\"text-align:left;\"> chr1:17436-17437 </td>\n",
       "   <td style=\"text-align:right;\"> 9.43812 </td>\n",
       "   <td style=\"text-align:left;\"> MIR6859-1 </td>\n",
       "   <td style=\"text-align:right;\"> 1099 </td>\n",
       "   <td style=\"text-align:left;\"> Proximal </td>\n",
       "   <td style=\"text-align:right;\"> 1099 </td>\n",
       "   <td style=\"text-align:left;\"> Proximal </td>\n",
       "  </tr>\n",
       "</tbody>\n",
       "</table>"
      ]
     },
     "metadata": {},
     "output_type": "display_data"
    }
   ],
   "source": [
    "lst = lst_dat_region_annot_import \n",
    "lst = lapply(lst, function(dat){\n",
    "    dat = dat %>% dplyr::mutate(\n",
    "        Distance = Distance2TSS,\n",
    "        Label    = TSS_Proximity\n",
    "    )\n",
    "    return(dat)\n",
    "})\n",
    "\n",
    "### assign and show\n",
    "lst_dat_region_annot_arrange = lst\n",
    "\n",
    "res = lapply(lst, dim)\n",
    "print(res)\n",
    "\n",
    "dat = lst[[1]]\n",
    "fun_display_table(head(dat, 3))"
   ]
  },
  {
   "cell_type": "markdown",
   "id": "7d40fc3a-2a22-4782-8dd8-92f1836bb83f",
   "metadata": {},
   "source": [
    "## Explore data"
   ]
  },
  {
   "cell_type": "markdown",
   "id": "0d50a4a0-d1ea-415d-b3ac-25efa2644756",
   "metadata": {},
   "source": [
    "### Distribution of distance"
   ]
  },
  {
   "cell_type": "markdown",
   "id": "cb4aff29-4c2c-4454-b244-4efa00f39b1f",
   "metadata": {},
   "source": [
    "**Check missing values**"
   ]
  },
  {
   "cell_type": "code",
   "execution_count": 7,
   "id": "1f2089f1-17ff-49f9-b3ad-0fddbfaea861",
   "metadata": {},
   "outputs": [
    {
     "name": "stdout",
     "output_type": "stream",
     "text": [
      "$fcc_astarr_macs_input_overlap\n",
      "[1] 0\n",
      "\n",
      "$fcc_astarr_macs_input_union\n",
      "[1] 0\n",
      "\n"
     ]
    }
   ],
   "source": [
    "lst = lst_dat_region_annot_arrange\n",
    "lst = lapply(lst, function(dat){\n",
    "    vec = dat$Distance\n",
    "    num = sum(is.na(vec))\n",
    "    return(num)\n",
    "})\n",
    "print(lst)"
   ]
  },
  {
   "cell_type": "markdown",
   "id": "9b76ff79-b8ff-4d58-b887-6643ebb22304",
   "metadata": {},
   "source": [
    "**Check region uniqueness**"
   ]
  },
  {
   "cell_type": "code",
   "execution_count": 8,
   "id": "1122d205-2f07-41f1-8341-2069e8e47e7e",
   "metadata": {},
   "outputs": [
    {
     "name": "stdout",
     "output_type": "stream",
     "text": [
      "[1] 153357     13\n",
      "[1] 153357\n",
      "[1] 150042\n"
     ]
    },
    {
     "data": {
      "text/html": [
       "<table class=\"dataframe\">\n",
       "<caption>A tibble: 6 × 13</caption>\n",
       "<thead>\n",
       "\t<tr><th scope=col>Chrom</th><th scope=col>ChromStart</th><th scope=col>ChromEnd</th><th scope=col>Region</th><th scope=col>Annotation_A</th><th scope=col>Annotation_B</th><th scope=col>Region_TSS</th><th scope=col>Score_Pol2</th><th scope=col>Gene</th><th scope=col>Distance2TSS</th><th scope=col>TSS_Proximity</th><th scope=col>Distance</th><th scope=col>Label</th></tr>\n",
       "\t<tr><th scope=col>&lt;chr&gt;</th><th scope=col>&lt;dbl&gt;</th><th scope=col>&lt;dbl&gt;</th><th scope=col>&lt;chr&gt;</th><th scope=col>&lt;chr&gt;</th><th scope=col>&lt;chr&gt;</th><th scope=col>&lt;chr&gt;</th><th scope=col>&lt;dbl&gt;</th><th scope=col>&lt;chr&gt;</th><th scope=col>&lt;dbl&gt;</th><th scope=col>&lt;chr&gt;</th><th scope=col>&lt;dbl&gt;</th><th scope=col>&lt;chr&gt;</th></tr>\n",
       "</thead>\n",
       "<tbody>\n",
       "\t<tr><td>chr1</td><td>10038</td><td>10405</td><td>chr1:10038-10405</td><td>fcc_astarr_macs_input_overlap</td><td>genome_tss_pol2</td><td>chr1:11873-11874</td><td>0.00023</td><td>DDX11L1  </td><td>1469</td><td>Proximal</td><td>1469</td><td>Proximal</td></tr>\n",
       "\t<tr><td>chr1</td><td>14282</td><td>14614</td><td>chr1:14282-14614</td><td>fcc_astarr_macs_input_overlap</td><td>genome_tss_pol2</td><td>chr1:11873-11874</td><td>0.00023</td><td>DDX11L1  </td><td>2409</td><td>Distal  </td><td>2409</td><td>Distal  </td></tr>\n",
       "\t<tr><td>chr1</td><td>16025</td><td>16338</td><td>chr1:16025-16338</td><td>fcc_astarr_macs_input_overlap</td><td>genome_tss_pol2</td><td>chr1:17436-17437</td><td>9.43812</td><td>MIR6859-1</td><td>1099</td><td>Proximal</td><td>1099</td><td>Proximal</td></tr>\n",
       "\t<tr><td>chr1</td><td>16025</td><td>16338</td><td>chr1:16025-16338</td><td>fcc_astarr_macs_input_overlap</td><td>genome_tss_pol2</td><td>chr1:17436-17437</td><td>9.43812</td><td>MIR6859-2</td><td>1099</td><td>Proximal</td><td>1099</td><td>Proximal</td></tr>\n",
       "\t<tr><td>chr1</td><td>16025</td><td>16338</td><td>chr1:16025-16338</td><td>fcc_astarr_macs_input_overlap</td><td>genome_tss_pol2</td><td>chr1:17436-17437</td><td>9.43812</td><td>MIR6859-3</td><td>1099</td><td>Proximal</td><td>1099</td><td>Proximal</td></tr>\n",
       "\t<tr><td>chr1</td><td>16025</td><td>16338</td><td>chr1:16025-16338</td><td>fcc_astarr_macs_input_overlap</td><td>genome_tss_pol2</td><td>chr1:17436-17437</td><td>9.43812</td><td>MIR6859-4</td><td>1099</td><td>Proximal</td><td>1099</td><td>Proximal</td></tr>\n",
       "</tbody>\n",
       "</table>\n"
      ],
      "text/latex": [
       "A tibble: 6 × 13\n",
       "\\begin{tabular}{lllllllllllll}\n",
       " Chrom & ChromStart & ChromEnd & Region & Annotation\\_A & Annotation\\_B & Region\\_TSS & Score\\_Pol2 & Gene & Distance2TSS & TSS\\_Proximity & Distance & Label\\\\\n",
       " <chr> & <dbl> & <dbl> & <chr> & <chr> & <chr> & <chr> & <dbl> & <chr> & <dbl> & <chr> & <dbl> & <chr>\\\\\n",
       "\\hline\n",
       "\t chr1 & 10038 & 10405 & chr1:10038-10405 & fcc\\_astarr\\_macs\\_input\\_overlap & genome\\_tss\\_pol2 & chr1:11873-11874 & 0.00023 & DDX11L1   & 1469 & Proximal & 1469 & Proximal\\\\\n",
       "\t chr1 & 14282 & 14614 & chr1:14282-14614 & fcc\\_astarr\\_macs\\_input\\_overlap & genome\\_tss\\_pol2 & chr1:11873-11874 & 0.00023 & DDX11L1   & 2409 & Distal   & 2409 & Distal  \\\\\n",
       "\t chr1 & 16025 & 16338 & chr1:16025-16338 & fcc\\_astarr\\_macs\\_input\\_overlap & genome\\_tss\\_pol2 & chr1:17436-17437 & 9.43812 & MIR6859-1 & 1099 & Proximal & 1099 & Proximal\\\\\n",
       "\t chr1 & 16025 & 16338 & chr1:16025-16338 & fcc\\_astarr\\_macs\\_input\\_overlap & genome\\_tss\\_pol2 & chr1:17436-17437 & 9.43812 & MIR6859-2 & 1099 & Proximal & 1099 & Proximal\\\\\n",
       "\t chr1 & 16025 & 16338 & chr1:16025-16338 & fcc\\_astarr\\_macs\\_input\\_overlap & genome\\_tss\\_pol2 & chr1:17436-17437 & 9.43812 & MIR6859-3 & 1099 & Proximal & 1099 & Proximal\\\\\n",
       "\t chr1 & 16025 & 16338 & chr1:16025-16338 & fcc\\_astarr\\_macs\\_input\\_overlap & genome\\_tss\\_pol2 & chr1:17436-17437 & 9.43812 & MIR6859-4 & 1099 & Proximal & 1099 & Proximal\\\\\n",
       "\\end{tabular}\n"
      ],
      "text/markdown": [
       "\n",
       "A tibble: 6 × 13\n",
       "\n",
       "| Chrom &lt;chr&gt; | ChromStart &lt;dbl&gt; | ChromEnd &lt;dbl&gt; | Region &lt;chr&gt; | Annotation_A &lt;chr&gt; | Annotation_B &lt;chr&gt; | Region_TSS &lt;chr&gt; | Score_Pol2 &lt;dbl&gt; | Gene &lt;chr&gt; | Distance2TSS &lt;dbl&gt; | TSS_Proximity &lt;chr&gt; | Distance &lt;dbl&gt; | Label &lt;chr&gt; |\n",
       "|---|---|---|---|---|---|---|---|---|---|---|---|---|\n",
       "| chr1 | 10038 | 10405 | chr1:10038-10405 | fcc_astarr_macs_input_overlap | genome_tss_pol2 | chr1:11873-11874 | 0.00023 | DDX11L1   | 1469 | Proximal | 1469 | Proximal |\n",
       "| chr1 | 14282 | 14614 | chr1:14282-14614 | fcc_astarr_macs_input_overlap | genome_tss_pol2 | chr1:11873-11874 | 0.00023 | DDX11L1   | 2409 | Distal   | 2409 | Distal   |\n",
       "| chr1 | 16025 | 16338 | chr1:16025-16338 | fcc_astarr_macs_input_overlap | genome_tss_pol2 | chr1:17436-17437 | 9.43812 | MIR6859-1 | 1099 | Proximal | 1099 | Proximal |\n",
       "| chr1 | 16025 | 16338 | chr1:16025-16338 | fcc_astarr_macs_input_overlap | genome_tss_pol2 | chr1:17436-17437 | 9.43812 | MIR6859-2 | 1099 | Proximal | 1099 | Proximal |\n",
       "| chr1 | 16025 | 16338 | chr1:16025-16338 | fcc_astarr_macs_input_overlap | genome_tss_pol2 | chr1:17436-17437 | 9.43812 | MIR6859-3 | 1099 | Proximal | 1099 | Proximal |\n",
       "| chr1 | 16025 | 16338 | chr1:16025-16338 | fcc_astarr_macs_input_overlap | genome_tss_pol2 | chr1:17436-17437 | 9.43812 | MIR6859-4 | 1099 | Proximal | 1099 | Proximal |\n",
       "\n"
      ],
      "text/plain": [
       "  Chrom ChromStart ChromEnd Region           Annotation_A                 \n",
       "1 chr1  10038      10405    chr1:10038-10405 fcc_astarr_macs_input_overlap\n",
       "2 chr1  14282      14614    chr1:14282-14614 fcc_astarr_macs_input_overlap\n",
       "3 chr1  16025      16338    chr1:16025-16338 fcc_astarr_macs_input_overlap\n",
       "4 chr1  16025      16338    chr1:16025-16338 fcc_astarr_macs_input_overlap\n",
       "5 chr1  16025      16338    chr1:16025-16338 fcc_astarr_macs_input_overlap\n",
       "6 chr1  16025      16338    chr1:16025-16338 fcc_astarr_macs_input_overlap\n",
       "  Annotation_B    Region_TSS       Score_Pol2 Gene      Distance2TSS\n",
       "1 genome_tss_pol2 chr1:11873-11874 0.00023    DDX11L1   1469        \n",
       "2 genome_tss_pol2 chr1:11873-11874 0.00023    DDX11L1   2409        \n",
       "3 genome_tss_pol2 chr1:17436-17437 9.43812    MIR6859-1 1099        \n",
       "4 genome_tss_pol2 chr1:17436-17437 9.43812    MIR6859-2 1099        \n",
       "5 genome_tss_pol2 chr1:17436-17437 9.43812    MIR6859-3 1099        \n",
       "6 genome_tss_pol2 chr1:17436-17437 9.43812    MIR6859-4 1099        \n",
       "  TSS_Proximity Distance Label   \n",
       "1 Proximal      1469     Proximal\n",
       "2 Distal        2409     Distal  \n",
       "3 Proximal      1099     Proximal\n",
       "4 Proximal      1099     Proximal\n",
       "5 Proximal      1099     Proximal\n",
       "6 Proximal      1099     Proximal"
      ]
     },
     "metadata": {},
     "output_type": "display_data"
    }
   ],
   "source": [
    "lst = lst = lst_dat_region_annot_arrange\n",
    "dat = lst[[\"fcc_astarr_macs_input_overlap\"]]\n",
    "\n",
    "print(dim(dat))\n",
    "print(length(dat$Region))\n",
    "print(length(unique(dat$Region)))\n",
    "head(dat)"
   ]
  },
  {
   "cell_type": "markdown",
   "id": "3a53576f-8a9f-42b4-b253-b8bbd476e5ae",
   "metadata": {},
   "source": [
    "**Helper function to get the mode of a continuous variable**"
   ]
  },
  {
   "cell_type": "code",
   "execution_count": 9,
   "id": "f45ce0dd-d4f8-44c4-94f6-8cf61af01795",
   "metadata": {},
   "outputs": [],
   "source": [
    "fun_get_mode_continuous <- function(x, ...) {\n",
    "    obj = density(x, ...)\n",
    "    num = obj$x[which.max(obj$y)]\n",
    "    return(num)\n",
    "}"
   ]
  },
  {
   "cell_type": "markdown",
   "id": "84a7b075-748d-454c-950d-c5b50eed6fcb",
   "metadata": {},
   "source": [
    "**Summary distance information**"
   ]
  },
  {
   "cell_type": "code",
   "execution_count": 10,
   "id": "7aea7374-334e-41a6-9ddc-62df79deae8f",
   "metadata": {},
   "outputs": [
    {
     "name": "stdout",
     "output_type": "stream",
     "text": [
      "Label: TSS proximity \n",
      "\n",
      "  Distal Proximal \n",
      "  130280    23077 \n",
      "\n",
      "Mode of Distance: \n",
      "Mode = 4.452467 kb \n",
      "\n",
      "Count of Distance: \n",
      "Count (D==0) = 16143 \n",
      "Count (D<=2) = 23077 \n",
      "\n",
      "Summary of Distance > 0: \n",
      "    Min.  1st Qu.   Median     Mean  3rd Qu.     Max. \n",
      "   0.001   10.760   25.990   50.543   58.812 2186.727 \n",
      "\n"
     ]
    }
   ],
   "source": [
    "### init\n",
    "lst = lst = lst_dat_region_annot_arrange\n",
    "dat = lst[[\"fcc_astarr_macs_input_overlap\"]]\n",
    "dat = dat %>% dplyr::mutate(Distance = Distance / 1000)\n",
    "\n",
    "### Count of labels\n",
    "cat(\"Label: TSS proximity\", \"\\n\")\n",
    "res = table(dat$Label)\n",
    "print(res)\n",
    "cat(\"\\n\")\n",
    "\n",
    "### Mode of distance\n",
    "cat(\"Mode of Distance:\", \"\\n\")\n",
    "vec = dat$Distance\n",
    "num = fun_get_mode_continuous(vec)\n",
    "cat(\"Mode =\", num, \"kb\", \"\\n\")\n",
    "cat(\"\\n\")\n",
    "\n",
    "\n",
    "### Count of distance\n",
    "cat(\"Count of Distance:\", \"\\n\")\n",
    "vec = dat$Distance\n",
    "cat(\"Count (D==0) =\", sum(vec == 0), \"\\n\")\n",
    "cat(\"Count (D<=2) =\", sum(vec <= 2), \"\\n\")\n",
    "cat(\"\\n\")\n",
    "\n",
    "### Summary for non-zero distance\n",
    "cat(\"Summary of Distance > 0:\", \"\\n\")\n",
    "tmp = dat %>% dplyr::filter(Distance > 0)\n",
    "vec = tmp$Distance\n",
    "res = summary(vec)\n",
    "print(res)\n",
    "cat(\"\\n\")"
   ]
  },
  {
   "cell_type": "markdown",
   "id": "e5a51139-b2c8-4447-8d5a-ac3c87e24693",
   "metadata": {},
   "source": [
    "**Plot distance distribution**"
   ]
  },
  {
   "cell_type": "code",
   "execution_count": 11,
   "id": "20778c2a-e9c0-42ac-9cda-6da7eb3db3fa",
   "metadata": {},
   "outputs": [
    {
     "data": {
      "image/png": "[encoded data removed]",
      "text/plain": [
       "plot without title"
      ]
     },
     "metadata": {
      "image/png": {
       "height": 240,
       "width": 420
      }
     },
     "output_type": "display_data"
    }
   ],
   "source": [
    "lst = lst_dat_region_annot_arrange\n",
    "dat = lst[[\"fcc_astarr_macs_input_overlap\"]]\n",
    "dat = dat %>% dplyr::mutate(Distance = Distance / 1000)\n",
    "\n",
    "gpt = ggplot(dat, aes(x=Distance)) +\n",
    "     geom_histogram(bins=100) +\n",
    "     theme_cowplot() +\n",
    "     background_grid()\n",
    "\n",
    "options(repr.plot.height = 4, repr.plot.width = 7) \n",
    "print(gpt)"
   ]
  },
  {
   "cell_type": "code",
   "execution_count": 12,
   "id": "da9e89fe-a049-4e91-9d93-68fd16fdab36",
   "metadata": {},
   "outputs": [
    {
     "data": {
      "image/png": "[encoded data removed]",
      "text/plain": [
       "plot without title"
      ]
     },
     "metadata": {
      "image/png": {
       "height": 240,
       "width": 420
      }
     },
     "output_type": "display_data"
    }
   ],
   "source": [
    "lst = lst_dat_region_annot_arrange\n",
    "dat = lst[[\"fcc_astarr_macs_input_overlap\"]]\n",
    "dat = dat %>% dplyr::mutate(Distance = Distance / 1000)\n",
    "dat = dat %>% dplyr::filter(Distance > 0)\n",
    "\n",
    "gpt = ggplot(dat, aes(x=Distance)) +\n",
    "     geom_histogram(bins=100) +\n",
    "     theme_cowplot() +\n",
    "     background_grid()\n",
    "\n",
    "options(repr.plot.height = 4, repr.plot.width = 7) \n",
    "print(gpt)"
   ]
  },
  {
   "cell_type": "code",
   "execution_count": 13,
   "id": "d7872fbc-3632-4a6d-bbe8-81cd5284ff9b",
   "metadata": {},
   "outputs": [
    {
     "data": {
      "image/png": "[encoded data removed]",
      "text/plain": [
       "plot without title"
      ]
     },
     "metadata": {
      "image/png": {
       "height": 240,
       "width": 420
      }
     },
     "output_type": "display_data"
    }
   ],
   "source": [
    "lst = lst_dat_region_annot_arrange\n",
    "dat = lst[[\"fcc_astarr_macs_input_overlap\"]]\n",
    "dat = dat %>% dplyr::mutate(Distance = Distance / 1000)\n",
    "\n",
    "dat = dat %>% dplyr::filter(Distance > 0, Distance < 10)\n",
    "gpt = ggplot(dat, aes(x=Distance)) +\n",
    "     geom_histogram(bins=100) +\n",
    "     theme_cowplot() +\n",
    "     background_grid()\n",
    "\n",
    "options(repr.plot.height = 4, repr.plot.width = 7) \n",
    "print(gpt)"
   ]
  },
  {
   "cell_type": "code",
   "execution_count": 14,
   "id": "56feb8a9-7550-44bf-9639-265bff7c0e56",
   "metadata": {},
   "outputs": [
    {
     "name": "stderr",
     "output_type": "stream",
     "text": [
      "Warning message in scale_y_log10():\n",
      "“\u001b[1m\u001b[22m\u001b[32mlog-10\u001b[39m transformation introduced infinite values.”\n",
      "Warning message:\n",
      "“\u001b[1m\u001b[22mRemoved 36 rows containing missing values or values outside the scale range\n",
      "(`geom_bar()`).”\n"
     ]
    },
    {
     "data": {
      "image/png": "[encoded data removed]",
      "text/plain": [
       "plot without title"
      ]
     },
     "metadata": {
      "image/png": {
       "height": 240,
       "width": 420
      }
     },
     "output_type": "display_data"
    }
   ],
   "source": [
    "lst = lst_dat_region_annot_arrange\n",
    "dat = lst[[\"fcc_astarr_macs_input_overlap\"]]\n",
    "dat = dat %>% dplyr::mutate(Distance = Distance / 1000)\n",
    "\n",
    "dat = dat %>% dplyr::filter(Distance > 0)\n",
    "gpt = ggplot(dat, aes(x=Distance)) +\n",
    "     geom_histogram(bins=100) +\n",
    "     theme_cowplot() +\n",
    "     background_grid() +\n",
    "     scale_y_log10()\n",
    "\n",
    "options(repr.plot.height = 4, repr.plot.width = 7) \n",
    "print(gpt)"
   ]
  },
  {
   "cell_type": "markdown",
   "id": "498817bc-d715-44d9-abeb-7417874756b1",
   "metadata": {},
   "source": [
    "## Save figures"
   ]
  },
  {
   "cell_type": "markdown",
   "id": "3f286c4d-7561-4500-b98e-9966db6738a3",
   "metadata": {},
   "source": [
    "**Helper function for region label**"
   ]
  },
  {
   "cell_type": "code",
   "execution_count": 15,
   "id": "68f9e8ba-a33a-409f-b681-f1d9f7cc888f",
   "metadata": {},
   "outputs": [
    {
     "data": {
      "text/html": [
       "'ATAC (Overlap)'"
      ],
      "text/latex": [
       "'ATAC (Overlap)'"
      ],
      "text/markdown": [
       "'ATAC (Overlap)'"
      ],
      "text/plain": [
       "[1] \"ATAC (Overlap)\""
      ]
     },
     "metadata": {},
     "output_type": "display_data"
    }
   ],
   "source": [
    "fun_str_map_label = function(vec_txt_input){\n",
    "    vec_txt_pattern = c(\"overlap\", \"union\")\n",
    "    vec_txt_replace = c(\"ATAC (Overlap)\", \"ATAC (Union)\")\n",
    "    vec_txt_output  = fun_str_map_detect(\n",
    "        vec_txt_input,\n",
    "        vec_txt_pattern,\n",
    "        vec_txt_replace\n",
    "    )\n",
    "    return(vec_txt_output)\n",
    "}\n",
    "\n",
    "fun_str_map_label(\"ASTARR_overlap\")"
   ]
  },
  {
   "cell_type": "markdown",
   "id": "0363cac4-d1e5-47fb-9597-4e97d1ce41a5",
   "metadata": {},
   "source": [
    "**Set text size**"
   ]
  },
  {
   "cell_type": "code",
   "execution_count": 16,
   "id": "896fce09-1d7f-4dc3-a32c-b3206b1ab3ce",
   "metadata": {},
   "outputs": [],
   "source": [
    "### set text size\n",
    "theme_text = theme(\n",
    "    title      = element_text(size = 16),\n",
    "    axis.title = element_text(size = 16),\n",
    "    axis.text  = element_text(size = 14)\n",
    ")"
   ]
  },
  {
   "cell_type": "markdown",
   "id": "b6dd78be-e7fb-4850-b187-5e9588b36118",
   "metadata": {},
   "source": [
    "**Plot distribution of distance (0-10kb)**"
   ]
  },
  {
   "cell_type": "code",
   "execution_count": 17,
   "id": "171c44e9-94ae-4b61-b4b6-933485c6ac87",
   "metadata": {},
   "outputs": [
    {
     "data": {
      "image/png": "[encoded data removed]",
      "text/plain": [
       "plot without title"
      ]
     },
     "metadata": {
      "image/png": {
       "height": 360,
       "width": 420
      }
     },
     "output_type": "display_data"
    }
   ],
   "source": [
    "### init\n",
    "lst = lst_dat_region_annot_arrange\n",
    "lst = lapply(lst, function(dat){\n",
    "    dat = dat %>% dplyr::mutate(Distance = Distance / 1000)\n",
    "    return(dat)\n",
    "})\n",
    "\n",
    "### loop through each table to plot\n",
    "lst = lapply(names(lst), function(idx){\n",
    "    ### get and process data\n",
    "    dat = lst[[idx]]\n",
    "    tmp = dat %>% dplyr::filter(Distance > 0, Distance <= 10)\n",
    "\n",
    "    ### set text\n",
    "    txt = fun_str_map_label(idx)\n",
    "    txt = paste(txt, \"(0-10kb)\")\n",
    "    txt_title = txt\n",
    "                \n",
    "    ### create plot\n",
    "    gpt = ggplot(tmp, aes(x=Distance)) +\n",
    "        geom_histogram(bins=100) +\n",
    "        theme_cowplot() +\n",
    "        background_grid() +\n",
    "        theme_text +\n",
    "        labs(\n",
    "            x = \"Distance to nearest TSS (kb)\",\n",
    "            y = \"Count\",\n",
    "            title = txt_title\n",
    "        )\n",
    "    return(gpt)\n",
    "})\n",
    "\n",
    "### assign plot\n",
    "lst_gpt_export_subset = lst\n",
    "\n",
    "### show plot\n",
    "options(repr.plot.height = 6, repr.plot.width = 7) \n",
    "plot_grid(plotlist = lst, ncol=1, align = \"v\")"
   ]
  },
  {
   "cell_type": "markdown",
   "id": "7097a8ce-a174-407e-a319-d8f9d16497a8",
   "metadata": {},
   "source": [
    "**Plot distribution of distance (Total)**"
   ]
  },
  {
   "cell_type": "code",
   "execution_count": 22,
   "id": "427e0e67-f06f-4ace-87da-3444672da20e",
   "metadata": {},
   "outputs": [
    {
     "name": "stderr",
     "output_type": "stream",
     "text": [
      "Warning message:\n",
      "“\u001b[1m\u001b[22mRemoved 1 row containing non-finite outside the scale range (`stat_bin()`).”\n",
      "Warning message in scale_y_log10(breaks = vec_num_breaks, labels = vec_txt_breaks):\n",
      "“\u001b[1m\u001b[22m\u001b[32mlog-10\u001b[39m transformation introduced infinite values.”\n",
      "Warning message:\n",
      "“\u001b[1m\u001b[22mRemoved 10 rows containing missing values or values outside the scale range\n",
      "(`geom_bar()`).”\n",
      "Warning message:\n",
      "“\u001b[1m\u001b[22mRemoved 6 rows containing non-finite outside the scale range (`stat_bin()`).”\n",
      "Warning message in scale_y_log10(breaks = vec_num_breaks, labels = vec_txt_breaks):\n",
      "“\u001b[1m\u001b[22m\u001b[32mlog-10\u001b[39m transformation introduced infinite values.”\n",
      "Warning message:\n",
      "“\u001b[1m\u001b[22mRemoved 6 rows containing missing values or values outside the scale range\n",
      "(`geom_bar()`).”\n"
     ]
    },
    {
     "data": {
      "image/png": "[encoded data removed]",
      "text/plain": [
       "plot without title"
      ]
     },
     "metadata": {
      "image/png": {
       "height": 420,
       "width": 420
      }
     },
     "output_type": "display_data"
    }
   ],
   "source": [
    "### init\n",
    "lst = lst_dat_region_annot_arrange\n",
    "lst = lapply(lst, function(dat){\n",
    "    dat = dat %>% dplyr::mutate(Distance = Distance / 1000)\n",
    "    return(dat)\n",
    "})\n",
    "\n",
    "### loop through each table to plot\n",
    "lst = lapply(names(lst), function(idx){\n",
    "    ### get data and process data\n",
    "    dat = lst[[idx]]\n",
    "    tmp = dat %>% dplyr::filter(Distance > 0)\n",
    "    vec = dat$Distance\n",
    "    \n",
    "    ### set text\n",
    "    txt_title = fun_str_map_label(idx)\n",
    "    txt_line1 = paste(\"Count (Total):\", scales::comma(length(vec)))\n",
    "    txt_line2 = paste(\"Count (D == 0):\", scales::comma(sum(vec == 0)))\n",
    "    txt_line3 = paste(\"Count (D <= 2kb):\", scales::comma(sum(vec <= 2)))\n",
    "    txt_line4 = paste(\"Mode ~\", round(fun_get_mode_continuous(vec), 2), \"kb\")\n",
    "    txt_line5 = paste(\"Max ~\",  round(max(vec)/1000, 2), \"Mb\")\n",
    "    txt_annot = paste(txt_line1, txt_line2, txt_line3, txt_line4, txt_line5, sep = \"\\n\")\n",
    "    \n",
    "    ### create plot\n",
    "    vec_num_breaks = c(1, 10, 100, 1000, 10000, 100000, 1000000)\n",
    "    vec_txt_breaks = format(vec_num_breaks, scientific = FALSE)\n",
    "    gpt = ggplot(tmp, aes(x=Distance)) +\n",
    "        geom_histogram(bins=100) +\n",
    "        theme_cowplot() +\n",
    "        background_grid() +\n",
    "        theme_text +\n",
    "        labs(\n",
    "            x = \"Distance to nearest TSS (kb)\",\n",
    "            y = \"Count\",\n",
    "            title = txt_title\n",
    "        ) +\n",
    "        scale_y_log10(\n",
    "            breaks = vec_num_breaks,\n",
    "            labels = vec_txt_breaks\n",
    "        ) +\n",
    "        annotate(\n",
    "            \"label\", \n",
    "            x = 800,\n",
    "            y = Inf,\n",
    "            label = txt_annot,\n",
    "            fill  = \"white\",\n",
    "            size  = 4.5,\n",
    "            hjust = 0,\n",
    "            vjust = 1.2\n",
    "        ) +\n",
    "        xlim(0, 1500)\n",
    "    return(gpt)\n",
    "})\n",
    "\n",
    "### assign plot\n",
    "lst_gpt_export_total = lst\n",
    "\n",
    "### show plot\n",
    "options(repr.plot.height = 7, repr.plot.width = 7) \n",
    "plot_grid(plotlist = lst, ncol=1, align = \"v\")"
   ]
  },
  {
   "cell_type": "markdown",
   "id": "c0779295-b4e6-4ace-94ac-9993a735e752",
   "metadata": {},
   "source": [
    "**Combine plots**"
   ]
  },
  {
   "cell_type": "code",
   "execution_count": 23,
   "id": "950baae3-f1f7-417a-b905-ed92b203626c",
   "metadata": {},
   "outputs": [
    {
     "name": "stderr",
     "output_type": "stream",
     "text": [
      "Warning message:\n",
      "“\u001b[1m\u001b[22mRemoved 1 row containing non-finite outside the scale range (`stat_bin()`).”\n",
      "Warning message in scale_y_log10(breaks = vec_num_breaks, labels = vec_txt_breaks):\n",
      "“\u001b[1m\u001b[22m\u001b[32mlog-10\u001b[39m transformation introduced infinite values.”\n",
      "Warning message:\n",
      "“\u001b[1m\u001b[22mRemoved 10 rows containing missing values or values outside the scale range\n",
      "(`geom_bar()`).”\n",
      "Warning message:\n",
      "“\u001b[1m\u001b[22mRemoved 6 rows containing non-finite outside the scale range (`stat_bin()`).”\n",
      "Warning message in scale_y_log10(breaks = vec_num_breaks, labels = vec_txt_breaks):\n",
      "“\u001b[1m\u001b[22m\u001b[32mlog-10\u001b[39m transformation introduced infinite values.”\n",
      "Warning message:\n",
      "“\u001b[1m\u001b[22mRemoved 6 rows containing missing values or values outside the scale range\n",
      "(`geom_bar()`).”\n"
     ]
    },
    {
     "data": {
      "image/png": "[encoded data removed]",
      "text/plain": [
       "plot without title"
      ]
     },
     "metadata": {
      "image/png": {
       "height": 420,
       "width": 840
      }
     },
     "output_type": "display_data"
    }
   ],
   "source": [
    "### arrange plots\n",
    "lst = list(\n",
    "    lst_gpt_export_subset[[1]] + labs(x=\"\"),\n",
    "    lst_gpt_export_subset[[2]] + labs(x=\"\"),\n",
    "    lst_gpt_export_total[[1]], \n",
    "    lst_gpt_export_total[[2]]\n",
    ")\n",
    "plt = plot_grid(plotlist = lst, ncol=2, align = \"v\")\n",
    "\n",
    "### assign plot\n",
    "plt_export = plt\n",
    "\n",
    "### show plot\n",
    "options(repr.plot.height = 7, repr.plot.width = 14) \n",
    "print(plt)"
   ]
  },
  {
   "cell_type": "markdown",
   "id": "8bd88231-a081-4889-aff7-03400896dae6",
   "metadata": {},
   "source": [
    "**Save plots**"
   ]
  },
  {
   "cell_type": "code",
   "execution_count": 24,
   "id": "0247fb8e-13a3-4fc8-ac95-7b62f0abcc92",
   "metadata": {},
   "outputs": [],
   "source": [
    "txt_fdiry = \"./\"\n",
    "txt_fname = \"fig.region_pair.atac_tss.distribution.distance.png\"\n",
    "txt_fpath = file.path(txt_fdiry, txt_fname)\n",
    "ggsave(txt_fpath, plt_export, height = 7, width = 14, units = \"in\")\n",
    "\n",
    "txt_fdiry = \"./\"\n",
    "txt_fname = \"fig.region_pair.atac_tss.distribution.distance.svg\"\n",
    "txt_fpath = file.path(txt_fdiry, txt_fname)\n",
    "ggsave(txt_fpath, plt_export, height = 7, width = 14, units = \"in\")"
   ]
  },
  {
   "cell_type": "code",
   "execution_count": null,
   "id": "da48a8fe-bdac-4027-bb5c-328c6ff1cec4",
   "metadata": {},
   "outputs": [],
   "source": []
  }
 ],
 "metadata": {
  "kernelspec": {
   "display_name": "R",
   "language": "R",
   "name": "ir"
  },
  "language_info": {
   "codemirror_mode": "r",
   "file_extension": ".r",
   "mimetype": "text/x-r-source",
   "name": "R",
   "pygments_lexer": "r",
   "version": "4.5.1"
  }
 },
 "nbformat": 4,
 "nbformat_minor": 5
}
