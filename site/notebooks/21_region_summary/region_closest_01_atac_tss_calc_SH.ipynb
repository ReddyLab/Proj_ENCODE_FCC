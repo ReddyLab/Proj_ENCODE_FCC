{
 "cells": [
  {
   "cell_type": "raw",
   "id": "09085a8a-f756-4c95-a866-3cbf6e8bdd5d",
   "metadata": {},
   "source": [
    "---\n",
    "title: Calculate GC% of ATAC regions 01\n",
    "subtitle: Run bedtools nuc\n",
    "format:\n",
    "    html:\n",
    "        code-fold:  true\n",
    "        code-tools: true\n",
    "---"
   ]
  },
  {
   "cell_type": "markdown",
   "id": "b48c9e67-e08b-46b0-875c-1712b64b181b",
   "metadata": {},
   "source": [
    "**set environment**"
   ]
  },
  {
   "cell_type": "code",
   "execution_count": 1,
   "id": "02ba7b9d-1e1e-45dd-bc75-5387cd4d646d",
   "metadata": {},
   "outputs": [
    {
     "name": "stdout",
     "output_type": "stream",
     "text": [
      "You are working on             Duke Server: RCC\n",
      "BASE DIRECTORY (FD_BASE):      /data/reddylab/Kuei\n",
      "REPO DIRECTORY (FD_REPO):      /data/reddylab/Kuei/repo\n",
      "WORK DIRECTORY (FD_WORK):      /data/reddylab/Kuei/work\n",
      "DATA DIRECTORY (FD_DATA):      /data/reddylab/Kuei/data\n",
      "CONTAINER DIR. (FD_SING):      /data/reddylab/Kuei/container\n",
      "\n",
      "You are working with           ENCODE FCC\n",
      "PATH OF PROJECT (FD_PRJ):      /data/reddylab/Kuei/repo/Proj_ENCODE_FCC\n",
      "PROJECT RESULTS (FD_RES):      /data/reddylab/Kuei/repo/Proj_ENCODE_FCC/results\n",
      "PROJECT SCRIPTS (FD_EXE):      /data/reddylab/Kuei/repo/Proj_ENCODE_FCC/scripts\n",
      "PROJECT DATA    (FD_DAT):      /data/reddylab/Kuei/repo/Proj_ENCODE_FCC/data\n",
      "PROJECT NOTE    (FD_NBK):      /data/reddylab/Kuei/repo/Proj_ENCODE_FCC/notebooks\n",
      "PROJECT DOCS    (FD_DOC):      /data/reddylab/Kuei/repo/Proj_ENCODE_FCC/docs\n",
      "PROJECT LOG     (FD_LOG):      /data/reddylab/Kuei/repo/Proj_ENCODE_FCC/log\n",
      "PROJECT REF     (FD_REF):      /data/reddylab/Kuei/repo/Proj_ENCODE_FCC/references\n",
      "PROJECT IMAGE   (FP_PRJ_SIF):  /data/reddylab/Kuei/container/project/singularity_proj_encode_fcc.sif\n",
      "PROJECT CONF.   (FP_CNF):      /data/reddylab/Kuei/repo/Proj_ENCODE_FCC/scripts/config_project.sh\n",
      "\n"
     ]
    }
   ],
   "source": [
    "source ../run_config_project.sh\n",
    "show_env"
   ]
  },
  {
   "cell_type": "markdown",
   "id": "1aa7e7ad-f1dd-4428-8b35-2d1360e46319",
   "metadata": {},
   "source": [
    "## Preview"
   ]
  },
  {
   "cell_type": "markdown",
   "id": "01e2b136-9448-45c7-994f-5d7d8ae62323",
   "metadata": {},
   "source": [
    "**Check region 01 file**"
   ]
  },
  {
   "cell_type": "code",
   "execution_count": 2,
   "id": "b12a56a9-5f00-4734-a2f8-1505527b3c7c",
   "metadata": {},
   "outputs": [
    {
     "name": "stdout",
     "output_type": "stream",
     "text": [
      "Folder\tFName\tLabel\n",
      "fcc_astarr_macs\tK562.hg38.ASTARR.macs.KS91.input.rep_all.max_overlaps.q5.bed.gz\tfcc_astarr_macs_input_overlap\n",
      "fcc_astarr_macs\tK562.hg38.ASTARR.macs.KS91.input.rep_all.union.q5.bed.gz\tfcc_astarr_macs_input_union\n"
     ]
    }
   ],
   "source": [
    "FP_REGION_LABEL=${FD_RES}/region/summary/metadata.label.astarr_macs.tsv\n",
    "cat ${FP_REGION_LABEL}"
   ]
  },
  {
   "cell_type": "code",
   "execution_count": 3,
   "id": "1f8ba35b-d34f-42b4-ae81-f843d320b1a0",
   "metadata": {},
   "outputs": [
    {
     "name": "stdout",
     "output_type": "stream",
     "text": [
      "\u001b[0m\u001b[01;31m/data/reddylab/Kuei/repo/Proj_ENCODE_FCC/results/region/fcc_astarr_macs/K562.hg38.ASTARR.macs.KS91.input.rep_all.max_overlaps.q5.bed.gz\u001b[0m\u001b[K\n"
     ]
    }
   ],
   "source": [
    "FD_INP=${FD_RES}/region/fcc_astarr_macs\n",
    "FN_INP=\"K562.hg38.ASTARR.macs.KS91.input.rep_all.max_overlaps.q5.bed.gz\"\n",
    "FP_INP=${FD_INP}/${FN_INP}\n",
    "\n",
    "ls ${FP_INP}"
   ]
  },
  {
   "cell_type": "markdown",
   "id": "aa3cad9e-ea24-4ffb-b61a-b479d8404ad9",
   "metadata": {},
   "source": [
    "**Check region 02 file**"
   ]
  },
  {
   "cell_type": "code",
   "execution_count": 4,
   "id": "424c71a6-aa4a-4cfc-bc4b-9976b04a6f96",
   "metadata": {},
   "outputs": [
    {
     "name": "stdout",
     "output_type": "stream",
     "text": [
      "\u001b[0m\u001b[01;31mK562.hg38.TSS.selected_by_highest_Pol2_signal.bed.gz\u001b[0m\n",
      "\u001b[01;31mK562.hg38.TSS.selected_by_highest_Pol2_signal.filtered_by_RNAseq_TPM.bed.gz\u001b[0m\n",
      "K562.hg38.TSS.selected_by_highest_Pol2_signal.filtered_by_RNAseq_TPM.tsv\n",
      "K562.hg38.TSS.selected_by_highest_Pol2_signal.tsv\n",
      "\u001b[01;34msummary\u001b[0m\n"
     ]
    }
   ],
   "source": [
    "ls ${FD_RES}/region/genome_tss"
   ]
  },
  {
   "cell_type": "code",
   "execution_count": 5,
   "id": "bb4c9920-23d5-4975-ab53-bf84eebedb93",
   "metadata": {},
   "outputs": [
    {
     "name": "stdout",
     "output_type": "stream",
     "text": [
      "description.tsv  metadata.label.tsv\n"
     ]
    }
   ],
   "source": [
    "ls ${FD_RES}/region/genome_tss/summary"
   ]
  },
  {
   "cell_type": "code",
   "execution_count": 6,
   "id": "917cd0a4-c0c7-4e60-90b6-48a77d7c3467",
   "metadata": {},
   "outputs": [
    {
     "name": "stdout",
     "output_type": "stream",
     "text": [
      "Folder\tFName\tLabel\n",
      "genome_tss\tK562.hg38.TSS.selected_by_highest_Pol2_signal.bed.gz\tgenome_tss_pol2\n",
      "genome_tss\tK562.hg38.TSS.selected_by_highest_Pol2_signal.filtered_by_RNAseq_TPM.bed.gz\tgenome_tss_pol2_rnaseq\n"
     ]
    }
   ],
   "source": [
    "FP_REGION_LABEL=${FD_RES}/region/genome_tss/summary/metadata.label.tsv\n",
    "cat ${FP_REGION_LABEL}"
   ]
  },
  {
   "cell_type": "markdown",
   "id": "40003c4a-0332-4415-8faa-d1b674a2e10b",
   "metadata": {},
   "source": [
    "**Check loop**"
   ]
  },
  {
   "cell_type": "code",
   "execution_count": 8,
   "id": "c026b8a8-9208-42c4-95c7-6fc1a3d19714",
   "metadata": {},
   "outputs": [
    {
     "name": "stdout",
     "output_type": "stream",
     "text": [
      "==============================\n",
      "Input  Label A: fcc_astarr_macs_input_overlap\n",
      "Input  Label B: genome_tss_pol2\n",
      "\n",
      "Output FDiry:   /data/reddylab/Kuei/repo/Proj_ENCODE_FCC/results/region_closest/fcc_astarr_macs_input_overlap/genome_tss\n",
      "Output FName:   fcc_astarr_macs_input_overlap.genome_tss_pol2.bed.gz\n",
      "Log    FPath:   ${FD_LOG}/region.closest.fcc_astarr_macs_input_overlap.genome_tss_pol2.txt\n",
      "\n",
      "==============================\n",
      "Input  Label A: fcc_astarr_macs_input_overlap\n",
      "Input  Label B: genome_tss_pol2_rnaseq\n",
      "\n",
      "Output FDiry:   /data/reddylab/Kuei/repo/Proj_ENCODE_FCC/results/region_closest/fcc_astarr_macs_input_overlap/genome_tss\n",
      "Output FName:   fcc_astarr_macs_input_overlap.genome_tss_pol2_rnaseq.bed.gz\n",
      "Log    FPath:   ${FD_LOG}/region.closest.fcc_astarr_macs_input_overlap.genome_tss_pol2_rnaseq.txt\n",
      "\n",
      "==============================\n",
      "Input  Label A: fcc_astarr_macs_input_union\n",
      "Input  Label B: genome_tss_pol2\n",
      "\n",
      "Output FDiry:   /data/reddylab/Kuei/repo/Proj_ENCODE_FCC/results/region_closest/fcc_astarr_macs_input_union/genome_tss\n",
      "Output FName:   fcc_astarr_macs_input_union.genome_tss_pol2.bed.gz\n",
      "Log    FPath:   ${FD_LOG}/region.closest.fcc_astarr_macs_input_union.genome_tss_pol2.txt\n",
      "\n",
      "==============================\n",
      "Input  Label A: fcc_astarr_macs_input_union\n",
      "Input  Label B: genome_tss_pol2_rnaseq\n",
      "\n",
      "Output FDiry:   /data/reddylab/Kuei/repo/Proj_ENCODE_FCC/results/region_closest/fcc_astarr_macs_input_union/genome_tss\n",
      "Output FName:   fcc_astarr_macs_input_union.genome_tss_pol2_rnaseq.bed.gz\n",
      "Log    FPath:   ${FD_LOG}/region.closest.fcc_astarr_macs_input_union.genome_tss_pol2_rnaseq.txt\n",
      "\n"
     ]
    }
   ],
   "source": [
    "### init\n",
    "FP_REGION_LABEL_A=${FD_RES}/region/summary/metadata.label.astarr_macs.tsv\n",
    "FP_REGION_LABEL_B=${FD_RES}/region/genome_tss/summary/metadata.label.tsv\n",
    "\n",
    "### Loop region A\n",
    "while read FOLDER_REG_A FNAME_REG_A LABEL_REG_A; do\n",
    "    \n",
    "    ### Set input A\n",
    "    FD_INP_A=${FD_RES}/region/${FOLDER_REG_A}\n",
    "    FN_INP_A=${FNAME_REG_A}\n",
    "    FP_INP_A=${FD_INP_A}/${FN_INP_A}\n",
    "    FOLDER_A=${LABEL_REG_A}\n",
    "    \n",
    "    ### Loop region B\n",
    "    while read FOLDER_REG_B FNAME_REG_B LABEL_REG_B; do\n",
    "\n",
    "        ### Set input B\n",
    "        FD_INP_B=${FD_RES}/region/${FOLDER_REG_B}\n",
    "        FN_INP_B=${FNAME_REG_B}\n",
    "        FP_INP_B=${FD_INP_B}/${FN_INP_B}\n",
    "        FOLDER_B=${FOLDER_REG_B}\n",
    "        \n",
    "        ### Set output\n",
    "        FD_OUT=${FD_RES}/region_closest/${FOLDER_A}/${FOLDER_B}\n",
    "        FN_OUT=${LABEL_REG_A}.${LABEL_REG_B}.bed.gz\n",
    "        FP_OUT=${FD_OUT}/${FN_OUT}\n",
    "        \n",
    "        ### setup log file\n",
    "        FN_LOG=region.closest.${LABEL_REG_A}.${LABEL_REG_B}.txt\n",
    "        FP_LOG=${FD_LOG}/${FN_LOG}\n",
    "        \n",
    "        ### Set script\n",
    "        FP_EXE=${FD_EXE}/run_bedtools_closest.sh\n",
    "        \n",
    "        ### show progress\n",
    "        echo ==============================\n",
    "        echo \"Input  Label A:\" ${LABEL_REG_A}\n",
    "        echo \"Input  Label B:\" ${LABEL_REG_B}\n",
    "        echo \n",
    "        echo \"Output FDiry:  \" ${FD_OUT}\n",
    "        echo \"Output FName:  \" ${FN_OUT}\n",
    "        echo \"Log    FPath:  \" '${FD_LOG}/'${FN_LOG}\n",
    "        echo \n",
    "    done < <(cat ${FP_REGION_LABEL_B} | awk 'NR >=2 {print}')\n",
    "done < <(cat ${FP_REGION_LABEL_A} | awk 'NR >=2 {print}')"
   ]
  },
  {
   "cell_type": "markdown",
   "id": "993c9f7d-fe6e-4ace-9dc0-7060bfc21319",
   "metadata": {},
   "source": [
    "**Check config file**"
   ]
  },
  {
   "cell_type": "code",
   "execution_count": 9,
   "id": "79236df9-1194-4c2a-9fc7-cba3489ef108",
   "metadata": {},
   "outputs": [
    {
     "name": "stdout",
     "output_type": "stream",
     "text": [
      "/data/reddylab/Kuei/repo/Proj_ENCODE_FCC/scripts/config_project.sh\n"
     ]
    }
   ],
   "source": [
    "echo ${FP_CNF}"
   ]
  },
  {
   "cell_type": "markdown",
   "id": "0d9b2517-7cfd-4d3e-b2d5-5251db3f3436",
   "metadata": {},
   "source": [
    "## Execute"
   ]
  },
  {
   "cell_type": "code",
   "execution_count": 10,
   "id": "813d19ae-3792-4939-86c5-3fbf4154f791",
   "metadata": {},
   "outputs": [
    {
     "name": "stdout",
     "output_type": "stream",
     "text": [
      "==============================\n",
      "Input  Label A: fcc_astarr_macs_input_overlap\n",
      "Input  Label B: genome_tss_pol2\n",
      "\n",
      "Output FDiry:   /data/reddylab/Kuei/repo/Proj_ENCODE_FCC/results/region_closest/fcc_astarr_macs_input_overlap/genome_tss\n",
      "Output FName:   fcc_astarr_macs_input_overlap.genome_tss_pol2.bed.gz\n",
      "Log    FPath:   ${FD_LOG}/region.closest.fcc_astarr_macs_input_overlap.genome_tss_pol2.txt\n",
      "\n",
      "Submitted batch job 275496\n",
      "\n",
      "==============================\n",
      "Input  Label A: fcc_astarr_macs_input_overlap\n",
      "Input  Label B: genome_tss_pol2_rnaseq\n",
      "\n",
      "Output FDiry:   /data/reddylab/Kuei/repo/Proj_ENCODE_FCC/results/region_closest/fcc_astarr_macs_input_overlap/genome_tss\n",
      "Output FName:   fcc_astarr_macs_input_overlap.genome_tss_pol2_rnaseq.bed.gz\n",
      "Log    FPath:   ${FD_LOG}/region.closest.fcc_astarr_macs_input_overlap.genome_tss_pol2_rnaseq.txt\n",
      "\n",
      "Submitted batch job 275497\n",
      "\n",
      "==============================\n",
      "Input  Label A: fcc_astarr_macs_input_union\n",
      "Input  Label B: genome_tss_pol2\n",
      "\n",
      "Output FDiry:   /data/reddylab/Kuei/repo/Proj_ENCODE_FCC/results/region_closest/fcc_astarr_macs_input_union/genome_tss\n",
      "Output FName:   fcc_astarr_macs_input_union.genome_tss_pol2.bed.gz\n",
      "Log    FPath:   ${FD_LOG}/region.closest.fcc_astarr_macs_input_union.genome_tss_pol2.txt\n",
      "\n",
      "Submitted batch job 275498\n",
      "\n",
      "==============================\n",
      "Input  Label A: fcc_astarr_macs_input_union\n",
      "Input  Label B: genome_tss_pol2_rnaseq\n",
      "\n",
      "Output FDiry:   /data/reddylab/Kuei/repo/Proj_ENCODE_FCC/results/region_closest/fcc_astarr_macs_input_union/genome_tss\n",
      "Output FName:   fcc_astarr_macs_input_union.genome_tss_pol2_rnaseq.bed.gz\n",
      "Log    FPath:   ${FD_LOG}/region.closest.fcc_astarr_macs_input_union.genome_tss_pol2_rnaseq.txt\n",
      "\n",
      "Submitted batch job 275499\n",
      "\n"
     ]
    }
   ],
   "source": [
    "### init\n",
    "FP_REGION_LABEL_A=${FD_RES}/region/summary/metadata.label.astarr_macs.tsv\n",
    "FP_REGION_LABEL_B=${FD_RES}/region/genome_tss/summary/metadata.label.tsv\n",
    "\n",
    "### Loop region A\n",
    "while read FOLDER_REG_A FNAME_REG_A LABEL_REG_A; do\n",
    "    \n",
    "    ### Set input A\n",
    "    FD_INP_A=${FD_RES}/region/${FOLDER_REG_A}\n",
    "    FN_INP_A=${FNAME_REG_A}\n",
    "    FP_INP_A=${FD_INP_A}/${FN_INP_A}\n",
    "    FOLDER_A=${LABEL_REG_A}\n",
    "    \n",
    "    ### Loop region B\n",
    "    while read FOLDER_REG_B FNAME_REG_B LABEL_REG_B; do\n",
    "\n",
    "        ### Set input B\n",
    "        FD_INP_B=${FD_RES}/region/${FOLDER_REG_B}\n",
    "        FN_INP_B=${FNAME_REG_B}\n",
    "        FP_INP_B=${FD_INP_B}/${FN_INP_B}\n",
    "        FOLDER_B=${FOLDER_REG_B}\n",
    "        \n",
    "        ### Set output\n",
    "        FD_OUT=${FD_RES}/region_closest/${FOLDER_A}/${FOLDER_B}\n",
    "        FN_OUT=${LABEL_REG_A}.${LABEL_REG_B}.bed.gz\n",
    "        FP_OUT=${FD_OUT}/${FN_OUT}\n",
    "        \n",
    "        ### setup log file\n",
    "        FN_LOG=region.closest.${LABEL_REG_A}.${LABEL_REG_B}.txt\n",
    "        FP_LOG=${FD_LOG}/${FN_LOG}\n",
    "        \n",
    "        ### Set script\n",
    "        FP_EXE=${FD_EXE}/run_bedtools_closest.sh\n",
    "        \n",
    "        ### show progress\n",
    "        echo ==============================\n",
    "        echo \"Input  Label A:\" ${LABEL_REG_A}\n",
    "        echo \"Input  Label B:\" ${LABEL_REG_B}\n",
    "        echo \n",
    "        echo \"Output FDiry:  \" ${FD_OUT}\n",
    "        echo \"Output FName:  \" ${FN_OUT}\n",
    "        echo \"Log    FPath:  \" '${FD_LOG}/'${FN_LOG}\n",
    "        echo \n",
    "        \n",
    "        ### execute\n",
    "        mkdir -p ${FD_OUT}\n",
    "        sbatch \\\n",
    "            --cpus-per-task 4 \\\n",
    "            --mem 4G \\\n",
    "            --output ${FP_LOG} \\\n",
    "            ${FP_EXE} ${FP_CNF} ${FP_INP_A} ${FP_INP_B} ${FP_OUT}\n",
    "        echo\n",
    "    done < <(cat ${FP_REGION_LABEL_B} | awk 'NR >=2 {print}')\n",
    "done < <(cat ${FP_REGION_LABEL_A} | awk 'NR >=2 {print}')"
   ]
  },
  {
   "cell_type": "markdown",
   "id": "28ea8d3f-33fa-4a38-bd4d-99c851637d80",
   "metadata": {},
   "source": [
    "## Review"
   ]
  },
  {
   "cell_type": "code",
   "execution_count": 11,
   "id": "fa1dd2e8-cd09-4d3e-8f44-4d2ba1acdef1",
   "metadata": {},
   "outputs": [
    {
     "name": "stdout",
     "output_type": "stream",
     "text": [
      "Hostname:           plp-rcc-node-02\n",
      "Slurm Array Index: \n",
      "Time Stamp:         05-20-25+08:51:06\n",
      "\n",
      "Input:  /data/reddylab/Kuei/repo/Proj_ENCODE_FCC/results/region/fcc_astarr_macs/K562.hg38.ASTARR.macs.KS91.input.rep_all.max_overlaps.q5.bed.gz\n",
      "\n",
      "show first few lines of input\n",
      "chr1\t10038\t10405\tchr1:10038-10405\n",
      "chr1\t14282\t14614\tchr1:14282-14614\n",
      "chr1\t16025\t16338\tchr1:16025-16338\n",
      "chr1\t17288\t17689\tchr1:17288-17689\n",
      "chr1\t28934\t29499\tchr1:28934-29499\n",
      "chr1\t115429\t115969\tchr1:115429-115969\n",
      "chr1\t136201\t137353\tchr1:136201-137353\n",
      "chr1\t137748\t138049\tchr1:137748-138049\n",
      "chr1\t138321\t139517\tchr1:138321-139517\n",
      "chr1\t181005\t181854\tchr1:181005-181854\n",
      "\n",
      "Input:  /data/reddylab/Kuei/repo/Proj_ENCODE_FCC/results/region/genome_tss/K562.hg38.TSS.selected_by_highest_Pol2_signal.bed.gz\n",
      "\n",
      "show first few lines of input\n",
      "chr1\t11873\t11874\tchr1:11873-11874\tDDX11L1\t2.3e-4\tTSS_Pol2\tDDX11L1\n",
      "chr1\t17436\t17437\tchr1:17436-17437\tMIR6859-1\t9.43812\tTSS_Pol2\tMIR6859-1\n",
      "chr1\t17436\t17437\tchr1:17436-17437\tMIR6859-2\t9.43812\tTSS_Pol2\tMIR6859-2\n",
      "chr1\t17436\t17437\tchr1:17436-17437\tMIR6859-3\t9.43812\tTSS_Pol2\tMIR6859-3\n",
      "chr1\t17436\t17437\tchr1:17436-17437\tMIR6859-4\t9.43812\tTSS_Pol2\tMIR6859-4\n",
      "chr1\t29370\t29371\tchr1:29370-29371\tWASH7P\t2.3e-4\tTSS_Pol2\tWASH7P\n",
      "chr1\t30365\t30366\tchr1:30365-30366\tMIR1302-10\t0.562995\tTSS_Pol2\tMIR1302-10\n",
      "chr1\t30365\t30366\tchr1:30365-30366\tMIR1302-11\t0.562995\tTSS_Pol2\tMIR1302-11\n",
      "chr1\t30365\t30366\tchr1:30365-30366\tMIR1302-2\t0.562995\tTSS_Pol2\tMIR1302-2\n",
      "chr1\t30365\t30366\tchr1:30365-30366\tMIR1302-9\t0.562995\tTSS_Pol2\tMIR1302-9\n",
      "\n",
      "\n",
      "Output:  /data/reddylab/Kuei/repo/Proj_ENCODE_FCC/results/region_closest/fcc_astarr_macs_input_overlap/genome_tss/fcc_astarr_macs_input_overlap.genome_tss_pol2.bed.gz\n",
      "\n",
      "show first few lines of output:\n",
      "chr1\t10038\t10405\tchr1:10038-10405\tchr1\t11873\t11874\tchr1:11873-11874\tDDX11L1\t2.3e-4\tTSS_Pol2\tDDX11L1\t1469\n",
      "chr1\t14282\t14614\tchr1:14282-14614\tchr1\t11873\t11874\tchr1:11873-11874\tDDX11L1\t2.3e-4\tTSS_Pol2\tDDX11L1\t2409\n",
      "chr1\t16025\t16338\tchr1:16025-16338\tchr1\t17436\t17437\tchr1:17436-17437\tMIR6859-1\t9.43812\tTSS_Pol2\tMIR6859-1\t1099\n",
      "chr1\t16025\t16338\tchr1:16025-16338\tchr1\t17436\t17437\tchr1:17436-17437\tMIR6859-2\t9.43812\tTSS_Pol2\tMIR6859-2\t1099\n",
      "chr1\t16025\t16338\tchr1:16025-16338\tchr1\t17436\t17437\tchr1:17436-17437\tMIR6859-3\t9.43812\tTSS_Pol2\tMIR6859-3\t1099\n",
      "chr1\t16025\t16338\tchr1:16025-16338\tchr1\t17436\t17437\tchr1:17436-17437\tMIR6859-4\t9.43812\tTSS_Pol2\tMIR6859-4\t1099\n",
      "chr1\t17288\t17689\tchr1:17288-17689\tchr1\t17436\t17437\tchr1:17436-17437\tMIR6859-1\t9.43812\tTSS_Pol2\tMIR6859-1\t0\n",
      "chr1\t17288\t17689\tchr1:17288-17689\tchr1\t17436\t17437\tchr1:17436-17437\tMIR6859-2\t9.43812\tTSS_Pol2\tMIR6859-2\t0\n",
      "chr1\t17288\t17689\tchr1:17288-17689\tchr1\t17436\t17437\tchr1:17436-17437\tMIR6859-3\t9.43812\tTSS_Pol2\tMIR6859-3\t0\n",
      "chr1\t17288\t17689\tchr1:17288-17689\tchr1\t17436\t17437\tchr1:17436-17437\tMIR6859-4\t9.43812\tTSS_Pol2\tMIR6859-4\t0\n",
      "\n",
      "\n",
      "Done!\n",
      "Run Time: 1 seconds\n"
     ]
    }
   ],
   "source": [
    "cat ${FD_LOG}/region.closest.fcc_astarr_macs_input_overlap.genome_tss_pol2.txt"
   ]
  },
  {
   "cell_type": "code",
   "execution_count": 12,
   "id": "5e793cae-07bf-43da-8c8e-147263fc68a5",
   "metadata": {},
   "outputs": [
    {
     "name": "stdout",
     "output_type": "stream",
     "text": [
      "Hostname:           plp-rcc-node-02\n",
      "Slurm Array Index: \n",
      "Time Stamp:         05-20-25+08:51:06\n",
      "\n",
      "Input:  /data/reddylab/Kuei/repo/Proj_ENCODE_FCC/results/region/fcc_astarr_macs/K562.hg38.ASTARR.macs.KS91.input.rep_all.union.q5.bed.gz\n",
      "\n",
      "show first few lines of input\n",
      "chr1\t10015\t10442\tchr1:10015-10442\n",
      "chr1\t14253\t14645\tchr1:14253-14645\n",
      "chr1\t16015\t16477\tchr1:16015-16477\n",
      "chr1\t17237\t17772\tchr1:17237-17772\n",
      "chr1\t28903\t29613\tchr1:28903-29613\n",
      "chr1\t30803\t31072\tchr1:30803-31072\n",
      "chr1\t101603\t101849\tchr1:101603-101849\n",
      "chr1\t115411\t115986\tchr1:115411-115986\n",
      "chr1\t118518\t118743\tchr1:118518-118743\n",
      "chr1\t136071\t137429\tchr1:136071-137429\n",
      "\n",
      "Input:  /data/reddylab/Kuei/repo/Proj_ENCODE_FCC/results/region/genome_tss/K562.hg38.TSS.selected_by_highest_Pol2_signal.filtered_by_RNAseq_TPM.bed.gz\n",
      "\n",
      "show first few lines of input\n",
      "chr1\t29370\t29371\tchr1:29370-29371\tWASH7P\t2.3e-4\tTSS_Pol2_RNAseq\tWASH7P\n",
      "chr1\t827522\t827523\tchr1:827522-827523\tLINC00115\t64.4656\tTSS_Pol2_RNAseq\tLINC00115\n",
      "chr1\t827590\t827591\tchr1:827590-827591\tLINC01128\t64.4603\tTSS_Pol2_RNAseq\tLINC01128\n",
      "chr1\t876802\t876803\tchr1:876802-876803\tFAM41C\t0.00788399\tTSS_Pol2_RNAseq\tFAM41C\n",
      "chr1\t959256\t959257\tchr1:959256-959257\tNOC2L\t104.866\tTSS_Pol2_RNAseq\tNOC2L\n",
      "chr1\t960583\t960584\tchr1:960583-960584\tKLHL17\t8.22571\tTSS_Pol2_RNAseq\tKLHL17\n",
      "chr1\t1000097\t1000098\tchr1:1000097-1000098\tHES4\t50.5814\tTSS_Pol2_RNAseq\tHES4\n",
      "chr1\t1013496\t1013497\tchr1:1013496-1013497\tISG15\t42.9708\tTSS_Pol2_RNAseq\tISG15\n",
      "chr1\t1020119\t1020120\tchr1:1020119-1020120\tAGRN\t2.71433\tTSS_Pol2_RNAseq\tAGRN\n",
      "chr1\t1116089\t1116090\tchr1:1116089-1116090\tC1orf159\t16.4374\tTSS_Pol2_RNAseq\tC1orf159\n",
      "\n",
      "\n",
      "Output:  /data/reddylab/Kuei/repo/Proj_ENCODE_FCC/results/region_closest/fcc_astarr_macs_input_union/genome_tss/fcc_astarr_macs_input_union.genome_tss_pol2_rnaseq.bed.gz\n",
      "\n",
      "show first few lines of output:\n",
      "chr1\t10015\t10442\tchr1:10015-10442\tchr1\t29370\t29371\tchr1:29370-29371\tWASH7P\t2.3e-4\tTSS_Pol2_RNAseq\tWASH7P\t18929\n",
      "chr1\t14253\t14645\tchr1:14253-14645\tchr1\t29370\t29371\tchr1:29370-29371\tWASH7P\t2.3e-4\tTSS_Pol2_RNAseq\tWASH7P\t14726\n",
      "chr1\t16015\t16477\tchr1:16015-16477\tchr1\t29370\t29371\tchr1:29370-29371\tWASH7P\t2.3e-4\tTSS_Pol2_RNAseq\tWASH7P\t12894\n",
      "chr1\t17237\t17772\tchr1:17237-17772\tchr1\t29370\t29371\tchr1:29370-29371\tWASH7P\t2.3e-4\tTSS_Pol2_RNAseq\tWASH7P\t11599\n",
      "chr1\t28903\t29613\tchr1:28903-29613\tchr1\t29370\t29371\tchr1:29370-29371\tWASH7P\t2.3e-4\tTSS_Pol2_RNAseq\tWASH7P\t0\n",
      "chr1\t30803\t31072\tchr1:30803-31072\tchr1\t29370\t29371\tchr1:29370-29371\tWASH7P\t2.3e-4\tTSS_Pol2_RNAseq\tWASH7P\t1433\n",
      "chr1\t101603\t101849\tchr1:101603-101849\tchr1\t29370\t29371\tchr1:29370-29371\tWASH7P\t2.3e-4\tTSS_Pol2_RNAseq\tWASH7P\t72233\n",
      "chr1\t115411\t115986\tchr1:115411-115986\tchr1\t29370\t29371\tchr1:29370-29371\tWASH7P\t2.3e-4\tTSS_Pol2_RNAseq\tWASH7P\t86041\n",
      "chr1\t118518\t118743\tchr1:118518-118743\tchr1\t29370\t29371\tchr1:29370-29371\tWASH7P\t2.3e-4\tTSS_Pol2_RNAseq\tWASH7P\t89148\n",
      "chr1\t136071\t137429\tchr1:136071-137429\tchr1\t29370\t29371\tchr1:29370-29371\tWASH7P\t2.3e-4\tTSS_Pol2_RNAseq\tWASH7P\t106701\n",
      "\n",
      "\n",
      "Done!\n",
      "Run Time: 1 seconds\n"
     ]
    }
   ],
   "source": [
    "cat ${FD_LOG}/region.closest.fcc_astarr_macs_input_union.genome_tss_pol2_rnaseq.txt"
   ]
  },
  {
   "cell_type": "code",
   "execution_count": null,
   "id": "9ae2ecef-ea73-4f6c-93cf-2889a0d5e88e",
   "metadata": {},
   "outputs": [],
   "source": []
  }
 ],
 "metadata": {
  "kernelspec": {
   "display_name": "Bash",
   "language": "bash",
   "name": "bash"
  },
  "language_info": {
   "codemirror_mode": "shell",
   "file_extension": ".sh",
   "mimetype": "text/x-sh",
   "name": "bash"
  }
 },
 "nbformat": 4,
 "nbformat_minor": 5
}
