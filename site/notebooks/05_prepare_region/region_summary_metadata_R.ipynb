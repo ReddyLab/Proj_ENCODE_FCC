{
 "cells": [
  {
   "cell_type": "raw",
   "id": "a809cd43-2f44-4ff5-821d-e378c3272147",
   "metadata": {},
   "source": [
    "---\n",
    "title: Prepare Metadata for Looping\n",
    "subtitle: Summarize multiple metadata\n",
    "format:\n",
    "    html:\n",
    "        code-fold:  true\n",
    "        code-tools: true\r\n",
    "---"
   ]
  },
  {
   "cell_type": "markdown",
   "id": "029df934-4866-4db3-bc88-bd629d870a63",
   "metadata": {},
   "source": [
    "**Set environment**"
   ]
  },
  {
   "cell_type": "code",
   "execution_count": 1,
   "id": "19559128-af3a-404f-b592-e1cfdc790f14",
   "metadata": {},
   "outputs": [
    {
     "name": "stdout",
     "output_type": "stream",
     "text": [
      "You are working on        Singularity: singularity_proj_encode_fcc \n",
      "BASE DIRECTORY (FD_BASE): /data/reddylab/Kuei \n",
      "REPO DIRECTORY (FD_REPO): /data/reddylab/Kuei/repo \n",
      "WORK DIRECTORY (FD_WORK): /data/reddylab/Kuei/work \n",
      "DATA DIRECTORY (FD_DATA): /data/reddylab/Kuei/data \n",
      "\n",
      "You are working with      ENCODE FCC \n",
      "PATH OF PROJECT (FD_PRJ): /data/reddylab/Kuei/repo/Proj_ENCODE_FCC \n",
      "PROJECT RESULTS (FD_RES): /data/reddylab/Kuei/repo/Proj_ENCODE_FCC/results \n",
      "PROJECT SCRIPTS (FD_EXE): /data/reddylab/Kuei/repo/Proj_ENCODE_FCC/scripts \n",
      "PROJECT DATA    (FD_DAT): /data/reddylab/Kuei/repo/Proj_ENCODE_FCC/data \n",
      "PROJECT NOTE    (FD_NBK): /data/reddylab/Kuei/repo/Proj_ENCODE_FCC/notebooks \n",
      "PROJECT DOCS    (FD_DOC): /data/reddylab/Kuei/repo/Proj_ENCODE_FCC/docs \n",
      "PROJECT LOG     (FD_LOG): /data/reddylab/Kuei/repo/Proj_ENCODE_FCC/log \n",
      "PROJECT REF     (FD_REF): /data/reddylab/Kuei/repo/Proj_ENCODE_FCC/references \n",
      "\n"
     ]
    }
   ],
   "source": [
    "suppressMessages(suppressWarnings(source(\"../run_config_project_sing.R\")))\n",
    "show_env()"
   ]
  },
  {
   "cell_type": "markdown",
   "id": "0707180f-0fa2-459c-ac16-be71e8646f68",
   "metadata": {},
   "source": [
    "## Prepare"
   ]
  },
  {
   "cell_type": "markdown",
   "id": "f24c5dde-046e-4c7f-9c52-4ac54b38245f",
   "metadata": {},
   "source": [
    "**View files**"
   ]
  },
  {
   "cell_type": "code",
   "execution_count": 2,
   "id": "5f26eca1-0b7a-49e2-86b8-ee45427ad324",
   "metadata": {},
   "outputs": [
    {
     "name": "stdout",
     "output_type": "stream",
     "text": [
      "encode_chipseq_histone \n",
      "encode_chipseq_subset \n",
      "encode_chipseq_tf_full \n",
      "encode_chromatin_states \n",
      "encode_e2g_benchmark \n",
      "encode_open_chromatin \n",
      "fcc_astarr_csaw \n",
      "fcc_astarr_macs_merge \n",
      "fcc_astarr_macs_narrowpeak \n",
      "fcc_crispri_growth \n",
      "fcc_crispri_hcrff \n",
      "fcc_screened \n",
      "fcc_starrmpra_junke \n",
      "fcc_table \n",
      "fcc_table_cluster \n",
      "genome_tss \n",
      "hic_insitu_K562_ENCSR545YBD \n",
      "hic_intact_K562_deep \n",
      "hic_intact_K562_ENCSR479XDG \n",
      "module_tf_shannon \n",
      "summary \n",
      "tmp \n"
     ]
    }
   ],
   "source": [
    "txt_fdiry = file.path(FD_RES, \"region\")\n",
    "vec = dir(txt_fdiry)\n",
    "for (txt in vec){cat(txt, \"\\n\")}"
   ]
  },
  {
   "cell_type": "code",
   "execution_count": 3,
   "id": "57a6b39b-2179-4749-8f64-0bb31743c9cb",
   "metadata": {},
   "outputs": [
    {
     "name": "stdout",
     "output_type": "stream",
     "text": [
      "/data/reddylab/Kuei/repo/Proj_ENCODE_FCC/results/region/encode_chipseq_histone/summary/metadata.label.tsv \n",
      "/data/reddylab/Kuei/repo/Proj_ENCODE_FCC/results/region/encode_chipseq_subset/summary/metadata.label.tsv \n",
      "/data/reddylab/Kuei/repo/Proj_ENCODE_FCC/results/region/encode_chipseq_tf_full/summary/metadata.label.tsv \n",
      "/data/reddylab/Kuei/repo/Proj_ENCODE_FCC/results/region/encode_chromatin_states/summary/metadata.label.tsv \n",
      "/data/reddylab/Kuei/repo/Proj_ENCODE_FCC/results/region/encode_e2g_benchmark/summary/metadata.label.tsv \n",
      "/data/reddylab/Kuei/repo/Proj_ENCODE_FCC/results/region/encode_open_chromatin/summary/metadata.label.tsv \n",
      "/data/reddylab/Kuei/repo/Proj_ENCODE_FCC/results/region/fcc_astarr_csaw/summary/metadata.label.tsv \n",
      "/data/reddylab/Kuei/repo/Proj_ENCODE_FCC/results/region/fcc_astarr_macs_merge/summary/metadata.label.tsv \n",
      "/data/reddylab/Kuei/repo/Proj_ENCODE_FCC/results/region/fcc_astarr_macs_narrowpeak/summary/metadata.label.tsv \n",
      "/data/reddylab/Kuei/repo/Proj_ENCODE_FCC/results/region/fcc_crispri_growth/summary/metadata.label.tsv \n",
      "/data/reddylab/Kuei/repo/Proj_ENCODE_FCC/results/region/fcc_crispri_hcrff/summary/metadata.label.tsv \n",
      "/data/reddylab/Kuei/repo/Proj_ENCODE_FCC/results/region/fcc_starrmpra_junke/summary/metadata.label.tsv \n",
      "/data/reddylab/Kuei/repo/Proj_ENCODE_FCC/results/region/genome_tss/summary/metadata.label.tsv \n",
      "/data/reddylab/Kuei/repo/Proj_ENCODE_FCC/results/region/hic_insitu_K562_ENCSR545YBD/summary/metadata.label.tsv \n",
      "/data/reddylab/Kuei/repo/Proj_ENCODE_FCC/results/region/hic_intact_K562_deep/summary/metadata.label.tsv \n",
      "/data/reddylab/Kuei/repo/Proj_ENCODE_FCC/results/region/hic_intact_K562_ENCSR479XDG/summary/metadata.label.tsv \n",
      "/data/reddylab/Kuei/repo/Proj_ENCODE_FCC/results/region/module_tf_shannon/summary/metadata.label.tsv \n"
     ]
    }
   ],
   "source": [
    "txt_fdiry = file.path(FD_RES, \"region\")\n",
    "txt_fname = \"metadata.label.tsv\"\n",
    "txt_fglob = file.path(txt_fdiry, \"*\", \"summary\", txt_fname)\n",
    "\n",
    "vec = Sys.glob(txt_fglob)\n",
    "vec = sort(vec)\n",
    "for (txt in vec){cat(txt, \"\\n\")}"
   ]
  },
  {
   "cell_type": "markdown",
   "id": "5182f7c9-2388-4de2-b41b-08900ceb36ea",
   "metadata": {},
   "source": [
    "## Import data"
   ]
  },
  {
   "cell_type": "code",
   "execution_count": 4,
   "id": "0c56bf1d-02d2-40d3-976a-37819644b5f4",
   "metadata": {},
   "outputs": [
    {
     "data": {
      "text/html": [
       "<style>\n",
       ".list-inline {list-style: none; margin:0; padding: 0}\n",
       ".list-inline>li {display: inline-block}\n",
       ".list-inline>li:not(:last-child)::after {content: \"\\00b7\"; padding: 0 .5ex}\n",
       "</style>\n",
       "<ol class=list-inline><li>'/data/reddylab/Kuei/repo/Proj_ENCODE_FCC/results/region/encode_chipseq_histone/summary/metadata.label.tsv'</li><li>'/data/reddylab/Kuei/repo/Proj_ENCODE_FCC/results/region/encode_chipseq_subset/summary/metadata.label.tsv'</li><li>'/data/reddylab/Kuei/repo/Proj_ENCODE_FCC/results/region/encode_chipseq_tf_full/summary/metadata.label.tsv'</li><li>'/data/reddylab/Kuei/repo/Proj_ENCODE_FCC/results/region/encode_chromatin_states/summary/metadata.label.tsv'</li><li>'/data/reddylab/Kuei/repo/Proj_ENCODE_FCC/results/region/encode_e2g_benchmark/summary/metadata.label.tsv'</li><li>'/data/reddylab/Kuei/repo/Proj_ENCODE_FCC/results/region/encode_open_chromatin/summary/metadata.label.tsv'</li><li>'/data/reddylab/Kuei/repo/Proj_ENCODE_FCC/results/region/fcc_astarr_csaw/summary/metadata.label.tsv'</li><li>'/data/reddylab/Kuei/repo/Proj_ENCODE_FCC/results/region/fcc_astarr_macs_merge/summary/metadata.label.tsv'</li><li>'/data/reddylab/Kuei/repo/Proj_ENCODE_FCC/results/region/fcc_astarr_macs_narrowpeak/summary/metadata.label.tsv'</li><li>'/data/reddylab/Kuei/repo/Proj_ENCODE_FCC/results/region/fcc_crispri_growth/summary/metadata.label.tsv'</li><li>'/data/reddylab/Kuei/repo/Proj_ENCODE_FCC/results/region/fcc_crispri_hcrff/summary/metadata.label.tsv'</li><li>'/data/reddylab/Kuei/repo/Proj_ENCODE_FCC/results/region/fcc_starrmpra_junke/summary/metadata.label.tsv'</li><li>'/data/reddylab/Kuei/repo/Proj_ENCODE_FCC/results/region/genome_tss/summary/metadata.label.tsv'</li><li>'/data/reddylab/Kuei/repo/Proj_ENCODE_FCC/results/region/hic_insitu_K562_ENCSR545YBD/summary/metadata.label.tsv'</li><li>'/data/reddylab/Kuei/repo/Proj_ENCODE_FCC/results/region/hic_intact_K562_deep/summary/metadata.label.tsv'</li><li>'/data/reddylab/Kuei/repo/Proj_ENCODE_FCC/results/region/hic_intact_K562_ENCSR479XDG/summary/metadata.label.tsv'</li><li>'/data/reddylab/Kuei/repo/Proj_ENCODE_FCC/results/region/module_tf_shannon/summary/metadata.label.tsv'</li></ol>\n"
      ],
      "text/latex": [
       "\\begin{enumerate*}\n",
       "\\item '/data/reddylab/Kuei/repo/Proj\\_ENCODE\\_FCC/results/region/encode\\_chipseq\\_histone/summary/metadata.label.tsv'\n",
       "\\item '/data/reddylab/Kuei/repo/Proj\\_ENCODE\\_FCC/results/region/encode\\_chipseq\\_subset/summary/metadata.label.tsv'\n",
       "\\item '/data/reddylab/Kuei/repo/Proj\\_ENCODE\\_FCC/results/region/encode\\_chipseq\\_tf\\_full/summary/metadata.label.tsv'\n",
       "\\item '/data/reddylab/Kuei/repo/Proj\\_ENCODE\\_FCC/results/region/encode\\_chromatin\\_states/summary/metadata.label.tsv'\n",
       "\\item '/data/reddylab/Kuei/repo/Proj\\_ENCODE\\_FCC/results/region/encode\\_e2g\\_benchmark/summary/metadata.label.tsv'\n",
       "\\item '/data/reddylab/Kuei/repo/Proj\\_ENCODE\\_FCC/results/region/encode\\_open\\_chromatin/summary/metadata.label.tsv'\n",
       "\\item '/data/reddylab/Kuei/repo/Proj\\_ENCODE\\_FCC/results/region/fcc\\_astarr\\_csaw/summary/metadata.label.tsv'\n",
       "\\item '/data/reddylab/Kuei/repo/Proj\\_ENCODE\\_FCC/results/region/fcc\\_astarr\\_macs\\_merge/summary/metadata.label.tsv'\n",
       "\\item '/data/reddylab/Kuei/repo/Proj\\_ENCODE\\_FCC/results/region/fcc\\_astarr\\_macs\\_narrowpeak/summary/metadata.label.tsv'\n",
       "\\item '/data/reddylab/Kuei/repo/Proj\\_ENCODE\\_FCC/results/region/fcc\\_crispri\\_growth/summary/metadata.label.tsv'\n",
       "\\item '/data/reddylab/Kuei/repo/Proj\\_ENCODE\\_FCC/results/region/fcc\\_crispri\\_hcrff/summary/metadata.label.tsv'\n",
       "\\item '/data/reddylab/Kuei/repo/Proj\\_ENCODE\\_FCC/results/region/fcc\\_starrmpra\\_junke/summary/metadata.label.tsv'\n",
       "\\item '/data/reddylab/Kuei/repo/Proj\\_ENCODE\\_FCC/results/region/genome\\_tss/summary/metadata.label.tsv'\n",
       "\\item '/data/reddylab/Kuei/repo/Proj\\_ENCODE\\_FCC/results/region/hic\\_insitu\\_K562\\_ENCSR545YBD/summary/metadata.label.tsv'\n",
       "\\item '/data/reddylab/Kuei/repo/Proj\\_ENCODE\\_FCC/results/region/hic\\_intact\\_K562\\_deep/summary/metadata.label.tsv'\n",
       "\\item '/data/reddylab/Kuei/repo/Proj\\_ENCODE\\_FCC/results/region/hic\\_intact\\_K562\\_ENCSR479XDG/summary/metadata.label.tsv'\n",
       "\\item '/data/reddylab/Kuei/repo/Proj\\_ENCODE\\_FCC/results/region/module\\_tf\\_shannon/summary/metadata.label.tsv'\n",
       "\\end{enumerate*}\n"
      ],
      "text/markdown": [
       "1. '/data/reddylab/Kuei/repo/Proj_ENCODE_FCC/results/region/encode_chipseq_histone/summary/metadata.label.tsv'\n",
       "2. '/data/reddylab/Kuei/repo/Proj_ENCODE_FCC/results/region/encode_chipseq_subset/summary/metadata.label.tsv'\n",
       "3. '/data/reddylab/Kuei/repo/Proj_ENCODE_FCC/results/region/encode_chipseq_tf_full/summary/metadata.label.tsv'\n",
       "4. '/data/reddylab/Kuei/repo/Proj_ENCODE_FCC/results/region/encode_chromatin_states/summary/metadata.label.tsv'\n",
       "5. '/data/reddylab/Kuei/repo/Proj_ENCODE_FCC/results/region/encode_e2g_benchmark/summary/metadata.label.tsv'\n",
       "6. '/data/reddylab/Kuei/repo/Proj_ENCODE_FCC/results/region/encode_open_chromatin/summary/metadata.label.tsv'\n",
       "7. '/data/reddylab/Kuei/repo/Proj_ENCODE_FCC/results/region/fcc_astarr_csaw/summary/metadata.label.tsv'\n",
       "8. '/data/reddylab/Kuei/repo/Proj_ENCODE_FCC/results/region/fcc_astarr_macs_merge/summary/metadata.label.tsv'\n",
       "9. '/data/reddylab/Kuei/repo/Proj_ENCODE_FCC/results/region/fcc_astarr_macs_narrowpeak/summary/metadata.label.tsv'\n",
       "10. '/data/reddylab/Kuei/repo/Proj_ENCODE_FCC/results/region/fcc_crispri_growth/summary/metadata.label.tsv'\n",
       "11. '/data/reddylab/Kuei/repo/Proj_ENCODE_FCC/results/region/fcc_crispri_hcrff/summary/metadata.label.tsv'\n",
       "12. '/data/reddylab/Kuei/repo/Proj_ENCODE_FCC/results/region/fcc_starrmpra_junke/summary/metadata.label.tsv'\n",
       "13. '/data/reddylab/Kuei/repo/Proj_ENCODE_FCC/results/region/genome_tss/summary/metadata.label.tsv'\n",
       "14. '/data/reddylab/Kuei/repo/Proj_ENCODE_FCC/results/region/hic_insitu_K562_ENCSR545YBD/summary/metadata.label.tsv'\n",
       "15. '/data/reddylab/Kuei/repo/Proj_ENCODE_FCC/results/region/hic_intact_K562_deep/summary/metadata.label.tsv'\n",
       "16. '/data/reddylab/Kuei/repo/Proj_ENCODE_FCC/results/region/hic_intact_K562_ENCSR479XDG/summary/metadata.label.tsv'\n",
       "17. '/data/reddylab/Kuei/repo/Proj_ENCODE_FCC/results/region/module_tf_shannon/summary/metadata.label.tsv'\n",
       "\n",
       "\n"
      ],
      "text/plain": [
       " [1] \"/data/reddylab/Kuei/repo/Proj_ENCODE_FCC/results/region/encode_chipseq_histone/summary/metadata.label.tsv\"     \n",
       " [2] \"/data/reddylab/Kuei/repo/Proj_ENCODE_FCC/results/region/encode_chipseq_subset/summary/metadata.label.tsv\"      \n",
       " [3] \"/data/reddylab/Kuei/repo/Proj_ENCODE_FCC/results/region/encode_chipseq_tf_full/summary/metadata.label.tsv\"     \n",
       " [4] \"/data/reddylab/Kuei/repo/Proj_ENCODE_FCC/results/region/encode_chromatin_states/summary/metadata.label.tsv\"    \n",
       " [5] \"/data/reddylab/Kuei/repo/Proj_ENCODE_FCC/results/region/encode_e2g_benchmark/summary/metadata.label.tsv\"       \n",
       " [6] \"/data/reddylab/Kuei/repo/Proj_ENCODE_FCC/results/region/encode_open_chromatin/summary/metadata.label.tsv\"      \n",
       " [7] \"/data/reddylab/Kuei/repo/Proj_ENCODE_FCC/results/region/fcc_astarr_csaw/summary/metadata.label.tsv\"            \n",
       " [8] \"/data/reddylab/Kuei/repo/Proj_ENCODE_FCC/results/region/fcc_astarr_macs_merge/summary/metadata.label.tsv\"      \n",
       " [9] \"/data/reddylab/Kuei/repo/Proj_ENCODE_FCC/results/region/fcc_astarr_macs_narrowpeak/summary/metadata.label.tsv\" \n",
       "[10] \"/data/reddylab/Kuei/repo/Proj_ENCODE_FCC/results/region/fcc_crispri_growth/summary/metadata.label.tsv\"         \n",
       "[11] \"/data/reddylab/Kuei/repo/Proj_ENCODE_FCC/results/region/fcc_crispri_hcrff/summary/metadata.label.tsv\"          \n",
       "[12] \"/data/reddylab/Kuei/repo/Proj_ENCODE_FCC/results/region/fcc_starrmpra_junke/summary/metadata.label.tsv\"        \n",
       "[13] \"/data/reddylab/Kuei/repo/Proj_ENCODE_FCC/results/region/genome_tss/summary/metadata.label.tsv\"                 \n",
       "[14] \"/data/reddylab/Kuei/repo/Proj_ENCODE_FCC/results/region/hic_insitu_K562_ENCSR545YBD/summary/metadata.label.tsv\"\n",
       "[15] \"/data/reddylab/Kuei/repo/Proj_ENCODE_FCC/results/region/hic_intact_K562_deep/summary/metadata.label.tsv\"       \n",
       "[16] \"/data/reddylab/Kuei/repo/Proj_ENCODE_FCC/results/region/hic_intact_K562_ENCSR479XDG/summary/metadata.label.tsv\"\n",
       "[17] \"/data/reddylab/Kuei/repo/Proj_ENCODE_FCC/results/region/module_tf_shannon/summary/metadata.label.tsv\"          "
      ]
     },
     "metadata": {},
     "output_type": "display_data"
    }
   ],
   "source": [
    "### set directory\n",
    "txt_fdiry = file.path(FD_RES, \"region\")\n",
    "txt_fname = \"metadata.label.tsv\"\n",
    "txt_fglob = file.path(txt_fdiry, \"*\", \"summary\", txt_fname)\n",
    "\n",
    "### get file path\n",
    "vec = Sys.glob(txt_fglob)\n",
    "vec_txt_fpath = vec\n",
    "\n",
    "### read tables\n",
    "vec = vec_txt_fpath\n",
    "lst = lapply(vec, function(txt_fpath){\n",
    "    dat = read_tsv(txt_fpath, show_col_types = FALSE)\n",
    "    return(dat)\n",
    "})\n",
    "names(lst) = vec\n",
    "\n",
    "### assign and show\n",
    "lst_dat_import = lst\n",
    "names(lst)"
   ]
  },
  {
   "cell_type": "markdown",
   "id": "81ef9320-15dd-4600-b6d6-75929407668b",
   "metadata": {},
   "source": [
    "## MACS (Merge)"
   ]
  },
  {
   "cell_type": "markdown",
   "id": "463ef582-27ff-4610-88e5-f81beec4d245",
   "metadata": {},
   "source": [
    "**Check**"
   ]
  },
  {
   "cell_type": "code",
   "execution_count": 5,
   "id": "791da6f9-cc5d-4807-b14f-d88dc0e8f0f2",
   "metadata": {},
   "outputs": [
    {
     "name": "stdout",
     "output_type": "stream",
     "text": [
      "[1] \"/data/reddylab/Kuei/repo/Proj_ENCODE_FCC/results/region/fcc_astarr_macs_merge/summary/metadata.label.tsv\"\n"
     ]
    }
   ],
   "source": [
    "### init\n",
    "txt = \"fcc_astarr_macs_merge\"\n",
    "\n",
    "### select\n",
    "vec = vec_txt_fpath\n",
    "idx = str_detect(vec, txt)\n",
    "vec = vec[idx]\n",
    "\n",
    "### show\n",
    "print(vec)"
   ]
  },
  {
   "cell_type": "markdown",
   "id": "bcf81fb9-f8b1-4b95-96bc-f05c53e89a7e",
   "metadata": {},
   "source": [
    "**Select tables**"
   ]
  },
  {
   "cell_type": "code",
   "execution_count": 6,
   "id": "1c2c8422-36e6-4a6d-ae8c-589cee2deca5",
   "metadata": {},
   "outputs": [
    {
     "name": "stdout",
     "output_type": "stream",
     "text": [
      "[1] 2 4\n"
     ]
    },
    {
     "data": {
      "text/html": [
       "<table>\n",
       " <thead>\n",
       "  <tr>\n",
       "   <th style=\"text-align:left;\"> Folder </th>\n",
       "   <th style=\"text-align:left;\"> FName </th>\n",
       "   <th style=\"text-align:left;\"> Label </th>\n",
       "   <th style=\"text-align:left;\"> FPath </th>\n",
       "  </tr>\n",
       " </thead>\n",
       "<tbody>\n",
       "  <tr>\n",
       "   <td style=\"text-align:left;\"> fcc_astarr_macs_merge </td>\n",
       "   <td style=\"text-align:left;\"> K562.hg38.ASTARR.macs.KS91.input.rep_all.max_overlaps.q5.bed.gz </td>\n",
       "   <td style=\"text-align:left;\"> fcc_astarr_macs_input_overlap </td>\n",
       "   <td style=\"text-align:left;\"> /data/reddylab/Kuei/repo/Proj_ENCODE_FCC/results/region/fcc_astarr_macs_merge/K562.hg38.ASTARR.macs.KS91.input.rep_all.max_overlaps.q5.bed.gz </td>\n",
       "  </tr>\n",
       "  <tr>\n",
       "   <td style=\"text-align:left;\"> fcc_astarr_macs_merge </td>\n",
       "   <td style=\"text-align:left;\"> K562.hg38.ASTARR.macs.KS91.input.rep_all.union.q5.bed.gz </td>\n",
       "   <td style=\"text-align:left;\"> fcc_astarr_macs_input_union </td>\n",
       "   <td style=\"text-align:left;\"> /data/reddylab/Kuei/repo/Proj_ENCODE_FCC/results/region/fcc_astarr_macs_merge/K562.hg38.ASTARR.macs.KS91.input.rep_all.union.q5.bed.gz </td>\n",
       "  </tr>\n",
       "</tbody>\n",
       "</table>"
      ]
     },
     "metadata": {},
     "output_type": "display_data"
    }
   ],
   "source": [
    "### init\n",
    "txt = \"fcc_astarr_macs_merge\"\n",
    "\n",
    "### select\n",
    "vec = vec_txt_fpath\n",
    "idx = str_detect(vec, txt)\n",
    "vec = vec[idx]\n",
    "\n",
    "### get tables\n",
    "lst = lst_dat_import\n",
    "lst = lst[vec]\n",
    "dat = bind_rows(lst)\n",
    "\n",
    "### assign and show\n",
    "dat_label_region = dat\n",
    "print(dim(dat))\n",
    "fun_display_table(dat)"
   ]
  },
  {
   "cell_type": "markdown",
   "id": "a6adf502-3304-42eb-a0f2-95335e4e183e",
   "metadata": {},
   "source": [
    "**Save results**"
   ]
  },
  {
   "cell_type": "code",
   "execution_count": 7,
   "id": "5d74b748-5ce4-451e-9264-e045cdfb1b61",
   "metadata": {},
   "outputs": [],
   "source": [
    "### set path\n",
    "txt_fdiry = file.path(FD_RES, \"region\", \"summary\")\n",
    "txt_fname = \"metadata.label.astarr_macs_merge.tsv\"\n",
    "txt_fpath = file.path(txt_fdiry, txt_fname)\n",
    "\n",
    "### write table\n",
    "dat = dat_label_region\n",
    "write_tsv(dat, txt_fpath)"
   ]
  },
  {
   "cell_type": "markdown",
   "id": "881f2a5d-2773-4c94-a4f0-b59613142161",
   "metadata": {},
   "source": [
    "## Open chromatin regions"
   ]
  },
  {
   "cell_type": "markdown",
   "id": "5ea7ee97-c806-437b-8392-7455e7589825",
   "metadata": {},
   "source": [
    "**Check**"
   ]
  },
  {
   "cell_type": "code",
   "execution_count": 8,
   "id": "8c04cae3-b85b-4629-bbb9-d7cf56492901",
   "metadata": {},
   "outputs": [
    {
     "name": "stdout",
     "output_type": "stream",
     "text": [
      "[1] \"/data/reddylab/Kuei/repo/Proj_ENCODE_FCC/results/region/encode_open_chromatin/summary/metadata.label.tsv\"\n",
      "[2] \"/data/reddylab/Kuei/repo/Proj_ENCODE_FCC/results/region/fcc_astarr_macs_merge/summary/metadata.label.tsv\"\n"
     ]
    }
   ],
   "source": [
    "### init\n",
    "vec = c(\n",
    "    \"fcc_astarr_macs_merge\", \n",
    "    \"encode_open_chromatin\"\n",
    ")\n",
    "txt = paste(vec, collapse = \"|\")\n",
    "\n",
    "### select\n",
    "vec = vec_txt_fpath\n",
    "idx = str_detect(vec, txt)\n",
    "vec = vec[idx]\n",
    "\n",
    "### show\n",
    "print(vec)"
   ]
  },
  {
   "cell_type": "markdown",
   "id": "f000dd6d-5434-4e99-9e55-e9b946283855",
   "metadata": {},
   "source": [
    "**Select tables**"
   ]
  },
  {
   "cell_type": "code",
   "execution_count": 9,
   "id": "6d81fbf4-c61f-4944-95cc-fbd1dd6a4030",
   "metadata": {},
   "outputs": [
    {
     "name": "stdout",
     "output_type": "stream",
     "text": [
      "[1] 8 4\n"
     ]
    },
    {
     "data": {
      "text/html": [
       "<table>\n",
       " <thead>\n",
       "  <tr>\n",
       "   <th style=\"text-align:left;\"> Folder </th>\n",
       "   <th style=\"text-align:left;\"> FName </th>\n",
       "   <th style=\"text-align:left;\"> Label </th>\n",
       "   <th style=\"text-align:left;\"> FPath </th>\n",
       "  </tr>\n",
       " </thead>\n",
       "<tbody>\n",
       "  <tr>\n",
       "   <td style=\"text-align:left;\"> encode_open_chromatin </td>\n",
       "   <td style=\"text-align:left;\"> K562.hg38.ENCSR000EKS.ENCFF274YGF.DNase.bed.gz </td>\n",
       "   <td style=\"text-align:left;\"> dnase_ENCFF274YGF </td>\n",
       "   <td style=\"text-align:left;\"> /data/reddylab/Kuei/repo/Proj_ENCODE_FCC/results/region/encode_open_chromatin/K562.hg38.ENCSR000EKS.ENCFF274YGF.DNase.bed.gz </td>\n",
       "  </tr>\n",
       "  <tr>\n",
       "   <td style=\"text-align:left;\"> encode_open_chromatin </td>\n",
       "   <td style=\"text-align:left;\"> K562.hg38.ENCSR000EOT.ENCFF185XRG.DNase.bed.gz </td>\n",
       "   <td style=\"text-align:left;\"> dnase_ENCFF185XRG </td>\n",
       "   <td style=\"text-align:left;\"> /data/reddylab/Kuei/repo/Proj_ENCODE_FCC/results/region/encode_open_chromatin/K562.hg38.ENCSR000EOT.ENCFF185XRG.DNase.bed.gz </td>\n",
       "  </tr>\n",
       "  <tr>\n",
       "   <td style=\"text-align:left;\"> encode_open_chromatin </td>\n",
       "   <td style=\"text-align:left;\"> K562.hg38.ENCSR483RKN.ENCFF558BLC.ATAC.bed.gz </td>\n",
       "   <td style=\"text-align:left;\"> atac_ENCFF558BLC </td>\n",
       "   <td style=\"text-align:left;\"> /data/reddylab/Kuei/repo/Proj_ENCODE_FCC/results/region/encode_open_chromatin/K562.hg38.ENCSR483RKN.ENCFF558BLC.ATAC.bed.gz </td>\n",
       "  </tr>\n",
       "  <tr>\n",
       "   <td style=\"text-align:left;\"> encode_open_chromatin </td>\n",
       "   <td style=\"text-align:left;\"> K562.hg38.ENCSR483RKN.ENCFF925CYR.ATAC.bed.gz </td>\n",
       "   <td style=\"text-align:left;\"> atac_ENCFF925CYR </td>\n",
       "   <td style=\"text-align:left;\"> /data/reddylab/Kuei/repo/Proj_ENCODE_FCC/results/region/encode_open_chromatin/K562.hg38.ENCSR483RKN.ENCFF925CYR.ATAC.bed.gz </td>\n",
       "  </tr>\n",
       "  <tr>\n",
       "   <td style=\"text-align:left;\"> encode_open_chromatin </td>\n",
       "   <td style=\"text-align:left;\"> K562.hg38.ENCSR868FGK.ENCFF333TAT.ATAC.bed.gz </td>\n",
       "   <td style=\"text-align:left;\"> atac_ENCFF333TAT </td>\n",
       "   <td style=\"text-align:left;\"> /data/reddylab/Kuei/repo/Proj_ENCODE_FCC/results/region/encode_open_chromatin/K562.hg38.ENCSR868FGK.ENCFF333TAT.ATAC.bed.gz </td>\n",
       "  </tr>\n",
       "  <tr>\n",
       "   <td style=\"text-align:left;\"> encode_open_chromatin </td>\n",
       "   <td style=\"text-align:left;\"> K562.hg38.ENCSR868FGK.ENCFF948AFM.ATAC.bed.gz </td>\n",
       "   <td style=\"text-align:left;\"> atac_ENCFF948AFM </td>\n",
       "   <td style=\"text-align:left;\"> /data/reddylab/Kuei/repo/Proj_ENCODE_FCC/results/region/encode_open_chromatin/K562.hg38.ENCSR868FGK.ENCFF948AFM.ATAC.bed.gz </td>\n",
       "  </tr>\n",
       "  <tr>\n",
       "   <td style=\"text-align:left;\"> fcc_astarr_macs_merge </td>\n",
       "   <td style=\"text-align:left;\"> K562.hg38.ASTARR.macs.KS91.input.rep_all.max_overlaps.q5.bed.gz </td>\n",
       "   <td style=\"text-align:left;\"> fcc_astarr_macs_input_overlap </td>\n",
       "   <td style=\"text-align:left;\"> /data/reddylab/Kuei/repo/Proj_ENCODE_FCC/results/region/fcc_astarr_macs_merge/K562.hg38.ASTARR.macs.KS91.input.rep_all.max_overlaps.q5.bed.gz </td>\n",
       "  </tr>\n",
       "  <tr>\n",
       "   <td style=\"text-align:left;\"> fcc_astarr_macs_merge </td>\n",
       "   <td style=\"text-align:left;\"> K562.hg38.ASTARR.macs.KS91.input.rep_all.union.q5.bed.gz </td>\n",
       "   <td style=\"text-align:left;\"> fcc_astarr_macs_input_union </td>\n",
       "   <td style=\"text-align:left;\"> /data/reddylab/Kuei/repo/Proj_ENCODE_FCC/results/region/fcc_astarr_macs_merge/K562.hg38.ASTARR.macs.KS91.input.rep_all.union.q5.bed.gz </td>\n",
       "  </tr>\n",
       "</tbody>\n",
       "</table>"
      ]
     },
     "metadata": {},
     "output_type": "display_data"
    }
   ],
   "source": [
    "### init\n",
    "vec = c(\n",
    "    \"fcc_astarr_macs_merge\", \n",
    "    \"encode_open_chromatin\"\n",
    ")\n",
    "txt = paste(vec, collapse = \"|\")\n",
    "\n",
    "### select\n",
    "vec = vec_txt_fpath\n",
    "idx = str_detect(vec, txt)\n",
    "vec = vec[idx]\n",
    "\n",
    "### read tables\n",
    "lst = lst_dat_import\n",
    "lst = lst[vec]\n",
    "dat = bind_rows(lst)\n",
    "\n",
    "### assign and show\n",
    "dat_label_region = dat\n",
    "print(dim(dat))\n",
    "fun_display_table(dat)"
   ]
  },
  {
   "cell_type": "markdown",
   "id": "e638bc47-cfe3-418e-9fa1-68e0c0533665",
   "metadata": {},
   "source": [
    "**Save results**"
   ]
  },
  {
   "cell_type": "code",
   "execution_count": 10,
   "id": "f15d5ff6-7b05-4889-a0ba-39e22760bd8e",
   "metadata": {},
   "outputs": [],
   "source": [
    "### set path\n",
    "txt_fdiry = file.path(FD_RES, \"region\", \"summary\")\n",
    "txt_fname = \"metadata.label.ocr.tsv\"\n",
    "txt_fpath = file.path(txt_fdiry, txt_fname)\n",
    "\n",
    "### write table\n",
    "dat = dat_label_region\n",
    "write_tsv(dat, txt_fpath)"
   ]
  },
  {
   "cell_type": "markdown",
   "id": "9ef69874-7dea-49ee-aa95-768f0c222220",
   "metadata": {},
   "source": [
    "## Main"
   ]
  },
  {
   "cell_type": "markdown",
   "id": "e4ae4ac7-8b98-49f9-a914-18c92ed2fa11",
   "metadata": {},
   "source": [
    "**Check**"
   ]
  },
  {
   "cell_type": "code",
   "execution_count": 11,
   "id": "a67859f6-1e53-4fd5-af55-510131b747b4",
   "metadata": {},
   "outputs": [
    {
     "name": "stdout",
     "output_type": "stream",
     "text": [
      "[1] \"/data/reddylab/Kuei/repo/Proj_ENCODE_FCC/results/region/encode_chromatin_states/summary/metadata.label.tsv\"   \n",
      "[2] \"/data/reddylab/Kuei/repo/Proj_ENCODE_FCC/results/region/encode_e2g_benchmark/summary/metadata.label.tsv\"      \n",
      "[3] \"/data/reddylab/Kuei/repo/Proj_ENCODE_FCC/results/region/fcc_astarr_csaw/summary/metadata.label.tsv\"           \n",
      "[4] \"/data/reddylab/Kuei/repo/Proj_ENCODE_FCC/results/region/fcc_astarr_macs_narrowpeak/summary/metadata.label.tsv\"\n",
      "[5] \"/data/reddylab/Kuei/repo/Proj_ENCODE_FCC/results/region/fcc_crispri_growth/summary/metadata.label.tsv\"        \n",
      "[6] \"/data/reddylab/Kuei/repo/Proj_ENCODE_FCC/results/region/fcc_crispri_hcrff/summary/metadata.label.tsv\"         \n",
      "[7] \"/data/reddylab/Kuei/repo/Proj_ENCODE_FCC/results/region/fcc_starrmpra_junke/summary/metadata.label.tsv\"       \n",
      "[8] \"/data/reddylab/Kuei/repo/Proj_ENCODE_FCC/results/region/genome_tss/summary/metadata.label.tsv\"                \n",
      "[9] \"/data/reddylab/Kuei/repo/Proj_ENCODE_FCC/results/region/module_tf_shannon/summary/metadata.label.tsv\"         \n"
     ]
    }
   ],
   "source": [
    "### init\n",
    "vec = c(\n",
    "    \"fcc_astarr_macs_merge\", \n",
    "    \"encode_open_chromatin\",\n",
    "    \"chipseq\",\n",
    "    \"hic\"\n",
    ")\n",
    "txt = paste(vec, collapse = \"|\")\n",
    "\n",
    "### select (reversed)\n",
    "vec = vec_txt_fpath\n",
    "idx = str_detect(vec, txt)\n",
    "vec = vec[!idx]\n",
    "\n",
    "### show\n",
    "print(vec)"
   ]
  },
  {
   "cell_type": "markdown",
   "id": "477b7304-fee1-441c-b763-ce685fd80aff",
   "metadata": {},
   "source": [
    "**Select tables**"
   ]
  },
  {
   "cell_type": "code",
   "execution_count": 12,
   "id": "ce41aec4-b0e3-4423-a76b-897dcccc2c64",
   "metadata": {},
   "outputs": [
    {
     "name": "stdout",
     "output_type": "stream",
     "text": [
      "[1] 24  4\n",
      "\n",
      "   encode_chromatin_states       encode_e2g_benchmark \n",
      "                         4                          1 \n",
      "           fcc_astarr_csaw fcc_astarr_macs_narrowpeak \n",
      "                         2                          6 \n",
      "        fcc_crispri_growth          fcc_crispri_hcrff \n",
      "                         2                          1 \n",
      "       fcc_starrmpra_junke                 genome_tss \n",
      "                         5                          2 \n",
      "         module_tf_shannon \n",
      "                         1 \n"
     ]
    },
    {
     "data": {
      "text/html": [
       "<table>\n",
       " <thead>\n",
       "  <tr>\n",
       "   <th style=\"text-align:left;\"> Folder </th>\n",
       "   <th style=\"text-align:left;\"> FName </th>\n",
       "   <th style=\"text-align:left;\"> Label </th>\n",
       "   <th style=\"text-align:left;\"> FPath </th>\n",
       "  </tr>\n",
       " </thead>\n",
       "<tbody>\n",
       "  <tr>\n",
       "   <td style=\"text-align:left;\"> encode_chromatin_states </td>\n",
       "   <td style=\"text-align:left;\"> K562.hg38.cCREs.silencer_rest.bed.gz </td>\n",
       "   <td style=\"text-align:left;\"> encode_ccres_silencer_rest </td>\n",
       "   <td style=\"text-align:left;\"> /data/reddylab/Kuei/repo/Proj_ENCODE_FCC/results/region/encode_chromatin_states/K562.hg38.cCREs.silencer_rest.bed.gz </td>\n",
       "  </tr>\n",
       "  <tr>\n",
       "   <td style=\"text-align:left;\"> encode_chromatin_states </td>\n",
       "   <td style=\"text-align:left;\"> K562.hg38.cCREs.silencer_starr.bed.gz </td>\n",
       "   <td style=\"text-align:left;\"> encode_ccres_silencer_starr </td>\n",
       "   <td style=\"text-align:left;\"> /data/reddylab/Kuei/repo/Proj_ENCODE_FCC/results/region/encode_chromatin_states/K562.hg38.cCREs.silencer_starr.bed.gz </td>\n",
       "  </tr>\n",
       "  <tr>\n",
       "   <td style=\"text-align:left;\"> encode_chromatin_states </td>\n",
       "   <td style=\"text-align:left;\"> K562.hg38.ENCSR365YNI.ENCFF106BGJ.ChromHMM.simplified.bed.gz </td>\n",
       "   <td style=\"text-align:left;\"> encode_chromhmm_ENCFF106BGJ </td>\n",
       "   <td style=\"text-align:left;\"> /data/reddylab/Kuei/repo/Proj_ENCODE_FCC/results/region/encode_chromatin_states/K562.hg38.ENCSR365YNI.ENCFF106BGJ.ChromHMM.simplified.bed.gz </td>\n",
       "  </tr>\n",
       "  <tr>\n",
       "   <td style=\"text-align:left;\"> encode_chromatin_states </td>\n",
       "   <td style=\"text-align:left;\"> K562.hg38.ENCSR913HQX.ENCFF286VQG.cCREs.simplified.bed.gz </td>\n",
       "   <td style=\"text-align:left;\"> encode_ccres_ENCFF286VQG </td>\n",
       "   <td style=\"text-align:left;\"> /data/reddylab/Kuei/repo/Proj_ENCODE_FCC/results/region/encode_chromatin_states/K562.hg38.ENCSR913HQX.ENCFF286VQG.cCREs.simplified.bed.gz </td>\n",
       "  </tr>\n",
       "  <tr>\n",
       "   <td style=\"text-align:left;\"> encode_e2g_benchmark </td>\n",
       "   <td style=\"text-align:left;\"> K562.hg38.ENCODE_E2G.benchmark.bed.gz </td>\n",
       "   <td style=\"text-align:left;\"> encode_e2g_benchmark </td>\n",
       "   <td style=\"text-align:left;\"> /data/reddylab/Kuei/repo/Proj_ENCODE_FCC/results/region/encode_e2g_benchmark/K562.hg38.ENCODE_E2G.benchmark.bed.gz </td>\n",
       "  </tr>\n",
       "  <tr>\n",
       "   <td style=\"text-align:left;\"> fcc_astarr_csaw </td>\n",
       "   <td style=\"text-align:left;\"> K562.hg38.ASTARR.csaw.KS91.bed.gz </td>\n",
       "   <td style=\"text-align:left;\"> fcc_astarr_csaw_KS91 </td>\n",
       "   <td style=\"text-align:left;\"> /data/reddylab/Kuei/repo/Proj_ENCODE_FCC/results/region/fcc_astarr_csaw/K562.hg38.ASTARR.csaw.KS91.bed.gz </td>\n",
       "  </tr>\n",
       "  <tr>\n",
       "   <td style=\"text-align:left;\"> fcc_astarr_csaw </td>\n",
       "   <td style=\"text-align:left;\"> K562.hg38.ASTARR.csaw.KSMerge.bed.gz </td>\n",
       "   <td style=\"text-align:left;\"> fcc_astarr_csaw_KSMerge </td>\n",
       "   <td style=\"text-align:left;\"> /data/reddylab/Kuei/repo/Proj_ENCODE_FCC/results/region/fcc_astarr_csaw/K562.hg38.ASTARR.csaw.KSMerge.bed.gz </td>\n",
       "  </tr>\n",
       "  <tr>\n",
       "   <td style=\"text-align:left;\"> fcc_astarr_macs_narrowpeak </td>\n",
       "   <td style=\"text-align:left;\"> K562.hg38.ASTARR.macs.KS91.Input.rep1.narrowpeak.bed.gz </td>\n",
       "   <td style=\"text-align:left;\"> fcc_astarr_macs_input_rep1 </td>\n",
       "   <td style=\"text-align:left;\"> /data/reddylab/Kuei/repo/Proj_ENCODE_FCC/results/region/fcc_astarr_macs_narrowpeak/K562.hg38.ASTARR.macs.KS91.Input.rep1.narrowpeak.bed.gz </td>\n",
       "  </tr>\n",
       "  <tr>\n",
       "   <td style=\"text-align:left;\"> fcc_astarr_macs_narrowpeak </td>\n",
       "   <td style=\"text-align:left;\"> K562.hg38.ASTARR.macs.KS91.Input.rep2.narrowpeak.bed.gz </td>\n",
       "   <td style=\"text-align:left;\"> fcc_astarr_macs_input_rep2 </td>\n",
       "   <td style=\"text-align:left;\"> /data/reddylab/Kuei/repo/Proj_ENCODE_FCC/results/region/fcc_astarr_macs_narrowpeak/K562.hg38.ASTARR.macs.KS91.Input.rep2.narrowpeak.bed.gz </td>\n",
       "  </tr>\n",
       "  <tr>\n",
       "   <td style=\"text-align:left;\"> fcc_astarr_macs_narrowpeak </td>\n",
       "   <td style=\"text-align:left;\"> K562.hg38.ASTARR.macs.KS91.Input.rep3.narrowpeak.bed.gz </td>\n",
       "   <td style=\"text-align:left;\"> fcc_astarr_macs_input_rep3 </td>\n",
       "   <td style=\"text-align:left;\"> /data/reddylab/Kuei/repo/Proj_ENCODE_FCC/results/region/fcc_astarr_macs_narrowpeak/K562.hg38.ASTARR.macs.KS91.Input.rep3.narrowpeak.bed.gz </td>\n",
       "  </tr>\n",
       "  <tr>\n",
       "   <td style=\"text-align:left;\"> fcc_astarr_macs_narrowpeak </td>\n",
       "   <td style=\"text-align:left;\"> K562.hg38.ASTARR.macs.KS91.Input.rep4.narrowpeak.bed.gz </td>\n",
       "   <td style=\"text-align:left;\"> fcc_astarr_macs_input_rep4 </td>\n",
       "   <td style=\"text-align:left;\"> /data/reddylab/Kuei/repo/Proj_ENCODE_FCC/results/region/fcc_astarr_macs_narrowpeak/K562.hg38.ASTARR.macs.KS91.Input.rep4.narrowpeak.bed.gz </td>\n",
       "  </tr>\n",
       "  <tr>\n",
       "   <td style=\"text-align:left;\"> fcc_astarr_macs_narrowpeak </td>\n",
       "   <td style=\"text-align:left;\"> K562.hg38.ASTARR.macs.KS91.Input.rep5.narrowpeak.bed.gz </td>\n",
       "   <td style=\"text-align:left;\"> fcc_astarr_macs_input_rep5 </td>\n",
       "   <td style=\"text-align:left;\"> /data/reddylab/Kuei/repo/Proj_ENCODE_FCC/results/region/fcc_astarr_macs_narrowpeak/K562.hg38.ASTARR.macs.KS91.Input.rep5.narrowpeak.bed.gz </td>\n",
       "  </tr>\n",
       "  <tr>\n",
       "   <td style=\"text-align:left;\"> fcc_astarr_macs_narrowpeak </td>\n",
       "   <td style=\"text-align:left;\"> K562.hg38.ASTARR.macs.KS91.Input.rep6.narrowpeak.bed.gz </td>\n",
       "   <td style=\"text-align:left;\"> fcc_astarr_macs_input_rep6 </td>\n",
       "   <td style=\"text-align:left;\"> /data/reddylab/Kuei/repo/Proj_ENCODE_FCC/results/region/fcc_astarr_macs_narrowpeak/K562.hg38.ASTARR.macs.KS91.Input.rep6.narrowpeak.bed.gz </td>\n",
       "  </tr>\n",
       "  <tr>\n",
       "   <td style=\"text-align:left;\"> fcc_crispri_growth </td>\n",
       "   <td style=\"text-align:left;\"> K562.hg38.CRISPRi_Growth.signif.bed.gz </td>\n",
       "   <td style=\"text-align:left;\"> fcc_crispri_growth_signif </td>\n",
       "   <td style=\"text-align:left;\"> /data/reddylab/Kuei/repo/Proj_ENCODE_FCC/results/region/fcc_crispri_growth/K562.hg38.CRISPRi_Growth.signif.bed.gz </td>\n",
       "  </tr>\n",
       "  <tr>\n",
       "   <td style=\"text-align:left;\"> fcc_crispri_growth </td>\n",
       "   <td style=\"text-align:left;\"> K562.hg38.CRISPRi_Growth.total.bed.gz </td>\n",
       "   <td style=\"text-align:left;\"> fcc_crispri_growth_total </td>\n",
       "   <td style=\"text-align:left;\"> /data/reddylab/Kuei/repo/Proj_ENCODE_FCC/results/region/fcc_crispri_growth/K562.hg38.CRISPRi_Growth.total.bed.gz </td>\n",
       "  </tr>\n",
       "  <tr>\n",
       "   <td style=\"text-align:left;\"> fcc_crispri_hcrff </td>\n",
       "   <td style=\"text-align:left;\"> K562.hg38.CRISPRi_HCRFF.CASA.bed.gz </td>\n",
       "   <td style=\"text-align:left;\"> fcc_crispri_hcrff_casa </td>\n",
       "   <td style=\"text-align:left;\"> /data/reddylab/Kuei/repo/Proj_ENCODE_FCC/results/region/fcc_crispri_hcrff/K562.hg38.CRISPRi_HCRFF.CASA.bed.gz </td>\n",
       "  </tr>\n",
       "  <tr>\n",
       "   <td style=\"text-align:left;\"> fcc_starrmpra_junke </td>\n",
       "   <td style=\"text-align:left;\"> K562.hg38.ASTARR.junke.bed.gz </td>\n",
       "   <td style=\"text-align:left;\"> fcc_starrmpra_junke_astarr </td>\n",
       "   <td style=\"text-align:left;\"> /data/reddylab/Kuei/repo/Proj_ENCODE_FCC/results/region/fcc_starrmpra_junke/K562.hg38.ASTARR.junke.bed.gz </td>\n",
       "  </tr>\n",
       "  <tr>\n",
       "   <td style=\"text-align:left;\"> fcc_starrmpra_junke </td>\n",
       "   <td style=\"text-align:left;\"> K562.hg38.eSTARR.junke.bed.gz </td>\n",
       "   <td style=\"text-align:left;\"> fcc_starrmpra_junke_estarr </td>\n",
       "   <td style=\"text-align:left;\"> /data/reddylab/Kuei/repo/Proj_ENCODE_FCC/results/region/fcc_starrmpra_junke/K562.hg38.eSTARR.junke.bed.gz </td>\n",
       "  </tr>\n",
       "  <tr>\n",
       "   <td style=\"text-align:left;\"> fcc_starrmpra_junke </td>\n",
       "   <td style=\"text-align:left;\"> K562.hg38.LMPRA.junke.bed.gz </td>\n",
       "   <td style=\"text-align:left;\"> fcc_starrmpra_junke_lmpra </td>\n",
       "   <td style=\"text-align:left;\"> /data/reddylab/Kuei/repo/Proj_ENCODE_FCC/results/region/fcc_starrmpra_junke/K562.hg38.LMPRA.junke.bed.gz </td>\n",
       "  </tr>\n",
       "  <tr>\n",
       "   <td style=\"text-align:left;\"> fcc_starrmpra_junke </td>\n",
       "   <td style=\"text-align:left;\"> K562.hg38.TMPRA.junke.bed.gz </td>\n",
       "   <td style=\"text-align:left;\"> fcc_starrmpra_junke_tmpra </td>\n",
       "   <td style=\"text-align:left;\"> /data/reddylab/Kuei/repo/Proj_ENCODE_FCC/results/region/fcc_starrmpra_junke/K562.hg38.TMPRA.junke.bed.gz </td>\n",
       "  </tr>\n",
       "  <tr>\n",
       "   <td style=\"text-align:left;\"> fcc_starrmpra_junke </td>\n",
       "   <td style=\"text-align:left;\"> K562.hg38.WSTARR.junke.bed.gz </td>\n",
       "   <td style=\"text-align:left;\"> fcc_starrmpra_junke_wstarr </td>\n",
       "   <td style=\"text-align:left;\"> /data/reddylab/Kuei/repo/Proj_ENCODE_FCC/results/region/fcc_starrmpra_junke/K562.hg38.WSTARR.junke.bed.gz </td>\n",
       "  </tr>\n",
       "  <tr>\n",
       "   <td style=\"text-align:left;\"> genome_tss </td>\n",
       "   <td style=\"text-align:left;\"> K562.hg38.TSS.selected_by_highest_Pol2_signal.bed.gz </td>\n",
       "   <td style=\"text-align:left;\"> genome_tss_pol2 </td>\n",
       "   <td style=\"text-align:left;\"> /data/reddylab/Kuei/repo/Proj_ENCODE_FCC/results/region/genome_tss/K562.hg38.TSS.selected_by_highest_Pol2_signal.bed.gz </td>\n",
       "  </tr>\n",
       "  <tr>\n",
       "   <td style=\"text-align:left;\"> genome_tss </td>\n",
       "   <td style=\"text-align:left;\"> K562.hg38.TSS.selected_by_highest_Pol2_signal.filtered_by_RNAseq_TPM.bed.gz </td>\n",
       "   <td style=\"text-align:left;\"> genome_tss_pol2_rnaseq </td>\n",
       "   <td style=\"text-align:left;\"> /data/reddylab/Kuei/repo/Proj_ENCODE_FCC/results/region/genome_tss/K562.hg38.TSS.selected_by_highest_Pol2_signal.filtered_by_RNAseq_TPM.bed.gz </td>\n",
       "  </tr>\n",
       "  <tr>\n",
       "   <td style=\"text-align:left;\"> module_tf_shannon </td>\n",
       "   <td style=\"text-align:left;\"> K562.hg38.TF_Module.bed.gz </td>\n",
       "   <td style=\"text-align:left;\"> module_tf_shannon </td>\n",
       "   <td style=\"text-align:left;\"> /data/reddylab/Kuei/repo/Proj_ENCODE_FCC/results/region/module_tf_shannon/K562.hg38.TF_Module.bed.gz </td>\n",
       "  </tr>\n",
       "</tbody>\n",
       "</table>"
      ]
     },
     "metadata": {},
     "output_type": "display_data"
    }
   ],
   "source": [
    "### init\n",
    "vec = c(\n",
    "    \"fcc_astarr_macs_merge\", \n",
    "    \"encode_open_chromatin\",\n",
    "    \"chipseq\",\n",
    "    \"hic\"\n",
    ")\n",
    "txt = paste(vec, collapse = \"|\")\n",
    "\n",
    "### select (reversed)\n",
    "vec = vec_txt_fpath\n",
    "idx = str_detect(vec, txt)\n",
    "vec = vec[!idx]\n",
    "\n",
    "### read tables\n",
    "lst = lst_dat_import\n",
    "lst = lst[vec]\n",
    "dat = bind_rows(lst)\n",
    "\n",
    "### read tables\n",
    "#lst = lapply(vec, function(txt_fpath){\n",
    "#    dat = read_tsv(txt_fpath, show_col_types = FALSE)\n",
    "#    return(dat)\n",
    "#})\n",
    "#dat = bind_rows(lst)\n",
    "\n",
    "### assign and show\n",
    "dat_label_region = dat\n",
    "print(dim(dat))\n",
    "print(table(dat$Folder))\n",
    "fun_display_table(dat)"
   ]
  },
  {
   "cell_type": "markdown",
   "id": "f0ac20da-b3b5-4045-8eaa-6210fc5f5df9",
   "metadata": {},
   "source": [
    "**Save results**"
   ]
  },
  {
   "cell_type": "code",
   "execution_count": 13,
   "id": "b30d8496-12bc-49d1-ac61-567fa5090d65",
   "metadata": {},
   "outputs": [],
   "source": [
    "### set path\n",
    "txt_fdiry = file.path(FD_RES, \"region\", \"summary\")\n",
    "txt_fname = \"metadata.label.main.tsv\"\n",
    "txt_fpath = file.path(txt_fdiry, txt_fname)\n",
    "\n",
    "### write table\n",
    "dat = dat_label_region\n",
    "write_tsv(dat, txt_fpath)"
   ]
  },
  {
   "cell_type": "markdown",
   "id": "a4f8829d-7bbf-40a5-a75a-2e671f64084a",
   "metadata": {},
   "source": [
    "## Hi-C (Loop & TAD)"
   ]
  },
  {
   "cell_type": "markdown",
   "id": "2f75411a-dc69-414f-8c3d-02d63c1279a9",
   "metadata": {},
   "source": [
    "**Check**"
   ]
  },
  {
   "cell_type": "code",
   "execution_count": 14,
   "id": "9ab63d43-b571-4025-9034-9bb990cb4314",
   "metadata": {},
   "outputs": [
    {
     "name": "stdout",
     "output_type": "stream",
     "text": [
      "[1] \"/data/reddylab/Kuei/repo/Proj_ENCODE_FCC/results/region/hic_insitu_K562_ENCSR545YBD/summary/metadata.label.tsv\"\n",
      "[2] \"/data/reddylab/Kuei/repo/Proj_ENCODE_FCC/results/region/hic_intact_K562_deep/summary/metadata.label.tsv\"       \n",
      "[3] \"/data/reddylab/Kuei/repo/Proj_ENCODE_FCC/results/region/hic_intact_K562_ENCSR479XDG/summary/metadata.label.tsv\"\n"
     ]
    }
   ],
   "source": [
    "### init\n",
    "vec = c(\n",
    "    \"hic\"\n",
    ")\n",
    "txt = paste(vec, collapse = \"|\")\n",
    "\n",
    "### select\n",
    "vec = vec_txt_fpath\n",
    "idx = str_detect(vec, txt)\n",
    "vec = vec[idx]\n",
    "\n",
    "### show\n",
    "print(vec)"
   ]
  },
  {
   "cell_type": "markdown",
   "id": "c5d1bdc5-835b-4a13-907b-6027c597ef08",
   "metadata": {},
   "source": [
    "**Select tables**"
   ]
  },
  {
   "cell_type": "code",
   "execution_count": 15,
   "id": "ae89c103-ff53-4aa8-850d-aa72947f54ec",
   "metadata": {},
   "outputs": [
    {
     "name": "stdout",
     "output_type": "stream",
     "text": [
      "[1] 8 4\n"
     ]
    },
    {
     "data": {
      "text/html": [
       "<table>\n",
       " <thead>\n",
       "  <tr>\n",
       "   <th style=\"text-align:left;\"> Folder </th>\n",
       "   <th style=\"text-align:left;\"> FName </th>\n",
       "   <th style=\"text-align:left;\"> Label </th>\n",
       "   <th style=\"text-align:left;\"> FPath </th>\n",
       "  </tr>\n",
       " </thead>\n",
       "<tbody>\n",
       "  <tr>\n",
       "   <td style=\"text-align:left;\"> hic_insitu_K562_ENCSR545YBD </td>\n",
       "   <td style=\"text-align:left;\"> K562.hg38.hic_insitu.Loop_A.bed.gz </td>\n",
       "   <td style=\"text-align:left;\"> hic_insitu_Loop_A_ENCSR545YBD </td>\n",
       "   <td style=\"text-align:left;\"> /data/reddylab/Kuei/repo/Proj_ENCODE_FCC/results/region/hic_insitu_K562_ENCSR545YBD/K562.hg38.hic_insitu.Loop_A.bed.gz </td>\n",
       "  </tr>\n",
       "  <tr>\n",
       "   <td style=\"text-align:left;\"> hic_insitu_K562_ENCSR545YBD </td>\n",
       "   <td style=\"text-align:left;\"> K562.hg38.hic_insitu.Loop_B.bed.gz </td>\n",
       "   <td style=\"text-align:left;\"> hic_insitu_Loop_B_ENCSR545YBD </td>\n",
       "   <td style=\"text-align:left;\"> /data/reddylab/Kuei/repo/Proj_ENCODE_FCC/results/region/hic_insitu_K562_ENCSR545YBD/K562.hg38.hic_insitu.Loop_B.bed.gz </td>\n",
       "  </tr>\n",
       "  <tr>\n",
       "   <td style=\"text-align:left;\"> hic_insitu_K562_ENCSR545YBD </td>\n",
       "   <td style=\"text-align:left;\"> K562.hg38.hic_insitu.TAD.bed.gz </td>\n",
       "   <td style=\"text-align:left;\"> hic_insitu_TAD_ENCSR545YBD </td>\n",
       "   <td style=\"text-align:left;\"> /data/reddylab/Kuei/repo/Proj_ENCODE_FCC/results/region/hic_insitu_K562_ENCSR545YBD/K562.hg38.hic_insitu.TAD.bed.gz </td>\n",
       "  </tr>\n",
       "  <tr>\n",
       "   <td style=\"text-align:left;\"> hic_intact_K562_deep </td>\n",
       "   <td style=\"text-align:left;\"> K562.hg38.hic_intact.Loop_A.bed.gz </td>\n",
       "   <td style=\"text-align:left;\"> hic_intact_Loop_A_deep </td>\n",
       "   <td style=\"text-align:left;\"> /data/reddylab/Kuei/repo/Proj_ENCODE_FCC/results/region/hic_intact_K562_deep/K562.hg38.hic_intact.Loop_A.bed.gz </td>\n",
       "  </tr>\n",
       "  <tr>\n",
       "   <td style=\"text-align:left;\"> hic_intact_K562_deep </td>\n",
       "   <td style=\"text-align:left;\"> K562.hg38.hic_intact.Loop_B.bed.gz </td>\n",
       "   <td style=\"text-align:left;\"> hic_intact_Loop_B_deep </td>\n",
       "   <td style=\"text-align:left;\"> /data/reddylab/Kuei/repo/Proj_ENCODE_FCC/results/region/hic_intact_K562_deep/K562.hg38.hic_intact.Loop_B.bed.gz </td>\n",
       "  </tr>\n",
       "  <tr>\n",
       "   <td style=\"text-align:left;\"> hic_intact_K562_ENCSR479XDG </td>\n",
       "   <td style=\"text-align:left;\"> K562.hg38.hic_intact.Loop_A.bed.gz </td>\n",
       "   <td style=\"text-align:left;\"> hic_intact_Loop_A_ENCSR479XDG </td>\n",
       "   <td style=\"text-align:left;\"> /data/reddylab/Kuei/repo/Proj_ENCODE_FCC/results/region/hic_intact_K562_ENCSR479XDG/K562.hg38.hic_intact.Loop_A.bed.gz </td>\n",
       "  </tr>\n",
       "  <tr>\n",
       "   <td style=\"text-align:left;\"> hic_intact_K562_ENCSR479XDG </td>\n",
       "   <td style=\"text-align:left;\"> K562.hg38.hic_intact.Loop_B.bed.gz </td>\n",
       "   <td style=\"text-align:left;\"> hic_intact_Loop_B_ENCSR479XDG </td>\n",
       "   <td style=\"text-align:left;\"> /data/reddylab/Kuei/repo/Proj_ENCODE_FCC/results/region/hic_intact_K562_ENCSR479XDG/K562.hg38.hic_intact.Loop_B.bed.gz </td>\n",
       "  </tr>\n",
       "  <tr>\n",
       "   <td style=\"text-align:left;\"> hic_intact_K562_ENCSR479XDG </td>\n",
       "   <td style=\"text-align:left;\"> K562.hg38.hic_intact.TAD.bed.gz </td>\n",
       "   <td style=\"text-align:left;\"> hic_intact_TAD_ENCSR479XDG </td>\n",
       "   <td style=\"text-align:left;\"> /data/reddylab/Kuei/repo/Proj_ENCODE_FCC/results/region/hic_intact_K562_ENCSR479XDG/K562.hg38.hic_intact.TAD.bed.gz </td>\n",
       "  </tr>\n",
       "</tbody>\n",
       "</table>"
      ]
     },
     "metadata": {},
     "output_type": "display_data"
    }
   ],
   "source": [
    "### init\n",
    "vec = c(\n",
    "    \"hic\"\n",
    ")\n",
    "txt = paste(vec, collapse = \"|\")\n",
    "\n",
    "### select\n",
    "vec = vec_txt_fpath\n",
    "idx = str_detect(vec, txt)\n",
    "vec = vec[idx]\n",
    "\n",
    "### read tables\n",
    "lst = lst_dat_import\n",
    "lst = lst[vec]\n",
    "dat = bind_rows(lst)\n",
    "\n",
    "### read tables\n",
    "#lst = lapply(vec, function(txt_fpath){\n",
    "#    dat = read_tsv(txt_fpath, show_col_types = FALSE)\n",
    "#    return(dat)\n",
    "#})\n",
    "dat = bind_rows(lst)\n",
    "\n",
    "### assign and show\n",
    "dat_label_region = dat\n",
    "print(dim(dat))\n",
    "fun_display_table(dat)"
   ]
  },
  {
   "cell_type": "markdown",
   "id": "2ac34730-c86f-44f9-99d8-08bfcf595665",
   "metadata": {},
   "source": [
    "**Save results**"
   ]
  },
  {
   "cell_type": "code",
   "execution_count": 16,
   "id": "4e66f7a7-154d-45e8-9e1a-503f045051a3",
   "metadata": {},
   "outputs": [],
   "source": [
    "### set path\n",
    "txt_fdiry = file.path(FD_RES, \"region\", \"summary\")\n",
    "txt_fname = \"metadata.label.hic.tsv\"\n",
    "txt_fpath = file.path(txt_fdiry, txt_fname)\n",
    "\n",
    "### write table\n",
    "dat = dat_label_region\n",
    "write_tsv(dat, txt_fpath)"
   ]
  },
  {
   "cell_type": "markdown",
   "id": "5334ea0d-1290-46f1-bd0e-68b5d390eda0",
   "metadata": {},
   "source": [
    "## ChIP-seq (Subset)"
   ]
  },
  {
   "cell_type": "markdown",
   "id": "2b7d25ed-86a8-42dd-97eb-c21e4686c7e1",
   "metadata": {},
   "source": [
    "**Check**"
   ]
  },
  {
   "cell_type": "code",
   "execution_count": 17,
   "id": "85477a68-93c2-4878-8128-a0fdbfe6fc80",
   "metadata": {},
   "outputs": [
    {
     "name": "stdout",
     "output_type": "stream",
     "text": [
      "[1] \"/data/reddylab/Kuei/repo/Proj_ENCODE_FCC/results/region/encode_chipseq_subset/summary/metadata.label.tsv\"\n"
     ]
    }
   ],
   "source": [
    "### init\n",
    "vec = c(\n",
    "    \"encode_chipseq_subset\"\n",
    ")\n",
    "txt = paste(vec, collapse = \"|\")\n",
    "\n",
    "### select\n",
    "vec = vec_txt_fpath\n",
    "idx = str_detect(vec, txt)\n",
    "vec = vec[idx]\n",
    "\n",
    "### show\n",
    "print(vec)"
   ]
  },
  {
   "cell_type": "markdown",
   "id": "a7a7cdeb-2a43-4414-9892-6542e0ff3993",
   "metadata": {},
   "source": [
    "**Select tables**"
   ]
  },
  {
   "cell_type": "code",
   "execution_count": 18,
   "id": "b84e73df-6e6a-47e5-9fc3-fad86ddba102",
   "metadata": {},
   "outputs": [
    {
     "name": "stdout",
     "output_type": "stream",
     "text": [
      "[1] 21  4\n"
     ]
    },
    {
     "data": {
      "text/html": [
       "<table>\n",
       " <thead>\n",
       "  <tr>\n",
       "   <th style=\"text-align:left;\"> Folder </th>\n",
       "   <th style=\"text-align:left;\"> FName </th>\n",
       "   <th style=\"text-align:left;\"> Label </th>\n",
       "   <th style=\"text-align:left;\"> FPath </th>\n",
       "  </tr>\n",
       " </thead>\n",
       "<tbody>\n",
       "  <tr>\n",
       "   <td style=\"text-align:left;\"> encode_chipseq_subset </td>\n",
       "   <td style=\"text-align:left;\"> ENCFF023IFO.bed.gz </td>\n",
       "   <td style=\"text-align:left;\"> encode_chipseq_NFE2_ENCFF023IFO </td>\n",
       "   <td style=\"text-align:left;\"> /data/reddylab/Kuei/repo/Proj_ENCODE_FCC/results/region/encode_chipseq_subset/ENCFF023IFO.bed.gz </td>\n",
       "  </tr>\n",
       "  <tr>\n",
       "   <td style=\"text-align:left;\"> encode_chipseq_subset </td>\n",
       "   <td style=\"text-align:left;\"> ENCFF135ZLM.bed.gz </td>\n",
       "   <td style=\"text-align:left;\"> encode_chipseq_H3K4me1_ENCFF135ZLM </td>\n",
       "   <td style=\"text-align:left;\"> /data/reddylab/Kuei/repo/Proj_ENCODE_FCC/results/region/encode_chipseq_subset/ENCFF135ZLM.bed.gz </td>\n",
       "  </tr>\n",
       "  <tr>\n",
       "   <td style=\"text-align:left;\"> encode_chipseq_subset </td>\n",
       "   <td style=\"text-align:left;\"> ENCFF142ZTD.bed.gz </td>\n",
       "   <td style=\"text-align:left;\"> encode_chipseq_KLF10_ENCFF142ZTD </td>\n",
       "   <td style=\"text-align:left;\"> /data/reddylab/Kuei/repo/Proj_ENCODE_FCC/results/region/encode_chipseq_subset/ENCFF142ZTD.bed.gz </td>\n",
       "  </tr>\n",
       "  <tr>\n",
       "   <td style=\"text-align:left;\"> encode_chipseq_subset </td>\n",
       "   <td style=\"text-align:left;\"> ENCFF190CGV.bed.gz </td>\n",
       "   <td style=\"text-align:left;\"> encode_chipseq_JUN_ENCFF190CGV </td>\n",
       "   <td style=\"text-align:left;\"> /data/reddylab/Kuei/repo/Proj_ENCODE_FCC/results/region/encode_chipseq_subset/ENCFF190CGV.bed.gz </td>\n",
       "  </tr>\n",
       "  <tr>\n",
       "   <td style=\"text-align:left;\"> encode_chipseq_subset </td>\n",
       "   <td style=\"text-align:left;\"> ENCFF242AOL.bed.gz </td>\n",
       "   <td style=\"text-align:left;\"> encode_chipseq_ZEB2_ENCFF242AOL </td>\n",
       "   <td style=\"text-align:left;\"> /data/reddylab/Kuei/repo/Proj_ENCODE_FCC/results/region/encode_chipseq_subset/ENCFF242AOL.bed.gz </td>\n",
       "  </tr>\n",
       "  <tr>\n",
       "   <td style=\"text-align:left;\"> encode_chipseq_subset </td>\n",
       "   <td style=\"text-align:left;\"> ENCFF323WOT.bed.gz </td>\n",
       "   <td style=\"text-align:left;\"> encode_chipseq_H3K27me3_ENCFF323WOT </td>\n",
       "   <td style=\"text-align:left;\"> /data/reddylab/Kuei/repo/Proj_ENCODE_FCC/results/region/encode_chipseq_subset/ENCFF323WOT.bed.gz </td>\n",
       "  </tr>\n",
       "  <tr>\n",
       "   <td style=\"text-align:left;\"> encode_chipseq_subset </td>\n",
       "   <td style=\"text-align:left;\"> ENCFF355MNE.bed.gz </td>\n",
       "   <td style=\"text-align:left;\"> encode_chipseq_POLR2A_ENCFF355MNE </td>\n",
       "   <td style=\"text-align:left;\"> /data/reddylab/Kuei/repo/Proj_ENCODE_FCC/results/region/encode_chipseq_subset/ENCFF355MNE.bed.gz </td>\n",
       "  </tr>\n",
       "  <tr>\n",
       "   <td style=\"text-align:left;\"> encode_chipseq_subset </td>\n",
       "   <td style=\"text-align:left;\"> ENCFF398UQZ.bed.gz </td>\n",
       "   <td style=\"text-align:left;\"> encode_chipseq_YY1_ENCFF398UQZ </td>\n",
       "   <td style=\"text-align:left;\"> /data/reddylab/Kuei/repo/Proj_ENCODE_FCC/results/region/encode_chipseq_subset/ENCFF398UQZ.bed.gz </td>\n",
       "  </tr>\n",
       "  <tr>\n",
       "   <td style=\"text-align:left;\"> encode_chipseq_subset </td>\n",
       "   <td style=\"text-align:left;\"> ENCFF488OTN.bed.gz </td>\n",
       "   <td style=\"text-align:left;\"> encode_chipseq_KLF16_ENCFF488OTN </td>\n",
       "   <td style=\"text-align:left;\"> /data/reddylab/Kuei/repo/Proj_ENCODE_FCC/results/region/encode_chipseq_subset/ENCFF488OTN.bed.gz </td>\n",
       "  </tr>\n",
       "  <tr>\n",
       "   <td style=\"text-align:left;\"> encode_chipseq_subset </td>\n",
       "   <td style=\"text-align:left;\"> ENCFF544LXB.bed.gz </td>\n",
       "   <td style=\"text-align:left;\"> encode_chipseq_H3K27ac_ENCFF544LXB </td>\n",
       "   <td style=\"text-align:left;\"> /data/reddylab/Kuei/repo/Proj_ENCODE_FCC/results/region/encode_chipseq_subset/ENCFF544LXB.bed.gz </td>\n",
       "  </tr>\n",
       "  <tr>\n",
       "   <td style=\"text-align:left;\"> encode_chipseq_subset </td>\n",
       "   <td style=\"text-align:left;\"> ENCFF553GPK.bed.gz </td>\n",
       "   <td style=\"text-align:left;\"> encode_chipseq_SP1_ENCFF553GPK </td>\n",
       "   <td style=\"text-align:left;\"> /data/reddylab/Kuei/repo/Proj_ENCODE_FCC/results/region/encode_chipseq_subset/ENCFF553GPK.bed.gz </td>\n",
       "  </tr>\n",
       "  <tr>\n",
       "   <td style=\"text-align:left;\"> encode_chipseq_subset </td>\n",
       "   <td style=\"text-align:left;\"> ENCFF627RSK.bed.gz </td>\n",
       "   <td style=\"text-align:left;\"> encode_chipseq_ATF1_ENCFF627RSK </td>\n",
       "   <td style=\"text-align:left;\"> /data/reddylab/Kuei/repo/Proj_ENCODE_FCC/results/region/encode_chipseq_subset/ENCFF627RSK.bed.gz </td>\n",
       "  </tr>\n",
       "  <tr>\n",
       "   <td style=\"text-align:left;\"> encode_chipseq_subset </td>\n",
       "   <td style=\"text-align:left;\"> ENCFF657CTC.bed.gz </td>\n",
       "   <td style=\"text-align:left;\"> encode_chipseq_GATA1_ENCFF657CTC </td>\n",
       "   <td style=\"text-align:left;\"> /data/reddylab/Kuei/repo/Proj_ENCODE_FCC/results/region/encode_chipseq_subset/ENCFF657CTC.bed.gz </td>\n",
       "  </tr>\n",
       "  <tr>\n",
       "   <td style=\"text-align:left;\"> encode_chipseq_subset </td>\n",
       "   <td style=\"text-align:left;\"> ENCFF660GHM.bed.gz </td>\n",
       "   <td style=\"text-align:left;\"> encode_chipseq_CTCF_ENCFF660GHM </td>\n",
       "   <td style=\"text-align:left;\"> /data/reddylab/Kuei/repo/Proj_ENCODE_FCC/results/region/encode_chipseq_subset/ENCFF660GHM.bed.gz </td>\n",
       "  </tr>\n",
       "  <tr>\n",
       "   <td style=\"text-align:left;\"> encode_chipseq_subset </td>\n",
       "   <td style=\"text-align:left;\"> ENCFF702XPO.bed.gz </td>\n",
       "   <td style=\"text-align:left;\"> encode_chipseq_EP300_ENCFF702XPO </td>\n",
       "   <td style=\"text-align:left;\"> /data/reddylab/Kuei/repo/Proj_ENCODE_FCC/results/region/encode_chipseq_subset/ENCFF702XPO.bed.gz </td>\n",
       "  </tr>\n",
       "  <tr>\n",
       "   <td style=\"text-align:left;\"> encode_chipseq_subset </td>\n",
       "   <td style=\"text-align:left;\"> ENCFF707MDI.bed.gz </td>\n",
       "   <td style=\"text-align:left;\"> encode_chipseq_REST_ENCFF707MDI </td>\n",
       "   <td style=\"text-align:left;\"> /data/reddylab/Kuei/repo/Proj_ENCODE_FCC/results/region/encode_chipseq_subset/ENCFF707MDI.bed.gz </td>\n",
       "  </tr>\n",
       "  <tr>\n",
       "   <td style=\"text-align:left;\"> encode_chipseq_subset </td>\n",
       "   <td style=\"text-align:left;\"> ENCFF715WGN.bed.gz </td>\n",
       "   <td style=\"text-align:left;\"> encode_chipseq_ELK1_ENCFF715WGN </td>\n",
       "   <td style=\"text-align:left;\"> /data/reddylab/Kuei/repo/Proj_ENCODE_FCC/results/region/encode_chipseq_subset/ENCFF715WGN.bed.gz </td>\n",
       "  </tr>\n",
       "  <tr>\n",
       "   <td style=\"text-align:left;\"> encode_chipseq_subset </td>\n",
       "   <td style=\"text-align:left;\"> ENCFF749KLQ.bed.gz </td>\n",
       "   <td style=\"text-align:left;\"> encode_chipseq_H3K4me2_ENCFF749KLQ </td>\n",
       "   <td style=\"text-align:left;\"> /data/reddylab/Kuei/repo/Proj_ENCODE_FCC/results/region/encode_chipseq_subset/ENCFF749KLQ.bed.gz </td>\n",
       "  </tr>\n",
       "  <tr>\n",
       "   <td style=\"text-align:left;\"> encode_chipseq_subset </td>\n",
       "   <td style=\"text-align:left;\"> ENCFF777PKJ.bed.gz </td>\n",
       "   <td style=\"text-align:left;\"> encode_chipseq_NRF1_ENCFF777PKJ </td>\n",
       "   <td style=\"text-align:left;\"> /data/reddylab/Kuei/repo/Proj_ENCODE_FCC/results/region/encode_chipseq_subset/ENCFF777PKJ.bed.gz </td>\n",
       "  </tr>\n",
       "  <tr>\n",
       "   <td style=\"text-align:left;\"> encode_chipseq_subset </td>\n",
       "   <td style=\"text-align:left;\"> ENCFF852ZRK.bed.gz </td>\n",
       "   <td style=\"text-align:left;\"> encode_chipseq_TAL1_ENCFF852ZRK </td>\n",
       "   <td style=\"text-align:left;\"> /data/reddylab/Kuei/repo/Proj_ENCODE_FCC/results/region/encode_chipseq_subset/ENCFF852ZRK.bed.gz </td>\n",
       "  </tr>\n",
       "  <tr>\n",
       "   <td style=\"text-align:left;\"> encode_chipseq_subset </td>\n",
       "   <td style=\"text-align:left;\"> ENCFF885FQN.bed.gz </td>\n",
       "   <td style=\"text-align:left;\"> encode_chipseq_H3K4me3_ENCFF885FQN </td>\n",
       "   <td style=\"text-align:left;\"> /data/reddylab/Kuei/repo/Proj_ENCODE_FCC/results/region/encode_chipseq_subset/ENCFF885FQN.bed.gz </td>\n",
       "  </tr>\n",
       "</tbody>\n",
       "</table>"
      ]
     },
     "metadata": {},
     "output_type": "display_data"
    }
   ],
   "source": [
    "### init\n",
    "vec = c(\n",
    "    \"encode_chipseq_subset\"\n",
    ")\n",
    "txt = paste(vec, collapse = \"|\")\n",
    "\n",
    "### select\n",
    "vec = vec_txt_fpath\n",
    "idx = str_detect(vec, txt)\n",
    "vec = vec[idx]\n",
    "\n",
    "### read tables\n",
    "lst = lst_dat_import\n",
    "lst = lst[vec]\n",
    "dat = bind_rows(lst)\n",
    "\n",
    "### read tables\n",
    "#lst = lapply(vec, function(txt_fpath){\n",
    "#    dat = read_tsv(txt_fpath, show_col_types = FALSE)\n",
    "#    return(dat)\n",
    "#})\n",
    "dat = bind_rows(lst)\n",
    "\n",
    "### assign and show\n",
    "dat_label_region = dat\n",
    "print(dim(dat))\n",
    "fun_display_table(dat)"
   ]
  },
  {
   "cell_type": "markdown",
   "id": "0e9e5633-6718-40ee-8476-fe587fd2ee3b",
   "metadata": {},
   "source": [
    "**Save results**"
   ]
  },
  {
   "cell_type": "code",
   "execution_count": 19,
   "id": "a61a8bfb-603b-4b8c-898b-47add132fbfa",
   "metadata": {},
   "outputs": [],
   "source": [
    "### set path\n",
    "txt_fdiry = file.path(FD_RES, \"region\", \"summary\")\n",
    "txt_fname = \"metadata.label.chipseq_subset.tsv\"\n",
    "txt_fpath = file.path(txt_fdiry, txt_fname)\n",
    "\n",
    "### write table\n",
    "dat = dat_label_region\n",
    "write_tsv(dat, txt_fpath)"
   ]
  },
  {
   "cell_type": "markdown",
   "id": "de8e7159-0073-499e-b428-e14ccadf51cb",
   "metadata": {},
   "source": [
    "## ChIP-seq (Histone)"
   ]
  },
  {
   "cell_type": "markdown",
   "id": "2c5f34ce-a926-45ca-a417-2819d04449b4",
   "metadata": {},
   "source": [
    "**Check**"
   ]
  },
  {
   "cell_type": "code",
   "execution_count": 20,
   "id": "e44a5fbb-70d3-4af9-917f-b70a5418f9fc",
   "metadata": {},
   "outputs": [
    {
     "name": "stdout",
     "output_type": "stream",
     "text": [
      "[1] \"/data/reddylab/Kuei/repo/Proj_ENCODE_FCC/results/region/encode_chipseq_histone/summary/metadata.label.tsv\"\n"
     ]
    }
   ],
   "source": [
    "### init\n",
    "vec = c(\n",
    "    \"encode_chipseq_histone\"\n",
    ")\n",
    "txt = paste(vec, collapse = \"|\")\n",
    "\n",
    "### select\n",
    "vec = vec_txt_fpath\n",
    "idx = str_detect(vec, txt)\n",
    "vec = vec[idx]\n",
    "\n",
    "### show\n",
    "print(vec)"
   ]
  },
  {
   "cell_type": "markdown",
   "id": "d003ff6a-f232-4555-a138-fb9afa97d0e4",
   "metadata": {},
   "source": [
    "**Select tables**"
   ]
  },
  {
   "cell_type": "code",
   "execution_count": 21,
   "id": "35545e12-f152-424c-8b0a-611cefa0d4dd",
   "metadata": {},
   "outputs": [
    {
     "name": "stdout",
     "output_type": "stream",
     "text": [
      "[1] 19  4\n"
     ]
    },
    {
     "data": {
      "text/html": [
       "<table>\n",
       " <thead>\n",
       "  <tr>\n",
       "   <th style=\"text-align:left;\"> Folder </th>\n",
       "   <th style=\"text-align:left;\"> FName </th>\n",
       "   <th style=\"text-align:left;\"> Label </th>\n",
       "   <th style=\"text-align:left;\"> FPath </th>\n",
       "  </tr>\n",
       " </thead>\n",
       "<tbody>\n",
       "  <tr>\n",
       "   <td style=\"text-align:left;\"> encode_chipseq_histone </td>\n",
       "   <td style=\"text-align:left;\"> ENCFF122CSI.bed.gz </td>\n",
       "   <td style=\"text-align:left;\"> encode_chipseq_H3K4me3_ENCFF122CSI </td>\n",
       "   <td style=\"text-align:left;\"> /data/reddylab/Kuei/repo/Proj_ENCODE_FCC/results/region/encode_chipseq_histone/ENCFF122CSI.bed.gz </td>\n",
       "  </tr>\n",
       "  <tr>\n",
       "   <td style=\"text-align:left;\"> encode_chipseq_histone </td>\n",
       "   <td style=\"text-align:left;\"> ENCFF135ZLM.bed.gz </td>\n",
       "   <td style=\"text-align:left;\"> encode_chipseq_H3K4me1_ENCFF135ZLM </td>\n",
       "   <td style=\"text-align:left;\"> /data/reddylab/Kuei/repo/Proj_ENCODE_FCC/results/region/encode_chipseq_histone/ENCFF135ZLM.bed.gz </td>\n",
       "  </tr>\n",
       "  <tr>\n",
       "   <td style=\"text-align:left;\"> encode_chipseq_histone </td>\n",
       "   <td style=\"text-align:left;\"> ENCFF148UQI.bed.gz </td>\n",
       "   <td style=\"text-align:left;\"> encode_chipseq_H3K9ac_ENCFF148UQI </td>\n",
       "   <td style=\"text-align:left;\"> /data/reddylab/Kuei/repo/Proj_ENCODE_FCC/results/region/encode_chipseq_histone/ENCFF148UQI.bed.gz </td>\n",
       "  </tr>\n",
       "  <tr>\n",
       "   <td style=\"text-align:left;\"> encode_chipseq_histone </td>\n",
       "   <td style=\"text-align:left;\"> ENCFF193ERO.bed.gz </td>\n",
       "   <td style=\"text-align:left;\"> encode_chipseq_H3K36me3_ENCFF193ERO </td>\n",
       "   <td style=\"text-align:left;\"> /data/reddylab/Kuei/repo/Proj_ENCODE_FCC/results/region/encode_chipseq_histone/ENCFF193ERO.bed.gz </td>\n",
       "  </tr>\n",
       "  <tr>\n",
       "   <td style=\"text-align:left;\"> encode_chipseq_histone </td>\n",
       "   <td style=\"text-align:left;\"> ENCFF209OQD.bed.gz </td>\n",
       "   <td style=\"text-align:left;\"> encode_chipseq_H3K79me2_ENCFF209OQD </td>\n",
       "   <td style=\"text-align:left;\"> /data/reddylab/Kuei/repo/Proj_ENCODE_FCC/results/region/encode_chipseq_histone/ENCFF209OQD.bed.gz </td>\n",
       "  </tr>\n",
       "  <tr>\n",
       "   <td style=\"text-align:left;\"> encode_chipseq_histone </td>\n",
       "   <td style=\"text-align:left;\"> ENCFF213OTI.bed.gz </td>\n",
       "   <td style=\"text-align:left;\"> encode_chipseq_H2AFZ_ENCFF213OTI </td>\n",
       "   <td style=\"text-align:left;\"> /data/reddylab/Kuei/repo/Proj_ENCODE_FCC/results/region/encode_chipseq_histone/ENCFF213OTI.bed.gz </td>\n",
       "  </tr>\n",
       "  <tr>\n",
       "   <td style=\"text-align:left;\"> encode_chipseq_histone </td>\n",
       "   <td style=\"text-align:left;\"> ENCFF323WOT.bed.gz </td>\n",
       "   <td style=\"text-align:left;\"> encode_chipseq_H3K27me3_ENCFF323WOT </td>\n",
       "   <td style=\"text-align:left;\"> /data/reddylab/Kuei/repo/Proj_ENCODE_FCC/results/region/encode_chipseq_histone/ENCFF323WOT.bed.gz </td>\n",
       "  </tr>\n",
       "  <tr>\n",
       "   <td style=\"text-align:left;\"> encode_chipseq_histone </td>\n",
       "   <td style=\"text-align:left;\"> ENCFF462AVD.bed.gz </td>\n",
       "   <td style=\"text-align:left;\"> encode_chipseq_H3K9me1_ENCFF462AVD </td>\n",
       "   <td style=\"text-align:left;\"> /data/reddylab/Kuei/repo/Proj_ENCODE_FCC/results/region/encode_chipseq_histone/ENCFF462AVD.bed.gz </td>\n",
       "  </tr>\n",
       "  <tr>\n",
       "   <td style=\"text-align:left;\"> encode_chipseq_histone </td>\n",
       "   <td style=\"text-align:left;\"> ENCFF540NGG.bed.gz </td>\n",
       "   <td style=\"text-align:left;\"> encode_chipseq_H3K4me1_ENCFF540NGG </td>\n",
       "   <td style=\"text-align:left;\"> /data/reddylab/Kuei/repo/Proj_ENCODE_FCC/results/region/encode_chipseq_histone/ENCFF540NGG.bed.gz </td>\n",
       "  </tr>\n",
       "  <tr>\n",
       "   <td style=\"text-align:left;\"> encode_chipseq_histone </td>\n",
       "   <td style=\"text-align:left;\"> ENCFF544LXB.bed.gz </td>\n",
       "   <td style=\"text-align:left;\"> encode_chipseq_H3K27ac_ENCFF544LXB </td>\n",
       "   <td style=\"text-align:left;\"> /data/reddylab/Kuei/repo/Proj_ENCODE_FCC/results/region/encode_chipseq_histone/ENCFF544LXB.bed.gz </td>\n",
       "  </tr>\n",
       "  <tr>\n",
       "   <td style=\"text-align:left;\"> encode_chipseq_histone </td>\n",
       "   <td style=\"text-align:left;\"> ENCFF561OUZ.bed.gz </td>\n",
       "   <td style=\"text-align:left;\"> encode_chipseq_H3K36me3_ENCFF561OUZ </td>\n",
       "   <td style=\"text-align:left;\"> /data/reddylab/Kuei/repo/Proj_ENCODE_FCC/results/region/encode_chipseq_histone/ENCFF561OUZ.bed.gz </td>\n",
       "  </tr>\n",
       "  <tr>\n",
       "   <td style=\"text-align:left;\"> encode_chipseq_histone </td>\n",
       "   <td style=\"text-align:left;\"> ENCFF689QIJ.bed.gz </td>\n",
       "   <td style=\"text-align:left;\"> encode_chipseq_H3K4me3_ENCFF689QIJ </td>\n",
       "   <td style=\"text-align:left;\"> /data/reddylab/Kuei/repo/Proj_ENCODE_FCC/results/region/encode_chipseq_histone/ENCFF689QIJ.bed.gz </td>\n",
       "  </tr>\n",
       "  <tr>\n",
       "   <td style=\"text-align:left;\"> encode_chipseq_histone </td>\n",
       "   <td style=\"text-align:left;\"> ENCFF706WUF.bed.gz </td>\n",
       "   <td style=\"text-align:left;\"> encode_chipseq_H3K4me3_ENCFF706WUF </td>\n",
       "   <td style=\"text-align:left;\"> /data/reddylab/Kuei/repo/Proj_ENCODE_FCC/results/region/encode_chipseq_histone/ENCFF706WUF.bed.gz </td>\n",
       "  </tr>\n",
       "  <tr>\n",
       "   <td style=\"text-align:left;\"> encode_chipseq_histone </td>\n",
       "   <td style=\"text-align:left;\"> ENCFF749KLQ.bed.gz </td>\n",
       "   <td style=\"text-align:left;\"> encode_chipseq_H3K4me2_ENCFF749KLQ </td>\n",
       "   <td style=\"text-align:left;\"> /data/reddylab/Kuei/repo/Proj_ENCODE_FCC/results/region/encode_chipseq_histone/ENCFF749KLQ.bed.gz </td>\n",
       "  </tr>\n",
       "  <tr>\n",
       "   <td style=\"text-align:left;\"> encode_chipseq_histone </td>\n",
       "   <td style=\"text-align:left;\"> ENCFF801AHF.bed.gz </td>\n",
       "   <td style=\"text-align:left;\"> encode_chipseq_H3K27me3_ENCFF801AHF </td>\n",
       "   <td style=\"text-align:left;\"> /data/reddylab/Kuei/repo/Proj_ENCODE_FCC/results/region/encode_chipseq_histone/ENCFF801AHF.bed.gz </td>\n",
       "  </tr>\n",
       "  <tr>\n",
       "   <td style=\"text-align:left;\"> encode_chipseq_histone </td>\n",
       "   <td style=\"text-align:left;\"> ENCFF885FQN.bed.gz </td>\n",
       "   <td style=\"text-align:left;\"> encode_chipseq_H3K4me3_ENCFF885FQN </td>\n",
       "   <td style=\"text-align:left;\"> /data/reddylab/Kuei/repo/Proj_ENCODE_FCC/results/region/encode_chipseq_histone/ENCFF885FQN.bed.gz </td>\n",
       "  </tr>\n",
       "  <tr>\n",
       "   <td style=\"text-align:left;\"> encode_chipseq_histone </td>\n",
       "   <td style=\"text-align:left;\"> ENCFF891CHI.bed.gz </td>\n",
       "   <td style=\"text-align:left;\"> encode_chipseq_H3K9ac_ENCFF891CHI </td>\n",
       "   <td style=\"text-align:left;\"> /data/reddylab/Kuei/repo/Proj_ENCODE_FCC/results/region/encode_chipseq_histone/ENCFF891CHI.bed.gz </td>\n",
       "  </tr>\n",
       "  <tr>\n",
       "   <td style=\"text-align:left;\"> encode_chipseq_histone </td>\n",
       "   <td style=\"text-align:left;\"> ENCFF909RKY.bed.gz </td>\n",
       "   <td style=\"text-align:left;\"> encode_chipseq_H4K20me1_ENCFF909RKY </td>\n",
       "   <td style=\"text-align:left;\"> /data/reddylab/Kuei/repo/Proj_ENCODE_FCC/results/region/encode_chipseq_histone/ENCFF909RKY.bed.gz </td>\n",
       "  </tr>\n",
       "  <tr>\n",
       "   <td style=\"text-align:left;\"> encode_chipseq_histone </td>\n",
       "   <td style=\"text-align:left;\"> ENCFF963GZJ.bed.gz </td>\n",
       "   <td style=\"text-align:left;\"> encode_chipseq_H3K9me3_ENCFF963GZJ </td>\n",
       "   <td style=\"text-align:left;\"> /data/reddylab/Kuei/repo/Proj_ENCODE_FCC/results/region/encode_chipseq_histone/ENCFF963GZJ.bed.gz </td>\n",
       "  </tr>\n",
       "</tbody>\n",
       "</table>"
      ]
     },
     "metadata": {},
     "output_type": "display_data"
    }
   ],
   "source": [
    "### init\n",
    "vec = c(\n",
    "    \"encode_chipseq_histone\"\n",
    ")\n",
    "txt = paste(vec, collapse = \"|\")\n",
    "\n",
    "### select\n",
    "vec = vec_txt_fpath\n",
    "idx = str_detect(vec, txt)\n",
    "vec = vec[idx]\n",
    "\n",
    "### read tables\n",
    "lst = lst_dat_import\n",
    "lst = lst[vec]\n",
    "dat = bind_rows(lst)\n",
    "\n",
    "### assign and show\n",
    "dat_label_region = dat\n",
    "print(dim(dat))\n",
    "fun_display_table(dat)"
   ]
  },
  {
   "cell_type": "markdown",
   "id": "15484e8e-1bed-483d-95bd-56983fbfcf4f",
   "metadata": {},
   "source": [
    "**Save results**"
   ]
  },
  {
   "cell_type": "code",
   "execution_count": 22,
   "id": "7cda450e-de69-477c-99ab-c402ef293b13",
   "metadata": {},
   "outputs": [],
   "source": [
    "### set path\n",
    "txt_fdiry = file.path(FD_RES, \"region\", \"summary\")\n",
    "txt_fname = \"metadata.label.chipseq_histone.tsv\"\n",
    "txt_fpath = file.path(txt_fdiry, txt_fname)\n",
    "\n",
    "### write table\n",
    "dat = dat_label_region\n",
    "write_tsv(dat, txt_fpath)"
   ]
  },
  {
   "cell_type": "markdown",
   "id": "6079122f-dd20-41a9-bc49-fd15dc530f5f",
   "metadata": {},
   "source": [
    "## ChIP-seq (TF Full)"
   ]
  },
  {
   "cell_type": "markdown",
   "id": "69e2c76f-74ba-432f-a8b9-72f7a50903fa",
   "metadata": {},
   "source": [
    "**Check**"
   ]
  },
  {
   "cell_type": "code",
   "execution_count": 23,
   "id": "500f7af5-70a1-4236-a07b-140c531c133f",
   "metadata": {},
   "outputs": [
    {
     "name": "stdout",
     "output_type": "stream",
     "text": [
      "[1] \"/data/reddylab/Kuei/repo/Proj_ENCODE_FCC/results/region/encode_chipseq_tf_full/summary/metadata.label.tsv\"\n"
     ]
    }
   ],
   "source": [
    "### init\n",
    "vec = c(\n",
    "    \"encode_chipseq_tf_full\"\n",
    ")\n",
    "txt = paste(vec, collapse = \"|\")\n",
    "\n",
    "### select\n",
    "vec = vec_txt_fpath\n",
    "idx = str_detect(vec, txt)\n",
    "vec = vec[idx]\n",
    "\n",
    "### show\n",
    "print(vec)"
   ]
  },
  {
   "cell_type": "markdown",
   "id": "3059721d-325b-4d82-8b29-d19cf06cdc3d",
   "metadata": {},
   "source": [
    "**Select tables**"
   ]
  },
  {
   "cell_type": "code",
   "execution_count": 24,
   "id": "b16b8ad1-50ab-48fb-a21e-2f6d569e9a10",
   "metadata": {},
   "outputs": [
    {
     "name": "stdout",
     "output_type": "stream",
     "text": [
      "[1] 720   4\n"
     ]
    },
    {
     "data": {
      "text/html": [
       "<table>\n",
       " <thead>\n",
       "  <tr>\n",
       "   <th style=\"text-align:left;\"> Folder </th>\n",
       "   <th style=\"text-align:left;\"> FName </th>\n",
       "   <th style=\"text-align:left;\"> Label </th>\n",
       "   <th style=\"text-align:left;\"> FPath </th>\n",
       "  </tr>\n",
       " </thead>\n",
       "<tbody>\n",
       "  <tr>\n",
       "   <td style=\"text-align:left;\"> encode_chipseq_tf_full </td>\n",
       "   <td style=\"text-align:left;\"> ENCFF003LPE.bed.gz </td>\n",
       "   <td style=\"text-align:left;\"> encode_chipseq_RUNX1_ENCFF003LPE </td>\n",
       "   <td style=\"text-align:left;\"> /data/reddylab/Kuei/repo/Proj_ENCODE_FCC/results/region/encode_chipseq_tf_full/ENCFF003LPE.bed.gz </td>\n",
       "  </tr>\n",
       "  <tr>\n",
       "   <td style=\"text-align:left;\"> encode_chipseq_tf_full </td>\n",
       "   <td style=\"text-align:left;\"> ENCFF004HXL.bed.gz </td>\n",
       "   <td style=\"text-align:left;\"> encode_chipseq_FOSL1_ENCFF004HXL </td>\n",
       "   <td style=\"text-align:left;\"> /data/reddylab/Kuei/repo/Proj_ENCODE_FCC/results/region/encode_chipseq_tf_full/ENCFF004HXL.bed.gz </td>\n",
       "  </tr>\n",
       "  <tr>\n",
       "   <td style=\"text-align:left;\"> encode_chipseq_tf_full </td>\n",
       "   <td style=\"text-align:left;\"> ENCFF004YCK.bed.gz </td>\n",
       "   <td style=\"text-align:left;\"> encode_chipseq_ZNF740_ENCFF004YCK </td>\n",
       "   <td style=\"text-align:left;\"> /data/reddylab/Kuei/repo/Proj_ENCODE_FCC/results/region/encode_chipseq_tf_full/ENCFF004YCK.bed.gz </td>\n",
       "  </tr>\n",
       "  <tr>\n",
       "   <td style=\"text-align:left;\"> encode_chipseq_tf_full </td>\n",
       "   <td style=\"text-align:left;\"> ENCFF005MBI.bed.gz </td>\n",
       "   <td style=\"text-align:left;\"> encode_chipseq_ZNF584_ENCFF005MBI </td>\n",
       "   <td style=\"text-align:left;\"> /data/reddylab/Kuei/repo/Proj_ENCODE_FCC/results/region/encode_chipseq_tf_full/ENCFF005MBI.bed.gz </td>\n",
       "  </tr>\n",
       "  <tr>\n",
       "   <td style=\"text-align:left;\"> encode_chipseq_tf_full </td>\n",
       "   <td style=\"text-align:left;\"> ENCFF009RFC.bed.gz </td>\n",
       "   <td style=\"text-align:left;\"> encode_chipseq_GABPB1_ENCFF009RFC </td>\n",
       "   <td style=\"text-align:left;\"> /data/reddylab/Kuei/repo/Proj_ENCODE_FCC/results/region/encode_chipseq_tf_full/ENCFF009RFC.bed.gz </td>\n",
       "  </tr>\n",
       "  <tr>\n",
       "   <td style=\"text-align:left;\"> encode_chipseq_tf_full </td>\n",
       "   <td style=\"text-align:left;\"> ENCFF014HYS.bed.gz </td>\n",
       "   <td style=\"text-align:left;\"> encode_chipseq_ZNF84_ENCFF014HYS </td>\n",
       "   <td style=\"text-align:left;\"> /data/reddylab/Kuei/repo/Proj_ENCODE_FCC/results/region/encode_chipseq_tf_full/ENCFF014HYS.bed.gz </td>\n",
       "  </tr>\n",
       "</tbody>\n",
       "</table>"
      ]
     },
     "metadata": {},
     "output_type": "display_data"
    }
   ],
   "source": [
    "### init\n",
    "vec = c(\n",
    "    \"encode_chipseq_tf_full\"\n",
    ")\n",
    "txt = paste(vec, collapse = \"|\")\n",
    "\n",
    "### select\n",
    "vec = vec_txt_fpath\n",
    "idx = str_detect(vec, txt)\n",
    "vec = vec[idx]\n",
    "\n",
    "### read tables\n",
    "lst = lst_dat_import\n",
    "lst = lst[vec]\n",
    "dat = bind_rows(lst)\n",
    "\n",
    "### assign and show\n",
    "dat_label_region = dat\n",
    "print(dim(dat))\n",
    "fun_display_table(head(dat))"
   ]
  },
  {
   "cell_type": "markdown",
   "id": "fede0a42-a2a9-445c-8390-2ab7cb21ea5c",
   "metadata": {},
   "source": [
    "**Save results**"
   ]
  },
  {
   "cell_type": "code",
   "execution_count": 25,
   "id": "d70ea3ed-9cbd-4154-93b5-26694e00b798",
   "metadata": {},
   "outputs": [],
   "source": [
    "### set path\n",
    "txt_fdiry = file.path(FD_RES, \"region\", \"summary\")\n",
    "txt_fname = \"metadata.label.chipseq_tf_full.tsv\"\n",
    "txt_fpath = file.path(txt_fdiry, txt_fname)\n",
    "\n",
    "### write table\n",
    "dat = dat_label_region\n",
    "write_tsv(dat, txt_fpath)"
   ]
  },
  {
   "cell_type": "code",
   "execution_count": null,
   "id": "961eb268-dada-46df-8ad6-3e93d32e7b36",
   "metadata": {},
   "outputs": [],
   "source": []
  }
 ],
 "metadata": {
  "kernelspec": {
   "display_name": "R",
   "language": "R",
   "name": "ir"
  },
  "language_info": {
   "codemirror_mode": "r",
   "file_extension": ".r",
   "mimetype": "text/x-r-source",
   "name": "R",
   "pygments_lexer": "r",
   "version": "4.4.2"
  }
 },
 "nbformat": 4,
 "nbformat_minor": 5
}
