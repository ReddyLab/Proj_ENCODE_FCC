{
 "cells": [
  {
   "cell_type": "raw",
   "id": "a8e6e7fa-b867-4686-8bf8-bf9aafa39bd4",
   "metadata": {},
   "source": [
    "---\n",
    "title: Prepare ENCODE E2G data 02\n",
    "subtitle: Create metadata table\n",
    "format:\n",
    "    html:\n",
    "        code-fold:  true\n",
    "        code-tools: true\n",
    "---"
   ]
  },
  {
   "cell_type": "markdown",
   "id": "05723436-4798-4577-8d1a-3ff36b928215",
   "metadata": {},
   "source": [
    "**Set environment**"
   ]
  },
  {
   "cell_type": "code",
   "execution_count": 1,
   "id": "c8337ad8-c746-4941-beb2-a0793f1884ee",
   "metadata": {
    "tags": []
   },
   "outputs": [
    {
     "name": "stdout",
     "output_type": "stream",
     "text": [
      "You are working on        Singularity: singularity_proj_encode_fcc \n",
      "BASE DIRECTORY (FD_BASE): /data/reddylab/Kuei \n",
      "REPO DIRECTORY (FD_REPO): /data/reddylab/Kuei/repo \n",
      "WORK DIRECTORY (FD_WORK): /data/reddylab/Kuei/work \n",
      "DATA DIRECTORY (FD_DATA): /data/reddylab/Kuei/data \n",
      "\n",
      "You are working with      ENCODE FCC \n",
      "PATH OF PROJECT (FD_PRJ): /data/reddylab/Kuei/repo/Proj_ENCODE_FCC \n",
      "PROJECT RESULTS (FD_RES): /data/reddylab/Kuei/repo/Proj_ENCODE_FCC/results \n",
      "PROJECT SCRIPTS (FD_EXE): /data/reddylab/Kuei/repo/Proj_ENCODE_FCC/scripts \n",
      "PROJECT DATA    (FD_DAT): /data/reddylab/Kuei/repo/Proj_ENCODE_FCC/data \n",
      "PROJECT NOTE    (FD_NBK): /data/reddylab/Kuei/repo/Proj_ENCODE_FCC/notebooks \n",
      "PROJECT DOCS    (FD_DOC): /data/reddylab/Kuei/repo/Proj_ENCODE_FCC/docs \n",
      "PROJECT LOG     (FD_LOG): /data/reddylab/Kuei/repo/Proj_ENCODE_FCC/log \n",
      "PROJECT REF     (FD_REF): /data/reddylab/Kuei/repo/Proj_ENCODE_FCC/references \n",
      "\n"
     ]
    }
   ],
   "source": [
    "suppressMessages(suppressWarnings(source(\"../run_config_project_sing.R\")))\n",
    "show_env()"
   ]
  },
  {
   "cell_type": "markdown",
   "id": "94fb07d8-74da-49f9-90fc-35b82aa88a74",
   "metadata": {},
   "source": [
    "**Set global variables**"
   ]
  },
  {
   "cell_type": "code",
   "execution_count": 2,
   "id": "0f56cbeb-b40d-40b2-ab19-053a126995c5",
   "metadata": {},
   "outputs": [],
   "source": [
    "TXT_FOLDER_REGION = \"encode_e2g_benchmark\""
   ]
  },
  {
   "cell_type": "markdown",
   "id": "5d1b6859-9e1f-4cc5-9572-f96b3fed80b1",
   "metadata": {},
   "source": [
    "## Define file labeling"
   ]
  },
  {
   "cell_type": "code",
   "execution_count": 3,
   "id": "26b2cf26-d54b-4219-89c4-a25c2b90fbde",
   "metadata": {},
   "outputs": [
    {
     "name": "stdout",
     "output_type": "stream",
     "text": [
      "[1] \"K562.hg38.ENCODE_E2G.benchmark.bed.gz\"\n"
     ]
    }
   ],
   "source": [
    "### set directory\n",
    "txt_folder = TXT_FOLDER_REGION\n",
    "txt_fdiry  = file.path(FD_RES, \"region\", txt_folder)\n",
    "txt_fglob  = file.path(txt_fdiry, \"*bed*\")\n",
    "\n",
    "### get file names\n",
    "vec_txt_fpath = Sys.glob(txt_fglob)\n",
    "vec_txt_fname = basename(vec_txt_fpath)\n",
    "\n",
    "print(vec_txt_fname)"
   ]
  },
  {
   "cell_type": "code",
   "execution_count": 4,
   "id": "5bbac504-875a-4e2f-a7a2-0d33e752526b",
   "metadata": {},
   "outputs": [
    {
     "data": {
      "text/html": [
       "<table>\n",
       " <thead>\n",
       "  <tr>\n",
       "   <th style=\"text-align:left;\"> Folder </th>\n",
       "   <th style=\"text-align:left;\"> FName </th>\n",
       "   <th style=\"text-align:left;\"> Label </th>\n",
       "   <th style=\"text-align:left;\"> FPath </th>\n",
       "  </tr>\n",
       " </thead>\n",
       "<tbody>\n",
       "  <tr>\n",
       "   <td style=\"text-align:left;\"> encode_e2g_benchmark </td>\n",
       "   <td style=\"text-align:left;\"> K562.hg38.ENCODE_E2G.benchmark.bed.gz </td>\n",
       "   <td style=\"text-align:left;\"> encode_e2g_benchmark </td>\n",
       "   <td style=\"text-align:left;\"> /data/reddylab/Kuei/repo/Proj_ENCODE_FCC/results/region/encode_e2g_benchmark/K562.hg38.ENCODE_E2G.benchmark.bed.gz </td>\n",
       "  </tr>\n",
       "</tbody>\n",
       "</table>"
      ]
     },
     "metadata": {},
     "output_type": "display_data"
    }
   ],
   "source": [
    "### init info table\n",
    "dat = data.frame(\n",
    "    \"Folder\" = txt_folder,\n",
    "    \"FName\"  = vec_txt_fname,\n",
    "    \"Label\"  = \"encode_e2g_benchmark\",\n",
    "    \"FPath\"  = vec_txt_fpath\n",
    ")\n",
    "\n",
    "### assign and show\n",
    "dat_region_label = dat\n",
    "fun_display_table(dat)"
   ]
  },
  {
   "cell_type": "markdown",
   "id": "e574ed03-d120-41d5-ad5e-3da3136b5f58",
   "metadata": {},
   "source": [
    "## Save results"
   ]
  },
  {
   "cell_type": "code",
   "execution_count": 5,
   "id": "a68f6d13-6c57-4ca2-8188-b9cc37ec59d1",
   "metadata": {},
   "outputs": [],
   "source": [
    "txt_folder = TXT_FOLDER_REGION\n",
    "txt_fdiry  = file.path(FD_RES, \"region\", txt_folder, \"summary\")\n",
    "txt_fname  = \"metadata.label.tsv\"\n",
    "txt_fpath  = file.path(txt_fdiry, txt_fname)\n",
    "\n",
    "dir.create(txt_fdiry, showWarnings = FALSE)\n",
    "dat = dat_region_label\n",
    "write_tsv(dat, txt_fpath)"
   ]
  },
  {
   "cell_type": "code",
   "execution_count": null,
   "id": "f3697ac0-768b-418a-ab09-7efc3a6895f9",
   "metadata": {},
   "outputs": [],
   "source": []
  }
 ],
 "metadata": {
  "kernelspec": {
   "display_name": "R",
   "language": "R",
   "name": "ir"
  },
  "language_info": {
   "codemirror_mode": "r",
   "file_extension": ".r",
   "mimetype": "text/x-r-source",
   "name": "R",
   "pygments_lexer": "r",
   "version": "4.4.2"
  }
 },
 "nbformat": 4,
 "nbformat_minor": 5
}
