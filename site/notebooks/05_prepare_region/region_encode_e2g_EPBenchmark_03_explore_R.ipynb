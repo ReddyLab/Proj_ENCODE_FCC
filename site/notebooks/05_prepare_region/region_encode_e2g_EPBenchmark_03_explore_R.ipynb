{
 "cells": [
  {
   "cell_type": "raw",
   "id": "4760bc8b-5a88-4c5e-a4cf-698f6b379c74",
   "metadata": {},
   "source": [
    "---\n",
    "title: Prepare ENCODE E2G data 03\n",
    "subtitle: Explore and summarize data\n",
    "format:\n",
    "    html:\n",
    "        code-fold:  true\n",
    "        code-tools: true\n",
    "---"
   ]
  },
  {
   "cell_type": "markdown",
   "id": "e1433dd5-1149-44a5-bd7f-831b1d8c99d3",
   "metadata": {},
   "source": [
    "**Set environment**"
   ]
  },
  {
   "cell_type": "code",
   "execution_count": 1,
   "id": "c2266cee-b8a4-40dc-901a-94e6dfbadb0d",
   "metadata": {
    "tags": []
   },
   "outputs": [
    {
     "name": "stdout",
     "output_type": "stream",
     "text": [
      "You are working on        Singularity: singularity_proj_encode_fcc \n",
      "BASE DIRECTORY (FD_BASE): /data/reddylab/Kuei \n",
      "REPO DIRECTORY (FD_REPO): /data/reddylab/Kuei/repo \n",
      "WORK DIRECTORY (FD_WORK): /data/reddylab/Kuei/work \n",
      "DATA DIRECTORY (FD_DATA): /data/reddylab/Kuei/data \n",
      "\n",
      "You are working with      ENCODE FCC \n",
      "PATH OF PROJECT (FD_PRJ): /data/reddylab/Kuei/repo/Proj_ENCODE_FCC \n",
      "PROJECT RESULTS (FD_RES): /data/reddylab/Kuei/repo/Proj_ENCODE_FCC/results \n",
      "PROJECT SCRIPTS (FD_EXE): /data/reddylab/Kuei/repo/Proj_ENCODE_FCC/scripts \n",
      "PROJECT DATA    (FD_DAT): /data/reddylab/Kuei/repo/Proj_ENCODE_FCC/data \n",
      "PROJECT NOTE    (FD_NBK): /data/reddylab/Kuei/repo/Proj_ENCODE_FCC/notebooks \n",
      "PROJECT DOCS    (FD_DOC): /data/reddylab/Kuei/repo/Proj_ENCODE_FCC/docs \n",
      "PROJECT LOG     (FD_LOG): /data/reddylab/Kuei/repo/Proj_ENCODE_FCC/log \n",
      "PROJECT REF     (FD_REF): /data/reddylab/Kuei/repo/Proj_ENCODE_FCC/references \n",
      "\n"
     ]
    }
   ],
   "source": [
    "suppressMessages(suppressWarnings(source(\"../run_config_project_sing.R\")))\n",
    "show_env()"
   ]
  },
  {
   "cell_type": "markdown",
   "id": "474db830-8c6c-4b84-8c6b-559c9f9a5e21",
   "metadata": {},
   "source": [
    "**Set global variable**"
   ]
  },
  {
   "cell_type": "code",
   "execution_count": 2,
   "id": "2e602335-b122-41d4-b2ac-0ab555bd1588",
   "metadata": {},
   "outputs": [],
   "source": [
    "TXT_FOLDER_REGION = \"encode_e2g_benchmark\""
   ]
  },
  {
   "cell_type": "markdown",
   "id": "9c07bfef-fd01-4884-92d9-07342be85c8f",
   "metadata": {},
   "source": [
    "## Import data"
   ]
  },
  {
   "cell_type": "code",
   "execution_count": 3,
   "id": "9a225f78-f26c-4d07-bdc5-33b38cc60334",
   "metadata": {},
   "outputs": [
    {
     "data": {
      "text/html": [
       "<style>\n",
       ".list-inline {list-style: none; margin:0; padding: 0}\n",
       ".list-inline>li {display: inline-block}\n",
       ".list-inline>li:not(:last-child)::after {content: \"\\00b7\"; padding: 0 .5ex}\n",
       "</style>\n",
       "<ol class=list-inline><li>'K562.hg38.ENCODE_E2G.benchmark.bed.gz'</li><li>'K562.hg38.ENCODE_E2G.benchmark.tsv'</li><li>'summary'</li></ol>\n"
      ],
      "text/latex": [
       "\\begin{enumerate*}\n",
       "\\item 'K562.hg38.ENCODE\\_E2G.benchmark.bed.gz'\n",
       "\\item 'K562.hg38.ENCODE\\_E2G.benchmark.tsv'\n",
       "\\item 'summary'\n",
       "\\end{enumerate*}\n"
      ],
      "text/markdown": [
       "1. 'K562.hg38.ENCODE_E2G.benchmark.bed.gz'\n",
       "2. 'K562.hg38.ENCODE_E2G.benchmark.tsv'\n",
       "3. 'summary'\n",
       "\n",
       "\n"
      ],
      "text/plain": [
       "[1] \"K562.hg38.ENCODE_E2G.benchmark.bed.gz\"\n",
       "[2] \"K562.hg38.ENCODE_E2G.benchmark.tsv\"   \n",
       "[3] \"summary\"                              "
      ]
     },
     "metadata": {},
     "output_type": "display_data"
    }
   ],
   "source": [
    "### set directory\n",
    "txt_folder = TXT_FOLDER_REGION\n",
    "txt_fdiry  = file.path(FD_RES, \"region\", txt_folder)\n",
    "dir(txt_fdiry)"
   ]
  },
  {
   "cell_type": "code",
   "execution_count": 4,
   "id": "357ef85b-931f-4d3e-84e1-6f0297c6a36f",
   "metadata": {},
   "outputs": [
    {
     "data": {
      "text/html": [
       "<table>\n",
       " <thead>\n",
       "  <tr>\n",
       "   <th style=\"text-align:left;\"> Name </th>\n",
       "   <th style=\"text-align:left;\"> Note </th>\n",
       "  </tr>\n",
       " </thead>\n",
       "<tbody>\n",
       "  <tr>\n",
       "   <td style=\"text-align:left;\"> Chrom </td>\n",
       "   <td style=\"text-align:left;\"> Name of the chromosome </td>\n",
       "  </tr>\n",
       "  <tr>\n",
       "   <td style=\"text-align:left;\"> ChromStart </td>\n",
       "   <td style=\"text-align:left;\"> The starting position of the feature in the chromosome </td>\n",
       "  </tr>\n",
       "  <tr>\n",
       "   <td style=\"text-align:left;\"> ChromEnd </td>\n",
       "   <td style=\"text-align:left;\"> The ending position of the feature in the chromosome </td>\n",
       "  </tr>\n",
       "  <tr>\n",
       "   <td style=\"text-align:left;\"> Name </td>\n",
       "   <td style=\"text-align:left;\"> Name given to a region; Use '.' if no name is assigned. </td>\n",
       "  </tr>\n",
       "  <tr>\n",
       "   <td style=\"text-align:left;\"> Score </td>\n",
       "   <td style=\"text-align:left;\"> Effect Size </td>\n",
       "  </tr>\n",
       "  <tr>\n",
       "   <td style=\"text-align:left;\"> Region </td>\n",
       "   <td style=\"text-align:left;\"> Region coordinate of the Region-Gene pair </td>\n",
       "  </tr>\n",
       "  <tr>\n",
       "   <td style=\"text-align:left;\"> Target </td>\n",
       "   <td style=\"text-align:left;\"> Gene of the Region-Gene pair </td>\n",
       "  </tr>\n",
       "  <tr>\n",
       "   <td style=\"text-align:left;\"> NLog10P </td>\n",
       "   <td style=\"text-align:left;\"> MinusLog10PValue; -log10 of P-value </td>\n",
       "  </tr>\n",
       "  <tr>\n",
       "   <td style=\"text-align:left;\"> Regulated </td>\n",
       "   <td style=\"text-align:left;\"> Regulated or not </td>\n",
       "  </tr>\n",
       "  <tr>\n",
       "   <td style=\"text-align:left;\"> Source </td>\n",
       "   <td style=\"text-align:left;\"> Reference </td>\n",
       "  </tr>\n",
       "  <tr>\n",
       "   <td style=\"text-align:left;\"> Group </td>\n",
       "   <td style=\"text-align:left;\"> Assay name </td>\n",
       "  </tr>\n",
       "  <tr>\n",
       "   <td style=\"text-align:left;\"> Label </td>\n",
       "   <td style=\"text-align:left;\"> Region label </td>\n",
       "  </tr>\n",
       "</tbody>\n",
       "</table>"
      ]
     },
     "metadata": {},
     "output_type": "display_data"
    }
   ],
   "source": [
    "### set file path\n",
    "txt_folder = TXT_FOLDER_REGION\n",
    "txt_fdiry  = file.path(FD_RES, \"region\", txt_folder, \"summary\")\n",
    "txt_fname  = \"description.tsv\"\n",
    "txt_fpath  = file.path(txt_fdiry, txt_fname)\n",
    "\n",
    "### read table\n",
    "dat = read_tsv(txt_fpath, show_col_types = FALSE)\n",
    "\n",
    "### assign and show\n",
    "dat_cnames = dat\n",
    "fun_display_table(dat)"
   ]
  },
  {
   "cell_type": "code",
   "execution_count": 5,
   "id": "e2e47ab7-1af0-42a4-bbfe-0c44d835d3c5",
   "metadata": {},
   "outputs": [
    {
     "name": "stdout",
     "output_type": "stream",
     "text": [
      "[1] 10375    12\n"
     ]
    },
    {
     "data": {
      "text/html": [
       "<table>\n",
       " <thead>\n",
       "  <tr>\n",
       "   <th style=\"text-align:left;\"> Chrom </th>\n",
       "   <th style=\"text-align:right;\"> ChromStart </th>\n",
       "   <th style=\"text-align:right;\"> ChromEnd </th>\n",
       "   <th style=\"text-align:left;\"> Name </th>\n",
       "   <th style=\"text-align:right;\"> Score </th>\n",
       "   <th style=\"text-align:left;\"> Region </th>\n",
       "   <th style=\"text-align:left;\"> Target </th>\n",
       "   <th style=\"text-align:right;\"> NLog10P </th>\n",
       "   <th style=\"text-align:left;\"> Regulated </th>\n",
       "   <th style=\"text-align:left;\"> Source </th>\n",
       "   <th style=\"text-align:left;\"> Group </th>\n",
       "   <th style=\"text-align:left;\"> Label </th>\n",
       "  </tr>\n",
       " </thead>\n",
       "<tbody>\n",
       "  <tr>\n",
       "   <td style=\"text-align:left;\"> chr1 </td>\n",
       "   <td style=\"text-align:right;\"> 3774714 </td>\n",
       "   <td style=\"text-align:right;\"> 3775214 </td>\n",
       "   <td style=\"text-align:left;\"> CEP104|chr1:3691278-3691778:* </td>\n",
       "   <td style=\"text-align:right;\"> -0.2934319 </td>\n",
       "   <td style=\"text-align:left;\"> chr1:3774714-3775214 </td>\n",
       "   <td style=\"text-align:left;\"> CEP104 </td>\n",
       "   <td style=\"text-align:right;\"> 2.395344 </td>\n",
       "   <td style=\"text-align:left;\"> TRUE </td>\n",
       "   <td style=\"text-align:left;\"> Ulirsch2016 </td>\n",
       "   <td style=\"text-align:left;\"> E2G-Benchmark </td>\n",
       "   <td style=\"text-align:left;\"> Regulated:TRUE </td>\n",
       "  </tr>\n",
       "  <tr>\n",
       "   <td style=\"text-align:left;\"> chr1 </td>\n",
       "   <td style=\"text-align:right;\"> 3774714 </td>\n",
       "   <td style=\"text-align:right;\"> 3775214 </td>\n",
       "   <td style=\"text-align:left;\"> LRRC47|chr1:3691278-3691778:* </td>\n",
       "   <td style=\"text-align:right;\"> -0.3311781 </td>\n",
       "   <td style=\"text-align:left;\"> chr1:3774714-3775214 </td>\n",
       "   <td style=\"text-align:left;\"> LRRC47 </td>\n",
       "   <td style=\"text-align:right;\"> 2.109514 </td>\n",
       "   <td style=\"text-align:left;\"> TRUE </td>\n",
       "   <td style=\"text-align:left;\"> Ulirsch2016 </td>\n",
       "   <td style=\"text-align:left;\"> E2G-Benchmark </td>\n",
       "   <td style=\"text-align:left;\"> Regulated:TRUE </td>\n",
       "  </tr>\n",
       "  <tr>\n",
       "   <td style=\"text-align:left;\"> chr1 </td>\n",
       "   <td style=\"text-align:right;\"> 3774714 </td>\n",
       "   <td style=\"text-align:right;\"> 3775214 </td>\n",
       "   <td style=\"text-align:left;\"> SMIM1|chr1:3691278-3691778:* </td>\n",
       "   <td style=\"text-align:right;\"> -0.4720192 </td>\n",
       "   <td style=\"text-align:left;\"> chr1:3774714-3775214 </td>\n",
       "   <td style=\"text-align:left;\"> SMIM1 </td>\n",
       "   <td style=\"text-align:right;\"> 3.192703 </td>\n",
       "   <td style=\"text-align:left;\"> TRUE </td>\n",
       "   <td style=\"text-align:left;\"> Ulirsch2016 </td>\n",
       "   <td style=\"text-align:left;\"> E2G-Benchmark </td>\n",
       "   <td style=\"text-align:left;\"> Regulated:TRUE </td>\n",
       "  </tr>\n",
       "</tbody>\n",
       "</table>"
      ]
     },
     "metadata": {},
     "output_type": "display_data"
    }
   ],
   "source": [
    "### set file path\n",
    "txt_folder = TXT_FOLDER_REGION\n",
    "txt_fdiry  = file.path(FD_RES, \"region\", txt_folder)\n",
    "txt_fname  = \"K562.hg38.ENCODE_E2G.benchmark.bed.gz\"\n",
    "txt_fpath  = file.path(txt_fdiry, txt_fname)\n",
    "\n",
    "### read table\n",
    "vec = dat_cnames$Name\n",
    "dat = read_tsv(txt_fpath, col_names = vec, show_col_types = FALSE)\n",
    "\n",
    "### assign and show\n",
    "dat_region_import = dat\n",
    "print(dim(dat))\n",
    "fun_display_table(head(dat, 3))"
   ]
  },
  {
   "cell_type": "markdown",
   "id": "ad42e52a-a8dc-41a9-a44b-de16b048bc93",
   "metadata": {},
   "source": [
    "## Explore data"
   ]
  },
  {
   "cell_type": "markdown",
   "id": "ae521c38-9403-497d-8bbc-32bfe4d04b66",
   "metadata": {},
   "source": [
    "### List Source"
   ]
  },
  {
   "cell_type": "code",
   "execution_count": 9,
   "id": "0ffb6797-590a-4bcb-8d55-383d5c3bdd45",
   "metadata": {},
   "outputs": [
    {
     "data": {
      "text/html": [
       "<table>\n",
       " <thead>\n",
       "  <tr>\n",
       "   <th style=\"text-align:left;\"> Source </th>\n",
       "   <th style=\"text-align:right;\"> Count </th>\n",
       "  </tr>\n",
       " </thead>\n",
       "<tbody>\n",
       "  <tr>\n",
       "   <td style=\"text-align:left;\"> Fulco2016 </td>\n",
       "   <td style=\"text-align:right;\"> 103 </td>\n",
       "  </tr>\n",
       "  <tr>\n",
       "   <td style=\"text-align:left;\"> Fulco2019 </td>\n",
       "   <td style=\"text-align:right;\"> 3501 </td>\n",
       "  </tr>\n",
       "  <tr>\n",
       "   <td style=\"text-align:left;\"> Gasperini et al., 2019 </td>\n",
       "   <td style=\"text-align:right;\"> 5318 </td>\n",
       "  </tr>\n",
       "  <tr>\n",
       "   <td style=\"text-align:left;\"> Huang2018 </td>\n",
       "   <td style=\"text-align:right;\"> 7 </td>\n",
       "  </tr>\n",
       "  <tr>\n",
       "   <td style=\"text-align:left;\"> Klann2017 </td>\n",
       "   <td style=\"text-align:right;\"> 122 </td>\n",
       "  </tr>\n",
       "  <tr>\n",
       "   <td style=\"text-align:left;\"> Qi2018 </td>\n",
       "   <td style=\"text-align:right;\"> 1 </td>\n",
       "  </tr>\n",
       "  <tr>\n",
       "   <td style=\"text-align:left;\"> Schraivogel et al., 2020 </td>\n",
       "   <td style=\"text-align:right;\"> 1306 </td>\n",
       "  </tr>\n",
       "  <tr>\n",
       "   <td style=\"text-align:left;\"> Thakore2015 </td>\n",
       "   <td style=\"text-align:right;\"> 2 </td>\n",
       "  </tr>\n",
       "  <tr>\n",
       "   <td style=\"text-align:left;\"> Ulirsch2016 </td>\n",
       "   <td style=\"text-align:right;\"> 5 </td>\n",
       "  </tr>\n",
       "  <tr>\n",
       "   <td style=\"text-align:left;\"> Wakabayashi2016 </td>\n",
       "   <td style=\"text-align:right;\"> 3 </td>\n",
       "  </tr>\n",
       "  <tr>\n",
       "   <td style=\"text-align:left;\"> Xie2017 </td>\n",
       "   <td style=\"text-align:right;\"> 6 </td>\n",
       "  </tr>\n",
       "  <tr>\n",
       "   <td style=\"text-align:left;\"> Xu2015 </td>\n",
       "   <td style=\"text-align:right;\"> 1 </td>\n",
       "  </tr>\n",
       "</tbody>\n",
       "</table>"
      ]
     },
     "metadata": {},
     "output_type": "display_data"
    }
   ],
   "source": [
    "dat = dat_region_import\n",
    "res = table(dat$Source)\n",
    "dat = as.data.frame(res)\n",
    "colnames(dat) = c(\"Source\", \"Count\")\n",
    "\n",
    "fun_display_table(dat)"
   ]
  },
  {
   "cell_type": "markdown",
   "id": "57173ff6-522b-48a2-8dc4-f20ea1bc1af7",
   "metadata": {},
   "source": [
    "### Count regulated"
   ]
  },
  {
   "cell_type": "code",
   "execution_count": 13,
   "id": "70345f9f-2c1d-4941-b25e-031f12715fc5",
   "metadata": {},
   "outputs": [
    {
     "name": "stdout",
     "output_type": "stream",
     "text": [
      "[1] 10375\n"
     ]
    },
    {
     "data": {
      "text/html": [
       "<table>\n",
       " <thead>\n",
       "  <tr>\n",
       "   <th style=\"text-align:left;\"> Regulated </th>\n",
       "   <th style=\"text-align:right;\"> Count </th>\n",
       "  </tr>\n",
       " </thead>\n",
       "<tbody>\n",
       "  <tr>\n",
       "   <td style=\"text-align:left;\"> FALSE </td>\n",
       "   <td style=\"text-align:right;\"> 9903 </td>\n",
       "  </tr>\n",
       "  <tr>\n",
       "   <td style=\"text-align:left;\"> TRUE </td>\n",
       "   <td style=\"text-align:right;\"> 472 </td>\n",
       "  </tr>\n",
       "</tbody>\n",
       "</table>"
      ]
     },
     "metadata": {},
     "output_type": "display_data"
    }
   ],
   "source": [
    "dat = dat_region_import\n",
    "vec = dat$Regulated\n",
    "dat = as.data.frame(table(vec))\n",
    "colnames(dat) = c(\"Regulated\", \"Count\")\n",
    "\n",
    "print(length(vec))\n",
    "fun_display_table(dat)"
   ]
  },
  {
   "cell_type": "markdown",
   "id": "c6d52286-e48a-4398-9485-24b5d4a029e9",
   "metadata": {},
   "source": [
    "### Summary of p-values"
   ]
  },
  {
   "cell_type": "markdown",
   "id": "c1a55622-8522-488a-9d10-6c16be18bc47",
   "metadata": {},
   "source": [
    "**Summary**"
   ]
  },
  {
   "cell_type": "code",
   "execution_count": 24,
   "id": "d59ed5ab-5e6e-41ff-917b-0b8b39444452",
   "metadata": {},
   "outputs": [
    {
     "data": {
      "text/plain": [
       "$`FALSE`\n",
       "    Min.  1st Qu.   Median     Mean  3rd Qu.     Max.     NA's \n",
       " 0.00000  0.00004  0.01013  0.09843  0.06540 46.67349        1 \n",
       "\n",
       "$`TRUE`\n",
       "   Min. 1st Qu.  Median    Mean 3rd Qu.    Max.    NA's \n",
       "  1.304   2.114   4.168     Inf  10.081     Inf      16 \n"
      ]
     },
     "metadata": {},
     "output_type": "display_data"
    }
   ],
   "source": [
    "dat = dat_region_import\n",
    "lst = split(dat$NLog10P, dat$Regulated)\n",
    "lst = lapply(lst, summary)\n",
    "lst"
   ]
  },
  {
   "cell_type": "code",
   "execution_count": 27,
   "id": "ca9332f2-4d47-444b-934c-8bb26ca7a24a",
   "metadata": {},
   "outputs": [
    {
     "data": {
      "text/html": [
       "1.30102999566398"
      ],
      "text/latex": [
       "1.30102999566398"
      ],
      "text/markdown": [
       "1.30102999566398"
      ],
      "text/plain": [
       "[1] 1.30103"
      ]
     },
     "metadata": {},
     "output_type": "display_data"
    }
   ],
   "source": [
    "-log10(0.05)"
   ]
  },
  {
   "cell_type": "code",
   "execution_count": 29,
   "id": "3838c57f-13c2-48ae-be9b-4ed18d09d892",
   "metadata": {},
   "outputs": [
    {
     "data": {
      "text/html": [
       "75"
      ],
      "text/latex": [
       "75"
      ],
      "text/markdown": [
       "75"
      ],
      "text/plain": [
       "[1] 75"
      ]
     },
     "metadata": {},
     "output_type": "display_data"
    }
   ],
   "source": [
    "dat = dat_region_import\n",
    "lst = split(dat$NLog10P, dat$Label)\n",
    "vec = lst[[\"Regulated:FALSE\"]]\n",
    "sum(vec > 1.301, na.rm = TRUE)"
   ]
  },
  {
   "cell_type": "markdown",
   "id": "b24a9d16-3447-4677-967d-4cf81abb95be",
   "metadata": {},
   "source": [
    "**Plot distribution**"
   ]
  },
  {
   "cell_type": "code",
   "execution_count": 22,
   "id": "9bac2c72-8773-4b79-9447-830d6181a06e",
   "metadata": {},
   "outputs": [
    {
     "name": "stderr",
     "output_type": "stream",
     "text": [
      "Warning message:\n",
      "“\u001b[1m\u001b[22mRemoved 18 rows containing non-finite outside the scale range (`stat_bin()`).”\n"
     ]
    },
    {
     "data": {
      "image/png": "[encoded data removed]",
      "text/plain": [
       "plot without title"
      ]
     },
     "metadata": {
      "image/png": {
       "height": 240,
       "width": 420
      }
     },
     "output_type": "display_data"
    }
   ],
   "source": [
    "dat = dat_region_import\n",
    "\n",
    "gpt = ggplot(dat, aes(x=NLog10P)) + \n",
    "    geom_histogram(bins = 100) + \n",
    "    theme_cowplot() +\n",
    "    background_grid() +\n",
    "    labs(\n",
    "        x=\"Pvalue\", \n",
    "        y=\"Density\", \n",
    "        title=\"Distribution of E2G p-value\") +\n",
    "    facet_wrap(~Label, nrow=2, scales = \"free\")\n",
    "\n",
    "options(repr.plot.height = 4, repr.plot.width = 7)\n",
    "print(gpt)"
   ]
  },
  {
   "cell_type": "markdown",
   "id": "2867224c-4e52-46a4-a5ff-74d1d8d2b276",
   "metadata": {},
   "source": [
    "### Distribution of scores"
   ]
  },
  {
   "cell_type": "markdown",
   "id": "5989f9a6-75a4-4656-bc78-e9cb9152da37",
   "metadata": {},
   "source": [
    "**Summary**"
   ]
  },
  {
   "cell_type": "code",
   "execution_count": 18,
   "id": "8bd5b3a6-b346-4f57-b51b-dc4e68325f5d",
   "metadata": {},
   "outputs": [
    {
     "data": {
      "text/plain": [
       "$`FALSE`\n",
       "     Min.   1st Qu.    Median      Mean   3rd Qu.      Max. \n",
       "-0.183670 -0.023483 -0.003932 -0.002342  0.016487  0.371076 \n",
       "\n",
       "$`TRUE`\n",
       "      Min.    1st Qu.     Median       Mean    3rd Qu.       Max. \n",
       "-0.9320000 -0.1863497 -0.1031512 -0.1652387 -0.0688501 -0.0008226 \n"
      ]
     },
     "metadata": {},
     "output_type": "display_data"
    }
   ],
   "source": [
    "dat = dat_region_import\n",
    "lst = split(dat$Score, dat$Regulated)\n",
    "lst = lapply(lst, summary)\n",
    "lst"
   ]
  },
  {
   "cell_type": "markdown",
   "id": "a8969dd0-78d0-48a9-a645-3377d0aded25",
   "metadata": {},
   "source": [
    "**Plot distribution**"
   ]
  },
  {
   "cell_type": "code",
   "execution_count": 23,
   "id": "5db68276-48d3-4e11-a562-65a92e5c0ff6",
   "metadata": {},
   "outputs": [
    {
     "data": {
      "image/png": "[encoded data removed]",
      "text/plain": [
       "plot without title"
      ]
     },
     "metadata": {
      "image/png": {
       "height": 240,
       "width": 420
      }
     },
     "output_type": "display_data"
    }
   ],
   "source": [
    "dat = dat_region_import\n",
    "\n",
    "gpt = ggplot(dat, aes(x=Score)) + \n",
    "    geom_density() + \n",
    "    theme_cowplot() +\n",
    "    background_grid() +\n",
    "    labs(\n",
    "        x=\"Score\", \n",
    "        y=\"Density\", \n",
    "        title=\"Distribution of E2G score\") +\n",
    "    facet_wrap(~Label, nrow=2)\n",
    "\n",
    "options(repr.plot.height = 4, repr.plot.width = 7)\n",
    "print(gpt)"
   ]
  },
  {
   "cell_type": "markdown",
   "id": "3470139a-1d9c-49f4-a7f4-0f1dc4aa9546",
   "metadata": {},
   "source": [
    "## Save figures"
   ]
  },
  {
   "cell_type": "markdown",
   "id": "e1a0f177-cc30-43b6-93c5-500115a568b1",
   "metadata": {},
   "source": [
    "**Helper function to get the mode of a continuous variable**"
   ]
  },
  {
   "cell_type": "code",
   "execution_count": 50,
   "id": "56191a33-22b7-45e2-9b15-b412ded41944",
   "metadata": {},
   "outputs": [],
   "source": [
    "get_mode_continuous <- function(x, ...) {\n",
    "    obj = density(x, ...)\n",
    "    num = obj$x[which.max(obj$y)]\n",
    "    return(num)\n",
    "}"
   ]
  },
  {
   "cell_type": "markdown",
   "id": "68fd81bc-204a-49ed-8d2f-a3a2d15945d7",
   "metadata": {},
   "source": [
    "**Set plot style**"
   ]
  },
  {
   "cell_type": "code",
   "execution_count": 59,
   "id": "700c78c6-c43e-498c-b16f-75060d3272e0",
   "metadata": {},
   "outputs": [],
   "source": [
    "### set text size\n",
    "theme_text = theme(\n",
    "    title      = element_text(size = 16),\n",
    "    axis.title = element_text(size = 15),\n",
    "    axis.text  = element_text(size = 15),\n",
    "    strip.text = element_text(size = 15, hjust = 0),\n",
    "    strip.background = element_blank(),\n",
    ")"
   ]
  },
  {
   "cell_type": "markdown",
   "id": "ed0febbf-9838-4b5b-b641-4924b9892c48",
   "metadata": {},
   "source": [
    "**Summary**"
   ]
  },
  {
   "cell_type": "code",
   "execution_count": 65,
   "id": "1fa13eed-db65-450d-afae-87e63ecd4792",
   "metadata": {},
   "outputs": [
    {
     "name": "stdout",
     "output_type": "stream",
     "text": [
      "                             Regulated:FALSE \n",
      " \"Regulated:FALSE (Count = 9,903; Mode = 0)\" \n",
      "                              Regulated:TRUE \n",
      "\"Regulated:TRUE (Count = 472; Mode = -0.08)\" \n"
     ]
    }
   ],
   "source": [
    "### summarize the number of regions (total)\n",
    "dat = dat_region_import\n",
    "dat = dat %>%\n",
    "    group_by(Label) %>%\n",
    "    summarise(\n",
    "        Count = n(), \n",
    "        Mode  = get_mode_continuous(Score),\n",
    "        .groups=\"drop\")\n",
    "\n",
    "### label\n",
    "vec = dat %>%\n",
    "    dplyr::mutate(\n",
    "        line1 = Label,\n",
    "        line2 = paste(\"Count =\", scales::comma(Count)),\n",
    "        line3 = paste(\"Mode =\", round(Mode, 2)),\n",
    "        combined = paste0(line1, \" (\", line2, \"; \", line3, \")\")\n",
    "    ) %>%\n",
    "    { set_names(.$combined, .$Label) }\n",
    "\n",
    "### assign and show\n",
    "vec_txt_label = vec\n",
    "print(vec_txt_label)"
   ]
  },
  {
   "cell_type": "markdown",
   "id": "d81d23c1-c23f-419a-9ee2-578668aff1da",
   "metadata": {},
   "source": [
    "**Plot**"
   ]
  },
  {
   "cell_type": "code",
   "execution_count": 72,
   "id": "a1ea5ac3-7bdb-46e0-992b-0ebf6ce43ccd",
   "metadata": {},
   "outputs": [
    {
     "data": {
      "image/png": "[encoded data removed]",
      "text/plain": [
       "plot without title"
      ]
     },
     "metadata": {
      "image/png": {
       "height": 300,
       "width": 420
      }
     },
     "output_type": "display_data"
    }
   ],
   "source": [
    "### init and relabel\n",
    "dat = dat_region_import\n",
    "vec = c(\"Regulated:TRUE\", \"Regulated:FALSE\")\n",
    "dat = dat %>% dplyr::mutate(Label = factor(Label, levels=vec))\n",
    "\n",
    "### create plot\n",
    "gpt = ggplot(dat, aes(x=Score)) + \n",
    "    geom_density(linewidth=1.2) + \n",
    "    theme_cowplot() +\n",
    "    background_grid() +\n",
    "    theme_text +\n",
    "    labs(\n",
    "        x=\"Score\", \n",
    "        y=\"Density\", \n",
    "        title=\"Distribution of Element-Gene (E2G) scores\\n(Significant vs non-significant links)\") +\n",
    "    facet_wrap(\n",
    "        ~Label, \n",
    "        nrow=2, \n",
    "        scales=\"free_y\", \n",
    "        labeller = labeller(Label = vec_txt_label)\n",
    "    )\n",
    "\n",
    "### assign plot\n",
    "gpt_export = gpt\n",
    "\n",
    "### show plot\n",
    "options(repr.plot.height = 5, repr.plot.width = 7)\n",
    "print(gpt)"
   ]
  },
  {
   "cell_type": "markdown",
   "id": "a38455b4-2351-460f-9e57-43902ff6bc51",
   "metadata": {},
   "source": [
    "**Save**"
   ]
  },
  {
   "cell_type": "code",
   "execution_count": 73,
   "id": "fbafbebe-9547-4428-970d-2222473bd0c8",
   "metadata": {},
   "outputs": [],
   "source": [
    "### save plot: score distribution\n",
    "plt_export = gpt_export\n",
    "\n",
    "txt_fdiry = \"./\"\n",
    "txt_fname = \"fig.region.encode_e2g.distribution.score.png\"\n",
    "txt_fpath = file.path(txt_fdiry, txt_fname)\n",
    "ggsave(txt_fpath, plt_export, height = 5, width = 7, units = \"in\")\n",
    "\n",
    "txt_fdiry = \"./\"\n",
    "txt_fname = \"fig.region.encode_e2g.distribution.score.svg\"\n",
    "txt_fpath = file.path(txt_fdiry, txt_fname)\n",
    "ggsave(txt_fpath, plt_export, height = 5, width = 7, units = \"in\")"
   ]
  },
  {
   "cell_type": "code",
   "execution_count": null,
   "id": "e0cd4657-b640-4e67-ab04-c4a0ce8cb40e",
   "metadata": {},
   "outputs": [],
   "source": []
  }
 ],
 "metadata": {
  "kernelspec": {
   "display_name": "R",
   "language": "R",
   "name": "ir"
  },
  "language_info": {
   "codemirror_mode": "r",
   "file_extension": ".r",
   "mimetype": "text/x-r-source",
   "name": "R",
   "pygments_lexer": "r",
   "version": "4.4.2"
  }
 },
 "nbformat": 4,
 "nbformat_minor": 5
}
