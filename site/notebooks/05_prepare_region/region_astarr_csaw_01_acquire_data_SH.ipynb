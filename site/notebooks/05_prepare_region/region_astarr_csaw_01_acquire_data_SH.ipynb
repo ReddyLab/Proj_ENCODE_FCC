{
 "cells": [
  {
   "cell_type": "raw",
   "id": "d5a7c1e3-5a9e-4731-96d9-babaef16924e",
   "metadata": {},
   "source": [
    "---\n",
    "title: Prepare ASTARR CSAW Peaks 01\n",
    "subtitle: Acquire data\n",
    "format:\n",
    "    html:\n",
    "        code-fold:  true\n",
    "        code-tools: true\n",
    "---"
   ]
  },
  {
   "cell_type": "markdown",
   "id": "54e8e273-5df9-40dc-9482-5d0834efe992",
   "metadata": {},
   "source": [
    "**set environment**"
   ]
  },
  {
   "cell_type": "code",
   "execution_count": 1,
   "id": "a82cd052-1493-44b9-8caa-043ff370c037",
   "metadata": {},
   "outputs": [
    {
     "name": "stdout",
     "output_type": "stream",
     "text": [
      "You are working on             Duke Server: RCC\n",
      "BASE DIRECTORY (FD_BASE):      /data/reddylab/Kuei\n",
      "REPO DIRECTORY (FD_REPO):      /data/reddylab/Kuei/repo\n",
      "WORK DIRECTORY (FD_WORK):      /data/reddylab/Kuei/work\n",
      "DATA DIRECTORY (FD_DATA):      /data/reddylab/Kuei/data\n",
      "CONTAINER DIR. (FD_SING):      /data/reddylab/Kuei/container\n",
      "\n",
      "You are working with           ENCODE FCC\n",
      "PATH OF PROJECT (FD_PRJ):      /data/reddylab/Kuei/repo/Proj_ENCODE_FCC\n",
      "PROJECT RESULTS (FD_RES):      /data/reddylab/Kuei/repo/Proj_ENCODE_FCC/results\n",
      "PROJECT SCRIPTS (FD_EXE):      /data/reddylab/Kuei/repo/Proj_ENCODE_FCC/scripts\n",
      "PROJECT DATA    (FD_DAT):      /data/reddylab/Kuei/repo/Proj_ENCODE_FCC/data\n",
      "PROJECT NOTE    (FD_NBK):      /data/reddylab/Kuei/repo/Proj_ENCODE_FCC/notebooks\n",
      "PROJECT DOCS    (FD_DOC):      /data/reddylab/Kuei/repo/Proj_ENCODE_FCC/docs\n",
      "PROJECT LOG     (FD_LOG):      /data/reddylab/Kuei/repo/Proj_ENCODE_FCC/log\n",
      "PROJECT REF     (FD_REF):      /data/reddylab/Kuei/repo/Proj_ENCODE_FCC/references\n",
      "PROJECT IMAGE   (FP_PRJ_SIF):  /data/reddylab/Kuei/container/project/singularity_proj_encode_fcc.sif\n",
      "PROJECT CONF.   (FP_CNF):      /data/reddylab/Kuei/repo/Proj_ENCODE_FCC/scripts/config_project.sh\n",
      "\n"
     ]
    }
   ],
   "source": [
    "source ../run_config_project.sh\n",
    "show_env"
   ]
  },
  {
   "cell_type": "markdown",
   "id": "1327d3d5-2fc7-472d-b0f9-8eabbee3df34",
   "metadata": {},
   "source": [
    "**Set global variables**"
   ]
  },
  {
   "cell_type": "code",
   "execution_count": 2,
   "id": "31d4398f-3db6-43bc-898f-ca7efc2663f0",
   "metadata": {},
   "outputs": [
    {
     "name": "stdout",
     "output_type": "stream",
     "text": [
      "/data/reddylab/Alex\n"
     ]
    }
   ],
   "source": [
    "echo ${FD_ALEX}"
   ]
  },
  {
   "cell_type": "code",
   "execution_count": 3,
   "id": "a45fed36-3576-4ea6-bab3-a7010a044999",
   "metadata": {},
   "outputs": [],
   "source": [
    "FD_INP=${FD_ALEX}/tmp\n",
    "FD_OUT=${FD_DAT}/processed/fcc_astarr_csaw"
   ]
  },
  {
   "cell_type": "markdown",
   "id": "71035cfc-375c-42ca-bf43-e8fc67b11c65",
   "metadata": {},
   "source": [
    "## Check data"
   ]
  },
  {
   "cell_type": "code",
   "execution_count": 4,
   "id": "7be9bbd5-5de8-441a-b87f-78657945d0d6",
   "metadata": {},
   "outputs": [
    {
     "name": "stdout",
     "output_type": "stream",
     "text": [
      "atacSTARR.ultra_deep.6dna7rna.csaw.hg38.v10.common_file_formatted.txt\n",
      "atacSTARR.ultra_deep.6dna7rna.csaw.hg38.v10.tsv\n",
      "atacSTARR.ultra_deep.6dna7rna.csaw.hg38.v10.windows.bed\n",
      "atacSTARR.ultra_deep.6dna7rna.csaw.hg38.v10.windows.txt\n",
      "atacSTARR.ultra_deep.6dna7rna.csaw_tab_best.hg38.v10.tsv\n"
     ]
    }
   ],
   "source": [
    "FP_INPS=($(ls ${FD_INP}/atacSTARR.ultra_deep.6dna7rna*))\n",
    "basename -a ${FP_INPS[@]}"
   ]
  },
  {
   "cell_type": "code",
   "execution_count": 5,
   "id": "64e45437-1558-4f78-97cd-be0fdfc915e1",
   "metadata": {},
   "outputs": [
    {
     "name": "stdout",
     "output_type": "stream",
     "text": [
      "atacSTARR.ultra_deep.corrected.csaw.hg38.v10.common_file_formatted.down.bed\n",
      "atacSTARR.ultra_deep.corrected.csaw.hg38.v10.common_file_formatted.txt.gz\n",
      "atacSTARR.ultra_deep.corrected.csaw.hg38.v10.common_file_formatted.up.bed\n",
      "atacSTARR.ultra_deep.corrected.csaw.hg38.v10.tsv\n",
      "atacSTARR.ultra_deep.corrected.no_reps_5_and_6.csaw.hg38.v10.tsv\n",
      "atacSTARR.ultra_deep.corrected.no_reps_5_and_6.csaw.hg38.v10.windows.bed\n",
      "atacSTARR.ultra_deep.corrected.no_reps_5_and_6.csaw.hg38.v10.windows.txt\n",
      "atacSTARR.ultra_deep.corrected.no_reps_5_and_6.csaw_tab_best.hg38.v10.tsv\n"
     ]
    }
   ],
   "source": [
    "FP_INPS=($(ls ${FD_INP}/atacSTARR.ultra_deep.corrected*))\n",
    "basename -a ${FP_INPS[@]}"
   ]
  },
  {
   "cell_type": "markdown",
   "id": "e1f5a728-fcdf-4cd1-b631-04e0e0f59b36",
   "metadata": {},
   "source": [
    "## Copy to data source"
   ]
  },
  {
   "cell_type": "code",
   "execution_count": 6,
   "id": "b48dc602-5b23-44ee-a52b-49e98b51f0cf",
   "metadata": {},
   "outputs": [],
   "source": [
    "mkdir -p ${FD_OUT}\n",
    "cp ${FD_INP}/atacSTARR.ultra_deep.corrected* ${FD_OUT}/"
   ]
  },
  {
   "cell_type": "code",
   "execution_count": 7,
   "id": "a99a41b9-fdd5-40c8-83db-ca730fd5ee5d",
   "metadata": {},
   "outputs": [],
   "source": [
    "mkdir -p ${FD_OUT}\n",
    "cp ${FD_INP}/atacSTARR.ultra_deep.6dna7rna* ${FD_OUT}/"
   ]
  },
  {
   "cell_type": "markdown",
   "id": "d92d5f61-9593-4864-a129-24d9986f2516",
   "metadata": {},
   "source": [
    "## Check results"
   ]
  },
  {
   "cell_type": "code",
   "execution_count": 8,
   "id": "f9bcdc15-df08-4754-8ea4-7699d8a3fc68",
   "metadata": {},
   "outputs": [
    {
     "name": "stdout",
     "output_type": "stream",
     "text": [
      "CRISPRi_FlowFISH_K562_Riley_JinWoo\n",
      "CRISPRi_Growth_K562_Gersbach_Alex\n",
      "fcc_astarr_csaw\n",
      "fcc_enhancer_Junke_zscore_240415\n",
      "fcc_enhancer_Junke_zscore_240513_astarr_filter\n",
      "fcc_enhancer_Junke_zscore_240611\n",
      "fcc_trackhub_JinWoo\n",
      "MPRA_Lenti_K562_Nadav_Vikram_230621\n",
      "MPRA_Tiling_K562_Tewhey_Hannah\n",
      "Readmd.md\n",
      "STARR_ATAC_K562_Reddy_KS274_240311\n",
      "STARR_ATAC_K562_Reddy_KS91_210401\n",
      "STARR_WHG_K562_Reddy_A001_Alex\n",
      "STARR_WHG_K562_Reddy_A001_Kari\n",
      "TF_modules_Shannon\n"
     ]
    }
   ],
   "source": [
    "ls -1 ${FD_DAT}/processed"
   ]
  },
  {
   "cell_type": "code",
   "execution_count": 9,
   "id": "6254295a-7a8b-433f-864b-8c6f1a28431b",
   "metadata": {},
   "outputs": [
    {
     "name": "stdout",
     "output_type": "stream",
     "text": [
      "total 1364016\n",
      "-rw-r--r-- 1 kk319 nogroup  29585549 May 12 15:39 atacSTARR.ultra_deep.6dna7rna.csaw.hg38.v10.common_file_formatted.txt\n",
      "-rw-r--r-- 1 kk319 nogroup  37906290 May 12 15:39 atacSTARR.ultra_deep.6dna7rna.csaw.hg38.v10.tsv\n",
      "-rw-r--r-- 1 kk319 nogroup 162923789 May 12 15:39 atacSTARR.ultra_deep.6dna7rna.csaw.hg38.v10.windows.bed\n",
      "-rw-r--r-- 1 kk319 nogroup 410557124 May 12 15:39 atacSTARR.ultra_deep.6dna7rna.csaw.hg38.v10.windows.txt\n",
      "-rw-r--r-- 1 kk319 nogroup  52066228 May 12 15:39 atacSTARR.ultra_deep.6dna7rna.csaw_tab_best.hg38.v10.tsv\n",
      "-rw-r--r-- 1 kk319 nogroup    821885 May 12 15:39 atacSTARR.ultra_deep.corrected.csaw.hg38.v10.common_file_formatted.down.bed\n",
      "-rw-r--r-- 1 kk319 nogroup  29082966 May  9  2024 atacSTARR.ultra_deep.corrected.csaw.hg38.v10.common_file_formatted.txt\n",
      "-rw-r--r-- 1 kk319 nogroup   8802019 May 12 15:39 atacSTARR.ultra_deep.corrected.csaw.hg38.v10.common_file_formatted.txt.gz\n",
      "-rw-r--r-- 1 kk319 nogroup   1268836 May 12 15:39 atacSTARR.ultra_deep.corrected.csaw.hg38.v10.common_file_formatted.up.bed\n",
      "-rw-r--r-- 1 kk319 nogroup  37180893 May 12 15:39 atacSTARR.ultra_deep.corrected.csaw.hg38.v10.tsv\n",
      "-rw-r--r-- 1 kk319 nogroup  37180893 May 12 15:39 atacSTARR.ultra_deep.corrected.no_reps_5_and_6.csaw.hg38.v10.tsv\n",
      "-rw-r--r-- 1 kk319 nogroup 156656669 May 12 15:39 atacSTARR.ultra_deep.corrected.no_reps_5_and_6.csaw.hg38.v10.windows.bed\n",
      "-rw-r--r-- 1 kk319 nogroup 394467786 May 12 15:39 atacSTARR.ultra_deep.corrected.no_reps_5_and_6.csaw.hg38.v10.windows.txt\n",
      "-rw-r--r-- 1 kk319 nogroup  38222659 May 12 15:39 atacSTARR.ultra_deep.corrected.no_reps_5_and_6.csaw_tab_best.hg38.v10.tsv\n"
     ]
    }
   ],
   "source": [
    "ls -l ${FD_DAT}/processed/fcc_astarr_csaw"
   ]
  },
  {
   "cell_type": "code",
   "execution_count": null,
   "id": "4e0fdeef-bd2f-46a4-a774-013008e343b2",
   "metadata": {},
   "outputs": [],
   "source": []
  }
 ],
 "metadata": {
  "kernelspec": {
   "display_name": "Bash",
   "language": "bash",
   "name": "bash"
  },
  "language_info": {
   "codemirror_mode": "shell",
   "file_extension": ".sh",
   "mimetype": "text/x-sh",
   "name": "bash"
  }
 },
 "nbformat": 4,
 "nbformat_minor": 5
}
