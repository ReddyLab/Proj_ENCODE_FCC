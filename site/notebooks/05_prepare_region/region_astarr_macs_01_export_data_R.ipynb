{
 "cells": [
  {
   "cell_type": "raw",
   "id": "9bdd3efb-7a39-4e46-9e63-571eb980f453",
   "metadata": {},
   "source": [
    "---\n",
    "title: Prepare ASTARR Input MACS Peaks 01\n",
    "subtitle: Prepare K562 accessible regions\n",
    "format:\n",
    "    html:\n",
    "        code-fold:  true\n",
    "        code-tools: true\n",
    "---"
   ]
  },
  {
   "cell_type": "markdown",
   "id": "4a25120f-1c9e-42fd-a417-09b5dfdb4912",
   "metadata": {},
   "source": [
    "**Data: Original files**\n",
    "\n",
    "`PROJECT/data/processed/ASTARRseq_K562_hg38_KS91_210401/peaks`\n",
    "\n",
    "```\n",
    "KS91_K562_hg38_ASTARRseq_Input.all_reps.masked.union_narrowPeak.q5.bed\n",
    "KS91_K562_hg38_ASTARRseq_Input.q5.in_all.max_overlaps.bed\n",
    "```\n",
    "\n",
    "**Results: SymLinks**\n",
    "\n",
    "`PROJECT/results/region/starr_macs`\n",
    "\n",
    "```\n",
    "ASTARRseq_K562_KS91.hg38.Input.rep_all.union.q5.bed\n",
    "ASTARRseq_K562_KS91.hg38.Input.rep_all.max_overlaps.q5.bed\n",
    "```"
   ]
  },
  {
   "cell_type": "markdown",
   "id": "04c92970-e8a8-48b2-b3ac-32d2fcb81779",
   "metadata": {},
   "source": [
    "**Note: Differences between these two region set**\n",
    "\n",
    "Code chunk used for getting the union region set (less stringent region set): merge the narrowPeak files by overlapped across all replicates in the input libraries.\n",
    "```\n",
    "cat $(/bin/ls -1 ${SAMPLES}) \\\n",
    "| awk -vTHRES=${SLURM_ARRAY_TASK_ID} '$9>THRES' \\\n",
    "| sort -k1,1 -k2,2n \\\n",
    "| bedtools merge \\\n",
    "    -i - \\\n",
    "> \"${OUTDIR}/KS91_K562_hg38_ASTARRseq_Input.all_reps.masked.union_narrowPeak.q${SLURM_ARRAY_TASK_ID}.bed\" \\\n",
    "&& echo -e \"Done!\\t${OUTDIR}/KS91_K562_hg38_ASTARRseq_Input.all_reps.masked.union_narrowPeak.q${SLURM_ARRAY_TASK_ID}.bed\" \\\n",
    "|| echo -e \"Failed!\\t${OUTDIR}/KS91_K562_hg38_ASTARRseq_Input.all_reps.masked.union_narrowPeak.q${SLURM_ARRAY_TASK_ID}.bed\"\n",
    "```\n",
    "\n",
    "Code chunk used for getting the overlap region set\n",
    "```\n",
    "bedtools multiinter \\\n",
    "    -i \\\n",
    "        <(awk '$9>5' KS91_K562_hg38_ASTARRseq_Input_rep1.masked.dups_marked_peaks.narrowPeak) \\\n",
    "        <(awk '$9>5' KS91_K562_hg38_ASTARRseq_Input_rep2.masked.dups_marked_peaks.narrowPeak) \\\n",
    "        <(awk '$9>5' KS91_K562_hg38_ASTARRseq_Input_rep3.masked.dups_marked_peaks.narrowPeak) \\\n",
    "        <(awk '$9>5' KS91_K562_hg38_ASTARRseq_Input_rep4.masked.dups_marked_peaks.narrowPeak) \\\n",
    "        <(awk '$9>5' KS91_K562_hg38_ASTARRseq_Input_rep5.masked.dups_marked_peaks.narrowPeak) \\\n",
    "        <(awk '$9>5' KS91_K562_hg38_ASTARRseq_Input_rep6.masked.dups_marked_peaks.narrowPeak) \\\n",
    "| sed 's@/data/reddylab/Alex/encode4_duke//processing/atac_seq/210401_KS91_K562ASTARR_NovaSeq.hg38-pe-blacklist-removal//@@g' \\\n",
    "| /bin/grep -E \"(.*,){5}\" \\\n",
    "| bedtools merge -i - -c 4 -o max \\\n",
    "> KS91_K562_hg38_ASTARRseq_Input.q5.in_all.max_overlaps.bed\n",
    "```"
   ]
  },
  {
   "cell_type": "markdown",
   "id": "fbd3ff78-b429-4305-8d32-cce203d51fee",
   "metadata": {},
   "source": [
    "**Set environment**"
   ]
  },
  {
   "cell_type": "code",
   "execution_count": 1,
   "id": "ccb7e124-f9f8-4437-a7e2-4c0f7c633912",
   "metadata": {},
   "outputs": [
    {
     "name": "stdout",
     "output_type": "stream",
     "text": [
      "You are working on        Singularity: singularity_proj_encode_fcc \n",
      "BASE DIRECTORY (FD_BASE): /data/reddylab/Kuei \n",
      "REPO DIRECTORY (FD_REPO): /data/reddylab/Kuei/repo \n",
      "WORK DIRECTORY (FD_WORK): /data/reddylab/Kuei/work \n",
      "DATA DIRECTORY (FD_DATA): /data/reddylab/Kuei/data \n",
      "\n",
      "You are working with      ENCODE FCC \n",
      "PATH OF PROJECT (FD_PRJ): /data/reddylab/Kuei/repo/Proj_ENCODE_FCC \n",
      "PROJECT RESULTS (FD_RES): /data/reddylab/Kuei/repo/Proj_ENCODE_FCC/results \n",
      "PROJECT SCRIPTS (FD_EXE): /data/reddylab/Kuei/repo/Proj_ENCODE_FCC/scripts \n",
      "PROJECT DATA    (FD_DAT): /data/reddylab/Kuei/repo/Proj_ENCODE_FCC/data \n",
      "PROJECT NOTE    (FD_NBK): /data/reddylab/Kuei/repo/Proj_ENCODE_FCC/notebooks \n",
      "PROJECT DOCS    (FD_DOC): /data/reddylab/Kuei/repo/Proj_ENCODE_FCC/docs \n",
      "PROJECT LOG     (FD_LOG): /data/reddylab/Kuei/repo/Proj_ENCODE_FCC/log \n",
      "PROJECT REF     (FD_REF): /data/reddylab/Kuei/repo/Proj_ENCODE_FCC/references \n",
      "\n"
     ]
    }
   ],
   "source": [
    "suppressMessages(suppressWarnings(source(\"../run_config_project_sing.R\")))\n",
    "show_env()"
   ]
  },
  {
   "cell_type": "markdown",
   "id": "f35b900e-cdea-4445-a8fd-ece367c9846a",
   "metadata": {},
   "source": [
    "**Set global variable**"
   ]
  },
  {
   "cell_type": "code",
   "execution_count": 2,
   "id": "2a03933a-062d-4e9b-9fd4-6d3ce73840cd",
   "metadata": {},
   "outputs": [],
   "source": [
    "TXT_FOLDER_REGION = \"fcc_astarr_macs\""
   ]
  },
  {
   "cell_type": "markdown",
   "id": "606f1b59-b688-41d8-9e93-65d6cdbfdab1",
   "metadata": {},
   "source": [
    "## Import data"
   ]
  },
  {
   "cell_type": "markdown",
   "id": "62bf3893-1335-4308-82be-bf995d4c2b82",
   "metadata": {},
   "source": [
    "**Set the main chromosomes**"
   ]
  },
  {
   "cell_type": "code",
   "execution_count": 3,
   "id": "4c92cf33-f331-49fd-b9da-6175b1ec792b",
   "metadata": {},
   "outputs": [
    {
     "name": "stdout",
     "output_type": "stream",
     "text": [
      " [1] \"chr1\"  \"chr10\" \"chr11\" \"chr12\" \"chr13\" \"chr14\" \"chr15\" \"chr16\" \"chr17\"\n",
      "[10] \"chr18\" \"chr19\" \"chr2\"  \"chr20\" \"chr21\" \"chr22\" \"chr3\"  \"chr4\"  \"chr5\" \n",
      "[19] \"chr6\"  \"chr7\"  \"chr8\"  \"chr9\"  \"chrX\" \n"
     ]
    }
   ],
   "source": [
    "txt_fdiry = file.path(FD_DAT, \"external\")\n",
    "txt_fname = \"chrom.hg38.main.bed\"\n",
    "txt_fpath = file.path(txt_fdiry, txt_fname)\n",
    "\n",
    "vec = c(\"Chrom\", \"ChromStart\", \"ChromEnd\")\n",
    "dat = read_tsv(txt_fpath, col_names = vec, show_col_types = FALSE)\n",
    "vec = dat$Chrom\n",
    "\n",
    "### assign and show\n",
    "vec_txt_chrom = vec\n",
    "print(vec)"
   ]
  },
  {
   "cell_type": "markdown",
   "id": "b222bb5a-ae7e-4e92-96c4-eb3564db37c4",
   "metadata": {},
   "source": [
    "**Import ASTARR input MACS peaks**"
   ]
  },
  {
   "cell_type": "markdown",
   "id": "4da6be7b-44d2-4cb5-bd17-48bd3ed483e7",
   "metadata": {},
   "source": [
    "There are six replicates of input libraries."
   ]
  },
  {
   "cell_type": "code",
   "execution_count": 4,
   "id": "967d801e-2354-4633-89d7-86aab43001ad",
   "metadata": {},
   "outputs": [
    {
     "name": "stdout",
     "output_type": "stream",
     "text": [
      "KS91_K562_hg38_ASTARRseq_Input_rep1.masked.dups_marked_peaks.narrowPeak \n",
      "KS91_K562_hg38_ASTARRseq_Input_rep2.masked.dups_marked_peaks.narrowPeak \n",
      "KS91_K562_hg38_ASTARRseq_Input_rep3.masked.dups_marked_peaks.narrowPeak \n",
      "KS91_K562_hg38_ASTARRseq_Input_rep4.masked.dups_marked_peaks.narrowPeak \n",
      "KS91_K562_hg38_ASTARRseq_Input_rep5.masked.dups_marked_peaks.narrowPeak \n",
      "KS91_K562_hg38_ASTARRseq_Input_rep6.masked.dups_marked_peaks.narrowPeak \n",
      "KS91_K562_hg38_ASTARRseq_Input.all_reps.masked.union_narrowPeak.q5.bed \n",
      "KS91_K562_hg38_ASTARRseq_Input.q5.in_all.max_overlaps.bed \n"
     ]
    }
   ],
   "source": [
    "txt_fdiry = file.path(FD_DAT, \"processed\", \"STARR_ATAC_K562_Reddy_KS91_210401/peaks\")\n",
    "vec = dir(txt_fdiry)\n",
    "\n",
    "vec_txt_fname = vec\n",
    "for(txt in vec){cat(txt, \"\\n\")}"
   ]
  },
  {
   "cell_type": "markdown",
   "id": "5074b83e-44c3-46f3-b782-c3f894dc08e1",
   "metadata": {},
   "source": [
    "Prepare names and read tables"
   ]
  },
  {
   "cell_type": "code",
   "execution_count": 5,
   "id": "b10e79ed-3e56-4f15-9ded-7368fd074e3f",
   "metadata": {},
   "outputs": [
    {
     "name": "stdout",
     "output_type": "stream",
     "text": [
      "                                                                   union \n",
      "\"KS91_K562_hg38_ASTARRseq_Input.all_reps.masked.union_narrowPeak.q5.bed\" \n",
      "                                                            max_overlaps \n",
      "             \"KS91_K562_hg38_ASTARRseq_Input.q5.in_all.max_overlaps.bed\" \n"
     ]
    }
   ],
   "source": [
    "### Prepare names\n",
    "vec_txt_fname = c(\n",
    "    \"KS91_K562_hg38_ASTARRseq_Input.all_reps.masked.union_narrowPeak.q5.bed\",\n",
    "    \"KS91_K562_hg38_ASTARRseq_Input.q5.in_all.max_overlaps.bed\"\n",
    ")\n",
    "names(vec_txt_fname) = c(\"union\", \"max_overlaps\")\n",
    "\n",
    "### Read tables into a list\n",
    "lst = lapply(vec_txt_fname, function(txt_fname){\n",
    "    txt_fpath = file.path(txt_fdiry, txt_fname)\n",
    "    dat = read_tsv(txt_fpath, col_names = FALSE, show_col_types = FALSE)\n",
    "    return(dat)\n",
    "})\n",
    "\n",
    "### assign and show\n",
    "lst_dat_import = lst\n",
    "print(vec_txt_fname)"
   ]
  },
  {
   "cell_type": "code",
   "execution_count": 6,
   "id": "3a411d78-a131-4347-bdcf-a1538b537371",
   "metadata": {},
   "outputs": [
    {
     "data": {
      "text/html": [
       "<table>\n",
       " <thead>\n",
       "  <tr>\n",
       "   <th style=\"text-align:left;\"> X1 </th>\n",
       "   <th style=\"text-align:right;\"> X2 </th>\n",
       "   <th style=\"text-align:right;\"> X3 </th>\n",
       "  </tr>\n",
       " </thead>\n",
       "<tbody>\n",
       "  <tr>\n",
       "   <td style=\"text-align:left;\"> chr1 </td>\n",
       "   <td style=\"text-align:right;\"> 10015 </td>\n",
       "   <td style=\"text-align:right;\"> 10442 </td>\n",
       "  </tr>\n",
       "  <tr>\n",
       "   <td style=\"text-align:left;\"> chr1 </td>\n",
       "   <td style=\"text-align:right;\"> 14253 </td>\n",
       "   <td style=\"text-align:right;\"> 14645 </td>\n",
       "  </tr>\n",
       "  <tr>\n",
       "   <td style=\"text-align:left;\"> chr1 </td>\n",
       "   <td style=\"text-align:right;\"> 16015 </td>\n",
       "   <td style=\"text-align:right;\"> 16477 </td>\n",
       "  </tr>\n",
       "</tbody>\n",
       "</table>"
      ]
     },
     "metadata": {},
     "output_type": "display_data"
    }
   ],
   "source": [
    "lst = lst_dat_import\n",
    "dat = lst[[1]]\n",
    "fun_display_table(head(dat, 3))"
   ]
  },
  {
   "cell_type": "code",
   "execution_count": 7,
   "id": "00a71b49-b6db-47ce-8c24-5c7b49002336",
   "metadata": {},
   "outputs": [
    {
     "data": {
      "text/html": [
       "<table>\n",
       " <thead>\n",
       "  <tr>\n",
       "   <th style=\"text-align:left;\"> X1 </th>\n",
       "   <th style=\"text-align:right;\"> X2 </th>\n",
       "   <th style=\"text-align:right;\"> X3 </th>\n",
       "   <th style=\"text-align:right;\"> X4 </th>\n",
       "  </tr>\n",
       " </thead>\n",
       "<tbody>\n",
       "  <tr>\n",
       "   <td style=\"text-align:left;\"> chr1 </td>\n",
       "   <td style=\"text-align:right;\"> 10038 </td>\n",
       "   <td style=\"text-align:right;\"> 10405 </td>\n",
       "   <td style=\"text-align:right;\"> 6 </td>\n",
       "  </tr>\n",
       "  <tr>\n",
       "   <td style=\"text-align:left;\"> chr1 </td>\n",
       "   <td style=\"text-align:right;\"> 14282 </td>\n",
       "   <td style=\"text-align:right;\"> 14614 </td>\n",
       "   <td style=\"text-align:right;\"> 6 </td>\n",
       "  </tr>\n",
       "  <tr>\n",
       "   <td style=\"text-align:left;\"> chr1 </td>\n",
       "   <td style=\"text-align:right;\"> 16025 </td>\n",
       "   <td style=\"text-align:right;\"> 16338 </td>\n",
       "   <td style=\"text-align:right;\"> 6 </td>\n",
       "  </tr>\n",
       "</tbody>\n",
       "</table>"
      ]
     },
     "metadata": {},
     "output_type": "display_data"
    }
   ],
   "source": [
    "lst = lst_dat_import\n",
    "dat = lst[[2]]\n",
    "fun_display_table(head(dat, 3))"
   ]
  },
  {
   "cell_type": "code",
   "execution_count": 8,
   "id": "0901271c-a14e-46e4-814d-5243661bd653",
   "metadata": {},
   "outputs": [],
   "source": [
    "lst = lst_dat_import\n",
    "lst = lapply(lst, function(dat){\n",
    "    dat = dat %>% \n",
    "        dplyr::filter(X1 %in% vec_txt_chrom) %>%\n",
    "        dplyr::select(X1:X3) %>%\n",
    "        dplyr::mutate(X4 = fun_gen_region(X1, X2, X3)) %>%\n",
    "        dplyr::arrange(X1, X2, X3)\n",
    "    return(dat)\n",
    "})\n",
    "\n",
    "lst_dat_arrange = lst"
   ]
  },
  {
   "cell_type": "markdown",
   "id": "663c0c11-77fb-4d0a-af7b-b956ca7c97aa",
   "metadata": {
    "jp-MarkdownHeadingCollapsed": true
   },
   "source": [
    "**Double check the filtering process**"
   ]
  },
  {
   "cell_type": "code",
   "execution_count": 9,
   "id": "c6aa1d0f-388d-4628-85b9-ae7317a3eeaa",
   "metadata": {},
   "outputs": [
    {
     "data": {
      "text/html": [
       "<table>\n",
       " <thead>\n",
       "  <tr>\n",
       "   <th style=\"text-align:left;\"> Var1 </th>\n",
       "   <th style=\"text-align:right;\"> Freq </th>\n",
       "  </tr>\n",
       " </thead>\n",
       "<tbody>\n",
       "  <tr>\n",
       "   <td style=\"text-align:left;\"> chr1 </td>\n",
       "   <td style=\"text-align:right;\"> 30534 </td>\n",
       "  </tr>\n",
       "  <tr>\n",
       "   <td style=\"text-align:left;\"> chr1_KI270706v1_random </td>\n",
       "   <td style=\"text-align:right;\"> 35 </td>\n",
       "  </tr>\n",
       "  <tr>\n",
       "   <td style=\"text-align:left;\"> chr1_KI270707v1_random </td>\n",
       "   <td style=\"text-align:right;\"> 1 </td>\n",
       "  </tr>\n",
       "</tbody>\n",
       "</table>"
      ]
     },
     "metadata": {},
     "output_type": "display_data"
    }
   ],
   "source": [
    "lst = lst_dat_import\n",
    "dat = lst[[1]]\n",
    "dat = as.data.frame(table(dat$X1))\n",
    "fun_display_table(head(dat, 3))"
   ]
  },
  {
   "cell_type": "code",
   "execution_count": 10,
   "id": "4fe61b70-ba9a-486c-be16-12d29fb0d93b",
   "metadata": {},
   "outputs": [
    {
     "data": {
      "text/html": [
       "<table>\n",
       " <thead>\n",
       "  <tr>\n",
       "   <th style=\"text-align:left;\"> Var1 </th>\n",
       "   <th style=\"text-align:right;\"> Freq </th>\n",
       "  </tr>\n",
       " </thead>\n",
       "<tbody>\n",
       "  <tr>\n",
       "   <td style=\"text-align:left;\"> chr1 </td>\n",
       "   <td style=\"text-align:right;\"> 30534 </td>\n",
       "  </tr>\n",
       "  <tr>\n",
       "   <td style=\"text-align:left;\"> chr10 </td>\n",
       "   <td style=\"text-align:right;\"> 11398 </td>\n",
       "  </tr>\n",
       "  <tr>\n",
       "   <td style=\"text-align:left;\"> chr11 </td>\n",
       "   <td style=\"text-align:right;\"> 12010 </td>\n",
       "  </tr>\n",
       "</tbody>\n",
       "</table>"
      ]
     },
     "metadata": {},
     "output_type": "display_data"
    }
   ],
   "source": [
    "lst = lst_dat_arrange\n",
    "dat = lst[[1]]\n",
    "dat = as.data.frame(table(dat$X1))\n",
    "fun_display_table(head(dat, 3))"
   ]
  },
  {
   "cell_type": "markdown",
   "id": "94c3887a-5a4e-476d-9681-23dfbaffbe41",
   "metadata": {},
   "source": [
    "## Define column description"
   ]
  },
  {
   "cell_type": "code",
   "execution_count": 11,
   "id": "4664586b-0f1e-4d70-9757-24c97a06a052",
   "metadata": {},
   "outputs": [
    {
     "data": {
      "text/html": [
       "<table>\n",
       " <thead>\n",
       "  <tr>\n",
       "   <th style=\"text-align:left;\"> Name </th>\n",
       "   <th style=\"text-align:left;\"> Note </th>\n",
       "  </tr>\n",
       " </thead>\n",
       "<tbody>\n",
       "  <tr>\n",
       "   <td style=\"text-align:left;\"> Chrom </td>\n",
       "   <td style=\"text-align:left;\"> Name of the chromosome </td>\n",
       "  </tr>\n",
       "  <tr>\n",
       "   <td style=\"text-align:left;\"> ChromStart </td>\n",
       "   <td style=\"text-align:left;\"> The starting position of the feature in the chromosome </td>\n",
       "  </tr>\n",
       "  <tr>\n",
       "   <td style=\"text-align:left;\"> ChromEnd </td>\n",
       "   <td style=\"text-align:left;\"> The ending position of the feature in the chromosome </td>\n",
       "  </tr>\n",
       "  <tr>\n",
       "   <td style=\"text-align:left;\"> Region </td>\n",
       "   <td style=\"text-align:left;\"> chr:start-end for each row </td>\n",
       "  </tr>\n",
       "</tbody>\n",
       "</table>"
      ]
     },
     "metadata": {},
     "output_type": "display_data"
    }
   ],
   "source": [
    "### set column name and description\n",
    "dat = tribble(\n",
    "    ~Name,        ~Note,\n",
    "    \"Chrom\",      \"Name of the chromosome\",\n",
    "    \"ChromStart\", \"The starting position of the feature in the chromosome\",\n",
    "    \"ChromEnd\",   \"The ending position of the feature in the chromosome\",\n",
    "    \"Region\",     \"chr:start-end for each row\"\n",
    ")\n",
    "\n",
    "### assign and show\n",
    "dat_cname = dat\n",
    "fun_display_table(dat)"
   ]
  },
  {
   "cell_type": "markdown",
   "id": "7af035e2-3277-42da-85b7-490581251255",
   "metadata": {},
   "source": [
    "## Save results"
   ]
  },
  {
   "cell_type": "markdown",
   "id": "7f1bb0f8-98f1-4bb1-a9b3-66085341c541",
   "metadata": {},
   "source": [
    "**Write description table of columns**"
   ]
  },
  {
   "cell_type": "code",
   "execution_count": 12,
   "id": "9367f783-9393-4e81-b8d2-8f938d2629d2",
   "metadata": {},
   "outputs": [],
   "source": [
    "txt_folder = TXT_FOLDER_REGION\n",
    "txt_fdiry  = file.path(FD_RES, \"region\", txt_folder, \"summary\")\n",
    "txt_fname  = \"description.tsv\"\n",
    "txt_fpath  = file.path(txt_fdiry, txt_fname)\n",
    "\n",
    "dir.create(txt_fdiry, showWarnings = FALSE)\n",
    "dat = dat_cname\n",
    "write_tsv(dat, txt_fpath)"
   ]
  },
  {
   "cell_type": "markdown",
   "id": "28ee4676-70d5-4b2d-92a8-320bfa87b891",
   "metadata": {},
   "source": [
    "**Test loop**"
   ]
  },
  {
   "cell_type": "code",
   "execution_count": 13,
   "id": "c72a5d19-a39b-4929-9113-511ae531a7a5",
   "metadata": {},
   "outputs": [
    {
     "name": "stdout",
     "output_type": "stream",
     "text": [
      "[1] \"union\"\n",
      "[1] \"K562.hg38.ASTARR.macs.KS91.input.rep_all.union.q5.bed.gz\"\n",
      "[1] \"max_overlaps\"\n",
      "[1] \"K562.hg38.ASTARR.macs.KS91.input.rep_all.max_overlaps.q5.bed.gz\"\n"
     ]
    }
   ],
   "source": [
    "lst = lst_dat_arrange\n",
    "for (idx in names(lst)){\n",
    "    txt_fname = paste(\n",
    "        \"K562.hg38.ASTARR.macs.KS91.input.rep_all\",\n",
    "        idx,\n",
    "        \"q5.bed.gz\",\n",
    "        sep = \".\"\n",
    "    )\n",
    "    print(idx)\n",
    "    print(txt_fname)\n",
    "}"
   ]
  },
  {
   "cell_type": "markdown",
   "id": "056f8659-b451-4d47-a073-861966afd1ff",
   "metadata": {},
   "source": [
    "**Write tables**"
   ]
  },
  {
   "cell_type": "code",
   "execution_count": 14,
   "id": "88bb5e0e-4c75-4df9-b4f6-7b7b7a74ec40",
   "metadata": {},
   "outputs": [
    {
     "name": "stdout",
     "output_type": "stream",
     "text": [
      "[1] \"union\"\n",
      "[1] \"K562.hg38.ASTARR.macs.KS91.input.rep_all.union.q5.bed.gz\"\n",
      "[1] \"max_overlaps\"\n",
      "[1] \"K562.hg38.ASTARR.macs.KS91.input.rep_all.max_overlaps.q5.bed.gz\"\n"
     ]
    }
   ],
   "source": [
    "### set file path\n",
    "txt_folder = TXT_FOLDER_REGION\n",
    "txt_fdiry  = file.path(FD_RES, \"region\", txt_folder)\n",
    "dir.create(txt_fdiry, showWarnings = FALSE)\n",
    "\n",
    "lst = lst_dat_arrange\n",
    "for (idx in names(lst)){\n",
    "    ### set directory\n",
    "    txt_fname = paste(\n",
    "        \"K562.hg38.ASTARR.macs.KS91.input.rep_all\",\n",
    "        idx,\n",
    "        \"q5.bed.gz\",\n",
    "        sep = \".\"\n",
    "    )\n",
    "    txt_fpath = file.path(txt_fdiry, txt_fname)\n",
    "\n",
    "    ### write table\n",
    "    dat = lst[[idx]]\n",
    "    write_tsv(dat, txt_fpath, col_names = FALSE)\n",
    "\n",
    "    ### show progress\n",
    "    print(idx)\n",
    "    print(txt_fname)\n",
    "    flush.console()\n",
    "}"
   ]
  },
  {
   "cell_type": "markdown",
   "id": "ea23de6a-9442-442e-941d-1b7c96aed826",
   "metadata": {},
   "source": [
    "**Save a copy to the reference folder**"
   ]
  },
  {
   "cell_type": "code",
   "execution_count": 15,
   "id": "fd6c0963-ab3e-4162-a796-5448a5531624",
   "metadata": {},
   "outputs": [
    {
     "data": {
      "text/html": [
       "'/data/reddylab/Kuei/repo/Proj_ENCODE_FCC/references'"
      ],
      "text/latex": [
       "'/data/reddylab/Kuei/repo/Proj\\_ENCODE\\_FCC/references'"
      ],
      "text/markdown": [
       "'/data/reddylab/Kuei/repo/Proj_ENCODE_FCC/references'"
      ],
      "text/plain": [
       "[1] \"/data/reddylab/Kuei/repo/Proj_ENCODE_FCC/references\""
      ]
     },
     "metadata": {},
     "output_type": "display_data"
    }
   ],
   "source": [
    "FD_REF"
   ]
  },
  {
   "cell_type": "code",
   "execution_count": 16,
   "id": "ca64ffcd-e70a-409c-aa1d-d6f2d81a2183",
   "metadata": {},
   "outputs": [
    {
     "name": "stdout",
     "output_type": "stream",
     "text": [
      "[1] \"union\"\n",
      "[1] \"STARRseq_ATAC.K562.ReddyLab.hg38.Input.rep_all.union.q5.bed.gz\"\n",
      "[1] \"max_overlaps\"\n",
      "[1] \"STARRseq_ATAC.K562.ReddyLab.hg38.Input.rep_all.max_overlaps.q5.bed.gz\"\n"
     ]
    }
   ],
   "source": [
    "### set file path\n",
    "txt_folder = \"fcc_peak_call_atac\"\n",
    "txt_fdiry  = file.path(FD_REF, txt_folder)\n",
    "dir.create(txt_fdiry, showWarnings = FALSE)\n",
    "\n",
    "lst = lst_dat_arrange\n",
    "for (idx in names(lst)){\n",
    "    ### set directory\n",
    "    txt_fname = paste(\n",
    "        \"STARRseq_ATAC.K562.ReddyLab.hg38.Input.rep_all\",\n",
    "        idx,\n",
    "        \"q5.bed.gz\",\n",
    "        sep = \".\"\n",
    "    )\n",
    "    txt_fpath = file.path(txt_fdiry, txt_fname)\n",
    "\n",
    "    ### write table\n",
    "    dat = lst[[idx]]\n",
    "    write_tsv(dat, txt_fpath, col_names = FALSE)\n",
    "\n",
    "    ### show progress\n",
    "    print(idx)\n",
    "    print(txt_fname)\n",
    "    flush.console()\n",
    "}"
   ]
  },
  {
   "cell_type": "code",
   "execution_count": null,
   "id": "393c8ac9-12d7-4b4f-8ede-e734b9043a86",
   "metadata": {},
   "outputs": [],
   "source": []
  }
 ],
 "metadata": {
  "kernelspec": {
   "display_name": "R",
   "language": "R",
   "name": "ir"
  },
  "language_info": {
   "codemirror_mode": "r",
   "file_extension": ".r",
   "mimetype": "text/x-r-source",
   "name": "R",
   "pygments_lexer": "r",
   "version": "4.4.2"
  }
 },
 "nbformat": 4,
 "nbformat_minor": 5
}
