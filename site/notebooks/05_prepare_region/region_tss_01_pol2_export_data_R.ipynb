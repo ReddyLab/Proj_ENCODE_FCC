{
 "cells": [
  {
   "cell_type": "raw",
   "id": "23036dc9-07a7-4f61-a149-2b9239bcc1c4",
   "metadata": {},
   "source": [
    "---\n",
    "title: Prepare TSS annotation 01\n",
    "subtitle: Prepare K562 TSS annotation\n",
    "format:\n",
    "    html:\n",
    "        code-fold:  true\n",
    "        code-tools: true\n",
    "---"
   ]
  },
  {
   "cell_type": "markdown",
   "id": "362c5566-62c0-495f-b324-b7ff2c129bef",
   "metadata": {},
   "source": [
    "To acquire K562 specific TSS annotation, previously we have select the TSS with highest K562 Pol2 signals among the isoform of each genes. Here, we will further filter out lowly expressed genes using K562 RNA-seq."
   ]
  },
  {
   "cell_type": "markdown",
   "id": "21f816f9-5567-4bb5-9fc9-2b292a2d373e",
   "metadata": {},
   "source": [
    "**Set environment**"
   ]
  },
  {
   "cell_type": "code",
   "execution_count": 1,
   "id": "22058e48-1463-454b-820e-e18de25db402",
   "metadata": {
    "tags": []
   },
   "outputs": [
    {
     "name": "stdout",
     "output_type": "stream",
     "text": [
      "You are working on        Singularity: singularity_proj_encode_fcc \n",
      "BASE DIRECTORY (FD_BASE): /data/reddylab/Kuei \n",
      "REPO DIRECTORY (FD_REPO): /data/reddylab/Kuei/repo \n",
      "WORK DIRECTORY (FD_WORK): /data/reddylab/Kuei/work \n",
      "DATA DIRECTORY (FD_DATA): /data/reddylab/Kuei/data \n",
      "\n",
      "You are working with      ENCODE FCC \n",
      "PATH OF PROJECT (FD_PRJ): /data/reddylab/Kuei/repo/Proj_ENCODE_FCC \n",
      "PROJECT RESULTS (FD_RES): /data/reddylab/Kuei/repo/Proj_ENCODE_FCC/results \n",
      "PROJECT SCRIPTS (FD_EXE): /data/reddylab/Kuei/repo/Proj_ENCODE_FCC/scripts \n",
      "PROJECT DATA    (FD_DAT): /data/reddylab/Kuei/repo/Proj_ENCODE_FCC/data \n",
      "PROJECT NOTE    (FD_NBK): /data/reddylab/Kuei/repo/Proj_ENCODE_FCC/notebooks \n",
      "PROJECT DOCS    (FD_DOC): /data/reddylab/Kuei/repo/Proj_ENCODE_FCC/docs \n",
      "PROJECT LOG     (FD_LOG): /data/reddylab/Kuei/repo/Proj_ENCODE_FCC/log \n",
      "PROJECT REF     (FD_REF): /data/reddylab/Kuei/repo/Proj_ENCODE_FCC/references \n",
      "\n"
     ]
    }
   ],
   "source": [
    "suppressMessages(suppressWarnings(source(\"../run_config_project_sing.R\")))\n",
    "show_env()"
   ]
  },
  {
   "cell_type": "markdown",
   "id": "8f084b0a-b4f7-4236-84ca-dd3c7ddea079",
   "metadata": {},
   "source": [
    "**Set global variable**"
   ]
  },
  {
   "cell_type": "markdown",
   "id": "07b01947-c5b6-47da-a683-faab41124ac7",
   "metadata": {},
   "source": [
    "Cut-off threshold for lowly expressed genes"
   ]
  },
  {
   "cell_type": "code",
   "execution_count": 2,
   "id": "8ca50923-318f-4803-8fb8-cad0dde12501",
   "metadata": {},
   "outputs": [],
   "source": [
    "NUM_TPM_CUTOFF = 1"
   ]
  },
  {
   "cell_type": "markdown",
   "id": "c87be7ab-cd2e-4634-82ab-1e69d92a8fa7",
   "metadata": {
    "tags": []
   },
   "source": [
    "## Import data"
   ]
  },
  {
   "cell_type": "markdown",
   "id": "6fa64a64-ebcc-45da-ad29-c64d65dc8b23",
   "metadata": {},
   "source": [
    "**Read data: TSS**"
   ]
  },
  {
   "cell_type": "code",
   "execution_count": 3,
   "id": "3a61eba3-1995-4503-ab48-5207fa615a26",
   "metadata": {},
   "outputs": [
    {
     "name": "stdout",
     "output_type": "stream",
     "text": [
      "K562_TSS_selected_by_higest_Pol2_TSS_sig.out \n",
      "trackDb.txt \n"
     ]
    }
   ],
   "source": [
    "txt_folder = \"fcc_trackhub_JinWoo\"\n",
    "txt_fdiry  = file.path(FD_REF, txt_folder)\n",
    "\n",
    "vec = dir(txt_fdiry)\n",
    "for (txt in vec){cat(txt, \"\\n\")}"
   ]
  },
  {
   "cell_type": "code",
   "execution_count": 4,
   "id": "c6f660bf-4135-465c-aae5-c7b6215a4d91",
   "metadata": {},
   "outputs": [
    {
     "name": "stdout",
     "output_type": "stream",
     "text": [
      "[1] 29330     4\n"
     ]
    },
    {
     "data": {
      "text/html": [
       "<table>\n",
       " <thead>\n",
       "  <tr>\n",
       "   <th style=\"text-align:left;\"> gene_name </th>\n",
       "   <th style=\"text-align:left;\"> chr </th>\n",
       "   <th style=\"text-align:right;\"> TSS </th>\n",
       "   <th style=\"text-align:right;\"> TSS_POL2_sig </th>\n",
       "  </tr>\n",
       " </thead>\n",
       "<tbody>\n",
       "  <tr>\n",
       "   <td style=\"text-align:left;\"> A1BG-AS1 </td>\n",
       "   <td style=\"text-align:left;\"> chr19 </td>\n",
       "   <td style=\"text-align:right;\"> 58351969 </td>\n",
       "   <td style=\"text-align:right;\"> 1.5218000 </td>\n",
       "  </tr>\n",
       "  <tr>\n",
       "   <td style=\"text-align:left;\"> A1BG </td>\n",
       "   <td style=\"text-align:left;\"> chr19 </td>\n",
       "   <td style=\"text-align:right;\"> 58353492 </td>\n",
       "   <td style=\"text-align:right;\"> 5.6228400 </td>\n",
       "  </tr>\n",
       "  <tr>\n",
       "   <td style=\"text-align:left;\"> A1CF </td>\n",
       "   <td style=\"text-align:left;\"> chr10 </td>\n",
       "   <td style=\"text-align:right;\"> 50885675 </td>\n",
       "   <td style=\"text-align:right;\"> 0.0070613 </td>\n",
       "  </tr>\n",
       "</tbody>\n",
       "</table>"
      ]
     },
     "metadata": {},
     "output_type": "display_data"
    }
   ],
   "source": [
    "### set file path\n",
    "txt_folder = \"fcc_trackhub_JinWoo\"\n",
    "txt_fdiry  = file.path(FD_REF, txt_folder)\n",
    "txt_fname  = \"K562_TSS_selected_by_higest_Pol2_TSS_sig.out\"\n",
    "txt_fpath  = file.path(txt_fdiry, txt_fname)\n",
    "\n",
    "### read table\n",
    "dat = read_tsv(txt_fpath, show_col_types = FALSE)\n",
    "\n",
    "### assign and show\n",
    "dat_region_import = dat\n",
    "print(dim(dat))\n",
    "fun_display_table(head(dat, 3))"
   ]
  },
  {
   "cell_type": "markdown",
   "id": "1351693b-2c04-4e0f-837f-94430a814dd6",
   "metadata": {},
   "source": [
    "**Read data: Gene ID table**"
   ]
  },
  {
   "cell_type": "code",
   "execution_count": 5,
   "id": "a65ce653-be43-4ae9-88b6-aa4471bee083",
   "metadata": {},
   "outputs": [
    {
     "name": "stdout",
     "output_type": "stream",
     "text": [
      "biomart.ensembl_gene_111.GRCh38.p14.gene_stable_id2name_tss.tsv.gz \n",
      "biomart.ensembl_gene_111.GRCh38.p14.gene_stable_id2name.tsv.gz \n",
      "demap.v24Q2.AchillesCommonEssentialControls.csv \n"
     ]
    }
   ],
   "source": [
    "txt_folder = \"genome_gene\"\n",
    "txt_fdiry  = file.path(FD_REF, txt_folder)\n",
    "\n",
    "vec = dir(txt_fdiry)\n",
    "for (txt in vec){cat(txt, \"\\n\")}"
   ]
  },
  {
   "cell_type": "code",
   "execution_count": 6,
   "id": "b0d78f75-8930-41c9-a1e9-e337ba97f655",
   "metadata": {},
   "outputs": [
    {
     "name": "stdout",
     "output_type": "stream",
     "text": [
      "[1] 629744     10\n"
     ]
    },
    {
     "data": {
      "text/html": [
       "<table>\n",
       " <thead>\n",
       "  <tr>\n",
       "   <th style=\"text-align:left;\"> Gene stable ID </th>\n",
       "   <th style=\"text-align:left;\"> Gene stable ID version </th>\n",
       "   <th style=\"text-align:left;\"> Transcript stable ID </th>\n",
       "   <th style=\"text-align:left;\"> Transcript stable ID version </th>\n",
       "   <th style=\"text-align:left;\"> Gene name </th>\n",
       "   <th style=\"text-align:left;\"> Gene Synonym </th>\n",
       "   <th style=\"text-align:right;\"> Strand </th>\n",
       "   <th style=\"text-align:right;\"> Transcription start site (TSS) </th>\n",
       "   <th style=\"text-align:right;\"> Transcript start (bp) </th>\n",
       "   <th style=\"text-align:right;\"> Transcript end (bp) </th>\n",
       "  </tr>\n",
       " </thead>\n",
       "<tbody>\n",
       "  <tr>\n",
       "   <td style=\"text-align:left;\"> ENSG00000291190 </td>\n",
       "   <td style=\"text-align:left;\"> ENSG00000291190.1 </td>\n",
       "   <td style=\"text-align:left;\"> ENST00000543404 </td>\n",
       "   <td style=\"text-align:left;\"> ENST00000543404.5 </td>\n",
       "   <td style=\"text-align:left;\"> A2MP1 </td>\n",
       "   <td style=\"text-align:left;\"> A2MP </td>\n",
       "   <td style=\"text-align:right;\"> -1 </td>\n",
       "   <td style=\"text-align:right;\"> 9234207 </td>\n",
       "   <td style=\"text-align:right;\"> 9228533 </td>\n",
       "   <td style=\"text-align:right;\"> 9234207 </td>\n",
       "  </tr>\n",
       "  <tr>\n",
       "   <td style=\"text-align:left;\"> ENSG00000291084 </td>\n",
       "   <td style=\"text-align:left;\"> ENSG00000291084.1 </td>\n",
       "   <td style=\"text-align:left;\"> ENST00000574727 </td>\n",
       "   <td style=\"text-align:left;\"> ENST00000574727.5 </td>\n",
       "   <td style=\"text-align:left;\"> ALOX12P2 </td>\n",
       "   <td style=\"text-align:left;\"> ALOX12E </td>\n",
       "   <td style=\"text-align:right;\"> 1 </td>\n",
       "   <td style=\"text-align:right;\"> 6853861 </td>\n",
       "   <td style=\"text-align:right;\"> 6853861 </td>\n",
       "   <td style=\"text-align:right;\"> 6902192 </td>\n",
       "  </tr>\n",
       "  <tr>\n",
       "   <td style=\"text-align:left;\"> ENSG00000291084 </td>\n",
       "   <td style=\"text-align:left;\"> ENSG00000291084.1 </td>\n",
       "   <td style=\"text-align:left;\"> ENST00000573104 </td>\n",
       "   <td style=\"text-align:left;\"> ENST00000573104.5 </td>\n",
       "   <td style=\"text-align:left;\"> ALOX12P2 </td>\n",
       "   <td style=\"text-align:left;\"> ALOX12E </td>\n",
       "   <td style=\"text-align:right;\"> 1 </td>\n",
       "   <td style=\"text-align:right;\"> 6853921 </td>\n",
       "   <td style=\"text-align:right;\"> 6853921 </td>\n",
       "   <td style=\"text-align:right;\"> 6859433 </td>\n",
       "  </tr>\n",
       "</tbody>\n",
       "</table>"
      ]
     },
     "metadata": {},
     "output_type": "display_data"
    }
   ],
   "source": [
    "### set file path\n",
    "txt_folder = \"genome_gene\"\n",
    "txt_fdiry  = file.path(FD_REF, txt_folder)\n",
    "txt_fname  = \"biomart.ensembl_gene_111.GRCh38.p14.gene_stable_id2name_tss.tsv.gz\"\n",
    "txt_fpath  = file.path(txt_fdiry, txt_fname)\n",
    "\n",
    "### read table\n",
    "dat = read_tsv(txt_fpath, show_col_types = FALSE)\n",
    "\n",
    "### show and assign\n",
    "dat_gene_table = dat\n",
    "print(dim(dat))\n",
    "fun_display_table(head(dat, 3))"
   ]
  },
  {
   "cell_type": "markdown",
   "id": "cda5dd97-766e-49e8-a439-0bc4ea7b9bb5",
   "metadata": {},
   "source": [
    "**Read data: RNA-seq**"
   ]
  },
  {
   "cell_type": "code",
   "execution_count": 7,
   "id": "dee0ba98-c5d2-4937-bf74-59e12e4f7f88",
   "metadata": {},
   "outputs": [
    {
     "name": "stdout",
     "output_type": "stream",
     "text": [
      "checksum_md5sum.txt \n",
      "checksum_results.txt \n",
      "K562.hg38.ENCSR615EEK.ENCFF421TJX.RNAseq_total.tsv \n",
      "K562.hg38.ENCSR615EEK.ENCFF585HTZ.RNAseq_total.strand_pos.bw \n",
      "K562.hg38.ENCSR615EEK.ENCFF876JOV.RNAseq_total.strand_neg.bw \n",
      "run_download_files.log.txt \n",
      "run_download_files.sh \n",
      "run_download.log.txt \n",
      "tmp \n"
     ]
    }
   ],
   "source": [
    "txt_folder = \"encode_rnaseq\"\n",
    "txt_fdiry  = file.path(FD_DAT, \"external\", txt_folder)\n",
    "\n",
    "vec = dir(txt_fdiry)\n",
    "for (txt in vec){cat(txt, \"\\n\")}"
   ]
  },
  {
   "cell_type": "code",
   "execution_count": 8,
   "id": "c85846fd-bf1c-4b6a-be61-89874678ae17",
   "metadata": {},
   "outputs": [
    {
     "name": "stdout",
     "output_type": "stream",
     "text": [
      "[1] 59526    17\n"
     ]
    },
    {
     "data": {
      "text/html": [
       "<table>\n",
       " <thead>\n",
       "  <tr>\n",
       "   <th style=\"text-align:left;\"> gene_id </th>\n",
       "   <th style=\"text-align:left;\"> transcript_id(s) </th>\n",
       "   <th style=\"text-align:right;\"> length </th>\n",
       "   <th style=\"text-align:right;\"> effective_length </th>\n",
       "   <th style=\"text-align:right;\"> expected_count </th>\n",
       "   <th style=\"text-align:right;\"> TPM </th>\n",
       "   <th style=\"text-align:right;\"> FPKM </th>\n",
       "   <th style=\"text-align:right;\"> posterior_mean_count </th>\n",
       "   <th style=\"text-align:right;\"> posterior_standard_deviation_of_count </th>\n",
       "   <th style=\"text-align:right;\"> pme_TPM </th>\n",
       "   <th style=\"text-align:right;\"> pme_FPKM </th>\n",
       "   <th style=\"text-align:right;\"> TPM_ci_lower_bound </th>\n",
       "   <th style=\"text-align:right;\"> TPM_ci_upper_bound </th>\n",
       "   <th style=\"text-align:right;\"> TPM_coefficient_of_quartile_variation </th>\n",
       "   <th style=\"text-align:right;\"> FPKM_ci_lower_bound </th>\n",
       "   <th style=\"text-align:right;\"> FPKM_ci_upper_bound </th>\n",
       "   <th style=\"text-align:right;\"> FPKM_coefficient_of_quartile_variation </th>\n",
       "  </tr>\n",
       " </thead>\n",
       "<tbody>\n",
       "  <tr>\n",
       "   <td style=\"text-align:left;\"> 10904 </td>\n",
       "   <td style=\"text-align:left;\"> 10904 </td>\n",
       "   <td style=\"text-align:right;\"> 93 </td>\n",
       "   <td style=\"text-align:right;\"> 0 </td>\n",
       "   <td style=\"text-align:right;\"> 0 </td>\n",
       "   <td style=\"text-align:right;\"> 0 </td>\n",
       "   <td style=\"text-align:right;\"> 0 </td>\n",
       "   <td style=\"text-align:right;\"> 0 </td>\n",
       "   <td style=\"text-align:right;\"> 0 </td>\n",
       "   <td style=\"text-align:right;\"> 0 </td>\n",
       "   <td style=\"text-align:right;\"> 0 </td>\n",
       "   <td style=\"text-align:right;\"> 0 </td>\n",
       "   <td style=\"text-align:right;\"> 0 </td>\n",
       "   <td style=\"text-align:right;\"> 0 </td>\n",
       "   <td style=\"text-align:right;\"> 0 </td>\n",
       "   <td style=\"text-align:right;\"> 0 </td>\n",
       "   <td style=\"text-align:right;\"> 0 </td>\n",
       "  </tr>\n",
       "  <tr>\n",
       "   <td style=\"text-align:left;\"> 12954 </td>\n",
       "   <td style=\"text-align:left;\"> 12954 </td>\n",
       "   <td style=\"text-align:right;\"> 94 </td>\n",
       "   <td style=\"text-align:right;\"> 0 </td>\n",
       "   <td style=\"text-align:right;\"> 0 </td>\n",
       "   <td style=\"text-align:right;\"> 0 </td>\n",
       "   <td style=\"text-align:right;\"> 0 </td>\n",
       "   <td style=\"text-align:right;\"> 0 </td>\n",
       "   <td style=\"text-align:right;\"> 0 </td>\n",
       "   <td style=\"text-align:right;\"> 0 </td>\n",
       "   <td style=\"text-align:right;\"> 0 </td>\n",
       "   <td style=\"text-align:right;\"> 0 </td>\n",
       "   <td style=\"text-align:right;\"> 0 </td>\n",
       "   <td style=\"text-align:right;\"> 0 </td>\n",
       "   <td style=\"text-align:right;\"> 0 </td>\n",
       "   <td style=\"text-align:right;\"> 0 </td>\n",
       "   <td style=\"text-align:right;\"> 0 </td>\n",
       "  </tr>\n",
       "  <tr>\n",
       "   <td style=\"text-align:left;\"> 12956 </td>\n",
       "   <td style=\"text-align:left;\"> 12956 </td>\n",
       "   <td style=\"text-align:right;\"> 72 </td>\n",
       "   <td style=\"text-align:right;\"> 0 </td>\n",
       "   <td style=\"text-align:right;\"> 0 </td>\n",
       "   <td style=\"text-align:right;\"> 0 </td>\n",
       "   <td style=\"text-align:right;\"> 0 </td>\n",
       "   <td style=\"text-align:right;\"> 0 </td>\n",
       "   <td style=\"text-align:right;\"> 0 </td>\n",
       "   <td style=\"text-align:right;\"> 0 </td>\n",
       "   <td style=\"text-align:right;\"> 0 </td>\n",
       "   <td style=\"text-align:right;\"> 0 </td>\n",
       "   <td style=\"text-align:right;\"> 0 </td>\n",
       "   <td style=\"text-align:right;\"> 0 </td>\n",
       "   <td style=\"text-align:right;\"> 0 </td>\n",
       "   <td style=\"text-align:right;\"> 0 </td>\n",
       "   <td style=\"text-align:right;\"> 0 </td>\n",
       "  </tr>\n",
       "</tbody>\n",
       "</table>"
      ]
     },
     "metadata": {},
     "output_type": "display_data"
    }
   ],
   "source": [
    "### set file path\n",
    "txt_folder = \"encode_rnaseq\"\n",
    "txt_fdiry  = file.path(FD_DAT, \"external\", txt_folder)\n",
    "txt_fname  = \"K562.hg38.ENCSR615EEK.ENCFF421TJX.RNAseq_total.tsv\"\n",
    "txt_fpath  = file.path(txt_fdiry, txt_fname)\n",
    "\n",
    "### read table\n",
    "dat = read_tsv(txt_fpath, show_col_types = FALSE)\n",
    "\n",
    "### show and assign\n",
    "dat_gene_rnaseq_import = dat\n",
    "print(dim(dat))\n",
    "fun_display_table(head(dat, 3))"
   ]
  },
  {
   "cell_type": "markdown",
   "id": "0e055f96-0499-4df9-b4e4-a9476dd3af0d",
   "metadata": {},
   "source": [
    "## Arrange columns of region data into bed format"
   ]
  },
  {
   "cell_type": "code",
   "execution_count": 9,
   "id": "81a5b513-f92d-4f4e-8f6a-854492a72278",
   "metadata": {},
   "outputs": [
    {
     "name": "stdout",
     "output_type": "stream",
     "text": [
      "[1] 29330     6\n"
     ]
    },
    {
     "data": {
      "text/html": [
       "<table>\n",
       " <thead>\n",
       "  <tr>\n",
       "   <th style=\"text-align:left;\"> Chrom </th>\n",
       "   <th style=\"text-align:right;\"> ChromStart </th>\n",
       "   <th style=\"text-align:right;\"> ChromEnd </th>\n",
       "   <th style=\"text-align:left;\"> Region </th>\n",
       "   <th style=\"text-align:left;\"> Gene </th>\n",
       "   <th style=\"text-align:right;\"> Score </th>\n",
       "  </tr>\n",
       " </thead>\n",
       "<tbody>\n",
       "  <tr>\n",
       "   <td style=\"text-align:left;\"> chr19 </td>\n",
       "   <td style=\"text-align:right;\"> 58351969 </td>\n",
       "   <td style=\"text-align:right;\"> 58351970 </td>\n",
       "   <td style=\"text-align:left;\"> chr19:58351969-58351970 </td>\n",
       "   <td style=\"text-align:left;\"> A1BG-AS1 </td>\n",
       "   <td style=\"text-align:right;\"> 1.5218000 </td>\n",
       "  </tr>\n",
       "  <tr>\n",
       "   <td style=\"text-align:left;\"> chr19 </td>\n",
       "   <td style=\"text-align:right;\"> 58353492 </td>\n",
       "   <td style=\"text-align:right;\"> 58353493 </td>\n",
       "   <td style=\"text-align:left;\"> chr19:58353492-58353493 </td>\n",
       "   <td style=\"text-align:left;\"> A1BG </td>\n",
       "   <td style=\"text-align:right;\"> 5.6228400 </td>\n",
       "  </tr>\n",
       "  <tr>\n",
       "   <td style=\"text-align:left;\"> chr10 </td>\n",
       "   <td style=\"text-align:right;\"> 50885675 </td>\n",
       "   <td style=\"text-align:right;\"> 50885676 </td>\n",
       "   <td style=\"text-align:left;\"> chr10:50885675-50885676 </td>\n",
       "   <td style=\"text-align:left;\"> A1CF </td>\n",
       "   <td style=\"text-align:right;\"> 0.0070613 </td>\n",
       "  </tr>\n",
       "</tbody>\n",
       "</table>"
      ]
     },
     "metadata": {},
     "output_type": "display_data"
    }
   ],
   "source": [
    "### init\n",
    "dat = dat_region_import\n",
    "\n",
    "### arrange columns into bed format\n",
    "dat = dat %>% \n",
    "    dplyr::rename(\n",
    "        \"Chrom\" = \"chr\",\n",
    "        \"Gene\"  = \"gene_name\",\n",
    "        \"Score\" = \"TSS_POL2_sig\",\n",
    "        \"ChromStart\" = \"TSS\"\n",
    "    ) %>%\n",
    "    dplyr::mutate(ChromEnd = ChromStart + 1) %>%\n",
    "    dplyr::mutate(Region = fun_gen_region(Chrom, ChromStart, ChromEnd)) %>%\n",
    "    dplyr::select(Chrom, ChromStart, ChromEnd, Region, Gene, Score)\n",
    "\n",
    "### assign and show\n",
    "dat_region_arrange = dat\n",
    "print(dim(dat))\n",
    "fun_display_table(head(dat, 3))"
   ]
  },
  {
   "cell_type": "markdown",
   "id": "1596af41-2310-430e-b56f-59cac3f0a7be",
   "metadata": {},
   "source": [
    "## Arrange and select columns of RNA-seq data"
   ]
  },
  {
   "cell_type": "code",
   "execution_count": 10,
   "id": "830367aa-f5ff-4ddb-a54d-ca46894c3038",
   "metadata": {},
   "outputs": [
    {
     "name": "stdout",
     "output_type": "stream",
     "text": [
      "[1] 58780     5\n"
     ]
    },
    {
     "data": {
      "text/html": [
       "<table>\n",
       " <thead>\n",
       "  <tr>\n",
       "   <th style=\"text-align:left;\"> Gene_Stable_ID_Version </th>\n",
       "   <th style=\"text-align:left;\"> Gene_Stable_ID </th>\n",
       "   <th style=\"text-align:left;\"> Transcript_Stable_ID_Version </th>\n",
       "   <th style=\"text-align:right;\"> Length </th>\n",
       "   <th style=\"text-align:right;\"> TPM </th>\n",
       "  </tr>\n",
       " </thead>\n",
       "<tbody>\n",
       "  <tr>\n",
       "   <td style=\"text-align:left;\"> ENSG00000000003.14 </td>\n",
       "   <td style=\"text-align:left;\"> ENSG00000000003 </td>\n",
       "   <td style=\"text-align:left;\"> ENST00000373020.8,ENST00000494424.1,ENST00000496771.5,ENST00000612152.4,ENST00000614008.4 </td>\n",
       "   <td style=\"text-align:right;\"> 1301.17 </td>\n",
       "   <td style=\"text-align:right;\"> 0.05 </td>\n",
       "  </tr>\n",
       "  <tr>\n",
       "   <td style=\"text-align:left;\"> ENSG00000000005.5 </td>\n",
       "   <td style=\"text-align:left;\"> ENSG00000000005 </td>\n",
       "   <td style=\"text-align:left;\"> ENST00000373031.4,ENST00000485971.1 </td>\n",
       "   <td style=\"text-align:right;\"> 1339.00 </td>\n",
       "   <td style=\"text-align:right;\"> 0.04 </td>\n",
       "  </tr>\n",
       "  <tr>\n",
       "   <td style=\"text-align:left;\"> ENSG00000000419.12 </td>\n",
       "   <td style=\"text-align:left;\"> ENSG00000000419 </td>\n",
       "   <td style=\"text-align:left;\"> ENST00000371582.8,ENST00000371584.8,ENST00000371588.9,ENST00000413082.1,ENST00000466152.5,ENST00000494752.1 </td>\n",
       "   <td style=\"text-align:right;\"> 1088.79 </td>\n",
       "   <td style=\"text-align:right;\"> 31.75 </td>\n",
       "  </tr>\n",
       "</tbody>\n",
       "</table>"
      ]
     },
     "metadata": {},
     "output_type": "display_data"
    }
   ],
   "source": [
    "### init\n",
    "dat = dat_gene_rnaseq_import\n",
    "\n",
    "### create gene stable ID\n",
    "dat = dat %>% \n",
    "    dplyr::filter(str_detect(gene_id, \"ENS\")) %>% \n",
    "    tidyr::separate(gene_id, c(\"gene_id_stable\", \"gene_id_version\"), sep=\"\\\\.\", remove = FALSE) %>%\n",
    "    dplyr::select(\n",
    "        `gene_id`, \n",
    "        `gene_id_stable`,\n",
    "        `transcript_id(s)`,\n",
    "        `length`,\n",
    "        `TPM`) %>%\n",
    "    dplyr::distinct()\n",
    "\n",
    "### rename columns\n",
    "colnames(dat) = c(\n",
    "    \"Gene_Stable_ID_Version\",\n",
    "    \"Gene_Stable_ID\", \n",
    "    \"Transcript_Stable_ID_Version\",\n",
    "    \"Length\",\n",
    "    \"TPM\")\n",
    "\n",
    "### assign and show\n",
    "dat_gene_rnaseq_arrange = dat\n",
    "print(dim(dat))\n",
    "fun_display_table(head(dat, 3))"
   ]
  },
  {
   "cell_type": "markdown",
   "id": "5adb8cc2-8e86-46a3-b26c-6d2516a10e31",
   "metadata": {},
   "source": [
    "## Arrange and select columns of Gene table"
   ]
  },
  {
   "cell_type": "code",
   "execution_count": 11,
   "id": "01570c01-2bcf-4992-bf7c-301aa50b8e81",
   "metadata": {},
   "outputs": [
    {
     "name": "stdout",
     "output_type": "stream",
     "text": [
      "[1] 110032      3\n"
     ]
    },
    {
     "data": {
      "text/html": [
       "<table>\n",
       " <thead>\n",
       "  <tr>\n",
       "   <th style=\"text-align:left;\"> Gene_Stable_ID </th>\n",
       "   <th style=\"text-align:left;\"> Gene_Name </th>\n",
       "   <th style=\"text-align:left;\"> Gene_Synonym </th>\n",
       "  </tr>\n",
       " </thead>\n",
       "<tbody>\n",
       "  <tr>\n",
       "   <td style=\"text-align:left;\"> ENSG00000291190 </td>\n",
       "   <td style=\"text-align:left;\"> A2MP1 </td>\n",
       "   <td style=\"text-align:left;\"> A2MP </td>\n",
       "  </tr>\n",
       "  <tr>\n",
       "   <td style=\"text-align:left;\"> ENSG00000291084 </td>\n",
       "   <td style=\"text-align:left;\"> ALOX12P2 </td>\n",
       "   <td style=\"text-align:left;\"> ALOX12E </td>\n",
       "  </tr>\n",
       "  <tr>\n",
       "   <td style=\"text-align:left;\"> ENSG00000286112 </td>\n",
       "   <td style=\"text-align:left;\"> KYAT1 </td>\n",
       "   <td style=\"text-align:left;\"> CCBL1 </td>\n",
       "  </tr>\n",
       "</tbody>\n",
       "</table>"
      ]
     },
     "metadata": {},
     "output_type": "display_data"
    }
   ],
   "source": [
    "### init\n",
    "dat = dat_gene_table\n",
    "\n",
    "### arrange columns\n",
    "colnames(dat) = c(\n",
    "    \"Gene_Stable_ID\", \n",
    "    \"Gene_Stable_ID_Version\",\n",
    "    \"Transcript_Stable_ID\", \n",
    "    \"Transcript_Stable_ID_Version\",\n",
    "    \"Gene_Name\",\n",
    "    \"Gene_Synonym\",\n",
    "    \"Strand\",\n",
    "    \"Loc_TSS\",\n",
    "    \"ChromStart_TSS\",\n",
    "    \"ChromEnd_TSS\"\n",
    ")\n",
    "dat = dat %>% \n",
    "    dplyr::select(Gene_Stable_ID, Gene_Name, Gene_Synonym) %>% \n",
    "    dplyr::distinct()\n",
    "\n",
    "### assign and show\n",
    "dat_gene_id2name = dat\n",
    "print(dim(dat))\n",
    "fun_display_table(head(dat, 3))"
   ]
  },
  {
   "cell_type": "markdown",
   "id": "2f62e359-37bf-437a-bf46-159662593001",
   "metadata": {},
   "source": [
    "## Filter Gene by TPM"
   ]
  },
  {
   "cell_type": "code",
   "execution_count": 12,
   "id": "2b8dcf2f-6ae9-4275-a8d0-b5944ed97d74",
   "metadata": {},
   "outputs": [
    {
     "name": "stdout",
     "output_type": "stream",
     "text": [
      "[1] 11892     6\n"
     ]
    },
    {
     "data": {
      "text/html": [
       "<table>\n",
       " <thead>\n",
       "  <tr>\n",
       "   <th style=\"text-align:left;\"> Chrom </th>\n",
       "   <th style=\"text-align:right;\"> ChromStart </th>\n",
       "   <th style=\"text-align:right;\"> ChromEnd </th>\n",
       "   <th style=\"text-align:left;\"> Region </th>\n",
       "   <th style=\"text-align:left;\"> Gene </th>\n",
       "   <th style=\"text-align:right;\"> Score </th>\n",
       "  </tr>\n",
       " </thead>\n",
       "<tbody>\n",
       "  <tr>\n",
       "   <td style=\"text-align:left;\"> chr19 </td>\n",
       "   <td style=\"text-align:right;\"> 58351969 </td>\n",
       "   <td style=\"text-align:right;\"> 58351970 </td>\n",
       "   <td style=\"text-align:left;\"> chr19:58351969-58351970 </td>\n",
       "   <td style=\"text-align:left;\"> A1BG-AS1 </td>\n",
       "   <td style=\"text-align:right;\"> 1.5218000 </td>\n",
       "  </tr>\n",
       "  <tr>\n",
       "   <td style=\"text-align:left;\"> chr19 </td>\n",
       "   <td style=\"text-align:right;\"> 58353492 </td>\n",
       "   <td style=\"text-align:right;\"> 58353493 </td>\n",
       "   <td style=\"text-align:left;\"> chr19:58353492-58353493 </td>\n",
       "   <td style=\"text-align:left;\"> A1BG </td>\n",
       "   <td style=\"text-align:right;\"> 5.6228400 </td>\n",
       "  </tr>\n",
       "  <tr>\n",
       "   <td style=\"text-align:left;\"> chr12 </td>\n",
       "   <td style=\"text-align:right;\"> 9115919 </td>\n",
       "   <td style=\"text-align:right;\"> 9115920 </td>\n",
       "   <td style=\"text-align:left;\"> chr12:9115919-9115920 </td>\n",
       "   <td style=\"text-align:left;\"> A2M </td>\n",
       "   <td style=\"text-align:right;\"> 0.0400522 </td>\n",
       "  </tr>\n",
       "</tbody>\n",
       "</table>"
      ]
     },
     "metadata": {},
     "output_type": "display_data"
    }
   ],
   "source": [
    "### filter gene by TPM\n",
    "dat = dat_gene_rnaseq_arrange\n",
    "dat = dat %>% dplyr::filter(TPM > NUM_TPM_CUTOFF)\n",
    "vec = dat$Gene_Stable_ID\n",
    "\n",
    "### get filtered gene names\n",
    "dat = dat_gene_id2name\n",
    "dat = dat %>% dplyr::filter(Gene_Stable_ID %in% vec)\n",
    "vec = c(\n",
    "    dat$Gene_Name,\n",
    "    dat$Gene_Synonym\n",
    ")\n",
    "\n",
    "### filter regions by gene names\n",
    "dat = dat_region_arrange\n",
    "dat = dat %>% dplyr::filter(Gene %in% vec)\n",
    "\n",
    "### assign and show\n",
    "dat_region_filter = dat\n",
    "print(dim(dat))\n",
    "fun_display_table(head(dat, 3))"
   ]
  },
  {
   "cell_type": "markdown",
   "id": "497b2bde-8340-4ace-9742-fc07ec6410e2",
   "metadata": {},
   "source": [
    "## Arrange the results"
   ]
  },
  {
   "cell_type": "markdown",
   "id": "6dbcbea9-f452-4777-b0c3-512f2e3f6465",
   "metadata": {},
   "source": [
    "**TSS only filtering isoforms using K562 Pol2**"
   ]
  },
  {
   "cell_type": "code",
   "execution_count": 13,
   "id": "d22057e9-5132-4989-8510-63f7b3c24c94",
   "metadata": {},
   "outputs": [
    {
     "name": "stdout",
     "output_type": "stream",
     "text": [
      "[1] 29330     8\n"
     ]
    },
    {
     "data": {
      "text/html": [
       "<table>\n",
       " <thead>\n",
       "  <tr>\n",
       "   <th style=\"text-align:left;\"> Chrom </th>\n",
       "   <th style=\"text-align:right;\"> ChromStart </th>\n",
       "   <th style=\"text-align:right;\"> ChromEnd </th>\n",
       "   <th style=\"text-align:left;\"> Region </th>\n",
       "   <th style=\"text-align:left;\"> Gene </th>\n",
       "   <th style=\"text-align:right;\"> Score </th>\n",
       "   <th style=\"text-align:left;\"> Group </th>\n",
       "   <th style=\"text-align:left;\"> Label </th>\n",
       "  </tr>\n",
       " </thead>\n",
       "<tbody>\n",
       "  <tr>\n",
       "   <td style=\"text-align:left;\"> chr1 </td>\n",
       "   <td style=\"text-align:right;\"> 11873 </td>\n",
       "   <td style=\"text-align:right;\"> 11874 </td>\n",
       "   <td style=\"text-align:left;\"> chr1:11873-11874 </td>\n",
       "   <td style=\"text-align:left;\"> DDX11L1 </td>\n",
       "   <td style=\"text-align:right;\"> 0.00023 </td>\n",
       "   <td style=\"text-align:left;\"> TSS_Pol2 </td>\n",
       "   <td style=\"text-align:left;\"> DDX11L1 </td>\n",
       "  </tr>\n",
       "  <tr>\n",
       "   <td style=\"text-align:left;\"> chr1 </td>\n",
       "   <td style=\"text-align:right;\"> 17436 </td>\n",
       "   <td style=\"text-align:right;\"> 17437 </td>\n",
       "   <td style=\"text-align:left;\"> chr1:17436-17437 </td>\n",
       "   <td style=\"text-align:left;\"> MIR6859-1 </td>\n",
       "   <td style=\"text-align:right;\"> 9.43812 </td>\n",
       "   <td style=\"text-align:left;\"> TSS_Pol2 </td>\n",
       "   <td style=\"text-align:left;\"> MIR6859-1 </td>\n",
       "  </tr>\n",
       "  <tr>\n",
       "   <td style=\"text-align:left;\"> chr1 </td>\n",
       "   <td style=\"text-align:right;\"> 17436 </td>\n",
       "   <td style=\"text-align:right;\"> 17437 </td>\n",
       "   <td style=\"text-align:left;\"> chr1:17436-17437 </td>\n",
       "   <td style=\"text-align:left;\"> MIR6859-2 </td>\n",
       "   <td style=\"text-align:right;\"> 9.43812 </td>\n",
       "   <td style=\"text-align:left;\"> TSS_Pol2 </td>\n",
       "   <td style=\"text-align:left;\"> MIR6859-2 </td>\n",
       "  </tr>\n",
       "</tbody>\n",
       "</table>"
      ]
     },
     "metadata": {},
     "output_type": "display_data"
    }
   ],
   "source": [
    "### TSS filtered by Pol2\n",
    "dat = dat_region_arrange\n",
    "\n",
    "### add group and label for future annotation\n",
    "dat = dat %>% dplyr::mutate(Group = \"TSS_Pol2\", Label = Gene)\n",
    "dat = dat %>% dplyr::arrange(Chrom, ChromStart, ChromEnd)\n",
    "\n",
    "### assign and show\n",
    "dat_region_arrange_label_pol2 = dat\n",
    "print(dim(dat))\n",
    "fun_display_table(head(dat, 3))"
   ]
  },
  {
   "cell_type": "markdown",
   "id": "c7318c41-dad3-4683-a7e3-adbf521e1b70",
   "metadata": {},
   "source": [
    "**TSS filtering using both K562 Pol2 and K562 RNA-seq**"
   ]
  },
  {
   "cell_type": "code",
   "execution_count": 14,
   "id": "c8395a2c-c024-4dc9-963b-0c45a2775085",
   "metadata": {},
   "outputs": [
    {
     "name": "stdout",
     "output_type": "stream",
     "text": [
      "[1] 11892     8\n"
     ]
    },
    {
     "data": {
      "text/html": [
       "<table>\n",
       " <thead>\n",
       "  <tr>\n",
       "   <th style=\"text-align:left;\"> Chrom </th>\n",
       "   <th style=\"text-align:right;\"> ChromStart </th>\n",
       "   <th style=\"text-align:right;\"> ChromEnd </th>\n",
       "   <th style=\"text-align:left;\"> Region </th>\n",
       "   <th style=\"text-align:left;\"> Gene </th>\n",
       "   <th style=\"text-align:right;\"> Score </th>\n",
       "   <th style=\"text-align:left;\"> Group </th>\n",
       "   <th style=\"text-align:left;\"> Label </th>\n",
       "  </tr>\n",
       " </thead>\n",
       "<tbody>\n",
       "  <tr>\n",
       "   <td style=\"text-align:left;\"> chr1 </td>\n",
       "   <td style=\"text-align:right;\"> 29370 </td>\n",
       "   <td style=\"text-align:right;\"> 29371 </td>\n",
       "   <td style=\"text-align:left;\"> chr1:29370-29371 </td>\n",
       "   <td style=\"text-align:left;\"> WASH7P </td>\n",
       "   <td style=\"text-align:right;\"> 0.00023 </td>\n",
       "   <td style=\"text-align:left;\"> TSS_Pol2_RNAseq </td>\n",
       "   <td style=\"text-align:left;\"> WASH7P </td>\n",
       "  </tr>\n",
       "  <tr>\n",
       "   <td style=\"text-align:left;\"> chr1 </td>\n",
       "   <td style=\"text-align:right;\"> 827522 </td>\n",
       "   <td style=\"text-align:right;\"> 827523 </td>\n",
       "   <td style=\"text-align:left;\"> chr1:827522-827523 </td>\n",
       "   <td style=\"text-align:left;\"> LINC00115 </td>\n",
       "   <td style=\"text-align:right;\"> 64.46560 </td>\n",
       "   <td style=\"text-align:left;\"> TSS_Pol2_RNAseq </td>\n",
       "   <td style=\"text-align:left;\"> LINC00115 </td>\n",
       "  </tr>\n",
       "  <tr>\n",
       "   <td style=\"text-align:left;\"> chr1 </td>\n",
       "   <td style=\"text-align:right;\"> 827590 </td>\n",
       "   <td style=\"text-align:right;\"> 827591 </td>\n",
       "   <td style=\"text-align:left;\"> chr1:827590-827591 </td>\n",
       "   <td style=\"text-align:left;\"> LINC01128 </td>\n",
       "   <td style=\"text-align:right;\"> 64.46030 </td>\n",
       "   <td style=\"text-align:left;\"> TSS_Pol2_RNAseq </td>\n",
       "   <td style=\"text-align:left;\"> LINC01128 </td>\n",
       "  </tr>\n",
       "</tbody>\n",
       "</table>"
      ]
     },
     "metadata": {},
     "output_type": "display_data"
    }
   ],
   "source": [
    "### TSS filtered by Pol2 & RNA-seq\n",
    "dat = dat_region_filter\n",
    "\n",
    "### add group and label for future annotation\n",
    "dat = dat %>% dplyr::mutate(Group = \"TSS_Pol2_RNAseq\", Label = Gene)\n",
    "dat = dat %>% dplyr::arrange(Chrom, ChromStart, ChromEnd)\n",
    "\n",
    "### assign and show\n",
    "dat_region_arrange_label_pol2_rnaseq = dat\n",
    "print(dim(dat))\n",
    "fun_display_table(head(dat, 3))"
   ]
  },
  {
   "cell_type": "markdown",
   "id": "e62f9a4d-5358-442b-8bcb-718dcb2e4ff5",
   "metadata": {},
   "source": [
    "## Define column description"
   ]
  },
  {
   "cell_type": "code",
   "execution_count": 15,
   "id": "32895f26-931f-40e7-9ec7-c412ee65003e",
   "metadata": {},
   "outputs": [
    {
     "data": {
      "text/html": [
       "<table>\n",
       " <thead>\n",
       "  <tr>\n",
       "   <th style=\"text-align:left;\"> Name </th>\n",
       "   <th style=\"text-align:left;\"> Note </th>\n",
       "  </tr>\n",
       " </thead>\n",
       "<tbody>\n",
       "  <tr>\n",
       "   <td style=\"text-align:left;\"> Chrom </td>\n",
       "   <td style=\"text-align:left;\"> Name of the chromosome </td>\n",
       "  </tr>\n",
       "  <tr>\n",
       "   <td style=\"text-align:left;\"> ChromStart </td>\n",
       "   <td style=\"text-align:left;\"> The starting position of the feature in the chromosome </td>\n",
       "  </tr>\n",
       "  <tr>\n",
       "   <td style=\"text-align:left;\"> ChromEnd </td>\n",
       "   <td style=\"text-align:left;\"> The ending position of the feature in the chromosome </td>\n",
       "  </tr>\n",
       "  <tr>\n",
       "   <td style=\"text-align:left;\"> Region </td>\n",
       "   <td style=\"text-align:left;\"> Region coordinate </td>\n",
       "  </tr>\n",
       "  <tr>\n",
       "   <td style=\"text-align:left;\"> Gene </td>\n",
       "   <td style=\"text-align:left;\"> Gene name </td>\n",
       "  </tr>\n",
       "  <tr>\n",
       "   <td style=\"text-align:left;\"> Score </td>\n",
       "   <td style=\"text-align:left;\"> highest level of pol2 chip seq (ENCFF914WIS.bigWig) at [TSS-500, TSS+500] among TSS isoform </td>\n",
       "  </tr>\n",
       "  <tr>\n",
       "   <td style=\"text-align:left;\"> Group </td>\n",
       "   <td style=\"text-align:left;\"> Type of Annotation </td>\n",
       "  </tr>\n",
       "  <tr>\n",
       "   <td style=\"text-align:left;\"> Label </td>\n",
       "   <td style=\"text-align:left;\"> Label of Annotation </td>\n",
       "  </tr>\n",
       "</tbody>\n",
       "</table>"
      ]
     },
     "metadata": {},
     "output_type": "display_data"
    }
   ],
   "source": [
    "### set column name and description\n",
    "dat = tribble(\n",
    "    ~Name,        ~Note,\n",
    "    \"Chrom\",      \"Name of the chromosome\",\n",
    "    \"ChromStart\", \"The starting position of the feature in the chromosome\",\n",
    "    \"ChromEnd\",   \"The ending position of the feature in the chromosome\",\n",
    "    \"Region\",     \"Region coordinate\",\n",
    "    \"Gene\",       \"Gene name\",\n",
    "    \"Score\",      \"highest level of pol2 chip seq (ENCFF914WIS.bigWig) at [TSS-500, TSS+500] among TSS isoform\",\n",
    "    \"Group\",      \"Type of Annotation\",\n",
    "    \"Label\",      \"Label of Annotation\"\n",
    ")\n",
    "\n",
    "### assign and show\n",
    "dat_cname = dat\n",
    "fun_display_table(dat)"
   ]
  },
  {
   "cell_type": "markdown",
   "id": "fc9d7f26-3a3f-45b1-aee2-66bd3d7b3227",
   "metadata": {},
   "source": [
    "## Save results"
   ]
  },
  {
   "cell_type": "code",
   "execution_count": 16,
   "id": "40df7856-5818-45cc-be08-3a94cfc3707c",
   "metadata": {},
   "outputs": [],
   "source": [
    "txt_folder = \"genome_tss\"\n",
    "txt_fdiry  = file.path(FD_RES, \"region\", txt_folder, \"summary\")\n",
    "txt_fname  = \"description.tsv\"\n",
    "txt_fpath  = file.path(txt_fdiry, txt_fname)\n",
    "\n",
    "dir.create(txt_fdiry, showWarnings = FALSE)\n",
    "dat = dat_cname\n",
    "write_tsv(dat, txt_fpath)"
   ]
  },
  {
   "cell_type": "markdown",
   "id": "183b8510-a8f0-43f4-b353-50b269a8c57d",
   "metadata": {},
   "source": [
    "**write table (TSS processed by JinWoo)**"
   ]
  },
  {
   "cell_type": "code",
   "execution_count": 17,
   "id": "18363dd0-0f68-466d-a2ec-17460cfc1b51",
   "metadata": {},
   "outputs": [],
   "source": [
    "### set file path\n",
    "txt_folder = \"genome_tss\"\n",
    "txt_fdiry  = file.path(FD_RES, \"region\", txt_folder)\n",
    "txt_fname  = \"K562.hg38.TSS.selected_by_highest_Pol2_signal.bed.gz\"\n",
    "txt_fpath  = file.path(txt_fdiry, txt_fname)\n",
    "\n",
    "### write tabel\n",
    "dat = dat_region_arrange_label_pol2\n",
    "write_tsv(dat, txt_fpath, col_names = FALSE)"
   ]
  },
  {
   "cell_type": "code",
   "execution_count": 18,
   "id": "c64bab74-bb69-4d96-9974-cd838c50dd08",
   "metadata": {},
   "outputs": [],
   "source": [
    "### set file path\n",
    "txt_folder = \"genome_tss\"\n",
    "txt_fdiry  = file.path(FD_RES, \"region\", txt_folder, \"summary\")\n",
    "txt_fname  = \"K562.hg38.TSS.selected_by_highest_Pol2_signal.tsv\"\n",
    "txt_fpath  = file.path(txt_fdiry, txt_fname)\n",
    "\n",
    "### write tabel\n",
    "dat = dat_region_arrange_label_pol2\n",
    "write_tsv(dat, txt_fpath, col_names = TRUE)"
   ]
  },
  {
   "cell_type": "markdown",
   "id": "93eb7ea4-15bc-4f58-8582-147eb67d49c6",
   "metadata": {},
   "source": [
    "**write table (TSS further filtered by RNA-seq)**"
   ]
  },
  {
   "cell_type": "code",
   "execution_count": 19,
   "id": "fa6bdd63-9443-49ad-b252-d8ecd05a3a00",
   "metadata": {},
   "outputs": [],
   "source": [
    "### set file path\n",
    "txt_folder = \"genome_tss\"\n",
    "txt_fdiry  = file.path(FD_RES, \"region\", txt_folder)\n",
    "txt_fname  = \"K562.hg38.TSS.selected_by_highest_Pol2_signal.filtered_by_RNAseq_TPM.bed.gz\"\n",
    "txt_fpath  = file.path(txt_fdiry, txt_fname)\n",
    "\n",
    "### write tabel\n",
    "dat = dat_region_arrange_label_pol2_rnaseq\n",
    "write_tsv(dat, txt_fpath, col_names = FALSE)"
   ]
  },
  {
   "cell_type": "code",
   "execution_count": 20,
   "id": "2553750f-893e-46ce-94c9-5ceaeb275b1f",
   "metadata": {},
   "outputs": [],
   "source": [
    "### set file path\n",
    "txt_folder = \"genome_tss\"\n",
    "txt_fdiry  = file.path(FD_RES, \"region\", txt_folder, \"summary\")\n",
    "txt_fname  = \"K562.hg38.TSS.selected_by_highest_Pol2_signal.filtered_by_RNAseq_TPM.tsv\"\n",
    "txt_fpath  = file.path(txt_fdiry, txt_fname)\n",
    "\n",
    "### write tabel\n",
    "dat = dat_region_arrange_label_pol2_rnaseq\n",
    "write_tsv(dat, txt_fpath, col_names = TRUE)"
   ]
  },
  {
   "cell_type": "markdown",
   "id": "0b6d337d-9597-4266-a372-4dbe4dadd16b",
   "metadata": {},
   "source": [
    "**Save a copy to the reference folder**"
   ]
  },
  {
   "cell_type": "code",
   "execution_count": 21,
   "id": "4d4f90ea-aaf6-43ce-8413-c775bf84ef29",
   "metadata": {},
   "outputs": [
    {
     "data": {
      "text/html": [
       "<table>\n",
       " <thead>\n",
       "  <tr>\n",
       "   <th style=\"text-align:left;\"> Chrom </th>\n",
       "   <th style=\"text-align:right;\"> ChromStart </th>\n",
       "   <th style=\"text-align:right;\"> ChromEnd </th>\n",
       "   <th style=\"text-align:left;\"> Region </th>\n",
       "   <th style=\"text-align:left;\"> Gene </th>\n",
       "   <th style=\"text-align:right;\"> Score </th>\n",
       "  </tr>\n",
       " </thead>\n",
       "<tbody>\n",
       "  <tr>\n",
       "   <td style=\"text-align:left;\"> chr1 </td>\n",
       "   <td style=\"text-align:right;\"> 29370 </td>\n",
       "   <td style=\"text-align:right;\"> 29371 </td>\n",
       "   <td style=\"text-align:left;\"> chr1:29370-29371 </td>\n",
       "   <td style=\"text-align:left;\"> WASH7P </td>\n",
       "   <td style=\"text-align:right;\"> 0.00023 </td>\n",
       "  </tr>\n",
       "  <tr>\n",
       "   <td style=\"text-align:left;\"> chr1 </td>\n",
       "   <td style=\"text-align:right;\"> 827522 </td>\n",
       "   <td style=\"text-align:right;\"> 827523 </td>\n",
       "   <td style=\"text-align:left;\"> chr1:827522-827523 </td>\n",
       "   <td style=\"text-align:left;\"> LINC00115 </td>\n",
       "   <td style=\"text-align:right;\"> 64.46560 </td>\n",
       "  </tr>\n",
       "  <tr>\n",
       "   <td style=\"text-align:left;\"> chr1 </td>\n",
       "   <td style=\"text-align:right;\"> 827590 </td>\n",
       "   <td style=\"text-align:right;\"> 827591 </td>\n",
       "   <td style=\"text-align:left;\"> chr1:827590-827591 </td>\n",
       "   <td style=\"text-align:left;\"> LINC01128 </td>\n",
       "   <td style=\"text-align:right;\"> 64.46030 </td>\n",
       "  </tr>\n",
       "</tbody>\n",
       "</table>"
      ]
     },
     "metadata": {},
     "output_type": "display_data"
    }
   ],
   "source": [
    "### set file path\n",
    "txt_folder = \"genome_tss\"\n",
    "txt_fdiry  = file.path(FD_REF, txt_folder)\n",
    "txt_fname  = \"K562.hg38.TSS.selected_by_highest_Pol2_signal.filtered_by_RNAseq_TPM.bed.gz\"\n",
    "txt_fpath  = file.path(txt_fdiry, txt_fname)\n",
    "\n",
    "### get table\n",
    "dat = dat_region_filter\n",
    "dat = dat %>% dplyr::arrange(Chrom, ChromStart, ChromEnd)\n",
    "\n",
    "### write tabel\n",
    "write_tsv(dat, txt_fpath, col_names = FALSE)\n",
    "fun_display_table(head(dat, 3))"
   ]
  },
  {
   "cell_type": "code",
   "execution_count": null,
   "id": "f24990ad-7fd2-41de-970a-b2c77ed773ff",
   "metadata": {},
   "outputs": [],
   "source": []
  }
 ],
 "metadata": {
  "kernelspec": {
   "display_name": "R",
   "language": "R",
   "name": "ir"
  },
  "language_info": {
   "codemirror_mode": "r",
   "file_extension": ".r",
   "mimetype": "text/x-r-source",
   "name": "R",
   "pygments_lexer": "r",
   "version": "4.4.2"
  }
 },
 "nbformat": 4,
 "nbformat_minor": 5
}
