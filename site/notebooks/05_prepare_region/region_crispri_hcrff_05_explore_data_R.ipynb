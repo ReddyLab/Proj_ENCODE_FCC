{
 "cells": [
  {
   "cell_type": "raw",
   "id": "dca0cc6f-2f4c-46b3-89d1-bf5ce7a01dc1",
   "metadata": {},
   "source": [
    "---\n",
    "title: Prepare CRISPRi HCRFF data 05\n",
    "subtitle: Explore and visualize the data\n",
    "format:\n",
    "    html:\n",
    "        code-fold:  true\n",
    "        code-tools: true\n",
    "---"
   ]
  },
  {
   "cell_type": "markdown",
   "id": "c0c41f5b-73c2-4e6f-9d4f-2d0e026710b7",
   "metadata": {},
   "source": [
    "**Set environment**"
   ]
  },
  {
   "cell_type": "code",
   "execution_count": 1,
   "id": "d8da2c44-4425-4d68-98a4-025f9d0e0bf7",
   "metadata": {
    "tags": []
   },
   "outputs": [
    {
     "name": "stdout",
     "output_type": "stream",
     "text": [
      "You are working on        Singularity: singularity_proj_encode_fcc \n",
      "BASE DIRECTORY (FD_BASE): /data/reddylab/Kuei \n",
      "REPO DIRECTORY (FD_REPO): /data/reddylab/Kuei/repo \n",
      "WORK DIRECTORY (FD_WORK): /data/reddylab/Kuei/work \n",
      "DATA DIRECTORY (FD_DATA): /data/reddylab/Kuei/data \n",
      "\n",
      "You are working with      ENCODE FCC \n",
      "PATH OF PROJECT (FD_PRJ): /data/reddylab/Kuei/repo/Proj_ENCODE_FCC \n",
      "PROJECT RESULTS (FD_RES): /data/reddylab/Kuei/repo/Proj_ENCODE_FCC/results \n",
      "PROJECT SCRIPTS (FD_EXE): /data/reddylab/Kuei/repo/Proj_ENCODE_FCC/scripts \n",
      "PROJECT DATA    (FD_DAT): /data/reddylab/Kuei/repo/Proj_ENCODE_FCC/data \n",
      "PROJECT NOTE    (FD_NBK): /data/reddylab/Kuei/repo/Proj_ENCODE_FCC/notebooks \n",
      "PROJECT DOCS    (FD_DOC): /data/reddylab/Kuei/repo/Proj_ENCODE_FCC/docs \n",
      "PROJECT LOG     (FD_LOG): /data/reddylab/Kuei/repo/Proj_ENCODE_FCC/log \n",
      "PROJECT REF     (FD_REF): /data/reddylab/Kuei/repo/Proj_ENCODE_FCC/references \n",
      "\n"
     ]
    }
   ],
   "source": [
    "suppressMessages(suppressWarnings(source(\"../run_config_project_sing.R\")))\n",
    "show_env()"
   ]
  },
  {
   "cell_type": "markdown",
   "id": "6fd7e21c-86a7-4a64-ab81-1eda1aa892dd",
   "metadata": {},
   "source": [
    "**Set global variables**"
   ]
  },
  {
   "cell_type": "code",
   "execution_count": 2,
   "id": "301d45be-aa0c-4e57-bf6d-ecccbe0263be",
   "metadata": {},
   "outputs": [],
   "source": [
    "TXT_FOLDER_REGION = \"fcc_crispri_hcrff\""
   ]
  },
  {
   "cell_type": "markdown",
   "id": "61130ad9-7168-43d8-9eca-03e28b867c2f",
   "metadata": {
    "tags": []
   },
   "source": [
    "## Import data"
   ]
  },
  {
   "cell_type": "code",
   "execution_count": 3,
   "id": "d967dc15-0123-43cc-bcba-5274bad9c224",
   "metadata": {},
   "outputs": [
    {
     "name": "stdout",
     "output_type": "stream",
     "text": [
      "K562.hg38.CRISPRi_HCRFF.CASA.bed.gz \n",
      "K562.hg38.CRISPRi_HCRFF.CASA.tsv \n",
      "summary \n"
     ]
    }
   ],
   "source": [
    "txt_folder = TXT_FOLDER_REGION\n",
    "txt_fdiry  = file.path(FD_RES, \"region\", txt_folder)\n",
    "\n",
    "vec = dir(txt_fdiry)\n",
    "for (txt in vec){cat(txt, \"\\n\")}"
   ]
  },
  {
   "cell_type": "code",
   "execution_count": 4,
   "id": "c7649522-ba0a-4922-a2c1-d6daea4523c8",
   "metadata": {},
   "outputs": [
    {
     "data": {
      "text/html": [
       "<table>\n",
       " <thead>\n",
       "  <tr>\n",
       "   <th style=\"text-align:left;\"> Name </th>\n",
       "   <th style=\"text-align:left;\"> Note </th>\n",
       "  </tr>\n",
       " </thead>\n",
       "<tbody>\n",
       "  <tr>\n",
       "   <td style=\"text-align:left;\"> Chrom </td>\n",
       "   <td style=\"text-align:left;\"> Name of the chromosome </td>\n",
       "  </tr>\n",
       "  <tr>\n",
       "   <td style=\"text-align:left;\"> ChromStart </td>\n",
       "   <td style=\"text-align:left;\"> The starting position of the feature in the chromosome </td>\n",
       "  </tr>\n",
       "  <tr>\n",
       "   <td style=\"text-align:left;\"> ChromEnd </td>\n",
       "   <td style=\"text-align:left;\"> The ending position of the feature in the chromosome </td>\n",
       "  </tr>\n",
       "  <tr>\n",
       "   <td style=\"text-align:left;\"> Name </td>\n",
       "   <td style=\"text-align:left;\"> Region location </td>\n",
       "  </tr>\n",
       "  <tr>\n",
       "   <td style=\"text-align:left;\"> Score </td>\n",
       "   <td style=\"text-align:left;\"> CASA peak score </td>\n",
       "  </tr>\n",
       "  <tr>\n",
       "   <td style=\"text-align:left;\"> Strand </td>\n",
       "   <td style=\"text-align:left;\"> Defines the strand. Either '.' (=no strand) or '+' or '-'. </td>\n",
       "  </tr>\n",
       "  <tr>\n",
       "   <td style=\"text-align:left;\"> Gene_Symbol </td>\n",
       "   <td style=\"text-align:left;\"> Gene symbol; Gene that is screened for CRISPRi-FlowFish </td>\n",
       "  </tr>\n",
       "  <tr>\n",
       "   <td style=\"text-align:left;\"> Gene_Ensembl </td>\n",
       "   <td style=\"text-align:left;\"> Gene Ensembl ID; Gene that is screened for CRISPRi-FlowFish </td>\n",
       "  </tr>\n",
       "  <tr>\n",
       "   <td style=\"text-align:left;\"> Group </td>\n",
       "   <td style=\"text-align:left;\"> Assay Name </td>\n",
       "  </tr>\n",
       "  <tr>\n",
       "   <td style=\"text-align:left;\"> Label </td>\n",
       "   <td style=\"text-align:left;\"> Region Label; {Assay Name}:{Tested Gene Name} </td>\n",
       "  </tr>\n",
       "</tbody>\n",
       "</table>"
      ]
     },
     "metadata": {},
     "output_type": "display_data"
    }
   ],
   "source": [
    "### set file path\n",
    "txt_folder = TXT_FOLDER_REGION\n",
    "txt_fdiry  = file.path(FD_RES, \"region\", txt_folder, \"summary\")\n",
    "txt_fname = \"description.tsv\"\n",
    "txt_fpath = file.path(txt_fdiry, txt_fname)\n",
    "\n",
    "### read table\n",
    "dat = read_tsv(txt_fpath, show_col_types = FALSE)\n",
    "\n",
    "### assign and show\n",
    "dat_cname     = dat\n",
    "vec_txt_cname = dat$Name\n",
    "fun_display_table(dat)"
   ]
  },
  {
   "cell_type": "code",
   "execution_count": 5,
   "id": "0662c602-2ae2-4659-a8b6-1791f3f8f3c9",
   "metadata": {},
   "outputs": [
    {
     "data": {
      "text/html": [
       "<table>\n",
       " <thead>\n",
       "  <tr>\n",
       "   <th style=\"text-align:left;\"> Chrom </th>\n",
       "   <th style=\"text-align:right;\"> ChromStart </th>\n",
       "   <th style=\"text-align:right;\"> ChromEnd </th>\n",
       "   <th style=\"text-align:left;\"> Name </th>\n",
       "   <th style=\"text-align:right;\"> Score </th>\n",
       "   <th style=\"text-align:left;\"> Strand </th>\n",
       "   <th style=\"text-align:left;\"> Gene_Symbol </th>\n",
       "   <th style=\"text-align:left;\"> Gene_Ensembl </th>\n",
       "   <th style=\"text-align:left;\"> Group </th>\n",
       "   <th style=\"text-align:left;\"> Label </th>\n",
       "  </tr>\n",
       " </thead>\n",
       "<tbody>\n",
       "  <tr>\n",
       "   <td style=\"text-align:left;\"> chr11 </td>\n",
       "   <td style=\"text-align:right;\"> 5248847 </td>\n",
       "   <td style=\"text-align:right;\"> 5249047 </td>\n",
       "   <td style=\"text-align:left;\"> chr11:5248847-5249047 </td>\n",
       "   <td style=\"text-align:right;\"> 1.0686240 </td>\n",
       "   <td style=\"text-align:left;\"> . </td>\n",
       "   <td style=\"text-align:left;\"> HBG1 </td>\n",
       "   <td style=\"text-align:left;\"> ENST00000330597.5 </td>\n",
       "   <td style=\"text-align:left;\"> CRISPRi-HCRFF </td>\n",
       "   <td style=\"text-align:left;\"> CRISPRi-HCRFF:HBG1 </td>\n",
       "  </tr>\n",
       "  <tr>\n",
       "   <td style=\"text-align:left;\"> chr11 </td>\n",
       "   <td style=\"text-align:right;\"> 5248847 </td>\n",
       "   <td style=\"text-align:right;\"> 5249047 </td>\n",
       "   <td style=\"text-align:left;\"> chr11:5248847-5249047 </td>\n",
       "   <td style=\"text-align:right;\"> 0.9357701 </td>\n",
       "   <td style=\"text-align:left;\"> . </td>\n",
       "   <td style=\"text-align:left;\"> HBG2 </td>\n",
       "   <td style=\"text-align:left;\"> ENST00000336906.6 </td>\n",
       "   <td style=\"text-align:left;\"> CRISPRi-HCRFF </td>\n",
       "   <td style=\"text-align:left;\"> CRISPRi-HCRFF:HBG2 </td>\n",
       "  </tr>\n",
       "  <tr>\n",
       "   <td style=\"text-align:left;\"> chr11 </td>\n",
       "   <td style=\"text-align:right;\"> 5249847 </td>\n",
       "   <td style=\"text-align:right;\"> 5250847 </td>\n",
       "   <td style=\"text-align:left;\"> chr11:5249847-5250847 </td>\n",
       "   <td style=\"text-align:right;\"> 1.8908899 </td>\n",
       "   <td style=\"text-align:left;\"> . </td>\n",
       "   <td style=\"text-align:left;\"> HBG1 </td>\n",
       "   <td style=\"text-align:left;\"> ENST00000330597.5 </td>\n",
       "   <td style=\"text-align:left;\"> CRISPRi-HCRFF </td>\n",
       "   <td style=\"text-align:left;\"> CRISPRi-HCRFF:HBG1 </td>\n",
       "  </tr>\n",
       "  <tr>\n",
       "   <td style=\"text-align:left;\"> chr11 </td>\n",
       "   <td style=\"text-align:right;\"> 5249847 </td>\n",
       "   <td style=\"text-align:right;\"> 5250847 </td>\n",
       "   <td style=\"text-align:left;\"> chr11:5249847-5250847 </td>\n",
       "   <td style=\"text-align:right;\"> 1.9229558 </td>\n",
       "   <td style=\"text-align:left;\"> . </td>\n",
       "   <td style=\"text-align:left;\"> HBG2 </td>\n",
       "   <td style=\"text-align:left;\"> ENST00000336906.6 </td>\n",
       "   <td style=\"text-align:left;\"> CRISPRi-HCRFF </td>\n",
       "   <td style=\"text-align:left;\"> CRISPRi-HCRFF:HBG2 </td>\n",
       "  </tr>\n",
       "  <tr>\n",
       "   <td style=\"text-align:left;\"> chr11 </td>\n",
       "   <td style=\"text-align:right;\"> 5253147 </td>\n",
       "   <td style=\"text-align:right;\"> 5253547 </td>\n",
       "   <td style=\"text-align:left;\"> chr11:5253147-5253547 </td>\n",
       "   <td style=\"text-align:right;\"> 1.3303423 </td>\n",
       "   <td style=\"text-align:left;\"> . </td>\n",
       "   <td style=\"text-align:left;\"> HBG1 </td>\n",
       "   <td style=\"text-align:left;\"> ENST00000330597.5 </td>\n",
       "   <td style=\"text-align:left;\"> CRISPRi-HCRFF </td>\n",
       "   <td style=\"text-align:left;\"> CRISPRi-HCRFF:HBG1 </td>\n",
       "  </tr>\n",
       "  <tr>\n",
       "   <td style=\"text-align:left;\"> chr11 </td>\n",
       "   <td style=\"text-align:right;\"> 5253147 </td>\n",
       "   <td style=\"text-align:right;\"> 5253547 </td>\n",
       "   <td style=\"text-align:left;\"> chr11:5253147-5253547 </td>\n",
       "   <td style=\"text-align:right;\"> 1.3232571 </td>\n",
       "   <td style=\"text-align:left;\"> . </td>\n",
       "   <td style=\"text-align:left;\"> HBG2 </td>\n",
       "   <td style=\"text-align:left;\"> ENST00000336906.6 </td>\n",
       "   <td style=\"text-align:left;\"> CRISPRi-HCRFF </td>\n",
       "   <td style=\"text-align:left;\"> CRISPRi-HCRFF:HBG2 </td>\n",
       "  </tr>\n",
       "</tbody>\n",
       "</table>"
      ]
     },
     "metadata": {},
     "output_type": "display_data"
    }
   ],
   "source": [
    "### set file path\n",
    "txt_folder = TXT_FOLDER_REGION\n",
    "txt_fdiry  = file.path(FD_RES, \"region\", txt_folder)\n",
    "txt_fname = \"K562.hg38.CRISPRi_HCRFF.CASA.bed.gz\"\n",
    "txt_fpath = file.path(txt_fdiry, txt_fname)\n",
    "\n",
    "### read table\n",
    "dat = read_tsv(txt_fpath, col_names = vec_txt_cname, show_col_types = FALSE)\n",
    "\n",
    "### assign and show\n",
    "dat_region_casa = dat\n",
    "fun_display_table(head(dat))"
   ]
  },
  {
   "cell_type": "markdown",
   "id": "60698301-d752-4504-a0fd-5d958cd7d650",
   "metadata": {},
   "source": [
    "## Explore data"
   ]
  },
  {
   "cell_type": "markdown",
   "id": "ca29e921-602f-40dc-b286-9837c8ad5b05",
   "metadata": {},
   "source": [
    "### Distribution of CASA scores"
   ]
  },
  {
   "cell_type": "code",
   "execution_count": 6,
   "id": "cee693a1-d739-4930-bac0-0c6b81bd3270",
   "metadata": {},
   "outputs": [
    {
     "data": {
      "image/png": "[encoded data removed]",
      "text/plain": [
       "plot without title"
      ]
     },
     "metadata": {
      "image/png": {
       "height": 600,
       "width": 420
      }
     },
     "output_type": "display_data"
    }
   ],
   "source": [
    "### init\n",
    "dat = dat_region_casa\n",
    "\n",
    "### order gene by median\n",
    "tmp = dat\n",
    "tmp = tmp %>%\n",
    "    dplyr::group_by(Gene_Symbol) %>%\n",
    "    dplyr::summarise(\n",
    "        Score_Mean   = mean(Score),\n",
    "        Score_Median = median(Score),\n",
    "        .groups = \"drop\"\n",
    "    ) %>%\n",
    "    dplyr::arrange(Score_Median)\n",
    "vec = tmp$Gene_Symbol\n",
    "dat = dat %>% dplyr::mutate(Gene_Symbol = factor(Gene_Symbol, levels = vec))\n",
    "\n",
    "### create plot\n",
    "set.seed(123)\n",
    "gpt = ggplot(dat, aes(x=Score, y=Gene_Symbol)) + \n",
    "    geom_boxplot(outlier.shape = NA) +\n",
    "    geom_jitter(color=\"black\", width=0.0, height=0.1, size=2, alpha=0.7) +\n",
    "    theme_cowplot() +\n",
    "    background_grid()\n",
    "\n",
    "### show plot\n",
    "options(repr.plot.height=10, repr.plot.width=7)\n",
    "print(gpt)"
   ]
  },
  {
   "cell_type": "markdown",
   "id": "c23ff5fe-a092-45fa-a686-1e7986b7f652",
   "metadata": {},
   "source": [
    "### Distribution of peak size"
   ]
  },
  {
   "cell_type": "markdown",
   "id": "43a32436-91ec-421c-8c4d-b4e4c4c065eb",
   "metadata": {},
   "source": [
    "**Summary**"
   ]
  },
  {
   "cell_type": "code",
   "execution_count": 7,
   "id": "2040d7cf-6f4d-4610-a373-6f7351c2d0a8",
   "metadata": {},
   "outputs": [
    {
     "name": "stdout",
     "output_type": "stream",
     "text": [
      "#{Region} = 113 \n",
      "\n",
      "Length:\n"
     ]
    },
    {
     "data": {
      "text/plain": [
       "   Min. 1st Qu.  Median    Mean 3rd Qu.    Max. \n",
       "    200     600    1000    1343    2000    6500 "
      ]
     },
     "metadata": {},
     "output_type": "display_data"
    }
   ],
   "source": [
    "dat = dat_region_casa\n",
    "dat = dat %>% dplyr::mutate(Length = ChromEnd - ChromStart)\n",
    "\n",
    "cat(\"#{Region} =\", nrow(dat), \"\\n\")\n",
    "cat(\"\\n\")\n",
    "cat(\"Length:\\n\")\n",
    "summary(dat$Length)"
   ]
  },
  {
   "cell_type": "markdown",
   "id": "79546e79-8a11-4e39-b570-90f3678a3975",
   "metadata": {},
   "source": [
    "**Plot histogram**"
   ]
  },
  {
   "cell_type": "code",
   "execution_count": 8,
   "id": "36c38406-e44b-4edd-a543-fc85dbd0f30f",
   "metadata": {},
   "outputs": [
    {
     "data": {
      "image/png": "[encoded data removed]",
      "text/plain": [
       "plot without title"
      ]
     },
     "metadata": {
      "image/png": {
       "height": 240,
       "width": 420
      }
     },
     "output_type": "display_data"
    }
   ],
   "source": [
    "dat = dat_region_casa\n",
    "dat = dat %>% dplyr::mutate(Length = ChromEnd - ChromStart)\n",
    "\n",
    "gpt = ggplot(dat, aes(x = Length)) + \n",
    "    geom_histogram(bins = 50) + \n",
    "    theme_cowplot() + \n",
    "    background_grid()\n",
    "\n",
    "options(repr.plot.height=4, repr.plot.width=7)\n",
    "print(gpt)"
   ]
  },
  {
   "cell_type": "markdown",
   "id": "5ed12dd6-da38-4644-899e-27be043d5905",
   "metadata": {},
   "source": [
    "**Plot density**"
   ]
  },
  {
   "cell_type": "code",
   "execution_count": 9,
   "id": "8bfbb8b4-e889-4fab-905a-23669f38dad4",
   "metadata": {},
   "outputs": [
    {
     "data": {
      "image/png": "[encoded data removed]",
      "text/plain": [
       "plot without title"
      ]
     },
     "metadata": {
      "image/png": {
       "height": 240,
       "width": 420
      }
     },
     "output_type": "display_data"
    }
   ],
   "source": [
    "dat = dat_region_casa\n",
    "dat = dat %>% dplyr::mutate(Length = ChromEnd - ChromStart)\n",
    "\n",
    "gpt = ggplot(dat, aes(x = Length)) + \n",
    "    geom_density() +\n",
    "    theme_cowplot() + \n",
    "    background_grid()\n",
    "\n",
    "options(repr.plot.height=4, repr.plot.width=7)\n",
    "print(gpt)"
   ]
  },
  {
   "cell_type": "markdown",
   "id": "4b611b2e-0111-4284-a5ac-6de40cfc2a28",
   "metadata": {},
   "source": [
    "**Question: what is the one with 6kb**"
   ]
  },
  {
   "cell_type": "code",
   "execution_count": 10,
   "id": "d45252ba-3745-44fa-be36-81b9a6f70730",
   "metadata": {},
   "outputs": [
    {
     "data": {
      "text/html": [
       "<table class=\"dataframe\">\n",
       "<caption>A tibble: 1 × 11</caption>\n",
       "<thead>\n",
       "\t<tr><th scope=col>Chrom</th><th scope=col>ChromStart</th><th scope=col>ChromEnd</th><th scope=col>Name</th><th scope=col>Score</th><th scope=col>Strand</th><th scope=col>Gene_Symbol</th><th scope=col>Gene_Ensembl</th><th scope=col>Group</th><th scope=col>Label</th><th scope=col>Length</th></tr>\n",
       "\t<tr><th scope=col>&lt;chr&gt;</th><th scope=col>&lt;dbl&gt;</th><th scope=col>&lt;dbl&gt;</th><th scope=col>&lt;chr&gt;</th><th scope=col>&lt;dbl&gt;</th><th scope=col>&lt;chr&gt;</th><th scope=col>&lt;chr&gt;</th><th scope=col>&lt;chr&gt;</th><th scope=col>&lt;chr&gt;</th><th scope=col>&lt;chr&gt;</th><th scope=col>&lt;dbl&gt;</th></tr>\n",
       "</thead>\n",
       "<tbody>\n",
       "\t<tr><td>chr4</td><td>55634441</td><td>55640941</td><td>chr4:55634441-55640941</td><td>2.268011</td><td>.</td><td>NMU</td><td>ENSG00000109255</td><td>CRISPRi-HCRFF</td><td>CRISPRi-HCRFF:NMU</td><td>6500</td></tr>\n",
       "</tbody>\n",
       "</table>\n"
      ],
      "text/latex": [
       "A tibble: 1 × 11\n",
       "\\begin{tabular}{lllllllllll}\n",
       " Chrom & ChromStart & ChromEnd & Name & Score & Strand & Gene\\_Symbol & Gene\\_Ensembl & Group & Label & Length\\\\\n",
       " <chr> & <dbl> & <dbl> & <chr> & <dbl> & <chr> & <chr> & <chr> & <chr> & <chr> & <dbl>\\\\\n",
       "\\hline\n",
       "\t chr4 & 55634441 & 55640941 & chr4:55634441-55640941 & 2.268011 & . & NMU & ENSG00000109255 & CRISPRi-HCRFF & CRISPRi-HCRFF:NMU & 6500\\\\\n",
       "\\end{tabular}\n"
      ],
      "text/markdown": [
       "\n",
       "A tibble: 1 × 11\n",
       "\n",
       "| Chrom &lt;chr&gt; | ChromStart &lt;dbl&gt; | ChromEnd &lt;dbl&gt; | Name &lt;chr&gt; | Score &lt;dbl&gt; | Strand &lt;chr&gt; | Gene_Symbol &lt;chr&gt; | Gene_Ensembl &lt;chr&gt; | Group &lt;chr&gt; | Label &lt;chr&gt; | Length &lt;dbl&gt; |\n",
       "|---|---|---|---|---|---|---|---|---|---|---|\n",
       "| chr4 | 55634441 | 55640941 | chr4:55634441-55640941 | 2.268011 | . | NMU | ENSG00000109255 | CRISPRi-HCRFF | CRISPRi-HCRFF:NMU | 6500 |\n",
       "\n"
      ],
      "text/plain": [
       "  Chrom ChromStart ChromEnd Name                   Score    Strand Gene_Symbol\n",
       "1 chr4  55634441   55640941 chr4:55634441-55640941 2.268011 .      NMU        \n",
       "  Gene_Ensembl    Group         Label             Length\n",
       "1 ENSG00000109255 CRISPRi-HCRFF CRISPRi-HCRFF:NMU 6500  "
      ]
     },
     "metadata": {},
     "output_type": "display_data"
    }
   ],
   "source": [
    "dat = dat_region_casa\n",
    "dat = dat %>% dplyr::mutate(Length = ChromEnd - ChromStart)\n",
    "dat %>% dplyr::filter(Length > 6000)"
   ]
  },
  {
   "cell_type": "markdown",
   "id": "c0b86954-0f47-4773-8239-a0a696674fd8",
   "metadata": {},
   "source": [
    "## Save figures"
   ]
  },
  {
   "cell_type": "code",
   "execution_count": 11,
   "id": "a68f5068-734c-4f83-a2b9-e5d85a12cd47",
   "metadata": {},
   "outputs": [],
   "source": [
    "### set text size\n",
    "theme_text = theme(\n",
    "    title      = element_text(size = 16),\n",
    "    axis.title = element_text(size = 16),\n",
    "    axis.text  = element_text(size = 14)\n",
    ")"
   ]
  },
  {
   "cell_type": "markdown",
   "id": "823037d7-4578-49a1-a60c-646ad2d7c7f3",
   "metadata": {},
   "source": [
    "### Distribution of scores"
   ]
  },
  {
   "cell_type": "code",
   "execution_count": 12,
   "id": "30b15926-afd2-4377-9f5c-e0b57db3a3ad",
   "metadata": {},
   "outputs": [
    {
     "data": {
      "image/png": "[encoded data removed]",
      "text/plain": [
       "plot without title"
      ]
     },
     "metadata": {
      "image/png": {
       "height": 480,
       "width": 420
      }
     },
     "output_type": "display_data"
    }
   ],
   "source": [
    "### init\n",
    "dat = dat_region_casa\n",
    "\n",
    "### order gene by median\n",
    "tmp = dat\n",
    "tmp = tmp %>%\n",
    "    dplyr::group_by(Gene_Symbol) %>%\n",
    "    dplyr::summarise(\n",
    "        Score_Mean   = mean(Score),\n",
    "        Score_Median = median(Score),\n",
    "        .groups = \"drop\"\n",
    "    ) %>%\n",
    "    dplyr::arrange(Score_Median)\n",
    "vec = tmp$Gene_Symbol\n",
    "dat = dat %>% dplyr::mutate(Gene_Symbol = factor(Gene_Symbol, levels = vec))\n",
    "\n",
    "### create plot\n",
    "set.seed(123)\n",
    "gpt = ggplot(dat, aes(x=Score, y=Gene_Symbol)) + \n",
    "    geom_boxplot(outlier.shape = NA) +\n",
    "    geom_jitter(color=\"black\", width=0.0, height=0.1, size=2, alpha=0.7) +\n",
    "    theme_cowplot() +\n",
    "    background_grid() +\n",
    "    theme_text +\n",
    "    labs(x=\"Score\", y=\"Gene\", title=\"CASA Peak calls on CRISPRi-HCRFF data\")\n",
    "\n",
    "### assign plot\n",
    "gpt_export_score = gpt\n",
    "\n",
    "### show plot\n",
    "options(repr.plot.height=8, repr.plot.width=7)\n",
    "print(gpt)"
   ]
  },
  {
   "cell_type": "markdown",
   "id": "edcff9d5-8b37-4147-b5a9-32b8894c58ef",
   "metadata": {},
   "source": [
    "### Distribution of region length"
   ]
  },
  {
   "cell_type": "code",
   "execution_count": 13,
   "id": "5af9c41b-d78b-4d8a-835a-4929dfe2dbc9",
   "metadata": {},
   "outputs": [
    {
     "data": {
      "image/png": "[encoded data removed]",
      "text/plain": [
       "plot without title"
      ]
     },
     "metadata": {
      "image/png": {
       "height": 240,
       "width": 420
      }
     },
     "output_type": "display_data"
    }
   ],
   "source": [
    "### calculate region length\n",
    "dat = dat_region_casa\n",
    "dat = dat %>% dplyr::mutate(Length = ChromEnd - ChromStart)\n",
    "\n",
    "### plot distribution\n",
    "gpt = ggplot(dat, aes(x = Length/1000)) + \n",
    "    geom_histogram(bins = 50) + \n",
    "    theme_cowplot() + \n",
    "    background_grid() +\n",
    "    theme_text +\n",
    "    labs(x = \"Length (kb)\", y = \"Count\", title = \"Distribution of Region Length\") +\n",
    "    scale_x_continuous(breaks = seq(0, 7, by = 1))\n",
    "\n",
    "### add annotation\n",
    "txt = paste(\"N =\", scales::comma(nrow(dat)))\n",
    "gpt = gpt + annotate(\n",
    "    \"text\", \n",
    "    x = 5, \n",
    "    y = 12,\n",
    "    size  = 6,\n",
    "    label = txt)\n",
    "\n",
    "### assign plot\n",
    "gpt_export_length = gpt\n",
    "\n",
    "### show plot\n",
    "options(repr.plot.height=4, repr.plot.width=7)\n",
    "print(gpt)"
   ]
  },
  {
   "cell_type": "markdown",
   "id": "cf36ceac-0f22-47cb-a5a9-a13e4c35df32",
   "metadata": {},
   "source": [
    "### Save plots"
   ]
  },
  {
   "cell_type": "code",
   "execution_count": 14,
   "id": "ee3b5614-6fce-4df2-89c8-4147a429e1f9",
   "metadata": {},
   "outputs": [],
   "source": [
    "### save plot: score distribution\n",
    "plt_export = gpt_export_score\n",
    "\n",
    "txt_fdiry = \"./\"\n",
    "txt_fname = \"fig.region.fcc_crispri_hcrff.distribution.score.png\"\n",
    "txt_fpath = file.path(txt_fdiry, txt_fname)\n",
    "ggsave(txt_fpath, plt_export, height = 8, width = 7, units = \"in\")\n",
    "\n",
    "txt_fdiry = \"./\"\n",
    "txt_fname = \"fig.region.fcc_crispri_hcrff.distribution.score.svg\"\n",
    "txt_fpath = file.path(txt_fdiry, txt_fname)\n",
    "ggsave(txt_fpath, plt_export, height = 8, width = 7, units = \"in\")"
   ]
  },
  {
   "cell_type": "code",
   "execution_count": 15,
   "id": "789d056a-44f9-450e-9369-4b59ff777f7c",
   "metadata": {},
   "outputs": [],
   "source": [
    "### save plot: length distribution\n",
    "plt_export = gpt_export_length\n",
    "\n",
    "txt_fdiry = \"./\"\n",
    "txt_fname = \"fig.region.fcc_crispri_hcrff.distribution.region_length.png\"\n",
    "txt_fpath = file.path(txt_fdiry, txt_fname)\n",
    "ggsave(txt_fpath, plt_export, height = 4, width = 7, units = \"in\")\n",
    "\n",
    "txt_fdiry = \"./\"\n",
    "txt_fname = \"fig.region.fcc_crispri_hcrff.distribution.region_length.svg\"\n",
    "txt_fpath = file.path(txt_fdiry, txt_fname)\n",
    "ggsave(txt_fpath, plt_export, height = 4, width = 7, units = \"in\")"
   ]
  },
  {
   "cell_type": "code",
   "execution_count": null,
   "id": "077e846d-8242-42f9-ad7f-9407476762bf",
   "metadata": {},
   "outputs": [],
   "source": []
  }
 ],
 "metadata": {
  "kernelspec": {
   "display_name": "R",
   "language": "R",
   "name": "ir"
  },
  "language_info": {
   "codemirror_mode": "r",
   "file_extension": ".r",
   "mimetype": "text/x-r-source",
   "name": "R",
   "pygments_lexer": "r",
   "version": "4.4.2"
  }
 },
 "nbformat": 4,
 "nbformat_minor": 5
}
