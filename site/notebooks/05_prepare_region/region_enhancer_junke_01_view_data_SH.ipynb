{
 "cells": [
  {
   "cell_type": "raw",
   "id": "aa8133e8-e982-423e-814b-e58cc3710e20",
   "metadata": {},
   "source": [
    "---\n",
    "title: Prepare Junke peak call region 01\n",
    "subtitle: View files\n",
    "format:\n",
    "    html:\n",
    "        code-fold:  true\n",
    "        code-tools: true\n",
    "---"
   ]
  },
  {
   "cell_type": "markdown",
   "id": "46960a8d-59e5-49a5-86b4-6c4d75bfe14b",
   "metadata": {},
   "source": [
    "**Set environment**"
   ]
  },
  {
   "cell_type": "code",
   "execution_count": 1,
   "id": "cdc3b4a3-74ab-4225-b6d1-82d4c88546a9",
   "metadata": {},
   "outputs": [
    {
     "name": "stdout",
     "output_type": "stream",
     "text": [
      "You are working on             Duke Server: RCC\n",
      "BASE DIRECTORY (FD_BASE):      /data/reddylab/Kuei\n",
      "REPO DIRECTORY (FD_REPO):      /data/reddylab/Kuei/repo\n",
      "WORK DIRECTORY (FD_WORK):      /data/reddylab/Kuei/work\n",
      "DATA DIRECTORY (FD_DATA):      /data/reddylab/Kuei/data\n",
      "CONTAINER DIR. (FD_SING):      /data/reddylab/Kuei/container\n",
      "\n",
      "You are working with           ENCODE FCC\n",
      "PATH OF PROJECT (FD_PRJ):      /data/reddylab/Kuei/repo/Proj_ENCODE_FCC\n",
      "PROJECT RESULTS (FD_RES):      /data/reddylab/Kuei/repo/Proj_ENCODE_FCC/results\n",
      "PROJECT SCRIPTS (FD_EXE):      /data/reddylab/Kuei/repo/Proj_ENCODE_FCC/scripts\n",
      "PROJECT DATA    (FD_DAT):      /data/reddylab/Kuei/repo/Proj_ENCODE_FCC/data\n",
      "PROJECT NOTE    (FD_NBK):      /data/reddylab/Kuei/repo/Proj_ENCODE_FCC/notebooks\n",
      "PROJECT DOCS    (FD_DOC):      /data/reddylab/Kuei/repo/Proj_ENCODE_FCC/docs\n",
      "PROJECT LOG     (FD_LOG):      /data/reddylab/Kuei/repo/Proj_ENCODE_FCC/log\n",
      "PROJECT REF     (FD_REF):      /data/reddylab/Kuei/repo/Proj_ENCODE_FCC/references\n",
      "PROJECT IMAGE   (FP_PRJ_SIF):  /data/reddylab/Kuei/container/project/singularity_proj_encode_fcc.sif\n",
      "PROJECT CONF.   (FP_CNF):      /data/reddylab/Kuei/repo/Proj_ENCODE_FCC/scripts/config_project.sh\n",
      "\n"
     ]
    }
   ],
   "source": [
    "source ../run_config_project.sh\n",
    "show_env"
   ]
  },
  {
   "cell_type": "markdown",
   "id": "90558f49-6410-4367-8a58-9ab21167d954",
   "metadata": {},
   "source": [
    "## View files"
   ]
  },
  {
   "cell_type": "code",
   "execution_count": 2,
   "id": "5e9af96a-c626-4610-a9db-1758a764bd90",
   "metadata": {},
   "outputs": [
    {
     "name": "stdout",
     "output_type": "stream",
     "text": [
      "\u001b[0m\u001b[01;34m/data/reddylab/Kuei/repo/Proj_ENCODE_FCC/data/processed/fcc_enhancer_Junke_zscore_240415\u001b[0m\u001b[K\n",
      "\u001b[01;34m/data/reddylab/Kuei/repo/Proj_ENCODE_FCC/data/processed/fcc_enhancer_Junke_zscore_240513_astarr_filter\u001b[0m\u001b[K\n",
      "\u001b[01;34m/data/reddylab/Kuei/repo/Proj_ENCODE_FCC/data/processed/fcc_enhancer_Junke_zscore_240611\u001b[0m\u001b[K\n"
     ]
    }
   ],
   "source": [
    "ls -d ${FD_DAT}/processed/fcc_enhancer_Junke*"
   ]
  },
  {
   "cell_type": "code",
   "execution_count": 3,
   "id": "4b43cfb3-9a3d-4141-a5c9-53be80be8be5",
   "metadata": {},
   "outputs": [
    {
     "name": "stdout",
     "output_type": "stream",
     "text": [
      "ATAC_STARR_seq_100bp_genomic_bin_in_ATAC_seq_peak_cpm_20_avg_DNA_lib.zip\n",
      "eSTARR_seq.zip\n",
      "LentiMPRA_DNA_filtering_avg_DNA_lib_count_10.zip\n",
      "TilingMPRA_ENCSR363XER_DNA_filtering_avg_DNA_lib_count_10.zip\n",
      "TilingMPRA_ENCSR394HXI_DNA_filtering_avg_DNA_lib_count_10.zip\n",
      "TilingMPRA_ENCSR917SFD_DNA_filtering_avg_DNA_lib_count_10.zip\n",
      "WHG_STARR_TR.zip\n"
     ]
    }
   ],
   "source": [
    "FD_INP=${FD_DAT}/processed/fcc_enhancer_Junke_zscore_240611\n",
    "ls ${FD_INP}/*zip | xargs -n 1 basename"
   ]
  },
  {
   "cell_type": "code",
   "execution_count": null,
   "id": "f007abc3-8423-4ed5-b73e-72f8631737ad",
   "metadata": {},
   "outputs": [],
   "source": []
  }
 ],
 "metadata": {
  "kernelspec": {
   "display_name": "Bash",
   "language": "bash",
   "name": "bash"
  },
  "language_info": {
   "codemirror_mode": "shell",
   "file_extension": ".sh",
   "mimetype": "text/x-sh",
   "name": "bash"
  }
 },
 "nbformat": 4,
 "nbformat_minor": 5
}
