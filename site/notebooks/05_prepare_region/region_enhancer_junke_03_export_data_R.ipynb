{
 "cells": [
  {
   "cell_type": "raw",
   "id": "c4e3f8b6-7ab3-404e-8b81-72cd0f572b14",
   "metadata": {},
   "source": [
    "---\n",
    "title: Prepare Junke peak call region 03\n",
    "subtitle: Prepare data\n",
    "format:\n",
    "    html:\n",
    "        code-fold:  true\n",
    "        code-tools: true\n",
    "---"
   ]
  },
  {
   "cell_type": "markdown",
   "id": "4bb900ff-8caa-4dcd-b413-8dee11798ea8",
   "metadata": {},
   "source": [
    "**Set environment**"
   ]
  },
  {
   "cell_type": "code",
   "execution_count": 1,
   "id": "5b77ea49-3590-418e-8a2b-2d79c6dbf799",
   "metadata": {
    "tags": []
   },
   "outputs": [
    {
     "name": "stdout",
     "output_type": "stream",
     "text": [
      "You are working on        Singularity: singularity_proj_encode_fcc \n",
      "BASE DIRECTORY (FD_BASE): /data/reddylab/Kuei \n",
      "REPO DIRECTORY (FD_REPO): /data/reddylab/Kuei/repo \n",
      "WORK DIRECTORY (FD_WORK): /data/reddylab/Kuei/work \n",
      "DATA DIRECTORY (FD_DATA): /data/reddylab/Kuei/data \n",
      "\n",
      "You are working with      ENCODE FCC \n",
      "PATH OF PROJECT (FD_PRJ): /data/reddylab/Kuei/repo/Proj_ENCODE_FCC \n",
      "PROJECT RESULTS (FD_RES): /data/reddylab/Kuei/repo/Proj_ENCODE_FCC/results \n",
      "PROJECT SCRIPTS (FD_EXE): /data/reddylab/Kuei/repo/Proj_ENCODE_FCC/scripts \n",
      "PROJECT DATA    (FD_DAT): /data/reddylab/Kuei/repo/Proj_ENCODE_FCC/data \n",
      "PROJECT NOTE    (FD_NBK): /data/reddylab/Kuei/repo/Proj_ENCODE_FCC/notebooks \n",
      "PROJECT DOCS    (FD_DOC): /data/reddylab/Kuei/repo/Proj_ENCODE_FCC/docs \n",
      "PROJECT LOG     (FD_LOG): /data/reddylab/Kuei/repo/Proj_ENCODE_FCC/log \n",
      "PROJECT REF     (FD_REF): /data/reddylab/Kuei/repo/Proj_ENCODE_FCC/references \n",
      "\n"
     ]
    }
   ],
   "source": [
    "suppressMessages(suppressWarnings(source(\"../run_config_project_sing.R\")))\n",
    "show_env()"
   ]
  },
  {
   "cell_type": "markdown",
   "id": "d28608d6-4293-415d-87f9-768603e6321e",
   "metadata": {},
   "source": [
    "**Set global variables**"
   ]
  },
  {
   "cell_type": "code",
   "execution_count": 2,
   "id": "9c669854-ba3e-4257-9fb6-f9fdb62b9857",
   "metadata": {},
   "outputs": [
    {
     "name": "stdout",
     "output_type": "stream",
     "text": [
      "ATAC_STARR_seq_100bp_genomic_bin_in_ATAC_seq_peak_cpm_20_avg_DNA_lib_ \n",
      "eSTARR_seq \n",
      "LentiMPRA_DNA_filtering_avg_DNA_lib_count_10 \n",
      "TilingMPRA_ENCSR363XER_DNA_filtering_avg_DNA_lib_count_10 \n",
      "TilingMPRA_ENCSR394HXI_DNA_filtering_avg_DNA_lib_count_10 \n",
      "TilingMPRA_ENCSR917SFD_DNA_filtering_avg_DNA_lib_count_10 \n",
      "WHG_STARR_TR \n"
     ]
    }
   ],
   "source": [
    "txt_fdiry = file.path(FD_DAT, \"processed\", \"fcc_enhancer_Junke_zscore_240611\", \"decompressed\")\n",
    "vec = dir(txt_fdiry)\n",
    "for(txt in vec){cat(txt, \"\\n\")}"
   ]
  },
  {
   "cell_type": "markdown",
   "id": "a7f3672e-3f53-47ce-8aa7-4f4d01871753",
   "metadata": {},
   "source": [
    "**Helper function to map names**"
   ]
  },
  {
   "cell_type": "code",
   "execution_count": 3,
   "id": "098e6845-5056-449f-902f-0bbb63f0a497",
   "metadata": {},
   "outputs": [],
   "source": [
    "VEC_TXT_REGION_NAME = c(\n",
    "    \"ATAC_STARR_seq_100bp_genomic_bin_in_ATAC_seq_peak_cpm_20_avg_DNA_lib_\",\n",
    "    \"WHG_STARR_TR\",\n",
    "    \"TilingMPRA_ENCSR363XER_DNA_filtering_avg_DNA_lib_count_10\",\n",
    "    \"TilingMPRA_ENCSR394HXI_DNA_filtering_avg_DNA_lib_count_10\",\n",
    "    \"TilingMPRA_ENCSR917SFD_DNA_filtering_avg_DNA_lib_count_10\",\n",
    "    \"LentiMPRA_DNA_filtering_avg_DNA_lib_count_10\",\n",
    "    \"eSTARR_seq\"\n",
    ")\n",
    "\n",
    "VEC_TXT_ASSAY_NAME = c(\n",
    "    \"ASTARR_TR\",\n",
    "    \"WSTARR_TR\",\n",
    "    \"TMPRA_OL45\",\n",
    "    \"TMPRA_OL13\",\n",
    "    \"TMPRA_OL43\",\n",
    "    \"LMPRA_Nadav\",\n",
    "    \"eSTARR\"\n",
    ")\n",
    "\n",
    "VEC_TXT_ASSAY_GROUP = c(\n",
    "    \"ASTARR\",\n",
    "    \"WSTARR\",\n",
    "    \"TMPRA\",\n",
    "    \"TMPRA\",\n",
    "    \"TMPRA\",\n",
    "    \"LMPRA\",\n",
    "    \"eSTARR\"\n",
    ")\n",
    "\n",
    "fun1 = function(txt){\n",
    "    vec1 = VEC_TXT_REGION_NAME\n",
    "    vec2 = VEC_TXT_ASSAY_NAME\n",
    "    res  = fun_str_map_detect(txt, vec1, vec2)\n",
    "    return(res)\n",
    "}\n",
    "\n",
    "fun2 = function(txt){\n",
    "    vec1 = VEC_TXT_REGION_NAME\n",
    "    vec2 = VEC_TXT_ASSAY_GROUP\n",
    "    res  = fun_str_map_detect(txt, vec1, vec2)\n",
    "    return(res)\n",
    "}\n",
    "\n",
    "fun3 = function(txt){\n",
    "    vec1 = c(\"enhancer\", \"repressor\")\n",
    "    vec2 = c(\"A\", \"R\")\n",
    "    res  = fun_str_map_detect(txt, vec1, vec2)\n",
    "    return(res)\n",
    "}\n",
    "\n",
    "fun4 = function(txt){\n",
    "    vec1 = c(\"orientation_independent\", \"in_either_orientation\")\n",
    "    vec2 = c(\"B\", \"\")\n",
    "    res  = fun_str_map_detect(txt, vec1, vec2)\n",
    "    return(res)\n",
    "}"
   ]
  },
  {
   "cell_type": "markdown",
   "id": "9752bed8-5be3-4896-ad5c-5120f36cc807",
   "metadata": {},
   "source": [
    "test function"
   ]
  },
  {
   "cell_type": "code",
   "execution_count": 4,
   "id": "9a1fc579-1689-4050-9a87-3c852c352de3",
   "metadata": {},
   "outputs": [
    {
     "data": {
      "text/html": [
       "'R'"
      ],
      "text/latex": [
       "'R'"
      ],
      "text/markdown": [
       "'R'"
      ],
      "text/plain": [
       "[1] \"R\""
      ]
     },
     "metadata": {},
     "output_type": "display_data"
    }
   ],
   "source": [
    "txt = \"merged_repressor_peak_orientation_independent.bed.gz\"\n",
    "fun3(txt)"
   ]
  },
  {
   "cell_type": "markdown",
   "id": "8c0fda01-880a-4724-96c9-dc0533dbd051",
   "metadata": {},
   "source": [
    "## Metadata"
   ]
  },
  {
   "cell_type": "code",
   "execution_count": 5,
   "id": "623b3e14-698b-4ce2-9a2c-797a8d8a8a47",
   "metadata": {},
   "outputs": [
    {
     "data": {
      "text/html": [
       "<table>\n",
       " <thead>\n",
       "  <tr>\n",
       "   <th style=\"text-align:left;\"> Dataset </th>\n",
       "   <th style=\"text-align:left;\"> Group </th>\n",
       "   <th style=\"text-align:left;\"> Label </th>\n",
       "   <th style=\"text-align:left;\"> FName </th>\n",
       "   <th style=\"text-align:left;\"> FPath </th>\n",
       "  </tr>\n",
       " </thead>\n",
       "<tbody>\n",
       "  <tr>\n",
       "   <td style=\"text-align:left;\"> ASTARR_TR </td>\n",
       "   <td style=\"text-align:left;\"> ASTARR </td>\n",
       "   <td style=\"text-align:left;\"> ASTARR_AB </td>\n",
       "   <td style=\"text-align:left;\"> merged_enhancer_peak_orientation_independent.bed.gz </td>\n",
       "   <td style=\"text-align:left;\"> /data/reddylab/Kuei/repo/Proj_ENCODE_FCC/data/processed/fcc_enhancer_Junke_zscore_240611/decompressed/ATAC_STARR_seq_100bp_genomic_bin_in_ATAC_seq_peak_cpm_20_avg_DNA_lib_/merged_peak/merged_enhancer_peak_orientation_independent.bed.gz </td>\n",
       "  </tr>\n",
       "  <tr>\n",
       "   <td style=\"text-align:left;\"> ASTARR_TR </td>\n",
       "   <td style=\"text-align:left;\"> ASTARR </td>\n",
       "   <td style=\"text-align:left;\"> ASTARR_A </td>\n",
       "   <td style=\"text-align:left;\"> merged_enhancer_peaks_in_either_orientation.bed.gz </td>\n",
       "   <td style=\"text-align:left;\"> /data/reddylab/Kuei/repo/Proj_ENCODE_FCC/data/processed/fcc_enhancer_Junke_zscore_240611/decompressed/ATAC_STARR_seq_100bp_genomic_bin_in_ATAC_seq_peak_cpm_20_avg_DNA_lib_/merged_peak/merged_enhancer_peaks_in_either_orientation.bed.gz </td>\n",
       "  </tr>\n",
       "  <tr>\n",
       "   <td style=\"text-align:left;\"> ASTARR_TR </td>\n",
       "   <td style=\"text-align:left;\"> ASTARR </td>\n",
       "   <td style=\"text-align:left;\"> ASTARR_RB </td>\n",
       "   <td style=\"text-align:left;\"> merged_repressor_peak_orientation_independent.bed.gz </td>\n",
       "   <td style=\"text-align:left;\"> /data/reddylab/Kuei/repo/Proj_ENCODE_FCC/data/processed/fcc_enhancer_Junke_zscore_240611/decompressed/ATAC_STARR_seq_100bp_genomic_bin_in_ATAC_seq_peak_cpm_20_avg_DNA_lib_/merged_peak/merged_repressor_peak_orientation_independent.bed.gz </td>\n",
       "  </tr>\n",
       "  <tr>\n",
       "   <td style=\"text-align:left;\"> ASTARR_TR </td>\n",
       "   <td style=\"text-align:left;\"> ASTARR </td>\n",
       "   <td style=\"text-align:left;\"> ASTARR_R </td>\n",
       "   <td style=\"text-align:left;\"> merged_repressor_peaks_in_either_orientation.bed.gz </td>\n",
       "   <td style=\"text-align:left;\"> /data/reddylab/Kuei/repo/Proj_ENCODE_FCC/data/processed/fcc_enhancer_Junke_zscore_240611/decompressed/ATAC_STARR_seq_100bp_genomic_bin_in_ATAC_seq_peak_cpm_20_avg_DNA_lib_/merged_peak/merged_repressor_peaks_in_either_orientation.bed.gz </td>\n",
       "  </tr>\n",
       "  <tr>\n",
       "   <td style=\"text-align:left;\"> eSTARR </td>\n",
       "   <td style=\"text-align:left;\"> eSTARR </td>\n",
       "   <td style=\"text-align:left;\"> eSTARR_AB </td>\n",
       "   <td style=\"text-align:left;\"> merged_enhancer_peak_orientation_independent.bed.gz </td>\n",
       "   <td style=\"text-align:left;\"> /data/reddylab/Kuei/repo/Proj_ENCODE_FCC/data/processed/fcc_enhancer_Junke_zscore_240611/decompressed/eSTARR_seq/merged_peak/merged_enhancer_peak_orientation_independent.bed.gz </td>\n",
       "  </tr>\n",
       "  <tr>\n",
       "   <td style=\"text-align:left;\"> eSTARR </td>\n",
       "   <td style=\"text-align:left;\"> eSTARR </td>\n",
       "   <td style=\"text-align:left;\"> eSTARR_A </td>\n",
       "   <td style=\"text-align:left;\"> merged_enhancer_peaks_in_either_orientation.bed.gz </td>\n",
       "   <td style=\"text-align:left;\"> /data/reddylab/Kuei/repo/Proj_ENCODE_FCC/data/processed/fcc_enhancer_Junke_zscore_240611/decompressed/eSTARR_seq/merged_peak/merged_enhancer_peaks_in_either_orientation.bed.gz </td>\n",
       "  </tr>\n",
       "  <tr>\n",
       "   <td style=\"text-align:left;\"> eSTARR </td>\n",
       "   <td style=\"text-align:left;\"> eSTARR </td>\n",
       "   <td style=\"text-align:left;\"> eSTARR_RB </td>\n",
       "   <td style=\"text-align:left;\"> merged_repressor_peak_orientation_independent.bed.gz </td>\n",
       "   <td style=\"text-align:left;\"> /data/reddylab/Kuei/repo/Proj_ENCODE_FCC/data/processed/fcc_enhancer_Junke_zscore_240611/decompressed/eSTARR_seq/merged_peak/merged_repressor_peak_orientation_independent.bed.gz </td>\n",
       "  </tr>\n",
       "  <tr>\n",
       "   <td style=\"text-align:left;\"> eSTARR </td>\n",
       "   <td style=\"text-align:left;\"> eSTARR </td>\n",
       "   <td style=\"text-align:left;\"> eSTARR_R </td>\n",
       "   <td style=\"text-align:left;\"> merged_repressor_peaks_in_either_orientation.bed.gz </td>\n",
       "   <td style=\"text-align:left;\"> /data/reddylab/Kuei/repo/Proj_ENCODE_FCC/data/processed/fcc_enhancer_Junke_zscore_240611/decompressed/eSTARR_seq/merged_peak/merged_repressor_peaks_in_either_orientation.bed.gz </td>\n",
       "  </tr>\n",
       "  <tr>\n",
       "   <td style=\"text-align:left;\"> LMPRA_Nadav </td>\n",
       "   <td style=\"text-align:left;\"> LMPRA </td>\n",
       "   <td style=\"text-align:left;\"> LMPRA_AB </td>\n",
       "   <td style=\"text-align:left;\"> merged_enhancer_peak_orientation_independent.bed.gz </td>\n",
       "   <td style=\"text-align:left;\"> /data/reddylab/Kuei/repo/Proj_ENCODE_FCC/data/processed/fcc_enhancer_Junke_zscore_240611/decompressed/LentiMPRA_DNA_filtering_avg_DNA_lib_count_10/merged_peak/merged_enhancer_peak_orientation_independent.bed.gz </td>\n",
       "  </tr>\n",
       "  <tr>\n",
       "   <td style=\"text-align:left;\"> LMPRA_Nadav </td>\n",
       "   <td style=\"text-align:left;\"> LMPRA </td>\n",
       "   <td style=\"text-align:left;\"> LMPRA_A </td>\n",
       "   <td style=\"text-align:left;\"> merged_enhancer_peaks_in_either_orientation.bed.gz </td>\n",
       "   <td style=\"text-align:left;\"> /data/reddylab/Kuei/repo/Proj_ENCODE_FCC/data/processed/fcc_enhancer_Junke_zscore_240611/decompressed/LentiMPRA_DNA_filtering_avg_DNA_lib_count_10/merged_peak/merged_enhancer_peaks_in_either_orientation.bed.gz </td>\n",
       "  </tr>\n",
       "  <tr>\n",
       "   <td style=\"text-align:left;\"> LMPRA_Nadav </td>\n",
       "   <td style=\"text-align:left;\"> LMPRA </td>\n",
       "   <td style=\"text-align:left;\"> LMPRA_RB </td>\n",
       "   <td style=\"text-align:left;\"> merged_repressor_peak_orientation_independent.bed.gz </td>\n",
       "   <td style=\"text-align:left;\"> /data/reddylab/Kuei/repo/Proj_ENCODE_FCC/data/processed/fcc_enhancer_Junke_zscore_240611/decompressed/LentiMPRA_DNA_filtering_avg_DNA_lib_count_10/merged_peak/merged_repressor_peak_orientation_independent.bed.gz </td>\n",
       "  </tr>\n",
       "  <tr>\n",
       "   <td style=\"text-align:left;\"> LMPRA_Nadav </td>\n",
       "   <td style=\"text-align:left;\"> LMPRA </td>\n",
       "   <td style=\"text-align:left;\"> LMPRA_R </td>\n",
       "   <td style=\"text-align:left;\"> merged_repressor_peaks_in_either_orientation.bed.gz </td>\n",
       "   <td style=\"text-align:left;\"> /data/reddylab/Kuei/repo/Proj_ENCODE_FCC/data/processed/fcc_enhancer_Junke_zscore_240611/decompressed/LentiMPRA_DNA_filtering_avg_DNA_lib_count_10/merged_peak/merged_repressor_peaks_in_either_orientation.bed.gz </td>\n",
       "  </tr>\n",
       "  <tr>\n",
       "   <td style=\"text-align:left;\"> TMPRA_OL45 </td>\n",
       "   <td style=\"text-align:left;\"> TMPRA </td>\n",
       "   <td style=\"text-align:left;\"> TMPRA_A </td>\n",
       "   <td style=\"text-align:left;\"> merged_enhancer_peaks_in_either_orientation.bed.gz </td>\n",
       "   <td style=\"text-align:left;\"> /data/reddylab/Kuei/repo/Proj_ENCODE_FCC/data/processed/fcc_enhancer_Junke_zscore_240611/decompressed/TilingMPRA_ENCSR363XER_DNA_filtering_avg_DNA_lib_count_10/merged_peak/merged_enhancer_peaks_in_either_orientation.bed.gz </td>\n",
       "  </tr>\n",
       "  <tr>\n",
       "   <td style=\"text-align:left;\"> TMPRA_OL45 </td>\n",
       "   <td style=\"text-align:left;\"> TMPRA </td>\n",
       "   <td style=\"text-align:left;\"> TMPRA_R </td>\n",
       "   <td style=\"text-align:left;\"> merged_repressor_peaks_in_either_orientation.bed.gz </td>\n",
       "   <td style=\"text-align:left;\"> /data/reddylab/Kuei/repo/Proj_ENCODE_FCC/data/processed/fcc_enhancer_Junke_zscore_240611/decompressed/TilingMPRA_ENCSR363XER_DNA_filtering_avg_DNA_lib_count_10/merged_peak/merged_repressor_peaks_in_either_orientation.bed.gz </td>\n",
       "  </tr>\n",
       "  <tr>\n",
       "   <td style=\"text-align:left;\"> TMPRA_OL13 </td>\n",
       "   <td style=\"text-align:left;\"> TMPRA </td>\n",
       "   <td style=\"text-align:left;\"> TMPRA_AB </td>\n",
       "   <td style=\"text-align:left;\"> merged_enhancer_peak_orientation_independent.bed.gz </td>\n",
       "   <td style=\"text-align:left;\"> /data/reddylab/Kuei/repo/Proj_ENCODE_FCC/data/processed/fcc_enhancer_Junke_zscore_240611/decompressed/TilingMPRA_ENCSR394HXI_DNA_filtering_avg_DNA_lib_count_10/merged_peak/merged_enhancer_peak_orientation_independent.bed.gz </td>\n",
       "  </tr>\n",
       "  <tr>\n",
       "   <td style=\"text-align:left;\"> TMPRA_OL13 </td>\n",
       "   <td style=\"text-align:left;\"> TMPRA </td>\n",
       "   <td style=\"text-align:left;\"> TMPRA_A </td>\n",
       "   <td style=\"text-align:left;\"> merged_enhancer_peaks_in_either_orientation.bed.gz </td>\n",
       "   <td style=\"text-align:left;\"> /data/reddylab/Kuei/repo/Proj_ENCODE_FCC/data/processed/fcc_enhancer_Junke_zscore_240611/decompressed/TilingMPRA_ENCSR394HXI_DNA_filtering_avg_DNA_lib_count_10/merged_peak/merged_enhancer_peaks_in_either_orientation.bed.gz </td>\n",
       "  </tr>\n",
       "  <tr>\n",
       "   <td style=\"text-align:left;\"> TMPRA_OL13 </td>\n",
       "   <td style=\"text-align:left;\"> TMPRA </td>\n",
       "   <td style=\"text-align:left;\"> TMPRA_RB </td>\n",
       "   <td style=\"text-align:left;\"> merged_repressor_peak_orientation_independent.bed.gz </td>\n",
       "   <td style=\"text-align:left;\"> /data/reddylab/Kuei/repo/Proj_ENCODE_FCC/data/processed/fcc_enhancer_Junke_zscore_240611/decompressed/TilingMPRA_ENCSR394HXI_DNA_filtering_avg_DNA_lib_count_10/merged_peak/merged_repressor_peak_orientation_independent.bed.gz </td>\n",
       "  </tr>\n",
       "  <tr>\n",
       "   <td style=\"text-align:left;\"> TMPRA_OL13 </td>\n",
       "   <td style=\"text-align:left;\"> TMPRA </td>\n",
       "   <td style=\"text-align:left;\"> TMPRA_R </td>\n",
       "   <td style=\"text-align:left;\"> merged_repressor_peaks_in_either_orientation.bed.gz </td>\n",
       "   <td style=\"text-align:left;\"> /data/reddylab/Kuei/repo/Proj_ENCODE_FCC/data/processed/fcc_enhancer_Junke_zscore_240611/decompressed/TilingMPRA_ENCSR394HXI_DNA_filtering_avg_DNA_lib_count_10/merged_peak/merged_repressor_peaks_in_either_orientation.bed.gz </td>\n",
       "  </tr>\n",
       "  <tr>\n",
       "   <td style=\"text-align:left;\"> TMPRA_OL43 </td>\n",
       "   <td style=\"text-align:left;\"> TMPRA </td>\n",
       "   <td style=\"text-align:left;\"> TMPRA_A </td>\n",
       "   <td style=\"text-align:left;\"> merged_enhancer_peaks_in_either_orientation.bed.gz </td>\n",
       "   <td style=\"text-align:left;\"> /data/reddylab/Kuei/repo/Proj_ENCODE_FCC/data/processed/fcc_enhancer_Junke_zscore_240611/decompressed/TilingMPRA_ENCSR917SFD_DNA_filtering_avg_DNA_lib_count_10/merged_peak/merged_enhancer_peaks_in_either_orientation.bed.gz </td>\n",
       "  </tr>\n",
       "  <tr>\n",
       "   <td style=\"text-align:left;\"> TMPRA_OL43 </td>\n",
       "   <td style=\"text-align:left;\"> TMPRA </td>\n",
       "   <td style=\"text-align:left;\"> TMPRA_R </td>\n",
       "   <td style=\"text-align:left;\"> merged_repressor_peaks_in_either_orientation.bed.gz </td>\n",
       "   <td style=\"text-align:left;\"> /data/reddylab/Kuei/repo/Proj_ENCODE_FCC/data/processed/fcc_enhancer_Junke_zscore_240611/decompressed/TilingMPRA_ENCSR917SFD_DNA_filtering_avg_DNA_lib_count_10/merged_peak/merged_repressor_peaks_in_either_orientation.bed.gz </td>\n",
       "  </tr>\n",
       "  <tr>\n",
       "   <td style=\"text-align:left;\"> WSTARR_TR </td>\n",
       "   <td style=\"text-align:left;\"> WSTARR </td>\n",
       "   <td style=\"text-align:left;\"> WSTARR_AB </td>\n",
       "   <td style=\"text-align:left;\"> merged_enhancer_peak_orientation_independent.bed.gz </td>\n",
       "   <td style=\"text-align:left;\"> /data/reddylab/Kuei/repo/Proj_ENCODE_FCC/data/processed/fcc_enhancer_Junke_zscore_240611/decompressed/WHG_STARR_TR/merged_peak/merged_enhancer_peak_orientation_independent.bed.gz </td>\n",
       "  </tr>\n",
       "  <tr>\n",
       "   <td style=\"text-align:left;\"> WSTARR_TR </td>\n",
       "   <td style=\"text-align:left;\"> WSTARR </td>\n",
       "   <td style=\"text-align:left;\"> WSTARR_A </td>\n",
       "   <td style=\"text-align:left;\"> merged_enhancer_peaks_in_either_orientation.bed.gz </td>\n",
       "   <td style=\"text-align:left;\"> /data/reddylab/Kuei/repo/Proj_ENCODE_FCC/data/processed/fcc_enhancer_Junke_zscore_240611/decompressed/WHG_STARR_TR/merged_peak/merged_enhancer_peaks_in_either_orientation.bed.gz </td>\n",
       "  </tr>\n",
       "  <tr>\n",
       "   <td style=\"text-align:left;\"> WSTARR_TR </td>\n",
       "   <td style=\"text-align:left;\"> WSTARR </td>\n",
       "   <td style=\"text-align:left;\"> WSTARR_R </td>\n",
       "   <td style=\"text-align:left;\"> merged_repressor_peaks_in_either_orientation.bed.gz </td>\n",
       "   <td style=\"text-align:left;\"> /data/reddylab/Kuei/repo/Proj_ENCODE_FCC/data/processed/fcc_enhancer_Junke_zscore_240611/decompressed/WHG_STARR_TR/merged_peak/merged_repressor_peaks_in_either_orientation.bed.gz </td>\n",
       "  </tr>\n",
       "</tbody>\n",
       "</table>"
      ]
     },
     "metadata": {},
     "output_type": "display_data"
    }
   ],
   "source": [
    "### get all files\n",
    "txt_fdiry = file.path(\n",
    "    FD_DAT, \"processed\", \n",
    "    \"fcc_enhancer_Junke_zscore_240611\", \n",
    "    \"decompressed\",\n",
    "    \"*\",\n",
    "    \"merged_peak\"\n",
    ")\n",
    "txt_fname = \"*bed.gz\"\n",
    "txt_fglob = file.path(txt_fdiry, txt_fname)\n",
    "vec_txt_fpath = Sys.glob(txt_fglob)\n",
    "vec_txt_fname = basename(vec_txt_fpath)\n",
    "\n",
    "### arrange files into dataframe\n",
    "dat = data.frame(\n",
    "    FPath = vec_txt_fpath,\n",
    "    FName = vec_txt_fname\n",
    ")\n",
    "\n",
    "### mapping file names to labels\n",
    "dat = dat %>%\n",
    "    dplyr::mutate(\n",
    "        X1 = fun1(vec_txt_fpath),\n",
    "        X2 = fun2(vec_txt_fpath),\n",
    "        X3 = fun3(vec_txt_fname), \n",
    "        X4 = fun4(vec_txt_fname) \n",
    "    ) %>% \n",
    "    na.omit\n",
    "\n",
    "### arrange labels\n",
    "dat = dat %>% \n",
    "    dplyr::mutate(\n",
    "        Dataset = X1,\n",
    "        Group   = X2,\n",
    "        Label   = paste0(X2, \"_\", X3, X4)\n",
    "    ) %>% \n",
    "    dplyr::select(\n",
    "        Dataset,\n",
    "        Group,\n",
    "        Label,\n",
    "        FName,\n",
    "        FPath)\n",
    "\n",
    "### asign and show\n",
    "dat_meta = dat\n",
    "fun_display_table(dat)"
   ]
  },
  {
   "cell_type": "markdown",
   "id": "310f7660-72c4-4c0c-93d2-4bd8a8402238",
   "metadata": {},
   "source": [
    "## Import data and arrange"
   ]
  },
  {
   "cell_type": "code",
   "execution_count": 6,
   "id": "32d014e7-25d6-4985-a912-25d082ddf04d",
   "metadata": {},
   "outputs": [
    {
     "name": "stdout",
     "output_type": "stream",
     "text": [
      "[1] 447521      9\n"
     ]
    },
    {
     "data": {
      "text/html": [
       "<table>\n",
       " <thead>\n",
       "  <tr>\n",
       "   <th style=\"text-align:left;\"> Chrom </th>\n",
       "   <th style=\"text-align:right;\"> ChromStart </th>\n",
       "   <th style=\"text-align:right;\"> ChromEnd </th>\n",
       "   <th style=\"text-align:left;\"> Name </th>\n",
       "   <th style=\"text-align:right;\"> Score </th>\n",
       "   <th style=\"text-align:left;\"> Strand </th>\n",
       "   <th style=\"text-align:left;\"> Group </th>\n",
       "   <th style=\"text-align:left;\"> Label </th>\n",
       "   <th style=\"text-align:left;\"> Dataset </th>\n",
       "  </tr>\n",
       " </thead>\n",
       "<tbody>\n",
       "  <tr>\n",
       "   <td style=\"text-align:left;\"> chr1 </td>\n",
       "   <td style=\"text-align:right;\"> 115570 </td>\n",
       "   <td style=\"text-align:right;\"> 115730 </td>\n",
       "   <td style=\"text-align:left;\"> peak_both_1 </td>\n",
       "   <td style=\"text-align:right;\"> 2.188151 </td>\n",
       "   <td style=\"text-align:left;\"> . </td>\n",
       "   <td style=\"text-align:left;\"> ASTARR </td>\n",
       "   <td style=\"text-align:left;\"> ASTARR_AB </td>\n",
       "   <td style=\"text-align:left;\"> ASTARR_TR </td>\n",
       "  </tr>\n",
       "  <tr>\n",
       "   <td style=\"text-align:left;\"> chr1 </td>\n",
       "   <td style=\"text-align:right;\"> 778660 </td>\n",
       "   <td style=\"text-align:right;\"> 778890 </td>\n",
       "   <td style=\"text-align:left;\"> peak_both_2 </td>\n",
       "   <td style=\"text-align:right;\"> 2.458460 </td>\n",
       "   <td style=\"text-align:left;\"> . </td>\n",
       "   <td style=\"text-align:left;\"> ASTARR </td>\n",
       "   <td style=\"text-align:left;\"> ASTARR_AB </td>\n",
       "   <td style=\"text-align:left;\"> ASTARR_TR </td>\n",
       "  </tr>\n",
       "  <tr>\n",
       "   <td style=\"text-align:left;\"> chr1 </td>\n",
       "   <td style=\"text-align:right;\"> 1012990 </td>\n",
       "   <td style=\"text-align:right;\"> 1013680 </td>\n",
       "   <td style=\"text-align:left;\"> peak_both_3 </td>\n",
       "   <td style=\"text-align:right;\"> 2.903266 </td>\n",
       "   <td style=\"text-align:left;\"> . </td>\n",
       "   <td style=\"text-align:left;\"> ASTARR </td>\n",
       "   <td style=\"text-align:left;\"> ASTARR_AB </td>\n",
       "   <td style=\"text-align:left;\"> ASTARR_TR </td>\n",
       "  </tr>\n",
       "  <tr>\n",
       "   <td style=\"text-align:left;\"> chr1 </td>\n",
       "   <td style=\"text-align:right;\"> 1064240 </td>\n",
       "   <td style=\"text-align:right;\"> 1064540 </td>\n",
       "   <td style=\"text-align:left;\"> peak_both_4 </td>\n",
       "   <td style=\"text-align:right;\"> 2.740197 </td>\n",
       "   <td style=\"text-align:left;\"> . </td>\n",
       "   <td style=\"text-align:left;\"> ASTARR </td>\n",
       "   <td style=\"text-align:left;\"> ASTARR_AB </td>\n",
       "   <td style=\"text-align:left;\"> ASTARR_TR </td>\n",
       "  </tr>\n",
       "  <tr>\n",
       "   <td style=\"text-align:left;\"> chr1 </td>\n",
       "   <td style=\"text-align:right;\"> 1344850 </td>\n",
       "   <td style=\"text-align:right;\"> 1345150 </td>\n",
       "   <td style=\"text-align:left;\"> peak_both_5 </td>\n",
       "   <td style=\"text-align:right;\"> 2.521903 </td>\n",
       "   <td style=\"text-align:left;\"> . </td>\n",
       "   <td style=\"text-align:left;\"> ASTARR </td>\n",
       "   <td style=\"text-align:left;\"> ASTARR_AB </td>\n",
       "   <td style=\"text-align:left;\"> ASTARR_TR </td>\n",
       "  </tr>\n",
       "  <tr>\n",
       "   <td style=\"text-align:left;\"> chr1 </td>\n",
       "   <td style=\"text-align:right;\"> 1574880 </td>\n",
       "   <td style=\"text-align:right;\"> 1575170 </td>\n",
       "   <td style=\"text-align:left;\"> peak_both_6 </td>\n",
       "   <td style=\"text-align:right;\"> 2.217028 </td>\n",
       "   <td style=\"text-align:left;\"> . </td>\n",
       "   <td style=\"text-align:left;\"> ASTARR </td>\n",
       "   <td style=\"text-align:left;\"> ASTARR_AB </td>\n",
       "   <td style=\"text-align:left;\"> ASTARR_TR </td>\n",
       "  </tr>\n",
       "</tbody>\n",
       "</table>"
      ]
     },
     "metadata": {},
     "output_type": "display_data"
    }
   ],
   "source": [
    "### get file directory\n",
    "txt_fdiry = file.path(\n",
    "    FD_DAT, \"processed\", \n",
    "    \"fcc_enhancer_Junke_zscore_240611\", \n",
    "    \"decompressed\",\n",
    "    \"*\",\n",
    "    \"merged_peak\"\n",
    ")\n",
    "txt_fname = \"*bed.gz\"\n",
    "txt_fglob = file.path(txt_fdiry, txt_fname)\n",
    "vec_txt_fpath = Sys.glob(txt_fglob)\n",
    "\n",
    "### column names according to the readme document\n",
    "vec_txt_cname = c(\n",
    "    \"Seqnames\",\n",
    "    \"Start\",\n",
    "    \"End\",\n",
    "    \"Name\",\n",
    "    \"Mean logFC across all the bins\",\n",
    "    \"Strand\",\n",
    "    \"Z_score based on mean logFC\",\n",
    "    \"List of all logFCs\",\n",
    "    \"Summit seqnames\",\n",
    "    \"Summit start\",\n",
    "    \"Summit end\",\n",
    "    \"Summit logFC\",\n",
    "    \"Summit z-score\",\n",
    "    \"Peak size\"\n",
    ")\n",
    "\n",
    "### loop to import each file and arrange\n",
    "lst = lapply(vec_txt_fpath, function(txt_fpath){\n",
    "    ### file name\n",
    "    txt_fname = basename(txt_fpath)\n",
    "\n",
    "    ### read table\n",
    "    dat = read_tsv(txt_fpath, col_names = vec_txt_cname, show_col_types = FALSE)\n",
    "\n",
    "    ### arrange columns\n",
    "    dat = dat %>% \n",
    "        dplyr::mutate(\n",
    "            X1 = fun1(txt_fpath),\n",
    "            X2 = fun2(txt_fpath),\n",
    "            X3 = fun3(txt_fname), \n",
    "            X4 = fun4(txt_fname) \n",
    "        ) %>% \n",
    "        dplyr::mutate(\n",
    "            Dataset = X1,\n",
    "            Group   = X2,\n",
    "            Label   = paste0(X2, \"_\", X3, X4)\n",
    "        ) %>% \n",
    "        dplyr::select(\n",
    "            Seqnames, \n",
    "            Start, \n",
    "            End, \n",
    "            Name,\n",
    "            `Z_score based on mean logFC`,\n",
    "            Strand,\n",
    "            Group,\n",
    "            Label,\n",
    "            Dataset\n",
    "        )\n",
    "    return(dat)\n",
    "})\n",
    "\n",
    "### merge table and rename columns\n",
    "dat = bind_rows(lst)\n",
    "colnames(dat) = c(\n",
    "    \"Chrom\", \"ChromStart\", \"ChromEnd\", \"Name\", \"Score\", \"Strand\", \n",
    "    \"Group\", \n",
    "    \"Label\", \n",
    "    \"Dataset\"\n",
    ")\n",
    "lst = split(dat, dat$Group)\n",
    "\n",
    "### assign and show\n",
    "dat_region_merge = dat\n",
    "lst_dat_region = lst\n",
    "print(dim(dat))\n",
    "fun_display_table(head(dat))"
   ]
  },
  {
   "cell_type": "markdown",
   "id": "7b671e9e-c666-4aa0-98bd-3216429a0361",
   "metadata": {},
   "source": [
    "**Check data**"
   ]
  },
  {
   "cell_type": "code",
   "execution_count": 7,
   "id": "8457ee9e-a03b-4205-a3f8-2d3c92c2b5a3",
   "metadata": {},
   "outputs": [
    {
     "data": {
      "text/html": [
       "<style>\n",
       ".list-inline {list-style: none; margin:0; padding: 0}\n",
       ".list-inline>li {display: inline-block}\n",
       ".list-inline>li:not(:last-child)::after {content: \"\\00b7\"; padding: 0 .5ex}\n",
       "</style>\n",
       "<ol class=list-inline><li>'ASTARR'</li><li>'eSTARR'</li><li>'LMPRA'</li><li>'TMPRA'</li><li>'WSTARR'</li></ol>\n"
      ],
      "text/latex": [
       "\\begin{enumerate*}\n",
       "\\item 'ASTARR'\n",
       "\\item 'eSTARR'\n",
       "\\item 'LMPRA'\n",
       "\\item 'TMPRA'\n",
       "\\item 'WSTARR'\n",
       "\\end{enumerate*}\n"
      ],
      "text/markdown": [
       "1. 'ASTARR'\n",
       "2. 'eSTARR'\n",
       "3. 'LMPRA'\n",
       "4. 'TMPRA'\n",
       "5. 'WSTARR'\n",
       "\n",
       "\n"
      ],
      "text/plain": [
       "[1] \"ASTARR\" \"eSTARR\" \"LMPRA\"  \"TMPRA\"  \"WSTARR\""
      ]
     },
     "metadata": {},
     "output_type": "display_data"
    }
   ],
   "source": [
    "lst = lst_dat_region\n",
    "names(lst)"
   ]
  },
  {
   "cell_type": "code",
   "execution_count": 9,
   "id": "b1d1d76e-a9e2-47ed-9f7b-f6c343a730e7",
   "metadata": {},
   "outputs": [
    {
     "data": {
      "text/plain": [
       "\n",
       " ASTARR_A ASTARR_AB  ASTARR_R ASTARR_RB  eSTARR_A eSTARR_AB  eSTARR_R eSTARR_RB \n",
       "    35505     11680    154337     28775       150        31       341        65 \n",
       "  LMPRA_A  LMPRA_AB   LMPRA_R  LMPRA_RB   TMPRA_A  TMPRA_AB   TMPRA_R  TMPRA_RB \n",
       "    25648     16603       485       128      6017        57       254         1 \n",
       " WSTARR_A WSTARR_AB  WSTARR_R \n",
       "    79738     25505     62201 "
      ]
     },
     "metadata": {},
     "output_type": "display_data"
    }
   ],
   "source": [
    "dat = dat_region_merge\n",
    "table(dat$Label)"
   ]
  },
  {
   "cell_type": "code",
   "execution_count": 10,
   "id": "817cc3a2-0896-4cf4-9f7c-d506987379ef",
   "metadata": {},
   "outputs": [
    {
     "name": "stdout",
     "output_type": "stream",
     "text": [
      "\n",
      "===========================\n",
      "ASTARR_AB;ASTARR_A;ASTARR_RB;ASTARR_R;ASTARR_TR \n",
      "\n",
      "                   chr1  chr1_KI270706v1_random  chr1_KI270707v1_random \n",
      "                  27530                      80                       3 \n",
      " chr1_KI270708v1_random  chr1_KI270709v1_random  chr1_KI270711v1_random \n",
      "                      2                      21                      18 \n",
      " chr1_KI270712v1_random  chr1_KI270713v1_random  chr1_KI270714v1_random \n",
      "                      4                      31                      27 \n",
      "                  chr10                   chr11 chr11_KI270721v1_random \n",
      "                  10169                   11656                      10 \n",
      "                  chr12                   chr13                   chr14 \n",
      "                   9809                    3396                    4625 \n",
      "chr14_GL000009v2_random chr14_GL000194v1_random chr14_GL000225v1_random \n",
      "                     80                     105                      27 \n",
      "chr14_KI270722v1_random chr14_KI270723v1_random chr14_KI270724v1_random \n",
      "                     14                       7                      18 \n",
      "chr14_KI270726v1_random                   chr15 chr15_KI270727v1_random \n",
      "                      2                    7069                       8 \n",
      "                  chr16 chr16_KI270728v1_random                   chr17 \n",
      "                  10104                      59                   11058 \n",
      "chr17_GL000205v2_random                   chr18                   chr19 \n",
      "                     89                    3916                   12567 \n",
      "                   chr2                   chr20                   chr21 \n",
      "                  15575                    6377                    4309 \n",
      "                  chr22 chr22_KI270731v1_random chr22_KI270732v1_random \n",
      "                   5944                      17                      10 \n",
      "chr22_KI270733v1_random chr22_KI270734v1_random chr22_KI270735v1_random \n",
      "                     36                      13                       3 \n",
      "chr22_KI270736v1_random chr22_KI270737v1_random chr22_KI270738v1_random \n",
      "                      1                      14                      26 \n",
      "                   chr3  chr3_GL000221v1_random                    chr4 \n",
      "                  12159                      16                    8387 \n",
      " chr4_GL000008v2_random                    chr5  chr5_GL000208v1_random \n",
      "                     28                   10849                       2 \n",
      "                   chr6                    chr7                    chr8 \n",
      "                  14603                   17559                    8379 \n",
      "                   chr9  chr9_KI270719v1_random  chr9_KI270720v1_random \n",
      "                   8523                      28                      12 \n",
      "                   chrM        chrUn_GL000195v1        chrUn_GL000214v1 \n",
      "                     16                      83                      38 \n",
      "       chrUn_GL000216v2        chrUn_GL000218v1        chrUn_GL000219v1 \n",
      "                      2                      76                     103 \n",
      "       chrUn_GL000220v1        chrUn_GL000224v1        chrUn_KI270310v1 \n",
      "                     20                      71                       2 \n",
      "       chrUn_KI270311v1        chrUn_KI270330v1        chrUn_KI270337v1 \n",
      "                      1                       2                       1 \n",
      "       chrUn_KI270438v1        chrUn_KI270442v1        chrUn_KI270466v1 \n",
      "                     13                      47                       2 \n",
      "       chrUn_KI270467v1        chrUn_KI270538v1        chrUn_KI270741v1 \n",
      "                      3                      14                       2 \n",
      "       chrUn_KI270742v1        chrUn_KI270743v1        chrUn_KI270744v1 \n",
      "                    119                      18                      81 \n",
      "       chrUn_KI270745v1        chrUn_KI270746v1        chrUn_KI270750v1 \n",
      "                      6                      12                      11 \n",
      "       chrUn_KI270751v1        chrUn_KI270754v1                    chrX \n",
      "                     52                      21                    4105 \n",
      "                   chrY \n",
      "                      2 \n",
      "\n",
      "===========================\n",
      "eSTARR_AB;eSTARR_A;eSTARR_RB;eSTARR_R;eSTARR \n",
      "\n",
      " chr1 chr10 chr11 chr12 chr13 chr14 chr15 chr16 chr17 chr18 chr19  chr2 chr20 \n",
      "   69    34    46    28    12     9    18    21    37     9    21    33    24 \n",
      "chr21 chr22  chr3  chr4  chr5  chr6  chr7  chr8  chr9 \n",
      "    2    16    39    20    25    45    22    27    30 \n",
      "\n",
      "===========================\n",
      "LMPRA_AB;LMPRA_A;LMPRA_RB;LMPRA_R;LMPRA_Nadav \n",
      "\n",
      "                chr1                chr10                chr11 \n",
      "                3655                 1896                 2368 \n",
      "               chr12                chr13                chr14 \n",
      "                2202                  753                 1184 \n",
      "               chr15 chr15_KI270850v1_alt                chr16 \n",
      "                1349                    2                 2051 \n",
      "               chr17                chr18                chr19 \n",
      "                2221                  637                 2862 \n",
      "                chr2                chr20                chr21 \n",
      "                3077                 1352                  527 \n",
      "               chr22                 chr3                 chr4 \n",
      "                1057                 2395                 1666 \n",
      "                chr5                 chr6                 chr7 \n",
      "                1864                 2479                 2237 \n",
      " chr7_KI270803v1_alt                 chr8                 chr9 \n",
      "                   5                 1705                 1684 \n",
      "                chrX                 chrY \n",
      "                1613                   23 \n",
      "\n",
      "===========================\n",
      "TMPRA_A;TMPRA_R;TMPRA_AB;TMPRA_RB;TMPRA_OL45;TMPRA_OL13;TMPRA_OL43 \n",
      "\n",
      " chr1 chr11 chr15 chr16  chr2 chr20  chr8  chrX \n",
      "    1  1762     1   775   703   873  1045  1169 \n",
      "\n",
      "===========================\n",
      "WSTARR_AB;WSTARR_A;WSTARR_R;WSTARR_TR \n",
      "\n",
      " chr1 chr10 chr11 chr12 chr13 chr14 chr15 chr16 chr17 chr18 chr19  chr2 chr20 \n",
      "14682  7965  8507  7944  4112  5149  5231  6652  7578  3689  7695 12249  5041 \n",
      "chr21 chr22  chr3  chr4  chr5  chr6  chr7  chr8  chr9  chrM  chrX \n",
      " 2086  3877  9684  7670  8567  8870  8556  7737  6978    24  6901 \n"
     ]
    }
   ],
   "source": [
    "lst = lst_dat_region\n",
    "for (dat in lst){\n",
    "    cat(\"\\n===========================\\n\")\n",
    "    vec = c(unique(dat$Label), unique(dat$Dataset))\n",
    "    txt = paste(vec, collapse = \";\")\n",
    "    cat(txt, \"\\n\")\n",
    "    print(table(dat$Chrom))\n",
    "}"
   ]
  },
  {
   "cell_type": "markdown",
   "id": "5d204599-6c41-4856-9307-6356b2054021",
   "metadata": {},
   "source": [
    "## Define column description"
   ]
  },
  {
   "cell_type": "code",
   "execution_count": 11,
   "id": "a44c42f1-7516-4d8a-b221-a72b215714ed",
   "metadata": {},
   "outputs": [
    {
     "data": {
      "text/html": [
       "<table>\n",
       " <thead>\n",
       "  <tr>\n",
       "   <th style=\"text-align:left;\"> Name </th>\n",
       "   <th style=\"text-align:left;\"> Note </th>\n",
       "  </tr>\n",
       " </thead>\n",
       "<tbody>\n",
       "  <tr>\n",
       "   <td style=\"text-align:left;\"> Chrom </td>\n",
       "   <td style=\"text-align:left;\"> Name of the chromosome </td>\n",
       "  </tr>\n",
       "  <tr>\n",
       "   <td style=\"text-align:left;\"> ChromStart </td>\n",
       "   <td style=\"text-align:left;\"> The starting position of the feature in the chromosome </td>\n",
       "  </tr>\n",
       "  <tr>\n",
       "   <td style=\"text-align:left;\"> ChromEnd </td>\n",
       "   <td style=\"text-align:left;\"> The ending position of the feature in the chromosome </td>\n",
       "  </tr>\n",
       "  <tr>\n",
       "   <td style=\"text-align:left;\"> Name </td>\n",
       "   <td style=\"text-align:left;\"> Name </td>\n",
       "  </tr>\n",
       "  <tr>\n",
       "   <td style=\"text-align:left;\"> Score </td>\n",
       "   <td style=\"text-align:left;\"> Z score based on mean(logFC of all the bins) </td>\n",
       "  </tr>\n",
       "  <tr>\n",
       "   <td style=\"text-align:left;\"> Strand </td>\n",
       "   <td style=\"text-align:left;\"> Strand </td>\n",
       "  </tr>\n",
       "  <tr>\n",
       "   <td style=\"text-align:left;\"> Group </td>\n",
       "   <td style=\"text-align:left;\"> Assay name </td>\n",
       "  </tr>\n",
       "  <tr>\n",
       "   <td style=\"text-align:left;\"> Label </td>\n",
       "   <td style=\"text-align:left;\"> Assay name + direction </td>\n",
       "  </tr>\n",
       "  <tr>\n",
       "   <td style=\"text-align:left;\"> Dataset </td>\n",
       "   <td style=\"text-align:left;\"> Assay dataset </td>\n",
       "  </tr>\n",
       "</tbody>\n",
       "</table>"
      ]
     },
     "metadata": {},
     "output_type": "display_data"
    }
   ],
   "source": [
    "### create metadata: column information\n",
    "dat = tribble(\n",
    "    ~Name,        ~Note,\n",
    "    \"Chrom\",      \"Name of the chromosome\",\n",
    "    \"ChromStart\", \"The starting position of the feature in the chromosome\",\n",
    "    \"ChromEnd\",   \"The ending position of the feature in the chromosome\",\n",
    "    \"Name\",       \"Name\",\n",
    "    \"Score\",      \"Z score based on mean(logFC of all the bins)\",\n",
    "    \"Strand\",     \"Strand\",\n",
    "    \"Group\",      \"Assay name\",\n",
    "    \"Label\",      \"Assay name + direction\",\n",
    "    \"Dataset\",    \"Assay dataset\"\n",
    ")\n",
    "\n",
    "### assign and show\n",
    "dat_cname = dat\n",
    "fun_display_table(dat)"
   ]
  },
  {
   "cell_type": "markdown",
   "id": "00614d38-e341-42a1-9ce6-5d801c53b06a",
   "metadata": {},
   "source": [
    "## Save results"
   ]
  },
  {
   "cell_type": "code",
   "execution_count": 12,
   "id": "799e199c-3c32-4092-9419-89d9a579c14a",
   "metadata": {},
   "outputs": [],
   "source": [
    "### set directory\n",
    "txt_fdiry = file.path(FD_RES, \"region\", \"fcc_starrmpra_junke\")\n",
    "txt_cmd = paste(\"mkdir -p\", txt_fdiry)\n",
    "system(txt_cmd)\n",
    "\n",
    "txt_fdiry = file.path(FD_RES, \"region\", \"fcc_starrmpra_junke\", \"summary\")\n",
    "txt_cmd = paste(\"mkdir -p\", txt_fdiry)\n",
    "system(txt_cmd)"
   ]
  },
  {
   "cell_type": "markdown",
   "id": "c7c2546d-f6f9-4170-b7f6-1aa733d827a8",
   "metadata": {},
   "source": [
    "**Save column names**"
   ]
  },
  {
   "cell_type": "code",
   "execution_count": 14,
   "id": "527d0f7c-f1b2-4979-917e-835d1f46234a",
   "metadata": {},
   "outputs": [],
   "source": [
    "txt_folder = \"fcc_starrmpra_junke\"\n",
    "txt_fdiry  = file.path(FD_RES, \"region\", txt_folder, \"summary\")\n",
    "txt_fname  = \"description.tsv\"\n",
    "txt_fpath  = file.path(txt_fdiry, txt_fname)\n",
    "\n",
    "dir.create(txt_fdiry, showWarnings = FALSE)\n",
    "dat = dat_cname\n",
    "write_tsv(dat, txt_fpath)"
   ]
  },
  {
   "cell_type": "markdown",
   "id": "a8a56b3b-01c2-4d63-b7ff-ccbd3a330d5d",
   "metadata": {},
   "source": [
    "**Save bed files**"
   ]
  },
  {
   "cell_type": "code",
   "execution_count": 15,
   "id": "68d0c2f5-e347-40bb-97ce-3c89568a7dd4",
   "metadata": {},
   "outputs": [
    {
     "name": "stdout",
     "output_type": "stream",
     "text": [
      "[1] \"K562.hg38.ASTARR.junke.bed.gz\"\n",
      "[1] \"K562.hg38.eSTARR.junke.bed.gz\"\n",
      "[1] \"K562.hg38.LMPRA.junke.bed.gz\"\n",
      "[1] \"K562.hg38.TMPRA.junke.bed.gz\"\n",
      "[1] \"K562.hg38.WSTARR.junke.bed.gz\"\n"
     ]
    }
   ],
   "source": [
    "### set file directory\n",
    "txt_folder = \"fcc_starrmpra_junke\"\n",
    "txt_fdiry  = file.path(FD_RES, \"region\", txt_folder)\n",
    "                       \n",
    "### loop and store each peak set\n",
    "lst = lst_dat_region\n",
    "for (dat in lst){\n",
    "    ### set directory\n",
    "    txt_fname = paste(\"K562.hg38\", unique(dat$Group), \"junke\", \"bed.gz\", sep = \".\")\n",
    "    txt_fpath = file.path(txt_fdiry, txt_fname)\n",
    "    print(txt_fname)\n",
    "\n",
    "    ### write table\n",
    "    dat = dat %>% dplyr::arrange(Chrom, ChromStart, ChromEnd)\n",
    "    write_tsv(dat, txt_fpath, col_names = FALSE)\n",
    "}"
   ]
  },
  {
   "cell_type": "markdown",
   "id": "49b2377f-2189-44f3-bffd-db633ed69832",
   "metadata": {},
   "source": [
    "**Save table**"
   ]
  },
  {
   "cell_type": "code",
   "execution_count": 16,
   "id": "9a32b000-89e3-4f91-a6fa-b4b53a730b4b",
   "metadata": {},
   "outputs": [
    {
     "name": "stdout",
     "output_type": "stream",
     "text": [
      "[1] \"K562.hg38.Merge.junke.tsv\"\n"
     ]
    }
   ],
   "source": [
    "### set directory\n",
    "txt_folder = \"fcc_starrmpra_junke\"\n",
    "txt_fdiry  = file.path(FD_RES, \"region\", txt_folder)\n",
    "txt_fname = paste(\"K562.hg38\", \"Merge\", \"junke\", \"tsv\", sep = \".\")\n",
    "txt_fpath = file.path(txt_fdiry, txt_fname)\n",
    "print(txt_fname)\n",
    "\n",
    "### write table\n",
    "dat = dat_region_merge\n",
    "write_tsv(dat, txt_fpath)  "
   ]
  },
  {
   "cell_type": "markdown",
   "id": "00a01117-4e4f-4cd5-b7d3-9d18cc14b6f4",
   "metadata": {},
   "source": [
    "**Save metatable**"
   ]
  },
  {
   "cell_type": "code",
   "execution_count": 17,
   "id": "ad5d1a48-165f-4e67-9600-9a21f7397c60",
   "metadata": {},
   "outputs": [],
   "source": [
    "### set directory\n",
    "txt_folder = \"fcc_starrmpra_junke\"\n",
    "txt_fdiry  = file.path(FD_RES, \"region\", txt_folder, \"summary\")\n",
    "txt_fname = \"metadata.tsv\"\n",
    "txt_fpath = file.path(txt_fdiry, txt_fname)\n",
    "\n",
    "### write metadata table\n",
    "dat = dat_meta\n",
    "write_tsv(dat, txt_fpath)"
   ]
  },
  {
   "cell_type": "code",
   "execution_count": null,
   "id": "0466539a-128d-4f8f-b5bb-d51f754966b5",
   "metadata": {},
   "outputs": [],
   "source": []
  },
  {
   "cell_type": "code",
   "execution_count": null,
   "id": "480808bb-bbfe-4879-a745-1984a57f57ee",
   "metadata": {},
   "outputs": [],
   "source": []
  }
 ],
 "metadata": {
  "kernelspec": {
   "display_name": "R",
   "language": "R",
   "name": "ir"
  },
  "language_info": {
   "codemirror_mode": "r",
   "file_extension": ".r",
   "mimetype": "text/x-r-source",
   "name": "R",
   "pygments_lexer": "r",
   "version": "4.4.2"
  }
 },
 "nbformat": 4,
 "nbformat_minor": 5
}
