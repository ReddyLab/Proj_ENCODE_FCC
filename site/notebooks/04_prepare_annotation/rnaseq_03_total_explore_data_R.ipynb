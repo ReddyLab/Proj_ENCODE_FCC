{
 "cells": [
  {
   "cell_type": "raw",
   "id": "f0033495-bede-4623-ad52-2a97cb0aec7b",
   "metadata": {},
   "source": [
    "---\n",
    "title: Prepare ENCODE RNA-seq 03\n",
    "subtitle: Explore and visualize the data\n",
    "format:\n",
    "    html:\n",
    "        code-fold:  true\n",
    "        code-tools: true\n",
    "---"
   ]
  },
  {
   "cell_type": "markdown",
   "id": "a753ca81-ecf0-4b7e-b063-f4ada45810d7",
   "metadata": {},
   "source": [
    "**Set environment**"
   ]
  },
  {
   "cell_type": "code",
   "execution_count": 1,
   "id": "6a0a836d-e681-4c23-9ec0-54f9a789646e",
   "metadata": {
    "tags": []
   },
   "outputs": [
    {
     "name": "stdout",
     "output_type": "stream",
     "text": [
      "You are working on        Singularity: singularity_proj_encode_fcc \n",
      "BASE DIRECTORY (FD_BASE): /data/reddylab/Kuei \n",
      "REPO DIRECTORY (FD_REPO): /data/reddylab/Kuei/repo \n",
      "WORK DIRECTORY (FD_WORK): /data/reddylab/Kuei/work \n",
      "DATA DIRECTORY (FD_DATA): /data/reddylab/Kuei/data \n",
      "\n",
      "You are working with      ENCODE FCC \n",
      "PATH OF PROJECT (FD_PRJ): /data/reddylab/Kuei/repo/Proj_ENCODE_FCC \n",
      "PROJECT RESULTS (FD_RES): /data/reddylab/Kuei/repo/Proj_ENCODE_FCC/results \n",
      "PROJECT SCRIPTS (FD_EXE): /data/reddylab/Kuei/repo/Proj_ENCODE_FCC/scripts \n",
      "PROJECT DATA    (FD_DAT): /data/reddylab/Kuei/repo/Proj_ENCODE_FCC/data \n",
      "PROJECT NOTE    (FD_NBK): /data/reddylab/Kuei/repo/Proj_ENCODE_FCC/notebooks \n",
      "PROJECT DOCS    (FD_DOC): /data/reddylab/Kuei/repo/Proj_ENCODE_FCC/docs \n",
      "PROJECT LOG     (FD_LOG): /data/reddylab/Kuei/repo/Proj_ENCODE_FCC/log \n",
      "PROJECT REF     (FD_REF): /data/reddylab/Kuei/repo/Proj_ENCODE_FCC/references \n",
      "\n"
     ]
    }
   ],
   "source": [
    "suppressMessages(suppressWarnings(source(\"../run_config_project_sing.R\")))\n",
    "show_env()"
   ]
  },
  {
   "cell_type": "markdown",
   "id": "39b021a4-d514-4147-86bf-e20a5b22e2a2",
   "metadata": {},
   "source": [
    "**Set global variable**"
   ]
  },
  {
   "cell_type": "code",
   "execution_count": 2,
   "id": "6b69d7a0-b684-456f-8b5e-0a32499de5b7",
   "metadata": {},
   "outputs": [],
   "source": [
    "TXT_FOLDER = \"encode_rnaseq\""
   ]
  },
  {
   "cell_type": "markdown",
   "id": "d45430a5-cf8b-4740-9f66-fd994f1664c9",
   "metadata": {},
   "source": [
    "## Import data"
   ]
  },
  {
   "cell_type": "code",
   "execution_count": 3,
   "id": "108d658c-2a1f-485c-b8e4-84751cbd7abb",
   "metadata": {},
   "outputs": [
    {
     "name": "stdout",
     "output_type": "stream",
     "text": [
      "checksum_md5sum.txt \n",
      "checksum_results.txt \n",
      "K562.hg38.ENCSR615EEK.ENCFF421TJX.RNAseq_total.tsv \n",
      "K562.hg38.ENCSR615EEK.ENCFF585HTZ.RNAseq_total.strand_pos.bw \n",
      "K562.hg38.ENCSR615EEK.ENCFF876JOV.RNAseq_total.strand_neg.bw \n",
      "run_download_files.log.txt \n",
      "run_download_files.sh \n",
      "run_download.log.txt \n",
      "tmp \n"
     ]
    }
   ],
   "source": [
    "txt_folder = TXT_FOLDER\n",
    "txt_fdiry  = file.path(FD_DAT, \"external\", txt_folder)\n",
    "\n",
    "vec = dir(txt_fdiry)\n",
    "for (txt in vec){cat(txt, \"\\n\")}"
   ]
  },
  {
   "cell_type": "code",
   "execution_count": 4,
   "id": "6e206707-52fa-4957-ae5b-894422b77b99",
   "metadata": {},
   "outputs": [
    {
     "name": "stdout",
     "output_type": "stream",
     "text": [
      "[1] 59526    17\n"
     ]
    },
    {
     "data": {
      "text/html": [
       "<table>\n",
       " <thead>\n",
       "  <tr>\n",
       "   <th style=\"text-align:left;\"> gene_id </th>\n",
       "   <th style=\"text-align:left;\"> transcript_id(s) </th>\n",
       "   <th style=\"text-align:right;\"> length </th>\n",
       "   <th style=\"text-align:right;\"> effective_length </th>\n",
       "   <th style=\"text-align:right;\"> expected_count </th>\n",
       "   <th style=\"text-align:right;\"> TPM </th>\n",
       "   <th style=\"text-align:right;\"> FPKM </th>\n",
       "   <th style=\"text-align:right;\"> posterior_mean_count </th>\n",
       "   <th style=\"text-align:right;\"> posterior_standard_deviation_of_count </th>\n",
       "   <th style=\"text-align:right;\"> pme_TPM </th>\n",
       "   <th style=\"text-align:right;\"> pme_FPKM </th>\n",
       "   <th style=\"text-align:right;\"> TPM_ci_lower_bound </th>\n",
       "   <th style=\"text-align:right;\"> TPM_ci_upper_bound </th>\n",
       "   <th style=\"text-align:right;\"> TPM_coefficient_of_quartile_variation </th>\n",
       "   <th style=\"text-align:right;\"> FPKM_ci_lower_bound </th>\n",
       "   <th style=\"text-align:right;\"> FPKM_ci_upper_bound </th>\n",
       "   <th style=\"text-align:right;\"> FPKM_coefficient_of_quartile_variation </th>\n",
       "  </tr>\n",
       " </thead>\n",
       "<tbody>\n",
       "  <tr>\n",
       "   <td style=\"text-align:left;\"> 10904 </td>\n",
       "   <td style=\"text-align:left;\"> 10904 </td>\n",
       "   <td style=\"text-align:right;\"> 93 </td>\n",
       "   <td style=\"text-align:right;\"> 0 </td>\n",
       "   <td style=\"text-align:right;\"> 0 </td>\n",
       "   <td style=\"text-align:right;\"> 0 </td>\n",
       "   <td style=\"text-align:right;\"> 0 </td>\n",
       "   <td style=\"text-align:right;\"> 0 </td>\n",
       "   <td style=\"text-align:right;\"> 0 </td>\n",
       "   <td style=\"text-align:right;\"> 0 </td>\n",
       "   <td style=\"text-align:right;\"> 0 </td>\n",
       "   <td style=\"text-align:right;\"> 0 </td>\n",
       "   <td style=\"text-align:right;\"> 0 </td>\n",
       "   <td style=\"text-align:right;\"> 0 </td>\n",
       "   <td style=\"text-align:right;\"> 0 </td>\n",
       "   <td style=\"text-align:right;\"> 0 </td>\n",
       "   <td style=\"text-align:right;\"> 0 </td>\n",
       "  </tr>\n",
       "  <tr>\n",
       "   <td style=\"text-align:left;\"> 12954 </td>\n",
       "   <td style=\"text-align:left;\"> 12954 </td>\n",
       "   <td style=\"text-align:right;\"> 94 </td>\n",
       "   <td style=\"text-align:right;\"> 0 </td>\n",
       "   <td style=\"text-align:right;\"> 0 </td>\n",
       "   <td style=\"text-align:right;\"> 0 </td>\n",
       "   <td style=\"text-align:right;\"> 0 </td>\n",
       "   <td style=\"text-align:right;\"> 0 </td>\n",
       "   <td style=\"text-align:right;\"> 0 </td>\n",
       "   <td style=\"text-align:right;\"> 0 </td>\n",
       "   <td style=\"text-align:right;\"> 0 </td>\n",
       "   <td style=\"text-align:right;\"> 0 </td>\n",
       "   <td style=\"text-align:right;\"> 0 </td>\n",
       "   <td style=\"text-align:right;\"> 0 </td>\n",
       "   <td style=\"text-align:right;\"> 0 </td>\n",
       "   <td style=\"text-align:right;\"> 0 </td>\n",
       "   <td style=\"text-align:right;\"> 0 </td>\n",
       "  </tr>\n",
       "  <tr>\n",
       "   <td style=\"text-align:left;\"> 12956 </td>\n",
       "   <td style=\"text-align:left;\"> 12956 </td>\n",
       "   <td style=\"text-align:right;\"> 72 </td>\n",
       "   <td style=\"text-align:right;\"> 0 </td>\n",
       "   <td style=\"text-align:right;\"> 0 </td>\n",
       "   <td style=\"text-align:right;\"> 0 </td>\n",
       "   <td style=\"text-align:right;\"> 0 </td>\n",
       "   <td style=\"text-align:right;\"> 0 </td>\n",
       "   <td style=\"text-align:right;\"> 0 </td>\n",
       "   <td style=\"text-align:right;\"> 0 </td>\n",
       "   <td style=\"text-align:right;\"> 0 </td>\n",
       "   <td style=\"text-align:right;\"> 0 </td>\n",
       "   <td style=\"text-align:right;\"> 0 </td>\n",
       "   <td style=\"text-align:right;\"> 0 </td>\n",
       "   <td style=\"text-align:right;\"> 0 </td>\n",
       "   <td style=\"text-align:right;\"> 0 </td>\n",
       "   <td style=\"text-align:right;\"> 0 </td>\n",
       "  </tr>\n",
       "  <tr>\n",
       "   <td style=\"text-align:left;\"> 12958 </td>\n",
       "   <td style=\"text-align:left;\"> 12958 </td>\n",
       "   <td style=\"text-align:right;\"> 82 </td>\n",
       "   <td style=\"text-align:right;\"> 0 </td>\n",
       "   <td style=\"text-align:right;\"> 0 </td>\n",
       "   <td style=\"text-align:right;\"> 0 </td>\n",
       "   <td style=\"text-align:right;\"> 0 </td>\n",
       "   <td style=\"text-align:right;\"> 0 </td>\n",
       "   <td style=\"text-align:right;\"> 0 </td>\n",
       "   <td style=\"text-align:right;\"> 0 </td>\n",
       "   <td style=\"text-align:right;\"> 0 </td>\n",
       "   <td style=\"text-align:right;\"> 0 </td>\n",
       "   <td style=\"text-align:right;\"> 0 </td>\n",
       "   <td style=\"text-align:right;\"> 0 </td>\n",
       "   <td style=\"text-align:right;\"> 0 </td>\n",
       "   <td style=\"text-align:right;\"> 0 </td>\n",
       "   <td style=\"text-align:right;\"> 0 </td>\n",
       "  </tr>\n",
       "  <tr>\n",
       "   <td style=\"text-align:left;\"> 12960 </td>\n",
       "   <td style=\"text-align:left;\"> 12960 </td>\n",
       "   <td style=\"text-align:right;\"> 73 </td>\n",
       "   <td style=\"text-align:right;\"> 0 </td>\n",
       "   <td style=\"text-align:right;\"> 0 </td>\n",
       "   <td style=\"text-align:right;\"> 0 </td>\n",
       "   <td style=\"text-align:right;\"> 0 </td>\n",
       "   <td style=\"text-align:right;\"> 0 </td>\n",
       "   <td style=\"text-align:right;\"> 0 </td>\n",
       "   <td style=\"text-align:right;\"> 0 </td>\n",
       "   <td style=\"text-align:right;\"> 0 </td>\n",
       "   <td style=\"text-align:right;\"> 0 </td>\n",
       "   <td style=\"text-align:right;\"> 0 </td>\n",
       "   <td style=\"text-align:right;\"> 0 </td>\n",
       "   <td style=\"text-align:right;\"> 0 </td>\n",
       "   <td style=\"text-align:right;\"> 0 </td>\n",
       "   <td style=\"text-align:right;\"> 0 </td>\n",
       "  </tr>\n",
       "  <tr>\n",
       "   <td style=\"text-align:left;\"> 12962 </td>\n",
       "   <td style=\"text-align:left;\"> 12962 </td>\n",
       "   <td style=\"text-align:right;\"> 72 </td>\n",
       "   <td style=\"text-align:right;\"> 0 </td>\n",
       "   <td style=\"text-align:right;\"> 0 </td>\n",
       "   <td style=\"text-align:right;\"> 0 </td>\n",
       "   <td style=\"text-align:right;\"> 0 </td>\n",
       "   <td style=\"text-align:right;\"> 0 </td>\n",
       "   <td style=\"text-align:right;\"> 0 </td>\n",
       "   <td style=\"text-align:right;\"> 0 </td>\n",
       "   <td style=\"text-align:right;\"> 0 </td>\n",
       "   <td style=\"text-align:right;\"> 0 </td>\n",
       "   <td style=\"text-align:right;\"> 0 </td>\n",
       "   <td style=\"text-align:right;\"> 0 </td>\n",
       "   <td style=\"text-align:right;\"> 0 </td>\n",
       "   <td style=\"text-align:right;\"> 0 </td>\n",
       "   <td style=\"text-align:right;\"> 0 </td>\n",
       "  </tr>\n",
       "</tbody>\n",
       "</table>"
      ]
     },
     "metadata": {},
     "output_type": "display_data"
    }
   ],
   "source": [
    "### set file path\n",
    "txt_folder = TXT_FOLDER\n",
    "txt_fdiry  = file.path(FD_DAT, \"external\", txt_folder)\n",
    "txt_fname  = \"K562.hg38.ENCSR615EEK.ENCFF421TJX.RNAseq_total.tsv\"\n",
    "txt_fpath  = file.path(txt_fdiry, txt_fname)\n",
    "\n",
    "### read table\n",
    "dat = read_tsv(txt_fpath, show_col_types = FALSE)\n",
    "\n",
    "### show and assign\n",
    "dat_rnaseq_import = dat\n",
    "print(dim(dat))\n",
    "fun_display_table(head(dat))"
   ]
  },
  {
   "cell_type": "markdown",
   "id": "b651b379-3ddf-4860-b676-e31524c38d16",
   "metadata": {},
   "source": [
    "## Explore data"
   ]
  },
  {
   "cell_type": "markdown",
   "id": "c54be5d3-a880-4942-b10e-2ca65de717f8",
   "metadata": {},
   "source": [
    "Show distribution of gene expression"
   ]
  },
  {
   "cell_type": "code",
   "execution_count": 5,
   "id": "e08a8ce4-1b22-4037-a70a-05c17e749eb4",
   "metadata": {},
   "outputs": [
    {
     "data": {
      "text/plain": [
       "     Min.   1st Qu.    Median      Mean   3rd Qu.      Max. \n",
       "     0.00      0.00      0.00     16.80      0.54 152445.71 "
      ]
     },
     "metadata": {},
     "output_type": "display_data"
    }
   ],
   "source": [
    "dat = dat_rnaseq_import\n",
    "summary(dat$TPM)"
   ]
  },
  {
   "cell_type": "code",
   "execution_count": 6,
   "id": "89aa9d34-1f15-42cb-934b-13f5ac30345e",
   "metadata": {},
   "outputs": [
    {
     "data": {
      "image/png": "[encoded data removed]",
      "text/plain": [
       "plot without title"
      ]
     },
     "metadata": {
      "image/png": {
       "height": 240,
       "width": 300
      }
     },
     "output_type": "display_data"
    }
   ],
   "source": [
    "dat = dat_rnaseq_import\n",
    "dat = dat %>% dplyr::filter(TPM > 0, TPM <= 2000)\n",
    "gpt = ggplot(dat, aes(x=TPM)) +\n",
    "    geom_histogram(bins=30) +\n",
    "    theme_cowplot() +\n",
    "    background_grid()\n",
    "\n",
    "options(repr.plot.height=4, repr.plot.width=5)\n",
    "print(gpt)"
   ]
  },
  {
   "cell_type": "code",
   "execution_count": 7,
   "id": "ef0d1c2a-12e7-435b-a6ff-3d23ca7e3b04",
   "metadata": {},
   "outputs": [
    {
     "data": {
      "image/png": "[encoded data removed]",
      "text/plain": [
       "plot without title"
      ]
     },
     "metadata": {
      "image/png": {
       "height": 240,
       "width": 300
      }
     },
     "output_type": "display_data"
    }
   ],
   "source": [
    "dat = dat_rnaseq_import\n",
    "dat = dat %>% dplyr::filter(TPM > 0, TPM <= 2000)\n",
    "gpt = ggplot(dat, aes(x=TPM)) +\n",
    "    geom_histogram(bins=30) +\n",
    "    scale_y_log10() +\n",
    "    theme_cowplot() +\n",
    "    background_grid()\n",
    "\n",
    "options(repr.plot.height=4, repr.plot.width=5)\n",
    "print(gpt)"
   ]
  },
  {
   "cell_type": "markdown",
   "id": "243f39a4-a330-48e3-a65d-1b24ca433e8b",
   "metadata": {},
   "source": [
    "## Summary"
   ]
  },
  {
   "cell_type": "markdown",
   "id": "adb70015-7ee1-4c88-b231-50d237e7c342",
   "metadata": {},
   "source": [
    "**Number of genes with TPM as zero**"
   ]
  },
  {
   "cell_type": "code",
   "execution_count": 8,
   "id": "fb3064a2-fd93-4be4-9a9c-7495cb9c4bae",
   "metadata": {},
   "outputs": [
    {
     "name": "stdout",
     "output_type": "stream",
     "text": [
      " #{Gene | Total } = 59526 \n",
      " #{Gene | TPM==0} = 33608 \n",
      " #{Gene | TPM >0} = 25918 \n",
      " #{Gene | TPM >1} = 13184 \n"
     ]
    }
   ],
   "source": [
    "### init\n",
    "dat = dat_rnaseq_import\n",
    "\n",
    "### Total\n",
    "tmp  = dat\n",
    "num1 = length(unique(tmp$gene_id))\n",
    "\n",
    "### TPM == 0\n",
    "tmp = dat %>% dplyr::filter(TPM == 0)\n",
    "num2 = length(unique(tmp$gene_id))\n",
    "\n",
    "### TMP > 0\n",
    "tmp = dat %>% dplyr::filter(TPM > 0)\n",
    "num3 = length(unique(tmp$gene_id))\n",
    "\n",
    "### TMP > 1\n",
    "tmp = dat %>% dplyr::filter(TPM > 1)\n",
    "num4 = length(unique(tmp$gene_id))\n",
    "\n",
    "### show\n",
    "cat(\"\",\n",
    "    \"#{Gene | Total } =\", num1, \"\\n\",\n",
    "    \"#{Gene | TPM==0} =\", num2, \"\\n\",\n",
    "    \"#{Gene | TPM >0} =\", num3, \"\\n\",\n",
    "    \"#{Gene | TPM >1} =\", num4, \"\\n\"\n",
    ")"
   ]
  },
  {
   "cell_type": "markdown",
   "id": "c79b1c44-51e7-4871-987c-73f085536d2f",
   "metadata": {},
   "source": [
    "## Save results"
   ]
  },
  {
   "cell_type": "code",
   "execution_count": 9,
   "id": "e6d89841-9e93-4d18-9dab-27a31cf39dc2",
   "metadata": {},
   "outputs": [
    {
     "data": {
      "image/png": "[encoded data removed]",
      "text/plain": [
       "plot without title"
      ]
     },
     "metadata": {
      "image/png": {
       "height": 240,
       "width": 360
      }
     },
     "output_type": "display_data"
    }
   ],
   "source": [
    "### prepare dataframe\n",
    "dat = dat_rnaseq_import\n",
    "dat = dat %>% dplyr::filter(TPM > 0, TPM <= 2000)\n",
    "\n",
    "### set text size\n",
    "theme_text = theme(\n",
    "    title      = element_text(size = 16),\n",
    "    axis.title = element_text(size = 16),\n",
    "    axis.text  = element_text(size = 14)\n",
    ")\n",
    "\n",
    "### create plot\n",
    "gpt = ggplot(dat, aes(x=TPM)) +\n",
    "    geom_histogram(bins=30) +\n",
    "    scale_y_log10() +\n",
    "    theme_cowplot() +\n",
    "    theme_text +\n",
    "    background_grid() +\n",
    "    labs(x = \"TPM\", y = \"Count\", \n",
    "         title = \"Distribution of K562 RNA-seq (TPM > 0)\")\n",
    "\n",
    "### assign and show\n",
    "gpt_export = gpt\n",
    "options(repr.plot.height=4, repr.plot.width=6)\n",
    "print(gpt)"
   ]
  },
  {
   "cell_type": "code",
   "execution_count": 10,
   "id": "1c12d57e-4cf9-4794-b44c-f769d669efae",
   "metadata": {},
   "outputs": [],
   "source": [
    "txt_fdiry = \"./\"\n",
    "txt_fname = \"fig.rnaseq.distribution.tpm.nonzero.below2k.png\"\n",
    "txt_fpath = file.path(txt_fdiry, txt_fname)\n",
    "ggsave(txt_fpath, gpt_export, height = 4, width = 6, units = \"in\")"
   ]
  },
  {
   "cell_type": "code",
   "execution_count": 11,
   "id": "dc974eac-dcf3-4cd0-a23f-00f90839bcf0",
   "metadata": {},
   "outputs": [],
   "source": [
    "txt_fdiry = \"./\"\n",
    "txt_fname = \"fig.rnaseq.distribution.tpm.nonzero.below2k.svg\"\n",
    "txt_fpath = file.path(txt_fdiry, txt_fname)\n",
    "ggsave(txt_fpath, gpt_export, height = 4, width = 6, units = \"in\")"
   ]
  },
  {
   "cell_type": "code",
   "execution_count": null,
   "id": "fd4181e1-6db0-46b0-a77d-ee0e83580e9f",
   "metadata": {},
   "outputs": [],
   "source": []
  }
 ],
 "metadata": {
  "kernelspec": {
   "display_name": "R",
   "language": "R",
   "name": "ir"
  },
  "language_info": {
   "codemirror_mode": "r",
   "file_extension": ".r",
   "mimetype": "text/x-r-source",
   "name": "R",
   "pygments_lexer": "r",
   "version": "4.4.2"
  }
 },
 "nbformat": 4,
 "nbformat_minor": 5
}
