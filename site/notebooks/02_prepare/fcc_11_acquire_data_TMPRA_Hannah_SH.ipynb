{
 "cells": [
  {
   "cell_type": "raw",
   "id": "9854e954-e45c-44f7-9a6d-d8aa6b60a6b7",
   "metadata": {},
   "source": [
    "---\n",
    "title: Prepare Tiling MPRA data 01\n",
    "subtitle: Get K562 MPRA data files from Tewhey lab\n",
    "format:\n",
    "    html:\n",
    "        code-fold:  true\n",
    "        code-tools: true\n",
    "---"
   ]
  },
  {
   "cell_type": "markdown",
   "id": "b9c3e9c3-30f0-498e-bef2-ab6bf5cc3fdf",
   "metadata": {},
   "source": [
    "In this analysis, we are using the unnormalized and normalized MPRA data processed and shared by Hannah from the Tewhey lab."
   ]
  },
  {
   "cell_type": "markdown",
   "id": "66cbeb8b-bca1-4c24-90b2-812485b1fb6c",
   "metadata": {},
   "source": [
    "**Set environment**"
   ]
  },
  {
   "cell_type": "code",
   "execution_count": 1,
   "id": "9f34f622-3844-41b6-9777-ec281dd8e3c6",
   "metadata": {},
   "outputs": [
    {
     "name": "stdout",
     "output_type": "stream",
     "text": [
      "You are working on             Duke Server: HARDAC\n",
      "BASE DIRECTORY (FD_BASE):      /data/reddylab/Kuei\n",
      "REPO DIRECTORY (FD_REPO):      /data/reddylab/Kuei/repo\n",
      "WORK DIRECTORY (FD_WORK):      /data/reddylab/Kuei/work\n",
      "DATA DIRECTORY (FD_DATA):      /data/reddylab/Kuei/data\n",
      "CONTAINER DIR. (FD_SING):      /data/reddylab/Kuei/container\n",
      "\n",
      "You are working with           ENCODE FCC\n",
      "PATH OF PROJECT (FD_PRJ):      /data/reddylab/Kuei/repo/Proj_ENCODE_FCC\n",
      "PROJECT RESULTS (FD_RES):      /data/reddylab/Kuei/repo/Proj_ENCODE_FCC/results\n",
      "PROJECT SCRIPTS (FD_EXE):      /data/reddylab/Kuei/repo/Proj_ENCODE_FCC/scripts\n",
      "PROJECT DATA    (FD_DAT):      /data/reddylab/Kuei/repo/Proj_ENCODE_FCC/data\n",
      "PROJECT NOTE    (FD_NBK):      /data/reddylab/Kuei/repo/Proj_ENCODE_FCC/notebooks\n",
      "PROJECT DOCS    (FD_DOC):      /data/reddylab/Kuei/repo/Proj_ENCODE_FCC/docs\n",
      "PROJECT LOG     (FD_LOG):      /data/reddylab/Kuei/repo/Proj_ENCODE_FCC/log\n",
      "PROJECT APP     (FD_APP):      /data/reddylab/Kuei/repo/Proj_ENCODE_FCC/app\n",
      "PROJECT REF     (FD_REF):      /data/reddylab/Kuei/repo/Proj_ENCODE_FCC/references\n",
      "PROJECT IMAGE   (FP_PRJ_SIF):  /data/reddylab/Kuei/repo/Proj_ENCODE_FCC/app/singularity_proj_encode_fcc.sif\n",
      "\n"
     ]
    }
   ],
   "source": [
    "source ../run_config_project.sh\n",
    "show_env"
   ]
  },
  {
   "cell_type": "markdown",
   "id": "a1418676-eefc-492e-809e-7db9fcad1afb",
   "metadata": {},
   "source": [
    "## Check data"
   ]
  },
  {
   "cell_type": "code",
   "execution_count": 2,
   "id": "a978fad2-e3e2-404d-94bf-8825c4530600",
   "metadata": {},
   "outputs": [
    {
     "name": "stdout",
     "output_type": "stream",
     "text": [
      "\u001b[0m\u001b[38;5;27m/data/reddylab/Kuei/repo/Proj_ENCODE_FCC/data/processed/MPRA_Tiling_K562_Tewhey_Hannah\u001b[0m\u001b[K\n"
     ]
    }
   ],
   "source": [
    "ls -d ${FD_DAT}/processed/MPRA_Tiling*"
   ]
  },
  {
   "cell_type": "code",
   "execution_count": 3,
   "id": "34f87c8e-b4a1-4049-ac7f-a4a5d330942f",
   "metadata": {},
   "outputs": [
    {
     "name": "stdout",
     "output_type": "stream",
     "text": [
      "tiling_counts.tar.gz\n"
     ]
    }
   ],
   "source": [
    "FDIRY=${FD_DAT}/processed/MPRA_Tiling_K562_Tewhey_Hannah\n",
    "FNAME=tiling_counts.tar.gz\n",
    "FPATH=${FDIRY}/${FNAME}\n",
    "\n",
    "ls ${FPATH} | xargs -n 1 basename"
   ]
  },
  {
   "cell_type": "markdown",
   "id": "67d66829-68c7-46dc-b9a7-bfe272ca0170",
   "metadata": {},
   "source": [
    "## Extract data"
   ]
  },
  {
   "cell_type": "code",
   "execution_count": 4,
   "id": "4788ad8c-69d1-4c62-87f1-daa8c8e3180e",
   "metadata": {},
   "outputs": [],
   "source": [
    "FDIRY=${FD_DAT}/processed/MPRA_Tiling_K562_Tewhey_Hannah\n",
    "FNAME=tiling_counts.tar.gz\n",
    "FPATH=${FDIRY}/${FNAME}\n",
    "\n",
    "tar -xf ${FPATH} -C ${FDIRY}"
   ]
  },
  {
   "cell_type": "markdown",
   "id": "b8bb30a3-5f64-4261-b3eb-7a436418f708",
   "metadata": {},
   "source": [
    "## Check results"
   ]
  },
  {
   "cell_type": "code",
   "execution_count": 5,
   "id": "bd7a78bb-e433-4df9-83c6-928b581b1440",
   "metadata": {},
   "outputs": [
    {
     "name": "stdout",
     "output_type": "stream",
     "text": [
      "\u001b[0m\u001b[38;5;27mtiling_counts\u001b[0m\n",
      "\u001b[38;5;9mtiling_counts.tar.gz\u001b[0m\n"
     ]
    }
   ],
   "source": [
    "ls -1 ${FD_DAT}/processed/MPRA_Tiling_K562_Tewhey_Hannah"
   ]
  },
  {
   "cell_type": "code",
   "execution_count": 6,
   "id": "beea2673-df0d-4905-a626-b0632d73d399",
   "metadata": {},
   "outputs": [
    {
     "name": "stdout",
     "output_type": "stream",
     "text": [
      "\u001b[0m\u001b[38;5;34mFADS_tile_snp.20190214.attributes\u001b[0m\n",
      "\u001b[38;5;34mOL13_20220512_counts.out\u001b[0m\n",
      "\u001b[38;5;34mOL13_20220512_normalized_counts.out\u001b[0m\n",
      "\u001b[38;5;34mOL43_20211228_counts.out\u001b[0m\n",
      "\u001b[38;5;34mOL43_20211228_normalized_counts.out\u001b[0m\n",
      "\u001b[38;5;34mOL43_20221003_counts.out\u001b[0m\n",
      "\u001b[38;5;34mOL43_20221003_K562_normalized_counts.out\u001b[0m\n",
      "\u001b[38;5;34mOL43.attributes\u001b[0m\n",
      "\u001b[38;5;34mOL43_K562.bed\u001b[0m\n",
      "\u001b[38;5;34mOL45_20220927_counts.out\u001b[0m\n",
      "\u001b[38;5;34mOL45_20220927_K562_normalized_counts.out\u001b[0m\n",
      "\u001b[38;5;34mOL45.attributes\u001b[0m\n",
      "\u001b[38;5;34mOL45_K562.bed\u001b[0m\n",
      "\u001b[38;5;27mUKBB_GTEx\u001b[0m\n"
     ]
    }
   ],
   "source": [
    "ls ${FD_DAT}/processed/MPRA_Tiling_K562_Tewhey_Hannah/tiling_counts"
   ]
  },
  {
   "cell_type": "code",
   "execution_count": 7,
   "id": "789c1b8b-b347-4528-9a74-a02ed1bc1a6a",
   "metadata": {},
   "outputs": [
    {
     "name": "stdout",
     "output_type": "stream",
     "text": [
      "\u001b[0m\u001b[38;5;34mOL27_20221220_K562_normalized_counts.out\u001b[0m\n",
      "\u001b[38;5;34mOL28_20221220_K562_normalized_counts.out\u001b[0m\n",
      "\u001b[38;5;34mOL29_20221220_K562_normalized_counts.out\u001b[0m\n",
      "\u001b[38;5;34mOL30_20221220_K562_normalized_counts.out\u001b[0m\n",
      "\u001b[38;5;34mOL31_20221220_K562_normalized_counts.out\u001b[0m\n",
      "\u001b[38;5;34mOL32_20221220_K562_normalized_counts.out\u001b[0m\n",
      "\u001b[38;5;34mOL33_20221220_K562_normalized_counts.out\u001b[0m\n",
      "\u001b[38;5;34mOL41_20221220_SKNSH_normalized_counts.out\u001b[0m\n",
      "\u001b[38;5;34mOL41_42_20221220_K562_normalized_counts.out\u001b[0m\n",
      "\u001b[38;5;34mOL41B_20221220_HepG2_normalized_counts.out\u001b[0m\n",
      "\u001b[38;5;34mOL42_20221220_HepG2_normalized_counts.out\u001b[0m\n"
     ]
    }
   ],
   "source": [
    "ls ${FD_DAT}/processed/MPRA_Tiling_K562_Tewhey_Hannah/tiling_counts/UKBB_GTEx"
   ]
  },
  {
   "cell_type": "code",
   "execution_count": null,
   "id": "475b97bd-7576-417d-96b5-0e09fbd320e6",
   "metadata": {},
   "outputs": [],
   "source": []
  }
 ],
 "metadata": {
  "kernelspec": {
   "display_name": "Bash",
   "language": "bash",
   "name": "bash"
  },
  "language_info": {
   "codemirror_mode": "shell",
   "file_extension": ".sh",
   "mimetype": "text/x-sh",
   "name": "bash"
  }
 },
 "nbformat": 4,
 "nbformat_minor": 5
}
