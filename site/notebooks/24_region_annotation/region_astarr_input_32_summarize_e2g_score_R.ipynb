{
 "cells": [
  {
   "cell_type": "raw",
   "id": "38619b69-ae38-4270-a641-b9b274c0d6b5",
   "metadata": {},
   "source": [
    "---\n",
    "title: Annotation of ATAC (ASTARR Input) 32\n",
    "subtitle: Summarize scores with E2G regulated links\n",
    "format:\n",
    "    html:\n",
    "        code-fold:  true\n",
    "        code-tools: true\n",
    "---"
   ]
  },
  {
   "cell_type": "markdown",
   "id": "92117e36-d9af-4e99-a162-5ac85f29753f",
   "metadata": {},
   "source": [
    "**Set environment**"
   ]
  },
  {
   "cell_type": "code",
   "execution_count": 1,
   "id": "38e8f60f-859e-403c-a304-ec7c52e30f35",
   "metadata": {
    "tags": []
   },
   "outputs": [
    {
     "name": "stdout",
     "output_type": "stream",
     "text": [
      "You are working on        Singularity: singularity_proj_encode_fcc \n",
      "BASE DIRECTORY (FD_BASE): /data/reddylab/Kuei \n",
      "REPO DIRECTORY (FD_REPO): /data/reddylab/Kuei/repo \n",
      "WORK DIRECTORY (FD_WORK): /data/reddylab/Kuei/work \n",
      "DATA DIRECTORY (FD_DATA): /data/reddylab/Kuei/data \n",
      "\n",
      "You are working with      ENCODE FCC \n",
      "PATH OF PROJECT (FD_PRJ): /data/reddylab/Kuei/repo/Proj_ENCODE_FCC \n",
      "PROJECT RESULTS (FD_RES): /data/reddylab/Kuei/repo/Proj_ENCODE_FCC/results \n",
      "PROJECT SCRIPTS (FD_EXE): /data/reddylab/Kuei/repo/Proj_ENCODE_FCC/scripts \n",
      "PROJECT DATA    (FD_DAT): /data/reddylab/Kuei/repo/Proj_ENCODE_FCC/data \n",
      "PROJECT NOTE    (FD_NBK): /data/reddylab/Kuei/repo/Proj_ENCODE_FCC/notebooks \n",
      "PROJECT DOCS    (FD_DOC): /data/reddylab/Kuei/repo/Proj_ENCODE_FCC/docs \n",
      "PROJECT LOG     (FD_LOG): /data/reddylab/Kuei/repo/Proj_ENCODE_FCC/log \n",
      "PROJECT REF     (FD_REF): /data/reddylab/Kuei/repo/Proj_ENCODE_FCC/references \n",
      "\n"
     ]
    }
   ],
   "source": [
    "suppressMessages(suppressWarnings(source(\"../run_config_project_sing.R\")))\n",
    "show_env()"
   ]
  },
  {
   "cell_type": "markdown",
   "id": "6dfac859-52d5-41db-924c-6cc000ce63c0",
   "metadata": {},
   "source": [
    "## Prepare"
   ]
  },
  {
   "cell_type": "markdown",
   "id": "dcc83294-103a-4413-9986-3f26da7f125b",
   "metadata": {},
   "source": [
    "**Set global variable**"
   ]
  },
  {
   "cell_type": "code",
   "execution_count": 2,
   "id": "486756b1-036d-47a7-807b-f1fcb40de638",
   "metadata": {},
   "outputs": [
    {
     "name": "stdout",
     "output_type": "stream",
     "text": [
      "fcc_astarr_macs_input_overlap \n",
      "fcc_astarr_macs_input_union \n"
     ]
    }
   ],
   "source": [
    "vec = c(\n",
    "    \"fcc_astarr_macs_input_overlap\",\n",
    "    \"fcc_astarr_macs_input_union\"\n",
    ")\n",
    "names(vec) = vec\n",
    "\n",
    "VEC_TXT_FOLDER = vec\n",
    "for(txt in vec){cat(txt, \"\\n\")}"
   ]
  },
  {
   "cell_type": "code",
   "execution_count": 3,
   "id": "2fab68fd-bea1-47fd-9d80-bf68e6ec8628",
   "metadata": {},
   "outputs": [],
   "source": [
    "TXT_FNAME_ANNOT = \"region.annotation.encode_e2g_benchmark.tsv\""
   ]
  },
  {
   "cell_type": "markdown",
   "id": "884359b2-9db6-4f4c-acc4-5d7fe926470b",
   "metadata": {},
   "source": [
    "**View files**"
   ]
  },
  {
   "cell_type": "code",
   "execution_count": 4,
   "id": "1e271afc-1329-4e0d-82e2-cb3c490dce9d",
   "metadata": {},
   "outputs": [
    {
     "name": "stdout",
     "output_type": "stream",
     "text": [
      "/data/reddylab/Kuei/repo/Proj_ENCODE_FCC/results/region_annotation/fcc_astarr_macs_input_overlap/summary/region.annotation.encode_e2g_benchmark.tsv \n",
      "/data/reddylab/Kuei/repo/Proj_ENCODE_FCC/results/region_annotation/fcc_astarr_macs_input_union/summary/region.annotation.encode_e2g_benchmark.tsv \n"
     ]
    }
   ],
   "source": [
    "txt_fdiry = file.path(FD_RES, \"region_annotation\", \"*\", \"summary\")\n",
    "txt_fname = TXT_FNAME_ANNOT\n",
    "txt_fglob = file.path(txt_fdiry, txt_fname)\n",
    "\n",
    "vec = Sys.glob(txt_fglob)\n",
    "for(txt in vec){cat(txt, \"\\n\")}"
   ]
  },
  {
   "cell_type": "markdown",
   "id": "99aff241-f63a-476f-9ebb-f7571554be68",
   "metadata": {},
   "source": [
    "## Import data"
   ]
  },
  {
   "cell_type": "markdown",
   "id": "844a8a32-6511-4d2f-8c65-c9ae110144b9",
   "metadata": {},
   "source": [
    "**Read region annotation**"
   ]
  },
  {
   "cell_type": "code",
   "execution_count": 5,
   "id": "bc35e766-c9f6-487f-a6b3-2e5f0f52c18f",
   "metadata": {},
   "outputs": [
    {
     "name": "stdout",
     "output_type": "stream",
     "text": [
      "$fcc_astarr_macs_input_overlap\n",
      "[1] 8770   12\n",
      "\n",
      "$fcc_astarr_macs_input_union\n",
      "[1] 9229   12\n",
      "\n"
     ]
    },
    {
     "data": {
      "text/html": [
       "<table>\n",
       " <thead>\n",
       "  <tr>\n",
       "   <th style=\"text-align:left;\"> Chrom </th>\n",
       "   <th style=\"text-align:right;\"> ChromStart </th>\n",
       "   <th style=\"text-align:right;\"> ChromEnd </th>\n",
       "   <th style=\"text-align:left;\"> Region </th>\n",
       "   <th style=\"text-align:left;\"> Group </th>\n",
       "   <th style=\"text-align:left;\"> Label </th>\n",
       "   <th style=\"text-align:left;\"> Target </th>\n",
       "   <th style=\"text-align:right;\"> Score </th>\n",
       "   <th style=\"text-align:right;\"> Zcore </th>\n",
       "   <th style=\"text-align:right;\"> NLog10P </th>\n",
       "   <th style=\"text-align:left;\"> Regulated </th>\n",
       "   <th style=\"text-align:left;\"> Source </th>\n",
       "  </tr>\n",
       " </thead>\n",
       "<tbody>\n",
       "  <tr>\n",
       "   <td style=\"text-align:left;\"> chr1 </td>\n",
       "   <td style=\"text-align:right;\"> 3774056 </td>\n",
       "   <td style=\"text-align:right;\"> 3776283 </td>\n",
       "   <td style=\"text-align:left;\"> chr1:3774056-3776283 </td>\n",
       "   <td style=\"text-align:left;\"> E2G-Benchmark </td>\n",
       "   <td style=\"text-align:left;\"> Regulated:TRUE </td>\n",
       "   <td style=\"text-align:left;\"> CEP104 </td>\n",
       "   <td style=\"text-align:right;\"> -0.2934319 </td>\n",
       "   <td style=\"text-align:right;\"> -4.705144 </td>\n",
       "   <td style=\"text-align:right;\"> 2.395344 </td>\n",
       "   <td style=\"text-align:left;\"> TRUE </td>\n",
       "   <td style=\"text-align:left;\"> Ulirsch2016 </td>\n",
       "  </tr>\n",
       "  <tr>\n",
       "   <td style=\"text-align:left;\"> chr1 </td>\n",
       "   <td style=\"text-align:right;\"> 3774056 </td>\n",
       "   <td style=\"text-align:right;\"> 3776283 </td>\n",
       "   <td style=\"text-align:left;\"> chr1:3774056-3776283 </td>\n",
       "   <td style=\"text-align:left;\"> E2G-Benchmark </td>\n",
       "   <td style=\"text-align:left;\"> Regulated:TRUE </td>\n",
       "   <td style=\"text-align:left;\"> LRRC47 </td>\n",
       "   <td style=\"text-align:right;\"> -0.3311781 </td>\n",
       "   <td style=\"text-align:right;\"> -5.331209 </td>\n",
       "   <td style=\"text-align:right;\"> 2.109514 </td>\n",
       "   <td style=\"text-align:left;\"> TRUE </td>\n",
       "   <td style=\"text-align:left;\"> Ulirsch2016 </td>\n",
       "  </tr>\n",
       "  <tr>\n",
       "   <td style=\"text-align:left;\"> chr1 </td>\n",
       "   <td style=\"text-align:right;\"> 3774056 </td>\n",
       "   <td style=\"text-align:right;\"> 3776283 </td>\n",
       "   <td style=\"text-align:left;\"> chr1:3774056-3776283 </td>\n",
       "   <td style=\"text-align:left;\"> E2G-Benchmark </td>\n",
       "   <td style=\"text-align:left;\"> Regulated:TRUE </td>\n",
       "   <td style=\"text-align:left;\"> SMIM1 </td>\n",
       "   <td style=\"text-align:right;\"> -0.4720192 </td>\n",
       "   <td style=\"text-align:right;\"> -7.667223 </td>\n",
       "   <td style=\"text-align:right;\"> 3.192703 </td>\n",
       "   <td style=\"text-align:left;\"> TRUE </td>\n",
       "   <td style=\"text-align:left;\"> Ulirsch2016 </td>\n",
       "  </tr>\n",
       "</tbody>\n",
       "</table>"
      ]
     },
     "metadata": {},
     "output_type": "display_data"
    }
   ],
   "source": [
    "### loop to import data\n",
    "lst = lapply(VEC_TXT_FOLDER, function(txt_folder){\n",
    "    ### set file directory\n",
    "    txt_fdiry = file.path(FD_RES, \"region_annotation\", txt_folder, \"summary\")\n",
    "    txt_fname = TXT_FNAME_ANNOT\n",
    "    txt_fpath = file.path(txt_fdiry, txt_fname)\n",
    "\n",
    "    ### read table\n",
    "    dat = read_tsv(txt_fpath, show_col_types = FALSE)\n",
    "    return(dat)\n",
    "})\n",
    "names(lst) = VEC_TXT_FOLDER\n",
    "\n",
    "### assign and show\n",
    "lst_dat_region_annot_import = lst\n",
    "\n",
    "res = lapply(lst, dim)\n",
    "print(res)\n",
    "\n",
    "dat = lst[[1]]\n",
    "fun_display_table(head(dat, 3))"
   ]
  },
  {
   "cell_type": "markdown",
   "id": "b7ed566c-c6b9-411e-b040-4c01f350e4a7",
   "metadata": {},
   "source": [
    "**Explore: Score**"
   ]
  },
  {
   "cell_type": "code",
   "execution_count": 6,
   "id": "d78ef326-0c94-422d-988d-09371049d722",
   "metadata": {},
   "outputs": [
    {
     "data": {
      "image/png": "[encoded data removed]",
      "text/plain": [
       "plot without title"
      ]
     },
     "metadata": {
      "image/png": {
       "height": 240,
       "width": 720
      }
     },
     "output_type": "display_data"
    }
   ],
   "source": [
    "lst = lst_dat_region_annot_import\n",
    "lst = lapply(names(lst), function(idx){\n",
    "    txt = paste0(\"ENCODE E2G Score\", \"\\n\", \"Region: \", idx)\n",
    "    dat = lst[[idx]]\n",
    "    gpt = ggplot(dat, aes(x=Score)) + \n",
    "        geom_histogram(bins = 100) + \n",
    "        theme_cowplot() +\n",
    "        background_grid() +\n",
    "        labs(x = \"Score\", y = \"Count\", title = txt)\n",
    "    return(gpt)\n",
    "})\n",
    "options(repr.plot.height=4, repr.plot.width=12)\n",
    "plot_grid(plotlist = lst, nrow=1)"
   ]
  },
  {
   "cell_type": "markdown",
   "id": "95b54dd8-579f-4b56-a9f5-5ca712507751",
   "metadata": {},
   "source": [
    "**Explore: Zcore**"
   ]
  },
  {
   "cell_type": "code",
   "execution_count": 7,
   "id": "f4f9dd9b-67d0-4231-849f-435150eb18fa",
   "metadata": {},
   "outputs": [
    {
     "data": {
      "image/png": "[encoded data removed]",
      "text/plain": [
       "plot without title"
      ]
     },
     "metadata": {
      "image/png": {
       "height": 240,
       "width": 720
      }
     },
     "output_type": "display_data"
    }
   ],
   "source": [
    "lst = lst_dat_region_annot_import\n",
    "lst = lapply(names(lst), function(idx){\n",
    "    txt = paste0(\"ENCODE E2G Score\", \"\\n\", \"Region: \", idx)\n",
    "    dat = lst[[idx]]\n",
    "    gpt = ggplot(dat, aes(x=Zcore)) + \n",
    "        geom_histogram(bins = 100) + \n",
    "        theme_cowplot() +\n",
    "        background_grid() +\n",
    "        labs(x = \"Score\", y = \"Count\", title = txt)\n",
    "    return(gpt)\n",
    "})\n",
    "options(repr.plot.height=4, repr.plot.width=12)\n",
    "plot_grid(plotlist = lst, nrow=1)"
   ]
  },
  {
   "cell_type": "markdown",
   "id": "ec70c7d7-897d-413b-9070-e343a805a203",
   "metadata": {},
   "source": [
    "## Arrange table"
   ]
  },
  {
   "cell_type": "code",
   "execution_count": 8,
   "id": "84e45a94-ed73-4fea-a322-c006fa2b8f27",
   "metadata": {},
   "outputs": [
    {
     "name": "stdout",
     "output_type": "stream",
     "text": [
      "$fcc_astarr_macs_input_overlap\n",
      "[1] 8770    7\n",
      "\n",
      "$fcc_astarr_macs_input_union\n",
      "[1] 9229    7\n",
      "\n"
     ]
    },
    {
     "data": {
      "text/html": [
       "<table class=\"dataframe\">\n",
       "<caption>A tibble: 3 × 7</caption>\n",
       "<thead>\n",
       "\t<tr><th scope=col>Chrom</th><th scope=col>ChromStart</th><th scope=col>ChromEnd</th><th scope=col>Region</th><th scope=col>Score</th><th scope=col>Target</th><th scope=col>Sign</th></tr>\n",
       "\t<tr><th scope=col>&lt;chr&gt;</th><th scope=col>&lt;dbl&gt;</th><th scope=col>&lt;dbl&gt;</th><th scope=col>&lt;chr&gt;</th><th scope=col>&lt;dbl&gt;</th><th scope=col>&lt;chr&gt;</th><th scope=col>&lt;chr&gt;</th></tr>\n",
       "</thead>\n",
       "<tbody>\n",
       "\t<tr><td>chr1</td><td>3774056</td><td>3776283</td><td>chr1:3774056-3776283</td><td>-4.705144</td><td>CEP104</td><td>neg</td></tr>\n",
       "\t<tr><td>chr1</td><td>3774056</td><td>3776283</td><td>chr1:3774056-3776283</td><td>-5.331209</td><td>LRRC47</td><td>neg</td></tr>\n",
       "\t<tr><td>chr1</td><td>3774056</td><td>3776283</td><td>chr1:3774056-3776283</td><td>-7.667223</td><td>SMIM1 </td><td>neg</td></tr>\n",
       "</tbody>\n",
       "</table>\n"
      ],
      "text/latex": [
       "A tibble: 3 × 7\n",
       "\\begin{tabular}{lllllll}\n",
       " Chrom & ChromStart & ChromEnd & Region & Score & Target & Sign\\\\\n",
       " <chr> & <dbl> & <dbl> & <chr> & <dbl> & <chr> & <chr>\\\\\n",
       "\\hline\n",
       "\t chr1 & 3774056 & 3776283 & chr1:3774056-3776283 & -4.705144 & CEP104 & neg\\\\\n",
       "\t chr1 & 3774056 & 3776283 & chr1:3774056-3776283 & -5.331209 & LRRC47 & neg\\\\\n",
       "\t chr1 & 3774056 & 3776283 & chr1:3774056-3776283 & -7.667223 & SMIM1  & neg\\\\\n",
       "\\end{tabular}\n"
      ],
      "text/markdown": [
       "\n",
       "A tibble: 3 × 7\n",
       "\n",
       "| Chrom &lt;chr&gt; | ChromStart &lt;dbl&gt; | ChromEnd &lt;dbl&gt; | Region &lt;chr&gt; | Score &lt;dbl&gt; | Target &lt;chr&gt; | Sign &lt;chr&gt; |\n",
       "|---|---|---|---|---|---|---|\n",
       "| chr1 | 3774056 | 3776283 | chr1:3774056-3776283 | -4.705144 | CEP104 | neg |\n",
       "| chr1 | 3774056 | 3776283 | chr1:3774056-3776283 | -5.331209 | LRRC47 | neg |\n",
       "| chr1 | 3774056 | 3776283 | chr1:3774056-3776283 | -7.667223 | SMIM1  | neg |\n",
       "\n"
      ],
      "text/plain": [
       "  Chrom ChromStart ChromEnd Region               Score     Target Sign\n",
       "1 chr1  3774056    3776283  chr1:3774056-3776283 -4.705144 CEP104 neg \n",
       "2 chr1  3774056    3776283  chr1:3774056-3776283 -5.331209 LRRC47 neg \n",
       "3 chr1  3774056    3776283  chr1:3774056-3776283 -7.667223 SMIM1  neg "
      ]
     },
     "metadata": {},
     "output_type": "display_data"
    }
   ],
   "source": [
    "lst = lst_dat_region_annot_import\n",
    "lst = lapply(lst, function(dat){\n",
    "    ### set score and sign\n",
    "    dat = dat %>% \n",
    "        dplyr::mutate(Score = Zcore) %>%\n",
    "        dplyr::mutate(Sign  = ifelse(Score > 0, \"pos\", \"neg\"))\n",
    "\n",
    "    ### select the columns\n",
    "    dat = dat %>%\n",
    "        dplyr::select(Chrom, ChromStart, ChromEnd, Region, Score, Target, Sign) %>%\n",
    "        dplyr::distinct()\n",
    "    return(dat)\n",
    "})\n",
    "\n",
    "### assign and show\n",
    "lst_dat_region_score_arrange = lst\n",
    "\n",
    "res = lapply(lst, dim)\n",
    "print(res)\n",
    "\n",
    "dat = lst[[1]]\n",
    "head(dat, 3)"
   ]
  },
  {
   "cell_type": "markdown",
   "id": "c0c1d0d5-b459-445e-bd51-e307da519fa9",
   "metadata": {},
   "source": [
    "## Summarize scores by target"
   ]
  },
  {
   "cell_type": "code",
   "execution_count": 9,
   "id": "bdcc8087-c62f-4f3d-9eba-8eb0c7e02a6e",
   "metadata": {},
   "outputs": [
    {
     "name": "stdout",
     "output_type": "stream",
     "text": [
      "$fcc_astarr_macs_input_overlap\n",
      "[1] 8299   12\n",
      "\n",
      "$fcc_astarr_macs_input_union\n",
      "[1] 8640   12\n",
      "\n"
     ]
    },
    {
     "data": {
      "text/html": [
       "<table class=\"dataframe\">\n",
       "<caption>A tibble: 3 × 12</caption>\n",
       "<thead>\n",
       "\t<tr><th scope=col>Chrom</th><th scope=col>ChromStart</th><th scope=col>ChromEnd</th><th scope=col>Region</th><th scope=col>Target</th><th scope=col>Mean</th><th scope=col>Median</th><th scope=col>Max</th><th scope=col>Min</th><th scope=col>Count</th><th scope=col>Mean_Neg</th><th scope=col>Mean_Pos</th></tr>\n",
       "\t<tr><th scope=col>&lt;chr&gt;</th><th scope=col>&lt;dbl&gt;</th><th scope=col>&lt;dbl&gt;</th><th scope=col>&lt;chr&gt;</th><th scope=col>&lt;chr&gt;</th><th scope=col>&lt;dbl&gt;</th><th scope=col>&lt;dbl&gt;</th><th scope=col>&lt;dbl&gt;</th><th scope=col>&lt;dbl&gt;</th><th scope=col>&lt;int&gt;</th><th scope=col>&lt;dbl&gt;</th><th scope=col>&lt;dbl&gt;</th></tr>\n",
       "</thead>\n",
       "<tbody>\n",
       "\t<tr><td>chr1</td><td>3774056</td><td>3776283</td><td>chr1:3774056-3776283</td><td>CEP104</td><td>-4.705144</td><td>-4.705144</td><td>-4.705144</td><td>-4.705144</td><td>1</td><td>-4.705144</td><td>0</td></tr>\n",
       "\t<tr><td>chr1</td><td>3774056</td><td>3776283</td><td>chr1:3774056-3776283</td><td>LRRC47</td><td>-5.331209</td><td>-5.331209</td><td>-5.331209</td><td>-5.331209</td><td>1</td><td>-5.331209</td><td>0</td></tr>\n",
       "\t<tr><td>chr1</td><td>3774056</td><td>3776283</td><td>chr1:3774056-3776283</td><td>SMIM1 </td><td>-7.667223</td><td>-7.667223</td><td>-7.667223</td><td>-7.667223</td><td>1</td><td>-7.667223</td><td>0</td></tr>\n",
       "</tbody>\n",
       "</table>\n"
      ],
      "text/latex": [
       "A tibble: 3 × 12\n",
       "\\begin{tabular}{llllllllllll}\n",
       " Chrom & ChromStart & ChromEnd & Region & Target & Mean & Median & Max & Min & Count & Mean\\_Neg & Mean\\_Pos\\\\\n",
       " <chr> & <dbl> & <dbl> & <chr> & <chr> & <dbl> & <dbl> & <dbl> & <dbl> & <int> & <dbl> & <dbl>\\\\\n",
       "\\hline\n",
       "\t chr1 & 3774056 & 3776283 & chr1:3774056-3776283 & CEP104 & -4.705144 & -4.705144 & -4.705144 & -4.705144 & 1 & -4.705144 & 0\\\\\n",
       "\t chr1 & 3774056 & 3776283 & chr1:3774056-3776283 & LRRC47 & -5.331209 & -5.331209 & -5.331209 & -5.331209 & 1 & -5.331209 & 0\\\\\n",
       "\t chr1 & 3774056 & 3776283 & chr1:3774056-3776283 & SMIM1  & -7.667223 & -7.667223 & -7.667223 & -7.667223 & 1 & -7.667223 & 0\\\\\n",
       "\\end{tabular}\n"
      ],
      "text/markdown": [
       "\n",
       "A tibble: 3 × 12\n",
       "\n",
       "| Chrom &lt;chr&gt; | ChromStart &lt;dbl&gt; | ChromEnd &lt;dbl&gt; | Region &lt;chr&gt; | Target &lt;chr&gt; | Mean &lt;dbl&gt; | Median &lt;dbl&gt; | Max &lt;dbl&gt; | Min &lt;dbl&gt; | Count &lt;int&gt; | Mean_Neg &lt;dbl&gt; | Mean_Pos &lt;dbl&gt; |\n",
       "|---|---|---|---|---|---|---|---|---|---|---|---|\n",
       "| chr1 | 3774056 | 3776283 | chr1:3774056-3776283 | CEP104 | -4.705144 | -4.705144 | -4.705144 | -4.705144 | 1 | -4.705144 | 0 |\n",
       "| chr1 | 3774056 | 3776283 | chr1:3774056-3776283 | LRRC47 | -5.331209 | -5.331209 | -5.331209 | -5.331209 | 1 | -5.331209 | 0 |\n",
       "| chr1 | 3774056 | 3776283 | chr1:3774056-3776283 | SMIM1  | -7.667223 | -7.667223 | -7.667223 | -7.667223 | 1 | -7.667223 | 0 |\n",
       "\n"
      ],
      "text/plain": [
       "  Chrom ChromStart ChromEnd Region               Target Mean      Median   \n",
       "1 chr1  3774056    3776283  chr1:3774056-3776283 CEP104 -4.705144 -4.705144\n",
       "2 chr1  3774056    3776283  chr1:3774056-3776283 LRRC47 -5.331209 -5.331209\n",
       "3 chr1  3774056    3776283  chr1:3774056-3776283 SMIM1  -7.667223 -7.667223\n",
       "  Max       Min       Count Mean_Neg  Mean_Pos\n",
       "1 -4.705144 -4.705144 1     -4.705144 0       \n",
       "2 -5.331209 -5.331209 1     -5.331209 0       \n",
       "3 -7.667223 -7.667223 1     -7.667223 0       "
      ]
     },
     "metadata": {},
     "output_type": "display_data"
    }
   ],
   "source": [
    "lst = lst_dat_region_score_arrange\n",
    "lst = lapply(lst, function(dat){\n",
    "    ### summarize scores by each target\n",
    "    dat_summary_total = dat %>%\n",
    "        dplyr::group_by(Chrom, ChromStart, ChromEnd, Region, Target) %>%\n",
    "        dplyr::summarise(\n",
    "            Mean    = mean(Score),\n",
    "            Median  = median(Score),\n",
    "            Max     = max(Score),\n",
    "            Min     = min(Score),\n",
    "            Count   = n(),\n",
    "            .groups = \"drop\"\n",
    "        )\n",
    "    \n",
    "    ### summarize scores by sign (direction)\n",
    "    dat_summary_sign = dat %>%\n",
    "        dplyr::group_by(Chrom, ChromStart, ChromEnd, Region, Target, Sign) %>%\n",
    "        dplyr::summarise(Mean = mean(Score), .groups = \"drop\") %>% \n",
    "        dplyr::mutate(Sign = dplyr::recode(Sign, `pos` = \"Mean_Pos\", `neg` = \"Mean_Neg\")) %>% \n",
    "        tidyr::spread(Sign, Mean)\n",
    "    \n",
    "    ### merge the results\n",
    "    vec = c(\"Chrom\", \"ChromStart\", \"ChromEnd\", \"Region\", \"Target\")\n",
    "    dat = dplyr::left_join(\n",
    "        dat_summary_total,\n",
    "        dat_summary_sign,\n",
    "        by = vec) %>% \n",
    "        replace(is.na(.), 0)\n",
    "    return(dat)\n",
    "})\n",
    "\n",
    "### assign and show\n",
    "lst_dat_region_score_by_target = lst\n",
    "\n",
    "res = lapply(lst, dim)\n",
    "print(res)\n",
    "\n",
    "dat = lst[[1]]\n",
    "head(dat, 3)"
   ]
  },
  {
   "cell_type": "markdown",
   "id": "9ac8d251-399c-4837-b1a0-ff60f5ba0422",
   "metadata": {},
   "source": [
    "## Futher summarize scores across different targets"
   ]
  },
  {
   "cell_type": "code",
   "execution_count": 10,
   "id": "612d906f-b26f-4303-a5f2-17756cda4457",
   "metadata": {},
   "outputs": [
    {
     "name": "stdout",
     "output_type": "stream",
     "text": [
      "$fcc_astarr_macs_input_overlap\n",
      "[1] 3035    9\n",
      "\n",
      "$fcc_astarr_macs_input_union\n",
      "[1] 3169    9\n",
      "\n"
     ]
    },
    {
     "data": {
      "text/html": [
       "<table class=\"dataframe\">\n",
       "<caption>A tibble: 3 × 9</caption>\n",
       "<thead>\n",
       "\t<tr><th scope=col>Chrom</th><th scope=col>ChromStart</th><th scope=col>ChromEnd</th><th scope=col>Region</th><th scope=col>Mean</th><th scope=col>Mean_Pos</th><th scope=col>Mean_Neg</th><th scope=col>Count</th><th scope=col>Note</th></tr>\n",
       "\t<tr><th scope=col>&lt;chr&gt;</th><th scope=col>&lt;dbl&gt;</th><th scope=col>&lt;dbl&gt;</th><th scope=col>&lt;chr&gt;</th><th scope=col>&lt;dbl&gt;</th><th scope=col>&lt;dbl&gt;</th><th scope=col>&lt;dbl&gt;</th><th scope=col>&lt;int&gt;</th><th scope=col>&lt;chr&gt;</th></tr>\n",
       "</thead>\n",
       "<tbody>\n",
       "\t<tr><td>chr1</td><td>3774056</td><td>3776283</td><td>chr1:3774056-3776283</td><td>-5.9011920</td><td>0.0000000</td><td>-7.667223</td><td>3</td><td>CEP104:3|LRRC47:3|SMIM1:3</td></tr>\n",
       "\t<tr><td>chr1</td><td>3803955</td><td>3806146</td><td>chr1:3803955-3806146</td><td> 0.3625040</td><td>0.5876462</td><td> 0.000000</td><td>2</td><td>LRRC47:2|SMIM1:2         </td></tr>\n",
       "\t<tr><td>chr1</td><td>4126841</td><td>4128109</td><td>chr1:4126841-4128109</td><td> 0.5496118</td><td>0.5496118</td><td> 0.000000</td><td>1</td><td>SMIM1:1                  </td></tr>\n",
       "</tbody>\n",
       "</table>\n"
      ],
      "text/latex": [
       "A tibble: 3 × 9\n",
       "\\begin{tabular}{lllllllll}\n",
       " Chrom & ChromStart & ChromEnd & Region & Mean & Mean\\_Pos & Mean\\_Neg & Count & Note\\\\\n",
       " <chr> & <dbl> & <dbl> & <chr> & <dbl> & <dbl> & <dbl> & <int> & <chr>\\\\\n",
       "\\hline\n",
       "\t chr1 & 3774056 & 3776283 & chr1:3774056-3776283 & -5.9011920 & 0.0000000 & -7.667223 & 3 & CEP104:3\\textbar{}LRRC47:3\\textbar{}SMIM1:3\\\\\n",
       "\t chr1 & 3803955 & 3806146 & chr1:3803955-3806146 &  0.3625040 & 0.5876462 &  0.000000 & 2 & LRRC47:2\\textbar{}SMIM1:2         \\\\\n",
       "\t chr1 & 4126841 & 4128109 & chr1:4126841-4128109 &  0.5496118 & 0.5496118 &  0.000000 & 1 & SMIM1:1                  \\\\\n",
       "\\end{tabular}\n"
      ],
      "text/markdown": [
       "\n",
       "A tibble: 3 × 9\n",
       "\n",
       "| Chrom &lt;chr&gt; | ChromStart &lt;dbl&gt; | ChromEnd &lt;dbl&gt; | Region &lt;chr&gt; | Mean &lt;dbl&gt; | Mean_Pos &lt;dbl&gt; | Mean_Neg &lt;dbl&gt; | Count &lt;int&gt; | Note &lt;chr&gt; |\n",
       "|---|---|---|---|---|---|---|---|---|\n",
       "| chr1 | 3774056 | 3776283 | chr1:3774056-3776283 | -5.9011920 | 0.0000000 | -7.667223 | 3 | CEP104:3|LRRC47:3|SMIM1:3 |\n",
       "| chr1 | 3803955 | 3806146 | chr1:3803955-3806146 |  0.3625040 | 0.5876462 |  0.000000 | 2 | LRRC47:2|SMIM1:2          |\n",
       "| chr1 | 4126841 | 4128109 | chr1:4126841-4128109 |  0.5496118 | 0.5496118 |  0.000000 | 1 | SMIM1:1                   |\n",
       "\n"
      ],
      "text/plain": [
       "  Chrom ChromStart ChromEnd Region               Mean       Mean_Pos  Mean_Neg \n",
       "1 chr1  3774056    3776283  chr1:3774056-3776283 -5.9011920 0.0000000 -7.667223\n",
       "2 chr1  3803955    3806146  chr1:3803955-3806146  0.3625040 0.5876462  0.000000\n",
       "3 chr1  4126841    4128109  chr1:4126841-4128109  0.5496118 0.5496118  0.000000\n",
       "  Count Note                     \n",
       "1 3     CEP104:3|LRRC47:3|SMIM1:3\n",
       "2 2     LRRC47:2|SMIM1:2         \n",
       "3 1     SMIM1:1                  "
      ]
     },
     "metadata": {},
     "output_type": "display_data"
    }
   ],
   "source": [
    "lst = lst_dat_region_score_by_target\n",
    "lst = lapply(lst, function(dat){\n",
    "    ### summarize mean(scores) across different targets\n",
    "    dat = dat %>% \n",
    "        dplyr::group_by(Chrom, ChromStart, ChromEnd, Region) %>%\n",
    "        dplyr::summarize(\n",
    "            Mean_Tot = mean(Mean),\n",
    "            Mean_Pos = max(Mean, 0),\n",
    "            Mean_Neg = min(Mean, 0),\n",
    "            Count    = sum(Count),\n",
    "            Note     = paste(Target, Count, sep=\":\", collapse=\"|\"),\n",
    "            .groups  = \"drop\"\n",
    "        ) %>%\n",
    "        dplyr::rename(\"Mean\" = \"Mean_Tot\")\n",
    "    return(dat)\n",
    "})\n",
    "\n",
    "### assign and show\n",
    "lst_dat_region_score_merge = lst\n",
    "\n",
    "res = lapply(lst, dim)\n",
    "print(res)\n",
    "\n",
    "dat = lst[[1]]\n",
    "head(dat, 3)"
   ]
  },
  {
   "cell_type": "markdown",
   "id": "54f97710-b3ad-495f-ae78-4603eec36e93",
   "metadata": {},
   "source": [
    "**Explore: Count**"
   ]
  },
  {
   "cell_type": "code",
   "execution_count": 11,
   "id": "98cac7a5-81ed-4261-8f68-1eb96d8f0c8f",
   "metadata": {},
   "outputs": [
    {
     "data": {
      "text/html": [
       "<table>\n",
       " <thead>\n",
       "  <tr>\n",
       "   <th style=\"text-align:left;\"> Count </th>\n",
       "   <th style=\"text-align:right;\"> fcc_astarr_macs_input_overlap </th>\n",
       "   <th style=\"text-align:right;\"> fcc_astarr_macs_input_union </th>\n",
       "  </tr>\n",
       " </thead>\n",
       "<tbody>\n",
       "  <tr>\n",
       "   <td style=\"text-align:left;\"> 1 </td>\n",
       "   <td style=\"text-align:right;\"> 1345 </td>\n",
       "   <td style=\"text-align:right;\"> 1399 </td>\n",
       "  </tr>\n",
       "  <tr>\n",
       "   <td style=\"text-align:left;\"> 2 </td>\n",
       "   <td style=\"text-align:right;\"> 529 </td>\n",
       "   <td style=\"text-align:right;\"> 555 </td>\n",
       "  </tr>\n",
       "  <tr>\n",
       "   <td style=\"text-align:left;\"> 3 </td>\n",
       "   <td style=\"text-align:right;\"> 306 </td>\n",
       "   <td style=\"text-align:right;\"> 310 </td>\n",
       "  </tr>\n",
       "  <tr>\n",
       "   <td style=\"text-align:left;\"> 4 </td>\n",
       "   <td style=\"text-align:right;\"> 309 </td>\n",
       "   <td style=\"text-align:right;\"> 326 </td>\n",
       "  </tr>\n",
       "  <tr>\n",
       "   <td style=\"text-align:left;\"> 5 </td>\n",
       "   <td style=\"text-align:right;\"> 165 </td>\n",
       "   <td style=\"text-align:right;\"> 176 </td>\n",
       "  </tr>\n",
       "  <tr>\n",
       "   <td style=\"text-align:left;\"> 6 </td>\n",
       "   <td style=\"text-align:right;\"> 133 </td>\n",
       "   <td style=\"text-align:right;\"> 138 </td>\n",
       "  </tr>\n",
       "  <tr>\n",
       "   <td style=\"text-align:left;\"> 7 </td>\n",
       "   <td style=\"text-align:right;\"> 44 </td>\n",
       "   <td style=\"text-align:right;\"> 45 </td>\n",
       "  </tr>\n",
       "  <tr>\n",
       "   <td style=\"text-align:left;\"> 8 </td>\n",
       "   <td style=\"text-align:right;\"> 42 </td>\n",
       "   <td style=\"text-align:right;\"> 46 </td>\n",
       "  </tr>\n",
       "  <tr>\n",
       "   <td style=\"text-align:left;\"> 9 </td>\n",
       "   <td style=\"text-align:right;\"> 16 </td>\n",
       "   <td style=\"text-align:right;\"> 20 </td>\n",
       "  </tr>\n",
       "  <tr>\n",
       "   <td style=\"text-align:left;\"> 10 </td>\n",
       "   <td style=\"text-align:right;\"> 30 </td>\n",
       "   <td style=\"text-align:right;\"> 29 </td>\n",
       "  </tr>\n",
       "  <tr>\n",
       "   <td style=\"text-align:left;\"> 11 </td>\n",
       "   <td style=\"text-align:right;\"> 65 </td>\n",
       "   <td style=\"text-align:right;\"> 69 </td>\n",
       "  </tr>\n",
       "  <tr>\n",
       "   <td style=\"text-align:left;\"> 12 </td>\n",
       "   <td style=\"text-align:right;\"> 21 </td>\n",
       "   <td style=\"text-align:right;\"> 23 </td>\n",
       "  </tr>\n",
       "  <tr>\n",
       "   <td style=\"text-align:left;\"> 13 </td>\n",
       "   <td style=\"text-align:right;\"> 4 </td>\n",
       "   <td style=\"text-align:right;\"> 5 </td>\n",
       "  </tr>\n",
       "  <tr>\n",
       "   <td style=\"text-align:left;\"> 14 </td>\n",
       "   <td style=\"text-align:right;\"> 5 </td>\n",
       "   <td style=\"text-align:right;\"> 5 </td>\n",
       "  </tr>\n",
       "  <tr>\n",
       "   <td style=\"text-align:left;\"> 16 </td>\n",
       "   <td style=\"text-align:right;\"> 6 </td>\n",
       "   <td style=\"text-align:right;\"> 6 </td>\n",
       "  </tr>\n",
       "  <tr>\n",
       "   <td style=\"text-align:left;\"> 17 </td>\n",
       "   <td style=\"text-align:right;\"> 2 </td>\n",
       "   <td style=\"text-align:right;\"> 2 </td>\n",
       "  </tr>\n",
       "  <tr>\n",
       "   <td style=\"text-align:left;\"> 18 </td>\n",
       "   <td style=\"text-align:right;\"> 2 </td>\n",
       "   <td style=\"text-align:right;\"> 2 </td>\n",
       "  </tr>\n",
       "  <tr>\n",
       "   <td style=\"text-align:left;\"> 19 </td>\n",
       "   <td style=\"text-align:right;\"> 2 </td>\n",
       "   <td style=\"text-align:right;\"> 2 </td>\n",
       "  </tr>\n",
       "  <tr>\n",
       "   <td style=\"text-align:left;\"> 20 </td>\n",
       "   <td style=\"text-align:right;\"> 1 </td>\n",
       "   <td style=\"text-align:right;\"> 1 </td>\n",
       "  </tr>\n",
       "  <tr>\n",
       "   <td style=\"text-align:left;\"> 21 </td>\n",
       "   <td style=\"text-align:right;\"> 2 </td>\n",
       "   <td style=\"text-align:right;\"> 4 </td>\n",
       "  </tr>\n",
       "  <tr>\n",
       "   <td style=\"text-align:left;\"> 22 </td>\n",
       "   <td style=\"text-align:right;\"> 3 </td>\n",
       "   <td style=\"text-align:right;\"> 3 </td>\n",
       "  </tr>\n",
       "  <tr>\n",
       "   <td style=\"text-align:left;\"> 24 </td>\n",
       "   <td style=\"text-align:right;\"> 1 </td>\n",
       "   <td style=\"text-align:right;\"> 1 </td>\n",
       "  </tr>\n",
       "  <tr>\n",
       "   <td style=\"text-align:left;\"> 28 </td>\n",
       "   <td style=\"text-align:right;\"> 1 </td>\n",
       "   <td style=\"text-align:right;\"> 1 </td>\n",
       "  </tr>\n",
       "  <tr>\n",
       "   <td style=\"text-align:left;\"> 29 </td>\n",
       "   <td style=\"text-align:right;\"> 1 </td>\n",
       "   <td style=\"text-align:right;\"> 1 </td>\n",
       "  </tr>\n",
       "</tbody>\n",
       "</table>"
      ]
     },
     "metadata": {},
     "output_type": "display_data"
    }
   ],
   "source": [
    "lst = lst_dat_region_score_merge\n",
    "lst = lapply(lst, function(dat){\n",
    "    res = table(dat$Count, dnn = \"Count\")\n",
    "    dat = as.data.frame(res)\n",
    "    return(dat)\n",
    "})\n",
    "\n",
    "dat = bind_rows(lst, .id = \"Folder\")\n",
    "dat = dat %>% tidyr::spread(Folder, Freq)\n",
    "fun_display_table(dat)"
   ]
  },
  {
   "cell_type": "markdown",
   "id": "e3f72ef5-6d4b-4223-9744-0cadacc43a49",
   "metadata": {},
   "source": [
    "**Explore: Score**"
   ]
  },
  {
   "cell_type": "code",
   "execution_count": 12,
   "id": "c3155b55-3fa8-4a31-87e3-c6843691f866",
   "metadata": {},
   "outputs": [
    {
     "data": {
      "image/png": "[encoded data removed]",
      "text/plain": [
       "plot without title"
      ]
     },
     "metadata": {
      "image/png": {
       "height": 240,
       "width": 720
      }
     },
     "output_type": "display_data"
    }
   ],
   "source": [
    "lst = lst_dat_region_score_merge\n",
    "lst = lapply(names(lst), function(idx){\n",
    "    txt = paste0(\"ENCODE E2G Score\", \"\\n\", \"Region: \", idx)\n",
    "    dat = lst[[idx]]\n",
    "    gpt = ggplot(dat, aes(x=Mean)) + \n",
    "        geom_histogram(bins = 100) + \n",
    "        theme_cowplot() +\n",
    "        background_grid() +\n",
    "        labs(x = \"Score\", y = \"Count\", title = txt)\n",
    "    return(gpt)\n",
    "})\n",
    "options(repr.plot.height=4, repr.plot.width=12)\n",
    "plot_grid(plotlist = lst, nrow=1)"
   ]
  },
  {
   "cell_type": "markdown",
   "id": "cca15af2-9d42-4c4c-8e7c-aa852d01aa42",
   "metadata": {},
   "source": [
    "## Export"
   ]
  },
  {
   "cell_type": "code",
   "execution_count": 13,
   "id": "d0acbc6b-ab0b-4fe2-bf4e-decd7f33e1a6",
   "metadata": {},
   "outputs": [],
   "source": [
    "for (txt_folder in VEC_TXT_FOLDER){\n",
    "\n",
    "    ### get tables\n",
    "    dat_region_score_target = lst_dat_region_score_by_target[[txt_folder]]\n",
    "    dat_region_score_merge  = lst_dat_region_score_merge[[txt_folder]]\n",
    "    \n",
    "    ### set file directory\n",
    "    txt_fdiry = file.path(\n",
    "        FD_RES, \n",
    "        \"region_annotation\", \n",
    "        txt_folder,\n",
    "        \"summary\"\n",
    "    )\n",
    "    \n",
    "    ### write table (summarize by target)\n",
    "    txt_fname = \"region.annotation.encode_e2g_benchmark.score.target.tsv\"\n",
    "    txt_fpath = file.path(txt_fdiry, txt_fname)\n",
    "    \n",
    "    dat = dat_region_score_target\n",
    "    dat = dat %>% dplyr::arrange(Chrom, ChromStart, ChromEnd)\n",
    "    write_tsv(dat, txt_fpath)\n",
    "\n",
    "    ### write table (average across targets)\n",
    "    txt_fname = \"region.annotation.encode_e2g_benchmark.score.merge.tsv\"\n",
    "    txt_fpath = file.path(txt_fdiry, txt_fname)\n",
    "    \n",
    "    dat = dat_region_score_merge\n",
    "    dat = dat %>% dplyr::arrange(Chrom, ChromStart, ChromEnd)\n",
    "    write_tsv(dat, txt_fpath)\n",
    "}"
   ]
  }
 ],
 "metadata": {
  "kernelspec": {
   "display_name": "R",
   "language": "R",
   "name": "ir"
  },
  "language_info": {
   "codemirror_mode": "r",
   "file_extension": ".r",
   "mimetype": "text/x-r-source",
   "name": "R",
   "pygments_lexer": "r",
   "version": "4.5.1"
  }
 },
 "nbformat": 4,
 "nbformat_minor": 5
}
