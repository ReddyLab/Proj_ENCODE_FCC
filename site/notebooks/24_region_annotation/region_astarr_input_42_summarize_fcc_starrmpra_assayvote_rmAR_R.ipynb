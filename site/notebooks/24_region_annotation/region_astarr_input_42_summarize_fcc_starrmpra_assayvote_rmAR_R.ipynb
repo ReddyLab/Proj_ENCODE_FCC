{
 "cells": [
  {
   "cell_type": "raw",
   "id": "7fdd582c-1d08-492d-a2e7-df210c39b9f6",
   "metadata": {},
   "source": [
    "---\n",
    "title: Annotation of ATAC (ASTARR Input) 42\n",
    "subtitle: Summarize assay votes from STARR/MPRA by directions (remove AR)\n",
    "format:\n",
    "    html:\n",
    "        code-fold:  true\n",
    "        code-tools: true\n",
    "---"
   ]
  },
  {
   "cell_type": "markdown",
   "id": "72c44197-aee9-4b1a-9e8b-349f015fdabd",
   "metadata": {},
   "source": [
    "**Set environment**"
   ]
  },
  {
   "cell_type": "code",
   "execution_count": 1,
   "id": "b2a08c7b-de9e-457f-9579-2021df7bdc3a",
   "metadata": {
    "tags": []
   },
   "outputs": [
    {
     "name": "stdout",
     "output_type": "stream",
     "text": [
      "You are working on        Singularity: singularity_proj_encode_fcc \n",
      "BASE DIRECTORY (FD_BASE): /data/reddylab/Kuei \n",
      "REPO DIRECTORY (FD_REPO): /data/reddylab/Kuei/repo \n",
      "WORK DIRECTORY (FD_WORK): /data/reddylab/Kuei/work \n",
      "DATA DIRECTORY (FD_DATA): /data/reddylab/Kuei/data \n",
      "\n",
      "You are working with      ENCODE FCC \n",
      "PATH OF PROJECT (FD_PRJ): /data/reddylab/Kuei/repo/Proj_ENCODE_FCC \n",
      "PROJECT RESULTS (FD_RES): /data/reddylab/Kuei/repo/Proj_ENCODE_FCC/results \n",
      "PROJECT SCRIPTS (FD_EXE): /data/reddylab/Kuei/repo/Proj_ENCODE_FCC/scripts \n",
      "PROJECT DATA    (FD_DAT): /data/reddylab/Kuei/repo/Proj_ENCODE_FCC/data \n",
      "PROJECT NOTE    (FD_NBK): /data/reddylab/Kuei/repo/Proj_ENCODE_FCC/notebooks \n",
      "PROJECT DOCS    (FD_DOC): /data/reddylab/Kuei/repo/Proj_ENCODE_FCC/docs \n",
      "PROJECT LOG     (FD_LOG): /data/reddylab/Kuei/repo/Proj_ENCODE_FCC/log \n",
      "PROJECT REF     (FD_REF): /data/reddylab/Kuei/repo/Proj_ENCODE_FCC/references \n",
      "\n"
     ]
    }
   ],
   "source": [
    "suppressMessages(suppressWarnings(source(\"../run_config_project_sing.R\")))\n",
    "show_env()"
   ]
  },
  {
   "cell_type": "markdown",
   "id": "32e97f84-baa1-4c57-8509-2a91fbae9699",
   "metadata": {},
   "source": [
    "## Prepare"
   ]
  },
  {
   "cell_type": "markdown",
   "id": "97ab18d8-c139-4db6-b6ec-dfe80ee2fc4d",
   "metadata": {},
   "source": [
    "**Set global variable**"
   ]
  },
  {
   "cell_type": "code",
   "execution_count": 2,
   "id": "bc6a0160-3057-4866-98a2-51c08a015226",
   "metadata": {},
   "outputs": [
    {
     "name": "stdout",
     "output_type": "stream",
     "text": [
      "fcc_astarr_macs_input_overlap \n",
      "fcc_astarr_macs_input_union \n"
     ]
    }
   ],
   "source": [
    "vec = c(\n",
    "    \"fcc_astarr_macs_input_overlap\",\n",
    "    \"fcc_astarr_macs_input_union\"\n",
    ")\n",
    "names(vec) = vec\n",
    "\n",
    "VEC_TXT_FOLDER = vec\n",
    "for(txt in vec){cat(txt, \"\\n\")}"
   ]
  },
  {
   "cell_type": "code",
   "execution_count": 3,
   "id": "5a0925e3-f95f-4906-a4b2-7b6665d62741",
   "metadata": {},
   "outputs": [],
   "source": [
    "TXT_FNAME_ANNOT = \"matrix.annotation.fcc_starrmpra_junke.merge_direction.tsv\""
   ]
  },
  {
   "cell_type": "markdown",
   "id": "34605536-a2b6-4fd3-a3e5-b038a82eecdc",
   "metadata": {},
   "source": [
    "**View files**"
   ]
  },
  {
   "cell_type": "code",
   "execution_count": 4,
   "id": "94bf85f0-8eff-4ac3-b864-2e451473d7bd",
   "metadata": {},
   "outputs": [
    {
     "name": "stdout",
     "output_type": "stream",
     "text": [
      "/data/reddylab/Kuei/repo/Proj_ENCODE_FCC/results/region_annotation/fcc_astarr_macs_input_overlap/summary/matrix.annotation.fcc_starrmpra_junke.merge_direction.tsv \n",
      "/data/reddylab/Kuei/repo/Proj_ENCODE_FCC/results/region_annotation/fcc_astarr_macs_input_union/summary/matrix.annotation.fcc_starrmpra_junke.merge_direction.tsv \n"
     ]
    }
   ],
   "source": [
    "txt_fdiry = file.path(FD_RES, \"region_annotation\", \"*\", \"summary\")\n",
    "txt_fname = TXT_FNAME_ANNOT\n",
    "txt_fglob = file.path(txt_fdiry, txt_fname)\n",
    "\n",
    "vec = Sys.glob(txt_fglob)\n",
    "for(txt in vec){cat(txt, \"\\n\")}"
   ]
  },
  {
   "cell_type": "markdown",
   "id": "f7b5b1af-0cab-4bba-ae5e-1db9e5e811af",
   "metadata": {},
   "source": [
    "## Import data"
   ]
  },
  {
   "cell_type": "code",
   "execution_count": 5,
   "id": "a70342b5-d367-4d4a-b919-4cca4f1a5aa2",
   "metadata": {},
   "outputs": [
    {
     "name": "stdout",
     "output_type": "stream",
     "text": [
      "$fcc_astarr_macs_input_overlap\n",
      "[1] 99749    16\n",
      "\n",
      "$fcc_astarr_macs_input_union\n",
      "[1] 135016     16\n",
      "\n"
     ]
    },
    {
     "data": {
      "text/html": [
       "<table>\n",
       " <thead>\n",
       "  <tr>\n",
       "   <th style=\"text-align:left;\"> Chrom </th>\n",
       "   <th style=\"text-align:right;\"> ChromStart </th>\n",
       "   <th style=\"text-align:right;\"> ChromEnd </th>\n",
       "   <th style=\"text-align:left;\"> Region </th>\n",
       "   <th style=\"text-align:right;\"> ASTARR_A </th>\n",
       "   <th style=\"text-align:right;\"> ASTARR_AR </th>\n",
       "   <th style=\"text-align:right;\"> ASTARR_R </th>\n",
       "   <th style=\"text-align:right;\"> LMPRA_A </th>\n",
       "   <th style=\"text-align:right;\"> LMPRA_AR </th>\n",
       "   <th style=\"text-align:right;\"> LMPRA_R </th>\n",
       "   <th style=\"text-align:right;\"> TMPRA_A </th>\n",
       "   <th style=\"text-align:right;\"> TMPRA_AR </th>\n",
       "   <th style=\"text-align:right;\"> TMPRA_R </th>\n",
       "   <th style=\"text-align:right;\"> WSTARR_A </th>\n",
       "   <th style=\"text-align:right;\"> WSTARR_AR </th>\n",
       "   <th style=\"text-align:right;\"> WSTARR_R </th>\n",
       "  </tr>\n",
       " </thead>\n",
       "<tbody>\n",
       "  <tr>\n",
       "   <td style=\"text-align:left;\"> chr1 </td>\n",
       "   <td style=\"text-align:right;\"> 10038 </td>\n",
       "   <td style=\"text-align:right;\"> 10405 </td>\n",
       "   <td style=\"text-align:left;\"> chr1:10038-10405 </td>\n",
       "   <td style=\"text-align:right;\"> 0 </td>\n",
       "   <td style=\"text-align:right;\"> 0 </td>\n",
       "   <td style=\"text-align:right;\"> 1 </td>\n",
       "   <td style=\"text-align:right;\"> 0 </td>\n",
       "   <td style=\"text-align:right;\"> 0 </td>\n",
       "   <td style=\"text-align:right;\"> 0 </td>\n",
       "   <td style=\"text-align:right;\"> 0 </td>\n",
       "   <td style=\"text-align:right;\"> 0 </td>\n",
       "   <td style=\"text-align:right;\"> 0 </td>\n",
       "   <td style=\"text-align:right;\"> 0 </td>\n",
       "   <td style=\"text-align:right;\"> 0 </td>\n",
       "   <td style=\"text-align:right;\"> 0 </td>\n",
       "  </tr>\n",
       "  <tr>\n",
       "   <td style=\"text-align:left;\"> chr1 </td>\n",
       "   <td style=\"text-align:right;\"> 16025 </td>\n",
       "   <td style=\"text-align:right;\"> 16338 </td>\n",
       "   <td style=\"text-align:left;\"> chr1:16025-16338 </td>\n",
       "   <td style=\"text-align:right;\"> 0 </td>\n",
       "   <td style=\"text-align:right;\"> 0 </td>\n",
       "   <td style=\"text-align:right;\"> 1 </td>\n",
       "   <td style=\"text-align:right;\"> 0 </td>\n",
       "   <td style=\"text-align:right;\"> 0 </td>\n",
       "   <td style=\"text-align:right;\"> 0 </td>\n",
       "   <td style=\"text-align:right;\"> 0 </td>\n",
       "   <td style=\"text-align:right;\"> 0 </td>\n",
       "   <td style=\"text-align:right;\"> 0 </td>\n",
       "   <td style=\"text-align:right;\"> 0 </td>\n",
       "   <td style=\"text-align:right;\"> 0 </td>\n",
       "   <td style=\"text-align:right;\"> 0 </td>\n",
       "  </tr>\n",
       "  <tr>\n",
       "   <td style=\"text-align:left;\"> chr1 </td>\n",
       "   <td style=\"text-align:right;\"> 17288 </td>\n",
       "   <td style=\"text-align:right;\"> 17689 </td>\n",
       "   <td style=\"text-align:left;\"> chr1:17288-17689 </td>\n",
       "   <td style=\"text-align:right;\"> 0 </td>\n",
       "   <td style=\"text-align:right;\"> 0 </td>\n",
       "   <td style=\"text-align:right;\"> 1 </td>\n",
       "   <td style=\"text-align:right;\"> 0 </td>\n",
       "   <td style=\"text-align:right;\"> 0 </td>\n",
       "   <td style=\"text-align:right;\"> 0 </td>\n",
       "   <td style=\"text-align:right;\"> 0 </td>\n",
       "   <td style=\"text-align:right;\"> 0 </td>\n",
       "   <td style=\"text-align:right;\"> 0 </td>\n",
       "   <td style=\"text-align:right;\"> 0 </td>\n",
       "   <td style=\"text-align:right;\"> 0 </td>\n",
       "   <td style=\"text-align:right;\"> 0 </td>\n",
       "  </tr>\n",
       "</tbody>\n",
       "</table>"
      ]
     },
     "metadata": {},
     "output_type": "display_data"
    }
   ],
   "source": [
    "### loop to import data\n",
    "lst = lapply(VEC_TXT_FOLDER, function(txt_folder){\n",
    "    ### set file directory\n",
    "    txt_fdiry = file.path(FD_RES, \"region_annotation\", txt_folder, \"summary\")\n",
    "    txt_fname = TXT_FNAME_ANNOT\n",
    "    txt_fpath = file.path(txt_fdiry, txt_fname)\n",
    "\n",
    "    ### read table\n",
    "    dat = read_tsv(txt_fpath, show_col_types = FALSE)\n",
    "    return(dat)\n",
    "})\n",
    "\n",
    "### assign and show\n",
    "lst_dat_region_annot_import = lst\n",
    "\n",
    "res = lapply(lst, dim)\n",
    "print(res)\n",
    "\n",
    "dat = lst[[1]]\n",
    "fun_display_table(head(dat, 3))"
   ]
  },
  {
   "cell_type": "markdown",
   "id": "e53cae0b-3d27-44ee-8d44-0fce0edf0447",
   "metadata": {},
   "source": [
    "## Summarize"
   ]
  },
  {
   "cell_type": "markdown",
   "id": "fec117a7-3c9b-4af9-a712-6aee244066be",
   "metadata": {},
   "source": [
    "**Check**"
   ]
  },
  {
   "cell_type": "code",
   "execution_count": 6,
   "id": "d62dde90-02f3-4484-9255-39d78ecc1009",
   "metadata": {},
   "outputs": [
    {
     "data": {
      "text/html": [
       "<table>\n",
       " <thead>\n",
       "  <tr>\n",
       "   <th style=\"text-align:left;\"> Region </th>\n",
       "   <th style=\"text-align:right;\"> ASTARR_A </th>\n",
       "   <th style=\"text-align:right;\"> LMPRA_A </th>\n",
       "   <th style=\"text-align:right;\"> TMPRA_A </th>\n",
       "   <th style=\"text-align:right;\"> WSTARR_A </th>\n",
       "  </tr>\n",
       " </thead>\n",
       "<tbody>\n",
       "  <tr>\n",
       "   <td style=\"text-align:left;\"> chr1:10038-10405 </td>\n",
       "   <td style=\"text-align:right;\"> 0 </td>\n",
       "   <td style=\"text-align:right;\"> 0 </td>\n",
       "   <td style=\"text-align:right;\"> 0 </td>\n",
       "   <td style=\"text-align:right;\"> 0 </td>\n",
       "  </tr>\n",
       "  <tr>\n",
       "   <td style=\"text-align:left;\"> chr1:16025-16338 </td>\n",
       "   <td style=\"text-align:right;\"> 0 </td>\n",
       "   <td style=\"text-align:right;\"> 0 </td>\n",
       "   <td style=\"text-align:right;\"> 0 </td>\n",
       "   <td style=\"text-align:right;\"> 0 </td>\n",
       "  </tr>\n",
       "  <tr>\n",
       "   <td style=\"text-align:left;\"> chr1:17288-17689 </td>\n",
       "   <td style=\"text-align:right;\"> 0 </td>\n",
       "   <td style=\"text-align:right;\"> 0 </td>\n",
       "   <td style=\"text-align:right;\"> 0 </td>\n",
       "   <td style=\"text-align:right;\"> 0 </td>\n",
       "  </tr>\n",
       "</tbody>\n",
       "</table>"
      ]
     },
     "metadata": {},
     "output_type": "display_data"
    }
   ],
   "source": [
    "lst = lst_dat_region_annot_import\n",
    "dat = lst[[1]]\n",
    "dat = dat %>% dplyr::select(Region, ends_with(\"_A\")) \n",
    "fun_display_table(head(dat, 3))"
   ]
  },
  {
   "cell_type": "code",
   "execution_count": 7,
   "id": "66ade0b0-830d-45b5-a2c6-de3c6bf0e15f",
   "metadata": {},
   "outputs": [
    {
     "data": {
      "text/html": [
       "<table>\n",
       " <thead>\n",
       "  <tr>\n",
       "   <th style=\"text-align:left;\"> Region </th>\n",
       "   <th style=\"text-align:right;\"> ASTARR_R </th>\n",
       "   <th style=\"text-align:right;\"> LMPRA_R </th>\n",
       "   <th style=\"text-align:right;\"> TMPRA_R </th>\n",
       "   <th style=\"text-align:right;\"> WSTARR_R </th>\n",
       "  </tr>\n",
       " </thead>\n",
       "<tbody>\n",
       "  <tr>\n",
       "   <td style=\"text-align:left;\"> chr1:10038-10405 </td>\n",
       "   <td style=\"text-align:right;\"> 1 </td>\n",
       "   <td style=\"text-align:right;\"> 0 </td>\n",
       "   <td style=\"text-align:right;\"> 0 </td>\n",
       "   <td style=\"text-align:right;\"> 0 </td>\n",
       "  </tr>\n",
       "  <tr>\n",
       "   <td style=\"text-align:left;\"> chr1:16025-16338 </td>\n",
       "   <td style=\"text-align:right;\"> 1 </td>\n",
       "   <td style=\"text-align:right;\"> 0 </td>\n",
       "   <td style=\"text-align:right;\"> 0 </td>\n",
       "   <td style=\"text-align:right;\"> 0 </td>\n",
       "  </tr>\n",
       "  <tr>\n",
       "   <td style=\"text-align:left;\"> chr1:17288-17689 </td>\n",
       "   <td style=\"text-align:right;\"> 1 </td>\n",
       "   <td style=\"text-align:right;\"> 0 </td>\n",
       "   <td style=\"text-align:right;\"> 0 </td>\n",
       "   <td style=\"text-align:right;\"> 0 </td>\n",
       "  </tr>\n",
       "</tbody>\n",
       "</table>"
      ]
     },
     "metadata": {},
     "output_type": "display_data"
    }
   ],
   "source": [
    "lst = lst_dat_region_annot_import\n",
    "dat = lst[[1]]\n",
    "dat = dat %>% dplyr::select(Region, ends_with(\"_R\")) \n",
    "fun_display_table(head(dat, 3))"
   ]
  },
  {
   "cell_type": "markdown",
   "id": "9db5bd2f-0ca9-4e78-ac7e-fe95e478029c",
   "metadata": {},
   "source": [
    "**Execute: Caculate the assay votes for both active and repressive labels**"
   ]
  },
  {
   "cell_type": "code",
   "execution_count": 8,
   "id": "234f2d98-3c7a-4bc6-8b22-ee118b2affa8",
   "metadata": {},
   "outputs": [
    {
     "name": "stdout",
     "output_type": "stream",
     "text": [
      "$fcc_astarr_macs_input_overlap\n",
      "[1] 109394      6\n",
      "\n",
      "$fcc_astarr_macs_input_union\n",
      "[1] 146148      6\n",
      "\n"
     ]
    },
    {
     "data": {
      "text/html": [
       "<table>\n",
       " <thead>\n",
       "  <tr>\n",
       "   <th style=\"text-align:left;\"> Chrom </th>\n",
       "   <th style=\"text-align:left;\"> ChromStart </th>\n",
       "   <th style=\"text-align:left;\"> ChromEnd </th>\n",
       "   <th style=\"text-align:left;\"> Region </th>\n",
       "   <th style=\"text-align:left;\"> Direction_Assay </th>\n",
       "   <th style=\"text-align:right;\"> Num_Assay </th>\n",
       "  </tr>\n",
       " </thead>\n",
       "<tbody>\n",
       "  <tr>\n",
       "   <td style=\"text-align:left;\"> chr1 </td>\n",
       "   <td style=\"text-align:left;\"> 115429 </td>\n",
       "   <td style=\"text-align:left;\"> 115969 </td>\n",
       "   <td style=\"text-align:left;\"> chr1:115429-115969 </td>\n",
       "   <td style=\"text-align:left;\"> Active </td>\n",
       "   <td style=\"text-align:right;\"> 1 </td>\n",
       "  </tr>\n",
       "  <tr>\n",
       "   <td style=\"text-align:left;\"> chr1 </td>\n",
       "   <td style=\"text-align:left;\"> 184091 </td>\n",
       "   <td style=\"text-align:left;\"> 184563 </td>\n",
       "   <td style=\"text-align:left;\"> chr1:184091-184563 </td>\n",
       "   <td style=\"text-align:left;\"> Active </td>\n",
       "   <td style=\"text-align:right;\"> 1 </td>\n",
       "  </tr>\n",
       "  <tr>\n",
       "   <td style=\"text-align:left;\"> chr1 </td>\n",
       "   <td style=\"text-align:left;\"> 605104 </td>\n",
       "   <td style=\"text-align:left;\"> 605675 </td>\n",
       "   <td style=\"text-align:left;\"> chr1:605104-605675 </td>\n",
       "   <td style=\"text-align:left;\"> Active </td>\n",
       "   <td style=\"text-align:right;\"> 1 </td>\n",
       "  </tr>\n",
       "</tbody>\n",
       "</table>"
      ]
     },
     "metadata": {},
     "output_type": "display_data"
    }
   ],
   "source": [
    "### helper function\n",
    "fun = function(mat){\n",
    "    vec = apply(mat, 1, sum)\n",
    "    dat = tibble(\n",
    "        Region    = names(vec),\n",
    "        Num_Assay = vec\n",
    "    )\n",
    "    return(dat)\n",
    "}\n",
    "\n",
    "### init\n",
    "lst = lst_dat_region_annot_import\n",
    "vec = c(\"Chrom\", \"ChromStart\", \"ChromEnd\", \"Region\", \"Direction_Assay\", \"Num_Assay\")\n",
    "\n",
    "### loop through each ATAC region\n",
    "lst = lapply(lst, function(dat){\n",
    "    ### get enhance labels\n",
    "    dat_region_enhnace = dat %>% dplyr::select(Region, ends_with(\"_A\")) \n",
    "    \n",
    "    ### get repress labels\n",
    "    dat_region_repress = dat %>% dplyr::select(Region, ends_with(\"_R\"))\n",
    "    \n",
    "    ### combine into list\n",
    "    tmp = list(\n",
    "        \"Active\"     = dat_region_enhnace,\n",
    "        \"Repressive\" = dat_region_repress\n",
    "    )\n",
    "    \n",
    "    ### loop to get assay count\n",
    "    tmp = lapply(tmp, function(dat){\n",
    "        dat = dat %>% tibble::column_to_rownames(var = \"Region\")\n",
    "        dat = fun(dat)\n",
    "        return(dat)\n",
    "    })\n",
    "    \n",
    "    ### arrange count table\n",
    "    dat = bind_rows(tmp, .id = \"Direction_Assay\")\n",
    "    dat = dat %>% \n",
    "        dplyr::filter(Num_Assay > 0) %>%\n",
    "        tidyr::separate(\n",
    "            Region, \n",
    "            into = c(\"Chrom\", \"ChromStart\", \"ChromEnd\"), \n",
    "            remove = FALSE) %>%\n",
    "        dplyr::select(!!!vec)\n",
    "    return(dat)\n",
    "})\n",
    "\n",
    "### assign and show\n",
    "lst_dat_region_annot_result = lst\n",
    "\n",
    "res = lapply(lst, dim)\n",
    "print(res)\n",
    "\n",
    "dat = lst[[1]]\n",
    "fun_display_table(head(dat, 3))"
   ]
  },
  {
   "cell_type": "markdown",
   "id": "1127ebbb-b78b-4348-a9bd-69879c68fe5c",
   "metadata": {},
   "source": [
    "**Explore: Count**"
   ]
  },
  {
   "cell_type": "code",
   "execution_count": 9,
   "id": "1d02f2e7-106e-4647-9985-2d0be038cd9e",
   "metadata": {},
   "outputs": [
    {
     "data": {
      "text/html": [
       "<table>\n",
       " <thead>\n",
       "  <tr>\n",
       "   <th style=\"text-align:left;\"> Region </th>\n",
       "   <th style=\"text-align:left;\"> Direction </th>\n",
       "   <th style=\"text-align:right;\"> N1 </th>\n",
       "   <th style=\"text-align:right;\"> N2 </th>\n",
       "   <th style=\"text-align:right;\"> N3 </th>\n",
       "   <th style=\"text-align:right;\"> N4 </th>\n",
       "   <th style=\"text-align:right;\"> Total </th>\n",
       "  </tr>\n",
       " </thead>\n",
       "<tbody>\n",
       "  <tr>\n",
       "   <td style=\"text-align:left;\"> fcc_astarr_macs_input_overlap </td>\n",
       "   <td style=\"text-align:left;\"> Active </td>\n",
       "   <td style=\"text-align:right;\"> 27396 </td>\n",
       "   <td style=\"text-align:right;\"> 12548 </td>\n",
       "   <td style=\"text-align:right;\"> 4011 </td>\n",
       "   <td style=\"text-align:right;\"> 38 </td>\n",
       "   <td style=\"text-align:right;\"> 43993 </td>\n",
       "  </tr>\n",
       "  <tr>\n",
       "   <td style=\"text-align:left;\"> fcc_astarr_macs_input_overlap </td>\n",
       "   <td style=\"text-align:left;\"> Repressive </td>\n",
       "   <td style=\"text-align:right;\"> 63652 </td>\n",
       "   <td style=\"text-align:right;\"> 1744 </td>\n",
       "   <td style=\"text-align:right;\"> 5 </td>\n",
       "   <td style=\"text-align:right;\"> 0 </td>\n",
       "   <td style=\"text-align:right;\"> 65401 </td>\n",
       "  </tr>\n",
       "  <tr>\n",
       "   <td style=\"text-align:left;\"> fcc_astarr_macs_input_union </td>\n",
       "   <td style=\"text-align:left;\"> Active </td>\n",
       "   <td style=\"text-align:right;\"> 34438 </td>\n",
       "   <td style=\"text-align:right;\"> 13491 </td>\n",
       "   <td style=\"text-align:right;\"> 3910 </td>\n",
       "   <td style=\"text-align:right;\"> 34 </td>\n",
       "   <td style=\"text-align:right;\"> 51873 </td>\n",
       "  </tr>\n",
       "  <tr>\n",
       "   <td style=\"text-align:left;\"> fcc_astarr_macs_input_union </td>\n",
       "   <td style=\"text-align:left;\"> Repressive </td>\n",
       "   <td style=\"text-align:right;\"> 91407 </td>\n",
       "   <td style=\"text-align:right;\"> 2862 </td>\n",
       "   <td style=\"text-align:right;\"> 6 </td>\n",
       "   <td style=\"text-align:right;\"> 0 </td>\n",
       "   <td style=\"text-align:right;\"> 94275 </td>\n",
       "  </tr>\n",
       "</tbody>\n",
       "</table>"
      ]
     },
     "metadata": {},
     "output_type": "display_data"
    }
   ],
   "source": [
    "lst = lst_dat_region_annot_result\n",
    "lst = lapply(lst, function(dat){\n",
    "    dat = dat %>% dplyr::mutate(Note = paste0(\"N\", Num_Assay))\n",
    "    res = table(dat$Direction_Assay, dat$Note, dnn=c(\"Direction\", \"Count\"))\n",
    "    dat = as.data.frame(res)\n",
    "    return(dat)\n",
    "})\n",
    "\n",
    "dat = bind_rows(lst, .id = \"Region\")\n",
    "dat = dat %>% tidyr::spread(Count, Freq) %>% dplyr::mutate(Total = N1 + N2 + N3 + N4)\n",
    "fun_display_table(dat)"
   ]
  },
  {
   "cell_type": "markdown",
   "id": "33bcda7b-c47c-4ce2-901a-d42d839c7fc3",
   "metadata": {},
   "source": [
    "## Save results"
   ]
  },
  {
   "cell_type": "code",
   "execution_count": 10,
   "id": "7168e3cf-69bf-408f-b631-3c41ee91af2f",
   "metadata": {},
   "outputs": [],
   "source": [
    "for (txt_folder in VEC_TXT_FOLDER){\n",
    "\n",
    "    ### get each table\n",
    "    dat_region_annot_result = lst_dat_region_annot_result[[txt_folder]]\n",
    "    \n",
    "    ### set file directory\n",
    "    txt_fdiry = file.path(\n",
    "        FD_RES, \n",
    "        \"region_annotation\", \n",
    "        txt_folder,\n",
    "        \"summary\"\n",
    "    )\n",
    "    \n",
    "    ### set file path\n",
    "    txt_fname = \"region.annotation.fcc_starrmpra_junke.assayvote.rmAR.tsv\"\n",
    "    txt_fpath = file.path(txt_fdiry, txt_fname)\n",
    "\n",
    "    ### write table\n",
    "    dat = dat_region_annot_result\n",
    "    write_tsv(dat, txt_fpath)\n",
    "}"
   ]
  },
  {
   "cell_type": "code",
   "execution_count": null,
   "id": "2ed76383-9ab9-41d2-934f-9d5d0c90ca9f",
   "metadata": {},
   "outputs": [],
   "source": []
  }
 ],
 "metadata": {
  "kernelspec": {
   "display_name": "R",
   "language": "R",
   "name": "ir"
  },
  "language_info": {
   "codemirror_mode": "r",
   "file_extension": ".r",
   "mimetype": "text/x-r-source",
   "name": "R",
   "pygments_lexer": "r",
   "version": "4.4.2"
  }
 },
 "nbformat": 4,
 "nbformat_minor": 5
}
