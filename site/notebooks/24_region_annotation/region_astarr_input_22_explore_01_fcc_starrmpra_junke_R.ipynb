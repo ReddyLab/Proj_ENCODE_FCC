{
 "cells": [
  {
   "cell_type": "raw",
   "id": "5a75df42-ba12-44d6-9584-0176adecba5a",
   "metadata": {},
   "source": [
    "---\n",
    "title: Annotation of ATAC (ASTARR Input) 22\n",
    "subtitle: 01 Explore/Visualize ATAC w/ STARR/MRPA peaks\n",
    "format:\n",
    "    html:\n",
    "        code-fold:  true\n",
    "        code-tools: true\n",
    "---"
   ]
  },
  {
   "cell_type": "markdown",
   "id": "07120257-3705-4653-a8f0-ad50c7f023f3",
   "metadata": {},
   "source": [
    "**Set environment**"
   ]
  },
  {
   "cell_type": "code",
   "execution_count": 1,
   "id": "a78dabc1-cb1e-46c0-8a05-a646711d3caa",
   "metadata": {
    "tags": []
   },
   "outputs": [
    {
     "name": "stdout",
     "output_type": "stream",
     "text": [
      "You are working on        Singularity: singularity_proj_encode_fcc \n",
      "BASE DIRECTORY (FD_BASE): /data/reddylab/Kuei \n",
      "REPO DIRECTORY (FD_REPO): /data/reddylab/Kuei/repo \n",
      "WORK DIRECTORY (FD_WORK): /data/reddylab/Kuei/work \n",
      "DATA DIRECTORY (FD_DATA): /data/reddylab/Kuei/data \n",
      "\n",
      "You are working with      ENCODE FCC \n",
      "PATH OF PROJECT (FD_PRJ): /data/reddylab/Kuei/repo/Proj_ENCODE_FCC \n",
      "PROJECT RESULTS (FD_RES): /data/reddylab/Kuei/repo/Proj_ENCODE_FCC/results \n",
      "PROJECT SCRIPTS (FD_EXE): /data/reddylab/Kuei/repo/Proj_ENCODE_FCC/scripts \n",
      "PROJECT DATA    (FD_DAT): /data/reddylab/Kuei/repo/Proj_ENCODE_FCC/data \n",
      "PROJECT NOTE    (FD_NBK): /data/reddylab/Kuei/repo/Proj_ENCODE_FCC/notebooks \n",
      "PROJECT DOCS    (FD_DOC): /data/reddylab/Kuei/repo/Proj_ENCODE_FCC/docs \n",
      "PROJECT LOG     (FD_LOG): /data/reddylab/Kuei/repo/Proj_ENCODE_FCC/log \n",
      "PROJECT REF     (FD_REF): /data/reddylab/Kuei/repo/Proj_ENCODE_FCC/references \n",
      "\n"
     ]
    }
   ],
   "source": [
    "suppressMessages(suppressWarnings(source(\"../run_config_project_sing.R\")))\n",
    "show_env()"
   ]
  },
  {
   "cell_type": "markdown",
   "id": "3817424f-b825-40ea-a9d8-99653bfa927e",
   "metadata": {},
   "source": [
    "## Prepare"
   ]
  },
  {
   "cell_type": "markdown",
   "id": "8c43de51-6bae-400c-8757-2ed4585f8135",
   "metadata": {},
   "source": [
    "**Set global variable**"
   ]
  },
  {
   "cell_type": "code",
   "execution_count": 2,
   "id": "dfd72f3c-571d-4cf3-8fb1-7b44c97da2c7",
   "metadata": {},
   "outputs": [
    {
     "name": "stdout",
     "output_type": "stream",
     "text": [
      "fcc_astarr_macs_input_overlap \n",
      "fcc_astarr_macs_input_union \n"
     ]
    }
   ],
   "source": [
    "vec = c(\n",
    "    \"fcc_astarr_macs_input_overlap\",\n",
    "    \"fcc_astarr_macs_input_union\"\n",
    ")\n",
    "names(vec) = vec\n",
    "\n",
    "VEC_TXT_FOLDER = vec\n",
    "for(txt in vec){cat(txt, \"\\n\")}"
   ]
  },
  {
   "cell_type": "code",
   "execution_count": 3,
   "id": "1e31d209-6e62-4573-8c7a-99f07dd0e7cc",
   "metadata": {},
   "outputs": [],
   "source": [
    "TXT_FNAME_ANNOT = \"region.annotation.fcc_starrmpra_junke.tsv\""
   ]
  },
  {
   "cell_type": "markdown",
   "id": "c628d94e-01b7-4cd9-808f-2bd1a7b8c295",
   "metadata": {},
   "source": [
    "**View files**"
   ]
  },
  {
   "cell_type": "code",
   "execution_count": 4,
   "id": "c5d9992f-0219-47a3-b868-8c6c8e4c770e",
   "metadata": {},
   "outputs": [
    {
     "name": "stdout",
     "output_type": "stream",
     "text": [
      "/data/reddylab/Kuei/repo/Proj_ENCODE_FCC/results/region_annotation/fcc_astarr_macs_input_overlap/summary/region.annotation.fcc_starrmpra_junke.tsv \n",
      "/data/reddylab/Kuei/repo/Proj_ENCODE_FCC/results/region_annotation/fcc_astarr_macs_input_union/summary/region.annotation.fcc_starrmpra_junke.tsv \n"
     ]
    }
   ],
   "source": [
    "txt_fdiry = file.path(FD_RES, \"region_annotation\", \"*\", \"summary\")\n",
    "txt_fname = TXT_FNAME_ANNOT\n",
    "txt_fglob = file.path(txt_fdiry, txt_fname)\n",
    "\n",
    "vec = Sys.glob(txt_fglob)\n",
    "for(txt in vec){cat(txt, \"\\n\")}"
   ]
  },
  {
   "cell_type": "markdown",
   "id": "10cd60f7-0b76-4ee2-a22d-d83c68fdda27",
   "metadata": {},
   "source": [
    "## Import data"
   ]
  },
  {
   "cell_type": "markdown",
   "id": "f9be003c-cedf-44c6-a819-e1a31cf26ef3",
   "metadata": {},
   "source": [
    "**Read region annotation**"
   ]
  },
  {
   "cell_type": "code",
   "execution_count": 5,
   "id": "7c38c932-0c6f-4ffc-a707-ea55fb5023e7",
   "metadata": {},
   "outputs": [
    {
     "name": "stdout",
     "output_type": "stream",
     "text": [
      "$fcc_astarr_macs_input_overlap\n",
      "[1] 151862     12\n",
      "\n",
      "$fcc_astarr_macs_input_union\n",
      "[1] 196065     12\n",
      "\n"
     ]
    },
    {
     "data": {
      "text/html": [
       "<table>\n",
       " <thead>\n",
       "  <tr>\n",
       "   <th style=\"text-align:left;\"> Chrom </th>\n",
       "   <th style=\"text-align:right;\"> ChromStart </th>\n",
       "   <th style=\"text-align:right;\"> ChromEnd </th>\n",
       "   <th style=\"text-align:left;\"> Region </th>\n",
       "   <th style=\"text-align:left;\"> Annotation_A </th>\n",
       "   <th style=\"text-align:left;\"> Annotation_B </th>\n",
       "   <th style=\"text-align:left;\"> Group </th>\n",
       "   <th style=\"text-align:left;\"> Label </th>\n",
       "   <th style=\"text-align:left;\"> Direction_Assay </th>\n",
       "   <th style=\"text-align:left;\"> Direction_Label </th>\n",
       "   <th style=\"text-align:left;\"> Region_Annot </th>\n",
       "   <th style=\"text-align:right;\"> Region_Count </th>\n",
       "  </tr>\n",
       " </thead>\n",
       "<tbody>\n",
       "  <tr>\n",
       "   <td style=\"text-align:left;\"> chr1 </td>\n",
       "   <td style=\"text-align:right;\"> 10038 </td>\n",
       "   <td style=\"text-align:right;\"> 10405 </td>\n",
       "   <td style=\"text-align:left;\"> chr1:10038-10405 </td>\n",
       "   <td style=\"text-align:left;\"> fcc_astarr_macs_input_overlap </td>\n",
       "   <td style=\"text-align:left;\"> fcc_starrmpra_junke_astarr </td>\n",
       "   <td style=\"text-align:left;\"> ASTARR </td>\n",
       "   <td style=\"text-align:left;\"> ASTARR_R </td>\n",
       "   <td style=\"text-align:left;\"> Repressive </td>\n",
       "   <td style=\"text-align:left;\"> R </td>\n",
       "   <td style=\"text-align:left;\"> chr1:10010-10430 </td>\n",
       "   <td style=\"text-align:right;\"> 1 </td>\n",
       "  </tr>\n",
       "  <tr>\n",
       "   <td style=\"text-align:left;\"> chr1 </td>\n",
       "   <td style=\"text-align:right;\"> 16025 </td>\n",
       "   <td style=\"text-align:right;\"> 16338 </td>\n",
       "   <td style=\"text-align:left;\"> chr1:16025-16338 </td>\n",
       "   <td style=\"text-align:left;\"> fcc_astarr_macs_input_overlap </td>\n",
       "   <td style=\"text-align:left;\"> fcc_starrmpra_junke_astarr </td>\n",
       "   <td style=\"text-align:left;\"> ASTARR </td>\n",
       "   <td style=\"text-align:left;\"> ASTARR_R </td>\n",
       "   <td style=\"text-align:left;\"> Repressive </td>\n",
       "   <td style=\"text-align:left;\"> R </td>\n",
       "   <td style=\"text-align:left;\"> chr1:16220-16340 </td>\n",
       "   <td style=\"text-align:right;\"> 1 </td>\n",
       "  </tr>\n",
       "  <tr>\n",
       "   <td style=\"text-align:left;\"> chr1 </td>\n",
       "   <td style=\"text-align:right;\"> 17288 </td>\n",
       "   <td style=\"text-align:right;\"> 17689 </td>\n",
       "   <td style=\"text-align:left;\"> chr1:17288-17689 </td>\n",
       "   <td style=\"text-align:left;\"> fcc_astarr_macs_input_overlap </td>\n",
       "   <td style=\"text-align:left;\"> fcc_starrmpra_junke_astarr </td>\n",
       "   <td style=\"text-align:left;\"> ASTARR </td>\n",
       "   <td style=\"text-align:left;\"> ASTARR_R </td>\n",
       "   <td style=\"text-align:left;\"> Repressive </td>\n",
       "   <td style=\"text-align:left;\"> R </td>\n",
       "   <td style=\"text-align:left;\"> chr1:17230-17440;chr1:17610-17720 </td>\n",
       "   <td style=\"text-align:right;\"> 2 </td>\n",
       "  </tr>\n",
       "</tbody>\n",
       "</table>"
      ]
     },
     "metadata": {},
     "output_type": "display_data"
    }
   ],
   "source": [
    "### loop to import data\n",
    "lst = lapply(VEC_TXT_FOLDER, function(txt_folder){\n",
    "    ### set file directory\n",
    "    txt_fdiry = file.path(FD_RES, \"region_annotation\", txt_folder, \"summary\")\n",
    "    txt_fname = TXT_FNAME_ANNOT\n",
    "    txt_fpath = file.path(txt_fdiry, txt_fname)\n",
    "\n",
    "    ### read table\n",
    "    dat = read_tsv(txt_fpath, show_col_types = FALSE)\n",
    "    return(dat)\n",
    "})\n",
    "names(lst) = VEC_TXT_FOLDER\n",
    "\n",
    "### assign and show\n",
    "lst_dat_region_annot_import = lst\n",
    "\n",
    "res = lapply(lst, dim)\n",
    "print(res)\n",
    "\n",
    "dat = lst[[1]]\n",
    "fun_display_table(head(dat, 3))"
   ]
  },
  {
   "cell_type": "markdown",
   "id": "ece8d247-31e3-4457-a0e8-072826ad97ba",
   "metadata": {},
   "source": [
    "**Import GC content**"
   ]
  },
  {
   "cell_type": "code",
   "execution_count": 6,
   "id": "63f87682-9d89-4236-9b86-dd7af2b37467",
   "metadata": {},
   "outputs": [
    {
     "name": "stdout",
     "output_type": "stream",
     "text": [
      "$fcc_astarr_macs_input_overlap\n",
      "[1] 150042      6\n",
      "\n",
      "$fcc_astarr_macs_input_union\n",
      "[1] 246852      6\n",
      "\n"
     ]
    },
    {
     "data": {
      "text/html": [
       "<table>\n",
       " <thead>\n",
       "  <tr>\n",
       "   <th style=\"text-align:left;\"> Chrom </th>\n",
       "   <th style=\"text-align:right;\"> ChromStart </th>\n",
       "   <th style=\"text-align:right;\"> ChromEnd </th>\n",
       "   <th style=\"text-align:left;\"> Region </th>\n",
       "   <th style=\"text-align:right;\"> pGC </th>\n",
       "   <th style=\"text-align:right;\"> Length </th>\n",
       "  </tr>\n",
       " </thead>\n",
       "<tbody>\n",
       "  <tr>\n",
       "   <td style=\"text-align:left;\"> chr1 </td>\n",
       "   <td style=\"text-align:right;\"> 10038 </td>\n",
       "   <td style=\"text-align:right;\"> 10405 </td>\n",
       "   <td style=\"text-align:left;\"> chr1:10038-10405 </td>\n",
       "   <td style=\"text-align:right;\"> 0.523161 </td>\n",
       "   <td style=\"text-align:right;\"> 367 </td>\n",
       "  </tr>\n",
       "  <tr>\n",
       "   <td style=\"text-align:left;\"> chr1 </td>\n",
       "   <td style=\"text-align:right;\"> 14282 </td>\n",
       "   <td style=\"text-align:right;\"> 14614 </td>\n",
       "   <td style=\"text-align:left;\"> chr1:14282-14614 </td>\n",
       "   <td style=\"text-align:right;\"> 0.578313 </td>\n",
       "   <td style=\"text-align:right;\"> 332 </td>\n",
       "  </tr>\n",
       "  <tr>\n",
       "   <td style=\"text-align:left;\"> chr1 </td>\n",
       "   <td style=\"text-align:right;\"> 16025 </td>\n",
       "   <td style=\"text-align:right;\"> 16338 </td>\n",
       "   <td style=\"text-align:left;\"> chr1:16025-16338 </td>\n",
       "   <td style=\"text-align:right;\"> 0.587859 </td>\n",
       "   <td style=\"text-align:right;\"> 313 </td>\n",
       "  </tr>\n",
       "</tbody>\n",
       "</table>"
      ]
     },
     "metadata": {},
     "output_type": "display_data"
    }
   ],
   "source": [
    "### set file names and labels\n",
    "lst = list(\n",
    "    \"fcc_astarr_macs_input_overlap\" = \"K562.hg38.ASTARR.macs.KS91.input.rep_all.max_overlaps.q5.tsv\",\n",
    "    \"fcc_astarr_macs_input_union\"   = \"K562.hg38.ASTARR.macs.KS91.input.rep_all.union.q5.tsv\"\n",
    "    \n",
    ")\n",
    "\n",
    "### import files\n",
    "lst = lapply(lst, function(txt_fname){\n",
    "    ### set file directory\n",
    "    txt_fdiry = file.path(FD_RES, \"region_nuc\", \"fcc_astarr_macs\", \"summary\")\n",
    "    txt_fpath = file.path(txt_fdiry, txt_fname)\n",
    "    \n",
    "    ### read table\n",
    "    dat = read_tsv(txt_fpath, show_col_types = FALSE)\n",
    "    return(dat)\n",
    "})\n",
    "\n",
    "### assign and show\n",
    "lst_dat_region_nuc_import = lst\n",
    "\n",
    "res = lapply(lst, dim)\n",
    "print(res)\n",
    "\n",
    "dat = lst[[1]]\n",
    "fun_display_table(head(dat, 3))"
   ]
  },
  {
   "cell_type": "markdown",
   "id": "dad932dd-b9f6-4ef2-9621-957cd63983f3",
   "metadata": {},
   "source": [
    "**Read region**"
   ]
  },
  {
   "cell_type": "code",
   "execution_count": 7,
   "id": "6d6988e9-dc97-4c0a-ba3e-1317e3a057d6",
   "metadata": {},
   "outputs": [
    {
     "name": "stdout",
     "output_type": "stream",
     "text": [
      "[1] 447521      9\n"
     ]
    },
    {
     "data": {
      "text/html": [
       "<table>\n",
       " <thead>\n",
       "  <tr>\n",
       "   <th style=\"text-align:left;\"> Chrom </th>\n",
       "   <th style=\"text-align:right;\"> ChromStart </th>\n",
       "   <th style=\"text-align:right;\"> ChromEnd </th>\n",
       "   <th style=\"text-align:left;\"> Name </th>\n",
       "   <th style=\"text-align:right;\"> Score </th>\n",
       "   <th style=\"text-align:left;\"> Strand </th>\n",
       "   <th style=\"text-align:left;\"> Group </th>\n",
       "   <th style=\"text-align:left;\"> Label </th>\n",
       "   <th style=\"text-align:left;\"> Dataset </th>\n",
       "  </tr>\n",
       " </thead>\n",
       "<tbody>\n",
       "  <tr>\n",
       "   <td style=\"text-align:left;\"> chr1 </td>\n",
       "   <td style=\"text-align:right;\"> 115570 </td>\n",
       "   <td style=\"text-align:right;\"> 115730 </td>\n",
       "   <td style=\"text-align:left;\"> peak_both_1 </td>\n",
       "   <td style=\"text-align:right;\"> 2.188151 </td>\n",
       "   <td style=\"text-align:left;\"> . </td>\n",
       "   <td style=\"text-align:left;\"> ASTARR </td>\n",
       "   <td style=\"text-align:left;\"> ASTARR_AB </td>\n",
       "   <td style=\"text-align:left;\"> ASTARR_TR </td>\n",
       "  </tr>\n",
       "  <tr>\n",
       "   <td style=\"text-align:left;\"> chr1 </td>\n",
       "   <td style=\"text-align:right;\"> 778660 </td>\n",
       "   <td style=\"text-align:right;\"> 778890 </td>\n",
       "   <td style=\"text-align:left;\"> peak_both_2 </td>\n",
       "   <td style=\"text-align:right;\"> 2.458460 </td>\n",
       "   <td style=\"text-align:left;\"> . </td>\n",
       "   <td style=\"text-align:left;\"> ASTARR </td>\n",
       "   <td style=\"text-align:left;\"> ASTARR_AB </td>\n",
       "   <td style=\"text-align:left;\"> ASTARR_TR </td>\n",
       "  </tr>\n",
       "  <tr>\n",
       "   <td style=\"text-align:left;\"> chr1 </td>\n",
       "   <td style=\"text-align:right;\"> 1012990 </td>\n",
       "   <td style=\"text-align:right;\"> 1013680 </td>\n",
       "   <td style=\"text-align:left;\"> peak_both_3 </td>\n",
       "   <td style=\"text-align:right;\"> 2.903266 </td>\n",
       "   <td style=\"text-align:left;\"> . </td>\n",
       "   <td style=\"text-align:left;\"> ASTARR </td>\n",
       "   <td style=\"text-align:left;\"> ASTARR_AB </td>\n",
       "   <td style=\"text-align:left;\"> ASTARR_TR </td>\n",
       "  </tr>\n",
       "</tbody>\n",
       "</table>"
      ]
     },
     "metadata": {},
     "output_type": "display_data"
    }
   ],
   "source": [
    "### set file directory\n",
    "txt_fdiry = file.path(FD_RES, \"region\", \"fcc_starrmpra_junke\", \"summary\")\n",
    "txt_fname = \"K562.hg38.STARRMPRA.junke.tsv\"\n",
    "txt_fpath = file.path(txt_fdiry, txt_fname)\n",
    "\n",
    "### read table\n",
    "dat = read_tsv(txt_fpath, show_col_types = FALSE)\n",
    "\n",
    "### assign and show\n",
    "dat_region_original = dat\n",
    "print(dim(dat))\n",
    "fun_display_table(head(dat, 3))"
   ]
  },
  {
   "cell_type": "markdown",
   "id": "3a8a66ae-cacb-4c40-93e1-3751f9833193",
   "metadata": {},
   "source": [
    "## Arrange table"
   ]
  },
  {
   "cell_type": "code",
   "execution_count": 8,
   "id": "41f2b3ba-9f6a-482b-8df4-c2c583c5ae90",
   "metadata": {},
   "outputs": [
    {
     "name": "stdout",
     "output_type": "stream",
     "text": [
      "$fcc_astarr_macs_input_overlap\n",
      "[1] 151862      9\n",
      "\n",
      "$fcc_astarr_macs_input_union\n",
      "[1] 196065      9\n",
      "\n"
     ]
    },
    {
     "data": {
      "text/html": [
       "<table>\n",
       " <thead>\n",
       "  <tr>\n",
       "   <th style=\"text-align:left;\"> Region </th>\n",
       "   <th style=\"text-align:left;\"> Group </th>\n",
       "   <th style=\"text-align:left;\"> Label </th>\n",
       "   <th style=\"text-align:left;\"> Direction_Assay </th>\n",
       "   <th style=\"text-align:left;\"> Chrom </th>\n",
       "   <th style=\"text-align:right;\"> ChromStart </th>\n",
       "   <th style=\"text-align:right;\"> ChromEnd </th>\n",
       "   <th style=\"text-align:right;\"> pGC </th>\n",
       "   <th style=\"text-align:right;\"> Length </th>\n",
       "  </tr>\n",
       " </thead>\n",
       "<tbody>\n",
       "  <tr>\n",
       "   <td style=\"text-align:left;\"> chr1:10038-10405 </td>\n",
       "   <td style=\"text-align:left;\"> ASTARR </td>\n",
       "   <td style=\"text-align:left;\"> ASTARR_R </td>\n",
       "   <td style=\"text-align:left;\"> Repressive </td>\n",
       "   <td style=\"text-align:left;\"> chr1 </td>\n",
       "   <td style=\"text-align:right;\"> 10038 </td>\n",
       "   <td style=\"text-align:right;\"> 10405 </td>\n",
       "   <td style=\"text-align:right;\"> 0.523161 </td>\n",
       "   <td style=\"text-align:right;\"> 367 </td>\n",
       "  </tr>\n",
       "  <tr>\n",
       "   <td style=\"text-align:left;\"> chr1:16025-16338 </td>\n",
       "   <td style=\"text-align:left;\"> ASTARR </td>\n",
       "   <td style=\"text-align:left;\"> ASTARR_R </td>\n",
       "   <td style=\"text-align:left;\"> Repressive </td>\n",
       "   <td style=\"text-align:left;\"> chr1 </td>\n",
       "   <td style=\"text-align:right;\"> 16025 </td>\n",
       "   <td style=\"text-align:right;\"> 16338 </td>\n",
       "   <td style=\"text-align:right;\"> 0.587859 </td>\n",
       "   <td style=\"text-align:right;\"> 313 </td>\n",
       "  </tr>\n",
       "  <tr>\n",
       "   <td style=\"text-align:left;\"> chr1:17288-17689 </td>\n",
       "   <td style=\"text-align:left;\"> ASTARR </td>\n",
       "   <td style=\"text-align:left;\"> ASTARR_R </td>\n",
       "   <td style=\"text-align:left;\"> Repressive </td>\n",
       "   <td style=\"text-align:left;\"> chr1 </td>\n",
       "   <td style=\"text-align:right;\"> 17288 </td>\n",
       "   <td style=\"text-align:right;\"> 17689 </td>\n",
       "   <td style=\"text-align:right;\"> 0.625935 </td>\n",
       "   <td style=\"text-align:right;\"> 401 </td>\n",
       "  </tr>\n",
       "</tbody>\n",
       "</table>"
      ]
     },
     "metadata": {},
     "output_type": "display_data"
    }
   ],
   "source": [
    "lst = lapply(VEC_TXT_FOLDER, function(txt_folder){\n",
    "    ### get annotation and gc tables\n",
    "    dat_region_annot = lst_dat_region_annot_import[[txt_folder]]\n",
    "    dat_region_nuc   = lst_dat_region_nuc_import[[txt_folder]]\n",
    "\n",
    "    ### arrange annotation\n",
    "    dat = dat_region_annot\n",
    "    dat = dat %>% dplyr::select(Region, Group, Label, Direction_Assay) %>% dplyr::distinct()\n",
    "    dat_region_annot_arrange = dat\n",
    "\n",
    "    ### join fcc annotation and gc content\n",
    "    dat = dat_region_annot_arrange\n",
    "    dat = dat %>% dplyr::left_join(dat_region_nuc, by = \"Region\") \n",
    "    return(dat)\n",
    "})\n",
    "\n",
    "### assign and show\n",
    "lst_dat_region_annot_arrange = lst\n",
    "\n",
    "res = lapply(lst, dim)\n",
    "print(res)\n",
    "\n",
    "dat = lst[[1]]\n",
    "fun_display_table(head(dat, 3))"
   ]
  },
  {
   "cell_type": "markdown",
   "id": "73571ef8-6ea6-4e7e-886a-86c25e90e398",
   "metadata": {},
   "source": [
    "## Count table"
   ]
  },
  {
   "cell_type": "markdown",
   "id": "8c1df7cb-a456-472c-9d84-22c5590e7128",
   "metadata": {},
   "source": [
    "**Total peaks**"
   ]
  },
  {
   "cell_type": "code",
   "execution_count": 9,
   "id": "411a3584-fa50-4f9b-8684-2e812390ff7c",
   "metadata": {},
   "outputs": [
    {
     "data": {
      "text/html": [
       "<table>\n",
       " <thead>\n",
       "  <tr>\n",
       "   <th style=\"text-align:left;\"> Group </th>\n",
       "   <th style=\"text-align:right;\"> Freq </th>\n",
       "  </tr>\n",
       " </thead>\n",
       "<tbody>\n",
       "  <tr>\n",
       "   <td style=\"text-align:left;\"> ASTARR </td>\n",
       "   <td style=\"text-align:right;\"> 229239 </td>\n",
       "  </tr>\n",
       "  <tr>\n",
       "   <td style=\"text-align:left;\"> eSTARR </td>\n",
       "   <td style=\"text-align:right;\"> 494 </td>\n",
       "  </tr>\n",
       "  <tr>\n",
       "   <td style=\"text-align:left;\"> LMPRA </td>\n",
       "   <td style=\"text-align:right;\"> 26192 </td>\n",
       "  </tr>\n",
       "  <tr>\n",
       "   <td style=\"text-align:left;\"> TMPRA </td>\n",
       "   <td style=\"text-align:right;\"> 6329 </td>\n",
       "  </tr>\n",
       "  <tr>\n",
       "   <td style=\"text-align:left;\"> WSTARR </td>\n",
       "   <td style=\"text-align:right;\"> 165627 </td>\n",
       "  </tr>\n",
       "</tbody>\n",
       "</table>"
      ]
     },
     "metadata": {},
     "output_type": "display_data"
    }
   ],
   "source": [
    "dat = dat_region_original\n",
    "dat = dat %>% \n",
    "    dplyr::mutate(Region = fun_gen_region(Chrom, ChromStart, ChromEnd)) %>%\n",
    "    dplyr::select(Region, Group) %>%\n",
    "    dplyr::distinct()\n",
    "\n",
    "res = table(dat$Group, dnn = \"Group\")\n",
    "dat = as.data.frame(res)\n",
    "\n",
    "dat_region_peak_count = dat\n",
    "fun_display_table(dat)"
   ]
  },
  {
   "cell_type": "markdown",
   "id": "61383486-669b-46ce-90bb-85c6694579fc",
   "metadata": {},
   "source": [
    "**Count ATAC regions by group**"
   ]
  },
  {
   "cell_type": "code",
   "execution_count": 10,
   "id": "02a15216-1268-41cb-8a93-1cd97ee588a5",
   "metadata": {},
   "outputs": [
    {
     "data": {
      "text/html": [
       "<table>\n",
       " <thead>\n",
       "  <tr>\n",
       "   <th style=\"text-align:left;\"> Region </th>\n",
       "   <th style=\"text-align:left;\"> Group </th>\n",
       "   <th style=\"text-align:right;\"> Freq </th>\n",
       "  </tr>\n",
       " </thead>\n",
       "<tbody>\n",
       "  <tr>\n",
       "   <td style=\"text-align:left;\"> fcc_astarr_macs_input_overlap </td>\n",
       "   <td style=\"text-align:left;\"> ASTARR </td>\n",
       "   <td style=\"text-align:right;\"> 90765 </td>\n",
       "  </tr>\n",
       "  <tr>\n",
       "   <td style=\"text-align:left;\"> fcc_astarr_macs_input_overlap </td>\n",
       "   <td style=\"text-align:left;\"> LMPRA </td>\n",
       "   <td style=\"text-align:right;\"> 20905 </td>\n",
       "  </tr>\n",
       "  <tr>\n",
       "   <td style=\"text-align:left;\"> fcc_astarr_macs_input_overlap </td>\n",
       "   <td style=\"text-align:left;\"> TMPRA </td>\n",
       "   <td style=\"text-align:right;\"> 848 </td>\n",
       "  </tr>\n",
       "  <tr>\n",
       "   <td style=\"text-align:left;\"> fcc_astarr_macs_input_overlap </td>\n",
       "   <td style=\"text-align:left;\"> WSTARR </td>\n",
       "   <td style=\"text-align:right;\"> 29329 </td>\n",
       "  </tr>\n",
       "  <tr>\n",
       "   <td style=\"text-align:left;\"> fcc_astarr_macs_input_union </td>\n",
       "   <td style=\"text-align:left;\"> ASTARR </td>\n",
       "   <td style=\"text-align:right;\"> 121822 </td>\n",
       "  </tr>\n",
       "  <tr>\n",
       "   <td style=\"text-align:left;\"> fcc_astarr_macs_input_union </td>\n",
       "   <td style=\"text-align:left;\"> LMPRA </td>\n",
       "   <td style=\"text-align:right;\"> 22274 </td>\n",
       "  </tr>\n",
       "  <tr>\n",
       "   <td style=\"text-align:left;\"> fcc_astarr_macs_input_union </td>\n",
       "   <td style=\"text-align:left;\"> TMPRA </td>\n",
       "   <td style=\"text-align:right;\"> 1106 </td>\n",
       "  </tr>\n",
       "  <tr>\n",
       "   <td style=\"text-align:left;\"> fcc_astarr_macs_input_union </td>\n",
       "   <td style=\"text-align:left;\"> WSTARR </td>\n",
       "   <td style=\"text-align:right;\"> 38048 </td>\n",
       "  </tr>\n",
       "</tbody>\n",
       "</table>"
      ]
     },
     "metadata": {},
     "output_type": "display_data"
    }
   ],
   "source": [
    "lst = lst_dat_region_annot_import\n",
    "lst = lapply(lst, function(dat){\n",
    "    dat = dat %>% dplyr::select(Region, Group) %>% dplyr::distinct()\n",
    "    res = table(dat$Group, dnn = \"Group\")\n",
    "    dat = as.data.frame(res)\n",
    "    return(dat)\n",
    "})\n",
    "dat = bind_rows(lst, .id = \"Region\")\n",
    "\n",
    "### assign and show\n",
    "dat_region_annot_count = dat\n",
    "fun_display_table(dat)"
   ]
  },
  {
   "cell_type": "markdown",
   "id": "c3a4f7e3-d3d5-4036-92c3-a872e9e71b39",
   "metadata": {},
   "source": [
    "**Summarize**"
   ]
  },
  {
   "cell_type": "code",
   "execution_count": 11,
   "id": "c27ab8c7-d074-4be5-b488-2b2edb76e477",
   "metadata": {},
   "outputs": [
    {
     "data": {
      "text/plain": [
       "\n",
       "\n",
       "|Group  |Peak (Total) |ATAC (Overlap) |ATAC (Union) |\n",
       "|:------|:------------|:--------------|:------------|\n",
       "|ASTARR |229,239      |90,765         |121,822      |\n",
       "|LMPRA  |26,192       |20,905         |22,274       |\n",
       "|TMPRA  |6,329        |848            |1,106        |\n",
       "|WSTARR |165,627      |29,329         |38,048       |"
      ]
     },
     "metadata": {},
     "output_type": "display_data"
    }
   ],
   "source": [
    "tmp = dat_region_peak_count\n",
    "tmp = tmp %>% dplyr::mutate(Freq = scales::comma(Freq))\n",
    "colnames(tmp) = c(\"Group\", \"Peak (Total)\")\n",
    "\n",
    "vec = c(\"ASTARR\", \"WSTARR\", \"LMPRA\", \"TMPRA\")\n",
    "dat = dat_region_annot_count\n",
    "dat = dat %>% \n",
    "    dplyr::mutate(Group  = factor(Group, levels = vec)) %>%\n",
    "    dplyr::mutate(Region = fun_str_map_atac(Region)) %>%\n",
    "    dplyr::mutate(Freq   = scales::comma(Freq)) %>%\n",
    "    tidyr::spread(Region, Freq)\n",
    "\n",
    "dat = tmp %>% dplyr::right_join(dat, by = \"Group\")\n",
    "dat %>% kableExtra::kable(\"markdown\")"
   ]
  },
  {
   "cell_type": "markdown",
   "id": "442e7423-a5e4-43bb-93c0-006aed2c1b33",
   "metadata": {},
   "source": [
    "**Total ATAC regions**"
   ]
  },
  {
   "cell_type": "code",
   "execution_count": 12,
   "id": "fc68cdd9-aa76-4785-bc4b-a7fd2411618b",
   "metadata": {},
   "outputs": [
    {
     "name": "stdout",
     "output_type": "stream",
     "text": [
      "$fcc_astarr_macs_input_overlap\n",
      "[1] \"99,749\"\n",
      "\n",
      "$fcc_astarr_macs_input_union\n",
      "[1] \"135,016\"\n",
      "\n"
     ]
    }
   ],
   "source": [
    "lst = lst_dat_region_annot_import\n",
    "lst = lapply(lst, function(dat){\n",
    "    vec = unique(dat$Region)\n",
    "    num = length(vec)\n",
    "    txt = scales::comma(num)\n",
    "    return(txt)\n",
    "})\n",
    "print(lst)"
   ]
  },
  {
   "cell_type": "markdown",
   "id": "ce31450b-ec1f-4a12-a664-7783d614c26e",
   "metadata": {},
   "source": [
    "## GC content and region length distribution"
   ]
  },
  {
   "cell_type": "code",
   "execution_count": 13,
   "id": "fc656e46-c5c1-4597-94b6-4a0575d9658b",
   "metadata": {},
   "outputs": [],
   "source": [
    "### set text size\n",
    "theme_text = theme(\n",
    "    title      = element_text(size = 16),\n",
    "    axis.title = element_text(size = 16),\n",
    "    axis.text  = element_text(size = 16),\n",
    "    #legend.title = element_text(size = 16),\n",
    "    legend.title = element_blank(),\n",
    "    legend.text  = element_text(size = 16)\n",
    ")\n",
    "\n",
    "### set color\n",
    "vec_txt_color  = c(\"Active\" = \"#fb8072\", \"Repressive\" = \"#80b1d3\")\n",
    "theme_color = scale_fill_manual(values = vec_txt_color)\n",
    "\n",
    "### set factor order\n",
    "vec_txt_direct = c(\"Active\", \"Repressive\")"
   ]
  },
  {
   "cell_type": "markdown",
   "id": "8ca10434-b37a-4e3a-985f-a6f0df464213",
   "metadata": {},
   "source": [
    "**Distribution of GC content**"
   ]
  },
  {
   "cell_type": "code",
   "execution_count": 14,
   "id": "84d1b2e2-be27-47aa-918e-ac1a7db28d39",
   "metadata": {},
   "outputs": [
    {
     "data": {
      "image/png": "[encoded data removed]",
      "text/plain": [
       "plot without title"
      ]
     },
     "metadata": {
      "image/png": {
       "height": 240,
       "width": 420
      }
     },
     "output_type": "display_data"
    }
   ],
   "source": [
    "### get table and set factor\n",
    "lst = lst_dat_region_annot_arrange\n",
    "dat = lst[[\"fcc_astarr_macs_input_overlap\"]]\n",
    "dat = dat %>% dplyr::mutate(Direction_Assay = factor(Direction_Assay, levels=rev(vec_txt_direct)))\n",
    "\n",
    "### generate plot\n",
    "gpt = ggplot(dat, aes(x=pGC, fill=Direction_Assay)) + \n",
    "    geom_density(alpha = 0.7) + \n",
    "    theme_cowplot() + \n",
    "    background_grid() +\n",
    "    facet_wrap(~Group) +\n",
    "    theme_color +\n",
    "    theme_text +\n",
    "    labs(x = \"GC Content\", y = \"Density\", title = \"ATAC with STARR/MPRA peaks\")\n",
    "\n",
    "### assign and show\n",
    "gpt_export_nuc = gpt\n",
    "options(repr.plot.height = 4, repr.plot.width = 7)\n",
    "print(gpt)"
   ]
  },
  {
   "cell_type": "markdown",
   "id": "518beb26-0091-44c7-ba64-1674e038ae12",
   "metadata": {},
   "source": [
    "**Distribution of region length**"
   ]
  },
  {
   "cell_type": "code",
   "execution_count": 15,
   "id": "7e014718-441e-4e21-8a98-7098d800969b",
   "metadata": {},
   "outputs": [
    {
     "data": {
      "image/png": "[encoded data removed]",
      "text/plain": [
       "plot without title"
      ]
     },
     "metadata": {
      "image/png": {
       "height": 240,
       "width": 420
      }
     },
     "output_type": "display_data"
    }
   ],
   "source": [
    "### get table and set factor\n",
    "lst = lst_dat_region_annot_arrange\n",
    "dat = lst[[\"fcc_astarr_macs_input_overlap\"]]\n",
    "dat = dat %>% dplyr::mutate(Direction_Assay = factor(Direction_Assay, levels=rev(vec_txt_direct)))\n",
    "\n",
    "### generate plot\n",
    "gpt = ggplot(dat, aes(x=Length/1000, fill=Direction_Assay)) + \n",
    "    geom_density(alpha = 0.7) + \n",
    "    theme_cowplot() + \n",
    "    background_grid() +\n",
    "    facet_wrap(~Group) +\n",
    "    theme_color +\n",
    "    theme_text +\n",
    "    labs(x = \"Length (kb)\", y = \"Density\")\n",
    "\n",
    "### assign and show\n",
    "gpt_export_length = gpt\n",
    "options(repr.plot.height = 4, repr.plot.width = 7)\n",
    "print(gpt)"
   ]
  },
  {
   "cell_type": "markdown",
   "id": "3a71f97d-7b4e-4c8b-82e5-3414a98c7d13",
   "metadata": {},
   "source": [
    "**Save plots**"
   ]
  },
  {
   "cell_type": "code",
   "execution_count": 16,
   "id": "720bcd02-0d63-4e11-9b5f-7f5711c49f25",
   "metadata": {},
   "outputs": [],
   "source": [
    "plt_export = gpt_export_nuc\n",
    "txt_export = \"fig.region_annot.astarr_input_overlap.fcc_starrmpra_junke.distribution.gc_content\"\n",
    "\n",
    "txt_fdiry = \"./\"\n",
    "txt_fname = paste(txt_export, \"png\", sep = \".\")\n",
    "txt_fpath = file.path(txt_fdiry, txt_fname)\n",
    "ggsave(txt_fpath, plt_export, height = 4, width = 7, units = \"in\")\n",
    "\n",
    "txt_fdiry = \"./\"\n",
    "txt_fname = paste(txt_export, \"svg\", sep = \".\")\n",
    "txt_fpath = file.path(txt_fdiry, txt_fname)\n",
    "ggsave(txt_fpath, plt_export, height = 4, width = 7, units = \"in\")"
   ]
  },
  {
   "cell_type": "code",
   "execution_count": 17,
   "id": "918ca51a-2dcd-4416-9dd9-6f75a3cc43aa",
   "metadata": {},
   "outputs": [],
   "source": [
    "plt_export = gpt_export_length\n",
    "txt_export = \"fig.region_annot.astarr_input_overlap.fcc_starrmpra_junke.distribution.length\"\n",
    "\n",
    "txt_fdiry = \"./\"\n",
    "txt_fname = paste(txt_export, \"png\", sep = \".\")\n",
    "txt_fpath = file.path(txt_fdiry, txt_fname)\n",
    "ggsave(txt_fpath, plt_export, height = 4, width = 7, units = \"in\")\n",
    "\n",
    "txt_fdiry = \"./\"\n",
    "txt_fname = paste(txt_export, \"svg\", sep = \".\")\n",
    "txt_fpath = file.path(txt_fdiry, txt_fname)\n",
    "ggsave(txt_fpath, plt_export, height = 4, width = 7, units = \"in\")"
   ]
  },
  {
   "cell_type": "code",
   "execution_count": null,
   "id": "f8423f0d-b427-4e55-bbbf-0fb824db2e74",
   "metadata": {},
   "outputs": [],
   "source": []
  }
 ],
 "metadata": {
  "kernelspec": {
   "display_name": "R",
   "language": "R",
   "name": "ir"
  },
  "language_info": {
   "codemirror_mode": "r",
   "file_extension": ".r",
   "mimetype": "text/x-r-source",
   "name": "R",
   "pygments_lexer": "r",
   "version": "4.5.1"
  }
 },
 "nbformat": 4,
 "nbformat_minor": 5
}
