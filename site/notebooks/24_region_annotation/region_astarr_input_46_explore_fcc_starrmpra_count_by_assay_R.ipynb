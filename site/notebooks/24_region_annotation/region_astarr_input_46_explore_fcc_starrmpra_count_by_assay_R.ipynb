{
 "cells": [
  {
   "cell_type": "raw",
   "id": "5485405f-e0f1-4226-a506-fd4c58a04c4d",
   "metadata": {},
   "source": [
    "---\n",
    "title: Annotation of ATAC (ASTARR Input) 46\n",
    "subtitle: Explore/Visualize STARR/MPRA CRE counts by assay\n",
    "format:\n",
    "    html:\n",
    "        code-fold:  true\n",
    "        code-tools: true\n",
    "---"
   ]
  },
  {
   "cell_type": "markdown",
   "id": "5e51e2eb-0101-449a-aba8-ff2627e0e15f",
   "metadata": {},
   "source": [
    "**Set environment**"
   ]
  },
  {
   "cell_type": "code",
   "execution_count": 1,
   "id": "d3629183-68c8-4d8a-ab7c-e5e5863bec7d",
   "metadata": {
    "tags": []
   },
   "outputs": [
    {
     "name": "stdout",
     "output_type": "stream",
     "text": [
      "You are working on        Singularity: singularity_proj_encode_fcc \n",
      "BASE DIRECTORY (FD_BASE): /data/reddylab/Kuei \n",
      "REPO DIRECTORY (FD_REPO): /data/reddylab/Kuei/repo \n",
      "WORK DIRECTORY (FD_WORK): /data/reddylab/Kuei/work \n",
      "DATA DIRECTORY (FD_DATA): /data/reddylab/Kuei/data \n",
      "\n",
      "You are working with      ENCODE FCC \n",
      "PATH OF PROJECT (FD_PRJ): /data/reddylab/Kuei/repo/Proj_ENCODE_FCC \n",
      "PROJECT RESULTS (FD_RES): /data/reddylab/Kuei/repo/Proj_ENCODE_FCC/results \n",
      "PROJECT SCRIPTS (FD_EXE): /data/reddylab/Kuei/repo/Proj_ENCODE_FCC/scripts \n",
      "PROJECT DATA    (FD_DAT): /data/reddylab/Kuei/repo/Proj_ENCODE_FCC/data \n",
      "PROJECT NOTE    (FD_NBK): /data/reddylab/Kuei/repo/Proj_ENCODE_FCC/notebooks \n",
      "PROJECT DOCS    (FD_DOC): /data/reddylab/Kuei/repo/Proj_ENCODE_FCC/docs \n",
      "PROJECT LOG     (FD_LOG): /data/reddylab/Kuei/repo/Proj_ENCODE_FCC/log \n",
      "PROJECT REF     (FD_REF): /data/reddylab/Kuei/repo/Proj_ENCODE_FCC/references \n",
      "\n"
     ]
    }
   ],
   "source": [
    "suppressMessages(suppressWarnings(source(\"../run_config_project_sing.R\")))\n",
    "library(UpSetR)\n",
    "show_env()"
   ]
  },
  {
   "cell_type": "markdown",
   "id": "532f4dc0-76c6-4f08-b383-02ebfdd11150",
   "metadata": {},
   "source": [
    "## Prepare"
   ]
  },
  {
   "cell_type": "markdown",
   "id": "9254ca1f-61b2-4237-aa1e-486465f6e324",
   "metadata": {},
   "source": [
    "**Set global variable**"
   ]
  },
  {
   "cell_type": "code",
   "execution_count": 2,
   "id": "aeee0ef4-92e3-4081-97f8-e416fda04f5e",
   "metadata": {},
   "outputs": [
    {
     "name": "stdout",
     "output_type": "stream",
     "text": [
      "fcc_astarr_macs_input_overlap \n",
      "fcc_astarr_macs_input_union \n"
     ]
    }
   ],
   "source": [
    "vec = c(\n",
    "    \"fcc_astarr_macs_input_overlap\",\n",
    "    \"fcc_astarr_macs_input_union\"\n",
    ")\n",
    "names(vec) = vec\n",
    "\n",
    "VEC_TXT_FOLDER = vec\n",
    "for(txt in vec){cat(txt, \"\\n\")}"
   ]
  },
  {
   "cell_type": "markdown",
   "id": "55d3bd30-637c-4c71-ba82-c2dfe0df8e7c",
   "metadata": {},
   "source": [
    "**View files**"
   ]
  },
  {
   "cell_type": "code",
   "execution_count": 3,
   "id": "110e0337-607b-4655-901e-a5a798eac8c2",
   "metadata": {},
   "outputs": [
    {
     "name": "stdout",
     "output_type": "stream",
     "text": [
      "/data/reddylab/Kuei/repo/Proj_ENCODE_FCC/results/region_annotation/fcc_astarr_macs_input_overlap/summary/region.annotation.fcc_starrmpra_junke.merge_direction.tsv \n",
      "/data/reddylab/Kuei/repo/Proj_ENCODE_FCC/results/region_annotation/fcc_astarr_macs_input_union/summary/region.annotation.fcc_starrmpra_junke.merge_direction.tsv \n"
     ]
    }
   ],
   "source": [
    "txt_fdiry = file.path(FD_RES, \"region_annotation\", \"*\", \"summary\")\n",
    "txt_fname = \"region.annotation.fcc_starrmpra_junke.merge_direction.tsv\"\n",
    "txt_fglob = file.path(txt_fdiry, txt_fname)\n",
    "\n",
    "vec = Sys.glob(txt_fglob)\n",
    "for(txt in vec){cat(txt, \"\\n\")}"
   ]
  },
  {
   "cell_type": "code",
   "execution_count": 4,
   "id": "d1abf0f4-d7d7-491b-897f-66550a8ce8df",
   "metadata": {},
   "outputs": [
    {
     "name": "stdout",
     "output_type": "stream",
     "text": [
      "/data/reddylab/Kuei/repo/Proj_ENCODE_FCC/results/region_annotation/fcc_astarr_macs_input_overlap/summary/region.annotation.fcc_starrmpra_junke.group.label.tsv \n",
      "/data/reddylab/Kuei/repo/Proj_ENCODE_FCC/results/region_annotation/fcc_astarr_macs_input_union/summary/region.annotation.fcc_starrmpra_junke.group.label.tsv \n"
     ]
    }
   ],
   "source": [
    "txt_fdiry = file.path(FD_RES, \"region_annotation\", \"*\", \"summary\")\n",
    "txt_fname = \"region.annotation.fcc_starrmpra_junke.group.label.tsv\"\n",
    "txt_fglob = file.path(txt_fdiry, txt_fname)\n",
    "\n",
    "vec = Sys.glob(txt_fglob)\n",
    "for(txt in vec){cat(txt, \"\\n\")}"
   ]
  },
  {
   "cell_type": "markdown",
   "id": "c1f8e49d-6f21-4698-b82a-ccb79cf5b622",
   "metadata": {},
   "source": [
    "## Import data"
   ]
  },
  {
   "cell_type": "code",
   "execution_count": 5,
   "id": "85c9568e-fca4-4412-be99-e16a7b980b2f",
   "metadata": {},
   "outputs": [
    {
     "name": "stdout",
     "output_type": "stream",
     "text": [
      "$fcc_astarr_macs_input_overlap\n",
      "[1] 141847      9\n",
      "\n",
      "$fcc_astarr_macs_input_union\n",
      "[1] 183250      9\n",
      "\n"
     ]
    },
    {
     "data": {
      "text/html": [
       "<table>\n",
       " <thead>\n",
       "  <tr>\n",
       "   <th style=\"text-align:left;\"> Chrom </th>\n",
       "   <th style=\"text-align:right;\"> ChromStart </th>\n",
       "   <th style=\"text-align:right;\"> ChromEnd </th>\n",
       "   <th style=\"text-align:left;\"> Region </th>\n",
       "   <th style=\"text-align:left;\"> Group </th>\n",
       "   <th style=\"text-align:left;\"> Label </th>\n",
       "   <th style=\"text-align:left;\"> Direction_Assay </th>\n",
       "   <th style=\"text-align:left;\"> Direction_Label </th>\n",
       "   <th style=\"text-align:right;\"> Count </th>\n",
       "  </tr>\n",
       " </thead>\n",
       "<tbody>\n",
       "  <tr>\n",
       "   <td style=\"text-align:left;\"> chr1 </td>\n",
       "   <td style=\"text-align:right;\"> 10038 </td>\n",
       "   <td style=\"text-align:right;\"> 10405 </td>\n",
       "   <td style=\"text-align:left;\"> chr1:10038-10405 </td>\n",
       "   <td style=\"text-align:left;\"> ASTARR </td>\n",
       "   <td style=\"text-align:left;\"> ASTARR_R </td>\n",
       "   <td style=\"text-align:left;\"> Repressive </td>\n",
       "   <td style=\"text-align:left;\"> R </td>\n",
       "   <td style=\"text-align:right;\"> 1 </td>\n",
       "  </tr>\n",
       "  <tr>\n",
       "   <td style=\"text-align:left;\"> chr1 </td>\n",
       "   <td style=\"text-align:right;\"> 16025 </td>\n",
       "   <td style=\"text-align:right;\"> 16338 </td>\n",
       "   <td style=\"text-align:left;\"> chr1:16025-16338 </td>\n",
       "   <td style=\"text-align:left;\"> ASTARR </td>\n",
       "   <td style=\"text-align:left;\"> ASTARR_R </td>\n",
       "   <td style=\"text-align:left;\"> Repressive </td>\n",
       "   <td style=\"text-align:left;\"> R </td>\n",
       "   <td style=\"text-align:right;\"> 1 </td>\n",
       "  </tr>\n",
       "  <tr>\n",
       "   <td style=\"text-align:left;\"> chr1 </td>\n",
       "   <td style=\"text-align:right;\"> 17288 </td>\n",
       "   <td style=\"text-align:right;\"> 17689 </td>\n",
       "   <td style=\"text-align:left;\"> chr1:17288-17689 </td>\n",
       "   <td style=\"text-align:left;\"> ASTARR </td>\n",
       "   <td style=\"text-align:left;\"> ASTARR_R </td>\n",
       "   <td style=\"text-align:left;\"> Repressive </td>\n",
       "   <td style=\"text-align:left;\"> R </td>\n",
       "   <td style=\"text-align:right;\"> 1 </td>\n",
       "  </tr>\n",
       "</tbody>\n",
       "</table>"
      ]
     },
     "metadata": {},
     "output_type": "display_data"
    }
   ],
   "source": [
    "### loop to import data\n",
    "lst = lapply(VEC_TXT_FOLDER, function(txt_folder){\n",
    "    ### set file directory\n",
    "    txt_fdiry = file.path(FD_RES, \"region_annotation\", txt_folder, \"summary\")\n",
    "    txt_fname = \"region.annotation.fcc_starrmpra_junke.merge_direction.tsv\"\n",
    "    txt_fpath = file.path(txt_fdiry, txt_fname)\n",
    "\n",
    "    ### read table\n",
    "    dat = read_tsv(txt_fpath, show_col_types = FALSE)\n",
    "    return(dat)\n",
    "})\n",
    "\n",
    "### assign and show\n",
    "lst_dat_region_annot_fcc_starrmpra_peak_import = lst\n",
    "\n",
    "res = lapply(lst, dim)\n",
    "print(res)\n",
    "\n",
    "dat = lst[[1]]\n",
    "fun_display_table(head(dat, 3))"
   ]
  },
  {
   "cell_type": "code",
   "execution_count": 6,
   "id": "4e20fc60-75a1-4c5d-9e43-a01d9580528c",
   "metadata": {},
   "outputs": [
    {
     "name": "stdout",
     "output_type": "stream",
     "text": [
      "$fcc_astarr_macs_input_overlap\n",
      "[1] 150047      9\n",
      "\n",
      "$fcc_astarr_macs_input_union\n",
      "[1] 246862      9\n",
      "\n"
     ]
    },
    {
     "data": {
      "text/html": [
       "<table>\n",
       " <thead>\n",
       "  <tr>\n",
       "   <th style=\"text-align:left;\"> Chrom </th>\n",
       "   <th style=\"text-align:right;\"> ChromStart </th>\n",
       "   <th style=\"text-align:right;\"> ChromEnd </th>\n",
       "   <th style=\"text-align:left;\"> Region </th>\n",
       "   <th style=\"text-align:right;\"> Distance2TSS </th>\n",
       "   <th style=\"text-align:left;\"> TSS_Proximity </th>\n",
       "   <th style=\"text-align:right;\"> TSS </th>\n",
       "   <th style=\"text-align:left;\"> Direction_Assay </th>\n",
       "   <th style=\"text-align:left;\"> Group </th>\n",
       "  </tr>\n",
       " </thead>\n",
       "<tbody>\n",
       "  <tr>\n",
       "   <td style=\"text-align:left;\"> chr1 </td>\n",
       "   <td style=\"text-align:right;\"> 10038 </td>\n",
       "   <td style=\"text-align:right;\"> 10405 </td>\n",
       "   <td style=\"text-align:left;\"> chr1:10038-10405 </td>\n",
       "   <td style=\"text-align:right;\"> 18966 </td>\n",
       "   <td style=\"text-align:left;\"> Distal </td>\n",
       "   <td style=\"text-align:right;\"> 0 </td>\n",
       "   <td style=\"text-align:left;\"> Inactive </td>\n",
       "   <td style=\"text-align:left;\"> Distal:Inactive </td>\n",
       "  </tr>\n",
       "  <tr>\n",
       "   <td style=\"text-align:left;\"> chr1 </td>\n",
       "   <td style=\"text-align:right;\"> 14282 </td>\n",
       "   <td style=\"text-align:right;\"> 14614 </td>\n",
       "   <td style=\"text-align:left;\"> chr1:14282-14614 </td>\n",
       "   <td style=\"text-align:right;\"> 14757 </td>\n",
       "   <td style=\"text-align:left;\"> Distal </td>\n",
       "   <td style=\"text-align:right;\"> 0 </td>\n",
       "   <td style=\"text-align:left;\"> Inactive </td>\n",
       "   <td style=\"text-align:left;\"> Distal:Inactive </td>\n",
       "  </tr>\n",
       "  <tr>\n",
       "   <td style=\"text-align:left;\"> chr1 </td>\n",
       "   <td style=\"text-align:right;\"> 16025 </td>\n",
       "   <td style=\"text-align:right;\"> 16338 </td>\n",
       "   <td style=\"text-align:left;\"> chr1:16025-16338 </td>\n",
       "   <td style=\"text-align:right;\"> 13033 </td>\n",
       "   <td style=\"text-align:left;\"> Distal </td>\n",
       "   <td style=\"text-align:right;\"> 0 </td>\n",
       "   <td style=\"text-align:left;\"> Inactive </td>\n",
       "   <td style=\"text-align:left;\"> Distal:Inactive </td>\n",
       "  </tr>\n",
       "</tbody>\n",
       "</table>"
      ]
     },
     "metadata": {},
     "output_type": "display_data"
    }
   ],
   "source": [
    "### loop to import data\n",
    "lst = lapply(VEC_TXT_FOLDER, function(txt_folder){\n",
    "    ### set file directory\n",
    "    txt_fdiry = file.path(FD_RES, \"region_annotation\", txt_folder, \"summary\")\n",
    "    txt_fname = \"region.annotation.fcc_starrmpra_junke.group.label.tsv\"\n",
    "    txt_fpath = file.path(txt_fdiry, txt_fname)\n",
    "\n",
    "    ### read table\n",
    "    dat = read_tsv(txt_fpath, show_col_types = FALSE)\n",
    "    return(dat)\n",
    "})\n",
    "\n",
    "### assign and show\n",
    "lst_dat_region_annot_fcc_starrmpra_group_import = lst\n",
    "\n",
    "res = lapply(lst, dim)\n",
    "print(res)\n",
    "\n",
    "dat = lst[[1]]\n",
    "fun_display_table(head(dat, 3))"
   ]
  },
  {
   "cell_type": "markdown",
   "id": "a7b777fa-b9ac-4885-b6ed-10a330e53ee5",
   "metadata": {},
   "source": [
    "## Arrange table"
   ]
  },
  {
   "cell_type": "code",
   "execution_count": 7,
   "id": "9c7cf832-a4de-448b-9f13-6065c1c83def",
   "metadata": {},
   "outputs": [
    {
     "name": "stdout",
     "output_type": "stream",
     "text": [
      "$fcc_astarr_macs_input_overlap\n",
      "[1] 43627     9\n",
      "\n",
      "$fcc_astarr_macs_input_union\n",
      "[1] 47669     9\n",
      "\n"
     ]
    },
    {
     "data": {
      "text/html": [
       "<table>\n",
       " <thead>\n",
       "  <tr>\n",
       "   <th style=\"text-align:left;\"> Chrom </th>\n",
       "   <th style=\"text-align:right;\"> ChromStart </th>\n",
       "   <th style=\"text-align:right;\"> ChromEnd </th>\n",
       "   <th style=\"text-align:left;\"> Region </th>\n",
       "   <th style=\"text-align:left;\"> Group </th>\n",
       "   <th style=\"text-align:left;\"> Label </th>\n",
       "   <th style=\"text-align:left;\"> Direction_Assay </th>\n",
       "   <th style=\"text-align:left;\"> Direction_Label </th>\n",
       "   <th style=\"text-align:right;\"> Count </th>\n",
       "  </tr>\n",
       " </thead>\n",
       "<tbody>\n",
       "  <tr>\n",
       "   <td style=\"text-align:left;\"> chr1 </td>\n",
       "   <td style=\"text-align:right;\"> 778233 </td>\n",
       "   <td style=\"text-align:right;\"> 779389 </td>\n",
       "   <td style=\"text-align:left;\"> chr1:778233-779389 </td>\n",
       "   <td style=\"text-align:left;\"> ASTARR </td>\n",
       "   <td style=\"text-align:left;\"> ASTARR_A </td>\n",
       "   <td style=\"text-align:left;\"> Active </td>\n",
       "   <td style=\"text-align:left;\"> A </td>\n",
       "   <td style=\"text-align:right;\"> 1 </td>\n",
       "  </tr>\n",
       "  <tr>\n",
       "   <td style=\"text-align:left;\"> chr1 </td>\n",
       "   <td style=\"text-align:right;\"> 778233 </td>\n",
       "   <td style=\"text-align:right;\"> 779389 </td>\n",
       "   <td style=\"text-align:left;\"> chr1:778233-779389 </td>\n",
       "   <td style=\"text-align:left;\"> LMPRA </td>\n",
       "   <td style=\"text-align:left;\"> LMPRA_A </td>\n",
       "   <td style=\"text-align:left;\"> Active </td>\n",
       "   <td style=\"text-align:left;\"> A </td>\n",
       "   <td style=\"text-align:right;\"> 1 </td>\n",
       "  </tr>\n",
       "  <tr>\n",
       "   <td style=\"text-align:left;\"> chr1 </td>\n",
       "   <td style=\"text-align:right;\"> 778233 </td>\n",
       "   <td style=\"text-align:right;\"> 779389 </td>\n",
       "   <td style=\"text-align:left;\"> chr1:778233-779389 </td>\n",
       "   <td style=\"text-align:left;\"> WSTARR </td>\n",
       "   <td style=\"text-align:left;\"> WSTARR_A </td>\n",
       "   <td style=\"text-align:left;\"> Active </td>\n",
       "   <td style=\"text-align:left;\"> A </td>\n",
       "   <td style=\"text-align:right;\"> 1 </td>\n",
       "  </tr>\n",
       "</tbody>\n",
       "</table>"
      ]
     },
     "metadata": {},
     "output_type": "display_data"
    }
   ],
   "source": [
    "lst = lapply(VEC_TXT_FOLDER, function(txt_folder){\n",
    "    ### get tables\n",
    "    dat_region_peak  = lst_dat_region_annot_fcc_starrmpra_peak_import[[txt_folder]]\n",
    "    dat_region_group = lst_dat_region_annot_fcc_starrmpra_group_import[[txt_folder]]\n",
    "\n",
    "    ### get active/repressive regions\n",
    "    dat = dat_region_group\n",
    "    dat = dat %>% dplyr::filter(!str_detect(Group, \"Inactive\"))\n",
    "    vec = unique(dat$Region)\n",
    "    vec_txt_region = vec\n",
    "\n",
    "    ### filter out AR and get active/repressive regions\n",
    "    dat = dat_region_peak\n",
    "    dat = dat %>% \n",
    "        dplyr::filter(Direction_Label != \"AR\") %>%\n",
    "        dplyr::filter(Region %in% vec_txt_region)\n",
    "    return(dat)\n",
    "})\n",
    "\n",
    "### assign and show\n",
    "lst_dat_region_annot_arrange = lst\n",
    "\n",
    "res = lapply(lst, dim)\n",
    "print(res)\n",
    "\n",
    "dat = lst[[1]]\n",
    "fun_display_table(head(dat, 3))"
   ]
  },
  {
   "cell_type": "markdown",
   "id": "ebce599d-2cd9-4d3b-8ab9-6d1eedfe46a2",
   "metadata": {},
   "source": [
    "**Check: remove AR -> A and R should be mutual exclusive**"
   ]
  },
  {
   "cell_type": "code",
   "execution_count": 8,
   "id": "7659eb14-69b9-4840-9f38-6f0e1f6e6b71",
   "metadata": {},
   "outputs": [
    {
     "data": {
      "text/html": [
       "0"
      ],
      "text/latex": [
       "0"
      ],
      "text/markdown": [
       "0"
      ],
      "text/plain": [
       "[1] 0"
      ]
     },
     "metadata": {},
     "output_type": "display_data"
    }
   ],
   "source": [
    "lst = lst_dat_region_annot_arrange\n",
    "dat = lst[[1]]\n",
    "lst = split(dat$Region, dat$Label)\n",
    "vec1 = lst[[\"ASTARR_A\"]]\n",
    "vec2 = lst[[\"ASTARR_R\"]]\n",
    "length(intersect(vec1, vec2))"
   ]
  },
  {
   "cell_type": "markdown",
   "id": "1544c655-ee2e-436e-9067-e836c676b3e1",
   "metadata": {},
   "source": [
    "**Calculate percentage**"
   ]
  },
  {
   "cell_type": "code",
   "execution_count": 9,
   "id": "7d9db167-7776-4e9a-a5bd-09d8299bf49b",
   "metadata": {},
   "outputs": [
    {
     "name": "stdout",
     "output_type": "stream",
     "text": [
      "$fcc_astarr_macs_input_overlap\n",
      "[1] 8 6\n",
      "\n",
      "$fcc_astarr_macs_input_union\n",
      "[1] 8 6\n",
      "\n"
     ]
    },
    {
     "data": {
      "text/html": [
       "<table>\n",
       " <thead>\n",
       "  <tr>\n",
       "   <th style=\"text-align:left;\"> Group </th>\n",
       "   <th style=\"text-align:left;\"> Direction_Assay </th>\n",
       "   <th style=\"text-align:right;\"> Count </th>\n",
       "   <th style=\"text-align:right;\"> Total </th>\n",
       "   <th style=\"text-align:right;\"> Ratio </th>\n",
       "   <th style=\"text-align:right;\"> Percent </th>\n",
       "  </tr>\n",
       " </thead>\n",
       "<tbody>\n",
       "  <tr>\n",
       "   <td style=\"text-align:left;\"> ASTARR </td>\n",
       "   <td style=\"text-align:left;\"> Active </td>\n",
       "   <td style=\"text-align:right;\"> 9808 </td>\n",
       "   <td style=\"text-align:right;\"> 14220 </td>\n",
       "   <td style=\"text-align:right;\"> 0.6897328 </td>\n",
       "   <td style=\"text-align:right;\"> 68.9732771 </td>\n",
       "  </tr>\n",
       "  <tr>\n",
       "   <td style=\"text-align:left;\"> ASTARR </td>\n",
       "   <td style=\"text-align:left;\"> Repressive </td>\n",
       "   <td style=\"text-align:right;\"> 4412 </td>\n",
       "   <td style=\"text-align:right;\"> 14220 </td>\n",
       "   <td style=\"text-align:right;\"> 0.3102672 </td>\n",
       "   <td style=\"text-align:right;\"> 31.0267229 </td>\n",
       "  </tr>\n",
       "  <tr>\n",
       "   <td style=\"text-align:left;\"> LMPRA </td>\n",
       "   <td style=\"text-align:left;\"> Active </td>\n",
       "   <td style=\"text-align:right;\"> 12610 </td>\n",
       "   <td style=\"text-align:right;\"> 12764 </td>\n",
       "   <td style=\"text-align:right;\"> 0.9879348 </td>\n",
       "   <td style=\"text-align:right;\"> 98.7934817 </td>\n",
       "  </tr>\n",
       "  <tr>\n",
       "   <td style=\"text-align:left;\"> LMPRA </td>\n",
       "   <td style=\"text-align:left;\"> Repressive </td>\n",
       "   <td style=\"text-align:right;\"> 154 </td>\n",
       "   <td style=\"text-align:right;\"> 12764 </td>\n",
       "   <td style=\"text-align:right;\"> 0.0120652 </td>\n",
       "   <td style=\"text-align:right;\"> 1.2065183 </td>\n",
       "  </tr>\n",
       "  <tr>\n",
       "   <td style=\"text-align:left;\"> TMPRA </td>\n",
       "   <td style=\"text-align:left;\"> Active </td>\n",
       "   <td style=\"text-align:right;\"> 359 </td>\n",
       "   <td style=\"text-align:right;\"> 360 </td>\n",
       "   <td style=\"text-align:right;\"> 0.9972222 </td>\n",
       "   <td style=\"text-align:right;\"> 99.7222222 </td>\n",
       "  </tr>\n",
       "  <tr>\n",
       "   <td style=\"text-align:left;\"> TMPRA </td>\n",
       "   <td style=\"text-align:left;\"> Repressive </td>\n",
       "   <td style=\"text-align:right;\"> 1 </td>\n",
       "   <td style=\"text-align:right;\"> 360 </td>\n",
       "   <td style=\"text-align:right;\"> 0.0027778 </td>\n",
       "   <td style=\"text-align:right;\"> 0.2777778 </td>\n",
       "  </tr>\n",
       "  <tr>\n",
       "   <td style=\"text-align:left;\"> WSTARR </td>\n",
       "   <td style=\"text-align:left;\"> Active </td>\n",
       "   <td style=\"text-align:right;\"> 14659 </td>\n",
       "   <td style=\"text-align:right;\"> 16283 </td>\n",
       "   <td style=\"text-align:right;\"> 0.9002641 </td>\n",
       "   <td style=\"text-align:right;\"> 90.0264079 </td>\n",
       "  </tr>\n",
       "  <tr>\n",
       "   <td style=\"text-align:left;\"> WSTARR </td>\n",
       "   <td style=\"text-align:left;\"> Repressive </td>\n",
       "   <td style=\"text-align:right;\"> 1624 </td>\n",
       "   <td style=\"text-align:right;\"> 16283 </td>\n",
       "   <td style=\"text-align:right;\"> 0.0997359 </td>\n",
       "   <td style=\"text-align:right;\"> 9.9735921 </td>\n",
       "  </tr>\n",
       "</tbody>\n",
       "</table>"
      ]
     },
     "metadata": {},
     "output_type": "display_data"
    }
   ],
   "source": [
    "lst = lst_dat_region_annot_arrange\n",
    "\n",
    "lst = lapply(lst, function(dat){\n",
    "    dat = dat %>% \n",
    "        dplyr::select(Region, Group, Direction_Assay) %>%\n",
    "        dplyr::distinct()\n",
    "\n",
    "    ### count by assay and direction\n",
    "    dat = dat %>%\n",
    "        dplyr::group_by(Group, Direction_Assay) %>%\n",
    "        dplyr::summarise(Count = n(), .groups = \"drop\")\n",
    "\n",
    "    ### count by assay\n",
    "    dat = dat %>%\n",
    "        dplyr::group_by(Group) %>%\n",
    "        dplyr::mutate(Total = sum(Count)) %>%\n",
    "        dplyr::ungroup()\n",
    "\n",
    "    ### calculate percentage\n",
    "    dat = dat %>%\n",
    "        dplyr::mutate(Ratio   = Count / Total) %>%\n",
    "        dplyr::mutate(Percent = Ratio * 100) %>%\n",
    "    return(dat)\n",
    "})\n",
    "\n",
    "### assign and show\n",
    "lst_dat_region_annot_ratio = lst\n",
    "\n",
    "res = lapply(lst, dim)\n",
    "print(res)\n",
    "\n",
    "dat = lst[[1]]\n",
    "fun_display_table(dat)"
   ]
  },
  {
   "cell_type": "markdown",
   "id": "7ac7f7c1-21b1-4dd9-842d-2721bd3861fa",
   "metadata": {},
   "source": [
    "**Split by direction**"
   ]
  },
  {
   "cell_type": "code",
   "execution_count": 10,
   "id": "6591108e-049d-44f3-9504-f27edb5e5566",
   "metadata": {},
   "outputs": [
    {
     "name": "stdout",
     "output_type": "stream",
     "text": [
      "$Active\n",
      "[1] 37281     9\n",
      "\n",
      "$Repressive\n",
      "[1] 3503    9\n",
      "\n"
     ]
    },
    {
     "data": {
      "text/html": [
       "<table>\n",
       " <thead>\n",
       "  <tr>\n",
       "   <th style=\"text-align:left;\"> Chrom </th>\n",
       "   <th style=\"text-align:right;\"> ChromStart </th>\n",
       "   <th style=\"text-align:right;\"> ChromEnd </th>\n",
       "   <th style=\"text-align:left;\"> Region </th>\n",
       "   <th style=\"text-align:left;\"> Group </th>\n",
       "   <th style=\"text-align:left;\"> Label </th>\n",
       "   <th style=\"text-align:left;\"> Direction_Assay </th>\n",
       "   <th style=\"text-align:left;\"> Direction_Label </th>\n",
       "   <th style=\"text-align:right;\"> Count </th>\n",
       "  </tr>\n",
       " </thead>\n",
       "<tbody>\n",
       "  <tr>\n",
       "   <td style=\"text-align:left;\"> chr1 </td>\n",
       "   <td style=\"text-align:right;\"> 778233 </td>\n",
       "   <td style=\"text-align:right;\"> 779389 </td>\n",
       "   <td style=\"text-align:left;\"> chr1:778233-779389 </td>\n",
       "   <td style=\"text-align:left;\"> ASTARR </td>\n",
       "   <td style=\"text-align:left;\"> ASTARR_A </td>\n",
       "   <td style=\"text-align:left;\"> Active </td>\n",
       "   <td style=\"text-align:left;\"> A </td>\n",
       "   <td style=\"text-align:right;\"> 1 </td>\n",
       "  </tr>\n",
       "  <tr>\n",
       "   <td style=\"text-align:left;\"> chr1 </td>\n",
       "   <td style=\"text-align:right;\"> 778233 </td>\n",
       "   <td style=\"text-align:right;\"> 779389 </td>\n",
       "   <td style=\"text-align:left;\"> chr1:778233-779389 </td>\n",
       "   <td style=\"text-align:left;\"> LMPRA </td>\n",
       "   <td style=\"text-align:left;\"> LMPRA_A </td>\n",
       "   <td style=\"text-align:left;\"> Active </td>\n",
       "   <td style=\"text-align:left;\"> A </td>\n",
       "   <td style=\"text-align:right;\"> 1 </td>\n",
       "  </tr>\n",
       "  <tr>\n",
       "   <td style=\"text-align:left;\"> chr1 </td>\n",
       "   <td style=\"text-align:right;\"> 778233 </td>\n",
       "   <td style=\"text-align:right;\"> 779389 </td>\n",
       "   <td style=\"text-align:left;\"> chr1:778233-779389 </td>\n",
       "   <td style=\"text-align:left;\"> WSTARR </td>\n",
       "   <td style=\"text-align:left;\"> WSTARR_A </td>\n",
       "   <td style=\"text-align:left;\"> Active </td>\n",
       "   <td style=\"text-align:left;\"> A </td>\n",
       "   <td style=\"text-align:right;\"> 1 </td>\n",
       "  </tr>\n",
       "</tbody>\n",
       "</table>"
      ]
     },
     "metadata": {},
     "output_type": "display_data"
    }
   ],
   "source": [
    "### get tables\n",
    "txt_folder       = \"fcc_astarr_macs_input_overlap\"\n",
    "dat_region_peak  = lst_dat_region_annot_fcc_starrmpra_peak_import[[txt_folder]]\n",
    "dat_region_group = lst_dat_region_annot_fcc_starrmpra_group_import[[txt_folder]]\n",
    "\n",
    "### init: active and repressive labels\n",
    "vec = c(\"Active\", \"Repressive\")\n",
    "names(vec) = vec\n",
    "vec_txt_direction = vec\n",
    "\n",
    "### split regions by direction\n",
    "lst = lapply(vec_txt_direction, function(txt_direction){\n",
    "    ### filter the direction for group table\n",
    "    dat = dat_region_group\n",
    "    dat = dat %>% dplyr::filter(Direction_Assay == txt_direction)\n",
    "    vec = unique(dat$Region)\n",
    "    vec_txt_region = vec\n",
    "\n",
    "    ### filter the direction for peak table\n",
    "    ### filter the regions within the group\n",
    "    dat = dat_region_peak\n",
    "    dat = dat %>% \n",
    "        dplyr::filter(Direction_Assay == txt_direction) %>%\n",
    "        dplyr::filter(Region %in% vec_txt_region)\n",
    "    return(dat)\n",
    "})\n",
    "\n",
    "### assign and show\n",
    "lst_dat_region_annot_overlap_by_direction = lst\n",
    "\n",
    "res = lapply(lst, dim)\n",
    "print(res)\n",
    "\n",
    "dat = lst[[1]]\n",
    "fun_display_table(head(dat, 3))"
   ]
  },
  {
   "cell_type": "markdown",
   "id": "3d868fa4-7d90-4e39-b5d4-4a01f23914ba",
   "metadata": {},
   "source": [
    "**Set plot style**"
   ]
  },
  {
   "cell_type": "code",
   "execution_count": 11,
   "id": "667e026a-6658-4a34-b434-1ecceea767e5",
   "metadata": {},
   "outputs": [],
   "source": [
    "### set text size\n",
    "theme_text = theme(\n",
    "    title      = element_text(size = 16),\n",
    "    axis.title = element_text(size = 16),\n",
    "    axis.text  = element_text(size = 16),\n",
    "    #legend.title = element_text(size = 16),\n",
    "    legend.title = element_blank(),\n",
    "    legend.text  = element_text(size = 16),\n",
    "    strip.text   = element_text(size = 16)\n",
    ")"
   ]
  },
  {
   "cell_type": "markdown",
   "id": "12ae15bb-fdc7-4c62-9a0a-e3e656a5a60d",
   "metadata": {},
   "source": [
    "## Explore: Count"
   ]
  },
  {
   "cell_type": "code",
   "execution_count": 12,
   "id": "caf56b53-9777-43f1-8602-b4bb1cf08794",
   "metadata": {},
   "outputs": [
    {
     "name": "stdout",
     "output_type": "stream",
     "text": [
      "[1] 18341\n"
     ]
    },
    {
     "data": {
      "text/html": [
       "<table>\n",
       " <thead>\n",
       "  <tr>\n",
       "   <th style=\"text-align:left;\"> Group </th>\n",
       "   <th style=\"text-align:right;\"> Count </th>\n",
       "  </tr>\n",
       " </thead>\n",
       "<tbody>\n",
       "  <tr>\n",
       "   <td style=\"text-align:left;\"> ASTARR </td>\n",
       "   <td style=\"text-align:right;\"> 14220 </td>\n",
       "  </tr>\n",
       "  <tr>\n",
       "   <td style=\"text-align:left;\"> LMPRA </td>\n",
       "   <td style=\"text-align:right;\"> 12764 </td>\n",
       "  </tr>\n",
       "  <tr>\n",
       "   <td style=\"text-align:left;\"> TMPRA </td>\n",
       "   <td style=\"text-align:right;\"> 360 </td>\n",
       "  </tr>\n",
       "  <tr>\n",
       "   <td style=\"text-align:left;\"> WSTARR </td>\n",
       "   <td style=\"text-align:right;\"> 16283 </td>\n",
       "  </tr>\n",
       "</tbody>\n",
       "</table>"
      ]
     },
     "metadata": {},
     "output_type": "display_data"
    }
   ],
   "source": [
    "lst = lst_dat_region_annot_arrange\n",
    "dat = lst[[1]]\n",
    "dat = dat %>% dplyr::select(Region, Group) %>% dplyr::distinct()\n",
    "\n",
    "vec = unique(dat$Region)\n",
    "print(length(vec))\n",
    "\n",
    "res = table(dat$Group)\n",
    "dat = as.data.frame(res)\n",
    "colnames(dat) = c(\"Group\", \"Count\")\n",
    "\n",
    "dat_region_count = dat\n",
    "fun_display_table(dat)"
   ]
  },
  {
   "cell_type": "code",
   "execution_count": 13,
   "id": "3bebb931-b997-4965-a101-ee24e0730e8f",
   "metadata": {},
   "outputs": [
    {
     "data": {
      "text/plain": [
       "\n",
       "\n",
       "|Group  |Count  |\n",
       "|:------|:------|\n",
       "|ASTARR |14,220 |\n",
       "|WSTARR |16,283 |\n",
       "|LMPRA  |12,764 |\n",
       "|TMPRA  |360    |"
      ]
     },
     "metadata": {},
     "output_type": "display_data"
    }
   ],
   "source": [
    "dat = dat_region_count\n",
    "vec = c(\"ASTARR\", \"WSTARR\", \"LMPRA\", \"TMPRA\")\n",
    "dat = dat %>% dplyr::mutate(Group = factor(Group, levels = vec))\n",
    "dat = dat %>% dplyr::mutate(Count = scales::comma(Count))\n",
    "dat = dat %>% dplyr::arrange(Group)\n",
    "dat %>% kableExtra::kable(\"markdown\")"
   ]
  },
  {
   "cell_type": "code",
   "execution_count": 14,
   "id": "4202db8b-f429-4b83-8f7a-b14a551e8661",
   "metadata": {},
   "outputs": [
    {
     "data": {
      "image/png": "[encoded data removed]",
      "text/plain": [
       "plot without title"
      ]
     },
     "metadata": {
      "image/png": {
       "height": 240,
       "width": 420
      }
     },
     "output_type": "display_data"
    }
   ],
   "source": [
    "dat = dat_region_count\n",
    "vec = c(\"ASTARR\", \"WSTARR\", \"LMPRA\", \"TMPRA\")\n",
    "dat = dat %>% dplyr::mutate(Group = factor(Group, levels = rev(vec)))\n",
    "\n",
    "### generate plot\n",
    "gpt = ggplot(dat, aes(x=Count/1000, y = Group)) + \n",
    "    geom_col() +\n",
    "    theme_cowplot() +\n",
    "    background_grid() +\n",
    "    labs(x = \"Count (K)\", y = \"\", title = \"STARR/MPRA CREs across assays\") +\n",
    "    theme_text\n",
    "\n",
    "### assign and show\n",
    "gpt_export_bar_count = gpt\n",
    "options(repr.plot.height = 4, repr.plot.width = 7)\n",
    "print(gpt)"
   ]
  },
  {
   "cell_type": "markdown",
   "id": "791bc188-05d2-4343-8a3f-e2c01581c1cd",
   "metadata": {},
   "source": [
    "**Save plots**"
   ]
  },
  {
   "cell_type": "code",
   "execution_count": 15,
   "id": "668f2132-fba2-42cf-889b-a4931a5f73bc",
   "metadata": {},
   "outputs": [],
   "source": [
    "plt_export = gpt_export_bar_count\n",
    "txt_export = \"fig.region_annot.astarr_input_overlap.fcc_starrmpra_vote2.barplot.count.assay\"\n",
    "\n",
    "txt_fdiry = \"./\"\n",
    "txt_fname = paste(txt_export, \"png\", sep = \".\")\n",
    "txt_fpath = file.path(txt_fdiry, txt_fname)\n",
    "ggsave(txt_fpath, plt_export, height = 4, width = 7, units = \"in\")\n",
    "\n",
    "txt_fdiry = \"./\"\n",
    "txt_fname = paste(txt_export, \"svg\", sep = \".\")\n",
    "txt_fpath = file.path(txt_fdiry, txt_fname)\n",
    "ggsave(txt_fpath, plt_export, height = 4, width = 7, units = \"in\")"
   ]
  },
  {
   "cell_type": "markdown",
   "id": "2b3deaed-0436-458d-a39c-f479a4f8f19d",
   "metadata": {},
   "source": [
    "## Explore: Ratio"
   ]
  },
  {
   "cell_type": "code",
   "execution_count": 16,
   "id": "0f5bbf03-1878-4f2b-b707-9e1ab94f6c14",
   "metadata": {},
   "outputs": [
    {
     "data": {
      "text/html": [
       "<table>\n",
       " <thead>\n",
       "  <tr>\n",
       "   <th style=\"text-align:left;\"> Group </th>\n",
       "   <th style=\"text-align:left;\"> Direction_Assay </th>\n",
       "   <th style=\"text-align:right;\"> Count </th>\n",
       "   <th style=\"text-align:right;\"> Total </th>\n",
       "   <th style=\"text-align:right;\"> Ratio </th>\n",
       "   <th style=\"text-align:right;\"> Percent </th>\n",
       "  </tr>\n",
       " </thead>\n",
       "<tbody>\n",
       "  <tr>\n",
       "   <td style=\"text-align:left;\"> ASTARR </td>\n",
       "   <td style=\"text-align:left;\"> Active </td>\n",
       "   <td style=\"text-align:right;\"> 9808 </td>\n",
       "   <td style=\"text-align:right;\"> 14220 </td>\n",
       "   <td style=\"text-align:right;\"> 0.6897328 </td>\n",
       "   <td style=\"text-align:right;\"> 68.9732771 </td>\n",
       "  </tr>\n",
       "  <tr>\n",
       "   <td style=\"text-align:left;\"> ASTARR </td>\n",
       "   <td style=\"text-align:left;\"> Repressive </td>\n",
       "   <td style=\"text-align:right;\"> 4412 </td>\n",
       "   <td style=\"text-align:right;\"> 14220 </td>\n",
       "   <td style=\"text-align:right;\"> 0.3102672 </td>\n",
       "   <td style=\"text-align:right;\"> 31.0267229 </td>\n",
       "  </tr>\n",
       "  <tr>\n",
       "   <td style=\"text-align:left;\"> LMPRA </td>\n",
       "   <td style=\"text-align:left;\"> Active </td>\n",
       "   <td style=\"text-align:right;\"> 12610 </td>\n",
       "   <td style=\"text-align:right;\"> 12764 </td>\n",
       "   <td style=\"text-align:right;\"> 0.9879348 </td>\n",
       "   <td style=\"text-align:right;\"> 98.7934817 </td>\n",
       "  </tr>\n",
       "  <tr>\n",
       "   <td style=\"text-align:left;\"> LMPRA </td>\n",
       "   <td style=\"text-align:left;\"> Repressive </td>\n",
       "   <td style=\"text-align:right;\"> 154 </td>\n",
       "   <td style=\"text-align:right;\"> 12764 </td>\n",
       "   <td style=\"text-align:right;\"> 0.0120652 </td>\n",
       "   <td style=\"text-align:right;\"> 1.2065183 </td>\n",
       "  </tr>\n",
       "  <tr>\n",
       "   <td style=\"text-align:left;\"> TMPRA </td>\n",
       "   <td style=\"text-align:left;\"> Active </td>\n",
       "   <td style=\"text-align:right;\"> 359 </td>\n",
       "   <td style=\"text-align:right;\"> 360 </td>\n",
       "   <td style=\"text-align:right;\"> 0.9972222 </td>\n",
       "   <td style=\"text-align:right;\"> 99.7222222 </td>\n",
       "  </tr>\n",
       "  <tr>\n",
       "   <td style=\"text-align:left;\"> TMPRA </td>\n",
       "   <td style=\"text-align:left;\"> Repressive </td>\n",
       "   <td style=\"text-align:right;\"> 1 </td>\n",
       "   <td style=\"text-align:right;\"> 360 </td>\n",
       "   <td style=\"text-align:right;\"> 0.0027778 </td>\n",
       "   <td style=\"text-align:right;\"> 0.2777778 </td>\n",
       "  </tr>\n",
       "  <tr>\n",
       "   <td style=\"text-align:left;\"> WSTARR </td>\n",
       "   <td style=\"text-align:left;\"> Active </td>\n",
       "   <td style=\"text-align:right;\"> 14659 </td>\n",
       "   <td style=\"text-align:right;\"> 16283 </td>\n",
       "   <td style=\"text-align:right;\"> 0.9002641 </td>\n",
       "   <td style=\"text-align:right;\"> 90.0264079 </td>\n",
       "  </tr>\n",
       "  <tr>\n",
       "   <td style=\"text-align:left;\"> WSTARR </td>\n",
       "   <td style=\"text-align:left;\"> Repressive </td>\n",
       "   <td style=\"text-align:right;\"> 1624 </td>\n",
       "   <td style=\"text-align:right;\"> 16283 </td>\n",
       "   <td style=\"text-align:right;\"> 0.0997359 </td>\n",
       "   <td style=\"text-align:right;\"> 9.9735921 </td>\n",
       "  </tr>\n",
       "</tbody>\n",
       "</table>"
      ]
     },
     "metadata": {},
     "output_type": "display_data"
    }
   ],
   "source": [
    "lst = lst_dat_region_annot_ratio\n",
    "dat = lst[[1]]\n",
    "dat_region_ratio = dat\n",
    "fun_display_table(dat)"
   ]
  },
  {
   "cell_type": "code",
   "execution_count": 17,
   "id": "4bc8ee0f-c6cd-4150-ada3-a581dd73ecf6",
   "metadata": {},
   "outputs": [
    {
     "data": {
      "text/plain": [
       "\n",
       "\n",
       "|Group  |Active |Repressive |\n",
       "|:------|:------|:----------|\n",
       "|ASTARR |69%    |31%        |\n",
       "|LMPRA  |99%    |1%         |\n",
       "|TMPRA  |99.7%  |0.3%       |\n",
       "|WSTARR |90%    |10%        |"
      ]
     },
     "metadata": {},
     "output_type": "display_data"
    }
   ],
   "source": [
    "fun = function(num){\n",
    "    if (num > 99) {\n",
    "        num = round(num, 1)\n",
    "        return(num)\n",
    "    } \n",
    "    if (num < 1) {\n",
    "        num = round(num, 1)\n",
    "        return(num)  \n",
    "    }\n",
    "    num = round(num)    \n",
    "    return(num)\n",
    "}\n",
    "\n",
    "dat = dat_region_ratio\n",
    "dat$Percent = sapply(dat$Percent, fun)\n",
    "\n",
    "dat = dat %>% \n",
    "    dplyr::select(Group, Direction_Assay, Percent) %>%\n",
    "    dplyr::mutate(Percent = paste0(Percent, \"%\")) %>%\n",
    "    tidyr::spread(Direction_Assay, Percent)\n",
    "\n",
    "dat %>% kableExtra::kable(\"markdown\")"
   ]
  },
  {
   "cell_type": "code",
   "execution_count": 18,
   "id": "b3ee974b-4966-41d8-b900-d2f4c1c27a3c",
   "metadata": {},
   "outputs": [
    {
     "data": {
      "image/png": "[encoded data removed]",
      "text/plain": [
       "plot without title"
      ]
     },
     "metadata": {
      "image/png": {
       "height": 240,
       "width": 480
      }
     },
     "output_type": "display_data"
    }
   ],
   "source": [
    "dat = dat_region_ratio\n",
    "vec = c(\"ASTARR\", \"WSTARR\", \"LMPRA\", \"TMPRA\")\n",
    "dat = dat %>% dplyr::mutate(Group = factor(Group, levels = rev(vec)))\n",
    "\n",
    "### set color\n",
    "vec_txt_color  = c(\"Active\" = \"#fb8072\", \"Repressive\" = \"#80b1d3\")\n",
    "theme_color = scale_fill_manual(values = vec_txt_color)\n",
    "\n",
    "### plot\n",
    "gpt = ggplot(dat, aes(x = Percent, y = Group, fill = Direction_Assay)) + \n",
    "    geom_col() +\n",
    "    theme_cowplot() +\n",
    "    background_grid() +\n",
    "    labs(x = \"Percent (%)\", y = \"\", title = \"Composition of Active/Repressive in CREs\") +\n",
    "    theme_text +\n",
    "    theme_color\n",
    "\n",
    "### assign and show\n",
    "gpt_export_bar_ratio = gpt\n",
    "options(repr.plot.height = 4, repr.plot.width = 8)\n",
    "print(gpt)"
   ]
  },
  {
   "cell_type": "markdown",
   "id": "ade3db38-f4f8-4e9b-a0e7-7d5fa320f272",
   "metadata": {},
   "source": [
    "**Save plot**"
   ]
  },
  {
   "cell_type": "code",
   "execution_count": 19,
   "id": "654fb910-5be8-4bcd-81fc-3e4f51b0b84a",
   "metadata": {},
   "outputs": [],
   "source": [
    "plt_export = gpt_export_bar_ratio\n",
    "txt_export = \"fig.region_annot.astarr_input_overlap.fcc_starrmpra_vote2.barplot.ratio.direction\"\n",
    "\n",
    "txt_fdiry = \"./\"\n",
    "txt_fname = paste(txt_export, \"png\", sep = \".\")\n",
    "txt_fpath = file.path(txt_fdiry, txt_fname)\n",
    "ggsave(txt_fpath, plt_export, height = 4, width = 7, units = \"in\")\n",
    "\n",
    "txt_fdiry = \"./\"\n",
    "txt_fname = paste(txt_export, \"svg\", sep = \".\")\n",
    "txt_fpath = file.path(txt_fdiry, txt_fname)\n",
    "ggsave(txt_fpath, plt_export, height = 4, width = 7, units = \"in\")"
   ]
  },
  {
   "cell_type": "markdown",
   "id": "f3457ab8-fe04-4273-8353-f5c62b53f044",
   "metadata": {},
   "source": [
    "## Explore: Region overlap"
   ]
  },
  {
   "cell_type": "markdown",
   "id": "260cbe68-8e38-4d9c-b138-b9e62e96aba5",
   "metadata": {},
   "source": [
    "**Total**"
   ]
  },
  {
   "cell_type": "code",
   "execution_count": 20,
   "id": "32b8aec3-44a9-46ca-9bf8-36012322f37c",
   "metadata": {},
   "outputs": [
    {
     "name": "stdout",
     "output_type": "stream",
     "text": [
      "[1] 18341\n"
     ]
    },
    {
     "data": {
      "image/png": "[encoded data removed]",
      "text/plain": [
       "plot without title"
      ]
     },
     "metadata": {
      "image/png": {
       "height": 300,
       "width": 600
      }
     },
     "output_type": "display_data"
    }
   ],
   "source": [
    "lst = lst_dat_region_annot_arrange\n",
    "dat = lst[[1]]\n",
    "dat = dat %>%\n",
    "    dplyr::select(Region, Group) %>% \n",
    "    dplyr::distinct()\n",
    "lst = split(dat$Region, dat$Group)\n",
    "\n",
    "vec = unique(dat$Region)\n",
    "print(length(vec))\n",
    "\n",
    "plt = upset(\n",
    "    fromList(lst), \n",
    "    order.by = \"freq\", \n",
    "    mb.ratio = c(0.5, 0.5),\n",
    "    text.scale=1.7\n",
    ")\n",
    "\n",
    "### assign and show\n",
    "plt_export_upset_total = plt\n",
    "options(repr.plot.height=5, repr.plot.width=10)\n",
    "print(plt)"
   ]
  },
  {
   "cell_type": "markdown",
   "id": "1745d42b-3bc6-43f0-9e2c-caf0e5a99577",
   "metadata": {},
   "source": [
    "**Save plots**"
   ]
  },
  {
   "cell_type": "code",
   "execution_count": 21,
   "id": "4310b46e-8ced-4b24-9012-06e18d0fdc1c",
   "metadata": {},
   "outputs": [
    {
     "data": {
      "text/html": [
       "<strong>pdf:</strong> 2"
      ],
      "text/latex": [
       "\\textbf{pdf:} 2"
      ],
      "text/markdown": [
       "**pdf:** 2"
      ],
      "text/plain": [
       "pdf \n",
       "  2 "
      ]
     },
     "metadata": {},
     "output_type": "display_data"
    },
    {
     "data": {
      "text/html": [
       "<strong>pdf:</strong> 2"
      ],
      "text/latex": [
       "\\textbf{pdf:} 2"
      ],
      "text/markdown": [
       "**pdf:** 2"
      ],
      "text/plain": [
       "pdf \n",
       "  2 "
      ]
     },
     "metadata": {},
     "output_type": "display_data"
    }
   ],
   "source": [
    "plt_export = plt_export_upset_total\n",
    "txt_export = \"fig.region_annot.astarr_input_overlap.fcc_starrmpra_vote2.upset.total\"\n",
    "\n",
    "txt_fdiry = \"./\"\n",
    "txt_fname = paste(txt_export, \"png\", sep = \".\")\n",
    "txt_fpath = file.path(txt_fdiry, txt_fname)\n",
    "\n",
    "png(txt_fpath, height = 5, width = 10, units = \"in\", res = 300)\n",
    "print(plt_export)\n",
    "dev.off()\n",
    "\n",
    "txt_fdiry = \"./\"\n",
    "txt_fname = paste(txt_export, \"svg\", sep = \".\")\n",
    "txt_fpath = file.path(txt_fdiry, txt_fname)\n",
    "\n",
    "svg(txt_fpath, height = 5, width = 10)\n",
    "print(plt_export)\n",
    "dev.off()"
   ]
  },
  {
   "cell_type": "markdown",
   "id": "ee107bba-a003-4981-b8b7-ee3070fb2f61",
   "metadata": {},
   "source": [
    "**Active**"
   ]
  },
  {
   "cell_type": "code",
   "execution_count": 22,
   "id": "4c6c4c27-5915-4ece-914b-d7dcfa0ec559",
   "metadata": {},
   "outputs": [
    {
     "name": "stdout",
     "output_type": "stream",
     "text": [
      "[1] 16597\n"
     ]
    },
    {
     "data": {
      "image/png": "[encoded data removed]",
      "text/plain": [
       "plot without title"
      ]
     },
     "metadata": {
      "image/png": {
       "height": 300,
       "width": 600
      }
     },
     "output_type": "display_data"
    }
   ],
   "source": [
    "lst = lst_dat_region_annot_overlap_by_direction\n",
    "dat = lst[[\"Active\"]]\n",
    "dat = dat %>% dplyr::select(Region, Group) %>% dplyr::distinct()\n",
    "lst = split(dat$Region, dat$Group)\n",
    "\n",
    "vec = unique(dat$Region)\n",
    "print(length(vec))\n",
    "\n",
    "plt = upset(\n",
    "    fromList(lst), \n",
    "    order.by = \"freq\", \n",
    "    mb.ratio = c(0.5, 0.5),\n",
    "    text.scale=1.7,\n",
    "    main.bar.color = \"#fb8072\",\n",
    "    sets.bar.color = \"#fb8072\"\n",
    ")\n",
    "\n",
    "### assign and show\n",
    "plt_export_upset_active = plt\n",
    "options(repr.plot.height=5, repr.plot.width=10)\n",
    "print(plt)"
   ]
  },
  {
   "cell_type": "markdown",
   "id": "ea13ce3f-8440-448c-bca2-1596e187a008",
   "metadata": {},
   "source": [
    "**Save plots**"
   ]
  },
  {
   "cell_type": "code",
   "execution_count": 23,
   "id": "e6f67b14-43c5-4984-bdca-1e5b1461cd10",
   "metadata": {},
   "outputs": [
    {
     "data": {
      "text/html": [
       "<strong>pdf:</strong> 2"
      ],
      "text/latex": [
       "\\textbf{pdf:} 2"
      ],
      "text/markdown": [
       "**pdf:** 2"
      ],
      "text/plain": [
       "pdf \n",
       "  2 "
      ]
     },
     "metadata": {},
     "output_type": "display_data"
    },
    {
     "data": {
      "text/html": [
       "<strong>pdf:</strong> 2"
      ],
      "text/latex": [
       "\\textbf{pdf:} 2"
      ],
      "text/markdown": [
       "**pdf:** 2"
      ],
      "text/plain": [
       "pdf \n",
       "  2 "
      ]
     },
     "metadata": {},
     "output_type": "display_data"
    }
   ],
   "source": [
    "plt_export = plt_export_upset_active\n",
    "txt_export = \"fig.region_annot.astarr_input_overlap.fcc_starrmpra_vote2.upset.active\"\n",
    "\n",
    "txt_fdiry = \"./\"\n",
    "txt_fname = paste(txt_export, \"png\", sep = \".\")\n",
    "txt_fpath = file.path(txt_fdiry, txt_fname)\n",
    "\n",
    "png(txt_fpath, height = 5, width = 10, units = \"in\", res = 300)\n",
    "print(plt_export)\n",
    "dev.off()\n",
    "\n",
    "txt_fdiry = \"./\"\n",
    "txt_fname = paste(txt_export, \"svg\", sep = \".\")\n",
    "txt_fpath = file.path(txt_fdiry, txt_fname)\n",
    "\n",
    "svg(txt_fpath, height = 5, width = 10)\n",
    "print(plt_export)\n",
    "dev.off()"
   ]
  },
  {
   "cell_type": "markdown",
   "id": "80e10fcb-38e4-48be-a239-dff0583508ef",
   "metadata": {},
   "source": [
    "**Repressive**"
   ]
  },
  {
   "cell_type": "code",
   "execution_count": 24,
   "id": "34b2d9cd-a18b-4cca-8d22-9e5b9c3c429d",
   "metadata": {},
   "outputs": [
    {
     "name": "stdout",
     "output_type": "stream",
     "text": [
      "[1] 1749\n"
     ]
    },
    {
     "data": {
      "image/png": "[encoded data removed]",
      "text/plain": [
       "plot without title"
      ]
     },
     "metadata": {
      "image/png": {
       "height": 300,
       "width": 600
      }
     },
     "output_type": "display_data"
    }
   ],
   "source": [
    "lst = lst_dat_region_annot_overlap_by_direction\n",
    "dat = lst[[\"Repressive\"]]\n",
    "dat = dat %>% dplyr::select(Region, Group) %>% dplyr::distinct()\n",
    "lst = split(dat$Region, dat$Group)\n",
    "\n",
    "vec = unique(dat$Region)\n",
    "print(length(vec))\n",
    "\n",
    "plt = upset(\n",
    "    fromList(lst), \n",
    "    order.by = \"freq\", \n",
    "    mb.ratio = c(0.5, 0.5),\n",
    "    text.scale=1.7,\n",
    "    main.bar.color = \"#80b1d3\",\n",
    "    sets.bar.color = \"#80b1d3\"\n",
    ")\n",
    "\n",
    "### assign and show\n",
    "plt_export_upset_repress = plt\n",
    "options(repr.plot.height=5, repr.plot.width=10)\n",
    "print(plt)"
   ]
  },
  {
   "cell_type": "markdown",
   "id": "db05dcc7-24eb-4308-b8d1-2fb9eb2db4cf",
   "metadata": {},
   "source": [
    "**Save plots**"
   ]
  },
  {
   "cell_type": "code",
   "execution_count": 25,
   "id": "a681a4d9-9945-4225-a652-d5394c8f5ca3",
   "metadata": {},
   "outputs": [
    {
     "data": {
      "text/html": [
       "<strong>pdf:</strong> 2"
      ],
      "text/latex": [
       "\\textbf{pdf:} 2"
      ],
      "text/markdown": [
       "**pdf:** 2"
      ],
      "text/plain": [
       "pdf \n",
       "  2 "
      ]
     },
     "metadata": {},
     "output_type": "display_data"
    },
    {
     "data": {
      "text/html": [
       "<strong>pdf:</strong> 2"
      ],
      "text/latex": [
       "\\textbf{pdf:} 2"
      ],
      "text/markdown": [
       "**pdf:** 2"
      ],
      "text/plain": [
       "pdf \n",
       "  2 "
      ]
     },
     "metadata": {},
     "output_type": "display_data"
    }
   ],
   "source": [
    "plt_export = plt_export_upset_repress\n",
    "txt_export = \"fig.region_annot.astarr_input_overlap.fcc_starrmpra_vote2.upset.repressive\"\n",
    "\n",
    "txt_fdiry = \"./\"\n",
    "txt_fname = paste(txt_export, \"png\", sep = \".\")\n",
    "txt_fpath = file.path(txt_fdiry, txt_fname)\n",
    "\n",
    "png(txt_fpath, height = 5, width = 10, units = \"in\", res = 300)\n",
    "print(plt_export)\n",
    "dev.off()\n",
    "\n",
    "txt_fdiry = \"./\"\n",
    "txt_fname = paste(txt_export, \"svg\", sep = \".\")\n",
    "txt_fpath = file.path(txt_fdiry, txt_fname)\n",
    "\n",
    "svg(txt_fpath, height = 5, width = 10)\n",
    "print(plt_export)\n",
    "dev.off()"
   ]
  },
  {
   "cell_type": "code",
   "execution_count": 26,
   "id": "722e625c-a6d8-45a9-b960-5b306c79421f",
   "metadata": {},
   "outputs": [
    {
     "data": {
      "text/html": [
       "18346"
      ],
      "text/latex": [
       "18346"
      ],
      "text/markdown": [
       "18346"
      ],
      "text/plain": [
       "[1] 18346"
      ]
     },
     "metadata": {},
     "output_type": "display_data"
    }
   ],
   "source": [
    "16597 + 1749"
   ]
  },
  {
   "cell_type": "code",
   "execution_count": null,
   "id": "e03bb089-845f-449d-9846-5036381b426e",
   "metadata": {},
   "outputs": [],
   "source": []
  }
 ],
 "metadata": {
  "kernelspec": {
   "display_name": "R",
   "language": "R",
   "name": "ir"
  },
  "language_info": {
   "codemirror_mode": "r",
   "file_extension": ".r",
   "mimetype": "text/x-r-source",
   "name": "R",
   "pygments_lexer": "r",
   "version": "4.4.2"
  }
 },
 "nbformat": 4,
 "nbformat_minor": 5
}
