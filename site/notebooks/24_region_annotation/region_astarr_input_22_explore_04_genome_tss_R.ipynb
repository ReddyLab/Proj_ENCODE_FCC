{
 "cells": [
  {
   "cell_type": "raw",
   "id": "df165196-664b-4be7-a146-abf346f97d47",
   "metadata": {},
   "source": [
    "---\n",
    "title: Annotation of ATAC (ASTARR Input) 22\n",
    "subtitle: 04 Explore/Visualize ATAC w/ TSS\n",
    "format:\n",
    "    html:\n",
    "        code-fold:  true\n",
    "        code-tools: true\n",
    "---"
   ]
  },
  {
   "cell_type": "markdown",
   "id": "eff56e37-03a9-4350-a480-f84aac7cb02d",
   "metadata": {},
   "source": [
    "**Set environment**"
   ]
  },
  {
   "cell_type": "code",
   "execution_count": 1,
   "id": "e313c3e9-c139-44b4-a0f8-e031e1567825",
   "metadata": {
    "tags": []
   },
   "outputs": [
    {
     "name": "stdout",
     "output_type": "stream",
     "text": [
      "You are working on        Singularity: singularity_proj_encode_fcc \n",
      "BASE DIRECTORY (FD_BASE): /data/reddylab/Kuei \n",
      "REPO DIRECTORY (FD_REPO): /data/reddylab/Kuei/repo \n",
      "WORK DIRECTORY (FD_WORK): /data/reddylab/Kuei/work \n",
      "DATA DIRECTORY (FD_DATA): /data/reddylab/Kuei/data \n",
      "\n",
      "You are working with      ENCODE FCC \n",
      "PATH OF PROJECT (FD_PRJ): /data/reddylab/Kuei/repo/Proj_ENCODE_FCC \n",
      "PROJECT RESULTS (FD_RES): /data/reddylab/Kuei/repo/Proj_ENCODE_FCC/results \n",
      "PROJECT SCRIPTS (FD_EXE): /data/reddylab/Kuei/repo/Proj_ENCODE_FCC/scripts \n",
      "PROJECT DATA    (FD_DAT): /data/reddylab/Kuei/repo/Proj_ENCODE_FCC/data \n",
      "PROJECT NOTE    (FD_NBK): /data/reddylab/Kuei/repo/Proj_ENCODE_FCC/notebooks \n",
      "PROJECT DOCS    (FD_DOC): /data/reddylab/Kuei/repo/Proj_ENCODE_FCC/docs \n",
      "PROJECT LOG     (FD_LOG): /data/reddylab/Kuei/repo/Proj_ENCODE_FCC/log \n",
      "PROJECT REF     (FD_REF): /data/reddylab/Kuei/repo/Proj_ENCODE_FCC/references \n",
      "\n"
     ]
    }
   ],
   "source": [
    "suppressMessages(suppressWarnings(source(\"../run_config_project_sing.R\")))\n",
    "show_env()"
   ]
  },
  {
   "cell_type": "markdown",
   "id": "9b695313-e671-4965-8681-23df49e54355",
   "metadata": {},
   "source": [
    "## Prepare"
   ]
  },
  {
   "cell_type": "markdown",
   "id": "df51c5ed-850d-4b0d-a57d-0835ad8bd192",
   "metadata": {},
   "source": [
    "**Set global variable**"
   ]
  },
  {
   "cell_type": "code",
   "execution_count": 2,
   "id": "d3d9f4fe-2f5b-4c73-b8ea-b1c5be76d4a6",
   "metadata": {},
   "outputs": [
    {
     "name": "stdout",
     "output_type": "stream",
     "text": [
      "fcc_astarr_macs_input_overlap \n",
      "fcc_astarr_macs_input_union \n"
     ]
    }
   ],
   "source": [
    "vec = c(\n",
    "    \"fcc_astarr_macs_input_overlap\",\n",
    "    \"fcc_astarr_macs_input_union\"\n",
    ")\n",
    "names(vec) = vec\n",
    "\n",
    "VEC_TXT_FOLDER = vec\n",
    "for(txt in vec){cat(txt, \"\\n\")}"
   ]
  },
  {
   "cell_type": "code",
   "execution_count": 3,
   "id": "6f132f8b-976a-48c7-945b-f360ac085559",
   "metadata": {},
   "outputs": [],
   "source": [
    "TXT_FNAME_ANNOT = \"region.annotation.genome_tss.tsv\""
   ]
  },
  {
   "cell_type": "markdown",
   "id": "9cc8144f-de9b-4af1-ad73-9b968b5358cb",
   "metadata": {},
   "source": [
    "**View files**"
   ]
  },
  {
   "cell_type": "code",
   "execution_count": 4,
   "id": "8b933c50-f73f-47ff-87f5-744dcd8b97a9",
   "metadata": {},
   "outputs": [
    {
     "name": "stdout",
     "output_type": "stream",
     "text": [
      "/data/reddylab/Kuei/repo/Proj_ENCODE_FCC/results/region_annotation/fcc_astarr_macs_input_overlap/summary/region.annotation.genome_tss.tsv \n",
      "/data/reddylab/Kuei/repo/Proj_ENCODE_FCC/results/region_annotation/fcc_astarr_macs_input_union/summary/region.annotation.genome_tss.tsv \n"
     ]
    }
   ],
   "source": [
    "txt_fdiry = file.path(FD_RES, \"region_annotation\", \"*\", \"summary\")\n",
    "txt_fname = TXT_FNAME_ANNOT\n",
    "txt_fglob = file.path(txt_fdiry, txt_fname)\n",
    "\n",
    "vec = Sys.glob(txt_fglob)\n",
    "for(txt in vec){cat(txt, \"\\n\")}"
   ]
  },
  {
   "cell_type": "markdown",
   "id": "dfa47173-b420-4e0c-9cfd-383234dc6aad",
   "metadata": {},
   "source": [
    "## Import data"
   ]
  },
  {
   "cell_type": "markdown",
   "id": "7c2db702-f224-4608-8268-55a5a6b5f640",
   "metadata": {},
   "source": [
    "**Read region annotation**"
   ]
  },
  {
   "cell_type": "code",
   "execution_count": 5,
   "id": "a98db23d-f484-4b4b-bcff-09a3cb952cb3",
   "metadata": {},
   "outputs": [
    {
     "name": "stdout",
     "output_type": "stream",
     "text": [
      "$fcc_astarr_macs_input_overlap\n",
      "[1] 10817    11\n",
      "\n",
      "$fcc_astarr_macs_input_union\n",
      "[1] 10968    11\n",
      "\n"
     ]
    },
    {
     "data": {
      "text/html": [
       "<table>\n",
       " <thead>\n",
       "  <tr>\n",
       "   <th style=\"text-align:left;\"> Chrom </th>\n",
       "   <th style=\"text-align:right;\"> ChromStart </th>\n",
       "   <th style=\"text-align:right;\"> ChromEnd </th>\n",
       "   <th style=\"text-align:left;\"> Region </th>\n",
       "   <th style=\"text-align:left;\"> Annotation_A </th>\n",
       "   <th style=\"text-align:left;\"> Annotation_B </th>\n",
       "   <th style=\"text-align:left;\"> Group </th>\n",
       "   <th style=\"text-align:left;\"> Label </th>\n",
       "   <th style=\"text-align:left;\"> Region_Annot </th>\n",
       "   <th style=\"text-align:right;\"> Region_Count </th>\n",
       "   <th style=\"text-align:left;\"> Essential </th>\n",
       "  </tr>\n",
       " </thead>\n",
       "<tbody>\n",
       "  <tr>\n",
       "   <td style=\"text-align:left;\"> chr1 </td>\n",
       "   <td style=\"text-align:right;\"> 28934 </td>\n",
       "   <td style=\"text-align:right;\"> 29499 </td>\n",
       "   <td style=\"text-align:left;\"> chr1:28934-29499 </td>\n",
       "   <td style=\"text-align:left;\"> fcc_astarr_macs_input_overlap </td>\n",
       "   <td style=\"text-align:left;\"> genome_tss_pol2_rnaseq </td>\n",
       "   <td style=\"text-align:left;\"> TSS_Pol2_RNAseq </td>\n",
       "   <td style=\"text-align:left;\"> WASH7P </td>\n",
       "   <td style=\"text-align:left;\"> chr1:29370-29371 </td>\n",
       "   <td style=\"text-align:right;\"> 1 </td>\n",
       "   <td style=\"text-align:left;\"> FALSE </td>\n",
       "  </tr>\n",
       "  <tr>\n",
       "   <td style=\"text-align:left;\"> chr1 </td>\n",
       "   <td style=\"text-align:right;\"> 826796 </td>\n",
       "   <td style=\"text-align:right;\"> 828040 </td>\n",
       "   <td style=\"text-align:left;\"> chr1:826796-828040 </td>\n",
       "   <td style=\"text-align:left;\"> fcc_astarr_macs_input_overlap </td>\n",
       "   <td style=\"text-align:left;\"> genome_tss_pol2_rnaseq </td>\n",
       "   <td style=\"text-align:left;\"> TSS_Pol2_RNAseq </td>\n",
       "   <td style=\"text-align:left;\"> LINC00115 </td>\n",
       "   <td style=\"text-align:left;\"> chr1:827522-827523 </td>\n",
       "   <td style=\"text-align:right;\"> 1 </td>\n",
       "   <td style=\"text-align:left;\"> FALSE </td>\n",
       "  </tr>\n",
       "  <tr>\n",
       "   <td style=\"text-align:left;\"> chr1 </td>\n",
       "   <td style=\"text-align:right;\"> 826796 </td>\n",
       "   <td style=\"text-align:right;\"> 828040 </td>\n",
       "   <td style=\"text-align:left;\"> chr1:826796-828040 </td>\n",
       "   <td style=\"text-align:left;\"> fcc_astarr_macs_input_overlap </td>\n",
       "   <td style=\"text-align:left;\"> genome_tss_pol2_rnaseq </td>\n",
       "   <td style=\"text-align:left;\"> TSS_Pol2_RNAseq </td>\n",
       "   <td style=\"text-align:left;\"> LINC01128 </td>\n",
       "   <td style=\"text-align:left;\"> chr1:827590-827591 </td>\n",
       "   <td style=\"text-align:right;\"> 1 </td>\n",
       "   <td style=\"text-align:left;\"> FALSE </td>\n",
       "  </tr>\n",
       "</tbody>\n",
       "</table>"
      ]
     },
     "metadata": {},
     "output_type": "display_data"
    }
   ],
   "source": [
    "### loop to import data\n",
    "lst = lapply(VEC_TXT_FOLDER, function(txt_folder){\n",
    "    ### set file directory\n",
    "    txt_fdiry = file.path(FD_RES, \"region_annotation\", txt_folder, \"summary\")\n",
    "    txt_fname = TXT_FNAME_ANNOT\n",
    "    txt_fpath = file.path(txt_fdiry, txt_fname)\n",
    "\n",
    "    ### read table\n",
    "    dat = read_tsv(txt_fpath, show_col_types = FALSE)\n",
    "    return(dat)\n",
    "})\n",
    "names(lst) = VEC_TXT_FOLDER\n",
    "\n",
    "### assign and show\n",
    "lst_dat_region_annot_import = lst\n",
    "\n",
    "res = lapply(lst, dim)\n",
    "print(res)\n",
    "\n",
    "dat = lst[[1]]\n",
    "fun_display_table(head(dat, 3))"
   ]
  },
  {
   "cell_type": "markdown",
   "id": "144142c3-bede-487a-bf47-c4ee0332f47f",
   "metadata": {},
   "source": [
    "**Region TSS proximity**"
   ]
  },
  {
   "cell_type": "code",
   "execution_count": 6,
   "id": "e14a3622-5e86-45ae-a4f2-2011fa851d9e",
   "metadata": {},
   "outputs": [
    {
     "name": "stdout",
     "output_type": "stream",
     "text": [
      "$fcc_astarr_macs_input_overlap\n",
      "[1] 150042      8\n",
      "\n",
      "$fcc_astarr_macs_input_union\n",
      "[1] 246852      8\n",
      "\n"
     ]
    },
    {
     "data": {
      "text/html": [
       "<table>\n",
       " <thead>\n",
       "  <tr>\n",
       "   <th style=\"text-align:left;\"> Chrom </th>\n",
       "   <th style=\"text-align:right;\"> ChromStart </th>\n",
       "   <th style=\"text-align:right;\"> ChromEnd </th>\n",
       "   <th style=\"text-align:left;\"> Region </th>\n",
       "   <th style=\"text-align:left;\"> Annotation_A </th>\n",
       "   <th style=\"text-align:left;\"> Annotation_B </th>\n",
       "   <th style=\"text-align:right;\"> Distance2TSS </th>\n",
       "   <th style=\"text-align:left;\"> TSS_Proximity </th>\n",
       "  </tr>\n",
       " </thead>\n",
       "<tbody>\n",
       "  <tr>\n",
       "   <td style=\"text-align:left;\"> chr1 </td>\n",
       "   <td style=\"text-align:right;\"> 10038 </td>\n",
       "   <td style=\"text-align:right;\"> 10405 </td>\n",
       "   <td style=\"text-align:left;\"> chr1:10038-10405 </td>\n",
       "   <td style=\"text-align:left;\"> fcc_astarr_macs_input_overlap </td>\n",
       "   <td style=\"text-align:left;\"> genome_tss_pol2_rnaseq </td>\n",
       "   <td style=\"text-align:right;\"> 18966 </td>\n",
       "   <td style=\"text-align:left;\"> Distal </td>\n",
       "  </tr>\n",
       "  <tr>\n",
       "   <td style=\"text-align:left;\"> chr1 </td>\n",
       "   <td style=\"text-align:right;\"> 14282 </td>\n",
       "   <td style=\"text-align:right;\"> 14614 </td>\n",
       "   <td style=\"text-align:left;\"> chr1:14282-14614 </td>\n",
       "   <td style=\"text-align:left;\"> fcc_astarr_macs_input_overlap </td>\n",
       "   <td style=\"text-align:left;\"> genome_tss_pol2_rnaseq </td>\n",
       "   <td style=\"text-align:right;\"> 14757 </td>\n",
       "   <td style=\"text-align:left;\"> Distal </td>\n",
       "  </tr>\n",
       "  <tr>\n",
       "   <td style=\"text-align:left;\"> chr1 </td>\n",
       "   <td style=\"text-align:right;\"> 16025 </td>\n",
       "   <td style=\"text-align:right;\"> 16338 </td>\n",
       "   <td style=\"text-align:left;\"> chr1:16025-16338 </td>\n",
       "   <td style=\"text-align:left;\"> fcc_astarr_macs_input_overlap </td>\n",
       "   <td style=\"text-align:left;\"> genome_tss_pol2_rnaseq </td>\n",
       "   <td style=\"text-align:right;\"> 13033 </td>\n",
       "   <td style=\"text-align:left;\"> Distal </td>\n",
       "  </tr>\n",
       "</tbody>\n",
       "</table>"
      ]
     },
     "metadata": {},
     "output_type": "display_data"
    }
   ],
   "source": [
    "### loop to import data\n",
    "lst = lapply(VEC_TXT_FOLDER, function(txt_folder){\n",
    "    ### set file directory\n",
    "    txt_fdiry = file.path(FD_RES, \"region_closest\", txt_folder, \"summary\")\n",
    "    txt_fname = \"region.summary.genome_tss.tsv\"\n",
    "    txt_fpath = file.path(txt_fdiry, txt_fname)\n",
    "\n",
    "    ### read table\n",
    "    dat = read_tsv(txt_fpath, show_col_types = FALSE)\n",
    "    return(dat)\n",
    "})\n",
    "names(lst) = VEC_TXT_FOLDER\n",
    "\n",
    "### assign and show\n",
    "lst_dat_region_dist_import = lst\n",
    "\n",
    "res = lapply(lst, dim)\n",
    "print(res)\n",
    "\n",
    "dat = lst[[1]]\n",
    "fun_display_table(head(dat, 3))"
   ]
  },
  {
   "cell_type": "markdown",
   "id": "157b30f2-c607-47b3-ace9-6352feca2835",
   "metadata": {},
   "source": [
    "**Import GC content**"
   ]
  },
  {
   "cell_type": "code",
   "execution_count": 7,
   "id": "821e7e11-003b-4708-991e-a638125448e8",
   "metadata": {},
   "outputs": [
    {
     "name": "stdout",
     "output_type": "stream",
     "text": [
      "$fcc_astarr_macs_input_overlap\n",
      "[1] 150042      6\n",
      "\n",
      "$fcc_astarr_macs_input_union\n",
      "[1] 246852      6\n",
      "\n"
     ]
    },
    {
     "data": {
      "text/html": [
       "<table>\n",
       " <thead>\n",
       "  <tr>\n",
       "   <th style=\"text-align:left;\"> Chrom </th>\n",
       "   <th style=\"text-align:right;\"> ChromStart </th>\n",
       "   <th style=\"text-align:right;\"> ChromEnd </th>\n",
       "   <th style=\"text-align:left;\"> Region </th>\n",
       "   <th style=\"text-align:right;\"> pGC </th>\n",
       "   <th style=\"text-align:right;\"> Length </th>\n",
       "  </tr>\n",
       " </thead>\n",
       "<tbody>\n",
       "  <tr>\n",
       "   <td style=\"text-align:left;\"> chr1 </td>\n",
       "   <td style=\"text-align:right;\"> 10038 </td>\n",
       "   <td style=\"text-align:right;\"> 10405 </td>\n",
       "   <td style=\"text-align:left;\"> chr1:10038-10405 </td>\n",
       "   <td style=\"text-align:right;\"> 0.523161 </td>\n",
       "   <td style=\"text-align:right;\"> 367 </td>\n",
       "  </tr>\n",
       "  <tr>\n",
       "   <td style=\"text-align:left;\"> chr1 </td>\n",
       "   <td style=\"text-align:right;\"> 14282 </td>\n",
       "   <td style=\"text-align:right;\"> 14614 </td>\n",
       "   <td style=\"text-align:left;\"> chr1:14282-14614 </td>\n",
       "   <td style=\"text-align:right;\"> 0.578313 </td>\n",
       "   <td style=\"text-align:right;\"> 332 </td>\n",
       "  </tr>\n",
       "  <tr>\n",
       "   <td style=\"text-align:left;\"> chr1 </td>\n",
       "   <td style=\"text-align:right;\"> 16025 </td>\n",
       "   <td style=\"text-align:right;\"> 16338 </td>\n",
       "   <td style=\"text-align:left;\"> chr1:16025-16338 </td>\n",
       "   <td style=\"text-align:right;\"> 0.587859 </td>\n",
       "   <td style=\"text-align:right;\"> 313 </td>\n",
       "  </tr>\n",
       "</tbody>\n",
       "</table>"
      ]
     },
     "metadata": {},
     "output_type": "display_data"
    }
   ],
   "source": [
    "lst = list(\n",
    "    \"fcc_astarr_macs_input_overlap\" = \"K562.hg38.ASTARR.macs.KS91.input.rep_all.max_overlaps.q5.tsv\",\n",
    "    \"fcc_astarr_macs_input_union\"   = \"K562.hg38.ASTARR.macs.KS91.input.rep_all.union.q5.tsv\"\n",
    "    \n",
    ")\n",
    "lst = lapply(lst, function(txt_fname){\n",
    "    ### set file directory\n",
    "    txt_fdiry = file.path(FD_RES, \"region_nuc\", \"fcc_astarr_macs\", \"summary\")\n",
    "    txt_fpath = file.path(txt_fdiry, txt_fname)\n",
    "    \n",
    "    ### read table\n",
    "    dat = read_tsv(txt_fpath, show_col_types = FALSE)\n",
    "    return(dat)\n",
    "})\n",
    "\n",
    "### assign and show\n",
    "lst_dat_region_nuc_import = lst\n",
    "\n",
    "res = lapply(lst, dim)\n",
    "print(res)\n",
    "\n",
    "dat = lst[[1]]\n",
    "fun_display_table(head(dat, 3))"
   ]
  },
  {
   "cell_type": "markdown",
   "id": "af568655-ac4a-433c-8de1-4bcaa5002893",
   "metadata": {},
   "source": [
    "**Read region**"
   ]
  },
  {
   "cell_type": "code",
   "execution_count": 8,
   "id": "0c03e9a2-cedd-4061-b68f-56ed864b9cd0",
   "metadata": {},
   "outputs": [
    {
     "name": "stdout",
     "output_type": "stream",
     "text": [
      "[1] 11892     8\n"
     ]
    },
    {
     "data": {
      "text/html": [
       "<table>\n",
       " <thead>\n",
       "  <tr>\n",
       "   <th style=\"text-align:left;\"> Chrom </th>\n",
       "   <th style=\"text-align:right;\"> ChromStart </th>\n",
       "   <th style=\"text-align:right;\"> ChromEnd </th>\n",
       "   <th style=\"text-align:left;\"> Region </th>\n",
       "   <th style=\"text-align:left;\"> Gene </th>\n",
       "   <th style=\"text-align:right;\"> Score </th>\n",
       "   <th style=\"text-align:left;\"> Group </th>\n",
       "   <th style=\"text-align:left;\"> Label </th>\n",
       "  </tr>\n",
       " </thead>\n",
       "<tbody>\n",
       "  <tr>\n",
       "   <td style=\"text-align:left;\"> chr1 </td>\n",
       "   <td style=\"text-align:right;\"> 29370 </td>\n",
       "   <td style=\"text-align:right;\"> 29371 </td>\n",
       "   <td style=\"text-align:left;\"> chr1:29370-29371 </td>\n",
       "   <td style=\"text-align:left;\"> WASH7P </td>\n",
       "   <td style=\"text-align:right;\"> 0.00023 </td>\n",
       "   <td style=\"text-align:left;\"> TSS_Pol2_RNAseq </td>\n",
       "   <td style=\"text-align:left;\"> WASH7P </td>\n",
       "  </tr>\n",
       "  <tr>\n",
       "   <td style=\"text-align:left;\"> chr1 </td>\n",
       "   <td style=\"text-align:right;\"> 827522 </td>\n",
       "   <td style=\"text-align:right;\"> 827523 </td>\n",
       "   <td style=\"text-align:left;\"> chr1:827522-827523 </td>\n",
       "   <td style=\"text-align:left;\"> LINC00115 </td>\n",
       "   <td style=\"text-align:right;\"> 64.46560 </td>\n",
       "   <td style=\"text-align:left;\"> TSS_Pol2_RNAseq </td>\n",
       "   <td style=\"text-align:left;\"> LINC00115 </td>\n",
       "  </tr>\n",
       "  <tr>\n",
       "   <td style=\"text-align:left;\"> chr1 </td>\n",
       "   <td style=\"text-align:right;\"> 827590 </td>\n",
       "   <td style=\"text-align:right;\"> 827591 </td>\n",
       "   <td style=\"text-align:left;\"> chr1:827590-827591 </td>\n",
       "   <td style=\"text-align:left;\"> LINC01128 </td>\n",
       "   <td style=\"text-align:right;\"> 64.46030 </td>\n",
       "   <td style=\"text-align:left;\"> TSS_Pol2_RNAseq </td>\n",
       "   <td style=\"text-align:left;\"> LINC01128 </td>\n",
       "  </tr>\n",
       "</tbody>\n",
       "</table>"
      ]
     },
     "metadata": {},
     "output_type": "display_data"
    }
   ],
   "source": [
    "### set file directory\n",
    "txt_fdiry = file.path(FD_RES, \"region\", \"genome_tss\", \"summary\")\n",
    "txt_fname = \"K562.hg38.TSS.selected_by_highest_Pol2_signal.filtered_by_RNAseq_TPM.tsv\"\n",
    "txt_fpath = file.path(txt_fdiry, txt_fname)\n",
    "\n",
    "### read table\n",
    "dat = read_tsv(txt_fpath, show_col_types = FALSE)\n",
    "\n",
    "### assign and show\n",
    "dat_region_original = dat\n",
    "print(dim(dat))\n",
    "fun_display_table(head(dat, 3))"
   ]
  },
  {
   "cell_type": "markdown",
   "id": "3f904adb-4f9a-4fef-a25c-6a6e55e39210",
   "metadata": {},
   "source": [
    "## Arrange table"
   ]
  },
  {
   "cell_type": "code",
   "execution_count": 9,
   "id": "9765317c-c70e-4f6c-8ec3-7e87ca14a00d",
   "metadata": {},
   "outputs": [
    {
     "name": "stdout",
     "output_type": "stream",
     "text": [
      "$fcc_astarr_macs_input_overlap\n",
      "[1] 150042      9\n",
      "\n",
      "$fcc_astarr_macs_input_union\n",
      "[1] 246852      9\n",
      "\n"
     ]
    },
    {
     "data": {
      "text/html": [
       "<table>\n",
       " <thead>\n",
       "  <tr>\n",
       "   <th style=\"text-align:left;\"> Chrom </th>\n",
       "   <th style=\"text-align:right;\"> ChromStart </th>\n",
       "   <th style=\"text-align:right;\"> ChromEnd </th>\n",
       "   <th style=\"text-align:left;\"> Region </th>\n",
       "   <th style=\"text-align:right;\"> pGC </th>\n",
       "   <th style=\"text-align:right;\"> Length </th>\n",
       "   <th style=\"text-align:right;\"> Distance2TSS </th>\n",
       "   <th style=\"text-align:left;\"> TSS_Proximity </th>\n",
       "   <th style=\"text-align:right;\"> TSS </th>\n",
       "  </tr>\n",
       " </thead>\n",
       "<tbody>\n",
       "  <tr>\n",
       "   <td style=\"text-align:left;\"> chr1 </td>\n",
       "   <td style=\"text-align:right;\"> 10038 </td>\n",
       "   <td style=\"text-align:right;\"> 10405 </td>\n",
       "   <td style=\"text-align:left;\"> chr1:10038-10405 </td>\n",
       "   <td style=\"text-align:right;\"> 0.523161 </td>\n",
       "   <td style=\"text-align:right;\"> 367 </td>\n",
       "   <td style=\"text-align:right;\"> 18966 </td>\n",
       "   <td style=\"text-align:left;\"> Distal </td>\n",
       "   <td style=\"text-align:right;\"> 0 </td>\n",
       "  </tr>\n",
       "  <tr>\n",
       "   <td style=\"text-align:left;\"> chr1 </td>\n",
       "   <td style=\"text-align:right;\"> 14282 </td>\n",
       "   <td style=\"text-align:right;\"> 14614 </td>\n",
       "   <td style=\"text-align:left;\"> chr1:14282-14614 </td>\n",
       "   <td style=\"text-align:right;\"> 0.578313 </td>\n",
       "   <td style=\"text-align:right;\"> 332 </td>\n",
       "   <td style=\"text-align:right;\"> 14757 </td>\n",
       "   <td style=\"text-align:left;\"> Distal </td>\n",
       "   <td style=\"text-align:right;\"> 0 </td>\n",
       "  </tr>\n",
       "  <tr>\n",
       "   <td style=\"text-align:left;\"> chr1 </td>\n",
       "   <td style=\"text-align:right;\"> 16025 </td>\n",
       "   <td style=\"text-align:right;\"> 16338 </td>\n",
       "   <td style=\"text-align:left;\"> chr1:16025-16338 </td>\n",
       "   <td style=\"text-align:right;\"> 0.587859 </td>\n",
       "   <td style=\"text-align:right;\"> 313 </td>\n",
       "   <td style=\"text-align:right;\"> 13033 </td>\n",
       "   <td style=\"text-align:left;\"> Distal </td>\n",
       "   <td style=\"text-align:right;\"> 0 </td>\n",
       "  </tr>\n",
       "</tbody>\n",
       "</table>"
      ]
     },
     "metadata": {},
     "output_type": "display_data"
    }
   ],
   "source": [
    "lst = lapply(VEC_TXT_FOLDER, function(txt_folder){\n",
    "    ### get tables\n",
    "    dat_region_annot = lst_dat_region_annot_import[[txt_folder]]\n",
    "    dat_region_dist  = lst_dat_region_dist_import[[txt_folder]]\n",
    "    dat_region_nuc   = lst_dat_region_nuc_import[[txt_folder]]\n",
    "\n",
    "    ### arrange TSS annotation\n",
    "    dat = dat_region_annot\n",
    "    dat = dat %>% dplyr::mutate(TSS = 1) %>% dplyr::select(Region, TSS) %>% dplyr::distinct()\n",
    "    dat_region_annot_arrange = dat\n",
    "\n",
    "    ### arrange TSS proximity\n",
    "    dat = dat_region_dist\n",
    "    dat = dat %>% dplyr::select(Region, Distance2TSS, TSS_Proximity) %>% dplyr::distinct()\n",
    "    dat_region_dist_arrange = dat\n",
    "    \n",
    "    ### join the arranged table with GC content\n",
    "    dat = dat_region_nuc\n",
    "    dat = dat %>%\n",
    "        dplyr::left_join(dat_region_dist_arrange,  by = \"Region\") %>%\n",
    "        dplyr::left_join(dat_region_annot_arrange, by = \"Region\") %>%\n",
    "        replace(is.na(.), 0) %>%\n",
    "    return(dat)\n",
    "})\n",
    "\n",
    "### assign and show\n",
    "lst_dat_region_annot_arrange = lst\n",
    "\n",
    "res = lapply(lst, dim)\n",
    "print(res)\n",
    "\n",
    "dat = lst[[1]]\n",
    "fun_display_table(head(dat, 3))"
   ]
  },
  {
   "cell_type": "markdown",
   "id": "bc40698d-8b57-40c3-8e45-8e5d548b487c",
   "metadata": {},
   "source": [
    "**Check**"
   ]
  },
  {
   "cell_type": "code",
   "execution_count": 10,
   "id": "ea80d5da-6f6b-44d0-a9b8-e47c2ecc48d7",
   "metadata": {},
   "outputs": [
    {
     "name": "stdout",
     "output_type": "stream",
     "text": [
      "$fcc_astarr_macs_input_overlap\n",
      "\n",
      "TSS_Pol2_RNAseq \n",
      "          10817 \n",
      "\n",
      "$fcc_astarr_macs_input_union\n",
      "\n",
      "TSS_Pol2_RNAseq \n",
      "          10968 \n",
      "\n"
     ]
    }
   ],
   "source": [
    "lst = lst_dat_region_annot_import\n",
    "lst = lapply(lst, function(dat){table(dat$Group)})\n",
    "print(lst)"
   ]
  },
  {
   "cell_type": "markdown",
   "id": "d838a975-b159-4ea1-b533-47683f0fbe7e",
   "metadata": {},
   "source": [
    "## Explore: Count table"
   ]
  },
  {
   "cell_type": "markdown",
   "id": "1d8d45ce-029b-4bf4-93ba-8bd87b36133b",
   "metadata": {},
   "source": [
    "**Total peaks**"
   ]
  },
  {
   "cell_type": "code",
   "execution_count": 11,
   "id": "91fe03ed-0bd9-4a97-a596-54a9ef7a7082",
   "metadata": {},
   "outputs": [
    {
     "data": {
      "text/html": [
       "<table>\n",
       " <thead>\n",
       "  <tr>\n",
       "   <th style=\"text-align:left;\"> Group </th>\n",
       "   <th style=\"text-align:right;\"> Freq </th>\n",
       "  </tr>\n",
       " </thead>\n",
       "<tbody>\n",
       "  <tr>\n",
       "   <td style=\"text-align:left;\"> TSS_Pol2_RNAseq </td>\n",
       "   <td style=\"text-align:right;\"> 11823 </td>\n",
       "  </tr>\n",
       "</tbody>\n",
       "</table>"
      ]
     },
     "metadata": {},
     "output_type": "display_data"
    }
   ],
   "source": [
    "dat = dat_region_original\n",
    "dat = dat %>% dplyr::select(Region, Group) %>% dplyr::distinct()\n",
    "\n",
    "res = table(dat$Group, dnn = \"Group\")\n",
    "dat = as.data.frame(res)\n",
    "\n",
    "dat_region_peak_count = dat\n",
    "fun_display_table(dat)"
   ]
  },
  {
   "cell_type": "markdown",
   "id": "a92ae978-d479-4ae2-b540-57e181eb14fc",
   "metadata": {},
   "source": [
    "**Count ATAC regions annotated**"
   ]
  },
  {
   "cell_type": "code",
   "execution_count": 12,
   "id": "f0ba16b0-277a-4e0c-a8aa-1fa2e5c29b49",
   "metadata": {},
   "outputs": [
    {
     "data": {
      "text/html": [
       "<table>\n",
       " <thead>\n",
       "  <tr>\n",
       "   <th style=\"text-align:left;\"> Region </th>\n",
       "   <th style=\"text-align:left;\"> Group </th>\n",
       "   <th style=\"text-align:right;\"> Freq </th>\n",
       "  </tr>\n",
       " </thead>\n",
       "<tbody>\n",
       "  <tr>\n",
       "   <td style=\"text-align:left;\"> fcc_astarr_macs_input_overlap </td>\n",
       "   <td style=\"text-align:left;\"> TSS_Pol2_RNAseq </td>\n",
       "   <td style=\"text-align:right;\"> 9649 </td>\n",
       "  </tr>\n",
       "  <tr>\n",
       "   <td style=\"text-align:left;\"> fcc_astarr_macs_input_union </td>\n",
       "   <td style=\"text-align:left;\"> TSS_Pol2_RNAseq </td>\n",
       "   <td style=\"text-align:right;\"> 9788 </td>\n",
       "  </tr>\n",
       "</tbody>\n",
       "</table>"
      ]
     },
     "metadata": {},
     "output_type": "display_data"
    }
   ],
   "source": [
    "lst = lst_dat_region_annot_import\n",
    "lst = lapply(lst, function(dat){\n",
    "    dat = dat %>% dplyr::select(Region, Group) %>% dplyr::distinct()\n",
    "    res = table(dat$Group, dnn = \"Group\")\n",
    "    dat = as.data.frame(res)\n",
    "    return(dat)\n",
    "})\n",
    "dat = bind_rows(lst, .id = \"Region\")\n",
    "\n",
    "### assign and show\n",
    "dat_region_annot_count = dat\n",
    "fun_display_table(dat)"
   ]
  },
  {
   "cell_type": "markdown",
   "id": "fef4cc05-7d1c-43f0-b556-d2eb7263a340",
   "metadata": {},
   "source": [
    "**Summarize**"
   ]
  },
  {
   "cell_type": "code",
   "execution_count": 13,
   "id": "f30647c8-e941-4f0c-bef3-b72dcf983d70",
   "metadata": {},
   "outputs": [
    {
     "data": {
      "text/plain": [
       "\n",
       "\n",
       "|Group           |Location (Total) |ATAC (Overlap) |ATAC (Union) |\n",
       "|:---------------|:----------------|:--------------|:------------|\n",
       "|TSS_Pol2_RNAseq |11,823           |9,649          |9,788        |"
      ]
     },
     "metadata": {},
     "output_type": "display_data"
    }
   ],
   "source": [
    "tmp = dat_region_peak_count\n",
    "tmp = tmp %>% dplyr::mutate(Freq = scales::comma(Freq))\n",
    "colnames(tmp) = c(\"Group\", \"Location (Total)\")\n",
    "\n",
    "dat = dat_region_annot_count\n",
    "dat = dat %>% \n",
    "    dplyr::mutate(Region = fun_str_map_atac(Region)) %>%\n",
    "    dplyr::mutate(Freq   = scales::comma(Freq)) %>%\n",
    "    tidyr::spread(Region, Freq)\n",
    "\n",
    "dat = tmp %>% dplyr::right_join(dat, by = \"Group\")\n",
    "dat %>% kableExtra::kable(\"markdown\")"
   ]
  },
  {
   "cell_type": "markdown",
   "id": "b4949982-71f0-4c80-bdb1-2f3ef8fe7235",
   "metadata": {},
   "source": [
    "## GC content and region length distribution"
   ]
  },
  {
   "cell_type": "markdown",
   "id": "50054f79-0a13-4773-95f9-482f7eb50006",
   "metadata": {},
   "source": [
    "**Set plot style**"
   ]
  },
  {
   "cell_type": "code",
   "execution_count": 14,
   "id": "600df81d-8018-4319-ad44-70c34c551572",
   "metadata": {},
   "outputs": [],
   "source": [
    "### set text size\n",
    "theme_text = theme(\n",
    "    title      = element_text(size = 16),\n",
    "    axis.title = element_text(size = 16),\n",
    "    axis.text  = element_text(size = 16),\n",
    "    #legend.title = element_text(size = 16),\n",
    "    legend.title = element_blank(),\n",
    "    legend.text  = element_text(size = 16)\n",
    ")\n",
    "\n",
    "### set color\n",
    "vec_txt_color  = c(\"TSS-Overlapped\" = \"#fb8072\", \"Not-Overlapped\" = \"grey50\")\n",
    "theme_color = scale_fill_manual(values = vec_txt_color)\n",
    "\n",
    "### set factor order\n",
    "vec_txt_direct = c(\"TSS-Overlapped\", \"Not-Overlapped\")"
   ]
  },
  {
   "cell_type": "markdown",
   "id": "467cda1a-7bb4-4805-8c63-0c6d53fb3186",
   "metadata": {},
   "source": [
    "**Distribution of GC content**"
   ]
  },
  {
   "cell_type": "code",
   "execution_count": 15,
   "id": "b52219c4-245b-43e0-992b-8e0d60232fbb",
   "metadata": {},
   "outputs": [
    {
     "data": {
      "image/png": "[encoded data removed]",
      "text/plain": [
       "plot without title"
      ]
     },
     "metadata": {
      "image/png": {
       "height": 240,
       "width": 420
      }
     },
     "output_type": "display_data"
    }
   ],
   "source": [
    "### get table and set factor\n",
    "lst = lst_dat_region_annot_arrange\n",
    "dat = lst[[\"fcc_astarr_macs_input_overlap\"]]\n",
    "dat = dat %>% \n",
    "    dplyr::mutate(Label = ifelse(TSS, \"TSS-Overlapped\", \"Not-Overlapped\")) %>%\n",
    "    dplyr::mutate(Label = factor(Label, levels=rev(vec_txt_direct)))\n",
    "\n",
    "### generate plot\n",
    "gpt = ggplot(dat, aes(x=pGC, fill=Label)) + \n",
    "    geom_density(alpha = 0.7) + \n",
    "    theme_cowplot() + \n",
    "    background_grid() +\n",
    "    theme_color +\n",
    "    theme_text +\n",
    "    labs(x = \"GC Content\", y = \"Density\", title = \"ATAC overlapped with TSS\")\n",
    "\n",
    "### assign and show\n",
    "gpt_export_nuc = gpt\n",
    "options(repr.plot.height = 4, repr.plot.width = 7)\n",
    "print(gpt)"
   ]
  },
  {
   "cell_type": "code",
   "execution_count": 16,
   "id": "09c7567a-adca-4e1c-936b-2abeac0d773c",
   "metadata": {},
   "outputs": [
    {
     "data": {
      "image/png": "[encoded data removed]",
      "text/plain": [
       "plot without title"
      ]
     },
     "metadata": {
      "image/png": {
       "height": 240,
       "width": 420
      }
     },
     "output_type": "display_data"
    }
   ],
   "source": [
    "### get table and set factor\n",
    "lst = lst_dat_region_annot_arrange\n",
    "dat = lst[[\"fcc_astarr_macs_input_overlap\"]]\n",
    "dat = dat %>% \n",
    "    dplyr::mutate(Label = ifelse(TSS, \"TSS-Overlapped\", \"Not-Overlapped\")) %>%\n",
    "    dplyr::mutate(Label = factor(Label, levels=rev(vec_txt_direct)))\n",
    "\n",
    "### generate plot\n",
    "gpt = ggplot(dat, aes(x=Length/1000, fill=Label)) + \n",
    "    geom_density(alpha = 0.7) + \n",
    "    theme_cowplot() + \n",
    "    background_grid() +\n",
    "    theme_color +\n",
    "    theme_text +\n",
    "    labs(x = \"Length (kb)\", y = \"Density\", title = \"ATAC overlapped with TSS\")\n",
    "\n",
    "### assign and show\n",
    "gpt_export_length = gpt\n",
    "options(repr.plot.height = 4, repr.plot.width = 7)\n",
    "print(gpt)"
   ]
  },
  {
   "cell_type": "markdown",
   "id": "f2ed4a29-2e18-418c-a514-02e1a4efc9c2",
   "metadata": {},
   "source": [
    "**Save plots**"
   ]
  },
  {
   "cell_type": "code",
   "execution_count": 17,
   "id": "445f3065-c7df-4925-acb3-14debb7448a0",
   "metadata": {},
   "outputs": [],
   "source": [
    "plt_export = gpt_export_nuc\n",
    "txt_export = \"fig.region_annot.astarr_input_overlap.genome_tss.distribution.gc_content\"\n",
    "\n",
    "txt_fdiry = \"./\"\n",
    "txt_fname = paste(txt_export, \"png\", sep = \".\")\n",
    "txt_fpath = file.path(txt_fdiry, txt_fname)\n",
    "ggsave(txt_fpath, plt_export, height = 4, width = 7, units = \"in\")\n",
    "\n",
    "txt_fdiry = \"./\"\n",
    "txt_fname = paste(txt_export, \"svg\", sep = \".\")\n",
    "txt_fpath = file.path(txt_fdiry, txt_fname)\n",
    "ggsave(txt_fpath, plt_export, height = 4, width = 7, units = \"in\")"
   ]
  },
  {
   "cell_type": "code",
   "execution_count": 18,
   "id": "42405c07-a4df-4fbc-b1e5-43101354a7d1",
   "metadata": {},
   "outputs": [],
   "source": [
    "plt_export = gpt_export_length\n",
    "txt_export = \"fig.region_annot.astarr_input_overlap.genome_tss.distribution.length\"\n",
    "\n",
    "txt_fdiry = \"./\"\n",
    "txt_fname = paste(txt_export, \"png\", sep = \".\")\n",
    "txt_fpath = file.path(txt_fdiry, txt_fname)\n",
    "ggsave(txt_fpath, plt_export, height = 4, width = 7, units = \"in\")\n",
    "\n",
    "txt_fdiry = \"./\"\n",
    "txt_fname = paste(txt_export, \"svg\", sep = \".\")\n",
    "txt_fpath = file.path(txt_fdiry, txt_fname)\n",
    "ggsave(txt_fpath, plt_export, height = 4, width = 7, units = \"in\")"
   ]
  },
  {
   "cell_type": "markdown",
   "id": "53918a19-b17d-489a-8a10-6554b9bdcc08",
   "metadata": {},
   "source": [
    "## Sanity check"
   ]
  },
  {
   "cell_type": "markdown",
   "id": "e321318f-6984-427a-9205-6d59c53583ff",
   "metadata": {},
   "source": [
    "**Check**"
   ]
  },
  {
   "cell_type": "code",
   "execution_count": 19,
   "id": "2638c1be-f7d7-4aed-86a8-8c2bcaebec03",
   "metadata": {},
   "outputs": [
    {
     "name": "stdout",
     "output_type": "stream",
     "text": [
      "Region: fcc_astarr_macs_input_overlap \n",
      "Check: TRUE \n",
      "Check: TRUE \n",
      "Region: fcc_astarr_macs_input_union \n",
      "Check: TRUE \n",
      "Check: TRUE \n"
     ]
    }
   ],
   "source": [
    "for (txt_folder in VEC_TXT_FOLDER){\n",
    "    cat(\"Region:\", txt_folder, \"\\n\")\n",
    "    dat_region_annot = lst_dat_region_annot_import[[txt_folder]]\n",
    "    dat_region_dist  = lst_dat_region_dist_import[[txt_folder]]\n",
    "    dat_region_nuc   = lst_dat_region_nuc_import[[txt_folder]]\n",
    "    cat(\"Check:\", all(dat_region_annot$Region %in% dat_region_nuc$Region), \"\\n\")\n",
    "    cat(\"Check:\", all(dat_region_nuc$Region == dat_region_dist$Region),    \"\\n\")\n",
    "}"
   ]
  },
  {
   "cell_type": "markdown",
   "id": "ffad3ba2-4a86-41cb-9028-0746bfc72908",
   "metadata": {},
   "source": [
    "**Check: TSS proximity and TSS overlap: Overlapped with TSS <-> Distance to TSS == 0**"
   ]
  },
  {
   "cell_type": "code",
   "execution_count": 20,
   "id": "698f2d41-8e45-48b2-8eea-cb0ff322bbca",
   "metadata": {},
   "outputs": [
    {
     "name": "stdout",
     "output_type": "stream",
     "text": [
      "Region: fcc_astarr_macs_input_overlap \n",
      "Missing? FALSE \n",
      "\n",
      "If D==0: \n",
      "\n",
      "TSS==1 \n",
      "  9649 \n",
      "\n",
      "If TSS==1: \n",
      "\n",
      "D==0 \n",
      "9649 \n",
      "\n",
      "Region: fcc_astarr_macs_input_union \n",
      "Missing? FALSE \n",
      "\n",
      "If D==0: \n",
      "\n",
      "TSS==1 \n",
      "  9788 \n",
      "\n",
      "If TSS==1: \n",
      "\n",
      "D==0 \n",
      "9788 \n",
      "\n"
     ]
    }
   ],
   "source": [
    "for (txt_folder in VEC_TXT_FOLDER){\n",
    "    cat(\"Region:\", txt_folder, \"\\n\")\n",
    "    dat = lst_dat_region_annot_arrange[[txt_folder]]\n",
    "    \n",
    "    ### check missing values\n",
    "    cat(\"Missing?\", any(is.na(dat)), \"\\n\")\n",
    "    cat(\"\\n\")\n",
    "    \n",
    "    ### check TSS annotation and distance\n",
    "    cat(\"If D==0:\", \"\\n\")\n",
    "    tmp = dat %>% \n",
    "        dplyr::filter(Distance2TSS == 0) %>%\n",
    "        dplyr::mutate(Note = ifelse(TSS == 1, \"TSS==1\", \"TSS!=1\"))\n",
    "    res = table(tmp$Note)\n",
    "    print(res)\n",
    "    cat(\"\\n\")\n",
    "    \n",
    "    cat(\"If TSS==1:\", \"\\n\")\n",
    "    tmp = dat %>% \n",
    "        dplyr::filter(TSS == 1) %>% \n",
    "        dplyr::mutate(Note = ifelse(Distance2TSS == 0, \"D==0\", \"D>0\"))\n",
    "    res = table(tmp$Note)\n",
    "    print(res)\n",
    "    cat(\"\\n\")\n",
    "}"
   ]
  },
  {
   "cell_type": "code",
   "execution_count": null,
   "id": "761714cd-8be9-438f-93a5-33e429805561",
   "metadata": {},
   "outputs": [],
   "source": []
  }
 ],
 "metadata": {
  "kernelspec": {
   "display_name": "R",
   "language": "R",
   "name": "ir"
  },
  "language_info": {
   "codemirror_mode": "r",
   "file_extension": ".r",
   "mimetype": "text/x-r-source",
   "name": "R",
   "pygments_lexer": "r",
   "version": "4.4.2"
  }
 },
 "nbformat": 4,
 "nbformat_minor": 5
}
