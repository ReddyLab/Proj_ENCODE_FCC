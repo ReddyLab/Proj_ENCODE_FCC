{
 "cells": [
  {
   "cell_type": "raw",
   "id": "b1d08302-fc62-4c11-8e38-43566b3d9b1d",
   "metadata": {},
   "source": [
    "---\n",
    "title: Annotation of ATAC (ASTARR Input) 21\n",
    "subtitle: 06 Explore/Visualize ATAC w/ ENCODE chromatin states\n",
    "format:\n",
    "    html:\n",
    "        code-fold:  true\n",
    "        code-tools: true\n",
    "---"
   ]
  },
  {
   "cell_type": "markdown",
   "id": "53e4fa51-709b-4a7c-89f1-5399d6231807",
   "metadata": {},
   "source": [
    "**Set environment**"
   ]
  },
  {
   "cell_type": "code",
   "execution_count": 1,
   "id": "84dd9fa2-e71f-4105-8061-7a732d6211ce",
   "metadata": {
    "tags": []
   },
   "outputs": [
    {
     "name": "stdout",
     "output_type": "stream",
     "text": [
      "You are working on        Singularity: singularity_proj_encode_fcc \n",
      "BASE DIRECTORY (FD_BASE): /data/reddylab/Kuei \n",
      "REPO DIRECTORY (FD_REPO): /data/reddylab/Kuei/repo \n",
      "WORK DIRECTORY (FD_WORK): /data/reddylab/Kuei/work \n",
      "DATA DIRECTORY (FD_DATA): /data/reddylab/Kuei/data \n",
      "\n",
      "You are working with      ENCODE FCC \n",
      "PATH OF PROJECT (FD_PRJ): /data/reddylab/Kuei/repo/Proj_ENCODE_FCC \n",
      "PROJECT RESULTS (FD_RES): /data/reddylab/Kuei/repo/Proj_ENCODE_FCC/results \n",
      "PROJECT SCRIPTS (FD_EXE): /data/reddylab/Kuei/repo/Proj_ENCODE_FCC/scripts \n",
      "PROJECT DATA    (FD_DAT): /data/reddylab/Kuei/repo/Proj_ENCODE_FCC/data \n",
      "PROJECT NOTE    (FD_NBK): /data/reddylab/Kuei/repo/Proj_ENCODE_FCC/notebooks \n",
      "PROJECT DOCS    (FD_DOC): /data/reddylab/Kuei/repo/Proj_ENCODE_FCC/docs \n",
      "PROJECT LOG     (FD_LOG): /data/reddylab/Kuei/repo/Proj_ENCODE_FCC/log \n",
      "PROJECT REF     (FD_REF): /data/reddylab/Kuei/repo/Proj_ENCODE_FCC/references \n",
      "\n"
     ]
    }
   ],
   "source": [
    "suppressMessages(suppressWarnings(source(\"../run_config_project_sing.R\")))\n",
    "library(\"UpSetR\")\n",
    "show_env()"
   ]
  },
  {
   "cell_type": "markdown",
   "id": "a250a100-5889-4e60-864c-8536d2b25cc3",
   "metadata": {},
   "source": [
    "## Prepare"
   ]
  },
  {
   "cell_type": "markdown",
   "id": "64f178f9-ef99-4722-ba07-27a3fb85103e",
   "metadata": {},
   "source": [
    "**Set global variable**"
   ]
  },
  {
   "cell_type": "code",
   "execution_count": 2,
   "id": "8123f32b-68e9-4396-a2f5-3638ea79e097",
   "metadata": {},
   "outputs": [
    {
     "name": "stdout",
     "output_type": "stream",
     "text": [
      "fcc_astarr_macs_input_overlap \n",
      "fcc_astarr_macs_input_union \n"
     ]
    }
   ],
   "source": [
    "vec = c(\n",
    "    \"fcc_astarr_macs_input_overlap\",\n",
    "    \"fcc_astarr_macs_input_union\"\n",
    ")\n",
    "names(vec) = vec\n",
    "\n",
    "VEC_TXT_FOLDER = vec\n",
    "for(txt in vec){cat(txt, \"\\n\")}"
   ]
  },
  {
   "cell_type": "code",
   "execution_count": 3,
   "id": "faa1c761-b253-4822-ad8f-a5bad5531bc2",
   "metadata": {},
   "outputs": [],
   "source": [
    "TXT_FNAME_ANNOT = \"region.annotation.encode_chromatin_states.ccres.chromhmm.tsv\""
   ]
  },
  {
   "cell_type": "markdown",
   "id": "d920cf23-724c-4296-80ef-63a774fc15c7",
   "metadata": {},
   "source": [
    "**View files**"
   ]
  },
  {
   "cell_type": "code",
   "execution_count": 4,
   "id": "05c5c276-63ae-4f68-b0af-4b4320b13a3d",
   "metadata": {},
   "outputs": [
    {
     "name": "stdout",
     "output_type": "stream",
     "text": [
      "/data/reddylab/Kuei/repo/Proj_ENCODE_FCC/results/region_annotation/fcc_astarr_macs_input_overlap/summary/region.annotation.encode_chromatin_states.ccres.chromhmm.tsv \n",
      "/data/reddylab/Kuei/repo/Proj_ENCODE_FCC/results/region_annotation/fcc_astarr_macs_input_union/summary/region.annotation.encode_chromatin_states.ccres.chromhmm.tsv \n"
     ]
    }
   ],
   "source": [
    "txt_fdiry = file.path(FD_RES, \"region_annotation\", \"*\", \"summary\")\n",
    "txt_fname = TXT_FNAME_ANNOT\n",
    "txt_fglob = file.path(txt_fdiry, txt_fname)\n",
    "\n",
    "vec = Sys.glob(txt_fglob)\n",
    "for(txt in vec){cat(txt, \"\\n\")}"
   ]
  },
  {
   "cell_type": "markdown",
   "id": "05ed9638-1481-433f-9024-966335ce9045",
   "metadata": {},
   "source": [
    "## Import data"
   ]
  },
  {
   "cell_type": "code",
   "execution_count": 5,
   "id": "6a407860-34b0-4dbc-977d-b2fa23f36b24",
   "metadata": {},
   "outputs": [
    {
     "name": "stdout",
     "output_type": "stream",
     "text": [
      "$fcc_astarr_macs_input_overlap\n",
      "[1] 414595     11\n",
      "\n",
      "$fcc_astarr_macs_input_union\n",
      "[1] 620742     11\n",
      "\n"
     ]
    },
    {
     "data": {
      "text/html": [
       "<table>\n",
       " <thead>\n",
       "  <tr>\n",
       "   <th style=\"text-align:left;\"> Chrom </th>\n",
       "   <th style=\"text-align:right;\"> ChromStart </th>\n",
       "   <th style=\"text-align:right;\"> ChromEnd </th>\n",
       "   <th style=\"text-align:left;\"> Region </th>\n",
       "   <th style=\"text-align:left;\"> Annotation_A </th>\n",
       "   <th style=\"text-align:left;\"> Annotation_B </th>\n",
       "   <th style=\"text-align:left;\"> Note </th>\n",
       "   <th style=\"text-align:left;\"> Group </th>\n",
       "   <th style=\"text-align:left;\"> Label </th>\n",
       "   <th style=\"text-align:left;\"> Region_Annot </th>\n",
       "   <th style=\"text-align:right;\"> Region_Count </th>\n",
       "  </tr>\n",
       " </thead>\n",
       "<tbody>\n",
       "  <tr>\n",
       "   <td style=\"text-align:left;\"> chr1 </td>\n",
       "   <td style=\"text-align:right;\"> 10038 </td>\n",
       "   <td style=\"text-align:right;\"> 10405 </td>\n",
       "   <td style=\"text-align:left;\"> chr1:10038-10405 </td>\n",
       "   <td style=\"text-align:left;\"> fcc_astarr_macs_input_overlap </td>\n",
       "   <td style=\"text-align:left;\"> encode_ccres_ENCFF286VQG </td>\n",
       "   <td style=\"text-align:left;\"> cCREs:Low-DNase </td>\n",
       "   <td style=\"text-align:left;\"> cCREs </td>\n",
       "   <td style=\"text-align:left;\"> Low-DNase </td>\n",
       "   <td style=\"text-align:left;\"> chr1:10033-10250;chr1:10385-10713 </td>\n",
       "   <td style=\"text-align:right;\"> 2 </td>\n",
       "  </tr>\n",
       "  <tr>\n",
       "   <td style=\"text-align:left;\"> chr1 </td>\n",
       "   <td style=\"text-align:right;\"> 10038 </td>\n",
       "   <td style=\"text-align:right;\"> 10405 </td>\n",
       "   <td style=\"text-align:left;\"> chr1:10038-10405 </td>\n",
       "   <td style=\"text-align:left;\"> fcc_astarr_macs_input_overlap </td>\n",
       "   <td style=\"text-align:left;\"> encode_chromhmm_ENCFF106BGJ </td>\n",
       "   <td style=\"text-align:left;\"> ChromHMM:Quies </td>\n",
       "   <td style=\"text-align:left;\"> ChromHMM </td>\n",
       "   <td style=\"text-align:left;\"> Quies </td>\n",
       "   <td style=\"text-align:left;\"> chr1:0-16000 </td>\n",
       "   <td style=\"text-align:right;\"> 1 </td>\n",
       "  </tr>\n",
       "  <tr>\n",
       "   <td style=\"text-align:left;\"> chr1 </td>\n",
       "   <td style=\"text-align:right;\"> 14282 </td>\n",
       "   <td style=\"text-align:right;\"> 14614 </td>\n",
       "   <td style=\"text-align:left;\"> chr1:14282-14614 </td>\n",
       "   <td style=\"text-align:left;\"> fcc_astarr_macs_input_overlap </td>\n",
       "   <td style=\"text-align:left;\"> encode_chromhmm_ENCFF106BGJ </td>\n",
       "   <td style=\"text-align:left;\"> ChromHMM:Quies </td>\n",
       "   <td style=\"text-align:left;\"> ChromHMM </td>\n",
       "   <td style=\"text-align:left;\"> Quies </td>\n",
       "   <td style=\"text-align:left;\"> chr1:0-16000 </td>\n",
       "   <td style=\"text-align:right;\"> 1 </td>\n",
       "  </tr>\n",
       "</tbody>\n",
       "</table>"
      ]
     },
     "metadata": {},
     "output_type": "display_data"
    }
   ],
   "source": [
    "### loop to import data\n",
    "lst = lapply(VEC_TXT_FOLDER, function(txt_folder){\n",
    "    ### set file directory\n",
    "    txt_fdiry = file.path(FD_RES, \"region_annotation\", txt_folder, \"summary\")\n",
    "    txt_fname = TXT_FNAME_ANNOT\n",
    "    txt_fpath = file.path(txt_fdiry, txt_fname)\n",
    "\n",
    "    ### read table\n",
    "    dat = read_tsv(txt_fpath, show_col_types = FALSE)\n",
    "    return(dat)\n",
    "})\n",
    "names(lst) = VEC_TXT_FOLDER\n",
    "\n",
    "### assign and show\n",
    "lst_dat_region_annot_import = lst\n",
    "\n",
    "res = lapply(lst, dim)\n",
    "print(res)\n",
    "\n",
    "dat = lst[[1]]\n",
    "fun_display_table(head(dat, 3))"
   ]
  },
  {
   "cell_type": "markdown",
   "id": "8cbdea6c-c4c5-4e36-89a3-797e25f446f0",
   "metadata": {},
   "source": [
    "## Explore: Count table"
   ]
  },
  {
   "cell_type": "markdown",
   "id": "4a57edbb-78bd-400a-aaaf-70e7b6704fdb",
   "metadata": {},
   "source": [
    "**Count table: Group**"
   ]
  },
  {
   "cell_type": "code",
   "execution_count": 6,
   "id": "1f455dda-d53c-4f1a-a804-b90621afac79",
   "metadata": {},
   "outputs": [
    {
     "data": {
      "text/plain": [
       "\n",
       "\n",
       "|Region                        |  cCREs| ChromHMM|\n",
       "|:-----------------------------|------:|--------:|\n",
       "|fcc_astarr_macs_input_overlap | 137858|   150042|\n",
       "|fcc_astarr_macs_input_union   | 211193|   246852|"
      ]
     },
     "metadata": {},
     "output_type": "display_data"
    }
   ],
   "source": [
    "lst = lst_dat_region_annot_import\n",
    "lst = lapply(lst, function(dat){\n",
    "    dat = dat %>% dplyr::select(Region, Group) %>% dplyr::distinct()\n",
    "    res = table(dat$Group, dnn = \"Group\")\n",
    "    dat = as.data.frame(res)\n",
    "    return(dat)\n",
    "})\n",
    "\n",
    "dat = bind_rows(lst, .id = \"Region\")\n",
    "dat = dat %>% tidyr::spread(Group, Freq)\n",
    "#fun_display_table(dat)\n",
    "dat %>% kableExtra::kable(\"markdown\")"
   ]
  },
  {
   "cell_type": "markdown",
   "id": "cc542da5-2832-40f8-b020-4c57cfe41e85",
   "metadata": {},
   "source": [
    "**Count table: Label of cCREs**"
   ]
  },
  {
   "cell_type": "code",
   "execution_count": 7,
   "id": "8b8caa9a-debb-4573-bd7b-35fb6cc6925d",
   "metadata": {},
   "outputs": [
    {
     "data": {
      "text/plain": [
       "\n",
       "\n",
       "|Region                        | CA-CTCF| CA-H3K4me3| CA-only| CA-TF|  dELS| Low-DNase|  pELS|   PLS|\n",
       "|:-----------------------------|-------:|----------:|-------:|-----:|-----:|---------:|-----:|-----:|\n",
       "|fcc_astarr_macs_input_overlap |   20916|       3144|    1279| 23545| 15332|    104419| 12893| 12101|\n",
       "|fcc_astarr_macs_input_union   |   23298|       3240|    1546| 26756| 15782|    181649| 12960| 12077|"
      ]
     },
     "metadata": {},
     "output_type": "display_data"
    }
   ],
   "source": [
    "lst = lst_dat_region_annot_import\n",
    "lst = lapply(lst, function(dat){\n",
    "    dat = dat %>% dplyr::select(Region, Group, Label) %>% dplyr::distinct()\n",
    "    dat = dat %>% dplyr::filter(Group == \"cCREs\")\n",
    "    res = table(dat$Label, dnn = \"Label\")\n",
    "    dat = as.data.frame(res)\n",
    "    return(dat)\n",
    "})\n",
    "\n",
    "dat = bind_rows(lst, .id = \"Region\")\n",
    "dat = dat %>% tidyr::spread(Label, Freq)\n",
    "#fun_display_table(dat)\n",
    "dat %>% kableExtra::kable(\"markdown\")"
   ]
  },
  {
   "cell_type": "markdown",
   "id": "dc0f5ce0-d95a-45b8-9b67-6aafcbe18b5d",
   "metadata": {},
   "source": [
    "**Count table: Label of ChromHMM**"
   ]
  },
  {
   "cell_type": "code",
   "execution_count": 8,
   "id": "41f1df41-710b-447e-946a-ba0d2a6a6591",
   "metadata": {},
   "outputs": [
    {
     "data": {
      "text/plain": [
       "\n",
       "\n",
       "|Region                        |   Biv|  Enh1|  Enh2| EnhG1| EnhG2|  Het|  Quies| ReprPC|   Tss| TssFlnk| TssFlnkD| TssFlnkU|    Tx|  TxWk| ZNF/Rpts|\n",
       "|:-----------------------------|-----:|-----:|-----:|-----:|-----:|----:|------:|------:|-----:|-------:|--------:|--------:|-----:|-----:|--------:|\n",
       "|fcc_astarr_macs_input_overlap | 12367| 11827| 11099|  2331|  5933| 1910|  65212|  31602| 10159|    4144|     7669|    12406| 11981| 31154|     1172|\n",
       "|fcc_astarr_macs_input_union   | 15567| 13162| 11747|  2622|  8196| 3980| 122715|  63373| 10258|    4476|     7977|    12426| 25794| 39275|     1866|"
      ]
     },
     "metadata": {},
     "output_type": "display_data"
    }
   ],
   "source": [
    "lst = lst_dat_region_annot_import\n",
    "lst = lapply(lst, function(dat){\n",
    "    dat = dat %>% dplyr::select(Region, Group, Label) %>% dplyr::distinct()\n",
    "    dat = dat %>% dplyr::filter(Group == \"ChromHMM\")\n",
    "    res = table(dat$Label, dnn = \"Label\")\n",
    "    dat = as.data.frame(res)\n",
    "    return(dat)\n",
    "})\n",
    "\n",
    "dat = bind_rows(lst, .id = \"Region\")\n",
    "dat = dat %>% tidyr::spread(Label, Freq)\n",
    "#fun_display_table(dat)\n",
    "dat %>% kableExtra::kable(\"markdown\")"
   ]
  },
  {
   "cell_type": "markdown",
   "id": "a7eeeea1-5ef0-4247-afc3-7f221138676c",
   "metadata": {},
   "source": [
    "## Explore: Region overlap"
   ]
  },
  {
   "cell_type": "markdown",
   "id": "db86e8f3-89c9-4ffe-ab5f-c392fe72698f",
   "metadata": {},
   "source": [
    "**Region overlap of cCREs label**"
   ]
  },
  {
   "cell_type": "code",
   "execution_count": 9,
   "id": "804b457f-d968-45e6-a0bd-463d7be8b495",
   "metadata": {},
   "outputs": [
    {
     "data": {
      "image/png": "[encoded data removed]",
      "text/plain": [
       "plot without title"
      ]
     },
     "metadata": {
      "image/png": {
       "height": 420,
       "width": 720
      }
     },
     "output_type": "display_data"
    }
   ],
   "source": [
    "lst = lst_dat_region_annot_import\n",
    "idx = \"fcc_astarr_macs_input_overlap\"\n",
    "dat = lst[[idx]]\n",
    "\n",
    "dat = dat %>% \n",
    "    dplyr::filter(Group == \"cCREs\") %>%\n",
    "    dplyr::filter(Label != \"Low-DNase\") %>% \n",
    "    dplyr::filter(Label != \"CA-only\") %>%\n",
    "    dplyr::select(Region, Label) %>%\n",
    "    dplyr::distinct()\n",
    "\n",
    "lst = split(dat$Region, dat$Label)\n",
    "\n",
    "options(repr.plot.height=7, repr.plot.width=12)\n",
    "upset(\n",
    "    fromList(lst), \n",
    "    order.by = \"freq\", \n",
    "    text.scale=1.7, \n",
    "    nsets = 10,\n",
    "    nintersects = 12,\n",
    "    mb.ratio = c(0.4, 0.6)\n",
    ")"
   ]
  },
  {
   "cell_type": "markdown",
   "id": "e85ee977-d9dd-4b52-88db-8b266716e665",
   "metadata": {},
   "source": [
    "**Region overlap of ChromHMM label**"
   ]
  },
  {
   "cell_type": "code",
   "execution_count": 10,
   "id": "7526007d-5d58-4633-a24d-1eccb034b774",
   "metadata": {},
   "outputs": [
    {
     "data": {
      "image/png": "[encoded data removed]",
      "text/plain": [
       "plot without title"
      ]
     },
     "metadata": {
      "image/png": {
       "height": 420,
       "width": 720
      }
     },
     "output_type": "display_data"
    }
   ],
   "source": [
    "lst = lst_dat_region_annot_import\n",
    "idx = \"fcc_astarr_macs_input_overlap\"\n",
    "dat = lst[[idx]]\n",
    "\n",
    "\n",
    "dat = dat %>%\n",
    "    dplyr::filter(Group == \"ChromHMM\") %>%\n",
    "    dplyr::filter(Label != \"Het\") %>% \n",
    "    dplyr::filter(Label != \"Quies\") %>%\n",
    "    dplyr::filter(Label != \"ZNF/Rpts\") %>%\n",
    "    dplyr::select(Region, Label) %>%\n",
    "    dplyr::distinct()\n",
    "\n",
    "lst = split(dat$Region, dat$Label)\n",
    "\n",
    "options(repr.plot.height=7, repr.plot.width=12)\n",
    "upset(\n",
    "    fromList(lst), \n",
    "    order.by = \"freq\", \n",
    "    text.scale=1.7, \n",
    "    nsets = 10,\n",
    "    nintersects = 12,\n",
    "    mb.ratio = c(0.4, 0.6)\n",
    ")"
   ]
  },
  {
   "cell_type": "code",
   "execution_count": null,
   "id": "1c60cbec-c111-4388-aa11-7044d3668344",
   "metadata": {},
   "outputs": [],
   "source": []
  }
 ],
 "metadata": {
  "kernelspec": {
   "display_name": "R",
   "language": "R",
   "name": "ir"
  },
  "language_info": {
   "codemirror_mode": "r",
   "file_extension": ".r",
   "mimetype": "text/x-r-source",
   "name": "R",
   "pygments_lexer": "r",
   "version": "4.5.1"
  }
 },
 "nbformat": 4,
 "nbformat_minor": 5
}
