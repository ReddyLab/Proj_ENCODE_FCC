{
 "cells": [
  {
   "cell_type": "raw",
   "id": "aafdb0dd-f385-4fbe-bb39-4b4bbc453a45",
   "metadata": {},
   "source": [
    "---\n",
    "title: Prepare Lenti-MPRA data 03\n",
    "subtitle: Export Lenti-MPRA data file from `PROJECT/data` to `PROJECT/results` folder\n",
    "format:\n",
    "    html:\n",
    "        code-fold:  true\n",
    "        code-tools: true\n",
    "---"
   ]
  },
  {
   "cell_type": "markdown",
   "id": "d64e81d9-9542-4f77-845e-5a1edd2eb1ac",
   "metadata": {},
   "source": [
    "**Set environment**"
   ]
  },
  {
   "cell_type": "code",
   "execution_count": 1,
   "id": "39fc07fd-6d7f-41e4-a63f-c50f2d9c551d",
   "metadata": {},
   "outputs": [
    {
     "name": "stdout",
     "output_type": "stream",
     "text": [
      "You are working on        Singularity \n",
      "BASE DIRECTORY (FD_BASE): /mount \n",
      "REPO DIRECTORY (FD_REPO): /mount/repo \n",
      "WORK DIRECTORY (FD_WORK): /mount/work \n",
      "DATA DIRECTORY (FD_DATA): /mount/data \n",
      "\n",
      "You are working with      ENCODE FCC \n",
      "PATH OF PROJECT (FD_PRJ): /mount/repo/Proj_ENCODE_FCC \n",
      "PROJECT RESULTS (FD_RES): /mount/repo/Proj_ENCODE_FCC/results \n",
      "PROJECT SCRIPTS (FD_EXE): /mount/repo/Proj_ENCODE_FCC/scripts \n",
      "PROJECT DATA    (FD_DAT): /mount/repo/Proj_ENCODE_FCC/data \n",
      "PROJECT NOTE    (FD_NBK): /mount/repo/Proj_ENCODE_FCC/notebooks \n",
      "PROJECT DOCS    (FD_DOC): /mount/repo/Proj_ENCODE_FCC/docs \n",
      "PROJECT LOG     (FD_LOG): /mount/repo/Proj_ENCODE_FCC/log \n",
      "PROJECT APP     (FD_APP): /mount/repo/Proj_ENCODE_FCC/app \n",
      "PROJECT REF     (FD_REF): /mount/repo/Proj_ENCODE_FCC/references \n",
      "\n"
     ]
    }
   ],
   "source": [
    "suppressMessages(suppressWarnings(source(\"../run_config_project_sing.R\")))\n",
    "show_env()"
   ]
  },
  {
   "cell_type": "markdown",
   "id": "025538b3-6eda-4743-9c49-cfd20d5b0db9",
   "metadata": {},
   "source": [
    "## Import data"
   ]
  },
  {
   "cell_type": "markdown",
   "id": "2ef2fc36-09ba-48fb-b523-1a56a864ef41",
   "metadata": {},
   "source": [
    "**Import library design**"
   ]
  },
  {
   "cell_type": "code",
   "execution_count": 2,
   "id": "a00bdaa7-4eef-49b8-a758-7fa414c90746",
   "metadata": {},
   "outputs": [
    {
     "name": "stdout",
     "output_type": "stream",
     "text": [
      "[1] 243780      7\n"
     ]
    },
    {
     "data": {
      "text/html": [
       "<table>\n",
       " <thead>\n",
       "  <tr>\n",
       "   <th style=\"text-align:left;\"> name </th>\n",
       "   <th style=\"text-align:left;\"> category </th>\n",
       "   <th style=\"text-align:left;\"> chr.hg38 </th>\n",
       "   <th style=\"text-align:right;\"> start.hg38 </th>\n",
       "   <th style=\"text-align:right;\"> stop.hg38 </th>\n",
       "   <th style=\"text-align:left;\"> str.hg38 </th>\n",
       "   <th style=\"text-align:left;\"> 230nt sequence (15nt 5' adaptor - 200nt element - 15nt 3' adaptor) </th>\n",
       "  </tr>\n",
       " </thead>\n",
       "<tbody>\n",
       "  <tr>\n",
       "   <td style=\"text-align:left;\"> peak1 </td>\n",
       "   <td style=\"text-align:left;\"> potential enhancer </td>\n",
       "   <td style=\"text-align:left;\"> chr1 </td>\n",
       "   <td style=\"text-align:right;\"> 115631 </td>\n",
       "   <td style=\"text-align:right;\"> 115831 </td>\n",
       "   <td style=\"text-align:left;\"> + </td>\n",
       "   <td style=\"text-align:left;\"> AGGACCGGATCAACTGAGCCGGGTCATGAAAAAGGGGATCTTGTGTGTCTGTCCACGATAAGCACTATCACAAGGACTTTCTATAAACTCACAAGAAATTTCTGCCCACCCAGCACACAGTTTGTCCAGCTCATCCTGTAGGTGTCTCTATAATAGGACCTATCATAAAAAATTCCTCAAGACTGCAGCATTTCAGATAAGCCACCCTCACAAGACATTGCGTGAACCGA </td>\n",
       "  </tr>\n",
       "  <tr>\n",
       "   <td style=\"text-align:left;\"> peak1_Reversed: </td>\n",
       "   <td style=\"text-align:left;\"> potential enhancer </td>\n",
       "   <td style=\"text-align:left;\"> chr1 </td>\n",
       "   <td style=\"text-align:right;\"> 115631 </td>\n",
       "   <td style=\"text-align:right;\"> 115831 </td>\n",
       "   <td style=\"text-align:left;\"> - </td>\n",
       "   <td style=\"text-align:left;\"> AGGACCGGATCAACTTCTTGTGAGGGTGGCTTATCTGAAATGCTGCAGTCTTGAGGAATTTTTTATGATAGGTCCTATTATAGAGACACCTACAGGATGAGCTGGACAAACTGTGTGCTGGGTGGGCAGAAATTTCTTGTGAGTTTATAGAAAGTCCTTGTGATAGTGCTTATCGTGGACAGACACACAAGATCCCCTTTTTCATGACCCGGCTCCATTGCGTGAACCGA </td>\n",
       "  </tr>\n",
       "  <tr>\n",
       "   <td style=\"text-align:left;\"> peak10 </td>\n",
       "   <td style=\"text-align:left;\"> potential enhancer </td>\n",
       "   <td style=\"text-align:left;\"> chr1 </td>\n",
       "   <td style=\"text-align:right;\"> 634309 </td>\n",
       "   <td style=\"text-align:right;\"> 634509 </td>\n",
       "   <td style=\"text-align:left;\"> + </td>\n",
       "   <td style=\"text-align:left;\"> AGGACCGGATCAACTTGTCGCCTTAATCCAAGCCTACGTTTTTACACTTCTAGTAAGCCTCTACCTGCACGACAACACATAATGACCCACCAATCACATGCCTATCATATAGTAAAACCCAGCCCATGGCCCCTAACAGGGGCCCTCTCAGCCCTCCTAATGACCTCCGGCCTAGCCATGTGATTTCACTTCCACTCCACAACCCTCCTCATACTCATTGCGTGAACCGA </td>\n",
       "  </tr>\n",
       "  <tr>\n",
       "   <td style=\"text-align:left;\"> peak10_Reversed: </td>\n",
       "   <td style=\"text-align:left;\"> potential enhancer </td>\n",
       "   <td style=\"text-align:left;\"> chr1 </td>\n",
       "   <td style=\"text-align:right;\"> 634309 </td>\n",
       "   <td style=\"text-align:right;\"> 634509 </td>\n",
       "   <td style=\"text-align:left;\"> - </td>\n",
       "   <td style=\"text-align:left;\"> AGGACCGGATCAACTAGTATGAGGAGGGTTGTGGAGTGGAAGTGAAATCACATGGCTAGGCCGGAGGTCATTAGGAGGGCTGAGAGGGCCCCTGTTAGGGGCCATGGGCTGGGTTTTACTATATGATAGGCATGTGATTGGTGGGTCATTATGTGTTGTCGTGCAGGTAGAGGCTTACTAGAAGTGTAAAAACGTAGGCTTGGATTAAGGCGACACATTGCGTGAACCGA </td>\n",
       "  </tr>\n",
       "  <tr>\n",
       "   <td style=\"text-align:left;\"> peak100 </td>\n",
       "   <td style=\"text-align:left;\"> potential enhancer </td>\n",
       "   <td style=\"text-align:left;\"> chr1 </td>\n",
       "   <td style=\"text-align:right;\"> 2133494 </td>\n",
       "   <td style=\"text-align:right;\"> 2133694 </td>\n",
       "   <td style=\"text-align:left;\"> + </td>\n",
       "   <td style=\"text-align:left;\"> AGGACCGGATCAACTCCCCTCCCCAGCTGTGCGCCCGCCCCTTGGTTCCACCCCCCCCAGCTGTGCATCCGTCCCTTGGCTCCGCCCCGCACTGTGCGTCCATTTTTGACTCCGCCCCCGGCTGTGCGCTCATCCCTCGGCTCCGCCCCCGGCTGTGCGTCCGTCCCTCGGTTCCGCCCCCGGCTGCGCGTCTGTCCCTCGACTCGGCCCCTCAGCATTGCGTGAACCGA </td>\n",
       "  </tr>\n",
       "  <tr>\n",
       "   <td style=\"text-align:left;\"> peak100_Reversed: </td>\n",
       "   <td style=\"text-align:left;\"> potential enhancer </td>\n",
       "   <td style=\"text-align:left;\"> chr1 </td>\n",
       "   <td style=\"text-align:right;\"> 2133494 </td>\n",
       "   <td style=\"text-align:right;\"> 2133694 </td>\n",
       "   <td style=\"text-align:left;\"> - </td>\n",
       "   <td style=\"text-align:left;\"> AGGACCGGATCAACTCTGAGGGGCCGAGTCGAGGGACAGACGCGCAGCCGGGGGCGGAACCGAGGGACGGACGCACAGCCGGGGGCGGAGCCGAGGGATGAGCGCACAGCCGGGGGCGGAGTCAAAAATGGACGCACAGTGCGGGGCGGAGCCAAGGGACGGATGCACAGCTGGGGGGGGTGGAACCAAGGGGCGGGCGCACAGCTGGGGAGGGGCATTGCGTGAACCGA </td>\n",
       "  </tr>\n",
       "</tbody>\n",
       "</table>"
      ]
     },
     "metadata": {},
     "output_type": "display_data"
    }
   ],
   "source": [
    "### set directory\n",
    "txt_assay  = \"MPRA_Lenti_K562_Nadav_Vikram_230621\"\n",
    "txt_fdiry = file.path(FD_DAT, \"processed\", txt_assay)\n",
    "txt_fname = \"LentiMPRA.K562.Library_Design.csv\"\n",
    "txt_fpath = file.path(txt_fdiry, txt_fname)\n",
    "\n",
    "### read table\n",
    "dat = read_csv(txt_fpath, show_col_types = FALSE)\n",
    "\n",
    "### assign and show\n",
    "dat_lmpra_library = dat\n",
    "print(dim(dat))\n",
    "fun_display_table(head(dat))"
   ]
  },
  {
   "cell_type": "markdown",
   "id": "2384d22b-e566-4e27-a890-cfc67f63c61d",
   "metadata": {},
   "source": [
    "**Import effect size**"
   ]
  },
  {
   "cell_type": "code",
   "execution_count": 3,
   "id": "74cf9c2c-2c36-4db9-8858-8568a9a43aea",
   "metadata": {},
   "outputs": [
    {
     "name": "stdout",
     "output_type": "stream",
     "text": [
      "[1] 226254      5\n"
     ]
    },
    {
     "data": {
      "text/html": [
       "<table>\n",
       " <thead>\n",
       "  <tr>\n",
       "   <th style=\"text-align:left;\"> name </th>\n",
       "   <th style=\"text-align:right;\"> replicate 1 [log2(rna/dna)] </th>\n",
       "   <th style=\"text-align:right;\"> replicate 2 [log2(rna/dna)] </th>\n",
       "   <th style=\"text-align:right;\"> replicate 3 [log2(rna/dna)] </th>\n",
       "   <th style=\"text-align:right;\"> mean </th>\n",
       "  </tr>\n",
       " </thead>\n",
       "<tbody>\n",
       "  <tr>\n",
       "   <td style=\"text-align:left;\"> peak29573_Reversed: </td>\n",
       "   <td style=\"text-align:right;\"> -0.190 </td>\n",
       "   <td style=\"text-align:right;\"> 0.225 </td>\n",
       "   <td style=\"text-align:right;\"> 0.201 </td>\n",
       "   <td style=\"text-align:right;\"> 0.079 </td>\n",
       "  </tr>\n",
       "  <tr>\n",
       "   <td style=\"text-align:left;\"> peak71109_Reversed: </td>\n",
       "   <td style=\"text-align:right;\"> 0.650 </td>\n",
       "   <td style=\"text-align:right;\"> 0.454 </td>\n",
       "   <td style=\"text-align:right;\"> 0.758 </td>\n",
       "   <td style=\"text-align:right;\"> 0.620 </td>\n",
       "  </tr>\n",
       "  <tr>\n",
       "   <td style=\"text-align:left;\"> ENSG00000123569 </td>\n",
       "   <td style=\"text-align:right;\"> -0.762 </td>\n",
       "   <td style=\"text-align:right;\"> -0.578 </td>\n",
       "   <td style=\"text-align:right;\"> -0.228 </td>\n",
       "   <td style=\"text-align:right;\"> -0.523 </td>\n",
       "  </tr>\n",
       "  <tr>\n",
       "   <td style=\"text-align:left;\"> peak25742_Reversed: </td>\n",
       "   <td style=\"text-align:right;\"> -0.511 </td>\n",
       "   <td style=\"text-align:right;\"> -0.644 </td>\n",
       "   <td style=\"text-align:right;\"> -0.154 </td>\n",
       "   <td style=\"text-align:right;\"> -0.436 </td>\n",
       "  </tr>\n",
       "  <tr>\n",
       "   <td style=\"text-align:left;\"> peak83398 </td>\n",
       "   <td style=\"text-align:right;\"> -0.154 </td>\n",
       "   <td style=\"text-align:right;\"> -0.298 </td>\n",
       "   <td style=\"text-align:right;\"> 0.103 </td>\n",
       "   <td style=\"text-align:right;\"> -0.116 </td>\n",
       "  </tr>\n",
       "  <tr>\n",
       "   <td style=\"text-align:left;\"> peak1037_Reversed: </td>\n",
       "   <td style=\"text-align:right;\"> -0.056 </td>\n",
       "   <td style=\"text-align:right;\"> 0.275 </td>\n",
       "   <td style=\"text-align:right;\"> 0.008 </td>\n",
       "   <td style=\"text-align:right;\"> 0.076 </td>\n",
       "  </tr>\n",
       "</tbody>\n",
       "</table>"
      ]
     },
     "metadata": {},
     "output_type": "display_data"
    }
   ],
   "source": [
    "### set directory\n",
    "txt_assay  = \"MPRA_Lenti_K562_Nadav_Vikram_230621\"\n",
    "txt_fdiry = file.path(FD_DAT, \"processed\", txt_assay)\n",
    "txt_fname = \"LentiMPRA.K562.Log2FC.matrix.csv\"\n",
    "txt_fpath = file.path(txt_fdiry, txt_fname)\n",
    "\n",
    "### read table\n",
    "dat = read_csv(txt_fpath, show_col_types = FALSE)\n",
    "\n",
    "### assign and show\n",
    "dat_lmpra_score_matrix = dat\n",
    "print(dim(dat))\n",
    "fun_display_table(head(dat))"
   ]
  },
  {
   "cell_type": "markdown",
   "id": "f668b1a9-4df8-46f8-b85e-c32d4c912cdf",
   "metadata": {},
   "source": [
    "## Arrange data and Z score transformation"
   ]
  },
  {
   "cell_type": "markdown",
   "id": "e982b9c0-8bb4-4eb3-82e2-9dfa5f2448aa",
   "metadata": {},
   "source": [
    "**Join library design and score matrix**"
   ]
  },
  {
   "cell_type": "code",
   "execution_count": 4,
   "id": "5abd24cf-a311-4590-9054-70eaa35084a6",
   "metadata": {},
   "outputs": [
    {
     "name": "stdout",
     "output_type": "stream",
     "text": [
      "[1] 226254      7\n"
     ]
    },
    {
     "data": {
      "text/html": [
       "<table>\n",
       " <thead>\n",
       "  <tr>\n",
       "   <th style=\"text-align:left;\"> Chrom </th>\n",
       "   <th style=\"text-align:right;\"> ChromStart </th>\n",
       "   <th style=\"text-align:right;\"> ChromEnd </th>\n",
       "   <th style=\"text-align:left;\"> Name </th>\n",
       "   <th style=\"text-align:right;\"> Score </th>\n",
       "   <th style=\"text-align:left;\"> Strand </th>\n",
       "   <th style=\"text-align:left;\"> Category </th>\n",
       "  </tr>\n",
       " </thead>\n",
       "<tbody>\n",
       "  <tr>\n",
       "   <td style=\"text-align:left;\"> chr16 </td>\n",
       "   <td style=\"text-align:right;\"> 3163448 </td>\n",
       "   <td style=\"text-align:right;\"> 3163648 </td>\n",
       "   <td style=\"text-align:left;\"> peak29573_Reversed: </td>\n",
       "   <td style=\"text-align:right;\"> 0.079 </td>\n",
       "   <td style=\"text-align:left;\"> - </td>\n",
       "   <td style=\"text-align:left;\"> potential enhancer </td>\n",
       "  </tr>\n",
       "  <tr>\n",
       "   <td style=\"text-align:left;\"> chr6 </td>\n",
       "   <td style=\"text-align:right;\"> 125083195 </td>\n",
       "   <td style=\"text-align:right;\"> 125083395 </td>\n",
       "   <td style=\"text-align:left;\"> peak71109_Reversed: </td>\n",
       "   <td style=\"text-align:right;\"> 0.620 </td>\n",
       "   <td style=\"text-align:left;\"> - </td>\n",
       "   <td style=\"text-align:left;\"> potential enhancer </td>\n",
       "  </tr>\n",
       "  <tr>\n",
       "   <td style=\"text-align:left;\"> chrX </td>\n",
       "   <td style=\"text-align:right;\"> 104013573 </td>\n",
       "   <td style=\"text-align:right;\"> 104013773 </td>\n",
       "   <td style=\"text-align:left;\"> ENSG00000123569 </td>\n",
       "   <td style=\"text-align:right;\"> -0.523 </td>\n",
       "   <td style=\"text-align:left;\"> - </td>\n",
       "   <td style=\"text-align:left;\"> promoter </td>\n",
       "  </tr>\n",
       "  <tr>\n",
       "   <td style=\"text-align:left;\"> chr14 </td>\n",
       "   <td style=\"text-align:right;\"> 76947662 </td>\n",
       "   <td style=\"text-align:right;\"> 76947862 </td>\n",
       "   <td style=\"text-align:left;\"> peak25742_Reversed: </td>\n",
       "   <td style=\"text-align:right;\"> -0.436 </td>\n",
       "   <td style=\"text-align:left;\"> - </td>\n",
       "   <td style=\"text-align:left;\"> potential enhancer </td>\n",
       "  </tr>\n",
       "  <tr>\n",
       "   <td style=\"text-align:left;\"> chr9 </td>\n",
       "   <td style=\"text-align:right;\"> 98271532 </td>\n",
       "   <td style=\"text-align:right;\"> 98271732 </td>\n",
       "   <td style=\"text-align:left;\"> peak83398 </td>\n",
       "   <td style=\"text-align:right;\"> -0.116 </td>\n",
       "   <td style=\"text-align:left;\"> + </td>\n",
       "   <td style=\"text-align:left;\"> potential enhancer </td>\n",
       "  </tr>\n",
       "  <tr>\n",
       "   <td style=\"text-align:left;\"> chr1 </td>\n",
       "   <td style=\"text-align:right;\"> 17059727 </td>\n",
       "   <td style=\"text-align:right;\"> 17059927 </td>\n",
       "   <td style=\"text-align:left;\"> peak1037_Reversed: </td>\n",
       "   <td style=\"text-align:right;\"> 0.076 </td>\n",
       "   <td style=\"text-align:left;\"> - </td>\n",
       "   <td style=\"text-align:left;\"> potential enhancer </td>\n",
       "  </tr>\n",
       "</tbody>\n",
       "</table>"
      ]
     },
     "metadata": {},
     "output_type": "display_data"
    }
   ],
   "source": [
    "### merge score by oligo's ID\n",
    "dat = dplyr::left_join(\n",
    "    dat_lmpra_score_matrix,\n",
    "    dat_lmpra_library,\n",
    "    by=\"name\"\n",
    ")\n",
    "\n",
    "### arrange table\n",
    "dat = dat %>% \n",
    "    dplyr::select(\n",
    "        chr.hg38, \n",
    "        start.hg38, \n",
    "        stop.hg38, \n",
    "        name, \n",
    "        mean, \n",
    "        str.hg38, \n",
    "        category)\n",
    "colnames(dat) = c(\"Chrom\", \"ChromStart\", \"ChromEnd\", \"Name\", \"Score\", \"Strand\", \"Category\")\n",
    "\n",
    "### assign and show\n",
    "dat_lmpra_score_arrange = dat\n",
    "print(dim(dat))\n",
    "fun_display_table(head(dat))"
   ]
  },
  {
   "cell_type": "markdown",
   "id": "af93a679-d862-49f6-8d30-64338573f97f",
   "metadata": {},
   "source": [
    "**Extract Log2FC of negative control (Shuffled sequences)**"
   ]
  },
  {
   "cell_type": "code",
   "execution_count": 5,
   "id": "b1f8f3e0-db7d-4268-98d4-7ade1a1cbd33",
   "metadata": {},
   "outputs": [
    {
     "name": "stdout",
     "output_type": "stream",
     "text": [
      "[1] 247   7\n",
      "Mean = -0.5249433 \n",
      "Std  =  0.2754342 \n"
     ]
    },
    {
     "data": {
      "text/html": [
       "<table>\n",
       " <thead>\n",
       "  <tr>\n",
       "   <th style=\"text-align:left;\"> Chrom </th>\n",
       "   <th style=\"text-align:right;\"> ChromStart </th>\n",
       "   <th style=\"text-align:right;\"> ChromEnd </th>\n",
       "   <th style=\"text-align:left;\"> Name </th>\n",
       "   <th style=\"text-align:right;\"> Score </th>\n",
       "   <th style=\"text-align:left;\"> Strand </th>\n",
       "   <th style=\"text-align:left;\"> Category </th>\n",
       "  </tr>\n",
       " </thead>\n",
       "<tbody>\n",
       "  <tr>\n",
       "   <td style=\"text-align:left;\"> NA </td>\n",
       "   <td style=\"text-align:right;\"> NA </td>\n",
       "   <td style=\"text-align:right;\"> NA </td>\n",
       "   <td style=\"text-align:left;\"> seq5206_shuffled_0 </td>\n",
       "   <td style=\"text-align:right;\"> -0.453 </td>\n",
       "   <td style=\"text-align:left;\"> NA </td>\n",
       "   <td style=\"text-align:left;\"> negative control, shuffled </td>\n",
       "  </tr>\n",
       "  <tr>\n",
       "   <td style=\"text-align:left;\"> NA </td>\n",
       "   <td style=\"text-align:right;\"> NA </td>\n",
       "   <td style=\"text-align:right;\"> NA </td>\n",
       "   <td style=\"text-align:left;\"> seq31328_shuffled_0 </td>\n",
       "   <td style=\"text-align:right;\"> -0.768 </td>\n",
       "   <td style=\"text-align:left;\"> NA </td>\n",
       "   <td style=\"text-align:left;\"> negative control, shuffled </td>\n",
       "  </tr>\n",
       "  <tr>\n",
       "   <td style=\"text-align:left;\"> NA </td>\n",
       "   <td style=\"text-align:right;\"> NA </td>\n",
       "   <td style=\"text-align:right;\"> NA </td>\n",
       "   <td style=\"text-align:left;\"> seq12212_shuffled_0 </td>\n",
       "   <td style=\"text-align:right;\"> -0.600 </td>\n",
       "   <td style=\"text-align:left;\"> NA </td>\n",
       "   <td style=\"text-align:left;\"> negative control, shuffled </td>\n",
       "  </tr>\n",
       "  <tr>\n",
       "   <td style=\"text-align:left;\"> NA </td>\n",
       "   <td style=\"text-align:right;\"> NA </td>\n",
       "   <td style=\"text-align:right;\"> NA </td>\n",
       "   <td style=\"text-align:left;\"> seq9803_shuffled_0 </td>\n",
       "   <td style=\"text-align:right;\"> -0.933 </td>\n",
       "   <td style=\"text-align:left;\"> NA </td>\n",
       "   <td style=\"text-align:left;\"> negative control, shuffled </td>\n",
       "  </tr>\n",
       "  <tr>\n",
       "   <td style=\"text-align:left;\"> NA </td>\n",
       "   <td style=\"text-align:right;\"> NA </td>\n",
       "   <td style=\"text-align:right;\"> NA </td>\n",
       "   <td style=\"text-align:left;\"> seq2756_shuffled_0 </td>\n",
       "   <td style=\"text-align:right;\"> -0.545 </td>\n",
       "   <td style=\"text-align:left;\"> NA </td>\n",
       "   <td style=\"text-align:left;\"> negative control, shuffled </td>\n",
       "  </tr>\n",
       "  <tr>\n",
       "   <td style=\"text-align:left;\"> NA </td>\n",
       "   <td style=\"text-align:right;\"> NA </td>\n",
       "   <td style=\"text-align:right;\"> NA </td>\n",
       "   <td style=\"text-align:left;\"> seq13776_shuffled_0 </td>\n",
       "   <td style=\"text-align:right;\"> -0.837 </td>\n",
       "   <td style=\"text-align:left;\"> NA </td>\n",
       "   <td style=\"text-align:left;\"> negative control, shuffled </td>\n",
       "  </tr>\n",
       "</tbody>\n",
       "</table>"
      ]
     },
     "metadata": {},
     "output_type": "display_data"
    }
   ],
   "source": [
    "### extract negative control\n",
    "dat = dat_lmpra_score_arrange\n",
    "lst = split(dat, dat$Category)\n",
    "dat = lst[[\"negative control, shuffled\"]]\n",
    "\n",
    "### calculate mean and sd\n",
    "vec = dat$Score\n",
    "num_mu = mean(vec)\n",
    "num_sd = sd(vec)\n",
    "\n",
    "### assign and show\n",
    "dat_lmpra_score_negative_shuffled = dat\n",
    "print(dim(dat))\n",
    "cat(\"Mean =\",  num_mu, \"\\n\")\n",
    "cat(\"Std  = \", num_sd, \"\\n\")\n",
    "fun_display_table(head(dat))"
   ]
  },
  {
   "cell_type": "markdown",
   "id": "50c384ff-0369-47e1-8deb-992bfb497b68",
   "metadata": {},
   "source": [
    "**Z Score transformation**"
   ]
  },
  {
   "cell_type": "code",
   "execution_count": 6,
   "id": "5c57f6b6-ee89-4c16-b34f-0d0c62eab745",
   "metadata": {},
   "outputs": [
    {
     "data": {
      "text/html": [
       "<table>\n",
       " <thead>\n",
       "  <tr>\n",
       "   <th style=\"text-align:left;\"> Chrom </th>\n",
       "   <th style=\"text-align:right;\"> ChromStart </th>\n",
       "   <th style=\"text-align:right;\"> ChromEnd </th>\n",
       "   <th style=\"text-align:left;\"> Name </th>\n",
       "   <th style=\"text-align:right;\"> Score </th>\n",
       "   <th style=\"text-align:left;\"> Strand </th>\n",
       "   <th style=\"text-align:left;\"> Category </th>\n",
       "   <th style=\"text-align:right;\"> ZScore </th>\n",
       "  </tr>\n",
       " </thead>\n",
       "<tbody>\n",
       "  <tr>\n",
       "   <td style=\"text-align:left;\"> chr1 </td>\n",
       "   <td style=\"text-align:right;\"> 115631 </td>\n",
       "   <td style=\"text-align:right;\"> 115831 </td>\n",
       "   <td style=\"text-align:left;\"> peak1_Reversed: </td>\n",
       "   <td style=\"text-align:right;\"> 0.040 </td>\n",
       "   <td style=\"text-align:left;\"> - </td>\n",
       "   <td style=\"text-align:left;\"> potential enhancer </td>\n",
       "   <td style=\"text-align:right;\"> 2.0511008 </td>\n",
       "  </tr>\n",
       "  <tr>\n",
       "   <td style=\"text-align:left;\"> chr1 </td>\n",
       "   <td style=\"text-align:right;\"> 138940 </td>\n",
       "   <td style=\"text-align:right;\"> 139140 </td>\n",
       "   <td style=\"text-align:left;\"> peak2_Reversed: </td>\n",
       "   <td style=\"text-align:right;\"> -0.101 </td>\n",
       "   <td style=\"text-align:left;\"> - </td>\n",
       "   <td style=\"text-align:left;\"> potential enhancer </td>\n",
       "   <td style=\"text-align:right;\"> 1.5391818 </td>\n",
       "  </tr>\n",
       "  <tr>\n",
       "   <td style=\"text-align:left;\"> chr1 </td>\n",
       "   <td style=\"text-align:right;\"> 138940 </td>\n",
       "   <td style=\"text-align:right;\"> 139140 </td>\n",
       "   <td style=\"text-align:left;\"> peak2 </td>\n",
       "   <td style=\"text-align:right;\"> -0.543 </td>\n",
       "   <td style=\"text-align:left;\"> + </td>\n",
       "   <td style=\"text-align:left;\"> potential enhancer </td>\n",
       "   <td style=\"text-align:right;\"> -0.0655571 </td>\n",
       "  </tr>\n",
       "  <tr>\n",
       "   <td style=\"text-align:left;\"> chr1 </td>\n",
       "   <td style=\"text-align:right;\"> 203225 </td>\n",
       "   <td style=\"text-align:right;\"> 203425 </td>\n",
       "   <td style=\"text-align:left;\"> peak3 </td>\n",
       "   <td style=\"text-align:right;\"> -0.186 </td>\n",
       "   <td style=\"text-align:left;\"> + </td>\n",
       "   <td style=\"text-align:left;\"> potential enhancer </td>\n",
       "   <td style=\"text-align:right;\"> 1.2305781 </td>\n",
       "  </tr>\n",
       "  <tr>\n",
       "   <td style=\"text-align:left;\"> chr1 </td>\n",
       "   <td style=\"text-align:right;\"> 203225 </td>\n",
       "   <td style=\"text-align:right;\"> 203425 </td>\n",
       "   <td style=\"text-align:left;\"> peak3_Reversed: </td>\n",
       "   <td style=\"text-align:right;\"> -0.281 </td>\n",
       "   <td style=\"text-align:left;\"> - </td>\n",
       "   <td style=\"text-align:left;\"> potential enhancer </td>\n",
       "   <td style=\"text-align:right;\"> 0.8856682 </td>\n",
       "  </tr>\n",
       "  <tr>\n",
       "   <td style=\"text-align:left;\"> chr1 </td>\n",
       "   <td style=\"text-align:right;\"> 267911 </td>\n",
       "   <td style=\"text-align:right;\"> 268111 </td>\n",
       "   <td style=\"text-align:left;\"> peak4_Reversed: </td>\n",
       "   <td style=\"text-align:right;\"> -0.967 </td>\n",
       "   <td style=\"text-align:left;\"> - </td>\n",
       "   <td style=\"text-align:left;\"> potential enhancer </td>\n",
       "   <td style=\"text-align:right;\"> -1.6049447 </td>\n",
       "  </tr>\n",
       "</tbody>\n",
       "</table>"
      ]
     },
     "metadata": {},
     "output_type": "display_data"
    }
   ],
   "source": [
    "### z score transformation\n",
    "dat = dat_lmpra_score_arrange\n",
    "dat = dat %>% \n",
    "    dplyr::mutate(ZScore = (Score - num_mu) / num_sd) %>% \n",
    "    dplyr::arrange(Chrom, ChromStart, ChromEnd)\n",
    "\n",
    "### assign and show\n",
    "dat_lmpra_score_full = dat\n",
    "dat_lmpra_score_log2fc = dat %>% dplyr::select(Chrom, ChromStart, ChromEnd, Name,  Score, Strand)\n",
    "dat_lmpra_score_zscore = dat %>% dplyr::select(Chrom, ChromStart, ChromEnd, Name, ZScore, Strand)\n",
    "fun_display_table(head(dat))"
   ]
  },
  {
   "cell_type": "markdown",
   "id": "15bcbddb-44ac-4f99-bf8e-a1a522a2ff64",
   "metadata": {},
   "source": [
    "## Save results"
   ]
  },
  {
   "cell_type": "markdown",
   "id": "7f820d71-aaaa-42b2-9848-551d42b48191",
   "metadata": {},
   "source": [
    "**Write table**"
   ]
  },
  {
   "cell_type": "code",
   "execution_count": 7,
   "id": "e87fd85a-c039-4bce-aca2-865c55179072",
   "metadata": {},
   "outputs": [],
   "source": [
    "### set directory\n",
    "txt_assay  = \"MPRA_Lenti_K562_Nadav_Vikram\"\n",
    "txt_folder = \"fragment_counts\"\n",
    "txt_fdiry  = file.path(FD_RES, \"assay_fcc\", txt_assay, txt_folder)\n",
    "txt_fname  = \"LMPRA_K562.hg38.Log2FC.stranded.bed.gz\"\n",
    "txt_fpath  = file.path(txt_fdiry, txt_fname)\n",
    "\n",
    "### init\n",
    "txt_cmd = paste(\"mkdir -p\", txt_fdiry)\n",
    "system(txt_cmd)\n",
    "\n",
    "### write table\n",
    "dat = dat_lmpra_score_log2fc\n",
    "write_tsv(dat, txt_fpath, col_names=FALSE)"
   ]
  },
  {
   "cell_type": "code",
   "execution_count": 8,
   "id": "5bde1010-4c7a-4eac-9189-23019eeaf7eb",
   "metadata": {},
   "outputs": [],
   "source": [
    "### set directory\n",
    "txt_assay  = \"MPRA_Lenti_K562_Nadav_Vikram\"\n",
    "txt_folder = \"fragment_counts\"\n",
    "txt_fdiry  = file.path(FD_RES, \"assay_fcc\", txt_assay, txt_folder)\n",
    "txt_fname  = \"LMPRA_K562.hg38.ZScore.stranded.bed.gz\"\n",
    "txt_fpath  = file.path(txt_fdiry, txt_fname)\n",
    "\n",
    "### init\n",
    "txt_cmd = paste(\"mkdir -p\", txt_fdiry)\n",
    "system(txt_cmd)\n",
    "\n",
    "### write table\n",
    "dat = dat_lmpra_score_zscore\n",
    "write_tsv(dat, txt_fpath, col_names=FALSE)"
   ]
  },
  {
   "cell_type": "markdown",
   "id": "b59a8e50-0c65-46d4-b92b-140c3bb5c56f",
   "metadata": {},
   "source": [
    "**Check results**"
   ]
  },
  {
   "cell_type": "code",
   "execution_count": 17,
   "id": "0e33e493-af23-4583-b257-2792e3381212",
   "metadata": {},
   "outputs": [
    {
     "name": "stdout",
     "output_type": "stream",
     "text": [
      "chr1\t115631\t115831\tpeak1_Reversed:\t0.04\t- \n",
      "chr1\t138940\t139140\tpeak2_Reversed:\t-0.101\t- \n",
      "chr1\t138940\t139140\tpeak2\t-0.543\t+ \n",
      "chr1\t203225\t203425\tpeak3\t-0.186\t+ \n",
      "chr1\t203225\t203425\tpeak3_Reversed:\t-0.281\t- \n",
      "chr1\t267911\t268111\tpeak4_Reversed:\t-0.967\t- \n",
      "chr1\t267911\t268111\tpeak4\t0.225\t+ \n",
      "chr1\t586093\t586293\tpeak5\t-0.441\t+ \n",
      "chr1\t586093\t586293\tpeak5_Reversed:\t-0.108\t- \n",
      "chr1\t629847\t630047\tpeak6_Reversed:\t-0.923\t- \n"
     ]
    }
   ],
   "source": [
    "### set directory\n",
    "txt_assay  = \"MPRA_Lenti_K562_Nadav_Vikram\"\n",
    "txt_folder = \"fragment_counts\"\n",
    "txt_fdiry  = file.path(FD_RES, \"assay_fcc\", txt_assay, txt_folder)\n",
    "txt_fname  = \"LMPRA_K562.hg38.Log2FC.stranded.bed.gz\"\n",
    "txt_fpath  = file.path(txt_fdiry, txt_fname)\n",
    "\n",
    "### \n",
    "txt_cmd = paste(\"zcat\", txt_fpath, \"| head\")\n",
    "vec     = system(txt_cmd, intern = TRUE)\n",
    "for(txt in vec){cat(txt, \"\\n\")}"
   ]
  },
  {
   "cell_type": "code",
   "execution_count": 18,
   "id": "420c8c82-026b-4617-a571-c07e718a7910",
   "metadata": {},
   "outputs": [
    {
     "name": "stdout",
     "output_type": "stream",
     "text": [
      "chr1\t115631\t115831\tpeak1_Reversed:\t2.0511007569226227\t- \n",
      "chr1\t138940\t139140\tpeak2_Reversed:\t1.5391817792648435\t- \n",
      "chr1\t138940\t139140\tpeak2\t-0.06555714360564233\t+ \n",
      "chr1\t203225\t203425\tpeak3\t1.2305781402512883\t+ \n",
      "chr1\t203225\t203425\tpeak3_Reversed:\t0.8856681907655505\t- \n",
      "chr1\t267911\t268111\tpeak4_Reversed:\t-1.6049447076261982\t- \n",
      "chr1\t267911\t268111\tpeak4\t2.7227675006580068\t+ \n",
      "chr1\t586093\t586293\tpeak5\t0.30476722321062366\t+ \n",
      "chr1\t586093\t586293\tpeak5_Reversed:\t1.5137673619343153\t- \n",
      "chr1\t629847\t630047\tpeak6_Reversed:\t-1.4451969415485937\t- \n"
     ]
    }
   ],
   "source": [
    "### set directory\n",
    "txt_assay  = \"MPRA_Lenti_K562_Nadav_Vikram\"\n",
    "txt_folder = \"fragment_counts\"\n",
    "txt_fdiry  = file.path(FD_RES, \"assay_fcc\", txt_assay, txt_folder)\n",
    "txt_fname  = \"LMPRA_K562.hg38.ZScore.stranded.bed.gz\"\n",
    "txt_fpath  = file.path(txt_fdiry, txt_fname)\n",
    "\n",
    "### \n",
    "txt_cmd = paste(\"zcat\", txt_fpath, \"| head\")\n",
    "vec     = system(txt_cmd, intern = TRUE)\n",
    "for(txt in vec){cat(txt, \"\\n\")}"
   ]
  },
  {
   "cell_type": "code",
   "execution_count": null,
   "id": "419155b0-24ea-429d-a282-71563e891b7d",
   "metadata": {},
   "outputs": [],
   "source": []
  }
 ],
 "metadata": {
  "kernelspec": {
   "display_name": "R",
   "language": "R",
   "name": "ir"
  },
  "language_info": {
   "codemirror_mode": "r",
   "file_extension": ".r",
   "mimetype": "text/x-r-source",
   "name": "R",
   "pygments_lexer": "r",
   "version": "4.3.3"
  }
 },
 "nbformat": 4,
 "nbformat_minor": 5
}
