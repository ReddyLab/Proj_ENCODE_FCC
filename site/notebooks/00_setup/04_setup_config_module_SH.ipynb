{
 "cells": [
  {
   "cell_type": "raw",
   "id": "9f41f307-0bad-4e4f-a366-88e05c633f3b",
   "metadata": {},
   "source": [
    "---\n",
    "title: Setup Envionment 04\n",
    "subtitle: Project configuration when importing modules\n",
    "format:\n",
    "    html:\n",
    "        code-fold:  true\n",
    "        code-tools: true\n",
    "---"
   ]
  },
  {
   "cell_type": "markdown",
   "id": "3438aeeb-f983-48f2-9320-a72a6e4af21e",
   "metadata": {},
   "source": [
    "**Set environment**"
   ]
  },
  {
   "cell_type": "code",
   "execution_count": 1,
   "id": "d2f9f2b7-5bba-44da-8900-6a19811f7e0a",
   "metadata": {},
   "outputs": [
    {
     "name": "stdout",
     "output_type": "stream",
     "text": [
      "You are working on             Duke Server: HARDAC\n",
      "BASE DIRECTORY (FD_BASE):      /data/reddylab/Kuei\n",
      "REPO DIRECTORY (FD_REPO):      /data/reddylab/Kuei/repo\n",
      "WORK DIRECTORY (FD_WORK):      /data/reddylab/Kuei/work\n",
      "DATA DIRECTORY (FD_DATA):      /data/reddylab/Kuei/data\n",
      "CONTAINER DIR. (FD_SING):      /data/reddylab/Kuei/container\n",
      "\n",
      "You are working with           ENCODE FCC\n",
      "PATH OF PROJECT (FD_PRJ):      /data/reddylab/Kuei/repo/Proj_ENCODE_FCC\n",
      "PROJECT RESULTS (FD_RES):      /data/reddylab/Kuei/repo/Proj_ENCODE_FCC/results\n",
      "PROJECT SCRIPTS (FD_EXE):      /data/reddylab/Kuei/repo/Proj_ENCODE_FCC/scripts\n",
      "PROJECT DATA    (FD_DAT):      /data/reddylab/Kuei/repo/Proj_ENCODE_FCC/data\n",
      "PROJECT NOTE    (FD_NBK):      /data/reddylab/Kuei/repo/Proj_ENCODE_FCC/notebooks\n",
      "PROJECT DOCS    (FD_DOC):      /data/reddylab/Kuei/repo/Proj_ENCODE_FCC/docs\n",
      "PROJECT LOG     (FD_LOG):      /data/reddylab/Kuei/repo/Proj_ENCODE_FCC/log\n",
      "PROJECT APP     (FD_APP):      /data/reddylab/Kuei/repo/Proj_ENCODE_FCC/app\n",
      "PROJECT REF     (FD_REF):      /data/reddylab/Kuei/repo/Proj_ENCODE_FCC/references\n",
      "PROJECT IMAGE   (FP_PRJ_SIF):  /data/reddylab/Kuei/repo/Proj_ENCODE_FCC/app/singularity_proj_encode_fcc.sif\n",
      "\n"
     ]
    }
   ],
   "source": [
    "source ../run_config_project.sh\n",
    "show_env"
   ]
  },
  {
   "cell_type": "markdown",
   "id": "72c68980-ffcf-44d0-9426-c464e01491cf",
   "metadata": {},
   "source": [
    "## Setup config for loading bedtools module"
   ]
  },
  {
   "cell_type": "code",
   "execution_count": 3,
   "id": "6dc161cd-a9d1-4d54-a0a4-638cd81b3b66",
   "metadata": {},
   "outputs": [
    {
     "name": "stdout",
     "output_type": "stream",
     "text": [
      "\u001b[0m\u001b[38;5;27m/data/reddylab/Kuei/repo/Proj_ENCODE_FCC/scripts\u001b[0m\n"
     ]
    }
   ],
   "source": [
    "ls -d ${FD_EXE}"
   ]
  },
  {
   "cell_type": "code",
   "execution_count": 4,
   "id": "24919b52-f350-4f56-9a55-b5953aa5545f",
   "metadata": {
    "jp-MarkdownHeadingCollapsed": true,
    "tags": []
   },
   "outputs": [
    {
     "name": "stdout",
     "output_type": "stream",
     "text": [
      "#!/bin/bash\n",
      "\n",
      "### Check which duke server I am at and load the corresponding modules\n",
      "\n",
      "if echo $(pwd -P) | grep -q \"gpfs\"; then\n",
      "    #echo \"You are on Duke Server: HARDAC\"\n",
      "    module load bedtools2\n",
      "fi\n",
      "\n",
      "if echo $(pwd -P) | grep -q \"hpc\"; then\n",
      "    #echo \"You are on Duke Server: DCC\"\n",
      "    module load Bedtools\n",
      "fi\n",
      "\n"
     ]
    }
   ],
   "source": [
    "cat > ${FD_EXE}/config_load_module_bedtools.sh << 'EOF'\n",
    "#!/bin/bash\n",
    "\n",
    "### Check which duke server I am at and load the corresponding modules\n",
    "\n",
    "if echo $(pwd -P) | grep -q \"gpfs\"; then\n",
    "    #echo \"You are on Duke Server: HARDAC\"\n",
    "    module load bedtools2\n",
    "fi\n",
    "\n",
    "if echo $(pwd -P) | grep -q \"hpc\"; then\n",
    "    #echo \"You are on Duke Server: DCC\"\n",
    "    module load Bedtools\n",
    "fi\n",
    "\n",
    "EOF\n",
    "\n",
    "cat ${FD_EXE}/config_load_module_bedtools.sh"
   ]
  },
  {
   "cell_type": "markdown",
   "id": "43769966-7cce-40d3-a1d4-a5d899943983",
   "metadata": {},
   "source": [
    "## Setup config for loading bedops module"
   ]
  },
  {
   "cell_type": "code",
   "execution_count": 6,
   "id": "46e67752-6ecd-4a61-81ac-29dbe9bfa0ab",
   "metadata": {},
   "outputs": [
    {
     "name": "stdout",
     "output_type": "stream",
     "text": [
      "#!/bin/bash\n",
      "\n",
      "### Check which duke server I am at and load the corresponding modules\n",
      "\n",
      "if echo $(pwd -P) | grep -q \"gpfs\"; then\n",
      "    #echo \"You are on Duke Server: HARDAC\"\n",
      "    module load bedops\n",
      "fi\n",
      "\n"
     ]
    }
   ],
   "source": [
    "cat > ${FD_EXE}/config_load_module_bedops.sh << 'EOF'\n",
    "#!/bin/bash\n",
    "\n",
    "### Check which duke server I am at and load the corresponding modules\n",
    "\n",
    "if echo $(pwd -P) | grep -q \"gpfs\"; then\n",
    "    #echo \"You are on Duke Server: HARDAC\"\n",
    "    module load bedops\n",
    "fi\n",
    "\n",
    "EOF\n",
    "\n",
    "cat ${FD_EXE}/config_load_module_bedops.sh"
   ]
  },
  {
   "cell_type": "code",
   "execution_count": null,
   "id": "e2c68f98-3c2b-4e0f-a75c-e59a7b8e313b",
   "metadata": {},
   "outputs": [],
   "source": []
  }
 ],
 "metadata": {
  "kernelspec": {
   "display_name": "Bash",
   "language": "bash",
   "name": "bash"
  },
  "language_info": {
   "codemirror_mode": "shell",
   "file_extension": ".sh",
   "mimetype": "text/x-sh",
   "name": "bash"
  }
 },
 "nbformat": 4,
 "nbformat_minor": 5
}
