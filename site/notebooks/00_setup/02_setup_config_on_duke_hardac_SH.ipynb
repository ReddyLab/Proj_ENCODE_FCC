{
 "cells": [
  {
   "cell_type": "raw",
   "id": "89b1f44c-2f6e-48c9-a147-990ce9801764",
   "metadata": {},
   "source": [
    "---\n",
    "title: Setup Envionment 02\n",
    "subtitle: Project configuration on HARDAC\n",
    "format:\n",
    "    html:\n",
    "        code-fold:  true\n",
    "        code-tools: true\n",
    "---"
   ]
  },
  {
   "cell_type": "markdown",
   "id": "e1bc4ef2-06cc-4509-b189-58816004d676",
   "metadata": {},
   "source": [
    "**Set environment**"
   ]
  },
  {
   "cell_type": "code",
   "execution_count": 18,
   "id": "a4b98ae5-c330-4590-b5cc-fe8e6659c5a6",
   "metadata": {},
   "outputs": [
    {
     "name": "stdout",
     "output_type": "stream",
     "text": [
      "\u001b[0m\u001b[38;5;27mapp\u001b[0m   \u001b[38;5;27mdocs\u001b[0m  \u001b[38;5;27mnotebooks\u001b[0m  \u001b[38;5;27mreferences\u001b[0m  \u001b[38;5;27mscripts\u001b[0m  \u001b[38;5;27mtests\u001b[0m\n",
      "\u001b[38;5;51mdata\u001b[0m  \u001b[38;5;51mlog\u001b[0m   README.md  \u001b[38;5;51mresults\u001b[0m     \u001b[38;5;27msite\u001b[0m     \u001b[38;5;27mtmp\u001b[0m\n"
     ]
    }
   ],
   "source": [
    "ls /data/reddylab/Kuei/repo/Proj_CombEffect_ENCODE_FCC"
   ]
  },
  {
   "cell_type": "code",
   "execution_count": 19,
   "id": "04f78bd3-10e9-471a-bbdf-1c98df070220",
   "metadata": {},
   "outputs": [],
   "source": [
    "FD_PRJ=/data/reddylab/Kuei/repo/Proj_CombEffect_ENCODE_FCC"
   ]
  },
  {
   "cell_type": "markdown",
   "id": "7b0a9eee-0423-43e8-83a4-52f084df60ab",
   "metadata": {
    "tags": []
   },
   "source": [
    "## Setup `config_project.sh`"
   ]
  },
  {
   "cell_type": "markdown",
   "id": "b9ce286f-b606-4386-bdd6-40ac9e687d22",
   "metadata": {},
   "source": [
    "## Setup `config_func.sh`"
   ]
  },
  {
   "cell_type": "markdown",
   "id": "d63adb4f-63f5-41ca-8f5c-8a58cbdcf35e",
   "metadata": {},
   "source": [
    "```\n",
    "### https://unix.stackexchange.com/questions/72661/show-sum-of-file-sizes-in-directory-listing\n",
    "#dir () { ls -FaGlh \"${@}\" | awk '{ total += $4; print }; END { print total }'; }\n",
    "dir() { \n",
    "    ls -lhaG --color=always \"${@}\" |\\\n",
    "    sed -re 's/^([^ ]* ){3}//' |\\\n",
    "    awk '{ total += $1; print }; END { print total }'\n",
    "}\n",
    "\n",
    "### https://unix.stackexchange.com/questions/27013/displaying-seconds-as-days-hours-mins-seconds\n",
    "function displaytime {\n",
    "  local T=$1\n",
    "  local D=$((T/60/60/24))\n",
    "  local H=$((T/60/60%24))\n",
    "  local M=$((T/60%60))\n",
    "  local S=$((T%60))\n",
    "  (( $D > 0 )) && printf '%d days ' $D\n",
    "  (( $H > 0 )) && printf '%d hours ' $H\n",
    "  (( $M > 0 )) && printf '%d minutes ' $M\n",
    "  (( $D > 0 || $H > 0 || $M > 0 )) && printf 'and '\n",
    "  printf '%d seconds\\n' $S\n",
    "}\n",
    "\n",
    "### helper function\n",
    "function fun_cat {\n",
    "    FPATH=$1\n",
    "    \n",
    "    ### check if file is a symlink, if yes, get the file path\n",
    "    if [[ -h ${FPATH} ]]; then\n",
    "        FPATH=$(readlink -f ${FPATH})\n",
    "    fi\n",
    "    \n",
    "    ### check if file is compress, if yes: `zcat`, else: `cat`\n",
    "    if (file ${FPATH} | grep -q compressed); then\n",
    "        zcat ${FPATH}\n",
    "    else\n",
    "        cat  ${FPATH}\n",
    "    fi\n",
    "}\n",
    "```"
   ]
  },
  {
   "cell_type": "markdown",
   "id": "afb925f9-a9b1-46fa-a311-eed70e8431da",
   "metadata": {},
   "source": [
    "### `fun_cat`"
   ]
  },
  {
   "cell_type": "markdown",
   "id": "8136f6fc-bf08-4058-b18a-659d0347b7e4",
   "metadata": {},
   "source": [
    "**Define function**"
   ]
  },
  {
   "cell_type": "code",
   "execution_count": 4,
   "id": "743b9a5e-51c1-454f-9167-990125deb16e",
   "metadata": {},
   "outputs": [],
   "source": [
    "function fun_cat {\n",
    "    FPATH=$1\n",
    "    \n",
    "    ### check if file is a symlink, if yes, get the file path\n",
    "    if [[ -h ${FPATH} ]]; then\n",
    "        FPATH=$(readlink -f ${FPATH})\n",
    "    fi\n",
    "    \n",
    "    ### check if file is compress, if yes: `zcat`, else: `cat`\n",
    "    if (file ${FPATH} | grep -q compressed); then\n",
    "        zcat ${FPATH}\n",
    "    else\n",
    "        cat  ${FPATH}\n",
    "    fi\n",
    "}"
   ]
  },
  {
   "cell_type": "markdown",
   "id": "e394fd7e-af52-4d16-aa22-755a722b51db",
   "metadata": {},
   "source": [
    "**Test function**"
   ]
  },
  {
   "cell_type": "markdown",
   "id": "e6b96b7c-5cbc-4ebc-bc6b-03106d1cb01e",
   "metadata": {},
   "source": [
    "Create test files"
   ]
  },
  {
   "cell_type": "code",
   "execution_count": 5,
   "id": "cbfc6baf-2c7d-4b91-a6c5-0a7d8ace6b96",
   "metadata": {},
   "outputs": [],
   "source": [
    "### create a text file\n",
    "cat > test.txt << EOF\n",
    "Hello!\n",
    "How are you?\n",
    "EOF\n",
    "\n",
    "### compress the text file\n",
    "gzip -c test.txt > test.txt.gz\n",
    "\n",
    "### create symlink of the plain/compressed files\n",
    "ln -f -s test.txt    link2test\n",
    "ln -f -s test.txt.gz link2testgz"
   ]
  },
  {
   "cell_type": "code",
   "execution_count": 8,
   "id": "8b753a85-4f3b-497a-913a-b2f93a3515e9",
   "metadata": {},
   "outputs": [
    {
     "name": "stdout",
     "output_type": "stream",
     "text": [
      "test.txt  \u001b[0m\u001b[38;5;9mtest.txt.gz\u001b[0m\n"
     ]
    }
   ],
   "source": [
    "ls test*"
   ]
  },
  {
   "cell_type": "code",
   "execution_count": 10,
   "id": "9a771d26-8bbd-4a53-8d68-f1c3ead8afb0",
   "metadata": {},
   "outputs": [
    {
     "name": "stdout",
     "output_type": "stream",
     "text": [
      "lrwxrwxrwx 1 kk319 reddylab  8 Mar 12 11:06 \u001b[0m\u001b[38;5;51mlink2test\u001b[0m -> test.txt\n",
      "lrwxrwxrwx 1 kk319 reddylab 11 Mar 12 11:06 \u001b[38;5;51mlink2testgz\u001b[0m -> \u001b[38;5;9mtest.txt.gz\u001b[0m\n"
     ]
    }
   ],
   "source": [
    "ls -l link*"
   ]
  },
  {
   "cell_type": "markdown",
   "id": "1776aef9-dddf-4cca-8c74-7c191ed97425",
   "metadata": {},
   "source": [
    "run function"
   ]
  },
  {
   "cell_type": "code",
   "execution_count": 11,
   "id": "a28e2b83-4520-4e86-aec5-e9e5791b8b0b",
   "metadata": {},
   "outputs": [
    {
     "name": "stdout",
     "output_type": "stream",
     "text": [
      "Hello!\n",
      "How are you?\n"
     ]
    }
   ],
   "source": [
    "fun_cat test.txt"
   ]
  },
  {
   "cell_type": "code",
   "execution_count": 12,
   "id": "16cd5fbe-9ecf-4e2e-9e18-13f7302de4cb",
   "metadata": {},
   "outputs": [
    {
     "name": "stdout",
     "output_type": "stream",
     "text": [
      "Hello!\n",
      "How are you?\n"
     ]
    }
   ],
   "source": [
    "fun_cat test.txt.gz"
   ]
  },
  {
   "cell_type": "code",
   "execution_count": 13,
   "id": "b4f0d728-9206-43ed-9ba0-86c19687a376",
   "metadata": {},
   "outputs": [
    {
     "name": "stdout",
     "output_type": "stream",
     "text": [
      "Hello!\n",
      "How are you?\n"
     ]
    }
   ],
   "source": [
    "fun_cat link2test"
   ]
  },
  {
   "cell_type": "code",
   "execution_count": 14,
   "id": "531756a5-cfca-4e73-ae19-1b2168fff677",
   "metadata": {},
   "outputs": [
    {
     "name": "stdout",
     "output_type": "stream",
     "text": [
      "Hello!\n",
      "How are you?\n"
     ]
    }
   ],
   "source": [
    "fun_cat link2testgz"
   ]
  },
  {
   "cell_type": "markdown",
   "id": "db73085f-f6a0-4817-8c3a-ce8ee910fa98",
   "metadata": {},
   "source": [
    "## Setup `run_config_project.sh`"
   ]
  },
  {
   "cell_type": "code",
   "execution_count": null,
   "id": "89c9dd83-12cb-4d39-97bf-7d038bd274d7",
   "metadata": {},
   "outputs": [],
   "source": []
  }
 ],
 "metadata": {
  "kernelspec": {
   "display_name": "Bash",
   "language": "bash",
   "name": "bash"
  },
  "language_info": {
   "codemirror_mode": "shell",
   "file_extension": ".sh",
   "mimetype": "text/x-sh",
   "name": "bash"
  }
 },
 "nbformat": 4,
 "nbformat_minor": 5
}
